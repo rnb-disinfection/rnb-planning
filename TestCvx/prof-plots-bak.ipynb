{
 "cells": [
  {
   "cell_type": "code",
   "execution_count": 2,
   "metadata": {},
   "outputs": [],
   "source": [
    "import pandas as pd\n",
    "import matplotlib.pyplot as plt\n",
    "import numpy as np\n",
    "import matplotlib\n",
    "from math import sqrt"
   ]
  },
  {
   "cell_type": "code",
   "execution_count": 33,
   "metadata": {},
   "outputs": [
    {
     "data": {
      "image/png": "[encoded data removed]",
      "text/plain": [
       "<Figure size 432x288 with 1 Axes>"
      ]
     },
     "metadata": {
      "needs_background": "light"
     },
     "output_type": "display_data"
    },
    {
     "name": "stderr",
     "output_type": "stream",
     "text": [
      "/home/shane/miniconda3/envs/cvxpylayers/lib/python3.7/site-packages/numpy/core/fromnumeric.py:3257: RuntimeWarning: Mean of empty slice.\n",
      "  out=out, **kwargs)\n",
      "/home/shane/miniconda3/envs/cvxpylayers/lib/python3.7/site-packages/numpy/core/_methods.py:161: RuntimeWarning: invalid value encountered in double_scalars\n",
      "  ret = ret.dtype.type(ret / rcount)\n"
     ]
    },
    {
     "data": {
      "image/png": "[encoded data removed]",
      "text/plain": [
       "<Figure size 288x288 with 1 Axes>"
      ]
     },
     "metadata": {
      "needs_background": "light"
     },
     "output_type": "display_data"
    }
   ],
   "source": [
    "results = pd.read_csv('results.csv')\n",
    "\n",
    "for qp in sorted(results.qp.unique()):\n",
    "    for nz in results.nz.unique():\n",
    "        for nbatch in results.nbatch.unique():\n",
    "            x = 0\n",
    "            xs, forwards, backwards, overall = [], [], [], []\n",
    "            canons, dcanons = [], []\n",
    "            for mode, cuda in [('qpth', 'True'), ('qpth', 'False'), ('cvxpylayers', 'False')]:\n",
    "                for direction in ['forward', 'backward']:\n",
    "                    a = results.query(\n",
    "                        f\"qp == '{qp}' & mode == '{mode}' & cuda == {cuda} & \" + \\\n",
    "                        f\"direction == '{direction}' & nz == {nz} & nbatch == {nbatch}\"\n",
    "                    )\n",
    "                    t = np.array(a.time)\n",
    "                    \n",
    "                    if mode == 'cvxpylayers':\n",
    "                        if direction == 'forward':\n",
    "                            t -= np.array(a.canon_time)\n",
    "                            canons.append(a.canon_time.mean())\n",
    "                        else:\n",
    "                            t -= np.array(a.dcanon_time)\n",
    "                            dcanons.append(a.dcanon_time.mean())\n",
    "                    if direction == 'forward':\n",
    "                        forwards.append(np.mean(t))\n",
    "                        if mode == 'cvxpylayers':\n",
    "                            overall.append(t + np.array(a.canon_time))\n",
    "                        else:\n",
    "                            overall.append(t)\n",
    "                    else:\n",
    "                        backwards.append(np.mean(t))\n",
    "                        if mode == 'cvxpylayers':\n",
    "                            overall[-1] += t + np.array(a.dcanon_time)\n",
    "                        else:\n",
    "                            overall[-1] += t\n",
    "                x += 1\n",
    "                xs.append(x)\n",
    "            \n",
    "            if np.all(np.isnan(forwards)):\n",
    "                continue\n",
    "                \n",
    "            xlabels = ['qpth GPU', 'qpth CPU', 'cvxpylayers']\n",
    "            I = (~np.isnan(forwards))\n",
    "            forwards = np.array(forwards)[I]\n",
    "            backwards = np.array(backwards)[I]\n",
    "            overall = np.array(overall)[I]\n",
    "            xs = np.array(xs)[I]\n",
    "            xlabels = np.array(xlabels)[I]\n",
    "                \n",
    "            fig, ax = plt.subplots(1, 1, figsize=(2*len(xs),4))\n",
    "            ax.bar(xs, forwards, label='forward', color='#7293cb')\n",
    "            ax.bar(xs[:-1], backwards[:-1], yerr=[o.std() for o in overall[:-1]], bottom = forwards[:-1], label='backward', color='#e1974c')\n",
    "            ax.bar(xs[-1], backwards[-1], bottom=forwards[-1], color='#e1974c')\n",
    "            ax.bar(xs[-1], canons[0], bottom=backwards[-1]+forwards[-1], color='#ab6857', label='canon')\n",
    "            ax.bar(xs[-1], dcanons[0], yerr=overall[-1].std(), bottom=backwards[-1]+forwards[-1]+canons[-1], color='#d35e60', label='retrieval')\n",
    "            ax.set_xticks(xs)\n",
    "            ax.set_xticklabels(xlabels, rotation=0, ha='center')\n",
    "            ax.set_ylabel('time (s)')\n",
    "            ax.legend()\n",
    "            fig.tight_layout()\n",
    "            fig.savefig(f\"{qp}_results.pdf\")\n",
    "            plt.show(fig)\n",
    "            plt.close(fig)"
   ]
  },
  {
   "cell_type": "code",
   "execution_count": null,
   "metadata": {},
   "outputs": [],
   "source": []
  }
 ],
 "metadata": {
  "kernelspec": {
   "display_name": "Python 3",
   "language": "python",
   "name": "python3"
  },
  "language_info": {
   "codemirror_mode": {
    "name": "ipython",
    "version": 3
   },
   "file_extension": ".py",
   "mimetype": "text/x-python",
   "name": "python",
   "nbconvert_exporter": "python",
   "pygments_lexer": "ipython3",
   "version": "3.7.4"
  }
 },
 "nbformat": 4,
 "nbformat_minor": 2
}
