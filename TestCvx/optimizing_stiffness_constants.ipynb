{
 "cells": [
  {
   "cell_type": "markdown",
   "metadata": {},
   "source": [
    "# Optimizing Stiffness Constants\n",
    "\n",
    "Suppose we have $n$ blocks, each of width $w$, at positions $x\\in\\mathbb{R}^n$.\n",
    "The blocks are positioned between two walls at $0$ and $l$.\n",
    "The leftmost block is connected to the left wall via a spring with stiffness coefficient $k_1$,\n",
    "the rightmost block is connected to the right wall via a spring with stiffness coefficient $k_{n+1}$,\n",
    "and the $i$th block is connected to the $(i+1)$th block via a spring with stiffness coefficient $k_{i+1}$.\n",
    "The equilibrium position of all the blocks can be found by solving the optimization problem\n",
    "\\begin{equation}\n",
    "\\begin{array}{ll}\n",
    "\\mbox{minimize} & \\frac{1}{2}k_1x_1^2 + \\frac{1}{2}k_2(x_2-x_1)^2 + \\ldots + \\frac{1}{2}k_{n+1}(l-x_n)^2\\\\[.2cm]\n",
    "\\mbox{subject to} & x_1 \\geq w/2, \\quad x_n \\leq l - w/2, \\\\\n",
    "& x_i - x_{i-1} \\geq w, \\quad i=2,\\ldots,n-1,\n",
    "\\end{array}\n",
    "\\label{eq:prob}\n",
    "\\end{equation}\n",
    "with variable $x$ and solution denoted $x^\\star$.\n",
    "The objective is the potential energy of the system, and the constraints express\n",
    "the fact that the blocks have a width, and cannot penetrate each other or the walls."
   ]
  },
  {
   "cell_type": "code",
   "execution_count": 14,
   "metadata": {},
   "outputs": [],
   "source": [
    "# NOTE: this notebook requires ffmpeg, which can be installed on ubuntu with \"sudo apt install ffmpeg\"\n",
    "# and on mac with \"brew install ffmpeg\"\n",
    "import cvxpy as cp\n",
    "import numpy as np\n",
    "import matplotlib.pyplot as plt\n",
    "import tensorflow as tf\n",
    "from cvxpylayers.tensorflow import CvxpyLayer\n",
    "import matplotlib.patches as patches\n",
    "from matplotlib import animation, rc\n",
    "rc('animation', html='html5')"
   ]
  },
  {
   "cell_type": "markdown",
   "metadata": {},
   "source": [
    "We can easily set up this problem as a CVXPY problem, with parameter $k$ and variable $x$:"
   ]
  },
  {
   "cell_type": "code",
   "execution_count": 15,
   "metadata": {},
   "outputs": [],
   "source": [
    "n = 5\n",
    "l = 1\n",
    "w = .05\n",
    "\n",
    "k = cp.Parameter(n + 1, nonneg=True)\n",
    "x = cp.Variable(n + 2)\n",
    "objective = cp.sum(cp.multiply(k, .5 * cp.square(cp.diff(x))))\n",
    "constraints = [x[0] == 0, x[-1] == l] + [x[i] - x[i-1] >= w for i in range(1, n+2)]\n",
    "prob = cp.Problem(cp.Minimize(objective), constraints)"
   ]
  },
  {
   "cell_type": "markdown",
   "metadata": {},
   "source": [
    "We can easily convert this problem to a `tensorflow` `CvxpyLayer` in one line.\n",
    "The layer maps stiffness coefficients to block positions, or $x^\\star(k)$."
   ]
  },
  {
   "cell_type": "code",
   "execution_count": 17,
   "metadata": {},
   "outputs": [],
   "source": [
    "prob_tf = CvxpyLayer(prob, [k], [x])"
   ]
  },
  {
   "cell_type": "markdown",
   "metadata": {},
   "source": [
    "Our goal is to tune the stiffness coefficients such that the block positions are close to target positions,\n",
    "or solve the problem\n",
    "\\begin{equation}\n",
    "\\begin{array}{ll}\n",
    "\\mbox{minimize} & \\|x^\\star(k) - x^\\mathrm{targ}\\|_2^2,\n",
    "\\end{array}\n",
    "\\end{equation}\n",
    "with variable $k\\in\\mathbb{R}^{n+1}$."
   ]
  },
  {
   "cell_type": "code",
   "execution_count": 18,
   "metadata": {},
   "outputs": [
    {
     "data": {
      "text/plain": [
       "<tf.Tensor: shape=(5,), dtype=float64, numpy=array([0.04779355, 0.28081525, 0.32104743, 0.33551271, 0.80628428])>"
      ]
     },
     "execution_count": 18,
     "metadata": {},
     "output_type": "execute_result"
    }
   ],
   "source": [
    "tf.random.set_seed(1)\n",
    "k = tf.constant(tf.ones([n + 1], dtype=tf.float64))\n",
    "x_targ = tf.sort(tf.random.uniform([n], dtype=tf.float64))\n",
    "x_targ"
   ]
  },
  {
   "cell_type": "markdown",
   "metadata": {},
   "source": [
    "We can (approximately) solve this problem via gradient descent:"
   ]
  },
  {
   "cell_type": "code",
   "execution_count": 19,
   "metadata": {},
   "outputs": [
    {
     "data": {
      "image/png": "[encoded data removed]",
      "text/plain": [
       "<Figure size 432x288 with 1 Axes>"
      ]
     },
     "metadata": {
      "needs_background": "light"
     },
     "output_type": "display_data"
    }
   ],
   "source": [
    "x, = prob_tf(k)\n",
    "x_np = x.numpy()\n",
    "\n",
    "fig, ax = plt.subplots()\n",
    "ax.set_xlim((0, 1))\n",
    "ax.set_ylim((0, w*4))\n",
    "rects = []\n",
    "for i in range(n):\n",
    "    plt.axvline(x_targ[i].numpy(), c='k')\n",
    "    rect = patches.Rectangle((x_np[i + 1] - w/2, 0), w, w, linewidth=1, edgecolor='k', facecolor='none')\n",
    "    ax.add_patch(rect)\n",
    "    rects.append(rect)\n",
    "\n",
    "def animate(i):\n",
    "    global k\n",
    "    with tf.GradientTape() as tape:\n",
    "        tape.watch(k)\n",
    "        x, = prob_tf(k)\n",
    "        loss = tf.reduce_sum((x[1:-1] - x_targ)**2)\n",
    "    grad, = tape.gradient(loss, [k])\n",
    "    k = k - .1 * grad\n",
    "    k = tf.maximum(k, 0.0)\n",
    "    for i in range(n):\n",
    "        rects[i].xy = (x.numpy()[i + 1] - w/2, 0)\n",
    "    return rects\n",
    "\n",
    "# anim = animation.FuncAnimation(fig, animate,\n",
    "#                                frames=300, interval=50, blit=True)\n",
    "# anim"
   ]
  },
  {
   "cell_type": "code",
   "execution_count": null,
   "metadata": {},
   "outputs": [],
   "source": []
  }
 ],
 "metadata": {
  "@webio": {
   "lastCommId": null,
   "lastKernelId": null
  },
  "kernelspec": {
   "display_name": "Python 3",
   "language": "python",
   "name": "python3"
  },
  "language_info": {
   "codemirror_mode": {
    "name": "ipython",
    "version": 3
   },
   "file_extension": ".py",
   "mimetype": "text/x-python",
   "name": "python",
   "nbconvert_exporter": "python",
   "pygments_lexer": "ipython3",
   "version": "3.6.9"
  }
 },
 "nbformat": 4,
 "nbformat_minor": 2
}
