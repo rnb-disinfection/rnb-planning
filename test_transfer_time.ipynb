{
 "cells": [
  {
   "cell_type": "code",
   "execution_count": 1,
   "metadata": {},
   "outputs": [],
   "source": [
    "# Disable GPU\n",
    "import os\n",
    "os.environ[\"CUDA_VISIBLE_DEVICES\"] = \"-1\"\n",
    "import tensorflow as tf"
   ]
  },
  {
   "cell_type": "code",
   "execution_count": 2,
   "metadata": {},
   "outputs": [],
   "source": [
    "import matplotlib.pyplot as plt\n",
    "import time"
   ]
  },
  {
   "cell_type": "code",
   "execution_count": 3,
   "metadata": {},
   "outputs": [],
   "source": [
    "from tensorflow import keras\n",
    "from tensorflow.keras import layers\n",
    "from tensorflow.keras import backend as K\n",
    "import numpy as np\n",
    "from itertools import combinations"
   ]
  },
  {
   "cell_type": "code",
   "execution_count": 4,
   "metadata": {},
   "outputs": [],
   "source": [
    "from urdf_parser_py.urdf import URDF\n",
    "from pkg.ur10 import URDF_PATH, JOINT_NAMES, LINK_NAMES, ZERO_JOINT_POSE\n",
    "from pkg.joint_utils import *\n",
    "from pkg.ros_rviz import *"
   ]
  },
  {
   "cell_type": "code",
   "execution_count": 5,
   "metadata": {},
   "outputs": [],
   "source": [
    "from pkg.tf_transform import *\n",
    "from pkg.tf_robot import *\n",
    "from pkg.constraint import *\n",
    "from pkg.info import *\n",
    "from pkg.tf_utils import *\n",
    "from pkg.rotation_utils import *\n",
    "from pkg.utils import *\n",
    "from pkg.ur10 import *\n",
    "from pkg.geometry import *\n",
    "from pkg.collision import *\n",
    "from pkg.distance import *\n",
    "from pkg.distance_calculator import *\n",
    "from pkg.binding_calculator import *\n",
    "from pkg.graph_tf import *"
   ]
  },
  {
   "cell_type": "code",
   "execution_count": 6,
   "metadata": {},
   "outputs": [],
   "source": [
    "gtimer = GlobalTimer()"
   ]
  },
  {
   "cell_type": "markdown",
   "metadata": {},
   "source": [
    "# Make Graph"
   ]
  },
  {
   "cell_type": "code",
   "execution_count": 7,
   "metadata": {},
   "outputs": [],
   "source": [
    "urdf_content = URDF.from_xml_file(URDF_PATH)\n",
    "link_info_list = get_link_info_list(LINK_NAMES, urdf_content)\n",
    "robot_info = RobotInfo(link_info_list, rname = \"rbt0\", base_frame=np.identity(4,dtype=np.float32))"
   ]
  },
  {
   "cell_type": "code",
   "execution_count": 8,
   "metadata": {},
   "outputs": [],
   "source": [
    "gitem_list, gframe_dict= get_link_items_offsets(color=(0,1,0,0.5), display=False)\n",
    "gitem_list += [\n",
    "    GeometryItem(name='box1', gtype=GeoType.BOX, dims=[0.1,0.1,0.1], color=(0.3,0.3,0.8,1), display=True, collision=True),\n",
    "    GeometryItem(name='floor', gtype=GeoType.PLANE, dims=[3,3,0.01], color=(0.6,0.6,0.6,1), display=True, collision=True),\n",
    "    GeometryItem(name='wall', gtype=GeoType.BOX, dims=[0.7,0.05,0.4], color=(0.4,0.3,0.0,1), display=True, collision=True),\n",
    "    GeometryItem(name='stepper', gtype=GeoType.BOX, dims=[0.15,0.15,0.3], color=(0.4,0.3,0.0,1), display=True, collision=True),\n",
    "    GeometryItem(name='goal_disp', gtype=GeoType.BOX, dims=[0.1,0.1,1e-3], color=(0.8,0.0,0.0,1), display=True, collision=False)\n",
    "]\n",
    "gframe_dict.update({\"box1\":GeometryFrame(SE3(Rot_zyx(0,0,0),(0.5,-0.2,0.050)), \"world\"),\n",
    "                    \"floor\":GeometryFrame(SE3(Rot_zyx(0,0,0),(0,0,-0.00501)), \"world\"),\n",
    "                    \"wall\":GeometryFrame(SE3(Rot_zyx(0,0,0),(0.7,0.0,0.2)), \"world\"),\n",
    "                    \"stepper\":GeometryFrame(SE3(Rot_zyx(0,0,0),(0.4,0.4,0.15)), \"world\"),\n",
    "                    \"goal_disp\":GeometryFrame(SE3(Rot_zyx(0,0,0),(0.4,0.4,0.3)), \"world\")\n",
    "                   })"
   ]
  },
  {
   "cell_type": "code",
   "execution_count": 9,
   "metadata": {
    "scrolled": true
   },
   "outputs": [
    {
     "name": "stdout",
     "output_type": "stream",
     "text": [
      "initialize: \t12443.0 ms/1 = 12443.424 ms \n",
      "\n"
     ]
    }
   ],
   "source": [
    "N_sim = 32\n",
    "N_joints = 9\n",
    "DOF = 6\n",
    "\n",
    "\n",
    "gtimer.tic(\"initialize\")\n",
    "binfo_list = [\n",
    "    BindingInfo(\n",
    "        name='vac1', btype=BindingType.VACC, obj_name='tool_mesh', gtype=GeoType.SPHERE, Toff=SE3(Rot_zyx(0,0,0), (0,0,0.05))), \n",
    "    BindingInfo(\n",
    "        name='boxtop', btype=BindingType.SUCC, obj_name='box1', gtype=GeoType.SPHERE, Toff=SE3(Rot_zyx(0,0,0), (0,0,0.05))), \n",
    "    BindingInfo(\n",
    "        name='boxbottom', btype=BindingType.SUCC, obj_name='box1', gtype=GeoType.SPHERE, Toff=SE3(Rot_zyx(0,0,np.pi), (0,0,-0.05))), \n",
    "    BindingInfo(\n",
    "        name='floortop', btype=BindingType.PLANE, obj_name='floor', gtype=None, Toff=SE3(Rot_zyx(0,0,np.pi), (0,0,0.005)))]\n",
    "graph = GraphModel(robot_info=robot_info, gitem_list=gitem_list, binfo_list=binfo_list, urdf_content=urdf_content, \n",
    "                   N_sim=N_sim, learning_rate=5e-3, \n",
    "                   alpha_cl=0.00)\n",
    "Q_ = np.array([tuple(ZERO_JOINT_POSE+(np.random.rand(DOF)*2-1)*np.pi/100) for _ in range(N_sim)], dtype=np.float32)\n",
    "gframe_dict_list = [gframe_dict]*N_sim\n",
    "graph.assign_Q(Q_)\n",
    "graph.assign_frame_dict(gframe_dict_list)\n",
    "T_all, Tbo_all, Tbb_all = graph(None)\n",
    "Tbo_all_res = tf.reshape(Tbo_all, (graph.N_sim, 1, graph.num_objects, 1, 4,4))\n",
    "res = graph.col_cal.calc_all(Tbo_all_res)\n",
    "gtimer.toc(\"initialize\")\n",
    "print(gtimer)"
   ]
  },
  {
   "cell_type": "code",
   "execution_count": 10,
   "metadata": {},
   "outputs": [
    {
     "name": "stdout",
     "output_type": "stream",
     "text": [
      "assign: \t9.0 ms/1 = 8.858 ms \n",
      "\n"
     ]
    }
   ],
   "source": [
    "gtimer.reset()\n",
    "Q_ = np.array([tuple(ZERO_JOINT_POSE+(np.random.rand(DOF)*2-1)*np.pi/100) for _ in range(N_sim)], dtype=np.float32)\n",
    "gtimer.tic(\"assign\")\n",
    "graph.assign_Q(Q_)\n",
    "graph.assign_frame_dict(gframe_dict_list)\n",
    "graph.set_slack_batch([[(0,1)]]*N_sim)\n",
    "gtimer.toc(\"assign\")\n",
    "print(gtimer)"
   ]
  },
  {
   "cell_type": "code",
   "execution_count": null,
   "metadata": {},
   "outputs": [],
   "source": []
  },
  {
   "cell_type": "markdown",
   "metadata": {},
   "source": [
    "# Prepare RVIZ"
   ]
  },
  {
   "cell_type": "code",
   "execution_count": 11,
   "metadata": {},
   "outputs": [
    {
     "name": "stdout",
     "output_type": "stream",
     "text": [
      "Please create a subscriber to the marker\n",
      "publication OK\n",
      "published: [0, 0, 0, 0, 0, 0]\n",
      "Please create a subscriber to the marker\n",
      "publication OK - tool_mesh\n",
      "publication OK - box1\n",
      "publication OK - floor\n",
      "publication OK - wall\n",
      "publication OK - stepper\n",
      "publication OK - goal_disp\n"
     ]
    }
   ],
   "source": [
    "\n",
    "# prepare ros\n",
    "pub, joints, rate_ros = get_publisher(JOINT_NAMES)\n",
    "# prepare visualization markers\n",
    "marker_list = set_markers(gitem_list, gframe_dict, urdf_content)\n",
    "show_motion([np.array([0]*6)], marker_list, \n",
    "            [[gframe_dict[mk.geometry.name] for mk in marker_list]], \n",
    "            pub, joints, error_skip=1e-6, period=1e-6)"
   ]
  },
  {
   "cell_type": "code",
   "execution_count": null,
   "metadata": {},
   "outputs": [],
   "source": []
  },
  {
   "cell_type": "markdown",
   "metadata": {},
   "source": [
    "# Show rviz"
   ]
  },
  {
   "cell_type": "code",
   "execution_count": 12,
   "metadata": {},
   "outputs": [],
   "source": [
    "Q_ = np.array([tuple(ZERO_JOINT_POSE+(np.random.rand(DOF)*2-1)*np.pi/100) for _ in range(N_sim)], dtype=np.float32)\n",
    "gframe_dict.update({\"box1\":GeometryFrame(SE3(Rot_zyx(0,0,0),(0.5,-0.2,0.05)), \"world\"),\n",
    "                    \"floor\":GeometryFrame(SE3(Rot_zyx(0,0,0),(0.5,0,-0.00501)), \"world\")\n",
    "                   })\n",
    "gframe_dict_list = [gframe_dict]*N_sim\n",
    "graph.assign_Q(Q_)\n",
    "graph.assign_frame_dict(gframe_dict_list)\n",
    "graph.set_slack_batch([[(graph.binding_name_list.index('vac1'), \n",
    "                         graph.binding_name_list.index('boxtop'))]]+[[]]*(N_sim-1),\n",
    "                     [[0]*graph.robot.DOF]*N_sim,\n",
    "                     [[0]*graph.robot.DOF]+[[1]*graph.robot.DOF]+[[0]*graph.robot.DOF]*(N_sim-2))"
   ]
  },
  {
   "cell_type": "code",
   "execution_count": 13,
   "metadata": {},
   "outputs": [],
   "source": [
    "Qcur = graph.get_Q()\n",
    "q = np.array(Qcur[0])\n",
    "gframevec = [gframe_dict[mk.geometry.name] for mk in marker_list]\n",
    "pose_list = [q]\n",
    "gframevec_list = [gframevec]\n",
    "show_motion(pose_list, marker_list, gframevec_list, pub, joints, error_skip=1e-6, period=1e-6)"
   ]
  },
  {
   "cell_type": "markdown",
   "metadata": {},
   "source": [
    "# loop display"
   ]
  },
  {
   "cell_type": "code",
   "execution_count": 14,
   "metadata": {},
   "outputs": [
    {
     "name": "stdout",
     "output_type": "stream",
     "text": [
      "calc: \t8914.0 ms/100 = 89.138 ms \n",
      "assign: \t49.0 ms/100 = 0.492 ms \n",
      "\n"
     ]
    }
   ],
   "source": [
    "gtimer.reset()\n",
    "lpf = LowPassFilter(0.5)\n",
    "for _ in range(100):\n",
    "    gtimer.tic(\"calc\")\n",
    "    Qcur = graph.get_Q()\n",
    "    T_all, Tbo_all, Tbb_all = graph(graph.binding_index_list)\n",
    "    jac_r, jac_o, jac_b, jac_brot = graph.jacobian(T_all, Tbo_all, Tbb_all)\n",
    "    Tbo_all_res = tf.reshape(Tbo_all, (graph.N_sim, 1, graph.num_objects, 1, 4,4))\n",
    "    dist_all, flag_all, vec_all, mask_all = graph.col_cal.calc_all(Tbo_all_res)\n",
    "    jac_d = graph.col_cal.jacobian_distance(jac_o, vec_all)\n",
    "    Tbb_all_res = tf.reshape(Tbb_all, (graph.N_sim, 1, graph.num_binding, 1, 4,4))\n",
    "    b_dist_all, flag_all, vec_all, b_mask_all, angle_all, vec_angle, mask_rot = graph.bind_cal.calc_all(Tbb_all_res)\n",
    "    mask_rot = tf.expand_dims(graph.bind_cal.mask_rot, axis=-1)\n",
    "    b_dist_masked = b_dist_all*mask_rot\n",
    "    jac_bind, jac_ang = graph.bind_cal.jacobian_binding(jac_b, vec_all, jac_brot, vec_angle)\n",
    "    jac_bind_masked = jac_bind*mask_rot\n",
    "    jac_bind_tr = tf.transpose(jac_bind_masked, (0,2,1))\n",
    "    jac_bind_inv = tf.matmul(jac_bind_tr, tf.linalg.inv(tf.matmul(jac_bind_masked,jac_bind_tr)+graph.bind_cal.mask_rot_diag_rev))\n",
    "    jac_ang_stack = tf.gather_nd(jac_ang, [graph.bind_cal.pair_axis_list]*graph.N_sim, batch_dims=1)\n",
    "    jac_ang_masked = jac_ang_stack*mask_rot\n",
    "    jac_ang_tr = tf.transpose(jac_ang_masked, (0,2,1))\n",
    "    jac_ang_inv = tf.matmul(jac_ang_tr, tf.linalg.inv(tf.matmul(jac_ang_masked,jac_ang_tr)+graph.bind_cal.mask_rot_diag_rev))\n",
    "    angle_all_stack = tf.gather_nd(angle_all, [graph.bind_cal.pair_axis_list]*graph.N_sim, batch_dims=1)\n",
    "    angle_all_masked = angle_all_stack*mask_rot\n",
    "    dQ = (\n",
    "        K.sum(\n",
    "            tf.matmul(jac_bind_inv,b_dist_masked) \n",
    "            + tf.matmul(jac_ang_inv,angle_all_masked), axis=-1)\n",
    "        + graph.joint_mask_batch * (graph.joint_batch - Qcur))*graph.rate_update\n",
    "    dQ_clip = clip_gradient_elem_wise(dQ, graph.dQ_max)\n",
    "    dQ_pre = lpf(dQ_clip)\n",
    "\n",
    "    \n",
    "    #cut collision\n",
    "    dD = K.sum(jac_d*tf.expand_dims(dQ_clip, axis=-2), axis=-1, keepdims=True)\n",
    "    Dcur = dist_all\n",
    "    mask_colliding = tf.cast(Dcur+dD<0,dtype=tf.float32)\n",
    "    sign_jac_d =tf.sign(jac_d)\n",
    "    dQ_cut = (mask_colliding* mask_all)*(Dcur+dD)*jac_d/(K.sum(tf.square(jac_d), axis=-1, keepdims=True)+1e-16)\n",
    "    dQ_cut = K.sum(dQ_cut, axis=-2) # need to implement optimizer\n",
    "    \n",
    "    Qnew = Qcur+dQ_pre+dQ_cut\n",
    "\n",
    "    gtimer.toc(\"calc\")\n",
    "    gtimer.tic(\"assign\")\n",
    "    graph.assign_Q(Qnew)\n",
    "    gtimer.toc(\"assign\")\n",
    "\n",
    "    pose_list = [np.array(graph.get_Q()[0])]\n",
    "    gframevec_list = [[gframe_dict[mk.geometry.name] for mk in marker_list]]\n",
    "    show_motion(pose_list, marker_list, gframevec_list, pub, joints, error_skip=1e-6, period=1e-6)\n",
    "    timer.sleep(0.05)\n",
    "print(gtimer)"
   ]
  },
  {
   "cell_type": "code",
   "execution_count": 15,
   "metadata": {},
   "outputs": [],
   "source": [
    "gframe_dict_list = graph.update_slack_frames(gframe_dict_list, T_all, Tbo_all)"
   ]
  },
  {
   "cell_type": "code",
   "execution_count": null,
   "metadata": {},
   "outputs": [],
   "source": []
  },
  {
   "cell_type": "markdown",
   "metadata": {},
   "source": [
    "# Show rviz"
   ]
  },
  {
   "cell_type": "code",
   "execution_count": 16,
   "metadata": {},
   "outputs": [],
   "source": [
    "Q_ = np.array([tuple(ZERO_JOINT_POSE+(np.random.rand(DOF)*2-1)*np.pi/100) for _ in range(N_sim)], dtype=np.float32)\n",
    "graph.assign_Q(Q_)\n",
    "graph.assign_frame_dict(gframe_dict_list)\n",
    "graph.set_slack_batch([[(graph.binding_name_list.index('boxbottom'), \n",
    "                         graph.binding_name_list.index('floortop'))]]*N_sim)"
   ]
  },
  {
   "cell_type": "code",
   "execution_count": 17,
   "metadata": {},
   "outputs": [],
   "source": [
    "Qcur = graph.get_Q()\n",
    "q = np.array(Qcur[0])\n",
    "gframevec = [gframe_dict[mk.geometry.name] for mk in marker_list]\n",
    "pose_list = [q]\n",
    "gframevec_list = [gframevec]\n",
    "show_motion(pose_list, marker_list, gframevec_list, pub, joints, error_skip=1e-6, period=1e-6)"
   ]
  },
  {
   "cell_type": "markdown",
   "metadata": {},
   "source": [
    "# loop display"
   ]
  },
  {
   "cell_type": "code",
   "execution_count": 18,
   "metadata": {},
   "outputs": [
    {
     "name": "stdout",
     "output_type": "stream",
     "text": [
      "calc: \t7973.0 ms/100 = 79.73 ms \n",
      "assign: \t55.0 ms/100 = 0.552 ms \n",
      "\n"
     ]
    }
   ],
   "source": [
    "gtimer.reset()\n",
    "lpf = LowPassFilter(0.5)\n",
    "for _ in range(100):\n",
    "    gtimer.tic(\"calc\")\n",
    "    Qcur = graph.get_Q()\n",
    "    T_all, Tbo_all, Tbb_all = graph(graph.binding_index_list)\n",
    "    jac_r, jac_o, jac_b, jac_brot = graph.jacobian(T_all, Tbo_all, Tbb_all)\n",
    "    Tbo_all_res = tf.reshape(Tbo_all, (graph.N_sim, 1, graph.num_objects, 1, 4,4))\n",
    "    dist_all, flag_all, vec_all, mask_all = graph.col_cal.calc_all(Tbo_all_res)\n",
    "    jac_d = graph.col_cal.jacobian_distance(jac_o, vec_all)\n",
    "    Tbb_all_res = tf.reshape(Tbb_all, (graph.N_sim, 1, graph.num_binding, 1, 4,4))\n",
    "    b_dist_all, flag_all, vec_all, b_mask_all, angle_all, vec_angle, mask_rot = graph.bind_cal.calc_all(Tbb_all_res)\n",
    "    mask_rot = tf.expand_dims(graph.bind_cal.mask_rot, axis=-1)\n",
    "    b_dist_masked = b_dist_all*mask_rot\n",
    "    jac_bind, jac_ang = graph.bind_cal.jacobian_binding(jac_b, vec_all, jac_brot, vec_angle)\n",
    "    jac_bind_masked = jac_bind*mask_rot\n",
    "    jac_bind_tr = tf.transpose(jac_bind_masked, (0,2,1))\n",
    "    jac_bind_inv = tf.matmul(jac_bind_tr, tf.linalg.inv(tf.matmul(jac_bind_masked,jac_bind_tr)+graph.bind_cal.mask_rot_diag_rev))\n",
    "    jac_ang_stack = tf.gather_nd(jac_ang, [graph.bind_cal.pair_axis_list]*graph.N_sim, batch_dims=1)\n",
    "    jac_ang_masked = jac_ang_stack*mask_rot\n",
    "    jac_ang_tr = tf.transpose(jac_ang_masked, (0,2,1))\n",
    "    jac_ang_inv = tf.matmul(jac_ang_tr, tf.linalg.inv(tf.matmul(jac_ang_masked,jac_ang_tr)+graph.bind_cal.mask_rot_diag_rev))\n",
    "    angle_all_stack = tf.gather_nd(angle_all, [graph.bind_cal.pair_axis_list]*graph.N_sim, batch_dims=1)\n",
    "    angle_all_masked = angle_all_stack*mask_rot\n",
    "    dQ = (\n",
    "        K.sum(\n",
    "            tf.matmul(jac_bind_inv,b_dist_masked) \n",
    "            + tf.matmul(jac_ang_inv,angle_all_masked), axis=-1)\n",
    "        + graph.joint_mask_batch * (graph.joint_batch - Qcur))*graph.rate_update\n",
    "    dQ_clip = clip_gradient_elem_wise(dQ, graph.dQ_max)\n",
    "    dQ_pre = lpf(dQ_clip)\n",
    "\n",
    "    \n",
    "    #cut collision\n",
    "    dD = K.sum(jac_d*tf.expand_dims(dQ_clip, axis=-2), axis=-1, keepdims=True)\n",
    "    Dcur = dist_all\n",
    "    mask_colliding = tf.cast(Dcur+dD<0,dtype=tf.float32)\n",
    "    sign_jac_d =tf.sign(jac_d)\n",
    "    dQ_cut = (mask_colliding* mask_all)*(Dcur+dD)*jac_d/(K.sum(tf.square(jac_d), axis=-1, keepdims=True)+1e-16)\n",
    "    dQ_cut = K.sum(dQ_cut, axis=-2) # need to implement optimizer\n",
    "    \n",
    "    Qnew = Qcur+dQ_pre+dQ_cut\n",
    "\n",
    "    gtimer.toc(\"calc\")\n",
    "    gtimer.tic(\"assign\")\n",
    "    graph.assign_Q(Qnew)\n",
    "    gtimer.toc(\"assign\")\n",
    "\n",
    "    pose_list = [np.array(graph.get_Q()[0])]\n",
    "    gframevec_list = [[gframe_dict[mk.geometry.name] for mk in marker_list]]\n",
    "    show_motion(pose_list, marker_list, gframevec_list, pub, joints, error_skip=1e-6, period=1e-6)\n",
    "    timer.sleep(0.05)\n",
    "print(gtimer)"
   ]
  },
  {
   "cell_type": "code",
   "execution_count": 19,
   "metadata": {},
   "outputs": [],
   "source": [
    "gframe_dict_list = graph.update_slack_frames(gframe_dict_list, T_all, Tbo_all)"
   ]
  },
  {
   "cell_type": "code",
   "execution_count": null,
   "metadata": {},
   "outputs": [],
   "source": []
  },
  {
   "cell_type": "code",
   "execution_count": null,
   "metadata": {},
   "outputs": [],
   "source": []
  },
  {
   "cell_type": "markdown",
   "metadata": {},
   "source": [
    "# Test full loop"
   ]
  },
  {
   "cell_type": "code",
   "execution_count": 20,
   "metadata": {},
   "outputs": [],
   "source": [
    "gtimer.reset()\n",
    "lpf = LowPassFilter(0.5)\n",
    "@tf.function\n",
    "def _loop(dQ_pre, value):\n",
    "    Qcur = graph.get_Q()\n",
    "    T_all, Tbo_all, Tbb_all = graph(graph.binding_index_list)\n",
    "    jac_r, jac_o, jac_b, jac_brot = graph.jacobian(T_all, Tbo_all, Tbb_all)\n",
    "    Tbo_all_res = tf.reshape(Tbo_all, (graph.N_sim, 1, graph.num_objects, 1, 4,4))\n",
    "    dist_all, flag_all, vec_all, mask_all = graph.col_cal.calc_all(Tbo_all_res)\n",
    "    jac_d = graph.col_cal.jacobian_distance(jac_o, vec_all)\n",
    "    Tbb_all_res = tf.reshape(Tbb_all, (graph.N_sim, 1, graph.num_binding, 1, 4,4))\n",
    "    b_dist_all, flag_all, vec_all, b_mask_all, angle_all, vec_angle, mask_rot = graph.bind_cal.calc_all(Tbb_all_res)\n",
    "    mask_rot = tf.expand_dims(graph.bind_cal.mask_rot, axis=-1)\n",
    "    b_dist_masked = b_dist_all*mask_rot\n",
    "    jac_bind, jac_ang = graph.bind_cal.jacobian_binding(jac_b, vec_all, jac_brot, vec_angle)\n",
    "    jac_bind_masked = jac_bind*mask_rot\n",
    "    jac_bind_tr = tf.transpose(jac_bind_masked, (0,2,1))\n",
    "    jac_bind_inv = tf.matmul(jac_bind_tr, tf.linalg.inv(tf.matmul(jac_bind_masked,jac_bind_tr)+graph.bind_cal.mask_rot_diag_rev))\n",
    "    jac_ang_stack = tf.gather_nd(jac_ang, [graph.bind_cal.pair_axis_list]*graph.N_sim, batch_dims=1)\n",
    "    jac_ang_masked = jac_ang_stack*mask_rot\n",
    "    jac_ang_tr = tf.transpose(jac_ang_masked, (0,2,1))\n",
    "    jac_ang_inv = tf.matmul(jac_ang_tr, tf.linalg.inv(tf.matmul(jac_ang_masked,jac_ang_tr)+graph.bind_cal.mask_rot_diag_rev))\n",
    "    angle_all_stack = tf.gather_nd(angle_all, [graph.bind_cal.pair_axis_list]*graph.N_sim, batch_dims=1)\n",
    "    angle_all_masked = angle_all_stack*mask_rot\n",
    "    dQ = (\n",
    "        K.sum(\n",
    "            tf.matmul(jac_bind_inv,b_dist_masked) \n",
    "            + tf.matmul(jac_ang_inv,angle_all_masked), axis=-1)\n",
    "        + graph.joint_mask_batch * (graph.joint_batch - Qcur))*graph.rate_update\n",
    "    dQ_clip = clip_gradient_elem_wise(dQ, graph.dQ_max)\n",
    "    dQ_pre = lpf(dQ_clip)\n",
    "\n",
    "    \n",
    "    #cut collision\n",
    "    dD = K.sum(jac_d*tf.expand_dims(dQ_clip, axis=-2), axis=-1, keepdims=True)\n",
    "    Dcur = dist_all\n",
    "    mask_colliding = tf.cast(Dcur+dD<0,dtype=tf.float32)\n",
    "    sign_jac_d =tf.sign(jac_d)\n",
    "    dQ_cut = (mask_colliding* mask_all)*(Dcur+dD)*jac_d/(K.sum(tf.square(jac_d), axis=-1, keepdims=True)+1e-16)\n",
    "    dQ_cut = K.sum(dQ_cut, axis=-2) # need to implement optimizer\n",
    "    \n",
    "    Qnew = Qcur+dQ_pre+dQ_cut\n",
    "    return dQ_pre, K.sum(dist_all)*K.sum(mask_all)+K.sum(jac_r)+K.sum(jac_o)+K.sum(jac_d)\n",
    "\n",
    "@tf.function\n",
    "def run_test(N_loop):\n",
    "    res = tf.while_loop(\n",
    "        lambda dQ_pre, value: True, _loop, (dQ_pre, tf.constant(0.0),), \n",
    "        parallel_iterations=10, maximum_iterations=N_loop\n",
    "    )\n",
    "    return res\n",
    "\n",
    "gframe_dict.update({\"box1\":GeometryFrame(SE3(Rot_zyx(0,0,0),(0.5,0,0.05)), \"world\"),\n",
    "                    \"floor\":GeometryFrame(SE3(Rot_zyx(0,0,0),(0.5,0,-0.00501)), \"world\")\n",
    "                   })\n",
    "gframe_dict_list = [gframe_dict]*N_sim\n",
    "graph.assign_frame_dict(gframe_dict_list)\n",
    "graph.set_slack_batch([[(graph.binding_name_list.index('vac1'), \n",
    "                         graph.binding_name_list.index('boxtop'))]]*N_sim)\n",
    "res = run_test(100)"
   ]
  },
  {
   "cell_type": "code",
   "execution_count": 21,
   "metadata": {},
   "outputs": [
    {
     "name": "stdout",
     "output_type": "stream",
     "text": [
      "assign: \t8.0 ms/1 = 7.977 ms \n",
      "loop100: \t1213.0 ms/1 = 1213.355 ms \n",
      "\n"
     ]
    }
   ],
   "source": [
    "gtimer.reset()\n",
    "Q_ = np.array([tuple(ZERO_JOINT_POSE+(np.random.rand(DOF)*2-1)*np.pi/100) for _ in range(N_sim)], dtype=np.float32)\n",
    "gframe_dict.update({\"box1\":GeometryFrame(SE3(Rot_zyx(0,0,0),(0.5,0,0.05)), \"world\"),\n",
    "                    \"floor\":GeometryFrame(SE3(Rot_zyx(0,0,0),(0.5,0,-0.00501)), \"world\")\n",
    "                   })\n",
    "gframe_dict_list = [gframe_dict]*N_sim\n",
    "gtimer.tic(\"assign\")\n",
    "graph.assign_Q(Q_)\n",
    "graph.assign_frame_dict(gframe_dict_list)\n",
    "graph.set_slack_batch([[(graph.binding_name_list.index('vac1'), \n",
    "                         graph.binding_name_list.index('boxtop'))]]*N_sim)\n",
    "gtimer.toc(\"assign\")\n",
    "gtimer.tic(\"loop100\")\n",
    "res = run_test(100)\n",
    "gtimer.toc(\"loop100\")\n",
    "print(gtimer)"
   ]
  },
  {
   "cell_type": "code",
   "execution_count": null,
   "metadata": {},
   "outputs": [],
   "source": []
  },
  {
   "cell_type": "markdown",
   "metadata": {},
   "source": [
    "# Test time"
   ]
  },
  {
   "cell_type": "code",
   "execution_count": 1,
   "metadata": {},
   "outputs": [],
   "source": [
    "import os\n",
    "os.environ[\"CUDA_VISIBLE_DEVICES\"] = \"-1\"\n",
    "import tensorflow as tf"
   ]
  },
  {
   "cell_type": "code",
   "execution_count": 2,
   "metadata": {},
   "outputs": [],
   "source": [
    "import matplotlib.pyplot as plt\n",
    "import time"
   ]
  },
  {
   "cell_type": "code",
   "execution_count": 3,
   "metadata": {},
   "outputs": [],
   "source": [
    "from tensorflow import keras\n",
    "from tensorflow.keras import layers\n",
    "from tensorflow.keras import backend as K\n",
    "import numpy as np\n",
    "from itertools import combinations"
   ]
  },
  {
   "cell_type": "code",
   "execution_count": 4,
   "metadata": {},
   "outputs": [],
   "source": [
    "from pkg.tf_transform import *\n",
    "from pkg.tf_robot import *\n",
    "from pkg.constraint import *\n",
    "from pkg.info import *\n",
    "from pkg.tf_utils import *\n",
    "from pkg.rotation_utils import *\n",
    "from pkg.utils import *\n",
    "from pkg.ur10 import *\n",
    "from pkg.geometry import *\n",
    "from pkg.collision import *\n",
    "from pkg.distance import *\n",
    "from pkg.distance_calculator import *\n",
    "from pkg.binding_calculator import *\n",
    "from pkg.graph_tf import *"
   ]
  },
  {
   "cell_type": "code",
   "execution_count": null,
   "metadata": {},
   "outputs": [],
   "source": []
  },
  {
   "cell_type": "markdown",
   "metadata": {},
   "source": [
    "# Load urdf "
   ]
  },
  {
   "cell_type": "code",
   "execution_count": 5,
   "metadata": {},
   "outputs": [],
   "source": [
    "from urdf_parser_py.urdf import URDF\n",
    "from pkg.ur10 import URDF_PATH, JOINT_NAMES, LINK_NAMES, ZERO_JOINT_POSE\n",
    "from pkg.joint_utils import *\n",
    "urdf_content = URDF.from_xml_file(URDF_PATH)"
   ]
  },
  {
   "cell_type": "code",
   "execution_count": 6,
   "metadata": {},
   "outputs": [],
   "source": [
    "link_names = LINK_NAMES\n",
    "base_name = LINK_NAMES[0]\n",
    "joint_names = JOINT_NAMES\n",
    "link_info_list = get_link_info_list(link_names, urdf_content)"
   ]
  },
  {
   "cell_type": "markdown",
   "metadata": {},
   "source": [
    "# Visualize"
   ]
  },
  {
   "cell_type": "code",
   "execution_count": 7,
   "metadata": {},
   "outputs": [
    {
     "name": "stdout",
     "output_type": "stream",
     "text": [
      "Please create a subscriber to the marker\n",
      "publication OK\n",
      "published: [0, 0, 0, 0, 0, 0]\n",
      "Please create a subscriber to the marker\n",
      "publication OK - tool_mesh\n",
      "publication OK - box1\n",
      "publication OK - floor\n"
     ]
    }
   ],
   "source": [
    "from pkg.ros_rviz import *\n",
    "pub, joints, rate = get_publisher(JOINT_NAMES)\n",
    "\n",
    "gitem_list, gframe_dict= get_link_items_offsets(color=(0,1,0,0.5), display=False)\n",
    "gitem_list += [\n",
    "    GeometryItem(name='box1', gtype=GeoType.BOX, dims=[0.1,0.1,0.1], color=(0.3,0.3,0.8,1), display=True, collision=True),\n",
    "    GeometryItem(name='floor', gtype=GeoType.PLANE, dims=[1,1,0.01], color=(0.6,0.6,0.6,1), display=True, collision=True)\n",
    "]\n",
    "gframe_dict.update({\"box1\":GeometryFrame(SE3(Rot_zyx(0,0,0),(0.5,0,0.05)), \"world\"),\n",
    "                    \"floor\":GeometryFrame(SE3(Rot_zyx(0,0,0),(0.5,0,-0.00501)), \"world\")\n",
    "                   })\n",
    "marker_list = set_markers(gitem_list, gframe_dict, urdf_content)\n",
    "show_motion([np.array([0]*6)], marker_list, \n",
    "            [[gframe_dict[mk.geometry.name] for mk in marker_list]], \n",
    "            pub, joints, error_skip=1e-6, period=1e-6)"
   ]
  },
  {
   "cell_type": "code",
   "execution_count": 8,
   "metadata": {},
   "outputs": [
    {
     "name": "stdout",
     "output_type": "stream",
     "text": [
      "1 done\n",
      "2 done\n",
      "4 done\n",
      "8 done\n",
      "16 done\n",
      "32 done\n",
      "64 done\n",
      "128 done\n",
      "256 done\n",
      "initialize_1: \t9316.0 ms/1 = 9315.752 ms \n",
      "assign_1: \t4.0 ms/1 = 4.462 ms \n",
      "loop100_1: \t189.0 ms/1 = 188.984 ms \n",
      "initialize_2: \t5131.0 ms/1 = 5130.717 ms \n",
      "assign_2: \t5.0 ms/1 = 4.626 ms \n",
      "loop100_2: \t182.0 ms/1 = 182.312 ms \n",
      "initialize_4: \t5262.0 ms/1 = 5261.671 ms \n",
      "assign_4: \t5.0 ms/1 = 4.618 ms \n",
      "loop100_4: \t201.0 ms/1 = 201.099 ms \n",
      "initialize_8: \t5328.0 ms/1 = 5327.898 ms \n",
      "assign_8: \t6.0 ms/1 = 6.083 ms \n",
      "loop100_8: \t249.0 ms/1 = 248.654 ms \n",
      "initialize_16: \t5484.0 ms/1 = 5483.607 ms \n",
      "assign_16: \t5.0 ms/1 = 5.018 ms \n",
      "loop100_16: \t345.0 ms/1 = 345.209 ms \n",
      "initialize_32: \t5569.0 ms/1 = 5569.196 ms \n",
      "assign_32: \t7.0 ms/1 = 6.989 ms \n",
      "loop100_32: \t531.0 ms/1 = 530.656 ms \n",
      "initialize_64: \t5695.0 ms/1 = 5694.784 ms \n",
      "assign_64: \t7.0 ms/1 = 7.172 ms \n",
      "loop100_64: \t947.0 ms/1 = 946.66 ms \n",
      "initialize_128: \t5938.0 ms/1 = 5937.788 ms \n",
      "assign_128: \t7.0 ms/1 = 7.425 ms \n",
      "loop100_128: \t1869.0 ms/1 = 1868.541 ms \n",
      "initialize_256: \t6093.0 ms/1 = 6092.663 ms \n",
      "assign_256: \t11.0 ms/1 = 11.378 ms \n",
      "loop100_256: \t3622.0 ms/1 = 3622.241 ms \n",
      "\n"
     ]
    }
   ],
   "source": [
    "N_all = (2**np.arange(9)).tolist()\n",
    "gtimer = GlobalTimer()\n",
    "gtimer.reset()\n",
    "lpf = LowPassFilter(0.5)\n",
    "for N_sim in N_all:\n",
    "    # N_sim = 1000\n",
    "    N_joints = 9\n",
    "    DOF = 6\n",
    "\n",
    "\n",
    "    gtimer.tic(\"initialize_{}\".format(N_sim))\n",
    "    robot_info = RobotInfo(link_info_list, rname = \"rbt1\", base_frame=np.identity(4,dtype=np.float32))\n",
    "    binfo_list = [\n",
    "        BindingInfo(\n",
    "            name='vac1', btype=BindingType.VACC, obj_name='tool_mesh', gtype=GeoType.SPHERE, Toff=SE3(Rot_zyx(0,0,0), (0,0,0.05))), \n",
    "        BindingInfo(\n",
    "            name='boxtop', btype=BindingType.SUCC, obj_name='box1', gtype=GeoType.SPHERE, Toff=SE3(Rot_zyx(0,0,0), (0,0,0.05))), \n",
    "        BindingInfo(\n",
    "            name='boxbottom', btype=BindingType.SUCC, obj_name='box1', gtype=GeoType.SPHERE, Toff=SE3(Rot_zyx(0,0,np.pi), (0,0,-0.05))), \n",
    "        BindingInfo(\n",
    "            name='floortop', btype=BindingType.PLANE, obj_name='floor', gtype=None, Toff=SE3(Rot_zyx(0,0,np.pi), (0,0,0.005)))]\n",
    "    graph = GraphModel(robot_info=robot_info, gitem_list=gitem_list, binfo_list=binfo_list, urdf_content=urdf_content, \n",
    "                       N_sim=N_sim, learning_rate=5e-3, \n",
    "                       alpha_cl=0.00)\n",
    "    Q_ = np.array([tuple(ZERO_JOINT_POSE+(np.random.rand(DOF)*2-1)*np.pi/100) for _ in range(N_sim)], dtype=np.float32)\n",
    "    gframe_dict_list = [gframe_dict]*N_sim\n",
    "    graph.assign_Q(Q_)\n",
    "    graph.assign_frame_dict(gframe_dict_list)\n",
    "    T_all, Tbo_all, Tbb_all = graph(None)\n",
    "    Tbo_all_res = tf.reshape(Tbo_all, (graph.N_sim, 1, graph.num_objects, 1, 4,4))\n",
    "    res = graph.col_cal.calc_all(Tbo_all_res)\n",
    "    gtimer.toc(\"initialize_{}\".format(N_sim))\n",
    "\n",
    "    dQ_pre = tf.zeros((N_sim, graph.robot.DOF), dtype=tf.float32)\n",
    "\n",
    "    @tf.function\n",
    "    def _loop(dQ_pre, value):\n",
    "        Qcur = graph.get_Q()\n",
    "        T_all, Tbo_all, Tbb_all = graph(graph.binding_index_list)\n",
    "        jac_r, jac_o, jac_b, jac_brot = graph.jacobian(T_all, Tbo_all, Tbb_all)\n",
    "        Tbo_all_res = tf.reshape(Tbo_all, (graph.N_sim, 1, graph.num_objects, 1, 4,4))\n",
    "        dist_all, flag_all, vec_all, mask_all = graph.col_cal.calc_all(Tbo_all_res)\n",
    "        jac_d = graph.col_cal.jacobian_distance(jac_o, vec_all)\n",
    "        Tbb_all_res = tf.reshape(Tbb_all, (graph.N_sim, 1, graph.num_binding, 1, 4,4))\n",
    "        b_dist_all, flag_all, vec_all, b_mask_all, angle_all, vec_angle, mask_rot = graph.bind_cal.calc_all(Tbb_all_res)\n",
    "        mask_rot = tf.expand_dims(graph.bind_cal.mask_rot, axis=-1)\n",
    "        b_dist_masked = b_dist_all*mask_rot\n",
    "        jac_bind, jac_ang = graph.bind_cal.jacobian_binding(jac_b, vec_all, jac_brot, vec_angle)\n",
    "        jac_bind_masked = jac_bind*mask_rot\n",
    "        jac_bind_tr = tf.transpose(jac_bind_masked, (0,2,1))\n",
    "        jac_bind_inv = tf.matmul(jac_bind_tr, tf.linalg.inv(tf.matmul(jac_bind_masked,jac_bind_tr)+graph.bind_cal.mask_rot_diag_rev))\n",
    "        jac_ang_stack = tf.gather_nd(jac_ang, [graph.bind_cal.pair_axis_list]*graph.N_sim, batch_dims=1)\n",
    "        jac_ang_masked = jac_ang_stack*mask_rot\n",
    "        jac_ang_tr = tf.transpose(jac_ang_masked, (0,2,1))\n",
    "        jac_ang_inv = tf.matmul(jac_ang_tr, tf.linalg.inv(tf.matmul(jac_ang_masked,jac_ang_tr)+graph.bind_cal.mask_rot_diag_rev))\n",
    "        angle_all_stack = tf.gather_nd(angle_all, [graph.bind_cal.pair_axis_list]*graph.N_sim, batch_dims=1)\n",
    "        angle_all_masked = angle_all_stack*mask_rot\n",
    "        dQ = (\n",
    "            K.sum(\n",
    "                tf.matmul(jac_bind_inv,b_dist_masked) \n",
    "                + tf.matmul(jac_ang_inv,angle_all_masked), axis=-1)\n",
    "            + graph.joint_mask_batch * (graph.joint_batch - Qcur))*graph.rate_update\n",
    "        dQ_clip = clip_gradient_elem_wise(dQ, graph.dQ_max)\n",
    "        dQ_pre = lpf(dQ_clip)\n",
    "\n",
    "\n",
    "        #cut collision\n",
    "        dD = K.sum(jac_d*tf.expand_dims(dQ_clip, axis=-2), axis=-1, keepdims=True)\n",
    "        Dcur = dist_all\n",
    "        mask_colliding = tf.cast(Dcur+dD<0,dtype=tf.float32)\n",
    "        sign_jac_d =tf.sign(jac_d)\n",
    "        dQ_cut = (mask_colliding* mask_all)*(Dcur+dD)*jac_d/(K.sum(tf.square(jac_d), axis=-1, keepdims=True)+1e-16)\n",
    "        dQ_cut = K.sum(dQ_cut, axis=-2) # need to implement optimizer\n",
    "\n",
    "        Qnew = Qcur+dQ_pre+dQ_cut\n",
    "        return dQ_pre, K.sum(dist_all)*K.sum(mask_all)+K.sum(jac_r)+K.sum(jac_o)+K.sum(jac_d)\n",
    "\n",
    "    @tf.function\n",
    "    def run_test(N_loop):\n",
    "        res = tf.while_loop(\n",
    "            lambda dQ_pre, value: True, _loop, (dQ_pre, tf.constant(0.0),), \n",
    "            parallel_iterations=10, maximum_iterations=N_loop\n",
    "        )\n",
    "        return res\n",
    "\n",
    "    gframe_dict.update({\"box1\":GeometryFrame(SE3(Rot_zyx(0,0,0),(0.5,0,0.05)), \"world\"),\n",
    "                        \"floor\":GeometryFrame(SE3(Rot_zyx(0,0,0),(0.5,0,-0.00501)), \"world\")\n",
    "                       })\n",
    "    gframe_dict_list = [gframe_dict]*N_sim\n",
    "    graph.assign_frame_dict(gframe_dict_list)\n",
    "    graph.set_slack_batch([[(graph.binding_name_list.index('vac1'), \n",
    "                             graph.binding_name_list.index('boxtop'))]]*N_sim)\n",
    "    res = run_test(100)\n",
    "\n",
    "    Q_ = np.array([tuple(ZERO_JOINT_POSE+(np.random.rand(DOF)*2-1)*np.pi/100) for _ in range(N_sim)], dtype=np.float32)\n",
    "    gframe_dict.update({\"box1\":GeometryFrame(SE3(Rot_zyx(0,0,0),(0.5,0,0.05)), \"world\"),\n",
    "                        \"floor\":GeometryFrame(SE3(Rot_zyx(0,0,0),(0.5,0,-0.00501)), \"world\")\n",
    "                       })\n",
    "    gframe_dict_list = [gframe_dict]*N_sim\n",
    "    gtimer.tic(\"assign_{}\".format(N_sim))\n",
    "    graph.assign_Q(Q_)\n",
    "    graph.assign_frame_dict(gframe_dict_list)\n",
    "    graph.set_slack_batch([[(graph.binding_name_list.index('vac1'), \n",
    "                             graph.binding_name_list.index('boxtop'))]]*N_sim)\n",
    "    gtimer.toc(\"assign_{}\".format(N_sim))\n",
    "    gtimer.tic(\"loop100_{}\".format(N_sim))\n",
    "    res = run_test(100)\n",
    "    gtimer.toc(\"loop100_{}\".format(N_sim))\n",
    "    print(\"{} done\".format(N_sim))\n",
    "print(gtimer)"
   ]
  },
  {
   "cell_type": "code",
   "execution_count": 9,
   "metadata": {},
   "outputs": [],
   "source": [
    "time_vec = [gtimer.time_dict[\"loop100_{}\".format(N_s)] for N_s in N_all]"
   ]
  },
  {
   "cell_type": "markdown",
   "metadata": {},
   "source": [
    "# saved plot: CPU case"
   ]
  },
  {
   "cell_type": "code",
   "execution_count": 14,
   "metadata": {},
   "outputs": [
    {
     "data": {
      "image/png": "[encoded data removed]",
      "text/plain": [
       "<Figure size 1080x504 with 2 Axes>"
      ]
     },
     "metadata": {
      "needs_background": "light"
     },
     "output_type": "display_data"
    }
   ],
   "source": [
    "N_plot = 9\n",
    "plt.figure(figsize=(15,7))\n",
    "ax = plt.subplot(1,2,1)\n",
    "ax.set_xscale(\"log\", nonposx='clip')\n",
    "ax.plot([0]+N_all[:N_plot], [0]+time_vec[:N_plot],'-o')\n",
    "plt.xlabel(\"Simulation Num\")\n",
    "plt.ylabel(\"x 100 loop Time(ms)\")\n",
    "plt.grid()\n",
    "ax = plt.subplot(1,2,2)\n",
    "ax.set_xscale(\"log\", nonposx='clip')\n",
    "ax.plot(N_all[:N_plot], np.divide(N_all[:N_plot],time_vec[:N_plot])*1000,'-o')\n",
    "plt.xlabel(\"Simulation Num\")\n",
    "plt.ylabel(\"Simulation Per Sec\")\n",
    "plt.grid()\n",
    "np.savetxt(\"cpu_N_all.csv\", N_all, delimiter=',')\n",
    "np.savetxt(\"cpu_time_vec.csv\", time_vec, delimiter=',')"
   ]
  },
  {
   "cell_type": "markdown",
   "metadata": {},
   "source": [
    "# saved plot: GPU case"
   ]
  },
  {
   "cell_type": "code",
   "execution_count": 10,
   "metadata": {},
   "outputs": [
    {
     "data": {
      "image/png": "[encoded data removed]",
      "text/plain": [
       "<Figure size 1080x504 with 2 Axes>"
      ]
     },
     "metadata": {
      "needs_background": "light"
     },
     "output_type": "display_data"
    }
   ],
   "source": [
    "N_plot = 14\n",
    "plt.figure(figsize=(15,7))\n",
    "ax = plt.subplot(1,2,1)\n",
    "ax.set_xscale(\"log\", nonposx='clip')\n",
    "ax.plot([0]+N_all[:N_plot], [0]+time_vec[:N_plot],'-o')\n",
    "plt.xlabel(\"Simulation Num\")\n",
    "plt.ylabel(\"x 100 loop Time(ms)\")\n",
    "plt.grid()\n",
    "ax = plt.subplot(1,2,2)\n",
    "ax.set_xscale(\"log\", nonposx='clip')\n",
    "ax.plot(N_all[:N_plot], np.divide(N_all[:N_plot],time_vec[:N_plot])*1000,'-o')\n",
    "plt.xlabel(\"Simulation Num\")\n",
    "plt.ylabel(\"Simulation Per Sec\")\n",
    "plt.grid()\n",
    "# np.savetxt(\"gpu_N_all.csv\", N_all, delimiter=',')\n",
    "# np.savetxt(\"gpu_time_vec.csv\", time_vec, delimiter=',')"
   ]
  },
  {
   "cell_type": "markdown",
   "metadata": {},
   "source": [
    "# Draw saved all"
   ]
  },
  {
   "cell_type": "code",
   "execution_count": 15,
   "metadata": {},
   "outputs": [],
   "source": [
    "cpu_N_all = np.loadtxt(\"cpu_N_all.csv\", delimiter=',')\n",
    "cpu_time_vec = np.loadtxt(\"cpu_time_vec.csv\", delimiter=',')\n",
    "gpu_N_all = np.loadtxt(\"gpu_N_all.csv\",  delimiter=',')\n",
    "gpu_time_vec = np.loadtxt(\"gpu_time_vec.csv\", delimiter=',')"
   ]
  },
  {
   "cell_type": "code",
   "execution_count": 16,
   "metadata": {},
   "outputs": [
    {
     "data": {
      "image/png": "[encoded data removed]",
      "text/plain": [
       "<Figure size 1080x432 with 2 Axes>"
      ]
     },
     "metadata": {
      "needs_background": "light"
     },
     "output_type": "display_data"
    }
   ],
   "source": [
    "plt.figure(figsize=(15,6))\n",
    "ax = plt.subplot(1,2,1)\n",
    "ax.set_xscale(\"log\", nonposx='clip')\n",
    "ax.plot(np.pad(cpu_N_all, [[1,0]]), np.pad(cpu_time_vec, [[1,0]]),'-o')\n",
    "ax.plot(np.pad(gpu_N_all, [[1,0]]), np.pad(gpu_time_vec, [[1,0]]),'-o')\n",
    "plt.xlabel(\"Simulation Num\")\n",
    "plt.ylabel(\"x 100 loop Time(ms)\")\n",
    "plt.legend([\"cpu\", \"gpu\"])\n",
    "plt.grid()\n",
    "ax = plt.subplot(1,2,2)\n",
    "ax.set_xscale(\"log\", nonposx='clip')\n",
    "ax.plot(cpu_N_all, np.divide(cpu_N_all,cpu_time_vec)*1000,'-o')\n",
    "ax.plot(gpu_N_all, np.divide(gpu_N_all,gpu_time_vec)*1000,'-o')\n",
    "plt.xlabel(\"Simulation Num\")\n",
    "plt.ylabel(\"Simulation Per Sec\")\n",
    "plt.legend([\"cpu\", \"gpu\"])\n",
    "plt.grid()"
   ]
  },
  {
   "cell_type": "code",
   "execution_count": null,
   "metadata": {},
   "outputs": [],
   "source": []
  },
  {
   "cell_type": "markdown",
   "metadata": {},
   "source": [
    "# Gradient Clipping"
   ]
  },
  {
   "cell_type": "code",
   "execution_count": 16,
   "metadata": {},
   "outputs": [
    {
     "name": "stdout",
     "output_type": "stream",
     "text": [
      "assign: \t6.0 ms/1 = 5.57 ms \n",
      "\n"
     ]
    }
   ],
   "source": [
    "gtimer.reset()\n",
    "Q_ = np.array([tuple(ZERO_JOINT_POSE+(np.random.rand(DOF)*2-1)*np.pi/100) for _ in range(N_sim)], dtype=np.float32)\n",
    "gtimer.tic(\"assign\")\n",
    "graph.assign_Q(Q_)\n",
    "graph.assign_frame_dict(gframe_dict_list)\n",
    "gtimer.toc(\"assign\")\n",
    "print(gtimer)"
   ]
  },
  {
   "cell_type": "code",
   "execution_count": 17,
   "metadata": {},
   "outputs": [
    {
     "name": "stdout",
     "output_type": "stream",
     "text": [
      "func: \t11.0 ms/1 = 10.72 ms \n",
      "apply: \t0.0 ms/1 = 0.019 ms \n",
      "\n"
     ]
    }
   ],
   "source": [
    "gtimer.reset()\n",
    "gtimer.tic(\"func\")\n",
    "T_all, Tbo_all = graph(None)\n",
    "Tbo_all_res = tf.reshape(Tbo_all, (graph.N_sim, 1, graph.num_objects, 1, 4,4))\n",
    "jac_r, jac_o = graph.jacobian(T_all, Tbo_all)\n",
    "dist_all, flag_all, vec_all, mask_all = graph.col_cal.calc_all(Tbo_all_res)\n",
    "jac_d = graph.col_cal.jacobian(jac_o, vec_all)\n",
    "gtimer.toc(\"func\")\n",
    "# gtimer.tic(\"grad\")\n",
    "# # Compute gradients.\n",
    "# # gradients = g.gradient(loss, trainable_variables)\n",
    "# # jacobian = g.batch_jacobian(loss, trainable_variables[0])\n",
    "# gtimer.toc(\"grad\")\n",
    "# gradients = tf.unstack(clip_gradient(gradients, max_gradient))\n",
    "\n",
    "# # Update W and b following gradients.\n",
    "gtimer.tic(\"apply\")\n",
    "# graph.optimizer.apply_gradients(zip(gradients, graph.trainable_variables))\n",
    "gtimer.toc(\"apply\")\n",
    "print(gtimer)"
   ]
  },
  {
   "cell_type": "code",
   "execution_count": null,
   "metadata": {},
   "outputs": [],
   "source": []
  },
  {
   "cell_type": "markdown",
   "metadata": {},
   "source": [
    "# test full gradient"
   ]
  },
  {
   "cell_type": "code",
   "execution_count": 143,
   "metadata": {},
   "outputs": [],
   "source": [
    "@tf.function\n",
    "def test_grad(res):\n",
    "    with tf.GradientTape() as g:\n",
    "        # Forward pass.\n",
    "        T_all, Tbo_all = graph(None)\n",
    "        Tbo_all_res = tf.reshape(Tbo_all, (graph.N_sim, 1, graph.num_objects, 1, 4,4))\n",
    "        dist, flag, mask = graph.dcal.calc_all(Tbo_all_res)\n",
    "#         dist = dist*mask\n",
    "#         loss = [tf.gather(dist, i_sim) for i_sim in range(N_sim)]\n",
    "    #     loss = K.sum(dist[6])\n",
    "    # Variables to update, i.e. trainable variables\n",
    "\n",
    "    # Compute gradients.\n",
    "    jacobian = g.batch_jacobian(dist, graph.trainable_variables[0])\n",
    "    return K.sum(jacobian)\n",
    "#     bjac = g.batch_jacobian(dist, graph.trainable_variables[0])\n",
    "#     return bjac\n",
    "gradients = test_grad(0)"
   ]
  },
  {
   "cell_type": "code",
   "execution_count": null,
   "metadata": {},
   "outputs": [],
   "source": [
    "@ tf.function\n",
    "def loop_grad():\n",
    "    N_loop=100\n",
    "    res = tf.while_loop(\n",
    "        lambda value: True, test_grad, (tf.constant(0.0),), \n",
    "        parallel_iterations=10, maximum_iterations=N_loop\n",
    "    )\n",
    "    return res\n",
    "loop_grad()"
   ]
  },
  {
   "cell_type": "code",
   "execution_count": null,
   "metadata": {},
   "outputs": [],
   "source": [
    "gtimer.reset()\n",
    "gtimer.tic(\"func\")\n",
    "jacobian = loop_grad()\n",
    "gtimer.toc(\"func\")\n",
    "# gradients = tf.unstack(clip_gradient(gradients, max_gradient))\n",
    "\n",
    "# # Update W and b following gradients.\n",
    "gtimer.tic(\"apply\")\n",
    "# graph.optimizer.apply_gradients(zip(gradients, graph.trainable_variables))\n",
    "gtimer.toc(\"apply\")\n",
    "print(gtimer)\n",
    "# print(gradients.shape)"
   ]
  },
  {
   "cell_type": "code",
   "execution_count": null,
   "metadata": {},
   "outputs": [],
   "source": []
  },
  {
   "cell_type": "markdown",
   "metadata": {},
   "source": [
    "# SGD Optimizer"
   ]
  },
  {
   "cell_type": "code",
   "execution_count": 133,
   "metadata": {},
   "outputs": [],
   "source": [
    "Q_ = np.array([tuple(ZERO_JOINT_POSE+(np.random.rand(DOF)*2-1)*np.pi/100) for _ in range(N_sim)], dtype=np.float32)\n",
    "Ttar_ = SE3(Rot_zyx(0,0,np.pi),(0.5,0,0.00)).astype(np.float32)\n",
    "gframe_dict_list = [gframe_dict]*N_sim\n",
    "graph.assign_Q(Q_)\n",
    "graph.assign_frame_dict(gframe_dict_list)"
   ]
  },
  {
   "cell_type": "code",
   "execution_count": 292,
   "metadata": {
    "scrolled": true
   },
   "outputs": [
    {
     "name": "stdout",
     "output_type": "stream",
     "text": [
      "update: \t110.0 ms/100 = 1.095 ms\n",
      "record: \t19.0 ms/100 = 0.19 ms\n",
      "loss: 9.515193939208984\n"
     ]
    }
   ],
   "source": [
    "time_vec = []\n",
    "Q_list = [list(map(lambda x: x.numpy(), graph.get_Q()))]\n",
    "# Tbo_all_list = [np.array([[gframe_dict[gitem.name].Toff for gitem in gitem_list]]*N_sim)]\n",
    "N_iter = 100\n",
    "# Run training for the given number of steps.\n",
    "Qtar, binQ, Ttar, binT = (np.zeros((N_sim, DOF), dtype='float32'), np.zeros(N_sim, dtype='float32'),\n",
    "                      np.array([Ttar_]*N_sim), np.ones(N_sim, dtype='float32'))\n",
    "dist_list = []\n",
    "loss_list = []\n",
    "jl_loss_list = []\n",
    "jc_loss_list = []\n",
    "fc_loss_list = []\n",
    "cl_loss_list = []\n",
    "gradients_list = []\n",
    "gtimer.reset()\n",
    "for _ in range(N_iter):\n",
    "    # Run the optimization to update W and b values.\n",
    "    T_all, Tbo_all = graph(None)\n",
    "    #dist_list += [K.min(graph.test_collision(T_all, Tbo_all)[0]).numpy()]\n",
    "    jl_loss = graph.calc_joint_limit()\n",
    "    jc_loss = graph.joint_constraint((Qtar, binQ))\n",
    "    fc_loss = graph.frame_constraint((T_all[:,-1,:,:],Ttar, binT))\n",
    "    #cl_loss = graph.calc_collision_loss(T_all, Tbo_all)\n",
    "    gtimer.tic(\"update\")\n",
    "    loss = graph.update_once(Qtar, binQ, Ttar, binT, max_gradient=10)\n",
    "#     max_gradient=10\n",
    "\n",
    "#     with tf.GradientTape() as g:\n",
    "#         # Forward pass.\n",
    "#         loss = graph.forward(Qtar, binQ, Ttar, binT)\n",
    "\n",
    "#     # Variables to update, i.e. trainable variables.\n",
    "#     trainable_variables = graph.trainable_variables\n",
    "\n",
    "#     # Compute gradients.\n",
    "#     gradients = g.gradient(loss, trainable_variables)\n",
    "#     gradients = tf.unstack(clip_gradient(gradients, max_gradient))\n",
    "\n",
    "#     # Update W and b following gradients.\n",
    "#     graph.optimizer.apply_gradients(zip(gradients, graph.trainable_variables))\n",
    "    gtimer.toc(\"update\")\n",
    "    gtimer.tic(\"record\")\n",
    "    Q_list += [graph.get_Q().numpy()]\n",
    "    loss_list += [loss]\n",
    "#     gradients_list += [gradients]\n",
    "    jl_loss_list += [jl_loss]\n",
    "    jc_loss_list += [jc_loss]\n",
    "    fc_loss_list += [fc_loss]\n",
    "    #cl_loss_list += [cl_loss]\n",
    "    gtimer.toc(\"record\")\n",
    "#     if isnan(dist_list[-1]) or dist_list[-1]<0:\n",
    "#         break\n",
    "gtimer.print_time_log()\n",
    "print(\"loss: {}\".format(loss))"
   ]
  },
  {
   "cell_type": "code",
   "execution_count": null,
   "metadata": {},
   "outputs": [],
   "source": []
  },
  {
   "cell_type": "markdown",
   "metadata": {},
   "source": [
    "# Plot result"
   ]
  },
  {
   "cell_type": "code",
   "execution_count": 140,
   "metadata": {},
   "outputs": [
    {
     "data": {
      "text/plain": [
       "[<matplotlib.lines.Line2D at 0x7f689c0b86d8>,\n",
       " <matplotlib.lines.Line2D at 0x7f68837e5630>,\n",
       " <matplotlib.lines.Line2D at 0x7f68837e5780>,\n",
       " <matplotlib.lines.Line2D at 0x7f68837e58d0>,\n",
       " <matplotlib.lines.Line2D at 0x7f689c03d860>,\n",
       " <matplotlib.lines.Line2D at 0x7f68837e5b38>]"
      ]
     },
     "execution_count": 140,
     "metadata": {},
     "output_type": "execute_result"
    },
    {
     "data": {
      "image/png": "[encoded data removed]",
      "text/plain": [
       "<Figure size 432x288 with 1 Axes>"
      ]
     },
     "metadata": {
      "needs_background": "light"
     },
     "output_type": "display_data"
    }
   ],
   "source": [
    "i_sim = 0\n",
    "i_iter = 0\n",
    "Q_all = np.array(Q_list)\n",
    "Q_all_i = np.array([Q_all[i_iter, i_sim,:] for i_iter in range(len(Q_list))])\n",
    "plt.plot(Q_all_i,'-o')\n",
    "plt.plot(Q_all_i[1:,:]-Q_all_i[:-1,:],'-.')"
   ]
  },
  {
   "cell_type": "code",
   "execution_count": null,
   "metadata": {},
   "outputs": [],
   "source": [
    "plt.plot(dist_list, label=\"distance\")"
   ]
  },
  {
   "cell_type": "code",
   "execution_count": null,
   "metadata": {
    "scrolled": true
   },
   "outputs": [],
   "source": [
    "plt.plot(loss_list, label=\"total\")\n",
    "plt.plot(np.multiply(jl_loss_list, graph.alpha_jl), label=\"joint limit\")\n",
    "plt.plot(np.multiply(jc_loss_list, graph.alpha_jc), label=\"joint target\")\n",
    "plt.plot(np.multiply(fc_loss_list, graph.alpha_fc), label=\"frame target\")\n",
    "plt.plot(np.multiply(cl_loss_list, graph.alpha_cl), label=\"collision dist\")\n",
    "plt.legend()\n",
    "axes = plt.gca()\n",
    "# axes.set_ylim([-1e1,5e1])\n",
    "# axes.set_xlim([0,1e1])"
   ]
  },
  {
   "cell_type": "code",
   "execution_count": null,
   "metadata": {},
   "outputs": [],
   "source": []
  },
  {
   "cell_type": "markdown",
   "metadata": {},
   "source": [
    "# Show rviz"
   ]
  },
  {
   "cell_type": "code",
   "execution_count": 293,
   "metadata": {},
   "outputs": [],
   "source": [
    "q = Q_[0]\n",
    "gframevec = [gframe_dict[mk.geometry.name] for mk in marker_list]\n",
    "pose_list = [q[2:-1]]\n",
    "gframevec_list = [gframevec]\n",
    "show_motion(pose_list, marker_list, gframevec_list, pub, joints, error_skip=1e-6, period=1e-6)"
   ]
  },
  {
   "cell_type": "code",
   "execution_count": null,
   "metadata": {},
   "outputs": [],
   "source": []
  },
  {
   "cell_type": "markdown",
   "metadata": {},
   "source": [
    "# Display motion"
   ]
  },
  {
   "cell_type": "code",
   "execution_count": 294,
   "metadata": {},
   "outputs": [],
   "source": [
    "for i_sim in range(1): # N_sim):\n",
    "    for i_iter in range(0,len(Q_list)):\n",
    "        q = Q_list[i_iter][i_sim]\n",
    "        gframevec = [gframe_dict[mk.geometry.name] for mk in marker_list]\n",
    "        pose_list = [q]\n",
    "        gframevec_list = [gframevec]\n",
    "        show_motion(pose_list, marker_list, gframevec_list, pub, joints, error_skip=1e-6, period=1e-6)\n",
    "        time.sleep(10e-2)"
   ]
  },
  {
   "cell_type": "code",
   "execution_count": null,
   "metadata": {},
   "outputs": [],
   "source": []
  },
  {
   "cell_type": "code",
   "execution_count": null,
   "metadata": {
    "scrolled": true
   },
   "outputs": [],
   "source": []
  },
  {
   "cell_type": "code",
   "execution_count": null,
   "metadata": {},
   "outputs": [],
   "source": []
  },
  {
   "cell_type": "markdown",
   "metadata": {},
   "source": [
    "# Collision error case "
   ]
  },
  {
   "cell_type": "code",
   "execution_count": null,
   "metadata": {
    "scrolled": true
   },
   "outputs": [],
   "source": [
    "Q_error = np.loadtxt(\"Q_error.csv\",delimiter=\",\",dtype=np.float32)\n",
    "graph.assign_Q(Q_error)\n",
    "graph.assign_frame_dict(gframe_dict_list)\n",
    "\n",
    "T_all, Tbo_all = graph(None)\n",
    "dist = K.min(graph.test_collision(T_all, Tbo_all)[0]).numpy()\n",
    "cl_loss = graph.calc_collision_loss(T_all, Tbo_all)\n",
    "print(\"dist: {}\".format(dist))"
   ]
  },
  {
   "cell_type": "code",
   "execution_count": null,
   "metadata": {},
   "outputs": [],
   "source": [
    "q = Q_error[0]\n",
    "gframevec = [gframe_dict[mk.geometry.name] for mk in marker_list]\n",
    "pose_list = [q[2:-1]]\n",
    "gframevec_list = [gframevec]\n",
    "show_motion(pose_list, marker_list, gframevec_list, pub, joints, error_skip=1e-6, period=1e-6)"
   ]
  },
  {
   "cell_type": "code",
   "execution_count": null,
   "metadata": {},
   "outputs": [],
   "source": []
  },
  {
   "cell_type": "markdown",
   "metadata": {},
   "source": [
    "# Plot 3D"
   ]
  },
  {
   "cell_type": "code",
   "execution_count": null,
   "metadata": {},
   "outputs": [],
   "source": [
    "import numpy as np\n",
    "import matplotlib.pyplot as plt\n",
    "import mpl_toolkits.mplot3d as mplot3d"
   ]
  },
  {
   "cell_type": "code",
   "execution_count": null,
   "metadata": {},
   "outputs": [],
   "source": [
    "fig = plt.figure()\n",
    "sub = fig.add_subplot(1,1,1,projection=\"3d\")\n",
    "sub.plot(x,y,z)\n",
    "sub.set_xlabel('x')\n",
    "sub.set_ylabel('y')\n",
    "sub.set_zlabel('z')\n",
    "\n",
    "sub.view_init(elev=0., azim=0)"
   ]
  },
  {
   "cell_type": "code",
   "execution_count": null,
   "metadata": {},
   "outputs": [],
   "source": []
  },
  {
   "cell_type": "code",
   "execution_count": null,
   "metadata": {},
   "outputs": [],
   "source": []
  },
  {
   "cell_type": "code",
   "execution_count": null,
   "metadata": {},
   "outputs": [],
   "source": []
  }
 ],
 "metadata": {
  "kernelspec": {
   "display_name": "Python 3",
   "language": "python",
   "name": "python3"
  },
  "language_info": {
   "codemirror_mode": {
    "name": "ipython",
    "version": 3
   },
   "file_extension": ".py",
   "mimetype": "text/x-python",
   "name": "python",
   "nbconvert_exporter": "python",
   "pygments_lexer": "ipython3",
   "version": "3.6.9"
  }
 },
 "nbformat": 4,
 "nbformat_minor": 2
}
