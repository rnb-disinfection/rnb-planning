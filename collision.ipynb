{
 "cells": [
  {
   "cell_type": "markdown",
   "metadata": {},
   "source": [
    "# GJK"
   ]
  },
  {
   "cell_type": "code",
   "execution_count": null,
   "metadata": {},
   "outputs": [],
   "source": [
    "import tensorflow as tf\n",
    "from tensorflow import keras\n",
    "from tensorflow.keras import layers\n",
    "from tensorflow.keras import backend as K\n",
    "import numpy as np"
   ]
  },
  {
   "cell_type": "code",
   "execution_count": null,
   "metadata": {},
   "outputs": [],
   "source": [
    "from pkg.tf_transform import *\n",
    "from pkg.tf_robot import *\n",
    "from pkg.constraint import *\n",
    "from pkg.info import *\n",
    "from pkg.tf_utils import *\n",
    "from pkg.rotation_utils import *\n",
    "from pkg.utils import *\n",
    "from pkg.collision import *"
   ]
  },
  {
   "cell_type": "code",
   "execution_count": null,
   "metadata": {},
   "outputs": [],
   "source": [
    "import matplotlib.pyplot as plt\n",
    "import time"
   ]
  },
  {
   "cell_type": "markdown",
   "metadata": {},
   "source": [
    "## for test"
   ]
  },
  {
   "cell_type": "code",
   "execution_count": null,
   "metadata": {},
   "outputs": [],
   "source": [
    "gtimer = GlobalTimer()"
   ]
  },
  {
   "cell_type": "code",
   "execution_count": null,
   "metadata": {},
   "outputs": [],
   "source": [
    "N_vtx = 20"
   ]
  },
  {
   "cell_type": "code",
   "execution_count": null,
   "metadata": {},
   "outputs": [],
   "source": [
    "s1coords = np.loadtxt(\"s1.csv\", delimiter=\",\")\n",
    "s2coords = np.loadtxt(\"s2.csv\", delimiter=\",\")"
   ]
  },
  {
   "cell_type": "code",
   "execution_count": null,
   "metadata": {},
   "outputs": [],
   "source": [
    "s1faces = np.loadtxt(\"s1face.csv\", delimiter=\",\",dtype='int')\n",
    "s2faces = np.loadtxt(\"s2face.csv\", delimiter=\",\",dtype='int')"
   ]
  },
  {
   "cell_type": "code",
   "execution_count": null,
   "metadata": {},
   "outputs": [],
   "source": [
    "iterations = 6"
   ]
  },
  {
   "cell_type": "code",
   "execution_count": null,
   "metadata": {},
   "outputs": [],
   "source": [
    "s1verts = pad_vertex(s1coords.astype('float32'), N_vtx) # get_facepoints(s1coords, s1faces,N_fcs).astype('float32')\n",
    "s2verts = pad_vertex(s2coords.astype('float32'), N_vtx) # get_facepoints(s2coords, s2faces,N_fcs).astype('float32')"
   ]
  },
  {
   "cell_type": "code",
   "execution_count": null,
   "metadata": {},
   "outputs": [],
   "source": [
    "S1Rot = np.array([\n",
    "        [0.99847,0.016541,-0.052829,],\n",
    "        [-0.014912,0.99941,0.031073,],\n",
    "        [0.053311,-0.030238,0.99812,],\n",
    "        ], dtype=np.float32)\n",
    "S2Rot = np.array([\n",
    "        [0.99752,0.065339,-0.026294,],\n",
    "        [-0.063664,0.99616,0.060141,],\n",
    "        [0.030123,-0.058318,0.99784,],\n",
    "        ], dtype=np.float32)"
   ]
  },
  {
   "cell_type": "code",
   "execution_count": null,
   "metadata": {},
   "outputs": [],
   "source": [
    "s1points = tf.matmul(s1verts, np.transpose(S1Rot))+3\n",
    "s2points = tf.matmul(s2verts, np.transpose(S2Rot))-3\n",
    "FX1 = s1points\n",
    "FX2 = s2points"
   ]
  },
  {
   "cell_type": "code",
   "execution_count": null,
   "metadata": {},
   "outputs": [],
   "source": []
  },
  {
   "cell_type": "markdown",
   "metadata": {},
   "source": [
    "## test batch"
   ]
  },
  {
   "cell_type": "code",
   "execution_count": null,
   "metadata": {},
   "outputs": [],
   "source": [
    "S1Rot = np.identity(3, dtype=np.float32)\n",
    "S2Rot = np.identity(3, dtype=np.float32)\n",
    "dang = 0.05\n",
    "dS1 = np.transpose(np.matmul(Rot_axis(3,dang),np.matmul(Rot_axis(2,dang),Rot_axis(1,dang)))).astype(np.float32)\n",
    "dS2 = np.transpose(np.matmul(Rot_axis(3,dang),np.matmul(Rot_axis(2,dang),Rot_axis(1,dang)))).astype(np.float32)\n",
    "Dvec = np.reshape(np.arange(3,0.2,-0.005), (-1,1,1))\n",
    "Rotvec1 = [np.matmul(dS1, S1Rot)]\n",
    "Rotvec2 = [np.matmul(dS2, S2Rot)]\n",
    "for i in range(1, len(Dvec)):\n",
    "    Rotvec1 += [np.matmul(dS1, Rotvec1[i-1])]\n",
    "    Rotvec2 += [np.matmul(dS2, Rotvec2[i-1])]\n",
    "s1points = np.round(np.matmul(s1verts, np.transpose(Rotvec1, axes=[0,2,1]))+(1/2+Dvec/2), 4)\n",
    "s2points = np.round(np.matmul(s2verts, np.transpose(Rotvec2, axes=[0,2,1]))-(1/2+Dvec/2), 4)\n",
    "# FX1_batch = tf.constant([[s1points[2]]*len(s1points)],dtype='float32')\n",
    "# FX2_batch = tf.constant([[s2points[2]]*len(s2points)],dtype='float32')"
   ]
  },
  {
   "cell_type": "code",
   "execution_count": null,
   "metadata": {},
   "outputs": [],
   "source": [
    "FX1_batch"
   ]
  },
  {
   "cell_type": "code",
   "execution_count": null,
   "metadata": {},
   "outputs": [],
   "source": [
    "FX1_batch = tf.constant([s1points]*3,dtype='float32')\n",
    "FX2_batch = tf.constant([s2points]*3,dtype='float32')\n",
    "N_sim = FX1_batch.shape[0]\n",
    "N_col = FX1_batch.shape[1]\n",
    "flag_default = get_flag_default(N_sim, N_col)\n",
    "dist_default = get_dist_default(N_sim, N_col)\n",
    "v_batch = np.array([[[[0.8000, 0.5000, 1.0000]]]*N_col]*N_sim,dtype=np.float32)\n",
    "gtimer.reset()\n",
    "dist_vec1 = []\n",
    "flag_vec1 = []\n",
    "avec1 = []\n",
    "bvec1 = []\n",
    "cvec1 = []\n",
    "dvec1 = []\n",
    "itervec1 = []\n",
    "for _ in range(100):\n",
    "    gtimer.tic(\"TF_batch\")\n",
    "    dist, flag = test_collision_batch(FX1_batch, FX2_batch, v_batch,flag_default,dist_default)\n",
    "#     a, b = pickLineTF_batch(v_batch, FX2_batch, FX1_batch)\n",
    "#     a, b, c, flag = PickTriangleTF_batch(a,b,FX2_batch,FX1_batch,flag_default)\n",
    "#     a,b,c,d,dist,flag, iter = pickTetrahedronTF_batch(a,b,c,FX2_batch,FX1_batch,flag_default,dist_default)\n",
    "#     avec1 += [a[0][:,:]]\n",
    "#     bvec1 += [b[0][:,:]]\n",
    "#     cvec1 += [c[0][:,:]]\n",
    "#     dvec1 += [d[0][:,:]]\n",
    "#     itervec1 += [iter]\n",
    "    dist_vec1 += [dist[0][:,0]]\n",
    "    flag_vec1 += [flag[0][:,0]]\n",
    "    gtimer.toc(\"TF_batch\")\n",
    "gtimer.print_time_log()\n",
    "dist_vec1 = np.array(dist_vec1[0])"
   ]
  },
  {
   "cell_type": "code",
   "execution_count": null,
   "metadata": {},
   "outputs": [],
   "source": [
    "FX1_batch.shape"
   ]
  },
  {
   "cell_type": "code",
   "execution_count": null,
   "metadata": {},
   "outputs": [],
   "source": [
    "plt.plot(dist_vec1)\n",
    "plt.plot(np.array(flag_vec1[0]),'o')"
   ]
  },
  {
   "cell_type": "code",
   "execution_count": null,
   "metadata": {},
   "outputs": [],
   "source": [
    "print(dist_vec1[-1])\n",
    "print(dist_vec1[-2])"
   ]
  },
  {
   "cell_type": "code",
   "execution_count": null,
   "metadata": {},
   "outputs": [],
   "source": [
    "np.max(dist_vec1[flag_vec1[0]])"
   ]
  },
  {
   "cell_type": "code",
   "execution_count": null,
   "metadata": {},
   "outputs": [],
   "source": [
    "50*30"
   ]
  },
  {
   "cell_type": "code",
   "execution_count": null,
   "metadata": {
    "scrolled": true
   },
   "outputs": [],
   "source": [
    "dist_vec = []\n",
    "flag_vec = []\n",
    "avec = []\n",
    "bvec = []\n",
    "cvec = []\n",
    "dvec = []\n",
    "itervec = []\n",
    "for iii in range(len(s1points)):\n",
    "    N_sim = 1\n",
    "    N_col = 1\n",
    "    FX1_batch = tf.constant(np.round([[s1points[iii]]*N_col], 4),dtype='float32')\n",
    "    FX2_batch = tf.constant(np.round([[s2points[iii]]*N_col], 4),dtype='float32')\n",
    "    flag_default = get_flag_default(N_sim, N_col)\n",
    "    dist_default = get_dist_default(N_sim, N_col)\n",
    "    v_batch = np.array([[[[0.8000, 0.5000, 1.0000]]]*N_col]*N_sim,dtype=np.float32)\n",
    "    gtimer.reset()\n",
    "    for _ in range(1):\n",
    "        gtimer.tic(\"TF_batch\")\n",
    "        a, b = pickLineTF_batch(v_batch, FX2_batch, FX1_batch)\n",
    "        a, b, c, flag = PickTriangleTF_batch(a,b,FX2_batch,FX1_batch,flag_default)\n",
    "        a,b,c,d,dist,flag,iter = pickTetrahedronTF_batch(a,b,c,FX2_batch,FX1_batch,flag_default,dist_default)\n",
    "        itervec += [iter]\n",
    "        avec += [a[0][0]]\n",
    "        bvec += [b[0][0]]\n",
    "        cvec += [c[0][0]]\n",
    "        dvec += [d[0][0]]\n",
    "        dist_vec += [dist[0][0]]\n",
    "        flag_vec += [flag[0][0]]\n",
    "        gtimer.toc(\"TF_batch\")\n",
    "gtimer.print_time_log()"
   ]
  },
  {
   "cell_type": "code",
   "execution_count": null,
   "metadata": {},
   "outputs": [],
   "source": [
    "print(dist_vec[-1])\n",
    "print(dist_vec[-2])"
   ]
  },
  {
   "cell_type": "code",
   "execution_count": null,
   "metadata": {
    "scrolled": true
   },
   "outputs": [],
   "source": [
    "plt.figure(figsize=(15,15))\n",
    "plt.plot(np.array(dist_vec))\n",
    "plt.plot(np.array(dist_vec1))\n",
    "plt.plot(np.array(flag_vec),'o')\n",
    "plt.plot(np.array(itervec),'o')"
   ]
  },
  {
   "cell_type": "code",
   "execution_count": null,
   "metadata": {},
   "outputs": [],
   "source": []
  },
  {
   "cell_type": "code",
   "execution_count": null,
   "metadata": {},
   "outputs": [],
   "source": [
    "class CollisionLayer(layers.Layer):\n",
    "    def __init__(self,*args, **kwargs):\n",
    "        super(CollisionLayer, self).__init__(*args, **kwargs)\n",
    "        \n",
    "#     # 변수를 만듭니다.\n",
    "#     def build(self, input_shape):\n",
    "#         pass\n",
    "\n",
    "    # call 메서드가 그래프 모드에서 사용되면\n",
    "    # training 변수는 텐서가 됩니다.\n",
    "    @tf.function\n",
    "    def call(self, inputs=None):\n",
    "        v = tf.constant([0.8000, 0.5000, 1.0000])\n",
    "        FX1 = inputs[0]\n",
    "        FX2 = inputs[1]\n",
    "        return test_collision(FX1, FX2, v, iterations)"
   ]
  },
  {
   "cell_type": "code",
   "execution_count": null,
   "metadata": {
    "scrolled": true
   },
   "outputs": [],
   "source": [
    "\n",
    "input = np.stack((FX1, FX2),axis=0)\n",
    "print(input.shape)\n",
    "cl = CollisionLayer()\n",
    "cl(input)"
   ]
  },
  {
   "cell_type": "code",
   "execution_count": null,
   "metadata": {},
   "outputs": [],
   "source": []
  },
  {
   "cell_type": "code",
   "execution_count": null,
   "metadata": {},
   "outputs": [],
   "source": [
    "inputs = tf.keras.Input(shape=(10, 128, 128, 3))\n",
    "conv_2d_layer = tf.keras.layers.Conv2D(64, (3, 3))\n",
    "outputs = tf.keras.layers.TimeDistributed(conv_2d_layer)(inputs)\n",
    "outputs.shape"
   ]
  },
  {
   "cell_type": "code",
   "execution_count": null,
   "metadata": {},
   "outputs": [],
   "source": [
    "input_val = np.random.rand(1,10,128,128,3).astype('float32')\n",
    "conv_2d_layer = tf.keras.layers.Conv2D(64, (3, 3))\n",
    "td_conv = tf.keras.layers.TimeDistributed(conv_2d_layer)\n",
    "gtimer = GlobalTimer()\n",
    "for _ in range(10):\n",
    "    gtimer.tic(\"td\")\n",
    "    outputs = td_conv(input_val)\n",
    "    gtimer.toc(\"td\")\n",
    "gtimer.print_time_log()\n",
    "\n",
    "input_val = np.random.rand(100,10,128,128,3).astype('float32')\n",
    "conv_2d_layer = tf.keras.layers.Conv2D(64, (3, 3))\n",
    "td_conv = tf.keras.layers.TimeDistributed(conv_2d_layer)\n",
    "gtimer = GlobalTimer()\n",
    "for _ in range(10):\n",
    "    gtimer.tic(\"td\")\n",
    "    outputs = td_conv(input_val)\n",
    "    gtimer.toc(\"td\")\n",
    "gtimer.print_time_log()"
   ]
  },
  {
   "cell_type": "code",
   "execution_count": null,
   "metadata": {},
   "outputs": [],
   "source": []
  },
  {
   "cell_type": "code",
   "execution_count": null,
   "metadata": {},
   "outputs": [],
   "source": []
  },
  {
   "cell_type": "code",
   "execution_count": null,
   "metadata": {},
   "outputs": [],
   "source": []
  },
  {
   "cell_type": "code",
   "execution_count": null,
   "metadata": {},
   "outputs": [],
   "source": []
  },
  {
   "cell_type": "markdown",
   "metadata": {},
   "source": [
    "# Matthew Sheen version"
   ]
  },
  {
   "cell_type": "code",
   "execution_count": null,
   "metadata": {},
   "outputs": [],
   "source": [
    "import time\n",
    "import collections\n",
    "class GlobalTimer:\n",
    "    def __init__(self, scale=1000):\n",
    "        self.name_list = []\n",
    "        self.ts_dict = {}\n",
    "        self.time_dict = collections.defaultdict(lambda: 0)\n",
    "        self.count_dict = collections.defaultdict(lambda: 0)\n",
    "        self.scale = scale\n",
    "        self.switch(True)\n",
    "        \n",
    "    def reset(self):\n",
    "        self.name_list = []\n",
    "        self.ts_dict = {}\n",
    "        self.time_dict = collections.defaultdict(lambda: 0)\n",
    "        self.count_dict = collections.defaultdict(lambda: 0)\n",
    "        self.switch(True)\n",
    "        \n",
    "    def switch(self, onoff):\n",
    "        self.__on = onoff\n",
    "    \n",
    "    def tic(self, name):\n",
    "        if self.__on:\n",
    "            if name not in self.name_list:\n",
    "                self.name_list += [name]\n",
    "            self.ts_dict[name] = time.time()\n",
    "        \n",
    "    def toc(self, name):\n",
    "        if self.__on:\n",
    "            self.time_dict[name] = self.time_dict[name]+(time.time() - self.ts_dict[name]) * self.scale\n",
    "            self.count_dict[name] = self.count_dict[name] + 1\n",
    "            \n",
    "    def toctic(self, name_toc, name_tic):\n",
    "        self.toc(name_toc)\n",
    "        self.tic(name_tic)\n",
    "        \n",
    "    def print_time_log(self, names=None, timeunit=\"ms\"):\n",
    "        if names is None:\n",
    "            names = self.name_list\n",
    "        for name in names:\n",
    "            print(\"{name}: \\t{tot_T} {timeunit}/{tot_C} = {per_T} {timeunit}\".format(\n",
    "                name=name, tot_T=np.round(np.sum(self.time_dict[name])), tot_C=self.count_dict[name], \n",
    "                per_T= np.round(np.sum(self.time_dict[name])/self.count_dict[name], 3),\n",
    "                timeunit=timeunit\n",
    "            ))\n",
    "        "
   ]
  },
  {
   "cell_type": "code",
   "execution_count": null,
   "metadata": {},
   "outputs": [],
   "source": [
    "gtimer = GlobalTimer()"
   ]
  },
  {
   "cell_type": "code",
   "execution_count": null,
   "metadata": {},
   "outputs": [],
   "source": [
    "global_save = {}\n",
    "def getFarthestInDir(FX, v):\n",
    "    global_save['FX'] = FX\n",
    "    global_save['v'] = v\n",
    "    gtimer.tic(\"getFarthestInDir\")\n",
    "    gtimer.tic(\"getFarthestInDir0\")\n",
    "    dotted = K.sum(tf.multiply(FX,v),axis=-1)\n",
    "    gtimer.toctic(\"getFarthestInDir0\", \"getFarthestInDir1\")\n",
    "    rowIdxSet = tf.argmax(dotted, axis=-1)\n",
    "    gtimer.toctic(\"getFarthestInDir1\",\"getFarthestInDir2\")\n",
    "    maxInCol = K.max(dotted, axis=-1)\n",
    "    gtimer.toctic(\"getFarthestInDir2\", \"getFarthestInDir3\")\n",
    "    colIdx = tf.expand_dims(tf.argmax(maxInCol, axis=-1),axis=-1)\n",
    "    gtimer.toctic(\"getFarthestInDir3\", \"getFarthestInDir4\")\n",
    "    rowIdx=tf.gather(params = rowIdxSet, indices=colIdx)\n",
    "    gtimer.toctic(\"getFarthestInDir4\", \"getFarthestInDir5\")\n",
    "    point=tf.gather_nd(params = FX, indices=tf.concat([colIdx,rowIdx],axis=-1))\n",
    "    gtimer.toc(\"getFarthestInDir5\")\n",
    "    gtimer.toc(\"getFarthestInDir\")\n",
    "    return point\n",
    "\n",
    "def get_facepoints(verts, faces): # (fc, vtx, ax)\n",
    "    return np.array([verts[s1f-1] for s1f in faces])\n",
    "\n",
    "def support(FX1, FX2, v):\n",
    "    gtimer.tic(\"support\")\n",
    "    point1 = getFarthestInDir(FX1, v)\n",
    "    point2 = getFarthestInDir(FX2, -v)\n",
    "    gtimer.toc(\"support\")\n",
    "    return point1 - point2\n",
    "\n",
    "def pickLine(v, FX1, FX2):\n",
    "    gtimer.tic(\"pickLine\")\n",
    "    b= support(FX2, FX1, v)\n",
    "    a= support(FX2, FX1, -v)\n",
    "    gtimer.toc(\"pickLine\")\n",
    "    return a, b\n",
    "\n",
    "def PickTriangle(a, b, FX1, FX2, IterationAllowed=6):\n",
    "    flag = 0\n",
    "\n",
    "    gtimer.tic(\"PickTriangle_init\")\n",
    "    # First try:\n",
    "    ab = b-a\n",
    "    ao = -a\n",
    "    v = tf.linalg.cross(tf.linalg.cross(ab,ao),ab) # v is perpendicular to ab pointing in the general direction of the origin\n",
    "    c = b\n",
    "    b = a\n",
    "    a = support(FX2,FX1,v)\n",
    "    gtimer.toc(\"PickTriangle_init\")\n",
    "    for i in range(IterationAllowed):\n",
    "        gtimer.tic(\"PickTriangle_loop\")\n",
    "        gtimer.tic(\"PickTriangle_loop0\")\n",
    "        ab = b-a;\n",
    "        ao = -a;\n",
    "        ac = c-a;\n",
    "        abc = tf.linalg.cross(ab,ac)\n",
    "        abp = tf.linalg.cross(ab,abc)\n",
    "        acp = tf.linalg.cross(abc,ac)\n",
    "        gtimer.toc(\"PickTriangle_loop0\")\n",
    "        if K.sum(abp*ao) > 0:\n",
    "            c = b # Throw away the furthest point and grab a new one in the right direction\n",
    "            b = a\n",
    "            v = abp # cross(cross(ab,ao),ab);\n",
    "        elif K.sum(acp*ao) > 0:\n",
    "            b = a\n",
    "            v = acp; # cross(cross(ac,ao),ac);\n",
    "\n",
    "        else:\n",
    "            flag = 1;\n",
    "            break # We got a good one.\n",
    "        a = support(FX2, FX1,v)\n",
    "        gtimer.toc(\"PickTriangle_loop\")\n",
    "\n",
    "    return a, b, c, flag\n",
    "\n",
    "\n",
    "def pickTetrahedron(a,b,c,FX1,FX2,IterationAllowed):\n",
    "    gtimer.tic(\"pickTetrahedron_init\")\n",
    "    flag = 0\n",
    "    ab = b-a\n",
    "    ac = c-a\n",
    "\n",
    "    # Normal to face of triangle\n",
    "    gtimer.tic(\"pickTetrahedron_init0\")\n",
    "    abc = tf.linalg.cross(ab,ac)\n",
    "    gtimer.toc(\"pickTetrahedron_init0\")\n",
    "    ao = -a\n",
    "\n",
    "    gtimer.tic(\"pickTetrahedron_init1\")\n",
    "    if K.sum(abc* ao) > 0: # Above\n",
    "        d = c\n",
    "        c = b\n",
    "        b = a\n",
    "\n",
    "        v = abc\n",
    "        a = support(FX2,FX1,v) # Tetrahedron new point\n",
    "    else: # below\n",
    "        d = b\n",
    "        b = a\n",
    "        v = -abc\n",
    "        a = support(FX2,FX1,v) # Tetrahedron new point\n",
    "    gtimer.toc(\"pickTetrahedron_init1\")\n",
    "    gtimer.toc(\"pickTetrahedron_init\")\n",
    "\n",
    "    for i in range(IterationAllowed): #Allowing 10 tries to make a good tetrahedron.\n",
    "        gtimer.tic(\"pickTetrahedron_loop\")\n",
    "        gtimer.tic(\"pickTetrahedron_loop0\")\n",
    "        #Check the tetrahedron:\n",
    "        ab = b-a\n",
    "        ao = -a\n",
    "        ac = c-a\n",
    "        ad = d-a\n",
    "\n",
    "        #We KNOW that the origin is not under the base of the tetrahedron based on\n",
    "        #the way we picked a. So we need to check faces ABC, ABD, and ACD.\n",
    "\n",
    "        #Normal to face of triangle\n",
    "        abc = tf.linalg.cross(ab,ac)\n",
    "\n",
    "        if K.sum(abc*ao) > 0: #Above triangle ABC\n",
    "            pass\n",
    "            # No need to change anything, we'll just iterate again with this face as\n",
    "            # default.\n",
    "        else:\n",
    "            acd = tf.linalg.cross(ac,ad) # Normal to face of triangle\n",
    "\n",
    "            if K.sum(acd*ao) > 0 : # Above triangle ACD\n",
    "                # Make this the new base triangle.\n",
    "                b = c\n",
    "                c = d\n",
    "                ab = ac\n",
    "                ac = ad            \n",
    "                abc = acd\n",
    "            elif K.sum(acd*ao) < 0:\n",
    "                adb = tf.linalg.cross(ad,ab) #Normal to face of triangle\n",
    "\n",
    "                if K.sum(adb*ao) > 0: #Above triangle ADB\n",
    "                    # Make this the new base triangle.\n",
    "                    c = b\n",
    "                    b = d\n",
    "                    ac = ab\n",
    "                    ab = ad\n",
    "                    abc = adb\n",
    "                else:\n",
    "                    flag = 1\n",
    "                    break # It's inside the tetrahedron.\n",
    "        gtimer.toc(\"pickTetrahedron_loop0\")\n",
    "\n",
    "        #try again:\n",
    "        if K.sum(abc*ao) > 0: #Above\n",
    "            d = c\n",
    "            c = b\n",
    "            b = a    \n",
    "            v = abc\n",
    "            a = support(FX2,FX1,v) #Tetrahedron new point\n",
    "        else: #below\n",
    "            d = b;\n",
    "            b = a;\n",
    "            v = -abc;\n",
    "            a = support(FX2,FX1,v) #Tetrahedron new point\n",
    "        gtimer.toc(\"pickTetrahedron_loop\")\n",
    "    return a,b,c,d,flag"
   ]
  },
  {
   "cell_type": "markdown",
   "metadata": {},
   "source": [
    "# Test"
   ]
  },
  {
   "cell_type": "code",
   "execution_count": null,
   "metadata": {},
   "outputs": [],
   "source": [
    "gtimer = GlobalTimer()"
   ]
  },
  {
   "cell_type": "code",
   "execution_count": null,
   "metadata": {},
   "outputs": [],
   "source": [
    "s1coords = np.loadtxt(\"s1.csv\", delimiter=\",\")\n",
    "s2coords = np.loadtxt(\"s2.csv\", delimiter=\",\")"
   ]
  },
  {
   "cell_type": "code",
   "execution_count": null,
   "metadata": {},
   "outputs": [],
   "source": [
    "s1faces = np.loadtxt(\"s1face.csv\", delimiter=\",\",dtype='int')\n",
    "s2faces = np.loadtxt(\"s2face.csv\", delimiter=\",\",dtype='int')"
   ]
  },
  {
   "cell_type": "code",
   "execution_count": null,
   "metadata": {},
   "outputs": [],
   "source": [
    "iterations = 6"
   ]
  },
  {
   "cell_type": "code",
   "execution_count": null,
   "metadata": {},
   "outputs": [],
   "source": [
    "s1verts = get_facepoints(s1coords, s1faces)\n",
    "s2verts = get_facepoints(s2coords, s2faces)"
   ]
  },
  {
   "cell_type": "code",
   "execution_count": null,
   "metadata": {},
   "outputs": [],
   "source": [
    "S1Rot = [\n",
    "        [0.99847,0.016541,-0.052829,],\n",
    "        [-0.014912,0.99941,0.031073,],\n",
    "        [0.053311,-0.030238,0.99812,],\n",
    "        ]\n",
    "S2Rot = [\n",
    "        [0.99752,0.065339,-0.026294,],\n",
    "        [-0.063664,0.99616,0.060141,],\n",
    "        [0.030123,-0.058318,0.99784,],\n",
    "        ]"
   ]
  },
  {
   "cell_type": "code",
   "execution_count": null,
   "metadata": {},
   "outputs": [],
   "source": [
    "s1points = tf.matmul(s1verts[:,:,:], np.transpose(S1Rot))+3\n",
    "s2points = tf.matmul(s2verts[:,:,:], np.transpose(S2Rot))-3"
   ]
  },
  {
   "cell_type": "code",
   "execution_count": null,
   "metadata": {},
   "outputs": [],
   "source": [
    "FX1 = s1points\n",
    "FX2 = s2points"
   ]
  },
  {
   "cell_type": "code",
   "execution_count": null,
   "metadata": {},
   "outputs": [],
   "source": [
    "gtimer.reset()\n",
    "v = np.array([0.8000, 0.5000, 1.0000])\n",
    "t1 = time.time()\n",
    "for _ in range(1000):\n",
    "    a, b = pickLine(v, FX2, FX1)\n",
    "    a, b, c, flag = PickTriangle(a,b,FX2,FX1,iterations)\n",
    "    if flag == 1: # Only bother if we could find a viable triangle.\n",
    "        a,b,c,d,flag = pickTetrahedron(a,b,c,FX2,FX1,iterations)\n",
    "t2 = time.time()\n",
    "print(\"{} ms, while <1ms in matlab\".format(t2-t1))"
   ]
  },
  {
   "cell_type": "code",
   "execution_count": null,
   "metadata": {},
   "outputs": [],
   "source": [
    "v = np.array([0.8000, 0.5000, 1.0000])\n",
    "a,b = pickLine(v, FX2, FX1)\n",
    "a,b"
   ]
  },
  {
   "cell_type": "code",
   "execution_count": null,
   "metadata": {},
   "outputs": [],
   "source": [
    "a, b, c, flag = PickTriangle(a,b,FX2,FX1,iterations)\n",
    "a, b, c"
   ]
  },
  {
   "cell_type": "code",
   "execution_count": null,
   "metadata": {},
   "outputs": [],
   "source": [
    "pickTetrahedron(a,b,c,FX2,FX1,iterations)"
   ]
  },
  {
   "cell_type": "code",
   "execution_count": null,
   "metadata": {},
   "outputs": [],
   "source": []
  },
  {
   "cell_type": "code",
   "execution_count": null,
   "metadata": {},
   "outputs": [],
   "source": []
  },
  {
   "cell_type": "markdown",
   "metadata": {},
   "source": [
    "# Matthew Sheen numpy version"
   ]
  },
  {
   "cell_type": "code",
   "execution_count": null,
   "metadata": {},
   "outputs": [],
   "source": [
    "def getFarthestInDir(FX, v):\n",
    "    dotted = np.sum(FX*v,axis=-1)\n",
    "    rowIdxSet = np.argmax(dotted, axis=-1)\n",
    "    maxInCol = np.max(dotted, axis=-1)\n",
    "    colIdx = np.argmax(maxInCol, axis=-1)\n",
    "    rowIdx = rowIdxSet[colIdx]\n",
    "    point = FX[colIdx,rowIdx]\n",
    "    return point\n",
    "\n",
    "\n",
    "def get_facepoints(verts, faces): # (fc, vtx, ax)\n",
    "    return np.array([verts[s1f-1] for s1f in faces])\n",
    "\n",
    "def support(FX1, FX2, v):\n",
    "    point1 = getFarthestInDir(FX1, v)\n",
    "    point2 = getFarthestInDir(FX2, -v)\n",
    "    return point1 - point2\n",
    "\n",
    "def pickLine(v, FX1, FX2):\n",
    "    b= support(FX2, FX1, v)\n",
    "    a= support(FX2, FX1, -v)\n",
    "    return a, b\n",
    "\n",
    "def PickTriangle(a, b, FX1, FX2, IterationAllowed=6):\n",
    "    flag = 0\n",
    "\n",
    "    # First try:\n",
    "    ab = b-a\n",
    "    ao = -a\n",
    "    v = np.cross(np.cross(ab,ao),ab) # v is perpendicular to ab pointing in the general direction of the origin\n",
    "    c = b\n",
    "    b = a\n",
    "    a = support(FX2,FX1,v)\n",
    "    for i in range(IterationAllowed):\n",
    "        ab = b-a;\n",
    "        ao = -a;\n",
    "        ac = c-a;\n",
    "        abc = np.cross(ab,ac)\n",
    "        abp = np.cross(ab,abc)\n",
    "        acp = np.cross(abc,ac)\n",
    "        if np.sum(abp*ao) > 0:\n",
    "            c = b # Throw away the furthest point and grab a new one in the right direction\n",
    "            b = a\n",
    "            v = abp # cross(cross(ab,ao),ab);\n",
    "        elif np.sum(acp*ao) > 0:\n",
    "            b = a\n",
    "            v = acp; # cross(cross(ac,ao),ac);\n",
    "\n",
    "        else:\n",
    "            flag = 1;\n",
    "            break # We got a good one.\n",
    "        a = support(FX2, FX1,v)\n",
    "\n",
    "    return a, b, c, flag\n",
    "\n",
    "\n",
    "def pickTetrahedron(a,b,c,FX1,FX2,IterationAllowed):\n",
    "    flag = 0\n",
    "    ab = b-a\n",
    "    ac = c-a\n",
    "\n",
    "    # Normal to face of triangle\n",
    "    abc = np.cross(ab,ac)\n",
    "    ao = -a\n",
    "\n",
    "    if np.sum(abc* ao) > 0: # Above\n",
    "        d = c\n",
    "        c = b\n",
    "        b = a\n",
    "\n",
    "        v = abc\n",
    "        a = support(FX2,FX1,v) # Tetrahedron new point\n",
    "    else: # below\n",
    "        d = b\n",
    "        b = a\n",
    "        v = -abc\n",
    "        a = support(FX2,FX1,v) # Tetrahedron new point\n",
    "\n",
    "    for i in range(IterationAllowed): #Allowing 10 tries to make a good tetrahedron.\n",
    "        #Check the tetrahedron:\n",
    "        ab = b-a\n",
    "        ao = -a\n",
    "        ac = c-a\n",
    "        ad = d-a\n",
    "\n",
    "        #We KNOW that the origin is not under the base of the tetrahedron based on\n",
    "        #the way we picked a. So we need to check faces ABC, ABD, and ACD.\n",
    "\n",
    "        #Normal to face of triangle\n",
    "        abc = np.cross(ab,ac)\n",
    "\n",
    "        if np.sum(abc*ao) > 0: #Above triangle ABC\n",
    "            pass\n",
    "            # No need to change anything, we'll just iterate again with this face as\n",
    "            # default.\n",
    "        else:\n",
    "            acd = np.cross(ac,ad) # Normal to face of triangle\n",
    "\n",
    "            if np.sum(acd*ao) > 0 : # Above triangle ACD\n",
    "                # Make this the new base triangle.\n",
    "                b = c\n",
    "                c = d\n",
    "                ab = ac\n",
    "                ac = ad            \n",
    "                abc = acd\n",
    "            elif np.sum(acd*ao) < 0:\n",
    "                adb = np.cross(ad,ab) #Normal to face of triangle\n",
    "\n",
    "                if np.sum(adb*ao) > 0: #Above triangle ADB\n",
    "                    # Make this the new base triangle.\n",
    "                    c = b\n",
    "                    b = d\n",
    "                    ac = ab\n",
    "                    ab = ad\n",
    "                    abc = adb\n",
    "                else:\n",
    "                    flag = 1\n",
    "                    break # It's inside the tetrahedron.\n",
    "\n",
    "        #try again:\n",
    "        if np.sum(abc*ao) > 0: #Above\n",
    "            d = c\n",
    "            c = b\n",
    "            b = a    \n",
    "            v = abc\n",
    "            a = support(FX2,FX1,v) #Tetrahedron new point\n",
    "        else: #below\n",
    "            d = b;\n",
    "            b = a;\n",
    "            v = -abc;\n",
    "            a = support(FX2,FX1,v) #Tetrahedron new point\n",
    "    return a,b,c,d,flag"
   ]
  },
  {
   "cell_type": "markdown",
   "metadata": {},
   "source": [
    "# Test"
   ]
  },
  {
   "cell_type": "code",
   "execution_count": null,
   "metadata": {},
   "outputs": [],
   "source": [
    "s1coords = np.loadtxt(\"s1.csv\", delimiter=\",\")\n",
    "s2coords = np.loadtxt(\"s2.csv\", delimiter=\",\")"
   ]
  },
  {
   "cell_type": "code",
   "execution_count": null,
   "metadata": {},
   "outputs": [],
   "source": [
    "s1faces = np.loadtxt(\"s1face.csv\", delimiter=\",\",dtype='int')\n",
    "s2faces = np.loadtxt(\"s2face.csv\", delimiter=\",\",dtype='int')"
   ]
  },
  {
   "cell_type": "code",
   "execution_count": null,
   "metadata": {},
   "outputs": [],
   "source": [
    "iterations = 6"
   ]
  },
  {
   "cell_type": "code",
   "execution_count": null,
   "metadata": {},
   "outputs": [],
   "source": [
    "s1verts = get_facepoints(s1coords, s1faces)\n",
    "s2verts = get_facepoints(s2coords, s2faces)"
   ]
  },
  {
   "cell_type": "code",
   "execution_count": null,
   "metadata": {},
   "outputs": [],
   "source": [
    "S1Rot = [\n",
    "        [0.99847,0.016541,-0.052829,],\n",
    "        [-0.014912,0.99941,0.031073,],\n",
    "        [0.053311,-0.030238,0.99812,],\n",
    "        ]\n",
    "S2Rot = [\n",
    "        [0.99752,0.065339,-0.026294,],\n",
    "        [-0.063664,0.99616,0.060141,],\n",
    "        [0.030123,-0.058318,0.99784,],\n",
    "        ]"
   ]
  },
  {
   "cell_type": "code",
   "execution_count": null,
   "metadata": {},
   "outputs": [],
   "source": [
    "s1points = tf.matmul(s1verts[:,:,:], np.transpose(S1Rot))+3\n",
    "s2points = tf.matmul(s2verts[:,:,:], np.transpose(S2Rot))-3"
   ]
  },
  {
   "cell_type": "code",
   "execution_count": null,
   "metadata": {},
   "outputs": [],
   "source": [
    "FX1 = s1points\n",
    "FX2 = s2points"
   ]
  },
  {
   "cell_type": "code",
   "execution_count": null,
   "metadata": {},
   "outputs": [],
   "source": [
    "t1 = time.time()\n",
    "for _ in range(1000):\n",
    "    v = np.array([0.8000, 0.5000, 1.0000])\n",
    "    a, b = pickLine(v, FX2, FX1)\n",
    "    a, b, c, flag = PickTriangle(a,b,FX2,FX1,iterations)\n",
    "    if flag == 1: # Only bother if we could find a viable triangle.\n",
    "        a,b,c,d,flag = pickTetrahedron(a,b,c,FX2,FX1,iterations)\n",
    "t2 = time.time()\n",
    "print(\"{} ms, while <1ms in matlab\".format(t2-t1))"
   ]
  },
  {
   "cell_type": "code",
   "execution_count": null,
   "metadata": {},
   "outputs": [],
   "source": []
  },
  {
   "cell_type": "code",
   "execution_count": null,
   "metadata": {},
   "outputs": [],
   "source": []
  },
  {
   "cell_type": "code",
   "execution_count": null,
   "metadata": {},
   "outputs": [],
   "source": []
  },
  {
   "cell_type": "code",
   "execution_count": null,
   "metadata": {},
   "outputs": [],
   "source": []
  }
 ],
 "metadata": {
  "kernelspec": {
   "display_name": "Python 3",
   "language": "python",
   "name": "python3"
  },
  "language_info": {
   "codemirror_mode": {
    "name": "ipython",
    "version": 3
   },
   "file_extension": ".py",
   "mimetype": "text/x-python",
   "name": "python",
   "nbconvert_exporter": "python",
   "pygments_lexer": "ipython3",
   "version": "3.6.9"
  }
 },
 "nbformat": 4,
 "nbformat_minor": 2
}
