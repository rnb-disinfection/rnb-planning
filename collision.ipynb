{
 "cells": [
  {
   "cell_type": "markdown",
   "metadata": {},
   "source": [
    "# GJK"
   ]
  },
  {
   "cell_type": "code",
   "execution_count": 1,
   "metadata": {},
   "outputs": [],
   "source": [
    "import tensorflow as tf\n",
    "from tensorflow import keras\n",
    "from tensorflow.keras import layers\n",
    "from tensorflow.keras import backend as K\n",
    "import numpy as np"
   ]
  },
  {
   "cell_type": "code",
   "execution_count": 2,
   "metadata": {},
   "outputs": [],
   "source": [
    "from pkg.tf_transform import *\n",
    "from pkg.tf_robot import *\n",
    "from pkg.constraint import *\n",
    "from pkg.info import *\n",
    "from pkg.tf_utils import *\n",
    "from pkg.rotation_utils import *\n",
    "from pkg.utils import *"
   ]
  },
  {
   "cell_type": "code",
   "execution_count": 3,
   "metadata": {},
   "outputs": [],
   "source": [
    "import matplotlib.pyplot as plt\n",
    "import time"
   ]
  },
  {
   "cell_type": "markdown",
   "metadata": {},
   "source": [
    "## for test"
   ]
  },
  {
   "cell_type": "code",
   "execution_count": 4,
   "metadata": {},
   "outputs": [],
   "source": [
    "def get_facepoints(verts, faces, N_fcs=20): # (fc, vtx, ax)\n",
    "    global_save['verts'] = verts\n",
    "    global_save['faces'] = faces\n",
    "    return np.concatenate([np.array([verts[s1f-1] for s1f in faces]), np.zeros((N_fcs-len(faces),3,3))],axis=0)\n",
    "\n",
    "def pad_vertex(verts, N_vtx):\n",
    "    l_v = len(verts)\n",
    "    assert l_v<N_vtx, \"vertex more than N_vtx\"\n",
    "    return np.concatenate([verts, np.zeros((N_vtx-l_v,3))],axis=0).astype('float32')"
   ]
  },
  {
   "cell_type": "code",
   "execution_count": 5,
   "metadata": {},
   "outputs": [],
   "source": [
    "gtimer = GlobalTimer()"
   ]
  },
  {
   "cell_type": "code",
   "execution_count": 6,
   "metadata": {},
   "outputs": [],
   "source": [
    "N_vtx = 20"
   ]
  },
  {
   "cell_type": "code",
   "execution_count": 7,
   "metadata": {},
   "outputs": [],
   "source": [
    "s1coords = np.loadtxt(\"s1.csv\", delimiter=\",\")\n",
    "s2coords = np.loadtxt(\"s2.csv\", delimiter=\",\")"
   ]
  },
  {
   "cell_type": "code",
   "execution_count": 8,
   "metadata": {},
   "outputs": [],
   "source": [
    "s1faces = np.loadtxt(\"s1face.csv\", delimiter=\",\",dtype='int')\n",
    "s2faces = np.loadtxt(\"s2face.csv\", delimiter=\",\",dtype='int')"
   ]
  },
  {
   "cell_type": "code",
   "execution_count": 9,
   "metadata": {},
   "outputs": [],
   "source": [
    "iterations = 6"
   ]
  },
  {
   "cell_type": "code",
   "execution_count": 10,
   "metadata": {},
   "outputs": [],
   "source": [
    "s1verts = pad_vertex(s1coords.astype('float32'), N_vtx) # get_facepoints(s1coords, s1faces,N_fcs).astype('float32')\n",
    "s2verts = pad_vertex(s2coords.astype('float32'), N_vtx) # get_facepoints(s2coords, s2faces,N_fcs).astype('float32')"
   ]
  },
  {
   "cell_type": "code",
   "execution_count": 11,
   "metadata": {},
   "outputs": [],
   "source": [
    "S1Rot = np.array([\n",
    "        [0.99847,0.016541,-0.052829,],\n",
    "        [-0.014912,0.99941,0.031073,],\n",
    "        [0.053311,-0.030238,0.99812,],\n",
    "        ], dtype=np.float32)\n",
    "S2Rot = np.array([\n",
    "        [0.99752,0.065339,-0.026294,],\n",
    "        [-0.063664,0.99616,0.060141,],\n",
    "        [0.030123,-0.058318,0.99784,],\n",
    "        ], dtype=np.float32)"
   ]
  },
  {
   "cell_type": "code",
   "execution_count": 12,
   "metadata": {},
   "outputs": [],
   "source": [
    "s1points = tf.matmul(s1verts, np.transpose(S1Rot))+3\n",
    "s2points = tf.matmul(s2verts, np.transpose(S2Rot))-3"
   ]
  },
  {
   "cell_type": "code",
   "execution_count": 13,
   "metadata": {},
   "outputs": [],
   "source": [
    "FX1 = s1points\n",
    "FX2 = s2points"
   ]
  },
  {
   "cell_type": "code",
   "execution_count": null,
   "metadata": {},
   "outputs": [],
   "source": []
  },
  {
   "cell_type": "markdown",
   "metadata": {},
   "source": [
    "## original_remove_face"
   ]
  },
  {
   "cell_type": "code",
   "execution_count": 92,
   "metadata": {},
   "outputs": [],
   "source": [
    "global_save = {}\n",
    "@tf.function\n",
    "def getFarthestInDir(FX, v):\n",
    "    dotted = K.sum(tf.multiply(FX,v),axis=-1)\n",
    "    IdxSet = tf.expand_dims(tf.argmax(dotted, axis=-1),axis=-1)\n",
    "    point=tf.gather(params = FX, indices=IdxSet)\n",
    "    return point\n",
    "\n",
    "@tf.function\n",
    "def support(FX1, FX2, v):\n",
    "    point1 = getFarthestInDir(FX1, v)\n",
    "    point2 = getFarthestInDir(FX2, -v)\n",
    "    return point1 - point2\n",
    "\n",
    "@tf.function\n",
    "def pickLineTF(v, FX1, FX2):\n",
    "    b= support(FX2, FX1, v)\n",
    "    a= support(FX2, FX1, -v)\n",
    "    return a, b\n",
    "\n",
    "@tf.function\n",
    "def _loop_PickTriangle(a, b, c, flag, FX1, FX2):\n",
    "    ab = b-a;\n",
    "    ao = -a;\n",
    "    ac = c-a;\n",
    "    abc = tf.linalg.cross(ab,ac)\n",
    "    abp = tf.linalg.cross(ab,abc)\n",
    "    acp = tf.linalg.cross(abc,ac)\n",
    "    abpo = K.sum(abp*ao) > 0\n",
    "    acpo = K.sum(acp*ao) > 0\n",
    "        \n",
    "    a,b,c,flag = tf.case(\n",
    "        [\n",
    "            (abpo, lambda: (support(FX2, FX1,abp),a,b,False)),\n",
    "            (acpo, lambda: (support(FX2, FX1,acp),a,c,False))\n",
    "        ], default=lambda: (a,b,c,True))\n",
    "    return a,b,c,flag, FX1, FX2\n",
    "\n",
    "@tf.function\n",
    "def _cond_PickTriangle(a, b, c, flag, FX1, FX2):\n",
    "    return tf.logical_not(flag)\n",
    "    \n",
    "\n",
    "@tf.function\n",
    "def PickTriangleTF(a, b, FX1, FX2, IterationAllowed=6):\n",
    "    flag = False\n",
    "\n",
    "    # First try:\n",
    "    ab = b-a\n",
    "    ao = -a\n",
    "    v = tf.linalg.cross(tf.linalg.cross(ab,ao),ab) # v is perpendicular to ab pointing in the general direction of the origin\n",
    "    c = b\n",
    "    b = a\n",
    "    a = support(FX2,FX1,v)\n",
    "    a,b,c,flag, _, _ = tf.while_loop(\n",
    "        _cond_PickTriangle, _loop_PickTriangle, (a,b,c,flag, FX1, FX2), parallel_iterations=10, maximum_iterations=IterationAllowed\n",
    "    )\n",
    "\n",
    "    return a, b, c, flag\n",
    "\n",
    "@tf.function\n",
    "def _loop_pickTetrahedron(a, b, c, d, flag, FX1, FX2):\n",
    "    #Check the tetrahedron:\n",
    "    ab = b-a\n",
    "    ao = -a\n",
    "    ac = c-a\n",
    "    ad = d-a\n",
    "\n",
    "    #We KNOW that the origin is not under the base of the tetrahedron based on\n",
    "    #the way we picked a. So we need to check faces ABC, ABD, and ACD.\n",
    "\n",
    "    #Normal to face of triangle\n",
    "    abc = tf.linalg.cross(ab,ac)\n",
    "    acd = tf.linalg.cross(ac,ad)\n",
    "    adb = tf.linalg.cross(ad,ab)\n",
    "\n",
    "    b,c,abc,flag = tf.cond(\n",
    "        tf.greater(K.sum(abc*ao), 0), \n",
    "        lambda: (b,c,abc,flag), \n",
    "        lambda: tf.cond(\n",
    "            tf.greater(K.sum(acd*ao), 0),\n",
    "            lambda: (c,d,acd,flag),\n",
    "            lambda: tf.cond(\n",
    "                tf.greater(K.sum(adb*ao), 0),\n",
    "                lambda: (d,b,adb,flag),\n",
    "                lambda: (b,c,abc,True)\n",
    "            )\n",
    "        )\n",
    "    )\n",
    "\n",
    "    a,b,c,d = tf.cond(tf.greater(K.sum(abc*ao), 0), \n",
    "                        lambda: (support(FX2,FX1,abc),a,b,c), \n",
    "                        lambda: (support(FX2,FX1,-abc),a,c,b)\n",
    "                       )\n",
    "    return a, b, c, d, flag, FX1, FX2\n",
    "\n",
    "@tf.function\n",
    "def _cond_pickTetrahedron(a, b, c, d, flag, FX1, FX2):\n",
    "    return tf.logical_not(flag)\n",
    "\n",
    "@tf.function\n",
    "def pickTetrahedronTF(a,b,c,FX1,FX2,IterationAllowed):\n",
    "    flag = False\n",
    "    ab = b-a\n",
    "    ac = c-a\n",
    "\n",
    "    # Normal to face of triangle\n",
    "    abc = tf.linalg.cross(ab,ac)\n",
    "    ao = -a\n",
    "\n",
    "    a,b,c,d = tf.cond(tf.greater(K.sum(abc* ao), 0), \n",
    "                        lambda: (support(FX2,FX1,abc),a,b,c), \n",
    "                        lambda: (support(FX2,FX1,-abc),a,c,b)\n",
    "                       )\n",
    "\n",
    "    a, b, c, d, flag, _, _ = tf.while_loop(\n",
    "        _cond_pickTetrahedron, _loop_pickTetrahedron, (a,b,c,d,flag, FX1, FX2), \n",
    "        parallel_iterations=10, maximum_iterations=IterationAllowed\n",
    "    )   \n",
    "    return a,b,c,d,flag\n",
    "\n",
    "@tf.function\n",
    "def test_collision(FX1, FX2, v, iterations):\n",
    "    a, b = pickLineTF(v, FX2, FX1)\n",
    "    a, b, c, flag = PickTriangleTF(a,b,FX2,FX1,iterations)\n",
    "    a,b,c,d,flag = tf.cond(flag, # Only bother if we could find a viable triangle.\n",
    "                           lambda: pickTetrahedronTF(a,b,c,FX2,FX1,iterations),\n",
    "                           lambda: (a,b,c,c,flag))\n",
    "    return flag"
   ]
  },
  {
   "cell_type": "code",
   "execution_count": 94,
   "metadata": {},
   "outputs": [
    {
     "data": {
      "text/plain": [
       "<tf.Tensor: shape=(), dtype=bool, numpy=False>"
      ]
     },
     "execution_count": 94,
     "metadata": {},
     "output_type": "execute_result"
    }
   ],
   "source": [
    "test_collision(FX1,FX2, v, iterations)"
   ]
  },
  {
   "cell_type": "code",
   "execution_count": 96,
   "metadata": {},
   "outputs": [
    {
     "name": "stdout",
     "output_type": "stream",
     "text": [
      "0.8917534351348877 ms, while <1ms in matlab\n"
     ]
    }
   ],
   "source": [
    "gtimer.reset()\n",
    "v = np.array([0.8000, 0.5000, 1.0000], dtype=np.float32)\n",
    "t1 = time.time()\n",
    "for _ in range(1000):\n",
    "    flag = test_collision(FX1, FX2, v, iterations)\n",
    "    if flag:\n",
    "        print(\"Collision\")\n",
    "t2 = time.time()\n",
    "print(\"{} ms, while <1ms in matlab\".format(t2-t1))\n",
    "gtimer.print_time_log()"
   ]
  },
  {
   "cell_type": "code",
   "execution_count": null,
   "metadata": {},
   "outputs": [],
   "source": []
  },
  {
   "cell_type": "code",
   "execution_count": 37,
   "metadata": {},
   "outputs": [],
   "source": []
  },
  {
   "cell_type": "code",
   "execution_count": 38,
   "metadata": {},
   "outputs": [],
   "source": [
    "glog = {}\n",
    "class CollisionLayer(layers.Layer):\n",
    "    def __init__(self,*args, **kwargs):\n",
    "        super(CollisionLayer, self).__init__(*args, **kwargs)\n",
    "        \n",
    "    # 변수를 만듭니다.\n",
    "    def build(self, input_shape):\n",
    "        pass\n",
    "\n",
    "    # call 메서드가 그래프 모드에서 사용되면\n",
    "    # training 변수는 텐서가 됩니다.\n",
    "    @tf.function\n",
    "    def call(self, inputs=None):\n",
    "        v = tf.constant([0.8000, 0.5000, 1.0000])\n",
    "        glog['FX1'] = inputs[0]\n",
    "        glog['FX2'] = inputs[1]\n",
    "        FX1, FX2 = inputs\n",
    "        return test_collision(FX1, FX2, v)"
   ]
  },
  {
   "cell_type": "code",
   "execution_count": 39,
   "metadata": {},
   "outputs": [
    {
     "data": {
      "text/plain": [
       "{}"
      ]
     },
     "execution_count": 39,
     "metadata": {},
     "output_type": "execute_result"
    }
   ],
   "source": [
    "glog"
   ]
  },
  {
   "cell_type": "code",
   "execution_count": 40,
   "metadata": {
    "scrolled": true
   },
   "outputs": [
    {
     "ename": "TypeError",
     "evalue": "in user code:\n\n    <ipython-input-38-58c41db4205d>:18 call  *\n        return test_collision(FX1, FX2, v)\n    <ipython-input-37-209f138bd3f2>:5 test_collision  *\n        if flag == 1: # Only bother if we could find a viable triangle.\n    /home/junsu/.local/lib/python3.6/site-packages/tensorflow/python/ops/math_ops.py:1491 tensor_equals\n        return gen_math_ops.equal(self, other, incompatible_shape_error=False)\n    /home/junsu/.local/lib/python3.6/site-packages/tensorflow/python/ops/gen_math_ops.py:3224 equal\n        name=name)\n    /home/junsu/.local/lib/python3.6/site-packages/tensorflow/python/framework/op_def_library.py:479 _apply_op_helper\n        repr(values), type(values).__name__, err))\n\n    TypeError: Expected bool passed to parameter 'y' of op 'Equal', got 1 of type 'int' instead. Error: Expected bool, got 1 of type 'int' instead.\n",
     "output_type": "error",
     "traceback": [
      "\u001b[0;31m---------------------------------------------------------------------------\u001b[0m",
      "\u001b[0;31mTypeError\u001b[0m                                 Traceback (most recent call last)",
      "\u001b[0;32m<ipython-input-40-98695e44bbfb>\u001b[0m in \u001b[0;36m<module>\u001b[0;34m\u001b[0m\n\u001b[1;32m      1\u001b[0m \u001b[0;31m# input = np.stack((FX1, FX2),axis=0)\u001b[0m\u001b[0;34m\u001b[0m\u001b[0;34m\u001b[0m\u001b[0;34m\u001b[0m\u001b[0m\n\u001b[1;32m      2\u001b[0m \u001b[0minput\u001b[0m \u001b[0;34m=\u001b[0m \u001b[0;34m(\u001b[0m\u001b[0mFX1\u001b[0m\u001b[0;34m,\u001b[0m \u001b[0mFX2\u001b[0m\u001b[0;34m)\u001b[0m\u001b[0;34m\u001b[0m\u001b[0;34m\u001b[0m\u001b[0m\n\u001b[0;32m----> 3\u001b[0;31m \u001b[0mCollisionLayer\u001b[0m\u001b[0;34m(\u001b[0m\u001b[0;34m)\u001b[0m\u001b[0;34m(\u001b[0m\u001b[0minput\u001b[0m\u001b[0;34m)\u001b[0m\u001b[0;34m\u001b[0m\u001b[0;34m\u001b[0m\u001b[0m\n\u001b[0m",
      "\u001b[0;32m~/.local/lib/python3.6/site-packages/tensorflow/python/keras/engine/base_layer.py\u001b[0m in \u001b[0;36m__call__\u001b[0;34m(self, *args, **kwargs)\u001b[0m\n\u001b[1;32m    966\u001b[0m           with base_layer_utils.autocast_context_manager(\n\u001b[1;32m    967\u001b[0m               self._compute_dtype):\n\u001b[0;32m--> 968\u001b[0;31m             \u001b[0moutputs\u001b[0m \u001b[0;34m=\u001b[0m \u001b[0mself\u001b[0m\u001b[0;34m.\u001b[0m\u001b[0mcall\u001b[0m\u001b[0;34m(\u001b[0m\u001b[0mcast_inputs\u001b[0m\u001b[0;34m,\u001b[0m \u001b[0;34m*\u001b[0m\u001b[0margs\u001b[0m\u001b[0;34m,\u001b[0m \u001b[0;34m**\u001b[0m\u001b[0mkwargs\u001b[0m\u001b[0;34m)\u001b[0m\u001b[0;34m\u001b[0m\u001b[0;34m\u001b[0m\u001b[0m\n\u001b[0m\u001b[1;32m    969\u001b[0m           \u001b[0mself\u001b[0m\u001b[0;34m.\u001b[0m\u001b[0m_handle_activity_regularization\u001b[0m\u001b[0;34m(\u001b[0m\u001b[0minputs\u001b[0m\u001b[0;34m,\u001b[0m \u001b[0moutputs\u001b[0m\u001b[0;34m)\u001b[0m\u001b[0;34m\u001b[0m\u001b[0;34m\u001b[0m\u001b[0m\n\u001b[1;32m    970\u001b[0m           \u001b[0mself\u001b[0m\u001b[0;34m.\u001b[0m\u001b[0m_set_mask_metadata\u001b[0m\u001b[0;34m(\u001b[0m\u001b[0minputs\u001b[0m\u001b[0;34m,\u001b[0m \u001b[0moutputs\u001b[0m\u001b[0;34m,\u001b[0m \u001b[0minput_masks\u001b[0m\u001b[0;34m)\u001b[0m\u001b[0;34m\u001b[0m\u001b[0;34m\u001b[0m\u001b[0m\n",
      "\u001b[0;32m~/.local/lib/python3.6/site-packages/tensorflow/python/eager/def_function.py\u001b[0m in \u001b[0;36m__call__\u001b[0;34m(self, *args, **kwds)\u001b[0m\n\u001b[1;32m    578\u001b[0m         \u001b[0mxla_context\u001b[0m\u001b[0;34m.\u001b[0m\u001b[0mExit\u001b[0m\u001b[0;34m(\u001b[0m\u001b[0;34m)\u001b[0m\u001b[0;34m\u001b[0m\u001b[0;34m\u001b[0m\u001b[0m\n\u001b[1;32m    579\u001b[0m     \u001b[0;32melse\u001b[0m\u001b[0;34m:\u001b[0m\u001b[0;34m\u001b[0m\u001b[0;34m\u001b[0m\u001b[0m\n\u001b[0;32m--> 580\u001b[0;31m       \u001b[0mresult\u001b[0m \u001b[0;34m=\u001b[0m \u001b[0mself\u001b[0m\u001b[0;34m.\u001b[0m\u001b[0m_call\u001b[0m\u001b[0;34m(\u001b[0m\u001b[0;34m*\u001b[0m\u001b[0margs\u001b[0m\u001b[0;34m,\u001b[0m \u001b[0;34m**\u001b[0m\u001b[0mkwds\u001b[0m\u001b[0;34m)\u001b[0m\u001b[0;34m\u001b[0m\u001b[0;34m\u001b[0m\u001b[0m\n\u001b[0m\u001b[1;32m    581\u001b[0m \u001b[0;34m\u001b[0m\u001b[0m\n\u001b[1;32m    582\u001b[0m     \u001b[0;32mif\u001b[0m \u001b[0mtracing_count\u001b[0m \u001b[0;34m==\u001b[0m \u001b[0mself\u001b[0m\u001b[0;34m.\u001b[0m\u001b[0m_get_tracing_count\u001b[0m\u001b[0;34m(\u001b[0m\u001b[0;34m)\u001b[0m\u001b[0;34m:\u001b[0m\u001b[0;34m\u001b[0m\u001b[0;34m\u001b[0m\u001b[0m\n",
      "\u001b[0;32m~/.local/lib/python3.6/site-packages/tensorflow/python/eager/def_function.py\u001b[0m in \u001b[0;36m_call\u001b[0;34m(self, *args, **kwds)\u001b[0m\n\u001b[1;32m    625\u001b[0m       \u001b[0;31m# This is the first call of __call__, so we have to initialize.\u001b[0m\u001b[0;34m\u001b[0m\u001b[0;34m\u001b[0m\u001b[0;34m\u001b[0m\u001b[0m\n\u001b[1;32m    626\u001b[0m       \u001b[0minitializers\u001b[0m \u001b[0;34m=\u001b[0m \u001b[0;34m[\u001b[0m\u001b[0;34m]\u001b[0m\u001b[0;34m\u001b[0m\u001b[0;34m\u001b[0m\u001b[0m\n\u001b[0;32m--> 627\u001b[0;31m       \u001b[0mself\u001b[0m\u001b[0;34m.\u001b[0m\u001b[0m_initialize\u001b[0m\u001b[0;34m(\u001b[0m\u001b[0margs\u001b[0m\u001b[0;34m,\u001b[0m \u001b[0mkwds\u001b[0m\u001b[0;34m,\u001b[0m \u001b[0madd_initializers_to\u001b[0m\u001b[0;34m=\u001b[0m\u001b[0minitializers\u001b[0m\u001b[0;34m)\u001b[0m\u001b[0;34m\u001b[0m\u001b[0;34m\u001b[0m\u001b[0m\n\u001b[0m\u001b[1;32m    628\u001b[0m     \u001b[0;32mfinally\u001b[0m\u001b[0;34m:\u001b[0m\u001b[0;34m\u001b[0m\u001b[0;34m\u001b[0m\u001b[0m\n\u001b[1;32m    629\u001b[0m       \u001b[0;31m# At this point we know that the initialization is complete (or less\u001b[0m\u001b[0;34m\u001b[0m\u001b[0;34m\u001b[0m\u001b[0;34m\u001b[0m\u001b[0m\n",
      "\u001b[0;32m~/.local/lib/python3.6/site-packages/tensorflow/python/eager/def_function.py\u001b[0m in \u001b[0;36m_initialize\u001b[0;34m(self, args, kwds, add_initializers_to)\u001b[0m\n\u001b[1;32m    504\u001b[0m     self._concrete_stateful_fn = (\n\u001b[1;32m    505\u001b[0m         self._stateful_fn._get_concrete_function_internal_garbage_collected(  # pylint: disable=protected-access\n\u001b[0;32m--> 506\u001b[0;31m             *args, **kwds))\n\u001b[0m\u001b[1;32m    507\u001b[0m \u001b[0;34m\u001b[0m\u001b[0m\n\u001b[1;32m    508\u001b[0m     \u001b[0;32mdef\u001b[0m \u001b[0minvalid_creator_scope\u001b[0m\u001b[0;34m(\u001b[0m\u001b[0;34m*\u001b[0m\u001b[0munused_args\u001b[0m\u001b[0;34m,\u001b[0m \u001b[0;34m**\u001b[0m\u001b[0munused_kwds\u001b[0m\u001b[0;34m)\u001b[0m\u001b[0;34m:\u001b[0m\u001b[0;34m\u001b[0m\u001b[0;34m\u001b[0m\u001b[0m\n",
      "\u001b[0;32m~/.local/lib/python3.6/site-packages/tensorflow/python/eager/function.py\u001b[0m in \u001b[0;36m_get_concrete_function_internal_garbage_collected\u001b[0;34m(self, *args, **kwargs)\u001b[0m\n\u001b[1;32m   2444\u001b[0m       \u001b[0margs\u001b[0m\u001b[0;34m,\u001b[0m \u001b[0mkwargs\u001b[0m \u001b[0;34m=\u001b[0m \u001b[0;32mNone\u001b[0m\u001b[0;34m,\u001b[0m \u001b[0;32mNone\u001b[0m\u001b[0;34m\u001b[0m\u001b[0;34m\u001b[0m\u001b[0m\n\u001b[1;32m   2445\u001b[0m     \u001b[0;32mwith\u001b[0m \u001b[0mself\u001b[0m\u001b[0;34m.\u001b[0m\u001b[0m_lock\u001b[0m\u001b[0;34m:\u001b[0m\u001b[0;34m\u001b[0m\u001b[0;34m\u001b[0m\u001b[0m\n\u001b[0;32m-> 2446\u001b[0;31m       \u001b[0mgraph_function\u001b[0m\u001b[0;34m,\u001b[0m \u001b[0m_\u001b[0m\u001b[0;34m,\u001b[0m \u001b[0m_\u001b[0m \u001b[0;34m=\u001b[0m \u001b[0mself\u001b[0m\u001b[0;34m.\u001b[0m\u001b[0m_maybe_define_function\u001b[0m\u001b[0;34m(\u001b[0m\u001b[0margs\u001b[0m\u001b[0;34m,\u001b[0m \u001b[0mkwargs\u001b[0m\u001b[0;34m)\u001b[0m\u001b[0;34m\u001b[0m\u001b[0;34m\u001b[0m\u001b[0m\n\u001b[0m\u001b[1;32m   2447\u001b[0m     \u001b[0;32mreturn\u001b[0m \u001b[0mgraph_function\u001b[0m\u001b[0;34m\u001b[0m\u001b[0;34m\u001b[0m\u001b[0m\n\u001b[1;32m   2448\u001b[0m \u001b[0;34m\u001b[0m\u001b[0m\n",
      "\u001b[0;32m~/.local/lib/python3.6/site-packages/tensorflow/python/eager/function.py\u001b[0m in \u001b[0;36m_maybe_define_function\u001b[0;34m(self, args, kwargs)\u001b[0m\n\u001b[1;32m   2775\u001b[0m \u001b[0;34m\u001b[0m\u001b[0m\n\u001b[1;32m   2776\u001b[0m       \u001b[0mself\u001b[0m\u001b[0;34m.\u001b[0m\u001b[0m_function_cache\u001b[0m\u001b[0;34m.\u001b[0m\u001b[0mmissed\u001b[0m\u001b[0;34m.\u001b[0m\u001b[0madd\u001b[0m\u001b[0;34m(\u001b[0m\u001b[0mcall_context_key\u001b[0m\u001b[0;34m)\u001b[0m\u001b[0;34m\u001b[0m\u001b[0;34m\u001b[0m\u001b[0m\n\u001b[0;32m-> 2777\u001b[0;31m       \u001b[0mgraph_function\u001b[0m \u001b[0;34m=\u001b[0m \u001b[0mself\u001b[0m\u001b[0;34m.\u001b[0m\u001b[0m_create_graph_function\u001b[0m\u001b[0;34m(\u001b[0m\u001b[0margs\u001b[0m\u001b[0;34m,\u001b[0m \u001b[0mkwargs\u001b[0m\u001b[0;34m)\u001b[0m\u001b[0;34m\u001b[0m\u001b[0;34m\u001b[0m\u001b[0m\n\u001b[0m\u001b[1;32m   2778\u001b[0m       \u001b[0mself\u001b[0m\u001b[0;34m.\u001b[0m\u001b[0m_function_cache\u001b[0m\u001b[0;34m.\u001b[0m\u001b[0mprimary\u001b[0m\u001b[0;34m[\u001b[0m\u001b[0mcache_key\u001b[0m\u001b[0;34m]\u001b[0m \u001b[0;34m=\u001b[0m \u001b[0mgraph_function\u001b[0m\u001b[0;34m\u001b[0m\u001b[0;34m\u001b[0m\u001b[0m\n\u001b[1;32m   2779\u001b[0m       \u001b[0;32mreturn\u001b[0m \u001b[0mgraph_function\u001b[0m\u001b[0;34m,\u001b[0m \u001b[0margs\u001b[0m\u001b[0;34m,\u001b[0m \u001b[0mkwargs\u001b[0m\u001b[0;34m\u001b[0m\u001b[0;34m\u001b[0m\u001b[0m\n",
      "\u001b[0;32m~/.local/lib/python3.6/site-packages/tensorflow/python/eager/function.py\u001b[0m in \u001b[0;36m_create_graph_function\u001b[0;34m(self, args, kwargs, override_flat_arg_shapes)\u001b[0m\n\u001b[1;32m   2665\u001b[0m             \u001b[0marg_names\u001b[0m\u001b[0;34m=\u001b[0m\u001b[0marg_names\u001b[0m\u001b[0;34m,\u001b[0m\u001b[0;34m\u001b[0m\u001b[0;34m\u001b[0m\u001b[0m\n\u001b[1;32m   2666\u001b[0m             \u001b[0moverride_flat_arg_shapes\u001b[0m\u001b[0;34m=\u001b[0m\u001b[0moverride_flat_arg_shapes\u001b[0m\u001b[0;34m,\u001b[0m\u001b[0;34m\u001b[0m\u001b[0;34m\u001b[0m\u001b[0m\n\u001b[0;32m-> 2667\u001b[0;31m             capture_by_value=self._capture_by_value),\n\u001b[0m\u001b[1;32m   2668\u001b[0m         \u001b[0mself\u001b[0m\u001b[0;34m.\u001b[0m\u001b[0m_function_attributes\u001b[0m\u001b[0;34m,\u001b[0m\u001b[0;34m\u001b[0m\u001b[0;34m\u001b[0m\u001b[0m\n\u001b[1;32m   2669\u001b[0m         \u001b[0;31m# Tell the ConcreteFunction to clean up its graph once it goes out of\u001b[0m\u001b[0;34m\u001b[0m\u001b[0;34m\u001b[0m\u001b[0;34m\u001b[0m\u001b[0m\n",
      "\u001b[0;32m~/.local/lib/python3.6/site-packages/tensorflow/python/framework/func_graph.py\u001b[0m in \u001b[0;36mfunc_graph_from_py_func\u001b[0;34m(name, python_func, args, kwargs, signature, func_graph, autograph, autograph_options, add_control_dependencies, arg_names, op_return_value, collections, capture_by_value, override_flat_arg_shapes)\u001b[0m\n\u001b[1;32m    979\u001b[0m         \u001b[0m_\u001b[0m\u001b[0;34m,\u001b[0m \u001b[0moriginal_func\u001b[0m \u001b[0;34m=\u001b[0m \u001b[0mtf_decorator\u001b[0m\u001b[0;34m.\u001b[0m\u001b[0munwrap\u001b[0m\u001b[0;34m(\u001b[0m\u001b[0mpython_func\u001b[0m\u001b[0;34m)\u001b[0m\u001b[0;34m\u001b[0m\u001b[0;34m\u001b[0m\u001b[0m\n\u001b[1;32m    980\u001b[0m \u001b[0;34m\u001b[0m\u001b[0m\n\u001b[0;32m--> 981\u001b[0;31m       \u001b[0mfunc_outputs\u001b[0m \u001b[0;34m=\u001b[0m \u001b[0mpython_func\u001b[0m\u001b[0;34m(\u001b[0m\u001b[0;34m*\u001b[0m\u001b[0mfunc_args\u001b[0m\u001b[0;34m,\u001b[0m \u001b[0;34m**\u001b[0m\u001b[0mfunc_kwargs\u001b[0m\u001b[0;34m)\u001b[0m\u001b[0;34m\u001b[0m\u001b[0;34m\u001b[0m\u001b[0m\n\u001b[0m\u001b[1;32m    982\u001b[0m \u001b[0;34m\u001b[0m\u001b[0m\n\u001b[1;32m    983\u001b[0m       \u001b[0;31m# invariant: `func_outputs` contains only Tensors, CompositeTensors,\u001b[0m\u001b[0;34m\u001b[0m\u001b[0;34m\u001b[0m\u001b[0;34m\u001b[0m\u001b[0m\n",
      "\u001b[0;32m~/.local/lib/python3.6/site-packages/tensorflow/python/eager/def_function.py\u001b[0m in \u001b[0;36mwrapped_fn\u001b[0;34m(*args, **kwds)\u001b[0m\n\u001b[1;32m    439\u001b[0m         \u001b[0;31m# __wrapped__ allows AutoGraph to swap in a converted function. We give\u001b[0m\u001b[0;34m\u001b[0m\u001b[0;34m\u001b[0m\u001b[0;34m\u001b[0m\u001b[0m\n\u001b[1;32m    440\u001b[0m         \u001b[0;31m# the function a weak reference to itself to avoid a reference cycle.\u001b[0m\u001b[0;34m\u001b[0m\u001b[0;34m\u001b[0m\u001b[0;34m\u001b[0m\u001b[0m\n\u001b[0;32m--> 441\u001b[0;31m         \u001b[0;32mreturn\u001b[0m \u001b[0mweak_wrapped_fn\u001b[0m\u001b[0;34m(\u001b[0m\u001b[0;34m)\u001b[0m\u001b[0;34m.\u001b[0m\u001b[0m__wrapped__\u001b[0m\u001b[0;34m(\u001b[0m\u001b[0;34m*\u001b[0m\u001b[0margs\u001b[0m\u001b[0;34m,\u001b[0m \u001b[0;34m**\u001b[0m\u001b[0mkwds\u001b[0m\u001b[0;34m)\u001b[0m\u001b[0;34m\u001b[0m\u001b[0;34m\u001b[0m\u001b[0m\n\u001b[0m\u001b[1;32m    442\u001b[0m     \u001b[0mweak_wrapped_fn\u001b[0m \u001b[0;34m=\u001b[0m \u001b[0mweakref\u001b[0m\u001b[0;34m.\u001b[0m\u001b[0mref\u001b[0m\u001b[0;34m(\u001b[0m\u001b[0mwrapped_fn\u001b[0m\u001b[0;34m)\u001b[0m\u001b[0;34m\u001b[0m\u001b[0;34m\u001b[0m\u001b[0m\n\u001b[1;32m    443\u001b[0m \u001b[0;34m\u001b[0m\u001b[0m\n",
      "\u001b[0;32m~/.local/lib/python3.6/site-packages/tensorflow/python/eager/function.py\u001b[0m in \u001b[0;36mbound_method_wrapper\u001b[0;34m(*args, **kwargs)\u001b[0m\n\u001b[1;32m   3297\u001b[0m     \u001b[0;31m# However, the replacer is still responsible for attaching self properly.\u001b[0m\u001b[0;34m\u001b[0m\u001b[0;34m\u001b[0m\u001b[0;34m\u001b[0m\u001b[0m\n\u001b[1;32m   3298\u001b[0m     \u001b[0;31m# TODO(mdan): Is it possible to do it here instead?\u001b[0m\u001b[0;34m\u001b[0m\u001b[0;34m\u001b[0m\u001b[0;34m\u001b[0m\u001b[0m\n\u001b[0;32m-> 3299\u001b[0;31m     \u001b[0;32mreturn\u001b[0m \u001b[0mwrapped_fn\u001b[0m\u001b[0;34m(\u001b[0m\u001b[0;34m*\u001b[0m\u001b[0margs\u001b[0m\u001b[0;34m,\u001b[0m \u001b[0;34m**\u001b[0m\u001b[0mkwargs\u001b[0m\u001b[0;34m)\u001b[0m\u001b[0;34m\u001b[0m\u001b[0;34m\u001b[0m\u001b[0m\n\u001b[0m\u001b[1;32m   3300\u001b[0m   \u001b[0mweak_bound_method_wrapper\u001b[0m \u001b[0;34m=\u001b[0m \u001b[0mweakref\u001b[0m\u001b[0;34m.\u001b[0m\u001b[0mref\u001b[0m\u001b[0;34m(\u001b[0m\u001b[0mbound_method_wrapper\u001b[0m\u001b[0;34m)\u001b[0m\u001b[0;34m\u001b[0m\u001b[0;34m\u001b[0m\u001b[0m\n\u001b[1;32m   3301\u001b[0m \u001b[0;34m\u001b[0m\u001b[0m\n",
      "\u001b[0;32m~/.local/lib/python3.6/site-packages/tensorflow/python/framework/func_graph.py\u001b[0m in \u001b[0;36mwrapper\u001b[0;34m(*args, **kwargs)\u001b[0m\n\u001b[1;32m    966\u001b[0m           \u001b[0;32mexcept\u001b[0m \u001b[0mException\u001b[0m \u001b[0;32mas\u001b[0m \u001b[0me\u001b[0m\u001b[0;34m:\u001b[0m  \u001b[0;31m# pylint:disable=broad-except\u001b[0m\u001b[0;34m\u001b[0m\u001b[0;34m\u001b[0m\u001b[0m\n\u001b[1;32m    967\u001b[0m             \u001b[0;32mif\u001b[0m \u001b[0mhasattr\u001b[0m\u001b[0;34m(\u001b[0m\u001b[0me\u001b[0m\u001b[0;34m,\u001b[0m \u001b[0;34m\"ag_error_metadata\"\u001b[0m\u001b[0;34m)\u001b[0m\u001b[0;34m:\u001b[0m\u001b[0;34m\u001b[0m\u001b[0;34m\u001b[0m\u001b[0m\n\u001b[0;32m--> 968\u001b[0;31m               \u001b[0;32mraise\u001b[0m \u001b[0me\u001b[0m\u001b[0;34m.\u001b[0m\u001b[0mag_error_metadata\u001b[0m\u001b[0;34m.\u001b[0m\u001b[0mto_exception\u001b[0m\u001b[0;34m(\u001b[0m\u001b[0me\u001b[0m\u001b[0;34m)\u001b[0m\u001b[0;34m\u001b[0m\u001b[0;34m\u001b[0m\u001b[0m\n\u001b[0m\u001b[1;32m    969\u001b[0m             \u001b[0;32melse\u001b[0m\u001b[0;34m:\u001b[0m\u001b[0;34m\u001b[0m\u001b[0;34m\u001b[0m\u001b[0m\n\u001b[1;32m    970\u001b[0m               \u001b[0;32mraise\u001b[0m\u001b[0;34m\u001b[0m\u001b[0;34m\u001b[0m\u001b[0m\n",
      "\u001b[0;31mTypeError\u001b[0m: in user code:\n\n    <ipython-input-38-58c41db4205d>:18 call  *\n        return test_collision(FX1, FX2, v)\n    <ipython-input-37-209f138bd3f2>:5 test_collision  *\n        if flag == 1: # Only bother if we could find a viable triangle.\n    /home/junsu/.local/lib/python3.6/site-packages/tensorflow/python/ops/math_ops.py:1491 tensor_equals\n        return gen_math_ops.equal(self, other, incompatible_shape_error=False)\n    /home/junsu/.local/lib/python3.6/site-packages/tensorflow/python/ops/gen_math_ops.py:3224 equal\n        name=name)\n    /home/junsu/.local/lib/python3.6/site-packages/tensorflow/python/framework/op_def_library.py:479 _apply_op_helper\n        repr(values), type(values).__name__, err))\n\n    TypeError: Expected bool passed to parameter 'y' of op 'Equal', got 1 of type 'int' instead. Error: Expected bool, got 1 of type 'int' instead.\n"
     ]
    }
   ],
   "source": [
    "# input = np.stack((FX1, FX2),axis=0)\n",
    "input = (FX1, FX2)\n",
    "CollisionLayer()(input)"
   ]
  },
  {
   "cell_type": "code",
   "execution_count": 122,
   "metadata": {},
   "outputs": [],
   "source": [
    "tcl = layers.TimeDistributed(CollisionLayer())"
   ]
  },
  {
   "cell_type": "code",
   "execution_count": null,
   "metadata": {},
   "outputs": [],
   "source": []
  },
  {
   "cell_type": "code",
   "execution_count": null,
   "metadata": {},
   "outputs": [],
   "source": []
  },
  {
   "cell_type": "code",
   "execution_count": null,
   "metadata": {},
   "outputs": [],
   "source": []
  },
  {
   "cell_type": "code",
   "execution_count": 122,
   "metadata": {},
   "outputs": [],
   "source": [
    "tcl = layers.TimeDistributed(CollisionLayer())"
   ]
  },
  {
   "cell_type": "code",
   "execution_count": 122,
   "metadata": {},
   "outputs": [],
   "source": [
    "tcl = layers.TimeDistributed(CollisionLayer())"
   ]
  },
  {
   "cell_type": "code",
   "execution_count": 124,
   "metadata": {},
   "outputs": [],
   "source": [
    "\n",
    "inputs = np.stack([input]*5, axis=0)"
   ]
  },
  {
   "cell_type": "code",
   "execution_count": 105,
   "metadata": {},
   "outputs": [
    {
     "ename": "OperatorNotAllowedInGraphError",
     "evalue": "in user code:\n\n    <ipython-input-95-f6ebf2b60800>:13 call  *\n        FX1, FX2 = inputs\n    /home/junsu/.local/lib/python3.6/site-packages/tensorflow/python/framework/ops.py:561 __iter__\n        self._disallow_iteration()\n    /home/junsu/.local/lib/python3.6/site-packages/tensorflow/python/framework/ops.py:554 _disallow_iteration\n        self._disallow_when_autograph_enabled(\"iterating over `tf.Tensor`\")\n    /home/junsu/.local/lib/python3.6/site-packages/tensorflow/python/framework/ops.py:532 _disallow_when_autograph_enabled\n        \" decorating it directly with @tf.function.\".format(task))\n\n    OperatorNotAllowedInGraphError: iterating over `tf.Tensor` is not allowed: AutoGraph did not convert this function. Try decorating it directly with @tf.function.\n",
     "output_type": "error",
     "traceback": [
      "\u001b[0;31m---------------------------------------------------------------------------\u001b[0m",
      "\u001b[0;31mOperatorNotAllowedInGraphError\u001b[0m            Traceback (most recent call last)",
      "\u001b[0;32m<ipython-input-105-b72463f44e44>\u001b[0m in \u001b[0;36m<module>\u001b[0;34m\u001b[0m\n\u001b[0;32m----> 1\u001b[0;31m \u001b[0mtcl\u001b[0m\u001b[0;34m(\u001b[0m\u001b[0minputs\u001b[0m\u001b[0;34m)\u001b[0m\u001b[0;34m\u001b[0m\u001b[0;34m\u001b[0m\u001b[0m\n\u001b[0m",
      "\u001b[0;32m~/.local/lib/python3.6/site-packages/tensorflow/python/keras/engine/base_layer.py\u001b[0m in \u001b[0;36m__call__\u001b[0;34m(self, *args, **kwargs)\u001b[0m\n\u001b[1;32m    966\u001b[0m           with base_layer_utils.autocast_context_manager(\n\u001b[1;32m    967\u001b[0m               self._compute_dtype):\n\u001b[0;32m--> 968\u001b[0;31m             \u001b[0moutputs\u001b[0m \u001b[0;34m=\u001b[0m \u001b[0mself\u001b[0m\u001b[0;34m.\u001b[0m\u001b[0mcall\u001b[0m\u001b[0;34m(\u001b[0m\u001b[0mcast_inputs\u001b[0m\u001b[0;34m,\u001b[0m \u001b[0;34m*\u001b[0m\u001b[0margs\u001b[0m\u001b[0;34m,\u001b[0m \u001b[0;34m**\u001b[0m\u001b[0mkwargs\u001b[0m\u001b[0;34m)\u001b[0m\u001b[0;34m\u001b[0m\u001b[0;34m\u001b[0m\u001b[0m\n\u001b[0m\u001b[1;32m    969\u001b[0m           \u001b[0mself\u001b[0m\u001b[0;34m.\u001b[0m\u001b[0m_handle_activity_regularization\u001b[0m\u001b[0;34m(\u001b[0m\u001b[0minputs\u001b[0m\u001b[0;34m,\u001b[0m \u001b[0moutputs\u001b[0m\u001b[0;34m)\u001b[0m\u001b[0;34m\u001b[0m\u001b[0;34m\u001b[0m\u001b[0m\n\u001b[1;32m    970\u001b[0m           \u001b[0mself\u001b[0m\u001b[0;34m.\u001b[0m\u001b[0m_set_mask_metadata\u001b[0m\u001b[0;34m(\u001b[0m\u001b[0minputs\u001b[0m\u001b[0;34m,\u001b[0m \u001b[0moutputs\u001b[0m\u001b[0;34m,\u001b[0m \u001b[0minput_masks\u001b[0m\u001b[0;34m)\u001b[0m\u001b[0;34m\u001b[0m\u001b[0;34m\u001b[0m\u001b[0m\n",
      "\u001b[0;32m~/.local/lib/python3.6/site-packages/tensorflow/python/keras/layers/wrappers.py\u001b[0m in \u001b[0;36mcall\u001b[0;34m(self, inputs, training, mask)\u001b[0m\n\u001b[1;32m    217\u001b[0m           \u001b[0minput_length\u001b[0m\u001b[0;34m=\u001b[0m\u001b[0mrow_lengths\u001b[0m\u001b[0;34m[\u001b[0m\u001b[0;36m0\u001b[0m\u001b[0;34m]\u001b[0m \u001b[0;32mif\u001b[0m \u001b[0mis_ragged_input\u001b[0m \u001b[0;32melse\u001b[0m \u001b[0minput_shape\u001b[0m\u001b[0;34m[\u001b[0m\u001b[0;36m1\u001b[0m\u001b[0;34m]\u001b[0m\u001b[0;34m,\u001b[0m\u001b[0;34m\u001b[0m\u001b[0;34m\u001b[0m\u001b[0m\n\u001b[1;32m    218\u001b[0m           \u001b[0mmask\u001b[0m\u001b[0;34m=\u001b[0m\u001b[0mmask\u001b[0m\u001b[0;34m,\u001b[0m\u001b[0;34m\u001b[0m\u001b[0;34m\u001b[0m\u001b[0m\n\u001b[0;32m--> 219\u001b[0;31m           unroll=False)\n\u001b[0m\u001b[1;32m    220\u001b[0m       \u001b[0my\u001b[0m \u001b[0;34m=\u001b[0m \u001b[0mK\u001b[0m\u001b[0;34m.\u001b[0m\u001b[0mmaybe_convert_to_ragged\u001b[0m\u001b[0;34m(\u001b[0m\u001b[0mis_ragged_input\u001b[0m\u001b[0;34m,\u001b[0m \u001b[0moutputs\u001b[0m\u001b[0;34m,\u001b[0m \u001b[0mrow_lengths\u001b[0m\u001b[0;34m)\u001b[0m\u001b[0;34m\u001b[0m\u001b[0;34m\u001b[0m\u001b[0m\n\u001b[1;32m    221\u001b[0m     \u001b[0;32melse\u001b[0m\u001b[0;34m:\u001b[0m\u001b[0;34m\u001b[0m\u001b[0;34m\u001b[0m\u001b[0m\n",
      "\u001b[0;32m~/.local/lib/python3.6/site-packages/tensorflow/python/keras/backend.py\u001b[0m in \u001b[0;36mrnn\u001b[0;34m(step_function, inputs, initial_states, go_backwards, mask, constants, unroll, input_length, time_major, zero_output_for_mask)\u001b[0m\n\u001b[1;32m   4090\u001b[0m     \u001b[0;31m# the value is discarded.\u001b[0m\u001b[0;34m\u001b[0m\u001b[0;34m\u001b[0m\u001b[0;34m\u001b[0m\u001b[0m\n\u001b[1;32m   4091\u001b[0m     output_time_zero, _ = step_function(\n\u001b[0;32m-> 4092\u001b[0;31m         input_time_zero, tuple(initial_states) + tuple(constants))\n\u001b[0m\u001b[1;32m   4093\u001b[0m     output_ta = tuple(\n\u001b[1;32m   4094\u001b[0m         tensor_array_ops.TensorArray(\n",
      "\u001b[0;32m~/.local/lib/python3.6/site-packages/tensorflow/python/keras/layers/wrappers.py\u001b[0m in \u001b[0;36mstep\u001b[0;34m(x, _)\u001b[0m\n\u001b[1;32m    208\u001b[0m       \u001b[0;31m# batch size matters, use rnn-based implementation\u001b[0m\u001b[0;34m\u001b[0m\u001b[0;34m\u001b[0m\u001b[0;34m\u001b[0m\u001b[0m\n\u001b[1;32m    209\u001b[0m       \u001b[0;32mdef\u001b[0m \u001b[0mstep\u001b[0m\u001b[0;34m(\u001b[0m\u001b[0mx\u001b[0m\u001b[0;34m,\u001b[0m \u001b[0m_\u001b[0m\u001b[0;34m)\u001b[0m\u001b[0;34m:\u001b[0m\u001b[0;34m\u001b[0m\u001b[0;34m\u001b[0m\u001b[0m\n\u001b[0;32m--> 210\u001b[0;31m         \u001b[0moutput\u001b[0m \u001b[0;34m=\u001b[0m \u001b[0mself\u001b[0m\u001b[0;34m.\u001b[0m\u001b[0mlayer\u001b[0m\u001b[0;34m(\u001b[0m\u001b[0mx\u001b[0m\u001b[0;34m,\u001b[0m \u001b[0;34m**\u001b[0m\u001b[0mkwargs\u001b[0m\u001b[0;34m)\u001b[0m\u001b[0;34m\u001b[0m\u001b[0;34m\u001b[0m\u001b[0m\n\u001b[0m\u001b[1;32m    211\u001b[0m         \u001b[0;32mreturn\u001b[0m \u001b[0moutput\u001b[0m\u001b[0;34m,\u001b[0m \u001b[0;34m[\u001b[0m\u001b[0;34m]\u001b[0m\u001b[0;34m\u001b[0m\u001b[0;34m\u001b[0m\u001b[0m\n\u001b[1;32m    212\u001b[0m \u001b[0;34m\u001b[0m\u001b[0m\n",
      "\u001b[0;32m~/.local/lib/python3.6/site-packages/tensorflow/python/keras/engine/base_layer.py\u001b[0m in \u001b[0;36m__call__\u001b[0;34m(self, *args, **kwargs)\u001b[0m\n\u001b[1;32m    966\u001b[0m           with base_layer_utils.autocast_context_manager(\n\u001b[1;32m    967\u001b[0m               self._compute_dtype):\n\u001b[0;32m--> 968\u001b[0;31m             \u001b[0moutputs\u001b[0m \u001b[0;34m=\u001b[0m \u001b[0mself\u001b[0m\u001b[0;34m.\u001b[0m\u001b[0mcall\u001b[0m\u001b[0;34m(\u001b[0m\u001b[0mcast_inputs\u001b[0m\u001b[0;34m,\u001b[0m \u001b[0;34m*\u001b[0m\u001b[0margs\u001b[0m\u001b[0;34m,\u001b[0m \u001b[0;34m**\u001b[0m\u001b[0mkwargs\u001b[0m\u001b[0;34m)\u001b[0m\u001b[0;34m\u001b[0m\u001b[0;34m\u001b[0m\u001b[0m\n\u001b[0m\u001b[1;32m    969\u001b[0m           \u001b[0mself\u001b[0m\u001b[0;34m.\u001b[0m\u001b[0m_handle_activity_regularization\u001b[0m\u001b[0;34m(\u001b[0m\u001b[0minputs\u001b[0m\u001b[0;34m,\u001b[0m \u001b[0moutputs\u001b[0m\u001b[0;34m)\u001b[0m\u001b[0;34m\u001b[0m\u001b[0;34m\u001b[0m\u001b[0m\n\u001b[1;32m    970\u001b[0m           \u001b[0mself\u001b[0m\u001b[0;34m.\u001b[0m\u001b[0m_set_mask_metadata\u001b[0m\u001b[0;34m(\u001b[0m\u001b[0minputs\u001b[0m\u001b[0;34m,\u001b[0m \u001b[0moutputs\u001b[0m\u001b[0;34m,\u001b[0m \u001b[0minput_masks\u001b[0m\u001b[0;34m)\u001b[0m\u001b[0;34m\u001b[0m\u001b[0;34m\u001b[0m\u001b[0m\n",
      "\u001b[0;32m~/.local/lib/python3.6/site-packages/tensorflow/python/eager/def_function.py\u001b[0m in \u001b[0;36m__call__\u001b[0;34m(self, *args, **kwds)\u001b[0m\n\u001b[1;32m    578\u001b[0m         \u001b[0mxla_context\u001b[0m\u001b[0;34m.\u001b[0m\u001b[0mExit\u001b[0m\u001b[0;34m(\u001b[0m\u001b[0;34m)\u001b[0m\u001b[0;34m\u001b[0m\u001b[0;34m\u001b[0m\u001b[0m\n\u001b[1;32m    579\u001b[0m     \u001b[0;32melse\u001b[0m\u001b[0;34m:\u001b[0m\u001b[0;34m\u001b[0m\u001b[0;34m\u001b[0m\u001b[0m\n\u001b[0;32m--> 580\u001b[0;31m       \u001b[0mresult\u001b[0m \u001b[0;34m=\u001b[0m \u001b[0mself\u001b[0m\u001b[0;34m.\u001b[0m\u001b[0m_call\u001b[0m\u001b[0;34m(\u001b[0m\u001b[0;34m*\u001b[0m\u001b[0margs\u001b[0m\u001b[0;34m,\u001b[0m \u001b[0;34m**\u001b[0m\u001b[0mkwds\u001b[0m\u001b[0;34m)\u001b[0m\u001b[0;34m\u001b[0m\u001b[0;34m\u001b[0m\u001b[0m\n\u001b[0m\u001b[1;32m    581\u001b[0m \u001b[0;34m\u001b[0m\u001b[0m\n\u001b[1;32m    582\u001b[0m     \u001b[0;32mif\u001b[0m \u001b[0mtracing_count\u001b[0m \u001b[0;34m==\u001b[0m \u001b[0mself\u001b[0m\u001b[0;34m.\u001b[0m\u001b[0m_get_tracing_count\u001b[0m\u001b[0;34m(\u001b[0m\u001b[0;34m)\u001b[0m\u001b[0;34m:\u001b[0m\u001b[0;34m\u001b[0m\u001b[0;34m\u001b[0m\u001b[0m\n",
      "\u001b[0;32m~/.local/lib/python3.6/site-packages/tensorflow/python/eager/def_function.py\u001b[0m in \u001b[0;36m_call\u001b[0;34m(self, *args, **kwds)\u001b[0m\n\u001b[1;32m    616\u001b[0m       \u001b[0;31m# In this case we have not created variables on the first call. So we can\u001b[0m\u001b[0;34m\u001b[0m\u001b[0;34m\u001b[0m\u001b[0;34m\u001b[0m\u001b[0m\n\u001b[1;32m    617\u001b[0m       \u001b[0;31m# run the first trace but we should fail if variables are created.\u001b[0m\u001b[0;34m\u001b[0m\u001b[0;34m\u001b[0m\u001b[0;34m\u001b[0m\u001b[0m\n\u001b[0;32m--> 618\u001b[0;31m       \u001b[0mresults\u001b[0m \u001b[0;34m=\u001b[0m \u001b[0mself\u001b[0m\u001b[0;34m.\u001b[0m\u001b[0m_stateful_fn\u001b[0m\u001b[0;34m(\u001b[0m\u001b[0;34m*\u001b[0m\u001b[0margs\u001b[0m\u001b[0;34m,\u001b[0m \u001b[0;34m**\u001b[0m\u001b[0mkwds\u001b[0m\u001b[0;34m)\u001b[0m\u001b[0;34m\u001b[0m\u001b[0;34m\u001b[0m\u001b[0m\n\u001b[0m\u001b[1;32m    619\u001b[0m       \u001b[0;32mif\u001b[0m \u001b[0mself\u001b[0m\u001b[0;34m.\u001b[0m\u001b[0m_created_variables\u001b[0m\u001b[0;34m:\u001b[0m\u001b[0;34m\u001b[0m\u001b[0;34m\u001b[0m\u001b[0m\n\u001b[1;32m    620\u001b[0m         raise ValueError(\"Creating variables on a non-first call to a function\"\n",
      "\u001b[0;32m~/.local/lib/python3.6/site-packages/tensorflow/python/eager/function.py\u001b[0m in \u001b[0;36m__call__\u001b[0;34m(self, *args, **kwargs)\u001b[0m\n\u001b[1;32m   2417\u001b[0m     \u001b[0;34m\"\"\"Calls a graph function specialized to the inputs.\"\"\"\u001b[0m\u001b[0;34m\u001b[0m\u001b[0;34m\u001b[0m\u001b[0m\n\u001b[1;32m   2418\u001b[0m     \u001b[0;32mwith\u001b[0m \u001b[0mself\u001b[0m\u001b[0;34m.\u001b[0m\u001b[0m_lock\u001b[0m\u001b[0;34m:\u001b[0m\u001b[0;34m\u001b[0m\u001b[0;34m\u001b[0m\u001b[0m\n\u001b[0;32m-> 2419\u001b[0;31m       \u001b[0mgraph_function\u001b[0m\u001b[0;34m,\u001b[0m \u001b[0margs\u001b[0m\u001b[0;34m,\u001b[0m \u001b[0mkwargs\u001b[0m \u001b[0;34m=\u001b[0m \u001b[0mself\u001b[0m\u001b[0;34m.\u001b[0m\u001b[0m_maybe_define_function\u001b[0m\u001b[0;34m(\u001b[0m\u001b[0margs\u001b[0m\u001b[0;34m,\u001b[0m \u001b[0mkwargs\u001b[0m\u001b[0;34m)\u001b[0m\u001b[0;34m\u001b[0m\u001b[0;34m\u001b[0m\u001b[0m\n\u001b[0m\u001b[1;32m   2420\u001b[0m     \u001b[0;32mreturn\u001b[0m \u001b[0mgraph_function\u001b[0m\u001b[0;34m.\u001b[0m\u001b[0m_filtered_call\u001b[0m\u001b[0;34m(\u001b[0m\u001b[0margs\u001b[0m\u001b[0;34m,\u001b[0m \u001b[0mkwargs\u001b[0m\u001b[0;34m)\u001b[0m  \u001b[0;31m# pylint: disable=protected-access\u001b[0m\u001b[0;34m\u001b[0m\u001b[0;34m\u001b[0m\u001b[0m\n\u001b[1;32m   2421\u001b[0m \u001b[0;34m\u001b[0m\u001b[0m\n",
      "\u001b[0;32m~/.local/lib/python3.6/site-packages/tensorflow/python/eager/function.py\u001b[0m in \u001b[0;36m_maybe_define_function\u001b[0;34m(self, args, kwargs)\u001b[0m\n\u001b[1;32m   2775\u001b[0m \u001b[0;34m\u001b[0m\u001b[0m\n\u001b[1;32m   2776\u001b[0m       \u001b[0mself\u001b[0m\u001b[0;34m.\u001b[0m\u001b[0m_function_cache\u001b[0m\u001b[0;34m.\u001b[0m\u001b[0mmissed\u001b[0m\u001b[0;34m.\u001b[0m\u001b[0madd\u001b[0m\u001b[0;34m(\u001b[0m\u001b[0mcall_context_key\u001b[0m\u001b[0;34m)\u001b[0m\u001b[0;34m\u001b[0m\u001b[0;34m\u001b[0m\u001b[0m\n\u001b[0;32m-> 2777\u001b[0;31m       \u001b[0mgraph_function\u001b[0m \u001b[0;34m=\u001b[0m \u001b[0mself\u001b[0m\u001b[0;34m.\u001b[0m\u001b[0m_create_graph_function\u001b[0m\u001b[0;34m(\u001b[0m\u001b[0margs\u001b[0m\u001b[0;34m,\u001b[0m \u001b[0mkwargs\u001b[0m\u001b[0;34m)\u001b[0m\u001b[0;34m\u001b[0m\u001b[0;34m\u001b[0m\u001b[0m\n\u001b[0m\u001b[1;32m   2778\u001b[0m       \u001b[0mself\u001b[0m\u001b[0;34m.\u001b[0m\u001b[0m_function_cache\u001b[0m\u001b[0;34m.\u001b[0m\u001b[0mprimary\u001b[0m\u001b[0;34m[\u001b[0m\u001b[0mcache_key\u001b[0m\u001b[0;34m]\u001b[0m \u001b[0;34m=\u001b[0m \u001b[0mgraph_function\u001b[0m\u001b[0;34m\u001b[0m\u001b[0;34m\u001b[0m\u001b[0m\n\u001b[1;32m   2779\u001b[0m       \u001b[0;32mreturn\u001b[0m \u001b[0mgraph_function\u001b[0m\u001b[0;34m,\u001b[0m \u001b[0margs\u001b[0m\u001b[0;34m,\u001b[0m \u001b[0mkwargs\u001b[0m\u001b[0;34m\u001b[0m\u001b[0;34m\u001b[0m\u001b[0m\n",
      "\u001b[0;32m~/.local/lib/python3.6/site-packages/tensorflow/python/eager/function.py\u001b[0m in \u001b[0;36m_create_graph_function\u001b[0;34m(self, args, kwargs, override_flat_arg_shapes)\u001b[0m\n\u001b[1;32m   2665\u001b[0m             \u001b[0marg_names\u001b[0m\u001b[0;34m=\u001b[0m\u001b[0marg_names\u001b[0m\u001b[0;34m,\u001b[0m\u001b[0;34m\u001b[0m\u001b[0;34m\u001b[0m\u001b[0m\n\u001b[1;32m   2666\u001b[0m             \u001b[0moverride_flat_arg_shapes\u001b[0m\u001b[0;34m=\u001b[0m\u001b[0moverride_flat_arg_shapes\u001b[0m\u001b[0;34m,\u001b[0m\u001b[0;34m\u001b[0m\u001b[0;34m\u001b[0m\u001b[0m\n\u001b[0;32m-> 2667\u001b[0;31m             capture_by_value=self._capture_by_value),\n\u001b[0m\u001b[1;32m   2668\u001b[0m         \u001b[0mself\u001b[0m\u001b[0;34m.\u001b[0m\u001b[0m_function_attributes\u001b[0m\u001b[0;34m,\u001b[0m\u001b[0;34m\u001b[0m\u001b[0;34m\u001b[0m\u001b[0m\n\u001b[1;32m   2669\u001b[0m         \u001b[0;31m# Tell the ConcreteFunction to clean up its graph once it goes out of\u001b[0m\u001b[0;34m\u001b[0m\u001b[0;34m\u001b[0m\u001b[0;34m\u001b[0m\u001b[0m\n",
      "\u001b[0;32m~/.local/lib/python3.6/site-packages/tensorflow/python/framework/func_graph.py\u001b[0m in \u001b[0;36mfunc_graph_from_py_func\u001b[0;34m(name, python_func, args, kwargs, signature, func_graph, autograph, autograph_options, add_control_dependencies, arg_names, op_return_value, collections, capture_by_value, override_flat_arg_shapes)\u001b[0m\n\u001b[1;32m    979\u001b[0m         \u001b[0m_\u001b[0m\u001b[0;34m,\u001b[0m \u001b[0moriginal_func\u001b[0m \u001b[0;34m=\u001b[0m \u001b[0mtf_decorator\u001b[0m\u001b[0;34m.\u001b[0m\u001b[0munwrap\u001b[0m\u001b[0;34m(\u001b[0m\u001b[0mpython_func\u001b[0m\u001b[0;34m)\u001b[0m\u001b[0;34m\u001b[0m\u001b[0;34m\u001b[0m\u001b[0m\n\u001b[1;32m    980\u001b[0m \u001b[0;34m\u001b[0m\u001b[0m\n\u001b[0;32m--> 981\u001b[0;31m       \u001b[0mfunc_outputs\u001b[0m \u001b[0;34m=\u001b[0m \u001b[0mpython_func\u001b[0m\u001b[0;34m(\u001b[0m\u001b[0;34m*\u001b[0m\u001b[0mfunc_args\u001b[0m\u001b[0;34m,\u001b[0m \u001b[0;34m**\u001b[0m\u001b[0mfunc_kwargs\u001b[0m\u001b[0;34m)\u001b[0m\u001b[0;34m\u001b[0m\u001b[0;34m\u001b[0m\u001b[0m\n\u001b[0m\u001b[1;32m    982\u001b[0m \u001b[0;34m\u001b[0m\u001b[0m\n\u001b[1;32m    983\u001b[0m       \u001b[0;31m# invariant: `func_outputs` contains only Tensors, CompositeTensors,\u001b[0m\u001b[0;34m\u001b[0m\u001b[0;34m\u001b[0m\u001b[0;34m\u001b[0m\u001b[0m\n",
      "\u001b[0;32m~/.local/lib/python3.6/site-packages/tensorflow/python/eager/def_function.py\u001b[0m in \u001b[0;36mwrapped_fn\u001b[0;34m(*args, **kwds)\u001b[0m\n\u001b[1;32m    439\u001b[0m         \u001b[0;31m# __wrapped__ allows AutoGraph to swap in a converted function. We give\u001b[0m\u001b[0;34m\u001b[0m\u001b[0;34m\u001b[0m\u001b[0;34m\u001b[0m\u001b[0m\n\u001b[1;32m    440\u001b[0m         \u001b[0;31m# the function a weak reference to itself to avoid a reference cycle.\u001b[0m\u001b[0;34m\u001b[0m\u001b[0;34m\u001b[0m\u001b[0;34m\u001b[0m\u001b[0m\n\u001b[0;32m--> 441\u001b[0;31m         \u001b[0;32mreturn\u001b[0m \u001b[0mweak_wrapped_fn\u001b[0m\u001b[0;34m(\u001b[0m\u001b[0;34m)\u001b[0m\u001b[0;34m.\u001b[0m\u001b[0m__wrapped__\u001b[0m\u001b[0;34m(\u001b[0m\u001b[0;34m*\u001b[0m\u001b[0margs\u001b[0m\u001b[0;34m,\u001b[0m \u001b[0;34m**\u001b[0m\u001b[0mkwds\u001b[0m\u001b[0;34m)\u001b[0m\u001b[0;34m\u001b[0m\u001b[0;34m\u001b[0m\u001b[0m\n\u001b[0m\u001b[1;32m    442\u001b[0m     \u001b[0mweak_wrapped_fn\u001b[0m \u001b[0;34m=\u001b[0m \u001b[0mweakref\u001b[0m\u001b[0;34m.\u001b[0m\u001b[0mref\u001b[0m\u001b[0;34m(\u001b[0m\u001b[0mwrapped_fn\u001b[0m\u001b[0;34m)\u001b[0m\u001b[0;34m\u001b[0m\u001b[0;34m\u001b[0m\u001b[0m\n\u001b[1;32m    443\u001b[0m \u001b[0;34m\u001b[0m\u001b[0m\n",
      "\u001b[0;32m~/.local/lib/python3.6/site-packages/tensorflow/python/eager/function.py\u001b[0m in \u001b[0;36mbound_method_wrapper\u001b[0;34m(*args, **kwargs)\u001b[0m\n\u001b[1;32m   3297\u001b[0m     \u001b[0;31m# However, the replacer is still responsible for attaching self properly.\u001b[0m\u001b[0;34m\u001b[0m\u001b[0;34m\u001b[0m\u001b[0;34m\u001b[0m\u001b[0m\n\u001b[1;32m   3298\u001b[0m     \u001b[0;31m# TODO(mdan): Is it possible to do it here instead?\u001b[0m\u001b[0;34m\u001b[0m\u001b[0;34m\u001b[0m\u001b[0;34m\u001b[0m\u001b[0m\n\u001b[0;32m-> 3299\u001b[0;31m     \u001b[0;32mreturn\u001b[0m \u001b[0mwrapped_fn\u001b[0m\u001b[0;34m(\u001b[0m\u001b[0;34m*\u001b[0m\u001b[0margs\u001b[0m\u001b[0;34m,\u001b[0m \u001b[0;34m**\u001b[0m\u001b[0mkwargs\u001b[0m\u001b[0;34m)\u001b[0m\u001b[0;34m\u001b[0m\u001b[0;34m\u001b[0m\u001b[0m\n\u001b[0m\u001b[1;32m   3300\u001b[0m   \u001b[0mweak_bound_method_wrapper\u001b[0m \u001b[0;34m=\u001b[0m \u001b[0mweakref\u001b[0m\u001b[0;34m.\u001b[0m\u001b[0mref\u001b[0m\u001b[0;34m(\u001b[0m\u001b[0mbound_method_wrapper\u001b[0m\u001b[0;34m)\u001b[0m\u001b[0;34m\u001b[0m\u001b[0;34m\u001b[0m\u001b[0m\n\u001b[1;32m   3301\u001b[0m \u001b[0;34m\u001b[0m\u001b[0m\n",
      "\u001b[0;32m~/.local/lib/python3.6/site-packages/tensorflow/python/framework/func_graph.py\u001b[0m in \u001b[0;36mwrapper\u001b[0;34m(*args, **kwargs)\u001b[0m\n\u001b[1;32m    966\u001b[0m           \u001b[0;32mexcept\u001b[0m \u001b[0mException\u001b[0m \u001b[0;32mas\u001b[0m \u001b[0me\u001b[0m\u001b[0;34m:\u001b[0m  \u001b[0;31m# pylint:disable=broad-except\u001b[0m\u001b[0;34m\u001b[0m\u001b[0;34m\u001b[0m\u001b[0m\n\u001b[1;32m    967\u001b[0m             \u001b[0;32mif\u001b[0m \u001b[0mhasattr\u001b[0m\u001b[0;34m(\u001b[0m\u001b[0me\u001b[0m\u001b[0;34m,\u001b[0m \u001b[0;34m\"ag_error_metadata\"\u001b[0m\u001b[0;34m)\u001b[0m\u001b[0;34m:\u001b[0m\u001b[0;34m\u001b[0m\u001b[0;34m\u001b[0m\u001b[0m\n\u001b[0;32m--> 968\u001b[0;31m               \u001b[0;32mraise\u001b[0m \u001b[0me\u001b[0m\u001b[0;34m.\u001b[0m\u001b[0mag_error_metadata\u001b[0m\u001b[0;34m.\u001b[0m\u001b[0mto_exception\u001b[0m\u001b[0;34m(\u001b[0m\u001b[0me\u001b[0m\u001b[0;34m)\u001b[0m\u001b[0;34m\u001b[0m\u001b[0;34m\u001b[0m\u001b[0m\n\u001b[0m\u001b[1;32m    969\u001b[0m             \u001b[0;32melse\u001b[0m\u001b[0;34m:\u001b[0m\u001b[0;34m\u001b[0m\u001b[0;34m\u001b[0m\u001b[0m\n\u001b[1;32m    970\u001b[0m               \u001b[0;32mraise\u001b[0m\u001b[0;34m\u001b[0m\u001b[0;34m\u001b[0m\u001b[0m\n",
      "\u001b[0;31mOperatorNotAllowedInGraphError\u001b[0m: in user code:\n\n    <ipython-input-95-f6ebf2b60800>:13 call  *\n        FX1, FX2 = inputs\n    /home/junsu/.local/lib/python3.6/site-packages/tensorflow/python/framework/ops.py:561 __iter__\n        self._disallow_iteration()\n    /home/junsu/.local/lib/python3.6/site-packages/tensorflow/python/framework/ops.py:554 _disallow_iteration\n        self._disallow_when_autograph_enabled(\"iterating over `tf.Tensor`\")\n    /home/junsu/.local/lib/python3.6/site-packages/tensorflow/python/framework/ops.py:532 _disallow_when_autograph_enabled\n        \" decorating it directly with @tf.function.\".format(task))\n\n    OperatorNotAllowedInGraphError: iterating over `tf.Tensor` is not allowed: AutoGraph did not convert this function. Try decorating it directly with @tf.function.\n"
     ]
    }
   ],
   "source": [
    "tcl(inputs)"
   ]
  },
  {
   "cell_type": "code",
   "execution_count": 49,
   "metadata": {
    "scrolled": true
   },
   "outputs": [
    {
     "name": "stdout",
     "output_type": "stream",
     "text": [
      "pickLine: \t299.0 ms/1000 = 0.299 ms\n",
      "support: \t1520.0 ms/12000 = 0.127 ms\n",
      "getFarthestInDir: \t1402.0 ms/24000 = 0.058 ms\n",
      "getFarthestInDir0: \t513.0 ms/24000 = 0.021 ms\n",
      "getFarthestInDir1: \t441.0 ms/24000 = 0.018 ms\n",
      "getFarthestInDir2: \t372.0 ms/24000 = 0.016 ms\n",
      "PickTriangle_init: \t158.0 ms/1000 = 0.158 ms\n",
      "PickTriangle_loop: \t453.0 ms/2000 = 0.226 ms\n",
      "PickTriangle_loop0: \t113.0 ms/3000 = 0.038 ms\n",
      "pickTetrahedron_init: \t216.0 ms/1000 = 0.216 ms\n",
      "pickTetrahedron_init0: \t7.0 ms/1000 = 0.007 ms\n",
      "pickTetrahedron_init1: \t184.0 ms/1000 = 0.184 ms\n",
      "pickTetrahedron_loop: \t2009.0 ms/6000 = 0.335 ms\n",
      "pickTetrahedron_loop0: \t894.0 ms/6000 = 0.149 ms\n"
     ]
    }
   ],
   "source": [
    "gtimer.print_time_log()"
   ]
  },
  {
   "cell_type": "markdown",
   "metadata": {},
   "source": [
    "## batch version original"
   ]
  },
  {
   "cell_type": "code",
   "execution_count": 54,
   "metadata": {},
   "outputs": [],
   "source": [
    "@tf.function\n",
    "def getFarthestInDir_batch(FX_batch, v_batch, batch_dims = 2):\n",
    "    dotted = K.sum(FX_batch*v_batch,axis=-1)\n",
    "    IdxSet = tf.expand_dims(tf.argmax(dotted, axis=-1),-1)\n",
    "    point=tf.gather_nd(params = FX_batch, indices=IdxSet, batch_dims=batch_dims)\n",
    "    return point"
   ]
  },
  {
   "cell_type": "code",
   "execution_count": 55,
   "metadata": {},
   "outputs": [],
   "source": [
    "@tf.function\n",
    "def getFarthestInDir(FX, v):\n",
    "    dotted = K.sum(tf.multiply(FX,v),axis=-1)\n",
    "    IdxSet = tf.expand_dims(tf.argmax(dotted, axis=-1),axis=-1)\n",
    "    point=tf.gather(params = FX, indices=IdxSet)\n",
    "    return point"
   ]
  },
  {
   "cell_type": "markdown",
   "metadata": {},
   "source": [
    "## test batch"
   ]
  },
  {
   "cell_type": "code",
   "execution_count": null,
   "metadata": {},
   "outputs": [],
   "source": [
    "N_sim = 50\n",
    "N_col = 20"
   ]
  },
  {
   "cell_type": "code",
   "execution_count": 56,
   "metadata": {},
   "outputs": [],
   "source": [
    "FX = FX1-FX2\n",
    "v = np.array([[0.8000, 0.5000, 1.0000]],dtype=np.float32)"
   ]
  },
  {
   "cell_type": "code",
   "execution_count": 57,
   "metadata": {},
   "outputs": [
    {
     "name": "stdout",
     "output_type": "stream",
     "text": [
      "(50, 20, 20, 3)\n",
      "(50, 20, 1, 3)\n"
     ]
    }
   ],
   "source": [
    "# FX = global_save['FX']\n",
    "# v = global_save['v']\n",
    "FX_batch = tf.stack([tf.stack([FX]*N_col, axis=0)]*N_sim,axis=0)\n",
    "print(FX_batch.shape)\n",
    "v_batch = tf.stack([tf.stack([v]*N_col, axis=0)]*N_sim,axis=0)\n",
    "print(v_batch.shape)"
   ]
  },
  {
   "cell_type": "code",
   "execution_count": 58,
   "metadata": {},
   "outputs": [
    {
     "name": "stdout",
     "output_type": "stream",
     "text": [
      "FD_batch: \t1764.0 ms/1000 = 1.764 ms\n",
      "FD_single: \t60.0 ms/1000 = 0.06 ms\n"
     ]
    }
   ],
   "source": [
    "gtimer.reset()\n",
    "for _ in range(1000):\n",
    "    gtimer.tic(\"FD_batch\")\n",
    "    point_batch = getFarthestInDir_batch(FX_batch, v_batch,1)\n",
    "    gtimer.toc(\"FD_batch\")\n",
    "for _ in range(1000):\n",
    "    gtimer.tic(\"FD_single\")\n",
    "    point = getFarthestInDir(FX, v)\n",
    "    gtimer.toc(\"FD_single\")\n",
    "gtimer.print_time_log()"
   ]
  },
  {
   "cell_type": "code",
   "execution_count": 53,
   "metadata": {},
   "outputs": [
    {
     "name": "stdout",
     "output_type": "stream",
     "text": [
      "FD_batch: \t599.0 ms/1000 = 0.599 ms\n",
      "FD_single: \t212.0 ms/1000 = 0.212 ms\n"
     ]
    }
   ],
   "source": [
    "gtimer.reset()\n",
    "for _ in range(1000):\n",
    "    gtimer.tic(\"FD_batch\")\n",
    "    point_batch = getFarthestInDir_batch(FX_batch, v_batch,1)\n",
    "    gtimer.toc(\"FD_batch\")\n",
    "for _ in range(1000):\n",
    "    gtimer.tic(\"FD_single\")\n",
    "    point = getFarthestInDir(FX, v)\n",
    "    gtimer.toc(\"FD_single\")\n",
    "gtimer.print_time_log()"
   ]
  },
  {
   "cell_type": "code",
   "execution_count": 67,
   "metadata": {},
   "outputs": [],
   "source": [
    "batch_dims = 2\n",
    "dotted = K.sum(FX_batch*v_batch,axis=-1)\n",
    "IdxSet = tf.expand_dims(tf.argmax(dotted, axis=-1),-1)\n",
    "point=tf.gather_nd(params = FX_batch, indices=IdxSet, batch_dims=batch_dims)"
   ]
  },
  {
   "cell_type": "code",
   "execution_count": 68,
   "metadata": {},
   "outputs": [
    {
     "data": {
      "text/plain": [
       "TensorShape([50, 20, 3])"
      ]
     },
     "execution_count": 68,
     "metadata": {},
     "output_type": "execute_result"
    }
   ],
   "source": [
    "point.shape"
   ]
  },
  {
   "cell_type": "code",
   "execution_count": 61,
   "metadata": {},
   "outputs": [
    {
     "data": {
      "text/plain": [
       "<tf.Tensor: shape=(3,), dtype=float32, numpy=array([-2.2484524, -2.3406322, -3.0199368], dtype=float32)>"
      ]
     },
     "execution_count": 61,
     "metadata": {},
     "output_type": "execute_result"
    }
   ],
   "source": [
    "point[0,0]"
   ]
  },
  {
   "cell_type": "markdown",
   "metadata": {},
   "source": [
    "# Matthew Sheen version"
   ]
  },
  {
   "cell_type": "code",
   "execution_count": 43,
   "metadata": {},
   "outputs": [],
   "source": [
    "import time\n",
    "import collections\n",
    "class GlobalTimer:\n",
    "    def __init__(self, scale=1000):\n",
    "        self.name_list = []\n",
    "        self.ts_dict = {}\n",
    "        self.time_dict = collections.defaultdict(lambda: 0)\n",
    "        self.count_dict = collections.defaultdict(lambda: 0)\n",
    "        self.scale = scale\n",
    "        self.switch(True)\n",
    "        \n",
    "    def reset(self):\n",
    "        self.name_list = []\n",
    "        self.ts_dict = {}\n",
    "        self.time_dict = collections.defaultdict(lambda: 0)\n",
    "        self.count_dict = collections.defaultdict(lambda: 0)\n",
    "        self.switch(True)\n",
    "        \n",
    "    def switch(self, onoff):\n",
    "        self.__on = onoff\n",
    "    \n",
    "    def tic(self, name):\n",
    "        if self.__on:\n",
    "            if name not in self.name_list:\n",
    "                self.name_list += [name]\n",
    "            self.ts_dict[name] = time.time()\n",
    "        \n",
    "    def toc(self, name):\n",
    "        if self.__on:\n",
    "            self.time_dict[name] = self.time_dict[name]+(time.time() - self.ts_dict[name]) * self.scale\n",
    "            self.count_dict[name] = self.count_dict[name] + 1\n",
    "            \n",
    "    def toctic(self, name_toc, name_tic):\n",
    "        self.toc(name_toc)\n",
    "        self.tic(name_tic)\n",
    "        \n",
    "    def print_time_log(self, names=None, timeunit=\"ms\"):\n",
    "        if names is None:\n",
    "            names = self.name_list\n",
    "        for name in names:\n",
    "            print(\"{name}: \\t{tot_T} {timeunit}/{tot_C} = {per_T} {timeunit}\".format(\n",
    "                name=name, tot_T=np.round(np.sum(self.time_dict[name])), tot_C=self.count_dict[name], \n",
    "                per_T= np.round(np.sum(self.time_dict[name])/self.count_dict[name], 3),\n",
    "                timeunit=timeunit\n",
    "            ))\n",
    "        "
   ]
  },
  {
   "cell_type": "code",
   "execution_count": 44,
   "metadata": {},
   "outputs": [],
   "source": [
    "gtimer = GlobalTimer()"
   ]
  },
  {
   "cell_type": "code",
   "execution_count": 84,
   "metadata": {},
   "outputs": [],
   "source": [
    "global_save = {}\n",
    "def getFarthestInDir(FX, v):\n",
    "    global_save['FX'] = FX\n",
    "    global_save['v'] = v\n",
    "    gtimer.tic(\"getFarthestInDir\")\n",
    "    gtimer.tic(\"getFarthestInDir0\")\n",
    "    dotted = K.sum(tf.multiply(FX,v),axis=-1)\n",
    "    gtimer.toctic(\"getFarthestInDir0\", \"getFarthestInDir1\")\n",
    "    rowIdxSet = tf.argmax(dotted, axis=-1)\n",
    "    gtimer.toctic(\"getFarthestInDir1\",\"getFarthestInDir2\")\n",
    "    maxInCol = K.max(dotted, axis=-1)\n",
    "    gtimer.toctic(\"getFarthestInDir2\", \"getFarthestInDir3\")\n",
    "    colIdx = tf.expand_dims(tf.argmax(maxInCol, axis=-1),axis=-1)\n",
    "    gtimer.toctic(\"getFarthestInDir3\", \"getFarthestInDir4\")\n",
    "    rowIdx=tf.gather(params = rowIdxSet, indices=colIdx)\n",
    "    gtimer.toctic(\"getFarthestInDir4\", \"getFarthestInDir5\")\n",
    "    point=tf.gather_nd(params = FX, indices=tf.concat([colIdx,rowIdx],axis=-1))\n",
    "    gtimer.toc(\"getFarthestInDir5\")\n",
    "    gtimer.toc(\"getFarthestInDir\")\n",
    "    return point\n",
    "\n",
    "def get_facepoints(verts, faces): # (fc, vtx, ax)\n",
    "    return np.array([verts[s1f-1] for s1f in faces])\n",
    "\n",
    "def support(FX1, FX2, v):\n",
    "    gtimer.tic(\"support\")\n",
    "    point1 = getFarthestInDir(FX1, v)\n",
    "    point2 = getFarthestInDir(FX2, -v)\n",
    "    gtimer.toc(\"support\")\n",
    "    return point1 - point2\n",
    "\n",
    "def pickLine(v, FX1, FX2):\n",
    "    gtimer.tic(\"pickLine\")\n",
    "    b= support(FX2, FX1, v)\n",
    "    a= support(FX2, FX1, -v)\n",
    "    gtimer.toc(\"pickLine\")\n",
    "    return a, b\n",
    "\n",
    "def PickTriangle(a, b, FX1, FX2, IterationAllowed=6):\n",
    "    flag = 0\n",
    "\n",
    "    gtimer.tic(\"PickTriangle_init\")\n",
    "    # First try:\n",
    "    ab = b-a\n",
    "    ao = -a\n",
    "    v = tf.linalg.cross(tf.linalg.cross(ab,ao),ab) # v is perpendicular to ab pointing in the general direction of the origin\n",
    "    c = b\n",
    "    b = a\n",
    "    a = support(FX2,FX1,v)\n",
    "    gtimer.toc(\"PickTriangle_init\")\n",
    "    for i in range(IterationAllowed):\n",
    "        gtimer.tic(\"PickTriangle_loop\")\n",
    "        gtimer.tic(\"PickTriangle_loop0\")\n",
    "        ab = b-a;\n",
    "        ao = -a;\n",
    "        ac = c-a;\n",
    "        abc = tf.linalg.cross(ab,ac)\n",
    "        abp = tf.linalg.cross(ab,abc)\n",
    "        acp = tf.linalg.cross(abc,ac)\n",
    "        gtimer.toc(\"PickTriangle_loop0\")\n",
    "        if K.sum(abp*ao) > 0:\n",
    "            c = b # Throw away the furthest point and grab a new one in the right direction\n",
    "            b = a\n",
    "            v = abp # cross(cross(ab,ao),ab);\n",
    "        elif K.sum(acp*ao) > 0:\n",
    "            b = a\n",
    "            v = acp; # cross(cross(ac,ao),ac);\n",
    "\n",
    "        else:\n",
    "            flag = 1;\n",
    "            break # We got a good one.\n",
    "        a = support(FX2, FX1,v)\n",
    "        gtimer.toc(\"PickTriangle_loop\")\n",
    "\n",
    "    return a, b, c, flag\n",
    "\n",
    "\n",
    "def pickTetrahedron(a,b,c,FX1,FX2,IterationAllowed):\n",
    "    gtimer.tic(\"pickTetrahedron_init\")\n",
    "    flag = 0\n",
    "    ab = b-a\n",
    "    ac = c-a\n",
    "\n",
    "    # Normal to face of triangle\n",
    "    gtimer.tic(\"pickTetrahedron_init0\")\n",
    "    abc = tf.linalg.cross(ab,ac)\n",
    "    gtimer.toc(\"pickTetrahedron_init0\")\n",
    "    ao = -a\n",
    "\n",
    "    gtimer.tic(\"pickTetrahedron_init1\")\n",
    "    if K.sum(abc* ao) > 0: # Above\n",
    "        d = c\n",
    "        c = b\n",
    "        b = a\n",
    "\n",
    "        v = abc\n",
    "        a = support(FX2,FX1,v) # Tetrahedron new point\n",
    "    else: # below\n",
    "        d = b\n",
    "        b = a\n",
    "        v = -abc\n",
    "        a = support(FX2,FX1,v) # Tetrahedron new point\n",
    "    gtimer.toc(\"pickTetrahedron_init1\")\n",
    "    gtimer.toc(\"pickTetrahedron_init\")\n",
    "\n",
    "    for i in range(IterationAllowed): #Allowing 10 tries to make a good tetrahedron.\n",
    "        gtimer.tic(\"pickTetrahedron_loop\")\n",
    "        gtimer.tic(\"pickTetrahedron_loop0\")\n",
    "        #Check the tetrahedron:\n",
    "        ab = b-a\n",
    "        ao = -a\n",
    "        ac = c-a\n",
    "        ad = d-a\n",
    "\n",
    "        #We KNOW that the origin is not under the base of the tetrahedron based on\n",
    "        #the way we picked a. So we need to check faces ABC, ABD, and ACD.\n",
    "\n",
    "        #Normal to face of triangle\n",
    "        abc = tf.linalg.cross(ab,ac)\n",
    "\n",
    "        if K.sum(abc*ao) > 0: #Above triangle ABC\n",
    "            pass\n",
    "            # No need to change anything, we'll just iterate again with this face as\n",
    "            # default.\n",
    "        else:\n",
    "            acd = tf.linalg.cross(ac,ad) # Normal to face of triangle\n",
    "\n",
    "            if K.sum(acd*ao) > 0 : # Above triangle ACD\n",
    "                # Make this the new base triangle.\n",
    "                b = c\n",
    "                c = d\n",
    "                ab = ac\n",
    "                ac = ad            \n",
    "                abc = acd\n",
    "            elif K.sum(acd*ao) < 0:\n",
    "                adb = tf.linalg.cross(ad,ab) #Normal to face of triangle\n",
    "\n",
    "                if K.sum(adb*ao) > 0: #Above triangle ADB\n",
    "                    # Make this the new base triangle.\n",
    "                    c = b\n",
    "                    b = d\n",
    "                    ac = ab\n",
    "                    ab = ad\n",
    "                    abc = adb\n",
    "                else:\n",
    "                    flag = 1\n",
    "                    break # It's inside the tetrahedron.\n",
    "        gtimer.toc(\"pickTetrahedron_loop0\")\n",
    "\n",
    "        #try again:\n",
    "        if K.sum(abc*ao) > 0: #Above\n",
    "            d = c\n",
    "            c = b\n",
    "            b = a    \n",
    "            v = abc\n",
    "            a = support(FX2,FX1,v) #Tetrahedron new point\n",
    "        else: #below\n",
    "            d = b;\n",
    "            b = a;\n",
    "            v = -abc;\n",
    "            a = support(FX2,FX1,v) #Tetrahedron new point\n",
    "        gtimer.toc(\"pickTetrahedron_loop\")\n",
    "    return a,b,c,d,flag"
   ]
  },
  {
   "cell_type": "markdown",
   "metadata": {},
   "source": [
    "# Test"
   ]
  },
  {
   "cell_type": "code",
   "execution_count": 85,
   "metadata": {},
   "outputs": [],
   "source": [
    "gtimer = GlobalTimer()"
   ]
  },
  {
   "cell_type": "code",
   "execution_count": 86,
   "metadata": {},
   "outputs": [],
   "source": [
    "s1coords = np.loadtxt(\"s1.csv\", delimiter=\",\")\n",
    "s2coords = np.loadtxt(\"s2.csv\", delimiter=\",\")"
   ]
  },
  {
   "cell_type": "code",
   "execution_count": 87,
   "metadata": {},
   "outputs": [],
   "source": [
    "s1faces = np.loadtxt(\"s1face.csv\", delimiter=\",\",dtype='int')\n",
    "s2faces = np.loadtxt(\"s2face.csv\", delimiter=\",\",dtype='int')"
   ]
  },
  {
   "cell_type": "code",
   "execution_count": 88,
   "metadata": {},
   "outputs": [],
   "source": [
    "iterations = 6"
   ]
  },
  {
   "cell_type": "code",
   "execution_count": 89,
   "metadata": {},
   "outputs": [],
   "source": [
    "s1verts = get_facepoints(s1coords, s1faces)\n",
    "s2verts = get_facepoints(s2coords, s2faces)"
   ]
  },
  {
   "cell_type": "code",
   "execution_count": 90,
   "metadata": {},
   "outputs": [],
   "source": [
    "S1Rot = [\n",
    "        [0.99847,0.016541,-0.052829,],\n",
    "        [-0.014912,0.99941,0.031073,],\n",
    "        [0.053311,-0.030238,0.99812,],\n",
    "        ]\n",
    "S2Rot = [\n",
    "        [0.99752,0.065339,-0.026294,],\n",
    "        [-0.063664,0.99616,0.060141,],\n",
    "        [0.030123,-0.058318,0.99784,],\n",
    "        ]"
   ]
  },
  {
   "cell_type": "code",
   "execution_count": 142,
   "metadata": {},
   "outputs": [],
   "source": [
    "s1points = tf.matmul(s1verts[:,:,:], np.transpose(S1Rot))+3\n",
    "s2points = tf.matmul(s2verts[:,:,:], np.transpose(S2Rot))-3"
   ]
  },
  {
   "cell_type": "code",
   "execution_count": 143,
   "metadata": {},
   "outputs": [],
   "source": [
    "FX1 = s1points\n",
    "FX2 = s2points"
   ]
  },
  {
   "cell_type": "code",
   "execution_count": 93,
   "metadata": {},
   "outputs": [
    {
     "name": "stdout",
     "output_type": "stream",
     "text": [
      "4.702171325683594 ms, while <1ms in matlab\n"
     ]
    }
   ],
   "source": [
    "gtimer.reset()\n",
    "v = np.array([0.8000, 0.5000, 1.0000])\n",
    "t1 = time.time()\n",
    "for _ in range(1000):\n",
    "    a, b = pickLine(v, FX2, FX1)\n",
    "    a, b, c, flag = PickTriangle(a,b,FX2,FX1,iterations)\n",
    "    if flag == 1: # Only bother if we could find a viable triangle.\n",
    "        a,b,c,d,flag = pickTetrahedron(a,b,c,FX2,FX1,iterations)\n",
    "t2 = time.time()\n",
    "print(\"{} ms, while <1ms in matlab\".format(t2-t1))"
   ]
  },
  {
   "cell_type": "code",
   "execution_count": 147,
   "metadata": {},
   "outputs": [
    {
     "data": {
      "text/plain": [
       "(<tf.Tensor: shape=(3,), dtype=float64, numpy=array([4.38314668, 5.93255553, 3.86193882])>,\n",
       " <tf.Tensor: shape=(3,), dtype=float64, numpy=array([7.61685332, 6.06744447, 8.13806118])>)"
      ]
     },
     "execution_count": 147,
     "metadata": {},
     "output_type": "execute_result"
    }
   ],
   "source": [
    "v = np.array([0.8000, 0.5000, 1.0000])\n",
    "a,b = pickLine(v, FX2, FX1)\n",
    "a,b"
   ]
  },
  {
   "cell_type": "code",
   "execution_count": 148,
   "metadata": {},
   "outputs": [
    {
     "data": {
      "text/plain": [
       "(<tf.Tensor: shape=(3,), dtype=float64, numpy=array([3.4942057 , 5.39867512, 6.97876186])>,\n",
       " <tf.Tensor: shape=(3,), dtype=float64, numpy=array([3.60530508, 5.3333286 , 4.8797155 ])>,\n",
       " <tf.Tensor: shape=(3,), dtype=float64, numpy=array([4.17041999, 3.65601581, 6.01532408])>)"
      ]
     },
     "execution_count": 148,
     "metadata": {},
     "output_type": "execute_result"
    }
   ],
   "source": [
    "a, b, c, flag = PickTriangle(a,b,FX2,FX1,iterations)\n",
    "a, b, c"
   ]
  },
  {
   "cell_type": "code",
   "execution_count": 149,
   "metadata": {},
   "outputs": [
    {
     "data": {
      "text/plain": [
       "(<tf.Tensor: shape=(3,), dtype=float64, numpy=array([4.17041999, 3.65601581, 6.01532408])>,\n",
       " <tf.Tensor: shape=(3,), dtype=float64, numpy=array([4.17041999, 3.65601581, 6.01532408])>,\n",
       " <tf.Tensor: shape=(3,), dtype=float64, numpy=array([3.4942057 , 5.39867512, 6.97876186])>,\n",
       " <tf.Tensor: shape=(3,), dtype=float64, numpy=array([3.60530508, 5.3333286 , 4.8797155 ])>,\n",
       " 0)"
      ]
     },
     "execution_count": 149,
     "metadata": {},
     "output_type": "execute_result"
    }
   ],
   "source": [
    "pickTetrahedron(a,b,c,FX2,FX1,iterations)"
   ]
  },
  {
   "cell_type": "code",
   "execution_count": null,
   "metadata": {},
   "outputs": [],
   "source": []
  },
  {
   "cell_type": "code",
   "execution_count": null,
   "metadata": {},
   "outputs": [],
   "source": []
  },
  {
   "cell_type": "markdown",
   "metadata": {},
   "source": [
    "# Matthew Sheen numpy version"
   ]
  },
  {
   "cell_type": "code",
   "execution_count": 841,
   "metadata": {},
   "outputs": [],
   "source": [
    "def getFarthestInDir(FX, v):\n",
    "    dotted = np.sum(FX*v,axis=-1)\n",
    "    rowIdxSet = np.argmax(dotted, axis=-1)\n",
    "    maxInCol = np.max(dotted, axis=-1)\n",
    "    colIdx = np.argmax(maxInCol, axis=-1)\n",
    "    rowIdx = rowIdxSet[colIdx]\n",
    "    point = FX[colIdx,rowIdx]\n",
    "    return point\n",
    "\n",
    "\n",
    "def get_facepoints(verts, faces): # (fc, vtx, ax)\n",
    "    return np.array([verts[s1f-1] for s1f in faces])\n",
    "\n",
    "def support(FX1, FX2, v):\n",
    "    point1 = getFarthestInDir(FX1, v)\n",
    "    point2 = getFarthestInDir(FX2, -v)\n",
    "    return point1 - point2\n",
    "\n",
    "def pickLine(v, FX1, FX2):\n",
    "    b= support(FX2, FX1, v)\n",
    "    a= support(FX2, FX1, -v)\n",
    "    return a, b\n",
    "\n",
    "def PickTriangle(a, b, FX1, FX2, IterationAllowed=6):\n",
    "    flag = 0\n",
    "\n",
    "    # First try:\n",
    "    ab = b-a\n",
    "    ao = -a\n",
    "    v = np.cross(np.cross(ab,ao),ab) # v is perpendicular to ab pointing in the general direction of the origin\n",
    "    c = b\n",
    "    b = a\n",
    "    a = support(FX2,FX1,v)\n",
    "    for i in range(IterationAllowed):\n",
    "        ab = b-a;\n",
    "        ao = -a;\n",
    "        ac = c-a;\n",
    "        abc = np.cross(ab,ac)\n",
    "        abp = np.cross(ab,abc)\n",
    "        acp = np.cross(abc,ac)\n",
    "        if np.sum(abp*ao) > 0:\n",
    "            c = b # Throw away the furthest point and grab a new one in the right direction\n",
    "            b = a\n",
    "            v = abp # cross(cross(ab,ao),ab);\n",
    "        elif np.sum(acp*ao) > 0:\n",
    "            b = a\n",
    "            v = acp; # cross(cross(ac,ao),ac);\n",
    "\n",
    "        else:\n",
    "            flag = 1;\n",
    "            break # We got a good one.\n",
    "        a = support(FX2, FX1,v)\n",
    "\n",
    "    return a, b, c, flag\n",
    "\n",
    "\n",
    "def pickTetrahedron(a,b,c,FX1,FX2,IterationAllowed):\n",
    "    flag = 0\n",
    "    ab = b-a\n",
    "    ac = c-a\n",
    "\n",
    "    # Normal to face of triangle\n",
    "    abc = np.cross(ab,ac)\n",
    "    ao = -a\n",
    "\n",
    "    if np.sum(abc* ao) > 0: # Above\n",
    "        d = c\n",
    "        c = b\n",
    "        b = a\n",
    "\n",
    "        v = abc\n",
    "        a = support(FX2,FX1,v) # Tetrahedron new point\n",
    "    else: # below\n",
    "        d = b\n",
    "        b = a\n",
    "        v = -abc\n",
    "        a = support(FX2,FX1,v) # Tetrahedron new point\n",
    "\n",
    "    for i in range(IterationAllowed): #Allowing 10 tries to make a good tetrahedron.\n",
    "        #Check the tetrahedron:\n",
    "        ab = b-a\n",
    "        ao = -a\n",
    "        ac = c-a\n",
    "        ad = d-a\n",
    "\n",
    "        #We KNOW that the origin is not under the base of the tetrahedron based on\n",
    "        #the way we picked a. So we need to check faces ABC, ABD, and ACD.\n",
    "\n",
    "        #Normal to face of triangle\n",
    "        abc = np.cross(ab,ac)\n",
    "\n",
    "        if np.sum(abc*ao) > 0: #Above triangle ABC\n",
    "            pass\n",
    "            # No need to change anything, we'll just iterate again with this face as\n",
    "            # default.\n",
    "        else:\n",
    "            acd = np.cross(ac,ad) # Normal to face of triangle\n",
    "\n",
    "            if np.sum(acd*ao) > 0 : # Above triangle ACD\n",
    "                # Make this the new base triangle.\n",
    "                b = c\n",
    "                c = d\n",
    "                ab = ac\n",
    "                ac = ad            \n",
    "                abc = acd\n",
    "            elif np.sum(acd*ao) < 0:\n",
    "                adb = np.cross(ad,ab) #Normal to face of triangle\n",
    "\n",
    "                if np.sum(adb*ao) > 0: #Above triangle ADB\n",
    "                    # Make this the new base triangle.\n",
    "                    c = b\n",
    "                    b = d\n",
    "                    ac = ab\n",
    "                    ab = ad\n",
    "                    abc = adb\n",
    "                else:\n",
    "                    flag = 1\n",
    "                    break # It's inside the tetrahedron.\n",
    "\n",
    "        #try again:\n",
    "        if np.sum(abc*ao) > 0: #Above\n",
    "            d = c\n",
    "            c = b\n",
    "            b = a    \n",
    "            v = abc\n",
    "            a = support(FX2,FX1,v) #Tetrahedron new point\n",
    "        else: #below\n",
    "            d = b;\n",
    "            b = a;\n",
    "            v = -abc;\n",
    "            a = support(FX2,FX1,v) #Tetrahedron new point\n",
    "    return a,b,c,d,flag"
   ]
  },
  {
   "cell_type": "markdown",
   "metadata": {},
   "source": [
    "# Test"
   ]
  },
  {
   "cell_type": "code",
   "execution_count": 842,
   "metadata": {},
   "outputs": [],
   "source": [
    "s1coords = np.loadtxt(\"s1.csv\", delimiter=\",\")\n",
    "s2coords = np.loadtxt(\"s2.csv\", delimiter=\",\")"
   ]
  },
  {
   "cell_type": "code",
   "execution_count": 843,
   "metadata": {},
   "outputs": [],
   "source": [
    "s1faces = np.loadtxt(\"s1face.csv\", delimiter=\",\",dtype='int')\n",
    "s2faces = np.loadtxt(\"s2face.csv\", delimiter=\",\",dtype='int')"
   ]
  },
  {
   "cell_type": "code",
   "execution_count": 844,
   "metadata": {},
   "outputs": [],
   "source": [
    "iterations = 6"
   ]
  },
  {
   "cell_type": "code",
   "execution_count": 845,
   "metadata": {},
   "outputs": [],
   "source": [
    "s1verts = get_facepoints(s1coords, s1faces)\n",
    "s2verts = get_facepoints(s2coords, s2faces)"
   ]
  },
  {
   "cell_type": "code",
   "execution_count": 846,
   "metadata": {},
   "outputs": [],
   "source": [
    "S1Rot = [\n",
    "        [0.99847,0.016541,-0.052829,],\n",
    "        [-0.014912,0.99941,0.031073,],\n",
    "        [0.053311,-0.030238,0.99812,],\n",
    "        ]\n",
    "S2Rot = [\n",
    "        [0.99752,0.065339,-0.026294,],\n",
    "        [-0.063664,0.99616,0.060141,],\n",
    "        [0.030123,-0.058318,0.99784,],\n",
    "        ]"
   ]
  },
  {
   "cell_type": "code",
   "execution_count": 847,
   "metadata": {},
   "outputs": [],
   "source": [
    "s1points = tf.matmul(s1verts[:,:,:], np.transpose(S1Rot))+3\n",
    "s2points = tf.matmul(s2verts[:,:,:], np.transpose(S2Rot))-3"
   ]
  },
  {
   "cell_type": "code",
   "execution_count": 848,
   "metadata": {},
   "outputs": [],
   "source": [
    "FX1 = s1points\n",
    "FX2 = s2points"
   ]
  },
  {
   "cell_type": "code",
   "execution_count": 851,
   "metadata": {},
   "outputs": [
    {
     "name": "stdout",
     "output_type": "stream",
     "text": [
      "7.197966814041138 ms, while <1ms in matlab\n"
     ]
    }
   ],
   "source": [
    "t1 = time.time()\n",
    "for _ in range(1000):\n",
    "    v = np.array([0.8000, 0.5000, 1.0000])\n",
    "    a, b = pickLine(v, FX2, FX1)\n",
    "    a, b, c, flag = PickTriangle(a,b,FX2,FX1,iterations)\n",
    "    if flag == 1: # Only bother if we could find a viable triangle.\n",
    "        a,b,c,d,flag = pickTetrahedron(a,b,c,FX2,FX1,iterations)\n",
    "t2 = time.time()\n",
    "print(\"{} ms, while <1ms in matlab\".format(t2-t1))"
   ]
  },
  {
   "cell_type": "code",
   "execution_count": 792,
   "metadata": {},
   "outputs": [],
   "source": []
  },
  {
   "cell_type": "code",
   "execution_count": null,
   "metadata": {},
   "outputs": [],
   "source": []
  },
  {
   "cell_type": "code",
   "execution_count": null,
   "metadata": {},
   "outputs": [],
   "source": []
  },
  {
   "cell_type": "code",
   "execution_count": null,
   "metadata": {},
   "outputs": [],
   "source": []
  }
 ],
 "metadata": {
  "kernelspec": {
   "display_name": "Python 3",
   "language": "python",
   "name": "python3"
  },
  "language_info": {
   "codemirror_mode": {
    "name": "ipython",
    "version": 3
   },
   "file_extension": ".py",
   "mimetype": "text/x-python",
   "name": "python",
   "nbconvert_exporter": "python",
   "pygments_lexer": "ipython3",
   "version": "3.6.9"
  }
 },
 "nbformat": 4,
 "nbformat_minor": 2
}
