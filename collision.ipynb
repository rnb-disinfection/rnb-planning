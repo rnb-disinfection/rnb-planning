{
 "cells": [
  {
   "cell_type": "markdown",
   "metadata": {},
   "source": [
    "# GJK"
   ]
  },
  {
   "cell_type": "code",
   "execution_count": null,
   "metadata": {},
   "outputs": [],
   "source": [
    "import tensorflow as tf\n",
    "from tensorflow import keras\n",
    "from tensorflow.keras import layers\n",
    "from tensorflow.keras import backend as K\n",
    "import numpy as np"
   ]
  },
  {
   "cell_type": "code",
   "execution_count": null,
   "metadata": {},
   "outputs": [],
   "source": [
    "from pkg.tf_transform import *\n",
    "from pkg.tf_robot import *\n",
    "from pkg.constraint import *\n",
    "from pkg.info import *\n",
    "from pkg.tf_utils import *\n",
    "from pkg.rotation_utils import *\n",
    "from pkg.utils import *\n",
    "from pkg.collision import *"
   ]
  },
  {
   "cell_type": "code",
   "execution_count": null,
   "metadata": {},
   "outputs": [],
   "source": [
    "import matplotlib.pyplot as plt\n",
    "import time"
   ]
  },
  {
   "cell_type": "markdown",
   "metadata": {},
   "source": [
    "## for test"
   ]
  },
  {
   "cell_type": "code",
   "execution_count": null,
   "metadata": {},
   "outputs": [],
   "source": [
    "gtimer = GlobalTimer()"
   ]
  },
  {
   "cell_type": "code",
   "execution_count": null,
   "metadata": {},
   "outputs": [],
   "source": [
    "N_vtx = 20"
   ]
  },
  {
   "cell_type": "code",
   "execution_count": null,
   "metadata": {},
   "outputs": [],
   "source": [
    "s1coords = np.loadtxt(\"s1.csv\", delimiter=\",\")\n",
    "s2coords = np.loadtxt(\"s2.csv\", delimiter=\",\")"
   ]
  },
  {
   "cell_type": "code",
   "execution_count": null,
   "metadata": {},
   "outputs": [],
   "source": [
    "s1faces = np.loadtxt(\"s1face.csv\", delimiter=\",\",dtype='int')\n",
    "s2faces = np.loadtxt(\"s2face.csv\", delimiter=\",\",dtype='int')"
   ]
  },
  {
   "cell_type": "code",
   "execution_count": null,
   "metadata": {},
   "outputs": [],
   "source": [
    "iterations = 6"
   ]
  },
  {
   "cell_type": "code",
   "execution_count": null,
   "metadata": {},
   "outputs": [],
   "source": [
    "s1verts = pad_vertex(s1coords.astype('float32'), N_vtx) # get_facepoints(s1coords, s1faces,N_fcs).astype('float32')\n",
    "s2verts = pad_vertex(s2coords.astype('float32'), N_vtx) # get_facepoints(s2coords, s2faces,N_fcs).astype('float32')"
   ]
  },
  {
   "cell_type": "code",
   "execution_count": null,
   "metadata": {},
   "outputs": [],
   "source": [
    "S1Rot = np.array([\n",
    "        [0.99847,0.016541,-0.052829,],\n",
    "        [-0.014912,0.99941,0.031073,],\n",
    "        [0.053311,-0.030238,0.99812,],\n",
    "        ], dtype=np.float32)\n",
    "S2Rot = np.array([\n",
    "        [0.99752,0.065339,-0.026294,],\n",
    "        [-0.063664,0.99616,0.060141,],\n",
    "        [0.030123,-0.058318,0.99784,],\n",
    "        ], dtype=np.float32)"
   ]
  },
  {
   "cell_type": "code",
   "execution_count": null,
   "metadata": {},
   "outputs": [],
   "source": [
    "s1points = tf.matmul(s1verts, np.transpose(S1Rot))+3\n",
    "s2points = tf.matmul(s2verts, np.transpose(S2Rot))-3\n",
    "FX1 = s1points\n",
    "FX2 = s2points"
   ]
  },
  {
   "cell_type": "code",
   "execution_count": null,
   "metadata": {},
   "outputs": [],
   "source": []
  },
  {
   "cell_type": "markdown",
   "metadata": {},
   "source": [
    "## test batch"
   ]
  },
  {
   "cell_type": "code",
   "execution_count": null,
   "metadata": {},
   "outputs": [],
   "source": [
    "S1Rot = np.identity(3, dtype=np.float32)\n",
    "S2Rot = np.identity(3, dtype=np.float32)\n",
    "dang = np.deg2rad(5)\n",
    "dS1 = np.transpose(np.matmul(Rot_axis(3,dang),np.matmul(Rot_axis(2,dang),Rot_axis(1,-dang)))).astype(np.float32)\n",
    "dS2 = np.transpose(np.matmul(Rot_axis(3,-dang),np.matmul(Rot_axis(2,dang),Rot_axis(1,dang)))).astype(np.float32)\n",
    "Dvec = np.reshape(np.arange(3,0.2,-0.005), (-1,1,1))\n",
    "Rotvec1 = [np.matmul(dS1, S1Rot)]\n",
    "Rotvec2 = [np.matmul(dS2, S2Rot)]\n",
    "for i in range(1, len(Dvec)):\n",
    "    Rotvec1 += [np.matmul(dS1, Rotvec1[i-1])]\n",
    "    Rotvec2 += [np.matmul(dS2, Rotvec2[i-1])]\n",
    "s1points = np.round(np.matmul(s1verts, np.transpose(Rotvec1, axes=[0,2,1]))+(1/2+Dvec/2), 4)\n",
    "s2points = np.round(np.matmul(s2verts, np.transpose(Rotvec2, axes=[0,2,1]))-(1/2+Dvec/2), 4)\n",
    "# FX1_batch = tf.constant([[s1points[2]]*len(s1points)],dtype='float32')\n",
    "# FX2_batch = tf.constant([[s2points[2]]*len(s2points)],dtype='float32')"
   ]
  },
  {
   "cell_type": "code",
   "execution_count": null,
   "metadata": {},
   "outputs": [],
   "source": [
    "FX1_batch = tf.constant([s1points]*3,dtype='float32')\n",
    "FX2_batch = tf.constant([s2points]*3,dtype='float32')\n",
    "N_sim = FX1_batch.shape[0]\n",
    "N_col = FX1_batch.shape[1]\n",
    "flag_default = get_flag_default(N_sim, N_col)\n",
    "dist_default = get_dist_default(N_sim, N_col)\n",
    "v_batch = np.array([[[[0.8000, 0.5000, 1.0000]]]*N_col]*N_sim,dtype=np.float32)\n",
    "gtimer.reset()\n",
    "dist_vec1 = []\n",
    "flag_vec1 = []\n",
    "avec1 = []\n",
    "bvec1 = []\n",
    "cvec1 = []\n",
    "dvec1 = []\n",
    "itervec1 = []\n",
    "for _ in range(10):\n",
    "    gtimer.tic(\"TF_batch\")\n",
    "#     dist, flag = test_collision_batch(FX1_batch, FX2_batch, v_batch,flag_default,dist_default,10)\n",
    "    a, b = pickLineTF_batch(v_batch, FX2_batch, FX1_batch)\n",
    "    a, b, c, flag = PickTriangleTF_batch(a,b,FX2_batch,FX1_batch,flag_default)\n",
    "    a,b,c,d,v, v_, dist,flag, iter = pickTetrahedronTF_batch(a,b,c,FX2_batch,FX1_batch,flag_default,dist_default)\n",
    "#     avec1 += [a[0][:,:]]\n",
    "#     bvec1 += [b[0][:,:]]\n",
    "#     cvec1 += [c[0][:,:]]\n",
    "#     dvec1 += [d[0][:,:]]\n",
    "#     itervec1 += [iter]\n",
    "    dist_vec1 += [dist[0][:,0]]\n",
    "    flag_vec1 += [flag[0][:,0]]\n",
    "    gtimer.toc(\"TF_batch\")\n",
    "gtimer.print_time_log()\n",
    "dist_vec1 = np.array(dist_vec1[0])"
   ]
  },
  {
   "cell_type": "code",
   "execution_count": null,
   "metadata": {},
   "outputs": [],
   "source": [
    "plt.plot(dist_vec1)\n",
    "# plt.plot(np.array(flag_vec1[0]),'o')\n",
    "plt.ylim([-5e-1, 6])"
   ]
  },
  {
   "cell_type": "code",
   "execution_count": null,
   "metadata": {},
   "outputs": [],
   "source": []
  },
  {
   "cell_type": "markdown",
   "metadata": {},
   "source": [
    "### plot 3d"
   ]
  },
  {
   "cell_type": "code",
   "execution_count": null,
   "metadata": {},
   "outputs": [],
   "source": [
    "\n",
    "import matplotlib.pyplot as plt\n",
    "import mpl_toolkits.mplot3d as mplot3d\n",
    "\n",
    "fig = plt.figure(figsize=(10, 10))\n",
    "i_col = 57\n",
    "\n",
    "sub = fig.add_subplot(1,1,1,projection=\"3d\")\n",
    "x, y, z = np.transpose(FX1_batch[0,i_col])\n",
    "sub.plot(x,y,z,'.')\n",
    "x, y, z = np.transpose(FX2_batch[0,i_col])\n",
    "sub.plot(x,y,z,'.')"
   ]
  },
  {
   "cell_type": "code",
   "execution_count": null,
   "metadata": {},
   "outputs": [],
   "source": []
  },
  {
   "cell_type": "code",
   "execution_count": null,
   "metadata": {},
   "outputs": [],
   "source": []
  },
  {
   "cell_type": "markdown",
   "metadata": {},
   "source": [
    "# FXpack"
   ]
  },
  {
   "cell_type": "code",
   "execution_count": null,
   "metadata": {},
   "outputs": [],
   "source": [
    "np.savetxt(\"FX1_pack.csv\", np.reshape(FX1_batch[0], (-1,3)), delimiter=\",\")\n",
    "np.savetxt(\"FX2_pack.csv\", np.reshape(FX2_batch[0], (-1,3)), delimiter=\",\")\n",
    "np.savetxt(\"v_batch.csv\", np.reshape(v_batch[0], (-1,3)), delimiter=\",\")"
   ]
  },
  {
   "cell_type": "code",
   "execution_count": null,
   "metadata": {},
   "outputs": [],
   "source": [
    "FX1_pack = np.loadtxt(\"FX1_pack.csv\", delimiter=\",\", dtype=np.float32)\n",
    "FX2_pack = np.loadtxt(\"FX2_pack.csv\", delimiter=\",\", dtype=np.float32)\n",
    "dist_vec = np.loadtxt(\"dist_vec.csv\", delimiter=\",\", dtype=np.float32)\n",
    "N_samples = len(dist_vec)\n",
    "FX1_pack = np.reshape(FX1_pack, (N_samples, -1, 3))\n",
    "FX2_pack = np.reshape(FX2_pack, (N_samples, -1, 3))"
   ]
  },
  {
   "cell_type": "code",
   "execution_count": null,
   "metadata": {},
   "outputs": [],
   "source": [
    "FX1_batch = []\n",
    "FX2_batch = []\n",
    "N_vtx = 12\n",
    "for i in range(N_samples):\n",
    "    FX1 = FX1_pack[i]\n",
    "    FX2 = FX2_pack[i]\n",
    "    if N_vtx-len(FX1)>0:\n",
    "        FX1 = np.concatenate([FX1, [np.mean(FX1,axis=0)]*(N_vtx-len(FX1))], axis=0)\n",
    "    if N_vtx-len(FX2)>0:\n",
    "        FX2 = np.concatenate([FX2, [np.mean(FX2,axis=0)]*(N_vtx-len(FX2))], axis=0)\n",
    "    FX1_batch += [[FX1]]\n",
    "    FX2_batch += [[FX2]]\n",
    "    \n",
    "FX1_batch = np.array(FX1_batch, dtype=np.float32)\n",
    "FX2_batch = np.array(FX2_batch, dtype=np.float32)\n",
    "N_sim = N_samples\n",
    "N_col = 1\n",
    "v_batch = np.array([[[[0.8, 0.5, 1]]]*N_col]*N_sim, dtype=np.float32)\n",
    "flag_default = get_flag_default(N_sim, N_col)\n",
    "dist_default = get_dist_default(N_sim, N_col)"
   ]
  },
  {
   "cell_type": "code",
   "execution_count": null,
   "metadata": {},
   "outputs": [],
   "source": [
    "gtimer = GlobalTimer();\n",
    "gtimer.reset()\n",
    "# for _ in range(100):\n",
    "gtimer.tic(\"test\")\n",
    "dist, flag = test_collision_batch(\n",
    "    FX1_batch, FX2_batch, v_batch=v_batch, \n",
    "    flag_default=flag_default, dist_default=dist_default,\n",
    "    IterationAllowed=10)\n",
    "gtimer.toc(\"test\")\n",
    "print(gtimer)"
   ]
  },
  {
   "cell_type": "code",
   "execution_count": null,
   "metadata": {},
   "outputs": [],
   "source": []
  },
  {
   "cell_type": "markdown",
   "metadata": {},
   "source": [
    "# template distance"
   ]
  },
  {
   "cell_type": "code",
   "execution_count": null,
   "metadata": {},
   "outputs": [],
   "source": [
    "import tensorflow as tf\n",
    "from tensorflow import keras\n",
    "from tensorflow.keras import layers\n",
    "from tensorflow.keras import backend as K\n",
    "import numpy as np"
   ]
  },
  {
   "cell_type": "code",
   "execution_count": null,
   "metadata": {},
   "outputs": [],
   "source": [
    "from pkg.tf_transform import *\n",
    "from pkg.tf_robot import *\n",
    "from pkg.constraint import *\n",
    "from pkg.info import *\n",
    "from pkg.tf_utils import *\n",
    "from pkg.rotation_utils import *\n",
    "from pkg.utils import *\n",
    "from pkg.collision import *"
   ]
  },
  {
   "cell_type": "code",
   "execution_count": null,
   "metadata": {},
   "outputs": [],
   "source": [
    "import matplotlib.pyplot as plt\n",
    "import time"
   ]
  },
  {
   "cell_type": "code",
   "execution_count": null,
   "metadata": {},
   "outputs": [],
   "source": [
    "from pkg.distance import *"
   ]
  },
  {
   "cell_type": "code",
   "execution_count": null,
   "metadata": {},
   "outputs": [],
   "source": [
    "N_sim = 50\n",
    "N_col = 20"
   ]
  },
  {
   "cell_type": "code",
   "execution_count": null,
   "metadata": {},
   "outputs": [],
   "source": [
    "pt1 = tf.constant([[[[1e-3,3,3]]]*N_col]*N_sim, dtype=tf.float32)\n",
    "pt2 = tf.constant([[[[1,0,1]]]*N_col]*N_sim, dtype=tf.float32)\n",
    "ln1 = tf.constant([[[[2,0,0],[0,2,-2+1e-3]]]*N_col]*N_sim, dtype=tf.float32)\n",
    "ln2 = tf.constant([[[[-2,1+1e-3,0],[0,1,-2+1e-3]]]*N_col]*N_sim, dtype=tf.float32)\n",
    "pl1 = tf.constant([[[[1,0+1e-3,0],[0,0+1e-3,-1],[-1,0+1e-3,0],[0,0+1e-3,1]]]*N_col]*N_sim, dtype=tf.float32)\n",
    "pl2 = tf.constant([[[[1+1e-3,1,0],[0,1,-1],[-1,1,0],[0,1,1]]]*N_col]*N_sim, dtype=tf.float32)\n",
    "bx1 = tf.constant( np.array(\n",
    "    [[tf.concat([pl1[0,0]-tf.constant([[0,2,0]], dtype=tf.float32), \n",
    "                 pl1[0,0]-tf.constant([[0,3,0]], dtype=tf.float32)], \n",
    "                axis=0)]*N_col]*N_sim), \n",
    "                  dtype=tf.float32)\n",
    "bx2 = tf.constant( np.array(\n",
    "    [[tf.concat([pl2[0,0]+tf.constant([[0,1,0]], dtype=tf.float32), \n",
    "                 pl2[0,0]-tf.constant([[0,1,0]], dtype=tf.float32)], \n",
    "                axis=0)]*N_col]*N_sim), \n",
    "                  dtype=tf.float32)\n",
    "dist1 = tf.constant([[[0]]*N_col]*N_sim, dtype=tf.float32)\n",
    "dist2 = tf.constant([[[0]]*N_col]*N_sim, dtype=tf.float32)\n",
    "flag_default = get_flag_default(N_sim, N_col)\n",
    "dist_default = get_dist_default(N_sim, N_col)\n",
    "x_batch, y_batch = get_xy_batch(N_sim, N_col)\n",
    "zeros_pt = get_zero_points(N_sim, N_col)"
   ]
  },
  {
   "cell_type": "code",
   "execution_count": null,
   "metadata": {
    "scrolled": true
   },
   "outputs": [],
   "source": [
    "gtimer = GlobalTimer()\n",
    "gtimer.reset()\n",
    "for _ in range(100):\n",
    "    gtimer.tic(\"all\")\n",
    "    dist1_, dist2_, dist3_, dist4_, dist5_, dist6_, dist7_, dist8_, dist9_, dist10_ = \\\n",
    "        test_all(pt1, pt2, ln1, ln2, pl1, pl2, bx1, bx2, dist1, dist2, zeros_pt, N_sim, N_col, flag_default, dist_default, x_batch, y_batch)\n",
    "    gtimer.toc(\"all\")\n",
    "print(gtimer)"
   ]
  },
  {
   "cell_type": "code",
   "execution_count": null,
   "metadata": {
    "scrolled": true
   },
   "outputs": [],
   "source": [
    "gtimer = GlobalTimer()\n",
    "gtimer.reset()\n",
    "distvec = []\n",
    "distrefvec = []\n",
    "distcompvec = []\n",
    "flagcompvec = []\n",
    "for _ in range(100):\n",
    "    gtimer.tic(\"pt_pt\")\n",
    "    dist, flag = distance_pt_pt(pt1, pt2, dist1, dist2)\n",
    "    gtimer.toc(\"pt_pt\")\n",
    "    distvec += [dist]\n",
    "    dist_ref, flag_ref = distance_mesh(pt1, pt2, dist1, dist2, flag_default, dist_default, x_batch, y_batch, IterationAllowed=6)\n",
    "    distrefvec += [dist_ref]\n",
    "    distcompvec += [dist-dist_ref]\n",
    "    flagcompvec += [tf.cast(flag, tf.int32)-tf.cast(flag_ref, tf.int32)]\n",
    "    gtimer.tic(\"pt_ln\")\n",
    "    dist, flag = distance_pt_ln(pt1, ln2, dist1, dist2)\n",
    "    gtimer.toc(\"pt_ln\")\n",
    "    distvec += [dist]\n",
    "    dist_ref, flag_ref = distance_mesh(pt1, ln2, dist1, dist2, flag_default, dist_default, x_batch, y_batch, IterationAllowed=6)\n",
    "    distrefvec += [dist_ref]\n",
    "    distcompvec += [dist-dist_ref]\n",
    "    flagcompvec += [tf.cast(flag, tf.int32)-tf.cast(flag_ref, tf.int32)]\n",
    "    gtimer.tic(\"pt_pl\")\n",
    "    dist, flag = distance_pt_pl(pt1, pl2, dist1, dist2, N_sim, N_col)\n",
    "    gtimer.toc(\"pt_pl\")\n",
    "    distvec += [dist]\n",
    "    dist_ref, flag_ref = distance_mesh(pt1, pl2, dist1, dist2, flag_default, dist_default, x_batch, y_batch, IterationAllowed=6)\n",
    "    distrefvec += [dist_ref]\n",
    "    distcompvec += [dist-dist_ref]\n",
    "    flagcompvec += [tf.cast(flag, tf.int32)-tf.cast(flag_ref, tf.int32)]\n",
    "    gtimer.tic(\"pt_bx\")\n",
    "    dist, flag = distance_pt_bx(pt1, bx2, dist1, dist2, N_sim, N_col)\n",
    "    gtimer.toc(\"pt_bx\")\n",
    "    distvec += [dist]\n",
    "    dist_ref, flag_ref = distance_mesh(pt1, bx2, dist1, dist2, flag_default, dist_default, x_batch, y_batch, IterationAllowed=6)\n",
    "    distrefvec += [dist_ref]\n",
    "    distcompvec += [dist-dist_ref]\n",
    "    flagcompvec += [tf.cast(flag, tf.int32)-tf.cast(flag_ref, tf.int32)]\n",
    "    gtimer.tic(\"ln_ln\")\n",
    "    dist, flag = distance_ln_ln(ln1, ln2, dist1, dist2, N_sim, N_col, zeros_pt)\n",
    "    gtimer.toc(\"ln_ln\")\n",
    "    distvec += [dist]\n",
    "    dist_ref, flag_ref = distance_mesh(ln1, ln2, dist1, dist2, flag_default, dist_default, x_batch, y_batch, IterationAllowed=6)\n",
    "    distrefvec += [dist_ref]\n",
    "    distcompvec += [dist-dist_ref]\n",
    "    flagcompvec += [tf.cast(flag, tf.int32)-tf.cast(flag_ref, tf.int32)]\n",
    "    gtimer.tic(\"ln_pl\")\n",
    "    dist, flag = distance_ln_pl(ln1, pl2, dist1, dist2, N_sim, N_col, zeros_pt)\n",
    "    gtimer.toc(\"ln_pl\")\n",
    "    distvec += [dist]\n",
    "    dist_ref, flag_ref = distance_mesh(ln1, pl2, dist1, dist2, flag_default, dist_default, x_batch, y_batch, IterationAllowed=6)\n",
    "    distrefvec += [dist_ref]\n",
    "    distcompvec += [dist-dist_ref]\n",
    "    flagcompvec += [tf.cast(flag, tf.int32)-tf.cast(flag_ref, tf.int32)]\n",
    "    gtimer.tic(\"ln_bx\")\n",
    "    dist, flag = distance_ln_bx(ln1, bx2, dist1, dist2, flag_default, dist_default, x_batch, y_batch)\n",
    "    gtimer.toc(\"ln_bx\")\n",
    "    distvec += [dist]\n",
    "    dist_ref, flag_ref = distance_mesh(ln1, bx2, dist1, dist2, flag_default, dist_default, x_batch, y_batch, IterationAllowed=6)\n",
    "    distrefvec += [dist_ref]\n",
    "    distcompvec += [dist-dist_ref]\n",
    "    flagcompvec += [tf.cast(flag, tf.int32)-tf.cast(flag_ref, tf.int32)]\n",
    "    gtimer.tic(\"pl_pl\")\n",
    "    dist, flag = distance_pl_pl(pl1, pl2, dist1, dist2, flag_default, dist_default, x_batch, y_batch)\n",
    "    gtimer.toc(\"pl_pl\")\n",
    "    distvec += [dist]\n",
    "    dist_ref, flag_ref = distance_mesh(pl1, pl2, dist1, dist2, flag_default, dist_default, x_batch, y_batch, IterationAllowed=6)\n",
    "    distrefvec += [dist_ref]\n",
    "    distcompvec += [dist-dist_ref]\n",
    "    flagcompvec += [tf.cast(flag, tf.int32)-tf.cast(flag_ref, tf.int32)]\n",
    "    gtimer.tic(\"pl_bx\")\n",
    "    dist, flag = distance_pl_bx(pl1, bx2, dist1, dist2, flag_default, dist_default, x_batch, y_batch)\n",
    "    gtimer.toc(\"pl_bx\")\n",
    "    distvec += [dist]\n",
    "    dist_ref, flag_ref = distance_mesh(pl1, bx2, dist1, dist2, flag_default, dist_default, x_batch, y_batch, IterationAllowed=6)\n",
    "    distrefvec += [dist_ref]\n",
    "    distcompvec += [dist-dist_ref]\n",
    "    flagcompvec += [tf.cast(flag, tf.int32)-tf.cast(flag_ref, tf.int32)]\n",
    "    gtimer.tic(\"bx_bx\")\n",
    "    dist, flag = distance_bx_bx(bx1, bx2, dist1, dist2, flag_default, dist_default, x_batch, y_batch)\n",
    "    gtimer.toc(\"bx_bx\")\n",
    "    distvec += [dist]\n",
    "    dist_ref, flag_ref = distance_mesh(bx1, bx2, dist1, dist2, flag_default, dist_default, x_batch, y_batch, IterationAllowed=6)\n",
    "    distrefvec += [dist_ref]\n",
    "    distcompvec += [dist-dist_ref]\n",
    "    flagcompvec += [tf.cast(flag, tf.int32)-tf.cast(flag_ref, tf.int32)]\n",
    "print(gtimer)"
   ]
  },
  {
   "cell_type": "code",
   "execution_count": null,
   "metadata": {},
   "outputs": [],
   "source": [
    "[dist[0,0] for dist in distvec][:10]"
   ]
  },
  {
   "cell_type": "code",
   "execution_count": null,
   "metadata": {},
   "outputs": [],
   "source": [
    "[dist[0,0] for dist in distrefvec][:10]"
   ]
  },
  {
   "cell_type": "code",
   "execution_count": null,
   "metadata": {
    "scrolled": true
   },
   "outputs": [],
   "source": [
    "[comp[0,0] for comp in distcompvec][:10]"
   ]
  },
  {
   "cell_type": "code",
   "execution_count": null,
   "metadata": {
    "scrolled": true
   },
   "outputs": [],
   "source": [
    "[comp[0,0] for comp in flagcompvec][:10]"
   ]
  },
  {
   "cell_type": "code",
   "execution_count": null,
   "metadata": {},
   "outputs": [],
   "source": []
  },
  {
   "cell_type": "markdown",
   "metadata": {},
   "source": [
    "# Plot 3D"
   ]
  },
  {
   "cell_type": "code",
   "execution_count": null,
   "metadata": {},
   "outputs": [],
   "source": [
    "import matplotlib.pyplot as plt\n",
    "import mpl_toolkits.mplot3d as mplot3d\n",
    "\n",
    "fig = plt.figure(figsize=(10, 10))\n",
    "sub = fig.add_subplot(1,1,1,projection=\"3d\")\n",
    "for i in range(2,3,2):\n",
    "    XX = np.pad(np.transpose(po_res[0,0,i,:]), [[0,0],[1,0]])\n",
    "    ctp = np.mean(XX, axis=-1, keepdims=True)\n",
    "    x, y, z = XX\n",
    "    sub.plot(x,y,z,'-o')\n",
    "    x, y, z = np.pad(np.transpose(fc2_perp[0,0,i]), [[0,0],[1,0]])+ctp\n",
    "    sub.plot(x,y,z,'-d')\n",
    "    for j in range(4):\n",
    "        x, y, z = np.transpose(np.pad(ivec[0,0,i,j:j+1], [[1,0],[0,0]])+po_res[0,0,i,j:j+1])\n",
    "        sub.plot(x,y,z,'-')\n",
    "    x, y, z = -np.transpose(tf.stack([fc2_perm1[0,0,i*4], fc2_perm2[0,0,i*4]]))\n",
    "    sub.plot(x,y,z,'-o')\n",
    "sub.plot([0],[0],[0],'+')\n",
    "sub.set_xlabel('x')\n",
    "sub.set_ylabel('y')\n",
    "sub.set_zlabel('z')\n",
    "\n",
    "sub.view_init(elev=0., azim=0)"
   ]
  },
  {
   "cell_type": "code",
   "execution_count": null,
   "metadata": {},
   "outputs": [],
   "source": []
  },
  {
   "cell_type": "code",
   "execution_count": null,
   "metadata": {},
   "outputs": [],
   "source": []
  },
  {
   "cell_type": "code",
   "execution_count": null,
   "metadata": {},
   "outputs": [],
   "source": []
  },
  {
   "cell_type": "code",
   "execution_count": null,
   "metadata": {},
   "outputs": [],
   "source": []
  },
  {
   "cell_type": "code",
   "execution_count": null,
   "metadata": {},
   "outputs": [],
   "source": []
  },
  {
   "cell_type": "markdown",
   "metadata": {},
   "source": [
    "# Matthew Sheen version"
   ]
  },
  {
   "cell_type": "code",
   "execution_count": null,
   "metadata": {},
   "outputs": [],
   "source": [
    "import time\n",
    "import collections\n",
    "class GlobalTimer:\n",
    "    def __init__(self, scale=1000):\n",
    "        self.name_list = []\n",
    "        self.ts_dict = {}\n",
    "        self.time_dict = collections.defaultdict(lambda: 0)\n",
    "        self.count_dict = collections.defaultdict(lambda: 0)\n",
    "        self.scale = scale\n",
    "        self.switch(True)\n",
    "        \n",
    "    def reset(self):\n",
    "        self.name_list = []\n",
    "        self.ts_dict = {}\n",
    "        self.time_dict = collections.defaultdict(lambda: 0)\n",
    "        self.count_dict = collections.defaultdict(lambda: 0)\n",
    "        self.switch(True)\n",
    "        \n",
    "    def switch(self, onoff):\n",
    "        self.__on = onoff\n",
    "    \n",
    "    def tic(self, name):\n",
    "        if self.__on:\n",
    "            if name not in self.name_list:\n",
    "                self.name_list += [name]\n",
    "            self.ts_dict[name] = time.time()\n",
    "        \n",
    "    def toc(self, name):\n",
    "        if self.__on:\n",
    "            self.time_dict[name] = self.time_dict[name]+(time.time() - self.ts_dict[name]) * self.scale\n",
    "            self.count_dict[name] = self.count_dict[name] + 1\n",
    "            \n",
    "    def toctic(self, name_toc, name_tic):\n",
    "        self.toc(name_toc)\n",
    "        self.tic(name_tic)\n",
    "        \n",
    "    def print_time_log(self, names=None, timeunit=\"ms\"):\n",
    "        if names is None:\n",
    "            names = self.name_list\n",
    "        for name in names:\n",
    "            print(\"{name}: \\t{tot_T} {timeunit}/{tot_C} = {per_T} {timeunit}\".format(\n",
    "                name=name, tot_T=np.round(np.sum(self.time_dict[name])), tot_C=self.count_dict[name], \n",
    "                per_T= np.round(np.sum(self.time_dict[name])/self.count_dict[name], 3),\n",
    "                timeunit=timeunit\n",
    "            ))\n",
    "        "
   ]
  },
  {
   "cell_type": "code",
   "execution_count": null,
   "metadata": {},
   "outputs": [],
   "source": [
    "gtimer = GlobalTimer()"
   ]
  },
  {
   "cell_type": "code",
   "execution_count": null,
   "metadata": {},
   "outputs": [],
   "source": [
    "global_save = {}\n",
    "def getFarthestInDir(FX, v):\n",
    "    global_save['FX'] = FX\n",
    "    global_save['v'] = v\n",
    "    gtimer.tic(\"getFarthestInDir\")\n",
    "    gtimer.tic(\"getFarthestInDir0\")\n",
    "    dotted = K.sum(tf.multiply(FX,v),axis=-1)\n",
    "    gtimer.toctic(\"getFarthestInDir0\", \"getFarthestInDir1\")\n",
    "    rowIdxSet = tf.argmax(dotted, axis=-1)\n",
    "    gtimer.toctic(\"getFarthestInDir1\",\"getFarthestInDir2\")\n",
    "    maxInCol = K.max(dotted, axis=-1)\n",
    "    gtimer.toctic(\"getFarthestInDir2\", \"getFarthestInDir3\")\n",
    "    colIdx = tf.expand_dims(tf.argmax(maxInCol, axis=-1),axis=-1)\n",
    "    gtimer.toctic(\"getFarthestInDir3\", \"getFarthestInDir4\")\n",
    "    rowIdx=tf.gather(params = rowIdxSet, indices=colIdx)\n",
    "    gtimer.toctic(\"getFarthestInDir4\", \"getFarthestInDir5\")\n",
    "    point=tf.gather_nd(params = FX, indices=tf.concat([colIdx,rowIdx],axis=-1))\n",
    "    gtimer.toc(\"getFarthestInDir5\")\n",
    "    gtimer.toc(\"getFarthestInDir\")\n",
    "    return point\n",
    "\n",
    "def get_facepoints(verts, faces): # (fc, vtx, ax)\n",
    "    return np.array([verts[s1f-1] for s1f in faces])\n",
    "\n",
    "def support(FX1, FX2, v):\n",
    "    gtimer.tic(\"support\")\n",
    "    point1 = getFarthestInDir(FX1, v)\n",
    "    point2 = getFarthestInDir(FX2, -v)\n",
    "    gtimer.toc(\"support\")\n",
    "    return point1 - point2\n",
    "\n",
    "def pickLine(v, FX1, FX2):\n",
    "    gtimer.tic(\"pickLine\")\n",
    "    b= support(FX2, FX1, v)\n",
    "    a= support(FX2, FX1, -v)\n",
    "    gtimer.toc(\"pickLine\")\n",
    "    return a, b\n",
    "\n",
    "def PickTriangle(a, b, FX1, FX2, IterationAllowed=6):\n",
    "    flag = 0\n",
    "\n",
    "    gtimer.tic(\"PickTriangle_init\")\n",
    "    # First try:\n",
    "    ab = b-a\n",
    "    ao = -a\n",
    "    v = tf.linalg.cross(tf.linalg.cross(ab,ao),ab) # v is perpendicular to ab pointing in the general direction of the origin\n",
    "    c = b\n",
    "    b = a\n",
    "    a = support(FX2,FX1,v)\n",
    "    gtimer.toc(\"PickTriangle_init\")\n",
    "    for i in range(IterationAllowed):\n",
    "        gtimer.tic(\"PickTriangle_loop\")\n",
    "        gtimer.tic(\"PickTriangle_loop0\")\n",
    "        ab = b-a;\n",
    "        ao = -a;\n",
    "        ac = c-a;\n",
    "        abc = tf.linalg.cross(ab,ac)\n",
    "        abp = tf.linalg.cross(ab,abc)\n",
    "        acp = tf.linalg.cross(abc,ac)\n",
    "        gtimer.toc(\"PickTriangle_loop0\")\n",
    "        if K.sum(abp*ao) > 0:\n",
    "            c = b # Throw away the furthest point and grab a new one in the right direction\n",
    "            b = a\n",
    "            v = abp # cross(cross(ab,ao),ab);\n",
    "        elif K.sum(acp*ao) > 0:\n",
    "            b = a\n",
    "            v = acp; # cross(cross(ac,ao),ac);\n",
    "\n",
    "        else:\n",
    "            flag = 1;\n",
    "            break # We got a good one.\n",
    "        a = support(FX2, FX1,v)\n",
    "        gtimer.toc(\"PickTriangle_loop\")\n",
    "\n",
    "    return a, b, c, flag\n",
    "\n",
    "\n",
    "def pickTetrahedron(a,b,c,FX1,FX2,IterationAllowed):\n",
    "    gtimer.tic(\"pickTetrahedron_init\")\n",
    "    flag = 0\n",
    "    ab = b-a\n",
    "    ac = c-a\n",
    "\n",
    "    # Normal to face of triangle\n",
    "    gtimer.tic(\"pickTetrahedron_init0\")\n",
    "    abc = tf.linalg.cross(ab,ac)\n",
    "    gtimer.toc(\"pickTetrahedron_init0\")\n",
    "    ao = -a\n",
    "\n",
    "    gtimer.tic(\"pickTetrahedron_init1\")\n",
    "    if K.sum(abc* ao) > 0: # Above\n",
    "        d = c\n",
    "        c = b\n",
    "        b = a\n",
    "\n",
    "        v = abc\n",
    "        a = support(FX2,FX1,v) # Tetrahedron new point\n",
    "    else: # below\n",
    "        d = b\n",
    "        b = a\n",
    "        v = -abc\n",
    "        a = support(FX2,FX1,v) # Tetrahedron new point\n",
    "    gtimer.toc(\"pickTetrahedron_init1\")\n",
    "    gtimer.toc(\"pickTetrahedron_init\")\n",
    "\n",
    "    for i in range(IterationAllowed): #Allowing 10 tries to make a good tetrahedron.\n",
    "        gtimer.tic(\"pickTetrahedron_loop\")\n",
    "        gtimer.tic(\"pickTetrahedron_loop0\")\n",
    "        #Check the tetrahedron:\n",
    "        ab = b-a\n",
    "        ao = -a\n",
    "        ac = c-a\n",
    "        ad = d-a\n",
    "\n",
    "        #We KNOW that the origin is not under the base of the tetrahedron based on\n",
    "        #the way we picked a. So we need to check faces ABC, ABD, and ACD.\n",
    "\n",
    "        #Normal to face of triangle\n",
    "        abc = tf.linalg.cross(ab,ac)\n",
    "\n",
    "        if K.sum(abc*ao) > 0: #Above triangle ABC\n",
    "            pass\n",
    "            # No need to change anything, we'll just iterate again with this face as\n",
    "            # default.\n",
    "        else:\n",
    "            acd = tf.linalg.cross(ac,ad) # Normal to face of triangle\n",
    "\n",
    "            if K.sum(acd*ao) > 0 : # Above triangle ACD\n",
    "                # Make this the new base triangle.\n",
    "                b = c\n",
    "                c = d\n",
    "                ab = ac\n",
    "                ac = ad            \n",
    "                abc = acd\n",
    "            elif K.sum(acd*ao) < 0:\n",
    "                adb = tf.linalg.cross(ad,ab) #Normal to face of triangle\n",
    "\n",
    "                if K.sum(adb*ao) > 0: #Above triangle ADB\n",
    "                    # Make this the new base triangle.\n",
    "                    c = b\n",
    "                    b = d\n",
    "                    ac = ab\n",
    "                    ab = ad\n",
    "                    abc = adb\n",
    "                else:\n",
    "                    flag = 1\n",
    "                    break # It's inside the tetrahedron.\n",
    "        gtimer.toc(\"pickTetrahedron_loop0\")\n",
    "\n",
    "        #try again:\n",
    "        if K.sum(abc*ao) > 0: #Above\n",
    "            d = c\n",
    "            c = b\n",
    "            b = a    \n",
    "            v = abc\n",
    "            a = support(FX2,FX1,v) #Tetrahedron new point\n",
    "        else: #below\n",
    "            d = b;\n",
    "            b = a;\n",
    "            v = -abc;\n",
    "            a = support(FX2,FX1,v) #Tetrahedron new point\n",
    "        gtimer.toc(\"pickTetrahedron_loop\")\n",
    "    return a,b,c,d,flag"
   ]
  },
  {
   "cell_type": "markdown",
   "metadata": {},
   "source": [
    "# Test"
   ]
  },
  {
   "cell_type": "code",
   "execution_count": null,
   "metadata": {},
   "outputs": [],
   "source": [
    "gtimer = GlobalTimer()"
   ]
  },
  {
   "cell_type": "code",
   "execution_count": null,
   "metadata": {},
   "outputs": [],
   "source": [
    "s1coords = np.loadtxt(\"s1.csv\", delimiter=\",\")\n",
    "s2coords = np.loadtxt(\"s2.csv\", delimiter=\",\")"
   ]
  },
  {
   "cell_type": "code",
   "execution_count": null,
   "metadata": {},
   "outputs": [],
   "source": [
    "s1faces = np.loadtxt(\"s1face.csv\", delimiter=\",\",dtype='int')\n",
    "s2faces = np.loadtxt(\"s2face.csv\", delimiter=\",\",dtype='int')"
   ]
  },
  {
   "cell_type": "code",
   "execution_count": null,
   "metadata": {},
   "outputs": [],
   "source": [
    "iterations = 6"
   ]
  },
  {
   "cell_type": "code",
   "execution_count": null,
   "metadata": {},
   "outputs": [],
   "source": [
    "s1verts = get_facepoints(s1coords, s1faces)\n",
    "s2verts = get_facepoints(s2coords, s2faces)"
   ]
  },
  {
   "cell_type": "code",
   "execution_count": null,
   "metadata": {},
   "outputs": [],
   "source": [
    "S1Rot = [\n",
    "        [0.99847,0.016541,-0.052829,],\n",
    "        [-0.014912,0.99941,0.031073,],\n",
    "        [0.053311,-0.030238,0.99812,],\n",
    "        ]\n",
    "S2Rot = [\n",
    "        [0.99752,0.065339,-0.026294,],\n",
    "        [-0.063664,0.99616,0.060141,],\n",
    "        [0.030123,-0.058318,0.99784,],\n",
    "        ]"
   ]
  },
  {
   "cell_type": "code",
   "execution_count": null,
   "metadata": {},
   "outputs": [],
   "source": [
    "s1points = tf.matmul(s1verts[:,:,:], np.transpose(S1Rot))+3\n",
    "s2points = tf.matmul(s2verts[:,:,:], np.transpose(S2Rot))-3"
   ]
  },
  {
   "cell_type": "code",
   "execution_count": null,
   "metadata": {},
   "outputs": [],
   "source": [
    "FX1 = s1points\n",
    "FX2 = s2points"
   ]
  },
  {
   "cell_type": "code",
   "execution_count": null,
   "metadata": {},
   "outputs": [],
   "source": [
    "gtimer.reset()\n",
    "v = np.array([0.8000, 0.5000, 1.0000])\n",
    "t1 = time.time()\n",
    "for _ in range(1000):\n",
    "    a, b = pickLine(v, FX2, FX1)\n",
    "    a, b, c, flag = PickTriangle(a,b,FX2,FX1,iterations)\n",
    "    if flag == 1: # Only bother if we could find a viable triangle.\n",
    "        a,b,c,d,flag = pickTetrahedron(a,b,c,FX2,FX1,iterations)\n",
    "t2 = time.time()\n",
    "print(\"{} ms, while <1ms in matlab\".format(t2-t1))"
   ]
  },
  {
   "cell_type": "code",
   "execution_count": null,
   "metadata": {},
   "outputs": [],
   "source": [
    "v = np.array([0.8000, 0.5000, 1.0000])\n",
    "a,b = pickLine(v, FX2, FX1)\n",
    "a,b"
   ]
  },
  {
   "cell_type": "code",
   "execution_count": null,
   "metadata": {},
   "outputs": [],
   "source": [
    "a, b, c, flag = PickTriangle(a,b,FX2,FX1,iterations)\n",
    "a, b, c"
   ]
  },
  {
   "cell_type": "code",
   "execution_count": null,
   "metadata": {},
   "outputs": [],
   "source": [
    "pickTetrahedron(a,b,c,FX2,FX1,iterations)"
   ]
  },
  {
   "cell_type": "code",
   "execution_count": null,
   "metadata": {},
   "outputs": [],
   "source": []
  },
  {
   "cell_type": "code",
   "execution_count": null,
   "metadata": {},
   "outputs": [],
   "source": []
  },
  {
   "cell_type": "markdown",
   "metadata": {},
   "source": [
    "# Matthew Sheen numpy version"
   ]
  },
  {
   "cell_type": "code",
   "execution_count": null,
   "metadata": {},
   "outputs": [],
   "source": [
    "def getFarthestInDir(FX, v):\n",
    "    dotted = np.sum(FX*v,axis=-1)\n",
    "    rowIdxSet = np.argmax(dotted, axis=-1)\n",
    "    maxInCol = np.max(dotted, axis=-1)\n",
    "    colIdx = np.argmax(maxInCol, axis=-1)\n",
    "    rowIdx = rowIdxSet[colIdx]\n",
    "    point = FX[colIdx,rowIdx]\n",
    "    return point\n",
    "\n",
    "\n",
    "def get_facepoints(verts, faces): # (fc, vtx, ax)\n",
    "    return np.array([verts[s1f-1] for s1f in faces])\n",
    "\n",
    "def support(FX1, FX2, v):\n",
    "    point1 = getFarthestInDir(FX1, v)\n",
    "    point2 = getFarthestInDir(FX2, -v)\n",
    "    return point1 - point2\n",
    "\n",
    "def pickLine(v, FX1, FX2):\n",
    "    b= support(FX2, FX1, v)\n",
    "    a= support(FX2, FX1, -v)\n",
    "    return a, b\n",
    "\n",
    "def PickTriangle(a, b, FX1, FX2, IterationAllowed=6):\n",
    "    flag = 0\n",
    "\n",
    "    # First try:\n",
    "    ab = b-a\n",
    "    ao = -a\n",
    "    v = np.cross(np.cross(ab,ao),ab) # v is perpendicular to ab pointing in the general direction of the origin\n",
    "    c = b\n",
    "    b = a\n",
    "    a = support(FX2,FX1,v)\n",
    "    for i in range(IterationAllowed):\n",
    "        ab = b-a;\n",
    "        ao = -a;\n",
    "        ac = c-a;\n",
    "        abc = np.cross(ab,ac)\n",
    "        abp = np.cross(ab,abc)\n",
    "        acp = np.cross(abc,ac)\n",
    "        if np.sum(abp*ao) > 0:\n",
    "            c = b # Throw away the furthest point and grab a new one in the right direction\n",
    "            b = a\n",
    "            v = abp # cross(cross(ab,ao),ab);\n",
    "        elif np.sum(acp*ao) > 0:\n",
    "            b = a\n",
    "            v = acp; # cross(cross(ac,ao),ac);\n",
    "\n",
    "        else:\n",
    "            flag = 1;\n",
    "            break # We got a good one.\n",
    "        a = support(FX2, FX1,v)\n",
    "\n",
    "    return a, b, c, flag\n",
    "\n",
    "\n",
    "def pickTetrahedron(a,b,c,FX1,FX2,IterationAllowed):\n",
    "    flag = 0\n",
    "    ab = b-a\n",
    "    ac = c-a\n",
    "\n",
    "    # Normal to face of triangle\n",
    "    abc = np.cross(ab,ac)\n",
    "    ao = -a\n",
    "\n",
    "    if np.sum(abc* ao) > 0: # Above\n",
    "        d = c\n",
    "        c = b\n",
    "        b = a\n",
    "\n",
    "        v = abc\n",
    "        a = support(FX2,FX1,v) # Tetrahedron new point\n",
    "    else: # below\n",
    "        d = b\n",
    "        b = a\n",
    "        v = -abc\n",
    "        a = support(FX2,FX1,v) # Tetrahedron new point\n",
    "\n",
    "    for i in range(IterationAllowed): #Allowing 10 tries to make a good tetrahedron.\n",
    "        #Check the tetrahedron:\n",
    "        ab = b-a\n",
    "        ao = -a\n",
    "        ac = c-a\n",
    "        ad = d-a\n",
    "\n",
    "        #We KNOW that the origin is not under the base of the tetrahedron based on\n",
    "        #the way we picked a. So we need to check faces ABC, ABD, and ACD.\n",
    "\n",
    "        #Normal to face of triangle\n",
    "        abc = np.cross(ab,ac)\n",
    "\n",
    "        if np.sum(abc*ao) > 0: #Above triangle ABC\n",
    "            pass\n",
    "            # No need to change anything, we'll just iterate again with this face as\n",
    "            # default.\n",
    "        else:\n",
    "            acd = np.cross(ac,ad) # Normal to face of triangle\n",
    "\n",
    "            if np.sum(acd*ao) > 0 : # Above triangle ACD\n",
    "                # Make this the new base triangle.\n",
    "                b = c\n",
    "                c = d\n",
    "                ab = ac\n",
    "                ac = ad            \n",
    "                abc = acd\n",
    "            elif np.sum(acd*ao) < 0:\n",
    "                adb = np.cross(ad,ab) #Normal to face of triangle\n",
    "\n",
    "                if np.sum(adb*ao) > 0: #Above triangle ADB\n",
    "                    # Make this the new base triangle.\n",
    "                    c = b\n",
    "                    b = d\n",
    "                    ac = ab\n",
    "                    ab = ad\n",
    "                    abc = adb\n",
    "                else:\n",
    "                    flag = 1\n",
    "                    break # It's inside the tetrahedron.\n",
    "\n",
    "        #try again:\n",
    "        if np.sum(abc*ao) > 0: #Above\n",
    "            d = c\n",
    "            c = b\n",
    "            b = a    \n",
    "            v = abc\n",
    "            a = support(FX2,FX1,v) #Tetrahedron new point\n",
    "        else: #below\n",
    "            d = b;\n",
    "            b = a;\n",
    "            v = -abc;\n",
    "            a = support(FX2,FX1,v) #Tetrahedron new point\n",
    "    return a,b,c,d,flag"
   ]
  },
  {
   "cell_type": "markdown",
   "metadata": {},
   "source": [
    "# Test"
   ]
  },
  {
   "cell_type": "code",
   "execution_count": null,
   "metadata": {},
   "outputs": [],
   "source": [
    "s1coords = np.loadtxt(\"s1.csv\", delimiter=\",\")\n",
    "s2coords = np.loadtxt(\"s2.csv\", delimiter=\",\")"
   ]
  },
  {
   "cell_type": "code",
   "execution_count": null,
   "metadata": {},
   "outputs": [],
   "source": [
    "s1faces = np.loadtxt(\"s1face.csv\", delimiter=\",\",dtype='int')\n",
    "s2faces = np.loadtxt(\"s2face.csv\", delimiter=\",\",dtype='int')"
   ]
  },
  {
   "cell_type": "code",
   "execution_count": null,
   "metadata": {},
   "outputs": [],
   "source": [
    "iterations = 6"
   ]
  },
  {
   "cell_type": "code",
   "execution_count": null,
   "metadata": {},
   "outputs": [],
   "source": [
    "s1verts = get_facepoints(s1coords, s1faces)\n",
    "s2verts = get_facepoints(s2coords, s2faces)"
   ]
  },
  {
   "cell_type": "code",
   "execution_count": null,
   "metadata": {},
   "outputs": [],
   "source": [
    "S1Rot = [\n",
    "        [0.99847,0.016541,-0.052829,],\n",
    "        [-0.014912,0.99941,0.031073,],\n",
    "        [0.053311,-0.030238,0.99812,],\n",
    "        ]\n",
    "S2Rot = [\n",
    "        [0.99752,0.065339,-0.026294,],\n",
    "        [-0.063664,0.99616,0.060141,],\n",
    "        [0.030123,-0.058318,0.99784,],\n",
    "        ]"
   ]
  },
  {
   "cell_type": "code",
   "execution_count": null,
   "metadata": {},
   "outputs": [],
   "source": [
    "s1points = tf.matmul(s1verts[:,:,:], np.transpose(S1Rot))+3\n",
    "s2points = tf.matmul(s2verts[:,:,:], np.transpose(S2Rot))-3"
   ]
  },
  {
   "cell_type": "code",
   "execution_count": null,
   "metadata": {},
   "outputs": [],
   "source": [
    "FX1 = s1points\n",
    "FX2 = s2points"
   ]
  },
  {
   "cell_type": "code",
   "execution_count": null,
   "metadata": {},
   "outputs": [],
   "source": [
    "t1 = time.time()\n",
    "for _ in range(1000):\n",
    "    v = np.array([0.8000, 0.5000, 1.0000])\n",
    "    a, b = pickLine(v, FX2, FX1)\n",
    "    a, b, c, flag = PickTriangle(a,b,FX2,FX1,iterations)\n",
    "    if flag == 1: # Only bother if we could find a viable triangle.\n",
    "        a,b,c,d,flag = pickTetrahedron(a,b,c,FX2,FX1,iterations)\n",
    "t2 = time.time()\n",
    "print(\"{} ms, while <1ms in matlab\".format(t2-t1))"
   ]
  },
  {
   "cell_type": "code",
   "execution_count": null,
   "metadata": {},
   "outputs": [],
   "source": []
  },
  {
   "cell_type": "code",
   "execution_count": null,
   "metadata": {},
   "outputs": [],
   "source": []
  },
  {
   "cell_type": "code",
   "execution_count": null,
   "metadata": {},
   "outputs": [],
   "source": []
  },
  {
   "cell_type": "code",
   "execution_count": null,
   "metadata": {},
   "outputs": [],
   "source": []
  }
 ],
 "metadata": {
  "kernelspec": {
   "display_name": "Python 3",
   "language": "python",
   "name": "python3"
  },
  "language_info": {
   "codemirror_mode": {
    "name": "ipython",
    "version": 3
   },
   "file_extension": ".py",
   "mimetype": "text/x-python",
   "name": "python",
   "nbconvert_exporter": "python",
   "pygments_lexer": "ipython3",
   "version": "3.6.9"
  }
 },
 "nbformat": 4,
 "nbformat_minor": 2
}
