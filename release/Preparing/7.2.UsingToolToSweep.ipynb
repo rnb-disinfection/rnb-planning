{
 "cells": [
  {
   "cell_type": "code",
   "execution_count": 1,
   "metadata": {},
   "outputs": [],
   "source": [
    "import os\n",
    "os.chdir(os.path.join(os.environ[\"RNB_PLANNING_DIR\"], 'src'))"
   ]
  },
  {
   "cell_type": "code",
   "execution_count": null,
   "metadata": {},
   "outputs": [],
   "source": []
  },
  {
   "cell_type": "markdown",
   "metadata": {},
   "source": [
    "## init combined robot config"
   ]
  },
  {
   "cell_type": "code",
   "execution_count": 2,
   "metadata": {},
   "outputs": [
    {
     "name": "stdout",
     "output_type": "stream",
     "text": [
      "connection command:\n",
      "indy0: False\n"
     ]
    }
   ],
   "source": [
    "from pkg.controller.combined_robot import *\n",
    "from pkg.project_config import *\n",
    "\n",
    "crob = CombinedRobot(robots_on_scene=[\n",
    "    RobotConfig(0, RobotType.indy7, None,\n",
    "                INDY_IP)]\n",
    "              , connection_list=[False])"
   ]
  },
  {
   "cell_type": "code",
   "execution_count": null,
   "metadata": {},
   "outputs": [],
   "source": []
  },
  {
   "cell_type": "code",
   "execution_count": 3,
   "metadata": {},
   "outputs": [],
   "source": [
    "from pkg.geometry.builder.scene_builder import SceneBuilder\n",
    "s_builder = SceneBuilder(None)\n",
    "# # deprecated: s_builder.reset_reference_coord(ref_name=\"floor\")"
   ]
  },
  {
   "cell_type": "code",
   "execution_count": null,
   "metadata": {},
   "outputs": [],
   "source": []
  },
  {
   "cell_type": "markdown",
   "metadata": {},
   "source": [
    "## get ghnd with detected robot config"
   ]
  },
  {
   "cell_type": "code",
   "execution_count": 4,
   "metadata": {
    "scrolled": true
   },
   "outputs": [
    {
     "name": "stderr",
     "output_type": "stream",
     "text": [
      "Unknown tag \"hardwareInterface\" in /robot[@name='custom_robots']/transmission[@name='indy0_tran0']/actuator[@name='indy0_motor0']\n",
      "Unknown tag \"hardwareInterface\" in /robot[@name='custom_robots']/transmission[@name='indy0_tran1']/actuator[@name='indy0_motor1']\n",
      "Unknown tag \"hardwareInterface\" in /robot[@name='custom_robots']/transmission[@name='indy0_tran2']/actuator[@name='indy0_motor2']\n",
      "Unknown tag \"hardwareInterface\" in /robot[@name='custom_robots']/transmission[@name='indy0_tran3']/actuator[@name='indy0_motor3']\n",
      "Unknown tag \"hardwareInterface\" in /robot[@name='custom_robots']/transmission[@name='indy0_tran4']/actuator[@name='indy0_motor4']\n",
      "Unknown tag \"hardwareInterface\" in /robot[@name='custom_robots']/transmission[@name='indy0_tran5']/actuator[@name='indy0_motor5']\n"
     ]
    },
    {
     "name": "stdout",
     "output_type": "stream",
     "text": [
      "Please create a subscriber to the marker\n",
      "publication OK\n",
      "published: [0, 0, 0, 0, 0, 0]\n"
     ]
    }
   ],
   "source": [
    "# xyz_rpy_robots = s_builder.detect_items(level_mask=[DetectionLevel.ROBOT])\n",
    "xyz_rpy_robots = {\"indy0\": ((0,0,0), (0,0,-np.pi/2))}\n",
    "crob.update_robot_pos_dict(xyz_rpy_robots=xyz_rpy_robots)\n",
    "gscene = s_builder.create_gscene(crob)"
   ]
  },
  {
   "cell_type": "code",
   "execution_count": null,
   "metadata": {},
   "outputs": [],
   "source": []
  },
  {
   "cell_type": "markdown",
   "metadata": {},
   "source": [
    "## add environment"
   ]
  },
  {
   "cell_type": "code",
   "execution_count": 5,
   "metadata": {},
   "outputs": [
    {
     "name": "stdout",
     "output_type": "stream",
     "text": [
      "Please create a subscriber to the marker\n"
     ]
    }
   ],
   "source": [
    "from pkg.geometry.geometry import *\n",
    "\n",
    "floor = gscene.create_safe(GEOTYPE.BOX, \"floor\", \"base_link\", (3,3,0.01), (0,0,0), \n",
    "                           rpy=(0,0,0), color=(0.8,0.8,0.8,0.5), display=True, fixed=True, collision=True)\n",
    "wall = gscene.create_safe(GEOTYPE.BOX, \"wall\", \"base_link\", (3,3,0.01), (0,0.2,0), \n",
    "                           rpy=(np.pi/2,0,0), color=(0.8,0.8,0.8,0.5), display=True, fixed=True, collision=True)\n",
    "wp1 = gscene.create_safe(GEOTYPE.BOX, \"wp1\", \"base_link\", (0.1,0.1,0.01), (0.2,-0.5,0.),rpy=(0,0,np.pi/2), \n",
    "                         color=(0.8,0.2,0.2,1), display=True, fixed=True, collision=False)\n",
    "wp2 = gscene.create_safe(GEOTYPE.BOX, \"wp2\", \"base_link\", (0.1,0.1,0.01), (-0.2,-0.5,0), rpy=(0,0,np.pi/2), \n",
    "                         color=(0.8,0.2,0.2,1), display=True, fixed=True, collision=False)\n",
    "track = gscene.create_safe(GEOTYPE.BOX, \"track\", \"base_link\", (0.1,0.5,0.01), (0,-0.5,0), rpy=(0,0,np.pi/2), \n",
    "                           color=(1,0.7,0.7,0.5), display=True, fixed=True, collision=False)\n",
    "goal = gscene.create_safe(GEOTYPE.BOX, \"goal\", \"base_link\", (0.1,0.1,0.01), (-0.4,-0.3,0), \n",
    "                          rpy=(0,0,0), color=(0.8,0.8,0.2,1), display=True, fixed=True, collision=False)"
   ]
  },
  {
   "cell_type": "code",
   "execution_count": 6,
   "metadata": {},
   "outputs": [],
   "source": [
    "gtems = s_builder.add_robot_geometries(color=(0,1,0,0.5), display=True, collision=True, exclude_link=[\"panda1_link7\"])"
   ]
  },
  {
   "cell_type": "code",
   "execution_count": 7,
   "metadata": {},
   "outputs": [],
   "source": [
    "from pkg.utils.code_scraps import add_indy_gripper_asm2\n",
    "add_indy_gripper_asm2(gscene, \"indy0\")"
   ]
  },
  {
   "cell_type": "markdown",
   "metadata": {},
   "source": [
    "## add brush"
   ]
  },
  {
   "cell_type": "code",
   "execution_count": 8,
   "metadata": {},
   "outputs": [
    {
     "data": {
      "text/plain": [
       "<pkg.geometry.geometry.GeometryItem at 0x7fdc958d3890>"
      ]
     },
     "execution_count": 8,
     "metadata": {},
     "output_type": "execute_result"
    }
   ],
   "source": [
    "gscene.create_safe(gtype=GEOTYPE.BOX, name=\"brush_body\", link_name=\"base_link\", dims=(0.2,0.07,0.02), \n",
    "                   center=(0,-0.5,0.045), rpy=(0,0,np.pi/2), color=(0.7,0.7,0.3,1), display=True, collision=True, fixed=False)\n",
    "gscene.create_safe(gtype=GEOTYPE.BOX, name=\"brush_handle\", link_name=\"base_link\", dims=(0.2,0.03,0.05), center=(0,0,0.035), rpy=(0,0,0), \n",
    "                   color=(0.7,0.7,0.3,1), display=True, collision=True, fixed=False, parent=\"brush_body\")\n",
    "gscene.create_safe(gtype=GEOTYPE.BOX, name=\"brush_face\", link_name=\"base_link\", dims=(0.19,0.06,0.03), center=(0,0,-0.025), rpy=(0,0,0), \n",
    "                   color=(0.8,0.8,0.8,1), display=True, collision=False, fixed=False, parent=\"brush_body\")"
   ]
  },
  {
   "cell_type": "code",
   "execution_count": null,
   "metadata": {},
   "outputs": [],
   "source": []
  },
  {
   "cell_type": "markdown",
   "metadata": {},
   "source": [
    "## init planning scene"
   ]
  },
  {
   "cell_type": "code",
   "execution_count": 9,
   "metadata": {},
   "outputs": [],
   "source": [
    "from pkg.planning.scene import PlanningScene\n",
    "pscene = PlanningScene(gscene, combined_robot=crob)"
   ]
  },
  {
   "cell_type": "code",
   "execution_count": null,
   "metadata": {},
   "outputs": [],
   "source": []
  },
  {
   "cell_type": "markdown",
   "metadata": {},
   "source": [
    "## Register binders"
   ]
  },
  {
   "cell_type": "code",
   "execution_count": 10,
   "metadata": {},
   "outputs": [],
   "source": [
    "from pkg.planning.constraint.constraint_actor import Gripper2Tool, PlacePlane, SweepTool"
   ]
  },
  {
   "cell_type": "code",
   "execution_count": 11,
   "metadata": {},
   "outputs": [
    {
     "data": {
      "text/plain": [
       "<pkg.planning.constraint.constraint_actor.SweepTool at 0x7fdc958d3dd0>"
      ]
     },
     "execution_count": 11,
     "metadata": {},
     "output_type": "execute_result"
    }
   ],
   "source": [
    "gscene.create_safe(gtype=GEOTYPE.SPHERE, name=\"grip0\", link_name=\"indy0_tcp\",\n",
    "                   dims=(0.01,)*3, center=(0,0,0.14), rpy=(-np.pi/2,0,0),\n",
    "                   color=(1,0,0,1), display=True, collision=False, fixed=True)\n",
    "\n",
    "pscene.create_binder(bname=\"grip0\", gname=\"grip0\", _type=Gripper2Tool, point=(0,0,0), rpy=(0,0,0))\n",
    "pscene.create_binder(bname=\"floor\", gname=\"floor\", _type=PlacePlane)\n",
    "pscene.create_binder(bname=\"goal_bd\", gname=\"goal\", _type=PlacePlane, point=(0,0,0.005), rpy=(0,0,0))\n",
    "pscene.create_binder(bname=\"brush_face\", gname=\"brush_face\", _type=SweepTool, point=(0,0,-0.015), rpy=(0,0,0))"
   ]
  },
  {
   "cell_type": "code",
   "execution_count": null,
   "metadata": {},
   "outputs": [],
   "source": []
  },
  {
   "cell_type": "markdown",
   "metadata": {},
   "source": [
    "## add objects"
   ]
  },
  {
   "cell_type": "code",
   "execution_count": 12,
   "metadata": {},
   "outputs": [],
   "source": [
    "from pkg.planning.constraint.constraint_subject import CustomObject, Grasp2Point, PlacePoint, SweepPoint, SweepTask"
   ]
  },
  {
   "cell_type": "code",
   "execution_count": 13,
   "metadata": {},
   "outputs": [],
   "source": [
    "brush_handle = gscene.NAME_DICT[\"brush_handle\"]\n",
    "brush_face = gscene.NAME_DICT[\"brush_face\"]\n",
    "brush = pscene.create_subject(oname=\"brush\", gname=\"brush_body\", _type=CustomObject, \n",
    "                             action_points_dict = {\"handle\": Grasp2Point(\"handle\", brush_handle, [0,0,0], [np.pi/2,0,0]),\n",
    "                                                   \"face\": PlacePoint(\"face\", brush_face, [0,0,-0.015], [0,0,0])})"
   ]
  },
  {
   "cell_type": "code",
   "execution_count": 14,
   "metadata": {},
   "outputs": [],
   "source": [
    "sweep = pscene.create_subject(oname=\"sweep\", gname=\"floor\", _type=SweepTask, \n",
    "                             action_points_dict = {\"wp1\": SweepPoint(\"wp1\", wp1, [0,0,0.005], [0,0,0]),\n",
    "                                                   \"wp2\": SweepPoint(\"wp2\", wp2, [0,0,0.005], [0,0,0])})"
   ]
  },
  {
   "cell_type": "code",
   "execution_count": null,
   "metadata": {},
   "outputs": [],
   "source": []
  },
  {
   "cell_type": "markdown",
   "metadata": {},
   "source": [
    "### planning pipeline"
   ]
  },
  {
   "cell_type": "code",
   "execution_count": 15,
   "metadata": {
    "scrolled": false
   },
   "outputs": [],
   "source": [
    "from pkg.planning.motion.moveit.moveit_planner import MoveitPlanner\n",
    "mplan = MoveitPlanner(pscene)\n",
    "mplan.update_gscene()\n",
    "from pkg.planning.task.rrt import TaskRRT\n",
    "tplan = TaskRRT(pscene)\n",
    "tplan.prepare()\n",
    "from pkg.planning.pipeline import PlanningPipeline\n",
    "ppline = PlanningPipeline(pscene)\n",
    "ppline.set_motion_planner(mplan)\n",
    "ppline.set_task_planner(tplan)"
   ]
  },
  {
   "cell_type": "code",
   "execution_count": null,
   "metadata": {},
   "outputs": [],
   "source": []
  },
  {
   "cell_type": "markdown",
   "metadata": {},
   "source": [
    "## ui"
   ]
  },
  {
   "cell_type": "code",
   "execution_count": 16,
   "metadata": {},
   "outputs": [
    {
     "name": "stdout",
     "output_type": "stream",
     "text": [
      "Dash is running on http://0.0.0.0:8050/\n",
      "\n",
      " * Serving Flask app \"pkg.ui.dash_launcher\" (lazy loading)\n",
      " * Environment: production\n",
      "   WARNING: This is a development server. Do not use it in a production deployment.\n",
      "   Use a production WSGI server instead.\n",
      " * Debug mode: off\n"
     ]
    }
   ],
   "source": [
    "from pkg.ui.ui_broker import *\n",
    "\n",
    "# start UI\n",
    "ui_broker = UIBroker.instance()\n",
    "ui_broker.initialize(ppline, s_builder)\n",
    "ui_broker.start_server()\n",
    "\n",
    "ui_broker.set_tables()"
   ]
  },
  {
   "cell_type": "markdown",
   "metadata": {},
   "source": [
    "```\n",
    "open web ui on <your ip>:8050\n",
    "click geometry items / Handles / Binders to highlight geometry on RVIZ\n",
    "other functions may be buggy.. please report\n",
    "```"
   ]
  },
  {
   "cell_type": "code",
   "execution_count": null,
   "metadata": {},
   "outputs": [],
   "source": []
  },
  {
   "cell_type": "markdown",
   "metadata": {},
   "source": [
    "## Test plan"
   ]
  },
  {
   "cell_type": "code",
   "execution_count": 17,
   "metadata": {},
   "outputs": [],
   "source": [
    "from pkg.planning.constraint.constraint_common \\\n",
    "            import sample_redundancy, combine_redundancy\n",
    "\n",
    "initial_state = pscene.initialize_state(crob.home_pose)"
   ]
  },
  {
   "cell_type": "code",
   "execution_count": 18,
   "metadata": {
    "scrolled": true
   },
   "outputs": [
    {
     "name": "stdout",
     "output_type": "stream",
     "text": [
      "try: 0 - ('floor', 0)->('floor', 1)\n",
      "result: 0 - ('floor', 0)->('floor', 1) = fail\n",
      "try: 0 - ('floor', 0)->('grip0', 0)\n",
      "try transition motion\n",
      "transition motion tried: False\n",
      "result: 0 - ('floor', 0)->('grip0', 0) = fail\n",
      "try: 0 - ('floor', 0)->('grip0', 0)\n",
      "try transition motion\n",
      "transition motion tried: False\n",
      "result: 0 - ('floor', 0)->('grip0', 0) = fail\n",
      "try: 0 - ('floor', 0)->('grip0', 0)\n",
      "try transition motion\n",
      "transition motion tried: False\n",
      "result: 0 - ('floor', 0)->('grip0', 0) = fail\n",
      "try: 0 - ('floor', 0)->('grip0', 0)\n",
      "try transition motion\n",
      "transition motion tried: False\n",
      "result: 0 - ('floor', 0)->('grip0', 0) = fail\n",
      "try: 0 - ('floor', 0)->('grip0', 0)\n",
      "try transition motion\n",
      "transition motion tried: False\n",
      "result: 0 - ('floor', 0)->('grip0', 0) = fail\n",
      "try: 0 - ('floor', 0)->('grip0', 0)\n",
      "try transition motion\n",
      "transition motion tried: False\n",
      "result: 0 - ('floor', 0)->('grip0', 0) = fail\n",
      "try: 0 - ('floor', 0)->('grip0', 0)\n",
      "try transition motion\n",
      "transition motion tried: False\n",
      "result: 0 - ('floor', 0)->('grip0', 0) = fail\n",
      "try: 0 - ('floor', 0)->('grip0', 0)\n",
      "try transition motion\n",
      "transition motion tried: False\n",
      "result: 0 - ('floor', 0)->('grip0', 0) = fail\n",
      "try: 0 - ('floor', 0)->('floor', 1)\n",
      "result: 0 - ('floor', 0)->('floor', 1) = fail\n",
      "try: 0 - ('floor', 0)->('grip0', 0)\n",
      "try transition motion\n",
      "transition motion tried: True\n",
      "result: 0 - ('floor', 0)->('grip0', 0) = success\n",
      "branching: 0->1 (8.47/300.0 s, steps/err: 44(223.122835159 ms)/0.00114800118932)\n",
      "======================================================================================================================================================\n",
      "try: 1 - ('grip0', 0)->('floor', 0)\n",
      "try transition motion\n",
      "transition motion tried: False\n",
      "result: 1 - ('grip0', 0)->('floor', 0) = fail\n",
      "try: 1 - ('grip0', 0)->('floor', 0)\n",
      "try transition motion\n",
      "transition motion tried: False\n",
      "result: 1 - ('grip0', 0)->('floor', 0) = fail\n",
      "try: 0 - ('floor', 0)->('grip0', 0)\n",
      "try transition motion\n",
      "transition motion tried: True\n",
      "result: 0 - ('floor', 0)->('grip0', 0) = success\n",
      "branching: 0->2 (10.53/300.0 s, steps/err: 10(20.9310054779 ms)/0.00177596976018)\n",
      "======================================================================================================================================================\n",
      "try: 1 - ('grip0', 0)->('grip0', 1)\n",
      "try transition motion\n",
      "transition motion tried: True\n",
      "result: 1 - ('grip0', 0)->('grip0', 1) = success\n",
      "branching: 1->3 (10.55/300.0 s, steps/err: 11(16.9060230255 ms)/0.00193057512524)\n",
      "======================================================================================================================================================\n",
      "try: 3 - ('grip0', 1)->('grip0', 2)\n",
      "try constrained motion\n",
      "constrained motion tried: False\n",
      "result: 3 - ('grip0', 1)->('grip0', 2) = fail\n",
      "try: 0 - ('floor', 0)->('grip0', 0)\n",
      "try transition motion\n",
      "transition motion tried: False\n",
      "result: 0 - ('floor', 0)->('grip0', 0) = fail\n",
      "try: 3 - ('grip0', 1)->('goal', 1)\n",
      "try transition motion\n",
      "transition motion tried: True\n",
      "=============== try reaching goal from ('goal', 1) =================\n",
      "result: 3 - ('grip0', 1)->('goal', 1) = success\n",
      "branching: 3->4 (12.63/300.0 s, steps/err: 37(29.9909114838 ms)/0.00190755505382)\n",
      "======================================================================================================================================================\n",
      "try: 4 - ('goal', 1)->('goal', 2)\n",
      "result: 4 - ('goal', 1)->('goal', 2) = fail\n",
      "try: 4 - ('goal', 1)->('grip0', 1)\n",
      "try transition motion\n",
      "transition motion tried: False\n",
      "result: 4 - ('goal', 1)->('grip0', 1) = fail\n",
      "try: 1 - ('grip0', 0)->('goal', 0)\n",
      "try transition motion\n",
      "transition motion tried: True\n",
      "result: 1 - ('grip0', 0)->('goal', 0) = success\n",
      "branching: 1->5 (13.69/300.0 s, steps/err: 48(44.9039936066 ms)/0.00145159125309)\n",
      "======================================================================================================================================================\n",
      "try: 5 - ('goal', 0)->('goal', 1)\n",
      "result: 5 - ('goal', 0)->('goal', 1) = fail\n",
      "try: 5 - ('goal', 0)->('goal', 1)\n",
      "result: 5 - ('goal', 0)->('goal', 1) = fail\n",
      "try: 4 - ('goal', 1)->('goal', 2)\n",
      "result: 4 - ('goal', 1)->('goal', 2) = fail\n",
      "try: 3 - ('grip0', 1)->('floor', 1)\n",
      "try transition motion\n",
      "transition motion tried: False\n",
      "result: 3 - ('grip0', 1)->('floor', 1) = fail\n",
      "try: 2 - ('grip0', 0)->('goal', 0)\n",
      "try transition motion\n",
      "transition motion tried: True\n",
      "result: 2 - ('grip0', 0)->('goal', 0) = success\n",
      "branching: 2->6 (14.75/300.0 s, steps/err: 38(36.5951061249 ms)/0.00178644411534)\n",
      "======================================================================================================================================================\n",
      "try: 6 - ('goal', 0)->('goal', 1)\n",
      "result: 6 - ('goal', 0)->('goal', 1) = fail\n",
      "try: 4 - ('goal', 1)->('goal', 2)\n",
      "result: 4 - ('goal', 1)->('goal', 2) = fail\n",
      "try: 1 - ('grip0', 0)->('grip0', 1)\n",
      "try transition motion\n",
      "transition motion tried: True\n",
      "result: 1 - ('grip0', 0)->('grip0', 1) = success\n",
      "branching: 1->7 (14.79/300.0 s, steps/err: 35(36.1058712006 ms)/0.00149418125269)\n",
      "======================================================================================================================================================\n",
      "try: 6 - ('goal', 0)->('goal', 1)\n",
      "result: 6 - ('goal', 0)->('goal', 1) = fail\n",
      "try: 4 - ('goal', 1)->('goal', 2)\n",
      "result: 4 - ('goal', 1)->('goal', 2) = fail\n",
      "try: 4 - ('goal', 1)->('goal', 2)\n",
      "result: 4 - ('goal', 1)->('goal', 2) = fail\n",
      "try: 0 - ('floor', 0)->('grip0', 0)\n",
      "try transition motion\n",
      "transition motion tried: True\n",
      "result: 0 - ('floor', 0)->('grip0', 0) = success\n",
      "branching: 0->8 (14.82/300.0 s, steps/err: 16(30.6599140167 ms)/0.00161194396724)\n",
      "======================================================================================================================================================\n",
      "try: 3 - ('grip0', 1)->('grip0', 2)\n",
      "try constrained motion\n",
      "constrained motion tried: False\n",
      "result: 3 - ('grip0', 1)->('grip0', 2) = fail\n",
      "try: 1 - ('grip0', 0)->('floor', 0)\n",
      "try transition motion\n",
      "transition motion tried: False\n",
      "result: 1 - ('grip0', 0)->('floor', 0) = fail\n",
      "try: 0 - ('floor', 0)->('grip0', 0)\n",
      "try transition motion\n",
      "transition motion tried: True\n",
      "result: 0 - ('floor', 0)->('grip0', 0) = success\n",
      "branching: 0->9 (16.87/300.0 s, steps/err: 13(21.4250087738 ms)/0.00128037974359)\n",
      "======================================================================================================================================================\n",
      "try: 9 - ('grip0', 0)->('goal', 0)\n",
      "try transition motion\n",
      "transition motion tried: True\n",
      "result: 9 - ('grip0', 0)->('goal', 0) = success\n",
      "branching: 9->10 (16.9/300.0 s, steps/err: 30(31.1322212219 ms)/0.00204105029616)\n",
      "======================================================================================================================================================\n",
      "try: 10 - ('goal', 0)->('goal', 1)\n",
      "result: 10 - ('goal', 0)->('goal', 1) = fail\n",
      "try: 4 - ('goal', 1)->('grip0', 1)\n",
      "try transition motion\n",
      "transition motion tried: False\n",
      "result: 4 - ('goal', 1)->('grip0', 1) = fail\n",
      "try: 3 - ('grip0', 1)->('grip0', 2)\n",
      "try constrained motion\n",
      "constrained motion tried: True\n",
      "=============== try reaching goal from ('grip0', 2) =================\n",
      "result: 3 - ('grip0', 1)->('grip0', 2) = success\n",
      "branching: 3->11 (18.19/300.0 s, steps/err: 298(263.934135437 ms)/0.000866736797464)\n",
      "======================================================================================================================================================\n",
      "try: 11 - ('grip0', 2)->('goal', 2)\n",
      "try transition motion\n",
      "transition motion tried: True\n",
      "result: 11 - ('grip0', 2)->('goal', 2) = success\n",
      "branching: 11->12 (18.23/300.0 s, steps/err: 28(35.2129936218 ms)/0.00214459379327)\n",
      "======================================================================================================================================================\n",
      "++ adding return motion to acquired answer ++\n",
      "try joint motion\n",
      "joint motion tried: True\n",
      "=========================================================================================================\n",
      "======================= terminated 0: first answer acquired ===============================\n",
      "=========================================================================================================\n"
     ]
    }
   ],
   "source": [
    "# goal_nodes = [(\"goal\",)]\n",
    "goal_nodes = [(\"goal\", 2)]\n",
    "ppline.search(initial_state, goal_nodes, verbose=True, display=False, dt_vis=0.01, timeout_loop=300, multiprocess=False)\n",
    "schedules = ppline.tplan.find_schedules()\n",
    "schedules_sorted = ppline.tplan.sort_schedule(schedules)\n",
    "snode_schedule = ppline.tplan.idxSchedule2SnodeScedule(schedules_sorted[0])"
   ]
  },
  {
   "cell_type": "code",
   "execution_count": null,
   "metadata": {},
   "outputs": [],
   "source": []
  },
  {
   "cell_type": "markdown",
   "metadata": {},
   "source": [
    "## play searched plan"
   ]
  },
  {
   "cell_type": "code",
   "execution_count": 19,
   "metadata": {
    "scrolled": false
   },
   "outputs": [],
   "source": [
    "ppline.play_schedule(snode_schedule, period=0.01)"
   ]
  },
  {
   "cell_type": "code",
   "execution_count": null,
   "metadata": {},
   "outputs": [],
   "source": []
  },
  {
   "cell_type": "code",
   "execution_count": null,
   "metadata": {},
   "outputs": [],
   "source": []
  }
 ],
 "metadata": {
  "kernelspec": {
   "display_name": "Python 2",
   "language": "python",
   "name": "python2"
  },
  "language_info": {
   "codemirror_mode": {
    "name": "ipython",
    "version": 2
   },
   "file_extension": ".py",
   "mimetype": "text/x-python",
   "name": "python",
   "nbconvert_exporter": "python",
   "pygments_lexer": "ipython2",
   "version": "2.7.17"
  }
 },
 "nbformat": 4,
 "nbformat_minor": 2
}
