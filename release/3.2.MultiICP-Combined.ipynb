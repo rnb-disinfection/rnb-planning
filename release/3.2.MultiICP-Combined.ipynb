{
 "cells": [
  {
   "cell_type": "markdown",
   "metadata": {},
   "source": [
    "## Check List 3.2 - Combined Detector (ArucoStero, MultiICP)\n",
    "* **3.2.1 Combined Detector**  \n",
    "  - initialize, set_config, get_config, get_image, detect, detect_and_register, disconnect   \n",
    "  \n",
    "  \n",
    "* **TBD**\n",
    "  - Auto initialization to estimate initial guess for ICP is not perfect\n",
    "  - Robust and reliable initial guess for gloabl registration will be done\n",
    "  - Multiple instance for the same class will be done"
   ]
  },
  {
   "cell_type": "markdown",
   "metadata": {},
   "source": [
    "## Set running directory to Project source"
   ]
  },
  {
   "cell_type": "code",
   "execution_count": 1,
   "metadata": {},
   "outputs": [],
   "source": [
    "import os\n",
    "import sys\n",
    "import numpy as np\n",
    "import cv2\n",
    "import copy\n",
    "import matplotlib.pyplot as plt\n",
    "os.chdir(os.path.join(os.environ[\"RNB_PLANNING_DIR\"], 'src'))"
   ]
  },
  {
   "cell_type": "code",
   "execution_count": 2,
   "metadata": {},
   "outputs": [],
   "source": [
    "from pkg.global_config import RNB_PLANNING_DIR\n",
    "from pkg.utils.utils import *    \n",
    "from pkg.utils.rotation_utils import *\n",
    "from pkg.controller.combined_robot import *\n",
    "from pkg.geometry.builder.scene_builder import SceneBuilder\n",
    "from pkg.geometry.geometry import GeometryItem\n",
    "from pkg.geometry.geotype import GEOTYPE\n",
    "from pkg.detector.detector_interface import DetectionLevel\n",
    "from pkg.detector.multiICP.config import *"
   ]
  },
  {
   "cell_type": "markdown",
   "metadata": {},
   "source": [
    "## 3.2.1 Combined Detector"
   ]
  },
  {
   "cell_type": "code",
   "execution_count": 10,
   "metadata": {},
   "outputs": [],
   "source": [
    "from pkg.detector.combined_detector import CombinedDetector\n",
    "from pkg.detector.multiICP.multiICP import MultiICP, MultiICP_Obj\n",
    "from pkg.detector.aruco.stereo import ArucoStereo\n",
    "from pkg.detector.aruco.marker_config import get_aruco_map\n",
    "from pkg.detector.camera.kinect import Kinect\n",
    "from pkg.detector.camera.realsense import RealSense\n",
    "from pkg.detector.detector_interface import DetectionLevel"
   ]
  },
  {
   "cell_type": "markdown",
   "metadata": {},
   "source": [
    "##### create cameras"
   ]
  },
  {
   "cell_type": "code",
   "execution_count": 5,
   "metadata": {},
   "outputs": [],
   "source": [
    "kn = Kinect()\n",
    "rs = RealSense()"
   ]
  },
  {
   "cell_type": "markdown",
   "metadata": {},
   "source": [
    "##### create ArucoStereo instance"
   ]
  },
  {
   "cell_type": "code",
   "execution_count": 7,
   "metadata": {},
   "outputs": [],
   "source": [
    "stereo = ArucoStereo(aruco_map=get_aruco_map(), \n",
    "                     camera_list=[kn, rs])\n",
    "stereo.initialize()\n",
    "\n",
    "time.sleep(1) # Let the camera have some time to get stable\n",
    "stereo.calibrate()"
   ]
  },
  {
   "cell_type": "markdown",
   "metadata": {},
   "source": [
    "##### create multiICP instance"
   ]
  },
  {
   "cell_type": "code",
   "execution_count": 8,
   "metadata": {},
   "outputs": [],
   "source": [
    "micp = MultiICP(rs)\n",
    "micp.initialize()"
   ]
  },
  {
   "cell_type": "code",
   "execution_count": 11,
   "metadata": {},
   "outputs": [],
   "source": [
    "detector = CombinedDetector([stereo, micp])"
   ]
  },
  {
   "cell_type": "code",
   "execution_count": null,
   "metadata": {},
   "outputs": [],
   "source": []
  },
  {
   "cell_type": "markdown",
   "metadata": {},
   "source": [
    "##### create SceneBuilder instance"
   ]
  },
  {
   "cell_type": "code",
   "execution_count": 12,
   "metadata": {},
   "outputs": [],
   "source": [
    "scene_builder = SceneBuilder.instance(detector=detector)"
   ]
  },
  {
   "cell_type": "markdown",
   "metadata": {},
   "source": [
    "##### set reference coordinate and viewpoint (by StereoAruco)"
   ]
  },
  {
   "cell_type": "code",
   "execution_count": null,
   "metadata": {},
   "outputs": [],
   "source": [
    "# deprecated: scene_builder.reset_reference_coord(ref_name=\"floor\")\n",
    "T_rs = np.matmul(scene_builder.ref_coord_inv, stereo.T_c12)\n",
    "viewpoint = gscene.create_safe(gtype=GEOTYPE.ARROW, name=\"viewpoint\", link_name=\"base_link\",\n",
    "                               dims=(0.2, 0.04, 0.04), center=T_rs[:3,3], rpy=Rot2rpy(T_rs[:3,:3]),\n",
    "                               color=(1, 0, 0, 0.3), display=True, fixed=True, collision=False)"
   ]
  },
  {
   "cell_type": "markdown",
   "metadata": {},
   "source": [
    "##### create geometry scene"
   ]
  },
  {
   "cell_type": "code",
   "execution_count": null,
   "metadata": {},
   "outputs": [],
   "source": [
    "xyz_rpy_robots = scene_builder.detect_items(level_mask=[DetectionLevel.ROBOT])\n",
    "crob.update_robot_pos_dict(xyz_rpy_robots=xyz_rpy_robots)\n",
    "gscene = scene_builder.create_gscene(crob)\n",
    "gscene.show_pose(crob.home_pose)"
   ]
  },
  {
   "cell_type": "code",
   "execution_count": null,
   "metadata": {},
   "outputs": [],
   "source": []
  },
  {
   "cell_type": "markdown",
   "metadata": {},
   "source": [
    "### Set MultiICP configs\n",
    "* You have to make micp, hrule and grule for each object you want to detect\n",
    "\n",
    "* hrule means heuristic rule for special object which cannot be detected thorugh mask rcnn using COCO dataset\n",
    "\n",
    "* grule means initial guess(R,t) for ICP\n",
    "\n",
    "* Run shraed detector to detect object in color image\n",
    "\n",
    "##### Run shared detector for object detection on bash\n",
    "```bash\n",
    "python3 /home/jhkim/Projects/rnb-planning/src/pkg/detector/multiICP/shared_detector.py --dims='(720,1280,3)'\n",
    "```\n",
    "\n",
    "#### Clearing shared detector channels if zombie memory remains\n",
    "```python\n",
    "from pkg.utils.shared_function import clear_channels_on, sa\n",
    "clear_channels_on(\"SharedDetector\")\n",
    "```"
   ]
  },
  {
   "cell_type": "code",
   "execution_count": 8,
   "metadata": {},
   "outputs": [],
   "source": [
    "from pkg.utils.shared_function import clear_channels_on, sa\n",
    "clear_channels_on(\"SharedDetector\")\n",
    "\n",
    "from pkg.detector.multiICP.shared_detector import SharedDetectorGen\n",
    "sd = SharedDetectorGen(micp.img_dim+(3,))()\n",
    "sd.init()"
   ]
  },
  {
   "cell_type": "code",
   "execution_count": 11,
   "metadata": {},
   "outputs": [],
   "source": [
    "obj_info_dict = get_obj_info()"
   ]
  },
  {
   "cell_type": "code",
   "execution_count": 12,
   "metadata": {},
   "outputs": [],
   "source": [
    "# object items you want to detect\n",
    "# heuristic rule items, Initial guess rule items\n",
    "micp_cup = MultiICP_Obj(obj_info_dict[\"cup\"], None,\n",
    "                        OffsetOnModelCoord(\"cup\", R=Rot_axis(1, np.pi/2), offset=None))"
   ]
  },
  {
   "cell_type": "code",
   "execution_count": 13,
   "metadata": {},
   "outputs": [],
   "source": [
    "micp_dict = {\"cup\": micp_cup}\n",
    "micp.set_config(micp_dict, sd, crob, viewpoint)"
   ]
  },
  {
   "cell_type": "code",
   "execution_count": null,
   "metadata": {},
   "outputs": [],
   "source": []
  },
  {
   "cell_type": "markdown",
   "metadata": {},
   "source": [
    "##### detect_and_register()\n",
    "* Detect items in the field of view and register them to the GeometryScene\n",
    "* They will appear in the RVIZ\n",
    "\n"
   ]
  },
  {
   "cell_type": "code",
   "execution_count": 20,
   "metadata": {},
   "outputs": [
    {
     "name": "stdout",
     "output_type": "stream",
     "text": [
      "name_mask is ['closet', 'bed']\n",
      "===== Detected : bed, 1 object(s) =====\n",
      "\n",
      "'bed' is not in gscene. Use manual input for initial guess\n",
      "\n",
      "Apply point-to-point ICP\n",
      "registration::RegistrationResult with fitness=8.409394e-01, inlier_rmse=6.899803e-02, and correspondence_set size of 5049\n",
      "Access transformation to get result.\n",
      "Transformation is:\n",
      "[[ 0.82007189 -0.1025711   0.56299316 -0.58887756]\n",
      " [-0.22207067 -0.96374952  0.14788999  0.66678282]\n",
      " [ 0.52741516 -0.24630468 -0.81312192  4.61567619]\n",
      " [ 0.          0.          0.          1.        ]]\n",
      "Apply point-to-point ICP\n",
      "registration::RegistrationResult with fitness=8.305593e-01, inlier_rmse=4.570206e-02, and correspondence_set size of 2495\n",
      "Access transformation to get result.\n",
      "Transformation is:\n",
      "[[ 0.82394519 -0.07580986  0.56157567 -0.58022322]\n",
      " [-0.17396279 -0.97699637  0.12334907  0.72283548]\n",
      " [ 0.53930633 -0.19932613 -0.81817955  4.62225097]\n",
      " [ 0.          0.          0.          1.        ]]\n",
      "Found 6DoF pose of bed\n",
      "===== Apply heuristic rule for closet =====\n",
      "CLOSET ON LEFT\n",
      "\n",
      "'closet' is not in gscene. Use manual input for initial guess\n",
      "\n",
      "Apply point-to-point ICP\n",
      "registration::RegistrationResult with fitness=6.578130e-01, inlier_rmse=6.471171e-02, and correspondence_set size of 31354\n",
      "Access transformation to get result.\n",
      "Transformation is:\n",
      "[[ 0.54744975 -0.01818288 -0.83664098 -0.7708895 ]\n",
      " [ 0.13724967 -0.9842749   0.11119973  0.71012808]\n",
      " [-0.82550668 -0.17570496 -0.53634551  4.45134221]\n",
      " [ 0.          0.          0.          1.        ]]\n",
      "Apply point-to-point ICP\n",
      "registration::RegistrationResult with fitness=8.249927e-01, inlier_rmse=3.503061e-02, and correspondence_set size of 19667\n",
      "Access transformation to get result.\n",
      "Transformation is:\n",
      "[[ 0.52482083 -0.02741626 -0.85077108 -0.74422327]\n",
      " [ 0.15325302 -0.98010541  0.1261223   0.72174764]\n",
      " [-0.83730316 -0.19657484 -0.51017816  4.51414644]\n",
      " [ 0.          0.          0.          1.        ]]\n",
      "Found 6DoF pose of closet\n",
      "\u001b[93m[WARN] Vertices for mesh should be have center point (0,0,0). Auto adjusting.\u001b[0m\n",
      "\u001b[93m[WARN] Vertices for mesh should be have center point (0,0,0). Auto adjusting.\u001b[0m\n"
     ]
    }
   ],
   "source": [
    "gtem_dict = scene_builder.detect_and_register(level_mask=[DetectionLevel.MOVABLE])"
   ]
  },
  {
   "cell_type": "code",
   "execution_count": null,
   "metadata": {},
   "outputs": [],
   "source": []
  },
  {
   "cell_type": "markdown",
   "metadata": {},
   "source": [
    "##### disconnect()"
   ]
  },
  {
   "cell_type": "code",
   "execution_count": 19,
   "metadata": {},
   "outputs": [],
   "source": [
    "detector.disconnect()"
   ]
  },
  {
   "cell_type": "code",
   "execution_count": null,
   "metadata": {},
   "outputs": [],
   "source": []
  }
 ],
 "metadata": {
  "kernelspec": {
   "display_name": "Python 2",
   "language": "python",
   "name": "python2"
  },
  "language_info": {
   "codemirror_mode": {
    "name": "ipython",
    "version": 2
   },
   "file_extension": ".py",
   "mimetype": "text/x-python",
   "name": "python",
   "nbconvert_exporter": "python",
   "pygments_lexer": "ipython2",
   "version": "2.7.17"
  }
 },
 "nbformat": 4,
 "nbformat_minor": 2
}
