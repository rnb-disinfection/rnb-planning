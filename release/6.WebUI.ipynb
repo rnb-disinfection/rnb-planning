{
 "cells": [
  {
   "cell_type": "markdown",
   "metadata": {},
   "source": [
    "## 6. Web UI\n",
    "The Web UI provides very basic graphical interaction to the planning scene.\n",
    "* **6.1 Instance tab**  \n",
    "  - highlight, add/delete, edit, apply\n",
    "* **6.2 Binding tab**  \n",
    "  - highlight, edit\n",
    "  \n",
    "-------------------- deprecated ------------------\n",
    "* **6.3 Mark tab**\n",
    "  - highlight\n",
    "  - MarkEnv, MarkObj\n",
    "* **6.4 Planning tab**  \n",
    "  - Conditions\n",
    "    - Initialize, Plan\n",
    "  - **PlanList**\n",
    "    - Replay, Execute\n",
    "* **6.5 Setting tab**\n",
    "  - Robot\n",
    "  - MotionPlanner\n",
    "  - TaskPlanner\n",
    "  \n",
    "#### Required environment\n",
    "* box1\n",
    "* goal"
   ]
  },
  {
   "cell_type": "code",
   "execution_count": null,
   "metadata": {},
   "outputs": [],
   "source": []
  },
  {
   "cell_type": "markdown",
   "metadata": {},
   "source": [
    "## set running directory to project source"
   ]
  },
  {
   "cell_type": "code",
   "execution_count": 1,
   "metadata": {},
   "outputs": [],
   "source": [
    "import os\n",
    "import sys\n",
    "import numpy as np\n",
    "import time\n",
    "sys.path.append(os.path.join(os.environ[\"RNB_PLANNING_DIR\"], 'src'))"
   ]
  },
  {
   "cell_type": "markdown",
   "metadata": {},
   "source": [
    "## Prepare pipeline"
   ]
  },
  {
   "cell_type": "code",
   "execution_count": 2,
   "metadata": {},
   "outputs": [
    {
     "name": "stdout",
     "output_type": "stream",
     "text": [
      "connection command:\n",
      "indy0: False\n",
      "panda1: False\n",
      "Device configuration: \n",
      "\tcolor_format: 3 \n",
      "\t(0:JPG, 1:NV12, 2:YUY2, 3:BGRA32)\n",
      "\n",
      "\tcolor_resolution: 5 \n",
      "\t(0:OFF, 1:720p, 2:1080p, 3:1440p, 4:1536p, 5:2160p, 6:3072p)\n",
      "\n",
      "\tdepth_mode: 3 \n",
      "\t(0:OFF, 1:NFOV_2X2BINNED, 2:NFOV_UNBINNED,3:WFOV_2X2BINNED, 4:WFOV_UNBINNED, 5:Passive IR)\n",
      "\n",
      "\tcamera_fps: 2 \n",
      "\t(0:5 FPS, 1:15 FPS, 2:30 FPS)\n",
      "\n",
      "\tsynchronized_images_only: False \n",
      "\t(True of False). Drop images if the color and depth are not synchronized\n",
      "\n",
      "\tdepth_delay_off_color_usec: 0 ms. \n",
      "\tDelay between the color image and the depth image\n",
      "\n",
      "\twired_sync_mode: 0\n",
      "\t(0:Standalone mode, 1:Master mode, 2:Subordinate mode)\n",
      "\n",
      "\tsubordinate_delay_off_master_usec: 0 ms.\n",
      "\tThe external synchronization timing.\n",
      "\n",
      "\tdisable_streaming_indicator: False \n",
      "\t(True or False). Streaming indicator automatically turns on when the color or depth camera's are in use.\n",
      "\n",
      "\n",
      "Start streaming\n",
      "Detector initialized\n",
      "\u001b[93mros_node already initialized somewhere else\u001b[0m\n",
      "Please create a subscriber to the marker\n",
      "publication OK\n",
      "published: [0, 0, 0, 0, 0, 0, 0, 0, 0, 0, 0, 0, 0]\n",
      "Please create a subscriber to the marker\n"
     ]
    }
   ],
   "source": [
    "from pkg.controller.combined_robot import *\n",
    "from pkg.project_config import *\n",
    "from pkg.geometry.builder.scene_builder import SceneBuilder\n",
    "from pkg.controller.combined_robot import CombinedRobot\n",
    "from pkg.controller.robot_config import RobotConfig, RobotType\n",
    "\n",
    "from pkg.detector.aruco.stereo import ArucoStereo\n",
    "from pkg.detector.aruco.marker_config import get_aruco_map\n",
    "from pkg.detector.camera.kinect import Kinect\n",
    "from pkg.detector.camera.realsense import RealSense\n",
    "from pkg.detector.detector_interface import DetectionLevel\n",
    "\n",
    "INDY_IP = \"192.168.21.6\"\n",
    "PANDA_HOST_IP = \"192.168.21.14\" ## The host computer is the computer that runs control program\n",
    "PANDA_ROBOT_IP = \"192.168.21.13\" ## The robot has it's own IP\n",
    "\n",
    "crob = CombinedRobot(\n",
    "    robots_on_scene=[\n",
    "        RobotConfig(0, RobotType.indy7, ((0,-0.3,0), (0,0,0)),\n",
    "                    INDY_IP),\n",
    "        RobotConfig(1, RobotType.panda, ((0,0.3,0), (0,0,0)),\n",
    "                    \"{}/{}\".format(PANDA_HOST_IP, PANDA_ROBOT_IP))\n",
    "    ], \n",
    "    connection_list=[False, False])\n",
    "\n",
    "stereo = ArucoStereo(aruco_map=get_aruco_map(), \n",
    "                     camera_list=[Kinect(), RealSense()])\n",
    "\n",
    "stereo.initialize()\n",
    "\n",
    "time.sleep(1) # Let the camera have some time to get stable\n",
    "stereo.calibrate()\n",
    "print(\"Detector initialized\")\n",
    "\n",
    "s_builder = SceneBuilder.instance(detector=stereo)\n",
    "# deprecated: s_builder.reset_reference_coord(ref_name=\"floor\")\n",
    "\n",
    "xyz_rpy_robots = s_builder.detect_items(level_mask=[DetectionLevel.ROBOT])\n",
    "crob.update_robot_pos_dict(xyz_rpy_robots=xyz_rpy_robots)\n",
    "gscene = s_builder.create_gscene(crob)\n",
    "gtems = s_builder.add_robot_geometries(color=(0,1,0,0.5), display=True, collision=True)\n",
    "ptems = s_builder.add_poles(\n",
    "    {\"cam0\": stereo.ref_coord_inv[:3,3], \n",
    "     \"cam1\":np.matmul(stereo.ref_coord_inv, stereo.T_c12)[:3,3]},\n",
    "    color=(0.6,0.6,0.6,0.2))\n",
    "gscene.show_pose(crob.home_pose)\n",
    "\n",
    "gtem_dict = s_builder.detect_and_register(level_mask=[DetectionLevel.ENVIRONMENT])\n",
    "track = gtem_dict[\"track\"]\n",
    "\n",
    "gtem_dict = s_builder.detect_and_register(level_mask=[DetectionLevel.MOVABLE])\n",
    "s_builder.give_clearance(track, gtem_dict.values())\n",
    "\n",
    "from pkg.geometry.geometry import *\n",
    "from pkg.planning.constraint.constraint_actor import PlacePlane, Gripper2Tool\n",
    "\n",
    "gscene.create_safe(GEOTYPE.MESH, \"indy0_gripper_vis\", link_name=\"indy0_tcp\", dims=(0.1,0.1,0.1),\n",
    "                   center=(0,0,0), rpy=(0,0,np.pi/2), color=(0.1,0.1,0.1,1), display=True, fixed=True, collision=False, \n",
    "                   uri=\"package://my_mesh/meshes/stl/indy_gripper_asm2_res.STL\", scale=(1,1,1))\n",
    "\n",
    "gscene.create_safe(GEOTYPE.BOX, \"indy0_gripper\", link_name=\"indy0_tcp\", dims=(0.06,0.08,0.06),\n",
    "                   center=(0,0,0.04), rpy=(0,0,0), color=(0.0,0.8,0.0,0.5), display=True, fixed=True, collision=True)\n",
    "\n",
    "gscene.create_safe(GEOTYPE.CYLINDER, \"indy0_finger1\", link_name=\"indy0_tcp\", dims=(0.03,0.03,0.095),\n",
    "                   center=(0.006,0.045,0.1), rpy=(0,0,0), color=(0.0,0.8,0.0,0.5), display=True, fixed=True, collision=True)\n",
    "\n",
    "gscene.create_safe(GEOTYPE.CYLINDER, \"indy0_finger2\", link_name=\"indy0_tcp\", dims=(0.03,0.03,0.095),\n",
    "                   center=(-0.006,0.045,0.1), rpy=(0,0,0), color=(0.0,0.8,0.0,0.5), display=True, fixed=True, collision=True)\n",
    "\n",
    "gscene.create_safe(GEOTYPE.CYLINDER, \"indy0_finger3\", link_name=\"indy0_tcp\", dims=(0.03,0.03,0.095),\n",
    "                   center=(0.006,-0.045,0.1), rpy=(0,0,0), color=(0.0,0.8,0.0,0.5), display=True, fixed=True, collision=True)\n",
    "\n",
    "gscene.create_safe(GEOTYPE.CYLINDER, \"indy0_finger4\", link_name=\"indy0_tcp\", dims=(0.03,0.03,0.095),\n",
    "                   center=(-0.006,-0.045,0.1), rpy=(0,0,0), color=(0.0,0.8,0.0,0.5), display=True, fixed=True, collision=True)\n",
    "\n",
    "gscene.create_safe(gtype=GEOTYPE.SPHERE, name=\"grip0\", link_name=\"indy0_tcp\", \n",
    "                 dims=(0.01,)*3, center=(0,0,0.14), rpy=(-np.pi/2,0,0), color=(1,0,0,1), display=True, collision=False, fixed=True)\n",
    "\n",
    "gscene.create_safe(gtype=GEOTYPE.SPHERE, name=\"grip1\", link_name=\"panda1_hand\", \n",
    "                 dims=(0.01,)*3, center=(0,0,0.112), rpy=(-np.pi/2,0,0), color=(1,0,0,1), display=True, collision=False, fixed=True)\n",
    "\n",
    "from pkg.planning.scene import PlanningScene\n",
    "pscene = PlanningScene(gscene, combined_robot=crob)\n",
    "pscene.create_binder(bname=\"grip0\", gname=\"grip0\", _type=Gripper2Tool, point=(0,0,0), rpy=(0,0,0))\n",
    "pscene.create_binder(bname=\"grip1\", gname=\"grip1\", _type=Gripper2Tool, point=(0,0,0), rpy=(0,0,0))\n",
    "pscene.create_binder(bname=\"track\", gname=\"track\", _type=PlacePlane, point=None)\n",
    "pscene.create_binder(bname=\"goal\", gname=\"goal\", _type=PlacePlane, point=(0,0,0.005))\n",
    "\n",
    "from pkg.planning.constraint.constraint_subject import BoxObject\n",
    "## create box object with grasping points along positive & negative y-direction and placement point in the bottom face\n",
    "box_obj = pscene.create_subject(oname=\"box1\", gname=\"box1\", _type=BoxObject)\n",
    "\n",
    "from pkg.planning.pipeline import PlanningPipeline\n",
    "from pkg.planning.motion.moveit.moveit_planner import MoveitPlanner\n",
    "from pkg.planning.task.rrt import TaskRRT\n",
    "\n",
    "ppline = PlanningPipeline(pscene)\n",
    "ppline.set_motion_planner(MoveitPlanner(pscene))\n",
    "ppline.set_task_planner(TaskRRT(pscene))"
   ]
  },
  {
   "cell_type": "code",
   "execution_count": null,
   "metadata": {},
   "outputs": [],
   "source": []
  },
  {
   "cell_type": "markdown",
   "metadata": {},
   "source": [
    "## Start Web UI\n",
    "* Run below cell and access to UI on web browser at <IP>:8050"
   ]
  },
  {
   "cell_type": "code",
   "execution_count": 3,
   "metadata": {},
   "outputs": [
    {
     "name": "stdout",
     "output_type": "stream",
     "text": [
      "Dash is running on http://0.0.0.0:8050/\n",
      "\n",
      " * Serving Flask app \"pkg.ui.dash_launcher\" (lazy loading)\n",
      " * Environment: production\n",
      "   WARNING: This is a development server. Do not use it in a production deployment.\n",
      "   Use a production WSGI server instead.\n",
      " * Debug mode: off\n",
      "generate table - Geometry\n",
      "generate table - Handle\n",
      "generate table - Binder\n",
      "generate table - Object\n"
     ]
    }
   ],
   "source": [
    "from pkg.ui.ui_broker import *\n",
    "\n",
    "# start UI\n",
    "ui_broker = UIBroker.instance()\n",
    "ui_broker.initialize(ppline, s_builder)\n",
    "ui_broker.start_server()\n",
    "\n",
    "ui_broker.set_tables()"
   ]
  },
  {
   "cell_type": "code",
   "execution_count": null,
   "metadata": {},
   "outputs": [],
   "source": []
  },
  {
   "cell_type": "markdown",
   "metadata": {},
   "source": [
    "#### 6.1 Instance tab\n",
    "Instance tab lists geometries and planning objects in the scene.  \n",
    "* **highlight**\n",
    "  - On **Geometry** and **Object** panel, click listed items and check if corresponding geometry item is highlighted in RVIZ.\n",
    "* **add/delete**\n",
    "  - On **Geometry** panel, click \"x\" icon on the left side of a listed item and see if the item is removed from the scene.\n",
    "  - On **Object** panel, click \"x\" icon on the left side of a listed item.\n",
    "    - Refresh the screen and check if corresponding handles are removed from the *Handle* panel in **Binding** tab\n",
    "* **edit**\n",
    "  - On **Geometry** panel, click any listed item field, edit and press enter. Check if the geometry is changed in RVIZ.\n",
    "    - Please be careful to keep the format of the item field contents.\n",
    "* **apply**\n",
    "  - \"Disp\" field is not applied instantly when edited. Change one item's \"Disp\" field from True to False or from False to True, click apply and check if  the item disappears or appears."
   ]
  },
  {
   "cell_type": "markdown",
   "metadata": {},
   "source": [
    "#### 6.2 Binding tab\n",
    "Binding tab lists all action points in the planning scene.  \n",
    "To test this section, re-start this notebook to recover the items that are removed in 6.1  \n",
    "* **highlight**\n",
    "  - On **Handle** and **Binder** panel, click listed items and check if corresponding geometry item is highlighted in RVIZ.\n",
    "  - This time the corresponding axis will also be visualized.\n",
    "* **edit**\n",
    "  - Edit \"Point\" and \"RPY\" field of some items in **Handle** and **Binder** panel, see if the change is applied in the RVIZ."
   ]
  },
  {
   "cell_type": "code",
   "execution_count": null,
   "metadata": {},
   "outputs": [],
   "source": []
  }
 ],
 "metadata": {
  "kernelspec": {
   "display_name": "Python 2",
   "language": "python",
   "name": "python2"
  },
  "language_info": {
   "codemirror_mode": {
    "name": "ipython",
    "version": 2
   },
   "file_extension": ".py",
   "mimetype": "text/x-python",
   "name": "python",
   "nbconvert_exporter": "python",
   "pygments_lexer": "ipython2",
   "version": "2.7.17"
  }
 },
 "nbformat": 4,
 "nbformat_minor": 2
}
