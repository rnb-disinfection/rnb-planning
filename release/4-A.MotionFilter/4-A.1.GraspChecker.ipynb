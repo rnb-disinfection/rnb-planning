{
 "cells": [
  {
   "cell_type": "markdown",
   "metadata": {},
   "source": [
    "## Check List 4 - MotionFilter\n",
    "* Motion filters are quick decision makers that prevents trying to plan a infeasible motion.\n",
    "* Here, GraspChecker is tested with some example cases  \n",
    "* **4-A.1 GraspChecker**  \n",
    "  - pick, place, sweep\n",
    "    - single process\n",
    "    - multi process"
   ]
  },
  {
   "cell_type": "code",
   "execution_count": null,
   "metadata": {},
   "outputs": [],
   "source": []
  },
  {
   "cell_type": "markdown",
   "metadata": {},
   "source": [
    "## set running directory to project source"
   ]
  },
  {
   "cell_type": "code",
   "execution_count": 1,
   "metadata": {},
   "outputs": [],
   "source": [
    "import os\n",
    "import numpy as np\n",
    "import time\n",
    "os.chdir(os.path.join(os.environ[\"RNB_PLANNING_DIR\"], 'src'))"
   ]
  },
  {
   "cell_type": "code",
   "execution_count": null,
   "metadata": {},
   "outputs": [],
   "source": []
  },
  {
   "cell_type": "markdown",
   "metadata": {},
   "source": [
    "##### initialize CombinedRobot and GeometryScene"
   ]
  },
  {
   "cell_type": "code",
   "execution_count": 2,
   "metadata": {},
   "outputs": [
    {
     "name": "stdout",
     "output_type": "stream",
     "text": [
      "connection command:\n",
      "indy0: False\n"
     ]
    },
    {
     "name": "stderr",
     "output_type": "stream",
     "text": [
      "Unknown tag \"hardwareInterface\" in /robot[@name='custom_robots']/transmission[@name='indy0_tran0']/actuator[@name='indy0_motor0']\n",
      "Unknown tag \"hardwareInterface\" in /robot[@name='custom_robots']/transmission[@name='indy0_tran1']/actuator[@name='indy0_motor1']\n",
      "Unknown tag \"hardwareInterface\" in /robot[@name='custom_robots']/transmission[@name='indy0_tran2']/actuator[@name='indy0_motor2']\n",
      "Unknown tag \"hardwareInterface\" in /robot[@name='custom_robots']/transmission[@name='indy0_tran3']/actuator[@name='indy0_motor3']\n",
      "Unknown tag \"hardwareInterface\" in /robot[@name='custom_robots']/transmission[@name='indy0_tran4']/actuator[@name='indy0_motor4']\n",
      "Unknown tag \"hardwareInterface\" in /robot[@name='custom_robots']/transmission[@name='indy0_tran5']/actuator[@name='indy0_motor5']\n"
     ]
    },
    {
     "name": "stdout",
     "output_type": "stream",
     "text": [
      "Please create a subscriber to the marker\n",
      "publication OK\n",
      "published: [0, 0, 0, 0, 0, 0]\n",
      "Please create a subscriber to the marker\n"
     ]
    }
   ],
   "source": [
    "from pkg.controller.combined_robot import *\n",
    "from pkg.project_config import *\n",
    "from pkg.geometry.builder.scene_builder import SceneBuilder\n",
    "\n",
    "s_builder = SceneBuilder(None)   # create scene builder without detector for virtual scene\n",
    "crob = CombinedRobot(robots_on_scene=[\n",
    "    RobotConfig(0, RobotType.indy7, ((0,0,0), (0,0,0)), None)]\n",
    "                     , connection_list=[False])\n",
    "gscene = s_builder.create_gscene(crob)\n",
    "gtems = s_builder.add_robot_geometries(color=(0,1,0,0.5), display=True, collision=True)\n",
    "gscene.show_pose(crob.home_pose)"
   ]
  },
  {
   "cell_type": "markdown",
   "metadata": {},
   "source": [
    "##### add geometries"
   ]
  },
  {
   "cell_type": "code",
   "execution_count": 3,
   "metadata": {},
   "outputs": [],
   "source": [
    "from pkg.geometry.geometry import *\n",
    "\n",
    "# add environments (fixed=True for non-movable geometries)\n",
    "wall = gscene.create_safe(GEOTYPE.BOX, \"wall\", \"base_link\", (3,3,0.01), (-0.2,0,0), \n",
    "                           rpy=(0,np.pi/2,0), color=(0.8,0.8,0.8,0.5), display=True, fixed=True, collision=True)\n",
    "floor = gscene.create_safe(GEOTYPE.BOX, \"floor\", \"base_link\", (3,3,0.01), (0,0,0), \n",
    "                           rpy=(0,0,0), color=(0.8,0.8,0.8,0.5), display=True, fixed=True, collision=True)\n",
    "wp1 = gscene.create_safe(GEOTYPE.BOX, \"wp1\", \"base_link\", (0.1,0.1,0.01), (0.5,-0.2,0),rpy=(0,0,0), \n",
    "                         color=(0.8,0.2,0.2,1), display=True, fixed=True, collision=False)\n",
    "wp2 = gscene.create_safe(GEOTYPE.BOX, \"wp2\", \"base_link\", (0.1,0.1,0.01), (0.5,0.2,0), rpy=(0,0,0), \n",
    "                         color=(0.8,0.2,0.2,1), display=True, fixed=True, collision=False)\n",
    "goal = gscene.create_safe(GEOTYPE.BOX, \"goal\", \"base_link\", (0.1,0.1,0.01), (0.3,-0.4,0), \n",
    "                          rpy=(0,0,0), color=(0.2,0.2,0.8,1), display=True, fixed=True, collision=False)\n",
    " \n",
    "# add movable (fixed=False for movable geometries)\n",
    "box1 = gscene.create_safe(GEOTYPE.BOX, \"box1\", \"base_link\", (0.05,0.05,0.05), (0.3,0.4,0.031), \n",
    "                          rpy=(0,0,0), color=(0.8,0.2,0.2,1), display=True, fixed=False, collision=True)\n",
    "\n",
    "obstacle = gscene.create_safe(GEOTYPE.BOX, \"obstacle\", \"base_link\", (0.05,0.05,0.05), (0.5,0.4,0.031), \n",
    "                          rpy=(0,0,0), color=(0.8,0.8,0.2,1), display=True, fixed=False, collision=True)"
   ]
  },
  {
   "cell_type": "markdown",
   "metadata": {},
   "source": [
    "##### create PlanningScene"
   ]
  },
  {
   "cell_type": "code",
   "execution_count": 4,
   "metadata": {},
   "outputs": [],
   "source": [
    "from pkg.planning.scene import PlanningScene\n",
    "pscene = PlanningScene(gscene, combined_robot=crob)"
   ]
  },
  {
   "cell_type": "markdown",
   "metadata": {},
   "source": [
    "##### create_binder"
   ]
  },
  {
   "cell_type": "code",
   "execution_count": 5,
   "metadata": {},
   "outputs": [],
   "source": [
    "from pkg.planning.constraint.constraint_actor import PlacePlane, Gripper2Tool, SweepTool"
   ]
  },
  {
   "cell_type": "code",
   "execution_count": 6,
   "metadata": {},
   "outputs": [
    {
     "data": {
      "text/plain": [
       "<pkg.planning.constraint.constraint_actor.SweepTool at 0x7f21eb3c0650>"
      ]
     },
     "execution_count": 6,
     "metadata": {},
     "output_type": "execute_result"
    }
   ],
   "source": [
    "# create PlacePlane on geometry \"floor\" and \"goal\"\n",
    "# when point is not set, the entire upper surface of the geometry becomes valid binding area.\n",
    "# when point is set, the specific point becomes the only valid binding point.\n",
    "pscene.create_binder(bname=\"floor\", gname=\"floor\", _type=PlacePlane)\n",
    "pscene.create_binder(bname=\"goal\", gname=\"goal\", _type=PlacePlane, point=(0,0,0.005))\n",
    "\n",
    "# add collision boundary for gripper base\n",
    "# - set link_name=\"indy0_tcp\" to attach the geometry to end-effector link\n",
    "# - it can be labeled as fixed=True, as it is \"fixed\" on the indy0_tcp link\n",
    "gripper =  gscene.create_safe(GEOTYPE.BOX, \"gripper\", link_name=\"indy0_tcp\", \n",
    "                                dims=(0.02,0.1,0.1), center=(0,0,0.05), rpy=(0,0,0), \n",
    "                                color=(0.8,0.2,0.2,0.5), display=True, fixed=True, collision=True)\n",
    "\n",
    "# add gripper fingers - By setting parent=\"gripper\", the position of geometry can be set relative to the parent geometry\n",
    "finger1 =  gscene.create_safe(GEOTYPE.BOX, \"finger1\", link_name=\"indy0_tcp\",\n",
    "                              dims=(0.02,0.02,0.1), center=(0,0.06,0.07), rpy=(0,0,0), \n",
    "                              color=(0.8,0.2,0.2,0.5), display=True, fixed=True, collision=True, parent=\"gripper\")\n",
    "finger2 =  gscene.create_safe(GEOTYPE.BOX, \"finger2\", link_name=\"indy0_tcp\", \n",
    "                              dims=(0.02,0.02,0.1), center=(0,-0.06,0.07), rpy=(0,0,0), \n",
    "                              color=(0.8,0.2,0.2,0.5), display=True, fixed=True, collision=True, parent=\"gripper\")\n",
    "\n",
    "# create Gripper2Tool binder\n",
    "# Gripper2Tool is a 2-finger gripper, which can rotate along z-direction.\n",
    "# To align the z-direction with the 2 fingers, rotate by 90 degree along roll axis.\n",
    "# The gripping point is (0,0,0.11) in local coordinate of \"gripper\" geometry\n",
    "pscene.create_binder(bname=\"grip0\", gname=\"gripper\", \n",
    "                     _type=Gripper2Tool, point=(0,0,0.11), rpy=(-np.pi/2,0,0))\n",
    "\n",
    "# Add virtual (no-collision) sweep face. the point is 0.2 m away from the \"indy0_tcp\" link\n",
    "# To match the z-direction with the target surface, the geometry is rotated 180 degrees in pitch-axis.\n",
    "sweep_face =  gscene.create_safe(GEOTYPE.BOX, \"sweep_face\", link_name=\"indy0_tcp\", \n",
    "                                dims=(0.05,0.05,0.001), center=(0,0,0.2), rpy=(0,np.pi,0), \n",
    "                                color=(0.2,0.2,0.8,0.1), display=True, fixed=True, collision=False)\n",
    "                                 \n",
    "# create SweepTool binder\n",
    "pscene.create_binder(bname=\"sweep_face\", gname=\"sweep_face\", _type=SweepTool, point=(0,0,0), rpy=(0,0,0))"
   ]
  },
  {
   "cell_type": "markdown",
   "metadata": {},
   "source": [
    "##### create_subject"
   ]
  },
  {
   "cell_type": "code",
   "execution_count": 7,
   "metadata": {},
   "outputs": [],
   "source": [
    "from pkg.planning.constraint.constraint_subject import Grasp2Point, PlacePoint, SweepPoint\n",
    "from pkg.planning.constraint.constraint_subject import CustomObject, SweepLineTask\n",
    "## create box object with grasping points along positive & negative y-direction and placement point in the bottom face\n",
    "box_obj = pscene.create_subject(oname=\"box1\", gname=\"box1\", _type=CustomObject, \n",
    "                             action_points_dict = {\n",
    "                                 \"handle1\": Grasp2Point(\"handle1\", box1, [0,0,0], [-np.pi/2,0,0]),\n",
    "                                 \"handle2\": Grasp2Point(\"handle2\", box1, [0,0,0], [np.pi/2,0,0]),\n",
    "                                 \"bottom\": PlacePoint(\"bottom\", box1, [0,0,-0.026], [0,0,0])})\n",
    "## create sweep task with 2 waypoints\n",
    "sweep = pscene.create_subject(oname=\"sweep\", gname=\"floor\", _type=SweepLineTask, \n",
    "                             action_points_dict = {\"wp1\": SweepPoint(\"wp1\", wp1, [0,0,0.005], [0,0,0]),\n",
    "                                                   \"wp2\": SweepPoint(\"wp2\", wp2, [0,0,0.005], [0,0,0])}\n",
    "                             )"
   ]
  },
  {
   "cell_type": "markdown",
   "metadata": {},
   "source": [
    "##### update_state\n",
    "* update_state(robot_pose) updates robot pose and gets corresponding binding status of current scene.\n",
    "* state.node of ('floor', 0) means the first subject (object) is placed on the floor and the second subject (sweep) has passed 0 waypoints"
   ]
  },
  {
   "cell_type": "code",
   "execution_count": 8,
   "metadata": {},
   "outputs": [
    {
     "name": "stdout",
     "output_type": "stream",
     "text": [
      "('floor', 0)\n"
     ]
    }
   ],
   "source": [
    "initial_state = pscene.update_state(crob.home_pose)\n",
    "print(initial_state.node)"
   ]
  },
  {
   "cell_type": "markdown",
   "metadata": {},
   "source": [
    "##### prepare motion planner"
   ]
  },
  {
   "cell_type": "code",
   "execution_count": 9,
   "metadata": {},
   "outputs": [],
   "source": [
    "from pkg.planning.motion.moveit.moveit_planner import MoveitPlanner\n",
    "mplan = MoveitPlanner(pscene)"
   ]
  },
  {
   "cell_type": "code",
   "execution_count": null,
   "metadata": {},
   "outputs": [],
   "source": []
  },
  {
   "cell_type": "markdown",
   "metadata": {},
   "source": [
    "##### Create GraspChecker"
   ]
  },
  {
   "cell_type": "code",
   "execution_count": 10,
   "metadata": {},
   "outputs": [],
   "source": [
    "from pkg.planning.filtering.grasp_filter import GraspChecker\n",
    "from pkg.planning.constraint.constraint_common import calc_redundancy\n",
    "mfilter = GraspChecker(pscene)"
   ]
  },
  {
   "cell_type": "code",
   "execution_count": null,
   "metadata": {},
   "outputs": [],
   "source": []
  },
  {
   "cell_type": "markdown",
   "metadata": {},
   "source": [
    "##### pick scenarios"
   ]
  },
  {
   "cell_type": "code",
   "execution_count": 11,
   "metadata": {},
   "outputs": [],
   "source": [
    "obj_name, handle_name, actor_name, actor_geo = \"box1\", \"handle1\", \"grip0\", \"gripper\"\n",
    "actor = pscene.actor_dict[actor_name]\n",
    "obj = pscene.subject_dict[obj_name]\n",
    "handle = obj.action_points_dict[handle_name]\n",
    "binding_list = [(obj_name, handle_name, actor_name, actor_geo)]\n",
    "constrained = False"
   ]
  },
  {
   "cell_type": "code",
   "execution_count": 12,
   "metadata": {
    "scrolled": true
   },
   "outputs": [
    {
     "name": "stdout",
     "output_type": "stream",
     "text": [
      "try transition motion\n",
      "transition motion tried: True\n",
      "Result match for vertial-access: True / True\n"
     ]
    }
   ],
   "source": [
    "scenario = \"vertial-access\"\n",
    "from_state=initial_state\n",
    "Q_dict = list2dict(from_state.Q, gscene.joint_names)\n",
    "to_state = from_state.copy(pscene)\n",
    "to_state.set_binding_state(\n",
    "    ((obj_name, handle_name, actor_name, actor_geo), \n",
    "     to_state.binding_state[1]), \n",
    "    pscene)\n",
    "redundancy_dict = {obj_name:{handle_name:{\"w\":np.pi}, \n",
    "                             actor_name:{\"w\":0}}}\n",
    "redundancy_values = {(obj_name, handle.name): calc_redundancy(redundancy_dict[obj_name][handle_name], handle),\n",
    "                     (obj_name, actor.name): calc_redundancy(redundancy_dict[obj_name][actor_name], actor)\n",
    "                    }\n",
    "\n",
    "pscene.set_object_state(from_state)\n",
    "gscene.show_pose(from_state.Q)\n",
    "success_mfilter = mfilter.check(actor, obj, handle, redundancy_values, Q_dict,constrained)\n",
    "\n",
    "Traj, LastQ, error, success = mplan.plan_algorithm(\n",
    "    from_state, to_state, binding_list=binding_list, redundancy_values=redundancy_values)\n",
    "if success:\n",
    "    pscene.set_object_state(from_state)\n",
    "    gscene.show_motion(Traj, period=0.05)\n",
    "    pick_state = pscene.rebind_all(binding_list, LastQ)\n",
    "print(\"Result {} for {}: {} / {}\".format(\"match\" if success_mfilter==success else \"mismatch\", scenario, success_mfilter, success))\n",
    "assert success_mfilter == success, \"Failure: filter result not same with motion planning result\""
   ]
  },
  {
   "cell_type": "code",
   "execution_count": 13,
   "metadata": {},
   "outputs": [
    {
     "name": "stdout",
     "output_type": "stream",
     "text": [
      "try transition motion\n",
      "transition motion tried: False\n",
      "Result match for vertical-access-with-obstacle: False / False\n"
     ]
    }
   ],
   "source": [
    "scenario = \"vertical-access-with-obstacle\"\n",
    "\n",
    "obstacle.set_offset_tf(center=(0.3,0.4,0.2)) # move obstacle\n",
    "gscene.update_markers_all()\n",
    "\n",
    "pscene.set_object_state(initial_state)\n",
    "gscene.show_pose(crob.home_pose)\n",
    "success_mfilter = mfilter.check(actor, obj, handle, redundancy_values, Q_dict,constrained)\n",
    "Traj, LastQ, error, success = mplan.plan_algorithm(\n",
    "    from_state, to_state, binding_list=binding_list, redundancy_values=redundancy_values)\n",
    "gscene.show_motion(Traj, period=0.05)\n",
    "print(\"Result {} for {}: {} / {}\".format(\"match\" if success_mfilter==success else \"mismatch\", scenario, success_mfilter, success))\n",
    "assert success_mfilter == success, \"Failure: filter result not same with motion planning result\"\n",
    "obstacle.set_offset_tf(center=(0.5, 0.4, 0.031)) # return obstacle\n",
    "gscene.update_markers_all()"
   ]
  },
  {
   "cell_type": "code",
   "execution_count": 14,
   "metadata": {},
   "outputs": [
    {
     "name": "stdout",
     "output_type": "stream",
     "text": [
      "try transition motion\n",
      "transition motion tried: False\n",
      "Result match for horizontal-access: False / False\n"
     ]
    }
   ],
   "source": [
    "scenario = \"horizontal-access\"\n",
    "\n",
    "redundancy_dict = {obj_name:{handle_name:{\"w\":np.pi/2}, \n",
    "                             actor_name:{\"w\":0}}}\n",
    "redundancy_values = {(obj_name, handle.name): calc_redundancy(redundancy_dict[obj_name][handle_name], handle),\n",
    "                     (obj_name, actor.name): calc_redundancy(redundancy_dict[obj_name][actor_name], actor)\n",
    "                    }\n",
    "\n",
    "pscene.set_object_state(initial_state)\n",
    "gscene.show_pose(crob.home_pose)\n",
    "success_mfilter = mfilter.check(actor, obj, handle, redundancy_values, Q_dict,constrained)\n",
    "Traj, LastQ, error, success = mplan.plan_algorithm(\n",
    "    from_state, to_state, binding_list=binding_list, redundancy_values=redundancy_values)\n",
    "gscene.show_motion(Traj, period=0.05)\n",
    "print(\"Result {} for {}: {} / {}\".format(\"match\" if success_mfilter==success else \"mismatch\", scenario, success_mfilter, success))\n",
    "assert success_mfilter == success, \"Failure: filter result not same with motion planning result\""
   ]
  },
  {
   "cell_type": "markdown",
   "metadata": {},
   "source": [
    "##### place scenarios"
   ]
  },
  {
   "cell_type": "code",
   "execution_count": 15,
   "metadata": {},
   "outputs": [],
   "source": [
    "obj_name, handle_name, actor_name, actor_geo = \"box1\", \"bottom\", \"goal\", \"goal\"\n",
    "actor = pscene.actor_dict[actor_name]\n",
    "obj = pscene.subject_dict[obj_name]\n",
    "handle = obj.action_points_dict[handle_name]\n",
    "binding_list = [(obj_name, handle_name, actor_name, actor_geo)]\n",
    "constrained = False"
   ]
  },
  {
   "cell_type": "code",
   "execution_count": 16,
   "metadata": {
    "scrolled": true
   },
   "outputs": [
    {
     "name": "stdout",
     "output_type": "stream",
     "text": [
      "try transition motion\n",
      "transition motion tried: True\n",
      "Result match for vertial-access: True / True\n"
     ]
    }
   ],
   "source": [
    "scenario = \"vertial-access\"\n",
    "from_state=pick_state\n",
    "Q_dict = list2dict(from_state.Q, gscene.joint_names)\n",
    "to_state = from_state.copy(pscene)\n",
    "to_state.set_binding_state(\n",
    "    ((obj_name, handle_name, actor_name, actor_geo), \n",
    "     to_state.binding_state[1]), \n",
    "    pscene)\n",
    "redundancy_dict = {obj_name:{handle_name:{\"w\":0}, \n",
    "                             actor_name:{\"w\":0}}}\n",
    "redundancy_values = {(obj_name, handle.name): calc_redundancy(redundancy_dict[obj_name][handle_name], handle),\n",
    "                     (obj_name, actor.name): calc_redundancy(redundancy_dict[obj_name][actor_name], actor)\n",
    "                    }\n",
    "\n",
    "pscene.set_object_state(from_state)\n",
    "gscene.show_pose(crob.home_pose)\n",
    "success_mfilter = mfilter.check(actor, obj, handle, redundancy_values, Q_dict,constrained)\n",
    "\n",
    "Traj, LastQ, error, success = mplan.plan_algorithm(\n",
    "    from_state, to_state, binding_list=binding_list, redundancy_values=redundancy_values)\n",
    "if success:\n",
    "    pscene.set_object_state(from_state)\n",
    "    gscene.show_motion(Traj, period=0.05)\n",
    "    place_state = pscene.rebind_all(binding_list, LastQ)\n",
    "print(\"Result {} for {}: {} / {}\".format(\"match\" if success_mfilter==success else \"mismatch\", scenario, success_mfilter, success))\n",
    "assert success_mfilter == success, \"Failure: filter result not same with motion planning result\""
   ]
  },
  {
   "cell_type": "code",
   "execution_count": 17,
   "metadata": {},
   "outputs": [
    {
     "name": "stdout",
     "output_type": "stream",
     "text": [
      "try transition motion\n",
      "transition motion tried: False\n",
      "Result match for vertical-access-with-obstacle: False / False\n"
     ]
    }
   ],
   "source": [
    "scenario = \"vertical-access-with-obstacle\"\n",
    "obstacle.set_offset_tf(center=(0.3,-0.4,0.031)) # move obstacle\n",
    "gscene.update_markers_all()\n",
    "\n",
    "pscene.set_object_state(from_state)\n",
    "gscene.show_pose(crob.home_pose)\n",
    "success_mfilter = mfilter.check(actor, obj, handle, redundancy_values, Q_dict,constrained)\n",
    "Traj, LastQ, error, success = mplan.plan_algorithm(\n",
    "    from_state, to_state, binding_list=binding_list, redundancy_values=redundancy_values)\n",
    "gscene.show_motion(Traj)\n",
    "\n",
    "obstacle.set_offset_tf(center=(0.5, 0.4, 0.031)) # return obstacle\n",
    "gscene.update_markers_all()\n",
    "print(\"Result {} for {}: {} / {}\".format(\"match\" if success_mfilter==success else \"mismatch\", scenario, success_mfilter, success))\n",
    "assert success_mfilter == success, \"Failure: filter result not same with motion planning result\""
   ]
  },
  {
   "cell_type": "markdown",
   "metadata": {},
   "source": [
    "##### sweep scenario 1: reaching first sweep point"
   ]
  },
  {
   "cell_type": "code",
   "execution_count": 18,
   "metadata": {},
   "outputs": [],
   "source": [
    "obj_name, handle_name, actor_name, actor_geo = \"sweep\", \"wp1\", \"sweep_face\", \"sweep_face\"\n",
    "actor = pscene.actor_dict[actor_name]\n",
    "obj = pscene.subject_dict[obj_name]\n",
    "handle = obj.action_points_dict[handle_name]\n",
    "binding_list = [(obj_name, handle_name, actor_name, actor_geo)]\n",
    "constrained = False"
   ]
  },
  {
   "cell_type": "code",
   "execution_count": 19,
   "metadata": {
    "scrolled": true
   },
   "outputs": [
    {
     "name": "stdout",
     "output_type": "stream",
     "text": [
      "try transition motion\n",
      "transition motion tried: True\n",
      "OK to go\n",
      "Result match for reach wp1: True / True\n"
     ]
    }
   ],
   "source": [
    "scenario = \"reach wp1\"\n",
    "from_state=place_state.copy(pscene)\n",
    "from_state.Q = crob.home_pose\n",
    "Q_dict = list2dict(from_state.Q, gscene.joint_names)\n",
    "to_state = from_state.copy(pscene)\n",
    "to_state.set_binding_state(\n",
    "    (to_state.binding_state[1], \n",
    "     (obj_name, handle_name, actor_name, actor_geo)), \n",
    "    pscene)\n",
    "redundancy_dict = {obj_name:{handle_name:{\"w\":0}, \n",
    "                             actor_name:{\"w\":0}}}\n",
    "redundancy_values = {(obj_name, handle.name): calc_redundancy(redundancy_dict[obj_name][handle_name], handle),\n",
    "                     (obj_name, actor.name): calc_redundancy(redundancy_dict[obj_name][actor_name], actor)\n",
    "                    }\n",
    "\n",
    "pscene.set_object_state(from_state)\n",
    "gscene.show_pose(from_state.Q)\n",
    "success_mfilter = mfilter.check(actor, obj, handle, redundancy_values, Q_dict,constrained)\n",
    "for _ in range(100):\n",
    "    Traj, LastQ, error, success = mplan.plan_algorithm(\n",
    "        from_state, to_state, binding_list=binding_list, redundancy_values=redundancy_values)\n",
    "    if success and np.abs(LastQ[0])<np.pi/2: # else, it will fail in sweep motion\n",
    "        break\n",
    "if success:\n",
    "    if np.abs(LastQ[0])<np.pi/2:\n",
    "        print(\"OK to go\")\n",
    "        pscene.set_object_state(from_state)\n",
    "        gscene.show_motion(Traj, period=0.05)\n",
    "        sweep1_state = pscene.rebind_all(binding_list, LastQ)\n",
    "    else:\n",
    "        print(\"Sweep will fail. Please try again from this step.\")\n",
    "print(\"Result {} for {}: {} / {}\".format(\"match\" if success_mfilter==success else \"mismatch\", scenario, success_mfilter, success))\n",
    "assert success_mfilter == success, \"Failure: filter result not same with motion planning result\""
   ]
  },
  {
   "cell_type": "code",
   "execution_count": 20,
   "metadata": {},
   "outputs": [
    {
     "name": "stdout",
     "output_type": "stream",
     "text": [
      "try transition motion\n",
      "transition motion tried: True\n",
      "Result match for reach wp1 with obstacle: True / True\n"
     ]
    }
   ],
   "source": [
    "scenario = \"reach wp1 with obstacle\"\n",
    "from_state=place_state.copy(pscene)\n",
    "obstacle.set_offset_tf(center=(0.4,-0.3,0.2)) # move obstacle\n",
    "gscene.update_markers_all()\n",
    "\n",
    "pscene.set_object_state(place_state)\n",
    "gscene.show_pose(from_state.Q)\n",
    "success_mfilter = mfilter.check(actor, obj, handle, redundancy_values, Q_dict,constrained)\n",
    "Traj, LastQ, error, success = mplan.plan_algorithm(\n",
    "    from_state, to_state, binding_list=binding_list, redundancy_values=redundancy_values)\n",
    "gscene.show_motion(Traj, period=0.05)\n",
    "    \n",
    "obstacle.set_offset_tf(center=(0.5, 0.4, 0.031)) # return obstacle\n",
    "gscene.update_markers_all()\n",
    "print(\"Result {} for {}: {} / {}\".format(\"match\" if success_mfilter==success else \"mismatch\", scenario, success_mfilter, success))\n",
    "assert success_mfilter == success, \"Failure: filter result not same with motion planning result\""
   ]
  },
  {
   "cell_type": "markdown",
   "metadata": {},
   "source": [
    "##### sweep scenario 2: sweep to second sweep point"
   ]
  },
  {
   "cell_type": "code",
   "execution_count": 21,
   "metadata": {},
   "outputs": [],
   "source": [
    "obj_name, handle_name, actor_name, actor_geo = \"sweep\", \"wp2\", \"sweep_face\", \"sweep_face\"\n",
    "actor = pscene.actor_dict[actor_name]\n",
    "obj = pscene.subject_dict[obj_name]\n",
    "handle = obj.action_points_dict[handle_name]\n",
    "binding_list = [(obj_name, handle_name, actor_name, actor_geo)]\n",
    "constrained = True     # by setting constrained = True, GraspChecker will check collision in interpolated poses too."
   ]
  },
  {
   "cell_type": "code",
   "execution_count": 24,
   "metadata": {},
   "outputs": [
    {
     "name": "stdout",
     "output_type": "stream",
     "text": [
      "try constrained motion\n",
      "constrained motion tried: True\n",
      "Result match for sweep to wp2: True / True\n"
     ]
    }
   ],
   "source": [
    "scenario = \"sweep to wp2\"\n",
    "from_state=sweep1_state.copy(pscene)\n",
    "Q_dict = list2dict(from_state.Q, gscene.joint_names)\n",
    "to_state = from_state.copy(pscene)\n",
    "to_state.set_binding_state(\n",
    "    (to_state.binding_state[1], \n",
    "     (obj_name, handle_name, actor_name, actor_geo)), \n",
    "    pscene)\n",
    "redundancy_dict = {obj_name:{handle_name:{\"w\":0}, \n",
    "                             actor_name:{\"w\":0}}}\n",
    "redundancy_values = {(obj_name, handle.name): calc_redundancy(redundancy_dict[obj_name][handle_name], handle),\n",
    "                     (obj_name, actor.name): calc_redundancy(redundancy_dict[obj_name][actor_name], actor)\n",
    "                    }\n",
    "\n",
    "pscene.set_object_state(from_state)\n",
    "gscene.show_pose(from_state.Q)\n",
    "success_mfilter = mfilter.check(actor, obj, handle, redundancy_values, Q_dict,constrained)\n",
    "Traj, LastQ, error, success = mplan.plan_algorithm(\n",
    "    from_state, to_state, binding_list=binding_list, redundancy_values=redundancy_values,\n",
    "    timeout=30)\n",
    "if success:\n",
    "    gscene.show_motion(Traj, period=0.05)\n",
    "print(\"Result {} for {}: {} / {}\".format(\"match\" if success_mfilter==success else \"mismatch\", scenario, success_mfilter, success))\n",
    "assert success_mfilter == success, \"Failure: filter result not same with motion planning result\""
   ]
  },
  {
   "cell_type": "code",
   "execution_count": 25,
   "metadata": {},
   "outputs": [
    {
     "name": "stdout",
     "output_type": "stream",
     "text": [
      "try constrained motion\n",
      "constrained motion tried: False\n",
      "Result match for sweep to wp2 with obstacle: False / False\n"
     ]
    }
   ],
   "source": [
    "scenario = \"sweep to wp2 with obstacle\"\n",
    "obstacle.set_offset_tf(center=(0.5, 0.0, 0.2)) # return obstacle\n",
    "gscene.update_markers_all()\n",
    "\n",
    "pscene.set_object_state(from_state)\n",
    "gscene.show_pose(from_state.Q)\n",
    "success_mfilter = mfilter.check(actor, obj, handle, redundancy_values, Q_dict,constrained)\n",
    "Traj, LastQ, error, success = mplan.plan_algorithm(\n",
    "    from_state, to_state, binding_list=binding_list, redundancy_values=redundancy_values,\n",
    "    timeout=30)\n",
    "\n",
    "gscene.show_motion(Traj, period=0.05)\n",
    "obstacle.set_offset_tf(center=(0.5, 0.4, 0.031)) # return obstacle\n",
    "gscene.update_markers_all()\n",
    "print(\"Result {} for {}: {} / {}\".format(\"match\" if success_mfilter==success else \"mismatch\", scenario, success_mfilter, success))\n",
    "assert success_mfilter == success, \"Failure: filter result not same with motion planning result\""
   ]
  },
  {
   "cell_type": "code",
   "execution_count": null,
   "metadata": {},
   "outputs": [],
   "source": []
  },
  {
   "cell_type": "markdown",
   "metadata": {},
   "source": [
    "##### planning: pick & place & sweep"
   ]
  },
  {
   "cell_type": "code",
   "execution_count": 26,
   "metadata": {},
   "outputs": [],
   "source": [
    "from pkg.planning.pipeline import PlanningPipeline\n",
    "ppline = PlanningPipeline(pscene)\n",
    "ppline.set_motion_planner(MoveitPlanner(pscene, \n",
    "                                        motion_filters=[GraspChecker(pscene)]))\n",
    "from pkg.planning.task.rrt import TaskRRT\n",
    "ppline.set_task_planner(TaskRRT(pscene))"
   ]
  },
  {
   "cell_type": "markdown",
   "metadata": {},
   "source": [
    "##### - single process"
   ]
  },
  {
   "cell_type": "code",
   "execution_count": 28,
   "metadata": {
    "scrolled": true
   },
   "outputs": [
    {
     "name": "stdout",
     "output_type": "stream",
     "text": [
      "try: 0 - ('floor', 0)->('floor', 1)\n",
      "try transition motion\n",
      "transition motion tried: True\n",
      "result: 0 - ('floor', 0)->('floor', 1) = success\n",
      "branching: 0->1 (0.02/100.0 s, steps/err: 13(17.0340538025 ms)/0.00171704612765)\n",
      "======================================================================================================================================================\n",
      "try: 1 - ('floor', 1)->('floor', 2)\n",
      "try constrained motion\n",
      "constrained motion tried: True\n",
      "result: 1 - ('floor', 1)->('floor', 2) = success\n",
      "branching: 1->2 (6.99/100.0 s, steps/err: 50(6973.66213799 ms)/0.000831001505272)\n",
      "======================================================================================================================================================\n",
      "try: 2 - ('floor', 2)->('gripper', 2)\n",
      "try transition motion\n",
      "transition motion tried: True\n",
      "=============== try reaching goal from ('gripper', 2) =================\n",
      "result: 2 - ('floor', 2)->('gripper', 2) = success\n",
      "branching: 2->3 (7.03/100.0 s, steps/err: 28(35.2909564972 ms)/0.00139651655886)\n",
      "======================================================================================================================================================\n",
      "try: 3 - ('gripper', 2)->('goal', 2)\n",
      "try transition motion\n",
      "transition motion tried: True\n",
      "result: 3 - ('gripper', 2)->('goal', 2) = success\n",
      "branching: 3->4 (7.06/100.0 s, steps/err: 29(32.1509838104 ms)/0.0019673039018)\n",
      "======================================================================================================================================================\n",
      "++ adding return motion to acquired answer ++\n",
      "try joint motion\n",
      "joint motion tried: True\n",
      "=========================================================================================================\n",
      "======================= terminated 0: first answer acquired ===============================\n",
      "=========================================================================================================\n"
     ]
    }
   ],
   "source": [
    "ppline.search(initial_state, goal_nodes=[(\"goal\", 2)], verbose=True, \n",
    "              display=False, dt_vis=0.01, timeout_loop=100, multiprocess=False, timeout=1, timeout_constrained=10)\n",
    "schedules = ppline.tplan.find_schedules()\n",
    "schedules_sorted = ppline.tplan.sort_schedule(schedules)\n",
    "ppline.play_schedule(ppline.tplan.idxSchedule2SnodeScedule(schedules_sorted[0]), period=0.05)"
   ]
  },
  {
   "cell_type": "markdown",
   "metadata": {},
   "source": [
    "##### - multi process"
   ]
  },
  {
   "cell_type": "code",
   "execution_count": 29,
   "metadata": {
    "scrolled": true
   },
   "outputs": [
    {
     "name": "stdout",
     "output_type": "stream",
     "text": [
      "Use 20/20 agents\n",
      "try: 0 - ('floor', 0)->('floor', 1)\n",
      "try transition motion\n",
      "try: 0 - ('floor', 0)->('gripper', 0)\n",
      "result: 0 - ('floor', 0)->('gripper', 0) = fail\n",
      "try: 0 - ('floor', 0)->('gripper', 0)\n",
      "result: 0 - ('floor', 0)->('gripper', 0) = fail\n",
      "try: 0 - ('floor', 0)->('gripper', 0)\n",
      "result: 0 - ('floor', 0)->('gripper', 0) = fail\n",
      "try: 0 - ('floor', 0)->('floor', 1)\n",
      "try: 0 - ('floor', 0)->('gripper', 0)\n",
      "transition motion tried: True\n",
      "try transition motion\n",
      "try transition motion\n",
      "transition motion tried: True\n",
      "transition motion tried: True\n",
      "result: 0 - ('floor', 0)->('floor', 1) = success\n",
      "branching: 0->1 (0.13/100.0 s, steps/err: 6(77.8481960297 ms)/0.00182201825283)\n",
      "======================================================================================================================================================\n",
      "result: 0 - ('floor', 0)->('gripper', 0) = success\n",
      "result: 0 - ('floor', 0)->('floor', 1) = success\n",
      "branching: 0->2 (0.16/100.0 s, steps/err: 21(42.7601337433 ms)/0.00178394987631)\n",
      "branching: 0->3 (0.17/100.0 s, steps/err: 11(64.7659301758 ms)/0.00140370243556)\n",
      "======================================================================================================================================================\n",
      "try: 2 - ('gripper', 0)->('floor', 0)\n",
      "try: 2 - ('gripper', 0)->('floor', 0)\n",
      "try transition motion\n",
      "======================================================================================================================================================\n",
      "try transition motion\n",
      "try: 2 - ('gripper', 0)->('goal', 0)\n",
      "try transition motion\n",
      "transition motion tried: True\n",
      "result: 2 - ('gripper', 0)->('goal', 0) = success\n",
      "branching: 2->4 (0.25/100.0 s, steps/err: 11(30.4279327393 ms)/0.00136744052812)\n",
      "======================================================================================================================================================\n",
      "try: 4 - ('goal', 0)->('goal', 1)\n",
      "try transition motion\n",
      "transition motion tried: True\n",
      "=============== try reaching goal from ('goal', 1) =================\n",
      "result: 4 - ('goal', 0)->('goal', 1) = success\n",
      "branching: 4->5 (0.28/100.0 s, steps/err: 7(20.8818912506 ms)/0.000855491621007)\n",
      "======================================================================================================================================================\n",
      "try: 5 - ('goal', 1)->('goal', 2)\n",
      "try constrained motion\n",
      "try: 0 - ('floor', 0)->('floor', 1)\n",
      "try: 0 - ('floor', 0)->('floor', 1)\n",
      "try transition motion\n",
      "try transition motion\n",
      "try: 5 - ('goal', 1)->('goal', 2)\n",
      "try: 3 - ('floor', 1)->('floor', 2)\n",
      "try: 0 - ('floor', 0)->('floor', 1)\n",
      "try transition motion\n",
      "try: 4 - ('goal', 0)->('goal', 1)\n",
      "try constrained motion\n",
      "transition motion tried: True\n",
      "transition motion tried: True\n",
      "try: 2 - ('gripper', 0)->('goal', 0)\n",
      "try transition motion\n",
      "try constrained motion\n",
      "try transition motion\n",
      "result: 0 - ('floor', 0)->('floor', 1) = success\n",
      "branching: 0->7 (0.36/100.0 s, steps/err: 8(47.6410388947 ms)/0.00176856122516)\n",
      "transition motion tried: True\n",
      "transition motion tried: True\n",
      "======================================================================================================================================================\n",
      "=============== try reaching goal from ('goal', 1) =================\n",
      "result: 0 - ('floor', 0)->('floor', 1) = success\n",
      "result: 0 - ('floor', 0)->('floor', 1) = success\n",
      "try: 8 - ('goal', 1)->('goal', 2)\n",
      "branching: 0->9 (0.42/100.0 s, steps/err: 6(84.9659442902 ms)/0.00144672015101)\n",
      "======================================================================================================================================================\n",
      "branching: 0->6 (0.41/100.0 s, steps/err: 10(38.6838912964 ms)/0.00198764948986)\n",
      "result: 4 - ('goal', 0)->('goal', 1) = success\n",
      "======================================================================================================================================================\n",
      "try: 4 - ('goal', 0)->('goal', 1)\n",
      "branching: 4->8 (0.44/100.0 s, steps/err: 6(55.675983429 ms)/0.00139112780146)\n",
      "try: 2 - ('gripper', 0)->('goal', 0)\n",
      "try: 0 - ('floor', 0)->('floor', 1)\n",
      "try: 2 - ('gripper', 0)->('gripper', 1)\n",
      "try transition motion\n",
      "try: 4 - ('goal', 0)->('gripper', 0)\n",
      "======================================================================================================================================================\n",
      "try constrained motion\n",
      "try transition motion\n",
      "try: 4 - ('goal', 0)->('gripper', 0)\n",
      "try: 0 - ('floor', 0)->('floor', 1)\n",
      "try: 4 - ('goal', 0)->('gripper', 0)\n",
      "try transition motion\n",
      "try transition motion\n",
      "try transition motion\n",
      "try transition motion\n",
      "try: 2 - ('gripper', 0)->('gripper', 1)\n",
      "try: 0 - ('floor', 0)->('floor', 1)\n",
      "try transition motion\n",
      "transition motion tried: True\n",
      "try: 2 - ('gripper', 0)->('gripper', 1)\n",
      "try: 5 - ('goal', 1)->('goal', 2)\n",
      "try transition motion\n",
      "try: 2 - ('gripper', 0)->('floor', 0)\n",
      "transition motion tried: True\n",
      "result: 4 - ('goal', 0)->('gripper', 0) = fail\n",
      "try transition motion\n",
      "=============== try reaching goal from ('goal', 1) =================\n",
      "result: 2 - ('gripper', 0)->('gripper', 1) = success\n",
      "try constrained motion\n",
      "transition motion tried: True\n",
      "transition motion tried: True\n",
      "transition motion tried: True\n",
      "try: 10 - ('goal', 1)->('goal', 2)\n",
      "try transition motion\n",
      "result: 4 - ('goal', 0)->('goal', 1) = success\n",
      "try transition motion\n",
      "transition motion tried: True\n",
      "try constrained motion\n",
      "result: 0 - ('floor', 0)->('floor', 1) = success\n",
      "transition motion tried: True\n",
      "branching: 2->11 (0.57/100.0 s, steps/err: 15(87.0099067688 ms)/0.00115484511409)\n",
      "result: 4 - ('goal', 0)->('gripper', 0) = success\n",
      "branching: 4->10 (0.59/100.0 s, steps/err: 9(70.7161426544 ms)/0.00143348154676)\n",
      "======================================================================================================================================================\n",
      "branching: 0->12 (0.59/100.0 s, steps/err: 12(114.354133606 ms)/0.00125226159592)\n",
      "======================================================================================================================================================\n",
      "result: 4 - ('goal', 0)->('gripper', 0) = success\n",
      "result: 0 - ('floor', 0)->('floor', 1) = success\n",
      "try: 5 - ('goal', 1)->('goal', 2)\n",
      "======================================================================================================================================================\n",
      "try: 12 - ('floor', 1)->('floor', 2)\n",
      "branching: 4->13 (0.63/100.0 s, steps/err: 5(105.763912201 ms)/0.00118709856203)\n",
      "try: 4 - ('goal', 0)->('goal', 1)\n",
      "transition motion tried: True\n",
      "======================================================================================================================================================\n",
      "branching: 0->14 (0.67/100.0 s, steps/err: 8(80.738067627 ms)/0.00141623317318)\n",
      "======================================================================================================================================================\n",
      "try constrained motion\n",
      "result: 0 - ('floor', 0)->('floor', 1) = success\n",
      "branching: 4->15 (0.66/100.0 s, steps/err: 26(127.358913422 ms)/0.00168823874655)\n",
      "try transition motion\n",
      "result: 2 - ('gripper', 0)->('gripper', 1) = success\n",
      "try: 4 - ('goal', 0)->('gripper', 0)\n",
      "try: 2 - ('gripper', 0)->('gripper', 1)\n",
      "try constrained motion\n",
      "======================================================================================================================================================\n",
      "branching: 2->17 (0.71/100.0 s, steps/err: 26(179.713964462 ms)/0.00135713446217)\n",
      "branching: 0->16 (0.7/100.0 s, steps/err: 12(152.52995491 ms)/0.00125299475443)\n",
      "try transition motion\n",
      "======================================================================================================================================================\n",
      "try: 2 - ('gripper', 0)->('gripper', 1)\n",
      "try transition motion\n",
      "try: 11 - ('gripper', 1)->('gripper', 2)\n",
      "======================================================================================================================================================\n",
      "transition motion tried: True\n",
      "try: 9 - ('floor', 1)->('floor', 2)\n",
      "transition motion tried: True\n",
      "try constrained motion\n",
      "try transition motion\n",
      "try constrained motion\n",
      "result: 2 - ('gripper', 0)->('gripper', 1) = success\n",
      "=============== try reaching goal from ('goal', 1) =================\n"
     ]
    },
    {
     "name": "stdout",
     "output_type": "stream",
     "text": [
      "transition motion tried: True\n",
      "result: 4 - ('goal', 0)->('goal', 1) = success\n",
      "branching: 2->18 (0.8/100.0 s, steps/err: 12(230.721950531 ms)/0.000990219093931)\n",
      "branching: 4->19 (0.8/100.0 s, steps/err: 33(78.2821178436 ms)/0.00122416256826)\n",
      "transition motion tried: True\n",
      "======================================================================================================================================================\n",
      "transition motion tried: True\n",
      "result: 2 - ('gripper', 0)->('gripper', 1) = success\n",
      "result: 2 - ('gripper', 0)->('gripper', 1) = success\n",
      "======================================================================================================================================================\n",
      "try: 19 - ('goal', 1)->('goal', 2)\n",
      "result: 4 - ('goal', 0)->('gripper', 0) = success\n",
      "branching: 2->20 (0.82/100.0 s, steps/err: 23(74.5029449463 ms)/0.00126133135113)\n",
      "try: 0 - ('floor', 0)->('gripper', 0)\n",
      "branching: 2->21 (0.84/100.0 s, steps/err: 23(83.7180614471 ms)/0.00125812426675)\n",
      "======================================================================================================================================================\n",
      "try constrained motion\n",
      "======================================================================================================================================================\n",
      "branching: 4->22 (0.85/100.0 s, steps/err: 41(118.750095367 ms)/0.00123267499426)\n",
      "try: 5 - ('goal', 1)->('goal', 2)\n",
      "try: 2 - ('gripper', 0)->('floor', 0)\n",
      "result: 0 - ('floor', 0)->('gripper', 0) = fail\n",
      "======================================================================================================================================================\n",
      "try constrained motion\n",
      "try transition motion\n",
      "try: 21 - ('gripper', 1)->('gripper', 2)\n",
      "try: 0 - ('floor', 0)->('floor', 1)\n",
      "try constrained motion\n",
      "try transition motion\n",
      "transition motion tried: False\n",
      "transition motion tried: False\n",
      "result: 2 - ('gripper', 0)->('floor', 0) = fail\n",
      "try: 13 - ('gripper', 0)->('goal', 0)\n",
      "result: 2 - ('gripper', 0)->('floor', 0) = fail\n",
      "try transition motion\n",
      "try: 4 - ('goal', 0)->('gripper', 0)\n",
      "try transition motion\n",
      "transition motion tried: True\n",
      "transition motion tried: True\n",
      "result: 13 - ('gripper', 0)->('goal', 0) = success\n",
      "transition motion tried: False\n",
      "result: 4 - ('goal', 0)->('gripper', 0) = success\n",
      "branching: 13->23 (1.38/100.0 s, steps/err: 40(91.4781093597 ms)/0.00137632728016)\n",
      "======================================================================================================================================================\n",
      "branching: 4->24 (1.4/100.0 s, steps/err: 20(83.046913147 ms)/0.00131696499293)\n",
      "try: 23 - ('goal', 0)->('goal', 1)\n",
      "result: 2 - ('gripper', 0)->('goal', 0) = fail\n",
      "======================================================================================================================================================\n",
      "try: 0 - ('floor', 0)->('floor', 1)\n",
      "try transition motion\n",
      "try transition motion\n",
      "try: 24 - ('gripper', 0)->('goal', 0)\n",
      "try transition motion\n",
      "transition motion tried: True\n",
      "transition motion tried: True\n",
      "result: 0 - ('floor', 0)->('floor', 1) = success\n",
      "result: 0 - ('floor', 0)->('floor', 1) = success\n",
      "transition motion tried: False\n",
      "transition motion tried: True\n",
      "branching: 0->25 (1.54/100.0 s, steps/err: 9(596.539974213 ms)/0.00143744100297)\n",
      "branching: 0->26 (1.55/100.0 s, steps/err: 7(75.3571987152 ms)/0.000676051848318)\n",
      "======================================================================================================================================================\n",
      "======================================================================================================================================================\n",
      "result: 2 - ('gripper', 0)->('goal', 0) = fail\n",
      "=============== try reaching goal from ('goal', 1) =================\n",
      "try: 27 - ('goal', 1)->('goal', 2)\n",
      "try: 0 - ('floor', 0)->('gripper', 0)\n",
      "try: 22 - ('gripper', 0)->('goal', 0)\n",
      "result: 23 - ('goal', 0)->('goal', 1) = success\n",
      "try constrained motion\n",
      "try transition motion\n",
      "branching: 23->27 (1.61/100.0 s, steps/err: 30(125.674009323 ms)/0.00186150762675)\n",
      "transition motion tried: False\n",
      "try transition motion\n",
      "======================================================================================================================================================\n",
      "result: 2 - ('gripper', 0)->('floor', 0) = fail\n",
      "transition motion tried: True\n",
      "transition motion tried: True\n",
      "try: 0 - ('floor', 0)->('floor', 1)\n",
      "try: 0 - ('floor', 0)->('gripper', 0)\n",
      "result: 0 - ('floor', 0)->('gripper', 0) = success\n",
      "result: 24 - ('gripper', 0)->('goal', 0) = success\n",
      "branching: 0->28 (1.67/100.0 s, steps/err: 12(51.0878562927 ms)/0.00175369077717)\n",
      "try transition motion\n",
      "try transition motion\n",
      "branching: 24->29 (1.69/100.0 s, steps/err: 5(184.53001976 ms)/0.00128789366341)\n",
      "======================================================================================================================================================\n",
      "======================================================================================================================================================\n",
      "try: 29 - ('goal', 0)->('goal', 1)\n",
      "try: 0 - ('floor', 0)->('floor', 1)\n",
      "try transition motion\n",
      "try transition motion\n",
      "transition motion tried: True\n",
      "result: 0 - ('floor', 0)->('floor', 1) = success\n",
      "transition motion tried: True\n",
      "=============== try reaching goal from ('goal', 1) =================\n",
      "transition motion tried: True\n",
      "transition motion tried: True\n",
      "branching: 0->30 (1.77/100.0 s, steps/err: 13(92.7321910858 ms)/0.0013003438016)\n",
      "result: 29 - ('goal', 0)->('goal', 1) = success\n",
      "result: 0 - ('floor', 0)->('gripper', 0) = success\n",
      "result: 22 - ('gripper', 0)->('goal', 0) = success\n",
      "======================================================================================================================================================\n",
      "branching: 29->31 (1.83/100.0 s, steps/err: 36(63.6548995972 ms)/0.00179508938622)\n",
      "branching: 22->33 (1.83/100.0 s, steps/err: 24(189.675807953 ms)/0.000851222851076)\n",
      "branching: 0->32 (1.81/100.0 s, steps/err: 15(138.919115067 ms)/0.00123889679369)\n",
      "try: 31 - ('goal', 1)->('goal', 2)\n",
      "======================================================================================================================================================\n",
      "======================================================================================================================================================\n",
      "======================================================================================================================================================\n",
      "try constrained motion\n",
      "try: 33 - ('goal', 0)->('goal', 1)\n",
      "try: 20 - ('gripper', 1)->('gripper', 2)\n",
      "try: 19 - ('goal', 1)->('goal', 2)\n",
      "try constrained motion\n",
      "transition motion tried: True\n",
      "try transition motion\n",
      "try constrained motion\n",
      "result: 0 - ('floor', 0)->('floor', 1) = success\n",
      "transition motion tried: False\n",
      "branching: 0->34 (1.95/100.0 s, steps/err: 14(205.916881561 ms)/0.00162264619782)\n",
      "result: 2 - ('gripper', 0)->('floor', 0) = fail\n",
      "try: 24 - ('gripper', 0)->('gripper', 1)\n",
      "======================================================================================================================================================\n",
      "transition motion tried: True\n",
      "try transition motion\n",
      "try: 27 - ('goal', 1)->('goal', 2)\n",
      "=============== try reaching goal from ('goal', 1) =================\n",
      "result: 33 - ('goal', 0)->('goal', 1) = success\n",
      "try constrained motion\n",
      "branching: 33->35 (2.06/100.0 s, steps/err: 21(141.115903854 ms)/0.000993982969218)\n",
      "======================================================================================================================================================\n",
      "try: 35 - ('goal', 1)->('goal', 2)\n",
      "try constrained motion\n",
      "constrained motion tried: True\n",
      "result: 27 - ('goal', 1)->('goal', 2) = success\n",
      "branching: 27->36 (2.64/100.0 s, steps/err: 68(589.579105377 ms)/0.00222248644068)\n",
      "======================================================================================================================================================\n",
      "++ adding return motion to acquired answer ++\n",
      "try joint motion\n",
      "joint motion tried: True\n",
      "=========================================================================================================\n"
     ]
    },
    {
     "name": "stdout",
     "output_type": "stream",
     "text": [
      "======================= terminated 2: first answer acquired ===============================\n",
      "=========================================================================================================\n",
      "constrained motion tried: True\n",
      "result: 12 - ('floor', 1)->('floor', 2) = success\n",
      "branching: 12->38 (5.7/100.0 s, steps/err: 50(4994.41623688 ms)/0.00074375535291)\n",
      "======================================================================================================================================================\n",
      "=========================================================================================================\n",
      "======================= terminated 10: first answer acquired from other agent ===============================\n",
      "=========================================================================================================\n",
      "constrained motion tried: True\n",
      "result: 8 - ('goal', 1)->('goal', 2) = success\n",
      "branching: 8->39 (7.06/100.0 s, steps/err: 69(6618.9467907 ms)/0.000776800560594)\n",
      "======================================================================================================================================================\n",
      "++ adding return motion to acquired answer ++\n",
      "try joint motion\n",
      "joint motion tried: True\n",
      "=========================================================================================================\n",
      "======================= terminated 3: first answer acquired ===============================\n",
      "=========================================================================================================\n",
      "constrained motion tried: False\n",
      "result: 3 - ('floor', 1)->('floor', 2) = fail\n",
      "=========================================================================================================\n",
      "======================= terminated 6: first answer acquired from other agent ===============================\n",
      "=========================================================================================================\n",
      "constrained motion tried: False\n",
      "result: 5 - ('goal', 1)->('goal', 2) = fail\n",
      "=========================================================================================================\n",
      "======================= terminated 1: first answer acquired from other agent ===============================\n",
      "=========================================================================================================\n",
      "constrained motion tried: False\n",
      "result: 5 - ('goal', 1)->('goal', 2) = fail\n",
      "=========================================================================================================\n",
      "======================= terminated 5: first answer acquired from other agent ===============================\n",
      "=========================================================================================================\n",
      "constrained motion tried: False\n",
      "result: 10 - ('goal', 1)->('goal', 2) = fail\n",
      "=========================================================================================================\n",
      "======================= terminated 14: first answer acquired from other agent ===============================\n",
      "=========================================================================================================\n",
      "constrained motion tried: False\n",
      "result: 11 - ('gripper', 1)->('gripper', 2) = fail\n",
      "=========================================================================================================\n",
      "======================= terminated 18: first answer acquired from other agent ===============================\n",
      "=========================================================================================================\n",
      "constrained motion tried: False\n",
      "result: 5 - ('goal', 1)->('goal', 2) = fail\n",
      "=========================================================================================================\n",
      "======================= terminated 16: first answer acquired from other agent ===============================\n",
      "=========================================================================================================\n",
      "constrained motion tried: False\n",
      "result: 9 - ('floor', 1)->('floor', 2) = fail\n",
      "=========================================================================================================\n",
      "======================= terminated 8: first answer acquired from other agent ===============================\n",
      "=========================================================================================================\n",
      "constrained motion tried: False\n",
      "result: 5 - ('goal', 1)->('goal', 2) = fail\n",
      "=========================================================================================================\n",
      "======================= terminated 15: first answer acquired from other agent ===============================\n",
      "=========================================================================================================\n",
      "constrained motion tried: False\n",
      "result: 19 - ('goal', 1)->('goal', 2) = fail\n",
      "=========================================================================================================\n",
      "======================= terminated 9: first answer acquired from other agent ===============================\n",
      "=========================================================================================================\n",
      "constrained motion tried: False\n",
      "result: 31 - ('goal', 1)->('goal', 2) = fail\n",
      "=========================================================================================================\n",
      "======================= terminated 0: first answer acquired from other agent ===============================\n",
      "=========================================================================================================\n",
      "constrained motion tried: False\n",
      "result: 19 - ('goal', 1)->('goal', 2) = fail\n",
      "=========================================================================================================\n",
      "======================= terminated 4: first answer acquired from other agent ===============================\n",
      "=========================================================================================================\n",
      "constrained motion tried: False\n",
      "result: 27 - ('goal', 1)->('goal', 2) = fail\n",
      "=========================================================================================================\n",
      "======================= terminated 13: first answer acquired from other agent ===============================\n",
      "=========================================================================================================\n",
      "constrained motion tried: False\n",
      "result: 5 - ('goal', 1)->('goal', 2) = fail\n",
      "=========================================================================================================\n",
      "======================= terminated 11: first answer acquired from other agent ===============================\n",
      "=========================================================================================================\n",
      "constrained motion tried: False\n",
      "result: 21 - ('gripper', 1)->('gripper', 2) = fail\n",
      "=========================================================================================================\n",
      "constrained motion tried: False\n",
      "======================= terminated 17: first answer acquired from other agent ===============================\n",
      "result: 20 - ('gripper', 1)->('gripper', 2) = fail\n",
      "=========================================================================================================\n",
      "=========================================================================================================\n",
      "======================= terminated 19: first answer acquired from other agent ===============================\n",
      "=========================================================================================================\n",
      "constrained motion tried: False\n",
      "result: 35 - ('goal', 1)->('goal', 2) = fail\n",
      "=========================================================================================================\n",
      "======================= terminated 7: first answer acquired from other agent ===============================\n",
      "=========================================================================================================\n"
     ]
    },
    {
     "name": "stderr",
     "output_type": "stream",
     "text": [
      "Process Process-14:\n",
      "Traceback (most recent call last):\n",
      "  File \"/usr/lib/python2.7/multiprocessing/process.py\", line 267, in _bootstrap\n",
      "    self.run()\n",
      "  File \"/usr/lib/python2.7/multiprocessing/process.py\", line 114, in run\n",
      "    self._target(*self._args, **self._kwargs)\n",
      "  File \"pkg/planning/pipeline.py\", line 152, in __search_loop\n",
      "    display=display, dt_vis=dt_vis, **kwargs)\n",
      "  File \"pkg/planning/pipeline.py\", line 200, in test_connection\n",
      "    self.mplan.plan_transition(from_state, to_state, redundancy_dict=redundancy_dict, **kwargs)\n",
      "  File \"pkg/planning/motion/interface.py\", line 105, in plan_transition\n",
      "    redundancy_values=redundancy_values, **kwargs)\n",
      "  File \"pkg/planning/motion/moveit/moveit_planner.py\", line 237, in plan_algorithm\n",
      "    group_name, tool.geometry.link_name, goal_pose, target.geometry.link_name, tuple(from_Q), timeout=timeout)\n",
      "  File \"pkg/planning/motion/moveit/moveit_py.py\", line 113, in plan_py\n",
      "    JointState(self.joint_num, *Q_init), plannerconfig, timeout)\n",
      "KeyboardInterrupt\n"
     ]
    }
   ],
   "source": [
    "ppline.search(initial_state, goal_nodes=[(\"goal\", 2)], verbose=True, \n",
    "              display=False, dt_vis=0.01, timeout_loop=100, multiprocess=True, timeout=1, timeout_constrained=10)\n",
    "schedules = ppline.tplan.find_schedules()\n",
    "schedules_sorted = ppline.tplan.sort_schedule(schedules)\n",
    "ppline.play_schedule(ppline.tplan.idxSchedule2SnodeScedule(schedules_sorted[0]), period=0.05)"
   ]
  },
  {
   "cell_type": "code",
   "execution_count": null,
   "metadata": {},
   "outputs": [],
   "source": []
  }
 ],
 "metadata": {
  "kernelspec": {
   "display_name": "Python 2",
   "language": "python",
   "name": "python2"
  },
  "language_info": {
   "codemirror_mode": {
    "name": "ipython",
    "version": 2
   },
   "file_extension": ".py",
   "mimetype": "text/x-python",
   "name": "python",
   "nbconvert_exporter": "python",
   "pygments_lexer": "ipython2",
   "version": "2.7.17"
  }
 },
 "nbformat": 4,
 "nbformat_minor": 2
}
