{
 "cells": [
  {
   "cell_type": "markdown",
   "metadata": {},
   "source": [
    "## Check List 4 - MotionFilter\n",
    "* Motion filters are quick decision makers that prevents trying to plan a infeasible motion.\n",
    "* Here, GraspChecker is tested with some example cases  \n",
    "* **4-A.1 GraspChecker**  \n",
    "  - pick, place, sweep\n",
    "    - single process\n",
    "    - multi process"
   ]
  },
  {
   "cell_type": "code",
   "execution_count": null,
   "metadata": {},
   "outputs": [],
   "source": []
  },
  {
   "cell_type": "markdown",
   "metadata": {},
   "source": [
    "## set running directory to project source"
   ]
  },
  {
   "cell_type": "code",
   "execution_count": 1,
   "metadata": {},
   "outputs": [],
   "source": [
    "import os\n",
    "import numpy as np\n",
    "import time\n",
    "os.chdir(os.path.join(os.environ[\"RNB_PLANNING_DIR\"], 'src'))"
   ]
  },
  {
   "cell_type": "code",
   "execution_count": null,
   "metadata": {},
   "outputs": [],
   "source": []
  },
  {
   "cell_type": "markdown",
   "metadata": {},
   "source": [
    "##### initialize CombinedRobot and GeometryScene"
   ]
  },
  {
   "cell_type": "code",
   "execution_count": 2,
   "metadata": {},
   "outputs": [
    {
     "name": "stdout",
     "output_type": "stream",
     "text": [
      "connection command:\n",
      "indy0: False\n"
     ]
    },
    {
     "name": "stderr",
     "output_type": "stream",
     "text": [
      "Unknown tag \"hardwareInterface\" in /robot[@name='custom_robots']/transmission[@name='indy0_tran0']/actuator[@name='indy0_motor0']\n",
      "Unknown tag \"hardwareInterface\" in /robot[@name='custom_robots']/transmission[@name='indy0_tran1']/actuator[@name='indy0_motor1']\n",
      "Unknown tag \"hardwareInterface\" in /robot[@name='custom_robots']/transmission[@name='indy0_tran2']/actuator[@name='indy0_motor2']\n",
      "Unknown tag \"hardwareInterface\" in /robot[@name='custom_robots']/transmission[@name='indy0_tran3']/actuator[@name='indy0_motor3']\n",
      "Unknown tag \"hardwareInterface\" in /robot[@name='custom_robots']/transmission[@name='indy0_tran4']/actuator[@name='indy0_motor4']\n",
      "Unknown tag \"hardwareInterface\" in /robot[@name='custom_robots']/transmission[@name='indy0_tran5']/actuator[@name='indy0_motor5']\n"
     ]
    },
    {
     "name": "stdout",
     "output_type": "stream",
     "text": [
      "Please create a subscriber to the marker\n",
      "publication OK\n",
      "published: [0, 0, 0, 0, 0, 0]\n",
      "Please create a subscriber to the marker\n"
     ]
    }
   ],
   "source": [
    "from pkg.controller.combined_robot import *\n",
    "from pkg.project_config import *\n",
    "from pkg.geometry.builder.scene_builder import SceneBuilder\n",
    "\n",
    "s_builder = SceneBuilder(None)   # create scene builder without detector for virtual scene\n",
    "crob = CombinedRobot(robots_on_scene=[\n",
    "    RobotConfig(0, RobotType.indy7, ((0,0,0), (0,0,0)), None)]\n",
    "                     , connection_list=[False])\n",
    "gscene = s_builder.create_gscene(crob)\n",
    "gtems = s_builder.add_robot_geometries(color=(0,1,0,0.5), display=True, collision=True)\n",
    "gscene.show_pose(crob.home_pose)"
   ]
  },
  {
   "cell_type": "markdown",
   "metadata": {},
   "source": [
    "##### add geometries"
   ]
  },
  {
   "cell_type": "code",
   "execution_count": 3,
   "metadata": {},
   "outputs": [],
   "source": [
    "from pkg.geometry.geometry import *\n",
    "\n",
    "# add environments (fixed=True for non-movable geometries)\n",
    "wall = gscene.create_safe(GEOTYPE.BOX, \"wall\", \"base_link\", (3,3,0.01), (-0.2,0,0), \n",
    "                           rpy=(0,np.pi/2,0), color=(0.8,0.8,0.8,0.5), display=True, fixed=True, collision=True)\n",
    "floor = gscene.create_safe(GEOTYPE.BOX, \"floor\", \"base_link\", (3,3,0.01), (0,0,0), \n",
    "                           rpy=(0,0,0), color=(0.8,0.8,0.8,0.5), display=True, fixed=True, collision=True)\n",
    "wp1 = gscene.create_safe(GEOTYPE.BOX, \"wp1\", \"base_link\", (0.1,0.1,0.01), (0.5,-0.2,0),rpy=(0,0,0), \n",
    "                         color=(0.8,0.2,0.2,1), display=True, fixed=True, collision=False)\n",
    "wp2 = gscene.create_safe(GEOTYPE.BOX, \"wp2\", \"base_link\", (0.1,0.1,0.01), (0.5,0.2,0), rpy=(0,0,0), \n",
    "                         color=(0.8,0.2,0.2,1), display=True, fixed=True, collision=False)\n",
    "goal = gscene.create_safe(GEOTYPE.BOX, \"goal\", \"base_link\", (0.1,0.1,0.01), (0.3,-0.4,0), \n",
    "                          rpy=(0,0,0), color=(0.2,0.2,0.8,1), display=True, fixed=True, collision=False)\n",
    " \n",
    "# add movable (fixed=False for movable geometries)\n",
    "box1 = gscene.create_safe(GEOTYPE.BOX, \"box1\", \"base_link\", (0.05,0.05,0.05), (0.3,0.4,0.031), \n",
    "                          rpy=(0,0,0), color=(0.8,0.2,0.2,1), display=True, fixed=False, collision=True)\n",
    "\n",
    "obstacle = gscene.create_safe(GEOTYPE.BOX, \"obstacle\", \"base_link\", (0.05,0.05,0.05), (0.5,0.4,0.031), \n",
    "                          rpy=(0,0,0), color=(0.8,0.8,0.2,1), display=True, fixed=False, collision=True)"
   ]
  },
  {
   "cell_type": "markdown",
   "metadata": {},
   "source": [
    "##### create PlanningScene"
   ]
  },
  {
   "cell_type": "code",
   "execution_count": 4,
   "metadata": {},
   "outputs": [],
   "source": [
    "from pkg.planning.scene import PlanningScene\n",
    "pscene = PlanningScene(gscene, combined_robot=crob)"
   ]
  },
  {
   "cell_type": "markdown",
   "metadata": {},
   "source": [
    "##### create_binder"
   ]
  },
  {
   "cell_type": "code",
   "execution_count": 5,
   "metadata": {},
   "outputs": [],
   "source": [
    "from pkg.planning.constraint.constraint_actor import PlacePlane, Gripper2Tool, SweepTool"
   ]
  },
  {
   "cell_type": "code",
   "execution_count": 6,
   "metadata": {},
   "outputs": [
    {
     "data": {
      "text/plain": [
       "<pkg.planning.constraint.constraint_actor.SweepTool at 0x7f483c0c9610>"
      ]
     },
     "execution_count": 6,
     "metadata": {},
     "output_type": "execute_result"
    }
   ],
   "source": [
    "# create PlacePlane on geometry \"floor\" and \"goal\"\n",
    "# when point is not set, the entire upper surface of the geometry becomes valid binding area.\n",
    "# when point is set, the specific point becomes the only valid binding point.\n",
    "pscene.create_binder(bname=\"floor\", gname=\"floor\", _type=PlacePlane)\n",
    "pscene.create_binder(bname=\"goal\", gname=\"goal\", _type=PlacePlane, point=(0,0,0.005))\n",
    "\n",
    "# add collision boundary for gripper base\n",
    "# - set link_name=\"indy0_tcp\" to attach the geometry to end-effector link\n",
    "# - it can be labeled as fixed=True, as it is \"fixed\" on the indy0_tcp link\n",
    "gripper =  gscene.create_safe(GEOTYPE.BOX, \"gripper\", link_name=\"indy0_tcp\", \n",
    "                                dims=(0.02,0.1,0.1), center=(0,0,0.05), rpy=(0,0,0), \n",
    "                                color=(0.8,0.2,0.2,0.5), display=True, fixed=True, collision=True)\n",
    "\n",
    "# add gripper fingers - By setting parent=\"gripper\", the position of geometry can be set relative to the parent geometry\n",
    "finger1 =  gscene.create_safe(GEOTYPE.BOX, \"finger1\", link_name=\"indy0_tcp\",\n",
    "                              dims=(0.02,0.02,0.1), center=(0,0.06,0.07), rpy=(0,0,0), \n",
    "                              color=(0.8,0.2,0.2,0.5), display=True, fixed=True, collision=True, parent=\"gripper\")\n",
    "finger2 =  gscene.create_safe(GEOTYPE.BOX, \"finger2\", link_name=\"indy0_tcp\", \n",
    "                              dims=(0.02,0.02,0.1), center=(0,-0.06,0.07), rpy=(0,0,0), \n",
    "                              color=(0.8,0.2,0.2,0.5), display=True, fixed=True, collision=True, parent=\"gripper\")\n",
    "\n",
    "# create Gripper2Tool binder\n",
    "# Gripper2Tool is a 2-finger gripper, which can rotate along z-direction.\n",
    "# To align the z-direction with the 2 fingers, rotate by 90 degree along roll axis.\n",
    "# The gripping point is (0,0,0.11) in local coordinate of \"gripper\" geometry\n",
    "pscene.create_binder(bname=\"grip0\", gname=\"gripper\", \n",
    "                     _type=Gripper2Tool, point=(0,0,0.11), rpy=(-np.pi/2,0,0))\n",
    "\n",
    "# Add virtual (no-collision) sweep face. the point is 0.2 m away from the \"indy0_tcp\" link\n",
    "# To match the z-direction with the target surface, the geometry is rotated 180 degrees in pitch-axis.\n",
    "sweep_face =  gscene.create_safe(GEOTYPE.BOX, \"sweep_face\", link_name=\"indy0_tcp\", \n",
    "                                dims=(0.05,0.05,0.001), center=(0,0,0.2), rpy=(0,np.pi,0), \n",
    "                                color=(0.2,0.2,0.8,0.1), display=True, fixed=True, collision=False)\n",
    "                                 \n",
    "# create SweepTool binder\n",
    "pscene.create_binder(bname=\"sweep_face\", gname=\"sweep_face\", _type=SweepTool, point=(0,0,0), rpy=(0,0,0))"
   ]
  },
  {
   "cell_type": "markdown",
   "metadata": {},
   "source": [
    "##### create_subject"
   ]
  },
  {
   "cell_type": "code",
   "execution_count": 7,
   "metadata": {},
   "outputs": [],
   "source": [
    "from pkg.planning.constraint.constraint_subject import Grasp2Point, PlacePoint, SweepPoint\n",
    "from pkg.planning.constraint.constraint_subject import CustomObject, SweepLineTask\n",
    "## create box object with grasping points along positive & negative y-direction and placement point in the bottom face\n",
    "box_obj = pscene.create_subject(oname=\"box1\", gname=\"box1\", _type=CustomObject, \n",
    "                             action_points_dict = {\n",
    "                                 \"handle1\": Grasp2Point(\"handle1\", box1, [0,0,0], [-np.pi/2,0,0]),\n",
    "                                 \"handle2\": Grasp2Point(\"handle2\", box1, [0,0,0], [np.pi/2,0,0]),\n",
    "                                 \"bottom\": PlacePoint(\"bottom\", box1, [0,0,-0.026], [0,0,0])})\n",
    "## create sweep task with 2 waypoints\n",
    "sweep = pscene.create_subject(oname=\"sweep\", gname=\"floor\", _type=SweepLineTask, \n",
    "                             action_points_dict = {\"wp1\": SweepPoint(\"wp1\", wp1, [0,0,0.005], [0,0,0]),\n",
    "                                                   \"wp2\": SweepPoint(\"wp2\", wp2, [0,0,0.005], [0,0,0])}\n",
    "                             )"
   ]
  },
  {
   "cell_type": "markdown",
   "metadata": {},
   "source": [
    "##### update_state\n",
    "* update_state(robot_pose) updates robot pose and gets corresponding binding status of current scene.\n",
    "* state.node of ('floor', 0) means the first subject (object) is placed on the floor and the second subject (sweep) has passed 0 waypoints"
   ]
  },
  {
   "cell_type": "code",
   "execution_count": 8,
   "metadata": {},
   "outputs": [
    {
     "name": "stdout",
     "output_type": "stream",
     "text": [
      "('floor', 0)\n"
     ]
    }
   ],
   "source": [
    "initial_state = pscene.update_state(crob.home_pose)\n",
    "print(initial_state.node)"
   ]
  },
  {
   "cell_type": "markdown",
   "metadata": {},
   "source": [
    "##### prepare motion planner"
   ]
  },
  {
   "cell_type": "code",
   "execution_count": 9,
   "metadata": {},
   "outputs": [],
   "source": [
    "from pkg.planning.motion.moveit.moveit_planner import MoveitPlanner\n",
    "mplan = MoveitPlanner(pscene)"
   ]
  },
  {
   "cell_type": "code",
   "execution_count": null,
   "metadata": {},
   "outputs": [],
   "source": []
  },
  {
   "cell_type": "markdown",
   "metadata": {},
   "source": [
    "##### Create GraspChecker"
   ]
  },
  {
   "cell_type": "code",
   "execution_count": 10,
   "metadata": {},
   "outputs": [],
   "source": [
    "from pkg.planning.filtering.grasp_filter import GraspChecker\n",
    "from pkg.planning.constraint.constraint_common import calc_redundancy\n",
    "mfilter = GraspChecker(pscene)"
   ]
  },
  {
   "cell_type": "code",
   "execution_count": null,
   "metadata": {},
   "outputs": [],
   "source": []
  },
  {
   "cell_type": "markdown",
   "metadata": {},
   "source": [
    "##### pick scenarios"
   ]
  },
  {
   "cell_type": "code",
   "execution_count": 11,
   "metadata": {},
   "outputs": [],
   "source": [
    "obj_name, handle_name, actor_name, actor_geo = \"box1\", \"handle1\", \"grip0\", \"gripper\"\n",
    "actor = pscene.actor_dict[actor_name]\n",
    "obj = pscene.subject_dict[obj_name]\n",
    "handle = obj.action_points_dict[handle_name]\n",
    "binding_list = [(obj_name, handle_name, actor_name, actor_geo)]\n",
    "constrained = False"
   ]
  },
  {
   "cell_type": "code",
   "execution_count": 12,
   "metadata": {
    "scrolled": true
   },
   "outputs": [
    {
     "name": "stdout",
     "output_type": "stream",
     "text": [
      "try transition motion\n",
      "transition motion tried: True\n",
      "Result match for vertial-access: True / True\n"
     ]
    }
   ],
   "source": [
    "scenario = \"vertial-access\"\n",
    "from_state=initial_state\n",
    "Q_dict = list2dict(from_state.Q, gscene.joint_names)\n",
    "to_state = from_state.copy(pscene)\n",
    "to_state.set_binding_state(\n",
    "    ((obj_name, handle_name, actor_name, actor_geo), \n",
    "     to_state.binding_state[1]), \n",
    "    pscene)\n",
    "redundancy_dict = {obj_name:{handle_name:{\"w\":np.pi}, \n",
    "                             actor_name:{\"w\":0}}}\n",
    "redundancy_values = {(obj_name, handle.name): calc_redundancy(redundancy_dict[obj_name][handle_name], handle),\n",
    "                     (obj_name, actor.name): calc_redundancy(redundancy_dict[obj_name][actor_name], actor)\n",
    "                    }\n",
    "\n",
    "pscene.set_object_state(from_state)\n",
    "gscene.show_pose(from_state.Q)\n",
    "success_mfilter = mfilter.check(actor, obj, handle, redundancy_values, Q_dict,constrained)\n",
    "\n",
    "Traj, LastQ, error, success = mplan.plan_algorithm(\n",
    "    from_state, to_state, binding_list=binding_list, redundancy_values=redundancy_values)\n",
    "if success:\n",
    "    pscene.set_object_state(from_state)\n",
    "    gscene.show_motion(Traj, period=0.05)\n",
    "    pick_state = pscene.rebind_all(binding_list, LastQ)\n",
    "print(\"Result {} for {}: {} / {}\".format(\"match\" if success_mfilter==success else \"mismatch\", scenario, success_mfilter, success))\n",
    "assert success_mfilter == success, \"Failure: filter result not same with motion planning result\""
   ]
  },
  {
   "cell_type": "code",
   "execution_count": 13,
   "metadata": {},
   "outputs": [
    {
     "name": "stdout",
     "output_type": "stream",
     "text": [
      "try transition motion\n",
      "transition motion tried: False\n",
      "Result match for vertical-access-with-obstacle: False / False\n"
     ]
    }
   ],
   "source": [
    "scenario = \"vertical-access-with-obstacle\"\n",
    "\n",
    "obstacle.set_offset_tf(center=(0.3,0.4,0.2)) # move obstacle\n",
    "gscene.update_markers_all()\n",
    "\n",
    "pscene.set_object_state(initial_state)\n",
    "gscene.show_pose(crob.home_pose)\n",
    "success_mfilter = mfilter.check(actor, obj, handle, redundancy_values, Q_dict,constrained)\n",
    "Traj, LastQ, error, success = mplan.plan_algorithm(\n",
    "    from_state, to_state, binding_list=binding_list, redundancy_values=redundancy_values)\n",
    "gscene.show_motion(Traj, period=0.05)\n",
    "print(\"Result {} for {}: {} / {}\".format(\"match\" if success_mfilter==success else \"mismatch\", scenario, success_mfilter, success))\n",
    "assert success_mfilter == success, \"Failure: filter result not same with motion planning result\"\n",
    "obstacle.set_offset_tf(center=(0.5, 0.4, 0.031)) # return obstacle\n",
    "gscene.update_markers_all()"
   ]
  },
  {
   "cell_type": "code",
   "execution_count": 14,
   "metadata": {},
   "outputs": [
    {
     "name": "stdout",
     "output_type": "stream",
     "text": [
      "try transition motion\n",
      "transition motion tried: False\n",
      "Result match for horizontal-access: False / False\n"
     ]
    }
   ],
   "source": [
    "scenario = \"horizontal-access\"\n",
    "\n",
    "redundancy_dict = {obj_name:{handle_name:{\"w\":np.pi/2}, \n",
    "                             actor_name:{\"w\":0}}}\n",
    "redundancy_values = {(obj_name, handle.name): calc_redundancy(redundancy_dict[obj_name][handle_name], handle),\n",
    "                     (obj_name, actor.name): calc_redundancy(redundancy_dict[obj_name][actor_name], actor)\n",
    "                    }\n",
    "\n",
    "pscene.set_object_state(initial_state)\n",
    "gscene.show_pose(crob.home_pose)\n",
    "success_mfilter = mfilter.check(actor, obj, handle, redundancy_values, Q_dict,constrained)\n",
    "Traj, LastQ, error, success = mplan.plan_algorithm(\n",
    "    from_state, to_state, binding_list=binding_list, redundancy_values=redundancy_values)\n",
    "gscene.show_motion(Traj, period=0.05)\n",
    "print(\"Result {} for {}: {} / {}\".format(\"match\" if success_mfilter==success else \"mismatch\", scenario, success_mfilter, success))\n",
    "assert success_mfilter == success, \"Failure: filter result not same with motion planning result\""
   ]
  },
  {
   "cell_type": "markdown",
   "metadata": {},
   "source": [
    "##### place scenarios"
   ]
  },
  {
   "cell_type": "code",
   "execution_count": 15,
   "metadata": {},
   "outputs": [],
   "source": [
    "obj_name, handle_name, actor_name, actor_geo = \"box1\", \"bottom\", \"goal\", \"goal\"\n",
    "actor = pscene.actor_dict[actor_name]\n",
    "obj = pscene.subject_dict[obj_name]\n",
    "handle = obj.action_points_dict[handle_name]\n",
    "binding_list = [(obj_name, handle_name, actor_name, actor_geo)]\n",
    "constrained = False"
   ]
  },
  {
   "cell_type": "code",
   "execution_count": 16,
   "metadata": {
    "scrolled": true
   },
   "outputs": [
    {
     "name": "stdout",
     "output_type": "stream",
     "text": [
      "try transition motion\n",
      "transition motion tried: True\n",
      "Result match for vertial-access: True / True\n"
     ]
    }
   ],
   "source": [
    "scenario = \"vertial-access\"\n",
    "from_state=pick_state\n",
    "Q_dict = list2dict(from_state.Q, gscene.joint_names)\n",
    "to_state = from_state.copy(pscene)\n",
    "to_state.set_binding_state(\n",
    "    ((obj_name, handle_name, actor_name, actor_geo), \n",
    "     to_state.binding_state[1]), \n",
    "    pscene)\n",
    "redundancy_dict = {obj_name:{handle_name:{\"w\":0}, \n",
    "                             actor_name:{\"w\":0}}}\n",
    "redundancy_values = {(obj_name, handle.name): calc_redundancy(redundancy_dict[obj_name][handle_name], handle),\n",
    "                     (obj_name, actor.name): calc_redundancy(redundancy_dict[obj_name][actor_name], actor)\n",
    "                    }\n",
    "\n",
    "pscene.set_object_state(from_state)\n",
    "gscene.show_pose(crob.home_pose)\n",
    "success_mfilter = mfilter.check(actor, obj, handle, redundancy_values, Q_dict,constrained)\n",
    "\n",
    "Traj, LastQ, error, success = mplan.plan_algorithm(\n",
    "    from_state, to_state, binding_list=binding_list, redundancy_values=redundancy_values)\n",
    "if success:\n",
    "    pscene.set_object_state(from_state)\n",
    "    gscene.show_motion(Traj, period=0.05)\n",
    "    place_state = pscene.rebind_all(binding_list, LastQ)\n",
    "print(\"Result {} for {}: {} / {}\".format(\"match\" if success_mfilter==success else \"mismatch\", scenario, success_mfilter, success))\n",
    "assert success_mfilter == success, \"Failure: filter result not same with motion planning result\""
   ]
  },
  {
   "cell_type": "code",
   "execution_count": 17,
   "metadata": {},
   "outputs": [
    {
     "name": "stdout",
     "output_type": "stream",
     "text": [
      "try transition motion\n",
      "transition motion tried: False\n",
      "Result match for vertical-access-with-obstacle: False / False\n"
     ]
    }
   ],
   "source": [
    "scenario = \"vertical-access-with-obstacle\"\n",
    "obstacle.set_offset_tf(center=(0.3,-0.4,0.031)) # move obstacle\n",
    "gscene.update_markers_all()\n",
    "\n",
    "pscene.set_object_state(from_state)\n",
    "gscene.show_pose(crob.home_pose)\n",
    "success_mfilter = mfilter.check(actor, obj, handle, redundancy_values, Q_dict,constrained)\n",
    "Traj, LastQ, error, success = mplan.plan_algorithm(\n",
    "    from_state, to_state, binding_list=binding_list, redundancy_values=redundancy_values)\n",
    "gscene.show_motion(Traj)\n",
    "\n",
    "obstacle.set_offset_tf(center=(0.5, 0.4, 0.031)) # return obstacle\n",
    "gscene.update_markers_all()\n",
    "print(\"Result {} for {}: {} / {}\".format(\"match\" if success_mfilter==success else \"mismatch\", scenario, success_mfilter, success))\n",
    "assert success_mfilter == success, \"Failure: filter result not same with motion planning result\""
   ]
  },
  {
   "cell_type": "markdown",
   "metadata": {},
   "source": [
    "##### sweep scenario 1: reaching first sweep point"
   ]
  },
  {
   "cell_type": "code",
   "execution_count": 18,
   "metadata": {},
   "outputs": [],
   "source": [
    "obj_name, handle_name, actor_name, actor_geo = \"sweep\", \"wp1\", \"sweep_face\", \"sweep_face\"\n",
    "actor = pscene.actor_dict[actor_name]\n",
    "obj = pscene.subject_dict[obj_name]\n",
    "handle = obj.action_points_dict[handle_name]\n",
    "binding_list = [(obj_name, handle_name, actor_name, actor_geo)]\n",
    "constrained = False"
   ]
  },
  {
   "cell_type": "code",
   "execution_count": 19,
   "metadata": {
    "scrolled": true
   },
   "outputs": [
    {
     "name": "stdout",
     "output_type": "stream",
     "text": [
      "try transition motion\n",
      "transition motion tried: True\n",
      "OK to go\n",
      "Result match for reach wp1: True / True\n"
     ]
    }
   ],
   "source": [
    "scenario = \"reach wp1\"\n",
    "from_state=place_state.copy(pscene)\n",
    "from_state.Q = crob.home_pose\n",
    "Q_dict = list2dict(from_state.Q, gscene.joint_names)\n",
    "to_state = from_state.copy(pscene)\n",
    "to_state.set_binding_state(\n",
    "    (to_state.binding_state[1], \n",
    "     (obj_name, handle_name, actor_name, actor_geo)), \n",
    "    pscene)\n",
    "redundancy_dict = {obj_name:{handle_name:{\"w\":0}, \n",
    "                             actor_name:{\"w\":0}}}\n",
    "redundancy_values = {(obj_name, handle.name): calc_redundancy(redundancy_dict[obj_name][handle_name], handle),\n",
    "                     (obj_name, actor.name): calc_redundancy(redundancy_dict[obj_name][actor_name], actor)\n",
    "                    }\n",
    "\n",
    "pscene.set_object_state(from_state)\n",
    "gscene.show_pose(from_state.Q)\n",
    "success_mfilter = mfilter.check(actor, obj, handle, redundancy_values, Q_dict,constrained)\n",
    "for _ in range(100):\n",
    "    Traj, LastQ, error, success = mplan.plan_algorithm(\n",
    "        from_state, to_state, binding_list=binding_list, redundancy_values=redundancy_values)\n",
    "    if success and np.abs(LastQ[0])<np.pi/2: # else, it will fail in sweep motion\n",
    "        break\n",
    "if success:\n",
    "    if np.abs(LastQ[0])<np.pi/2:\n",
    "        print(\"OK to go\")\n",
    "        pscene.set_object_state(from_state)\n",
    "        gscene.show_motion(Traj, period=0.05)\n",
    "        sweep1_state = pscene.rebind_all(binding_list, LastQ)\n",
    "    else:\n",
    "        print(\"Sweep will fail. Please try again from this step.\")\n",
    "print(\"Result {} for {}: {} / {}\".format(\"match\" if success_mfilter==success else \"mismatch\", scenario, success_mfilter, success))\n",
    "assert success_mfilter == success, \"Failure: filter result not same with motion planning result\""
   ]
  },
  {
   "cell_type": "code",
   "execution_count": 20,
   "metadata": {},
   "outputs": [
    {
     "name": "stdout",
     "output_type": "stream",
     "text": [
      "try transition motion\n",
      "transition motion tried: True\n",
      "Result match for reach wp1 with obstacle: True / True\n"
     ]
    }
   ],
   "source": [
    "scenario = \"reach wp1 with obstacle\"\n",
    "from_state=place_state.copy(pscene)\n",
    "obstacle.set_offset_tf(center=(0.4,-0.3,0.2)) # move obstacle\n",
    "gscene.update_markers_all()\n",
    "\n",
    "pscene.set_object_state(place_state)\n",
    "gscene.show_pose(from_state.Q)\n",
    "success_mfilter = mfilter.check(actor, obj, handle, redundancy_values, Q_dict,constrained)\n",
    "Traj, LastQ, error, success = mplan.plan_algorithm(\n",
    "    from_state, to_state, binding_list=binding_list, redundancy_values=redundancy_values)\n",
    "gscene.show_motion(Traj, period=0.05)\n",
    "    \n",
    "obstacle.set_offset_tf(center=(0.5, 0.4, 0.031)) # return obstacle\n",
    "gscene.update_markers_all()\n",
    "print(\"Result {} for {}: {} / {}\".format(\"match\" if success_mfilter==success else \"mismatch\", scenario, success_mfilter, success))\n",
    "assert success_mfilter == success, \"Failure: filter result not same with motion planning result\""
   ]
  },
  {
   "cell_type": "markdown",
   "metadata": {},
   "source": [
    "##### sweep scenario 2: sweep to second sweep point"
   ]
  },
  {
   "cell_type": "code",
   "execution_count": 21,
   "metadata": {},
   "outputs": [],
   "source": [
    "obj_name, handle_name, actor_name, actor_geo = \"sweep\", \"wp2\", \"sweep_face\", \"sweep_face\"\n",
    "actor = pscene.actor_dict[actor_name]\n",
    "obj = pscene.subject_dict[obj_name]\n",
    "handle = obj.action_points_dict[handle_name]\n",
    "binding_list = [(obj_name, handle_name, actor_name, actor_geo)]\n",
    "constrained = True     # by setting constrained = True, GraspChecker will check collision in interpolated poses too."
   ]
  },
  {
   "cell_type": "code",
   "execution_count": 22,
   "metadata": {},
   "outputs": [
    {
     "name": "stdout",
     "output_type": "stream",
     "text": [
      "try constrained motion\n",
      "constrained motion tried: True\n",
      "Result match for sweep to wp2: True / True\n"
     ]
    }
   ],
   "source": [
    "scenario = \"sweep to wp2\"\n",
    "from_state=sweep1_state.copy(pscene)\n",
    "Q_dict = list2dict(from_state.Q, gscene.joint_names)\n",
    "to_state = from_state.copy(pscene)\n",
    "to_state.set_binding_state(\n",
    "    (to_state.binding_state[1], \n",
    "     (obj_name, handle_name, actor_name, actor_geo)), \n",
    "    pscene)\n",
    "redundancy_dict = {obj_name:{handle_name:{\"w\":0}, \n",
    "                             actor_name:{\"w\":0}}}\n",
    "redundancy_values = {(obj_name, handle.name): calc_redundancy(redundancy_dict[obj_name][handle_name], handle),\n",
    "                     (obj_name, actor.name): calc_redundancy(redundancy_dict[obj_name][actor_name], actor)\n",
    "                    }\n",
    "\n",
    "pscene.set_object_state(from_state)\n",
    "gscene.show_pose(from_state.Q)\n",
    "success_mfilter = mfilter.check(actor, obj, handle, redundancy_values, Q_dict,constrained)\n",
    "Traj, LastQ, error, success = mplan.plan_algorithm(\n",
    "    from_state, to_state, binding_list=binding_list, redundancy_values=redundancy_values,\n",
    "    timeout=30)\n",
    "if success:\n",
    "    gscene.show_motion(Traj, period=0.05)\n",
    "print(\"Result {} for {}: {} / {}\".format(\"match\" if success_mfilter==success else \"mismatch\", scenario, success_mfilter, success))\n",
    "assert success_mfilter == success, \"Failure: filter result not same with motion planning result\""
   ]
  },
  {
   "cell_type": "code",
   "execution_count": 23,
   "metadata": {},
   "outputs": [
    {
     "name": "stdout",
     "output_type": "stream",
     "text": [
      "try constrained motion\n",
      "constrained motion tried: False\n",
      "Result match for sweep to wp2 with obstacle: False / False\n"
     ]
    }
   ],
   "source": [
    "scenario = \"sweep to wp2 with obstacle\"\n",
    "obstacle.set_offset_tf(center=(0.5, 0.0, 0.2)) # return obstacle\n",
    "gscene.update_markers_all()\n",
    "\n",
    "pscene.set_object_state(from_state)\n",
    "gscene.show_pose(from_state.Q)\n",
    "success_mfilter = mfilter.check(actor, obj, handle, redundancy_values, Q_dict,constrained)\n",
    "Traj, LastQ, error, success = mplan.plan_algorithm(\n",
    "    from_state, to_state, binding_list=binding_list, redundancy_values=redundancy_values,\n",
    "    timeout=30)\n",
    "\n",
    "gscene.show_motion(Traj, period=0.05)\n",
    "obstacle.set_offset_tf(center=(0.5, 0.4, 0.031)) # return obstacle\n",
    "gscene.update_markers_all()\n",
    "print(\"Result {} for {}: {} / {}\".format(\"match\" if success_mfilter==success else \"mismatch\", scenario, success_mfilter, success))\n",
    "assert success_mfilter == success, \"Failure: filter result not same with motion planning result\""
   ]
  },
  {
   "cell_type": "code",
   "execution_count": null,
   "metadata": {},
   "outputs": [],
   "source": []
  },
  {
   "cell_type": "markdown",
   "metadata": {},
   "source": [
    "##### planning: pick & place & sweep"
   ]
  },
  {
   "cell_type": "code",
   "execution_count": 24,
   "metadata": {},
   "outputs": [],
   "source": [
    "from pkg.planning.pipeline import PlanningPipeline\n",
    "ppline = PlanningPipeline(pscene)\n",
    "ppline.set_motion_planner(MoveitPlanner(pscene, \n",
    "                                        motion_filters=[GraspChecker(pscene)]))\n",
    "from pkg.planning.task.rrt import TaskRRT\n",
    "ppline.set_task_planner(TaskRRT(pscene))"
   ]
  },
  {
   "cell_type": "markdown",
   "metadata": {},
   "source": [
    "##### - single process"
   ]
  },
  {
   "cell_type": "code",
   "execution_count": 25,
   "metadata": {
    "scrolled": true
   },
   "outputs": [
    {
     "name": "stdout",
     "output_type": "stream",
     "text": [
      "try: 0 - ('floor', 0)->('floor', 1)\n",
      "try transition motion\n",
      "transition motion tried: True\n",
      "result: 0 - ('floor', 0)->('floor', 1) = success\n",
      "branching: 0->1 (0.02/100.0 s, steps/err: 14(20.3280448914 ms)/0.00217988449718)\n",
      "======================================================================================================================================================\n",
      "try: 1 - ('floor', 1)->('floor', 2)\n",
      "try constrained motion\n",
      "constrained motion tried: True\n",
      "result: 1 - ('floor', 1)->('floor', 2) = success\n",
      "branching: 1->2 (0.05/100.0 s, steps/err: 28(28.1670093536 ms)/0.00190506532324)\n",
      "======================================================================================================================================================\n",
      "try: 2 - ('floor', 2)->('gripper', 2)\n",
      "result: 2 - ('floor', 2)->('gripper', 2) = fail\n",
      "try: 1 - ('floor', 1)->('floor', 2)\n",
      "try constrained motion\n",
      "constrained motion tried: False\n",
      "result: 1 - ('floor', 1)->('floor', 2) = fail\n",
      "try: 0 - ('floor', 0)->('floor', 1)\n",
      "try transition motion\n",
      "transition motion tried: True\n",
      "result: 0 - ('floor', 0)->('floor', 1) = success\n",
      "branching: 0->3 (10.08/100.0 s, steps/err: 13(18.0420875549 ms)/0.00131604118665)\n",
      "======================================================================================================================================================\n",
      "try: 1 - ('floor', 1)->('floor', 2)\n",
      "try constrained motion\n",
      "constrained motion tried: True\n",
      "result: 1 - ('floor', 1)->('floor', 2) = success\n",
      "branching: 1->4 (10.12/100.0 s, steps/err: 83(37.9810333252 ms)/0.000796701025993)\n",
      "======================================================================================================================================================\n",
      "try: 4 - ('floor', 2)->('gripper', 2)\n",
      "result: 4 - ('floor', 2)->('gripper', 2) = fail\n",
      "try: 4 - ('floor', 2)->('gripper', 2)\n",
      "result: 4 - ('floor', 2)->('gripper', 2) = fail\n",
      "try: 0 - ('floor', 0)->('floor', 1)\n",
      "try transition motion\n",
      "transition motion tried: True\n",
      "result: 0 - ('floor', 0)->('floor', 1) = success\n",
      "branching: 0->5 (10.14/100.0 s, steps/err: 10(16.7551040649 ms)/0.00179035478302)\n",
      "======================================================================================================================================================\n",
      "try: 1 - ('floor', 1)->('floor', 2)\n",
      "try constrained motion\n",
      "constrained motion tried: True\n",
      "result: 1 - ('floor', 1)->('floor', 2) = success\n",
      "branching: 1->6 (10.16/100.0 s, steps/err: 41(20.0459957123 ms)/0.00135988200288)\n",
      "======================================================================================================================================================\n",
      "try: 6 - ('floor', 2)->('gripper', 2)\n",
      "result: 6 - ('floor', 2)->('gripper', 2) = fail\n",
      "try: 6 - ('floor', 2)->('gripper', 2)\n",
      "result: 6 - ('floor', 2)->('gripper', 2) = fail\n",
      "try: 0 - ('floor', 0)->('floor', 1)\n",
      "try transition motion\n",
      "transition motion tried: True\n",
      "result: 0 - ('floor', 0)->('floor', 1) = success\n",
      "branching: 0->7 (10.18/100.0 s, steps/err: 13(19.8750495911 ms)/0.00129233291867)\n",
      "======================================================================================================================================================\n",
      "try: 0 - ('floor', 0)->('floor', 1)\n",
      "try transition motion\n",
      "transition motion tried: True\n",
      "result: 0 - ('floor', 0)->('floor', 1) = success\n",
      "branching: 0->8 (10.2/100.0 s, steps/err: 7(17.1840190887 ms)/0.00160353527395)\n",
      "======================================================================================================================================================\n",
      "try: 1 - ('floor', 1)->('floor', 2)\n",
      "try constrained motion\n",
      "constrained motion tried: True\n",
      "result: 1 - ('floor', 1)->('floor', 2) = success\n",
      "branching: 1->9 (10.22/100.0 s, steps/err: 47(22.5970745087 ms)/0.00206213907145)\n",
      "======================================================================================================================================================\n",
      "try: 9 - ('floor', 2)->('gripper', 2)\n",
      "result: 9 - ('floor', 2)->('gripper', 2) = fail\n",
      "try: 0 - ('floor', 0)->('floor', 1)\n",
      "try transition motion\n",
      "transition motion tried: True\n",
      "result: 0 - ('floor', 0)->('floor', 1) = success\n",
      "branching: 0->10 (10.24/100.0 s, steps/err: 9(15.2099132538 ms)/0.00096517020593)\n",
      "======================================================================================================================================================\n",
      "try: 6 - ('floor', 2)->('gripper', 2)\n",
      "result: 6 - ('floor', 2)->('gripper', 2) = fail\n",
      "try: 1 - ('floor', 1)->('floor', 2)\n",
      "try constrained motion\n",
      "constrained motion tried: True\n",
      "result: 1 - ('floor', 1)->('floor', 2) = success\n",
      "branching: 1->11 (10.29/100.0 s, steps/err: 97(50.076007843 ms)/0.00147941228076)\n",
      "======================================================================================================================================================\n",
      "try: 11 - ('floor', 2)->('gripper', 2)\n",
      "result: 11 - ('floor', 2)->('gripper', 2) = fail\n",
      "try: 8 - ('floor', 1)->('floor', 2)\n",
      "try constrained motion\n",
      "constrained motion tried: True\n",
      "result: 8 - ('floor', 1)->('floor', 2) = success\n",
      "branching: 8->12 (10.32/100.0 s, steps/err: 57(22.0930576324 ms)/0.000906148302743)\n",
      "======================================================================================================================================================\n",
      "try: 12 - ('floor', 2)->('gripper', 2)\n",
      "result: 12 - ('floor', 2)->('gripper', 2) = fail\n",
      "try: 10 - ('floor', 1)->('floor', 2)\n",
      "try constrained motion\n",
      "constrained motion tried: False\n",
      "result: 10 - ('floor', 1)->('floor', 2) = fail\n",
      "try: 5 - ('floor', 1)->('floor', 2)\n",
      "try constrained motion\n",
      "constrained motion tried: True\n",
      "result: 5 - ('floor', 1)->('floor', 2) = success\n",
      "branching: 5->13 (20.35/100.0 s, steps/err: 45(25.671005249 ms)/0.00182803471167)\n",
      "======================================================================================================================================================\n",
      "try: 13 - ('floor', 2)->('gripper', 2)\n",
      "try transition motion\n",
      "transition motion tried: True\n",
      "=============== try reaching goal from ('gripper', 2) =================\n",
      "result: 13 - ('floor', 2)->('gripper', 2) = success\n",
      "branching: 13->14 (20.38/100.0 s, steps/err: 28(24.7800350189 ms)/0.00132542870239)\n",
      "======================================================================================================================================================\n",
      "try: 14 - ('gripper', 2)->('goal', 2)\n",
      "try transition motion\n",
      "transition motion tried: True\n",
      "result: 14 - ('gripper', 2)->('goal', 2) = success\n",
      "branching: 14->15 (20.41/100.0 s, steps/err: 34(32.2639942169 ms)/0.000675354922905)\n",
      "======================================================================================================================================================\n",
      "++ adding return motion to acquired answer ++\n",
      "try joint motion\n",
      "joint motion tried: True\n",
      "=========================================================================================================\n",
      "======================= terminated 0: first answer acquired ===============================\n",
      "=========================================================================================================\n"
     ]
    }
   ],
   "source": [
    "ppline.search(initial_state, goal_nodes=[(\"goal\", 2)], verbose=True, \n",
    "              display=False, dt_vis=0.01, timeout_loop=100, multiprocess=False, timeout=1, timeout_constrained=10)\n",
    "schedules = ppline.tplan.find_schedules()\n",
    "schedules_sorted = ppline.tplan.sort_schedule(schedules)\n",
    "ppline.play_schedule(ppline.tplan.idxSchedule2SnodeScedule(schedules_sorted[0]), period=0.05)"
   ]
  },
  {
   "cell_type": "markdown",
   "metadata": {},
   "source": [
    "##### - multi process"
   ]
  },
  {
   "cell_type": "code",
   "execution_count": 26,
   "metadata": {
    "scrolled": true
   },
   "outputs": [
    {
     "name": "stdout",
     "output_type": "stream",
     "text": [
      "Use 20/20 agents\n",
      "try: 0 - ('floor', 0)->('gripper', 0)\n",
      "result: 0 - ('floor', 0)->('gripper', 0) = fail\n",
      "try: 0 - ('floor', 0)->('floor', 1)\n",
      "try transition motion\n",
      "transition motion tried: True\n",
      "result: 0 - ('floor', 0)->('floor', 1) = success\n",
      "branching: 0->1 (0.09/100.0 s, steps/err: 7(32.3140621185 ms)/0.00138280408796)\n",
      "======================================================================================================================================================\n",
      "try: 1 - ('floor', 1)->('floor', 2)\n",
      "try constrained motion\n",
      "try: 1 - ('floor', 1)->('floor', 2)\n",
      "try constrained motion\n",
      "constrained motion tried: True\n",
      "result: 1 - ('floor', 1)->('floor', 2) = success\n",
      "branching: 1->2 (0.15/100.0 s, steps/err: 45(46.0939407349 ms)/0.000789607818582)\n",
      "======================================================================================================================================================\n",
      "try: 2 - ('floor', 2)->('gripper', 2)\n",
      "try transition motion\n",
      "constrained motion tried: True\n",
      "result: 1 - ('floor', 1)->('floor', 2) = success\n",
      "branching: 1->3 (0.17/100.0 s, steps/err: 72(31.7461490631 ms)/0.00186186985354)\n",
      "======================================================================================================================================================\n",
      "try: 3 - ('floor', 2)->('gripper', 2)\n",
      "try transition motion\n",
      "transition motion tried: True\n",
      "transition motion tried: True\n",
      "=============== try reaching goal from ('gripper', 2) =================\n",
      "try: 4 - ('gripper', 2)->('goal', 2)\n",
      "=============== try reaching goal from ('gripper', 2) =================\n",
      "result: 2 - ('floor', 2)->('gripper', 2) = success\n",
      "result: 3 - ('floor', 2)->('gripper', 2) = success\n",
      "branching: 3->5 (0.22/100.0 s, steps/err: 8(29.5848846436 ms)/0.00202363588083)\n",
      "branching: 2->4 (0.21/100.0 s, steps/err: 26(38.3899211884 ms)/0.00120120178471)\n",
      "======================================================================================================================================================\n",
      "try: 5 - ('gripper', 2)->('goal', 2)\n",
      "try transition motion\n",
      "======================================================================================================================================================\n",
      "try transition motion\n",
      "try: 4 - ('gripper', 2)->('goal', 2)\n",
      "try transition motion\n",
      "transition motion tried: True\n",
      "transition motion tried: True\n",
      "result: 5 - ('gripper', 2)->('goal', 2) = success\n",
      "try: 2 - ('floor', 2)->('gripper', 2)\n",
      "result: 4 - ('gripper', 2)->('goal', 2) = success\n",
      "branching: 5->6 (0.28/100.0 s, steps/err: 26(46.4398860931 ms)/0.00145595774034)\n",
      "branching: 4->7 (0.29/100.0 s, steps/err: 31(63.679933548 ms)/0.00159513749332)\n",
      "transition motion tried: True\n",
      "======================================================================================================================================================\n",
      "======================================================================================================================================================\n",
      "result: 2 - ('floor', 2)->('gripper', 2) = fail\n",
      "++ adding return motion to acquired answer ++\n",
      "++ adding return motion to acquired answer ++\n",
      "result: 4 - ('gripper', 2)->('goal', 2) = success\n",
      "try: 0 - ('floor', 0)->('gripper', 0)\n",
      "try: 5 - ('gripper', 2)->('goal', 2)\n",
      "try joint motion\n",
      "branching: 4->8 (0.33/100.0 s, steps/err: 29(65.4721260071 ms)/0.0013039126096)\n",
      "try joint motion\n",
      "try: 4 - ('gripper', 2)->('goal', 2)\n",
      "try transition motion\n",
      "try transition motion\n",
      "result: 0 - ('floor', 0)->('gripper', 0) = fail\n",
      "try: 0 - ('floor', 0)->('gripper', 0)\n",
      "======================================================================================================================================================\n",
      "++ adding return motion to acquired answer ++\n",
      "result: 0 - ('floor', 0)->('gripper', 0) = fail\n",
      "try: 3 - ('floor', 2)->('gripper', 2)\n",
      "try: 0 - ('floor', 0)->('floor', 1)\n",
      "try: 0 - ('floor', 0)->('gripper', 0)\n",
      "try joint motion\n",
      "transition motion tried: True\n",
      "try transition motion\n",
      "joint motion tried: True\n",
      "try: 0 - ('floor', 0)->('gripper', 0)\n",
      "joint motion tried: True\n",
      "transition motion tried: True\n",
      "try transition motion\n",
      "result: 0 - ('floor', 0)->('gripper', 0) = fail\n",
      "result: 0 - ('floor', 0)->('gripper', 0) = fail\n",
      "transition motion tried: True\n",
      "try: 3 - ('floor', 2)->('gripper', 2)\n",
      "=============== try reaching goal from ('gripper', 2) =================\n",
      "result: 3 - ('floor', 2)->('gripper', 2) = fail\n",
      "try: 0 - ('floor', 0)->('gripper', 0)\n",
      "result: 5 - ('gripper', 2)->('goal', 2) = success\n",
      "result: 3 - ('floor', 2)->('gripper', 2) = success\n",
      "result: 0 - ('floor', 0)->('gripper', 0) = fail\n",
      "joint motion tried: True\n",
      "try: 0 - ('floor', 0)->('gripper', 0)\n",
      "branching: 5->12 (0.45/100.0 s, steps/err: 23(99.6279716492 ms)/0.00137623450477)\n",
      "branching: 3->11 (0.46/100.0 s, steps/err: 16(47.7879047394 ms)/0.00104735540738)\n",
      "try: 11 - ('gripper', 2)->('goal', 2)\n",
      "transition motion tried: True\n",
      "try: 4 - ('gripper', 2)->('goal', 2)\n",
      "======================================================================================================================================================\n",
      "try: 0 - ('floor', 0)->('gripper', 0)\n",
      "try transition motion\n",
      "======================================================================================================================================================\n",
      "result: 4 - ('gripper', 2)->('goal', 2) = success\n",
      "result: 0 - ('floor', 0)->('gripper', 0) = fail\n",
      "try: 5 - ('gripper', 2)->('goal', 2)\n",
      "try transition motion\n",
      "try: 0 - ('floor', 0)->('floor', 1)\n",
      "result: 0 - ('floor', 0)->('floor', 1) = success\n",
      "branching: 4->13 (0.5/100.0 s, steps/err: 37(92.3118591309 ms)/0.0013406344292)\n",
      "result: 0 - ('floor', 0)->('gripper', 0) = fail\n",
      "try: 5 - ('gripper', 2)->('goal', 2)\n",
      "try transition motion\n",
      "++ adding return motion to acquired answer ++\n",
      "try transition motion\n",
      "try: 15 - ('floor', 1)->('floor', 2)\n",
      "transition motion tried: True\n",
      "try: 5 - ('gripper', 2)->('floor', 2)\n",
      "try transition motion\n",
      "result: 11 - ('gripper', 2)->('goal', 2) = success\n",
      "try joint motion\n",
      "branching: 11->16 (0.54/100.0 s, steps/err: 31(50.0149726868 ms)/0.00125466584618)\n",
      "branching: 0->15 (0.52/100.0 s, steps/err: 7(114.624023438 ms)/0.00186622789604)\n",
      "======================================================================================================================================================\n",
      "======================================================================================================================================================\n",
      "transition motion tried: True\n",
      "++ adding return motion to acquired answer ++\n",
      "try transition motion\n",
      "try constrained motion\n",
      "++ adding return motion to acquired answer ++\n",
      "try: 0 - ('floor', 0)->('gripper', 0)\n",
      "try joint motion\n",
      "result: 4 - ('gripper', 2)->('goal', 2) = success\n",
      "branching: 4->17 (0.58/100.0 s, steps/err: 31(80.7390213013 ms)/0.00156850426628)\n",
      "transition motion tried: True\n",
      "======================================================================================================================================================\n",
      "try joint motion\n",
      "======================================================================================================================================================\n",
      "result: 0 - ('floor', 0)->('gripper', 0) = fail\n",
      "++ adding return motion to acquired answer ++\n",
      "transition motion tried: True\n",
      "transition motion tried: True\n",
      "try: 3 - ('floor', 2)->('gripper', 2)\n",
      "try: 15 - ('floor', 1)->('floor', 2)\n",
      "=========================================================================================================\n",
      "try: 0 - ('floor', 0)->('gripper', 0)\n",
      "result: 3 - ('floor', 2)->('gripper', 2) = fail\n",
      "result: 5 - ('gripper', 2)->('goal', 2) = success\n",
      "======================= terminated 0: first answer acquired ===============================\n",
      "result: 5 - ('gripper', 2)->('goal', 2) = success\n",
      "try constrained motion\n",
      "=========================================================================================================\n",
      "=========================================================================================================\n",
      "try joint motion\n",
      "branching: 5->18 (0.63/100.0 s, steps/err: 25(84.6209526062 ms)/0.00223058531044)\n",
      "=========================================================================================================\n",
      "joint motion tried: True\n",
      "branching: 5->19 (0.63/100.0 s, steps/err: 22(85.8120918274 ms)/0.00130477504436)\n"
     ]
    },
    {
     "name": "stdout",
     "output_type": "stream",
     "text": [
      "result: 0 - ('floor', 0)->('floor', 1) = success\n",
      "joint motion tried: True\n",
      "=========================================================================================================\n",
      "======================================================================================================================================================\n",
      "======================= terminated 8: first answer acquired from other agent ===============================\n",
      "=========================================================================================================\n",
      "======================= terminated 2: first answer acquired ===============================\n",
      "++ adding return motion to acquired answer ++\n",
      "=========================================================================================================\n",
      "======================================================================================================================================================\n",
      "constrained motion tried: True\n",
      "branching: 0->20 (0.66/100.0 s, steps/err: 8(102.61797905 ms)/0.0018770323337)\n",
      "======================= terminated 15: first answer acquired from other agent ===============================\n",
      "=========================================================================================================\n",
      "joint motion tried: True\n",
      "======================================================================================================================================================\n",
      "result: 15 - ('floor', 1)->('floor', 2) = success\n",
      "=========================================================================================================\n",
      "=========================================================================================================\n",
      "try joint motion\n",
      "======================= terminated 1: first answer acquired ===============================\n",
      "result: 0 - ('floor', 0)->('gripper', 0) = fail\n",
      "++ adding return motion to acquired answer ++\n",
      "joint motion tried: True\n",
      "=========================================================================================================\n",
      "branching: 15->23 (0.7/100.0 s, steps/err: 44(73.734998703 ms)/0.00191569115022)\n",
      "======================================================================================================================================================\n",
      "======================= terminated 11: first answer acquired from other agent ===============================\n",
      "try joint motion\n",
      "=========================================================================================================\n",
      "=========================================================================================================\n",
      "=========================================================================================================\n",
      "======================= terminated 16: first answer acquired from other agent ===============================\n",
      "joint motion tried: True\n",
      "======================= terminated 14: first answer acquired from other agent ===============================\n",
      "=========================================================================================================\n",
      "=========================================================================================================\n",
      "======================= terminated 17: first answer acquired from other agent ===============================\n",
      "=========================================================================================================\n",
      "=========================================================================================================\n",
      "======================= terminated 13: first answer acquired from other agent ===============================\n",
      "=========================================================================================================\n",
      "=========================================================================================================\n",
      "=========================================================================================================\n",
      "======================= terminated 19: first answer acquired from other agent ===============================\n",
      "=========================================================================================================\n",
      "=========================================================================================================\n",
      "======================= terminated 18: first answer acquired from other agent ===============================\n",
      "=========================================================================================================\n",
      "joint motion tried: True\n",
      "=========================================================================================================\n",
      "======================= terminated 6: first answer acquired ===============================\n",
      "=========================================================================================================\n",
      "=========================================================================================================\n",
      "======================= terminated 9: first answer acquired ===============================\n",
      "=========================================================================================================\n",
      "=========================================================================================================\n",
      "======================= terminated 4: first answer acquired ===============================\n",
      "=========================================================================================================\n",
      "=========================================================================================================\n",
      "======================= terminated 7: first answer acquired ===============================\n",
      "=========================================================================================================\n",
      "=========================================================================================================\n",
      "======================= terminated 3: first answer acquired ===============================\n",
      "=========================================================================================================\n",
      "=========================================================================================================\n",
      "======================= terminated 10: first answer acquired ===============================\n",
      "=========================================================================================================\n",
      "transition motion tried: False\n",
      "result: 5 - ('gripper', 2)->('floor', 2) = fail\n",
      "=========================================================================================================\n",
      "======================= terminated 12: first answer acquired from other agent ===============================\n",
      "=========================================================================================================\n",
      "constrained motion tried: False\n",
      "result: 15 - ('floor', 1)->('floor', 2) = fail\n",
      "=========================================================================================================\n",
      "======================= terminated 5: first answer acquired from other agent ===============================\n",
      "=========================================================================================================\n"
     ]
    }
   ],
   "source": [
    "ppline.search(initial_state, goal_nodes=[(\"goal\", 2)], verbose=True, \n",
    "              display=False, dt_vis=0.01, timeout_loop=100, multiprocess=True, timeout=1, timeout_constrained=10)\n",
    "schedules = ppline.tplan.find_schedules()\n",
    "schedules_sorted = ppline.tplan.sort_schedule(schedules)\n",
    "ppline.play_schedule(ppline.tplan.idxSchedule2SnodeScedule(schedules_sorted[0]), period=0.05)"
   ]
  },
  {
   "cell_type": "code",
   "execution_count": null,
   "metadata": {},
   "outputs": [],
   "source": []
  }
 ],
 "metadata": {
  "kernelspec": {
   "display_name": "Python 2",
   "language": "python",
   "name": "python2"
  },
  "language_info": {
   "codemirror_mode": {
    "name": "ipython",
    "version": 2
   },
   "file_extension": ".py",
   "mimetype": "text/x-python",
   "name": "python",
   "nbconvert_exporter": "python",
   "pygments_lexer": "ipython2",
   "version": "2.7.17"
  }
 },
 "nbformat": 4,
 "nbformat_minor": 2
}
