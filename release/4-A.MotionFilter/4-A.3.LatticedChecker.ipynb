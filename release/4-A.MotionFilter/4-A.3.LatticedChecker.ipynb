{
 "cells": [
  {
   "cell_type": "markdown",
   "metadata": {},
   "source": [
    "## Check List 4 - MotionFilter\n",
    "* Motion filters are quick decision makers that prevents trying to plan a infeasible motion.\n",
    "* Here, all filtering algorithms are tested with some example cases  \n",
    "*\\* ~~Strikethrough~~ means no-error but none-functional cases.*\n",
    "* **4-A.3 LatticedChecker**  \n",
    "  - pick, place, ~~sweep~~\n",
    "    - single process  \n",
    "    - *multi process is not supported with LatticedChecker, which uses GPU*"
   ]
  },
  {
   "cell_type": "code",
   "execution_count": null,
   "metadata": {},
   "outputs": [],
   "source": []
  },
  {
   "cell_type": "markdown",
   "metadata": {},
   "source": [
    "## set running directory to project source"
   ]
  },
  {
   "cell_type": "code",
   "execution_count": 1,
   "metadata": {},
   "outputs": [],
   "source": [
    "import os\n",
    "import numpy as np\n",
    "import time\n",
    "os.chdir(os.path.join(os.environ[\"RNB_PLANNING_DIR\"], 'src'))"
   ]
  },
  {
   "cell_type": "code",
   "execution_count": null,
   "metadata": {},
   "outputs": [],
   "source": []
  },
  {
   "cell_type": "markdown",
   "metadata": {},
   "source": [
    "##### initialize CombinedRobot and GeometryScene"
   ]
  },
  {
   "cell_type": "code",
   "execution_count": 2,
   "metadata": {},
   "outputs": [
    {
     "name": "stdout",
     "output_type": "stream",
     "text": [
      "connection command:\n",
      "indy0: False\n"
     ]
    },
    {
     "name": "stderr",
     "output_type": "stream",
     "text": [
      "Unknown tag \"hardwareInterface\" in /robot[@name='custom_robots']/transmission[@name='indy0_tran0']/actuator[@name='indy0_motor0']\n",
      "Unknown tag \"hardwareInterface\" in /robot[@name='custom_robots']/transmission[@name='indy0_tran1']/actuator[@name='indy0_motor1']\n",
      "Unknown tag \"hardwareInterface\" in /robot[@name='custom_robots']/transmission[@name='indy0_tran2']/actuator[@name='indy0_motor2']\n",
      "Unknown tag \"hardwareInterface\" in /robot[@name='custom_robots']/transmission[@name='indy0_tran3']/actuator[@name='indy0_motor3']\n",
      "Unknown tag \"hardwareInterface\" in /robot[@name='custom_robots']/transmission[@name='indy0_tran4']/actuator[@name='indy0_motor4']\n",
      "Unknown tag \"hardwareInterface\" in /robot[@name='custom_robots']/transmission[@name='indy0_tran5']/actuator[@name='indy0_motor5']\n"
     ]
    },
    {
     "name": "stdout",
     "output_type": "stream",
     "text": [
      "Please create a subscriber to the marker\n",
      "publication OK\n",
      "published: [0, 0, 0, 0, 0, 0]\n",
      "Please create a subscriber to the marker\n"
     ]
    }
   ],
   "source": [
    "from pkg.controller.combined_robot import *\n",
    "from pkg.project_config import *\n",
    "from pkg.geometry.builder.scene_builder import SceneBuilder\n",
    "\n",
    "s_builder = SceneBuilder(None)   # create scene builder without detector for virtual scene\n",
    "crob = CombinedRobot(robots_on_scene=[\n",
    "    RobotConfig(0, RobotType.indy7, ((0,0,0), (0,0,0)), None)]\n",
    "                     , connection_list=[False])\n",
    "gscene = s_builder.create_gscene(crob)\n",
    "gtems = s_builder.add_robot_geometries(color=(0,1,0,0.5), display=True, collision=True)\n",
    "gscene.show_pose(crob.home_pose)"
   ]
  },
  {
   "cell_type": "markdown",
   "metadata": {},
   "source": [
    "##### add geometries"
   ]
  },
  {
   "cell_type": "code",
   "execution_count": 3,
   "metadata": {},
   "outputs": [],
   "source": [
    "from pkg.geometry.geometry import *\n",
    "\n",
    "# add environments (fixed=True for non-movable geometries)\n",
    "wall = gscene.create_safe(GEOTYPE.BOX, \"wall\", \"base_link\", (3,3,0.01), (-0.2,0,0), \n",
    "                           rpy=(0,np.pi/2,0), color=(0.8,0.8,0.8,0.5), display=True, fixed=True, collision=True)\n",
    "floor = gscene.create_safe(GEOTYPE.BOX, \"floor\", \"base_link\", (3,3,0.01), (0,0,0), \n",
    "                           rpy=(0,0,0), color=(0.8,0.8,0.8,0.5), display=True, fixed=True, collision=True)\n",
    "wp1 = gscene.create_safe(GEOTYPE.BOX, \"wp1\", \"base_link\", (0.1,0.1,0.01), (0.5,-0.2,0),rpy=(0,0,0), \n",
    "                         color=(0.8,0.2,0.2,1), display=True, fixed=True, collision=False)\n",
    "wp2 = gscene.create_safe(GEOTYPE.BOX, \"wp2\", \"base_link\", (0.1,0.1,0.01), (0.5,0.2,0), rpy=(0,0,0), \n",
    "                         color=(0.8,0.2,0.2,1), display=True, fixed=True, collision=False)\n",
    "goal = gscene.create_safe(GEOTYPE.BOX, \"goal\", \"base_link\", (0.1,0.1,0.01), (0.3,-0.4,0), \n",
    "                          rpy=(0,0,0), color=(0.2,0.2,0.8,1), display=True, fixed=True, collision=False)\n",
    " \n",
    "# add movable (fixed=False for movable geometries)\n",
    "box1 = gscene.create_safe(GEOTYPE.BOX, \"box1\", \"base_link\", (0.05,0.05,0.05), (0.3,0.4,0.031), \n",
    "                          rpy=(0,0,0), color=(0.8,0.2,0.2,1), display=True, fixed=False, collision=True)\n",
    "\n",
    "obstacle = gscene.create_safe(GEOTYPE.BOX, \"obstacle\", \"base_link\", (0.05,0.05,0.05), (0.5,0.4,0.031), \n",
    "                          rpy=(0,0,0), color=(0.8,0.8,0.2,1), display=True, fixed=False, collision=True)"
   ]
  },
  {
   "cell_type": "markdown",
   "metadata": {},
   "source": [
    "##### create PlanningScene"
   ]
  },
  {
   "cell_type": "code",
   "execution_count": 4,
   "metadata": {},
   "outputs": [],
   "source": [
    "from pkg.planning.scene import PlanningScene\n",
    "pscene = PlanningScene(gscene, combined_robot=crob)"
   ]
  },
  {
   "cell_type": "markdown",
   "metadata": {},
   "source": [
    "##### create_binder"
   ]
  },
  {
   "cell_type": "code",
   "execution_count": 5,
   "metadata": {},
   "outputs": [],
   "source": [
    "from pkg.planning.constraint.constraint_actor import PlacePlane, Gripper2Tool, SweepTool"
   ]
  },
  {
   "cell_type": "code",
   "execution_count": 6,
   "metadata": {},
   "outputs": [
    {
     "data": {
      "text/plain": [
       "<pkg.planning.constraint.constraint_actor.SweepTool at 0x7f560f8aea50>"
      ]
     },
     "execution_count": 6,
     "metadata": {},
     "output_type": "execute_result"
    }
   ],
   "source": [
    "# create PlacePlane on geometry \"floor\" and \"goal\"\n",
    "# when point is not set, the entire upper surface of the geometry becomes valid binding area.\n",
    "# when point is set, the specific point becomes the only valid binding point.\n",
    "pscene.create_binder(bname=\"floor\", gname=\"floor\", _type=PlacePlane)\n",
    "pscene.create_binder(bname=\"goal\", gname=\"goal\", _type=PlacePlane, point=(0,0,0.005))\n",
    "\n",
    "# add collision boundary for gripper base\n",
    "# - set link_name=\"indy0_tcp\" to attach the geometry to end-effector link\n",
    "# - it can be labeled as fixed=True, as it is \"fixed\" on the indy0_tcp link\n",
    "gripper =  gscene.create_safe(GEOTYPE.BOX, \"gripper\", link_name=\"indy0_tcp\", \n",
    "                                dims=(0.02,0.1,0.1), center=(0,0,0.05), rpy=(0,0,0), \n",
    "                                color=(0.8,0.2,0.2,0.5), display=True, fixed=True, collision=True)\n",
    "\n",
    "# add gripper fingers - By setting parent=\"gripper\", the position of geometry can be set relative to the parent geometry\n",
    "finger1 =  gscene.create_safe(GEOTYPE.BOX, \"finger1\", link_name=\"indy0_tcp\",\n",
    "                              dims=(0.02,0.02,0.1), center=(0,0.06,0.07), rpy=(0,0,0), \n",
    "                              color=(0.8,0.2,0.2,0.5), display=True, fixed=True, collision=True, parent=\"gripper\")\n",
    "finger2 =  gscene.create_safe(GEOTYPE.BOX, \"finger2\", link_name=\"indy0_tcp\", \n",
    "                              dims=(0.02,0.02,0.1), center=(0,-0.06,0.07), rpy=(0,0,0), \n",
    "                              color=(0.8,0.2,0.2,0.5), display=True, fixed=True, collision=True, parent=\"gripper\")\n",
    "\n",
    "# create Gripper2Tool binder\n",
    "# Gripper2Tool is a 2-finger gripper, which can rotate along z-direction.\n",
    "# To align the z-direction with the 2 fingers, rotate by 90 degree along roll axis.\n",
    "# The gripping point is (0,0,0.11) in local coordinate of \"gripper\" geometry\n",
    "pscene.create_binder(bname=\"grip0\", gname=\"gripper\", rname=\"indy0\", \n",
    "                     _type=Gripper2Tool, point=(0,0,0.11), rpy=(-np.pi/2,0,0))\n",
    "\n",
    "# Add virtual (no-collision) sweep face. the point is 0.2 m away from the \"indy0_tcp\" link\n",
    "# To match the z-direction with the target surface, the geometry is rotated 180 degrees in pitch-axis.\n",
    "sweep_face =  gscene.create_safe(GEOTYPE.BOX, \"sweep_face\", link_name=\"indy0_tcp\", \n",
    "                                dims=(0.05,0.05,0.001), center=(0,0,0.2), rpy=(0,np.pi,0), \n",
    "                                color=(0.2,0.2,0.8,0.1), display=True, fixed=True, collision=False)\n",
    "                                 \n",
    "# create SweepTool binder\n",
    "pscene.create_binder(bname=\"sweep_face\", gname=\"sweep_face\", _type=SweepTool, point=(0,0,0), rpy=(0,0,0))"
   ]
  },
  {
   "cell_type": "markdown",
   "metadata": {},
   "source": [
    "##### create_subject"
   ]
  },
  {
   "cell_type": "code",
   "execution_count": 7,
   "metadata": {},
   "outputs": [],
   "source": [
    "from pkg.planning.constraint.constraint_subject import Grasp2Point, PlacePoint, SweepPoint\n",
    "from pkg.planning.constraint.constraint_subject import CustomObject, SweepLineTask\n",
    "## create box object with grasping points along positive & negative y-direction and placement point in the bottom face\n",
    "box_obj = pscene.create_subject(oname=\"box1\", gname=\"box1\", _type=CustomObject, \n",
    "                             action_points_dict = {\n",
    "                                 \"handle1\": Grasp2Point(\"handle1\", box1, [0,0,0], [-np.pi/2,0,0]),\n",
    "                                 \"handle2\": Grasp2Point(\"handle2\", box1, [0,0,0], [np.pi/2,0,0]),\n",
    "                                 \"bottom\": PlacePoint(\"bottom\", box1, [0,0,-0.026], [0,0,0])})\n",
    "## create sweep task with 2 waypoints\n",
    "sweep = pscene.create_subject(oname=\"sweep\", gname=\"floor\", _type=SweepLineTask, \n",
    "                             action_points_dict = {\"wp1\": SweepPoint(\"wp1\", wp1, [0,0,0.005], [0,0,0]),\n",
    "                                                   \"wp2\": SweepPoint(\"wp2\", wp2, [0,0,0.005], [0,0,0])}\n",
    "                             )"
   ]
  },
  {
   "cell_type": "markdown",
   "metadata": {},
   "source": [
    "##### update_state\n",
    "* update_state(robot_pose) updates robot pose and gets corresponding binding status of current scene.\n",
    "* state.node of ('floor', 0) means the first subject (object) is placed on the floor and the second subject (sweep) has passed 0 waypoints"
   ]
  },
  {
   "cell_type": "code",
   "execution_count": 8,
   "metadata": {},
   "outputs": [
    {
     "name": "stdout",
     "output_type": "stream",
     "text": [
      "('floor', 0)\n"
     ]
    }
   ],
   "source": [
    "initial_state = pscene.update_state(crob.home_pose)\n",
    "print(initial_state.node)"
   ]
  },
  {
   "cell_type": "markdown",
   "metadata": {},
   "source": [
    "##### prepare motion planner"
   ]
  },
  {
   "cell_type": "code",
   "execution_count": 9,
   "metadata": {},
   "outputs": [],
   "source": [
    "from pkg.planning.motion.moveit.moveit_planner import MoveitPlanner\n",
    "mplan = MoveitPlanner(pscene)"
   ]
  },
  {
   "cell_type": "code",
   "execution_count": null,
   "metadata": {},
   "outputs": [],
   "source": []
  },
  {
   "cell_type": "markdown",
   "metadata": {},
   "source": [
    "##### GraspChecker\n",
    "- pick, place, sweep"
   ]
  },
  {
   "cell_type": "code",
   "execution_count": 11,
   "metadata": {},
   "outputs": [],
   "source": [
    "from pkg.planning.filtering.grasp_filter import GraspChecker\n",
    "from pkg.planning.constraint.constraint_common import calc_redundancy"
   ]
  },
  {
   "cell_type": "code",
   "execution_count": 12,
   "metadata": {},
   "outputs": [],
   "source": [
    "# GraspChecker needs end_link_couple_dict, which is a dictionary of list of coupled link names\n",
    "mfilter = GraspChecker(pscene)"
   ]
  },
  {
   "cell_type": "markdown",
   "metadata": {},
   "source": [
    "* pick scenarios"
   ]
  },
  {
   "cell_type": "code",
   "execution_count": 13,
   "metadata": {},
   "outputs": [],
   "source": [
    "obj_name, handle_name, actor_name, actor_geo = \"box1\", \"handle1\", \"grip0\", \"gripper\"\n",
    "actor = pscene.actor_dict[actor_name]\n",
    "obj = pscene.subject_dict[obj_name]\n",
    "handle = obj.action_points_dict[handle_name]\n",
    "binding_list = [(obj_name, handle_name, actor_name, actor_geo)]\n",
    "constrained = False"
   ]
  },
  {
   "cell_type": "code",
   "execution_count": 15,
   "metadata": {
    "scrolled": true
   },
   "outputs": [
    {
     "name": "stdout",
     "output_type": "stream",
     "text": [
      "try transition motion\n",
      "transition motion tried: True\n",
      "Result match for vertial-access: True / True\n"
     ]
    }
   ],
   "source": [
    "scenario = \"vertial-access\"\n",
    "from_state=initial_state\n",
    "Q_dict = list2dict(from_state.Q, gscene.joint_names)\n",
    "to_state = from_state.copy(pscene)\n",
    "to_state.set_binding_state(\n",
    "    ((obj_name, handle_name, actor_name, actor_geo), \n",
    "     to_state.binding_state[1]), \n",
    "    pscene)\n",
    "redundancy_dict = {obj_name:{handle_name:{\"w\":np.pi}, \n",
    "                             actor_name:{\"w\":0}}}\n",
    "redundancy_values = {(obj_name, handle.name): calc_redundancy(redundancy_dict[obj_name][handle_name], handle),\n",
    "                     (obj_name, actor.name): calc_redundancy(redundancy_dict[obj_name][actor_name], actor)\n",
    "                    }\n",
    "\n",
    "pscene.set_object_state(from_state)\n",
    "gscene.show_pose(from_state.Q)\n",
    "success_mfilter = mfilter.check(actor, obj, handle, redundancy_values, Q_dict,constrained)\n",
    "\n",
    "Traj, LastQ, error, success = mplan.plan_algorithm(\n",
    "    from_state, to_state, binding_list=binding_list, redundancy_values=redundancy_values)\n",
    "if success:\n",
    "    pscene.set_object_state(from_state)\n",
    "    gscene.show_motion(Traj, period=0.05)\n",
    "    pick_state = pscene.rebind_all(binding_list, LastQ)\n",
    "print(\"Result {} for {}: {} / {}\".format(\"match\" if success_mfilter==success else \"mismatch\", scenario, success_mfilter, success))\n",
    "assert success_mfilter == success, \"Failure: filter result not same with motion planning result\""
   ]
  },
  {
   "cell_type": "code",
   "execution_count": 16,
   "metadata": {},
   "outputs": [
    {
     "name": "stdout",
     "output_type": "stream",
     "text": [
      "try transition motion\n",
      "transition motion tried: False\n",
      "Result match for vertical-access-with-obstacle: False / False\n"
     ]
    }
   ],
   "source": [
    "scenario = \"vertical-access-with-obstacle\"\n",
    "\n",
    "obstacle.set_offset_tf(center=(0.3,0.4,0.2)) # move obstacle\n",
    "gscene.update_markers_all()\n",
    "\n",
    "pscene.set_object_state(initial_state)\n",
    "gscene.show_pose(crob.home_pose)\n",
    "success_mfilter = mfilter.check(actor, obj, handle, redundancy_values, Q_dict,constrained)\n",
    "Traj, LastQ, error, success = mplan.plan_algorithm(\n",
    "    from_state, to_state, binding_list=binding_list, redundancy_values=redundancy_values)\n",
    "gscene.show_motion(Traj, period=0.05)\n",
    "print(\"Result {} for {}: {} / {}\".format(\"match\" if success_mfilter==success else \"mismatch\", scenario, success_mfilter, success))\n",
    "assert success_mfilter == success, \"Failure: filter result not same with motion planning result\"\n",
    "obstacle.set_offset_tf(center=(0.5, 0.4, 0.031)) # return obstacle\n",
    "gscene.update_markers_all()"
   ]
  },
  {
   "cell_type": "code",
   "execution_count": 17,
   "metadata": {},
   "outputs": [
    {
     "name": "stdout",
     "output_type": "stream",
     "text": [
      "try transition motion\n",
      "transition motion tried: False\n",
      "Result match for horizontal-access: False / False\n"
     ]
    }
   ],
   "source": [
    "scenario = \"horizontal-access\"\n",
    "\n",
    "redundancy_dict = {obj_name:{handle_name:{\"w\":np.pi/2}, \n",
    "                             actor_name:{\"w\":0}}}\n",
    "redundancy_values = {(obj_name, handle.name): calc_redundancy(redundancy_dict[obj_name][handle_name], handle),\n",
    "                     (obj_name, actor.name): calc_redundancy(redundancy_dict[obj_name][actor_name], actor)\n",
    "                    }\n",
    "\n",
    "pscene.set_object_state(initial_state)\n",
    "gscene.show_pose(crob.home_pose)\n",
    "success_mfilter = mfilter.check(actor, obj, handle, redundancy_values, Q_dict,constrained)\n",
    "Traj, LastQ, error, success = mplan.plan_algorithm(\n",
    "    from_state, to_state, binding_list=binding_list, redundancy_values=redundancy_values)\n",
    "gscene.show_motion(Traj, period=0.05)\n",
    "print(\"Result {} for {}: {} / {}\".format(\"match\" if success_mfilter==success else \"mismatch\", scenario, success_mfilter, success))\n",
    "assert success_mfilter == success, \"Failure: filter result not same with motion planning result\""
   ]
  },
  {
   "cell_type": "markdown",
   "metadata": {},
   "source": [
    "* place scenarios"
   ]
  },
  {
   "cell_type": "code",
   "execution_count": 18,
   "metadata": {},
   "outputs": [],
   "source": [
    "obj_name, handle_name, actor_name, actor_geo = \"box1\", \"bottom\", \"goal\", \"goal\"\n",
    "actor = pscene.actor_dict[actor_name]\n",
    "obj = pscene.subject_dict[obj_name]\n",
    "handle = obj.action_points_dict[handle_name]\n",
    "binding_list = [(obj_name, handle_name, actor_name, actor_geo)]\n",
    "constrained = False"
   ]
  },
  {
   "cell_type": "code",
   "execution_count": 19,
   "metadata": {
    "scrolled": true
   },
   "outputs": [
    {
     "name": "stdout",
     "output_type": "stream",
     "text": [
      "try transition motion\n",
      "transition motion tried: True\n",
      "Result match for vertial-access: True / True\n"
     ]
    }
   ],
   "source": [
    "scenario = \"vertial-access\"\n",
    "from_state=pick_state\n",
    "Q_dict = list2dict(from_state.Q, gscene.joint_names)\n",
    "to_state = from_state.copy(pscene)\n",
    "to_state.set_binding_state(\n",
    "    ((obj_name, handle_name, actor_name, actor_geo), \n",
    "     to_state.binding_state[1]), \n",
    "    pscene)\n",
    "redundancy_dict = {obj_name:{handle_name:{\"w\":0}, \n",
    "                             actor_name:{\"w\":0}}}\n",
    "redundancy_values = {(obj_name, handle.name): calc_redundancy(redundancy_dict[obj_name][handle_name], handle),\n",
    "                     (obj_name, actor.name): calc_redundancy(redundancy_dict[obj_name][actor_name], actor)\n",
    "                    }\n",
    "\n",
    "pscene.set_object_state(from_state)\n",
    "gscene.show_pose(crob.home_pose)\n",
    "success_mfilter = mfilter.check(actor, obj, handle, redundancy_values, Q_dict,constrained)\n",
    "\n",
    "Traj, LastQ, error, success = mplan.plan_algorithm(\n",
    "    from_state, to_state, binding_list=binding_list, redundancy_values=redundancy_values)\n",
    "if success:\n",
    "    pscene.set_object_state(from_state)\n",
    "    gscene.show_motion(Traj, period=0.05)\n",
    "    place_state = pscene.rebind_all(binding_list, LastQ)\n",
    "print(\"Result {} for {}: {} / {}\".format(\"match\" if success_mfilter==success else \"mismatch\", scenario, success_mfilter, success))\n",
    "assert success_mfilter == success, \"Failure: filter result not same with motion planning result\""
   ]
  },
  {
   "cell_type": "code",
   "execution_count": 20,
   "metadata": {},
   "outputs": [
    {
     "name": "stdout",
     "output_type": "stream",
     "text": [
      "try transition motion\n",
      "transition motion tried: False\n",
      "Result match for vertical-access-with-obstacle: False / False\n"
     ]
    }
   ],
   "source": [
    "scenario = \"vertical-access-with-obstacle\"\n",
    "obstacle.set_offset_tf(center=(0.3,-0.4,0.031)) # move obstacle\n",
    "gscene.update_markers_all()\n",
    "\n",
    "pscene.set_object_state(from_state)\n",
    "gscene.show_pose(crob.home_pose)\n",
    "success_mfilter = mfilter.check(actor, obj, handle, redundancy_values, Q_dict,constrained)\n",
    "Traj, LastQ, error, success = mplan.plan_algorithm(\n",
    "    from_state, to_state, binding_list=binding_list, redundancy_values=redundancy_values)\n",
    "gscene.show_motion(Traj)\n",
    "\n",
    "obstacle.set_offset_tf(center=(0.5, 0.4, 0.031)) # return obstacle\n",
    "gscene.update_markers_all()\n",
    "print(\"Result {} for {}: {} / {}\".format(\"match\" if success_mfilter==success else \"mismatch\", scenario, success_mfilter, success))\n",
    "assert success_mfilter == success, \"Failure: filter result not same with motion planning result\""
   ]
  },
  {
   "cell_type": "markdown",
   "metadata": {},
   "source": [
    "* sweep scenario 1: reaching first sweep point"
   ]
  },
  {
   "cell_type": "code",
   "execution_count": 21,
   "metadata": {},
   "outputs": [],
   "source": [
    "obj_name, handle_name, actor_name, actor_geo = \"sweep\", \"wp1\", \"sweep_face\", \"sweep_face\"\n",
    "actor = pscene.actor_dict[actor_name]\n",
    "obj = pscene.subject_dict[obj_name]\n",
    "handle = obj.action_points_dict[handle_name]\n",
    "binding_list = [(obj_name, handle_name, actor_name, actor_geo)]\n",
    "constrained = False"
   ]
  },
  {
   "cell_type": "code",
   "execution_count": 22,
   "metadata": {
    "scrolled": true
   },
   "outputs": [
    {
     "name": "stdout",
     "output_type": "stream",
     "text": [
      "try transition motion\n",
      "transition motion tried: True\n",
      "OK to go\n",
      "Result match for reach wp1: True / True\n"
     ]
    }
   ],
   "source": [
    "scenario = \"reach wp1\"\n",
    "from_state=place_state.copy(pscene)\n",
    "from_state.Q = crob.home_pose\n",
    "Q_dict = list2dict(from_state.Q, gscene.joint_names)\n",
    "to_state = from_state.copy(pscene)\n",
    "to_state.set_binding_state(\n",
    "    (to_state.binding_state[1], \n",
    "     (obj_name, handle_name, actor_name, actor_geo)), \n",
    "    pscene)\n",
    "redundancy_dict = {obj_name:{handle_name:{\"w\":0}, \n",
    "                             actor_name:{\"w\":0}}}\n",
    "redundancy_values = {(obj_name, handle.name): calc_redundancy(redundancy_dict[obj_name][handle_name], handle),\n",
    "                     (obj_name, actor.name): calc_redundancy(redundancy_dict[obj_name][actor_name], actor)\n",
    "                    }\n",
    "\n",
    "pscene.set_object_state(from_state)\n",
    "gscene.show_pose(from_state.Q)\n",
    "success_mfilter = mfilter.check(actor, obj, handle, redundancy_values, Q_dict,constrained)\n",
    "for _ in range(100):\n",
    "    Traj, LastQ, error, success = mplan.plan_algorithm(\n",
    "        from_state, to_state, binding_list=binding_list, redundancy_values=redundancy_values)\n",
    "    if success and np.abs(LastQ[0])<np.pi/2: # else, it will fail in sweep motion\n",
    "        break\n",
    "if success:\n",
    "    if np.abs(LastQ[0])<np.pi/2:\n",
    "        print(\"OK to go\")\n",
    "        pscene.set_object_state(from_state)\n",
    "        gscene.show_motion(Traj, period=0.05)\n",
    "        sweep1_state = pscene.rebind_all(binding_list, LastQ)\n",
    "    else:\n",
    "        print(\"Sweep will fail. Please try again from this step.\")\n",
    "print(\"Result {} for {}: {} / {}\".format(\"match\" if success_mfilter==success else \"mismatch\", scenario, success_mfilter, success))\n",
    "assert success_mfilter == success, \"Failure: filter result not same with motion planning result\""
   ]
  },
  {
   "cell_type": "code",
   "execution_count": 23,
   "metadata": {},
   "outputs": [
    {
     "name": "stdout",
     "output_type": "stream",
     "text": [
      "try transition motion\n",
      "transition motion tried: True\n",
      "Result match for reach wp1 with obstacle: True / True\n"
     ]
    }
   ],
   "source": [
    "scenario = \"reach wp1 with obstacle\"\n",
    "from_state=place_state.copy(pscene)\n",
    "obstacle.set_offset_tf(center=(0.4,-0.3,0.2)) # move obstacle\n",
    "gscene.update_markers_all()\n",
    "\n",
    "pscene.set_object_state(place_state)\n",
    "gscene.show_pose(from_state.Q)\n",
    "success_mfilter = mfilter.check(actor, obj, handle, redundancy_values, Q_dict,constrained)\n",
    "Traj, LastQ, error, success = mplan.plan_algorithm(\n",
    "    from_state, to_state, binding_list=binding_list, redundancy_values=redundancy_values)\n",
    "gscene.show_motion(Traj, period=0.05)\n",
    "    \n",
    "obstacle.set_offset_tf(center=(0.5, 0.4, 0.031)) # return obstacle\n",
    "gscene.update_markers_all()\n",
    "print(\"Result {} for {}: {} / {}\".format(\"match\" if success_mfilter==success else \"mismatch\", scenario, success_mfilter, success))\n",
    "assert success_mfilter == success, \"Failure: filter result not same with motion planning result\""
   ]
  },
  {
   "cell_type": "markdown",
   "metadata": {},
   "source": [
    "* sweep scenario 2: sweep to second sweep point"
   ]
  },
  {
   "cell_type": "code",
   "execution_count": 24,
   "metadata": {},
   "outputs": [],
   "source": [
    "obj_name, handle_name, actor_name, actor_geo = \"sweep\", \"wp2\", \"sweep_face\", \"sweep_face\"\n",
    "actor = pscene.actor_dict[actor_name]\n",
    "obj = pscene.subject_dict[obj_name]\n",
    "handle = obj.action_points_dict[handle_name]\n",
    "binding_list = [(obj_name, handle_name, actor_name, actor_geo)]\n",
    "constrained = True     # by setting constrained = True, GraspChecker will check collision in interpolated poses too."
   ]
  },
  {
   "cell_type": "code",
   "execution_count": 28,
   "metadata": {},
   "outputs": [
    {
     "name": "stdout",
     "output_type": "stream",
     "text": [
      "try constrained motion\n",
      "constrained motion tried: True\n",
      "Result match for sweep to wp2: True / True\n"
     ]
    }
   ],
   "source": [
    "scenario = \"sweep to wp2\"\n",
    "from_state=sweep1_state.copy(pscene)\n",
    "Q_dict = list2dict(from_state.Q, gscene.joint_names)\n",
    "to_state = from_state.copy(pscene)\n",
    "to_state.set_binding_state(\n",
    "    (to_state.binding_state[1], \n",
    "     (obj_name, handle_name, actor_name, actor_geo)), \n",
    "    pscene)\n",
    "redundancy_dict = {obj_name:{handle_name:{\"w\":0}, \n",
    "                             actor_name:{\"w\":0}}}\n",
    "redundancy_values = {(obj_name, handle.name): calc_redundancy(redundancy_dict[obj_name][handle_name], handle),\n",
    "                     (obj_name, actor.name): calc_redundancy(redundancy_dict[obj_name][actor_name], actor)\n",
    "                    }\n",
    "\n",
    "pscene.set_object_state(from_state)\n",
    "gscene.show_pose(from_state.Q)\n",
    "success_mfilter = mfilter.check(actor, obj, handle, redundancy_values, Q_dict,constrained)\n",
    "Traj, LastQ, error, success = mplan.plan_algorithm(\n",
    "    from_state, to_state, binding_list=binding_list, redundancy_values=redundancy_values,\n",
    "    timeout=30)\n",
    "if success:\n",
    "    gscene.show_motion(Traj, period=0.05)\n",
    "print(\"Result {} for {}: {} / {}\".format(\"match\" if success_mfilter==success else \"mismatch\", scenario, success_mfilter, success))\n",
    "assert success_mfilter == success, \"Failure: filter result not same with motion planning result\""
   ]
  },
  {
   "cell_type": "code",
   "execution_count": 29,
   "metadata": {},
   "outputs": [
    {
     "name": "stdout",
     "output_type": "stream",
     "text": [
      "try constrained motion\n",
      "constrained motion tried: False\n",
      "Result match for sweep to wp2 with obstacle: False / False\n"
     ]
    }
   ],
   "source": [
    "scenario = \"sweep to wp2 with obstacle\"\n",
    "obstacle.set_offset_tf(center=(0.5, 0.0, 0.2)) # return obstacle\n",
    "gscene.update_markers_all()\n",
    "\n",
    "pscene.set_object_state(from_state)\n",
    "gscene.show_pose(from_state.Q)\n",
    "success_mfilter = mfilter.check(actor, obj, handle, redundancy_values, Q_dict,constrained)\n",
    "Traj, LastQ, error, success = mplan.plan_algorithm(\n",
    "    from_state, to_state, binding_list=binding_list, redundancy_values=redundancy_values,\n",
    "    timeout=30)\n",
    "\n",
    "gscene.show_motion(Traj, period=0.05)\n",
    "obstacle.set_offset_tf(center=(0.5, 0.4, 0.031)) # return obstacle\n",
    "gscene.update_markers_all()\n",
    "print(\"Result {} for {}: {} / {}\".format(\"match\" if success_mfilter==success else \"mismatch\", scenario, success_mfilter, success))\n",
    "assert success_mfilter == success, \"Failure: filter result not same with motion planning result\""
   ]
  },
  {
   "cell_type": "code",
   "execution_count": null,
   "metadata": {},
   "outputs": [],
   "source": []
  },
  {
   "cell_type": "markdown",
   "metadata": {},
   "source": [
    "##### ReachChecker\n",
    "- pick, place, ~~sweep~~"
   ]
  },
  {
   "cell_type": "code",
   "execution_count": null,
   "metadata": {},
   "outputs": [],
   "source": []
  },
  {
   "cell_type": "markdown",
   "metadata": {},
   "source": [
    "##### LatticedChecker\n",
    "- pick, place, ~~sweep~~"
   ]
  },
  {
   "cell_type": "code",
   "execution_count": null,
   "metadata": {},
   "outputs": [],
   "source": []
  },
  {
   "cell_type": "markdown",
   "metadata": {},
   "source": [
    "## 4.4 TaskPlanner"
   ]
  },
  {
   "cell_type": "markdown",
   "metadata": {},
   "source": [
    "##### RRT\n",
    "- pick&place, sweep, pick&place&sweep"
   ]
  },
  {
   "cell_type": "code",
   "execution_count": null,
   "metadata": {},
   "outputs": [],
   "source": []
  },
  {
   "cell_type": "code",
   "execution_count": null,
   "metadata": {},
   "outputs": [],
   "source": []
  },
  {
   "cell_type": "code",
   "execution_count": null,
   "metadata": {},
   "outputs": [],
   "source": []
  },
  {
   "cell_type": "code",
   "execution_count": 31,
   "metadata": {},
   "outputs": [
    {
     "name": "stdout",
     "output_type": "stream",
     "text": [
      "Dash is running on http://0.0.0.0:8050/\n",
      "\n",
      " * Serving Flask app \"pkg.ui.dash_launcher\" (lazy loading)\n",
      " * Environment: production\n",
      "   WARNING: This is a development server. Do not use it in a production deployment.\n",
      "   Use a production WSGI server instead.\n",
      " * Debug mode: off\n",
      "generate table - Handle\n",
      "generate table - Binder\n",
      "generate table - Geometry\n",
      "generate table - Object\n"
     ]
    }
   ],
   "source": [
    "\n",
    "\n",
    "from pkg.ui.ui_broker import *\n",
    "# start UI\n",
    "ui_broker = UIBroker.instance()\n",
    "ui_broker.initialize(ppline, s_builder)\n",
    "ui_broker.start_server()\n",
    "\n",
    "ui_broker.set_tables()"
   ]
  },
  {
   "cell_type": "code",
   "execution_count": null,
   "metadata": {},
   "outputs": [],
   "source": []
  },
  {
   "cell_type": "code",
   "execution_count": null,
   "metadata": {},
   "outputs": [],
   "source": []
  }
 ],
 "metadata": {
  "kernelspec": {
   "display_name": "Python 2",
   "language": "python",
   "name": "python2"
  },
  "language_info": {
   "codemirror_mode": {
    "name": "ipython",
    "version": 2
   },
   "file_extension": ".py",
   "mimetype": "text/x-python",
   "name": "python",
   "nbconvert_exporter": "python",
   "pygments_lexer": "ipython2",
   "version": "2.7.17"
  }
 },
 "nbformat": 4,
 "nbformat_minor": 2
}
