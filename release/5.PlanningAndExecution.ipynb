{
 "cells": [
  {
   "cell_type": "markdown",
   "metadata": {},
   "source": [
    "## 5. Planning & Execution\n",
    " - simple test scenario: real world single object P&P\n",
    "* **5.1 Indy**\n",
    "* **5.2 Panda**\n",
    "* **5.3 Indy&Panda**"
   ]
  },
  {
   "cell_type": "markdown",
   "metadata": {},
   "source": [
    "### Prepare the task scene\n",
    "* Prepare Indy and Panda. Install gripper to indy. (Check release/Figs/5.PlanningAndExecution.jpg)\n",
    "* Prepare \"floor\", \"track\", \"goal\", \"box1\" objects as defined in pkg.detector.aruco.marker_config.py\n",
    "* The robots and \"track\" are installed on \"floor\".\n",
    "* \"goal\" and \"box1\" are on \"track\"\n",
    "* In this scenario, \"box1\" will be moved onto \"goal\" plate"
   ]
  },
  {
   "cell_type": "code",
   "execution_count": null,
   "metadata": {},
   "outputs": [],
   "source": []
  },
  {
   "cell_type": "markdown",
   "metadata": {},
   "source": [
    "## set running directory to project source"
   ]
  },
  {
   "cell_type": "code",
   "execution_count": 1,
   "metadata": {},
   "outputs": [],
   "source": [
    "import os\n",
    "import numpy as np\n",
    "import time\n",
    "os.chdir(os.path.join(os.environ[\"RNB_PLANNING_DIR\"], 'src'))"
   ]
  },
  {
   "cell_type": "markdown",
   "metadata": {},
   "source": [
    "## 5.1 Indy\n",
    "\n",
    "##### initialize CombinedRobot and GeometryScene\n",
    "* Prepare the robots as instructed in release/1.Robots\n",
    "* Connect gripper to indy - match the direction of grippper with the model added below\n",
    "* Prepare Kinect and Realsense"
   ]
  },
  {
   "cell_type": "code",
   "execution_count": 2,
   "metadata": {},
   "outputs": [
    {
     "name": "stdout",
     "output_type": "stream",
     "text": [
      "connection command:\n",
      "indy0: False\n",
      "Device configuration: \n",
      "\tcolor_format: 3 \n",
      "\t(0:JPG, 1:NV12, 2:YUY2, 3:BGRA32)\n",
      "\n",
      "\tcolor_resolution: 5 \n",
      "\t(0:OFF, 1:720p, 2:1080p, 3:1440p, 4:1536p, 5:2160p, 6:3072p)\n",
      "\n",
      "\tdepth_mode: 3 \n",
      "\t(0:OFF, 1:NFOV_2X2BINNED, 2:NFOV_UNBINNED,3:WFOV_2X2BINNED, 4:WFOV_UNBINNED, 5:Passive IR)\n",
      "\n",
      "\tcamera_fps: 2 \n",
      "\t(0:5 FPS, 1:15 FPS, 2:30 FPS)\n",
      "\n",
      "\tsynchronized_images_only: False \n",
      "\t(True of False). Drop images if the color and depth are not synchronized\n",
      "\n",
      "\tdepth_delay_off_color_usec: 0 ms. \n",
      "\tDelay between the color image and the depth image\n",
      "\n",
      "\twired_sync_mode: 0\n",
      "\t(0:Standalone mode, 1:Master mode, 2:Subordinate mode)\n",
      "\n",
      "\tsubordinate_delay_off_master_usec: 0 ms.\n",
      "\tThe external synchronization timing.\n",
      "\n",
      "\tdisable_streaming_indicator: False \n",
      "\t(True or False). Streaming indicator automatically turns on when the color or depth camera's are in use.\n",
      "\n",
      "\n",
      "Start streaming\n",
      "Detector initialized\n",
      "Unable to register with master node [http://localhost:11311]: master may not be running yet. Will keep trying.\n"
     ]
    },
    {
     "name": "stderr",
     "output_type": "stream",
     "text": [
      "Unknown tag \"hardwareInterface\" in /robot[@name='custom_robots']/transmission[@name='indy0_tran0']/actuator[@name='indy0_motor0']\n",
      "Unknown tag \"hardwareInterface\" in /robot[@name='custom_robots']/transmission[@name='indy0_tran1']/actuator[@name='indy0_motor1']\n",
      "Unknown tag \"hardwareInterface\" in /robot[@name='custom_robots']/transmission[@name='indy0_tran2']/actuator[@name='indy0_motor2']\n",
      "Unknown tag \"hardwareInterface\" in /robot[@name='custom_robots']/transmission[@name='indy0_tran3']/actuator[@name='indy0_motor3']\n",
      "Unknown tag \"hardwareInterface\" in /robot[@name='custom_robots']/transmission[@name='indy0_tran4']/actuator[@name='indy0_motor4']\n",
      "Unknown tag \"hardwareInterface\" in /robot[@name='custom_robots']/transmission[@name='indy0_tran5']/actuator[@name='indy0_motor5']\n"
     ]
    },
    {
     "name": "stdout",
     "output_type": "stream",
     "text": [
      "Please create a subscriber to the marker\n",
      "publication OK\n",
      "published: [0, 0, 0, 0, 0, 0]\n",
      "Please create a subscriber to the marker\n"
     ]
    }
   ],
   "source": [
    "from pkg.controller.combined_robot import *\n",
    "from pkg.project_config import *\n",
    "from pkg.geometry.builder.scene_builder import SceneBuilder\n",
    "\n",
    "from pkg.controller.combined_robot import CombinedRobot\n",
    "from pkg.controller.robot_config import RobotConfig, RobotType\n",
    "INDY_IP = \"192.168.0.63\"\n",
    "PANDA_HOST_IP = \"192.168.0.172\" ## The host computer is the computer that runs control program\n",
    "PANDA_ROBOT_IP = \"192.168.0.13\" ## The robot has it's own IP\n",
    "\n",
    "crob = CombinedRobot(\n",
    "    robots_on_scene=[\n",
    "        RobotConfig(0, RobotType.indy7, ((0,-0.3,0), (0,0,0)),\n",
    "                    INDY_IP),\n",
    "#         RobotConfig(1, RobotType.panda, ((0,0.3,0), (0,0,0)),\n",
    "#                     \"{}/{}\".format(PANDA_HOST_IP, PANDA_ROBOT_IP))\n",
    "    ], \n",
    "    connection_list=[False, False])\n",
    "\n",
    "from pkg.detector.aruco.stereo import ArucoStereo\n",
    "from pkg.detector.aruco.marker_config import get_aruco_map\n",
    "from pkg.detector.camera.kinect import Kinect\n",
    "from pkg.detector.camera.realsense import RealSense\n",
    "from pkg.detector.detector_interface import DetectionLevel\n",
    "\n",
    "stereo = ArucoStereo(aruco_map=get_aruco_map(), \n",
    "                     camera_list=[Kinect(), RealSense()])\n",
    "\n",
    "stereo.initialize()\n",
    "\n",
    "time.sleep(1) # Let the camera have some time to get stable\n",
    "stereo.calibrate()\n",
    "print(\"Detector initialized\")\n",
    "\n",
    "from pkg.geometry.builder.scene_builder import SceneBuilder\n",
    "s_builder = SceneBuilder.instance(detector=stereo)\n",
    "s_builder.reset_reference_coord(ref_name=\"floor\")\n",
    "\n",
    "xyz_rpy_robots = s_builder.detect_items(level_mask=[DetectionLevel.ROBOT])\n",
    "crob.update_robot_pos_dict(xyz_rpy_robots=xyz_rpy_robots)\n",
    "gscene = s_builder.create_gscene(crob)\n",
    "gtems = s_builder.add_robot_geometries(color=(0,1,0,0.5), display=True, collision=True)\n",
    "ptems = s_builder.add_poles(\n",
    "    {\"cam0\": s_builder.ref_coord_inv[:3,3], \n",
    "     \"cam1\":np.matmul(s_builder.ref_coord_inv, stereo.T_c12)[:3,3]},\n",
    "    color=(0.6,0.6,0.6,0.2))\n",
    "gscene.show_pose(crob.home_pose)"
   ]
  },
  {
   "cell_type": "markdown",
   "metadata": {},
   "source": [
    "##### add geometries"
   ]
  },
  {
   "cell_type": "code",
   "execution_count": 3,
   "metadata": {},
   "outputs": [],
   "source": [
    "gtem_dict = s_builder.detect_and_register(level_mask=[DetectionLevel.ENVIRONMENT])\n",
    "track = gtem_dict[\"track\"]\n",
    "\n",
    "gtem_dict = s_builder.detect_and_register(level_mask=[DetectionLevel.MOVABLE])\n",
    "s_builder.give_clearance(track, gtem_dict.values())"
   ]
  },
  {
   "cell_type": "markdown",
   "metadata": {},
   "source": [
    "##### create PlanningScene"
   ]
  },
  {
   "cell_type": "code",
   "execution_count": 4,
   "metadata": {},
   "outputs": [],
   "source": [
    "from pkg.planning.scene import PlanningScene\n",
    "pscene = PlanningScene(gscene, combined_robot=crob)"
   ]
  },
  {
   "cell_type": "markdown",
   "metadata": {},
   "source": [
    "##### create binders"
   ]
  },
  {
   "cell_type": "code",
   "execution_count": 5,
   "metadata": {},
   "outputs": [
    {
     "data": {
      "text/plain": [
       "<pkg.planning.constraint.constraint_actor.PlacePlane at 0x7f64eb07d990>"
      ]
     },
     "execution_count": 5,
     "metadata": {},
     "output_type": "execute_result"
    }
   ],
   "source": [
    "from pkg.geometry.geometry import *\n",
    "from pkg.planning.constraint.constraint_actor import PlacePlane, Gripper2Tool\n",
    "\n",
    "gscene.create_safe(GEOTYPE.MESH, \"indy0_gripper_vis\", link_name=\"indy0_tcp\", dims=(0.1,0.1,0.1),\n",
    "                   center=(0,0,0), rpy=(0,0,np.pi/2), color=(0.1,0.1,0.1,1), display=True, fixed=True, collision=False, \n",
    "                   uri=\"package://my_mesh/meshes/stl/indy_gripper_asm2_res.STL\", scale=(1,1,1))\n",
    "\n",
    "gscene.create_safe(GEOTYPE.BOX, \"indy0_gripper\", link_name=\"indy0_tcp\", dims=(0.06,0.08,0.06),\n",
    "                   center=(0,0,0.04), rpy=(0,0,0), color=(0.0,0.8,0.0,0.5), display=True, fixed=True, collision=True)\n",
    "\n",
    "gscene.create_safe(GEOTYPE.CYLINDER, \"indy0_finger1\", link_name=\"indy0_tcp\", dims=(0.03,0.03,0.095),\n",
    "                   center=(0.006,0.045,0.1), rpy=(0,0,0), color=(0.0,0.8,0.0,0.5), display=True, fixed=True, collision=True)\n",
    "\n",
    "gscene.create_safe(GEOTYPE.CYLINDER, \"indy0_finger2\", link_name=\"indy0_tcp\", dims=(0.03,0.03,0.095),\n",
    "                   center=(-0.006,0.045,0.1), rpy=(0,0,0), color=(0.0,0.8,0.0,0.5), display=True, fixed=True, collision=True)\n",
    "\n",
    "gscene.create_safe(GEOTYPE.CYLINDER, \"indy0_finger3\", link_name=\"indy0_tcp\", dims=(0.03,0.03,0.095),\n",
    "                   center=(0.006,-0.045,0.1), rpy=(0,0,0), color=(0.0,0.8,0.0,0.5), display=True, fixed=True, collision=True)\n",
    "\n",
    "gscene.create_safe(GEOTYPE.CYLINDER, \"indy0_finger4\", link_name=\"indy0_tcp\", dims=(0.03,0.03,0.095),\n",
    "                   center=(-0.006,-0.045,0.1), rpy=(0,0,0), color=(0.0,0.8,0.0,0.5), display=True, fixed=True, collision=True)\n",
    "\n",
    "gscene.create_safe(gtype=GEOTYPE.SPHERE, name=\"grip0\", link_name=\"indy0_tcp\", \n",
    "                 dims=(0.01,)*3, center=(0,0,0.14), rpy=(-np.pi/2,0,0), color=(1,0,0,1), display=True, collision=False, fixed=True)\n",
    "\n",
    "pscene.create_binder(bname=\"grip0\", gname=\"grip0\", _type=Gripper2Tool, point=(0,0,0), rpy=(0,0,0))\n",
    "pscene.create_binder(bname=\"track\", gname=\"track\", _type=PlacePlane)\n",
    "pscene.create_binder(bname=\"goal\", gname=\"goal\", _type=PlacePlane, point=(0,0,0.005))"
   ]
  },
  {
   "cell_type": "markdown",
   "metadata": {},
   "source": [
    "##### create_subject"
   ]
  },
  {
   "cell_type": "code",
   "execution_count": 6,
   "metadata": {},
   "outputs": [],
   "source": [
    "from pkg.planning.constraint.constraint_subject import Grasp2Point, PlacePoint\n",
    "from pkg.planning.constraint.constraint_subject import CustomObject, BoxObject"
   ]
  },
  {
   "cell_type": "code",
   "execution_count": 7,
   "metadata": {},
   "outputs": [],
   "source": [
    "## create box object with grasping points along positive & negative y-direction and placement point in the bottom face\n",
    "box_obj = pscene.create_subject(oname=\"box1\", gname=\"box1\", _type=BoxObject)"
   ]
  },
  {
   "cell_type": "code",
   "execution_count": null,
   "metadata": {},
   "outputs": [],
   "source": []
  },
  {
   "cell_type": "markdown",
   "metadata": {},
   "source": [
    "##### create PlanningPipeline"
   ]
  },
  {
   "cell_type": "code",
   "execution_count": 8,
   "metadata": {},
   "outputs": [],
   "source": [
    "from pkg.planning.pipeline import PlanningPipeline\n",
    "from pkg.planning.motion.moveit.moveit_planner import MoveitPlanner\n",
    "from pkg.planning.task.rrt import TaskRRT\n",
    "\n",
    "ppline = PlanningPipeline(pscene)\n",
    "ppline.set_motion_planner(MoveitPlanner(pscene))\n",
    "ppline.set_task_planner(TaskRRT(pscene))"
   ]
  },
  {
   "cell_type": "markdown",
   "metadata": {},
   "source": [
    "##### update state"
   ]
  },
  {
   "cell_type": "code",
   "execution_count": 9,
   "metadata": {},
   "outputs": [
    {
     "name": "stdout",
     "output_type": "stream",
     "text": [
      "('track',)\n"
     ]
    }
   ],
   "source": [
    "initial_state = pscene.update_state(crob.home_pose)\n",
    "print(initial_state.node)"
   ]
  },
  {
   "cell_type": "markdown",
   "metadata": {},
   "source": [
    "##### search for a plan"
   ]
  },
  {
   "cell_type": "code",
   "execution_count": 10,
   "metadata": {
    "scrolled": true
   },
   "outputs": [
    {
     "name": "stdout",
     "output_type": "stream",
     "text": [
      "try: 0 - ('track',)->('grip0',)\n",
      "try transition motion\n",
      "transition motion tried: False\n",
      "result: 0 - ('track',)->('grip0',) = fail\n",
      "try: 0 - ('track',)->('grip0',)\n",
      "try transition motion\n",
      "transition motion tried: False\n",
      "result: 0 - ('track',)->('grip0',) = fail\n",
      "try: 0 - ('track',)->('grip0',)\n",
      "try transition motion\n",
      "transition motion tried: False\n",
      "result: 0 - ('track',)->('grip0',) = fail\n",
      "try: 0 - ('track',)->('grip0',)\n",
      "try transition motion\n",
      "transition motion tried: False\n",
      "result: 0 - ('track',)->('grip0',) = fail\n",
      "try: 0 - ('track',)->('grip0',)\n",
      "try transition motion\n",
      "transition motion tried: False\n",
      "result: 0 - ('track',)->('grip0',) = fail\n",
      "try: 0 - ('track',)->('grip0',)\n",
      "try transition motion\n",
      "transition motion tried: False\n",
      "result: 0 - ('track',)->('grip0',) = fail\n",
      "try: 0 - ('track',)->('grip0',)\n",
      "try transition motion\n",
      "transition motion tried: False\n",
      "result: 0 - ('track',)->('grip0',) = fail\n",
      "try: 0 - ('track',)->('grip0',)\n",
      "try transition motion\n",
      "transition motion tried: False\n",
      "result: 0 - ('track',)->('grip0',) = fail\n",
      "try: 0 - ('track',)->('grip0',)\n",
      "try transition motion\n",
      "transition motion tried: False\n",
      "result: 0 - ('track',)->('grip0',) = fail\n",
      "try: 0 - ('track',)->('grip0',)\n",
      "try transition motion\n",
      "transition motion tried: False\n",
      "result: 0 - ('track',)->('grip0',) = fail\n",
      "try: 0 - ('track',)->('grip0',)\n",
      "try transition motion\n",
      "transition motion tried: False\n",
      "result: 0 - ('track',)->('grip0',) = fail\n",
      "try: 0 - ('track',)->('grip0',)\n",
      "try transition motion\n",
      "transition motion tried: False\n",
      "result: 0 - ('track',)->('grip0',) = fail\n",
      "try: 0 - ('track',)->('grip0',)\n",
      "try transition motion\n",
      "transition motion tried: False\n",
      "result: 0 - ('track',)->('grip0',) = fail\n",
      "try: 0 - ('track',)->('grip0',)\n",
      "try transition motion\n",
      "transition motion tried: True\n",
      "=============== try reaching goal from ('grip0',) =================\n",
      "result: 0 - ('track',)->('grip0',) = success\n",
      "branching: 0->1 (13.29/100.0 s, steps/err: 25(36.395072937 ms)/0.00177861445959)\n",
      "======================================================================================================================================================\n",
      "try: 1 - ('grip0',)->('goal',)\n",
      "try transition motion\n",
      "transition motion tried: False\n",
      "result: 1 - ('grip0',)->('goal',) = fail\n",
      "try: 1 - ('grip0',)->('goal',)\n",
      "try transition motion\n",
      "transition motion tried: False\n",
      "result: 1 - ('grip0',)->('goal',) = fail\n",
      "try: 1 - ('grip0',)->('track',)\n",
      "try transition motion\n",
      "transition motion tried: False\n",
      "result: 1 - ('grip0',)->('track',) = fail\n",
      "try: 0 - ('track',)->('grip0',)\n",
      "try transition motion\n",
      "transition motion tried: False\n",
      "result: 0 - ('track',)->('grip0',) = fail\n",
      "try: 1 - ('grip0',)->('goal',)\n",
      "try transition motion\n",
      "transition motion tried: True\n",
      "result: 1 - ('grip0',)->('goal',) = success\n",
      "branching: 1->2 (17.46/100.0 s, steps/err: 38(41.2240028381 ms)/0.00140904283891)\n",
      "======================================================================================================================================================\n",
      "++ adding return motion to acquired answer ++\n",
      "try joint motion\n",
      "joint motion tried: True\n",
      "=========================================================================================================\n",
      "======================= terminated 0: first answer acquired ===============================\n",
      "=========================================================================================================\n"
     ]
    }
   ],
   "source": [
    "ppline.search(initial_state, goal_nodes=[(\"goal\",)], verbose=True, \n",
    "              display=False, dt_vis=0.01, timeout_loop=100, multiprocess=False, timeout=1, timeout_constrained=10)\n",
    "schedules = ppline.tplan.find_schedules()\n",
    "schedules_sorted = ppline.tplan.sort_schedule(schedules)\n",
    "schedule = ppline.tplan.idxSchedule2SnodeScedule(schedules_sorted[0])\n",
    "ppline.play_schedule(schedule, period=0.05)"
   ]
  },
  {
   "cell_type": "code",
   "execution_count": null,
   "metadata": {},
   "outputs": [],
   "source": []
  },
  {
   "cell_type": "markdown",
   "metadata": {},
   "source": [
    "##### execute plan"
   ]
  },
  {
   "cell_type": "code",
   "execution_count": 11,
   "metadata": {
    "scrolled": true
   },
   "outputs": [
    {
     "name": "stdout",
     "output_type": "stream",
     "text": [
      "connection command:\n",
      "indy0: True\n",
      "Connect: Server IP (192.168.0.63)\n"
     ]
    }
   ],
   "source": [
    "crob.reset_connection(True)"
   ]
  },
  {
   "cell_type": "code",
   "execution_count": 12,
   "metadata": {
    "scrolled": true
   },
   "outputs": [
    {
     "name": "stdout",
     "output_type": "stream",
     "text": [
      "binder: track\n",
      "rname: None\n",
      "Connect: Server IP (192.168.0.63)\n",
      "binder: track\n",
      "rname: None\n",
      "Connect: Server IP (192.168.0.63)\n",
      "go\n",
      "Connect: Server IP (192.168.0.63)\n",
      "binder: grip0\n",
      "rname: indy0\n",
      "Connect: Server IP (192.168.0.63)\n",
      "go\n",
      "Connect: Server IP (192.168.0.63)\n",
      "binder: goal\n",
      "rname: None\n",
      "Connect: Server IP (192.168.0.63)\n",
      "go\n",
      "Connect: Server IP (192.168.0.63)\n",
      "binder: goal\n",
      "rname: None\n",
      "Connect: Server IP (192.168.0.63)\n",
      "Connect: Server IP (192.168.0.63)\n"
     ]
    }
   ],
   "source": [
    "ppline.execute_schedule(schedule, vel_scale=0.5, acc_scale=0.2)"
   ]
  },
  {
   "cell_type": "code",
   "execution_count": null,
   "metadata": {},
   "outputs": [],
   "source": []
  },
  {
   "cell_type": "markdown",
   "metadata": {},
   "source": [
    "## 5.2 Panda\n",
    "\n",
    "##### initialize CombinedRobot and GeometryScene\n",
    "* Prepare the robots as instructed in release/1.Robots\n",
    "* Prepare Kinect and Realsense"
   ]
  },
  {
   "cell_type": "code",
   "execution_count": 12,
   "metadata": {},
   "outputs": [
    {
     "name": "stdout",
     "output_type": "stream",
     "text": [
      "connection command:\n",
      "panda1: False\n",
      "Please create a subscriber to the marker\n",
      "publication OK\n",
      "published: [0, 0, 0, 0, 0, 0, 0]\n",
      "Please create a subscriber to the marker\n"
     ]
    }
   ],
   "source": [
    "from pkg.controller.combined_robot import *\n",
    "from pkg.project_config import *\n",
    "from pkg.geometry.builder.scene_builder import SceneBuilder\n",
    "\n",
    "from pkg.controller.combined_robot import CombinedRobot\n",
    "from pkg.controller.robot_config import RobotConfig, RobotType\n",
    "INDY_IP = \"192.168.0.63\"\n",
    "PANDA_HOST_IP = \"192.168.0.172\" ## The host computer is the computer that runs control program\n",
    "PANDA_ROBOT_IP = \"192.168.0.13\" ## The robot has it's own IP\n",
    "\n",
    "crob = CombinedRobot(\n",
    "    robots_on_scene=[\n",
    "#         RobotConfig(0, RobotType.indy7, ((0,-0.3,0), (0,0,0)),\n",
    "#                     INDY_IP),\n",
    "        RobotConfig(1, RobotType.panda, ((0,0.3,0), (0,0,0)),\n",
    "                    \"{}/{}\".format(PANDA_HOST_IP, PANDA_ROBOT_IP))\n",
    "    ], \n",
    "    connection_list=[False, False])\n",
    "\n",
    "xyz_rpy_robots = s_builder.detect_items(level_mask=[DetectionLevel.ROBOT])\n",
    "crob.update_robot_pos_dict(xyz_rpy_robots=xyz_rpy_robots)\n",
    "gscene = s_builder.create_gscene(crob)\n",
    "gtems = s_builder.add_robot_geometries(color=(0,1,0,0.5), display=True, collision=True)\n",
    "ptems = s_builder.add_poles(\n",
    "    {\"cam0\": s_builder.ref_coord_inv[:3,3], \n",
    "     \"cam1\":np.matmul(s_builder.ref_coord_inv, stereo.T_c12)[:3,3]},\n",
    "    color=(0.6,0.6,0.6,0.2))\n",
    "gscene.show_pose(crob.home_pose)"
   ]
  },
  {
   "cell_type": "markdown",
   "metadata": {},
   "source": [
    "##### add geometries"
   ]
  },
  {
   "cell_type": "code",
   "execution_count": 13,
   "metadata": {},
   "outputs": [],
   "source": [
    "gtem_dict = s_builder.detect_and_register(level_mask=[DetectionLevel.ENVIRONMENT])\n",
    "track = gtem_dict[\"track\"]\n",
    "\n",
    "gtem_dict = s_builder.detect_and_register(level_mask=[DetectionLevel.MOVABLE])\n",
    "s_builder.give_clearance(track, gtem_dict.values())"
   ]
  },
  {
   "cell_type": "markdown",
   "metadata": {},
   "source": [
    "##### create PlanningScene"
   ]
  },
  {
   "cell_type": "code",
   "execution_count": 14,
   "metadata": {},
   "outputs": [],
   "source": [
    "from pkg.planning.scene import PlanningScene\n",
    "pscene = PlanningScene(gscene, combined_robot=crob)"
   ]
  },
  {
   "cell_type": "markdown",
   "metadata": {},
   "source": [
    "##### create binders"
   ]
  },
  {
   "cell_type": "code",
   "execution_count": 15,
   "metadata": {},
   "outputs": [
    {
     "data": {
      "text/plain": [
       "<pkg.planning.constraint.constraint_actor.PlacePlane at 0x7f64eb069610>"
      ]
     },
     "execution_count": 15,
     "metadata": {},
     "output_type": "execute_result"
    }
   ],
   "source": [
    "from pkg.geometry.geometry import *\n",
    "from pkg.planning.constraint.constraint_actor import PlacePlane, Gripper2Tool\n",
    "\n",
    "gscene.create_safe(gtype=GEOTYPE.SPHERE, name=\"grip1\", link_name=\"panda1_hand\", \n",
    "                 dims=(0.01,)*3, center=(0,0,0.112), rpy=(-np.pi/2,0,0), color=(1,0,0,1), display=True, collision=False, fixed=True)\n",
    "\n",
    "pscene.create_binder(bname=\"grip1\", gname=\"grip1\", _type=Gripper2Tool, point=(0,0,0), rpy=(0,0,0))\n",
    "pscene.create_binder(bname=\"track\", gname=\"track\", _type=PlacePlane)\n",
    "pscene.create_binder(bname=\"goal\", gname=\"goal\", _type=PlacePlane, point=(0,0,0.005))"
   ]
  },
  {
   "cell_type": "markdown",
   "metadata": {},
   "source": [
    "##### create_subject"
   ]
  },
  {
   "cell_type": "code",
   "execution_count": 16,
   "metadata": {},
   "outputs": [],
   "source": [
    "from pkg.planning.constraint.constraint_subject import Grasp2Point, PlacePoint\n",
    "from pkg.planning.constraint.constraint_subject import CustomObject, BoxObject"
   ]
  },
  {
   "cell_type": "code",
   "execution_count": 17,
   "metadata": {},
   "outputs": [],
   "source": [
    "## create box object with grasping points along positive & negative y-direction and placement point in the bottom face\n",
    "box_obj = pscene.create_subject(oname=\"box1\", gname=\"box1\", _type=BoxObject)"
   ]
  },
  {
   "cell_type": "code",
   "execution_count": null,
   "metadata": {},
   "outputs": [],
   "source": []
  },
  {
   "cell_type": "markdown",
   "metadata": {},
   "source": [
    "##### create PlanningPipeline"
   ]
  },
  {
   "cell_type": "code",
   "execution_count": 18,
   "metadata": {},
   "outputs": [],
   "source": [
    "from pkg.planning.pipeline import PlanningPipeline\n",
    "from pkg.planning.motion.moveit.moveit_planner import MoveitPlanner\n",
    "from pkg.planning.task.rrt import TaskRRT\n",
    "\n",
    "ppline = PlanningPipeline(pscene)\n",
    "ppline.set_motion_planner(MoveitPlanner(pscene))\n",
    "ppline.set_task_planner(TaskRRT(pscene))"
   ]
  },
  {
   "cell_type": "markdown",
   "metadata": {},
   "source": [
    "##### update state"
   ]
  },
  {
   "cell_type": "code",
   "execution_count": 19,
   "metadata": {},
   "outputs": [
    {
     "name": "stdout",
     "output_type": "stream",
     "text": [
      "('track',)\n"
     ]
    }
   ],
   "source": [
    "initial_state = pscene.update_state(crob.home_pose)\n",
    "print(initial_state.node)"
   ]
  },
  {
   "cell_type": "markdown",
   "metadata": {},
   "source": [
    "##### search for a plan"
   ]
  },
  {
   "cell_type": "code",
   "execution_count": 20,
   "metadata": {
    "scrolled": true
   },
   "outputs": [
    {
     "name": "stdout",
     "output_type": "stream",
     "text": [
      "try: 0 - ('track',)->('grip1',)\n",
      "try transition motion\n",
      "transition motion tried: False\n",
      "result: 0 - ('track',)->('grip1',) = fail\n",
      "try: 0 - ('track',)->('grip1',)\n",
      "try transition motion\n",
      "transition motion tried: False\n",
      "result: 0 - ('track',)->('grip1',) = fail\n",
      "try: 0 - ('track',)->('grip1',)\n",
      "try transition motion\n",
      "transition motion tried: False\n",
      "result: 0 - ('track',)->('grip1',) = fail\n",
      "try: 0 - ('track',)->('grip1',)\n",
      "try transition motion\n",
      "transition motion tried: True\n",
      "=============== try reaching goal from ('grip1',) =================\n",
      "result: 0 - ('track',)->('grip1',) = success\n",
      "branching: 0->1 (3.14/100.0 s, steps/err: 24(32.8738689423 ms)/0.00217467284189)\n",
      "======================================================================================================================================================\n",
      "try: 1 - ('grip1',)->('goal',)\n",
      "try transition motion\n",
      "transition motion tried: False\n",
      "result: 1 - ('grip1',)->('goal',) = fail\n",
      "try: 0 - ('track',)->('grip1',)\n",
      "try transition motion\n",
      "transition motion tried: False\n",
      "result: 0 - ('track',)->('grip1',) = fail\n",
      "try: 1 - ('grip1',)->('goal',)\n",
      "try transition motion\n",
      "transition motion tried: False\n",
      "result: 1 - ('grip1',)->('goal',) = fail\n",
      "try: 1 - ('grip1',)->('track',)\n",
      "try transition motion\n",
      "transition motion tried: False\n",
      "result: 1 - ('grip1',)->('track',) = fail\n",
      "try: 1 - ('grip1',)->('track',)\n",
      "try transition motion\n",
      "transition motion tried: False\n",
      "result: 1 - ('grip1',)->('track',) = fail\n",
      "try: 0 - ('track',)->('grip1',)\n",
      "try transition motion\n",
      "transition motion tried: True\n",
      "=============== try reaching goal from ('grip1',) =================\n",
      "result: 0 - ('track',)->('grip1',) = success\n",
      "branching: 0->2 (8.32/100.0 s, steps/err: 27(28.27501297 ms)/0.00169705533873)\n",
      "======================================================================================================================================================\n",
      "try: 2 - ('grip1',)->('goal',)\n",
      "try transition motion\n",
      "transition motion tried: False\n",
      "result: 2 - ('grip1',)->('goal',) = fail\n",
      "try: 0 - ('track',)->('grip1',)\n",
      "try transition motion\n",
      "transition motion tried: True\n",
      "=============== try reaching goal from ('grip1',) =================\n",
      "result: 0 - ('track',)->('grip1',) = success\n",
      "branching: 0->3 (9.37/100.0 s, steps/err: 17(22.5579738617 ms)/0.00173003195933)\n",
      "======================================================================================================================================================\n",
      "try: 3 - ('grip1',)->('goal',)\n",
      "try transition motion\n",
      "transition motion tried: False\n",
      "result: 3 - ('grip1',)->('goal',) = fail\n",
      "try: 2 - ('grip1',)->('goal',)\n",
      "try transition motion\n",
      "transition motion tried: False\n",
      "result: 2 - ('grip1',)->('goal',) = fail\n",
      "try: 3 - ('grip1',)->('track',)\n",
      "try transition motion\n",
      "transition motion tried: True\n",
      "result: 3 - ('grip1',)->('track',) = success\n",
      "branching: 3->4 (11.48/100.0 s, steps/err: 28(65.4838085175 ms)/0.00189582542969)\n",
      "======================================================================================================================================================\n",
      "try: 0 - ('track',)->('grip1',)\n",
      "try transition motion\n",
      "transition motion tried: False\n",
      "result: 0 - ('track',)->('grip1',) = fail\n",
      "try: 3 - ('grip1',)->('goal',)\n",
      "try transition motion\n",
      "transition motion tried: False\n",
      "result: 3 - ('grip1',)->('goal',) = fail\n",
      "try: 3 - ('grip1',)->('track',)\n",
      "try transition motion\n",
      "transition motion tried: False\n",
      "result: 3 - ('grip1',)->('track',) = fail\n",
      "try: 2 - ('grip1',)->('track',)\n",
      "try transition motion\n",
      "transition motion tried: False\n",
      "result: 2 - ('grip1',)->('track',) = fail\n",
      "try: 1 - ('grip1',)->('goal',)\n",
      "try transition motion\n",
      "transition motion tried: False\n",
      "result: 1 - ('grip1',)->('goal',) = fail\n",
      "try: 0 - ('track',)->('grip1',)\n",
      "try transition motion\n",
      "transition motion tried: False\n",
      "result: 0 - ('track',)->('grip1',) = fail\n",
      "try: 3 - ('grip1',)->('goal',)\n",
      "try transition motion\n",
      "transition motion tried: False\n",
      "result: 3 - ('grip1',)->('goal',) = fail\n",
      "try: 2 - ('grip1',)->('track',)\n",
      "try transition motion\n",
      "transition motion tried: True\n",
      "result: 2 - ('grip1',)->('track',) = success\n",
      "branching: 2->5 (18.7/100.0 s, steps/err: 37(35.0661277771 ms)/0.00112554874924)\n",
      "======================================================================================================================================================\n",
      "try: 3 - ('grip1',)->('goal',)\n",
      "try transition motion\n",
      "transition motion tried: True\n",
      "result: 3 - ('grip1',)->('goal',) = success\n",
      "branching: 3->6 (18.76/100.0 s, steps/err: 47(55.9499263763 ms)/0.00078326417691)\n",
      "======================================================================================================================================================\n",
      "++ adding return motion to acquired answer ++\n",
      "try joint motion\n",
      "joint motion tried: True\n",
      "=========================================================================================================\n",
      "======================= terminated 0: first answer acquired ===============================\n",
      "=========================================================================================================\n"
     ]
    }
   ],
   "source": [
    "ppline.search(initial_state, goal_nodes=[(\"goal\",)], verbose=True, \n",
    "              display=False, dt_vis=0.01, timeout_loop=100, multiprocess=False, timeout=1, timeout_constrained=10)\n",
    "schedules = ppline.tplan.find_schedules()\n",
    "schedules_sorted = ppline.tplan.sort_schedule(schedules)\n",
    "schedule = ppline.tplan.idxSchedule2SnodeScedule(schedules_sorted[0])\n",
    "ppline.play_schedule(schedule, period=0.05)"
   ]
  },
  {
   "cell_type": "code",
   "execution_count": null,
   "metadata": {},
   "outputs": [],
   "source": []
  },
  {
   "cell_type": "markdown",
   "metadata": {},
   "source": [
    "##### execute plan"
   ]
  },
  {
   "cell_type": "code",
   "execution_count": 21,
   "metadata": {
    "scrolled": true
   },
   "outputs": [
    {
     "name": "stdout",
     "output_type": "stream",
     "text": [
      "connection command:\n",
      "panda1: True\n"
     ]
    }
   ],
   "source": [
    "crob.reset_connection(True)"
   ]
  },
  {
   "cell_type": "code",
   "execution_count": 22,
   "metadata": {
    "scrolled": true
   },
   "outputs": [
    {
     "name": "stdout",
     "output_type": "stream",
     "text": [
      "binder: track\n",
      "rname: None\n",
      "binder: track\n",
      "rname: None\n",
      "go\n",
      "binder: grip1\n",
      "rname: panda1\n",
      "go\n",
      "binder: goal\n",
      "rname: None\n",
      "go\n",
      "binder: goal\n",
      "rname: None\n"
     ]
    }
   ],
   "source": [
    "ppline.execute_schedule(schedule, vel_scale=0.5, acc_scale=0.2)"
   ]
  },
  {
   "cell_type": "code",
   "execution_count": null,
   "metadata": {},
   "outputs": [],
   "source": []
  },
  {
   "cell_type": "markdown",
   "metadata": {},
   "source": [
    "## 5.3 Indy&Panda\n",
    "\n",
    "##### initialize CombinedRobot and GeometryScene\n",
    "* Prepare the robots as instructed in release/1.Robots\n",
    "* Connect gripper to indy - match the direction of grippper with the model added below\n",
    "* Prepare Kinect and Realsense"
   ]
  },
  {
   "cell_type": "code",
   "execution_count": 23,
   "metadata": {},
   "outputs": [
    {
     "name": "stdout",
     "output_type": "stream",
     "text": [
      "connection command:\n",
      "indy0: False\n",
      "panda1: False\n"
     ]
    },
    {
     "name": "stderr",
     "output_type": "stream",
     "text": [
      "Unknown tag \"hardwareInterface\" in /robot[@name='custom_robots']/transmission[@name='indy0_tran0']/actuator[@name='indy0_motor0']\n",
      "Unknown tag \"hardwareInterface\" in /robot[@name='custom_robots']/transmission[@name='indy0_tran1']/actuator[@name='indy0_motor1']\n",
      "Unknown tag \"hardwareInterface\" in /robot[@name='custom_robots']/transmission[@name='indy0_tran2']/actuator[@name='indy0_motor2']\n",
      "Unknown tag \"hardwareInterface\" in /robot[@name='custom_robots']/transmission[@name='indy0_tran3']/actuator[@name='indy0_motor3']\n",
      "Unknown tag \"hardwareInterface\" in /robot[@name='custom_robots']/transmission[@name='indy0_tran4']/actuator[@name='indy0_motor4']\n",
      "Unknown tag \"hardwareInterface\" in /robot[@name='custom_robots']/transmission[@name='indy0_tran5']/actuator[@name='indy0_motor5']\n"
     ]
    },
    {
     "name": "stdout",
     "output_type": "stream",
     "text": [
      "publication OK\n",
      "published: [0, 0, 0, 0, 0, 0, 0, 0, 0, 0, 0, 0, 0]\n",
      "Please create a subscriber to the marker\n"
     ]
    }
   ],
   "source": [
    "from pkg.controller.combined_robot import *\n",
    "from pkg.project_config import *\n",
    "from pkg.geometry.builder.scene_builder import SceneBuilder\n",
    "\n",
    "from pkg.controller.combined_robot import CombinedRobot\n",
    "from pkg.controller.robot_config import RobotConfig, RobotType\n",
    "INDY_IP = \"192.168.0.63\"\n",
    "PANDA_HOST_IP = \"192.168.0.172\" ## The host computer is the computer that runs control program\n",
    "PANDA_ROBOT_IP = \"192.168.0.13\" ## The robot has it's own IP\n",
    "\n",
    "crob = CombinedRobot(\n",
    "    robots_on_scene=[\n",
    "        RobotConfig(0, RobotType.indy7, ((0,-0.3,0), (0,0,0)),\n",
    "                    INDY_IP),\n",
    "        RobotConfig(1, RobotType.panda, ((0,0.3,0), (0,0,0)),\n",
    "                    \"{}/{}\".format(PANDA_HOST_IP, PANDA_ROBOT_IP))\n",
    "    ], \n",
    "    connection_list=[False, False])\n",
    "\n",
    "xyz_rpy_robots = s_builder.detect_items(level_mask=[DetectionLevel.ROBOT])\n",
    "crob.update_robot_pos_dict(xyz_rpy_robots=xyz_rpy_robots)\n",
    "gscene = s_builder.create_gscene(crob)\n",
    "gtems = s_builder.add_robot_geometries(color=(0,1,0,0.5), display=True, collision=True)\n",
    "ptems = s_builder.add_poles(\n",
    "    {\"cam0\": s_builder.ref_coord_inv[:3,3], \n",
    "     \"cam1\":np.matmul(s_builder.ref_coord_inv, stereo.T_c12)[:3,3]},\n",
    "    color=(0.6,0.6,0.6,0.2))\n",
    "gscene.show_pose(crob.home_pose)"
   ]
  },
  {
   "cell_type": "markdown",
   "metadata": {},
   "source": [
    "##### add geometries"
   ]
  },
  {
   "cell_type": "code",
   "execution_count": 28,
   "metadata": {},
   "outputs": [],
   "source": [
    "gtem_dict = s_builder.detect_and_register(level_mask=[DetectionLevel.ENVIRONMENT])\n",
    "track = gtem_dict[\"track\"]\n",
    "\n",
    "gtem_dict = s_builder.detect_and_register(level_mask=[DetectionLevel.MOVABLE])\n",
    "s_builder.give_clearance(track, gtem_dict.values())"
   ]
  },
  {
   "cell_type": "markdown",
   "metadata": {},
   "source": [
    "##### create PlanningScene"
   ]
  },
  {
   "cell_type": "code",
   "execution_count": 29,
   "metadata": {},
   "outputs": [],
   "source": [
    "from pkg.planning.scene import PlanningScene\n",
    "pscene = PlanningScene(gscene, combined_robot=crob)"
   ]
  },
  {
   "cell_type": "markdown",
   "metadata": {},
   "source": [
    "##### create binders"
   ]
  },
  {
   "cell_type": "code",
   "execution_count": 30,
   "metadata": {},
   "outputs": [
    {
     "data": {
      "text/plain": [
       "<pkg.planning.constraint.constraint_actor.PlacePlane at 0x7f64e2953b10>"
      ]
     },
     "execution_count": 30,
     "metadata": {},
     "output_type": "execute_result"
    }
   ],
   "source": [
    "from pkg.geometry.geometry import *\n",
    "from pkg.planning.constraint.constraint_actor import PlacePlane, Gripper2Tool\n",
    "\n",
    "gscene.create_safe(GEOTYPE.MESH, \"indy0_gripper_vis\", link_name=\"indy0_tcp\", dims=(0.1,0.1,0.1),\n",
    "                   center=(0,0,0), rpy=(0,0,np.pi/2), color=(0.1,0.1,0.1,1), display=True, fixed=True, collision=False, \n",
    "                   uri=\"package://my_mesh/meshes/stl/indy_gripper_asm2_res.STL\", scale=(1,1,1))\n",
    "\n",
    "gscene.create_safe(GEOTYPE.BOX, \"indy0_gripper\", link_name=\"indy0_tcp\", dims=(0.06,0.08,0.06),\n",
    "                   center=(0,0,0.04), rpy=(0,0,0), color=(0.0,0.8,0.0,0.5), display=True, fixed=True, collision=True)\n",
    "\n",
    "gscene.create_safe(GEOTYPE.CYLINDER, \"indy0_finger1\", link_name=\"indy0_tcp\", dims=(0.03,0.03,0.095),\n",
    "                   center=(0.006,0.045,0.1), rpy=(0,0,0), color=(0.0,0.8,0.0,0.5), display=True, fixed=True, collision=True)\n",
    "\n",
    "gscene.create_safe(GEOTYPE.CYLINDER, \"indy0_finger2\", link_name=\"indy0_tcp\", dims=(0.03,0.03,0.095),\n",
    "                   center=(-0.006,0.045,0.1), rpy=(0,0,0), color=(0.0,0.8,0.0,0.5), display=True, fixed=True, collision=True)\n",
    "\n",
    "gscene.create_safe(GEOTYPE.CYLINDER, \"indy0_finger3\", link_name=\"indy0_tcp\", dims=(0.03,0.03,0.095),\n",
    "                   center=(0.006,-0.045,0.1), rpy=(0,0,0), color=(0.0,0.8,0.0,0.5), display=True, fixed=True, collision=True)\n",
    "\n",
    "gscene.create_safe(GEOTYPE.CYLINDER, \"indy0_finger4\", link_name=\"indy0_tcp\", dims=(0.03,0.03,0.095),\n",
    "                   center=(-0.006,-0.045,0.1), rpy=(0,0,0), color=(0.0,0.8,0.0,0.5), display=True, fixed=True, collision=True)\n",
    "\n",
    "gscene.create_safe(gtype=GEOTYPE.SPHERE, name=\"grip0\", link_name=\"indy0_tcp\", \n",
    "                 dims=(0.01,)*3, center=(0,0,0.14), rpy=(-np.pi/2,0,0), color=(1,0,0,1), display=True, collision=False, fixed=True)\n",
    "\n",
    "gscene.create_safe(gtype=GEOTYPE.SPHERE, name=\"grip1\", link_name=\"panda1_hand\", \n",
    "                 dims=(0.01,)*3, center=(0,0,0.112), rpy=(-np.pi/2,0,0), color=(1,0,0,1), display=True, collision=False, fixed=True)\n",
    "\n",
    "pscene.create_binder(bname=\"grip0\", gname=\"grip0\", _type=Gripper2Tool, point=(0,0,0), rpy=(0,0,0))\n",
    "pscene.create_binder(bname=\"grip1\", gname=\"grip1\", _type=Gripper2Tool, point=(0,0,0), rpy=(0,0,0))\n",
    "pscene.create_binder(bname=\"track\", gname=\"track\", _type=PlacePlane)\n",
    "pscene.create_binder(bname=\"goal\", gname=\"goal\", _type=PlacePlane, point=(0,0,0.005))"
   ]
  },
  {
   "cell_type": "markdown",
   "metadata": {},
   "source": [
    "##### create_subject"
   ]
  },
  {
   "cell_type": "code",
   "execution_count": 31,
   "metadata": {},
   "outputs": [],
   "source": [
    "from pkg.planning.constraint.constraint_subject import Grasp2Point, PlacePoint\n",
    "from pkg.planning.constraint.constraint_subject import CustomObject, BoxObject"
   ]
  },
  {
   "cell_type": "code",
   "execution_count": 32,
   "metadata": {},
   "outputs": [],
   "source": [
    "## create box object with grasping points along positive & negative y-direction and placement point in the bottom face\n",
    "box_obj = pscene.create_subject(oname=\"box1\", gname=\"box1\", _type=BoxObject)"
   ]
  },
  {
   "cell_type": "code",
   "execution_count": null,
   "metadata": {},
   "outputs": [],
   "source": []
  },
  {
   "cell_type": "markdown",
   "metadata": {},
   "source": [
    "##### create PlanningPipeline"
   ]
  },
  {
   "cell_type": "code",
   "execution_count": 33,
   "metadata": {},
   "outputs": [],
   "source": [
    "from pkg.planning.pipeline import PlanningPipeline\n",
    "from pkg.planning.motion.moveit.moveit_planner import MoveitPlanner\n",
    "from pkg.planning.task.rrt import TaskRRT\n",
    "\n",
    "ppline = PlanningPipeline(pscene)\n",
    "ppline.set_motion_planner(MoveitPlanner(pscene))\n",
    "ppline.set_task_planner(TaskRRT(pscene))"
   ]
  },
  {
   "cell_type": "markdown",
   "metadata": {},
   "source": [
    "##### update state"
   ]
  },
  {
   "cell_type": "code",
   "execution_count": 34,
   "metadata": {},
   "outputs": [
    {
     "name": "stdout",
     "output_type": "stream",
     "text": [
      "('track',)\n"
     ]
    }
   ],
   "source": [
    "initial_state = pscene.update_state(crob.home_pose)\n",
    "print(initial_state.node)"
   ]
  },
  {
   "cell_type": "markdown",
   "metadata": {},
   "source": [
    "##### search for a plan"
   ]
  },
  {
   "cell_type": "code",
   "execution_count": 35,
   "metadata": {
    "scrolled": true
   },
   "outputs": [
    {
     "name": "stdout",
     "output_type": "stream",
     "text": [
      "try: 0 - ('track',)->('grip0',)\n",
      "try transition motion\n",
      "transition motion tried: False\n",
      "result: 0 - ('track',)->('grip0',) = fail\n",
      "try: 0 - ('track',)->('grip1',)\n",
      "try transition motion\n",
      "transition motion tried: False\n",
      "result: 0 - ('track',)->('grip1',) = fail\n",
      "try: 0 - ('track',)->('grip1',)\n",
      "try transition motion\n",
      "transition motion tried: True\n",
      "=============== try reaching goal from ('grip1',) =================\n",
      "result: 0 - ('track',)->('grip1',) = success\n",
      "branching: 0->1 (2.07/100.0 s, steps/err: 25(27.0459651947 ms)/0.0014068146692)\n",
      "======================================================================================================================================================\n",
      "try: 1 - ('grip1',)->('goal',)\n",
      "try transition motion\n",
      "transition motion tried: False\n",
      "result: 1 - ('grip1',)->('goal',) = fail\n",
      "try: 0 - ('track',)->('grip1',)\n",
      "try transition motion\n",
      "transition motion tried: True\n",
      "=============== try reaching goal from ('grip1',) =================\n",
      "result: 0 - ('track',)->('grip1',) = success\n",
      "branching: 0->2 (3.12/100.0 s, steps/err: 27(30.2350521088 ms)/0.00119137723403)\n",
      "======================================================================================================================================================\n",
      "try: 2 - ('grip1',)->('goal',)\n",
      "try transition motion\n",
      "transition motion tried: False\n",
      "result: 2 - ('grip1',)->('goal',) = fail\n",
      "try: 2 - ('grip1',)->('goal',)\n",
      "try transition motion\n",
      "transition motion tried: False\n",
      "result: 2 - ('grip1',)->('goal',) = fail\n",
      "try: 2 - ('grip1',)->('track',)\n",
      "try transition motion\n",
      "transition motion tried: True\n",
      "result: 2 - ('grip1',)->('track',) = success\n",
      "branching: 2->3 (5.24/100.0 s, steps/err: 31(60.9939098358 ms)/0.00175658565996)\n",
      "======================================================================================================================================================\n",
      "try: 2 - ('grip1',)->('track',)\n",
      "try transition motion\n",
      "transition motion tried: True\n",
      "result: 2 - ('grip1',)->('track',) = success\n",
      "branching: 2->4 (5.28/100.0 s, steps/err: 25(44.8598861694 ms)/0.00160639352897)\n",
      "======================================================================================================================================================\n",
      "try: 1 - ('grip1',)->('track',)\n",
      "try transition motion\n",
      "transition motion tried: False\n",
      "result: 1 - ('grip1',)->('track',) = fail\n",
      "try: 3 - ('track',)->('grip0',)\n",
      "try transition motion\n",
      "transition motion tried: False\n",
      "result: 3 - ('track',)->('grip0',) = fail\n",
      "try: 1 - ('grip1',)->('track',)\n",
      "try transition motion\n",
      "transition motion tried: False\n",
      "result: 1 - ('grip1',)->('track',) = fail\n",
      "try: 2 - ('grip1',)->('track',)\n",
      "try transition motion\n",
      "transition motion tried: False\n",
      "result: 2 - ('grip1',)->('track',) = fail\n",
      "try: 3 - ('track',)->('grip1',)\n",
      "try transition motion\n",
      "transition motion tried: False\n",
      "result: 3 - ('track',)->('grip1',) = fail\n",
      "try: 3 - ('track',)->('grip1',)\n",
      "try transition motion\n",
      "transition motion tried: False\n",
      "result: 3 - ('track',)->('grip1',) = fail\n",
      "try: 1 - ('grip1',)->('track',)\n",
      "try transition motion\n",
      "transition motion tried: False\n",
      "result: 1 - ('grip1',)->('track',) = fail\n",
      "try: 1 - ('grip1',)->('goal',)\n",
      "try transition motion\n",
      "transition motion tried: True\n",
      "result: 1 - ('grip1',)->('goal',) = success\n",
      "branching: 1->5 (12.53/100.0 s, steps/err: 36(46.5621948242 ms)/0.00199614168205)\n",
      "======================================================================================================================================================\n",
      "++ adding return motion to acquired answer ++\n",
      "try joint motion\n",
      "joint motion tried: True\n",
      "=========================================================================================================\n",
      "======================= terminated 0: first answer acquired ===============================\n",
      "=========================================================================================================\n"
     ]
    }
   ],
   "source": [
    "ppline.search(initial_state, goal_nodes=[(\"goal\",)], verbose=True, \n",
    "              display=False, dt_vis=0.01, timeout_loop=100, multiprocess=False, timeout=1, timeout_constrained=10)\n",
    "schedules = ppline.tplan.find_schedules()\n",
    "schedules_sorted = ppline.tplan.sort_schedule(schedules)\n",
    "schedule = ppline.tplan.idxSchedule2SnodeScedule(schedules_sorted[0])\n",
    "ppline.play_schedule(schedule, period=0.05)"
   ]
  },
  {
   "cell_type": "code",
   "execution_count": null,
   "metadata": {},
   "outputs": [],
   "source": []
  },
  {
   "cell_type": "markdown",
   "metadata": {},
   "source": [
    "##### execute plan"
   ]
  },
  {
   "cell_type": "code",
   "execution_count": 36,
   "metadata": {
    "scrolled": true
   },
   "outputs": [
    {
     "name": "stdout",
     "output_type": "stream",
     "text": [
      "connection command:\n",
      "indy0: True\n",
      "panda1: True\n",
      "Connect: Server IP (192.168.0.63)\n"
     ]
    }
   ],
   "source": [
    "crob.reset_connection(True, True)"
   ]
  },
  {
   "cell_type": "code",
   "execution_count": 37,
   "metadata": {
    "scrolled": true
   },
   "outputs": [
    {
     "name": "stdout",
     "output_type": "stream",
     "text": [
      "binder: track\n",
      "rname: None\n",
      "Connect: Server IP (192.168.0.63)\n",
      "binder: track\n",
      "rname: None\n",
      "Connect: Server IP (192.168.0.63)\n",
      "go\n",
      "binder: grip1\n",
      "rname: panda1\n",
      "Connect: Server IP (192.168.0.63)\n",
      "go\n",
      "binder: goal\n",
      "rname: None\n",
      "Connect: Server IP (192.168.0.63)\n",
      "go\n",
      "binder: goal\n",
      "rname: None\n",
      "Connect: Server IP (192.168.0.63)\n",
      "Connect: Server IP (192.168.0.63)\n"
     ]
    }
   ],
   "source": [
    "ppline.execute_schedule(schedule, vel_scale=0.5, acc_scale=0.2)"
   ]
  },
  {
   "cell_type": "code",
   "execution_count": null,
   "metadata": {},
   "outputs": [],
   "source": []
  }
 ],
 "metadata": {
  "kernelspec": {
   "display_name": "Python 2",
   "language": "python",
   "name": "python2"
  },
  "language_info": {
   "codemirror_mode": {
    "name": "ipython",
    "version": 2
   },
   "file_extension": ".py",
   "mimetype": "text/x-python",
   "name": "python",
   "nbconvert_exporter": "python",
   "pygments_lexer": "ipython2",
   "version": "2.7.17"
  }
 },
 "nbformat": 4,
 "nbformat_minor": 2
}
