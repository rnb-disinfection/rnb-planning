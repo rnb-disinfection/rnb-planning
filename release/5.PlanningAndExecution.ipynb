{
 "cells": [
  {
   "cell_type": "markdown",
   "metadata": {},
   "source": [
    "## 5. Planning & Execution\n",
    " - simple test scenario: real world single object P&P\n",
    "* **5.1 Indy**\n",
    "* **5.2 Panda**\n",
    "* **5.3 Indy&Panda**"
   ]
  },
  {
   "cell_type": "markdown",
   "metadata": {},
   "source": [
    "### Prepare the task scene\n",
    "* Prepare Indy and Panda. Install gripper to indy.\n",
    "    - If gripper is not prepared, just remove endtool from Indy and assume gripper is there\n",
    "* Prepare \"floor\", \"track\", \"goal\", \"box1\" objects as defined in *pkg.detector.aruco.marker_config.py*\n",
    "* The robots and \"track\" are installed on \"floor\".\n",
    "* \"goal\" and \"box1\" are on \"track\"\n",
    "* In this scenario, \"box1\" will be moved onto \"goal\" plate\n",
    "<img src=\"./Figs/5.PlanningAndExecution.jpg\" width=\"80%\">"
   ]
  },
  {
   "cell_type": "markdown",
   "metadata": {},
   "source": [
    "## 5.1 Indy\n",
    "\n",
    "##### initialize CombinedRobot and GeometryScene\n",
    "* Prepare the robots as instructed in release/1.Robots\n",
    "* Connect gripper to indy - match the direction of grippper with the model added below\n",
    "* Prepare Kinect and Realsense"
   ]
  },
  {
   "cell_type": "code",
   "execution_count": 1,
   "metadata": {
    "scrolled": true
   },
   "outputs": [
    {
     "name": "stdout",
     "output_type": "stream",
     "text": [
      "connection command:\n",
      "indy0: False\n",
      "Device configuration: \n",
      "\tcolor_format: 3 \n",
      "\t(0:JPG, 1:NV12, 2:YUY2, 3:BGRA32)\n",
      "\n",
      "\tcolor_resolution: 5 \n",
      "\t(0:OFF, 1:720p, 2:1080p, 3:1440p, 4:1536p, 5:2160p, 6:3072p)\n",
      "\n",
      "\tdepth_mode: 3 \n",
      "\t(0:OFF, 1:NFOV_2X2BINNED, 2:NFOV_UNBINNED,3:WFOV_2X2BINNED, 4:WFOV_UNBINNED, 5:Passive IR)\n",
      "\n",
      "\tcamera_fps: 2 \n",
      "\t(0:5 FPS, 1:15 FPS, 2:30 FPS)\n",
      "\n",
      "\tsynchronized_images_only: False \n",
      "\t(True of False). Drop images if the color and depth are not synchronized\n",
      "\n",
      "\tdepth_delay_off_color_usec: 0 ms. \n",
      "\tDelay between the color image and the depth image\n",
      "\n",
      "\twired_sync_mode: 0\n",
      "\t(0:Standalone mode, 1:Master mode, 2:Subordinate mode)\n",
      "\n",
      "\tsubordinate_delay_off_master_usec: 0 ms.\n",
      "\tThe external synchronization timing.\n",
      "\n",
      "\tdisable_streaming_indicator: False \n",
      "\t(True or False). Streaming indicator automatically turns on when the color or depth camera's are in use.\n",
      "\n",
      "\n",
      "Start streaming\n",
      "Detector initialized\n",
      "Please create a subscriber to the marker\n",
      "publication OK\n",
      "published: [0, 0, 0, 0, 0, 0]\n",
      "Please create a subscriber to the marker\n"
     ]
    }
   ],
   "source": [
    "import os\n",
    "import sys\n",
    "import numpy as np\n",
    "import time\n",
    "sys.path.append(os.path.join(os.environ[\"RNB_PLANNING_DIR\"], 'src'))\n",
    "\n",
    "from pkg.controller.combined_robot import *\n",
    "from pkg.project_config import *\n",
    "from pkg.geometry.builder.scene_builder import SceneBuilder\n",
    "\n",
    "from pkg.controller.combined_robot import CombinedRobot\n",
    "from pkg.controller.robot_config import RobotConfig, RobotType\n",
    "INDY_IP = \"192.168.21.6\"\n",
    "PANDA_HOST_IP = \"192.168.21.14\" ## The host computer is the computer that runs control program\n",
    "PANDA_ROBOT_IP = \"192.168.21.13\" ## The robot has it's own IP\n",
    "\n",
    "crob = CombinedRobot(\n",
    "    robots_on_scene=[\n",
    "        RobotConfig(0, RobotType.indy7gripper, ((0,-0.3,0), (0,0,0)),\n",
    "                    INDY_IP),\n",
    "#         RobotConfig(1, RobotType.panda, ((0,0.3,0), (0,0,0)),\n",
    "#                     \"{}/{}\".format(PANDA_HOST_IP, PANDA_ROBOT_IP))\n",
    "    ], \n",
    "    connection_list=[False, False])\n",
    "\n",
    "from pkg.detector.aruco.stereo import ArucoStereo\n",
    "from pkg.detector.aruco.marker_config import get_aruco_map\n",
    "from pkg.detector.camera.kinect import Kinect\n",
    "from pkg.detector.camera.realsense import RealSense\n",
    "from pkg.detector.detector_interface import DetectionLevel\n",
    "\n",
    "stereo = ArucoStereo(aruco_map=get_aruco_map(), \n",
    "                     camera_list=[Kinect(), RealSense()])\n",
    "\n",
    "stereo.initialize()\n",
    "\n",
    "time.sleep(1) # Let the camera have some time to get stable\n",
    "stereo.calibrate()\n",
    "print(\"Detector initialized\")\n",
    "\n",
    "from pkg.geometry.builder.scene_builder import SceneBuilder\n",
    "s_builder = SceneBuilder.instance(detector=stereo)\n",
    "# deprecated: s_builder.reset_reference_coord(ref_name=\"floor\")\n",
    "\n",
    "xyz_rpy_robots = s_builder.detect_items(level_mask=[DetectionLevel.ROBOT])\n",
    "crob.update_robot_pos_dict(xyz_rpy_robots=xyz_rpy_robots)\n",
    "gscene = s_builder.create_gscene(crob)\n",
    "gtems = s_builder.add_robot_geometries(color=(0,1,0,0.5), display=True, collision=True)\n",
    "ptems = s_builder.add_poles(\n",
    "    {\"cam0\": stereo.ref_coord_inv[:3,3], \n",
    "     \"cam1\":np.matmul(stereo.ref_coord_inv, stereo.T_c12)[:3,3]},\n",
    "    color=(0.6,0.6,0.6,0.2))\n",
    "\n",
    "gscene.show_pose(crob.home_pose)"
   ]
  },
  {
   "cell_type": "code",
   "execution_count": null,
   "metadata": {},
   "outputs": [],
   "source": []
  },
  {
   "cell_type": "markdown",
   "metadata": {},
   "source": [
    "##### add geometries"
   ]
  },
  {
   "cell_type": "code",
   "execution_count": 2,
   "metadata": {},
   "outputs": [],
   "source": [
    "gtem_dict = s_builder.detect_and_register(level_mask=[DetectionLevel.ENVIRONMENT])\n",
    "track = gtem_dict[\"track\"]\n",
    "\n",
    "gtem_dict = s_builder.detect_and_register(level_mask=[DetectionLevel.MOVABLE])\n",
    "s_builder.give_clearance(track, gtem_dict.values())"
   ]
  },
  {
   "cell_type": "markdown",
   "metadata": {},
   "source": [
    "##### create PlanningScene"
   ]
  },
  {
   "cell_type": "code",
   "execution_count": 3,
   "metadata": {},
   "outputs": [],
   "source": [
    "from pkg.planning.scene import PlanningScene\n",
    "pscene = PlanningScene(gscene, combined_robot=crob)"
   ]
  },
  {
   "cell_type": "markdown",
   "metadata": {},
   "source": [
    "##### create binders"
   ]
  },
  {
   "cell_type": "code",
   "execution_count": 4,
   "metadata": {},
   "outputs": [
    {
     "data": {
      "text/plain": [
       "<pkg.planning.constraint.constraint_actor.PlacePlane at 0x7f886d00c790>"
      ]
     },
     "execution_count": 4,
     "metadata": {},
     "output_type": "execute_result"
    }
   ],
   "source": [
    "from pkg.geometry.geometry import *\n",
    "from pkg.planning.constraint.constraint_actor import PlacePlane, Gripper2Tool\n",
    "\n",
    "gscene.create_safe(gtype=GEOTYPE.SPHERE, name=\"grip0\", link_name=\"indy0_tcp\",\n",
    "                   dims=(0.01,)*3, center=(0,0,0.14), rpy=(-np.pi/2,0,0),\n",
    "                   color=(1,0,0,1), display=True, collision=False, fixed=True)\n",
    "\n",
    "pscene.create_binder(bname=\"grip0\", gname=\"grip0\", _type=Gripper2Tool, point=(0,0,0), rpy=(0,0,0))\n",
    "pscene.create_binder(bname=\"track\", gname=\"track\", _type=PlacePlane, point=None)\n",
    "pscene.create_binder(bname=\"goal\", gname=\"goal\", _type=PlacePlane, point=(0,0,0.005))"
   ]
  },
  {
   "cell_type": "markdown",
   "metadata": {},
   "source": [
    "##### create_subject"
   ]
  },
  {
   "cell_type": "code",
   "execution_count": 5,
   "metadata": {},
   "outputs": [],
   "source": [
    "from pkg.planning.constraint.constraint_subject import Grasp2Point, PlacePoint\n",
    "from pkg.planning.constraint.constraint_subject import CustomObject, BoxObject"
   ]
  },
  {
   "cell_type": "code",
   "execution_count": 6,
   "metadata": {},
   "outputs": [],
   "source": [
    "## create box object with grasping points along positive & negative y-direction and placement point in the bottom face\n",
    "box_obj = pscene.create_subject(oname=\"box1\", gname=\"box1\", _type=BoxObject)"
   ]
  },
  {
   "cell_type": "code",
   "execution_count": null,
   "metadata": {},
   "outputs": [],
   "source": []
  },
  {
   "cell_type": "markdown",
   "metadata": {},
   "source": [
    "##### create PlanningPipeline"
   ]
  },
  {
   "cell_type": "code",
   "execution_count": 7,
   "metadata": {},
   "outputs": [],
   "source": [
    "from pkg.planning.pipeline import PlanningPipeline\n",
    "from pkg.planning.motion.moveit.moveit_planner import MoveitPlanner\n",
    "from pkg.planning.task.rrt import TaskRRT\n",
    "\n",
    "ppline = PlanningPipeline(pscene)\n",
    "ppline.set_motion_planner(MoveitPlanner(pscene))\n",
    "ppline.set_task_planner(TaskRRT(pscene))"
   ]
  },
  {
   "cell_type": "markdown",
   "metadata": {},
   "source": [
    "##### update state"
   ]
  },
  {
   "cell_type": "code",
   "execution_count": 9,
   "metadata": {},
   "outputs": [
    {
     "name": "stdout",
     "output_type": "stream",
     "text": [
      "('track',)\n"
     ]
    }
   ],
   "source": [
    "initial_state = pscene.initialize_state(crob.home_pose)\n",
    "print(initial_state.node)"
   ]
  },
  {
   "cell_type": "markdown",
   "metadata": {},
   "source": [
    "##### search for a plan"
   ]
  },
  {
   "cell_type": "code",
   "execution_count": 10,
   "metadata": {
    "scrolled": true
   },
   "outputs": [
    {
     "name": "stdout",
     "output_type": "stream",
     "text": [
      "try: 0 - ('track',)->('grip0',)\n",
      "error: 2.5\n",
      "try transition motion\n",
      "transition motion tried: False\n",
      "Motion Plan Failure\n",
      "result: 0 - ('track',)->('grip0',) = fail\n",
      "try: 0 - ('track',)->('grip0',)\n",
      "error: 2.7\n",
      "try transition motion\n",
      "transition motion tried: False\n",
      "Motion Plan Failure\n",
      "result: 0 - ('track',)->('grip0',) = fail\n",
      "try: 0 - ('track',)->('grip0',)\n",
      "error: 2.9\n",
      "try transition motion\n",
      "transition motion tried: False\n",
      "Motion Plan Failure\n",
      "result: 0 - ('track',)->('grip0',) = fail\n",
      "try: 0 - ('track',)->('grip0',)\n",
      "error: 2.7\n",
      "try transition motion\n",
      "transition motion tried: False\n",
      "Motion Plan Failure\n",
      "result: 0 - ('track',)->('grip0',) = fail\n",
      "try: 0 - ('track',)->('grip0',)\n",
      "error: 0.77\n",
      "try transition motion\n",
      "transition motion tried: True\n",
      "result: 0 - ('track',)->('grip0',) = success\n",
      "branching: 0->1 (4.24/100.0 s, steps/err: 33(78.7189006805 ms)/0.00216334934249)\n",
      "======================================================================================================================================================\n",
      "try: 1 - ('grip0',)->('goal',)\n",
      "error: 1.5\n",
      "try transition motion\n",
      "transition motion tried: True\n",
      "Goal reached\n",
      "result: 1 - ('grip0',)->('goal',) = success\n",
      "branching: 1->2 (4.3/100.0 s, steps/err: 14(65.6321048737 ms)/0.00182645754452)\n",
      "======================================================================================================================================================\n",
      "++ adding return motion to acquired answer ++\n",
      "Goal reached\n",
      "try: 1 - ('grip0',)->('track',)\n",
      "error: 2.7\n",
      "try transition motion\n",
      "transition motion tried: False\n",
      "Motion Plan Failure\n",
      "result: 1 - ('grip0',)->('track',) = fail\n",
      "try: 1 - ('grip0',)->('goal',)\n",
      "error: 2.1\n",
      "try transition motion\n",
      "transition motion tried: True\n",
      "Goal reached\n",
      "result: 1 - ('grip0',)->('goal',) = success\n",
      "branching: 1->4 (5.67/100.0 s, steps/err: 43(64.9111270905 ms)/0.0017247066799)\n",
      "======================================================================================================================================================\n",
      "++ adding return motion to acquired answer ++\n",
      "Goal reached\n",
      "try: 1 - ('grip0',)->('track',)\n",
      "error: 1.2\n",
      "try transition motion\n",
      "transition motion tried: True\n",
      "result: 1 - ('grip0',)->('track',) = success\n",
      "branching: 1->6 (5.99/100.0 s, steps/err: 23(52.1531105042 ms)/0.00208237511154)\n",
      "======================================================================================================================================================\n",
      "try: 0 - ('track',)->('grip0',)\n",
      "error: 2.3\n",
      "try transition motion\n",
      "transition motion tried: False\n",
      "Motion Plan Failure\n",
      "result: 0 - ('track',)->('grip0',) = fail\n",
      "try: 0 - ('track',)->('grip0',)\n",
      "error: 2.8\n",
      "try transition motion\n",
      "transition motion tried: False\n",
      "Motion Plan Failure\n",
      "result: 0 - ('track',)->('grip0',) = fail\n",
      "try: 0 - ('track',)->('grip0',)\n",
      "error: 0.67\n",
      "try transition motion\n",
      "transition motion tried: True\n",
      "result: 0 - ('track',)->('grip0',) = success\n",
      "branching: 0->7 (8.11/100.0 s, steps/err: 35(63.6801719666 ms)/0.00181754060902)\n",
      "======================================================================================================================================================\n",
      "try: 7 - ('grip0',)->('goal',)\n",
      "error: 2.3\n",
      "try transition motion\n",
      "transition motion tried: False\n",
      "Motion Plan Failure\n",
      "result: 7 - ('grip0',)->('goal',) = fail\n",
      "try: 1 - ('grip0',)->('goal',)\n",
      "error: 2.6\n",
      "try transition motion\n",
      "transition motion tried: False\n",
      "Motion Plan Failure\n",
      "result: 1 - ('grip0',)->('goal',) = fail\n",
      "try: 1 - ('grip0',)->('goal',)\n",
      "error: 2.7\n",
      "try transition motion\n",
      "transition motion tried: False\n",
      "Motion Plan Failure\n",
      "result: 1 - ('grip0',)->('goal',) = fail\n",
      "try: 1 - ('grip0',)->('goal',)\n",
      "error: 2.7\n",
      "try transition motion\n",
      "transition motion tried: True\n",
      "Goal reached\n",
      "result: 1 - ('grip0',)->('goal',) = success\n",
      "branching: 1->8 (11.32/100.0 s, steps/err: 69(78.8109302521 ms)/0.000974125329915)\n",
      "======================================================================================================================================================\n",
      "++ adding return motion to acquired answer ++\n",
      "Goal reached\n",
      "try: 1 - ('grip0',)->('track',)\n",
      "error: 2.1\n",
      "try transition motion\n",
      "transition motion tried: False\n",
      "Motion Plan Failure\n",
      "result: 1 - ('grip0',)->('track',) = fail\n",
      "try: 7 - ('grip0',)->('track',)\n",
      "error: 2.8\n",
      "try transition motion\n",
      "transition motion tried: False\n",
      "Motion Plan Failure\n",
      "result: 7 - ('grip0',)->('track',) = fail\n",
      "try: 1 - ('grip0',)->('track',)\n",
      "error: 2.1\n",
      "try transition motion\n",
      "transition motion tried: True\n",
      "result: 1 - ('grip0',)->('track',) = success\n",
      "branching: 1->10 (13.75/100.0 s, steps/err: 25(69.9977874756 ms)/0.00114868766731)\n",
      "======================================================================================================================================================\n",
      "try: 7 - ('grip0',)->('track',)\n",
      "error: 2.9\n",
      "try transition motion\n",
      "transition motion tried: True\n",
      "result: 7 - ('grip0',)->('track',) = success\n",
      "branching: 7->11 (13.82/100.0 s, steps/err: 52(63.4670257568 ms)/0.00172298568127)\n",
      "======================================================================================================================================================\n",
      "try: 10 - ('track',)->('grip0',)\n",
      "error: 2.8\n",
      "try transition motion\n",
      "transition motion tried: False\n",
      "Motion Plan Failure\n",
      "result: 10 - ('track',)->('grip0',) = fail\n",
      "try: 7 - ('grip0',)->('goal',)\n",
      "error: 2.1\n",
      "try transition motion\n",
      "transition motion tried: False\n",
      "Motion Plan Failure\n",
      "result: 7 - ('grip0',)->('goal',) = fail\n",
      "try: 1 - ('grip0',)->('goal',)\n",
      "error: 2.0\n",
      "try transition motion\n",
      "transition motion tried: False\n",
      "Motion Plan Failure\n",
      "result: 1 - ('grip0',)->('goal',) = fail\n",
      "try: 1 - ('grip0',)->('goal',)\n",
      "error: 2.7\n",
      "try transition motion\n",
      "transition motion tried: False\n",
      "Motion Plan Failure\n",
      "result: 1 - ('grip0',)->('goal',) = fail\n",
      "try: 1 - ('grip0',)->('track',)\n",
      "error: 2.7\n",
      "try transition motion\n",
      "transition motion tried: True\n",
      "result: 1 - ('grip0',)->('track',) = success\n",
      "branching: 1->12 (18.07/100.0 s, steps/err: 43(78.6240100861 ms)/0.00140120665305)\n",
      "======================================================================================================================================================\n",
      "try: 7 - ('grip0',)->('goal',)\n",
      "error: 2.9\n",
      "try transition motion\n",
      "transition motion tried: False\n",
      "Motion Plan Failure\n",
      "result: 7 - ('grip0',)->('goal',) = fail\n",
      "try: 0 - ('track',)->('grip0',)\n",
      "error: 2.3\n",
      "try transition motion\n",
      "transition motion tried: False\n",
      "Motion Plan Failure\n",
      "result: 0 - ('track',)->('grip0',) = fail\n",
      "try: 7 - ('grip0',)->('track',)\n",
      "error: 2.6\n",
      "try transition motion\n",
      "transition motion tried: True\n",
      "result: 7 - ('grip0',)->('track',) = success\n",
      "branching: 7->13 (20.2/100.0 s, steps/err: 47(70.188999176 ms)/0.00133611111087)\n",
      "======================================================================================================================================================\n",
      "try: 10 - ('track',)->('grip0',)\n",
      "error: 2.8\n",
      "try transition motion\n",
      "transition motion tried: False\n",
      "Motion Plan Failure\n",
      "result: 10 - ('track',)->('grip0',) = fail\n",
      "try: 1 - ('grip0',)->('goal',)\n",
      "error: 2.1\n",
      "try transition motion\n",
      "transition motion tried: False\n",
      "Motion Plan Failure\n",
      "result: 1 - ('grip0',)->('goal',) = fail\n",
      "try: 0 - ('track',)->('grip0',)\n",
      "error: 2.3\n",
      "try transition motion\n",
      "transition motion tried: True\n",
      "result: 0 - ('track',)->('grip0',) = success\n",
      "branching: 0->14 (22.42/100.0 s, steps/err: 70(128.80897522 ms)/0.00121528432001)\n",
      "======================================================================================================================================================\n",
      "try: 14 - ('grip0',)->('goal',)\n",
      "error: 2.1\n",
      "try transition motion\n",
      "transition motion tried: False\n",
      "Motion Plan Failure\n",
      "result: 14 - ('grip0',)->('goal',) = fail\n",
      "try: 6 - ('track',)->('grip0',)\n",
      "error: 2.6\n",
      "try transition motion\n",
      "transition motion tried: False\n",
      "Motion Plan Failure\n",
      "result: 6 - ('track',)->('grip0',) = fail\n",
      "try: 13 - ('track',)->('grip0',)\n",
      "error: 2.6\n",
      "try transition motion\n",
      "transition motion tried: False\n",
      "Motion Plan Failure\n",
      "result: 13 - ('track',)->('grip0',) = fail\n",
      "try: 7 - ('grip0',)->('goal',)\n",
      "error: 2.8\n",
      "try transition motion\n",
      "transition motion tried: False\n",
      "Motion Plan Failure\n",
      "result: 7 - ('grip0',)->('goal',) = fail\n",
      "try: 14 - ('grip0',)->('goal',)\n",
      "error: 2.1\n",
      "try transition motion\n",
      "transition motion tried: False\n",
      "Motion Plan Failure\n"
     ]
    },
    {
     "name": "stdout",
     "output_type": "stream",
     "text": [
      "result: 14 - ('grip0',)->('goal',) = fail\n",
      "try: 6 - ('track',)->('grip0',)\n",
      "error: 0.77\n",
      "try transition motion\n",
      "transition motion tried: True\n",
      "result: 6 - ('track',)->('grip0',) = success\n",
      "branching: 6->15 (27.66/100.0 s, steps/err: 13(49.3750572205 ms)/0.00150748763961)\n",
      "======================================================================================================================================================\n",
      "try: 15 - ('grip0',)->('goal',)\n",
      "error: 2.0\n",
      "try transition motion\n",
      "transition motion tried: False\n",
      "Motion Plan Failure\n",
      "result: 15 - ('grip0',)->('goal',) = fail\n",
      "try: 15 - ('grip0',)->('goal',)\n",
      "error: 2.8\n",
      "try transition motion\n",
      "transition motion tried: False\n",
      "Motion Plan Failure\n",
      "result: 15 - ('grip0',)->('goal',) = fail\n",
      "try: 1 - ('grip0',)->('track',)\n",
      "error: 2.3\n",
      "try transition motion\n",
      "transition motion tried: False\n",
      "Motion Plan Failure\n",
      "result: 1 - ('grip0',)->('track',) = fail\n",
      "try: 1 - ('grip0',)->('goal',)\n",
      "error: 2.7\n",
      "try transition motion\n",
      "transition motion tried: False\n",
      "Motion Plan Failure\n",
      "result: 1 - ('grip0',)->('goal',) = fail\n",
      "try: 10 - ('track',)->('grip0',)\n",
      "error: 1.9\n",
      "try transition motion\n",
      "transition motion tried: True\n",
      "result: 10 - ('track',)->('grip0',) = success\n",
      "branching: 10->16 (31.98/100.0 s, steps/err: 75(141.956090927 ms)/0.00119873738483)\n",
      "======================================================================================================================================================\n",
      "try: 16 - ('grip0',)->('goal',)\n",
      "error: 2.7\n",
      "try transition motion\n",
      "transition motion tried: True\n",
      "Goal reached\n",
      "result: 16 - ('grip0',)->('goal',) = success\n",
      "branching: 16->17 (32.04/100.0 s, steps/err: 35(56.3271045685 ms)/0.00135950912825)\n",
      "======================================================================================================================================================\n",
      "++ adding return motion to acquired answer ++\n",
      "Goal reached\n",
      "try: 16 - ('grip0',)->('track',)\n",
      "error: 2.5\n",
      "try transition motion\n",
      "transition motion tried: False\n",
      "Motion Plan Failure\n",
      "result: 16 - ('grip0',)->('track',) = fail\n",
      "try: 16 - ('grip0',)->('track',)\n",
      "error: 2.0\n",
      "try transition motion\n",
      "transition motion tried: False\n",
      "Motion Plan Failure\n",
      "result: 16 - ('grip0',)->('track',) = fail\n",
      "try: 14 - ('grip0',)->('track',)\n",
      "error: 2.8\n",
      "try transition motion\n",
      "transition motion tried: False\n",
      "Motion Plan Failure\n",
      "result: 14 - ('grip0',)->('track',) = fail\n",
      "try: 16 - ('grip0',)->('track',)\n",
      "error: 2.5\n",
      "try transition motion\n",
      "transition motion tried: False\n",
      "Motion Plan Failure\n",
      "result: 16 - ('grip0',)->('track',) = fail\n",
      "try: 14 - ('grip0',)->('goal',)\n",
      "error: 2.8\n",
      "try transition motion\n",
      "transition motion tried: False\n",
      "Motion Plan Failure\n",
      "result: 14 - ('grip0',)->('goal',) = fail\n",
      "try: 7 - ('grip0',)->('track',)\n",
      "error: 2.0\n",
      "try transition motion\n",
      "transition motion tried: False\n",
      "Motion Plan Failure\n",
      "result: 7 - ('grip0',)->('track',) = fail\n",
      "try: 0 - ('track',)->('grip0',)\n",
      "error: 2.7\n",
      "try transition motion\n",
      "transition motion tried: False\n",
      "Motion Plan Failure\n",
      "result: 0 - ('track',)->('grip0',) = fail\n",
      "try: 14 - ('grip0',)->('track',)\n",
      "error: 2.6\n",
      "try transition motion\n",
      "transition motion tried: True\n",
      "result: 14 - ('grip0',)->('track',) = success\n",
      "branching: 14->19 (39.66/100.0 s, steps/err: 95(98.7060070038 ms)/0.00120860514792)\n",
      "======================================================================================================================================================\n",
      "try: 7 - ('grip0',)->('track',)\n",
      "error: 2.1\n",
      "try transition motion\n",
      "transition motion tried: False\n",
      "Motion Plan Failure\n",
      "result: 7 - ('grip0',)->('track',) = fail\n",
      "try: 11 - ('track',)->('grip0',)\n",
      "error: 2.8\n",
      "try transition motion\n",
      "transition motion tried: False\n",
      "Motion Plan Failure\n",
      "result: 11 - ('track',)->('grip0',) = fail\n",
      "try: 7 - ('grip0',)->('track',)\n",
      "error: 2.8\n",
      "try transition motion\n",
      "transition motion tried: False\n",
      "Motion Plan Failure\n",
      "result: 7 - ('grip0',)->('track',) = fail\n",
      "try: 16 - ('grip0',)->('track',)\n",
      "error: 2.8\n",
      "try transition motion\n",
      "transition motion tried: False\n",
      "Motion Plan Failure\n",
      "result: 16 - ('grip0',)->('track',) = fail\n",
      "try: 7 - ('grip0',)->('track',)\n",
      "error: 0.58\n",
      "try transition motion\n",
      "transition motion tried: True\n",
      "result: 7 - ('grip0',)->('track',) = success\n",
      "branching: 7->20 (43.87/100.0 s, steps/err: 10(39.7720336914 ms)/0.00148598836709)\n",
      "======================================================================================================================================================\n",
      "try: 14 - ('grip0',)->('goal',)\n",
      "error: 2.4\n",
      "try transition motion\n",
      "transition motion tried: True\n",
      "Goal reached\n",
      "result: 14 - ('grip0',)->('goal',) = success\n",
      "branching: 14->21 (43.93/100.0 s, steps/err: 51(64.5339488983 ms)/0.00171810438522)\n",
      "======================================================================================================================================================\n",
      "++ adding return motion to acquired answer ++\n",
      "Goal reached\n",
      "try: 15 - ('grip0',)->('track',)\n",
      "error: 2.2\n",
      "try transition motion\n",
      "transition motion tried: False\n",
      "Motion Plan Failure\n",
      "result: 15 - ('grip0',)->('track',) = fail\n",
      "try: 1 - ('grip0',)->('track',)\n",
      "error: 2.5\n",
      "try transition motion\n",
      "transition motion tried: False\n",
      "Motion Plan Failure\n",
      "result: 1 - ('grip0',)->('track',) = fail\n",
      "try: 7 - ('grip0',)->('track',)\n",
      "error: 2.8\n",
      "try transition motion\n",
      "transition motion tried: False\n",
      "Motion Plan Failure\n",
      "result: 7 - ('grip0',)->('track',) = fail\n",
      "try: 13 - ('track',)->('grip0',)\n",
      "error: 2.1\n",
      "try transition motion\n",
      "transition motion tried: False\n",
      "Motion Plan Failure\n",
      "result: 13 - ('track',)->('grip0',) = fail\n",
      "try: 7 - ('grip0',)->('goal',)\n",
      "error: 2.1\n",
      "try transition motion\n",
      "transition motion tried: False\n",
      "Motion Plan Failure\n",
      "result: 7 - ('grip0',)->('goal',) = fail\n",
      "try: 7 - ('grip0',)->('goal',)\n",
      "error: 2.2\n",
      "try transition motion\n",
      "transition motion tried: False\n",
      "Motion Plan Failure\n",
      "result: 7 - ('grip0',)->('goal',) = fail\n",
      "try: 14 - ('grip0',)->('goal',)\n",
      "error: 2.8\n",
      "try transition motion\n",
      "transition motion tried: True\n",
      "Goal reached\n",
      "result: 14 - ('grip0',)->('goal',) = success\n",
      "branching: 14->23 (50.52/100.0 s, steps/err: 57(61.74492836 ms)/0.00121001106604)\n",
      "======================================================================================================================================================\n",
      "++ adding return motion to acquired answer ++\n",
      "Goal reached\n",
      "=========================================================================================================\n",
      "======================= terminated 0: required answers acquired  (50.8/100.0) ===============================\n",
      "=========================================================================================================\n",
      "========================== FINISHED (50.8 / 100.0 s) ==============================]\n",
      "('track',)->('grip0',)\n",
      "('grip0',)->('goal',)\n",
      "('goal',)->('goal',)\n"
     ]
    }
   ],
   "source": [
    "ppline.search(initial_state, goal_nodes=[(\"goal\",)], verbose=True, \n",
    "              display=False, dt_vis=0.01, timeout_loop=100, multiprocess=True, timeout=1, timeout_constrained=10)\n",
    "schedules = ppline.tplan.find_schedules()\n",
    "schedules_sorted = ppline.tplan.sort_schedule(schedules)\n",
    "schedule = ppline.tplan.idxSchedule2SnodeScedule(schedules_sorted[0])\n",
    "ppline.play_schedule(schedule, period=0.05)"
   ]
  },
  {
   "cell_type": "code",
   "execution_count": null,
   "metadata": {},
   "outputs": [],
   "source": []
  },
  {
   "cell_type": "markdown",
   "metadata": {},
   "source": [
    "##### execute plan"
   ]
  },
  {
   "cell_type": "code",
   "execution_count": 11,
   "metadata": {
    "scrolled": false
   },
   "outputs": [
    {
     "name": "stdout",
     "output_type": "stream",
     "text": [
      "connection command:\n",
      "indy0: True\n"
     ]
    }
   ],
   "source": [
    "crob.reset_connection(True)"
   ]
  },
  {
   "cell_type": "markdown",
   "metadata": {},
   "source": [
    "* convert waypoint schedule to a safe interpolated schedule"
   ]
  },
  {
   "cell_type": "code",
   "execution_count": 12,
   "metadata": {},
   "outputs": [],
   "source": [
    "safe_schedule = calculate_safe_schedule(pscene, schedule, vel_lims=0.2, acc_lims=0.5)"
   ]
  },
  {
   "cell_type": "markdown",
   "metadata": {},
   "source": [
    "* execute safe schedule"
   ]
  },
  {
   "cell_type": "code",
   "execution_count": 13,
   "metadata": {
    "scrolled": true
   },
   "outputs": [
    {
     "name": "stdout",
     "output_type": "stream",
     "text": [
      "Connect: Server IP (192.168.21.6)\n",
      "Connect: Server IP (192.168.21.6)\n",
      "Connect: Server IP (192.168.21.6)\n",
      "Connect: Server IP (192.168.21.6)\n",
      "Connect: Server IP (192.168.21.6)\n",
      "Connect: Server IP (192.168.21.6)\n",
      "Connect: Server IP (192.168.21.6)\n"
     ]
    },
    {
     "data": {
      "text/plain": [
       "True"
      ]
     },
     "execution_count": 13,
     "metadata": {},
     "output_type": "execute_result"
    }
   ],
   "source": [
    "ppline.execute_schedule(safe_schedule)"
   ]
  },
  {
   "cell_type": "code",
   "execution_count": null,
   "metadata": {},
   "outputs": [],
   "source": []
  },
  {
   "cell_type": "markdown",
   "metadata": {},
   "source": [
    "## 5.2 Panda\n",
    "\n",
    "##### initialize CombinedRobot and GeometryScene\n",
    "* Prepare the robots as instructed in release/1.Robots\n",
    "* Prepare Kinect and Realsense"
   ]
  },
  {
   "cell_type": "code",
   "execution_count": 8,
   "metadata": {},
   "outputs": [
    {
     "name": "stdout",
     "output_type": "stream",
     "text": [
      "connection command:\n",
      "panda1: False\n",
      "rospy.init_node() has already been called with different arguments: ('task_planner', ['/usr/local/lib/python2.7/dist-packages/ipykernel_launcher.py', '-f', '/home/rnb/.local/share/jupyter/runtime/kernel-2e9edae0-1100-47f3-83a1-c67b02756b91.json'], True, None, False, True)\n",
      "publication OK\n",
      "published: [0, 0, 0, 0, 0, 0, 0]\n",
      "Please create a subscriber to the marker\n"
     ]
    }
   ],
   "source": [
    "from pkg.controller.combined_robot import *\n",
    "from pkg.project_config import *\n",
    "from pkg.geometry.builder.scene_builder import SceneBuilder\n",
    "\n",
    "from pkg.controller.combined_robot import CombinedRobot\n",
    "from pkg.controller.robot_config import RobotConfig, RobotType\n",
    "INDY_IP = \"192.168.21.6\"\n",
    "PANDA_HOST_IP = \"192.168.21.14\" ## The host computer is the computer that runs control program\n",
    "PANDA_ROBOT_IP = \"192.168.21.13\" ## The robot has it's own IP\n",
    "\n",
    "crob = CombinedRobot(\n",
    "    robots_on_scene=[\n",
    "#         RobotConfig(0, RobotType.indy7, ((0,-0.3,0), (0,0,0)),\n",
    "#                     INDY_IP),\n",
    "        RobotConfig(1, RobotType.panda, ((0,0.3,0), (0,0,0)),\n",
    "                    \"{}/{}\".format(PANDA_HOST_IP, PANDA_ROBOT_IP))\n",
    "    ], \n",
    "    connection_list=[False, False])\n",
    "\n",
    "xyz_rpy_robots = s_builder.detect_items(level_mask=[DetectionLevel.ROBOT])\n",
    "crob.update_robot_pos_dict(xyz_rpy_robots=xyz_rpy_robots)\n",
    "gscene = s_builder.create_gscene(crob)\n",
    "gtems = s_builder.add_robot_geometries(color=(0,1,0,0.5), display=True, collision=True)\n",
    "ptems = s_builder.add_poles(\n",
    "    {\"cam0\": stereo.ref_coord_inv[:3,3], \n",
    "     \"cam1\":np.matmul(stereo.ref_coord_inv, stereo.T_c12)[:3,3]},\n",
    "    color=(0.6,0.6,0.6,0.2))\n",
    "\n",
    "gscene.show_pose(crob.home_pose)"
   ]
  },
  {
   "cell_type": "markdown",
   "metadata": {},
   "source": [
    "##### add geometries"
   ]
  },
  {
   "cell_type": "code",
   "execution_count": 9,
   "metadata": {},
   "outputs": [],
   "source": [
    "gtem_dict = s_builder.detect_and_register(level_mask=[DetectionLevel.ENVIRONMENT])\n",
    "track = gtem_dict[\"track\"]\n",
    "\n",
    "gtem_dict = s_builder.detect_and_register(level_mask=[DetectionLevel.MOVABLE])\n",
    "s_builder.give_clearance(track, gtem_dict.values())"
   ]
  },
  {
   "cell_type": "markdown",
   "metadata": {},
   "source": [
    "##### create PlanningScene"
   ]
  },
  {
   "cell_type": "code",
   "execution_count": 10,
   "metadata": {},
   "outputs": [],
   "source": [
    "from pkg.planning.scene import PlanningScene\n",
    "pscene = PlanningScene(gscene, combined_robot=crob)"
   ]
  },
  {
   "cell_type": "markdown",
   "metadata": {},
   "source": [
    "##### create binders"
   ]
  },
  {
   "cell_type": "code",
   "execution_count": 11,
   "metadata": {},
   "outputs": [
    {
     "data": {
      "text/plain": [
       "<pkg.planning.constraint.constraint_actor.PlacePlane at 0x7f886d02ad10>"
      ]
     },
     "execution_count": 11,
     "metadata": {},
     "output_type": "execute_result"
    }
   ],
   "source": [
    "from pkg.geometry.geometry import *\n",
    "from pkg.planning.constraint.constraint_actor import PlacePlane, Gripper2Tool\n",
    "\n",
    "gscene.create_safe(gtype=GEOTYPE.SPHERE, name=\"grip1\", link_name=\"panda1_hand\", \n",
    "                 dims=(0.01,)*3, center=(0,0,0.112), rpy=(-np.pi/2,0,0), color=(1,0,0,1), display=True, collision=False, fixed=True)\n",
    "\n",
    "pscene.create_binder(bname=\"grip1\", gname=\"grip1\", _type=Gripper2Tool, point=(0,0,0), rpy=(0,0,0))\n",
    "pscene.create_binder(bname=\"track\", gname=\"track\", _type=PlacePlane, point=None)\n",
    "pscene.create_binder(bname=\"goal\", gname=\"goal\", _type=PlacePlane, point=(0,0,0.005))"
   ]
  },
  {
   "cell_type": "markdown",
   "metadata": {},
   "source": [
    "##### create_subject"
   ]
  },
  {
   "cell_type": "code",
   "execution_count": 12,
   "metadata": {},
   "outputs": [],
   "source": [
    "from pkg.planning.constraint.constraint_subject import Grasp2Point, PlacePoint\n",
    "from pkg.planning.constraint.constraint_subject import CustomObject, BoxObject"
   ]
  },
  {
   "cell_type": "code",
   "execution_count": 13,
   "metadata": {},
   "outputs": [],
   "source": [
    "## create box object with grasping points along positive & negative y-direction and placement point in the bottom face\n",
    "box_obj = pscene.create_subject(oname=\"box1\", gname=\"box1\", _type=BoxObject)"
   ]
  },
  {
   "cell_type": "code",
   "execution_count": null,
   "metadata": {},
   "outputs": [],
   "source": []
  },
  {
   "cell_type": "markdown",
   "metadata": {},
   "source": [
    "##### create PlanningPipeline"
   ]
  },
  {
   "cell_type": "code",
   "execution_count": 14,
   "metadata": {},
   "outputs": [],
   "source": [
    "from pkg.planning.pipeline import PlanningPipeline\n",
    "from pkg.planning.motion.moveit.moveit_planner import MoveitPlanner\n",
    "from pkg.planning.task.rrt import TaskRRT\n",
    "\n",
    "ppline = PlanningPipeline(pscene)\n",
    "ppline.set_motion_planner(MoveitPlanner(pscene))\n",
    "ppline.set_task_planner(TaskRRT(pscene))"
   ]
  },
  {
   "cell_type": "markdown",
   "metadata": {},
   "source": [
    "##### update state"
   ]
  },
  {
   "cell_type": "code",
   "execution_count": 15,
   "metadata": {},
   "outputs": [
    {
     "name": "stdout",
     "output_type": "stream",
     "text": [
      "('track',)\n"
     ]
    }
   ],
   "source": [
    "initial_state = pscene.initialize_state(crob.home_pose)\n",
    "print(initial_state.node)"
   ]
  },
  {
   "cell_type": "markdown",
   "metadata": {},
   "source": [
    "##### search for a plan"
   ]
  },
  {
   "cell_type": "code",
   "execution_count": 16,
   "metadata": {
    "scrolled": true
   },
   "outputs": [
    {
     "name": "stdout",
     "output_type": "stream",
     "text": [
      "Use 18/36 agents\n",
      "try: 0 - ('track',)->('grip1',)\n",
      "error: 2.8\n",
      "try: 0 - ('track',)->('grip1',)\n",
      "try: 0 - ('track',)->('grip1',)\n",
      "try transition motion\n",
      "error: 2.5\n",
      "error: 2.7\n",
      "try transition motion\n",
      "try transition motion\n",
      "try: 0 - ('track',)->('grip1',)\n",
      "error: 2.9\n",
      "try: 0 - ('track',)->('grip1',)\n",
      "try transition motion\n",
      "try: 0 - ('track',)->('grip1',)\n",
      "error: 2.4\n",
      "error: 2.4\n",
      "try transition motion\n",
      "try transition motion\n",
      "try: 0 - ('track',)->('grip1',)\n",
      "error: 2.7\n",
      "try: 0 - ('track',)->('grip1',)\n",
      "try transition motion\n",
      "error: 1.3\n",
      "try transition motion\n",
      "try: 0 - ('track',)->('grip1',)\n",
      "transition motion tried: True\n",
      "try: 2 - ('grip1',)->('goal',)\n",
      "error: 2.2\n",
      "branching: 0->2 (0.74/100.0 s, steps/err: 33(167.951107025 ms)/0.00105210148171)\n",
      "result: 0 - ('track',)->('grip1',) = success\n",
      "branching: 0->1 (0.73/100.0 s, steps/err: 29(193.258047104 ms)/0.0014591646176)\n",
      "transition motion tried: True\n",
      "======================================================================================================================================================\n",
      "result: 0 - ('track',)->('grip1',) = success\n",
      "try transition motion\n",
      "try: 1 - ('grip1',)->('goal',)\n",
      "======================================================================================================================================================\n",
      "error: 2.5\n",
      "try transition motion\n",
      "error: 2.3\n",
      "try: 1 - ('grip1',)->('track',)\n",
      "try transition motion\n",
      "error: 2.0\n",
      "try transition motion\n",
      "try: 2 - ('grip1',)->('track',)\n",
      "try: 1 - ('grip1',)->('track',)\n",
      "transition motion tried: True\n",
      "error: 2.8\n",
      "Goal reached\n",
      "error: 2.1\n",
      "try: 2 - ('grip1',)->('goal',)\n",
      "try transition motion\n",
      "try: 2 - ('grip1',)->('goal',)\n",
      "result: 2 - ('grip1',)->('goal',) = success\n",
      "try transition motion\n",
      "error: 2.8\n",
      "try transition motion\n",
      "error: 2.3\n",
      "branching: 2->3 (1.0/100.0 s, steps/err: 33(118.052959442 ms)/0.00174104920518)\n",
      "try transition motion\n",
      "======================================================================================================================================================\n",
      "++ adding return motion to acquired answer ++\n",
      "try: 0 - ('track',)->('grip1',)\n",
      "error: 3.0\n",
      "try transition motion\n",
      "transition motion tried: True\n",
      "Goal reached\n",
      "try: 0 - ('track',)->('grip1',)\n",
      "result: 2 - ('grip1',)->('goal',) = success\n",
      "error: 2.4\n",
      "branching: 2->4 (1.18/100.0 s, steps/err: 42(148.974895477 ms)/0.00149765102194)\n",
      "try transition motion\n",
      "======================================================================================================================================================\n",
      "++ adding return motion to acquired answer ++\n",
      "Goal reached\n",
      "try: 1 - ('grip1',)->('track',)\n",
      "transition motion tried: False\n",
      "Motion Plan Failure\n",
      "error: 0.24\n",
      "try transition motion\n",
      "result: 0 - ('track',)->('grip1',) = fail\n",
      "Goal reached\n",
      "try: 0 - ('track',)->('grip1',)\n",
      "transition motion tried: False\n",
      "error: 1.4\n",
      "Motion Plan Failure\n",
      "transition motion tried: False\n",
      "try: 0 - ('track',)->('grip1',)\n",
      "try transition motion\n",
      "error: 2.5\n",
      "try transition motion\n",
      "result: 0 - ('track',)->('grip1',) = fail\n",
      "Motion Plan Failure\n",
      "transition motion tried: True\n",
      "try: 1 - ('grip1',)->('goal',)\n",
      "result: 0 - ('track',)->('grip1',) = fail\n",
      "error: 0.75\n",
      "result: 1 - ('grip1',)->('track',) = success\n",
      "try: 2 - ('grip1',)->('track',)\n",
      "try transition motion\n",
      "branching: 1->7 (1.41/100.0 s, steps/err: 15(118.960142136 ms)/0.00156674641496)\n",
      "error: 2.8\n",
      "try transition motion\n",
      "transition motion tried: False\n",
      "======================================================================================================================================================\n",
      "Motion Plan Failure\n",
      "try: 2 - ('grip1',)->('track',)\n",
      "try: 7 - ('track',)->('grip1',)\n",
      "result: 0 - ('track',)->('grip1',) = fail\n",
      "error: 2.0\n",
      "try transition motion\n",
      "try: 1 - ('grip1',)->('goal',)\n",
      "error: 2.1\n",
      "error: 2.6\n",
      "transition motion tried: True\n",
      "try transition motion\n",
      "try transition motion\n",
      "Goal reached\n",
      "result: 1 - ('grip1',)->('goal',) = success\n",
      "branching: 1->8 (1.48/100.0 s, steps/err: 8(88.0279541016 ms)/0.00120183830327)\n",
      "======================================================================================================================================================\n",
      "++ adding return motion to acquired answer ++\n",
      "transition motion tried: False\n",
      "Motion Plan Failure\n",
      "transition motion tried: False\n",
      "result: 0 - ('track',)->('grip1',) = fail\n",
      "Motion Plan Failure\n",
      "try: 2 - ('grip1',)->('goal',)\n",
      "transition motion tried: True\n",
      "result: 0 - ('track',)->('grip1',) = fail\n",
      "result: 2 - ('grip1',)->('track',) = success\n",
      "error: 2.8\n",
      "try: 1 - ('grip1',)->('track',)\n",
      "branching: 2->9 (1.53/100.0 s, steps/err: 60(92.010974884 ms)/0.00126363783446)\n",
      "try transition motion\n",
      "try: 1 - ('grip1',)->('track',)\n",
      "error: 2.8\n",
      "error: 0.9\n",
      "======================================================================================================================================================\n",
      "try transition motion\n",
      "try transition motion\n",
      "try: 2 - ('grip1',)->('goal',)\n",
      "error: 0.5\n",
      "Goal reached\n",
      "try transition motion\n",
      "transition motion tried: True\n",
      "result: 0 - ('track',)->('grip1',) = success\n",
      "branching: 0->11 (1.61/100.0 s, steps/err: 37(258.672952652 ms)/0.00135034347269)\n",
      "transition motion tried: True\n",
      "transition motion tried: True\n",
      "======================================================================================================================================================\n",
      "result: 1 - ('grip1',)->('track',) = success\n",
      "Goal reached\n",
      "branching: 1->12 (1.62/100.0 s, steps/err: 28(79.4239044189 ms)/0.00142814629657)\n",
      "======================================================================================================================================================\n",
      "result: 2 - ('grip1',)->('goal',) = success\n",
      "try: 2 - ('grip1',)->('goal',)\n",
      "try: 11 - ('grip1',)->('goal',)\n",
      "transition motion tried: True\n",
      "branching: 2->13 (1.65/100.0 s, steps/err: 61(92.9369926453 ms)/0.0020448492545)\n",
      "error: 2.8\n",
      "try transition motion\n",
      "======================================================================================================================================================\n",
      "error: 2.0\n",
      "Goal reached\n",
      "++ adding return motion to acquired answer ++\n",
      "try transition motion\n",
      "result: 2 - ('grip1',)->('goal',) = success\n",
      "branching: 2->14 (1.67/100.0 s, steps/err: 14(86.1449241638 ms)/0.00124296439681)\n",
      "======================================================================================================================================================\n",
      "++ adding return motion to acquired answer ++\n",
      "Goal reached\n",
      "transition motion tried: False\n",
      "Motion Plan Failure\n",
      "result: 0 - ('track',)->('grip1',) = fail\n",
      "Goal reached\n",
      "try: 2 - ('grip1',)->('goal',)\n",
      "try: 2 - ('grip1',)->('track',)\n",
      "error: 2.0\n",
      "error: 2.4\n",
      "try transition motion\n",
      "try transition motion\n",
      "transition motion tried: False\n",
      "Motion Plan Failure\n",
      "result: 1 - ('grip1',)->('goal',) = fail\n",
      "try: 2 - ('grip1',)->('track',)\n",
      "error: 2.0\n",
      "try transition motion\n",
      "transition motion tried: False\n",
      "Motion Plan Failure\n",
      "result: 1 - ('grip1',)->('track',) = fail\n",
      "try: 1 - ('grip1',)->('goal',)\n",
      "error: 2.4\n",
      "try transition motion\n",
      "transition motion tried: False\n",
      "Motion Plan Failure\n",
      "result: 1 - ('grip1',)->('track',) = fail\n",
      "try: 9 - ('track',)->('grip1',)\n",
      "try: 1 - ('grip1',)->('track',)\n",
      "error: 2.8\n",
      "error: 2.2\n",
      "try transition motion\n",
      "try transition motion\n",
      "try: 1 - ('grip1',)->('goal',)\n",
      "error: 2.6\n",
      "try transition motion\n",
      "transition motion tried: False\n",
      "Motion Plan Failure\n",
      "result: 2 - ('grip1',)->('track',) = fail\n",
      "try: 1 - ('grip1',)->('goal',)\n",
      "error: 2.7\n",
      "try transition motion\n",
      "transition motion tried: False\n",
      "Motion Plan Failure\n",
      "result: 2 - ('grip1',)->('goal',) = fail\n",
      "try: 1 - ('grip1',)->('track',)\n",
      "error: 2.8\n",
      "try transition motion\n",
      "transition motion tried: True\n",
      "Goal reached\n",
      "result: 1 - ('grip1',)->('goal',) = success\n",
      "branching: 1->17 (2.14/100.0 s, steps/err: 67(87.5558853149 ms)/0.00168349155005)\n",
      "======================================================================================================================================================\n",
      "++ adding return motion to acquired answer ++\n",
      "transition motion tried: False\n",
      "Motion Plan Failure\n",
      "result: 0 - ('track',)->('grip1',) = fail\n",
      "try: 2 - ('grip1',)->('goal',)\n",
      "error: 2.6\n",
      "try transition motion\n",
      "transition motion tried: True\n",
      "transition motion tried: False\n",
      "Goal reached\n",
      "Motion Plan Failure\n",
      "result: 2 - ('grip1',)->('goal',) = success\n",
      "branching: 2->18 (2.24/100.0 s, steps/err: 41(59.4439506531 ms)/0.00130719322755)\n"
     ]
    },
    {
     "name": "stdout",
     "output_type": "stream",
     "text": [
      "======================================================================================================================================================\n",
      "result: 0 - ('track',)->('grip1',) = fail\n",
      "++ adding return motion to acquired answer ++\n",
      "try: 11 - ('grip1',)->('track',)\n",
      "error: 2.4\n",
      "try transition motion\n",
      "Goal reached\n",
      "Goal reached\n",
      "transition motion tried: True\n",
      "result: 11 - ('grip1',)->('track',) = success\n",
      "branching: 11->21 (2.39/100.0 s, steps/err: 71(136.13319397 ms)/0.00173799219321)\n",
      "======================================================================================================================================================\n",
      "try: 2 - ('grip1',)->('goal',)\n",
      "transition motion tried: False\n",
      "error: 2.8\n",
      "try transition motion\n",
      "Motion Plan Failure\n",
      "result: 0 - ('track',)->('grip1',) = fail\n",
      "try: 2 - ('grip1',)->('goal',)\n",
      "error: 2.0\n",
      "try transition motion\n",
      "transition motion tried: False\n",
      "Motion Plan Failure\n",
      "result: 2 - ('grip1',)->('track',) = fail\n",
      "try: 7 - ('track',)->('grip1',)\n",
      "=========================================================================================================\n",
      "error: 2.1\n",
      "======================= terminated 10: required answers acquired  (2.5/100.0) ===============================\n",
      "try transition motion\n",
      "=========================================================================================================\n",
      "transition motion tried: False\n",
      "Motion Plan Failure\n",
      "result: 7 - ('track',)->('grip1',) = fail\n",
      "=========================================================================================================\n",
      "======================= terminated 16: Stop called from other agent  (2.5/100.0) ===============================\n",
      "transition motion tried: False\n",
      "=========================================================================================================\n",
      "Motion Plan Failure\n",
      "result: 1 - ('grip1',)->('goal',) = fail\n",
      "=========================================================================================================\n",
      "======================= terminated 3: Stop called from other agent  (2.5/100.0) ===============================\n",
      "=========================================================================================================\n",
      "=========================================================================================================\n",
      "======================= terminated 14: required answers acquired  (2.5/100.0) ===============================\n",
      "=========================================================================================================\n",
      "transition motion tried: False\n",
      "Motion Plan Failure\n",
      "result: 1 - ('grip1',)->('track',) = fail\n",
      "=========================================================================================================\n",
      "======================= terminated 13: Stop called from other agent  (2.6/100.0) ===============================\n",
      "=========================================================================================================\n",
      "transition motion tried: False\n",
      "Motion Plan Failure\n",
      "result: 11 - ('grip1',)->('goal',) = fail\n",
      "transition motion tried: False\n",
      "=========================================================================================================\n",
      "Motion Plan Failure\n",
      "======================= terminated 4: Stop called from other agent  (2.7/100.0) ===============================\n",
      "=========================================================================================================\n",
      "result: 2 - ('grip1',)->('goal',) = fail\n",
      "=========================================================================================================\n",
      "======================= terminated 0: Stop called from other agent  (2.7/100.0) ===============================\n",
      "=========================================================================================================\n",
      "transition motion tried: False\n",
      "Motion Plan Failure\n",
      "result: 2 - ('grip1',)->('track',) = fail\n",
      "=========================================================================================================\n",
      "======================= terminated 8: Stop called from other agent  (2.8/100.0) ===============================\n",
      "=========================================================================================================\n",
      "transition motion tried: False\n",
      "Motion Plan Failure\n",
      "result: 2 - ('grip1',)->('goal',) = fail\n",
      "=========================================================================================================\n",
      "======================= terminated 2: Stop called from other agent  (2.9/100.0) ===============================\n",
      "=========================================================================================================\n",
      "transition motion tried: False\n",
      "Motion Plan Failure\n",
      "result: 2 - ('grip1',)->('track',) = fail\n",
      "=========================================================================================================\n",
      "======================= terminated 9: Stop called from other agent  (2.9/100.0) ===============================\n",
      "=========================================================================================================\n",
      "transition motion tried: False\n",
      "Motion Plan Failure\n",
      "result: 1 - ('grip1',)->('goal',) = fail\n",
      "=========================================================================================================\n",
      "======================= terminated 7: Stop called from other agent  (2.9/100.0) ===============================\n",
      "=========================================================================================================\n",
      "transition motion tried: False\n",
      "Motion Plan Failure\n",
      "result: 1 - ('grip1',)->('track',) = fail\n",
      "=========================================================================================================\n",
      "======================= terminated 11: Stop called from other agent  (3.0/100.0) ===============================\n",
      "=========================================================================================================\n",
      "transition motion tried: False\n",
      "Motion Plan Failure\n",
      "result: 9 - ('track',)->('grip1',) = fail\n",
      "=========================================================================================================\n",
      "======================= terminated 6: Stop called from other agent  (3.0/100.0) ===============================\n",
      "=========================================================================================================\n",
      "transition motion tried: False\n",
      "Motion Plan Failure\n",
      "result: 1 - ('grip1',)->('goal',) = fail\n",
      "=========================================================================================================\n",
      "======================= terminated 5: Stop called from other agent  (3.0/100.0) ===============================\n",
      "=========================================================================================================\n",
      "transition motion tried: False\n",
      "Motion Plan Failure\n",
      "result: 1 - ('grip1',)->('track',) = fail\n",
      "=========================================================================================================\n",
      "======================= terminated 12: Stop called from other agent  (3.1/100.0) ===============================\n",
      "=========================================================================================================\n",
      "transition motion tried: False\n",
      "Motion Plan Failure\n",
      "result: 2 - ('grip1',)->('goal',) = fail\n",
      "=========================================================================================================\n",
      "======================= terminated 15: Stop called from other agent  (3.4/100.0) ===============================\n",
      "=========================================================================================================\n",
      "transition motion tried: False\n",
      "Motion Plan Failure\n",
      "result: 2 - ('grip1',)->('goal',) = fail\n",
      "=========================================================================================================\n",
      "======================= terminated 17: Stop called from other agent  (3.5/100.0) ===============================\n",
      "=========================================================================================================\n",
      "transition motion tried: False\n",
      "Motion Plan Failure\n",
      "result: 7 - ('track',)->('grip1',) = fail\n",
      "=========================================================================================================\n",
      "======================= terminated 1: Stop called from other agent  (3.5/100.0) ===============================\n"
     ]
    },
    {
     "name": "stdout",
     "output_type": "stream",
     "text": [
      "=========================================================================================================\n",
      "\u001b[91m[ERROR] Non-joined subprocesses: [1]\u001b[0m\n",
      "========================== FINISHED (3.6 / 100.0 s) ==============================]\n",
      "('track',)->('grip1',)\n",
      "('grip1',)->('goal',)\n",
      "('goal',)->('goal',)\n"
     ]
    }
   ],
   "source": [
    "ppline.search(initial_state, goal_nodes=[(\"goal\",)], verbose=True, \n",
    "              display=False, dt_vis=0.01, timeout_loop=100, multiprocess=True, timeout=1, timeout_constrained=10)\n",
    "schedules = ppline.tplan.find_schedules()\n",
    "schedules_sorted = ppline.tplan.sort_schedule(schedules)\n",
    "schedule = ppline.tplan.idxSchedule2SnodeScedule(schedules_sorted[0])\n",
    "ppline.play_schedule(schedule, period=0.05)"
   ]
  },
  {
   "cell_type": "code",
   "execution_count": null,
   "metadata": {},
   "outputs": [],
   "source": []
  },
  {
   "cell_type": "markdown",
   "metadata": {},
   "source": [
    "##### execute plan"
   ]
  },
  {
   "cell_type": "code",
   "execution_count": 17,
   "metadata": {
    "scrolled": true
   },
   "outputs": [
    {
     "name": "stdout",
     "output_type": "stream",
     "text": [
      "connection command:\n",
      "panda1: True\n",
      "rospy.init_node() has already been called with different arguments: ('task_planner', ['/usr/local/lib/python2.7/dist-packages/ipykernel_launcher.py', '-f', '/home/rnb/.local/share/jupyter/runtime/kernel-2e9edae0-1100-47f3-83a1-c67b02756b91.json'], True, None, False, True)\n"
     ]
    }
   ],
   "source": [
    "crob.reset_connection(True)"
   ]
  },
  {
   "cell_type": "code",
   "execution_count": 18,
   "metadata": {},
   "outputs": [],
   "source": [
    "safe_schedule = calculate_safe_schedule(pscene, schedule, vel_lims=0.2, acc_lims=0.5)"
   ]
  },
  {
   "cell_type": "code",
   "execution_count": 20,
   "metadata": {
    "scrolled": true
   },
   "outputs": [
    {
     "data": {
      "text/plain": [
       "True"
      ]
     },
     "execution_count": 20,
     "metadata": {},
     "output_type": "execute_result"
    }
   ],
   "source": [
    "ppline.execute_schedule(safe_schedule)"
   ]
  },
  {
   "cell_type": "code",
   "execution_count": null,
   "metadata": {},
   "outputs": [],
   "source": []
  },
  {
   "cell_type": "markdown",
   "metadata": {},
   "source": [
    "## 5.3 Indy&Panda\n",
    "\n",
    "##### initialize CombinedRobot and GeometryScene\n",
    "* Prepare the robots as instructed in release/1.Robots\n",
    "* Connect gripper to indy - match the direction of grippper with the model added below\n",
    "* Prepare Kinect and Realsense"
   ]
  },
  {
   "cell_type": "code",
   "execution_count": 32,
   "metadata": {},
   "outputs": [
    {
     "name": "stdout",
     "output_type": "stream",
     "text": [
      "connection command:\n",
      "indy0: False\n",
      "panda1: False\n",
      "rospy.init_node() has already been called with different arguments: ('task_planner', ['/usr/local/lib/python2.7/dist-packages/ipykernel_launcher.py', '-f', '/home/rnb/.local/share/jupyter/runtime/kernel-2e9edae0-1100-47f3-83a1-c67b02756b91.json'], True, None, False, True)\n",
      "publication OK\n",
      "published: [0, 0, 0, 0, 0, 0, 0, 0, 0, 0, 0, 0, 0]\n",
      "Please create a subscriber to the marker\n"
     ]
    }
   ],
   "source": [
    "from pkg.controller.combined_robot import *\n",
    "from pkg.project_config import *\n",
    "from pkg.geometry.builder.scene_builder import SceneBuilder\n",
    "\n",
    "from pkg.controller.combined_robot import CombinedRobot\n",
    "from pkg.controller.robot_config import RobotConfig, RobotType\n",
    "INDY_IP = \"192.168.21.6\"\n",
    "PANDA_HOST_IP = \"192.168.21.14\" ## The host computer is the computer that runs control program\n",
    "PANDA_ROBOT_IP = \"192.168.21.13\" ## The robot has it's own IP\n",
    "\n",
    "crob = CombinedRobot(\n",
    "    robots_on_scene=[\n",
    "        RobotConfig(0, RobotType.indy7gripper, ((0,-0.3,0), (0,0,0)),\n",
    "                    INDY_IP),\n",
    "        RobotConfig(1, RobotType.panda, ((0,0.3,0), (0,0,0)),\n",
    "                    \"{}/{}\".format(PANDA_HOST_IP, PANDA_ROBOT_IP))\n",
    "    ], \n",
    "    connection_list=[False, False])\n",
    "\n",
    "xyz_rpy_robots = s_builder.detect_items(level_mask=[DetectionLevel.ROBOT])\n",
    "crob.update_robot_pos_dict(xyz_rpy_robots=xyz_rpy_robots)\n",
    "gscene = s_builder.create_gscene(crob)\n",
    "gtems = s_builder.add_robot_geometries(color=(0,1,0,0.5), display=True, collision=True)\n",
    "ptems = s_builder.add_poles(\n",
    "    {\"cam0\": stereo.ref_coord_inv[:3,3], \n",
    "     \"cam1\":np.matmul(stereo.ref_coord_inv, stereo.T_c12)[:3,3]},\n",
    "    color=(0.6,0.6,0.6,0.2))\n",
    "\n",
    "gscene.show_pose(crob.home_pose)"
   ]
  },
  {
   "cell_type": "markdown",
   "metadata": {},
   "source": [
    "##### add geometries"
   ]
  },
  {
   "cell_type": "code",
   "execution_count": 33,
   "metadata": {},
   "outputs": [],
   "source": [
    "gtem_dict = s_builder.detect_and_register(level_mask=[DetectionLevel.ENVIRONMENT])\n",
    "track = gtem_dict[\"track\"]\n",
    "\n",
    "gtem_dict = s_builder.detect_and_register(level_mask=[DetectionLevel.MOVABLE])\n",
    "s_builder.give_clearance(track, gtem_dict.values())"
   ]
  },
  {
   "cell_type": "markdown",
   "metadata": {},
   "source": [
    "##### create PlanningScene"
   ]
  },
  {
   "cell_type": "code",
   "execution_count": 34,
   "metadata": {},
   "outputs": [],
   "source": [
    "from pkg.planning.scene import PlanningScene\n",
    "pscene = PlanningScene(gscene, combined_robot=crob)"
   ]
  },
  {
   "cell_type": "markdown",
   "metadata": {},
   "source": [
    "##### create binders"
   ]
  },
  {
   "cell_type": "code",
   "execution_count": 35,
   "metadata": {},
   "outputs": [
    {
     "data": {
      "text/plain": [
       "<pkg.planning.constraint.constraint_actor.PlacePlane at 0x7f87900b09d0>"
      ]
     },
     "execution_count": 35,
     "metadata": {},
     "output_type": "execute_result"
    }
   ],
   "source": [
    "from pkg.geometry.geometry import *\n",
    "from pkg.planning.constraint.constraint_actor import PlacePlane, Gripper2Tool\n",
    "\n",
    "gscene.create_safe(gtype=GEOTYPE.SPHERE, name=\"grip0\", link_name=\"indy0_tcp\", \n",
    "                 dims=(0.01,)*3, center=(0,0,0.14), rpy=(-np.pi/2,0,0), color=(1,0,0,1), display=True, collision=False, fixed=True)\n",
    "\n",
    "gscene.create_safe(gtype=GEOTYPE.SPHERE, name=\"grip1\", link_name=\"panda1_hand\", \n",
    "                 dims=(0.01,)*3, center=(0,0,0.112), rpy=(-np.pi/2,0,0), color=(1,0,0,1), display=True, collision=False, fixed=True)\n",
    "\n",
    "pscene.create_binder(bname=\"grip0\", gname=\"grip0\", _type=Gripper2Tool, point=(0,0,0), rpy=(0,0,0))\n",
    "pscene.create_binder(bname=\"grip1\", gname=\"grip1\", _type=Gripper2Tool, point=(0,0,0), rpy=(0,0,0))\n",
    "pscene.create_binder(bname=\"track\", gname=\"track\", _type=PlacePlane, point=None)\n",
    "pscene.create_binder(bname=\"goal\", gname=\"goal\", _type=PlacePlane, point=(0,0,0.005))"
   ]
  },
  {
   "cell_type": "markdown",
   "metadata": {},
   "source": [
    "##### create_subject"
   ]
  },
  {
   "cell_type": "code",
   "execution_count": 36,
   "metadata": {},
   "outputs": [],
   "source": [
    "from pkg.planning.constraint.constraint_subject import Grasp2Point, PlacePoint\n",
    "from pkg.planning.constraint.constraint_subject import CustomObject, BoxObject"
   ]
  },
  {
   "cell_type": "code",
   "execution_count": 37,
   "metadata": {},
   "outputs": [],
   "source": [
    "## create box object with grasping points along positive & negative y-direction and placement point in the bottom face\n",
    "box_obj = pscene.create_subject(oname=\"box1\", gname=\"box1\", _type=BoxObject)"
   ]
  },
  {
   "cell_type": "code",
   "execution_count": null,
   "metadata": {},
   "outputs": [],
   "source": []
  },
  {
   "cell_type": "markdown",
   "metadata": {},
   "source": [
    "##### create PlanningPipeline"
   ]
  },
  {
   "cell_type": "code",
   "execution_count": 39,
   "metadata": {},
   "outputs": [],
   "source": [
    "from pkg.planning.pipeline import PlanningPipeline\n",
    "from pkg.planning.motion.moveit.moveit_planner import MoveitPlanner\n",
    "from pkg.planning.task.rrt import TaskRRT\n",
    "\n",
    "ppline = PlanningPipeline(pscene)\n",
    "ppline.set_motion_planner(MoveitPlanner(pscene, enable_dual=False))\n",
    "ppline.set_task_planner(TaskRRT(pscene))"
   ]
  },
  {
   "cell_type": "markdown",
   "metadata": {},
   "source": [
    "##### update state"
   ]
  },
  {
   "cell_type": "code",
   "execution_count": 40,
   "metadata": {},
   "outputs": [
    {
     "name": "stdout",
     "output_type": "stream",
     "text": [
      "('track',)\n"
     ]
    }
   ],
   "source": [
    "initial_state = pscene.initialize_state(crob.home_pose)\n",
    "print(initial_state.node)"
   ]
  },
  {
   "cell_type": "markdown",
   "metadata": {},
   "source": [
    "##### search for a plan"
   ]
  },
  {
   "cell_type": "code",
   "execution_count": 41,
   "metadata": {
    "scrolled": true
   },
   "outputs": [
    {
     "name": "stdout",
     "output_type": "stream",
     "text": [
      "Use 18/36 agents\n",
      "try: 0 - ('track',)->('grip0',)\n",
      "try: 0 - ('track',)->('grip0',)\n",
      "error: 2.3\n",
      "error: 2.5\n",
      "try transition motion\n",
      "try transition motion\n",
      "try: 0 - ('track',)->('grip1',)\n",
      "error: 2.6\n",
      "try transition motion\n",
      "try: 0 - ('track',)->('grip1',)\n",
      "error: 2.9\n",
      "try: 0 - ('track',)->('grip0',)\n",
      "try transition motion\n",
      "error: 2.6\n",
      "try: 0 - ('track',)->('grip0',)\n",
      "error: 1.6\n",
      "try transition motion\n",
      "try: 0 - ('track',)->('grip1',)\n",
      "try transition motion\n",
      "error: 2.5\n",
      "try transition motion\n",
      "try: 0 - ('track',)->('grip1',)\n",
      "error: 1.4\n",
      "try: 0 - ('track',)->('grip0',)\n",
      "try transition motion\n",
      "error: 2.3\n",
      "try transition motion\n",
      "try: 0 - ('track',)->('grip0',)\n",
      "try: 0 - ('track',)->('grip0',)\n",
      "error: 2.4\n",
      "error: 2.9\n",
      "try transition motion\n",
      "try transition motion\n",
      "try: 0 - ('track',)->('grip0',)\n",
      "try: 0 - ('track',)->('grip0',)\n",
      "transition motion tried: True\n",
      "error: 0.75\n",
      "error: 2.5\n",
      "try transition motion\n",
      "try transition motion\n",
      "result: 0 - ('track',)->('grip0',) = success\n",
      "try: 1 - ('grip0',)->('goal',)\n",
      "error: 2.0\n",
      "try transition motion\n",
      "branching: 0->1 (0.99/100.0 s, steps/err: 66(421.783924103 ms)/0.00149144817707)\n",
      "try: 1 - ('grip0',)->('goal',)\n",
      "======================================================================================================================================================\n",
      "try: 0 - ('track',)->('grip0',)\n",
      "error: 2.7\n",
      "error: 2.8\n",
      "try transition motion\n",
      "transition motion tried: True\n",
      "try: 1 - ('grip0',)->('track',)\n",
      "try transition motion\n",
      "error: 2.0\n",
      "result: 0 - ('track',)->('grip0',) = success\n",
      "transition motion tried: True\n",
      "branching: 0->2 (1.14/100.0 s, steps/err: 43(189.071893692 ms)/0.00173814057003)\n",
      "result: 0 - ('track',)->('grip1',) = success\n",
      "try transition motion\n",
      "try: 2 - ('grip0',)->('goal',)\n",
      "branching: 0->3 (1.16/100.0 s, steps/err: 56(466.6659832 ms)/0.00150067414512)\n",
      "======================================================================================================================================================\n",
      "error: 2.0\n",
      "try: 3 - ('grip1',)->('goal',)\n",
      "======================================================================================================================================================\n",
      "try: 3 - ('grip1',)->('track',)\n",
      "try transition motion\n",
      "error: 2.0\n",
      "transition motion tried: True\n",
      "error: 2.3\n",
      "try transition motion\n",
      "try transition motion\n",
      "Goal reached\n",
      "result: 1 - ('grip0',)->('goal',) = success\n",
      "transition motion tried: True\n",
      "branching: 1->4 (1.24/100.0 s, steps/err: 39(139.743089676 ms)/0.0013863307196)\n",
      "Goal reached\n",
      "======================================================================================================================================================\n",
      "transition motion tried: False\n",
      "result: 1 - ('grip0',)->('goal',) = success\n",
      "Motion Plan Failure\n",
      "++ adding return motion to acquired answer ++\n",
      "branching: 1->5 (1.25/100.0 s, steps/err: 55(256.896018982 ms)/0.00141840334358)\n",
      "======================================================================================================================================================\n",
      "try: 0 - ('track',)->('grip0',)\n",
      "result: 0 - ('track',)->('grip0',) = fail\n",
      "try: 3 - ('grip1',)->('goal',)\n",
      "++ adding return motion to acquired answer ++\n",
      "error: 2.9\n",
      "error: 2.8\n",
      "transition motion tried: True\n",
      "try transition motion\n",
      "try transition motion\n",
      "result: 0 - ('track',)->('grip0',) = success\n",
      "branching: 0->6 (1.34/100.0 s, steps/err: 34(539.849996567 ms)/0.0015972148737)\n",
      "transition motion tried: True\n",
      "======================================================================================================================================================\n",
      "transition motion tried: True\n",
      "Goal reached\n",
      "result: 2 - ('grip0',)->('goal',) = success\n",
      "try: 6 - ('grip0',)->('goal',)\n",
      "branching: 2->7 (1.37/100.0 s, steps/err: 75(179.493904114 ms)/0.0011681474561)\n",
      "======================================================================================================================================================\n",
      "error: 2.8\n",
      "++ adding return motion to acquired answer ++\n",
      "result: 0 - ('track',)->('grip0',) = success\n",
      "try transition motion\n",
      "branching: 0->8 (1.38/100.0 s, steps/err: 91(653.872966766 ms)/0.00152614036384)\n",
      "======================================================================================================================================================\n",
      "transition motion tried: False\n",
      "Motion Plan Failure\n",
      "try: 8 - ('grip0',)->('goal',)\n",
      "result: 0 - ('track',)->('grip1',) = fail\n",
      "error: 0.2\n",
      "try transition motion\n",
      "try: 3 - ('grip1',)->('track',)\n",
      "error: 2.0\n",
      "try transition motion\n",
      "Goal reached\n",
      "transition motion tried: False\n",
      "Motion Plan Failure\n",
      "result: 0 - ('track',)->('grip0',) = fail\n",
      "try: 0 - ('track',)->('grip1',)\n",
      "error: 2.9\n",
      "transition motion tried: True\n",
      "try transition motion\n",
      "result: 0 - ('track',)->('grip0',) = success\n",
      "branching: 0->10 (1.49/100.0 s, steps/err: 61(209.191083908 ms)/0.00147771034347)\n",
      "======================================================================================================================================================\n",
      "try: 10 - ('grip0',)->('goal',)\n",
      "error: 0.18\n",
      "try transition motion\n",
      "transition motion tried: True\n",
      "Goal reached\n",
      "result: 8 - ('grip0',)->('goal',) = success\n",
      "branching: 8->11 (1.54/100.0 s, steps/err: 28(139.247179031 ms)/0.00184485601851)\n",
      "======================================================================================================================================================\n",
      "++ adding return motion to acquired answer ++\n",
      "Goal reached\n",
      "transition motion tried: True\n",
      "transition motion tried: False\n",
      "Motion Plan Failure\n",
      "result: 0 - ('track',)->('grip1',) = fail\n",
      "Goal reached\n",
      "try: 10 - ('grip0',)->('goal',)\n",
      "Goal reached\n",
      "transition motion tried: False\n",
      "error: 2.0\n",
      "Motion Plan Failure\n",
      "try transition motion\n",
      "result: 0 - ('track',)->('grip0',) = fail\n",
      "result: 10 - ('grip0',)->('goal',) = success\n",
      "branching: 10->13 (1.61/100.0 s, steps/err: 28(92.4580097198 ms)/0.0017275726713)\n",
      "transition motion tried: False\n",
      "======================================================================================================================================================\n",
      "Goal reached\n",
      "Motion Plan Failure\n",
      "++ adding return motion to acquired answer ++\n",
      "try: 1 - ('grip0',)->('grip1',)\n",
      "result: 0 - ('track',)->('grip1',) = fail\n",
      "try: 1 - ('grip0',)->('goal',)\n",
      "error: 1.1\n",
      "try: 0 - ('track',)->('grip1',)\n",
      "error: 2.7\n",
      "try transition motion\n",
      "try transition motion\n"
     ]
    },
    {
     "name": "stderr",
     "output_type": "stream",
     "text": [
      "Process Process-28:\n",
      "Traceback (most recent call last):\n",
      "  File \"/usr/lib/python2.7/multiprocessing/process.py\", line 267, in _bootstrap\n",
      "    self.run()\n",
      "  File \"/usr/lib/python2.7/multiprocessing/process.py\", line 114, in run\n",
      "    self._target(*self._args, **self._kwargs)\n",
      "  File \"/home/rnb/Projects/rnb-planning/src/pkg/planning/pipeline.py\", line 216, in __search_loop\n",
      "    **kwargs)\n",
      "  File \"/home/rnb/Projects/rnb-planning/src/pkg/planning/pipeline.py\", line 290, in test_connection\n",
      "    self.mplan.plan_transition(from_state, to_state, verbose=verbose, **kwargs)\n",
      "  File \"/home/rnb/Projects/rnb-planning/src/pkg/planning/motion/interface.py\", line 153, in plan_transition\n",
      "    verbose=verbose, **kwargs)\n",
      "  File \"/home/rnb/Projects/rnb-planning/src/pkg/planning/motion/moveit/moveit_planner.py\", line 263, in plan_algorithm\n",
      "    group_name_handle, group_name_binder, subject_list)))\n",
      "RuntimeError: dual arm motion is not enabled - indy0 & panda1 - ['box1']\n"
     ]
    },
    {
     "name": "stdout",
     "output_type": "stream",
     "text": [
      "transition motion tried: True\n",
      "Goal reached\n",
      "result: 1 - ('grip0',)->('goal',) = success\n",
      "branching: 1->16 (1.76/100.0 s, steps/err: 23(100.734949112 ms)/0.00120101520012)\n",
      "======================================================================================================================================================\n",
      "++ adding return motion to acquired answer ++\n",
      "try: 3 - ('grip1',)->('grip0',)\n"
     ]
    },
    {
     "name": "stderr",
     "output_type": "stream",
     "text": [
      "Process Process-40:\n",
      "Traceback (most recent call last):\n",
      "  File \"/usr/lib/python2.7/multiprocessing/process.py\", line 267, in _bootstrap\n",
      "    self.run()\n",
      "  File \"/usr/lib/python2.7/multiprocessing/process.py\", line 114, in run\n",
      "    self._target(*self._args, **self._kwargs)\n",
      "  File \"/home/rnb/Projects/rnb-planning/src/pkg/planning/pipeline.py\", line 216, in __search_loop\n",
      "    **kwargs)\n",
      "  File \"/home/rnb/Projects/rnb-planning/src/pkg/planning/pipeline.py\", line 290, in test_connection\n",
      "    self.mplan.plan_transition(from_state, to_state, verbose=verbose, **kwargs)\n",
      "  File \"/home/rnb/Projects/rnb-planning/src/pkg/planning/motion/interface.py\", line 153, in plan_transition\n",
      "    verbose=verbose, **kwargs)\n",
      "  File \"/home/rnb/Projects/rnb-planning/src/pkg/planning/motion/moveit/moveit_planner.py\", line 263, in plan_algorithm\n",
      "    group_name_handle, group_name_binder, subject_list)))\n",
      "RuntimeError: dual arm motion is not enabled - panda1 & indy0 - ['box1']\n"
     ]
    },
    {
     "name": "stdout",
     "output_type": "stream",
     "text": [
      "Goal reached\n",
      "try: 3 - ('grip1',)->('track',)\n",
      "error: 2.6\n",
      "try transition motion\n",
      "try: 10 - ('grip0',)->('grip1',)\n",
      "transition motion tried: False\n",
      "Motion Plan Failure\n",
      "result: 0 - ('track',)->('grip0',) = fail\n",
      "try: 3 - ('grip1',)->('track',)\n",
      "error: 2.6\n",
      "try transition motion\n"
     ]
    },
    {
     "name": "stderr",
     "output_type": "stream",
     "text": [
      "Process Process-32:\n",
      "Traceback (most recent call last):\n",
      "  File \"/usr/lib/python2.7/multiprocessing/process.py\", line 267, in _bootstrap\n",
      "    self.run()\n",
      "  File \"/usr/lib/python2.7/multiprocessing/process.py\", line 114, in run\n",
      "    self._target(*self._args, **self._kwargs)\n",
      "  File \"/home/rnb/Projects/rnb-planning/src/pkg/planning/pipeline.py\", line 216, in __search_loop\n",
      "    **kwargs)\n",
      "  File \"/home/rnb/Projects/rnb-planning/src/pkg/planning/pipeline.py\", line 290, in test_connection\n",
      "    self.mplan.plan_transition(from_state, to_state, verbose=verbose, **kwargs)\n",
      "  File \"/home/rnb/Projects/rnb-planning/src/pkg/planning/motion/interface.py\", line 153, in plan_transition\n",
      "    verbose=verbose, **kwargs)\n",
      "  File \"/home/rnb/Projects/rnb-planning/src/pkg/planning/motion/moveit/moveit_planner.py\", line 263, in plan_algorithm\n",
      "    group_name_handle, group_name_binder, subject_list)))\n",
      "RuntimeError: dual arm motion is not enabled - indy0 & panda1 - ['box1']\n"
     ]
    },
    {
     "name": "stdout",
     "output_type": "stream",
     "text": [
      "Goal reached\n",
      "transition motion tried: True\n",
      "result: 0 - ('track',)->('grip1',) = success\n",
      "branching: 0->19 (1.91/100.0 s, steps/err: 53(243.578910828 ms)/0.00183170257922)\n",
      "======================================================================================================================================================\n",
      "try: 19 - ('grip1',)->('goal',)\n",
      "error: 2.3\n",
      "try transition motion\n",
      "try: 6 - ('grip0',)->('goal',)\n",
      "error: 2.8\n",
      "try transition motion\n",
      "transition motion tried: True\n",
      "Goal reached\n",
      "result: 6 - ('grip0',)->('goal',) = success\n",
      "branching: 6->20 (2.08/100.0 s, steps/err: 44(73.4128952026 ms)/0.00209384445786)\n",
      "======================================================================================================================================================\n",
      "++ adding return motion to acquired answer ++\n",
      "=========================================================================================================\n",
      "======================= terminated 13: required answers acquired  (2.1/100.0) ===============================\n",
      "=========================================================================================================\n",
      "transition motion tried: False\n",
      "Motion Plan Failure\n",
      "result: 0 - ('track',)->('grip0',) = fail\n",
      "=========================================================================================================\n",
      "======================= terminated 12: Stop called from other agent  (2.1/100.0) ===============================\n",
      "=========================================================================================================\n",
      "Goal reached\n",
      "transition motion tried: False\n",
      "Motion Plan Failure\n",
      "result: 0 - ('track',)->('grip0',) = fail\n",
      "=========================================================================================================\n",
      "======================= terminated 14: Stop called from other agent  (2.2/100.0) ===============================\n",
      "=========================================================================================================\n",
      "transition motion tried: False\n",
      "Motion Plan Failure\n",
      "result: 1 - ('grip0',)->('track',) = fail\n",
      "=========================================================================================================\n",
      "======================= terminated 15: Stop called from other agent  (2.2/100.0) ===============================\n",
      "=========================================================================================================\n",
      "transition motion tried: False\n",
      "Motion Plan Failure\n",
      "result: 3 - ('grip1',)->('goal',) = fail\n",
      "=========================================================================================================\n",
      "======================= terminated 11: Stop called from other agent  (2.3/100.0) ===============================\n",
      "=========================================================================================================\n",
      "transition motion tried: False\n",
      "Motion Plan Failure\n",
      "result: 3 - ('grip1',)->('track',) = fail\n",
      "=========================================================================================================\n",
      "======================= terminated 7: Stop called from other agent  (2.3/100.0) ===============================\n",
      "=========================================================================================================\n",
      "=========================================================================================================\n",
      "======================= terminated 17: required answers acquired  (2.4/100.0) ===============================\n",
      "=========================================================================================================\n",
      "transition motion tried: False\n",
      "Motion Plan Failure\n",
      "result: 6 - ('grip0',)->('goal',) = fail\n",
      "=========================================================================================================\n",
      "======================= terminated 9: Stop called from other agent  (2.4/100.0) ===============================\n",
      "=========================================================================================================\n",
      "transition motion tried: False\n",
      "Motion Plan Failure\n",
      "result: 3 - ('grip1',)->('goal',) = fail\n",
      "=========================================================================================================\n",
      "======================= terminated 0: Stop called from other agent  (2.5/100.0) ===============================\n",
      "=========================================================================================================\n",
      "transition motion tried: False\n",
      "Motion Plan Failure\n",
      "result: 3 - ('grip1',)->('track',) = fail\n",
      "=========================================================================================================\n",
      "======================= terminated 2: Stop called from other agent  (2.5/100.0) ===============================\n",
      "=========================================================================================================\n",
      "transition motion tried: False\n",
      "Motion Plan Failure\n",
      "result: 10 - ('grip0',)->('goal',) = fail\n",
      "=========================================================================================================\n",
      "======================= terminated 3: Stop called from other agent  (2.6/100.0) ===============================\n",
      "=========================================================================================================\n",
      "transition motion tried: False\n",
      "Motion Plan Failure\n",
      "result: 3 - ('grip1',)->('track',) = fail\n",
      "=========================================================================================================\n",
      "======================= terminated 5: Stop called from other agent  (2.8/100.0) ===============================\n",
      "=========================================================================================================\n",
      "transition motion tried: False\n",
      "Motion Plan Failure\n",
      "result: 3 - ('grip1',)->('track',) = fail\n",
      "=========================================================================================================\n",
      "======================= terminated 10: Stop called from other agent  (2.9/100.0) ===============================\n",
      "=========================================================================================================\n",
      "transition motion tried: False\n",
      "Motion Plan Failure\n",
      "result: 19 - ('grip1',)->('goal',) = fail\n",
      "=========================================================================================================\n",
      "======================= terminated 6: Stop called from other agent  (3.0/100.0) ===============================\n",
      "=========================================================================================================\n",
      "\u001b[91m[ERROR] Non-joined subprocesses: [1]\u001b[0m\n",
      "========================== FINISHED (3.2 / 100.0 s) ==============================]\n",
      "('track',)->('grip0',)\n",
      "('grip0',)->('goal',)\n",
      "('goal',)->('goal',)\n"
     ]
    }
   ],
   "source": [
    "ppline.search(initial_state, goal_nodes=[(\"goal\",)], verbose=True, \n",
    "              display=False, dt_vis=0.01, timeout_loop=100, multiprocess=True, timeout=1, timeout_constrained=10)\n",
    "schedules = ppline.tplan.find_schedules()\n",
    "schedules_sorted = ppline.tplan.sort_schedule(schedules)\n",
    "schedule = ppline.tplan.idxSchedule2SnodeScedule(schedules_sorted[0])\n",
    "ppline.play_schedule(schedule, period=0.05)"
   ]
  },
  {
   "cell_type": "code",
   "execution_count": null,
   "metadata": {},
   "outputs": [],
   "source": []
  },
  {
   "cell_type": "markdown",
   "metadata": {},
   "source": [
    "##### execute plan"
   ]
  },
  {
   "cell_type": "code",
   "execution_count": 43,
   "metadata": {
    "scrolled": true
   },
   "outputs": [
    {
     "name": "stdout",
     "output_type": "stream",
     "text": [
      "connection command:\n",
      "indy0: True\n",
      "panda1: True\n",
      "rospy.init_node() has already been called with different arguments: ('task_planner', ['/usr/local/lib/python2.7/dist-packages/ipykernel_launcher.py', '-f', '/home/rnb/.local/share/jupyter/runtime/kernel-2e9edae0-1100-47f3-83a1-c67b02756b91.json'], True, None, False, True)\n"
     ]
    }
   ],
   "source": [
    "crob.reset_connection(True, True)"
   ]
  },
  {
   "cell_type": "code",
   "execution_count": 44,
   "metadata": {},
   "outputs": [],
   "source": [
    "safe_schedule = calculate_safe_schedule(pscene, schedule, vel_lims=0.2, acc_lims=0.5)"
   ]
  },
  {
   "cell_type": "code",
   "execution_count": 45,
   "metadata": {
    "scrolled": true
   },
   "outputs": [
    {
     "name": "stdout",
     "output_type": "stream",
     "text": [
      "Connect: Server IP (192.168.21.6)\n",
      "Connect: Server IP (192.168.21.6)\n",
      "Connect: Server IP (192.168.21.6)\n",
      "Connect: Server IP (192.168.21.6)\n",
      "Connect: Server IP (192.168.21.6)\n",
      "Connect: Server IP (192.168.21.6)\n",
      "Connect: Server IP (192.168.21.6)\n"
     ]
    },
    {
     "data": {
      "text/plain": [
       "True"
      ]
     },
     "execution_count": 45,
     "metadata": {},
     "output_type": "execute_result"
    }
   ],
   "source": [
    "ppline.execute_schedule(safe_schedule)"
   ]
  },
  {
   "cell_type": "code",
   "execution_count": null,
   "metadata": {},
   "outputs": [],
   "source": []
  }
 ],
 "metadata": {
  "kernelspec": {
   "display_name": "Python 2",
   "language": "python",
   "name": "python2"
  },
  "language_info": {
   "codemirror_mode": {
    "name": "ipython",
    "version": 2
   },
   "file_extension": ".py",
   "mimetype": "text/x-python",
   "name": "python",
   "nbconvert_exporter": "python",
   "pygments_lexer": "ipython2",
   "version": "2.7.17"
  }
 },
 "nbformat": 4,
 "nbformat_minor": 2
}
