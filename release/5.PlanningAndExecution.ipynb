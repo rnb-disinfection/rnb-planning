{
 "cells": [
  {
   "cell_type": "markdown",
   "metadata": {},
   "source": [
    "## 5. Planning & Execution\n",
    " - simple test scenario: real world single object P&P\n",
    "* **5.1 Indy**\n",
    "* **5.2 Panda**\n",
    "* **5.3 Indy&Panda**"
   ]
  },
  {
   "cell_type": "markdown",
   "metadata": {},
   "source": [
    "### Prepare the task scene\n",
    "* Prepare Indy and Panda. Install gripper to indy.\n",
    "* Prepare \"floor\", \"track\", \"goal\", \"box1\" objects as defined in *pkg.detector.aruco.marker_config.py*\n",
    "* The robots and \"track\" are installed on \"floor\".\n",
    "* \"goal\" and \"box1\" are on \"track\"\n",
    "* In this scenario, \"box1\" will be moved onto \"goal\" plate\n",
    "<img src=\"./Figs/5.PlanningAndExecution.jpg\" width=\"80%\">"
   ]
  },
  {
   "cell_type": "markdown",
   "metadata": {},
   "source": [
    "## set running directory to project source"
   ]
  },
  {
   "cell_type": "code",
   "execution_count": 1,
   "metadata": {},
   "outputs": [],
   "source": [
    "import os\n",
    "import numpy as np\n",
    "import time\n",
    "os.chdir(os.path.join(os.environ[\"RNB_PLANNING_DIR\"], 'src'))"
   ]
  },
  {
   "cell_type": "markdown",
   "metadata": {},
   "source": [
    "## 5.1 Indy\n",
    "\n",
    "##### initialize CombinedRobot and GeometryScene\n",
    "* Prepare the robots as instructed in release/1.Robots\n",
    "* Connect gripper to indy - match the direction of grippper with the model added below\n",
    "* Prepare Kinect and Realsense"
   ]
  },
  {
   "cell_type": "code",
   "execution_count": 2,
   "metadata": {},
   "outputs": [
    {
     "name": "stdout",
     "output_type": "stream",
     "text": [
      "connection command:\n",
      "indy0: False\n",
      "Open K4A Device failed!\n"
     ]
    },
    {
     "name": "stderr",
     "output_type": "stream",
     "text": [
      "  File \"/usr/lib/python2.7/runpy.py\", line 174, in _run_module_as_main\n",
      "    \"__main__\", fname, loader, pkg_name)\n",
      "  File \"/usr/lib/python2.7/runpy.py\", line 72, in _run_code\n",
      "    exec code in run_globals\n",
      "  File \"/usr/local/lib/python2.7/dist-packages/ipykernel_launcher.py\", line 16, in <module>\n",
      "    app.launch_new_instance()\n",
      "  File \"/usr/local/lib/python2.7/dist-packages/traitlets/config/application.py\", line 664, in launch_instance\n",
      "    app.start()\n",
      "  File \"/usr/local/lib/python2.7/dist-packages/ipykernel/kernelapp.py\", line 499, in start\n",
      "    self.io_loop.start()\n",
      "  File \"/usr/local/lib/python2.7/dist-packages/tornado/ioloop.py\", line 1073, in start\n",
      "    handler_func(fd_obj, events)\n",
      "  File \"/usr/local/lib/python2.7/dist-packages/tornado/stack_context.py\", line 300, in null_wrapper\n",
      "    return fn(*args, **kwargs)\n",
      "  File \"/usr/local/lib/python2.7/dist-packages/zmq/eventloop/zmqstream.py\", line 462, in _handle_events\n",
      "    self._handle_recv()\n",
      "  File \"/usr/local/lib/python2.7/dist-packages/zmq/eventloop/zmqstream.py\", line 492, in _handle_recv\n",
      "    self._run_callback(callback, msg)\n",
      "  File \"/usr/local/lib/python2.7/dist-packages/zmq/eventloop/zmqstream.py\", line 444, in _run_callback\n",
      "    callback(*args, **kwargs)\n",
      "  File \"/usr/local/lib/python2.7/dist-packages/tornado/stack_context.py\", line 300, in null_wrapper\n",
      "    return fn(*args, **kwargs)\n",
      "  File \"/usr/local/lib/python2.7/dist-packages/ipykernel/kernelbase.py\", line 283, in dispatcher\n",
      "    return self.dispatch_shell(stream, msg)\n",
      "  File \"/usr/local/lib/python2.7/dist-packages/ipykernel/kernelbase.py\", line 233, in dispatch_shell\n",
      "    handler(stream, idents, msg)\n",
      "  File \"/usr/local/lib/python2.7/dist-packages/ipykernel/kernelbase.py\", line 399, in execute_request\n",
      "    user_expressions, allow_stdin)\n",
      "  File \"/usr/local/lib/python2.7/dist-packages/ipykernel/ipkernel.py\", line 208, in do_execute\n",
      "    res = shell.run_cell(code, store_history=store_history, silent=silent)\n",
      "  File \"/usr/local/lib/python2.7/dist-packages/ipykernel/zmqshell.py\", line 537, in run_cell\n",
      "    return super(ZMQInteractiveShell, self).run_cell(*args, **kwargs)\n",
      "  File \"/usr/local/lib/python2.7/dist-packages/IPython/core/interactiveshell.py\", line 2714, in run_cell\n",
      "    interactivity=interactivity, compiler=compiler, result=result)\n",
      "  File \"/usr/local/lib/python2.7/dist-packages/IPython/core/interactiveshell.py\", line 2818, in run_ast_nodes\n",
      "    if self.run_code(code, result):\n",
      "  File \"/usr/local/lib/python2.7/dist-packages/IPython/core/interactiveshell.py\", line 2878, in run_code\n",
      "    exec(code_obj, self.user_global_ns, self.user_ns)\n",
      "  File \"<ipython-input-2-e82a68e8dfee>\", line 29, in <module>\n",
      "    stereo.initialize()\n",
      "  File \"pkg/detector/aruco/stereo.py\", line 38, in initialize\n",
      "    cam.initialize()\n",
      "  File \"pkg/detector/camera/kinect.py\", line 33, in initialize\n",
      "    Kinect.pyK4A.device_open()\n",
      "  File \"/home/jhkim/Projects/rnb-planning/third-party/pyKinectAzure/pyKinectAzure/pyKinectAzure.py\", line 57, in device_open\n",
      "    _k4a.VERIFY(self.k4a.k4a_device_open(index,self.device_handle),\"Open K4A Device failed!\")\n",
      "  File \"/home/jhkim/Projects/rnb-planning/third-party/pyKinectAzure/pyKinectAzure/_k4a.py\", line 570, in VERIFY\n",
      "    traceback.print_stack()\n"
     ]
    },
    {
     "ename": "SystemExit",
     "evalue": "1",
     "output_type": "error",
     "traceback": [
      "An exception has occurred, use %tb to see the full traceback.\n",
      "\u001b[0;31mSystemExit\u001b[0m\u001b[0;31m:\u001b[0m 1\n"
     ]
    },
    {
     "name": "stderr",
     "output_type": "stream",
     "text": [
      "/usr/local/lib/python2.7/dist-packages/IPython/core/interactiveshell.py:2886: UserWarning: To exit: use 'exit', 'quit', or Ctrl-D.\n",
      "  warn(\"To exit: use 'exit', 'quit', or Ctrl-D.\", stacklevel=1)\n"
     ]
    }
   ],
   "source": [
    "from pkg.controller.combined_robot import *\n",
    "from pkg.project_config import *\n",
    "from pkg.geometry.builder.scene_builder import SceneBuilder\n",
    "\n",
    "from pkg.controller.combined_robot import CombinedRobot\n",
    "from pkg.controller.robot_config import RobotConfig, RobotType\n",
    "INDY_IP = \"192.168.0.63\"\n",
    "PANDA_HOST_IP = \"192.168.0.172\" ## The host computer is the computer that runs control program\n",
    "PANDA_ROBOT_IP = \"192.168.0.13\" ## The robot has it's own IP\n",
    "\n",
    "crob = CombinedRobot(\n",
    "    robots_on_scene=[\n",
    "        RobotConfig(0, RobotType.indy7, ((0,-0.3,0), (0,0,0)),\n",
    "                    INDY_IP),\n",
    "#         RobotConfig(1, RobotType.panda, ((0,0.3,0), (0,0,0)),\n",
    "#                     \"{}/{}\".format(PANDA_HOST_IP, PANDA_ROBOT_IP))\n",
    "    ], \n",
    "    connection_list=[False, False])\n",
    "\n",
    "from pkg.detector.aruco.stereo import ArucoStereo\n",
    "from pkg.detector.aruco.marker_config import get_aruco_map\n",
    "from pkg.detector.camera.kinect import Kinect\n",
    "from pkg.detector.camera.realsense import RealSense\n",
    "from pkg.detector.detector_interface import DetectionLevel\n",
    "\n",
    "stereo = ArucoStereo(aruco_map=get_aruco_map(), \n",
    "                     camera_list=[Kinect(), RealSense()])\n",
    "\n",
    "stereo.initialize()\n",
    "\n",
    "time.sleep(1) # Let the camera have some time to get stable\n",
    "stereo.calibrate()\n",
    "print(\"Detector initialized\")\n",
    "\n",
    "from pkg.geometry.builder.scene_builder import SceneBuilder\n",
    "s_builder = SceneBuilder.instance(detector=stereo)\n",
    "s_builder.reset_reference_coord(ref_name=\"floor\")\n",
    "\n",
    "xyz_rpy_robots = s_builder.detect_items(level_mask=[DetectionLevel.ROBOT])\n",
    "crob.update_robot_pos_dict(xyz_rpy_robots=xyz_rpy_robots)\n",
    "gscene = s_builder.create_gscene(crob)\n",
    "gtems = s_builder.add_robot_geometries(color=(0,1,0,0.5), display=True, collision=True)\n",
    "ptems = s_builder.add_poles(\n",
    "    {\"cam0\": s_builder.ref_coord_inv[:3,3], \n",
    "     \"cam1\":np.matmul(s_builder.ref_coord_inv, stereo.T_c12)[:3,3]},\n",
    "    color=(0.6,0.6,0.6,0.2))\n",
    "\n",
    "from pkg.utils.code_scraps import add_indy_gripper_asm2\n",
    "add_indy_gripper_asm2(gscene, \"indy0\")\n",
    "\n",
    "gscene.show_pose(crob.home_pose)"
   ]
  },
  {
   "cell_type": "markdown",
   "metadata": {},
   "source": [
    "##### add geometries"
   ]
  },
  {
   "cell_type": "code",
   "execution_count": 3,
   "metadata": {},
   "outputs": [],
   "source": [
    "gtem_dict = s_builder.detect_and_register(level_mask=[DetectionLevel.ENVIRONMENT])\n",
    "track = gtem_dict[\"track\"]\n",
    "\n",
    "gtem_dict = s_builder.detect_and_register(level_mask=[DetectionLevel.MOVABLE])\n",
    "s_builder.give_clearance(track, gtem_dict.values())"
   ]
  },
  {
   "cell_type": "markdown",
   "metadata": {},
   "source": [
    "##### create PlanningScene"
   ]
  },
  {
   "cell_type": "code",
   "execution_count": 4,
   "metadata": {},
   "outputs": [],
   "source": [
    "from pkg.planning.scene import PlanningScene\n",
    "pscene = PlanningScene(gscene, combined_robot=crob)"
   ]
  },
  {
   "cell_type": "markdown",
   "metadata": {},
   "source": [
    "##### create binders"
   ]
  },
  {
   "cell_type": "code",
   "execution_count": 5,
   "metadata": {},
   "outputs": [
    {
     "data": {
      "text/plain": [
       "<pkg.planning.constraint.constraint_actor.PlacePlane at 0x7fb32c6dbe10>"
      ]
     },
     "execution_count": 5,
     "metadata": {},
     "output_type": "execute_result"
    }
   ],
   "source": [
    "from pkg.geometry.geometry import *\n",
    "from pkg.planning.constraint.constraint_actor import PlacePlane, Gripper2Tool\n",
    "\n",
    "gscene.create_safe(gtype=GEOTYPE.SPHERE, name=\"grip0\", link_name=\"indy0_tcp\",\n",
    "                   dims=(0.01,)*3, center=(0,0,0.14), rpy=(-np.pi/2,0,0),\n",
    "                   color=(1,0,0,1), display=True, collision=False, fixed=True)\n",
    "\n",
    "pscene.create_binder(bname=\"grip0\", gname=\"grip0\", _type=Gripper2Tool, point=(0,0,0), rpy=(0,0,0))\n",
    "pscene.create_binder(bname=\"track\", gname=\"track\", _type=PlacePlane)\n",
    "pscene.create_binder(bname=\"goal\", gname=\"goal\", _type=PlacePlane, point=(0,0,0.005))"
   ]
  },
  {
   "cell_type": "markdown",
   "metadata": {},
   "source": [
    "##### create_subject"
   ]
  },
  {
   "cell_type": "code",
   "execution_count": 6,
   "metadata": {},
   "outputs": [],
   "source": [
    "from pkg.planning.constraint.constraint_subject import Grasp2Point, PlacePoint\n",
    "from pkg.planning.constraint.constraint_subject import CustomObject, BoxObject"
   ]
  },
  {
   "cell_type": "code",
   "execution_count": 7,
   "metadata": {},
   "outputs": [],
   "source": [
    "## create box object with grasping points along positive & negative y-direction and placement point in the bottom face\n",
    "box_obj = pscene.create_subject(oname=\"box1\", gname=\"box1\", _type=BoxObject)"
   ]
  },
  {
   "cell_type": "code",
   "execution_count": null,
   "metadata": {},
   "outputs": [],
   "source": []
  },
  {
   "cell_type": "markdown",
   "metadata": {},
   "source": [
    "##### create PlanningPipeline"
   ]
  },
  {
   "cell_type": "code",
   "execution_count": 8,
   "metadata": {},
   "outputs": [],
   "source": [
    "from pkg.planning.pipeline import PlanningPipeline\n",
    "from pkg.planning.motion.moveit.moveit_planner import MoveitPlanner\n",
    "from pkg.planning.task.rrt import TaskRRT\n",
    "\n",
    "ppline = PlanningPipeline(pscene)\n",
    "ppline.set_motion_planner(MoveitPlanner(pscene))\n",
    "ppline.set_task_planner(TaskRRT(pscene))"
   ]
  },
  {
   "cell_type": "markdown",
   "metadata": {},
   "source": [
    "##### update state"
   ]
  },
  {
   "cell_type": "code",
   "execution_count": 9,
   "metadata": {},
   "outputs": [
    {
     "name": "stdout",
     "output_type": "stream",
     "text": [
      "('track',)\n"
     ]
    }
   ],
   "source": [
    "initial_state = pscene.initialize_state(crob.home_pose)\n",
    "print(initial_state.node)"
   ]
  },
  {
   "cell_type": "markdown",
   "metadata": {},
   "source": [
    "##### search for a plan"
   ]
  },
  {
   "cell_type": "code",
   "execution_count": 10,
   "metadata": {
    "scrolled": true
   },
   "outputs": [
    {
     "name": "stdout",
     "output_type": "stream",
     "text": [
      "try: 0 - ('track',)->('grip0',)\n",
      "try transition motion\n",
      "transition motion tried: False\n",
      "result: 0 - ('track',)->('grip0',) = fail\n",
      "try: 0 - ('track',)->('grip0',)\n",
      "try transition motion\n",
      "transition motion tried: False\n",
      "result: 0 - ('track',)->('grip0',) = fail\n",
      "try: 0 - ('track',)->('grip0',)\n",
      "try transition motion\n",
      "transition motion tried: False\n",
      "result: 0 - ('track',)->('grip0',) = fail\n",
      "try: 0 - ('track',)->('grip0',)\n",
      "try transition motion\n",
      "transition motion tried: False\n",
      "result: 0 - ('track',)->('grip0',) = fail\n",
      "try: 0 - ('track',)->('grip0',)\n",
      "try transition motion\n",
      "transition motion tried: False\n",
      "result: 0 - ('track',)->('grip0',) = fail\n",
      "try: 0 - ('track',)->('grip0',)\n",
      "try transition motion\n",
      "transition motion tried: False\n",
      "result: 0 - ('track',)->('grip0',) = fail\n",
      "try: 0 - ('track',)->('grip0',)\n",
      "try transition motion\n",
      "transition motion tried: False\n",
      "result: 0 - ('track',)->('grip0',) = fail\n",
      "try: 0 - ('track',)->('grip0',)\n",
      "try transition motion\n",
      "transition motion tried: False\n",
      "result: 0 - ('track',)->('grip0',) = fail\n",
      "try: 0 - ('track',)->('grip0',)\n",
      "try transition motion\n",
      "transition motion tried: False\n",
      "result: 0 - ('track',)->('grip0',) = fail\n",
      "try: 0 - ('track',)->('grip0',)\n",
      "try transition motion\n",
      "transition motion tried: True\n",
      "=============== try reaching goal from ('grip0',) =================\n",
      "result: 0 - ('track',)->('grip0',) = success\n",
      "branching: 0->1 (9.29/100.0 s, steps/err: 24(31.1961174011 ms)/0.00120670128675)\n",
      "======================================================================================================================================================\n",
      "try: 1 - ('grip0',)->('goal',)\n",
      "try transition motion\n",
      "transition motion tried: False\n",
      "result: 1 - ('grip0',)->('goal',) = fail\n",
      "try: 1 - ('grip0',)->('goal',)\n",
      "try transition motion\n",
      "transition motion tried: False\n",
      "result: 1 - ('grip0',)->('goal',) = fail\n",
      "try: 0 - ('track',)->('grip0',)\n",
      "try transition motion\n",
      "transition motion tried: False\n",
      "result: 0 - ('track',)->('grip0',) = fail\n",
      "try: 1 - ('grip0',)->('track',)\n",
      "try transition motion\n",
      "transition motion tried: True\n",
      "result: 1 - ('grip0',)->('track',) = success\n",
      "branching: 1->2 (12.37/100.0 s, steps/err: 3(20.2059745789 ms)/0.00155186032035)\n",
      "======================================================================================================================================================\n",
      "try: 1 - ('grip0',)->('goal',)\n",
      "try transition motion\n",
      "transition motion tried: False\n",
      "result: 1 - ('grip0',)->('goal',) = fail\n",
      "try: 2 - ('track',)->('grip0',)\n",
      "try transition motion\n",
      "transition motion tried: False\n",
      "result: 2 - ('track',)->('grip0',) = fail\n",
      "try: 1 - ('grip0',)->('track',)\n",
      "try transition motion\n",
      "transition motion tried: False\n",
      "result: 1 - ('grip0',)->('track',) = fail\n",
      "try: 1 - ('grip0',)->('goal',)\n",
      "try transition motion\n",
      "transition motion tried: False\n",
      "result: 1 - ('grip0',)->('goal',) = fail\n",
      "try: 0 - ('track',)->('grip0',)\n",
      "try transition motion\n",
      "transition motion tried: True\n",
      "=============== try reaching goal from ('grip0',) =================\n",
      "result: 0 - ('track',)->('grip0',) = success\n",
      "branching: 0->3 (16.5/100.0 s, steps/err: 36(39.0977859497 ms)/0.00087955316432)\n",
      "======================================================================================================================================================\n",
      "try: 3 - ('grip0',)->('goal',)\n",
      "try transition motion\n",
      "transition motion tried: False\n",
      "result: 3 - ('grip0',)->('goal',) = fail\n",
      "try: 2 - ('track',)->('grip0',)\n",
      "try transition motion\n",
      "transition motion tried: False\n",
      "result: 2 - ('track',)->('grip0',) = fail\n",
      "try: 1 - ('grip0',)->('goal',)\n",
      "try transition motion\n",
      "transition motion tried: False\n",
      "result: 1 - ('grip0',)->('goal',) = fail\n",
      "try: 2 - ('track',)->('grip0',)\n",
      "try transition motion\n",
      "transition motion tried: False\n",
      "result: 2 - ('track',)->('grip0',) = fail\n",
      "try: 1 - ('grip0',)->('goal',)\n",
      "try transition motion\n",
      "transition motion tried: False\n",
      "result: 1 - ('grip0',)->('goal',) = fail\n",
      "try: 0 - ('track',)->('grip0',)\n",
      "try transition motion\n",
      "transition motion tried: False\n",
      "result: 0 - ('track',)->('grip0',) = fail\n",
      "try: 1 - ('grip0',)->('goal',)\n",
      "try transition motion\n",
      "transition motion tried: False\n",
      "result: 1 - ('grip0',)->('goal',) = fail\n",
      "try: 0 - ('track',)->('grip0',)\n",
      "try transition motion\n",
      "transition motion tried: True\n",
      "=============== try reaching goal from ('grip0',) =================\n",
      "result: 0 - ('track',)->('grip0',) = success\n",
      "branching: 0->4 (23.72/100.0 s, steps/err: 23(20.1480388641 ms)/0.00207824449401)\n",
      "======================================================================================================================================================\n",
      "try: 4 - ('grip0',)->('goal',)\n",
      "try transition motion\n",
      "transition motion tried: False\n",
      "result: 4 - ('grip0',)->('goal',) = fail\n",
      "try: 1 - ('grip0',)->('goal',)\n",
      "try transition motion\n",
      "transition motion tried: False\n",
      "result: 1 - ('grip0',)->('goal',) = fail\n",
      "try: 4 - ('grip0',)->('track',)\n",
      "try transition motion\n",
      "transition motion tried: True\n",
      "result: 4 - ('grip0',)->('track',) = success\n",
      "branching: 4->5 (25.8/100.0 s, steps/err: 32(27.0349979401 ms)/0.00166293971771)\n",
      "======================================================================================================================================================\n",
      "try: 0 - ('track',)->('grip0',)\n",
      "try transition motion\n",
      "transition motion tried: True\n",
      "=============== try reaching goal from ('grip0',) =================\n",
      "result: 0 - ('track',)->('grip0',) = success\n",
      "branching: 0->6 (25.81/100.0 s, steps/err: 12(17.0860290527 ms)/0.00127599663509)\n",
      "======================================================================================================================================================\n",
      "try: 6 - ('grip0',)->('goal',)\n",
      "try transition motion\n",
      "transition motion tried: False\n",
      "result: 6 - ('grip0',)->('goal',) = fail\n",
      "try: 6 - ('grip0',)->('track',)\n",
      "try transition motion\n",
      "transition motion tried: False\n",
      "result: 6 - ('grip0',)->('track',) = fail\n",
      "try: 5 - ('track',)->('grip0',)\n",
      "try transition motion\n",
      "transition motion tried: True\n",
      "=============== try reaching goal from ('grip0',) =================\n",
      "result: 5 - ('track',)->('grip0',) = success\n",
      "branching: 5->7 (27.93/100.0 s, steps/err: 30(30.0130844116 ms)/0.00119154299702)\n",
      "======================================================================================================================================================\n",
      "try: 7 - ('grip0',)->('goal',)\n",
      "try transition motion\n",
      "transition motion tried: True\n",
      "result: 7 - ('grip0',)->('goal',) = success\n",
      "branching: 7->8 (27.97/100.0 s, steps/err: 25(36.4520549774 ms)/0.000862081749315)\n",
      "======================================================================================================================================================\n",
      "++ adding return motion to acquired answer ++\n",
      "try joint motion\n",
      "joint motion tried: True\n",
      "=========================================================================================================\n",
      "======================= terminated 0: first answer acquired ===============================\n",
      "=========================================================================================================\n"
     ]
    }
   ],
   "source": [
    "ppline.search(initial_state, goal_nodes=[(\"goal\",)], verbose=True, \n",
    "              display=False, dt_vis=0.01, timeout_loop=100, multiprocess=False, timeout=1, timeout_constrained=10)\n",
    "schedules = ppline.tplan.find_schedules()\n",
    "schedules_sorted = ppline.tplan.sort_schedule(schedules)\n",
    "schedule = ppline.tplan.idxSchedule2SnodeScedule(schedules_sorted[0])\n",
    "ppline.play_schedule(schedule, period=0.05)"
   ]
  },
  {
   "cell_type": "code",
   "execution_count": null,
   "metadata": {},
   "outputs": [],
   "source": []
  },
  {
   "cell_type": "markdown",
   "metadata": {},
   "source": [
    "##### execute plan"
   ]
  },
  {
   "cell_type": "code",
   "execution_count": 11,
   "metadata": {
    "scrolled": true
   },
   "outputs": [
    {
     "name": "stdout",
     "output_type": "stream",
     "text": [
      "connection command:\n",
      "indy0: True\n",
      "Connect: Server IP (192.168.0.63)\n"
     ]
    }
   ],
   "source": [
    "crob.reset_connection(True)"
   ]
  },
  {
   "cell_type": "code",
   "execution_count": 12,
   "metadata": {
    "scrolled": true
   },
   "outputs": [
    {
     "name": "stdout",
     "output_type": "stream",
     "text": [
      "binder: track\n",
      "rname: None\n",
      "Connect: Server IP (192.168.0.63)\n",
      "binder: track\n",
      "rname: None\n",
      "Connect: Server IP (192.168.0.63)\n",
      "go\n",
      "Connect: Server IP (192.168.0.63)\n",
      "binder: grip0\n",
      "rname: indy0\n",
      "Connect: Server IP (192.168.0.63)\n",
      "go\n",
      "Connect: Server IP (192.168.0.63)\n",
      "binder: track\n",
      "rname: None\n",
      "Connect: Server IP (192.168.0.63)\n",
      "go\n",
      "Connect: Server IP (192.168.0.63)\n",
      "binder: grip0\n",
      "rname: indy0\n",
      "Connect: Server IP (192.168.0.63)\n",
      "go\n",
      "Connect: Server IP (192.168.0.63)\n",
      "binder: goal\n",
      "rname: None\n",
      "Connect: Server IP (192.168.0.63)\n",
      "go\n",
      "Connect: Server IP (192.168.0.63)\n",
      "binder: goal\n",
      "rname: None\n",
      "Connect: Server IP (192.168.0.63)\n",
      "Connect: Server IP (192.168.0.63)\n"
     ]
    }
   ],
   "source": [
    "ppline.execute_schedule(schedule, vel_scale=0.5, acc_scale=0.2)"
   ]
  },
  {
   "cell_type": "code",
   "execution_count": null,
   "metadata": {},
   "outputs": [],
   "source": []
  },
  {
   "cell_type": "markdown",
   "metadata": {},
   "source": [
    "## 5.2 Panda\n",
    "\n",
    "##### initialize CombinedRobot and GeometryScene\n",
    "* Prepare the robots as instructed in release/1.Robots\n",
    "* Prepare Kinect and Realsense"
   ]
  },
  {
   "cell_type": "code",
   "execution_count": 14,
   "metadata": {},
   "outputs": [
    {
     "name": "stdout",
     "output_type": "stream",
     "text": [
      "connection command:\n",
      "panda1: False\n",
      "publication OK\n",
      "published: [0, 0, 0, 0, 0, 0, 0]\n",
      "Please create a subscriber to the marker\n"
     ]
    }
   ],
   "source": [
    "from pkg.controller.combined_robot import *\n",
    "from pkg.project_config import *\n",
    "from pkg.geometry.builder.scene_builder import SceneBuilder\n",
    "\n",
    "from pkg.controller.combined_robot import CombinedRobot\n",
    "from pkg.controller.robot_config import RobotConfig, RobotType\n",
    "INDY_IP = \"192.168.0.63\"\n",
    "PANDA_HOST_IP = \"192.168.0.172\" ## The host computer is the computer that runs control program\n",
    "PANDA_ROBOT_IP = \"192.168.0.13\" ## The robot has it's own IP\n",
    "\n",
    "crob = CombinedRobot(\n",
    "    robots_on_scene=[\n",
    "#         RobotConfig(0, RobotType.indy7, ((0,-0.3,0), (0,0,0)),\n",
    "#                     INDY_IP),\n",
    "        RobotConfig(1, RobotType.panda, ((0,0.3,0), (0,0,0)),\n",
    "                    \"{}/{}\".format(PANDA_HOST_IP, PANDA_ROBOT_IP))\n",
    "    ], \n",
    "    connection_list=[False, False])\n",
    "\n",
    "xyz_rpy_robots = s_builder.detect_items(level_mask=[DetectionLevel.ROBOT])\n",
    "crob.update_robot_pos_dict(xyz_rpy_robots=xyz_rpy_robots)\n",
    "gscene = s_builder.create_gscene(crob)\n",
    "gtems = s_builder.add_robot_geometries(color=(0,1,0,0.5), display=True, collision=True)\n",
    "ptems = s_builder.add_poles(\n",
    "    {\"cam0\": s_builder.ref_coord_inv[:3,3], \n",
    "     \"cam1\":np.matmul(s_builder.ref_coord_inv, stereo.T_c12)[:3,3]},\n",
    "    color=(0.6,0.6,0.6,0.2))\n",
    "\n",
    "# from pkg.utils.code_scraps import add_indy_gripper_asm2\n",
    "# add_indy_gripper_asm2(gscene, \"indy0\")\n",
    "\n",
    "gscene.show_pose(crob.home_pose)"
   ]
  },
  {
   "cell_type": "markdown",
   "metadata": {},
   "source": [
    "##### add geometries"
   ]
  },
  {
   "cell_type": "code",
   "execution_count": 15,
   "metadata": {},
   "outputs": [],
   "source": [
    "gtem_dict = s_builder.detect_and_register(level_mask=[DetectionLevel.ENVIRONMENT])\n",
    "track = gtem_dict[\"track\"]\n",
    "\n",
    "gtem_dict = s_builder.detect_and_register(level_mask=[DetectionLevel.MOVABLE])\n",
    "s_builder.give_clearance(track, gtem_dict.values())"
   ]
  },
  {
   "cell_type": "markdown",
   "metadata": {},
   "source": [
    "##### create PlanningScene"
   ]
  },
  {
   "cell_type": "code",
   "execution_count": 16,
   "metadata": {},
   "outputs": [],
   "source": [
    "from pkg.planning.scene import PlanningScene\n",
    "pscene = PlanningScene(gscene, combined_robot=crob)"
   ]
  },
  {
   "cell_type": "markdown",
   "metadata": {},
   "source": [
    "##### create binders"
   ]
  },
  {
   "cell_type": "code",
   "execution_count": 17,
   "metadata": {},
   "outputs": [
    {
     "data": {
      "text/plain": [
       "<pkg.planning.constraint.constraint_actor.PlacePlane at 0x7fb2ee110150>"
      ]
     },
     "execution_count": 17,
     "metadata": {},
     "output_type": "execute_result"
    }
   ],
   "source": [
    "from pkg.geometry.geometry import *\n",
    "from pkg.planning.constraint.constraint_actor import PlacePlane, Gripper2Tool\n",
    "\n",
    "gscene.create_safe(gtype=GEOTYPE.SPHERE, name=\"grip1\", link_name=\"panda1_hand\", \n",
    "                 dims=(0.01,)*3, center=(0,0,0.112), rpy=(-np.pi/2,0,0), color=(1,0,0,1), display=True, collision=False, fixed=True)\n",
    "\n",
    "pscene.create_binder(bname=\"grip1\", gname=\"grip1\", _type=Gripper2Tool, point=(0,0,0), rpy=(0,0,0))\n",
    "pscene.create_binder(bname=\"track\", gname=\"track\", _type=PlacePlane)\n",
    "pscene.create_binder(bname=\"goal\", gname=\"goal\", _type=PlacePlane, point=(0,0,0.005))"
   ]
  },
  {
   "cell_type": "markdown",
   "metadata": {},
   "source": [
    "##### create_subject"
   ]
  },
  {
   "cell_type": "code",
   "execution_count": 18,
   "metadata": {},
   "outputs": [],
   "source": [
    "from pkg.planning.constraint.constraint_subject import Grasp2Point, PlacePoint\n",
    "from pkg.planning.constraint.constraint_subject import CustomObject, BoxObject"
   ]
  },
  {
   "cell_type": "code",
   "execution_count": 19,
   "metadata": {},
   "outputs": [],
   "source": [
    "## create box object with grasping points along positive & negative y-direction and placement point in the bottom face\n",
    "box_obj = pscene.create_subject(oname=\"box1\", gname=\"box1\", _type=BoxObject)"
   ]
  },
  {
   "cell_type": "code",
   "execution_count": null,
   "metadata": {},
   "outputs": [],
   "source": []
  },
  {
   "cell_type": "markdown",
   "metadata": {},
   "source": [
    "##### create PlanningPipeline"
   ]
  },
  {
   "cell_type": "code",
   "execution_count": 20,
   "metadata": {},
   "outputs": [],
   "source": [
    "from pkg.planning.pipeline import PlanningPipeline\n",
    "from pkg.planning.motion.moveit.moveit_planner import MoveitPlanner\n",
    "from pkg.planning.task.rrt import TaskRRT\n",
    "\n",
    "ppline = PlanningPipeline(pscene)\n",
    "ppline.set_motion_planner(MoveitPlanner(pscene))\n",
    "ppline.set_task_planner(TaskRRT(pscene))"
   ]
  },
  {
   "cell_type": "markdown",
   "metadata": {},
   "source": [
    "##### update state"
   ]
  },
  {
   "cell_type": "code",
   "execution_count": 21,
   "metadata": {},
   "outputs": [
    {
     "name": "stdout",
     "output_type": "stream",
     "text": [
      "('track',)\n"
     ]
    }
   ],
   "source": [
    "initial_state = pscene.initialize_state(crob.home_pose)\n",
    "print(initial_state.node)"
   ]
  },
  {
   "cell_type": "markdown",
   "metadata": {},
   "source": [
    "##### search for a plan"
   ]
  },
  {
   "cell_type": "code",
   "execution_count": 22,
   "metadata": {
    "scrolled": true
   },
   "outputs": [
    {
     "name": "stdout",
     "output_type": "stream",
     "text": [
      "try: 0 - ('track',)->('grip1',)\n",
      "try transition motion\n",
      "transition motion tried: True\n",
      "=============== try reaching goal from ('grip1',) =================\n",
      "result: 0 - ('track',)->('grip1',) = success\n",
      "branching: 0->1 (0.05/100.0 s, steps/err: 29(45.8300113678 ms)/0.00176060257431)\n",
      "======================================================================================================================================================\n",
      "try: 1 - ('grip1',)->('goal',)\n",
      "try transition motion\n",
      "transition motion tried: False\n",
      "result: 1 - ('grip1',)->('goal',) = fail\n",
      "try: 0 - ('track',)->('grip1',)\n",
      "try transition motion\n",
      "transition motion tried: False\n",
      "result: 0 - ('track',)->('grip1',) = fail\n",
      "try: 1 - ('grip1',)->('track',)\n",
      "try transition motion\n",
      "transition motion tried: False\n",
      "result: 1 - ('grip1',)->('track',) = fail\n",
      "try: 1 - ('grip1',)->('track',)\n",
      "try transition motion\n",
      "transition motion tried: True\n",
      "result: 1 - ('grip1',)->('track',) = success\n",
      "branching: 1->2 (3.17/100.0 s, steps/err: 34(43.909072876 ms)/0.00165996969119)\n",
      "======================================================================================================================================================\n",
      "try: 1 - ('grip1',)->('goal',)\n",
      "try transition motion\n",
      "transition motion tried: False\n",
      "result: 1 - ('grip1',)->('goal',) = fail\n",
      "try: 0 - ('track',)->('grip1',)\n",
      "try transition motion\n",
      "transition motion tried: False\n",
      "result: 0 - ('track',)->('grip1',) = fail\n",
      "try: 0 - ('track',)->('grip1',)\n",
      "try transition motion\n",
      "transition motion tried: True\n",
      "=============== try reaching goal from ('grip1',) =================\n",
      "result: 0 - ('track',)->('grip1',) = success\n",
      "branching: 0->3 (5.3/100.0 s, steps/err: 26(56.9570064545 ms)/0.00140842221474)\n",
      "======================================================================================================================================================\n",
      "try: 3 - ('grip1',)->('goal',)\n",
      "try transition motion\n",
      "transition motion tried: False\n",
      "result: 3 - ('grip1',)->('goal',) = fail\n",
      "try: 1 - ('grip1',)->('track',)\n",
      "try transition motion\n",
      "transition motion tried: False\n",
      "result: 1 - ('grip1',)->('track',) = fail\n",
      "try: 1 - ('grip1',)->('goal',)\n",
      "try transition motion\n",
      "transition motion tried: False\n",
      "result: 1 - ('grip1',)->('goal',) = fail\n",
      "try: 1 - ('grip1',)->('goal',)\n",
      "try transition motion\n",
      "transition motion tried: False\n",
      "result: 1 - ('grip1',)->('goal',) = fail\n",
      "try: 1 - ('grip1',)->('track',)\n",
      "try transition motion\n",
      "transition motion tried: False\n",
      "result: 1 - ('grip1',)->('track',) = fail\n",
      "try: 3 - ('grip1',)->('goal',)\n",
      "try transition motion\n",
      "transition motion tried: False\n",
      "result: 3 - ('grip1',)->('goal',) = fail\n",
      "try: 1 - ('grip1',)->('track',)\n",
      "try transition motion\n",
      "transition motion tried: False\n",
      "result: 1 - ('grip1',)->('track',) = fail\n",
      "try: 0 - ('track',)->('grip1',)\n",
      "try transition motion\n",
      "transition motion tried: False\n",
      "result: 0 - ('track',)->('grip1',) = fail\n",
      "try: 1 - ('grip1',)->('goal',)\n",
      "try transition motion\n",
      "transition motion tried: False\n",
      "result: 1 - ('grip1',)->('goal',) = fail\n",
      "try: 0 - ('track',)->('grip1',)\n",
      "try transition motion\n",
      "transition motion tried: False\n",
      "result: 0 - ('track',)->('grip1',) = fail\n",
      "try: 3 - ('grip1',)->('goal',)\n",
      "try transition motion\n",
      "transition motion tried: False\n",
      "result: 3 - ('grip1',)->('goal',) = fail\n",
      "try: 3 - ('grip1',)->('goal',)\n",
      "try transition motion\n",
      "transition motion tried: False\n",
      "result: 3 - ('grip1',)->('goal',) = fail\n",
      "try: 0 - ('track',)->('grip1',)\n",
      "try transition motion\n",
      "transition motion tried: False\n",
      "result: 0 - ('track',)->('grip1',) = fail\n",
      "try: 1 - ('grip1',)->('track',)\n",
      "try transition motion\n",
      "transition motion tried: False\n",
      "result: 1 - ('grip1',)->('track',) = fail\n",
      "try: 1 - ('grip1',)->('track',)\n",
      "try transition motion\n",
      "transition motion tried: False\n",
      "result: 1 - ('grip1',)->('track',) = fail\n",
      "try: 1 - ('grip1',)->('track',)\n",
      "try transition motion\n",
      "transition motion tried: False\n",
      "result: 1 - ('grip1',)->('track',) = fail\n",
      "try: 0 - ('track',)->('grip1',)\n",
      "try transition motion\n",
      "transition motion tried: True\n",
      "=============== try reaching goal from ('grip1',) =================\n",
      "result: 0 - ('track',)->('grip1',) = success\n",
      "branching: 0->4 (21.94/100.0 s, steps/err: 35(84.0198993683 ms)/0.00149893091297)\n",
      "======================================================================================================================================================\n",
      "try: 4 - ('grip1',)->('goal',)\n",
      "try transition motion\n",
      "transition motion tried: False\n",
      "result: 4 - ('grip1',)->('goal',) = fail\n",
      "try: 0 - ('track',)->('grip1',)\n",
      "try transition motion\n",
      "transition motion tried: False\n",
      "result: 0 - ('track',)->('grip1',) = fail\n",
      "try: 3 - ('grip1',)->('goal',)\n",
      "try transition motion\n",
      "transition motion tried: False\n",
      "result: 3 - ('grip1',)->('goal',) = fail\n",
      "try: 4 - ('grip1',)->('track',)\n",
      "try transition motion\n",
      "transition motion tried: False\n",
      "result: 4 - ('grip1',)->('track',) = fail\n",
      "try: 1 - ('grip1',)->('track',)\n",
      "try transition motion\n",
      "transition motion tried: False\n",
      "result: 1 - ('grip1',)->('track',) = fail\n",
      "try: 2 - ('track',)->('grip1',)\n",
      "try transition motion\n",
      "transition motion tried: False\n",
      "result: 2 - ('track',)->('grip1',) = fail\n",
      "try: 3 - ('grip1',)->('goal',)\n",
      "try transition motion\n",
      "transition motion tried: False\n",
      "result: 3 - ('grip1',)->('goal',) = fail\n",
      "try: 2 - ('track',)->('grip1',)\n",
      "try transition motion\n",
      "transition motion tried: False\n",
      "result: 2 - ('track',)->('grip1',) = fail\n",
      "try: 1 - ('grip1',)->('goal',)\n",
      "try transition motion\n",
      "transition motion tried: True\n",
      "result: 1 - ('grip1',)->('goal',) = success\n",
      "branching: 1->5 (30.22/100.0 s, steps/err: 41(50.0409603119 ms)/0.0017095877837)\n",
      "======================================================================================================================================================\n",
      "++ adding return motion to acquired answer ++\n",
      "try joint motion\n",
      "joint motion tried: True\n",
      "=========================================================================================================\n",
      "======================= terminated 0: first answer acquired ===============================\n",
      "=========================================================================================================\n"
     ]
    }
   ],
   "source": [
    "ppline.search(initial_state, goal_nodes=[(\"goal\",)], verbose=True, \n",
    "              display=False, dt_vis=0.01, timeout_loop=100, multiprocess=False, timeout=1, timeout_constrained=10)\n",
    "schedules = ppline.tplan.find_schedules()\n",
    "schedules_sorted = ppline.tplan.sort_schedule(schedules)\n",
    "schedule = ppline.tplan.idxSchedule2SnodeScedule(schedules_sorted[0])\n",
    "ppline.play_schedule(schedule, period=0.05)"
   ]
  },
  {
   "cell_type": "code",
   "execution_count": null,
   "metadata": {},
   "outputs": [],
   "source": []
  },
  {
   "cell_type": "markdown",
   "metadata": {},
   "source": [
    "##### execute plan"
   ]
  },
  {
   "cell_type": "code",
   "execution_count": 23,
   "metadata": {
    "scrolled": true
   },
   "outputs": [
    {
     "name": "stdout",
     "output_type": "stream",
     "text": [
      "connection command:\n",
      "panda1: True\n"
     ]
    }
   ],
   "source": [
    "crob.reset_connection(True)"
   ]
  },
  {
   "cell_type": "code",
   "execution_count": 24,
   "metadata": {
    "scrolled": true
   },
   "outputs": [
    {
     "name": "stdout",
     "output_type": "stream",
     "text": [
      "binder: track\n",
      "rname: None\n",
      "binder: track\n",
      "rname: None\n",
      "go\n",
      "binder: grip1\n",
      "rname: panda1\n",
      "go\n",
      "binder: goal\n",
      "rname: None\n",
      "go\n",
      "binder: goal\n",
      "rname: None\n"
     ]
    }
   ],
   "source": [
    "ppline.execute_schedule(schedule, vel_scale=0.5, acc_scale=0.2)"
   ]
  },
  {
   "cell_type": "code",
   "execution_count": null,
   "metadata": {},
   "outputs": [],
   "source": []
  },
  {
   "cell_type": "markdown",
   "metadata": {},
   "source": [
    "## 5.3 Indy&Panda\n",
    "\n",
    "##### initialize CombinedRobot and GeometryScene\n",
    "* Prepare the robots as instructed in release/1.Robots\n",
    "* Connect gripper to indy - match the direction of grippper with the model added below\n",
    "* Prepare Kinect and Realsense"
   ]
  },
  {
   "cell_type": "code",
   "execution_count": 25,
   "metadata": {},
   "outputs": [
    {
     "name": "stdout",
     "output_type": "stream",
     "text": [
      "connection command:\n",
      "indy0: False\n",
      "panda1: False\n"
     ]
    },
    {
     "name": "stderr",
     "output_type": "stream",
     "text": [
      "Unknown tag \"hardwareInterface\" in /robot[@name='custom_robots']/transmission[@name='indy0_tran0']/actuator[@name='indy0_motor0']\n",
      "Unknown tag \"hardwareInterface\" in /robot[@name='custom_robots']/transmission[@name='indy0_tran1']/actuator[@name='indy0_motor1']\n",
      "Unknown tag \"hardwareInterface\" in /robot[@name='custom_robots']/transmission[@name='indy0_tran2']/actuator[@name='indy0_motor2']\n",
      "Unknown tag \"hardwareInterface\" in /robot[@name='custom_robots']/transmission[@name='indy0_tran3']/actuator[@name='indy0_motor3']\n",
      "Unknown tag \"hardwareInterface\" in /robot[@name='custom_robots']/transmission[@name='indy0_tran4']/actuator[@name='indy0_motor4']\n",
      "Unknown tag \"hardwareInterface\" in /robot[@name='custom_robots']/transmission[@name='indy0_tran5']/actuator[@name='indy0_motor5']\n"
     ]
    },
    {
     "name": "stdout",
     "output_type": "stream",
     "text": [
      "publication OK\n",
      "published: [0, 0, 0, 0, 0, 0, 0, 0, 0, 0, 0, 0, 0]\n",
      "Please create a subscriber to the marker\n"
     ]
    }
   ],
   "source": [
    "from pkg.controller.combined_robot import *\n",
    "from pkg.project_config import *\n",
    "from pkg.geometry.builder.scene_builder import SceneBuilder\n",
    "\n",
    "from pkg.controller.combined_robot import CombinedRobot\n",
    "from pkg.controller.robot_config import RobotConfig, RobotType\n",
    "INDY_IP = \"192.168.0.63\"\n",
    "PANDA_HOST_IP = \"192.168.0.172\" ## The host computer is the computer that runs control program\n",
    "PANDA_ROBOT_IP = \"192.168.0.13\" ## The robot has it's own IP\n",
    "\n",
    "crob = CombinedRobot(\n",
    "    robots_on_scene=[\n",
    "        RobotConfig(0, RobotType.indy7, ((0,-0.3,0), (0,0,0)),\n",
    "                    INDY_IP),\n",
    "        RobotConfig(1, RobotType.panda, ((0,0.3,0), (0,0,0)),\n",
    "                    \"{}/{}\".format(PANDA_HOST_IP, PANDA_ROBOT_IP))\n",
    "    ], \n",
    "    connection_list=[False, False])\n",
    "\n",
    "xyz_rpy_robots = s_builder.detect_items(level_mask=[DetectionLevel.ROBOT])\n",
    "crob.update_robot_pos_dict(xyz_rpy_robots=xyz_rpy_robots)\n",
    "gscene = s_builder.create_gscene(crob)\n",
    "gtems = s_builder.add_robot_geometries(color=(0,1,0,0.5), display=True, collision=True)\n",
    "ptems = s_builder.add_poles(\n",
    "    {\"cam0\": s_builder.ref_coord_inv[:3,3], \n",
    "     \"cam1\":np.matmul(s_builder.ref_coord_inv, stereo.T_c12)[:3,3]},\n",
    "    color=(0.6,0.6,0.6,0.2))\n",
    "\n",
    "from pkg.utils.code_scraps import add_indy_gripper_asm2\n",
    "add_indy_gripper_asm2(gscene, \"indy0\")\n",
    "\n",
    "gscene.show_pose(crob.home_pose)"
   ]
  },
  {
   "cell_type": "markdown",
   "metadata": {},
   "source": [
    "##### add geometries"
   ]
  },
  {
   "cell_type": "code",
   "execution_count": 26,
   "metadata": {},
   "outputs": [],
   "source": [
    "gtem_dict = s_builder.detect_and_register(level_mask=[DetectionLevel.ENVIRONMENT])\n",
    "track = gtem_dict[\"track\"]\n",
    "\n",
    "gtem_dict = s_builder.detect_and_register(level_mask=[DetectionLevel.MOVABLE])\n",
    "s_builder.give_clearance(track, gtem_dict.values())"
   ]
  },
  {
   "cell_type": "markdown",
   "metadata": {},
   "source": [
    "##### create PlanningScene"
   ]
  },
  {
   "cell_type": "code",
   "execution_count": 27,
   "metadata": {},
   "outputs": [],
   "source": [
    "from pkg.planning.scene import PlanningScene\n",
    "pscene = PlanningScene(gscene, combined_robot=crob)"
   ]
  },
  {
   "cell_type": "markdown",
   "metadata": {},
   "source": [
    "##### create binders"
   ]
  },
  {
   "cell_type": "code",
   "execution_count": 28,
   "metadata": {},
   "outputs": [
    {
     "data": {
      "text/plain": [
       "<pkg.planning.constraint.constraint_actor.PlacePlane at 0x7fb2ee0b66d0>"
      ]
     },
     "execution_count": 28,
     "metadata": {},
     "output_type": "execute_result"
    }
   ],
   "source": [
    "from pkg.geometry.geometry import *\n",
    "from pkg.planning.constraint.constraint_actor import PlacePlane, Gripper2Tool\n",
    "\n",
    "gscene.create_safe(gtype=GEOTYPE.SPHERE, name=\"grip0\", link_name=\"indy0_tcp\", \n",
    "                 dims=(0.01,)*3, center=(0,0,0.14), rpy=(-np.pi/2,0,0), color=(1,0,0,1), display=True, collision=False, fixed=True)\n",
    "\n",
    "gscene.create_safe(gtype=GEOTYPE.SPHERE, name=\"grip1\", link_name=\"panda1_hand\", \n",
    "                 dims=(0.01,)*3, center=(0,0,0.112), rpy=(-np.pi/2,0,0), color=(1,0,0,1), display=True, collision=False, fixed=True)\n",
    "\n",
    "pscene.create_binder(bname=\"grip0\", gname=\"grip0\", _type=Gripper2Tool, point=(0,0,0), rpy=(0,0,0))\n",
    "pscene.create_binder(bname=\"grip1\", gname=\"grip1\", _type=Gripper2Tool, point=(0,0,0), rpy=(0,0,0))\n",
    "pscene.create_binder(bname=\"track\", gname=\"track\", _type=PlacePlane)\n",
    "pscene.create_binder(bname=\"goal\", gname=\"goal\", _type=PlacePlane, point=(0,0,0.005))"
   ]
  },
  {
   "cell_type": "markdown",
   "metadata": {},
   "source": [
    "##### create_subject"
   ]
  },
  {
   "cell_type": "code",
   "execution_count": 29,
   "metadata": {},
   "outputs": [],
   "source": [
    "from pkg.planning.constraint.constraint_subject import Grasp2Point, PlacePoint\n",
    "from pkg.planning.constraint.constraint_subject import CustomObject, BoxObject"
   ]
  },
  {
   "cell_type": "code",
   "execution_count": 30,
   "metadata": {},
   "outputs": [],
   "source": [
    "## create box object with grasping points along positive & negative y-direction and placement point in the bottom face\n",
    "box_obj = pscene.create_subject(oname=\"box1\", gname=\"box1\", _type=BoxObject)"
   ]
  },
  {
   "cell_type": "code",
   "execution_count": null,
   "metadata": {},
   "outputs": [],
   "source": []
  },
  {
   "cell_type": "markdown",
   "metadata": {},
   "source": [
    "##### create PlanningPipeline"
   ]
  },
  {
   "cell_type": "code",
   "execution_count": 31,
   "metadata": {},
   "outputs": [],
   "source": [
    "from pkg.planning.pipeline import PlanningPipeline\n",
    "from pkg.planning.motion.moveit.moveit_planner import MoveitPlanner\n",
    "from pkg.planning.task.rrt import TaskRRT\n",
    "\n",
    "ppline = PlanningPipeline(pscene)\n",
    "ppline.set_motion_planner(MoveitPlanner(pscene))\n",
    "ppline.set_task_planner(TaskRRT(pscene))"
   ]
  },
  {
   "cell_type": "markdown",
   "metadata": {},
   "source": [
    "##### update state"
   ]
  },
  {
   "cell_type": "code",
   "execution_count": 32,
   "metadata": {},
   "outputs": [
    {
     "name": "stdout",
     "output_type": "stream",
     "text": [
      "('track',)\n"
     ]
    }
   ],
   "source": [
    "initial_state = pscene.initialize_state(crob.home_pose)\n",
    "print(initial_state.node)"
   ]
  },
  {
   "cell_type": "markdown",
   "metadata": {},
   "source": [
    "##### search for a plan"
   ]
  },
  {
   "cell_type": "code",
   "execution_count": 33,
   "metadata": {
    "scrolled": true
   },
   "outputs": [
    {
     "name": "stdout",
     "output_type": "stream",
     "text": [
      "try: 0 - ('track',)->('grip1',)\n",
      "try transition motion\n",
      "transition motion tried: True\n",
      "=============== try reaching goal from ('grip1',) =================\n",
      "result: 0 - ('track',)->('grip1',) = success\n",
      "branching: 0->1 (0.08/100.0 s, steps/err: 36(79.9491405487 ms)/0.00148749538234)\n",
      "======================================================================================================================================================\n",
      "try: 1 - ('grip1',)->('goal',)\n",
      "try transition motion\n",
      "transition motion tried: True\n",
      "result: 1 - ('grip1',)->('goal',) = success\n",
      "branching: 1->2 (0.11/100.0 s, steps/err: 12(27.1389484406 ms)/0.00150647390992)\n",
      "======================================================================================================================================================\n",
      "++ adding return motion to acquired answer ++\n",
      "try joint motion\n",
      "joint motion tried: True\n",
      "=========================================================================================================\n",
      "======================= terminated 0: first answer acquired ===============================\n",
      "=========================================================================================================\n"
     ]
    }
   ],
   "source": [
    "ppline.search(initial_state, goal_nodes=[(\"goal\",)], verbose=True, \n",
    "              display=False, dt_vis=0.01, timeout_loop=100, multiprocess=False, timeout=1, timeout_constrained=10)\n",
    "schedules = ppline.tplan.find_schedules()\n",
    "schedules_sorted = ppline.tplan.sort_schedule(schedules)\n",
    "schedule = ppline.tplan.idxSchedule2SnodeScedule(schedules_sorted[0])\n",
    "ppline.play_schedule(schedule, period=0.05)"
   ]
  },
  {
   "cell_type": "code",
   "execution_count": null,
   "metadata": {},
   "outputs": [],
   "source": []
  },
  {
   "cell_type": "markdown",
   "metadata": {},
   "source": [
    "##### execute plan"
   ]
  },
  {
   "cell_type": "code",
   "execution_count": 34,
   "metadata": {
    "scrolled": true
   },
   "outputs": [
    {
     "name": "stdout",
     "output_type": "stream",
     "text": [
      "connection command:\n",
      "indy0: True\n",
      "panda1: True\n",
      "Connect: Server IP (192.168.0.63)\n"
     ]
    }
   ],
   "source": [
    "crob.reset_connection(True, True)"
   ]
  },
  {
   "cell_type": "code",
   "execution_count": 35,
   "metadata": {
    "scrolled": true
   },
   "outputs": [
    {
     "name": "stdout",
     "output_type": "stream",
     "text": [
      "binder: track\n",
      "rname: None\n",
      "Connect: Server IP (192.168.0.63)\n",
      "binder: track\n",
      "rname: None\n",
      "Connect: Server IP (192.168.0.63)\n",
      "go\n",
      "binder: grip1\n",
      "rname: panda1\n",
      "Connect: Server IP (192.168.0.63)\n",
      "go\n",
      "binder: goal\n",
      "rname: None\n",
      "Connect: Server IP (192.168.0.63)\n",
      "go\n",
      "binder: goal\n",
      "rname: None\n",
      "Connect: Server IP (192.168.0.63)\n",
      "Connect: Server IP (192.168.0.63)\n"
     ]
    }
   ],
   "source": [
    "ppline.execute_schedule(schedule, vel_scale=0.5, acc_scale=0.2)"
   ]
  },
  {
   "cell_type": "code",
   "execution_count": null,
   "metadata": {},
   "outputs": [],
   "source": []
  }
 ],
 "metadata": {
  "kernelspec": {
   "display_name": "Python 2",
   "language": "python",
   "name": "python2"
  },
  "language_info": {
   "codemirror_mode": {
    "name": "ipython",
    "version": 2
   },
   "file_extension": ".py",
   "mimetype": "text/x-python",
   "name": "python",
   "nbconvert_exporter": "python",
   "pygments_lexer": "ipython2",
   "version": "2.7.17"
  }
 },
 "nbformat": 4,
 "nbformat_minor": 2
}
