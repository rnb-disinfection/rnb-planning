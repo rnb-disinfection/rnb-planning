{
 "cells": [
  {
   "cell_type": "markdown",
   "metadata": {},
   "source": [
    "## Check List 7.1. Demo - White board sweeping\n",
    "* In this demo file, we will use two robots (Indy7, Panda) to sweep a white board, removing obstacles\n",
    "\n",
    "* You need trained model to use ReachChecker\n",
    "  - model/reach_svm/indy7.json\n",
    "  - model/reach_svm/panda.json\n",
    "  - 백업: 개인 이동식 하드디스크, 강준수"
   ]
  },
  {
   "cell_type": "markdown",
   "metadata": {},
   "source": [
    "### Prepare the task scene\n",
    "* Prepare Indy7 and panda, and install sweeping tool to indy. (Check release/Figs/7.1.WhiteBoardSweeping.jpg)\n",
    "* Prepare \"floor\", \"track\", \"box1\", \"box2\" objects as defined in pkg.detector.aruco.marker_config.py\n",
    "* The robots and \"track\" are installed on \"floor\".\n",
    "* \"box1\" and \"box2\" are on \"track\"\n",
    "<img src=\"../../Figs/7.1.WhiteBoardSweeping.jpg\" width=\"80%\">"
   ]
  },
  {
   "cell_type": "code",
   "execution_count": null,
   "metadata": {},
   "outputs": [],
   "source": []
  },
  {
   "cell_type": "markdown",
   "metadata": {},
   "source": [
    "## set running directory to project source"
   ]
  },
  {
   "cell_type": "code",
   "execution_count": 1,
   "metadata": {},
   "outputs": [],
   "source": [
    "import os\n",
    "os.chdir(os.path.join(os.environ[\"RNB_PLANNING_DIR\"], 'src'))\n",
    "from pkg.utils.code_scraps import add_indy_sweep_tool, \\\n",
    "        use_current_place_point_only, use_current_sub_binders_only, \\\n",
    "        finish_L_shape, set_l_shape_object, ModeSwitcher, double_sweep_motions"
   ]
  },
  {
   "cell_type": "code",
   "execution_count": null,
   "metadata": {},
   "outputs": [],
   "source": []
  },
  {
   "cell_type": "markdown",
   "metadata": {},
   "source": [
    "## init combined robot config"
   ]
  },
  {
   "cell_type": "code",
   "execution_count": 2,
   "metadata": {},
   "outputs": [
    {
     "name": "stdout",
     "output_type": "stream",
     "text": [
      "connection command:\n",
      "indy0: False\n",
      "panda1: False\n"
     ]
    }
   ],
   "source": [
    "from pkg.controller.combined_robot import *\n",
    "from pkg.project_config import *\n",
    "\n",
    "crob = CombinedRobot(robots_on_scene=[\n",
    "    RobotConfig(0, RobotType.indy7, ((0.3,-0.4,0), (0,0,np.pi/2)),\n",
    "                INDY_IP),\n",
    "    RobotConfig(1, RobotType.panda, ((-0.3,-0.4,0), (0,0,np.pi/2)),\n",
    "                \"{}/{}\".format(PANDA_REPEATER_IP, PANDA_ROBOT_IP))]\n",
    "              , connection_list=[False, False])"
   ]
  },
  {
   "cell_type": "code",
   "execution_count": 3,
   "metadata": {},
   "outputs": [
    {
     "name": "stdout",
     "output_type": "stream",
     "text": [
      "Device configuration: \n",
      "\tcolor_format: 3 \n",
      "\t(0:JPG, 1:NV12, 2:YUY2, 3:BGRA32)\n",
      "\n",
      "\tcolor_resolution: 5 \n",
      "\t(0:OFF, 1:720p, 2:1080p, 3:1440p, 4:1536p, 5:2160p, 6:3072p)\n",
      "\n",
      "\tdepth_mode: 3 \n",
      "\t(0:OFF, 1:NFOV_2X2BINNED, 2:NFOV_UNBINNED,3:WFOV_2X2BINNED, 4:WFOV_UNBINNED, 5:Passive IR)\n",
      "\n",
      "\tcamera_fps: 2 \n",
      "\t(0:5 FPS, 1:15 FPS, 2:30 FPS)\n",
      "\n",
      "\tsynchronized_images_only: False \n",
      "\t(True of False). Drop images if the color and depth are not synchronized\n",
      "\n",
      "\tdepth_delay_off_color_usec: 0 ms. \n",
      "\tDelay between the color image and the depth image\n",
      "\n",
      "\twired_sync_mode: 0\n",
      "\t(0:Standalone mode, 1:Master mode, 2:Subordinate mode)\n",
      "\n",
      "\tsubordinate_delay_off_master_usec: 0 ms.\n",
      "\tThe external synchronization timing.\n",
      "\n",
      "\tdisable_streaming_indicator: False \n",
      "\t(True or False). Streaming indicator automatically turns on when the color or depth camera's are in use.\n",
      "\n",
      "\n",
      "Start streaming\n"
     ]
    },
    {
     "data": {
      "text/plain": [
       "[(array([[1.82983423e+03, 0.00000000e+00, 1.91572046e+03],\n",
       "         [0.00000000e+00, 1.82983423e+03, 1.09876086e+03],\n",
       "         [0.00000000e+00, 0.00000000e+00, 1.00000000e+00]]),\n",
       "  array([ 7.09966481e-01, -2.73409390e+00,  1.45804870e-03, -3.24774766e-04,\n",
       "          1.44911301e+00,  5.84310412e-01, -2.56374550e+00,  1.38472950e+00])),\n",
       " (array([[1.39560388e+03, 0.00000000e+00, 9.62751587e+02],\n",
       "         [0.00000000e+00, 1.39531934e+03, 5.47687012e+02],\n",
       "         [0.00000000e+00, 0.00000000e+00, 1.00000000e+00]]),\n",
       "  array([0., 0., 0., 0., 0.])),\n",
       " array([[ 0.82633954, -0.02762157, -0.56249446,  0.648935  ],\n",
       "        [ 0.1753176 ,  0.9617836 ,  0.21032366, -0.15893027],\n",
       "        [ 0.5351885 , -0.27241394,  0.7996024 ,  0.09019396],\n",
       "        [ 0.        ,  0.        ,  0.        ,  1.        ]],\n",
       "       dtype=float32)]"
      ]
     },
     "execution_count": 3,
     "metadata": {},
     "output_type": "execute_result"
    }
   ],
   "source": [
    "from pkg.detector.aruco.marker_config import *\n",
    "from pkg.detector.aruco.stereo import ArucoStereo\n",
    "from pkg.detector.camera.realsense import RealSense\n",
    "from pkg.detector.camera.kinect import Kinect\n",
    "aruco_map = get_aruco_map()\n",
    "stereo = ArucoStereo(aruco_map, [Kinect(), RealSense()])\n",
    "stereo.initialize()\n",
    "stereo.calibrate()"
   ]
  },
  {
   "cell_type": "code",
   "execution_count": null,
   "metadata": {},
   "outputs": [],
   "source": []
  },
  {
   "cell_type": "markdown",
   "metadata": {},
   "source": [
    "## create scene builder"
   ]
  },
  {
   "cell_type": "code",
   "execution_count": 4,
   "metadata": {},
   "outputs": [],
   "source": [
    "from pkg.geometry.builder.scene_builder import SceneBuilder\n",
    "s_builder = SceneBuilder(stereo)\n",
    "# deprecated: s_builder.reset_reference_coord(ref_name=\"floor\")"
   ]
  },
  {
   "cell_type": "code",
   "execution_count": null,
   "metadata": {},
   "outputs": [],
   "source": []
  },
  {
   "cell_type": "markdown",
   "metadata": {},
   "source": [
    "## detect robot and make geometry scene"
   ]
  },
  {
   "cell_type": "code",
   "execution_count": 5,
   "metadata": {},
   "outputs": [
    {
     "name": "stdout",
     "output_type": "stream",
     "text": [
      "Unable to register with master node [http://localhost:11311]: master may not be running yet. Will keep trying.\n"
     ]
    },
    {
     "name": "stderr",
     "output_type": "stream",
     "text": [
      "Unknown tag \"hardwareInterface\" in /robot[@name='custom_robots']/transmission[@name='indy0_tran0']/actuator[@name='indy0_motor0']\n",
      "Unknown tag \"hardwareInterface\" in /robot[@name='custom_robots']/transmission[@name='indy0_tran1']/actuator[@name='indy0_motor1']\n",
      "Unknown tag \"hardwareInterface\" in /robot[@name='custom_robots']/transmission[@name='indy0_tran2']/actuator[@name='indy0_motor2']\n",
      "Unknown tag \"hardwareInterface\" in /robot[@name='custom_robots']/transmission[@name='indy0_tran3']/actuator[@name='indy0_motor3']\n",
      "Unknown tag \"hardwareInterface\" in /robot[@name='custom_robots']/transmission[@name='indy0_tran4']/actuator[@name='indy0_motor4']\n",
      "Unknown tag \"hardwareInterface\" in /robot[@name='custom_robots']/transmission[@name='indy0_tran5']/actuator[@name='indy0_motor5']\n"
     ]
    },
    {
     "name": "stdout",
     "output_type": "stream",
     "text": [
      "Please create a subscriber to the marker\n",
      "publication OK\n",
      "published: [0, 0, 0, 0, 0, 0, 0, 0, 0, 0, 0, 0, 0]\n"
     ]
    }
   ],
   "source": [
    "xyz_rpy_robots = s_builder.detect_items(level_mask=[DetectionLevel.ROBOT])\n",
    "crob.update_robot_pos_dict(xyz_rpy_robots=xyz_rpy_robots)\n",
    "gscene = s_builder.create_gscene(crob)"
   ]
  },
  {
   "cell_type": "code",
   "execution_count": null,
   "metadata": {},
   "outputs": [],
   "source": []
  },
  {
   "cell_type": "markdown",
   "metadata": {},
   "source": [
    "## init planning pipeline"
   ]
  },
  {
   "cell_type": "code",
   "execution_count": 6,
   "metadata": {},
   "outputs": [
    {
     "name": "stdout",
     "output_type": "stream",
     "text": [
      "Dash is running on http://0.0.0.0:8050/\n",
      "\n",
      " * Serving Flask app \"pkg.ui.dash_launcher\" (lazy loading)\n",
      " * Environment: production\n"
     ]
    }
   ],
   "source": [
    "from pkg.planning.scene import PlanningScene\n",
    "pscene = PlanningScene(gscene, combined_robot=crob)\n",
    "\n",
    "from pkg.planning.pipeline import PlanningPipeline\n",
    "ppline = PlanningPipeline(pscene)\n",
    "\n",
    "from pkg.ui.ui_broker import *\n",
    "\n",
    "# start UI\n",
    "ui_broker = UIBroker.instance()\n",
    "ui_broker.initialize(ppline, s_builder)\n",
    "ui_broker.start_server()\n",
    "\n",
    "ui_broker.set_tables()"
   ]
  },
  {
   "cell_type": "markdown",
   "metadata": {},
   "source": [
    "```\n",
    "open web ui on <your ip>:8050\n",
    "click geometry items / Handles / Binders to highlight geometry on RVIZ\n",
    "other functions may be buggy.. please report\n",
    "```"
   ]
  },
  {
   "cell_type": "code",
   "execution_count": null,
   "metadata": {},
   "outputs": [],
   "source": []
  },
  {
   "cell_type": "markdown",
   "metadata": {},
   "source": [
    "## add environment"
   ]
  },
  {
   "cell_type": "code",
   "execution_count": 7,
   "metadata": {},
   "outputs": [
    {
     "name": "stdout",
     "output_type": "stream",
     "text": [
      "   WARNING: This is a development server. Do not use it in a production deployment.\n",
      "   Use a production WSGI server instead.\n",
      " * Debug mode: off\n",
      "Please create a subscriber to the marker\n"
     ]
    }
   ],
   "source": [
    "gtem_dict = s_builder.detect_and_register(level_mask=[DetectionLevel.ENVIRONMENT])\n",
    "\n",
    "# add cam poles\n",
    "ptems = s_builder.add_poles({\"cam0\": s_builder.ref_coord_inv[:3,3], \"cam1\":np.matmul(s_builder.ref_coord_inv, stereo.T_c12)[:3,3]},\n",
    "                            color=(0.6,0.6,0.6,0.0))\n",
    "gtems = s_builder.add_robot_geometries(color=(0,1,0,0.5), display=True, collision=True)\n",
    "gscene.NAME_DICT[\"floor\"].dims = (2,1,0.01)\n",
    "gscene.set_workspace_boundary( -1, 1, -0.5, 0.5, -0.1, 1.05)"
   ]
  },
  {
   "cell_type": "code",
   "execution_count": null,
   "metadata": {},
   "outputs": [],
   "source": []
  },
  {
   "cell_type": "markdown",
   "metadata": {},
   "source": [
    "## add indy tool"
   ]
  },
  {
   "cell_type": "code",
   "execution_count": 8,
   "metadata": {},
   "outputs": [],
   "source": [
    "add_indy_sweep_tool(gscene, \"indy0\", face_name=\"brush_face\", tool_offset=0.12)"
   ]
  },
  {
   "cell_type": "code",
   "execution_count": null,
   "metadata": {},
   "outputs": [],
   "source": []
  },
  {
   "cell_type": "markdown",
   "metadata": {},
   "source": [
    "## add sweep face"
   ]
  },
  {
   "cell_type": "code",
   "execution_count": 9,
   "metadata": {},
   "outputs": [],
   "source": [
    "track = s_builder.detect_and_register(item_names=[\"track\"], level_mask=[DetectionLevel.ENVIRONMENT])[\"track\"]\n",
    "track_face = gscene.copy_from(track, new_name=\"track_face\", collision=False)\n",
    "track_face.dims = (track.dims[0]-0.1, track.dims[1]-0.15, track.dims[2])\n",
    "# track.dims = (track.dims[0]-0.32, track.dims[1]-0.12, track.dims[2])"
   ]
  },
  {
   "cell_type": "code",
   "execution_count": 10,
   "metadata": {},
   "outputs": [],
   "source": [
    "gscene.update_markers_all()"
   ]
  },
  {
   "cell_type": "code",
   "execution_count": null,
   "metadata": {},
   "outputs": [],
   "source": []
  },
  {
   "cell_type": "markdown",
   "metadata": {},
   "source": [
    "## add wp"
   ]
  },
  {
   "cell_type": "code",
   "execution_count": 11,
   "metadata": {},
   "outputs": [],
   "source": [
    "TOOL_DIM = [0.06, 0.10]\n",
    "TACK_WIDTH = 0.17\n",
    "TRACK_DIM = track_face.dims\n",
    "TRACK_NUM = np.ceil(np.divide(TRACK_DIM[1]-TOOL_DIM[1], TOOL_DIM[1])).astype(np.int)+1\n",
    "TRACK_STEP = (TRACK_DIM[1]-TOOL_DIM[1])/(TRACK_NUM-1)\n",
    "WP_REF_A = -np.subtract(TRACK_DIM[:2], TOOL_DIM[:2])/2\n",
    "WP_REF_B = np.array([-WP_REF_A[0], WP_REF_A[1]])\n",
    "WP_REF_M = np.array([0, WP_REF_A[1]])\n",
    "TRC_THIC = TRACK_DIM[2]\n",
    "track_list = []\n",
    "for i_trc in range(TRACK_NUM):\n",
    "    wp1 = gscene.create_safe(GEOTYPE.BOX, \"wp{}a\".format(i_trc+1), \"base_link\", (TOOL_DIM[0]/2,TOOL_DIM[1]/2,TRC_THIC), \n",
    "                             tuple(WP_REF_A+[0,TRACK_STEP*i_trc])+(0,),rpy=(0,0,0), \n",
    "                             color=(0.8,0.2,0.2,0.2), display=True, fixed=True, collision=False, parent=\"track_face\")\n",
    "    wp2 = gscene.create_safe(GEOTYPE.BOX, \"wp{}b\".format(i_trc+1), \"base_link\", (TOOL_DIM[0]/2,TOOL_DIM[1]/2,TRC_THIC), \n",
    "                             tuple(WP_REF_B+[0,TRACK_STEP*i_trc])+(0,),rpy=(0,0,0), \n",
    "                             color=(0.8,0.2,0.2,0.2), display=True, fixed=True, collision=False, parent=\"track_face\")\n",
    "    face = gscene.create_safe(GEOTYPE.BOX, \"face{}\".format(i_trc+1), \"base_link\", \n",
    "                              (TRACK_DIM[0] - TOOL_DIM[0]/2,TACK_WIDTH,TRC_THIC), \n",
    "                             center=tuple(WP_REF_M+[0,TRACK_STEP*i_trc])+(1e-2,),rpy=(0,0,0), \n",
    "                             color=(0.8,0.2,0.2,0.2), display=True, fixed=True, collision=False, parent=\"track_face\")\n",
    "    track_list.append((wp1, wp2, face))"
   ]
  },
  {
   "cell_type": "code",
   "execution_count": 12,
   "metadata": {},
   "outputs": [],
   "source": [
    "gscene.update_markers_all()"
   ]
  },
  {
   "cell_type": "code",
   "execution_count": null,
   "metadata": {},
   "outputs": [],
   "source": []
  },
  {
   "cell_type": "markdown",
   "metadata": {},
   "source": [
    "## add blocking structure on table"
   ]
  },
  {
   "cell_type": "code",
   "execution_count": 13,
   "metadata": {},
   "outputs": [],
   "source": [
    "# gscene.create_safe(gtype=GEOTYPE.BOX, name=\"blocker\", link_name=\"base_link\",\n",
    "#                             center=(-0.27,-0.2,0.15), dims=(0.1,0.3, 0.4), rpy=(0,0,0), color=(0.0,0.8,0.0,0.5),\n",
    "#                             collision=True, fixed=True)"
   ]
  },
  {
   "cell_type": "code",
   "execution_count": null,
   "metadata": {},
   "outputs": [],
   "source": []
  },
  {
   "cell_type": "markdown",
   "metadata": {},
   "source": [
    "## add box"
   ]
  },
  {
   "cell_type": "code",
   "execution_count": 14,
   "metadata": {},
   "outputs": [],
   "source": [
    "gtem_dict = s_builder.detect_and_register(level_mask=[DetectionLevel.MOVABLE])"
   ]
  },
  {
   "cell_type": "code",
   "execution_count": 15,
   "metadata": {},
   "outputs": [],
   "source": [
    "gscene.update_markers_all()"
   ]
  },
  {
   "cell_type": "code",
   "execution_count": null,
   "metadata": {},
   "outputs": [],
   "source": []
  },
  {
   "cell_type": "markdown",
   "metadata": {},
   "source": [
    "## Register binders"
   ]
  },
  {
   "cell_type": "code",
   "execution_count": 16,
   "metadata": {},
   "outputs": [],
   "source": [
    "from pkg.planning.constraint.constraint_actor import Gripper2Tool, PlacePlane, SweepFramer, FixtureSlot"
   ]
  },
  {
   "cell_type": "code",
   "execution_count": 17,
   "metadata": {},
   "outputs": [
    {
     "data": {
      "text/plain": [
       "<pkg.planning.constraint.constraint_actor.PlacePlane at 0x7efd4a8199d0>"
      ]
     },
     "execution_count": 17,
     "metadata": {},
     "output_type": "execute_result"
    }
   ],
   "source": [
    "gscene.create_safe(gtype=GEOTYPE.SPHERE, name=\"grip1\", link_name=\"panda1_hand\", \n",
    "                 dims=(0.01,)*3, center=(0,0,0.112), rpy=(-np.pi/2,0,0), color=(1,0,0,1), display=True, collision=False, fixed=True)\n",
    "\n",
    "pscene.create_binder(bname=\"grip1\", gname=\"grip1\", _type=Gripper2Tool, point=(0,0,0), rpy=(0,0,0))\n",
    "pscene.create_binder(bname=\"brush_face\", gname=\"brush_face\", _type=SweepFramer, point=(0,0,gscene.NAME_DICT['brush_face'].dims[2]/2), \n",
    "                     rpy=(0,np.pi,0))\n",
    "pscene.create_binder(bname=\"track_face\", gname=\"track_face\", _type=PlacePlane, point=None)"
   ]
  },
  {
   "cell_type": "code",
   "execution_count": null,
   "metadata": {},
   "outputs": [],
   "source": []
  },
  {
   "cell_type": "markdown",
   "metadata": {},
   "source": [
    "## add objects"
   ]
  },
  {
   "cell_type": "code",
   "execution_count": 18,
   "metadata": {},
   "outputs": [],
   "source": [
    "from pkg.planning.constraint.constraint_subject import \\\n",
    "        CustomObject, Grasp2Point, PlacePoint, SweepFrame, SweepTask, BoxObject, FixturePoint, AbstractObject"
   ]
  },
  {
   "cell_type": "code",
   "execution_count": 19,
   "metadata": {},
   "outputs": [],
   "source": [
    "for gname in sorted(gtem_dict.keys()):\n",
    "    pscene.create_subject(oname=gname, gname=gname, _type=BoxObject, hexahedral=True)\n",
    "# box3= pscene.create_subject(oname=\"box3\", gname=\"box3\", _type=BoxObject, hexahedral=True)"
   ]
  },
  {
   "cell_type": "code",
   "execution_count": 20,
   "metadata": {},
   "outputs": [],
   "source": [
    "from pkg.planning.constraint.constraint_common import MotionConstraint\n",
    "from pkg.planning.constraint.constraint_subject import AbstractTask\n",
    "from pkg.planning.constraint.constraint_subject import SweepLineTask"
   ]
  },
  {
   "cell_type": "code",
   "execution_count": 21,
   "metadata": {},
   "outputs": [],
   "source": [
    "sweep_list = []\n",
    "for i_t, track_tem in enumerate(track_list):\n",
    "    wp1, wp2, face = track_tem\n",
    "    sweep_ = pscene.create_subject(oname=\"sweep{}\".format(i_t+1), gname=\"track_face\", _type=SweepLineTask, \n",
    "                                   action_points_dict = {wp1.name: SweepFrame(wp1.name, wp1, [0,0,0.005], [0,0,0]),\n",
    "                                                       wp2.name: SweepFrame(wp2.name, wp2, [0,0,0.005], [0,0,0])}, \n",
    "                                   clearance=[face])\n",
    "    sweep_list.append(sweep_)"
   ]
  },
  {
   "cell_type": "code",
   "execution_count": null,
   "metadata": {},
   "outputs": [],
   "source": []
  },
  {
   "cell_type": "markdown",
   "metadata": {},
   "source": [
    "### planners"
   ]
  },
  {
   "cell_type": "code",
   "execution_count": 22,
   "metadata": {
    "scrolled": false
   },
   "outputs": [],
   "source": [
    "from pkg.planning.motion.moveit.moveit_planner import MoveitPlanner\n",
    "mplan = MoveitPlanner(pscene)\n",
    "mplan.update_gscene()\n",
    "from pkg.planning.task.rrt import TaskRRT\n",
    "tplan = TaskRRT(pscene)\n",
    "tplan.prepare()\n",
    "ppline.set_motion_planner(mplan)\n",
    "ppline.set_task_planner(tplan)"
   ]
  },
  {
   "cell_type": "code",
   "execution_count": null,
   "metadata": {},
   "outputs": [],
   "source": []
  },
  {
   "cell_type": "markdown",
   "metadata": {},
   "source": [
    "## motion filters"
   ]
  },
  {
   "cell_type": "code",
   "execution_count": 23,
   "metadata": {},
   "outputs": [],
   "source": [
    "from pkg.planning.filtering.grasp_filter import GraspChecker\n",
    "from pkg.planning.filtering.reach_filter import ReachChecker\n",
    "from pkg.planning.filtering.latticized_filter import LatticedChecker\n",
    "from pkg.planning.filtering.task_clearance_filter import TaskClearanceChecker\n",
    "\n",
    "gcheck = GraspChecker(pscene)\n",
    "rcheck = ReachChecker(pscene)\n",
    "tcheck = TaskClearanceChecker(pscene, gcheck)\n",
    "checkers_all = [tcheck, rcheck, gcheck]\n",
    "# lcheck = LatticedChecker(pscene, gcheck)\n",
    "# checkers_all.append(lcheck)"
   ]
  },
  {
   "cell_type": "code",
   "execution_count": 24,
   "metadata": {},
   "outputs": [],
   "source": [
    "mplan.motion_filters = checkers_all"
   ]
  },
  {
   "cell_type": "code",
   "execution_count": 25,
   "metadata": {},
   "outputs": [],
   "source": [
    "gscene.show_pose(crob.home_pose)"
   ]
  },
  {
   "cell_type": "code",
   "execution_count": null,
   "metadata": {},
   "outputs": [],
   "source": []
  },
  {
   "cell_type": "markdown",
   "metadata": {},
   "source": [
    "## Set initial condition"
   ]
  },
  {
   "cell_type": "code",
   "execution_count": 26,
   "metadata": {},
   "outputs": [
    {
     "name": "stdout",
     "output_type": "stream",
     "text": [
      "(0, 0, 0)\n"
     ]
    }
   ],
   "source": [
    "from pkg.planning.constraint.constraint_common \\\n",
    "            import sample_redundancy, combine_redundancy\n",
    "gtimer = GlobalTimer.instance()\n",
    "initial_state = pscene.initialize_state(crob.home_pose)\n",
    "print(initial_state.node)\n",
    "\n",
    "# remove place points except for the current one\n",
    "use_current_place_point_only(pscene, initial_state)"
   ]
  },
  {
   "cell_type": "code",
   "execution_count": 27,
   "metadata": {},
   "outputs": [
    {
     "data": {
      "text/plain": [
       "['sweep1', 'sweep2', 'sweep3']"
      ]
     },
     "execution_count": 27,
     "metadata": {},
     "output_type": "execute_result"
    }
   ],
   "source": [
    "pscene.subject_name_list"
   ]
  },
  {
   "cell_type": "code",
   "execution_count": null,
   "metadata": {},
   "outputs": [],
   "source": []
  },
  {
   "cell_type": "markdown",
   "metadata": {},
   "source": [
    "# Node Sampler"
   ]
  },
  {
   "cell_type": "code",
   "execution_count": 28,
   "metadata": {},
   "outputs": [],
   "source": [
    "from pkg.planning.sampling.node_sampling import make_state_param_hashable, UniformNodeSampler, PenaltyNodeSampler, GrowingSampler\n",
    "\n",
    "tplan.new_node_sampler = PenaltyNodeSampler(3, 1)\n",
    "tplan.parent_node_sampler = UniformNodeSampler(3)\n",
    "# tplan.parent_snode_sampler = GrowingSampler(3)"
   ]
  },
  {
   "cell_type": "code",
   "execution_count": null,
   "metadata": {},
   "outputs": [],
   "source": []
  },
  {
   "cell_type": "markdown",
   "metadata": {},
   "source": [
    "# CustomRule"
   ]
  },
  {
   "cell_type": "code",
   "execution_count": 29,
   "metadata": {},
   "outputs": [],
   "source": [
    "from pkg.planning.task.custom_rules.sweep_entrance_control import SweepEntranceControlRule\n",
    "tplan.custom_rule = SweepEntranceControlRule(pscene)"
   ]
  },
  {
   "cell_type": "code",
   "execution_count": null,
   "metadata": {},
   "outputs": [],
   "source": []
  },
  {
   "cell_type": "markdown",
   "metadata": {},
   "source": [
    "## Re-detect the scene"
   ]
  },
  {
   "cell_type": "code",
   "execution_count": 31,
   "metadata": {},
   "outputs": [],
   "source": [
    "mplan.reset_log(False)\n",
    "gtimer.reset()\n",
    "\n",
    "with gtimer.block(\"detect\"):\n",
    "    for sname in pscene.subject_name_list:\n",
    "        if isinstance(pscene.subject_dict[sname], AbstractObject):\n",
    "            pscene.remove_subject(sname)\n",
    "            \n",
    "    gscene.clear_non_fixed()\n",
    "    \n",
    "    ## detect again\n",
    "    gtem_dict = s_builder.detect_and_register(level_mask=[DetectionLevel.MOVABLE])\n",
    "\n",
    "    ## create boxes\n",
    "    box_list =  [] \n",
    "    for gname in sorted(gtem_dict.keys()):\n",
    "        with gtimer.block(gname):\n",
    "            box_new = pscene.create_subject(oname=gname, gname=gname, _type=BoxObject, hexahedral=True)\n",
    "            box_new.register_binders(pscene, PlacePlane)\n",
    "            box_list.append(box_new)\n",
    "            \n",
    "initial_state = pscene.initialize_state(crob.home_pose, force_fit_binding=False)\n",
    "gscene.update_markers_all()\n",
    "\n",
    "# remove place points and sub-binders except for the current ones\n",
    "use_current_place_point_only(pscene, initial_state)\n",
    "use_current_sub_binders_only(pscene, initial_state)\n",
    "tplan.prepare()\n",
    "mplan.update_gscene()"
   ]
  },
  {
   "cell_type": "code",
   "execution_count": 33,
   "metadata": {
    "scrolled": true
   },
   "outputs": [
    {
     "name": "stdout",
     "output_type": "stream",
     "text": [
      "detect: \t175.0 ms/1 = 175.0 ms (175.036/175.036)\n",
      "\n"
     ]
    }
   ],
   "source": [
    "print(gtimer)"
   ]
  },
  {
   "cell_type": "code",
   "execution_count": null,
   "metadata": {},
   "outputs": [],
   "source": []
  },
  {
   "cell_type": "markdown",
   "metadata": {},
   "source": [
    "## Make Plan"
   ]
  },
  {
   "cell_type": "code",
   "execution_count": 34,
   "metadata": {
    "scrolled": true
   },
   "outputs": [
    {
     "name": "stdout",
     "output_type": "stream",
     "text": [
      "(0, 0, 0)\n",
      "Use 36/36 agents\n",
      "try: 0 - (0, 0, 0)->(1, 0, 0)\n",
      "ERROR sampling parent - NO SAMPLE REMAINED! Re-Start with initial state\n",
      "try transition motion\n",
      "probability saturated\n",
      "ERROR sampling parent - Failed to get new_node or parent_nodes\n",
      "ERROR sampling parent - NO SAMPLE REMAINED! Re-Start with initial state\n",
      "probability saturated\n",
      "ERROR sampling parent - Failed to get new_node or parent_nodes\n",
      "ERROR sampling parent - NO SAMPLE REMAINED! Re-Start with initial state\n",
      "probability saturated\n",
      "transition motion tried: True\n",
      "probability saturated\n",
      "result: 0 - (0, 0, 0)->(1, 0, 0) = success\n",
      "ERROR sampling parent - Failed to get new_node or parent_nodes\n",
      "ERROR sampling parent - NO SAMPLE REMAINED! Re-Start with initial state\n",
      "branching: 0->1 (0.22/100.0 s, steps/err: 35(139.48392868 ms)/0.00201286595756)\n",
      "======================================================================================================================================================\n",
      "try: 1 - (1, 0, 0)->(2, 0, 0)\n",
      "ERROR sampling parent - Failed to get new_node or parent_nodes\n",
      "ERROR sampling parent - NO SAMPLE REMAINED! Re-Start with initial state\n",
      "probability saturated\n",
      "try constrained motion\n",
      "ERROR sampling parent - NO SAMPLE REMAINED! Re-Start with initial state\n",
      "probability saturated\n",
      "ERROR sampling parent - Failed to get new_node or parent_nodes\n",
      "ERROR sampling parent - Failed to get new_node or parent_nodes\n",
      "ERROR sampling parent - NO SAMPLE REMAINED! Re-Start with initial state\n",
      "probability saturated\n",
      "ERROR sampling parent - Failed to get new_node or parent_nodes\n",
      "constrained motion tried: True\n",
      "ERROR sampling parent - NO SAMPLE REMAINED! Re-Start with initial state\n",
      "probability saturated\n",
      "result: 1 - (1, 0, 0)->(2, 0, 0) = success\n",
      "branching: 1->2 (0.37/100.0 s, steps/err: 91(110.617160797 ms)/0.00125290829681)\n",
      "======================================================================================================================================================\n",
      "ERROR sampling parent - Failed to get new_node or parent_nodes\n",
      "++ adding return motion to acquired answer ++\n",
      "ERROR sampling parent - NO SAMPLE REMAINED! Re-Start with initial state\n",
      "probability saturated\n",
      "ERROR sampling parent - Failed to get new_node or parent_nodes\n",
      "ERROR sampling parent - NO SAMPLE REMAINED! Re-Start with initial state\n",
      "probability saturated\n",
      "ERROR sampling parent - Failed to get new_node or parent_nodes\n",
      "ERROR sampling parent - NO SAMPLE REMAINED! Re-Start with initial state\n",
      "probability saturated\n",
      "ERROR sampling parent - Failed to get new_node or parent_nodes\n",
      "ERROR sampling parent - NO SAMPLE REMAINED! Re-Start with initial state\n",
      "probability saturated\n",
      "ERROR sampling parent - Failed to get new_node or parent_nodes\n",
      "ERROR sampling parent - NO SAMPLE REMAINED! Re-Start with initial state\n",
      "probability saturated\n",
      "ERROR sampling parent - Failed to get new_node or parent_nodes\n",
      "ERROR sampling parent - NO SAMPLE REMAINED! Re-Start with initial state\n",
      "probability saturated\n",
      "ERROR sampling parent - Failed to get new_node or parent_nodes\n",
      "ERROR sampling parent - NO SAMPLE REMAINED! Re-Start with initial state\n",
      "probability saturated\n",
      "'a' must be greater than 0 unless no samples are taken\n",
      "ERROR sampling parent - NO SAMPLE REMAINED! Re-Start with initial state\n",
      "ERROR sampling parent - Failed to get new_node or parent_nodes\n",
      "probability saturated\n",
      "ERROR sampling parent - Failed to get new_node or parent_nodes\n",
      "ERROR sampling parent - NO SAMPLE REMAINED! Re-Start with initial state\n",
      "probability saturated\n",
      "'a' must be greater than 0 unless no samples are taken\n",
      "ERROR sampling parent - Failed to get new_node or parent_nodes\n",
      "ERROR sampling parent - NO SAMPLE REMAINED! Re-Start with initial state\n",
      "++ post-optimizing acquired answer ++\n",
      "ERROR sampling parent - NO SAMPLE REMAINED! Re-Start with initial state\n",
      "probability saturated\n",
      "probability saturated\n",
      "ERROR sampling parent - Failed to get new_node or parent_nodes\n",
      "ERROR sampling parent - NO SAMPLE REMAINED! Re-Start with initial state\n",
      "ERROR sampling parent - Failed to get new_node or parent_nodes\n",
      "'a' must be greater than 0 unless no samples are taken\n",
      "probability saturated\n",
      "ERROR sampling parent - NO SAMPLE REMAINED! Re-Start with initial state\n",
      "probability saturated\n",
      "ERROR sampling parent - Failed to get new_node or parent_nodes\n",
      "ERROR sampling parent - NO SAMPLE REMAINED! Re-Start with initial state\n",
      "=========================================================================================================\n",
      "'a' must be greater than 0 unless no samples are taken\n",
      "ERROR sampling parent - Failed to get new_node or parent_nodes\n",
      "probability saturated\n",
      "======================= terminated 0: first answer acquired ===============================\n",
      "ERROR sampling parent - NO SAMPLE REMAINED! Re-Start with initial state\n",
      "=========================================================================================================\n",
      "probability saturated\n",
      "'a' must be greater than 0 unless no samples are taken\n",
      "ERROR sampling parent - Failed to get new_node or parent_nodes\n",
      "=========================================================================================================\n",
      "'a' must be greater than 0 unless no samples are taken\n",
      "ERROR sampling parent - NO SAMPLE REMAINED! Re-Start with initial state\n",
      "======================= terminated 20: first answer acquired from other agent ===============================\n",
      "probability saturated\n",
      "ERROR sampling parent - NO SAMPLE REMAINED! Re-Start with initial state\n",
      "=========================================================================================================\n",
      "probability saturated\n",
      "ERROR sampling parent - Failed to get new_node or parent_nodes\n",
      "'a' must be greater than 0 unless no samples are taken\n",
      "ERROR sampling parent - Failed to get new_node or parent_nodes\n",
      "=========================================================================================================\n",
      "======================= terminated 21: first answer acquired from other agent ===============================\n",
      "ERROR sampling parent - NO SAMPLE REMAINED! Re-Start with initial state\n",
      "ERROR sampling parent - Failed to get new_node or parent_nodes\n",
      "=========================================================================================================\n",
      "probability saturated\n",
      "ERROR sampling parent - Failed to get new_node or parent_nodes\n",
      "=========================================================================================================\n",
      "======================= terminated 22: first answer acquired from other agent ===============================\n",
      "=========================================================================================================\n",
      "'a' must be greater than 0 unless no samples are taken\n",
      "=========================================================================================================\n",
      "ERROR sampling parent - NO SAMPLE REMAINED! Re-Start with initial state\n",
      "======================= terminated 23: first answer acquired from other agent ===============================\n",
      "probability saturated\n",
      "=========================================================================================================\n",
      "'a' must be greater than 0 unless no samples are taken\n",
      "ERROR sampling parent - Failed to get new_node or parent_nodes\n",
      "=========================================================================================================\n",
      "ERROR sampling parent - NO SAMPLE REMAINED! Re-Start with initial state\n",
      "probability saturated\n",
      "======================= terminated 24: first answer acquired from other agent ===============================\n",
      "=========================================================================================================\n",
      "ERROR sampling parent - Failed to get new_node or parent_nodes\n",
      "'a' must be greater than 0 unless no samples are taken\n",
      "=========================================================================================================\n",
      "ERROR sampling parent - NO SAMPLE REMAINED! Re-Start with initial state\n",
      "======================= terminated 25: first answer acquired from other agent ===============================\n",
      "probability saturated\n",
      "=========================================================================================================\n",
      "ERROR sampling parent - Failed to get new_node or parent_nodes\n",
      "probability saturated\n",
      "'a' must be greater than 0 unless no samples are taken\n"
     ]
    },
    {
     "name": "stdout",
     "output_type": "stream",
     "text": [
      "=========================================================================================================\n",
      "======================= terminated 26: first answer acquired from other agent ===============================\n",
      "ERROR sampling parent - NO SAMPLE REMAINED! Re-Start with initial state\n",
      "=========================================================================================================\n",
      "'a' must be greater than 0 unless no samples are taken\n",
      "ERROR sampling parent - Failed to get new_node or parent_nodes\n",
      "ERROR sampling parent - NO SAMPLE REMAINED! Re-Start with initial state\n",
      "=========================================================================================================\n",
      "probability saturated\n",
      "======================= terminated 27: first answer acquired from other agent ===============================\n",
      "=========================================================================================================\n",
      "ERROR sampling parent - Failed to get new_node or parent_nodes\n",
      "'a' must be greater than 0 unless no samples are taken\n",
      "'a' must be greater than 0 unless no samples are taken\n",
      "=========================================================================================================\n",
      "ERROR sampling parent - NO SAMPLE REMAINED! Re-Start with initial state\n",
      "ERROR sampling parent - NO SAMPLE REMAINED! Re-Start with initial state\n",
      "======================= terminated 28: first answer acquired from other agent ===============================\n",
      "probability saturated\n",
      "probability saturated\n",
      "=========================================================================================================\n",
      "ERROR sampling parent - Failed to get new_node or parent_nodes\n",
      "'a' must be greater than 0 unless no samples are taken\n",
      "ERROR sampling parent - Failed to get new_node or parent_nodes\n",
      "=========================================================================================================\n",
      "'a' must be greater than 0 unless no samples are taken\n",
      "ERROR sampling parent - NO SAMPLE REMAINED! Re-Start with initial state\n",
      "probability saturated\n",
      "ERROR sampling parent - NO SAMPLE REMAINED! Re-Start with initial state\n",
      "======================= terminated 29: first answer acquired from other agent ===============================\n",
      "probability saturated\n",
      "=========================================================================================================\n",
      "ERROR sampling parent - Failed to get new_node or parent_nodes\n",
      "ERROR sampling parent - Failed to get new_node or parent_nodes\n",
      "=========================================================================================================\n",
      "'a' must be greater than 0 unless no samples are taken\n",
      "ERROR sampling parent - NO SAMPLE REMAINED! Re-Start with initial state\n",
      "======================= terminated 30: first answer acquired from other agent ===============================\n",
      "probability saturated\n",
      "=========================================================================================================\n",
      "=========================================================================================================\n",
      "ERROR sampling parent - Failed to get new_node or parent_nodes\n",
      "======================= terminated 31: first answer acquired from other agent ===============================\n",
      "=========================================================================================================\n",
      "'a' must be greater than 0 unless no samples are taken\n",
      "'a' must be greater than 0 unless no samples are taken\n",
      "ERROR sampling parent - NO SAMPLE REMAINED! Re-Start with initial state\n",
      "ERROR sampling parent - NO SAMPLE REMAINED! Re-Start with initial state\n",
      "=========================================================================================================\n",
      "'a' must be greater than 0 unless no samples are taken\n",
      "probability saturated\n",
      "probability saturated\n",
      "ERROR sampling parent - NO SAMPLE REMAINED! Re-Start with initial state\n",
      "======================= terminated 32: first answer acquired from other agent ===============================\n",
      "probability saturated\n",
      "=========================================================================================================\n",
      "ERROR sampling parent - Failed to get new_node or parent_nodes\n",
      "'a' must be greater than 0 unless no samples are taken\n",
      "ERROR sampling parent - Failed to get new_node or parent_nodes\n",
      "ERROR sampling parent - Failed to get new_node or parent_nodes\n",
      "=========================================================================================================\n",
      "ERROR sampling parent - NO SAMPLE REMAINED! Re-Start with initial state\n",
      "probability saturated\n",
      "======================= terminated 33: first answer acquired from other agent ===============================\n",
      "=========================================================================================================\n",
      "'a' must be greater than 0 unless no samples are taken\n",
      "ERROR sampling parent - Failed to get new_node or parent_nodes\n",
      "=========================================================================================================\n",
      "ERROR sampling parent - NO SAMPLE REMAINED! Re-Start with initial state\n",
      "======================= terminated 34: first answer acquired from other agent ===============================\n",
      "probability saturated\n",
      "=========================================================================================================\n",
      "'a' must be greater than 0 unless no samples are taken\n",
      "'a' must be greater than 0 unless no samples are taken\n",
      "ERROR sampling parent - NO SAMPLE REMAINED! Re-Start with initial state\n",
      "ERROR sampling parent - Failed to get new_node or parent_nodes\n",
      "probability saturated\n",
      "'a' must be greater than 0 unless no samples are taken\n",
      "ERROR sampling parent - NO SAMPLE REMAINED! Re-Start with initial state\n",
      "probability saturated\n",
      "ERROR sampling parent - NO SAMPLE REMAINED! Re-Start with initial state\n",
      "probability saturated\n",
      "ERROR sampling parent - Failed to get new_node or parent_nodes\n",
      "=========================================================================================================\n",
      "ERROR sampling parent - Failed to get new_node or parent_nodes\n",
      "======================= terminated 35: first answer acquired from other agent ===============================\n",
      "ERROR sampling parent - Failed to get new_node or parent_nodes\n",
      "=========================================================================================================\n",
      "'a' must be greater than 0 unless no samples are taken\n",
      "ERROR sampling parent - NO SAMPLE REMAINED! Re-Start with initial state\n",
      "probability saturated\n",
      "ERROR sampling parent - Failed to get new_node or parent_nodes\n",
      "'a' must be greater than 0 unless no samples are taken\n",
      "ERROR sampling parent - NO SAMPLE REMAINED! Re-Start with initial state\n",
      "probability saturated\n",
      "'a' must be greater than 0 unless no samples are taken\n",
      "ERROR sampling parent - NO SAMPLE REMAINED! Re-Start with initial state\n",
      "ERROR sampling parent - Failed to get new_node or parent_nodes\n",
      "probability saturated\n",
      "ERROR sampling parent - Failed to get new_node or parent_nodes\n",
      "'a' must be greater than 0 unless no samples are taken\n",
      "ERROR sampling parent - NO SAMPLE REMAINED! Re-Start with initial state\n",
      "probability saturated\n",
      "ERROR sampling parent - Failed to get new_node or parent_nodes\n",
      "'a' must be greater than 0 unless no samples are taken\n",
      "ERROR sampling parent - NO SAMPLE REMAINED! Re-Start with initial state\n",
      "probability saturated\n",
      "'a' must be greater than 0 unless no samples are taken\n",
      "ERROR sampling parent - Failed to get new_node or parent_nodes\n",
      "ERROR sampling parent - NO SAMPLE REMAINED! Re-Start with initial state\n",
      "probability saturated\n",
      "ERROR sampling parent - Failed to get new_node or parent_nodes\n",
      "'a' must be greater than 0 unless no samples are taken\n",
      "ERROR sampling parent - NO SAMPLE REMAINED! Re-Start with initial state\n",
      "probability saturated\n",
      "'a' must be greater than 0 unless no samples are taken\n",
      "ERROR sampling parent - Failed to get new_node or parent_nodes\n",
      "ERROR sampling parent - NO SAMPLE REMAINED! Re-Start with initial state\n",
      "probability saturated\n",
      "ERROR sampling parent - Failed to get new_node or parent_nodes\n",
      "Use 36/36 agents\n",
      "'a' must be greater than 0 unless no samples are taken\n",
      "'a' must be greater than 0 unless no samples are taken\n",
      "ERROR sampling parent - NO SAMPLE REMAINED! Re-Start with initial state\n"
     ]
    },
    {
     "name": "stdout",
     "output_type": "stream",
     "text": [
      "=========================================================================================================\n",
      "probability saturated\n",
      "======================= terminated 1: first answer acquired from other agent ===============================\n",
      "=========================================================================================================\n",
      "ERROR sampling parent - Failed to get new_node or parent_nodes\n",
      "try: 0 - (2, 0, 0)->(2, 1, 0)\n",
      "'a' must be greater than 0 unless no samples are taken\n",
      "ERROR sampling parent - NO SAMPLE REMAINED! Re-Start with initial state\n",
      "probability saturated\n",
      "ERROR sampling parent - NO SAMPLE REMAINED! Re-Start with initial state\n",
      "try transition motion\n",
      "ERROR sampling parent - Failed to get new_node or parent_nodes\n",
      "probability saturated\n",
      "ERROR sampling parent - Failed to get new_node or parent_nodes\n",
      "'a' must be greater than 0 unless no samples are taken\n",
      "ERROR sampling parent - NO SAMPLE REMAINED! Re-Start with initial state\n",
      "=========================================================================================================\n",
      "probability saturated\n",
      "======================= terminated 2: first answer acquired from other agent ===============================\n",
      "=========================================================================================================\n",
      "ERROR sampling parent - Failed to get new_node or parent_nodes\n",
      "'a' must be greater than 0 unless no samples are taken\n",
      "'a' must be greater than 0 unless no samples are taken\n",
      "ERROR sampling parent - NO SAMPLE REMAINED! Re-Start with initial state\n",
      "ERROR sampling parent - NO SAMPLE REMAINED! Re-Start with initial state\n",
      "ERROR sampling parent - NO SAMPLE REMAINED! Re-Start with initial state\n",
      "probability saturated\n",
      "probability saturated\n",
      "probability saturated\n",
      "ERROR sampling parent - Failed to get new_node or parent_nodes\n",
      "ERROR sampling parent - Failed to get new_node or parent_nodes\n",
      "transition motion tried: True\n",
      "ERROR sampling parent - Failed to get new_node or parent_nodes\n",
      "ERROR sampling parent - NO SAMPLE REMAINED! Re-Start with initial state\n",
      "'a' must be greater than 0 unless no samples are taken\n",
      "'a' must be greater than 0 unless no samples are taken\n",
      "=========================================================================================================\n",
      "ERROR sampling parent - NO SAMPLE REMAINED! Re-Start with initial state\n",
      "======================= terminated 3: first answer acquired from other agent ===============================\n",
      "probability saturated\n",
      "=========================================================================================================\n",
      "probability saturated\n",
      "'a' must be greater than 0 unless no samples are taken\n",
      "result: 0 - (2, 0, 0)->(2, 1, 0) = success\n",
      "'a' must be greater than 0 unless no samples are taken\n",
      "branching: 0->1 (0.24/100.0 s, steps/err: 33(135.995149612 ms)/0.00119283867781)\n",
      "=========================================================================================================\n",
      "=========================================================================================================\n",
      "ERROR sampling parent - Failed to get new_node or parent_nodes\n",
      "======================================================================================================================================================\n",
      "'a' must be greater than 0 unless no samples are taken\n",
      "======================= terminated 5: first answer acquired from other agent ===============================\n",
      "======================= terminated 4: first answer acquired from other agent ===============================\n",
      "=========================================================================================================\n",
      "=========================================================================================================\n",
      "=========================================================================================================\n",
      "try: 1 - (2, 1, 0)->(2, 2, 0)\n",
      "ERROR sampling parent - Failed to get new_node or parent_nodes\n",
      "ERROR sampling parent - NO SAMPLE REMAINED! Re-Start with initial state\n",
      "'a' must be greater than 0 unless no samples are taken\n",
      "======================= terminated 6: first answer acquired from other agent ===============================\n",
      "probability saturated\n",
      "=========================================================================================================\n",
      "=========================================================================================================\n",
      "======================= terminated 7: first answer acquired from other agent ===============================\n",
      "ERROR sampling parent - Failed to get new_node or parent_nodes\n",
      "try constrained motion\n",
      "ERROR sampling parent - NO SAMPLE REMAINED! Re-Start with initial state\n",
      "=========================================================================================================\n",
      "probability saturated\n",
      "ERROR sampling parent - Failed to get new_node or parent_nodes\n",
      "ERROR sampling parent - NO SAMPLE REMAINED! Re-Start with initial state\n",
      "'a' must be greater than 0 unless no samples are taken\n",
      "'a' must be greater than 0 unless no samples are taken\n",
      "=========================================================================================================\n",
      "=========================================================================================================\n",
      "======================= terminated 9: first answer acquired from other agent ===============================\n",
      "probability saturated\n",
      "======================= terminated 8: first answer acquired from other agent ===============================\n",
      "=========================================================================================================\n",
      "=========================================================================================================\n",
      "ERROR sampling parent - Failed to get new_node or parent_nodes\n",
      "'a' must be greater than 0 unless no samples are taken\n",
      "ERROR sampling parent - NO SAMPLE REMAINED! Re-Start with initial state\n",
      "=========================================================================================================\n",
      "======================= terminated 10: first answer acquired from other agent ===============================\n",
      "probability saturated\n",
      "=========================================================================================================\n",
      "ERROR sampling parent - Failed to get new_node or parent_nodes\n",
      "ERROR sampling parent - NO SAMPLE REMAINED! Re-Start with initial state\n",
      "'a' must be greater than 0 unless no samples are taken\n",
      "probability saturated\n",
      "=========================================================================================================\n",
      "'a' must be greater than 0 unless no samples are taken\n",
      "======================= terminated 11: first answer acquired from other agent ===============================\n",
      "ERROR sampling parent - Failed to get new_node or parent_nodes\n",
      "=========================================================================================================\n",
      "=========================================================================================================\n",
      "constrained motion tried: True\n",
      "ERROR sampling parent - NO SAMPLE REMAINED! Re-Start with initial state\n",
      "======================= terminated 12: first answer acquired from other agent ===============================\n",
      "=========================================================================================================\n",
      "probability saturated\n",
      "result: 1 - (2, 1, 0)->(2, 2, 0) = success\n",
      "branching: 1->2 (0.5/100.0 s, steps/err: 80(217.643022537 ms)/0.00110620788806)\n",
      "ERROR sampling parent - Failed to get new_node or parent_nodes\n",
      "ERROR sampling parent - NO SAMPLE REMAINED! Re-Start with initial state\n",
      "======================================================================================================================================================\n",
      "'a' must be greater than 0 unless no samples are taken\n",
      "++ adding return motion to acquired answer ++\n",
      "=========================================================================================================\n",
      "probability saturated\n",
      "======================= terminated 14: first answer acquired from other agent ===============================\n",
      "'a' must be greater than 0 unless no samples are taken\n",
      "=========================================================================================================\n"
     ]
    },
    {
     "name": "stdout",
     "output_type": "stream",
     "text": [
      "=========================================================================================================\n",
      "ERROR sampling parent - Failed to get new_node or parent_nodes\n",
      "ERROR sampling parent - NO SAMPLE REMAINED! Re-Start with initial state\n",
      "======================= terminated 13: first answer acquired from other agent ===============================\n",
      "=========================================================================================================\n",
      "probability saturated\n",
      "ERROR sampling parent - Failed to get new_node or parent_nodes\n",
      "'a' must be greater than 0 unless no samples are taken\n",
      "ERROR sampling parent - NO SAMPLE REMAINED! Re-Start with initial state\n",
      "=========================================================================================================\n",
      "'a' must be greater than 0 unless no samples are taken\n",
      "probability saturated\n",
      "======================= terminated 15: first answer acquired from other agent ===============================\n",
      "=========================================================================================================\n",
      "=========================================================================================================\n",
      "======================= terminated 16: first answer acquired from other agent ===============================\n",
      "=========================================================================================================\n",
      "ERROR sampling parent - Failed to get new_node or parent_nodes\n",
      "ERROR sampling parent - NO SAMPLE REMAINED! Re-Start with initial state\n",
      "'a' must be greater than 0 unless no samples are taken\n",
      "probability saturated\n",
      "ERROR sampling parent - NO SAMPLE REMAINED! Re-Start with initial state\n",
      "probability saturated\n",
      "ERROR sampling parent - Failed to get new_node or parent_nodes\n",
      "ERROR sampling parent - Failed to get new_node or parent_nodes\n",
      "ERROR sampling parent - NO SAMPLE REMAINED! Re-Start with initial state\n",
      "'a' must be greater than 0 unless no samples are taken\n",
      "ERROR sampling parent - NO SAMPLE REMAINED! Re-Start with initial state\n",
      "probability saturated\n",
      "probability saturated\n",
      "ERROR sampling parent - Failed to get new_node or parent_nodes\n",
      "ERROR sampling parent - NO SAMPLE REMAINED! Re-Start with initial state\n",
      "ERROR sampling parent - Failed to get new_node or parent_nodes\n",
      "'a' must be greater than 0 unless no samples are taken\n",
      "'a' must be greater than 0 unless no samples are taken\n",
      "'a' must be greater than 0 unless no samples are taken\n",
      "'a' must be greater than 0 unless no samples are taken\n",
      "=========================================================================================================\n",
      "probability saturated\n",
      "=========================================================================================================\n",
      "ERROR sampling parent - NO SAMPLE REMAINED! Re-Start with initial state\n",
      "=========================================================================================================\n",
      "======================= terminated 17: first answer acquired from other agent ===============================\n",
      "======================= terminated 18: first answer acquired from other agent ===============================\n",
      "======================= terminated 19: first answer acquired from other agent ===============================\n",
      "probability saturated\n",
      "=========================================================================================================\n",
      "=========================================================================================================\n",
      "=========================================================================================================\n",
      "ERROR sampling parent - Failed to get new_node or parent_nodes\n",
      "ERROR sampling parent - Failed to get new_node or parent_nodes\n",
      "ERROR sampling parent - NO SAMPLE REMAINED! Re-Start with initial state\n",
      "'a' must be greater than 0 unless no samples are taken\n",
      "ERROR sampling parent - NO SAMPLE REMAINED! Re-Start with initial state\n",
      "probability saturated\n",
      "probability saturated\n",
      "ERROR sampling parent - Failed to get new_node or parent_nodes\n",
      "ERROR sampling parent - Failed to get new_node or parent_nodes\n",
      "++ post-optimizing acquired answer ++\n",
      "'a' must be greater than 0 unless no samples are taken\n",
      "ERROR sampling parent - NO SAMPLE REMAINED! Re-Start with initial state\n",
      "'a' must be greater than 0 unless no samples are taken\n",
      "ERROR sampling parent - NO SAMPLE REMAINED! Re-Start with initial state\n",
      "ERROR sampling parent - NO SAMPLE REMAINED! Re-Start with initial state\n",
      "probability saturated\n",
      "probability saturated\n",
      "probability saturated\n",
      "ERROR sampling parent - Failed to get new_node or parent_nodes\n",
      "ERROR sampling parent - Failed to get new_node or parent_nodes\n",
      "ERROR sampling parent - Failed to get new_node or parent_nodes\n",
      "ERROR sampling parent - NO SAMPLE REMAINED! Re-Start with initial state\n",
      "probability saturated\n",
      "ERROR sampling parent - Failed to get new_node or parent_nodes\n",
      "ERROR sampling parent - NO SAMPLE REMAINED! Re-Start with initial state\n",
      "probability saturated\n",
      "ERROR sampling parent - Failed to get new_node or parent_nodes\n",
      "'a' must be greater than 0 unless no samples are taken\n",
      "ERROR sampling parent - NO SAMPLE REMAINED! Re-Start with initial state\n",
      "=========================================================================================================\n",
      "======================= terminated 0: first answer acquired ===============================\n",
      "ERROR sampling parent - NO SAMPLE REMAINED! Re-Start with initial state\n",
      "probability saturated\n",
      "=========================================================================================================\n",
      "probability saturated\n",
      "ERROR sampling parent - Failed to get new_node or parent_nodes\n",
      "ERROR sampling parent - Failed to get new_node or parent_nodes\n",
      "=========================================================================================================\n",
      "'a' must be greater than 0 unless no samples are taken\n",
      "ERROR sampling parent - NO SAMPLE REMAINED! Re-Start with initial state\n",
      "======================= terminated 22: first answer acquired from other agent ===============================\n",
      "probability saturated\n",
      "=========================================================================================================\n",
      "=========================================================================================================\n",
      "ERROR sampling parent - Failed to get new_node or parent_nodes\n",
      "'a' must be greater than 0 unless no samples are taken\n",
      "======================= terminated 23: first answer acquired from other agent ===============================\n",
      "ERROR sampling parent - NO SAMPLE REMAINED! Re-Start with initial state\n",
      "=========================================================================================================\n",
      "probability saturated\n",
      "ERROR sampling parent - Failed to get new_node or parent_nodes\n",
      "=========================================================================================================\n",
      "'a' must be greater than 0 unless no samples are taken\n",
      "======================= terminated 24: first answer acquired from other agent ===============================\n",
      "ERROR sampling parent - NO SAMPLE REMAINED! Re-Start with initial state\n",
      "=========================================================================================================\n",
      "=========================================================================================================\n",
      "'a' must be greater than 0 unless no samples are taken\n",
      "probability saturated\n",
      "ERROR sampling parent - NO SAMPLE REMAINED! Re-Start with initial state\n",
      "======================= terminated 25: first answer acquired from other agent ===============================\n",
      "probability saturated\n",
      "=========================================================================================================\n",
      "ERROR sampling parent - Failed to get new_node or parent_nodes\n",
      "=========================================================================================================\n",
      "======================= terminated 26: first answer acquired from other agent ===============================\n",
      "=========================================================================================================\n",
      "ERROR sampling parent - Failed to get new_node or parent_nodes\n",
      "'a' must be greater than 0 unless no samples are taken\n",
      "=========================================================================================================\n"
     ]
    },
    {
     "name": "stdout",
     "output_type": "stream",
     "text": [
      "ERROR sampling parent - NO SAMPLE REMAINED! Re-Start with initial state\n",
      "======================= terminated 27: first answer acquired from other agent ===============================\n",
      "probability saturated\n",
      "=========================================================================================================\n",
      "ERROR sampling parent - Failed to get new_node or parent_nodes\n",
      "'a' must be greater than 0 unless no samples are taken\n",
      "=========================================================================================================\n",
      "'a' must be greater than 0 unless no samples are taken\n",
      "'a' must be greater than 0 unless no samples are taken\n",
      "ERROR sampling parent - NO SAMPLE REMAINED! Re-Start with initial state\n",
      "ERROR sampling parent - NO SAMPLE REMAINED! Re-Start with initial state\n",
      "ERROR sampling parent - NO SAMPLE REMAINED! Re-Start with initial state\n",
      "probability saturated\n",
      "======================= terminated 28: first answer acquired from other agent ===============================\n",
      "probability saturated\n",
      "probability saturated\n",
      "=========================================================================================================\n",
      "ERROR sampling parent - Failed to get new_node or parent_nodes\n",
      "ERROR sampling parent - Failed to get new_node or parent_nodes\n",
      "=========================================================================================================\n",
      "ERROR sampling parent - Failed to get new_node or parent_nodes\n",
      "======================= terminated 29: first answer acquired from other agent ===============================\n",
      "=========================================================================================================\n",
      "=========================================================================================================\n",
      "'a' must be greater than 0 unless no samples are taken\n",
      "'a' must be greater than 0 unless no samples are taken\n",
      "ERROR sampling parent - NO SAMPLE REMAINED! Re-Start with initial state\n",
      "ERROR sampling parent - NO SAMPLE REMAINED! Re-Start with initial state\n",
      "======================= terminated 30: first answer acquired from other agent ===============================\n",
      "probability saturated\n",
      "probability saturated\n",
      "=========================================================================================================\n",
      "ERROR sampling parent - Failed to get new_node or parent_nodes\n",
      "ERROR sampling parent - Failed to get new_node or parent_nodes\n",
      "'a' must be greater than 0 unless no samples are taken\n",
      "'a' must be greater than 0 unless no samples are taken\n",
      "=========================================================================================================\n",
      "ERROR sampling parent - NO SAMPLE REMAINED! Re-Start with initial state\n",
      "ERROR sampling parent - NO SAMPLE REMAINED! Re-Start with initial state\n",
      "probability saturated\n",
      "probability saturated\n",
      "======================= terminated 31: first answer acquired from other agent ===============================\n",
      "=========================================================================================================\n",
      "=========================================================================================================\n",
      "'a' must be greater than 0 unless no samples are taken\n",
      "'a' must be greater than 0 unless no samples are taken\n",
      "ERROR sampling parent - Failed to get new_node or parent_nodes\n",
      "ERROR sampling parent - NO SAMPLE REMAINED! Re-Start with initial state\n",
      "ERROR sampling parent - NO SAMPLE REMAINED! Re-Start with initial state\n",
      "======================= terminated 32: first answer acquired from other agent ===============================\n",
      "probability saturated\n",
      "probability saturated\n",
      "ERROR sampling parent - Failed to get new_node or parent_nodes\n",
      "=========================================================================================================\n",
      "ERROR sampling parent - Failed to get new_node or parent_nodes\n",
      "ERROR sampling parent - Failed to get new_node or parent_nodes\n",
      "=========================================================================================================\n",
      "'a' must be greater than 0 unless no samples are taken\n",
      "'a' must be greater than 0 unless no samples are taken\n",
      "'a' must be greater than 0 unless no samples are taken\n",
      "ERROR sampling parent - NO SAMPLE REMAINED! Re-Start with initial state\n",
      "ERROR sampling parent - NO SAMPLE REMAINED! Re-Start with initial state\n",
      "ERROR sampling parent - NO SAMPLE REMAINED! Re-Start with initial state\n",
      "probability saturated\n",
      "probability saturated\n",
      "======================= terminated 33: first answer acquired from other agent ===============================\n",
      "=========================================================================================================\n",
      "'a' must be greater than 0 unless no samples are taken\n",
      "'a' must be greater than 0 unless no samples are taken\n",
      "probability saturated\n",
      "ERROR sampling parent - Failed to get new_node or parent_nodes\n",
      "=========================================================================================================\n",
      "ERROR sampling parent - NO SAMPLE REMAINED! Re-Start with initial state\n",
      "ERROR sampling parent - NO SAMPLE REMAINED! Re-Start with initial state\n",
      "probability saturated\n",
      "probability saturated\n",
      "======================= terminated 34: first answer acquired from other agent ===============================\n",
      "ERROR sampling parent - Failed to get new_node or parent_nodes\n",
      "=========================================================================================================\n",
      "ERROR sampling parent - Failed to get new_node or parent_nodes\n",
      "ERROR sampling parent - Failed to get new_node or parent_nodes\n",
      "ERROR sampling parent - Failed to get new_node or parent_nodes\n",
      "=========================================================================================================\n",
      "======================= terminated 35: first answer acquired from other agent ===============================\n",
      "'a' must be greater than 0 unless no samples are taken\n",
      "ERROR sampling parent - NO SAMPLE REMAINED! Re-Start with initial state\n",
      "'a' must be greater than 0 unless no samples are taken\n",
      "=========================================================================================================\n",
      "ERROR sampling parent - NO SAMPLE REMAINED! Re-Start with initial state\n",
      "probability saturated\n",
      "probability saturated\n",
      "ERROR sampling parent - Failed to get new_node or parent_nodes\n",
      "ERROR sampling parent - Failed to get new_node or parent_nodes\n",
      "'a' must be greater than 0 unless no samples are taken\n",
      "ERROR sampling parent - NO SAMPLE REMAINED! Re-Start with initial state\n",
      "probability saturated\n",
      "ERROR sampling parent - Failed to get new_node or parent_nodes\n",
      "'a' must be greater than 0 unless no samples are taken\n",
      "ERROR sampling parent - NO SAMPLE REMAINED! Re-Start with initial state\n",
      "probability saturated\n",
      "ERROR sampling parent - Failed to get new_node or parent_nodes\n",
      "'a' must be greater than 0 unless no samples are taken\n",
      "ERROR sampling parent - NO SAMPLE REMAINED! Re-Start with initial state\n",
      "probability saturated\n",
      "ERROR sampling parent - Failed to get new_node or parent_nodes\n",
      "'a' must be greater than 0 unless no samples are taken\n",
      "ERROR sampling parent - NO SAMPLE REMAINED! Re-Start with initial state\n",
      "probability saturated\n",
      "ERROR sampling parent - Failed to get new_node or parent_nodes\n",
      "'a' must be greater than 0 unless no samples are taken\n",
      "ERROR sampling parent - NO SAMPLE REMAINED! Re-Start with initial state\n",
      "probability saturated\n",
      "ERROR sampling parent - Failed to get new_node or parent_nodes\n",
      "Use 36/36 agents\n",
      "'a' must be greater than 0 unless no samples are taken\n",
      "'a' must be greater than 0 unless no samples are taken\n",
      "'a' must be greater than 0 unless no samples are taken\n",
      "ERROR sampling parent - NO SAMPLE REMAINED! Re-Start with initial state\n",
      "=========================================================================================================\n",
      "ERROR sampling parent - NO SAMPLE REMAINED! Re-Start with initial state\n",
      "======================= terminated 1: first answer acquired from other agent ===============================\n",
      "probability saturated\n",
      "probability saturated\n",
      "=========================================================================================================\n",
      "ERROR sampling parent - Failed to get new_node or parent_nodes\n",
      "ERROR sampling parent - Failed to get new_node or parent_nodes\n"
     ]
    },
    {
     "name": "stdout",
     "output_type": "stream",
     "text": [
      "try: 0 - (2, 2, 0)->(2, 2, 1)\n",
      "'a' must be greater than 0 unless no samples are taken\n",
      "ERROR sampling parent - NO SAMPLE REMAINED! Re-Start with initial state\n",
      "'a' must be greater than 0 unless no samples are taken\n",
      "try transition motion\n",
      "=========================================================================================================\n",
      "ERROR sampling parent - NO SAMPLE REMAINED! Re-Start with initial state\n",
      "probability saturated\n",
      "======================= terminated 2: first answer acquired from other agent ===============================\n",
      "probability saturated\n",
      "=========================================================================================================\n",
      "'a' must be greater than 0 unless no samples are taken\n",
      "ERROR sampling parent - Failed to get new_node or parent_nodes\n",
      "ERROR sampling parent - Failed to get new_node or parent_nodes\n",
      "'a' must be greater than 0 unless no samples are taken\n",
      "ERROR sampling parent - NO SAMPLE REMAINED! Re-Start with initial state\n",
      "=========================================================================================================\n",
      "ERROR sampling parent - NO SAMPLE REMAINED! Re-Start with initial state\n",
      "======================= terminated 3: first answer acquired from other agent ===============================\n",
      "probability saturated\n",
      "=========================================================================================================\n",
      "probability saturated\n",
      "ERROR sampling parent - Failed to get new_node or parent_nodes\n",
      "ERROR sampling parent - Failed to get new_node or parent_nodes\n",
      "ERROR sampling parent - NO SAMPLE REMAINED! Re-Start with initial state\n",
      "'a' must be greater than 0 unless no samples are taken\n",
      "'a' must be greater than 0 unless no samples are taken\n",
      "=========================================================================================================\n",
      "ERROR sampling parent - NO SAMPLE REMAINED! Re-Start with initial state\n",
      "probability saturated\n",
      "probability saturated\n",
      "======================= terminated 4: first answer acquired from other agent ===============================\n",
      "ERROR sampling parent - Failed to get new_node or parent_nodes\n",
      "=========================================================================================================\n",
      "ERROR sampling parent - NO SAMPLE REMAINED! Re-Start with initial state\n",
      "transition motion tried: True\n",
      "'a' must be greater than 0 unless no samples are taken\n",
      "probability saturated\n",
      "=========================================================================================================\n",
      "'a' must be greater than 0 unless no samples are taken\n",
      "ERROR sampling parent - Failed to get new_node or parent_nodes\n",
      "======================= terminated 6: first answer acquired from other agent ===============================\n",
      "=========================================================================================================\n",
      "result: 0 - (2, 2, 0)->(2, 2, 1) = success\n",
      "ERROR sampling parent - Failed to get new_node or parent_nodes\n",
      "'a' must be greater than 0 unless no samples are taken\n",
      "try: 1 - (2, 2, 1)->(2, 2, 2)\n",
      "'a' must be greater than 0 unless no samples are taken\n",
      "=========================================================================================================\n",
      "======================= terminated 5: first answer acquired from other agent ===============================\n",
      "branching: 0->1 (0.28/100.0 s, steps/err: 31(138.88502121 ms)/0.00196475246647)\n",
      "ERROR sampling parent - NO SAMPLE REMAINED! Re-Start with initial state\n",
      "ERROR sampling parent - NO SAMPLE REMAINED! Re-Start with initial state\n",
      "=========================================================================================================\n",
      "======================================================================================================================================================\n",
      "'a' must be greater than 0 unless no samples are taken\n",
      "probability saturated\n",
      "probability saturated\n",
      "ERROR sampling parent - NO SAMPLE REMAINED! Re-Start with initial state\n",
      "ERROR sampling parent - NO SAMPLE REMAINED! Re-Start with initial state\n",
      "probability saturated\n",
      "try constrained motion\n",
      "ERROR sampling parent - Failed to get new_node or parent_nodes\n",
      "ERROR sampling parent - Failed to get new_node or parent_nodes\n",
      "ERROR sampling parent - NO SAMPLE REMAINED! Re-Start with initial state\n",
      "probability saturated\n",
      "ERROR sampling parent - Failed to get new_node or parent_nodes\n",
      "'a' must be greater than 0 unless no samples are taken\n",
      "probability saturated\n",
      "'a' must be greater than 0 unless no samples are taken\n",
      "ERROR sampling parent - Failed to get new_node or parent_nodes\n",
      "ERROR sampling parent - NO SAMPLE REMAINED! Re-Start with initial state\n",
      "=========================================================================================================\n",
      "ERROR sampling parent - NO SAMPLE REMAINED! Re-Start with initial state\n",
      "constrained motion tried: True\n",
      "ERROR sampling parent - Failed to get new_node or parent_nodes\n",
      "probability saturated\n",
      "======================= terminated 7: first answer acquired from other agent ===============================\n",
      "probability saturated\n",
      "=========================================================================================================\n",
      "'a' must be greater than 0 unless no samples are taken\n",
      "result: 1 - (2, 2, 1)->(2, 2, 2) = success\n",
      "=========================================================================================================\n",
      "branching: 1->2 (0.36/100.0 s, steps/err: 74(80.2409648895 ms)/0.00173723322762)\n",
      "======================= terminated 8: first answer acquired from other agent ===============================\n",
      "=========================================================================================================\n",
      "======================================================================================================================================================\n",
      "++ adding return motion to acquired answer ++\n",
      "ERROR sampling parent - Failed to get new_node or parent_nodes\n",
      "ERROR sampling parent - Failed to get new_node or parent_nodes\n",
      "'a' must be greater than 0 unless no samples are taken\n",
      "ERROR sampling parent - NO SAMPLE REMAINED! Re-Start with initial state\n",
      "=========================================================================================================\n",
      "======================= terminated 9: first answer acquired from other agent ===============================\n",
      "probability saturated\n",
      "=========================================================================================================\n",
      "ERROR sampling parent - Failed to get new_node or parent_nodes\n",
      "ERROR sampling parent - NO SAMPLE REMAINED! Re-Start with initial state\n",
      "probability saturated\n",
      "'a' must be greater than 0 unless no samples are taken\n",
      "ERROR sampling parent - Failed to get new_node or parent_nodes\n",
      "=========================================================================================================\n",
      "======================= terminated 10: first answer acquired from other agent ===============================\n",
      "ERROR sampling parent - NO SAMPLE REMAINED! Re-Start with initial state\n",
      "=========================================================================================================\n",
      "'a' must be greater than 0 unless no samples are taken\n",
      "probability saturated\n",
      "=========================================================================================================\n",
      "======================= terminated 11: first answer acquired from other agent ===============================\n",
      "=========================================================================================================\n",
      "ERROR sampling parent - Failed to get new_node or parent_nodes\n",
      "ERROR sampling parent - NO SAMPLE REMAINED! Re-Start with initial state\n",
      "probability saturated\n",
      "'a' must be greater than 0 unless no samples are taken\n",
      "ERROR sampling parent - Failed to get new_node or parent_nodes\n",
      "=========================================================================================================\n",
      "======================= terminated 12: first answer acquired from other agent ===============================\n",
      "=========================================================================================================\n",
      "ERROR sampling parent - NO SAMPLE REMAINED! Re-Start with initial state\n",
      "probability saturated\n"
     ]
    },
    {
     "name": "stdout",
     "output_type": "stream",
     "text": [
      "ERROR sampling parent - Failed to get new_node or parent_nodes\n",
      "ERROR sampling parent - NO SAMPLE REMAINED! Re-Start with initial state\n",
      "probability saturated\n",
      "'a' must be greater than 0 unless no samples are taken\n",
      "'a' must be greater than 0 unless no samples are taken\n",
      "ERROR sampling parent - Failed to get new_node or parent_nodes\n",
      "ERROR sampling parent - NO SAMPLE REMAINED! Re-Start with initial state\n",
      "=========================================================================================================\n",
      "=========================================================================================================\n",
      "probability saturated\n",
      "======================= terminated 14: first answer acquired from other agent ===============================\n",
      "======================= terminated 13: first answer acquired from other agent ===============================\n",
      "=========================================================================================================\n",
      "=========================================================================================================\n",
      "ERROR sampling parent - Failed to get new_node or parent_nodes\n",
      "++ post-optimizing acquired answer ++\n",
      "ERROR sampling parent - NO SAMPLE REMAINED! Re-Start with initial state\n",
      "'a' must be greater than 0 unless no samples are taken\n",
      "'a' must be greater than 0 unless no samples are taken\n",
      "=========================================================================================================\n",
      "ERROR sampling parent - NO SAMPLE REMAINED! Re-Start with initial state\n",
      "probability saturated\n",
      "======================= terminated 15: first answer acquired from other agent ===============================\n",
      "probability saturated\n",
      "=========================================================================================================\n",
      "ERROR sampling parent - Failed to get new_node or parent_nodes\n",
      "ERROR sampling parent - Failed to get new_node or parent_nodes\n",
      "ERROR sampling parent - NO SAMPLE REMAINED! Re-Start with initial state\n",
      "'a' must be greater than 0 unless no samples are taken\n",
      "'a' must be greater than 0 unless no samples are taken\n",
      "probability saturated\n",
      "ERROR sampling parent - NO SAMPLE REMAINED! Re-Start with initial state\n",
      "=========================================================================================================\n",
      "probability saturated\n",
      "======================= terminated 16: first answer acquired from other agent ===============================\n",
      "=========================================================================================================\n",
      "ERROR sampling parent - Failed to get new_node or parent_nodes\n",
      "ERROR sampling parent - Failed to get new_node or parent_nodes\n",
      "ERROR sampling parent - NO SAMPLE REMAINED! Re-Start with initial state\n",
      "=========================================================================================================\n",
      "'a' must be greater than 0 unless no samples are taken\n",
      "======================= terminated 5: first answer acquired ===============================\n",
      "ERROR sampling parent - NO SAMPLE REMAINED! Re-Start with initial state\n",
      "=========================================================================================================\n",
      "probability saturated\n",
      "probability saturated\n",
      "ERROR sampling parent - Failed to get new_node or parent_nodes\n",
      "'a' must be greater than 0 unless no samples are taken\n",
      "ERROR sampling parent - Failed to get new_node or parent_nodes\n",
      "'a' must be greater than 0 unless no samples are taken\n",
      "=========================================================================================================\n",
      "=========================================================================================================\n",
      "ERROR sampling parent - NO SAMPLE REMAINED! Re-Start with initial state\n",
      "======================= terminated 17: first answer acquired from other agent ===============================\n",
      "======================= terminated 18: first answer acquired from other agent ===============================\n",
      "probability saturated\n",
      "=========================================================================================================\n",
      "'a' must be greater than 0 unless no samples are taken\n",
      "'a' must be greater than 0 unless no samples are taken\n",
      "=========================================================================================================\n",
      "=========================================================================================================\n",
      "=========================================================================================================\n",
      "======================= terminated 18: first answer acquired from other agent ===============================\n",
      "'a' must be greater than 0 unless no samples are taken\n",
      "ERROR sampling parent - Failed to get new_node or parent_nodes\n",
      "=========================================================================================================\n",
      "======================= terminated 20: first answer acquired from other agent ===============================\n",
      "=========================================================================================================\n",
      "ERROR sampling parent - NO SAMPLE REMAINED! Re-Start with initial state\n",
      "=========================================================================================================\n",
      "======================= terminated 19: first answer acquired from other agent ===============================\n",
      "probability saturated\n",
      "=========================================================================================================\n",
      "'a' must be greater than 0 unless no samples are taken\n",
      "=========================================================================================================\n",
      "'a' must be greater than 0 unless no samples are taken\n",
      "ERROR sampling parent - Failed to get new_node or parent_nodes\n",
      "=========================================================================================================\n",
      "======================= terminated 19: first answer acquired from other agent ===============================\n",
      "ERROR sampling parent - NO SAMPLE REMAINED! Re-Start with initial state\n",
      "=========================================================================================================\n",
      "======================= terminated 20: first answer acquired from other agent ===============================\n",
      "probability saturated\n",
      "=========================================================================================================\n",
      "ERROR sampling parent - Failed to get new_node or parent_nodes\n",
      "'a' must be greater than 0 unless no samples are taken\n",
      "'a' must be greater than 0 unless no samples are taken\n",
      "'a' must be greater than 0 unless no samples are taken\n",
      "=========================================================================================================\n",
      "ERROR sampling parent - NO SAMPLE REMAINED! Re-Start with initial state\n",
      "ERROR sampling parent - NO SAMPLE REMAINED! Re-Start with initial state\n",
      "=========================================================================================================\n",
      "======================= terminated 21: first answer acquired from other agent ===============================\n",
      "probability saturated\n",
      "probability saturated\n",
      "======================= terminated 21: first answer acquired from other agent ===============================\n",
      "=========================================================================================================\n",
      "=========================================================================================================\n",
      "ERROR sampling parent - Failed to get new_node or parent_nodes\n",
      "'a' must be greater than 0 unless no samples are taken\n",
      "ERROR sampling parent - Failed to get new_node or parent_nodes\n",
      "=========================================================================================================\n",
      "ERROR sampling parent - NO SAMPLE REMAINED! Re-Start with initial state\n",
      "======================= terminated 22: first answer acquired from other agent ===============================\n",
      "probability saturated\n",
      "=========================================================================================================\n",
      "ERROR sampling parent - Failed to get new_node or parent_nodes\n",
      "=========================================================================================================\n"
     ]
    },
    {
     "name": "stdout",
     "output_type": "stream",
     "text": [
      "======================= terminated 23: first answer acquired from other agent ===============================\n",
      "'a' must be greater than 0 unless no samples are taken\n",
      "=========================================================================================================\n",
      "ERROR sampling parent - NO SAMPLE REMAINED! Re-Start with initial state\n",
      "'a' must be greater than 0 unless no samples are taken\n",
      "probability saturated\n",
      "=========================================================================================================\n",
      "ERROR sampling parent - NO SAMPLE REMAINED! Re-Start with initial state\n",
      "======================= terminated 24: first answer acquired from other agent ===============================\n",
      "probability saturated\n",
      "ERROR sampling parent - Failed to get new_node or parent_nodes\n",
      "=========================================================================================================\n",
      "ERROR sampling parent - Failed to get new_node or parent_nodes\n",
      "'a' must be greater than 0 unless no samples are taken\n",
      "=========================================================================================================\n",
      "ERROR sampling parent - NO SAMPLE REMAINED! Re-Start with initial state\n",
      "======================= terminated 25: first answer acquired from other agent ===============================\n",
      "probability saturated\n",
      "=========================================================================================================\n",
      "ERROR sampling parent - Failed to get new_node or parent_nodes\n",
      "=========================================================================================================\n",
      "======================= terminated 26: first answer acquired from other agent ===============================\n",
      "=========================================================================================================\n",
      "=========================================================================================================\n",
      "'a' must be greater than 0 unless no samples are taken\n",
      "ERROR sampling parent - NO SAMPLE REMAINED! Re-Start with initial state\n",
      "======================= terminated 27: first answer acquired from other agent ===============================\n",
      "probability saturated\n",
      "=========================================================================================================\n",
      "ERROR sampling parent - Failed to get new_node or parent_nodes\n",
      "=========================================================================================================\n",
      "'a' must be greater than 0 unless no samples are taken\n",
      "======================= terminated 28: first answer acquired from other agent ===============================\n",
      "ERROR sampling parent - NO SAMPLE REMAINED! Re-Start with initial state\n",
      "=========================================================================================================\n",
      "probability saturated\n",
      "ERROR sampling parent - Failed to get new_node or parent_nodes\n",
      "=========================================================================================================\n",
      "'a' must be greater than 0 unless no samples are taken\n",
      "'a' must be greater than 0 unless no samples are taken\n",
      "ERROR sampling parent - NO SAMPLE REMAINED! Re-Start with initial state\n",
      "ERROR sampling parent - NO SAMPLE REMAINED! Re-Start with initial state\n",
      "======================= terminated 29: first answer acquired from other agent ===============================\n",
      "probability saturated\n",
      "probability saturated\n",
      "=========================================================================================================\n",
      "ERROR sampling parent - Failed to get new_node or parent_nodes\n",
      "ERROR sampling parent - Failed to get new_node or parent_nodes\n",
      "=========================================================================================================\n",
      "'a' must be greater than 0 unless no samples are taken\n",
      "======================= terminated 30: first answer acquired from other agent ===============================\n",
      "=========================================================================================================\n",
      "'a' must be greater than 0 unless no samples are taken\n",
      "ERROR sampling parent - NO SAMPLE REMAINED! Re-Start with initial state\n",
      "probability saturated\n",
      "ERROR sampling parent - NO SAMPLE REMAINED! Re-Start with initial state\n",
      "ERROR sampling parent - Failed to get new_node or parent_nodes\n",
      "=========================================================================================================\n",
      "probability saturated\n",
      "======================= terminated 31: first answer acquired from other agent ===============================\n",
      "=========================================================================================================\n",
      "ERROR sampling parent - Failed to get new_node or parent_nodes\n",
      "'a' must be greater than 0 unless no samples are taken\n",
      "'a' must be greater than 0 unless no samples are taken\n",
      "=========================================================================================================\n",
      "ERROR sampling parent - NO SAMPLE REMAINED! Re-Start with initial state\n",
      "ERROR sampling parent - NO SAMPLE REMAINED! Re-Start with initial state\n",
      "======================= terminated 32: first answer acquired from other agent ===============================\n",
      "probability saturated\n",
      "probability saturated\n",
      "=========================================================================================================\n",
      "ERROR sampling parent - Failed to get new_node or parent_nodes\n",
      "ERROR sampling parent - Failed to get new_node or parent_nodes\n",
      "'a' must be greater than 0 unless no samples are taken\n",
      "=========================================================================================================\n",
      "ERROR sampling parent - NO SAMPLE REMAINED! Re-Start with initial state\n",
      "probability saturated\n",
      "======================= terminated 33: first answer acquired from other agent ===============================\n",
      "=========================================================================================================\n",
      "ERROR sampling parent - Failed to get new_node or parent_nodes\n",
      "'a' must be greater than 0 unless no samples are taken\n",
      "=========================================================================================================\n",
      "ERROR sampling parent - NO SAMPLE REMAINED! Re-Start with initial state\n",
      "======================= terminated 34: first answer acquired from other agent ===============================\n",
      "probability saturated\n",
      "=========================================================================================================\n",
      "ERROR sampling parent - Failed to get new_node or parent_nodes\n",
      "=========================================================================================================\n",
      "'a' must be greater than 0 unless no samples are taken\n",
      "======================= terminated 35: first answer acquired from other agent ===============================\n",
      "=========================================================================================================\n",
      "ERROR sampling parent - NO SAMPLE REMAINED! Re-Start with initial state\n",
      "probability saturated\n",
      "ERROR sampling parent - Failed to get new_node or parent_nodes\n",
      "'a' must be greater than 0 unless no samples are taken\n",
      "'a' must be greater than 0 unless no samples are taken\n",
      "ERROR sampling parent - NO SAMPLE REMAINED! Re-Start with initial state\n",
      "probability saturated\n",
      "'a' must be greater than 0 unless no samples are taken\n",
      "ERROR sampling parent - NO SAMPLE REMAINED! Re-Start with initial state\n",
      "ERROR sampling parent - Failed to get new_node or parent_nodes\n",
      "ERROR sampling parent - NO SAMPLE REMAINED! Re-Start with initial state\n",
      "probability saturated\n",
      "probability saturated\n",
      "ERROR sampling parent - Failed to get new_node or parent_nodes\n",
      "ERROR sampling parent - Failed to get new_node or parent_nodes\n",
      "'a' must be greater than 0 unless no samples are taken\n",
      "ERROR sampling parent - NO SAMPLE REMAINED! Re-Start with initial state\n",
      "probability saturated\n",
      "ERROR sampling parent - Failed to get new_node or parent_nodes\n",
      "'a' must be greater than 0 unless no samples are taken\n",
      "ERROR sampling parent - NO SAMPLE REMAINED! Re-Start with initial state\n",
      "probability saturated\n",
      "ERROR sampling parent - Failed to get new_node or parent_nodes\n",
      "'a' must be greater than 0 unless no samples are taken\n",
      "ERROR sampling parent - NO SAMPLE REMAINED! Re-Start with initial state\n"
     ]
    },
    {
     "name": "stdout",
     "output_type": "stream",
     "text": [
      "probability saturated\n",
      "ERROR sampling parent - Failed to get new_node or parent_nodes\n",
      "'a' must be greater than 0 unless no samples are taken\n",
      "ERROR sampling parent - NO SAMPLE REMAINED! Re-Start with initial state\n",
      "probability saturated\n",
      "ERROR sampling parent - Failed to get new_node or parent_nodes\n",
      "'a' must be greater than 0 unless no samples are taken\n",
      "ERROR sampling parent - NO SAMPLE REMAINED! Re-Start with initial state\n",
      "probability saturated\n",
      "ERROR sampling parent - Failed to get new_node or parent_nodes\n",
      "'a' must be greater than 0 unless no samples are taken\n",
      "'a' must be greater than 0 unless no samples are taken\n",
      "ERROR sampling parent - NO SAMPLE REMAINED! Re-Start with initial state\n",
      "=========================================================================================================\n",
      "probability saturated\n",
      "======================= terminated 1: first answer acquired from other agent ===============================\n",
      "=========================================================================================================\n",
      "ERROR sampling parent - Failed to get new_node or parent_nodes\n",
      "'a' must be greater than 0 unless no samples are taken\n",
      "ERROR sampling parent - NO SAMPLE REMAINED! Re-Start with initial state\n",
      "probability saturated\n",
      "'a' must be greater than 0 unless no samples are taken\n",
      "ERROR sampling parent - Failed to get new_node or parent_nodes\n",
      "=========================================================================================================\n",
      "======================= terminated 2: first answer acquired from other agent ===============================\n",
      "=========================================================================================================\n",
      "'a' must be greater than 0 unless no samples are taken\n",
      "ERROR sampling parent - NO SAMPLE REMAINED! Re-Start with initial state\n",
      "probability saturated\n",
      "ERROR sampling parent - Failed to get new_node or parent_nodes\n",
      "'a' must be greater than 0 unless no samples are taken\n",
      "=========================================================================================================\n",
      "======================= terminated 3: first answer acquired from other agent ===============================\n",
      "=========================================================================================================\n",
      "'a' must be greater than 0 unless no samples are taken\n",
      "=========================================================================================================\n",
      "======================= terminated 4: first answer acquired from other agent ===============================\n",
      "=========================================================================================================\n",
      "'a' must be greater than 0 unless no samples are taken\n",
      "=========================================================================================================\n",
      "======================= terminated 0: first answer acquired from other agent ===============================\n",
      "=========================================================================================================\n",
      "'a' must be greater than 0 unless no samples are taken\n",
      "=========================================================================================================\n",
      "======================= terminated 6: first answer acquired from other agent ===============================\n",
      "=========================================================================================================\n",
      "'a' must be greater than 0 unless no samples are taken\n",
      "=========================================================================================================\n",
      "======================= terminated 8: first answer acquired from other agent ===============================\n",
      "=========================================================================================================\n",
      "'a' must be greater than 0 unless no samples are taken\n",
      "=========================================================================================================\n",
      "======================= terminated 7: first answer acquired from other agent ===============================\n",
      "=========================================================================================================\n",
      "'a' must be greater than 0 unless no samples are taken\n",
      "=========================================================================================================\n",
      "======================= terminated 9: first answer acquired from other agent ===============================\n",
      "=========================================================================================================\n",
      "'a' must be greater than 0 unless no samples are taken\n",
      "=========================================================================================================\n",
      "======================= terminated 10: first answer acquired from other agent ===============================\n",
      "=========================================================================================================\n",
      "'a' must be greater than 0 unless no samples are taken\n",
      "=========================================================================================================\n",
      "======================= terminated 11: first answer acquired from other agent ===============================\n",
      "=========================================================================================================\n",
      "'a' must be greater than 0 unless no samples are taken\n",
      "=========================================================================================================\n",
      "======================= terminated 12: first answer acquired from other agent ===============================\n",
      "=========================================================================================================\n",
      "'a' must be greater than 0 unless no samples are taken\n",
      "=========================================================================================================\n",
      "======================= terminated 13: first answer acquired from other agent ===============================\n",
      "=========================================================================================================\n",
      "'a' must be greater than 0 unless no samples are taken\n",
      "=========================================================================================================\n",
      "======================= terminated 14: first answer acquired from other agent ===============================\n",
      "=========================================================================================================\n",
      "'a' must be greater than 0 unless no samples are taken\n",
      "=========================================================================================================\n",
      "======================= terminated 15: first answer acquired from other agent ===============================\n",
      "=========================================================================================================\n",
      "'a' must be greater than 0 unless no samples are taken\n",
      "=========================================================================================================\n",
      "======================= terminated 16: first answer acquired from other agent ===============================\n",
      "=========================================================================================================\n",
      "'a' must be greater than 0 unless no samples are taken\n",
      "=========================================================================================================\n",
      "======================= terminated 17: first answer acquired from other agent ===============================\n",
      "=========================================================================================================\n"
     ]
    }
   ],
   "source": [
    "from pkg.utils.traj_utils import simplify_schedule, mix_schedule\n",
    "mplan.reset_log(False)\n",
    "gtimer.reset()\n",
    "\n",
    "with gtimer.block(\"detect\"):\n",
    "    for sname in pscene.subject_name_list:\n",
    "        if isinstance(pscene.subject_dict[sname], AbstractObject):\n",
    "            pscene.remove_subject(sname)\n",
    "            \n",
    "    gscene.clear_non_fixed()\n",
    "    \n",
    "    ## detect again\n",
    "    gtem_dict = s_builder.detect_and_register(level_mask=[DetectionLevel.MOVABLE])\n",
    "\n",
    "    ## create boxes\n",
    "    box_list =  [] \n",
    "    for gname in sorted(gtem_dict.keys()):\n",
    "        box_new = pscene.create_subject(oname=gname, gname=gname, _type=BoxObject, hexahedral=True)\n",
    "        box_new.register_binders(pscene, PlacePlane)\n",
    "        box_list.append(box_new)\n",
    "    \n",
    "    initial_state = pscene.initialize_state(crob.home_pose, force_fit_binding=True)\n",
    "    gscene.update_markers_all()\n",
    "\n",
    "    # remove place points and sub-binders except for the current ones\n",
    "    use_current_place_point_only(pscene, initial_state)\n",
    "    use_current_sub_binders_only(pscene, initial_state)\n",
    "    tplan.prepare()\n",
    "    mplan.update_gscene()\n",
    "    \n",
    "print(initial_state.node)\n",
    "\n",
    "gtimer.tic(\"firstmove\")\n",
    "obj_num = len(gtem_dict)\n",
    "sweep_num = len(sweep_list)\n",
    "from_state = initial_state\n",
    "t_exe = None\n",
    "snode_schedule_all = []\n",
    "for sweep_idx in range(sweep_num):\n",
    "    gcheck.put_banned = [track_list[sweep_idx][2]]\n",
    "    sweep_goal = tuple([int(i_s<=sweep_idx)*2 for i_s in range(sweep_num)])\n",
    "#     sweep_goal = tuple([int(i_s<=sweep_idx)*2 for i_s in range(2)])+(0,)\n",
    "    goal_nodes = [(\"track_face\",)*obj_num+sweep_goal]\n",
    "    if sweep_idx < sweep_num-1:\n",
    "        for i_s in range(obj_num):\n",
    "            obj_goal = [\"track_face\"]*obj_num\n",
    "            obj_goal[i_s] = \"grip1\"\n",
    "            goal_nodes += [tuple(obj_goal)+sweep_goal]\n",
    "    gtimer.tic(\"plan{}\".format(sweep_idx))\n",
    "    ppline.search(from_state, goal_nodes, verbose=True, display=False, dt_vis=0.01, \n",
    "                  timeout_loop=100, multiprocess=True, timeout=5, timeout_constrained=10, add_homing=True, post_optimize=True)\n",
    "    gtimer.toc(\"plan{}\".format(sweep_idx))\n",
    "    schedules = ppline.tplan.find_schedules(False)\n",
    "    schedules_sorted = ppline.tplan.sort_schedule(schedules)\n",
    "    snode_schedule = ppline.tplan.idxSchedule2SnodeScedule(schedules_sorted[0])\n",
    "    snode_schedule_ori = snode_schedule\n",
    "    snode_schedule_simple = simplify_schedule(pscene, snode_schedule)\n",
    "    snode_schedule_safe = calculate_safe_schedule(pscene, snode_schedule_simple, 0.5, 1)\n",
    "#     double_sweep_motions(snode_schedule_safe)\n",
    "#     snode_schedule = snode_schedule_safe\n",
    "    snode_schedule = mix_schedule(mplan, snode_schedule_safe)\n",
    "    from_state = snode_schedule[-1].state\n",
    "    if t_exe:\n",
    "        t_exe.join()\n",
    "    else:\n",
    "        if len(snode_schedule_all)==0:\n",
    "            gtimer.toc(\"firstmove\")\n",
    "    snode_schedule_all.append(snode_schedule)\n",
    "#     t_exe = Thread(target=ppline.play_schedule, args = (snode_schedule,), kwargs=dict( period=0.01))\n",
    "#     t_exe.start()\n",
    "# t_exe.join()"
   ]
  },
  {
   "cell_type": "code",
   "execution_count": 35,
   "metadata": {
    "scrolled": false
   },
   "outputs": [
    {
     "name": "stdout",
     "output_type": "stream",
     "text": [
      "detect: \t182.4 ms/1 = 182.4 ms (182.411/182.411)\n",
      "firstmove: \t1646.3 ms/1 = 1646.3 ms (1646.257/1646.257)\n",
      "plan0: \t1359.5 ms/1 = 1359.5 ms (1359.482/1359.482)\n",
      "initialize_memory: \t52.6 ms/3 = 17.5 ms (13.8/19.763)\n",
      "init_search: \t44.6 ms/3 = 14.9 ms (9.0/21.171)\n",
      "start_process: \t4053.9 ms/3 = 1351.3 ms (1321.202/1366.611)\n",
      "plan1: \t1420.5 ms/1 = 1420.5 ms (1420.538/1420.538)\n",
      "plan2: \t1414.5 ms/1 = 1414.5 ms (1414.479/1414.479)\n",
      "\n"
     ]
    }
   ],
   "source": [
    "print(gtimer)"
   ]
  },
  {
   "cell_type": "code",
   "execution_count": 36,
   "metadata": {},
   "outputs": [],
   "source": [
    "# for i_ss, snode_schedule in enumerate(snode_schedule_all):\n",
    "#     for i_s, snode in enumerate(snode_schedule):\n",
    "#         if snode.traj is not None:\n",
    "#             save_json(\"data/traj_{}_{}.json\".format(i_ss, i_s), snode.traj[:,:6])"
   ]
  },
  {
   "cell_type": "code",
   "execution_count": null,
   "metadata": {},
   "outputs": [],
   "source": []
  },
  {
   "cell_type": "markdown",
   "metadata": {},
   "source": [
    "## mix full schedule"
   ]
  },
  {
   "cell_type": "code",
   "execution_count": 37,
   "metadata": {},
   "outputs": [
    {
     "name": "stdout",
     "output_type": "stream",
     "text": [
      "mix_schedule_safe: \t3.5 ms/1 = 3.5 ms (3.455/3.455)\n",
      "\n"
     ]
    }
   ],
   "source": [
    "gtimer.reset()\n",
    "snode_schedule_cat = [snode_schedule_all[0][0]]\n",
    "for snode_schedule in snode_schedule_all:\n",
    "    snode_schedule_cat += snode_schedule[1:]\n",
    "\n",
    "with gtimer.block(\"mix_schedule_safe\"):\n",
    "    safe_mixed = mix_schedule(mplan, snode_schedule_cat)\n",
    "\n",
    "print(gtimer)"
   ]
  },
  {
   "cell_type": "markdown",
   "metadata": {},
   "source": [
    "### play schedule"
   ]
  },
  {
   "cell_type": "code",
   "execution_count": 38,
   "metadata": {},
   "outputs": [
    {
     "name": "stdout",
     "output_type": "stream",
     "text": [
      "(0, 0, 0)->(0, 0, 0)\n",
      "(0, 0, 0)->(1, 0, 0)\n",
      "(1, 0, 0)->(2, 0, 0)\n",
      "(2, 0, 0)->(2, 0, 0)\n",
      "(2, 0, 0)->(2, 1, 0)\n",
      "(2, 1, 0)->(2, 2, 0)\n",
      "(2, 2, 0)->(2, 2, 0)\n",
      "(2, 2, 0)->(2, 2, 1)\n",
      "(2, 2, 1)->(2, 2, 2)\n",
      "(2, 2, 2)->(2, 2, 2)\n"
     ]
    }
   ],
   "source": [
    "ppline.play_schedule(safe_mixed, period=0.001)"
   ]
  },
  {
   "cell_type": "code",
   "execution_count": null,
   "metadata": {},
   "outputs": [],
   "source": []
  },
  {
   "cell_type": "markdown",
   "metadata": {},
   "source": [
    "## Save test trajectory"
   ]
  },
  {
   "cell_type": "code",
   "execution_count": 52,
   "metadata": {},
   "outputs": [],
   "source": [
    "FILE_PREFIX = \"data/traj\"\n",
    "IDX_INDY = crob.idx_dict[\"indy0\"]\n",
    "for i_ss, snode_schedule in enumerate(snode_schedule_all):\n",
    "    for i_s, snode in enumerate(snode_schedule): \n",
    "        if snode is not None and snode.traj is not None:\n",
    "            traj_indy = snode.traj[:, IDX_INDY]\n",
    "            save_json(FILE_PREFIX+\"_{}_{}.json\".format(i_ss, i_s), traj_indy)"
   ]
  },
  {
   "cell_type": "code",
   "execution_count": null,
   "metadata": {},
   "outputs": [],
   "source": []
  },
  {
   "cell_type": "markdown",
   "metadata": {},
   "source": [
    "### Run fully mixed schedule"
   ]
  },
  {
   "cell_type": "code",
   "execution_count": null,
   "metadata": {},
   "outputs": [],
   "source": [
    "from pkg.planning.constraint.constraint_common import get_binding_margins, fit_binding\n",
    "crob.reset_connection(True,True)"
   ]
  },
  {
   "cell_type": "code",
   "execution_count": null,
   "metadata": {},
   "outputs": [],
   "source": [
    "crob.grasp(True, True)\n",
    "time.sleep(2)\n",
    "crob.grasp(False, False)"
   ]
  },
  {
   "cell_type": "code",
   "execution_count": null,
   "metadata": {},
   "outputs": [],
   "source": [
    "crob.joint_move_make_sure(crob.home_pose+0.05)"
   ]
  },
  {
   "cell_type": "code",
   "execution_count": null,
   "metadata": {},
   "outputs": [],
   "source": [
    "crob.joint_move_make_sure(crob.home_pose)"
   ]
  },
  {
   "cell_type": "code",
   "execution_count": null,
   "metadata": {},
   "outputs": [],
   "source": [
    "ppline.execute_schedule(safe_mixed, mode_switcher=ModeSwitcher(pscene))"
   ]
  },
  {
   "cell_type": "code",
   "execution_count": null,
   "metadata": {},
   "outputs": [],
   "source": []
  },
  {
   "cell_type": "markdown",
   "metadata": {},
   "source": [
    "## Plan & execute"
   ]
  },
  {
   "cell_type": "code",
   "execution_count": null,
   "metadata": {},
   "outputs": [],
   "source": [
    "from pkg.planning.constraint.constraint_common import get_binding_margins, fit_binding\n",
    "crob.reset_connection(True,True)"
   ]
  },
  {
   "cell_type": "code",
   "execution_count": null,
   "metadata": {},
   "outputs": [],
   "source": [
    "crob.grasp(True, True)\n",
    "time.sleep(2)\n",
    "crob.grasp(False, False)"
   ]
  },
  {
   "cell_type": "code",
   "execution_count": null,
   "metadata": {},
   "outputs": [],
   "source": [
    "crob.grasp(False, False)"
   ]
  },
  {
   "cell_type": "code",
   "execution_count": null,
   "metadata": {},
   "outputs": [],
   "source": [
    "crob.joint_move_make_sure(crob.home_pose+0.05)"
   ]
  },
  {
   "cell_type": "code",
   "execution_count": null,
   "metadata": {},
   "outputs": [],
   "source": [
    "crob.joint_move_make_sure(crob.home_pose)"
   ]
  },
  {
   "cell_type": "code",
   "execution_count": null,
   "metadata": {},
   "outputs": [],
   "source": [
    "mplan.reset_log(False)\n",
    "gtimer.reset()\n",
    "\n",
    "with gtimer.block(\"detect\"):\n",
    "    for sname in pscene.subject_name_list:\n",
    "        if isinstance(pscene.subject_dict[sname], AbstractObject):\n",
    "            pscene.remove_subject(sname)\n",
    "            \n",
    "    gscene.clear_non_fixed()\n",
    "    \n",
    "    ## detect again\n",
    "    gtem_dict = s_builder.detect_and_register(level_mask=[DetectionLevel.MOVABLE])\n",
    "\n",
    "    ## create boxes\n",
    "    box_list =  [] \n",
    "    for gname in sorted(gtem_dict.keys()):\n",
    "        box_new = pscene.create_subject(oname=gname, gname=gname, _type=BoxObject, hexahedral=True)\n",
    "        box_new.register_binders(pscene, PlacePlane)\n",
    "        box_list.append(box_new)\n",
    "    \n",
    "    initial_state = pscene.initialize_state(crob.home_pose, force_fit_binding=True)\n",
    "    gscene.update_markers_all()\n",
    "\n",
    "    # remove place points and sub-binders except for the current ones\n",
    "    use_current_place_point_only(pscene, initial_state)\n",
    "    use_current_sub_binders_only(pscene, initial_state)\n",
    "    tplan.prepare()\n",
    "    mplan.update_gscene()\n",
    "    \n",
    "print(initial_state.node)\n",
    "\n",
    "gtimer.tic(\"firstmove\")\n",
    "obj_num = len(gtem_dict)\n",
    "sweep_num = len(sweep_list)\n",
    "from_state = initial_state\n",
    "t_exe = None\n",
    "snode_schedule_all = []\n",
    "for sweep_idx in range(sweep_num):\n",
    "    gcheck.put_banned = [track_list[sweep_idx][2]]\n",
    "    sweep_goal = tuple([int(i_s<=sweep_idx)*2 for i_s in range(sweep_num)])\n",
    "#     sweep_goal = tuple([int(i_s<=sweep_idx)*2 for i_s in range(2)])+(0,)\n",
    "    goal_nodes = [(\"track_face\",)*obj_num+sweep_goal]\n",
    "    if sweep_idx < sweep_num-1:\n",
    "        for i_s in range(obj_num):\n",
    "            obj_goal = [\"track_face\"]*obj_num\n",
    "            obj_goal[i_s] = \"grip1\"\n",
    "            goal_nodes += [tuple(obj_goal)+sweep_goal]\n",
    "    gtimer.tic(\"plan{}\".format(sweep_idx))\n",
    "    ppline.search(from_state, goal_nodes, verbose=True, display=False, dt_vis=0.01, \n",
    "                  timeout_loop=100, multiprocess=True, timeout=5, timeout_constrained=10, add_homing=True, post_optimize=False)\n",
    "    gtimer.toc(\"plan{}\".format(sweep_idx))\n",
    "    schedules = ppline.tplan.find_schedules(False)\n",
    "    schedules_sorted = ppline.tplan.sort_schedule(schedules)\n",
    "    snode_schedule = ppline.tplan.idxSchedule2SnodeScedule(schedules_sorted[0])\n",
    "    \n",
    "    snode_schedule_ori = snode_schedule\n",
    "    snode_schedule_simple = simplify_schedule(pscene, snode_schedule)\n",
    "    snode_schedule_safe = calculate_safe_schedule(pscene, snode_schedule_simple, 0.5, 1)\n",
    "#     double_sweep_motions(snode_schedule_safe)\n",
    "#     snode_schedule = snode_schedule_safe\n",
    "    snode_schedule = mix_schedule(mplan, snode_schedule_safe)\n",
    "    from_state = snode_schedule[-1].state\n",
    "    if t_exe:\n",
    "        t_exe.join()\n",
    "    else:\n",
    "        gtimer.toc(\"firstmove\")\n",
    "    t_exe = Thread(target=ppline.execute_schedule, args = (snode_schedule,), kwargs=dict(auto_stop=False, mode_switcher=ModeSwitcher(pscene)))\n",
    "    t_exe.start()\n",
    "    snode_schedule_all.append(snode_schedule)\n",
    "t_exe.join()\n",
    "crob.stop_tracking()"
   ]
  },
  {
   "cell_type": "code",
   "execution_count": null,
   "metadata": {},
   "outputs": [],
   "source": [
    "print(gtimer)"
   ]
  },
  {
   "cell_type": "code",
   "execution_count": null,
   "metadata": {},
   "outputs": [],
   "source": []
  },
  {
   "cell_type": "code",
   "execution_count": null,
   "metadata": {},
   "outputs": [],
   "source": []
  },
  {
   "cell_type": "code",
   "execution_count": null,
   "metadata": {},
   "outputs": [],
   "source": []
  },
  {
   "cell_type": "code",
   "execution_count": null,
   "metadata": {},
   "outputs": [],
   "source": []
  }
 ],
 "metadata": {
  "kernelspec": {
   "display_name": "Python 2",
   "language": "python",
   "name": "python2"
  },
  "language_info": {
   "codemirror_mode": {
    "name": "ipython",
    "version": 2
   },
   "file_extension": ".py",
   "mimetype": "text/x-python",
   "name": "python",
   "nbconvert_exporter": "python",
   "pygments_lexer": "ipython2",
   "version": "2.7.17"
  }
 },
 "nbformat": 4,
 "nbformat_minor": 2
}
