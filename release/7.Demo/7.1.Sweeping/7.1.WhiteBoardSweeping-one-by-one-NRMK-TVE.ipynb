{
 "cells": [
  {
   "cell_type": "markdown",
   "metadata": {},
   "source": [
    "## Demo (Neuromeka TVE) - White board sweeping"
   ]
  },
  {
   "cell_type": "markdown",
   "metadata": {},
   "source": [
    "### Prepare the task scene\n",
    "* Prepare 2 Indy7, and install sweeping tool to indy. (Check release/Figs/7.1.WhiteBoardSweeping.jpg)\n",
    "* Prepare \"floor\", \"track\", \"box1\", \"box2\" objects as defined in pkg.detector.aruco.marker_config.py\n",
    "* The robots and \"track\" are installed on \"floor\".\n",
    "* \"box1\" and \"box2\" are on \"track\"\n",
    "<img src=\"../../Figs/7.1.WhiteBoardSweeping.jpg\" width=\"80%\">"
   ]
  },
  {
   "cell_type": "markdown",
   "metadata": {},
   "source": [
    "## set running directory to project source"
   ]
  },
  {
   "cell_type": "code",
   "execution_count": 1,
   "metadata": {},
   "outputs": [],
   "source": [
    "import os\n",
    "import sys\n",
    "sys.path.append(os.path.join(os.environ[\"RNB_PLANNING_DIR\"], 'src'))\n",
    "from pkg.utils.code_scraps import add_indy_sweep_tool, \\\n",
    "        use_current_place_point_only, use_current_sub_binders_only, \\\n",
    "        finish_L_shape, set_l_shape_object, ForceModeSwitcher, double_sweep_motions"
   ]
  },
  {
   "cell_type": "code",
   "execution_count": null,
   "metadata": {},
   "outputs": [],
   "source": []
  },
  {
   "cell_type": "markdown",
   "metadata": {},
   "source": [
    "## init combined robot config"
   ]
  },
  {
   "cell_type": "code",
   "execution_count": 2,
   "metadata": {},
   "outputs": [
    {
     "name": "stdout",
     "output_type": "stream",
     "text": [
      "connection command:\n",
      "indy0: False\n",
      "panda1: False\n"
     ]
    }
   ],
   "source": [
    "from pkg.controller.combined_robot import *\n",
    "from pkg.project_config import *\n",
    "INDY_IP = '192.168.21.6'\n",
    "PANDA_ROBOT_IP = '192.168.21.13'\n",
    "PANDA_REPEATER_IP = '192.168.21.14'\n",
    "\n",
    "crob = CombinedRobot(robots_on_scene=[\n",
    "    RobotConfig(0, RobotType.indy7, ((0.3,-0.4,0), (0,0,np.pi/2)),\n",
    "                INDY_IP),\n",
    "    RobotConfig(1, RobotType.panda, ((-0.3,-0.4,0), (0,0,np.pi/2)),\n",
    "                \"{}/{}\".format(PANDA_REPEATER_IP, PANDA_ROBOT_IP))]\n",
    "              , connection_list=[False, False])"
   ]
  },
  {
   "cell_type": "code",
   "execution_count": null,
   "metadata": {},
   "outputs": [],
   "source": []
  },
  {
   "cell_type": "markdown",
   "metadata": {},
   "source": [
    "# Init camera"
   ]
  },
  {
   "cell_type": "code",
   "execution_count": 3,
   "metadata": {},
   "outputs": [
    {
     "name": "stdout",
     "output_type": "stream",
     "text": [
      "Device configuration: \n",
      "\tcolor_format: 3 \n",
      "\t(0:JPG, 1:NV12, 2:YUY2, 3:BGRA32)\n",
      "\n",
      "\tcolor_resolution: 5 \n",
      "\t(0:OFF, 1:720p, 2:1080p, 3:1440p, 4:1536p, 5:2160p, 6:3072p)\n",
      "\n",
      "\tdepth_mode: 3 \n",
      "\t(0:OFF, 1:NFOV_2X2BINNED, 2:NFOV_UNBINNED,3:WFOV_2X2BINNED, 4:WFOV_UNBINNED, 5:Passive IR)\n",
      "\n",
      "\tcamera_fps: 2 \n",
      "\t(0:5 FPS, 1:15 FPS, 2:30 FPS)\n",
      "\n",
      "\tsynchronized_images_only: False \n",
      "\t(True of False). Drop images if the color and depth are not synchronized\n",
      "\n",
      "\tdepth_delay_off_color_usec: 0 ms. \n",
      "\tDelay between the color image and the depth image\n",
      "\n",
      "\twired_sync_mode: 0\n",
      "\t(0:Standalone mode, 1:Master mode, 2:Subordinate mode)\n",
      "\n",
      "\tsubordinate_delay_off_master_usec: 0 ms.\n",
      "\tThe external synchronization timing.\n",
      "\n",
      "\tdisable_streaming_indicator: False \n",
      "\t(True or False). Streaming indicator automatically turns on when the color or depth camera's are in use.\n",
      "\n",
      "\n",
      "Start streaming\n"
     ]
    }
   ],
   "source": [
    "from pkg.detector.aruco.marker_config import *\n",
    "from pkg.detector.aruco.stereo import ArucoStereo\n",
    "from pkg.detector.camera.realsense import RealSense\n",
    "from pkg.detector.camera.kinect import Kinect\n",
    "aruco_map = get_aruco_map()\n",
    "stereo = ArucoStereo(aruco_map, [Kinect(), RealSense()])\n",
    "stereo.initialize()\n",
    "_ = stereo.calibrate()"
   ]
  },
  {
   "cell_type": "code",
   "execution_count": null,
   "metadata": {},
   "outputs": [],
   "source": []
  },
  {
   "cell_type": "markdown",
   "metadata": {},
   "source": [
    "## create scene builder"
   ]
  },
  {
   "cell_type": "code",
   "execution_count": 4,
   "metadata": {},
   "outputs": [],
   "source": [
    "from pkg.geometry.builder.scene_builder import SceneBuilder\n",
    "s_builder = SceneBuilder(stereo)\n",
    "# deprecated: s_builder.reset_reference_coord(ref_name=\"floor\")"
   ]
  },
  {
   "cell_type": "code",
   "execution_count": null,
   "metadata": {},
   "outputs": [],
   "source": []
  },
  {
   "cell_type": "markdown",
   "metadata": {},
   "source": [
    "## detect robot and make geometry scene\n",
    "* **[IMPORTANT]** Make sure robot is visible, or correct saved file is used"
   ]
  },
  {
   "cell_type": "code",
   "execution_count": 5,
   "metadata": {},
   "outputs": [
    {
     "name": "stdout",
     "output_type": "stream",
     "text": [
      "Unable to register with master node [http://localhost:11311]: master may not be running yet. Will keep trying.\n",
      "Please create a subscriber to the marker\n",
      "publication OK\n",
      "published: [0, 0, 0, 0, 0, 0, 0, 0, 0, 0, 0, 0, 0]\n"
     ]
    }
   ],
   "source": [
    "xyz_rpy_robots = s_builder.detect_items(level_mask=[DetectionLevel.ROBOT])\n",
    "crob.update_robot_pos_dict(xyz_rpy_robots=xyz_rpy_robots)\n",
    "gscene = s_builder.create_gscene(crob)"
   ]
  },
  {
   "cell_type": "code",
   "execution_count": null,
   "metadata": {},
   "outputs": [],
   "source": []
  },
  {
   "cell_type": "markdown",
   "metadata": {},
   "source": [
    "## init planning pipeline"
   ]
  },
  {
   "cell_type": "code",
   "execution_count": 6,
   "metadata": {},
   "outputs": [
    {
     "name": "stdout",
     "output_type": "stream",
     "text": [
      "Dash is running on http://0.0.0.0:8050/\n",
      "\n",
      " * Serving Flask app \"pkg.ui.dash_launcher\" (lazy loading)\n",
      " * Environment: production\n"
     ]
    }
   ],
   "source": [
    "from pkg.planning.scene import PlanningScene\n",
    "pscene = PlanningScene(gscene, combined_robot=crob)\n",
    "\n",
    "from pkg.planning.pipeline import PlanningPipeline\n",
    "ppline = PlanningPipeline(pscene)\n",
    "\n",
    "from pkg.ui.ui_broker import *\n",
    "\n",
    "# start UI\n",
    "ui_broker = UIBroker.instance()\n",
    "ui_broker.initialize(ppline, s_builder)\n",
    "ui_broker.start_server()\n",
    "\n",
    "ui_broker.set_tables()"
   ]
  },
  {
   "cell_type": "markdown",
   "metadata": {},
   "source": [
    "```\n",
    "open web ui on <your ip>:8050\n",
    "click geometry items / Handles / Binders to highlight geometry on RVIZ\n",
    "other functions may be buggy.. please report\n",
    "```"
   ]
  },
  {
   "cell_type": "code",
   "execution_count": null,
   "metadata": {},
   "outputs": [],
   "source": []
  },
  {
   "cell_type": "markdown",
   "metadata": {},
   "source": [
    "## add environment\n",
    "* **[IMPORTANT]** Make sure environment items are visible, or correct saved file is used"
   ]
  },
  {
   "cell_type": "code",
   "execution_count": 7,
   "metadata": {
    "scrolled": true
   },
   "outputs": [
    {
     "name": "stdout",
     "output_type": "stream",
     "text": [
      "   WARNING: This is a development server. Do not use it in a production deployment.\n",
      "   Use a production WSGI server instead.\n",
      " * Debug mode: off\n",
      "Please create a subscriber to the marker\n"
     ]
    }
   ],
   "source": [
    "gtem_dict = s_builder.detect_and_register(level_mask=[DetectionLevel.ENVIRONMENT])\n",
    "\n",
    "# add cam poles\n",
    "ptems = s_builder.add_poles({\"cam0\": stereo.ref_coord_inv[:3,3], \"cam1\":np.matmul(stereo.ref_coord_inv, stereo.T_c12)[:3,3]},\n",
    "                            color=(0.6,0.6,0.6,0.0))\n",
    "gtems = s_builder.add_robot_geometries(color=(0,1,0,0.5), display=True, collision=True)\n",
    "gscene.NAME_DICT[\"floor\"].dims = (2,1,0.01)\n",
    "gscene.set_workspace_boundary( -0.8, 0.8, -0.5, 0.5, -0.1, 1.1)"
   ]
  },
  {
   "cell_type": "code",
   "execution_count": 8,
   "metadata": {},
   "outputs": [],
   "source": [
    "gscene.update_markers_all()"
   ]
  },
  {
   "cell_type": "code",
   "execution_count": null,
   "metadata": {},
   "outputs": [],
   "source": []
  },
  {
   "cell_type": "markdown",
   "metadata": {},
   "source": [
    "## add environmental components"
   ]
  },
  {
   "cell_type": "code",
   "execution_count": 9,
   "metadata": {},
   "outputs": [],
   "source": [
    "from pkg.planning.constraint.constraint_actor import Gripper2Tool, PlacePlane, SweepFramer, FixtureSlot\n",
    "from pkg.planning.constraint.constraint_subject import \\\n",
    "        CustomObject, Grasp2Point, PlacePoint, SweepFrame, SweepTask, BoxObject, FixturePoint, AbstractObject\n",
    "\n",
    "from pkg.planning.constraint.constraint_common import MotionConstraint\n",
    "from pkg.planning.constraint.constraint_subject import AbstractTask\n",
    "from pkg.planning.constraint.constraint_subject import SweepLineTask\n",
    "\n",
    "add_indy_sweep_tool(gscene, \"indy0\", face_name=\"brush_face\", tool_offset=0.13)\n",
    "\n",
    "gscene.create_safe(gtype=GEOTYPE.SPHERE, name=\"grip1\", link_name=\"panda1_hand\", \n",
    "                 dims=(0.01,)*3, center=(0,0,0.112), rpy=(-np.pi/2,0,0), color=(1,0,0,1), display=True, collision=False, fixed=True)\n",
    "\n",
    "pscene.create_binder(bname=\"grip1\", gname=\"grip1\", _type=Gripper2Tool, point=(0,0,0), rpy=(0,0,0))\n",
    "pscene.create_binder(bname=\"brush_face\", gname=\"brush_face\", _type=SweepFramer, \n",
    "                     point=(0,0,gscene.NAME_DICT['brush_face'].dims[2]/2), rpy=(0,np.pi,0))\n",
    "\n",
    "track = s_builder.detect_and_register(item_names=[\"track\"], level_mask=[DetectionLevel.ENVIRONMENT])[\"track\"]\n",
    "track_face = gscene.copy_from(track, new_name=\"track_face\", collision=False)\n",
    "track_face.dims = (track.dims[0]-0.1, track.dims[1]-0.15, track.dims[2])\n",
    "pscene.create_binder(bname=\"track_face\", gname=\"track_face\", _type=PlacePlane, point=None)\n",
    "# track.dims = (track.dims[0]-0.32, track.dims[1]-0.12, track.dims[2])\n",
    "\n",
    "gscene.update_markers_all()\n",
    "\n",
    "TOOL_DIM = [0.06, 0.10]\n",
    "TACK_WIDTH = 0.16\n",
    "TRACK_DIM = track_face.dims\n",
    "TRACK_NUM = np.ceil(np.divide(TRACK_DIM[1]-TOOL_DIM[1], TOOL_DIM[1])).astype(np.int)+1\n",
    "TRACK_STEP = (TRACK_DIM[1]-TOOL_DIM[1])/(TRACK_NUM-1)\n",
    "WP_REF_A = -np.subtract(TRACK_DIM[:2], TOOL_DIM[:2])/2\n",
    "WP_REF_B = np.array([-WP_REF_A[0], WP_REF_A[1]])\n",
    "WP_REF_M = np.array([0, WP_REF_A[1]])\n",
    "TRC_THIC = TRACK_DIM[2]\n",
    "FC_THIC = 2e-3\n",
    "track_list = []\n",
    "for i_trc in range(TRACK_NUM):\n",
    "    wp1 = gscene.create_safe(GEOTYPE.BOX, \"wp{}a\".format(i_trc+1), \"base_link\", (TOOL_DIM[0]/2,TOOL_DIM[1]/2,TRC_THIC), \n",
    "                             tuple(WP_REF_A+[0,TRACK_STEP*i_trc])+(0,),rpy=(0,0,0), \n",
    "                             color=(0.8,0.2,0.2,0.2), display=True, fixed=True, collision=False, parent=\"track_face\")\n",
    "    wp2 = gscene.create_safe(GEOTYPE.BOX, \"wp{}b\".format(i_trc+1), \"base_link\", (TOOL_DIM[0]/2,TOOL_DIM[1]/2,TRC_THIC), \n",
    "                             tuple(WP_REF_B+[0,TRACK_STEP*i_trc])+(0,),rpy=(0,0,0), \n",
    "                             color=(0.8,0.2,0.2,0.2), display=True, fixed=True, collision=False, parent=\"track_face\")\n",
    "    face = gscene.create_safe(GEOTYPE.BOX, \"face{}\".format(i_trc+1), \"base_link\", \n",
    "                              (TRACK_DIM[0] - TOOL_DIM[0]/2,TACK_WIDTH,FC_THIC), \n",
    "                             center=tuple(WP_REF_M+[0,TRACK_STEP*i_trc])+(TRACK_DIM[2]/2 + FC_THIC/2,),rpy=(0,0,0), \n",
    "                             color=(0.8,0.2,0.2,0.2), display=True, fixed=True, collision=False, parent=\"track_face\")\n",
    "    track_list.append((wp1, wp2, face))\n",
    "    \n",
    "    gscene.update_markers_all()\n",
    "\n",
    "sweep_list = []\n",
    "for i_t, track_tem in enumerate(track_list):\n",
    "    wp1, wp2, face = track_tem\n",
    "    sweep_ = pscene.create_subject(oname=\"sweep{}\".format(i_t+1), gname=\"track_face\", _type=SweepLineTask, \n",
    "                                   action_points_dict = {wp1.name: SweepFrame(wp1.name, wp1, [0,0,0.005], [0,0,0]),\n",
    "                                                       wp2.name: SweepFrame(wp2.name, wp2, [0,0,0.005], [0,0,0])}, \n",
    "                                   clearance=[face])\n",
    "    sweep_list.append(sweep_)\n",
    "    \n"
   ]
  },
  {
   "cell_type": "code",
   "execution_count": null,
   "metadata": {},
   "outputs": [],
   "source": []
  },
  {
   "cell_type": "markdown",
   "metadata": {},
   "source": [
    "## add movable objects"
   ]
  },
  {
   "cell_type": "code",
   "execution_count": 10,
   "metadata": {},
   "outputs": [],
   "source": [
    "gtem_dict = s_builder.detect_and_register(level_mask=[DetectionLevel.MOVABLE])\n",
    "gscene.update_markers_all()\n",
    "    \n",
    "for gname in sorted(gtem_dict.keys()):\n",
    "    pscene.create_subject(oname=gname, gname=gname, _type=BoxObject, hexahedral=True)\n",
    "\n",
    "# ## add blocking structure on table\n",
    "# gscene.create_safe(gtype=GEOTYPE.BOX, name=\"blocker\", link_name=\"base_link\",\n",
    "#                             center=(-0.27,-0.2,0.15), dims=(0.1,0.3, 0.4), rpy=(0,0,0), color=(0.0,0.8,0.0,0.5),\n",
    "#                             collision=True, fixed=True)"
   ]
  },
  {
   "cell_type": "code",
   "execution_count": null,
   "metadata": {},
   "outputs": [],
   "source": []
  },
  {
   "cell_type": "markdown",
   "metadata": {},
   "source": [
    "### planners"
   ]
  },
  {
   "cell_type": "code",
   "execution_count": 11,
   "metadata": {},
   "outputs": [],
   "source": [
    "from pkg.planning.motion.moveit.moveit_planner import MoveitPlanner\n",
    "mplan = MoveitPlanner(pscene, enable_dual=False)\n",
    "mplan.update_gscene()\n",
    "from pkg.planning.task.rrt import TaskRRT\n",
    "tplan = TaskRRT(pscene)\n",
    "tplan.prepare()\n",
    "ppline.set_motion_planner(mplan)\n",
    "ppline.set_task_planner(tplan)"
   ]
  },
  {
   "cell_type": "code",
   "execution_count": 12,
   "metadata": {},
   "outputs": [
    {
     "name": "stdout",
     "output_type": "stream",
     "text": [
      "subjects: ['sweep1', 'sweep2', 'sweep3']\n",
      "initial node: (0, 0, 0)\n"
     ]
    }
   ],
   "source": [
    "from pkg.planning.filtering.grasp_filter import GraspChecker\n",
    "from pkg.planning.filtering.reach_filter import ReachChecker\n",
    "from pkg.planning.filtering.latticized_filter import LatticedChecker\n",
    "from pkg.planning.filtering.task_clearance_filter import TaskClearanceChecker\n",
    "\n",
    "gcheck = GraspChecker(pscene)\n",
    "rcheck = ReachChecker(pscene)\n",
    "tcheck = TaskClearanceChecker(pscene, gcheck)\n",
    "checkers_all = [tcheck, rcheck, gcheck]\n",
    "# lcheck = LatticedChecker(pscene, gcheck)\n",
    "# checkers_all.append(lcheck)\n",
    "mplan.motion_filters = checkers_all\n",
    "gscene.show_pose(crob.home_pose)\n",
    "\n",
    "from pkg.planning.constraint.constraint_common \\\n",
    "            import sample_redundancy, combine_redundancy\n",
    "gtimer = GlobalTimer.instance()\n",
    "initial_state = pscene.initialize_state(crob.home_pose, force_fit_binding=True)\n",
    "\n",
    "# remove place points except for the current one\n",
    "use_current_place_point_only(pscene, initial_state)\n",
    "\n",
    "gscene.update_markers_all()\n",
    "print(\"subjects: {}\".format(pscene.subject_name_list))\n",
    "print(\"initial node: {}\".format(initial_state.node))"
   ]
  },
  {
   "cell_type": "code",
   "execution_count": null,
   "metadata": {},
   "outputs": [],
   "source": []
  },
  {
   "cell_type": "markdown",
   "metadata": {},
   "source": [
    "# CustomRule"
   ]
  },
  {
   "cell_type": "code",
   "execution_count": 13,
   "metadata": {},
   "outputs": [],
   "source": [
    "urules = [SweepLineTask.make_unstopable_rule(pscene, [sname]) for sname in [\"sweep1\", \"sweep2\", \"sweep3\"]]\n",
    "urule_tot = lambda pscene, node, leaf: all([urule(pscene, node, leaf) for urule in urules]) \n",
    "tplan.explicit_rule = urule_tot\n",
    "tplan.explicit_edges = {node : [node] for node in [node for node in tplan.node_list if 1 not in node]}\n",
    "mplan.incremental_constraint_motion = True"
   ]
  },
  {
   "cell_type": "code",
   "execution_count": null,
   "metadata": {},
   "outputs": [],
   "source": []
  },
  {
   "cell_type": "markdown",
   "metadata": {},
   "source": [
    "## Detect once"
   ]
  },
  {
   "cell_type": "code",
   "execution_count": 14,
   "metadata": {},
   "outputs": [],
   "source": [
    "mplan.reset_log(False)\n",
    "gtimer.reset()\n",
    "\n",
    "with gtimer.block(\"detect\"):\n",
    "    for sname in pscene.subject_name_list:\n",
    "        if isinstance(pscene.subject_dict[sname], AbstractObject):\n",
    "            pscene.remove_subject(sname)\n",
    "            \n",
    "    gscene.clear_non_fixed()\n",
    "    \n",
    "    ## detect again\n",
    "    gtem_dict = s_builder.detect_and_register(level_mask=[DetectionLevel.MOVABLE])\n",
    "\n",
    "    ## create boxes\n",
    "    box_list =  [] \n",
    "    for gname in sorted(gtem_dict.keys()):\n",
    "        box_new = pscene.create_subject(oname=gname, gname=gname, _type=BoxObject, hexahedral=True)\n",
    "        box_new.register_binders(pscene, PlacePlane)\n",
    "        box_list.append(box_new)\n",
    "    \n",
    "    initial_state = pscene.initialize_state(crob.home_pose, force_fit_binding=True)\n",
    "    initial_state = pscene.initialize_state(crob.home_pose, force_fit_binding=True)\n",
    "    gscene.update_markers_all()\n",
    "\n",
    "    # remove place points and sub-binders except for the current ones\n",
    "    use_current_place_point_only(pscene, initial_state)\n",
    "    use_current_sub_binders_only(pscene, initial_state)\n",
    "    tplan.prepare()\n",
    "    mplan.update_gscene()"
   ]
  },
  {
   "cell_type": "code",
   "execution_count": null,
   "metadata": {},
   "outputs": [],
   "source": []
  },
  {
   "cell_type": "markdown",
   "metadata": {},
   "source": [
    "## Plan & show"
   ]
  },
  {
   "cell_type": "code",
   "execution_count": 15,
   "metadata": {},
   "outputs": [],
   "source": [
    "from pkg.planning.motion.moveit.moveit_py import PlannerConfig\n",
    "VEL = 0.2\n",
    "ACC = 0.2"
   ]
  },
  {
   "cell_type": "code",
   "execution_count": 17,
   "metadata": {
    "scrolled": true
   },
   "outputs": [
    {
     "name": "stdout",
     "output_type": "stream",
     "text": [
      "(0, 0, 0)\n",
      "Goal reached\n",
      "Goal reached\n",
      "Goal reached\n",
      "Goal reached\n",
      "Goal reached\n",
      "Goal reached\n",
      "=========================================================================================================\n",
      "======================= terminated 0: required answers acquired  (3.4/100.0) ===============================\n",
      "=========================================================================================================\n",
      "========================== FINISHED (3.4 / 100.0 s) ==============================]\n",
      "Goal reached\n",
      "Goal reached\n",
      "Goal reached\n",
      "Goal reached\n",
      "Goal reached\n",
      "Goal reached\n",
      "Goal reached\n",
      "=========================================================================================================\n",
      "======================= terminated 0: required answers acquired  (3.9/100.0) ===============================\n",
      "=========================================================================================================\n",
      "========================== FINISHED (3.9 / 100.0 s) ==============================]\n",
      "Goal reached\n",
      "Goal reached\n",
      "Goal reached\n",
      "Goal reached\n",
      "Goal reached\n",
      "Goal reached\n",
      "Goal reached\n",
      "=========================================================================================================\n",
      "======================= terminated 0: required answers acquired  (1.8/100.0) ===============================\n",
      "=========================================================================================================\n",
      "========================== FINISHED (1.8 / 100.0 s) ==============================]\n",
      "Goal reached\n"
     ]
    }
   ],
   "source": [
    "mplan.reset_log(False)\n",
    "gtimer.reset()\n",
    "print(initial_state.node)\n",
    "\n",
    "obj_num = len(gtem_dict)\n",
    "sweep_num = len(sweep_list)\n",
    "from_state = initial_state\n",
    "snode_schedule_all = []\n",
    "for sweep_idx in range(sweep_num):\n",
    "    gcheck.put_banned = [track_list[sweep_idx][2]]\n",
    "    sweep_goal = tuple([int(i_s<=sweep_idx)*2 for i_s in range(sweep_num)])\n",
    "#     sweep_goal = tuple([int(i_s<=sweep_idx)*2 for i_s in range(2)])+(0,)\n",
    "    goal_nodes = [(\"track_face\",)*obj_num+sweep_goal]\n",
    "    if sweep_idx < sweep_num-1:\n",
    "        for i_s in range(obj_num):\n",
    "            obj_goal = [\"track_face\"]*obj_num\n",
    "            obj_goal[i_s] = \"grip1\"\n",
    "            goal_nodes += [tuple(obj_goal)+sweep_goal]\n",
    "    ppline.search(from_state, goal_nodes, verbose=False, display=False, dt_vis=0.01, \n",
    "                  timeout_loop=100, multiprocess=False, timeout=0.5, timeout_constrained=2, \n",
    "                  add_homing=False, post_optimize=False, max_solution_count=5)\n",
    "    snode_schedule = ppline.tplan.get_best_schedule(at_home=False)\n",
    "    snode_schedule += ppline.add_return_motion(snode_schedule[-1], initial_state=None, timeout=0.5, try_count=3)\n",
    "    snode_schedule_simple = simplify_schedule(pscene, snode_schedule)\n",
    "    snode_schedule_safe = calculate_safe_schedule(pscene, snode_schedule, VEL, ACC)\n",
    "    snode_schedule = snode_schedule_safe\n",
    "    from_state = snode_schedule[-1].state\n",
    "    snode_schedule_all.append(snode_schedule)"
   ]
  },
  {
   "cell_type": "code",
   "execution_count": 18,
   "metadata": {
    "scrolled": false
   },
   "outputs": [
    {
     "name": "stdout",
     "output_type": "stream",
     "text": [
      "search_loop: \t9117.4 ms/3 = 3039.1 ms (1776.469/3909.778)\n",
      "initialize_memory: \t1.6 ms/3 = 0.5 ms (0.39/0.72)\n",
      "init_search: \t1.2 ms/3 = 0.4 ms (0.365/0.51)\n",
      "test_connection: \t8986.3 ms/82 = 109.6 ms (1.784/224.626)\n",
      "\n"
     ]
    }
   ],
   "source": [
    "print(gtimer)"
   ]
  },
  {
   "cell_type": "code",
   "execution_count": null,
   "metadata": {},
   "outputs": [],
   "source": []
  },
  {
   "cell_type": "markdown",
   "metadata": {},
   "source": [
    "## mix full schedule"
   ]
  },
  {
   "cell_type": "code",
   "execution_count": 19,
   "metadata": {},
   "outputs": [],
   "source": [
    "gtimer.reset()\n",
    "snode_schedule_cat = [snode_schedule_all[0][0]]\n",
    "for snode_schedule in snode_schedule_all:\n",
    "    snode_schedule_cat += snode_schedule[1:]\n",
    "\n",
    "safe_mixed = snode_schedule_cat"
   ]
  },
  {
   "cell_type": "markdown",
   "metadata": {},
   "source": [
    "### play schedule"
   ]
  },
  {
   "cell_type": "code",
   "execution_count": 20,
   "metadata": {
    "scrolled": true
   },
   "outputs": [
    {
     "name": "stdout",
     "output_type": "stream",
     "text": [
      "(0, 0, 0)->(0, 0, 0)\n",
      "(0, 0, 0)->(1, 0, 0)\n",
      "(1, 0, 0)->(2, 0, 0)\n",
      "(2, 0, 0)->(2, 0, 0)\n",
      "(2, 0, 0)->(2, 0, 0)\n",
      "(2, 0, 0)->(2, 0, 0)\n",
      "(2, 0, 0)->(2, 1, 0)\n",
      "(2, 1, 0)->(2, 2, 0)\n",
      "(2, 2, 0)->(2, 2, 0)\n",
      "(2, 2, 0)->(2, 2, 0)\n",
      "(2, 2, 0)->(2, 2, 0)\n",
      "(2, 2, 0)->(2, 2, 1)\n",
      "(2, 2, 1)->(2, 2, 2)\n",
      "(2, 2, 2)->(2, 2, 2)\n"
     ]
    }
   ],
   "source": [
    "ppline.play_schedule(safe_mixed, period=0.0002)"
   ]
  },
  {
   "cell_type": "code",
   "execution_count": null,
   "metadata": {},
   "outputs": [],
   "source": []
  },
  {
   "cell_type": "markdown",
   "metadata": {},
   "source": [
    "### Run fully mixed schedule"
   ]
  },
  {
   "cell_type": "code",
   "execution_count": 21,
   "metadata": {},
   "outputs": [
    {
     "name": "stdout",
     "output_type": "stream",
     "text": [
      "connection command:\n",
      "indy0: True\n",
      "panda1: False\n"
     ]
    }
   ],
   "source": [
    "from pkg.planning.constraint.constraint_common import get_binding_margins, fit_binding\n",
    "crob.reset_connection(True,False)"
   ]
  },
  {
   "cell_type": "markdown",
   "metadata": {},
   "source": [
    "### Check gripper function\n",
    "* **[IMPORTANT]** Check if panda gripper is open after below cell"
   ]
  },
  {
   "cell_type": "code",
   "execution_count": 22,
   "metadata": {},
   "outputs": [
    {
     "name": "stdout",
     "output_type": "stream",
     "text": [
      "[SIMUL] panda1 grasp True\n",
      "Connect: Server IP (192.168.21.6)\n",
      "Connect: Server IP (192.168.21.6)\n",
      "[SIMUL] panda1 grasp False\n"
     ]
    }
   ],
   "source": [
    "crob.grasp(False, True)\n",
    "time.sleep(0.5)\n",
    "crob.grasp(False, False)"
   ]
  },
  {
   "cell_type": "code",
   "execution_count": 23,
   "metadata": {
    "scrolled": false
   },
   "outputs": [
    {
     "name": "stdout",
     "output_type": "stream",
     "text": [
      "Connect: Server IP (192.168.21.6)\n",
      "Connect: Server IP (192.168.21.6)\n"
     ]
    }
   ],
   "source": [
    "crob.joint_move_make_sure(crob.home_pose)"
   ]
  },
  {
   "cell_type": "code",
   "execution_count": 24,
   "metadata": {
    "scrolled": true
   },
   "outputs": [],
   "source": [
    "# ppline.execute_schedule(safe_mixed, \n",
    "#                         mode_switcher=ForceModeSwitcher(pscene),\n",
    "#                         multiproc=False, error_stop_deg=None, one_by_one=True)"
   ]
  },
  {
   "cell_type": "code",
   "execution_count": null,
   "metadata": {},
   "outputs": [],
   "source": []
  },
  {
   "cell_type": "code",
   "execution_count": 25,
   "metadata": {},
   "outputs": [
    {
     "name": "stdout",
     "output_type": "stream",
     "text": [
      "(0, 0, 0)->(1, 0, 0)\n",
      "(1, 0, 0)->(2, 0, 0)\n",
      "(2, 0, 0)->(2, 0, 0)\n"
     ]
    }
   ],
   "source": [
    "snodes_move = []\n",
    "for snode in safe_mixed:\n",
    "    if snode.traj is not None and len(snode.traj)>0:\n",
    "        snodes_move.append(snode)\n",
    "approach = snodes_move[0].traj\n",
    "sweep = snodes_move[1].traj\n",
    "leave = snodes_move[2].traj\n",
    "ppline.play_schedule([safe_mixed[0]]\n",
    "                     +snodes_move[:3], period=0.0002)"
   ]
  },
  {
   "cell_type": "code",
   "execution_count": 26,
   "metadata": {},
   "outputs": [],
   "source": [
    "\n",
    "import requests\n",
    "from bs4 import BeautifulSoup\n",
    "from time import sleep"
   ]
  },
  {
   "cell_type": "code",
   "execution_count": 27,
   "metadata": {},
   "outputs": [],
   "source": [
    "def switch_command(ip_addr, mode, UI_PORT=9990):\n",
    "    uri = \"http://{ip_addr}:{UI_PORT}/param_setting?switch_control0={mode}\".format(\n",
    "        ip_addr=ip_addr, UI_PORT=UI_PORT, mode=int(mode))\n",
    "    print(uri)\n",
    "    requests.get(uri)\n",
    "\n",
    "def start_force_mode(indy, switch_delay=0.5, mode=1):\n",
    "    sleep(switch_delay)\n",
    "    indy.reset()\n",
    "    switch_command(indy.server_ip, mode)\n",
    "    sleep(switch_delay)\n",
    "    sleep(3)\n",
    "\n",
    "def stop_force_mode(indy, Qref, switch_delay=0.5):\n",
    "    sleep(switch_delay)\n",
    "    indy.reset()\n",
    "    switch_command(indy.server_ip, False)\n",
    "    sleep(switch_delay)\n",
    "    indy.joint_move_make_sure(Qref)"
   ]
  },
  {
   "cell_type": "code",
   "execution_count": null,
   "metadata": {},
   "outputs": [],
   "source": []
  },
  {
   "cell_type": "code",
   "execution_count": null,
   "metadata": {},
   "outputs": [],
   "source": []
  },
  {
   "cell_type": "code",
   "execution_count": null,
   "metadata": {},
   "outputs": [],
   "source": []
  },
  {
   "cell_type": "code",
   "execution_count": 132,
   "metadata": {},
   "outputs": [],
   "source": [
    "indy = crob.robot_dict[\"indy0\"]\n",
    "contact_dist = 0.03\n",
    "Q0 = approach[0]"
   ]
  },
  {
   "cell_type": "code",
   "execution_count": 133,
   "metadata": {},
   "outputs": [],
   "source": [
    "brush_face = pscene.actor_dict['brush_face']\n",
    "Qcur = approach[-1]\n",
    "Tcur = brush_face.get_tf_handle(Qcur)\n",
    "Ttac = np.matmul(Tcur, SE3(np.identity(3), (0,0,-contact_dist)))\n",
    "traj, succ = mplan.get_incremental_traj(brush_face.geometry.link_name, \n",
    "                                        brush_face.Toff_lh, Ttac,\n",
    "                                        Qcur, step_size=0.01, ERROR_CUT=0.01,\n",
    "                                        SINGULARITY_CUT=0.01, VERBOSE=False,\n",
    "                                        ref_link=\"base_link\", VISUALIZE=False, check_collision=False)\n",
    "if succ:\n",
    "    Qtac = traj[-1]\n",
    "    Ts = brush_face.get_tf_handle(sweep[0])\n",
    "    Tf = brush_face.get_tf_handle(sweep[-1])\n",
    "    dTsweep = np.matmul(np.linalg.inv(Ts), Tf)\n",
    "    Tfin = np.matmul(Ttac, dTsweep)\n",
    "    sweep_tac, succ = mplan.get_incremental_traj(brush_face.geometry.link_name, \n",
    "                                            brush_face.Toff_lh, Tfin,\n",
    "                                            Qtac, step_size=0.01, ERROR_CUT=0.01,\n",
    "                                            SINGULARITY_CUT=0.01, VERBOSE=False,\n",
    "                                            ref_link=\"base_link\", VISUALIZE=False, check_collision=False)\n",
    "    t_all, sweep_safe = calc_safe_trajectory(1./indy.traj_freq, sweep_tac, VEL, ACC)"
   ]
  },
  {
   "cell_type": "code",
   "execution_count": 134,
   "metadata": {
    "scrolled": true
   },
   "outputs": [
    {
     "name": "stdout",
     "output_type": "stream",
     "text": [
      "Connect: Server IP (192.168.21.6)\n",
      "http://192.168.21.6:9990/param_setting?switch_control0=0\n",
      "Connect: Server IP (192.168.21.6)\n",
      "Connect: Server IP (192.168.21.6)\n"
     ]
    }
   ],
   "source": [
    "stop_force_mode(indy, Q0[:6])"
   ]
  },
  {
   "cell_type": "code",
   "execution_count": 135,
   "metadata": {},
   "outputs": [
    {
     "name": "stdout",
     "output_type": "stream",
     "text": [
      "Connect: Server IP (192.168.21.6)\n",
      "http://192.168.21.6:9990/param_setting?switch_control0=1\n"
     ]
    }
   ],
   "source": [
    "indy.move_joint_traj(approach[:,:6])\n",
    "sleep(0.5)\n",
    "switch_command(indy.server_ip, mode=1)\n",
    "indy.joint_move_make_sure(Qtac[:6], ref_speed=np.pi/36, \n",
    "    wait_finish=False, start_tracking=False, auto_stop=False)\n",
    "indy.start_tracking()\n",
    "indy.wait_queue_empty()\n",
    "sleep(0.5)"
   ]
  },
  {
   "cell_type": "code",
   "execution_count": 136,
   "metadata": {},
   "outputs": [
    {
     "name": "stdout",
     "output_type": "stream",
     "text": [
      "http://192.168.21.6:9990/param_setting?switch_control0=2\n"
     ]
    }
   ],
   "source": [
    "switch_command(indy.server_ip, 2)\n",
    "sleep(3)"
   ]
  },
  {
   "cell_type": "code",
   "execution_count": 137,
   "metadata": {
    "scrolled": true
   },
   "outputs": [],
   "source": [
    "crob.move_joint_traj(sweep_safe,  auto_stop=False, wait_motion=False, error_stop=30)\n",
    "indy.start_tracking()\n",
    "indy.wait_queue_empty()"
   ]
  },
  {
   "cell_type": "code",
   "execution_count": 138,
   "metadata": {},
   "outputs": [],
   "source": [
    "Qfin = sweep_safe[-1]\n",
    "indy.move_joint_s_curve(indy.get_qcur(), q0=Qfin[:6], N_div=int(2.0*indy.traj_freq), \n",
    "                        wait_finish=False, start_tracking=False, auto_stop=False)        # return planned trajectory\n",
    "indy.start_tracking()\n",
    "indy.wait_queue_empty()\n",
    "sleep(0.5)"
   ]
  },
  {
   "cell_type": "code",
   "execution_count": 139,
   "metadata": {},
   "outputs": [
    {
     "name": "stdout",
     "output_type": "stream",
     "text": [
      "http://192.168.21.6:9990/param_setting?switch_control0=1\n"
     ]
    }
   ],
   "source": [
    "switch_command(indy.server_ip, mode=1)  # impedance control mode ( force reset ok)\n",
    "sleep(1)"
   ]
  },
  {
   "cell_type": "code",
   "execution_count": 140,
   "metadata": {},
   "outputs": [
    {
     "name": "stdout",
     "output_type": "stream",
     "text": [
      "Connect: Server IP (192.168.21.6)\n",
      "http://192.168.21.6:9990/param_setting?switch_control0=0\n",
      "Connect: Server IP (192.168.21.6)\n",
      "Connect: Server IP (192.168.21.6)\n"
     ]
    }
   ],
   "source": [
    "Qoff = leave[0]\n",
    "indy.reset()       # sync nominal offset before turning impedance control off\n",
    "switch_command(indy.server_ip, mode=0) # return robust control\n",
    "sleep(0.5)\n",
    "indy.joint_move_make_sure(Qoff[:6], ref_speed=np.pi/36)        # return planned trajectory"
   ]
  },
  {
   "cell_type": "code",
   "execution_count": 141,
   "metadata": {},
   "outputs": [
    {
     "name": "stdout",
     "output_type": "stream",
     "text": [
      "Connect: Server IP (192.168.21.6)\n"
     ]
    },
    {
     "data": {
      "text/plain": [
       "True"
      ]
     },
     "execution_count": 141,
     "metadata": {},
     "output_type": "execute_result"
    }
   ],
   "source": [
    "crob.move_joint_traj(leave)"
   ]
  },
  {
   "cell_type": "code",
   "execution_count": null,
   "metadata": {},
   "outputs": [],
   "source": []
  },
  {
   "cell_type": "code",
   "execution_count": null,
   "metadata": {},
   "outputs": [],
   "source": []
  }
 ],
 "metadata": {
  "kernelspec": {
   "display_name": "Python 2",
   "language": "python",
   "name": "python2"
  },
  "language_info": {
   "codemirror_mode": {
    "name": "ipython",
    "version": 2
   },
   "file_extension": ".py",
   "mimetype": "text/x-python",
   "name": "python",
   "nbconvert_exporter": "python",
   "pygments_lexer": "ipython2",
   "version": "2.7.17"
  }
 },
 "nbformat": 4,
 "nbformat_minor": 2
}
