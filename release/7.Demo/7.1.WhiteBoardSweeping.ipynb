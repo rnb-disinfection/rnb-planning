{
 "cells": [
  {
   "cell_type": "markdown",
   "metadata": {},
   "source": [
    "## Check List 7.1. Demo - White board sweeping\n",
    "* In this demo file, we will use two robots (Indy7, Panda) to sweep a white board, removing obstacles\n",
    "\n",
    "* You need trained model to use ReachChecker\n",
    "  - model/reach_svm/indy7.json\n",
    "  - model/reach_svm/panda.json\n",
    "  - 백업: 개인 이동식 하드디스크, 강준수"
   ]
  },
  {
   "cell_type": "markdown",
   "metadata": {},
   "source": [
    "### Prepare the task scene\n",
    "* Prepare Indy7 and panda, and install sweeping tool to indy. (Check release/Figs/7.1.WhiteBoardSweeping.jpg)\n",
    "* Prepare \"floor\", \"track\", \"box1\", \"box2\" objects as defined in pkg.detector.aruco.marker_config.py\n",
    "* The robots and \"track\" are installed on \"floor\".\n",
    "* \"box1\" and \"box2\" are on \"track\"\n",
    "<img src=\"../Figs/7.1.WhiteBoardSweeping.jpg\" width=\"80%\">"
   ]
  },
  {
   "cell_type": "code",
   "execution_count": null,
   "metadata": {},
   "outputs": [],
   "source": []
  },
  {
   "cell_type": "markdown",
   "metadata": {},
   "source": [
    "## set running directory to project source"
   ]
  },
  {
   "cell_type": "code",
   "execution_count": 1,
   "metadata": {},
   "outputs": [],
   "source": [
    "import os\n",
    "os.chdir(os.path.join(os.environ[\"RNB_PLANNING_DIR\"], 'src'))"
   ]
  },
  {
   "cell_type": "code",
   "execution_count": null,
   "metadata": {},
   "outputs": [],
   "source": []
  },
  {
   "cell_type": "markdown",
   "metadata": {},
   "source": [
    "## init combined robot config"
   ]
  },
  {
   "cell_type": "code",
   "execution_count": 2,
   "metadata": {},
   "outputs": [
    {
     "name": "stdout",
     "output_type": "stream",
     "text": [
      "connection command:\n",
      "indy0: False\n",
      "panda1: False\n"
     ]
    }
   ],
   "source": [
    "from pkg.controller.combined_robot import *\n",
    "from pkg.project_config import *\n",
    "\n",
    "crob = CombinedRobot(robots_on_scene=[\n",
    "    RobotConfig(0, RobotType.indy7, ((0.3,-0.4,0), (0,0,np.pi/2)),\n",
    "                INDY_IP),\n",
    "    RobotConfig(1, RobotType.panda, ((-0.3,-0.4,0), (0,0,np.pi/2)),\n",
    "                \"{}/{}\".format(PANDA_REPEATER_IP, PANDA_ROBOT_IP))]\n",
    "              , connection_list=[False, False])"
   ]
  },
  {
   "cell_type": "code",
   "execution_count": null,
   "metadata": {},
   "outputs": [],
   "source": []
  },
  {
   "cell_type": "code",
   "execution_count": 3,
   "metadata": {},
   "outputs": [
    {
     "name": "stdout",
     "output_type": "stream",
     "text": [
      "Device configuration: \n",
      "\tcolor_format: 3 \n",
      "\t(0:JPG, 1:NV12, 2:YUY2, 3:BGRA32)\n",
      "\n",
      "\tcolor_resolution: 5 \n",
      "\t(0:OFF, 1:720p, 2:1080p, 3:1440p, 4:1536p, 5:2160p, 6:3072p)\n",
      "\n",
      "\tdepth_mode: 3 \n",
      "\t(0:OFF, 1:NFOV_2X2BINNED, 2:NFOV_UNBINNED,3:WFOV_2X2BINNED, 4:WFOV_UNBINNED, 5:Passive IR)\n",
      "\n",
      "\tcamera_fps: 2 \n",
      "\t(0:5 FPS, 1:15 FPS, 2:30 FPS)\n",
      "\n",
      "\tsynchronized_images_only: False \n",
      "\t(True of False). Drop images if the color and depth are not synchronized\n",
      "\n",
      "\tdepth_delay_off_color_usec: 0 ms. \n",
      "\tDelay between the color image and the depth image\n",
      "\n",
      "\twired_sync_mode: 0\n",
      "\t(0:Standalone mode, 1:Master mode, 2:Subordinate mode)\n",
      "\n",
      "\tsubordinate_delay_off_master_usec: 0 ms.\n",
      "\tThe external synchronization timing.\n",
      "\n",
      "\tdisable_streaming_indicator: False \n",
      "\t(True or False). Streaming indicator automatically turns on when the color or depth camera's are in use.\n",
      "\n",
      "\n",
      "Start streaming\n"
     ]
    },
    {
     "data": {
      "text/plain": [
       "[(array([[1.82983423e+03, 0.00000000e+00, 1.91572046e+03],\n",
       "         [0.00000000e+00, 1.82983423e+03, 1.09876086e+03],\n",
       "         [0.00000000e+00, 0.00000000e+00, 1.00000000e+00]]),\n",
       "  array([ 7.09966481e-01, -2.73409390e+00,  1.45804870e-03, -3.24774766e-04,\n",
       "          1.44911301e+00,  5.84310412e-01, -2.56374550e+00,  1.38472950e+00])),\n",
       " (array([[1.39560388e+03, 0.00000000e+00, 9.62751587e+02],\n",
       "         [0.00000000e+00, 1.39531934e+03, 5.47687012e+02],\n",
       "         [0.00000000e+00, 0.00000000e+00, 1.00000000e+00]]),\n",
       "  array([0., 0., 0., 0., 0.])),\n",
       " array([[ 0.8281462 , -0.02252063, -0.5600595 ,  0.64759785],\n",
       "        [ 0.17067207,  0.96187705,  0.21369046, -0.16164917],\n",
       "        [ 0.5338959 , -0.27255347,  0.8004185 ,  0.09115803],\n",
       "        [ 0.        ,  0.        ,  0.        ,  1.        ]],\n",
       "       dtype=float32)]"
      ]
     },
     "execution_count": 3,
     "metadata": {},
     "output_type": "execute_result"
    }
   ],
   "source": [
    "from pkg.detector.aruco.marker_config import *\n",
    "from pkg.detector.aruco.stereo import ArucoStereo\n",
    "from pkg.detector.camera.realsense import RealSense\n",
    "from pkg.detector.camera.kinect import Kinect\n",
    "aruco_map = get_aruco_map()\n",
    "stereo = ArucoStereo(aruco_map, [Kinect(), RealSense()])\n",
    "stereo.initialize()\n",
    "stereo.calibrate()"
   ]
  },
  {
   "cell_type": "code",
   "execution_count": null,
   "metadata": {},
   "outputs": [],
   "source": []
  },
  {
   "cell_type": "markdown",
   "metadata": {},
   "source": [
    "## create scene builder"
   ]
  },
  {
   "cell_type": "code",
   "execution_count": 4,
   "metadata": {},
   "outputs": [],
   "source": [
    "from pkg.geometry.builder.scene_builder import SceneBuilder\n",
    "s_builder = SceneBuilder(stereo)\n",
    "s_builder.reset_reference_coord(ref_name=\"floor\")"
   ]
  },
  {
   "cell_type": "code",
   "execution_count": null,
   "metadata": {},
   "outputs": [],
   "source": []
  },
  {
   "cell_type": "markdown",
   "metadata": {},
   "source": [
    "## detect robot and make geometry scene"
   ]
  },
  {
   "cell_type": "code",
   "execution_count": 5,
   "metadata": {},
   "outputs": [
    {
     "name": "stderr",
     "output_type": "stream",
     "text": [
      "Unknown tag \"hardwareInterface\" in /robot[@name='custom_robots']/transmission[@name='indy0_tran0']/actuator[@name='indy0_motor0']\n",
      "Unknown tag \"hardwareInterface\" in /robot[@name='custom_robots']/transmission[@name='indy0_tran1']/actuator[@name='indy0_motor1']\n",
      "Unknown tag \"hardwareInterface\" in /robot[@name='custom_robots']/transmission[@name='indy0_tran2']/actuator[@name='indy0_motor2']\n",
      "Unknown tag \"hardwareInterface\" in /robot[@name='custom_robots']/transmission[@name='indy0_tran3']/actuator[@name='indy0_motor3']\n",
      "Unknown tag \"hardwareInterface\" in /robot[@name='custom_robots']/transmission[@name='indy0_tran4']/actuator[@name='indy0_motor4']\n",
      "Unknown tag \"hardwareInterface\" in /robot[@name='custom_robots']/transmission[@name='indy0_tran5']/actuator[@name='indy0_motor5']\n"
     ]
    },
    {
     "name": "stdout",
     "output_type": "stream",
     "text": [
      "Please create a subscriber to the marker\n",
      "publication OK\n",
      "published: [0, 0, 0, 0, 0, 0, 0, 0, 0, 0, 0, 0, 0]\n"
     ]
    }
   ],
   "source": [
    "xyz_rpy_robots = s_builder.detect_items(level_mask=[DetectionLevel.ROBOT])\n",
    "crob.update_robot_pos_dict(xyz_rpy_robots=xyz_rpy_robots)\n",
    "gscene = s_builder.create_gscene(crob)"
   ]
  },
  {
   "cell_type": "code",
   "execution_count": null,
   "metadata": {},
   "outputs": [],
   "source": []
  },
  {
   "cell_type": "markdown",
   "metadata": {},
   "source": [
    "## init planning pipeline"
   ]
  },
  {
   "cell_type": "code",
   "execution_count": 6,
   "metadata": {},
   "outputs": [
    {
     "name": "stdout",
     "output_type": "stream",
     "text": [
      "Dash is running on http://0.0.0.0:8050/\n",
      "\n",
      " * Serving Flask app \"pkg.ui.dash_launcher\" (lazy loading)\n",
      " * Environment: production\n",
      "   WARNING: This is a development server. Do not use it in a production deployment.\n",
      "   Use a production WSGI server instead.\n",
      " * Debug mode: off\n",
      "generate table - Geometry\n",
      "generate table - Object\n",
      "generate table - Handle\n",
      "generate table - Binder\n",
      "generate table - Marker\n",
      "generate table - MarkerGroup\n",
      "generate table - Geometry\n",
      "generate table - Object\n"
     ]
    }
   ],
   "source": [
    "from pkg.planning.scene import PlanningScene\n",
    "pscene = PlanningScene(gscene, combined_robot=crob)\n",
    "\n",
    "from pkg.planning.pipeline import PlanningPipeline\n",
    "ppline = PlanningPipeline(pscene)\n",
    "\n",
    "from pkg.ui.ui_broker import *\n",
    "\n",
    "# start UI\n",
    "ui_broker = UIBroker.instance()\n",
    "ui_broker.initialize(ppline, s_builder)\n",
    "ui_broker.start_server()\n",
    "\n",
    "ui_broker.set_tables()"
   ]
  },
  {
   "cell_type": "markdown",
   "metadata": {},
   "source": [
    "```\n",
    "open web ui on <your ip>:8050\n",
    "click geometry items / Handles / Binders to highlight geometry on RVIZ\n",
    "other functions may be buggy.. please report\n",
    "```"
   ]
  },
  {
   "cell_type": "code",
   "execution_count": null,
   "metadata": {},
   "outputs": [],
   "source": []
  },
  {
   "cell_type": "markdown",
   "metadata": {},
   "source": [
    "## add environment"
   ]
  },
  {
   "cell_type": "code",
   "execution_count": 7,
   "metadata": {},
   "outputs": [
    {
     "name": "stdout",
     "output_type": "stream",
     "text": [
      "Please create a subscriber to the marker\n"
     ]
    }
   ],
   "source": [
    "gtem_dict = s_builder.detect_and_register(level_mask=[DetectionLevel.ENVIRONMENT])"
   ]
  },
  {
   "cell_type": "code",
   "execution_count": 8,
   "metadata": {},
   "outputs": [],
   "source": [
    "# add cam poles\n",
    "ptems = s_builder.add_poles({\"cam0\": s_builder.ref_coord_inv[:3,3], \"cam1\":np.matmul(s_builder.ref_coord_inv, stereo.T_c12)[:3,3]},\n",
    "                            color=(0.6,0.6,0.6,0.0))"
   ]
  },
  {
   "cell_type": "code",
   "execution_count": 9,
   "metadata": {},
   "outputs": [],
   "source": [
    "gtems = s_builder.add_robot_geometries(color=(0,1,0,0.5), display=True, collision=True)"
   ]
  },
  {
   "cell_type": "code",
   "execution_count": 10,
   "metadata": {},
   "outputs": [],
   "source": [
    " gscene.NAME_DICT[\"floor\"].dims = (2,1,0.01)"
   ]
  },
  {
   "cell_type": "code",
   "execution_count": 11,
   "metadata": {},
   "outputs": [],
   "source": [
    "gscene.set_workspace_boundary( -1, 1, -0.5, 0.5, -0.1, 1.1)"
   ]
  },
  {
   "cell_type": "code",
   "execution_count": null,
   "metadata": {},
   "outputs": [],
   "source": []
  },
  {
   "cell_type": "markdown",
   "metadata": {},
   "source": [
    "## add sweep face\n",
    "* Put \"track\" marker as shown in the figure, on the edge of the whiteboard\n",
    "* After detecting the track, remove the marker to make it possible to sweep the surface"
   ]
  },
  {
   "cell_type": "code",
   "execution_count": 12,
   "metadata": {},
   "outputs": [],
   "source": [
    "track = s_builder.detect_and_register(item_names=[\"track\"], level_mask=[DetectionLevel.ENVIRONMENT])[\"track\"]\n",
    "track_face = gscene.copy_from(track, new_name=\"track_face\", collision=False)\n",
    "track_face.dims = (track.dims[0]-0.22, track.dims[1]-0.12, track.dims[2])\n",
    "# track.dims = (track.dims[0]-0.32, track.dims[1]-0.12, track.dims[2])"
   ]
  },
  {
   "cell_type": "code",
   "execution_count": 13,
   "metadata": {},
   "outputs": [],
   "source": [
    "gscene.update_markers_all()"
   ]
  },
  {
   "cell_type": "code",
   "execution_count": null,
   "metadata": {},
   "outputs": [],
   "source": []
  },
  {
   "cell_type": "markdown",
   "metadata": {},
   "source": [
    "## add wp"
   ]
  },
  {
   "cell_type": "code",
   "execution_count": 14,
   "metadata": {},
   "outputs": [],
   "source": [
    "TOOL_DIM = [0.06, 0.10]\n",
    "TRACK_DIM = track_face.dims\n",
    "TRACK_NUM = np.ceil(np.divide(TRACK_DIM[1]-TOOL_DIM[1], TOOL_DIM[1])).astype(np.int)+1\n",
    "TRACK_STEP = (TRACK_DIM[1]-TOOL_DIM[1])/(TRACK_NUM-1)\n",
    "WP_REF_A = -np.subtract(TRACK_DIM[:2], TOOL_DIM[:2])/2\n",
    "WP_REF_B = np.array([-WP_REF_A[0], WP_REF_A[1]])\n",
    "TRC_THIC = TRACK_DIM[2]\n",
    "track_list = []\n",
    "for i_trc in range(TRACK_NUM):\n",
    "    wp1 = gscene.create_safe(GEOTYPE.BOX, \"wp{}a\".format(i_trc+1), \"base_link\", (TOOL_DIM[0]/2,TOOL_DIM[1]/2,TRC_THIC), \n",
    "                             tuple(WP_REF_A+[0,TRACK_STEP*i_trc])+(0,),rpy=(0,0,0), \n",
    "                             color=(0.8,0.2,0.2,0.2), display=True, fixed=True, collision=False, parent=\"track_face\")\n",
    "    wp2 = gscene.create_safe(GEOTYPE.BOX, \"wp{}b\".format(i_trc+1), \"base_link\", (TOOL_DIM[0]/2,TOOL_DIM[1]/2,TRC_THIC), \n",
    "                             tuple(WP_REF_B+[0,TRACK_STEP*i_trc])+(0,),rpy=(0,0,0), \n",
    "                             color=(0.8,0.2,0.2,0.2), display=True, fixed=True, collision=False, parent=\"track_face\")\n",
    "    line = gscene.create_safe(GEOTYPE.BOX, \"trc{}\".format(i_trc+1), \"base_link\", (TRACK_DIM[0]*2, TRACK_DIM[0]*2, 1e-6), \n",
    "                               (0,WP_REF_A[1]+TRACK_STEP*i_trc,0), rpy=(np.pi/2,0,0), \n",
    "                               color=(0.8,0.2,0.2,0.2), display=False, fixed=True, collision=False, parent=\"track_face\")\n",
    "    line_vis = gscene.create_safe(GEOTYPE.BOX, \"trc{}vis\".format(i_trc+1), \"base_link\", (TRACK_DIM[0], 0.01, 1e-6), \n",
    "                               (0,WP_REF_A[1]+TRACK_STEP*i_trc,0), rpy=(np.pi/2,0,0), \n",
    "                               color=(0.8,0.2,0.2,0.2), display=True, fixed=True, collision=False, parent=\"track_face\")\n",
    "    track_list.append((wp1, wp2, line))"
   ]
  },
  {
   "cell_type": "code",
   "execution_count": 15,
   "metadata": {},
   "outputs": [],
   "source": [
    "gscene.update_markers_all()"
   ]
  },
  {
   "cell_type": "code",
   "execution_count": null,
   "metadata": {},
   "outputs": [],
   "source": []
  },
  {
   "cell_type": "markdown",
   "metadata": {},
   "source": [
    "## add indy tool"
   ]
  },
  {
   "cell_type": "code",
   "execution_count": 16,
   "metadata": {},
   "outputs": [
    {
     "data": {
      "text/plain": [
       "<pkg.geometry.geometry.GeometryItem at 0x7fd97c1471d0>"
      ]
     },
     "execution_count": 16,
     "metadata": {},
     "output_type": "execute_result"
    }
   ],
   "source": [
    "gscene.create_safe(gtype=GEOTYPE.CYLINDER, name=\"indy0_fts\", link_name=\"indy0_tcp\",\n",
    "                            center=(0,0,0.02), dims=(0.07,0.07, 0.04), rpy=(0,0,0), color=(0.8,0.8,0.8,1),\n",
    "                            collision=False)\n",
    "gscene.create_safe(gtype=GEOTYPE.CYLINDER, name=\"indy0_fts_col\", link_name=\"indy0_tcp\",\n",
    "                            center=(0,0,0.02), dims=(0.11,0.11, 0.04), rpy=(0,0,0), color=(0.0,0.8,0.0,0.5),\n",
    "                            collision=True)\n",
    "gscene.create_safe(gtype=GEOTYPE.CYLINDER, name=\"indy0_pole\", link_name=\"indy0_tcp\",\n",
    "                            center=(0,0,0.055), dims=(0.03,0.03, 0.030), rpy=(0,0,0), color=(0.8,0.8,0.8,1),\n",
    "                            collision=False)\n",
    "gscene.create_safe(gtype=GEOTYPE.CYLINDER, name=\"indy0_pole_col\", link_name=\"indy0_tcp\",\n",
    "                            center=(0,0,0.055), dims=(0.07,0.07, 0.030), rpy=(0,0,0), color=(0.0,0.8,0.0,0.2),\n",
    "                            collision=True)\n",
    "\n",
    "gscene.create_safe(gtype=GEOTYPE.BOX, name=\"indy0_brushbase\", link_name=\"indy0_tcp\",\n",
    "                            center=(0,0,0.0775), dims=(0.06, 0.14, 0.015), rpy=(0,0,np.pi/4), color=(0.8,0.8,0.8,1),\n",
    "                            collision=False)\n",
    "gscene.create_safe(gtype=GEOTYPE.BOX, name=\"brush_face\", link_name=\"indy0_tcp\",\n",
    "                            center=(0,0,0.095), dims=(0.05,0.13, 0.015), rpy=(0,0,np.pi/4), color=(1.0,1.0,0.94,1),\n",
    "                            collision=False)\n",
    "gscene.create_safe(gtype=GEOTYPE.BOX, name=\"brush_face_col\", link_name=\"indy0_tcp\",\n",
    "                            center=(0,0,0.080), dims=(0.08,0.18, 0.02), rpy=(0,0,np.pi/4), color=(0.0,0.8,0.0,0.5),\n",
    "                            collision=True)"
   ]
  },
  {
   "cell_type": "code",
   "execution_count": null,
   "metadata": {},
   "outputs": [],
   "source": []
  },
  {
   "cell_type": "markdown",
   "metadata": {},
   "source": [
    "## add box"
   ]
  },
  {
   "cell_type": "code",
   "execution_count": 24,
   "metadata": {},
   "outputs": [],
   "source": [
    "gtem_dict = s_builder.detect_and_register(level_mask=[DetectionLevel.MOVABLE])"
   ]
  },
  {
   "cell_type": "code",
   "execution_count": 25,
   "metadata": {},
   "outputs": [],
   "source": [
    "# give clearance from the track surface\n",
    "s_builder.give_clearance(track, gtem_dict.values())"
   ]
  },
  {
   "cell_type": "code",
   "execution_count": 26,
   "metadata": {},
   "outputs": [],
   "source": [
    "gscene.update_markers_all()"
   ]
  },
  {
   "cell_type": "code",
   "execution_count": null,
   "metadata": {},
   "outputs": [],
   "source": []
  },
  {
   "cell_type": "markdown",
   "metadata": {},
   "source": [
    "## Register binders"
   ]
  },
  {
   "cell_type": "code",
   "execution_count": 27,
   "metadata": {},
   "outputs": [],
   "source": [
    "from pkg.planning.constraint.constraint_actor import Gripper2Tool, PlacePlane, SweepTool, SweepFramer, FixtureSlot"
   ]
  },
  {
   "cell_type": "code",
   "execution_count": 28,
   "metadata": {},
   "outputs": [
    {
     "data": {
      "text/plain": [
       "<pkg.planning.constraint.constraint_actor.SweepFramer at 0x7fd951170790>"
      ]
     },
     "execution_count": 28,
     "metadata": {},
     "output_type": "execute_result"
    }
   ],
   "source": [
    "gscene.create_safe(gtype=GEOTYPE.SPHERE, name=\"grip1\", link_name=\"panda1_hand\", \n",
    "                 dims=(0.01,)*3, center=(0,0,0.112), rpy=(-np.pi/2,0,0), color=(1,0,0,1), display=True, collision=False, fixed=True)\n",
    "\n",
    "pscene.create_binder(bname=\"grip1\", gname=\"grip1\", _type=Gripper2Tool, point=(0,0,0), rpy=(0,0,0))\n",
    "pscene.create_binder(bname=\"track_face\", gname=\"track_face\", _type=PlacePlane)\n",
    "pscene.create_binder(bname=\"brush_face\", gname=\"brush_face\", _type=SweepFramer, point=(0,0,0.00), \n",
    "                     rpy=(0,np.pi,0))"
   ]
  },
  {
   "cell_type": "code",
   "execution_count": null,
   "metadata": {},
   "outputs": [],
   "source": []
  },
  {
   "cell_type": "markdown",
   "metadata": {},
   "source": [
    "## add objects"
   ]
  },
  {
   "cell_type": "code",
   "execution_count": 29,
   "metadata": {},
   "outputs": [],
   "source": [
    "from pkg.planning.constraint.constraint_subject import \\\n",
    "        CustomObject, Grasp2Point, PlacePoint, SweepPoint, SweepFrame, SweepTask, BoxObject, FixturePoint, AbstractObject"
   ]
  },
  {
   "cell_type": "code",
   "execution_count": 30,
   "metadata": {},
   "outputs": [],
   "source": [
    "box1 = pscene.create_subject(oname=\"box1\", gname=\"box1\", _type=BoxObject, hexahedral=True)\n",
    "box2 = pscene.create_subject(oname=\"box2\", gname=\"box2\", _type=BoxObject, hexahedral=True)\n",
    "# box3= pscene.create_subject(oname=\"box3\", gname=\"box3\", _type=BoxObject, hexahedral=True)"
   ]
  },
  {
   "cell_type": "code",
   "execution_count": 31,
   "metadata": {},
   "outputs": [],
   "source": [
    "from pkg.planning.constraint.constraint_common import MotionConstraint\n",
    "from pkg.planning.constraint.constraint_subject import AbstractTask\n",
    "from pkg.planning.constraint.constraint_subject import SweepLineTask"
   ]
  },
  {
   "cell_type": "code",
   "execution_count": 32,
   "metadata": {},
   "outputs": [],
   "source": [
    "for i_t, track_tem in enumerate(track_list):\n",
    "    wp1, wp2, tline = track_tem\n",
    "    sweep1 = pscene.create_subject(oname=\"sweep{}\".format(i_t+1), gname=\"track_face\", _type=SweepLineTask, \n",
    "                                 action_points_dict = {wp1.name: SweepFrame(wp1.name, wp1, [0,0,0.005], [0,0,0]),\n",
    "                                                       wp2.name: SweepFrame(wp2.name, wp2, [0,0,0.005], [0,0,0])},\n",
    "                                geometry_vertical = tline)"
   ]
  },
  {
   "cell_type": "code",
   "execution_count": null,
   "metadata": {},
   "outputs": [],
   "source": []
  },
  {
   "cell_type": "markdown",
   "metadata": {},
   "source": [
    "### planners"
   ]
  },
  {
   "cell_type": "code",
   "execution_count": 33,
   "metadata": {
    "scrolled": false
   },
   "outputs": [],
   "source": [
    "from pkg.planning.motion.moveit.moveit_planner import MoveitPlanner\n",
    "mplan = MoveitPlanner(pscene)\n",
    "mplan.update_gscene()\n",
    "from pkg.planning.task.rrt import TaskRRT\n",
    "tplan = TaskRRT(pscene)\n",
    "tplan.prepare()\n",
    "ppline.set_motion_planner(mplan)\n",
    "ppline.set_task_planner(tplan)"
   ]
  },
  {
   "cell_type": "code",
   "execution_count": null,
   "metadata": {},
   "outputs": [],
   "source": []
  },
  {
   "cell_type": "markdown",
   "metadata": {},
   "source": [
    "## motion filters"
   ]
  },
  {
   "cell_type": "code",
   "execution_count": 34,
   "metadata": {},
   "outputs": [],
   "source": [
    "from pkg.planning.filtering.grasp_filter import GraspChecker\n",
    "from pkg.planning.filtering.reach_filter import ReachChecker\n",
    "from pkg.planning.filtering.latticized_filter import LatticedChecker\n",
    "\n",
    "gcheck = GraspChecker(pscene)\n",
    "rcheck = ReachChecker(pscene)\n",
    "checkers_all = [gcheck, rcheck]\n",
    "# lcheck = LatticedChecker(pscene, gcheck)\n",
    "# checkers_all.append(lcheck)"
   ]
  },
  {
   "cell_type": "code",
   "execution_count": 35,
   "metadata": {},
   "outputs": [],
   "source": [
    "mplan.motion_filters = checkers_all"
   ]
  },
  {
   "cell_type": "code",
   "execution_count": 36,
   "metadata": {},
   "outputs": [],
   "source": [
    "gscene.show_pose(crob.home_pose)"
   ]
  },
  {
   "cell_type": "code",
   "execution_count": null,
   "metadata": {},
   "outputs": [],
   "source": []
  },
  {
   "cell_type": "markdown",
   "metadata": {},
   "source": [
    "## Set initial condition"
   ]
  },
  {
   "cell_type": "code",
   "execution_count": 37,
   "metadata": {},
   "outputs": [
    {
     "name": "stdout",
     "output_type": "stream",
     "text": [
      "('track_face', 'track_face', 0, 0, 0)\n"
     ]
    }
   ],
   "source": [
    "from pkg.planning.constraint.constraint_common \\\n",
    "            import sample_redundancy, combine_redundancy\n",
    "gtimer = GlobalTimer.instance()\n",
    "initial_state = pscene.update_state(crob.home_pose)\n",
    "print(initial_state.node)"
   ]
  },
  {
   "cell_type": "code",
   "execution_count": 38,
   "metadata": {},
   "outputs": [
    {
     "data": {
      "text/plain": [
       "['box1', 'box2', 'sweep1', 'sweep2', 'sweep3']"
      ]
     },
     "execution_count": 38,
     "metadata": {},
     "output_type": "execute_result"
    }
   ],
   "source": [
    "pscene.subject_name_list"
   ]
  },
  {
   "cell_type": "code",
   "execution_count": null,
   "metadata": {},
   "outputs": [],
   "source": []
  },
  {
   "cell_type": "markdown",
   "metadata": {},
   "source": [
    "# Node Sampler"
   ]
  },
  {
   "cell_type": "code",
   "execution_count": 39,
   "metadata": {},
   "outputs": [],
   "source": [
    "from pkg.planning.sampling.node_sampling import make_state_param_hashable, UniformNodeSampler, PenaltyNodeSampler, GrowingSampler\n",
    "\n",
    "tplan.new_node_sampler = PenaltyNodeSampler(3, 1)\n",
    "tplan.parent_node_sampler = UniformNodeSampler(3)\n",
    "# tplan.parent_snode_sampler = GrowingSampler(3)"
   ]
  },
  {
   "cell_type": "code",
   "execution_count": null,
   "metadata": {},
   "outputs": [],
   "source": []
  },
  {
   "cell_type": "markdown",
   "metadata": {},
   "source": [
    "# CustomRule"
   ]
  },
  {
   "cell_type": "code",
   "execution_count": 40,
   "metadata": {},
   "outputs": [],
   "source": [
    "from pkg.planning.task.custom_rules.sweep_entrance_control import SweepEntranceControlRule\n",
    "tplan.custom_rule = SweepEntranceControlRule(pscene)"
   ]
  },
  {
   "cell_type": "code",
   "execution_count": null,
   "metadata": {},
   "outputs": [],
   "source": []
  },
  {
   "cell_type": "markdown",
   "metadata": {},
   "source": [
    "## Plan"
   ]
  },
  {
   "cell_type": "code",
   "execution_count": 41,
   "metadata": {
    "scrolled": true
   },
   "outputs": [
    {
     "name": "stdout",
     "output_type": "stream",
     "text": [
      "Use 20/20 agents\n",
      "try: 0 - ('track_face', 'track_face', 0, 0, 0)->('track_face', 'track_face', 1, 0, 0)\n",
      "result: 0 - ('track_face', 'track_face', 0, 0, 0)->('track_face', 'track_face', 1, 0, 0) = fail\n",
      "try: 0 - ('track_face', 'track_face', 0, 0, 0)->('track_face', 'grip1', 0, 0, 0)\n",
      "try: 0 - ('track_face', 'track_face', 0, 0, 0)->('grip1', 'track_face', 0, 0, 0)\n",
      "result: 0 - ('track_face', 'track_face', 0, 0, 0)->('track_face', 'grip1', 0, 0, 0) = fail\n",
      "try: 0 - ('track_face', 'track_face', 0, 0, 0)->('grip1', 'track_face', 0, 0, 0)\n",
      "try transition motion\n",
      "result: 0 - ('track_face', 'track_face', 0, 0, 0)->('grip1', 'track_face', 0, 0, 0) = fail\n",
      "try: 0 - ('track_face', 'track_face', 0, 0, 0)->('track_face', 'grip1', 0, 0, 0)\n",
      "result: 0 - ('track_face', 'track_face', 0, 0, 0)->('track_face', 'grip1', 0, 0, 0) = fail\n",
      "try: 0 - ('track_face', 'track_face', 0, 0, 0)->('grip1', 'track_face', 0, 0, 0)\n",
      "result: 0 - ('track_face', 'track_face', 0, 0, 0)->('grip1', 'track_face', 0, 0, 0) = fail\n",
      "try: 0 - ('track_face', 'track_face', 0, 0, 0)->('track_face', 'grip1', 0, 0, 0)\n",
      "try: 0 - ('track_face', 'track_face', 0, 0, 0)->('grip1', 'track_face', 0, 0, 0)\n",
      "try: 0 - ('track_face', 'track_face', 0, 0, 0)->('track_face', 'grip1', 0, 0, 0)\n",
      "result: 0 - ('track_face', 'track_face', 0, 0, 0)->('track_face', 'grip1', 0, 0, 0) = fail\n",
      "result: 0 - ('track_face', 'track_face', 0, 0, 0)->('grip1', 'track_face', 0, 0, 0) = fail\n",
      "try: 0 - ('track_face', 'track_face', 0, 0, 0)->('grip1', 'track_face', 0, 0, 0)\n",
      "try transition motion\n",
      "try: 0 - ('track_face', 'track_face', 0, 0, 0)->('track_face', 'grip1', 0, 0, 0)\n",
      "try: 0 - ('track_face', 'track_face', 0, 0, 0)->('track_face', 'grip1', 0, 0, 0)\n",
      "result: 0 - ('track_face', 'track_face', 0, 0, 0)->('grip1', 'track_face', 0, 0, 0) = fail\n",
      "try: 0 - ('track_face', 'track_face', 0, 0, 0)->('grip1', 'track_face', 0, 0, 0)\n",
      "try transition motion\n",
      "try transition motion\n",
      "transition motion tried: True\n",
      "try transition motion\n",
      "result: 0 - ('track_face', 'track_face', 0, 0, 0)->('grip1', 'track_face', 0, 0, 0) = success\n",
      "branching: 0->1 (0.32/200.0 s, steps/err: 35(182.676076889 ms)/0.0014905924275)\n",
      "try: 1 - ('grip1', 'track_face', 0, 0, 0)->('grip1', 'track_face', 0, 0, 0)\n",
      "try: 1 - ('grip1', 'track_face', 0, 0, 0)->('grip1', 'track_face', 1, 0, 0)\n",
      "transition motion tried: True\n",
      "try joint motion\n",
      "result: 0 - ('track_face', 'track_face', 0, 0, 0)->('track_face', 'grip1', 0, 0, 0) = success\n",
      "======================================================================================================================================================\n",
      "branching: 0->2 (0.37/200.0 s, steps/err: 17(84.9101543427 ms)/0.00203073660942)\n",
      "try: 2 - ('track_face', 'grip1', 0, 0, 0)->('track_face', 'grip1', 0, 0, 0)\n",
      "transition motion tried: True\n",
      "transition motion tried: True\n",
      "result: 1 - ('grip1', 'track_face', 0, 0, 0)->('grip1', 'track_face', 1, 0, 0) = fail\n",
      "transition motion tried: True\n",
      "try joint motion\n",
      "result: 0 - ('track_face', 'track_face', 0, 0, 0)->('grip1', 'track_face', 0, 0, 0) = success\n",
      "try: 2 - ('track_face', 'grip1', 0, 0, 0)->('track_face', 'grip1', 1, 0, 0)\n",
      "try joint motion\n",
      "result: 0 - ('track_face', 'track_face', 0, 0, 0)->('track_face', 'grip1', 0, 0, 0) = success\n",
      "result: 0 - ('track_face', 'track_face', 0, 0, 0)->('track_face', 'grip1', 0, 0, 0) = success\n",
      "======================================================================================================================================================\n",
      "branching: 0->3 (0.42/200.0 s, steps/err: 19(117.749214172 ms)/0.00155955103793)\n",
      "joint motion tried: True\n",
      "try: 3 - ('grip1', 'track_face', 0, 0, 0)->('grip1', 'track_face', 0, 0, 0)\n",
      "branching: 0->5 (0.44/200.0 s, steps/err: 29(188.505172729 ms)/0.00220329832888)\n",
      "branching: 0->4 (0.44/200.0 s, steps/err: 31(153.143167496 ms)/0.00172188853702)\n",
      "======================================================================================================================================================\n",
      "result: 2 - ('track_face', 'grip1', 0, 0, 0)->('track_face', 'grip1', 1, 0, 0) = fail\n",
      "result: 1 - ('grip1', 'track_face', 0, 0, 0)->('grip1', 'track_face', 0, 0, 0) = success\n",
      "branching: 1->6 (0.46/200.0 s, steps/err: 34(102.333068848 ms)/5.5686787442e-16)\n",
      "======================================================================================================================================================\n",
      "try: 4 - ('track_face', 'grip1', 0, 0, 0)->('track_face', 'grip1', 0, 0, 0)\n",
      "======================================================================================================================================================\n",
      "try: 3 - ('grip1', 'track_face', 0, 0, 0)->('grip1', 'track_face', 1, 0, 0)\n",
      "======================================================================================================================================================\n",
      "joint motion tried: True\n",
      "try: 5 - ('track_face', 'grip1', 0, 0, 0)->('track_face', 'grip1', 0, 0, 0)\n",
      "try: 4 - ('track_face', 'grip1', 0, 0, 0)->('track_face', 'grip1', 1, 0, 0)\n",
      "try: 5 - ('track_face', 'grip1', 0, 0, 0)->('track_face', 'grip1', 1, 0, 0)\n",
      "result: 3 - ('grip1', 'track_face', 0, 0, 0)->('grip1', 'track_face', 1, 0, 0) = fail\n",
      "result: 2 - ('track_face', 'grip1', 0, 0, 0)->('track_face', 'grip1', 0, 0, 0) = success\n",
      "try joint motion\n",
      "try joint motion\n",
      "branching: 2->7 (0.5/200.0 s, steps/err: 17(79.4570446014 ms)/4.24841542936e-16)\n",
      "======================================================================================================================================================\n",
      "try: 6 - ('grip1', 'track_face', 0, 0, 0)->('grip1', 'track_face', 1, 0, 0)\n",
      "result: 5 - ('track_face', 'grip1', 0, 0, 0)->('track_face', 'grip1', 1, 0, 0) = fail\n",
      "try: 7 - ('track_face', 'grip1', 0, 0, 0)->('track_face', 'grip1', 1, 0, 0)\n",
      "result: 4 - ('track_face', 'grip1', 0, 0, 0)->('track_face', 'grip1', 1, 0, 0) = fail\n",
      "try: 1 - ('grip1', 'track_face', 0, 0, 0)->('track_face', 'track_face', 0, 0, 0)\n",
      "joint motion tried: True\n",
      "result: 4 - ('track_face', 'grip1', 0, 0, 0)->('track_face', 'grip1', 0, 0, 0) = success\n",
      "joint motion tried: True\n",
      "try: 5 - ('track_face', 'grip1', 0, 0, 0)->('track_face', 'track_face', 0, 0, 0)\n",
      "branching: 3->8 (0.56/200.0 s, steps/err: 19(105.875015259 ms)/8.90539426537e-16)\n",
      "result: 7 - ('track_face', 'grip1', 0, 0, 0)->('track_face', 'grip1', 1, 0, 0) = fail\n",
      "result: 3 - ('grip1', 'track_face', 0, 0, 0)->('grip1', 'track_face', 0, 0, 0) = success\n",
      "try: 7 - ('track_face', 'grip1', 0, 0, 0)->('track_face', 'track_face', 0, 0, 0)\n",
      "joint motion tried: True\n",
      "try transition motion\n",
      "result: 5 - ('track_face', 'grip1', 0, 0, 0)->('track_face', 'track_face', 0, 0, 0) = fail\n",
      "branching: 4->9 (0.57/200.0 s, steps/err: 31(76.2708187103 ms)/9.20509689217e-16)\n",
      "try transition motion\n",
      "result: 5 - ('track_face', 'grip1', 0, 0, 0)->('track_face', 'grip1', 0, 0, 0) = success\n",
      "======================================================================================================================================================\n",
      "======================================================================================================================================================\n",
      "try: 10 - ('track_face', 'grip1', 0, 0, 0)->('track_face', 'grip1', 1, 0, 0)\n",
      "result: 7 - ('track_face', 'grip1', 0, 0, 0)->('track_face', 'track_face', 0, 0, 0) = fail\n",
      "try: 9 - ('track_face', 'grip1', 0, 0, 0)->('track_face', 'grip1', 1, 0, 0)\n",
      "try: 8 - ('grip1', 'track_face', 0, 0, 0)->('grip1', 'track_face', 1, 0, 0)\n",
      "try: 6 - ('grip1', 'track_face', 0, 0, 0)->('track_face', 'track_face', 0, 0, 0)\n",
      "branching: 5->10 (0.6/200.0 s, steps/err: 29(63.2808208466 ms)/9.91630205241e-16)\n",
      "result: 10 - ('track_face', 'grip1', 0, 0, 0)->('track_face', 'grip1', 1, 0, 0) = fail\n",
      "try transition motion\n",
      "try: 9 - ('track_face', 'grip1', 0, 0, 0)->('track_face', 'track_face', 0, 0, 0)\n",
      "======================================================================================================================================================\n",
      "result: 9 - ('track_face', 'grip1', 0, 0, 0)->('track_face', 'grip1', 1, 0, 0) = fail\n",
      "result: 6 - ('grip1', 'track_face', 0, 0, 0)->('track_face', 'track_face', 0, 0, 0) = fail\n",
      "result: 9 - ('track_face', 'grip1', 0, 0, 0)->('track_face', 'track_face', 0, 0, 0) = fail\n",
      "try: 6 - ('grip1', 'track_face', 0, 0, 0)->('track_face', 'track_face', 0, 0, 0)\n"
     ]
    },
    {
     "name": "stdout",
     "output_type": "stream",
     "text": [
      "try: 6 - ('grip1', 'track_face', 0, 0, 0)->('track_face', 'track_face', 0, 0, 0)\n",
      "try: 9 - ('track_face', 'grip1', 0, 0, 0)->('track_face', 'track_face', 0, 0, 0)\n",
      "try: 0 - ('track_face', 'track_face', 0, 0, 0)->('grip1', 'track_face', 0, 0, 0)\n",
      "result: 9 - ('track_face', 'grip1', 0, 0, 0)->('track_face', 'track_face', 0, 0, 0) = fail\n",
      "result: 6 - ('grip1', 'track_face', 0, 0, 0)->('track_face', 'track_face', 0, 0, 0) = fail\n",
      "try: 0 - ('track_face', 'track_face', 0, 0, 0)->('track_face', 'grip1', 0, 0, 0)\n",
      "result: 0 - ('track_face', 'track_face', 0, 0, 0)->('grip1', 'track_face', 0, 0, 0) = fail\n",
      "transition motion tried: True\n",
      "try: 0 - ('track_face', 'track_face', 0, 0, 0)->('grip1', 'track_face', 0, 0, 0)\n",
      "result: 0 - ('track_face', 'track_face', 0, 0, 0)->('track_face', 'grip1', 0, 0, 0) = fail\n",
      "result: 6 - ('grip1', 'track_face', 0, 0, 0)->('track_face', 'track_face', 0, 0, 0) = fail\n",
      "try: 10 - ('track_face', 'grip1', 0, 0, 0)->('track_face', 'track_face', 0, 0, 0)\n",
      "try: 0 - ('track_face', 'track_face', 0, 0, 0)->('track_face', 'grip1', 0, 0, 0)\n",
      "try: 0 - ('track_face', 'track_face', 0, 0, 0)->('track_face', 'grip1', 0, 0, 0)\n",
      "result: 1 - ('grip1', 'track_face', 0, 0, 0)->('track_face', 'track_face', 0, 0, 0) = success\n",
      "branching: 1->11 (0.67/200.0 s, steps/err: 41(112.478971481 ms)/0.0010519766625)\n",
      "result: 0 - ('track_face', 'track_face', 0, 0, 0)->('track_face', 'grip1', 0, 0, 0) = fail\n",
      "try: 11 - ('track_face', 'track_face', 0, 0, 0)->('track_face', 'track_face', 0, 0, 0)\n",
      "======================================================================================================================================================\n",
      "result: 10 - ('track_face', 'grip1', 0, 0, 0)->('track_face', 'track_face', 0, 0, 0) = fail\n",
      "result: 0 - ('track_face', 'track_face', 0, 0, 0)->('grip1', 'track_face', 0, 0, 0) = fail\n",
      "try transition motion\n",
      "try: 11 - ('track_face', 'track_face', 0, 0, 0)->('grip1', 'track_face', 0, 0, 0)\n",
      "try joint motion\n",
      "try: 11 - ('track_face', 'track_face', 0, 0, 0)->('track_face', 'track_face', 1, 0, 0)\n",
      "try: 1 - ('grip1', 'track_face', 0, 0, 0)->('track_face', 'track_face', 0, 0, 0)\n",
      "result: 11 - ('track_face', 'track_face', 0, 0, 0)->('grip1', 'track_face', 0, 0, 0) = fail\n",
      "result: 11 - ('track_face', 'track_face', 0, 0, 0)->('track_face', 'track_face', 1, 0, 0) = fail\n",
      "try transition motion\n",
      "try: 11 - ('track_face', 'track_face', 0, 0, 0)->('grip1', 'track_face', 0, 0, 0)\n",
      "try: 10 - ('track_face', 'grip1', 0, 0, 0)->('track_face', 'track_face', 0, 0, 0)\n",
      "result: 10 - ('track_face', 'grip1', 0, 0, 0)->('track_face', 'track_face', 0, 0, 0) = fail\n",
      "transition motion tried: True\n",
      "try transition motion\n",
      "result: 0 - ('track_face', 'track_face', 0, 0, 0)->('track_face', 'grip1', 0, 0, 0) = success\n",
      "branching: 0->12 (0.74/200.0 s, steps/err: 29(61.5339279175 ms)/0.00101802658412)\n",
      "try: 12 - ('track_face', 'grip1', 0, 0, 0)->('track_face', 'grip1', 0, 0, 0)\n",
      "======================================================================================================================================================\n",
      "try: 12 - ('track_face', 'grip1', 0, 0, 0)->('track_face', 'grip1', 1, 0, 0)\n",
      "joint motion tried: True\n",
      "try joint motion\n",
      "result: 11 - ('track_face', 'track_face', 0, 0, 0)->('track_face', 'track_face', 0, 0, 0) = success\n",
      "branching: 11->13 (0.77/200.0 s, steps/err: 13(74.8128890991 ms)/8.64476811806e-16)\n",
      "result: 12 - ('track_face', 'grip1', 0, 0, 0)->('track_face', 'grip1', 1, 0, 0) = fail\n",
      "======================================================================================================================================================\n",
      "try: 13 - ('track_face', 'track_face', 0, 0, 0)->('track_face', 'track_face', 1, 0, 0)\n",
      "try: 0 - ('track_face', 'track_face', 0, 0, 0)->('track_face', 'grip1', 0, 0, 0)\n",
      "transition motion tried: True\n",
      "try transition motion\n",
      "try transition motion\n",
      "result: 1 - ('grip1', 'track_face', 0, 0, 0)->('track_face', 'track_face', 0, 0, 0) = success\n",
      "branching: 1->14 (0.81/200.0 s, steps/err: 30(90.9519195557 ms)/0.00188963241859)\n",
      "joint motion tried: True\n",
      "======================================================================================================================================================\n",
      "try: 14 - ('track_face', 'track_face', 0, 0, 0)->('track_face', 'track_face', 0, 0, 0)\n",
      "result: 12 - ('track_face', 'grip1', 0, 0, 0)->('track_face', 'grip1', 0, 0, 0) = success\n",
      "try joint motion\n",
      "branching: 12->15 (0.82/200.0 s, steps/err: 29(55.5031299591 ms)/9.46772625379e-16)\n",
      "======================================================================================================================================================\n",
      "try: 14 - ('track_face', 'track_face', 0, 0, 0)->('track_face', 'track_face', 1, 0, 0)\n",
      "transition motion tried: True\n",
      "result: 13 - ('track_face', 'track_face', 0, 0, 0)->('track_face', 'track_face', 1, 0, 0) = success\n",
      "result: 14 - ('track_face', 'track_face', 0, 0, 0)->('track_face', 'track_face', 1, 0, 0) = fail\n",
      "branching: 13->16 (0.85/200.0 s, steps/err: 20(64.1040802002 ms)/0.00116965628974)\n",
      "======================================================================================================================================================\n",
      "try: 16 - ('track_face', 'track_face', 1, 0, 0)->('track_face', 'track_face', 2, 0, 0)\n",
      "try: 15 - ('track_face', 'grip1', 0, 0, 0)->('track_face', 'grip1', 1, 0, 0)\n",
      "transition motion tried: True\n",
      "result: 15 - ('track_face', 'grip1', 0, 0, 0)->('track_face', 'grip1', 1, 0, 0) = fail\n",
      "joint motion tried: True\n",
      "result: 16 - ('track_face', 'track_face', 1, 0, 0)->('track_face', 'track_face', 2, 0, 0) = fail\n",
      "result: 14 - ('track_face', 'track_face', 0, 0, 0)->('track_face', 'track_face', 0, 0, 0) = success\n",
      "try: 14 - ('track_face', 'track_face', 0, 0, 0)->('grip1', 'track_face', 0, 0, 0)\n",
      "try: 7 - ('track_face', 'grip1', 0, 0, 0)->('track_face', 'track_face', 0, 0, 0)\n",
      "branching: 14->17 (0.89/200.0 s, steps/err: 29(59.4089031219 ms)/7.74172976902e-16)\n",
      "try: 12 - ('track_face', 'grip1', 0, 0, 0)->('track_face', 'track_face', 0, 0, 0)\n",
      "try: 17 - ('track_face', 'track_face', 0, 0, 0)->('track_face', 'track_face', 1, 0, 0)\n",
      "result: 0 - ('track_face', 'track_face', 0, 0, 0)->('track_face', 'grip1', 0, 0, 0) = success\n",
      "result: 14 - ('track_face', 'track_face', 0, 0, 0)->('grip1', 'track_face', 0, 0, 0) = fail\n",
      "try transition motion\n",
      "branching: 0->18 (0.89/200.0 s, steps/err: 33(97.4140167236 ms)/0.00121104911995)\n",
      "try: 18 - ('track_face', 'grip1', 0, 0, 0)->('track_face', 'grip1', 0, 0, 0)\n",
      "======================================================================================================================================================\n",
      "======================================================================================================================================================\n",
      "try joint motion\n",
      "try: 0 - ('track_face', 'track_face', 0, 0, 0)->('grip1', 'track_face', 0, 0, 0)\n",
      "try transition motion\n",
      "result: 7 - ('track_face', 'grip1', 0, 0, 0)->('track_face', 'track_face', 0, 0, 0) = fail\n",
      "result: 12 - ('track_face', 'grip1', 0, 0, 0)->('track_face', 'track_face', 0, 0, 0) = fail\n",
      "try: 18 - ('track_face', 'grip1', 0, 0, 0)->('track_face', 'grip1', 1, 0, 0)\n",
      "try: 17 - ('track_face', 'track_face', 0, 0, 0)->('grip1', 'track_face', 0, 0, 0)\n",
      "try: 14 - ('track_face', 'track_face', 0, 0, 0)->('track_face', 'grip1', 0, 0, 0)\n",
      "result: 17 - ('track_face', 'track_face', 0, 0, 0)->('grip1', 'track_face', 0, 0, 0) = fail\n",
      "result: 14 - ('track_face', 'track_face', 0, 0, 0)->('track_face', 'grip1', 0, 0, 0) = fail\n",
      "result: 18 - ('track_face', 'grip1', 0, 0, 0)->('track_face', 'grip1', 1, 0, 0) = fail\n",
      "try: 0 - ('track_face', 'track_face', 0, 0, 0)->('track_face', 'grip1', 0, 0, 0)\n",
      "joint motion tried: True\n",
      "try: 0 - ('track_face', 'track_face', 0, 0, 0)->('grip1', 'track_face', 0, 0, 0)\n",
      "result: 0 - ('track_face', 'track_face', 0, 0, 0)->('track_face', 'grip1', 0, 0, 0) = fail\n",
      "try: 13 - ('track_face', 'track_face', 0, 0, 0)->('track_face', 'grip1', 0, 0, 0)\n",
      "try: 19 - ('track_face', 'grip1', 0, 0, 0)->('track_face', 'grip1', 1, 0, 0)\n",
      "result: 18 - ('track_face', 'grip1', 0, 0, 0)->('track_face', 'grip1', 0, 0, 0) = success\n",
      "try transition motion\n",
      "try: 3 - ('grip1', 'track_face', 0, 0, 0)->('track_face', 'track_face', 0, 0, 0)\n",
      "transition motion tried: True\n"
     ]
    },
    {
     "name": "stdout",
     "output_type": "stream",
     "text": [
      "branching: 18->19 (1.01/200.0 s, steps/err: 32(88.0010128021 ms)/4.97330864409e-16)\n",
      "result: 13 - ('track_face', 'track_face', 0, 0, 0)->('track_face', 'grip1', 0, 0, 0) = fail\n",
      "result: 19 - ('track_face', 'grip1', 0, 0, 0)->('track_face', 'grip1', 1, 0, 0) = fail\n",
      "result: 17 - ('track_face', 'track_face', 0, 0, 0)->('track_face', 'track_face', 1, 0, 0) = success\n",
      "try: 1 - ('grip1', 'track_face', 0, 0, 0)->('track_face', 'track_face', 0, 0, 0)\n",
      "======================================================================================================================================================\n",
      "branching: 17->20 (1.03/200.0 s, steps/err: 14(132.931947708 ms)/0.00165540422309)\n",
      "try: 20 - ('track_face', 'track_face', 1, 0, 0)->('track_face', 'track_face', 2, 0, 0)\n",
      "try: 13 - ('track_face', 'track_face', 0, 0, 0)->('track_face', 'grip1', 0, 0, 0)\n",
      "======================================================================================================================================================\n",
      "result: 3 - ('grip1', 'track_face', 0, 0, 0)->('track_face', 'track_face', 0, 0, 0) = fail\n",
      "try: 13 - ('track_face', 'track_face', 0, 0, 0)->('grip1', 'track_face', 0, 0, 0)\n",
      "result: 13 - ('track_face', 'track_face', 0, 0, 0)->('track_face', 'grip1', 0, 0, 0) = fail\n",
      "try constrained motion\n",
      "transition motion tried: True\n",
      "try: 3 - ('grip1', 'track_face', 0, 0, 0)->('track_face', 'track_face', 0, 0, 0)\n",
      "try: 13 - ('track_face', 'track_face', 0, 0, 0)->('grip1', 'track_face', 0, 0, 0)\n",
      "result: 1 - ('grip1', 'track_face', 0, 0, 0)->('track_face', 'track_face', 0, 0, 0) = fail\n",
      "try: 11 - ('track_face', 'track_face', 0, 0, 0)->('grip1', 'track_face', 0, 0, 0)\n",
      "try: 17 - ('track_face', 'track_face', 0, 0, 0)->('track_face', 'grip1', 0, 0, 0)\n",
      "try: 5 - ('track_face', 'grip1', 0, 0, 0)->('track_face', 'track_face', 0, 0, 0)\n",
      "result: 3 - ('grip1', 'track_face', 0, 0, 0)->('track_face', 'track_face', 0, 0, 0) = fail\n",
      "result: 5 - ('track_face', 'grip1', 0, 0, 0)->('track_face', 'track_face', 0, 0, 0) = fail\n",
      "result: 17 - ('track_face', 'track_face', 0, 0, 0)->('track_face', 'grip1', 0, 0, 0) = fail\n",
      "try: 21 - ('grip1', 'track_face', 0, 0, 0)->('grip1', 'track_face', 1, 0, 0)\n",
      "try: 21 - ('grip1', 'track_face', 0, 0, 0)->('grip1', 'track_face', 0, 0, 0)\n",
      "result: 13 - ('track_face', 'track_face', 0, 0, 0)->('grip1', 'track_face', 0, 0, 0) = fail\n",
      "result: 13 - ('track_face', 'track_face', 0, 0, 0)->('grip1', 'track_face', 0, 0, 0) = fail\n",
      "try: 0 - ('track_face', 'track_face', 0, 0, 0)->('track_face', 'grip1', 0, 0, 0)\n",
      "result: 21 - ('grip1', 'track_face', 0, 0, 0)->('grip1', 'track_face', 1, 0, 0) = fail\n",
      "result: 0 - ('track_face', 'track_face', 0, 0, 0)->('grip1', 'track_face', 0, 0, 0) = success\n",
      "transition motion tried: True\n",
      "branching: 0->21 (1.15/200.0 s, steps/err: 25(82.2520256042 ms)/0.00192155009139)\n",
      "try: 19 - ('track_face', 'grip1', 0, 0, 0)->('track_face', 'track_face', 0, 0, 0)\n",
      "try joint motion\n",
      "result: 11 - ('track_face', 'track_face', 0, 0, 0)->('grip1', 'track_face', 0, 0, 0) = fail\n",
      "try: 0 - ('track_face', 'track_face', 0, 0, 0)->('grip1', 'track_face', 0, 0, 0)\n",
      "try: 21 - ('grip1', 'track_face', 0, 0, 0)->('track_face', 'track_face', 0, 0, 0)\n",
      "result: 11 - ('track_face', 'track_face', 0, 0, 0)->('grip1', 'track_face', 0, 0, 0) = success\n",
      "======================================================================================================================================================\n",
      "branching: 11->22 (1.18/200.0 s, steps/err: 80(447.169065475 ms)/0.00155382124143)\n",
      "try: 22 - ('grip1', 'track_face', 0, 0, 0)->('grip1', 'track_face', 1, 0, 0)\n",
      "result: 21 - ('grip1', 'track_face', 0, 0, 0)->('track_face', 'track_face', 0, 0, 0) = fail\n",
      "result: 0 - ('track_face', 'track_face', 0, 0, 0)->('grip1', 'track_face', 0, 0, 0) = fail\n",
      "result: 19 - ('track_face', 'grip1', 0, 0, 0)->('track_face', 'track_face', 0, 0, 0) = fail\n",
      "try transition motion\n",
      "try: 22 - ('grip1', 'track_face', 0, 0, 0)->('grip1', 'track_face', 0, 0, 0)\n",
      "constrained motion tried: True\n",
      "try: 11 - ('track_face', 'track_face', 0, 0, 0)->('track_face', 'grip1', 0, 0, 0)\n",
      "======================================================================================================================================================\n",
      "try joint motion\n",
      "try: 11 - ('track_face', 'track_face', 0, 0, 0)->('grip1', 'track_face', 0, 0, 0)\n",
      "result: 22 - ('grip1', 'track_face', 0, 0, 0)->('grip1', 'track_face', 1, 0, 0) = fail\n",
      "try: 22 - ('grip1', 'track_face', 0, 0, 0)->('track_face', 'track_face', 0, 0, 0)\n",
      "try transition motion\n",
      "result: 20 - ('track_face', 'track_face', 1, 0, 0)->('track_face', 'track_face', 2, 0, 0) = success\n",
      "branching: 20->23 (1.22/200.0 s, steps/err: 38(183.111906052 ms)/0.00156108720258)\n",
      "======================================================================================================================================================\n",
      "joint motion tried: True\n",
      "try: 1 - ('grip1', 'track_face', 0, 0, 0)->('track_face', 'track_face', 0, 0, 0)\n",
      "try transition motion\n",
      "result: 22 - ('grip1', 'track_face', 0, 0, 0)->('track_face', 'track_face', 0, 0, 0) = fail\n",
      "try: 23 - ('track_face', 'track_face', 2, 0, 0)->('track_face', 'track_face', 2, 0, 0)\n",
      "result: 21 - ('grip1', 'track_face', 0, 0, 0)->('grip1', 'track_face', 0, 0, 0) = success\n",
      "try: 23 - ('track_face', 'track_face', 2, 0, 0)->('track_face', 'track_face', 2, 1, 0)\n",
      "branching: 21->24 (1.25/200.0 s, steps/err: 25(106.506109238 ms)/8.18463487851e-16)\n",
      "try: 24 - ('grip1', 'track_face', 0, 0, 0)->('grip1', 'track_face', 1, 0, 0)\n",
      "try joint motion\n",
      "result: 1 - ('grip1', 'track_face', 0, 0, 0)->('track_face', 'track_face', 0, 0, 0) = fail\n",
      "result: 23 - ('track_face', 'track_face', 2, 0, 0)->('track_face', 'track_face', 2, 1, 0) = fail\n",
      "try: 23 - ('track_face', 'track_face', 2, 0, 0)->('track_face', 'grip1', 2, 0, 0)\n",
      "try: 23 - ('track_face', 'track_face', 2, 0, 0)->('grip1', 'track_face', 2, 0, 0)\n",
      "======================================================================================================================================================\n",
      "try transition motion\n",
      "joint motion tried: True\n",
      "result: 23 - ('track_face', 'track_face', 2, 0, 0)->('track_face', 'grip1', 2, 0, 0) = fail\n",
      "result: 23 - ('track_face', 'track_face', 2, 0, 0)->('track_face', 'track_face', 2, 0, 0) = success\n",
      "transition motion tried: True\n",
      "try transition motion\n",
      "branching: 23->25 (1.3/200.0 s, steps/err: 9(40.4970645905 ms)/5.76352438417e-16)\n",
      "try: 25 - ('track_face', 'track_face', 2, 0, 0)->('grip1', 'track_face', 2, 0, 0)\n",
      "======================================================================================================================================================\n",
      "result: 0 - ('track_face', 'track_face', 0, 0, 0)->('track_face', 'grip1', 0, 0, 0) = success\n",
      "try: 23 - ('track_face', 'track_face', 2, 0, 0)->('track_face', 'grip1', 2, 0, 0)\n",
      "try: 25 - ('track_face', 'track_face', 2, 0, 0)->('track_face', 'track_face', 2, 1, 0)\n",
      "branching: 0->26 (1.32/200.0 s, steps/err: 16(153.542995453 ms)/0.00144291516637)\n",
      "result: 25 - ('track_face', 'track_face', 2, 0, 0)->('grip1', 'track_face', 2, 0, 0) = fail\n",
      "result: 25 - ('track_face', 'track_face', 2, 0, 0)->('track_face', 'track_face', 2, 1, 0) = fail\n",
      "======================================================================================================================================================\n",
      "try: 26 - ('track_face', 'grip1', 0, 0, 0)->('track_face', 'grip1', 0, 0, 0)\n",
      "transition motion tried: True\n",
      "try: 26 - ('track_face', 'grip1', 0, 0, 0)->('track_face', 'grip1', 1, 0, 0)\n",
      "result: 23 - ('track_face', 'track_face', 2, 0, 0)->('track_face', 'grip1', 2, 0, 0) = fail\n",
      "try: 23 - ('track_face', 'track_face', 2, 0, 0)->('track_face', 'grip1', 2, 0, 0)\n",
      "try: 23 - ('track_face', 'track_face', 2, 0, 0)->('grip1', 'track_face', 2, 0, 0)\n",
      "result: 26 - ('track_face', 'grip1', 0, 0, 0)->('track_face', 'grip1', 1, 0, 0) = fail\n",
      "try joint motion\n",
      "result: 11 - ('track_face', 'track_face', 0, 0, 0)->('grip1', 'track_face', 0, 0, 0) = success\n",
      "result: 23 - ('track_face', 'track_face', 2, 0, 0)->('track_face', 'grip1', 2, 0, 0) = fail\n",
      "try: 27 - ('grip1', 'track_face', 0, 0, 0)->('grip1', 'track_face', 0, 0, 0)\n",
      "transition motion tried: True\n",
      "result: 23 - ('track_face', 'track_face', 2, 0, 0)->('grip1', 'track_face', 2, 0, 0) = fail\n"
     ]
    },
    {
     "name": "stdout",
     "output_type": "stream",
     "text": [
      "branching: 11->27 (1.38/200.0 s, steps/err: 21(155.035972595 ms)/0.0014410602025)\n",
      "transition motion tried: True\n",
      "try joint motion\n",
      "======================================================================================================================================================\n",
      "result: 24 - ('grip1', 'track_face', 0, 0, 0)->('grip1', 'track_face', 1, 0, 0) = success\n",
      "try: 28 - ('grip1', 'track_face', 1, 0, 0)->('grip1', 'track_face', 2, 0, 0)\n",
      "branching: 24->28 (1.41/200.0 s, steps/err: 14(124.19295311 ms)/0.00170421199421)\n",
      "======================================================================================================================================================\n",
      "try: 27 - ('grip1', 'track_face', 0, 0, 0)->('grip1', 'track_face', 1, 0, 0)\n",
      "try: 29 - ('track_face', 'grip1', 0, 0, 0)->('track_face', 'grip1', 0, 0, 0)\n",
      "result: 11 - ('track_face', 'track_face', 0, 0, 0)->('track_face', 'grip1', 0, 0, 0) = success\n",
      "try constrained motion\n",
      "try: 29 - ('track_face', 'grip1', 0, 0, 0)->('track_face', 'grip1', 1, 0, 0)\n",
      "joint motion tried: True\n",
      "branching: 11->29 (1.45/200.0 s, steps/err: 23(212.709903717 ms)/0.00087961322665)\n",
      "try joint motion\n",
      "======================================================================================================================================================\n",
      "result: 27 - ('grip1', 'track_face', 0, 0, 0)->('grip1', 'track_face', 1, 0, 0) = fail\n",
      "try: 30 - ('track_face', 'grip1', 0, 0, 0)->('track_face', 'grip1', 1, 0, 0)\n",
      "result: 26 - ('track_face', 'grip1', 0, 0, 0)->('track_face', 'grip1', 0, 0, 0) = success\n",
      "joint motion tried: True\n",
      "try transition motion\n",
      "branching: 26->30 (1.47/200.0 s, steps/err: 16(92.6840305328 ms)/7.54838580618e-16)\n",
      "result: 27 - ('grip1', 'track_face', 0, 0, 0)->('grip1', 'track_face', 0, 0, 0) = success\n",
      "try: 23 - ('track_face', 'track_face', 2, 0, 0)->('grip1', 'track_face', 2, 0, 0)\n",
      "result: 30 - ('track_face', 'grip1', 0, 0, 0)->('track_face', 'grip1', 1, 0, 0) = fail\n",
      "branching: 27->31 (1.48/200.0 s, steps/err: 20(77.2359371185 ms)/1.35355394316e-15)\n",
      "try: 31 - ('grip1', 'track_face', 0, 0, 0)->('grip1', 'track_face', 1, 0, 0)\n",
      "======================================================================================================================================================\n",
      "result: 23 - ('track_face', 'track_face', 2, 0, 0)->('grip1', 'track_face', 2, 0, 0) = fail\n",
      "try: 25 - ('track_face', 'track_face', 2, 0, 0)->('track_face', 'grip1', 2, 0, 0)\n",
      "try: 25 - ('track_face', 'track_face', 2, 0, 0)->('grip1', 'track_face', 2, 0, 0)\n",
      "try: 25 - ('track_face', 'track_face', 2, 0, 0)->('grip1', 'track_face', 2, 0, 0)\n",
      "======================================================================================================================================================\n",
      "constrained motion tried: True\n",
      "joint motion tried: True\n",
      "try transition motion\n",
      "result: 25 - ('track_face', 'track_face', 2, 0, 0)->('track_face', 'grip1', 2, 0, 0) = fail\n",
      "try transition motion\n",
      "try: 32 - ('grip1', 'track_face', 2, 0, 0)->('grip1', 'track_face', 2, 0, 0)\n",
      "try: 25 - ('track_face', 'track_face', 2, 0, 0)->('track_face', 'grip1', 2, 0, 0)\n",
      "result: 28 - ('grip1', 'track_face', 1, 0, 0)->('grip1', 'track_face', 2, 0, 0) = success\n",
      "result: 29 - ('track_face', 'grip1', 0, 0, 0)->('track_face', 'grip1', 0, 0, 0) = success\n",
      "try joint motion\n",
      "branching: 29->33 (1.54/200.0 s, steps/err: 34(96.0450172424 ms)/4.53411892489e-16)\n",
      "result: 25 - ('track_face', 'track_face', 2, 0, 0)->('track_face', 'grip1', 2, 0, 0) = fail\n",
      "result: 25 - ('track_face', 'track_face', 2, 0, 0)->('grip1', 'track_face', 2, 0, 0) = fail\n",
      "======================================================================================================================================================\n",
      "transition motion tried: True\n",
      "branching: 28->32 (1.54/200.0 s, steps/err: 32(103.199958801 ms)/0.00200775287632)\n",
      "try: 32 - ('grip1', 'track_face', 2, 0, 0)->('grip1', 'track_face', 2, 1, 0)\n",
      "result: 29 - ('track_face', 'grip1', 0, 0, 0)->('track_face', 'grip1', 1, 0, 0) = success\n",
      "======================================================================================================================================================\n",
      "try: 33 - ('track_face', 'grip1', 0, 0, 0)->('track_face', 'grip1', 1, 0, 0)\n",
      "try: 32 - ('grip1', 'track_face', 2, 0, 0)->('track_face', 'track_face', 2, 0, 0)\n",
      "try: 34 - ('track_face', 'grip1', 1, 0, 0)->('track_face', 'grip1', 2, 0, 0)\n",
      "try: 32 - ('grip1', 'track_face', 2, 0, 0)->('track_face', 'track_face', 2, 0, 0)\n",
      "try: 32 - ('grip1', 'track_face', 2, 0, 0)->('track_face', 'track_face', 2, 0, 0)\n",
      "branching: 29->34 (1.59/200.0 s, steps/err: 15(105.815887451 ms)/0.00125069753446)\n",
      "try transition motion\n",
      "======================================================================================================================================================\n",
      "transition motion tried: True\n",
      "try transition motion\n",
      "try: 32 - ('grip1', 'track_face', 2, 0, 0)->('track_face', 'track_face', 2, 0, 0)\n",
      "try: 32 - ('grip1', 'track_face', 2, 0, 0)->('track_face', 'track_face', 2, 0, 0)\n",
      "try: 23 - ('track_face', 'track_face', 2, 0, 0)->('track_face', 'grip1', 2, 0, 0)\n",
      "result: 32 - ('grip1', 'track_face', 2, 0, 0)->('track_face', 'track_face', 2, 0, 0) = fail\n",
      "transition motion tried: True\n",
      "result: 34 - ('track_face', 'grip1', 1, 0, 0)->('track_face', 'grip1', 2, 0, 0) = fail\n",
      "joint motion tried: True\n",
      "result: 32 - ('grip1', 'track_face', 2, 0, 0)->('track_face', 'track_face', 2, 0, 0) = fail\n",
      "try: 32 - ('grip1', 'track_face', 2, 0, 0)->('track_face', 'track_face', 2, 0, 0)\n",
      "try transition motion\n",
      "try transition motion\n",
      "try: 32 - ('grip1', 'track_face', 2, 0, 0)->('track_face', 'track_face', 2, 0, 0)\n",
      "result: 32 - ('grip1', 'track_face', 2, 0, 0)->('track_face', 'track_face', 2, 0, 0) = fail\n",
      "result: 32 - ('grip1', 'track_face', 2, 0, 0)->('grip1', 'track_face', 2, 0, 0) = success\n",
      "branching: 32->36 (1.68/200.0 s, steps/err: 9(134.866952896 ms)/3.79295989721e-16)\n",
      "try: 36 - ('grip1', 'track_face', 2, 0, 0)->('grip1', 'track_face', 2, 1, 0)\n",
      "try: 32 - ('grip1', 'track_face', 2, 0, 0)->('track_face', 'track_face', 2, 0, 0)\n",
      "result: 23 - ('track_face', 'track_face', 2, 0, 0)->('track_face', 'grip1', 2, 0, 0) = fail\n",
      "result: 25 - ('track_face', 'track_face', 2, 0, 0)->('grip1', 'track_face', 2, 0, 0) = success\n",
      "======================================================================================================================================================\n",
      "try: 37 - ('grip1', 'track_face', 1, 0, 0)->('grip1', 'track_face', 2, 0, 0)\n",
      "try: 35 - ('grip1', 'track_face', 2, 0, 0)->('grip1', 'track_face', 2, 1, 0)\n",
      "try: 35 - ('grip1', 'track_face', 2, 0, 0)->('track_face', 'track_face', 2, 0, 0)\n",
      "try: 32 - ('grip1', 'track_face', 2, 0, 0)->('track_face', 'track_face', 2, 0, 0)\n",
      "try transition motion\n",
      "result: 32 - ('grip1', 'track_face', 2, 0, 0)->('track_face', 'track_face', 2, 0, 0) = fail\n",
      "branching: 25->35 (1.69/200.0 s, steps/err: 30(131.171941757 ms)/0.00140330838172)\n",
      "======================================================================================================================================================\n",
      "result: 32 - ('grip1', 'track_face', 2, 0, 0)->('track_face', 'track_face', 2, 0, 0) = fail\n",
      "result: 31 - ('grip1', 'track_face', 0, 0, 0)->('grip1', 'track_face', 1, 0, 0) = success\n",
      "try: 32 - ('grip1', 'track_face', 2, 0, 0)->('track_face', 'track_face', 2, 0, 0)\n",
      "try: 35 - ('grip1', 'track_face', 2, 0, 0)->('grip1', 'track_face', 2, 0, 0)\n",
      "try: 32 - ('grip1', 'track_face', 2, 0, 0)->('track_face', 'track_face', 2, 0, 0)\n",
      "branching: 31->37 (1.74/200.0 s, steps/err: 14(195.858955383 ms)/0.0015367059808)\n",
      "try: 35 - ('grip1', 'track_face', 2, 0, 0)->('track_face', 'track_face', 2, 0, 0)\n",
      "result: 35 - ('grip1', 'track_face', 2, 0, 0)->('track_face', 'track_face', 2, 0, 0) = fail\n",
      "transition motion tried: True\n",
      "try transition motion\n",
      "try joint motion\n",
      "======================================================================================================================================================\n",
      "try constrained motion\n",
      "try transition motion\n",
      "result: 35 - ('grip1', 'track_face', 2, 0, 0)->('grip1', 'track_face', 2, 1, 0) = fail\n",
      "result: 32 - ('grip1', 'track_face', 2, 0, 0)->('track_face', 'track_face', 2, 0, 0) = fail\n",
      "try: 32 - ('grip1', 'track_face', 2, 0, 0)->('track_face', 'track_face', 2, 0, 0)\n"
     ]
    },
    {
     "name": "stdout",
     "output_type": "stream",
     "text": [
      "try: 36 - ('grip1', 'track_face', 2, 0, 0)->('track_face', 'track_face', 2, 0, 0)\n",
      "result: 35 - ('grip1', 'track_face', 2, 0, 0)->('track_face', 'track_face', 2, 0, 0) = fail\n",
      "result: 32 - ('grip1', 'track_face', 2, 0, 0)->('grip1', 'track_face', 2, 1, 0) = success\n",
      "try: 36 - ('grip1', 'track_face', 2, 0, 0)->('track_face', 'track_face', 2, 0, 0)\n",
      "try: 32 - ('grip1', 'track_face', 2, 0, 0)->('track_face', 'track_face', 2, 0, 0)\n",
      "try: 38 - ('grip1', 'track_face', 2, 1, 0)->('grip1', 'track_face', 2, 2, 0)\n",
      "result: 32 - ('grip1', 'track_face', 2, 0, 0)->('track_face', 'track_face', 2, 0, 0) = fail\n",
      "branching: 32->38 (1.8/200.0 s, steps/err: 8(206.230163574 ms)/0.000777234044328)\n",
      "result: 32 - ('grip1', 'track_face', 2, 0, 0)->('track_face', 'track_face', 2, 0, 0) = fail\n",
      "result: 36 - ('grip1', 'track_face', 2, 0, 0)->('track_face', 'track_face', 2, 0, 0) = fail\n",
      "result: 32 - ('grip1', 'track_face', 2, 0, 0)->('track_face', 'track_face', 2, 0, 0) = fail\n",
      "try: 35 - ('grip1', 'track_face', 2, 0, 0)->('track_face', 'track_face', 2, 0, 0)\n",
      "try: 36 - ('grip1', 'track_face', 2, 0, 0)->('track_face', 'track_face', 2, 0, 0)\n",
      "======================================================================================================================================================\n",
      "try transition motion\n",
      "try: 32 - ('grip1', 'track_face', 2, 0, 0)->('track_face', 'track_face', 2, 0, 0)\n",
      "result: 36 - ('grip1', 'track_face', 2, 0, 0)->('track_face', 'track_face', 2, 0, 0) = fail\n",
      "try: 35 - ('grip1', 'track_face', 2, 0, 0)->('track_face', 'track_face', 2, 0, 0)\n",
      "try: 36 - ('grip1', 'track_face', 2, 0, 0)->('track_face', 'track_face', 2, 0, 0)\n",
      "result: 36 - ('grip1', 'track_face', 2, 0, 0)->('track_face', 'track_face', 2, 0, 0) = fail\n",
      "joint motion tried: True\n",
      "try: 32 - ('grip1', 'track_face', 2, 0, 0)->('track_face', 'track_face', 2, 0, 0)\n",
      "result: 32 - ('grip1', 'track_face', 2, 0, 0)->('track_face', 'track_face', 2, 0, 0) = fail\n",
      "result: 35 - ('grip1', 'track_face', 2, 0, 0)->('track_face', 'track_face', 2, 0, 0) = fail\n",
      "try: 36 - ('grip1', 'track_face', 2, 0, 0)->('track_face', 'track_face', 2, 0, 0)\n",
      "try transition motion\n",
      "try: 35 - ('grip1', 'track_face', 2, 0, 0)->('track_face', 'track_face', 2, 0, 0)\n",
      "result: 36 - ('grip1', 'track_face', 2, 0, 0)->('track_face', 'track_face', 2, 0, 0) = fail\n",
      "constrained motion tried: True\n",
      "transition motion tried: True\n",
      "try: 35 - ('grip1', 'track_face', 2, 0, 0)->('track_face', 'track_face', 2, 0, 0)\n",
      "result: 32 - ('grip1', 'track_face', 2, 0, 0)->('track_face', 'track_face', 2, 0, 0) = fail\n",
      "try: 39 - ('grip1', 'track_face', 2, 0, 0)->('track_face', 'track_face', 2, 0, 0)\n",
      "result: 38 - ('grip1', 'track_face', 2, 1, 0)->('grip1', 'track_face', 2, 2, 0) = fail\n",
      "result: 35 - ('grip1', 'track_face', 2, 0, 0)->('grip1', 'track_face', 2, 0, 0) = success\n",
      "try: 39 - ('grip1', 'track_face', 2, 0, 0)->('grip1', 'track_face', 2, 1, 0)\n",
      "result: 35 - ('grip1', 'track_face', 2, 0, 0)->('track_face', 'track_face', 2, 0, 0) = fail\n",
      "result: 32 - ('grip1', 'track_face', 2, 0, 0)->('track_face', 'track_face', 2, 0, 0) = success\n",
      "result: 39 - ('grip1', 'track_face', 2, 0, 0)->('track_face', 'track_face', 2, 0, 0) = fail\n",
      "try: 40 - ('track_face', 'track_face', 2, 0, 0)->('track_face', 'track_face', 2, 0, 0)\n",
      "branching: 32->40 (1.94/200.0 s, steps/err: 21(297.965049744 ms)/0.00176004055934)\n",
      "try transition motion\n",
      "result: 37 - ('grip1', 'track_face', 1, 0, 0)->('grip1', 'track_face', 2, 0, 0) = success\n",
      "try joint motion\n",
      "result: 35 - ('grip1', 'track_face', 2, 0, 0)->('track_face', 'track_face', 2, 0, 0) = fail\n",
      "======================================================================================================================================================\n",
      "try: 40 - ('track_face', 'track_face', 2, 0, 0)->('track_face', 'track_face', 2, 1, 0)\n",
      "try: 41 - ('grip1', 'track_face', 2, 0, 0)->('grip1', 'track_face', 2, 0, 0)\n",
      "branching: 37->41 (1.96/200.0 s, steps/err: 29(221.446990967 ms)/0.00141283391846)\n",
      "try: 41 - ('grip1', 'track_face', 2, 0, 0)->('grip1', 'track_face', 2, 1, 0)\n",
      "try: 25 - ('track_face', 'track_face', 2, 0, 0)->('track_face', 'grip1', 2, 0, 0)\n",
      "try joint motion\n",
      "======================================================================================================================================================\n",
      "try: 25 - ('track_face', 'track_face', 2, 0, 0)->('track_face', 'grip1', 2, 0, 0)\n",
      "branching: 35->39 (1.96/200.0 s, steps/err: 30(134.562015533 ms)/6.42923593317e-16)\n",
      "======================================================================================================================================================\n",
      "transition motion tried: True\n",
      "result: 40 - ('track_face', 'track_face', 2, 0, 0)->('track_face', 'track_face', 2, 1, 0) = fail\n",
      "try transition motion\n",
      "try transition motion\n",
      "result: 25 - ('track_face', 'track_face', 2, 0, 0)->('track_face', 'grip1', 2, 0, 0) = fail\n",
      "transition motion tried: True\n",
      "try: 25 - ('track_face', 'track_face', 2, 0, 0)->('track_face', 'grip1', 2, 0, 0)\n",
      "joint motion tried: True\n",
      "try: 25 - ('track_face', 'track_face', 2, 0, 0)->('track_face', 'grip1', 2, 0, 0)\n",
      "result: 36 - ('grip1', 'track_face', 2, 0, 0)->('track_face', 'track_face', 2, 0, 0) = success\n",
      "result: 25 - ('track_face', 'track_face', 2, 0, 0)->('track_face', 'grip1', 2, 0, 0) = fail\n",
      "branching: 36->43 (2.05/200.0 s, steps/err: 27(165.04907608 ms)/0.00173752060513)\n",
      "transition motion tried: True\n",
      "result: 41 - ('grip1', 'track_face', 2, 0, 0)->('grip1', 'track_face', 2, 0, 0) = success\n",
      "try: 25 - ('track_face', 'track_face', 2, 0, 0)->('track_face', 'grip1', 2, 0, 0)\n",
      "result: 32 - ('grip1', 'track_face', 2, 0, 0)->('track_face', 'track_face', 2, 0, 0) = success\n",
      "======================================================================================================================================================\n",
      "branching: 32->42 (2.06/200.0 s, steps/err: 29(281.038999557 ms)/0.000998720587466)\n",
      "try: 42 - ('track_face', 'track_face', 2, 0, 0)->('track_face', 'track_face', 2, 0, 0)\n",
      "result: 25 - ('track_face', 'track_face', 2, 0, 0)->('track_face', 'grip1', 2, 0, 0) = fail\n",
      "try joint motion\n",
      "try: 42 - ('track_face', 'track_face', 2, 0, 0)->('track_face', 'track_face', 2, 1, 0)\n",
      "branching: 41->44 (2.06/200.0 s, steps/err: 9(74.8550891876 ms)/2.68977116999e-16)\n",
      "try: 44 - ('grip1', 'track_face', 2, 0, 0)->('grip1', 'track_face', 2, 1, 0)\n",
      "======================================================================================================================================================\n",
      "======================================================================================================================================================\n",
      "result: 35 - ('grip1', 'track_face', 2, 0, 0)->('track_face', 'track_face', 2, 0, 0) = success\n",
      "result: 25 - ('track_face', 'track_face', 2, 0, 0)->('track_face', 'grip1', 2, 0, 0) = fail\n",
      "try transition motion\n",
      "try: 43 - ('track_face', 'track_face', 2, 0, 0)->('track_face', 'track_face', 2, 0, 0)\n",
      "try: 43 - ('track_face', 'track_face', 2, 0, 0)->('track_face', 'track_face', 2, 1, 0)\n",
      "result: 42 - ('track_face', 'track_face', 2, 0, 0)->('track_face', 'track_face', 2, 1, 0) = fail\n",
      "try joint motion\n",
      "branching: 35->45 (2.11/200.0 s, steps/err: 38(232.331991196 ms)/0.00133957248095)\n",
      "try: 45 - ('track_face', 'track_face', 2, 0, 0)->('track_face', 'track_face', 2, 1, 0)\n",
      "joint motion tried: True\n",
      "try: 45 - ('track_face', 'track_face', 2, 0, 0)->('track_face', 'track_face', 2, 0, 0)\n",
      "try joint motion\n",
      "result: 43 - ('track_face', 'track_face', 2, 0, 0)->('track_face', 'track_face', 2, 1, 0) = fail\n",
      "======================================================================================================================================================\n",
      "try: 46 - ('track_face', 'track_face', 2, 0, 0)->('grip1', 'track_face', 2, 0, 0)\n",
      "try: 46 - ('track_face', 'track_face', 2, 0, 0)->('track_face', 'track_face', 2, 1, 0)\n",
      "result: 45 - ('track_face', 'track_face', 2, 0, 0)->('track_face', 'track_face', 2, 1, 0) = fail\n",
      "result: 40 - ('track_face', 'track_face', 2, 0, 0)->('track_face', 'track_face', 2, 0, 0) = success\n",
      "branching: 40->46 (2.17/200.0 s, steps/err: 19(197.997808456 ms)/1.01194174192e-15)\n",
      "try transition motion\n",
      "transition motion tried: True\n",
      "result: 46 - ('track_face', 'track_face', 2, 0, 0)->('track_face', 'track_face', 2, 1, 0) = fail\n"
     ]
    },
    {
     "name": "stdout",
     "output_type": "stream",
     "text": [
      "joint motion tried: True\n",
      "result: 43 - ('track_face', 'track_face', 2, 0, 0)->('track_face', 'track_face', 2, 0, 0) = success\n",
      "======================================================================================================================================================\n",
      "try: 23 - ('track_face', 'track_face', 2, 0, 0)->('grip1', 'track_face', 2, 0, 0)\n",
      "joint motion tried: True\n",
      "try: 47 - ('track_face', 'track_face', 2, 0, 0)->('track_face', 'track_face', 2, 1, 0)\n",
      "result: 23 - ('track_face', 'track_face', 2, 0, 0)->('grip1', 'track_face', 2, 0, 0) = fail\n",
      "try: 42 - ('track_face', 'track_face', 2, 0, 0)->('grip1', 'track_face', 2, 0, 0)\n",
      "transition motion tried: True\n",
      "branching: 43->47 (2.21/200.0 s, steps/err: 27(59.8740577698 ms)/4.87932267269e-16)\n",
      "result: 41 - ('grip1', 'track_face', 2, 0, 0)->('grip1', 'track_face', 2, 1, 0) = success\n",
      "try transition motion\n",
      "try transition motion\n",
      "result: 22 - ('grip1', 'track_face', 0, 0, 0)->('grip1', 'track_face', 0, 0, 0) = success\n",
      "try: 48 - ('grip1', 'track_face', 0, 0, 0)->('grip1', 'track_face', 1, 0, 0)\n",
      "branching: 41->49 (2.23/200.0 s, steps/err: 16(245.618104935 ms)/0.00168443027762)\n",
      "branching: 22->48 (2.23/200.0 s, steps/err: 57(1018.29504967 ms)/7.22475993422e-16)\n",
      "======================================================================================================================================================\n",
      "======================================================================================================================================================\n",
      "result: 44 - ('grip1', 'track_face', 2, 0, 0)->('grip1', 'track_face', 2, 1, 0) = success\n",
      "try: 49 - ('grip1', 'track_face', 2, 1, 0)->('grip1', 'track_face', 2, 2, 0)\n",
      "======================================================================================================================================================\n",
      "joint motion tried: True\n",
      "result: 42 - ('track_face', 'track_face', 2, 0, 0)->('track_face', 'track_face', 2, 0, 0) = success\n",
      "branching: 44->50 (2.25/200.0 s, steps/err: 13(141.035079956 ms)/0.00118270741856)\n",
      "======================================================================================================================================================\n",
      "try: 45 - ('track_face', 'track_face', 2, 0, 0)->('track_face', 'grip1', 2, 0, 0)\n",
      "try: 50 - ('grip1', 'track_face', 2, 1, 0)->('grip1', 'track_face', 2, 2, 0)\n",
      "transition motion tried: True\n",
      "try transition motion\n",
      "try: 51 - ('track_face', 'track_face', 2, 0, 0)->('track_face', 'track_face', 2, 1, 0)\n",
      "result: 49 - ('grip1', 'track_face', 2, 1, 0)->('grip1', 'track_face', 2, 2, 0) = fail\n",
      "result: 25 - ('track_face', 'track_face', 2, 0, 0)->('track_face', 'grip1', 2, 0, 0) = success\n",
      "result: 50 - ('grip1', 'track_face', 2, 1, 0)->('grip1', 'track_face', 2, 2, 0) = fail\n",
      "branching: 42->51 (2.3/200.0 s, steps/err: 25(189.15104866 ms)/1.01495575015e-15)\n",
      "result: 45 - ('track_face', 'track_face', 2, 0, 0)->('track_face', 'grip1', 2, 0, 0) = fail\n",
      "======================================================================================================================================================\n",
      "try: 52 - ('track_face', 'grip1', 2, 0, 0)->('track_face', 'grip1', 2, 1, 0)\n",
      "branching: 25->52 (2.31/200.0 s, steps/err: 34(314.814090729 ms)/0.00181833605902)\n",
      "try: 52 - ('track_face', 'grip1', 2, 0, 0)->('track_face', 'grip1', 2, 0, 0)\n",
      "result: 52 - ('track_face', 'grip1', 2, 0, 0)->('track_face', 'grip1', 2, 1, 0) = fail\n",
      "======================================================================================================================================================\n",
      "try: 42 - ('track_face', 'track_face', 2, 0, 0)->('grip1', 'track_face', 2, 0, 0)\n",
      "try: 25 - ('track_face', 'track_face', 2, 0, 0)->('grip1', 'track_face', 2, 0, 0)\n",
      "try: 45 - ('track_face', 'track_face', 2, 0, 0)->('track_face', 'grip1', 2, 0, 0)\n",
      "try joint motion\n",
      "result: 25 - ('track_face', 'track_face', 2, 0, 0)->('grip1', 'track_face', 2, 0, 0) = fail\n",
      "try: 40 - ('track_face', 'track_face', 2, 0, 0)->('grip1', 'track_face', 2, 0, 0)\n",
      "result: 51 - ('track_face', 'track_face', 2, 0, 0)->('track_face', 'track_face', 2, 1, 0) = fail\n",
      "result: 42 - ('track_face', 'track_face', 2, 0, 0)->('grip1', 'track_face', 2, 0, 0) = fail\n",
      "try: 47 - ('track_face', 'track_face', 2, 0, 0)->('track_face', 'grip1', 2, 0, 0)\n",
      "try transition motion\n",
      "try: 25 - ('track_face', 'track_face', 2, 0, 0)->('grip1', 'track_face', 2, 0, 0)\n",
      "try transition motion\n",
      "try: 47 - ('track_face', 'track_face', 2, 0, 0)->('track_face', 'grip1', 2, 0, 0)\n",
      "result: 47 - ('track_face', 'track_face', 2, 0, 0)->('track_face', 'grip1', 2, 0, 0) = fail\n",
      "try transition motion\n",
      "result: 25 - ('track_face', 'track_face', 2, 0, 0)->('grip1', 'track_face', 2, 0, 0) = fail\n",
      "transition motion tried: True\n",
      "joint motion tried: True\n",
      "transition motion tried: True\n",
      "joint motion tried: True\n",
      "try: 42 - ('track_face', 'track_face', 2, 0, 0)->('grip1', 'track_face', 2, 0, 0)\n",
      "result: 52 - ('track_face', 'grip1', 2, 0, 0)->('track_face', 'grip1', 2, 0, 0) = success\n",
      "try: 25 - ('track_face', 'track_face', 2, 0, 0)->('grip1', 'track_face', 2, 0, 0)\n",
      "branching: 52->53 (2.46/200.0 s, steps/err: 17(123.769044876 ms)/7.4170716801e-16)\n",
      "result: 25 - ('track_face', 'track_face', 2, 0, 0)->('grip1', 'track_face', 2, 0, 0) = fail\n",
      "result: 32 - ('grip1', 'track_face', 2, 0, 0)->('track_face', 'track_face', 2, 0, 0) = success\n",
      "result: 48 - ('grip1', 'track_face', 0, 0, 0)->('grip1', 'track_face', 1, 0, 0) = success\n",
      "transition motion tried: True\n",
      "result: 42 - ('track_face', 'track_face', 2, 0, 0)->('grip1', 'track_face', 2, 0, 0) = fail\n",
      "result: 45 - ('track_face', 'track_face', 2, 0, 0)->('track_face', 'track_face', 2, 0, 0) = success\n",
      "try: 53 - ('track_face', 'grip1', 2, 0, 0)->('track_face', 'grip1', 2, 1, 0)\n",
      "======================================================================================================================================================\n",
      "branching: 32->55 (2.49/200.0 s, steps/err: 35(838.571071625 ms)/0.00130641223022)\n",
      "branching: 48->56 (2.48/200.0 s, steps/err: 14(239.657878876 ms)/0.0014504729551)\n",
      "result: 40 - ('track_face', 'track_face', 2, 0, 0)->('grip1', 'track_face', 2, 0, 0) = success\n",
      "branching: 45->54 (2.49/200.0 s, steps/err: 24(320.508956909 ms)/7.10388575805e-16)\n",
      "try: 54 - ('track_face', 'track_face', 2, 0, 0)->('track_face', 'track_face', 2, 1, 0)\n",
      "result: 53 - ('track_face', 'grip1', 2, 0, 0)->('track_face', 'grip1', 2, 1, 0) = fail\n",
      "======================================================================================================================================================\n",
      "try: 55 - ('track_face', 'track_face', 2, 0, 0)->('track_face', 'track_face', 2, 1, 0)\n",
      "======================================================================================================================================================\n",
      "======================================================================================================================================================\n",
      "try: 56 - ('grip1', 'track_face', 1, 0, 0)->('grip1', 'track_face', 2, 0, 0)\n",
      "try: 57 - ('grip1', 'track_face', 2, 0, 0)->('grip1', 'track_face', 2, 0, 0)\n",
      "try: 57 - ('grip1', 'track_face', 2, 0, 0)->('grip1', 'track_face', 2, 1, 0)\n",
      "try: 55 - ('track_face', 'track_face', 2, 0, 0)->('track_face', 'track_face', 2, 0, 0)\n",
      "result: 54 - ('track_face', 'track_face', 2, 0, 0)->('track_face', 'track_face', 2, 1, 0) = fail\n",
      "branching: 40->57 (2.51/200.0 s, steps/err: 16(114.085912704 ms)/0.00170510280096)\n",
      "try joint motion\n",
      "======================================================================================================================================================\n",
      "result: 55 - ('track_face', 'track_face', 2, 0, 0)->('track_face', 'track_face', 2, 1, 0) = fail\n",
      "try joint motion\n",
      "try: 23 - ('track_face', 'track_face', 2, 0, 0)->('grip1', 'track_face', 2, 0, 0)\n",
      "result: 57 - ('grip1', 'track_face', 2, 0, 0)->('grip1', 'track_face', 2, 1, 0) = fail\n",
      "try: 45 - ('track_face', 'track_face', 2, 0, 0)->('grip1', 'track_face', 2, 0, 0)\n",
      "try: 45 - ('track_face', 'track_face', 2, 0, 0)->('track_face', 'grip1', 2, 0, 0)\n",
      "try: 25 - ('track_face', 'track_face', 2, 0, 0)->('track_face', 'grip1', 2, 0, 0)\n",
      "transition motion tried: True\n",
      "result: 45 - ('track_face', 'track_face', 2, 0, 0)->('grip1', 'track_face', 2, 0, 0) = fail\n"
     ]
    },
    {
     "name": "stdout",
     "output_type": "stream",
     "text": [
      "result: 45 - ('track_face', 'track_face', 2, 0, 0)->('track_face', 'grip1', 2, 0, 0) = fail\n",
      "try transition motion\n",
      "result: 47 - ('track_face', 'track_face', 2, 0, 0)->('track_face', 'grip1', 2, 0, 0) = success\n",
      "try constrained motion\n",
      "try: 58 - ('track_face', 'grip1', 2, 0, 0)->('track_face', 'grip1', 2, 0, 0)\n",
      "try: 58 - ('track_face', 'grip1', 2, 0, 0)->('track_face', 'grip1', 2, 1, 0)\n",
      "constrained motion tried: True\n",
      "result: 25 - ('track_face', 'track_face', 2, 0, 0)->('track_face', 'grip1', 2, 0, 0) = fail\n",
      "branching: 47->58 (2.62/200.0 s, steps/err: 37(174.062013626 ms)/0.00154461467196)\n",
      "result: 56 - ('grip1', 'track_face', 1, 0, 0)->('grip1', 'track_face', 2, 0, 0) = success\n",
      "try: 55 - ('track_face', 'track_face', 2, 0, 0)->('track_face', 'grip1', 2, 0, 0)\n",
      "try transition motion\n",
      "branching: 56->59 (2.65/200.0 s, steps/err: 29(94.9349403381 ms)/0.0015500299169)\n",
      "======================================================================================================================================================\n",
      "try joint motion\n",
      "result: 55 - ('track_face', 'track_face', 2, 0, 0)->('track_face', 'grip1', 2, 0, 0) = fail\n",
      "joint motion tried: True\n",
      "try: 59 - ('grip1', 'track_face', 2, 0, 0)->('grip1', 'track_face', 2, 0, 0)\n",
      "transition motion tried: True\n",
      "transition motion tried: True\n",
      "======================================================================================================================================================\n",
      "result: 45 - ('track_face', 'track_face', 2, 0, 0)->('track_face', 'grip1', 2, 0, 0) = success\n",
      "try joint motion\n",
      "branching: 45->60 (2.69/200.0 s, steps/err: 43(326.029062271 ms)/0.000605630404334)\n",
      "try: 60 - ('track_face', 'grip1', 2, 0, 0)->('track_face', 'grip1', 2, 0, 0)\n",
      "try: 59 - ('grip1', 'track_face', 2, 0, 0)->('grip1', 'track_face', 2, 1, 0)\n",
      "result: 57 - ('grip1', 'track_face', 2, 0, 0)->('grip1', 'track_face', 2, 0, 0) = success\n",
      "result: 23 - ('track_face', 'track_face', 2, 0, 0)->('grip1', 'track_face', 2, 0, 0) = success\n",
      "======================================================================================================================================================\n",
      "branching: 23->62 (2.73/200.0 s, steps/err: 27(133.975028992 ms)/0.00121979898124)\n",
      "try joint motion\n",
      "branching: 57->61 (2.71/200.0 s, steps/err: 29(158.957958221 ms)/9.4558390511e-16)\n",
      "======================================================================================================================================================\n",
      "joint motion tried: True\n",
      "try transition motion\n",
      "result: 55 - ('track_face', 'track_face', 2, 0, 0)->('track_face', 'track_face', 2, 0, 0) = success\n",
      "try: 60 - ('track_face', 'grip1', 2, 0, 0)->('track_face', 'grip1', 2, 1, 0)\n",
      "======================================================================================================================================================\n",
      "try: 61 - ('grip1', 'track_face', 2, 0, 0)->('grip1', 'track_face', 2, 1, 0)\n",
      "joint motion tried: True\n",
      "joint motion tried: True\n",
      "branching: 55->63 (2.75/200.0 s, steps/err: 45(207.06987381 ms)/9.34336439361e-16)\n",
      "result: 60 - ('track_face', 'grip1', 2, 0, 0)->('track_face', 'grip1', 2, 1, 0) = fail\n",
      "result: 59 - ('grip1', 'track_face', 2, 0, 0)->('grip1', 'track_face', 2, 0, 0) = success\n",
      "transition motion tried: True\n",
      "======================================================================================================================================================\n",
      "result: 58 - ('track_face', 'grip1', 2, 0, 0)->('track_face', 'grip1', 2, 0, 0) = success\n",
      "try: 62 - ('grip1', 'track_face', 2, 0, 0)->('grip1', 'track_face', 2, 0, 0)\n",
      "try transition motion\n",
      "branching: 59->64 (2.78/200.0 s, steps/err: 9(88.4931087494 ms)/1.05386241939e-15)\n",
      "try joint motion\n",
      "======================================================================================================================================================\n",
      "try: 63 - ('track_face', 'track_face', 2, 0, 0)->('track_face', 'track_face', 2, 1, 0)\n",
      "try: 62 - ('grip1', 'track_face', 2, 0, 0)->('grip1', 'track_face', 2, 1, 0)\n",
      "branching: 58->65 (2.8/200.0 s, steps/err: 33(148.133993149 ms)/8.10707627981e-16)\n",
      "try: 64 - ('grip1', 'track_face', 2, 0, 0)->('grip1', 'track_face', 2, 1, 0)\n",
      "======================================================================================================================================================\n",
      "result: 46 - ('track_face', 'track_face', 2, 0, 0)->('grip1', 'track_face', 2, 0, 0) = success\n",
      "joint motion tried: True\n",
      "result: 63 - ('track_face', 'track_face', 2, 0, 0)->('track_face', 'track_face', 2, 1, 0) = fail\n",
      "result: 60 - ('track_face', 'grip1', 2, 0, 0)->('track_face', 'grip1', 2, 0, 0) = success\n",
      "try: 66 - ('grip1', 'track_face', 2, 0, 0)->('grip1', 'track_face', 2, 0, 0)\n",
      "branching: 60->67 (2.82/200.0 s, steps/err: 32(97.6498126984 ms)/7.11138555548e-16)\n",
      "try: 65 - ('track_face', 'grip1', 2, 0, 0)->('track_face', 'grip1', 2, 1, 0)\n",
      "branching: 46->66 (2.81/200.0 s, steps/err: 65(625.272989273 ms)/0.00191758915075)\n",
      "======================================================================================================================================================\n",
      "result: 62 - ('grip1', 'track_face', 2, 0, 0)->('grip1', 'track_face', 2, 1, 0) = fail\n",
      "transition motion tried: True\n",
      "try: 66 - ('grip1', 'track_face', 2, 0, 0)->('grip1', 'track_face', 2, 1, 0)\n",
      "======================================================================================================================================================\n",
      "try joint motion\n",
      "try: 67 - ('track_face', 'grip1', 2, 0, 0)->('track_face', 'grip1', 2, 1, 0)\n",
      "try transition motion\n",
      "result: 59 - ('grip1', 'track_face', 2, 0, 0)->('grip1', 'track_face', 2, 1, 0) = success\n",
      "try: 68 - ('grip1', 'track_face', 2, 1, 0)->('grip1', 'track_face', 2, 2, 0)\n",
      "transition motion tried: True\n",
      "result: 67 - ('track_face', 'grip1', 2, 0, 0)->('track_face', 'grip1', 2, 1, 0) = fail\n",
      "branching: 59->68 (2.86/200.0 s, steps/err: 12(143.07808876 ms)/0.00150054788587)\n",
      "try transition motion\n",
      "result: 66 - ('grip1', 'track_face', 2, 0, 0)->('grip1', 'track_face', 2, 1, 0) = fail\n",
      "======================================================================================================================================================\n",
      "try: 46 - ('track_face', 'track_face', 2, 0, 0)->('track_face', 'grip1', 2, 0, 0)\n",
      "try: 69 - ('grip1', 'track_face', 2, 1, 0)->('grip1', 'track_face', 2, 2, 0)\n",
      "result: 61 - ('grip1', 'track_face', 2, 0, 0)->('grip1', 'track_face', 2, 1, 0) = success\n",
      "result: 68 - ('grip1', 'track_face', 2, 1, 0)->('grip1', 'track_face', 2, 2, 0) = fail\n",
      "try: 45 - ('track_face', 'track_face', 2, 0, 0)->('grip1', 'track_face', 2, 0, 0)\n",
      "try: 46 - ('track_face', 'track_face', 2, 0, 0)->('grip1', 'track_face', 2, 0, 0)\n",
      "branching: 61->69 (2.91/200.0 s, steps/err: 14(121.536016464 ms)/0.0011537967)\n",
      "result: 46 - ('track_face', 'track_face', 2, 0, 0)->('track_face', 'grip1', 2, 0, 0) = fail\n",
      "======================================================================================================================================================\n",
      "try: 45 - ('track_face', 'track_face', 2, 0, 0)->('track_face', 'grip1', 2, 0, 0)\n",
      "joint motion tried: True\n",
      "try: 63 - ('track_face', 'track_face', 2, 0, 0)->('track_face', 'grip1', 2, 0, 0)\n",
      "result: 45 - ('track_face', 'track_face', 2, 0, 0)->('grip1', 'track_face', 2, 0, 0) = fail\n",
      "transition motion tried: True\n",
      "result: 46 - ('track_face', 'track_face', 2, 0, 0)->('grip1', 'track_face', 2, 0, 0) = fail\n",
      "try: 25 - ('track_face', 'track_face', 2, 0, 0)->('grip1', 'track_face', 2, 0, 0)\n",
      "try: 42 - ('track_face', 'track_face', 2, 0, 0)->('track_face', 'grip1', 2, 0, 0)\n",
      "result: 42 - ('track_face', 'track_face', 2, 0, 0)->('grip1', 'track_face', 2, 0, 0) = success\n",
      "result: 62 - ('grip1', 'track_face', 2, 0, 0)->('grip1', 'track_face', 2, 0, 0) = success\n",
      "result: 69 - ('grip1', 'track_face', 2, 1, 0)->('grip1', 'track_face', 2, 2, 0) = fail\n",
      "result: 42 - ('track_face', 'track_face', 2, 0, 0)->('track_face', 'grip1', 2, 0, 0) = fail\n",
      "result: 45 - ('track_face', 'track_face', 2, 0, 0)->('track_face', 'grip1', 2, 0, 0) = fail\n",
      "branching: 42->71 (2.99/200.0 s, steps/err: 62(762.945890427 ms)/0.00139262331827)\n",
      "branching: 62->70 (2.99/200.0 s, steps/err: 27(183.275938034 ms)/6.99031848285e-16)\n"
     ]
    },
    {
     "name": "stdout",
     "output_type": "stream",
     "text": [
      "result: 63 - ('track_face', 'track_face', 2, 0, 0)->('track_face', 'grip1', 2, 0, 0) = fail\n",
      "try: 71 - ('grip1', 'track_face', 2, 0, 0)->('grip1', 'track_face', 2, 0, 0)\n",
      "try: 70 - ('grip1', 'track_face', 2, 0, 0)->('grip1', 'track_face', 2, 1, 0)\n",
      "try joint motion\n",
      "======================================================================================================================================================\n",
      "result: 25 - ('track_face', 'track_face', 2, 0, 0)->('grip1', 'track_face', 2, 0, 0) = fail\n",
      "try: 42 - ('track_face', 'track_face', 2, 0, 0)->('grip1', 'track_face', 2, 0, 0)\n",
      "======================================================================================================================================================\n",
      "try: 55 - ('track_face', 'track_face', 2, 0, 0)->('track_face', 'grip1', 2, 0, 0)\n",
      "try: 45 - ('track_face', 'track_face', 2, 0, 0)->('track_face', 'grip1', 2, 0, 0)\n",
      "try: 71 - ('grip1', 'track_face', 2, 0, 0)->('grip1', 'track_face', 2, 1, 0)\n",
      "try: 45 - ('track_face', 'track_face', 2, 0, 0)->('grip1', 'track_face', 2, 0, 0)\n",
      "transition motion tried: True\n",
      "try transition motion\n",
      "joint motion tried: True\n",
      "result: 42 - ('track_face', 'track_face', 2, 0, 0)->('grip1', 'track_face', 2, 0, 0) = fail\n",
      "result: 45 - ('track_face', 'track_face', 2, 0, 0)->('track_face', 'grip1', 2, 0, 0) = fail\n",
      "result: 55 - ('track_face', 'track_face', 2, 0, 0)->('track_face', 'grip1', 2, 0, 0) = fail\n",
      "try transition motion\n",
      "result: 65 - ('track_face', 'grip1', 2, 0, 0)->('track_face', 'grip1', 2, 1, 0) = success\n",
      "result: 66 - ('grip1', 'track_face', 2, 0, 0)->('grip1', 'track_face', 2, 0, 0) = success\n",
      "try: 73 - ('grip1', 'track_face', 2, 0, 0)->('grip1', 'track_face', 2, 1, 0)\n",
      "branching: 65->72 (3.08/200.0 s, steps/err: 13(228.458166122 ms)/0.00145565375998)\n",
      "try: 72 - ('track_face', 'grip1', 2, 1, 0)->('track_face', 'grip1', 2, 2, 0)\n",
      "result: 71 - ('grip1', 'track_face', 2, 0, 0)->('grip1', 'track_face', 2, 1, 0) = fail\n",
      "try: 40 - ('track_face', 'track_face', 2, 0, 0)->('track_face', 'grip1', 2, 0, 0)\n",
      "======================================================================================================================================================\n",
      "try transition motion\n",
      "branching: 66->73 (3.08/200.0 s, steps/err: 40(231.92191124 ms)/7.02582210148e-16)\n",
      "======================================================================================================================================================\n",
      "try: 43 - ('track_face', 'track_face', 2, 0, 0)->('grip1', 'track_face', 2, 0, 0)\n",
      "try: 23 - ('track_face', 'track_face', 2, 0, 0)->('track_face', 'grip1', 2, 0, 0)\n",
      "result: 23 - ('track_face', 'track_face', 2, 0, 0)->('track_face', 'grip1', 2, 0, 0) = fail\n",
      "result: 40 - ('track_face', 'track_face', 2, 0, 0)->('track_face', 'grip1', 2, 0, 0) = fail\n",
      "result: 43 - ('track_face', 'track_face', 2, 0, 0)->('grip1', 'track_face', 2, 0, 0) = fail\n",
      "transition motion tried: True\n",
      "try: 42 - ('track_face', 'track_face', 2, 0, 0)->('grip1', 'track_face', 2, 0, 0)\n",
      "try: 46 - ('track_face', 'track_face', 2, 0, 0)->('track_face', 'grip1', 2, 0, 0)\n",
      "try: 40 - ('track_face', 'track_face', 2, 0, 0)->('grip1', 'track_face', 2, 0, 0)\n",
      "result: 70 - ('grip1', 'track_face', 2, 0, 0)->('grip1', 'track_face', 2, 1, 0) = success\n",
      "try constrained motion\n",
      "result: 46 - ('track_face', 'track_face', 2, 0, 0)->('track_face', 'grip1', 2, 0, 0) = fail\n",
      "try transition motion\n",
      "result: 40 - ('track_face', 'track_face', 2, 0, 0)->('grip1', 'track_face', 2, 0, 0) = fail\n",
      "try: 74 - ('grip1', 'track_face', 2, 1, 0)->('grip1', 'track_face', 2, 2, 0)\n",
      "branching: 70->74 (3.15/200.0 s, steps/err: 11(128.681898117 ms)/0.00214788568719)\n",
      "try: 55 - ('track_face', 'track_face', 2, 0, 0)->('track_face', 'grip1', 2, 0, 0)\n",
      "constrained motion tried: True\n",
      "try: 45 - ('track_face', 'track_face', 2, 0, 0)->('track_face', 'grip1', 2, 0, 0)\n",
      "transition motion tried: True\n",
      "======================================================================================================================================================\n",
      "result: 72 - ('track_face', 'grip1', 2, 1, 0)->('track_face', 'grip1', 2, 2, 0) = success\n",
      "result: 55 - ('track_face', 'track_face', 2, 0, 0)->('track_face', 'grip1', 2, 0, 0) = fail\n",
      "result: 74 - ('grip1', 'track_face', 2, 1, 0)->('grip1', 'track_face', 2, 2, 0) = fail\n",
      "try: 75 - ('track_face', 'grip1', 2, 2, 0)->('track_face', 'track_face', 2, 2, 0)\n",
      "result: 45 - ('track_face', 'track_face', 2, 0, 0)->('track_face', 'grip1', 2, 0, 0) = fail\n",
      "result: 73 - ('grip1', 'track_face', 2, 0, 0)->('grip1', 'track_face', 2, 1, 0) = success\n",
      "branching: 72->75 (3.24/200.0 s, steps/err: 32(122.549772263 ms)/0.00194896627466)\n",
      "try: 75 - ('track_face', 'grip1', 2, 2, 0)->('track_face', 'grip1', 2, 2, 0)\n",
      "try: 75 - ('track_face', 'grip1', 2, 2, 0)->('track_face', 'grip1', 2, 2, 1)\n",
      "result: 75 - ('track_face', 'grip1', 2, 2, 0)->('track_face', 'track_face', 2, 2, 0) = fail\n",
      "try: 75 - ('track_face', 'grip1', 2, 2, 0)->('track_face', 'track_face', 2, 2, 0)\n",
      "try: 76 - ('grip1', 'track_face', 2, 1, 0)->('grip1', 'track_face', 2, 2, 0)\n",
      "branching: 73->76 (3.26/200.0 s, steps/err: 13(146.997213364 ms)/0.00108035220638)\n",
      "======================================================================================================================================================\n",
      "======================================================================================================================================================\n",
      "try joint motion\n",
      "try transition motion\n",
      "result: 76 - ('grip1', 'track_face', 2, 1, 0)->('grip1', 'track_face', 2, 2, 0) = fail\n",
      "transition motion tried: True\n",
      "result: 75 - ('track_face', 'grip1', 2, 2, 0)->('track_face', 'track_face', 2, 2, 0) = fail\n",
      "try: 75 - ('track_face', 'grip1', 2, 2, 0)->('track_face', 'track_face', 2, 2, 0)\n",
      "try: 75 - ('track_face', 'grip1', 2, 2, 0)->('track_face', 'track_face', 2, 2, 0)\n",
      "try: 75 - ('track_face', 'grip1', 2, 2, 0)->('track_face', 'track_face', 2, 2, 0)\n",
      "try: 75 - ('track_face', 'grip1', 2, 2, 0)->('track_face', 'track_face', 2, 2, 0)\n",
      "result: 75 - ('track_face', 'grip1', 2, 2, 0)->('track_face', 'track_face', 2, 2, 0) = fail\n",
      "joint motion tried: True\n",
      "result: 45 - ('track_face', 'track_face', 2, 0, 0)->('grip1', 'track_face', 2, 0, 0) = success\n",
      "joint motion tried: True\n",
      "result: 71 - ('grip1', 'track_face', 2, 0, 0)->('grip1', 'track_face', 2, 0, 0) = success\n",
      "try transition motion\n",
      "branching: 45->77 (3.35/200.0 s, steps/err: 22(288.800001144 ms)/0.00195135460123)\n",
      "try transition motion\n",
      "result: 75 - ('track_face', 'grip1', 2, 2, 0)->('track_face', 'grip1', 2, 2, 0) = success\n",
      "try: 77 - ('grip1', 'track_face', 2, 0, 0)->('grip1', 'track_face', 2, 0, 0)\n",
      "branching: 71->79 (3.36/200.0 s, steps/err: 44(352.309942245 ms)/1.1006377655e-15)\n",
      "======================================================================================================================================================\n",
      "result: 75 - ('track_face', 'grip1', 2, 2, 0)->('track_face', 'track_face', 2, 2, 0) = fail\n",
      "try joint motion\n",
      "try: 77 - ('grip1', 'track_face', 2, 0, 0)->('grip1', 'track_face', 2, 1, 0)\n",
      "branching: 75->78 (3.37/200.0 s, steps/err: 10(90.9049510956 ms)/4.83924315399e-16)\n",
      "try: 78 - ('track_face', 'grip1', 2, 2, 0)->('track_face', 'grip1', 2, 2, 1)\n",
      "transition motion tried: True\n",
      "======================================================================================================================================================\n",
      "======================================================================================================================================================\n",
      "result: 77 - ('grip1', 'track_face', 2, 0, 0)->('grip1', 'track_face', 2, 1, 0) = fail\n",
      "try: 79 - ('grip1', 'track_face', 2, 0, 0)->('grip1', 'track_face', 2, 1, 0)\n",
      "try transition motion\n",
      "try: 78 - ('track_face', 'grip1', 2, 2, 0)->('track_face', 'track_face', 2, 2, 0)\n",
      "result: 75 - ('track_face', 'grip1', 2, 2, 0)->('track_face', 'grip1', 2, 2, 1) = success\n",
      "try: 80 - ('track_face', 'grip1', 2, 2, 1)->('track_face', 'grip1', 2, 2, 2)\n",
      "branching: 75->80 (3.42/200.0 s, steps/err: 7(132.200956345 ms)/0.00100278261516)\n",
      "result: 78 - ('track_face', 'grip1', 2, 2, 0)->('track_face', 'track_face', 2, 2, 0) = fail\n",
      "try transition motion\n",
      "======================================================================================================================================================\n"
     ]
    },
    {
     "name": "stdout",
     "output_type": "stream",
     "text": [
      "try: 75 - ('track_face', 'grip1', 2, 2, 0)->('track_face', 'track_face', 2, 2, 0)\n",
      "try: 78 - ('track_face', 'grip1', 2, 2, 0)->('track_face', 'track_face', 2, 2, 0)\n",
      "try constrained motion\n",
      "joint motion tried: True\n",
      "result: 77 - ('grip1', 'track_face', 2, 0, 0)->('grip1', 'track_face', 2, 0, 0) = success\n",
      "result: 78 - ('track_face', 'grip1', 2, 2, 0)->('track_face', 'track_face', 2, 2, 0) = fail\n",
      "result: 75 - ('track_face', 'grip1', 2, 2, 0)->('track_face', 'track_face', 2, 2, 0) = fail\n",
      "try: 81 - ('grip1', 'track_face', 2, 0, 0)->('grip1', 'track_face', 2, 1, 0)\n",
      "branching: 77->81 (3.52/200.0 s, steps/err: 15(129.081964493 ms)/5.28712635324e-16)\n",
      "======================================================================================================================================================\n",
      "try: 75 - ('track_face', 'grip1', 2, 2, 0)->('track_face', 'track_face', 2, 2, 0)\n",
      "try transition motion\n",
      "transition motion tried: True\n",
      "try: 78 - ('track_face', 'grip1', 2, 2, 0)->('track_face', 'track_face', 2, 2, 0)\n",
      "transition motion tried: True\n",
      "result: 79 - ('grip1', 'track_face', 2, 0, 0)->('grip1', 'track_face', 2, 1, 0) = success\n",
      "result: 78 - ('track_face', 'grip1', 2, 2, 0)->('track_face', 'track_face', 2, 2, 0) = fail\n",
      "result: 75 - ('track_face', 'grip1', 2, 2, 0)->('track_face', 'track_face', 2, 2, 0) = success\n",
      "try transition motion\n",
      "try: 82 - ('track_face', 'track_face', 2, 2, 0)->('track_face', 'track_face', 2, 2, 0)\n",
      "branching: 79->83 (3.6/200.0 s, steps/err: 8(177.948951721 ms)/0.000916284087245)\n",
      "constrained motion tried: True\n",
      "branching: 75->82 (3.6/200.0 s, steps/err: 46(242.788076401 ms)/0.00185617133152)\n",
      "try joint motion\n",
      "======================================================================================================================================================\n",
      "======================================================================================================================================================\n",
      "try: 82 - ('track_face', 'track_face', 2, 2, 0)->('track_face', 'track_face', 2, 2, 1)\n",
      "result: 80 - ('track_face', 'grip1', 2, 2, 1)->('track_face', 'grip1', 2, 2, 2) = success\n",
      "try: 83 - ('grip1', 'track_face', 2, 1, 0)->('grip1', 'track_face', 2, 2, 0)\n",
      "branching: 80->84 (3.66/200.0 s, steps/err: 26(217.997074127 ms)/0.00128996791758)\n",
      "transition motion tried: True\n",
      "result: 82 - ('track_face', 'track_face', 2, 2, 0)->('track_face', 'track_face', 2, 2, 1) = fail\n",
      "======================================================================================================================================================\n",
      "try: 84 - ('track_face', 'grip1', 2, 2, 2)->('track_face', 'grip1', 2, 2, 2)\n",
      "result: 42 - ('track_face', 'track_face', 2, 0, 0)->('grip1', 'track_face', 2, 0, 0) = success\n",
      "result: 83 - ('grip1', 'track_face', 2, 1, 0)->('grip1', 'track_face', 2, 2, 0) = fail\n",
      "branching: 42->85 (3.7/200.0 s, steps/err: 42(537.005901337 ms)/0.0018735092051)\n",
      "try: 85 - ('grip1', 'track_face', 2, 0, 0)->('grip1', 'track_face', 2, 0, 0)\n",
      "try joint motion\n",
      "======================================================================================================================================================\n",
      "try joint motion\n",
      "try: 85 - ('grip1', 'track_face', 2, 0, 0)->('grip1', 'track_face', 2, 1, 0)\n",
      "result: 85 - ('grip1', 'track_face', 2, 0, 0)->('grip1', 'track_face', 2, 1, 0) = fail\n",
      "try: 84 - ('track_face', 'grip1', 2, 2, 2)->('track_face', 'track_face', 2, 2, 2)\n",
      "try: 84 - ('track_face', 'grip1', 2, 2, 2)->('track_face', 'track_face', 2, 2, 2)\n",
      "joint motion tried: True\n",
      "result: 84 - ('track_face', 'grip1', 2, 2, 2)->('track_face', 'grip1', 2, 2, 2) = success\n",
      "result: 84 - ('track_face', 'grip1', 2, 2, 2)->('track_face', 'track_face', 2, 2, 2) = fail\n",
      "result: 84 - ('track_face', 'grip1', 2, 2, 2)->('track_face', 'track_face', 2, 2, 2) = fail\n",
      "branching: 84->86 (3.8/200.0 s, steps/err: 11(79.8881053925 ms)/8.02655666197e-16)\n",
      "======================================================================================================================================================\n",
      "try: 84 - ('track_face', 'grip1', 2, 2, 2)->('track_face', 'track_face', 2, 2, 2)\n",
      "try: 84 - ('track_face', 'grip1', 2, 2, 2)->('track_face', 'track_face', 2, 2, 2)\n",
      "result: 84 - ('track_face', 'grip1', 2, 2, 2)->('track_face', 'track_face', 2, 2, 2) = fail\n",
      "result: 84 - ('track_face', 'grip1', 2, 2, 2)->('track_face', 'track_face', 2, 2, 2) = fail\n",
      "transition motion tried: True\n",
      "try: 84 - ('track_face', 'grip1', 2, 2, 2)->('track_face', 'track_face', 2, 2, 2)\n",
      "try: 86 - ('track_face', 'grip1', 2, 2, 2)->('track_face', 'track_face', 2, 2, 2)\n",
      "try: 86 - ('track_face', 'grip1', 2, 2, 2)->('track_face', 'track_face', 2, 2, 2)\n",
      "result: 84 - ('track_face', 'grip1', 2, 2, 2)->('track_face', 'track_face', 2, 2, 2) = fail\n",
      "result: 75 - ('track_face', 'grip1', 2, 2, 0)->('track_face', 'track_face', 2, 2, 0) = success\n",
      "result: 86 - ('track_face', 'grip1', 2, 2, 2)->('track_face', 'track_face', 2, 2, 2) = fail\n",
      "branching: 75->87 (3.9/200.0 s, steps/err: 37(338.215112686 ms)/0.00149812466787)\n",
      "try: 87 - ('track_face', 'track_face', 2, 2, 0)->('track_face', 'track_face', 2, 2, 0)\n",
      "joint motion tried: True\n",
      "======================================================================================================================================================\n",
      "result: 86 - ('track_face', 'grip1', 2, 2, 2)->('track_face', 'track_face', 2, 2, 2) = fail\n",
      "try joint motion\n",
      "try: 87 - ('track_face', 'track_face', 2, 2, 0)->('track_face', 'track_face', 2, 2, 1)\n",
      "try: 88 - ('grip1', 'track_face', 2, 0, 0)->('grip1', 'track_face', 2, 1, 0)\n",
      "result: 85 - ('grip1', 'track_face', 2, 0, 0)->('grip1', 'track_face', 2, 0, 0) = success\n",
      "branching: 85->88 (3.93/200.0 s, steps/err: 41(199.856996536 ms)/1.07161326318e-15)\n",
      "try: 87 - ('track_face', 'track_face', 2, 2, 0)->('grip1', 'track_face', 2, 2, 0)\n",
      "result: 87 - ('track_face', 'track_face', 2, 2, 0)->('grip1', 'track_face', 2, 2, 0) = fail\n",
      "try transition motion\n",
      "result: 87 - ('track_face', 'track_face', 2, 2, 0)->('track_face', 'track_face', 2, 2, 1) = fail\n",
      "======================================================================================================================================================\n",
      "try: 82 - ('track_face', 'track_face', 2, 2, 0)->('track_face', 'grip1', 2, 2, 0)\n",
      "joint motion tried: True\n",
      "try: 87 - ('track_face', 'track_face', 2, 2, 0)->('track_face', 'grip1', 2, 2, 0)\n",
      "try: 87 - ('track_face', 'track_face', 2, 2, 0)->('track_face', 'grip1', 2, 2, 0)\n",
      "result: 82 - ('track_face', 'track_face', 2, 2, 0)->('track_face', 'track_face', 2, 2, 0) = success\n",
      "branching: 82->89 (4.02/200.0 s, steps/err: 42(374.704837799 ms)/8.42307483928e-16)\n",
      "try transition motion\n",
      "result: 82 - ('track_face', 'track_face', 2, 2, 0)->('track_face', 'grip1', 2, 2, 0) = fail\n",
      "======================================================================================================================================================\n",
      "try transition motion\n",
      "try: 89 - ('track_face', 'track_face', 2, 2, 0)->('track_face', 'track_face', 2, 2, 1)\n",
      "try: 89 - ('track_face', 'track_face', 2, 2, 0)->('grip1', 'track_face', 2, 2, 0)\n",
      "transition motion tried: True\n",
      "try transition motion\n",
      "result: 89 - ('track_face', 'track_face', 2, 2, 0)->('grip1', 'track_face', 2, 2, 0) = fail\n",
      "result: 88 - ('grip1', 'track_face', 2, 0, 0)->('grip1', 'track_face', 2, 1, 0) = success\n",
      "branching: 88->90 (4.12/200.0 s, steps/err: 22(131.506919861 ms)/0.00165644361004)\n",
      "try: 90 - ('grip1', 'track_face', 2, 1, 0)->('grip1', 'track_face', 2, 2, 0)\n",
      "result: 90 - ('grip1', 'track_face', 2, 1, 0)->('grip1', 'track_face', 2, 2, 0) = fail\n",
      "transition motion tried: True\n",
      "======================================================================================================================================================\n",
      "result: 87 - ('track_face', 'track_face', 2, 2, 0)->('track_face', 'grip1', 2, 2, 0) = success\n",
      "try: 91 - ('track_face', 'grip1', 2, 2, 0)->('track_face', 'grip1', 2, 2, 0)\n",
      "branching: 87->91 (4.17/200.0 s, steps/err: 21(158.707857132 ms)/0.00112592415063)\n",
      "======================================================================================================================================================\n",
      "try: 82 - ('track_face', 'track_face', 2, 2, 0)->('track_face', 'grip1', 2, 2, 0)\n"
     ]
    },
    {
     "name": "stdout",
     "output_type": "stream",
     "text": [
      "joint motion tried: True\n",
      "try: 91 - ('track_face', 'grip1', 2, 2, 0)->('track_face', 'grip1', 2, 2, 1)\n",
      "transition motion tried: True\n",
      "result: 87 - ('track_face', 'track_face', 2, 2, 0)->('track_face', 'track_face', 2, 2, 0) = success\n",
      "try joint motion\n",
      "result: 82 - ('track_face', 'track_face', 2, 2, 0)->('track_face', 'grip1', 2, 2, 0) = fail\n",
      "try: 92 - ('track_face', 'track_face', 2, 2, 0)->('track_face', 'track_face', 2, 2, 1)\n",
      "result: 89 - ('track_face', 'track_face', 2, 2, 0)->('track_face', 'track_face', 2, 2, 1) = success\n",
      "result: 91 - ('track_face', 'grip1', 2, 2, 0)->('track_face', 'grip1', 2, 2, 1) = fail\n",
      "try: 93 - ('track_face', 'track_face', 2, 2, 1)->('track_face', 'track_face', 2, 2, 2)\n",
      "branching: 87->92 (4.24/200.0 s, steps/err: 38(286.074876785 ms)/9.31339010618e-16)\n",
      "branching: 89->93 (4.26/200.0 s, steps/err: 27(170.259952545 ms)/0.00160713273372)\n",
      "======================================================================================================================================================\n",
      "result: 92 - ('track_face', 'track_face', 2, 2, 0)->('track_face', 'track_face', 2, 2, 1) = fail\n",
      "try: 92 - ('track_face', 'track_face', 2, 2, 0)->('grip1', 'track_face', 2, 2, 0)\n",
      "======================================================================================================================================================\n",
      "try: 87 - ('track_face', 'track_face', 2, 2, 0)->('grip1', 'track_face', 2, 2, 0)\n",
      "try: 87 - ('track_face', 'track_face', 2, 2, 0)->('grip1', 'track_face', 2, 2, 0)\n",
      "joint motion tried: True\n",
      "result: 87 - ('track_face', 'track_face', 2, 2, 0)->('grip1', 'track_face', 2, 2, 0) = fail\n",
      "result: 87 - ('track_face', 'track_face', 2, 2, 0)->('grip1', 'track_face', 2, 2, 0) = fail\n",
      "result: 91 - ('track_face', 'grip1', 2, 2, 0)->('track_face', 'grip1', 2, 2, 0) = success\n",
      "result: 92 - ('track_face', 'track_face', 2, 2, 0)->('grip1', 'track_face', 2, 2, 0) = fail\n",
      "try: 94 - ('track_face', 'grip1', 2, 2, 0)->('track_face', 'grip1', 2, 2, 1)\n",
      "branching: 91->94 (4.35/200.0 s, steps/err: 27(141.047000885 ms)/7.6694784604e-16)\n",
      "result: 93 - ('track_face', 'track_face', 2, 2, 1)->('track_face', 'track_face', 2, 2, 2) = fail\n",
      "======================================================================================================================================================\n",
      "try: 92 - ('track_face', 'track_face', 2, 2, 0)->('track_face', 'grip1', 2, 2, 0)\n",
      "try transition motion\n",
      "try: 89 - ('track_face', 'track_face', 2, 2, 0)->('grip1', 'track_face', 2, 2, 0)\n",
      "try: 87 - ('track_face', 'track_face', 2, 2, 0)->('track_face', 'grip1', 2, 2, 0)\n",
      "try: 87 - ('track_face', 'track_face', 2, 2, 0)->('grip1', 'track_face', 2, 2, 0)\n",
      "result: 92 - ('track_face', 'track_face', 2, 2, 0)->('track_face', 'grip1', 2, 2, 0) = fail\n",
      "result: 89 - ('track_face', 'track_face', 2, 2, 0)->('grip1', 'track_face', 2, 2, 0) = fail\n",
      "result: 87 - ('track_face', 'track_face', 2, 2, 0)->('grip1', 'track_face', 2, 2, 0) = fail\n",
      "try: 92 - ('track_face', 'track_face', 2, 2, 0)->('track_face', 'grip1', 2, 2, 0)\n",
      "try: 87 - ('track_face', 'track_face', 2, 2, 0)->('grip1', 'track_face', 2, 2, 0)\n",
      "result: 87 - ('track_face', 'track_face', 2, 2, 0)->('track_face', 'grip1', 2, 2, 0) = fail\n",
      "try: 87 - ('track_face', 'track_face', 2, 2, 0)->('grip1', 'track_face', 2, 2, 0)\n",
      "try: 92 - ('track_face', 'track_face', 2, 2, 0)->('track_face', 'grip1', 2, 2, 0)\n",
      "result: 92 - ('track_face', 'track_face', 2, 2, 0)->('track_face', 'grip1', 2, 2, 0) = fail\n",
      "try: 87 - ('track_face', 'track_face', 2, 2, 0)->('grip1', 'track_face', 2, 2, 0)\n",
      "try transition motion\n",
      "result: 92 - ('track_face', 'track_face', 2, 2, 0)->('track_face', 'grip1', 2, 2, 0) = fail\n",
      "try transition motion\n",
      "result: 87 - ('track_face', 'track_face', 2, 2, 0)->('grip1', 'track_face', 2, 2, 0) = fail\n",
      "try: 82 - ('track_face', 'track_face', 2, 2, 0)->('grip1', 'track_face', 2, 2, 0)\n",
      "transition motion tried: True\n",
      "try: 89 - ('track_face', 'track_face', 2, 2, 0)->('track_face', 'grip1', 2, 2, 0)\n",
      "result: 94 - ('track_face', 'grip1', 2, 2, 0)->('track_face', 'grip1', 2, 2, 1) = success\n",
      "result: 82 - ('track_face', 'track_face', 2, 2, 0)->('grip1', 'track_face', 2, 2, 0) = fail\n",
      "try transition motion\n",
      "branching: 94->95 (4.5/200.0 s, steps/err: 7(130.228996277 ms)/0.00180426457855)\n",
      "======================================================================================================================================================\n",
      "try: 95 - ('track_face', 'grip1', 2, 2, 1)->('track_face', 'grip1', 2, 2, 2)\n",
      "try: 87 - ('track_face', 'track_face', 2, 2, 0)->('track_face', 'grip1', 2, 2, 0)\n",
      "result: 87 - ('track_face', 'track_face', 2, 2, 0)->('track_face', 'grip1', 2, 2, 0) = fail\n",
      "try: 89 - ('track_face', 'track_face', 2, 2, 0)->('grip1', 'track_face', 2, 2, 0)\n",
      "try constrained motion\n",
      "result: 89 - ('track_face', 'track_face', 2, 2, 0)->('grip1', 'track_face', 2, 2, 0) = fail\n",
      "constrained motion tried: True\n",
      "result: 95 - ('track_face', 'grip1', 2, 2, 1)->('track_face', 'grip1', 2, 2, 2) = success\n",
      "try: 87 - ('track_face', 'track_face', 2, 2, 0)->('track_face', 'grip1', 2, 2, 0)\n",
      "branching: 95->96 (4.74/200.0 s, steps/err: 26(145.261049271 ms)/0.000758058025175)\n",
      "result: 87 - ('track_face', 'track_face', 2, 2, 0)->('track_face', 'grip1', 2, 2, 0) = fail\n",
      "try: 96 - ('track_face', 'grip1', 2, 2, 2)->('track_face', 'grip1', 2, 2, 2)\n",
      "======================================================================================================================================================\n",
      "try joint motion\n",
      "try: 84 - ('track_face', 'grip1', 2, 2, 2)->('track_face', 'track_face', 2, 2, 2)\n",
      "joint motion tried: True\n",
      "result: 84 - ('track_face', 'grip1', 2, 2, 2)->('track_face', 'track_face', 2, 2, 2) = fail\n",
      "try: 96 - ('track_face', 'grip1', 2, 2, 2)->('track_face', 'track_face', 2, 2, 2)\n",
      "result: 96 - ('track_face', 'grip1', 2, 2, 2)->('track_face', 'grip1', 2, 2, 2) = success\n",
      "branching: 96->97 (4.86/200.0 s, steps/err: 11(67.9869651794 ms)/5.99573503489e-16)\n",
      "result: 96 - ('track_face', 'grip1', 2, 2, 2)->('track_face', 'track_face', 2, 2, 2) = fail\n",
      "======================================================================================================================================================\n",
      "try: 86 - ('track_face', 'grip1', 2, 2, 2)->('track_face', 'track_face', 2, 2, 2)\n",
      "try: 86 - ('track_face', 'grip1', 2, 2, 2)->('track_face', 'track_face', 2, 2, 2)\n",
      "try transition motion\n",
      "result: 86 - ('track_face', 'grip1', 2, 2, 2)->('track_face', 'track_face', 2, 2, 2) = fail\n",
      "try: 96 - ('track_face', 'grip1', 2, 2, 2)->('track_face', 'track_face', 2, 2, 2)\n",
      "result: 96 - ('track_face', 'grip1', 2, 2, 2)->('track_face', 'track_face', 2, 2, 2) = fail\n",
      "try: 84 - ('track_face', 'grip1', 2, 2, 2)->('track_face', 'track_face', 2, 2, 2)\n",
      "transition motion tried: True\n",
      "result: 86 - ('track_face', 'grip1', 2, 2, 2)->('track_face', 'track_face', 2, 2, 2) = success\n",
      "result: 84 - ('track_face', 'grip1', 2, 2, 2)->('track_face', 'track_face', 2, 2, 2) = fail\n",
      "branching: 86->98 (5.05/200.0 s, steps/err: 19(122.517108917 ms)/0.00119831780715)\n",
      "try: 98 - ('track_face', 'track_face', 2, 2, 2)->('grip1', 'track_face', 2, 2, 2)\n",
      "======================================================================================================================================================\n",
      "result: 98 - ('track_face', 'track_face', 2, 2, 2)->('grip1', 'track_face', 2, 2, 2) = fail\n",
      "++ adding return motion to acquired answer ++\n",
      "try: 98 - ('track_face', 'track_face', 2, 2, 2)->('grip1', 'track_face', 2, 2, 2)\n",
      "try joint motion\n",
      "result: 98 - ('track_face', 'track_face', 2, 2, 2)->('grip1', 'track_face', 2, 2, 2) = fail\n",
      "try: 98 - ('track_face', 'track_face', 2, 2, 2)->('grip1', 'track_face', 2, 2, 2)\n",
      "joint motion tried: True\n",
      "result: 98 - ('track_face', 'track_face', 2, 2, 2)->('grip1', 'track_face', 2, 2, 2) = fail\n",
      "try: 98 - ('track_face', 'track_face', 2, 2, 2)->('track_face', 'grip1', 2, 2, 2)\n",
      "result: 98 - ('track_face', 'track_face', 2, 2, 2)->('track_face', 'grip1', 2, 2, 2) = fail\n",
      "try: 99 - ('track_face', 'track_face', 2, 2, 2)->('track_face', 'grip1', 2, 2, 2)\n",
      "try transition motion\n",
      "=========================================================================================================\n",
      "transition motion tried: True\n",
      "result: 99 - ('track_face', 'track_face', 2, 2, 2)->('track_face', 'grip1', 2, 2, 2) = success\n"
     ]
    },
    {
     "name": "stdout",
     "output_type": "stream",
     "text": [
      "======================= terminated 14: first answer acquired ===============================\n",
      "=========================================================================================================\n",
      "branching: 99->100 (5.49/200.0 s, steps/err: 23(139.758825302 ms)/0.00148319173627)\n",
      "======================================================================================================================================================\n",
      "=========================================================================================================\n",
      "======================= terminated 4: first answer acquired from other agent ===============================\n",
      "=========================================================================================================\n",
      "transition motion tried: True\n",
      "result: 87 - ('track_face', 'track_face', 2, 2, 0)->('grip1', 'track_face', 2, 2, 0) = success\n",
      "branching: 87->101 (5.63/200.0 s, steps/err: 199(1171.53477669 ms)/0.00170667897642)\n",
      "======================================================================================================================================================\n",
      "=========================================================================================================\n",
      "======================= terminated 10: first answer acquired from other agent ===============================\n",
      "=========================================================================================================\n",
      "transition motion tried: True\n",
      "result: 89 - ('track_face', 'track_face', 2, 2, 0)->('track_face', 'grip1', 2, 2, 0) = success\n",
      "branching: 89->102 (6.38/200.0 s, steps/err: 47(1862.5421524 ms)/0.00192526630742)\n",
      "======================================================================================================================================================\n",
      "=========================================================================================================\n",
      "======================= terminated 2: first answer acquired from other agent ===============================\n",
      "=========================================================================================================\n",
      "transition motion tried: False\n",
      "result: 6 - ('grip1', 'track_face', 0, 0, 0)->('grip1', 'track_face', 1, 0, 0) = fail\n",
      "=========================================================================================================\n",
      "transition motion tried: False\n",
      "result: 8 - ('grip1', 'track_face', 0, 0, 0)->('grip1', 'track_face', 1, 0, 0) = fail\n",
      "======================= terminated 6: first answer acquired from other agent ===============================\n",
      "=========================================================================================================\n",
      "=========================================================================================================\n",
      "======================= terminated 1: first answer acquired from other agent ===============================\n",
      "=========================================================================================================\n",
      "transition motion tried: False\n",
      "result: 0 - ('track_face', 'track_face', 0, 0, 0)->('grip1', 'track_face', 0, 0, 0) = fail\n",
      "=========================================================================================================\n",
      "======================= terminated 0: first answer acquired from other agent ===============================\n",
      "=========================================================================================================\n",
      "transition motion tried: False\n",
      "result: 23 - ('track_face', 'track_face', 2, 0, 0)->('grip1', 'track_face', 2, 0, 0) = fail\n",
      "=========================================================================================================\n",
      "======================= terminated 3: first answer acquired from other agent ===============================\n",
      "=========================================================================================================\n",
      "transition motion tried: False\n",
      "result: 33 - ('track_face', 'grip1', 0, 0, 0)->('track_face', 'grip1', 1, 0, 0) = fail\n",
      "=========================================================================================================\n",
      "======================= terminated 9: first answer acquired from other agent ===============================\n",
      "=========================================================================================================\n",
      "transition motion tried: False\n",
      "result: 36 - ('grip1', 'track_face', 2, 0, 0)->('grip1', 'track_face', 2, 1, 0) = fail\n",
      "=========================================================================================================\n",
      "======================= terminated 5: first answer acquired from other agent ===============================\n",
      "=========================================================================================================\n",
      "transition motion tried: False\n",
      "result: 32 - ('grip1', 'track_face', 2, 0, 0)->('track_face', 'track_face', 2, 0, 0) = fail\n",
      "=========================================================================================================\n",
      "======================= terminated 15: first answer acquired from other agent ===============================\n",
      "=========================================================================================================\n",
      "transition motion tried: False\n",
      "result: 39 - ('grip1', 'track_face', 2, 0, 0)->('grip1', 'track_face', 2, 1, 0) = fail\n",
      "=========================================================================================================\n",
      "======================= terminated 18: first answer acquired from other agent ===============================\n",
      "=========================================================================================================\n",
      "transition motion tried: False\n",
      "result: 47 - ('track_face', 'track_face', 2, 0, 0)->('track_face', 'track_face', 2, 1, 0) = fail\n",
      "=========================================================================================================\n",
      "======================= terminated 17: first answer acquired from other agent ===============================\n",
      "=========================================================================================================\n",
      "transition motion tried: False\n",
      "result: 58 - ('track_face', 'grip1', 2, 0, 0)->('track_face', 'grip1', 2, 1, 0) = fail\n",
      "=========================================================================================================\n",
      "======================= terminated 12: first answer acquired from other agent ===============================\n",
      "=========================================================================================================\n",
      "transition motion tried: True\n",
      "result: 87 - ('track_face', 'track_face', 2, 2, 0)->('grip1', 'track_face', 2, 2, 0) = success\n",
      "branching: 87->103 (12.73/200.0 s, steps/err: 28(8299.37386513 ms)/0.00164673172587)\n",
      "======================================================================================================================================================\n",
      "=========================================================================================================\n",
      "======================= terminated 8: first answer acquired from other agent ===============================\n",
      "=========================================================================================================\n",
      "transition motion tried: False\n",
      "result: 64 - ('grip1', 'track_face', 2, 0, 0)->('grip1', 'track_face', 2, 1, 0) = fail\n",
      "=========================================================================================================\n",
      "======================= terminated 11: first answer acquired from other agent ===============================\n",
      "=========================================================================================================\n",
      "transition motion tried: False\n",
      "result: 75 - ('track_face', 'grip1', 2, 2, 0)->('track_face', 'track_face', 2, 2, 0) = fail\n",
      "=========================================================================================================\n",
      "======================= terminated 19: first answer acquired from other agent ===============================\n",
      "=========================================================================================================\n",
      "transition motion tried: False\n",
      "result: 78 - ('track_face', 'grip1', 2, 2, 0)->('track_face', 'grip1', 2, 2, 1) = fail\n"
     ]
    },
    {
     "name": "stdout",
     "output_type": "stream",
     "text": [
      "=========================================================================================================\n",
      "======================= terminated 13: first answer acquired from other agent ===============================\n",
      "=========================================================================================================\n",
      "transition motion tried: False\n",
      "result: 81 - ('grip1', 'track_face', 2, 0, 0)->('grip1', 'track_face', 2, 1, 0) = fail\n",
      "=========================================================================================================\n",
      "======================= terminated 7: first answer acquired from other agent ===============================\n",
      "=========================================================================================================\n",
      "transition motion tried: False\n",
      "result: 87 - ('track_face', 'track_face', 2, 2, 0)->('track_face', 'grip1', 2, 2, 0) = fail\n",
      "=========================================================================================================\n",
      "======================= terminated 16: first answer acquired from other agent ===============================\n",
      "=========================================================================================================\n"
     ]
    }
   ],
   "source": [
    "mplan.reset_log(False)\n",
    "gtimer.reset()\n",
    "# goal_nodes = [(\"track_face\",\"track_face\")+(2,0,0)]\n",
    "goal_nodes = [(\"track_face\",\"track_face\")+tuple([2 for _ in range(TRACK_NUM)])]\n",
    "# goal_nodes = [(\"floor\",\"floor\",\"floor\", 2, 2, 2)]\n",
    "gtimer.tic(\"plan\")\n",
    "ppline.search(initial_state, goal_nodes, verbose=True, display=False, dt_vis=0.01, \n",
    "              timeout_loop=200, multiprocess=True, timeout=10, timeout_constrained=50)\n",
    "gtimer.toc(\"plan\")\n",
    "schedules = ppline.tplan.find_schedules()\n",
    "schedules_sorted = ppline.tplan.sort_schedule(schedules)\n",
    "snode_schedule = ppline.tplan.idxSchedule2SnodeScedule(schedules_sorted[0])"
   ]
  },
  {
   "cell_type": "code",
   "execution_count": 42,
   "metadata": {
    "scrolled": false
   },
   "outputs": [
    {
     "name": "stdout",
     "output_type": "stream",
     "text": [
      "plan: \t5487.0 ms/1 = 5487.089 ms (5487.089/5487.089)\n",
      "\n"
     ]
    }
   ],
   "source": [
    "print(gtimer)"
   ]
  },
  {
   "cell_type": "code",
   "execution_count": 43,
   "metadata": {},
   "outputs": [],
   "source": [
    "# for i, sidx in enumerate([1, 2, 4, 6]):\n",
    "#     save_json(\"traj{}.json\".format(i), tplan.snode_dict[sidx].traj)\n",
    "#     gscene.show_motion(tplan.snode_dict[sidx].traj, period=0.05)\n",
    "        "
   ]
  },
  {
   "cell_type": "code",
   "execution_count": 44,
   "metadata": {},
   "outputs": [],
   "source": [
    "# import matplotlib.pyplot as plt\n",
    "# kin = stereo.camera_list[0]\n",
    "# rs = stereo.camera_list[1]"
   ]
  },
  {
   "cell_type": "code",
   "execution_count": 45,
   "metadata": {},
   "outputs": [],
   "source": [
    "# plt.figure(figsize=(15,10))\n",
    "# plt.imshow(kin.get_image())"
   ]
  },
  {
   "cell_type": "code",
   "execution_count": 46,
   "metadata": {},
   "outputs": [],
   "source": [
    "# plt.figure(figsize=(15,10))\n",
    "# plt.imshow(rs.get_image())"
   ]
  },
  {
   "cell_type": "code",
   "execution_count": null,
   "metadata": {},
   "outputs": [],
   "source": []
  },
  {
   "cell_type": "markdown",
   "metadata": {},
   "source": [
    "## play searched plan"
   ]
  },
  {
   "cell_type": "code",
   "execution_count": 47,
   "metadata": {},
   "outputs": [],
   "source": [
    "ppline.play_schedule(snode_schedule[:2], period=0.001)\n",
    "pscene.set_object_state(initial_state)\n",
    "gscene.show_pose(crob.home_pose)\n",
    "time.sleep(0.5)\n",
    "gscene.show_pose(crob.home_pose)"
   ]
  },
  {
   "cell_type": "code",
   "execution_count": 48,
   "metadata": {
    "scrolled": false
   },
   "outputs": [],
   "source": [
    "ppline.play_schedule(snode_schedule, period=0.03)"
   ]
  },
  {
   "cell_type": "code",
   "execution_count": 49,
   "metadata": {},
   "outputs": [],
   "source": [
    "# print(\"schedule length: {}\".format(len(snode_schedule)))\n",
    "# for i_s,  snode in enumerate(snode_schedule):\n",
    "#     print(\"{}: {}\".format(i_s, snode.state.node))"
   ]
  },
  {
   "cell_type": "code",
   "execution_count": 50,
   "metadata": {},
   "outputs": [],
   "source": [
    "# save_json(\"traj.json\", snode_schedule[1].traj)"
   ]
  },
  {
   "cell_type": "markdown",
   "metadata": {},
   "source": [
    "## execute plan"
   ]
  },
  {
   "cell_type": "code",
   "execution_count": 51,
   "metadata": {},
   "outputs": [
    {
     "name": "stdout",
     "output_type": "stream",
     "text": [
      "connection command:\n",
      "indy0: True\n",
      "panda1: True\n",
      "Connect: Server IP (192.168.0.63)\n"
     ]
    }
   ],
   "source": [
    "crob.reset_connection(True,True)"
   ]
  },
  {
   "cell_type": "code",
   "execution_count": 52,
   "metadata": {},
   "outputs": [
    {
     "name": "stdout",
     "output_type": "stream",
     "text": [
      "Connect: Server IP (192.168.0.63)\n"
     ]
    }
   ],
   "source": [
    "indy = crob.robot_dict[\"indy0\"]\n",
    "panda = crob.robot_dict[\"panda1\"]\n",
    "with indy:\n",
    "    indy.set_joint_vel_level(1)\n",
    "    indy.set_task_vel_level(1)"
   ]
  },
  {
   "cell_type": "code",
   "execution_count": 53,
   "metadata": {},
   "outputs": [
    {
     "name": "stdout",
     "output_type": "stream",
     "text": [
      "Connect: Server IP (192.168.0.63)\n",
      "Connect: Server IP (192.168.0.63)\n"
     ]
    }
   ],
   "source": [
    "crob.joint_move_make_sure(crob.home_pose)"
   ]
  },
  {
   "cell_type": "code",
   "execution_count": 54,
   "metadata": {},
   "outputs": [
    {
     "name": "stdout",
     "output_type": "stream",
     "text": [
      "Connect: Server IP (192.168.0.63)\n"
     ]
    },
    {
     "data": {
      "text/plain": [
       "{'stop': True}"
      ]
     },
     "execution_count": 54,
     "metadata": {},
     "output_type": "execute_result"
    }
   ],
   "source": [
    "indy.stop_tracking()"
   ]
  },
  {
   "cell_type": "code",
   "execution_count": 55,
   "metadata": {},
   "outputs": [
    {
     "name": "stdout",
     "output_type": "stream",
     "text": [
      "Connect: Server IP (192.168.0.63)\n"
     ]
    }
   ],
   "source": [
    "crob.grasp(indy0=False, panda1=False)"
   ]
  },
  {
   "cell_type": "code",
   "execution_count": 56,
   "metadata": {
    "scrolled": true
   },
   "outputs": [
    {
     "name": "stdout",
     "output_type": "stream",
     "text": [
      "Connect: Server IP (192.168.0.63)\n",
      "Connect: Server IP (192.168.0.63)\n",
      "binder: track_face\n",
      "rname: None\n",
      "binder: track_face\n",
      "rname: None\n",
      "binder: None\n",
      "binder: None\n",
      "binder: None\n",
      "Connect: Server IP (192.168.0.63)\n",
      "binder: track_face\n",
      "rname: None\n",
      "binder: track_face\n",
      "rname: None\n",
      "binder: None\n",
      "binder: None\n",
      "binder: None\n",
      "Connect: Server IP (192.168.0.63)\n",
      "go\n",
      "binder: grip1\n",
      "rname: panda1\n",
      "binder: track_face\n",
      "rname: None\n",
      "binder: None\n",
      "binder: None\n",
      "binder: None\n",
      "Connect: Server IP (192.168.0.63)\n",
      "go\n",
      "binder: grip1\n",
      "rname: panda1\n",
      "binder: track_face\n",
      "rname: None\n",
      "binder: None\n",
      "binder: None\n",
      "binder: None\n",
      "Connect: Server IP (192.168.0.63)\n",
      "go\n",
      "Connect: Server IP (192.168.0.63)\n",
      "binder: grip1\n",
      "rname: panda1\n",
      "binder: track_face\n",
      "rname: None\n",
      "binder: brush_face\n",
      "rname: indy0\n",
      "binder: None\n",
      "binder: None\n",
      "Connect: Server IP (192.168.0.63)\n",
      "go\n",
      "Connect: Server IP (192.168.0.63)\n",
      "binder: grip1\n",
      "rname: panda1\n",
      "binder: track_face\n",
      "rname: None\n",
      "binder: brush_face\n",
      "rname: indy0\n",
      "binder: None\n",
      "binder: None\n",
      "Connect: Server IP (192.168.0.63)\n",
      "go\n",
      "Connect: Server IP (192.168.0.63)\n",
      "binder: grip1\n",
      "rname: panda1\n",
      "binder: track_face\n",
      "rname: None\n",
      "binder: brush_face\n",
      "rname: indy0\n",
      "binder: None\n",
      "binder: None\n",
      "Connect: Server IP (192.168.0.63)\n",
      "go\n",
      "binder: track_face\n",
      "rname: None\n",
      "binder: track_face\n",
      "rname: None\n",
      "binder: brush_face\n",
      "rname: indy0\n",
      "binder: None\n",
      "binder: None\n",
      "Connect: Server IP (192.168.0.63)\n",
      "go\n",
      "binder: track_face\n",
      "rname: None\n",
      "binder: track_face\n",
      "rname: None\n",
      "binder: brush_face\n",
      "rname: indy0\n",
      "binder: None\n",
      "binder: None\n",
      "Connect: Server IP (192.168.0.63)\n",
      "go\n",
      "binder: track_face\n",
      "rname: None\n",
      "binder: grip1\n",
      "rname: panda1\n",
      "binder: brush_face\n",
      "rname: indy0\n",
      "binder: None\n",
      "binder: None\n",
      "Connect: Server IP (192.168.0.63)\n",
      "go\n",
      "binder: track_face\n",
      "rname: None\n",
      "binder: grip1\n",
      "rname: panda1\n",
      "binder: brush_face\n",
      "rname: indy0\n",
      "binder: None\n",
      "binder: None\n",
      "Connect: Server IP (192.168.0.63)\n",
      "go\n",
      "Connect: Server IP (192.168.0.63)\n",
      "binder: track_face\n",
      "rname: None\n",
      "binder: grip1\n",
      "rname: panda1\n",
      "binder: brush_face\n",
      "rname: indy0\n",
      "binder: brush_face\n",
      "rname: indy0\n",
      "binder: None\n",
      "Connect: Server IP (192.168.0.63)\n",
      "go\n",
      "Connect: Server IP (192.168.0.63)\n",
      "binder: track_face\n",
      "rname: None\n",
      "binder: grip1\n",
      "rname: panda1\n",
      "binder: brush_face\n",
      "rname: indy0\n",
      "binder: brush_face\n",
      "rname: indy0\n",
      "binder: None\n",
      "Connect: Server IP (192.168.0.63)\n",
      "go\n",
      "Connect: Server IP (192.168.0.63)\n",
      "binder: track_face\n",
      "rname: None\n",
      "binder: grip1\n",
      "rname: panda1\n",
      "binder: brush_face\n",
      "rname: indy0\n",
      "binder: brush_face\n",
      "rname: indy0\n",
      "binder: brush_face\n",
      "rname: indy0\n",
      "Connect: Server IP (192.168.0.63)\n",
      "go\n",
      "Connect: Server IP (192.168.0.63)\n",
      "binder: track_face\n",
      "rname: None\n",
      "binder: grip1\n",
      "rname: panda1\n",
      "binder: brush_face\n",
      "rname: indy0\n",
      "binder: brush_face\n",
      "rname: indy0\n",
      "binder: brush_face\n",
      "rname: indy0\n",
      "Connect: Server IP (192.168.0.63)\n",
      "go\n",
      "Connect: Server IP (192.168.0.63)\n",
      "binder: track_face\n",
      "rname: None\n",
      "binder: grip1\n",
      "rname: panda1\n",
      "binder: brush_face\n",
      "rname: indy0\n",
      "binder: brush_face\n",
      "rname: indy0\n",
      "binder: brush_face\n",
      "rname: indy0\n",
      "Connect: Server IP (192.168.0.63)\n",
      "go\n",
      "binder: track_face\n",
      "rname: None\n",
      "binder: track_face\n",
      "rname: None\n",
      "binder: brush_face\n",
      "rname: indy0\n",
      "binder: brush_face\n",
      "rname: indy0\n",
      "binder: brush_face\n",
      "rname: indy0\n",
      "Connect: Server IP (192.168.0.63)\n",
      "go\n",
      "binder: track_face\n",
      "rname: None\n",
      "binder: track_face\n",
      "rname: None\n",
      "binder: brush_face\n",
      "rname: indy0\n",
      "binder: brush_face\n",
      "rname: indy0\n",
      "binder: brush_face\n",
      "rname: indy0\n",
      "Connect: Server IP (192.168.0.63)\n",
      "Connect: Server IP (192.168.0.63)\n"
     ]
    }
   ],
   "source": [
    "ppline.execute_schedule(snode_schedule, vel_scale=0.5, acc_scale=0.5)"
   ]
  },
  {
   "cell_type": "code",
   "execution_count": null,
   "metadata": {},
   "outputs": [],
   "source": []
  }
 ],
 "metadata": {
  "kernelspec": {
   "display_name": "Python 2",
   "language": "python",
   "name": "python2"
  },
  "language_info": {
   "codemirror_mode": {
    "name": "ipython",
    "version": 2
   },
   "file_extension": ".py",
   "mimetype": "text/x-python",
   "name": "python",
   "nbconvert_exporter": "python",
   "pygments_lexer": "ipython2",
   "version": "2.7.17"
  }
 },
 "nbformat": 4,
 "nbformat_minor": 2
}
