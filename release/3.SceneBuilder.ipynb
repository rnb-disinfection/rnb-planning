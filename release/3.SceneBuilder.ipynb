{
 "cells": [
  {
   "cell_type": "markdown",
   "metadata": {},
   "source": [
    "## Check List 3 - SceneBuilder, GeometryHandle\n",
    "* **3.1 SceneBuilder**  \n",
    "  - reset_reference_coord, detect_items, create_gscene, add_robot_geometries, add_poles, detect_and_register\n",
    "* **3.2 GeometryHandle**  \n",
    "  - create_safe\n",
    "    - BOX, CYLINDER, PLANE, CAPSULE, SPHERE, ARROW\n",
    "  - show_pose, show_motion"
   ]
  },
  {
   "cell_type": "code",
   "execution_count": null,
   "metadata": {},
   "outputs": [],
   "source": []
  },
  {
   "cell_type": "markdown",
   "metadata": {},
   "source": [
    "## set running directory to project source"
   ]
  },
  {
   "cell_type": "code",
   "execution_count": 1,
   "metadata": {},
   "outputs": [],
   "source": [
    "import os\n",
    "import sys\n",
    "import numpy as np\n",
    "import time\n",
    "sys.path.append(os.path.join(os.environ[\"RNB_PLANNING_DIR\"], 'src'))"
   ]
  },
  {
   "cell_type": "code",
   "execution_count": null,
   "metadata": {},
   "outputs": [],
   "source": []
  },
  {
   "cell_type": "markdown",
   "metadata": {},
   "source": [
    "## 3.1. SceneBuilder"
   ]
  },
  {
   "cell_type": "markdown",
   "metadata": {},
   "source": [
    "##### Create CombinedRobot instance - you need it to initailize GeometryScene"
   ]
  },
  {
   "cell_type": "code",
   "execution_count": 2,
   "metadata": {},
   "outputs": [
    {
     "name": "stdout",
     "output_type": "stream",
     "text": [
      "connection command:\n",
      "indy0: False\n",
      "panda1: False\n"
     ]
    }
   ],
   "source": [
    "from pkg.controller.combined_robot import CombinedRobot\n",
    "from pkg.controller.robot_config import RobotConfig, RobotType\n",
    "INDY_IP = \"192.168.21.6\"\n",
    "PANDA_HOST_IP = \"192.168.21.14\" ## The host computer is the computer that runs control program\n",
    "PANDA_ROBOT_IP = \"192.168.21.13\" ## The robot has it's own IP\n",
    "\n",
    "combined_robot = CombinedRobot(\n",
    "    robots_on_scene=[\n",
    "        RobotConfig(0, RobotType.indy7, ((0,-0.3,0), (0,0,0)),\n",
    "                    INDY_IP),\n",
    "        RobotConfig(1, RobotType.panda, ((0,0.3,0), (0,0,0)),\n",
    "                    \"{}/{}\".format(PANDA_HOST_IP, PANDA_ROBOT_IP))], \n",
    "    connection_list=[False, False])"
   ]
  },
  {
   "cell_type": "code",
   "execution_count": null,
   "metadata": {},
   "outputs": [],
   "source": []
  },
  {
   "cell_type": "markdown",
   "metadata": {},
   "source": [
    "##### initialize ArucoStereo detector"
   ]
  },
  {
   "cell_type": "code",
   "execution_count": 3,
   "metadata": {},
   "outputs": [
    {
     "name": "stdout",
     "output_type": "stream",
     "text": [
      "Device configuration: \n",
      "\tcolor_format: 3 \n",
      "\t(0:JPG, 1:NV12, 2:YUY2, 3:BGRA32)\n",
      "\n",
      "\tcolor_resolution: 5 \n",
      "\t(0:OFF, 1:720p, 2:1080p, 3:1440p, 4:1536p, 5:2160p, 6:3072p)\n",
      "\n",
      "\tdepth_mode: 3 \n",
      "\t(0:OFF, 1:NFOV_2X2BINNED, 2:NFOV_UNBINNED,3:WFOV_2X2BINNED, 4:WFOV_UNBINNED, 5:Passive IR)\n",
      "\n",
      "\tcamera_fps: 2 \n",
      "\t(0:5 FPS, 1:15 FPS, 2:30 FPS)\n",
      "\n",
      "\tsynchronized_images_only: False \n",
      "\t(True of False). Drop images if the color and depth are not synchronized\n",
      "\n",
      "\tdepth_delay_off_color_usec: 0 ms. \n",
      "\tDelay between the color image and the depth image\n",
      "\n",
      "\twired_sync_mode: 0\n",
      "\t(0:Standalone mode, 1:Master mode, 2:Subordinate mode)\n",
      "\n",
      "\tsubordinate_delay_off_master_usec: 0 ms.\n",
      "\tThe external synchronization timing.\n",
      "\n",
      "\tdisable_streaming_indicator: False \n",
      "\t(True or False). Streaming indicator automatically turns on when the color or depth camera's are in use.\n",
      "\n",
      "\n",
      "Start streaming\n",
      "Detector initialized\n"
     ]
    }
   ],
   "source": [
    "from pkg.detector.aruco.stereo import ArucoStereo\n",
    "from pkg.detector.aruco.marker_config import get_aruco_map\n",
    "from pkg.detector.camera.kinect import Kinect\n",
    "from pkg.detector.camera.realsense import RealSense\n",
    "from pkg.detector.detector_interface import DetectionLevel\n",
    "\n",
    "stereo = ArucoStereo(aruco_map=get_aruco_map(), \n",
    "                     camera_list=[Kinect(), RealSense()])\n",
    "\n",
    "stereo.initialize()\n",
    "\n",
    "time.sleep(1) # Let the camera have some time to get stable\n",
    "stereo.calibrate()\n",
    "print(\"Detector initialized\")"
   ]
  },
  {
   "cell_type": "code",
   "execution_count": null,
   "metadata": {},
   "outputs": [],
   "source": []
  },
  {
   "cell_type": "markdown",
   "metadata": {},
   "source": [
    "##### Create SceneBuilder instance"
   ]
  },
  {
   "cell_type": "code",
   "execution_count": 4,
   "metadata": {},
   "outputs": [],
   "source": [
    "from pkg.geometry.builder.scene_builder import SceneBuilder\n",
    "scene_builder = SceneBuilder.instance(detector=stereo)"
   ]
  },
  {
   "cell_type": "code",
   "execution_count": null,
   "metadata": {},
   "outputs": [],
   "source": []
  },
  {
   "cell_type": "markdown",
   "metadata": {},
   "source": [
    "##### detect_items()\n",
    "* Detect items in the field of view. Here, we detect robot positions and update it to the combined robot"
   ]
  },
  {
   "cell_type": "code",
   "execution_count": 6,
   "metadata": {},
   "outputs": [],
   "source": [
    "xyz_rpy_robots = scene_builder.detect_items(level_mask=[DetectionLevel.ROBOT])\n",
    "combined_robot.update_robot_pos_dict(xyz_rpy_robots=xyz_rpy_robots)"
   ]
  },
  {
   "cell_type": "code",
   "execution_count": null,
   "metadata": {},
   "outputs": [],
   "source": []
  },
  {
   "cell_type": "markdown",
   "metadata": {},
   "source": [
    "##### create_gscene()\n",
    "* Create a GeometryScene instance"
   ]
  },
  {
   "cell_type": "code",
   "execution_count": 7,
   "metadata": {
    "scrolled": true
   },
   "outputs": [
    {
     "name": "stdout",
     "output_type": "stream",
     "text": [
      "\u001b[93mros_node already initialized somewhere else\u001b[0m\n",
      "Please create a subscriber to the marker\n",
      "publication OK\n",
      "published: [0, 0, 0, 0, 0, 0, 0, 0, 0, 0, 0, 0, 0]\n"
     ]
    }
   ],
   "source": [
    "gscene = scene_builder.create_gscene(combined_robot)"
   ]
  },
  {
   "cell_type": "code",
   "execution_count": null,
   "metadata": {},
   "outputs": [],
   "source": []
  },
  {
   "cell_type": "markdown",
   "metadata": {},
   "source": [
    "##### add_robot_geometries()\n",
    "* Add collision boundaries defined in the URDF/Xacro file of each robots"
   ]
  },
  {
   "cell_type": "code",
   "execution_count": 8,
   "metadata": {},
   "outputs": [
    {
     "name": "stdout",
     "output_type": "stream",
     "text": [
      "Please create a subscriber to the marker\n"
     ]
    }
   ],
   "source": [
    "gtems = scene_builder.add_robot_geometries(color=(0,1,0,0.5), display=True, collision=True)"
   ]
  },
  {
   "cell_type": "code",
   "execution_count": null,
   "metadata": {},
   "outputs": [],
   "source": []
  },
  {
   "cell_type": "markdown",
   "metadata": {},
   "source": [
    "##### add_poles()\n",
    "* This adds poles from reference plane to given position. This is mainly used to make collision boundaries for camera poles"
   ]
  },
  {
   "cell_type": "code",
   "execution_count": 11,
   "metadata": {
    "scrolled": true
   },
   "outputs": [],
   "source": [
    "ptems = scene_builder.add_poles(\n",
    "    {\"cam0\": stereo.ref_coord_inv[:3,3], \n",
    "     \"cam1\":np.matmul(stereo.ref_coord_inv, stereo.T_c12)[:3,3]},\n",
    "    color=(0.6,0.6,0.6,0.2))"
   ]
  },
  {
   "cell_type": "code",
   "execution_count": null,
   "metadata": {},
   "outputs": [],
   "source": []
  },
  {
   "cell_type": "markdown",
   "metadata": {},
   "source": [
    "##### detect_and_register()\n",
    "* Detect items in the field of view and register them to the GeometryScene\n",
    "* They will appear in the RVIZ"
   ]
  },
  {
   "cell_type": "code",
   "execution_count": 12,
   "metadata": {},
   "outputs": [],
   "source": [
    "gtem_dict = scene_builder.detect_and_register(level_mask=[DetectionLevel.ENVIRONMENT])\n",
    "gtem_dict = scene_builder.detect_and_register(level_mask=[DetectionLevel.MOVABLE])"
   ]
  },
  {
   "cell_type": "code",
   "execution_count": null,
   "metadata": {},
   "outputs": [],
   "source": []
  },
  {
   "cell_type": "markdown",
   "metadata": {},
   "source": [
    "## 3.2. GeometryScene\n",
    "* GeometryScene deals with GeometryItem instances and RVIZ visualization. It is created by SceneBuilder above."
   ]
  },
  {
   "cell_type": "markdown",
   "metadata": {},
   "source": [
    "##### create_safe()\n",
    "* Creates new GeometryItem in the scene\n",
    "* BOX and CYLINDER are good with Moveit\n",
    "* PLANE can be used for generating motion constaint in Moveit\n",
    "* SPHERE and CAPSULE are not supported in Moveit (SPHERE is not applied correctly)\n",
    "* CYLINDER is converted to CAPSULE in eTaSL (CYLINDER is not applied correctly)\n",
    "* ARROW is used only for axis visualization"
   ]
  },
  {
   "cell_type": "code",
   "execution_count": 13,
   "metadata": {},
   "outputs": [
    {
     "data": {
      "text/plain": [
       "<pkg.geometry.geometry.GeometryItem at 0x7ff9c8a90350>"
      ]
     },
     "execution_count": 13,
     "metadata": {},
     "output_type": "execute_result"
    }
   ],
   "source": [
    "from pkg.geometry.geotype import GEOTYPE\n",
    "\n",
    "# generate box geometry\n",
    "gscene.create_safe(name=\"test_box\", link_name=\"base_link\", gtype=GEOTYPE.BOX,\n",
    "                                center=(-0.5,0.0,0.05), rpy=(0,0,0), dims=(0.1,0.1,0.1),\n",
    "                                color=(1,0,0,1), display=True, collision=True, fixed=True)\n",
    "\n",
    "# generate cylinder geometry\n",
    "gscene.create_safe(name=\"test_cyl\", link_name=\"base_link\", gtype=GEOTYPE.CYLINDER,\n",
    "                                center=(-0.3,0.0,0.1), rpy=(0,0,0), dims=(0.1,0.1,0.2),\n",
    "                                color=(0,1,0,1), display=True, collision=True, fixed=True)\n",
    "\n",
    "# generate plane geometry\n",
    "gscene.create_safe(name=\"test_plane\", link_name=\"base_link\", gtype=GEOTYPE.PLANE,\n",
    "                                center=(-0.1,0.0,0.05), rpy=(np.pi/2,0,0), dims=(0.1,0.1,0.001),\n",
    "                                color=(0,0,1,1), display=True, collision=True, fixed=True)\n",
    "\n",
    "# generate sphere geometry\n",
    "gscene.create_safe(name=\"test_sphere\", link_name=\"base_link\", gtype=GEOTYPE.SPHERE,\n",
    "                                center=(0.1,0.0,0.05), rpy=(0,0,0), dims=(0.1,0.1,0.1),\n",
    "                                color=(1,1,0,1), display=True, collision=True, fixed=True)\n",
    "\n",
    "# generate capsule geometry\n",
    "gscene.create_safe(name=\"test_capsule\", link_name=\"base_link\", gtype=GEOTYPE.CAPSULE,\n",
    "                                center=(0.3,0.0,0.1), rpy=(0,0,0), dims=(0.1,0.1,0.1),\n",
    "                                color=(0,1,1,1), display=True, collision=True, fixed=True)\n",
    "\n",
    "# generate arrow geometry\n",
    "gscene.create_safe(name=\"test_arrow\", link_name=\"base_link\", gtype=GEOTYPE.ARROW,\n",
    "                                center=(0.5,0.0,0.05), rpy=(0,0,0), dims=(0.1,0.02,0.02),\n",
    "                                color=(1,0,1,1), display=True, collision=True, fixed=True)"
   ]
  },
  {
   "cell_type": "code",
   "execution_count": null,
   "metadata": {},
   "outputs": [],
   "source": []
  },
  {
   "cell_type": "markdown",
   "metadata": {},
   "source": [
    "##### show_pose()\n",
    "* show pose in RVIZ"
   ]
  },
  {
   "cell_type": "code",
   "execution_count": 14,
   "metadata": {},
   "outputs": [],
   "source": [
    "gscene.show_pose(combined_robot.home_pose)"
   ]
  },
  {
   "cell_type": "code",
   "execution_count": null,
   "metadata": {},
   "outputs": [],
   "source": []
  },
  {
   "cell_type": "markdown",
   "metadata": {},
   "source": [
    "##### show_motion()\n",
    "* show motion in RVIZ"
   ]
  },
  {
   "cell_type": "code",
   "execution_count": 15,
   "metadata": {},
   "outputs": [],
   "source": [
    "N_div = 100\n",
    "trajectory = [combined_robot.home_pose + 0.2 * (np.sin(2*np.pi * (float(i) / N_div))) / 2 for i in range(N_div)]\n",
    "gscene.show_motion(trajectory, period=0.01)"
   ]
  },
  {
   "cell_type": "code",
   "execution_count": null,
   "metadata": {},
   "outputs": [],
   "source": []
  },
  {
   "cell_type": "markdown",
   "metadata": {},
   "source": [
    "## Finished\n",
    "#### Stop and restart the kernel for next test"
   ]
  },
  {
   "cell_type": "code",
   "execution_count": null,
   "metadata": {},
   "outputs": [],
   "source": []
  }
 ],
 "metadata": {
  "kernelspec": {
   "display_name": "Python 2",
   "language": "python",
   "name": "python2"
  },
  "language_info": {
   "codemirror_mode": {
    "name": "ipython",
    "version": 2
   },
   "file_extension": ".py",
   "mimetype": "text/x-python",
   "name": "python",
   "nbconvert_exporter": "python",
   "pygments_lexer": "ipython2",
   "version": "2.7.17"
  }
 },
 "nbformat": 4,
 "nbformat_minor": 2
}
