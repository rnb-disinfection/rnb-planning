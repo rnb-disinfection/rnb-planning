{
 "cells": [
  {
   "cell_type": "markdown",
   "metadata": {},
   "source": [
    "## Check List 4 - PlanningPipeline\n",
    "*\\* ~~Strikethrough~~ means no-error but none-functional cases.*\n",
    "* **4.1 PlanningScene**  \n",
    "  - create_binder\n",
    "    - actor: PlacePlane, Gripper2Tool, SweepTool\n",
    "    - handle: Grasp2Point, PlacePoint, SweepPoint\n",
    "  - create_subject\n",
    "    - subject: CustomObject, SweepTask\n",
    "  - update_state\n",
    "* **4.2 MotionPlanner**  \n",
    "  - MoveitPlanner\n",
    "    - pick, place, sweep\n",
    "  - EtaslPlanner\n",
    "    - pick, place, ~~sweep~~\n",
    "* **4.3 MotionFilter**  \n",
    "  - GraspChecker\n",
    "    - pick, place, sweep\n",
    "  - ReachChecker\n",
    "    - pick, place, ~~sweep~~\n",
    "  - LatticedChecker\n",
    "    - pick, place, ~~sweep~~\n",
    "* **4.4 TaskPlanner**  \n",
    "  - RRT\n",
    "    - pick & place, sweep, combined"
   ]
  },
  {
   "cell_type": "code",
   "execution_count": null,
   "metadata": {},
   "outputs": [],
   "source": []
  },
  {
   "cell_type": "markdown",
   "metadata": {},
   "source": [
    "## set running directory to project source"
   ]
  },
  {
   "cell_type": "code",
   "execution_count": 1,
   "metadata": {},
   "outputs": [],
   "source": [
    "import os\n",
    "import numpy as np\n",
    "import time\n",
    "os.chdir(os.path.join(os.environ[\"RNB_PLANNING_DIR\"], 'src'))"
   ]
  },
  {
   "cell_type": "code",
   "execution_count": null,
   "metadata": {},
   "outputs": [],
   "source": []
  },
  {
   "cell_type": "markdown",
   "metadata": {},
   "source": [
    "## 4.1 PlanningScene"
   ]
  },
  {
   "cell_type": "markdown",
   "metadata": {},
   "source": [
    "##### initialize CombinedRobot and GeometryScene"
   ]
  },
  {
   "cell_type": "code",
   "execution_count": 2,
   "metadata": {},
   "outputs": [
    {
     "name": "stdout",
     "output_type": "stream",
     "text": [
      "connection command:\n",
      "indy0: False\n"
     ]
    },
    {
     "name": "stderr",
     "output_type": "stream",
     "text": [
      "Unknown tag \"hardwareInterface\" in /robot[@name='custom_robots']/transmission[@name='indy0_tran0']/actuator[@name='indy0_motor0']\n",
      "Unknown tag \"hardwareInterface\" in /robot[@name='custom_robots']/transmission[@name='indy0_tran1']/actuator[@name='indy0_motor1']\n",
      "Unknown tag \"hardwareInterface\" in /robot[@name='custom_robots']/transmission[@name='indy0_tran2']/actuator[@name='indy0_motor2']\n",
      "Unknown tag \"hardwareInterface\" in /robot[@name='custom_robots']/transmission[@name='indy0_tran3']/actuator[@name='indy0_motor3']\n",
      "Unknown tag \"hardwareInterface\" in /robot[@name='custom_robots']/transmission[@name='indy0_tran4']/actuator[@name='indy0_motor4']\n",
      "Unknown tag \"hardwareInterface\" in /robot[@name='custom_robots']/transmission[@name='indy0_tran5']/actuator[@name='indy0_motor5']\n"
     ]
    },
    {
     "name": "stdout",
     "output_type": "stream",
     "text": [
      "Please create a subscriber to the marker\n",
      "publication OK\n",
      "published: [0, 0, 0, 0, 0, 0]\n",
      "Please create a subscriber to the marker\n"
     ]
    }
   ],
   "source": [
    "from pkg.controller.combined_robot import *\n",
    "from pkg.project_config import *\n",
    "from pkg.geometry.builder.scene_builder import SceneBuilder\n",
    "\n",
    "s_builder = SceneBuilder(None)   # create scene builder without detector for virtual scene\n",
    "crob = CombinedRobot(robots_on_scene=[\n",
    "    RobotConfig(0, RobotType.indy7, ((0,0,0), (0,0,0)), None)]\n",
    "                     , connection_list=[False])\n",
    "gscene = s_builder.create_gscene(crob)\n",
    "gtems = s_builder.add_robot_geometries(color=(0,1,0,0.5), display=True, collision=True)\n",
    "gscene.show_pose(crob.home_pose)"
   ]
  },
  {
   "cell_type": "markdown",
   "metadata": {},
   "source": [
    "##### add geometries"
   ]
  },
  {
   "cell_type": "code",
   "execution_count": 3,
   "metadata": {},
   "outputs": [],
   "source": [
    "from pkg.geometry.geometry import *\n",
    "\n",
    "# add environments (fixed=True for non-movable geometries)\n",
    "wall = gscene.create_safe(GEOTYPE.BOX, \"wall\", \"base_link\", (3,3,0.01), (-0.2,0,0), \n",
    "                           rpy=(0,np.pi/2,0), color=(0.8,0.8,0.8,0.5), display=True, fixed=True, collision=True)\n",
    "floor = gscene.create_safe(GEOTYPE.BOX, \"floor\", \"base_link\", (3,3,0.01), (0,0,0), \n",
    "                           rpy=(0,0,0), color=(0.8,0.8,0.8,0.5), display=True, fixed=True, collision=True)\n",
    "wp1 = gscene.create_safe(GEOTYPE.BOX, \"wp1\", \"base_link\", (0.1,0.1,0.01), (0.5,-0.2,0),rpy=(0,0,0), \n",
    "                         color=(0.8,0.2,0.2,1), display=True, fixed=True, collision=False)\n",
    "wp2 = gscene.create_safe(GEOTYPE.BOX, \"wp2\", \"base_link\", (0.1,0.1,0.01), (0.5,0.2,0), rpy=(0,0,0), \n",
    "                         color=(0.8,0.2,0.2,1), display=True, fixed=True, collision=False)\n",
    "goal = gscene.create_safe(GEOTYPE.BOX, \"goal\", \"base_link\", (0.1,0.1,0.01), (0.3,-0.4,0), \n",
    "                          rpy=(0,0,0), color=(0.2,0.2,0.8,1), display=True, fixed=True, collision=False)\n",
    " \n",
    "# add movable (fixed=False for movable geometries)\n",
    "box1 = gscene.create_safe(GEOTYPE.BOX, \"box1\", \"base_link\", (0.05,0.05,0.05), (0.3,0.4,0.031), \n",
    "                          rpy=(0,0,0), color=(0.8,0.2,0.2,1), display=True, fixed=False, collision=True)\n",
    "\n",
    "obstacle = gscene.create_safe(GEOTYPE.BOX, \"obstacle\", \"base_link\", (0.05,0.05,0.05), (0.5,0.4,0.031), \n",
    "                          rpy=(0,0,0), color=(0.8,0.8,0.2,1), display=True, fixed=False, collision=True)"
   ]
  },
  {
   "cell_type": "code",
   "execution_count": null,
   "metadata": {},
   "outputs": [],
   "source": []
  },
  {
   "cell_type": "markdown",
   "metadata": {},
   "source": [
    "##### create PlanningScene"
   ]
  },
  {
   "cell_type": "code",
   "execution_count": 4,
   "metadata": {},
   "outputs": [],
   "source": [
    "from pkg.planning.scene import PlanningScene\n",
    "pscene = PlanningScene(gscene, combined_robot=crob)"
   ]
  },
  {
   "cell_type": "code",
   "execution_count": null,
   "metadata": {},
   "outputs": [],
   "source": []
  },
  {
   "cell_type": "markdown",
   "metadata": {},
   "source": [
    "##### create PlanningPipeline"
   ]
  },
  {
   "cell_type": "code",
   "execution_count": 5,
   "metadata": {},
   "outputs": [],
   "source": [
    "from pkg.planning.pipeline import PlanningPipeline\n",
    "ppline = PlanningPipeline(pscene)"
   ]
  },
  {
   "cell_type": "code",
   "execution_count": null,
   "metadata": {},
   "outputs": [],
   "source": []
  },
  {
   "cell_type": "markdown",
   "metadata": {},
   "source": [
    "##### create_binder\n",
    "- Binders (or Actors) are binding points where objects can be attached (or binded)\n",
    "- Examples are \n",
    "  - PlacePlane: plane for object placement\n",
    "  - Gripper2Tool: 2-finger gripper tool for grasp objects\n",
    "  - SweepTool: action point to pass waypoints for sweep task"
   ]
  },
  {
   "cell_type": "code",
   "execution_count": 6,
   "metadata": {},
   "outputs": [],
   "source": [
    "from pkg.planning.constraint.constraint_actor import PlacePlane, Gripper2Tool, SweepTool"
   ]
  },
  {
   "cell_type": "code",
   "execution_count": 7,
   "metadata": {},
   "outputs": [
    {
     "data": {
      "text/plain": [
       "<pkg.planning.constraint.constraint_actor.PlacePlane at 0x7f52c50b9c50>"
      ]
     },
     "execution_count": 7,
     "metadata": {},
     "output_type": "execute_result"
    }
   ],
   "source": [
    "# create PlacePlane on geometry \"floor\" and \"goal\"\n",
    "# when point is not set, the entire upper surface of the geometry becomes valid binding area.\n",
    "# when point is set, the specific point becomes the only valid binding point.\n",
    "pscene.create_binder(bname=\"floor\", gname=\"floor\", _type=PlacePlane)\n",
    "pscene.create_binder(bname=\"goal\", gname=\"goal\", _type=PlacePlane, point=(0,0,0.005))"
   ]
  },
  {
   "cell_type": "code",
   "execution_count": 8,
   "metadata": {},
   "outputs": [
    {
     "data": {
      "text/plain": [
       "<pkg.planning.constraint.constraint_actor.Gripper2Tool at 0x7f52d7980c50>"
      ]
     },
     "execution_count": 8,
     "metadata": {},
     "output_type": "execute_result"
    }
   ],
   "source": [
    "# add collision boundary for gripper base\n",
    "# - set link_name=\"indy0_tcp\" to attach the geometry to end-effector link\n",
    "# - it can be labeled as fixed=True, as it is \"fixed\" on the indy0_tcp link\n",
    "gripper =  gscene.create_safe(GEOTYPE.BOX, \"gripper\", link_name=\"indy0_tcp\", \n",
    "                                dims=(0.02,0.1,0.1), center=(0,0,0.05), rpy=(0,0,0), \n",
    "                                color=(0.8,0.2,0.2,0.5), display=True, fixed=True, collision=True)\n",
    "\n",
    "# add gripper fingers - By setting parent=\"gripper\", the position of geometry can be set relative to the parent geometry\n",
    "finger1 =  gscene.create_safe(GEOTYPE.BOX, \"finger1\", link_name=\"indy0_tcp\",\n",
    "                              dims=(0.02,0.02,0.1), center=(0,0.06,0.07), rpy=(0,0,0), \n",
    "                              color=(0.8,0.2,0.2,0.5), display=True, fixed=True, collision=True, parent=\"gripper\")\n",
    "finger2 =  gscene.create_safe(GEOTYPE.BOX, \"finger2\", link_name=\"indy0_tcp\", \n",
    "                              dims=(0.02,0.02,0.1), center=(0,-0.06,0.07), rpy=(0,0,0), \n",
    "                              color=(0.8,0.2,0.2,0.5), display=True, fixed=True, collision=True, parent=\"gripper\")\n",
    "\n",
    "# create Gripper2Tool binder\n",
    "# Gripper2Tool is a 2-finger gripper, which can rotate along z-direction.\n",
    "# To align the z-direction with the 2 fingers, rotate by 90 degree along roll axis.\n",
    "# The gripping point is (0,0,0.11) in local coordinate of \"gripper\" geometry\n",
    "pscene.create_binder(bname=\"grip0\", gname=\"gripper\", rname=\"indy0\", \n",
    "                     _type=Gripper2Tool, point=(0,0,0.11), rpy=(-np.pi/2,0,0))"
   ]
  },
  {
   "cell_type": "code",
   "execution_count": 9,
   "metadata": {},
   "outputs": [
    {
     "data": {
      "text/plain": [
       "<pkg.planning.constraint.constraint_actor.SweepTool at 0x7f52f45f5590>"
      ]
     },
     "execution_count": 9,
     "metadata": {},
     "output_type": "execute_result"
    }
   ],
   "source": [
    "# Add virtual (no-collision) sweep face. the point is 0.2 m away from the \"indy0_tcp\" link\n",
    "# To match the z-direction with the target surface, the geometry is rotated 180 degrees in pitch-axis.\n",
    "sweep_face =  gscene.create_safe(GEOTYPE.BOX, \"sweep_face\", link_name=\"indy0_tcp\", \n",
    "                                dims=(0.05,0.05,0.001), center=(0,0,0.2), rpy=(0,np.pi,0), \n",
    "                                color=(0.2,0.2,0.8,0.1), display=True, fixed=True, collision=False)\n",
    "                                 \n",
    "# create SweepTool binder\n",
    "pscene.create_binder(bname=\"sweep_face\", gname=\"sweep_face\", _type=SweepTool, point=(0,0,0), rpy=(0,0,0))"
   ]
  },
  {
   "cell_type": "code",
   "execution_count": null,
   "metadata": {},
   "outputs": [],
   "source": []
  },
  {
   "cell_type": "markdown",
   "metadata": {},
   "source": [
    "##### create_subject\n",
    "* Subject describes the tasks in the planning scene.\n",
    "* There are 2 categories in subject:\n",
    "  1. Object: The object has grip points and placement points for pick&place task\n",
    "  2. Task: The task is can be any non-physical task. Check SweepLineTask for example\n",
    "* The subjects can be composed of multiple action points. Examples are:\n",
    "  1. Grasp2Point: grasping point for 2-finger gripper. \n",
    "  2. PlacePoint: The point to place object.\n",
    "  3. SweepPoint: A waypoint for SweepTask.\n",
    "  * The above 3 action points inherit DirectePoint, for which the orientation is free along z-axis. \n",
    "  * If \"point\" parameter is not set, the entire upper surface is becomes valid action area."
   ]
  },
  {
   "cell_type": "code",
   "execution_count": 10,
   "metadata": {},
   "outputs": [],
   "source": [
    "from pkg.planning.constraint.constraint_subject import Grasp2Point, PlacePoint, SweepPoint\n",
    "from pkg.planning.constraint.constraint_subject import CustomObject, SweepTask"
   ]
  },
  {
   "cell_type": "code",
   "execution_count": 11,
   "metadata": {},
   "outputs": [],
   "source": [
    "## create box object with grasping points along positive & negative y-direction and placement point in the bottom face\n",
    "box_obj = pscene.create_subject(oname=\"box1\", gname=\"box1\", _type=CustomObject, \n",
    "                             action_points_dict = {\n",
    "                                 \"handle1\": Grasp2Point(\"handle1\", box1, [0,0,0], [-np.pi/2,0,0]),\n",
    "                                 \"handle2\": Grasp2Point(\"handle2\", box1, [0,0,0], [np.pi/2,0,0]),\n",
    "                                 \"bottom\": PlacePoint(\"bottom\", box1, [0,0,-0.026], [0,0,0])})"
   ]
  },
  {
   "cell_type": "code",
   "execution_count": 12,
   "metadata": {},
   "outputs": [],
   "source": [
    "## create sweep task with 2 waypoints\n",
    "sweep = pscene.create_subject(oname=\"sweep\", gname=\"floor\", _type=SweepTask, \n",
    "                             action_points_dict = {\"wp1\": SweepPoint(\"wp1\", wp1, [0,0,0.005], [0,0,0]),\n",
    "                                                   \"wp2\": SweepPoint(\"wp2\", wp2, [0,0,0.005], [0,0,0])}\n",
    "                             )"
   ]
  },
  {
   "cell_type": "code",
   "execution_count": null,
   "metadata": {},
   "outputs": [],
   "source": []
  },
  {
   "cell_type": "markdown",
   "metadata": {},
   "source": [
    "##### update_state\n",
    "* update_state(robot_pose) updates robot pose and gets corresponding binding status of current scene.\n",
    "* state.node of ('floor', 0) means the first subject (object) is placed on the floor and the second subject (sweep) has passed 0 waypoints"
   ]
  },
  {
   "cell_type": "code",
   "execution_count": 13,
   "metadata": {},
   "outputs": [
    {
     "name": "stdout",
     "output_type": "stream",
     "text": [
      "('floor', 0)\n"
     ]
    }
   ],
   "source": [
    "initial_state = pscene.update_state(crob.home_pose)\n",
    "print(initial_state.node)"
   ]
  },
  {
   "cell_type": "code",
   "execution_count": null,
   "metadata": {},
   "outputs": [],
   "source": []
  },
  {
   "cell_type": "markdown",
   "metadata": {},
   "source": [
    "## 4.2 MotionPlanner"
   ]
  },
  {
   "cell_type": "markdown",
   "metadata": {},
   "source": [
    "##### MoveitPlanner\n",
    "* *get_available_binding_dict()* gets available binding states for each subject in a dictionary\n",
    "* *sample_leaf_state samples()* target state with given available_binding_dict and target node\n",
    "* *rebind_all()* updates binding state and returns the resultant state\n",
    "* The motions tested in this section are:\n",
    "  - pick: move the object to \"gripper\"\n",
    "  - place: move the object to \"goal\"\n",
    "  - sweep: \n",
    "    1) approach to waypoint 1\n",
    "    2) sweep to waypoint 2\n",
    "    3) return to home pose"
   ]
  },
  {
   "cell_type": "code",
   "execution_count": 14,
   "metadata": {},
   "outputs": [],
   "source": [
    "from pkg.planning.motion.moveit.moveit_planner import MoveitPlanner\n",
    "mplan = MoveitPlanner(pscene)"
   ]
  },
  {
   "cell_type": "code",
   "execution_count": 15,
   "metadata": {},
   "outputs": [
    {
     "name": "stdout",
     "output_type": "stream",
     "text": [
      "transition motion tried: False\n",
      "transition motion tried: False\n",
      "transition motion tried: False\n",
      "transition motion tried: False\n",
      "transition motion tried: False\n",
      "transition motion tried: True\n"
     ]
    }
   ],
   "source": [
    "# pick motion - move the object to \"gripper\"\n",
    "from_state = initial_state.copy(pscene)\n",
    "to_node = (\"gripper\", 0)\n",
    "for _ in range(20):\n",
    "    available_binding_dict = pscene.get_available_binding_dict(from_state, to_node)\n",
    "    to_state, redundancy_dict = pscene.sample_leaf_state(from_state, available_binding_dict, to_node)\n",
    "    Traj, LastQ, error, success, binding_list = mplan.plan_transition(from_state, to_state, redundancy_dict, timeout=1)\n",
    "    if success:\n",
    "        break\n",
    "if success:\n",
    "    pscene.set_object_state(from_state)\n",
    "    gscene.show_motion(Traj, period=0.05)\n",
    "    pick_state = pscene.rebind_all(binding_list, LastQ)\n",
    "else:\n",
    "    print(\"Solution not found. Please try again, try to find error if it keeps failing.\")"
   ]
  },
  {
   "cell_type": "code",
   "execution_count": 16,
   "metadata": {},
   "outputs": [
    {
     "name": "stdout",
     "output_type": "stream",
     "text": [
      "transition motion tried: True\n"
     ]
    }
   ],
   "source": [
    "# place motion - move the object to \"goal\"\n",
    "from_state = pick_state.copy(pscene)\n",
    "to_node = (\"goal\", 0)\n",
    "for _ in range(20):\n",
    "    available_binding_dict = pscene.get_available_binding_dict(from_state, to_node)\n",
    "    to_state, redundancy_dict = pscene.sample_leaf_state(from_state, available_binding_dict, to_node)\n",
    "    Traj, LastQ, error, success, binding_list = mplan.plan_transition(from_state, to_state, redundancy_dict, timeout=1)\n",
    "    if success:\n",
    "        break\n",
    "if success:\n",
    "    pscene.set_object_state(from_state)\n",
    "    gscene.show_motion(Traj, period=0.05)\n",
    "    place_state = pscene.rebind_all(binding_list, LastQ)\n",
    "else:\n",
    "    print(\"Solution not found. Please try again, try to find error if it keeps failing.\")"
   ]
  },
  {
   "cell_type": "code",
   "execution_count": 17,
   "metadata": {},
   "outputs": [
    {
     "name": "stdout",
     "output_type": "stream",
     "text": [
      "transition motion tried: True\n"
     ]
    }
   ],
   "source": [
    "# sweep motion 1 - reach the first waypoint\n",
    "from_state = place_state.copy(pscene)\n",
    "to_node = (\"goal\", 1)\n",
    "for _ in range(20):\n",
    "    available_binding_dict = pscene.get_available_binding_dict(from_state, to_node)\n",
    "    to_state, redundancy_dict = pscene.sample_leaf_state(from_state, available_binding_dict, to_node)\n",
    "    Traj, LastQ, error, success, binding_list = mplan.plan_transition(from_state, to_state, redundancy_dict, timeout=1)\n",
    "    if success:\n",
    "        break\n",
    "if success:\n",
    "    pscene.set_object_state(from_state)\n",
    "    gscene.show_motion(Traj, period=0.05)\n",
    "    sweep1_state = pscene.rebind_all(binding_list, LastQ)\n",
    "else:\n",
    "    print(\"Solution not found. Please try again, try to find error if it keeps failing.\")"
   ]
  },
  {
   "cell_type": "code",
   "execution_count": 18,
   "metadata": {},
   "outputs": [
    {
     "name": "stdout",
     "output_type": "stream",
     "text": [
      "constrained motion tried: True\n"
     ]
    }
   ],
   "source": [
    "# sweep motion 2 - sweep \"floor\" to the second waypoint. Constrained motion planning takes longer time\n",
    "from_state = sweep1_state.copy(pscene)\n",
    "to_node = (\"goal\", 2)\n",
    "for _ in range(3):\n",
    "    available_binding_dict = pscene.get_available_binding_dict(from_state, to_node)\n",
    "    to_state, redundancy_dict = pscene.sample_leaf_state(from_state, available_binding_dict, to_node)\n",
    "    Traj, LastQ, error, success, binding_list = mplan.plan_transition(from_state, to_state, redundancy_dict, timeout=30)\n",
    "    if success:\n",
    "        break\n",
    "if success:\n",
    "    pscene.set_object_state(from_state)\n",
    "    gscene.show_motion(Traj, period=0.05)\n",
    "    sweep2_state = pscene.rebind_all(binding_list, LastQ)\n",
    "else:\n",
    "    print(\"Solution not found. Please try again, try to find error if it keeps failing.\")\n",
    "    print(\"Sometimes this constrained motion is inherently impossible. Then, please re-try from the previous step\")"
   ]
  },
  {
   "cell_type": "code",
   "execution_count": 19,
   "metadata": {},
   "outputs": [
    {
     "name": "stdout",
     "output_type": "stream",
     "text": [
      "============= try go home (indy0) ===================\n",
      "joint motion tried: True\n"
     ]
    }
   ],
   "source": [
    "# return: calling sample_leaf_state() with same binding state generates motion target that returns to home pose\n",
    "from_state = sweep2_state.copy(pscene)\n",
    "to_node = (\"goal\", 2)\n",
    "for _ in range(10):\n",
    "    available_binding_dict = pscene.get_available_binding_dict(from_state, to_node)\n",
    "    to_state, redundancy_dict = pscene.sample_leaf_state(from_state, available_binding_dict, to_node)\n",
    "    Traj, LastQ, error, success, binding_list = mplan.plan_transition(from_state, to_state, redundancy_dict, timeout=1)\n",
    "    if success:\n",
    "        break\n",
    "if success:\n",
    "    pscene.set_object_state(from_state)\n",
    "    gscene.show_motion(Traj, period=0.05)\n",
    "    sweep2_state = pscene.rebind_all(binding_list, LastQ)\n",
    "else:\n",
    "    print(\"Solution not found. Please try again, try to find error if it keeps failing.\")"
   ]
  },
  {
   "cell_type": "code",
   "execution_count": null,
   "metadata": {},
   "outputs": [],
   "source": []
  },
  {
   "cell_type": "markdown",
   "metadata": {},
   "source": [
    "##### EtaslPlanner\n",
    "* same usage as the MoveitPlanner\n",
    "- pick, place, ~~sweep~~"
   ]
  },
  {
   "cell_type": "code",
   "execution_count": 20,
   "metadata": {},
   "outputs": [],
   "source": [
    "from pkg.planning.motion.etasl.etasl_planner import EtaslPlanner\n",
    "mplan = EtaslPlanner(pscene)"
   ]
  },
  {
   "cell_type": "code",
   "execution_count": 21,
   "metadata": {},
   "outputs": [],
   "source": [
    "# pick motion - move the object to \"gripper\"\n",
    "from_state = initial_state.copy(pscene)\n",
    "to_node = (\"gripper\", 0)\n",
    "for _ in range(20):\n",
    "    available_binding_dict = pscene.get_available_binding_dict(from_state, to_node)\n",
    "    to_state, redundancy_dict = pscene.sample_leaf_state(from_state, available_binding_dict, to_node)\n",
    "    Traj, LastQ, error, success, binding_list = mplan.plan_transition(from_state, to_state, redundancy_dict, timeout=1)\n",
    "    if success:\n",
    "        break\n",
    "if success:\n",
    "    pscene.set_object_state(from_state)\n",
    "    gscene.show_motion(Traj, period=0.05)\n",
    "    pick_state = pscene.rebind_all(binding_list, LastQ)\n",
    "else:\n",
    "    print(\"Solution not found. Please try again, try to find error if it keeps failing.\")"
   ]
  },
  {
   "cell_type": "code",
   "execution_count": 22,
   "metadata": {},
   "outputs": [],
   "source": [
    "# place motion - move the object to \"goal\"\n",
    "from_state = pick_state.copy(pscene)\n",
    "to_node = (\"goal\", 0)\n",
    "for _ in range(20):\n",
    "    available_binding_dict = pscene.get_available_binding_dict(from_state, to_node)\n",
    "    to_state, redundancy_dict = pscene.sample_leaf_state(from_state, available_binding_dict, to_node)\n",
    "    Traj, LastQ, error, success, binding_list = mplan.plan_transition(from_state, to_state, redundancy_dict, timeout=1)\n",
    "    if success:\n",
    "        break\n",
    "if success:\n",
    "    pscene.set_object_state(from_state)\n",
    "    gscene.show_motion(Traj, period=0.05)\n",
    "    place_state = pscene.rebind_all(binding_list, LastQ)\n",
    "else:\n",
    "    print(\"Solution not found. Please try again, try to find error if it keeps failing.\")"
   ]
  },
  {
   "cell_type": "code",
   "execution_count": 23,
   "metadata": {},
   "outputs": [],
   "source": [
    "# sweep motion 1 - reach the first waypoint\n",
    "from_state = place_state.copy(pscene)\n",
    "to_node = (\"goal\", 1)\n",
    "for _ in range(20):\n",
    "    available_binding_dict = pscene.get_available_binding_dict(from_state, to_node)\n",
    "    to_state, redundancy_dict = pscene.sample_leaf_state(from_state, available_binding_dict, to_node)\n",
    "    Traj, LastQ, error, success, binding_list = mplan.plan_transition(from_state, to_state, redundancy_dict, timeout=1)\n",
    "    if success:\n",
    "        break\n",
    "if success:\n",
    "    pscene.set_object_state(from_state)\n",
    "    gscene.show_motion(Traj, period=0.05)\n",
    "    sweep1_state = pscene.rebind_all(binding_list, LastQ)\n",
    "else:\n",
    "    print(\"Solution not found. Please try again, try to find error if it keeps failing.\")"
   ]
  },
  {
   "cell_type": "code",
   "execution_count": 26,
   "metadata": {},
   "outputs": [],
   "source": [
    "# sweep motion 2 - sweep \"floor\" to the second waypoint.\n",
    "# Constrained motion is not implemented with eTaSL planner. So, it will not \"sweep\" the floor\n",
    "from_state = sweep1_state.copy(pscene)\n",
    "to_node = (\"goal\", 2)\n",
    "for _ in range(10):\n",
    "    available_binding_dict = pscene.get_available_binding_dict(from_state, to_node)\n",
    "    to_state, redundancy_dict = pscene.sample_leaf_state(from_state, available_binding_dict, to_node)\n",
    "    Traj, LastQ, error, success, binding_list = mplan.plan_transition(from_state, to_state, redundancy_dict, timeout=1)\n",
    "    if success:\n",
    "        break\n",
    "if success:\n",
    "    pscene.set_object_state(from_state)\n",
    "    gscene.show_motion(Traj, period=0.05)\n",
    "    sweep2_state = pscene.rebind_all(binding_list, LastQ)\n",
    "else:\n",
    "    print(\"Solution not found. Please try again, try to find error if it keeps failing.\")"
   ]
  },
  {
   "cell_type": "code",
   "execution_count": 27,
   "metadata": {},
   "outputs": [
    {
     "name": "stdout",
     "output_type": "stream",
     "text": [
      "============= try go home (indy0) ===================\n",
      "===================== plan joint manipulation =====================\n"
     ]
    }
   ],
   "source": [
    "# return: calling sample_leaf_state() with same binding state generates go-home motion target\n",
    "from_state = sweep2_state.copy(pscene)\n",
    "to_node = (\"goal\", 2)\n",
    "for _ in range(10):\n",
    "    available_binding_dict = pscene.get_available_binding_dict(from_state, to_node)\n",
    "    to_state, redundancy_dict = pscene.sample_leaf_state(from_state, available_binding_dict, to_node)\n",
    "    Traj, LastQ, error, success, binding_list = mplan.plan_transition(from_state, to_state, redundancy_dict, timeout=1)\n",
    "    if success:\n",
    "        break\n",
    "if success:\n",
    "    pscene.set_object_state(from_state)\n",
    "    gscene.show_motion(Traj, period=0.05)\n",
    "    sweep2_state = pscene.rebind_all(binding_list, LastQ)\n",
    "else:\n",
    "    print(\"Solution not found. Please try again, try to find error if it keeps failing.\")"
   ]
  },
  {
   "cell_type": "code",
   "execution_count": null,
   "metadata": {},
   "outputs": [],
   "source": []
  },
  {
   "cell_type": "markdown",
   "metadata": {},
   "source": [
    "## 4.3 MotionFilter"
   ]
  },
  {
   "cell_type": "code",
   "execution_count": 30,
   "metadata": {},
   "outputs": [],
   "source": [
    "# get back to the initial state\n",
    "pscene.set_object_state(initial_state)\n",
    "gscene.update_markers_all()"
   ]
  },
  {
   "cell_type": "markdown",
   "metadata": {},
   "source": [
    "##### GraspChecker\n",
    "- pick, place, sweep"
   ]
  },
  {
   "cell_type": "code",
   "execution_count": 29,
   "metadata": {},
   "outputs": [],
   "source": []
  },
  {
   "cell_type": "markdown",
   "metadata": {},
   "source": [
    "##### ReachChecker\n",
    "- pick, place, ~~sweep~~"
   ]
  },
  {
   "cell_type": "code",
   "execution_count": null,
   "metadata": {},
   "outputs": [],
   "source": []
  },
  {
   "cell_type": "markdown",
   "metadata": {},
   "source": [
    "##### LatticedChecker\n",
    "- pick, place, ~~sweep~~"
   ]
  },
  {
   "cell_type": "code",
   "execution_count": null,
   "metadata": {},
   "outputs": [],
   "source": []
  },
  {
   "cell_type": "markdown",
   "metadata": {},
   "source": [
    "## 4.4 TaskPlanner"
   ]
  },
  {
   "cell_type": "markdown",
   "metadata": {},
   "source": [
    "##### RRT\n",
    "- pick&place, sweep, pick&place&sweep"
   ]
  },
  {
   "cell_type": "code",
   "execution_count": null,
   "metadata": {},
   "outputs": [],
   "source": []
  },
  {
   "cell_type": "code",
   "execution_count": null,
   "metadata": {},
   "outputs": [],
   "source": []
  },
  {
   "cell_type": "code",
   "execution_count": null,
   "metadata": {},
   "outputs": [],
   "source": []
  },
  {
   "cell_type": "code",
   "execution_count": 12,
   "metadata": {},
   "outputs": [],
   "source": [
    "\n",
    "\n",
    "from pkg.ui.ui_broker import *\n",
    "# start UI\n",
    "ui_broker = UIBroker.instance()\n",
    "ui_broker.initialize(ppline, s_builder)\n",
    "ui_broker.start_server()\n",
    "\n",
    "ui_broker.set_tables()"
   ]
  },
  {
   "cell_type": "code",
   "execution_count": null,
   "metadata": {},
   "outputs": [],
   "source": []
  }
 ],
 "metadata": {
  "kernelspec": {
   "display_name": "Python 2",
   "language": "python",
   "name": "python2"
  },
  "language_info": {
   "codemirror_mode": {
    "name": "ipython",
    "version": 2
   },
   "file_extension": ".py",
   "mimetype": "text/x-python",
   "name": "python",
   "nbconvert_exporter": "python",
   "pygments_lexer": "ipython2",
   "version": "2.7.17"
  }
 },
 "nbformat": 4,
 "nbformat_minor": 2
}
