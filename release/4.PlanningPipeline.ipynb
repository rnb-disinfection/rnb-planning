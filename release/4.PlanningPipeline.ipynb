{
 "cells": [
  {
   "cell_type": "markdown",
   "metadata": {},
   "source": [
    "## Check List 4 - PlanningPipeline\n",
    "*\\* ~~Strikethrough~~ means no-error but none-functional cases.*\n",
    "* **4.1 PlanningScene**  \n",
    "  - create_binder\n",
    "    - actor: PlacePlane, Gripper2Tool, SweepTool\n",
    "    - handle: Grasp2Point, PlacePoint, SweepPoint\n",
    "  - create_subject\n",
    "    - subject: CustomObject, SweepLineTask\n",
    "  - initialize_state\n",
    "* **4.2 MotionPlanner**  \n",
    "  - MoveitPlanner\n",
    "    - pick, place, sweep\n",
    "  - EtaslPlanner\n",
    "    - pick, place, ~~sweep~~\n",
    "* **4.3 TaskPlanner**  \n",
    "  - RRT\n",
    "    - pick & place & sweep\n",
    "      - single process\n",
    "      - multi process"
   ]
  },
  {
   "cell_type": "code",
   "execution_count": null,
   "metadata": {},
   "outputs": [],
   "source": []
  },
  {
   "cell_type": "markdown",
   "metadata": {},
   "source": [
    "## set running directory to project source"
   ]
  },
  {
   "cell_type": "code",
   "execution_count": 1,
   "metadata": {},
   "outputs": [],
   "source": [
    "import os\n",
    "import numpy as np\n",
    "import time\n",
    "os.chdir(os.path.join(os.environ[\"RNB_PLANNING_DIR\"], 'src'))"
   ]
  },
  {
   "cell_type": "code",
   "execution_count": null,
   "metadata": {},
   "outputs": [],
   "source": []
  },
  {
   "cell_type": "markdown",
   "metadata": {},
   "source": [
    "## 4.1 PlanningScene"
   ]
  },
  {
   "cell_type": "markdown",
   "metadata": {},
   "source": [
    "##### initialize CombinedRobot and GeometryScene"
   ]
  },
  {
   "cell_type": "code",
   "execution_count": 2,
   "metadata": {},
   "outputs": [
    {
     "name": "stdout",
     "output_type": "stream",
     "text": [
      "connection command:\n",
      "indy0: False\n",
      "Please create a subscriber to the marker\n",
      "publication OK\n",
      "published: [0, 0, 0, 0, 0, 0]\n",
      "Please create a subscriber to the marker\n"
     ]
    }
   ],
   "source": [
    "from pkg.controller.combined_robot import *\n",
    "from pkg.project_config import *\n",
    "from pkg.geometry.builder.scene_builder import SceneBuilder\n",
    "\n",
    "s_builder = SceneBuilder(None)   # create scene builder without detector for virtual scene\n",
    "crob = CombinedRobot(robots_on_scene=[\n",
    "    RobotConfig(0, RobotType.indy7, ((0,0,0), (0,0,0)), None)]\n",
    "                     , connection_list=[False])\n",
    "gscene = s_builder.create_gscene(crob)\n",
    "gtems = s_builder.add_robot_geometries(color=(0,1,0,0.5), display=True, collision=True)\n",
    "gscene.show_pose(crob.home_pose)"
   ]
  },
  {
   "cell_type": "markdown",
   "metadata": {},
   "source": [
    "##### add geometries"
   ]
  },
  {
   "cell_type": "code",
   "execution_count": 3,
   "metadata": {},
   "outputs": [],
   "source": [
    "from pkg.geometry.geometry import *\n",
    "\n",
    "# add environments (fixed=True for non-movable geometries)\n",
    "wall = gscene.create_safe(GEOTYPE.BOX, \"wall\", \"base_link\", (3,3,0.01), (-0.2,0,0), \n",
    "                           rpy=(0,np.pi/2,0), color=(0.8,0.8,0.8,0.5), display=True, fixed=True, collision=True)\n",
    "floor = gscene.create_safe(GEOTYPE.BOX, \"floor\", \"base_link\", (3,3,0.01), (0,0,0), \n",
    "                           rpy=np.random.rand(3)*0, color=(0.8,0.8,0.8,0.5), display=True, fixed=True, collision=True)\n",
    "#                            rpy=np.random.rand(3)*np.pi/16, color=(0.8,0.8,0.8,0.5), display=True, fixed=True, collision=True)\n",
    "wp1 = gscene.create_safe(GEOTYPE.BOX, \"wp1\", \"base_link\", (0.1,0.1,0.01), (0.5,-0.2,0),rpy=(0,0,0), \n",
    "                         color=(0.8,0.2,0.2,1), display=True, fixed=True, collision=False, parent=\"floor\")\n",
    "wp2 = gscene.create_safe(GEOTYPE.BOX, \"wp2\", \"base_link\", (0.1,0.1,0.01), (0.5,0.2,0), rpy=(0,0,0), \n",
    "                         color=(0.8,0.2,0.2,1), display=True, fixed=True, collision=False, parent=\"floor\")\n",
    "goal = gscene.create_safe(GEOTYPE.BOX, \"goal\", \"base_link\", (0.1,0.1,0.01), (0.3,-0.4,0), \n",
    "                          rpy=(0,0,0), color=(0.2,0.2,0.8,1), display=True, fixed=True, collision=False)\n",
    " \n",
    "# add movable (fixed=False for movable geometries)\n",
    "box1 = gscene.create_safe(GEOTYPE.BOX, \"box1\", \"base_link\", (0.05,0.05,0.05), (0.3,0.4,0.031), \n",
    "                          rpy=(0,0,0), color=(0.8,0.2,0.2,1), display=True, fixed=False, collision=True)\n",
    "\n",
    "obstacle = gscene.create_safe(GEOTYPE.BOX, \"obstacle\", \"base_link\", (0.05,0.05,0.05), (0.5,0.4,0.031), \n",
    "                          rpy=(0,0,0), color=(0.8,0.8,0.2,1), display=True, fixed=False, collision=True)"
   ]
  },
  {
   "cell_type": "code",
   "execution_count": null,
   "metadata": {},
   "outputs": [],
   "source": []
  },
  {
   "cell_type": "markdown",
   "metadata": {},
   "source": [
    "##### create PlanningScene"
   ]
  },
  {
   "cell_type": "code",
   "execution_count": 4,
   "metadata": {},
   "outputs": [],
   "source": [
    "from pkg.planning.scene import PlanningScene\n",
    "pscene = PlanningScene(gscene, combined_robot=crob)"
   ]
  },
  {
   "cell_type": "code",
   "execution_count": null,
   "metadata": {},
   "outputs": [],
   "source": []
  },
  {
   "cell_type": "markdown",
   "metadata": {},
   "source": [
    "##### create_binder\n",
    "- Binders (or Actors) are binding points where objects can be attached (or binded)\n",
    "- Examples are \n",
    "  - PlacePlane: plane for object placement\n",
    "  - Gripper2Tool: 2-finger gripper tool for grasp objects\n",
    "  - SweepTool: action point to pass waypoints for sweep task"
   ]
  },
  {
   "cell_type": "code",
   "execution_count": 5,
   "metadata": {},
   "outputs": [],
   "source": [
    "from pkg.planning.constraint.constraint_actor import PlacePlane, Gripper2Tool, SweepTool"
   ]
  },
  {
   "cell_type": "markdown",
   "metadata": {},
   "source": [
    "#### create PlacePlane on geometry \"floor\" and \"goal\"\n",
    "* when **point** is set to *None*, the entire upper surface of the geometry becomes valid binding area.\n",
    "* when **point** is set, the specific point becomes the only valid binding point."
   ]
  },
  {
   "cell_type": "code",
   "execution_count": 6,
   "metadata": {},
   "outputs": [
    {
     "data": {
      "text/plain": [
       "<pkg.planning.constraint.constraint_actor.PlacePlane at 0x7f6bda182ed0>"
      ]
     },
     "execution_count": 6,
     "metadata": {},
     "output_type": "execute_result"
    }
   ],
   "source": [
    "pscene.create_binder(bname=\"floor\", gname=\"floor\", _type=PlacePlane, point=None)\n",
    "pscene.create_binder(bname=\"goal\", gname=\"goal\", _type=PlacePlane, point=(0,0,0.005))"
   ]
  },
  {
   "cell_type": "markdown",
   "metadata": {},
   "source": [
    "#### add collision boundary for gripper base"
   ]
  },
  {
   "cell_type": "code",
   "execution_count": 7,
   "metadata": {},
   "outputs": [
    {
     "data": {
      "text/plain": [
       "<pkg.planning.constraint.constraint_actor.Gripper2Tool at 0x7f6bd585c790>"
      ]
     },
     "execution_count": 7,
     "metadata": {},
     "output_type": "execute_result"
    }
   ],
   "source": [
    "# - set link_name=\"indy0_tcp\" to attach the geometry to end-effector link\n",
    "# - it can be labeled as fixed=True, as it is \"fixed\" on the indy0_tcp link\n",
    "gripper =  gscene.create_safe(GEOTYPE.BOX, \"gripper\", link_name=\"indy0_tcp\", \n",
    "                                dims=(0.02,0.1,0.1), center=(0,0,0.05), rpy=(0,0,0), \n",
    "                                color=(0.8,0.2,0.2,0.5), display=True, fixed=True, collision=True)\n",
    "\n",
    "# add gripper fingers - By setting parent=\"gripper\", the position of geometry can be set relative to the parent geometry\n",
    "finger1 =  gscene.create_safe(GEOTYPE.BOX, \"finger1\", link_name=\"indy0_tcp\",\n",
    "                              dims=(0.04,0.02,0.1), center=(0,0.04,0.07), rpy=(0,0,0), \n",
    "                              color=(0.8,0.2,0.2,0.5), display=True, fixed=True, collision=True, parent=\"gripper\")\n",
    "finger2 =  gscene.create_safe(GEOTYPE.BOX, \"finger2\", link_name=\"indy0_tcp\", \n",
    "                              dims=(0.04,0.02,0.1), center=(0,-0.04,0.07), rpy=(0,0,0), \n",
    "                              color=(0.8,0.2,0.2,0.5), display=True, fixed=True, collision=True, parent=\"gripper\")\n",
    "\n",
    "# create Gripper2Tool binder\n",
    "# Gripper2Tool is a 2-finger gripper, which can rotate along z-direction.\n",
    "# To align the z-direction with the 2 fingers, rotate by 90 degree along roll axis.\n",
    "# The gripping point is (0,0,0.11) in local coordinate of \"gripper\" geometry\n",
    "pscene.create_binder(bname=\"grip0\", gname=\"gripper\", _type=Gripper2Tool, point=(0,0,0.11), rpy=(-np.pi/2,0,0))"
   ]
  },
  {
   "cell_type": "markdown",
   "metadata": {},
   "source": [
    "#### Add virtual (no-collision) sweep face. the point is 0.2 m away from the \"indy0_tcp\" link"
   ]
  },
  {
   "cell_type": "code",
   "execution_count": 8,
   "metadata": {},
   "outputs": [
    {
     "data": {
      "text/plain": [
       "<pkg.planning.constraint.constraint_actor.SweepTool at 0x7f6bda065510>"
      ]
     },
     "execution_count": 8,
     "metadata": {},
     "output_type": "execute_result"
    }
   ],
   "source": [
    "# To match the z-direction with the target surface, the geometry is rotated 180 degrees in pitch-axis.\n",
    "sweep_face =  gscene.create_safe(GEOTYPE.BOX, \"sweep_face\", link_name=\"indy0_tcp\", \n",
    "                                dims=(0.05,0.05,0.001), center=(0,0,0.2), rpy=(0,np.pi,0), \n",
    "                                color=(0.2,0.2,0.8,0.1), display=True, fixed=True, collision=False)\n",
    "                                 \n",
    "# create SweepTool binder\n",
    "pscene.create_binder(bname=\"sweep_face\", gname=\"sweep_face\", _type=SweepTool, point=(0,0,0), rpy=(0,0,0))"
   ]
  },
  {
   "cell_type": "code",
   "execution_count": null,
   "metadata": {},
   "outputs": [],
   "source": []
  },
  {
   "cell_type": "markdown",
   "metadata": {},
   "source": [
    "##### create_subject\n",
    "* Subject describes the tasks in the planning scene.\n",
    "* There are 2 categories in subject:\n",
    "  1. Object: The object has grip points and placement points for pick&place task\n",
    "  2. Task: The task is can be any non-physical task. Check SweepLineTask for example\n",
    "* The subjects can be composed of multiple action points. Examples are:\n",
    "  1. Grasp2Point: grasping point for 2-finger gripper. \n",
    "  2. PlacePoint: The point to place object.\n",
    "  3. SweepPoint: A waypoint for SweepLineTask.\n",
    "  * The above 3 action points inherit DirectePoint, for which the orientation is free along z-axis. \n",
    "  * If \"point\" parameter is not set, the entire upper surface is becomes valid action area."
   ]
  },
  {
   "cell_type": "code",
   "execution_count": null,
   "metadata": {},
   "outputs": [],
   "source": []
  },
  {
   "cell_type": "markdown",
   "metadata": {},
   "source": [
    "#### create box object with grasping points along positive & negative y-direction and placement point in the bottom face"
   ]
  },
  {
   "cell_type": "code",
   "execution_count": 9,
   "metadata": {},
   "outputs": [],
   "source": [
    "from pkg.planning.constraint.constraint_subject import BoxObject\n",
    "box_obj = pscene.create_subject(oname=\"box1\", gname=\"box1\", _type=BoxObject)"
   ]
  },
  {
   "cell_type": "markdown",
   "metadata": {},
   "source": [
    "#### create sweep task with 2 waypoints"
   ]
  },
  {
   "cell_type": "code",
   "execution_count": 10,
   "metadata": {},
   "outputs": [],
   "source": [
    "from pkg.planning.constraint.constraint_subject import SweepLineTask, SweepPoint\n",
    "sweep = pscene.create_subject(oname=\"sweep\", gname=\"floor\", _type=SweepLineTask, \n",
    "                             action_points_dict = {\"wp1\": SweepPoint(\"wp1\", wp1, [0,0,0.005], [0,0,0]),\n",
    "                                                   \"wp2\": SweepPoint(\"wp2\", wp2, [0,0,0.005], [0,0,0])}\n",
    "                             )\n",
    "sweep.fix_direction = False"
   ]
  },
  {
   "cell_type": "code",
   "execution_count": null,
   "metadata": {},
   "outputs": [],
   "source": []
  },
  {
   "cell_type": "markdown",
   "metadata": {},
   "source": [
    "##### initialize_state\n",
    "* initialize_state(robot_pose) updates robot pose and gets corresponding binding status of current scene.\n",
    "* state.node of ('floor', 0) means the first subject (object) is placed on the floor and the second subject (sweep) has passed 0 waypoints"
   ]
  },
  {
   "cell_type": "code",
   "execution_count": 11,
   "metadata": {},
   "outputs": [
    {
     "name": "stdout",
     "output_type": "stream",
     "text": [
      "('floor', 0)\n"
     ]
    }
   ],
   "source": [
    "initial_state = pscene.initialize_state(crob.home_pose)\n",
    "print(initial_state.node)"
   ]
  },
  {
   "cell_type": "code",
   "execution_count": null,
   "metadata": {},
   "outputs": [],
   "source": []
  },
  {
   "cell_type": "markdown",
   "metadata": {},
   "source": [
    "## 4.2 MotionPlanner"
   ]
  },
  {
   "cell_type": "code",
   "execution_count": 12,
   "metadata": {},
   "outputs": [],
   "source": [
    "# motion test script\n",
    "def motion_fn(from_state, to_node=None, to_state=None, try_count=10, **kwargs):\n",
    "    assert to_node is not None or to_state is not None, \"Either to_node or to_state should be specified\"\n",
    "    for _ in range(try_count):\n",
    "        if to_node is not None:\n",
    "            available_binding_dict = pscene.get_available_binding_dict(from_state, to_node)\n",
    "            to_state = pscene.sample_leaf_state(from_state, available_binding_dict, to_node)\n",
    "\n",
    "        pscene.set_object_state(from_state)\n",
    "        gscene.show_pose(from_state.Q)\n",
    "        subjects, sub_ok = pscene.get_changing_subjects(from_state, to_state)\n",
    "        if len(subjects) == 1:\n",
    "            show_action_point(pscene, \n",
    "                              btf=to_state.binding_state[subjects[0]], \n",
    "                              Q=from_state.Q)\n",
    "        with gtimer.block(\"plan\"):\n",
    "            Traj, LastQ, error, success, binding_list = mplan.plan_transition(from_state, to_state, **kwargs)\n",
    "        if success:\n",
    "            break\n",
    "    if success:\n",
    "        pscene.set_object_state(from_state)\n",
    "        gscene.show_motion(Traj, period=0.05)\n",
    "        end_state = pscene.rebind_all(binding_list, LastQ)\n",
    "        gscene.clear_highlight()\n",
    "    else:\n",
    "        print(\"Solution not found. Please try again, try to find error if it keeps failing.\")\n",
    "        raise(RuntimeError(\"Motion plan failure\"))\n",
    "    return end_state"
   ]
  },
  {
   "cell_type": "markdown",
   "metadata": {},
   "source": [
    "##### MoveitPlanner\n",
    "* *get_available_binding_dict()* gets available binding states for each subject in a dictionary\n",
    "* *sample_leaf_state samples()* target state with given available_binding_dict and target node\n",
    "* *rebind_all()* updates binding state and returns the resultant state\n",
    "* The motions tested in this section are:\n",
    "  - pick: move the object to \"gripper\"\n",
    "  - place: move the object to \"goal\"\n",
    "  - sweep: \n",
    "    1) approach to waypoint 1\n",
    "    2) sweep to waypoint 2\n",
    "    3) return to home pose"
   ]
  },
  {
   "cell_type": "code",
   "execution_count": 13,
   "metadata": {},
   "outputs": [],
   "source": [
    "from pkg.planning.motion.moveit.moveit_planner import MoveitPlanner\n",
    "from pkg.utils.code_scraps import show_action_point\n",
    "mplan = MoveitPlanner(pscene)\n",
    "mp_kwargs = {}\n",
    "\n",
    "gtimer = GlobalTimer.instance()\n",
    "gtimer.reset()"
   ]
  },
  {
   "cell_type": "markdown",
   "metadata": {},
   "source": [
    "#### Pick and place"
   ]
  },
  {
   "cell_type": "code",
   "execution_count": 14,
   "metadata": {},
   "outputs": [],
   "source": [
    "pick_state = motion_fn(initial_state, to_node=(\"gripper\", 0), **mp_kwargs)"
   ]
  },
  {
   "cell_type": "code",
   "execution_count": 15,
   "metadata": {},
   "outputs": [],
   "source": [
    "place_state = motion_fn(pick_state, to_node=(\"goal\", 0), **mp_kwargs)"
   ]
  },
  {
   "cell_type": "markdown",
   "metadata": {},
   "source": [
    "#### Sweep"
   ]
  },
  {
   "cell_type": "code",
   "execution_count": 16,
   "metadata": {},
   "outputs": [],
   "source": [
    "sweep_approached = motion_fn(place_state, to_node=(\"goal\", 1), **mp_kwargs)"
   ]
  },
  {
   "cell_type": "code",
   "execution_count": 17,
   "metadata": {},
   "outputs": [],
   "source": [
    "sweep_finished = motion_fn(sweep_approached, to_node=(\"goal\", 2), **mp_kwargs)"
   ]
  },
  {
   "cell_type": "markdown",
   "metadata": {},
   "source": [
    "#### homing (joint motion)"
   ]
  },
  {
   "cell_type": "code",
   "execution_count": 18,
   "metadata": {},
   "outputs": [],
   "source": [
    "to_state = sweep_finished.copy(pscene)\n",
    "to_state.Q = initial_state.Q\n",
    "home_returned = motion_fn(sweep_finished, to_state=to_state, **mp_kwargs)"
   ]
  },
  {
   "cell_type": "code",
   "execution_count": null,
   "metadata": {},
   "outputs": [],
   "source": []
  },
  {
   "cell_type": "markdown",
   "metadata": {},
   "source": [
    "##### EtaslPlanner\n",
    "* same usage as the MoveitPlanner\n",
    "  - pick, place, ~~sweep~~\n",
    "* eTaSl is not planner, but Model Predictive Controller-based trajectory generator. Thus, it shows poor obstacle avoidance and fails manytimes.\n",
    "* if it fails, just try the whole **Pick and place** sequence multiple times"
   ]
  },
  {
   "cell_type": "code",
   "execution_count": 19,
   "metadata": {},
   "outputs": [],
   "source": [
    "from pkg.planning.motion.etasl.etasl_planner import EtaslPlanner\n",
    "from pkg.utils.code_scraps import show_action_point\n",
    "mplan = EtaslPlanner(pscene)\n",
    "mp_kwargs = dict(timeout=1, vel_conv=0, err_conv=1e-3)\n",
    "\n",
    "gtimer = GlobalTimer.instance()\n",
    "gtimer.reset()"
   ]
  },
  {
   "cell_type": "markdown",
   "metadata": {},
   "source": [
    "#### Pick and place"
   ]
  },
  {
   "cell_type": "code",
   "execution_count": 20,
   "metadata": {
    "scrolled": true
   },
   "outputs": [
    {
     "name": "stdout",
     "output_type": "stream",
     "text": [
      "eTaSL exception: optimization failed during execution\n",
      "eTaSL exception: optimization failed during execution\n",
      "eTaSL exception: optimization failed during execution\n",
      "eTaSL exception: optimization failed during execution\n"
     ]
    }
   ],
   "source": [
    "pick_state = motion_fn(initial_state, to_node=(\"gripper\", 0), try_count=50, **mp_kwargs)"
   ]
  },
  {
   "cell_type": "code",
   "execution_count": 21,
   "metadata": {
    "scrolled": true
   },
   "outputs": [
    {
     "name": "stdout",
     "output_type": "stream",
     "text": [
      "eTaSL exception: optimization failed during execution\n",
      "eTaSL exception: optimization failed during execution\n",
      "eTaSL exception: optimization failed during execution\n",
      "eTaSL exception: optimization failed during execution\n",
      "eTaSL exception: optimization failed during execution\n",
      "eTaSL exception: optimization failed during execution\n",
      "eTaSL exception: optimization failed during execution\n",
      "eTaSL exception: optimization failed during execution\n",
      "eTaSL exception: optimization failed during execution\n",
      "eTaSL exception: optimization failed during execution\n",
      "eTaSL exception: optimization failed during execution\n",
      "eTaSL exception: optimization failed during execution\n",
      "eTaSL exception: optimization failed during execution\n",
      "eTaSL exception: optimization failed during execution\n",
      "eTaSL exception: optimization failed during execution\n",
      "eTaSL exception: optimization failed during execution\n",
      "eTaSL exception: optimization failed during execution\n",
      "eTaSL exception: optimization failed during execution\n",
      "eTaSL exception: optimization failed during execution\n",
      "eTaSL exception: optimization failed during execution\n",
      "eTaSL exception: optimization failed during execution\n",
      "eTaSL exception: optimization failed during execution\n",
      "eTaSL exception: optimization failed during execution\n"
     ]
    }
   ],
   "source": [
    "place_state = motion_fn(pick_state, to_node=(\"goal\", 0), try_count=100, **mp_kwargs)"
   ]
  },
  {
   "cell_type": "markdown",
   "metadata": {},
   "source": [
    "#### homing (joint motion)"
   ]
  },
  {
   "cell_type": "code",
   "execution_count": 22,
   "metadata": {},
   "outputs": [
    {
     "name": "stdout",
     "output_type": "stream",
     "text": [
      "===================== plan joint manipulation =====================\n"
     ]
    }
   ],
   "source": [
    "to_state = place_state.copy(pscene)\n",
    "to_state.Q = initial_state.Q\n",
    "home_returned = motion_fn(place_state, to_state=to_state, **mp_kwargs)"
   ]
  },
  {
   "cell_type": "code",
   "execution_count": null,
   "metadata": {},
   "outputs": [],
   "source": []
  },
  {
   "cell_type": "markdown",
   "metadata": {},
   "source": [
    "## 4.3 TaskPlanner"
   ]
  },
  {
   "cell_type": "markdown",
   "metadata": {},
   "source": [
    "##### create PlanningPipeline"
   ]
  },
  {
   "cell_type": "code",
   "execution_count": 23,
   "metadata": {},
   "outputs": [],
   "source": [
    "from pkg.planning.pipeline import PlanningPipeline\n",
    "ppline = PlanningPipeline(pscene)\n",
    "ppline.set_motion_planner(MoveitPlanner(pscene))"
   ]
  },
  {
   "cell_type": "code",
   "execution_count": 24,
   "metadata": {},
   "outputs": [
    {
     "name": "stdout",
     "output_type": "stream",
     "text": [
      "Dash is running on http://0.0.0.0:8050/\n",
      "\n",
      " * Serving Flask app \"pkg.ui.dash_launcher\" (lazy loading)\n",
      " * Environment: production\n"
     ]
    }
   ],
   "source": [
    "from pkg.ui.ui_broker import *\n",
    "\n",
    "# start UI\n",
    "ui_broker = UIBroker.instance()\n",
    "ui_broker.initialize(ppline, s_builder)\n",
    "ui_broker.start_server()\n",
    "\n",
    "ui_broker.set_tables()"
   ]
  },
  {
   "cell_type": "code",
   "execution_count": null,
   "metadata": {},
   "outputs": [],
   "source": []
  },
  {
   "cell_type": "markdown",
   "metadata": {},
   "source": [
    "##### RRT"
   ]
  },
  {
   "cell_type": "code",
   "execution_count": 25,
   "metadata": {},
   "outputs": [
    {
     "name": "stdout",
     "output_type": "stream",
     "text": [
      "   WARNING: This is a development server. Do not use it in a production deployment.\n",
      "   Use a production WSGI server instead.\n",
      " * Debug mode: off\n"
     ]
    }
   ],
   "source": [
    "from pkg.planning.task.rrt import TaskRRT\n",
    "ppline.set_task_planner(TaskRRT(pscene))"
   ]
  },
  {
   "cell_type": "markdown",
   "metadata": {},
   "source": [
    "- pick & place & sweep\n",
    "  - single process"
   ]
  },
  {
   "cell_type": "code",
   "execution_count": 29,
   "metadata": {
    "scrolled": true
   },
   "outputs": [
    {
     "name": "stdout",
     "output_type": "stream",
     "text": [
      "try: 0 - ('floor', 0)->('floor', 1)\n",
      "try transition motion\n",
      "transition motion tried: True\n",
      "result: 0 - ('floor', 0)->('floor', 1) = success\n",
      "branching: 0->1 (0.05/100.0 s, steps/err: 22(49.4887828827 ms)/0.00106611070271)\n",
      "======================================================================================================================================================\n",
      "try: 0 - ('floor', 0)->('floor', 1)\n",
      "try transition motion\n",
      "transition motion tried: True\n",
      "result: 0 - ('floor', 0)->('floor', 1) = success\n",
      "branching: 0->2 (0.11/100.0 s, steps/err: 29(50.4450798035 ms)/0.00172634566679)\n",
      "======================================================================================================================================================\n",
      "try: 0 - ('floor', 0)->('floor', 1)\n",
      "try transition motion\n",
      "transition motion tried: True\n",
      "result: 0 - ('floor', 0)->('floor', 1) = success\n",
      "branching: 0->3 (0.13/100.0 s, steps/err: 16(28.0048847198 ms)/0.0010666369021)\n",
      "======================================================================================================================================================\n",
      "try: 0 - ('floor', 0)->('gripper', 0)\n",
      "try transition motion\n",
      "transition motion tried: False\n",
      "Motion Plan Failure\n",
      "result: 0 - ('floor', 0)->('gripper', 0) = fail\n",
      "try: 0 - ('floor', 0)->('floor', 1)\n",
      "try transition motion\n",
      "transition motion tried: True\n",
      "result: 0 - ('floor', 0)->('floor', 1) = success\n",
      "branching: 0->4 (1.2/100.0 s, steps/err: 16(40.7409667969 ms)/0.00141567023412)\n",
      "======================================================================================================================================================\n",
      "try: 0 - ('floor', 0)->('floor', 1)\n",
      "try transition motion\n",
      "transition motion tried: True\n",
      "result: 0 - ('floor', 0)->('floor', 1) = success\n",
      "branching: 0->5 (1.24/100.0 s, steps/err: 28(34.6939563751 ms)/0.00173330380931)\n",
      "======================================================================================================================================================\n",
      "try: 0 - ('floor', 0)->('floor', 1)\n",
      "try transition motion\n",
      "transition motion tried: True\n",
      "result: 0 - ('floor', 0)->('floor', 1) = success\n",
      "branching: 0->6 (1.28/100.0 s, steps/err: 27(46.8459129333 ms)/0.00158893412463)\n",
      "======================================================================================================================================================\n",
      "try: 0 - ('floor', 0)->('floor', 1)\n",
      "try transition motion\n",
      "transition motion tried: True\n",
      "result: 0 - ('floor', 0)->('floor', 1) = success\n",
      "branching: 0->7 (1.32/100.0 s, steps/err: 14(29.9308300018 ms)/0.00146084892098)\n",
      "======================================================================================================================================================\n",
      "try: 0 - ('floor', 0)->('floor', 1)\n",
      "try transition motion\n",
      "transition motion tried: True\n",
      "result: 0 - ('floor', 0)->('floor', 1) = success\n",
      "branching: 0->8 (1.35/100.0 s, steps/err: 26(37.159204483 ms)/0.000969666520914)\n",
      "======================================================================================================================================================\n",
      "try: 6 - ('floor', 1)->('floor', 2)\n",
      "try constrained motion\n",
      "end\n",
      "constrained motion tried: True\n",
      "result: 6 - ('floor', 1)->('floor', 2) = success\n",
      "branching: 6->9 (1.52/100.0 s, steps/err: 41(166.559934616 ms)/2.82817230015)\n",
      "======================================================================================================================================================\n",
      "try: 9 - ('floor', 2)->('gripper', 2)\n",
      "try transition motion\n",
      "transition motion tried: True\n",
      "result: 9 - ('floor', 2)->('gripper', 2) = success\n",
      "branching: 9->10 (1.58/100.0 s, steps/err: 25(59.3938827515 ms)/0.00138976881611)\n",
      "======================================================================================================================================================\n",
      "try: 10 - ('gripper', 2)->('goal', 2)\n",
      "try transition motion\n",
      "transition motion tried: True\n",
      "Goal reached\n",
      "result: 10 - ('gripper', 2)->('goal', 2) = success\n",
      "branching: 10->11 (1.64/100.0 s, steps/err: 52(52.3359775543 ms)/0.000738009997183)\n",
      "======================================================================================================================================================\n",
      "++ adding return motion to acquired answer ++\n",
      "Goal reached\n",
      "=========================================================================================================\n",
      "======================= terminated 0: first answer acquired ===============================\n",
      "=========================================================================================================\n",
      "('floor', 0)->('floor', 1)\n",
      "('floor', 1)->('floor', 2)\n",
      "('floor', 2)->('gripper', 2)\n",
      "('gripper', 2)->('goal', 2)\n",
      "('goal', 2)->('goal', 2)\n"
     ]
    }
   ],
   "source": [
    "ppline.search(initial_state, goal_nodes=[(\"goal\", 2)], verbose=True, \n",
    "              timeout_loop=100, multiprocess=False, timeout=1, timeout_constrained=5)\n",
    "schedules = ppline.tplan.find_schedules(at_home=True)\n",
    "if len(schedules)==0:\n",
    "    schedules = ppline.tplan.find_schedules(at_home=False)\n",
    "schedules_sorted = ppline.tplan.sort_schedule(schedules)\n",
    "ppline.play_schedule(ppline.tplan.idxSchedule2SnodeScedule(schedules_sorted[0]), period=0.01)"
   ]
  },
  {
   "cell_type": "code",
   "execution_count": null,
   "metadata": {},
   "outputs": [],
   "source": []
  },
  {
   "cell_type": "markdown",
   "metadata": {},
   "source": [
    "- pick & place & sweep  \n",
    "  - multi process"
   ]
  },
  {
   "cell_type": "code",
   "execution_count": 30,
   "metadata": {
    "scrolled": true
   },
   "outputs": [
    {
     "name": "stdout",
     "output_type": "stream",
     "text": [
      "Use 36/36 agents\n",
      "try: 0 - ('floor', 0)->('floor', 1)\n",
      "try: 0 - ('floor', 0)->('gripper', 0)\n",
      "try transition motion\n",
      "try: 0 - ('floor', 0)->('floor', 1)\n",
      "try transition motion\n",
      "try: 0 - ('floor', 0)->('gripper', 0)\n",
      "try transition motion\n",
      "try: 0 - ('floor', 0)->('floor', 1)\n",
      "try transition motion\n",
      "try: 0 - ('floor', 0)->('floor', 1)\n",
      "try transition motion\n",
      "transition motion tried: True\n",
      "try transition motion\n",
      "try: 0 - ('floor', 0)->('gripper', 0)\n",
      "transition motion tried: True\n",
      "result: 0 - ('floor', 0)->('floor', 1) = success\n",
      "try: 0 - ('floor', 0)->('gripper', 0)\n",
      "try transition motion\n",
      "branching: 0->1 (0.13/100.0 s, steps/err: 28(61.3050460815 ms)/0.000885456996854)\n",
      "try transition motion\n",
      "transition motion tried: True\n",
      "======================================================================================================================================================\n",
      "transition motion tried: True\n",
      "result: 0 - ('floor', 0)->('floor', 1) = success\n",
      "try: 0 - ('floor', 0)->('floor', 1)\n",
      "branching: 0->2 (0.18/100.0 s, steps/err: 11(66.6182041168 ms)/0.00145019634966)\n",
      "transition motion tried: True\n",
      "result: 0 - ('floor', 0)->('floor', 1) = success\n",
      "======================================================================================================================================================\n",
      "try transition motion\n",
      "branching: 0->3 (0.22/100.0 s, steps/err: 18(71.3560581207 ms)/0.00183112197263)\n",
      "result: 0 - ('floor', 0)->('floor', 1) = success\n",
      "result: 0 - ('floor', 0)->('gripper', 0) = success\n",
      "======================================================================================================================================================\n",
      "branching: 0->5 (0.25/100.0 s, steps/err: 27(143.819093704 ms)/0.00146303248955)\n",
      "try: 4 - ('gripper', 0)->('floor', 0)\n",
      "try: 4 - ('gripper', 0)->('floor', 0)\n",
      "branching: 0->4 (0.25/100.0 s, steps/err: 83(132.308006287 ms)/1.20754057554)\n",
      "======================================================================================================================================================\n",
      "try transition motion\n",
      "try transition motion\n",
      "======================================================================================================================================================\n",
      "transition motion tried: True\n",
      "try: 4 - ('gripper', 0)->('goal', 0)\n",
      "try: 4 - ('gripper', 0)->('goal', 0)\n",
      "try transition motion\n",
      "result: 0 - ('floor', 0)->('floor', 1) = success\n",
      "try transition motion\n",
      "branching: 0->6 (0.31/100.0 s, steps/err: 22(120.064020157 ms)/0.00143103303474)\n",
      "======================================================================================================================================================\n",
      "try: 4 - ('gripper', 0)->('goal', 0)\n",
      "try: 0 - ('floor', 0)->('floor', 1)\n",
      "try transition motion\n",
      "try transition motion\n",
      "transition motion tried: True\n",
      "transition motion tried: True\n",
      "result: 4 - ('gripper', 0)->('goal', 0) = success\n",
      "branching: 4->7 (0.38/100.0 s, steps/err: 71(79.3118476868 ms)/0.00110031738105)\n",
      "======================================================================================================================================================\n",
      "result: 0 - ('floor', 0)->('floor', 1) = success\n",
      "try: 7 - ('goal', 0)->('goal', 1)\n",
      "branching: 0->8 (0.39/100.0 s, steps/err: 13(54.9938678741 ms)/0.00105407081486)\n",
      "======================================================================================================================================================\n",
      "try: 0 - ('floor', 0)->('floor', 1)\n",
      "try transition motion\n",
      "try transition motion\n",
      "try: 0 - ('floor', 0)->('floor', 1)\n",
      "try transition motion\n",
      "try: 7 - ('goal', 0)->('gripper', 0)\n",
      "try transition motion\n",
      "try: 4 - ('gripper', 0)->('gripper', 1)\n",
      "try: 0 - ('floor', 0)->('gripper', 0)\n",
      "try: 0 - ('floor', 0)->('gripper', 0)\n",
      "try: 1 - ('floor', 1)->('floor', 2)\n",
      "try: 8 - ('floor', 1)->('floor', 2)\n",
      "try transition motion\n",
      "try: 4 - ('gripper', 0)->('gripper', 1)\n",
      "transition motion tried: True\n",
      "try: 4 - ('gripper', 0)->('floor', 0)\n",
      "try transition motion\n",
      "try constrained motion\n",
      "try transition motion\n",
      "try: 0 - ('floor', 0)->('floor', 1)\n",
      "try: 4 - ('gripper', 0)->('gripper', 1)\n",
      "try: 4 - ('gripper', 0)->('floor', 0)\n",
      "try: 7 - ('goal', 0)->('gripper', 0)\n",
      "try: 0 - ('floor', 0)->('floor', 1)\n",
      "try constrained motion\n",
      "try: 8 - ('floor', 1)->('floor', 2)\n",
      "try: 0 - ('floor', 0)->('floor', 1)\n",
      "try transition motion\n",
      "result: 0 - ('floor', 0)->('floor', 1) = success\n",
      "try transition motion\n",
      "branching: 0->9 (0.44/100.0 s, steps/err: 15(42.5510406494 ms)/0.0017577409158)\n",
      "transition motion tried: True\n",
      "try: 7 - ('goal', 0)->('gripper', 0)\n",
      "try transition motion\n",
      "result: 7 - ('goal', 0)->('goal', 1) = success\n",
      "try constrained motion\n",
      "try transition motion\n",
      "try transition motion\n",
      "======================================================================================================================================================\n",
      "try transition motion\n",
      "try: 7 - ('goal', 0)->('gripper', 0)\n",
      "try transition motion\n",
      "try transition motion\n",
      "branching: 7->10 (0.45/100.0 s, steps/err: 55(55.0999641418 ms)/0.000919784962173)\n",
      "try transition motion\n",
      "transition motion tried: True\n",
      "try transition motion\n",
      "try: 0 - ('floor', 0)->('gripper', 0)\n",
      "======================================================================================================================================================\n",
      "try: 4 - ('gripper', 0)->('goal', 0)\n",
      "try: 10 - ('goal', 1)->('goal', 2)\n",
      "transition motion tried: True\n",
      "transition motion tried: True\n",
      "try: 1 - ('floor', 1)->('floor', 2)\n",
      "result: 0 - ('floor', 0)->('floor', 1) = success\n",
      "try constrained motion\n",
      "transition motion tried: True\n",
      "try transition motion\n",
      "transition motion tried: True\n",
      "try transition motion\n",
      "try constrained motion\n",
      "try: 4 - ('gripper', 0)->('floor', 0)\n",
      "branching: 0->11 (0.49/100.0 s, steps/err: 29(83.2328796387 ms)/0.00145742355372)\n",
      "result: 0 - ('floor', 0)->('floor', 1) = success\n",
      "try transition motion\n",
      "======================================================================================================================================================\n",
      "result: 0 - ('floor', 0)->('floor', 1) = success\n",
      "result: 0 - ('floor', 0)->('floor', 1) = success\n",
      "result: 0 - ('floor', 0)->('gripper', 0) = success\n",
      "branching: 0->13 (0.56/100.0 s, steps/err: 27(83.6441516876 ms)/0.00221817741389)\n",
      "branching: 0->12 (0.54/100.0 s, steps/err: 16(55.4828643799 ms)/0.00166287427867)\n",
      "======================================================================================================================================================\n",
      "try: 15 - ('gripper', 0)->('gripper', 1)\n",
      "try: 0 - ('floor', 0)->('floor', 1)\n",
      "try transition motion\n",
      "branching: 0->15 (0.6/100.0 s, steps/err: 71(116.506099701 ms)/1.20628048355)\n",
      "======================================================================================================================================================\n",
      "try transition motion\n",
      "branching: 0->14 (0.6/100.0 s, steps/err: 26(96.7600345612 ms)/0.00146565298932)\n",
      "======================================================================================================================================================\n",
      "try: 4 - ('gripper', 0)->('gripper', 1)\n",
      "try: 4 - ('gripper', 0)->('floor', 0)\n",
      "try transition motion\n",
      "try: 7 - ('goal', 0)->('gripper', 0)\n",
      "======================================================================================================================================================\n",
      "try: 0 - ('floor', 0)->('floor', 1)\n",
      "try transition motion\n",
      "transition motion tried: True\n",
      "try transition motion\n",
      "result: 0 - ('floor', 0)->('floor', 1) = success\n",
      "try transition motion\n",
      "try: 0 - ('floor', 0)->('gripper', 0)\n",
      "branching: 0->16 (0.64/100.0 s, steps/err: 15(41.583776474 ms)/0.00145730922298)\n",
      "try transition motion\n",
      "======================================================================================================================================================\n",
      "try: 8 - ('floor', 1)->('floor', 2)\n",
      "try: 4 - ('gripper', 0)->('goal', 0)\n",
      "transition motion tried: True\n",
      "try constrained motion\n",
      "try transition motion\n",
      "try: 0 - ('floor', 0)->('floor', 1)\n",
      "try transition motion\n",
      "result: 15 - ('gripper', 0)->('gripper', 1) = success\n",
      "transition motion tried: True\n",
      "try: 7 - ('goal', 0)->('gripper', 0)\n",
      "branching: 15->17 (0.7/100.0 s, steps/err: 71(85.2961540222 ms)/0.00134377121512)\n",
      "result: 0 - ('floor', 0)->('floor', 1) = success\n"
     ]
    },
    {
     "name": "stdout",
     "output_type": "stream",
     "text": [
      "======================================================================================================================================================\n",
      "transition motion tried: True\n",
      "try: 7 - ('goal', 0)->('gripper', 0)\n",
      "try: 4 - ('gripper', 0)->('gripper', 1)\n",
      "try transition motion\n",
      "branching: 0->18 (0.73/100.0 s, steps/err: 30(69.748878479 ms)/0.001955294563)\n",
      "try transition motion\n",
      "======================================================================================================================================================\n",
      "try transition motion\n",
      "transition motion tried: True\n",
      "try: 17 - ('gripper', 1)->('gripper', 2)\n",
      "try constrained motion\n",
      "result: 0 - ('floor', 0)->('gripper', 0) = success\n",
      "transition motion tried: True\n",
      "result: 0 - ('floor', 0)->('floor', 1) = success\n",
      "branching: 0->19 (0.79/100.0 s, steps/err: 66(114.058017731 ms)/1.20766814662)\n",
      "transition motion tried: True\n",
      "branching: 0->20 (0.82/100.0 s, steps/err: 16(109.835863113 ms)/0.00166355155478)\n",
      "======================================================================================================================================================\n",
      "result: 4 - ('gripper', 0)->('gripper', 1) = success\n",
      "try: 7 - ('goal', 0)->('goal', 1)\n",
      "try transition motion\n",
      "branching: 4->21 (0.83/100.0 s, steps/err: 112(191.065073013 ms)/0.00110327124973)\n",
      "======================================================================================================================================================\n",
      "======================================================================================================================================================\n",
      "end\n",
      "result: 4 - ('gripper', 0)->('goal', 0) = success\n",
      "try: 17 - ('gripper', 1)->('gripper', 2)\n",
      "constrained motion tried: True\n",
      "try constrained motion\n",
      "branching: 4->22 (0.88/100.0 s, steps/err: 100(173.084974289 ms)/3.10583337727)\n",
      "try: 22 - ('goal', 0)->('goal', 1)\n",
      "try transition motion\n",
      "result: 1 - ('floor', 1)->('floor', 2) = success\n",
      "branching: 1->23 (0.93/100.0 s, steps/err: 41(481.922149658 ms)/1.78954961261)\n",
      "======================================================================================================================================================\n",
      "transition motion tried: True\n",
      "try: 23 - ('floor', 2)->('gripper', 2)\n",
      "end\n",
      "end\n",
      "======================================================================================================================================================\n",
      "end\n",
      "end\n",
      "try: 24 - ('goal', 1)->('goal', 2)\n",
      "constrained motion tried: True\n",
      "constrained motion tried: True\n",
      "result: 7 - ('goal', 0)->('goal', 1) = success\n",
      "constrained motion tried: True\n",
      "try transition motion\n",
      "constrained motion tried: True\n",
      "branching: 7->24 (0.96/100.0 s, steps/err: 56(103.317022324 ms)/0.00146437720569)\n",
      "result: 1 - ('floor', 1)->('floor', 2) = success\n",
      "result: 8 - ('floor', 1)->('floor', 2) = success\n",
      "branching: 1->25 (0.98/100.0 s, steps/err: 41(477.187871933 ms)/0.72956852135)\n",
      "branching: 8->26 (0.99/100.0 s, steps/err: 41(546.329975128 ms)/1.98410320165)\n",
      "Goal reached\n",
      "try constrained motion\n",
      "======================================================================================================================================================\n",
      "transition motion tried: True\n",
      "result: 8 - ('floor', 1)->('floor', 2) = success\n",
      "======================================================================================================================================================\n",
      "======================================================================================================================================================\n",
      "try: 25 - ('floor', 2)->('gripper', 2)\n",
      "result: 22 - ('goal', 0)->('goal', 1) = success\n",
      "result: 10 - ('goal', 1)->('goal', 2) = success\n",
      "branching: 22->29 (1.02/100.0 s, steps/err: 51(109.173059464 ms)/0.00111174149497)\n",
      "try: 28 - ('floor', 2)->('gripper', 2)\n",
      "branching: 8->28 (1.0/100.0 s, steps/err: 41(553.241014481 ms)/2.03424689571)\n",
      "try transition motion\n",
      "try: 26 - ('floor', 2)->('gripper', 2)\n",
      "======================================================================================================================================================\n",
      "======================================================================================================================================================\n",
      "branching: 10->27 (1.03/100.0 s, steps/err: 41(496.614933014 ms)/0.637001906577)\n",
      "try transition motion\n",
      "try transition motion\n",
      "try: 29 - ('goal', 1)->('goal', 2)\n",
      "======================================================================================================================================================\n",
      "try: 0 - ('floor', 0)->('floor', 1)\n",
      "++ adding return motion to acquired answer ++\n",
      "try transition motion\n",
      "try constrained motion\n",
      "transition motion tried: False\n",
      "transition motion tried: True\n",
      "Motion Plan Failure\n",
      "Goal reached\n",
      "transition motion tried: True\n",
      "result: 25 - ('floor', 2)->('gripper', 2) = success\n",
      "transition motion tried: False\n",
      "branching: 25->31 (1.13/100.0 s, steps/err: 52(97.3980426788 ms)/2.15312487608)\n",
      "======================================================================================================================================================\n",
      "Motion Plan Failure\n",
      "result: 0 - ('floor', 0)->('floor', 1) = success\n",
      "result: 0 - ('floor', 0)->('gripper', 0) = fail\n",
      "end\n",
      "try: 31 - ('gripper', 2)->('goal', 2)\n",
      "try: 4 - ('gripper', 0)->('floor', 0)\n",
      "result: 4 - ('gripper', 0)->('gripper', 1) = fail\n",
      "constrained motion tried: True\n",
      "branching: 0->32 (1.17/100.0 s, steps/err: 26(70.6920623779 ms)/0.00146438175609)\n",
      "try transition motion\n",
      "end\n",
      "======================================================================================================================================================\n",
      "result: 17 - ('gripper', 1)->('gripper', 2) = success\n",
      "try transition motion\n",
      "constrained motion tried: True\n",
      "try: 21 - ('gripper', 1)->('gripper', 2)\n",
      "branching: 17->33 (1.18/100.0 s, steps/err: 41(400.95615387 ms)/2.45673026243)\n",
      "try: 33 - ('gripper', 2)->('goal', 2)\n",
      "======================================================================================================================================================\n",
      "result: 8 - ('floor', 1)->('floor', 2) = success\n",
      "try transition motion\n",
      "branching: 8->34 (1.2/100.0 s, steps/err: 41(517.283916473 ms)/0.423031077527)\n",
      "try constrained motion\n",
      "try: 34 - ('floor', 2)->('gripper', 2)\n",
      "transition motion tried: False\n",
      "======================================================================================================================================================\n",
      "try transition motion\n",
      "Motion Plan Failure\n",
      "transition motion tried: False\n",
      "try: 0 - ('floor', 0)->('floor', 1)\n",
      "Motion Plan Failure\n",
      "try transition motion\n",
      "result: 0 - ('floor', 0)->('gripper', 0) = fail\n",
      "try: 4 - ('gripper', 0)->('floor', 0)\n",
      "result: 0 - ('floor', 0)->('gripper', 0) = fail\n",
      "try: 34 - ('floor', 2)->('gripper', 2)\n",
      "try transition motion\n",
      "transition motion tried: True\n",
      "=========================================================================================================\n",
      "try transition motion\n",
      "transition motion tried: False\n",
      "transition motion tried: False\n",
      "result: 0 - ('floor', 0)->('floor', 1) = success\n",
      "transition motion tried: False\n",
      "Motion Plan Failure\n",
      "Motion Plan Failure\n",
      "branching: 0->35 (1.34/100.0 s, steps/err: 19(81.1860561371 ms)/0.00126232674764)\n",
      "Motion Plan Failure\n",
      "result: 4 - ('gripper', 0)->('floor', 0) = fail\n",
      "======================= terminated 0: first answer acquired ===============================\n",
      "result: 4 - ('gripper', 0)->('floor', 0) = fail\n",
      "=========================================================================================================\n",
      "transition motion tried: False\n",
      "======================================================================================================================================================\n",
      "=========================================================================================================\n",
      "Motion Plan Failure\n",
      "result: 4 - ('gripper', 0)->('goal', 0) = fail\n",
      "======================= terminated 5: first answer acquired from other agent ===============================\n",
      "=========================================================================================================\n",
      "=========================================================================================================\n"
     ]
    },
    {
     "name": "stdout",
     "output_type": "stream",
     "text": [
      "end\n",
      "=========================================================================================================\n",
      "======================= terminated 4: first answer acquired from other agent ===============================\n",
      "======================= terminated 2: first answer acquired from other agent ===============================\n",
      "constrained motion tried: True\n",
      "result: 4 - ('gripper', 0)->('goal', 0) = fail\n",
      "=========================================================================================================\n",
      "=========================================================================================================\n",
      "result: 17 - ('gripper', 1)->('gripper', 2) = success\n",
      "branching: 17->36 (1.43/100.0 s, steps/err: 41(539.347171783 ms)/1.76651888117)\n",
      "=========================================================================================================\n",
      "======================= terminated 9: first answer acquired from other agent ===============================\n",
      "======================================================================================================================================================\n",
      "=========================================================================================================\n",
      "======================= terminated 8: first answer acquired from other agent ===============================\n",
      "=========================================================================================================\n",
      "=========================================================================================================\n",
      "end\n",
      "=========================================================================================================\n",
      "transition motion tried: False\n",
      "constrained motion tried: True\n",
      "Motion Plan Failure\n",
      "======================= terminated 30: first answer acquired from other agent ===============================\n",
      "transition motion tried: False\n",
      "=========================================================================================================\n",
      "Motion Plan Failure\n",
      "end\n",
      "transition motion tried: False\n",
      "transition motion tried: False\n",
      "Motion Plan Failure\n",
      "transition motion tried: False\n",
      "Motion Plan Failure\n",
      "transition motion tried: False\n",
      "transition motion tried: False\n",
      "Goal reached\n",
      "Motion Plan Failure\n",
      "constrained motion tried: True\n",
      "result: 7 - ('goal', 0)->('gripper', 0) = fail\n",
      "result: 4 - ('gripper', 0)->('gripper', 1) = fail\n",
      "result: 24 - ('goal', 1)->('goal', 2) = success\n",
      "Motion Plan Failure\n",
      "result: 7 - ('goal', 0)->('gripper', 0) = fail\n",
      "=========================================================================================================\n",
      "result: 0 - ('floor', 0)->('gripper', 0) = fail\n",
      "branching: 24->37 (1.52/100.0 s, steps/err: 41(501.046895981 ms)/1.20318759678)\n",
      "result: 7 - ('goal', 0)->('gripper', 0) = fail\n",
      "Motion Plan Failure\n",
      "======================= terminated 24: first answer acquired from other agent ===============================\n",
      "=========================================================================================================\n",
      "transition motion tried: False\n",
      "======================================================================================================================================================\n",
      "transition motion tried: False\n",
      "=========================================================================================================\n",
      "=========================================================================================================\n",
      "Goal reached\n",
      "Motion Plan Failure\n",
      "++ adding return motion to acquired answer ++\n",
      "======================= terminated 21: first answer acquired from other agent ===============================\n",
      "======================= terminated 14: first answer acquired from other agent ===============================\n",
      "=========================================================================================================\n",
      "result: 7 - ('goal', 0)->('gripper', 0) = fail\n",
      "=========================================================================================================\n",
      "Motion Plan Failure\n",
      "=========================================================================================================\n",
      "result: 29 - ('goal', 1)->('goal', 2) = success\n",
      "transition motion tried: False\n",
      "=========================================================================================================\n",
      "======================= terminated 10: first answer acquired from other agent ===============================\n",
      "======================= terminated 22: first answer acquired from other agent ===============================\n",
      "=========================================================================================================\n",
      "=========================================================================================================\n",
      "transition motion tried: False\n",
      "result: 0 - ('floor', 0)->('gripper', 0) = fail\n",
      "transition motion tried: False\n",
      "Motion Plan Failure\n",
      "=========================================================================================================\n",
      "Motion Plan Failure\n",
      "=========================================================================================================\n",
      "Goal reached\n",
      "Motion Plan Failure\n",
      "======================= terminated 26: first answer acquired from other agent ===============================\n",
      "=========================================================================================================\n",
      "result: 4 - ('gripper', 0)->('floor', 0) = fail\n",
      "result: 4 - ('gripper', 0)->('floor', 0) = fail\n",
      "branching: 29->38 (1.59/100.0 s, steps/err: 41(439.606904984 ms)/2.79751281596)\n",
      "result: 4 - ('gripper', 0)->('gripper', 1) = fail\n",
      "======================================================================================================================================================\n",
      "transition motion tried: False\n",
      "result: 4 - ('gripper', 0)->('floor', 0) = fail\n",
      "=========================================================================================================\n",
      "======================= terminated 27: first answer acquired from other agent ===============================\n",
      "end\n",
      "transition motion tried: False\n",
      "++ adding return motion to acquired answer ++\n",
      "=========================================================================================================\n",
      "======================= terminated 13: first answer acquired from other agent ===============================\n",
      "constrained motion tried: True\n",
      "=========================================================================================================\n",
      "=========================================================================================================\n",
      "Motion Plan Failure\n",
      "Motion Plan Failure\n",
      "result: 4 - ('gripper', 0)->('goal', 0) = fail\n",
      "=========================================================================================================\n",
      "result: 4 - ('gripper', 0)->('floor', 0) = fail\n",
      "======================= terminated 18: first answer acquired from other agent ===============================\n",
      "======================= terminated 28: first answer acquired from other agent ===============================\n",
      "result: 21 - ('gripper', 1)->('gripper', 2) = success\n",
      "=========================================================================================================\n",
      "result: 7 - ('goal', 0)->('gripper', 0) = fail\n",
      "======================= terminated 20: first answer acquired from other agent ===============================\n",
      "=========================================================================================================\n",
      "branching: 21->40 (1.71/100.0 s, steps/err: 41(510.849952698 ms)/2.8256428641)\n",
      "=========================================================================================================\n",
      "======================= terminated 15: first answer acquired from other agent ===============================\n",
      "=========================================================================================================\n",
      "=========================================================================================================\n",
      "======================================================================================================================================================\n",
      "=========================================================================================================\n"
     ]
    },
    {
     "name": "stdout",
     "output_type": "stream",
     "text": [
      "=========================================================================================================\n",
      "======================= terminated 16: first answer acquired from other agent ===============================\n",
      "======================= terminated 25: first answer acquired from other agent ===============================\n",
      "=========================================================================================================\n",
      "=========================================================================================================\n",
      "=========================================================================================================\n",
      "=========================================================================================================\n",
      "======================= terminated 29: first answer acquired from other agent ===============================\n",
      "Goal reached\n",
      "=========================================================================================================\n",
      "transition motion tried: False\n",
      "transition motion tried: False\n",
      "Motion Plan Failure\n",
      "Motion Plan Failure\n",
      "result: 7 - ('goal', 0)->('gripper', 0) = fail\n",
      "result: 7 - ('goal', 0)->('gripper', 0) = fail\n",
      "transition motion tried: False\n",
      "Motion Plan Failure\n",
      "=========================================================================================================\n",
      "=========================================================================================================\n",
      "======================= terminated 34: first answer acquired from other agent ===============================\n",
      "======================= terminated 35: first answer acquired from other agent ===============================\n",
      "=========================================================================================================\n",
      "=========================================================================================================\n",
      "result: 4 - ('gripper', 0)->('gripper', 1) = fail\n",
      "=========================================================================================================\n",
      "=========================================================================================================\n",
      "======================= terminated 11: first answer acquired ===============================\n",
      "=========================================================================================================\n",
      "======================= terminated 17: first answer acquired from other agent ===============================\n",
      "=========================================================================================================\n",
      "=========================================================================================================\n",
      "======================= terminated 33: first answer acquired ===============================\n",
      "=========================================================================================================\n",
      "transition motion tried: False\n",
      "Motion Plan Failure\n",
      "result: 23 - ('floor', 2)->('gripper', 2) = fail\n",
      "=========================================================================================================\n",
      "======================= terminated 32: first answer acquired from other agent ===============================\n",
      "=========================================================================================================\n",
      "transition motion tried: False\n",
      "Motion Plan Failure\n",
      "result: 28 - ('floor', 2)->('gripper', 2) = fail\n",
      "transition motion tried: False\n",
      "=========================================================================================================\n",
      "Motion Plan Failure\n",
      "======================= terminated 12: first answer acquired from other agent ===============================\n",
      "=========================================================================================================\n",
      "result: 26 - ('floor', 2)->('gripper', 2) = fail\n",
      "=========================================================================================================\n",
      "======================= terminated 3: first answer acquired from other agent ===============================\n",
      "=========================================================================================================\n",
      "transition motion tried: False\n",
      "Motion Plan Failure\n",
      "transition motion tried: False\n",
      "result: 4 - ('gripper', 0)->('floor', 0) = fail\n",
      "=========================================================================================================\n",
      "Motion Plan Failure\n",
      "======================= terminated 31: first answer acquired from other agent ===============================\n",
      "=========================================================================================================\n",
      "result: 31 - ('gripper', 2)->('goal', 2) = fail\n",
      "=========================================================================================================\n",
      "======================= terminated 1: first answer acquired from other agent ===============================\n",
      "=========================================================================================================\n",
      "transition motion tried: False\n",
      "Motion Plan Failure\n",
      "result: 34 - ('floor', 2)->('gripper', 2) = fail\n",
      "=========================================================================================================\n",
      "======================= terminated 19: first answer acquired from other agent ===============================\n",
      "=========================================================================================================\n",
      "transition motion tried: False\n",
      "Motion Plan Failure\n",
      "result: 33 - ('gripper', 2)->('goal', 2) = fail\n",
      "=========================================================================================================\n",
      "======================= terminated 23: first answer acquired from other agent ===============================\n",
      "=========================================================================================================\n",
      "transition motion tried: False\n",
      "Motion Plan Failure\n",
      "result: 4 - ('gripper', 0)->('floor', 0) = fail\n",
      "=========================================================================================================\n",
      "======================= terminated 7: first answer acquired from other agent ===============================\n",
      "=========================================================================================================\n",
      "transition motion tried: False\n",
      "Motion Plan Failure\n",
      "result: 34 - ('floor', 2)->('gripper', 2) = fail\n",
      "=========================================================================================================\n",
      "======================= terminated 6: first answer acquired from other agent ===============================\n",
      "=========================================================================================================\n",
      "('floor', 0)->('gripper', 0)\n",
      "('gripper', 0)->('goal', 0)\n",
      "('goal', 0)->('goal', 1)\n",
      "('goal', 1)->('goal', 2)\n",
      "('goal', 2)->('goal', 2)\n"
     ]
    }
   ],
   "source": [
    "ppline.search(initial_state, goal_nodes=[(\"goal\", 2)], verbose=True, \n",
    "              timeout_loop=100, multiprocess=True, timeout=1, timeout_constrained=5)\n",
    "schedules = ppline.tplan.find_schedules(at_home=True)\n",
    "if len(schedules)==0:\n",
    "    schedules = ppline.tplan.find_schedules(at_home=False)\n",
    "schedules_sorted = ppline.tplan.sort_schedule(schedules)\n",
    "ppline.play_schedule(ppline.tplan.idxSchedule2SnodeScedule(schedules_sorted[0]), period=0.01)"
   ]
  },
  {
   "cell_type": "code",
   "execution_count": null,
   "metadata": {},
   "outputs": [],
   "source": []
  },
  {
   "cell_type": "code",
   "execution_count": null,
   "metadata": {},
   "outputs": [],
   "source": []
  }
 ],
 "metadata": {
  "kernelspec": {
   "display_name": "Python 2",
   "language": "python",
   "name": "python2"
  },
  "language_info": {
   "codemirror_mode": {
    "name": "ipython",
    "version": 2
   },
   "file_extension": ".py",
   "mimetype": "text/x-python",
   "name": "python",
   "nbconvert_exporter": "python",
   "pygments_lexer": "ipython2",
   "version": "2.7.17"
  }
 },
 "nbformat": 4,
 "nbformat_minor": 2
}
