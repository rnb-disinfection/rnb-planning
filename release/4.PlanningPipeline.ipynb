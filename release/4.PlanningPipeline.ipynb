{
 "cells": [
  {
   "cell_type": "markdown",
   "metadata": {},
   "source": [
    "## Check List 4 - PlanningPipeline\n",
    "*\\* ~~Strikethrough~~ means no-error but none-functional cases.*\n",
    "* **4.1 PlanningScene**  \n",
    "  - create_binder\n",
    "    - actor: PlacePlane, Gripper2Tool, SweepTool\n",
    "    - handle: Grasp2Point, PlacePoint, SweepPoint\n",
    "  - create_subject\n",
    "    - subject: CustomObject, SweepLineTask\n",
    "  - update_state\n",
    "* **4.2 MotionPlanner**  \n",
    "  - MoveitPlanner\n",
    "    - pick, place, sweep\n",
    "  - EtaslPlanner\n",
    "    - pick, place, ~~sweep~~\n",
    "* **4.3 TaskPlanner**  \n",
    "  - RRT\n",
    "    - pick & place & sweep\n",
    "      - single process\n",
    "      - multi process"
   ]
  },
  {
   "cell_type": "code",
   "execution_count": null,
   "metadata": {},
   "outputs": [],
   "source": []
  },
  {
   "cell_type": "markdown",
   "metadata": {},
   "source": [
    "## set running directory to project source"
   ]
  },
  {
   "cell_type": "code",
   "execution_count": 1,
   "metadata": {},
   "outputs": [],
   "source": [
    "import os\n",
    "import numpy as np\n",
    "import time\n",
    "os.chdir(os.path.join(os.environ[\"RNB_PLANNING_DIR\"], 'src'))"
   ]
  },
  {
   "cell_type": "code",
   "execution_count": null,
   "metadata": {},
   "outputs": [],
   "source": []
  },
  {
   "cell_type": "markdown",
   "metadata": {},
   "source": [
    "## 4.1 PlanningScene"
   ]
  },
  {
   "cell_type": "markdown",
   "metadata": {},
   "source": [
    "##### initialize CombinedRobot and GeometryScene"
   ]
  },
  {
   "cell_type": "code",
   "execution_count": 2,
   "metadata": {},
   "outputs": [
    {
     "name": "stdout",
     "output_type": "stream",
     "text": [
      "connection command:\n",
      "indy0: False\n"
     ]
    },
    {
     "name": "stderr",
     "output_type": "stream",
     "text": [
      "Unknown tag \"hardwareInterface\" in /robot[@name='custom_robots']/transmission[@name='indy0_tran0']/actuator[@name='indy0_motor0']\n",
      "Unknown tag \"hardwareInterface\" in /robot[@name='custom_robots']/transmission[@name='indy0_tran1']/actuator[@name='indy0_motor1']\n",
      "Unknown tag \"hardwareInterface\" in /robot[@name='custom_robots']/transmission[@name='indy0_tran2']/actuator[@name='indy0_motor2']\n",
      "Unknown tag \"hardwareInterface\" in /robot[@name='custom_robots']/transmission[@name='indy0_tran3']/actuator[@name='indy0_motor3']\n",
      "Unknown tag \"hardwareInterface\" in /robot[@name='custom_robots']/transmission[@name='indy0_tran4']/actuator[@name='indy0_motor4']\n",
      "Unknown tag \"hardwareInterface\" in /robot[@name='custom_robots']/transmission[@name='indy0_tran5']/actuator[@name='indy0_motor5']\n"
     ]
    },
    {
     "name": "stdout",
     "output_type": "stream",
     "text": [
      "Please create a subscriber to the marker\n",
      "publication OK\n",
      "published: [0, 0, 0, 0, 0, 0]\n",
      "Please create a subscriber to the marker\n"
     ]
    }
   ],
   "source": [
    "from pkg.controller.combined_robot import *\n",
    "from pkg.project_config import *\n",
    "from pkg.geometry.builder.scene_builder import SceneBuilder\n",
    "\n",
    "s_builder = SceneBuilder(None)   # create scene builder without detector for virtual scene\n",
    "crob = CombinedRobot(robots_on_scene=[\n",
    "    RobotConfig(0, RobotType.indy7, ((0,0,0), (0,0,0)), None)]\n",
    "                     , connection_list=[False])\n",
    "gscene = s_builder.create_gscene(crob)\n",
    "gtems = s_builder.add_robot_geometries(color=(0,1,0,0.5), display=True, collision=True)\n",
    "gscene.show_pose(crob.home_pose)"
   ]
  },
  {
   "cell_type": "markdown",
   "metadata": {},
   "source": [
    "##### add geometries"
   ]
  },
  {
   "cell_type": "code",
   "execution_count": 3,
   "metadata": {},
   "outputs": [],
   "source": [
    "from pkg.geometry.geometry import *\n",
    "\n",
    "# add environments (fixed=True for non-movable geometries)\n",
    "wall = gscene.create_safe(GEOTYPE.BOX, \"wall\", \"base_link\", (3,3,0.01), (-0.2,0,0), \n",
    "                           rpy=(0,np.pi/2,0), color=(0.8,0.8,0.8,0.5), display=True, fixed=True, collision=True)\n",
    "floor = gscene.create_safe(GEOTYPE.BOX, \"floor\", \"base_link\", (3,3,0.01), (0,0,0), \n",
    "                           rpy=(0,0,0), color=(0.8,0.8,0.8,0.5), display=True, fixed=True, collision=True)\n",
    "wp1 = gscene.create_safe(GEOTYPE.BOX, \"wp1\", \"base_link\", (0.1,0.1,0.01), (0.5,-0.2,0),rpy=(0,0,0), \n",
    "                         color=(0.8,0.2,0.2,1), display=True, fixed=True, collision=False)\n",
    "wp2 = gscene.create_safe(GEOTYPE.BOX, \"wp2\", \"base_link\", (0.1,0.1,0.01), (0.5,0.2,0), rpy=(0,0,0), \n",
    "                         color=(0.8,0.2,0.2,1), display=True, fixed=True, collision=False)\n",
    "goal = gscene.create_safe(GEOTYPE.BOX, \"goal\", \"base_link\", (0.1,0.1,0.01), (0.3,-0.4,0), \n",
    "                          rpy=(0,0,0), color=(0.2,0.2,0.8,1), display=True, fixed=True, collision=False)\n",
    " \n",
    "# add movable (fixed=False for movable geometries)\n",
    "box1 = gscene.create_safe(GEOTYPE.BOX, \"box1\", \"base_link\", (0.05,0.05,0.05), (0.3,0.4,0.031), \n",
    "                          rpy=(0,0,0), color=(0.8,0.2,0.2,1), display=True, fixed=False, collision=True)\n",
    "\n",
    "obstacle = gscene.create_safe(GEOTYPE.BOX, \"obstacle\", \"base_link\", (0.05,0.05,0.05), (0.5,0.4,0.031), \n",
    "                          rpy=(0,0,0), color=(0.8,0.8,0.2,1), display=True, fixed=False, collision=True)"
   ]
  },
  {
   "cell_type": "code",
   "execution_count": null,
   "metadata": {},
   "outputs": [],
   "source": []
  },
  {
   "cell_type": "markdown",
   "metadata": {},
   "source": [
    "##### create PlanningScene"
   ]
  },
  {
   "cell_type": "code",
   "execution_count": 4,
   "metadata": {},
   "outputs": [],
   "source": [
    "from pkg.planning.scene import PlanningScene\n",
    "pscene = PlanningScene(gscene, combined_robot=crob)"
   ]
  },
  {
   "cell_type": "code",
   "execution_count": null,
   "metadata": {},
   "outputs": [],
   "source": []
  },
  {
   "cell_type": "markdown",
   "metadata": {},
   "source": [
    "##### create_binder\n",
    "- Binders (or Actors) are binding points where objects can be attached (or binded)\n",
    "- Examples are \n",
    "  - PlacePlane: plane for object placement\n",
    "  - Gripper2Tool: 2-finger gripper tool for grasp objects\n",
    "  - SweepTool: action point to pass waypoints for sweep task"
   ]
  },
  {
   "cell_type": "code",
   "execution_count": 5,
   "metadata": {},
   "outputs": [],
   "source": [
    "from pkg.planning.constraint.constraint_actor import PlacePlane, Gripper2Tool, SweepTool"
   ]
  },
  {
   "cell_type": "code",
   "execution_count": 6,
   "metadata": {},
   "outputs": [
    {
     "data": {
      "text/plain": [
       "<pkg.planning.constraint.constraint_actor.PlacePlane at 0x7f6c3610abd0>"
      ]
     },
     "execution_count": 6,
     "metadata": {},
     "output_type": "execute_result"
    }
   ],
   "source": [
    "# create PlacePlane on geometry \"floor\" and \"goal\"\n",
    "# when point is not set, the entire upper surface of the geometry becomes valid binding area.\n",
    "# when point is set, the specific point becomes the only valid binding point.\n",
    "pscene.create_binder(bname=\"floor\", gname=\"floor\", _type=PlacePlane)\n",
    "pscene.create_binder(bname=\"goal\", gname=\"goal\", _type=PlacePlane, point=(0,0,0.005))"
   ]
  },
  {
   "cell_type": "code",
   "execution_count": 7,
   "metadata": {},
   "outputs": [
    {
     "data": {
      "text/plain": [
       "<pkg.planning.constraint.constraint_actor.Gripper2Tool at 0x7f6c3611fb50>"
      ]
     },
     "execution_count": 7,
     "metadata": {},
     "output_type": "execute_result"
    }
   ],
   "source": [
    "# add collision boundary for gripper base\n",
    "# - set link_name=\"indy0_tcp\" to attach the geometry to end-effector link\n",
    "# - it can be labeled as fixed=True, as it is \"fixed\" on the indy0_tcp link\n",
    "gripper =  gscene.create_safe(GEOTYPE.BOX, \"gripper\", link_name=\"indy0_tcp\", \n",
    "                                dims=(0.02,0.1,0.1), center=(0,0,0.05), rpy=(0,0,0), \n",
    "                                color=(0.8,0.2,0.2,0.5), display=True, fixed=True, collision=True)\n",
    "\n",
    "# add gripper fingers - By setting parent=\"gripper\", the position of geometry can be set relative to the parent geometry\n",
    "finger1 =  gscene.create_safe(GEOTYPE.BOX, \"finger1\", link_name=\"indy0_tcp\",\n",
    "                              dims=(0.02,0.02,0.1), center=(0,0.06,0.07), rpy=(0,0,0), \n",
    "                              color=(0.8,0.2,0.2,0.5), display=True, fixed=True, collision=True, parent=\"gripper\")\n",
    "finger2 =  gscene.create_safe(GEOTYPE.BOX, \"finger2\", link_name=\"indy0_tcp\", \n",
    "                              dims=(0.02,0.02,0.1), center=(0,-0.06,0.07), rpy=(0,0,0), \n",
    "                              color=(0.8,0.2,0.2,0.5), display=True, fixed=True, collision=True, parent=\"gripper\")\n",
    "\n",
    "# create Gripper2Tool binder\n",
    "# Gripper2Tool is a 2-finger gripper, which can rotate along z-direction.\n",
    "# To align the z-direction with the 2 fingers, rotate by 90 degree along roll axis.\n",
    "# The gripping point is (0,0,0.11) in local coordinate of \"gripper\" geometry\n",
    "pscene.create_binder(bname=\"grip0\", gname=\"gripper\", _type=Gripper2Tool, point=(0,0,0.11), rpy=(-np.pi/2,0,0))"
   ]
  },
  {
   "cell_type": "code",
   "execution_count": 8,
   "metadata": {},
   "outputs": [
    {
     "data": {
      "text/plain": [
       "<pkg.planning.constraint.constraint_actor.SweepTool at 0x7f6c360385d0>"
      ]
     },
     "execution_count": 8,
     "metadata": {},
     "output_type": "execute_result"
    }
   ],
   "source": [
    "# Add virtual (no-collision) sweep face. the point is 0.2 m away from the \"indy0_tcp\" link\n",
    "# To match the z-direction with the target surface, the geometry is rotated 180 degrees in pitch-axis.\n",
    "sweep_face =  gscene.create_safe(GEOTYPE.BOX, \"sweep_face\", link_name=\"indy0_tcp\", \n",
    "                                dims=(0.05,0.05,0.001), center=(0,0,0.2), rpy=(0,np.pi,0), \n",
    "                                color=(0.2,0.2,0.8,0.1), display=True, fixed=True, collision=False)\n",
    "                                 \n",
    "# create SweepTool binder\n",
    "pscene.create_binder(bname=\"sweep_face\", gname=\"sweep_face\", _type=SweepTool, point=(0,0,0), rpy=(0,0,0))"
   ]
  },
  {
   "cell_type": "code",
   "execution_count": null,
   "metadata": {},
   "outputs": [],
   "source": []
  },
  {
   "cell_type": "markdown",
   "metadata": {},
   "source": [
    "##### create_subject\n",
    "* Subject describes the tasks in the planning scene.\n",
    "* There are 2 categories in subject:\n",
    "  1. Object: The object has grip points and placement points for pick&place task\n",
    "  2. Task: The task is can be any non-physical task. Check SweepLineTask for example\n",
    "* The subjects can be composed of multiple action points. Examples are:\n",
    "  1. Grasp2Point: grasping point for 2-finger gripper. \n",
    "  2. PlacePoint: The point to place object.\n",
    "  3. SweepPoint: A waypoint for SweepLineTask.\n",
    "  * The above 3 action points inherit DirectePoint, for which the orientation is free along z-axis. \n",
    "  * If \"point\" parameter is not set, the entire upper surface is becomes valid action area."
   ]
  },
  {
   "cell_type": "code",
   "execution_count": 9,
   "metadata": {},
   "outputs": [],
   "source": [
    "from pkg.planning.constraint.constraint_subject import Grasp2Point, PlacePoint, SweepPoint\n",
    "from pkg.planning.constraint.constraint_subject import CustomObject, SweepLineTask"
   ]
  },
  {
   "cell_type": "code",
   "execution_count": 10,
   "metadata": {},
   "outputs": [],
   "source": [
    "## create box object with grasping points along positive & negative y-direction and placement point in the bottom face\n",
    "box_obj = pscene.create_subject(oname=\"box1\", gname=\"box1\", _type=CustomObject, \n",
    "                             action_points_dict = {\n",
    "                                 \"handle1\": Grasp2Point(\"handle1\", box1, [0,0,0], [-np.pi/2,0,0]),\n",
    "                                 \"handle2\": Grasp2Point(\"handle2\", box1, [0,0,0], [np.pi/2,0,0]),\n",
    "                                 \"bottom\": PlacePoint(\"bottom\", box1, [0,0,-0.026], [0,0,0])})"
   ]
  },
  {
   "cell_type": "code",
   "execution_count": 11,
   "metadata": {},
   "outputs": [],
   "source": [
    "## create sweep task with 2 waypoints\n",
    "sweep = pscene.create_subject(oname=\"sweep\", gname=\"floor\", _type=SweepLineTask, \n",
    "                             action_points_dict = {\"wp1\": SweepPoint(\"wp1\", wp1, [0,0,0.005], [0,0,0]),\n",
    "                                                   \"wp2\": SweepPoint(\"wp2\", wp2, [0,0,0.005], [0,0,0])}\n",
    "                             )"
   ]
  },
  {
   "cell_type": "code",
   "execution_count": null,
   "metadata": {},
   "outputs": [],
   "source": []
  },
  {
   "cell_type": "markdown",
   "metadata": {},
   "source": [
    "##### update_state\n",
    "* update_state(robot_pose) updates robot pose and gets corresponding binding status of current scene.\n",
    "* state.node of ('floor', 0) means the first subject (object) is placed on the floor and the second subject (sweep) has passed 0 waypoints"
   ]
  },
  {
   "cell_type": "code",
   "execution_count": 12,
   "metadata": {},
   "outputs": [
    {
     "name": "stdout",
     "output_type": "stream",
     "text": [
      "('floor', 0)\n"
     ]
    }
   ],
   "source": [
    "initial_state = pscene.update_state(crob.home_pose)\n",
    "print(initial_state.node)"
   ]
  },
  {
   "cell_type": "code",
   "execution_count": null,
   "metadata": {},
   "outputs": [],
   "source": []
  },
  {
   "cell_type": "markdown",
   "metadata": {},
   "source": [
    "## 4.2 MotionPlanner"
   ]
  },
  {
   "cell_type": "markdown",
   "metadata": {},
   "source": [
    "##### MoveitPlanner\n",
    "* *get_available_binding_dict()* gets available binding states for each subject in a dictionary\n",
    "* *sample_leaf_state samples()* target state with given available_binding_dict and target node\n",
    "* *rebind_all()* updates binding state and returns the resultant state\n",
    "* The motions tested in this section are:\n",
    "  - pick: move the object to \"gripper\"\n",
    "  - place: move the object to \"goal\"\n",
    "  - sweep: \n",
    "    1) approach to waypoint 1\n",
    "    2) sweep to waypoint 2\n",
    "    3) return to home pose"
   ]
  },
  {
   "cell_type": "code",
   "execution_count": 13,
   "metadata": {},
   "outputs": [],
   "source": [
    "from pkg.planning.motion.moveit.moveit_planner import MoveitPlanner\n",
    "mplan = MoveitPlanner(pscene)"
   ]
  },
  {
   "cell_type": "code",
   "execution_count": 14,
   "metadata": {},
   "outputs": [
    {
     "name": "stdout",
     "output_type": "stream",
     "text": [
      "try transition motion\n",
      "transition motion tried: True\n"
     ]
    }
   ],
   "source": [
    "# pick motion - move the object to \"gripper\"\n",
    "from_state = initial_state.copy(pscene)\n",
    "to_node = (\"gripper\", 0)\n",
    "for _ in range(20):\n",
    "    available_binding_dict = pscene.get_available_binding_dict(from_state, to_node)\n",
    "    to_state, redundancy_dict = pscene.sample_leaf_state(from_state, available_binding_dict, to_node)\n",
    "    Traj, LastQ, error, success, binding_list = mplan.plan_transition(from_state, to_state, redundancy_dict, timeout=1)\n",
    "    if success:\n",
    "        break\n",
    "if success:\n",
    "    pscene.set_object_state(from_state)\n",
    "    gscene.show_motion(Traj, period=0.05)\n",
    "    pick_state = pscene.rebind_all(binding_list, LastQ)\n",
    "else:\n",
    "    print(\"Solution not found. Please try again, try to find error if it keeps failing.\")\n",
    "    raise(RuntimeError(\"Motion plan failure\"))"
   ]
  },
  {
   "cell_type": "code",
   "execution_count": 15,
   "metadata": {},
   "outputs": [
    {
     "name": "stdout",
     "output_type": "stream",
     "text": [
      "try transition motion\n",
      "transition motion tried: True\n"
     ]
    }
   ],
   "source": [
    "# place motion - move the object to \"goal\"\n",
    "from_state = pick_state.copy(pscene)\n",
    "to_node = (\"goal\", 0)\n",
    "for _ in range(20):\n",
    "    available_binding_dict = pscene.get_available_binding_dict(from_state, to_node)\n",
    "    to_state, redundancy_dict = pscene.sample_leaf_state(from_state, available_binding_dict, to_node)\n",
    "    Traj, LastQ, error, success, binding_list = mplan.plan_transition(from_state, to_state, redundancy_dict, timeout=1)\n",
    "    if success:\n",
    "        break\n",
    "if success:\n",
    "    pscene.set_object_state(from_state)\n",
    "    gscene.show_motion(Traj, period=0.05)\n",
    "    place_state = pscene.rebind_all(binding_list, LastQ)\n",
    "else:\n",
    "    print(\"Solution not found. Please try again, try to find error if it keeps failing.\")\n",
    "    print(\"Sometimes this placement motion is inherently impossible depending on pick parameter.\")\n",
    "    print(\"Then, please re-try from the beginning to change the configuration\")\n",
    "    raise(RuntimeError(\"Motion plan failure\"))"
   ]
  },
  {
   "cell_type": "code",
   "execution_count": 16,
   "metadata": {},
   "outputs": [
    {
     "name": "stdout",
     "output_type": "stream",
     "text": [
      "try transition motion\n",
      "transition motion tried: True\n"
     ]
    }
   ],
   "source": [
    "# sweep motion 1 - reach the first waypoint\n",
    "from_state = place_state.copy(pscene)\n",
    "from_state.Q = crob.home_pose\n",
    "to_node = (\"goal\", 1)\n",
    "for _ in range(20):\n",
    "    available_binding_dict = pscene.get_available_binding_dict(from_state, to_node)\n",
    "    to_state, redundancy_dict = pscene.sample_leaf_state(from_state, available_binding_dict, to_node)\n",
    "    Traj, LastQ, error, success, binding_list = mplan.plan_transition(from_state, to_state, redundancy_dict, timeout=1)\n",
    "    if success:\n",
    "        if np.abs(LastQ[0])<np.pi/2: # else, it will fail in sweep motion\n",
    "            break\n",
    "if success:\n",
    "    pscene.set_object_state(from_state)\n",
    "    gscene.show_motion(Traj, period=0.05)\n",
    "    sweep1_state = pscene.rebind_all(binding_list, LastQ)\n",
    "else:\n",
    "    print(\"Solution not found. Please try again, try to find error if it keeps failing.\")\n",
    "    raise(RuntimeError(\"Motion plan failure\"))"
   ]
  },
  {
   "cell_type": "code",
   "execution_count": 17,
   "metadata": {},
   "outputs": [
    {
     "name": "stdout",
     "output_type": "stream",
     "text": [
      "try constrained motion\n",
      "constrained motion tried: True\n"
     ]
    }
   ],
   "source": [
    "# sweep motion 2 - sweep \"floor\" to the second waypoint. Constrained motion planning takes longer time\n",
    "from_state = sweep1_state.copy(pscene)\n",
    "to_node = (\"goal\", 2)\n",
    "for _ in range(3):\n",
    "    available_binding_dict = pscene.get_available_binding_dict(from_state, to_node)\n",
    "    to_state, redundancy_dict = pscene.sample_leaf_state(from_state, available_binding_dict, to_node)\n",
    "    Traj, LastQ, error, success, binding_list = mplan.plan_transition(from_state, to_state, redundancy_dict, timeout=30)\n",
    "    if success:\n",
    "        break\n",
    "if success:\n",
    "    pscene.set_object_state(from_state)\n",
    "    gscene.show_motion(Traj, period=0.05)\n",
    "    sweep2_state = pscene.rebind_all(binding_list, LastQ)\n",
    "else:\n",
    "    print(\"Solution not found. Please try again, try to find error if it keeps failing.\")\n",
    "    print(\"Sometimes this constrained motion is inherently impossible.\")\n",
    "    print(\"Then, please re-try from the beginning to change the configuration\")\n",
    "    raise(RuntimeError(\"Motion plan failure\"))"
   ]
  },
  {
   "cell_type": "code",
   "execution_count": 18,
   "metadata": {},
   "outputs": [
    {
     "name": "stdout",
     "output_type": "stream",
     "text": [
      "============= try go home (indy0) ===================\n",
      "try joint motion\n",
      "joint motion tried: True\n"
     ]
    }
   ],
   "source": [
    "# return: calling sample_leaf_state() with same binding state generates motion target that returns to home pose\n",
    "from_state = sweep2_state.copy(pscene)\n",
    "to_node = (\"goal\", 2)\n",
    "for _ in range(10):\n",
    "    available_binding_dict = pscene.get_available_binding_dict(from_state, to_node)\n",
    "    to_state, redundancy_dict = pscene.sample_leaf_state(from_state, available_binding_dict, to_node)\n",
    "    Traj, LastQ, error, success, binding_list = mplan.plan_transition(from_state, to_state, redundancy_dict, timeout=1)\n",
    "    if success:\n",
    "        break\n",
    "if success:\n",
    "    pscene.set_object_state(from_state)\n",
    "    gscene.show_motion(Traj, period=0.05)\n",
    "    return_state = pscene.rebind_all(binding_list, LastQ)\n",
    "else:\n",
    "    print(\"Solution not found. Please try again, try to find error if it keeps failing.\")\n",
    "    raise(RuntimeError(\"Motion plan failure\"))"
   ]
  },
  {
   "cell_type": "code",
   "execution_count": null,
   "metadata": {},
   "outputs": [],
   "source": []
  },
  {
   "cell_type": "markdown",
   "metadata": {},
   "source": [
    "##### EtaslPlanner\n",
    "* same usage as the MoveitPlanner\n",
    "- pick, place, ~~sweep~~"
   ]
  },
  {
   "cell_type": "code",
   "execution_count": 19,
   "metadata": {},
   "outputs": [],
   "source": [
    "from pkg.planning.motion.etasl.etasl_planner import EtaslPlanner\n",
    "mplan = EtaslPlanner(pscene)"
   ]
  },
  {
   "cell_type": "code",
   "execution_count": 20,
   "metadata": {},
   "outputs": [],
   "source": [
    "# pick motion - move the object to \"gripper\"\n",
    "from_state = initial_state.copy(pscene)\n",
    "to_node = (\"gripper\", 0)\n",
    "for _ in range(20):\n",
    "    available_binding_dict = pscene.get_available_binding_dict(from_state, to_node)\n",
    "    to_state, redundancy_dict = pscene.sample_leaf_state(from_state, available_binding_dict, to_node)\n",
    "    Traj, LastQ, error, success, binding_list = mplan.plan_transition(from_state, to_state, redundancy_dict, timeout=1)\n",
    "    if success:\n",
    "        break\n",
    "if success:\n",
    "    pscene.set_object_state(from_state)\n",
    "    gscene.show_motion(Traj, period=0.05)\n",
    "    pick_state_etasl = pscene.rebind_all(binding_list, LastQ)\n",
    "else:\n",
    "    print(\"Solution not found. Please try again, try to find error if it keeps failing.\")\n",
    "    raise(RuntimeError(\"Motion plan failure\"))"
   ]
  },
  {
   "cell_type": "code",
   "execution_count": 21,
   "metadata": {},
   "outputs": [],
   "source": [
    "# place motion - move the object to \"goal\"\n",
    "from_state = pick_state_etasl.copy(pscene)\n",
    "to_node = (\"goal\", 0)\n",
    "for _ in range(20):\n",
    "    available_binding_dict = pscene.get_available_binding_dict(from_state, to_node)\n",
    "    to_state, redundancy_dict = pscene.sample_leaf_state(from_state, available_binding_dict, to_node)\n",
    "    Traj, LastQ, error, success, binding_list = mplan.plan_transition(from_state, to_state, redundancy_dict, timeout=1)\n",
    "    if success:\n",
    "        break\n",
    "if success:\n",
    "    pscene.set_object_state(from_state)\n",
    "    gscene.show_motion(Traj, period=0.05)\n",
    "else:\n",
    "    print(\"Solution not found. Please try again, try to find error if it keeps failing.\")\n",
    "    print(\"Sometimes this placement motion is inherently impossible depending on pick parameter.\")\n",
    "    print(\"Then, please re-try from the beginning to change the configuration\")\n",
    "    raise(RuntimeError(\"Motion plan failure\"))"
   ]
  },
  {
   "cell_type": "code",
   "execution_count": 22,
   "metadata": {},
   "outputs": [],
   "source": [
    "# sweep motion 1 - reach the first waypoint\n",
    "from_state = place_state.copy(pscene)\n",
    "from_state.Q = crob.home_pose\n",
    "to_node = (\"goal\", 1)\n",
    "for _ in range(20):\n",
    "    available_binding_dict = pscene.get_available_binding_dict(from_state, to_node)\n",
    "    to_state, redundancy_dict = pscene.sample_leaf_state(from_state, available_binding_dict, to_node)\n",
    "    Traj, LastQ, error, success, binding_list = mplan.plan_transition(from_state, to_state, redundancy_dict, timeout=1)\n",
    "    if success:\n",
    "        break\n",
    "if success:\n",
    "    pscene.set_object_state(from_state)\n",
    "    gscene.show_motion(Traj, period=0.05)\n",
    "else:\n",
    "    print(\"Solution not found. Please try again, try to find error if it keeps failing.\")\n",
    "    raise(RuntimeError(\"Motion plan failure\"))"
   ]
  },
  {
   "cell_type": "code",
   "execution_count": 23,
   "metadata": {},
   "outputs": [],
   "source": [
    "# sweep motion 2 - sweep \"floor\" to the second waypoint.\n",
    "# Constrained motion is not implemented with eTaSL planner. So, it will not \"sweep\" the floor\n",
    "from_state = sweep1_state.copy(pscene)\n",
    "to_node = (\"goal\", 2)\n",
    "for _ in range(10):\n",
    "    available_binding_dict = pscene.get_available_binding_dict(from_state, to_node)\n",
    "    to_state, redundancy_dict = pscene.sample_leaf_state(from_state, available_binding_dict, to_node)\n",
    "    Traj, LastQ, error, success, binding_list = mplan.plan_transition(from_state, to_state, redundancy_dict, timeout=1)\n",
    "    if success:\n",
    "        break\n",
    "if success:\n",
    "    pscene.set_object_state(from_state)\n",
    "    gscene.show_motion(Traj, period=0.05)\n",
    "else:\n",
    "    print(\"Solution not found. Please try again, try to find error if it keeps failing.\")\n",
    "    raise(RuntimeError(\"Motion plan failure\"))"
   ]
  },
  {
   "cell_type": "code",
   "execution_count": 24,
   "metadata": {},
   "outputs": [
    {
     "name": "stdout",
     "output_type": "stream",
     "text": [
      "============= try go home (indy0) ===================\n",
      "===================== plan joint manipulation =====================\n"
     ]
    }
   ],
   "source": [
    "# return: calling sample_leaf_state() with same binding state generates go-home motion target\n",
    "from_state = sweep2_state.copy(pscene)\n",
    "to_node = (\"goal\", 2)\n",
    "for _ in range(10):\n",
    "    available_binding_dict = pscene.get_available_binding_dict(from_state, to_node)\n",
    "    to_state, redundancy_dict = pscene.sample_leaf_state(from_state, available_binding_dict, to_node)\n",
    "    Traj, LastQ, error, success, binding_list = mplan.plan_transition(from_state, to_state, redundancy_dict, timeout=1)\n",
    "    if success:\n",
    "        break\n",
    "if success:\n",
    "    pscene.set_object_state(from_state)\n",
    "    gscene.show_motion(Traj, period=0.05)\n",
    "else:\n",
    "    print(\"Solution not found. Please try again, try to find error if it keeps failing.\")\n",
    "    raise(RuntimeError(\"Motion plan failure\"))"
   ]
  },
  {
   "cell_type": "code",
   "execution_count": null,
   "metadata": {},
   "outputs": [],
   "source": []
  },
  {
   "cell_type": "markdown",
   "metadata": {},
   "source": [
    "## 4.3 TaskPlanner"
   ]
  },
  {
   "cell_type": "markdown",
   "metadata": {},
   "source": [
    "##### create PlanningPipeline"
   ]
  },
  {
   "cell_type": "code",
   "execution_count": 25,
   "metadata": {},
   "outputs": [],
   "source": [
    "from pkg.planning.pipeline import PlanningPipeline\n",
    "ppline = PlanningPipeline(pscene)\n",
    "ppline.set_motion_planner(MoveitPlanner(pscene))"
   ]
  },
  {
   "cell_type": "code",
   "execution_count": null,
   "metadata": {},
   "outputs": [],
   "source": []
  },
  {
   "cell_type": "markdown",
   "metadata": {},
   "source": [
    "##### RRT"
   ]
  },
  {
   "cell_type": "code",
   "execution_count": 26,
   "metadata": {},
   "outputs": [],
   "source": [
    "from pkg.planning.task.rrt import TaskRRT\n",
    "ppline.set_task_planner(TaskRRT(pscene))"
   ]
  },
  {
   "cell_type": "markdown",
   "metadata": {},
   "source": [
    "- pick & place & sweep\n",
    "  - single process"
   ]
  },
  {
   "cell_type": "code",
   "execution_count": 27,
   "metadata": {
    "scrolled": true
   },
   "outputs": [
    {
     "name": "stdout",
     "output_type": "stream",
     "text": [
      "try: 0 - ('floor', 0)->('gripper', 0)\n",
      "try transition motion\n",
      "transition motion tried: False\n",
      "result: 0 - ('floor', 0)->('gripper', 0) = fail\n",
      "try: 0 - ('floor', 0)->('gripper', 0)\n",
      "try transition motion\n",
      "transition motion tried: False\n",
      "result: 0 - ('floor', 0)->('gripper', 0) = fail\n",
      "try: 0 - ('floor', 0)->('floor', 1)\n",
      "try transition motion\n",
      "transition motion tried: True\n",
      "result: 0 - ('floor', 0)->('floor', 1) = success\n",
      "branching: 0->1 (2.07/100.0 s, steps/err: 11(22.5629806519 ms)/0.00176302312144)\n",
      "======================================================================================================================================================\n",
      "try: 1 - ('floor', 1)->('floor', 2)\n",
      "try constrained motion\n",
      "constrained motion tried: True\n",
      "result: 1 - ('floor', 1)->('floor', 2) = success\n",
      "branching: 1->2 (2.1/100.0 s, steps/err: 39(21.4080810547 ms)/0.00182522927252)\n",
      "======================================================================================================================================================\n",
      "try: 2 - ('floor', 2)->('gripper', 2)\n",
      "try transition motion\n",
      "transition motion tried: False\n",
      "result: 2 - ('floor', 2)->('gripper', 2) = fail\n",
      "try: 1 - ('floor', 1)->('floor', 2)\n",
      "try constrained motion\n",
      "constrained motion tried: True\n",
      "result: 1 - ('floor', 1)->('floor', 2) = success\n",
      "branching: 1->3 (3.24/100.0 s, steps/err: 94(126.502037048 ms)/0.00134203904092)\n",
      "======================================================================================================================================================\n",
      "try: 3 - ('floor', 2)->('gripper', 2)\n",
      "try transition motion\n",
      "transition motion tried: False\n",
      "result: 3 - ('floor', 2)->('gripper', 2) = fail\n",
      "try: 0 - ('floor', 0)->('floor', 1)\n",
      "try transition motion\n",
      "transition motion tried: True\n",
      "result: 0 - ('floor', 0)->('floor', 1) = success\n",
      "branching: 0->4 (4.3/100.0 s, steps/err: 13(21.1789608002 ms)/0.00170730558979)\n",
      "======================================================================================================================================================\n",
      "try: 0 - ('floor', 0)->('floor', 1)\n",
      "try transition motion\n",
      "transition motion tried: True\n",
      "result: 0 - ('floor', 0)->('floor', 1) = success\n",
      "branching: 0->5 (4.35/100.0 s, steps/err: 10(49.339056015 ms)/0.00104769360614)\n",
      "======================================================================================================================================================\n",
      "try: 3 - ('floor', 2)->('gripper', 2)\n",
      "try transition motion\n",
      "transition motion tried: True\n",
      "=============== try reaching goal from ('gripper', 2) =================\n",
      "result: 3 - ('floor', 2)->('gripper', 2) = success\n",
      "branching: 3->6 (4.37/100.0 s, steps/err: 6(17.9698467255 ms)/0.00174137586783)\n",
      "======================================================================================================================================================\n",
      "try: 6 - ('gripper', 2)->('goal', 2)\n",
      "try transition motion\n",
      "transition motion tried: True\n",
      "result: 6 - ('gripper', 2)->('goal', 2) = success\n",
      "branching: 6->7 (4.41/100.0 s, steps/err: 8(37.5740528107 ms)/0.0015826072134)\n",
      "======================================================================================================================================================\n",
      "++ adding return motion to acquired answer ++\n",
      "try joint motion\n",
      "joint motion tried: True\n",
      "=========================================================================================================\n",
      "======================= terminated 0: first answer acquired ===============================\n",
      "=========================================================================================================\n"
     ]
    }
   ],
   "source": [
    "ppline.search(initial_state, goal_nodes=[(\"goal\", 2)], verbose=True, \n",
    "              display=False, dt_vis=0.01, timeout_loop=100, multiprocess=False, timeout=1, timeout_constrained=10)\n",
    "schedules = ppline.tplan.find_schedules()\n",
    "schedules_sorted = ppline.tplan.sort_schedule(schedules)\n",
    "ppline.play_schedule(ppline.tplan.idxSchedule2SnodeScedule(schedules_sorted[0]), period=0.05)"
   ]
  },
  {
   "cell_type": "code",
   "execution_count": null,
   "metadata": {},
   "outputs": [],
   "source": []
  },
  {
   "cell_type": "markdown",
   "metadata": {},
   "source": [
    "- pick & place & sweep  \n",
    "  - multi process"
   ]
  },
  {
   "cell_type": "code",
   "execution_count": 28,
   "metadata": {
    "scrolled": true
   },
   "outputs": [
    {
     "name": "stdout",
     "output_type": "stream",
     "text": [
      "Use 20/20 agents\n",
      "try: 0 - ('floor', 0)->('gripper', 0)\n",
      "try transition motion\n",
      "try: 0 - ('floor', 0)->('floor', 1)\n",
      "try transition motion\n",
      "try: 0 - ('floor', 0)->('floor', 1)\n",
      "try transition motion\n",
      "try: 0 - ('floor', 0)->('floor', 1)\n",
      "try transition motion\n",
      "try: 0 - ('floor', 0)->('floor', 1)\n",
      "transition motion tried: True\n",
      "try transition motion\n",
      "result: 0 - ('floor', 0)->('floor', 1) = success\n",
      "transition motion tried: True\n",
      "transition motion tried: True\n",
      "transition motion tried: True\n",
      "result: 0 - ('floor', 0)->('floor', 1) = success\n",
      "branching: 0->1 (0.06/100.0 s, steps/err: 12(20.2240943909 ms)/0.0020134982275)\n",
      "try: 4 - ('floor', 1)->('floor', 2)\n",
      "result: 0 - ('floor', 0)->('floor', 1) = success\n",
      "branching: 0->2 (0.1/100.0 s, steps/err: 8(30.6451320648 ms)/0.00157191921104)\n",
      "======================================================================================================================================================\n",
      "try constrained motion\n",
      "result: 0 - ('floor', 0)->('floor', 1) = success\n",
      "branching: 0->4 (0.13/100.0 s, steps/err: 6(57.4719905853 ms)/0.00170788310574)\n",
      "======================================================================================================================================================\n",
      "======================================================================================================================================================\n",
      "branching: 0->3 (0.14/100.0 s, steps/err: 11(45.2270507812 ms)/0.00105752644163)\n",
      "try: 0 - ('floor', 0)->('floor', 1)\n",
      "try: 1 - ('floor', 1)->('floor', 2)\n",
      "try: 0 - ('floor', 0)->('gripper', 0)\n",
      "try transition motion\n",
      "======================================================================================================================================================\n",
      "try transition motion\n",
      "try: 0 - ('floor', 0)->('floor', 1)\n",
      "try transition motion\n",
      "try constrained motion\n",
      "transition motion tried: True\n",
      "transition motion tried: True\n",
      "result: 0 - ('floor', 0)->('floor', 1) = success\n",
      "result: 0 - ('floor', 0)->('gripper', 0) = success\n",
      "branching: 0->5 (0.19/100.0 s, steps/err: 11(35.9148979187 ms)/0.00177422548782)\n",
      "branching: 0->6 (0.19/100.0 s, steps/err: 23(25.8371829987 ms)/0.00225121856415)\n",
      "======================================================================================================================================================\n",
      "======================================================================================================================================================\n",
      "transition motion tried: True\n",
      "try: 5 - ('floor', 1)->('floor', 2)\n",
      "try: 6 - ('gripper', 0)->('goal', 0)\n",
      "result: 0 - ('floor', 0)->('floor', 1) = success\n",
      "try constrained motion\n",
      "try transition motion\n",
      "branching: 0->7 (0.2/100.0 s, steps/err: 8(21.5671062469 ms)/0.00229206076444)\n",
      "======================================================================================================================================================\n",
      "try: 6 - ('gripper', 0)->('gripper', 1)\n",
      "try transition motion\n",
      "constrained motion tried: True\n",
      "result: 1 - ('floor', 1)->('floor', 2) = success\n",
      "branching: 1->8 (0.22/100.0 s, steps/err: 43(57.0499897003 ms)/0.00167187160965)\n",
      "======================================================================================================================================================\n",
      "try: 8 - ('floor', 2)->('gripper', 2)\n",
      "try transition motion\n",
      "transition motion tried: True\n",
      "result: 6 - ('gripper', 0)->('gripper', 1) = success\n",
      "branching: 6->9 (0.25/100.0 s, steps/err: 23(38.6781692505 ms)/0.00149012371193)\n",
      "======================================================================================================================================================\n",
      "try: 8 - ('floor', 2)->('gripper', 2)\n",
      "try transition motion\n",
      "try: 6 - ('gripper', 0)->('gripper', 1)\n",
      "try transition motion\n",
      "try: 6 - ('gripper', 0)->('goal', 0)\n",
      "try: 6 - ('gripper', 0)->('floor', 0)\n",
      "try: 0 - ('floor', 0)->('floor', 1)\n",
      "try transition motion\n",
      "try transition motion\n",
      "try: 9 - ('gripper', 1)->('gripper', 2)\n",
      "try: 6 - ('gripper', 0)->('floor', 0)\n",
      "try: 0 - ('floor', 0)->('gripper', 0)\n",
      "try: 4 - ('floor', 1)->('floor', 2)\n",
      "try constrained motion\n",
      "try: 0 - ('floor', 0)->('floor', 1)\n",
      "try transition motion\n",
      "try transition motion\n",
      "try transition motion\n",
      "try constrained motion\n",
      "try transition motion\n",
      "try: 6 - ('gripper', 0)->('gripper', 1)\n",
      "try transition motion\n",
      "try: 0 - ('floor', 0)->('floor', 1)\n",
      "try: 6 - ('gripper', 0)->('floor', 0)\n",
      "transition motion tried: True\n",
      "try: 9 - ('gripper', 1)->('gripper', 2)\n",
      "constrained motion tried: True\n",
      "try transition motion\n",
      "try transition motion\n",
      "transition motion tried: True\n",
      "try: 8 - ('floor', 2)->('gripper', 2)\n",
      "try transition motion\n",
      "try constrained motion\n",
      "result: 6 - ('gripper', 0)->('gripper', 1) = success\n",
      "transition motion tried: True\n",
      "transition motion tried: True\n",
      "result: 4 - ('floor', 1)->('floor', 2) = success\n",
      "result: 0 - ('floor', 0)->('floor', 1) = success\n",
      "branching: 6->10 (0.37/100.0 s, steps/err: 25(39.4251346588 ms)/0.000997635133178)\n",
      "branching: 4->11 (0.39/100.0 s, steps/err: 44(35.9680652618 ms)/0.00140964914184)\n",
      "constrained motion tried: True\n",
      "======================================================================================================================================================\n",
      "======================================================================================================================================================\n",
      "result: 0 - ('floor', 0)->('floor', 1) = success\n",
      "result: 6 - ('gripper', 0)->('goal', 0) = success\n",
      "branching: 0->12 (0.39/100.0 s, steps/err: 12(49.8878955841 ms)/0.00200734531885)\n",
      "transition motion tried: True\n",
      "try: 14 - ('gripper', 2)->('goal', 2)\n",
      "======================================================================================================================================================\n",
      "=============== try reaching goal from ('gripper', 2) =================\n",
      "transition motion tried: True\n",
      "try: 11 - ('floor', 2)->('gripper', 2)\n",
      "try transition motion\n",
      "try: 15 - ('goal', 0)->('goal', 1)\n",
      "branching: 6->15 (0.46/100.0 s, steps/err: 26(95.1631069183 ms)/0.00200562142755)\n",
      "result: 9 - ('gripper', 1)->('gripper', 2) = success\n",
      "try transition motion\n",
      "branching: 9->14 (0.47/100.0 s, steps/err: 36(82.447052002 ms)/0.00133560943673)\n",
      "result: 6 - ('gripper', 0)->('gripper', 1) = success\n",
      "=============== try reaching goal from ('gripper', 2) =================\n",
      "======================================================================================================================================================\n",
      "branching: 0->13 (0.47/100.0 s, steps/err: 14(77.1300792694 ms)/0.00127027993987)\n",
      "======================================================================================================================================================\n",
      "branching: 6->16 (0.48/100.0 s, steps/err: 21(100.385904312 ms)/0.00120629219463)\n",
      "result: 8 - ('floor', 2)->('gripper', 2) = success\n",
      "======================================================================================================================================================\n",
      "transition motion tried: True\n",
      "try: 0 - ('floor', 0)->('floor', 1)\n",
      "try: 6 - ('gripper', 0)->('gripper', 1)\n",
      "try transition motion\n",
      "try: 17 - ('gripper', 2)->('goal', 2)\n",
      "branching: 8->17 (0.5/100.0 s, steps/err: 22(115.154981613 ms)/0.00170790182175)\n",
      "======================================================================================================================================================\n",
      "try transition motion\n",
      "======================================================================================================================================================\n",
      "try transition motion\n",
      "try: 6 - ('gripper', 0)->('floor', 0)\n",
      "constrained motion tried: True\n",
      "result: 14 - ('gripper', 2)->('goal', 2) = success\n",
      "try transition motion\n",
      "branching: 14->18 (0.53/100.0 s, steps/err: 32(56.7910671234 ms)/0.0014005622313)\n",
      "try: 6 - ('gripper', 0)->('floor', 0)\n",
      "transition motion tried: True\n",
      "try transition motion\n",
      "=============== try reaching goal from ('gripper', 2) =================\n",
      "result: 9 - ('gripper', 1)->('gripper', 2) = success\n",
      "transition motion tried: True\n",
      "try transition motion\n",
      "======================================================================================================================================================\n"
     ]
    },
    {
     "name": "stdout",
     "output_type": "stream",
     "text": [
      "branching: 9->19 (0.55/100.0 s, steps/err: 78(172.652006149 ms)/0.00200317537977)\n",
      "++ adding return motion to acquired answer ++\n",
      "transition motion tried: True\n",
      "transition motion tried: True\n",
      "result: 0 - ('floor', 0)->('floor', 1) = success\n",
      "======================================================================================================================================================\n",
      "=============== try reaching goal from ('gripper', 2) =================\n",
      "transition motion tried: True\n",
      "try: 19 - ('gripper', 2)->('goal', 2)\n",
      "=============== try reaching goal from ('goal', 1) =================\n",
      "try joint motion\n",
      "result: 0 - ('floor', 0)->('floor', 1) = success\n",
      "branching: 0->20 (0.59/100.0 s, steps/err: 8(198.384046555 ms)/0.000995934831667)\n",
      "result: 15 - ('goal', 0)->('goal', 1) = success\n",
      "transition motion tried: True\n",
      "try transition motion\n",
      "======================================================================================================================================================\n",
      "result: 11 - ('floor', 2)->('gripper', 2) = success\n",
      "branching: 11->21 (0.64/100.0 s, steps/err: 8(101.831912994 ms)/0.00224370985791)\n",
      "try: 21 - ('gripper', 2)->('goal', 2)\n",
      "result: 17 - ('gripper', 2)->('goal', 2) = success\n",
      "result: 6 - ('gripper', 0)->('gripper', 1) = success\n",
      "joint motion tried: True\n",
      "branching: 15->22 (0.62/100.0 s, steps/err: 10(99.8201370239 ms)/0.00189658357845)\n",
      "branching: 0->23 (0.62/100.0 s, steps/err: 11(91.9408798218 ms)/0.00141919648166)\n",
      "branching: 6->24 (0.64/100.0 s, steps/err: 37(94.9959754944 ms)/0.00139652830503)\n",
      "======================================================================================================================================================\n",
      "======================================================================================================================================================\n",
      "try: 6 - ('gripper', 0)->('floor', 0)\n",
      "======================================================================================================================================================\n",
      "branching: 17->25 (0.64/100.0 s, steps/err: 45(115.122079849 ms)/0.00231417128384)\n",
      "try: 22 - ('goal', 1)->('goal', 2)\n",
      "======================================================================================================================================================\n",
      "try transition motion\n",
      "try: 6 - ('gripper', 0)->('gripper', 1)\n",
      "try constrained motion\n",
      "======================================================================================================================================================\n",
      "try transition motion\n",
      "try: 19 - ('gripper', 2)->('goal', 2)\n",
      "++ adding return motion to acquired answer ++\n",
      "try transition motion\n",
      "try transition motion\n",
      "try joint motion\n",
      "transition motion tried: True\n",
      "transition motion tried: True\n",
      "result: 21 - ('gripper', 2)->('goal', 2) = success\n",
      "transition motion tried: True\n",
      "branching: 21->27 (0.74/100.0 s, steps/err: 25(63.4350776672 ms)/0.00152702383629)\n",
      "======================================================================================================================================================\n",
      "result: 19 - ('gripper', 2)->('goal', 2) = success\n",
      "transition motion tried: True\n",
      "result: 6 - ('gripper', 0)->('gripper', 1) = success\n",
      "branching: 19->28 (0.77/100.0 s, steps/err: 25(144.056797028 ms)/0.00155143848497)\n",
      "joint motion tried: True\n",
      "result: 19 - ('gripper', 2)->('goal', 2) = success\n",
      "branching: 6->29 (0.77/100.0 s, steps/err: 36(69.8142051697 ms)/0.00184072136604)\n",
      "++ adding return motion to acquired answer ++\n",
      "======================================================================================================================================================\n",
      "======================================================================================================================================================\n",
      "try joint motion\n",
      "++ adding return motion to acquired answer ++\n",
      "branching: 19->30 (0.79/100.0 s, steps/err: 29(67.7978992462 ms)/0.000978906045919)\n",
      "======================================================================================================================================================\n",
      "try: 6 - ('gripper', 0)->('gripper', 1)\n",
      "try joint motion\n",
      "try transition motion\n",
      "++ adding return motion to acquired answer ++\n",
      "try joint motion\n",
      "joint motion tried: True\n",
      "transition motion tried: True\n",
      "=========================================================================================================\n",
      "======================= terminated 19: first answer acquired ===============================\n",
      "=========================================================================================================\n",
      "joint motion tried: True\n",
      "result: 6 - ('gripper', 0)->('gripper', 1) = success\n",
      "branching: 6->33 (0.87/100.0 s, steps/err: 32(55.871963501 ms)/0.00122872351273)\n",
      "======================================================================================================================================================\n",
      "=========================================================================================================\n",
      "======================= terminated 9: first answer acquired from other agent ===============================\n",
      "=========================================================================================================\n",
      "=========================================================================================================\n",
      "======================= terminated 11: first answer acquired ===============================\n",
      "=========================================================================================================\n",
      "=========================================================================================================\n",
      "======================= terminated 16: first answer acquired ===============================\n",
      "transition motion tried: False\n",
      "=========================================================================================================\n",
      "=========================================================================================================\n",
      "result: 0 - ('floor', 0)->('gripper', 0) = fail\n",
      "=========================================================================================================\n",
      "======================= terminated 0: first answer acquired from other agent ===============================\n",
      "======================= terminated 18: first answer acquired ===============================\n",
      "=========================================================================================================\n",
      "=========================================================================================================\n",
      "transition motion tried: False\n",
      "result: 6 - ('gripper', 0)->('goal', 0) = fail\n",
      "=========================================================================================================\n",
      "======================= terminated 1: first answer acquired from other agent ===============================\n",
      "=========================================================================================================\n",
      "transition motion tried: False\n",
      "result: 8 - ('floor', 2)->('gripper', 2) = fail\n",
      "=========================================================================================================\n",
      "======================= terminated 2: first answer acquired from other agent ===============================\n",
      "=========================================================================================================\n",
      "transition motion tried: False\n",
      "result: 8 - ('floor', 2)->('gripper', 2) = fail\n",
      "=========================================================================================================\n",
      "======================= terminated 3: first answer acquired from other agent ===============================\n",
      "=========================================================================================================\n",
      "transition motion tried: False\n",
      "result: 6 - ('gripper', 0)->('floor', 0) = fail\n",
      "=========================================================================================================\n",
      "transition motion tried: False\n",
      "transition motion tried: False\n",
      "======================= terminated 8: first answer acquired from other agent ===============================\n",
      "transition motion tried: False\n",
      "=========================================================================================================\n"
     ]
    },
    {
     "name": "stdout",
     "output_type": "stream",
     "text": [
      "result: 0 - ('floor', 0)->('gripper', 0) = fail\n",
      "result: 6 - ('gripper', 0)->('floor', 0) = fail\n",
      "=========================================================================================================\n",
      "=========================================================================================================\n",
      "======================= terminated 17: first answer acquired from other agent ===============================\n",
      "======================= terminated 7: first answer acquired from other agent ===============================\n",
      "result: 6 - ('gripper', 0)->('floor', 0) = fail\n",
      "=========================================================================================================\n",
      "=========================================================================================================\n",
      "======================= terminated 14: first answer acquired from other agent ===============================\n",
      "=========================================================================================================\n",
      "=========================================================================================================\n",
      "transition motion tried: False\n",
      "result: 6 - ('gripper', 0)->('floor', 0) = fail\n",
      "=========================================================================================================\n",
      "======================= terminated 12: first answer acquired from other agent ===============================\n",
      "=========================================================================================================\n",
      "transition motion tried: False\n",
      "result: 6 - ('gripper', 0)->('floor', 0) = fail\n",
      "=========================================================================================================\n",
      "======================= terminated 15: first answer acquired from other agent ===============================\n",
      "=========================================================================================================\n",
      "transition motion tried: False\n",
      "result: 6 - ('gripper', 0)->('floor', 0) = fail\n",
      "=========================================================================================================\n",
      "======================= terminated 13: first answer acquired from other agent ===============================\n",
      "=========================================================================================================\n",
      "constrained motion tried: False\n",
      "result: 4 - ('floor', 1)->('floor', 2) = fail\n",
      "=========================================================================================================\n",
      "======================= terminated 5: first answer acquired from other agent ===============================\n",
      "=========================================================================================================\n",
      "constrained motion tried: False\n",
      "result: 5 - ('floor', 1)->('floor', 2) = fail\n",
      "=========================================================================================================\n",
      "======================= terminated 4: first answer acquired from other agent ===============================\n",
      "=========================================================================================================\n",
      "constrained motion tried: False\n",
      "result: 22 - ('goal', 1)->('goal', 2) = fail\n",
      "=========================================================================================================\n",
      "======================= terminated 6: first answer acquired from other agent ===============================\n",
      "=========================================================================================================\n"
     ]
    },
    {
     "name": "stderr",
     "output_type": "stream",
     "text": [
      "Process Process-12:\n",
      "Traceback (most recent call last):\n",
      "  File \"/usr/lib/python2.7/multiprocessing/process.py\", line 267, in _bootstrap\n",
      "    self.run()\n",
      "  File \"/usr/lib/python2.7/multiprocessing/process.py\", line 114, in run\n",
      "    self._target(*self._args, **self._kwargs)\n",
      "  File \"pkg/planning/pipeline.py\", line 177, in __search_loop\n",
      "    self.add_return_motion(snode_new)\n",
      "  File \"pkg/planning/pipeline.py\", line 226, in add_return_motion\n",
      "    display=False, timeout=timeout)\n",
      "  File \"pkg/planning/pipeline.py\", line 200, in test_connection\n",
      "    self.mplan.plan_transition(from_state, to_state, redundancy_dict=redundancy_dict, **kwargs)\n",
      "  File \"pkg/planning/motion/interface.py\", line 105, in plan_transition\n",
      "    redundancy_values=redundancy_values, **kwargs)\n",
      "  File \"pkg/planning/motion/moveit/moveit_planner.py\", line 166, in plan_algorithm\n",
      "    group_name, tuple(to_Q), tuple(from_Q), timeout=timeout_joint)\n",
      "  File \"pkg/planning/motion/moveit/moveit_py.py\", line 123, in plan_joint_motion_py\n",
      "    JointState(self.joint_num, *Q_init), plannerconfig, timeout)\n",
      "KeyboardInterrupt\n"
     ]
    }
   ],
   "source": [
    "ppline.search(initial_state, goal_nodes=[(\"goal\", 2)], verbose=True, \n",
    "              display=False, dt_vis=0.01, timeout_loop=100, multiprocess=True, timeout=1, timeout_constrained=10)\n",
    "schedules = ppline.tplan.find_schedules()\n",
    "schedules_sorted = ppline.tplan.sort_schedule(schedules)\n",
    "ppline.play_schedule(ppline.tplan.idxSchedule2SnodeScedule(schedules_sorted[0]), period=0.05)"
   ]
  },
  {
   "cell_type": "code",
   "execution_count": null,
   "metadata": {},
   "outputs": [],
   "source": []
  }
 ],
 "metadata": {
  "kernelspec": {
   "display_name": "Python 2",
   "language": "python",
   "name": "python2"
  },
  "language_info": {
   "codemirror_mode": {
    "name": "ipython",
    "version": 2
   },
   "file_extension": ".py",
   "mimetype": "text/x-python",
   "name": "python",
   "nbconvert_exporter": "python",
   "pygments_lexer": "ipython2",
   "version": "2.7.17"
  }
 },
 "nbformat": 4,
 "nbformat_minor": 2
}
