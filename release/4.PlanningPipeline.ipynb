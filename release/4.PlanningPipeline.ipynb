{
 "cells": [
  {
   "cell_type": "markdown",
   "metadata": {},
   "source": [
    "## Check List 4 - PlanningPipeline\n",
    "*\\* ~~Strikethrough~~ means no-error but none-functional cases.*\n",
    "* **4.1 PlanningScene**  \n",
    "  - create_binder\n",
    "    - actor: PlacePlane, Gripper2Tool, SweepTool\n",
    "    - handle: Grasp2Point, PlacePoint, SweepPoint\n",
    "  - create_subject\n",
    "    - subject: CustomObject, SweepLineTask\n",
    "  - initialize_state\n",
    "* **4.2 MotionPlanner**  \n",
    "  - MoveitPlanner\n",
    "    - pick, place, sweep\n",
    "    - Interpolated path generation by incremental IK\n",
    "* **4.3 TaskPlanner**  \n",
    "  - RRT\n",
    "    - pick & place & sweep\n",
    "      - single process\n",
    "      - multi process\n",
    "  - PDDLStream\n",
    "    - pick & place"
   ]
  },
  {
   "cell_type": "code",
   "execution_count": null,
   "metadata": {},
   "outputs": [],
   "source": []
  },
  {
   "cell_type": "markdown",
   "metadata": {},
   "source": [
    "## set running directory to project source"
   ]
  },
  {
   "cell_type": "code",
   "execution_count": 1,
   "metadata": {},
   "outputs": [],
   "source": [
    "import os\n",
    "import numpy as np\n",
    "import time\n",
    "os.chdir(os.path.join(os.environ[\"RNB_PLANNING_DIR\"], 'src'))"
   ]
  },
  {
   "cell_type": "code",
   "execution_count": null,
   "metadata": {},
   "outputs": [],
   "source": []
  },
  {
   "cell_type": "markdown",
   "metadata": {},
   "source": [
    "## 4.1 PlanningScene"
   ]
  },
  {
   "cell_type": "markdown",
   "metadata": {},
   "source": [
    "##### initialize CombinedRobot and GeometryScene"
   ]
  },
  {
   "cell_type": "code",
   "execution_count": 2,
   "metadata": {},
   "outputs": [
    {
     "name": "stdout",
     "output_type": "stream",
     "text": [
      "connection command:\n",
      "indy0: False\n",
      "Please create a subscriber to the marker\n",
      "publication OK\n",
      "published: [0, 0, 0, 0, 0, 0]\n",
      "Please create a subscriber to the marker\n"
     ]
    }
   ],
   "source": [
    "from pkg.controller.combined_robot import *\n",
    "from pkg.project_config import *\n",
    "from pkg.geometry.builder.scene_builder import SceneBuilder\n",
    "\n",
    "s_builder = SceneBuilder(None)   # create scene builder without detector for virtual scene\n",
    "crob = CombinedRobot(robots_on_scene=[\n",
    "    RobotConfig(0, RobotType.indy7, ((0,0,0), (0,0,0)), None)]\n",
    "                     , connection_list=[False])\n",
    "gscene = s_builder.create_gscene(crob)\n",
    "gtems = s_builder.add_robot_geometries(color=(0,1,0,0.5), display=True, collision=True)\n",
    "gscene.show_pose(crob.home_pose)"
   ]
  },
  {
   "cell_type": "markdown",
   "metadata": {},
   "source": [
    "##### add geometries"
   ]
  },
  {
   "cell_type": "code",
   "execution_count": 3,
   "metadata": {},
   "outputs": [],
   "source": [
    "from pkg.geometry.geometry import *\n",
    "\n",
    "# add environments (fixed=True for non-movable geometries)\n",
    "wall = gscene.create_safe(GEOTYPE.BOX, \"wall\", \"base_link\", (3,3,0.01), (-0.2,0,0), \n",
    "                           rpy=(0,np.pi/2,0), color=(0.8,0.8,0.8,0.5), display=True, fixed=True, collision=True)\n",
    "floor = gscene.create_safe(GEOTYPE.BOX, \"floor\", \"base_link\", (3,3,0.01), (0,0,0), \n",
    "                           rpy=np.random.rand(3)*0, color=(0.8,0.8,0.8,0.5), display=True, fixed=True, collision=True)\n",
    "#                            rpy=np.random.rand(3)*np.pi/16, color=(0.8,0.8,0.8,0.5), display=True, fixed=True, collision=True)\n",
    "wp1 = gscene.create_safe(GEOTYPE.BOX, \"wp1\", \"base_link\", (0.1,0.1,0.01), (0.5,-0.2,0),rpy=(0,0,0), \n",
    "                         color=(0.8,0.2,0.2,1), display=True, fixed=True, collision=False, parent=\"floor\")\n",
    "wp2 = gscene.create_safe(GEOTYPE.BOX, \"wp2\", \"base_link\", (0.1,0.1,0.01), (0.5,0.2,0), rpy=(0,0,0), \n",
    "                         color=(0.8,0.2,0.2,1), display=True, fixed=True, collision=False, parent=\"floor\")\n",
    "goal = gscene.create_safe(GEOTYPE.BOX, \"goal\", \"base_link\", (0.1,0.1,0.01), (0.3,-0.4,0), \n",
    "                          rpy=(0,0,0), color=(0.2,0.2,0.8,1), display=True, fixed=True, collision=True)\n",
    " \n",
    "# add movable (fixed=False for movable geometries)\n",
    "box1 = gscene.create_safe(GEOTYPE.BOX, \"box1\", \"base_link\", (0.05,0.05,0.05), (0.3,0.4,0.031), \n",
    "                          rpy=(0,0,0), color=(0.8,0.2,0.2,1), display=True, fixed=False, collision=True)\n",
    "\n",
    "obstacle = gscene.create_safe(GEOTYPE.BOX, \"obstacle\", \"base_link\", (0.05,0.05,0.05), (0.5,0.4,0.031), \n",
    "                          rpy=(0,0,0), color=(0.8,0.8,0.2,1), display=True, fixed=False, collision=True)"
   ]
  },
  {
   "cell_type": "code",
   "execution_count": null,
   "metadata": {},
   "outputs": [],
   "source": []
  },
  {
   "cell_type": "markdown",
   "metadata": {},
   "source": [
    "##### create PlanningScene"
   ]
  },
  {
   "cell_type": "code",
   "execution_count": 4,
   "metadata": {},
   "outputs": [],
   "source": [
    "from pkg.planning.scene import PlanningScene\n",
    "pscene = PlanningScene(gscene, combined_robot=crob)"
   ]
  },
  {
   "cell_type": "code",
   "execution_count": null,
   "metadata": {},
   "outputs": [],
   "source": []
  },
  {
   "cell_type": "markdown",
   "metadata": {},
   "source": [
    "##### create_binder\n",
    "- Binders (or Actors) are binding points where objects can be attached (or binded)\n",
    "- Examples are \n",
    "  - PlacePlane: plane for object placement\n",
    "  - Gripper2Tool: 2-finger gripper tool for grasp objects\n",
    "  - SweepTool: action point to pass waypoints for sweep task"
   ]
  },
  {
   "cell_type": "code",
   "execution_count": 5,
   "metadata": {},
   "outputs": [],
   "source": [
    "from pkg.planning.constraint.constraint_actor import PlacePlane, Gripper2Tool, SweepFramer"
   ]
  },
  {
   "cell_type": "code",
   "execution_count": 6,
   "metadata": {},
   "outputs": [
    {
     "data": {
      "text/plain": [
       "<pkg.planning.constraint.constraint_actor.PlacePlane at 0x7f3bb9b034d0>"
      ]
     },
     "execution_count": 6,
     "metadata": {},
     "output_type": "execute_result"
    }
   ],
   "source": [
    "# create PlacePlane on geometry \"floor\" and \"goal\"\n",
    "# when point is not set, the entire upper surface of the geometry becomes valid binding area.\n",
    "# when point is set, the specific point becomes the only valid binding point.\n",
    "pscene.create_binder(bname=\"floor\", gname=\"floor\", _type=PlacePlane, point=None)\n",
    "pscene.create_binder(bname=\"goal\", gname=\"goal\", _type=PlacePlane, point=(0,0,0.005))"
   ]
  },
  {
   "cell_type": "code",
   "execution_count": 7,
   "metadata": {},
   "outputs": [
    {
     "data": {
      "text/plain": [
       "<pkg.planning.constraint.constraint_actor.Gripper2Tool at 0x7f3b7e7fd050>"
      ]
     },
     "execution_count": 7,
     "metadata": {},
     "output_type": "execute_result"
    }
   ],
   "source": [
    "# add collision boundary for gripper base\n",
    "# - set link_name=\"indy0_tcp\" to attach the geometry to end-effector link\n",
    "# - it can be labeled as fixed=True, as it is \"fixed\" on the indy0_tcp link\n",
    "gripper =  gscene.create_safe(GEOTYPE.BOX, \"gripper\", link_name=\"indy0_tcp\", \n",
    "                                dims=(0.02,0.1,0.1), center=(0,0,0.05), rpy=(0,0,0), \n",
    "                                color=(0.8,0.2,0.2,0.5), display=True, fixed=True, collision=True)\n",
    "\n",
    "# add gripper fingers - By setting parent=\"gripper\", the position of geometry can be set relative to the parent geometry\n",
    "finger1 =  gscene.create_safe(GEOTYPE.BOX, \"finger1\", link_name=\"indy0_tcp\",\n",
    "                              dims=(0.04,0.02,0.1), center=(0,0.04,0.07), rpy=(0,0,0), \n",
    "                              color=(0.8,0.2,0.2,0.5), display=True, fixed=True, collision=True, parent=\"gripper\")\n",
    "finger2 =  gscene.create_safe(GEOTYPE.BOX, \"finger2\", link_name=\"indy0_tcp\", \n",
    "                              dims=(0.04,0.02,0.1), center=(0,-0.04,0.07), rpy=(0,0,0), \n",
    "                              color=(0.8,0.2,0.2,0.5), display=True, fixed=True, collision=True, parent=\"gripper\")\n",
    "\n",
    "# create Gripper2Tool binder\n",
    "# Gripper2Tool is a 2-finger gripper, which can rotate along z-direction.\n",
    "# To align the z-direction with the 2 fingers, rotate by 90 degree along roll axis.\n",
    "# The gripping point is (0,0,0.11) in local coordinate of \"gripper\" geometry\n",
    "pscene.create_binder(bname=\"grip0\", gname=\"gripper\", _type=Gripper2Tool, point=(0,0,0.11), rpy=(-np.pi/2,0,0))"
   ]
  },
  {
   "cell_type": "code",
   "execution_count": 8,
   "metadata": {},
   "outputs": [
    {
     "data": {
      "text/plain": [
       "<pkg.planning.constraint.constraint_actor.SweepFramer at 0x7f3bb9b076d0>"
      ]
     },
     "execution_count": 8,
     "metadata": {},
     "output_type": "execute_result"
    }
   ],
   "source": [
    "# Add virtual (no-collision) sweep face. the point is 0.2 m away from the \"indy0_tcp\" link\n",
    "# To match the z-direction with the target surface, the geometry is rotated 180 degrees in pitch-axis.\n",
    "sweep_face =  gscene.create_safe(GEOTYPE.BOX, \"sweep_face\", link_name=\"indy0_tcp\", \n",
    "                                dims=(0.05,0.05,0.001), center=(0,0,0.2), rpy=(0,np.pi,0), \n",
    "                                color=(0.2,0.2,0.8,0.1), display=True, fixed=True, collision=False)\n",
    "                                 \n",
    "# create SweepTool binder\n",
    "pscene.create_binder(bname=\"sweep_face\", gname=\"sweep_face\", _type=SweepFramer, point=(0,0,0), rpy=(0,0,0))"
   ]
  },
  {
   "cell_type": "code",
   "execution_count": null,
   "metadata": {},
   "outputs": [],
   "source": []
  },
  {
   "cell_type": "markdown",
   "metadata": {},
   "source": [
    "##### create_subject\n",
    "* Subject describes the tasks in the planning scene.\n",
    "* There are 2 categories in subject:\n",
    "  1. Object: The object has grip points and placement points for pick&place task\n",
    "  2. Task: The task is can be any non-physical task. Check SweepLineTask for example\n",
    "* The subjects can be composed of multiple action points. Examples are:\n",
    "  1. Grasp2Point: grasping point for 2-finger gripper. \n",
    "  2. PlacePoint: The point to place object.\n",
    "  3. SweepPoint: A waypoint for SweepLineTask.\n",
    "  * The above 3 action points inherit DirectePoint, for which the orientation is free along z-axis. \n",
    "  * If \"point\" parameter is not set, the entire upper surface is becomes valid action area."
   ]
  },
  {
   "cell_type": "code",
   "execution_count": 9,
   "metadata": {},
   "outputs": [],
   "source": [
    "from pkg.planning.constraint.constraint_subject import Grasp2Point, PlacePoint, SweepFrame\n",
    "from pkg.planning.constraint.constraint_subject import CustomObject, SweepLineTask"
   ]
  },
  {
   "cell_type": "code",
   "execution_count": 10,
   "metadata": {},
   "outputs": [],
   "source": [
    "## create box object with grasping points along positive & negative y-direction and placement point in the bottom face\n",
    "box_obj = pscene.create_subject(oname=\"box1\", gname=\"box1\", _type=CustomObject, \n",
    "                             action_points_dict = {\n",
    "                                 \"handle1\": Grasp2Point(\"handle1\", box1, [0,0,0], [-np.pi/2,0,0]),\n",
    "                                 \"handle2\": Grasp2Point(\"handle2\", box1, [0,0,0], [np.pi/2,0,0]),\n",
    "                                 \"bottom\": PlacePoint(\"bottom\", box1, [0,0,-0.026], [0,0,0])})"
   ]
  },
  {
   "cell_type": "code",
   "execution_count": 11,
   "metadata": {},
   "outputs": [],
   "source": [
    "## create sweep task with 2 waypoints\n",
    "sweep = pscene.create_subject(oname=\"sweep\", gname=\"floor\", _type=SweepLineTask, \n",
    "                             action_points_dict = {\"wp1\": SweepFrame(\"wp1\", wp1, [0,0,0.005], [0,0,0]),\n",
    "                                                   \"wp2\": SweepFrame(\"wp2\", wp2, [0,0,0.005], [0,0,0])}\n",
    "                             )"
   ]
  },
  {
   "cell_type": "code",
   "execution_count": null,
   "metadata": {},
   "outputs": [],
   "source": []
  },
  {
   "cell_type": "markdown",
   "metadata": {},
   "source": [
    "##### initialize_state\n",
    "* initialize_state(robot_pose) updates robot pose and gets corresponding binding status of current scene.\n",
    "* state.node of ('floor', 0) means the first subject (object) is placed on the floor and the second subject (sweep) has passed 0 waypoints"
   ]
  },
  {
   "cell_type": "code",
   "execution_count": 12,
   "metadata": {},
   "outputs": [
    {
     "name": "stdout",
     "output_type": "stream",
     "text": [
      "('floor', 0)\n"
     ]
    }
   ],
   "source": [
    "initial_state = pscene.initialize_state(crob.home_pose)\n",
    "print(initial_state.node)"
   ]
  },
  {
   "cell_type": "code",
   "execution_count": null,
   "metadata": {},
   "outputs": [],
   "source": []
  },
  {
   "cell_type": "markdown",
   "metadata": {},
   "source": [
    "## 4.2 MotionPlanner"
   ]
  },
  {
   "cell_type": "markdown",
   "metadata": {},
   "source": [
    "##### MoveitPlanner\n",
    "* *get_available_binding_dict()* gets available binding states for each subject in a dictionary\n",
    "* *sample_leaf_state samples()* target state with given available_binding_dict and target node\n",
    "* *rebind_all()* updates binding state and returns the resultant state\n",
    "* The motions tested in this section are:\n",
    "  - pick: move the object to \"gripper\"\n",
    "  - place: move the object to \"goal\"\n",
    "  - sweep: \n",
    "    1) approach to waypoint 1\n",
    "    2) sweep to waypoint 2\n",
    "    3) return to home pose"
   ]
  },
  {
   "cell_type": "code",
   "execution_count": 13,
   "metadata": {},
   "outputs": [],
   "source": [
    "from pkg.planning.motion.moveit.moveit_py import ConstrainedSpaceType, PlannerConfig\n",
    "\n",
    "gtimer = GlobalTimer.instance()\n",
    "gtimer.reset()"
   ]
  },
  {
   "cell_type": "code",
   "execution_count": 14,
   "metadata": {},
   "outputs": [],
   "source": [
    "from pkg.planning.motion.moveit.moveit_planner import MoveitPlanner\n",
    "from pkg.planning.filtering.grasp_filter import GraspChecker\n",
    "mplan = MoveitPlanner(pscene, motion_filters=[GraspChecker(pscene)])"
   ]
  },
  {
   "cell_type": "code",
   "execution_count": 15,
   "metadata": {},
   "outputs": [],
   "source": [
    "# pick motion - move the object to \"gripper\"\n",
    "from_state = initial_state.copy(pscene)\n",
    "to_node = (\"gripper\", 0)\n",
    "for _ in range(10):\n",
    "    available_binding_dict = pscene.get_available_binding_dict(from_state, to_node)\n",
    "    to_state = pscene.sample_leaf_state(from_state, available_binding_dict, to_node)\n",
    "    with gtimer.block(\"plan\"):\n",
    "        Traj, LastQ, error, success, binding_list = mplan.plan_transition(from_state, to_state)\n",
    "    if success:\n",
    "        break\n",
    "if success:\n",
    "    pscene.set_object_state(from_state)\n",
    "    gscene.show_motion(Traj, period=0.01)\n",
    "    pick_state = pscene.rebind_all(binding_list, LastQ)\n",
    "else:\n",
    "    print(\"Solution not found. Please try again, try to find error if it keeps failing.\")\n",
    "    raise(RuntimeError(\"Motion plan failure\"))"
   ]
  },
  {
   "cell_type": "code",
   "execution_count": 16,
   "metadata": {},
   "outputs": [],
   "source": [
    "# place motion - move the object to \"goal\"\n",
    "from_state = pick_state.copy(pscene)\n",
    "to_node = (\"goal\", 0)\n",
    "for _ in range(20):\n",
    "    available_binding_dict = pscene.get_available_binding_dict(from_state, to_node)\n",
    "    to_state = pscene.sample_leaf_state(from_state, available_binding_dict, to_node)\n",
    "    Traj, LastQ, error, success, binding_list = mplan.plan_transition(from_state, to_state, timeout=1)\n",
    "    if success:\n",
    "        break\n",
    "if success:\n",
    "    pscene.set_object_state(from_state)\n",
    "    gscene.show_motion(Traj, period=0.01)\n",
    "else:\n",
    "    print(\"Solution not found. Please try again, try to find error if it keeps failing.\")\n",
    "    print(\"Sometimes this placement motion is inherently impossible depending on pick parameter.\")\n",
    "    print(\"Then, please re-try from the beginning to change the configuration\")\n",
    "    raise(RuntimeError(\"Motion plan failure\"))"
   ]
  },
  {
   "cell_type": "code",
   "execution_count": 17,
   "metadata": {},
   "outputs": [],
   "source": [
    "# sweep motion 1 - reach the first waypoint\n",
    "from_state = initial_state.copy(pscene)\n",
    "from_state.Q = crob.home_pose\n",
    "to_node = (\"floor\", 1)\n",
    "for _ in range(3):\n",
    "    available_binding_dict = pscene.get_available_binding_dict(from_state, to_node)\n",
    "    to_state = pscene.sample_leaf_state(from_state, available_binding_dict, to_node)\n",
    "    Traj, LastQ, error, success, binding_list = mplan.plan_transition(from_state, to_state, timeout=1)\n",
    "    if success:\n",
    "        if np.abs(LastQ[0])<np.pi/2: # else, it will fail in sweep motion\n",
    "            break\n",
    "if success:\n",
    "    pscene.set_object_state(from_state)\n",
    "    gscene.show_motion(Traj, period=0.01)\n",
    "    sweep1_state = pscene.rebind_all(binding_list, LastQ)\n",
    "else:\n",
    "    print(\"Solution not found. Please try again, try to find error if it keeps failing.\")\n",
    "    raise(RuntimeError(\"Motion plan failure\"))"
   ]
  },
  {
   "cell_type": "code",
   "execution_count": 18,
   "metadata": {},
   "outputs": [],
   "source": [
    "# sweep motion 2 - sweep \"floor\" to the second waypoint. Constrained motion planning takes longer time\n",
    "from_state = sweep1_state.copy(pscene)\n",
    "to_node = (\"floor\", 2)\n",
    "for _ in range(5):\n",
    "    available_binding_dict = pscene.get_available_binding_dict(from_state, to_node)\n",
    "    to_state = pscene.sample_leaf_state(from_state, available_binding_dict, to_node)\n",
    "    Traj, LastQ, error, success, binding_list = mplan.plan_transition(from_state, to_state, timeout=5)\n",
    "    if success:\n",
    "        break\n",
    "if success:\n",
    "    pscene.set_object_state(from_state)\n",
    "    gscene.show_motion(Traj, period=0.01)\n",
    "    sweep2_state = pscene.rebind_all(binding_list, LastQ)\n",
    "else:\n",
    "    print(\"Solution not found. Please try again, try to find error if it keeps failing.\")\n",
    "    print(\"Sometimes this constrained motion is inherently impossible.\")\n",
    "    print(\"Then, please re-try from the beginning to change the configuration\")\n",
    "    raise(RuntimeError(\"Motion plan failure\"))"
   ]
  },
  {
   "cell_type": "markdown",
   "metadata": {},
   "source": [
    "* Interpolated path generation by incremental IK\n",
    "  - To generate task-space Interpolated path, set MoveitPlanner.incremental_constraint_motion = True\n",
    "  - If the changing subject returns non-zero constraints with make_constraints, this task-space interpolation will be applied.\n",
    "  - For simple linear moion, this is fast way to generate constrained motion.\n",
    "  - This only does linear interpolation and does not observe the constraints."
   ]
  },
  {
   "cell_type": "code",
   "execution_count": 19,
   "metadata": {},
   "outputs": [],
   "source": [
    "# Set incremental path generation flag\n",
    "mplan.incremental_constraint_motion = True\n",
    "\n",
    "from_state = sweep1_state.copy(pscene)\n",
    "to_node = (\"floor\", 2)\n",
    "for _ in range(5):\n",
    "    available_binding_dict = pscene.get_available_binding_dict(from_state, to_node)\n",
    "    to_state = pscene.sample_leaf_state(from_state, available_binding_dict, to_node)\n",
    "    Traj, LastQ, error, success, binding_list = mplan.plan_transition(from_state, to_state, timeout=5)\n",
    "    if success:\n",
    "        break\n",
    "if success:\n",
    "    pscene.set_object_state(from_state)\n",
    "    gscene.show_motion(Traj, period=0.01)\n",
    "    sweep2_state = pscene.rebind_all(binding_list, LastQ)\n",
    "else:\n",
    "    print(\"Solution not found. Please try again, try to find error if it keeps failing.\")\n",
    "    print(\"Sometimes this constrained motion is inherently impossible.\")\n",
    "    print(\"Then, please re-try from the beginning to change the configuration\")\n",
    "    raise(RuntimeError(\"Motion plan failure\"))"
   ]
  },
  {
   "cell_type": "code",
   "execution_count": null,
   "metadata": {},
   "outputs": [],
   "source": []
  },
  {
   "cell_type": "markdown",
   "metadata": {},
   "source": [
    "## 4.3 TaskPlanner"
   ]
  },
  {
   "cell_type": "markdown",
   "metadata": {},
   "source": [
    "##### create PlanningPipeline"
   ]
  },
  {
   "cell_type": "code",
   "execution_count": 20,
   "metadata": {},
   "outputs": [],
   "source": [
    "from pkg.planning.pipeline import PlanningPipeline\n",
    "ppline = PlanningPipeline(pscene)\n",
    "ppline.set_motion_planner(MoveitPlanner(pscene))"
   ]
  },
  {
   "cell_type": "code",
   "execution_count": 21,
   "metadata": {},
   "outputs": [
    {
     "name": "stdout",
     "output_type": "stream",
     "text": [
      "Dash is running on http://0.0.0.0:8050/\n",
      "\n",
      " * Serving Flask app \"pkg.ui.dash_launcher\" (lazy loading)\n",
      " * Environment: production\n"
     ]
    }
   ],
   "source": [
    "from pkg.ui.ui_broker import *\n",
    "\n",
    "# start UI\n",
    "ui_broker = UIBroker.instance()\n",
    "ui_broker.initialize(ppline, s_builder)\n",
    "ui_broker.start_server()\n",
    "\n",
    "ui_broker.set_tables()"
   ]
  },
  {
   "cell_type": "code",
   "execution_count": null,
   "metadata": {},
   "outputs": [],
   "source": []
  },
  {
   "cell_type": "markdown",
   "metadata": {},
   "source": [
    "##### RRT"
   ]
  },
  {
   "cell_type": "code",
   "execution_count": 22,
   "metadata": {},
   "outputs": [
    {
     "name": "stdout",
     "output_type": "stream",
     "text": [
      "   WARNING: This is a development server. Do not use it in a production deployment.\n",
      "   Use a production WSGI server instead.\n",
      " * Debug mode: off\n"
     ]
    }
   ],
   "source": [
    "from pkg.planning.task.rrt import TaskRRT\n",
    "ppline.set_task_planner(TaskRRT(pscene))"
   ]
  },
  {
   "cell_type": "markdown",
   "metadata": {},
   "source": [
    "- pick & place & sweep (single process)\n",
    "  - this can fail due to short timeout"
   ]
  },
  {
   "cell_type": "code",
   "execution_count": 23,
   "metadata": {
    "scrolled": true
   },
   "outputs": [
    {
     "name": "stdout",
     "output_type": "stream",
     "text": [
      "try: 0 - ('floor', 0)->('floor', 1)\n",
      "try transition motion\n",
      "transition motion tried: True\n",
      "result: 0 - ('floor', 0)->('floor', 1) = success\n",
      "branching: 0->1 (0.06/10.0 s, steps/err: 10(50.0328540802 ms)/0.00199918969503)\n",
      "======================================================================================================================================================\n",
      "try: 0 - ('floor', 0)->('gripper', 0)\n",
      "try transition motion\n",
      "transition motion tried: False\n",
      "Motion Plan Failure\n",
      "result: 0 - ('floor', 0)->('gripper', 0) = fail\n",
      "try: 1 - ('floor', 1)->('floor', 2)\n",
      "end\n",
      "constrained motion tried: True\n",
      "result: 1 - ('floor', 1)->('floor', 2) = success\n",
      "branching: 1->2 (0.82/10.0 s, steps/err: 41(203.440189362 ms)/0.000102036004388)\n",
      "======================================================================================================================================================\n",
      "try: 2 - ('floor', 2)->('gripper', 2)\n",
      "try transition motion\n",
      "transition motion tried: True\n",
      "result: 2 - ('floor', 2)->('gripper', 2) = success\n",
      "branching: 2->3 (0.88/10.0 s, steps/err: 39(60.1980686188 ms)/0.00193757995714)\n",
      "======================================================================================================================================================\n",
      "try: 3 - ('gripper', 2)->('goal', 2)\n",
      "try transition motion\n",
      "transition motion tried: True\n",
      "Goal reached\n",
      "result: 3 - ('gripper', 2)->('goal', 2) = success\n",
      "branching: 3->4 (0.92/10.0 s, steps/err: 51(36.777973175 ms)/0.00125410498387)\n",
      "======================================================================================================================================================\n",
      "++ adding return motion to acquired answer ++\n",
      "Goal reached\n",
      "try: 3 - ('gripper', 2)->('goal', 2)\n",
      "try transition motion\n",
      "transition motion tried: True\n",
      "Goal reached\n",
      "result: 3 - ('gripper', 2)->('goal', 2) = success\n",
      "branching: 3->6 (1.25/10.0 s, steps/err: 66(81.6659927368 ms)/0.00132850403936)\n",
      "======================================================================================================================================================\n",
      "++ adding return motion to acquired answer ++\n",
      "Goal reached\n",
      "=========================================================================================================\n",
      "======================= terminated 0: required answers acquired  (1.5/10.0) ===============================\n",
      "=========================================================================================================\n",
      "========================== FINISHED (1.5 / 10.0 s) ==============================]\n",
      "('floor', 0)->('floor', 1)\n",
      "('floor', 1)->('floor', 2)\n",
      "('floor', 2)->('gripper', 2)\n",
      "('gripper', 2)->('goal', 2)\n",
      "('goal', 2)->('goal', 2)\n"
     ]
    }
   ],
   "source": [
    "ppline.search(initial_state, goal_nodes=[(\"goal\", 2)], verbose=True, \n",
    "              display=False, dt_vis=0.01, timeout_loop=10, max_solution_count=1, \n",
    "              timeout=0.5, timeout_constrained=2, multiprocess=False)\n",
    "schedules = ppline.tplan.find_schedules()\n",
    "schedules_sorted = ppline.tplan.sort_schedule(schedules)\n",
    "ppline.play_schedule(ppline.tplan.idxSchedule2SnodeScedule(schedules_sorted[0]), period=0.01)"
   ]
  },
  {
   "cell_type": "code",
   "execution_count": null,
   "metadata": {},
   "outputs": [],
   "source": []
  },
  {
   "cell_type": "markdown",
   "metadata": {},
   "source": [
    "- pick & place & sweep (multi process)"
   ]
  },
  {
   "cell_type": "code",
   "execution_count": 24,
   "metadata": {
    "scrolled": true
   },
   "outputs": [
    {
     "name": "stdout",
     "output_type": "stream",
     "text": [
      "Use 18/36 agents\n",
      "try: 0 - ('floor', 0)->('gripper', 0)\n",
      "try: 0 - ('floor', 0)->('gripper', 0)\n",
      "try transition motion\n",
      "try transition motion\n",
      "try: 0 - ('floor', 0)->('floor', 1)\n",
      "try: 0 - ('floor', 0)->('gripper', 0)\n",
      "try transition motion\n",
      "try: 0 - ('floor', 0)->('gripper', 0)\n",
      "try transition motion\n",
      "try transition motion\n",
      "try: 0 - ('floor', 0)->('floor', 1)\n",
      "try: 0 - ('floor', 0)->('gripper', 0)\n",
      "try transition motion\n",
      "transition motion tried: True\n",
      "try transition motion\n",
      "try: 0 - ('floor', 0)->('floor', 1)\n",
      "try transition motion\n",
      "try: 0 - ('floor', 0)->('gripper', 0)\n",
      "result: 0 - ('floor', 0)->('floor', 1) = success\n",
      "transition motion tried: True\n",
      "branching: 0->1 (0.17/10.0 s, steps/err: 10(61.2399578094 ms)/0.00124472049848)\n",
      "try transition motion\n",
      "======================================================================================================================================================\n",
      "transition motion tried: True\n",
      "transition motion tried: True\n",
      "try: 1 - ('floor', 1)->('floor', 2)\n",
      "result: 0 - ('floor', 0)->('floor', 1) = success\n",
      "result: 0 - ('floor', 0)->('gripper', 0) = success\n",
      "branching: 0->2 (0.24/10.0 s, steps/err: 10(88.0148410797 ms)/0.00124472049848)\n",
      "result: 0 - ('floor', 0)->('floor', 1) = success\n",
      "branching: 0->4 (0.24/10.0 s, steps/err: 31(123.267889023 ms)/0.00121708130974)\n",
      "======================================================================================================================================================\n",
      "branching: 0->3 (0.24/10.0 s, steps/err: 10(74.0888118744 ms)/0.00124472049848)\n",
      "try: 0 - ('floor', 0)->('gripper', 0)\n",
      "======================================================================================================================================================\n",
      "transition motion tried: True\n",
      "try: 4 - ('gripper', 0)->('floor', 0)\n",
      "======================================================================================================================================================\n",
      "try transition motion\n",
      "try transition motion\n",
      "try: 2 - ('floor', 1)->('floor', 2)\n",
      "result: 0 - ('floor', 0)->('gripper', 0) = success\n",
      "branching: 0->5 (0.32/10.0 s, steps/err: 31(220.342159271 ms)/0.00121703981866)\n",
      "======================================================================================================================================================\n",
      "try: 0 - ('floor', 0)->('floor', 1)\n",
      "transition motion tried: True\n",
      "try transition motion\n",
      "transition motion tried: True\n",
      "result: 0 - ('floor', 0)->('gripper', 0) = success\n",
      "branching: 0->6 (0.38/10.0 s, steps/err: 32(256.505012512 ms)/0.00121738183319)\n",
      "======================================================================================================================================================\n",
      "transition motion tried: True\n",
      "result: 4 - ('gripper', 0)->('floor', 0) = success\n",
      "try: 0 - ('floor', 0)->('gripper', 0)\n",
      "branching: 4->7 (0.39/10.0 s, steps/err: 64(82.8609466553 ms)/0.000638083585894)\n",
      "result: 0 - ('floor', 0)->('floor', 1) = success\n",
      "======================================================================================================================================================\n",
      "try: 0 - ('floor', 0)->('floor', 1)\n",
      "try transition motion\n",
      "branching: 0->8 (0.41/10.0 s, steps/err: 10(53.4348487854 ms)/0.00143490392105)\n",
      "try: 8 - ('floor', 1)->('floor', 2)\n",
      "try transition motion\n",
      "======================================================================================================================================================\n",
      "try: 0 - ('floor', 0)->('gripper', 0)\n",
      "try transition motion\n",
      "transition motion tried: True\n",
      "result: 0 - ('floor', 0)->('floor', 1) = success\n",
      "branching: 0->9 (0.46/10.0 s, steps/err: 10(39.1290187836 ms)/0.0017034485159)\n",
      "======================================================================================================================================================\n",
      "try: 6 - ('gripper', 0)->('goal', 0)\n",
      "try transition motion\n",
      "try: 5 - ('gripper', 0)->('floor', 0)\n",
      "try: 7 - ('floor', 0)->('floor', 1)\n",
      "try: 5 - ('gripper', 0)->('gripper', 1)\n",
      "try: 7 - ('floor', 0)->('gripper', 0)\n",
      "try: 7 - ('floor', 0)->('floor', 1)\n",
      "try: 7 - ('floor', 0)->('floor', 1)\n",
      "try transition motion\n",
      "try: 0 - ('floor', 0)->('floor', 1)\n",
      "try transition motion\n",
      "try: 0 - ('floor', 0)->('floor', 1)\n",
      "try transition motion\n",
      "try transition motion\n",
      "try transition motion\n",
      "transition motion tried: True\n",
      "end\n",
      "try transition motion\n",
      "constrained motion tried: True\n",
      "result: 0 - ('floor', 0)->('gripper', 0) = success\n",
      "try transition motion\n",
      "branching: 0->10 (0.49/10.0 s, steps/err: 32(51.5360832214 ms)/0.00155673257949)\n",
      "try transition motion\n",
      "======================================================================================================================================================\n",
      "result: 1 - ('floor', 1)->('floor', 2) = success\n",
      "try: 11 - ('floor', 2)->('gripper', 2)\n",
      "try transition motion\n",
      "branching: 1->11 (0.51/10.0 s, steps/err: 41(273.608922958 ms)/0.000101783134646)\n",
      "======================================================================================================================================================\n",
      "try: 4 - ('gripper', 0)->('floor', 0)\n",
      "try transition motion\n",
      "transition motion tried: True\n",
      "transition motion tried: True\n",
      "transition motion tried: True\n",
      "result: 0 - ('floor', 0)->('floor', 1) = success\n",
      "branching: 0->12 (0.54/10.0 s, steps/err: 10(41.738986969 ms)/0.00124472049848)\n",
      "result: 5 - ('gripper', 0)->('gripper', 1) = success\n",
      "transition motion tried: True\n",
      "======================================================================================================================================================\n",
      "branching: 5->13 (0.56/10.0 s, steps/err: 24(70.2650547028 ms)/0.00137944967807)\n",
      "try: 13 - ('gripper', 1)->('gripper', 2)\n",
      "======================================================================================================================================================\n",
      "end\n",
      "result: 6 - ('gripper', 0)->('goal', 0) = success\n",
      "constrained motion tried: True\n",
      "branching: 6->14 (0.58/10.0 s, steps/err: 66(101.940870285 ms)/0.00152763711665)\n",
      "result: 2 - ('floor', 1)->('floor', 2) = success\n",
      "======================================================================================================================================================\n",
      "try: 14 - ('goal', 0)->('goal', 1)\n",
      "result: 0 - ('floor', 0)->('floor', 1) = success\n",
      "try transition motion\n",
      "try: 16 - ('floor', 2)->('gripper', 2)\n",
      "branching: 2->16 (0.6/10.0 s, steps/err: 41(269.130945206 ms)/0.000101783134646)\n",
      "branching: 0->15 (0.61/10.0 s, steps/err: 10(92.0159816742 ms)/0.00124472049848)\n",
      "try transition motion\n",
      "======================================================================================================================================================\n",
      "transition motion tried: False\n",
      "======================================================================================================================================================\n",
      "try: 3 - ('floor', 1)->('floor', 2)\n",
      "Motion Plan Failure\n",
      "transition motion tried: False\n",
      "Motion Plan Failure\n",
      "try: 4 - ('gripper', 0)->('gripper', 1)\n",
      "result: 0 - ('floor', 0)->('gripper', 0) = fail\n",
      "try: 11 - ('floor', 2)->('gripper', 2)\n",
      "result: 0 - ('floor', 0)->('gripper', 0) = fail\n",
      "try transition motion\n",
      "try: 13 - ('gripper', 1)->('gripper', 2)\n",
      "try transition motion\n",
      "transition motion tried: False\n",
      "transition motion tried: True\n",
      "Motion Plan Failure\n",
      "transition motion tried: True\n",
      "transition motion tried: True\n",
      "result: 4 - ('gripper', 0)->('gripper', 1) = success\n",
      "result: 0 - ('floor', 0)->('gripper', 0) = fail\n",
      "try: 7 - ('floor', 0)->('floor', 1)\n",
      "branching: 4->17 (0.76/10.0 s, steps/err: 24(96.9288349152 ms)/0.00150732455119)\n",
      "result: 7 - ('floor', 0)->('floor', 1) = success\n",
      "result: 16 - ('floor', 2)->('gripper', 2) = success\n",
      "try transition motion\n",
      "branching: 16->18 (0.77/10.0 s, steps/err: 29(141.182899475 ms)/0.00117336798304)\n",
      "======================================================================================================================================================\n",
      "try: 18 - ('gripper', 2)->('goal', 2)\n",
      "branching: 7->19 (0.78/10.0 s, steps/err: 43(278.321027756 ms)/0.00124472049848)\n",
      "======================================================================================================================================================\n"
     ]
    },
    {
     "name": "stdout",
     "output_type": "stream",
     "text": [
      "======================================================================================================================================================\n",
      "try: 4 - ('gripper', 0)->('gripper', 1)\n",
      "try transition motion\n",
      "try transition motion\n",
      "try: 6 - ('gripper', 0)->('goal', 0)\n",
      "end\n",
      "try transition motion\n",
      "transition motion tried: True\n",
      "constrained motion tried: True\n",
      "transition motion tried: True\n",
      "transition motion tried: True\n",
      "result: 8 - ('floor', 1)->('floor', 2) = success\n",
      "transition motion tried: False\n",
      "result: 7 - ('floor', 0)->('floor', 1) = success\n",
      "Motion Plan Failure\n",
      "result: 0 - ('floor', 0)->('gripper', 0) = fail\n",
      "branching: 8->21 (0.89/10.0 s, steps/err: 41(445.657014847 ms)/0.000101851902432)\n",
      "======================================================================================================================================================\n",
      "try: 21 - ('floor', 2)->('gripper', 2)\n",
      "result: 4 - ('gripper', 0)->('gripper', 1) = success\n",
      "try transition motion\n",
      "result: 7 - ('floor', 0)->('floor', 1) = success\n",
      "branching: 7->20 (0.88/10.0 s, steps/err: 43(376.447916031 ms)/0.00124472049848)\n",
      "branching: 4->22 (0.91/10.0 s, steps/err: 24(83.5320949554 ms)/0.00185717369631)\n",
      "try: 10 - ('gripper', 0)->('floor', 0)\n",
      "======================================================================================================================================================\n",
      "======================================================================================================================================================\n",
      "try: 5 - ('gripper', 0)->('goal', 0)\n",
      "try: 13 - ('gripper', 1)->('gripper', 2)\n",
      "try transition motion\n",
      "try transition motion\n",
      "branching: 7->23 (0.94/10.0 s, steps/err: 43(417.181015015 ms)/0.00124472049848)\n",
      "end\n",
      "constrained motion tried: True\n",
      "======================================================================================================================================================\n",
      "result: 3 - ('floor', 1)->('floor', 2) = success\n",
      "transition motion tried: False\n",
      "Motion Plan Failure\n",
      "branching: 3->24 (0.96/10.0 s, steps/err: 41(320.387125015 ms)/0.000101783134646)\n",
      "result: 0 - ('floor', 0)->('gripper', 0) = fail\n",
      "======================================================================================================================================================\n",
      "try: 24 - ('floor', 2)->('gripper', 2)\n",
      "transition motion tried: True\n",
      "try: 10 - ('gripper', 0)->('gripper', 1)\n",
      "try transition motion\n",
      "try: 6 - ('gripper', 0)->('gripper', 1)\n",
      "try transition motion\n",
      "result: 7 - ('floor', 0)->('floor', 1) = success\n",
      "branching: 7->25 (0.99/10.0 s, steps/err: 57(214.385032654 ms)/0.00111178173501)\n",
      "======================================================================================================================================================\n",
      "try: 0 - ('floor', 0)->('floor', 1)\n",
      "try transition motion\n",
      "try transition motion\n",
      "transition motion tried: False\n",
      "transition motion tried: True\n",
      "end\n",
      "Motion Plan Failure\n",
      "constrained motion tried: True\n",
      "transition motion tried: False\n",
      "transition motion tried: False\n",
      "Motion Plan Failure\n",
      "Motion Plan Failure\n",
      "transition motion tried: True\n",
      "result: 11 - ('floor', 2)->('gripper', 2) = fail\n",
      "result: 5 - ('gripper', 0)->('goal', 0) = success\n",
      "result: 13 - ('gripper', 1)->('gripper', 2) = success\n",
      "result: 7 - ('floor', 0)->('gripper', 0) = fail\n",
      "branching: 5->26 (1.04/10.0 s, steps/err: 67(64.5670890808 ms)/0.00182669982115)\n",
      "result: 0 - ('floor', 0)->('floor', 1) = success\n",
      "transition motion tried: False\n",
      "end\n",
      "transition motion tried: True\n",
      "result: 5 - ('gripper', 0)->('floor', 0) = fail\n",
      "branching: 13->27 (1.04/10.0 s, steps/err: 41(436.464071274 ms)/0.000101777368572)\n",
      "branching: 0->28 (1.05/10.0 s, steps/err: 10(44.7640419006 ms)/0.00173131537198)\n",
      "try: 26 - ('goal', 0)->('goal', 1)\n",
      "Motion Plan Failure\n",
      "try: 6 - ('gripper', 0)->('goal', 0)\n",
      "======================================================================================================================================================\n",
      "result: 4 - ('gripper', 0)->('floor', 0) = fail\n",
      "try transition motion\n",
      "try: 0 - ('floor', 0)->('gripper', 0)\n",
      "======================================================================================================================================================\n",
      "constrained motion tried: True\n",
      "try: 27 - ('gripper', 2)->('goal', 2)\n",
      "result: 10 - ('gripper', 0)->('gripper', 1) = success\n",
      "try: 26 - ('goal', 0)->('goal', 1)\n",
      "try transition motion\n",
      "======================================================================================================================================================\n",
      "try transition motion\n",
      "result: 13 - ('gripper', 1)->('gripper', 2) = success\n",
      "branching: 10->29 (1.07/10.0 s, steps/err: 26(67.9030418396 ms)/0.000917555764524)\n",
      "try transition motion\n",
      "try: 7 - ('floor', 0)->('gripper', 0)\n",
      "branching: 13->30 (1.09/10.0 s, steps/err: 41(383.242845535 ms)/0.000101777368572)\n",
      "try transition motion\n",
      "======================================================================================================================================================\n",
      "try transition motion\n",
      "try: 27 - ('gripper', 2)->('goal', 2)\n",
      "======================================================================================================================================================\n",
      "try: 30 - ('gripper', 2)->('goal', 2)\n",
      "try transition motion\n",
      "try transition motion\n",
      "transition motion tried: False\n",
      "Motion Plan Failure\n",
      "transition motion tried: True\n",
      "try: 14 - ('goal', 0)->('goal', 1)\n",
      "transition motion tried: True\n",
      "result: 6 - ('gripper', 0)->('gripper', 1) = success\n",
      "try transition motion\n",
      "branching: 6->31 (1.13/10.0 s, steps/err: 65(140.162944794 ms)/0.0015447187995)\n",
      "======================================================================================================================================================\n",
      "result: 14 - ('goal', 0)->('goal', 1) = fail\n",
      "try: 5 - ('gripper', 0)->('floor', 0)\n",
      "try: 4 - ('gripper', 0)->('floor', 0)\n",
      "result: 6 - ('gripper', 0)->('goal', 0) = success\n",
      "branching: 6->32 (1.14/10.0 s, steps/err: 69(85.1528644562 ms)/0.00181924479145)\n",
      "try transition motion\n",
      "======================================================================================================================================================\n",
      "transition motion tried: True\n",
      "try transition motion\n",
      "try: 32 - ('goal', 0)->('goal', 1)\n",
      "Goal reached\n",
      "try transition motion\n",
      "result: 27 - ('gripper', 2)->('goal', 2) = success\n",
      "branching: 27->33 (1.16/10.0 s, steps/err: 57(63.0750656128 ms)/0.00181104121497)\n",
      "transition motion tried: True\n",
      "======================================================================================================================================================\n",
      "transition motion tried: True\n",
      "transition motion tried: True\n",
      "++ adding return motion to acquired answer ++\n",
      "Goal reached\n",
      "result: 27 - ('gripper', 2)->('goal', 2) = success\n",
      "transition motion tried: True\n",
      "result: 26 - ('goal', 0)->('goal', 1) = success\n",
      "result: 26 - ('goal', 0)->('goal', 1) = success\n",
      "Goal reached\n",
      "branching: 27->35 (1.17/10.0 s, steps/err: 63(57.0058822632 ms)/0.000901366892363)\n",
      "branching: 26->34 (1.17/10.0 s, steps/err: 41(100.775003433 ms)/0.00185888870096)\n",
      "branching: 26->36 (1.17/10.0 s, steps/err: 20(88.0520343781 ms)/0.0021116550025)\n",
      "======================================================================================================================================================\n",
      "result: 30 - ('gripper', 2)->('goal', 2) = success\n",
      "++ adding return motion to acquired answer ++\n",
      "branching: 30->37 (1.19/10.0 s, steps/err: 56(61.6049766541 ms)/0.00137078401185)\n",
      "======================================================================================================================================================\n",
      "======================================================================================================================================================\n",
      "try: 34 - ('goal', 1)->('goal', 2)\n",
      "======================================================================================================================================================\n",
      "transition motion tried: True\n",
      "try: 36 - ('goal', 1)->('goal', 2)\n",
      "++ adding return motion to acquired answer ++\n",
      "result: 32 - ('goal', 0)->('goal', 1) = success\n",
      "branching: 32->38 (1.23/10.0 s, steps/err: 28(70.2650547028 ms)/0.00184712233237)\n"
     ]
    },
    {
     "name": "stdout",
     "output_type": "stream",
     "text": [
      "======================================================================================================================================================\n",
      "transition motion tried: False\n",
      "try: 38 - ('goal', 1)->('goal', 2)\n",
      "Motion Plan Failure\n",
      "result: 11 - ('floor', 2)->('gripper', 2) = fail\n",
      "Goal reached\n",
      "try: 5 - ('gripper', 0)->('goal', 0)\n",
      "try transition motion\n",
      "transition motion tried: True\n",
      "end\n",
      "constrained motion tried: True\n",
      "result: 0 - ('floor', 0)->('gripper', 0) = success\n",
      "branching: 0->40 (1.26/10.0 s, steps/err: 35(198.46200943 ms)/0.00137568124381)\n",
      "======================================================================================================================================================\n",
      "Goal reached\n",
      "result: 13 - ('gripper', 1)->('gripper', 2) = success\n",
      "try: 14 - ('goal', 0)->('goal', 1)\n",
      "branching: 13->42 (1.27/10.0 s, steps/err: 41(324.676990509 ms)/0.000101777368572)\n",
      "try transition motion\n",
      "======================================================================================================================================================\n",
      "try: 42 - ('gripper', 2)->('goal', 2)\n",
      "try transition motion\n",
      "transition motion tried: True\n",
      "result: 7 - ('floor', 0)->('gripper', 0) = success\n",
      "Goal reached\n",
      "branching: 7->43 (1.3/10.0 s, steps/err: 63(209.076881409 ms)/0.00182120945925)\n",
      "======================================================================================================================================================\n",
      "try: 26 - ('goal', 0)->('gripper', 0)\n",
      "try transition motion\n",
      "transition motion tried: True\n",
      "transition motion tried: False\n",
      "transition motion tried: True\n",
      "Motion Plan Failure\n",
      "result: 18 - ('gripper', 2)->('goal', 2) = fail\n",
      "transition motion tried: True\n",
      "result: 14 - ('goal', 0)->('goal', 1) = success\n",
      "result: 26 - ('goal', 0)->('gripper', 0) = success\n",
      "branching: 14->45 (1.36/10.0 s, steps/err: 71(231.894016266 ms)/0.0017034485159)\n",
      "branching: 26->46 (1.36/10.0 s, steps/err: 4(52.1759986877 ms)/0.00162476913939)\n",
      "======================================================================================================================================================\n",
      "try: 45 - ('goal', 1)->('goal', 2)\n",
      "Goal reached\n",
      "result: 42 - ('gripper', 2)->('goal', 2) = success\n",
      "branching: 42->47 (1.37/10.0 s, steps/err: 63(83.2719802856 ms)/0.00173823191377)\n",
      "transition motion tried: False\n",
      "======================================================================================================================================================\n",
      "++ adding return motion to acquired answer ++\n",
      "transition motion tried: True\n",
      "======================================================================================================================================================\n",
      "Motion Plan Failure\n",
      "try: 42 - ('gripper', 2)->('goal', 2)\n",
      "try: 46 - ('gripper', 0)->('gripper', 1)\n",
      "result: 6 - ('gripper', 0)->('goal', 0) = fail\n",
      "try: 48 - ('goal', 0)->('goal', 1)\n",
      "try transition motion\n",
      "result: 5 - ('gripper', 0)->('goal', 0) = success\n",
      "try transition motion\n",
      "branching: 5->48 (1.38/10.0 s, steps/err: 81(117.035150528 ms)/0.00170232558165)\n",
      "try transition motion\n",
      "======================================================================================================================================================\n",
      "try: 0 - ('floor', 0)->('floor', 1)\n",
      "try transition motion\n",
      "transition motion tried: True\n",
      "transition motion tried: True\n",
      "result: 48 - ('goal', 0)->('goal', 1) = success\n",
      "Goal reached\n",
      "transition motion tried: True\n",
      "Goal reached\n",
      "branching: 48->49 (1.43/10.0 s, steps/err: 27(45.0000762939 ms)/0.00058696320574)\n",
      "joint max\n",
      "result: 42 - ('gripper', 2)->('goal', 2) = success\n",
      "constrained motion tried: False\n",
      "result: 0 - ('floor', 0)->('floor', 1) = success\n",
      "branching: 42->51 (1.43/10.0 s, steps/err: 58(56.0910701752 ms)/0.00152362904853)\n",
      "======================================================================================================================================================\n",
      "transition motion tried: True\n",
      "Motion Plan Failure\n",
      "branching: 0->52 (1.44/10.0 s, steps/err: 10(36.5920066833 ms)/0.0018223607819)\n",
      "try: 49 - ('goal', 1)->('goal', 2)\n",
      "result: 46 - ('gripper', 0)->('gripper', 1) = success\n",
      "======================================================================================================================================================\n",
      "joint max\n",
      "branching: 46->53 (1.44/10.0 s, steps/err: 20(58.030128479 ms)/0.00177735481253)\n",
      "constrained motion tried: False\n",
      "++ adding return motion to acquired answer ++\n",
      "Motion Plan Failure\n",
      "======================================================================================================================================================\n",
      "result: 36 - ('goal', 1)->('goal', 2) = fail\n",
      "======================================================================================================================================================\n",
      "transition motion tried: True\n",
      "transition motion tried: False\n",
      "result: 34 - ('goal', 1)->('goal', 2) = fail\n",
      "Motion Plan Failure\n",
      "try: 32 - ('goal', 0)->('gripper', 0)\n",
      "try: 54 - ('goal', 1)->('goal', 2)\n",
      "result: 14 - ('goal', 0)->('goal', 1) = success\n",
      "joint max\n",
      "try: 30 - ('gripper', 2)->('goal', 2)\n",
      "try: 32 - ('goal', 0)->('gripper', 0)\n",
      "try: 32 - ('goal', 0)->('goal', 1)\n",
      "result: 21 - ('floor', 2)->('gripper', 2) = fail\n",
      "try transition motion\n",
      "try transition motion\n",
      "try transition motion\n",
      "branching: 14->54 (1.47/10.0 s, steps/err: 69(181.486129761 ms)/0.00177685631799)\n",
      "try transition motion\n",
      "try: 54 - ('goal', 1)->('goal', 2)\n",
      "=========================================================================================================\n",
      "======================================================================================================================================================\n",
      "transition motion tried: False\n",
      "Motion Plan Failure\n",
      "======================= terminated 8: required answers acquired  (1.5/10.0) ===============================\n",
      "=========================================================================================================\n",
      "constrained motion tried: False\n",
      "=========================================================================================================\n",
      "======================= terminated 2: Stop called from other agent  (1.5/10.0) ===============================\n",
      "=========================================================================================================\n",
      "transition motion tried: False\n",
      "=========================================================================================================\n",
      "result: 10 - ('gripper', 0)->('floor', 0) = fail\n",
      "Motion Plan Failure\n",
      "=========================================================================================================\n",
      "Motion Plan Failure\n",
      "transition motion tried: True\n",
      "result: 24 - ('floor', 2)->('gripper', 2) = fail\n",
      "======================= terminated 1: required answers acquired  (1.5/10.0) ===============================\n",
      "======================= terminated 4: Stop called from other agent  (1.5/10.0) ===============================\n",
      "=========================================================================================================\n",
      "Goal reached\n",
      "result: 38 - ('goal', 1)->('goal', 2) = fail\n",
      "=========================================================================================================\n",
      "=========================================================================================================\n",
      "=========================================================================================================\n",
      "result: 32 - ('goal', 0)->('goal', 1) = success\n",
      "======================= terminated 10: Stop called from other agent  (1.5/10.0) ===============================\n",
      "======================= terminated 16: Stop called from other agent  (1.5/10.0) ===============================\n",
      "transition motion tried: True\n",
      "transition motion tried: True\n",
      "branching: 32->56 (1.53/10.0 s, steps/err: 20(57.5759410858 ms)/0.00160204736159)\n",
      "=========================================================================================================\n",
      "result: 32 - ('goal', 0)->('gripper', 0) = success\n",
      "branching: 32->57 (1.54/10.0 s, steps/err: 3(74.8851299286 ms)/0.00202091337232)\n",
      "result: 32 - ('goal', 0)->('gripper', 0) = success\n",
      "=========================================================================================================\n"
     ]
    },
    {
     "name": "stdout",
     "output_type": "stream",
     "text": [
      "======================================================================================================================================================\n",
      "branching: 32->58 (1.54/10.0 s, steps/err: 4(83.9269161224 ms)/0.00142164381843)\n",
      "=========================================================================================================\n",
      "======================================================================================================================================================\n",
      "======================================================================================================================================================\n",
      "======================= terminated 15: Stop called from other agent  (1.5/10.0) ===============================\n",
      "=========================================================================================================\n",
      "=========================================================================================================\n",
      "=========================================================================================================\n",
      "======================= terminated 5: Stop called from other agent  (1.6/10.0) ===============================\n",
      "======================= terminated 0: Stop called from other agent  (1.6/10.0) ===============================\n",
      "=========================================================================================================\n",
      "=========================================================================================================\n",
      "transition motion tried: True\n",
      "Goal reached\n",
      "result: 30 - ('gripper', 2)->('goal', 2) = success\n",
      "branching: 30->59 (1.58/10.0 s, steps/err: 64(105.594873428 ms)/0.0014815460589)\n",
      "======================================================================================================================================================\n",
      "++ adding return motion to acquired answer ++\n",
      "end\n",
      "constrained motion tried: True\n",
      "Goal reached\n",
      "result: 45 - ('goal', 1)->('goal', 2) = success\n",
      "branching: 45->60 (1.62/10.0 s, steps/err: 41(249.078035355 ms)/0.000101819301892)\n",
      "======================================================================================================================================================\n",
      "++ adding return motion to acquired answer ++\n",
      "=========================================================================================================\n",
      "======================= terminated 11: required answers acquired  (1.6/10.0) ===============================\n",
      "=========================================================================================================\n",
      "Goal reached\n",
      "Goal reached\n",
      "joint max\n",
      "constrained motion tried: False\n",
      "Motion Plan Failure\n",
      "result: 49 - ('goal', 1)->('goal', 2) = fail\n",
      "=========================================================================================================\n",
      "======================= terminated 17: Stop called from other agent  (1.7/10.0) ===============================\n",
      "=========================================================================================================\n",
      "end\n",
      "constrained motion tried: True\n",
      "Goal reached\n",
      "result: 54 - ('goal', 1)->('goal', 2) = success\n",
      "end\n",
      "branching: 54->63 (1.68/10.0 s, steps/err: 41(200.908184052 ms)/0.00010197936017)\n",
      "constrained motion tried: True\n",
      "======================================================================================================================================================\n",
      "++ adding return motion to acquired answer ++\n",
      "transition motion tried: False\n",
      "Goal reached\n",
      "Motion Plan Failure\n",
      "result: 54 - ('goal', 1)->('goal', 2) = success\n",
      "branching: 54->64 (1.68/10.0 s, steps/err: 41(224.555969238 ms)/0.00010197936017)\n",
      "======================================================================================================================================================\n",
      "result: 5 - ('gripper', 0)->('floor', 0) = fail\n",
      "++ adding return motion to acquired answer ++\n",
      "transition motion tried: False\n",
      "=========================================================================================================\n",
      "======================= terminated 3: Stop called from other agent  (1.7/10.0) ===============================\n",
      "Motion Plan Failure\n",
      "=========================================================================================================\n",
      "result: 4 - ('gripper', 0)->('floor', 0) = fail\n",
      "=========================================================================================================\n",
      "======================= terminated 12: Stop called from other agent  (1.7/10.0) ===============================\n",
      "=========================================================================================================\n",
      "Goal reached\n",
      "=========================================================================================================\n",
      "======================= terminated 7: required answers acquired  (1.7/10.0) ===============================\n",
      "Goal reached\n",
      "=========================================================================================================\n",
      "=========================================================================================================\n",
      "=========================================================================================================\n",
      "======================= terminated 14: required answers acquired  (1.9/10.0) ===============================\n",
      "======================= terminated 13: required answers acquired  (1.9/10.0) ===============================\n",
      "=========================================================================================================\n",
      "=========================================================================================================\n",
      "=========================================================================================================\n",
      "======================= terminated 6: required answers acquired  (1.9/10.0) ===============================\n",
      "=========================================================================================================\n",
      "=========================================================================================================\n",
      "======================= terminated 9: required answers acquired  (1.9/10.0) ===============================\n",
      "=========================================================================================================\n",
      "========================== FINISHED (2.0 / 10.0 s) ==============================]\n",
      "('floor', 0)->('gripper', 0)\n",
      "('gripper', 0)->('gripper', 1)\n",
      "('gripper', 1)->('gripper', 2)\n",
      "('gripper', 2)->('goal', 2)\n",
      "('goal', 2)->('goal', 2)\n"
     ]
    }
   ],
   "source": [
    "ppline.search(initial_state, goal_nodes=[(\"goal\", 2)], verbose=True, \n",
    "              display=False, dt_vis=0.01, timeout_loop=10, max_solution_count=1, \n",
    "              timeout=0.5, timeout_constrained=2, multiprocess=True)\n",
    "schedules = ppline.tplan.find_schedules()\n",
    "schedules_sorted = ppline.tplan.sort_schedule(schedules)\n",
    "ppline.play_schedule(ppline.tplan.idxSchedule2SnodeScedule(schedules_sorted[0]), period=0.01)"
   ]
  },
  {
   "cell_type": "code",
   "execution_count": null,
   "metadata": {},
   "outputs": [],
   "source": []
  },
  {
   "cell_type": "markdown",
   "metadata": {},
   "source": [
    "##### PDDLStream\n",
    "* pick & place\n",
    "* currently only *single robot* is supported\n",
    "* only colliding geometries are transfered to PDDLStream(pybullet). make sure collision=True for all subjects and actors."
   ]
  },
  {
   "cell_type": "code",
   "execution_count": 25,
   "metadata": {},
   "outputs": [],
   "source": [
    "pscene.set_object_state(initial_state)\n",
    "## Remove sweep - currently not supported with PDDLStream\n",
    "pscene.remove_subject(\"sweep\")\n",
    "pscene.remove_binder(\"sweep_face\")\n",
    "initial_state = pscene.initialize_state(crob.home_pose)"
   ]
  },
  {
   "cell_type": "code",
   "execution_count": 26,
   "metadata": {},
   "outputs": [],
   "source": [
    "from pkg.planning.pddlstream.plan_rnb import solve_in_pddlstream, play_pddl_plan"
   ]
  },
  {
   "cell_type": "code",
   "execution_count": 27,
   "metadata": {
    "scrolled": true
   },
   "outputs": [
    {
     "name": "stdout",
     "output_type": "stream",
     "text": [
      "[Pybullet] Load urdf from /home/rnb/Projects/rnb-planning/src/robots/custom_robots_pybullet.urdf\n",
      "Objects: {1L: 'goal', 2L: 'gripper', 3L: 'floor', 4L: 'wall', 5L: 'obstacle', 6L: 'box1'}\n",
      "================ MAKE PROBLEM ======================\n",
      "IK checkers: ['GraspChecker']\n",
      "MP checkers: []\n",
      "timeout motion : 0.5\n",
      "====================================================\n",
      "Robot: 0\n",
      "Movable: [6L]\n",
      "Fixed: [1, 2, 3, 4, 5]\n",
      "body 6 - surface 1\n",
      "body 6 - surface 2\n",
      "body 6 - surface 3\n",
      "body 6 - surface 4\n",
      "body 6 - surface 5\n",
      "\u001b[93m[INFO] Update stable set for box1 - goal\u001b[0m\n",
      "\u001b[93m[INFO] Update stable set for box1 - floor\u001b[0m\n",
      "\u001b[93m[INFO] Update grasp set for box1\u001b[0m\n",
      "Init: [('CanMove',), ('Conf', q0), ('AtConf', q0), ('HandEmpty',), ('Timer', 0L), ('Graspable', 6L), ('Pose', 6L, p0), ('AtPose', 6L, p0), ('Stackable', 6L, 1), ('Stackable', 6L, 2), ('Stackable', 6L, 3), ('Supported', 6L, p0, 3), ('Stackable', 6L, 4), ('Stackable', 6L, 5)]\n",
      "Goal: ('and', ('AtConf', q0), ('On', 6L, 1L))\n",
      "Streams: {TrajCollision, inverse-kinematics, plan-free-motion, plan-holding-motion, sample-grasp, sample-pose, test-cfree-approach-pose, test-cfree-pose-pose, test-cfree-traj-pose}\n",
      "Warning! All actions have no cost. Recommend setting unit_costs=True\n",
      "Setting negate=True for stream [test-cfree-traj-pose]\n",
      "Setting negate=True for stream [test-cfree-pose-pose]\n",
      "Setting negate=True for stream [test-cfree-approach-pose]\n",
      "\n",
      "Iteration: 1 | Complexity: 0 | Skeletons: 0 | Skeleton Queue: 0 | Disabled: 0 | Evaluations: 14 | Eager Calls: 0 | Cost: inf | Search Time: 0.000 | Sample Time: 0.000 | Total Time: 0.000\n",
      "Attempt: 1 | Results: 1 | Depth: 0 | Success: False | Time: 0.012\n",
      "Stream plan (inf, 0, inf): None\n",
      "Action plan (inf, inf): None\n",
      "No plan: increasing complexity from 0 to 1\n",
      "\n",
      "Iteration: 2 | Complexity: 1 | Skeletons: 0 | Skeleton Queue: 0 | Disabled: 0 | Evaluations: 14 | Eager Calls: 0 | Cost: inf | Search Time: 0.012 | Sample Time: 0.000 | Total Time: 0.012\n",
      "Attempt: 1 | Results: 8 | Depth: 0 | Success: False | Time: 0.045\n",
      "Stream plan (inf, 0, inf): None\n",
      "Action plan (inf, inf): None\n",
      "No plan: increasing complexity from 1 to 2\n",
      "\n",
      "Iteration: 3 | Complexity: 2 | Skeletons: 0 | Skeleton Queue: 0 | Disabled: 0 | Evaluations: 14 | Eager Calls: 0 | Cost: inf | Search Time: 0.059 | Sample Time: 0.000 | Total Time: 0.059\n",
      "Attempt: 1 | Results: 16 | Depth: 1 | Success: False | Time: 0.105\n",
      "Attempt: 2 | Results: 41 | Depth: 0 | Success: True | Time: 0.232\n",
      "Stream plan (8, 8, 0.001): [sample-grasp:(6)->(#g0), inverse-kinematics:(6, p0, #g0)->(#q1, #t12), test-cfree-traj-pose:(#t12, 6, p0)->(), sample-pose:(6, 1)->(#p0), inverse-kinematics:(6, #p0, #g0)->(#q0, #t11), plan-free-motion:(#q0, q0)->(#t41), plan-free-motion:(q0, #q1)->(#t43), plan-holding-motion:(#q1, #q0, 6, #g0)->(#t42)]\n",
      "Action plan (5, 0.000): [move_free(q0, #q1, #t43), pick(6, p0, #g0, #q1, #t12), move_holding(#q1, #q0, 6, #g0, #t42), place(6, #p0, #g0, #q0, #t11), move_free(#q0, q0, #t41)]\n",
      "Summary: {complexity: 2, cost: 0.000, evaluations: 27, iterations: 3, length: 2, run_time: 0.452, sample_time: 0.150, search_time: 0.303, skeletons: 1, solutions: 1, solved: True, timeout: False}\n",
      "         234185 function calls (223164 primitive calls) in 0.465 seconds\n",
      "\n",
      "   Ordered by: internal time\n",
      "   List reduced from 1420 to 10 due to restriction <10>\n",
      "\n",
      "   ncalls  tottime  percall  cumtime  percall filename:lineno(function)\n",
      "        3    0.119    0.040    0.119    0.040 pkg/planning/motion/moveit/moveit_py.py:178(plan_joint_motion_py)\n",
      "        3    0.041    0.014    0.041    0.014 {posix.read}\n",
      "      437    0.032    0.000    0.032    0.000 {method 'read' of 'file' objects}\n",
      "        3    0.018    0.006    0.018    0.006 {posix.fork}\n",
      "  3880/31    0.007    0.000    0.019    0.001 /usr/lib/python2.7/copy.py:145(deepcopy)\n",
      "     3923    0.004    0.000    0.006    0.000 /home/rnb/Projects/pddlstream/pddlstream/algorithms/../../downward/builds/release/bin/translate/pddl/conditions.py:228(__init__)\n",
      "    15189    0.004    0.000    0.004    0.000 {method 'get' of 'dict' objects}\n",
      "        2    0.004    0.002    0.004    0.002 pkg/planning/motion/moveit/moveit_py.py:218(solve_ik_py)\n",
      "    16092    0.004    0.000    0.005    0.000 {isinstance}\n",
      "1127/1094    0.003    0.000    0.024    0.000 {sorted}\n",
      "\n",
      "\n",
      "\n",
      "Solved: True\n",
      "Cost: 0.000\n",
      "Length: 5\n",
      "Deferred: 0\n",
      "Evaluations: 2\n",
      " 1) move_free q0 q1 c3\n",
      " 2) pick 6 p0 g0 q1 c0\n",
      " 3) move_holding q1 q2 6 g0 c4\n",
      " 4) place 6 p1 g0 q2 c1\n",
      " 5) move_free q2 q0 c2\n"
     ]
    }
   ],
   "source": [
    "goal_pairs = [('box1', 'goal')]\n",
    "res, plan, log_dict = solve_in_pddlstream(pscene, mplan, 'indy0', 'grip0', crob.home_pose, goal_pairs,\n",
    "                                          TIMEOUT_MOTION=0.5, MAX_TIME=30, MAX_ITER=100, MAX_SKELETONS=10,\n",
    "                                          GRASP_SAMPLE=30, STABLE_SAMPLE=50, SHOW_STATE=False, SEARCH_SAMPLE_RATIO=10,\n",
    "                                          use_pybullet_gui=False, USE_MOVEIT_IK=True)"
   ]
  },
  {
   "cell_type": "code",
   "execution_count": 28,
   "metadata": {},
   "outputs": [],
   "source": [
    "play_pddl_plan(pscene, pscene.actor_dict[\"grip0\"], initial_state=initial_state,\n",
    "               body_names=log_dict['body_names'], plan=plan, SHOW_PERIOD=0.01)"
   ]
  },
  {
   "cell_type": "code",
   "execution_count": null,
   "metadata": {},
   "outputs": [],
   "source": []
  }
 ],
 "metadata": {
  "kernelspec": {
   "display_name": "Python 2",
   "language": "python",
   "name": "python2"
  },
  "language_info": {
   "codemirror_mode": {
    "name": "ipython",
    "version": 2
   },
   "file_extension": ".py",
   "mimetype": "text/x-python",
   "name": "python",
   "nbconvert_exporter": "python",
   "pygments_lexer": "ipython2",
   "version": "2.7.17"
  }
 },
 "nbformat": 4,
 "nbformat_minor": 2
}
