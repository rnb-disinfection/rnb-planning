{
 "cells": [
  {
   "cell_type": "markdown",
   "metadata": {},
   "source": [
    "## Check List 1 - Robots\n",
    "* **1.1. indy**  \n",
    "  - joint_move_make_sure, move_joint_s_curve, move_joint_wp, grasp  \n",
    "* **1.2. panda**  \n",
    "  - joint_move_make_sure,  move_joint_s_curve,  move_joint_wp,  grasp  \n",
    "* **1.3. combined_robot**  \n",
    "  - joint_move_make_sure, move_joint_wp, grasp  "
   ]
  },
  {
   "cell_type": "code",
   "execution_count": null,
   "metadata": {},
   "outputs": [],
   "source": []
  },
  {
   "cell_type": "markdown",
   "metadata": {},
   "source": [
    "## set running directory to project source"
   ]
  },
  {
   "cell_type": "code",
   "execution_count": 1,
   "metadata": {},
   "outputs": [],
   "source": [
    "import os\n",
    "import numpy as np\n",
    "import time\n",
    "os.chdir(os.path.join(os.environ[\"RNB_PLANNING_DIR\"], 'src'))"
   ]
  },
  {
   "cell_type": "code",
   "execution_count": null,
   "metadata": {},
   "outputs": [],
   "source": []
  },
  {
   "cell_type": "markdown",
   "metadata": {},
   "source": [
    "## 1.1. indy\n",
    "**Turn indy on, run controller program from rnb-control project**  \n",
    "1. Turn ControlBox's power on.\n",
    "2. Connect to ControlBox's ssh server \n",
    "```\n",
    "ssh user@192.168.0.63\n",
    "```\n",
    "3. Stop the default program\n",
    "```\n",
    "sudo killall -9 UDEVMonitor && sudo killall -9 TaskMan\n",
    "```\n",
    "4. Start the rnb-control version control program.\n",
    "```\n",
    "cd ~/release/IndySDK_2.3.0.1/ && sudo ./TaskManager -j indyDeploy.json\n",
    "```  \n",
    "5. Connect Conty and reset the robot in Conty (There is jitter a issue without conty connection)\n",
    "\n",
    "***WARNING: Clear the space around the robot! The robot will move.***"
   ]
  },
  {
   "cell_type": "code",
   "execution_count": 23,
   "metadata": {},
   "outputs": [],
   "source": [
    "from pkg.controller.trajectory_client.indy_trajectory_client import IndyTrajectoryClient\n",
    "INDY_IP = \"192.168.0.63\"\n",
    "INDY_HOME = [0, 0, -np.pi / 2, 0, -np.pi / 2, 0]"
   ]
  },
  {
   "cell_type": "markdown",
   "metadata": {},
   "source": [
    "##### create IndyTrajectoryClient"
   ]
  },
  {
   "cell_type": "code",
   "execution_count": 24,
   "metadata": {},
   "outputs": [
    {
     "name": "stdout",
     "output_type": "stream",
     "text": [
      "Connect: Server IP (192.168.0.63)\n"
     ]
    }
   ],
   "source": [
    "indy = IndyTrajectoryClient(server_ip=INDY_IP)"
   ]
  },
  {
   "cell_type": "markdown",
   "metadata": {},
   "source": [
    "##### joint_move_make_sure()\n",
    "  * This command will move indy to given position, using functions of IndyDCPClient."
   ]
  },
  {
   "cell_type": "code",
   "execution_count": 25,
   "metadata": {},
   "outputs": [
    {
     "name": "stdout",
     "output_type": "stream",
     "text": [
      "Connect: Server IP (192.168.0.63)\n",
      "Connect: Server IP (192.168.0.63)\n"
     ]
    }
   ],
   "source": [
    "indy.joint_move_make_sure(INDY_HOME)"
   ]
  },
  {
   "cell_type": "markdown",
   "metadata": {},
   "source": [
    "##### move_joint_s_curve(qtar, N_div=100)\n",
    "  * This command will move indy to given position, with a double S velocity profile. \n",
    "  * N_div is the number of steps to divide motion"
   ]
  },
  {
   "cell_type": "code",
   "execution_count": 26,
   "metadata": {},
   "outputs": [
    {
     "name": "stdout",
     "output_type": "stream",
     "text": [
      "Connect: Server IP (192.168.0.63)\n",
      "Connect: Server IP (192.168.0.63)\n"
     ]
    }
   ],
   "source": [
    "indy.move_joint_s_curve(np.add(INDY_HOME, [0.2]*6), N_div=100)"
   ]
  },
  {
   "cell_type": "markdown",
   "metadata": {},
   "source": [
    "##### move_joint_wp()\n",
    "  * This command will move indy along given waypoint positions.\n",
    "  * vel_lims & acc_lims are velocity and acceleration limits for the joints. They can be both scalar and vector, in radians.\n",
    "  * vel_lims & acc_lims are approaximately applied. Check the source code for detail"
   ]
  },
  {
   "cell_type": "code",
   "execution_count": 73,
   "metadata": {},
   "outputs": [
    {
     "name": "stdout",
     "output_type": "stream",
     "text": [
      "Connect: Server IP (192.168.0.63)\n"
     ]
    }
   ],
   "source": [
    "indy.move_joint_wp(\n",
    "    [np.add(INDY_HOME, [0]*6), \n",
    "     np.add(INDY_HOME, [0.4]*6), \n",
    "     np.add(INDY_HOME, [-0.4]*6), \n",
    "     np.array([0]*6),\n",
    "     INDY_HOME\n",
    "    ], \n",
    "    vel_lims=[2]*6, acc_lims=[4.0]*6)"
   ]
  },
  {
   "cell_type": "markdown",
   "metadata": {},
   "source": [
    "##### grasp()\n",
    "  * This command will move indy gripper, if one is attached."
   ]
  },
  {
   "cell_type": "code",
   "execution_count": 7,
   "metadata": {},
   "outputs": [
    {
     "name": "stdout",
     "output_type": "stream",
     "text": [
      "Connect: Server IP (192.168.0.63)\n",
      "Connect: Server IP (192.168.0.63)\n"
     ]
    }
   ],
   "source": [
    "indy.grasp(True)\n",
    "time.sleep(0.5)\n",
    "indy.grasp(False)\n",
    "time.sleep(0.5)"
   ]
  },
  {
   "cell_type": "code",
   "execution_count": null,
   "metadata": {},
   "outputs": [],
   "source": []
  },
  {
   "cell_type": "markdown",
   "metadata": {},
   "source": [
    "## 1.2. panda\n",
    "**Turn panda and host computer on, run controller program from rnb-control project**  \n",
    "1. Turn panda robot and host computer power on\n",
    "2. When panda is prepared, open Frank Emika Desk on a web browser (https://192.168.0.13/desk/)\n",
    "3. On right side, click \"unlock\" icon to unlock joints.\n",
    "4. Connect to host computer's ssh server \n",
    "```\n",
    "ssh panda@192.168.0.172\n",
    "```\n",
    "5. Hold the enabling switch handle.\n",
    "6. Run panda control program in ssh\n",
    "```\n",
    "roslaunch panda_control joint_control_rnb.launch robot_ip:=192.168.0.13 load_gripper:=false\n",
    "```\n",
    "7. When the robot stops due to collision or acceleration limit, repeat 5~6 to re-start the control program  \n",
    "\n",
    "***WARNING: Clear the space around the robot! The robot will move.***"
   ]
  },
  {
   "cell_type": "code",
   "execution_count": 2,
   "metadata": {},
   "outputs": [],
   "source": [
    "from pkg.controller.trajectory_client.panda_trajectory_client import PandaTrajectoryClient\n",
    "PANDA_HOST_IP = \"192.168.0.172\" ## The host computer is the computer that runs control program\n",
    "PANDA_ROBOT_IP = \"192.168.0.13\" ## The robot has it's own IP\n",
    "PANDA_HOME = [0, -np.pi / 8, 0, -np.pi / 2, 0, np.pi / 2, np.pi / 2]"
   ]
  },
  {
   "cell_type": "code",
   "execution_count": 3,
   "metadata": {},
   "outputs": [],
   "source": [
    "import rospy\n",
    "rospy.init_node(\"panda_test\") # ros node is initialized because panda gripper uses ros api. "
   ]
  },
  {
   "cell_type": "markdown",
   "metadata": {},
   "source": [
    "##### create PandaTrajectoryClient"
   ]
  },
  {
   "cell_type": "code",
   "execution_count": 4,
   "metadata": {},
   "outputs": [],
   "source": [
    "panda = PandaTrajectoryClient(server_ip=PANDA_HOST_IP, robot_ip=PANDA_ROBOT_IP)"
   ]
  },
  {
   "cell_type": "markdown",
   "metadata": {},
   "source": [
    "##### joint_move_make_sure()\n",
    "  * This command will move panda to given position. panda uses move_joint_s_curve"
   ]
  },
  {
   "cell_type": "code",
   "execution_count": 9,
   "metadata": {},
   "outputs": [],
   "source": [
    "panda.joint_move_make_sure(PANDA_HOME)"
   ]
  },
  {
   "cell_type": "code",
   "execution_count": 8,
   "metadata": {},
   "outputs": [],
   "source": [
    "panda.move_joint_wp(\n",
    "    [np.add(PANDA_HOME, [0]*7), \n",
    "     np.add(PANDA_HOME, [0.4]*7), \n",
    "     np.add(PANDA_HOME, [0]*7)], \n",
    "    vel_lims=np.array([1]*7), acc_lims=np.array([1.5]*7))"
   ]
  },
  {
   "cell_type": "markdown",
   "metadata": {},
   "source": [
    "##### move_joint_s_curve(qtar, N_div=100)\n",
    "  * This command will move panda to given position, with a double S velocity profile. \n",
    "  * N_div is the number of steps to divide motion"
   ]
  },
  {
   "cell_type": "code",
   "execution_count": 535,
   "metadata": {},
   "outputs": [],
   "source": [
    "panda.move_joint_s_curve(np.add(PANDA_HOME, [0.2]*7), N_div=100)\n",
    "panda.joint_move_make_sure(PANDA_HOME)"
   ]
  },
  {
   "cell_type": "markdown",
   "metadata": {},
   "source": [
    "##### move_joint_wp()\n",
    "  * This command will move panda along given waypoint positions.\n",
    "  * vel_lims & acc_lims are velocity and acceleration limits for the joints. They can be both scalar and vector, in radians.\n",
    "  * vel_lims & acc_lims are approaximately applied. Check the source code for detail"
   ]
  },
  {
   "cell_type": "code",
   "execution_count": 11,
   "metadata": {},
   "outputs": [],
   "source": [
    "panda.move_joint_wp(\n",
    "    [np.add(PANDA_HOME, [0]*7), \n",
    "     np.add(PANDA_HOME, [0.2]*7), \n",
    "     np.add(PANDA_HOME, [0.1]*7), \n",
    "     np.add(PANDA_HOME, [0.3]*7), \n",
    "     np.add(PANDA_HOME, [0.25]*7), \n",
    "     np.add(PANDA_HOME, [0.3]*7), \n",
    "     np.add(PANDA_HOME, [0.15]*7), \n",
    "     np.add(PANDA_HOME, [0.4]*7), \n",
    "     np.add(PANDA_HOME, [0.25]*7), \n",
    "     np.add(PANDA_HOME, [0.3]*7), \n",
    "     np.add(PANDA_HOME, [0.15]*7), \n",
    "     np.add(PANDA_HOME, [0.4]*7), \n",
    "     np.add(PANDA_HOME, [0.3]*7), \n",
    "     np.add(PANDA_HOME, [0.4]*7), \n",
    "     np.add(PANDA_HOME, [0.3]*7), \n",
    "     np.add(PANDA_HOME, [0.4]*7), \n",
    "     np.add(PANDA_HOME, [0.3]*7), \n",
    "     np.add(PANDA_HOME, [0.4]*7), \n",
    "     np.add(PANDA_HOME, [0.3]*7), \n",
    "     np.add(PANDA_HOME, [0.4]*7), \n",
    "     np.add(PANDA_HOME, [-0.3]*7), \n",
    "     np.add(PANDA_HOME, [-0.25]*7), \n",
    "     np.add(PANDA_HOME, [-0.3]*7), \n",
    "     np.add(PANDA_HOME, [-0.1]*7), \n",
    "     np.add(PANDA_HOME, [0]*7)], \n",
    "    vel_lims=np.array([1.5]*7), acc_lims=np.array([3.14]*7))"
   ]
  },
  {
   "cell_type": "markdown",
   "metadata": {},
   "source": [
    "##### grasp()\n",
    "  * This command will move panda gripper."
   ]
  },
  {
   "cell_type": "code",
   "execution_count": 14,
   "metadata": {},
   "outputs": [],
   "source": [
    "panda.grasp(True)\n",
    "time.sleep(0.5)\n",
    "panda.grasp(False)\n",
    "time.sleep(0.5)"
   ]
  },
  {
   "cell_type": "code",
   "execution_count": null,
   "metadata": {},
   "outputs": [],
   "source": []
  },
  {
   "cell_type": "markdown",
   "metadata": {},
   "source": [
    "## 1.3. CombinedRobot\n",
    "**Turn indy and panda on**  \n",
    "***WARNING: Clear the space around the robots! The robots will move.***"
   ]
  },
  {
   "cell_type": "code",
   "execution_count": 3,
   "metadata": {},
   "outputs": [],
   "source": [
    "from pkg.controller.combined_robot import CombinedRobot\n",
    "from pkg.controller.robot_config import RobotConfig, RobotType\n",
    "INDY_IP = \"192.168.0.63\"\n",
    "PANDA_HOST_IP = \"192.168.0.172\" ## The host computer is the computer that runs control program\n",
    "PANDA_ROBOT_IP = \"192.168.0.13\" ## The robot has it's own IP"
   ]
  },
  {
   "cell_type": "code",
   "execution_count": 4,
   "metadata": {},
   "outputs": [],
   "source": [
    "import rospy\n",
    "rospy.init_node(\"panda_test\") # ros node is initialized because panda gripper uses ros api. "
   ]
  },
  {
   "cell_type": "markdown",
   "metadata": {},
   "source": [
    "##### create CombinedRobot instance"
   ]
  },
  {
   "cell_type": "code",
   "execution_count": 5,
   "metadata": {},
   "outputs": [
    {
     "name": "stdout",
     "output_type": "stream",
     "text": [
      "connection command:\n",
      "indy0: [False, False]\n",
      "Connect: Server IP (192.168.0.63)\n"
     ]
    }
   ],
   "source": [
    "combined_robot = CombinedRobot(\n",
    "    robots_on_scene=[\n",
    "        RobotConfig(0, RobotType.indy7, ((0,-0.3,0), (0,0,0)),\n",
    "                    INDY_IP),\n",
    "        RobotConfig(1, RobotType.panda, ((0,0.3,0), (0,0,0)),\n",
    "                    \"{}/{}\".format(PANDA_HOST_IP, PANDA_ROBOT_IP))], \n",
    "    connection_list=[False, False])\n",
    "\n",
    "# CombinedRobot has combined home pose.\n",
    "# Default home pose for each robot is defined in pkg.controller.robot_config.RobotSpecs\n",
    "COMBINED_HOME = combined_robot.home_pose \n",
    "COMBINED_JOINT_NUM = combined_robot.joint_num"
   ]
  },
  {
   "cell_type": "markdown",
   "metadata": {},
   "source": [
    "##### reset_connection(bool, bool, ...)\n",
    "* reset connection status as given as arguments"
   ]
  },
  {
   "cell_type": "code",
   "execution_count": 6,
   "metadata": {},
   "outputs": [
    {
     "name": "stdout",
     "output_type": "stream",
     "text": [
      "connection command:\n",
      "indy0: True\n",
      "panda1: True\n"
     ]
    }
   ],
   "source": [
    "combined_robot.reset_connection(True, True)"
   ]
  },
  {
   "cell_type": "code",
   "execution_count": null,
   "metadata": {},
   "outputs": [],
   "source": []
  },
  {
   "cell_type": "markdown",
   "metadata": {},
   "source": [
    "##### joint_move_make_sure()\n",
    "  * This command will move both robots to given position, one-by-one."
   ]
  },
  {
   "cell_type": "code",
   "execution_count": 18,
   "metadata": {},
   "outputs": [
    {
     "name": "stdout",
     "output_type": "stream",
     "text": [
      "Connect: Server IP (192.168.0.63)\n",
      "Connect: Server IP (192.168.0.63)\n"
     ]
    }
   ],
   "source": [
    "combined_robot.joint_move_make_sure(COMBINED_HOME)"
   ]
  },
  {
   "cell_type": "markdown",
   "metadata": {},
   "source": [
    "##### move_joint_wp()\n",
    "  * This command will move the robots along given waypoint positions, one-by-one.\n",
    "  * vel_scale & acc_scale are ratio to pre-defined velocity and acceleration limits in scaler. The pre-defined values are in pkg.controller.robot_config.RobotSpecs"
   ]
  },
  {
   "cell_type": "code",
   "execution_count": 19,
   "metadata": {},
   "outputs": [
    {
     "name": "stdout",
     "output_type": "stream",
     "text": [
      "Connect: Server IP (192.168.0.63)\n"
     ]
    }
   ],
   "source": [
    "combined_robot.move_joint_wp(\n",
    "    [np.add(COMBINED_HOME, [0]*COMBINED_JOINT_NUM), \n",
    "     np.add(COMBINED_HOME, [0.2]*COMBINED_JOINT_NUM), \n",
    "     np.add(COMBINED_HOME, [-0.2]*COMBINED_JOINT_NUM), \n",
    "     np.add(COMBINED_HOME, [0]*COMBINED_JOINT_NUM)], \n",
    "    vel_scale=0.5, acc_scale=0.5)"
   ]
  },
  {
   "cell_type": "markdown",
   "metadata": {},
   "source": [
    "##### grasp(robot1=bool, robot2=bool, ...)\n",
    "  * This command will move each robot gripper."
   ]
  },
  {
   "cell_type": "code",
   "execution_count": 21,
   "metadata": {},
   "outputs": [
    {
     "name": "stdout",
     "output_type": "stream",
     "text": [
      "Connect: Server IP (192.168.0.63)\n",
      "Connect: Server IP (192.168.0.63)\n"
     ]
    }
   ],
   "source": [
    "combined_robot.grasp(indy0=True, panda1=True)\n",
    "time.sleep(0.5)\n",
    "combined_robot.grasp(indy0=False, panda1=False)\n",
    "time.sleep(0.5)"
   ]
  },
  {
   "cell_type": "code",
   "execution_count": null,
   "metadata": {},
   "outputs": [],
   "source": []
  }
 ],
 "metadata": {
  "kernelspec": {
   "display_name": "Python 2",
   "language": "python",
   "name": "python2"
  },
  "language_info": {
   "codemirror_mode": {
    "name": "ipython",
    "version": 2
   },
   "file_extension": ".py",
   "mimetype": "text/x-python",
   "name": "python",
   "nbconvert_exporter": "python",
   "pygments_lexer": "ipython2",
   "version": "2.7.17"
  }
 },
 "nbformat": 4,
 "nbformat_minor": 2
}
