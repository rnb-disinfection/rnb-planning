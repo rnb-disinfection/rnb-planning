{
 "cells": [
  {
   "cell_type": "code",
   "execution_count": null,
   "metadata": {},
   "outputs": [],
   "source": [
    "import tensorflow as tf\n",
    "from tensorflow import keras\n",
    "from tensorflow.keras import layers\n",
    "from tensorflow.keras import backend as K\n",
    "import numpy as np"
   ]
  },
  {
   "cell_type": "code",
   "execution_count": null,
   "metadata": {},
   "outputs": [],
   "source": [
    "import matplotlib.pyplot as plt\n",
    "import time"
   ]
  },
  {
   "cell_type": "code",
   "execution_count": null,
   "metadata": {},
   "outputs": [],
   "source": [
    "from pkg.tf_transform import *\n",
    "from pkg.tf_robot import *\n",
    "from pkg.constraint import *\n",
    "from pkg.info import *\n",
    "from pkg.tf_utils import *\n",
    "from pkg.rotation_utils import *\n",
    "from pkg.utils import *"
   ]
  },
  {
   "cell_type": "markdown",
   "metadata": {},
   "source": [
    "# Load urdf "
   ]
  },
  {
   "cell_type": "code",
   "execution_count": null,
   "metadata": {},
   "outputs": [],
   "source": [
    "from urdf_parser_py.urdf import URDF\n",
    "from pkg.ur10 import URDF_PATH, JOINT_NAMES, LINK_NAMES, ZERO_JOINT_POSE\n",
    "from pkg.joint_utils import *\n",
    "urdf_content = URDF.from_xml_file(URDF_PATH)"
   ]
  },
  {
   "cell_type": "code",
   "execution_count": null,
   "metadata": {},
   "outputs": [],
   "source": [
    "link_names = LINK_NAMES\n",
    "base_name = LINK_NAMES[0]\n",
    "joint_names = JOINT_NAMES\n",
    "link_info_list = get_link_info_list(link_names, urdf_content)"
   ]
  },
  {
   "cell_type": "markdown",
   "metadata": {},
   "source": [
    "# Visualize"
   ]
  },
  {
   "cell_type": "code",
   "execution_count": null,
   "metadata": {},
   "outputs": [],
   "source": [
    "from pkg.ros_rviz import *\n",
    "pub, joints, rate = get_publisher(JOINT_NAMES)"
   ]
  },
  {
   "cell_type": "markdown",
   "metadata": {},
   "source": [
    "# Constraint"
   ]
  },
  {
   "cell_type": "code",
   "execution_count": null,
   "metadata": {},
   "outputs": [],
   "source": [
    "from pkg.geometry import *"
   ]
  },
  {
   "cell_type": "code",
   "execution_count": null,
   "metadata": {},
   "outputs": [],
   "source": [
    "def get_adjacent_links(link_name, urdf_content):\n",
    "    adjacent_links = [link_name]\n",
    "    for k, v in urdf_content.joint_map.items():\n",
    "        if v.parent == link_name:\n",
    "            adjacent_links += [v.child]\n",
    "        if v.child == link_name:\n",
    "            adjacent_links += [v.parent]\n",
    "    return list(set(adjacent_links))"
   ]
  },
  {
   "cell_type": "code",
   "execution_count": null,
   "metadata": {},
   "outputs": [],
   "source": [
    "class ObjectLayer(layers.Layer):\n",
    "    def __init__(self, gitem, N_sim, *args, **kwargs):\n",
    "        self.gitem, self.N_sim = gitem, N_sim\n",
    "        super(ObjectLayer, self).__init__(*args, **kwargs)\n",
    "        \n",
    "    def set_frame(self, Toff_list, link_idx_list, N_link):\n",
    "        self.Toff_list = tf.constant(Toff_list) # (N_sim, 4,4)\n",
    "        self.link_one_hot = tf.reshape(tf.one_hot(link_idx_list, N_link), (N_sim,N_link,1,1)) # (N_sim, N_link)\n",
    "        \n",
    "    # 변수를 만듭니다.\n",
    "    def build(self, input_shape):\n",
    "        pass\n",
    "\n",
    "    # call 메서드가 그래프 모드에서 사용되면\n",
    "    # training 변수는 텐서가 됩니다.\n",
    "    @tf.function\n",
    "    def call(self, input=None):\n",
    "        T_all = input # (N_sim, N_link, 4,4)\n",
    "        T_act = K.sum(T_all*self.link_one_hot, axis=1) # (N_sim, 4,4)\n",
    "        T_bo = tf.matmul(T_act, self.Toff_list) # (N_sim, 4,4)\n",
    "        return T_bo"
   ]
  },
  {
   "cell_type": "code",
   "execution_count": null,
   "metadata": {},
   "outputs": [],
   "source": []
  },
  {
   "cell_type": "markdown",
   "metadata": {},
   "source": [
    "# Graph"
   ]
  },
  {
   "cell_type": "code",
   "execution_count": null,
   "metadata": {},
   "outputs": [],
   "source": [
    "class GraphModel(tf.keras.Model):\n",
    "    def __init__(self, robot_info, gitem_list, N_sim, alpha_jc=5, alpha_fc=200, alpha_jl=1e-3, LIM=np.pi):\n",
    "        super(GraphModel, self).__init__()\n",
    "        self.alpha_jc = alpha_jc\n",
    "        self.alpha_fc = alpha_fc\n",
    "        self.alpha_jl = alpha_jl\n",
    "        self.LIM = LIM\n",
    "        self.robot_info = robot_info\n",
    "        self.robot = RobotLayer(\n",
    "            robot_info.link_info_list, rname = robot_info.rname, dim=N_sim)\n",
    "        self.joint_constraint = JointConstraintLoss(self.robot)\n",
    "        self.frame_constraint = FrameConstraintLoss()\n",
    "        self.robot_base = [robot_info.base_frame]*N_sim\n",
    "            \n",
    "        self.object_dict = {}\n",
    "        self.object_name_list = []\n",
    "        for gitem in gitem_list:\n",
    "            self.object_dict[gitem.name] = ObjectLayer(gitem, N_sim)\n",
    "            self.object_name_list += [gitem.name]\n",
    "            \n",
    "    def assign_frame_dict(self, gframeset_list):\n",
    "        frame_dict = {k: [] for k in self.object_dict.keys()}\n",
    "        link_dict = {k: [] for k in self.object_dict.keys()}\n",
    "        for gframeset in gframeset_list:\n",
    "            for k, gframe in gframeset.items():\n",
    "                frame_dict[k] += [gframe.Toff]\n",
    "                link_dict[k] += [self.robot.link_name_list.index(gframe.link_name)]\n",
    "        for k in frame_dict.keys():\n",
    "            self.object_dict[k].set_frame(np.array(frame_dict[k]), np.array(link_dict[k]), self.robot.len_Q)\n",
    "            \n",
    "    @tf.function\n",
    "    def assign_Q(self, Q):\n",
    "        self.robot.assign_Q(Q)\n",
    "            \n",
    "    @tf.function\n",
    "    def get_Q(self):\n",
    "        return self.robot.get_Q()\n",
    "\n",
    "    @tf.function\n",
    "    def call(self, inputs=None):\n",
    "        T_all = self.robot(self.robot_base)\n",
    "        Tbo_all = []\n",
    "        for obj_name in self.object_name_list:\n",
    "            Tbo_all += [self.object_dict[obj_name](T_all)] #(Nobj,N_sim,4,4)\n",
    "        Tbo_all = K.stack(Tbo_all, axis=1) #(N_sim,Nobj,4,4)\n",
    "        return T_all, Tbo_all\n",
    "    \n",
    "    @tf.function\n",
    "    def calc_joint_limit(self):\n",
    "        Q = self.get_Q()\n",
    "        return K.sum(1/(K.min(((self.LIM-Q), (self.LIM+Q)), axis=-1)**3))\n",
    "    \n",
    "    @tf.function\n",
    "    def calc_loss(self, T_all, Tbo_all, Qtar, binQ, Ttar, binT):\n",
    "        jl_loss = self.calc_joint_limit()\n",
    "        jc_loss = self.joint_constraint((Qtar, binQ))\n",
    "        fc_loss = self.frame_constraint((T_all[:,-1,:,:],Ttar, binT))\n",
    "        return self.alpha_jc*jc_loss+self.alpha_fc*fc_loss+self.alpha_jl*jl_loss\n"
   ]
  },
  {
   "cell_type": "code",
   "execution_count": null,
   "metadata": {},
   "outputs": [],
   "source": [
    "N_sim = 50\n",
    "N_joints = 9\n",
    "DOF = 6\n",
    "robot_info = RobotInfo(link_info_list, rname = \"rbt1\", base_frame=np.identity(4,dtype=np.float32))\n",
    "gitem_list = [\n",
    "    GeometryItem(name='box1', gtype=GeoType.BOX, dims=[0.1,0.1,0.1], color=(0,1,0,1), display=True, collision=True),\n",
    "    GeometryItem(name='tool', gtype=GeoType.BOX, dims=[0.1,0.1,0.1], color=(0,1,0,1), display=True, collision=True),\n",
    "]\n",
    "gframe_dict = {\"box1\":GeometryFrame(SE3(Rot_zyx(0,0,0),(0.5,0,0)), \"world\"),\n",
    "               \"tool\":GeometryFrame(SE3(Rot_zyx(0,0,0),(0.0,0.0,0.1)), \"tool0\")\n",
    "              }\n",
    "marker_list = set_markers(gitem_list, gframe_dict, urdf_content)\n",
    "graph = GraphModel(robot_info=robot_info, gitem_list=gitem_list, N_sim=N_sim)\n",
    "optimizer = tf.optimizers.SGD(learning_rate=5e-3)"
   ]
  },
  {
   "cell_type": "code",
   "execution_count": null,
   "metadata": {},
   "outputs": [],
   "source": []
  },
  {
   "cell_type": "markdown",
   "metadata": {},
   "source": [
    "# SGD Optimizer"
   ]
  },
  {
   "cell_type": "code",
   "execution_count": null,
   "metadata": {},
   "outputs": [],
   "source": [
    "def joint_constraint(Q): \n",
    "    return [np.pi-q for q in Q] + \\\n",
    "        [np.pi+q for q in Q]"
   ]
  },
  {
   "cell_type": "code",
   "execution_count": null,
   "metadata": {},
   "outputs": [],
   "source": [
    "Q_ = np.array([(0, 0,)+tuple(ZERO_JOINT_POSE+(np.random.rand(DOF)*2-1)*np.pi/3)+(0,) for _ in range(N_sim)], dtype=np.float32)\n",
    "Ttar = SE3(Rot_zyx(0,0,np.pi),(0.5,0,0)).astype(np.float32)\n",
    "gframe_dict_list = [gframe_dict]*N_sim\n",
    "graph.assign_Q(Q_)\n",
    "graph.assign_frame_dict(gframe_dict_list)"
   ]
  },
  {
   "cell_type": "code",
   "execution_count": null,
   "metadata": {
    "scrolled": true
   },
   "outputs": [],
   "source": [
    "time_vec = []\n",
    "Q_list = [list(map(lambda x: x.numpy(), graph.get_Q()))]\n",
    "Tbo_all_list = [np.array([[gframe_dict[gitem.name].Toff for gitem in gitem_list]]*N_sim)]\n",
    "N_iter = 100\n",
    "# Run training for the given number of steps.\n",
    "for _ in range(N_iter):\n",
    "    # Run the optimization to update W and b values.\n",
    "    t1 = time.time()\n",
    "    with tf.GradientTape() as g:\n",
    "        # Forward pass.\n",
    "        T_all, Tbo_all= graph(None)\n",
    "        loss = graph.calc_loss(T_all, Tbo_all, \n",
    "                               np.zeros((N_sim, N_joints), dtype='float32'), np.zeros(N_sim, dtype='float32'),\n",
    "                               np.array([Ttar]*N_sim), np.ones(N_sim, dtype='float32'))\n",
    "        \n",
    "    # Variables to update, i.e. trainable variables.\n",
    "    trainable_variables = graph.trainable_variables\n",
    "\n",
    "    # Compute gradients.\n",
    "    gradients = g.gradient(loss, trainable_variables)\n",
    "    gradients = clip_gradient(gradients, 10)\n",
    "    \n",
    "    # Update W and b following gradients.\n",
    "    optimizer.apply_gradients(zip(gradients, trainable_variables))\n",
    "    t2 = time.time()\n",
    "    time_vec += [t2-t1]\n",
    "    Q_list += [list(map(lambda x: x.numpy(), graph.get_Q()))]\n",
    "    Tbo_all_list += [np.array(Tbo_all)]\n",
    "print(\"mean {} ms\".format(round(np.mean(time_vec)*1000,2)))\n",
    "print(\"total {} ms\".format(round(np.sum(time_vec)*1000,2)))\n",
    "print(\"loss = {}\".format(loss))"
   ]
  },
  {
   "cell_type": "code",
   "execution_count": null,
   "metadata": {},
   "outputs": [],
   "source": [
    "for i_sim in range(1): # N_sim):\n",
    "    for i_iter in range(1,N_iter+1):\n",
    "        q = Q_list[i_iter][i_sim]\n",
    "        gframevec = [gframe_dict[gitem.name] for gitem in gitem_list]\n",
    "        pose_list = [q[2:-1]]\n",
    "        gframevec_list = [gframevec]\n",
    "        show_motion(pose_list, marker_list, gframevec_list, pub, joints, error_skip=1e-6, period=1e-6)\n",
    "        time.sleep(2e-2)"
   ]
  },
  {
   "cell_type": "code",
   "execution_count": null,
   "metadata": {},
   "outputs": [],
   "source": [
    "Q_all = np.array(Q_list)\n",
    "Q_all_i = np.array([Q_all[i_iter, i_sim,:] for i_iter in range(N_iter)])\n",
    "plt.plot(Q_all_i)"
   ]
  },
  {
   "cell_type": "code",
   "execution_count": null,
   "metadata": {
    "scrolled": true
   },
   "outputs": [],
   "source": [
    "plt.plot(Q_all_i[1:,:]-Q_all_i[:-1,:])"
   ]
  },
  {
   "cell_type": "code",
   "execution_count": null,
   "metadata": {},
   "outputs": [],
   "source": []
  },
  {
   "cell_type": "code",
   "execution_count": null,
   "metadata": {},
   "outputs": [],
   "source": []
  },
  {
   "cell_type": "code",
   "execution_count": null,
   "metadata": {},
   "outputs": [],
   "source": []
  },
  {
   "cell_type": "code",
   "execution_count": null,
   "metadata": {},
   "outputs": [],
   "source": [
    "import numpy as np"
   ]
  },
  {
   "cell_type": "code",
   "execution_count": null,
   "metadata": {},
   "outputs": [],
   "source": [
    "import matplotlib.pyplot as plt"
   ]
  },
  {
   "cell_type": "code",
   "execution_count": null,
   "metadata": {},
   "outputs": [],
   "source": [
    "import mpl_toolkits.mplot3d as mplot3d"
   ]
  },
  {
   "cell_type": "code",
   "execution_count": null,
   "metadata": {},
   "outputs": [],
   "source": [
    "fig = plt.figure()\n",
    "sub = fig.add_subplot(1,1,1,projection=\"3d\")\n",
    "sub.plot(x,y,z)\n",
    "plt.show()"
   ]
  },
  {
   "cell_type": "code",
   "execution_count": null,
   "metadata": {},
   "outputs": [],
   "source": [
    "t = np.linspace(0,4*np.pi,500)\n",
    "x = np.sin(t)\n",
    "x = np.cos(t)\n",
    "y = np.sin(t)\n",
    "z = t"
   ]
  },
  {
   "cell_type": "code",
   "execution_count": null,
   "metadata": {},
   "outputs": [],
   "source": []
  },
  {
   "cell_type": "code",
   "execution_count": null,
   "metadata": {},
   "outputs": [],
   "source": []
  }
 ],
 "metadata": {
  "kernelspec": {
   "display_name": "Python 3",
   "language": "python",
   "name": "python3"
  },
  "language_info": {
   "codemirror_mode": {
    "name": "ipython",
    "version": 3
   },
   "file_extension": ".py",
   "mimetype": "text/x-python",
   "name": "python",
   "nbconvert_exporter": "python",
   "pygments_lexer": "ipython3",
   "version": "3.6.9"
  }
 },
 "nbformat": 4,
 "nbformat_minor": 2
}
