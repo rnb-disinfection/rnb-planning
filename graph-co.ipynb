{
 "cells": [
  {
   "cell_type": "code",
   "execution_count": 1,
   "metadata": {},
   "outputs": [],
   "source": [
    "# Disable GPU\n",
    "import os\n",
    "os.environ[\"CUDA_VISIBLE_DEVICES\"] = \"-1\"\n",
    "import tensorflow as tf"
   ]
  },
  {
   "cell_type": "code",
   "execution_count": 2,
   "metadata": {},
   "outputs": [],
   "source": [
    "import matplotlib.pyplot as plt\n",
    "import time"
   ]
  },
  {
   "cell_type": "code",
   "execution_count": 3,
   "metadata": {},
   "outputs": [],
   "source": [
    "from tensorflow import keras\n",
    "from tensorflow.keras import layers\n",
    "from tensorflow.keras import backend as K\n",
    "import numpy as np\n",
    "from itertools import combinations\n",
    "from enum import Enum"
   ]
  },
  {
   "cell_type": "code",
   "execution_count": 4,
   "metadata": {},
   "outputs": [],
   "source": [
    "from urdf_parser_py.urdf import URDF\n",
    "from pkg.ur10 import URDF_PATH, JOINT_NAMES, LINK_NAMES, ZERO_JOINT_POSE\n",
    "from pkg.joint_utils import *\n",
    "from pkg.ros_rviz import *"
   ]
  },
  {
   "cell_type": "code",
   "execution_count": 5,
   "metadata": {},
   "outputs": [],
   "source": [
    "from pkg.tf_transform import *\n",
    "from pkg.tf_robot import *\n",
    "from pkg.constraint import *\n",
    "from pkg.info import *\n",
    "from pkg.tf_utils import *\n",
    "from pkg.rotation_utils import *\n",
    "from pkg.utils import *\n",
    "from pkg.ur10 import *\n",
    "from pkg.geometry import *\n",
    "from pkg.collision import *\n",
    "from pkg.distance import *\n",
    "from pkg.distance_calculator import *\n",
    "from pkg.binding_calculator import *\n",
    "from pkg.graph_tf import *"
   ]
  },
  {
   "cell_type": "code",
   "execution_count": null,
   "metadata": {},
   "outputs": [],
   "source": []
  },
  {
   "cell_type": "code",
   "execution_count": 6,
   "metadata": {},
   "outputs": [],
   "source": [
    "def get_by_name(item_list, name):\n",
    "    return [item for item in item_list if item.name==name][0]"
   ]
  },
  {
   "cell_type": "code",
   "execution_count": 7,
   "metadata": {},
   "outputs": [],
   "source": [
    "def get_box_binding(box, btype=BindingType.SUCC, hexahedral=False):\n",
    "    box_name, dims = box.name, box.dims\n",
    "    Xhalf, Yhalf, Zhalf = np.array(dims)/2\n",
    "    bindings = [BindingInfo(\n",
    "                    name=box_name+'-top', btype=btype, obj_name=box_name, \n",
    "                    gtype=GeoType.SPHERE, Toff=SE3(Rot_zyx(0,0,0), (0,0,Zhalf))), \n",
    "                BindingInfo(\n",
    "                    name=box_name+'-bottom', btype=btype, obj_name=box_name, \n",
    "                    gtype=GeoType.SPHERE, Toff=SE3(Rot_zyx(0,0,np.pi), (0,0,-Zhalf)))]\n",
    "    if hexahedral:\n",
    "        bindings += [\n",
    "            BindingInfo(\n",
    "                name=box_name+'-right', btype=btype, obj_name=box_name, \n",
    "                gtype=GeoType.SPHERE, Toff=SE3(Rot_zyx(0,np.pi/2,0), (Xhalf,0,0))), \n",
    "            BindingInfo(\n",
    "                name=box_name+'-left', btype=btype, obj_name=box_name, \n",
    "                gtype=GeoType.SPHERE, Toff=SE3(Rot_zyx(0,-np.pi/2,0), (-Xhalf,0,0))),\n",
    "            BindingInfo(\n",
    "                name=box_name+'-front', btype=btype, obj_name=box_name, \n",
    "                gtype=GeoType.SPHERE, Toff=SE3(Rot_zyx(np.pi/2,0,0), (0,-Yhalf,0))), \n",
    "            BindingInfo(\n",
    "                name=box_name+'-back', btype=btype, obj_name=box_name, \n",
    "                gtype=GeoType.SPHERE, Toff=SE3(Rot_zyx(-np.pi/2,0,0), (0,Yhalf,0)))\n",
    "            \n",
    "        ]\n",
    "    return bindings\n",
    "    "
   ]
  },
  {
   "cell_type": "code",
   "execution_count": 8,
   "metadata": {},
   "outputs": [],
   "source": [
    "\n",
    "class Scenario(Enum):\n",
    "    single_object_single_robot = 0\n",
    "    double_object_single_robot = 1\n",
    "    single_object_dual_robot = 2\n",
    "    assembly_3_piece = 3"
   ]
  },
  {
   "cell_type": "code",
   "execution_count": null,
   "metadata": {},
   "outputs": [],
   "source": []
  },
  {
   "cell_type": "code",
   "execution_count": 9,
   "metadata": {},
   "outputs": [],
   "source": [
    "class State:\n",
    "    def __init__(self, node, obj_pos_dict, Q):\n",
    "        self.node = node\n",
    "        self.obj_pos_dict = obj_pos_dict\n",
    "        self.Q = Q\n",
    "    \n",
    "    def get_tuple(self):\n",
    "        return (self.node, self.obj_pos_dict, self.Q)\n",
    "    \n",
    "    def copy(self):\n",
    "        return State(self.node, self.obj_pos_dict, self.Q)\n",
    "        \n",
    "    def __str__(self):\n",
    "        return str((self.node, \n",
    "                    {k: str(np.round(v, 2)) for k, v in self.obj_pos_dict.items()} if self.obj_pos_dict is not None else None,  \n",
    "                    str(np.round(self.Q, 2)) if self.Q is not None else None))\n",
    "    \n",
    "class SearchNode:\n",
    "    def __init__(self, idx, state, parents, leafs, leafs_P, depth=None, edepth=None):\n",
    "        self.idx, self.state, self.parents, self.leafs, self.leafs_P, self.depth, self.edepth = \\\n",
    "            idx, state, parents, leafs, leafs_P, depth, edepth"
   ]
  },
  {
   "cell_type": "code",
   "execution_count": null,
   "metadata": {},
   "outputs": [],
   "source": []
  },
  {
   "cell_type": "code",
   "execution_count": 44,
   "metadata": {},
   "outputs": [],
   "source": [
    "\n",
    "        \n",
    "class ConstraintGraph:\n",
    "\n",
    "    def __init__(self, urdf_path,  joint_names, link_names):\n",
    "        self.urdf_path = urdf_path\n",
    "        self.urdf_content = URDF.from_xml_file(urdf_path)\n",
    "        self.link_info_list = get_link_info_list(link_names, self.urdf_content)\n",
    "        self.robot_info = RobotInfo(self.link_info_list, rname = \"rbt0\", base_frame=np.identity(4,dtype=np.float32))\n",
    "        self.joint_names = joint_names\n",
    "        self.link_names = link_names\n",
    "        \n",
    "    def set_items(self, gitem_list, gframe_dict):\n",
    "        self.gitem_list = gitem_list\n",
    "        self.gframe_dict = gframe_dict\n",
    "        \n",
    "        # prepare ros\n",
    "        self.pub, self.joints, self.rate_ros = get_publisher(self.joint_names)\n",
    "        # prepare visualization markers\n",
    "        self.marker_list = set_markers(self.gitem_list, self.gframe_dict, self.urdf_content)\n",
    "        show_motion([np.array([0]*6)], self.marker_list, \n",
    "                    [[gframe_dict[mk.geometry.name] for mk in self.marker_list]], \n",
    "                    self.pub, self.joints, error_skip=1e-6, period=1e-6)\n",
    "        \n",
    "    def show_state(self, gframe_dict=None):\n",
    "        if gframe_dict is not None:\n",
    "            self.gframe_dict = gframe_dict\n",
    "        show_motion([np.array([0]*6)], self.marker_list, \n",
    "                    [[gframe_dict[mk.geometry.name] for mk in self.marker_list]], \n",
    "                    self.pub, self.joints, error_skip=1e-6, period=1e-6)\n",
    "        \n",
    "    def set_binding(self, binfo_list):\n",
    "        self.binfo_list = binfo_list\n",
    "        \n",
    "    def set_simulation(self, N_sim, binfo_list=None):\n",
    "        self.N_sim = N_sim\n",
    "        if binfo_list is not None:\n",
    "            self.set_binding(binfo_list)\n",
    "        self.mgraph = GraphModel(robot_info=self.robot_info, gitem_list=self.gitem_list, binfo_list=self.binfo_list, \n",
    "                           urdf_content=self.urdf_content, N_sim=self.N_sim)\n",
    "        \n",
    "    def update_handles(self):\n",
    "        self.handle_dict = defaultdict(lambda: [])\n",
    "        for k, v in self.mgraph.binding_dict.items():\n",
    "            if not v.btype.is_binder():\n",
    "                self.handle_dict[v.obj_layer.name] += [k]\n",
    "        self.object_list = [name for name in self.mgraph.object_name_list if name in self.handle_dict]\n",
    "        self.binder_list = [name for name in self.mgraph.binding_name_list if self.mgraph.binding_dict[name].btype.is_binder()]\n",
    "        \n",
    "\n",
    "    def get_unique_binders(self):\n",
    "        uniq_binders = []\n",
    "        for k_b, binder in self.mgraph.binding_dict.items():\n",
    "            if binder.btype.is_binder() and not binder.btype.is_multiple():\n",
    "                uniq_binders += [k_b]\n",
    "        return uniq_binders\n",
    "\n",
    "    def get_controlled_binders(self):\n",
    "        controlled_binders = []\n",
    "        for k_b, binder in self.mgraph.binding_dict.items():\n",
    "            if binder.btype.is_binder() and binder.btype.is_controlled():\n",
    "                controlled_binders += [k_b]\n",
    "        return controlled_binders\n",
    "    \n",
    "    def build_graph(self):\n",
    "        self.update_handles()\n",
    "        self.node_dict = {}\n",
    "        bindings = get_all_mapping(self.handle_dict.keys(), self.binder_list)\n",
    "        handle_combinations = list(product(*[self.handle_dict[obj] for obj in self.object_list]))\n",
    "        uniq_binders = self.get_unique_binders()\n",
    "        ctrl_binders = self.get_controlled_binders()\n",
    "        self.node_list = []\n",
    "        self.node_dict = {}\n",
    "        for binding in bindings:\n",
    "            if all([np.sum([bd == ub for bd in  binding.values()])<=1 for ub in uniq_binders]):\n",
    "                for hc in handle_combinations:\n",
    "                    node = []\n",
    "                    add_ok = True\n",
    "                    for i_o, obj in zip(range(len(self.object_list)), self.object_list):\n",
    "                        hndl_name = hc[i_o]\n",
    "                        if self.mgraph.bind_cal.pair_condition(self.mgraph.binding_dict[binding[obj]], self.mgraph.binding_dict[hndl_name]):\n",
    "                            node += [(obj, hc[i_o], binding[obj]) ]\n",
    "                        else:\n",
    "                            add_ok = False\n",
    "                    if add_ok:\n",
    "                        node = tuple(node)\n",
    "                        self.node_list += [node]\n",
    "                        self.node_dict[node] = []\n",
    "        for node in self.node_list:\n",
    "            fixed_in = [i_n for i_n in range(len(node)) if node[i_n][2] not in ctrl_binders]\n",
    "            ctrl_in = [i_n for i_n in range(len(node)) if node[i_n][2] in ctrl_binders]\n",
    "            if ctrl_in:\n",
    "                bd_fixed = [node[idx] for idx in fixed_in]\n",
    "                bd_ctrl = [node[idx][2] for idx in ctrl_in]\n",
    "                pt_ctrl = [node[idx][1] for idx in ctrl_in]\n",
    "                obj_ctrl = [node[idx][0] for idx in ctrl_in]\n",
    "                nodes_same_fix = [nd for nd in  self.node_list if [nd[idx] for idx in fixed_in] == bd_fixed]\n",
    "                nodes_diff_ctrl = [nd for nd in  nodes_same_fix if [nd[idx][2] for idx in ctrl_in] != bd_ctrl]\n",
    "                nodes_diff_pt = [nd for nd in  nodes_diff_ctrl if [nd[idx][1] for idx in ctrl_in] != pt_ctrl]\n",
    "                nodes_neighbor = [nd for nd in  nodes_diff_pt if len(set([bd[2] for bd, bd0 in zip(nd, node) if bd!=bd0]).intersection(bd_ctrl))==0]\n",
    "                self.node_dict[node] += nodes_neighbor\n",
    "                for nd_n in nodes_neighbor:\n",
    "                    self.node_dict[nd_n] += [node]\n",
    "\n",
    "        for node in self.node_dict.keys():\n",
    "            if node in self.node_dict[node]:\n",
    "                self.node_dict[node].remove(node)\n",
    "            self.node_dict[node] = [node] + list(set(self.node_dict[node]))\n",
    "        \n",
    "        \n",
    "        "
   ]
  },
  {
   "cell_type": "code",
   "execution_count": 45,
   "metadata": {},
   "outputs": [],
   "source": [
    "cgraph = ConstraintGraph(urdf_path = URDF_PATH, joint_names = JOINT_NAMES, link_names = LINK_NAMES)\n",
    "gtimer = GlobalTimer()"
   ]
  },
  {
   "cell_type": "code",
   "execution_count": 46,
   "metadata": {},
   "outputs": [],
   "source": [
    "gitem_list, gframe_dict= get_link_items_offsets(color=(0,1,0,0.5), display=False)\n",
    "gitem_list += [\n",
    "    GeometryItem(name='box1', gtype=GeoType.BOX, dims=[0.1,0.1,0.1], color=(0.3,0.3,0.8,1), display=True, collision=True),\n",
    "    GeometryItem(name='floor', gtype=GeoType.PLANE, dims=[3,3,0.01], color=(0.6,0.6,0.6,1), display=True, collision=True),\n",
    "    GeometryItem(name='wall', gtype=GeoType.BOX, dims=[0.7,0.05,0.4], color=(0.4,0.3,0.0,1), display=True, collision=True),\n",
    "    GeometryItem(name='stepper', gtype=GeoType.BOX, dims=[0.15,0.15,0.3], color=(0.4,0.3,0.0,1), display=True, collision=True),\n",
    "    GeometryItem(name='goal_disp', gtype=GeoType.BOX, dims=[0.1,0.1,1e-3], color=(0.8,0.0,0.0,1), display=True, collision=False)\n",
    "]\n",
    "gframe_dict.update({\"box1\":GeometryFrame(SE3(Rot_zyx(0,0,0),(0.5,-0.2,0.050)), \"world\"),\n",
    "                    \"floor\":GeometryFrame(SE3(Rot_zyx(0,0,0),(0,0,-0.00501)), \"world\"),\n",
    "                    \"wall\":GeometryFrame(SE3(Rot_zyx(0,0,0),(0.7,0.0,0.2)), \"world\"),\n",
    "                    \"stepper\":GeometryFrame(SE3(Rot_zyx(0,0,0),(0.4,0.4,0.15)), \"world\"),\n",
    "                    \"goal_disp\":GeometryFrame(SE3(Rot_zyx(0,0,0),(0.4,0.4,0.3)), \"world\")\n",
    "                   })\n",
    "binfo_list = [\n",
    "    BindingInfo(\n",
    "        name='vac1', btype=BindingType.VACC, obj_name='tool_mesh', gtype=GeoType.SPHERE, Toff=SE3(Rot_zyx(0,0,0), (0,0,0.05))), \n",
    "    BindingInfo(\n",
    "        name='goal', btype=BindingType.PLANE, obj_name='stepper', gtype=GeoType.SPHERE, Toff=SE3(Rot_zyx(0,0,np.pi), (0,0,0.0751))), \n",
    "    BindingInfo(\n",
    "        name='floortop', btype=BindingType.PLANE, obj_name='floor', gtype=None, Toff=SE3(Rot_zyx(0,0,np.pi), (0,0,0.005)))]\n",
    "\n",
    "binfo_list +=  get_box_binding(get_by_name(gitem_list, \"box1\"))"
   ]
  },
  {
   "cell_type": "code",
   "execution_count": 47,
   "metadata": {
    "scrolled": true
   },
   "outputs": [
    {
     "name": "stdout",
     "output_type": "stream",
     "text": [
      "publication OK\n",
      "published: [0, 0, 0, 0, 0, 0]\n",
      "publication OK - tool_mesh\n",
      "publication OK - box1\n",
      "publication OK - floor\n",
      "publication OK - wall\n",
      "publication OK - stepper\n",
      "publication OK - goal_disp\n"
     ]
    }
   ],
   "source": [
    "cgraph.set_items(gitem_list, gframe_dict)\n",
    "cgraph.set_binding(binfo_list)"
   ]
  },
  {
   "cell_type": "code",
   "execution_count": 48,
   "metadata": {},
   "outputs": [],
   "source": [
    "cgraph.show_state(gframe_dict)"
   ]
  },
  {
   "cell_type": "code",
   "execution_count": 49,
   "metadata": {},
   "outputs": [],
   "source": [
    "cgraph.set_simulation(N_sim=32)"
   ]
  },
  {
   "cell_type": "code",
   "execution_count": 50,
   "metadata": {},
   "outputs": [],
   "source": [
    "cgraph.build_graph()"
   ]
  },
  {
   "cell_type": "code",
   "execution_count": 52,
   "metadata": {
    "scrolled": true
   },
   "outputs": [
    {
     "name": "stdout",
     "output_type": "stream",
     "text": [
      "(('box1', 'box1-top', 'vac1'),)\n",
      "[(('box1', 'box1-top', 'vac1'),), (('box1', 'box1-bottom', 'goal'),), (('box1', 'box1-bottom', 'floortop'),)]\n",
      "====================================================================================================\n",
      "(('box1', 'box1-bottom', 'vac1'),)\n",
      "[(('box1', 'box1-bottom', 'vac1'),), (('box1', 'box1-top', 'goal'),), (('box1', 'box1-top', 'floortop'),)]\n",
      "====================================================================================================\n",
      "(('box1', 'box1-top', 'goal'),)\n",
      "[(('box1', 'box1-top', 'goal'),), (('box1', 'box1-bottom', 'vac1'),)]\n",
      "====================================================================================================\n",
      "(('box1', 'box1-bottom', 'goal'),)\n",
      "[(('box1', 'box1-bottom', 'goal'),), (('box1', 'box1-top', 'vac1'),)]\n",
      "====================================================================================================\n",
      "(('box1', 'box1-top', 'floortop'),)\n",
      "[(('box1', 'box1-top', 'floortop'),), (('box1', 'box1-bottom', 'vac1'),)]\n",
      "====================================================================================================\n",
      "(('box1', 'box1-bottom', 'floortop'),)\n",
      "[(('box1', 'box1-bottom', 'floortop'),), (('box1', 'box1-top', 'vac1'),)]\n",
      "====================================================================================================\n"
     ]
    }
   ],
   "source": [
    "for k,v in cgraph.node_dict.items():\n",
    "    print(k)\n",
    "    print(v)\n",
    "    print(\"=\"*100)"
   ]
  },
  {
   "cell_type": "code",
   "execution_count": null,
   "metadata": {},
   "outputs": [],
   "source": []
  },
  {
   "cell_type": "code",
   "execution_count": null,
   "metadata": {},
   "outputs": [],
   "source": [
    "\n",
    "for node in self.node_list:\n",
    "    fixed_in = [i_n for i_n in range(len(node)) if node[i_n][2] not in ctrl_binders]\n",
    "    ctrl_in = [i_n for i_n in range(len(node)) if node[i_n][2] in ctrl_binders]\n",
    "    if ctrl_in:\n",
    "        bd_fixed = [node[idx] for idx in fixed_in]\n",
    "        bd_ctrl = [node[idx][2] for idx in ctrl_in]\n",
    "        pt_ctrl = [node[idx][1] for idx in ctrl_in]\n",
    "        obj_ctrl = [node[idx][0] for idx in ctrl_in]\n",
    "        nodes_same_fix = [nd for nd in  self.node_list if [nd[idx] for idx in fixed_in] == bd_fixed]\n",
    "        nodes_diff_ctrl = [nd for nd in  nodes_same_fix if [nd[idx][2] for idx in ctrl_in] != bd_ctrl]\n",
    "        nodes_diff_pt = [nd for nd in  nodes_diff_ctrl if [nd[idx][1] for idx in ctrl_in] != pt_ctrl]\n",
    "        nodes_neighbor = [nd for nd in  nodes_diff_pt if len(set([bd[2] for bd, bd0 in zip(nd, node) if bd!=bd0]).intersection(bd_ctrl))==0]\n",
    "        self.node_dict[node] += nodes_neighbor\n",
    "        for nd_n in nodes_neighbor:\n",
    "            self.node_dict[nd_n] += [node]\n",
    "\n",
    "for node in self.node_dict.keys():\n",
    "    if node in self.node_dict[node]:\n",
    "        self.node_dict[node].remove(node)\n",
    "    self.node_dict[node] = [node] + list(set(self.node_dict[node]))"
   ]
  },
  {
   "cell_type": "code",
   "execution_count": null,
   "metadata": {},
   "outputs": [],
   "source": []
  },
  {
   "cell_type": "code",
   "execution_count": null,
   "metadata": {},
   "outputs": [],
   "source": []
  },
  {
   "cell_type": "code",
   "execution_count": null,
   "metadata": {},
   "outputs": [],
   "source": []
  },
  {
   "cell_type": "code",
   "execution_count": null,
   "metadata": {},
   "outputs": [],
   "source": []
  },
  {
   "cell_type": "code",
   "execution_count": null,
   "metadata": {},
   "outputs": [],
   "source": []
  },
  {
   "cell_type": "code",
   "execution_count": null,
   "metadata": {},
   "outputs": [],
   "source": []
  },
  {
   "cell_type": "code",
   "execution_count": null,
   "metadata": {},
   "outputs": [],
   "source": []
  },
  {
   "cell_type": "code",
   "execution_count": 48,
   "metadata": {},
   "outputs": [
    {
     "ename": "AttributeError",
     "evalue": "'ConstraintGraph' object has no attribute 'binder_dict'",
     "output_type": "error",
     "traceback": [
      "\u001b[0;31m---------------------------------------------------------------------------\u001b[0m",
      "\u001b[0;31mAttributeError\u001b[0m                            Traceback (most recent call last)",
      "\u001b[0;32m<ipython-input-48-5296e52e6a7a>\u001b[0m in \u001b[0;36m<module>\u001b[0;34m\u001b[0m\n\u001b[1;32m      2\u001b[0m     \u001b[0;31m# self = graph\u001b[0m\u001b[0;34m\u001b[0m\u001b[0;34m\u001b[0m\u001b[0;34m\u001b[0m\u001b[0m\n\u001b[1;32m      3\u001b[0m \u001b[0mself\u001b[0m\u001b[0;34m.\u001b[0m\u001b[0mnode_dict\u001b[0m \u001b[0;34m=\u001b[0m \u001b[0;34m{\u001b[0m\u001b[0;34m}\u001b[0m\u001b[0;34m\u001b[0m\u001b[0;34m\u001b[0m\u001b[0m\n\u001b[0;32m----> 4\u001b[0;31m \u001b[0mbindings\u001b[0m \u001b[0;34m=\u001b[0m \u001b[0mget_all_mapping\u001b[0m\u001b[0;34m(\u001b[0m\u001b[0mself\u001b[0m\u001b[0;34m.\u001b[0m\u001b[0mhandle_dict\u001b[0m\u001b[0;34m.\u001b[0m\u001b[0mkeys\u001b[0m\u001b[0;34m(\u001b[0m\u001b[0;34m)\u001b[0m\u001b[0;34m,\u001b[0m \u001b[0mself\u001b[0m\u001b[0;34m.\u001b[0m\u001b[0mbinder_dict\u001b[0m\u001b[0;34m.\u001b[0m\u001b[0mkeys\u001b[0m\u001b[0;34m(\u001b[0m\u001b[0;34m)\u001b[0m\u001b[0;34m)\u001b[0m\u001b[0;34m\u001b[0m\u001b[0;34m\u001b[0m\u001b[0m\n\u001b[0m\u001b[1;32m      5\u001b[0m \u001b[0mhandle_combinations\u001b[0m \u001b[0;34m=\u001b[0m \u001b[0mlist\u001b[0m\u001b[0;34m(\u001b[0m\u001b[0mproduct\u001b[0m\u001b[0;34m(\u001b[0m\u001b[0;34m*\u001b[0m\u001b[0;34m[\u001b[0m\u001b[0mself\u001b[0m\u001b[0;34m.\u001b[0m\u001b[0mhandle_dict\u001b[0m\u001b[0;34m[\u001b[0m\u001b[0mobj\u001b[0m\u001b[0;34m]\u001b[0m \u001b[0;32mfor\u001b[0m \u001b[0mobj\u001b[0m \u001b[0;32min\u001b[0m \u001b[0mself\u001b[0m\u001b[0;34m.\u001b[0m\u001b[0mobject_list\u001b[0m\u001b[0;34m]\u001b[0m\u001b[0;34m)\u001b[0m\u001b[0;34m)\u001b[0m\u001b[0;34m\u001b[0m\u001b[0;34m\u001b[0m\u001b[0m\n\u001b[1;32m      6\u001b[0m \u001b[0muniq_binders\u001b[0m \u001b[0;34m=\u001b[0m \u001b[0mself\u001b[0m\u001b[0;34m.\u001b[0m\u001b[0mget_unique_binders\u001b[0m\u001b[0;34m(\u001b[0m\u001b[0;34m)\u001b[0m\u001b[0;34m\u001b[0m\u001b[0;34m\u001b[0m\u001b[0m\n",
      "\u001b[0;31mAttributeError\u001b[0m: 'ConstraintGraph' object has no attribute 'binder_dict'"
     ]
    }
   ],
   "source": []
  },
  {
   "cell_type": "code",
   "execution_count": null,
   "metadata": {},
   "outputs": [],
   "source": []
  },
  {
   "cell_type": "code",
   "execution_count": null,
   "metadata": {},
   "outputs": [],
   "source": []
  },
  {
   "cell_type": "code",
   "execution_count": null,
   "metadata": {},
   "outputs": [],
   "source": []
  },
  {
   "cell_type": "code",
   "execution_count": null,
   "metadata": {},
   "outputs": [],
   "source": []
  },
  {
   "cell_type": "code",
   "execution_count": null,
   "metadata": {},
   "outputs": [],
   "source": []
  },
  {
   "cell_type": "code",
   "execution_count": null,
   "metadata": {},
   "outputs": [],
   "source": []
  },
  {
   "cell_type": "code",
   "execution_count": null,
   "metadata": {},
   "outputs": [],
   "source": [
    "#     graph.build_graph()\n",
    "#     graph.search_graph_ordered_mp(initial_state = \\\n",
    "#                                   State((('box1','bottom_p','floor'),), \n",
    "#                                         {'box1': [0.5,-0.2,0.05,0,0,0,1]}, ZERO_JOINT_POSE),\n",
    "#                                   goal_state = State((('box1','bottom_f','goal'),), None, None),\n",
    "#                                   search_num=200, display=False, N_agents = 12,\n",
    "#                                   terminate_on_first = True, tree_margin = 0,\n",
    "#                                   depth_margin = 2, joint_motion_num=50, \n",
    "#                                   **dict(N=300, dt=0.01, vel_conv=1e-2, err_conv=1e-3))"
   ]
  },
  {
   "cell_type": "code",
   "execution_count": null,
   "metadata": {},
   "outputs": [],
   "source": []
  },
  {
   "cell_type": "code",
   "execution_count": null,
   "metadata": {},
   "outputs": [],
   "source": []
  },
  {
   "cell_type": "code",
   "execution_count": null,
   "metadata": {},
   "outputs": [],
   "source": [
    "\n",
    "graph = GraphModel(robot_info=robot_info, gitem_list=gitem_list, binfo_list=binfo_list, urdf_content=urdf_content, \n",
    "                   N_sim=N_sim, learning_rate=5e-3, \n",
    "                   alpha_cl=0.00)\n",
    "Q_ = np.array([tuple(ZERO_JOINT_POSE+(np.random.rand(DOF)*2-1)*np.pi/100) for _ in range(N_sim)], dtype=np.float32)\n",
    "gframe_dict_list = [gframe_dict]*N_sim\n",
    "graph.assign_Q(Q_)\n",
    "graph.assign_frame_dict(gframe_dict_list)\n",
    "T_all, Tbo_all, Tbb_all = graph(None)\n",
    "Tbo_all_res = tf.reshape(Tbo_all, (graph.N_sim, 1, graph.num_objects, 1, 4,4))\n",
    "res = graph.col_cal.calc_all(Tbo_all_res)"
   ]
  },
  {
   "cell_type": "markdown",
   "metadata": {},
   "source": [
    "# Make Graph"
   ]
  },
  {
   "cell_type": "code",
   "execution_count": 8,
   "metadata": {
    "scrolled": true
   },
   "outputs": [
    {
     "name": "stdout",
     "output_type": "stream",
     "text": [
      "initialize: \t8768.0 ms/1 = 8768.133 ms \n",
      "\n"
     ]
    }
   ],
   "source": [
    "N_sim = 32\n",
    "N_joints = 9\n",
    "DOF = 6\n",
    "\n",
    "\n",
    "gtimer.tic(\"initialize\")\n",
    "binfo_list = [\n",
    "    BindingInfo(\n",
    "        name='vac1', btype=BindingType.VACC, obj_name='tool_mesh', gtype=GeoType.SPHERE, Toff=SE3(Rot_zyx(0,0,0), (0,0,0.05))), \n",
    "    BindingInfo(\n",
    "        name='boxtop', btype=BindingType.SUCC, obj_name='box1', gtype=GeoType.SPHERE, Toff=SE3(Rot_zyx(0,0,0), (0,0,0.05))), \n",
    "    BindingInfo(\n",
    "        name='boxbottom', btype=BindingType.SUCC, obj_name='box1', gtype=GeoType.SPHERE, Toff=SE3(Rot_zyx(0,0,np.pi), (0,0,-0.05))), \n",
    "    BindingInfo(\n",
    "        name='floortop', btype=BindingType.PLANE, obj_name='floor', gtype=None, Toff=SE3(Rot_zyx(0,0,np.pi), (0,0,0.005)))]\n",
    "graph = GraphModel(robot_info=robot_info, gitem_list=gitem_list, binfo_list=binfo_list, urdf_content=urdf_content, \n",
    "                   N_sim=N_sim, learning_rate=5e-3, \n",
    "                   alpha_cl=0.00)\n",
    "Q_ = np.array([tuple(ZERO_JOINT_POSE+(np.random.rand(DOF)*2-1)*np.pi/100) for _ in range(N_sim)], dtype=np.float32)\n",
    "gframe_dict_list = [gframe_dict]*N_sim\n",
    "graph.assign_Q(Q_)\n",
    "graph.assign_frame_dict(gframe_dict_list)\n",
    "T_all, Tbo_all, Tbb_all = graph(None)\n",
    "Tbo_all_res = tf.reshape(Tbo_all, (graph.N_sim, 1, graph.num_objects, 1, 4,4))\n",
    "res = graph.col_cal.calc_all(Tbo_all_res)\n",
    "gtimer.toc(\"initialize\")\n",
    "print(gtimer)"
   ]
  },
  {
   "cell_type": "code",
   "execution_count": 9,
   "metadata": {},
   "outputs": [
    {
     "name": "stdout",
     "output_type": "stream",
     "text": [
      "assign: \t6.0 ms/1 = 5.922 ms \n",
      "\n"
     ]
    }
   ],
   "source": [
    "gtimer.reset()\n",
    "Q_ = np.array([tuple(ZERO_JOINT_POSE+(np.random.rand(DOF)*2-1)*np.pi/100) for _ in range(N_sim)], dtype=np.float32)\n",
    "gtimer.tic(\"assign\")\n",
    "graph.assign_Q(Q_)\n",
    "graph.assign_frame_dict(gframe_dict_list)\n",
    "graph.set_slack_batch([[(0,1)]]*N_sim)\n",
    "gtimer.toc(\"assign\")\n",
    "print(gtimer)"
   ]
  },
  {
   "cell_type": "code",
   "execution_count": null,
   "metadata": {},
   "outputs": [],
   "source": []
  },
  {
   "cell_type": "markdown",
   "metadata": {},
   "source": [
    "# Show rviz"
   ]
  },
  {
   "cell_type": "code",
   "execution_count": 20,
   "metadata": {},
   "outputs": [],
   "source": [
    "Q_ = np.array([tuple(ZERO_JOINT_POSE+(np.random.rand(DOF)*2-1)*np.pi/100) for _ in range(N_sim)], dtype=np.float32)\n",
    "gframe_dict.update({\"box1\":GeometryFrame(SE3(Rot_zyx(0,0,0),(0.5,0,0.05)), \"world\"),\n",
    "                    \"floor\":GeometryFrame(SE3(Rot_zyx(0,0,0),(0.5,0,-0.00501)), \"world\")\n",
    "                   })\n",
    "gframe_dict_list = [gframe_dict]*N_sim\n",
    "graph.assign_Q(Q_)\n",
    "graph.assign_frame_dict(gframe_dict_list)\n",
    "graph.set_slack_batch([[(graph.binding_name_list.index('vac1'), \n",
    "                         graph.binding_name_list.index('boxtop'))]]+[[]]*(N_sim-1),\n",
    "                     [[0]*graph.robot.DOF]*N_sim,\n",
    "                     [[0]*graph.robot.DOF]+[[1]*graph.robot.DOF]+[[0]*graph.robot.DOF]*(N_sim-2))"
   ]
  },
  {
   "cell_type": "code",
   "execution_count": 21,
   "metadata": {},
   "outputs": [],
   "source": [
    "Qcur = graph.get_Q()\n",
    "q = np.array(Qcur[0])\n",
    "gframevec = [gframe_dict[mk.geometry.name] for mk in marker_list]\n",
    "pose_list = [q]\n",
    "gframevec_list = [gframevec]\n",
    "show_motion(pose_list, marker_list, gframevec_list, pub, joints, error_skip=1e-6, period=1e-6)"
   ]
  },
  {
   "cell_type": "markdown",
   "metadata": {},
   "source": [
    "# loop display"
   ]
  },
  {
   "cell_type": "code",
   "execution_count": 22,
   "metadata": {},
   "outputs": [
    {
     "name": "stdout",
     "output_type": "stream",
     "text": [
      "calc: \t4848.0 ms/100 = 48.475 ms \n",
      "assign: \t51.0 ms/100 = 0.512 ms \n",
      "\n"
     ]
    }
   ],
   "source": [
    "gtimer.reset()\n",
    "lpf = LowPassFilter(0.5)\n",
    "for _ in range(100):\n",
    "    gtimer.tic(\"calc\")\n",
    "    Qcur = graph.get_Q()\n",
    "    T_all, Tbo_all, Tbb_all = graph(graph.binding_index_list)\n",
    "    jac_r, jac_o, jac_b, jac_brot = graph.jacobian(T_all, Tbo_all, Tbb_all)\n",
    "    Tbo_all_res = tf.reshape(Tbo_all, (graph.N_sim, 1, graph.num_objects, 1, 4,4))\n",
    "    dist_all, flag_all, vec_all, mask_all = graph.col_cal.calc_all(Tbo_all_res)\n",
    "    jac_d = graph.col_cal.jacobian_distance(jac_o, vec_all)\n",
    "    Tbb_all_res = tf.reshape(Tbb_all, (graph.N_sim, 1, graph.num_binding, 1, 4,4))\n",
    "    b_dist_all, flag_all, vec_all, b_mask_all, angle_all, vec_angle, mask_rot = graph.bind_cal.calc_all(Tbb_all_res)\n",
    "    mask_rot = tf.expand_dims(graph.bind_cal.mask_rot, axis=-1)\n",
    "    b_dist_masked = b_dist_all*mask_rot\n",
    "    jac_bind, jac_ang = graph.bind_cal.jacobian_binding(jac_b, vec_all, jac_brot, vec_angle)\n",
    "    jac_bind_masked = jac_bind*mask_rot\n",
    "    jac_bind_tr = tf.transpose(jac_bind_masked, (0,2,1))\n",
    "    jac_bind_inv = tf.matmul(jac_bind_tr, tf.linalg.inv(tf.matmul(jac_bind_masked,jac_bind_tr)+graph.bind_cal.mask_rot_diag_rev))\n",
    "    jac_ang_stack = tf.gather_nd(jac_ang, [graph.bind_cal.pair_axis_list]*graph.N_sim, batch_dims=1)\n",
    "    jac_ang_masked = jac_ang_stack*mask_rot\n",
    "    jac_ang_tr = tf.transpose(jac_ang_masked, (0,2,1))\n",
    "    jac_ang_inv = tf.matmul(jac_ang_tr, tf.linalg.inv(tf.matmul(jac_ang_masked,jac_ang_tr)+graph.bind_cal.mask_rot_diag_rev))\n",
    "    angle_all_stack = tf.gather_nd(angle_all, [graph.bind_cal.pair_axis_list]*graph.N_sim, batch_dims=1)\n",
    "    angle_all_masked = angle_all_stack*mask_rot\n",
    "    dQ = (\n",
    "        K.sum(\n",
    "            tf.matmul(jac_bind_inv,b_dist_masked) \n",
    "            + tf.matmul(jac_ang_inv,angle_all_masked), axis=-1)\n",
    "        + graph.joint_mask_batch * (graph.joint_batch - Qcur))*graph.rate_update\n",
    "    dQ_clip = clip_gradient_elem_wise(dQ, graph.dQ_max)\n",
    "    dQ_pre = lpf(dQ_clip)\n",
    "\n",
    "    \n",
    "    #cut collision\n",
    "    dD = K.sum(jac_d*tf.expand_dims(dQ_clip, axis=-2), axis=-1, keepdims=True)\n",
    "    Dcur = dist_all\n",
    "    mask_colliding = tf.cast(Dcur+dD<0,dtype=tf.float32)\n",
    "    sign_jac_d =tf.sign(jac_d)\n",
    "    dQ_cut = (mask_colliding* mask_all)*(Dcur+dD)*jac_d/(K.sum(tf.square(jac_d), axis=-1, keepdims=True)+1e-16)\n",
    "    dQ_cut = K.sum(dQ_cut, axis=-2) # need to implement optimizer\n",
    "    \n",
    "    Qnew = Qcur+dQ_pre+dQ_cut\n",
    "\n",
    "    gtimer.toc(\"calc\")\n",
    "    gtimer.tic(\"assign\")\n",
    "    graph.assign_Q(Qnew)\n",
    "    gtimer.toc(\"assign\")\n",
    "\n",
    "    pose_list = [np.array(graph.get_Q()[0])]\n",
    "    gframevec_list = [[gframe_dict[mk.geometry.name] for mk in marker_list]]\n",
    "    show_motion(pose_list, marker_list, gframevec_list, pub, joints, error_skip=1e-6, period=1e-6)\n",
    "    timer.sleep(0.05)\n",
    "print(gtimer)"
   ]
  },
  {
   "cell_type": "code",
   "execution_count": 13,
   "metadata": {},
   "outputs": [],
   "source": [
    "gframe_dict_list = graph.update_slack_frames(gframe_dict_list, T_all, Tbo_all)"
   ]
  },
  {
   "cell_type": "code",
   "execution_count": null,
   "metadata": {},
   "outputs": [],
   "source": []
  },
  {
   "cell_type": "code",
   "execution_count": null,
   "metadata": {},
   "outputs": [],
   "source": []
  },
  {
   "cell_type": "code",
   "execution_count": null,
   "metadata": {},
   "outputs": [],
   "source": []
  },
  {
   "cell_type": "code",
   "execution_count": null,
   "metadata": {},
   "outputs": [],
   "source": []
  },
  {
   "cell_type": "code",
   "execution_count": null,
   "metadata": {},
   "outputs": [],
   "source": []
  },
  {
   "cell_type": "code",
   "execution_count": null,
   "metadata": {},
   "outputs": [],
   "source": []
  }
 ],
 "metadata": {
  "kernelspec": {
   "display_name": "Python 3",
   "language": "python",
   "name": "python3"
  },
  "language_info": {
   "codemirror_mode": {
    "name": "ipython",
    "version": 3
   },
   "file_extension": ".py",
   "mimetype": "text/x-python",
   "name": "python",
   "nbconvert_exporter": "python",
   "pygments_lexer": "ipython3",
   "version": "3.6.9"
  }
 },
 "nbformat": 4,
 "nbformat_minor": 2
}
