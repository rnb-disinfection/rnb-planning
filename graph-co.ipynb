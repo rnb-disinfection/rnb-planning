{
 "cells": [
  {
   "cell_type": "code",
   "execution_count": 1,
   "metadata": {},
   "outputs": [],
   "source": [
    "import matplotlib.pyplot as plt\n",
    "import time"
   ]
  },
  {
   "cell_type": "code",
   "execution_count": 2,
   "metadata": {},
   "outputs": [],
   "source": [
    "import tensorflow as tf\n",
    "from tensorflow import keras\n",
    "from tensorflow.keras import layers\n",
    "from tensorflow.keras import backend as K\n",
    "import numpy as np\n",
    "from itertools import combinations"
   ]
  },
  {
   "cell_type": "code",
   "execution_count": 3,
   "metadata": {},
   "outputs": [],
   "source": [
    "from pkg.tf_transform import *\n",
    "from pkg.tf_robot import *\n",
    "from pkg.constraint import *\n",
    "from pkg.info import *\n",
    "from pkg.tf_utils import *\n",
    "from pkg.rotation_utils import *\n",
    "from pkg.utils import *\n",
    "from pkg.ur10 import *\n",
    "from pkg.geometry import *\n",
    "from pkg.collision import *\n",
    "from pkg.distance import *\n",
    "from pkg.distance_calculator import *\n",
    "from pkg.binding_calculator import *"
   ]
  },
  {
   "cell_type": "markdown",
   "metadata": {},
   "source": [
    "# Load urdf "
   ]
  },
  {
   "cell_type": "code",
   "execution_count": 4,
   "metadata": {},
   "outputs": [],
   "source": [
    "from urdf_parser_py.urdf import URDF\n",
    "from pkg.ur10 import URDF_PATH, JOINT_NAMES, LINK_NAMES, ZERO_JOINT_POSE\n",
    "from pkg.joint_utils import *\n",
    "urdf_content = URDF.from_xml_file(URDF_PATH)"
   ]
  },
  {
   "cell_type": "code",
   "execution_count": 5,
   "metadata": {},
   "outputs": [],
   "source": [
    "link_names = LINK_NAMES\n",
    "base_name = LINK_NAMES[0]\n",
    "joint_names = JOINT_NAMES\n",
    "link_info_list = get_link_info_list(link_names, urdf_content)"
   ]
  },
  {
   "cell_type": "markdown",
   "metadata": {},
   "source": [
    "# Visualize"
   ]
  },
  {
   "cell_type": "code",
   "execution_count": 6,
   "metadata": {},
   "outputs": [
    {
     "name": "stdout",
     "output_type": "stream",
     "text": [
      "Please create a subscriber to the marker\n",
      "publication OK\n",
      "published: [0, 0, 0, 0, 0, 0]\n",
      "Please create a subscriber to the marker\n",
      "publication OK - tool_mesh\n",
      "publication OK - box1\n",
      "publication OK - floor\n"
     ]
    }
   ],
   "source": [
    "from pkg.ros_rviz import *\n",
    "pub, joints, rate = get_publisher(JOINT_NAMES)\n",
    "\n",
    "gitem_list, gframe_dict= get_link_items_offsets(color=(0,1,0,0.5), display=False)\n",
    "gitem_list += [\n",
    "    GeometryItem(name='box1', gtype=GeoType.BOX, dims=[0.1,0.1,0.1], color=(0.3,0.3,0.8,1), display=True, collision=True),\n",
    "    GeometryItem(name='floor', gtype=GeoType.PLANE, dims=[1,1,0.01], color=(0.6,0.6,0.6,1), display=True, collision=True)\n",
    "]\n",
    "gframe_dict.update({\"box1\":GeometryFrame(SE3(Rot_zyx(0,0,0),(0.5,0,0.05)), \"world\"),\n",
    "                    \"floor\":GeometryFrame(SE3(Rot_zyx(0,0,0),(0.5,0,-0.00501)), \"world\")\n",
    "                   })\n",
    "marker_list = set_markers(gitem_list, gframe_dict, urdf_content)\n",
    "show_motion([np.array([0]*6)], marker_list, \n",
    "            [[gframe_dict[mk.geometry.name] for mk in marker_list]], \n",
    "            pub, joints, error_skip=1e-6, period=1e-6)"
   ]
  },
  {
   "cell_type": "code",
   "execution_count": null,
   "metadata": {},
   "outputs": [],
   "source": []
  },
  {
   "cell_type": "markdown",
   "metadata": {},
   "source": [
    "# Graph"
   ]
  },
  {
   "cell_type": "code",
   "execution_count": 7,
   "metadata": {},
   "outputs": [],
   "source": [
    "from collections import defaultdict"
   ]
  },
  {
   "cell_type": "code",
   "execution_count": 8,
   "metadata": {},
   "outputs": [],
   "source": [
    "class GraphModel(tf.keras.Model):\n",
    "    def __init__(self, robot_info, gitem_list, binfo_list, urdf_content, N_sim, \n",
    "                 alpha_jc=5, alpha_fc=200, alpha_jl=1, alpha_cl=1,alpha_cs=0, dQ_max = tf.constant([[1.0]*6])*2e-1,\n",
    "                 LIM=np.pi, LIM_BOUND=1e-1, COL_BOUND=1e-2, learning_rate=5e-3, col_iteration = 20):\n",
    "        super(GraphModel, self).__init__()\n",
    "        self.alpha_jc = alpha_jc\n",
    "        self.alpha_fc = alpha_fc\n",
    "        self.alpha_jl = alpha_jl\n",
    "        self.alpha_cl = alpha_cl\n",
    "        self.alpha_cs = alpha_cs\n",
    "        self.N_sim = N_sim\n",
    "        self.LIM = LIM\n",
    "        self.LIM_BOUND = LIM_BOUND\n",
    "        self.COL_BOUND = COL_BOUND\n",
    "        self.dQ_max = tf.constant(dQ_max)\n",
    "        self.learning_rate = learning_rate\n",
    "        self.col_iteration = col_iteration\n",
    "        self.robot_info = robot_info\n",
    "        self.robot = RobotLayer(\n",
    "            robot_info, dim=N_sim)\n",
    "        self.joint_constraint = JointConstraintLoss(self.robot)\n",
    "        self.frame_constraint = FrameConstraintLoss()\n",
    "        self.robot_base = [robot_info.base_frame]*N_sim\n",
    "        self.set_custom_loss(lambda *args: tf.constant(0.0), 0)\n",
    "        self.link_name_list = self.robot.link_name_list\n",
    "        self.link_idx_dict = self.robot.link_idx_dict\n",
    "        self.adjacency_list = self.robot.adjacency_list\n",
    "        self.dependency_list = self.robot.dependency_list\n",
    "        self.dependency_mat = self.robot.dependency_mat\n",
    "            \n",
    "        self.object_dict = {}\n",
    "        self.object_name_list = []\n",
    "        for gitem in gitem_list:\n",
    "            self.object_name_list += [gitem.name]\n",
    "            self.object_dict[gitem.name] = ObjectLayer(gitem, N_sim, self.robot.num_link)\n",
    "        self.num_objects = len(self.object_name_list)\n",
    "        \n",
    "        self.binding_dict = {}\n",
    "        self.binding_name_list = []\n",
    "        self.binding_index_list = []\n",
    "        for binfo in binfo_list:\n",
    "            self.binding_name_list += [binfo.name]\n",
    "            self.binding_dict[binfo.name] = BindingLayer(**binfo.get_kwargs(self.object_dict))\n",
    "            self.binding_index_list += [self.object_name_list.index(binfo.obj_name)]\n",
    "        self.binding_index_list = tf.constant(self.binding_index_list)\n",
    "        self.num_binding = len(self.binding_name_list)\n",
    "        \n",
    "        self.col_cal = CollisionCalculator(self.object_name_list, self.object_dict, self.robot, self.N_sim)\n",
    "        self.bind_cal = BindingCalculator(self.binding_name_list, self.binding_dict, self.robot, self.N_sim)\n",
    "        self.optimizer = tf.optimizers.SGD(learning_rate=learning_rate)\n",
    "            \n",
    "    def assign_frame_dict(self, gframeset_list):\n",
    "        frame_dict = {k: [] for k in self.object_dict.keys()}\n",
    "        link_dict = {k: [] for k in self.object_dict.keys()}\n",
    "        for gframeset in gframeset_list:\n",
    "            for k, gframe in gframeset.items():\n",
    "                frame_dict[k] += [gframe.Toff]\n",
    "                link_dict[k] += [self.robot.link_name_list.index(gframe.link_name)]\n",
    "        for k in frame_dict.keys():\n",
    "            self.object_dict[k].set_frame(np.array(frame_dict[k]), np.array(link_dict[k]))\n",
    "            \n",
    "        self.col_cal.set_link_dependence(link_dict)\n",
    "        self.col_cal.set_pair_mask()\n",
    "        self.bind_cal.set_link_dependence(link_dict)\n",
    "        \n",
    "    def set_slack_batch(self, slack_batch):\n",
    "        self.bind_cal.set_pair_mask(slack_batch)\n",
    "        \n",
    "    def update_slack_frames(self, gframe_dict_list):\n",
    "        for i_s in range(self.N_sim):\n",
    "            slack_pairs = self.bind_cal.slack_pair_list[i_s]\n",
    "            for pair in slack_pairs:\n",
    "                oname1 = self.bind_cal.object_name_list[pair[0]]\n",
    "                oname2 = self.bind_cal.object_name_list[pair[1]]\n",
    "                obj1 = self.bind_cal.object_dict[oname1]\n",
    "                obj2 = self.bind_cal.object_dict[oname2]\n",
    "                if obj1.btype.is_binder():\n",
    "                    binder = obj1.obj_layer\n",
    "                    bindee = obj2.obj_layer\n",
    "                else:\n",
    "                    binder = obj2.obj_layer\n",
    "                    bindee = obj1.obj_layer\n",
    "                i_link_binder = binder.link_idx_list[i_s]\n",
    "                ibindee = self.object_name_list.index(bindee.gitem.name)\n",
    "                Tbo_bindee = Tbo_all[i_s,ibindee]\n",
    "                Tbl_binder = T_all[i_s, i_link_binder]\n",
    "                Tlo = np.matmul(np.linalg.inv(Tbo_bindee), Tbl_binder)\n",
    "                gframe_dict_list[i_s][bindee.gitem.name].link_name = self.link_name_list[i_link_binder]\n",
    "                gframe_dict_list[i_s][bindee.gitem.name].Toff = Tlo\n",
    "        return gframe_dict_list\n",
    "            \n",
    "    @tf.function\n",
    "    def assign_Q(self, Q):\n",
    "        self.robot.assign_Q(Q)\n",
    "            \n",
    "    @tf.function\n",
    "    def get_Q(self):\n",
    "        return self.robot.get_Q()\n",
    "\n",
    "    @tf.function\n",
    "    def call(self, inputs=None):\n",
    "        T_all = self.robot(self.robot_base)\n",
    "        Tbo_all = []\n",
    "        for obj_name in self.object_name_list:\n",
    "            Tbo_all += [self.object_dict[obj_name](T_all)] #(Nobj,N_sim,4,4)\n",
    "        Tbo_all = K.stack(Tbo_all, axis=1) #(N_sim,Nobj,4,4)\n",
    "        Tbo_bnd = tf.gather(Tbo_all, self.binding_index_list, axis=-3)\n",
    "        Tbb_all = []\n",
    "        for i_bnd, bnd_name in zip(range(self.num_binding), self.binding_name_list):\n",
    "            Tbb_all += [self.binding_dict[bnd_name](tf.gather(Tbo_bnd, i_bnd, axis=-3))] #(Nobj,N_sim,4,4)\n",
    "        Tbb_all = K.stack(Tbb_all, axis=1) #(N_sim,Nobj,4,4)\n",
    "        return T_all, Tbo_all, Tbb_all\n",
    "    \n",
    "    @tf.function\n",
    "    def calc_joint_limit(self):\n",
    "        Q = self.get_Q()\n",
    "        return K.sum(1/((K.min(((self.LIM-Q), (self.LIM+Q)), axis=-1)/self.LIM_BOUND)**3))\n",
    "    \n",
    "    @tf.function\n",
    "    def calc_loss(self, T_all, Tbo_all, Qtar, binQ, Ttar, binT):\n",
    "        jl_loss = self.calc_joint_limit()\n",
    "        jc_loss = self.joint_constraint((Qtar, binQ))\n",
    "        fc_loss = self.frame_constraint((T_all[:,-1,:,:],Ttar, binT))\n",
    "        #cl_loss = self.calc_collision_loss(T_all, Tbo_all)\n",
    "        return self.alpha_jc*jc_loss + self.alpha_fc*fc_loss + \\\n",
    "                self.alpha_jl*jl_loss + self.alpha_cs*self.calc_custom_loss(T_all, Tbo_all) \\\n",
    "                #+ self.alpha_cl*cl_loss \n",
    "                \n",
    "    \n",
    "    @tf.function\n",
    "    def forward(self, Qtar, binQ, Ttar, binT):\n",
    "        T_all, Tbo_all= self(None)\n",
    "        loss = self.calc_loss(T_all, Tbo_all, Qtar, binQ, Ttar, binT)\n",
    "        return loss\n",
    "    \n",
    "    @tf.function\n",
    "    def update_once(self, Qtar, binQ, Ttar, binT, max_gradient):\n",
    "        with tf.GradientTape() as g:\n",
    "            # Forward pass.\n",
    "            loss = self.forward(Qtar, binQ, Ttar, binT)\n",
    "\n",
    "        # Variables to update, i.e. trainable variables.\n",
    "        trainable_variables = self.trainable_variables\n",
    "\n",
    "        # Compute gradients.\n",
    "        gradients = g.gradient(loss, trainable_variables)\n",
    "        gradients = tf.unstack(clip_gradient(gradients, max_gradient))\n",
    "    \n",
    "        # Update W and b following gradients.\n",
    "        self.optimizer.apply_gradients(zip(gradients, self.trainable_variables))\n",
    "        return loss\n",
    "    \n",
    "    def set_custom_loss(self, custom_loss, alpha_cs, *args, **kwargs):\n",
    "        self.custom_loss = custom_loss\n",
    "        self.alpha_cs = alpha_cs\n",
    "        self.cl_args = args\n",
    "        self.cl_kwargs = kwargs\n",
    "        \n",
    "    def calc_custom_loss(self, T_all, Tbo_all):\n",
    "        return self.custom_loss(self, T_all, Tbo_all, *self.cl_args, **self.cl_kwargs)\n",
    "\n",
    "    @tf.function\n",
    "    def test_collision(self, T_all, Tbo_all):\n",
    "        Pbo_all = tf.gather(tf.gather(Tbo_all, [0,1,2], axis=-2), 3, axis=-1)\n",
    "        col_combs_masked_batch = self.get_collision_combination()\n",
    "        batch_flat = tf.repeat(np.reshape(np.arange(self.N_sim), (self.N_sim, 1)), (self.N_col,)*self.N_sim,axis=0)\n",
    "        col_combs_masked_flat = tf.concat([batch_flat, col_combs_masked_batch], axis=-1)\n",
    "        vtx_tf = tf.gather(\n",
    "            K.sum(tf.expand_dims(Tbo_all, axis=-3)*tf.expand_dims(self.object_vertice_mat, axis=-2), axis=-1), \n",
    "            [0,1,2], axis=-1)\n",
    "        vtx_tf_1 = tf.reshape(tf.gather_nd(vtx_tf, tf.gather(col_combs_masked_flat, [0,1], axis=1)), (self.N_sim, self.N_col, -1,3))\n",
    "        vtx_tf_2 = tf.reshape(tf.gather_nd(vtx_tf, tf.gather(col_combs_masked_flat, [0,2], axis=1)), (self.N_sim, self.N_col, -1,3))\n",
    "        Pbo_all_1 = tf.reshape(tf.gather_nd(Pbo_all, tf.gather(col_combs_masked_flat, [0,1], axis=1)), (self.N_sim, self.N_col,3))\n",
    "        Pbo_all_2 = tf.reshape(tf.gather_nd(Pbo_all, tf.gather(col_combs_masked_flat, [0,2], axis=1)), (self.N_sim, self.N_col,3))\n",
    "        v_batch = tf.expand_dims(Pbo_all_1-Pbo_all_2, axis=-2)\n",
    "        v_batch = tf.stop_gradient(tf.linalg.cross(v_batch, self.x_batch)+tf.linalg.cross(v_batch, self.y_batch))\n",
    "        dist, flag = test_collision_batch(vtx_tf_1, vtx_tf_2, \n",
    "                             v_batch, self.flag_default, self.dist_default, IterationAllowed=self.col_iteration)\n",
    "        return dist, flag, col_combs_masked_flat \n",
    "    \n",
    "    @tf.function\n",
    "    def calc_collision_loss(self, T_all, Tbo_all):\n",
    "        dist, flag, _  = self.test_collision(T_all, Tbo_all)\n",
    "        return K.sum(1/((dist/self.COL_BOUND)**3))\n",
    "    \n",
    "    def jacobian(self, T_all, Tbo_all, Tbb_all):\n",
    "        P_jnt, axis_jnt = self.robot.prepare_joint_axis(T_all)\n",
    "        return (\n",
    "            self.robot.jacobian_link(T_all, P_jnt, axis_jnt), \n",
    "            self.col_cal.jacobian_object(Tbo_all, P_jnt, axis_jnt), \n",
    "            self.bind_cal.jacobian_object(Tbb_all, P_jnt, axis_jnt),\n",
    "            self.bind_cal.jacobian_rot(Tbb_all, axis_jnt)\n",
    "        )\n",
    "        "
   ]
  },
  {
   "cell_type": "code",
   "execution_count": 9,
   "metadata": {
    "scrolled": true
   },
   "outputs": [
    {
     "name": "stdout",
     "output_type": "stream",
     "text": [
      "initialize: \t9085.0 ms/1 = 9085.288 ms \n",
      "\n"
     ]
    }
   ],
   "source": [
    "N_sim = 20\n",
    "N_joints = 9\n",
    "DOF = 6\n",
    "gtimer = GlobalTimer()\n",
    "\n",
    "\n",
    "gtimer.tic(\"initialize\")\n",
    "robot_info = RobotInfo(link_info_list, rname = \"rbt1\", base_frame=np.identity(4,dtype=np.float32))\n",
    "binfo_list = [\n",
    "    BindingInfo(\n",
    "        name='vac1', btype=BindingType.VACC, obj_name='tool_mesh', gtype=GeoType.SPHERE, Toff=SE3(Rot_zyx(0,0,0), (0,0,0.05))), \n",
    "    BindingInfo(\n",
    "        name='boxtop', btype=BindingType.SUCC, obj_name='box1', gtype=GeoType.SPHERE, Toff=SE3(Rot_zyx(0,0,0), (0,0,0.05))), \n",
    "    BindingInfo(\n",
    "        name='boxbottom', btype=BindingType.SUCC, obj_name='box1', gtype=GeoType.SPHERE, Toff=SE3(Rot_zyx(0,0,np.pi), (0,0,-0.05))), \n",
    "    BindingInfo(\n",
    "        name='floortop', btype=BindingType.PLANE, obj_name='floor', gtype=None, Toff=SE3(Rot_zyx(0,0,np.pi), (0,0,0.005)))]\n",
    "graph = GraphModel(robot_info=robot_info, gitem_list=gitem_list, binfo_list=binfo_list, urdf_content=urdf_content, \n",
    "                   N_sim=N_sim, learning_rate=5e-3, \n",
    "                   alpha_cl=0.00)\n",
    "Q_ = np.array([tuple(ZERO_JOINT_POSE+(np.random.rand(DOF)*2-1)*np.pi/100) for _ in range(N_sim)], dtype=np.float32)\n",
    "gframe_dict_list = [gframe_dict]*N_sim\n",
    "graph.assign_Q(Q_)\n",
    "graph.assign_frame_dict(gframe_dict_list)\n",
    "T_all, Tbo_all, Tbb_all = graph(None)\n",
    "Tbo_all_res = tf.reshape(Tbo_all, (graph.N_sim, 1, graph.num_objects, 1, 4,4))\n",
    "res = graph.col_cal.calc_all(Tbo_all_res)\n",
    "gtimer.toc(\"initialize\")\n",
    "print(gtimer)"
   ]
  },
  {
   "cell_type": "code",
   "execution_count": 10,
   "metadata": {},
   "outputs": [
    {
     "name": "stdout",
     "output_type": "stream",
     "text": [
      "assign: \t6.0 ms/1 = 5.788 ms \n",
      "\n"
     ]
    }
   ],
   "source": [
    "gtimer.reset()\n",
    "Q_ = np.array([tuple(ZERO_JOINT_POSE+(np.random.rand(DOF)*2-1)*np.pi/100) for _ in range(N_sim)], dtype=np.float32)\n",
    "gtimer.tic(\"assign\")\n",
    "graph.assign_Q(Q_)\n",
    "graph.assign_frame_dict(gframe_dict_list)\n",
    "graph.set_slack_batch([[(0,1)]]*N_sim)\n",
    "gtimer.toc(\"assign\")\n",
    "print(gtimer)"
   ]
  },
  {
   "cell_type": "code",
   "execution_count": null,
   "metadata": {},
   "outputs": [],
   "source": []
  },
  {
   "cell_type": "markdown",
   "metadata": {},
   "source": [
    "# Show rviz"
   ]
  },
  {
   "cell_type": "code",
   "execution_count": 11,
   "metadata": {},
   "outputs": [],
   "source": [
    "Q_ = np.array([tuple(ZERO_JOINT_POSE+(np.random.rand(DOF)*2-1)*np.pi/100) for _ in range(N_sim)], dtype=np.float32)\n",
    "gframe_dict.update({\"box1\":GeometryFrame(SE3(Rot_zyx(0,0,0),(0.5,0,0.05)), \"world\"),\n",
    "                    \"floor\":GeometryFrame(SE3(Rot_zyx(0,0,0),(0.5,0,-0.00501)), \"world\")\n",
    "                   })\n",
    "gframe_dict_list = [gframe_dict]*N_sim\n",
    "graph.assign_Q(Q_)\n",
    "graph.assign_frame_dict(gframe_dict_list)\n",
    "graph.set_slack_batch([[(graph.binding_name_list.index('vac1'), \n",
    "                         graph.binding_name_list.index('boxtop'))]]*N_sim)"
   ]
  },
  {
   "cell_type": "code",
   "execution_count": 18,
   "metadata": {},
   "outputs": [],
   "source": [
    "Qcur = graph.get_Q()\n",
    "q = np.array(Qcur[0])\n",
    "gframevec = [gframe_dict[mk.geometry.name] for mk in marker_list]\n",
    "pose_list = [q]\n",
    "gframevec_list = [gframevec]\n",
    "show_motion(pose_list, marker_list, gframevec_list, pub, joints, error_skip=1e-6, period=1e-6)"
   ]
  },
  {
   "cell_type": "code",
   "execution_count": null,
   "metadata": {},
   "outputs": [],
   "source": []
  },
  {
   "cell_type": "markdown",
   "metadata": {},
   "source": [
    "# loop display"
   ]
  },
  {
   "cell_type": "code",
   "execution_count": 19,
   "metadata": {},
   "outputs": [
    {
     "name": "stdout",
     "output_type": "stream",
     "text": [
      "calc: \t6759.0 ms/100 = 67.585 ms \n",
      "assign: \t52.0 ms/100 = 0.523 ms \n",
      "\n"
     ]
    }
   ],
   "source": [
    "gtimer.reset()\n",
    "rate = 0.5\n",
    "dQ_pre = 0.0\n",
    "alpha = 0.5\n",
    "for _ in range(100):\n",
    "    gtimer.tic(\"calc\")\n",
    "    N_slack = 1\n",
    "    identity_const = tf.constant(tf.expand_dims(np.identity(N_slack, dtype=np.float32), axis=0))\n",
    "    T_all, Tbo_all, Tbb_all = graph(graph.binding_index_list)\n",
    "    jac_r, jac_o, jac_b, jac_brot = graph.jacobian(T_all, Tbo_all, Tbb_all)\n",
    "    Tbo_all_res = tf.reshape(Tbo_all, (graph.N_sim, 1, graph.num_objects, 1, 4,4))\n",
    "    dist_all, flag_all, vec_all, mask_all = graph.col_cal.calc_all(Tbo_all_res)\n",
    "    jac_d = graph.col_cal.jacobian_distance(jac_o, vec_all)\n",
    "    Tbb_all_res = tf.reshape(Tbb_all, (graph.N_sim, 1, graph.num_binding, 1, 4,4))\n",
    "    b_dist_all, flag_all, vec_all, b_mask_all, angle_all, vec_angle, mask_rot = graph.bind_cal.calc_all(Tbb_all_res)\n",
    "    b_dist_all = tf.expand_dims(tf.gather_nd(b_dist_all, graph.bind_cal.slack_idx_list), axis=-2)\n",
    "    jac_bind, jac_ang = graph.bind_cal.jacobian_binding(jac_b, vec_all, jac_brot, vec_angle)\n",
    "    jac_bind = tf.expand_dims(tf.gather_nd(jac_bind, graph.bind_cal.slack_idx_list), axis=-2)\n",
    "    jac_bind_tr = tf.transpose(jac_bind, (0,2,1))\n",
    "    jac_bind_inv = tf.matmul(jac_bind_tr, tf.linalg.inv(tf.matmul(jac_bind,jac_bind_tr)+identity_const*1e-16))\n",
    "    jac_ang_stack = tf.gather_nd(jac_ang, [graph.bind_cal.pair_axis_list]*graph.N_sim, batch_dims=1)\n",
    "    jac_ang_stack = tf.expand_dims(tf.gather_nd(jac_ang_stack, graph.bind_cal.slack_idx_list), axis=-2)\n",
    "    jac_ang_tr = tf.transpose(jac_ang_stack, (0,2,1))\n",
    "    jac_ang_inv = tf.matmul(jac_ang_tr, tf.linalg.inv(tf.matmul(jac_ang_stack,jac_ang_tr)+identity_const*1e-16))\n",
    "    angle_all_stack = tf.gather_nd(angle_all, [graph.bind_cal.pair_axis_list]*graph.N_sim, batch_dims=1)\n",
    "    angle_all_stack = tf.expand_dims(tf.gather_nd(angle_all_stack, graph.bind_cal.slack_idx_list), axis=-2)\n",
    "    \n",
    "    #calc_clip_lpf dQ\n",
    "    dQ = K.sum(b_dist_all*jac_bind_inv+angle_all_stack*jac_ang_inv, axis=-1)*rate\n",
    "    dQ_clip = clip_gradient_elem_wise(dQ, graph.dQ_max)\n",
    "    dQ_pre = lpf(dQ_clip, dQ_pre, alpha)\n",
    "    \n",
    "    #cut collision\n",
    "    dD = K.sum(jac_d*tf.expand_dims(dQ_clip, axis=-2), axis=-1, keepdims=True)\n",
    "    Dcur = dist_all\n",
    "    mask_colliding = tf.cast(Dcur+dD<0,dtype=tf.float32)\n",
    "    sign_jac_d =tf.sign(jac_d)\n",
    "    dQ_cut = (mask_colliding* mask_all)*(Dcur+dD)*jac_d/(K.sum(tf.square(jac_d), axis=-1, keepdims=True)+1e-16)\n",
    "    dQ_cut = K.sum(dQ_cut, axis=-2) # need to implement optimizer\n",
    "    \n",
    "    Qcur = graph.get_Q()\n",
    "    Qnew = Qcur+dQ_pre+dQ_cut\n",
    "\n",
    "    gtimer.toc(\"calc\")\n",
    "    gtimer.tic(\"assign\")\n",
    "    graph.assign_Q(Qnew)\n",
    "    gtimer.toc(\"assign\")\n",
    "\n",
    "    pose_list = [np.array(graph.get_Q()[0])]\n",
    "    gframevec_list = [[gframe_dict[mk.geometry.name] for mk in marker_list]]\n",
    "    show_motion(pose_list, marker_list, gframevec_list, pub, joints, error_skip=1e-6, period=1e-6)\n",
    "    timer.sleep(0.05)\n",
    "print(gtimer)"
   ]
  },
  {
   "cell_type": "code",
   "execution_count": 20,
   "metadata": {},
   "outputs": [],
   "source": [
    "gframe_dict_list = graph.update_slack_frames(gframe_dict_list)"
   ]
  },
  {
   "cell_type": "code",
   "execution_count": null,
   "metadata": {},
   "outputs": [],
   "source": []
  },
  {
   "cell_type": "markdown",
   "metadata": {},
   "source": [
    "# Show rviz"
   ]
  },
  {
   "cell_type": "code",
   "execution_count": 21,
   "metadata": {},
   "outputs": [],
   "source": [
    "Q_ = np.array([tuple(ZERO_JOINT_POSE+(np.random.rand(DOF)*2-1)*np.pi/100) for _ in range(N_sim)], dtype=np.float32)\n",
    "graph.assign_Q(Q_)\n",
    "graph.assign_frame_dict(gframe_dict_list)\n",
    "graph.set_slack_batch([[(graph.binding_name_list.index('boxbottom'), \n",
    "                         graph.binding_name_list.index('floortop'))]]*N_sim)"
   ]
  },
  {
   "cell_type": "code",
   "execution_count": 22,
   "metadata": {},
   "outputs": [],
   "source": [
    "Qcur = graph.get_Q()\n",
    "q = np.array(Qcur[0])\n",
    "gframevec = [gframe_dict[mk.geometry.name] for mk in marker_list]\n",
    "pose_list = [q]\n",
    "gframevec_list = [gframevec]\n",
    "show_motion(pose_list, marker_list, gframevec_list, pub, joints, error_skip=1e-6, period=1e-6)"
   ]
  },
  {
   "cell_type": "code",
   "execution_count": null,
   "metadata": {},
   "outputs": [],
   "source": []
  },
  {
   "cell_type": "markdown",
   "metadata": {},
   "source": [
    "# loop display"
   ]
  },
  {
   "cell_type": "code",
   "execution_count": 23,
   "metadata": {},
   "outputs": [
    {
     "name": "stdout",
     "output_type": "stream",
     "text": [
      "calc: \t7099.0 ms/100 = 70.993 ms \n",
      "assign: \t59.0 ms/100 = 0.593 ms \n",
      "\n"
     ]
    }
   ],
   "source": [
    "gtimer.reset()\n",
    "rate = 0.5\n",
    "dQ_pre = 0.0\n",
    "alpha = 0.5\n",
    "for _ in range(100):\n",
    "    gtimer.tic(\"calc\")\n",
    "    N_slack = 1\n",
    "    identity_const = tf.constant(tf.expand_dims(np.identity(N_slack, dtype=np.float32), axis=0))\n",
    "    T_all, Tbo_all, Tbb_all = graph(graph.binding_index_list)\n",
    "    jac_r, jac_o, jac_b, jac_brot = graph.jacobian(T_all, Tbo_all, Tbb_all)\n",
    "    Tbo_all_res = tf.reshape(Tbo_all, (graph.N_sim, 1, graph.num_objects, 1, 4,4))\n",
    "    dist_all, flag_all, vec_all, mask_all = graph.col_cal.calc_all(Tbo_all_res)\n",
    "    jac_d = graph.col_cal.jacobian_distance(jac_o, vec_all)\n",
    "    Tbb_all_res = tf.reshape(Tbb_all, (graph.N_sim, 1, graph.num_binding, 1, 4,4))\n",
    "    b_dist_all, flag_all, vec_all, b_mask_all, angle_all, vec_angle, mask_rot = graph.bind_cal.calc_all(Tbb_all_res)\n",
    "    b_dist_all = tf.expand_dims(tf.gather_nd(b_dist_all, graph.bind_cal.slack_idx_list), axis=-2)\n",
    "    jac_bind, jac_ang = graph.bind_cal.jacobian_binding(jac_b, vec_all, jac_brot, vec_angle)\n",
    "    jac_bind = tf.expand_dims(tf.gather_nd(jac_bind, graph.bind_cal.slack_idx_list), axis=-2)\n",
    "    jac_bind_tr = tf.transpose(jac_bind, (0,2,1))\n",
    "    jac_bind_inv = tf.matmul(jac_bind_tr, tf.linalg.inv(tf.matmul(jac_bind,jac_bind_tr)+identity_const*1e-16))\n",
    "    jac_ang_stack = tf.gather_nd(jac_ang, [graph.bind_cal.pair_axis_list]*graph.N_sim, batch_dims=1)\n",
    "    jac_ang_stack = tf.expand_dims(tf.gather_nd(jac_ang_stack, graph.bind_cal.slack_idx_list), axis=-2)\n",
    "    jac_ang_tr = tf.transpose(jac_ang_stack, (0,2,1))\n",
    "    jac_ang_inv = tf.matmul(jac_ang_tr, tf.linalg.inv(tf.matmul(jac_ang_stack,jac_ang_tr)+identity_const*1e-16))\n",
    "    angle_all_stack = tf.gather_nd(angle_all, [graph.bind_cal.pair_axis_list]*graph.N_sim, batch_dims=1)\n",
    "    angle_all_stack = tf.expand_dims(tf.gather_nd(angle_all_stack, graph.bind_cal.slack_idx_list), axis=-2)\n",
    "    \n",
    "    #calc_clip_lpf dQ\n",
    "    dQ = K.sum(b_dist_all*jac_bind_inv+angle_all_stack*jac_ang_inv, axis=-1)*rate\n",
    "    dQ_clip = clip_gradient_elem_wise(dQ, graph.dQ_max)\n",
    "    dQ_pre = lpf(dQ_clip, dQ_pre, alpha)\n",
    "    \n",
    "    #cut collision\n",
    "    dD = K.sum(jac_d*tf.expand_dims(dQ_clip, axis=-2), axis=-1, keepdims=True)\n",
    "    Dcur = dist_all\n",
    "    mask_colliding = tf.cast(Dcur+dD<0,dtype=tf.float32)\n",
    "    sign_jac_d =tf.sign(jac_d)\n",
    "    dQ_cut = (mask_colliding* mask_all)*(Dcur+dD)*jac_d/(K.sum(tf.square(jac_d), axis=-1, keepdims=True)+1e-16)\n",
    "    dQ_cut = K.sum(dQ_cut, axis=-2) # need to implement optimizer\n",
    "    \n",
    "    Qcur = graph.get_Q()\n",
    "    Qnew = Qcur+dQ_pre+dQ_cut\n",
    "\n",
    "    gtimer.toc(\"calc\")\n",
    "    gtimer.tic(\"assign\")\n",
    "    graph.assign_Q(Qnew)\n",
    "    gtimer.toc(\"assign\")\n",
    "\n",
    "    pose_list = [np.array(graph.get_Q()[0])]\n",
    "    gframevec_list = [[gframe_dict[mk.geometry.name] for mk in marker_list]]\n",
    "    show_motion(pose_list, marker_list, gframevec_list, pub, joints, error_skip=1e-6, period=1e-6)\n",
    "    timer.sleep(0.05)\n",
    "print(gtimer)"
   ]
  },
  {
   "cell_type": "code",
   "execution_count": 24,
   "metadata": {},
   "outputs": [],
   "source": [
    "gframe_dict_list = graph.update_slack_frames(gframe_dict_list)"
   ]
  },
  {
   "cell_type": "code",
   "execution_count": null,
   "metadata": {},
   "outputs": [],
   "source": []
  },
  {
   "cell_type": "code",
   "execution_count": null,
   "metadata": {},
   "outputs": [],
   "source": []
  },
  {
   "cell_type": "code",
   "execution_count": null,
   "metadata": {},
   "outputs": [],
   "source": []
  },
  {
   "cell_type": "code",
   "execution_count": null,
   "metadata": {},
   "outputs": [],
   "source": []
  },
  {
   "cell_type": "markdown",
   "metadata": {},
   "source": [
    "# Test full loop"
   ]
  },
  {
   "cell_type": "code",
   "execution_count": 15,
   "metadata": {},
   "outputs": [],
   "source": [
    "rate = 0.5\n",
    "dQ_pre = tf.zeros((N_sim, graph.robot.DOF), dtype=tf.float32)\n",
    "alpha = 0.5\n",
    "N_slack = 1\n",
    "identity_const = tf.constant(tf.expand_dims(np.identity(N_slack, dtype=np.float32), axis=0))\n",
    "\n",
    "@tf.function\n",
    "def _loop(dQ_pre, value):\n",
    "    T_all, Tbo_all, Tbb_all = graph(graph.binding_index_list)\n",
    "    jac_r, jac_o, jac_b, jac_brot = graph.jacobian(T_all, Tbo_all, Tbb_all)\n",
    "    Tbo_all_res = tf.reshape(Tbo_all, (graph.N_sim, 1, graph.num_objects, 1, 4,4))\n",
    "    dist_all, flag_all, vec_all, mask_all = graph.col_cal.calc_all(Tbo_all_res)\n",
    "    jac_d = graph.col_cal.jacobian_distance(jac_o, vec_all)\n",
    "    Tbb_all_res = tf.reshape(Tbb_all, (graph.N_sim, 1, graph.num_binding, 1, 4,4))\n",
    "    b_dist_all, flag_all, vec_all, b_mask_all, angle_all, vec_angle, mask_rot = graph.bind_cal.calc_all(Tbb_all_res)\n",
    "    b_dist_all = tf.expand_dims(tf.gather_nd(b_dist_all, graph.bind_cal.slack_idx_list), axis=-2)\n",
    "    jac_bind, jac_ang = graph.bind_cal.jacobian_binding(jac_b, vec_all, jac_brot, vec_angle)\n",
    "    jac_bind = tf.expand_dims(tf.gather_nd(jac_bind, graph.bind_cal.slack_idx_list), axis=-2)\n",
    "    jac_bind_tr = tf.transpose(jac_bind, (0,2,1))\n",
    "    jac_bind_inv = tf.matmul(jac_bind_tr, tf.linalg.inv(tf.matmul(jac_bind,jac_bind_tr)+identity_const*1e-16))\n",
    "    jac_ang_stack = tf.gather_nd(jac_ang, [graph.bind_cal.pair_axis_list]*graph.N_sim, batch_dims=1)\n",
    "    jac_ang_stack = tf.expand_dims(tf.gather_nd(jac_ang_stack, graph.bind_cal.slack_idx_list), axis=-2)\n",
    "    jac_ang_tr = tf.transpose(jac_ang_stack, (0,2,1))\n",
    "    jac_ang_inv = tf.matmul(jac_ang_tr, tf.linalg.inv(tf.matmul(jac_ang_stack,jac_ang_tr)+identity_const*1e-16))\n",
    "    angle_all_stack = tf.gather_nd(angle_all, [graph.bind_cal.pair_axis_list]*graph.N_sim, batch_dims=1)\n",
    "    angle_all_stack = tf.expand_dims(tf.gather_nd(angle_all_stack, graph.bind_cal.slack_idx_list), axis=-2)\n",
    "    \n",
    "    #calc_clip_lpf dQ\n",
    "    dQ = K.sum(b_dist_all*jac_bind_inv+angle_all_stack*jac_ang_inv, axis=-1)*rate\n",
    "    dQ_clip = clip_gradient_elem_wise(dQ, graph.dQ_max)\n",
    "    dQ_pre = lpf(dQ_clip, dQ_pre, alpha)\n",
    "    \n",
    "    #cut collision\n",
    "    dD = K.sum(jac_d*tf.expand_dims(dQ_clip, axis=-2), axis=-1, keepdims=True)\n",
    "    Dcur = dist_all\n",
    "    mask_colliding = tf.cast(Dcur+dD<0,dtype=tf.float32)\n",
    "    sign_jac_d =tf.sign(jac_d)\n",
    "    dQ_cut = (mask_colliding* mask_all)*(Dcur+dD)*jac_d/(K.sum(tf.square(jac_d), axis=-1, keepdims=True)+1e-16)\n",
    "    dQ_cut = K.sum(dQ_cut, axis=-2) # need to implement optimizer\n",
    "    \n",
    "    Qcur = graph.get_Q()\n",
    "    Qnew = Qcur+dQ_pre+dQ_cut\n",
    "    graph.assign_Q(Qnew)\n",
    "    return dQ_pre, K.sum(dist_all)*K.sum(mask_all)+K.sum(jac_r)+K.sum(jac_o)+K.sum(jac_d)\n",
    "\n",
    "@tf.function\n",
    "def run_test(N_loop):\n",
    "    res = tf.while_loop(\n",
    "        lambda dQ_pre, value: True, _loop, (dQ_pre, tf.constant(0.0),), \n",
    "        parallel_iterations=10, maximum_iterations=N_loop\n",
    "    )\n",
    "    return res\n",
    "\n",
    "graph.assign_frame_dict(gframe_dict_list)\n",
    "res = run_test(100)"
   ]
  },
  {
   "cell_type": "code",
   "execution_count": 16,
   "metadata": {},
   "outputs": [
    {
     "name": "stdout",
     "output_type": "stream",
     "text": [
      "assign: \t6.0 ms/1 = 6.045 ms \n",
      "loop100: \t464.0 ms/1 = 464.47 ms \n",
      "\n"
     ]
    }
   ],
   "source": [
    "gtimer.reset()\n",
    "Q_ = np.array([tuple(ZERO_JOINT_POSE+(np.random.rand(DOF)*2-1)*np.pi/100) for _ in range(N_sim)], dtype=np.float32)\n",
    "gtimer.tic(\"assign\")\n",
    "graph.assign_Q(Q_)\n",
    "graph.assign_frame_dict(gframe_dict_list)\n",
    "graph.set_slack_batch([[(graph.binding_name_list.index('vac1'), \n",
    "                         graph.binding_name_list.index('boxtop'))]]*N_sim)\n",
    "gtimer.toc(\"assign\")\n",
    "gtimer.tic(\"loop100\")\n",
    "res = run_test(100)\n",
    "gtimer.toc(\"loop100\")\n",
    "print(gtimer)"
   ]
  },
  {
   "cell_type": "code",
   "execution_count": null,
   "metadata": {},
   "outputs": [],
   "source": []
  },
  {
   "cell_type": "code",
   "execution_count": null,
   "metadata": {},
   "outputs": [],
   "source": []
  },
  {
   "cell_type": "code",
   "execution_count": null,
   "metadata": {},
   "outputs": [],
   "source": []
  },
  {
   "cell_type": "code",
   "execution_count": null,
   "metadata": {},
   "outputs": [],
   "source": []
  },
  {
   "cell_type": "markdown",
   "metadata": {},
   "source": [
    "# Gradient Clipping"
   ]
  },
  {
   "cell_type": "code",
   "execution_count": 16,
   "metadata": {},
   "outputs": [
    {
     "name": "stdout",
     "output_type": "stream",
     "text": [
      "assign: \t6.0 ms/1 = 5.57 ms \n",
      "\n"
     ]
    }
   ],
   "source": [
    "gtimer.reset()\n",
    "Q_ = np.array([tuple(ZERO_JOINT_POSE+(np.random.rand(DOF)*2-1)*np.pi/100) for _ in range(N_sim)], dtype=np.float32)\n",
    "gtimer.tic(\"assign\")\n",
    "graph.assign_Q(Q_)\n",
    "graph.assign_frame_dict(gframe_dict_list)\n",
    "gtimer.toc(\"assign\")\n",
    "print(gtimer)"
   ]
  },
  {
   "cell_type": "code",
   "execution_count": 17,
   "metadata": {},
   "outputs": [
    {
     "name": "stdout",
     "output_type": "stream",
     "text": [
      "func: \t11.0 ms/1 = 10.72 ms \n",
      "apply: \t0.0 ms/1 = 0.019 ms \n",
      "\n"
     ]
    }
   ],
   "source": [
    "gtimer.reset()\n",
    "gtimer.tic(\"func\")\n",
    "T_all, Tbo_all = graph(None)\n",
    "Tbo_all_res = tf.reshape(Tbo_all, (graph.N_sim, 1, graph.num_objects, 1, 4,4))\n",
    "jac_r, jac_o = graph.jacobian(T_all, Tbo_all)\n",
    "dist_all, flag_all, vec_all, mask_all = graph.col_cal.calc_all(Tbo_all_res)\n",
    "jac_d = graph.col_cal.jacobian(jac_o, vec_all)\n",
    "gtimer.toc(\"func\")\n",
    "# gtimer.tic(\"grad\")\n",
    "# # Compute gradients.\n",
    "# # gradients = g.gradient(loss, trainable_variables)\n",
    "# # jacobian = g.batch_jacobian(loss, trainable_variables[0])\n",
    "# gtimer.toc(\"grad\")\n",
    "# gradients = tf.unstack(clip_gradient(gradients, max_gradient))\n",
    "\n",
    "# # Update W and b following gradients.\n",
    "gtimer.tic(\"apply\")\n",
    "# graph.optimizer.apply_gradients(zip(gradients, graph.trainable_variables))\n",
    "gtimer.toc(\"apply\")\n",
    "print(gtimer)"
   ]
  },
  {
   "cell_type": "code",
   "execution_count": null,
   "metadata": {},
   "outputs": [],
   "source": []
  },
  {
   "cell_type": "markdown",
   "metadata": {},
   "source": [
    "# test full gradient"
   ]
  },
  {
   "cell_type": "code",
   "execution_count": 143,
   "metadata": {},
   "outputs": [],
   "source": [
    "@tf.function\n",
    "def test_grad(res):\n",
    "    with tf.GradientTape() as g:\n",
    "        # Forward pass.\n",
    "        T_all, Tbo_all = graph(None)\n",
    "        Tbo_all_res = tf.reshape(Tbo_all, (graph.N_sim, 1, graph.num_objects, 1, 4,4))\n",
    "        dist, flag, mask = graph.dcal.calc_all(Tbo_all_res)\n",
    "#         dist = dist*mask\n",
    "#         loss = [tf.gather(dist, i_sim) for i_sim in range(N_sim)]\n",
    "    #     loss = K.sum(dist[6])\n",
    "    # Variables to update, i.e. trainable variables\n",
    "\n",
    "    # Compute gradients.\n",
    "    jacobian = g.batch_jacobian(dist, graph.trainable_variables[0])\n",
    "    return K.sum(jacobian)\n",
    "#     bjac = g.batch_jacobian(dist, graph.trainable_variables[0])\n",
    "#     return bjac\n",
    "gradients = test_grad(0)"
   ]
  },
  {
   "cell_type": "code",
   "execution_count": null,
   "metadata": {},
   "outputs": [],
   "source": [
    "@ tf.function\n",
    "def loop_grad():\n",
    "    N_loop=100\n",
    "    res = tf.while_loop(\n",
    "        lambda value: True, test_grad, (tf.constant(0.0),), \n",
    "        parallel_iterations=10, maximum_iterations=N_loop\n",
    "    )\n",
    "    return res\n",
    "loop_grad()"
   ]
  },
  {
   "cell_type": "code",
   "execution_count": null,
   "metadata": {},
   "outputs": [],
   "source": [
    "gtimer.reset()\n",
    "gtimer.tic(\"func\")\n",
    "jacobian = loop_grad()\n",
    "gtimer.toc(\"func\")\n",
    "# gradients = tf.unstack(clip_gradient(gradients, max_gradient))\n",
    "\n",
    "# # Update W and b following gradients.\n",
    "gtimer.tic(\"apply\")\n",
    "# graph.optimizer.apply_gradients(zip(gradients, graph.trainable_variables))\n",
    "gtimer.toc(\"apply\")\n",
    "print(gtimer)\n",
    "# print(gradients.shape)"
   ]
  },
  {
   "cell_type": "code",
   "execution_count": null,
   "metadata": {},
   "outputs": [],
   "source": []
  },
  {
   "cell_type": "markdown",
   "metadata": {},
   "source": [
    "# SGD Optimizer"
   ]
  },
  {
   "cell_type": "code",
   "execution_count": 133,
   "metadata": {},
   "outputs": [],
   "source": [
    "Q_ = np.array([tuple(ZERO_JOINT_POSE+(np.random.rand(DOF)*2-1)*np.pi/100) for _ in range(N_sim)], dtype=np.float32)\n",
    "Ttar_ = SE3(Rot_zyx(0,0,np.pi),(0.5,0,0.00)).astype(np.float32)\n",
    "gframe_dict_list = [gframe_dict]*N_sim\n",
    "graph.assign_Q(Q_)\n",
    "graph.assign_frame_dict(gframe_dict_list)"
   ]
  },
  {
   "cell_type": "code",
   "execution_count": 292,
   "metadata": {
    "scrolled": true
   },
   "outputs": [
    {
     "name": "stdout",
     "output_type": "stream",
     "text": [
      "update: \t110.0 ms/100 = 1.095 ms\n",
      "record: \t19.0 ms/100 = 0.19 ms\n",
      "loss: 9.515193939208984\n"
     ]
    }
   ],
   "source": [
    "time_vec = []\n",
    "Q_list = [list(map(lambda x: x.numpy(), graph.get_Q()))]\n",
    "# Tbo_all_list = [np.array([[gframe_dict[gitem.name].Toff for gitem in gitem_list]]*N_sim)]\n",
    "N_iter = 100\n",
    "# Run training for the given number of steps.\n",
    "Qtar, binQ, Ttar, binT = (np.zeros((N_sim, DOF), dtype='float32'), np.zeros(N_sim, dtype='float32'),\n",
    "                      np.array([Ttar_]*N_sim), np.ones(N_sim, dtype='float32'))\n",
    "dist_list = []\n",
    "loss_list = []\n",
    "jl_loss_list = []\n",
    "jc_loss_list = []\n",
    "fc_loss_list = []\n",
    "cl_loss_list = []\n",
    "gradients_list = []\n",
    "gtimer.reset()\n",
    "for _ in range(N_iter):\n",
    "    # Run the optimization to update W and b values.\n",
    "    T_all, Tbo_all = graph(None)\n",
    "    #dist_list += [K.min(graph.test_collision(T_all, Tbo_all)[0]).numpy()]\n",
    "    jl_loss = graph.calc_joint_limit()\n",
    "    jc_loss = graph.joint_constraint((Qtar, binQ))\n",
    "    fc_loss = graph.frame_constraint((T_all[:,-1,:,:],Ttar, binT))\n",
    "    #cl_loss = graph.calc_collision_loss(T_all, Tbo_all)\n",
    "    gtimer.tic(\"update\")\n",
    "    loss = graph.update_once(Qtar, binQ, Ttar, binT, max_gradient=10)\n",
    "#     max_gradient=10\n",
    "\n",
    "#     with tf.GradientTape() as g:\n",
    "#         # Forward pass.\n",
    "#         loss = graph.forward(Qtar, binQ, Ttar, binT)\n",
    "\n",
    "#     # Variables to update, i.e. trainable variables.\n",
    "#     trainable_variables = graph.trainable_variables\n",
    "\n",
    "#     # Compute gradients.\n",
    "#     gradients = g.gradient(loss, trainable_variables)\n",
    "#     gradients = tf.unstack(clip_gradient(gradients, max_gradient))\n",
    "\n",
    "#     # Update W and b following gradients.\n",
    "#     graph.optimizer.apply_gradients(zip(gradients, graph.trainable_variables))\n",
    "    gtimer.toc(\"update\")\n",
    "    gtimer.tic(\"record\")\n",
    "    Q_list += [graph.get_Q().numpy()]\n",
    "    loss_list += [loss]\n",
    "#     gradients_list += [gradients]\n",
    "    jl_loss_list += [jl_loss]\n",
    "    jc_loss_list += [jc_loss]\n",
    "    fc_loss_list += [fc_loss]\n",
    "    #cl_loss_list += [cl_loss]\n",
    "    gtimer.toc(\"record\")\n",
    "#     if isnan(dist_list[-1]) or dist_list[-1]<0:\n",
    "#         break\n",
    "gtimer.print_time_log()\n",
    "print(\"loss: {}\".format(loss))"
   ]
  },
  {
   "cell_type": "code",
   "execution_count": null,
   "metadata": {},
   "outputs": [],
   "source": []
  },
  {
   "cell_type": "markdown",
   "metadata": {},
   "source": [
    "# Plot result"
   ]
  },
  {
   "cell_type": "code",
   "execution_count": 140,
   "metadata": {},
   "outputs": [
    {
     "data": {
      "text/plain": [
       "[<matplotlib.lines.Line2D at 0x7f689c0b86d8>,\n",
       " <matplotlib.lines.Line2D at 0x7f68837e5630>,\n",
       " <matplotlib.lines.Line2D at 0x7f68837e5780>,\n",
       " <matplotlib.lines.Line2D at 0x7f68837e58d0>,\n",
       " <matplotlib.lines.Line2D at 0x7f689c03d860>,\n",
       " <matplotlib.lines.Line2D at 0x7f68837e5b38>]"
      ]
     },
     "execution_count": 140,
     "metadata": {},
     "output_type": "execute_result"
    },
    {
     "data": {
      "image/png": "[encoded data removed]",
      "text/plain": [
       "<Figure size 432x288 with 1 Axes>"
      ]
     },
     "metadata": {
      "needs_background": "light"
     },
     "output_type": "display_data"
    }
   ],
   "source": [
    "i_sim = 0\n",
    "i_iter = 0\n",
    "Q_all = np.array(Q_list)\n",
    "Q_all_i = np.array([Q_all[i_iter, i_sim,:] for i_iter in range(len(Q_list))])\n",
    "plt.plot(Q_all_i,'-o')\n",
    "plt.plot(Q_all_i[1:,:]-Q_all_i[:-1,:],'-.')"
   ]
  },
  {
   "cell_type": "code",
   "execution_count": null,
   "metadata": {},
   "outputs": [],
   "source": [
    "plt.plot(dist_list, label=\"distance\")"
   ]
  },
  {
   "cell_type": "code",
   "execution_count": null,
   "metadata": {
    "scrolled": true
   },
   "outputs": [],
   "source": [
    "plt.plot(loss_list, label=\"total\")\n",
    "plt.plot(np.multiply(jl_loss_list, graph.alpha_jl), label=\"joint limit\")\n",
    "plt.plot(np.multiply(jc_loss_list, graph.alpha_jc), label=\"joint target\")\n",
    "plt.plot(np.multiply(fc_loss_list, graph.alpha_fc), label=\"frame target\")\n",
    "plt.plot(np.multiply(cl_loss_list, graph.alpha_cl), label=\"collision dist\")\n",
    "plt.legend()\n",
    "axes = plt.gca()\n",
    "# axes.set_ylim([-1e1,5e1])\n",
    "# axes.set_xlim([0,1e1])"
   ]
  },
  {
   "cell_type": "code",
   "execution_count": null,
   "metadata": {},
   "outputs": [],
   "source": []
  },
  {
   "cell_type": "markdown",
   "metadata": {},
   "source": [
    "# Show rviz"
   ]
  },
  {
   "cell_type": "code",
   "execution_count": 293,
   "metadata": {},
   "outputs": [],
   "source": [
    "q = Q_[0]\n",
    "gframevec = [gframe_dict[mk.geometry.name] for mk in marker_list]\n",
    "pose_list = [q[2:-1]]\n",
    "gframevec_list = [gframevec]\n",
    "show_motion(pose_list, marker_list, gframevec_list, pub, joints, error_skip=1e-6, period=1e-6)"
   ]
  },
  {
   "cell_type": "code",
   "execution_count": null,
   "metadata": {},
   "outputs": [],
   "source": []
  },
  {
   "cell_type": "markdown",
   "metadata": {},
   "source": [
    "# Display motion"
   ]
  },
  {
   "cell_type": "code",
   "execution_count": 294,
   "metadata": {},
   "outputs": [],
   "source": [
    "for i_sim in range(1): # N_sim):\n",
    "    for i_iter in range(0,len(Q_list)):\n",
    "        q = Q_list[i_iter][i_sim]\n",
    "        gframevec = [gframe_dict[mk.geometry.name] for mk in marker_list]\n",
    "        pose_list = [q]\n",
    "        gframevec_list = [gframevec]\n",
    "        show_motion(pose_list, marker_list, gframevec_list, pub, joints, error_skip=1e-6, period=1e-6)\n",
    "        time.sleep(10e-2)"
   ]
  },
  {
   "cell_type": "code",
   "execution_count": null,
   "metadata": {},
   "outputs": [],
   "source": []
  },
  {
   "cell_type": "code",
   "execution_count": null,
   "metadata": {
    "scrolled": true
   },
   "outputs": [],
   "source": []
  },
  {
   "cell_type": "code",
   "execution_count": null,
   "metadata": {},
   "outputs": [],
   "source": []
  },
  {
   "cell_type": "markdown",
   "metadata": {},
   "source": [
    "# Collision error case "
   ]
  },
  {
   "cell_type": "code",
   "execution_count": null,
   "metadata": {
    "scrolled": true
   },
   "outputs": [],
   "source": [
    "Q_error = np.loadtxt(\"Q_error.csv\",delimiter=\",\",dtype=np.float32)\n",
    "graph.assign_Q(Q_error)\n",
    "graph.assign_frame_dict(gframe_dict_list)\n",
    "\n",
    "T_all, Tbo_all = graph(None)\n",
    "dist = K.min(graph.test_collision(T_all, Tbo_all)[0]).numpy()\n",
    "cl_loss = graph.calc_collision_loss(T_all, Tbo_all)\n",
    "print(\"dist: {}\".format(dist))"
   ]
  },
  {
   "cell_type": "code",
   "execution_count": null,
   "metadata": {},
   "outputs": [],
   "source": [
    "q = Q_error[0]\n",
    "gframevec = [gframe_dict[mk.geometry.name] for mk in marker_list]\n",
    "pose_list = [q[2:-1]]\n",
    "gframevec_list = [gframevec]\n",
    "show_motion(pose_list, marker_list, gframevec_list, pub, joints, error_skip=1e-6, period=1e-6)"
   ]
  },
  {
   "cell_type": "code",
   "execution_count": null,
   "metadata": {},
   "outputs": [],
   "source": []
  },
  {
   "cell_type": "markdown",
   "metadata": {},
   "source": [
    "# Plot 3D"
   ]
  },
  {
   "cell_type": "code",
   "execution_count": null,
   "metadata": {},
   "outputs": [],
   "source": [
    "import numpy as np\n",
    "import matplotlib.pyplot as plt\n",
    "import mpl_toolkits.mplot3d as mplot3d"
   ]
  },
  {
   "cell_type": "code",
   "execution_count": null,
   "metadata": {},
   "outputs": [],
   "source": [
    "fig = plt.figure()\n",
    "sub = fig.add_subplot(1,1,1,projection=\"3d\")\n",
    "sub.plot(x,y,z)\n",
    "sub.set_xlabel('x')\n",
    "sub.set_ylabel('y')\n",
    "sub.set_zlabel('z')\n",
    "\n",
    "sub.view_init(elev=0., azim=0)"
   ]
  },
  {
   "cell_type": "code",
   "execution_count": null,
   "metadata": {},
   "outputs": [],
   "source": []
  },
  {
   "cell_type": "code",
   "execution_count": null,
   "metadata": {},
   "outputs": [],
   "source": []
  },
  {
   "cell_type": "code",
   "execution_count": null,
   "metadata": {},
   "outputs": [],
   "source": []
  }
 ],
 "metadata": {
  "kernelspec": {
   "display_name": "Python 3",
   "language": "python",
   "name": "python3"
  },
  "language_info": {
   "codemirror_mode": {
    "name": "ipython",
    "version": 3
   },
   "file_extension": ".py",
   "mimetype": "text/x-python",
   "name": "python",
   "nbconvert_exporter": "python",
   "pygments_lexer": "ipython3",
   "version": "3.6.9"
  }
 },
 "nbformat": 4,
 "nbformat_minor": 2
}
