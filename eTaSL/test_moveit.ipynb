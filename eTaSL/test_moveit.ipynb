{
 "cells": [
  {
   "cell_type": "code",
   "execution_count": 1,
   "metadata": {},
   "outputs": [],
   "source": [
    "import os\n",
    "import sys\n",
    "sys.path.append(os.path.join(os.environ[\"TAMP_ETASL_DIR\"], \"moveit_plan_compact\"))\n",
    "import moveit_plan_compact as mpc\n",
    "import numpy as np\n",
    "from enum import Enum\n",
    "\n",
    "class ObjectType(Enum):\n",
    "    BOX = 1\n",
    "    SPHERE = 2\n",
    "    CYLINDER = 3\n",
    "    \n",
    "def make_assign_arr(type, vals):\n",
    "    arr = type()\n",
    "    for v in vals:\n",
    "        arr.append(v)\n",
    "    return arr\n",
    "\n",
    "def make_assign_vec(type, vals, dim):\n",
    "    arr = type()\n",
    "    for i, v in zip(range(dim), vals):\n",
    "        arr[i]=v\n",
    "    return arr\n",
    "    \n",
    "def CartPose(*vals):\n",
    "    return make_assign_vec(mpc.CartPose, vals, 7)\n",
    "        \n",
    "def Vec3(*vals):\n",
    "    return make_assign_vec(mpc.Vec3, vals, 3)\n",
    "        \n",
    "def JointState(dim, *vals):\n",
    "    return make_assign_vec(lambda: mpc.JointState(dim), vals, dim)\n",
    "    \n",
    "def NameList(*vals):\n",
    "    return make_assign_arr(mpc.NameList, vals)\n",
    "\n",
    "def spread(bp_arr, size):\n",
    "    return [bp_arr[i] for i in range(size)]\n",
    "\n",
    "class ObjectMPC:\n",
    "    def __init__(self, name, type, pose, dims, link_name):\n",
    "        self.name, self.type, self.pose, self.dims, self.link_name = name, type, pose, dims, link_name\n",
    "        \n",
    "class MoveitCompactPlanner(mpc.Planner):\n",
    "    def __init__(self, urdf_path, srdf_path, group_names):\n",
    "        mpc.Planner.__init__(self)\n",
    "        self.urdf_path, self.srdf_path = urdf_path, srdf_path\n",
    "        self.group_names_py = group_names\n",
    "        self.group_names = NameList(*group_names)\n",
    "        if not self.init_planner_from_file(urdf_path, srdf_path, self.group_names):\n",
    "            raise(RuntimeError(\"Failed to initialize planner\"))\n",
    "        self.joint_names_py = spread(self.joint_names, self.joint_num)\n",
    "        \n",
    "    def set_scene(self, obj_list):\n",
    "        self.clear_all_objects()\n",
    "        for obj in obj_list:\n",
    "            self.add_object(obj.name, obj.type.value, CartPose(*obj.pose), Vec3(*obj.dims), obj.link_name)\n",
    "            \n",
    "    def plan_py(self, robot_name, tool_link, goal_pose, goal_link, Q_init, timeout=0.1):\n",
    "        gtimer.tic(\"plan\")\n",
    "        plan = self.plan(robot_name, tool_link, CartPose(*goal_pose), goal_link,\n",
    "                         JointState(self.joint_num, *Q_init), timeout)\n",
    "        gtimer.toc(\"plan\")\n",
    "        return np.array([spread(Q, self.joint_num) for Q in spread(plan.trajectory, len(plan.trajectory))]), plan.success"
   ]
  },
  {
   "cell_type": "code",
   "execution_count": 2,
   "metadata": {},
   "outputs": [],
   "source": [
    "from pkg.utils.utils import *"
   ]
  },
  {
   "cell_type": "code",
   "execution_count": 3,
   "metadata": {},
   "outputs": [],
   "source": [
    "urdf_path, srdf_path = './moveit_plan_compact/test_assets/custom_robots.urdf', './moveit_plan_compact/test_assets/custom_robots.srdf'"
   ]
  },
  {
   "cell_type": "code",
   "execution_count": 4,
   "metadata": {},
   "outputs": [],
   "source": [
    "planner = MoveitCompactPlanner(urdf_path, srdf_path, [\"indy0\", \"indy0_tcp\"])"
   ]
  },
  {
   "cell_type": "code",
   "execution_count": 5,
   "metadata": {},
   "outputs": [],
   "source": [
    "planner.set_scene([ObjectMPC(\"box\", ObjectType.BOX, (-0.3,-0.2,0.0,0,0,0,1), (0.1,0.1,0.), \"base_link\")])"
   ]
  },
  {
   "cell_type": "code",
   "execution_count": 7,
   "metadata": {},
   "outputs": [
    {
     "name": "stdout",
     "output_type": "stream",
     "text": [
      "plan_py: \t52.0 ms/1 = 51.84 ms (51.84/51.84)\n",
      "\n"
     ]
    },
    {
     "data": {
      "text/plain": [
       "True"
      ]
     },
     "execution_count": 7,
     "metadata": {},
     "output_type": "execute_result"
    }
   ],
   "source": [
    "gtimer = GlobalTimer.instance()\n",
    "gtimer.tic(\"plan_py\")\n",
    "trajectory, success = planner.plan_py(\"indy0\", \"indy0_tcp\", (-0.3,-0.2,0.4,0,0,0,1), \"base_link\",\n",
    "                                      (0, 0, -1.57, 0, -1.57, 0, 0, -0.4, 0, -1.57, 0, 1.57, 1.57), 0.1)\n",
    "gtimer.toc(\"plan_py\")\n",
    "print(gtimer)\n",
    "print(success)"
   ]
  },
  {
   "cell_type": "code",
   "execution_count": null,
   "metadata": {},
   "outputs": [],
   "source": []
  }
 ],
 "metadata": {
  "kernelspec": {
   "display_name": "Python 2",
   "language": "python",
   "name": "python2"
  },
  "language_info": {
   "codemirror_mode": {
    "name": "ipython",
    "version": 2
   },
   "file_extension": ".py",
   "mimetype": "text/x-python",
   "name": "python",
   "nbconvert_exporter": "python",
   "pygments_lexer": "ipython2",
   "version": "2.7.17"
  }
 },
 "nbformat": 4,
 "nbformat_minor": 2
}
