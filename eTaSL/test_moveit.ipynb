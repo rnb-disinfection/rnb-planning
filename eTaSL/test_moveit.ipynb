{
 "cells": [
  {
   "cell_type": "code",
   "execution_count": 1,
   "metadata": {},
   "outputs": [],
   "source": [
    "import matplotlib.pyplot as plt"
   ]
  },
  {
   "cell_type": "code",
   "execution_count": 2,
   "metadata": {},
   "outputs": [],
   "source": [
    "from pkg.planner.moveit.moveit_py import MoveitCompactPlanner_BP, ObjectType, ObjectMPC"
   ]
  },
  {
   "cell_type": "code",
   "execution_count": 3,
   "metadata": {},
   "outputs": [],
   "source": [
    "from pkg.utils.utils import *\n",
    "gtimer = GlobalTimer.instance()"
   ]
  },
  {
   "cell_type": "code",
   "execution_count": 4,
   "metadata": {},
   "outputs": [],
   "source": [
    "# urdf_path, srdf_path = './moveit_plan_compact/test_assets/custom_robots.urdf', './moveit_plan_compact/test_assets/custom_robots.srdf'\n",
    "urdf_path, srdf_path, config_path = './robots/custom_robots.urdf', './robots/custom_robots.srdf', './robots/'"
   ]
  },
  {
   "cell_type": "code",
   "execution_count": 5,
   "metadata": {},
   "outputs": [],
   "source": [
    "planner = MoveitCompactPlanner_BP(urdf_path, srdf_path, [\"indy0\", \"panda1\"], './robots/')"
   ]
  },
  {
   "cell_type": "code",
   "execution_count": 10,
   "metadata": {
    "scrolled": true
   },
   "outputs": [
    {
     "name": "stdout",
     "output_type": "stream",
     "text": [
      "plan_py: \t230.0 ms/5 = 46.06 ms (32.187/70.899)\n",
      "\n",
      "True\n"
     ]
    }
   ],
   "source": [
    "\n",
    "gtimer.tic(\"plan_py\")\n",
    "trajectory, success = planner.plan_py(\"indy0\", \"indy0_tcp\", (-0.3,-0.2,0.4,0,0,0,1), \"base_link\",\n",
    "                                      (0, 0, -1.57, 0, -1.57, 0, 0, -0.4, 0, -1.57, 0, 1.57, 1.57),\"RRTConnectkConfigDefault\",0.1)\n",
    "gtimer.toc(\"plan_py\")\n",
    "print(gtimer)\n",
    "print(success)"
   ]
  },
  {
   "cell_type": "code",
   "execution_count": 7,
   "metadata": {
    "scrolled": true
   },
   "outputs": [
    {
     "data": {
      "text/plain": [
       "0.15807151794433594"
      ]
     },
     "execution_count": 7,
     "metadata": {},
     "output_type": "execute_result"
    }
   ],
   "source": [
    "gtimer.tic(\"set_scene\")\n",
    "planner.set_scene([\n",
    "    ObjectMPC(\"box\", ObjectType.BOX, \"base_link\", (-0.3,-0.2,0.4,0,0,0,1), (0.1,0.1,0.1), [\"base_link\", \"indy0_link0\"], True)\n",
    "])\n",
    "gtimer.toc(\"set_scene\")"
   ]
  },
  {
   "cell_type": "code",
   "execution_count": 21,
   "metadata": {
    "scrolled": true
   },
   "outputs": [
    {
     "name": "stdout",
     "output_type": "stream",
     "text": [
      "robot/tool/link/goal/Q0: \n",
      " indy0/indy0_tcp/base_link/(-0.3, -0.2, 0.4, 0, 0, 0, 1)/(0, 0, -1.57, 0, -1.57, 0, 0, -0.4, 0, -1.57, 0, 1.57, 1.57) - True\n",
      "plan_py: \t778.0 ms/9 = 86.444 ms (30.439/123.894)\n",
      "set_scene: \t1.0 ms/5 = 0.188 ms (0.162/0.232)\n",
      "\n",
      "True\n"
     ]
    }
   ],
   "source": [
    "\n",
    "gtimer.tic(\"plan_py\")\n",
    "trajectory, success = planner.plan_py(\"indy0\", \"indy0_tcp\", (-0.3,-0.2,0.4,0,0,0,1), \"base_link\",\n",
    "                                      (0, 0, -1.57, 0, -1.57, 0, 0, -0.4, 0, -1.57, 0, 1.57, 1.57), 0.1)\n",
    "gtimer.toc(\"plan_py\")\n",
    "print(gtimer)\n",
    "print(success)"
   ]
  },
  {
   "cell_type": "code",
   "execution_count": 12,
   "metadata": {},
   "outputs": [
    {
     "data": {
      "text/plain": [
       "True"
      ]
     },
     "execution_count": 12,
     "metadata": {},
     "output_type": "execute_result"
    }
   ],
   "source": [
    "planner.remove_object(ObjectMPC(\"box\", ObjectType.BOX, \"base_link\", attach=True))"
   ]
  },
  {
   "cell_type": "code",
   "execution_count": 13,
   "metadata": {
    "scrolled": false
   },
   "outputs": [
    {
     "name": "stdout",
     "output_type": "stream",
     "text": [
      "robot/tool/link/goal/Q0: \n",
      " indy0/indy0_tcp/base_link/(-0.3, -0.2, 0.4, 0, 0, 0, 1)/(0, 0, -1.57, 0, -1.57, 0, 0, -0.4, 0, -1.57, 0, 1.57, 1.57) - False\n",
      "plan_py: \t438.0 ms/5 = 87.569 ms (30.439/123.894)\n",
      "set_scene: \t0.0 ms/2 = 0.191 ms (0.187/0.195)\n",
      "\n",
      "False\n"
     ]
    }
   ],
   "source": [
    "gtimer.tic(\"plan_py\")\n",
    "trajectory, success = planner.plan_py(\"indy0\", \"indy0_tcp\", (-0.3,-0.2,0.4,0,0,0,1), \"base_link\",\n",
    "                                      (0, 0, -1.57, 0, -1.57, 0, 0, -0.4, 0, -1.57, 0, 1.57, 1.57), 0.1)\n",
    "gtimer.toc(\"plan_py\")\n",
    "print(gtimer)\n",
    "print(success)"
   ]
  },
  {
   "cell_type": "code",
   "execution_count": 14,
   "metadata": {},
   "outputs": [
    {
     "data": {
      "text/plain": [
       "True"
      ]
     },
     "execution_count": 14,
     "metadata": {},
     "output_type": "execute_result"
    }
   ],
   "source": [
    "planner.remove_object(ObjectMPC(\"box\", ObjectType.BOX, \"base_link\", attach=False))"
   ]
  },
  {
   "cell_type": "code",
   "execution_count": 15,
   "metadata": {
    "scrolled": false
   },
   "outputs": [
    {
     "name": "stdout",
     "output_type": "stream",
     "text": [
      "robot/tool/link/goal/Q0: \n",
      " indy0/indy0_tcp/base_link/(-0.3, -0.2, 0.4, 0, 0, 0, 1)/(0, 0, -1.57, 0, -1.57, 0, 0, -0.4, 0, -1.57, 0, 1.57, 1.57) - True\n",
      "plan_py: \t469.0 ms/6 = 78.223 ms (30.439/123.894)\n",
      "set_scene: \t0.0 ms/2 = 0.191 ms (0.187/0.195)\n",
      "\n",
      "True\n"
     ]
    }
   ],
   "source": [
    "gtimer.tic(\"plan_py\")\n",
    "trajectory, success = planner.plan_py(\"indy0\", \"indy0_tcp\", (-0.3,-0.2,0.4,0,0,0,1), \"base_link\",\n",
    "                                      (0, 0, -1.57, 0, -1.57, 0, 0, -0.4, 0, -1.57, 0, 1.57, 1.57), 0.1)\n",
    "gtimer.toc(\"plan_py\")\n",
    "print(gtimer)\n",
    "print(success)"
   ]
  },
  {
   "cell_type": "code",
   "execution_count": 11,
   "metadata": {},
   "outputs": [
    {
     "data": {
      "text/plain": [
       "True"
      ]
     },
     "execution_count": 11,
     "metadata": {},
     "output_type": "execute_result"
    }
   ],
   "source": [
    "planner.add_object(\n",
    "    ObjectMPC(\"box\", ObjectType.BOX, \"base_link\", (-0.3,-0.2,0.4,0,0,0,1), (0.1,0.1,0.), [\"base_link\", \"indy0_link0\"]))"
   ]
  },
  {
   "cell_type": "code",
   "execution_count": 12,
   "metadata": {
    "scrolled": false
   },
   "outputs": [
    {
     "name": "stdout",
     "output_type": "stream",
     "text": [
      "set_scene: \t0.0 ms/1 = 0.162 ms (0.162/0.162)\n",
      "plan_py: \t392.0 ms/4 = 97.951 ms (31.505/122.612)\n",
      "\n",
      "False\n"
     ]
    }
   ],
   "source": [
    "gtimer.tic(\"plan_py\")\n",
    "trajectory, success = planner.plan_py(\"indy0\", \"indy0_tcp\", (-0.3,-0.2,0.4,0,0,0,1), \"base_link\",\n",
    "                                      (0, 0, -1.57, 0, -1.57, 0, 0, -0.4, 0, -1.57, 0, 1.57, 1.57), 0.1)\n",
    "gtimer.toc(\"plan_py\")\n",
    "print(gtimer)\n",
    "print(success)"
   ]
  },
  {
   "cell_type": "code",
   "execution_count": 13,
   "metadata": {},
   "outputs": [],
   "source": [
    "planner.clear_scene()"
   ]
  },
  {
   "cell_type": "code",
   "execution_count": 14,
   "metadata": {
    "scrolled": true
   },
   "outputs": [
    {
     "name": "stdout",
     "output_type": "stream",
     "text": [
      "set_scene: \t0.0 ms/1 = 0.162 ms (0.162/0.162)\n",
      "plan_py: \t418.0 ms/5 = 83.682 ms (26.603/122.612)\n",
      "\n",
      "True\n"
     ]
    }
   ],
   "source": [
    "gtimer.tic(\"plan_py\")\n",
    "trajectory, success = planner.plan_py(\"indy0\", \"indy0_tcp\", (-0.3,-0.2,0.4,0,0,0,1), \"base_link\",\n",
    "                                      (0, 0, -1.57, 0, -1.57, 0, 0, -0.4, 0, -1.57, 0, 1.57, 1.57), 0.1)\n",
    "gtimer.toc(\"plan_py\")\n",
    "print(gtimer)\n",
    "print(success)"
   ]
  },
  {
   "cell_type": "code",
   "execution_count": 16,
   "metadata": {},
   "outputs": [],
   "source": [
    "\n",
    "from scipy.spatial.transform import Rotation"
   ]
  },
  {
   "cell_type": "code",
   "execution_count": 18,
   "metadata": {},
   "outputs": [],
   "source": [
    "ans = Rotation.from_dcm(np.identity(3)).as_quat()"
   ]
  },
  {
   "cell_type": "code",
   "execution_count": 19,
   "metadata": {},
   "outputs": [
    {
     "data": {
      "text/plain": [
       "(1, 2, 3, 4)"
      ]
     },
     "execution_count": 19,
     "metadata": {},
     "output_type": "execute_result"
    }
   ],
   "source": [
    "(1,2)+(3,4)"
   ]
  },
  {
   "cell_type": "code",
   "execution_count": null,
   "metadata": {},
   "outputs": [],
   "source": []
  },
  {
   "cell_type": "code",
   "execution_count": null,
   "metadata": {},
   "outputs": [],
   "source": []
  }
 ],
 "metadata": {
  "kernelspec": {
   "display_name": "Python 2",
   "language": "python",
   "name": "python2"
  },
  "language_info": {
   "codemirror_mode": {
    "name": "ipython",
    "version": 2
   },
   "file_extension": ".py",
   "mimetype": "text/x-python",
   "name": "python",
   "nbconvert_exporter": "python",
   "pygments_lexer": "ipython2",
   "version": "2.7.17"
  }
 },
 "nbformat": 4,
 "nbformat_minor": 2
}
