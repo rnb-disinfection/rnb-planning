{
 "cells": [
  {
   "cell_type": "code",
   "execution_count": 1,
   "metadata": {},
   "outputs": [],
   "source": [
    "from pkg.planner.moveit.moveit_py import MoveitCompactPlanner, ObjectType, ObjectMPC"
   ]
  },
  {
   "cell_type": "code",
   "execution_count": 2,
   "metadata": {},
   "outputs": [],
   "source": [
    "from pkg.utils.utils import *\n",
    "gtimer = GlobalTimer.instance()"
   ]
  },
  {
   "cell_type": "code",
   "execution_count": 3,
   "metadata": {},
   "outputs": [],
   "source": [
    "urdf_path, srdf_path = './moveit_plan_compact/test_assets/custom_robots.urdf', './moveit_plan_compact/test_assets/custom_robots.srdf'"
   ]
  },
  {
   "cell_type": "code",
   "execution_count": 4,
   "metadata": {},
   "outputs": [],
   "source": [
    "planner = MoveitCompactPlanner(urdf_path, srdf_path, [\"indy0\", \"indy0_tcp\"])"
   ]
  },
  {
   "cell_type": "code",
   "execution_count": 5,
   "metadata": {
    "scrolled": true
   },
   "outputs": [
    {
     "data": {
      "text/plain": [
       "0.13399124145507812"
      ]
     },
     "execution_count": 5,
     "metadata": {},
     "output_type": "execute_result"
    }
   ],
   "source": [
    "gtimer.tic(\"set_scene\")\n",
    "planner.set_scene([\n",
    "    ObjectMPC(\"box\", ObjectType.BOX, \"base_link\", (-0.3,-0.2,0.4,0,0,0,1), (0.1,0.1,0.1), [\"base_link\", \"indy0_link0\"], True)\n",
    "])\n",
    "gtimer.toc(\"set_scene\")"
   ]
  },
  {
   "cell_type": "code",
   "execution_count": 6,
   "metadata": {
    "scrolled": true
   },
   "outputs": [
    {
     "name": "stdout",
     "output_type": "stream",
     "text": [
      "set_scene: \t0.0 ms/1 = 0.134 ms (0.134/0.134)\n",
      "plan_py: \t123.0 ms/1 = 122.909 ms (122.909/122.909)\n",
      "\n",
      "False\n"
     ]
    }
   ],
   "source": [
    "\n",
    "gtimer.tic(\"plan_py\")\n",
    "trajectory, success = planner.plan_py(\"indy0\", \"indy0_tcp\", (-0.3,-0.2,0.4,0,0,0,1), \"base_link\",\n",
    "                                      (0, 0, -1.57, 0, -1.57, 0, 0, -0.4, 0, -1.57, 0, 1.57, 1.57), 0.1)\n",
    "gtimer.toc(\"plan_py\")\n",
    "print(gtimer)\n",
    "print(success)"
   ]
  },
  {
   "cell_type": "code",
   "execution_count": 7,
   "metadata": {},
   "outputs": [
    {
     "data": {
      "text/plain": [
       "True"
      ]
     },
     "execution_count": 7,
     "metadata": {},
     "output_type": "execute_result"
    }
   ],
   "source": [
    "planner.remove_object(ObjectMPC(\"box\", ObjectType.BOX, \"base_link\", attach=True))"
   ]
  },
  {
   "cell_type": "code",
   "execution_count": 8,
   "metadata": {
    "scrolled": false
   },
   "outputs": [
    {
     "name": "stdout",
     "output_type": "stream",
     "text": [
      "set_scene: \t0.0 ms/1 = 0.134 ms (0.134/0.134)\n",
      "plan_py: \t225.0 ms/2 = 112.378 ms (101.847/122.909)\n",
      "\n",
      "False\n"
     ]
    }
   ],
   "source": [
    "gtimer.tic(\"plan_py\")\n",
    "trajectory, success = planner.plan_py(\"indy0\", \"indy0_tcp\", (-0.3,-0.2,0.4,0,0,0,1), \"base_link\",\n",
    "                                      (0, 0, -1.57, 0, -1.57, 0, 0, -0.4, 0, -1.57, 0, 1.57, 1.57), 0.1)\n",
    "gtimer.toc(\"plan_py\")\n",
    "print(gtimer)\n",
    "print(success)"
   ]
  },
  {
   "cell_type": "code",
   "execution_count": 9,
   "metadata": {},
   "outputs": [
    {
     "data": {
      "text/plain": [
       "True"
      ]
     },
     "execution_count": 9,
     "metadata": {},
     "output_type": "execute_result"
    }
   ],
   "source": [
    "planner.remove_object(ObjectMPC(\"box\", ObjectType.BOX, \"base_link\", attach=False))"
   ]
  },
  {
   "cell_type": "code",
   "execution_count": 10,
   "metadata": {
    "scrolled": false
   },
   "outputs": [
    {
     "name": "stdout",
     "output_type": "stream",
     "text": [
      "set_scene: \t0.0 ms/1 = 0.134 ms (0.134/0.134)\n",
      "plan_py: \t257.0 ms/3 = 85.691 ms (32.316/122.909)\n",
      "\n",
      "True\n"
     ]
    }
   ],
   "source": [
    "gtimer.tic(\"plan_py\")\n",
    "trajectory, success = planner.plan_py(\"indy0\", \"indy0_tcp\", (-0.3,-0.2,0.4,0,0,0,1), \"base_link\",\n",
    "                                      (0, 0, -1.57, 0, -1.57, 0, 0, -0.4, 0, -1.57, 0, 1.57, 1.57), 0.1)\n",
    "gtimer.toc(\"plan_py\")\n",
    "print(gtimer)\n",
    "print(success)"
   ]
  },
  {
   "cell_type": "code",
   "execution_count": 11,
   "metadata": {},
   "outputs": [
    {
     "data": {
      "text/plain": [
       "True"
      ]
     },
     "execution_count": 11,
     "metadata": {},
     "output_type": "execute_result"
    }
   ],
   "source": [
    "planner.add_object(\n",
    "    ObjectMPC(\"box\", ObjectType.BOX, \"base_link\", (-0.3,-0.2,0.4,0,0,0,1), (0.1,0.1,0.), [\"base_link\", \"indy0_link0\"]))"
   ]
  },
  {
   "cell_type": "code",
   "execution_count": 12,
   "metadata": {
    "scrolled": false
   },
   "outputs": [
    {
     "name": "stdout",
     "output_type": "stream",
     "text": [
      "set_scene: \t0.0 ms/1 = 0.134 ms (0.134/0.134)\n",
      "plan_py: \t377.0 ms/4 = 94.139 ms (32.316/122.909)\n",
      "\n",
      "False\n"
     ]
    }
   ],
   "source": [
    "gtimer.tic(\"plan_py\")\n",
    "trajectory, success = planner.plan_py(\"indy0\", \"indy0_tcp\", (-0.3,-0.2,0.4,0,0,0,1), \"base_link\",\n",
    "                                      (0, 0, -1.57, 0, -1.57, 0, 0, -0.4, 0, -1.57, 0, 1.57, 1.57), 0.1)\n",
    "gtimer.toc(\"plan_py\")\n",
    "print(gtimer)\n",
    "print(success)"
   ]
  },
  {
   "cell_type": "code",
   "execution_count": 13,
   "metadata": {},
   "outputs": [],
   "source": [
    "planner.clear_scene()"
   ]
  },
  {
   "cell_type": "code",
   "execution_count": 14,
   "metadata": {
    "scrolled": true
   },
   "outputs": [
    {
     "name": "stdout",
     "output_type": "stream",
     "text": [
      "set_scene: \t0.0 ms/1 = 0.134 ms (0.134/0.134)\n",
      "plan_py: \t426.0 ms/5 = 85.243 ms (32.316/122.909)\n",
      "\n",
      "True\n"
     ]
    }
   ],
   "source": [
    "gtimer.tic(\"plan_py\")\n",
    "trajectory, success = planner.plan_py(\"indy0\", \"indy0_tcp\", (-0.3,-0.2,0.4,0,0,0,1), \"base_link\",\n",
    "                                      (0, 0, -1.57, 0, -1.57, 0, 0, -0.4, 0, -1.57, 0, 1.57, 1.57), 0.1)\n",
    "gtimer.toc(\"plan_py\")\n",
    "print(gtimer)\n",
    "print(success)"
   ]
  },
  {
   "cell_type": "code",
   "execution_count": null,
   "metadata": {},
   "outputs": [],
   "source": []
  },
  {
   "cell_type": "code",
   "execution_count": null,
   "metadata": {},
   "outputs": [],
   "source": []
  },
  {
   "cell_type": "code",
   "execution_count": null,
   "metadata": {},
   "outputs": [],
   "source": []
  },
  {
   "cell_type": "code",
   "execution_count": null,
   "metadata": {},
   "outputs": [],
   "source": []
  }
 ],
 "metadata": {
  "kernelspec": {
   "display_name": "Python 2",
   "language": "python",
   "name": "python2"
  },
  "language_info": {
   "codemirror_mode": {
    "name": "ipython",
    "version": 2
   },
   "file_extension": ".py",
   "mimetype": "text/x-python",
   "name": "python",
   "nbconvert_exporter": "python",
   "pygments_lexer": "ipython2",
   "version": "2.7.17"
  }
 },
 "nbformat": 4,
 "nbformat_minor": 2
}
