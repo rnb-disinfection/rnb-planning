{
 "cells": [
  {
   "cell_type": "code",
   "execution_count": 1,
   "metadata": {},
   "outputs": [],
   "source": [
    "from pkg.planner.moveit.moveit_py import init_planner, add_object, clear_objects, plan, ObjectType"
   ]
  },
  {
   "cell_type": "code",
   "execution_count": 2,
   "metadata": {},
   "outputs": [],
   "source": [
    "from pkg.utils.utils import read_file\n",
    "import numpy as np"
   ]
  },
  {
   "cell_type": "code",
   "execution_count": 3,
   "metadata": {},
   "outputs": [],
   "source": [
    "urdf_string = read_file('./moveit_plan_compact/test_assets/custom_robots.urdf')\n",
    "srdf_string = read_file('./moveit_plan_compact/test_assets/custom_robots.srdf')"
   ]
  },
  {
   "cell_type": "code",
   "execution_count": 18,
   "metadata": {},
   "outputs": [],
   "source": [
    "joint_names, joint_num = init_planner(urdf_string, srdf_string)"
   ]
  },
  {
   "cell_type": "code",
   "execution_count": 5,
   "metadata": {},
   "outputs": [],
   "source": [
    "add_object(name=\"box\", type=ObjectType.BOX, link_name=\"base_link\", pose=[-0.3,-0.2,0.0,0,0,0,1], dims=[0.1,0.1,0.1])"
   ]
  },
  {
   "cell_type": "code",
   "execution_count": 19,
   "metadata": {},
   "outputs": [
    {
     "data": {
      "text/plain": [
       "True"
      ]
     },
     "execution_count": 19,
     "metadata": {},
     "output_type": "execute_result"
    }
   ],
   "source": [
    "traj, succ = plan(group_name='indy0', tool_link=\"indy0_tcp\", goal_pose=[-0.3, -0.2, 0.4, 0, 0, 0, 1], goal_link=\"base_link\", \n",
    "                  init_joints=[0, 0, -np.pi / 2, 0, -np.pi / 2, 0, 0, -np.pi / 8, 0, -np.pi / 2, 0, np.pi / 2, np.pi / 2], \n",
    "                  joint_num=joint_num, timeout=0.1)\n",
    "succ"
   ]
  },
  {
   "cell_type": "code",
   "execution_count": 20,
   "metadata": {},
   "outputs": [],
   "source": [
    "clear_objects()\n",
    "add_object(name=\"box\", type=ObjectType.BOX, link_name=\"base_link\", pose=[-0.3,-0.2,0.4,0,0,0,1], dims=[0.1,0.1,0.1])"
   ]
  },
  {
   "cell_type": "code",
   "execution_count": 21,
   "metadata": {},
   "outputs": [
    {
     "data": {
      "text/plain": [
       "False"
      ]
     },
     "execution_count": 21,
     "metadata": {},
     "output_type": "execute_result"
    }
   ],
   "source": [
    "traj, succ = plan(group_name='indy0', tool_link=\"indy0_tcp\", goal_pose=[-0.3, -0.2, 0.4, 0, 0, 0, 1], goal_link=\"base_link\", \n",
    "                  init_joints=[0, 0, -np.pi / 2, 0, -np.pi / 2, 0, 0, -np.pi / 8, 0, -np.pi / 2, 0, np.pi / 2, np.pi / 2], \n",
    "                  joint_num=joint_num, timeout=0.1)\n",
    "succ"
   ]
  },
  {
   "cell_type": "code",
   "execution_count": 28,
   "metadata": {},
   "outputs": [
    {
     "data": {
      "text/plain": [
       "65536"
      ]
     },
     "execution_count": 28,
     "metadata": {},
     "output_type": "execute_result"
    }
   ],
   "source": [
    "2**16"
   ]
  },
  {
   "cell_type": "code",
   "execution_count": 29,
   "metadata": {},
   "outputs": [
    {
     "data": {
      "text/plain": [
       "256"
      ]
     },
     "execution_count": 29,
     "metadata": {},
     "output_type": "execute_result"
    }
   ],
   "source": [
    "2**8"
   ]
  },
  {
   "cell_type": "code",
   "execution_count": 24,
   "metadata": {},
   "outputs": [],
   "source": [
    "clear_objects()\n",
    "add_object(name=\"box\", type=ObjectType.BOX, link_name=\"base_link\", pose=[-0.3,-0.2,0.0,0,0,0,1], dims=[0.1,0.1,0.1])"
   ]
  },
  {
   "cell_type": "code",
   "execution_count": 25,
   "metadata": {},
   "outputs": [
    {
     "data": {
      "text/plain": [
       "True"
      ]
     },
     "execution_count": 25,
     "metadata": {},
     "output_type": "execute_result"
    }
   ],
   "source": [
    "traj, succ = plan(group_name='indy0', tool_link=\"indy0_tcp\", goal_pose=[-0.3, -0.2, 0.4, 0, 0, 0, 1], goal_link=\"base_link\", \n",
    "                  init_joints=[0, 0, -np.pi / 2, 0, -np.pi / 2, 0, 0, -np.pi / 8, 0, -np.pi / 2, 0, np.pi / 2, np.pi / 2], \n",
    "                  joint_num=joint_num, timeout=0.1)\n",
    "succ"
   ]
  },
  {
   "cell_type": "code",
   "execution_count": null,
   "metadata": {},
   "outputs": [],
   "source": []
  },
  {
   "cell_type": "code",
   "execution_count": null,
   "metadata": {},
   "outputs": [],
   "source": []
  }
 ],
 "metadata": {
  "kernelspec": {
   "display_name": "Python 2",
   "language": "python",
   "name": "python2"
  },
  "language_info": {
   "codemirror_mode": {
    "name": "ipython",
    "version": 2
   },
   "file_extension": ".py",
   "mimetype": "text/x-python",
   "name": "python",
   "nbconvert_exporter": "python",
   "pygments_lexer": "ipython2",
   "version": "2.7.17"
  }
 },
 "nbformat": 4,
 "nbformat_minor": 2
}
