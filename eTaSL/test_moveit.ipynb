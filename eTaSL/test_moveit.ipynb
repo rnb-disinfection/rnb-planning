{
 "cells": [
  {
   "cell_type": "code",
   "execution_count": 1,
   "metadata": {},
   "outputs": [],
   "source": [
    "import sys\n",
    "import copy\n",
    "import rospy\n",
    "import moveit_commander\n",
    "import moveit_msgs.msg\n",
    "import geometry_msgs.msg\n",
    "from math import pi\n",
    "from std_msgs.msg import String\n",
    "from moveit_commander.conversions import pose_to_list\n"
   ]
  },
  {
   "cell_type": "code",
   "execution_count": 2,
   "metadata": {},
   "outputs": [],
   "source": [
    "moveit_commander.roscpp_initialize(sys.argv)\n",
    "rospy.init_node('move_group_python_interface_tutorial', anonymous=True)\n"
   ]
  },
  {
   "cell_type": "code",
   "execution_count": 3,
   "metadata": {},
   "outputs": [],
   "source": [
    "robot = moveit_commander.RobotCommander()"
   ]
  },
  {
   "cell_type": "code",
   "execution_count": 4,
   "metadata": {},
   "outputs": [],
   "source": [
    "scene = moveit_commander.PlanningSceneInterface()"
   ]
  },
  {
   "cell_type": "code",
   "execution_count": 5,
   "metadata": {},
   "outputs": [],
   "source": [
    "group_name = \"panda_arm\"\n",
    "move_group = moveit_commander.MoveGroupCommander(group_name)\n"
   ]
  },
  {
   "cell_type": "code",
   "execution_count": 6,
   "metadata": {},
   "outputs": [],
   "source": [
    "display_trajectory_publisher = rospy.Publisher('/move_group/display_planned_path',\n",
    "                                               moveit_msgs.msg.DisplayTrajectory,\n",
    "                                               queue_size=20)"
   ]
  },
  {
   "cell_type": "code",
   "execution_count": 7,
   "metadata": {},
   "outputs": [
    {
     "name": "stdout",
     "output_type": "stream",
     "text": [
      "============ Planning frame: world\n",
      "============ End effector link: panda_link8\n",
      "============ Available Planning Groups: ['hand', 'panda_arm', 'panda_arm_hand']\n",
      "============ Printing robot state\n",
      "joint_state: \n",
      "  header: \n",
      "    seq: 0\n",
      "    stamp: \n",
      "      secs: 0\n",
      "      nsecs:         0\n",
      "    frame_id: \"world\"\n",
      "  name: [panda_joint1, panda_joint2, panda_joint3, panda_joint4, panda_joint5, panda_joint6,\n",
      "  panda_joint7, panda_finger_joint1, panda_finger_joint2]\n",
      "  position: [0.0, -0.785, 0.0, -2.356, 0.0, 1.571, 0.785, 0.035, 0.035]\n",
      "  velocity: []\n",
      "  effort: []\n",
      "multi_dof_joint_state: \n",
      "  header: \n",
      "    seq: 0\n",
      "    stamp: \n",
      "      secs: 0\n",
      "      nsecs:         0\n",
      "    frame_id: \"world\"\n",
      "  joint_names: [virtual_joint]\n",
      "  transforms: \n",
      "    - \n",
      "      translation: \n",
      "        x: 0.0\n",
      "        y: 0.0\n",
      "        z: 0.0\n",
      "      rotation: \n",
      "        x: 0.0\n",
      "        y: 0.0\n",
      "        z: 0.0\n",
      "        w: 1.0\n",
      "  twist: []\n",
      "  wrench: []\n",
      "attached_collision_objects: []\n",
      "is_diff: False\n",
      "\n"
     ]
    }
   ],
   "source": [
    "# We can get the name of the reference frame for this robot:\n",
    "planning_frame = move_group.get_planning_frame()\n",
    "print \"============ Planning frame: %s\" % planning_frame\n",
    "\n",
    "# We can also print the name of the end-effector link for this group:\n",
    "eef_link = move_group.get_end_effector_link()\n",
    "print \"============ End effector link: %s\" % eef_link\n",
    "\n",
    "# We can get a list of all the groups in the robot:\n",
    "group_names = robot.get_group_names()\n",
    "print \"============ Available Planning Groups:\", robot.get_group_names()\n",
    "\n",
    "# Sometimes for debugging it is useful to print the entire state of the\n",
    "# robot:\n",
    "print \"============ Printing robot state\"\n",
    "print robot.get_current_state()\n",
    "print \"\""
   ]
  },
  {
   "cell_type": "code",
   "execution_count": 8,
   "metadata": {},
   "outputs": [],
   "source": [
    "# We can get the joint values from the group and adjust some of the values:\n",
    "joint_goal = move_group.get_current_joint_values()\n",
    "joint_goal[0] = 0\n",
    "joint_goal[1] = -pi/4\n",
    "joint_goal[2] = 0\n",
    "joint_goal[3] = -pi/2\n",
    "joint_goal[4] = 0\n",
    "joint_goal[5] = pi/3\n",
    "joint_goal[6] = 0\n",
    "\n",
    "# The go command can be called with joint values, poses, or without any\n",
    "# parameters if you have already set the pose or joint target for the group\n",
    "move_group.go(joint_goal, wait=True)\n",
    "\n",
    "# Calling ``stop()`` ensures that there is no residual movement\n",
    "move_group.stop()\n"
   ]
  },
  {
   "cell_type": "code",
   "execution_count": 13,
   "metadata": {},
   "outputs": [],
   "source": [
    "pose_goal = geometry_msgs.msg.Pose()\n",
    "pose_goal.orientation.w = 1.0\n",
    "pose_goal.position.x = 0.4\n",
    "pose_goal.position.y = 0.1\n",
    "pose_goal.position.z = 0.6\n",
    "\n",
    "move_group.set_pose_target(pose_goal)\n",
    "\n",
    "plan = move_group.go(wait=True)\n",
    "# Calling `stop()` ensures that there is no residual movement\n",
    "move_group.stop()\n",
    "# It is always good to clear your targets after planning with poses.\n",
    "# Note: there is no equivalent function for clear_joint_value_targets()\n",
    "move_group.clear_pose_targets()\n"
   ]
  },
  {
   "cell_type": "code",
   "execution_count": 3,
   "metadata": {},
   "outputs": [],
   "source": [
    "import numpy as np"
   ]
  },
  {
   "cell_type": "code",
   "execution_count": 4,
   "metadata": {},
   "outputs": [
    {
     "data": {
      "text/plain": [
       "1.7453292519943295"
      ]
     },
     "execution_count": 4,
     "metadata": {},
     "output_type": "execute_result"
    }
   ],
   "source": [
    "np.deg2rad(1)*100"
   ]
  },
  {
   "cell_type": "code",
   "execution_count": null,
   "metadata": {},
   "outputs": [],
   "source": []
  }
 ],
 "metadata": {
  "kernelspec": {
   "display_name": "Python 2",
   "language": "python",
   "name": "python2"
  },
  "language_info": {
   "codemirror_mode": {
    "name": "ipython",
    "version": 2
   },
   "file_extension": ".py",
   "mimetype": "text/x-python",
   "name": "python",
   "nbconvert_exporter": "python",
   "pygments_lexer": "ipython2",
   "version": "2.7.17"
  }
 },
 "nbformat": 4,
 "nbformat_minor": 2
}
