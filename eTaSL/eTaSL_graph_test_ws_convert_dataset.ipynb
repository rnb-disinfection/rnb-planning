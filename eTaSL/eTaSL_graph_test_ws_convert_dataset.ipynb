{
 "cells": [
  {
   "cell_type": "markdown",
   "metadata": {},
   "source": [
    "# Prepare robots first  \n",
    "* run panda repeater on controller pc  \n",
    "\n",
    "```\n",
    "ssh panda@192.168.0.172\n",
    "roslaunch panda_ros_repeater joint_velocity_repeater.launch robot_ip:=192.168.0.13 load_gripper:=false\n",
    "\n",
    "```\n",
    "\n",
    "* Keep indy connected to conty to bypass conty-connection delay bug"
   ]
  },
  {
   "cell_type": "code",
   "execution_count": null,
   "metadata": {},
   "outputs": [],
   "source": []
  },
  {
   "cell_type": "markdown",
   "metadata": {},
   "source": [
    "# initialize notebook"
   ]
  },
  {
   "cell_type": "code",
   "execution_count": 1,
   "metadata": {
    "pycharm": {
     "name": "#%%\n"
    },
    "scrolled": true
   },
   "outputs": [
    {
     "data": {
      "text/html": [
       "<style>.container { width:90% !important; } </style>"
      ],
      "text/plain": [
       "<IPython.core.display.HTML object>"
      ]
     },
     "metadata": {},
     "output_type": "display_data"
    }
   ],
   "source": [
    "from __future__ import print_function\n",
    "from IPython.core.display import display, HTML\n",
    "display(HTML(\"<style>.container { width:90% !important; } </style>\"))\n",
    "import matplotlib.pyplot as plt"
   ]
  },
  {
   "cell_type": "code",
   "execution_count": null,
   "metadata": {},
   "outputs": [],
   "source": []
  },
  {
   "cell_type": "markdown",
   "metadata": {},
   "source": [
    "# Initialize constants"
   ]
  },
  {
   "cell_type": "code",
   "execution_count": 2,
   "metadata": {
    "scrolled": false
   },
   "outputs": [],
   "source": [
    "from pkg.marker_config import *\n",
    "from pkg.constraint_graph import *\n",
    "from pkg.constraint.constraint_action import *\n",
    "from pkg.constraint.constraint_object import *\n",
    "from pkg.constants import *\n",
    "from pkg.utils.plot_utils import *\n",
    "from pkg.utils.utils import *\n",
    "from pkg.environment_builder import *\n",
    "from pkg.ui.ui_broker import *\n",
    "from pkg.controller.combined_robot import *\n",
    "\n",
    "gtimer = GlobalTimer.instance()\n",
    "gtimer.reset()"
   ]
  },
  {
   "cell_type": "code",
   "execution_count": null,
   "metadata": {},
   "outputs": [],
   "source": []
  },
  {
   "cell_type": "code",
   "execution_count": 3,
   "metadata": {
    "scrolled": true
   },
   "outputs": [
    {
     "name": "stdout",
     "output_type": "stream",
     "text": [
      "connection_list\n",
      "(False, False)\n"
     ]
    }
   ],
   "source": [
    "crob = CombinedRobot(connection_list=(False, False))"
   ]
  },
  {
   "cell_type": "code",
   "execution_count": 4,
   "metadata": {},
   "outputs": [],
   "source": [
    "USE_CAM = False"
   ]
  },
  {
   "cell_type": "code",
   "execution_count": null,
   "metadata": {},
   "outputs": [],
   "source": []
  },
  {
   "cell_type": "markdown",
   "metadata": {},
   "source": [
    "# initialize graph & ui"
   ]
  },
  {
   "cell_type": "code",
   "execution_count": 5,
   "metadata": {
    "scrolled": true
   },
   "outputs": [
    {
     "name": "stdout",
     "output_type": "stream",
     "text": [
      "Unable to register with master node [http://localhost:11311]: master may not be running yet. Will keep trying.\n"
     ]
    },
    {
     "name": "stderr",
     "output_type": "stream",
     "text": [
      "Unknown tag \"hardwareInterface\" in /robot[@name='custom_robots']/transmission[@name='indy0_tran0']/actuator[@name='indy0_motor0']\n",
      "Unknown tag \"hardwareInterface\" in /robot[@name='custom_robots']/transmission[@name='indy0_tran1']/actuator[@name='indy0_motor1']\n",
      "Unknown tag \"hardwareInterface\" in /robot[@name='custom_robots']/transmission[@name='indy0_tran2']/actuator[@name='indy0_motor2']\n",
      "Unknown tag \"hardwareInterface\" in /robot[@name='custom_robots']/transmission[@name='indy0_tran3']/actuator[@name='indy0_motor3']\n",
      "Unknown tag \"hardwareInterface\" in /robot[@name='custom_robots']/transmission[@name='indy0_tran4']/actuator[@name='indy0_motor4']\n",
      "Unknown tag \"hardwareInterface\" in /robot[@name='custom_robots']/transmission[@name='indy0_tran5']/actuator[@name='indy0_motor5']\n"
     ]
    },
    {
     "name": "stdout",
     "output_type": "stream",
     "text": [
      "Please create a subscriber to the marker\n",
      "publication OK\n",
      "published: [0, 0, 0, 0, 0, 0, 0, 0, 0, 0, 0, 0, 0]\n",
      "Please create a subscriber to the marker\n",
      "Dash is running on http://127.0.0.1:8050/\n",
      "\n",
      " * Serving Flask app \"pkg.ui.dash_launcher\" (lazy loading)\n",
      " * Environment: production\n",
      "   WARNING: This is a development server. Do not use it in a production deployment.\n",
      "   Use a production WSGI server instead.\n",
      " * Debug mode: off\n"
     ]
    }
   ],
   "source": [
    "if \"cam\" not in locals():\n",
    "    \n",
    "    cam = StereoCamera.instance() if USE_CAM else None\n",
    "\n",
    "# set urdf\n",
    "xcustom, JOINT_NAMES, LINK_NAMES, urdf_content = set_custom_robots(crob.robots_on_scene, XYZ_RPY_ROBOTS_DEFAULT, crob.custom_limits, start_rviz=True)\n",
    "ghnd = GeometryHandle(urdf_content)\n",
    "\n",
    "\n",
    "graph = ConstraintGraph(ghnd=ghnd, urdf_path=URDF_PATH, joint_names=JOINT_NAMES, link_names=LINK_NAMES, \n",
    "                        urdf_content=urdf_content, combined_robot=crob)\n",
    "graph.set_camera(cam)\n",
    "graph.set_cam_robot_collision(_add_cam_poles=USE_CAM)\n",
    "graph.set_rviz()\n",
    "\n",
    "# start UI\n",
    "ui_broker = UIBroker.instance()\n",
    "ui_broker.initialize(graph)\n",
    "ui_broker.start_server()\n",
    "\n",
    "# set rviz\n",
    "graph.set_rviz(crob.home_pose)\n",
    "ui_broker.set_tables()"
   ]
  },
  {
   "cell_type": "code",
   "execution_count": 6,
   "metadata": {},
   "outputs": [
    {
     "data": {
      "text/plain": [
       "1"
      ]
     },
     "execution_count": 6,
     "metadata": {},
     "output_type": "execute_result"
    }
   ],
   "source": [
    "1"
   ]
  },
  {
   "cell_type": "code",
   "execution_count": 7,
   "metadata": {},
   "outputs": [],
   "source": [
    "import numpy as np\n",
    "import SharedArray as sa\n",
    "\n",
    "# Attach it as a different array. This can be done from another\n",
    "# python interpreter as long as it runs on the same computer.\n",
    "scene_base_data_p = sa.attach(\"shm://scene_base_data\")\n",
    "cell_init_p = sa.attach(\"shm://cell_init\")\n",
    "verts_init_p = sa.attach(\"shm://verts_init\")\n",
    "chain_init_p = sa.attach(\"shm://chain_init\")\n",
    "cell_goal_p = sa.attach(\"shm://cell_goal\")\n",
    "verts_goal_p = sa.attach(\"shm://verts_goal\")\n",
    "chain_goal_p = sa.attach(\"shm://chain_goal\")"
   ]
  },
  {
   "cell_type": "code",
   "execution_count": null,
   "metadata": {},
   "outputs": [],
   "source": []
  },
  {
   "cell_type": "markdown",
   "metadata": {},
   "source": [
    "# Calibrate camera"
   ]
  },
  {
   "cell_type": "code",
   "execution_count": 8,
   "metadata": {},
   "outputs": [],
   "source": [
    "if USE_CAM:\n",
    "    cam.calibrate(ghnd)\n",
    "    graph.set_cam_robot_collision()\n",
    "    graph.set_rviz()"
   ]
  },
  {
   "cell_type": "code",
   "execution_count": null,
   "metadata": {},
   "outputs": [],
   "source": []
  },
  {
   "cell_type": "markdown",
   "metadata": {},
   "source": [
    "# Update Robots"
   ]
  },
  {
   "cell_type": "code",
   "execution_count": 9,
   "metadata": {},
   "outputs": [],
   "source": [
    "if USE_CAM:\n",
    "    # btn: detect robots\n",
    "    crob.detect_robots(cam)\n",
    "\n",
    "    # btn: apply\n",
    "    xcustom, JOINT_NAMES, LINK_NAMES, urdf_content = set_custom_robots(crob.robots_on_scene, crob.xyz_rpy_robots, crob.custom_limits, start_rviz=True)\n",
    "    ghnd = GeometryHandle(urdf_content)\n",
    "\n",
    "\n",
    "    graph.clear_markers()\n",
    "    graph.clear_highlight()\n",
    "    graph.ghnd.clear()\n",
    "    timer.sleep(1)\n",
    "    graph.__init__(ghnd=ghnd, urdf_path=URDF_PATH, joint_names=JOINT_NAMES, link_names=LINK_NAMES, \n",
    "                       urdf_content=urdf_content, combined_robot=crob)\n",
    "    add_geometry_items(graph.urdf_content, ghnd, color=(0, 1, 0, 0.3), display=True, collision=True,\n",
    "                       exclude_link=[\"panda1_link7\"])\n",
    "    graph.set_cam_robot_collision()\n",
    "    graph.set_rviz()"
   ]
  },
  {
   "cell_type": "code",
   "execution_count": null,
   "metadata": {},
   "outputs": [],
   "source": []
  },
  {
   "cell_type": "markdown",
   "metadata": {},
   "source": [
    "## Load from UI and go on"
   ]
  },
  {
   "cell_type": "code",
   "execution_count": 10,
   "metadata": {
    "scrolled": true
   },
   "outputs": [
    {
     "data": {
      "text/plain": [
       "1"
      ]
     },
     "execution_count": 10,
     "metadata": {},
     "output_type": "execute_result"
    },
    {
     "name": "stdout",
     "output_type": "stream",
     "text": [
      "generate table - Geometrygenerate table - Handle\n",
      "\n",
      "generate table - Binder\n",
      "generate table - Object\n",
      "load: 1geos.geometry\n",
      "button clicked\n",
      "button clicked\n",
      "add goal\n",
      "add floor\n",
      "add wall\n",
      "add pole_cam1\n",
      "add pole_cam0\n",
      "add grip1\n",
      "add grip0\n",
      "add box1\n",
      "add box3\n",
      "add box2\n",
      "button action done\n",
      "button action done\n",
      "generate table - Handle\n",
      "generate table - Bindergenerate table - Geometry\n",
      "\n",
      "generate table - Object\n",
      "load: 2.binder.binder\n",
      "button clicked\n",
      "button clicked\n",
      "add grip1\n",
      "add goal_bd\n",
      "add grip0\n",
      "add floor\n",
      "button action done\n",
      "button action done\n",
      "generate table - Geometry\n",
      "generate table - Object\n",
      "generate table - Handle\n",
      "generate table - Binder\n",
      "load: 3objects.object\n",
      "button clicked\n",
      "button clicked\n",
      "add box1\n",
      "add box2\n",
      "button action done\n",
      "button action done\n",
      "generate table - Handle\n",
      "generate table - Geometry\n",
      "generate table - Object\n",
      "generate table - Binder\n"
     ]
    }
   ],
   "source": [
    "1"
   ]
  },
  {
   "cell_type": "code",
   "execution_count": null,
   "metadata": {},
   "outputs": [],
   "source": []
  },
  {
   "cell_type": "markdown",
   "metadata": {},
   "source": [
    "# add obstacle"
   ]
  },
  {
   "cell_type": "code",
   "execution_count": 257,
   "metadata": {},
   "outputs": [],
   "source": [
    "dims_obs = (0.2,0.2,0.2)\n",
    "center_obj = (-0.3,0.0,0.3)\n",
    "rpy_obs = (0,0,0)\n",
    "obstacle1 = graph.ghnd.create_safe(gtype=GEOTYPE.BOX, name=\"obstacle_box1\", link_name=\"base_link\",\n",
    "                                  center=center_obj, dims=dims_obs, rpy=rpy_obs, collision=True, display=True)\n",
    "graph.add_marker(obstacle1)\n",
    "\n",
    "dims_obs = (0.2,0.2,0.2)\n",
    "center_obj = (-0.4,-0.2,0.3)\n",
    "rpy_obs = (0,0,0)\n",
    "obstacle2 = graph.ghnd.create_safe(gtype=GEOTYPE.BOX, name=\"obstacle_box2\", link_name=\"base_link\",\n",
    "                                  center=center_obj, dims=dims_obs, rpy=rpy_obs, collision=True, display=True)\n",
    "graph.add_marker(obstacle2)\n",
    "\n",
    "dims_obs = (0.2,0.2,0.2)\n",
    "center_obj = (-0.2,-0.2,0.3)\n",
    "rpy_obs = (0,0,0)\n",
    "obstacle3 = graph.ghnd.create_safe(gtype=GEOTYPE.BOX, name=\"obstacle_box3\", link_name=\"base_link\",\n",
    "                                  center=center_obj, dims=dims_obs, rpy=rpy_obs, collision=True, display=True)\n",
    "graph.add_marker(obstacle3)\n",
    "\n",
    "dims_obs = (0.2,0.2,0.2)\n",
    "center_obj = (0,0,0.3)\n",
    "rpy_obs = (0,0,0)\n",
    "obstacle4 = graph.ghnd.create_safe(gtype=GEOTYPE.BOX, name=\"obstacle_box4\", link_name=\"base_link\",\n",
    "                                  center=center_obj, dims=dims_obs, rpy=rpy_obs, collision=True, display=True)\n",
    "graph.add_marker(obstacle4)\n",
    "\n",
    "dims_obs = (0.2,0.2,0.2)\n",
    "center_obj = (-0.1,0.2,0.3)\n",
    "rpy_obs = (0,0,0)\n",
    "obstacle5 = graph.ghnd.create_safe(gtype=GEOTYPE.BOX, name=\"obstacle_box5\", link_name=\"base_link\",\n",
    "                                  center=center_obj, dims=dims_obs, rpy=rpy_obs, collision=True, display=True)\n",
    "graph.add_marker(obstacle5)"
   ]
  },
  {
   "cell_type": "code",
   "execution_count": 284,
   "metadata": {},
   "outputs": [],
   "source": [
    "graph.remove_geometry(obstacle1)\n",
    "graph.remove_geometry(obstacle2)\n",
    "graph.remove_geometry(obstacle3)\n",
    "graph.remove_geometry(obstacle4)\n",
    "graph.remove_geometry(obstacle5)"
   ]
  },
  {
   "cell_type": "code",
   "execution_count": null,
   "metadata": {},
   "outputs": [],
   "source": []
  },
  {
   "cell_type": "markdown",
   "metadata": {},
   "source": [
    "# Set Planner"
   ]
  },
  {
   "cell_type": "code",
   "execution_count": 286,
   "metadata": {},
   "outputs": [],
   "source": [
    "from pkg.planner.moveit.moveit_planner import MoveitPlanner"
   ]
  },
  {
   "cell_type": "code",
   "execution_count": 287,
   "metadata": {
    "scrolled": true
   },
   "outputs": [],
   "source": [
    "mplan = MoveitPlanner(joint_names=graph.joint_names, link_names=graph.link_names, urdf_path=graph.urdf_path, urdf_content=graph.urdf_content,\n",
    "                      robot_names=graph.combined_robot.robot_names, binder_links=[v.object.link_name for v in graph.binder_dict.values()], ghnd=graph.ghnd)\n",
    "graph.set_planner(mplan)"
   ]
  },
  {
   "cell_type": "code",
   "execution_count": 288,
   "metadata": {},
   "outputs": [],
   "source": [
    "# hplan = HybridPlanner(joint_names=graph.joint_names, link_names=graph.link_names,\n",
    "#                       urdf_path=graph.urdf_path, urdf_content=graph.urdf_content,\n",
    "#                       robot_names=graph.combined_robot.robot_names,\n",
    "#                       binder_links=[v.object.link_name for v in graph.binder_dict.values()], ghnd=graph.ghnd)\n",
    "# eplan = etasl_planner(joint_names = graph.joint_names, link_names = graph.link_names, urdf_path = graph.urdf_path)\n",
    "# graph.set_planner(eplan)"
   ]
  },
  {
   "cell_type": "code",
   "execution_count": null,
   "metadata": {},
   "outputs": [],
   "source": []
  },
  {
   "cell_type": "markdown",
   "metadata": {},
   "source": [
    "# Set Sampler"
   ]
  },
  {
   "cell_type": "code",
   "execution_count": 289,
   "metadata": {},
   "outputs": [],
   "source": [
    "from pkg.sampler.object_a_star import *\n",
    "sampler = ObjectAstarSampler(graph)\n",
    "graph.set_sampler(sampler)"
   ]
  },
  {
   "cell_type": "code",
   "execution_count": null,
   "metadata": {},
   "outputs": [],
   "source": []
  },
  {
   "cell_type": "markdown",
   "metadata": {},
   "source": [
    "# Prepare action"
   ]
  },
  {
   "cell_type": "code",
   "execution_count": 290,
   "metadata": {},
   "outputs": [],
   "source": [
    "sampler.build_graph()"
   ]
  },
  {
   "cell_type": "code",
   "execution_count": 291,
   "metadata": {},
   "outputs": [],
   "source": [
    "initial_state = State(tuple([(oname,)+ graph.object_dict[oname].binding for oname in graph.object_list]), \n",
    "                      {oname: graph.object_dict[oname].object.Toff for oname in graph.object_list}, \n",
    "                      graph.get_real_robot_pose(), graph)"
   ]
  },
  {
   "cell_type": "code",
   "execution_count": 292,
   "metadata": {},
   "outputs": [],
   "source": [
    "dt_sim = 0.04\n",
    "T_step = 10\n",
    "N_fullstep = int(T_step / dt_sim)\n",
    "graph.set_object_state(initial_state)\n",
    "graph.show_pose(graph.get_real_robot_pose())\n",
    "\n",
    "goal_nodes_1 = get_goal_nodes(initial_state.node, \"box1\", \"goal_bd\")\n",
    "goal_nodes = []\n",
    "for gnode in goal_nodes_1:\n",
    "    goal_nodes += get_goal_nodes(gnode, \"box2\", \"floor\")"
   ]
  },
  {
   "cell_type": "code",
   "execution_count": null,
   "metadata": {},
   "outputs": [],
   "source": []
  },
  {
   "cell_type": "markdown",
   "metadata": {},
   "source": [
    "# Convert dat"
   ]
  },
  {
   "cell_type": "code",
   "execution_count": 293,
   "metadata": {},
   "outputs": [],
   "source": [
    " \n",
    "def get_action_boxes(graph, from_state, to_state, redundancy_dict, mplan=None, L_CELL=0.2, Nwdh=(15,15,15), BASE_LINK='base_link', center_height=0.75):\n",
    "    if mplan is None:\n",
    "        mplan = graph.planner\n",
    "    graph.set_object_state(from_state)\n",
    "    binding_list = graph.get_slack_bindings(from_state, to_state)\n",
    "    obj_name, ap_name, binder_name = binding_list[0]\n",
    "    redundancy = redundancy_dict[obj_name] if redundancy_dict else None\n",
    "    self, group_name_handle, group_name_binder = mplan, None, None\n",
    "    binder = self.binder_dict[binder_name]\n",
    "    obj = self.object_dict[obj_name]\n",
    "    handle = obj.action_points_dict[ap_name]\n",
    "    point_add, rpy_add = calc_redundancy(redundancy, binder)\n",
    "    T_handle = handle.Toff_lh\n",
    "    T_binder = np.matmul(binder.Toff_lh, SE3(Rot_rpy(rpy_add), point_add))\n",
    "    if len(self.planner.group_names)==1:\n",
    "        group_name_handle = self.planner.group_names if handle.object.link_name in self.urdf_content.parent_map else []\n",
    "        group_name_binder = self.planner.group_names if binder.object.link_name in self.urdf_content.parent_map else []\n",
    "    else:\n",
    "        group_name_handle = group_name_handle or [gname for gname in self.planner.group_names if gname in handle.object.link_name]\n",
    "        group_name_binder = group_name_binder or [gname for gname in self.planner.group_names if gname in binder.object.link_name]\n",
    "\n",
    "    if group_name_binder and not group_name_handle:\n",
    "        group_name = group_name_binder[0]\n",
    "        tool, T_tool = binder, T_binder\n",
    "        target, T_tar = handle, T_handle\n",
    "    elif group_name_handle and not group_name_binder:\n",
    "        group_name = group_name_handle[0]\n",
    "        tool, T_tool = handle, T_handle\n",
    "        target, T_tar = binder, T_binder\n",
    "    else:\n",
    "        print(binder.name, obj.object.name)\n",
    "        print(group_name_binder, group_name_handle)\n",
    "        print(\"uncontrollable binding\")\n",
    "        raise(RuntimeError(\"uncontrollable binding\"))\n",
    "    #     return [], [0]*self.planner.joint_num, None, False\n",
    "\n",
    "    T_tar_tool = np.matmul(T_tar, SE3_inv(T_tool))\n",
    "    goal_pose = tuple(T_tar_tool[:3,3]) \\\n",
    "                +tuple(Rotation.from_dcm(T_tar_tool[:3,:3]).as_quat())\n",
    "\n",
    "    CENTER_OFFSET = tuple(np.multiply(Nwdh[:2], L_CELL) / 2)+(center_height,)\n",
    "    T_ho = SE3_inv(target.Toff_oh)\n",
    "    T_tar_o = np.matmul(get_tf(target.object.link_name, Q_dict, self.urdf_content), np.matmul(T_tar, T_ho))\n",
    "    T_tool_o = np.matmul(get_tf(tool.object.link_name, Q_dict, self.urdf_content), np.matmul(T_tool, T_ho))\n",
    "\n",
    "    T_tar_o[:3,3]+= CENTER_OFFSET\n",
    "    T_tool_o[:3,3]+= CENTER_OFFSET\n",
    "\n",
    "    cell_init, verts_init = get_cell_verts(GEOTYPE.BOX, T_tool_o, obj.object.dims, L_CELL, Nwdh)\n",
    "    chain_init = chain_dict[tool.object.link_name]\n",
    "    cell_goal, verts_goal = get_cell_verts(GEOTYPE.BOX, T_tar_o, obj.object.dims, L_CELL, Nwdh)\n",
    "    chain_goal = chain_dict[target.object.link_name]\n",
    "    return cell_init, verts_init, chain_init, cell_goal, verts_goal, chain_goal"
   ]
  },
  {
   "cell_type": "code",
   "execution_count": null,
   "metadata": {},
   "outputs": [],
   "source": []
  },
  {
   "cell_type": "code",
   "execution_count": 294,
   "metadata": {},
   "outputs": [
    {
     "name": "stdout",
     "output_type": "stream",
     "text": [
      "ignore wall_008 out of workspace\n",
      "(1.3357894648359867, 0.5445244431149002, -0.7762503565280218)\n",
      "ignore wall_009 out of workspace\n",
      "(1.3429837385070398, 0.5415741303601647, -1.07614956973305)\n",
      "ignore wall_018 out of workspace\n",
      "(1.035876241061031, 0.5450021013912392, -0.783449665347928)\n",
      "ignore wall_019 out of workspace\n",
      "(1.043070514732084, 0.5420517886365036, -1.0833488785529566)\n",
      "ignore wall_028 out of workspace\n",
      "(0.7359630172860753, 0.5454797596675782, -0.7906489741678343)\n",
      "ignore wall_029 out of workspace\n",
      "(0.7431572909571283, 0.5425294469128427, -1.0905481873728626)\n",
      "ignore wall_038 out of workspace\n",
      "(0.4360497935111197, 0.5459574179439172, -0.7978482829877406)\n",
      "ignore wall_039 out of workspace\n",
      "(0.44324406718217285, 0.5430071051891816, -1.0977474961927691)\n",
      "ignore wall_048 out of workspace\n",
      "(0.13613656973616392, 0.5464350762202561, -0.8050475918076468)\n",
      "ignore wall_049 out of workspace\n",
      "(0.14333084340721705, 0.5434847634655207, -1.1049468050126752)\n",
      "ignore wall_058 out of workspace\n",
      "(-0.1637766540387918, 0.5469127344965952, -0.8122469006275533)\n",
      "ignore wall_059 out of workspace\n",
      "(-0.15658238036773867, 0.5439624217418596, -1.1121461138325817)\n",
      "ignore wall_068 out of workspace\n",
      "(-0.46368987781374726, 0.5473903927729341, -0.8194462094474596)\n",
      "ignore wall_069 out of workspace\n",
      "(-0.45649560414269413, 0.5444400800181985, -1.1193454226524882)\n",
      "ignore wall_078 out of workspace\n",
      "(-0.7636031015887033, 0.5478680510492732, -0.8266455182673659)\n",
      "ignore wall_079 out of workspace\n",
      "(-0.7564088279176502, 0.5449177382945376, -1.1265447314723942)\n",
      "ignore wall_088 out of workspace\n",
      "(-1.0635163253636586, 0.5483457093256121, -0.8338448270872721)\n",
      "ignore wall_089 out of workspace\n",
      "(-1.0563220516926055, 0.5453953965708765, -1.1337440402923007)\n",
      "ignore wall_098 out of workspace\n",
      "(-1.3634295491386141, 0.548823367601951, -0.8410441359071784)\n",
      "ignore wall_099 out of workspace\n",
      "(-1.356235275467561, 0.5458730548472156, -1.1409433491122067)\n",
      "ignore box3 out of workspace\n"
     ]
    },
    {
     "data": {
      "text/plain": [
       "21.628141403198242"
      ]
     },
     "execution_count": 294,
     "metadata": {},
     "output_type": "execute_result"
    }
   ],
   "source": [
    "gtimer.reset()\n",
    "gtimer.tic(\"convert_workspace\")\n",
    "ghnd_new= graph.convert_workspace(ghnd)\n",
    "gtimer.toc(\"convert_workspace\")"
   ]
  },
  {
   "cell_type": "markdown",
   "metadata": {},
   "source": [
    "## remove bases"
   ]
  },
  {
   "cell_type": "code",
   "execution_count": 267,
   "metadata": {},
   "outputs": [
    {
     "name": "stdout",
     "output_type": "stream",
     "text": [
      "['indy0_link4_Cylinder_0', 'indy0_link5_Cylinder_0', 'panda1_leftfinger_Cylinder_0', u'box1', 'panda1_link5_Cylinder_0', 'panda1_link5_Cylinder_1', 'panda1_hand_Cylinder_1', 'panda1_hand_Cylinder_0', 'panda1_link6_Cylinder_0', 'panda1_rightfinger_Cylinder_0', 'panda1_link2_Cylinder_0', 'panda1_link1_Cylinder_0', 'panda1_link6_Cylinder_1', 'panda1_link6_Cylinder_2', 'indy0_tcp_Cylinder_0', 'indy0_tcp_Cylinder_1', 'indy0_tcp_Cylinder_2', 'indy0_tcp_Cylinder_3', 'panda1_link3_Cylinder_0', 'obstacle_box2', 'indy0_link2_Cylinder_0_000', 'indy0_link2_Cylinder_0_001', 'indy0_link6_Cylinder_0', 'panda1_link0_Cylinder_1', 'panda1_link0_Cylinder_0', 'panda1_hand_Cylinder_2', 'indy0_link1_Cylinder_0', 'obstacle_box3', 'obstacle_box1', 'indy0_link3_Cylinder_0', 'indy0_link0_Cylinder_0', 'obstacle_box4', 'panda1_link4_Cylinder_0', 'obstacle_box5', u'goal', 'indy0_link2_Cylinder_1', u'box2']\n"
     ]
    }
   ],
   "source": [
    "exclude_list = [\"floor\", \"wall\", \"cam\"]\n",
    "gkeys = sorted(ghnd_new.NAME_DICT.keys())\n",
    "for gname in gkeys:\n",
    "    gtem = ghnd_new.NAME_DICT[gname]\n",
    "    if np.any([ename in gtem.name for ename in exclude_list]):\n",
    "        ghnd_new.remove(gtem)\n",
    "print(ghnd_new.NAME_DICT.keys())"
   ]
  },
  {
   "cell_type": "code",
   "execution_count": 295,
   "metadata": {},
   "outputs": [
    {
     "data": {
      "text/plain": [
       "12.198925018310547"
      ]
     },
     "execution_count": 295,
     "metadata": {},
     "output_type": "execute_result"
    }
   ],
   "source": [
    "from_state = initial_state\n",
    "gtimer.tic(\"convert_scene\")\n",
    "scene_base_data, ctem_names, ctem_cells, chain_dict = graph.convert_scene(ghnd_new, state=from_state, only_base=False)\n",
    "gtimer.toc(\"convert_scene\")"
   ]
  },
  {
   "cell_type": "code",
   "execution_count": 296,
   "metadata": {},
   "outputs": [
    {
     "data": {
      "text/plain": [
       "0.7441043853759766"
      ]
     },
     "execution_count": 296,
     "metadata": {},
     "output_type": "execute_result"
    }
   ],
   "source": [
    "gtimer.tic(\"copy_scene_base_data\")\n",
    "np.copyto(scene_base_data_p, scene_base_data)\n",
    "gtimer.toc(\"copy_scene_base_data\")"
   ]
  },
  {
   "cell_type": "code",
   "execution_count": 297,
   "metadata": {
    "scrolled": true
   },
   "outputs": [
    {
     "name": "stdout",
     "output_type": "stream",
     "text": [
      "convert_workspace: \t22.0 ms/1 = 21.628 ms (21.628/21.628)\n",
      "convert_scene: \t12.0 ms/1 = 12.199 ms (12.199/12.199)\n",
      "test_links: \t1.0 ms/1 = 0.807 ms (0.807/0.807)\n",
      "T_chain: \t1.0 ms/1 = 0.69 ms (0.69/0.69)\n",
      "get_chain: \t0.0 ms/21 = 0.003 ms (0.0/0.013)\n",
      "test_joints: \t0.0 ms/1 = 0.105 ms (0.105/0.105)\n",
      "calc_cell: \t3.0 ms/1 = 3.221 ms (3.221/3.221)\n",
      "list_ctems: \t2.0 ms/1 = 1.903 ms (1.903/1.903)\n",
      "calc_ctems: \t3.0 ms/1 = 2.915 ms (2.915/2.915)\n",
      "rearrange_cell_array: \t1.0 ms/6 = 0.218 ms (0.181/0.275)\n",
      "copy_scene_base_data: \t1.0 ms/1 = 0.744 ms (0.744/0.744)\n",
      "\n"
     ]
    }
   ],
   "source": [
    "print(gtimer)"
   ]
  },
  {
   "cell_type": "code",
   "execution_count": 298,
   "metadata": {},
   "outputs": [],
   "source": [
    "state = initial_state\n",
    "leaf = sampler.node_dict[initial_state.onode][0]\n",
    "Q_dict = list2dict(state.Q, graph.joint_names)\n",
    "available_binding_dict = sampler.get_available_binding_dict(state, leaf, Q_dict)"
   ]
  },
  {
   "cell_type": "code",
   "execution_count": null,
   "metadata": {},
   "outputs": [],
   "source": []
  },
  {
   "cell_type": "code",
   "execution_count": 299,
   "metadata": {},
   "outputs": [],
   "source": [
    "gtimer.reset()\n",
    "BATCH_SIZE = 12\n",
    "cell_init_b, verts_init_b, chain_init_b, cell_goal_b, verts_goal_b, chain_goal_b = [], [], [], [], [], []\n",
    "action_batch = []\n",
    "for _ in range(BATCH_SIZE):\n",
    "    gtimer.tic(\"get_action_boxes\")\n",
    "    to_state, redundancy_dict = sampler.sample_leaf_state(state, available_binding_dict, leaf)\n",
    "    action_batch.append((to_state, redundancy_dict))\n",
    "    cell_init, verts_init, chain_init, cell_goal, verts_goal, chain_goal = get_action_boxes(\n",
    "        graph, from_state, to_state, redundancy_dict, mplan=mplan, L_CELL=0.2, Nwdh=(15,15,15), BASE_LINK='base_link')\n",
    "    cell_init_b.append(cell_init)\n",
    "    verts_init_b.append(verts_init)\n",
    "    chain_init_b.append(chain_init)\n",
    "    cell_goal_b.append(cell_goal)\n",
    "    verts_goal_b.append(verts_goal)\n",
    "    chain_goal_b.append(chain_goal)\n",
    "    gtimer.toc(\"get_action_boxes\")\n",
    "cell_init_b = np.array(cell_init_b)\n",
    "verts_init_b = np.array(verts_init_b)\n",
    "chain_init_b = np.array(chain_init_b)\n",
    "cell_goal_b = np.array(cell_goal_b)\n",
    "verts_goal_b = np.array(verts_goal_b)\n",
    "chain_goal_b = np.array(chain_goal_b)"
   ]
  },
  {
   "cell_type": "code",
   "execution_count": 300,
   "metadata": {},
   "outputs": [],
   "source": [
    "np.copyto(cell_init_p, cell_init_b)\n",
    "np.copyto(verts_init_p, verts_init_b)\n",
    "np.copyto(chain_init_p, chain_init_b)\n",
    "np.copyto(cell_goal_p, cell_goal_b)\n",
    "np.copyto(verts_goal_p, verts_goal_b)\n",
    "np.copyto(chain_goal_p, chain_goal_b)"
   ]
  },
  {
   "cell_type": "code",
   "execution_count": null,
   "metadata": {},
   "outputs": [],
   "source": []
  },
  {
   "cell_type": "markdown",
   "metadata": {},
   "source": [
    "# test"
   ]
  },
  {
   "cell_type": "code",
   "execution_count": 301,
   "metadata": {},
   "outputs": [],
   "source": [
    "WDH_MIN_RBT = (0.75, 0.75, 0.5)\n",
    "WDH_MAX_RBT = (2.25, 2.25, 1.0)\n",
    "H_MEAN = np.mean([WDH_MAX_RBT[2], WDH_MIN_RBT[2]])\n",
    "Nwdh = (15,15,15)\n",
    "L_CELL= 0.2\n",
    "\n",
    "joint_num = crob.joint_num\n",
    "\n",
    "N_vtx_box = 3*8\n",
    "N_mask_box = 1\n",
    "N_joint_box = joint_num\n",
    "N_label_box = N_vtx_box+N_mask_box+N_joint_box\n",
    "N_vtx_cyl = 3*2+1\n",
    "N_mask_cyl = 1\n",
    "N_joint_cyl = joint_num\n",
    "N_label_cyl = N_vtx_cyl+N_mask_cyl+N_joint_cyl\n",
    "N_vtx_init = 3*8\n",
    "N_mask_init = 1\n",
    "N_joint_init = joint_num\n",
    "N_label_init = N_vtx_init+N_mask_init+N_joint_init\n",
    "N_vtx_goal = 3*8\n",
    "N_mask_goal = 1\n",
    "N_joint_goal = joint_num\n",
    "N_label_goal = N_vtx_goal+N_mask_goal+N_joint_goal\n",
    "N_joint_label = 9*joint_num\n",
    "N_cell_label = N_label_box+N_label_cyl+N_label_init+N_label_goal + N_joint_label\n",
    "N_BEGIN_CYL = N_vtx_box+N_mask_box+N_joint_box\n",
    "N_BEGIN_INIT = N_BEGIN_CYL+N_vtx_cyl+N_mask_cyl+N_joint_cyl\n",
    "N_BEGIN_GOAL = N_BEGIN_INIT+N_vtx_init+N_mask_init+N_joint_init"
   ]
  },
  {
   "cell_type": "code",
   "execution_count": null,
   "metadata": {},
   "outputs": [],
   "source": []
  },
  {
   "cell_type": "code",
   "execution_count": 302,
   "metadata": {},
   "outputs": [
    {
     "name": "stdout",
     "output_type": "stream",
     "text": [
      "[True, True, False, False, True, True, True, True, False, True, True, True]\n"
     ]
    }
   ],
   "source": [
    "succ_batch = []\n",
    "traj= []\n",
    "for to_state, redundancy_dict in action_batch:\n",
    "    traj_bak, new_state, error, succ = graph.test_transition(from_state, to_state, display=False,\n",
    "                                                         redundancy_dict=redundancy_dict,\n",
    "                                                         dt_vis=0.01,\n",
    "                                                         print_expression=False)\n",
    "    if succ:\n",
    "        traj = traj_bak\n",
    "    succ_batch.append(succ)\n",
    "print(succ_batch)"
   ]
  },
  {
   "cell_type": "code",
   "execution_count": 303,
   "metadata": {},
   "outputs": [],
   "source": [
    "scene_base_batch = np.stack([scene_base_data_p]*BATCH_SIZE)"
   ]
  },
  {
   "cell_type": "code",
   "execution_count": 304,
   "metadata": {},
   "outputs": [],
   "source": [
    "for i_b, cell, verts, chain in zip(range(BATCH_SIZE), cell_init_p, verts_init_p, chain_init_p):\n",
    "    scene_base_batch[i_b, cell[0], cell[1], cell[2], \n",
    "                     N_BEGIN_INIT:\n",
    "                     N_BEGIN_INIT+N_vtx_init] = verts\n",
    "    scene_base_batch[i_b, cell[0], cell[1], cell[2], \n",
    "                     N_BEGIN_INIT+N_vtx_init:\n",
    "                     N_BEGIN_INIT+N_vtx_init+N_mask_init] = 1\n",
    "    scene_base_batch[i_b, cell[0], cell[1], cell[2], \n",
    "                     N_BEGIN_INIT+N_vtx_init+N_mask_init:\n",
    "                     N_BEGIN_INIT+N_vtx_init+N_mask_init+N_joint_init] = chain"
   ]
  },
  {
   "cell_type": "code",
   "execution_count": 305,
   "metadata": {},
   "outputs": [],
   "source": [
    "for i_b, cell, verts, chain in zip(range(BATCH_SIZE), cell_goal_p, verts_goal_p, chain_goal_p):\n",
    "    scene_base_batch[i_b, cell[0], cell[1], cell[2], \n",
    "                     N_BEGIN_GOAL:\n",
    "                     N_BEGIN_GOAL+N_vtx_goal] = verts\n",
    "    scene_base_batch[i_b, cell[0], cell[1], cell[2], \n",
    "                     N_BEGIN_GOAL+N_vtx_goal:\n",
    "                     N_BEGIN_GOAL+N_vtx_goal+N_mask_goal] = 1\n",
    "    scene_base_batch[i_b, cell[0], cell[1], cell[2], \n",
    "                     N_BEGIN_GOAL+N_vtx_goal+N_mask_goal:\n",
    "                     N_BEGIN_GOAL+N_vtx_goal+N_mask_goal+N_joint_goal] = chain"
   ]
  },
  {
   "cell_type": "code",
   "execution_count": null,
   "metadata": {},
   "outputs": [],
   "source": []
  },
  {
   "cell_type": "code",
   "execution_count": 306,
   "metadata": {},
   "outputs": [],
   "source": [
    "scene_data = scene_base_batch[0]\n",
    "\n",
    "centers = get_centers(Nwdh, L_CELL)-(1.5,1.5,H_MEAN)\n",
    "# centers = get_centers(Nwdh, L_CELL)\n",
    "for idx, center, cell_dat in zip(range(Nwdh[0]*Nwdh[1]*Nwdh[2]), centers.reshape((-1,3)), scene_data.reshape((-1, scene_data.shape[-1]))):\n",
    "    gtem, mask, chain = get_box_diplay(ghnd, \"box_{}\".format(idx), cell_dat, 0, joint_num, center)\n",
    "    if mask:\n",
    "        graph.add_marker(gtem)\n",
    "    gtem, mask, chain = get_cyl_diplay(ghnd, \"cyl_{}\".format(idx), cell_dat, N_BEGIN_CYL, joint_num, center)\n",
    "    if mask:\n",
    "        graph.add_marker(gtem)\n",
    "    gtem, mask, chain = get_box_diplay(ghnd, \"init_{}\".format(idx), cell_dat, N_BEGIN_INIT, joint_num, center, color=(0,0,0,0.8))\n",
    "    if mask:\n",
    "        graph.add_marker(gtem)\n",
    "    gtem, mask, chain = get_box_diplay(ghnd, \"goal_{}\".format(idx), cell_dat, N_BEGIN_GOAL, joint_num, center, color=(0.8,0.8,0.8,0.8))\n",
    "    if mask:\n",
    "        graph.add_marker(gtem)"
   ]
  },
  {
   "cell_type": "code",
   "execution_count": 307,
   "metadata": {},
   "outputs": [],
   "source": [
    "\n",
    "for idx, center, cell_dat in zip(range(Nwdh[0]*Nwdh[1]*Nwdh[2]), centers.reshape((-1,3)), scene_data.reshape((-1, scene_data.shape[-1]))):\n",
    "    gtem, mask, chain = get_box_diplay(ghnd, \"box_{}\".format(idx), cell_dat, 0, joint_num, center)\n",
    "    if mask:\n",
    "        graph.remove_geometry(gtem)\n",
    "    gtem, mask, chain = get_cyl_diplay(ghnd, \"cyl_{}\".format(idx), cell_dat, N_BEGIN_CYL, joint_num, center)\n",
    "    if mask:\n",
    "        graph.remove_geometry(gtem)\n",
    "    gtem, mask, chain = get_box_diplay(ghnd, \"init_{}\".format(idx), cell_dat, N_BEGIN_INIT, joint_num, center, color=(0,0,0,0.8))\n",
    "    if mask:\n",
    "        graph.remove_geometry(gtem)\n",
    "    gtem, mask, chain = get_box_diplay(ghnd, \"goal_{}\".format(idx), cell_dat, N_BEGIN_GOAL, joint_num, center, color=(0,0,0,0.8))\n",
    "    if mask:\n",
    "        graph.remove_geometry(gtem)"
   ]
  },
  {
   "cell_type": "code",
   "execution_count": 308,
   "metadata": {},
   "outputs": [],
   "source": [
    "graph.show_motion(traj)"
   ]
  },
  {
   "cell_type": "code",
   "execution_count": 311,
   "metadata": {},
   "outputs": [],
   "source": [
    "graph.show_pose(crob.home_pose)"
   ]
  },
  {
   "cell_type": "code",
   "execution_count": 312,
   "metadata": {},
   "outputs": [],
   "source": [
    "graph.set_object_state(initial_state)"
   ]
  },
  {
   "cell_type": "code",
   "execution_count": 248,
   "metadata": {
    "scrolled": false
   },
   "outputs": [
    {
     "name": "stdout",
     "output_type": "stream",
     "text": [
      "get_action_boxes: \t8.0 ms/12 = 0.692 ms (0.624/1.099)\n",
      "\n"
     ]
    }
   ],
   "source": [
    "print(gtimer)"
   ]
  },
  {
   "cell_type": "code",
   "execution_count": 75,
   "metadata": {},
   "outputs": [],
   "source": [
    "graph.set_rviz()"
   ]
  },
  {
   "cell_type": "code",
   "execution_count": 35,
   "metadata": {
    "scrolled": true
   },
   "outputs": [
    {
     "data": {
      "text/plain": [
       "(15, 15, 15, 252)"
      ]
     },
     "execution_count": 35,
     "metadata": {},
     "output_type": "execute_result"
    }
   ],
   "source": [
    "scene_base_data.shape"
   ]
  },
  {
   "cell_type": "code",
   "execution_count": null,
   "metadata": {},
   "outputs": [],
   "source": []
  },
  {
   "cell_type": "markdown",
   "metadata": {},
   "source": [
    "## visualization testing verts"
   ]
  },
  {
   "cell_type": "code",
   "execution_count": 31,
   "metadata": {},
   "outputs": [
    {
     "name": "stdout",
     "output_type": "stream",
     "text": [
      "[6 6 7] [-0.0537812   0.08276885  0.05602929 -0.03396299  0.03686523  0.05571912\n",
      " -0.05413367  0.08295453  0.00603088 -0.03431546  0.03705091  0.00572071\n",
      " -0.09968452  0.06294908  0.05627929 -0.07986631  0.01704546  0.05596912\n",
      " -0.10003699  0.06313476  0.00628088 -0.08021878  0.01723114  0.0059707 ]\n",
      "[4 6 9] [-0.01232297  0.13403402 -0.00951462 -0.06231839  0.13471089 -0.00952867\n",
      " -0.01285815  0.09515673  0.02192214 -0.06285357  0.0958336   0.02190809\n",
      " -0.01273762  0.10259999 -0.04839559 -0.06273304  0.10327686 -0.04840964\n",
      " -0.0132728   0.0637227  -0.01695883 -0.06326822  0.06439957 -0.01697288]\n"
     ]
    }
   ],
   "source": [
    "cell, verts = cell_goal, verts_goal\n",
    "print(cell, verts)\n",
    "target_center = np.multiply(cell, L_CELL)+0.5*L_CELL-CENTER_OFFSET\n",
    "target_cell = ghnd.create_safe(name=\"target_cell\", gtype=GEOTYPE.BOX, link_name=BASE_LINK,\n",
    "                               dims=(L_CELL, L_CELL, L_CELL), center=target_center, rpy=(0, 0, 0), collision=False, display=True,\n",
    "                               color=(1,0,0,0.3))\n",
    "graph.add_marker(target_cell)\n",
    "verts_res = np.reshape(verts, (-1,3))\n",
    "target_verts = []\n",
    "for i_v, vert in enumerate(verts_res):\n",
    "    target_vert = ghnd.create_safe(name=\"target_vert_%d\"%i_v, gtype=GEOTYPE.SPHERE, link_name=BASE_LINK,\n",
    "                                   dims=(0.01, 0.01, 0.01), center=target_center+vert, rpy=(0, 0, 0), collision=False, display=True,\n",
    "                                   color=(1,0,0,0.7))\n",
    "    target_verts.append(target_vert)\n",
    "    graph.add_marker(target_vert)\n",
    "\n",
    "cell, verts = cell_init, verts_init\n",
    "print(cell, verts)\n",
    "tool_center = np.multiply(cell, L_CELL)+0.5*L_CELL-CENTER_OFFSET\n",
    "tool_cell = ghnd.create_safe(name=\"tool_cell\", gtype=GEOTYPE.BOX, link_name=BASE_LINK,\n",
    "                               dims=(L_CELL, L_CELL, L_CELL), center=tool_center, rpy=(0, 0, 0), collision=False, display=True,\n",
    "                               color=(1,0,0,0.3))\n",
    "graph.add_marker(tool_cell)\n",
    "verts_res = np.reshape(verts, (-1,3))\n",
    "T_tool_inv = SE3_inv(get_tf(tool.object.link_name, Q_dict, mplan.urdf_content))\n",
    "tool_verts = []\n",
    "for i_v, vert in enumerate(verts_res):\n",
    "    T_vert = SE3(np.identity(3), tool_center+vert)\n",
    "    T_vert_bind = np.matmul(T_tool_inv, T_vert)\n",
    "    tool_vert = ghnd.create_safe(name=\"tool_vert_%d\"%i_v, gtype=GEOTYPE.SPHERE, link_name=BASE_LINK,\n",
    "                                   dims=(0.01, 0.01, 0.01), center=T_vert[:3,3], rpy=(0, 0, 0), collision=False, display=True,\n",
    "                                   color=(1,0,0,0.7))\n",
    "    tool_vert_bind = ghnd.create_safe(name=\"tool_vert_bind_%d\"%i_v, gtype=GEOTYPE.SPHERE, link_name=tool.object.link_name,\n",
    "                                   dims=(0.01, 0.01, 0.01), center=T_vert_bind[:3,3], rpy=(0, 0, 0), collision=False, display=True,\n",
    "                                   color=(0,0,1,0.7))\n",
    "    tool_verts.append(tool_vert)\n",
    "    tool_verts.append(tool_vert_bind)\n",
    "    graph.add_marker(tool_vert)\n",
    "    graph.add_marker(tool_vert_bind)"
   ]
  },
  {
   "cell_type": "code",
   "execution_count": 32,
   "metadata": {},
   "outputs": [],
   "source": [
    "graph.show_motion(traj)"
   ]
  },
  {
   "cell_type": "code",
   "execution_count": 33,
   "metadata": {},
   "outputs": [],
   "source": [
    "graph.remove_geometry(target_cell)\n",
    "graph.remove_geometry(tool_cell)\n",
    "for vert in target_verts:\n",
    "    graph.remove_geometry(vert)\n",
    "for vert in tool_verts:\n",
    "    graph.remove_geometry(vert)"
   ]
  },
  {
   "cell_type": "code",
   "execution_count": 34,
   "metadata": {},
   "outputs": [],
   "source": [
    "graph.show_pose(crob.home_pose)"
   ]
  },
  {
   "cell_type": "code",
   "execution_count": null,
   "metadata": {},
   "outputs": [],
   "source": []
  },
  {
   "cell_type": "markdown",
   "metadata": {},
   "source": [
    "## search"
   ]
  },
  {
   "cell_type": "code",
   "execution_count": 16,
   "metadata": {},
   "outputs": [
    {
     "name": "stdout",
     "output_type": "stream",
     "text": [
      "node: (u'floor', u'floor')->(u'grip1', u'floor') = success\n",
      "Goal cost:2->1 / Init cost:0->1 / branching: 0->1 (0.06/600.0 s, steps/err: 29(51.4078140259 ms)/1.95071644003)\n",
      "======================================================================================================================================================\n",
      "node: (u'grip1', u'floor')->(u'goal', u'floor') = fail\n",
      "node: (u'grip1', u'floor')->(u'goal', u'floor') = fail\n",
      "node: (u'grip1', u'floor')->(u'goal', u'floor') = fail\n",
      "node: (u'grip1', u'floor')->(u'goal', u'floor') = fail\n",
      "node: (u'grip1', u'floor')->(u'goal', u'floor') = fail\n",
      "node: (u'grip1', u'floor')->(u'goal', u'floor') = fail\n",
      "node: (u'grip1', u'floor')->(u'goal', u'floor') = fail\n",
      "node: (u'grip1', u'floor')->(u'goal', u'floor') = fail\n",
      "node: (u'grip1', u'floor')->(u'goal', u'floor') = fail\n",
      "node: (u'grip1', u'floor')->(u'goal', u'floor') = fail\n",
      "node: (u'grip1', u'floor')->(u'goal', u'floor') = fail\n",
      "node: (u'grip1', u'floor')->(u'goal', u'floor') = fail\n",
      "node: (u'grip1', u'floor')->(u'goal', u'floor') = fail\n",
      "node: (u'grip1', u'floor')->(u'goal', u'floor') = fail\n",
      "node: (u'grip1', u'floor')->(u'goal', u'floor') = fail\n",
      "node: (u'grip1', u'floor')->(u'goal', u'floor') = fail\n",
      "node: (u'grip1', u'floor')->(u'goal', u'floor') = fail\n",
      "node: (u'grip1', u'floor')->(u'goal', u'floor') = fail\n",
      "node: (u'grip1', u'floor')->(u'goal', u'floor') = fail\n",
      "node: (u'grip1', u'floor')->(u'goal', u'floor') = fail\n",
      "node: (u'grip1', u'floor')->(u'goal', u'floor') = fail\n",
      "node: (u'grip1', u'floor')->(u'goal', u'floor') = fail\n",
      "node: (u'grip1', u'floor')->(u'goal', u'floor') = fail\n",
      "node: (u'grip1', u'floor')->(u'goal', u'floor') = fail\n",
      "node: (u'grip1', u'floor')->(u'goal', u'floor') = fail\n",
      "node: (u'grip1', u'floor')->(u'goal', u'floor') = fail\n",
      "node: (u'grip1', u'floor')->(u'goal', u'floor') = fail\n",
      "node: (u'grip1', u'floor')->(u'goal', u'floor') = fail\n",
      "node: (u'grip1', u'floor')->(u'goal', u'floor') = fail\n",
      "node: (u'grip1', u'floor')->(u'goal', u'floor') = fail\n",
      "node: (u'floor', u'floor')->(u'grip0', u'floor') = success\n",
      "Goal cost:2->1 / Init cost:0->1 / branching: 0->2 (0.47/600.0 s, steps/err: 10(48.3100414276 ms)/0.743449649878)\n",
      "======================================================================================================================================================\n",
      "node: (u'grip0', u'floor')->(u'goal', u'floor') = fail\n",
      "node: (u'grip0', u'floor')->(u'goal', u'floor') = fail\n",
      "node: (u'grip0', u'floor')->(u'goal', u'floor') = fail\n",
      "node: (u'grip0', u'floor')->(u'goal', u'floor') = fail\n",
      "node: (u'grip0', u'floor')->(u'goal', u'floor') = fail\n",
      "node: (u'grip0', u'floor')->(u'goal', u'floor') = fail\n",
      "node: (u'grip0', u'floor')->(u'goal', u'floor') = fail\n",
      "node: (u'grip0', u'floor')->(u'goal', u'floor') = fail\n",
      "node: (u'grip0', u'floor')->(u'goal', u'floor') = fail\n",
      "node: (u'grip0', u'floor')->(u'goal', u'floor') = fail\n",
      "node: (u'grip0', u'floor')->(u'goal', u'floor') = fail\n",
      "node: (u'grip0', u'floor')->(u'goal', u'floor') = fail\n",
      "node: (u'grip0', u'floor')->(u'goal', u'floor') = fail\n",
      "node: (u'grip0', u'floor')->(u'goal', u'floor') = fail\n",
      "node: (u'grip0', u'floor')->(u'goal', u'floor') = fail\n",
      "node: (u'grip0', u'floor')->(u'goal', u'floor') = fail\n",
      "node: (u'grip0', u'floor')->(u'goal', u'floor') = fail\n",
      "node: (u'grip0', u'floor')->(u'goal', u'floor') = fail\n",
      "node: (u'grip0', u'floor')->(u'goal', u'floor') = fail\n",
      "node: (u'grip0', u'floor')->(u'goal', u'floor') = fail\n",
      "node: (u'grip0', u'floor')->(u'goal', u'floor') = fail\n",
      "node: (u'grip0', u'floor')->(u'goal', u'floor') = fail\n",
      "node: (u'grip0', u'floor')->(u'goal', u'floor') = fail\n",
      "node: (u'grip0', u'floor')->(u'goal', u'floor') = fail\n",
      "node: (u'grip0', u'floor')->(u'goal', u'floor') = fail\n",
      "node: (u'grip0', u'floor')->(u'goal', u'floor') = fail\n",
      "node: (u'grip0', u'floor')->(u'goal', u'floor') = fail\n",
      "node: (u'grip0', u'floor')->(u'goal', u'floor') = fail\n",
      "node: (u'grip0', u'floor')->(u'goal', u'floor') = fail\n",
      "node: (u'grip0', u'floor')->(u'goal', u'floor') = fail\n",
      "node: (u'floor', u'floor')->(u'grip0', u'floor') = success\n",
      "Goal cost:2->1 / Init cost:0->1 / branching: 0->3 (0.93/600.0 s, steps/err: 34(50.8029460907 ms)/1.89353053555)\n",
      "======================================================================================================================================================\n",
      "node: (u'grip0', u'floor')->(u'goal', u'floor') = fail\n",
      "node: (u'grip0', u'floor')->(u'goal', u'floor') = fail\n",
      "node: (u'grip0', u'floor')->(u'goal', u'floor') = fail\n",
      "node: (u'grip0', u'floor')->(u'goal', u'floor') = fail\n",
      "node: (u'grip0', u'floor')->(u'goal', u'floor') = fail\n",
      "node: (u'grip0', u'floor')->(u'goal', u'floor') = fail\n",
      "node: (u'grip0', u'floor')->(u'goal', u'floor') = fail\n",
      "node: (u'grip0', u'floor')->(u'goal', u'floor') = fail\n",
      "node: (u'grip0', u'floor')->(u'goal', u'floor') = fail\n",
      "node: (u'grip0', u'floor')->(u'goal', u'floor') = fail\n",
      "node: (u'grip0', u'floor')->(u'goal', u'floor') = fail\n",
      "node: (u'grip0', u'floor')->(u'goal', u'floor') = fail\n",
      "node: (u'grip0', u'floor')->(u'goal', u'floor') = fail\n",
      "node: (u'grip0', u'floor')->(u'goal', u'floor') = fail\n",
      "node: (u'grip0', u'floor')->(u'goal', u'floor') = fail\n",
      "node: (u'grip0', u'floor')->(u'goal', u'floor') = fail\n",
      "node: (u'grip0', u'floor')->(u'goal', u'floor') = fail\n",
      "node: (u'grip0', u'floor')->(u'goal', u'floor') = fail\n",
      "node: (u'grip0', u'floor')->(u'goal', u'floor') = fail\n",
      "node: (u'grip0', u'floor')->(u'goal', u'floor') = fail\n",
      "node: (u'grip0', u'floor')->(u'goal', u'floor') = fail\n",
      "node: (u'grip0', u'floor')->(u'goal', u'floor') = fail\n",
      "node: (u'grip0', u'floor')->(u'goal', u'floor') = fail\n",
      "node: (u'grip0', u'floor')->(u'goal', u'floor') = fail\n",
      "node: (u'grip0', u'floor')->(u'goal', u'floor') = fail\n",
      "node: (u'grip0', u'floor')->(u'goal', u'floor') = fail\n",
      "node: (u'grip0', u'floor')->(u'goal', u'floor') = fail\n",
      "node: (u'grip0', u'floor')->(u'goal', u'floor') = fail\n",
      "node: (u'grip0', u'floor')->(u'goal', u'floor') = fail\n",
      "node: (u'grip0', u'floor')->(u'goal', u'floor') = fail\n",
      "node: (u'floor', u'floor')->(u'grip0', u'floor') = fail\n",
      "node: (u'floor', u'floor')->(u'grip1', u'floor') = success\n",
      "Goal cost:2->1 / Init cost:0->1 / branching: 0->4 (1.47/600.0 s, steps/err: 30(51.7120361328 ms)/1.42580162504)\n",
      "======================================================================================================================================================\n",
      "node: (u'grip1', u'floor')->(u'goal', u'floor') = fail\n",
      "node: (u'grip1', u'floor')->(u'goal', u'floor') = fail\n",
      "node: (u'grip1', u'floor')->(u'goal', u'floor') = fail\n",
      "node: (u'grip1', u'floor')->(u'goal', u'floor') = fail\n",
      "node: (u'grip1', u'floor')->(u'goal', u'floor') = fail\n",
      "node: (u'grip1', u'floor')->(u'goal', u'floor') = fail\n",
      "node: (u'grip1', u'floor')->(u'goal', u'floor') = fail\n",
      "node: (u'grip1', u'floor')->(u'goal', u'floor') = fail\n",
      "node: (u'grip1', u'floor')->(u'goal', u'floor') = fail\n",
      "node: (u'grip1', u'floor')->(u'goal', u'floor') = fail\n",
      "node: (u'grip1', u'floor')->(u'goal', u'floor') = fail\n",
      "node: (u'grip1', u'floor')->(u'goal', u'floor') = fail\n",
      "node: (u'grip1', u'floor')->(u'goal', u'floor') = fail\n",
      "node: (u'grip1', u'floor')->(u'goal', u'floor') = fail\n",
      "node: (u'grip1', u'floor')->(u'goal', u'floor') = fail\n",
      "node: (u'grip1', u'floor')->(u'goal', u'floor') = fail\n",
      "node: (u'grip1', u'floor')->(u'goal', u'floor') = fail\n",
      "node: (u'grip1', u'floor')->(u'goal', u'floor') = fail\n",
      "node: (u'grip1', u'floor')->(u'goal', u'floor') = fail\n",
      "node: (u'grip1', u'floor')->(u'goal', u'floor') = fail\n",
      "node: (u'grip1', u'floor')->(u'goal', u'floor') = fail\n",
      "node: (u'grip1', u'floor')->(u'goal', u'floor') = fail\n",
      "node: (u'grip1', u'floor')->(u'goal', u'floor') = fail\n",
      "node: (u'grip1', u'floor')->(u'goal', u'floor') = fail\n",
      "node: (u'grip1', u'floor')->(u'goal', u'floor') = fail\n",
      "node: (u'grip1', u'floor')->(u'goal', u'floor') = fail\n",
      "node: (u'grip1', u'floor')->(u'goal', u'floor') = fail\n",
      "node: (u'grip1', u'floor')->(u'goal', u'floor') = fail\n",
      "node: (u'grip1', u'floor')->(u'goal', u'floor') = fail\n",
      "node: (u'grip1', u'floor')->(u'goal', u'floor') = fail\n",
      "node: (u'floor', u'floor')->(u'grip1', u'floor') = fail\n",
      "node: (u'floor', u'floor')->(u'grip1', u'floor') = fail\n",
      "node: (u'floor', u'floor')->(u'grip0', u'floor') = success\n",
      "Goal cost:2->1 / Init cost:0->1 / branching: 0->5 (2.18/600.0 s, steps/err: 29(48.5270023346 ms)/0.93053919735)\n",
      "======================================================================================================================================================\n",
      "node: (u'grip0', u'floor')->(u'goal', u'floor') = fail\n",
      "node: (u'grip0', u'floor')->(u'goal', u'floor') = fail\n",
      "node: (u'grip0', u'floor')->(u'goal', u'floor') = fail\n",
      "node: (u'grip0', u'floor')->(u'goal', u'floor') = fail\n",
      "node: (u'grip0', u'floor')->(u'goal', u'floor') = fail\n",
      "node: (u'grip0', u'floor')->(u'goal', u'floor') = fail\n",
      "node: (u'grip0', u'floor')->(u'goal', u'floor') = fail\n",
      "node: (u'grip0', u'floor')->(u'goal', u'floor') = fail\n",
      "node: (u'grip0', u'floor')->(u'goal', u'floor') = fail\n",
      "node: (u'grip0', u'floor')->(u'goal', u'floor') = fail\n",
      "node: (u'grip0', u'floor')->(u'goal', u'floor') = fail\n",
      "node: (u'grip0', u'floor')->(u'goal', u'floor') = fail\n"
     ]
    },
    {
     "name": "stdout",
     "output_type": "stream",
     "text": [
      "node: (u'grip0', u'floor')->(u'goal', u'floor') = fail\n",
      "node: (u'grip0', u'floor')->(u'goal', u'floor') = fail\n",
      "node: (u'grip0', u'floor')->(u'goal', u'floor') = fail\n",
      "node: (u'grip0', u'floor')->(u'goal', u'floor') = fail\n",
      "node: (u'grip0', u'floor')->(u'goal', u'floor') = fail\n",
      "node: (u'grip0', u'floor')->(u'goal', u'floor') = fail\n",
      "node: (u'grip0', u'floor')->(u'goal', u'floor') = fail\n",
      "node: (u'grip0', u'floor')->(u'goal', u'floor') = fail\n",
      "node: (u'grip0', u'floor')->(u'goal', u'floor') = fail\n",
      "node: (u'grip0', u'floor')->(u'goal', u'floor') = fail\n",
      "node: (u'grip0', u'floor')->(u'goal', u'floor') = fail\n",
      "node: (u'grip0', u'floor')->(u'goal', u'floor') = fail\n",
      "node: (u'grip0', u'floor')->(u'goal', u'floor') = fail\n",
      "node: (u'grip0', u'floor')->(u'goal', u'floor') = fail\n",
      "node: (u'grip0', u'floor')->(u'goal', u'floor') = fail\n",
      "node: (u'grip0', u'floor')->(u'goal', u'floor') = fail\n",
      "node: (u'grip0', u'floor')->(u'goal', u'floor') = fail\n",
      "node: (u'grip0', u'floor')->(u'goal', u'floor') = fail\n",
      "node: (u'floor', u'floor')->(u'grip1', u'floor') = fail\n",
      "node: (u'floor', u'floor')->(u'grip0', u'floor') = success\n",
      "Goal cost:2->1 / Init cost:0->1 / branching: 0->6 (2.76/600.0 s, steps/err: 30(42.7918434143 ms)/1.78663958366)\n",
      "======================================================================================================================================================\n",
      "node: (u'grip0', u'floor')->(u'goal', u'floor') = fail\n",
      "node: (u'grip0', u'floor')->(u'goal', u'floor') = fail\n",
      "node: (u'grip0', u'floor')->(u'goal', u'floor') = fail\n",
      "node: (u'grip0', u'floor')->(u'goal', u'floor') = fail\n",
      "node: (u'grip0', u'floor')->(u'goal', u'floor') = fail\n",
      "node: (u'grip0', u'floor')->(u'goal', u'floor') = fail\n",
      "node: (u'grip0', u'floor')->(u'goal', u'floor') = fail\n",
      "node: (u'grip0', u'floor')->(u'goal', u'floor') = fail\n",
      "node: (u'grip0', u'floor')->(u'goal', u'floor') = fail\n",
      "node: (u'grip0', u'floor')->(u'goal', u'floor') = fail\n",
      "node: (u'grip0', u'floor')->(u'goal', u'floor') = fail\n",
      "node: (u'grip0', u'floor')->(u'goal', u'floor') = fail\n",
      "node: (u'grip0', u'floor')->(u'goal', u'floor') = fail\n",
      "node: (u'grip0', u'floor')->(u'goal', u'floor') = fail\n",
      "node: (u'grip0', u'floor')->(u'goal', u'floor') = fail\n",
      "node: (u'grip0', u'floor')->(u'goal', u'floor') = fail\n",
      "node: (u'grip0', u'floor')->(u'goal', u'floor') = fail\n",
      "node: (u'grip0', u'floor')->(u'goal', u'floor') = fail\n",
      "node: (u'grip0', u'floor')->(u'goal', u'floor') = fail\n",
      "node: (u'grip0', u'floor')->(u'goal', u'floor') = fail\n",
      "node: (u'grip0', u'floor')->(u'goal', u'floor') = fail\n",
      "node: (u'grip0', u'floor')->(u'goal', u'floor') = fail\n",
      "node: (u'grip0', u'floor')->(u'goal', u'floor') = fail\n",
      "node: (u'grip0', u'floor')->(u'goal', u'floor') = fail\n",
      "node: (u'grip0', u'floor')->(u'goal', u'floor') = fail\n",
      "node: (u'grip0', u'floor')->(u'goal', u'floor') = fail\n",
      "node: (u'grip0', u'floor')->(u'goal', u'floor') = fail\n",
      "node: (u'grip0', u'floor')->(u'goal', u'floor') = fail\n",
      "node: (u'grip0', u'floor')->(u'goal', u'floor') = fail\n",
      "node: (u'grip0', u'floor')->(u'goal', u'floor') = fail\n",
      "node: (u'floor', u'floor')->(u'grip1', u'floor') = fail\n",
      "node: (u'floor', u'floor')->(u'grip1', u'floor') = fail\n",
      "node: (u'floor', u'floor')->(u'grip1', u'floor') = fail\n",
      "node: (u'floor', u'floor')->(u'grip1', u'floor') = fail\n",
      "node: (u'floor', u'floor')->(u'grip0', u'floor') = fail\n",
      "node: (u'floor', u'floor')->(u'grip1', u'floor') = fail\n",
      "node: (u'floor', u'floor')->(u'grip1', u'floor') = fail\n",
      "node: (u'floor', u'floor')->(u'grip1', u'floor') = fail\n",
      "node: (u'floor', u'floor')->(u'grip1', u'floor') = fail\n",
      "node: (u'floor', u'floor')->(u'grip1', u'floor') = fail\n",
      "node: (u'floor', u'floor')->(u'grip1', u'floor') = fail\n",
      "node: (u'floor', u'floor')->(u'grip1', u'floor') = fail\n",
      "node: (u'floor', u'floor')->(u'grip1', u'floor') = fail\n",
      "node: (u'floor', u'floor')->(u'grip1', u'floor') = fail\n",
      "node: (u'floor', u'floor')->(u'grip1', u'floor') = success\n",
      "Goal cost:2->1 / Init cost:0->1 / branching: 0->7 (5.16/600.0 s, steps/err: 47(131.120920181 ms)/1.55900723808)\n",
      "======================================================================================================================================================\n",
      "node: (u'grip1', u'floor')->(u'goal', u'floor') = fail\n",
      "node: (u'grip1', u'floor')->(u'goal', u'floor') = fail\n",
      "node: (u'grip1', u'floor')->(u'goal', u'floor') = fail\n",
      "node: (u'grip1', u'floor')->(u'goal', u'floor') = fail\n",
      "node: (u'grip1', u'floor')->(u'goal', u'floor') = fail\n",
      "node: (u'grip1', u'floor')->(u'goal', u'floor') = fail\n",
      "node: (u'grip1', u'floor')->(u'goal', u'floor') = fail\n",
      "node: (u'grip1', u'floor')->(u'goal', u'floor') = fail\n",
      "node: (u'grip1', u'floor')->(u'goal', u'floor') = fail\n",
      "node: (u'grip1', u'floor')->(u'goal', u'floor') = fail\n",
      "node: (u'grip1', u'floor')->(u'goal', u'floor') = fail\n",
      "node: (u'grip1', u'floor')->(u'goal', u'floor') = fail\n",
      "node: (u'grip1', u'floor')->(u'goal', u'floor') = fail\n",
      "node: (u'grip1', u'floor')->(u'goal', u'floor') = fail\n",
      "node: (u'grip1', u'floor')->(u'goal', u'floor') = fail\n",
      "node: (u'grip1', u'floor')->(u'goal', u'floor') = fail\n",
      "node: (u'grip1', u'floor')->(u'goal', u'floor') = fail\n",
      "node: (u'grip1', u'floor')->(u'goal', u'floor') = fail\n",
      "node: (u'grip1', u'floor')->(u'goal', u'floor') = fail\n",
      "node: (u'grip1', u'floor')->(u'goal', u'floor') = fail\n",
      "node: (u'grip1', u'floor')->(u'goal', u'floor') = fail\n",
      "node: (u'grip1', u'floor')->(u'goal', u'floor') = fail\n",
      "node: (u'grip1', u'floor')->(u'goal', u'floor') = fail\n",
      "node: (u'grip1', u'floor')->(u'goal', u'floor') = fail\n",
      "node: (u'grip1', u'floor')->(u'goal', u'floor') = fail\n",
      "node: (u'grip1', u'floor')->(u'goal', u'floor') = fail\n",
      "node: (u'grip1', u'floor')->(u'goal', u'floor') = fail\n",
      "node: (u'grip1', u'floor')->(u'goal', u'floor') = fail\n",
      "node: (u'grip1', u'floor')->(u'goal', u'floor') = fail\n",
      "node: (u'grip1', u'floor')->(u'goal', u'floor') = fail\n",
      "node: (u'floor', u'floor')->(u'grip0', u'floor') = fail\n",
      "node: (u'floor', u'floor')->(u'grip0', u'floor') = fail\n",
      "node: (u'floor', u'floor')->(u'grip0', u'floor') = fail\n",
      "node: (u'floor', u'floor')->(u'grip1', u'floor') = success\n",
      "Goal cost:2->1 / Init cost:0->1 / branching: 0->8 (6.09/600.0 s, steps/err: 17(142.251014709 ms)/0.0188374095427)\n",
      "======================================================================================================================================================\n",
      "node: (u'grip1', u'floor')->(u'goal', u'floor') = fail\n",
      "node: (u'grip1', u'floor')->(u'goal', u'floor') = fail\n",
      "node: (u'grip1', u'floor')->(u'goal', u'floor') = fail\n",
      "node: (u'grip1', u'floor')->(u'goal', u'floor') = fail\n",
      "node: (u'grip1', u'floor')->(u'goal', u'floor') = fail\n",
      "node: (u'grip1', u'floor')->(u'goal', u'floor') = fail\n",
      "node: (u'grip1', u'floor')->(u'goal', u'floor') = fail\n",
      "node: (u'grip1', u'floor')->(u'goal', u'floor') = fail\n",
      "node: (u'grip1', u'floor')->(u'goal', u'floor') = fail\n",
      "node: (u'grip1', u'floor')->(u'goal', u'floor') = fail\n",
      "node: (u'grip1', u'floor')->(u'goal', u'floor') = fail\n",
      "node: (u'grip1', u'floor')->(u'goal', u'floor') = fail\n",
      "node: (u'grip1', u'floor')->(u'goal', u'floor') = fail\n",
      "node: (u'grip1', u'floor')->(u'goal', u'floor') = fail\n",
      "node: (u'grip1', u'floor')->(u'goal', u'floor') = fail\n",
      "node: (u'grip1', u'floor')->(u'goal', u'floor') = fail\n",
      "node: (u'grip1', u'floor')->(u'goal', u'floor') = fail\n",
      "node: (u'grip1', u'floor')->(u'goal', u'floor') = fail\n",
      "node: (u'grip1', u'floor')->(u'goal', u'floor') = fail\n",
      "node: (u'grip1', u'floor')->(u'goal', u'floor') = fail\n",
      "node: (u'grip1', u'floor')->(u'goal', u'floor') = fail\n",
      "node: (u'grip1', u'floor')->(u'goal', u'floor') = fail\n",
      "node: (u'grip1', u'floor')->(u'goal', u'floor') = fail\n",
      "node: (u'grip1', u'floor')->(u'goal', u'floor') = fail\n",
      "node: (u'grip1', u'floor')->(u'goal', u'floor') = fail\n",
      "node: (u'grip1', u'floor')->(u'goal', u'floor') = fail\n",
      "node: (u'grip1', u'floor')->(u'goal', u'floor') = fail\n",
      "node: (u'grip1', u'floor')->(u'goal', u'floor') = fail\n",
      "node: (u'grip1', u'floor')->(u'goal', u'floor') = fail\n",
      "node: (u'grip1', u'floor')->(u'goal', u'floor') = fail\n",
      "node: (u'floor', u'floor')->(u'grip1', u'floor') = fail\n",
      "node: (u'floor', u'floor')->(u'grip1', u'floor') = fail\n",
      "node: (u'floor', u'floor')->(u'grip1', u'floor') = fail\n",
      "node: (u'floor', u'floor')->(u'grip0', u'floor') = fail\n",
      "node: (u'floor', u'floor')->(u'grip1', u'floor') = fail\n"
     ]
    },
    {
     "name": "stdout",
     "output_type": "stream",
     "text": [
      "node: (u'floor', u'floor')->(u'grip1', u'floor') = success\n",
      "Goal cost:2->1 / Init cost:0->1 / branching: 0->9 (7.29/600.0 s, steps/err: 29(118.139982224 ms)/2.34204717618)\n",
      "======================================================================================================================================================\n",
      "node: (u'grip1', u'floor')->(u'goal', u'floor') = fail\n",
      "node: (u'grip1', u'floor')->(u'goal', u'floor') = fail\n",
      "node: (u'grip1', u'floor')->(u'goal', u'floor') = fail\n",
      "node: (u'grip1', u'floor')->(u'goal', u'floor') = fail\n",
      "node: (u'grip1', u'floor')->(u'goal', u'floor') = fail\n",
      "node: (u'grip1', u'floor')->(u'goal', u'floor') = fail\n",
      "node: (u'grip1', u'floor')->(u'goal', u'floor') = fail\n",
      "node: (u'grip1', u'floor')->(u'goal', u'floor') = fail\n",
      "node: (u'grip1', u'floor')->(u'goal', u'floor') = fail\n",
      "node: (u'grip1', u'floor')->(u'goal', u'floor') = fail\n",
      "node: (u'grip1', u'floor')->(u'goal', u'floor') = fail\n",
      "node: (u'grip1', u'floor')->(u'goal', u'floor') = fail\n",
      "node: (u'grip1', u'floor')->(u'goal', u'floor') = fail\n",
      "node: (u'grip1', u'floor')->(u'goal', u'floor') = fail\n",
      "node: (u'grip1', u'floor')->(u'goal', u'floor') = fail\n",
      "node: (u'grip1', u'floor')->(u'goal', u'floor') = fail\n",
      "node: (u'grip1', u'floor')->(u'goal', u'floor') = fail\n",
      "node: (u'grip1', u'floor')->(u'goal', u'floor') = fail\n",
      "node: (u'grip1', u'floor')->(u'goal', u'floor') = fail\n",
      "node: (u'grip1', u'floor')->(u'goal', u'floor') = fail\n",
      "node: (u'grip1', u'floor')->(u'goal', u'floor') = fail\n",
      "node: (u'grip1', u'floor')->(u'goal', u'floor') = fail\n",
      "node: (u'grip1', u'floor')->(u'goal', u'floor') = fail\n",
      "node: (u'grip1', u'floor')->(u'goal', u'floor') = fail\n",
      "node: (u'grip1', u'floor')->(u'goal', u'floor') = fail\n",
      "node: (u'grip1', u'floor')->(u'goal', u'floor') = fail\n",
      "node: (u'grip1', u'floor')->(u'goal', u'floor') = fail\n",
      "node: (u'grip1', u'floor')->(u'goal', u'floor') = fail\n",
      "node: (u'grip1', u'floor')->(u'goal', u'floor') = fail\n",
      "node: (u'grip1', u'floor')->(u'goal', u'floor') = fail\n",
      "node: (u'floor', u'floor')->(u'grip1', u'floor') = success\n",
      "Goal cost:2->1 / Init cost:0->1 / branching: 0->10 (7.85/600.0 s, steps/err: 19(123.827934265 ms)/0.501919619251)\n",
      "======================================================================================================================================================\n",
      "node: (u'grip1', u'floor')->(u'goal', u'floor') = fail\n",
      "node: (u'grip1', u'floor')->(u'goal', u'floor') = fail\n",
      "node: (u'grip1', u'floor')->(u'goal', u'floor') = fail\n",
      "node: (u'grip1', u'floor')->(u'goal', u'floor') = fail\n",
      "node: (u'grip1', u'floor')->(u'goal', u'floor') = fail\n",
      "node: (u'grip1', u'floor')->(u'goal', u'floor') = fail\n",
      "node: (u'grip1', u'floor')->(u'goal', u'floor') = fail\n",
      "node: (u'grip1', u'floor')->(u'goal', u'floor') = fail\n",
      "node: (u'grip1', u'floor')->(u'goal', u'floor') = fail\n",
      "node: (u'grip1', u'floor')->(u'goal', u'floor') = fail\n",
      "node: (u'grip1', u'floor')->(u'goal', u'floor') = fail\n",
      "node: (u'grip1', u'floor')->(u'goal', u'floor') = fail\n",
      "node: (u'grip1', u'floor')->(u'goal', u'floor') = fail\n",
      "node: (u'grip1', u'floor')->(u'goal', u'floor') = fail\n",
      "node: (u'grip1', u'floor')->(u'goal', u'floor') = fail\n",
      "node: (u'grip1', u'floor')->(u'goal', u'floor') = fail\n",
      "node: (u'grip1', u'floor')->(u'goal', u'floor') = fail\n",
      "node: (u'grip1', u'floor')->(u'goal', u'floor') = fail\n",
      "node: (u'grip1', u'floor')->(u'goal', u'floor') = fail\n",
      "node: (u'grip1', u'floor')->(u'goal', u'floor') = fail\n",
      "node: (u'grip1', u'floor')->(u'goal', u'floor') = fail\n",
      "node: (u'grip1', u'floor')->(u'goal', u'floor') = fail\n",
      "node: (u'grip1', u'floor')->(u'goal', u'floor') = fail\n",
      "node: (u'grip1', u'floor')->(u'goal', u'floor') = fail\n",
      "node: (u'grip1', u'floor')->(u'goal', u'floor') = fail\n",
      "node: (u'grip1', u'floor')->(u'goal', u'floor') = fail\n",
      "node: (u'grip1', u'floor')->(u'goal', u'floor') = fail\n",
      "node: (u'grip1', u'floor')->(u'goal', u'floor') = fail\n",
      "node: (u'grip1', u'floor')->(u'goal', u'floor') = fail\n",
      "node: (u'grip1', u'floor')->(u'goal', u'floor') = fail\n",
      "node: (u'floor', u'floor')->(u'grip1', u'floor') = fail\n",
      "node: (u'floor', u'floor')->(u'grip1', u'floor') = success\n",
      "Goal cost:2->1 / Init cost:0->1 / branching: 0->11 (8.45/600.0 s, steps/err: 21(70.0309276581 ms)/2.30245455935)\n",
      "======================================================================================================================================================\n",
      "node: (u'grip1', u'floor')->(u'goal', u'floor') = fail\n",
      "node: (u'grip1', u'floor')->(u'goal', u'floor') = fail\n",
      "node: (u'grip1', u'floor')->(u'goal', u'floor') = fail\n",
      "node: (u'grip1', u'floor')->(u'goal', u'floor') = fail\n",
      "node: (u'grip1', u'floor')->(u'goal', u'floor') = fail\n",
      "node: (u'grip1', u'floor')->(u'goal', u'floor') = fail\n",
      "node: (u'grip1', u'floor')->(u'goal', u'floor') = fail\n",
      "node: (u'grip1', u'floor')->(u'goal', u'floor') = fail\n",
      "node: (u'grip1', u'floor')->(u'goal', u'floor') = fail\n",
      "node: (u'grip1', u'floor')->(u'goal', u'floor') = fail\n",
      "node: (u'grip1', u'floor')->(u'goal', u'floor') = fail\n",
      "node: (u'grip1', u'floor')->(u'goal', u'floor') = fail\n",
      "node: (u'grip1', u'floor')->(u'goal', u'floor') = fail\n",
      "node: (u'grip1', u'floor')->(u'goal', u'floor') = fail\n",
      "node: (u'grip1', u'floor')->(u'goal', u'floor') = fail\n",
      "node: (u'grip1', u'floor')->(u'goal', u'floor') = fail\n",
      "node: (u'grip1', u'floor')->(u'goal', u'floor') = fail\n",
      "node: (u'grip1', u'floor')->(u'goal', u'floor') = fail\n",
      "node: (u'grip1', u'floor')->(u'goal', u'floor') = fail\n",
      "node: (u'grip1', u'floor')->(u'goal', u'floor') = fail\n",
      "node: (u'grip1', u'floor')->(u'goal', u'floor') = fail\n",
      "node: (u'grip1', u'floor')->(u'goal', u'floor') = fail\n",
      "node: (u'grip1', u'floor')->(u'goal', u'floor') = fail\n",
      "node: (u'grip1', u'floor')->(u'goal', u'floor') = fail\n",
      "node: (u'grip1', u'floor')->(u'goal', u'floor') = fail\n",
      "node: (u'grip1', u'floor')->(u'goal', u'floor') = fail\n",
      "node: (u'grip1', u'floor')->(u'goal', u'floor') = fail\n",
      "node: (u'grip1', u'floor')->(u'goal', u'floor') = fail\n",
      "node: (u'grip1', u'floor')->(u'goal', u'floor') = fail\n",
      "node: (u'grip1', u'floor')->(u'goal', u'floor') = fail\n",
      "node: (u'floor', u'floor')->(u'grip1', u'floor') = success\n",
      "Goal cost:2->1 / Init cost:0->1 / branching: 0->12 (8.98/600.0 s, steps/err: 36(143.519878387 ms)/0.216653723517)\n",
      "======================================================================================================================================================\n",
      "node: (u'grip1', u'floor')->(u'goal', u'floor') = fail\n",
      "node: (u'grip1', u'floor')->(u'goal', u'floor') = fail\n",
      "node: (u'grip1', u'floor')->(u'goal', u'floor') = fail\n",
      "node: (u'grip1', u'floor')->(u'goal', u'floor') = fail\n",
      "node: (u'grip1', u'floor')->(u'goal', u'floor') = fail\n",
      "node: (u'grip1', u'floor')->(u'goal', u'floor') = fail\n",
      "node: (u'grip1', u'floor')->(u'goal', u'floor') = fail\n",
      "node: (u'grip1', u'floor')->(u'goal', u'floor') = fail\n",
      "node: (u'grip1', u'floor')->(u'goal', u'floor') = fail\n",
      "node: (u'grip1', u'floor')->(u'goal', u'floor') = fail\n",
      "node: (u'grip1', u'floor')->(u'goal', u'floor') = fail\n",
      "node: (u'grip1', u'floor')->(u'goal', u'floor') = fail\n",
      "node: (u'grip1', u'floor')->(u'goal', u'floor') = fail\n",
      "node: (u'grip1', u'floor')->(u'goal', u'floor') = fail\n",
      "node: (u'grip1', u'floor')->(u'goal', u'floor') = fail\n",
      "node: (u'grip1', u'floor')->(u'goal', u'floor') = fail\n",
      "node: (u'grip1', u'floor')->(u'goal', u'floor') = fail\n",
      "node: (u'grip1', u'floor')->(u'goal', u'floor') = fail\n",
      "node: (u'grip1', u'floor')->(u'goal', u'floor') = fail\n",
      "node: (u'grip1', u'floor')->(u'goal', u'floor') = fail\n",
      "node: (u'grip1', u'floor')->(u'goal', u'floor') = fail\n",
      "node: (u'grip1', u'floor')->(u'goal', u'floor') = fail\n",
      "node: (u'grip1', u'floor')->(u'goal', u'floor') = fail\n",
      "node: (u'grip1', u'floor')->(u'goal', u'floor') = fail\n",
      "node: (u'grip1', u'floor')->(u'goal', u'floor') = fail\n",
      "node: (u'grip1', u'floor')->(u'goal', u'floor') = fail\n",
      "node: (u'grip1', u'floor')->(u'goal', u'floor') = fail\n",
      "node: (u'grip1', u'floor')->(u'goal', u'floor') = fail\n",
      "node: (u'grip1', u'floor')->(u'goal', u'floor') = fail\n",
      "node: (u'grip1', u'floor')->(u'goal', u'floor') = fail\n",
      "node: (u'floor', u'floor')->(u'grip1', u'floor') = success\n",
      "Goal cost:2->1 / Init cost:0->1 / branching: 0->13 (9.42/600.0 s, steps/err: 29(82.6468467712 ms)/1.58007643113)\n",
      "======================================================================================================================================================\n",
      "node: (u'grip1', u'floor')->(u'goal', u'floor') = fail\n",
      "node: (u'grip1', u'floor')->(u'goal', u'floor') = fail\n",
      "node: (u'grip1', u'floor')->(u'goal', u'floor') = fail\n",
      "node: (u'grip1', u'floor')->(u'goal', u'floor') = fail\n",
      "node: (u'grip1', u'floor')->(u'goal', u'floor') = fail\n",
      "node: (u'grip1', u'floor')->(u'goal', u'floor') = fail\n",
      "node: (u'grip1', u'floor')->(u'goal', u'floor') = fail\n",
      "node: (u'grip1', u'floor')->(u'goal', u'floor') = fail\n",
      "node: (u'grip1', u'floor')->(u'goal', u'floor') = fail\n",
      "node: (u'grip1', u'floor')->(u'goal', u'floor') = fail\n",
      "node: (u'grip1', u'floor')->(u'goal', u'floor') = fail\n",
      "node: (u'grip1', u'floor')->(u'goal', u'floor') = fail\n",
      "node: (u'grip1', u'floor')->(u'goal', u'floor') = fail\n",
      "node: (u'grip1', u'floor')->(u'goal', u'floor') = fail\n",
      "node: (u'grip1', u'floor')->(u'goal', u'floor') = fail\n",
      "node: (u'grip1', u'floor')->(u'goal', u'floor') = fail\n"
     ]
    },
    {
     "name": "stdout",
     "output_type": "stream",
     "text": [
      "node: (u'grip1', u'floor')->(u'goal', u'floor') = fail\n",
      "node: (u'grip1', u'floor')->(u'goal', u'floor') = fail\n",
      "node: (u'grip1', u'floor')->(u'goal', u'floor') = fail\n",
      "node: (u'grip1', u'floor')->(u'goal', u'floor') = fail\n",
      "node: (u'grip1', u'floor')->(u'goal', u'floor') = fail\n",
      "node: (u'grip1', u'floor')->(u'goal', u'floor') = fail\n",
      "node: (u'grip1', u'floor')->(u'goal', u'floor') = fail\n",
      "node: (u'grip1', u'floor')->(u'goal', u'floor') = fail\n",
      "node: (u'grip1', u'floor')->(u'goal', u'floor') = fail\n",
      "node: (u'grip1', u'floor')->(u'goal', u'floor') = fail\n",
      "node: (u'grip1', u'floor')->(u'goal', u'floor') = fail\n",
      "node: (u'grip1', u'floor')->(u'goal', u'floor') = fail\n",
      "node: (u'grip1', u'floor')->(u'goal', u'floor') = fail\n",
      "node: (u'grip1', u'floor')->(u'goal', u'floor') = fail\n",
      "node: (u'floor', u'floor')->(u'grip0', u'floor') = fail\n",
      "node: (u'floor', u'floor')->(u'grip0', u'floor') = fail\n",
      "node: (u'floor', u'floor')->(u'grip0', u'floor') = fail\n",
      "node: (u'floor', u'floor')->(u'grip0', u'floor') = fail\n",
      "node: (u'floor', u'floor')->(u'grip0', u'floor') = fail\n",
      "node: (u'floor', u'floor')->(u'grip0', u'floor') = fail\n",
      "node: (u'floor', u'floor')->(u'grip0', u'floor') = fail\n",
      "node: (u'floor', u'floor')->(u'grip0', u'floor') = success\n",
      "Goal cost:2->1 / Init cost:0->1 / branching: 0->14 (10.81/600.0 s, steps/err: 13(26.5688896179 ms)/1.77398834081)\n",
      "======================================================================================================================================================\n",
      "node: (u'grip0', u'floor')->(u'goal', u'floor') = fail\n",
      "node: (u'grip0', u'floor')->(u'goal', u'floor') = fail\n",
      "node: (u'grip0', u'floor')->(u'goal', u'floor') = fail\n",
      "node: (u'grip0', u'floor')->(u'goal', u'floor') = fail\n",
      "node: (u'grip0', u'floor')->(u'goal', u'floor') = fail\n",
      "node: (u'grip0', u'floor')->(u'goal', u'floor') = fail\n",
      "node: (u'grip0', u'floor')->(u'goal', u'floor') = fail\n",
      "node: (u'grip0', u'floor')->(u'goal', u'floor') = fail\n",
      "node: (u'grip0', u'floor')->(u'goal', u'floor') = fail\n",
      "node: (u'grip0', u'floor')->(u'goal', u'floor') = fail\n",
      "node: (u'grip0', u'floor')->(u'goal', u'floor') = fail\n",
      "node: (u'grip0', u'floor')->(u'goal', u'floor') = fail\n",
      "node: (u'grip0', u'floor')->(u'goal', u'floor') = fail\n",
      "node: (u'grip0', u'floor')->(u'goal', u'floor') = fail\n",
      "node: (u'grip0', u'floor')->(u'goal', u'floor') = fail\n",
      "node: (u'grip0', u'floor')->(u'goal', u'floor') = fail\n",
      "node: (u'grip0', u'floor')->(u'goal', u'floor') = fail\n",
      "node: (u'grip0', u'floor')->(u'goal', u'floor') = fail\n",
      "node: (u'grip0', u'floor')->(u'goal', u'floor') = fail\n",
      "node: (u'grip0', u'floor')->(u'goal', u'floor') = fail\n",
      "node: (u'grip0', u'floor')->(u'goal', u'floor') = fail\n",
      "node: (u'grip0', u'floor')->(u'goal', u'floor') = fail\n",
      "node: (u'grip0', u'floor')->(u'goal', u'floor') = fail\n",
      "node: (u'grip0', u'floor')->(u'goal', u'floor') = fail\n",
      "node: (u'grip0', u'floor')->(u'goal', u'floor') = fail\n",
      "node: (u'grip0', u'floor')->(u'goal', u'floor') = fail\n",
      "node: (u'grip0', u'floor')->(u'goal', u'floor') = fail\n",
      "node: (u'grip0', u'floor')->(u'goal', u'floor') = fail\n",
      "node: (u'grip0', u'floor')->(u'goal', u'floor') = fail\n",
      "node: (u'grip0', u'floor')->(u'goal', u'floor') = fail\n",
      "node: (u'floor', u'floor')->(u'grip0', u'floor') = fail\n",
      "node: (u'floor', u'floor')->(u'grip0', u'floor') = fail\n",
      "node: (u'floor', u'floor')->(u'grip0', u'floor') = fail\n",
      "node: (u'floor', u'floor')->(u'grip0', u'floor') = fail\n",
      "node: (u'floor', u'floor')->(u'grip0', u'floor') = fail\n",
      "node: (u'floor', u'floor')->(u'grip0', u'floor') = fail\n",
      "node: (u'floor', u'floor')->(u'grip0', u'floor') = fail\n",
      "node: (u'floor', u'floor')->(u'grip0', u'floor') = success\n",
      "Goal cost:2->1 / Init cost:0->1 / branching: 0->15 (12.21/600.0 s, steps/err: 20(47.7590560913 ms)/2.57319373137)\n",
      "======================================================================================================================================================\n",
      "node: (u'grip0', u'floor')->(u'goal', u'floor') = fail\n",
      "node: (u'grip0', u'floor')->(u'goal', u'floor') = fail\n",
      "node: (u'grip0', u'floor')->(u'goal', u'floor') = fail\n",
      "node: (u'grip0', u'floor')->(u'goal', u'floor') = fail\n",
      "node: (u'grip0', u'floor')->(u'goal', u'floor') = fail\n",
      "node: (u'grip0', u'floor')->(u'goal', u'floor') = fail\n",
      "node: (u'grip0', u'floor')->(u'goal', u'floor') = fail\n",
      "node: (u'grip0', u'floor')->(u'goal', u'floor') = fail\n",
      "node: (u'grip0', u'floor')->(u'goal', u'floor') = fail\n",
      "node: (u'grip0', u'floor')->(u'goal', u'floor') = fail\n",
      "node: (u'grip0', u'floor')->(u'goal', u'floor') = fail\n",
      "node: (u'grip0', u'floor')->(u'goal', u'floor') = fail\n",
      "node: (u'grip0', u'floor')->(u'goal', u'floor') = fail\n",
      "node: (u'grip0', u'floor')->(u'goal', u'floor') = fail\n",
      "node: (u'grip0', u'floor')->(u'goal', u'floor') = fail\n",
      "node: (u'grip0', u'floor')->(u'goal', u'floor') = fail\n",
      "node: (u'grip0', u'floor')->(u'goal', u'floor') = fail\n",
      "node: (u'grip0', u'floor')->(u'goal', u'floor') = fail\n",
      "node: (u'grip0', u'floor')->(u'goal', u'floor') = fail\n",
      "node: (u'grip0', u'floor')->(u'goal', u'floor') = fail\n",
      "node: (u'grip0', u'floor')->(u'goal', u'floor') = fail\n",
      "node: (u'grip0', u'floor')->(u'goal', u'floor') = fail\n",
      "node: (u'grip0', u'floor')->(u'goal', u'floor') = fail\n",
      "node: (u'grip0', u'floor')->(u'goal', u'floor') = fail\n",
      "node: (u'grip0', u'floor')->(u'goal', u'floor') = fail\n",
      "node: (u'grip0', u'floor')->(u'goal', u'floor') = fail\n",
      "node: (u'grip0', u'floor')->(u'goal', u'floor') = fail\n",
      "node: (u'grip0', u'floor')->(u'goal', u'floor') = fail\n",
      "node: (u'grip0', u'floor')->(u'goal', u'floor') = fail\n",
      "node: (u'grip0', u'floor')->(u'goal', u'floor') = fail\n",
      "node: (u'floor', u'floor')->(u'grip0', u'floor') = fail\n",
      "node: (u'floor', u'floor')->(u'grip0', u'floor') = fail\n",
      "node: (u'floor', u'floor')->(u'grip0', u'floor') = success\n",
      "Goal cost:2->1 / Init cost:0->1 / branching: 0->16 (12.98/600.0 s, steps/err: 36(52.7110099792 ms)/1.63446576888)\n",
      "======================================================================================================================================================\n",
      "node: (u'grip0', u'floor')->(u'goal', u'floor') = fail\n",
      "node: (u'grip0', u'floor')->(u'goal', u'floor') = fail\n",
      "node: (u'grip0', u'floor')->(u'goal', u'floor') = fail\n",
      "node: (u'grip0', u'floor')->(u'goal', u'floor') = fail\n",
      "node: (u'grip0', u'floor')->(u'goal', u'floor') = fail\n",
      "node: (u'grip0', u'floor')->(u'goal', u'floor') = fail\n",
      "node: (u'grip0', u'floor')->(u'goal', u'floor') = fail\n",
      "node: (u'grip0', u'floor')->(u'goal', u'floor') = fail\n",
      "node: (u'grip0', u'floor')->(u'goal', u'floor') = fail\n",
      "node: (u'grip0', u'floor')->(u'goal', u'floor') = fail\n",
      "node: (u'grip0', u'floor')->(u'goal', u'floor') = fail\n",
      "node: (u'grip0', u'floor')->(u'goal', u'floor') = fail\n",
      "node: (u'grip0', u'floor')->(u'goal', u'floor') = fail\n",
      "node: (u'grip0', u'floor')->(u'goal', u'floor') = fail\n",
      "node: (u'grip0', u'floor')->(u'goal', u'floor') = fail\n",
      "node: (u'grip0', u'floor')->(u'goal', u'floor') = fail\n",
      "node: (u'grip0', u'floor')->(u'goal', u'floor') = fail\n",
      "node: (u'grip0', u'floor')->(u'goal', u'floor') = fail\n",
      "node: (u'grip0', u'floor')->(u'goal', u'floor') = fail\n",
      "node: (u'grip0', u'floor')->(u'goal', u'floor') = fail\n",
      "node: (u'grip0', u'floor')->(u'goal', u'floor') = fail\n",
      "node: (u'grip0', u'floor')->(u'goal', u'floor') = fail\n",
      "node: (u'grip0', u'floor')->(u'goal', u'floor') = fail\n",
      "node: (u'grip0', u'floor')->(u'goal', u'floor') = fail\n",
      "node: (u'grip0', u'floor')->(u'goal', u'floor') = fail\n",
      "node: (u'grip0', u'floor')->(u'goal', u'floor') = fail\n",
      "node: (u'grip0', u'floor')->(u'goal', u'floor') = fail\n",
      "node: (u'grip0', u'floor')->(u'goal', u'floor') = fail\n",
      "node: (u'grip0', u'floor')->(u'goal', u'floor') = fail\n",
      "node: (u'grip0', u'floor')->(u'goal', u'floor') = fail\n",
      "node: (u'floor', u'floor')->(u'grip0', u'floor') = fail\n",
      "===================== plan dual manipulation =====================\n",
      "node: (u'grip1', u'floor')->(u'grip0', u'floor') = fail\n",
      "===================== plan dual manipulation =====================\n",
      "node: (u'grip1', u'floor')->(u'grip0', u'floor') = fail\n",
      "===================== plan dual manipulation =====================\n",
      "node: (u'grip1', u'floor')->(u'grip0', u'floor') = success\n",
      "Goal cost:1->1 / Init cost:1->1 / branching: 4->17 (16.64/600.0 s, steps/err: 56(796.562194824 ms)/0.00092465172835)\n",
      "======================================================================================================================================================\n",
      "node: (u'grip0', u'floor')->(u'goal', u'floor') = fail\n"
     ]
    },
    {
     "name": "stdout",
     "output_type": "stream",
     "text": [
      "node: (u'grip0', u'floor')->(u'goal', u'floor') = fail\n",
      "node: (u'grip0', u'floor')->(u'goal', u'floor') = fail\n",
      "node: (u'grip0', u'floor')->(u'goal', u'floor') = fail\n",
      "node: (u'grip0', u'floor')->(u'goal', u'floor') = fail\n",
      "node: (u'grip0', u'floor')->(u'goal', u'floor') = fail\n",
      "node: (u'grip0', u'floor')->(u'goal', u'floor') = fail\n",
      "node: (u'grip0', u'floor')->(u'goal', u'floor') = fail\n",
      "node: (u'grip0', u'floor')->(u'goal', u'floor') = fail\n",
      "node: (u'grip0', u'floor')->(u'goal', u'floor') = fail\n",
      "node: (u'grip0', u'floor')->(u'goal', u'floor') = success\n",
      "Goal cost:1->0 / Init cost:1->2 / branching: 17->18 (18.11/600.0 s, steps/err: 33(160.104036331 ms)/0.00168192343236)\n",
      "======================================================================================================================================================\n",
      "=========================================================================================================\n",
      "======================= terminated 0: first answer acquired ===============================\n",
      "=========================================================================================================\n"
     ]
    }
   ],
   "source": [
    "sampler.search_graph(\n",
    "    initial_state = initial_state, goal_nodes = goal_nodes,\n",
    "    tree_margin = 4, depth_margin = 4, \n",
    "    terminate_on_first = True, N_search = 100, multiprocess=False,\n",
    "    display=False, dt_vis=dt_sim/4, verbose = True, print_expression=False, error_skip=0, traj_count=DEFAULT_TRAJ_COUNT,\n",
    "    **dict(N=N_fullstep, dt=dt_sim, vel_conv=0.5e-2, err_conv=1e-3))"
   ]
  },
  {
   "cell_type": "code",
   "execution_count": null,
   "metadata": {},
   "outputs": [],
   "source": []
  },
  {
   "cell_type": "code",
   "execution_count": null,
   "metadata": {},
   "outputs": [],
   "source": []
  },
  {
   "cell_type": "markdown",
   "metadata": {},
   "source": [
    "## Test loaded data"
   ]
  },
  {
   "cell_type": "code",
   "execution_count": 11,
   "metadata": {},
   "outputs": [],
   "source": [
    "GLOBAL_FILENAME = \"global.json\"\n",
    "WORLD_FILENAME = \"world.json\"\n",
    "SCENE_FILENAME = \"scene.json\"\n",
    "DATA_PATH = \"./data\"\n",
    "CONVERTED_PATH = \"./data/converted/\"\n",
    "DATASET_LIST = ['20201214-165211', '20201216-021416', '20201218-024611']\n",
    "data_list = []\n",
    "N_data = 0\n",
    "# ## Load Global params\n",
    "for DATASET in DATASET_LIST:\n",
    "    CURRENT_PATH = os.path.join(DATA_PATH, DATASET)\n",
    "    CURRENT_PATH_CONVERTED = os.path.join(CONVERTED_PATH, DATASET)\n",
    "    # ## Load world\n",
    "    WORLD_LIST = sorted(filter(lambda x: not x.endswith(\".json\"), os.listdir(CURRENT_PATH_CONVERTED)))\n",
    "    for WORLD in WORLD_LIST:\n",
    "            WORLD_PATH = os.path.join(CURRENT_PATH, WORLD)\n",
    "            WORLD_PATH_CONVERTED = os.path.join(CURRENT_PATH_CONVERTED, WORLD)\n",
    "            # ## Load scene\n",
    "            SCENE_LIST = sorted(filter(lambda x: not x.endswith(\".json\"), os.listdir(WORLD_PATH_CONVERTED)))\n",
    "            for SCENE in SCENE_LIST:\n",
    "                SCENE_PATH = os.path.join(WORLD_PATH, SCENE)\n",
    "                SCENE_PATH_CONVERTED = os.path.join(WORLD_PATH_CONVERTED, SCENE)\n",
    "                # ## Load action\n",
    "                ACTION_LIST = sorted(filter(lambda x: x != SCENE_FILENAME, os.listdir(SCENE_PATH)))\n",
    "                for ACTION in ACTION_LIST:\n",
    "                    N_action = len(load_json(os.path.join(SCENE_PATH, ACTION)))\n",
    "                    N_data += N_action\n",
    "                    for i_act in range(N_action):\n",
    "                        data_list.append((DATASET, WORLD, SCENE, ACTION, i_act))"
   ]
  },
  {
   "cell_type": "code",
   "execution_count": 14,
   "metadata": {
    "scrolled": true
   },
   "outputs": [
    {
     "data": {
      "text/plain": [
       "'20201214-165240_000.pkl'"
      ]
     },
     "execution_count": 14,
     "metadata": {},
     "output_type": "execute_result"
    }
   ],
   "source": [
    "ACTION.replace(\".json\",\"_%03d.pkl\"%i_act)"
   ]
  },
  {
   "cell_type": "code",
   "execution_count": 68,
   "metadata": {},
   "outputs": [
    {
     "name": "stdout",
     "output_type": "stream",
     "text": [
      "load: ('./data/converted/', '20201218-024611', 'WORLD-20201218-025631', 'SCENE-20201218-025634')\n"
     ]
    }
   ],
   "source": [
    "DATASET, WORLD, SCENE, ACTION, i_act = random.choice(data_list)\n",
    "scene_data, success, skey = load_scene_data(CONVERTED_PATH, DATASET, WORLD, SCENE, ACTION.replace(\".json\",\"-%03d.pkl\"%i_act), crob.joint_num)"
   ]
  },
  {
   "cell_type": "code",
   "execution_count": 69,
   "metadata": {},
   "outputs": [
    {
     "data": {
      "text/plain": [
       "False"
      ]
     },
     "execution_count": 69,
     "metadata": {},
     "output_type": "execute_result"
    }
   ],
   "source": [
    "success"
   ]
  },
  {
   "cell_type": "code",
   "execution_count": 70,
   "metadata": {},
   "outputs": [],
   "source": [
    "np.copyto(scene_base_data_p, scene_data)"
   ]
  },
  {
   "cell_type": "code",
   "execution_count": 71,
   "metadata": {},
   "outputs": [],
   "source": [
    "WDH_MIN_RBT = (0.75, 0.75, 0.5)\n",
    "WDH_MAX_RBT = (2.25, 2.25, 1.0)\n",
    "H_MEAN = np.mean([WDH_MAX_RBT[2], WDH_MIN_RBT[2]])\n",
    "Nwdh = (15,15,15)\n",
    "L_CELL= 0.2\n",
    "\n",
    "joint_num = crob.joint_num\n",
    "\n",
    "N_vtx_box = 3*8\n",
    "N_mask_box = 1\n",
    "N_joint_box = joint_num\n",
    "N_label_box = N_vtx_box+N_mask_box+N_joint_box\n",
    "N_vtx_cyl = 3*2+1\n",
    "N_mask_cyl = 1\n",
    "N_joint_cyl = joint_num\n",
    "N_label_cyl = N_vtx_cyl+N_mask_cyl+N_joint_cyl\n",
    "N_vtx_init = 3*8\n",
    "N_mask_init = 1\n",
    "N_joint_init = joint_num\n",
    "N_label_init = N_vtx_init+N_mask_init+N_joint_init\n",
    "N_vtx_goal = 3*8\n",
    "N_mask_goal = 1\n",
    "N_joint_goal = joint_num\n",
    "N_label_goal = N_vtx_goal+N_mask_goal+N_joint_goal\n",
    "N_joint_label = 9*joint_num\n",
    "N_cell_label = N_label_box+N_label_cyl+N_label_init+N_label_goal + N_joint_label\n",
    "N_BEGIN_CYL = N_vtx_box+N_mask_box+N_joint_box\n",
    "N_BEGIN_INIT = N_BEGIN_CYL+N_vtx_cyl+N_mask_cyl+N_joint_cyl\n",
    "N_BEGIN_GOAL = N_BEGIN_INIT+N_vtx_init+N_mask_init+N_joint_init"
   ]
  },
  {
   "cell_type": "code",
   "execution_count": 72,
   "metadata": {},
   "outputs": [],
   "source": [
    "centers = get_centers(Nwdh, L_CELL)\n",
    "#centers = get_centers(Nwdh, L_CELL)\n",
    "for idx, center, cell_dat in zip(range(Nwdh[0]*Nwdh[1]*Nwdh[2]), centers.reshape((-1,3)), scene_data.reshape((-1, scene_data.shape[-1]))):\n",
    "    gtem, mask, chain = get_box_diplay(ghnd, \"box_{}\".format(idx), cell_dat, 0, joint_num, center)\n",
    "    if mask:\n",
    "        graph.add_marker(gtem)\n",
    "    gtem, mask, chain = get_cyl_diplay(ghnd, \"cyl_{}\".format(idx), cell_dat, N_BEGIN_CYL, joint_num, center)\n",
    "    if mask:\n",
    "        graph.add_marker(gtem)\n",
    "    gtem, mask, chain = get_box_diplay(ghnd, \"init_{}\".format(idx), cell_dat, N_BEGIN_INIT, joint_num, center, color=(0,0,0,0.8))\n",
    "    if mask:\n",
    "        graph.add_marker(gtem)\n",
    "    gtem, mask, chain = get_box_diplay(ghnd, \"goal_{}\".format(idx), cell_dat, N_BEGIN_GOAL, joint_num, center, color=(0.8,0.8,0.8,0.8))\n",
    "    if mask:\n",
    "        graph.add_marker(gtem)"
   ]
  },
  {
   "cell_type": "code",
   "execution_count": 73,
   "metadata": {},
   "outputs": [],
   "source": [
    "\n",
    "for idx, center, cell_dat in zip(range(Nwdh[0]*Nwdh[1]*Nwdh[2]), centers.reshape((-1,3)), scene_data.reshape((-1, scene_data.shape[-1]))):\n",
    "    gtem, mask, chain = get_box_diplay(ghnd, \"box_{}\".format(idx), cell_dat, 0, joint_num, center)\n",
    "    if mask:\n",
    "        graph.remove_geometry(gtem)\n",
    "    gtem, mask, chain = get_cyl_diplay(ghnd, \"cyl_{}\".format(idx), cell_dat, N_BEGIN_CYL, joint_num, center)\n",
    "    if mask:\n",
    "        graph.remove_geometry(gtem)\n",
    "    gtem, mask, chain = get_box_diplay(ghnd, \"init_{}\".format(idx), cell_dat, N_BEGIN_INIT, joint_num, center, color=(0,0,0,0.8))\n",
    "    if mask:\n",
    "        graph.remove_geometry(gtem)\n",
    "    gtem, mask, chain = get_box_diplay(ghnd, \"goal_{}\".format(idx), cell_dat, N_BEGIN_GOAL, joint_num, center, color=(0,0,0,0.8))\n",
    "    if mask:\n",
    "        graph.remove_geometry(gtem)"
   ]
  },
  {
   "cell_type": "code",
   "execution_count": null,
   "metadata": {},
   "outputs": [],
   "source": []
  },
  {
   "cell_type": "code",
   "execution_count": null,
   "metadata": {},
   "outputs": [],
   "source": []
  },
  {
   "cell_type": "code",
   "execution_count": null,
   "metadata": {},
   "outputs": [],
   "source": []
  }
 ],
 "metadata": {
  "kernelspec": {
   "display_name": "Python 2",
   "language": "python",
   "name": "python2"
  },
  "language_info": {
   "codemirror_mode": {
    "name": "ipython",
    "version": 2
   },
   "file_extension": ".py",
   "mimetype": "text/x-python",
   "name": "python",
   "nbconvert_exporter": "python",
   "pygments_lexer": "ipython2",
   "version": "2.7.17"
  }
 },
 "nbformat": 4,
 "nbformat_minor": 2
}
