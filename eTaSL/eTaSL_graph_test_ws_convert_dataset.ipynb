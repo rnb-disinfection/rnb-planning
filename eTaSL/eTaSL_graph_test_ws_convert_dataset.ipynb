{
 "cells": [
  {
   "cell_type": "markdown",
   "metadata": {},
   "source": [
    "# Prepare robots first  \n",
    "* run panda repeater on controller pc  \n",
    "\n",
    "```\n",
    "ssh panda@192.168.0.172\n",
    "roslaunch panda_ros_repeater joint_velocity_repeater.launch robot_ip:=192.168.0.13 load_gripper:=false\n",
    "\n",
    "```\n",
    "\n",
    "* Keep indy connected to conty to bypass conty-connection delay bug"
   ]
  },
  {
   "cell_type": "code",
   "execution_count": null,
   "metadata": {},
   "outputs": [],
   "source": []
  },
  {
   "cell_type": "markdown",
   "metadata": {},
   "source": [
    "# initialize notebook"
   ]
  },
  {
   "cell_type": "code",
   "execution_count": 1,
   "metadata": {
    "pycharm": {
     "name": "#%%\n"
    },
    "scrolled": true
   },
   "outputs": [
    {
     "data": {
      "text/html": [
       "<style>.container { width:90% !important; } </style>"
      ],
      "text/plain": [
       "<IPython.core.display.HTML object>"
      ]
     },
     "metadata": {},
     "output_type": "display_data"
    }
   ],
   "source": [
    "from __future__ import print_function\n",
    "from IPython.core.display import display, HTML\n",
    "display(HTML(\"<style>.container { width:90% !important; } </style>\"))\n",
    "import matplotlib.pyplot as plt"
   ]
  },
  {
   "cell_type": "code",
   "execution_count": null,
   "metadata": {},
   "outputs": [],
   "source": []
  },
  {
   "cell_type": "markdown",
   "metadata": {},
   "source": [
    "# Initialize constants"
   ]
  },
  {
   "cell_type": "code",
   "execution_count": 2,
   "metadata": {
    "scrolled": false
   },
   "outputs": [
    {
     "name": "stdout",
     "output_type": "stream",
     "text": [
      "connection_list\n",
      "(False, False)\n"
     ]
    }
   ],
   "source": [
    "from pkg.marker_config import *\n",
    "from pkg.constraint_graph import *\n",
    "from pkg.constraint.constraint_action import *\n",
    "from pkg.constraint.constraint_object import *\n",
    "from pkg.constants import *\n",
    "from pkg.utils.plot_utils import *\n",
    "from pkg.utils.utils import *\n",
    "from pkg.environment_builder import *\n",
    "from pkg.ui.ui_broker import *\n",
    "from pkg.controller.combined_robot import *\n",
    "\n",
    "gtimer = GlobalTimer.instance()\n",
    "gtimer.reset()\n",
    "\n",
    "USE_CAM = False\n",
    "VISUALIZE = True\n",
    "crob = CombinedRobot(connection_list=(False, False))"
   ]
  },
  {
   "cell_type": "code",
   "execution_count": 3,
   "metadata": {},
   "outputs": [],
   "source": [
    "WDH_MIN_RBT = (0.75, 0.75, 0.5)\n",
    "WDH_MAX_RBT = (2.25, 2.25, 1.0)\n",
    "H_MEAN = np.mean([WDH_MAX_RBT[2], WDH_MIN_RBT[2]])\n",
    "Nwdh = (15,15,15)\n",
    "L_CELL= 0.2\n",
    "\n",
    "joint_num = crob.joint_num\n",
    "\n",
    "N_vtx_box = 3*8\n",
    "N_mask_box = 1\n",
    "N_joint_box = joint_num\n",
    "N_label_box = N_vtx_box+N_mask_box+N_joint_box\n",
    "N_vtx_cyl = 3*2+1\n",
    "N_mask_cyl = 1\n",
    "N_joint_cyl = joint_num\n",
    "N_label_cyl = N_vtx_cyl+N_mask_cyl+N_joint_cyl\n",
    "N_vtx_init = 3*8\n",
    "N_mask_init = 1\n",
    "N_joint_init = joint_num\n",
    "N_label_init = N_vtx_init+N_mask_init+N_joint_init\n",
    "N_vtx_goal = 3*8\n",
    "N_mask_goal = 1\n",
    "N_joint_goal = joint_num\n",
    "N_label_goal = N_vtx_goal+N_mask_goal+N_joint_goal\n",
    "N_joint_label = 9*joint_num\n",
    "N_cell_label = N_label_box+N_label_cyl+N_label_init+N_label_goal + N_joint_label\n",
    "N_BEGIN_CYL = N_vtx_box+N_mask_box+N_joint_box\n",
    "N_BEGIN_INIT = N_BEGIN_CYL+N_vtx_cyl+N_mask_cyl+N_joint_cyl\n",
    "N_BEGIN_GOAL = N_BEGIN_INIT+N_vtx_init+N_mask_init+N_joint_init"
   ]
  },
  {
   "cell_type": "code",
   "execution_count": null,
   "metadata": {},
   "outputs": [],
   "source": []
  },
  {
   "cell_type": "markdown",
   "metadata": {},
   "source": [
    "# initialize graph & ui"
   ]
  },
  {
   "cell_type": "code",
   "execution_count": 4,
   "metadata": {
    "scrolled": true
   },
   "outputs": [
    {
     "name": "stdout",
     "output_type": "stream",
     "text": [
      "Unable to register with master node [http://localhost:11311]: master may not be running yet. Will keep trying.\n"
     ]
    },
    {
     "name": "stderr",
     "output_type": "stream",
     "text": [
      "Unknown tag \"hardwareInterface\" in /robot[@name='custom_robots']/transmission[@name='indy0_tran0']/actuator[@name='indy0_motor0']\n",
      "Unknown tag \"hardwareInterface\" in /robot[@name='custom_robots']/transmission[@name='indy0_tran1']/actuator[@name='indy0_motor1']\n",
      "Unknown tag \"hardwareInterface\" in /robot[@name='custom_robots']/transmission[@name='indy0_tran2']/actuator[@name='indy0_motor2']\n",
      "Unknown tag \"hardwareInterface\" in /robot[@name='custom_robots']/transmission[@name='indy0_tran3']/actuator[@name='indy0_motor3']\n",
      "Unknown tag \"hardwareInterface\" in /robot[@name='custom_robots']/transmission[@name='indy0_tran4']/actuator[@name='indy0_motor4']\n",
      "Unknown tag \"hardwareInterface\" in /robot[@name='custom_robots']/transmission[@name='indy0_tran5']/actuator[@name='indy0_motor5']\n"
     ]
    },
    {
     "name": "stdout",
     "output_type": "stream",
     "text": [
      "Please create a subscriber to the marker\n",
      "publication OK\n",
      "published: [0, 0, 0, 0, 0, 0, 0, 0, 0, 0, 0, 0, 0]\n",
      "Please create a subscriber to the marker\n",
      "Dash is running on http://127.0.0.1:8050/\n",
      "\n",
      " * Serving Flask app \"pkg.ui.dash_launcher\" (lazy loading)\n",
      " * Environment: production\n",
      "   WARNING: This is a development server. Do not use it in a production deployment.\n",
      "   Use a production WSGI server instead.\n",
      " * Debug mode: off\n"
     ]
    }
   ],
   "source": [
    "if \"cam\" not in locals():\n",
    "    \n",
    "    cam = StereoCamera.instance() if USE_CAM else None\n",
    "\n",
    "# set urdf\n",
    "xcustom, JOINT_NAMES, LINK_NAMES, urdf_content = set_custom_robots(crob.robots_on_scene, XYZ_RPY_ROBOTS_DEFAULT, crob.custom_limits, start_rviz=True)\n",
    "ghnd = GeometryHandle(urdf_content)\n",
    "\n",
    "\n",
    "graph = ConstraintGraph(ghnd=ghnd, urdf_path=URDF_PATH, joint_names=JOINT_NAMES, link_names=LINK_NAMES, \n",
    "                        urdf_content=urdf_content, combined_robot=crob)\n",
    "graph.set_camera(cam)\n",
    "graph.set_cam_robot_collision(_add_cam_poles=USE_CAM)\n",
    "graph.set_rviz()\n",
    "\n",
    "# start UI\n",
    "ui_broker = UIBroker.instance()\n",
    "ui_broker.initialize(graph)\n",
    "ui_broker.start_server()\n",
    "\n",
    "# set rviz\n",
    "graph.set_rviz(crob.home_pose)\n",
    "ui_broker.set_tables()"
   ]
  },
  {
   "cell_type": "code",
   "execution_count": 5,
   "metadata": {},
   "outputs": [
    {
     "data": {
      "text/plain": [
       "1"
      ]
     },
     "execution_count": 5,
     "metadata": {},
     "output_type": "execute_result"
    }
   ],
   "source": [
    "1"
   ]
  },
  {
   "cell_type": "markdown",
   "metadata": {},
   "source": [
    "# Prepare shm, functions"
   ]
  },
  {
   "cell_type": "code",
   "execution_count": 6,
   "metadata": {},
   "outputs": [],
   "source": [
    "import numpy as np\n",
    "import SharedArray as sa\n",
    "\n",
    "# Attach it as a different array. This can be done from another\n",
    "# python interpreter as long as it runs on the same computer.\n",
    "scene_base_data_p = sa.attach(\"shm://scene_base_data\")\n",
    "scene_base_batch_p = sa.attach(\"shm://scene_base_batch\")\n",
    "cell_init_p = sa.attach(\"shm://cell_init\")\n",
    "verts_init_p = sa.attach(\"shm://verts_init\")\n",
    "chain_init_p = sa.attach(\"shm://chain_init\")\n",
    "cell_goal_p = sa.attach(\"shm://cell_goal\")\n",
    "verts_goal_p = sa.attach(\"shm://verts_goal\")\n",
    "chain_goal_p = sa.attach(\"shm://chain_goal\")\n",
    "result_p = sa.attach(\"shm://result\")\n",
    "data_sent_p = sa.attach(\"shm://data_sent\")\n",
    "result_sent_p = sa.attach(\"shm://result_sent\")"
   ]
  },
  {
   "cell_type": "code",
   "execution_count": 7,
   "metadata": {},
   "outputs": [],
   "source": [
    " def get_action_boxes(graph, from_state, to_state, redundancy_dict, mplan=None, L_CELL=0.2, Nwdh=(15,15,15), BASE_LINK='base_link', center_height=0.75):\n",
    "    if mplan is None:\n",
    "        mplan = graph.planner\n",
    "    graph.set_object_state(from_state)\n",
    "    binding_list = graph.get_slack_bindings(from_state, to_state)\n",
    "    obj_name, ap_name, binder_name = binding_list[0]\n",
    "    redundancy = redundancy_dict[obj_name] if redundancy_dict else None\n",
    "    self, group_name_handle, group_name_binder = mplan, None, None\n",
    "    binder = self.binder_dict[binder_name]\n",
    "    obj = self.object_dict[obj_name]\n",
    "    handle = obj.action_points_dict[ap_name]\n",
    "    point_add, rpy_add = calc_redundancy(redundancy, binder)\n",
    "    T_handle = handle.Toff_lh\n",
    "    T_binder = np.matmul(binder.Toff_lh, SE3(Rot_rpy(rpy_add), point_add))\n",
    "    if len(self.planner.group_names)==1:\n",
    "        group_name_handle = self.planner.group_names if handle.object.link_name in self.urdf_content.parent_map else []\n",
    "        group_name_binder = self.planner.group_names if binder.object.link_name in self.urdf_content.parent_map else []\n",
    "    else:\n",
    "        group_name_handle = group_name_handle or [gname for gname in self.planner.group_names if gname in handle.object.link_name]\n",
    "        group_name_binder = group_name_binder or [gname for gname in self.planner.group_names if gname in binder.object.link_name]\n",
    "\n",
    "    if group_name_binder and not group_name_handle:\n",
    "        group_name = group_name_binder[0]\n",
    "        tool, T_tool = binder, T_binder\n",
    "        target, T_tar = handle, T_handle\n",
    "    elif group_name_handle and not group_name_binder:\n",
    "        group_name = group_name_handle[0]\n",
    "        tool, T_tool = handle, T_handle\n",
    "        target, T_tar = binder, T_binder\n",
    "    else:\n",
    "        print(binder.name, obj.object.name)\n",
    "        print(group_name_binder, group_name_handle)\n",
    "        print(\"uncontrollable binding\")\n",
    "        raise(RuntimeError(\"uncontrollable binding\"))\n",
    "    #     return [], [0]*self.planner.joint_num, None, False\n",
    "\n",
    "    T_tar_tool = np.matmul(T_tar, SE3_inv(T_tool))\n",
    "    goal_pose = tuple(T_tar_tool[:3,3]) \\\n",
    "                +tuple(Rotation.from_dcm(T_tar_tool[:3,:3]).as_quat())\n",
    "\n",
    "    CENTER_OFFSET = tuple(np.multiply(Nwdh[:2], L_CELL) / 2)+(center_height,)\n",
    "    T_ho = SE3_inv(target.Toff_oh)\n",
    "    T_tar_o = np.matmul(get_tf(target.object.link_name, Q_dict, self.urdf_content), np.matmul(T_tar, T_ho))\n",
    "    T_tool_o = np.matmul(get_tf(tool.object.link_name, Q_dict, self.urdf_content), np.matmul(T_tool, T_ho))\n",
    "\n",
    "    T_tar_o[:3,3]+= CENTER_OFFSET\n",
    "    T_tool_o[:3,3]+= CENTER_OFFSET\n",
    "\n",
    "    cell_init, verts_init = get_cell_verts(GEOTYPE.BOX, T_tool_o, obj.object.dims, L_CELL, Nwdh)\n",
    "    chain_init = chain_dict[tool.object.link_name]\n",
    "    cell_goal, verts_goal = get_cell_verts(GEOTYPE.BOX, T_tar_o, obj.object.dims, L_CELL, Nwdh)\n",
    "    chain_goal = chain_dict[target.object.link_name]\n",
    "    return cell_init, verts_init, chain_init, cell_goal, verts_goal, chain_goal"
   ]
  },
  {
   "cell_type": "code",
   "execution_count": null,
   "metadata": {},
   "outputs": [],
   "source": []
  },
  {
   "cell_type": "markdown",
   "metadata": {},
   "source": [
    "# Test loaded data"
   ]
  },
  {
   "cell_type": "markdown",
   "metadata": {},
   "source": [
    "## get list"
   ]
  },
  {
   "cell_type": "code",
   "execution_count": 10,
   "metadata": {},
   "outputs": [],
   "source": [
    "GLOBAL_FILENAME = \"global.json\"\n",
    "WORLD_FILENAME = \"world.json\"\n",
    "SCENE_FILENAME = \"scene.json\"\n",
    "DATA_PATH = \"./data\"\n",
    "CONVERTED_PATH = \"./data/converted/\"\n",
    "DATASET_LIST = ['20201214-165211', '20201216-021416', '20201218-024611']\n",
    "data_list = []\n",
    "N_data = 0\n",
    "# ## Load Global params\n",
    "for DATASET in DATASET_LIST:\n",
    "    CURRENT_PATH = os.path.join(DATA_PATH, DATASET)\n",
    "    CURRENT_PATH_CONVERTED = os.path.join(CONVERTED_PATH, DATASET)\n",
    "    # ## Load world\n",
    "    WORLD_LIST = sorted(filter(lambda x: not x.endswith(\".json\"), os.listdir(CURRENT_PATH_CONVERTED)))\n",
    "    for WORLD in WORLD_LIST:\n",
    "            WORLD_PATH = os.path.join(CURRENT_PATH, WORLD)\n",
    "            WORLD_PATH_CONVERTED = os.path.join(CURRENT_PATH_CONVERTED, WORLD)\n",
    "            # ## Load scene\n",
    "            SCENE_LIST = sorted(filter(lambda x: not x.endswith(\".json\"), os.listdir(WORLD_PATH_CONVERTED)))\n",
    "            for SCENE in SCENE_LIST:\n",
    "                SCENE_PATH = os.path.join(WORLD_PATH, SCENE)\n",
    "                SCENE_PATH_CONVERTED = os.path.join(WORLD_PATH_CONVERTED, SCENE)\n",
    "                # ## Load action\n",
    "                ACTION_LIST = sorted(filter(lambda x: x != SCENE_FILENAME, os.listdir(SCENE_PATH)))\n",
    "                for ACTION in ACTION_LIST:\n",
    "                    N_action = len(load_json(os.path.join(SCENE_PATH, ACTION)))\n",
    "                    N_data += N_action\n",
    "                    for i_act in range(N_action):\n",
    "                        data_list.append((DATASET, WORLD, SCENE, ACTION, i_act))"
   ]
  },
  {
   "cell_type": "code",
   "execution_count": null,
   "metadata": {},
   "outputs": [],
   "source": []
  },
  {
   "cell_type": "markdown",
   "metadata": {},
   "source": [
    "## get data"
   ]
  },
  {
   "cell_type": "markdown",
   "metadata": {},
   "source": [
    "```\n",
    "DATASET, WORLD, SCENE, ACTION, i_act = ('20201214-165211',\n",
    " 'WORLD-20201214-180946',\n",
    " 'SCENE-20201214-180948',\n",
    " '20201214-181012.json',\n",
    " 1)\n",
    "```"
   ]
  },
  {
   "cell_type": "code",
   "execution_count": 11,
   "metadata": {},
   "outputs": [
    {
     "name": "stdout",
     "output_type": "stream",
     "text": [
      "load: ('./data/converted/', '20201218-024611', 'WORLD-20201218-041907', 'SCENE-20201218-041909')\n",
      "False\n"
     ]
    }
   ],
   "source": [
    "DATASET, WORLD, SCENE, ACTION, i_act = random.choice(data_list)\n",
    "# DATASET, WORLD, SCENE, ACTION, i_act = ('20201214-165211',  'WORLD-20201214-180946',  'SCENE-20201214-180948',  '20201214-181012.json', 1)\n",
    "# DATASET, WORLD, SCENE, ACTION, i_act = ('./data/converted/', '20201216-021416', 'WORLD-20201216-052332', 'SCENE-20201216-052334')\n",
    "\n",
    "scene_data, success, skey = load_scene_data(CONVERTED_PATH, DATASET, WORLD, SCENE, ACTION.replace(\".json\",\"-%03d.pkl\"%i_act), crob.joint_num)\n",
    "print(success)\n",
    "\n",
    "## send data scene\n",
    "np.copyto(scene_base_data_p, scene_data)"
   ]
  },
  {
   "cell_type": "code",
   "execution_count": 12,
   "metadata": {},
   "outputs": [
    {
     "name": "stdout",
     "output_type": "stream",
     "text": [
      "scene size: 3375 (15,15,15)\n"
     ]
    },
    {
     "name": "stderr",
     "output_type": "stream",
     "text": [
      "Unknown tag \"hardwareInterface\" in /robot[@name='custom_robots']/transmission[@name='indy0_tran0']/actuator[@name='indy0_motor0']\n",
      "Unknown tag \"hardwareInterface\" in /robot[@name='custom_robots']/transmission[@name='indy0_tran1']/actuator[@name='indy0_motor1']\n",
      "Unknown tag \"hardwareInterface\" in /robot[@name='custom_robots']/transmission[@name='indy0_tran2']/actuator[@name='indy0_motor2']\n",
      "Unknown tag \"hardwareInterface\" in /robot[@name='custom_robots']/transmission[@name='indy0_tran3']/actuator[@name='indy0_motor3']\n",
      "Unknown tag \"hardwareInterface\" in /robot[@name='custom_robots']/transmission[@name='indy0_tran4']/actuator[@name='indy0_motor4']\n",
      "Unknown tag \"hardwareInterface\" in /robot[@name='custom_robots']/transmission[@name='indy0_tran5']/actuator[@name='indy0_motor5']\n"
     ]
    },
    {
     "name": "stdout",
     "output_type": "stream",
     "text": [
      "publication OK\n",
      "published: [0, 0, 0, 0, 0, 0, 0, 0, 0, 0, 0, 0, 0]\n",
      "[BEGIN] 20201218-024611 - WORLD-20201218-041907 - SCENE-20201218-041909 - 20201218-041946.json ===============\n",
      "ignore BOX_14_7_5 out of workspace1218-041907 - SCENE-20201218-041909 - 20201218-041946.json - 12 = False / False (0/1)\n",
      "ignore BOX_14_10_2 out of workspace\n",
      "ignore BOX_14_10_4 out of workspace\n",
      "['BOX_8_3_4', 'CYLINDER_5_3_7', 'BOX_3_3_10', 'BOX_3_7_3', 'BOX_1_13_5', 'indy0_link5_Cylinder_0', 'BOX_0_8_0', 'panda1_leftfinger_Cylinder_0', 'CYLINDER_11_12_5', 'CYLINDER_8_8_3', 'CYLINDER_12_9_5', 'panda1_link5_Cylinder_0', 'panda1_link5_Cylinder_1', 'panda1_hand_Cylinder_0', 'CYLINDER_11_4_1', 'CYLINDER_3_4_3', 'BOX_4_11_11', 'BOX_7_12_3', 'CYLINDER_13_5_4', 'CYLINDER_5_10_7', 'BOX_5_11_10', 'panda1_rightfinger_Cylinder_0', 'BOX_9_3_6', 'CYLINDER_10_4_8', 'CYLINDER_5_7_4', 'panda1_link2_Cylinder_0', 'BOX_10_10_6', 'indy0_tcp_Cylinder_2_3', 'CYLINDER_9_14_3', 'BOX_12_11_6', 'indy0_tcp_Cylinder_0_1', 'BOX_12_11_5', 'CYLINDER_1_1_6', 'CYLINDER_8_7_10', 'indy0_link2_Cylinder_1', 'BOX_13_11_9', 'BOX_12_6_6', 'panda1_link6_Cylinder_1', 'panda1_link6_Cylinder_0', 'CYLINDER_2_4_5', 'panda1_link6_Cylinder_2', 'panda1_link3_Cylinder_0', 'CYLINDER_3_1_5', 'BOX_10_14_2', 'CYLINDER_7_13_9', 'CYLINDER_0_12_8', 'CYLINDER_2_12_11', 'CYLINDER_6_5_10', 'indy0_link2_Cylinder_0_000', 'indy0_link2_Cylinder_0_001', 'BOX_13_9_3', 'CYLINDER_6_8_10', 'CYLINDER_4_10_12', 'BOX_0_12_1', 'BOX_2_9_2', 'indy0_link6_Cylinder_0', 'panda1_link1_Cylinder_0', 'BOX_6_11_3', 'BOX_1_6_5', 'BOX_13_5_1', 'BOX_4_6_3', 'CYLINDER_5_8_7', 'CYLINDER_2_7_11', 'CYLINDER_4_7_2', 'BOX_14_12_2', 'panda1_link0_Cylinder_1', 'panda1_link0_Cylinder_0', 'CYLINDER_1_12_3', 'CYLINDER_13_8_4', 'CYLINDER_7_14_8', 'BOX_5_14_9', 'BOX_10_13_2', 'CYLINDER_4_6_0', 'indy0_link1_Cylinder_0', 'CYLINDER_9_6_7', 'CYLINDER_9_6_1', 'BOX_9_13_1', 'CYLINDER_9_11_2', 'BOX_12_8_11', 'CYLINDER_0_10_9', 'BOX_2_4_4', 'indy0_link3_Cylinder_0', 'BOX_0_13_4', 'indy0_link0_Cylinder_0', 'panda1_link4_Cylinder_0', 'BOX_9_10_3', 'BOX_0_9_4', 'BOX_0_13_5', 'BOX_5_5_9', 'CYLINDER_6_10_2', 'CYLINDER_12_12_2', 'BOX_5_3_3', u'inhand', 'CYLINDER_0_3_1', 'indy0_link4_Cylinder_0', 'CYLINDER_0_11_6', 'CYLINDER_7_12_7', 'CYLINDER_7_4_2', 'BOX_10_5_0', 'CYLINDER_4_6_12', 'BOX_0_4_7', 'CYLINDER_8_14_5', 'CYLINDER_8_14_1', 'BOX_10_9_9', 'CYLINDER_5_11_5', 'CYLINDER_7_6_1', 'CYLINDER_3_9_8', 'CYLINDER_13_14_3', 'BOX_11_7_5', 'CYLINDER_9_5_1', 'BOX_1_9_10']\n"
     ]
    }
   ],
   "source": [
    "TEST_OFFSET_X_LIST = [0]\n",
    "N_test = len(TEST_OFFSET_X_LIST)\n",
    "TEST_OFFSET_RES_LIST = []\n",
    "for i_test, TEST_OFFSET_X in enumerate(TEST_OFFSET_X_LIST):\n",
    "    SAMPLED_DATA = defaultdict(dict)\n",
    "    MODEL_OFFSET_TEST = (1.5,1.5,0.75)\n",
    "\n",
    "    #  GLOBAL\n",
    "    CURRENT_PATH = os.path.join(DATA_PATH, DATASET)\n",
    "\n",
    "    ## Load global params\n",
    "    GLOBAL_PARAMS = load_json(os.path.join(CURRENT_PATH, GLOBAL_FILENAME))\n",
    "    WDH = GLOBAL_PARAMS[\"WDH\"]\n",
    "    L_CELL = GLOBAL_PARAMS[\"L_CELL\"]\n",
    "    RATIO_DIMS = GLOBAL_PARAMS[\"RATIO_DIMS\"]\n",
    "    REACH_OFFSET_DICT = GLOBAL_PARAMS[\"REACH_OFFSET_DICT\"]\n",
    "    GRIPPER_REFS = GLOBAL_PARAMS[\"GRIPPER_REFS\"]\n",
    "    BASE_LINK = GLOBAL_PARAMS[\"BASE_LINK\"]\n",
    "    S_F_RATIO = GLOBAL_PARAMS[\"S_F_RATIO\"]\n",
    "    TIMEOUT = GLOBAL_PARAMS[\"TIMEOUT\"]\n",
    "\n",
    "    CENTER = tuple(np.divide(WDH, 2, dtype=np.float))\n",
    "    Ws, Ds, Hs = WDH\n",
    "    Nw, Nd, Nh = Nwdh = int(Ws / L_CELL), int(Ds / L_CELL), int(Hs / L_CELL)\n",
    "    L_MAX = L_CELL * RATIO_DIMS\n",
    "    print(\"scene size: {} ({},{},{})\".format(Nw * Nd * Nh, Nw, Nd, Nh))\n",
    "\n",
    "    # WORLD\n",
    "    WORLD_PATH = os.path.join(CURRENT_PATH, WORLD)\n",
    "    SAMPLED_DATA[\"WORLD\"] = load_json(os.path.join(WORLD_PATH, WORLD_FILENAME))\n",
    "    Trbt_dict = SAMPLED_DATA[\"WORLD\"][\"Trbt_dict\"]\n",
    "    for rkey in Trbt_dict:\n",
    "        Trbt_dict[rkey][0] = np.subtract(Trbt_dict[rkey][0], MODEL_OFFSET_TEST)\n",
    "    reach_center_dict = {k: tuple(np.add(v[0], REACH_OFFSET_DICT[k])) for k, v in Trbt_dict.items()}\n",
    "\n",
    "    cam = None\n",
    "    # set urdf\n",
    "    xcustom, JOINT_NAMES, LINK_NAMES, urdf_content = set_custom_robots(crob.robots_on_scene, Trbt_dict,\n",
    "                                                                       crob.custom_limits, start_rviz=VISUALIZE)\n",
    "    ghnd = GeometryHandle(urdf_content)\n",
    "    if VISUALIZE: time.sleep(2)\n",
    "\n",
    "    # set graph\n",
    "    graph = ConstraintGraph(ghnd=ghnd, urdf_path=URDF_PATH, joint_names=JOINT_NAMES, link_names=LINK_NAMES,\n",
    "                            urdf_content=urdf_content, combined_robot=crob)\n",
    "    graph.set_camera(cam)\n",
    "    graph.set_cam_robot_collision(_add_cam_poles=False, color=(1, 1, 0, 0.3))\n",
    "    if VISUALIZE: graph.set_rviz()\n",
    "\n",
    "    # start UI\n",
    "    ui_broker = UIBroker.instance()\n",
    "    ui_broker.initialize(graph)\n",
    "    ui_broker.start_server()\n",
    "\n",
    "    # set rviz\n",
    "    if VISUALIZE: graph.set_rviz(crob.home_pose)\n",
    "    ui_broker.set_tables()\n",
    "\n",
    "    for gripper in GRIPPER_REFS.values():\n",
    "        graph.register_binder(name=gripper['bname'], _type=FramedTool, point=gripper['tcp_ref'], rpy=[0, 0, 0],\n",
    "                              link_name=gripper['link_name'])\n",
    "    graph.register_binder(name='base', _type=PlaceFrame, point=[0, 0, 0], rpy=[0, 0, 0], link_name=BASE_LINK)\n",
    "    vtem = graph.ghnd.create_safe(name=\"virtual\", gtype=GEOTYPE.SPHERE, link_name=BASE_LINK,\n",
    "                                  dims=(0, 0, 0), center=(0, 0, 0), rpy=(0, 0, 0), collision=False, display=False\n",
    "                                  )\n",
    "    graph.add_object(\"virtual\",\n",
    "                     SingleHandleObject(_object=vtem,\n",
    "                                        action_point=FramePoint(name=\"point\", _object=vtem, point=(0, 0, 0),\n",
    "                                                                rpy=(0, 0, 0), name_full=None)),\n",
    "                     binding=(\"point\", \"base\"))\n",
    "\n",
    "    obj_list = []\n",
    "    col_obj_list = []\n",
    "\n",
    "    # SCENE\n",
    "    SCENE_PATH = os.path.join(WORLD_PATH, SCENE)\n",
    "    SAMPLED_DATA[\"SCENE\"] = load_json(os.path.join(SCENE_PATH, SCENE_FILENAME))\n",
    "    Q_s = np.array(SAMPLED_DATA[\"SCENE\"][\"Q_s\"])\n",
    "    Q_s, links, link_verts, link_ctems, link_rads = sample_joint(graph, Q_s_loaded=Q_s)\n",
    "    Q_s_dict = SAMPLED_DATA[\"SCENE\"][\"Q_s_dict\"]\n",
    "    obj_dat = SAMPLED_DATA[\"SCENE\"][\"obj_dat\"]\n",
    "\n",
    "    if VISUALIZE:\n",
    "        graph.show_pose(Q_s)\n",
    "        time.sleep(1)\n",
    "        graph.show_pose(Q_s)\n",
    "        time.sleep(1)\n",
    "        graph.show_pose(Q_s)\n",
    "    for obj in obj_list: graph.remove_geometry(obj)\n",
    "    for odat in obj_dat:\n",
    "        nbox, gtype, dims, color, center, rpy = odat[\"nbox\"], getattr(GEOTYPE, odat[\"gtype\"]), odat[\"dims\"], \\\n",
    "                                                odat[\"color\"], odat[\"center\"], odat[\"rpy\"]\n",
    "        center = np.subtract(center, MODEL_OFFSET_TEST)\n",
    "        obj = graph.ghnd.create_safe(\n",
    "            name=\"{}_{}_{}_{}\".format(gtype.name, *nbox), link_name=BASE_LINK, gtype=gtype,\n",
    "            center=center, rpy=rpy, dims=dims, color=color, display=True, collision=True, fixed=True)\n",
    "        obj_list.append(obj)\n",
    "        graph.add_marker(obj, vis=VISUALIZE)\n",
    "\n",
    "    for obj in col_obj_list: graph.remove_geometry(obj)\n",
    "\n",
    "    if VISUALIZE: graph.set_rviz()\n",
    "    dcol = DataCollector(graph, GRIPPER_REFS, S_F_RATIO=S_F_RATIO)\n",
    "    if VISUALIZE: graph.set_rviz()\n",
    "\n",
    "    # ACTION\n",
    "    print(\"[BEGIN] {} - {} - {} - {} ===============\".format(DATASET, WORLD, SCENE, ACTION))\n",
    "    snode_dict_bak = {int(k): v for k, v in load_json(os.path.join(SCENE_PATH, ACTION)).items()}\n",
    "    dcol.snode_dict = dcol.manager.dict()\n",
    "    for k, v in snode_dict_bak.items():\n",
    "        dcol.snode_dict[k] = deepcopy(v)\n",
    "    snode_keys = sorted(snode_dict_bak.keys())\n",
    "\n",
    "    if i_act not in snode_keys:\n",
    "        raise(RuntimeError(\"i_act not in snode_keys\"))\n",
    "\n",
    "    # snode\n",
    "    snode = dcol.snode_dict[i_act]\n",
    "    rname, inhand, obj, tar, dims_bak, color_bak, succ, _ = load_manipulation_from_dict(snode,\n",
    "                                                                                        graph.ghnd)\n",
    "    for gtem in [inhand, obj]:\n",
    "        if gtem.link_name == BASE_LINK:\n",
    "            gtem.set_offset_tf(center=np.subtract(gtem.center, MODEL_OFFSET_TEST))\n",
    "            gtem.set_offset_tf(center=np.subtract(gtem.center, (TEST_OFFSET_X,0,0)))\n",
    "\n",
    "    # action type\n",
    "    if rname and tar:  # handover case\n",
    "        action_type = \"HANDOVER\"\n",
    "    elif inhand.collision:  # place case\n",
    "        action_type = \"PLACE\"\n",
    "    elif obj.collision:  # pick case\n",
    "        action_type = \"PICK\"\n",
    "    else:\n",
    "        raise (RuntimeError(\"non-implemented case\"))\n",
    "\n",
    "    # planners\n",
    "    if action_type == \"HANDOVER\":\n",
    "        dual_mplan_dict = get_dual_planner_dict(GRIPPER_REFS, graph.ghnd, graph.urdf_content, graph.urdf_path,\n",
    "                                                graph.link_names, graph.combined_robot.robot_names)\n",
    "    else:\n",
    "        mplan = MoveitPlanner(joint_names=graph.joint_names, link_names=graph.link_names, urdf_path=graph.urdf_path,\n",
    "                              urdf_content=graph.urdf_content,\n",
    "                              robot_names=graph.combined_robot.robot_names,\n",
    "                              binder_links=[v.object.link_name for v in graph.binder_dict.values()],\n",
    "                              ghnd=graph.ghnd)\n",
    "\n",
    "    # plan\n",
    "    if rname and tar:  # handover case\n",
    "        remove_map = [[], [0, 1]]\n",
    "        action_type = \"HANDOVER\"\n",
    "        trajectory, Q_last, error, success_now = test_handover(graph, GRIPPER_REFS, rname, inhand,\n",
    "                                                               obj, tar, Q_s,\n",
    "                                                               dual_mplan_dict[(rname, tar)], timeout=TIMEOUT)\n",
    "        state_s, state_g = get_handover_states(graph, GRIPPER_REFS, rname, inhand, obj, tar, Q_s)\n",
    "    elif inhand.collision:  # place case\n",
    "        remove_map = [[], [0, 1]]\n",
    "        action_type = \"PLACE\"\n",
    "        trajectory, Q_last, error, success_now = test_place(graph, GRIPPER_REFS, rname, inhand, obj,\n",
    "                                                            tar, Q_s, mplan, timeout=TIMEOUT)\n",
    "        state_s, state_g = get_place_states(graph, GRIPPER_REFS, rname, inhand, obj, tar, Q_s)\n",
    "    elif obj.collision:  # pick case\n",
    "        remove_map = [[1], [0]]\n",
    "        action_type = \"PICK\"\n",
    "        trajectory, Q_last, error, success_now = test_pick(graph, GRIPPER_REFS, rname, inhand, obj,\n",
    "                                                           tar, Q_s, mplan, timeout=TIMEOUT)\n",
    "        state_s, state_g = get_pick_states(graph, GRIPPER_REFS, rname, inhand, obj, tar, Q_s)\n",
    "    else:\n",
    "        remove_map = [[], [0,1]]\n",
    "        action_type = \"None\"\n",
    "        raise (RuntimeError(\"non-implemented case\"))\n",
    "\n",
    "    if VISUALIZE:\n",
    "        show_manip_coords(graph, GRIPPER_REFS, action_type, rname, inhand, obj, rname2=tar)\n",
    "#         graph.show_motion(trajectory, period=0.1)\n",
    "\n",
    "    print(\"[END] {} - {} - {} - {} - {} = {} / {} ({}/{})\".format(DATASET, WORLD, SCENE, ACTION, i_act, success_now, succ, i_test, N_test), end='\\r')\n",
    "    TEST_OFFSET_RES_LIST.append(success_now)\n",
    "    \n",
    "    # convert_send scene\n",
    "    gtimer.reset()\n",
    "    gtimer.tic(\"convert_workspace\")\n",
    "    ghnd_new= graph.convert_workspace(ghnd)\n",
    "    gtimer.toc(\"convert_workspace\")\n",
    "\n",
    "    ## remove bases\n",
    "    exclude_list = [\"floor\", \"wall\", \"cam\"]\n",
    "    gkeys = sorted(ghnd_new.NAME_DICT.keys())\n",
    "    for gname in gkeys:\n",
    "        gtem = ghnd_new.NAME_DICT[gname]\n",
    "        if np.any([ename in gtem.name for ename in exclude_list]):\n",
    "            ghnd_new.remove(gtem)\n",
    "    graph.object_list=[]\n",
    "    from_state = state_s\n",
    "    to_state = state_g\n",
    "    gtimer.tic(\"convert_scene\")\n",
    "    scene_base_data, ctem_names, ctem_cells, chain_dict = graph.convert_scene(ghnd_new, state=from_state, only_base=False)\n",
    "    gtimer.toc(\"convert_scene\")\n",
    "    gtimer.tic(\"copy_scene_base_data\")\n",
    "    scene_base_batch_p[i_test] = scene_base_data\n",
    "    gtimer.toc(\"copy_scene_base_data\")\n",
    "    print(ghnd_new.NAME_DICT.keys())\n",
    "\n",
    "    # convert_send action\n",
    "    from pkg.planner.moveit.moveit_planner import MoveitPlanner\n",
    "    mplan = MoveitPlanner(joint_names=graph.joint_names, link_names=graph.link_names, urdf_path=graph.urdf_path, urdf_content=graph.urdf_content,\n",
    "                          robot_names=graph.combined_robot.robot_names, binder_links=[v.object.link_name for v in graph.binder_dict.values()], ghnd=graph.ghnd)\n",
    "    graph.set_planner(mplan)\n",
    "    from pkg.sampler.object_a_star import *\n",
    "    sampler = ObjectAstarSampler(graph)\n",
    "    graph.set_sampler(sampler)\n",
    "    sampler.build_graph()\n",
    "\n",
    "    state = from_state\n",
    "    leaf = sampler.node_dict[state.onode][0]\n",
    "    Q_dict = list2dict(state.Q, graph.joint_names)\n",
    "\n",
    "    gtimer.reset()\n",
    "    cell_init_b, verts_init_b, chain_init_b, cell_goal_b, verts_goal_b, chain_goal_b = [], [], [], [], [], []\n",
    "    gtimer.tic(\"get_action_boxes\")\n",
    "    cell_init, verts_init, chain_init, cell_goal, verts_goal, chain_goal = get_action_boxes(\n",
    "        graph, from_state, to_state, {}, mplan=mplan, L_CELL=0.2, Nwdh=(15,15,15), BASE_LINK='base_link')\n",
    "    gtimer.toc(\"get_action_boxes\")\n",
    "\n",
    "    cell_init_p[i_test,:] = cell_init\n",
    "    verts_init_p[i_test,:] = verts_init\n",
    "    chain_init_p[i_test,:] = chain_init\n",
    "    cell_goal_p[i_test,:] = cell_goal\n",
    "    verts_goal_p[i_test,:] = verts_goal\n",
    "    chain_goal_p[i_test,:] = chain_goal\n",
    "if VISUALIZE: graph.show_pose(Q_s)"
   ]
  },
  {
   "cell_type": "code",
   "execution_count": null,
   "metadata": {},
   "outputs": [],
   "source": []
  },
  {
   "cell_type": "markdown",
   "metadata": {},
   "source": [
    "## test distance offset"
   ]
  },
  {
   "cell_type": "code",
   "execution_count": 76,
   "metadata": {
    "scrolled": true
   },
   "outputs": [
    {
     "name": "stdout",
     "output_type": "stream",
     "text": [
      "scene size: 3375 (15,15,15)\n"
     ]
    },
    {
     "name": "stderr",
     "output_type": "stream",
     "text": [
      "Unknown tag \"hardwareInterface\" in /robot[@name='custom_robots']/transmission[@name='indy0_tran0']/actuator[@name='indy0_motor0']\n",
      "Unknown tag \"hardwareInterface\" in /robot[@name='custom_robots']/transmission[@name='indy0_tran1']/actuator[@name='indy0_motor1']\n",
      "Unknown tag \"hardwareInterface\" in /robot[@name='custom_robots']/transmission[@name='indy0_tran2']/actuator[@name='indy0_motor2']\n",
      "Unknown tag \"hardwareInterface\" in /robot[@name='custom_robots']/transmission[@name='indy0_tran3']/actuator[@name='indy0_motor3']\n",
      "Unknown tag \"hardwareInterface\" in /robot[@name='custom_robots']/transmission[@name='indy0_tran4']/actuator[@name='indy0_motor4']\n",
      "Unknown tag \"hardwareInterface\" in /robot[@name='custom_robots']/transmission[@name='indy0_tran5']/actuator[@name='indy0_motor5']\n"
     ]
    },
    {
     "name": "stdout",
     "output_type": "stream",
     "text": [
      "[BEGIN] 20201216-021416 - WORLD-20201216-052332 - SCENE-20201216-052334 - 20201216-052400.json ===============\n",
      "ignore BOX_7_10_3 out of workspace1216-052332 - SCENE-20201216-052334 - 20201216-052400.json - 0 = False / True (0/12)\n",
      "ignore CYLINDER_4_14_2 out of workspace\n",
      "['CYLINDER_12_9_3', 'BOX_7_14_6', 'BOX_3_13_7', 'CYLINDER_1_6_11', 'BOX_4_10_9', 'indy0_link5_Cylinder_0', 'BOX_3_1_6', 'panda1_leftfinger_Cylinder_0', 'BOX_3_11_3', 'CYLINDER_12_11_1', 'BOX_12_7_5', 'panda1_link5_Cylinder_0', 'panda1_link5_Cylinder_1', 'panda1_hand_Cylinder_0', 'CYLINDER_5_12_1', 'CYLINDER_4_3_10', 'BOX_9_9_10', 'BOX_8_12_7', 'BOX_7_10_0', 'CYLINDER_3_8_4', 'BOX_7_10_5', 'panda1_rightfinger_Cylinder_0', 'BOX_9_7_10', 'BOX_9_8_1', 'CYLINDER_10_14_4', 'BOX_11_10_4', 'panda1_link2_Cylinder_0', 'CYLINDER_4_12_8', 'BOX_2_10_11', 'indy0_tcp_Cylinder_2_3', 'CYLINDER_12_8_2', 'BOX_3_8_9', 'indy0_tcp_Cylinder_0_1', 'BOX_3_0_5', 'BOX_8_4_10', 'BOX_11_8_8', 'CYLINDER_11_10_11', 'CYLINDER_5_0_6', 'BOX_0_7_3', 'panda1_link6_Cylinder_1', 'panda1_link6_Cylinder_0', 'CYLINDER_8_13_2', 'panda1_link6_Cylinder_2', 'CYLINDER_5_1_6', 'panda1_link3_Cylinder_0', 'BOX_1_8_11', 'BOX_8_13_2', 'BOX_8_13_6', 'CYLINDER_2_1_3', 'CYLINDER_1_13_8', 'indy0_link2_Cylinder_0_000', 'indy0_link2_Cylinder_0_001', 'BOX_5_4_3', 'BOX_5_4_7', 'indy0_link6_Cylinder_0', 'panda1_link1_Cylinder_0', 'CYLINDER_4_14_10', 'BOX_12_12_5', 'CYLINDER_3_5_9', 'BOX_0_2_8', 'BOX_4_4_9', 'CYLINDER_3_5_1', 'BOX_4_4_6', 'BOX_7_9_12', 'CYLINDER_6_14_1', 'CYLINDER_6_14_3', 'BOX_4_3_3', 'CYLINDER_1_12_8', 'panda1_link0_Cylinder_1', 'panda1_link0_Cylinder_0', 'CYLINDER_13_8_6', 'BOX_0_1_9', 'BOX_0_1_6', 'BOX_7_13_12', 'CYLINDER_4_3_6', 'BOX_10_13_1', 'indy0_link1_Cylinder_0', 'BOX_9_4_7', 'BOX_7_3_7', 'BOX_9_13_5', 'BOX_1_12_5', 'indy0_link3_Cylinder_0', 'indy0_link0_Cylinder_0', 'CYLINDER_6_12_6', 'BOX_5_5_1', 'CYLINDER_9_2_9', 'CYLINDER_6_10_9', 'panda1_link4_Cylinder_0', 'CYLINDER_7_11_9', 'CYLINDER_1_2_8', 'BOX_1_1_4', 'BOX_2_0_0', 'CYLINDER_11_13_5', 'indy0_link4_Cylinder_0', 'CYLINDER_4_9_1', 'BOX_5_10_7', 'CYLINDER_1_12_4', 'indy0_link2_Cylinder_1', 'BOX_8_9_13', 'BOX_8_9_9', 'BOX_0_2_1', 'BOX_5_7_10', 'BOX_9_10_9', 'BOX_10_3_2', 'BOX_10_3_3']\n",
      "scene size: 3375 (15,15,15)\n"
     ]
    },
    {
     "name": "stderr",
     "output_type": "stream",
     "text": [
      "Unknown tag \"hardwareInterface\" in /robot[@name='custom_robots']/transmission[@name='indy0_tran0']/actuator[@name='indy0_motor0']\n",
      "Unknown tag \"hardwareInterface\" in /robot[@name='custom_robots']/transmission[@name='indy0_tran1']/actuator[@name='indy0_motor1']\n",
      "Unknown tag \"hardwareInterface\" in /robot[@name='custom_robots']/transmission[@name='indy0_tran2']/actuator[@name='indy0_motor2']\n",
      "Unknown tag \"hardwareInterface\" in /robot[@name='custom_robots']/transmission[@name='indy0_tran3']/actuator[@name='indy0_motor3']\n",
      "Unknown tag \"hardwareInterface\" in /robot[@name='custom_robots']/transmission[@name='indy0_tran4']/actuator[@name='indy0_motor4']\n",
      "Unknown tag \"hardwareInterface\" in /robot[@name='custom_robots']/transmission[@name='indy0_tran5']/actuator[@name='indy0_motor5']\n"
     ]
    },
    {
     "name": "stdout",
     "output_type": "stream",
     "text": [
      "[BEGIN] 20201216-021416 - WORLD-20201216-052332 - SCENE-20201216-052334 - 20201216-052400.json ===============\n",
      "ignore CYLINDER_4_14_2 out of workspace052332 - SCENE-20201216-052334 - 20201216-052400.json - 0 = False / True (1/12)\n",
      "['CYLINDER_12_9_3', 'BOX_7_14_6', 'BOX_3_13_7', 'CYLINDER_1_6_11', 'BOX_4_10_9', 'indy0_link5_Cylinder_0', 'BOX_3_1_6', 'panda1_leftfinger_Cylinder_0', 'BOX_3_11_3', 'CYLINDER_12_11_1', 'BOX_12_7_5', 'panda1_link5_Cylinder_0', 'panda1_link5_Cylinder_1', 'panda1_hand_Cylinder_0', 'CYLINDER_5_12_1', 'CYLINDER_4_3_10', 'BOX_9_9_10', 'BOX_8_12_7', 'BOX_7_10_0', 'CYLINDER_3_8_4', u'BOX_7_10_3', 'BOX_7_10_5', 'panda1_rightfinger_Cylinder_0', 'BOX_9_7_10', 'BOX_9_8_1', 'CYLINDER_10_14_4', 'BOX_11_10_4', 'panda1_link2_Cylinder_0', 'CYLINDER_4_12_8', 'BOX_2_10_11', 'indy0_tcp_Cylinder_2_3', 'CYLINDER_12_8_2', 'BOX_3_8_9', 'indy0_tcp_Cylinder_0_1', 'BOX_3_0_5', 'BOX_8_4_10', 'BOX_11_8_8', 'CYLINDER_11_10_11', 'CYLINDER_5_0_6', 'BOX_0_7_3', 'panda1_link6_Cylinder_1', 'panda1_link6_Cylinder_0', 'CYLINDER_8_13_2', 'panda1_link6_Cylinder_2', 'CYLINDER_5_1_6', 'panda1_link3_Cylinder_0', 'BOX_1_8_11', 'BOX_8_13_2', 'BOX_8_13_6', 'CYLINDER_2_1_3', 'CYLINDER_1_13_8', 'indy0_link2_Cylinder_0_000', 'indy0_link2_Cylinder_0_001', 'BOX_5_4_3', 'BOX_5_4_7', 'indy0_link6_Cylinder_0', 'panda1_link1_Cylinder_0', 'CYLINDER_4_14_10', 'BOX_12_12_5', 'CYLINDER_3_5_9', 'BOX_0_2_8', 'BOX_4_4_9', 'CYLINDER_3_5_1', 'BOX_4_4_6', 'BOX_7_9_12', 'CYLINDER_6_14_1', 'CYLINDER_6_14_3', 'BOX_4_3_3', 'CYLINDER_1_12_8', 'panda1_link0_Cylinder_1', 'panda1_link0_Cylinder_0', 'CYLINDER_13_8_6', 'BOX_0_1_9', 'BOX_0_1_6', 'BOX_7_13_12', 'CYLINDER_4_3_6', 'BOX_10_13_1', 'indy0_link1_Cylinder_0', 'BOX_9_4_7', 'BOX_7_3_7', 'BOX_9_13_5', 'BOX_1_12_5', 'indy0_link3_Cylinder_0', 'indy0_link0_Cylinder_0', 'CYLINDER_6_12_6', 'BOX_5_5_1', 'CYLINDER_9_2_9', 'CYLINDER_6_10_9', 'panda1_link4_Cylinder_0', 'CYLINDER_7_11_9', 'CYLINDER_1_2_8', 'BOX_1_1_4', 'BOX_2_0_0', 'CYLINDER_11_13_5', 'indy0_link4_Cylinder_0', 'CYLINDER_4_9_1', 'BOX_5_10_7', 'CYLINDER_1_12_4', 'indy0_link2_Cylinder_1', 'BOX_8_9_13', 'BOX_8_9_9', 'BOX_0_2_1', 'BOX_5_7_10', 'BOX_9_10_9', 'BOX_10_3_2', 'BOX_10_3_3']\n",
      "scene size: 3375 (15,15,15)\n"
     ]
    },
    {
     "name": "stderr",
     "output_type": "stream",
     "text": [
      "Unknown tag \"hardwareInterface\" in /robot[@name='custom_robots']/transmission[@name='indy0_tran0']/actuator[@name='indy0_motor0']\n",
      "Unknown tag \"hardwareInterface\" in /robot[@name='custom_robots']/transmission[@name='indy0_tran1']/actuator[@name='indy0_motor1']\n",
      "Unknown tag \"hardwareInterface\" in /robot[@name='custom_robots']/transmission[@name='indy0_tran2']/actuator[@name='indy0_motor2']\n",
      "Unknown tag \"hardwareInterface\" in /robot[@name='custom_robots']/transmission[@name='indy0_tran3']/actuator[@name='indy0_motor3']\n",
      "Unknown tag \"hardwareInterface\" in /robot[@name='custom_robots']/transmission[@name='indy0_tran4']/actuator[@name='indy0_motor4']\n",
      "Unknown tag \"hardwareInterface\" in /robot[@name='custom_robots']/transmission[@name='indy0_tran5']/actuator[@name='indy0_motor5']\n"
     ]
    },
    {
     "name": "stdout",
     "output_type": "stream",
     "text": [
      "[BEGIN] 20201216-021416 - WORLD-20201216-052332 - SCENE-20201216-052334 - 20201216-052400.json ===============\n",
      "ignore CYLINDER_4_14_2 out of workspace052332 - SCENE-20201216-052334 - 20201216-052400.json - 0 = False / True (2/12)\n",
      "['CYLINDER_12_9_3', 'BOX_7_14_6', 'BOX_3_13_7', 'CYLINDER_1_6_11', 'BOX_4_10_9', 'indy0_link5_Cylinder_0', 'BOX_3_1_6', 'panda1_leftfinger_Cylinder_0', 'BOX_3_11_3', 'CYLINDER_12_11_1', 'BOX_12_7_5', 'panda1_link5_Cylinder_0', 'panda1_link5_Cylinder_1', 'panda1_hand_Cylinder_0', 'CYLINDER_5_12_1', 'CYLINDER_4_3_10', 'BOX_9_9_10', 'BOX_8_12_7', 'BOX_7_10_0', 'CYLINDER_3_8_4', u'BOX_7_10_3', 'BOX_7_10_5', 'panda1_rightfinger_Cylinder_0', 'BOX_9_7_10', 'BOX_9_8_1', 'CYLINDER_10_14_4', 'BOX_11_10_4', 'panda1_link2_Cylinder_0', 'CYLINDER_4_12_8', 'BOX_2_10_11', 'indy0_tcp_Cylinder_2_3', 'CYLINDER_12_8_2', 'BOX_3_8_9', 'indy0_tcp_Cylinder_0_1', 'BOX_3_0_5', 'BOX_8_4_10', 'BOX_11_8_8', 'CYLINDER_11_10_11', 'CYLINDER_5_0_6', 'BOX_0_7_3', 'panda1_link6_Cylinder_1', 'panda1_link6_Cylinder_0', 'CYLINDER_8_13_2', 'panda1_link6_Cylinder_2', 'CYLINDER_5_1_6', 'panda1_link3_Cylinder_0', 'BOX_1_8_11', 'BOX_8_13_2', 'BOX_8_13_6', 'CYLINDER_2_1_3', 'CYLINDER_1_13_8', 'indy0_link2_Cylinder_0_000', 'indy0_link2_Cylinder_0_001', 'BOX_5_4_3', 'BOX_5_4_7', 'indy0_link6_Cylinder_0', 'panda1_link1_Cylinder_0', 'CYLINDER_4_14_10', 'BOX_12_12_5', 'CYLINDER_3_5_9', 'BOX_0_2_8', 'BOX_4_4_9', 'CYLINDER_3_5_1', 'BOX_4_4_6', 'BOX_7_9_12', 'CYLINDER_6_14_1', 'CYLINDER_6_14_3', 'BOX_4_3_3', 'CYLINDER_1_12_8', 'panda1_link0_Cylinder_1', 'panda1_link0_Cylinder_0', 'CYLINDER_13_8_6', 'BOX_0_1_9', 'BOX_0_1_6', 'BOX_7_13_12', 'CYLINDER_4_3_6', 'BOX_10_13_1', 'indy0_link1_Cylinder_0', 'BOX_9_4_7', 'BOX_7_3_7', 'BOX_9_13_5', 'BOX_1_12_5', 'indy0_link3_Cylinder_0', 'indy0_link0_Cylinder_0', 'CYLINDER_6_12_6', 'BOX_5_5_1', 'CYLINDER_9_2_9', 'CYLINDER_6_10_9', 'panda1_link4_Cylinder_0', 'CYLINDER_7_11_9', 'CYLINDER_1_2_8', 'BOX_1_1_4', 'BOX_2_0_0', 'CYLINDER_11_13_5', 'indy0_link4_Cylinder_0', 'CYLINDER_4_9_1', 'BOX_5_10_7', 'CYLINDER_1_12_4', 'indy0_link2_Cylinder_1', 'BOX_8_9_13', 'BOX_8_9_9', 'BOX_0_2_1', 'BOX_5_7_10', 'BOX_9_10_9', 'BOX_10_3_2', 'BOX_10_3_3']\n",
      "scene size: 3375 (15,15,15)\n"
     ]
    },
    {
     "name": "stderr",
     "output_type": "stream",
     "text": [
      "Unknown tag \"hardwareInterface\" in /robot[@name='custom_robots']/transmission[@name='indy0_tran0']/actuator[@name='indy0_motor0']\n",
      "Unknown tag \"hardwareInterface\" in /robot[@name='custom_robots']/transmission[@name='indy0_tran1']/actuator[@name='indy0_motor1']\n",
      "Unknown tag \"hardwareInterface\" in /robot[@name='custom_robots']/transmission[@name='indy0_tran2']/actuator[@name='indy0_motor2']\n",
      "Unknown tag \"hardwareInterface\" in /robot[@name='custom_robots']/transmission[@name='indy0_tran3']/actuator[@name='indy0_motor3']\n",
      "Unknown tag \"hardwareInterface\" in /robot[@name='custom_robots']/transmission[@name='indy0_tran4']/actuator[@name='indy0_motor4']\n",
      "Unknown tag \"hardwareInterface\" in /robot[@name='custom_robots']/transmission[@name='indy0_tran5']/actuator[@name='indy0_motor5']\n"
     ]
    },
    {
     "name": "stdout",
     "output_type": "stream",
     "text": [
      "[BEGIN] 20201216-021416 - WORLD-20201216-052332 - SCENE-20201216-052334 - 20201216-052400.json ===============\n",
      "ignore CYLINDER_4_14_2 out of workspace052332 - SCENE-20201216-052334 - 20201216-052400.json - 0 = False / True (3/12)\n",
      "['CYLINDER_12_9_3', 'BOX_7_14_6', 'BOX_3_13_7', 'CYLINDER_1_6_11', 'BOX_4_10_9', 'indy0_link5_Cylinder_0', 'BOX_3_1_6', 'panda1_leftfinger_Cylinder_0', 'BOX_3_11_3', 'CYLINDER_12_11_1', 'BOX_12_7_5', 'panda1_link5_Cylinder_0', 'panda1_link5_Cylinder_1', 'panda1_hand_Cylinder_0', 'CYLINDER_5_12_1', 'CYLINDER_4_3_10', 'BOX_9_9_10', 'BOX_8_12_7', 'BOX_7_10_0', 'CYLINDER_3_8_4', u'BOX_7_10_3', 'BOX_7_10_5', 'panda1_rightfinger_Cylinder_0', 'BOX_9_7_10', 'BOX_9_8_1', 'CYLINDER_10_14_4', 'BOX_11_10_4', 'panda1_link2_Cylinder_0', 'CYLINDER_4_12_8', 'BOX_2_10_11', 'indy0_tcp_Cylinder_2_3', 'CYLINDER_12_8_2', 'BOX_3_8_9', 'indy0_tcp_Cylinder_0_1', 'BOX_3_0_5', 'BOX_8_4_10', 'BOX_11_8_8', 'CYLINDER_11_10_11', 'CYLINDER_5_0_6', 'BOX_0_7_3', 'panda1_link6_Cylinder_1', 'panda1_link6_Cylinder_0', 'CYLINDER_8_13_2', 'panda1_link6_Cylinder_2', 'CYLINDER_5_1_6', 'panda1_link3_Cylinder_0', 'BOX_1_8_11', 'BOX_8_13_2', 'BOX_8_13_6', 'CYLINDER_2_1_3', 'CYLINDER_1_13_8', 'indy0_link2_Cylinder_0_000', 'indy0_link2_Cylinder_0_001', 'BOX_5_4_3', 'BOX_5_4_7', 'indy0_link6_Cylinder_0', 'panda1_link1_Cylinder_0', 'CYLINDER_4_14_10', 'BOX_12_12_5', 'CYLINDER_3_5_9', 'BOX_0_2_8', 'BOX_4_4_9', 'CYLINDER_3_5_1', 'BOX_4_4_6', 'BOX_7_9_12', 'CYLINDER_6_14_1', 'CYLINDER_6_14_3', 'BOX_4_3_3', 'CYLINDER_1_12_8', 'panda1_link0_Cylinder_1', 'panda1_link0_Cylinder_0', 'CYLINDER_13_8_6', 'BOX_0_1_9', 'BOX_0_1_6', 'BOX_7_13_12', 'CYLINDER_4_3_6', 'BOX_10_13_1', 'indy0_link1_Cylinder_0', 'BOX_9_4_7', 'BOX_7_3_7', 'BOX_9_13_5', 'BOX_1_12_5', 'indy0_link3_Cylinder_0', 'indy0_link0_Cylinder_0', 'CYLINDER_6_12_6', 'BOX_5_5_1', 'CYLINDER_9_2_9', 'CYLINDER_6_10_9', 'panda1_link4_Cylinder_0', 'CYLINDER_7_11_9', 'CYLINDER_1_2_8', 'BOX_1_1_4', 'BOX_2_0_0', 'CYLINDER_11_13_5', 'indy0_link4_Cylinder_0', 'CYLINDER_4_9_1', 'BOX_5_10_7', 'CYLINDER_1_12_4', 'indy0_link2_Cylinder_1', 'BOX_8_9_13', 'BOX_8_9_9', 'BOX_0_2_1', 'BOX_5_7_10', 'BOX_9_10_9', 'BOX_10_3_2', 'BOX_10_3_3']\n",
      "scene size: 3375 (15,15,15)\n"
     ]
    },
    {
     "name": "stderr",
     "output_type": "stream",
     "text": [
      "Unknown tag \"hardwareInterface\" in /robot[@name='custom_robots']/transmission[@name='indy0_tran0']/actuator[@name='indy0_motor0']\n",
      "Unknown tag \"hardwareInterface\" in /robot[@name='custom_robots']/transmission[@name='indy0_tran1']/actuator[@name='indy0_motor1']\n",
      "Unknown tag \"hardwareInterface\" in /robot[@name='custom_robots']/transmission[@name='indy0_tran2']/actuator[@name='indy0_motor2']\n",
      "Unknown tag \"hardwareInterface\" in /robot[@name='custom_robots']/transmission[@name='indy0_tran3']/actuator[@name='indy0_motor3']\n",
      "Unknown tag \"hardwareInterface\" in /robot[@name='custom_robots']/transmission[@name='indy0_tran4']/actuator[@name='indy0_motor4']\n",
      "Unknown tag \"hardwareInterface\" in /robot[@name='custom_robots']/transmission[@name='indy0_tran5']/actuator[@name='indy0_motor5']\n"
     ]
    },
    {
     "name": "stdout",
     "output_type": "stream",
     "text": [
      "[BEGIN] 20201216-021416 - WORLD-20201216-052332 - SCENE-20201216-052334 - 20201216-052400.json ===============\n",
      "ignore CYLINDER_4_14_2 out of workspace052332 - SCENE-20201216-052334 - 20201216-052400.json - 0 = False / True (4/12)\n",
      "['CYLINDER_12_9_3', 'BOX_7_14_6', 'BOX_3_13_7', 'CYLINDER_1_6_11', 'BOX_4_10_9', 'indy0_link5_Cylinder_0', 'BOX_3_1_6', 'panda1_leftfinger_Cylinder_0', 'BOX_3_11_3', 'CYLINDER_12_11_1', 'BOX_12_7_5', 'panda1_link5_Cylinder_0', 'panda1_link5_Cylinder_1', 'panda1_hand_Cylinder_0', 'CYLINDER_5_12_1', 'CYLINDER_4_3_10', 'BOX_9_9_10', 'BOX_8_12_7', 'BOX_7_10_0', 'CYLINDER_3_8_4', u'BOX_7_10_3', 'BOX_7_10_5', 'panda1_rightfinger_Cylinder_0', 'BOX_9_7_10', 'BOX_9_8_1', 'CYLINDER_10_14_4', 'BOX_11_10_4', 'panda1_link2_Cylinder_0', 'CYLINDER_4_12_8', 'BOX_2_10_11', 'indy0_tcp_Cylinder_2_3', 'CYLINDER_12_8_2', 'BOX_3_8_9', 'indy0_tcp_Cylinder_0_1', 'BOX_3_0_5', 'BOX_8_4_10', 'BOX_11_8_8', 'CYLINDER_11_10_11', 'CYLINDER_5_0_6', 'BOX_0_7_3', 'panda1_link6_Cylinder_1', 'panda1_link6_Cylinder_0', 'CYLINDER_8_13_2', 'panda1_link6_Cylinder_2', 'CYLINDER_5_1_6', 'panda1_link3_Cylinder_0', 'BOX_1_8_11', 'BOX_8_13_2', 'BOX_8_13_6', 'CYLINDER_2_1_3', 'CYLINDER_1_13_8', 'indy0_link2_Cylinder_0_000', 'indy0_link2_Cylinder_0_001', 'BOX_5_4_3', 'BOX_5_4_7', 'indy0_link6_Cylinder_0', 'panda1_link1_Cylinder_0', 'CYLINDER_4_14_10', 'BOX_12_12_5', 'CYLINDER_3_5_9', 'BOX_0_2_8', 'BOX_4_4_9', 'CYLINDER_3_5_1', 'BOX_4_4_6', 'BOX_7_9_12', 'CYLINDER_6_14_1', 'CYLINDER_6_14_3', 'BOX_4_3_3', 'CYLINDER_1_12_8', 'panda1_link0_Cylinder_1', 'panda1_link0_Cylinder_0', 'CYLINDER_13_8_6', 'BOX_0_1_9', 'BOX_0_1_6', 'BOX_7_13_12', 'CYLINDER_4_3_6', 'BOX_10_13_1', 'indy0_link1_Cylinder_0', 'BOX_9_4_7', 'BOX_7_3_7', 'BOX_9_13_5', 'BOX_1_12_5', 'indy0_link3_Cylinder_0', 'indy0_link0_Cylinder_0', 'CYLINDER_6_12_6', 'BOX_5_5_1', 'CYLINDER_9_2_9', 'CYLINDER_6_10_9', 'panda1_link4_Cylinder_0', 'CYLINDER_7_11_9', 'CYLINDER_1_2_8', 'BOX_1_1_4', 'BOX_2_0_0', 'CYLINDER_11_13_5', 'indy0_link4_Cylinder_0', 'CYLINDER_4_9_1', 'BOX_5_10_7', 'CYLINDER_1_12_4', 'indy0_link2_Cylinder_1', 'BOX_8_9_13', 'BOX_8_9_9', 'BOX_0_2_1', 'BOX_5_7_10', 'BOX_9_10_9', 'BOX_10_3_2', 'BOX_10_3_3']\n",
      "scene size: 3375 (15,15,15)\n"
     ]
    },
    {
     "name": "stderr",
     "output_type": "stream",
     "text": [
      "Unknown tag \"hardwareInterface\" in /robot[@name='custom_robots']/transmission[@name='indy0_tran0']/actuator[@name='indy0_motor0']\n",
      "Unknown tag \"hardwareInterface\" in /robot[@name='custom_robots']/transmission[@name='indy0_tran1']/actuator[@name='indy0_motor1']\n",
      "Unknown tag \"hardwareInterface\" in /robot[@name='custom_robots']/transmission[@name='indy0_tran2']/actuator[@name='indy0_motor2']\n",
      "Unknown tag \"hardwareInterface\" in /robot[@name='custom_robots']/transmission[@name='indy0_tran3']/actuator[@name='indy0_motor3']\n",
      "Unknown tag \"hardwareInterface\" in /robot[@name='custom_robots']/transmission[@name='indy0_tran4']/actuator[@name='indy0_motor4']\n",
      "Unknown tag \"hardwareInterface\" in /robot[@name='custom_robots']/transmission[@name='indy0_tran5']/actuator[@name='indy0_motor5']\n"
     ]
    },
    {
     "name": "stdout",
     "output_type": "stream",
     "text": [
      "[BEGIN] 20201216-021416 - WORLD-20201216-052332 - SCENE-20201216-052334 - 20201216-052400.json ===============\n",
      "ignore CYLINDER_4_14_2 out of workspace052332 - SCENE-20201216-052334 - 20201216-052400.json - 0 = True / True (5/12)\n",
      "['CYLINDER_12_9_3', 'BOX_7_14_6', 'BOX_3_13_7', 'CYLINDER_1_6_11', 'BOX_4_10_9', 'indy0_link5_Cylinder_0', 'BOX_3_1_6', 'panda1_leftfinger_Cylinder_0', 'BOX_3_11_3', 'CYLINDER_12_11_1', 'BOX_12_7_5', 'panda1_link5_Cylinder_0', 'panda1_link5_Cylinder_1', 'panda1_hand_Cylinder_0', 'CYLINDER_5_12_1', 'CYLINDER_4_3_10', 'BOX_9_9_10', 'BOX_8_12_7', 'BOX_7_10_0', 'CYLINDER_3_8_4', u'BOX_7_10_3', 'BOX_7_10_5', 'panda1_rightfinger_Cylinder_0', 'BOX_9_7_10', 'BOX_9_8_1', 'CYLINDER_10_14_4', 'BOX_11_10_4', 'panda1_link2_Cylinder_0', 'CYLINDER_4_12_8', 'BOX_2_10_11', 'indy0_tcp_Cylinder_2_3', 'CYLINDER_12_8_2', 'BOX_3_8_9', 'indy0_tcp_Cylinder_0_1', 'BOX_3_0_5', 'BOX_8_4_10', 'BOX_11_8_8', 'CYLINDER_11_10_11', 'CYLINDER_5_0_6', 'BOX_0_7_3', 'panda1_link6_Cylinder_1', 'panda1_link6_Cylinder_0', 'CYLINDER_8_13_2', 'panda1_link6_Cylinder_2', 'CYLINDER_5_1_6', 'panda1_link3_Cylinder_0', 'BOX_1_8_11', 'BOX_8_13_2', 'BOX_8_13_6', 'CYLINDER_2_1_3', 'CYLINDER_1_13_8', 'indy0_link2_Cylinder_0_000', 'indy0_link2_Cylinder_0_001', 'BOX_5_4_3', 'BOX_5_4_7', 'indy0_link6_Cylinder_0', 'panda1_link1_Cylinder_0', 'CYLINDER_4_14_10', 'BOX_12_12_5', 'CYLINDER_3_5_9', 'BOX_0_2_8', 'BOX_4_4_9', 'CYLINDER_3_5_1', 'BOX_4_4_6', 'BOX_7_9_12', 'CYLINDER_6_14_1', 'CYLINDER_6_14_3', 'BOX_4_3_3', 'CYLINDER_1_12_8', 'panda1_link0_Cylinder_1', 'panda1_link0_Cylinder_0', 'CYLINDER_13_8_6', 'BOX_0_1_9', 'BOX_0_1_6', 'BOX_7_13_12', 'CYLINDER_4_3_6', 'BOX_10_13_1', 'indy0_link1_Cylinder_0', 'BOX_9_4_7', 'BOX_7_3_7', 'BOX_9_13_5', 'BOX_1_12_5', 'indy0_link3_Cylinder_0', 'indy0_link0_Cylinder_0', 'CYLINDER_6_12_6', 'BOX_5_5_1', 'CYLINDER_9_2_9', 'CYLINDER_6_10_9', 'panda1_link4_Cylinder_0', 'CYLINDER_7_11_9', 'CYLINDER_1_2_8', 'BOX_1_1_4', 'BOX_2_0_0', 'CYLINDER_11_13_5', 'indy0_link4_Cylinder_0', 'CYLINDER_4_9_1', 'BOX_5_10_7', 'CYLINDER_1_12_4', 'indy0_link2_Cylinder_1', 'BOX_8_9_13', 'BOX_8_9_9', 'BOX_0_2_1', 'BOX_5_7_10', 'BOX_9_10_9', 'BOX_10_3_2', 'BOX_10_3_3']\n",
      "scene size: 3375 (15,15,15)\n"
     ]
    },
    {
     "name": "stderr",
     "output_type": "stream",
     "text": [
      "Unknown tag \"hardwareInterface\" in /robot[@name='custom_robots']/transmission[@name='indy0_tran0']/actuator[@name='indy0_motor0']\n",
      "Unknown tag \"hardwareInterface\" in /robot[@name='custom_robots']/transmission[@name='indy0_tran1']/actuator[@name='indy0_motor1']\n",
      "Unknown tag \"hardwareInterface\" in /robot[@name='custom_robots']/transmission[@name='indy0_tran2']/actuator[@name='indy0_motor2']\n",
      "Unknown tag \"hardwareInterface\" in /robot[@name='custom_robots']/transmission[@name='indy0_tran3']/actuator[@name='indy0_motor3']\n",
      "Unknown tag \"hardwareInterface\" in /robot[@name='custom_robots']/transmission[@name='indy0_tran4']/actuator[@name='indy0_motor4']\n",
      "Unknown tag \"hardwareInterface\" in /robot[@name='custom_robots']/transmission[@name='indy0_tran5']/actuator[@name='indy0_motor5']\n"
     ]
    },
    {
     "name": "stdout",
     "output_type": "stream",
     "text": [
      "[BEGIN] 20201216-021416 - WORLD-20201216-052332 - SCENE-20201216-052334 - 20201216-052400.json ===============\n",
      "ignore CYLINDER_4_14_2 out of workspace052332 - SCENE-20201216-052334 - 20201216-052400.json - 0 = True / True (6/12)\n",
      "['CYLINDER_12_9_3', 'BOX_7_14_6', 'BOX_3_13_7', 'CYLINDER_1_6_11', 'BOX_4_10_9', 'indy0_link5_Cylinder_0', 'BOX_3_1_6', 'panda1_leftfinger_Cylinder_0', 'BOX_3_11_3', 'CYLINDER_12_11_1', 'BOX_12_7_5', 'panda1_link5_Cylinder_0', 'panda1_link5_Cylinder_1', 'panda1_hand_Cylinder_0', 'CYLINDER_5_12_1', 'CYLINDER_4_3_10', 'BOX_9_9_10', 'BOX_8_12_7', 'BOX_7_10_0', 'CYLINDER_3_8_4', u'BOX_7_10_3', 'BOX_7_10_5', 'panda1_rightfinger_Cylinder_0', 'BOX_9_7_10', 'BOX_9_8_1', 'CYLINDER_10_14_4', 'BOX_11_10_4', 'panda1_link2_Cylinder_0', 'CYLINDER_4_12_8', 'BOX_2_10_11', 'indy0_tcp_Cylinder_2_3', 'CYLINDER_12_8_2', 'BOX_3_8_9', 'indy0_tcp_Cylinder_0_1', 'BOX_3_0_5', 'BOX_8_4_10', 'BOX_11_8_8', 'CYLINDER_11_10_11', 'CYLINDER_5_0_6', 'BOX_0_7_3', 'panda1_link6_Cylinder_1', 'panda1_link6_Cylinder_0', 'CYLINDER_8_13_2', 'panda1_link6_Cylinder_2', 'CYLINDER_5_1_6', 'panda1_link3_Cylinder_0', 'BOX_1_8_11', 'BOX_8_13_2', 'BOX_8_13_6', 'CYLINDER_2_1_3', 'CYLINDER_1_13_8', 'indy0_link2_Cylinder_0_000', 'indy0_link2_Cylinder_0_001', 'BOX_5_4_3', 'BOX_5_4_7', 'indy0_link6_Cylinder_0', 'panda1_link1_Cylinder_0', 'CYLINDER_4_14_10', 'BOX_12_12_5', 'CYLINDER_3_5_9', 'BOX_0_2_8', 'BOX_4_4_9', 'CYLINDER_3_5_1', 'BOX_4_4_6', 'BOX_7_9_12', 'CYLINDER_6_14_1', 'CYLINDER_6_14_3', 'BOX_4_3_3', 'CYLINDER_1_12_8', 'panda1_link0_Cylinder_1', 'panda1_link0_Cylinder_0', 'CYLINDER_13_8_6', 'BOX_0_1_9', 'BOX_0_1_6', 'BOX_7_13_12', 'CYLINDER_4_3_6', 'BOX_10_13_1', 'indy0_link1_Cylinder_0', 'BOX_9_4_7', 'BOX_7_3_7', 'BOX_9_13_5', 'BOX_1_12_5', 'indy0_link3_Cylinder_0', 'indy0_link0_Cylinder_0', 'CYLINDER_6_12_6', 'BOX_5_5_1', 'CYLINDER_9_2_9', 'CYLINDER_6_10_9', 'panda1_link4_Cylinder_0', 'CYLINDER_7_11_9', 'CYLINDER_1_2_8', 'BOX_1_1_4', 'BOX_2_0_0', 'CYLINDER_11_13_5', 'indy0_link4_Cylinder_0', 'CYLINDER_4_9_1', 'BOX_5_10_7', 'CYLINDER_1_12_4', 'indy0_link2_Cylinder_1', 'BOX_8_9_13', 'BOX_8_9_9', 'BOX_0_2_1', 'BOX_5_7_10', 'BOX_9_10_9', 'BOX_10_3_2', 'BOX_10_3_3']\n",
      "scene size: 3375 (15,15,15)\n"
     ]
    },
    {
     "name": "stderr",
     "output_type": "stream",
     "text": [
      "Unknown tag \"hardwareInterface\" in /robot[@name='custom_robots']/transmission[@name='indy0_tran0']/actuator[@name='indy0_motor0']\n",
      "Unknown tag \"hardwareInterface\" in /robot[@name='custom_robots']/transmission[@name='indy0_tran1']/actuator[@name='indy0_motor1']\n",
      "Unknown tag \"hardwareInterface\" in /robot[@name='custom_robots']/transmission[@name='indy0_tran2']/actuator[@name='indy0_motor2']\n",
      "Unknown tag \"hardwareInterface\" in /robot[@name='custom_robots']/transmission[@name='indy0_tran3']/actuator[@name='indy0_motor3']\n",
      "Unknown tag \"hardwareInterface\" in /robot[@name='custom_robots']/transmission[@name='indy0_tran4']/actuator[@name='indy0_motor4']\n",
      "Unknown tag \"hardwareInterface\" in /robot[@name='custom_robots']/transmission[@name='indy0_tran5']/actuator[@name='indy0_motor5']\n"
     ]
    },
    {
     "name": "stdout",
     "output_type": "stream",
     "text": [
      "[BEGIN] 20201216-021416 - WORLD-20201216-052332 - SCENE-20201216-052334 - 20201216-052400.json ===============\n",
      "ignore CYLINDER_4_14_2 out of workspace052332 - SCENE-20201216-052334 - 20201216-052400.json - 0 = True / True (7/12)\n",
      "['CYLINDER_12_9_3', 'BOX_7_14_6', 'BOX_3_13_7', 'CYLINDER_1_6_11', 'BOX_4_10_9', 'indy0_link5_Cylinder_0', 'BOX_3_1_6', 'panda1_leftfinger_Cylinder_0', 'BOX_3_11_3', 'CYLINDER_12_11_1', 'BOX_12_7_5', 'panda1_link5_Cylinder_0', 'panda1_link5_Cylinder_1', 'panda1_hand_Cylinder_0', 'CYLINDER_5_12_1', 'CYLINDER_4_3_10', 'BOX_9_9_10', 'BOX_8_12_7', 'BOX_7_10_0', 'CYLINDER_3_8_4', u'BOX_7_10_3', 'BOX_7_10_5', 'panda1_rightfinger_Cylinder_0', 'BOX_9_7_10', 'BOX_9_8_1', 'CYLINDER_10_14_4', 'BOX_11_10_4', 'panda1_link2_Cylinder_0', 'CYLINDER_4_12_8', 'BOX_2_10_11', 'indy0_tcp_Cylinder_2_3', 'CYLINDER_12_8_2', 'BOX_3_8_9', 'indy0_tcp_Cylinder_0_1', 'BOX_3_0_5', 'BOX_8_4_10', 'BOX_11_8_8', 'CYLINDER_11_10_11', 'CYLINDER_5_0_6', 'BOX_0_7_3', 'panda1_link6_Cylinder_1', 'panda1_link6_Cylinder_0', 'CYLINDER_8_13_2', 'panda1_link6_Cylinder_2', 'CYLINDER_5_1_6', 'panda1_link3_Cylinder_0', 'BOX_1_8_11', 'BOX_8_13_2', 'BOX_8_13_6', 'CYLINDER_2_1_3', 'CYLINDER_1_13_8', 'indy0_link2_Cylinder_0_000', 'indy0_link2_Cylinder_0_001', 'BOX_5_4_3', 'BOX_5_4_7', 'indy0_link6_Cylinder_0', 'panda1_link1_Cylinder_0', 'CYLINDER_4_14_10', 'BOX_12_12_5', 'CYLINDER_3_5_9', 'BOX_0_2_8', 'BOX_4_4_9', 'CYLINDER_3_5_1', 'BOX_4_4_6', 'BOX_7_9_12', 'CYLINDER_6_14_1', 'CYLINDER_6_14_3', 'BOX_4_3_3', 'CYLINDER_1_12_8', 'panda1_link0_Cylinder_1', 'panda1_link0_Cylinder_0', 'CYLINDER_13_8_6', 'BOX_0_1_9', 'BOX_0_1_6', 'BOX_7_13_12', 'CYLINDER_4_3_6', 'BOX_10_13_1', 'indy0_link1_Cylinder_0', 'BOX_9_4_7', 'BOX_7_3_7', 'BOX_9_13_5', 'BOX_1_12_5', 'indy0_link3_Cylinder_0', 'indy0_link0_Cylinder_0', 'CYLINDER_6_12_6', 'BOX_5_5_1', 'CYLINDER_9_2_9', 'CYLINDER_6_10_9', 'panda1_link4_Cylinder_0', 'CYLINDER_7_11_9', 'CYLINDER_1_2_8', 'BOX_1_1_4', 'BOX_2_0_0', 'CYLINDER_11_13_5', 'indy0_link4_Cylinder_0', 'CYLINDER_4_9_1', 'BOX_5_10_7', 'CYLINDER_1_12_4', 'indy0_link2_Cylinder_1', 'BOX_8_9_13', 'BOX_8_9_9', 'BOX_0_2_1', 'BOX_5_7_10', 'BOX_9_10_9', 'BOX_10_3_2', 'BOX_10_3_3']\n",
      "scene size: 3375 (15,15,15)\n"
     ]
    },
    {
     "name": "stderr",
     "output_type": "stream",
     "text": [
      "Unknown tag \"hardwareInterface\" in /robot[@name='custom_robots']/transmission[@name='indy0_tran0']/actuator[@name='indy0_motor0']\n",
      "Unknown tag \"hardwareInterface\" in /robot[@name='custom_robots']/transmission[@name='indy0_tran1']/actuator[@name='indy0_motor1']\n",
      "Unknown tag \"hardwareInterface\" in /robot[@name='custom_robots']/transmission[@name='indy0_tran2']/actuator[@name='indy0_motor2']\n",
      "Unknown tag \"hardwareInterface\" in /robot[@name='custom_robots']/transmission[@name='indy0_tran3']/actuator[@name='indy0_motor3']\n",
      "Unknown tag \"hardwareInterface\" in /robot[@name='custom_robots']/transmission[@name='indy0_tran4']/actuator[@name='indy0_motor4']\n",
      "Unknown tag \"hardwareInterface\" in /robot[@name='custom_robots']/transmission[@name='indy0_tran5']/actuator[@name='indy0_motor5']\n"
     ]
    },
    {
     "name": "stdout",
     "output_type": "stream",
     "text": [
      "[BEGIN] 20201216-021416 - WORLD-20201216-052332 - SCENE-20201216-052334 - 20201216-052400.json ===============\n",
      "ignore CYLINDER_4_14_2 out of workspace052332 - SCENE-20201216-052334 - 20201216-052400.json - 0 = False / True (8/12)\n",
      "['CYLINDER_12_9_3', 'BOX_7_14_6', 'BOX_3_13_7', 'CYLINDER_1_6_11', 'BOX_4_10_9', 'indy0_link5_Cylinder_0', 'BOX_3_1_6', 'panda1_leftfinger_Cylinder_0', 'BOX_3_11_3', 'CYLINDER_12_11_1', 'BOX_12_7_5', 'panda1_link5_Cylinder_0', 'panda1_link5_Cylinder_1', 'panda1_hand_Cylinder_0', 'CYLINDER_5_12_1', 'CYLINDER_4_3_10', 'BOX_9_9_10', 'BOX_8_12_7', 'BOX_7_10_0', 'CYLINDER_3_8_4', u'BOX_7_10_3', 'BOX_7_10_5', 'panda1_rightfinger_Cylinder_0', 'BOX_9_7_10', 'BOX_9_8_1', 'CYLINDER_10_14_4', 'BOX_11_10_4', 'panda1_link2_Cylinder_0', 'CYLINDER_4_12_8', 'BOX_2_10_11', 'indy0_tcp_Cylinder_2_3', 'CYLINDER_12_8_2', 'BOX_3_8_9', 'indy0_tcp_Cylinder_0_1', 'BOX_3_0_5', 'BOX_8_4_10', 'BOX_11_8_8', 'CYLINDER_11_10_11', 'CYLINDER_5_0_6', 'BOX_0_7_3', 'panda1_link6_Cylinder_1', 'panda1_link6_Cylinder_0', 'CYLINDER_8_13_2', 'panda1_link6_Cylinder_2', 'CYLINDER_5_1_6', 'panda1_link3_Cylinder_0', 'BOX_1_8_11', 'BOX_8_13_2', 'BOX_8_13_6', 'CYLINDER_2_1_3', 'CYLINDER_1_13_8', 'indy0_link2_Cylinder_0_000', 'indy0_link2_Cylinder_0_001', 'BOX_5_4_3', 'BOX_5_4_7', 'indy0_link6_Cylinder_0', 'panda1_link1_Cylinder_0', 'CYLINDER_4_14_10', 'BOX_12_12_5', 'CYLINDER_3_5_9', 'BOX_0_2_8', 'BOX_4_4_9', 'CYLINDER_3_5_1', 'BOX_4_4_6', 'BOX_7_9_12', 'CYLINDER_6_14_1', 'CYLINDER_6_14_3', 'BOX_4_3_3', 'CYLINDER_1_12_8', 'panda1_link0_Cylinder_1', 'panda1_link0_Cylinder_0', 'CYLINDER_13_8_6', 'BOX_0_1_9', 'BOX_0_1_6', 'BOX_7_13_12', 'CYLINDER_4_3_6', 'BOX_10_13_1', 'indy0_link1_Cylinder_0', 'BOX_9_4_7', 'BOX_7_3_7', 'BOX_9_13_5', 'BOX_1_12_5', 'indy0_link3_Cylinder_0', 'indy0_link0_Cylinder_0', 'CYLINDER_6_12_6', 'BOX_5_5_1', 'CYLINDER_9_2_9', 'CYLINDER_6_10_9', 'panda1_link4_Cylinder_0', 'CYLINDER_7_11_9', 'CYLINDER_1_2_8', 'BOX_1_1_4', 'BOX_2_0_0', 'CYLINDER_11_13_5', 'indy0_link4_Cylinder_0', 'CYLINDER_4_9_1', 'BOX_5_10_7', 'CYLINDER_1_12_4', 'indy0_link2_Cylinder_1', 'BOX_8_9_13', 'BOX_8_9_9', 'BOX_0_2_1', 'BOX_5_7_10', 'BOX_9_10_9', 'BOX_10_3_2', 'BOX_10_3_3']\n",
      "scene size: 3375 (15,15,15)\n"
     ]
    },
    {
     "name": "stderr",
     "output_type": "stream",
     "text": [
      "Unknown tag \"hardwareInterface\" in /robot[@name='custom_robots']/transmission[@name='indy0_tran0']/actuator[@name='indy0_motor0']\n",
      "Unknown tag \"hardwareInterface\" in /robot[@name='custom_robots']/transmission[@name='indy0_tran1']/actuator[@name='indy0_motor1']\n",
      "Unknown tag \"hardwareInterface\" in /robot[@name='custom_robots']/transmission[@name='indy0_tran2']/actuator[@name='indy0_motor2']\n",
      "Unknown tag \"hardwareInterface\" in /robot[@name='custom_robots']/transmission[@name='indy0_tran3']/actuator[@name='indy0_motor3']\n",
      "Unknown tag \"hardwareInterface\" in /robot[@name='custom_robots']/transmission[@name='indy0_tran4']/actuator[@name='indy0_motor4']\n",
      "Unknown tag \"hardwareInterface\" in /robot[@name='custom_robots']/transmission[@name='indy0_tran5']/actuator[@name='indy0_motor5']\n"
     ]
    },
    {
     "name": "stdout",
     "output_type": "stream",
     "text": [
      "[BEGIN] 20201216-021416 - WORLD-20201216-052332 - SCENE-20201216-052334 - 20201216-052400.json ===============\n",
      "ignore CYLINDER_4_14_2 out of workspace052332 - SCENE-20201216-052334 - 20201216-052400.json - 0 = False / True (9/12)\n",
      "['CYLINDER_12_9_3', 'BOX_7_14_6', 'BOX_3_13_7', 'CYLINDER_1_6_11', 'BOX_4_10_9', 'indy0_link5_Cylinder_0', 'BOX_3_1_6', 'panda1_leftfinger_Cylinder_0', 'BOX_3_11_3', 'CYLINDER_12_11_1', 'BOX_12_7_5', 'panda1_link5_Cylinder_0', 'panda1_link5_Cylinder_1', 'panda1_hand_Cylinder_0', 'CYLINDER_5_12_1', 'CYLINDER_4_3_10', 'BOX_9_9_10', 'BOX_8_12_7', 'BOX_7_10_0', 'CYLINDER_3_8_4', u'BOX_7_10_3', 'BOX_7_10_5', 'panda1_rightfinger_Cylinder_0', 'BOX_9_7_10', 'BOX_9_8_1', 'CYLINDER_10_14_4', 'BOX_11_10_4', 'panda1_link2_Cylinder_0', 'CYLINDER_4_12_8', 'BOX_2_10_11', 'indy0_tcp_Cylinder_2_3', 'CYLINDER_12_8_2', 'BOX_3_8_9', 'indy0_tcp_Cylinder_0_1', 'BOX_3_0_5', 'BOX_8_4_10', 'BOX_11_8_8', 'CYLINDER_11_10_11', 'CYLINDER_5_0_6', 'BOX_0_7_3', 'panda1_link6_Cylinder_1', 'panda1_link6_Cylinder_0', 'CYLINDER_8_13_2', 'panda1_link6_Cylinder_2', 'CYLINDER_5_1_6', 'panda1_link3_Cylinder_0', 'BOX_1_8_11', 'BOX_8_13_2', 'BOX_8_13_6', 'CYLINDER_2_1_3', 'CYLINDER_1_13_8', 'indy0_link2_Cylinder_0_000', 'indy0_link2_Cylinder_0_001', 'BOX_5_4_3', 'BOX_5_4_7', 'indy0_link6_Cylinder_0', 'panda1_link1_Cylinder_0', 'CYLINDER_4_14_10', 'BOX_12_12_5', 'CYLINDER_3_5_9', 'BOX_0_2_8', 'BOX_4_4_9', 'CYLINDER_3_5_1', 'BOX_4_4_6', 'BOX_7_9_12', 'CYLINDER_6_14_1', 'CYLINDER_6_14_3', 'BOX_4_3_3', 'CYLINDER_1_12_8', 'panda1_link0_Cylinder_1', 'panda1_link0_Cylinder_0', 'CYLINDER_13_8_6', 'BOX_0_1_9', 'BOX_0_1_6', 'BOX_7_13_12', 'CYLINDER_4_3_6', 'BOX_10_13_1', 'indy0_link1_Cylinder_0', 'BOX_9_4_7', 'BOX_7_3_7', 'BOX_9_13_5', 'BOX_1_12_5', 'indy0_link3_Cylinder_0', 'indy0_link0_Cylinder_0', 'CYLINDER_6_12_6', 'BOX_5_5_1', 'CYLINDER_9_2_9', 'CYLINDER_6_10_9', 'panda1_link4_Cylinder_0', 'CYLINDER_7_11_9', 'CYLINDER_1_2_8', 'BOX_1_1_4', 'BOX_2_0_0', 'CYLINDER_11_13_5', 'indy0_link4_Cylinder_0', 'CYLINDER_4_9_1', 'BOX_5_10_7', 'CYLINDER_1_12_4', 'indy0_link2_Cylinder_1', 'BOX_8_9_13', 'BOX_8_9_9', 'BOX_0_2_1', 'BOX_5_7_10', 'BOX_9_10_9', 'BOX_10_3_2', 'BOX_10_3_3']\n",
      "scene size: 3375 (15,15,15)\n"
     ]
    },
    {
     "name": "stderr",
     "output_type": "stream",
     "text": [
      "Unknown tag \"hardwareInterface\" in /robot[@name='custom_robots']/transmission[@name='indy0_tran0']/actuator[@name='indy0_motor0']\n",
      "Unknown tag \"hardwareInterface\" in /robot[@name='custom_robots']/transmission[@name='indy0_tran1']/actuator[@name='indy0_motor1']\n",
      "Unknown tag \"hardwareInterface\" in /robot[@name='custom_robots']/transmission[@name='indy0_tran2']/actuator[@name='indy0_motor2']\n",
      "Unknown tag \"hardwareInterface\" in /robot[@name='custom_robots']/transmission[@name='indy0_tran3']/actuator[@name='indy0_motor3']\n",
      "Unknown tag \"hardwareInterface\" in /robot[@name='custom_robots']/transmission[@name='indy0_tran4']/actuator[@name='indy0_motor4']\n",
      "Unknown tag \"hardwareInterface\" in /robot[@name='custom_robots']/transmission[@name='indy0_tran5']/actuator[@name='indy0_motor5']\n"
     ]
    },
    {
     "name": "stdout",
     "output_type": "stream",
     "text": [
      "[BEGIN] 20201216-021416 - WORLD-20201216-052332 - SCENE-20201216-052334 - 20201216-052400.json ===============\n",
      "ignore CYLINDER_4_14_2 out of workspace052332 - SCENE-20201216-052334 - 20201216-052400.json - 0 = False / True (10/12)\n",
      "['CYLINDER_12_9_3', 'BOX_7_14_6', 'BOX_3_13_7', 'CYLINDER_1_6_11', 'BOX_4_10_9', 'indy0_link5_Cylinder_0', 'BOX_3_1_6', 'panda1_leftfinger_Cylinder_0', 'BOX_3_11_3', 'CYLINDER_12_11_1', 'BOX_12_7_5', 'panda1_link5_Cylinder_0', 'panda1_link5_Cylinder_1', 'panda1_hand_Cylinder_0', 'CYLINDER_5_12_1', 'CYLINDER_4_3_10', 'BOX_9_9_10', 'BOX_8_12_7', 'BOX_7_10_0', 'CYLINDER_3_8_4', u'BOX_7_10_3', 'BOX_7_10_5', 'panda1_rightfinger_Cylinder_0', 'BOX_9_7_10', 'BOX_9_8_1', 'CYLINDER_10_14_4', 'BOX_11_10_4', 'panda1_link2_Cylinder_0', 'CYLINDER_4_12_8', 'BOX_2_10_11', 'indy0_tcp_Cylinder_2_3', 'CYLINDER_12_8_2', 'BOX_3_8_9', 'indy0_tcp_Cylinder_0_1', 'BOX_3_0_5', 'BOX_8_4_10', 'BOX_11_8_8', 'CYLINDER_11_10_11', 'CYLINDER_5_0_6', 'BOX_0_7_3', 'panda1_link6_Cylinder_1', 'panda1_link6_Cylinder_0', 'CYLINDER_8_13_2', 'panda1_link6_Cylinder_2', 'CYLINDER_5_1_6', 'panda1_link3_Cylinder_0', 'BOX_1_8_11', 'BOX_8_13_2', 'BOX_8_13_6', 'CYLINDER_2_1_3', 'CYLINDER_1_13_8', 'indy0_link2_Cylinder_0_000', 'indy0_link2_Cylinder_0_001', 'BOX_5_4_3', 'BOX_5_4_7', 'indy0_link6_Cylinder_0', 'panda1_link1_Cylinder_0', 'CYLINDER_4_14_10', 'BOX_12_12_5', 'CYLINDER_3_5_9', 'BOX_0_2_8', 'BOX_4_4_9', 'CYLINDER_3_5_1', 'BOX_4_4_6', 'BOX_7_9_12', 'CYLINDER_6_14_1', 'CYLINDER_6_14_3', 'BOX_4_3_3', 'CYLINDER_1_12_8', 'panda1_link0_Cylinder_1', 'panda1_link0_Cylinder_0', 'CYLINDER_13_8_6', 'BOX_0_1_9', 'BOX_0_1_6', 'BOX_7_13_12', 'CYLINDER_4_3_6', 'BOX_10_13_1', 'indy0_link1_Cylinder_0', 'BOX_9_4_7', 'BOX_7_3_7', 'BOX_9_13_5', 'BOX_1_12_5', 'indy0_link3_Cylinder_0', 'indy0_link0_Cylinder_0', 'CYLINDER_6_12_6', 'BOX_5_5_1', 'CYLINDER_9_2_9', 'CYLINDER_6_10_9', 'panda1_link4_Cylinder_0', 'CYLINDER_7_11_9', 'CYLINDER_1_2_8', 'BOX_1_1_4', 'BOX_2_0_0', 'CYLINDER_11_13_5', 'indy0_link4_Cylinder_0', 'CYLINDER_4_9_1', 'BOX_5_10_7', 'CYLINDER_1_12_4', 'indy0_link2_Cylinder_1', 'BOX_8_9_13', 'BOX_8_9_9', 'BOX_0_2_1', 'BOX_5_7_10', 'BOX_9_10_9', 'BOX_10_3_2', 'BOX_10_3_3']\n",
      "scene size: 3375 (15,15,15)\n"
     ]
    },
    {
     "name": "stderr",
     "output_type": "stream",
     "text": [
      "Unknown tag \"hardwareInterface\" in /robot[@name='custom_robots']/transmission[@name='indy0_tran0']/actuator[@name='indy0_motor0']\n",
      "Unknown tag \"hardwareInterface\" in /robot[@name='custom_robots']/transmission[@name='indy0_tran1']/actuator[@name='indy0_motor1']\n",
      "Unknown tag \"hardwareInterface\" in /robot[@name='custom_robots']/transmission[@name='indy0_tran2']/actuator[@name='indy0_motor2']\n",
      "Unknown tag \"hardwareInterface\" in /robot[@name='custom_robots']/transmission[@name='indy0_tran3']/actuator[@name='indy0_motor3']\n",
      "Unknown tag \"hardwareInterface\" in /robot[@name='custom_robots']/transmission[@name='indy0_tran4']/actuator[@name='indy0_motor4']\n",
      "Unknown tag \"hardwareInterface\" in /robot[@name='custom_robots']/transmission[@name='indy0_tran5']/actuator[@name='indy0_motor5']\n"
     ]
    },
    {
     "name": "stdout",
     "output_type": "stream",
     "text": [
      "[BEGIN] 20201216-021416 - WORLD-20201216-052332 - SCENE-20201216-052334 - 20201216-052400.json ===============\n",
      "ignore BOX_7_10_3 out of workspace1216-052332 - SCENE-20201216-052334 - 20201216-052400.json - 0 = False / True (11/12)\n",
      "ignore CYLINDER_4_14_2 out of workspace\n",
      "['CYLINDER_12_9_3', 'BOX_7_14_6', 'BOX_3_13_7', 'CYLINDER_1_6_11', 'BOX_4_10_9', 'indy0_link5_Cylinder_0', 'BOX_3_1_6', 'panda1_leftfinger_Cylinder_0', 'BOX_3_11_3', 'CYLINDER_12_11_1', 'BOX_12_7_5', 'panda1_link5_Cylinder_0', 'panda1_link5_Cylinder_1', 'panda1_hand_Cylinder_0', 'CYLINDER_5_12_1', 'CYLINDER_4_3_10', 'BOX_9_9_10', 'BOX_8_12_7', 'BOX_7_10_0', 'CYLINDER_3_8_4', 'BOX_7_10_5', 'panda1_rightfinger_Cylinder_0', 'BOX_9_7_10', 'BOX_9_8_1', 'CYLINDER_10_14_4', 'BOX_11_10_4', 'panda1_link2_Cylinder_0', 'CYLINDER_4_12_8', 'BOX_2_10_11', 'indy0_tcp_Cylinder_2_3', 'CYLINDER_12_8_2', 'BOX_3_8_9', 'indy0_tcp_Cylinder_0_1', 'BOX_3_0_5', 'BOX_8_4_10', 'BOX_11_8_8', 'CYLINDER_11_10_11', 'CYLINDER_5_0_6', 'BOX_0_7_3', 'panda1_link6_Cylinder_1', 'panda1_link6_Cylinder_0', 'CYLINDER_8_13_2', 'panda1_link6_Cylinder_2', 'CYLINDER_5_1_6', 'panda1_link3_Cylinder_0', 'BOX_1_8_11', 'BOX_8_13_2', 'BOX_8_13_6', 'CYLINDER_2_1_3', 'CYLINDER_1_13_8', 'indy0_link2_Cylinder_0_000', 'indy0_link2_Cylinder_0_001', 'BOX_5_4_3', 'BOX_5_4_7', 'indy0_link6_Cylinder_0', 'panda1_link1_Cylinder_0', 'CYLINDER_4_14_10', 'BOX_12_12_5', 'CYLINDER_3_5_9', 'BOX_0_2_8', 'BOX_4_4_9', 'CYLINDER_3_5_1', 'BOX_4_4_6', 'BOX_7_9_12', 'CYLINDER_6_14_1', 'CYLINDER_6_14_3', 'BOX_4_3_3', 'CYLINDER_1_12_8', 'panda1_link0_Cylinder_1', 'panda1_link0_Cylinder_0', 'CYLINDER_13_8_6', 'BOX_0_1_9', 'BOX_0_1_6', 'BOX_7_13_12', 'CYLINDER_4_3_6', 'BOX_10_13_1', 'indy0_link1_Cylinder_0', 'BOX_9_4_7', 'BOX_7_3_7', 'BOX_9_13_5', 'BOX_1_12_5', 'indy0_link3_Cylinder_0', 'indy0_link0_Cylinder_0', 'CYLINDER_6_12_6', 'BOX_5_5_1', 'CYLINDER_9_2_9', 'CYLINDER_6_10_9', 'panda1_link4_Cylinder_0', 'CYLINDER_7_11_9', 'CYLINDER_1_2_8', 'BOX_1_1_4', 'BOX_2_0_0', 'CYLINDER_11_13_5', 'indy0_link4_Cylinder_0', 'CYLINDER_4_9_1', 'BOX_5_10_7', 'CYLINDER_1_12_4', 'indy0_link2_Cylinder_1', 'BOX_8_9_13', 'BOX_8_9_9', 'BOX_0_2_1', 'BOX_5_7_10', 'BOX_9_10_9', 'BOX_10_3_2', 'BOX_10_3_3']\n"
     ]
    }
   ],
   "source": [
    "TEST_OFFSET_X_LIST = np.arange(-1.5,-1.5+0.3*12-0.1,0.3)\n",
    "N_test = len(TEST_OFFSET_X_LIST)\n",
    "TEST_OFFSET_RES_LIST = []\n",
    "for i_test, TEST_OFFSET_X in enumerate(TEST_OFFSET_X_LIST):\n",
    "    SAMPLED_DATA = defaultdict(dict)\n",
    "    MODEL_OFFSET_TEST = (1.5,1.5,0.75)\n",
    "\n",
    "    #  GLOBAL\n",
    "    CURRENT_PATH = os.path.join(DATA_PATH, DATASET)\n",
    "\n",
    "    ## Load global params\n",
    "    GLOBAL_PARAMS = load_json(os.path.join(CURRENT_PATH, GLOBAL_FILENAME))\n",
    "    WDH = GLOBAL_PARAMS[\"WDH\"]\n",
    "    L_CELL = GLOBAL_PARAMS[\"L_CELL\"]\n",
    "    RATIO_DIMS = GLOBAL_PARAMS[\"RATIO_DIMS\"]\n",
    "    REACH_OFFSET_DICT = GLOBAL_PARAMS[\"REACH_OFFSET_DICT\"]\n",
    "    GRIPPER_REFS = GLOBAL_PARAMS[\"GRIPPER_REFS\"]\n",
    "    BASE_LINK = GLOBAL_PARAMS[\"BASE_LINK\"]\n",
    "    S_F_RATIO = GLOBAL_PARAMS[\"S_F_RATIO\"]\n",
    "    TIMEOUT = GLOBAL_PARAMS[\"TIMEOUT\"]\n",
    "\n",
    "    CENTER = tuple(np.divide(WDH, 2, dtype=np.float))\n",
    "    Ws, Ds, Hs = WDH\n",
    "    Nw, Nd, Nh = Nwdh = int(Ws / L_CELL), int(Ds / L_CELL), int(Hs / L_CELL)\n",
    "    L_MAX = L_CELL * RATIO_DIMS\n",
    "    print(\"scene size: {} ({},{},{})\".format(Nw * Nd * Nh, Nw, Nd, Nh))\n",
    "\n",
    "    # WORLD\n",
    "    WORLD_PATH = os.path.join(CURRENT_PATH, WORLD)\n",
    "    SAMPLED_DATA[\"WORLD\"] = load_json(os.path.join(WORLD_PATH, WORLD_FILENAME))\n",
    "    Trbt_dict = SAMPLED_DATA[\"WORLD\"][\"Trbt_dict\"]\n",
    "    for rkey in Trbt_dict:\n",
    "        Trbt_dict[rkey][0] = np.subtract(Trbt_dict[rkey][0], MODEL_OFFSET_TEST)\n",
    "    reach_center_dict = {k: tuple(np.add(v[0], REACH_OFFSET_DICT[k])) for k, v in Trbt_dict.items()}\n",
    "\n",
    "    cam = None\n",
    "    # set urdf\n",
    "    xcustom, JOINT_NAMES, LINK_NAMES, urdf_content = set_custom_robots(crob.robots_on_scene, Trbt_dict,\n",
    "                                                                       crob.custom_limits, start_rviz=VISUALIZE)\n",
    "    ghnd = GeometryHandle(urdf_content)\n",
    "    if VISUALIZE: time.sleep(2)\n",
    "\n",
    "    # set graph\n",
    "    graph = ConstraintGraph(ghnd=ghnd, urdf_path=URDF_PATH, joint_names=JOINT_NAMES, link_names=LINK_NAMES,\n",
    "                            urdf_content=urdf_content, combined_robot=crob)\n",
    "    graph.set_camera(cam)\n",
    "    graph.set_cam_robot_collision(_add_cam_poles=False, color=(1, 1, 0, 0.3))\n",
    "    if VISUALIZE: graph.set_rviz()\n",
    "\n",
    "    # start UI\n",
    "    ui_broker = UIBroker.instance()\n",
    "    ui_broker.initialize(graph)\n",
    "    ui_broker.start_server()\n",
    "\n",
    "    # set rviz\n",
    "    if VISUALIZE: graph.set_rviz(crob.home_pose)\n",
    "    ui_broker.set_tables()\n",
    "\n",
    "    for gripper in GRIPPER_REFS.values():\n",
    "        graph.register_binder(name=gripper['bname'], _type=FramedTool, point=gripper['tcp_ref'], rpy=[0, 0, 0],\n",
    "                              link_name=gripper['link_name'])\n",
    "    graph.register_binder(name='base', _type=PlaceFrame, point=[0, 0, 0], rpy=[0, 0, 0], link_name=BASE_LINK)\n",
    "    vtem = graph.ghnd.create_safe(name=\"virtual\", gtype=GEOTYPE.SPHERE, link_name=BASE_LINK,\n",
    "                                  dims=(0, 0, 0), center=(0, 0, 0), rpy=(0, 0, 0), collision=False, display=False\n",
    "                                  )\n",
    "    graph.add_object(\"virtual\",\n",
    "                     SingleHandleObject(_object=vtem,\n",
    "                                        action_point=FramePoint(name=\"point\", _object=vtem, point=(0, 0, 0),\n",
    "                                                                rpy=(0, 0, 0), name_full=None)),\n",
    "                     binding=(\"point\", \"base\"))\n",
    "\n",
    "    obj_list = []\n",
    "    col_obj_list = []\n",
    "\n",
    "    # SCENE\n",
    "    SCENE_PATH = os.path.join(WORLD_PATH, SCENE)\n",
    "    SAMPLED_DATA[\"SCENE\"] = load_json(os.path.join(SCENE_PATH, SCENE_FILENAME))\n",
    "    Q_s = np.array(SAMPLED_DATA[\"SCENE\"][\"Q_s\"])\n",
    "    Q_s, links, link_verts, link_ctems, link_rads = sample_joint(graph, Q_s_loaded=Q_s)\n",
    "    Q_s_dict = SAMPLED_DATA[\"SCENE\"][\"Q_s_dict\"]\n",
    "    obj_dat = SAMPLED_DATA[\"SCENE\"][\"obj_dat\"]\n",
    "\n",
    "    if VISUALIZE:\n",
    "        graph.show_pose(Q_s)\n",
    "        time.sleep(1)\n",
    "        graph.show_pose(Q_s)\n",
    "        time.sleep(1)\n",
    "        graph.show_pose(Q_s)\n",
    "    for obj in obj_list: graph.remove_geometry(obj)\n",
    "    for odat in obj_dat:\n",
    "        nbox, gtype, dims, color, center, rpy = odat[\"nbox\"], getattr(GEOTYPE, odat[\"gtype\"]), odat[\"dims\"], \\\n",
    "                                                odat[\"color\"], odat[\"center\"], odat[\"rpy\"]\n",
    "        center = np.subtract(center, MODEL_OFFSET_TEST)\n",
    "        obj = graph.ghnd.create_safe(\n",
    "            name=\"{}_{}_{}_{}\".format(gtype.name, *nbox), link_name=BASE_LINK, gtype=gtype,\n",
    "            center=center, rpy=rpy, dims=dims, color=color, display=True, collision=True, fixed=True)\n",
    "        obj_list.append(obj)\n",
    "        graph.add_marker(obj, vis=VISUALIZE)\n",
    "\n",
    "    for obj in col_obj_list: graph.remove_geometry(obj)\n",
    "\n",
    "    if VISUALIZE: graph.set_rviz()\n",
    "    dcol = DataCollector(graph, GRIPPER_REFS, S_F_RATIO=S_F_RATIO)\n",
    "    if VISUALIZE: graph.set_rviz()\n",
    "\n",
    "    # ACTION\n",
    "    print(\"[BEGIN] {} - {} - {} - {} ===============\".format(DATASET, WORLD, SCENE, ACTION))\n",
    "    snode_dict_bak = {int(k): v for k, v in load_json(os.path.join(SCENE_PATH, ACTION)).items()}\n",
    "    dcol.snode_dict = dcol.manager.dict()\n",
    "    for k, v in snode_dict_bak.items():\n",
    "        dcol.snode_dict[k] = deepcopy(v)\n",
    "    snode_keys = sorted(snode_dict_bak.keys())\n",
    "\n",
    "    if i_act not in snode_keys:\n",
    "        raise(RuntimeError(\"i_act not in snode_keys\"))\n",
    "\n",
    "    # snode\n",
    "    snode = dcol.snode_dict[i_act]\n",
    "    rname, inhand, obj, tar, dims_bak, color_bak, succ, _ = load_manipulation_from_dict(snode,\n",
    "                                                                                        graph.ghnd)\n",
    "    for gtem in [inhand, obj]:\n",
    "        if gtem.link_name == BASE_LINK:\n",
    "            gtem.set_offset_tf(center=np.subtract(gtem.center, MODEL_OFFSET_TEST))\n",
    "            gtem.set_offset_tf(center=np.subtract(gtem.center, (TEST_OFFSET_X,0,0)))\n",
    "\n",
    "    # action type\n",
    "    if rname and tar:  # handover case\n",
    "        action_type = \"HANDOVER\"\n",
    "    elif inhand.collision:  # place case\n",
    "        action_type = \"PLACE\"\n",
    "    elif obj.collision:  # pick case\n",
    "        action_type = \"PICK\"\n",
    "    else:\n",
    "        raise (RuntimeError(\"non-implemented case\"))\n",
    "\n",
    "    # planners\n",
    "    if action_type == \"HANDOVER\":\n",
    "        dual_mplan_dict = get_dual_planner_dict(GRIPPER_REFS, graph.ghnd, graph.urdf_content, graph.urdf_path,\n",
    "                                                graph.link_names, graph.combined_robot.robot_names)\n",
    "    else:\n",
    "        mplan = MoveitPlanner(joint_names=graph.joint_names, link_names=graph.link_names, urdf_path=graph.urdf_path,\n",
    "                              urdf_content=graph.urdf_content,\n",
    "                              robot_names=graph.combined_robot.robot_names,\n",
    "                              binder_links=[v.object.link_name for v in graph.binder_dict.values()],\n",
    "                              ghnd=graph.ghnd)\n",
    "\n",
    "    # plan\n",
    "    if rname and tar:  # handover case\n",
    "        remove_map = [[], [0, 1]]\n",
    "        action_type = \"HANDOVER\"\n",
    "        trajectory, Q_last, error, success_now = test_handover(graph, GRIPPER_REFS, rname, inhand,\n",
    "                                                               obj, tar, Q_s,\n",
    "                                                               dual_mplan_dict[(rname, tar)], timeout=TIMEOUT)\n",
    "        state_s, state_g = get_handover_states(graph, GRIPPER_REFS, rname, inhand, obj, tar, Q_s)\n",
    "    elif inhand.collision:  # place case\n",
    "        remove_map = [[], [0, 1]]\n",
    "        action_type = \"PLACE\"\n",
    "        trajectory, Q_last, error, success_now = test_place(graph, GRIPPER_REFS, rname, inhand, obj,\n",
    "                                                            tar, Q_s, mplan, timeout=TIMEOUT)\n",
    "        state_s, state_g = get_place_states(graph, GRIPPER_REFS, rname, inhand, obj, tar, Q_s)\n",
    "    elif obj.collision:  # pick case\n",
    "        remove_map = [[1], [0]]\n",
    "        action_type = \"PICK\"\n",
    "        trajectory, Q_last, error, success_now = test_pick(graph, GRIPPER_REFS, rname, inhand, obj,\n",
    "                                                           tar, Q_s, mplan, timeout=TIMEOUT)\n",
    "        state_s, state_g = get_pick_states(graph, GRIPPER_REFS, rname, inhand, obj, tar, Q_s)\n",
    "    else:\n",
    "        remove_map = [[], [0,1]]\n",
    "        action_type = \"None\"\n",
    "        raise (RuntimeError(\"non-implemented case\"))\n",
    "\n",
    "    if VISUALIZE:\n",
    "        show_manip_coords(graph, GRIPPER_REFS, action_type, rname, inhand, obj, rname2=tar)\n",
    "#         graph.show_motion(trajectory, period=0.1)\n",
    "\n",
    "    print(\"[END] {} - {} - {} - {} - {} = {} / {} ({}/{})\".format(DATASET, WORLD, SCENE, ACTION, i_act, success_now, succ, i_test, N_test), end='\\r')\n",
    "    TEST_OFFSET_RES_LIST.append(success_now)\n",
    "    \n",
    "    # convert_send scene\n",
    "    gtimer.reset()\n",
    "    gtimer.tic(\"convert_workspace\")\n",
    "    ghnd_new= graph.convert_workspace(ghnd)\n",
    "    gtimer.toc(\"convert_workspace\")\n",
    "\n",
    "    ## remove bases\n",
    "    exclude_list = [\"floor\", \"wall\", \"cam\"]\n",
    "    gkeys = sorted(ghnd_new.NAME_DICT.keys())\n",
    "    for gname in gkeys:\n",
    "        gtem = ghnd_new.NAME_DICT[gname]\n",
    "        if np.any([ename in gtem.name for ename in exclude_list]):\n",
    "            ghnd_new.remove(gtem)\n",
    "    graph.object_list=[]\n",
    "    from_state = state_s\n",
    "    to_state = state_g\n",
    "    gtimer.tic(\"convert_scene\")\n",
    "    scene_base_data, ctem_names, ctem_cells, chain_dict = graph.convert_scene(ghnd_new, state=from_state, only_base=False)\n",
    "    gtimer.toc(\"convert_scene\")\n",
    "    gtimer.tic(\"copy_scene_base_data\")\n",
    "    scene_base_batch_p[i_test] = scene_base_data\n",
    "    gtimer.toc(\"copy_scene_base_data\")\n",
    "    print(ghnd_new.NAME_DICT.keys())\n",
    "\n",
    "    # convert_send action\n",
    "    from pkg.planner.moveit.moveit_planner import MoveitPlanner\n",
    "    mplan = MoveitPlanner(joint_names=graph.joint_names, link_names=graph.link_names, urdf_path=graph.urdf_path, urdf_content=graph.urdf_content,\n",
    "                          robot_names=graph.combined_robot.robot_names, binder_links=[v.object.link_name for v in graph.binder_dict.values()], ghnd=graph.ghnd)\n",
    "    graph.set_planner(mplan)\n",
    "    from pkg.sampler.object_a_star import *\n",
    "    sampler = ObjectAstarSampler(graph)\n",
    "    graph.set_sampler(sampler)\n",
    "    sampler.build_graph()\n",
    "\n",
    "    state = from_state\n",
    "    leaf = sampler.node_dict[state.onode][0]\n",
    "    Q_dict = list2dict(state.Q, graph.joint_names)\n",
    "\n",
    "    gtimer.reset()\n",
    "    cell_init_b, verts_init_b, chain_init_b, cell_goal_b, verts_goal_b, chain_goal_b = [], [], [], [], [], []\n",
    "    gtimer.tic(\"get_action_boxes\")\n",
    "    cell_init, verts_init, chain_init, cell_goal, verts_goal, chain_goal = get_action_boxes(\n",
    "        graph, from_state, to_state, {}, mplan=mplan, L_CELL=0.2, Nwdh=(15,15,15), BASE_LINK='base_link')\n",
    "    gtimer.toc(\"get_action_boxes\")\n",
    "\n",
    "    cell_init_p[i_test,:] = cell_init\n",
    "    verts_init_p[i_test,:] = verts_init\n",
    "    chain_init_p[i_test,:] = chain_init\n",
    "    cell_goal_p[i_test,:] = cell_goal\n",
    "    verts_goal_p[i_test,:] = verts_goal\n",
    "    chain_goal_p[i_test,:] = chain_goal\n",
    "if VISUALIZE: graph.show_pose(Q_s)"
   ]
  },
  {
   "cell_type": "code",
   "execution_count": 77,
   "metadata": {},
   "outputs": [
    {
     "data": {
      "text/plain": [
       "[<matplotlib.lines.Line2D at 0x7f4922f8e5d0>]"
      ]
     },
     "execution_count": 77,
     "metadata": {},
     "output_type": "execute_result"
    },
    {
     "data": {
      "image/png": "[encoded data removed]",
      "text/plain": [
       "<Figure size 432x288 with 1 Axes>"
      ]
     },
     "metadata": {
      "needs_background": "light"
     },
     "output_type": "display_data"
    }
   ],
   "source": [
    "plt.plot(TEST_OFFSET_X_LIST, np.array(TEST_OFFSET_RES_LIST), '-o')"
   ]
  },
  {
   "cell_type": "code",
   "execution_count": 78,
   "metadata": {},
   "outputs": [
    {
     "data": {
      "text/plain": [
       "<matplotlib.legend.Legend at 0x7f4921e96710>"
      ]
     },
     "execution_count": 78,
     "metadata": {},
     "output_type": "execute_result"
    },
    {
     "data": {
      "image/png": "[encoded data removed]",
      "text/plain": [
       "<Figure size 504x216 with 1 Axes>"
      ]
     },
     "metadata": {
      "needs_background": "light"
     },
     "output_type": "display_data"
    }
   ],
   "source": [
    "plt.figure(figsize=(7,3))\n",
    "plt.plot(TEST_OFFSET_X_LIST, np.array(TEST_OFFSET_RES_LIST), '-o')\n",
    "plt.plot(TEST_OFFSET_X_LIST, np.array(result_p), '-o')\n",
    "plt.grid(True)\n",
    "plt.legend([\"GT\", \"Prediction\"])"
   ]
  },
  {
   "cell_type": "code",
   "execution_count": null,
   "metadata": {},
   "outputs": [],
   "source": []
  },
  {
   "cell_type": "markdown",
   "metadata": {},
   "source": [
    "## test orientation offset"
   ]
  },
  {
   "cell_type": "code",
   "execution_count": 85,
   "metadata": {
    "scrolled": true
   },
   "outputs": [
    {
     "name": "stdout",
     "output_type": "stream",
     "text": [
      "scene size: 3375 (15,15,15)\n"
     ]
    },
    {
     "name": "stderr",
     "output_type": "stream",
     "text": [
      "Unknown tag \"hardwareInterface\" in /robot[@name='custom_robots']/transmission[@name='indy0_tran0']/actuator[@name='indy0_motor0']\n",
      "Unknown tag \"hardwareInterface\" in /robot[@name='custom_robots']/transmission[@name='indy0_tran1']/actuator[@name='indy0_motor1']\n",
      "Unknown tag \"hardwareInterface\" in /robot[@name='custom_robots']/transmission[@name='indy0_tran2']/actuator[@name='indy0_motor2']\n",
      "Unknown tag \"hardwareInterface\" in /robot[@name='custom_robots']/transmission[@name='indy0_tran3']/actuator[@name='indy0_motor3']\n",
      "Unknown tag \"hardwareInterface\" in /robot[@name='custom_robots']/transmission[@name='indy0_tran4']/actuator[@name='indy0_motor4']\n",
      "Unknown tag \"hardwareInterface\" in /robot[@name='custom_robots']/transmission[@name='indy0_tran5']/actuator[@name='indy0_motor5']\n"
     ]
    },
    {
     "name": "stdout",
     "output_type": "stream",
     "text": [
      "[BEGIN] 20201216-021416 - WORLD-20201216-052332 - SCENE-20201216-052334 - 20201216-052400.json ===============\n",
      "ignore CYLINDER_4_14_2 out of workspace052332 - SCENE-20201216-052334 - 20201216-052400.json - 0 = False / True (0/12)\n",
      "['CYLINDER_12_9_3', 'BOX_7_14_6', 'BOX_3_13_7', 'CYLINDER_1_6_11', 'BOX_4_10_9', 'indy0_link5_Cylinder_0', 'BOX_3_1_6', 'panda1_leftfinger_Cylinder_0', 'BOX_3_11_3', 'CYLINDER_12_11_1', 'BOX_12_7_5', 'panda1_link5_Cylinder_0', 'panda1_link5_Cylinder_1', 'panda1_hand_Cylinder_0', 'CYLINDER_5_12_1', 'CYLINDER_4_3_10', 'BOX_9_9_10', 'BOX_8_12_7', 'BOX_7_10_0', 'CYLINDER_3_8_4', u'BOX_7_10_3', 'BOX_7_10_5', 'panda1_rightfinger_Cylinder_0', 'BOX_9_7_10', 'BOX_9_8_1', 'CYLINDER_10_14_4', 'BOX_11_10_4', 'panda1_link2_Cylinder_0', 'CYLINDER_4_12_8', 'BOX_2_10_11', 'indy0_tcp_Cylinder_2_3', 'CYLINDER_12_8_2', 'BOX_3_8_9', 'indy0_tcp_Cylinder_0_1', 'BOX_3_0_5', 'BOX_8_4_10', 'BOX_11_8_8', 'CYLINDER_11_10_11', 'CYLINDER_5_0_6', 'BOX_0_7_3', 'panda1_link6_Cylinder_1', 'panda1_link6_Cylinder_0', 'CYLINDER_8_13_2', 'panda1_link6_Cylinder_2', 'CYLINDER_5_1_6', 'panda1_link3_Cylinder_0', 'BOX_1_8_11', 'BOX_8_13_2', 'BOX_8_13_6', 'CYLINDER_2_1_3', 'CYLINDER_1_13_8', 'indy0_link2_Cylinder_0_000', 'indy0_link2_Cylinder_0_001', 'BOX_5_4_3', 'BOX_5_4_7', 'indy0_link6_Cylinder_0', 'panda1_link1_Cylinder_0', 'CYLINDER_4_14_10', 'BOX_12_12_5', 'CYLINDER_3_5_9', 'BOX_0_2_8', 'BOX_4_4_9', 'CYLINDER_3_5_1', 'BOX_4_4_6', 'BOX_7_9_12', 'CYLINDER_6_14_1', 'CYLINDER_6_14_3', 'BOX_4_3_3', 'CYLINDER_1_12_8', 'panda1_link0_Cylinder_1', 'panda1_link0_Cylinder_0', 'CYLINDER_13_8_6', 'BOX_0_1_9', 'BOX_0_1_6', 'BOX_7_13_12', 'CYLINDER_4_3_6', 'BOX_10_13_1', 'indy0_link1_Cylinder_0', 'BOX_9_4_7', 'BOX_7_3_7', 'BOX_9_13_5', 'BOX_1_12_5', 'indy0_link3_Cylinder_0', 'indy0_link0_Cylinder_0', 'CYLINDER_6_12_6', 'BOX_5_5_1', 'CYLINDER_9_2_9', 'CYLINDER_6_10_9', 'panda1_link4_Cylinder_0', 'CYLINDER_7_11_9', 'CYLINDER_1_2_8', 'BOX_1_1_4', 'BOX_2_0_0', 'CYLINDER_11_13_5', 'indy0_link4_Cylinder_0', 'CYLINDER_4_9_1', 'BOX_5_10_7', 'CYLINDER_1_12_4', 'indy0_link2_Cylinder_1', 'BOX_8_9_13', 'BOX_8_9_9', 'BOX_0_2_1', 'BOX_5_7_10', 'BOX_9_10_9', 'BOX_10_3_2', 'BOX_10_3_3']\n",
      "scene size: 3375 (15,15,15)\n"
     ]
    },
    {
     "name": "stderr",
     "output_type": "stream",
     "text": [
      "Unknown tag \"hardwareInterface\" in /robot[@name='custom_robots']/transmission[@name='indy0_tran0']/actuator[@name='indy0_motor0']\n",
      "Unknown tag \"hardwareInterface\" in /robot[@name='custom_robots']/transmission[@name='indy0_tran1']/actuator[@name='indy0_motor1']\n",
      "Unknown tag \"hardwareInterface\" in /robot[@name='custom_robots']/transmission[@name='indy0_tran2']/actuator[@name='indy0_motor2']\n",
      "Unknown tag \"hardwareInterface\" in /robot[@name='custom_robots']/transmission[@name='indy0_tran3']/actuator[@name='indy0_motor3']\n",
      "Unknown tag \"hardwareInterface\" in /robot[@name='custom_robots']/transmission[@name='indy0_tran4']/actuator[@name='indy0_motor4']\n",
      "Unknown tag \"hardwareInterface\" in /robot[@name='custom_robots']/transmission[@name='indy0_tran5']/actuator[@name='indy0_motor5']\n"
     ]
    },
    {
     "name": "stdout",
     "output_type": "stream",
     "text": [
      "[BEGIN] 20201216-021416 - WORLD-20201216-052332 - SCENE-20201216-052334 - 20201216-052400.json ===============\n",
      "ignore CYLINDER_4_14_2 out of workspace052332 - SCENE-20201216-052334 - 20201216-052400.json - 0 = False / True (1/12)\n",
      "['CYLINDER_12_9_3', 'BOX_7_14_6', 'BOX_3_13_7', 'CYLINDER_1_6_11', 'BOX_4_10_9', 'indy0_link5_Cylinder_0', 'BOX_3_1_6', 'panda1_leftfinger_Cylinder_0', 'BOX_3_11_3', 'CYLINDER_12_11_1', 'BOX_12_7_5', 'panda1_link5_Cylinder_0', 'panda1_link5_Cylinder_1', 'panda1_hand_Cylinder_0', 'CYLINDER_5_12_1', 'CYLINDER_4_3_10', 'BOX_9_9_10', 'BOX_8_12_7', 'BOX_7_10_0', 'CYLINDER_3_8_4', u'BOX_7_10_3', 'BOX_7_10_5', 'panda1_rightfinger_Cylinder_0', 'BOX_9_7_10', 'BOX_9_8_1', 'CYLINDER_10_14_4', 'BOX_11_10_4', 'panda1_link2_Cylinder_0', 'CYLINDER_4_12_8', 'BOX_2_10_11', 'indy0_tcp_Cylinder_2_3', 'CYLINDER_12_8_2', 'BOX_3_8_9', 'indy0_tcp_Cylinder_0_1', 'BOX_3_0_5', 'BOX_8_4_10', 'BOX_11_8_8', 'CYLINDER_11_10_11', 'CYLINDER_5_0_6', 'BOX_0_7_3', 'panda1_link6_Cylinder_1', 'panda1_link6_Cylinder_0', 'CYLINDER_8_13_2', 'panda1_link6_Cylinder_2', 'CYLINDER_5_1_6', 'panda1_link3_Cylinder_0', 'BOX_1_8_11', 'BOX_8_13_2', 'BOX_8_13_6', 'CYLINDER_2_1_3', 'CYLINDER_1_13_8', 'indy0_link2_Cylinder_0_000', 'indy0_link2_Cylinder_0_001', 'BOX_5_4_3', 'BOX_5_4_7', 'indy0_link6_Cylinder_0', 'panda1_link1_Cylinder_0', 'CYLINDER_4_14_10', 'BOX_12_12_5', 'CYLINDER_3_5_9', 'BOX_0_2_8', 'BOX_4_4_9', 'CYLINDER_3_5_1', 'BOX_4_4_6', 'BOX_7_9_12', 'CYLINDER_6_14_1', 'CYLINDER_6_14_3', 'BOX_4_3_3', 'CYLINDER_1_12_8', 'panda1_link0_Cylinder_1', 'panda1_link0_Cylinder_0', 'CYLINDER_13_8_6', 'BOX_0_1_9', 'BOX_0_1_6', 'BOX_7_13_12', 'CYLINDER_4_3_6', 'BOX_10_13_1', 'indy0_link1_Cylinder_0', 'BOX_9_4_7', 'BOX_7_3_7', 'BOX_9_13_5', 'BOX_1_12_5', 'indy0_link3_Cylinder_0', 'indy0_link0_Cylinder_0', 'CYLINDER_6_12_6', 'BOX_5_5_1', 'CYLINDER_9_2_9', 'CYLINDER_6_10_9', 'panda1_link4_Cylinder_0', 'CYLINDER_7_11_9', 'CYLINDER_1_2_8', 'BOX_1_1_4', 'BOX_2_0_0', 'CYLINDER_11_13_5', 'indy0_link4_Cylinder_0', 'CYLINDER_4_9_1', 'BOX_5_10_7', 'CYLINDER_1_12_4', 'indy0_link2_Cylinder_1', 'BOX_8_9_13', 'BOX_8_9_9', 'BOX_0_2_1', 'BOX_5_7_10', 'BOX_9_10_9', 'BOX_10_3_2', 'BOX_10_3_3']\n",
      "scene size: 3375 (15,15,15)\n"
     ]
    },
    {
     "name": "stderr",
     "output_type": "stream",
     "text": [
      "Unknown tag \"hardwareInterface\" in /robot[@name='custom_robots']/transmission[@name='indy0_tran0']/actuator[@name='indy0_motor0']\n",
      "Unknown tag \"hardwareInterface\" in /robot[@name='custom_robots']/transmission[@name='indy0_tran1']/actuator[@name='indy0_motor1']\n",
      "Unknown tag \"hardwareInterface\" in /robot[@name='custom_robots']/transmission[@name='indy0_tran2']/actuator[@name='indy0_motor2']\n",
      "Unknown tag \"hardwareInterface\" in /robot[@name='custom_robots']/transmission[@name='indy0_tran3']/actuator[@name='indy0_motor3']\n",
      "Unknown tag \"hardwareInterface\" in /robot[@name='custom_robots']/transmission[@name='indy0_tran4']/actuator[@name='indy0_motor4']\n",
      "Unknown tag \"hardwareInterface\" in /robot[@name='custom_robots']/transmission[@name='indy0_tran5']/actuator[@name='indy0_motor5']\n"
     ]
    },
    {
     "name": "stdout",
     "output_type": "stream",
     "text": [
      "[BEGIN] 20201216-021416 - WORLD-20201216-052332 - SCENE-20201216-052334 - 20201216-052400.json ===============\n",
      "ignore CYLINDER_4_14_2 out of workspace052332 - SCENE-20201216-052334 - 20201216-052400.json - 0 = False / True (2/12)\n",
      "['CYLINDER_12_9_3', 'BOX_7_14_6', 'BOX_3_13_7', 'CYLINDER_1_6_11', 'BOX_4_10_9', 'indy0_link5_Cylinder_0', 'BOX_3_1_6', 'panda1_leftfinger_Cylinder_0', 'BOX_3_11_3', 'CYLINDER_12_11_1', 'BOX_12_7_5', 'panda1_link5_Cylinder_0', 'panda1_link5_Cylinder_1', 'panda1_hand_Cylinder_0', 'CYLINDER_5_12_1', 'CYLINDER_4_3_10', 'BOX_9_9_10', 'BOX_8_12_7', 'BOX_7_10_0', 'CYLINDER_3_8_4', u'BOX_7_10_3', 'BOX_7_10_5', 'panda1_rightfinger_Cylinder_0', 'BOX_9_7_10', 'BOX_9_8_1', 'CYLINDER_10_14_4', 'BOX_11_10_4', 'panda1_link2_Cylinder_0', 'CYLINDER_4_12_8', 'BOX_2_10_11', 'indy0_tcp_Cylinder_2_3', 'CYLINDER_12_8_2', 'BOX_3_8_9', 'indy0_tcp_Cylinder_0_1', 'BOX_3_0_5', 'BOX_8_4_10', 'BOX_11_8_8', 'CYLINDER_11_10_11', 'CYLINDER_5_0_6', 'BOX_0_7_3', 'panda1_link6_Cylinder_1', 'panda1_link6_Cylinder_0', 'CYLINDER_8_13_2', 'panda1_link6_Cylinder_2', 'CYLINDER_5_1_6', 'panda1_link3_Cylinder_0', 'BOX_1_8_11', 'BOX_8_13_2', 'BOX_8_13_6', 'CYLINDER_2_1_3', 'CYLINDER_1_13_8', 'indy0_link2_Cylinder_0_000', 'indy0_link2_Cylinder_0_001', 'BOX_5_4_3', 'BOX_5_4_7', 'indy0_link6_Cylinder_0', 'panda1_link1_Cylinder_0', 'CYLINDER_4_14_10', 'BOX_12_12_5', 'CYLINDER_3_5_9', 'BOX_0_2_8', 'BOX_4_4_9', 'CYLINDER_3_5_1', 'BOX_4_4_6', 'BOX_7_9_12', 'CYLINDER_6_14_1', 'CYLINDER_6_14_3', 'BOX_4_3_3', 'CYLINDER_1_12_8', 'panda1_link0_Cylinder_1', 'panda1_link0_Cylinder_0', 'CYLINDER_13_8_6', 'BOX_0_1_9', 'BOX_0_1_6', 'BOX_7_13_12', 'CYLINDER_4_3_6', 'BOX_10_13_1', 'indy0_link1_Cylinder_0', 'BOX_9_4_7', 'BOX_7_3_7', 'BOX_9_13_5', 'BOX_1_12_5', 'indy0_link3_Cylinder_0', 'indy0_link0_Cylinder_0', 'CYLINDER_6_12_6', 'BOX_5_5_1', 'CYLINDER_9_2_9', 'CYLINDER_6_10_9', 'panda1_link4_Cylinder_0', 'CYLINDER_7_11_9', 'CYLINDER_1_2_8', 'BOX_1_1_4', 'BOX_2_0_0', 'CYLINDER_11_13_5', 'indy0_link4_Cylinder_0', 'CYLINDER_4_9_1', 'BOX_5_10_7', 'CYLINDER_1_12_4', 'indy0_link2_Cylinder_1', 'BOX_8_9_13', 'BOX_8_9_9', 'BOX_0_2_1', 'BOX_5_7_10', 'BOX_9_10_9', 'BOX_10_3_2', 'BOX_10_3_3']\n",
      "scene size: 3375 (15,15,15)\n"
     ]
    },
    {
     "name": "stderr",
     "output_type": "stream",
     "text": [
      "Unknown tag \"hardwareInterface\" in /robot[@name='custom_robots']/transmission[@name='indy0_tran0']/actuator[@name='indy0_motor0']\n",
      "Unknown tag \"hardwareInterface\" in /robot[@name='custom_robots']/transmission[@name='indy0_tran1']/actuator[@name='indy0_motor1']\n",
      "Unknown tag \"hardwareInterface\" in /robot[@name='custom_robots']/transmission[@name='indy0_tran2']/actuator[@name='indy0_motor2']\n",
      "Unknown tag \"hardwareInterface\" in /robot[@name='custom_robots']/transmission[@name='indy0_tran3']/actuator[@name='indy0_motor3']\n",
      "Unknown tag \"hardwareInterface\" in /robot[@name='custom_robots']/transmission[@name='indy0_tran4']/actuator[@name='indy0_motor4']\n",
      "Unknown tag \"hardwareInterface\" in /robot[@name='custom_robots']/transmission[@name='indy0_tran5']/actuator[@name='indy0_motor5']\n"
     ]
    },
    {
     "name": "stdout",
     "output_type": "stream",
     "text": [
      "[BEGIN] 20201216-021416 - WORLD-20201216-052332 - SCENE-20201216-052334 - 20201216-052400.json ===============\n",
      "ignore CYLINDER_4_14_2 out of workspace052332 - SCENE-20201216-052334 - 20201216-052400.json - 0 = False / True (3/12)\n",
      "['CYLINDER_12_9_3', 'BOX_7_14_6', 'BOX_3_13_7', 'CYLINDER_1_6_11', 'BOX_4_10_9', 'indy0_link5_Cylinder_0', 'BOX_3_1_6', 'panda1_leftfinger_Cylinder_0', 'BOX_3_11_3', 'CYLINDER_12_11_1', 'BOX_12_7_5', 'panda1_link5_Cylinder_0', 'panda1_link5_Cylinder_1', 'panda1_hand_Cylinder_0', 'CYLINDER_5_12_1', 'CYLINDER_4_3_10', 'BOX_9_9_10', 'BOX_8_12_7', 'BOX_7_10_0', 'CYLINDER_3_8_4', u'BOX_7_10_3', 'BOX_7_10_5', 'panda1_rightfinger_Cylinder_0', 'BOX_9_7_10', 'BOX_9_8_1', 'CYLINDER_10_14_4', 'BOX_11_10_4', 'panda1_link2_Cylinder_0', 'CYLINDER_4_12_8', 'BOX_2_10_11', 'indy0_tcp_Cylinder_2_3', 'CYLINDER_12_8_2', 'BOX_3_8_9', 'indy0_tcp_Cylinder_0_1', 'BOX_3_0_5', 'BOX_8_4_10', 'BOX_11_8_8', 'CYLINDER_11_10_11', 'CYLINDER_5_0_6', 'BOX_0_7_3', 'panda1_link6_Cylinder_1', 'panda1_link6_Cylinder_0', 'CYLINDER_8_13_2', 'panda1_link6_Cylinder_2', 'CYLINDER_5_1_6', 'panda1_link3_Cylinder_0', 'BOX_1_8_11', 'BOX_8_13_2', 'BOX_8_13_6', 'CYLINDER_2_1_3', 'CYLINDER_1_13_8', 'indy0_link2_Cylinder_0_000', 'indy0_link2_Cylinder_0_001', 'BOX_5_4_3', 'BOX_5_4_7', 'indy0_link6_Cylinder_0', 'panda1_link1_Cylinder_0', 'CYLINDER_4_14_10', 'BOX_12_12_5', 'CYLINDER_3_5_9', 'BOX_0_2_8', 'BOX_4_4_9', 'CYLINDER_3_5_1', 'BOX_4_4_6', 'BOX_7_9_12', 'CYLINDER_6_14_1', 'CYLINDER_6_14_3', 'BOX_4_3_3', 'CYLINDER_1_12_8', 'panda1_link0_Cylinder_1', 'panda1_link0_Cylinder_0', 'CYLINDER_13_8_6', 'BOX_0_1_9', 'BOX_0_1_6', 'BOX_7_13_12', 'CYLINDER_4_3_6', 'BOX_10_13_1', 'indy0_link1_Cylinder_0', 'BOX_9_4_7', 'BOX_7_3_7', 'BOX_9_13_5', 'BOX_1_12_5', 'indy0_link3_Cylinder_0', 'indy0_link0_Cylinder_0', 'CYLINDER_6_12_6', 'BOX_5_5_1', 'CYLINDER_9_2_9', 'CYLINDER_6_10_9', 'panda1_link4_Cylinder_0', 'CYLINDER_7_11_9', 'CYLINDER_1_2_8', 'BOX_1_1_4', 'BOX_2_0_0', 'CYLINDER_11_13_5', 'indy0_link4_Cylinder_0', 'CYLINDER_4_9_1', 'BOX_5_10_7', 'CYLINDER_1_12_4', 'indy0_link2_Cylinder_1', 'BOX_8_9_13', 'BOX_8_9_9', 'BOX_0_2_1', 'BOX_5_7_10', 'BOX_9_10_9', 'BOX_10_3_2', 'BOX_10_3_3']\n",
      "scene size: 3375 (15,15,15)\n"
     ]
    },
    {
     "name": "stderr",
     "output_type": "stream",
     "text": [
      "Unknown tag \"hardwareInterface\" in /robot[@name='custom_robots']/transmission[@name='indy0_tran0']/actuator[@name='indy0_motor0']\n",
      "Unknown tag \"hardwareInterface\" in /robot[@name='custom_robots']/transmission[@name='indy0_tran1']/actuator[@name='indy0_motor1']\n",
      "Unknown tag \"hardwareInterface\" in /robot[@name='custom_robots']/transmission[@name='indy0_tran2']/actuator[@name='indy0_motor2']\n",
      "Unknown tag \"hardwareInterface\" in /robot[@name='custom_robots']/transmission[@name='indy0_tran3']/actuator[@name='indy0_motor3']\n",
      "Unknown tag \"hardwareInterface\" in /robot[@name='custom_robots']/transmission[@name='indy0_tran4']/actuator[@name='indy0_motor4']\n",
      "Unknown tag \"hardwareInterface\" in /robot[@name='custom_robots']/transmission[@name='indy0_tran5']/actuator[@name='indy0_motor5']\n"
     ]
    },
    {
     "name": "stdout",
     "output_type": "stream",
     "text": [
      "[BEGIN] 20201216-021416 - WORLD-20201216-052332 - SCENE-20201216-052334 - 20201216-052400.json ===============\n",
      "ignore CYLINDER_4_14_2 out of workspace052332 - SCENE-20201216-052334 - 20201216-052400.json - 0 = True / True (4/12)\n",
      "['CYLINDER_12_9_3', 'BOX_7_14_6', 'BOX_3_13_7', 'CYLINDER_1_6_11', 'BOX_4_10_9', 'indy0_link5_Cylinder_0', 'BOX_3_1_6', 'panda1_leftfinger_Cylinder_0', 'BOX_3_11_3', 'CYLINDER_12_11_1', 'BOX_12_7_5', 'panda1_link5_Cylinder_0', 'panda1_link5_Cylinder_1', 'panda1_hand_Cylinder_0', 'CYLINDER_5_12_1', 'CYLINDER_4_3_10', 'BOX_9_9_10', 'BOX_8_12_7', 'BOX_7_10_0', 'CYLINDER_3_8_4', u'BOX_7_10_3', 'BOX_7_10_5', 'panda1_rightfinger_Cylinder_0', 'BOX_9_7_10', 'BOX_9_8_1', 'CYLINDER_10_14_4', 'BOX_11_10_4', 'panda1_link2_Cylinder_0', 'CYLINDER_4_12_8', 'BOX_2_10_11', 'indy0_tcp_Cylinder_2_3', 'CYLINDER_12_8_2', 'BOX_3_8_9', 'indy0_tcp_Cylinder_0_1', 'BOX_3_0_5', 'BOX_8_4_10', 'BOX_11_8_8', 'CYLINDER_11_10_11', 'CYLINDER_5_0_6', 'BOX_0_7_3', 'panda1_link6_Cylinder_1', 'panda1_link6_Cylinder_0', 'CYLINDER_8_13_2', 'panda1_link6_Cylinder_2', 'CYLINDER_5_1_6', 'panda1_link3_Cylinder_0', 'BOX_1_8_11', 'BOX_8_13_2', 'BOX_8_13_6', 'CYLINDER_2_1_3', 'CYLINDER_1_13_8', 'indy0_link2_Cylinder_0_000', 'indy0_link2_Cylinder_0_001', 'BOX_5_4_3', 'BOX_5_4_7', 'indy0_link6_Cylinder_0', 'panda1_link1_Cylinder_0', 'CYLINDER_4_14_10', 'BOX_12_12_5', 'CYLINDER_3_5_9', 'BOX_0_2_8', 'BOX_4_4_9', 'CYLINDER_3_5_1', 'BOX_4_4_6', 'BOX_7_9_12', 'CYLINDER_6_14_1', 'CYLINDER_6_14_3', 'BOX_4_3_3', 'CYLINDER_1_12_8', 'panda1_link0_Cylinder_1', 'panda1_link0_Cylinder_0', 'CYLINDER_13_8_6', 'BOX_0_1_9', 'BOX_0_1_6', 'BOX_7_13_12', 'CYLINDER_4_3_6', 'BOX_10_13_1', 'indy0_link1_Cylinder_0', 'BOX_9_4_7', 'BOX_7_3_7', 'BOX_9_13_5', 'BOX_1_12_5', 'indy0_link3_Cylinder_0', 'indy0_link0_Cylinder_0', 'CYLINDER_6_12_6', 'BOX_5_5_1', 'CYLINDER_9_2_9', 'CYLINDER_6_10_9', 'panda1_link4_Cylinder_0', 'CYLINDER_7_11_9', 'CYLINDER_1_2_8', 'BOX_1_1_4', 'BOX_2_0_0', 'CYLINDER_11_13_5', 'indy0_link4_Cylinder_0', 'CYLINDER_4_9_1', 'BOX_5_10_7', 'CYLINDER_1_12_4', 'indy0_link2_Cylinder_1', 'BOX_8_9_13', 'BOX_8_9_9', 'BOX_0_2_1', 'BOX_5_7_10', 'BOX_9_10_9', 'BOX_10_3_2', 'BOX_10_3_3']\n",
      "scene size: 3375 (15,15,15)\n"
     ]
    },
    {
     "name": "stderr",
     "output_type": "stream",
     "text": [
      "Unknown tag \"hardwareInterface\" in /robot[@name='custom_robots']/transmission[@name='indy0_tran0']/actuator[@name='indy0_motor0']\n",
      "Unknown tag \"hardwareInterface\" in /robot[@name='custom_robots']/transmission[@name='indy0_tran1']/actuator[@name='indy0_motor1']\n",
      "Unknown tag \"hardwareInterface\" in /robot[@name='custom_robots']/transmission[@name='indy0_tran2']/actuator[@name='indy0_motor2']\n",
      "Unknown tag \"hardwareInterface\" in /robot[@name='custom_robots']/transmission[@name='indy0_tran3']/actuator[@name='indy0_motor3']\n",
      "Unknown tag \"hardwareInterface\" in /robot[@name='custom_robots']/transmission[@name='indy0_tran4']/actuator[@name='indy0_motor4']\n",
      "Unknown tag \"hardwareInterface\" in /robot[@name='custom_robots']/transmission[@name='indy0_tran5']/actuator[@name='indy0_motor5']\n"
     ]
    },
    {
     "name": "stdout",
     "output_type": "stream",
     "text": [
      "[BEGIN] 20201216-021416 - WORLD-20201216-052332 - SCENE-20201216-052334 - 20201216-052400.json ===============\n",
      "ignore CYLINDER_4_14_2 out of workspace052332 - SCENE-20201216-052334 - 20201216-052400.json - 0 = True / True (5/12)\n",
      "['CYLINDER_12_9_3', 'BOX_7_14_6', 'BOX_3_13_7', 'CYLINDER_1_6_11', 'BOX_4_10_9', 'indy0_link5_Cylinder_0', 'BOX_3_1_6', 'panda1_leftfinger_Cylinder_0', 'BOX_3_11_3', 'CYLINDER_12_11_1', 'BOX_12_7_5', 'panda1_link5_Cylinder_0', 'panda1_link5_Cylinder_1', 'panda1_hand_Cylinder_0', 'CYLINDER_5_12_1', 'CYLINDER_4_3_10', 'BOX_9_9_10', 'BOX_8_12_7', 'BOX_7_10_0', 'CYLINDER_3_8_4', u'BOX_7_10_3', 'BOX_7_10_5', 'panda1_rightfinger_Cylinder_0', 'BOX_9_7_10', 'BOX_9_8_1', 'CYLINDER_10_14_4', 'BOX_11_10_4', 'panda1_link2_Cylinder_0', 'CYLINDER_4_12_8', 'BOX_2_10_11', 'indy0_tcp_Cylinder_2_3', 'CYLINDER_12_8_2', 'BOX_3_8_9', 'indy0_tcp_Cylinder_0_1', 'BOX_3_0_5', 'BOX_8_4_10', 'BOX_11_8_8', 'CYLINDER_11_10_11', 'CYLINDER_5_0_6', 'BOX_0_7_3', 'panda1_link6_Cylinder_1', 'panda1_link6_Cylinder_0', 'CYLINDER_8_13_2', 'panda1_link6_Cylinder_2', 'CYLINDER_5_1_6', 'panda1_link3_Cylinder_0', 'BOX_1_8_11', 'BOX_8_13_2', 'BOX_8_13_6', 'CYLINDER_2_1_3', 'CYLINDER_1_13_8', 'indy0_link2_Cylinder_0_000', 'indy0_link2_Cylinder_0_001', 'BOX_5_4_3', 'BOX_5_4_7', 'indy0_link6_Cylinder_0', 'panda1_link1_Cylinder_0', 'CYLINDER_4_14_10', 'BOX_12_12_5', 'CYLINDER_3_5_9', 'BOX_0_2_8', 'BOX_4_4_9', 'CYLINDER_3_5_1', 'BOX_4_4_6', 'BOX_7_9_12', 'CYLINDER_6_14_1', 'CYLINDER_6_14_3', 'BOX_4_3_3', 'CYLINDER_1_12_8', 'panda1_link0_Cylinder_1', 'panda1_link0_Cylinder_0', 'CYLINDER_13_8_6', 'BOX_0_1_9', 'BOX_0_1_6', 'BOX_7_13_12', 'CYLINDER_4_3_6', 'BOX_10_13_1', 'indy0_link1_Cylinder_0', 'BOX_9_4_7', 'BOX_7_3_7', 'BOX_9_13_5', 'BOX_1_12_5', 'indy0_link3_Cylinder_0', 'indy0_link0_Cylinder_0', 'CYLINDER_6_12_6', 'BOX_5_5_1', 'CYLINDER_9_2_9', 'CYLINDER_6_10_9', 'panda1_link4_Cylinder_0', 'CYLINDER_7_11_9', 'CYLINDER_1_2_8', 'BOX_1_1_4', 'BOX_2_0_0', 'CYLINDER_11_13_5', 'indy0_link4_Cylinder_0', 'CYLINDER_4_9_1', 'BOX_5_10_7', 'CYLINDER_1_12_4', 'indy0_link2_Cylinder_1', 'BOX_8_9_13', 'BOX_8_9_9', 'BOX_0_2_1', 'BOX_5_7_10', 'BOX_9_10_9', 'BOX_10_3_2', 'BOX_10_3_3']\n",
      "scene size: 3375 (15,15,15)\n"
     ]
    },
    {
     "name": "stderr",
     "output_type": "stream",
     "text": [
      "Unknown tag \"hardwareInterface\" in /robot[@name='custom_robots']/transmission[@name='indy0_tran0']/actuator[@name='indy0_motor0']\n",
      "Unknown tag \"hardwareInterface\" in /robot[@name='custom_robots']/transmission[@name='indy0_tran1']/actuator[@name='indy0_motor1']\n",
      "Unknown tag \"hardwareInterface\" in /robot[@name='custom_robots']/transmission[@name='indy0_tran2']/actuator[@name='indy0_motor2']\n",
      "Unknown tag \"hardwareInterface\" in /robot[@name='custom_robots']/transmission[@name='indy0_tran3']/actuator[@name='indy0_motor3']\n",
      "Unknown tag \"hardwareInterface\" in /robot[@name='custom_robots']/transmission[@name='indy0_tran4']/actuator[@name='indy0_motor4']\n",
      "Unknown tag \"hardwareInterface\" in /robot[@name='custom_robots']/transmission[@name='indy0_tran5']/actuator[@name='indy0_motor5']\n"
     ]
    },
    {
     "name": "stdout",
     "output_type": "stream",
     "text": [
      "[BEGIN] 20201216-021416 - WORLD-20201216-052332 - SCENE-20201216-052334 - 20201216-052400.json ===============\n",
      "ignore CYLINDER_4_14_2 out of workspace052332 - SCENE-20201216-052334 - 20201216-052400.json - 0 = True / True (6/12)\n",
      "['CYLINDER_12_9_3', 'BOX_7_14_6', 'BOX_3_13_7', 'CYLINDER_1_6_11', 'BOX_4_10_9', 'indy0_link5_Cylinder_0', 'BOX_3_1_6', 'panda1_leftfinger_Cylinder_0', 'BOX_3_11_3', 'CYLINDER_12_11_1', 'BOX_12_7_5', 'panda1_link5_Cylinder_0', 'panda1_link5_Cylinder_1', 'panda1_hand_Cylinder_0', 'CYLINDER_5_12_1', 'CYLINDER_4_3_10', 'BOX_9_9_10', 'BOX_8_12_7', 'BOX_7_10_0', 'CYLINDER_3_8_4', u'BOX_7_10_3', 'BOX_7_10_5', 'panda1_rightfinger_Cylinder_0', 'BOX_9_7_10', 'BOX_9_8_1', 'CYLINDER_10_14_4', 'BOX_11_10_4', 'panda1_link2_Cylinder_0', 'CYLINDER_4_12_8', 'BOX_2_10_11', 'indy0_tcp_Cylinder_2_3', 'CYLINDER_12_8_2', 'BOX_3_8_9', 'indy0_tcp_Cylinder_0_1', 'BOX_3_0_5', 'BOX_8_4_10', 'BOX_11_8_8', 'CYLINDER_11_10_11', 'CYLINDER_5_0_6', 'BOX_0_7_3', 'panda1_link6_Cylinder_1', 'panda1_link6_Cylinder_0', 'CYLINDER_8_13_2', 'panda1_link6_Cylinder_2', 'CYLINDER_5_1_6', 'panda1_link3_Cylinder_0', 'BOX_1_8_11', 'BOX_8_13_2', 'BOX_8_13_6', 'CYLINDER_2_1_3', 'CYLINDER_1_13_8', 'indy0_link2_Cylinder_0_000', 'indy0_link2_Cylinder_0_001', 'BOX_5_4_3', 'BOX_5_4_7', 'indy0_link6_Cylinder_0', 'panda1_link1_Cylinder_0', 'CYLINDER_4_14_10', 'BOX_12_12_5', 'CYLINDER_3_5_9', 'BOX_0_2_8', 'BOX_4_4_9', 'CYLINDER_3_5_1', 'BOX_4_4_6', 'BOX_7_9_12', 'CYLINDER_6_14_1', 'CYLINDER_6_14_3', 'BOX_4_3_3', 'CYLINDER_1_12_8', 'panda1_link0_Cylinder_1', 'panda1_link0_Cylinder_0', 'CYLINDER_13_8_6', 'BOX_0_1_9', 'BOX_0_1_6', 'BOX_7_13_12', 'CYLINDER_4_3_6', 'BOX_10_13_1', 'indy0_link1_Cylinder_0', 'BOX_9_4_7', 'BOX_7_3_7', 'BOX_9_13_5', 'BOX_1_12_5', 'indy0_link3_Cylinder_0', 'indy0_link0_Cylinder_0', 'CYLINDER_6_12_6', 'BOX_5_5_1', 'CYLINDER_9_2_9', 'CYLINDER_6_10_9', 'panda1_link4_Cylinder_0', 'CYLINDER_7_11_9', 'CYLINDER_1_2_8', 'BOX_1_1_4', 'BOX_2_0_0', 'CYLINDER_11_13_5', 'indy0_link4_Cylinder_0', 'CYLINDER_4_9_1', 'BOX_5_10_7', 'CYLINDER_1_12_4', 'indy0_link2_Cylinder_1', 'BOX_8_9_13', 'BOX_8_9_9', 'BOX_0_2_1', 'BOX_5_7_10', 'BOX_9_10_9', 'BOX_10_3_2', 'BOX_10_3_3']\n",
      "scene size: 3375 (15,15,15)\n"
     ]
    },
    {
     "name": "stderr",
     "output_type": "stream",
     "text": [
      "Unknown tag \"hardwareInterface\" in /robot[@name='custom_robots']/transmission[@name='indy0_tran0']/actuator[@name='indy0_motor0']\n",
      "Unknown tag \"hardwareInterface\" in /robot[@name='custom_robots']/transmission[@name='indy0_tran1']/actuator[@name='indy0_motor1']\n",
      "Unknown tag \"hardwareInterface\" in /robot[@name='custom_robots']/transmission[@name='indy0_tran2']/actuator[@name='indy0_motor2']\n",
      "Unknown tag \"hardwareInterface\" in /robot[@name='custom_robots']/transmission[@name='indy0_tran3']/actuator[@name='indy0_motor3']\n",
      "Unknown tag \"hardwareInterface\" in /robot[@name='custom_robots']/transmission[@name='indy0_tran4']/actuator[@name='indy0_motor4']\n",
      "Unknown tag \"hardwareInterface\" in /robot[@name='custom_robots']/transmission[@name='indy0_tran5']/actuator[@name='indy0_motor5']\n"
     ]
    },
    {
     "name": "stdout",
     "output_type": "stream",
     "text": [
      "[BEGIN] 20201216-021416 - WORLD-20201216-052332 - SCENE-20201216-052334 - 20201216-052400.json ===============\n",
      "ignore CYLINDER_4_14_2 out of workspace052332 - SCENE-20201216-052334 - 20201216-052400.json - 0 = True / True (7/12)\n",
      "['CYLINDER_12_9_3', 'BOX_7_14_6', 'BOX_3_13_7', 'CYLINDER_1_6_11', 'BOX_4_10_9', 'indy0_link5_Cylinder_0', 'BOX_3_1_6', 'panda1_leftfinger_Cylinder_0', 'BOX_3_11_3', 'CYLINDER_12_11_1', 'BOX_12_7_5', 'panda1_link5_Cylinder_0', 'panda1_link5_Cylinder_1', 'panda1_hand_Cylinder_0', 'CYLINDER_5_12_1', 'CYLINDER_4_3_10', 'BOX_9_9_10', 'BOX_8_12_7', 'BOX_7_10_0', 'CYLINDER_3_8_4', u'BOX_7_10_3', 'BOX_7_10_5', 'panda1_rightfinger_Cylinder_0', 'BOX_9_7_10', 'BOX_9_8_1', 'CYLINDER_10_14_4', 'BOX_11_10_4', 'panda1_link2_Cylinder_0', 'CYLINDER_4_12_8', 'BOX_2_10_11', 'indy0_tcp_Cylinder_2_3', 'CYLINDER_12_8_2', 'BOX_3_8_9', 'indy0_tcp_Cylinder_0_1', 'BOX_3_0_5', 'BOX_8_4_10', 'BOX_11_8_8', 'CYLINDER_11_10_11', 'CYLINDER_5_0_6', 'BOX_0_7_3', 'panda1_link6_Cylinder_1', 'panda1_link6_Cylinder_0', 'CYLINDER_8_13_2', 'panda1_link6_Cylinder_2', 'CYLINDER_5_1_6', 'panda1_link3_Cylinder_0', 'BOX_1_8_11', 'BOX_8_13_2', 'BOX_8_13_6', 'CYLINDER_2_1_3', 'CYLINDER_1_13_8', 'indy0_link2_Cylinder_0_000', 'indy0_link2_Cylinder_0_001', 'BOX_5_4_3', 'BOX_5_4_7', 'indy0_link6_Cylinder_0', 'panda1_link1_Cylinder_0', 'CYLINDER_4_14_10', 'BOX_12_12_5', 'CYLINDER_3_5_9', 'BOX_0_2_8', 'BOX_4_4_9', 'CYLINDER_3_5_1', 'BOX_4_4_6', 'BOX_7_9_12', 'CYLINDER_6_14_1', 'CYLINDER_6_14_3', 'BOX_4_3_3', 'CYLINDER_1_12_8', 'panda1_link0_Cylinder_1', 'panda1_link0_Cylinder_0', 'CYLINDER_13_8_6', 'BOX_0_1_9', 'BOX_0_1_6', 'BOX_7_13_12', 'CYLINDER_4_3_6', 'BOX_10_13_1', 'indy0_link1_Cylinder_0', 'BOX_9_4_7', 'BOX_7_3_7', 'BOX_9_13_5', 'BOX_1_12_5', 'indy0_link3_Cylinder_0', 'indy0_link0_Cylinder_0', 'CYLINDER_6_12_6', 'BOX_5_5_1', 'CYLINDER_9_2_9', 'CYLINDER_6_10_9', 'panda1_link4_Cylinder_0', 'CYLINDER_7_11_9', 'CYLINDER_1_2_8', 'BOX_1_1_4', 'BOX_2_0_0', 'CYLINDER_11_13_5', 'indy0_link4_Cylinder_0', 'CYLINDER_4_9_1', 'BOX_5_10_7', 'CYLINDER_1_12_4', 'indy0_link2_Cylinder_1', 'BOX_8_9_13', 'BOX_8_9_9', 'BOX_0_2_1', 'BOX_5_7_10', 'BOX_9_10_9', 'BOX_10_3_2', 'BOX_10_3_3']\n",
      "scene size: 3375 (15,15,15)\n"
     ]
    },
    {
     "name": "stderr",
     "output_type": "stream",
     "text": [
      "Unknown tag \"hardwareInterface\" in /robot[@name='custom_robots']/transmission[@name='indy0_tran0']/actuator[@name='indy0_motor0']\n",
      "Unknown tag \"hardwareInterface\" in /robot[@name='custom_robots']/transmission[@name='indy0_tran1']/actuator[@name='indy0_motor1']\n",
      "Unknown tag \"hardwareInterface\" in /robot[@name='custom_robots']/transmission[@name='indy0_tran2']/actuator[@name='indy0_motor2']\n",
      "Unknown tag \"hardwareInterface\" in /robot[@name='custom_robots']/transmission[@name='indy0_tran3']/actuator[@name='indy0_motor3']\n",
      "Unknown tag \"hardwareInterface\" in /robot[@name='custom_robots']/transmission[@name='indy0_tran4']/actuator[@name='indy0_motor4']\n",
      "Unknown tag \"hardwareInterface\" in /robot[@name='custom_robots']/transmission[@name='indy0_tran5']/actuator[@name='indy0_motor5']\n"
     ]
    },
    {
     "name": "stdout",
     "output_type": "stream",
     "text": [
      "[BEGIN] 20201216-021416 - WORLD-20201216-052332 - SCENE-20201216-052334 - 20201216-052400.json ===============\n",
      "ignore CYLINDER_4_14_2 out of workspace052332 - SCENE-20201216-052334 - 20201216-052400.json - 0 = False / True (8/12)\n",
      "['CYLINDER_12_9_3', 'BOX_7_14_6', 'BOX_3_13_7', 'CYLINDER_1_6_11', 'BOX_4_10_9', 'indy0_link5_Cylinder_0', 'BOX_3_1_6', 'panda1_leftfinger_Cylinder_0', 'BOX_3_11_3', 'CYLINDER_12_11_1', 'BOX_12_7_5', 'panda1_link5_Cylinder_0', 'panda1_link5_Cylinder_1', 'panda1_hand_Cylinder_0', 'CYLINDER_5_12_1', 'CYLINDER_4_3_10', 'BOX_9_9_10', 'BOX_8_12_7', 'BOX_7_10_0', 'CYLINDER_3_8_4', u'BOX_7_10_3', 'BOX_7_10_5', 'panda1_rightfinger_Cylinder_0', 'BOX_9_7_10', 'BOX_9_8_1', 'CYLINDER_10_14_4', 'BOX_11_10_4', 'panda1_link2_Cylinder_0', 'CYLINDER_4_12_8', 'BOX_2_10_11', 'indy0_tcp_Cylinder_2_3', 'CYLINDER_12_8_2', 'BOX_3_8_9', 'indy0_tcp_Cylinder_0_1', 'BOX_3_0_5', 'BOX_8_4_10', 'BOX_11_8_8', 'CYLINDER_11_10_11', 'CYLINDER_5_0_6', 'BOX_0_7_3', 'panda1_link6_Cylinder_1', 'panda1_link6_Cylinder_0', 'CYLINDER_8_13_2', 'panda1_link6_Cylinder_2', 'CYLINDER_5_1_6', 'panda1_link3_Cylinder_0', 'BOX_1_8_11', 'BOX_8_13_2', 'BOX_8_13_6', 'CYLINDER_2_1_3', 'CYLINDER_1_13_8', 'indy0_link2_Cylinder_0_000', 'indy0_link2_Cylinder_0_001', 'BOX_5_4_3', 'BOX_5_4_7', 'indy0_link6_Cylinder_0', 'panda1_link1_Cylinder_0', 'CYLINDER_4_14_10', 'BOX_12_12_5', 'CYLINDER_3_5_9', 'BOX_0_2_8', 'BOX_4_4_9', 'CYLINDER_3_5_1', 'BOX_4_4_6', 'BOX_7_9_12', 'CYLINDER_6_14_1', 'CYLINDER_6_14_3', 'BOX_4_3_3', 'CYLINDER_1_12_8', 'panda1_link0_Cylinder_1', 'panda1_link0_Cylinder_0', 'CYLINDER_13_8_6', 'BOX_0_1_9', 'BOX_0_1_6', 'BOX_7_13_12', 'CYLINDER_4_3_6', 'BOX_10_13_1', 'indy0_link1_Cylinder_0', 'BOX_9_4_7', 'BOX_7_3_7', 'BOX_9_13_5', 'BOX_1_12_5', 'indy0_link3_Cylinder_0', 'indy0_link0_Cylinder_0', 'CYLINDER_6_12_6', 'BOX_5_5_1', 'CYLINDER_9_2_9', 'CYLINDER_6_10_9', 'panda1_link4_Cylinder_0', 'CYLINDER_7_11_9', 'CYLINDER_1_2_8', 'BOX_1_1_4', 'BOX_2_0_0', 'CYLINDER_11_13_5', 'indy0_link4_Cylinder_0', 'CYLINDER_4_9_1', 'BOX_5_10_7', 'CYLINDER_1_12_4', 'indy0_link2_Cylinder_1', 'BOX_8_9_13', 'BOX_8_9_9', 'BOX_0_2_1', 'BOX_5_7_10', 'BOX_9_10_9', 'BOX_10_3_2', 'BOX_10_3_3']\n",
      "scene size: 3375 (15,15,15)\n"
     ]
    },
    {
     "name": "stderr",
     "output_type": "stream",
     "text": [
      "Unknown tag \"hardwareInterface\" in /robot[@name='custom_robots']/transmission[@name='indy0_tran0']/actuator[@name='indy0_motor0']\n",
      "Unknown tag \"hardwareInterface\" in /robot[@name='custom_robots']/transmission[@name='indy0_tran1']/actuator[@name='indy0_motor1']\n",
      "Unknown tag \"hardwareInterface\" in /robot[@name='custom_robots']/transmission[@name='indy0_tran2']/actuator[@name='indy0_motor2']\n",
      "Unknown tag \"hardwareInterface\" in /robot[@name='custom_robots']/transmission[@name='indy0_tran3']/actuator[@name='indy0_motor3']\n",
      "Unknown tag \"hardwareInterface\" in /robot[@name='custom_robots']/transmission[@name='indy0_tran4']/actuator[@name='indy0_motor4']\n",
      "Unknown tag \"hardwareInterface\" in /robot[@name='custom_robots']/transmission[@name='indy0_tran5']/actuator[@name='indy0_motor5']\n"
     ]
    },
    {
     "name": "stdout",
     "output_type": "stream",
     "text": [
      "[BEGIN] 20201216-021416 - WORLD-20201216-052332 - SCENE-20201216-052334 - 20201216-052400.json ===============\n",
      "ignore CYLINDER_4_14_2 out of workspace052332 - SCENE-20201216-052334 - 20201216-052400.json - 0 = False / True (9/12)\n",
      "['CYLINDER_12_9_3', 'BOX_7_14_6', 'BOX_3_13_7', 'CYLINDER_1_6_11', 'BOX_4_10_9', 'indy0_link5_Cylinder_0', 'BOX_3_1_6', 'panda1_leftfinger_Cylinder_0', 'BOX_3_11_3', 'CYLINDER_12_11_1', 'BOX_12_7_5', 'panda1_link5_Cylinder_0', 'panda1_link5_Cylinder_1', 'panda1_hand_Cylinder_0', 'CYLINDER_5_12_1', 'CYLINDER_4_3_10', 'BOX_9_9_10', 'BOX_8_12_7', 'BOX_7_10_0', 'CYLINDER_3_8_4', u'BOX_7_10_3', 'BOX_7_10_5', 'panda1_rightfinger_Cylinder_0', 'BOX_9_7_10', 'BOX_9_8_1', 'CYLINDER_10_14_4', 'BOX_11_10_4', 'panda1_link2_Cylinder_0', 'CYLINDER_4_12_8', 'BOX_2_10_11', 'indy0_tcp_Cylinder_2_3', 'CYLINDER_12_8_2', 'BOX_3_8_9', 'indy0_tcp_Cylinder_0_1', 'BOX_3_0_5', 'BOX_8_4_10', 'BOX_11_8_8', 'CYLINDER_11_10_11', 'CYLINDER_5_0_6', 'BOX_0_7_3', 'panda1_link6_Cylinder_1', 'panda1_link6_Cylinder_0', 'CYLINDER_8_13_2', 'panda1_link6_Cylinder_2', 'CYLINDER_5_1_6', 'panda1_link3_Cylinder_0', 'BOX_1_8_11', 'BOX_8_13_2', 'BOX_8_13_6', 'CYLINDER_2_1_3', 'CYLINDER_1_13_8', 'indy0_link2_Cylinder_0_000', 'indy0_link2_Cylinder_0_001', 'BOX_5_4_3', 'BOX_5_4_7', 'indy0_link6_Cylinder_0', 'panda1_link1_Cylinder_0', 'CYLINDER_4_14_10', 'BOX_12_12_5', 'CYLINDER_3_5_9', 'BOX_0_2_8', 'BOX_4_4_9', 'CYLINDER_3_5_1', 'BOX_4_4_6', 'BOX_7_9_12', 'CYLINDER_6_14_1', 'CYLINDER_6_14_3', 'BOX_4_3_3', 'CYLINDER_1_12_8', 'panda1_link0_Cylinder_1', 'panda1_link0_Cylinder_0', 'CYLINDER_13_8_6', 'BOX_0_1_9', 'BOX_0_1_6', 'BOX_7_13_12', 'CYLINDER_4_3_6', 'BOX_10_13_1', 'indy0_link1_Cylinder_0', 'BOX_9_4_7', 'BOX_7_3_7', 'BOX_9_13_5', 'BOX_1_12_5', 'indy0_link3_Cylinder_0', 'indy0_link0_Cylinder_0', 'CYLINDER_6_12_6', 'BOX_5_5_1', 'CYLINDER_9_2_9', 'CYLINDER_6_10_9', 'panda1_link4_Cylinder_0', 'CYLINDER_7_11_9', 'CYLINDER_1_2_8', 'BOX_1_1_4', 'BOX_2_0_0', 'CYLINDER_11_13_5', 'indy0_link4_Cylinder_0', 'CYLINDER_4_9_1', 'BOX_5_10_7', 'CYLINDER_1_12_4', 'indy0_link2_Cylinder_1', 'BOX_8_9_13', 'BOX_8_9_9', 'BOX_0_2_1', 'BOX_5_7_10', 'BOX_9_10_9', 'BOX_10_3_2', 'BOX_10_3_3']\n",
      "scene size: 3375 (15,15,15)\n"
     ]
    },
    {
     "name": "stderr",
     "output_type": "stream",
     "text": [
      "Unknown tag \"hardwareInterface\" in /robot[@name='custom_robots']/transmission[@name='indy0_tran0']/actuator[@name='indy0_motor0']\n",
      "Unknown tag \"hardwareInterface\" in /robot[@name='custom_robots']/transmission[@name='indy0_tran1']/actuator[@name='indy0_motor1']\n",
      "Unknown tag \"hardwareInterface\" in /robot[@name='custom_robots']/transmission[@name='indy0_tran2']/actuator[@name='indy0_motor2']\n",
      "Unknown tag \"hardwareInterface\" in /robot[@name='custom_robots']/transmission[@name='indy0_tran3']/actuator[@name='indy0_motor3']\n",
      "Unknown tag \"hardwareInterface\" in /robot[@name='custom_robots']/transmission[@name='indy0_tran4']/actuator[@name='indy0_motor4']\n",
      "Unknown tag \"hardwareInterface\" in /robot[@name='custom_robots']/transmission[@name='indy0_tran5']/actuator[@name='indy0_motor5']\n"
     ]
    },
    {
     "name": "stdout",
     "output_type": "stream",
     "text": [
      "[BEGIN] 20201216-021416 - WORLD-20201216-052332 - SCENE-20201216-052334 - 20201216-052400.json ===============\n",
      "ignore CYLINDER_4_14_2 out of workspace052332 - SCENE-20201216-052334 - 20201216-052400.json - 0 = False / True (10/12)\n",
      "['CYLINDER_12_9_3', 'BOX_7_14_6', 'BOX_3_13_7', 'CYLINDER_1_6_11', 'BOX_4_10_9', 'indy0_link5_Cylinder_0', 'BOX_3_1_6', 'panda1_leftfinger_Cylinder_0', 'BOX_3_11_3', 'CYLINDER_12_11_1', 'BOX_12_7_5', 'panda1_link5_Cylinder_0', 'panda1_link5_Cylinder_1', 'panda1_hand_Cylinder_0', 'CYLINDER_5_12_1', 'CYLINDER_4_3_10', 'BOX_9_9_10', 'BOX_8_12_7', 'BOX_7_10_0', 'CYLINDER_3_8_4', u'BOX_7_10_3', 'BOX_7_10_5', 'panda1_rightfinger_Cylinder_0', 'BOX_9_7_10', 'BOX_9_8_1', 'CYLINDER_10_14_4', 'BOX_11_10_4', 'panda1_link2_Cylinder_0', 'CYLINDER_4_12_8', 'BOX_2_10_11', 'indy0_tcp_Cylinder_2_3', 'CYLINDER_12_8_2', 'BOX_3_8_9', 'indy0_tcp_Cylinder_0_1', 'BOX_3_0_5', 'BOX_8_4_10', 'BOX_11_8_8', 'CYLINDER_11_10_11', 'CYLINDER_5_0_6', 'BOX_0_7_3', 'panda1_link6_Cylinder_1', 'panda1_link6_Cylinder_0', 'CYLINDER_8_13_2', 'panda1_link6_Cylinder_2', 'CYLINDER_5_1_6', 'panda1_link3_Cylinder_0', 'BOX_1_8_11', 'BOX_8_13_2', 'BOX_8_13_6', 'CYLINDER_2_1_3', 'CYLINDER_1_13_8', 'indy0_link2_Cylinder_0_000', 'indy0_link2_Cylinder_0_001', 'BOX_5_4_3', 'BOX_5_4_7', 'indy0_link6_Cylinder_0', 'panda1_link1_Cylinder_0', 'CYLINDER_4_14_10', 'BOX_12_12_5', 'CYLINDER_3_5_9', 'BOX_0_2_8', 'BOX_4_4_9', 'CYLINDER_3_5_1', 'BOX_4_4_6', 'BOX_7_9_12', 'CYLINDER_6_14_1', 'CYLINDER_6_14_3', 'BOX_4_3_3', 'CYLINDER_1_12_8', 'panda1_link0_Cylinder_1', 'panda1_link0_Cylinder_0', 'CYLINDER_13_8_6', 'BOX_0_1_9', 'BOX_0_1_6', 'BOX_7_13_12', 'CYLINDER_4_3_6', 'BOX_10_13_1', 'indy0_link1_Cylinder_0', 'BOX_9_4_7', 'BOX_7_3_7', 'BOX_9_13_5', 'BOX_1_12_5', 'indy0_link3_Cylinder_0', 'indy0_link0_Cylinder_0', 'CYLINDER_6_12_6', 'BOX_5_5_1', 'CYLINDER_9_2_9', 'CYLINDER_6_10_9', 'panda1_link4_Cylinder_0', 'CYLINDER_7_11_9', 'CYLINDER_1_2_8', 'BOX_1_1_4', 'BOX_2_0_0', 'CYLINDER_11_13_5', 'indy0_link4_Cylinder_0', 'CYLINDER_4_9_1', 'BOX_5_10_7', 'CYLINDER_1_12_4', 'indy0_link2_Cylinder_1', 'BOX_8_9_13', 'BOX_8_9_9', 'BOX_0_2_1', 'BOX_5_7_10', 'BOX_9_10_9', 'BOX_10_3_2', 'BOX_10_3_3']\n",
      "scene size: 3375 (15,15,15)\n"
     ]
    },
    {
     "name": "stderr",
     "output_type": "stream",
     "text": [
      "Unknown tag \"hardwareInterface\" in /robot[@name='custom_robots']/transmission[@name='indy0_tran0']/actuator[@name='indy0_motor0']\n",
      "Unknown tag \"hardwareInterface\" in /robot[@name='custom_robots']/transmission[@name='indy0_tran1']/actuator[@name='indy0_motor1']\n",
      "Unknown tag \"hardwareInterface\" in /robot[@name='custom_robots']/transmission[@name='indy0_tran2']/actuator[@name='indy0_motor2']\n",
      "Unknown tag \"hardwareInterface\" in /robot[@name='custom_robots']/transmission[@name='indy0_tran3']/actuator[@name='indy0_motor3']\n",
      "Unknown tag \"hardwareInterface\" in /robot[@name='custom_robots']/transmission[@name='indy0_tran4']/actuator[@name='indy0_motor4']\n",
      "Unknown tag \"hardwareInterface\" in /robot[@name='custom_robots']/transmission[@name='indy0_tran5']/actuator[@name='indy0_motor5']\n"
     ]
    },
    {
     "name": "stdout",
     "output_type": "stream",
     "text": [
      "[BEGIN] 20201216-021416 - WORLD-20201216-052332 - SCENE-20201216-052334 - 20201216-052400.json ===============\n",
      "ignore CYLINDER_4_14_2 out of workspace052332 - SCENE-20201216-052334 - 20201216-052400.json - 0 = False / True (11/12)\n",
      "['CYLINDER_12_9_3', 'BOX_7_14_6', 'BOX_3_13_7', 'CYLINDER_1_6_11', 'BOX_4_10_9', 'indy0_link5_Cylinder_0', 'BOX_3_1_6', 'panda1_leftfinger_Cylinder_0', 'BOX_3_11_3', 'CYLINDER_12_11_1', 'BOX_12_7_5', 'panda1_link5_Cylinder_0', 'panda1_link5_Cylinder_1', 'panda1_hand_Cylinder_0', 'CYLINDER_5_12_1', 'CYLINDER_4_3_10', 'BOX_9_9_10', 'BOX_8_12_7', 'BOX_7_10_0', 'CYLINDER_3_8_4', u'BOX_7_10_3', 'BOX_7_10_5', 'panda1_rightfinger_Cylinder_0', 'BOX_9_7_10', 'BOX_9_8_1', 'CYLINDER_10_14_4', 'BOX_11_10_4', 'panda1_link2_Cylinder_0', 'CYLINDER_4_12_8', 'BOX_2_10_11', 'indy0_tcp_Cylinder_2_3', 'CYLINDER_12_8_2', 'BOX_3_8_9', 'indy0_tcp_Cylinder_0_1', 'BOX_3_0_5', 'BOX_8_4_10', 'BOX_11_8_8', 'CYLINDER_11_10_11', 'CYLINDER_5_0_6', 'BOX_0_7_3', 'panda1_link6_Cylinder_1', 'panda1_link6_Cylinder_0', 'CYLINDER_8_13_2', 'panda1_link6_Cylinder_2', 'CYLINDER_5_1_6', 'panda1_link3_Cylinder_0', 'BOX_1_8_11', 'BOX_8_13_2', 'BOX_8_13_6', 'CYLINDER_2_1_3', 'CYLINDER_1_13_8', 'indy0_link2_Cylinder_0_000', 'indy0_link2_Cylinder_0_001', 'BOX_5_4_3', 'BOX_5_4_7', 'indy0_link6_Cylinder_0', 'panda1_link1_Cylinder_0', 'CYLINDER_4_14_10', 'BOX_12_12_5', 'CYLINDER_3_5_9', 'BOX_0_2_8', 'BOX_4_4_9', 'CYLINDER_3_5_1', 'BOX_4_4_6', 'BOX_7_9_12', 'CYLINDER_6_14_1', 'CYLINDER_6_14_3', 'BOX_4_3_3', 'CYLINDER_1_12_8', 'panda1_link0_Cylinder_1', 'panda1_link0_Cylinder_0', 'CYLINDER_13_8_6', 'BOX_0_1_9', 'BOX_0_1_6', 'BOX_7_13_12', 'CYLINDER_4_3_6', 'BOX_10_13_1', 'indy0_link1_Cylinder_0', 'BOX_9_4_7', 'BOX_7_3_7', 'BOX_9_13_5', 'BOX_1_12_5', 'indy0_link3_Cylinder_0', 'indy0_link0_Cylinder_0', 'CYLINDER_6_12_6', 'BOX_5_5_1', 'CYLINDER_9_2_9', 'CYLINDER_6_10_9', 'panda1_link4_Cylinder_0', 'CYLINDER_7_11_9', 'CYLINDER_1_2_8', 'BOX_1_1_4', 'BOX_2_0_0', 'CYLINDER_11_13_5', 'indy0_link4_Cylinder_0', 'CYLINDER_4_9_1', 'BOX_5_10_7', 'CYLINDER_1_12_4', 'indy0_link2_Cylinder_1', 'BOX_8_9_13', 'BOX_8_9_9', 'BOX_0_2_1', 'BOX_5_7_10', 'BOX_9_10_9', 'BOX_10_3_2', 'BOX_10_3_3']\n"
     ]
    }
   ],
   "source": [
    "TEST_OFFSET_R_LIST = np.arange(-np.pi*0.6,np.pi*0.9+0.1,(np.pi*1.5)/11)\n",
    "N_test = len(TEST_OFFSET_R_LIST)\n",
    "TEST_OFFSET_RES_LIST = []\n",
    "for i_test, TEST_OFFSET_R in enumerate(TEST_OFFSET_R_LIST):\n",
    "    SAMPLED_DATA = defaultdict(dict)\n",
    "    VISUALIZE = False\n",
    "    MODEL_OFFSET_TEST = (1.5,1.5,0.75)\n",
    "\n",
    "    #  GLOBAL\n",
    "    CURRENT_PATH = os.path.join(DATA_PATH, DATASET)\n",
    "\n",
    "    ## Load global params\n",
    "    GLOBAL_PARAMS = load_json(os.path.join(CURRENT_PATH, GLOBAL_FILENAME))\n",
    "    WDH = GLOBAL_PARAMS[\"WDH\"]\n",
    "    L_CELL = GLOBAL_PARAMS[\"L_CELL\"]\n",
    "    RATIO_DIMS = GLOBAL_PARAMS[\"RATIO_DIMS\"]\n",
    "    REACH_OFFSET_DICT = GLOBAL_PARAMS[\"REACH_OFFSET_DICT\"]\n",
    "    GRIPPER_REFS = GLOBAL_PARAMS[\"GRIPPER_REFS\"]\n",
    "    BASE_LINK = GLOBAL_PARAMS[\"BASE_LINK\"]\n",
    "    S_F_RATIO = GLOBAL_PARAMS[\"S_F_RATIO\"]\n",
    "    TIMEOUT = GLOBAL_PARAMS[\"TIMEOUT\"]\n",
    "\n",
    "    CENTER = tuple(np.divide(WDH, 2, dtype=np.float))\n",
    "    Ws, Ds, Hs = WDH\n",
    "    Nw, Nd, Nh = Nwdh = int(Ws / L_CELL), int(Ds / L_CELL), int(Hs / L_CELL)\n",
    "    L_MAX = L_CELL * RATIO_DIMS\n",
    "    print(\"scene size: {} ({},{},{})\".format(Nw * Nd * Nh, Nw, Nd, Nh))\n",
    "\n",
    "    # WORLD\n",
    "    WORLD_PATH = os.path.join(CURRENT_PATH, WORLD)\n",
    "    SAMPLED_DATA[\"WORLD\"] = load_json(os.path.join(WORLD_PATH, WORLD_FILENAME))\n",
    "    Trbt_dict = SAMPLED_DATA[\"WORLD\"][\"Trbt_dict\"]\n",
    "    for rkey in Trbt_dict:\n",
    "        Trbt_dict[rkey][0] = np.subtract(Trbt_dict[rkey][0], MODEL_OFFSET_TEST)\n",
    "    reach_center_dict = {k: tuple(np.add(v[0], REACH_OFFSET_DICT[k])) for k, v in Trbt_dict.items()}\n",
    "\n",
    "    cam = None\n",
    "    # set urdf\n",
    "    xcustom, JOINT_NAMES, LINK_NAMES, urdf_content = set_custom_robots(crob.robots_on_scene, Trbt_dict,\n",
    "                                                                       crob.custom_limits, start_rviz=VISUALIZE)\n",
    "    ghnd = GeometryHandle(urdf_content)\n",
    "    if VISUALIZE: time.sleep(2)\n",
    "\n",
    "    # set graph\n",
    "    graph = ConstraintGraph(ghnd=ghnd, urdf_path=URDF_PATH, joint_names=JOINT_NAMES, link_names=LINK_NAMES,\n",
    "                            urdf_content=urdf_content, combined_robot=crob)\n",
    "    graph.set_camera(cam)\n",
    "    graph.set_cam_robot_collision(_add_cam_poles=False, color=(1, 1, 0, 0.3))\n",
    "    if VISUALIZE: graph.set_rviz()\n",
    "\n",
    "    # start UI\n",
    "    ui_broker = UIBroker.instance()\n",
    "    ui_broker.initialize(graph)\n",
    "    ui_broker.start_server()\n",
    "\n",
    "    # set rviz\n",
    "    if VISUALIZE: graph.set_rviz(crob.home_pose)\n",
    "    ui_broker.set_tables()\n",
    "\n",
    "    for gripper in GRIPPER_REFS.values():\n",
    "        graph.register_binder(name=gripper['bname'], _type=FramedTool, point=gripper['tcp_ref'], rpy=[0, 0, 0],\n",
    "                              link_name=gripper['link_name'])\n",
    "    graph.register_binder(name='base', _type=PlaceFrame, point=[0, 0, 0], rpy=[0, 0, 0], link_name=BASE_LINK)\n",
    "    vtem = graph.ghnd.create_safe(name=\"virtual\", gtype=GEOTYPE.SPHERE, link_name=BASE_LINK,\n",
    "                                  dims=(0, 0, 0), center=(0, 0, 0), rpy=(0, 0, 0), collision=False, display=False\n",
    "                                  )\n",
    "    graph.add_object(\"virtual\",\n",
    "                     SingleHandleObject(_object=vtem,\n",
    "                                        action_point=FramePoint(name=\"point\", _object=vtem, point=(0, 0, 0),\n",
    "                                                                rpy=(0, 0, 0), name_full=None)),\n",
    "                     binding=(\"point\", \"base\"))\n",
    "\n",
    "    obj_list = []\n",
    "    col_obj_list = []\n",
    "\n",
    "    # SCENE\n",
    "    SCENE_PATH = os.path.join(WORLD_PATH, SCENE)\n",
    "    SAMPLED_DATA[\"SCENE\"] = load_json(os.path.join(SCENE_PATH, SCENE_FILENAME))\n",
    "    Q_s = np.array(SAMPLED_DATA[\"SCENE\"][\"Q_s\"])\n",
    "    Q_s, links, link_verts, link_ctems, link_rads = sample_joint(graph, Q_s_loaded=Q_s)\n",
    "    Q_s_dict = SAMPLED_DATA[\"SCENE\"][\"Q_s_dict\"]\n",
    "    obj_dat = SAMPLED_DATA[\"SCENE\"][\"obj_dat\"]\n",
    "\n",
    "    if VISUALIZE:\n",
    "        graph.show_pose(Q_s)\n",
    "        time.sleep(1)\n",
    "        graph.show_pose(Q_s)\n",
    "        time.sleep(1)\n",
    "        graph.show_pose(Q_s)\n",
    "    for obj in obj_list: graph.remove_geometry(obj)\n",
    "    for odat in obj_dat:\n",
    "        nbox, gtype, dims, color, center, rpy = odat[\"nbox\"], getattr(GEOTYPE, odat[\"gtype\"]), odat[\"dims\"], \\\n",
    "                                                odat[\"color\"], odat[\"center\"], odat[\"rpy\"]\n",
    "        center = np.subtract(center, MODEL_OFFSET_TEST)\n",
    "        obj = graph.ghnd.create_safe(\n",
    "            name=\"{}_{}_{}_{}\".format(gtype.name, *nbox), link_name=BASE_LINK, gtype=gtype,\n",
    "            center=center, rpy=rpy, dims=dims, color=color, display=True, collision=True, fixed=True)\n",
    "        obj_list.append(obj)\n",
    "        graph.add_marker(obj, vis=VISUALIZE)\n",
    "\n",
    "    for obj in col_obj_list: graph.remove_geometry(obj)\n",
    "\n",
    "    if VISUALIZE: graph.set_rviz()\n",
    "    dcol = DataCollector(graph, GRIPPER_REFS, S_F_RATIO=S_F_RATIO)\n",
    "    if VISUALIZE: graph.set_rviz()\n",
    "\n",
    "    # ACTION\n",
    "    print(\"[BEGIN] {} - {} - {} - {} ===============\".format(DATASET, WORLD, SCENE, ACTION))\n",
    "    snode_dict_bak = {int(k): v for k, v in load_json(os.path.join(SCENE_PATH, ACTION)).items()}\n",
    "    dcol.snode_dict = dcol.manager.dict()\n",
    "    for k, v in snode_dict_bak.items():\n",
    "        dcol.snode_dict[k] = deepcopy(v)\n",
    "    snode_keys = sorted(snode_dict_bak.keys())\n",
    "\n",
    "    if i_act not in snode_keys:\n",
    "        raise(RuntimeError(\"i_act not in snode_keys\"))\n",
    "\n",
    "    # snode\n",
    "    snode = dcol.snode_dict[i_act]\n",
    "    rname, inhand, obj, tar, dims_bak, color_bak, succ, _ = load_manipulation_from_dict(snode,\n",
    "                                                                                        graph.ghnd)\n",
    "    for gtem in [inhand, obj]:\n",
    "        if gtem.link_name == BASE_LINK:\n",
    "            gtem.set_offset_tf(center=np.subtract(gtem.center, MODEL_OFFSET_TEST))\n",
    "            gtem.set_offset_tf(orientation_mat=np.matmul(gtem.orientation_mat, Rot_axis(2, TEST_OFFSET_R)))\n",
    "\n",
    "    # action type\n",
    "    if rname and tar:  # handover case\n",
    "        action_type = \"HANDOVER\"\n",
    "    elif inhand.collision:  # place case\n",
    "        action_type = \"PLACE\"\n",
    "    elif obj.collision:  # pick case\n",
    "        action_type = \"PICK\"\n",
    "    else:\n",
    "        raise (RuntimeError(\"non-implemented case\"))\n",
    "\n",
    "    # planners\n",
    "    if action_type == \"HANDOVER\":\n",
    "        dual_mplan_dict = get_dual_planner_dict(GRIPPER_REFS, graph.ghnd, graph.urdf_content, graph.urdf_path,\n",
    "                                                graph.link_names, graph.combined_robot.robot_names)\n",
    "    else:\n",
    "        mplan = MoveitPlanner(joint_names=graph.joint_names, link_names=graph.link_names, urdf_path=graph.urdf_path,\n",
    "                              urdf_content=graph.urdf_content,\n",
    "                              robot_names=graph.combined_robot.robot_names,\n",
    "                              binder_links=[v.object.link_name for v in graph.binder_dict.values()],\n",
    "                              ghnd=graph.ghnd)\n",
    "\n",
    "    # plan\n",
    "    if rname and tar:  # handover case\n",
    "        remove_map = [[], [0, 1]]\n",
    "        action_type = \"HANDOVER\"\n",
    "        trajectory, Q_last, error, success_now = test_handover(graph, GRIPPER_REFS, rname, inhand,\n",
    "                                                               obj, tar, Q_s,\n",
    "                                                               dual_mplan_dict[(rname, tar)], timeout=TIMEOUT)\n",
    "        state_s, state_g = get_handover_states(graph, GRIPPER_REFS, rname, inhand, obj, tar, Q_s)\n",
    "    elif inhand.collision:  # place case\n",
    "        remove_map = [[], [0, 1]]\n",
    "        action_type = \"PLACE\"\n",
    "        trajectory, Q_last, error, success_now = test_place(graph, GRIPPER_REFS, rname, inhand, obj,\n",
    "                                                            tar, Q_s, mplan, timeout=TIMEOUT)\n",
    "        state_s, state_g = get_place_states(graph, GRIPPER_REFS, rname, inhand, obj, tar, Q_s)\n",
    "    elif obj.collision:  # pick case\n",
    "        remove_map = [[1], [0]]\n",
    "        action_type = \"PICK\"\n",
    "        trajectory, Q_last, error, success_now = test_pick(graph, GRIPPER_REFS, rname, inhand, obj,\n",
    "                                                           tar, Q_s, mplan, timeout=TIMEOUT)\n",
    "        state_s, state_g = get_pick_states(graph, GRIPPER_REFS, rname, inhand, obj, tar, Q_s)\n",
    "    else:\n",
    "        remove_map = [[], [0,1]]\n",
    "        action_type = \"None\"\n",
    "        raise (RuntimeError(\"non-implemented case\"))\n",
    "\n",
    "    if VISUALIZE:\n",
    "        show_manip_coords(graph, GRIPPER_REFS, action_type, rname, inhand, obj, rname2=tar)\n",
    "#         graph.show_motion(trajectory, period=0.1)\n",
    "\n",
    "    print(\"[END] {} - {} - {} - {} - {} = {} / {} ({}/{})\".format(DATASET, WORLD, SCENE, ACTION, i_act, success_now, succ, i_test, N_test), end='\\r')\n",
    "    TEST_OFFSET_RES_LIST.append(success_now)\n",
    "    \n",
    "    # convert_send scene\n",
    "    gtimer.reset()\n",
    "    gtimer.tic(\"convert_workspace\")\n",
    "    ghnd_new= graph.convert_workspace(ghnd)\n",
    "    gtimer.toc(\"convert_workspace\")\n",
    "\n",
    "    ## remove bases\n",
    "    exclude_list = [\"floor\", \"wall\", \"cam\"]\n",
    "    gkeys = sorted(ghnd_new.NAME_DICT.keys())\n",
    "    for gname in gkeys:\n",
    "        gtem = ghnd_new.NAME_DICT[gname]\n",
    "        if np.any([ename in gtem.name for ename in exclude_list]):\n",
    "            ghnd_new.remove(gtem)\n",
    "    graph.object_list=[]\n",
    "    from_state = state_s\n",
    "    to_state = state_g\n",
    "    gtimer.tic(\"convert_scene\")\n",
    "    scene_base_data, ctem_names, ctem_cells, chain_dict = graph.convert_scene(ghnd_new, state=from_state, only_base=False)\n",
    "    gtimer.toc(\"convert_scene\")\n",
    "    gtimer.tic(\"copy_scene_base_data\")\n",
    "    scene_base_batch_p[i_test] = scene_base_data\n",
    "    gtimer.toc(\"copy_scene_base_data\")\n",
    "    print(ghnd_new.NAME_DICT.keys())\n",
    "\n",
    "    # convert_send action\n",
    "    from pkg.planner.moveit.moveit_planner import MoveitPlanner\n",
    "    mplan = MoveitPlanner(joint_names=graph.joint_names, link_names=graph.link_names, urdf_path=graph.urdf_path, urdf_content=graph.urdf_content,\n",
    "                          robot_names=graph.combined_robot.robot_names, binder_links=[v.object.link_name for v in graph.binder_dict.values()], ghnd=graph.ghnd)\n",
    "    graph.set_planner(mplan)\n",
    "    from pkg.sampler.object_a_star import *\n",
    "    sampler = ObjectAstarSampler(graph)\n",
    "    graph.set_sampler(sampler)\n",
    "    sampler.build_graph()\n",
    "\n",
    "    state = from_state\n",
    "    leaf = sampler.node_dict[state.onode][0]\n",
    "    Q_dict = list2dict(state.Q, graph.joint_names)\n",
    "\n",
    "    gtimer.reset()\n",
    "    cell_init_b, verts_init_b, chain_init_b, cell_goal_b, verts_goal_b, chain_goal_b = [], [], [], [], [], []\n",
    "    gtimer.tic(\"get_action_boxes\")\n",
    "    cell_init, verts_init, chain_init, cell_goal, verts_goal, chain_goal = get_action_boxes(\n",
    "        graph, from_state, to_state, {}, mplan=mplan, L_CELL=0.2, Nwdh=(15,15,15), BASE_LINK='base_link')\n",
    "    gtimer.toc(\"get_action_boxes\")\n",
    "\n",
    "    cell_init_p[i_test,:] = cell_init\n",
    "    verts_init_p[i_test,:] = verts_init\n",
    "    chain_init_p[i_test,:] = chain_init\n",
    "    cell_goal_p[i_test,:] = cell_goal\n",
    "    verts_goal_p[i_test,:] = verts_goal\n",
    "    chain_goal_p[i_test,:] = chain_goal\n",
    "if VISUALIZE: graph.show_pose(Q_s)"
   ]
  },
  {
   "cell_type": "code",
   "execution_count": 86,
   "metadata": {},
   "outputs": [
    {
     "data": {
      "text/plain": [
       "[<matplotlib.lines.Line2D at 0x7f49202e1d10>]"
      ]
     },
     "execution_count": 86,
     "metadata": {},
     "output_type": "execute_result"
    },
    {
     "data": {
      "image/png": "[encoded data removed]",
      "text/plain": [
       "<Figure size 432x288 with 1 Axes>"
      ]
     },
     "metadata": {
      "needs_background": "light"
     },
     "output_type": "display_data"
    }
   ],
   "source": [
    "plt.plot(TEST_OFFSET_R_LIST, np.array(TEST_OFFSET_RES_LIST), '-o')"
   ]
  },
  {
   "cell_type": "code",
   "execution_count": 87,
   "metadata": {},
   "outputs": [
    {
     "data": {
      "text/plain": [
       "<matplotlib.legend.Legend at 0x7f49201c4210>"
      ]
     },
     "execution_count": 87,
     "metadata": {},
     "output_type": "execute_result"
    },
    {
     "data": {
      "image/png": "[encoded data removed]",
      "text/plain": [
       "<Figure size 504x216 with 1 Axes>"
      ]
     },
     "metadata": {
      "needs_background": "light"
     },
     "output_type": "display_data"
    }
   ],
   "source": [
    "plt.figure(figsize=(7,3))\n",
    "plt.plot(TEST_OFFSET_R_LIST, np.array(TEST_OFFSET_RES_LIST), '-o')\n",
    "plt.plot(TEST_OFFSET_R_LIST, np.array(result_p), '-o')\n",
    "plt.grid(True)\n",
    "plt.legend([\"GT\", \"Prediction\"])"
   ]
  },
  {
   "cell_type": "code",
   "execution_count": null,
   "metadata": {},
   "outputs": [],
   "source": []
  },
  {
   "cell_type": "code",
   "execution_count": null,
   "metadata": {},
   "outputs": [],
   "source": []
  },
  {
   "cell_type": "markdown",
   "metadata": {},
   "source": [
    "# Test code one-by-one"
   ]
  },
  {
   "cell_type": "markdown",
   "metadata": {},
   "source": [
    "## convert world"
   ]
  },
  {
   "cell_type": "code",
   "execution_count": 14,
   "metadata": {},
   "outputs": [
    {
     "name": "stdout",
     "output_type": "stream",
     "text": [
      "ignore BOX_1_3_0 out of workspace\n",
      "ignore BOX_12_0_6 out of workspace\n",
      "ignore CYLINDER_14_5_4 out of workspace\n",
      "ignore CYLINDER_14_2_9 out of workspace\n",
      "ignore CYLINDER_0_6_10 out of workspace\n",
      "ignore CYLINDER_6_0_8 out of workspace\n"
     ]
    }
   ],
   "source": [
    "gtimer.reset()\n",
    "gtimer.tic(\"convert_workspace\")\n",
    "ghnd_new= graph.convert_workspace(ghnd)\n",
    "gtimer.toc(\"convert_workspace\")\n",
    "\n",
    "## remove bases\n",
    "exclude_list = [\"floor\", \"wall\", \"cam\"]\n",
    "gkeys = sorted(ghnd_new.NAME_DICT.keys())\n",
    "for gname in gkeys:\n",
    "    gtem = ghnd_new.NAME_DICT[gname]\n",
    "    if np.any([ename in gtem.name for ename in exclude_list]):\n",
    "        ghnd_new.remove(gtem)"
   ]
  },
  {
   "cell_type": "markdown",
   "metadata": {},
   "source": [
    "## convert & send scene"
   ]
  },
  {
   "cell_type": "code",
   "execution_count": 15,
   "metadata": {
    "scrolled": true
   },
   "outputs": [
    {
     "name": "stdout",
     "output_type": "stream",
     "text": [
      "['CYLINDER_14_2_0', 'CYLINDER_12_9_6', 'CYLINDER_5_3_1', 'CYLINDER_12_9_5', 'BOX_11_9_7', 'BOX_11_9_6', 'CYLINDER_6_6_7', 'CYLINDER_6_1_2', 'indy0_link5_Cylinder_0', 'CYLINDER_6_8_6', 'panda1_leftfinger_Cylinder_0', 'panda1_link5_Cylinder_0', 'panda1_link5_Cylinder_1', 'panda1_hand_Cylinder_0', 'CYLINDER_12_4_2', 'CYLINDER_3_4_1', 'CYLINDER_3_13_8', 'CYLINDER_5_12_8', 'CYLINDER_12_6_7', 'BOX_11_12_4', 'CYLINDER_8_4_2', 'panda1_rightfinger_Cylinder_0', 'BOX_9_8_2', 'BOX_2_11_5', 'BOX_11_10_4', 'BOX_1_11_8', 'BOX_11_6_0', 'panda1_link2_Cylinder_0', 'indy0_tcp_Cylinder_2_3', 'CYLINDER_4_12_1', 'BOX_3_6_8', 'CYLINDER_12_8_4', 'BOX_6_7_6', 'indy0_tcp_Cylinder_0_1', 'CYLINDER_13_11_2', 'BOX_4_11_1', 'BOX_8_0_4', 'CYLINDER_11_9_6', 'BOX_12_6_2', 'BOX_3_10_7', 'CYLINDER_8_9_0', 'CYLINDER_8_9_3', 'panda1_link6_Cylinder_1', 'panda1_link6_Cylinder_0', 'panda1_link6_Cylinder_2', 'CYLINDER_0_10_2', 'BOX_11_11_7', 'panda1_link3_Cylinder_0', 'indy0_link2_Cylinder_0_000', 'indy0_link2_Cylinder_0_001', 'CYLINDER_5_4_6', 'CYLINDER_5_4_7', 'CYLINDER_5_4_0', 'BOX_2_12_3', 'CYLINDER_1_3_9', 'CYLINDER_12_9_10', 'CYLINDER_10_6_12', u'BOX_2_9_4', 'BOX_11_1_7', 'indy0_link6_Cylinder_0', 'panda1_link1_Cylinder_0', 'BOX_2_1_7', 'BOX_4_3_0', 'CYLINDER_14_2_10', 'panda1_link0_Cylinder_1', 'panda1_link0_Cylinder_0', 'CYLINDER_4_7_11', 'BOX_0_3_3', 'CYLINDER_11_10_1', 'CYLINDER_7_14_5', 'CYLINDER_4_3_3', 'indy0_link1_Cylinder_0', 'BOX_2_5_11', 'BOX_7_3_3', 'BOX_7_3_2', 'CYLINDER_9_6_4', 'BOX_10_11_5', 'BOX_10_4_1', 'indy0_link3_Cylinder_0', 'indy0_link0_Cylinder_0', 'BOX_2_4_9', 'BOX_0_9_2', 'panda1_link4_Cylinder_0', 'CYLINDER_6_2_1', 'CYLINDER_7_3_5', 'indy0_link4_Cylinder_0', 'CYLINDER_12_10_4', 'BOX_4_5_4', 'BOX_10_6_0', 'BOX_13_1_1', 'CYLINDER_9_3_2', 'BOX_12_5_8', 'indy0_link2_Cylinder_1', 'CYLINDER_9_3_9', 'CYLINDER_9_3_8', 'CYLINDER_12_3_6', 'BOX_5_7_11', 'BOX_7_2_2', 'BOX_4_9_2', 'BOX_9_6_4', 'BOX_9_9_2', 'BOX_10_2_0', 'CYLINDER_1_6_5']\n"
     ]
    }
   ],
   "source": [
    "graph.object_list=[]\n",
    "from_state = state_s\n",
    "to_state = state_g\n",
    "gtimer.tic(\"convert_scene\")\n",
    "scene_base_data, ctem_names, ctem_cells, chain_dict = graph.convert_scene(ghnd_new, state=from_state, only_base=False)\n",
    "gtimer.toc(\"convert_scene\")\n",
    "gtimer.tic(\"copy_scene_base_data\")\n",
    "np.copyto(scene_base_data_p, scene_base_data)\n",
    "gtimer.toc(\"copy_scene_base_data\")\n",
    "print(ghnd_new.NAME_DICT.keys())"
   ]
  },
  {
   "cell_type": "code",
   "execution_count": null,
   "metadata": {},
   "outputs": [],
   "source": []
  },
  {
   "cell_type": "markdown",
   "metadata": {},
   "source": [
    "## convert & send action"
   ]
  },
  {
   "cell_type": "code",
   "execution_count": 16,
   "metadata": {},
   "outputs": [],
   "source": [
    "from pkg.planner.moveit.moveit_planner import MoveitPlanner\n",
    "mplan = MoveitPlanner(joint_names=graph.joint_names, link_names=graph.link_names, urdf_path=graph.urdf_path, urdf_content=graph.urdf_content,\n",
    "                      robot_names=graph.combined_robot.robot_names, binder_links=[v.object.link_name for v in graph.binder_dict.values()], ghnd=graph.ghnd)\n",
    "graph.set_planner(mplan)\n",
    "from pkg.sampler.object_a_star import *\n",
    "sampler = ObjectAstarSampler(graph)\n",
    "graph.set_sampler(sampler)\n",
    "sampler.build_graph()\n",
    "\n",
    "state = from_state\n",
    "leaf = sampler.node_dict[state.onode][0]\n",
    "Q_dict = list2dict(state.Q, graph.joint_names)"
   ]
  },
  {
   "cell_type": "code",
   "execution_count": 18,
   "metadata": {},
   "outputs": [],
   "source": [
    "gtimer.reset()\n",
    "BATCH_SIZE = 12\n",
    "cell_init_b, verts_init_b, chain_init_b, cell_goal_b, verts_goal_b, chain_goal_b = [], [], [], [], [], []\n",
    "for _ in range(BATCH_SIZE):\n",
    "    gtimer.tic(\"get_action_boxes\")\n",
    "    cell_init, verts_init, chain_init, cell_goal, verts_goal, chain_goal = get_action_boxes(\n",
    "        graph, from_state, to_state, {}, mplan=mplan, L_CELL=0.2, Nwdh=(15,15,15), BASE_LINK='base_link')\n",
    "    cell_init_b.append(cell_init)\n",
    "    verts_init_b.append(verts_init)\n",
    "    chain_init_b.append(chain_init)\n",
    "    cell_goal_b.append(cell_goal)\n",
    "    verts_goal_b.append(verts_goal)\n",
    "    chain_goal_b.append(chain_goal)\n",
    "    gtimer.toc(\"get_action_boxes\")\n",
    "cell_init_b = np.array(cell_init_b)\n",
    "verts_init_b = np.array(verts_init_b)\n",
    "chain_init_b = np.array(chain_init_b)\n",
    "cell_goal_b = np.array(cell_goal_b)\n",
    "verts_goal_b = np.array(verts_goal_b)\n",
    "chain_goal_b = np.array(chain_goal_b)"
   ]
  },
  {
   "cell_type": "code",
   "execution_count": 19,
   "metadata": {},
   "outputs": [],
   "source": [
    "np.copyto(cell_init_p, cell_init_b)\n",
    "np.copyto(verts_init_p, verts_init_b)\n",
    "np.copyto(chain_init_p, chain_init_b)\n",
    "np.copyto(cell_goal_p, cell_goal_b)\n",
    "np.copyto(verts_goal_p, verts_goal_b)\n",
    "np.copyto(chain_goal_p, chain_goal_b)"
   ]
  },
  {
   "cell_type": "code",
   "execution_count": null,
   "metadata": {},
   "outputs": [],
   "source": []
  },
  {
   "cell_type": "code",
   "execution_count": 74,
   "metadata": {},
   "outputs": [],
   "source": [
    "centers = get_centers(Nwdh, L_CELL)-(1.5,1.5,H_MEAN)\n",
    "#centers = get_centers(Nwdh, L_CELL)\n",
    "for idx, center, cell_dat in zip(range(Nwdh[0]*Nwdh[1]*Nwdh[2]), centers.reshape((-1,3)), scene_data.reshape((-1, scene_data.shape[-1]))):\n",
    "    gtem, mask, chain = get_box_diplay(ghnd, \"box_{}\".format(idx), cell_dat, 0, joint_num, center)\n",
    "    if mask:\n",
    "        graph.add_marker(gtem)\n",
    "    gtem, mask, chain = get_cyl_diplay(ghnd, \"cyl_{}\".format(idx), cell_dat, N_BEGIN_CYL, joint_num, center)\n",
    "    if mask:\n",
    "        graph.add_marker(gtem)\n",
    "    gtem, mask, chain = get_box_diplay(ghnd, \"init_{}\".format(idx), cell_dat, N_BEGIN_INIT, joint_num, center, color=(0,0,0,0.8))\n",
    "    if mask:\n",
    "        graph.add_marker(gtem)\n",
    "    gtem, mask, chain = get_box_diplay(ghnd, \"goal_{}\".format(idx), cell_dat, N_BEGIN_GOAL, joint_num, center, color=(0.8,0.8,0.8,0.8))\n",
    "    if mask:\n",
    "        graph.add_marker(gtem)"
   ]
  },
  {
   "cell_type": "code",
   "execution_count": null,
   "metadata": {},
   "outputs": [],
   "source": []
  },
  {
   "cell_type": "code",
   "execution_count": 73,
   "metadata": {},
   "outputs": [],
   "source": [
    "\n",
    "for idx, center, cell_dat in zip(range(Nwdh[0]*Nwdh[1]*Nwdh[2]), centers.reshape((-1,3)), scene_data.reshape((-1, scene_data.shape[-1]))):\n",
    "    gtem, mask, chain = get_box_diplay(ghnd, \"box_{}\".format(idx), cell_dat, 0, joint_num, center)\n",
    "    if mask:\n",
    "        graph.remove_geometry(gtem)\n",
    "    gtem, mask, chain = get_cyl_diplay(ghnd, \"cyl_{}\".format(idx), cell_dat, N_BEGIN_CYL, joint_num, center)\n",
    "    if mask:\n",
    "        graph.remove_geometry(gtem)\n",
    "    gtem, mask, chain = get_box_diplay(ghnd, \"init_{}\".format(idx), cell_dat, N_BEGIN_INIT, joint_num, center, color=(0,0,0,0.8))\n",
    "    if mask:\n",
    "        graph.remove_geometry(gtem)\n",
    "    gtem, mask, chain = get_box_diplay(ghnd, \"goal_{}\".format(idx), cell_dat, N_BEGIN_GOAL, joint_num, center, color=(0,0,0,0.8))\n",
    "    if mask:\n",
    "        graph.remove_geometry(gtem)"
   ]
  },
  {
   "cell_type": "code",
   "execution_count": null,
   "metadata": {},
   "outputs": [],
   "source": []
  },
  {
   "cell_type": "code",
   "execution_count": null,
   "metadata": {},
   "outputs": [],
   "source": []
  },
  {
   "cell_type": "code",
   "execution_count": null,
   "metadata": {},
   "outputs": [],
   "source": []
  }
 ],
 "metadata": {
  "kernelspec": {
   "display_name": "Python 2",
   "language": "python",
   "name": "python2"
  },
  "language_info": {
   "codemirror_mode": {
    "name": "ipython",
    "version": 2
   },
   "file_extension": ".py",
   "mimetype": "text/x-python",
   "name": "python",
   "nbconvert_exporter": "python",
   "pygments_lexer": "ipython2",
   "version": "2.7.17"
  }
 },
 "nbformat": 4,
 "nbformat_minor": 2
}
