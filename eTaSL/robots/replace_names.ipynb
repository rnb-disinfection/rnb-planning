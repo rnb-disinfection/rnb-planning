{
 "cells": [
  {
   "cell_type": "code",
   "execution_count": 1,
   "metadata": {},
   "outputs": [],
   "source": [
    "from __future__ import print_function\n",
    "import fileinput"
   ]
  },
  {
   "cell_type": "code",
   "execution_count": 4,
   "metadata": {},
   "outputs": [],
   "source": [
    "all_names = [\n",
    "    'base_link',\n",
    "    'shoulder_pan_joint',\n",
    "    'shoulder_link',\n",
    "    'shoulder_lift_joint',\n",
    "    'upper_arm_link',\n",
    "    'elbow_joint',\n",
    "    'forearm_link',\n",
    "    'wrist_1_joint',\n",
    "    'wrist_1_link',\n",
    "    'wrist_2_joint',\n",
    "    'wrist_2_link',\n",
    "    'wrist_3_joint',\n",
    "    'wrist_3_link',\n",
    "    'ee_fixed_joint',\n",
    "    'ee_link',\n",
    "    'shoulder_pan_trans',\n",
    "    'shoulder_pan_joint',\n",
    "    'shoulder_pan_motor',\n",
    "    'shoulder_lift_trans',\n",
    "    'shoulder_lift_joint',\n",
    "    'shoulder_lift_motor',\n",
    "    'elbow_trans',\n",
    "    'elbow_joint',\n",
    "    'elbow_motor',\n",
    "    'wrist_1_trans',\n",
    "    'wrist_1_joint',\n",
    "    'wrist_1_motor',\n",
    "    'wrist_2_trans',\n",
    "    'wrist_2_joint',\n",
    "    'wrist_2_motor',\n",
    "    'wrist_3_trans',\n",
    "    'wrist_3_joint',\n",
    "    'wrist_3_motor',\n",
    "    'world_joint',\n",
    "    'base',\n",
    "    'base_link-base_fixed_joint',\n",
    "    'tool0',\n",
    "    'wrist_3_link-tool0_fixed_joint' #,\n",
    "    #'base_link'\n",
    "]"
   ]
  },
  {
   "cell_type": "code",
   "execution_count": 5,
   "metadata": {},
   "outputs": [],
   "source": [
    "post_fix = \"_2\"\n",
    "filename = \"ur10_robot_2.urdf\"\n",
    "for name in all_names:\n",
    "    file = fileinput.FileInput(filename, inplace=True, backup='.bak')\n",
    "    for line in file:\n",
    "        print(line.replace('\"%s\"'%name, '\"%s\"'%(name+post_fix)), end='')"
   ]
  },
  {
   "cell_type": "code",
   "execution_count": null,
   "metadata": {},
   "outputs": [],
   "source": []
  }
 ],
 "metadata": {
  "kernelspec": {
   "display_name": "Python 2",
   "language": "python",
   "name": "python2"
  },
  "language_info": {
   "codemirror_mode": {
    "name": "ipython",
    "version": 2
   },
   "file_extension": ".py",
   "mimetype": "text/x-python",
   "name": "python",
   "nbconvert_exporter": "python",
   "pygments_lexer": "ipython2",
   "version": "2.7.17"
  }
 },
 "nbformat": 4,
 "nbformat_minor": 4
}
