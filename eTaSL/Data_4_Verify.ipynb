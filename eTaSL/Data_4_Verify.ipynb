{
 "cells": [
  {
   "cell_type": "code",
   "execution_count": 1,
   "metadata": {},
   "outputs": [
    {
     "data": {
      "text/html": [
       "<style>.container { width:90% !important; } </style>"
      ],
      "text/plain": [
       "<IPython.core.display.HTML object>"
      ]
     },
     "metadata": {},
     "output_type": "display_data"
    },
    {
     "name": "stdout",
     "output_type": "stream",
     "text": [
      "connection_list\n",
      "(False, False)\n"
     ]
    }
   ],
   "source": [
    "from __future__ import print_function\n",
    "from IPython.core.display import display, HTML\n",
    "\n",
    "display(HTML(\"<style>.container { width:90% !important; } </style>\"))\n",
    "import matplotlib.pyplot as plt\n",
    "from pkg.marker_config import *\n",
    "from pkg.constraint_graph import *\n",
    "from pkg.constraint.constraint_action import *\n",
    "from pkg.constraint.constraint_object import *\n",
    "from pkg.constants import *\n",
    "from pkg.utils.plot_utils import *\n",
    "from pkg.utils.utils import *\n",
    "from pkg.environment_builder import *\n",
    "from pkg.ui.ui_broker import *\n",
    "from pkg.controller.combined_robot import *\n",
    "from pkg.controller.combined_robot import CombinedRobot, XYZ_RPY_ROBOTS_DEFAULT\n",
    "from pkg.data_collecting.sampling import *\n",
    "\n",
    "VISUALIZE = True\n",
    "graph = None\n",
    "SAMPLED_DATA = defaultdict(dict)\n",
    "UPDATE_DAT = True\n",
    "\n",
    "GLOBAL_FILENAME = \"global.json\"\n",
    "WORLD_FILENAME = \"world.json\"\n",
    "SCENE_FILENAME = \"scene.json\"\n",
    "DATA_PATH = \"./data\"\n",
    "CONVERTED_PATH = \"./data/converted\"\n",
    "try_mkdir(CONVERTED_PATH)\n",
    "\n",
    "gtimer = GlobalTimer.instance()\n",
    "elog = Logger()\n",
    "crob = CombinedRobot(connection_list=(False, False))\n",
    "\n",
    "CHECK_DICT = {}\n",
    "\n",
    "# ## Load Global params\n",
    "DATASET_LIST = sorted(filter(lambda x: x not in [\"backup\", \"converted\"], os.listdir(DATA_PATH)))"
   ]
  },
  {
   "cell_type": "markdown",
   "metadata": {},
   "source": [
    "## dataset"
   ]
  },
  {
   "cell_type": "code",
   "execution_count": 2,
   "metadata": {},
   "outputs": [
    {
     "name": "stdout",
     "output_type": "stream",
     "text": [
      "scene size: 3375 (15,15,15)\n"
     ]
    }
   ],
   "source": [
    "DATASET = DATASET_LIST[0]\n",
    "CHECK_DICT[DATASET] = {}\n",
    "CURRENT_PATH = os.path.join(DATA_PATH, DATASET)\n",
    "try_mkdir(os.path.join(CONVERTED_PATH, DATASET))\n",
    "\n",
    "\n",
    "## Load global params\n",
    "GLOBAL_PARAMS = load_json(os.path.join(CURRENT_PATH, GLOBAL_FILENAME))\n",
    "WDH = GLOBAL_PARAMS[\"WDH\"]\n",
    "L_CELL = GLOBAL_PARAMS[\"L_CELL\"]\n",
    "RATIO_DIMS = GLOBAL_PARAMS[\"RATIO_DIMS\"]\n",
    "REACH_OFFSET_DICT = GLOBAL_PARAMS[\"REACH_OFFSET_DICT\"]\n",
    "GRIPPER_REFS = GLOBAL_PARAMS[\"GRIPPER_REFS\"]\n",
    "BASE_LINK = GLOBAL_PARAMS[\"BASE_LINK\"]\n",
    "S_F_RATIO = GLOBAL_PARAMS[\"S_F_RATIO\"]\n",
    "TIMEOUT = GLOBAL_PARAMS[\"TIMEOUT\"]\n",
    "\n",
    "CENTER = tuple(np.divide(WDH, 2, dtype=np.float))\n",
    "Ws, Ds, Hs = WDH\n",
    "Nw, Nd, Nh = Nwdh = int(Ws / L_CELL), int(Ds / L_CELL), int(Hs / L_CELL)\n",
    "L_MAX = L_CELL * RATIO_DIMS\n",
    "print(\"scene size: {} ({},{},{})\".format(Nw * Nd * Nh, Nw, Nd, Nh))\n"
   ]
  },
  {
   "cell_type": "markdown",
   "metadata": {},
   "source": [
    "## world"
   ]
  },
  {
   "cell_type": "code",
   "execution_count": 3,
   "metadata": {},
   "outputs": [
    {
     "name": "stderr",
     "output_type": "stream",
     "text": [
      "Unknown tag \"hardwareInterface\" in /robot[@name='custom_robots']/transmission[@name='indy0_tran0']/actuator[@name='indy0_motor0']\n",
      "Unknown tag \"hardwareInterface\" in /robot[@name='custom_robots']/transmission[@name='indy0_tran1']/actuator[@name='indy0_motor1']\n",
      "Unknown tag \"hardwareInterface\" in /robot[@name='custom_robots']/transmission[@name='indy0_tran2']/actuator[@name='indy0_motor2']\n",
      "Unknown tag \"hardwareInterface\" in /robot[@name='custom_robots']/transmission[@name='indy0_tran3']/actuator[@name='indy0_motor3']\n",
      "Unknown tag \"hardwareInterface\" in /robot[@name='custom_robots']/transmission[@name='indy0_tran4']/actuator[@name='indy0_motor4']\n",
      "Unknown tag \"hardwareInterface\" in /robot[@name='custom_robots']/transmission[@name='indy0_tran5']/actuator[@name='indy0_motor5']\n"
     ]
    },
    {
     "name": "stdout",
     "output_type": "stream",
     "text": [
      "Please create a subscriber to the marker\n",
      "publication OK\n",
      "published: [0, 0, 0, 0, 0, 0, 0, 0, 0, 0, 0, 0, 0]\n",
      "Please create a subscriber to the marker\n",
      "Dash is running on http://127.0.0.1:8050/\n",
      "\n",
      " * Serving Flask app \"pkg.ui.dash_launcher\" (lazy loading)\n",
      " * Environment: production\n",
      "   WARNING: This is a development server. Do not use it in a production deployment.\n",
      "   Use a production WSGI server instead.\n",
      " * Debug mode: off\n",
      "[BEGIN] 20201208-121454 - WORLD-20201208-121454 - SCENE-20201208-121456 - 20201208-121507.json ===============\n",
      "Press Enter to continue...\n",
      "Press Enter to continue...\n",
      "Press Enter to continue...\n",
      "Press Enter to continue...\n",
      "[END] 20201208-121454 - WORLD-20201208-121454 - SCENE-20201208-121456 - 20201208-121507.json ===============\n",
      "============================ TERMINATE None ===================================\n"
     ]
    }
   ],
   "source": [
    "#Iterate world\n",
    "WORLD_LIST = sorted(filter(lambda x: not x.endswith(\".json\"), os.listdir(CURRENT_PATH)))\n",
    "\n",
    "for WORLD in WORLD_LIST[:1]:\n",
    "    CHECK_DICT[DATASET][WORLD] = {}\n",
    "    WORLD_PATH = os.path.join(CURRENT_PATH, WORLD)\n",
    "    try_mkdir(os.path.join(CONVERTED_PATH, DATASET, WORLD))\n",
    "    SAMPLED_DATA[\"WORLD\"] = load_json(os.path.join(WORLD_PATH, WORLD_FILENAME))\n",
    "    Trbt_dict = SAMPLED_DATA[\"WORLD\"][\"Trbt_dict\"]\n",
    "    reach_center_dict = {k: tuple(np.add(v[0], REACH_OFFSET_DICT[k])) for k, v in Trbt_dict.items()}\n",
    "\n",
    "    cam = None\n",
    "    # set urdf\n",
    "    xcustom, JOINT_NAMES, LINK_NAMES, urdf_content = set_custom_robots(crob.robots_on_scene, Trbt_dict,\n",
    "                                                                       crob.custom_limits, start_rviz=VISUALIZE)\n",
    "    ghnd = GeometryHandle(urdf_content)\n",
    "    time.sleep(2)\n",
    "\n",
    "    # set graph\n",
    "    graph = ConstraintGraph(ghnd=ghnd, urdf_path=URDF_PATH, joint_names=JOINT_NAMES, link_names=LINK_NAMES,\n",
    "                            urdf_content=urdf_content, combined_robot=crob)\n",
    "    graph.set_camera(cam)\n",
    "    graph.set_cam_robot_collision(_add_cam_poles=False, color=(1, 1, 0, 0.3))\n",
    "    if VISUALIZE: graph.set_rviz()\n",
    "\n",
    "    # start UI\n",
    "    ui_broker = UIBroker.instance()\n",
    "    ui_broker.initialize(graph)\n",
    "    ui_broker.start_server()\n",
    "    \n",
    "    ui_broker.set_tables()\n",
    "\n",
    "    for gripper in GRIPPER_REFS.values():\n",
    "        graph.register_binder(name=gripper['bname'], _type=FramedTool, point=gripper['tcp_ref'], rpy=[0, 0, 0],\n",
    "                              link_name=gripper['link_name'])\n",
    "    graph.register_binder(name='base', _type=PlaceFrame, point=[0, 0, 0], rpy=[0, 0, 0], link_name=BASE_LINK)\n",
    "    vtem = graph.ghnd.create_safe(name=\"virtual\", gtype=GEOTYPE.SPHERE, link_name=BASE_LINK,\n",
    "                                  dims=(0, 0, 0), center=(0, 0, 0), rpy=(0, 0, 0), collision=False, display=False\n",
    "                                  )\n",
    "    graph.add_object(\"virtual\",\n",
    "                     SingleHandleObject(_object=vtem,\n",
    "                                        action_point=FramePoint(name=\"point\", _object=vtem, point=(0, 0, 0),\n",
    "                                                                rpy=(0, 0, 0), name_full=None)),\n",
    "                     binding=(\"point\", \"base\"))\n",
    "\n",
    "    obj_list = []\n",
    "    col_obj_list = []\n",
    "\n",
    "    # Iterate scene\n",
    "    SCENE_LIST = sorted(filter(lambda x: not x.endswith(\".json\"), os.listdir(WORLD_PATH)))\n",
    "    for SCENE in SCENE_LIST:\n",
    "        try_mkdir(os.path.join(CONVERTED_PATH, DATASET, WORLD, SCENE))\n",
    "        CHECK_DICT[DATASET][WORLD][SCENE] = {}\n",
    "        SCENE_PATH = os.path.join(WORLD_PATH, SCENE)\n",
    "        SAMPLED_DATA[\"SCENE\"] = load_json(os.path.join(SCENE_PATH, SCENE_FILENAME))\n",
    "        Q_s = np.array(SAMPLED_DATA[\"SCENE\"][\"Q_s\"])\n",
    "        Q_s, links, link_verts, link_ctems, link_rads = sample_joint(graph, Q_s_loaded=Q_s)\n",
    "        Q_s_dict = SAMPLED_DATA[\"SCENE\"][\"Q_s_dict\"]\n",
    "        obj_dat = SAMPLED_DATA[\"SCENE\"][\"obj_dat\"]\n",
    "\n",
    "        if VISUALIZE:\n",
    "            graph.show_pose(Q_s)\n",
    "            time.sleep(1)\n",
    "            graph.show_pose(Q_s)\n",
    "            time.sleep(1)\n",
    "            graph.show_pose(Q_s)\n",
    "        for obj in obj_list: graph.remove_geometry(obj)\n",
    "        for odat in obj_dat:\n",
    "            nbox, gtype, dims, color, center, rpy = odat[\"nbox\"], getattr(GEOTYPE, odat[\"gtype\"]), odat[\"dims\"], \\\n",
    "                                                    odat[\"color\"], odat[\"center\"], odat[\"rpy\"]\n",
    "            obj = graph.ghnd.create_safe(\n",
    "                name=\"{}_{}_{}_{}\".format(gtype.name, *nbox), link_name=BASE_LINK, gtype=gtype,\n",
    "                center=center, rpy=rpy, dims=dims, color=color, display=True, collision=True, fixed=True)\n",
    "            obj_list.append(obj)\n",
    "            graph.add_marker(obj, vis=VISUALIZE)\n",
    "\n",
    "        for obj in col_obj_list: graph.remove_geometry(obj)\n",
    "\n",
    "        if VISUALIZE: graph.set_rviz()\n",
    "\n",
    "        # Iterate actions\n",
    "        ACTION_LIST = sorted(filter(lambda x: x != SCENE_FILENAME, os.listdir(SCENE_PATH)))\n",
    "        for ACTION in ACTION_LIST[:1]:\n",
    "            N_action = get_action_count(CONVERTED_PATH, DATASET, WORLD, SCENE, ACTION)\n",
    "            print(\"[BEGIN] {} - {} - {} - {} ===============\".format(DATASET, WORLD, SCENE, ACTION))\n",
    "            CHECK_DICT[DATASET][WORLD][SCENE][ACTION] = {}\n",
    "            snode_dict = {int(k): v for k, v in load_json(os.path.join(SCENE_PATH, ACTION)).items()}\n",
    "            snode_keys = sorted(snode_dict.keys())\n",
    "\n",
    "            if snode_keys:\n",
    "                sk0 = snode_keys[0]\n",
    "                rname, tar, inhand_coll, obj_coll = \\\n",
    "                    snode_dict[sk0][\"rname1\"], snode_dict[sk0][\"rname2\"], \\\n",
    "                    snode_dict[sk0][\"obj1\"][\"collision\"], snode_dict[sk0][\"obj2\"][\"collision\"]\n",
    "            else:\n",
    "                print(\"[END] {} - {} - {} - {} ===============\".format(DATASET, WORLD, SCENE, ACTION))\n",
    "                print(\"No Item\")\n",
    "\n",
    "\n",
    "            if rname and tar:  # handover case\n",
    "                action_type = \"HANDOVER\"\n",
    "            elif inhand_coll:  # place case\n",
    "                action_type = \"PLACE\"\n",
    "            elif obj_coll:  # pick case\n",
    "                action_type = \"PICK\"\n",
    "            else:\n",
    "                raise (RuntimeError(\"non-implemented case\"))\n",
    "\n",
    "            ID=None\n",
    "\n",
    "            elog = Logger()\n",
    "            acquired = False\n",
    "            for i_act in range(N_action):\n",
    "                scene_data, success, skey = load_scene_data(CONVERTED_PATH, DATASET, WORLD, SCENE, ACTION, i_act, crob.joint_num)\n",
    "                try:\n",
    "                    snode = snode_dict[skey]\n",
    "                    rname, inhand, obj, tar, dims_bak, color_bak, succ, _ = load_manipulation_from_dict(snode,\n",
    "                                                                                                        graph.ghnd)\n",
    "                except Exception as e:\n",
    "                    if not elog.log(str(e)):\n",
    "                        break\n",
    "                    continue\n",
    "                try:\n",
    "\n",
    "                    if rname and tar:  # handover case\n",
    "                        remove_map = [[], [0, 1]]\n",
    "                        action_type = \"HANDOVER\"\n",
    "                    elif inhand.collision:  # place case\n",
    "                        remove_map = [[], [0, 1]]\n",
    "                        action_type = \"PLACE\"\n",
    "                    elif obj.collision:  # pick case\n",
    "                        remove_map = [[1], [0]]\n",
    "                        action_type = \"PICK\"\n",
    "                    else:\n",
    "                        remove_map = [[], [0,1]]\n",
    "                        action_type = \"None\"\n",
    "                        raise (RuntimeError(\"non-implemented case\"))\n",
    "                    if VISUALIZE: show_manip_coords(graph, GRIPPER_REFS, action_type, rname, inhand, obj, rname2=tar)\n",
    "                    raw_input(\"Press Enter to continue...\")\n",
    "                except Exception as e:\n",
    "                    if not elog.log(str(e)):\n",
    "                        break\n",
    "                finally:\n",
    "                    remove1 = [[inhand, obj][iii] for iii in remove_map[0]]\n",
    "                    remove2 = [[inhand, obj][iii] for iii in remove_map[1]]\n",
    "                    reset_rendering(graph, action_type, remove1, remove2, dims_bak, color_bak, sleep=True,\n",
    "                                    vis=VISUALIZE)\n",
    "            print(\"[END] {} - {} - {} - {} ===============\".format(DATASET, WORLD, SCENE, ACTION))\n",
    "        print(\"============================ TERMINATE {} ===================================\".format(ID))"
   ]
  },
  {
   "cell_type": "code",
   "execution_count": 4,
   "metadata": {},
   "outputs": [],
   "source": [
    "joint_num = crob.joint_num\n",
    "\n",
    "N_vtx_box = 3*8\n",
    "N_mask_box = 1\n",
    "N_joint_box = joint_num\n",
    "N_label_box = N_vtx_box+N_mask_box+N_joint_box\n",
    "N_vtx_cyl = 3*2+1\n",
    "N_mask_cyl = 1\n",
    "N_joint_cyl = joint_num\n",
    "N_label_cyl = N_vtx_cyl+N_mask_cyl+N_joint_cyl\n",
    "N_vtx_init = 3*8\n",
    "N_mask_init = 1\n",
    "N_joint_init = joint_num\n",
    "N_label_init = N_vtx_init+N_mask_init+N_joint_init\n",
    "N_vtx_goal = 3*8\n",
    "N_mask_goal = 1\n",
    "N_joint_goal = joint_num\n",
    "N_label_goal = N_vtx_goal+N_mask_goal+N_joint_goal\n",
    "N_joint_label = 6*joint_num\n",
    "N_cell_label = N_label_box+N_label_cyl+N_label_init+N_label_goal + N_joint_label\n",
    "N_BEGIN_CYL = N_vtx_box+N_mask_box+N_joint_box\n",
    "N_BEGIN_INIT = N_BEGIN_CYL+N_vtx_cyl+N_mask_cyl+N_joint_cyl\n",
    "N_BEGIN_GOAL = N_BEGIN_INIT+N_vtx_init+N_mask_init+N_joint_init"
   ]
  },
  {
   "cell_type": "code",
   "execution_count": null,
   "metadata": {},
   "outputs": [],
   "source": []
  },
  {
   "cell_type": "code",
   "execution_count": 89,
   "metadata": {},
   "outputs": [],
   "source": [
    "def get_box_diplay(ghnd, name, cell_dat, N_BEGIN, joint_num, center, base_link=BASE_LINK, color=(0.8,0.0,0.0,0.5), dim_offset=(0,0,0)):\n",
    "    verts = cell_dat[N_BEGIN:N_BEGIN+N_vtx_box]\n",
    "    mask = bool(cell_dat[N_BEGIN+N_vtx_box])\n",
    "    chain = cell_dat[N_BEGIN+N_vtx_box+1:N_BEGIN+N_vtx_box+1+joint_num]\n",
    "    if mask:\n",
    "        verts_res = verts.reshape((-1,3))\n",
    "        center_loc = np.mean(verts_res, axis=0)\n",
    "        dim_x = float(np.linalg.norm(verts_res[4,:]-verts_res[0,:]))\n",
    "        dim_y = float(np.linalg.norm(verts_res[2,:]-verts_res[0,:]))\n",
    "        dim_z = float(np.linalg.norm(verts_res[1,:]-verts_res[0,:]))\n",
    "        dims = (dim_x, dim_y, dim_z)\n",
    "        verts_ref = BOX_DEFAULT*dims\n",
    "        verts_ctd = verts_res-center_loc\n",
    "        R = np.matmul(np.linalg.pinv(verts_ref), verts_ctd).transpose()\n",
    "        rpy = tuple(Rot2rpy(R))\n",
    "        center = tuple(np.add(center, center_loc))\n",
    "        box = ghnd.create_safe(name=name, gtype=GEOTYPE.BOX, link_name=base_link,\n",
    "                               dims=tuple(np.add(dims, dim_offset)), center=center, rpy=rpy, \n",
    "                               collision=False, display=True, color=color)\n",
    "    else:\n",
    "        box = None\n",
    "    return box, mask, chain\n",
    "\n",
    "def get_cyl_diplay(ghnd, name, cell_dat, N_BEGIN, joint_num, center, base_link=BASE_LINK, color=(0.8,0.0,0.0,0.5), dim_offset=(0,0,0)):\n",
    "    verts = cell_dat[N_BEGIN:N_BEGIN+N_vtx_cyl]\n",
    "    mask = bool(cell_dat[N_BEGIN+N_vtx_cyl])\n",
    "    chain = cell_dat[N_BEGIN+N_vtx_cyl+1:N_BEGIN+N_vtx_cyl+1+joint_num]\n",
    "    if mask:\n",
    "        verts_res = verts[:-1].reshape((-1,3))\n",
    "        center_loc = np.mean(verts_res, axis=0)\n",
    "        dim_z = float(np.linalg.norm(verts_res[1,:]-verts_res[0,:]))\n",
    "        dims = (verts[-1], verts[-1], dim_z)\n",
    "        verts_ref = SEG_DEFAULT*dims\n",
    "        verts_ctd = verts_res-center_loc\n",
    "        vec=(verts_ctd[1] -verts_ctd[0])/dims[2]\n",
    "        v = np.arctan2(np.linalg.norm(vec[:2]), vec[2])\n",
    "        w = np.arctan2(vec[1], vec[0])\n",
    "        R = Rot_zyx(w,v,0)\n",
    "        rpy = Rot2rpy(R)\n",
    "        center = tuple(np.add(center, center_loc))\n",
    "        cyl = ghnd.create_safe(name=name, gtype=GEOTYPE.CYLINDER, link_name=base_link,\n",
    "                               dims=tuple(np.add(dims, dim_offset)), center=center, rpy=rpy, \n",
    "                               collision=False, display=True, color=color)\n",
    "    else:\n",
    "        cyl = None\n",
    "    return cyl, mask, chain"
   ]
  },
  {
   "cell_type": "code",
   "execution_count": 91,
   "metadata": {},
   "outputs": [],
   "source": [
    "centers = get_centers(Nwdh, L_CELL)\n",
    "for idx, center, cell_dat in zip(range(Nwdh[0]*Nwdh[1]*Nwdh[2]), centers.reshape((-1,3)), scene_data.reshape((-1, scene_data.shape[-1]))):\n",
    "    gtem, mask, chain = get_box_diplay(ghnd, \"box_{}\".format(idx), cell_dat, 0, joint_num, center, dim_offset=(-0.01,0.01,0))\n",
    "    if mask:\n",
    "        graph.add_marker(gtem)\n",
    "    gtem, mask, chain = get_cyl_diplay(ghnd, \"cyl_{}\".format(idx), cell_dat, N_BEGIN_CYL, joint_num, center, dim_offset=(-0.01,0.01,0))\n",
    "    if mask:\n",
    "        graph.add_marker(gtem)\n",
    "    gtem, mask, chain = get_box_diplay(ghnd, \"init_{}\".format(idx), cell_dat, N_BEGIN_INIT, joint_num, center, color=(0,0,0,0.8))\n",
    "    if mask:\n",
    "        graph.add_marker(gtem)\n",
    "    gtem, mask, chain = get_box_diplay(ghnd, \"goal_{}\".format(idx), cell_dat, N_BEGIN_GOAL, joint_num, center, color=(0.8,0.8,0.8,0.8))\n",
    "    if mask:\n",
    "        graph.add_marker(gtem)"
   ]
  },
  {
   "cell_type": "code",
   "execution_count": 90,
   "metadata": {},
   "outputs": [],
   "source": [
    "centers = get_centers(Nwdh, L_CELL)\n",
    "for idx, center, cell_dat in zip(range(Nwdh[0]*Nwdh[1]*Nwdh[2]), centers.reshape((-1,3)), scene_data.reshape((-1, scene_data.shape[-1]))):\n",
    "    gtem, mask, chain = get_box_diplay(ghnd, \"box_{}\".format(idx), cell_dat, 0, joint_num, center)\n",
    "    if mask:\n",
    "        graph.remove_geometry(gtem)\n",
    "    gtem, mask, chain = get_cyl_diplay(ghnd, \"cyl_{}\".format(idx), cell_dat, N_BEGIN_CYL, joint_num, center)\n",
    "    if mask:\n",
    "        graph.remove_geometry(gtem)\n",
    "    gtem, mask, chain = get_box_diplay(ghnd, \"init_{}\".format(idx), cell_dat, N_BEGIN_INIT, joint_num, center, color=(0,0,0,0.8))\n",
    "    if mask:\n",
    "        graph.remove_geometry(gtem)\n",
    "    gtem, mask, chain = get_box_diplay(ghnd, \"goal_{}\".format(idx), cell_dat, N_BEGIN_GOAL, joint_num, center, color=(0,0,0,0.8))\n",
    "    if mask:\n",
    "        graph.remove_geometry(gtem)"
   ]
  },
  {
   "cell_type": "code",
   "execution_count": 92,
   "metadata": {},
   "outputs": [
    {
     "data": {
      "text/plain": [
       "False"
      ]
     },
     "execution_count": 92,
     "metadata": {},
     "output_type": "execute_result"
    }
   ],
   "source": [
    "success"
   ]
  },
  {
   "cell_type": "code",
   "execution_count": 98,
   "metadata": {},
   "outputs": [
    {
     "data": {
      "text/plain": [
       "(13, 6)"
      ]
     },
     "execution_count": 98,
     "metadata": {},
     "output_type": "execute_result"
    }
   ],
   "source": [
    "xi = cell_dat[-N_joint_label:].reshape((-1,6))\n",
    "xi.shape"
   ]
  },
  {
   "cell_type": "code",
   "execution_count": 100,
   "metadata": {},
   "outputs": [
    {
     "data": {
      "text/plain": [
       "array([[ 0.00000000e+00,  0.00000000e+00,  1.00000000e+00,\n",
       "        -1.39322629e+00,  2.10633632e+00,  0.00000000e+00],\n",
       "       [ 5.54593285e-01, -8.32121539e-01,  2.39765831e-23,\n",
       "        -1.55595530e+00, -1.03701481e+00,  2.52540176e+00],\n",
       "       [ 5.54593285e-01, -8.32121539e-01,  2.39765831e-23,\n",
       "        -1.31654377e+00, -8.77451548e-01,  2.87140995e+00],\n",
       "       [-7.45370301e-01, -4.96775224e-01, -4.44564398e-01,\n",
       "        -7.99917897e-02,  1.15751441e-01,  4.77108883e-03],\n",
       "       [ 6.62882953e-01, -6.23095262e-01, -4.15136670e-01,\n",
       "        -3.51353357e-01, -2.25336418e+00,  2.82112971e+00],\n",
       "       [ 5.83639311e-01,  8.27189909e-02,  8.07788814e-01,\n",
       "        -1.36532635e+00,  9.86672182e-01,  8.85431428e-01],\n",
       "       [ 0.00000000e+00,  0.00000000e+00,  1.00000000e+00,\n",
       "        -6.70889997e-01,  1.25615623e+00,  0.00000000e+00],\n",
       "       [ 8.85297496e-01,  4.65025072e-01,  4.89658878e-12,\n",
       "         8.67447310e-01, -1.65141404e+00,  9.79309373e-03],\n",
       "       [-2.69285243e-01,  5.12655264e-01,  8.15272987e-01,\n",
       "         4.09337108e-01,  1.52642888e+00, -8.24635880e-01],\n",
       "       [ 3.38256837e-01, -7.42262139e-01,  5.78471491e-01,\n",
       "        -1.46553573e+00,  1.89748192e-01,  1.10043518e+00],\n",
       "       [ 4.42601423e-02,  6.26574176e-01,  7.78104041e-01,\n",
       "         6.09833226e-01,  9.75922794e-01, -8.20557782e-01],\n",
       "       [-9.93636537e-01,  1.08359289e-01, -3.07370791e-02,\n",
       "         1.47167392e-01,  1.23759181e+00, -3.94517928e-01],\n",
       "       [ 1.12397206e-02,  3.66921333e-01,  9.30184078e-01,\n",
       "         3.24841540e-01,  1.21074391e+00, -4.81516409e-01]])"
      ]
     },
     "execution_count": 100,
     "metadata": {},
     "output_type": "execute_result"
    }
   ],
   "source": [
    "xi"
   ]
  },
  {
   "cell_type": "code",
   "execution_count": 48,
   "metadata": {},
   "outputs": [],
   "source": [
    "R=np.identity(3)"
   ]
  },
  {
   "cell_type": "code",
   "execution_count": 49,
   "metadata": {},
   "outputs": [],
   "source": [
    "R[:3,2] = vec"
   ]
  },
  {
   "cell_type": "code",
   "execution_count": 42,
   "metadata": {},
   "outputs": [],
   "source": [
    "rotvec = np.cross([0,0,1], vec)"
   ]
  },
  {
   "cell_type": "code",
   "execution_count": 44,
   "metadata": {},
   "outputs": [
    {
     "ename": "AttributeError",
     "evalue": "'module' object has no attribute 'normalize'",
     "output_type": "error",
     "traceback": [
      "\u001b[0;31m---------------------------------------------------------------------------\u001b[0m",
      "\u001b[0;31mAttributeError\u001b[0m                            Traceback (most recent call last)",
      "\u001b[0;32m<ipython-input-44-93d393e265ff>\u001b[0m in \u001b[0;36m<module>\u001b[0;34m()\u001b[0m\n\u001b[0;32m----> 1\u001b[0;31m \u001b[0mnp\u001b[0m\u001b[0;34m.\u001b[0m\u001b[0mlinalg\u001b[0m\u001b[0;34m.\u001b[0m\u001b[0mnormalize\u001b[0m\u001b[0;34m(\u001b[0m\u001b[0;34m)\u001b[0m\u001b[0;34m\u001b[0m\u001b[0m\n\u001b[0m",
      "\u001b[0;31mAttributeError\u001b[0m: 'module' object has no attribute 'normalize'"
     ]
    }
   ],
   "source": [
    "from pkg.utils."
   ]
  },
  {
   "cell_type": "code",
   "execution_count": null,
   "metadata": {},
   "outputs": [],
   "source": []
  },
  {
   "cell_type": "code",
   "execution_count": null,
   "metadata": {},
   "outputs": [],
   "source": []
  },
  {
   "cell_type": "code",
   "execution_count": null,
   "metadata": {},
   "outputs": [],
   "source": []
  },
  {
   "cell_type": "code",
   "execution_count": null,
   "metadata": {},
   "outputs": [],
   "source": []
  },
  {
   "cell_type": "code",
   "execution_count": null,
   "metadata": {},
   "outputs": [],
   "source": []
  }
 ],
 "metadata": {
  "kernelspec": {
   "display_name": "Python 2",
   "language": "python",
   "name": "python2"
  },
  "language_info": {
   "codemirror_mode": {
    "name": "ipython",
    "version": 2
   },
   "file_extension": ".py",
   "mimetype": "text/x-python",
   "name": "python",
   "nbconvert_exporter": "python",
   "pygments_lexer": "ipython2",
   "version": "2.7.17"
  }
 },
 "nbformat": 4,
 "nbformat_minor": 2
}
