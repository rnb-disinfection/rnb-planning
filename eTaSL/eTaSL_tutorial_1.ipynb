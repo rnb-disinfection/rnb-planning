{
 "cells": [
  {
   "cell_type": "code",
   "execution_count": 1,
   "metadata": {},
   "outputs": [],
   "source": [
    "from __future__ import print_function\n",
    "import os\n",
    "from urdf_parser_py.urdf import URDF\n",
    "from scipy.spatial.transform import Rotation\n",
    "import time as timer\n",
    "import numpy as np\n",
    "# from IPython.core.display import display, HTML\n",
    "# display(HTML(\"<style>.container { width:90% !important; } </style>\"))\n",
    "from etasl_py.etasl import etasl_simulator,array_to_dict,dict_to_array,to_deg, to_rad\n",
    "import rospy\n",
    "from sensor_msgs.msg import JointState"
   ]
  },
  {
   "cell_type": "code",
   "execution_count": 2,
   "metadata": {},
   "outputs": [],
   "source": [
    "PROJ_DIR = os.getcwd()\n",
    "JOINT_NAMES = [\"shoulder_pan_joint\",\"shoulder_lift_joint\",\"elbow_joint\",\"wrist_1_joint\",\"wrist_2_joint\",\"wrist_3_joint\"]\n",
    "LINK_NAMES = ['base_link', 'shoulder_link', 'upper_arm_link', 'forearm_link', 'wrist_1_link', 'wrist_2_link', 'wrist_3_link', 'tool0']\n",
    "ZERO_JOINT_POSE = np.array([0, -np.pi*0.6 , np.pi*0.6,0,0,0])"
   ]
  },
  {
   "cell_type": "markdown",
   "metadata": {},
   "source": [
    "# Ros setting"
   ]
  },
  {
   "cell_type": "code",
   "execution_count": 3,
   "metadata": {},
   "outputs": [],
   "source": [
    "def get_publisher():\n",
    "    pub = rospy.Publisher('/joint_states', JointState, queue_size=10)\n",
    "    rospy.init_node('joint_state_publisher', anonymous=True)\n",
    "    rate = rospy.Rate(100) # 10hz\n",
    "    joints = JointState()\n",
    "    joints.header.seq += 1\n",
    "    joints.header.stamp = rospy.Time.now()\n",
    "    joints.name = [\"shoulder_pan_joint\",\"shoulder_lift_joint\",\"elbow_joint\",\"wrist_1_joint\",\"wrist_2_joint\",\"wrist_3_joint\"]\n",
    "    joints.position = [0, np.deg2rad(-90), 0, np.deg2rad(-90), 0, 0]\n",
    "    # Publish the marker\n",
    "    while pub.get_num_connections() < 1:\n",
    "        print(\"Please create a subscriber to the marker\");\n",
    "        timer.sleep(1)\n",
    "    print('publication OK')\n",
    "    pub.publish(joints);\n",
    "    print('published: {}'.format(joints.position))\n",
    "    return pub, joints, rate\n",
    "\n",
    "def show_motion(pose_list, marker_list, pub, joints):\n",
    "    for pvec in pose_list:\n",
    "        joints.header.seq += 1\n",
    "        joints.header.stamp = rospy.Time.now()\n",
    "        joints.position = pvec.tolist()\n",
    "        pub.publish(joints);\n",
    "        for marker in marker_list:\n",
    "            marker.move_marker({joints.name[i]: joints.position[i] for i in range(len(joint_names))})\n",
    "        print('published: {}'.format(joints.position), end=\"\\r\")"
   ]
  },
  {
   "cell_type": "markdown",
   "metadata": {},
   "source": [
    "# joint tools"
   ]
  },
  {
   "cell_type": "code",
   "execution_count": 4,
   "metadata": {},
   "outputs": [],
   "source": [
    "def get_parent_joint(link_name, urdf_content):\n",
    "    for joint in urdf_content.joints:\n",
    "        if joint.child == link_name:\n",
    "            return joint.name\n",
    "        \n",
    "def get_tf(to_link, joint_dict, urdf_content, from_link='base_link'):\n",
    "    T = np.identity(4)\n",
    "    T_J = np.identity(4)\n",
    "    link_cur = to_link\n",
    "    while link_cur != from_link:\n",
    "        parent_joint = urdf_content.joint_map[get_parent_joint(link_cur, urdf_content)]\n",
    "        if parent_joint.type == 'revolute':\n",
    "            T_J[:3,:3] = Rotation.from_rotvec(np.array(parent_joint.axis)*joint_dict[parent_joint.name]).as_dcm()\n",
    "        elif parent_joint.type == 'fixed':\n",
    "            pass\n",
    "        else:\n",
    "            raise NotImplementedError  \n",
    "        Toff = np.identity(4)\n",
    "        Toff[:3,3] = parent_joint.origin.xyz\n",
    "        Toff[:3,:3] = Rotation.from_euler(\"xyz\", \n",
    "                                          parent_joint.origin.rpy, degrees=False).as_dcm()\n",
    "        T = np.matmul(Toff, np.matmul(T_J,T))\n",
    "        link_cur = parent_joint.parent\n",
    "    return T\n",
    "\n",
    "def get_transformation(link_name):\n",
    "    return \"T_{link_name}\".format(link_name=link_name)\n",
    "\n",
    "def joint_list2dict(joint_list, joint_names=JOINT_NAMES):\n",
    "    return {joint_names[i]: joint_list[i] for i in range(len(joint_names))}"
   ]
  },
  {
   "cell_type": "markdown",
   "metadata": {},
   "source": [
    "# Geometry items"
   ]
  },
  {
   "cell_type": "code",
   "execution_count": 5,
   "metadata": {},
   "outputs": [],
   "source": [
    "class GeometryItem(object):\n",
    "    def __init__(self, name, link_name, urdf_content, color=(0,1,0,1), display=True, collision=True):\n",
    "        self.color = color\n",
    "        self.display = display\n",
    "        self.collision = collision\n",
    "        self.urdf_content = urdf_content\n",
    "        self.set_name(name)\n",
    "        self.set_link(link_name)\n",
    "    \n",
    "    def get_adjacent_links(self):\n",
    "        adjacent_links = [self.link_name]\n",
    "        for k, v in self.urdf_content.joint_map.items():\n",
    "            if v.parent == self.link_name:\n",
    "                adjacent_links += [v.child]\n",
    "            if v.child == self.link_name:\n",
    "                adjacent_links += [v.parent]\n",
    "        return list(set(adjacent_links))\n",
    "    \n",
    "    def set_name(self, name):\n",
    "        self.name = name\n",
    "        \n",
    "    def set_link(self, link_name):\n",
    "        self.link_name = link_name\n",
    "        self.link = self.urdf_content.link_map[link_name]\n",
    "        self.Tname = get_transformation(self.link_name)\n",
    "        self.adjacent_links = self.get_adjacent_links()\n",
    "        \n",
    "    def get_representation(self):\n",
    "        raise NotImplementedError\n",
    "        \n",
    "    def get_radius(self):\n",
    "        raise NotImplementedError\n",
    "        \n",
    "    def get_scale(self):\n",
    "        raise NotImplementedError\n",
    "    \n",
    "    def get_transformation(self):\n",
    "        orientation = self.get_orientation()\n",
    "        angle_option = \"\"\n",
    "        if np.sum(np.abs(orientation[:3]))>1e-4:\n",
    "            xyzrot = Rotation.from_quat(orientation).as_euler(\"xyz\")\n",
    "            for i in range(len(xyzrot)):\n",
    "                if abs(xyzrot[i])>1e-4:\n",
    "                    angle_option = \"*rotate_{axis}({val})\".format(axis=\"xyz\"[i], val=xyzrot[i])+angle_option\n",
    "        center = self.get_center()\n",
    "        center_option = \"\"\n",
    "        if np.sum(np.abs(center))>1e-4:\n",
    "            for i in range(len(center)):\n",
    "                if abs(center[i])>1e-4:\n",
    "                    center_option += \"*translate_{axis}({val})\".format(axis=\"xyz\"[i], val=center[i])\n",
    "        tf_text = \"{Tname}{center_option}{angle_option}\".format(\n",
    "            Tname=self.Tname, center_option=center_option, angle_option=angle_option)\n",
    "        return tf_text\n",
    "                \n",
    "        \n",
    "    def get_tf(self, joint_dict):\n",
    "        T = get_tf(to_link=self.link_name, joint_dict=joint_dict, urdf_content=self.urdf_content)\n",
    "        T = np.matmul(T, self.get_offset_tf())\n",
    "        return T\n",
    "        \n",
    "    def get_offset_tf(self):\n",
    "        T = np.identity(4)\n",
    "        T[:3,3] = self.get_center()\n",
    "        T[:3,:3] = Rotation.from_quat(self.get_orientation()).as_dcm()\n",
    "        return T\n",
    "        \n",
    "    def get_center(self):\n",
    "        return self.center\n",
    "        \n",
    "    def get_orientation(self):\n",
    "        return self.orientation\n",
    "        \n",
    "    def set_center(self, center):\n",
    "        self.center = center\n",
    "        \n",
    "    def set_orientation(self, orientation):\n",
    "        self.orientation = orientation\n",
    "\n",
    "        \n",
    "class GeoSphere(GeometryItem):\n",
    "    def __init__(self, center, radius, **kwargs):\n",
    "        self.center, self.radius = center, radius\n",
    "        self.orientation= (0,0,0,1)\n",
    "        super(GeoSphere, self).__init__(**kwargs)\n",
    "        \n",
    "    def get_representation(self):\n",
    "        return \"MultiSphere({{Vector({},{},{})}},{{ {} }})\".format(0, 0, 0, self.radius)\n",
    "        \n",
    "    def get_radius(self):\n",
    "        return 0\n",
    "        \n",
    "    def get_scale(self):\n",
    "        return [self.radius, self.radius, self.radius]\n",
    "\n",
    "        \n",
    "class GeoBox(GeometryItem):\n",
    "    def __init__(self, center, BLH, **kwargs):\n",
    "        self.center, self.BLH = center, BLH\n",
    "        self.orientation= (0,0,0,1)\n",
    "        super(GeoBox, self).__init__(**kwargs)\n",
    "        \n",
    "    def get_representation(self):\n",
    "        return \"Box({B},{L},{H})\".format(B=self.BLH[0], L=self.BLH[1], H=self.BLH[2])\n",
    "        \n",
    "    def get_radius(self):\n",
    "        return 0\n",
    "        \n",
    "    def get_scale(self):\n",
    "        return self.BLH\n",
    "\n",
    "\n",
    "class GeoSegment(GeometryItem):\n",
    "    def __init__(self, point0, axis, length, radius, **kwargs):\n",
    "        self.point0, self.axis, self.length, self.radius = \\\n",
    "            point0, axis, length, radius\n",
    "        self.orientation=self.get_axis_quat()\n",
    "        self.center = list(self.point0)\n",
    "        self.center[\"XYZ\".index(axis)] += length/2\n",
    "        super(GeoSegment, self).__init__(**kwargs)\n",
    "    \n",
    "    def get_axis_quat(self):\n",
    "        if self.axis == \"X\":\n",
    "            return Rotation.from_rotvec((0,np.pi/2,0)).as_quat()\n",
    "        elif self.axis == \"Y\":\n",
    "            return Rotation.from_rotvec((-np.pi/2,0,0)).as_quat()\n",
    "        elif self.axis == \"Z\":\n",
    "            return Rotation.from_rotvec((0,0,0)).as_quat()\n",
    "        \n",
    "    def get_representation(self):\n",
    "        return \"CapsuleZ({radius},{length})\".format(radius=self.radius,length=self.length)\n",
    "        \n",
    "    def get_radius(self):\n",
    "        return self.radius\n",
    "        \n",
    "    def get_scale(self):\n",
    "        return (self.radius*2, self.radius*2, self.length)\n",
    "    \n",
    "class GeoPointer:\n",
    "    def __init__(self, _object, direction=None):\n",
    "        assert direction is not None, \"GeoPoint need direction\"\n",
    "        self.__direction = direction\n",
    "        self.direction = self.__direction\n",
    "        self.object = _object\n",
    "    \n",
    "    def set_direction(self, direction):\n",
    "        self.direction = direction\n",
    "    \n",
    "    def get_direction(self):\n",
    "        return self.direction"
   ]
  },
  {
   "cell_type": "markdown",
   "metadata": {},
   "source": [
    "# Constraint"
   ]
  },
  {
   "cell_type": "code",
   "execution_count": 6,
   "metadata": {},
   "outputs": [],
   "source": [
    "def make_point_pair_constraint(obj1, obj2, varname, constraint_name):\n",
    "    return \"\"\"\n",
    "    local {varname}1 = {repre1}\n",
    "    local {varname}2 = {repre2}\"\"\".format(\n",
    "        varname=varname, repre1=obj1.get_representation(), repre2=obj2.get_representation()) + \\\n",
    "    \"\"\"\n",
    "    dist_{varname} = distance_between({T1},{varname}1,{ctem1radius},margin,{T2},{varname}2,{ctem2radius},margin)\n",
    "    Constraint{{\n",
    "        context=ctx,\n",
    "        name=\"{constraint_name}\",\n",
    "        expr = dist_{varname},\n",
    "        priority = 2,\n",
    "        K        = K\n",
    "    }}\"\"\".format(\n",
    "        constraint_name=constraint_name,\n",
    "        T1=obj1.get_transformation(), ctem1radius=0,\n",
    "        T2=obj2.get_transformation(), ctem2radius=0,\n",
    "        varname=varname\n",
    "    )\n",
    "\n",
    "def make_dir_constraint(pointer1, pointer2, name, constraint_name):\n",
    "    return \"\"\"\n",
    "    vec1 = vector{vec1}\n",
    "    vec2 = vector{vec2}\n",
    "    angle_{name} = angle_between_vectors(vec1,rotation(inv({T1})*{T2})*vec2)\"\"\".format(\n",
    "        T1=pointer1.object.get_transformation(),\n",
    "        T2=pointer2.object.get_transformation(),\n",
    "        vec1=tuple(pointer1.direction), vec2=tuple(pointer2.direction), name=name) + \\\n",
    "    \"\"\"\n",
    "    Constraint{{\n",
    "        context=ctx,\n",
    "        name=\"{constraint_name}\",\n",
    "        expr = angle_{name},\n",
    "        priority = 2,\n",
    "        K        = K\n",
    "    }}\"\"\".format(\n",
    "        constraint_name=constraint_name,\n",
    "        name=name\n",
    "    )\n",
    "    \n",
    "\n",
    "# define distances\n",
    "def make_distance_constraint(ctem1, ctem2):\n",
    "    return \"\"\"\n",
    "    Constraint{{\n",
    "    context=ctx,\n",
    "        name=\"{constraint_name}\",\n",
    "        expr = distance_between({T1},{ctem1},{ctem1radius},margin,{T2},{ctem2},{ctem2radius},margin),\n",
    "        target_lower = 0,\n",
    "        priority = 0\n",
    "    }}\"\"\".format(\n",
    "            constraint_name=ctem1.name+\"_\"+ctem2.name,\n",
    "            T1=ctem1.get_transformation(), ctem1=ctem1.name, ctem1radius=ctem1.get_radius(),\n",
    "            T2=ctem2.get_transformation(),ctem2=ctem2.name, ctem2radius=ctem2.get_radius())\n",
    "\n",
    "def make_directed_point_constraint(etasl_simulator, pointer1, pointer2, name):\n",
    "    constraint_name_point = \"point_pair_{name}\".format(name=name)\n",
    "    constraint_name_dir = \"dir_pair_{name}\".format(name=name)\n",
    "    pair_constraint = make_point_pair_constraint(pointer1.object, pointer2.object, constraint_name_point, constraint_name_point)\n",
    "    dir_constraint = make_dir_constraint(pointer1, pointer2, name=constraint_name_dir, constraint_name=constraint_name_dir)\n",
    "    etasl_simulator.readTaskSpecificationString(pair_constraint)\n",
    "    etasl_simulator.readTaskSpecificationString(dir_constraint)\n",
    "    etasl_simulator.readTaskSpecificationString(\n",
    "        'ctx:setOutputExpression(\"dist_{constraint_name_point}\",dist_{constraint_name_point})'.format(constraint_name_point=constraint_name_point))\n",
    "    etasl_simulator.readTaskSpecificationString(\n",
    "        'ctx:setOutputExpression(\"angle_{constraint_name_dir}\",angle_{constraint_name_dir})'.format(constraint_name_dir=constraint_name_dir))\n",
    "\n",
    "def update_pointer(action_point):\n",
    "    Toff = action_point.object.get_offset_tf()\n",
    "    action_point.point = np.matmul(Toff, list(action_point.point_dir[0])+[1])[:3]\n",
    "    action_point.direction = np.matmul(Toff[:3,:3], action_point.point_dir[1])\n",
    "    if hasattr(action_point, \"pointer\"):\n",
    "        action_point.pointer.object.set_link(action_point.object.link_name)\n",
    "        action_point.pointer.object.set_center(action_point.point)\n",
    "        action_point.pointer.set_direction(action_point.direction)\n",
    "    else:\n",
    "        action_point.pointer = GeoPointer(direction=action_point.direction, \n",
    "                                  _object=GeoSphere(name=action_point.name_constraint, center=action_point.point, radius=0, \n",
    "                                            link_name=action_point.object.link_name, urdf_content=action_point.object.urdf_content)\n",
    "                                 )\n",
    "\n",
    "class ActionPoint:\n",
    "    def add_constraints(self, etasl_simulator):\n",
    "        raise NotImplementedError\n",
    "\n",
    "class VacuumPoint(ActionPoint):\n",
    "    def __init__(self, name, _object, point_dir):\n",
    "        self.name = name\n",
    "        self.object = _object\n",
    "        self.point_dir = point_dir\n",
    "        self.name_constraint = \"vac_{objname}_{name}\".format(objname=self.object.name, name=self.name)\n",
    "        update_pointer(self)\n",
    "        \n",
    "    \n",
    "    def add_constraints(self, etasl_simulator, gripper_pointer):\n",
    "        update_pointer(self)\n",
    "        make_directed_point_constraint(etasl_simulator, self.pointer, gripper_pointer, self.name_constraint)\n",
    "            \n",
    "class PlacePoint(ActionPoint):\n",
    "    def __init__(self, name, _object, point_dir):\n",
    "        self.name = name\n",
    "        self.object = _object\n",
    "        self.point_dir = point_dir\n",
    "        self.name_constraint = \"place_{objname}_{name}\".format(objname=self.object.name, name=self.name)\n",
    "        update_pointer(self)\n",
    "        \n",
    "    def add_constraints(self, etasl_simulator, place_pointer):\n",
    "        update_pointer(self)\n",
    "        make_directed_point_constraint(etasl_simulator, self.pointer, place_pointer, self.name_constraint)\n",
    "    \n",
    "class ObjectAction:\n",
    "    def __init__(self):\n",
    "        raise NotImplementedError(\"ObjectAction is abstract class\")\n",
    "        \n",
    "class BoxGrip(ObjectAction):\n",
    "    def __init__(self, _object):\n",
    "        self.object = _object\n",
    "        Xhalf, Yhalf, Zhalf = np.array(_object.BLH)/2\n",
    "        self.grip_points_dict = {\n",
    "            \"top\": VacuumPoint(\"top\", _object, ([0,0,Zhalf], [0,0,-1])),\n",
    "            \"bottom\": VacuumPoint(\"bottom\", _object, ([0,0,-Zhalf], [0,0,1])),\n",
    "            \"right\": VacuumPoint(\"right\", _object, ([Xhalf,0,0], [-1,0,0])),\n",
    "            \"left\": VacuumPoint(\"left\", _object, ([-Xhalf,0,0], [1,0,0])),\n",
    "            \"front\": VacuumPoint(\"front\", _object, ([0,-Yhalf,0], [0,1,0])),\n",
    "            \"back\": VacuumPoint(\"back\", _object, ([0,Yhalf,0], [0,-1,0]))\n",
    "        }\n",
    "        \n",
    "    def add_constraints(self, point_name, etasl_simulator, gripper_pointer):\n",
    "        self.grip_points_dict[point_name].add_constraints(etasl_simulator, gripper_pointer)\n",
    "        \n",
    "class BoxPlace(ObjectAction):\n",
    "    def __init__(self, _object):\n",
    "        self.object = _object\n",
    "        Xhalf, Yhalf, Zhalf = np.array(_object.BLH)/2\n",
    "        self.place_point_dict = {\n",
    "            \"top\": PlacePoint(\"top\", _object, ([0,0,Zhalf], [0,0,-1])),\n",
    "            \"bottom\": PlacePoint(\"bottom\", _object, ([0,0,-Zhalf], [0,0,1])),\n",
    "            \"right\": PlacePoint(\"right\", _object, ([Xhalf,0,0], [-1,0,0])),\n",
    "            \"left\": PlacePoint(\"left\", _object, ([-Xhalf,0,0], [1,0,0])),\n",
    "            \"front\": PlacePoint(\"front\", _object, ([0,-Yhalf,0], [0,1,0])),\n",
    "            \"back\": PlacePoint(\"back\", _object, ([0,Yhalf,0], [0,-1,0]))\n",
    "        }\n",
    "        \n",
    "    def add_constraints(self, point_name, etasl_simulator, place_pointer):\n",
    "        self.place_point_dict[point_name].add_constraints(etasl_simulator, place_pointer)\n",
    "\n",
    "def add_joint_constraints(etasl, joint_names=JOINT_NAMES):\n",
    "    for i in range(len(joint_names)):\n",
    "        etasl.readTaskSpecificationString(\"\"\"\n",
    "            target_{joint_name} = ctx:createInputChannelScalar(\"target_{joint_name}\",0.0)\n",
    "            Constraint{{\n",
    "                context=ctx,\n",
    "                name=\"constraint_{joint_name}\",\n",
    "                expr=robot_jval[{index}]-target_{joint_name},\n",
    "                priority    = 2,\n",
    "                K           = K\n",
    "            }}\n",
    "            \"\"\".format(joint_name=joint_names[i], index=i+1))"
   ]
  },
  {
   "cell_type": "markdown",
   "metadata": {},
   "source": [
    "# Visualization class"
   ]
  },
  {
   "cell_type": "code",
   "execution_count": 7,
   "metadata": {},
   "outputs": [],
   "source": [
    "import rospy\n",
    "from visualization_msgs.msg import Marker\n",
    "import uuid\n",
    "\n",
    "class GeoMarker:\n",
    "    ID_COUNT = 0\n",
    "    def __init__(self, geometry, urdf_content, mark_name='visualization_marker', node_name=None):\n",
    "        if node_name is None:\n",
    "            node_name = mark_name + \"_pub\"\n",
    "        self.geometry = geometry\n",
    "        self.urdf_content = urdf_content\n",
    "        self.pub = rospy.Publisher(mark_name, Marker, queue_size=10)\n",
    "#         rospy.init_node(node_name, anonymous=True)\n",
    "        rate = rospy.Rate(1) # 10hz\n",
    "        # Publish the marker\n",
    "        while self.pub.get_num_connections() < 1:\n",
    "            print(\"Please create a subscriber to the marker\");\n",
    "            timer.sleep(1)\n",
    "        print('publication OK')\n",
    "    \n",
    "    def set_marker(self, joint_dict):\n",
    "        GeoMarker.ID_COUNT += 1\n",
    "        self.marker = Marker()\n",
    "        self.marker.header.frame_id = \"/base_link\"\n",
    "        self.marker.header.stamp = rospy.Time.now()\n",
    "        self.marker.ns = \"basic_shapes\"\n",
    "        self.marker.id = GeoMarker.ID_COUNT\n",
    "        self.marker.type = self.get_type()\n",
    "        self.marker.action = Marker.ADD\n",
    "        self.marker.scale.x, self.marker.scale.y, self.marker.scale.z = self.geometry.get_scale()\n",
    "        self.marker.color.r, self.marker.color.g, self.marker.color.b, self.marker.color.a  = self.geometry.color\n",
    "        self.marker.lifetime = rospy.Duration()\n",
    "        self.__set_position(joint_dict)\n",
    "        self.pub.publish(self.marker);\n",
    "        \n",
    "    def __set_position(self, joint_dict):\n",
    "        T = self.geometry.get_tf(joint_dict)\n",
    "#         R_off = \n",
    "        self.marker.pose.orientation.x, self.marker.pose.orientation.y, \\\n",
    "            self.marker.pose.orientation.z, self.marker.pose.orientation.w = \\\n",
    "            Rotation.from_dcm(T[:3,:3]).as_quat()\n",
    "        self.marker.pose.position.x, self.marker.pose.position.y, self.marker.pose.position.z = \\\n",
    "            T[:3,3]\n",
    "        \n",
    "    def move_marker(self, joint_dict = [0]*6):\n",
    "        self.marker.action = Marker.MODIFY\n",
    "        self.marker.header.stamp = rospy.Time.now()\n",
    "        self.__set_position(joint_dict)\n",
    "        self.pub.publish(self.marker);\n",
    "        \n",
    "    def get_type(self):\n",
    "        if isinstance(self.geometry, GeoBox):\n",
    "            return Marker.CUBE\n",
    "        elif isinstance(self.geometry, GeoSegment):\n",
    "            return Marker.CYLINDER\n",
    "        elif isinstance(self.geometry, GeoSphere):\n",
    "            return Marker.SPHERE\n",
    "        \n",
    "    def delete(self):\n",
    "        self.marker.action = Marker.DELETE\n",
    "        self.pub.publish(self.marker);\n",
    "        \n",
    "    def __del__(self):\n",
    "        self.marker.action = Marker.DELETE\n",
    "        self.pub.publish(self.marker);\n",
    "        \n",
    "def set_markers(collision_items, joints, joint_names, link_names, urdf_content):\n",
    "    marker_list = []\n",
    "    joint_dict = {joints.name[i]: joints.position[i] for i in range(len(joint_names))}\n",
    "    for link_name in link_names:\n",
    "        ctems = collision_items[link_name]\n",
    "        for ctem in ctems:\n",
    "            if ctem.display:\n",
    "                marker_list += [GeoMarker(geometry=ctem,urdf_content=urdf_content)]\n",
    "                marker_list[-1].set_marker(joint_dict)\n",
    "    return marker_list"
   ]
  },
  {
   "cell_type": "markdown",
   "metadata": {},
   "source": [
    "# Prepare eTaSL"
   ]
  },
  {
   "cell_type": "code",
   "execution_count": 8,
   "metadata": {},
   "outputs": [],
   "source": [
    "def get_joint_names_csv(joint_names=JOINT_NAMES):\n",
    "    jnames_format = \"\"\n",
    "    for jname in joint_names:\n",
    "        if jname not in urdf_content.joint_map \\\n",
    "                or urdf_content.joint_map[jname].axis is  None:\n",
    "            raise(\"invalid joint name is defined\")\n",
    "        jnames_format = jnames_format+'\"%s\",'%jname\n",
    "    jnames_format = jnames_format[:-1]\n",
    "    return jnames_format"
   ]
  },
  {
   "cell_type": "code",
   "execution_count": 9,
   "metadata": {},
   "outputs": [],
   "source": [
    "def get_simulation(collision_items, joint_names = JOINT_NAMES, link_names = LINK_NAMES):\n",
    "    etasl = etasl_simulator(nWSR=100, cputime=1000, regularization_factor= 1e-6)\n",
    "    jnames_format = get_joint_names_csv(joint_names)\n",
    "    # define margin and translation\n",
    "    transform_text = \\\n",
    "    \"\"\"\n",
    "        margin=0.0001\n",
    "        radius=0.0\n",
    "    \"\"\"\n",
    "    Texpression_text = \"\"\n",
    "    ctem_list = []\n",
    "    for c_key in link_names:\n",
    "        ctems = collision_items[c_key]\n",
    "        transform_text += '    u:addTransform(\"{T_link_name}\",\"{link_name}\",\"base_link\")\\n'.format(T_link_name=get_transformation(c_key), link_name=c_key)\n",
    "        Texpression_text += '    {T_link_name} = r.{T_link_name}\\n'.format(T_link_name=get_transformation(c_key))\n",
    "        for i in range(len(ctems)):\n",
    "            ctem = ctems[i]\n",
    "            if ctem.collision:\n",
    "                ctem_list += [ctem]\n",
    "    # print(transform_text)\n",
    "    # print(Texpression_text)\n",
    "\n",
    "\n",
    "    definition_text = \"\"\"\n",
    "        require(\"context\")\n",
    "        require(\"geometric\")\n",
    "        --require(\"libexpressiongraph_collision\")\n",
    "        require(\"collision\")\n",
    "        local u=UrdfExpr();\n",
    "        local fn = \"%s\"\n",
    "        u:readFromFile(fn)\n",
    "        u:addTransform(\"ee\",\"tool0\",\"base_link\")\n",
    "    %s\n",
    "        local r = u:getExpressions(ctx)\n",
    "        ee = r.ee\n",
    "    %s\n",
    "        robot_jname={%s}\n",
    "        robot_jval = {}\n",
    "        for i=1,#robot_jname do\n",
    "           robot_jval[i]   = ctx:getScalarExpr(robot_jname[i])\n",
    "        end\n",
    "\n",
    "        K=40\n",
    "    \"\"\"%(urdf_path, transform_text, Texpression_text, jnames_format)\n",
    "\n",
    "    # define items\n",
    "    item_text = \"\"\n",
    "    for c_key in link_names:\n",
    "        ctems = collision_items[c_key]\n",
    "        for i in range(len(ctems)):\n",
    "            ctem = ctems[i]\n",
    "            item_text += \"\"\"    {name}={ctem}\\n\"\"\".format(name=ctem.name, ctem=ctem.get_representation())\n",
    "    # print(item_text)\n",
    "\n",
    "    constraint_text = \"\"\n",
    "    for ctem1 in ctem_list:\n",
    "        for ctem2 in ctem_list[ctem_list.index(ctem1)+1:]:\n",
    "            if ctem2.link_name in ctem1.adjacent_links or ctem1.link_name in ctem2.adjacent_links:\n",
    "                pass\n",
    "            else:\n",
    "                constraint_text += make_distance_constraint(ctem1, ctem2)\n",
    "\n",
    "    etasl.readTaskSpecificationString(definition_text)\n",
    "    etasl.readTaskSpecificationString(item_text)\n",
    "    etasl.readTaskSpecificationString(constraint_text)\n",
    "    \n",
    "    return etasl\n",
    "\n",
    "def simulate(etasl, N=400, dt=0.005, joint_names = JOINT_NAMES, \n",
    "             initial_jpos = ZERO_JOINT_POSE, inp_lbl=[], inp=[]):\n",
    "    time = np.arange(0,N)*dt\n",
    "    pos_lbl = joint_names\n",
    "    # inp_lbl=['tgt_x','tgt_y','tgt_z']\n",
    "    # inp=[0.5, 0.0, 0.0]\n",
    "    \n",
    "    etasl.setInputTable(inp_lbl,inp)\n",
    "    etasl.initialize(initial_jpos, pos_lbl)\n",
    "    etasl.simulate(N=N,dt=dt)"
   ]
  },
  {
   "cell_type": "markdown",
   "metadata": {},
   "source": [
    "# Task constraints"
   ]
  },
  {
   "cell_type": "code",
   "execution_count": 10,
   "metadata": {},
   "outputs": [],
   "source": [
    "class ActionTool:\n",
    "    def __init__(self):\n",
    "        raise NotImplementedError(\"ActionTool is abstract class\")\n",
    "        \n",
    "class VacuumTool(ActionTool):\n",
    "    def __init__(self, point0, direction, link_name, urdf_content):\n",
    "        self.point0 = point0\n",
    "        self.direction = direction\n",
    "        self.link_name = link_name\n",
    "        self.name_constraint = \"gripper_{link_name}\".format(link_name=link_name)\n",
    "        self.pointer = GeoPointer(direction=direction, \n",
    "                                  _object=GeoSphere(name=self.name_constraint, center=point0, radius=0, \n",
    "                                            link_name=link_name, urdf_content=urdf_content)\n",
    "                                 )\n",
    "        \n",
    "    def add_constraint(self, action_obj, point_name, etasl_simulator):\n",
    "        action_obj.add_constraints(point_name, etasl_simulator, self.pointer)\n",
    "        \n",
    "    def activate(self, action_obj, collision_items, joint_dict_last):\n",
    "        Tbo = action_obj.object.get_tf(joint_dict_last)\n",
    "        Tbt = get_tf(self.link_name, joint_dict_last, urdf_content)\n",
    "        Tto = np.matmul(np.linalg.inv(Tbt), Tbo)\n",
    "        action_obj.object.set_center(Tto[:3,3])\n",
    "        action_obj.object.set_orientation(Rotation.from_dcm(Tto[:3,:3]).as_quat())\n",
    "        collision_items[action_obj.object.link_name].remove(action_obj.object)\n",
    "        action_obj.object.set_link(self.link_name)\n",
    "        collision_items[action_obj.object.link_name] += [action_obj.object]\n",
    "        \n",
    "    def deactivate(self, action_obj, collision_items, joint_dict_last, to_link='base_link'):\n",
    "        assert action_obj.object.link_name == self.link_name, \"tool is not activated\"\n",
    "        Tbo = action_obj.object.get_tf(joint_dict_last)\n",
    "        Tbt = get_tf(to_link, joint_dict_last, action_obj.object.urdf_content)\n",
    "        Tto = np.matmul(np.linalg.inv(Tbt), Tbo)\n",
    "        action_obj.object.set_center(Tto[:3,3])\n",
    "        action_obj.object.set_orientation(Rotation.from_dcm(Tto[:3,:3]).as_quat())\n",
    "        collision_items[action_obj.object.link_name].remove(action_obj.object)\n",
    "        action_obj.object.set_link(to_link)\n",
    "        collision_items[to_link] += [action_obj.object]\n",
    "    "
   ]
  },
  {
   "cell_type": "markdown",
   "metadata": {},
   "source": [
    "# Set Main Parameters"
   ]
  },
  {
   "cell_type": "code",
   "execution_count": 11,
   "metadata": {},
   "outputs": [],
   "source": [
    "urdf_path = os.path.join(PROJ_DIR, \"robots\", \"ur10_robot.urdf\")\n",
    "urdf_content = URDF.from_xml_file(urdf_path)\n",
    "joint_names = JOINT_NAMES\n",
    "link_names = LINK_NAMES\n",
    "pos_last = ZERO_JOINT_POSE"
   ]
  },
  {
   "cell_type": "code",
   "execution_count": 12,
   "metadata": {},
   "outputs": [
    {
     "name": "stdout",
     "output_type": "stream",
     "text": [
      "Please create a subscriber to the marker\n",
      "publication OK\n",
      "published: [0, -1.5707963267948966, 0, -1.5707963267948966, 0, 0]\n"
     ]
    }
   ],
   "source": [
    "# prepare ros\n",
    "pub, joints, rate = get_publisher()"
   ]
  },
  {
   "cell_type": "code",
   "execution_count": 13,
   "metadata": {},
   "outputs": [],
   "source": [
    "# prepare joints\n",
    "collision_items = {\"base_link\":[GeoSegment((0,0,0), 'Z', 0.1273, 0.08, \n",
    "                                           name=\"base_capsule\", link_name=\"base_link\", urdf_content=urdf_content, color=(0,1,0,0.5))],\n",
    " \"shoulder_link\":[GeoSegment((0,0,0), 'Y', 0.22094, 0.08, \n",
    "                             name=\"shoulder_capsule\", link_name=\"shoulder_link\", urdf_content=urdf_content, color=(0,1,0,0.5))],\n",
    " \"upper_arm_link\":[GeoSegment((0,-0.05,0.0), 'Z', 0.612, 0.06, \n",
    "                              name=\"upper_arm_capsule\", link_name=\"upper_arm_link\", urdf_content=urdf_content, color=(0,1,0,0.5))],\n",
    " \"forearm_link\":[GeoSegment((0,-0,0), 'Z', 0.5723, 0.05, \n",
    "                            name=\"forearm_capsule\", link_name=\"forearm_link\", urdf_content=urdf_content, color=(0,1,0,0.5))],\n",
    " \"wrist_1_link\":[GeoSegment((0,0,0), 'Y', 0.1149, 0.047, \n",
    "                            name=\"wrist_1_capsule\", link_name=\"wrist_1_link\", urdf_content=urdf_content, color=(0,1,0,0.5))],\n",
    " \"wrist_2_link\":[GeoSegment((0,0,0), 'Z', 0.1157, 0.046, \n",
    "                            name=\"wrist_2_capsule\", link_name=\"wrist_2_link\", urdf_content=urdf_content, color=(0,1,0,0.5))],\n",
    " \"wrist_3_link\":[GeoSegment((0,0,0), 'Y', 0.0922-0.0522, 0.046, \n",
    "                            name=\"wrist_3_capsule\", link_name=\"wrist_3_link\",urdf_content=urdf_content, color=(0,1,0,0.5))],\n",
    " \"tool0\":[]\n",
    "}\n",
    "gbox = GeoBox((0.5,-0.2,0.050), (0.1,0.1,0.1), \n",
    "              name=\"box_1\", link_name=\"base_link\", urdf_content=urdf_content, color=(0.8,0.8,0.8,1))\n",
    "gbox_floor = GeoBox((0,0,-0.005), (3,3,0.01), \n",
    "                    name=\"floor\", link_name=\"base_link\", urdf_content=urdf_content, color=(0.6,0.6,0.6,1))\n",
    "gbox_wall = GeoBox((0.7,0.0,0.2), (0.8,0.05,0.4), \n",
    "                      name=\"wall\", link_name=\"base_link\", urdf_content=urdf_content, color=(0.4,0.3,0.0,1))\n",
    "gbox_stepper = GeoBox((0.4,0.4,0.15), (0.3,0.3,0.3), \n",
    "                      name=\"stepper\", link_name=\"base_link\", urdf_content=urdf_content, color=(0.4,0.3,0.0,1))\n",
    "gbox_goal = GeoBox((0.4,0.4,0.3), (0.2,0.2,1e-3), \n",
    "                   name=\"platform\", link_name=\"base_link\", urdf_content=urdf_content, color=(0.8,0.0,0.0,1),\n",
    "                  collision=False)\n",
    "collision_items[\"base_link\"] += [gbox]\n",
    "collision_items[\"base_link\"] += [gbox_floor]\n",
    "collision_items[\"base_link\"] += [gbox_wall]\n",
    "collision_items[\"base_link\"] += [gbox_stepper]\n",
    "collision_items[\"base_link\"] += [gbox_goal]\n",
    "box_grip = BoxGrip(gbox)\n",
    "box_place = BoxPlace(gbox)\n",
    "vtool = VacuumTool([0,0,0], [0,0,1],\"tool0\", urdf_content)"
   ]
  },
  {
   "cell_type": "code",
   "execution_count": 14,
   "metadata": {},
   "outputs": [
    {
     "name": "stdout",
     "output_type": "stream",
     "text": [
      "Please create a subscriber to the marker\n",
      "publication OK\n",
      "publication OK\n",
      "publication OK\n",
      "publication OK\n",
      "publication OK\n",
      "publication OK\n",
      "publication OK\n",
      "publication OK\n",
      "publication OK\n",
      "publication OK\n",
      "publication OK\n",
      "publication OK\n"
     ]
    }
   ],
   "source": [
    "# prepare visualization markers\n",
    "marker_list = set_markers(collision_items, joints, joint_names, link_names, urdf_content)"
   ]
  },
  {
   "cell_type": "markdown",
   "metadata": {},
   "source": [
    "# get simulation"
   ]
  },
  {
   "cell_type": "code",
   "execution_count": 15,
   "metadata": {},
   "outputs": [
    {
     "name": "stdout",
     "output_type": "stream",
     "text": [
      "sim time: 142.394065857 ms\n"
     ]
    }
   ],
   "source": [
    "t1 = timer.time()\n",
    "e = get_simulation(collision_items = collision_items, joint_names = JOINT_NAMES, link_names = LINK_NAMES)\n",
    "t2 = timer.time()\n",
    "print(\"sim time: {} ms\".format((t2-t1)*1000))"
   ]
  },
  {
   "cell_type": "markdown",
   "metadata": {},
   "source": [
    "# Set grasp slack constraints"
   ]
  },
  {
   "cell_type": "code",
   "execution_count": 16,
   "metadata": {},
   "outputs": [],
   "source": [
    "vtool.add_constraint(box_grip, \"top\", e)"
   ]
  },
  {
   "cell_type": "markdown",
   "metadata": {},
   "source": [
    "# simulate"
   ]
  },
  {
   "cell_type": "code",
   "execution_count": 17,
   "metadata": {},
   "outputs": [
    {
     "name": "stdout",
     "output_type": "stream",
     "text": [
      "{'global.dist_point_pair_vac_box_1_top': 5.087596364319325e-07, 'global.angle_dir_pair_vac_box_1_top': 1.4586402587314075e-06}\n",
      "sim time: 252.997875214 ms\n"
     ]
    }
   ],
   "source": [
    "t1 = timer.time()\n",
    "# simulate(e, initial_jpos=ZERO_JOINT_POSE)\n",
    "simulate(e, initial_jpos=pos_last)\n",
    "t2 = timer.time()\n",
    "pos_last = e.POS[-1]\n",
    "joint_dict_last = joint_list2dict(pos_last, joint_names)\n",
    "print(e.etasl.getOutput())\n",
    "print(\"sim time: {} ms\".format((t2-t1)*1000))"
   ]
  },
  {
   "cell_type": "markdown",
   "metadata": {},
   "source": [
    "# show_motion"
   ]
  },
  {
   "cell_type": "code",
   "execution_count": 18,
   "metadata": {},
   "outputs": [
    {
     "name": "stdout",
     "output_type": "stream",
     "text": [
      "published: [-0.6898476075971174, -1.0584748866154912, 2.0175652452522006, 0.6117068011309413, 1.5707963699964924, -0.03100405775982734]]]]\r"
     ]
    }
   ],
   "source": [
    "show_motion(e.POS, marker_list, pub, joints)"
   ]
  },
  {
   "cell_type": "markdown",
   "metadata": {},
   "source": [
    "# activate grasp"
   ]
  },
  {
   "cell_type": "code",
   "execution_count": 19,
   "metadata": {
    "scrolled": true
   },
   "outputs": [],
   "source": [
    "vtool.activate(action_obj=box_grip, collision_items=collision_items, joint_dict_last=joint_dict_last)"
   ]
  },
  {
   "cell_type": "code",
   "execution_count": 20,
   "metadata": {
    "scrolled": true
   },
   "outputs": [],
   "source": [
    "e = get_simulation(collision_items = collision_items, joint_names = JOINT_NAMES, link_names = LINK_NAMES)"
   ]
  },
  {
   "cell_type": "code",
   "execution_count": 21,
   "metadata": {},
   "outputs": [],
   "source": [
    "add_joint_constraints(e, joint_names=joint_names)"
   ]
  },
  {
   "cell_type": "code",
   "execution_count": 22,
   "metadata": {},
   "outputs": [
    {
     "name": "stdout",
     "output_type": "stream",
     "text": [
      "published: [3.630144109726539e-17, -1.8849555921538754, 1.8849555921538754, 6.892586092783765e-19, -7.484593236497023e-16, 1.1217779909091847e-19]]]]]]\r"
     ]
    }
   ],
   "source": [
    "simulate(e, initial_jpos=pos_last, inp_lbl=['target_%s'%jname for jname in joint_names], inp=list(ZERO_JOINT_POSE))\n",
    "pos_last = e.POS[-1]\n",
    "joint_dict_last = joint_list2dict(pos_last, joint_names)\n",
    "show_motion(e.POS, marker_list, pub, joints)"
   ]
  },
  {
   "cell_type": "markdown",
   "metadata": {},
   "source": [
    "# get simulation"
   ]
  },
  {
   "cell_type": "code",
   "execution_count": 23,
   "metadata": {},
   "outputs": [
    {
     "name": "stdout",
     "output_type": "stream",
     "text": [
      "sim time: 83.2221508026 ms\n"
     ]
    }
   ],
   "source": [
    "t1 = timer.time()\n",
    "e = get_simulation(collision_items = collision_items, joint_names = JOINT_NAMES, link_names = LINK_NAMES)\n",
    "t2 = timer.time()\n",
    "print(\"sim time: {} ms\".format((t2-t1)*1000))"
   ]
  },
  {
   "cell_type": "markdown",
   "metadata": {},
   "source": [
    "# Set place slack constraints"
   ]
  },
  {
   "cell_type": "code",
   "execution_count": 24,
   "metadata": {},
   "outputs": [],
   "source": [
    "# pointer_plane = GeoPointer(direction=[0,0,1], \n",
    "#                            _object = GeoSphere(name=\"plane_place\", center=[0.4,0.2,0], \n",
    "#                                                radius=0, link_name=\"base_link\", urdf_content=urdf_content)\n",
    "#                           )\n",
    "pointer_plane = GeoPointer(direction=[0,0,1], _object = gbox_goal)\n",
    "box_place.add_constraints(\"bottom\", e, pointer_plane)"
   ]
  },
  {
   "cell_type": "markdown",
   "metadata": {},
   "source": [
    "# simulate"
   ]
  },
  {
   "cell_type": "code",
   "execution_count": 25,
   "metadata": {
    "scrolled": true
   },
   "outputs": [
    {
     "name": "stdout",
     "output_type": "stream",
     "text": [
      "{'global.angle_dir_pair_place_box_1_bottom': 6.5950728116748256e-06, 'global.dist_point_pair_place_box_1_bottom': 4.666873064707033e-08}\n",
      "published: [0.2605824452819432, -1.3208531439054465, 1.729823693654344, 1.161831656138484, 1.5707963079571212, -0.28658481732225705]]]]7]\r"
     ]
    }
   ],
   "source": [
    "simulate(e, N=400,initial_jpos=ZERO_JOINT_POSE)\n",
    "pos_last = e.POS[-1]\n",
    "joint_dict_last = joint_list2dict(pos_last, joint_names)\n",
    "print(e.etasl.getOutput())\n",
    "show_motion(e.POS, marker_list, pub, joints)"
   ]
  },
  {
   "cell_type": "code",
   "execution_count": null,
   "metadata": {},
   "outputs": [],
   "source": []
  },
  {
   "cell_type": "markdown",
   "metadata": {},
   "source": [
    "# deactivate grasp"
   ]
  },
  {
   "cell_type": "code",
   "execution_count": 26,
   "metadata": {},
   "outputs": [],
   "source": [
    "vtool.deactivate(action_obj=box_grip, collision_items=collision_items, joint_dict_last=joint_dict_last, to_link='base_link')"
   ]
  },
  {
   "cell_type": "code",
   "execution_count": 27,
   "metadata": {
    "scrolled": true
   },
   "outputs": [],
   "source": [
    "e = get_simulation(collision_items = collision_items, joint_names = JOINT_NAMES, link_names = LINK_NAMES)"
   ]
  },
  {
   "cell_type": "code",
   "execution_count": 28,
   "metadata": {},
   "outputs": [],
   "source": [
    "add_joint_constraints(e, joint_names=joint_names)"
   ]
  },
  {
   "cell_type": "code",
   "execution_count": 29,
   "metadata": {},
   "outputs": [
    {
     "name": "stdout",
     "output_type": "stream",
     "text": [
      "published: [-7.998267668128974e-23, -1.8849555921538754, 1.8849555921538754, -2.511254082693409e-18, -7.628921553084958e-16, 1.2481952670827038e-23]]]]\r"
     ]
    }
   ],
   "source": [
    "simulate(e, initial_jpos=pos_last, inp_lbl=['target_%s'%jname for jname in joint_names], inp=list(ZERO_JOINT_POSE))\n",
    "pos_last = e.POS[-1]\n",
    "joint_dict_last = joint_list2dict(pos_last, joint_names)\n",
    "show_motion(e.POS, marker_list, pub, joints)"
   ]
  },
  {
   "cell_type": "code",
   "execution_count": null,
   "metadata": {},
   "outputs": [],
   "source": []
  },
  {
   "cell_type": "code",
   "execution_count": 30,
   "metadata": {},
   "outputs": [
    {
     "data": {
      "text/html": [
       "<pre  style='font-size:9.5px; font-family: 'Consolas,monospace;'>active group names : global \n",
       "Variables(7):\n",
       "\t---------------------------------------------------------------------------------------------------------------------------\n",
       "\t             Name             |      Type      |     Number     |     Init.Value     |    Current Value   |       Weight       \n",
       "\t---------------------------------------------------------------------------------------------------------------------------\n",
       "\t             time             |      time      |        0       |          0         |        1.995       |          1         \n",
       "\t          elbow_joint         |      robot     |        1       |          0         |       1.88496      |          1         \n",
       "\t      shoulder_lift_joint     |      robot     |        2       |          0         |      -1.88496      |          1         \n",
       "\t      shoulder_pan_joint      |      robot     |        3       |          0         |     -7.9436e-23    |          1         \n",
       "\t         wrist_3_joint        |      robot     |        4       |          0         |     1.23953e-23    |          1         \n",
       "\t         wrist_2_joint        |      robot     |        5       |          0         |    -7.57679e-16    |          1         \n",
       "\t         wrist_1_joint        |      robot     |        6       |          0         |    -2.49384e-18    |          1         \n",
       "\t---------------------------------------------------------------------------------------------------------------------------\n",
       "Constraints(:53) :\n",
       "----------------------------------------------------------------------------------------------------------------------------------------------------------------------\n",
       "   Type   |                            Name                            |   lower bound  |   upper bound  |   weight   | Priority |Current Val.|   Active   |\n",
       "----------------------------------------------------------------------------------------------------------------------------------------------------------------------\n",
       "  Scalar  |                  elbow_joint:positionlimit                 |    -3.14159    |     3.14159    |      1     |     1    |   1.88496  |      1     |\n",
       "  Scalar  |              shoulder_lift_joint:positionlimit             |    -3.14159    |     3.14159    |      1     |     1    |  -1.88496  |      1     |\n",
       "  Scalar  |              shoulder_pan_joint:positionlimit              |    -3.14159    |     3.14159    |      1     |     1    | -7.9436e-23|      1     |\n",
       "  Scalar  |                 wrist_3_joint:positionlimit                |    -3.14159    |     3.14159    |      1     |     1    | 1.23953e-23|      1     |\n",
       "  Scalar  |                 wrist_2_joint:positionlimit                |    -3.14159    |     3.14159    |      1     |     1    |-7.57679e-16|      1     |\n",
       "  Scalar  |                 wrist_1_joint:positionlimit                |    -3.14159    |     3.14159    |      1     |     1    |-2.49384e-18|      1     |\n",
       "  Scalar  |               base_capsule_upper_arm_capsule               |        0       |      1e+20     |      1     |     0    |  0.030941  |      1     |\n",
       "  Scalar  |                base_capsule_forearm_capsule                |        0       |      1e+20     |      1     |     0    |  0.454109  |      1     |\n",
       "  Scalar  |                base_capsule_wrist_1_capsule                |        0       |      1e+20     |      1     |     0    |  0.571578  |      1     |\n",
       "  Scalar  |                base_capsule_wrist_2_capsule                |        0       |      1e+20     |      1     |     0    |  0.499447  |      1     |\n",
       "  Scalar  |                base_capsule_wrist_3_capsule                |        0       |      1e+20     |      1     |     0    |  0.499447  |      1     |\n",
       "  Scalar  |                   floor_upper_arm_capsule                  |        0       |      1e+20     |      1     |     0    |  0.0673001 |      1     |\n",
       "  Scalar  |                    floor_forearm_capsule                   |        0       |      1e+20     |      1     |     0    |  0.659347  |      1     |\n",
       "  Scalar  |                    floor_wrist_1_capsule                   |        0       |      1e+20     |      1     |     0    |  0.662347  |      1     |\n",
       "  Scalar  |                    floor_wrist_2_capsule                   |        0       |      1e+20     |      1     |     0    |  0.547647  |      1     |\n",
       "  Scalar  |                    floor_wrist_3_capsule                   |        0       |      1e+20     |      1     |     0    |  0.547647  |      1     |\n",
       "  Scalar  |                   wall_upper_arm_capsule                   |        0       |      1e+20     |      1     |     0    |  0.273615  |      1     |\n",
       "  Scalar  |                    wall_forearm_capsule                    |        0       |      1e+20     |      1     |     0    |  0.260279  |      1     |\n",
       "  Scalar  |                    wall_wrist_1_capsule                    |        0       |      1e+20     |      1     |     0    |  0.263279  |      1     |\n",
       "  Scalar  |                    wall_wrist_2_capsule                    |        0       |      1e+20     |      1     |     0    |  0.192335  |      1     |\n",
       "  Scalar  |                    wall_wrist_3_capsule                    |        0       |      1e+20     |      1     |     0    |  0.192335  |      1     |\n",
       "  Scalar  |                  stepper_upper_arm_capsule                 |        0       |      1e+20     |      1     |     0    |  0.202203  |      1     |\n",
       "  Scalar  |                   stepper_forearm_capsule                  |        0       |      1e+20     |      1     |     0    |  0.406015  |      1     |\n",
       "  Scalar  |                   stepper_wrist_1_capsule                  |        0       |      1e+20     |      1     |     0    |  0.371295  |      1     |\n",
       "  Scalar  |                   stepper_wrist_2_capsule                  |        0       |      1e+20     |      1     |     0    |  0.259998  |      1     |\n",
       "  Scalar  |                   stepper_wrist_3_capsule                  |        0       |      1e+20     |      1     |     0    |  0.251237  |      1     |\n",
       "  Scalar  |                   box_1_upper_arm_capsule                  |        0       |      1e+20     |      1     |     0    |  0.418523  |      1     |\n",
       "  Scalar  |                    box_1_forearm_capsule                   |        0       |      1e+20     |      1     |     0    |  0.334292  |      1     |\n",
       "  Scalar  |                    box_1_wrist_1_capsule                   |        0       |      1e+20     |      1     |     0    |  0.284955  |      1     |\n",
       "  Scalar  |                    box_1_wrist_2_capsule                   |        0       |      1e+20     |      1     |     0    |  0.182284  |      1     |\n",
       "  Scalar  |                    box_1_wrist_3_capsule                   |        0       |      1e+20     |      1     |     0    |  0.165914  |      1     |\n",
       "  Scalar  |              shoulder_capsule_forearm_capsule              |        0       |      1e+20     |      1     |     0    |  0.452047  |      1     |\n",
       "  Scalar  |              shoulder_capsule_wrist_1_capsule              |        0       |      1e+20     |      1     |     0    |  0.569855  |      1     |\n",
       "  Scalar  |              shoulder_capsule_wrist_2_capsule              |        0       |      1e+20     |      1     |     0    |  0.477579  |      1     |\n",
       "  Scalar  |              shoulder_capsule_wrist_3_capsule              |        0       |      1e+20     |      1     |     0    |  0.477579  |      1     |\n",
       "  Scalar  |              upper_arm_capsule_wrist_1_capsule             |        0       |      1e+20     |      1     |     0    |  0.437335  |      1     |\n",
       "  Scalar  |              upper_arm_capsule_wrist_2_capsule             |        0       |      1e+20     |      1     |     0    |  0.402585  |      1     |\n",
       "  Scalar  |              upper_arm_capsule_wrist_3_capsule             |        0       |      1e+20     |      1     |     0    |  0.402536  |      1     |\n",
       "  Scalar  |               forearm_capsule_wrist_2_capsule              |        0       |      1e+20     |      1     |     0    |   0.0189   |      1     |\n",
       "  Scalar  |               forearm_capsule_wrist_3_capsule              |        0       |      1e+20     |      1     |     0    |  0.0670598 |      1     |\n",
       "  Scalar  |               wrist_1_capsule_wrist_3_capsule              |        0       |      1e+20     |      1     |     0    |   0.0227   |      1     |\n",
       "  Scalar  |                constraint_shoulder_pan_joint               |        0       |        0       |      1     |     2    | -7.9436e-23|      1     |\n",
       "  Scalar  |               constraint_shoulder_lift_joint               |        0       |        0       |      1     |     2    | 4.44089e-16|      1     |\n",
       "  Scalar  |                   constraint_elbow_joint                   |        0       |        0       |      1     |     2    |-4.44089e-16|      1     |\n",
       "  Scalar  |                  constraint_wrist_1_joint                  |        0       |        0       |      1     |     2    |-2.49384e-18|      1     |\n",
       "  Scalar  |                  constraint_wrist_2_joint                  |        0       |        0       |      1     |     2    |-7.57679e-16|      1     |\n",
       "  Scalar  |                  constraint_wrist_3_joint                  |        0       |        0       |      1     |     2    | 1.23953e-23|      1     |\n",
       "    Box   |              global.elbow_joint:velocitylimit              |      -3.15     |      3.15      |      -     |  Var  1  |      -     |      1     |\n",
       "    Box   |          global.shoulder_lift_joint:velocitylimit          |      -2.16     |      2.16      |      -     |  Var  2  |      -     |      1     |\n",
       "    Box   |           global.shoulder_pan_joint:velocitylimit          |      -2.16     |      2.16      |      -     |  Var  3  |      -     |      1     |\n",
       "    Box   |             global.wrist_3_joint:velocitylimit             |      -3.2      |       3.2      |      -     |  Var  4  |      -     |      1     |\n",
       "    Box   |             global.wrist_2_joint:velocitylimit             |      -3.2      |       3.2      |      -     |  Var  5  |      -     |      1     |\n",
       "    Box   |             global.wrist_1_joint:velocitylimit             |      -3.2      |       3.2      |      -     |  Var  6  |      -     |      1     |\n",
       "----------------------------------------------------------------------------------------------------------------------------------------------------------------------\n",
       "Outputs (0)\n",
       "\t---------------------------------------\n",
       "\t        Name        |      Type      \n",
       "\t---------------------------------------\n",
       "\t---------------------------------------\n",
       "Monitors(0):\n",
       "\t---------------------------------------------------------------\n",
       "\t             Name             |   Action type  |     Active     |\n",
       "\t---------------------------------------------------------------\n",
       "\t---------------------------------------------------------------\n",
       "input channels (6):\n",
       "\t--------------------------------------------------------\n",
       "\t                  Name                  |      Type      \n",
       "\t--------------------------------------------------------\n",
       "\t        global.target_elbow_joint       |     double     \n",
       "\t    global.target_shoulder_lift_joint   |     double     \n",
       "\t    global.target_shoulder_pan_joint    |     double     \n",
       "\t       global.target_wrist_1_joint      |     double     \n",
       "\t       global.target_wrist_2_joint      |     double     \n",
       "\t       global.target_wrist_3_joint      |     double     \n",
       "output expressions (0):\n",
       "\t--------------------------------------------------------\n",
       "\t                  Name                  |      Type      \n",
       "\t--------------------------------------------------------\n",
       "</pre>"
      ],
      "text/plain": [
       "<IPython.core.display.HTML object>"
      ]
     },
     "execution_count": 30,
     "metadata": {},
     "output_type": "execute_result"
    }
   ],
   "source": [
    "e.displayContext()"
   ]
  },
  {
   "cell_type": "code",
   "execution_count": null,
   "metadata": {},
   "outputs": [],
   "source": []
  },
  {
   "cell_type": "code",
   "execution_count": null,
   "metadata": {},
   "outputs": [],
   "source": []
  },
  {
   "cell_type": "code",
   "execution_count": null,
   "metadata": {},
   "outputs": [],
   "source": []
  },
  {
   "cell_type": "markdown",
   "metadata": {},
   "source": [
    "# delete all"
   ]
  },
  {
   "cell_type": "code",
   "execution_count": 31,
   "metadata": {},
   "outputs": [],
   "source": [
    "for mkr in marker_list:\n",
    "    mkr.delete()"
   ]
  },
  {
   "cell_type": "code",
   "execution_count": null,
   "metadata": {},
   "outputs": [],
   "source": []
  },
  {
   "cell_type": "markdown",
   "metadata": {},
   "source": [
    "# Plotting (using the Bokeh library to provide interactive plots)"
   ]
  },
  {
   "cell_type": "code",
   "execution_count": null,
   "metadata": {},
   "outputs": [],
   "source": [
    "from bokeh.plotting import figure, show, output_notebook\n",
    "from bokeh.layouts import gridplot\n",
    "from etasl_py.bokehplots import plotv\n",
    "\n",
    "output_notebook()\n",
    "print(\"positions : \")\n",
    "plotv(e.TIME,e.POS,e.POS_LBL)\n",
    "print(\"velocities : \")\n",
    "plotv(e.TIME,e.VEL,e.POS_LBL)\n",
    "print(\"outputs : \")\n",
    "plotv(e.TIME,e.OUTP,e.OUTP_LBL)"
   ]
  }
 ],
 "metadata": {
  "kernelspec": {
   "display_name": "Python 2",
   "language": "python",
   "name": "python2"
  },
  "language_info": {
   "codemirror_mode": {
    "name": "ipython",
    "version": 2
   },
   "file_extension": ".py",
   "mimetype": "text/x-python",
   "name": "python",
   "nbconvert_exporter": "python",
   "pygments_lexer": "ipython2",
   "version": "2.7.17"
  }
 },
 "nbformat": 4,
 "nbformat_minor": 2
}
