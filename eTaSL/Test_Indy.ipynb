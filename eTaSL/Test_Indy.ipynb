{
 "cells": [
  {
   "cell_type": "code",
   "execution_count": 1,
   "metadata": {},
   "outputs": [],
   "source": [
    "from nrmkindy.indy_script import *"
   ]
  },
  {
   "cell_type": "code",
   "execution_count": 2,
   "metadata": {},
   "outputs": [],
   "source": [
    "import time"
   ]
  },
  {
   "cell_type": "code",
   "execution_count": 3,
   "metadata": {},
   "outputs": [],
   "source": [
    "host_ip='192.168.0.63'\n",
    "\n",
    "config_script(NAME_INDY_7)\n",
    "start_script(host_ip)\n",
    "blending_type(BlendingType.OVERRIDE)\n",
    "task_vel(0.1, 0.2, 20, 20)"
   ]
  },
  {
   "cell_type": "code",
   "execution_count": 4,
   "metadata": {},
   "outputs": [
    {
     "name": "stdout",
     "output_type": "stream",
     "text": [
      "1\n",
      "2\n"
     ]
    },
    {
     "data": {
      "text/plain": [
       "True"
      ]
     },
     "execution_count": 4,
     "metadata": {},
     "output_type": "execute_result"
    }
   ],
   "source": [
    "MY_WAIT_TIME = 0.5\n",
    "\n",
    "movej(JointPos(-0.114, -11.241, -60.707, 0.004, -108.086, -0.072)) # 모션 시작점\n",
    "\n",
    "# print(blending_type())\n",
    "#     blending_type(BlendingType.DUPLICATE)\n",
    "\n",
    "amovej(JointPos(-60, -11.241, -60.707, 0.004, -108.086, -0.072))\n",
    "print(1)\n",
    "time.sleep(MY_WAIT_TIME)\n",
    "amovej(JointPos(-0.114, -11.241, -60.707, 0.004, -108.086, -0.072))\n",
    "print(2)\n",
    "\n",
    "\n",
    "mwait_done()"
   ]
  },
  {
   "cell_type": "code",
   "execution_count": 5,
   "metadata": {},
   "outputs": [],
   "source": [
    "end_script()"
   ]
  },
  {
   "cell_type": "code",
   "execution_count": null,
   "metadata": {},
   "outputs": [],
   "source": []
  }
 ],
 "metadata": {
  "kernelspec": {
   "display_name": "Python 2",
   "language": "python",
   "name": "python2"
  },
  "language_info": {
   "codemirror_mode": {
    "name": "ipython",
    "version": 2
   },
   "file_extension": ".py",
   "mimetype": "text/x-python",
   "name": "python",
   "nbconvert_exporter": "python",
   "pygments_lexer": "ipython2",
   "version": "2.7.17"
  }
 },
 "nbformat": 4,
 "nbformat_minor": 2
}
