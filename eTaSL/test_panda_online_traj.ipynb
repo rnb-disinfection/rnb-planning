{
 "cells": [
  {
   "cell_type": "code",
   "execution_count": 1,
   "metadata": {},
   "outputs": [],
   "source": [
    "import matplotlib.pyplot as plt"
   ]
  },
  {
   "cell_type": "code",
   "execution_count": 2,
   "metadata": {},
   "outputs": [],
   "source": [
    "import rospy\n",
    "rospy.init_node('task_planner_2', anonymous=True)"
   ]
  },
  {
   "cell_type": "code",
   "execution_count": 3,
   "metadata": {},
   "outputs": [],
   "source": [
    "import numpy as np\n",
    "from pkg.utils import *\n",
    "import socket\n",
    "import time as timer\n",
    "import json"
   ]
  },
  {
   "cell_type": "code",
   "execution_count": 4,
   "metadata": {},
   "outputs": [],
   "source": [
    "from pkg.panda_repeater import *"
   ]
  },
  {
   "cell_type": "code",
   "execution_count": 5,
   "metadata": {},
   "outputs": [],
   "source": [
    "panda = PandaRepeater()"
   ]
  },
  {
   "cell_type": "code",
   "execution_count": 6,
   "metadata": {
    "scrolled": false
   },
   "outputs": [
    {
     "data": {
      "text/plain": [
       "[0.14551763236522675,\n",
       " -0.3997618556022644,\n",
       " -0.1751592755317688,\n",
       " -2.0162971019744873,\n",
       " 0.06706132739782333,\n",
       " 2.2000842094421387,\n",
       " 0.6896503567695618]"
      ]
     },
     "execution_count": 6,
     "metadata": {},
     "output_type": "execute_result"
    }
   ],
   "source": [
    "panda.send_qval(panda.qcur)"
   ]
  },
  {
   "cell_type": "code",
   "execution_count": 7,
   "metadata": {},
   "outputs": [],
   "source": [
    "gtimer = GlobalTimer.instance()\n",
    "gtimer.reset()"
   ]
  },
  {
   "cell_type": "code",
   "execution_count": 12,
   "metadata": {},
   "outputs": [
    {
     "name": "stdout",
     "output_type": "stream",
     "text": [
      "step: \t3217.0 ms/300 = 10.723 ms \n",
      "\n"
     ]
    }
   ],
   "source": [
    "traj_sample = []\n",
    "DELTA = np.deg2rad(1)\n",
    "N_steps = 100\n",
    "DT = 1e-2\n",
    "t0 = timer.time()\n",
    "qval0 = panda.get_qcur()\n",
    "for iii in range(100):\n",
    "    gtimer.tic(\"step\")\n",
    "    while timer.time()-t0<DT:\n",
    "        timer.sleep(1e-3)\n",
    "    t0 = timer.time()\n",
    "    \n",
    "    qval = np.add(qval0,DELTA*iii/N_steps).tolist()\n",
    "    traj_sample += [panda.send_qval(qval)]\n",
    "    gtimer.toc(\"step\")\n",
    "print(gtimer)"
   ]
  },
  {
   "cell_type": "code",
   "execution_count": 13,
   "metadata": {},
   "outputs": [
    {
     "name": "stdout",
     "output_type": "stream",
     "text": [
      "step: \t4294.0 ms/400 = 10.734 ms \n",
      "\n"
     ]
    }
   ],
   "source": [
    "traj_sample = []\n",
    "DELTA = np.deg2rad(-1)\n",
    "N_steps = 100\n",
    "DT = 1e-2\n",
    "t0 = timer.time()\n",
    "qval0 = panda.get_qcur()\n",
    "for iii in range(100):\n",
    "    gtimer.tic(\"step\")\n",
    "    while timer.time()-t0<DT:\n",
    "        timer.sleep(1e-3)\n",
    "    t0 = timer.time()\n",
    "    \n",
    "    qval = np.add(qval0,DELTA*iii/N_steps).tolist()\n",
    "    traj_sample += [panda.send_qval(qval)]\n",
    "    gtimer.toc(\"step\")\n",
    "print(gtimer)"
   ]
  },
  {
   "cell_type": "code",
   "execution_count": 14,
   "metadata": {},
   "outputs": [
    {
     "data": {
      "text/plain": [
       "True"
      ]
     },
     "execution_count": 14,
     "metadata": {},
     "output_type": "execute_result"
    }
   ],
   "source": [
    "panda.move_finger(True)"
   ]
  },
  {
   "cell_type": "code",
   "execution_count": 15,
   "metadata": {},
   "outputs": [
    {
     "data": {
      "text/plain": [
       "False"
      ]
     },
     "execution_count": 15,
     "metadata": {},
     "output_type": "execute_result"
    }
   ],
   "source": [
    "panda.move_finger(False)"
   ]
  },
  {
   "cell_type": "code",
   "execution_count": null,
   "metadata": {},
   "outputs": [],
   "source": []
  }
 ],
 "metadata": {
  "kernelspec": {
   "display_name": "Python 2",
   "language": "python",
   "name": "python2"
  },
  "language_info": {
   "codemirror_mode": {
    "name": "ipython",
    "version": 2
   },
   "file_extension": ".py",
   "mimetype": "text/x-python",
   "name": "python",
   "nbconvert_exporter": "python",
   "pygments_lexer": "ipython2",
   "version": "2.7.17"
  }
 },
 "nbformat": 4,
 "nbformat_minor": 2
}
