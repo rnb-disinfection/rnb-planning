{
 "cells": [
  {
   "cell_type": "code",
   "execution_count": 1,
   "metadata": {},
   "outputs": [],
   "source": [
    "import matplotlib.pyplot as plt"
   ]
  },
  {
   "cell_type": "code",
   "execution_count": 2,
   "metadata": {},
   "outputs": [],
   "source": [
    "import numpy as np\n",
    "from pkg.utils import *\n",
    "import socket\n",
    "import time as timer\n",
    "import json\n",
    "\n",
    "class NumpyEncoder(json.JSONEncoder):\n",
    "    def default(self, obj):\n",
    "        if isinstance(obj, np.ndarray):\n",
    "            return obj.tolist()\n",
    "        return json.JSONEncoder.default(self, obj)\n"
   ]
  },
  {
   "cell_type": "code",
   "execution_count": 3,
   "metadata": {},
   "outputs": [],
   "source": [
    "# 서버의 주소입니다. hostname 또는 ip address를 사용할 수 있습니다.\n",
    "HOST = '192.168.0.172'  \n",
    "# 서버에서 지정해 놓은 포트 번호입니다. \n",
    "PORT = 1189       \n"
   ]
  },
  {
   "cell_type": "code",
   "execution_count": 44,
   "metadata": {},
   "outputs": [],
   "source": [
    "def send_recv(sdict):\n",
    "    # 소켓 객체를 생성합니다. \n",
    "    # 주소 체계(address family)로 IPv4, 소켓 타입으로 TCP 사용합니다.  \n",
    "    client_socket = socket.socket(socket.AF_INET, socket.SOCK_STREAM)\n",
    "\n",
    "    # 지정한 HOST와 PORT를 사용하여 서버에 접속합니다. \n",
    "    client_socket.connect((HOST, PORT))\n",
    "\n",
    "    rdict = {}\n",
    "    try:\n",
    "        # 메시지를 전송합니다. \n",
    "#         sdict = {'qval':[1000.0]*7}\n",
    "        sjson = json.dumps(sdict, cls=NumpyEncoder)\n",
    "        sbuff = sjson.encode()\n",
    "        client_socket.sendall(sbuff)\n",
    "\n",
    "        # 메시지를 수신합니다. \n",
    "        data = client_socket.recv(1024)\n",
    "#         print('Received', repr(data.decode()))\n",
    "        rjson = \"\".join(map(chr, data))\n",
    "        rdict = json.loads(rjson)\n",
    "#         print(rdict)\n",
    "    finally:\n",
    "        # 소켓을 닫습니다.\n",
    "        client_socket.close()\n",
    "    return rdict"
   ]
  },
  {
   "cell_type": "code",
   "execution_count": 251,
   "metadata": {},
   "outputs": [],
   "source": [
    "gtimer = GlobalTimer.instance()\n",
    "gtimer.reset()"
   ]
  },
  {
   "cell_type": "code",
   "execution_count": 252,
   "metadata": {},
   "outputs": [
    {
     "name": "stdout",
     "output_type": "stream",
     "text": [
      "{'alpha_lpf': 0.8}\n"
     ]
    }
   ],
   "source": [
    "print(send_recv({'alpha_lpf':-1}))"
   ]
  },
  {
   "cell_type": "code",
   "execution_count": 253,
   "metadata": {
    "scrolled": false
   },
   "outputs": [],
   "source": [
    "rdict = send_recv({'alpha_lpf':0.8})"
   ]
  },
  {
   "cell_type": "code",
   "execution_count": 254,
   "metadata": {},
   "outputs": [
    {
     "name": "stdout",
     "output_type": "stream",
     "text": [
      "{'k_gain': 10.0}\n"
     ]
    }
   ],
   "source": [
    "print(send_recv({'k_gain':-1}))"
   ]
  },
  {
   "cell_type": "code",
   "execution_count": 255,
   "metadata": {
    "scrolled": false
   },
   "outputs": [],
   "source": [
    "rdict = send_recv({'k_gain':30.0})"
   ]
  },
  {
   "cell_type": "code",
   "execution_count": 256,
   "metadata": {},
   "outputs": [
    {
     "name": "stdout",
     "output_type": "stream",
     "text": [
      "{'d_gain': 0.1}\n"
     ]
    }
   ],
   "source": [
    "print(send_recv({'d_gain':-1}))"
   ]
  },
  {
   "cell_type": "code",
   "execution_count": 257,
   "metadata": {},
   "outputs": [],
   "source": [
    "rdict = send_recv({'d_gain':5.0})"
   ]
  },
  {
   "cell_type": "code",
   "execution_count": 258,
   "metadata": {
    "scrolled": true
   },
   "outputs": [
    {
     "name": "stdout",
     "output_type": "stream",
     "text": [
      "{'qcur': [0.14498284410488282, -0.4096345482205677, -0.17782473316974146, -2.0132755087403806, 0.06757280413309712, 2.210081308417844, 0.6818432107748059]}\n"
     ]
    }
   ],
   "source": [
    "rdict = send_recv({'qcur':0})\n",
    "print(rdict)"
   ]
  },
  {
   "cell_type": "code",
   "execution_count": 259,
   "metadata": {},
   "outputs": [
    {
     "name": "stdout",
     "output_type": "stream",
     "text": [
      "step: \t1072.0 ms/100 = 10.72 ms \n",
      "\n"
     ]
    }
   ],
   "source": [
    "traj_sample = []\n",
    "DELTA = np.deg2rad(-30)\n",
    "N_steps = 100\n",
    "DT = 1e-2\n",
    "t0 = timer.time()\n",
    "rdict = send_recv({'qcur':0})\n",
    "qval0 = rdict['qcur']\n",
    "for iii in range(100):\n",
    "    gtimer.tic(\"step\")\n",
    "    while timer.time()-t0<DT:\n",
    "        timer.sleep(1e-3)\n",
    "    t0 = timer.time()\n",
    "    \n",
    "    qval = np.add(qval0,DELTA*iii/N_steps).tolist()\n",
    "    sdict = {'qval':qval}\n",
    "    rdict = send_recv(sdict)\n",
    "    traj_sample += rdict['qval']\n",
    "    gtimer.toc(\"step\")\n",
    "print(gtimer)"
   ]
  },
  {
   "cell_type": "code",
   "execution_count": 260,
   "metadata": {},
   "outputs": [
    {
     "name": "stdout",
     "output_type": "stream",
     "text": [
      "step: \t2139.0 ms/200 = 10.697 ms \n",
      "\n"
     ]
    }
   ],
   "source": [
    "traj_sample = []\n",
    "DELTA = np.deg2rad(30)\n",
    "N_steps = 100\n",
    "DT = 1e-2\n",
    "t0 = timer.time()\n",
    "rdict = send_recv({'qcur':0})\n",
    "qval0 = rdict['qcur']\n",
    "for iii in range(100):\n",
    "    gtimer.tic(\"step\")\n",
    "    while timer.time()-t0<DT:\n",
    "        timer.sleep(1e-3)\n",
    "    t0 = timer.time()\n",
    "    \n",
    "    qval = np.add(qval0,DELTA*iii/N_steps).tolist()\n",
    "    sdict = {'qval':qval}\n",
    "    rdict = send_recv(sdict)\n",
    "    traj_sample += rdict['qval']\n",
    "    gtimer.toc(\"step\")\n",
    "print(gtimer)"
   ]
  },
  {
   "cell_type": "code",
   "execution_count": null,
   "metadata": {},
   "outputs": [],
   "source": []
  },
  {
   "cell_type": "code",
   "execution_count": 2,
   "metadata": {},
   "outputs": [],
   "source": [
    "from nrmkindy.indy_script import *"
   ]
  },
  {
   "cell_type": "code",
   "execution_count": null,
   "metadata": {},
   "outputs": [],
   "source": []
  }
 ],
 "metadata": {
  "kernelspec": {
   "display_name": "Python 3",
   "language": "python",
   "name": "python3"
  },
  "language_info": {
   "codemirror_mode": {
    "name": "ipython",
    "version": 3
   },
   "file_extension": ".py",
   "mimetype": "text/x-python",
   "name": "python",
   "nbconvert_exporter": "python",
   "pygments_lexer": "ipython3",
   "version": "3.6.9"
  }
 },
 "nbformat": 4,
 "nbformat_minor": 2
}
