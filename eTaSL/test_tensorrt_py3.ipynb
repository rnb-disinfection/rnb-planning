{
 "cells": [
  {
   "cell_type": "code",
   "execution_count": 1,
   "metadata": {},
   "outputs": [],
   "source": [
    "import tensorflow as tf"
   ]
  },
  {
   "cell_type": "code",
   "execution_count": null,
   "metadata": {},
   "outputs": [],
   "source": [
    "MODEL_DIR = \"./logs/gradient_tape/20210108-202908/model_23\"\n",
    "params = tf.experimental.tensorrt.ConversionParams(\n",
    "    precision_mode='FP16',\n",
    "    # Set this to a large enough number so it can cache all the engines.\n",
    "    maximum_cached_engines=16)\n",
    "converter = tf.experimental.tensorrt.Converter(\n",
    "    input_saved_model_dir=MODEL_DIR, conversion_params=params)\n",
    "converter.convert()\n",
    "\n",
    "# Define a generator function that yields input data, and use it to execute\n",
    "# the graph to build TRT engines.\n",
    "# With TensorRT 5.1, different engines will be built (and saved later) for\n",
    "# different input shapes to the TRTEngineOp.\n",
    "def my_input_fn():\n",
    "    for _ in range(num_runs):\n",
    "        inp1, inp2 = yield inp1, inp2\n",
    "\n",
    "converter.build(input_fn=my_input_fn)  # Generate corresponding TRT engines\n",
    "converter.save(output_saved_model_dir)  # Generated engines will be saved."
   ]
  }
 ],
 "metadata": {
  "kernelspec": {
   "display_name": "Python 3",
   "language": "python",
   "name": "python3"
  },
  "language_info": {
   "codemirror_mode": {
    "name": "ipython",
    "version": 3
   },
   "file_extension": ".py",
   "mimetype": "text/x-python",
   "name": "python",
   "nbconvert_exporter": "python",
   "pygments_lexer": "ipython3",
   "version": "3.6.9"
  }
 },
 "nbformat": 4,
 "nbformat_minor": 2
}
