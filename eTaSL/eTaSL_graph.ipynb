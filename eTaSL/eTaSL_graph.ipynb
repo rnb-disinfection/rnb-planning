{
 "cells": [
  {
   "cell_type": "markdown",
   "metadata": {},
   "source": [
    "# Prepare robots first  \n",
    "* run panda repeater on controller pc  \n",
    "\n",
    "```\n",
    "ssh panda@192.168.0.172\n",
    "roslaunch panda_ros_repeater joint_velocity_repeater.launch robot_ip:=192.168.0.13 load_gripper:=false\n",
    "\n",
    "```\n",
    "\n",
    "* Keep indy connected to conty to bypass conty-connection delay bug"
   ]
  },
  {
   "cell_type": "code",
   "execution_count": null,
   "metadata": {},
   "outputs": [],
   "source": []
  },
  {
   "cell_type": "markdown",
   "metadata": {},
   "source": [
    "# initialize notebook"
   ]
  },
  {
   "cell_type": "code",
   "execution_count": 1,
   "metadata": {
    "pycharm": {
     "name": "#%%\n"
    },
    "scrolled": true
   },
   "outputs": [
    {
     "data": {
      "text/html": [
       "<style>.container { width:90% !important; } </style>"
      ],
      "text/plain": [
       "<IPython.core.display.HTML object>"
      ]
     },
     "metadata": {},
     "output_type": "display_data"
    }
   ],
   "source": [
    "from __future__ import print_function\n",
    "from IPython.core.display import display, HTML\n",
    "display(HTML(\"<style>.container { width:90% !important; } </style>\"))\n",
    "import matplotlib.pyplot as plt"
   ]
  },
  {
   "cell_type": "code",
   "execution_count": null,
   "metadata": {},
   "outputs": [],
   "source": []
  },
  {
   "cell_type": "markdown",
   "metadata": {},
   "source": [
    "# Initialize constants"
   ]
  },
  {
   "cell_type": "code",
   "execution_count": 2,
   "metadata": {
    "scrolled": false
   },
   "outputs": [
    {
     "ename": "ImportError",
     "evalue": "dynamic module does not define init function (initmoveit_plan_compact)",
     "output_type": "error",
     "traceback": [
      "\u001b[0;31m\u001b[0m",
      "\u001b[0;31mImportError\u001b[0mTraceback (most recent call last)",
      "\u001b[0;32m<ipython-input-2-d1e1ef192396>\u001b[0m in \u001b[0;36m<module>\u001b[0;34m()\u001b[0m\n\u001b[1;32m      7\u001b[0m \u001b[0;32mfrom\u001b[0m \u001b[0mpkg\u001b[0m\u001b[0;34m.\u001b[0m\u001b[0mutils\u001b[0m\u001b[0;34m.\u001b[0m\u001b[0mutils\u001b[0m \u001b[0;32mimport\u001b[0m \u001b[0;34m*\u001b[0m\u001b[0;34m\u001b[0m\u001b[0m\n\u001b[1;32m      8\u001b[0m \u001b[0;32mfrom\u001b[0m \u001b[0mpkg\u001b[0m\u001b[0;34m.\u001b[0m\u001b[0menvironment_builder\u001b[0m \u001b[0;32mimport\u001b[0m \u001b[0;34m*\u001b[0m\u001b[0;34m\u001b[0m\u001b[0m\n\u001b[0;32m----> 9\u001b[0;31m \u001b[0;32mfrom\u001b[0m \u001b[0mpkg\u001b[0m\u001b[0;34m.\u001b[0m\u001b[0mui\u001b[0m\u001b[0;34m.\u001b[0m\u001b[0mui_broker\u001b[0m \u001b[0;32mimport\u001b[0m \u001b[0;34m*\u001b[0m\u001b[0;34m\u001b[0m\u001b[0m\n\u001b[0m\u001b[1;32m     10\u001b[0m \u001b[0;32mfrom\u001b[0m \u001b[0mpkg\u001b[0m\u001b[0;34m.\u001b[0m\u001b[0mcontroller\u001b[0m\u001b[0;34m.\u001b[0m\u001b[0mcombined_robot\u001b[0m \u001b[0;32mimport\u001b[0m \u001b[0;34m*\u001b[0m\u001b[0;34m\u001b[0m\u001b[0m\n\u001b[1;32m     11\u001b[0m \u001b[0;34m\u001b[0m\u001b[0m\n",
      "\u001b[0;32m/home/tamp/Projects/tamp_etasl/eTaSL/pkg/ui/ui_broker.py\u001b[0m in \u001b[0;36m<module>\u001b[0;34m()\u001b[0m\n\u001b[1;32m     12\u001b[0m \u001b[0;32mfrom\u001b[0m \u001b[0;34m.\u001b[0m\u001b[0mtable\u001b[0m\u001b[0;34m.\u001b[0m\u001b[0mrobot_table\u001b[0m \u001b[0;32mimport\u001b[0m  \u001b[0;34m*\u001b[0m\u001b[0;34m\u001b[0m\u001b[0m\n\u001b[1;32m     13\u001b[0m \u001b[0;32mfrom\u001b[0m \u001b[0;34m.\u001b[0m\u001b[0mtable\u001b[0m\u001b[0;34m.\u001b[0m\u001b[0mtask_planner_table\u001b[0m \u001b[0;32mimport\u001b[0m \u001b[0;34m*\u001b[0m\u001b[0;34m\u001b[0m\u001b[0m\n\u001b[0;32m---> 14\u001b[0;31m \u001b[0;32mfrom\u001b[0m \u001b[0;34m.\u001b[0m\u001b[0mtable\u001b[0m\u001b[0;34m.\u001b[0m\u001b[0mmotion_planner_table\u001b[0m \u001b[0;32mimport\u001b[0m \u001b[0;34m*\u001b[0m\u001b[0;34m\u001b[0m\u001b[0m\n\u001b[0m\u001b[1;32m     15\u001b[0m \u001b[0;32mfrom\u001b[0m \u001b[0;34m.\u001b[0m\u001b[0mtable\u001b[0m\u001b[0;34m.\u001b[0m\u001b[0mplan_list_table\u001b[0m \u001b[0;32mimport\u001b[0m \u001b[0;34m*\u001b[0m\u001b[0;34m\u001b[0m\u001b[0m\n\u001b[1;32m     16\u001b[0m \u001b[0;34m\u001b[0m\u001b[0m\n",
      "\u001b[0;32m/home/tamp/Projects/tamp_etasl/eTaSL/pkg/ui/table/motion_planner_table.py\u001b[0m in \u001b[0;36m<module>\u001b[0;34m()\u001b[0m\n\u001b[1;32m      2\u001b[0m \u001b[0;32mfrom\u001b[0m \u001b[0;34m.\u001b[0m\u001b[0;34m.\u001b[0m\u001b[0;34m.\u001b[0m\u001b[0menvironment_builder\u001b[0m \u001b[0;32mimport\u001b[0m \u001b[0;34m*\u001b[0m\u001b[0;34m\u001b[0m\u001b[0m\n\u001b[1;32m      3\u001b[0m \u001b[0;32mfrom\u001b[0m \u001b[0;34m.\u001b[0m\u001b[0;34m.\u001b[0m\u001b[0;34m.\u001b[0m\u001b[0mplanner\u001b[0m\u001b[0;34m.\u001b[0m\u001b[0metasl\u001b[0m\u001b[0;34m.\u001b[0m\u001b[0metasl\u001b[0m \u001b[0;32mimport\u001b[0m \u001b[0;34m*\u001b[0m\u001b[0;34m\u001b[0m\u001b[0m\n\u001b[0;32m----> 4\u001b[0;31m \u001b[0;32mfrom\u001b[0m \u001b[0;34m.\u001b[0m\u001b[0;34m.\u001b[0m\u001b[0;34m.\u001b[0m\u001b[0mplanner\u001b[0m\u001b[0;34m.\u001b[0m\u001b[0mmoveit\u001b[0m\u001b[0;34m.\u001b[0m\u001b[0mmoveit_planner\u001b[0m \u001b[0;32mimport\u001b[0m \u001b[0;34m*\u001b[0m\u001b[0;34m\u001b[0m\u001b[0m\n\u001b[0m\u001b[1;32m      5\u001b[0m \u001b[0;32mfrom\u001b[0m \u001b[0;34m.\u001b[0m\u001b[0;34m.\u001b[0m\u001b[0;34m.\u001b[0m\u001b[0mplanner\u001b[0m\u001b[0;34m.\u001b[0m\u001b[0mhybrid\u001b[0m\u001b[0;34m.\u001b[0m\u001b[0mhybrid_planner\u001b[0m \u001b[0;32mimport\u001b[0m \u001b[0;34m*\u001b[0m\u001b[0;34m\u001b[0m\u001b[0m\n\u001b[1;32m      6\u001b[0m \u001b[0;34m\u001b[0m\u001b[0m\n",
      "\u001b[0;32m/home/tamp/Projects/tamp_etasl/eTaSL/pkg/planner/moveit/moveit_planner.py\u001b[0m in \u001b[0;36m<module>\u001b[0;34m()\u001b[0m\n\u001b[0;32m----> 1\u001b[0;31m \u001b[0;32mfrom\u001b[0m \u001b[0mmoveit_py\u001b[0m \u001b[0;32mimport\u001b[0m \u001b[0mMoveitCompactPlanner_BP\u001b[0m\u001b[0;34m,\u001b[0m \u001b[0mObjectType\u001b[0m\u001b[0;34m,\u001b[0m \u001b[0mObjectMPC\u001b[0m\u001b[0;34m\u001b[0m\u001b[0m\n\u001b[0m\u001b[1;32m      2\u001b[0m \u001b[0;32mfrom\u001b[0m \u001b[0;34m.\u001b[0m\u001b[0;34m.\u001b[0m\u001b[0minterface\u001b[0m \u001b[0;32mimport\u001b[0m \u001b[0mPlannerInterface\u001b[0m\u001b[0;34m\u001b[0m\u001b[0m\n\u001b[1;32m      3\u001b[0m \u001b[0;32mfrom\u001b[0m \u001b[0;34m.\u001b[0m\u001b[0;34m.\u001b[0m\u001b[0;34m.\u001b[0m\u001b[0mutils\u001b[0m\u001b[0;34m.\u001b[0m\u001b[0mutils\u001b[0m \u001b[0;32mimport\u001b[0m \u001b[0mlist2dict\u001b[0m\u001b[0;34m\u001b[0m\u001b[0m\n\u001b[1;32m      4\u001b[0m \u001b[0;32mfrom\u001b[0m \u001b[0;34m.\u001b[0m\u001b[0;34m.\u001b[0m\u001b[0;34m.\u001b[0m\u001b[0mutils\u001b[0m\u001b[0;34m.\u001b[0m\u001b[0mrotation_utils\u001b[0m \u001b[0;32mimport\u001b[0m \u001b[0mSE3\u001b[0m\u001b[0;34m,\u001b[0m \u001b[0mSE3_inv\u001b[0m\u001b[0;34m,\u001b[0m \u001b[0mRot_rpy\u001b[0m\u001b[0;34m\u001b[0m\u001b[0m\n\u001b[1;32m      5\u001b[0m \u001b[0;32mfrom\u001b[0m \u001b[0;34m.\u001b[0m\u001b[0;34m.\u001b[0m\u001b[0;34m.\u001b[0m\u001b[0mgeometry\u001b[0m\u001b[0;34m.\u001b[0m\u001b[0mgeometry\u001b[0m \u001b[0;32mimport\u001b[0m \u001b[0mGEOTYPE\u001b[0m\u001b[0;34m,\u001b[0m \u001b[0mGeometryHandle\u001b[0m\u001b[0;34m\u001b[0m\u001b[0m\n",
      "\u001b[0;32m/home/tamp/Projects/tamp_etasl/eTaSL/pkg/planner/moveit/moveit_py.py\u001b[0m in \u001b[0;36m<module>\u001b[0;34m()\u001b[0m\n\u001b[1;32m      3\u001b[0m \u001b[0;34m\u001b[0m\u001b[0m\n\u001b[1;32m      4\u001b[0m \u001b[0msys\u001b[0m\u001b[0;34m.\u001b[0m\u001b[0mpath\u001b[0m\u001b[0;34m.\u001b[0m\u001b[0mappend\u001b[0m\u001b[0;34m(\u001b[0m\u001b[0mos\u001b[0m\u001b[0;34m.\u001b[0m\u001b[0mpath\u001b[0m\u001b[0;34m.\u001b[0m\u001b[0mjoin\u001b[0m\u001b[0;34m(\u001b[0m\u001b[0mos\u001b[0m\u001b[0;34m.\u001b[0m\u001b[0menviron\u001b[0m\u001b[0;34m[\u001b[0m\u001b[0;34m\"TAMP_ETASL_DIR\"\u001b[0m\u001b[0;34m]\u001b[0m\u001b[0;34m,\u001b[0m \u001b[0;34m\"moveit_plan_compact\"\u001b[0m\u001b[0;34m)\u001b[0m\u001b[0;34m)\u001b[0m\u001b[0;34m\u001b[0m\u001b[0m\n\u001b[0;32m----> 5\u001b[0;31m \u001b[0;32mimport\u001b[0m \u001b[0mmoveit_plan_compact\u001b[0m \u001b[0;32mas\u001b[0m \u001b[0mmpc\u001b[0m\u001b[0;34m\u001b[0m\u001b[0m\n\u001b[0m\u001b[1;32m      6\u001b[0m \u001b[0;32mimport\u001b[0m \u001b[0mnumpy\u001b[0m \u001b[0;32mas\u001b[0m \u001b[0mnp\u001b[0m\u001b[0;34m\u001b[0m\u001b[0m\n\u001b[1;32m      7\u001b[0m \u001b[0;32mfrom\u001b[0m \u001b[0menum\u001b[0m \u001b[0;32mimport\u001b[0m \u001b[0mEnum\u001b[0m\u001b[0;34m\u001b[0m\u001b[0m\n",
      "\u001b[0;31mImportError\u001b[0m: dynamic module does not define init function (initmoveit_plan_compact)"
     ]
    }
   ],
   "source": [
    "from pkg.marker_config import *\n",
    "from pkg.constraint_graph import *\n",
    "from pkg.constraint.constraint_action import *\n",
    "from pkg.constraint.constraint_object import *\n",
    "from pkg.constants import *\n",
    "from pkg.utils.plot_utils import *\n",
    "from pkg.utils.utils import *\n",
    "from pkg.environment_builder import *\n",
    "from pkg.ui.ui_broker import *\n",
    "from pkg.controller.combined_robot import *\n",
    "\n",
    "gtimer = GlobalTimer.instance()\n",
    "gtimer.reset()"
   ]
  },
  {
   "cell_type": "code",
   "execution_count": null,
   "metadata": {},
   "outputs": [],
   "source": []
  },
  {
   "cell_type": "code",
   "execution_count": null,
   "metadata": {
    "scrolled": true
   },
   "outputs": [],
   "source": [
    "crob = CombinedRobot(connection_list=(False, False))"
   ]
  },
  {
   "cell_type": "code",
   "execution_count": null,
   "metadata": {},
   "outputs": [],
   "source": []
  },
  {
   "cell_type": "markdown",
   "metadata": {},
   "source": [
    "# initialize graph & ui"
   ]
  },
  {
   "cell_type": "code",
   "execution_count": 3,
   "metadata": {
    "scrolled": true
   },
   "outputs": [
    {
     "ename": "NameError",
     "evalue": "name 'crob' is not defined",
     "output_type": "error",
     "traceback": [
      "\u001b[0;31m\u001b[0m",
      "\u001b[0;31mNameError\u001b[0mTraceback (most recent call last)",
      "\u001b[0;32m<ipython-input-3-412e20523137>\u001b[0m in \u001b[0;36m<module>\u001b[0;34m()\u001b[0m\n\u001b[1;32m      3\u001b[0m \u001b[0;34m\u001b[0m\u001b[0m\n\u001b[1;32m      4\u001b[0m \u001b[0;31m# set urdf\u001b[0m\u001b[0;34m\u001b[0m\u001b[0;34m\u001b[0m\u001b[0m\n\u001b[0;32m----> 5\u001b[0;31m \u001b[0mxcustom\u001b[0m\u001b[0;34m,\u001b[0m \u001b[0mJOINT_NAMES\u001b[0m\u001b[0;34m,\u001b[0m \u001b[0mLINK_NAMES\u001b[0m\u001b[0;34m,\u001b[0m \u001b[0murdf_content\u001b[0m \u001b[0;34m=\u001b[0m \u001b[0mset_custom_robots\u001b[0m\u001b[0;34m(\u001b[0m\u001b[0mcrob\u001b[0m\u001b[0;34m.\u001b[0m\u001b[0mrobots_on_scene\u001b[0m\u001b[0;34m,\u001b[0m \u001b[0mXYZ_RPY_ROBOTS_DEFAULT\u001b[0m\u001b[0;34m,\u001b[0m \u001b[0mcrob\u001b[0m\u001b[0;34m.\u001b[0m\u001b[0mcustom_limits\u001b[0m\u001b[0;34m,\u001b[0m \u001b[0mstart_rviz\u001b[0m\u001b[0;34m=\u001b[0m\u001b[0mTrue\u001b[0m\u001b[0;34m)\u001b[0m\u001b[0;34m\u001b[0m\u001b[0m\n\u001b[0m\u001b[1;32m      6\u001b[0m \u001b[0mghnd\u001b[0m \u001b[0;34m=\u001b[0m \u001b[0mGeometryHandle\u001b[0m\u001b[0;34m(\u001b[0m\u001b[0murdf_content\u001b[0m\u001b[0;34m)\u001b[0m\u001b[0;34m\u001b[0m\u001b[0m\n\u001b[1;32m      7\u001b[0m \u001b[0;34m\u001b[0m\u001b[0m\n",
      "\u001b[0;31mNameError\u001b[0m: name 'crob' is not defined"
     ]
    }
   ],
   "source": [
    "if \"cam\" not in locals():\n",
    "    cam = None # StereoCamera.instance()\n",
    "\n",
    "# set urdf\n",
    "xcustom, JOINT_NAMES, LINK_NAMES, urdf_content = set_custom_robots(crob.robots_on_scene, XYZ_RPY_ROBOTS_DEFAULT, crob.custom_limits, start_rviz=True)\n",
    "ghnd = GeometryHandle(urdf_content)\n",
    "\n",
    "\n",
    "graph = ConstraintGraph(ghnd=ghnd, urdf_path=URDF_PATH, joint_names=JOINT_NAMES, link_names=LINK_NAMES, \n",
    "                        urdf_content=urdf_content, combined_robot=crob)\n",
    "graph.set_camera(cam)\n",
    "graph.set_cam_robot_collision()\n",
    "graph.set_rviz()\n",
    "\n",
    "# start UI\n",
    "ui_broker = UIBroker.instance()\n",
    "ui_broker.initialize(graph)\n",
    "ui_broker.start_server()\n",
    "\n",
    "# set rviz\n",
    "graph.set_rviz(crob.home_pose)\n",
    "ui_broker.set_tables()"
   ]
  },
  {
   "cell_type": "code",
   "execution_count": 5,
   "metadata": {},
   "outputs": [
    {
     "data": {
      "text/plain": [
       "1"
      ]
     },
     "execution_count": 5,
     "metadata": {},
     "output_type": "execute_result"
    }
   ],
   "source": [
    "1"
   ]
  },
  {
   "cell_type": "markdown",
   "metadata": {},
   "source": [
    "# Calibrate camera"
   ]
  },
  {
   "cell_type": "code",
   "execution_count": null,
   "metadata": {},
   "outputs": [],
   "source": [
    "cam.calibrate(ghnd)\n",
    "graph.set_cam_robot_collision()\n",
    "graph.set_rviz()"
   ]
  },
  {
   "cell_type": "code",
   "execution_count": null,
   "metadata": {},
   "outputs": [],
   "source": []
  },
  {
   "cell_type": "markdown",
   "metadata": {},
   "source": [
    "# Update Robots"
   ]
  },
  {
   "cell_type": "code",
   "execution_count": null,
   "metadata": {},
   "outputs": [],
   "source": [
    "# btn: detect robots\n",
    "crob.detect_robots(cam)\n",
    "\n",
    "# btn: apply\n",
    "xcustom, JOINT_NAMES, LINK_NAMES, urdf_content = set_custom_robots(crob.robots_on_scene, crob.xyz_rpy_robots, crob.custom_limits, start_rviz=True)\n",
    "ghnd = GeometryHandle(urdf_content)\n",
    "\n",
    "\n",
    "graph.clear_markers()\n",
    "graph.clear_highlight()\n",
    "graph.ghnd.clear()\n",
    "timer.sleep(1)\n",
    "graph.__init__(ghnd=ghnd, urdf_path=URDF_PATH, joint_names=JOINT_NAMES, link_names=LINK_NAMES, \n",
    "                   urdf_content=urdf_content, combined_robot=crob)\n",
    "add_geometry_items(graph.urdf_content, ghnd, color=(0, 1, 0, 0.3), display=True, collision=True,\n",
    "                   exclude_link=[\"panda1_link7\"])\n",
    "graph.set_cam_robot_collision()\n",
    "graph.set_rviz()"
   ]
  },
  {
   "cell_type": "code",
   "execution_count": null,
   "metadata": {},
   "outputs": [],
   "source": []
  },
  {
   "cell_type": "markdown",
   "metadata": {},
   "source": [
    "# Detect environment"
   ]
  },
  {
   "cell_type": "code",
   "execution_count": null,
   "metadata": {},
   "outputs": [],
   "source": [
    "env_gen_dict, objectPose_dict, corner_dict, color_image, rs_objectPose_dict, rs_corner_dict, rs_image = cam.detect_environment(ghnd)\n",
    "add_objects_gen(graph, env_gen_dict)\n",
    "graph.set_rviz()"
   ]
  },
  {
   "cell_type": "code",
   "execution_count": null,
   "metadata": {},
   "outputs": [],
   "source": []
  },
  {
   "cell_type": "markdown",
   "metadata": {},
   "source": [
    "# Reset robot connection"
   ]
  },
  {
   "cell_type": "code",
   "execution_count": null,
   "metadata": {},
   "outputs": [],
   "source": [
    "graph.combined_robot.reset_connection([False, False])"
   ]
  },
  {
   "cell_type": "code",
   "execution_count": null,
   "metadata": {},
   "outputs": [],
   "source": []
  },
  {
   "cell_type": "markdown",
   "metadata": {},
   "source": [
    "# Go home"
   ]
  },
  {
   "cell_type": "code",
   "execution_count": null,
   "metadata": {},
   "outputs": [],
   "source": [
    "if all(graph.combined_robot.connection_list):\n",
    "    graph.combined_robot.joint_make_sure(graph.combined_robot.home_pose)"
   ]
  },
  {
   "cell_type": "code",
   "execution_count": null,
   "metadata": {},
   "outputs": [],
   "source": []
  },
  {
   "cell_type": "markdown",
   "metadata": {},
   "source": [
    "## Register binders"
   ]
  },
  {
   "cell_type": "code",
   "execution_count": null,
   "metadata": {},
   "outputs": [],
   "source": [
    "graph.register_binder(name='grip1', _type=Gripper2Tool, point=[0,0,0.112], rpy=[-np.pi/2,0,0], link_name=\"panda1_hand\")\n",
    "graph.register_binder(name='grip0', _type=Gripper2Tool, point=[0,0,0.14], rpy=[-np.pi/2,0,0], link_name=\"indy0_tcp\")\n",
    "graph.register_binder(name='floor', _type=PlacePlane)"
   ]
  },
  {
   "cell_type": "code",
   "execution_count": null,
   "metadata": {},
   "outputs": [],
   "source": []
  },
  {
   "cell_type": "markdown",
   "metadata": {},
   "source": [
    "## detect movable"
   ]
  },
  {
   "cell_type": "code",
   "execution_count": null,
   "metadata": {},
   "outputs": [],
   "source": [
    "BINDER_DICT = {'goal_bd': dict(_type=PlacePlane, object_name=\"goal\", point=[0,0,0.02], rpy=[0,0,0])}\n",
    "OBJECT_DICT = {'box1': dict(_type=BoxAction, hexahedral=True),\n",
    "               'box2': dict(_type=BoxAction, hexahedral=True)}"
   ]
  },
  {
   "cell_type": "code",
   "execution_count": null,
   "metadata": {
    "scrolled": true
   },
   "outputs": [],
   "source": [
    "objectPose_dict_mv, corner_dict_mv, color_image, aruco_map_mv = detect_objects(graph.cam.aruco_map, graph.cam.dictionary, graph.cam.ref_tuple)\n",
    "put_point_dict = graph.register_object_gen(objectPose_dict_mv, BINDER_DICT, OBJECT_DICT, link_name=\"base_link\")"
   ]
  },
  {
   "cell_type": "code",
   "execution_count": null,
   "metadata": {},
   "outputs": [],
   "source": [
    "graph.set_rviz()"
   ]
  },
  {
   "cell_type": "code",
   "execution_count": null,
   "metadata": {},
   "outputs": [],
   "source": []
  },
  {
   "cell_type": "code",
   "execution_count": null,
   "metadata": {},
   "outputs": [],
   "source": [
    "graph.show_pose(graph.get_real_robot_pose())"
   ]
  },
  {
   "cell_type": "code",
   "execution_count": null,
   "metadata": {},
   "outputs": [],
   "source": []
  },
  {
   "cell_type": "markdown",
   "metadata": {},
   "source": [
    "## Register object binders"
   ]
  },
  {
   "cell_type": "code",
   "execution_count": null,
   "metadata": {},
   "outputs": [],
   "source": [
    "register_hexahedral_binder(graph, object_name='box1', _type=PlacePlane)\n",
    "register_hexahedral_binder(graph, object_name='box2', _type=PlacePlane)"
   ]
  },
  {
   "cell_type": "code",
   "execution_count": null,
   "metadata": {},
   "outputs": [],
   "source": []
  },
  {
   "cell_type": "markdown",
   "metadata": {},
   "source": [
    "# Set Planner"
   ]
  },
  {
   "cell_type": "code",
   "execution_count": null,
   "metadata": {},
   "outputs": [],
   "source": [
    "from pkg.planner.moveit.moveit_planner import MoveitPlanner"
   ]
  },
  {
   "cell_type": "code",
   "execution_count": null,
   "metadata": {
    "scrolled": true
   },
   "outputs": [],
   "source": [
    "hplan = HybridPlanner(joint_names=graph.joint_names, link_names=graph.link_names,\n",
    "                      urdf_path=graph.urdf_path, urdf_content=graph.urdf_content,\n",
    "                      robot_names=graph.combined_robot.robot_names,\n",
    "                      binder_links=[v.object.link_name for v in graph.binder_dict.values()], ghnd=graph.ghnd)\n",
    "graph.set_planner(hplan)"
   ]
  },
  {
   "cell_type": "code",
   "execution_count": null,
   "metadata": {},
   "outputs": [],
   "source": [
    "# eplan = etasl_planner(joint_names = graph.joint_names, link_names = graph.link_names, urdf_path = graph.urdf_path)\n",
    "# graph.set_planner(eplan)"
   ]
  },
  {
   "cell_type": "code",
   "execution_count": null,
   "metadata": {},
   "outputs": [],
   "source": []
  },
  {
   "cell_type": "markdown",
   "metadata": {},
   "source": [
    "# Set Sampler"
   ]
  },
  {
   "cell_type": "code",
   "execution_count": null,
   "metadata": {},
   "outputs": [],
   "source": [
    "from pkg.sampler.object_a_star import *\n",
    "sampler = ObjectAstarSampler(graph)\n",
    "graph.set_sampler(sampler)"
   ]
  },
  {
   "cell_type": "code",
   "execution_count": null,
   "metadata": {},
   "outputs": [],
   "source": []
  },
  {
   "cell_type": "markdown",
   "metadata": {},
   "source": [
    "# Search Graph"
   ]
  },
  {
   "cell_type": "code",
   "execution_count": null,
   "metadata": {},
   "outputs": [],
   "source": [
    "gtimer.reset()"
   ]
  },
  {
   "cell_type": "code",
   "execution_count": null,
   "metadata": {},
   "outputs": [],
   "source": [
    "sampler.build_graph()\n",
    "print(graph.gtimer)"
   ]
  },
  {
   "cell_type": "code",
   "execution_count": null,
   "metadata": {
    "scrolled": true
   },
   "outputs": [],
   "source": [
    "OBJECT_DICT = {k:dict(_type=v.__class__) for k,v in graph.object_dict.items()}\n",
    "objectPose_dict_mv, corner_dict_mv, color_image, aruco_map_mv = \\\n",
    "    detect_objects(graph.cam.aruco_map, graph.cam.dictionary)\n",
    "xyz_rvec_mv_dict, put_point_dict, up_point_dict = calc_put_point(ghnd, \n",
    "    objectPose_dict_mv, graph.cam.aruco_map, OBJECT_DICT, graph.cam.ref_tuple)\n",
    "update_geometries(ghnd, objectPose_dict_mv.keys(), objectPose_dict_mv, graph.cam.ref_tuple[1])\n",
    "graph.set_rviz()\n",
    "dt_sim = 0.04\n",
    "T_step = 10\n",
    "N_fullstep = int(T_step / dt_sim)\n",
    "initial_state = State(tuple([(oname, put_point_dict[oname],'floor') for oname in graph.object_list]), \n",
    "                      {oname: graph.object_dict[oname].object.Toff for oname in graph.object_list}, \n",
    "                      graph.get_real_robot_pose(), graph)\n",
    "binding_dict = match_point_binder(graph, initial_state, objectPose_dict_mv)\n",
    "initial_state = State(tuple([(oname, put_point_dict[oname],binding_dict[oname]) for oname in graph.object_list]), \n",
    "                      {oname: graph.object_dict[oname].object.Toff for oname in graph.object_list}, \n",
    "                      graph.get_real_robot_pose(), graph)\n",
    "graph.set_object_state(initial_state)\n",
    "graph.show_pose(graph.get_real_robot_pose())\n",
    "\n",
    "goal_nodes_1 = get_goal_nodes(initial_state.node, \"box1\", \"goal_bd\")\n",
    "goal_nodes = []\n",
    "for gnode in goal_nodes_1:\n",
    "    goal_nodes += get_goal_nodes(gnode, \"box2\", \"floor\")\n",
    "# goal_nodes = goal_nodes[3:4]\n",
    "\n",
    "sampler.search_graph(\n",
    "    initial_state = initial_state, goal_nodes = goal_nodes,\n",
    "    tree_margin = 4, depth_margin = 4, \n",
    "    terminate_on_first = True, N_search = 100, multiprocess=True,\n",
    "    display=True, dt_vis=dt_sim/4, verbose = True, print_expression=False, error_skip=0, traj_count=DEFAULT_TRAJ_COUNT,\n",
    "    **dict(N=N_fullstep, dt=dt_sim, vel_conv=0.5e-2, err_conv=1e-3))\n",
    "\n",
    "schedule_dict = sampler.find_schedules()\n",
    "schedule_sorted = sampler.sort_schedule(schedule_dict)"
   ]
  },
  {
   "cell_type": "code",
   "execution_count": null,
   "metadata": {
    "scrolled": true
   },
   "outputs": [],
   "source": [
    "print(gtimer)\n",
    "sampler.quiver_snodes()"
   ]
  },
  {
   "cell_type": "code",
   "execution_count": null,
   "metadata": {},
   "outputs": [],
   "source": []
  },
  {
   "cell_type": "markdown",
   "metadata": {},
   "source": [
    "# Replay schedule"
   ]
  },
  {
   "cell_type": "code",
   "execution_count": null,
   "metadata": {
    "pycharm": {
     "name": "#%%\n"
    },
    "scrolled": true
   },
   "outputs": [],
   "source": [
    "schedule_dict = sampler.find_schedules()\n",
    "schedule_sorted = sampler.sort_schedule(schedule_dict)\n",
    "N_fullstep = 500\n",
    "dt_sim = 0.04\n",
    "# dt_sim = 0.04\n",
    "for schedule in schedule_sorted:\n",
    "    print(schedule)\n",
    "for schedule, i_s in zip(schedule_sorted[:2], range(len(schedule_sorted))):\n",
    "    graph.set_object_state(sampler.snode_dict[0].state)\n",
    "    graph.show_pose(sampler.snode_dict[0].state.Q)\n",
    "    timer.sleep(0.1)\n",
    "#     try:\n",
    "    e = graph.replay(schedule, N=N_fullstep, dt=dt_sim, \n",
    "                     vel_conv=0.5e-2, err_conv=1e-3, error_skip=0, dt_vis=0.02)\n",
    "#     except Exception as e:\n",
    "#         print(e)"
   ]
  },
  {
   "cell_type": "code",
   "execution_count": null,
   "metadata": {},
   "outputs": [],
   "source": []
  },
  {
   "cell_type": "markdown",
   "metadata": {},
   "source": [
    "# Simulate traj online"
   ]
  },
  {
   "cell_type": "code",
   "execution_count": null,
   "metadata": {},
   "outputs": [],
   "source": [
    "eplan = etasl_planner(ghnd=ghnd, joint_names = graph.joint_names, link_names = graph.link_names, urdf_path = graph.urdf_path)"
   ]
  },
  {
   "cell_type": "code",
   "execution_count": null,
   "metadata": {
    "scrolled": true
   },
   "outputs": [],
   "source": [
    "snode_schedule = graph.sampler.find_best_schedule(schedule_sorted)\n",
    "# snode_schedule = graph.sampler.idxSchedule2SnodeScedule(schedule_sorted[0], graph.combined_robot.home_pose)\n",
    "\n",
    "eplan.update(graph)\n",
    "\n",
    "with DynamicDetector(eplan.online_names, graph.cam.aruco_map, graph.cam.dictionary, graph.cam.rs_config, graph.cam.T_c12, graph.cam.ref_tuple[1]) as dynamic_detector, \\\n",
    "        RvizPublisher(graph, eplan.online_names) as rviz_pub:\n",
    "    e_sim = graph.execute_schedule_online(snode_schedule, eplan, control_freq=DEFAULT_TRAJ_FREQUENCY, playback_rate=0.5,\n",
    "                                  vel_conv=0, err_conv=1e-3, T_step = 100, on_rviz=True, \n",
    "                                  dynamic_detector=dynamic_detector, rviz_pub=rviz_pub, obs_K=\"40\")"
   ]
  },
  {
   "cell_type": "code",
   "execution_count": null,
   "metadata": {},
   "outputs": [],
   "source": []
  },
  {
   "cell_type": "markdown",
   "metadata": {},
   "source": [
    "# Execute traj online"
   ]
  },
  {
   "cell_type": "code",
   "execution_count": null,
   "metadata": {},
   "outputs": [],
   "source": [
    "graph.combined_robot.reset_connection([True, True])"
   ]
  },
  {
   "cell_type": "code",
   "execution_count": null,
   "metadata": {
    "scrolled": true
   },
   "outputs": [],
   "source": [
    "snode_schedule = graph.sampler.find_best_schedule(schedule_sorted)\n",
    "eplan.update(graph)\n",
    "\n",
    "with DynamicDetector(eplan.online_names, graph.cam.aruco_map, graph.cam.dictionary, graph.cam.rs_config, graph.cam.T_c12, graph.cam.ref_tuple[1]) as dynamic_detector, \\\n",
    "        RvizPublisher(graph, eplan.online_names) as rviz_pub:\n",
    "    e_sim = graph.execute_schedule_online(snode_schedule, eplan, control_freq=DEFAULT_TRAJ_FREQUENCY, playback_rate=0.2,\n",
    "                                  vel_conv=0, err_conv=1e-3, T_step = 100, on_rviz=False, \n",
    "                                  dynamic_detector=dynamic_detector, rviz_pub=rviz_pub, obs_K=\"40\")"
   ]
  },
  {
   "cell_type": "code",
   "execution_count": null,
   "metadata": {},
   "outputs": [],
   "source": [
    "print(gtimer)"
   ]
  },
  {
   "cell_type": "code",
   "execution_count": null,
   "metadata": {},
   "outputs": [],
   "source": []
  },
  {
   "cell_type": "code",
   "execution_count": null,
   "metadata": {},
   "outputs": [],
   "source": [
    "plt.plot(gtimer.timelist_dict[\"move_wait\"])\n",
    "plt.axis([0,15000,0,50])"
   ]
  },
  {
   "cell_type": "code",
   "execution_count": null,
   "metadata": {},
   "outputs": [],
   "source": [
    "plt.plot(gtimer.timelist_dict[\"send-robot-0\"])\n",
    "plt.axis([0,6000,0,10])"
   ]
  },
  {
   "cell_type": "code",
   "execution_count": null,
   "metadata": {},
   "outputs": [],
   "source": [
    "plt.plot(gtimer.timelist_dict[\"count-robot-0\"])\n",
    "# plt.axis([0,6000,0,10])"
   ]
  },
  {
   "cell_type": "code",
   "execution_count": null,
   "metadata": {},
   "outputs": [],
   "source": [
    "plt.plot(gtimer.timelist_dict[\"send-robot-1\"])\n",
    "plt.axis([0,6000,0,10])"
   ]
  },
  {
   "cell_type": "code",
   "execution_count": null,
   "metadata": {},
   "outputs": [],
   "source": [
    "plt.plot(gtimer.timelist_dict[\"count-robot-1\"])\n",
    "# plt.axis([0,6000,0,20])"
   ]
  },
  {
   "cell_type": "code",
   "execution_count": null,
   "metadata": {},
   "outputs": [],
   "source": []
  },
  {
   "cell_type": "code",
   "execution_count": null,
   "metadata": {},
   "outputs": [],
   "source": []
  },
  {
   "cell_type": "code",
   "execution_count": null,
   "metadata": {},
   "outputs": [],
   "source": []
  },
  {
   "cell_type": "markdown",
   "metadata": {},
   "source": [
    "# onestep"
   ]
  },
  {
   "cell_type": "code",
   "execution_count": null,
   "metadata": {},
   "outputs": [],
   "source": [
    "loop_process = graph\n",
    "loop_process.stop_now = False\n",
    "while not loop_process.stop_now:\n",
    "    print(\"wait for button input\")\n",
    "    graph.indy.connect_and(graph.indy.wait_di, 16)\n",
    "    if loop_process.stop_now:\n",
    "        break\n",
    "    kn_config, rs_config, T_c12 = calibrate_stereo(aruco_map, dictionary)\n",
    "    objectPose_dict_mv, corner_dict_mv, color_image, aruco_map_mv = \\\n",
    "        detect_objects(MOVABLE_GENERATORS, aruco_map, dictionary)\n",
    "    objectPose_dict_mv.update({'floor': objectPose_dict['floor']})\n",
    "    xyz_rvec_mv_dict, put_point_dict, up_point_dict = calc_put_point(\n",
    "        objectPose_dict_mv, MOVABLE_GENERATORS, OBJECT_DICT, (\"floor\", objectPose_dict[\"floor\"]))\n",
    "    update_geometries(MOVABLE_GENERATORS.keys(), objectPose_dict_mv)\n",
    "    graph.show_pose(ZERO_JOINT_POSE)\n",
    "\n",
    "    dt_sim = 0.04\n",
    "    T_step = 10\n",
    "    N_fullstep = int(T_step / dt_sim)\n",
    "    gtimer.reset()\n",
    "    initial_state = State(tuple([(oname, put_point_dict[oname],'floor') for oname in graph.object_list]), \n",
    "                          {oname: graph.object_dict[oname].object.get_offset_tf() for oname in graph.object_list}, \n",
    "                          (graph.get_real_robot_pose() if graph.connect_indy and graph.connect_panda \n",
    "                           else ZERO_JOINT_POSE))\n",
    "    binding_dict = match_point_binder(graph, initial_state, objectPose_dict_mv)\n",
    "    initial_state = State(tuple([(oname, put_point_dict[oname],binding_dict[oname]) for oname in graph.object_list]), \n",
    "                          {oname: graph.object_dict[oname].object.get_offset_tf() for oname in graph.object_list}, \n",
    "                          (graph.get_real_robot_pose() if graph.connect_indy and graph.connect_panda \n",
    "                           else ZERO_JOINT_POSE))\n",
    "    graph.set_object_state(initial_state)\n",
    "    graph.show_pose(ZERO_JOINT_POSE)\n",
    "\n",
    "    goal_nodes_1 = get_goal_nodes(initial_state.node, \"box1\", \"goal_bd\")\n",
    "    goal_nodes = []\n",
    "    for gnode in goal_nodes_1:\n",
    "        goal_nodes += get_goal_nodes(gnode, \"box2\", \"floor\")\n",
    "    # goal_nodes = goal_nodes[3:4]\n",
    "\n",
    "    graph.search_graph_mp(\n",
    "        initial_state = initial_state, goal_nodes = goal_nodes, swept_volume_test_jmotion=False,\n",
    "        tree_margin = 2, depth_margin = 2, joint_motion_num=10, \n",
    "        terminate_on_first = True, N_search = 100, N_loop=1000,\n",
    "        display=False, dt_vis=dt_sim/40, verbose = True, print_expression=False, error_skip=0,\n",
    "        **dict(N=N_fullstep, dt=dt_sim, vel_conv=1e-3, err_conv=1e-3, N_step=N_fullstep))\n",
    "\n",
    "    schedule_dict = graph.find_schedules()\n",
    "    schedule_sorted = graph.sort_schedule(schedule_dict)\n",
    "    print(gtimer)\n",
    "    schedule_dict = graph.find_schedules()\n",
    "    schedule_sorted = graph.sort_schedule(schedule_dict)\n",
    "\n",
    "    schedule = schedule_sorted[0]\n",
    "    state_schedule = graph.idxSchedule2stateScedule(schedule, ZERO_JOINT_POSE)\n",
    "    obs_names = [\"box3\"]\n",
    "\n",
    "    with DynamicDetector(obs_names, aruco_map, dictionary, rs_config, T_c12, objectPose_dict['floor']) as dynamic_detector, \\\n",
    "            RvizPublisher(graph, obs_names) as rviz_pub:\n",
    "        graph.execute_schedule_online(state_schedule, control_freq=DEFAULT_TRAJ_FREQUENCY, playback_rate=0.5,\n",
    "                                      vel_conv=1e-2, err_conv=1e-3, T_step = 100, on_rviz=False, \n",
    "                                      obs_names=obs_names, dynamic_detector=dynamic_detector, rviz_pub=rviz_pub)\n",
    "print(\"===========================================\")\n",
    "print(\"=================KILLED====================\")\n",
    "print(\"===========================================\")"
   ]
  },
  {
   "cell_type": "code",
   "execution_count": null,
   "metadata": {},
   "outputs": [],
   "source": []
  },
  {
   "cell_type": "code",
   "execution_count": null,
   "metadata": {
    "scrolled": true
   },
   "outputs": [],
   "source": [
    "def loop_process():\n",
    "    loop_process.stop_now = False\n",
    "    while not loop_process.stop_now:\n",
    "        print(\"wait for button input\")\n",
    "        graph.indy.connect_and(graph.indy.wait_di, 16)\n",
    "        if loop_process.stop_now:\n",
    "            break\n",
    "        kn_config, rs_config, T_c12 = calibrate_stereo(aruco_map, dictionary)\n",
    "        objectPose_dict_mv, corner_dict_mv, color_image, aruco_map_mv = \\\n",
    "            detect_objects(MOVABLE_GENERATORS, aruco_map, dictionary)\n",
    "        objectPose_dict_mv.update({'floor': objectPose_dict['floor']})\n",
    "        xyz_rvec_mv_dict, put_point_dict, up_point_dict = calc_put_point(\n",
    "            objectPose_dict_mv, MOVABLE_GENERATORS, OBJECT_DICT, (\"floor\", objectPose_dict[\"floor\"]))\n",
    "        update_geometries(MOVABLE_GENERATORS.keys(), objectPose_dict_mv)\n",
    "        graph.show_pose(ZERO_JOINT_POSE)\n",
    "        \n",
    "        dt_sim = 0.04\n",
    "        T_step = 10\n",
    "        N_fullstep = int(T_step / dt_sim)\n",
    "        gtimer.reset()\n",
    "        initial_state = State(tuple([(oname, put_point_dict[oname],'floor') for oname in graph.object_list]), \n",
    "                              {oname: graph.object_dict[oname].object.get_offset_tf() for oname in graph.object_list}, \n",
    "                              (graph.get_real_robot_pose() if graph.connect_indy and graph.connect_panda \n",
    "                               else ZERO_JOINT_POSE))\n",
    "        binding_dict = match_point_binder(graph, initial_state, objectPose_dict_mv)\n",
    "        initial_state = State(tuple([(oname, put_point_dict[oname],binding_dict[oname]) for oname in graph.object_list]), \n",
    "                              {oname: graph.object_dict[oname].object.get_offset_tf() for oname in graph.object_list}, \n",
    "                              (graph.get_real_robot_pose() if graph.connect_indy and graph.connect_panda \n",
    "                               else ZERO_JOINT_POSE))\n",
    "        graph.set_object_state(initial_state)\n",
    "        graph.show_pose(ZERO_JOINT_POSE)\n",
    "\n",
    "        goal_nodes_1 = get_goal_nodes(initial_state.node, \"box1\", \"goal_bd\")\n",
    "        goal_nodes = []\n",
    "        for gnode in goal_nodes_1:\n",
    "            goal_nodes += get_goal_nodes(gnode, \"box2\", \"floor\")\n",
    "        # goal_nodes = goal_nodes[3:4]\n",
    "\n",
    "        graph.search_graph_mp(\n",
    "            initial_state = initial_state, goal_nodes = goal_nodes, swept_volume_test_jmotion=False,\n",
    "            tree_margin = 2, depth_margin = 2, joint_motion_num=10, \n",
    "            terminate_on_first = True, N_search = 100, N_loop=1000,\n",
    "            display=False, dt_vis=dt_sim/40, verbose = True, print_expression=False, error_skip=0,\n",
    "            **dict(N=N_fullstep, dt=dt_sim, vel_conv=1e-3, err_conv=1e-3, N_step=N_fullstep))\n",
    "\n",
    "        schedule_dict = graph.find_schedules()\n",
    "        schedule_sorted = graph.sort_schedule(schedule_dict)\n",
    "        print(gtimer)\n",
    "        schedule_dict = graph.find_schedules()\n",
    "        schedule_sorted = graph.sort_schedule(schedule_dict)\n",
    "\n",
    "        schedule = schedule_sorted[0]\n",
    "        state_schedule = graph.idxSchedule2stateScedule(schedule, ZERO_JOINT_POSE)\n",
    "        obs_names = [\"box3\"]\n",
    "\n",
    "        with DynamicDetector(obs_names, aruco_map, dictionary, rs_config, T_c12, objectPose_dict['floor']) as dynamic_detector, \\\n",
    "                RvizPublisher(graph, obs_names) as rviz_pub:\n",
    "            graph.execute_schedule_online(state_schedule, control_freq=DEFAULT_TRAJ_FREQUENCY, playback_rate=0.5,\n",
    "                                          vel_conv=0.2e-2, err_conv=1e-3, T_step = 100, on_rviz=False, \n",
    "                                          obs_names=obs_names, dynamic_detector=dynamic_detector, rviz_pub=rviz_pub)\n",
    "    print(\"===========================================\")\n",
    "    print(\"=================KILLED====================\")\n",
    "    print(\"===========================================\")\n",
    "t_loop = Thread(target=loop_process)\n",
    "t_loop.start()"
   ]
  },
  {
   "cell_type": "code",
   "execution_count": null,
   "metadata": {},
   "outputs": [],
   "source": [
    "loop_process.stop_now=True"
   ]
  },
  {
   "cell_type": "code",
   "execution_count": null,
   "metadata": {
    "scrolled": true
   },
   "outputs": [],
   "source": [
    "t_loop.is_alive()"
   ]
  },
  {
   "cell_type": "code",
   "execution_count": null,
   "metadata": {},
   "outputs": [],
   "source": []
  },
  {
   "cell_type": "code",
   "execution_count": null,
   "metadata": {
    "scrolled": true
   },
   "outputs": [],
   "source": [
    "plt.figure(figsize=(20,10))\n",
    "plt.subplot(1,2,1)\n",
    "ax = plt.plot(qcount_indy_list)\n",
    "ax = plt.plot(qcount_panda_list)\n",
    "plt.subplot(1,2,2)\n",
    "ax = plt.plot(looptime_list)\n",
    "print(gtimer)"
   ]
  },
  {
   "cell_type": "code",
   "execution_count": null,
   "metadata": {},
   "outputs": [],
   "source": []
  },
  {
   "cell_type": "code",
   "execution_count": null,
   "metadata": {},
   "outputs": [],
   "source": []
  },
  {
   "cell_type": "code",
   "execution_count": null,
   "metadata": {},
   "outputs": [],
   "source": []
  },
  {
   "cell_type": "markdown",
   "metadata": {},
   "source": [
    "# Item handling scripts"
   ]
  },
  {
   "cell_type": "markdown",
   "metadata": {},
   "source": [
    "## show env image"
   ]
  },
  {
   "cell_type": "code",
   "execution_count": null,
   "metadata": {},
   "outputs": [],
   "source": [
    "# screen_size = (1080,1920)\n",
    "# kn_image_out = draw_objects(color_image, aruco_map, objectPose_dict, corner_dict, *kn_config, axis_len=0.1)\n",
    "# rs_image_out = draw_objects(rs_image, aruco_map, {k:v for k,v in rs_objectPose_dict.items() if k != 'wall'}, rs_corner_dict, *rs_config, axis_len=0.1)\n",
    "# kn_image_out_res = cv2.resize(kn_image_out, (rs_image_out.shape[1], rs_image_out.shape[0]))\n",
    "# image_out = np.concatenate([kn_image_out_res, rs_image_out], axis=1)\n",
    "# ratio = np.min(np.array(screen_size,dtype=np.float)/np.array(image_out.shape[:2],dtype=np.float))\n",
    "# image_out_res = cv2.resize(image_out, (int(image_out.shape[1]*ratio), int(image_out.shape[0]*ratio)))\n",
    "# cv2.imshow(\"test\", image_out_res)\n",
    "# cv2.waitKey(0)\n",
    "# cv2.destroyAllWindows()"
   ]
  },
  {
   "cell_type": "code",
   "execution_count": null,
   "metadata": {
    "scrolled": false
   },
   "outputs": [],
   "source": [
    "kn_image_out = draw_objects(color_image, aruco_map, objectPose_dict, corner_dict, *kn_config, axis_len=0.1)\n",
    "rs_image_out = draw_objects(rs_image, aruco_map, {k:v for k,v in rs_objectPose_dict.items() if k != 'wall'}, rs_corner_dict, *rs_config, axis_len=0.1)\n",
    "plt.figure(figsize=(30,10))\n",
    "plt.subplot(1,2,1)\n",
    "plt.imshow(kn_image_out[:,:,[2,1,0]])\n",
    "plt.subplot(1,2,2)\n",
    "plt.imshow(rs_image_out[:,:,[2,1,0]])"
   ]
  },
  {
   "cell_type": "markdown",
   "metadata": {},
   "source": [
    "## Register binders"
   ]
  },
  {
   "cell_type": "code",
   "execution_count": null,
   "metadata": {},
   "outputs": [],
   "source": [
    "graph.register_binder(name='grip1', _type=Gripper2Tool, point=[0,0,0.112], link_name=\"panda1_hand\", direction=[0,1,0])\n",
    "graph.register_binder(name='grip0', _type=Gripper2Tool, point=[0,0,0.14], link_name=\"indy0_tcp\", direction=[0,1,0])\n",
    "graph.register_binder(name='floor', _type=PlacePlane, direction=[0,0,1])"
   ]
  },
  {
   "cell_type": "markdown",
   "metadata": {},
   "source": [
    "## detect movable"
   ]
  },
  {
   "cell_type": "code",
   "execution_count": null,
   "metadata": {},
   "outputs": [],
   "source": [
    "BINDER_DICT = {'goal_bd': dict(_type=PlacePlane, object_name=\"goal\", point=[0,0,0.02], direction=[0,0,1])}\n",
    "OBJECT_DICT = {'box1': dict(_type=BoxAction, hexahedral=True),\n",
    "               'box2': dict(_type=BoxAction, hexahedral=True)}"
   ]
  },
  {
   "cell_type": "code",
   "execution_count": null,
   "metadata": {
    "scrolled": true
   },
   "outputs": [],
   "source": [
    "objectPose_dict_mv, corner_dict_mv, color_image, aruco_map_mv = detect_objects(aruco_map, dictionary)\n",
    "put_point_dict = graph.register_object_gen(objectPose_dict_mv, BINDER_DICT, OBJECT_DICT, \n",
    "                 ref_tuple=(REF_NAME, objectPose_dict[REF_NAME]), link_name=\"base_link\")"
   ]
  },
  {
   "cell_type": "markdown",
   "metadata": {},
   "source": [
    "# show markers"
   ]
  },
  {
   "cell_type": "code",
   "execution_count": null,
   "metadata": {},
   "outputs": [],
   "source": [
    "plt.figure(figsize=(10,8))\n",
    "aruco_map_mv.update({'floor': aruco_map['floor']})\n",
    "color_image_out = draw_objects(color_image, aruco_map_mv, objectPose_dict_mv, corner_dict_mv, *kn_config, axis_len=0.1)\n",
    "plt.imshow(color_image_out[:,:,[2,1,0]])"
   ]
  },
  {
   "cell_type": "code",
   "execution_count": null,
   "metadata": {},
   "outputs": [],
   "source": []
  },
  {
   "cell_type": "markdown",
   "metadata": {},
   "source": [
    "# Register object binders"
   ]
  },
  {
   "cell_type": "code",
   "execution_count": null,
   "metadata": {},
   "outputs": [],
   "source": [
    "register_hexahedral_binder(graph, object_name='box1', _type=PlacePlane)\n",
    "register_hexahedral_binder(graph, object_name='box2', _type=PlacePlane)"
   ]
  },
  {
   "cell_type": "code",
   "execution_count": null,
   "metadata": {
    "scrolled": true
   },
   "outputs": [],
   "source": []
  },
  {
   "cell_type": "markdown",
   "metadata": {},
   "source": [
    "# Set ui data"
   ]
  },
  {
   "cell_type": "code",
   "execution_count": null,
   "metadata": {
    "scrolled": false
   },
   "outputs": [],
   "source": [
    "graph.set_rviz(ZERO_JOINT_POSE)\n",
    "ui_broker.set_tables()"
   ]
  },
  {
   "cell_type": "code",
   "execution_count": null,
   "metadata": {},
   "outputs": [],
   "source": []
  },
  {
   "cell_type": "code",
   "execution_count": null,
   "metadata": {},
   "outputs": [],
   "source": [
    "np.rad2deg(graph.planner.inp[3:-2] - graph.joints.position)"
   ]
  },
  {
   "cell_type": "code",
   "execution_count": null,
   "metadata": {},
   "outputs": [],
   "source": [
    "graph.show_pose(graph.planner.inp[3:-2])"
   ]
  },
  {
   "cell_type": "code",
   "execution_count": null,
   "metadata": {},
   "outputs": [],
   "source": [
    "graph.show_pose(graph.planner.inp[3:-2])"
   ]
  },
  {
   "cell_type": "code",
   "execution_count": null,
   "metadata": {},
   "outputs": [],
   "source": []
  },
  {
   "cell_type": "code",
   "execution_count": null,
   "metadata": {},
   "outputs": [],
   "source": []
  },
  {
   "cell_type": "code",
   "execution_count": null,
   "metadata": {},
   "outputs": [],
   "source": []
  },
  {
   "cell_type": "code",
   "execution_count": null,
   "metadata": {},
   "outputs": [],
   "source": []
  },
  {
   "cell_type": "markdown",
   "metadata": {},
   "source": [
    "# Going back"
   ]
  },
  {
   "cell_type": "code",
   "execution_count": null,
   "metadata": {},
   "outputs": [],
   "source": [
    "e_POS = e_POS_list[0]\n",
    "self.panda.move_joint_interpolated(\n",
    "    e_POS[0, graph.panda_idx], N_step=500, N_div=500)"
   ]
  },
  {
   "cell_type": "code",
   "execution_count": null,
   "metadata": {},
   "outputs": [],
   "source": []
  },
  {
   "cell_type": "code",
   "execution_count": null,
   "metadata": {},
   "outputs": [],
   "source": [
    "e_POS = e_POS_list[0]\n",
    "if hasattr(graph, 'indy'):\n",
    "    graph.indy.joint_move_to(np.rad2deg(e_POS[0,graph.indy_idx]))"
   ]
  },
  {
   "cell_type": "code",
   "execution_count": null,
   "metadata": {},
   "outputs": [],
   "source": [
    "self.reset_panda()"
   ]
  },
  {
   "cell_type": "code",
   "execution_count": null,
   "metadata": {},
   "outputs": [],
   "source": []
  },
  {
   "cell_type": "code",
   "execution_count": null,
   "metadata": {},
   "outputs": [],
   "source": []
  },
  {
   "cell_type": "code",
   "execution_count": null,
   "metadata": {},
   "outputs": [],
   "source": [
    "'x' in [u'x', u'y']"
   ]
  },
  {
   "cell_type": "code",
   "execution_count": null,
   "metadata": {},
   "outputs": [],
   "source": []
  },
  {
   "cell_type": "markdown",
   "metadata": {},
   "source": [
    "## test unavailable binder"
   ]
  },
  {
   "cell_type": "code",
   "execution_count": null,
   "metadata": {},
   "outputs": [],
   "source": [
    "from_state = graph.snode_dict[2].state\n",
    "to_state = from_state.copy()\n",
    "print(to_state.node)\n",
    "print(sorted(graph.binder_dict.keys()))"
   ]
  },
  {
   "cell_type": "code",
   "execution_count": null,
   "metadata": {},
   "outputs": [],
   "source": [
    "to_state.node = (('box1', 'back_p', 'box2_right'), ('box2', 'front_p', 'grip0'))"
   ]
  },
  {
   "cell_type": "code",
   "execution_count": null,
   "metadata": {
    "scrolled": true
   },
   "outputs": [],
   "source": [
    "traj, new_state, error, succ = graph.test_transition(from_state, to_state, display=True, N=N_fullstep, dt=dt_sim, vel_conv=1e-3, err_conv=1e-3)"
   ]
  },
  {
   "cell_type": "code",
   "execution_count": null,
   "metadata": {},
   "outputs": [],
   "source": []
  },
  {
   "cell_type": "markdown",
   "metadata": {},
   "source": [
    "# test mesh"
   ]
  },
  {
   "cell_type": "code",
   "execution_count": null,
   "metadata": {},
   "outputs": [],
   "source": [
    "from pkg.gjk import *"
   ]
  },
  {
   "cell_type": "code",
   "execution_count": null,
   "metadata": {},
   "outputs": [],
   "source": [
    "Q1 = ZERO_JOINT_POSE\n",
    "Q2 = ZERO_JOINT_POSE - 0.1\n",
    "\n",
    "gtimer.reset()\n",
    "\n",
    "gtimer.tic(\"svt\")\n",
    "swept_volume_test(Q1, Q2, graph.fixed_collision_items_list+graph.movable_collision_items_list, \n",
    "                  graph.joint_names, graph.urdf_content)\n",
    "gtimer.toc(\"svt\")"
   ]
  },
  {
   "cell_type": "code",
   "execution_count": null,
   "metadata": {},
   "outputs": [],
   "source": [
    "import matplotlib.pyplot as plt\n",
    "import mpl_toolkits.mplot3d as mplot3d\n",
    "\n",
    "fig = plt.figure(figsize=(15, 5))\n",
    "\n",
    "idx_col = 205\n",
    "\n",
    "sub = fig.add_subplot(1, 1, 1, projection=\"3d\")\n",
    "x, y, z = np.transpose(vtx2_list[idx1_list[idx_col]])\n",
    "sub.plot(x, y, z, '-o')\n",
    "x, y, z = np.transpose(vtx2_list[idx2_list[idx_col]])\n",
    "print(GeometryItem.GLOBAL_GEO_LIST[idx1_list[idx_col]].name)\n",
    "print(GeometryItem.GLOBAL_GEO_LIST[idx2_list[idx_col]].name)\n",
    "sub.plot(x, y, z, '-o')\n",
    "# sub.view_init(0, 90)"
   ]
  },
  {
   "cell_type": "code",
   "execution_count": null,
   "metadata": {},
   "outputs": [],
   "source": [
    "# np.save(\"vtx_list\", vtx_list)\n",
    "# np.save(\"radius_list\", radius_list)\n",
    "# np.save(\"idx1_list\", idx1_list)\n",
    "# np.save(\"idx2_list\", idx2_list)"
   ]
  },
  {
   "cell_type": "code",
   "execution_count": null,
   "metadata": {},
   "outputs": [],
   "source": []
  },
  {
   "cell_type": "markdown",
   "metadata": {},
   "source": [
    "# test time"
   ]
  },
  {
   "cell_type": "code",
   "execution_count": null,
   "metadata": {
    "scrolled": true
   },
   "outputs": [],
   "source": [
    "gtimer.reset()\n",
    "found_vec = []\n",
    "for _ in range(10):\n",
    "    objectPose_dict_mv, corner_dict_mv, color_image, aruco_map_mv = \\\n",
    "        detect_objects(MOVABLE_GENERATORS, aruco_map, dictionary)\n",
    "    objectPose_dict_mv.update({'floor': objectPose_dict['floor']})\n",
    "    xyz_rvec_mv_dict, put_point_dict, up_point_dict = calc_put_point(\n",
    "        objectPose_dict_mv, MOVABLE_GENERATORS, OBJECT_DICT, (\"floor\", objectPose_dict[\"floor\"]))\n",
    "    update_geometries(MOVABLE_GENERATORS.keys(), objectPose_dict_mv)\n",
    "    graph.show_pose(ZERO_JOINT_POSE)\n",
    "    \n",
    "    dt_sim = 0.04\n",
    "    T_step = 10\n",
    "    N_fullstep = int(T_step / dt_sim)\n",
    "    initial_state = State(tuple([(oname, put_point_dict[oname],'floor') for oname in graph.object_list]), \n",
    "                          {oname: graph.object_dict[oname].object.get_offset_tf() for oname in graph.object_list}, \n",
    "                          (graph.get_real_robot_pose() if graph.connect_indy and graph.connect_panda \n",
    "                           else ZERO_JOINT_POSE))\n",
    "\n",
    "    goal_nodes = get_goal_nodes(initial_state, \"box1\", \"goal_bd\")\n",
    "    # goal_nodes = goal_nodes[3:4]\n",
    "\n",
    "    graph.search_graph_mp(\n",
    "        initial_state = initial_state, goal_nodes = goal_nodes, swept_volume_test_jmotion=True,\n",
    "        tree_margin = 2, depth_margin = 2, joint_motion_num=20, \n",
    "        terminate_on_first = True, N_search = 100, N_loop=1000,\n",
    "        display=False, dt_vis=dt_sim/40, verbose = True, print_expression=False, error_skip=0,\n",
    "        **dict(N=N_fullstep, dt=dt_sim, vel_conv=1e-2, err_conv=1e-3, N_step=N_fullstep))\n",
    "\n",
    "    schedule_dict = graph.find_schedules()\n",
    "    schedule_sorted = graph.sort_schedule(schedule_dict)\n",
    "    found_vec.append(len(schedule_sorted)>0)\n",
    "print(gtimer)"
   ]
  },
  {
   "cell_type": "code",
   "execution_count": null,
   "metadata": {},
   "outputs": [],
   "source": []
  },
  {
   "cell_type": "code",
   "execution_count": null,
   "metadata": {
    "scrolled": true
   },
   "outputs": [],
   "source": [
    "print(\"Success rate: {} %\".format(np.mean(found_vec)*100))\n",
    "print(gtimer)"
   ]
  },
  {
   "cell_type": "code",
   "execution_count": null,
   "metadata": {},
   "outputs": [],
   "source": [
    "# SVT CASE\n",
    "# Success rate: 100.0 %\n",
    "# show_pose: \t637.0 ms/30 = 21.22 ms (18.16/27.518)\n",
    "# search_graph_mp: \t99415.0 ms/30 = 3313.844 ms (1712.408/4521.561)\n",
    "# init_search: \t57.0 ms/30 = 1.908 ms (1.497/7.065)\n",
    "# score_graph: \t29.0 ms/240 = 0.122 ms (0.086/0.272)\n",
    "# reset_valid_node: \t14.0 ms/6030 = 0.002 ms (0.001/0.025)\n",
    "# check_goal: \t4.0 ms/6177 = 0.001 ms (0.0/0.021)\n",
    "# get_valid_neighbor: \t6.0 ms/540 = 0.011 ms (0.002/3.62)\n",
    "# add_node_queue_leafs: \t113.0 ms/30 = 3.767 ms (2.884/5.323)\n",
    "# find_schedules: \t28.0 ms/30 = 0.948 ms (0.604/1.509)\n",
    "# sort_schedule: \t0.0 ms/30 = 0.01 ms (0.007/0.022)"
   ]
  },
  {
   "cell_type": "code",
   "execution_count": null,
   "metadata": {},
   "outputs": [],
   "source": [
    "# NO SVT CASE\n",
    "# Success rate: 100.0 %\n",
    "# show_pose: \t609.0 ms/30 = 20.284 ms (17.837/26.163)\n",
    "# search_graph_mp: \t96204.0 ms/30 = 3206.813 ms (1566.82/4633.293)\n",
    "# init_search: \t53.0 ms/30 = 1.753 ms (1.495/2.953)\n",
    "# score_graph: \t28.0 ms/240 = 0.116 ms (0.088/0.312)\n",
    "# reset_valid_node: \t14.0 ms/6030 = 0.002 ms (0.001/0.022)\n",
    "# check_goal: \t4.0 ms/6174 = 0.001 ms (0.0/0.015)\n",
    "# get_valid_neighbor: \t2.0 ms/540 = 0.004 ms (0.002/0.026)\n",
    "# add_node_queue_leafs: \t109.0 ms/30 = 3.65 ms (2.816/4.925)\n",
    "# find_schedules: \t28.0 ms/30 = 0.941 ms (0.617/2.113)\n",
    "# sort_schedule: \t0.0 ms/30 = 0.01 ms (0.007/0.015)"
   ]
  },
  {
   "cell_type": "code",
   "execution_count": null,
   "metadata": {},
   "outputs": [],
   "source": []
  }
 ],
 "metadata": {
  "kernelspec": {
   "display_name": "Python 2",
   "language": "python",
   "name": "python2"
  },
  "language_info": {
   "codemirror_mode": {
    "name": "ipython",
    "version": 2
   },
   "file_extension": ".py",
   "mimetype": "text/x-python",
   "name": "python",
   "nbconvert_exporter": "python",
   "pygments_lexer": "ipython2",
   "version": "2.7.17"
  }
 },
 "nbformat": 4,
 "nbformat_minor": 2
}
