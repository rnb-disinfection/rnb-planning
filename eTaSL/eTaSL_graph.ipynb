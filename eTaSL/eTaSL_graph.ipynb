{
 "cells": [
  {
   "cell_type": "markdown",
   "metadata": {},
   "source": [
    "# Graph "
   ]
  },
  {
   "cell_type": "code",
   "execution_count": 1,
   "metadata": {},
   "outputs": [
    {
     "data": {
      "text/html": [
       "<style>.container { width:90% !important; } </style>"
      ],
      "text/plain": [
       "<IPython.core.display.HTML object>"
      ]
     },
     "metadata": {},
     "output_type": "display_data"
    }
   ],
   "source": [
    "from __future__ import print_function\n",
    "from IPython.core.display import display, HTML\n",
    "display(HTML(\"<style>.container { width:90% !important; } </style>\"))"
   ]
  },
  {
   "cell_type": "code",
   "execution_count": 2,
   "metadata": {},
   "outputs": [],
   "source": [
    "from pkg.robots_custom import *\n",
    "xcustom = XacroCustomizer()"
   ]
  },
  {
   "cell_type": "code",
   "execution_count": 3,
   "metadata": {},
   "outputs": [],
   "source": [
    "from enum import Enum\n",
    "class Scenario(Enum):\n",
    "    single_object_single_robot = 0\n",
    "    double_object_single_robot = 1\n",
    "    single_object_dual_robot = 2\n",
    "    assembly_3_piece = 3\n",
    "    custom_robots = 4"
   ]
  },
  {
   "cell_type": "code",
   "execution_count": 4,
   "metadata": {},
   "outputs": [],
   "source": [
    "current_scenario = Scenario.custom_robots"
   ]
  },
  {
   "cell_type": "code",
   "execution_count": 5,
   "metadata": {
    "scrolled": true
   },
   "outputs": [
    {
     "name": "stderr",
     "output_type": "stream",
     "text": [
      "Unknown tag \"hardwareInterface\" in /robot[@name='custom_robots']/transmission[@name='indy0_tran0']/actuator[@name='indy0_motor0']\n",
      "Unknown tag \"hardwareInterface\" in /robot[@name='custom_robots']/transmission[@name='indy0_tran1']/actuator[@name='indy0_motor1']\n",
      "Unknown tag \"hardwareInterface\" in /robot[@name='custom_robots']/transmission[@name='indy0_tran2']/actuator[@name='indy0_motor2']\n",
      "Unknown tag \"hardwareInterface\" in /robot[@name='custom_robots']/transmission[@name='indy0_tran3']/actuator[@name='indy0_motor3']\n",
      "Unknown tag \"hardwareInterface\" in /robot[@name='custom_robots']/transmission[@name='indy0_tran4']/actuator[@name='indy0_motor4']\n",
      "Unknown tag \"hardwareInterface\" in /robot[@name='custom_robots']/transmission[@name='indy0_tran5']/actuator[@name='indy0_motor5']\n"
     ]
    }
   ],
   "source": [
    "urdf_content = None\n",
    "if current_scenario in [Scenario.single_object_dual_robot, Scenario.assembly_3_piece]:\n",
    "    from pkg.ur10_dual import URDF_PATH, JOINT_NAMES, LINK_NAMES, ZERO_JOINT_POSE, get_collision_items_dict\n",
    "elif current_scenario in [Scenario.single_object_single_robot, Scenario.double_object_single_robot]:\n",
    "    from pkg.ur10 import URDF_PATH, JOINT_NAMES, LINK_NAMES, ZERO_JOINT_POSE, get_collision_items_dict\n",
    "else:\n",
    "    xcustom.clear()\n",
    "    xcustom.add_robot(RobotType.indy7_robot, xyz=[0,-0.5,0], rpy= [0,0,0])\n",
    "    xcustom.add_robot(RobotType.panda_robot, xyz=[0,0.5,0], rpy= [0,0,0])\n",
    "    xcustom.write_xacro()\n",
    "    JOINT_NAMES, LINK_NAMES, ZERO_JOINT_POSE, urdf_content = \\\n",
    "            xcustom.convert_xacro_to_urdf(joint_fix_dict={'finger':'upper'})\n",
    "    ZERO_JOINT_POSE=np.array([0,0,-np.pi/2,0,-np.pi/2,0,\n",
    "                              0,-np.pi/8,0,-np.pi/2,0,np.pi/2,0])\n",
    "    xcustom.start_rviz()\n",
    "    \n",
    "from pkg.constraint_graph import *\n",
    "import matplotlib.pyplot as plt\n",
    "from pkg.plot_utils import *\n",
    "from pkg.utils import *\n",
    "# from threading import Thread, Lock\n",
    "from multiprocessing import Process, Lock, Manager\n",
    "PROC_MODE = True\n",
    "rospy.init_node('task_planner', anonymous=True)"
   ]
  },
  {
   "cell_type": "code",
   "execution_count": 6,
   "metadata": {},
   "outputs": [],
   "source": [
    "refine_meshes()"
   ]
  },
  {
   "cell_type": "code",
   "execution_count": 7,
   "metadata": {},
   "outputs": [
    {
     "name": "stdout",
     "output_type": "stream",
     "text": [
      "[INFO] [1597654517.324888, 414207.137000]: GripperInterface: Waiting for gripper action servers... \n",
      "[INFO] [1597654517.561082, 414207.365000]: GripperInterface: Gripper action servers found! \n"
     ]
    }
   ],
   "source": [
    "graph = ConstraintGraph(urdf_path=URDF_PATH, joint_names=JOINT_NAMES, link_names=LINK_NAMES, urdf_content=urdf_content)\n",
    "# graph.set_collision_items(collision_items_dict)\n",
    "# graph.set_collision_items({link:[] for link in LINK_NAMES})\n",
    "\n",
    "col_items_dict = get_collision_items_dict(graph.urdf_content, color=(0,1,0,0.5), display=True, collision=True, \n",
    "                                          exclude_link=[\"panda1_link7\"])\n",
    "graph.set_collision_items(col_items_dict)"
   ]
  },
  {
   "cell_type": "code",
   "execution_count": 8,
   "metadata": {
    "scrolled": true
   },
   "outputs": [
    {
     "name": "stdout",
     "output_type": "stream",
     "text": [
      "Please create a subscriber to the marker\n",
      "publication OK\n",
      "published: [0, 0, 0, 0, 0, 0, 0, 0, 0, 0, 0, 0, 0]\n",
      "Please create a subscriber to the marker\n"
     ]
    }
   ],
   "source": [
    "graph.set_simulation(nWSR=50, regularization_factor= 1e-1)\n",
    "graph.show_pose(ZERO_JOINT_POSE, execute=True)"
   ]
  },
  {
   "cell_type": "code",
   "execution_count": 9,
   "metadata": {
    "scrolled": false
   },
   "outputs": [],
   "source": [
    "# from pkg.graph_visualize import VisualGraph\n",
    "# g = VisualGraph()\n",
    "\n",
    "# # for node, neighbor in graph.node_dict.items(): # for visualizing all\n",
    "# #     g.add_node(node,neighbor) # for visualizing all\n",
    "\n",
    "# for node, neighbor in graph.valid_node_dict.items():\n",
    "#     g.add_node(node,neighbor) # for visualizing all\n",
    "# g.draw().render()\n",
    "# g.draw(True)"
   ]
  },
  {
   "cell_type": "code",
   "execution_count": null,
   "metadata": {},
   "outputs": [],
   "source": []
  },
  {
   "cell_type": "markdown",
   "metadata": {},
   "source": [
    "# Custom Robots"
   ]
  },
  {
   "cell_type": "code",
   "execution_count": 10,
   "metadata": {},
   "outputs": [],
   "source": [
    "if current_scenario == Scenario.custom_robots:\n",
    "    collision=True\n",
    "    graph.add_collision_items(\"world\", \n",
    "                              [\n",
    "                               GeoMesh(uri=\"package://my_mesh/meshes/stl/AirPick_cup_ctd.stl\", BLH=(0.01,0.01,0.01), scale=(1e-3,1e-3,1e-3), name=\"gripper1\", link_name=\"indy0_tcp\", urdf_content=graph.urdf_content, color=(0.1,0.1,0.1,1), collision=False),\n",
    "                               GeoBox((0.5,-0.2,0.050), (0.05,0.05,0.05), name=\"box1\", link_name=\"world\", urdf_content=graph.urdf_content, color=(0.3,0.3,0.8,1), collision=collision),\n",
    "                               GeoBox((0,0,-0.005), (3,3,0.01), name=\"floor\", link_name=\"world\", urdf_content=graph.urdf_content, color=(0.6,0.6,0.6,1), collision=collision),\n",
    "                               GeoBox((0.7,0.0,0.2), (0.7,0.05,0.4), name=\"wall\", link_name=\"world\", urdf_content=graph.urdf_content, color=(0.4,0.3,0.0,1), collision=collision),\n",
    "                               GeoBox((0.4,0.4,0.15), (0.15,0.15,0.3), name=\"stepper\", link_name=\"world\", urdf_content=graph.urdf_content, color=(0.4,0.3,0.0,1), collision=collision),\n",
    "                               GeoBox((0.4,0.4,0.3), (0.1,0.1,1e-3), name=\"goal_disp\", link_name=\"world\", urdf_content=graph.urdf_content, color=(0.8,0.0,0.0,1), collision=False)])\n",
    "    \n",
    "    graph.register_binder(name='grip1', _type=VacuumTool, point=[0,-2.5e-2,11e-2], link_name=\"panda1_hand\", direction=[0,1,0])\n",
    "    graph.register_binder(name='vac2', _type=VacuumTool, point=[0,0,5e-2], link_name=\"indy0_tcp\", direction=[0,0,1])\n",
    "    graph.register_binder(name='floor', _type=PlacePlane, direction=[0,0,1])\n",
    "    graph.register_binder(name='goal', _type=PlaceFrame, point=(0.4,0.4,0.3+5e-4), link_name=\"world\", orientation=[0,0,0])\n",
    "\n",
    "    graph.register_object('box1', _type=BoxAction, binding=(\"bottom_p\",\"floor\"), hexahedral=True)\n",
    "\n",
    "    graph.update_handles()"
   ]
  },
  {
   "cell_type": "code",
   "execution_count": null,
   "metadata": {},
   "outputs": [],
   "source": []
  },
  {
   "cell_type": "markdown",
   "metadata": {},
   "source": [
    "# Set RVIZ"
   ]
  },
  {
   "cell_type": "code",
   "execution_count": 11,
   "metadata": {
    "scrolled": true
   },
   "outputs": [
    {
     "name": "stdout",
     "output_type": "stream",
     "text": [
      "publication OK\n",
      "published: [0, 0, 0, 0, 0, 0, 0, 0, 0, 0, 0, 0, 0]\n"
     ]
    }
   ],
   "source": [
    "graph.set_simulation(nWSR=50, regularization_factor= 1e-1)"
   ]
  },
  {
   "cell_type": "code",
   "execution_count": 12,
   "metadata": {},
   "outputs": [],
   "source": [
    "graph.show_pose(ZERO_JOINT_POSE, execute=True)"
   ]
  },
  {
   "cell_type": "code",
   "execution_count": 13,
   "metadata": {},
   "outputs": [],
   "source": [
    "# joint_num = graph.joint_num\n",
    "# N = 300\n",
    "# dt = 1e-2\n",
    "\n",
    "# from_state = State((('box1','bottom_p','floor'),), {'box1': [0.5,-0.3,0.05,0,0,0,1]}, ZERO_JOINT_POSE)\n",
    "# to_state = State((('box1', 'top_p', 'vac2'), ),None, None)\n",
    "\n",
    "\n",
    "# e, end_state, succ = graph.simulate_transition(from_state, to_state, display=True, N=N, dt=dt, vel_conv=1e-2, err_conv=1e-3)\n",
    "# print(succ)\n",
    "\n",
    "# # e.displayContext()\n",
    "\n",
    "# end_state_bak = end_state.copy()\n",
    "\n",
    "# from_state = end_state_bak.copy()\n",
    "# # from_state.Q = error_pos_list[-7]\n",
    "# # from_state.Q = [ 0.70884048, -0.57695371, -1.63360349,  0.13754708, -0.48114245,  0.15000046,\n",
    "# #   0.13899708, -0.10050983, -0.18593015, -1.66651131, -0.3915,      1.6027194,\n",
    "# #  -0.3915    ]\n",
    "# to_state = end_state.copy()\n",
    "# to_state.node = (('box1', 'left_p', 'grip1'),)\n",
    "\n",
    "\n",
    "# e, end_state, succ = graph.simulate_transition(from_state, to_state, display=True, N=N, dt=dt, vel_conv=1e-2, err_conv=1e-3)\n",
    "\n",
    "# # e.displayContext()"
   ]
  },
  {
   "cell_type": "code",
   "execution_count": null,
   "metadata": {},
   "outputs": [],
   "source": []
  },
  {
   "cell_type": "markdown",
   "metadata": {},
   "source": [
    "# build"
   ]
  },
  {
   "cell_type": "code",
   "execution_count": 14,
   "metadata": {},
   "outputs": [],
   "source": [
    "graph.build_graph()"
   ]
  },
  {
   "cell_type": "code",
   "execution_count": null,
   "metadata": {},
   "outputs": [],
   "source": []
  },
  {
   "cell_type": "markdown",
   "metadata": {},
   "source": [
    "# Search Graph (Custom Robots)"
   ]
  },
  {
   "cell_type": "code",
   "execution_count": 15,
   "metadata": {
    "scrolled": true
   },
   "outputs": [
    {
     "name": "stdout",
     "output_type": "stream",
     "text": [
      "start set transition: \t165.0 ms/1 = 165.186 ms \n",
      "set_simulate fun: \t4322.0 ms/1 = 4322.366 ms \n",
      "post: \t28.0 ms/1 = 27.922 ms \n",
      "\n",
      "\n",
      "1. success - Goal cost:2->1 / Init cost:0->1 / branching: 0->1 / edepth: 2/2 / 4.71 s (11)\n",
      "node: (('box1', 'bottom_p', 'floor'),)->(('box1', 'top_p', 'vac2'),):(('box1', 'top_p', 'vac2'),)\n",
      "======================================================================================================================================================\n",
      "start set transition: \t184.0 ms/1 = 184.153 ms \n",
      "set_simulate fun: \t7242.0 ms/1 = 7242.476 ms \n",
      "post: \t0.0 ms/1 = 0.094 ms \n",
      "\n",
      "\n",
      "2. fail - Goal cost:2->1 / Init cost:0->1 / branching: 0-> / edepth: 2/2 / 7.78 s (0)\n",
      "node: (('box1', 'bottom_p', 'floor'),)->(('box1', 'top_p', 'grip1'),):\n",
      "======================================================================================================================================================\n",
      "start set transition: \t168.0 ms/1 = 167.74 ms \n",
      "set_simulate fun: \t7999.0 ms/1 = 7999.002 ms \n",
      "post: \t0.0 ms/1 = 0.101 ms \n",
      "\n",
      "\n",
      "4. fail - Goal cost:2->1 / Init cost:0->1 / branching: 0-> / edepth: 2/2 / 8.87 s (2)\n",
      "node: (('box1', 'bottom_p', 'floor'),)->(('box1', 'back_p', 'grip1'),):\n",
      "======================================================================================================================================================\n",
      "start set transition: \t290.0 ms/1 = 290.323 ms \n",
      "set_simulate fun: \t7362.0 ms/1 = 7361.824 ms \n",
      "post: \t0.0 ms/1 = 0.068 ms \n",
      "\n",
      "\n",
      "8. fail - Goal cost:2->1 / Init cost:0->1 / branching: 0-> / edepth: 2/2 / 9.37 s (6)\n",
      "node: (('box1', 'bottom_p', 'floor'),)->(('box1', 'back_p', 'vac2'),):\n",
      "======================================================================================================================================================\n",
      "start set transition: \t319.0 ms/1 = 319.424 ms \n",
      "set_simulate fun: \t8513.0 ms/1 = 8513.155 ms \n",
      "post: \t0.0 ms/1 = 0.098 ms \n",
      "\n",
      "\n",
      "6. fail - Goal cost:2->1 / Init cost:0->1 / branching: 0-> / edepth: 2/2 / 9.98 s (4)\n",
      "node: (('box1', 'bottom_p', 'floor'),)->(('box1', 'left_p', 'grip1'),):\n",
      "======================================================================================================================================================\n",
      "start set transition: \t196.0 ms/1 = 195.704 ms \n",
      "set_simulate fun: \t9319.0 ms/1 = 9318.535 ms \n",
      "post: \t60.0 ms/1 = 59.73 ms \n",
      "\n",
      "\n",
      "3. fail - Goal cost:2->1 / Init cost:0->1 / branching: 0-> / edepth: 2/2 / 10.09 s (1)\n",
      "node: (('box1', 'bottom_p', 'floor'),)->(('box1', 'right_p', 'grip1'),):\n",
      "======================================================================================================================================================\n",
      "start set transition: \t259.0 ms/1 = 259.099 ms \n",
      "set_simulate fun: \t8950.0 ms/1 = 8949.825 ms \n",
      "post: \t112.0 ms/1 = 111.972 ms \n",
      "\n",
      "\n",
      "5. fail - Goal cost:2->1 / Init cost:0->1 / branching: 0-> / edepth: 2/2 / 10.2 s (3)\n",
      "node: (('box1', 'bottom_p', 'floor'),)->(('box1', 'front_p', 'vac2'),):\n",
      "======================================================================================================================================================\n",
      "start set transition: \t266.0 ms/1 = 265.581 ms \n",
      "set_simulate fun: \t8538.0 ms/1 = 8538.16 ms \n",
      "post: \t6.0 ms/1 = 5.667 ms \n",
      "\n",
      "\n",
      "7. fail - Goal cost:2->1 / Init cost:0->1 / branching: 0-> / edepth: 2/2 / 10.25 s (5)\n",
      "node: (('box1', 'bottom_p', 'floor'),)->(('box1', 'right_p', 'vac2'),):\n",
      "======================================================================================================================================================\n",
      "start set transition: \t595.0 ms/1 = 594.904 ms \n",
      "set_simulate fun: \t8355.0 ms/1 = 8355.364 ms \n",
      "post: \t0.0 ms/1 = 0.091 ms \n",
      "\n",
      "\n",
      "9. fail - Goal cost:2->1 / Init cost:0->1 / branching: 0-> / edepth: 2/2 / 10.95 s (7)\n",
      "node: (('box1', 'bottom_p', 'floor'),)->(('box1', 'front_p', 'grip1'),):\n",
      "======================================================================================================================================================\n",
      "start set transition: \t397.0 ms/1 = 397.172 ms \n",
      "set_simulate fun: \t8012.0 ms/1 = 8011.723 ms \n",
      "post: \t0.0 ms/1 = 0.109 ms \n",
      "\n",
      "\n",
      "10. fail - Goal cost:2->1 / Init cost:0->1 / branching: 0-> / edepth: 2/2 / 10.97 s (9)\n",
      "node: (('box1', 'bottom_p', 'floor'),)->(('box1', 'left_p', 'vac2'),):\n",
      "======================================================================================================================================================\n",
      "start set transition: \t289.0 ms/1 = 288.824 ms \n",
      "set_simulate fun: \t7155.0 ms/1 = 7154.806 ms \n",
      "post: \t0.0 ms/1 = 0.089 ms \n",
      "\n",
      "\n",
      "11. fail - Goal cost:1->0 / Init cost:1->2 / branching: 1-> / edepth: 2/2 / 12.41 s (8)\n",
      "node: (('box1', 'top_p', 'vac2'),)->(('box1', 'front_f', 'goal'),):\n",
      "======================================================================================================================================================\n",
      "register depth_buffer = 3.0\n",
      "current depth = 3.0\n",
      "depth 3 full registered\n",
      "simulation exception: optimization failed during execution\n",
      "\n",
      "12. fail - Goal cost:1->1 / Init cost:1->1 / branching: 1-> / edepth: 3/3 / 16.34 s (9)\n",
      "node: (('box1', 'top_p', 'vac2'),)->(('box1', 'right_p', 'grip1'),):\n",
      "======================================================================================================================================================\n",
      "start set transition: \t357.0 ms/2 = 178.417 ms \n",
      "set_simulate fun: \t13957.0 ms/2 = 6978.706 ms \n",
      "post: \t0.0 ms/2 = 0.085 ms \n",
      "\n",
      "\n",
      "13. fail - Goal cost:1->1 / Init cost:1->1 / branching: 1-> / edepth: 3/3 / 19.59 s (0)\n",
      "node: (('box1', 'top_p', 'vac2'),)->(('box1', 'top_p', 'vac2'),):\n",
      "======================================================================================================================================================\n",
      "start set transition: \t505.0 ms/2 = 252.662 ms \n",
      "set_simulate fun: \t13492.0 ms/2 = 6745.863 ms \n",
      "post: \t453.0 ms/2 = 226.729 ms \n",
      "\n",
      "\n",
      "16. fail - Goal cost:1->1 / Init cost:1->1 / branching: 1-> / edepth: 3/3 / 20.26 s (8)\n",
      "node: (('box1', 'top_p', 'vac2'),)->(('box1', 'top_p', 'vac2'),):\n",
      "======================================================================================================================================================\n",
      "start set transition: \t208.0 ms/1 = 207.693 ms \n",
      "set_simulate fun: \t7826.0 ms/1 = 7826.325 ms \n",
      "post: \t0.0 ms/1 = 0.09 ms \n",
      "\n",
      "\n",
      "15. fail - Goal cost:1->1 / Init cost:1->1 / branching: 1-> / edepth: 3/3 / 21.06 s (10)\n",
      "node: (('box1', 'top_p', 'vac2'),)->(('box1', 'top_p', 'vac2'),):\n",
      "======================================================================================================================================================\n",
      "start set transition: \t436.0 ms/2 = 218.018 ms \n",
      "set_simulate fun: \t16653.0 ms/2 = 8326.427 ms \n",
      "post: \t44.0 ms/2 = 21.762 ms \n",
      "\n",
      "\n",
      "14. fail - Goal cost:1->1 / Init cost:1->1 / branching: 1-> / edepth: 3/3 / 21.21 s (5)\n",
      "node: (('box1', 'top_p', 'vac2'),)->(('box1', 'top_p', 'vac2'),):\n",
      "======================================================================================================================================================\n",
      "start set transition: \t698.0 ms/2 = 349.053 ms \n",
      "set_simulate fun: \t16963.0 ms/2 = 8481.484 ms \n",
      "post: \t112.0 ms/2 = 56.042 ms \n",
      "\n",
      "\n",
      "17. fail - Goal cost:1->1 / Init cost:1->1 / branching: 1-> / edepth: 3/3 / 21.92 s (3)\n",
      "node: (('box1', 'top_p', 'vac2'),)->(('box1', 'top_p', 'vac2'),):\n",
      "======================================================================================================================================================\n",
      "start set transition: \t1031.0 ms/2 = 515.429 ms \n",
      "set_simulate fun: \t15559.0 ms/2 = 7779.261 ms \n",
      "post: \t0.0 ms/2 = 0.085 ms \n",
      "\n",
      "\n",
      "21. success - Goal cost:1->1 / Init cost:1->1 / branching: 1->2 / edepth: 3/3 / 22.65 s (7)\n",
      "node: (('box1', 'top_p', 'vac2'),)->(('box1', 'top_p', 'vac2'),):(('box1', 'top_p', 'vac2'),)\n",
      "======================================================================================================================================================\n",
      "start set transition: \t636.0 ms/2 = 318.1 ms \n",
      "set_simulate fun: \t17056.0 ms/2 = 8527.911 ms \n",
      "post: \t3.0 ms/2 = 1.261 ms \n",
      "\n",
      "\n",
      "18. fail - Goal cost:1->1 / Init cost:1->1 / branching: 1-> / edepth: 3/3 / 22.77 s (4)\n",
      "node: (('box1', 'top_p', 'vac2'),)->(('box1', 'top_p', 'vac2'),):\n",
      "======================================================================================================================================================\n"
     ]
    },
    {
     "name": "stdout",
     "output_type": "stream",
     "text": [
      "start set transition: \t713.0 ms/2 = 356.326 ms \n",
      "set_simulate fun: \t15844.0 ms/2 = 7922.102 ms \n",
      "post: \t829.0 ms/2 = 414.407 ms \n",
      "\n",
      "\n",
      "23. success - Goal cost:1->1 / Init cost:1->1 / branching: 1->3 / edepth: 3/3 / 23.76 s (1)\n",
      "node: (('box1', 'top_p', 'vac2'),)->(('box1', 'back_p', 'grip1'),):(('box1', 'back_p', 'grip1'),)\n",
      "======================================================================================================================================================\n",
      "start set transition: \t770.0 ms/3 = 256.784 ms \n",
      "set_simulate fun: \t14470.0 ms/2 = 7234.874 ms \n",
      "post: \t806.0 ms/2 = 402.872 ms \n",
      "\n",
      "\n",
      "24. success - Goal cost:1->1 / Init cost:1->1 / branching: 1->4 / edepth: 3/3 / 23.89 s (9)\n",
      "node: (('box1', 'top_p', 'vac2'),)->(('box1', 'left_p', 'grip1'),):(('box1', 'left_p', 'grip1'),)\n",
      "======================================================================================================================================================\n",
      "start set transition: \t631.0 ms/2 = 315.633 ms \n",
      "set_simulate fun: \t13550.0 ms/2 = 6774.772 ms \n",
      "post: \t904.0 ms/2 = 452.129 ms \n",
      "\n",
      "\n",
      "20. fail - Goal cost:1->1 / Init cost:1->1 / branching: 1-> / edepth: 3/3 / 25.11 s (11)\n",
      "node: (('box1', 'top_p', 'vac2'),)->(('box1', 'top_p', 'vac2'),):\n",
      "======================================================================================================================================================\n",
      "start set transition: \t600.0 ms/2 = 299.766 ms \n",
      "set_simulate fun: \t16404.0 ms/2 = 8201.998 ms \n",
      "post: \t975.0 ms/2 = 487.301 ms \n",
      "\n",
      "\n",
      "22. fail - Goal cost:1->1 / Init cost:1->1 / branching: 1-> / edepth: 3/3 / 25.3 s (2)\n",
      "node: (('box1', 'top_p', 'vac2'),)->(('box1', 'top_p', 'vac2'),):\n",
      "======================================================================================================================================================\n",
      "start set transition: \t612.0 ms/2 = 306.0 ms \n",
      "set_simulate fun: \t16851.0 ms/2 = 8425.516 ms \n",
      "post: \t1402.0 ms/2 = 700.786 ms \n",
      "\n",
      "\n",
      "19. fail - Goal cost:1->1 / Init cost:1->1 / branching: 1-> / edepth: 3/3 / 25.43 s (6)\n",
      "node: (('box1', 'top_p', 'vac2'),)->(('box1', 'top_p', 'vac2'),):\n",
      "======================================================================================================================================================\n",
      "start set transition: \t866.0 ms/3 = 288.533 ms \n",
      "set_simulate fun: \t21712.0 ms/3 = 7237.223 ms \n",
      "post: \t32.0 ms/3 = 10.717 ms \n",
      "\n",
      "\n",
      "25. success - Goal cost:1->1 / Init cost:1->1 / branching: 1->5 / edepth: 3/3 / 28.06 s (0)\n",
      "node: (('box1', 'top_p', 'vac2'),)->(('box1', 'front_p', 'grip1'),):(('box1', 'front_p', 'grip1'),)\n",
      "======================================================================================================================================================\n",
      "start set transition: \t1107.0 ms/3 = 369.032 ms \n",
      "set_simulate fun: \t23609.0 ms/3 = 7869.549 ms \n",
      "post: \t112.0 ms/3 = 37.402 ms \n",
      "\n",
      "\n",
      "29. fail - Goal cost:2->2 / Init cost:0->0 / branching: 0-> / edepth: 3/3 / 29.13 s (3)\n",
      "node: (('box1', 'bottom_p', 'floor'),)->(('box1', 'bottom_p', 'floor'),):\n",
      "======================================================================================================================================================\n",
      "start set transition: \t711.0 ms/3 = 236.861 ms \n",
      "set_simulate fun: \t23867.0 ms/3 = 7955.512 ms \n",
      "post: \t203.0 ms/3 = 67.579 ms \n",
      "\n",
      "\n",
      "28. success - Goal cost:2->2 / Init cost:0->0 / branching: 0->6 / edepth: 3/3 / 29.24 s (5)\n",
      "node: (('box1', 'bottom_p', 'floor'),)->(('box1', 'bottom_p', 'floor'),):(('box1', 'bottom_p', 'floor'),)\n",
      "======================================================================================================================================================\n",
      "start set transition: \t1400.0 ms/3 = 466.614 ms \n",
      "set_simulate fun: \t21581.0 ms/3 = 7193.711 ms \n",
      "post: \t535.0 ms/3 = 178.343 ms \n",
      "\n",
      "\n",
      "30. success - Goal cost:2->2 / Init cost:0->0 / branching: 0->7 / edepth: 3/3 / 29.85 s (7)\n",
      "node: (('box1', 'bottom_p', 'floor'),)->(('box1', 'bottom_p', 'floor'),):(('box1', 'bottom_p', 'floor'),)\n",
      "======================================================================================================================================================\n",
      "start set transition: \t483.0 ms/2 = 241.288 ms \n",
      "set_simulate fun: \t16239.0 ms/2 = 8119.531 ms \n",
      "post: \t1086.0 ms/2 = 543.199 ms \n",
      "\n",
      "\n",
      "27. fail - Goal cost:2->2 / Init cost:0->0 / branching: 0-> / edepth: 3/3 / 31.08 s (10)\n",
      "node: (('box1', 'bottom_p', 'floor'),)->(('box1', 'bottom_p', 'floor'),):\n",
      "======================================================================================================================================================\n",
      "start set transition: \t955.0 ms/3 = 318.371 ms \n",
      "set_simulate fun: \t22737.0 ms/3 = 7579.14 ms \n",
      "post: \t1573.0 ms/3 = 524.342 ms \n",
      "\n",
      "\n",
      "26. fail - Goal cost:1->1 / Init cost:1->2 / branching: 1-> / edepth: 3/3 / 31.21 s (8)\n",
      "node: (('box1', 'top_p', 'vac2'),)->(('box1', 'bottom_p', 'grip1'),):\n",
      "======================================================================================================================================================\n",
      "start set transition: \t1231.0 ms/3 = 410.297 ms \n",
      "set_simulate fun: \t21626.0 ms/3 = 7208.649 ms \n",
      "post: \t1265.0 ms/3 = 421.729 ms \n",
      "\n",
      "\n",
      "32. fail - Goal cost:2->2 / Init cost:0->0 / branching: 0-> / edepth: 3/3 / 31.37 s (1)\n",
      "node: (('box1', 'bottom_p', 'floor'),)->(('box1', 'bottom_p', 'floor'),):\n",
      "======================================================================================================================================================\n",
      "start set transition: \t1015.0 ms/3 = 338.237 ms \n",
      "set_simulate fun: \t26453.0 ms/3 = 8817.746 ms \n",
      "post: \t3.0 ms/3 = 0.87 ms \n",
      "\n",
      "\n",
      "31. fail - Goal cost:2->2 / Init cost:0->0 / branching: 0-> / edepth: 3/3 / 33.06 s (4)\n",
      "node: (('box1', 'bottom_p', 'floor'),)->(('box1', 'bottom_p', 'floor'),):\n",
      "======================================================================================================================================================\n",
      "start set transition: \t1113.0 ms/3 = 370.965 ms \n",
      "set_simulate fun: \t20753.0 ms/3 = 6917.561 ms \n",
      "post: \t1480.0 ms/3 = 493.364 ms \n",
      "\n",
      "\n",
      "34. success - Goal cost:1->0 / Init cost:1->2 / branching: 4->8 / edepth: 3/3 / 33.82 s (11)\n",
      "node: (('box1', 'left_p', 'grip1'),)->(('box1', 'front_f', 'goal'),):(('box1', 'front_f', 'goal'),)\n",
      "======================================================================================================================================================\n",
      "stop now!\n",
      "start set transition: \t1333.0 ms/4 = 333.254 ms \n",
      "set_simulate fun: \t23726.0 ms/3 = 7908.731 ms \n",
      "post: \t952.0 ms/3 = 317.427 ms \n",
      "\n",
      "\n",
      "33. fail - Goal cost:2->2 / Init cost:0->0 / branching: 0-> / edepth: 3/3 / 34.0 s (9)\n",
      "node: (('box1', 'bottom_p', 'floor'),)->(('box1', 'bottom_p', 'floor'),):\n",
      "======================================================================================================================================================\n",
      "start set transition: \t1425.0 ms/4 = 356.356 ms \n",
      "set_simulate fun: \t28839.0 ms/4 = 7209.628 ms \n",
      "post: \t32.0 ms/4 = 8.059 ms \n",
      "\n",
      "\n",
      "37. fail - Goal cost:2->2 / Init cost:0->0 / branching: 0-> / edepth: 3/3 / 35.93 s (0)\n",
      "node: (('box1', 'bottom_p', 'floor'),)->(('box1', 'bottom_p', 'floor'),):\n",
      "======================================================================================================================================================\n",
      "start set transition: \t1119.0 ms/4 = 279.859 ms \n",
      "set_simulate fun: \t30709.0 ms/4 = 7677.368 ms \n",
      "post: \t203.0 ms/4 = 50.708 ms \n",
      "\n",
      "\n",
      "39. fail - Goal cost:2->2 / Init cost:0->0 / branching: 0-> / edepth: 3/3 / 36.67 s (5)\n",
      "node: (('box1', 'bottom_p', 'floor'),)->(('box1', 'bottom_p', 'floor'),):\n",
      "======================================================================================================================================================\n",
      "start set transition: \t1185.0 ms/3 = 395.129 ms \n",
      "set_simulate fun: \t27143.0 ms/3 = 9047.746 ms \n",
      "post: \t975.0 ms/3 = 324.9 ms \n",
      "\n",
      "\n",
      "35. fail - Goal cost:1->0 / Init cost:1->2 / branching: 3-> / edepth: 3/3 / 37.33 s (2)\n",
      "node: (('box1', 'back_p', 'grip1'),)->(('box1', 'front_f', 'goal'),):\n",
      "======================================================================================================================================================\n",
      "start set transition: \t1174.0 ms/3 = 391.243 ms \n",
      "set_simulate fun: \t27588.0 ms/3 = 9195.928 ms \n",
      "post: \t1402.0 ms/3 = 467.247 ms \n"
     ]
    },
    {
     "name": "stdout",
     "output_type": "stream",
     "text": [
      "\n",
      "\n",
      "36. fail - Goal cost:1->0 / Init cost:1->2 / branching: 2-> / edepth: 3/3 / 37.89 s (6)\n",
      "node: (('box1', 'top_p', 'vac2'),)->(('box1', 'front_f', 'goal'),):\n",
      "======================================================================================================================================================\n",
      "start set transition: \t1983.0 ms/4 = 495.772 ms \n",
      "set_simulate fun: \t28613.0 ms/4 = 7153.179 ms \n",
      "post: \t535.0 ms/4 = 133.779 ms \n",
      "\n",
      "\n",
      "40. fail - Goal cost:2->2 / Init cost:0->0 / branching: 0-> / edepth: 3/3 / 38.12 s (7)\n",
      "node: (('box1', 'bottom_p', 'floor'),)->(('box1', 'bottom_p', 'floor'),):\n",
      "======================================================================================================================================================\n",
      "start set transition: \t1622.0 ms/4 = 405.456 ms \n",
      "set_simulate fun: \t32409.0 ms/4 = 8102.32 ms \n",
      "post: \t112.0 ms/4 = 28.071 ms \n",
      "\n",
      "\n",
      "38. fail - Goal cost:1->0 / Init cost:1->2 / branching: 5-> / edepth: 3/3 / 39.32 s (3)\n",
      "node: (('box1', 'front_p', 'grip1'),)->(('box1', 'front_f', 'goal'),):\n",
      "======================================================================================================================================================\n",
      "start set transition: \t1381.0 ms/4 = 345.27 ms \n",
      "set_simulate fun: \t29710.0 ms/4 = 7427.457 ms \n",
      "post: \t1580.0 ms/4 = 395.053 ms \n",
      "\n",
      "\n",
      "42. fail - Goal cost:2->1 / Init cost:0->1 / branching: 7-> / edepth: 3/3 / 39.41 s (8)\n",
      "node: (('box1', 'bottom_p', 'floor'),)->(('box1', 'back_p', 'vac2'),):\n",
      "======================================================================================================================================================\n",
      "start set transition: \t1502.0 ms/4 = 375.566 ms \n",
      "set_simulate fun: \t28407.0 ms/4 = 7101.788 ms \n",
      "post: \t1265.0 ms/4 = 316.317 ms \n",
      "\n",
      "\n",
      "43. fail - Goal cost:2->1 / Init cost:0->1 / branching: 7-> / edepth: 3/3 / 39.47 s (1)\n",
      "node: (('box1', 'bottom_p', 'floor'),)->(('box1', 'right_p', 'vac2'),):\n",
      "======================================================================================================================================================\n",
      "start set transition: \t987.0 ms/3 = 328.871 ms \n",
      "set_simulate fun: \t23727.0 ms/3 = 7909.073 ms \n",
      "post: \t1108.0 ms/3 = 369.378 ms \n",
      "\n",
      "\n",
      "41. fail - Goal cost:2->1 / Init cost:0->1 / branching: 6-> / edepth: 3/3 / 39.5 s (10)\n",
      "node: (('box1', 'bottom_p', 'floor'),)->(('box1', 'top_p', 'grip1'),):\n",
      "======================================================================================================================================================\n",
      "start set transition: \t1628.0 ms/4 = 407.015 ms \n",
      "set_simulate fun: \t32688.0 ms/4 = 8171.964 ms \n",
      "post: \t3.0 ms/4 = 0.669 ms \n",
      "\n",
      "\n",
      "44. fail - Goal cost:2->1 / Init cost:0->1 / branching: 7-> / edepth: 3/3 / 40.02 s (4)\n",
      "node: (('box1', 'bottom_p', 'floor'),)->(('box1', 'top_p', 'grip1'),):\n",
      "======================================================================================================================================================\n"
     ]
    }
   ],
   "source": [
    "if current_scenario == Scenario.custom_robots:\n",
    "    graph.search_graph_ordered_mp(\n",
    "        initial_state = State((('box1','bottom_p','floor'),),\n",
    "                              {'box1': [0.5,-0.3,0.05,0,0,0,1]}, ZERO_JOINT_POSE),\n",
    "        goal_state = State((('box1','front_f','goal'),), None, None), display=False,\n",
    "        search_num=3000, N_agents = 12, expand_depth_on_thread = True, \n",
    "        terminate_on_first = True, tree_margin = 4,\n",
    "        depth_margin = 2, joint_motion_num=10, \n",
    "        **dict(N=300, dt=0.01, vel_conv=1e-2, err_conv=5e-4))"
   ]
  },
  {
   "cell_type": "code",
   "execution_count": 16,
   "metadata": {
    "scrolled": true
   },
   "outputs": [
    {
     "data": {
      "image/png": "[encoded data removed]",
      "text/plain": [
       "<Figure size 720x720 with 1 Axes>"
      ]
     },
     "metadata": {
      "needs_background": "light"
     },
     "output_type": "display_data"
    }
   ],
   "source": [
    "graph.quiver_snodes()"
   ]
  },
  {
   "cell_type": "code",
   "execution_count": null,
   "metadata": {},
   "outputs": [],
   "source": []
  },
  {
   "cell_type": "markdown",
   "metadata": {},
   "source": [
    "# Replay schedule"
   ]
  },
  {
   "cell_type": "code",
   "execution_count": null,
   "metadata": {
    "scrolled": true
   },
   "outputs": [
    {
     "name": "stdout",
     "output_type": "stream",
     "text": [
      "[0, 1, 4, 8]\n"
     ]
    },
    {
     "name": "stderr",
     "output_type": "stream",
     "text": [
      "pkg/utils.py:71: RuntimeWarning: divide by zero encountered in long_scalars\n",
      "  per_T= np.round(np.sum(self.time_dict[name])/self.count_dict[name], 3),\n"
     ]
    },
    {
     "name": "stdout",
     "output_type": "stream",
     "text": [
      "start set transition: \t0 ms/0 = 0 ms \n",
      "post: \t0.0 ms/1 = 0.138 ms \n",
      "\n",
      "\n",
      "--------------------\n",
      "1-(('box1', 'top_p', 'vac2'),)\n",
      "start set transition: \t0 ms/0 = 0 ms \n",
      "post: \t16.0 ms/2 = 7.978 ms \n",
      "\n",
      "\n",
      "--------------------\n",
      "4-(('box1', 'left_p', 'grip1'),)\n",
      "start set transition: \t0 ms/0 = 0 ms \n",
      "post: \t34.0 ms/3 = 11.391 ms \n",
      "\n",
      "\n",
      "--------------------\n",
      "8-(('box1', 'front_f', 'goal'),)\n"
     ]
    }
   ],
   "source": [
    "schedule_dict = graph.find_schedules()\n",
    "schedule_sorted = graph.sort_schedule(schedule_dict)\n",
    "for schedule in schedule_sorted:\n",
    "    print(schedule)\n",
    "for schedule, i_s in zip(schedule_sorted, range(len(schedule_sorted))):\n",
    "    graph.simulate_transition(graph.snode_vec[0].state, graph.snode_vec[0].state, display=True, N=10, dt=0.01, vel_conv=1e-2, err_conv=5e-4)\n",
    "    timer.sleep(1)\n",
    "#     try:\n",
    "    e = graph.replay(schedule, execute=True, N=300, dt=0.01, N_step=5, vel_conv=1e-2, err_conv=5e-4)\n",
    "#     except Exception as e:\n",
    "#         print(e)"
   ]
  },
  {
   "cell_type": "code",
   "execution_count": 18,
   "metadata": {},
   "outputs": [],
   "source": [
    "# e = graph.replay(schedule, N=1500, dt=0.002, vel_conv=1e-2, err_conv=5e-3)"
   ]
  },
  {
   "cell_type": "code",
   "execution_count": null,
   "metadata": {},
   "outputs": [],
   "source": [
    "e.displayContext()"
   ]
  },
  {
   "cell_type": "code",
   "execution_count": null,
   "metadata": {},
   "outputs": [],
   "source": []
  },
  {
   "cell_type": "markdown",
   "metadata": {},
   "source": [
    "# Visualize"
   ]
  },
  {
   "cell_type": "code",
   "execution_count": null,
   "metadata": {},
   "outputs": [],
   "source": [
    "from pkg.graph_visualize import VisualGraph"
   ]
  },
  {
   "cell_type": "code",
   "execution_count": null,
   "metadata": {
    "scrolled": false
   },
   "outputs": [],
   "source": [
    "g = VisualGraph()\n",
    "\n",
    "# for node, neighbor in graph.node_dict.items(): # for visualizing all\n",
    "#     g.add_node(node,neighbor) # for visualizing all\n",
    "\n",
    "for node, neighbor in graph.valid_node_dict.items():\n",
    "    g.add_node(node,neighbor) # for visualizing all\n",
    "\n",
    "# for idx in schedule: # for visualizing schedule\n",
    "#     snode = graph.snode_vec[idx]\n",
    "#     leafs = [(leaf, graph.snode_vec[leaf]) for leaf in snode.leafs if leaf in schedule] # for visualizing schedule\n",
    "#     g.add_node(\"%d-\"%idx+str(snode.state.node),[\"%d-\"%i_l+str(leaf.state.node) for i_l, leaf in leafs]) # for visualizing schedule"
   ]
  },
  {
   "cell_type": "code",
   "execution_count": null,
   "metadata": {
    "scrolled": false
   },
   "outputs": [],
   "source": [
    "g.draw().render()\n",
    "g.draw(True)"
   ]
  },
  {
   "cell_type": "code",
   "execution_count": null,
   "metadata": {},
   "outputs": [],
   "source": []
  },
  {
   "cell_type": "code",
   "execution_count": null,
   "metadata": {},
   "outputs": [],
   "source": []
  },
  {
   "cell_type": "markdown",
   "metadata": {},
   "source": [
    "# delete all"
   ]
  },
  {
   "cell_type": "code",
   "execution_count": null,
   "metadata": {},
   "outputs": [],
   "source": [
    "for mkr in marker_list:\n",
    "    mkr.delete()"
   ]
  },
  {
   "cell_type": "code",
   "execution_count": null,
   "metadata": {},
   "outputs": [],
   "source": []
  },
  {
   "cell_type": "markdown",
   "metadata": {},
   "source": [
    "# Plotting (using the Bokeh library to provide interactive plots)"
   ]
  },
  {
   "cell_type": "code",
   "execution_count": null,
   "metadata": {},
   "outputs": [],
   "source": [
    "from bokeh.plotting import figure, show, output_notebook\n",
    "from bokeh.layouts import gridplot\n",
    "from etasl_py.bokehplots import plotv\n",
    "\n",
    "output_notebook()\n",
    "print(\"positions : \")\n",
    "plotv(e.TIME,e.POS,e.POS_LBL)\n",
    "print(\"velocities : \")\n",
    "plotv(e.TIME,e.VEL,e.POS_LBL)\n",
    "print(\"outputs : \")\n",
    "plotv(e.TIME,e.OUTP,e.OUTP_LBL)"
   ]
  },
  {
   "cell_type": "code",
   "execution_count": null,
   "metadata": {},
   "outputs": [],
   "source": []
  },
  {
   "cell_type": "code",
   "execution_count": null,
   "metadata": {},
   "outputs": [],
   "source": [
    "!urdf_to_graphiz $(rospack find etasl_py_examples)/robots/ur10_robot.urdf\n",
    "from graphviz import Source\n",
    "Source.from_file('ur10.gv')"
   ]
  },
  {
   "cell_type": "code",
   "execution_count": null,
   "metadata": {},
   "outputs": [],
   "source": []
  }
 ],
 "metadata": {
  "kernelspec": {
   "display_name": "Python 2",
   "language": "python",
   "name": "python2"
  },
  "language_info": {
   "codemirror_mode": {
    "name": "ipython",
    "version": 2
   },
   "file_extension": ".py",
   "mimetype": "text/x-python",
   "name": "python",
   "nbconvert_exporter": "python",
   "pygments_lexer": "ipython2",
   "version": "2.7.17"
  }
 },
 "nbformat": 4,
 "nbformat_minor": 2
}
