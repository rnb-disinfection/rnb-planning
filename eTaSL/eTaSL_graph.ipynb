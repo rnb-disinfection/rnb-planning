{
 "cells": [
  {
   "cell_type": "markdown",
   "metadata": {},
   "source": [
    "# Graph "
   ]
  },
  {
   "cell_type": "code",
   "execution_count": 1,
   "metadata": {},
   "outputs": [
    {
     "data": {
      "text/html": [
       "<style>.container { width:90% !important; } </style>"
      ],
      "text/plain": [
       "<IPython.core.display.HTML object>"
      ]
     },
     "metadata": {},
     "output_type": "display_data"
    }
   ],
   "source": [
    "from __future__ import print_function\n",
    "from IPython.core.display import display, HTML\n",
    "display(HTML(\"<style>.container { width:90% !important; } </style>\"))"
   ]
  },
  {
   "cell_type": "code",
   "execution_count": 2,
   "metadata": {},
   "outputs": [],
   "source": [
    "from pkg.robots_custom import *\n",
    "xcustom = XacroCustomizer()"
   ]
  },
  {
   "cell_type": "code",
   "execution_count": 3,
   "metadata": {},
   "outputs": [],
   "source": [
    "from enum import Enum\n",
    "class Scenario(Enum):\n",
    "    single_object_single_robot = 0\n",
    "    double_object_single_robot = 1\n",
    "    single_object_dual_robot = 2\n",
    "    assembly_3_piece = 3\n",
    "    custom_robots = 4"
   ]
  },
  {
   "cell_type": "code",
   "execution_count": 4,
   "metadata": {},
   "outputs": [],
   "source": [
    "current_scenario = Scenario.custom_robots"
   ]
  },
  {
   "cell_type": "code",
   "execution_count": 5,
   "metadata": {
    "scrolled": true
   },
   "outputs": [
    {
     "name": "stderr",
     "output_type": "stream",
     "text": [
      "Unknown tag \"hardwareInterface\" in /robot[@name='custom_robots']/transmission[@name='indy0_tran0']/actuator[@name='indy0_motor0']\n",
      "Unknown tag \"hardwareInterface\" in /robot[@name='custom_robots']/transmission[@name='indy0_tran1']/actuator[@name='indy0_motor1']\n",
      "Unknown tag \"hardwareInterface\" in /robot[@name='custom_robots']/transmission[@name='indy0_tran2']/actuator[@name='indy0_motor2']\n",
      "Unknown tag \"hardwareInterface\" in /robot[@name='custom_robots']/transmission[@name='indy0_tran3']/actuator[@name='indy0_motor3']\n",
      "Unknown tag \"hardwareInterface\" in /robot[@name='custom_robots']/transmission[@name='indy0_tran4']/actuator[@name='indy0_motor4']\n",
      "Unknown tag \"hardwareInterface\" in /robot[@name='custom_robots']/transmission[@name='indy0_tran5']/actuator[@name='indy0_motor5']\n"
     ]
    }
   ],
   "source": [
    "urdf_content = None\n",
    "if current_scenario in [Scenario.single_object_dual_robot, Scenario.assembly_3_piece]:\n",
    "    from pkg.ur10_dual import URDF_PATH, JOINT_NAMES, LINK_NAMES, ZERO_JOINT_POSE, get_collision_items_dict\n",
    "elif current_scenario in [Scenario.single_object_single_robot, Scenario.double_object_single_robot]:\n",
    "    from pkg.ur10 import URDF_PATH, JOINT_NAMES, LINK_NAMES, ZERO_JOINT_POSE, get_collision_items_dict\n",
    "else:\n",
    "    xcustom.clear()\n",
    "    xcustom.add_robot(RobotType.indy7_robot, xyz=[0,-0.5,0], rpy= [0,0,0])\n",
    "    xcustom.add_robot(RobotType.panda_robot, xyz=[0,0.5,0], rpy= [0,0,0])\n",
    "    xcustom.write_xacro()\n",
    "    JOINT_NAMES, LINK_NAMES, ZERO_JOINT_POSE, urdf_content = \\\n",
    "            xcustom.convert_xacro_to_urdf(joint_fix_dict={'finger':'upper'})\n",
    "    ZERO_JOINT_POSE=np.array([0,0,-np.pi/2,0,-np.pi/2,0,\n",
    "                              0,-np.pi/8,0,-np.pi/2,0,np.pi/2,0])\n",
    "    xcustom.start_rviz()\n",
    "    \n",
    "from pkg.constraint_graph import *\n",
    "import matplotlib.pyplot as plt\n",
    "from pkg.plot_utils import *\n",
    "from pkg.utils import *\n",
    "# from threading import Thread, Lock\n",
    "from multiprocessing import Process, Lock, Manager\n",
    "PROC_MODE = True\n",
    "rospy.init_node('task_planner', anonymous=True)"
   ]
  },
  {
   "cell_type": "code",
   "execution_count": 6,
   "metadata": {},
   "outputs": [],
   "source": [
    "refine_meshes()"
   ]
  },
  {
   "cell_type": "code",
   "execution_count": 7,
   "metadata": {},
   "outputs": [
    {
     "name": "stdout",
     "output_type": "stream",
     "text": [
      "[INFO] [1597415174.565416, 175589.290000]: GripperInterface: Waiting for gripper action servers... \n",
      "[INFO] [1597415174.820443, 175589.539000]: GripperInterface: Gripper action servers found! \n"
     ]
    }
   ],
   "source": [
    "graph = ConstraintGraph(urdf_path=URDF_PATH, joint_names=JOINT_NAMES, link_names=LINK_NAMES, urdf_content=urdf_content)\n",
    "# graph.set_collision_items(collision_items_dict)\n",
    "# graph.set_collision_items({link:[] for link in LINK_NAMES})\n",
    "\n",
    "col_items_dict = get_collision_items_dict(graph.urdf_content, color=(0,1,0,0.5), display=True, collision=True, \n",
    "                                          exclude_link=[\"panda1_link7\"])\n",
    "graph.set_collision_items(col_items_dict)"
   ]
  },
  {
   "cell_type": "code",
   "execution_count": 8,
   "metadata": {
    "scrolled": true
   },
   "outputs": [
    {
     "name": "stdout",
     "output_type": "stream",
     "text": [
      "Please create a subscriber to the marker\n",
      "publication OK\n",
      "published: [0, 0, 0, 0, 0, 0, 0, 0, 0, 0, 0, 0, 0]\n",
      "Please create a subscriber to the marker\n"
     ]
    }
   ],
   "source": [
    "graph.set_simulation(nWSR=50, regularization_factor= 1e-1)\n",
    "graph.show_pose(ZERO_JOINT_POSE, execute=True)"
   ]
  },
  {
   "cell_type": "code",
   "execution_count": 9,
   "metadata": {
    "scrolled": false
   },
   "outputs": [],
   "source": [
    "# from pkg.graph_visualize import VisualGraph\n",
    "# g = VisualGraph()\n",
    "\n",
    "# # for node, neighbor in graph.node_dict.items(): # for visualizing all\n",
    "# #     g.add_node(node,neighbor) # for visualizing all\n",
    "\n",
    "# for node, neighbor in graph.valid_node_dict.items():\n",
    "#     g.add_node(node,neighbor) # for visualizing all\n",
    "# g.draw().render()\n",
    "# g.draw(True)"
   ]
  },
  {
   "cell_type": "code",
   "execution_count": null,
   "metadata": {},
   "outputs": [],
   "source": []
  },
  {
   "cell_type": "markdown",
   "metadata": {},
   "source": [
    "# Custom Robots"
   ]
  },
  {
   "cell_type": "code",
   "execution_count": 10,
   "metadata": {},
   "outputs": [],
   "source": [
    "if current_scenario == Scenario.custom_robots:\n",
    "    collision=True\n",
    "    graph.add_collision_items(\"world\", \n",
    "                              [\n",
    "                               GeoMesh(uri=\"package://my_mesh/meshes/stl/AirPick_cup_ctd.stl\", BLH=(0.01,0.01,0.01), scale=(1e-3,1e-3,1e-3), name=\"gripper1\", link_name=\"indy0_tcp\", urdf_content=graph.urdf_content, color=(0.1,0.1,0.1,1), collision=False),\n",
    "                               GeoBox((0.5,-0.2,0.050), (0.05,0.05,0.05), name=\"box1\", link_name=\"world\", urdf_content=graph.urdf_content, color=(0.3,0.3,0.8,1), collision=collision),\n",
    "                               GeoBox((0,0,-0.005), (3,3,0.01), name=\"floor\", link_name=\"world\", urdf_content=graph.urdf_content, color=(0.6,0.6,0.6,1), collision=collision),\n",
    "                               GeoBox((0.7,0.0,0.2), (0.7,0.05,0.4), name=\"wall\", link_name=\"world\", urdf_content=graph.urdf_content, color=(0.4,0.3,0.0,1), collision=collision),\n",
    "                               GeoBox((0.4,0.4,0.15), (0.15,0.15,0.3), name=\"stepper\", link_name=\"world\", urdf_content=graph.urdf_content, color=(0.4,0.3,0.0,1), collision=collision),\n",
    "                               GeoBox((0.4,0.4,0.3), (0.1,0.1,1e-3), name=\"goal_disp\", link_name=\"world\", urdf_content=graph.urdf_content, color=(0.8,0.0,0.0,1), collision=False)])\n",
    "    \n",
    "    graph.register_binder(name='grip1', _type=VacuumTool, point=[0,-2.5e-2,11e-2], link_name=\"panda1_hand\", direction=[0,1,0])\n",
    "    graph.register_binder(name='vac2', _type=VacuumTool, point=[0,0,5e-2], link_name=\"indy0_tcp\", direction=[0,0,1])\n",
    "    graph.register_binder(name='floor', _type=PlacePlane, direction=[0,0,1])\n",
    "    graph.register_binder(name='goal', _type=PlaceFrame, point=(0.4,0.4,0.3+5e-4), link_name=\"world\", orientation=[0,0,0])\n",
    "\n",
    "    graph.register_object('box1', _type=BoxAction, binding=(\"bottom_p\",\"floor\"), hexahedral=True)\n",
    "\n",
    "    graph.update_handles()"
   ]
  },
  {
   "cell_type": "code",
   "execution_count": null,
   "metadata": {},
   "outputs": [],
   "source": []
  },
  {
   "cell_type": "markdown",
   "metadata": {},
   "source": [
    "# Set RVIZ"
   ]
  },
  {
   "cell_type": "code",
   "execution_count": 11,
   "metadata": {
    "scrolled": true
   },
   "outputs": [
    {
     "name": "stdout",
     "output_type": "stream",
     "text": [
      "publication OK\n",
      "published: [0, 0, 0, 0, 0, 0, 0, 0, 0, 0, 0, 0, 0]\n"
     ]
    }
   ],
   "source": [
    "graph.set_simulation(nWSR=50, regularization_factor= 1e-1)"
   ]
  },
  {
   "cell_type": "code",
   "execution_count": 12,
   "metadata": {},
   "outputs": [],
   "source": [
    "graph.show_pose(ZERO_JOINT_POSE, execute=True)"
   ]
  },
  {
   "cell_type": "code",
   "execution_count": 13,
   "metadata": {},
   "outputs": [],
   "source": [
    "# joint_num = graph.joint_num\n",
    "# N = 300\n",
    "# dt = 1e-2\n",
    "\n",
    "# from_state = State((('box1','bottom_p','floor'),), {'box1': [0.5,-0.3,0.05,0,0,0,1]}, ZERO_JOINT_POSE)\n",
    "# to_state = State((('box1', 'top_p', 'vac2'), ),None, None)\n",
    "\n",
    "\n",
    "# e, end_state, succ = graph.simulate_transition(from_state, to_state, display=True, N=N, dt=dt, vel_conv=1e-2, err_conv=1e-3)\n",
    "# print(succ)\n",
    "\n",
    "# # e.displayContext()\n",
    "\n",
    "# end_state_bak = end_state.copy()\n",
    "\n",
    "# from_state = end_state_bak.copy()\n",
    "# # from_state.Q = error_pos_list[-7]\n",
    "# # from_state.Q = [ 0.70884048, -0.57695371, -1.63360349,  0.13754708, -0.48114245,  0.15000046,\n",
    "# #   0.13899708, -0.10050983, -0.18593015, -1.66651131, -0.3915,      1.6027194,\n",
    "# #  -0.3915    ]\n",
    "# to_state = end_state.copy()\n",
    "# to_state.node = (('box1', 'left_p', 'grip1'),)\n",
    "\n",
    "\n",
    "# e, end_state, succ = graph.simulate_transition(from_state, to_state, display=True, N=N, dt=dt, vel_conv=1e-2, err_conv=1e-3)\n",
    "\n",
    "# # e.displayContext()"
   ]
  },
  {
   "cell_type": "code",
   "execution_count": null,
   "metadata": {},
   "outputs": [],
   "source": []
  },
  {
   "cell_type": "markdown",
   "metadata": {},
   "source": [
    "# build"
   ]
  },
  {
   "cell_type": "code",
   "execution_count": 14,
   "metadata": {},
   "outputs": [],
   "source": [
    "graph.build_graph()"
   ]
  },
  {
   "cell_type": "code",
   "execution_count": null,
   "metadata": {},
   "outputs": [],
   "source": []
  },
  {
   "cell_type": "markdown",
   "metadata": {},
   "source": [
    "# Search Graph (Custom Robots)"
   ]
  },
  {
   "cell_type": "code",
   "execution_count": 15,
   "metadata": {
    "scrolled": true
   },
   "outputs": [
    {
     "name": "stdout",
     "output_type": "stream",
     "text": [
      "start set transition: \t190.0 ms/1 = 190.009 ms \n",
      "set_simulate fun: \t4154.0 ms/1 = 4154.499 ms \n",
      "post: \t46.0 ms/1 = 46.094 ms \n",
      "\n",
      "\n",
      "2. success - Goal cost:2->1 / Init cost:0->1 / branching: 0->1 / edepth: 2/2 / 4.72 s (10)\n",
      "node: (('box1', 'bottom_p', 'floor'),)->(('box1', 'top_p', 'vac2'),):(('box1', 'top_p', 'vac2'),)\n",
      "======================================================================================================================================================\n",
      "start set transition: \t379.0 ms/1 = 378.809 ms \n",
      "set_simulate fun: \t7077.0 ms/1 = 7077.318 ms \n",
      "post: \t0.0 ms/1 = 0.092 ms \n",
      "\n",
      "\n",
      "8. fail - Goal cost:2->1 / Init cost:0->1 / branching: 0-> / edepth: 2/2 / 9.01 s (4)\n",
      "node: (('box1', 'bottom_p', 'floor'),)->(('box1', 'back_p', 'vac2'),):\n",
      "======================================================================================================================================================\n",
      "start set transition: \t158.0 ms/1 = 157.928 ms \n",
      "set_simulate fun: \t8364.0 ms/1 = 8364.478 ms \n",
      "post: \t61.0 ms/1 = 61.162 ms \n",
      "\n",
      "\n",
      "3. fail - Goal cost:2->1 / Init cost:0->1 / branching: 0-> / edepth: 2/2 / 9.09 s (11)\n",
      "node: (('box1', 'bottom_p', 'floor'),)->(('box1', 'top_p', 'grip1'),):\n",
      "======================================================================================================================================================\n",
      "start set transition: \t257.0 ms/1 = 257.089 ms \n",
      "set_simulate fun: \t7790.0 ms/1 = 7789.88 ms \n",
      "post: \t0.0 ms/1 = 0.118 ms \n",
      "\n",
      "\n",
      "7. fail - Goal cost:2->1 / Init cost:0->1 / branching: 0-> / edepth: 2/2 / 9.39 s (3)\n",
      "node: (('box1', 'bottom_p', 'floor'),)->(('box1', 'right_p', 'vac2'),):\n",
      "======================================================================================================================================================\n",
      "start set transition: \t231.0 ms/1 = 230.745 ms \n",
      "set_simulate fun: \t8350.0 ms/1 = 8350.057 ms \n",
      "post: \t30.0 ms/1 = 29.904 ms \n",
      "\n",
      "\n",
      "5. fail - Goal cost:2->1 / Init cost:0->1 / branching: 0-> / edepth: 2/2 / 9.47 s (1)\n",
      "node: (('box1', 'bottom_p', 'floor'),)->(('box1', 'back_p', 'grip1'),):\n",
      "======================================================================================================================================================\n",
      "start set transition: \t155.0 ms/1 = 154.882 ms \n",
      "set_simulate fun: \t9234.0 ms/1 = 9233.732 ms \n",
      "post: \t18.0 ms/1 = 17.525 ms \n",
      "\n",
      "\n",
      "1. fail - Goal cost:2->1 / Init cost:0->1 / branching: 0-> / edepth: 2/2 / 9.58 s (9)\n",
      "node: (('box1', 'bottom_p', 'floor'),)->(('box1', 'left_p', 'grip1'),):\n",
      "======================================================================================================================================================\n",
      "start set transition: \t636.0 ms/1 = 635.99 ms \n",
      "set_simulate fun: \t6794.0 ms/1 = 6793.985 ms \n",
      "post: \t0.0 ms/1 = 0.085 ms \n",
      "\n",
      "\n",
      "10. fail - Goal cost:2->1 / Init cost:0->1 / branching: 0-> / edepth: 2/2 / 9.72 s (6)\n",
      "node: (('box1', 'bottom_p', 'floor'),)->(('box1', 'left_p', 'vac2'),):\n",
      "======================================================================================================================================================\n",
      "start set transition: \t179.0 ms/1 = 179.394 ms \n",
      "set_simulate fun: \t9000.0 ms/1 = 9000.057 ms \n",
      "post: \t0.0 ms/1 = 0.073 ms \n",
      "\n",
      "\n",
      "4. fail - Goal cost:2->1 / Init cost:0->1 / branching: 0-> / edepth: 2/2 / 9.83 s (0)\n",
      "node: (('box1', 'bottom_p', 'floor'),)->(('box1', 'right_p', 'grip1'),):\n",
      "======================================================================================================================================================\n",
      "start set transition: \t249.0 ms/1 = 248.763 ms \n",
      "set_simulate fun: \t8614.0 ms/1 = 8613.809 ms \n",
      "post: \t0.0 ms/1 = 0.098 ms \n",
      "\n",
      "\n",
      "6. fail - Goal cost:2->1 / Init cost:0->1 / branching: 0-> / edepth: 2/2 / 9.92 s (2)\n",
      "node: (('box1', 'bottom_p', 'floor'),)->(('box1', 'front_p', 'vac2'),):\n",
      "======================================================================================================================================================\n",
      "start set transition: \t357.0 ms/1 = 356.967 ms \n",
      "set_simulate fun: \t8819.0 ms/1 = 8819.379 ms \n",
      "post: \t0.0 ms/1 = 0.065 ms \n",
      "\n",
      "\n",
      "9. fail - Goal cost:2->1 / Init cost:0->1 / branching: 0-> / edepth: 2/2 / 11.09 s (5)\n",
      "node: (('box1', 'bottom_p', 'floor'),)->(('box1', 'front_p', 'grip1'),):\n",
      "======================================================================================================================================================\n",
      "start set transition: \t846.0 ms/1 = 845.561 ms \n",
      "set_simulate fun: \t6769.0 ms/1 = 6768.557 ms \n",
      "post: \t0.0 ms/1 = 0.12 ms \n",
      "\n",
      "\n",
      "11. fail - Goal cost:1->0 / Init cost:1->2 / branching: 1-> / edepth: 2/2 / 12.5 s (8)\n",
      "node: (('box1', 'top_p', 'vac2'),)->(('box1', 'front_f', 'goal'),):\n",
      "======================================================================================================================================================\n",
      "register depth_buffer = 3.0\n",
      "current depth = 3.0\n",
      "depth 3 full registered\n",
      "start set transition: \t1046.0 ms/2 = 522.828 ms \n",
      "set_simulate fun: \t11470.0 ms/2 = 5735.08 ms \n",
      "post: \t0.0 ms/2 = 0.197 ms \n",
      "\n",
      "\n",
      "13. fail - Goal cost:1->1 / Init cost:1->1 / branching: 1-> / edepth: 3/3 / 17.78 s (8)\n",
      "node: (('box1', 'top_p', 'vac2'),)->(('box1', 'top_p', 'vac2'),):\n",
      "======================================================================================================================================================\n",
      "start set transition: \t518.0 ms/2 = 258.849 ms \n",
      "set_simulate fun: \t14468.0 ms/2 = 7234.132 ms \n",
      "post: \t0.0 ms/2 = 0.069 ms \n",
      "\n",
      "\n",
      "12. success - Goal cost:1->1 / Init cost:1->1 / branching: 1->2 / edepth: 3/3 / 18.48 s (5)\n",
      "node: (('box1', 'top_p', 'vac2'),)->(('box1', 'top_p', 'vac2'),):(('box1', 'top_p', 'vac2'),)\n",
      "======================================================================================================================================================\n",
      "start set transition: \t526.0 ms/2 = 262.806 ms \n",
      "set_simulate fun: \t12943.0 ms/2 = 6471.313 ms \n",
      "post: \t317.0 ms/2 = 158.397 ms \n",
      "\n",
      "\n",
      "16. success - Goal cost:1->1 / Init cost:1->1 / branching: 1->3 / edepth: 3/3 / 19.16 s (3)\n",
      "node: (('box1', 'top_p', 'vac2'),)->(('box1', 'top_p', 'vac2'),):(('box1', 'top_p', 'vac2'),)\n",
      "======================================================================================================================================================\n",
      "start set transition: \t363.0 ms/2 = 181.623 ms \n",
      "set_simulate fun: \t10061.0 ms/2 = 5030.648 ms \n",
      "post: \t238.0 ms/2 = 119.054 ms \n",
      "\n",
      "\n",
      "14. success - Goal cost:1->1 / Init cost:1->1 / branching: 1->4 / edepth: 3/3 / 19.29 s (10)\n",
      "node: (('box1', 'top_p', 'vac2'),)->(('box1', 'top_p', 'vac2'),):(('box1', 'top_p', 'vac2'),)\n",
      "======================================================================================================================================================\n",
      "start set transition: \t196.0 ms/1 = 196.218 ms \n",
      "set_simulate fun: \t5849.0 ms/1 = 5848.597 ms \n",
      "post: \t760.0 ms/1 = 760.025 ms \n",
      "\n",
      "\n",
      "15. success - Goal cost:1->1 / Init cost:1->1 / branching: 1->5 / edepth: 3/3 / 19.98 s (7)\n",
      "node: (('box1', 'top_p', 'vac2'),)->(('box1', 'top_p', 'vac2'),):(('box1', 'top_p', 'vac2'),)\n",
      "======================================================================================================================================================\n",
      "simulation exception: optimization failed during execution\n",
      "\n",
      "22. fail - Goal cost:1->1 / Init cost:1->1 / branching: 1-> / edepth: 3/3 / 21.3 s (11)\n",
      "node: (('box1', 'top_p', 'vac2'),)->(('box1', 'right_p', 'grip1'),):\n",
      "======================================================================================================================================================\n",
      "start set transition: \t860.0 ms/2 = 429.979 ms \n",
      "set_simulate fun: \t13461.0 ms/2 = 6730.307 ms \n",
      "post: \t585.0 ms/2 = 292.551 ms \n",
      "\n",
      "\n",
      "18. fail - Goal cost:1->1 / Init cost:1->1 / branching: 1-> / edepth: 3/3 / 21.42 s (6)\n",
      "node: (('box1', 'top_p', 'vac2'),)->(('box1', 'top_p', 'vac2'),):\n",
      "======================================================================================================================================================\n",
      "start set transition: \t656.0 ms/2 = 327.99 ms \n",
      "set_simulate fun: \t14726.0 ms/2 = 7362.784 ms \n",
      "post: \t671.0 ms/2 = 335.637 ms \n",
      "\n",
      "\n",
      "20. success - Goal cost:1->1 / Init cost:1->1 / branching: 1->6 / edepth: 3/3 / 21.54 s (0)\n",
      "node: (('box1', 'top_p', 'vac2'),)->(('box1', 'top_p', 'vac2'),):(('box1', 'top_p', 'vac2'),)\n"
     ]
    },
    {
     "name": "stdout",
     "output_type": "stream",
     "text": [
      "======================================================================================================================================================\n",
      "start set transition: \t528.0 ms/2 = 264.12 ms \n",
      "set_simulate fun: \t17163.0 ms/2 = 8581.487 ms \n",
      "post: \t961.0 ms/2 = 480.488 ms \n",
      "\n",
      "\n",
      "17. fail - Goal cost:1->1 / Init cost:1->1 / branching: 1-> / edepth: 3/3 / 23.46 s (2)\n",
      "node: (('box1', 'top_p', 'vac2'),)->(('box1', 'top_p', 'vac2'),):\n",
      "======================================================================================================================================================\n",
      "start set transition: \t728.0 ms/2 = 363.864 ms \n",
      "set_simulate fun: \t16978.0 ms/2 = 8489.181 ms \n",
      "post: \t315.0 ms/2 = 157.402 ms \n",
      "\n",
      "\n",
      "19. fail - Goal cost:1->1 / Init cost:1->1 / branching: 1-> / edepth: 3/3 / 23.58 s (1)\n",
      "node: (('box1', 'top_p', 'vac2'),)->(('box1', 'top_p', 'vac2'),):\n",
      "======================================================================================================================================================\n",
      "start set transition: \t746.0 ms/2 = 372.762 ms \n",
      "set_simulate fun: \t17249.0 ms/2 = 8624.4 ms \n",
      "post: \t711.0 ms/2 = 355.387 ms \n",
      "\n",
      "\n",
      "21. fail - Goal cost:1->1 / Init cost:1->1 / branching: 1-> / edepth: 3/3 / 24.44 s (9)\n",
      "node: (('box1', 'top_p', 'vac2'),)->(('box1', 'top_p', 'vac2'),):\n",
      "======================================================================================================================================================\n",
      "start set transition: \t1397.0 ms/3 = 465.521 ms \n",
      "set_simulate fun: \t17044.0 ms/3 = 5681.353 ms \n",
      "post: \t744.0 ms/3 = 247.883 ms \n",
      "\n",
      "\n",
      "24. success - Goal cost:1->1 / Init cost:1->1 / branching: 1->7 / edepth: 3/3 / 24.61 s (8)\n",
      "node: (('box1', 'top_p', 'vac2'),)->(('box1', 'left_p', 'grip1'),):(('box1', 'left_p', 'grip1'),)\n",
      "======================================================================================================================================================\n",
      "start set transition: \t1030.0 ms/2 = 514.895 ms \n",
      "set_simulate fun: \t14066.0 ms/2 = 7032.824 ms \n",
      "post: \t596.0 ms/2 = 297.966 ms \n",
      "\n",
      "\n",
      "23. success - Goal cost:1->1 / Init cost:1->1 / branching: 1->8 / edepth: 3/3 / 24.78 s (4)\n",
      "node: (('box1', 'top_p', 'vac2'),)->(('box1', 'back_p', 'grip1'),):(('box1', 'back_p', 'grip1'),)\n",
      "======================================================================================================================================================\n",
      "start set transition: \t1022.0 ms/3 = 340.52 ms \n",
      "set_simulate fun: \t21260.0 ms/3 = 7086.768 ms \n",
      "post: \t279.0 ms/3 = 92.87 ms \n",
      "\n",
      "\n",
      "25. success - Goal cost:1->1 / Init cost:1->1 / branching: 1->9 / edepth: 3/3 / 26.24 s (5)\n",
      "node: (('box1', 'top_p', 'vac2'),)->(('box1', 'front_p', 'grip1'),):(('box1', 'front_p', 'grip1'),)\n",
      "======================================================================================================================================================\n",
      "start set transition: \t768.0 ms/3 = 255.866 ms \n",
      "set_simulate fun: \t16598.0 ms/3 = 5532.632 ms \n",
      "post: \t238.0 ms/3 = 79.393 ms \n",
      "\n",
      "\n",
      "27. success - Goal cost:2->2 / Init cost:0->0 / branching: 0->10 / edepth: 3/3 / 27.08 s (10)\n",
      "node: (('box1', 'bottom_p', 'floor'),)->(('box1', 'bottom_p', 'floor'),):(('box1', 'bottom_p', 'floor'),)\n",
      "======================================================================================================================================================\n",
      "start set transition: \t1115.0 ms/3 = 371.785 ms \n",
      "set_simulate fun: \t21571.0 ms/3 = 7190.309 ms \n",
      "post: \t317.0 ms/3 = 105.625 ms \n",
      "\n",
      "\n",
      "26. fail - Goal cost:1->1 / Init cost:1->2 / branching: 1-> / edepth: 3/3 / 28.65 s (3)\n",
      "node: (('box1', 'top_p', 'vac2'),)->(('box1', 'bottom_p', 'grip1'),):\n",
      "======================================================================================================================================================\n",
      "start set transition: \t1510.0 ms/3 = 503.32 ms \n",
      "set_simulate fun: \t17212.0 ms/2 = 8605.869 ms \n",
      "post: \t61.0 ms/2 = 30.624 ms \n",
      "\n",
      "\n",
      "29. fail - Goal cost:1->0 / Init cost:1->2 / branching: 3-> / edepth: 3/3 / 31.06 s (11)\n",
      "node: (('box1', 'top_p', 'vac2'),)->(('box1', 'front_f', 'goal'),):\n",
      "======================================================================================================================================================\n",
      "start set transition: \t1284.0 ms/4 = 321.124 ms \n",
      "set_simulate fun: \t25963.0 ms/4 = 6490.667 ms \n",
      "post: \t877.0 ms/4 = 219.363 ms \n",
      "\n",
      "\n",
      "37. success - Goal cost:2->2 / Init cost:0->0 / branching: 0->11 / edepth: 3/3 / 31.95 s (5)\n",
      "node: (('box1', 'bottom_p', 'floor'),)->(('box1', 'bottom_p', 'floor'),):(('box1', 'bottom_p', 'floor'),)\n",
      "======================================================================================================================================================\n",
      "start set transition: \t1459.0 ms/3 = 486.337 ms \n",
      "set_simulate fun: \t20277.0 ms/3 = 6758.866 ms \n",
      "post: \t861.0 ms/3 = 287.124 ms \n",
      "\n",
      "\n",
      "36. success - Goal cost:2->2 / Init cost:0->0 / branching: 0->12 / edepth: 3/3 / 32.68 s (4)\n",
      "node: (('box1', 'bottom_p', 'floor'),)->(('box1', 'bottom_p', 'floor'),):(('box1', 'bottom_p', 'floor'),)\n",
      "======================================================================================================================================================\n",
      "start set transition: \t1272.0 ms/3 = 424.16 ms \n",
      "set_simulate fun: \t23667.0 ms/3 = 7888.92 ms \n",
      "post: \t1144.0 ms/3 = 381.394 ms \n",
      "\n",
      "\n",
      "31. fail - Goal cost:2->2 / Init cost:0->0 / branching: 0-> / edepth: 3/3 / 32.9 s (0)\n",
      "node: (('box1', 'bottom_p', 'floor'),)->(('box1', 'bottom_p', 'floor'),):\n",
      "======================================================================================================================================================\n",
      "start set transition: \t1477.0 ms/3 = 492.3 ms \n",
      "set_simulate fun: \t23413.0 ms/3 = 7804.325 ms \n",
      "post: \t846.0 ms/3 = 281.919 ms \n",
      "\n",
      "\n",
      "30. fail - Goal cost:1->0 / Init cost:1->2 / branching: 4-> / edepth: 3/3 / 33.1 s (6)\n",
      "node: (('box1', 'top_p', 'vac2'),)->(('box1', 'front_f', 'goal'),):\n",
      "======================================================================================================================================================\n",
      "start set transition: \t1004.0 ms/2 = 502.111 ms \n",
      "set_simulate fun: \t18125.0 ms/2 = 9062.718 ms \n",
      "post: \t1673.0 ms/2 = 836.413 ms \n",
      "\n",
      "\n",
      "28. fail - Goal cost:1->0 / Init cost:1->2 / branching: 2-> / edepth: 3/3 / 34.53 s (7)\n",
      "node: (('box1', 'top_p', 'vac2'),)->(('box1', 'front_f', 'goal'),):\n",
      "======================================================================================================================================================\n",
      "start set transition: \t1074.0 ms/3 = 358.108 ms \n",
      "set_simulate fun: \t26143.0 ms/3 = 8714.178 ms \n",
      "post: \t1269.0 ms/3 = 423.119 ms \n",
      "\n",
      "\n",
      "34. success - Goal cost:2->2 / Init cost:0->0 / branching: 0->13 / edepth: 3/3 / 34.66 s (9)\n",
      "node: (('box1', 'bottom_p', 'floor'),)->(('box1', 'bottom_p', 'floor'),):(('box1', 'bottom_p', 'floor'),)\n",
      "======================================================================================================================================================\n",
      "start set transition: \t1931.0 ms/4 = 482.813 ms \n",
      "set_simulate fun: \t25654.0 ms/4 = 6413.386 ms \n",
      "post: \t1137.0 ms/4 = 284.343 ms \n",
      "\n",
      "\n",
      "35. fail - Goal cost:2->2 / Init cost:0->0 / branching: 0-> / edepth: 3/3 / 34.78 s (8)\n",
      "node: (('box1', 'bottom_p', 'floor'),)->(('box1', 'bottom_p', 'floor'),):\n",
      "======================================================================================================================================================\n",
      "start set transition: \t1171.0 ms/3 = 390.263 ms \n",
      "set_simulate fun: \t28573.0 ms/3 = 9524.453 ms \n",
      "post: \t486.0 ms/3 = 161.851 ms \n",
      "\n",
      "\n",
      "33. fail - Goal cost:1->0 / Init cost:1->2 / branching: 5-> / edepth: 3/3 / 36.22 s (1)\n",
      "node: (('box1', 'top_p', 'vac2'),)->(('box1', 'front_f', 'goal'),):\n",
      "======================================================================================================================================================\n",
      "start set transition: \t831.0 ms/3 = 277.033 ms \n",
      "set_simulate fun: \t30924.0 ms/3 = 10307.859 ms \n",
      "post: \t961.0 ms/3 = 320.352 ms \n",
      "\n",
      "\n",
      "32. fail - Goal cost:1->0 / Init cost:1->2 / branching: 6-> / edepth: 3/3 / 37.79 s (2)\n",
      "node: (('box1', 'top_p', 'vac2'),)->(('box1', 'front_f', 'goal'),):\n",
      "======================================================================================================================================================\n"
     ]
    },
    {
     "name": "stdout",
     "output_type": "stream",
     "text": [
      "start set transition: \t1476.0 ms/4 = 369.059 ms \n",
      "set_simulate fun: \t30818.0 ms/4 = 7704.45 ms \n",
      "post: \t511.0 ms/4 = 127.721 ms \n",
      "\n",
      "\n",
      "39. fail - Goal cost:1->0 / Init cost:1->2 / branching: 8-> / edepth: 3/3 / 38.6 s (3)\n",
      "node: (('box1', 'back_p', 'grip1'),)->(('box1', 'front_f', 'goal'),):\n",
      "======================================================================================================================================================\n",
      "start set transition: \t2217.0 ms/4 = 554.181 ms \n",
      "set_simulate fun: \t23709.0 ms/3 = 7903.103 ms \n",
      "post: \t385.0 ms/3 = 128.413 ms \n",
      "\n",
      "\n",
      "40. success - Goal cost:1->0 / Init cost:1->2 / branching: 7->14 / edepth: 3/3 / 38.77 s (11)\n",
      "node: (('box1', 'left_p', 'grip1'),)->(('box1', 'front_f', 'goal'),):(('box1', 'front_f', 'goal'),)\n",
      "======================================================================================================================================================\n",
      "stop now!\n",
      "start set transition: \t1597.0 ms/4 = 399.327 ms \n",
      "set_simulate fun: \t27405.0 ms/4 = 6851.318 ms \n",
      "post: \t691.0 ms/4 = 172.869 ms \n",
      "\n",
      "\n",
      "38. fail - Goal cost:1->0 / Init cost:1->2 / branching: 9-> / edepth: 3/3 / 39.31 s (10)\n",
      "node: (('box1', 'front_p', 'grip1'),)->(('box1', 'front_f', 'goal'),):\n",
      "======================================================================================================================================================\n",
      "start set transition: \t1974.0 ms/4 = 493.574 ms \n",
      "set_simulate fun: \t30074.0 ms/4 = 7518.61 ms \n",
      "post: \t861.0 ms/4 = 215.365 ms \n",
      "\n",
      "\n",
      "42. fail - Goal cost:2->1 / Init cost:0->1 / branching: 10-> / edepth: 3/3 / 43.52 s (4)\n",
      "node: (('box1', 'bottom_p', 'floor'),)->(('box1', 'right_p', 'grip1'),):\n",
      "======================================================================================================================================================\n",
      "start set transition: \t1745.0 ms/4 = 436.203 ms \n",
      "set_simulate fun: \t33177.0 ms/4 = 8294.128 ms \n",
      "post: \t1144.0 ms/4 = 286.068 ms \n",
      "\n",
      "\n",
      "43. fail - Goal cost:2->1 / Init cost:0->1 / branching: 10-> / edepth: 3/3 / 43.73 s (0)\n",
      "node: (('box1', 'bottom_p', 'floor'),)->(('box1', 'back_p', 'grip1'),):\n",
      "======================================================================================================================================================\n",
      "start set transition: \t1866.0 ms/5 = 373.147 ms \n",
      "set_simulate fun: \t37207.0 ms/5 = 7441.352 ms \n",
      "post: \t878.0 ms/5 = 175.511 ms \n",
      "\n",
      "\n",
      "41. fail - Goal cost:2->1 / Init cost:0->1 / branching: 10-> / edepth: 3/3 / 43.9 s (5)\n",
      "node: (('box1', 'bottom_p', 'floor'),)->(('box1', 'top_p', 'grip1'),):\n",
      "======================================================================================================================================================\n",
      "start set transition: \t1810.0 ms/4 = 452.583 ms \n",
      "set_simulate fun: \t33399.0 ms/4 = 8349.692 ms \n",
      "post: \t846.0 ms/4 = 211.477 ms \n",
      "\n",
      "\n",
      "44. fail - Goal cost:2->1 / Init cost:0->1 / branching: 10-> / edepth: 3/3 / 44.56 s (6)\n",
      "node: (('box1', 'bottom_p', 'floor'),)->(('box1', 'front_p', 'vac2'),):\n",
      "======================================================================================================================================================\n",
      "start set transition: \t1629.0 ms/4 = 407.294 ms \n",
      "set_simulate fun: \t36451.0 ms/4 = 9112.693 ms \n",
      "post: \t486.0 ms/4 = 121.41 ms \n",
      "\n",
      "\n",
      "48. fail - Goal cost:2->1 / Init cost:0->1 / branching: 10-> / edepth: 3/3 / 44.75 s (1)\n",
      "node: (('box1', 'bottom_p', 'floor'),)->(('box1', 'back_p', 'vac2'),):\n",
      "======================================================================================================================================================\n",
      "start set transition: \t1386.0 ms/4 = 346.407 ms \n",
      "set_simulate fun: \t35296.0 ms/4 = 8824.102 ms \n",
      "post: \t1269.0 ms/4 = 317.365 ms \n",
      "\n",
      "\n",
      "46. fail - Goal cost:2->1 / Init cost:0->1 / branching: 10-> / edepth: 3/3 / 44.85 s (9)\n",
      "node: (('box1', 'bottom_p', 'floor'),)->(('box1', 'top_p', 'vac2'),):\n",
      "======================================================================================================================================================\n",
      "start set transition: \t2429.0 ms/5 = 485.854 ms \n",
      "set_simulate fun: \t34354.0 ms/5 = 6870.854 ms \n",
      "post: \t1173.0 ms/5 = 234.643 ms \n",
      "\n",
      "\n",
      "47. fail - Goal cost:2->1 / Init cost:0->1 / branching: 10-> / edepth: 3/3 / 44.93 s (8)\n",
      "node: (('box1', 'bottom_p', 'floor'),)->(('box1', 'right_p', 'vac2'),):\n",
      "======================================================================================================================================================\n",
      "start set transition: \t1497.0 ms/3 = 499.066 ms \n",
      "set_simulate fun: \t27752.0 ms/3 = 9250.797 ms \n",
      "post: \t1679.0 ms/3 = 559.584 ms \n",
      "\n",
      "\n",
      "45. fail - Goal cost:2->1 / Init cost:0->1 / branching: 10-> / edepth: 3/3 / 44.99 s (7)\n",
      "node: (('box1', 'bottom_p', 'floor'),)->(('box1', 'left_p', 'grip1'),):\n",
      "======================================================================================================================================================\n",
      "start set transition: \t1488.0 ms/4 = 371.959 ms \n",
      "set_simulate fun: \t38345.0 ms/4 = 9586.325 ms \n",
      "post: \t961.0 ms/4 = 240.287 ms \n",
      "\n",
      "\n",
      "49. fail - Goal cost:2->1 / Init cost:0->1 / branching: 13-> / edepth: 3/3 / 45.97 s (2)\n",
      "node: (('box1', 'bottom_p', 'floor'),)->(('box1', 'top_p', 'grip1'),):\n",
      "======================================================================================================================================================\n",
      "start set transition: \t1870.0 ms/5 = 374.068 ms \n",
      "set_simulate fun: \t37636.0 ms/5 = 7527.198 ms \n",
      "post: \t511.0 ms/5 = 102.194 ms \n",
      "\n",
      "\n",
      "50. fail - Goal cost:2->1 / Init cost:0->1 / branching: 13-> / edepth: 3/3 / 46.11 s (3)\n",
      "node: (('box1', 'bottom_p', 'floor'),)->(('box1', 'right_p', 'grip1'),):\n",
      "======================================================================================================================================================\n"
     ]
    }
   ],
   "source": [
    "if current_scenario == Scenario.custom_robots:\n",
    "    graph.search_graph_ordered_mp(\n",
    "        initial_state = State((('box1','bottom_p','floor'),),\n",
    "                              {'box1': [0.5,-0.3,0.05,0,0,0,1]}, ZERO_JOINT_POSE),\n",
    "        goal_state = State((('box1','front_f','goal'),), None, None), display=False,\n",
    "        search_num=3000, N_agents = 12, expand_depth_on_thread = True, \n",
    "        terminate_on_first = True, tree_margin = 4,\n",
    "        depth_margin = 2, joint_motion_num=10, \n",
    "        **dict(N=300, dt=0.01, vel_conv=1e-2, err_conv=5e-4))"
   ]
  },
  {
   "cell_type": "code",
   "execution_count": 16,
   "metadata": {
    "scrolled": true
   },
   "outputs": [
    {
     "data": {
      "image/png": "[encoded data removed]",
      "text/plain": [
       "<Figure size 720x720 with 1 Axes>"
      ]
     },
     "metadata": {
      "needs_background": "light"
     },
     "output_type": "display_data"
    }
   ],
   "source": [
    "graph.quiver_snodes()"
   ]
  },
  {
   "cell_type": "code",
   "execution_count": null,
   "metadata": {},
   "outputs": [],
   "source": []
  },
  {
   "cell_type": "markdown",
   "metadata": {},
   "source": [
    "# Replay schedule"
   ]
  },
  {
   "cell_type": "code",
   "execution_count": 17,
   "metadata": {
    "scrolled": true
   },
   "outputs": [
    {
     "name": "stdout",
     "output_type": "stream",
     "text": [
      "[0, 1, 7, 14]\n"
     ]
    },
    {
     "name": "stderr",
     "output_type": "stream",
     "text": [
      "pkg/utils.py:71: RuntimeWarning: divide by zero encountered in long_scalars\n",
      "  per_T= np.round(np.sum(self.time_dict[name])/self.count_dict[name], 3),\n"
     ]
    },
    {
     "name": "stdout",
     "output_type": "stream",
     "text": [
      "start set transition: \t0 ms/0 = 0 ms \n",
      "post: \t0.0 ms/1 = 0.085 ms \n",
      "\n",
      "\n",
      "--------------------\n",
      "1-(('box1', 'top_p', 'vac2'),)\n",
      "start set transition: \t0 ms/0 = 0 ms \n",
      "post: \t8.0 ms/2 = 4.164 ms \n",
      "\n",
      "\n",
      "--------------------\n",
      "7-(('box1', 'left_p', 'grip1'),)\n",
      "start set transition: \t0 ms/0 = 0 ms \n",
      "post: \t34.0 ms/3 = 11.374 ms \n",
      "\n",
      "\n",
      "--------------------\n",
      "14-(('box1', 'front_f', 'goal'),)\n",
      "start set transition: \t0 ms/0 = 0 ms \n",
      "post: \t50.0 ms/4 = 12.434 ms \n",
      "\n"
     ]
    }
   ],
   "source": [
    "schedule_dict = graph.find_schedules()\n",
    "schedule_sorted = graph.sort_schedule(schedule_dict)\n",
    "for schedule in schedule_sorted:\n",
    "    print(schedule)\n",
    "for schedule, i_s in zip(schedule_sorted, range(len(schedule_sorted))):\n",
    "    graph.simulate_transition(graph.snode_vec[0].state, graph.snode_vec[0].state, display=True, N=10, dt=0.01, vel_conv=1e-2, err_conv=5e-4)\n",
    "    timer.sleep(1)\n",
    "#     try:\n",
    "    e = graph.replay(schedule, execute=True, N=300, dt=0.01, N_step=5, vel_conv=1e-2, err_conv=5e-4)\n",
    "#     except Exception as e:\n",
    "#         print(e)"
   ]
  },
  {
   "cell_type": "code",
   "execution_count": 18,
   "metadata": {},
   "outputs": [],
   "source": [
    "# e = graph.replay(schedule, N=1500, dt=0.002, vel_conv=1e-2, err_conv=5e-3)"
   ]
  },
  {
   "cell_type": "code",
   "execution_count": null,
   "metadata": {},
   "outputs": [],
   "source": [
    "e.displayContext()"
   ]
  },
  {
   "cell_type": "code",
   "execution_count": null,
   "metadata": {},
   "outputs": [],
   "source": []
  },
  {
   "cell_type": "markdown",
   "metadata": {},
   "source": [
    "# Visualize"
   ]
  },
  {
   "cell_type": "code",
   "execution_count": null,
   "metadata": {},
   "outputs": [],
   "source": [
    "from pkg.graph_visualize import VisualGraph"
   ]
  },
  {
   "cell_type": "code",
   "execution_count": null,
   "metadata": {
    "scrolled": false
   },
   "outputs": [],
   "source": [
    "g = VisualGraph()\n",
    "\n",
    "# for node, neighbor in graph.node_dict.items(): # for visualizing all\n",
    "#     g.add_node(node,neighbor) # for visualizing all\n",
    "\n",
    "for node, neighbor in graph.valid_node_dict.items():\n",
    "    g.add_node(node,neighbor) # for visualizing all\n",
    "\n",
    "# for idx in schedule: # for visualizing schedule\n",
    "#     snode = graph.snode_vec[idx]\n",
    "#     leafs = [(leaf, graph.snode_vec[leaf]) for leaf in snode.leafs if leaf in schedule] # for visualizing schedule\n",
    "#     g.add_node(\"%d-\"%idx+str(snode.state.node),[\"%d-\"%i_l+str(leaf.state.node) for i_l, leaf in leafs]) # for visualizing schedule"
   ]
  },
  {
   "cell_type": "code",
   "execution_count": null,
   "metadata": {
    "scrolled": false
   },
   "outputs": [],
   "source": [
    "g.draw().render()\n",
    "g.draw(True)"
   ]
  },
  {
   "cell_type": "code",
   "execution_count": null,
   "metadata": {},
   "outputs": [],
   "source": []
  },
  {
   "cell_type": "code",
   "execution_count": null,
   "metadata": {},
   "outputs": [],
   "source": []
  },
  {
   "cell_type": "markdown",
   "metadata": {},
   "source": [
    "# delete all"
   ]
  },
  {
   "cell_type": "code",
   "execution_count": null,
   "metadata": {},
   "outputs": [],
   "source": [
    "for mkr in marker_list:\n",
    "    mkr.delete()"
   ]
  },
  {
   "cell_type": "code",
   "execution_count": null,
   "metadata": {},
   "outputs": [],
   "source": []
  },
  {
   "cell_type": "markdown",
   "metadata": {},
   "source": [
    "# Plotting (using the Bokeh library to provide interactive plots)"
   ]
  },
  {
   "cell_type": "code",
   "execution_count": null,
   "metadata": {},
   "outputs": [],
   "source": [
    "from bokeh.plotting import figure, show, output_notebook\n",
    "from bokeh.layouts import gridplot\n",
    "from etasl_py.bokehplots import plotv\n",
    "\n",
    "output_notebook()\n",
    "print(\"positions : \")\n",
    "plotv(e.TIME,e.POS,e.POS_LBL)\n",
    "print(\"velocities : \")\n",
    "plotv(e.TIME,e.VEL,e.POS_LBL)\n",
    "print(\"outputs : \")\n",
    "plotv(e.TIME,e.OUTP,e.OUTP_LBL)"
   ]
  },
  {
   "cell_type": "code",
   "execution_count": null,
   "metadata": {},
   "outputs": [],
   "source": []
  },
  {
   "cell_type": "code",
   "execution_count": null,
   "metadata": {},
   "outputs": [],
   "source": [
    "!urdf_to_graphiz $(rospack find etasl_py_examples)/robots/ur10_robot.urdf\n",
    "from graphviz import Source\n",
    "Source.from_file('ur10.gv')"
   ]
  },
  {
   "cell_type": "code",
   "execution_count": null,
   "metadata": {},
   "outputs": [],
   "source": []
  }
 ],
 "metadata": {
  "kernelspec": {
   "display_name": "Python 2",
   "language": "python",
   "name": "python2"
  },
  "language_info": {
   "codemirror_mode": {
    "name": "ipython",
    "version": 2
   },
   "file_extension": ".py",
   "mimetype": "text/x-python",
   "name": "python",
   "nbconvert_exporter": "python",
   "pygments_lexer": "ipython2",
   "version": "2.7.17"
  }
 },
 "nbformat": 4,
 "nbformat_minor": 2
}
