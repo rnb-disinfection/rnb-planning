{
 "cells": [
  {
   "cell_type": "markdown",
   "metadata": {},
   "source": [
    "# Graph "
   ]
  },
  {
   "cell_type": "code",
   "execution_count": 1,
   "metadata": {},
   "outputs": [
    {
     "data": {
      "text/html": [
       "<style>.container { width:90% !important; } </style>"
      ],
      "text/plain": [
       "<IPython.core.display.HTML object>"
      ]
     },
     "metadata": {},
     "output_type": "display_data"
    }
   ],
   "source": [
    "from __future__ import print_function\n",
    "from IPython.core.display import display, HTML\n",
    "display(HTML(\"<style>.container { width:90% !important; } </style>\"))"
   ]
  },
  {
   "cell_type": "code",
   "execution_count": 2,
   "metadata": {},
   "outputs": [],
   "source": [
    "from enum import Enum\n",
    "class Scenario(Enum):\n",
    "    single_object_single_robot = 0\n",
    "    double_object_single_robot = 1\n",
    "    single_object_dual_robot = 2\n",
    "    assembly_3_piece = 3"
   ]
  },
  {
   "cell_type": "code",
   "execution_count": 3,
   "metadata": {},
   "outputs": [],
   "source": [
    "current_scenario = Scenario.single_object_single_robot"
   ]
  },
  {
   "cell_type": "code",
   "execution_count": 4,
   "metadata": {},
   "outputs": [],
   "source": [
    "if current_scenario in [Scenario.single_object_dual_robot, Scenario.assembly_3_piece]:\n",
    "    from pkg.ur10_dual import URDF_PATH, JOINT_NAMES, LINK_NAMES, ZERO_JOINT_POSE, get_collision_items_dict\n",
    "else:\n",
    "    from pkg.ur10 import URDF_PATH, JOINT_NAMES, LINK_NAMES, ZERO_JOINT_POSE, get_collision_items_dict\n",
    "from pkg.constraint_graph import *\n",
    "import matplotlib.pyplot as plt\n",
    "from pkg.plot_utils import *\n",
    "from pkg.utils import *\n",
    "# from threading import Thread, Lock\n",
    "from multiprocessing import Process, Lock, Manager\n",
    "PROC_MODE = True"
   ]
  },
  {
   "cell_type": "code",
   "execution_count": 5,
   "metadata": {},
   "outputs": [],
   "source": [
    "graph = ConstraintGraph(urdf_path = URDF_PATH, joint_names = JOINT_NAMES, link_names = LINK_NAMES)\n",
    "graph.set_collision_items(get_collision_items_dict(graph.urdf_content, color=(0,1,0,0.5), display=False))"
   ]
  },
  {
   "cell_type": "code",
   "execution_count": null,
   "metadata": {},
   "outputs": [],
   "source": []
  },
  {
   "cell_type": "markdown",
   "metadata": {},
   "source": [
    "# Single object"
   ]
  },
  {
   "cell_type": "code",
   "execution_count": 6,
   "metadata": {},
   "outputs": [],
   "source": [
    "if current_scenario == Scenario.single_object_single_robot:\n",
    "    graph.add_collision_items(\"world\", \n",
    "                              [GeoBox((0.5,-0.2,0.050), (0.1,0.1,0.1), name=\"box1\", link_name=\"world\", urdf_content=graph.urdf_content, color=(0.3,0.3,0.8,1)),\n",
    "                               GeoBox((0,0,-0.005), (3,3,0.01), name=\"floor\", link_name=\"world\", urdf_content=graph.urdf_content, color=(0.6,0.6,0.6,1)),\n",
    "                               GeoBox((0.7,0.0,0.2), (0.7,0.05,0.4), name=\"wall\", link_name=\"world\", urdf_content=graph.urdf_content, color=(0.4,0.3,0.0,1)),\n",
    "                               GeoBox((0.4,0.4,0.15), (0.15,0.15,0.3), name=\"stepper\", link_name=\"world\", urdf_content=graph.urdf_content, color=(0.4,0.3,0.0,1)),\n",
    "                               GeoBox((0.4,0.4,0.3), (0.1,0.1,1e-3), name=\"goal_disp\", link_name=\"world\", urdf_content=graph.urdf_content, color=(0.8,0.0,0.0,1),\n",
    "                                      collision=False)])\n",
    "    \n",
    "    graph.register_binder(name='vac1', _type=VacuumTool, point=[0,0,0], link_name=\"tool0\", direction=[0,0,1])\n",
    "    graph.register_binder(name='floor', _type=PlacePlane, direction=[0,0,1])\n",
    "    graph.register_binder(name='goal', _type=PlaceFrame, point=(0.4,0.4,0.3+5e-4), link_name=\"world\", orientation=[0,0,0])\n",
    "\n",
    "    graph.register_object('box1', _type=BoxAction, binding=(\"bottom_p\",\"floor\"))\n",
    "\n",
    "    graph.update_handles()"
   ]
  },
  {
   "cell_type": "markdown",
   "metadata": {},
   "source": [
    "# Double object"
   ]
  },
  {
   "cell_type": "code",
   "execution_count": 7,
   "metadata": {},
   "outputs": [],
   "source": [
    "if current_scenario == Scenario.double_object_single_robot:\n",
    "    graph.add_collision_items(\"world\", [\n",
    "        GeoBox((0,0,-0.005), (3,3,0.01), name=\"floor\", link_name=\"world\", urdf_content=graph.urdf_content, color=(0.6,0.6,0.6,1)),\n",
    "        GeoBox((0.7,0.0,0.2), (0.7,0.05,0.4), name=\"wall\", link_name=\"world\", urdf_content=graph.urdf_content, color=(0.4,0.3,0.0,1)),\n",
    "        GeoBox((0.5,-0.2,0.050), (0.1,0.1,0.1), name=\"box1\", link_name=\"world\", urdf_content=graph.urdf_content, color=(0.3,0.3,0.8,1)),\n",
    "        GeoBox((0.4,-0.3,0.050), (0.1,0.1,0.1), name=\"box2\", link_name=\"world\", urdf_content=graph.urdf_content, color=(0.8,0.8,0.3,1)),\n",
    "        GeoBox((0.4,0.4,0.15), (0.3,0.3,0.3), name=\"stepper1\", link_name=\"world\", urdf_content=graph.urdf_content, color=(0.4,0.3,0.0,1)),\n",
    "        GeoBox((-0.1,-0.4,0.15), (0.3,0.3,0.3), name=\"stepper2\", link_name=\"world\", urdf_content=graph.urdf_content, color=(0.4,0.3,0.0,1)),\n",
    "        GeoBox((0.4,0.4,0.3), (0.2,0.2,1e-3), name=\"goal1_disp\", link_name=\"world\", urdf_content=graph.urdf_content, color=(0.0,0.0,0.8,1),\n",
    "               collision=False),\n",
    "        GeoBox((-0.1,-0.4,0.3), (0.2,0.2,1e-3), name=\"goal2_disp\", link_name=\"world\", urdf_content=graph.urdf_content, color=(0.8,0.8,0.0,1),\n",
    "               collision=False)])\n",
    "    \n",
    "    graph.register_binder(name='vac1', _type=VacuumTool, point=[0,0,1e-3], link_name=\"tool0\", direction=[0,0,1])\n",
    "    \n",
    "    graph.register_binder(name='floor', _type=PlacePlane, direction=[0,0,1])\n",
    "\n",
    "    graph.register_object('box1', _type=BoxAction, binding=(\"bottom_p\", \"floor\"), hexahedral=True)\n",
    "    graph.register_object('box2', _type=BoxAction, binding=(\"bottom_p\", \"floor\"), hexahedral=True)\n",
    "    graph.register_binder(name='box11', _type=PlacePlane, object_name=\"box1\", point=[0,0,0.05], direction=[0,0,1])\n",
    "    graph.register_binder(name='box12', _type=PlacePlane, object_name=\"box1\", point=[0.05,0,0.05], direction=[0,0,1])\n",
    "    graph.register_binder(name='box2', _type=PlacePlane, point=[0,0,0.05], direction=[0,0,1])\n",
    "    graph.register_binder(name='goal1', _type=PlacePlane, point=(0.4,0.4,0.3), link_name=\"world\", direction=[0,0,1])\n",
    "    graph.register_binder(name='goal2', _type=PlacePlane, point=(-0.1,-0.4,0.3+5e-4), link_name=\"world\", direction=[0,0,1])\n",
    "\n",
    "    graph.update_handles()"
   ]
  },
  {
   "cell_type": "markdown",
   "metadata": {},
   "source": [
    "# Single object Dual robot"
   ]
  },
  {
   "cell_type": "code",
   "execution_count": 8,
   "metadata": {},
   "outputs": [],
   "source": [
    "if current_scenario == Scenario.single_object_dual_robot:\n",
    "    graph.add_collision_items(\"world\", [\n",
    "        GeoMesh(uri=\"package://my_mesh/meshes/stl/AirPick_cup_ctd.stl\", BLH=(0.01,0.01,0.01), scale=(1e-3,1e-3,1e-3), name=\"gripper1\", link_name=\"tool0_1\", urdf_content=graph.urdf_content, color=(0.1,0.1,0.1,1)),\n",
    "        GeoMesh(uri=\"package://my_mesh/meshes/stl/AirPick_cup_ctd.stl\", BLH=(0.01,0.01,0.01), scale=(1e-3,1e-3,1e-3), name=\"gripper2\", link_name=\"tool0_2\", urdf_content=graph.urdf_content, color=(0.1,0.1,0.1,1)),\n",
    "        GeoBox((0,0,-0.005), (3,3,0.01), name=\"floor\", link_name=\"world\", urdf_content=graph.urdf_content, color=(1,1,1,1)),\n",
    "        GeoBox((-1,0.0,2.5), (0.1,10.0,5), name=\"wall_back\", link_name=\"world\", urdf_content=graph.urdf_content, color=(1,1,1,1)),\n",
    "        GeoBox((0,0.0,0.10), (2.0,0.03,0.20), name=\"wall1\", link_name=\"world\", urdf_content=graph.urdf_content, color=(0.4,0.3,0.0,1)),\n",
    "        GeoBox((0,0.0,1.4), (2.0,0.03,2), name=\"wall2\", link_name=\"world\", urdf_content=graph.urdf_content, color=(0.4,0.3,0.0,1)),\n",
    "        GeoBox((0.5,-0.2,0.050), (0.1,0.1,0.1), name=\"box1\", link_name=\"world\", urdf_content=graph.urdf_content, color=(0.3,0.3,0.8,1)),\n",
    "        GeoBox((0.4,0.4,0.0), (0.2,0.2,1e-3), name=\"goal_disp\", link_name=\"world\", urdf_content=graph.urdf_content, color=(0.0,0.0,0.8,1),\n",
    "               collision=False)])\n",
    "#         GeoBox((-1,0.0,2.5), (0.1,10.0,5), name=\"wall_back\", link_name=\"world\", urdf_content=graph.urdf_content, color=(1,1,1,1)),\n",
    "#         GeoBox((0,0.0,0.0), (2.0,0.03,0.01), name=\"wall1\", link_name=\"world\", urdf_content=graph.urdf_content, color=(0.4,0.3,0.0,1)), # no wall\n",
    "#         GeoBox((0,0.0,2), (2.0,0.03,0.01), name=\"wall2\", link_name=\"world\", urdf_content=graph.urdf_content, color=(0.4,0.3,0.0,1)), # no wall\n",
    "#         GeoBox((0,0.0,0.10), (2.0,0.03,0.20), name=\"wall1\", link_name=\"world\", urdf_content=graph.urdf_content, color=(0.4,0.3,0.0,1)), # lower wall\n",
    "#         GeoBox((0,0.0,2), (2.0,0.03,0.01), name=\"wall2\", link_name=\"world\", urdf_content=graph.urdf_content, color=(0.4,0.3,0.0,1)), # lower wall\n",
    "#         GeoBox((0,0.0,0.10), (2.0,0.03,0.20), name=\"wall1\", link_name=\"world\", urdf_content=graph.urdf_content, color=(0.4,0.3,0.0,1)), # 40cm\n",
    "#         GeoBox((0,0.0,1.6), (2.0,0.03,2), name=\"wall2\", link_name=\"world\", urdf_content=graph.urdf_content, color=(0.4,0.3,0.0,1)), # 40cm\n",
    "#         GeoBox((0,0.0,0.10), (2.0,0.03,0.20), name=\"wall1\", link_name=\"world\", urdf_content=graph.urdf_content, color=(0.4,0.3,0.0,1)), # 20cm\n",
    "#         GeoBox((0,0.0,1.4), (2.0,0.03,2), name=\"wall2\", link_name=\"world\", urdf_content=graph.urdf_content, color=(0.4,0.3,0.0,1)), # 20cm\n",
    "    \n",
    "    graph.register_binder(name='vac1', _type=VacuumTool, point=[0,0,5e-2], link_name=\"tool0_1\", direction=[0,0,1])\n",
    "    graph.register_binder(name='vac2', _type=VacuumTool, point=[0,0,5e-2], link_name=\"tool0_2\", direction=[0,0,1])\n",
    "    \n",
    "    graph.register_binder(name='floor', _type=PlacePlane, direction=[0,0,1])\n",
    "    graph.register_binder(name='goal1', _type=PlacePlane, point=(0.4,0.4,0.0+5e-4), link_name=\"world\", direction=[0,0,1])\n",
    "    graph.register_object('box1', _type=BoxAction, binding=(\"bottom_p\", \"floor\"), hexahedral=True)\n",
    "\n",
    "    graph.update_handles()"
   ]
  },
  {
   "cell_type": "markdown",
   "metadata": {},
   "source": [
    "# Assembly 3 piece"
   ]
  },
  {
   "cell_type": "code",
   "execution_count": 9,
   "metadata": {},
   "outputs": [],
   "source": [
    "if current_scenario == Scenario.assembly_3_piece:\n",
    "    graph.add_collision_items(\"world\", [\n",
    "        GeoMesh(uri=\"package://my_mesh/meshes/stl/AirPick_cup_ctd.stl\", BLH=(0.01,0.01,0.01), scale=(1e-3,1e-3,1e-3), name=\"gripper1\", link_name=\"tool0_1\", urdf_content=graph.urdf_content, color=(0.1,0.1,0.1,1)),\n",
    "        GeoMesh(uri=\"package://my_mesh/meshes/stl/AirPick_cup_ctd.stl\", BLH=(0.01,0.01,0.01), scale=(1e-3,1e-3,1e-3), name=\"gripper2\", link_name=\"tool0_2\", urdf_content=graph.urdf_content, color=(0.1,0.1,0.1,1)),\n",
    "        GeoBox((0,0,-0.005), (10,10,0.01), name=\"floor\", link_name=\"world\", urdf_content=graph.urdf_content, color=(1,1,1,1)),\n",
    "        GeoBox((-1,0.0,2.5), (0.1,10.0,5), name=\"wall_back\", link_name=\"world\", urdf_content=graph.urdf_content, color=(1,1,1,1)),\n",
    "        GeoBox((0.5,0.0,0.050), (0.1,0.4,0.1), name=\"box1\", link_name=\"world\", urdf_content=graph.urdf_content, color=(0.3,0.3,0.8,1)),\n",
    "        GeoBox((0.5,0.3,0.050), (0.1,0.1,0.1), name=\"box2\", link_name=\"world\", urdf_content=graph.urdf_content, color=(0.8,0.3,0.3,1)),\n",
    "        GeoBox((0.5,-0.3,0.050), (0.1,0.1,0.1), name=\"box3\", link_name=\"world\", urdf_content=graph.urdf_content, color=(0.8,0.3,0.3,1)),\n",
    "        GeoBox((0.5,-1.1,0.0), (0.2,0.2,1e-3), name=\"goal_disp\", link_name=\"world\", urdf_content=graph.urdf_content, color=(0.0,0.0,0.8,1),\n",
    "               collision=False)])\n",
    "#        GeoBox((0.4,0.4,0.15), (0.3,0.3,0.3), name=\"stepper1\", link_name=\"world\", urdf_content=graph.urdf_content, color=(0.4,0.3,0.0,1)),\n",
    "    \n",
    "    graph.register_binder(name='vac1', _type=VacuumTool, point=[0,0,5e-2], link_name=\"tool0_1\", direction=[0,0,1])\n",
    "    graph.register_binder(name='vac2', _type=VacuumTool, point=[0,0,5e-2], link_name=\"tool0_2\", direction=[0,0,1])\n",
    "    \n",
    "    graph.register_binder(name='floor', _type=PlacePlane, direction=[0,0,1])\n",
    "    graph.register_binder(name='goal1', _type=PlacePlane, point=(0.5,-1.1,0.0+5e-4), link_name=\"world\", direction=[0,0,1])\n",
    "    graph.register_binder(name='asm1', _type=PlaceFrame, object_name=\"box1\", point=[0,0.15,0.05], orientation=(0,0,0))\n",
    "    graph.register_binder(name='asm2', _type=PlaceFrame, object_name=\"box1\", point=[0,-0.15,0.05], orientation=(0,0,0))\n",
    "\n",
    "    graph.register_object('box1', _type=BoxAction, binding=(\"bottom_p\", \"floor\"))\n",
    "    graph.register_object('box2', _type=BoxAction, binding=(\"bottom_p\", \"floor\"))\n",
    "    graph.register_object('box3', _type=BoxAction, binding=(\"bottom_p\", \"floor\"))\n",
    "\n",
    "    graph.update_handles()"
   ]
  },
  {
   "cell_type": "markdown",
   "metadata": {},
   "source": [
    "# vis"
   ]
  },
  {
   "cell_type": "code",
   "execution_count": 10,
   "metadata": {},
   "outputs": [],
   "source": [
    "# if current_scenario == Scenario.single_object_dual_robot:\n",
    "#     graph.add_collision_items(\"world\", [\n",
    "#         GeoBox((0,0,-0.005), (3,3,0.01), name=\"floor\", link_name=\"world\", urdf_content=graph.urdf_content, color=(0.8,0.8,0.8,1)),\n",
    "#         GeoSegment((0.3,-0.25,0.21), 'Y', 0.5, 0.01, name=\"wall1\", link_name=\"world\", urdf_content=graph.urdf_content, color=(0.1,0.1,0.1,1)),\n",
    "#         GeoSegment((0.3,0,0.21), 'X', 0.2, 0.01, name=\"wallx\", link_name=\"world\", urdf_content=graph.urdf_content, color=(0.1,0.1,0.1,1)),\n",
    "#         GeoBox((0.4,0.0,0.1), (0.5,1.0,0.2), name=\"wall2\", link_name=\"world\", urdf_content=graph.urdf_content, color=(0.4,0.3,0.0,1)),\n",
    "#         GeoBox((0.5,-0.2,0.050), (0.1,0.1,0.1), name=\"box1\", link_name=\"world\", urdf_content=graph.urdf_content, color=(0.3,0.3,0.8,1), display=False),\n",
    "#         GeoBox((0.4,0.4,0.15), (0.3,0.3,0.3), name=\"stepper1\", link_name=\"world\", urdf_content=graph.urdf_content, color=(0.4,0.3,0.0,1), display=False),\n",
    "#         GeoBox((0.4,0.4,0.3), (0.2,0.2,1e-3), name=\"goal_disp\", link_name=\"world\", urdf_content=graph.urdf_content, color=(0.0,0.0,0.8,1),\n",
    "#                collision=False, display=False)])\n",
    "    \n",
    "#     graph.register_binder(name='vac1', _type=VacuumTool, point=[0,0,1e-3], link_name=\"tool0_1\", direction=[0,0,1])\n",
    "#     graph.register_binder(name='vac2', _type=VacuumTool, point=[0,0,1e-3], link_name=\"tool0_2\", direction=[0,0,1])\n",
    "    \n",
    "#     graph.register_binder(name='floor', _type=PlacePlane, direction=[0,0,1])\n",
    "#     graph.register_binder(name='goal1', _type=PlacePlane, point=(0.4,0.4,0.3+5e-4), link_name=\"world\", direction=[0,0,1])\n",
    "\n",
    "#     graph.register_object('box1', _type=BoxAction, binding=(\"bottom_p\", \"floor\"))\n",
    "\n",
    "#     graph.update_handles()"
   ]
  },
  {
   "cell_type": "markdown",
   "metadata": {},
   "source": [
    "# Set RVIZ"
   ]
  },
  {
   "cell_type": "code",
   "execution_count": 11,
   "metadata": {},
   "outputs": [
    {
     "name": "stdout",
     "output_type": "stream",
     "text": [
      "Please create a subscriber to the marker\n",
      "publication OK\n",
      "published: [0, 0, 0, 0, 0, 0]\n",
      "Please create a subscriber to the marker\n",
      "publication OK\n",
      "publication OK\n",
      "publication OK\n",
      "publication OK\n",
      "publication OK\n"
     ]
    }
   ],
   "source": [
    "graph.set_simulation(nWSR=50, regularization_factor= 1e-1)"
   ]
  },
  {
   "cell_type": "markdown",
   "metadata": {},
   "source": [
    "# build"
   ]
  },
  {
   "cell_type": "code",
   "execution_count": 12,
   "metadata": {},
   "outputs": [],
   "source": [
    "graph.build_graph()"
   ]
  },
  {
   "cell_type": "markdown",
   "metadata": {},
   "source": [
    "# Search Graph (Single object)"
   ]
  },
  {
   "cell_type": "code",
   "execution_count": 13,
   "metadata": {
    "scrolled": true
   },
   "outputs": [
    {
     "name": "stdout",
     "output_type": "stream",
     "text": [
      "\n",
      "1. success - Goal cost:2->1 / Init cost:0->1 / branching: 0->1 / edepth: 2/2 / 0.29 s (10)\n",
      "node: (('box1', 'bottom_p', 'floor'),)->(('box1', 'top_p', 'vac1'),):(('box1', 'top_p', 'vac1'),)\n",
      "======================================================================================================================================================\n",
      "\n",
      "2. fail - Goal cost:1->0 / Init cost:1->2 / branching: 1-> / edepth: 2/2 / 0.73 s (0)\n",
      "node: (('box1', 'top_p', 'vac1'),)->(('box1', 'bottom_f', 'goal'),):\n",
      "======================================================================================================================================================\n",
      "register depth_buffer = 3.0\n",
      "current depth = 3.0\n",
      "\n",
      "3. success - Goal cost:1->1 / Init cost:1->1 / branching: 1->2 / edepth: 3/3 / 1.08 s (1)\n",
      "node: (('box1', 'top_p', 'vac1'),)->(('box1', 'top_p', 'vac1'),):(('box1', 'top_p', 'vac1'),)\n",
      "======================================================================================================================================================\n",
      "\n",
      "5. success - Goal cost:1->1 / Init cost:1->1 / branching: 1->3 / edepth: 3/3 / 1.15 s (3)\n",
      "node: (('box1', 'top_p', 'vac1'),)->(('box1', 'top_p', 'vac1'),):(('box1', 'top_p', 'vac1'),)\n",
      "======================================================================================================================================================\n",
      "\n",
      "4. fail - Goal cost:1->1 / Init cost:1->1 / branching: 1-> / edepth: 3/3 / 1.22 s (2)\n",
      "node: (('box1', 'top_p', 'vac1'),)->(('box1', 'top_p', 'vac1'),):\n",
      "======================================================================================================================================================\n",
      "\n",
      "6. fail - Goal cost:1->1 / Init cost:1->1 / branching: 1-> / edepth: 3/3 / 1.25 s (4)\n",
      "node: (('box1', 'top_p', 'vac1'),)->(('box1', 'top_p', 'vac1'),):\n",
      "======================================================================================================================================================\n",
      "\n",
      "7. fail - Goal cost:1->1 / Init cost:1->1 / branching: 1-> / edepth: 3/3 / 1.29 s (5)\n",
      "node: (('box1', 'top_p', 'vac1'),)->(('box1', 'top_p', 'vac1'),):\n",
      "======================================================================================================================================================\n",
      "\n",
      "9. success - Goal cost:1->1 / Init cost:1->1 / branching: 1->4 / edepth: 3/3 / 1.31 s (7)\n",
      "node: (('box1', 'top_p', 'vac1'),)->(('box1', 'top_p', 'vac1'),):(('box1', 'top_p', 'vac1'),)\n",
      "======================================================================================================================================================\n",
      "\n",
      "11. success - Goal cost:1->1 / Init cost:1->1 / branching: 1->5 / edepth: 3/3 / 1.36 s (9)\n",
      "node: (('box1', 'top_p', 'vac1'),)->(('box1', 'top_p', 'vac1'),):(('box1', 'top_p', 'vac1'),)\n",
      "======================================================================================================================================================\n",
      "\n",
      "10. success - Goal cost:1->1 / Init cost:1->1 / branching: 1->6 / edepth: 3/3 / 1.42 s (8)\n",
      "node: (('box1', 'top_p', 'vac1'),)->(('box1', 'top_p', 'vac1'),):(('box1', 'top_p', 'vac1'),)\n",
      "======================================================================================================================================================\n",
      "\n",
      "12. fail - Goal cost:1->1 / Init cost:1->1 / branching: 1-> / edepth: 3/3 / 1.45 s (11)\n",
      "node: (('box1', 'top_p', 'vac1'),)->(('box1', 'top_p', 'vac1'),):\n",
      "======================================================================================================================================================\n",
      "\n",
      "13. fail - Goal cost:1->1 / Init cost:1->1 / branching: 1-> / edepth: 3/3 / 1.48 s (10)\n",
      "node: (('box1', 'top_p', 'vac1'),)->(('box1', 'top_p', 'vac1'),):\n",
      "======================================================================================================================================================\n",
      "\n",
      "8. fail - Goal cost:1->1 / Init cost:1->1 / branching: 1-> / edepth: 3/3 / 1.5 s (6)\n",
      "node: (('box1', 'top_p', 'vac1'),)->(('box1', 'top_p', 'vac1'),):\n",
      "======================================================================================================================================================\n",
      "\n",
      "14. fail - Goal cost:1->1 / Init cost:1->1 / branching: 1-> / edepth: 3/3 / 1.59 s (0)\n",
      "node: (('box1', 'top_p', 'vac1'),)->(('box1', 'top_p', 'vac1'),):\n",
      "======================================================================================================================================================\n",
      "\n",
      "15. fail - Goal cost:1->1 / Init cost:1->1 / branching: 1-> / edepth: 3/3 / 1.68 s (1)\n",
      "node: (('box1', 'top_p', 'vac1'),)->(('box1', 'top_p', 'vac1'),):\n",
      "======================================================================================================================================================\n",
      "\n",
      "17. fail - Goal cost:1->1 / Init cost:1->1 / branching: 1-> / edepth: 3/3 / 1.72 s (2)\n",
      "node: (('box1', 'top_p', 'vac1'),)->(('box1', 'top_p', 'vac1'),):\n",
      "======================================================================================================================================================\n",
      "\n",
      "18. success - Goal cost:1->1 / Init cost:1->1 / branching: 1->7 / edepth: 3/3 / 1.76 s (4)\n",
      "node: (('box1', 'top_p', 'vac1'),)->(('box1', 'top_p', 'vac1'),):(('box1', 'top_p', 'vac1'),)\n",
      "======================================================================================================================================================\n",
      "\n",
      "16. fail - Goal cost:1->1 / Init cost:1->1 / branching: 1-> / edepth: 3/3 / 1.85 s (3)\n",
      "node: (('box1', 'top_p', 'vac1'),)->(('box1', 'top_p', 'vac1'),):\n",
      "======================================================================================================================================================\n",
      "\n",
      "19. fail - Goal cost:1->1 / Init cost:1->1 / branching: 1-> / edepth: 3/3 / 1.88 s (5)\n",
      "node: (('box1', 'top_p', 'vac1'),)->(('box1', 'top_p', 'vac1'),):\n",
      "======================================================================================================================================================\n",
      "\n",
      "20. fail - Goal cost:1->1 / Init cost:1->1 / branching: 1-> / edepth: 3/3 / 1.93 s (7)\n",
      "node: (('box1', 'top_p', 'vac1'),)->(('box1', 'top_p', 'vac1'),):\n",
      "======================================================================================================================================================\n",
      "\n",
      "21. fail - Goal cost:1->1 / Init cost:1->1 / branching: 1-> / edepth: 3/3 / 1.94 s (9)\n",
      "node: (('box1', 'top_p', 'vac1'),)->(('box1', 'top_p', 'vac1'),):\n",
      "======================================================================================================================================================\n",
      "\n",
      "24. success - Goal cost:1->1 / Init cost:1->1 / branching: 1->8 / edepth: 3/3 / 1.99 s (10)\n",
      "node: (('box1', 'top_p', 'vac1'),)->(('box1', 'top_p', 'vac1'),):(('box1', 'top_p', 'vac1'),)\n",
      "======================================================================================================================================================\n",
      "\n",
      "23. fail - Goal cost:1->1 / Init cost:1->1 / branching: 1-> / edepth: 3/3 / 2.02 s (11)\n",
      "node: (('box1', 'top_p', 'vac1'),)->(('box1', 'top_p', 'vac1'),):\n",
      "======================================================================================================================================================\n",
      "\n",
      "25. fail - Goal cost:1->1 / Init cost:1->1 / branching: 1-> / edepth: 3/3 / 2.08 s (6)\n",
      "node: (('box1', 'top_p', 'vac1'),)->(('box1', 'top_p', 'vac1'),):\n",
      "======================================================================================================================================================\n",
      "\n",
      "22. fail - Goal cost:1->1 / Init cost:1->1 / branching: 1-> / edepth: 3/3 / 2.15 s (8)\n",
      "node: (('box1', 'top_p', 'vac1'),)->(('box1', 'top_p', 'vac1'),):\n",
      "======================================================================================================================================================\n",
      "\n",
      "28. fail - Goal cost:1->1 / Init cost:1->1 / branching: 1-> / edepth: 3/3 / 2.3 s (2)\n",
      "node: (('box1', 'top_p', 'vac1'),)->(('box1', 'top_p', 'vac1'),):\n",
      "======================================================================================================================================================\n"
     ]
    },
    {
     "name": "stdout",
     "output_type": "stream",
     "text": [
      "\n",
      "29. fail - Goal cost:1->1 / Init cost:1->1 / branching: 1-> / edepth: 3/3 / 2.38 s (4)\n",
      "node: (('box1', 'top_p', 'vac1'),)->(('box1', 'top_p', 'vac1'),):\n",
      "======================================================================================================================================================\n",
      "\n",
      "26. fail - Goal cost:1->1 / Init cost:1->1 / branching: 1-> / edepth: 3/3 / 2.45 s (0)\n",
      "node: (('box1', 'top_p', 'vac1'),)->(('box1', 'top_p', 'vac1'),):\n",
      "======================================================================================================================================================\n",
      "\n",
      "31. fail - Goal cost:1->1 / Init cost:1->1 / branching: 1-> / edepth: 3/3 / 2.47 s (5)\n",
      "node: (('box1', 'top_p', 'vac1'),)->(('box1', 'top_p', 'vac1'),):\n",
      "======================================================================================================================================================\n",
      "\n",
      "27. fail - Goal cost:1->1 / Init cost:1->1 / branching: 1-> / edepth: 3/3 / 2.56 s (1)\n",
      "node: (('box1', 'top_p', 'vac1'),)->(('box1', 'top_p', 'vac1'),):\n",
      "======================================================================================================================================================\n",
      "\n",
      "30. fail - Goal cost:1->1 / Init cost:1->1 / branching: 1-> / edepth: 3/3 / 2.56 s (3)\n",
      "node: (('box1', 'top_p', 'vac1'),)->(('box1', 'top_p', 'vac1'),):\n",
      "======================================================================================================================================================\n",
      "\n",
      "34. success - Goal cost:1->1 / Init cost:1->1 / branching: 1->9 / edepth: 3/3 / 2.59 s (10)\n",
      "node: (('box1', 'top_p', 'vac1'),)->(('box1', 'top_p', 'vac1'),):(('box1', 'top_p', 'vac1'),)\n",
      "======================================================================================================================================================\n",
      "\n",
      "33. fail - Goal cost:1->1 / Init cost:1->1 / branching: 1-> / edepth: 3/3 / 2.62 s (9)\n",
      "node: (('box1', 'top_p', 'vac1'),)->(('box1', 'top_p', 'vac1'),):\n",
      "======================================================================================================================================================\n",
      "\n",
      "32. success - Goal cost:1->0 / Init cost:1->2 / branching: 3->10 / edepth: 3/3 / 2.65 s (7)\n",
      "node: (('box1', 'top_p', 'vac1'),)->(('box1', 'bottom_f', 'goal'),):(('box1', 'bottom_f', 'goal'),)\n",
      "======================================================================================================================================================\n",
      "stop now!\n",
      "\n",
      "37. success - Goal cost:1->1 / Init cost:1->1 / branching: 1->11 / edepth: 3/3 / 2.72 s (8)\n",
      "node: (('box1', 'top_p', 'vac1'),)->(('box1', 'top_p', 'vac1'),):(('box1', 'top_p', 'vac1'),)\n",
      "======================================================================================================================================================\n",
      "\n",
      "35. fail - Goal cost:1->1 / Init cost:1->1 / branching: 1-> / edepth: 3/3 / 2.77 s (11)\n",
      "node: (('box1', 'top_p', 'vac1'),)->(('box1', 'top_p', 'vac1'),):\n",
      "======================================================================================================================================================\n",
      "\n",
      "36. success - Goal cost:1->0 / Init cost:1->2 / branching: 4->12 / edepth: 3/3 / 2.86 s (6)\n",
      "node: (('box1', 'top_p', 'vac1'),)->(('box1', 'bottom_f', 'goal'),):(('box1', 'bottom_f', 'goal'),)\n",
      "======================================================================================================================================================\n",
      "stop now!\n",
      "\n",
      "40. success - Goal cost:1->1 / Init cost:1->1 / branching: 1->13 / edepth: 3/3 / 2.96 s (0)\n",
      "node: (('box1', 'top_p', 'vac1'),)->(('box1', 'top_p', 'vac1'),):(('box1', 'top_p', 'vac1'),)\n",
      "======================================================================================================================================================\n",
      "depth 3 full registered\n",
      "\n",
      "38. fail - Goal cost:1->1 / Init cost:1->1 / branching: 1-> / edepth: 3/3 / 3.06 s (2)\n",
      "node: (('box1', 'top_p', 'vac1'),)->(('box1', 'top_p', 'vac1'),):\n",
      "======================================================================================================================================================\n",
      "\n",
      "43. fail - Goal cost:1->1 / Init cost:1->1 / branching: 1-> / edepth: 3/3 / 3.11 s (3)\n",
      "node: (('box1', 'top_p', 'vac1'),)->(('box1', 'top_p', 'vac1'),):\n",
      "======================================================================================================================================================\n",
      "\n",
      "39. fail - Goal cost:1->1 / Init cost:1->1 / branching: 1-> / edepth: 3/3 / 3.13 s (4)\n",
      "node: (('box1', 'top_p', 'vac1'),)->(('box1', 'top_p', 'vac1'),):\n",
      "======================================================================================================================================================\n",
      "\n",
      "44. success - Goal cost:1->0 / Init cost:1->2 / branching: 6->14 / edepth: 3/3 / 3.16 s (10)\n",
      "node: (('box1', 'top_p', 'vac1'),)->(('box1', 'bottom_f', 'goal'),):(('box1', 'bottom_f', 'goal'),)\n",
      "======================================================================================================================================================\n",
      "stop now!\n",
      "\n",
      "41. fail - Goal cost:1->1 / Init cost:1->1 / branching: 1-> / edepth: 3/3 / 3.19 s (5)\n",
      "node: (('box1', 'top_p', 'vac1'),)->(('box1', 'top_p', 'vac1'),):\n",
      "======================================================================================================================================================\n",
      "\n",
      "42. fail - Goal cost:1->1 / Init cost:1->1 / branching: 1-> / edepth: 3/3 / 3.22 s (1)\n",
      "node: (('box1', 'top_p', 'vac1'),)->(('box1', 'top_p', 'vac1'),):\n",
      "======================================================================================================================================================\n",
      "\n",
      "45. fail - Goal cost:1->1 / Init cost:1->1 / branching: 1-> / edepth: 3/3 / 3.39 s (9)\n",
      "node: (('box1', 'top_p', 'vac1'),)->(('box1', 'top_p', 'vac1'),):\n",
      "======================================================================================================================================================\n"
     ]
    }
   ],
   "source": [
    "if current_scenario == Scenario.single_object_single_robot:\n",
    "    graph.search_graph_ordered_mp(initial_state = \\\n",
    "                                  State((('box1','bottom_p','floor'),), \n",
    "                                        {'box1': [0.5,-0.2,0.05,0,0,0,1]}, ZERO_JOINT_POSE),\n",
    "                                  goal_state = State((('box1','bottom_f','goal'),), None, None),\n",
    "                                  search_num=200, display=False, N_agents = 12,\n",
    "                                  terminate_on_first = True, tree_margin = 0,\n",
    "                                  depth_margin = 2, joint_motion_num=50, \n",
    "                                  **dict(N=300, dt=0.01, vel_conv=1e-2, err_conv=1e-3))"
   ]
  },
  {
   "cell_type": "markdown",
   "metadata": {},
   "source": [
    "# Search Graph (Double object)"
   ]
  },
  {
   "cell_type": "code",
   "execution_count": 14,
   "metadata": {},
   "outputs": [],
   "source": [
    "if current_scenario == Scenario.double_object_single_robot:\n",
    "    graph.search_graph_ordered_mp(initial_state = State((('box1','bottom_p','floor'),('box2','bottom_p','floor')),\n",
    "                                                        {'box1': [0.5,-0.2,0.05,0,0,0,1], 'box2': [0.4,-0.3,0.05,0,0,0,1]}, ZERO_JOINT_POSE),\n",
    "                                  goal_state = State((('box1','bottom_p','goal1'),('box2','bottom_p','goal2')), None, None),\n",
    "                                  search_num=1000, display=False, N_agents = 12,\n",
    "                                  terminate_on_first = False, tree_margin = 2,\n",
    "                                  depth_margin = 3, joint_motion_num=10,\n",
    "                                  **dict(N=200, dt=0.01, vel_conv=1e-2, err_conv=1e-3))"
   ]
  },
  {
   "cell_type": "markdown",
   "metadata": {},
   "source": [
    "# Search Graph (Single object Dual robot)"
   ]
  },
  {
   "cell_type": "code",
   "execution_count": 15,
   "metadata": {},
   "outputs": [],
   "source": [
    "if current_scenario == Scenario.single_object_dual_robot:\n",
    "    graph.search_graph_ordered_mp(initial_state = State((('box1','bottom_p','floor'),),\n",
    "                                                        {'box1': [0.5,-0.2,0.05,0,0,0,1]}, ZERO_JOINT_POSE),\n",
    "                                  goal_state = State((('box1','bottom_p','goal1'),), None, None),\n",
    "                                  search_num=3000, display=False, N_agents = 12,\n",
    "                                  terminate_on_first = True, tree_margin = 0,\n",
    "                                  depth_margin = 2, joint_motion_num=10,\n",
    "                                  expand_depth_on_thread = True, **dict(N=200, dt=0.01, vel_conv=1e-2, err_conv=5e-4))"
   ]
  },
  {
   "cell_type": "markdown",
   "metadata": {},
   "source": [
    "# Assembly 3 piece"
   ]
  },
  {
   "cell_type": "code",
   "execution_count": 16,
   "metadata": {},
   "outputs": [],
   "source": [
    "if current_scenario == Scenario.assembly_3_piece:\n",
    "    init_state = State(*(graph.get_object_state()+(ZERO_JOINT_POSE,)))\n",
    "    goal_state = State(*((('box1', 'bottom_p', 'goal1'),\n",
    "                          ('box2', 'bottom_f', 'asm1'),\n",
    "                          ('box3', 'bottom_f', 'asm2')),None, None))\n",
    "    graph.search_graph_ordered_mp(initial_state = init_state,\n",
    "                                  goal_state = goal_state,\n",
    "                                  search_num=500, display=False, N_agents = 8,\n",
    "                                  terminate_on_first = True, tree_margin = 1,\n",
    "                                  depth_margin = 2, joint_motion_num=10,\n",
    "                                  expand_depth_on_thread = True, **dict(N=200, dt=0.01, vel_conv=1e-2, err_conv=5e-4))"
   ]
  },
  {
   "cell_type": "code",
   "execution_count": 17,
   "metadata": {},
   "outputs": [
    {
     "data": {
      "text/plain": [
       "[<matplotlib.lines.Line2D at 0x7ff137971250>]"
      ]
     },
     "execution_count": 17,
     "metadata": {},
     "output_type": "execute_result"
    },
    {
     "data": {
      "image/png": "[encoded data removed]",
      "text/plain": [
       "<Figure size 2160x360 with 2 Axes>"
      ]
     },
     "metadata": {
      "needs_background": "light"
     },
     "output_type": "display_data"
    }
   ],
   "source": [
    "time_table = np.array(graph.time_table)\n",
    "plt.figure(figsize=(30,5))\n",
    "plt.subplot(1,2,1)\n",
    "plt.plot(time_table[:,0])\n",
    "plt.plot(time_table[:,1])\n",
    "plt.plot(time_table[:,2])\n",
    "plt.plot(time_table[:,3])\n",
    "plt.plot(time_table[:,4])\n",
    "plt.legend(['1','2','3','4','5'])\n",
    "plt.subplot(1,2,2)\n",
    "plt.plot(graph.itor_vec, graph.time_vec,'.')"
   ]
  },
  {
   "cell_type": "code",
   "execution_count": 18,
   "metadata": {
    "scrolled": false
   },
   "outputs": [
    {
     "data": {
      "image/png": "[encoded data removed]",
      "text/plain": [
       "<Figure size 720x720 with 1 Axes>"
      ]
     },
     "metadata": {
      "needs_background": "light"
     },
     "output_type": "display_data"
    }
   ],
   "source": [
    "graph.quiver_snodes()"
   ]
  },
  {
   "cell_type": "code",
   "execution_count": null,
   "metadata": {},
   "outputs": [],
   "source": []
  },
  {
   "cell_type": "markdown",
   "metadata": {},
   "source": [
    "# Replay schedule"
   ]
  },
  {
   "cell_type": "code",
   "execution_count": 19,
   "metadata": {},
   "outputs": [
    {
     "name": "stdout",
     "output_type": "stream",
     "text": [
      "[0, 1, 3, 10]\n",
      "[0, 1, 4, 12]\n",
      "[0, 1, 6, 14]\n",
      "\n",
      "--------------------\n",
      "1-(('box1', 'top_p', 'vac1'),)\n",
      "\n",
      "--------------------\n",
      "3-(('box1', 'top_p', 'vac1'),)\n",
      "\n",
      "--------------------\n",
      "10-(('box1', 'bottom_f', 'goal'),)\n",
      "\n",
      "--------------------\n",
      "1-(('box1', 'top_p', 'vac1'),)\n",
      "\n",
      "--------------------\n",
      "4-(('box1', 'top_p', 'vac1'),)\n",
      "\n",
      "--------------------\n",
      "12-(('box1', 'bottom_f', 'goal'),)\n",
      "\n",
      "--------------------\n",
      "1-(('box1', 'top_p', 'vac1'),)\n",
      "\n",
      "--------------------\n",
      "6-(('box1', 'top_p', 'vac1'),)\n",
      "\n",
      "--------------------\n",
      "14-(('box1', 'bottom_f', 'goal'),)\n"
     ]
    }
   ],
   "source": [
    "schedule_dict = graph.find_schedules()\n",
    "schedule_sorted = graph.sort_schedule(schedule_dict)\n",
    "for schedule in schedule_sorted:\n",
    "    print(schedule)\n",
    "for schedule, i_s in zip(schedule_sorted, range(len(schedule_sorted))):\n",
    "    graph.simulate_transition(graph.snode_vec[0].state, graph.snode_vec[0].state, display=True, N=100, dt=0.01, vel_conv=1e-2, err_conv=1e-3)\n",
    "    timer.sleep(1)\n",
    "#     try:\n",
    "    e = graph.replay(schedule, N=300, dt=0.01, vel_conv=5e-2, err_conv=1e-2)\n",
    "#     except Exception as e:\n",
    "#         print(e)"
   ]
  },
  {
   "cell_type": "code",
   "execution_count": null,
   "metadata": {},
   "outputs": [],
   "source": [
    "# e = graph.replay(schedule, N=1500, dt=0.002, vel_conv=1e-2, err_conv=5e-3)"
   ]
  },
  {
   "cell_type": "code",
   "execution_count": null,
   "metadata": {},
   "outputs": [],
   "source": []
  },
  {
   "cell_type": "markdown",
   "metadata": {},
   "source": [
    "# Visualize"
   ]
  },
  {
   "cell_type": "code",
   "execution_count": null,
   "metadata": {},
   "outputs": [],
   "source": [
    "from pkg.graph_visualize import VisualGraph"
   ]
  },
  {
   "cell_type": "code",
   "execution_count": null,
   "metadata": {
    "scrolled": false
   },
   "outputs": [],
   "source": [
    "g = VisualGraph()\n",
    "\n",
    "# for node, neighbor in graph.node_dict.items(): # for visualizing all\n",
    "#     g.add_node(node,neighbor) # for visualizing all\n",
    "\n",
    "for node, neighbor in graph.valid_node_dict.items():\n",
    "    g.add_node(node,neighbor) # for visualizing all\n",
    "\n",
    "# for idx in schedule: # for visualizing schedule\n",
    "#     snode = graph.snode_vec[idx]\n",
    "#     leafs = [(leaf, graph.snode_vec[leaf]) for leaf in snode.leafs if leaf in schedule] # for visualizing schedule\n",
    "#     g.add_node(\"%d-\"%idx+str(snode.state.node),[\"%d-\"%i_l+str(leaf.state.node) for i_l, leaf in leafs]) # for visualizing schedule"
   ]
  },
  {
   "cell_type": "code",
   "execution_count": null,
   "metadata": {
    "scrolled": false
   },
   "outputs": [],
   "source": [
    "g.draw().render()\n",
    "g.draw(True)"
   ]
  },
  {
   "cell_type": "code",
   "execution_count": null,
   "metadata": {
    "scrolled": false
   },
   "outputs": [],
   "source": [
    "g = VisualGraph()\n",
    "\n",
    "for node, neighbor in graph.node_dict.items(): # for visualizing all\n",
    "    g.add_node(node,neighbor) # for visualizing all\n",
    "\n",
    "# for node, neighbor in graph.valid_node_dict.items():\n",
    "#     leafs = [\"{}-{}\".format(leaf,graph.goal_cost_dict[leaf]) for leaf in neighbor] # for visualizing valid-only\n",
    "#     g.add_node(\"{}-{}\".format(node,graph.goal_cost_dict[node]), leafs) # for visualizing valid-only\n",
    "\n",
    "# for idx in schedule: # for visualizing schedule\n",
    "#     snode = graph.snode_vec[idx]\n",
    "#     leafs = [(leaf, graph.snode_vec[leaf]) for leaf in snode.leafs if leaf in schedule] # for visualizing schedule\n",
    "#     g.add_node(\"%d-\"%idx+str(snode.state.node),[\"%d-\"%i_l+str(leaf.state.node) for i_l, leaf in leafs]) # for visualizing schedule"
   ]
  },
  {
   "cell_type": "code",
   "execution_count": null,
   "metadata": {
    "scrolled": false
   },
   "outputs": [],
   "source": [
    "g.draw().render()\n",
    "g.draw(True)"
   ]
  },
  {
   "cell_type": "code",
   "execution_count": null,
   "metadata": {},
   "outputs": [],
   "source": [
    "def namer(node):\n",
    "    if node[0][2] == 'floor':\n",
    "        return 'free | free'\n",
    "    if node[0][2] == 'vac1':\n",
    "        return 'grasp | free'\n",
    "    if node[0][2] == 'vac2':\n",
    "        return 'free | grasp'\n",
    "    if node[0][2] == 'goal1':\n",
    "        return 'free | place'"
   ]
  },
  {
   "cell_type": "code",
   "execution_count": null,
   "metadata": {},
   "outputs": [],
   "source": [
    "g = VisualGraph()\n",
    "\n",
    "# for node, neighbor in graph.node_dict.items(): # for visualizing all\n",
    "#     g.add_node(node,neighbor) # for visualizing all\n",
    "\n",
    "for node, neighbor in graph.valid_node_dict.items():\n",
    "#     leafs = [\"{}-{}\".format(leaf,graph.goal_cost_dict[leaf]) for leaf in neighbor] # for visualizing valid-only\n",
    "    leafs = [namer(leaf) for leaf in neighbor] # for visualizing valid-only\n",
    "    g.add_node(namer(node), leafs) # for visualizing valid-only\n"
   ]
  },
  {
   "cell_type": "code",
   "execution_count": null,
   "metadata": {},
   "outputs": [],
   "source": [
    "g = VisualGraph()\n",
    "\n",
    "for node, neighbor in graph.node_dict.items(): # for visualizing all\n",
    "    g.add_node(namer(node), [namer(nd) for nd in neighbor]) # for visualizing all\n",
    "\n",
    "# for node, neighbor in graph.valid_node_dict.items():\n",
    "# #     leafs = [\"{}-{}\".format(leaf,graph.goal_cost_dict[leaf]) for leaf in neighbor] # for visualizing valid-only\n",
    "#     leafs = [namer(leaf) for leaf in neighbor] # for visualizing valid-only\n",
    "#     g.add_node(namer(node), leafs) # for visualizing valid-only\n"
   ]
  },
  {
   "cell_type": "code",
   "execution_count": null,
   "metadata": {},
   "outputs": [],
   "source": [
    "g.draw().render()\n",
    "g.draw(True)"
   ]
  },
  {
   "cell_type": "code",
   "execution_count": null,
   "metadata": {},
   "outputs": [],
   "source": []
  },
  {
   "cell_type": "code",
   "execution_count": null,
   "metadata": {},
   "outputs": [],
   "source": []
  },
  {
   "cell_type": "code",
   "execution_count": null,
   "metadata": {},
   "outputs": [],
   "source": []
  },
  {
   "cell_type": "markdown",
   "metadata": {},
   "source": [
    "# Test time"
   ]
  },
  {
   "cell_type": "code",
   "execution_count": null,
   "metadata": {
    "scrolled": true
   },
   "outputs": [],
   "source": [
    "if current_scenario == Scenario.single_object_dual_robot:\n",
    "    times = []\n",
    "    iters = []\n",
    "#    N_vec = [1,2,4,6,8,12,16]\n",
    "    N_vec = [8]\n",
    "#     N_vec = [1,2,4,6,8]\n",
    "    for n_agent in N_vec:\n",
    "        time_vec = []\n",
    "        iter_vec = []\n",
    "        for _ in range(10):\n",
    "#         for _ in range(2):\n",
    "            t1 =timer.time()\n",
    "            graph.search_graph_ordered_mp(initial_state = State((('box1','bottom_p','floor'),),\n",
    "                                                                {'box1': [0.5,-0.2,0.05,0,0,0,1]}, ZERO_JOINT_POSE),\n",
    "                                          goal_state = State((('box1','bottom_p','goal1'),), None, None),\n",
    "                                          search_num=3000, display=False, N_agents = n_agent,\n",
    "                                          terminate_on_first = True, tree_margin = 0,\n",
    "                                          depth_margin = 2, joint_motion_num=10,\n",
    "                                          expand_depth_on_thread = True, **dict(N=200, dt=0.01, vel_conv=1e-2, err_conv=1e-3))\n",
    "            time_vec += [timer.time()-t1]\n",
    "            iter_vec += [graph.itor]\n",
    "        times += [time_vec]\n",
    "        iters += [iter_vec]\n",
    "        "
   ]
  },
  {
   "cell_type": "code",
   "execution_count": null,
   "metadata": {},
   "outputs": [],
   "source": [
    "print(np.round(np.mean(times,axis=1),2))\n",
    "print(np.round(np.median(times,axis=1),2))"
   ]
  },
  {
   "cell_type": "code",
   "execution_count": null,
   "metadata": {},
   "outputs": [],
   "source": [
    "for ll in iters:\n",
    "    for ii in range(len(ll)):\n",
    "        ll[ii] = ll[ii].value"
   ]
  },
  {
   "cell_type": "code",
   "execution_count": null,
   "metadata": {
    "scrolled": true
   },
   "outputs": [],
   "source": [
    "plt.figure(figsize=(30,3))\n",
    "plt.subplot(1,3,1)\n",
    "plot_band(plt, N_vec, times, title=\"time\")\n",
    "plt.subplot(1,3,2)\n",
    "plot_band(plt, N_vec, iters, title=\"iteration\")\n",
    "plt.subplot(1,3,3)\n",
    "plot_band(plt, N_vec, np.divide(iters, times), title=\"iter/s\")\n",
    "np.save(\"iteration_count/iterations\", iters)\n",
    "np.save(\"iteration_count/times\", times)\n",
    "np.save(\"iteration_count/numbers\", N_vec)"
   ]
  },
  {
   "cell_type": "code",
   "execution_count": null,
   "metadata": {
    "scrolled": true
   },
   "outputs": [],
   "source": [
    "plt.plot(N_vec,np.mean(times,axis=1))\n",
    "plt.plot(N_vec,np.median(times,axis=1))"
   ]
  },
  {
   "cell_type": "code",
   "execution_count": null,
   "metadata": {},
   "outputs": [],
   "source": [
    "iters[0][0].value"
   ]
  },
  {
   "cell_type": "code",
   "execution_count": null,
   "metadata": {},
   "outputs": [],
   "source": [
    "plt.plot(N_vec,np.mean(iters,axis=1))\n",
    "plt.plot(N_vec,np.median(iters,axis=1))"
   ]
  },
  {
   "cell_type": "code",
   "execution_count": null,
   "metadata": {},
   "outputs": [],
   "source": []
  },
  {
   "cell_type": "code",
   "execution_count": null,
   "metadata": {},
   "outputs": [],
   "source": [
    "folder = \"iteration_count/\"\n",
    "iters = np.load(folder+\"iterations.npy\")\n",
    "times = np.load(folder+\"times.npy\")\n",
    "N_vec = np.load(folder+\"numbers.npy\")\n",
    "plt.figure(figsize=(30,10))\n",
    "plt.subplot(1,3,1)\n",
    "plot_band(plt, N_vec, times, title=\"time\")\n",
    "plt.grid()\n",
    "plt.subplot(1,3,2)\n",
    "plot_band(plt, N_vec, iters, title=\"iteration\")\n",
    "plt.grid()\n",
    "plt.subplot(1,3,3)\n",
    "plot_band(plt, N_vec, np.divide(iters, times), title=\"iter/s\")"
   ]
  },
  {
   "cell_type": "code",
   "execution_count": null,
   "metadata": {},
   "outputs": [],
   "source": [
    "folder = \"iteration_count/bak/\"\n",
    "iters = np.load(folder+\"iterations.npy\")\n",
    "times = np.load(folder+\"times.npy\")\n",
    "N_vec = np.load(folder+\"numbers.npy\")\n",
    "plt.figure(figsize=(30,10))\n",
    "plt.subplot(1,3,1)\n",
    "plot_band(plt, N_vec, times, title=\"time\")\n",
    "plt.grid()\n",
    "plt.subplot(1,3,2)\n",
    "plot_band(plt, N_vec, iters, title=\"iteration\")\n",
    "plt.grid()\n",
    "plt.subplot(1,3,3)\n",
    "plot_band(plt, N_vec, np.divide(iters, times), title=\"iter/s\")"
   ]
  },
  {
   "cell_type": "code",
   "execution_count": null,
   "metadata": {},
   "outputs": [],
   "source": []
  },
  {
   "cell_type": "markdown",
   "metadata": {},
   "source": [
    "# simulate transitions"
   ]
  },
  {
   "cell_type": "code",
   "execution_count": null,
   "metadata": {},
   "outputs": [],
   "source": [
    "print(graph.snode_vec[52].state)"
   ]
  },
  {
   "cell_type": "code",
   "execution_count": null,
   "metadata": {},
   "outputs": [],
   "source": [
    "sidx = 18\n",
    "schedule = graph.snode_vec[sidx].parents+[sidx]\n",
    "schedule"
   ]
  },
  {
   "cell_type": "code",
   "execution_count": null,
   "metadata": {},
   "outputs": [],
   "source": [
    "self = graph\n",
    "display=False\n",
    "error_skip=1e-4\n",
    "lock=False\n",
    "err_conv=1e-4\n",
    "kwargs = dict(N=N, dt=dt, vel_conv=1e-2)\n",
    "        \n",
    "if from_state is not None:\n",
    "    pos_start = from_state.Q\n",
    "    self.set_object_state(from_state)\n",
    "\n",
    "additional_constraints = \"\"\n",
    "binding_list = []\n",
    "if to_state.node is not None:\n",
    "    for bd0, bd1 in zip(from_state.node, to_state.node):\n",
    "        if bd0[2] != bd1[2]:\n",
    "            additional_constraints += self.binder_dict[bd1[2]].make_constraints(self.object_dict[bd1[0]], bd1[1])\n",
    "            binding_list += [bd1]\n",
    "        else:\n",
    "            assert bd0[1] == bd1[1] , \"impossible transition\"\n",
    "\n",
    "if additional_constraints==\"\" and to_state.Q is not None and np.sum(np.abs(np.subtract(to_state.Q,from_state.Q)))>1e-2:\n",
    "#             print('set joint constraint')\n",
    "    kwargs.update(dict(additional_constraints=make_joint_constraints(joint_names=self.joint_names), \n",
    "                       inp_lbl=['target_%s'%jname for jname in self.joint_names], \n",
    "                       inp=list(to_state.Q)\n",
    "                      ))                 \n",
    "else:\n",
    "    kwargs.update(dict(additional_constraints=additional_constraints)\n",
    "                 )\n",
    "\n",
    "init_text = get_init_text()\n",
    "\n",
    "e = set_simulate(init_text, initial_jpos=np.array(pos_start), err_conv=err_conv, **kwargs)\n",
    "            \n",
    "            \n",
    "if from_state is not None:\n",
    "    self.set_object_state(from_state)\n",
    "if display:\n",
    "    if len(e.POS)>1:\n",
    "        show_motion(e.POS, self.marker_list, self.pub, self.joints, self.joint_names, error_skip=1e-4)\n",
    "if hasattr(e, 'error') and e.error<err_conv:\n",
    "    success = True\n",
    "    for bd in binding_list:\n",
    "        self.rebind(bd, e.joint_dict_last)\n",
    "\n",
    "else:\n",
    "    success = False\n",
    "node, obj_pos_dict = self.get_object_state()\n",
    "end_state = State(node, obj_pos_dict, list(e.POS[-1]))"
   ]
  },
  {
   "cell_type": "code",
   "execution_count": null,
   "metadata": {},
   "outputs": [],
   "source": [
    "success"
   ]
  },
  {
   "cell_type": "code",
   "execution_count": null,
   "metadata": {},
   "outputs": [],
   "source": [
    "kk = 2\n",
    "from_state = graph.snode_vec[schedule[kk]].state\n",
    "# to_state = graph.snode_vec[schedule[kk+1]].state\n",
    "to_state = State((('box1', 'top_p', 'vac2'), ('box2', 'bottom_f', 'asm1'), ('box3', 'bottom_f', 'asm2')), None, None)\n",
    "# to_state = from_state\n",
    "# from_state = State(*((('box1', 'top_p', 'vac2'), ('box2', 'bottom_f', 'asm1'), ('box3', 'bottom_f', 'asm2')), \n",
    "#                      {'box1': [ 0.,    0.,    0.1,   0.63,  0.78,  0.,   -0.  ], \n",
    "#                       'box3': [-0.1,  -0.02, -0.,    0.63,  0.78,  0.,   -0.  ], \n",
    "#                       'box2': [ 0.1,   0.02, -0.,    0.63,  0.78,  0.,    0.  ]}, \n",
    "#                      [-0.83, -1.16,  1.6,   0.79,  1.32, -0.36,  0.5,  -0.89,  1.3,   0.82,  1.83, -0.03]))\n",
    "# to_state = State((('box1', 'bottom_p', 'goal1'), ('box2', 'bottom_f', 'asm1'), ('box3', 'bottom_f', 'asm2')), None, None)\n",
    "N = 300\n",
    "dt = 0.01\n",
    "\n",
    "t1 = timer.time()\n",
    "e, end_state, succ = graph.simulate_transition(from_state, to_state, display=False, N=N, dt=dt, vel_conv=1e-2, err_conv=1e-3)\n",
    "t2 = timer.time()\n",
    "print(\"%.2f ms\"%((t2-t1)*1000))\n",
    "e, end_state, succ = graph.simulate_transition(from_state, to_state, display=True, N=N, dt=dt, vel_conv=1e-2, err_conv=1e-3)\n",
    "print(succ)"
   ]
  },
  {
   "cell_type": "code",
   "execution_count": null,
   "metadata": {},
   "outputs": [],
   "source": [
    "print(end_state)"
   ]
  },
  {
   "cell_type": "code",
   "execution_count": null,
   "metadata": {},
   "outputs": [],
   "source": [
    "e.error"
   ]
  },
  {
   "cell_type": "code",
   "execution_count": null,
   "metadata": {},
   "outputs": [],
   "source": [
    "e.OUTP_LBL"
   ]
  },
  {
   "cell_type": "code",
   "execution_count": null,
   "metadata": {},
   "outputs": [],
   "source": [
    "e.OUTP.shape"
   ]
  },
  {
   "cell_type": "code",
   "execution_count": null,
   "metadata": {},
   "outputs": [],
   "source": [
    "plt.plot(e.OUTP[:,0])"
   ]
  },
  {
   "cell_type": "code",
   "execution_count": null,
   "metadata": {},
   "outputs": [],
   "source": [
    "print(from_state)\n",
    "print(to_state)\n",
    "print(end_state)"
   ]
  },
  {
   "cell_type": "code",
   "execution_count": null,
   "metadata": {},
   "outputs": [],
   "source": [
    "len(e.POS)"
   ]
  },
  {
   "cell_type": "code",
   "execution_count": null,
   "metadata": {},
   "outputs": [],
   "source": [
    "idx_end = np.where(np.any(e.VEL!=0,axis=1))[0]"
   ]
  },
  {
   "cell_type": "code",
   "execution_count": null,
   "metadata": {},
   "outputs": [],
   "source": [
    "idx_end"
   ]
  },
  {
   "cell_type": "code",
   "execution_count": null,
   "metadata": {},
   "outputs": [],
   "source": [
    "plt.plot(e.VEL)"
   ]
  },
  {
   "cell_type": "code",
   "execution_count": null,
   "metadata": {},
   "outputs": [],
   "source": [
    "plt.plot(e.POS)"
   ]
  },
  {
   "cell_type": "code",
   "execution_count": null,
   "metadata": {
    "scrolled": true
   },
   "outputs": [],
   "source": [
    "schedule[1]"
   ]
  },
  {
   "cell_type": "code",
   "execution_count": null,
   "metadata": {},
   "outputs": [],
   "source": [
    "from_state_bak = State(*(graph.get_object_state()+(e.POS[-1],)))"
   ]
  },
  {
   "cell_type": "code",
   "execution_count": null,
   "metadata": {},
   "outputs": [],
   "source": [
    "from_state_bak.node"
   ]
  },
  {
   "cell_type": "code",
   "execution_count": null,
   "metadata": {},
   "outputs": [],
   "source": [
    "from_state = from_state_bak.copy()"
   ]
  },
  {
   "cell_type": "code",
   "execution_count": null,
   "metadata": {},
   "outputs": [],
   "source": [
    "to_state = State((('box1', 'bottom_p', 'goal2'), ('box2', 'bottom_p', 'box1')),None, None)"
   ]
  },
  {
   "cell_type": "code",
   "execution_count": null,
   "metadata": {},
   "outputs": [],
   "source": [
    "N = 300\n",
    "dt = 0.01\n",
    "\n",
    "t1 = timer.time()\n",
    "e, end_state, succ = graph.simulate_transition(from_state, to_state, display=False, N=N, dt=dt, vel_conv=1e-2, err_conv=1e-3)\n",
    "t2 = timer.time()\n",
    "print(\"%.2f ms\"%((t2-t1)*1000))\n",
    "e, end_state, succ = graph.simulate_transition(from_state, to_state, display=True, N=N, dt=dt, vel_conv=1e-2, err_conv=1e-3)\n",
    "print(succ)"
   ]
  },
  {
   "cell_type": "code",
   "execution_count": null,
   "metadata": {},
   "outputs": [],
   "source": []
  },
  {
   "cell_type": "code",
   "execution_count": null,
   "metadata": {},
   "outputs": [],
   "source": [
    "from_state = end_state\n",
    "to_state = State((('box1', 'back_p', 'vac1'), ('box2', 'bottom_p', 'box1')),None, None)\n",
    "# to_state = end_state.copy()\n",
    "# to_state.Q = ZERO_JOINT_POSE"
   ]
  },
  {
   "cell_type": "code",
   "execution_count": null,
   "metadata": {},
   "outputs": [],
   "source": [
    "N = 1000\n",
    "dt = 0.01\n",
    "\n",
    "t1 = timer.time()\n",
    "e, end_state, succ = graph.simulate_transition(from_state, to_state, display=False, N=N, dt=dt, vel_conv=1e-2, err_conv=6e-3)\n",
    "t2 = timer.time()\n",
    "print(\"%.2f ms\"%((t2-t1)*1000))\n",
    "e, end_state, succ = graph.simulate_transition(from_state, to_state, display=True, N=N, dt=dt, vel_conv=1e-2, err_conv=6e-3)\n",
    "print(succ)"
   ]
  },
  {
   "cell_type": "code",
   "execution_count": null,
   "metadata": {},
   "outputs": [],
   "source": [
    "e.error"
   ]
  },
  {
   "cell_type": "code",
   "execution_count": null,
   "metadata": {},
   "outputs": [],
   "source": [
    "print(end_state)"
   ]
  },
  {
   "cell_type": "code",
   "execution_count": null,
   "metadata": {},
   "outputs": [],
   "source": [
    "from_state = end_state\n",
    "to_state = from_state.copy()\n",
    "to_state.Q = ZERO_JOINT_POSE"
   ]
  },
  {
   "cell_type": "code",
   "execution_count": null,
   "metadata": {},
   "outputs": [],
   "source": [
    "N = 300\n",
    "dt = 0.01\n",
    "\n",
    "t1 = timer.time()\n",
    "e, end_state, succ = graph.simulate_transition(from_state, to_state, display=False, N=N, dt=dt, vel_conv=1e-2, err_conv=1e-3)\n",
    "t2 = timer.time()\n",
    "print(\"%.2f ms\"%((t2-t1)*1000))\n",
    "e, end_state, succ = graph.simulate_transition(from_state, to_state, display=True, N=N, dt=dt, vel_conv=1e-2, err_conv=1e-3)\n",
    "print(succ)"
   ]
  },
  {
   "cell_type": "code",
   "execution_count": null,
   "metadata": {},
   "outputs": [],
   "source": []
  },
  {
   "cell_type": "code",
   "execution_count": null,
   "metadata": {},
   "outputs": [],
   "source": [
    "graph.binder_dict"
   ]
  },
  {
   "cell_type": "code",
   "execution_count": null,
   "metadata": {},
   "outputs": [],
   "source": []
  },
  {
   "cell_type": "code",
   "execution_count": null,
   "metadata": {},
   "outputs": [],
   "source": [
    "from_state = State((('box1', 'top_p', 'box2'), ('box2', 'bottom_p', 'vac1')),\n",
    "                   {'box1': (0, 0, 0.2, 0.0, -0.0, 0.0, 1),\n",
    "                    'box2': (0, 0, 0.1, 0.0, -0.0, -0.0, 1)}, ZERO_JOINT_POSE)"
   ]
  },
  {
   "cell_type": "code",
   "execution_count": null,
   "metadata": {},
   "outputs": [],
   "source": [
    "to_state = State((('box1', 'top_p', 'box2'), ('box2', 'bottom_p', 'vac1')),\n",
    "                   {'box1': (0, 0, 0.2, 0.0, -0.0, 0.0, 1),\n",
    "                    'box2': (0, 0, 0.1, 0.0, -0.0, -0.0, 1)}, [ 0.        , -np.pi/2,  np.pi/2,  0.        ,  0.        , 0.]        )"
   ]
  },
  {
   "cell_type": "code",
   "execution_count": null,
   "metadata": {},
   "outputs": [],
   "source": [
    "from_state = State((('box1', 'bottom_p', 'box2'), ('box2', 'bottom_p', 'vac1')), {'box1': [-0.03, -0.39 , 0.45, 0.,   -0. ,   0.56,  0.83], 'box2': [-0.1,  -0.4 ,  0.35 , 0. ,  -0. ,  -0.34 , 0.94]}, [-2.08, -2.13,  2.22, -1.66, -1.57,  0.03])\n",
    "to_state = State((('box1', 'bottom_p', 'box2'), ('box2', 'bottom_p', 'vac1')), {'box1': [-0.03, -0.39,  0.45,  0.,   -0. ,   0.56,  0.83], 'box2': [-0.1  ,-0.4 ,  0.35  ,0.,   -0. ,  -0.34 , 0.94]}, ZERO_JOINT_POSE)"
   ]
  },
  {
   "cell_type": "code",
   "execution_count": null,
   "metadata": {},
   "outputs": [],
   "source": [
    "## N = 100\n",
    "dt = 0.02\n",
    "\n",
    "t1 = timer.time()\n",
    "e, end_state, succ = graph.simulate_transition(from_state, to_state, display=False, N=N, dt=dt)\n",
    "t2 = timer.time()\n",
    "print(\"%.2f ms\"%((t2-t1)*1000))\n",
    "e, end_state, succ = graph.simulate_transition(from_state, to_state, display=True, N=N, dt=dt)\n",
    "print(succ)"
   ]
  },
  {
   "cell_type": "code",
   "execution_count": null,
   "metadata": {},
   "outputs": [],
   "source": []
  },
  {
   "cell_type": "code",
   "execution_count": null,
   "metadata": {},
   "outputs": [],
   "source": []
  },
  {
   "cell_type": "code",
   "execution_count": null,
   "metadata": {},
   "outputs": [],
   "source": []
  },
  {
   "cell_type": "code",
   "execution_count": null,
   "metadata": {},
   "outputs": [],
   "source": [
    "N = 300\n",
    "dt = 0.01\n",
    "\n",
    "t1 = timer.time()\n",
    "e, end_state, succ = graph.simulate_transition(from_state, to_state, display=False, N=N, dt=dt, vel_conv=1e-2, err_conv=1e-3)\n",
    "t2 = timer.time()\n",
    "print(\"%.2f ms\"%((t2-t1)*1000))\n",
    "e, end_state, succ = graph.simulate_transition(from_state, to_state, display=True, N=N, dt=dt, vel_conv=1e-2, err_conv=1e-3)\n",
    "print(succ)"
   ]
  },
  {
   "cell_type": "code",
   "execution_count": null,
   "metadata": {},
   "outputs": [],
   "source": [
    "from_state = State((('box1','bottom_p','floor'),), \n",
    "                      {'box1': [0.5,-0.2,0.05,0,0,0,1]}, ZERO_JOINT_POSE\n",
    "                     )\n",
    "to_state = State((('box1','top_p','vac1'),), None, None)\n",
    "N = 100\n",
    "dt = 0.02\n",
    "\n",
    "t1 = timer.time()\n",
    "e, end_state, succ = graph.simulate_transition(from_state, to_state, display=False, N=N, dt=dt)\n",
    "t2 = timer.time()\n",
    "print(\"%.2f ms\"%((t2-t1)*1000))\n",
    "e, end_state, succ = graph.simulate_transition(from_state, to_state, display=True, N=N, dt=dt)\n",
    "print(succ)"
   ]
  },
  {
   "cell_type": "code",
   "execution_count": null,
   "metadata": {},
   "outputs": [],
   "source": [
    "from_state = end_state\n",
    "to_state = State((('box1','top_p','vac1'),), \n",
    "                      None, ZERO_JOINT_POSE)\n",
    "e, end_state, succ = graph.simulate_transition(from_state, to_state, display=True)\n",
    "print(succ)"
   ]
  },
  {
   "cell_type": "code",
   "execution_count": null,
   "metadata": {
    "scrolled": true
   },
   "outputs": [],
   "source": [
    "from_state = end_state\n",
    "to_state = State((('box1','bottom_f','goal'),), None, None)\n",
    "e, end_state, succ = graph.simulate_transition(from_state, to_state, display=True)\n",
    "print(succ)"
   ]
  },
  {
   "cell_type": "code",
   "execution_count": null,
   "metadata": {},
   "outputs": [],
   "source": [
    "from_state = end_state\n",
    "to_state = end_state.copy()\n",
    "to_state.Q = ZERO_JOINT_POSE\n",
    "e, end_state, succ = graph.simulate_transition(from_state, to_state, display=True)"
   ]
  },
  {
   "cell_type": "code",
   "execution_count": null,
   "metadata": {},
   "outputs": [],
   "source": [
    "graph.binder_dict['box2'].object"
   ]
  },
  {
   "cell_type": "code",
   "execution_count": null,
   "metadata": {},
   "outputs": [],
   "source": [
    "graph.object_dict['box2'].object"
   ]
  },
  {
   "cell_type": "code",
   "execution_count": null,
   "metadata": {},
   "outputs": [],
   "source": []
  },
  {
   "cell_type": "markdown",
   "metadata": {},
   "source": [
    "# delete all"
   ]
  },
  {
   "cell_type": "code",
   "execution_count": null,
   "metadata": {},
   "outputs": [],
   "source": [
    "for mkr in marker_list:\n",
    "    mkr.delete()"
   ]
  },
  {
   "cell_type": "code",
   "execution_count": null,
   "metadata": {},
   "outputs": [],
   "source": []
  },
  {
   "cell_type": "markdown",
   "metadata": {},
   "source": [
    "# Plotting (using the Bokeh library to provide interactive plots)"
   ]
  },
  {
   "cell_type": "code",
   "execution_count": null,
   "metadata": {},
   "outputs": [],
   "source": [
    "from bokeh.plotting import figure, show, output_notebook\n",
    "from bokeh.layouts import gridplot\n",
    "from etasl_py.bokehplots import plotv\n",
    "\n",
    "output_notebook()\n",
    "print(\"positions : \")\n",
    "plotv(e.TIME,e.POS,e.POS_LBL)\n",
    "print(\"velocities : \")\n",
    "plotv(e.TIME,e.VEL,e.POS_LBL)\n",
    "print(\"outputs : \")\n",
    "plotv(e.TIME,e.OUTP,e.OUTP_LBL)"
   ]
  },
  {
   "cell_type": "code",
   "execution_count": null,
   "metadata": {},
   "outputs": [],
   "source": []
  },
  {
   "cell_type": "code",
   "execution_count": null,
   "metadata": {},
   "outputs": [],
   "source": [
    "!urdf_to_graphiz $(rospack find etasl_py_examples)/robots/ur10_robot.urdf\n",
    "from graphviz import Source\n",
    "Source.from_file('ur10.gv')"
   ]
  },
  {
   "cell_type": "code",
   "execution_count": null,
   "metadata": {},
   "outputs": [],
   "source": []
  }
 ],
 "metadata": {
  "kernelspec": {
   "display_name": "Python 3",
   "language": "python",
   "name": "python3"
  },
  "language_info": {
   "codemirror_mode": {
    "name": "ipython",
    "version": 2
   },
   "file_extension": ".py",
   "mimetype": "text/x-python",
   "name": "python",
   "nbconvert_exporter": "python",
   "pygments_lexer": "ipython2",
   "version": "2.7.17"
  }
 },
 "nbformat": 4,
 "nbformat_minor": 2
}
