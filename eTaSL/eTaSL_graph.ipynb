{
 "cells": [
  {
   "cell_type": "markdown",
   "metadata": {},
   "source": [
    "# Graph "
   ]
  },
  {
   "cell_type": "code",
   "execution_count": 1,
   "metadata": {
    "pycharm": {
     "name": "#%%\n"
    }
   },
   "outputs": [
    {
     "data": {
      "text/html": [
       "<style>.container { width:90% !important; } </style>"
      ],
      "text/plain": [
       "<IPython.core.display.HTML object>"
      ]
     },
     "metadata": {},
     "output_type": "display_data"
    }
   ],
   "source": [
    "from __future__ import print_function\n",
    "from IPython.core.display import display, HTML\n",
    "display(HTML(\"<style>.container { width:90% !important; } </style>\"))"
   ]
  },
  {
   "cell_type": "code",
   "execution_count": 2,
   "metadata": {
    "pycharm": {
     "name": "#%%\n"
    }
   },
   "outputs": [],
   "source": [
    "from enum import Enum\n",
    "class Scenario(Enum):\n",
    "    single_object_single_robot = 0\n",
    "    double_object_single_robot = 1\n",
    "    single_object_dual_robot = 2\n",
    "    assembly_3_piece = 3\n",
    "    custom_robots = 4\n",
    "    \n",
    "current_scenario = Scenario.custom_robots"
   ]
  },
  {
   "cell_type": "code",
   "execution_count": 3,
   "metadata": {
    "pycharm": {
     "name": "#%%\n"
    }
   },
   "outputs": [
    {
     "name": "stderr",
     "output_type": "stream",
     "text": [
      "Unknown tag \"hardwareInterface\" in /robot[@name='custom_robots']/transmission[@name='indy0_tran0']/actuator[@name='indy0_motor0']\n",
      "Unknown tag \"hardwareInterface\" in /robot[@name='custom_robots']/transmission[@name='indy0_tran1']/actuator[@name='indy0_motor1']\n",
      "Unknown tag \"hardwareInterface\" in /robot[@name='custom_robots']/transmission[@name='indy0_tran2']/actuator[@name='indy0_motor2']\n",
      "Unknown tag \"hardwareInterface\" in /robot[@name='custom_robots']/transmission[@name='indy0_tran3']/actuator[@name='indy0_motor3']\n",
      "Unknown tag \"hardwareInterface\" in /robot[@name='custom_robots']/transmission[@name='indy0_tran4']/actuator[@name='indy0_motor4']\n",
      "Unknown tag \"hardwareInterface\" in /robot[@name='custom_robots']/transmission[@name='indy0_tran5']/actuator[@name='indy0_motor5']\n"
     ]
    }
   ],
   "source": [
    "urdf_content = None\n",
    "if current_scenario in [Scenario.single_object_dual_robot, Scenario.assembly_3_piece]:\n",
    "    from pkg.ur10_dual import URDF_PATH, JOINT_NAMES, LINK_NAMES, ZERO_JOINT_POSE, get_collision_items_dict\n",
    "elif current_scenario in [Scenario.single_object_single_robot, Scenario.double_object_single_robot]:\n",
    "    from pkg.ur10 import URDF_PATH, JOINT_NAMES, LINK_NAMES, ZERO_JOINT_POSE, get_collision_items_dict\n",
    "else:\n",
    "    from pkg.robots_custom import *\n",
    "    xcustom = XacroCustomizer()\n",
    "    xcustom.clear()\n",
    "    xcustom.add_robot(RobotType.indy7_robot, xyz=[0,-0.5,0], rpy= [0,0,0])\n",
    "    xcustom.add_robot(RobotType.panda_robot, xyz=[0,0.5,0], rpy= [0,0,0])\n",
    "    xcustom.write_xacro()\n",
    "    vel_scale = 1.0/2.0\n",
    "    JOINT_NAMES, LINK_NAMES, ZERO_JOINT_POSE, urdf_content = \\\n",
    "            xcustom.convert_xacro_to_urdf(\n",
    "            joint_fix_dict={'finger':'upper'},\n",
    "            vel_limit_dict={k: v*vel_scale for k,v in {\n",
    "                'panda1_joint1': np.deg2rad(150),  'panda1_joint2': np.deg2rad(150), \n",
    "                'panda1_joint3': np.deg2rad(150), 'panda1_joint4': np.deg2rad(150), \n",
    "                'panda1_joint5': np.deg2rad(180), 'panda1_joint6': np.deg2rad(180), 'panda1_joint7': np.deg2rad(180), \n",
    "                'indy0_joint0': np.deg2rad(150), 'indy0_joint1': np.deg2rad(150), 'indy0_joint2': np.deg2rad(150), \n",
    "                'indy0_joint3': np.deg2rad(180), 'indy0_joint4': np.deg2rad(180), 'indy0_joint5': np.deg2rad(180), \n",
    "            }.items()}\n",
    "        )\n",
    "    ZERO_JOINT_POSE=np.array([0,0,-np.pi/2,0,-np.pi/2,0,\n",
    "                              0,-np.pi/8,0,-np.pi/2,0,np.pi/2,0])\n",
    "    refine_meshes()\n",
    "    xcustom.start_rviz()\n",
    "    \n",
    "from pkg.constraint_graph import *\n",
    "import matplotlib.pyplot as plt\n",
    "from pkg.plot_utils import *\n",
    "from pkg.utils import *\n",
    "# from threading import Thread, Lock\n",
    "from multiprocessing import Process, Lock, Manager\n",
    "PROC_MODE = True\n",
    "rospy.init_node('task_planner', anonymous=True)"
   ]
  },
  {
   "cell_type": "code",
   "execution_count": 4,
   "metadata": {
    "pycharm": {
     "name": "#%%\n"
    }
   },
   "outputs": [],
   "source": [
    "gtimer = GlobalTimer.instance()\n",
    "gtimer.reset()\n",
    "graph = ConstraintGraph(urdf_path=URDF_PATH, joint_names=JOINT_NAMES, link_names=LINK_NAMES, urdf_content=urdf_content)\n",
    "col_items_dict = graph.set_collision_items(\n",
    "    get_collision_items_dict(graph.urdf_content, color=(0,1,0,0.5), display=True, collision=True, \n",
    "                             exclude_link=[\"panda1_link7\"]))"
   ]
  },
  {
   "cell_type": "code",
   "execution_count": null,
   "metadata": {
    "pycharm": {
     "name": "#%%\n"
    }
   },
   "outputs": [],
   "source": []
  },
  {
   "cell_type": "markdown",
   "metadata": {},
   "source": [
    "# Custom Robots"
   ]
  },
  {
   "cell_type": "code",
   "execution_count": 5,
   "metadata": {
    "pycharm": {
     "name": "#%%\n"
    }
   },
   "outputs": [],
   "source": [
    "gtimer.tic(\"set_scene\")\n",
    "if current_scenario == Scenario.custom_robots:\n",
    "    collision=True\n",
    "    graph.add_collision_items(\"world\", \n",
    "                              [\n",
    "                               GeoMesh(uri=\"package://my_mesh/meshes/stl/AirPick_cup_ctd.stl\", BLH=(0.01,0.01,0.01), scale=(1e-3,1e-3,1e-3), name=\"gripper1\", link_name=\"indy0_tcp\", \n",
    "                                       urdf_content=graph.urdf_content, color=(0.1,0.1,0.1,1), collision=False),\n",
    "                               GeoBox((0.5,-0.2,0.050), (0.05,0.05,0.05), name=\"box1\", link_name=\"world\", urdf_content=graph.urdf_content, color=(0.3,0.3,0.8,1), collision=collision),\n",
    "                               GeoBox((0,0,-0.005), (3,3,0.01), name=\"floor\", link_name=\"world\", urdf_content=graph.urdf_content, color=(0.6,0.6,0.6,1), collision=collision),\n",
    "                               GeoBox((0.7,0.0,0.2), (0.7,0.05,0.4), name=\"wall\", link_name=\"world\", urdf_content=graph.urdf_content, color=(0.4,0.3,0.0,1), collision=collision),\n",
    "                               GeoBox((0.4,0.4,0.15), (0.15,0.15,0.3), name=\"stepper\", link_name=\"world\", urdf_content=graph.urdf_content, color=(0.4,0.3,0.0,1), collision=collision),\n",
    "                               GeoBox((0.4,0.4,0.3), (0.1,0.1,1e-3), name=\"goal_disp\", link_name=\"world\", urdf_content=graph.urdf_content, color=(0.8,0.0,0.0,1), collision=False)])\n",
    "    \n",
    "    graph.register_binder(name='grip1', _type=VacuumTool, point=[0,-2.5e-2,11e-2], link_name=\"panda1_hand\", direction=[0,1,0])\n",
    "    graph.register_binder(name='vac2', _type=VacuumTool, point=[0,0,5e-2], link_name=\"indy0_tcp\", direction=[0,0,1])\n",
    "    graph.register_binder(name='floor', _type=PlacePlane, direction=[0,0,1])\n",
    "    graph.register_binder(name='goal', _type=PlaceFrame, point=(0.4,0.4,0.3+5e-4), link_name=\"world\", orientation=[0,0,0])\n",
    "\n",
    "    graph.register_object('box1', _type=BoxAction, binding=(\"bottom_p\",\"floor\"), hexahedral=True)\n",
    "\n",
    "    graph.build_graph()\n",
    "gtimer.toc(\"set_scene\")"
   ]
  },
  {
   "cell_type": "code",
   "execution_count": null,
   "metadata": {
    "pycharm": {
     "name": "#%%\n"
    }
   },
   "outputs": [],
   "source": []
  },
  {
   "cell_type": "markdown",
   "metadata": {},
   "source": [
    "# Set RVIZ"
   ]
  },
  {
   "cell_type": "code",
   "execution_count": 6,
   "metadata": {
    "pycharm": {
     "name": "#%%\n"
    }
   },
   "outputs": [
    {
     "name": "stdout",
     "output_type": "stream",
     "text": [
      "Please create a subscriber to the marker\n",
      "publication OK\n",
      "published: [0, 0, 0, 0, 0, 0, 0, 0, 0, 0, 0, 0, 0]\n",
      "Please create a subscriber to the marker\n"
     ]
    }
   ],
   "source": [
    "gtimer.tic(\"set_sim\")\n",
    "graph.set_simulation(nWSR=50, regularization_factor= 1e-1)\n",
    "gtimer.toc(\"set_sim\")\n",
    "# graph.show_pose(ZERO_JOINT_POSE, execute=True)"
   ]
  },
  {
   "cell_type": "code",
   "execution_count": null,
   "metadata": {
    "pycharm": {
     "name": "#%%\n"
    }
   },
   "outputs": [],
   "source": []
  },
  {
   "cell_type": "markdown",
   "metadata": {},
   "source": [
    "# Search Graph (Custom Robots)"
   ]
  },
  {
   "cell_type": "code",
   "execution_count": 9,
   "metadata": {
    "pycharm": {
     "name": "#%%\n"
    }
   },
   "outputs": [
    {
     "name": "stdout",
     "output_type": "stream",
     "text": [
      "\n",
      "success - Goal cost:2->1 / Init cost:0->1 / branching: 0->1 (1.42 s)\n",
      "node: (('box1', 'bottom_p', 'floor'),)->(('box1', 'top_p', 'vac2'),)\n",
      "======================================================================================================================================================\n",
      "\n",
      "fail - Goal cost:2->1 / Init cost:0->1 / branching: 0-> (2.64 s)\n",
      "node: (('box1', 'bottom_p', 'floor'),)->(('box1', 'back_p', 'vac2'),)\n",
      "======================================================================================================================================================\n",
      "\n",
      "fail - Goal cost:2->1 / Init cost:0->1 / branching: 0-> (2.96 s)\n",
      "node: (('box1', 'bottom_p', 'floor'),)->(('box1', 'front_p', 'vac2'),)\n",
      "======================================================================================================================================================\n",
      "\n",
      "fail - Goal cost:2->1 / Init cost:0->1 / branching: 0-> (3.41 s)\n",
      "node: (('box1', 'bottom_p', 'floor'),)->(('box1', 'left_p', 'grip1'),)\n",
      "======================================================================================================================================================\n",
      "\n",
      "fail - Goal cost:2->1 / Init cost:0->1 / branching: 0-> (3.51 s)\n",
      "node: (('box1', 'bottom_p', 'floor'),)->(('box1', 'left_p', 'vac2'),)\n",
      "======================================================================================================================================================\n",
      "\n",
      "fail - Goal cost:2->1 / Init cost:0->1 / branching: 0-> (3.65 s)\n",
      "node: (('box1', 'bottom_p', 'floor'),)->(('box1', 'right_p', 'vac2'),)\n",
      "======================================================================================================================================================\n",
      "\n",
      "fail - Goal cost:2->1 / Init cost:0->1 / branching: 0-> (3.76 s)\n",
      "node: (('box1', 'bottom_p', 'floor'),)->(('box1', 'back_p', 'grip1'),)\n",
      "======================================================================================================================================================\n",
      "\n",
      "fail - Goal cost:2->1 / Init cost:0->1 / branching: 0-> (3.96 s)\n",
      "node: (('box1', 'bottom_p', 'floor'),)->(('box1', 'front_p', 'grip1'),)\n",
      "======================================================================================================================================================\n",
      "\n",
      "fail - Goal cost:1->0 / Init cost:1->2 / branching: 1-> (4.28 s)\n",
      "node: (('box1', 'top_p', 'vac2'),)->(('box1', 'front_f', 'goal'),)\n",
      "======================================================================================================================================================\n",
      "\n",
      "success - Goal cost:1->1 / Init cost:1->1 / branching: 1->2 (4.86 s)\n",
      "success - Goal cost:1->1 / Init cost:1->1 / branching: 1->3 (4.87 s)\n",
      "node: (('box1', 'top_p', 'vac2'),)->(('box1', 'left_p', 'grip1'),)\n",
      "\n",
      "======================================================================================================================================================\n",
      "node: (('box1', 'top_p', 'vac2'),)->(('box1', 'front_p', 'grip1'),)\n",
      "======================================================================================================================================================\n",
      "\n",
      "fail - Goal cost:1->1 / Init cost:1->1 / branching: 1-> (5.47 s)\n",
      "node: (('box1', 'top_p', 'vac2'),)->(('box1', 'top_p', 'vac2'),)\n",
      "======================================================================================================================================================\n",
      "\n",
      "success - Goal cost:1->1 / Init cost:1->1 / branching: 1->4 (5.64 s)\n",
      "node: (('box1', 'top_p', 'vac2'),)->(('box1', 'right_p', 'grip1'),)\n",
      "======================================================================================================================================================\n",
      "\n",
      "fail - Goal cost:2->1 / Init cost:0->1 / branching: 0-> (5.97 s)\n",
      "node: (('box1', 'bottom_p', 'floor'),)->(('box1', 'top_p', 'grip1'),)\n",
      "======================================================================================================================================================\n",
      "\n",
      "success - Goal cost:1->0 / Init cost:1->2 / branching: 2->5 (6.01 s)\n",
      "node: (('box1', 'left_p', 'grip1'),)->(('box1', 'front_f', 'goal'),)\n",
      "======================================================================================================================================================\n",
      "\n",
      "fail - Goal cost:2->1 / Init cost:0->1 / branching: 0-> (6.39 s)\n",
      "node: (('box1', 'bottom_p', 'floor'),)->(('box1', 'right_p', 'grip1'),)\n",
      "======================================================================================================================================================\n",
      "\n",
      "fail - Goal cost:1->1 / Init cost:1->1 / branching: 1-> (6.49 s)\n",
      "node: (('box1', 'top_p', 'vac2'),)->(('box1', 'top_p', 'vac2'),)\n",
      "======================================================================================================================================================\n",
      "\n",
      "fail - Goal cost:1->1 / Init cost:1->2 / branching: 1-> (6.57 s)\n",
      "node: (('box1', 'top_p', 'vac2'),)->(('box1', 'bottom_p', 'grip1'),)\n",
      "======================================================================================================================================================\n",
      "\n",
      "success - Goal cost:1->1 / Init cost:1->1 / branching: 1->6 (6.63 s)\n",
      "node: (('box1', 'top_p', 'vac2'),)->(('box1', 'back_p', 'grip1'),)\n",
      "======================================================================================================================================================\n",
      "\n",
      "success - Goal cost:1->0 / Init cost:1->2 / branching: 4->7 (6.77 s)\n",
      "node: (('box1', 'right_p', 'grip1'),)->(('box1', 'front_f', 'goal'),)\n",
      "======================================================================================================================================================\n",
      "\n",
      "fail - Goal cost:1->1 / Init cost:1->1 / branching: 1-> (6.93 s)\n",
      "node: (('box1', 'top_p', 'vac2'),)->(('box1', 'top_p', 'vac2'),)\n",
      "======================================================================================================================================================\n",
      "\n",
      "fail - Goal cost:1->0 / Init cost:1->2 / branching: 3-> (7.36 s)\n",
      "node: (('box1', 'front_p', 'grip1'),)->(('box1', 'front_f', 'goal'),)\n",
      "======================================================================================================================================================\n"
     ]
    }
   ],
   "source": [
    "gtimer.reset()\n",
    "if current_scenario == Scenario.custom_robots:\n",
    "    graph.search_graph_mp(\n",
    "        initial_state = State((('box1','bottom_p','floor'),),\n",
    "                              {'box1': SE3(np.identity(3), [0.5,-0.3,0.05])}, ZERO_JOINT_POSE),\n",
    "        goal_state = State((('box1','front_f','goal'),), None, None),\n",
    "        tree_margin = 4, depth_margin = 2, joint_motion_num=10, \n",
    "        terminate_on_first = True, N_search = 100, N_loop=1000,\n",
    "        display=False, dt_vis=1e-3, verbose = True, print_expression=False,\n",
    "        **dict(N=300, dt=0.025, vel_conv=1e-2, err_conv=1e-3, N_step=300))"
   ]
  },
  {
   "cell_type": "code",
   "execution_count": 10,
   "metadata": {
    "pycharm": {
     "name": "#%%\n"
    }
   },
   "outputs": [
    {
     "name": "stdout",
     "output_type": "stream",
     "text": [
      "search_graph_mp: \t7383.0 ms/1 = 7382.851 ms \n",
      "init_search: \t3.0 ms/1 = 2.877 ms \n",
      "score_graph: \t1.0 ms/2 = 0.429 ms \n",
      "reset_valid_node: \t0.0 ms/233 = 0.002 ms \n",
      "get_valid_neighbor: \t1.0 ms/23 = 0.036 ms \n",
      "add_node_queue_leafs: \t5.0 ms/1 = 4.758 ms \n",
      "\n"
     ]
    }
   ],
   "source": [
    "print(gtimer)"
   ]
  },
  {
   "cell_type": "code",
   "execution_count": 11,
   "metadata": {
    "pycharm": {
     "name": "#%%\n"
    }
   },
   "outputs": [
    {
     "data": {
      "image/png": "[encoded data removed]",
      "text/plain": [
       "<Figure size 720x720 with 1 Axes>"
      ]
     },
     "metadata": {
      "needs_background": "light"
     },
     "output_type": "display_data"
    }
   ],
   "source": [
    "graph.quiver_snodes()"
   ]
  },
  {
   "cell_type": "code",
   "execution_count": null,
   "metadata": {
    "pycharm": {
     "name": "#%%\n"
    }
   },
   "outputs": [],
   "source": []
  },
  {
   "cell_type": "markdown",
   "metadata": {},
   "source": [
    "# Replay schedule"
   ]
  },
  {
   "cell_type": "code",
   "execution_count": 12,
   "metadata": {
    "pycharm": {
     "name": "#%%\n"
    }
   },
   "outputs": [
    {
     "name": "stdout",
     "output_type": "stream",
     "text": [
      "[0, 1, 2, 5]\n",
      "[0, 1, 4, 7]\n",
      "\n",
      "--------------------\n",
      "1-(('box1', 'top_p', 'vac2'),)\n",
      "\n",
      "--------------------\n",
      "2-(('box1', 'left_p', 'grip1'),)\n",
      "\n",
      "--------------------\n",
      "5-(('box1', 'front_f', 'goal'),)\n",
      "\n",
      "--------------------\n",
      "1-(('box1', 'top_p', 'vac2'),)\n",
      "\n",
      "--------------------\n",
      "4-(('box1', 'right_p', 'grip1'),)\n",
      "\n",
      "--------------------\n",
      "7-(('box1', 'front_f', 'goal'),)\n"
     ]
    }
   ],
   "source": [
    "schedule_dict = graph.find_schedules()\n",
    "schedule_sorted = graph.sort_schedule(schedule_dict)\n",
    "for schedule in schedule_sorted:\n",
    "    print(schedule)\n",
    "for schedule, i_s in zip(schedule_sorted, range(len(schedule_sorted))):\n",
    "    e, end_state, success = graph.simulate_transition(graph.snode_dict[0].state, graph.snode_dict[0].state, execute=False, N=10, dt=0.01, vel_conv=1e-2, err_conv=5e-4)\n",
    "    timer.sleep(1)\n",
    "#     try:\n",
    "    e = graph.replay(schedule, execute=False, N=300, dt=0.01, N_step=10, vel_conv=1e-2, err_conv=5e-4)\n",
    "#     except Exception as e:\n",
    "#         print(e)"
   ]
  },
  {
   "cell_type": "code",
   "execution_count": null,
   "metadata": {
    "pycharm": {
     "name": "#%%\n"
    }
   },
   "outputs": [],
   "source": [
    "plt.plot(e.POS)"
   ]
  },
  {
   "cell_type": "code",
   "execution_count": null,
   "metadata": {
    "pycharm": {
     "name": "#%%\n"
    }
   },
   "outputs": [],
   "source": [
    "# e = graph.replay(schedule, N=1500, dt=0.002, vel_conv=1e-2, err_conv=5e-3)"
   ]
  },
  {
   "cell_type": "code",
   "execution_count": null,
   "metadata": {
    "pycharm": {
     "name": "#%%\n"
    }
   },
   "outputs": [],
   "source": [
    "ctems = [gtem for gtem in GeometryItem.GLOBAL_GEO_LIST if gtem.collision]\n",
    "print(len(ctems))\n",
    "for ctem in ctems:\n",
    "    print(ctem.name)"
   ]
  },
  {
   "cell_type": "code",
   "execution_count": null,
   "metadata": {
    "pycharm": {
     "name": "#%%\n"
    }
   },
   "outputs": [],
   "source": [
    "e.displayContext()"
   ]
  },
  {
   "cell_type": "code",
   "execution_count": null,
   "metadata": {
    "pycharm": {
     "name": "#%%\n"
    }
   },
   "outputs": [],
   "source": []
  },
  {
   "cell_type": "markdown",
   "metadata": {},
   "source": [
    "# Test"
   ]
  },
  {
   "cell_type": "code",
   "execution_count": null,
   "metadata": {
    "pycharm": {
     "name": "#%%\n"
    }
   },
   "outputs": [],
   "source": [
    "N = 300\n",
    "dt = 1e-2\n",
    "\n",
    "from_state = State((('box1','bottom_p','floor'),), {'box1': [0.5,-0.3,0.05,0,0,0,1]}, ZERO_JOINT_POSE)\n",
    "to_state = State((('box1', 'top_p', 'vac2'), ),None, None)"
   ]
  },
  {
   "cell_type": "code",
   "execution_count": null,
   "metadata": {
    "pycharm": {
     "name": "#%%\n"
    }
   },
   "outputs": [],
   "source": [
    "self = graph"
   ]
  },
  {
   "cell_type": "code",
   "execution_count": null,
   "metadata": {
    "pycharm": {
     "name": "#%%\n"
    }
   },
   "outputs": [],
   "source": [
    "gtimer = GlobalTimer.instance()\n",
    "gtimer.tic(\"start set transition\")\n",
    "if from_state is not None:\n",
    "    pos_start = from_state.Q\n",
    "    self.set_object_state(from_state)\n",
    "\n",
    "tf_col_text = get_tf_collision_text(GeometryItem.GLOBAL_GEO_LIST)"
   ]
  },
  {
   "cell_type": "code",
   "execution_count": null,
   "metadata": {
    "pycharm": {
     "name": "#%%\n"
    }
   },
   "outputs": [],
   "source": [
    "print(tf_col_text)"
   ]
  },
  {
   "cell_type": "code",
   "execution_count": null,
   "metadata": {
    "pycharm": {
     "name": "#%%\n"
    }
   },
   "outputs": [],
   "source": [
    "N = 300\n",
    "dt = 1e-2\n",
    "\n",
    "from_state = State((('box1','bottom_p','floor'),), {'box1': [0.5,-0.3,0.05,0,0,0,1]}, ZERO_JOINT_POSE)\n",
    "to_state = State((('box1', 'top_p', 'vac2'), ),None, None)\n",
    "\n",
    "\n",
    "e, end_state, succ = graph.simulate_transition(from_state, to_state, display=True, print_expression=True, N=N, dt=dt, vel_conv=1e-2, err_conv=1e-3)\n",
    "print(succ)\n",
    "end_state_bak = end_state.copy()"
   ]
  },
  {
   "cell_type": "code",
   "execution_count": null,
   "metadata": {
    "pycharm": {
     "name": "#%%\n"
    }
   },
   "outputs": [],
   "source": [
    "e.displayContext()"
   ]
  },
  {
   "cell_type": "code",
   "execution_count": null,
   "metadata": {
    "pycharm": {
     "name": "#%%\n"
    }
   },
   "outputs": [],
   "source": []
  },
  {
   "cell_type": "code",
   "execution_count": null,
   "metadata": {
    "pycharm": {
     "name": "#%%\n"
    }
   },
   "outputs": [],
   "source": []
  },
  {
   "cell_type": "code",
   "execution_count": null,
   "metadata": {
    "pycharm": {
     "name": "#%%\n"
    }
   },
   "outputs": [],
   "source": [
    "\n",
    "N = 300\n",
    "dt = 1e-2\n",
    "\n",
    "from_state = end_state_bak.copy()\n",
    "to_state = State((('box1', 'front_p', 'grip1'), ),None, None)\n",
    "\n",
    "\n",
    "e, end_state, succ = graph.simulate_transition(from_state, to_state, display=True, print_expression=True, N=N, dt=dt, vel_conv=1e-2, err_conv=1e-3)\n",
    "print(succ)\n",
    "end_state_bak = end_state.copy()\n",
    "N = 200\n",
    "dt = 25e-3\n",
    "\n",
    "from_state = end_state_bak.copy()\n",
    "to_state = State((('box1', 'right_f', 'goal'), ),None, None)\n",
    "\n",
    "\n",
    "e, end_state, succ = graph.simulate_transition(from_state, to_state, display=True, print_expression=True, N=N, dt=dt, vel_conv=1e-2, err_conv=1e-3)\n",
    "print(succ)"
   ]
  },
  {
   "cell_type": "code",
   "execution_count": null,
   "metadata": {
    "pycharm": {
     "name": "#%%\n"
    }
   },
   "outputs": [],
   "source": []
  },
  {
   "cell_type": "markdown",
   "metadata": {},
   "source": [
    "# Visualize"
   ]
  },
  {
   "cell_type": "code",
   "execution_count": null,
   "metadata": {
    "pycharm": {
     "name": "#%%\n"
    }
   },
   "outputs": [],
   "source": [
    "from pkg.graph_visualize import VisualGraph"
   ]
  },
  {
   "cell_type": "code",
   "execution_count": null,
   "metadata": {
    "pycharm": {
     "name": "#%%\n"
    }
   },
   "outputs": [],
   "source": [
    "g = VisualGraph()\n",
    "\n",
    "# for node, neighbor in graph.node_dict.items(): # for visualizing all\n",
    "#     g.add_node(node,neighbor) # for visualizing all\n",
    "\n",
    "for node, neighbor in graph.valid_node_dict.items():\n",
    "    g.add_node(node,neighbor) # for visualizing all\n",
    "\n",
    "# for idx in schedule: # for visualizing schedule\n",
    "#     snode = graph.snode_vec[idx]\n",
    "#     leafs = [(leaf, graph.snode_vec[leaf]) for leaf in snode.leafs if leaf in schedule] # for visualizing schedule\n",
    "#     g.add_node(\"%d-\"%idx+str(snode.state.node),[\"%d-\"%i_l+str(leaf.state.node) for i_l, leaf in leafs]) # for visualizing schedule"
   ]
  },
  {
   "cell_type": "code",
   "execution_count": null,
   "metadata": {
    "pycharm": {
     "name": "#%%\n"
    }
   },
   "outputs": [],
   "source": [
    "g.draw().render()\n",
    "g.draw(True)"
   ]
  },
  {
   "cell_type": "code",
   "execution_count": null,
   "metadata": {
    "pycharm": {
     "name": "#%%\n"
    }
   },
   "outputs": [],
   "source": []
  },
  {
   "cell_type": "code",
   "execution_count": null,
   "metadata": {
    "pycharm": {
     "name": "#%%\n"
    }
   },
   "outputs": [],
   "source": []
  },
  {
   "cell_type": "markdown",
   "metadata": {},
   "source": [
    "# delete all"
   ]
  },
  {
   "cell_type": "code",
   "execution_count": null,
   "metadata": {
    "pycharm": {
     "name": "#%%\n"
    }
   },
   "outputs": [],
   "source": [
    "for mkr in marker_list:\n",
    "    mkr.delete()"
   ]
  },
  {
   "cell_type": "code",
   "execution_count": null,
   "metadata": {
    "pycharm": {
     "name": "#%%\n"
    }
   },
   "outputs": [],
   "source": []
  },
  {
   "cell_type": "markdown",
   "metadata": {},
   "source": [
    "# Plotting (using the Bokeh library to provide interactive plots)"
   ]
  },
  {
   "cell_type": "code",
   "execution_count": null,
   "metadata": {
    "pycharm": {
     "name": "#%%\n"
    }
   },
   "outputs": [],
   "source": [
    "from bokeh.plotting import figure, show, output_notebook\n",
    "from bokeh.layouts import gridplot\n",
    "from etasl_py.bokehplots import plotv\n",
    "\n",
    "output_notebook()\n",
    "print(\"positions : \")\n",
    "plotv(e.TIME,e.POS,e.POS_LBL)\n",
    "print(\"velocities : \")\n",
    "plotv(e.TIME,e.VEL,e.POS_LBL)\n",
    "print(\"outputs : \")\n",
    "plotv(e.TIME,e.OUTP,e.OUTP_LBL)"
   ]
  },
  {
   "cell_type": "code",
   "execution_count": null,
   "metadata": {
    "pycharm": {
     "name": "#%%\n"
    }
   },
   "outputs": [],
   "source": []
  },
  {
   "cell_type": "code",
   "execution_count": null,
   "metadata": {
    "pycharm": {
     "name": "#%%\n"
    }
   },
   "outputs": [],
   "source": [
    "!urdf_to_graphiz $(rospack find etasl_py_examples)/robots/ur10_robot.urdf\n",
    "from graphviz import Source\n",
    "Source.from_file('ur10.gv')"
   ]
  },
  {
   "cell_type": "code",
   "execution_count": null,
   "metadata": {
    "pycharm": {
     "name": "#%%\n"
    }
   },
   "outputs": [],
   "source": []
  }
 ],
 "metadata": {
  "kernelspec": {
   "display_name": "Python 2",
   "language": "python",
   "name": "python2"
  },
  "language_info": {
   "codemirror_mode": {
    "name": "ipython",
    "version": 2
   },
   "file_extension": ".py",
   "mimetype": "text/x-python",
   "name": "python",
   "nbconvert_exporter": "python",
   "pygments_lexer": "ipython2",
   "version": "2.7.17"
  }
 },
 "nbformat": 4,
 "nbformat_minor": 2
}
