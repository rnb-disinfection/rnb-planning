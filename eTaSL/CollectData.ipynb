{
 "cells": [
  {
   "cell_type": "code",
   "execution_count": 1,
   "metadata": {},
   "outputs": [
    {
     "data": {
      "text/html": [
       "<style>.container { width:90% !important; } </style>"
      ],
      "text/plain": [
       "<IPython.core.display.HTML object>"
      ]
     },
     "metadata": {},
     "output_type": "display_data"
    }
   ],
   "source": [
    "from __future__ import print_function\n",
    "from IPython.core.display import display, HTML\n",
    "display(HTML(\"<style>.container { width:90% !important; } </style>\"))\n",
    "import matplotlib.pyplot as plt\n",
    "from pkg.marker_config import *\n",
    "from pkg.constraint_graph import *\n",
    "from pkg.constraint.constraint_action import *\n",
    "from pkg.constraint.constraint_object import *\n",
    "from pkg.constants import *\n",
    "from pkg.utils.plot_utils import *\n",
    "from pkg.utils.utils import *\n",
    "from pkg.environment_builder import *\n",
    "from pkg.ui.ui_broker import *\n",
    "from pkg.controller.combined_robot import *\n",
    "\n",
    "gtimer = GlobalTimer.instance()\n",
    "gtimer.reset()"
   ]
  },
  {
   "cell_type": "code",
   "execution_count": 2,
   "metadata": {},
   "outputs": [
    {
     "name": "stdout",
     "output_type": "stream",
     "text": [
      "connection_list\n",
      "(False, False)\n"
     ]
    }
   ],
   "source": [
    "from pkg.controller.combined_robot import CombinedRobot, XYZ_RPY_ROBOTS_DEFAULT\n",
    "from pkg.data_collecting.sampling import *\n",
    "crob = CombinedRobot(connection_list=(False, False))"
   ]
  },
  {
   "cell_type": "code",
   "execution_count": null,
   "metadata": {},
   "outputs": [],
   "source": []
  },
  {
   "cell_type": "markdown",
   "metadata": {},
   "source": [
    "## Global params definition"
   ]
  },
  {
   "cell_type": "code",
   "execution_count": 3,
   "metadata": {
    "scrolled": true
   },
   "outputs": [],
   "source": [
    "GLOBAL_PARAMS = dict(\n",
    "    BASE_LINK = \"base_link\",\n",
    "    MAX_REACH_DICT = {'indy0': 1.5, 'panda1': 1.5},\n",
    "    REACH_OFFSET_DICT = {'indy0': (0,0,0.3), 'panda1': (0,0,0.3)},\n",
    "    GRIPPER_REFS = {\"indy0\":{\"link_name\": \"indy0_tcp\", \"tcp_ref\": [0,0,0.14], \"depth_range\": (-0.07,0.00), \"width_range\": (0.03,0.05)}, \n",
    "                    \"panda1\":{\"link_name\": \"panda1_hand\", \"tcp_ref\": [0,0,0.112], \"depth_range\": (-0.04,0.00), \"width_range\": (0.03,0.06)}\n",
    "                   },\n",
    "    Nrbt = len(crob.robot_names), # 2\n",
    "    Njoints = len(crob.joint_names), # 13\n",
    "    WDH = (3,3,3),\n",
    "    WDH_MIN_RBT = (0.75,0.75,0.5), \n",
    "    WDH_MAX_RBT = (2.25,2.25,1.0),\n",
    "    L_CELL = 0.2,\n",
    "    MIN_DIST_ROBOT = 1,\n",
    "    Ns = 100,\n",
    "    RATIO_COVER = 2.0,\n",
    "    RATIO_DIMS = 2.0,\n",
    "    LINK_COLL_MARGIN = 0.01\n",
    ")\n",
    "SAMPLED_DATA = defaultdict(dict)"
   ]
  },
  {
   "cell_type": "markdown",
   "metadata": {},
   "source": [
    "## set params"
   ]
  },
  {
   "cell_type": "code",
   "execution_count": 4,
   "metadata": {},
   "outputs": [
    {
     "name": "stdout",
     "output_type": "stream",
     "text": [
      "scene size: 3375 (15,15,15)\n"
     ]
    }
   ],
   "source": [
    "__local_params = locals()\n",
    "for k,v in GLOBAL_PARAMS.items():\n",
    "    __local_params[k] = v\n",
    "CENTER = tuple(np.divide(WDH, 2, dtype=np.float))\n",
    "Ws, Ds, Hs = WDH \n",
    "Nw, Nd, Nh = Nwdh = int(Ws/L_CELL), int(Ds/L_CELL), int(Hs/L_CELL)\n",
    "L_MAX = L_CELL*RATIO_DIMS\n",
    "print(\"scene size: {} ({},{},{})\".format(Nw*Nd*Nh, Nw, Nd, Nh))"
   ]
  },
  {
   "cell_type": "code",
   "execution_count": 5,
   "metadata": {},
   "outputs": [],
   "source": [
    "SAMPLED_DATA[\"WORLD\"][\"Trbt_dict\"] = Trbt_dict= sample_Trbt(Nrbt, crob.robot_names, WDH_MIN_RBT, WDH_MAX_RBT, MIN_DIST_ROBOT)\n",
    "reach_center_dict = {k: tuple(np.add(v[0], REACH_OFFSET_DICT[k])) for k, v in Trbt_dict.items()}"
   ]
  },
  {
   "cell_type": "code",
   "execution_count": null,
   "metadata": {},
   "outputs": [],
   "source": []
  },
  {
   "cell_type": "markdown",
   "metadata": {},
   "source": [
    "# LEVEL: WORLD"
   ]
  },
  {
   "cell_type": "markdown",
   "metadata": {},
   "source": [
    "## put robot"
   ]
  },
  {
   "cell_type": "code",
   "execution_count": 6,
   "metadata": {},
   "outputs": [
    {
     "name": "stderr",
     "output_type": "stream",
     "text": [
      "Unknown tag \"hardwareInterface\" in /robot[@name='custom_robots']/transmission[@name='indy0_tran0']/actuator[@name='indy0_motor0']\n",
      "Unknown tag \"hardwareInterface\" in /robot[@name='custom_robots']/transmission[@name='indy0_tran1']/actuator[@name='indy0_motor1']\n",
      "Unknown tag \"hardwareInterface\" in /robot[@name='custom_robots']/transmission[@name='indy0_tran2']/actuator[@name='indy0_motor2']\n",
      "Unknown tag \"hardwareInterface\" in /robot[@name='custom_robots']/transmission[@name='indy0_tran3']/actuator[@name='indy0_motor3']\n",
      "Unknown tag \"hardwareInterface\" in /robot[@name='custom_robots']/transmission[@name='indy0_tran4']/actuator[@name='indy0_motor4']\n",
      "Unknown tag \"hardwareInterface\" in /robot[@name='custom_robots']/transmission[@name='indy0_tran5']/actuator[@name='indy0_motor5']\n"
     ]
    }
   ],
   "source": [
    "cam = None\n",
    "\n",
    "# set urdf\n",
    "xcustom, JOINT_NAMES, LINK_NAMES, urdf_content = set_custom_robots(crob.robots_on_scene, Trbt_dict, crob.joint_names)\n",
    "time.sleep(2)"
   ]
  },
  {
   "cell_type": "code",
   "execution_count": 7,
   "metadata": {},
   "outputs": [
    {
     "name": "stdout",
     "output_type": "stream",
     "text": [
      "Please create a subscriber to the marker\n",
      "publication OK\n",
      "published: [0, 0, 0, 0, 0, 0, 0, 0, 0, 0, 0, 0, 0]\n",
      "Please create a subscriber to the marker\n",
      "Dash is running on http://127.0.0.1:8050/\n",
      "\n",
      " * Serving Flask app \"pkg.ui.dash_launcher\" (lazy loading)\n",
      " * Environment: production\n",
      "   WARNING: This is a development server. Do not use it in a production deployment.\n",
      "   Use a production WSGI server instead.\n",
      " * Debug mode: off\n"
     ]
    }
   ],
   "source": [
    "# set graph\n",
    "if \"graph\" in locals():\n",
    "    graph.clear_markers()\n",
    "    graph.clear_highlight()\n",
    "    graph.ghnd.clear()\n",
    "    graph.__init__(urdf_path=URDF_PATH, joint_names=JOINT_NAMES, link_names=LINK_NAMES, \n",
    "                   urdf_content=urdf_content, combined_robot=crob)\n",
    "    graph.set_cam_robot_collision(_add_cam_poles=False, color=(1,1,0,0.3))\n",
    "    graph.set_rviz()\n",
    "else:\n",
    "    graph = ConstraintGraph(urdf_path=URDF_PATH, joint_names=JOINT_NAMES, link_names=LINK_NAMES, \n",
    "                            urdf_content=urdf_content, combined_robot=crob)\n",
    "    graph.set_camera(cam)\n",
    "    graph.set_cam_robot_collision(_add_cam_poles=False, color=(1,1,0,0.3))\n",
    "    graph.set_rviz()\n",
    "    \n",
    "    # start UI\n",
    "    ui_broker = UIBroker(graph)\n",
    "    ui_broker.start_server()\n",
    "    \n",
    "    # set rviz\n",
    "    graph.set_rviz(crob.home_pose)\n",
    "    ui_broker.set_tables()"
   ]
  },
  {
   "cell_type": "markdown",
   "metadata": {},
   "source": [
    "## show workspace"
   ]
  },
  {
   "cell_type": "code",
   "execution_count": 8,
   "metadata": {},
   "outputs": [],
   "source": [
    "# show_workspace(graph, Nwdh, CENTER, L_CELL)"
   ]
  },
  {
   "cell_type": "code",
   "execution_count": 9,
   "metadata": {},
   "outputs": [],
   "source": [
    "# remove_geometries_by_prefix(graph, \"workspace\")\n",
    "# remove_geometries_by_prefix(graph, \"grid\")"
   ]
  },
  {
   "cell_type": "code",
   "execution_count": null,
   "metadata": {},
   "outputs": [],
   "source": []
  },
  {
   "cell_type": "markdown",
   "metadata": {},
   "source": [
    "# LEVEL: PREMISE"
   ]
  },
  {
   "cell_type": "markdown",
   "metadata": {},
   "source": [
    "## init joints"
   ]
  },
  {
   "cell_type": "code",
   "execution_count": 10,
   "metadata": {},
   "outputs": [],
   "source": [
    "from pkg.data_collecting.sampling import *"
   ]
  },
  {
   "cell_type": "code",
   "execution_count": 11,
   "metadata": {
    "scrolled": true
   },
   "outputs": [
    {
     "name": "stdout",
     "output_type": "stream",
     "text": [
      "link collision detected: panda1_link5_Cylinder_0 - panda1_hand_Cylinder_0\n",
      "link collision detected: indy0_link1_Cylinder_0 - indy0_link4_Cylinder_0\n",
      "link collision detected: indy0_link0_Cylinder_0 - indy0_link4_Cylinder_0\n"
     ]
    }
   ],
   "source": [
    "SAMPLED_DATA[\"PREMISE\"][\"Q_s\"], _, _, _, _ = Q_s, links, link_verts, link_ctems, link_rads = sample_joint(graph)\n",
    "SAMPLED_DATA[\"PREMISE\"][\"Q_s_dict\"] = Q_s_dict = list2dict(Q_s, crob.joint_names)\n",
    "        \n",
    "graph.show_pose(Q_s)\n",
    "time.sleep(1)\n",
    "graph.show_pose(Q_s)\n",
    "time.sleep(1)\n",
    "graph.show_pose(Q_s)"
   ]
  },
  {
   "cell_type": "markdown",
   "metadata": {},
   "source": [
    "## extract available cells"
   ]
  },
  {
   "cell_type": "code",
   "execution_count": 12,
   "metadata": {},
   "outputs": [
    {
     "data": {
      "text/plain": [
       "1.7910003662109375"
      ]
     },
     "execution_count": 12,
     "metadata": {},
     "output_type": "execute_result"
    }
   ],
   "source": [
    "gtimer.tic(\"extract_available\")\n",
    "# coll_boxes = get_colliding_cells(Nwdh, L_CELL, link_ctems, link_rads)\n",
    "free_boxes = get_reachable_cells(Nwdh, L_CELL, reach_center_dict, MAX_REACH_DICT)\n",
    "gtimer.toc(\"extract_available\")\n",
    "\n",
    "# draw_cells(graph, \"col_cell\", coll_boxes, L_CELL, color=(0.9, 0, 0.2, 0.1))\n",
    "# remove_geometries_by_prefix(graph, \"col_cell\")\n",
    "# draw_cells(graph, \"reachable\", free_boxes, L_CELL, color=(0.2, 0.7, 0.2, 0.1))\n",
    "# remove_geometries_by_prefix(graph, \"reachable\")"
   ]
  },
  {
   "cell_type": "code",
   "execution_count": null,
   "metadata": {},
   "outputs": [],
   "source": []
  },
  {
   "cell_type": "markdown",
   "metadata": {},
   "source": [
    "# LEVEL: SCENE"
   ]
  },
  {
   "cell_type": "markdown",
   "metadata": {},
   "source": [
    "## sample objects"
   ]
  },
  {
   "cell_type": "code",
   "execution_count": 13,
   "metadata": {},
   "outputs": [],
   "source": [
    "obj_dat = []\n",
    "for geo_gen in OBJ_GEN_LIST:\n",
    "    obj_boxes = random.sample(free_boxes,Ns)\n",
    "#     draw_cells(graph, \"obj_cell\", obj_boxes, L_CELL, color=(0.2, 0.2, 0.7, 0.1))\n",
    "#     remove_geometries_by_prefix(graph, \"obj_cell\")\n",
    "    for nbox in obj_boxes:    \n",
    "        gtype, dims, color = geo_gen(L_MAX)\n",
    "        obj_dat.append({\"nbox\": nbox, \"gtype\": gtype.name, \"dims\": dims, \"color\": color, \n",
    "                        \"center\": tuple(np.multiply(nbox, L_CELL)+np.random.random((3,))*L_MAX+0.5*L_CELL - 0.5*L_MAX), \n",
    "                        \"rpy\": np.random.random((3,))*np.pi*2})\n",
    "SAMPLED_DATA[\"SCENE\"][\"obj_dat\"] = obj_dat"
   ]
  },
  {
   "cell_type": "markdown",
   "metadata": {},
   "source": [
    "## exclude colliding object"
   ]
  },
  {
   "cell_type": "code",
   "execution_count": 14,
   "metadata": {},
   "outputs": [],
   "source": [
    "__obj_dat=[]\n",
    "coll_list = []\n",
    "for odat in obj_dat:\n",
    "    gtype, center, rpy, dims = getattr(GEOTYPE,odat['gtype']), odat['center'], odat['rpy'], odat['dims']\n",
    "    ctem = getPointList(get_vertex_rows(gtype, center, rpy, dims))\n",
    "    crad = (dims[0]/2) if gtype in [GEOTYPE.CAPSULE, GEOTYPE.CYLINDER, GEOTYPE.SPHERE] else 0\n",
    "    if any(np.array(get_distance_list(ctem, link_ctems, crad, link_rads))<LINK_COLL_MARGIN):\n",
    "        odat['color'] = (0.9, 0.0, 0.0, 0.3)\n",
    "        coll_list.append(odat)\n",
    "    else:\n",
    "        __obj_dat.append(odat)\n",
    "SAMPLED_DATA[\"SCENE\"][\"obj_dat\"] = obj_dat = __obj_dat"
   ]
  },
  {
   "cell_type": "markdown",
   "metadata": {},
   "source": [
    "## put objects"
   ]
  },
  {
   "cell_type": "code",
   "execution_count": 15,
   "metadata": {},
   "outputs": [],
   "source": [
    "if \"obj_list\" in locals(): \n",
    "    for obj in obj_list: graph.remove_geometry(obj)\n",
    "obj_list=[]\n",
    "for odat in obj_dat:\n",
    "    nbox, gtype, dims, color, center, rpy = odat[\"nbox\"], getattr(GEOTYPE, odat[\"gtype\"]), odat[\"dims\"], odat[\"color\"], odat[\"center\"], odat[\"rpy\"]\n",
    "    obj = graph.ghnd.create_safe(\n",
    "        name=\"{}_{}_{}_{}\".format(gtype.name,*nbox), link_name=BASE_LINK, gtype=gtype,\n",
    "        center=center, rpy=rpy, dims=dims, color=color, display=True, collision=True, fixed=True)\n",
    "    obj_list.append(obj)\n",
    "    graph.add_geometry(obj)"
   ]
  },
  {
   "cell_type": "code",
   "execution_count": 16,
   "metadata": {},
   "outputs": [],
   "source": [
    "if \"col_obj_list\" in locals(): \n",
    "    for obj in col_obj_list: graph.remove_geometry(obj)\n",
    "col_obj_list=[]\n",
    "for odat in coll_list:\n",
    "    nbox, gtype, dims, color, center, rpy = odat[\"nbox\"], getattr(GEOTYPE, odat[\"gtype\"]), odat[\"dims\"], odat[\"color\"], odat[\"center\"], odat[\"rpy\"]\n",
    "    obj = graph.ghnd.create_safe(\n",
    "        name=\"col_obj_{}_{}_{}\".format(*nbox), link_name=BASE_LINK, gtype=gtype,\n",
    "        center=center, rpy=rpy, dims=dims, color=color, display=True, collision=False, fixed=True)\n",
    "    col_obj_list.append(obj)\n",
    "    graph.add_geometry(obj)"
   ]
  },
  {
   "cell_type": "code",
   "execution_count": 17,
   "metadata": {},
   "outputs": [],
   "source": [
    "if \"col_obj_list\" in locals(): \n",
    "    for obj in col_obj_list: graph.remove_geometry(obj)"
   ]
  },
  {
   "cell_type": "code",
   "execution_count": null,
   "metadata": {},
   "outputs": [],
   "source": []
  },
  {
   "cell_type": "markdown",
   "metadata": {},
   "source": [
    "# LEVEL: ACTION"
   ]
  },
  {
   "cell_type": "markdown",
   "metadata": {},
   "source": [
    "## pick case"
   ]
  },
  {
   "cell_type": "code",
   "execution_count": 18,
   "metadata": {},
   "outputs": [],
   "source": [
    "rname, inhand, obj, _, dims_bak, color_bak= sample_pick(GRIPPER_REFS, obj_list, L_MAX)"
   ]
  },
  {
   "cell_type": "code",
   "execution_count": 19,
   "metadata": {},
   "outputs": [],
   "source": [
    "# rname, inhand, obj, _, dims_bak, color_bak = load_manipulation(SAMPLED_DATA, \"PICK\")"
   ]
  },
  {
   "cell_type": "code",
   "execution_count": 20,
   "metadata": {
    "scrolled": true
   },
   "outputs": [],
   "source": [
    "show_manip_coords(graph, GRIPPER_REFS, \"PICK\", rname, inhand, obj, rname2=None)"
   ]
  },
  {
   "cell_type": "code",
   "execution_count": 21,
   "metadata": {},
   "outputs": [],
   "source": [
    "log_manipulation(SAMPLED_DATA, \"PICK\", rname, inhand, obj, None, dims_bak, color_bak)"
   ]
  },
  {
   "cell_type": "code",
   "execution_count": 22,
   "metadata": {},
   "outputs": [],
   "source": [
    "reset_rendering(graph, \"PICK\", [obj], [inhand], dims_bak, color_bak)"
   ]
  },
  {
   "cell_type": "code",
   "execution_count": null,
   "metadata": {},
   "outputs": [],
   "source": []
  },
  {
   "cell_type": "markdown",
   "metadata": {},
   "source": [
    "## place case"
   ]
  },
  {
   "cell_type": "code",
   "execution_count": 24,
   "metadata": {
    "scrolled": true
   },
   "outputs": [],
   "source": [
    "rname, inhand, ontarget, _, _, _ = sample_place(GRIPPER_REFS, obj_list, L_CELL)"
   ]
  },
  {
   "cell_type": "code",
   "execution_count": 25,
   "metadata": {},
   "outputs": [],
   "source": [
    "# rname, inhand, ontarget, _, dims_bak, color_bak = load_manipulation(SAMPLED_DATA, \"PLACE\")"
   ]
  },
  {
   "cell_type": "code",
   "execution_count": 26,
   "metadata": {
    "scrolled": true
   },
   "outputs": [],
   "source": [
    "show_manip_coords(graph, GRIPPER_REFS, \"PLACE\", rname, inhand, ontarget, rname2=None)"
   ]
  },
  {
   "cell_type": "code",
   "execution_count": 27,
   "metadata": {},
   "outputs": [],
   "source": [
    "log_manipulation(SAMPLED_DATA, \"PLACE\", rname, inhand, ontarget, None, dims_bak, color_bak)"
   ]
  },
  {
   "cell_type": "code",
   "execution_count": 28,
   "metadata": {},
   "outputs": [],
   "source": [
    "reset_rendering(graph, \"PLACE\", [], [ontarget, inhand])"
   ]
  },
  {
   "cell_type": "code",
   "execution_count": null,
   "metadata": {},
   "outputs": [],
   "source": []
  },
  {
   "cell_type": "markdown",
   "metadata": {},
   "source": [
    "## handover case - make in-hand object"
   ]
  },
  {
   "cell_type": "code",
   "execution_count": 29,
   "metadata": {},
   "outputs": [],
   "source": [
    "def sample_handover(GRIPPER_REFS, obj_list, L_CELL):\n",
    "    ghnd = GeometryHandle.instance()\n",
    "    src, tar = random.sample(GRIPPER_REFS.items(),2)\n",
    "    gtype, dims, color = random.choice(OBJ_GEN_LIST)(L_CELL)\n",
    "    handed = ghnd.create_safe(gtype=gtype, name=\"handed_in_src\", link_name=src[1]['link_name'], \n",
    "                                    center=(0,0,0), rpy=(0,0,0), dims=dims, color=(0,1,1,0.5), \n",
    "                                    display=True, collision=True, fixed=False)\n",
    "    Ttar_ygrip, dims_new, dims_bak = sample_grasp(\n",
    "        handed, WIDTH_RANGE=tar[1]['width_range'], DEPTH_RANGE=tar[1]['depth_range'], \n",
    "        DIM_MAX=L_MAX, fit_dim=True)\n",
    "    handed.dims = dims_new\n",
    "    Tsrc_ygrip, dims_new, dims_bak = sample_grasp(\n",
    "        handed, WIDTH_RANGE=src[1]['width_range'], DEPTH_RANGE=src[1]['depth_range'], \n",
    "        DIM_MAX=L_MAX, fit_dim=False)\n",
    "    T_slo = np.matmul(SE3(np.identity(3),src[1]['tcp_ref']), SE3_inv(Tsrc_ygrip))\n",
    "    handed.set_offset_tf(center=T_slo[:3,3], orientation_mat=T_slo[:3,:3])\n",
    "    T_tlo = np.matmul(SE3(np.identity(3),tar[1]['tcp_ref']), SE3_inv(Ttar_ygrip))\n",
    "    intar = ghnd.create_safe(gtype=handed.gtype, name=\"handed_in_tar\", link_name=tar[1]['link_name'], \n",
    "                                   center=T_tlo[:3,3], rpy=Rot2rpy(T_tlo[:3,:3]), dims=handed.dims, color=(1,0,0.5,0.5), \n",
    "                                   display=True, collision=False, fixed=False)\n",
    "    return src[0], handed, intar, tar[0]"
   ]
  },
  {
   "cell_type": "code",
   "execution_count": 72,
   "metadata": {},
   "outputs": [],
   "source": [
    "src, handed, intar, tar = sample_handover(GRIPPER_REFS, obj_list, L_CELL)"
   ]
  },
  {
   "cell_type": "code",
   "execution_count": 73,
   "metadata": {
    "scrolled": true
   },
   "outputs": [],
   "source": [
    "show_manip_coords(graph, GRIPPER_REFS, \"HANDOVER\", src, handed, intar, tar)"
   ]
  },
  {
   "cell_type": "code",
   "execution_count": 74,
   "metadata": {},
   "outputs": [],
   "source": [
    "log_manipulation(SAMPLED_DATA, \"HANDOVER\", src, handed, intar, tar, None, None)"
   ]
  },
  {
   "cell_type": "code",
   "execution_count": 75,
   "metadata": {},
   "outputs": [],
   "source": [
    "reset_rendering(graph, \"HANDOVER\", [], [handed, intar])"
   ]
  },
  {
   "cell_type": "code",
   "execution_count": null,
   "metadata": {},
   "outputs": [],
   "source": []
  },
  {
   "cell_type": "code",
   "execution_count": null,
   "metadata": {},
   "outputs": [],
   "source": []
  }
 ],
 "metadata": {
  "kernelspec": {
   "display_name": "Python 2",
   "language": "python",
   "name": "python2"
  },
  "language_info": {
   "codemirror_mode": {
    "name": "ipython",
    "version": 2
   },
   "file_extension": ".py",
   "mimetype": "text/x-python",
   "name": "python",
   "nbconvert_exporter": "python",
   "pygments_lexer": "ipython2",
   "version": "2.7.17"
  }
 },
 "nbformat": 4,
 "nbformat_minor": 2
}
