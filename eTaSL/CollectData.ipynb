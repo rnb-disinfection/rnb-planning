{
 "cells": [
  {
   "cell_type": "code",
   "execution_count": 1,
   "metadata": {},
   "outputs": [
    {
     "data": {
      "text/html": [
       "<style>.container { width:90% !important; } </style>"
      ],
      "text/plain": [
       "<IPython.core.display.HTML object>"
      ]
     },
     "metadata": {},
     "output_type": "display_data"
    }
   ],
   "source": [
    "from __future__ import print_function\n",
    "from IPython.core.display import display, HTML\n",
    "display(HTML(\"<style>.container { width:90% !important; } </style>\"))\n",
    "import matplotlib.pyplot as plt\n",
    "from pkg.marker_config import *\n",
    "from pkg.constraint_graph import *\n",
    "from pkg.constraint.constraint_action import *\n",
    "from pkg.constraint.constraint_object import *\n",
    "from pkg.constants import *\n",
    "from pkg.utils.plot_utils import *\n",
    "from pkg.utils.utils import *\n",
    "from pkg.environment_builder import *\n",
    "from pkg.ui.ui_broker import *\n",
    "from pkg.controller.combined_robot import *\n",
    "\n",
    "gtimer = GlobalTimer.instance()\n",
    "gtimer.reset()"
   ]
  },
  {
   "cell_type": "code",
   "execution_count": 2,
   "metadata": {},
   "outputs": [
    {
     "name": "stdout",
     "output_type": "stream",
     "text": [
      "connection_list\n",
      "(False, False)\n"
     ]
    }
   ],
   "source": [
    "from pkg.controller.combined_robot import CombinedRobot, XYZ_RPY_ROBOTS_DEFAULT\n",
    "from pkg.data_collecting.sampling import *\n",
    "crob = CombinedRobot(connection_list=(False, False))"
   ]
  },
  {
   "cell_type": "code",
   "execution_count": null,
   "metadata": {},
   "outputs": [],
   "source": []
  },
  {
   "cell_type": "markdown",
   "metadata": {},
   "source": [
    "## Global params definition"
   ]
  },
  {
   "cell_type": "code",
   "execution_count": 3,
   "metadata": {
    "scrolled": true
   },
   "outputs": [],
   "source": [
    "GLOBAL_PARAMS = dict(\n",
    "    BASE_LINK = \"base_link\",\n",
    "    MAX_REACH_DICT = {'indy0': 1.5, 'panda1': 1.5},\n",
    "    REACH_OFFSET_DICT = {'indy0': (0,0,0.3), 'panda1': (0,0,0.3)},\n",
    "    GRIPPER_REFS = {\"indy0\":{\"link_name\": \"indy0_tcp\", \"tcp_ref\": [0,0,0.14], \"depth_range\": (-0.07,0.00), \"width_range\": (0.03,0.05), \"bname\": \"grip0\"}, \n",
    "                    \"panda1\":{\"link_name\": \"panda1_hand\", \"tcp_ref\": [0,0,0.112], \"depth_range\": (-0.04,0.00), \"width_range\": (0.03,0.06), \"bname\": \"grip1\"}\n",
    "                   },\n",
    "    Nrbt = len(crob.robot_names), # 2\n",
    "    Njoints = len(crob.joint_names), # 13\n",
    "    WDH = (3,3,3),\n",
    "    WDH_MIN_RBT = (0.75,0.75,0.5), \n",
    "    WDH_MAX_RBT = (2.25,2.25,1.0),\n",
    "    L_CELL = 0.2,\n",
    "    MIN_DIST_ROBOT = 1,\n",
    "    No = 50,\n",
    "    RATIO_COVER = 2.0,\n",
    "    RATIO_DIMS = 2.0,\n",
    "    LINK_COLL_MARGIN = 0.01,\n",
    "    N_retry = 1\n",
    ")\n",
    "SAMPLED_DATA = defaultdict(dict)"
   ]
  },
  {
   "cell_type": "markdown",
   "metadata": {},
   "source": [
    "## set params"
   ]
  },
  {
   "cell_type": "code",
   "execution_count": 4,
   "metadata": {},
   "outputs": [
    {
     "name": "stdout",
     "output_type": "stream",
     "text": [
      "scene size: 3375 (15,15,15)\n"
     ]
    }
   ],
   "source": [
    "__local_params = locals()\n",
    "for k,v in GLOBAL_PARAMS.items():\n",
    "    __local_params[k] = v\n",
    "CENTER = tuple(np.divide(WDH, 2, dtype=np.float))\n",
    "Ws, Ds, Hs = WDH \n",
    "Nw, Nd, Nh = Nwdh = int(Ws/L_CELL), int(Ds/L_CELL), int(Hs/L_CELL)\n",
    "L_MAX = L_CELL*RATIO_DIMS\n",
    "print(\"scene size: {} ({},{},{})\".format(Nw*Nd*Nh, Nw, Nd, Nh))"
   ]
  },
  {
   "cell_type": "code",
   "execution_count": 5,
   "metadata": {},
   "outputs": [],
   "source": [
    "SAMPLED_DATA[\"WORLD\"][\"Trbt_dict\"] = Trbt_dict= sample_Trbt(Nrbt, crob.robot_names, WDH_MIN_RBT, WDH_MAX_RBT, MIN_DIST_ROBOT)\n",
    "reach_center_dict = {k: tuple(np.add(v[0], REACH_OFFSET_DICT[k])) for k, v in Trbt_dict.items()}"
   ]
  },
  {
   "cell_type": "code",
   "execution_count": null,
   "metadata": {},
   "outputs": [],
   "source": []
  },
  {
   "cell_type": "markdown",
   "metadata": {},
   "source": [
    "# LEVEL: WORLD"
   ]
  },
  {
   "cell_type": "markdown",
   "metadata": {},
   "source": [
    "## put robot"
   ]
  },
  {
   "cell_type": "code",
   "execution_count": 6,
   "metadata": {},
   "outputs": [
    {
     "name": "stderr",
     "output_type": "stream",
     "text": [
      "Unknown tag \"hardwareInterface\" in /robot[@name='custom_robots']/transmission[@name='indy0_tran0']/actuator[@name='indy0_motor0']\n",
      "Unknown tag \"hardwareInterface\" in /robot[@name='custom_robots']/transmission[@name='indy0_tran1']/actuator[@name='indy0_motor1']\n",
      "Unknown tag \"hardwareInterface\" in /robot[@name='custom_robots']/transmission[@name='indy0_tran2']/actuator[@name='indy0_motor2']\n",
      "Unknown tag \"hardwareInterface\" in /robot[@name='custom_robots']/transmission[@name='indy0_tran3']/actuator[@name='indy0_motor3']\n",
      "Unknown tag \"hardwareInterface\" in /robot[@name='custom_robots']/transmission[@name='indy0_tran4']/actuator[@name='indy0_motor4']\n",
      "Unknown tag \"hardwareInterface\" in /robot[@name='custom_robots']/transmission[@name='indy0_tran5']/actuator[@name='indy0_motor5']\n"
     ]
    },
    {
     "name": "stdout",
     "output_type": "stream",
     "text": [
      "Unable to register with master node [http://localhost:11311]: master may not be running yet. Will keep trying.\n"
     ]
    }
   ],
   "source": [
    "cam = None\n",
    "\n",
    "# set urdf\n",
    "xcustom, JOINT_NAMES, LINK_NAMES, urdf_content = set_custom_robots(crob.robots_on_scene, Trbt_dict, crob.joint_names)\n",
    "time.sleep(2)"
   ]
  },
  {
   "cell_type": "code",
   "execution_count": 7,
   "metadata": {},
   "outputs": [
    {
     "name": "stdout",
     "output_type": "stream",
     "text": [
      "Please create a subscriber to the marker\n",
      "publication OK\n",
      "published: [0, 0, 0, 0, 0, 0, 0, 0, 0, 0, 0, 0, 0]\n",
      "Please create a subscriber to the marker\n",
      "Dash is running on http://127.0.0.1:8050/\n",
      "\n",
      " * Serving Flask app \"pkg.ui.dash_launcher\" (lazy loading)\n",
      " * Environment: production\n",
      "   WARNING: This is a development server. Do not use it in a production deployment.\n",
      "   Use a production WSGI server instead.\n",
      " * Debug mode: off\n"
     ]
    }
   ],
   "source": [
    "# set graph\n",
    "if \"graph\" in locals():\n",
    "    graph.clear_markers()\n",
    "    graph.clear_highlight()\n",
    "    graph.ghnd.clear()\n",
    "    graph.__init__(urdf_path=URDF_PATH, joint_names=JOINT_NAMES, link_names=LINK_NAMES, \n",
    "                   urdf_content=urdf_content, combined_robot=crob)\n",
    "    graph.set_cam_robot_collision(_add_cam_poles=False, color=(1,1,0,0.3))\n",
    "    graph.set_rviz()\n",
    "else:\n",
    "    graph = ConstraintGraph(urdf_path=URDF_PATH, joint_names=JOINT_NAMES, link_names=LINK_NAMES, \n",
    "                            urdf_content=urdf_content, combined_robot=crob)\n",
    "    graph.set_camera(cam)\n",
    "    graph.set_cam_robot_collision(_add_cam_poles=False, color=(1,1,0,0.3))\n",
    "    graph.set_rviz()\n",
    "    \n",
    "    # start UI\n",
    "    ui_broker = UIBroker(graph)\n",
    "    ui_broker.start_server()\n",
    "    \n",
    "    # set rviz\n",
    "    graph.set_rviz(crob.home_pose)\n",
    "    ui_broker.set_tables()"
   ]
  },
  {
   "cell_type": "code",
   "execution_count": 8,
   "metadata": {},
   "outputs": [],
   "source": [
    "graph.register_binder(name='grip0', _type=FramedTool, point=[0,0,0.14], rpy=[0,0,0], link_name=\"indy0_tcp\")\n",
    "graph.register_binder(name='grip1', _type=FramedTool, point=[0,0,0.112], rpy=[0,0,0], link_name=\"panda1_hand\")\n",
    "graph.register_binder(name='base', _type=PlaceFrame, point=[0,0,0], rpy=[0,0,0], link_name=BASE_LINK)\n",
    "vtem = GeometryHandle.instance().create_safe(name=\"virtual\", gtype=GEOTYPE.SPHERE, link_name=BASE_LINK, \n",
    "                                             dims=(0,0,0), center=(0,0,0), rpy=(0,0,0), collision=False, display=False\n",
    "                                            )\n",
    "graph.add_object(\"virtual\",\n",
    "                 SinglePointHandle(_object=vtem,\n",
    "                                   action_point=FramePoint(name=\"point\", _object=vtem, point=(0,0,0), rpy=(0,0,0), name_full=None)), \n",
    "                 binding=(\"point\", \"base\"))"
   ]
  },
  {
   "cell_type": "code",
   "execution_count": null,
   "metadata": {},
   "outputs": [],
   "source": []
  },
  {
   "cell_type": "markdown",
   "metadata": {},
   "source": [
    "## show workspace"
   ]
  },
  {
   "cell_type": "code",
   "execution_count": 9,
   "metadata": {},
   "outputs": [],
   "source": [
    "# show_workspace(graph, Nwdh, CENTER, L_CELL)"
   ]
  },
  {
   "cell_type": "code",
   "execution_count": 10,
   "metadata": {},
   "outputs": [],
   "source": [
    "# remove_geometries_by_prefix(graph, \"workspace\")\n",
    "# remove_geometries_by_prefix(graph, \"grid\")"
   ]
  },
  {
   "cell_type": "code",
   "execution_count": null,
   "metadata": {},
   "outputs": [],
   "source": []
  },
  {
   "cell_type": "markdown",
   "metadata": {},
   "source": [
    "# LEVEL: PREMISE"
   ]
  },
  {
   "cell_type": "markdown",
   "metadata": {},
   "source": [
    "## init joints"
   ]
  },
  {
   "cell_type": "code",
   "execution_count": 11,
   "metadata": {},
   "outputs": [],
   "source": [
    "from pkg.data_collecting.sampling import *"
   ]
  },
  {
   "cell_type": "code",
   "execution_count": 12,
   "metadata": {
    "scrolled": true
   },
   "outputs": [],
   "source": [
    "SAMPLED_DATA[\"PREMISE\"][\"Q_s\"], _, _, _, _ = Q_s, links, link_verts, link_ctems, link_rads = sample_joint(graph)\n",
    "SAMPLED_DATA[\"PREMISE\"][\"Q_s_dict\"] = Q_s_dict = list2dict(Q_s, crob.joint_names)\n",
    "        \n",
    "graph.show_pose(Q_s)\n",
    "time.sleep(1)\n",
    "graph.show_pose(Q_s)\n",
    "time.sleep(1)\n",
    "graph.show_pose(Q_s)"
   ]
  },
  {
   "cell_type": "markdown",
   "metadata": {},
   "source": [
    "## extract available cells"
   ]
  },
  {
   "cell_type": "code",
   "execution_count": 13,
   "metadata": {},
   "outputs": [
    {
     "data": {
      "text/plain": [
       "1.6620159149169922"
      ]
     },
     "execution_count": 13,
     "metadata": {},
     "output_type": "execute_result"
    }
   ],
   "source": [
    "gtimer.tic(\"extract_available\")\n",
    "# coll_boxes = get_colliding_cells(Nwdh, L_CELL, link_ctems, link_rads)\n",
    "free_boxes = get_reachable_cells(Nwdh, L_CELL, reach_center_dict, MAX_REACH_DICT)\n",
    "gtimer.toc(\"extract_available\")\n",
    "\n",
    "# draw_cells(graph, \"col_cell\", coll_boxes, L_CELL, color=(0.9, 0, 0.2, 0.1))\n",
    "# remove_geometries_by_prefix(graph, \"col_cell\")\n",
    "# draw_cells(graph, \"reachable\", free_boxes, L_CELL, color=(0.2, 0.7, 0.2, 0.1))\n",
    "# remove_geometries_by_prefix(graph, \"reachable\")"
   ]
  },
  {
   "cell_type": "code",
   "execution_count": null,
   "metadata": {},
   "outputs": [],
   "source": []
  },
  {
   "cell_type": "markdown",
   "metadata": {},
   "source": [
    "# LEVEL: SCENE"
   ]
  },
  {
   "cell_type": "markdown",
   "metadata": {},
   "source": [
    "## sample objects"
   ]
  },
  {
   "cell_type": "code",
   "execution_count": 14,
   "metadata": {},
   "outputs": [],
   "source": [
    "obj_dat = []\n",
    "for geo_gen in OBJ_GEN_LIST:\n",
    "    obj_boxes = random.sample(free_boxes,No)\n",
    "#     draw_cells(graph, \"obj_cell\", obj_boxes, L_CELL, color=(0.2, 0.2, 0.7, 0.1))\n",
    "#     remove_geometries_by_prefix(graph, \"obj_cell\")\n",
    "    for nbox in obj_boxes:    \n",
    "        gtype, dims, color = geo_gen(L_MAX)\n",
    "        obj_dat.append({\"nbox\": nbox, \"gtype\": gtype.name, \"dims\": dims, \"color\": color, \n",
    "                        \"center\": tuple(np.multiply(nbox, L_CELL)+np.random.random((3,))*L_MAX+0.5*L_CELL - 0.5*L_MAX), \n",
    "                        \"rpy\": np.random.random((3,))*np.pi*2})\n",
    "SAMPLED_DATA[\"SCENE\"][\"obj_dat\"] = obj_dat"
   ]
  },
  {
   "cell_type": "markdown",
   "metadata": {},
   "source": [
    "## exclude colliding object"
   ]
  },
  {
   "cell_type": "code",
   "execution_count": 15,
   "metadata": {},
   "outputs": [],
   "source": [
    "__obj_dat=[]\n",
    "coll_list = []\n",
    "for odat in obj_dat:\n",
    "    gtype, center, rpy, dims = getattr(GEOTYPE,odat['gtype']), odat['center'], odat['rpy'], odat['dims']\n",
    "    ctem = getPointList(get_vertex_rows(gtype, center, rpy, dims))\n",
    "    crad = (dims[0]/2) if gtype in [GEOTYPE.CAPSULE, GEOTYPE.CYLINDER, GEOTYPE.SPHERE] else 0\n",
    "    if any(np.array(get_distance_list(ctem, link_ctems, crad, link_rads))<LINK_COLL_MARGIN):\n",
    "        odat['color'] = (0.9, 0.0, 0.0, 0.3)\n",
    "        coll_list.append(odat)\n",
    "    else:\n",
    "        __obj_dat.append(odat)\n",
    "SAMPLED_DATA[\"SCENE\"][\"obj_dat\"] = obj_dat = __obj_dat"
   ]
  },
  {
   "cell_type": "markdown",
   "metadata": {},
   "source": [
    "## put objects"
   ]
  },
  {
   "cell_type": "code",
   "execution_count": 16,
   "metadata": {},
   "outputs": [],
   "source": [
    "if \"obj_list\" in locals(): \n",
    "    for obj in obj_list: graph.remove_geometry(obj)\n",
    "obj_list=[]\n",
    "for odat in obj_dat:\n",
    "    nbox, gtype, dims, color, center, rpy = odat[\"nbox\"], getattr(GEOTYPE, odat[\"gtype\"]), odat[\"dims\"], odat[\"color\"], odat[\"center\"], odat[\"rpy\"]\n",
    "    obj = graph.ghnd.create_safe(\n",
    "        name=\"{}_{}_{}_{}\".format(gtype.name,*nbox), link_name=BASE_LINK, gtype=gtype,\n",
    "        center=center, rpy=rpy, dims=dims, color=color, display=True, collision=True, fixed=True)\n",
    "    obj_list.append(obj)\n",
    "    graph.add_marker(obj)"
   ]
  },
  {
   "cell_type": "code",
   "execution_count": 17,
   "metadata": {},
   "outputs": [],
   "source": [
    "if \"col_obj_list\" in locals(): \n",
    "    for obj in col_obj_list: graph.remove_geometry(obj)\n",
    "col_obj_list=[]\n",
    "for odat in coll_list:\n",
    "    nbox, gtype, dims, color, center, rpy = odat[\"nbox\"], getattr(GEOTYPE, odat[\"gtype\"]), odat[\"dims\"], odat[\"color\"], odat[\"center\"], odat[\"rpy\"]\n",
    "    obj = graph.ghnd.create_safe(\n",
    "        name=\"col_obj_{}_{}_{}\".format(*nbox), link_name=BASE_LINK, gtype=gtype,\n",
    "        center=center, rpy=rpy, dims=dims, color=color, display=True, collision=False, fixed=True)\n",
    "    col_obj_list.append(obj)\n",
    "    graph.add_marker(obj)"
   ]
  },
  {
   "cell_type": "code",
   "execution_count": 18,
   "metadata": {},
   "outputs": [],
   "source": [
    "if \"col_obj_list\" in locals(): \n",
    "    for obj in col_obj_list: graph.remove_geometry(obj)"
   ]
  },
  {
   "cell_type": "code",
   "execution_count": 19,
   "metadata": {},
   "outputs": [],
   "source": [
    "graph.set_rviz()"
   ]
  },
  {
   "cell_type": "code",
   "execution_count": null,
   "metadata": {},
   "outputs": [],
   "source": []
  },
  {
   "cell_type": "code",
   "execution_count": null,
   "metadata": {},
   "outputs": [],
   "source": []
  },
  {
   "cell_type": "markdown",
   "metadata": {},
   "source": [
    "# LEVEL: ACTION"
   ]
  },
  {
   "cell_type": "markdown",
   "metadata": {},
   "source": [
    "## DataCollector"
   ]
  },
  {
   "cell_type": "code",
   "execution_count": 20,
   "metadata": {
    "scrolled": true
   },
   "outputs": [],
   "source": [
    "class DataCollector:\n",
    "    def __init__(self, graph, GRIPPER_REFS, S_F_RATIO=2.0):\n",
    "        self.manager = PriorityQueueManager()\n",
    "        self.manager.start()\n",
    "        self.dict_lock = self.manager.Lock()\n",
    "        self.graph = graph\n",
    "        self.GRIPPER_REFS = GRIPPER_REFS\n",
    "        self.S_F_RATIO = S_F_RATIO\n",
    "        \n",
    "    def pick_search(self, ID, obj_list, Q_s, mplan, L_CELL, timeout=1, N_search=100, N_retry=5):\n",
    "        graph, GRIPPER_REFS = self.graph, self.GRIPPER_REFS\n",
    "        fail_count = 0\n",
    "        succ_count = 0\n",
    "        for i in range(N_search):\n",
    "            rname, inhand, obj, _, dims_bak, color_bak= sample_pick(GRIPPER_REFS, obj_list, L_CELL)\n",
    "            for _ in range(N_retry):\n",
    "                trajectory, Q_last, error, success = test_pick(graph, GRIPPER_REFS, rname, inhand, obj, None, Q_s, mplan, timeout=timeout)\n",
    "                if success: break\n",
    "            print(\"{}: {} - {}\".format(ID, \"SUCCESS\" if success else \"FAILURE\", i))\n",
    "            if success or fail_count < succ_count*self.S_F_RATIO:\n",
    "                self.dict_lock.acquire()\n",
    "                idx = self.snode_counter.value\n",
    "                self.snode_dict[idx] = {\n",
    "                    \"rname1\": rname, \"obj1\": gtem_to_dict(inhand),\n",
    "                    \"obj2\": gtem_to_dict(obj), \"rname2\": None, \"dims_bak\": dims_bak, \"color_bak\": color_bak,\n",
    "                    \"success\": success, \"trajectory\": trajectory}\n",
    "                self.snode_counter.value = self.snode_counter.value+1\n",
    "                self.dict_lock.release()\n",
    "                if success:\n",
    "                    succ_count+=1\n",
    "                else:\n",
    "                    fail_count+=1\n",
    "                print(\"=========== {} {} {} =========== - {}\".format(rname, ID, \"SUCCESS\" if success else \"FAILURE\", idx))\n",
    "            reset_rendering(graph, \"PICK\", [obj], [inhand], dims_bak, color_bak, vis=False)\n",
    "        print(\"=============== TERMINATE {} ==============\".format(ID))\n",
    "        \n",
    "    def place_search(self, ID, obj_list, Q_s, mplan, L_CELL, timeout=1, N_search=100, N_retry=1):\n",
    "        graph, GRIPPER_REFS = self.graph, self.GRIPPER_REFS\n",
    "        fail_count = 0\n",
    "        succ_count = 0\n",
    "        for i in range(N_search):\n",
    "            rname, inhand, ontarget, _, dims_bak, color_bak= sample_place(GRIPPER_REFS, obj_list, L_CELL)\n",
    "            for _ in range(N_retry):\n",
    "                trajectory, Q_last, error, success = test_place(graph, GRIPPER_REFS, rname, inhand, ontarget, None, Q_s, mplan, timeout=timeout)\n",
    "                if success: break\n",
    "            print(\"{}: {} - {}\".format(ID, \"SUCCESS\" if success else \"FAILURE\", i))\n",
    "            if success or fail_count < succ_count*self.S_F_RATIO:\n",
    "                self.dict_lock.acquire()\n",
    "                idx = self.snode_counter.value\n",
    "                self.snode_dict[idx] = {\n",
    "                    \"rname1\": rname, \"obj1\": gtem_to_dict(inhand),\n",
    "                    \"obj2\": gtem_to_dict(ontarget), \"rname2\": None, \"dims_bak\": dims_bak, \"color_bak\": color_bak,\n",
    "                    \"success\": success, \"trajectory\": trajectory}\n",
    "                self.snode_counter.value = self.snode_counter.value+1\n",
    "                self.dict_lock.release()\n",
    "                if success:\n",
    "                    succ_count+=1\n",
    "                else:\n",
    "                    fail_count+=1\n",
    "                print(\"=========== {} {} {} =========== - {}\".format(rname, ID, \"SUCCESS\" if success else \"FAILURE\", idx))\n",
    "            reset_rendering(graph, \"PLACE\", [], [ontarget, inhand], dims_bak, color_bak, vis=False)\n",
    "        print(\"=============== TERMINATE {} ==============\".format(ID))\n",
    "        \n",
    "    def handover_search(self, ID, obj_list, Q_s, eplan, L_CELL, timeout=1, N_search=100, N_retry=1):\n",
    "        graph, GRIPPER_REFS = self.graph, self.GRIPPER_REFS\n",
    "        fail_count = 0\n",
    "        succ_count = 0\n",
    "        for i in range(N_search):\n",
    "            src, handed, intar, tar, dims_bak, color_bak= sample_handover(GRIPPER_REFS, obj_list, L_CELL)\n",
    "            for _ in range(N_retry):\n",
    "                trajectory, Q_last, error, success = test_handover(graph, GRIPPER_REFS, src, handed, intar, tar, Q_s, eplan, timeout=timeout)\n",
    "                if success: break\n",
    "            print(\"{}: {} - {}\".format(ID, \"SUCCESS\" if success else \"FAILURE\", i))\n",
    "            if success or fail_count < succ_count*self.S_F_RATIO:\n",
    "                self.dict_lock.acquire()\n",
    "                idx = self.snode_counter.value\n",
    "                self.snode_dict[idx] = {\n",
    "                    \"rname1\": src, \"obj1\": gtem_to_dict(handed),\n",
    "                    \"obj2\": gtem_to_dict(intar), \"rname2\": tar, \"dims_bak\": dims_bak, \"color_bak\": color_bak,\n",
    "                    \"success\": success, \"trajectory\": trajectory}\n",
    "                self.snode_counter.value = self.snode_counter.value+1\n",
    "                self.dict_lock.release()\n",
    "                if success:\n",
    "                    succ_count+=1\n",
    "                else:\n",
    "                    fail_count+=1\n",
    "                print(\"=========== {}-{} {} {} =========== - {}\".format(src, tar, ID, \"SUCCESS\" if success else \"FAILURE\", idx))\n",
    "            reset_rendering(graph, \"HANDOVER\", [], [handed, intar], dims_bak, color_bak, vis=False)\n",
    "        print(\"=============== TERMINATE {} ==============\".format(ID))\n",
    "        \n",
    "    @record_time\n",
    "    def search_loop_mp(self, Q_s, mplan, search_fun, L_CELL, N_agents=None, timeout=1, N_search=100, N_retry=1):\n",
    "        gtimer.tic(\"search_loop_mp\")\n",
    "        if N_agents is None:\n",
    "            N_agents = cpu_count()\n",
    "        self.N_agents = N_agents\n",
    "        print(\"Use {}/{} agents\".format(N_agents, cpu_count()))\n",
    "        self.snode_counter = self.manager.Value('i', 0)\n",
    "        self.snode_dict = self.manager.dict()\n",
    "        self.proc_list = [Process(\n",
    "            target=search_fun,\n",
    "            args=(id_agent, obj_list, Q_s, mplan, L_CELL),\n",
    "            kwargs={'timeout':timeout, 'N_search': N_search, 'N_retry': N_retry}) \n",
    "                          for id_agent in range(N_agents)]\n",
    "        for proc in self.proc_list:\n",
    "            proc.start()\n",
    "\n",
    "        for proc in self.proc_list:\n",
    "            proc.join()\n",
    "        t = gtimer.toc(\"search_loop_mp\")\n",
    "        print(\"================== FINISHED in {} sec. ( {} / {} ) =======================\".format(round(t/1000,1), self.snode_counter.value, N_agents*N_search))\n",
    "        print(self.snode_counter.value)\n",
    "        \n",
    "    def play_all(self, graph, GRIPPER_REFS, key, test_fun,mplan, Q_s, timeout=1, N_retry=1, period=0.05, remove_map=[[1],[0]]):\n",
    "        for k in range(self.snode_counter.value):\n",
    "            rname, inhand, obj, tar, dims_bak, color_bak, succ, trajectory = load_manipulation_from_dict(self.snode_dict[k])\n",
    "            if succ:\n",
    "                dims_new, color_new = obj.dims, obj.color\n",
    "                for _ in range(N_retry):\n",
    "                    trajectory, Q_last, error, success = test_fun(graph, GRIPPER_REFS, rname, inhand, obj, tar, Q_s, mplan, timeout=timeout)\n",
    "                    if success:\n",
    "                        break\n",
    "                    else:\n",
    "                        print('fail log')\n",
    "                if not success:\n",
    "                    print(\"failed retry - {}\".format(k))\n",
    "                else:\n",
    "                    show_manip_coords(graph, GRIPPER_REFS, key, rname, inhand, obj, rname2=None)\n",
    "                    graph.show_motion(trajectory, period=period)\n",
    "            print(\"DONE: {}\".format(k))\n",
    "            remove1 = [[inhand, obj][iii] for iii in remove_map[0]]\n",
    "            remove2 = [[inhand, obj][iii] for iii in remove_map[1]]\n",
    "            reset_rendering(graph, key, remove1, remove2, dims_bak, color_bak, sleep=True, vis=True)"
   ]
  },
  {
   "cell_type": "code",
   "execution_count": 21,
   "metadata": {},
   "outputs": [],
   "source": [
    "dcol = DataCollector(graph, GRIPPER_REFS)"
   ]
  },
  {
   "cell_type": "code",
   "execution_count": 22,
   "metadata": {},
   "outputs": [],
   "source": [
    "graph.set_rviz()"
   ]
  },
  {
   "cell_type": "code",
   "execution_count": null,
   "metadata": {},
   "outputs": [],
   "source": []
  },
  {
   "cell_type": "markdown",
   "metadata": {},
   "source": [
    "# moveit"
   ]
  },
  {
   "cell_type": "code",
   "execution_count": 23,
   "metadata": {},
   "outputs": [],
   "source": [
    "mplan = MoveitPlanner(joint_names=graph.joint_names, link_names=graph.link_names, urdf_path=graph.urdf_path, urdf_content=graph.urdf_content,\n",
    "                      robot_names=graph.combined_robot.robot_names, binder_links=[v.object.link_name for v in graph.binder_dict.values()])\n",
    "graph.set_planner(mplan)\n",
    "mplan.update(graph)"
   ]
  },
  {
   "cell_type": "code",
   "execution_count": null,
   "metadata": {},
   "outputs": [],
   "source": []
  },
  {
   "cell_type": "code",
   "execution_count": null,
   "metadata": {},
   "outputs": [],
   "source": []
  },
  {
   "cell_type": "markdown",
   "metadata": {},
   "source": [
    "## pick case"
   ]
  },
  {
   "cell_type": "code",
   "execution_count": 24,
   "metadata": {},
   "outputs": [
    {
     "name": "stdout",
     "output_type": "stream",
     "text": [
      "Use 20/20 agents\n",
      "3: SUCCESS - 0\n",
      "=========== indy0 3 SUCCESS =========== - 0\n",
      "0: FAILURE - 0\n",
      "2: FAILURE - 0\n",
      "4: FAILURE - 0\n",
      "1: FAILURE - 0\n",
      "7: FAILURE - 0\n",
      "9: FAILURE - 0\n",
      "5: FAILURE - 0\n",
      "6: FAILURE - 0\n",
      "8: FAILURE - 0\n",
      "10: FAILURE - 0\n",
      "11: FAILURE - 0\n",
      "12: FAILURE - 0\n",
      "13: FAILURE - 0\n",
      "14: FAILURE - 0\n",
      "15: FAILURE - 0\n",
      "17: FAILURE - 0\n",
      "16: FAILURE - 0\n",
      "18: FAILURE - 0\n",
      "19: FAILURE - 0\n",
      "3: FAILURE - 1\n",
      "=========== panda1 3 FAILURE =========== - 1\n",
      "2: FAILURE - 1\n",
      "0: FAILURE - 1\n",
      "4: FAILURE - 1\n",
      "7: FAILURE - 1\n",
      "6: FAILURE - 1\n",
      "9: FAILURE - 1\n",
      "1: FAILURE - 1\n",
      "10: FAILURE - 1\n",
      "12: FAILURE - 1\n",
      "11: FAILURE - 1\n",
      "5: FAILURE - 1\n",
      "13: FAILURE - 1\n",
      "14: FAILURE - 1\n",
      "8: FAILURE - 1\n",
      "15: FAILURE - 1\n",
      "18: FAILURE - 1\n",
      "17: FAILURE - 1\n",
      "16: FAILURE - 1\n",
      "19: FAILURE - 1\n",
      "3: FAILURE - 2\n",
      "=========== indy0 3 FAILURE =========== - 2\n",
      "4: FAILURE - 2\n",
      "10: FAILURE - 2\n",
      "1: FAILURE - 2\n",
      "6: FAILURE - 2\n",
      "12: FAILURE - 2\n",
      "2: FAILURE - 2\n",
      "7: FAILURE - 2\n",
      "9: FAILURE - 2\n",
      "0: FAILURE - 2\n",
      "5: FAILURE - 2\n",
      "14: FAILURE - 2\n",
      "11: FAILURE - 2\n",
      "13: FAILURE - 2\n",
      "15: FAILURE - 2\n",
      "8: FAILURE - 2\n",
      "16: FAILURE - 2\n",
      "18: FAILURE - 2\n",
      "17: FAILURE - 2\n",
      "19: FAILURE - 2\n",
      "4: FAILURE - 3\n",
      "3: FAILURE - 3\n",
      "10: FAILURE - 3\n",
      "2: FAILURE - 3\n",
      "12: FAILURE - 3\n",
      "1: FAILURE - 3\n",
      "9: FAILURE - 3\n",
      "6: FAILURE - 3\n",
      "0: FAILURE - 3\n",
      "7: FAILURE - 3\n",
      "14: FAILURE - 3\n",
      "5: FAILURE - 3\n",
      "11: FAILURE - 3\n",
      "15: FAILURE - 3\n",
      "13: FAILURE - 3\n",
      "8: FAILURE - 3\n",
      "18: FAILURE - 3\n",
      "17: FAILURE - 3\n",
      "16: FAILURE - 3\n",
      "19: FAILURE - 3\n",
      "3: FAILURE - 4\n",
      "10: FAILURE - 4\n",
      "4: FAILURE - 4\n",
      "2: FAILURE - 4\n",
      "0: FAILURE - 4\n",
      "1: FAILURE - 4\n",
      "12: FAILURE - 4\n",
      "14: FAILURE - 4\n",
      "11: FAILURE - 4\n",
      "5: FAILURE - 4\n",
      "13: FAILURE - 4\n",
      "9: FAILURE - 4\n",
      "7: FAILURE - 4\n",
      "6: FAILURE - 4\n",
      "8: FAILURE - 4\n",
      "15: FAILURE - 4\n",
      "18: FAILURE - 4\n",
      "17: FAILURE - 4\n",
      "16: FAILURE - 4\n",
      "19: FAILURE - 4\n",
      "3: FAILURE - 5\n",
      "10: FAILURE - 5\n",
      "4: FAILURE - 5\n",
      "2: FAILURE - 5\n",
      "0: FAILURE - 5\n",
      "6: FAILURE - 5\n",
      "11: FAILURE - 5\n",
      "13: FAILURE - 5\n",
      "12: FAILURE - 5\n",
      "8: FAILURE - 5\n",
      "1: FAILURE - 5\n",
      "9: FAILURE - 5\n",
      "7: FAILURE - 5\n",
      "5: FAILURE - 5\n",
      "14: FAILURE - 5\n",
      "15: FAILURE - 5\n",
      "18: FAILURE - 5\n",
      "17: FAILURE - 5\n",
      "16: FAILURE - 5\n",
      "19: FAILURE - 5\n",
      "10: FAILURE - 6\n",
      "4: FAILURE - 6\n",
      "3: FAILURE - 6\n",
      "0: FAILURE - 6\n",
      "2: FAILURE - 6\n",
      "6: FAILURE - 6\n",
      "11: FAILURE - 6\n",
      "13: FAILURE - 6\n",
      "14: FAILURE - 6\n",
      "9: FAILURE - 6\n",
      "1: FAILURE - 6\n",
      "12: FAILURE - 6\n",
      "15: FAILURE - 6\n",
      "5: FAILURE - 6\n",
      "7: FAILURE - 6\n",
      "8: FAILURE - 6\n",
      "18: FAILURE - 6\n",
      "17: FAILURE - 6\n",
      "16: FAILURE - 6\n",
      "19: FAILURE - 6\n",
      "10: FAILURE - 7\n",
      "13: FAILURE - 7\n",
      "6: FAILURE - 7\n",
      "4: FAILURE - 7\n",
      "3: FAILURE - 7\n",
      "0: FAILURE - 7\n",
      "11: FAILURE - 7\n",
      "8: FAILURE - 7\n",
      "2: FAILURE - 7\n",
      "9: FAILURE - 7\n",
      "1: FAILURE - 7\n",
      "14: FAILURE - 7\n",
      "12: FAILURE - 7\n",
      "5: FAILURE - 7\n",
      "15: FAILURE - 7\n",
      "18: FAILURE - 7\n",
      "7: FAILURE - 7\n",
      "17: FAILURE - 7\n",
      "16: FAILURE - 7\n",
      "19: FAILURE - 7\n",
      "1: SUCCESS - 8\n",
      "=========== indy0 1 SUCCESS =========== - 3\n",
      "10: FAILURE - 8\n",
      "6: FAILURE - 8\n",
      "0: FAILURE - 8\n",
      "4: FAILURE - 8\n",
      "3: FAILURE - 8\n",
      "9: FAILURE - 8\n",
      "13: FAILURE - 8\n",
      "11: FAILURE - 8\n",
      "12: FAILURE - 8\n",
      "2: FAILURE - 8\n",
      "15: FAILURE - 8\n",
      "8: FAILURE - 8\n",
      "18: FAILURE - 8\n",
      "5: FAILURE - 8\n",
      "14: FAILURE - 8\n",
      "7: FAILURE - 8\n",
      "17: FAILURE - 8\n",
      "16: FAILURE - 8\n",
      "19: FAILURE - 8\n",
      "1: FAILURE - 9\n",
      "=========== panda1 1 FAILURE =========== - 4\n",
      "=============== TERMINATE 1 ==============\n",
      "10: FAILURE - 9\n",
      "0: FAILURE - 9\n",
      "6: FAILURE - 9\n",
      "3: FAILURE - 9\n",
      "=============== TERMINATE 0 ==============\n",
      "=============== TERMINATE 10 ==============\n",
      "=============== TERMINATE 6 ==============\n",
      "8: FAILURE - 9\n",
      "12: FAILURE - 9\n",
      "=============== TERMINATE 12 ==============\n",
      "=============== TERMINATE 3 ==============\n",
      "13: FAILURE - 9\n",
      "=============== TERMINATE 13 ==============\n",
      "15: FAILURE - 9\n",
      "=============== TERMINATE 15 ==============\n",
      "4: FAILURE - 9\n",
      "=============== TERMINATE 8 ==============\n",
      "=============== TERMINATE 4 ==============\n",
      "5: FAILURE - 9\n",
      "=============== TERMINATE 5 ==============\n",
      "9: FAILURE - 9\n",
      "=============== TERMINATE 9 ==============\n",
      "2: FAILURE - 9\n",
      "18: FAILURE - 9\n",
      "=============== TERMINATE 2 ==============\n",
      "=============== TERMINATE 18 ==============\n",
      "14: FAILURE - 9\n",
      "11: FAILURE - 9\n",
      "=============== TERMINATE 14 ==============\n",
      "=============== TERMINATE 11 ==============\n",
      "7: FAILURE - 9\n",
      "=============== TERMINATE 7 ==============\n",
      "17: FAILURE - 9\n",
      "=============== TERMINATE 17 ==============\n",
      "16: FAILURE - 9\n",
      "=============== TERMINATE 16 ==============\n",
      "19: FAILURE - 9\n",
      "=============== TERMINATE 19 ==============\n",
      "================== FINISHED in 11.4 sec. ( 5 / 200 ) =======================\n",
      "5\n"
     ]
    }
   ],
   "source": [
    "gtimer.reset()\n",
    "dcol.search_loop_mp(Q_s, mplan, search_fun=dcol.pick_search, L_CELL=L_CELL, N_agents=None, timeout=1, N_search=10, N_retry=1)"
   ]
  },
  {
   "cell_type": "code",
   "execution_count": 25,
   "metadata": {},
   "outputs": [],
   "source": [
    "graph.set_planner(mplan)\n",
    "mplan.update(graph)\n",
    "graph.set_rviz()"
   ]
  },
  {
   "cell_type": "markdown",
   "metadata": {},
   "source": [
    "## Playall"
   ]
  },
  {
   "cell_type": "code",
   "execution_count": 26,
   "metadata": {},
   "outputs": [
    {
     "name": "stdout",
     "output_type": "stream",
     "text": [
      "DONE: 0\n",
      "DONE: 1\n",
      "DONE: 2\n",
      "DONE: 3\n",
      "DONE: 4\n"
     ]
    }
   ],
   "source": [
    "dcol.play_all(graph, GRIPPER_REFS, \"PICK\", test_pick, mplan, Q_s, timeout=1, N_retry=5, remove_map=[[1],[0]])"
   ]
  },
  {
   "cell_type": "code",
   "execution_count": null,
   "metadata": {},
   "outputs": [],
   "source": []
  },
  {
   "cell_type": "code",
   "execution_count": null,
   "metadata": {},
   "outputs": [],
   "source": []
  },
  {
   "cell_type": "markdown",
   "metadata": {},
   "source": [
    "## place case"
   ]
  },
  {
   "cell_type": "code",
   "execution_count": 27,
   "metadata": {
    "scrolled": true
   },
   "outputs": [
    {
     "name": "stdout",
     "output_type": "stream",
     "text": [
      "Use 20/20 agents\n",
      "0: FAILURE - 0\n",
      "1: FAILURE - 0\n",
      "2: FAILURE - 0\n",
      "3: FAILURE - 0\n",
      "4: FAILURE - 0\n",
      "5: FAILURE - 0\n",
      "6: FAILURE - 0\n",
      "7: FAILURE - 0\n",
      "8: FAILURE - 0\n",
      "10: FAILURE - 0\n",
      "11: FAILURE - 0\n",
      "9: FAILURE - 0\n",
      "12: FAILURE - 0\n",
      "13: FAILURE - 0\n",
      "14: FAILURE - 0\n",
      "15: FAILURE - 0\n",
      "16: FAILURE - 0\n",
      "18: FAILURE - 0\n",
      "17: FAILURE - 0\n",
      "19: FAILURE - 0\n",
      "16: SUCCESS - 1\n",
      "=========== panda1 16 SUCCESS =========== - 0\n",
      "8: SUCCESS - 1\n",
      "=========== indy0 8 SUCCESS =========== - 1\n",
      "1: FAILURE - 1\n",
      "0: FAILURE - 1\n",
      "4: FAILURE - 1\n",
      "6: FAILURE - 1\n",
      "2: FAILURE - 1\n",
      "3: FAILURE - 1\n",
      "5: FAILURE - 1\n",
      "7: FAILURE - 1\n",
      "12: FAILURE - 1\n",
      "11: FAILURE - 1\n",
      "10: FAILURE - 1\n",
      "9: FAILURE - 1\n",
      "14: FAILURE - 1\n",
      "13: FAILURE - 1\n",
      "15: FAILURE - 1\n",
      "17: FAILURE - 1\n",
      "18: FAILURE - 1\n",
      "19: FAILURE - 1\n",
      "16: FAILURE - 2\n",
      "=========== indy0 16 FAILURE =========== - 2\n",
      "8: FAILURE - 2\n",
      "=========== indy0 8 FAILURE =========== - 3\n",
      "4: FAILURE - 2\n",
      "6: FAILURE - 2\n",
      "0: FAILURE - 2\n",
      "1: FAILURE - 2\n",
      "3: FAILURE - 2\n",
      "10: FAILURE - 2\n",
      "7: FAILURE - 2\n",
      "12: FAILURE - 2\n",
      "11: FAILURE - 2\n",
      "2: FAILURE - 2\n",
      "5: FAILURE - 2\n",
      "9: FAILURE - 2\n",
      "14: FAILURE - 2\n",
      "13: FAILURE - 2\n",
      "15: FAILURE - 2\n",
      "18: FAILURE - 2\n",
      "17: FAILURE - 2\n",
      "19: FAILURE - 2\n",
      "16: FAILURE - 3\n",
      "=========== indy0 16 FAILURE =========== - 4\n",
      "3: SUCCESS - 3\n",
      "=========== indy0 3 SUCCESS =========== - 5\n",
      "8: FAILURE - 3\n",
      "=========== panda1 8 FAILURE =========== - 6\n",
      "14: SUCCESS - 3\n",
      "=========== indy0 14 SUCCESS =========== - 7\n",
      "4: FAILURE - 3\n",
      "6: FAILURE - 3\n",
      "0: FAILURE - 3\n",
      "1: FAILURE - 3\n",
      "11: FAILURE - 3\n",
      "10: FAILURE - 3\n",
      "5: FAILURE - 3\n",
      "7: FAILURE - 3\n",
      "12: FAILURE - 3\n",
      "2: FAILURE - 3\n",
      "9: FAILURE - 3\n",
      "13: FAILURE - 3\n",
      "15: FAILURE - 3\n",
      "18: FAILURE - 3\n",
      "17: FAILURE - 3\n",
      "19: FAILURE - 3\n",
      "16: FAILURE - 4\n",
      "3: FAILURE - 4\n",
      "=========== panda1 3 FAILURE =========== - 8\n",
      "8: FAILURE - 4\n",
      "14: FAILURE - 4\n",
      "4: FAILURE - 4\n",
      "=========== panda1 14 FAILURE =========== - 9\n",
      "6: FAILURE - 4\n",
      "1: FAILURE - 4\n",
      "0: FAILURE - 4\n",
      "12: FAILURE - 4\n",
      "11: FAILURE - 4\n",
      "10: FAILURE - 4\n",
      "7: FAILURE - 4\n",
      "5: FAILURE - 4\n",
      "2: FAILURE - 4\n",
      "9: FAILURE - 4\n",
      "13: FAILURE - 4\n",
      "15: FAILURE - 4\n",
      "18: FAILURE - 4\n",
      "17: FAILURE - 4\n",
      "19: FAILURE - 4\n",
      "16: FAILURE - 5\n",
      "3: FAILURE - 5\n",
      "=========== indy0 3 FAILURE =========== - 10\n",
      "8: FAILURE - 5\n",
      "4: FAILURE - 5\n",
      "14: FAILURE - 5\n",
      "=========== panda1 14 FAILURE =========== - 11\n",
      "1: FAILURE - 5\n",
      "6: FAILURE - 5\n",
      "11: FAILURE - 5\n",
      "12: FAILURE - 5\n",
      "0: FAILURE - 5\n",
      "7: FAILURE - 5\n",
      "5: FAILURE - 5\n",
      "10: FAILURE - 5\n",
      "2: FAILURE - 5\n",
      "9: FAILURE - 5\n",
      "13: FAILURE - 5\n",
      "15: FAILURE - 5\n",
      "18: FAILURE - 5\n",
      "17: FAILURE - 5\n",
      "19: FAILURE - 5\n",
      "14: SUCCESS - 6\n",
      "=========== indy0 14 SUCCESS =========== - 12\n",
      "16: FAILURE - 6\n",
      "3: FAILURE - 6\n",
      "8: FAILURE - 6\n",
      "4: FAILURE - 6\n",
      "1: FAILURE - 6\n",
      "6: FAILURE - 6\n",
      "2: FAILURE - 6\n",
      "0: FAILURE - 6\n",
      "12: FAILURE - 6\n",
      "9: FAILURE - 6\n",
      "7: FAILURE - 6\n",
      "5: FAILURE - 6\n",
      "11: FAILURE - 6\n",
      "10: FAILURE - 6\n",
      "13: FAILURE - 6\n",
      "15: FAILURE - 6\n",
      "18: FAILURE - 6\n",
      "17: FAILURE - 6\n",
      "14: FAILURE - 7\n",
      "=========== indy0 14 FAILURE =========== - 13\n",
      "16: FAILURE - 7\n",
      "19: SUCCESS - 6\n",
      "=========== indy0 19 SUCCESS =========== - 14\n",
      "3: FAILURE - 7\n",
      "8: FAILURE - 7\n",
      "4: FAILURE - 7\n",
      "1: FAILURE - 7\n",
      "6: FAILURE - 7\n",
      "2: FAILURE - 7\n",
      "7: FAILURE - 7\n",
      "12: FAILURE - 7\n",
      "9: FAILURE - 7\n",
      "5: FAILURE - 7\n",
      "0: FAILURE - 7\n",
      "11: FAILURE - 7\n",
      "10: FAILURE - 7\n",
      "6: FAILURE - 8\n",
      "13: FAILURE - 7\n",
      "13: FAILURE - 8\n",
      "15: FAILURE - 7\n",
      "18: FAILURE - 7\n",
      "17: FAILURE - 7\n",
      "17: FAILURE - 8\n",
      "14: FAILURE - 8\n",
      "=========== indy0 14 FAILURE =========== - 15\n",
      "19: FAILURE - 7\n",
      "16: FAILURE - 8\n",
      "=========== panda1 19 FAILURE =========== - 16\n",
      "3: FAILURE - 8\n",
      "8: FAILURE - 8\n",
      "4: FAILURE - 8\n",
      "7: FAILURE - 8\n",
      "12: FAILURE - 8\n",
      "9: FAILURE - 8\n",
      "2: FAILURE - 8\n",
      "1: FAILURE - 8\n",
      "5: FAILURE - 8\n",
      "11: FAILURE - 8\n",
      "0: FAILURE - 8\n",
      "10: FAILURE - 8\n",
      "6: FAILURE - 9\n",
      "=============== TERMINATE 6 ==============\n",
      "13: FAILURE - 9\n",
      "=============== TERMINATE 13 ==============\n",
      "15: FAILURE - 8\n",
      "18: FAILURE - 8\n",
      "17: FAILURE - 9\n",
      "=============== TERMINATE 17 ==============\n",
      "14: FAILURE - 9\n",
      "=============== TERMINATE 14 ==============\n",
      "16: FAILURE - 9\n",
      "=============== TERMINATE 16 ==============\n",
      "19: FAILURE - 8\n",
      "=========== panda1 19 FAILURE =========== - 17\n",
      "3: FAILURE - 9\n",
      "=============== TERMINATE 3 ==============\n",
      "8: FAILURE - 9\n",
      "=============== TERMINATE 8 ==============\n",
      "4: FAILURE - 9\n",
      "=============== TERMINATE 4 ==============\n",
      "7: FAILURE - 9\n",
      "=============== TERMINATE 7 ==============\n",
      "2: FAILURE - 9\n",
      "=============== TERMINATE 2 ==============\n",
      "12: FAILURE - 9\n",
      "=============== TERMINATE 12 ==============\n",
      "1: FAILURE - 9\n",
      "=============== TERMINATE 1 ==============\n",
      "11: FAILURE - 9\n",
      "=============== TERMINATE 11 ==============\n",
      "9: FAILURE - 9\n",
      "=============== TERMINATE 9 ==============\n",
      "5: FAILURE - 9\n",
      "=============== TERMINATE 5 ==============\n",
      "10: FAILURE - 9\n",
      "=============== TERMINATE 10 ==============\n",
      "0: FAILURE - 9\n",
      "=============== TERMINATE 0 ==============\n",
      "15: FAILURE - 9\n",
      "=============== TERMINATE 15 ==============\n",
      "18: FAILURE - 9\n",
      "=============== TERMINATE 18 ==============\n",
      "19: FAILURE - 9\n",
      "=============== TERMINATE 19 ==============\n",
      "================== FINISHED in 11.6 sec. ( 18 / 200 ) =======================\n",
      "18\n"
     ]
    }
   ],
   "source": [
    "gtimer.reset()\n",
    "dcol.search_loop_mp(Q_s, mplan, search_fun=dcol.place_search, L_CELL=L_CELL, N_agents=None, timeout=1, N_search=10, N_retry=1)"
   ]
  },
  {
   "cell_type": "code",
   "execution_count": 28,
   "metadata": {},
   "outputs": [],
   "source": [
    "graph.set_planner(mplan)\n",
    "mplan.update(graph)\n",
    "graph.set_rviz()"
   ]
  },
  {
   "cell_type": "code",
   "execution_count": null,
   "metadata": {},
   "outputs": [],
   "source": []
  },
  {
   "cell_type": "markdown",
   "metadata": {},
   "source": [
    "## Playall"
   ]
  },
  {
   "cell_type": "code",
   "execution_count": 29,
   "metadata": {},
   "outputs": [
    {
     "name": "stdout",
     "output_type": "stream",
     "text": [
      "DONE: 0\n",
      "DONE: 1\n",
      "DONE: 2\n",
      "DONE: 3\n",
      "DONE: 4\n",
      "DONE: 5\n",
      "DONE: 6\n",
      "DONE: 7\n",
      "DONE: 8\n",
      "DONE: 9\n",
      "DONE: 10\n",
      "DONE: 11\n",
      "fail log\n",
      "DONE: 12\n",
      "DONE: 13\n",
      "DONE: 14\n",
      "DONE: 15\n",
      "DONE: 16\n",
      "DONE: 17\n"
     ]
    }
   ],
   "source": [
    "dcol.play_all(graph, GRIPPER_REFS, \"PLACE\", test_place, mplan, Q_s, timeout=1, N_retry=5, remove_map=[[],[0,1]])"
   ]
  },
  {
   "cell_type": "code",
   "execution_count": null,
   "metadata": {},
   "outputs": [],
   "source": []
  },
  {
   "cell_type": "code",
   "execution_count": null,
   "metadata": {},
   "outputs": [],
   "source": []
  },
  {
   "cell_type": "markdown",
   "metadata": {},
   "source": [
    "## eTaSL"
   ]
  },
  {
   "cell_type": "code",
   "execution_count": 23,
   "metadata": {},
   "outputs": [],
   "source": [
    "eplan = etasl_planner(joint_names=graph.joint_names, link_names=graph.link_names, urdf_path=graph.urdf_path)\n",
    "graph.set_planner(eplan)\n",
    "eplan.update(graph)"
   ]
  },
  {
   "cell_type": "code",
   "execution_count": null,
   "metadata": {},
   "outputs": [],
   "source": []
  },
  {
   "cell_type": "markdown",
   "metadata": {},
   "source": [
    "## handover case - make in-hand object"
   ]
  },
  {
   "cell_type": "code",
   "execution_count": 24,
   "metadata": {
    "scrolled": true
   },
   "outputs": [
    {
     "name": "stdout",
     "output_type": "stream",
     "text": [
      "Use 20/20 agents\n",
      "eTaSL exception: optimization failed during execution\n",
      "12: FAILURE - 0\n",
      "eTaSL exception: optimization failed during execution\n",
      "9: FAILURE - 0\n",
      "eTaSL exception: optimization failed during execution\n",
      "18: FAILURE - 0\n",
      "8: SUCCESS - 0\n",
      "=========== indy0-panda1 8 SUCCESS =========== - 0\n",
      "11: FAILURE - 0\n",
      "4: FAILURE - 0\n",
      "0: FAILURE - 0\n",
      "10: FAILURE - 0\n",
      "14: FAILURE - 0\n",
      "16: FAILURE - 0\n",
      "17: FAILURE - 0\n",
      "1: FAILURE - 0\n",
      "13: FAILURE - 0\n",
      "7: FAILURE - 0\n",
      "6: FAILURE - 0\n",
      "19: FAILURE - 0\n",
      "5: FAILURE - 0\n",
      "3: FAILURE - 0\n",
      "15: FAILURE - 0\n",
      "2: FAILURE - 0\n",
      "12: FAILURE - 1\n",
      "18: FAILURE - 1\n",
      "9: FAILURE - 1\n",
      "eTaSL exception: optimization failed during execution\n",
      "5: FAILURE - 1\n",
      "11: FAILURE - 1\n",
      "eTaSL exception: optimization failed during execution\n",
      "3: FAILURE - 1\n",
      "3: FAILURE - 2\n",
      "=============== TERMINATE 3 ==============\n",
      "15: SUCCESS - 1\n",
      "=========== panda1-indy0 15 SUCCESS =========== - 1\n",
      "7: FAILURE - 1\n",
      "13: SUCCESS - 1\n",
      "=========== indy0-panda1 13 SUCCESS =========== - 2\n",
      "7: FAILURE - 2\n",
      "=============== TERMINATE 7 ==============\n",
      "8: FAILURE - 1\n",
      "=========== panda1-indy0 8 FAILURE =========== - 3\n",
      "16: FAILURE - 1\n",
      "14: FAILURE - 1\n",
      "0: FAILURE - 1\n",
      "4: FAILURE - 1\n",
      "10: FAILURE - 1\n",
      "17: FAILURE - 1\n",
      "2: FAILURE - 1\n",
      "1: FAILURE - 1\n",
      "6: FAILURE - 1\n",
      "19: FAILURE - 1\n",
      "12: FAILURE - 2\n",
      "=============== TERMINATE 12 ==============\n",
      "16: FAILURE - 2\n",
      "=============== TERMINATE 16 ==============\n",
      "18: FAILURE - 2\n",
      "=============== TERMINATE 18 ==============\n",
      "5: FAILURE - 2\n",
      "=============== TERMINATE 5 ==============\n",
      "11: FAILURE - 2\n",
      "=============== TERMINATE 11 ==============\n",
      "9: FAILURE - 2\n",
      "=============== TERMINATE 9 ==============\n",
      "15: FAILURE - 2\n",
      "=========== indy0-panda1 15 FAILURE =========== - 4\n",
      "=============== TERMINATE 15 ==============\n",
      "13: FAILURE - 2\n",
      "=========== indy0-panda1 13 FAILURE =========== - 5\n",
      "=============== TERMINATE 13 ==============\n",
      "8: FAILURE - 2\n",
      "=========== panda1-indy0 8 FAILURE =========== - 6\n",
      "=============== TERMINATE 8 ==============\n",
      "2: FAILURE - 2\n",
      "=============== TERMINATE 2 ==============\n",
      "0: FAILURE - 2\n",
      "=============== TERMINATE 0 ==============\n",
      "4: FAILURE - 2\n",
      "=============== TERMINATE 4 ==============\n",
      "19: FAILURE - 2\n",
      "=============== TERMINATE 19 ==============\n",
      "17: FAILURE - 2\n",
      "=============== TERMINATE 17 ==============\n",
      "1: FAILURE - 2\n",
      "=============== TERMINATE 1 ==============\n",
      "14: FAILURE - 2\n",
      "=============== TERMINATE 14 ==============\n",
      "6: FAILURE - 2\n",
      "=============== TERMINATE 6 ==============\n",
      "10: FAILURE - 2\n",
      "=============== TERMINATE 10 ==============\n",
      "================== FINISHED in 41.8 sec. ( 7 / 60 ) =======================\n",
      "7\n"
     ]
    }
   ],
   "source": [
    "gtimer.reset()\n",
    "dcol.search_loop_mp(Q_s, eplan, search_fun=dcol.handover_search, L_CELL=L_CELL, N_agents=None, N_search=3, N_retry=1)"
   ]
  },
  {
   "cell_type": "code",
   "execution_count": null,
   "metadata": {},
   "outputs": [],
   "source": []
  },
  {
   "cell_type": "code",
   "execution_count": 25,
   "metadata": {},
   "outputs": [],
   "source": [
    "graph.set_planner(eplan)\n",
    "eplan.update(graph)\n",
    "graph.set_rviz()"
   ]
  },
  {
   "cell_type": "markdown",
   "metadata": {},
   "source": [
    "## Playall"
   ]
  },
  {
   "cell_type": "code",
   "execution_count": null,
   "metadata": {},
   "outputs": [
    {
     "name": "stdout",
     "output_type": "stream",
     "text": [
      "DONE: 0\n",
      "DONE: 1\n"
     ]
    }
   ],
   "source": [
    "dcol.play_all(graph, GRIPPER_REFS, \"HANDOVER\", test_handover, eplan, Q_s, timeout=1, N_retry=5, period=0.2, remove_map=[[],[0,1]])"
   ]
  },
  {
   "cell_type": "code",
   "execution_count": null,
   "metadata": {},
   "outputs": [],
   "source": []
  },
  {
   "cell_type": "code",
   "execution_count": null,
   "metadata": {},
   "outputs": [],
   "source": []
  },
  {
   "cell_type": "code",
   "execution_count": null,
   "metadata": {},
   "outputs": [],
   "source": []
  },
  {
   "cell_type": "code",
   "execution_count": 72,
   "metadata": {},
   "outputs": [],
   "source": [
    "src, handed, intar, tar = sample_handover(GRIPPER_REFS, obj_list, L_CELL)"
   ]
  },
  {
   "cell_type": "code",
   "execution_count": 73,
   "metadata": {
    "scrolled": true
   },
   "outputs": [],
   "source": [
    "show_manip_coords(graph, GRIPPER_REFS, \"HANDOVER\", src, handed, intar, tar)"
   ]
  },
  {
   "cell_type": "code",
   "execution_count": 74,
   "metadata": {},
   "outputs": [],
   "source": [
    "log_manipulation(SAMPLED_DATA, \"HANDOVER\", src, handed, intar, tar, None, None)"
   ]
  },
  {
   "cell_type": "code",
   "execution_count": 75,
   "metadata": {},
   "outputs": [],
   "source": [
    "reset_rendering(graph, \"HANDOVER\", [], [handed, intar])"
   ]
  },
  {
   "cell_type": "code",
   "execution_count": null,
   "metadata": {},
   "outputs": [],
   "source": []
  },
  {
   "cell_type": "code",
   "execution_count": null,
   "metadata": {},
   "outputs": [],
   "source": []
  }
 ],
 "metadata": {
  "kernelspec": {
   "display_name": "Python 2",
   "language": "python",
   "name": "python2"
  },
  "language_info": {
   "codemirror_mode": {
    "name": "ipython",
    "version": 2
   },
   "file_extension": ".py",
   "mimetype": "text/x-python",
   "name": "python",
   "nbconvert_exporter": "python",
   "pygments_lexer": "ipython2",
   "version": "2.7.17"
  }
 },
 "nbformat": 4,
 "nbformat_minor": 2
}
