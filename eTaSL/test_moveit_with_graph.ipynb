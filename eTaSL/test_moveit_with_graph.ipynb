{
 "cells": [
  {
   "cell_type": "markdown",
   "metadata": {},
   "source": [
    "# Prepare robots first  \n",
    "* run panda repeater on controller pc  \n",
    "\n",
    "```\n",
    "ssh panda@192.168.0.172\n",
    "roslaunch panda_ros_repeater joint_velocity_repeater.launch robot_ip:=192.168.0.13 load_gripper:=false\n",
    "\n",
    "```\n",
    "\n",
    "* Keep indy connected to conty to bypass conty-connection delay bug"
   ]
  },
  {
   "cell_type": "code",
   "execution_count": null,
   "metadata": {},
   "outputs": [],
   "source": []
  },
  {
   "cell_type": "markdown",
   "metadata": {},
   "source": [
    "# initialize notebook"
   ]
  },
  {
   "cell_type": "code",
   "execution_count": 1,
   "metadata": {
    "pycharm": {
     "name": "#%%\n"
    },
    "scrolled": true
   },
   "outputs": [
    {
     "data": {
      "text/html": [
       "<style>.container { width:90% !important; } </style>"
      ],
      "text/plain": [
       "<IPython.core.display.HTML object>"
      ]
     },
     "metadata": {},
     "output_type": "display_data"
    }
   ],
   "source": [
    "from __future__ import print_function\n",
    "from IPython.core.display import display, HTML\n",
    "display(HTML(\"<style>.container { width:90% !important; } </style>\"))\n",
    "import matplotlib.pyplot as plt"
   ]
  },
  {
   "cell_type": "code",
   "execution_count": null,
   "metadata": {},
   "outputs": [],
   "source": []
  },
  {
   "cell_type": "markdown",
   "metadata": {},
   "source": [
    "# Initialize constants"
   ]
  },
  {
   "cell_type": "code",
   "execution_count": 2,
   "metadata": {
    "scrolled": false
   },
   "outputs": [],
   "source": [
    "from pkg.marker_config import *\n",
    "from pkg.constraint_graph import *\n",
    "from pkg.constraint.constraint_action import *\n",
    "from pkg.constraint.constraint_object import *\n",
    "from pkg.constants import *\n",
    "from pkg.utils.plot_utils import *\n",
    "from pkg.utils.utils import *\n",
    "from pkg.environment_builder import *\n",
    "from pkg.ui.ui_broker import *\n",
    "from pkg.controller.combined_robot import *\n",
    "\n",
    "gtimer = GlobalTimer.instance()\n",
    "gtimer.reset()"
   ]
  },
  {
   "cell_type": "code",
   "execution_count": null,
   "metadata": {},
   "outputs": [],
   "source": []
  },
  {
   "cell_type": "code",
   "execution_count": 3,
   "metadata": {
    "scrolled": true
   },
   "outputs": [
    {
     "name": "stdout",
     "output_type": "stream",
     "text": [
      "connection_list\n",
      "(False, False)\n"
     ]
    }
   ],
   "source": [
    "crob = CombinedRobot(connection_list=(False, False))"
   ]
  },
  {
   "cell_type": "code",
   "execution_count": null,
   "metadata": {},
   "outputs": [],
   "source": []
  },
  {
   "cell_type": "markdown",
   "metadata": {},
   "source": [
    "# initialize graph & ui"
   ]
  },
  {
   "cell_type": "code",
   "execution_count": 4,
   "metadata": {
    "scrolled": true
   },
   "outputs": [
    {
     "name": "stderr",
     "output_type": "stream",
     "text": [
      "Unknown tag \"hardwareInterface\" in /robot[@name='custom_robots']/transmission[@name='indy0_tran0']/actuator[@name='indy0_motor0']\n",
      "Unknown tag \"hardwareInterface\" in /robot[@name='custom_robots']/transmission[@name='indy0_tran1']/actuator[@name='indy0_motor1']\n",
      "Unknown tag \"hardwareInterface\" in /robot[@name='custom_robots']/transmission[@name='indy0_tran2']/actuator[@name='indy0_motor2']\n",
      "Unknown tag \"hardwareInterface\" in /robot[@name='custom_robots']/transmission[@name='indy0_tran3']/actuator[@name='indy0_motor3']\n",
      "Unknown tag \"hardwareInterface\" in /robot[@name='custom_robots']/transmission[@name='indy0_tran4']/actuator[@name='indy0_motor4']\n",
      "Unknown tag \"hardwareInterface\" in /robot[@name='custom_robots']/transmission[@name='indy0_tran5']/actuator[@name='indy0_motor5']\n"
     ]
    },
    {
     "name": "stdout",
     "output_type": "stream",
     "text": [
      "Please create a subscriber to the marker\n",
      "publication OK\n",
      "published: [0, 0, 0, 0, 0, 0, 0, 0, 0, 0, 0, 0, 0]\n",
      "Please create a subscriber to the marker\n",
      "Dash is running on http://127.0.0.1:8050/\n",
      "\n",
      " * Serving Flask app \"pkg.ui.dash_launcher\" (lazy loading)\n",
      " * Environment: production\n",
      "   WARNING: This is a development server. Do not use it in a production deployment.\n",
      "   Use a production WSGI server instead.\n",
      " * Debug mode: off\n"
     ]
    }
   ],
   "source": [
    "if \"cam\" not in locals():\n",
    "    cam = None # StereoCamera.instance()\n",
    "\n",
    "# set urdf\n",
    "xcustom, JOINT_NAMES, LINK_NAMES, urdf_content = set_custom_robots(crob.robots_on_scene, XYZ_RPY_ROBOTS_DEFAULT, crob.custom_limits, start_rviz=True)\n",
    "ghnd = GeometryHandle(urdf_content)\n",
    "\n",
    "\n",
    "graph = ConstraintGraph(ghnd=ghnd, urdf_path=URDF_PATH, joint_names=JOINT_NAMES, link_names=LINK_NAMES, \n",
    "                        urdf_content=urdf_content, combined_robot=crob)\n",
    "graph.set_camera(cam)\n",
    "graph.set_cam_robot_collision(_add_cam_poles=False)\n",
    "graph.set_rviz()\n",
    "\n",
    "# start UI\n",
    "ui_broker = UIBroker.instance()\n",
    "ui_broker.initialize(graph)\n",
    "ui_broker.start_server()\n",
    "\n",
    "# set rviz\n",
    "graph.set_rviz(crob.home_pose)\n",
    "ui_broker.set_tables()"
   ]
  },
  {
   "cell_type": "code",
   "execution_count": null,
   "metadata": {},
   "outputs": [],
   "source": []
  },
  {
   "cell_type": "code",
   "execution_count": 5,
   "metadata": {},
   "outputs": [],
   "source": [
    "from pkg.planner.moveit import moveit_py\n",
    "from pkg.planner.moveit.moveit_planner import MoveitPlanner"
   ]
  },
  {
   "cell_type": "markdown",
   "metadata": {},
   "source": [
    "### Set Planner"
   ]
  },
  {
   "cell_type": "code",
   "execution_count": 6,
   "metadata": {},
   "outputs": [],
   "source": [
    "mplan = MoveitPlanner(\n",
    "    joint_names=graph.joint_names, link_names=graph.link_names, urdf_path=graph.urdf_path, urdf_content=graph.urdf_content, \n",
    "    robot_names=crob.robot_names, ghnd=ghnd)"
   ]
  },
  {
   "cell_type": "code",
   "execution_count": null,
   "metadata": {},
   "outputs": [],
   "source": []
  },
  {
   "cell_type": "markdown",
   "metadata": {},
   "source": [
    "### define tool"
   ]
  },
  {
   "cell_type": "code",
   "execution_count": 7,
   "metadata": {},
   "outputs": [],
   "source": [
    "GROUP_NAME, TOOL_LINK, BASE_LINK  = \"indy0\", \"indy0_tcp\", \"base_link\"\n",
    "TOOL_XYZRPY = ((0,0,0.14),(np.pi,0,0))\n",
    "# TOOL_XYZRPY = ((0,0,0),(0,0,0))\n",
    "# ORIGIN_XYZRPY = ((0,0,0.4), (0,0,0))\n",
    "ORIGIN_XYZRPY = (( -0.637836,   -0.102947,  0.527019  ), (3.14151544, -0.01124507,  1.55726101))\n",
    "\n",
    "TOOL_TF = T_xyzrpy(TOOL_XYZRPY)\n",
    "TOOL_XYZQUAT = T2xyzquat(TOOL_TF)\n",
    "ORIGIN_TF = T_xyzrpy(ORIGIN_XYZRPY)"
   ]
  },
  {
   "cell_type": "code",
   "execution_count": null,
   "metadata": {},
   "outputs": [],
   "source": []
  },
  {
   "cell_type": "markdown",
   "metadata": {},
   "source": [
    "### Show constraints"
   ]
  },
  {
   "cell_type": "code",
   "execution_count": 8,
   "metadata": {},
   "outputs": [],
   "source": [
    "mtem_list=[]"
   ]
  },
  {
   "cell_type": "code",
   "execution_count": 23,
   "metadata": {},
   "outputs": [],
   "source": [
    "for mtem in mtem_list:\n",
    "    graph.remove_geometry(mtem)\n",
    "mtem_list=[]"
   ]
  },
  {
   "cell_type": "code",
   "execution_count": 24,
   "metadata": {},
   "outputs": [],
   "source": [
    "# mtem_list.append(ghnd.create_safe(gtype=GEOTYPE.BOX, name=\"plane\", link_name=\"base_link\",\n",
    "#                                       center=ORIGIN_XYZRPY[0], rpy=ORIGIN_XYZRPY[1], \n",
    "#                                       dims=(3,3,0.001), color=(1, 1, 0, 0.5),\n",
    "#                                       collision=False))\n",
    "# mtem_list.append(ghnd.create_safe(gtype=GEOTYPE.CYLINDER, name=\"cylinder\", link_name=\"base_link\",\n",
    "#                                       center=np.add(ORIGIN_XYZRPY[0], (0.05,0,0)), rpy=ORIGIN_XYZRPY[1], \n",
    "#                                       dims=(0.1,0.1,0.1), color=(1, 1, 0, 0.5),\n",
    "#                                       collision=False))\n",
    "mtem_list.append(ghnd.create_safe(gtype=GEOTYPE.SPHERE, name=\"cylinder\", link_name=\"base_link\",\n",
    "                                      center=np.add(ORIGIN_XYZRPY[0], (0.05,0,0)), rpy=ORIGIN_XYZRPY[1], \n",
    "                                      dims=(0.1,0.1,0.1), color=(1, 1, 0, 0.5),\n",
    "                                      collision=False))\n",
    "for mtem in mtem_list:\n",
    "    graph.add_marker(mtem)"
   ]
  },
  {
   "cell_type": "code",
   "execution_count": null,
   "metadata": {},
   "outputs": [],
   "source": []
  },
  {
   "cell_type": "markdown",
   "metadata": {},
   "source": [
    "### move to starting pose"
   ]
  },
  {
   "cell_type": "code",
   "execution_count": 25,
   "metadata": {},
   "outputs": [],
   "source": [
    "Q_init = crob.home_pose\n",
    "goal_pose = T2xyzquat(np.matmul(ORIGIN_TF, TOOL_TF))\n",
    "trajectory, success = mplan.planner.plan_py(robot_name=GROUP_NAME, tool_link=TOOL_LINK, goal_pose=goal_pose[0]+goal_pose[1], goal_link=BASE_LINK, \n",
    "                                            Q_init=Q_init, plannerconfig=\"RRTConnectkConfigDefault\", timeout=1)\n",
    "Q_ready = trajectory[-1]"
   ]
  },
  {
   "cell_type": "code",
   "execution_count": 26,
   "metadata": {},
   "outputs": [
    {
     "name": "stdout",
     "output_type": "stream",
     "text": [
      "goal pose: ([-0.637803852558136, -0.10137300938367844, 0.3870278596878052], [0.003921231635065741, -0.004029640151390661, 0.7022939191396269, 0.7118649008640737])\n",
      "Q_ready: [-0.   -2.82  2.18 -0.    0.64 -3.14  0.   -0.39  0.   -1.57  0.    1.57\n",
      "  1.57]\n"
     ]
    }
   ],
   "source": [
    "graph.show_motion(trajectory)\n",
    "graph.show_pose(Q_ready)\n",
    "print(\"goal pose: {}\".format(goal_pose))\n",
    "print(\"Q_ready: {}\".format(np.round(Q_ready,2)))"
   ]
  },
  {
   "cell_type": "code",
   "execution_count": null,
   "metadata": {},
   "outputs": [],
   "source": []
  },
  {
   "cell_type": "markdown",
   "metadata": {},
   "source": [
    "### set manifolds"
   ]
  },
  {
   "cell_type": "code",
   "execution_count": 32,
   "metadata": {},
   "outputs": [],
   "source": [
    "mplan.planner.clear_context_cache()\n",
    "mplan.planner.clear_manifolds()\n",
    "ctem_list = make_constraint_list(mtem_list)\n",
    "mplan.planner.add_union_manifold_py(group_name=GROUP_NAME, tool_link=TOOL_LINK, tool_offset=TOOL_XYZQUAT[0]+TOOL_XYZQUAT[1], \n",
    "                                    geometry_list=ctem_list, fix_surface=False, fix_normal=True, radius=1e-5, tol=2e-3)"
   ]
  },
  {
   "cell_type": "code",
   "execution_count": null,
   "metadata": {},
   "outputs": [],
   "source": []
  },
  {
   "cell_type": "markdown",
   "metadata": {},
   "source": [
    "### search plan"
   ]
  },
  {
   "cell_type": "code",
   "execution_count": 33,
   "metadata": {},
   "outputs": [],
   "source": [
    "tool_tf = np.matmul(get_tf(TOOL_LINK, list2dict(Q_ready, mplan.joint_names), mplan.urdf_content), T_xyzrpy(TOOL_XYZRPY))\n",
    "goal_pose = T2xyzquat(np.matmul( \\\n",
    "                                np.matmul(ORIGIN_TF, SE3(np.identity(3), (0.0,0.1,0.0))),\n",
    "                                TOOL_TF))"
   ]
  },
  {
   "cell_type": "code",
   "execution_count": 34,
   "metadata": {},
   "outputs": [
    {
     "ename": "RuntimeError",
     "evalue": "wrong jacobian calculation ",
     "output_type": "error",
     "traceback": [
      "\u001b[0;31m---------------------------------------------------------------------------\u001b[0m",
      "\u001b[0;31mRuntimeError\u001b[0m                              Traceback (most recent call last)",
      "\u001b[0;32m<ipython-input-34-d089aae3afd3>\u001b[0m in \u001b[0;36m<module>\u001b[0;34m()\u001b[0m\n\u001b[0;32m----> 1\u001b[0;31m \u001b[0mtrajectory\u001b[0m\u001b[0;34m,\u001b[0m \u001b[0msuccess\u001b[0m \u001b[0;34m=\u001b[0m \u001b[0mmplan\u001b[0m\u001b[0;34m.\u001b[0m\u001b[0mplanner\u001b[0m\u001b[0;34m.\u001b[0m\u001b[0mplan_constrained_py\u001b[0m\u001b[0;34m(\u001b[0m\u001b[0mGROUP_NAME\u001b[0m\u001b[0;34m,\u001b[0m\u001b[0mTOOL_LINK\u001b[0m\u001b[0;34m,\u001b[0m \u001b[0mgoal_pose\u001b[0m\u001b[0;34m[\u001b[0m\u001b[0;36m0\u001b[0m\u001b[0;34m]\u001b[0m\u001b[0;34m+\u001b[0m\u001b[0mgoal_pose\u001b[0m\u001b[0;34m[\u001b[0m\u001b[0;36m1\u001b[0m\u001b[0;34m]\u001b[0m\u001b[0;34m,\u001b[0m \u001b[0mBASE_LINK\u001b[0m\u001b[0;34m,\u001b[0m \u001b[0mQ_ready\u001b[0m\u001b[0;34m,\u001b[0m \u001b[0mtimeout\u001b[0m\u001b[0;34m=\u001b[0m\u001b[0;36m60\u001b[0m\u001b[0;34m)\u001b[0m\u001b[0;34m\u001b[0m\u001b[0m\n\u001b[0m\u001b[1;32m      2\u001b[0m \u001b[0;32mprint\u001b[0m\u001b[0;34m(\u001b[0m\u001b[0;34m'result: {} ({})'\u001b[0m\u001b[0;34m.\u001b[0m\u001b[0mformat\u001b[0m\u001b[0;34m(\u001b[0m\u001b[0msuccess\u001b[0m\u001b[0;34m,\u001b[0m \u001b[0mlen\u001b[0m\u001b[0;34m(\u001b[0m\u001b[0mtrajectory\u001b[0m\u001b[0;34m)\u001b[0m\u001b[0;34m)\u001b[0m\u001b[0;34m)\u001b[0m\u001b[0;34m\u001b[0m\u001b[0m\n",
      "\u001b[0;32m/home/tamp/Projects/tamp_etasl/eTaSL/pkg/planner/moveit/moveit_py.pyc\u001b[0m in \u001b[0;36mplan_constrained_py\u001b[0;34m(self, robot_name, tool_link, goal_pose, goal_link, Q_init, plannerconfig, timeout, allow_approximate)\u001b[0m\n\u001b[1;32m    118\u001b[0m         plan = self.plan_with_constraints(robot_name, tool_link,\n\u001b[1;32m    119\u001b[0m                                           \u001b[0mCartPose\u001b[0m\u001b[0;34m(\u001b[0m\u001b[0;34m*\u001b[0m\u001b[0mgoal_pose\u001b[0m\u001b[0;34m)\u001b[0m\u001b[0;34m,\u001b[0m \u001b[0mgoal_link\u001b[0m\u001b[0;34m,\u001b[0m \u001b[0mJointState\u001b[0m\u001b[0;34m(\u001b[0m\u001b[0mself\u001b[0m\u001b[0;34m.\u001b[0m\u001b[0mjoint_num\u001b[0m\u001b[0;34m,\u001b[0m \u001b[0;34m*\u001b[0m\u001b[0mQ_init\u001b[0m\u001b[0;34m)\u001b[0m\u001b[0;34m,\u001b[0m\u001b[0;34m\u001b[0m\u001b[0m\n\u001b[0;32m--> 120\u001b[0;31m                                           plannerconfig, timeout, allow_approximate)\n\u001b[0m\u001b[1;32m    121\u001b[0m         return np.array(\n\u001b[1;32m    122\u001b[0m             [spread(Q, self.joint_num) for Q in spread(plan.trajectory, len(plan.trajectory))]), plan.success\n",
      "\u001b[0;31mRuntimeError\u001b[0m: wrong jacobian calculation "
     ]
    }
   ],
   "source": [
    "trajectory, success = mplan.planner.plan_constrained_py(GROUP_NAME,TOOL_LINK, goal_pose[0]+goal_pose[1], BASE_LINK, Q_ready, timeout=60)\n",
    "print('result: {} ({})'.format(success, len(trajectory)))"
   ]
  },
  {
   "cell_type": "code",
   "execution_count": null,
   "metadata": {},
   "outputs": [],
   "source": []
  },
  {
   "cell_type": "code",
   "execution_count": 30,
   "metadata": {},
   "outputs": [],
   "source": [
    "graph.show_motion(trajectory, period=0.01)"
   ]
  },
  {
   "cell_type": "code",
   "execution_count": 31,
   "metadata": {},
   "outputs": [
    {
     "data": {
      "text/plain": [
       "[<matplotlib.lines.Line2D at 0x7f144043b390>,\n",
       " <matplotlib.lines.Line2D at 0x7f144043b4d0>,\n",
       " <matplotlib.lines.Line2D at 0x7f144043b510>,\n",
       " <matplotlib.lines.Line2D at 0x7f144043b5d0>,\n",
       " <matplotlib.lines.Line2D at 0x7f144043b690>,\n",
       " <matplotlib.lines.Line2D at 0x7f144043b750>,\n",
       " <matplotlib.lines.Line2D at 0x7f144043b810>,\n",
       " <matplotlib.lines.Line2D at 0x7f144043b8d0>,\n",
       " <matplotlib.lines.Line2D at 0x7f144043b990>,\n",
       " <matplotlib.lines.Line2D at 0x7f144043ba50>,\n",
       " <matplotlib.lines.Line2D at 0x7f144043bb10>,\n",
       " <matplotlib.lines.Line2D at 0x7f144043bbd0>,\n",
       " <matplotlib.lines.Line2D at 0x7f144043bc90>]"
      ]
     },
     "execution_count": 31,
     "metadata": {},
     "output_type": "execute_result"
    },
    {
     "data": {
      "image/png": "[encoded data removed]",
      "text/plain": [
       "<Figure size 432x288 with 1 Axes>"
      ]
     },
     "metadata": {
      "needs_background": "light"
     },
     "output_type": "display_data"
    }
   ],
   "source": [
    "plt.plot(trajectory)"
   ]
  },
  {
   "cell_type": "code",
   "execution_count": 25,
   "metadata": {},
   "outputs": [],
   "source": [
    "for mtem in mtem_list:\n",
    "    graph.remove_geometry(mtem)"
   ]
  },
  {
   "cell_type": "code",
   "execution_count": 46,
   "metadata": {},
   "outputs": [
    {
     "data": {
      "text/plain": [
       "array([-0.6780565, -0.3631056,  0.652356 ])"
      ]
     },
     "execution_count": 46,
     "metadata": {},
     "output_type": "execute_result"
    }
   ],
   "source": []
  },
  {
   "cell_type": "code",
   "execution_count": 47,
   "metadata": {},
   "outputs": [
    {
     "data": {
      "text/plain": [
       "0.30254189724992736"
      ]
     },
     "execution_count": 47,
     "metadata": {},
     "output_type": "execute_result"
    }
   ],
   "source": [
    "np.linalg.norm(np.subtract(str2num_split_blank(\"-0.587836   -0.102947    0.527019\"), \n",
    "                           get_tf(\"indy0_tcp\", list2dict([-0.696546, -1.52706, 0.545226, 2.94653, -1.71177, -3.65257]+[0]*7, graph.joint_names), graph.urdf_content)[:3,3]))"
   ]
  },
  {
   "cell_type": "code",
   "execution_count": 55,
   "metadata": {},
   "outputs": [
    {
     "data": {
      "text/plain": [
       "0.008209728784035399"
      ]
     },
     "execution_count": 55,
     "metadata": {},
     "output_type": "execute_result"
    }
   ],
   "source": [
    "np.linalg.norm(np.subtract(str2num_split_blank(\"-0.587836   -0.102947    0.527019\"), \n",
    "                           get_tf(\"indy0_tcp\", list2dict(str2num_split_blank(\"0.110842 -0.384913  -1.15123 0.0380885  -2.21211  -2.13386\")+[0]*7, graph.joint_names), graph.urdf_content)[:3,3])) - 0.05"
   ]
  },
  {
   "cell_type": "code",
   "execution_count": 56,
   "metadata": {},
   "outputs": [
    {
     "data": {
      "text/plain": [
       "-2.885570144911531e-07"
      ]
     },
     "execution_count": 56,
     "metadata": {},
     "output_type": "execute_result"
    }
   ],
   "source": [
    "np.linalg.norm(np.subtract(str2num_split_blank(\"-0.587836   -0.102947    0.527019\"), \n",
    "                           get_tf(\"indy0_tcp\", list2dict(str2num_split_blank(\"0     0 -1.57     0 -1.57     0     0  -0.4     0 -1.57     0  1.57  1.57\"), graph.joint_names), graph.urdf_content)[:3,3])) - 0.05"
   ]
  },
  {
   "cell_type": "code",
   "execution_count": 59,
   "metadata": {},
   "outputs": [
    {
     "data": {
      "text/plain": [
       "0.378974698252115"
      ]
     },
     "execution_count": 59,
     "metadata": {},
     "output_type": "execute_result"
    }
   ],
   "source": [
    "np.linalg.norm([str2num_split_blank(\"-0.119472 0.00136604  -0.162475   0.116895  -0.298804          0\")])"
   ]
  },
  {
   "cell_type": "code",
   "execution_count": null,
   "metadata": {},
   "outputs": [],
   "source": [
    "str2num_split_blank(\"-0.187945  -0.557526   -0.53147   0.360739  -0.699756          0\")"
   ]
  },
  {
   "cell_type": "code",
   "execution_count": 59,
   "metadata": {},
   "outputs": [
    {
     "data": {
      "text/plain": [
       "0.378974698252115"
      ]
     },
     "execution_count": 59,
     "metadata": {},
     "output_type": "execute_result"
    }
   ],
   "source": [
    "np.linalg.norm([str2num_split_blank(\"-0.119472 0.00136604  -0.162475   0.116895  -0.298804          0\")])"
   ]
  },
  {
   "cell_type": "code",
   "execution_count": 61,
   "metadata": {},
   "outputs": [
    {
     "data": {
      "text/plain": [
       "array([[-0.119472  ,  0.00136604, -0.162475  ,  0.116895  , -0.298804  ,\n",
       "         0.        ],\n",
       "       [-0.187945  , -0.557526  , -0.53147   ,  0.360739  , -0.699756  ,\n",
       "         0.        ]])"
      ]
     },
     "execution_count": 61,
     "metadata": {},
     "output_type": "execute_result"
    }
   ],
   "source": [
    "np.array(\n",
    "    [str2num_split_blank(\"-0.119472 0.00136604  -0.162475   0.116895  -0.298804          0\"),\n",
    "     str2num_split_blank(\"-0.187945  -0.557526   -0.53147   0.360739  -0.699756          0\")])"
   ]
  },
  {
   "cell_type": "code",
   "execution_count": null,
   "metadata": {},
   "outputs": [],
   "source": []
  },
  {
   "cell_type": "code",
   "execution_count": null,
   "metadata": {},
   "outputs": [],
   "source": []
  },
  {
   "cell_type": "code",
   "execution_count": null,
   "metadata": {},
   "outputs": [],
   "source": []
  },
  {
   "cell_type": "code",
   "execution_count": null,
   "metadata": {},
   "outputs": [],
   "source": []
  }
 ],
 "metadata": {
  "kernelspec": {
   "display_name": "Python 2",
   "language": "python",
   "name": "python2"
  },
  "language_info": {
   "codemirror_mode": {
    "name": "ipython",
    "version": 2
   },
   "file_extension": ".py",
   "mimetype": "text/x-python",
   "name": "python",
   "nbconvert_exporter": "python",
   "pygments_lexer": "ipython2",
   "version": "2.7.17"
  }
 },
 "nbformat": 4,
 "nbformat_minor": 2
}
