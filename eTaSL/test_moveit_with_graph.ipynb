{
 "cells": [
  {
   "cell_type": "markdown",
   "metadata": {},
   "source": [
    "# Prepare robots first  \n",
    "* run panda repeater on controller pc  \n",
    "\n",
    "```\n",
    "ssh panda@192.168.0.172\n",
    "roslaunch panda_ros_repeater joint_velocity_repeater.launch robot_ip:=192.168.0.13 load_gripper:=false\n",
    "\n",
    "```\n",
    "\n",
    "* Keep indy connected to conty to bypass conty-connection delay bug"
   ]
  },
  {
   "cell_type": "code",
   "execution_count": null,
   "metadata": {},
   "outputs": [],
   "source": []
  },
  {
   "cell_type": "markdown",
   "metadata": {},
   "source": [
    "# initialize notebook"
   ]
  },
  {
   "cell_type": "code",
   "execution_count": 1,
   "metadata": {
    "pycharm": {
     "name": "#%%\n"
    },
    "scrolled": true
   },
   "outputs": [
    {
     "data": {
      "text/html": [
       "<style>.container { width:90% !important; } </style>"
      ],
      "text/plain": [
       "<IPython.core.display.HTML object>"
      ]
     },
     "metadata": {},
     "output_type": "display_data"
    }
   ],
   "source": [
    "from __future__ import print_function\n",
    "from IPython.core.display import display, HTML\n",
    "display(HTML(\"<style>.container { width:90% !important; } </style>\"))\n",
    "import matplotlib.pyplot as plt"
   ]
  },
  {
   "cell_type": "code",
   "execution_count": null,
   "metadata": {},
   "outputs": [],
   "source": []
  },
  {
   "cell_type": "markdown",
   "metadata": {},
   "source": [
    "# Initialize constants"
   ]
  },
  {
   "cell_type": "code",
   "execution_count": 2,
   "metadata": {
    "scrolled": false
   },
   "outputs": [],
   "source": [
    "from pkg.marker_config import *\n",
    "from pkg.constraint_graph import *\n",
    "from pkg.constraint.constraint_action import *\n",
    "from pkg.constraint.constraint_object import *\n",
    "from pkg.constants import *\n",
    "from pkg.utils.plot_utils import *\n",
    "from pkg.utils.utils import *\n",
    "from pkg.environment_builder import *\n",
    "from pkg.ui.ui_broker import *\n",
    "from pkg.controller.combined_robot import *\n",
    "\n",
    "gtimer = GlobalTimer.instance()\n",
    "gtimer.reset()"
   ]
  },
  {
   "cell_type": "code",
   "execution_count": null,
   "metadata": {},
   "outputs": [],
   "source": []
  },
  {
   "cell_type": "code",
   "execution_count": 3,
   "metadata": {
    "scrolled": true
   },
   "outputs": [
    {
     "name": "stdout",
     "output_type": "stream",
     "text": [
      "connection_list\n",
      "(False, False)\n"
     ]
    }
   ],
   "source": [
    "crob = CombinedRobot(connection_list=(False, False))"
   ]
  },
  {
   "cell_type": "code",
   "execution_count": null,
   "metadata": {},
   "outputs": [],
   "source": []
  },
  {
   "cell_type": "markdown",
   "metadata": {},
   "source": [
    "# initialize graph & ui"
   ]
  },
  {
   "cell_type": "code",
   "execution_count": 4,
   "metadata": {
    "scrolled": true
   },
   "outputs": [
    {
     "name": "stderr",
     "output_type": "stream",
     "text": [
      "Unknown tag \"hardwareInterface\" in /robot[@name='custom_robots']/transmission[@name='indy0_tran0']/actuator[@name='indy0_motor0']\n",
      "Unknown tag \"hardwareInterface\" in /robot[@name='custom_robots']/transmission[@name='indy0_tran1']/actuator[@name='indy0_motor1']\n",
      "Unknown tag \"hardwareInterface\" in /robot[@name='custom_robots']/transmission[@name='indy0_tran2']/actuator[@name='indy0_motor2']\n",
      "Unknown tag \"hardwareInterface\" in /robot[@name='custom_robots']/transmission[@name='indy0_tran3']/actuator[@name='indy0_motor3']\n",
      "Unknown tag \"hardwareInterface\" in /robot[@name='custom_robots']/transmission[@name='indy0_tran4']/actuator[@name='indy0_motor4']\n",
      "Unknown tag \"hardwareInterface\" in /robot[@name='custom_robots']/transmission[@name='indy0_tran5']/actuator[@name='indy0_motor5']\n"
     ]
    },
    {
     "name": "stdout",
     "output_type": "stream",
     "text": [
      "Please create a subscriber to the marker\n",
      "publication OK\n",
      "published: [0, 0, 0, 0, 0, 0, 0, 0, 0, 0, 0, 0, 0]\n",
      "Please create a subscriber to the marker\n",
      "Dash is running on http://127.0.0.1:8050/\n",
      "\n",
      " * Serving Flask app \"pkg.ui.dash_launcher\" (lazy loading)\n",
      " * Environment: production\n",
      "   WARNING: This is a development server. Do not use it in a production deployment.\n",
      "   Use a production WSGI server instead.\n",
      " * Debug mode: off\n"
     ]
    }
   ],
   "source": [
    "if \"cam\" not in locals():\n",
    "    cam = None # StereoCamera.instance()\n",
    "\n",
    "# set urdf\n",
    "xcustom, JOINT_NAMES, LINK_NAMES, urdf_content = set_custom_robots(crob.robots_on_scene, XYZ_RPY_ROBOTS_DEFAULT, crob.custom_limits, start_rviz=True)\n",
    "ghnd = GeometryHandle(urdf_content)\n",
    "\n",
    "\n",
    "graph = ConstraintGraph(ghnd=ghnd, urdf_path=URDF_PATH, joint_names=JOINT_NAMES, link_names=LINK_NAMES, \n",
    "                        urdf_content=urdf_content, combined_robot=crob)\n",
    "graph.set_camera(cam)\n",
    "graph.set_cam_robot_collision(_add_cam_poles=False)\n",
    "graph.set_rviz()\n",
    "\n",
    "# start UI\n",
    "ui_broker = UIBroker.instance()\n",
    "ui_broker.initialize(graph)\n",
    "ui_broker.start_server()\n",
    "\n",
    "# set rviz\n",
    "graph.set_rviz(crob.home_pose)\n",
    "ui_broker.set_tables()"
   ]
  },
  {
   "cell_type": "code",
   "execution_count": null,
   "metadata": {},
   "outputs": [],
   "source": []
  },
  {
   "cell_type": "code",
   "execution_count": 5,
   "metadata": {},
   "outputs": [],
   "source": [
    "from pkg.planner.moveit import moveit_py\n",
    "from pkg.planner.moveit.moveit_planner import MoveitPlanner"
   ]
  },
  {
   "cell_type": "markdown",
   "metadata": {},
   "source": [
    "### Set Planner"
   ]
  },
  {
   "cell_type": "code",
   "execution_count": 6,
   "metadata": {},
   "outputs": [],
   "source": [
    "mplan = MoveitPlanner(\n",
    "    joint_names=graph.joint_names, link_names=graph.link_names, urdf_path=graph.urdf_path, urdf_content=graph.urdf_content, \n",
    "    robot_names=crob.robot_names, ghnd=ghnd)"
   ]
  },
  {
   "cell_type": "code",
   "execution_count": 7,
   "metadata": {},
   "outputs": [],
   "source": [
    "mtem_list=[]"
   ]
  },
  {
   "cell_type": "code",
   "execution_count": null,
   "metadata": {},
   "outputs": [],
   "source": []
  },
  {
   "cell_type": "markdown",
   "metadata": {},
   "source": [
    "### define constants"
   ]
  },
  {
   "cell_type": "code",
   "execution_count": 8,
   "metadata": {},
   "outputs": [],
   "source": [
    "GROUP_NAME, TOOL_LINK, BASE_LINK  = \"indy0\", \"indy0_tcp\", \"base_link\"\n",
    "TOOL_XYZRPY = ((0,0,0.14),(np.pi,0,0))\n",
    "# TOOL_XYZRPY = ((0,0,0),(0,0,0))\n",
    "# ORIGIN_XYZRPY = ((0,0,0.4), (0,0,0))\n",
    "ORIGIN_XYZRPY = (( -0.637836,   -0.102947,  0.527019  ), (3.14151544, -0.01124507,  1.55726101))\n",
    "\n",
    "TOOL_TF = T_xyzrpy(TOOL_XYZRPY)\n",
    "TOOL_XYZQUAT = T2xyzquat(TOOL_TF)\n",
    "ORIGIN_TF = T_xyzrpy(ORIGIN_XYZRPY)\n",
    "\n",
    "graph.add_marker(ghnd.create_safe(gtype=GEOTYPE.SPHERE, name=\"tool\", link_name=\"indy0_tcp\",\n",
    "                                      center=TOOL_XYZRPY[0], rpy=(0,0,0), \n",
    "                                      dims=(0.02,0.02,0.02), color=(1, 0, 0, 0.7),\n",
    "                                      collision=False))"
   ]
  },
  {
   "cell_type": "code",
   "execution_count": null,
   "metadata": {},
   "outputs": [],
   "source": []
  },
  {
   "cell_type": "markdown",
   "metadata": {},
   "source": [
    "# Plane-Cylinder Test"
   ]
  },
  {
   "cell_type": "markdown",
   "metadata": {},
   "source": [
    "### Show constraints"
   ]
  },
  {
   "cell_type": "code",
   "execution_count": 9,
   "metadata": {},
   "outputs": [],
   "source": [
    "for mtem in mtem_list:\n",
    "    graph.remove_geometry(mtem)\n",
    "mtem_list=[]"
   ]
  },
  {
   "cell_type": "code",
   "execution_count": 10,
   "metadata": {},
   "outputs": [],
   "source": [
    "mtem_list.append(ghnd.create_safe(gtype=GEOTYPE.BOX, name=\"plane\", link_name=\"base_link\",\n",
    "                                      center=np.add(ORIGIN_XYZRPY[0], (0,0,0)), rpy=(0,0,0), \n",
    "                                      dims=(3,3,0.001), color=(1, 1, 0, 0.5),\n",
    "                                      collision=False))\n",
    "mtem_list.append(ghnd.create_safe(gtype=GEOTYPE.CYLINDER, name=\"cylinder\", link_name=\"base_link\",\n",
    "                                      center=np.add(ORIGIN_XYZRPY[0], (0.05,0,-0.1)), rpy=(np.pi/2,0,0), \n",
    "                                      dims=(0.3,0.3,3), color=(1, 1, 0, 0.5),\n",
    "                                      collision=False))\n",
    "for mtem in mtem_list:\n",
    "    graph.add_marker(mtem)"
   ]
  },
  {
   "cell_type": "code",
   "execution_count": null,
   "metadata": {},
   "outputs": [],
   "source": []
  },
  {
   "cell_type": "markdown",
   "metadata": {},
   "source": [
    "### check starting pose"
   ]
  },
  {
   "cell_type": "code",
   "execution_count": 11,
   "metadata": {},
   "outputs": [
    {
     "name": "stdout",
     "output_type": "stream",
     "text": [
      "start_pose: ([-0.8378497958183289, -0.10181383043527603, 0.6669947504997253], [0.7118649008640737, 0.7022939191396269, 0.004029640151390661, -0.003921231635065741])\n",
      "Q_ready: [-0.47 -0.43 -0.6   0.   -2.11 -0.47  0.   -0.39  0.   -1.57  0.    1.57\n",
      "  1.57]\n"
     ]
    }
   ],
   "source": [
    "Q_init = crob.home_pose\n",
    "start_pose = T2xyzquat(np.matmul(np.matmul(ORIGIN_TF,SE3(Rot_rpy((np.pi,0,0)),[0.0,-0.2,0])), TOOL_TF))\n",
    "trajectory, success = mplan.planner.plan_py(robot_name=GROUP_NAME, tool_link=TOOL_LINK, goal_pose=start_pose[0]+start_pose[1], goal_link=BASE_LINK, \n",
    "                                            Q_init=Q_init, plannerconfig=\"RRTConnectkConfigDefault\", timeout=1)\n",
    "Q_ready = trajectory[-1]\n",
    "print(\"start_pose: {}\".format(start_pose))\n",
    "print(\"Q_ready: {}\".format(np.round(Q_ready,2)))"
   ]
  },
  {
   "cell_type": "code",
   "execution_count": 12,
   "metadata": {},
   "outputs": [],
   "source": [
    "graph.show_motion(trajectory)\n",
    "graph.show_pose(trajectory[-1])"
   ]
  },
  {
   "cell_type": "markdown",
   "metadata": {},
   "source": [
    "### check goal pose"
   ]
  },
  {
   "cell_type": "code",
   "execution_count": 13,
   "metadata": {},
   "outputs": [
    {
     "name": "stdout",
     "output_type": "stream",
     "text": [
      "Q_last_ex: [ 2.61724917e+00 -5.28200320e-02  1.20905390e+00  2.12673962e-03\n",
      "  1.98386902e+00 -2.09451590e+00  0.00000000e+00 -3.92699082e-01\n",
      "  0.00000000e+00 -1.57079633e+00  0.00000000e+00  1.57079633e+00\n",
      "  1.57079633e+00]\n",
      "goal_pose: ([-0.43788641691207886, -0.10722813755273819, 0.667025625705719], [0.9999612912273312, -0.00676771672940532, 7.665620629702626e-05, -0.005622115354993529])\n"
     ]
    }
   ],
   "source": [
    "Q_init = crob.home_pose\n",
    "# goal_pose = T2xyzquat(np.matmul(np.matmul(ORIGIN_TF,SE3(Rot_rpy((np.pi,0,np.pi/2)),[0,0.05-np.sqrt(0.15**2-0.10**2),0])), TOOL_TF)) # fitst meet\n",
    "# goal_pose = T2xyzquat(np.matmul(np.matmul(ORIGIN_TF,SE3(Rot_rpy((np.pi,0,np.pi/2)),[0.0,0.05,-0.05])), TOOL_TF)) # top\n",
    "goal_pose = T2xyzquat(np.matmul(np.matmul(ORIGIN_TF,SE3(Rot_rpy((np.pi,0,np.pi/2)),[0,0.05+0.15,0])), TOOL_TF)) # after meet\n",
    "trajectory, success = mplan.planner.plan_py(robot_name=GROUP_NAME, tool_link=TOOL_LINK, goal_pose=goal_pose[0]+goal_pose[1], goal_link=BASE_LINK, \n",
    "                                            Q_init=Q_ready, plannerconfig=\"RRTConnectkConfigDefault\", timeout=1)\n",
    "Q_last_ex = trajectory[-1]\n",
    "print(\"Q_last_ex: {}\".format(Q_last_ex))\n",
    "print(\"goal_pose: {}\".format(goal_pose))"
   ]
  },
  {
   "cell_type": "code",
   "execution_count": 14,
   "metadata": {},
   "outputs": [],
   "source": [
    "graph.show_motion(trajectory)\n",
    "graph.show_pose(trajectory[-1])"
   ]
  },
  {
   "cell_type": "code",
   "execution_count": null,
   "metadata": {},
   "outputs": [],
   "source": []
  },
  {
   "cell_type": "markdown",
   "metadata": {},
   "source": [
    "### set manifolds"
   ]
  },
  {
   "cell_type": "code",
   "execution_count": 18,
   "metadata": {},
   "outputs": [],
   "source": [
    "mplan.planner.clear_context_cache()\n",
    "mplan.planner.clear_manifolds()\n",
    "ctem_list = make_constraint_list(mtem_list)\n",
    "mplan.planner.add_union_manifold_py(group_name=GROUP_NAME, tool_link=TOOL_LINK, tool_offset=TOOL_XYZQUAT[0]+TOOL_XYZQUAT[1], \n",
    "                                    geometry_list=ctem_list, fix_surface=True, fix_normal=False, tol=2e-3)\n",
    "ctem_list_vert = make_constraint_list(mtem_list[:1])\n",
    "mplan.planner.add_union_manifold_py(group_name=GROUP_NAME, tool_link=TOOL_LINK, tool_offset=TOOL_XYZQUAT[0]+TOOL_XYZQUAT[1], \n",
    "                                    geometry_list=ctem_list_vert, fix_surface=False, fix_normal=True, tol=2e-3)"
   ]
  },
  {
   "cell_type": "code",
   "execution_count": null,
   "metadata": {},
   "outputs": [],
   "source": []
  },
  {
   "cell_type": "markdown",
   "metadata": {},
   "source": [
    "### search plan"
   ]
  },
  {
   "cell_type": "code",
   "execution_count": 19,
   "metadata": {},
   "outputs": [
    {
     "name": "stdout",
     "output_type": "stream",
     "text": [
      "result: True (107)\n"
     ]
    }
   ],
   "source": [
    "trajectory, success = mplan.planner.plan_constrained_py(GROUP_NAME,TOOL_LINK, goal_pose[0]+goal_pose[1], BASE_LINK, Q_ready, timeout=60)\n",
    "print('result: {} ({})'.format(success, len(trajectory)))"
   ]
  },
  {
   "cell_type": "code",
   "execution_count": 20,
   "metadata": {},
   "outputs": [],
   "source": [
    "graph.show_motion(trajectory, period=0.01)"
   ]
  },
  {
   "cell_type": "code",
   "execution_count": null,
   "metadata": {},
   "outputs": [],
   "source": []
  },
  {
   "cell_type": "markdown",
   "metadata": {},
   "source": [
    "## Execute motion"
   ]
  },
  {
   "cell_type": "code",
   "execution_count": 70,
   "metadata": {},
   "outputs": [
    {
     "name": "stdout",
     "output_type": "stream",
     "text": [
      "Connect: Server IP (192.168.0.63)\n",
      "Connect: Server IP (192.168.0.63)\n"
     ]
    }
   ],
   "source": [
    "# prepare indy\n",
    "indy = indytraj_client(server_ip=\"192.168.0.63\", robot_name=\"NRMK-Indy7\")\n",
    "\n",
    "# Options\n",
    "traj_type = 1  # 1 for joint move, 2 for task move\n",
    "traj_freq = 4000  # control rate\n",
    "dat_size = 6  # DOF\n",
    "\n",
    "# make_trajectory\n",
    "trj_exp = trajectory[:,:6]\n",
    "double_count = int(ceil(log(40000/len(trajectory))/log(2)))\n",
    "for _ in range(double_count):\n",
    "    trj_exp = interpolate_double(trj_exp)\n",
    "trj_exp_d = differentiate(trj_exp, 1./traj_freq)\n",
    "trj_exp_dd = differentiate(trj_exp_d, 1./traj_freq)\n",
    "traj_data = np.concatenate([trj_exp, trj_exp_d, trj_exp_dd], axis=-1).flatten()\n",
    "indy.connect_and(indy.joint_move_to, np.rad2deg(trajectory[0, :6]))\n",
    "indy.connect_and(indy.move_ext_traj_txt, traj_type, traj_freq, dat_size, traj_data)"
   ]
  },
  {
   "cell_type": "code",
   "execution_count": null,
   "metadata": {},
   "outputs": [],
   "source": []
  },
  {
   "cell_type": "markdown",
   "metadata": {},
   "source": [
    "### PROCESS\n",
    "* 2 surface trajectory: checked\n",
    "* 2 surface-normal jacobian: checked\n",
    "* 2 surface-normal trajectory: fail due to angle discontinuity, set separate agle constraint\n",
    "* positive surface: checked\n",
    "* intersection: checked"
   ]
  },
  {
   "cell_type": "code",
   "execution_count": null,
   "metadata": {},
   "outputs": [],
   "source": []
  },
  {
   "cell_type": "code",
   "execution_count": null,
   "metadata": {},
   "outputs": [],
   "source": []
  },
  {
   "cell_type": "code",
   "execution_count": 84,
   "metadata": {},
   "outputs": [],
   "source": [
    "# Qtest = trajectory[20]\n",
    "# Qtest = Q_ready\n",
    "# Qtest = Q_init\n",
    "Qtest = Q_last_ex\n",
    "graph.show_pose(Qtest)\n",
    "mplan.planner.test_jacobian(moveit_py.JointState(mplan.joint_num, *Qtest))"
   ]
  },
  {
   "cell_type": "code",
   "execution_count": 55,
   "metadata": {},
   "outputs": [
    {
     "data": {
      "text/plain": [
       "[-0.0709806,\n",
       " -0.0977563,\n",
       " -1.05406,\n",
       " 0.000116293,\n",
       " -1.98851,\n",
       " 1.49946,\n",
       " 0.0,\n",
       " -0.392699,\n",
       " 0.0,\n",
       " -1.5708,\n",
       " 0.0,\n",
       " 1.5708,\n",
       " 1.5708]"
      ]
     },
     "execution_count": 55,
     "metadata": {},
     "output_type": "execute_result"
    }
   ],
   "source": []
  },
  {
   "cell_type": "markdown",
   "metadata": {},
   "source": [
    "# Plane Test"
   ]
  },
  {
   "cell_type": "markdown",
   "metadata": {},
   "source": [
    "### Show constraints"
   ]
  },
  {
   "cell_type": "code",
   "execution_count": 31,
   "metadata": {},
   "outputs": [],
   "source": [
    "for mtem in mtem_list:\n",
    "    graph.remove_geometry(mtem)\n",
    "mtem_list=[]"
   ]
  },
  {
   "cell_type": "code",
   "execution_count": 32,
   "metadata": {},
   "outputs": [],
   "source": [
    "mtem_list.append(ghnd.create_safe(gtype=GEOTYPE.BOX, name=\"plane\", link_name=\"base_link\",\n",
    "                                      center=ORIGIN_XYZRPY[0], rpy=ORIGIN_XYZRPY[1], \n",
    "                                      dims=(3,3,0.001), color=(1, 1, 0, 0.5),\n",
    "                                      collision=False))\n",
    "for mtem in mtem_list:\n",
    "    graph.add_marker(mtem)"
   ]
  },
  {
   "cell_type": "code",
   "execution_count": null,
   "metadata": {},
   "outputs": [],
   "source": []
  },
  {
   "cell_type": "markdown",
   "metadata": {},
   "source": [
    "### check starting pose"
   ]
  },
  {
   "cell_type": "code",
   "execution_count": 33,
   "metadata": {},
   "outputs": [
    {
     "name": "stdout",
     "output_type": "stream",
     "text": [
      "start_pose: ([-0.637803852558136, -0.10137300938367844, 0.3870278596878052], [0.003921231635065741, -0.004029640151390661, 0.7022939191396269, 0.7118649008640737])\n",
      "Q_ready: [ 2.16  2.82 -2.18  0.   -0.64  0.98  0.   -0.39  0.   -1.57  0.    1.57\n",
      "  1.57]\n"
     ]
    }
   ],
   "source": [
    "Q_init = crob.home_pose\n",
    "start_pose = T2xyzquat(np.matmul(np.matmul(ORIGIN_TF,SE3(Rot_rpy((0,0,0)),[0]*3)), TOOL_TF))\n",
    "trajectory, success = mplan.planner.plan_py(robot_name=GROUP_NAME, tool_link=TOOL_LINK, goal_pose=start_pose[0]+start_pose[1], goal_link=BASE_LINK, \n",
    "                                            Q_init=Q_init, plannerconfig=\"RRTConnectkConfigDefault\", timeout=1)\n",
    "Q_ready = trajectory[-1]\n",
    "print(\"start_pose: {}\".format(start_pose))\n",
    "print(\"Q_ready: {}\".format(np.round(Q_ready,2)))"
   ]
  },
  {
   "cell_type": "code",
   "execution_count": 34,
   "metadata": {},
   "outputs": [],
   "source": [
    "graph.show_motion(trajectory)\n",
    "graph.show_pose(trajectory[-1])"
   ]
  },
  {
   "cell_type": "markdown",
   "metadata": {},
   "source": [
    "### check goal pose"
   ]
  },
  {
   "cell_type": "code",
   "execution_count": 35,
   "metadata": {},
   "outputs": [
    {
     "name": "stdout",
     "output_type": "stream",
     "text": [
      "goal_pose: ([-0.5884851217269897, -0.15204206109046936, 0.3864694833755493], [0.003921231635065741, -0.004029640151390661, 0.7022939191396269, 0.7118649008640737])\n"
     ]
    }
   ],
   "source": [
    "Q_init = crob.home_pose\n",
    "goal_pose = T2xyzquat(np.matmul(np.matmul(ORIGIN_TF,SE3(Rot_rpy((0,0,0)),[-0.05,0.05,0])), TOOL_TF))\n",
    "trajectory, success = mplan.planner.plan_py(robot_name=GROUP_NAME, tool_link=TOOL_LINK, goal_pose=goal_pose[0]+goal_pose[1], goal_link=BASE_LINK, \n",
    "                                            Q_init=Q_init, plannerconfig=\"RRTConnectkConfigDefault\", timeout=1)\n",
    "print(\"goal_pose: {}\".format(goal_pose))"
   ]
  },
  {
   "cell_type": "code",
   "execution_count": 37,
   "metadata": {
    "scrolled": true
   },
   "outputs": [],
   "source": [
    "graph.show_motion(trajectory)\n",
    "graph.show_pose(trajectory[-1])"
   ]
  },
  {
   "cell_type": "code",
   "execution_count": null,
   "metadata": {},
   "outputs": [],
   "source": []
  },
  {
   "cell_type": "markdown",
   "metadata": {},
   "source": [
    "### set manifolds"
   ]
  },
  {
   "cell_type": "code",
   "execution_count": 38,
   "metadata": {},
   "outputs": [],
   "source": [
    "mplan.planner.clear_context_cache()\n",
    "mplan.planner.clear_manifolds()\n",
    "ctem_list = make_constraint_list(mtem_list)\n",
    "mplan.planner.add_union_manifold_py(group_name=GROUP_NAME, tool_link=TOOL_LINK, tool_offset=TOOL_XYZQUAT[0]+TOOL_XYZQUAT[1], \n",
    "                                    geometry_list=ctem_list, fix_surface=True, fix_normal=True, radius=1e-5, tol=1e-3)"
   ]
  },
  {
   "cell_type": "code",
   "execution_count": null,
   "metadata": {},
   "outputs": [],
   "source": []
  },
  {
   "cell_type": "markdown",
   "metadata": {},
   "source": [
    "### search plan"
   ]
  },
  {
   "cell_type": "code",
   "execution_count": 39,
   "metadata": {},
   "outputs": [],
   "source": [
    "tool_tf = np.matmul(get_tf(TOOL_LINK, list2dict(Q_ready, mplan.joint_names), mplan.urdf_content), T_xyzrpy(TOOL_XYZRPY))\n",
    "goal_pose = T2xyzquat(np.matmul( \\\n",
    "                                np.matmul(ORIGIN_TF, SE3(np.identity(3), (0.0,0.3,0.0))),\n",
    "                                TOOL_TF))"
   ]
  },
  {
   "cell_type": "code",
   "execution_count": 40,
   "metadata": {},
   "outputs": [
    {
     "name": "stdout",
     "output_type": "stream",
     "text": [
      "result: True (37)\n"
     ]
    }
   ],
   "source": [
    "trajectory, success = mplan.planner.plan_constrained_py(GROUP_NAME,TOOL_LINK, goal_pose[0]+goal_pose[1], BASE_LINK, Q_ready, timeout=60)\n",
    "print('result: {} ({})'.format(success, len(trajectory)))"
   ]
  },
  {
   "cell_type": "code",
   "execution_count": 42,
   "metadata": {},
   "outputs": [],
   "source": [
    "graph.show_motion(trajectory, period=0.01)"
   ]
  },
  {
   "cell_type": "code",
   "execution_count": null,
   "metadata": {},
   "outputs": [],
   "source": []
  },
  {
   "cell_type": "markdown",
   "metadata": {},
   "source": [
    "# Sphere Test"
   ]
  },
  {
   "cell_type": "markdown",
   "metadata": {},
   "source": [
    "### Show constraints"
   ]
  },
  {
   "cell_type": "code",
   "execution_count": 19,
   "metadata": {},
   "outputs": [],
   "source": [
    "for mtem in mtem_list:\n",
    "    graph.remove_geometry(mtem)\n",
    "mtem_list=[]"
   ]
  },
  {
   "cell_type": "code",
   "execution_count": 20,
   "metadata": {},
   "outputs": [],
   "source": [
    "mtem_list.append(ghnd.create_safe(gtype=GEOTYPE.SPHERE, name=\"cylinder\", link_name=\"base_link\",\n",
    "                                      center=np.add(ORIGIN_XYZRPY[0], (0.05,0,0)), rpy=ORIGIN_XYZRPY[1], \n",
    "                                      dims=(0.1,0.1,0.1), color=(1, 1, 0, 0.5),\n",
    "                                      collision=False))\n",
    "for mtem in mtem_list:\n",
    "    graph.add_marker(mtem)"
   ]
  },
  {
   "cell_type": "code",
   "execution_count": null,
   "metadata": {},
   "outputs": [],
   "source": []
  },
  {
   "cell_type": "markdown",
   "metadata": {},
   "source": [
    "### check starting pose"
   ]
  },
  {
   "cell_type": "code",
   "execution_count": 21,
   "metadata": {},
   "outputs": [
    {
     "name": "stdout",
     "output_type": "stream",
     "text": [
      "start_pose: ([-0.7778231501579285, -0.10105198621749878, 0.5270082354545593], [0.5061372311797819, 0.4937474126568892, 0.499446172709821, 0.500591766086702])\n",
      "Q_ready: [-1.07 -0.68 -0.75  1.82 -2.62  0.28  0.   -0.39  0.   -1.57  0.    1.57\n",
      "  1.57]\n"
     ]
    }
   ],
   "source": [
    "Q_init = crob.home_pose\n",
    "start_pose = T2xyzquat(np.matmul(np.matmul(ORIGIN_TF,SE3(Rot_rpy((np.pi/2,0,0)),[0]*3)), TOOL_TF))\n",
    "trajectory, success = mplan.planner.plan_py(robot_name=GROUP_NAME, tool_link=TOOL_LINK, goal_pose=start_pose[0]+start_pose[1], goal_link=BASE_LINK, \n",
    "                                            Q_init=Q_init, plannerconfig=\"RRTConnectkConfigDefault\", timeout=1)\n",
    "Q_ready = trajectory[-1]\n",
    "print(\"start_pose: {}\".format(start_pose))\n",
    "print(\"Q_ready: {}\".format(np.round(Q_ready,2)))"
   ]
  },
  {
   "cell_type": "code",
   "execution_count": 22,
   "metadata": {},
   "outputs": [],
   "source": [
    "graph.show_motion(trajectory)\n",
    "graph.show_pose(trajectory[-1])"
   ]
  },
  {
   "cell_type": "markdown",
   "metadata": {},
   "source": [
    "### check goal pose"
   ]
  },
  {
   "cell_type": "code",
   "execution_count": 47,
   "metadata": {},
   "outputs": [
    {
     "name": "stdout",
     "output_type": "stream",
     "text": [
      "goal_pose: ([-0.5878841280937195, -0.10575991123914719, 0.7170108556747437], [0.7118649008640737, 0.7022939191396269, 0.004029640151390661, -0.003921231635065741])\n"
     ]
    }
   ],
   "source": [
    "Q_init = crob.home_pose\n",
    "goal_pose = T2xyzquat(np.matmul(np.matmul(ORIGIN_TF,SE3(Rot_rpy((np.pi,0,0)),[0,0.05,-0.05])), TOOL_TF))\n",
    "trajectory, success = mplan.planner.plan_py(robot_name=GROUP_NAME, tool_link=TOOL_LINK, goal_pose=goal_pose[0]+goal_pose[1], goal_link=BASE_LINK, \n",
    "                                            Q_init=Q_init, plannerconfig=\"RRTConnectkConfigDefault\", timeout=1)\n",
    "print(\"goal_pose: {}\".format(goal_pose))"
   ]
  },
  {
   "cell_type": "code",
   "execution_count": 48,
   "metadata": {
    "scrolled": true
   },
   "outputs": [],
   "source": [
    "graph.show_motion(trajectory)\n",
    "graph.show_pose(trajectory[-1])"
   ]
  },
  {
   "cell_type": "code",
   "execution_count": null,
   "metadata": {},
   "outputs": [],
   "source": []
  },
  {
   "cell_type": "markdown",
   "metadata": {},
   "source": [
    "### set manifolds"
   ]
  },
  {
   "cell_type": "code",
   "execution_count": 49,
   "metadata": {},
   "outputs": [],
   "source": [
    "mplan.planner.clear_context_cache()\n",
    "mplan.planner.clear_manifolds()\n",
    "ctem_list = make_constraint_list(mtem_list)\n",
    "mplan.planner.add_union_manifold_py(group_name=GROUP_NAME, tool_link=TOOL_LINK, tool_offset=TOOL_XYZQUAT[0]+TOOL_XYZQUAT[1], \n",
    "                                    geometry_list=ctem_list, fix_surface=True, fix_normal=True, radius=1e-5, tol=2e-3)"
   ]
  },
  {
   "cell_type": "code",
   "execution_count": null,
   "metadata": {},
   "outputs": [],
   "source": []
  },
  {
   "cell_type": "markdown",
   "metadata": {},
   "source": [
    "### search plan"
   ]
  },
  {
   "cell_type": "code",
   "execution_count": 50,
   "metadata": {},
   "outputs": [
    {
     "name": "stdout",
     "output_type": "stream",
     "text": [
      "result: True (100)\n"
     ]
    }
   ],
   "source": [
    "trajectory, success = mplan.planner.plan_constrained_py(GROUP_NAME,TOOL_LINK, goal_pose[0]+goal_pose[1], BASE_LINK, Q_ready, timeout=60)\n",
    "print('result: {} ({})'.format(success, len(trajectory)))"
   ]
  },
  {
   "cell_type": "code",
   "execution_count": 51,
   "metadata": {},
   "outputs": [],
   "source": [
    "graph.show_motion(trajectory, period=0.01)"
   ]
  },
  {
   "cell_type": "code",
   "execution_count": null,
   "metadata": {},
   "outputs": [],
   "source": []
  },
  {
   "cell_type": "markdown",
   "metadata": {},
   "source": [
    "# Cylinder Test"
   ]
  },
  {
   "cell_type": "markdown",
   "metadata": {},
   "source": [
    "### Show constraints"
   ]
  },
  {
   "cell_type": "code",
   "execution_count": 52,
   "metadata": {},
   "outputs": [],
   "source": [
    "for mtem in mtem_list:\n",
    "    graph.remove_geometry(mtem)\n",
    "mtem_list=[]"
   ]
  },
  {
   "cell_type": "code",
   "execution_count": 53,
   "metadata": {},
   "outputs": [],
   "source": [
    "mtem_list.append(ghnd.create_safe(gtype=GEOTYPE.CYLINDER, name=\"cylinder\", link_name=\"base_link\",\n",
    "                                      center=np.add(ORIGIN_XYZRPY[0], (0.05,0,0)), rpy=(np.pi/2,0,0), \n",
    "                                      dims=(0.1,0.1,0.1), color=(1, 1, 0, 0.5),\n",
    "                                      collision=False))\n",
    "for mtem in mtem_list:\n",
    "    graph.add_marker(mtem)"
   ]
  },
  {
   "cell_type": "code",
   "execution_count": null,
   "metadata": {},
   "outputs": [],
   "source": []
  },
  {
   "cell_type": "markdown",
   "metadata": {},
   "source": [
    "### check starting pose"
   ]
  },
  {
   "cell_type": "code",
   "execution_count": 54,
   "metadata": {},
   "outputs": [
    {
     "name": "stdout",
     "output_type": "stream",
     "text": [
      "start_pose: ([-0.7778231501579285, -0.10105198621749878, 0.5270082354545593], [0.5061372311797819, 0.4937474126568892, 0.499446172709821, 0.500591766086702])\n",
      "Q_ready: [-1.07 -0.68 -0.75  1.82 -2.62  0.28  0.   -0.39  0.   -1.57  0.    1.57\n",
      "  1.57]\n"
     ]
    }
   ],
   "source": [
    "Q_init = crob.home_pose\n",
    "start_pose = T2xyzquat(np.matmul(np.matmul(ORIGIN_TF,SE3(Rot_rpy((np.pi/2,0,0)),[0]*3)), TOOL_TF))\n",
    "trajectory, success = mplan.planner.plan_py(robot_name=GROUP_NAME, tool_link=TOOL_LINK, goal_pose=start_pose[0]+start_pose[1], goal_link=BASE_LINK, \n",
    "                                            Q_init=Q_init, plannerconfig=\"RRTConnectkConfigDefault\", timeout=1)\n",
    "Q_ready = trajectory[-1]\n",
    "print(\"start_pose: {}\".format(start_pose))\n",
    "print(\"Q_ready: {}\".format(np.round(Q_ready,2)))"
   ]
  },
  {
   "cell_type": "code",
   "execution_count": 55,
   "metadata": {},
   "outputs": [],
   "source": [
    "graph.show_motion(trajectory)\n",
    "graph.show_pose(trajectory[-1])"
   ]
  },
  {
   "cell_type": "markdown",
   "metadata": {},
   "source": [
    "### check goal pose"
   ]
  },
  {
   "cell_type": "code",
   "execution_count": 56,
   "metadata": {},
   "outputs": [
    {
     "name": "stdout",
     "output_type": "stream",
     "text": [
      "goal_pose: ([-0.5878841280937195, -0.10575991123914719, 0.7170108556747437], [0.9999612912273312, -0.00676771672940532, 7.665620629702626e-05, -0.005622115354993529])\n"
     ]
    }
   ],
   "source": [
    "Q_init = crob.home_pose\n",
    "goal_pose = T2xyzquat(np.matmul(np.matmul(ORIGIN_TF,SE3(Rot_rpy((np.pi,0,np.pi/2)),[0.0,0.05,-0.05])), TOOL_TF))\n",
    "trajectory, success = mplan.planner.plan_py(robot_name=GROUP_NAME, tool_link=TOOL_LINK, goal_pose=goal_pose[0]+goal_pose[1], goal_link=BASE_LINK, \n",
    "                                            Q_init=Q_ready, plannerconfig=\"RRTConnectkConfigDefault\", timeout=1)\n",
    "print(\"goal_pose: {}\".format(goal_pose))"
   ]
  },
  {
   "cell_type": "code",
   "execution_count": 57,
   "metadata": {},
   "outputs": [],
   "source": [
    "graph.show_motion(trajectory)\n",
    "graph.show_pose(trajectory[-1])"
   ]
  },
  {
   "cell_type": "code",
   "execution_count": null,
   "metadata": {},
   "outputs": [],
   "source": []
  },
  {
   "cell_type": "markdown",
   "metadata": {},
   "source": [
    "### set manifolds"
   ]
  },
  {
   "cell_type": "code",
   "execution_count": 58,
   "metadata": {},
   "outputs": [],
   "source": [
    "mplan.planner.clear_context_cache()\n",
    "mplan.planner.clear_manifolds()\n",
    "ctem_list = make_constraint_list(mtem_list)\n",
    "mplan.planner.add_union_manifold_py(group_name=GROUP_NAME, tool_link=TOOL_LINK, tool_offset=TOOL_XYZQUAT[0]+TOOL_XYZQUAT[1], \n",
    "                                    geometry_list=ctem_list, fix_surface=True, fix_normal=True, radius=1e-5, tol=2e-3)"
   ]
  },
  {
   "cell_type": "code",
   "execution_count": null,
   "metadata": {},
   "outputs": [],
   "source": []
  },
  {
   "cell_type": "markdown",
   "metadata": {},
   "source": [
    "### search plan"
   ]
  },
  {
   "cell_type": "code",
   "execution_count": 59,
   "metadata": {},
   "outputs": [
    {
     "name": "stdout",
     "output_type": "stream",
     "text": [
      "result: True (133)\n"
     ]
    }
   ],
   "source": [
    "trajectory, success = mplan.planner.plan_constrained_py(GROUP_NAME,TOOL_LINK, goal_pose[0]+goal_pose[1], BASE_LINK, Q_ready, timeout=60)\n",
    "print('result: {} ({})'.format(success, len(trajectory)))"
   ]
  },
  {
   "cell_type": "code",
   "execution_count": 61,
   "metadata": {},
   "outputs": [],
   "source": [
    "graph.show_motion(trajectory, period=0.01)"
   ]
  },
  {
   "cell_type": "code",
   "execution_count": null,
   "metadata": {},
   "outputs": [],
   "source": []
  },
  {
   "cell_type": "code",
   "execution_count": null,
   "metadata": {},
   "outputs": [],
   "source": []
  },
  {
   "cell_type": "code",
   "execution_count": null,
   "metadata": {},
   "outputs": [],
   "source": []
  },
  {
   "cell_type": "code",
   "execution_count": null,
   "metadata": {},
   "outputs": [],
   "source": []
  },
  {
   "cell_type": "code",
   "execution_count": null,
   "metadata": {},
   "outputs": [],
   "source": []
  },
  {
   "cell_type": "code",
   "execution_count": null,
   "metadata": {},
   "outputs": [],
   "source": []
  },
  {
   "cell_type": "code",
   "execution_count": null,
   "metadata": {},
   "outputs": [],
   "source": []
  },
  {
   "cell_type": "code",
   "execution_count": null,
   "metadata": {},
   "outputs": [],
   "source": []
  },
  {
   "cell_type": "code",
   "execution_count": null,
   "metadata": {},
   "outputs": [],
   "source": []
  },
  {
   "cell_type": "code",
   "execution_count": null,
   "metadata": {},
   "outputs": [],
   "source": []
  },
  {
   "cell_type": "code",
   "execution_count": null,
   "metadata": {},
   "outputs": [],
   "source": []
  },
  {
   "cell_type": "code",
   "execution_count": null,
   "metadata": {},
   "outputs": [],
   "source": []
  },
  {
   "cell_type": "code",
   "execution_count": null,
   "metadata": {},
   "outputs": [],
   "source": []
  }
 ],
 "metadata": {
  "kernelspec": {
   "display_name": "Python 2",
   "language": "python",
   "name": "python2"
  },
  "language_info": {
   "codemirror_mode": {
    "name": "ipython",
    "version": 2
   },
   "file_extension": ".py",
   "mimetype": "text/x-python",
   "name": "python",
   "nbconvert_exporter": "python",
   "pygments_lexer": "ipython2",
   "version": "2.7.17"
  }
 },
 "nbformat": 4,
 "nbformat_minor": 2
}
