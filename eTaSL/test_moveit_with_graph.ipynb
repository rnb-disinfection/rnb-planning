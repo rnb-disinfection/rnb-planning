{
 "cells": [
  {
   "cell_type": "markdown",
   "metadata": {},
   "source": [
    "# Prepare robots first  \n",
    "* run panda repeater on controller pc  \n",
    "\n",
    "```\n",
    "ssh panda@192.168.0.172\n",
    "roslaunch panda_ros_repeater joint_velocity_repeater.launch robot_ip:=192.168.0.13 load_gripper:=false\n",
    "\n",
    "```\n",
    "\n",
    "* Keep indy connected to conty to bypass conty-connection delay bug"
   ]
  },
  {
   "cell_type": "code",
   "execution_count": null,
   "metadata": {},
   "outputs": [],
   "source": []
  },
  {
   "cell_type": "markdown",
   "metadata": {},
   "source": [
    "# initialize notebook"
   ]
  },
  {
   "cell_type": "code",
   "execution_count": 1,
   "metadata": {
    "pycharm": {
     "name": "#%%\n"
    },
    "scrolled": true
   },
   "outputs": [
    {
     "data": {
      "text/html": [
       "<style>.container { width:90% !important; } </style>"
      ],
      "text/plain": [
       "<IPython.core.display.HTML object>"
      ]
     },
     "metadata": {},
     "output_type": "display_data"
    }
   ],
   "source": [
    "from __future__ import print_function\n",
    "from IPython.core.display import display, HTML\n",
    "display(HTML(\"<style>.container { width:90% !important; } </style>\"))\n",
    "import matplotlib.pyplot as plt"
   ]
  },
  {
   "cell_type": "code",
   "execution_count": null,
   "metadata": {},
   "outputs": [],
   "source": []
  },
  {
   "cell_type": "markdown",
   "metadata": {},
   "source": [
    "# Initialize constants"
   ]
  },
  {
   "cell_type": "code",
   "execution_count": 2,
   "metadata": {
    "scrolled": false
   },
   "outputs": [],
   "source": [
    "from pkg.marker_config import *\n",
    "from pkg.constraint_graph import *\n",
    "from pkg.constraint.constraint_action import *\n",
    "from pkg.constraint.constraint_object import *\n",
    "from pkg.constants import *\n",
    "from pkg.utils.plot_utils import *\n",
    "from pkg.utils.utils import *\n",
    "from pkg.environment_builder import *\n",
    "from pkg.ui.ui_broker import *\n",
    "from pkg.controller.combined_robot import *\n",
    "\n",
    "gtimer = GlobalTimer.instance()\n",
    "gtimer.reset()"
   ]
  },
  {
   "cell_type": "code",
   "execution_count": null,
   "metadata": {},
   "outputs": [],
   "source": []
  },
  {
   "cell_type": "code",
   "execution_count": 3,
   "metadata": {
    "scrolled": true
   },
   "outputs": [
    {
     "name": "stdout",
     "output_type": "stream",
     "text": [
      "connection_list\n",
      "(False, False)\n"
     ]
    }
   ],
   "source": [
    "crob = CombinedRobot(connection_list=(False, False))"
   ]
  },
  {
   "cell_type": "code",
   "execution_count": null,
   "metadata": {},
   "outputs": [],
   "source": []
  },
  {
   "cell_type": "markdown",
   "metadata": {},
   "source": [
    "# initialize graph & ui"
   ]
  },
  {
   "cell_type": "code",
   "execution_count": 4,
   "metadata": {
    "scrolled": true
   },
   "outputs": [
    {
     "name": "stderr",
     "output_type": "stream",
     "text": [
      "Unknown tag \"hardwareInterface\" in /robot[@name='custom_robots']/transmission[@name='indy0_tran0']/actuator[@name='indy0_motor0']\n",
      "Unknown tag \"hardwareInterface\" in /robot[@name='custom_robots']/transmission[@name='indy0_tran1']/actuator[@name='indy0_motor1']\n",
      "Unknown tag \"hardwareInterface\" in /robot[@name='custom_robots']/transmission[@name='indy0_tran2']/actuator[@name='indy0_motor2']\n",
      "Unknown tag \"hardwareInterface\" in /robot[@name='custom_robots']/transmission[@name='indy0_tran3']/actuator[@name='indy0_motor3']\n",
      "Unknown tag \"hardwareInterface\" in /robot[@name='custom_robots']/transmission[@name='indy0_tran4']/actuator[@name='indy0_motor4']\n",
      "Unknown tag \"hardwareInterface\" in /robot[@name='custom_robots']/transmission[@name='indy0_tran5']/actuator[@name='indy0_motor5']\n"
     ]
    },
    {
     "name": "stdout",
     "output_type": "stream",
     "text": [
      "Please create a subscriber to the marker\n",
      "publication OK\n",
      "published: [0, 0, 0, 0, 0, 0, 0, 0, 0, 0, 0, 0, 0]\n",
      "Please create a subscriber to the marker\n",
      "Dash is running on http://127.0.0.1:8050/\n",
      "\n",
      " * Serving Flask app \"pkg.ui.dash_launcher\" (lazy loading)\n",
      " * Environment: production\n",
      "   WARNING: This is a development server. Do not use it in a production deployment.\n",
      "   Use a production WSGI server instead.\n",
      " * Debug mode: off\n"
     ]
    }
   ],
   "source": [
    "if \"cam\" not in locals():\n",
    "    cam = None # StereoCamera.instance()\n",
    "\n",
    "# set urdf\n",
    "xcustom, JOINT_NAMES, LINK_NAMES, urdf_content = set_custom_robots(crob.robots_on_scene, XYZ_RPY_ROBOTS_DEFAULT, crob.custom_limits, start_rviz=True)\n",
    "ghnd = GeometryHandle(urdf_content)\n",
    "\n",
    "\n",
    "graph = ConstraintGraph(ghnd=ghnd, urdf_path=URDF_PATH, joint_names=JOINT_NAMES, link_names=LINK_NAMES, \n",
    "                        urdf_content=urdf_content, combined_robot=crob)\n",
    "graph.set_camera(cam)\n",
    "graph.set_cam_robot_collision(_add_cam_poles=False)\n",
    "graph.set_rviz()\n",
    "\n",
    "# start UI\n",
    "ui_broker = UIBroker.instance()\n",
    "ui_broker.initialize(graph)\n",
    "ui_broker.start_server()\n",
    "\n",
    "# set rviz\n",
    "graph.set_rviz(crob.home_pose)\n",
    "ui_broker.set_tables()"
   ]
  },
  {
   "cell_type": "code",
   "execution_count": null,
   "metadata": {},
   "outputs": [],
   "source": []
  },
  {
   "cell_type": "code",
   "execution_count": 5,
   "metadata": {},
   "outputs": [],
   "source": [
    "from pkg.planner.moveit import moveit_py\n",
    "from pkg.planner.moveit.moveit_planner import MoveitPlanner"
   ]
  },
  {
   "cell_type": "markdown",
   "metadata": {},
   "source": [
    "### Set Planner"
   ]
  },
  {
   "cell_type": "code",
   "execution_count": 6,
   "metadata": {},
   "outputs": [],
   "source": [
    "mplan = MoveitPlanner(\n",
    "    joint_names=graph.joint_names, link_names=graph.link_names, urdf_path=graph.urdf_path, urdf_content=graph.urdf_content, \n",
    "    robot_names=crob.robot_names, ghnd=ghnd)"
   ]
  },
  {
   "cell_type": "code",
   "execution_count": null,
   "metadata": {},
   "outputs": [],
   "source": []
  },
  {
   "cell_type": "markdown",
   "metadata": {},
   "source": [
    "### define tool"
   ]
  },
  {
   "cell_type": "code",
   "execution_count": 7,
   "metadata": {},
   "outputs": [],
   "source": [
    "GROUP_NAME, TOOL_LINK, BASE_LINK  = \"indy0\", \"indy0_tcp\", \"base_link\"\n",
    "TOOL_XYZRPY = ((0,0,0.14),(np.pi,0,0))\n",
    "ORIGIN_XYZRPY = ((0,0,0.4), (0,0,0))\n",
    "\n",
    "TOOL_TF = T_xyzrpy(TOOL_XYZRPY)\n",
    "TOOL_XYZQUAT = T2xyzquat(TOOL_TF)\n",
    "ORIGIN_TF = T_xyzrpy(ORIGIN_XYZRPY)"
   ]
  },
  {
   "cell_type": "code",
   "execution_count": null,
   "metadata": {},
   "outputs": [],
   "source": []
  },
  {
   "cell_type": "markdown",
   "metadata": {},
   "source": [
    "### Show constraints"
   ]
  },
  {
   "cell_type": "code",
   "execution_count": 8,
   "metadata": {},
   "outputs": [],
   "source": [
    "mtem_list=[]"
   ]
  },
  {
   "cell_type": "code",
   "execution_count": 60,
   "metadata": {},
   "outputs": [],
   "source": [
    "for mtem in mtem_list:\n",
    "    graph.remove_geometry(mtem)\n",
    "mtem_list=[]"
   ]
  },
  {
   "cell_type": "code",
   "execution_count": 61,
   "metadata": {},
   "outputs": [],
   "source": [
    "mtem_list.append(ghnd.create_safe(gtype=GEOTYPE.BOX, name=\"plane\", link_name=\"base_link\",\n",
    "                                      center=ORIGIN_XYZRPY[0], rpy=ORIGIN_XYZRPY[1], \n",
    "                                      dims=(3,3,0.001), color=(1, 1, 0, 0.5),\n",
    "                                      collision=False))\n",
    "# mtem_list.append(ghnd.create_safe(gtype=GEOTYPE.CYLINDER, name=\"cylinder\", link_name=\"base_link\",\n",
    "#                                       center=(0,0,0.25), rpy=(0,np.pi/2,np.pi/4), \n",
    "#                                       dims=(0.3,0.3,3), color=(1, 1, 0, 0.5),\n",
    "#                                       collision=False))\n",
    "for mtem in mtem_list:\n",
    "    graph.add_marker(mtem)"
   ]
  },
  {
   "cell_type": "code",
   "execution_count": null,
   "metadata": {},
   "outputs": [],
   "source": []
  },
  {
   "cell_type": "markdown",
   "metadata": {},
   "source": [
    "### move to starting pose"
   ]
  },
  {
   "cell_type": "code",
   "execution_count": 62,
   "metadata": {},
   "outputs": [],
   "source": [
    "Q_init = crob.home_pose\n",
    "goal_pose = T2xyzquat(np.matmul(ORIGIN_TF, TOOL_TF))\n",
    "trajectory, success = mplan.planner.plan_py(robot_name=GROUP_NAME, tool_link=TOOL_LINK, goal_pose=goal_pose[0]+goal_pose[1], goal_link=BASE_LINK, \n",
    "                                            Q_init=Q_init, plannerconfig=\"RRTConnectkConfigDefault\", timeout=1)\n",
    "Q_ready = trajectory[-1]"
   ]
  },
  {
   "cell_type": "code",
   "execution_count": 63,
   "metadata": {},
   "outputs": [
    {
     "name": "stdout",
     "output_type": "stream",
     "text": [
      "goal pose: ([0.0, 0.0, 0.5400000214576721], [1.0, 0.0, 0.0, 6.123234262925839e-17])\n",
      "Q_ready: [ 1.46 -0.28 -1.22 -0.01 -1.65  3.02  0.   -0.39  0.   -1.57  0.    1.57\n",
      "  1.57]\n"
     ]
    }
   ],
   "source": [
    "graph.show_motion(trajectory)\n",
    "graph.show_pose(Q_ready)\n",
    "print(\"goal pose: {}\".format(goal_pose))\n",
    "print(\"Q_ready: {}\".format(np.round(Q_ready,2)))"
   ]
  },
  {
   "cell_type": "code",
   "execution_count": null,
   "metadata": {},
   "outputs": [],
   "source": []
  },
  {
   "cell_type": "markdown",
   "metadata": {},
   "source": [
    "### set manifolds"
   ]
  },
  {
   "cell_type": "code",
   "execution_count": 64,
   "metadata": {},
   "outputs": [],
   "source": [
    "mplan.planner.clear_context_cache()\n",
    "mplan.planner.clear_manifolds()\n",
    "ctem_list = make_constraint_list(mtem_list)\n",
    "mplan.planner.add_union_manifold_py(group_name=GROUP_NAME, tool_link=TOOL_LINK, tool_offset=TOOL_XYZQUAT[0]+TOOL_XYZQUAT[1], \n",
    "                                    geometry_list=ctem_list, fix_surface=True, fix_normal=False, radius=1e-4, tol=2e-3)"
   ]
  },
  {
   "cell_type": "code",
   "execution_count": null,
   "metadata": {},
   "outputs": [],
   "source": []
  },
  {
   "cell_type": "markdown",
   "metadata": {},
   "source": [
    "### search plan"
   ]
  },
  {
   "cell_type": "code",
   "execution_count": 65,
   "metadata": {},
   "outputs": [],
   "source": [
    "tool_tf = np.matmul(get_tf(TOOL_LINK, list2dict(Q_ready, mplan.joint_names), mplan.urdf_content), T_xyzrpy(TOOL_XYZRPY))\n",
    "goal_pose = T2xyzquat(np.matmul( \\\n",
    "                                np.matmul(ORIGIN_TF, SE3(np.identity(3), (-0.1,-0.1,0.0))),\n",
    "                                TOOL_TF))"
   ]
  },
  {
   "cell_type": "code",
   "execution_count": 68,
   "metadata": {},
   "outputs": [
    {
     "name": "stdout",
     "output_type": "stream",
     "text": [
      "result: False (0)\n"
     ]
    }
   ],
   "source": [
    "trajectory, success = mplan.planner.plan_constrained_py(GROUP_NAME,TOOL_LINK, goal_pose[0]+goal_pose[1], BASE_LINK, Q_ready, timeout=5)\n",
    "print('result: {} ({})'.format(success, len(trajectory)))"
   ]
  },
  {
   "cell_type": "code",
   "execution_count": 69,
   "metadata": {},
   "outputs": [],
   "source": [
    "graph.show_motion(trajectory, period=0.1)"
   ]
  },
  {
   "cell_type": "code",
   "execution_count": 136,
   "metadata": {},
   "outputs": [
    {
     "data": {
      "text/plain": [
       "[<matplotlib.lines.Line2D at 0x7f731fa39350>,\n",
       " <matplotlib.lines.Line2D at 0x7f731fa39450>,\n",
       " <matplotlib.lines.Line2D at 0x7f731fa39490>,\n",
       " <matplotlib.lines.Line2D at 0x7f731fa39550>,\n",
       " <matplotlib.lines.Line2D at 0x7f731fa39610>,\n",
       " <matplotlib.lines.Line2D at 0x7f731fa396d0>,\n",
       " <matplotlib.lines.Line2D at 0x7f731fa39790>,\n",
       " <matplotlib.lines.Line2D at 0x7f731fa39850>,\n",
       " <matplotlib.lines.Line2D at 0x7f731fa39910>,\n",
       " <matplotlib.lines.Line2D at 0x7f731fa399d0>,\n",
       " <matplotlib.lines.Line2D at 0x7f731fa39a90>,\n",
       " <matplotlib.lines.Line2D at 0x7f731fa39b50>,\n",
       " <matplotlib.lines.Line2D at 0x7f731fa39c10>]"
      ]
     },
     "execution_count": 136,
     "metadata": {},
     "output_type": "execute_result"
    },
    {
     "data": {
      "image/png": "[encoded data removed]",
      "text/plain": [
       "<Figure size 432x288 with 1 Axes>"
      ]
     },
     "metadata": {
      "needs_background": "light"
     },
     "output_type": "display_data"
    }
   ],
   "source": [
    "plt.plot(trajectory)"
   ]
  },
  {
   "cell_type": "code",
   "execution_count": 145,
   "metadata": {},
   "outputs": [],
   "source": [
    "for mtem in mtem_list:\n",
    "    graph.remove_geometry(mtem)"
   ]
  },
  {
   "cell_type": "code",
   "execution_count": null,
   "metadata": {},
   "outputs": [],
   "source": []
  },
  {
   "cell_type": "code",
   "execution_count": null,
   "metadata": {},
   "outputs": [],
   "source": []
  },
  {
   "cell_type": "code",
   "execution_count": null,
   "metadata": {},
   "outputs": [],
   "source": []
  }
 ],
 "metadata": {
  "kernelspec": {
   "display_name": "Python 2",
   "language": "python",
   "name": "python2"
  },
  "language_info": {
   "codemirror_mode": {
    "name": "ipython",
    "version": 2
   },
   "file_extension": ".py",
   "mimetype": "text/x-python",
   "name": "python",
   "nbconvert_exporter": "python",
   "pygments_lexer": "ipython2",
   "version": "2.7.17"
  }
 },
 "nbformat": 4,
 "nbformat_minor": 2
}
