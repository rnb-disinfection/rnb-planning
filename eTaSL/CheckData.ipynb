{
 "cells": [
  {
   "cell_type": "code",
   "execution_count": 1,
   "metadata": {},
   "outputs": [
    {
     "data": {
      "text/html": [
       "<style>.container { width:90% !important; } </style>"
      ],
      "text/plain": [
       "<IPython.core.display.HTML object>"
      ]
     },
     "metadata": {},
     "output_type": "display_data"
    },
    {
     "name": "stdout",
     "output_type": "stream",
     "text": [
      "connection_list\n",
      "(False, False)\n"
     ]
    }
   ],
   "source": [
    "from __future__ import print_function\n",
    "from IPython.core.display import display, HTML\n",
    "display(HTML(\"<style>.container { width:90% !important; } </style>\"))\n",
    "import matplotlib.pyplot as plt\n",
    "from pkg.marker_config import *\n",
    "from pkg.constraint_graph import *\n",
    "from pkg.constraint.constraint_action import *\n",
    "from pkg.constraint.constraint_object import *\n",
    "from pkg.constants import *\n",
    "from pkg.utils.plot_utils import *\n",
    "from pkg.utils.utils import *\n",
    "from pkg.environment_builder import *\n",
    "from pkg.ui.ui_broker import *\n",
    "from pkg.controller.combined_robot import *\n",
    "from pkg.controller.combined_robot import CombinedRobot, XYZ_RPY_ROBOTS_DEFAULT\n",
    "from pkg.data_collecting.sampling import *\n",
    "\n",
    "\n",
    "VISUALIZE = True\n",
    "graph = None\n",
    "SAMPLED_DATA = defaultdict(dict)\n",
    "N_retry_test = 100\n",
    "\n",
    "gtimer = GlobalTimer.instance()\n",
    "crob = CombinedRobot(connection_list=(False, False))\n",
    "\n",
    "GLOBAL_FILENAME = \"global.json\"\n",
    "WORLD_FILENAME = \"world.json\"\n",
    "SCENE_FILENAME = \"scene.json\"\n",
    "DATA_PATH = \"./data\"\n",
    "try: os.mkdir(DATA_PATH)\n",
    "except: pass"
   ]
  },
  {
   "cell_type": "markdown",
   "metadata": {},
   "source": [
    "## Load Global params"
   ]
  },
  {
   "cell_type": "code",
   "execution_count": 2,
   "metadata": {},
   "outputs": [],
   "source": [
    "DATASET_LIST = sorted(os.listdir(DATA_PATH))"
   ]
  },
  {
   "cell_type": "code",
   "execution_count": 3,
   "metadata": {},
   "outputs": [],
   "source": [
    "CURRENT_PATH = os.path.join(DATA_PATH, DATASET_LIST[0])\n",
    "GLOBAL_PARAMS = load_json(os.path.join(CURRENT_PATH, GLOBAL_FILENAME))\n",
    "for k, v in GLOBAL_PARAMS.items():\n",
    "    locals()[k] = v"
   ]
  },
  {
   "cell_type": "code",
   "execution_count": 4,
   "metadata": {},
   "outputs": [
    {
     "name": "stdout",
     "output_type": "stream",
     "text": [
      "scene size: 3375 (15,15,15)\n"
     ]
    }
   ],
   "source": [
    "CENTER = tuple(np.divide(WDH, 2, dtype=np.float))\n",
    "Ws, Ds, Hs = WDH \n",
    "Nw, Nd, Nh = Nwdh = int(Ws/L_CELL), int(Ds/L_CELL), int(Hs/L_CELL)\n",
    "L_MAX = L_CELL*RATIO_DIMS\n",
    "print(\"scene size: {} ({},{},{})\".format(Nw*Nd*Nh, Nw, Nd, Nh))"
   ]
  },
  {
   "cell_type": "markdown",
   "metadata": {},
   "source": [
    "## Load world"
   ]
  },
  {
   "cell_type": "code",
   "execution_count": 5,
   "metadata": {},
   "outputs": [],
   "source": [
    "WORLD_LIST = sorted(filter(lambda x: not x.endswith(\".json\"), os.listdir(CURRENT_PATH)))"
   ]
  },
  {
   "cell_type": "code",
   "execution_count": 6,
   "metadata": {},
   "outputs": [],
   "source": [
    "WORLD_PATH = os.path.join(CURRENT_PATH, WORLD_LIST[0])\n",
    "SAMPLED_DATA[\"WORLD\"] = load_json(os.path.join(WORLD_PATH, WORLD_FILENAME))\n",
    "Trbt_dict = SAMPLED_DATA[\"WORLD\"][\"Trbt_dict\"]\n",
    "reach_center_dict = {k: tuple(np.add(v[0], REACH_OFFSET_DICT[k])) for k, v in Trbt_dict.items()}"
   ]
  },
  {
   "cell_type": "code",
   "execution_count": 7,
   "metadata": {},
   "outputs": [
    {
     "name": "stderr",
     "output_type": "stream",
     "text": [
      "Unknown tag \"hardwareInterface\" in /robot[@name='custom_robots']/transmission[@name='indy0_tran0']/actuator[@name='indy0_motor0']\n",
      "Unknown tag \"hardwareInterface\" in /robot[@name='custom_robots']/transmission[@name='indy0_tran1']/actuator[@name='indy0_motor1']\n",
      "Unknown tag \"hardwareInterface\" in /robot[@name='custom_robots']/transmission[@name='indy0_tran2']/actuator[@name='indy0_motor2']\n",
      "Unknown tag \"hardwareInterface\" in /robot[@name='custom_robots']/transmission[@name='indy0_tran3']/actuator[@name='indy0_motor3']\n",
      "Unknown tag \"hardwareInterface\" in /robot[@name='custom_robots']/transmission[@name='indy0_tran4']/actuator[@name='indy0_motor4']\n",
      "Unknown tag \"hardwareInterface\" in /robot[@name='custom_robots']/transmission[@name='indy0_tran5']/actuator[@name='indy0_motor5']\n"
     ]
    },
    {
     "name": "stdout",
     "output_type": "stream",
     "text": [
      "Unable to register with master node [http://localhost:11311]: master may not be running yet. Will keep trying.\n",
      "Please create a subscriber to the marker\n",
      "publication OK\n",
      "published: [0, 0, 0, 0, 0, 0, 0, 0, 0, 0, 0, 0, 0]\n",
      "Please create a subscriber to the marker\n",
      "Dash is running on http://127.0.0.1:8050/\n",
      "\n",
      " * Serving Flask app \"pkg.ui.dash_launcher\" (lazy loading)\n",
      " * Environment: production\n",
      "   WARNING: This is a development server. Do not use it in a production deployment.\n",
      "   Use a production WSGI server instead.\n",
      " * Debug mode: off\n"
     ]
    }
   ],
   "source": [
    "cam = None\n",
    "# set urdf\n",
    "xcustom, JOINT_NAMES, LINK_NAMES, urdf_content = set_custom_robots(crob.robots_on_scene, Trbt_dict, crob.custom_limits, start_rviz=VISUALIZE)\n",
    "ghnd = GeometryHandle(urdf_content)\n",
    "time.sleep(2)\n",
    "# set graph\n",
    "if graph is None:\n",
    "    graph = ConstraintGraph(ghnd=ghnd, urdf_path=URDF_PATH, joint_names=JOINT_NAMES, link_names=LINK_NAMES,\n",
    "                            urdf_content=urdf_content, combined_robot=crob)\n",
    "    graph.set_camera(cam)\n",
    "    graph.set_cam_robot_collision(_add_cam_poles=False, color=(1,1,0,0.3))\n",
    "    if VISUALIZE: graph.set_rviz()\n",
    "\n",
    "    # start UI\n",
    "    ui_broker = UIBroker(graph)\n",
    "    ui_broker.start_server()\n",
    "\n",
    "    # set rviz\n",
    "    if VISUALIZE: graph.set_rviz(crob.home_pose)\n",
    "    ui_broker.set_tables()\n",
    "else:\n",
    "    graph.clear_markers()\n",
    "    graph.clear_highlight()\n",
    "    graph.ghnd.clear()\n",
    "    graph.__init__(ghnd=graph.ghnd, urdf_path=URDF_PATH, joint_names=JOINT_NAMES, link_names=LINK_NAMES,\n",
    "                   urdf_content=urdf_content, combined_robot=crob)\n",
    "    graph.set_cam_robot_collision(_add_cam_poles=False, color=(1,1,0,0.3))\n",
    "    if VISUALIZE: graph.set_rviz()\n",
    "        \n",
    "for gripper in GRIPPER_REFS.values():\n",
    "    graph.register_binder(name=gripper['bname'], _type=FramedTool, point=gripper['tcp_ref'], rpy=[0,0,0], link_name=gripper['link_name'])\n",
    "graph.register_binder(name='base', _type=PlaceFrame, point=[0,0,0], rpy=[0,0,0], link_name=BASE_LINK)\n",
    "vtem = graph.ghnd.create_safe(name=\"virtual\", gtype=GEOTYPE.SPHERE, link_name=BASE_LINK,\n",
    "                                             dims=(0,0,0), center=(0,0,0), rpy=(0,0,0), collision=False, display=False\n",
    "                                            )\n",
    "graph.add_object(\"virtual\",\n",
    "                 SingleHandleObject(_object=vtem,\n",
    "                                   action_point=FramePoint(name=\"point\", _object=vtem, point=(0,0,0), rpy=(0,0,0), name_full=None)),\n",
    "                 binding=(\"point\", \"base\"))\n",
    "\n",
    "obj_list=[]\n",
    "col_obj_list=[]"
   ]
  },
  {
   "cell_type": "markdown",
   "metadata": {},
   "source": [
    "## Load scene"
   ]
  },
  {
   "cell_type": "code",
   "execution_count": 8,
   "metadata": {},
   "outputs": [],
   "source": [
    "SCENE_LIST = sorted(filter(lambda x: not x.endswith(\".json\"), os.listdir(WORLD_PATH)))"
   ]
  },
  {
   "cell_type": "code",
   "execution_count": 9,
   "metadata": {},
   "outputs": [],
   "source": [
    "SCENE_PATH = os.path.join(WORLD_PATH, SCENE_LIST[0])\n",
    "SAMPLED_DATA[\"SCENE\"] = load_json(os.path.join(SCENE_PATH, SCENE_FILENAME))\n",
    "Q_s = np.array(SAMPLED_DATA[\"SCENE\"][\"Q_s\"])\n",
    "Q_s, links, link_verts, link_ctems, link_rads = sample_joint(graph, Q_s_loaded=Q_s)\n",
    "Q_s_dict = SAMPLED_DATA[\"SCENE\"][\"Q_s_dict\"]\n",
    "obj_dat = SAMPLED_DATA[\"SCENE\"][\"obj_dat\"]"
   ]
  },
  {
   "cell_type": "code",
   "execution_count": 10,
   "metadata": {},
   "outputs": [],
   "source": [
    "if VISUALIZE:\n",
    "    graph.show_pose(Q_s)\n",
    "    time.sleep(1)\n",
    "    graph.show_pose(Q_s)\n",
    "    time.sleep(1)\n",
    "    graph.show_pose(Q_s)\n",
    "for obj in obj_list: graph.remove_geometry(obj)\n",
    "for odat in obj_dat:\n",
    "    nbox, gtype, dims, color, center, rpy = odat[\"nbox\"], getattr(GEOTYPE, odat[\"gtype\"]), odat[\"dims\"], odat[\"color\"], odat[\"center\"], odat[\"rpy\"]\n",
    "    obj = graph.ghnd.create_safe(\n",
    "        name=\"{}_{}_{}_{}\".format(gtype.name,*nbox), link_name=BASE_LINK, gtype=gtype,\n",
    "        center=center, rpy=rpy, dims=dims, color=color, display=True, collision=True, fixed=True)\n",
    "    obj_list.append(obj)\n",
    "    graph.add_marker(obj, vis=VISUALIZE)\n",
    "\n",
    "if \"col_obj_list\" in locals():\n",
    "    for obj in col_obj_list: graph.remove_geometry(obj)\n",
    "\n",
    "if VISUALIZE: graph.set_rviz()\n",
    "dcol = DataCollector(graph, GRIPPER_REFS, S_F_RATIO=S_F_RATIO)\n",
    "if VISUALIZE: graph.set_rviz()\n",
    "\n",
    "# planners\n",
    "mplan = MoveitPlanner(joint_names=graph.joint_names, link_names=graph.link_names, urdf_path=graph.urdf_path, urdf_content=graph.urdf_content,\n",
    "                      robot_names=graph.combined_robot.robot_names, binder_links=[v.object.link_name for v in graph.binder_dict.values()], ghnd=graph.ghnd)\n",
    "dual_mplan_dict = get_dual_planner_dict(GRIPPER_REFS, graph.ghnd, graph.urdf_content, graph.urdf_path, graph.link_names, graph.combined_robot.robot_names)"
   ]
  },
  {
   "cell_type": "markdown",
   "metadata": {},
   "source": [
    "## Load action"
   ]
  },
  {
   "cell_type": "code",
   "execution_count": 11,
   "metadata": {},
   "outputs": [],
   "source": [
    "ACTION_LIST = sorted(filter(lambda x: x!=SCENE_FILENAME, os.listdir(SCENE_PATH)))"
   ]
  },
  {
   "cell_type": "code",
   "execution_count": 12,
   "metadata": {},
   "outputs": [],
   "source": [
    "dcol.snode_dict = {int(k):v for k,v in load_json(os.path.join(SCENE_PATH, ACTION_LIST[2])).items()}"
   ]
  },
  {
   "cell_type": "code",
   "execution_count": 13,
   "metadata": {},
   "outputs": [
    {
     "name": "stdout",
     "output_type": "stream",
     "text": [
      "[True, True, True, False, False, False, False, False, False, False, False, False, False, False, False, False, False, False, True, True, False, False, False, False, False, False, True, False, False, False, False, False, False, False, True, False, False]\n"
     ]
    }
   ],
   "source": [
    "print([dcol.snode_dict[skey]['success'] for skey in sorted(dcol.snode_dict.keys())])"
   ]
  },
  {
   "cell_type": "code",
   "execution_count": 14,
   "metadata": {},
   "outputs": [],
   "source": [
    "snode = dcol.snode_dict[0]\n",
    "rname, inhand, obj, tar, dims_bak, color_bak, succ, _ = load_manipulation_from_dict(snode, graph.ghnd)"
   ]
  },
  {
   "cell_type": "code",
   "execution_count": 15,
   "metadata": {
    "scrolled": true
   },
   "outputs": [
    {
     "name": "stdout",
     "output_type": "stream",
     "text": [
      "fail log\n",
      "DATA CHECK SUCCESS: (True->True)\n"
     ]
    }
   ],
   "source": [
    "success_now = False\n",
    "for _ in range(N_retry_test):\n",
    "    if rname and tar: # handover case\n",
    "        trajectory, Q_last, error, success_now = test_handover(graph, GRIPPER_REFS, rname, inhand, obj, tar, Q_s, dual_mplan_dict[(rname, tar)])\n",
    "        remove_map = [[], [0,1]]\n",
    "    elif inhand.collision: # place case\n",
    "        trajectory, Q_last, error, success_now = test_place(graph, GRIPPER_REFS, rname, inhand, obj, tar, Q_s, mplan)\n",
    "        remove_map = [[], [0,1]]\n",
    "    elif obj.collision: # pick case\n",
    "        trajectory, Q_last, error, success_now = test_pick(graph, GRIPPER_REFS, rname, inhand, obj, tar, Q_s, mplan)\n",
    "        remove_map = [[1], [0]]\n",
    "    else:\n",
    "        raise(RuntimeError(\"non-implemented case\"))\n",
    "    if success_now:\n",
    "        break\n",
    "    else:\n",
    "        print(\"fail log\")\n",
    "        \n",
    "print(\"DATA CHECK {}: ({}->{})\".format(\"SUCCESS\" if succ == success_now else \"FAILURE\", succ, success_now))\n",
    "\n",
    "if VISUALIZE and success_now:\n",
    "    show_manip_coords(graph, GRIPPER_REFS, \"TESTING\", rname, inhand, obj, rname2=tar)\n",
    "    graph.show_motion(trajectory, period=0.1)\n",
    "    \n",
    "remove1 = [[inhand, obj][iii] for iii in remove_map[0]]\n",
    "remove2 = [[inhand, obj][iii] for iii in remove_map[1]]\n",
    "reset_rendering(graph, \"TESTING\", remove1, remove2, dims_bak, color_bak, sleep=True, vis=True)"
   ]
  },
  {
   "cell_type": "code",
   "execution_count": null,
   "metadata": {},
   "outputs": [],
   "source": []
  },
  {
   "cell_type": "code",
   "execution_count": 16,
   "metadata": {},
   "outputs": [
    {
     "name": "stdout",
     "output_type": "stream",
     "text": [
      "generate table - Geometrygenerate table - Handle\n",
      "\n",
      "generate table - Binder\n",
      "generate table - Object\n"
     ]
    }
   ],
   "source": [
    "graph.set_rviz()"
   ]
  },
  {
   "cell_type": "code",
   "execution_count": null,
   "metadata": {},
   "outputs": [],
   "source": []
  },
  {
   "cell_type": "code",
   "execution_count": null,
   "metadata": {},
   "outputs": [],
   "source": []
  }
 ],
 "metadata": {
  "kernelspec": {
   "display_name": "Python 2",
   "language": "python",
   "name": "python2"
  },
  "language_info": {
   "codemirror_mode": {
    "name": "ipython",
    "version": 2
   },
   "file_extension": ".py",
   "mimetype": "text/x-python",
   "name": "python",
   "nbconvert_exporter": "python",
   "pygments_lexer": "ipython2",
   "version": "2.7.17"
  }
 },
 "nbformat": 4,
 "nbformat_minor": 2
}
