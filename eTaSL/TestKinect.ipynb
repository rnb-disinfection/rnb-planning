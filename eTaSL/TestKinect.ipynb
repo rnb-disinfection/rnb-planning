{
 "cells": [
  {
   "cell_type": "code",
   "execution_count": 1,
   "metadata": {},
   "outputs": [],
   "source": [
    "%matplotlib inline\n",
    "\n",
    "import matplotlib.pyplot as plt\n",
    "import time"
   ]
  },
  {
   "cell_type": "code",
   "execution_count": 2,
   "metadata": {},
   "outputs": [],
   "source": [
    "from pkg.marker_config import *"
   ]
  },
  {
   "cell_type": "code",
   "execution_count": 3,
   "metadata": {},
   "outputs": [],
   "source": [
    "aruco_map, dictionary = get_aruco_config()\n",
    "print_markers(aruco_map, dictionary)"
   ]
  },
  {
   "cell_type": "code",
   "execution_count": 3,
   "metadata": {
    "scrolled": true
   },
   "outputs": [
    {
     "name": "stdout",
     "output_type": "stream",
     "text": [
      "Device configuration: \n",
      "\tcolor_format: 3 \n",
      "\t(0:JPG, 1:NV12, 2:YUY2, 3:BGRA32)\n",
      "\n",
      "\tcolor_resolution: 5 \n",
      "\t(0:OFF, 1:720p, 2:1080p, 3:1440p, 4:1536p, 5:2160p, 6:3072p)\n",
      "\n",
      "\tdepth_mode: 3 \n",
      "\t(0:OFF, 1:NFOV_2X2BINNED, 2:NFOV_UNBINNED,3:WFOV_2X2BINNED, 4:WFOV_UNBINNED, 5:Passive IR)\n",
      "\n",
      "\tcamera_fps: 2 \n",
      "\t(0:5 FPS, 1:15 FPS, 2:30 FPS)\n",
      "\n",
      "\tsynchronized_images_only: False \n",
      "\t(True of False). Drop images if the color and depth are not synchronized\n",
      "\n",
      "\tdepth_delay_off_color_usec: 0 ms. \n",
      "\tDelay between the color image and the depth image\n",
      "\n",
      "\twired_sync_mode: 0\n",
      "\t(0:Standalone mode, 1:Master mode, 2:Subordinate mode)\n",
      "\n",
      "\tsubordinate_delay_off_master_usec: 0 ms.\n",
      "\tThe external synchronization timing.\n",
      "\n",
      "\tdisable_streaming_indicator: False \n",
      "\t(True or False). Streaming indicator automatically turns on when the color or depth camera's are in use.\n",
      "\n",
      "\n"
     ]
    }
   ],
   "source": [
    "init_kinect()\n",
    "cameraMatrix, distCoeffs = get_calibration()\n",
    "# print_markers(aruco_map, dictionary, px_size = 800, dir_img = \"./markers\")"
   ]
  },
  {
   "cell_type": "code",
   "execution_count": null,
   "metadata": {},
   "outputs": [],
   "source": []
  },
  {
   "cell_type": "code",
   "execution_count": 4,
   "metadata": {},
   "outputs": [
    {
     "name": "stdout",
     "output_type": "stream",
     "text": [
      "54.95\n",
      "60.79\n",
      "44.65\n",
      "44.47\n",
      "44.55\n",
      "44.28\n",
      "47.13\n",
      "45.91\n",
      "50.51\n",
      "44.81\n",
      "44.72\n",
      "70.39\n",
      "48.37\n",
      "50.08\n",
      "45.73\n",
      "47.53\n",
      "45.27\n",
      "45.32\n",
      "45.33\n",
      "46.04\n",
      "46.15\n",
      "46.09\n",
      "45.05\n",
      "45.76\n",
      "46.16\n",
      "48.28\n",
      "45.25\n",
      "45.03\n",
      "44.94\n",
      "44.90\n",
      "45.08\n",
      "45.32\n",
      "44.68\n",
      "45.22\n",
      "44.35\n",
      "49.09\n",
      "44.78\n",
      "46.52\n",
      "45.16\n",
      "47.43\n",
      "46.12\n",
      "46.50\n",
      "44.93\n",
      "45.25\n",
      "46.84\n",
      "47.38\n",
      "46.92\n",
      "45.69\n",
      "45.90\n",
      "45.06\n",
      "46.13\n",
      "44.97\n",
      "55.71\n",
      "44.37\n",
      "44.46\n",
      "44.21\n",
      "43.82\n",
      "44.48\n",
      "44.47\n",
      "44.12\n",
      "44.33\n",
      "44.44\n",
      "45.85\n",
      "44.20\n",
      "45.44\n",
      "46.61\n",
      "44.29\n",
      "45.37\n",
      "44.40\n",
      "46.18\n",
      "46.94\n",
      "46.89\n",
      "47.14\n",
      "60.53\n",
      "46.80\n",
      "45.24\n",
      "47.04\n",
      "46.04\n",
      "44.82\n",
      "47.30\n",
      "44.76\n",
      "44.34\n",
      "44.79\n",
      "46.04\n",
      "44.74\n",
      "44.05\n",
      "44.64\n",
      "45.15\n",
      "46.27\n",
      "54.31\n",
      "44.16\n",
      "44.24\n",
      "45.65\n",
      "46.44\n",
      "46.43\n",
      "54.44\n",
      "46.65\n",
      "46.94\n",
      "47.75\n",
      "44.10\n",
      "45.55\n",
      "57.67\n",
      "44.68\n",
      "52.06\n",
      "49.05\n",
      "46.91\n",
      "45.46\n",
      "50.70\n",
      "47.92\n",
      "48.70\n",
      "44.06\n"
     ]
    }
   ],
   "source": [
    "t0 = time.time()\n",
    "while True:\n",
    "    color_image = get_kinect_image()\n",
    "    if color_image is None:\n",
    "        time.sleep(100e-3)\n",
    "        print('get_image error: %.2f'%((time.time()-t0)*1000))\n",
    "        continue\n",
    "    print(\"%.2f\"%((time.time()-t0)*1000))\n",
    "    color_image = color_image.copy()\n",
    "    objectPose_dict, corner_dict = get_object_pose_dict(color_image, aruco_map, dictionary, cameraMatrix, distCoeffs)\n",
    "    color_image_out = draw_objects(color_image, aruco_map, objectPose_dict, corner_dict, cameraMatrix, distCoeffs, axis_len=0.1)\n",
    "    cv2.imshow('image', cv2.resize(color_image_out, None, fx=0.5, fy=0.5))\n",
    "    if cv2.waitKey(50) == 27:\n",
    "        break\n",
    "    t0 = time.time()"
   ]
  },
  {
   "cell_type": "code",
   "execution_count": null,
   "metadata": {},
   "outputs": [],
   "source": []
  },
  {
   "cell_type": "code",
   "execution_count": 5,
   "metadata": {},
   "outputs": [],
   "source": [
    "disconnect_kinect()"
   ]
  },
  {
   "cell_type": "code",
   "execution_count": null,
   "metadata": {},
   "outputs": [],
   "source": []
  },
  {
   "cell_type": "code",
   "execution_count": 11,
   "metadata": {},
   "outputs": [],
   "source": [
    "# mk0 = dictionary.drawMarker(0, 240)\n",
    "# mk1 = dictionary.drawMarker(1, 240)\n",
    "# color_image[240:480, 240:480] = np.expand_dims(mk0, axis=-1)\n",
    "# color_image[240:480, 720:960] = np.expand_dims(mk1, axis=-1)\n",
    "# plt.imshow(color_image)"
   ]
  },
  {
   "cell_type": "code",
   "execution_count": null,
   "metadata": {},
   "outputs": [],
   "source": []
  },
  {
   "cell_type": "code",
   "execution_count": null,
   "metadata": {},
   "outputs": [],
   "source": []
  },
  {
   "cell_type": "code",
   "execution_count": 13,
   "metadata": {},
   "outputs": [],
   "source": []
  }
 ],
 "metadata": {
  "kernelspec": {
   "display_name": "Python 2",
   "language": "python",
   "name": "python2"
  },
  "language_info": {
   "codemirror_mode": {
    "name": "ipython",
    "version": 2
   },
   "file_extension": ".py",
   "mimetype": "text/x-python",
   "name": "python",
   "nbconvert_exporter": "python",
   "pygments_lexer": "ipython2",
   "version": "2.7.17"
  }
 },
 "nbformat": 4,
 "nbformat_minor": 2
}
