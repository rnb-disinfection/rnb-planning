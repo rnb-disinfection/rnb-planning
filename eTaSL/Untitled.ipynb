{
 "cells": [
  {
   "cell_type": "code",
   "execution_count": 58,
   "metadata": {},
   "outputs": [],
   "source": [
    "from pkg.global_config import *\n",
    "import ctypes\n",
    "from ctypes import *\n",
    "\n",
    "OBJ_MAX = 100\n",
    "VTX_MAX = 20\n",
    "COL_MAX = 1000\n",
    "\n",
    "clib = ctypes.cdll.LoadLibrary(os.path.join(TF_GMT_ETASL_DIR, \"openGJK/lib/libopenGJKlib.so\"))\n",
    "clib.gjk_flat_batch.restype = ctypes.c_double\n",
    "\n",
    "MAX_VTX_ARR_TYPE = c_double * (VTX_MAX * 3)\n",
    "\n",
    "class bd(Structure):\n",
    "    _fields_ = [(\"numpoints\", c_int),\n",
    "                (\"coord\", POINTER(c_void_p)),\n",
    "                (\"s\", c_double*3),\n",
    "               ]\n",
    "\n",
    "class bd_flt(Structure):\n",
    "    _fields_ = [(\"numpoints\", c_int),\n",
    "                (\"vtx_flat\", MAX_VTX_ARR_TYPE)\n",
    "               ]\n",
    "    \n",
    "BD_ARR_TYPE = bd * OBJ_MAX\n",
    "BD_FLT_ARR_TYPE = bd_flt * OBJ_MAX\n",
    "\n",
    "bd_flt_arr = BD_FLT_ARR_TYPE()\n",
    "\n",
    "def assign_points_c_bd(bd_flt_arr, points_arr):\n",
    "    for bd_flt, points in zip(bd_flt_arr, points_arr):\n",
    "        bd_flt.numpoints = len(points)\n",
    "        bd_flt.vtx_flat = MAX_VTX_ARR_TYPE(*points.flatten().tolist())\n",
    "        \n",
    "def get_distance_batch(points_arr, idx1, idx2):\n",
    "    assign_points_c_bd(bd_flt_arr, points_arr)\n",
    "    len_obj = len(points_arr)\n",
    "    len_col = len(idx1)\n",
    "    dist_arr = (c_double*len_col)()\n",
    "    clib.gjk_flat_batch(bd_flt_arr, c_int(len_obj), \n",
    "                        (c_int*len_col)(*idx1), (c_int*len_col)(*idx2), \n",
    "                        c_int(len_col), cast(dist_arr, POINTER(c_double)))\n",
    "    return np.array(dist_arr)"
   ]
  },
  {
   "cell_type": "code",
   "execution_count": 59,
   "metadata": {},
   "outputs": [],
   "source": []
  },
  {
   "cell_type": "code",
   "execution_count": null,
   "metadata": {},
   "outputs": [],
   "source": []
  },
  {
   "cell_type": "code",
   "execution_count": 60,
   "metadata": {},
   "outputs": [],
   "source": [
    "points = []\n",
    "for i in range(2):\n",
    "    for j in range(2):\n",
    "        for k in range(2):\n",
    "            points.append((i,j,k))\n",
    "points = np.array(points)\n",
    "\n",
    "points1 = points.copy()\n",
    "points2 = points + 2\n",
    "\n",
    "points_arr = [points1, points2]"
   ]
  },
  {
   "cell_type": "code",
   "execution_count": null,
   "metadata": {},
   "outputs": [],
   "source": []
  },
  {
   "cell_type": "code",
   "execution_count": null,
   "metadata": {},
   "outputs": [],
   "source": []
  },
  {
   "cell_type": "code",
   "execution_count": 61,
   "metadata": {},
   "outputs": [],
   "source": [
    "import time"
   ]
  },
  {
   "cell_type": "code",
   "execution_count": 62,
   "metadata": {},
   "outputs": [
    {
     "name": "stdout",
     "output_type": "stream",
     "text": [
      "0.634908676147 ms\n"
     ]
    }
   ],
   "source": [
    "t1 = time.time()\n",
    "res = get_distance_batch(points_arr*10, np.arange(100)%10, (np.arange(100))%10)\n",
    "t2 = time.time()\n",
    "print(\"{} ms\".format((t2-t1)*1000))"
   ]
  },
  {
   "cell_type": "code",
   "execution_count": 57,
   "metadata": {},
   "outputs": [
    {
     "name": "stdout",
     "output_type": "stream",
     "text": [
      "[0. 0. 0. 0. 0. 0. 0. 0. 0. 0. 0. 0. 0. 0. 0. 0. 0. 0. 0. 0. 0. 0. 0. 0.\n",
      " 0. 0. 0. 0. 0. 0. 0. 0. 0. 0. 0. 0. 0. 0. 0. 0. 0. 0. 0. 0. 0. 0. 0. 0.\n",
      " 0. 0. 0. 0. 0. 0. 0. 0. 0. 0. 0. 0. 0. 0. 0. 0. 0. 0. 0. 0. 0. 0. 0. 0.\n",
      " 0. 0. 0. 0. 0. 0. 0. 0. 0. 0. 0. 0. 0. 0. 0. 0. 0. 0. 0. 0. 0. 0. 0. 0.\n",
      " 0. 0. 0. 0.]\n"
     ]
    }
   ],
   "source": [
    "print(res)"
   ]
  },
  {
   "cell_type": "code",
   "execution_count": 12,
   "metadata": {},
   "outputs": [
    {
     "data": {
      "text/plain": [
       "1.7320508075688772"
      ]
     },
     "execution_count": 12,
     "metadata": {},
     "output_type": "execute_result"
    }
   ],
   "source": [
    "dist_arr[0]"
   ]
  },
  {
   "cell_type": "code",
   "execution_count": null,
   "metadata": {},
   "outputs": [],
   "source": []
  }
 ],
 "metadata": {
  "kernelspec": {
   "display_name": "Python 2",
   "language": "python",
   "name": "python2"
  },
  "language_info": {
   "codemirror_mode": {
    "name": "ipython",
    "version": 2
   },
   "file_extension": ".py",
   "mimetype": "text/x-python",
   "name": "python",
   "nbconvert_exporter": "python",
   "pygments_lexer": "ipython2",
   "version": "2.7.17"
  }
 },
 "nbformat": 4,
 "nbformat_minor": 2
}
