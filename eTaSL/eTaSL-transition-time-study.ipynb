{
 "cells": [
  {
   "cell_type": "markdown",
   "metadata": {},
   "source": [
    "# Graph "
   ]
  },
  {
   "cell_type": "code",
   "execution_count": 1,
   "metadata": {},
   "outputs": [
    {
     "data": {
      "text/html": [
       "<style>.container { width:90% !important; } </style>"
      ],
      "text/plain": [
       "<IPython.core.display.HTML object>"
      ]
     },
     "metadata": {},
     "output_type": "display_data"
    }
   ],
   "source": [
    "from __future__ import print_function\n",
    "from IPython.core.display import display, HTML\n",
    "display(HTML(\"<style>.container { width:90% !important; } </style>\"))"
   ]
  },
  {
   "cell_type": "code",
   "execution_count": 2,
   "metadata": {},
   "outputs": [],
   "source": [
    "from enum import Enum\n",
    "class Scenario(Enum):\n",
    "    single_object_single_robot = 0\n",
    "    double_object_single_robot = 1\n",
    "    single_object_dual_robot = 2\n",
    "    assembly_3_piece = 3"
   ]
  },
  {
   "cell_type": "code",
   "execution_count": 3,
   "metadata": {},
   "outputs": [],
   "source": [
    "current_scenario = Scenario.single_object_single_robot"
   ]
  },
  {
   "cell_type": "code",
   "execution_count": 4,
   "metadata": {},
   "outputs": [],
   "source": [
    "if current_scenario in [Scenario.single_object_dual_robot, Scenario.assembly_3_piece]:\n",
    "    from pkg.ur10_dual import URDF_PATH, JOINT_NAMES, LINK_NAMES, ZERO_JOINT_POSE, get_geometry_items_dict\n",
    "else:\n",
    "    from pkg.ur10 import URDF_PATH, JOINT_NAMES, LINK_NAMES, ZERO_JOINT_POSE, get_geometry_items_dict\n",
    "from pkg.constraint_graph import *\n",
    "import matplotlib.pyplot as plt\n",
    "from pkg.plot_utils import *\n",
    "from pkg.utils import *\n",
    "# from threading import Thread, Lock\n",
    "from multiprocessing import Process, Lock, Manager\n",
    "PROC_MODE = True"
   ]
  },
  {
   "cell_type": "code",
   "execution_count": null,
   "metadata": {},
   "outputs": [],
   "source": []
  },
  {
   "cell_type": "markdown",
   "metadata": {},
   "source": [
    "# simulate transitions"
   ]
  },
  {
   "cell_type": "markdown",
   "metadata": {},
   "source": [
    "# Graph "
   ]
  },
  {
   "cell_type": "code",
   "execution_count": 1,
   "metadata": {},
   "outputs": [
    {
     "data": {
      "text/html": [
       "<style>.container { width:90% !important; } </style>"
      ],
      "text/plain": [
       "<IPython.core.display.HTML object>"
      ]
     },
     "metadata": {},
     "output_type": "display_data"
    }
   ],
   "source": [
    "from __future__ import print_function\n",
    "from IPython.core.display import display, HTML\n",
    "display(HTML(\"<style>.container { width:90% !important; } </style>\"))"
   ]
  },
  {
   "cell_type": "code",
   "execution_count": 2,
   "metadata": {},
   "outputs": [],
   "source": [
    "from enum import Enum\n",
    "class Scenario(Enum):\n",
    "    single_object_single_robot = 0\n",
    "    double_object_single_robot = 1\n",
    "    single_object_dual_robot = 2\n",
    "    assembly_3_piece = 3"
   ]
  },
  {
   "cell_type": "code",
   "execution_count": 3,
   "metadata": {},
   "outputs": [],
   "source": [
    "current_scenario = Scenario.single_object_single_robot"
   ]
  },
  {
   "cell_type": "code",
   "execution_count": 4,
   "metadata": {},
   "outputs": [],
   "source": [
    "if current_scenario in [Scenario.single_object_dual_robot, Scenario.assembly_3_piece]:\n",
    "    from pkg.ur10_dual import URDF_PATH, JOINT_NAMES, LINK_NAMES, ZERO_JOINT_POSE, get_geometry_items_dict\n",
    "else:\n",
    "    from pkg.ur10 import URDF_PATH, JOINT_NAMES, LINK_NAMES, ZERO_JOINT_POSE, get_geometry_items_dict\n",
    "from pkg.constraint_graph import *\n",
    "import matplotlib.pyplot as plt\n",
    "from pkg.plot_utils import *\n",
    "from pkg.utils import *\n",
    "# from threading import Thread, Lock\n",
    "from multiprocessing import Process, Lock, Manager\n",
    "PROC_MODE = True"
   ]
  },
  {
   "cell_type": "code",
   "execution_count": 84,
   "metadata": {},
   "outputs": [],
   "source": [
    "graph = ConstraintGraph(urdf_path = URDF_PATH, joint_names = JOINT_NAMES, link_names = LINK_NAMES)\n",
    "# graph.set_fixed_geometry_items(get_geometry_items_dict(graph.urdf_content, color=(0,1,0,0.5), display=False, collision=True))\n",
    "graph.set_fixed_geometry_items({\n",
    "        k:[] for k, v in get_geometry_items_dict(graph.urdf_content, color=(0,1,0,0.5), display=False, collision=False).items()})"
   ]
  },
  {
   "cell_type": "code",
   "execution_count": null,
   "metadata": {},
   "outputs": [],
   "source": []
  },
  {
   "cell_type": "markdown",
   "metadata": {},
   "source": [
    "# Single object"
   ]
  },
  {
   "cell_type": "code",
   "execution_count": 85,
   "metadata": {},
   "outputs": [],
   "source": [
    "if current_scenario == Scenario.single_object_single_robot:\n",
    "    collision = False\n",
    "    graph.add_geometry_items(\"world\", \n",
    "                              [\n",
    "                               GeoMesh(uri=\"package://my_mesh/meshes/stl/AirPick_cup_ctd.stl\", BLH=(0.01,0.01,0.01), scale=(1e-3,1e-3,1e-3), name=\"gripper1\", link_name=\"tool0\", urdf_content=graph.urdf_content, color=(0.1,0.1,0.1,1), collision=collision),\n",
    "                               GeoBox((0.5,-0.2,0.050), (0.1,0.1,0.1), name=\"box1\", link_name=\"world\", urdf_content=graph.urdf_content, color=(0.3,0.3,0.8,1), collision=collision),\n",
    "                               GeoBox((0,0,-0.005), (3,3,0.01), name=\"floor\", link_name=\"world\", urdf_content=graph.urdf_content, color=(0.6,0.6,0.6,1), collision=collision),\n",
    "#                                GeoBox((0.7,0.0,0.2), (0.7,0.05,0.4), name=\"wall\", link_name=\"world\", urdf_content=graph.urdf_content, color=(0.4,0.3,0.0,1), collision=collision),\n",
    "#                                GeoBox((0.4,0.4,0.15), (0.15,0.15,0.3), name=\"stepper\", link_name=\"world\", urdf_content=graph.urdf_content, color=(0.4,0.3,0.0,1), collision=collision),\n",
    "#                                GeoBox((0.4,0.4,0.3), (0.1,0.1,1e-3), name=\"goal_disp\", link_name=\"world\", urdf_content=graph.urdf_content, color=(0.8,0.0,0.0,1),\n",
    "#                                       collision=False)\n",
    "        ])\n",
    "    \n",
    "    graph.register_binder(name='vac1', _type=VacuumTool, point=[0,0,5e-2], link_name=\"tool0\", direction=[0,0,1])\n",
    "    graph.register_binder(name='floor', _type=PlacePlane, direction=[0,0,1])\n",
    "#     graph.register_binder(name='goal', _type=PlaceFrame, point=(0.4,0.4,0.3+5e-4), link_name=\"world\", orientation=[0,0,0])\n",
    "\n",
    "    graph.register_object('box1', _type=BoxAction, binding=(\"bottom_p\",\"floor\"))\n",
    "\n",
    "    graph.update_handles()"
   ]
  },
  {
   "cell_type": "markdown",
   "metadata": {},
   "source": [
    "# Set RVIZ"
   ]
  },
  {
   "cell_type": "code",
   "execution_count": 86,
   "metadata": {},
   "outputs": [
    {
     "name": "stdout",
     "output_type": "stream",
     "text": [
      "publication OK\n",
      "published: [0, 0, 0, 0, 0, 0]\n",
      "publication OK\n",
      "publication OK\n",
      "publication OK\n"
     ]
    }
   ],
   "source": [
    "graph.set_simulation(nWSR=50, regularization_factor= 1e-1)"
   ]
  },
  {
   "cell_type": "markdown",
   "metadata": {},
   "source": [
    "# build"
   ]
  },
  {
   "cell_type": "code",
   "execution_count": 87,
   "metadata": {},
   "outputs": [],
   "source": [
    "graph.build_graph()"
   ]
  },
  {
   "cell_type": "code",
   "execution_count": 88,
   "metadata": {},
   "outputs": [
    {
     "name": "stdout",
     "output_type": "stream",
     "text": [
      "init: \t40.0 ms/5 = 7.998 ms \n",
      "run: \t3023.0 ms/5 = 604.54 ms \n",
      "init_sim: \t252.0 ms/5 = 50.354 ms \n",
      "put_constraints: \t23.0 ms/5 = 4.579 ms \n",
      "monitor: \t5.0 ms/5 = 0.997 ms \n",
      "simulate: \t2726.0 ms/5 = 545.112 ms \n",
      "output: \t0.0 ms/5 = 0.027 ms \n",
      "post: \t3.0 ms/6 = 0.435 ms \n",
      "test: \t2668.0 ms/4 = 667.052 ms \n",
      "start set transition: \t1.0 ms/1 = 1.314 ms \n",
      "set_simulate fun: \t38.0 ms/1 = 38.073 ms \n",
      "\n",
      "\n",
      "success - Goal cost:1->0 / Init cost:0->1 / branching: 0->1 (0.04 s)\n",
      "node: (('box1', 'bottom_p', 'floor'),)->(('box1', 'top_p', 'vac1'),)\n",
      "======================================================================================================================================================\n"
     ]
    }
   ],
   "source": [
    "if current_scenario == Scenario.single_object_single_robot:\n",
    "    graph.search_graph_ordered(initial_state = \\\n",
    "                                  State((('box1','bottom_p','floor'),), \n",
    "                                        {'box1': [0.5,-0.2,0.05,0,0,0,1]}, ZERO_JOINT_POSE),\n",
    "                                  goal_state = State((('box1','top_p','vac1'),), None, None), display=False, \n",
    "                                  terminate_on_first = True, tree_margin = 0,\n",
    "                                  depth_margin = 2, joint_motion_num=50, \n",
    "                                  **dict(N=300, dt=0.01, vel_conv=1e-2, err_conv=1e-3))"
   ]
  },
  {
   "cell_type": "code",
   "execution_count": null,
   "metadata": {},
   "outputs": [],
   "source": []
  }
 ],
 "metadata": {
  "kernelspec": {
   "display_name": "Python 2",
   "language": "python",
   "name": "python2"
  },
  "language_info": {
   "codemirror_mode": {
    "name": "ipython",
    "version": 2
   },
   "file_extension": ".py",
   "mimetype": "text/x-python",
   "name": "python",
   "nbconvert_exporter": "python",
   "pygments_lexer": "ipython2",
   "version": "2.7.17"
  }
 },
 "nbformat": 4,
 "nbformat_minor": 2
}
