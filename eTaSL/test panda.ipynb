{
 "cells": [
  {
   "cell_type": "code",
   "execution_count": 1,
   "metadata": {},
   "outputs": [],
   "source": []
  },
  {
   "cell_type": "code",
   "execution_count": 2,
   "metadata": {},
   "outputs": [],
   "source": [
    "import rospy\n",
    "rospy.init_node('panda_joint_controller', anonymous=True)"
   ]
  },
  {
   "cell_type": "code",
   "execution_count": 3,
   "metadata": {},
   "outputs": [],
   "source": [
    "ps = PandaStateSubscriber(interface_name=PANDA_SIMULATION_INTERFACE)\n",
    "ps.start_subsciption()\n",
    "pc = PandaControlPublisher(interface_name=PANDA_SIMULATION_INTERFACE)"
   ]
  },
  {
   "cell_type": "code",
   "execution_count": 4,
   "metadata": {
    "scrolled": true
   },
   "outputs": [
    {
     "name": "stdout",
     "output_type": "stream",
     "text": [
      "[INFO] [1597241110.209112, 2196.677000]: GripperInterface: Waiting for gripper action servers... \n",
      "[INFO] [1597241110.436507, 2196.905000]: GripperInterface: Gripper action servers found! \n"
     ]
    }
   ],
   "source": []
  },
  {
   "cell_type": "code",
   "execution_count": 6,
   "metadata": {},
   "outputs": [],
   "source": [
    "pc.joint_move_arm(np.add(ps.state.position[2:], -np.pi/4))"
   ]
  },
  {
   "cell_type": "code",
   "execution_count": 8,
   "metadata": {},
   "outputs": [],
   "source": [
    "pc.open_finger()"
   ]
  },
  {
   "cell_type": "code",
   "execution_count": 9,
   "metadata": {},
   "outputs": [],
   "source": [
    "pc.close_finger()"
   ]
  },
  {
   "cell_type": "code",
   "execution_count": null,
   "metadata": {},
   "outputs": [],
   "source": []
  },
  {
   "cell_type": "code",
   "execution_count": null,
   "metadata": {},
   "outputs": [],
   "source": []
  },
  {
   "cell_type": "code",
   "execution_count": null,
   "metadata": {},
   "outputs": [],
   "source": []
  },
  {
   "cell_type": "code",
   "execution_count": 1,
   "metadata": {},
   "outputs": [],
   "source": [
    "import rospy\n",
    "import numpy as np\n",
    "from franka_interface import ArmInterface"
   ]
  },
  {
   "cell_type": "code",
   "execution_count": 2,
   "metadata": {},
   "outputs": [
    {
     "name": "stdout",
     "output_type": "stream",
     "text": [
      "Unable to register with master node [http://127.0.0.1:11311]: master may not be running yet. Will keep trying.\n"
     ]
    },
    {
     "name": "stderr",
     "output_type": "stream",
     "text": [
      "[ERROR] [1599027801.870042]: RobotParam: robot_ip cannot detect robot ip. under param /robot_ip\n",
      "[ERROR] [1599027801.872169]: RobotParam: get_robot_name cannot detect robot name under param /robot_config/arm_id\n",
      "[ERROR] [1599027801.874163]: RobotParam: get_joint_names cannot detect joint_names for arm\n",
      "[ERROR] [1599027801.875443]: RobotParam: get_joint_limits cannot detect robot joint velocity limits under param /robot_config/joint_config/joint_velocity_limit\n",
      "[ERROR] [1599027801.876637]: RobotParam: get_joint_limits cannot detect robot joint position lower limits under param /robot_config/joint_config/joint_position_limit/lower\n",
      "[ERROR] [1599027801.877890]: RobotParam: get_joint_limits cannot detect robot joint position upper limits under param /robot_config/joint_config/joint_position_limit/upper\n",
      "[ERROR] [1599027801.879093]: RobotParam: get_joint_limits cannot detect robot joint torque limits under param /robot_config/joint_config/joint_effort_limit\n",
      "[ERROR] [1599027801.880191]: RobotParam: get_joint_limits cannot detect robot joint acceleration limits under param /robot_config/joint_config/joint_acceleration_limit\n",
      "[ERROR] [1599027801.880887]: Cannot detect joint names for arm on this robot. Exiting Arm.init().\n"
     ]
    },
    {
     "ename": "AttributeError",
     "evalue": "'ArmInterface' object has no attribute '_ctrl_manager'",
     "output_type": "error",
     "traceback": [
      "\u001b[0;31m\u001b[0m",
      "\u001b[0;31mAttributeError\u001b[0mTraceback (most recent call last)",
      "\u001b[0;32m<ipython-input-2-5d706571f310>\u001b[0m in \u001b[0;36m<module>\u001b[0;34m()\u001b[0m\n\u001b[1;32m      1\u001b[0m \u001b[0mrospy\u001b[0m\u001b[0;34m.\u001b[0m\u001b[0minit_node\u001b[0m\u001b[0;34m(\u001b[0m\u001b[0;34m\"test_robot\"\u001b[0m\u001b[0;34m)\u001b[0m\u001b[0;34m\u001b[0m\u001b[0m\n\u001b[1;32m      2\u001b[0m \u001b[0mr\u001b[0m \u001b[0;34m=\u001b[0m \u001b[0mArmInterface\u001b[0m\u001b[0;34m(\u001b[0m\u001b[0;34m)\u001b[0m \u001b[0;31m# create arm interface instance (see https://justagist.github.io/franka_ros_interface/DOC.html#arminterface for all available methods for ArmInterface() object)\u001b[0m\u001b[0;34m\u001b[0m\u001b[0m\n\u001b[0;32m----> 3\u001b[0;31m \u001b[0mcm\u001b[0m \u001b[0;34m=\u001b[0m \u001b[0mr\u001b[0m\u001b[0;34m.\u001b[0m\u001b[0mget_controller_manager\u001b[0m\u001b[0;34m(\u001b[0m\u001b[0;34m)\u001b[0m \u001b[0;31m# get controller manager instance associated with the robot (not required in most cases)\u001b[0m\u001b[0;34m\u001b[0m\u001b[0m\n\u001b[0m\u001b[1;32m      4\u001b[0m \u001b[0mmvt\u001b[0m \u001b[0;34m=\u001b[0m \u001b[0mr\u001b[0m\u001b[0;34m.\u001b[0m\u001b[0mget_movegroup_interface\u001b[0m\u001b[0;34m(\u001b[0m\u001b[0;34m)\u001b[0m \u001b[0;31m# get the moveit interface for planning and executing trajectories using moveit planners (see https://justagist.github.io/franka_ros_interface/DOC.html#franka_moveit.PandaMoveGroupInterface for documentation)\u001b[0m\u001b[0;34m\u001b[0m\u001b[0m\n",
      "\u001b[0;32m/home/junsu/catkin_ws/src/franka_ros_interface/franka_interface/src/franka_interface/arm.pyc\u001b[0m in \u001b[0;36mget_controller_manager\u001b[0;34m(self)\u001b[0m\n\u001b[1;32m    849\u001b[0m         \u001b[0;34m:\u001b[0m\u001b[0mrtype\u001b[0m\u001b[0;34m:\u001b[0m \u001b[0mfranka_tools\u001b[0m\u001b[0;34m.\u001b[0m\u001b[0mFrankaControllerManagerInterface\u001b[0m\u001b[0;34m\u001b[0m\u001b[0m\n\u001b[1;32m    850\u001b[0m         \"\"\"\n\u001b[0;32m--> 851\u001b[0;31m         \u001b[0;32mreturn\u001b[0m \u001b[0mself\u001b[0m\u001b[0;34m.\u001b[0m\u001b[0m_ctrl_manager\u001b[0m\u001b[0;34m\u001b[0m\u001b[0m\n\u001b[0m\u001b[1;32m    852\u001b[0m \u001b[0;34m\u001b[0m\u001b[0m\n\u001b[1;32m    853\u001b[0m \u001b[0;34m\u001b[0m\u001b[0m\n",
      "\u001b[0;31mAttributeError\u001b[0m: 'ArmInterface' object has no attribute '_ctrl_manager'"
     ]
    }
   ],
   "source": [
    "rospy.init_node(\"test_robot\")\n",
    "r = ArmInterface() # create arm interface instance (see https://justagist.github.io/franka_ros_interface/DOC.html#arminterface for all available methods for ArmInterface() object)\n",
    "cm = r.get_controller_manager() # get controller manager instance associated with the robot (not required in most cases)\n",
    "mvt = r.get_movegroup_interface() # get the moveit interface for planning and executing trajectories using moveit planners (see https://justagist.github.io/franka_ros_interface/DOC.html#franka_moveit.PandaMoveGroupInterface for documentation)\n"
   ]
  },
  {
   "cell_type": "code",
   "execution_count": null,
   "metadata": {},
   "outputs": [],
   "source": []
  },
  {
   "cell_type": "code",
   "execution_count": null,
   "metadata": {},
   "outputs": [],
   "source": [
    "\n",
    "rospy.init_node(\"test_robot\")\n",
    "r = ArmInterface() # create arm interface instance (see https://justagist.github.io/franka_ros_interface/DOC.html#arminterface for all available methods for ArmInterface() object)\n",
    "cm = r.get_controller_manager() # get controller manager instance associated with the robot (not required in most cases)\n",
    "mvt = r.get_movegroup_interface() # get the moveit interface for planning and executing trajectories using moveit planners (see https://justagist.github.io/franka_ros_interface/DOC.html#franka_moveit.PandaMoveGroupInterface for documentation)\n",
    "\n",
    "rospy.loginfo(\"Commanding...\\n\")\n",
    "elapsed_time_ = rospy.Duration(0.0)\n",
    "period = rospy.Duration(0.005)\n",
    "\n",
    "initial_pose = r.joint_angles() # get current joint angles of the robot\n",
    "\n",
    "jac = r.zero_jacobian() # get end-effector jacobian\n",
    "\n",
    "count = 0\n",
    "rate = rospy.Rate(1000)\n",
    "\n",
    "vals = r.joint_angles()\n",
    "while not rospy.is_shutdown():\n",
    "\n",
    "    elapsed_time_ += period\n",
    "\n",
    "    delta = 3.14 / 16.0 * (1 - np.cos(3.14 / 5.0 * elapsed_time_.to_sec())) * 0.2\n",
    "\n",
    "    for j in r.joint_names():\n",
    "        if j == r.joint_names()[4]:\n",
    "            vals[j] = initial_pose[j] - delta\n",
    "        else:\n",
    "            vals[j] = initial_pose[j] + delta\n",
    "\n",
    "    r.set_joint_positions(vals) # set joint positions for the robot. Available methods for control (set_joint_velocities, set_joint_position_velocities, set_joint_torques)\n",
    "    rate.sleep()"
   ]
  }
 ],
 "metadata": {
  "kernelspec": {
   "display_name": "Python 2",
   "language": "python",
   "name": "python2"
  },
  "language_info": {
   "codemirror_mode": {
    "name": "ipython",
    "version": 2
   },
   "file_extension": ".py",
   "mimetype": "text/x-python",
   "name": "python",
   "nbconvert_exporter": "python",
   "pygments_lexer": "ipython2",
   "version": "2.7.17"
  }
 },
 "nbformat": 4,
 "nbformat_minor": 2
}
