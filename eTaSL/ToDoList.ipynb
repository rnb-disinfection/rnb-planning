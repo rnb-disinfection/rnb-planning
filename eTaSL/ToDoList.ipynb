{
 "cells": [
  {
   "cell_type": "markdown",
   "metadata": {},
   "source": [
    "# Done"
   ]
  },
  {
   "cell_type": "markdown",
   "metadata": {},
   "source": [
    "* collision constraint 구현:  \n",
    "    - urdf에서 line segment 추출 (가능할 시)\n",
    "    - line segment간 constraint 조합 생성\n",
    "    - distance constraint 구현\n",
    "    \n",
    "* 물체+collision model 추가 (cube)  \n",
    "\n",
    "* 물체 grasp 모드 추가 \n",
    "    - multipoint notation 추가해서 go to pick 한가지 동작 우선 구현 v\n",
    "    - multipoint grip notation을 물체에 할당 v\n",
    "    - vacuum gripper 툴 클래스 구현 v\n",
    "    - Teo 계산, update 추가 - offset 계산 체크 v\n",
    "    \n",
    "* 물체 place 모드 추가\n",
    "    - constraint 확장: direction constraint 추가 v\n",
    "    - point on box constraint 추가 v\n",
    "    \n",
    "* state에 object position는 포함시키지 않음! - 차이가 없고 optimizer만 고생하게 함.\n",
    "\n",
    "* Constraint Graph 자동 생성 구현\n",
    "\n",
    "* 트리 서치 구현\n",
    "\n",
    "* 네비게이션 - weighting 구현\n",
    "\n",
    "* 시뮬레이션 스텝 빠른 종료 구현(velocity, error)\n",
    "\n",
    "* 멀티쓰레드 구현 (효과x)\n",
    "\n",
    "* 멀티프로세스 구현 (5/s->15/s)\n",
    "    - cpu 점유율 !\n",
    "    - 시간/반복수 체크\n",
    "\n",
    "* strict navigation\n",
    "\n",
    "* multi-process ordered searching \n",
    "    - depth-wise의 input queue와 리니어 snode_vec가 존재\n",
    "    - initial은 depth0 snode_vec에 넣고 시작\n",
    "    - 메인프로세스는 output queue에서 있는대로 표현식 계산해 depth별 input queue에 쌓기\n",
    "    - simulator 프로세스는 input queue에서 하나씩 해결해 output queue에 쌓기\n",
    "    - simulator는 depth별 랜덤 선택해 시뮬레이션\n",
    "    - depth_buffer & auto depth expansion\n",
    "    \n",
    "* Multi robot\n",
    "\n",
    "* Depth expansion in thread\n",
    "    - multi-process too slow\n",
    "    \n",
    "* add features\n",
    "    - point constraint v\n",
    "    - full orientation v\n",
    "    - object binding v\n",
    "    - multi-binder object:  get_representation에 경우에따라 다른 물체도 구현할 수 있음"
   ]
  },
  {
   "cell_type": "markdown",
   "metadata": {},
   "source": [
    "# To Do"
   ]
  },
  {
   "cell_type": "markdown",
   "metadata": {},
   "source": [
    "* depth 깊어졌을 때의 딜레이 원인 파악"
   ]
  },
  {
   "cell_type": "markdown",
   "metadata": {},
   "source": [
    "* conveyor 구현"
   ]
  },
  {
   "cell_type": "markdown",
   "metadata": {},
   "source": [
    "* 세부경로 최적화\n",
    "    - by waypoint weighting?\n",
    "    - 확장, 증명"
   ]
  },
  {
   "cell_type": "markdown",
   "metadata": {},
   "source": [
    "* 3 object rearrange 데모 구현"
   ]
  },
  {
   "cell_type": "markdown",
   "metadata": {},
   "source": [
    "* 실시간 회피 데모 구현"
   ]
  },
  {
   "cell_type": "markdown",
   "metadata": {},
   "source": [
    "* XYZ 캡슐 재적용\n",
    "* 실린더 constraint 추가\n",
    "* 경로 시간 추가\n",
    "* 모든 Constraint 미리 추가하고 target_upper==1E20로 쓰지 않는 constraint는 inactive로 설정하기"
   ]
  },
  {
   "cell_type": "markdown",
   "metadata": {},
   "source": [
    "* 딥러닝 적용: 트리서칭 뼈대 유지하고 영역에 따른 유효성 판단 역할을 하는 게 범용적으로 나을 것 (FK푼 결과를 인풋으로 하는 것도 고려)"
   ]
  },
  {
   "cell_type": "code",
   "execution_count": 18,
   "metadata": {},
   "outputs": [],
   "source": [
    "import matplotlib.pyplot as plt"
   ]
  },
  {
   "cell_type": "code",
   "execution_count": 43,
   "metadata": {},
   "outputs": [
    {
     "data": {
      "text/plain": [
       "[<matplotlib.lines.Line2D at 0x7f9ffa875bd0>]"
      ]
     },
     "execution_count": 43,
     "metadata": {},
     "output_type": "execute_result"
    },
    {
     "data": {
      "image/png": "[encoded data removed]",
      "text/plain": [
       "<Figure size 432x288 with 1 Axes>"
      ]
     },
     "metadata": {},
     "output_type": "display_data"
    }
   ],
   "source": [
    "plt.plot([1,2,3],[2,3,4],'-',color=(0.7,)*3)\n",
    "plt.plot([1,2,3],[1,2,3],'-o',color='c')\n",
    "plt.plot([1,2,3],[0,1,2],'-',color=(0.7,)*3)"
   ]
  },
  {
   "cell_type": "code",
   "execution_count": null,
   "metadata": {},
   "outputs": [],
   "source": []
  }
 ],
 "metadata": {
  "kernelspec": {
   "display_name": "Python 2",
   "language": "python",
   "name": "python2"
  },
  "language_info": {
   "codemirror_mode": {
    "name": "ipython",
    "version": 2
   },
   "file_extension": ".py",
   "mimetype": "text/x-python",
   "name": "python",
   "nbconvert_exporter": "python",
   "pygments_lexer": "ipython2",
   "version": "2.7.17"
  }
 },
 "nbformat": 4,
 "nbformat_minor": 4
}
