{
 "cells": [
  {
   "cell_type": "code",
   "execution_count": 1,
   "metadata": {},
   "outputs": [],
   "source": [
    "from pkg.constraint_action import *\n",
    "from pkg.constraint_object import *\n",
    "from pkg.etasl import *\n",
    "from pkg.geometry import *\n",
    "from pkg.global_config import *\n",
    "from pkg.joint_utils import *\n",
    "from pkg.ros_rviz import *\n",
    "from pkg.ur10 import URDF_PATH, JOINT_NAMES, LINK_NAMES, ZERO_JOINT_POSE, get_geometry_items_dict\n",
    "from urdf_parser_py.urdf import URDF"
   ]
  },
  {
   "cell_type": "markdown",
   "metadata": {},
   "source": [
    "# Initialize"
   ]
  },
  {
   "cell_type": "code",
   "execution_count": 2,
   "metadata": {},
   "outputs": [
    {
     "name": "stdout",
     "output_type": "stream",
     "text": [
      "Please create a subscriber to the marker\n",
      "publication OK\n",
      "published: [0, -1.5707963267948966, 0, -1.5707963267948966, 0, 0]\n"
     ]
    }
   ],
   "source": [
    "urdf_path = URDF_PATH\n",
    "urdf_content = URDF.from_xml_file(urdf_path)\n",
    "joint_names = JOINT_NAMES\n",
    "link_names = LINK_NAMES\n",
    "\n",
    "# prepare ros\n",
    "pub, joints, rate = get_publisher(joint_names)"
   ]
  },
  {
   "cell_type": "markdown",
   "metadata": {},
   "source": [
    "# Prepare collision items"
   ]
  },
  {
   "cell_type": "code",
   "execution_count": 3,
   "metadata": {},
   "outputs": [
    {
     "name": "stdout",
     "output_type": "stream",
     "text": [
      "Please create a subscriber to the marker\n",
      "publication OK\n",
      "publication OK\n",
      "publication OK\n",
      "publication OK\n",
      "publication OK\n",
      "publication OK\n",
      "publication OK\n",
      "publication OK\n",
      "publication OK\n",
      "publication OK\n",
      "publication OK\n",
      "publication OK\n"
     ]
    }
   ],
   "source": [
    "# prepare joints\n",
    "geometry_items_dict = get_geometry_items_dict(urdf_content, color=(0,1,0,0.5))\n",
    "\n",
    "gbox = GeoBox((0.5,-0.2,0.050), (0.1,0.1,0.1), name=\"box_1\", link_name=\"base_link\", urdf_content=urdf_content, color=(0.8,0.8,0.8,1))\n",
    "gbox_floor = GeoBox((0,0,-0.005), (3,3,0.01), name=\"floor\", link_name=\"base_link\", urdf_content=urdf_content, color=(0.6,0.6,0.6,1))\n",
    "gbox_wall = GeoBox((0.7,0.0,0.2), (0.8,0.05,0.4), name=\"wall\", link_name=\"base_link\", urdf_content=urdf_content, color=(0.4,0.3,0.0,1))\n",
    "gbox_stepper = GeoBox((0.4,0.4,0.15), (0.3,0.3,0.3), name=\"stepper\", link_name=\"base_link\", urdf_content=urdf_content, color=(0.4,0.3,0.0,1))\n",
    "gbox_goal = GeoBox((0.4,0.4,0.3), (0.2,0.2,1e-3), name=\"platform\", link_name=\"base_link\", urdf_content=urdf_content, color=(0.8,0.0,0.0,1),\n",
    "                  collision=False)\n",
    "geometry_items_dict[\"base_link\"] += [gbox]\n",
    "geometry_items_dict[\"base_link\"] += [gbox_floor]\n",
    "geometry_items_dict[\"base_link\"] += [gbox_wall]\n",
    "geometry_items_dict[\"base_link\"] += [gbox_stepper]\n",
    "geometry_items_dict[\"base_link\"] += [gbox_goal]\n",
    "box_action = BoxAction(gbox)\n",
    "vtool = VacuumTool([0,0,0], [0,0,1],\"tool0\", urdf_content, geometry_items_dict=geometry_items_dict)\n",
    "pointer_plane = GeoPointer(direction=[0,0,1], _object = gbox_goal)\n",
    "\n",
    "# prepare visualization markers\n",
    "marker_list = set_markers(geometry_items_dict, joints, joint_names, link_names, urdf_content)"
   ]
  },
  {
   "cell_type": "markdown",
   "metadata": {},
   "source": [
    "# Set simulation"
   ]
  },
  {
   "cell_type": "code",
   "execution_count": 4,
   "metadata": {},
   "outputs": [],
   "source": [
    "set_simulation_config(joint_names = JOINT_NAMES, link_names = LINK_NAMES, \n",
    "                      urdf_content = urdf_content, urdf_path = urdf_path,\n",
    "                      geometry_items_dict=geometry_items_dict)"
   ]
  },
  {
   "cell_type": "markdown",
   "metadata": {},
   "source": [
    "# Go to grasp"
   ]
  },
  {
   "cell_type": "code",
   "execution_count": 5,
   "metadata": {},
   "outputs": [],
   "source": [
    "e = set_simulate(initial_jpos=ZERO_JOINT_POSE,\n",
    "                 additional_constraints=vtool.make_constraints(box_action, \"top\"))"
   ]
  },
  {
   "cell_type": "markdown",
   "metadata": {},
   "source": [
    "# show_motion"
   ]
  },
  {
   "cell_type": "code",
   "execution_count": 6,
   "metadata": {},
   "outputs": [
    {
     "name": "stdout",
     "output_type": "stream",
     "text": [
      "published: [-0.6898476075971174, -1.0584748866154912, 2.0175652452522006, 0.6117068011309413, 1.5707963699964924, -0.03100405775982734]]]]\r"
     ]
    }
   ],
   "source": [
    "show_motion(e.POS, marker_list, pub, joints)"
   ]
  },
  {
   "cell_type": "markdown",
   "metadata": {},
   "source": [
    "# activate grasp"
   ]
  },
  {
   "cell_type": "code",
   "execution_count": 7,
   "metadata": {
    "scrolled": true
   },
   "outputs": [],
   "source": [
    "vtool.activate(action_obj=box_action, joint_dict_last=e.joint_dict_last)"
   ]
  },
  {
   "cell_type": "code",
   "execution_count": 8,
   "metadata": {},
   "outputs": [
    {
     "name": "stdout",
     "output_type": "stream",
     "text": [
      "published: [3.630144109726539e-17, -1.8849555921538754, 1.8849555921538754, 6.892586092783765e-19, -7.484593236497023e-16, 1.1217779909091847e-19]]]]]]\r"
     ]
    }
   ],
   "source": [
    "e = set_simulate(initial_jpos=e.POS[-1],\n",
    "                 additional_constraints=make_joint_constraints(e, joint_names=joint_names), \n",
    "                 inp_lbl=['target_%s'%jname for jname in joint_names], inp=list(ZERO_JOINT_POSE))\n",
    "show_motion(e.POS, marker_list, pub, joints)"
   ]
  },
  {
   "cell_type": "markdown",
   "metadata": {},
   "source": [
    "# Go to put"
   ]
  },
  {
   "cell_type": "code",
   "execution_count": 9,
   "metadata": {},
   "outputs": [
    {
     "name": "stdout",
     "output_type": "stream",
     "text": [
      "published: [0.3101932503640598, -1.4351450690382428, 1.8697681495815555, 1.1361710147372641, 1.570795316400578, -0.2439934087895535]4]]7]\r"
     ]
    }
   ],
   "source": [
    "e = set_simulate(initial_jpos=e.POS[-1],\n",
    "                 additional_constraints=box_action.make_dir_point_constraints(\"bottom\", pointer_plane))\n",
    "show_motion(e.POS, marker_list, pub, joints)"
   ]
  },
  {
   "cell_type": "markdown",
   "metadata": {},
   "source": [
    "# deactivate grasp"
   ]
  },
  {
   "cell_type": "code",
   "execution_count": 10,
   "metadata": {},
   "outputs": [],
   "source": [
    "vtool.deactivate(action_obj=box_action, joint_dict_last=e.joint_dict_last, to_link='base_link')"
   ]
  },
  {
   "cell_type": "code",
   "execution_count": 11,
   "metadata": {},
   "outputs": [
    {
     "name": "stdout",
     "output_type": "stream",
     "text": [
      "published: [-9.32267960022359e-23, -1.8849555921538754, 1.8849555921538754, -1.7517536359197492e-18, -7.570641044732606e-16, 7.052399193470053e-24]]]]]\r"
     ]
    }
   ],
   "source": [
    "e = set_simulate(initial_jpos=e.POS[-1],\n",
    "                 additional_constraints=make_joint_constraints(e, joint_names=joint_names), \n",
    "                 inp_lbl=['target_%s'%jname for jname in joint_names], inp=list(ZERO_JOINT_POSE))\n",
    "show_motion(e.POS, marker_list, pub, joints)"
   ]
  },
  {
   "cell_type": "code",
   "execution_count": null,
   "metadata": {},
   "outputs": [],
   "source": []
  },
  {
   "cell_type": "code",
   "execution_count": null,
   "metadata": {},
   "outputs": [],
   "source": []
  },
  {
   "cell_type": "code",
   "execution_count": null,
   "metadata": {},
   "outputs": [],
   "source": []
  },
  {
   "cell_type": "code",
   "execution_count": null,
   "metadata": {},
   "outputs": [],
   "source": []
  },
  {
   "cell_type": "code",
   "execution_count": null,
   "metadata": {},
   "outputs": [],
   "source": []
  },
  {
   "cell_type": "code",
   "execution_count": null,
   "metadata": {},
   "outputs": [],
   "source": []
  },
  {
   "cell_type": "markdown",
   "metadata": {},
   "source": [
    "# delete all"
   ]
  },
  {
   "cell_type": "code",
   "execution_count": 31,
   "metadata": {},
   "outputs": [],
   "source": [
    "for mkr in marker_list:\n",
    "    mkr.delete()"
   ]
  },
  {
   "cell_type": "code",
   "execution_count": null,
   "metadata": {},
   "outputs": [],
   "source": []
  },
  {
   "cell_type": "markdown",
   "metadata": {},
   "source": [
    "# Plotting (using the Bokeh library to provide interactive plots)"
   ]
  },
  {
   "cell_type": "code",
   "execution_count": null,
   "metadata": {},
   "outputs": [],
   "source": [
    "from bokeh.plotting import figure, show, output_notebook\n",
    "from bokeh.layouts import gridplot\n",
    "from etasl_py.bokehplots import plotv\n",
    "\n",
    "output_notebook()\n",
    "print(\"positions : \")\n",
    "plotv(e.TIME,e.POS,e.POS_LBL)\n",
    "print(\"velocities : \")\n",
    "plotv(e.TIME,e.VEL,e.POS_LBL)\n",
    "print(\"outputs : \")\n",
    "plotv(e.TIME,e.OUTP,e.OUTP_LBL)"
   ]
  },
  {
   "cell_type": "code",
   "execution_count": null,
   "metadata": {},
   "outputs": [],
   "source": []
  },
  {
   "cell_type": "code",
   "execution_count": 21,
   "metadata": {},
   "outputs": [
    {
     "name": "stdout",
     "output_type": "stream",
     "text": [
      "/bin/sh: 1: urdf_to_graphiz: not found\r\n"
     ]
    }
   ],
   "source": [
    "!urdf_to_graphiz $(rospack find etasl_py_examples)/robots/ur10_robot.urdf\n",
    "from graphviz import Source\n",
    "Source.from_file('ur10.gv')"
   ]
  },
  {
   "cell_type": "code",
   "execution_count": null,
   "metadata": {},
   "outputs": [],
   "source": []
  }
 ],
 "metadata": {
  "kernelspec": {
   "display_name": "Python 2",
   "language": "python",
   "name": "python2"
  },
  "language_info": {
   "codemirror_mode": {
    "name": "ipython",
    "version": 2
   },
   "file_extension": ".py",
   "mimetype": "text/x-python",
   "name": "python",
   "nbconvert_exporter": "python",
   "pygments_lexer": "ipython2",
   "version": "2.7.17"
  }
 },
 "nbformat": 4,
 "nbformat_minor": 2
}
