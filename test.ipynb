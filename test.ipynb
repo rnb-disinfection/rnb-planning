{
 "cells": [
  {
   "cell_type": "code",
   "execution_count": 8,
   "metadata": {},
   "outputs": [],
   "source": [
    "import tensorflow as tf\n",
    "from tensorflow import keras\n",
    "from tensorflow.keras import layers\n",
    "import numpy as np"
   ]
  },
  {
   "cell_type": "code",
   "execution_count": 21,
   "metadata": {},
   "outputs": [],
   "source": [
    "import matplotlib.pyplot as plt\n",
    "from rotation_utils import *"
   ]
  },
  {
   "cell_type": "code",
   "execution_count": 10,
   "metadata": {},
   "outputs": [],
   "source": [
    "class CosLayer(layers.Layer):\n",
    "    def __init__(self):\n",
    "        super(CosLayer, self).__init__()\n",
    "        \n",
    "        \n",
    "    # 변수를 만듭니다.\n",
    "    def build(self, input_shape):\n",
    "        pass\n",
    "\n",
    "    # call 메서드가 그래프 모드에서 사용되면\n",
    "    # training 변수는 텐서가 됩니다.\n",
    "    @tf.function\n",
    "    def call(self, input):\n",
    "        return tf.cos(input)\n",
    "    \n",
    "class SinLayer(layers.Layer):\n",
    "    def __init__(self):\n",
    "        super(SinLayer, self).__init__()\n",
    "        \n",
    "        \n",
    "    # 변수를 만듭니다.\n",
    "    def build(self, input_shape):\n",
    "        pass\n",
    "\n",
    "    # call 메서드가 그래프 모드에서 사용되면\n",
    "    # training 변수는 텐서가 됩니다.\n",
    "    @tf.function\n",
    "    def call(self, input):\n",
    "        return tf.sin(input)"
   ]
  },
  {
   "cell_type": "code",
   "execution_count": 11,
   "metadata": {},
   "outputs": [],
   "source": [
    "class Trigonometric:\n",
    "    def __init__(self, q):\n",
    "        self.q = q\n",
    "        self.cos = CosLayer()(q)\n",
    "        self.sin = SinLayer()(q)"
   ]
  },
  {
   "cell_type": "code",
   "execution_count": 12,
   "metadata": {},
   "outputs": [],
   "source": [
    "class RotMatLayer(layers.Layer):\n",
    "    def __init__(self, axis):\n",
    "        self.axis = axis\n",
    "        super(RotMatLayer, self).__init__()\n",
    "        if self.axis==1:\n",
    "            self.r1 = tf.constant([[1,0,0],\n",
    "                                   [0,0,0],\n",
    "                                   [0,0,0]], dtype='float32')\n",
    "            self.rc = tf.constant([[0,0,0],\n",
    "                                   [0,1,0],\n",
    "                                   [0,0,1]], dtype='float32')\n",
    "            self.rs = tf.constant([[0,0,0],\n",
    "                                   [0,0,-1],\n",
    "                                   [0,1,0]], dtype='float32')\n",
    "        elif self.axis==2:\n",
    "            self.r1 = tf.constant([[0,0,0],\n",
    "                                   [0,1,0],\n",
    "                                   [0,0,0]], dtype='float32')\n",
    "            self.rc = tf.constant([[1,0,0],\n",
    "                                   [0,0,0],\n",
    "                                   [0,0,1]], dtype='float32')\n",
    "            self.rs = tf.constant([[0,0,1],\n",
    "                                   [0,0,0],\n",
    "                                   [-1,0,0]], dtype='float32')\n",
    "        elif self.axis==3:\n",
    "            self.r1 = tf.constant([[0,0,0],\n",
    "                                   [0,0,0],\n",
    "                                   [0,0,1]], dtype='float32')\n",
    "            self.rc = tf.constant([[1,0,0],\n",
    "                                   [0,1,0],\n",
    "                                   [0,0,0]], dtype='float32')\n",
    "            self.rs = tf.constant([[0,-1,0],\n",
    "                                   [1,0,0],\n",
    "                                   [0,0,0]], dtype='float32')\n",
    "        else:\n",
    "            raise(RuntimeError(\"axis should be in [1,2,3]\"))\n",
    "        \n",
    "    # 변수를 만듭니다.\n",
    "    def build(self, input_shape):\n",
    "        pass\n",
    "\n",
    "    # call 메서드가 그래프 모드에서 사용되면\n",
    "    # training 변수는 텐서가 됩니다.\n",
    "    @tf.function\n",
    "    def call(self, input):\n",
    "        return self.r1 + self.rc*tf.cos(input) + self.rs*tf.sin(input)\n",
    "    \n"
   ]
  },
  {
   "cell_type": "code",
   "execution_count": 13,
   "metadata": {},
   "outputs": [],
   "source": [
    "class RotZYXLayer(layers.Layer):\n",
    "    def __init__(self):\n",
    "        super(RotZYXLayer, self).__init__()\n",
    "        self.Rz = RotMatLayer(3)\n",
    "        self.Ry = RotMatLayer(2)\n",
    "        self.Rx = RotMatLayer(1)\n",
    "        \n",
    "    # 변수를 만듭니다.\n",
    "    def build(self, input_shape):\n",
    "        pass\n",
    "\n",
    "    # call 메서드가 그래프 모드에서 사용되면\n",
    "    # training 변수는 텐서가 됩니다.\n",
    "    @tf.function\n",
    "    def call(self, inputs):\n",
    "        Rz = self.Rz(inputs[0])\n",
    "        Ry = self.Ry(inputs[1])\n",
    "        Rx = self.Rx(inputs[2])\n",
    "        return tf.matmul(tf.matmul(Rz,Ry),Rx)"
   ]
  },
  {
   "cell_type": "code",
   "execution_count": 14,
   "metadata": {},
   "outputs": [],
   "source": [
    "from enum import Enum\n",
    "class LinkType(Enum):\n",
    "    FIXED = 0\n",
    "    REVOLUTE = 1\n",
    "    LINEAR = 2"
   ]
  },
  {
   "cell_type": "code",
   "execution_count": 15,
   "metadata": {},
   "outputs": [],
   "source": [
    "class LinkLayer(layers.Layer):\n",
    "    def __init__(self, Roff, Poff, axis, ltype, lname):\n",
    "        super(LinkLayer, self).__init__()\n",
    "        self.Roff = tf.constant(Roff)\n",
    "        self.Poff = tf.constant(Poff)\n",
    "        self.axis = axis\n",
    "        self.ltype = ltype\n",
    "        self.lname = lname\n",
    "        if self.ltype == LinkType.REVOLUTE:\n",
    "            self.Rjnt = RotMatLayer(axis=self.axis)\n",
    "            self.Pjnt = tf.constant(np.zeros((3,1),dtype='float32'))\n",
    "        elif self.ltype == LinkType.REVOLUTE:\n",
    "            self.Rjnt = tf.constant(np.identity(3,dtype='float32'))\n",
    "            __pjnt = np.zeros((3,1))\n",
    "            __pjnt[axis] = 1\n",
    "            self.Pjnt = tf.constant(__pjnt)\n",
    "        elif self.ltype == LinkType.FIXED:\n",
    "            self.Rjnt = tf.constant(np.identity(3,dtype='float32'))\n",
    "            self.Pjnt = tf.constant(np.zeros((3,1),dtype='float32'))\n",
    "            \n",
    "        \n",
    "    # 변수를 만듭니다.\n",
    "    def build(self, input_shape):\n",
    "        pass\n",
    "\n",
    "    # call 메서드가 그래프 모드에서 사용되면\n",
    "    # training 변수는 텐서가 됩니다.\n",
    "    @tf.function\n",
    "    def call(self, inputs):\n",
    "        Rpre = inputs[0]\n",
    "        Ppre = inputs[1]\n",
    "        q = inputs[2]\n",
    "        if self.ltype == LinkType.REVOLUTE:\n",
    "            Rjnt = self.Rjnt(q)\n",
    "            Pjnt = self.Pjnt\n",
    "        elif self.ltype == LinkType.REVOLUTE:\n",
    "            Rjnt = self.Rjnt\n",
    "            Pjnt = self.Pjnt*q\n",
    "        elif self.ltype == LinkType.FIXED:\n",
    "            Rjnt = self.Rjnt\n",
    "            Pjnt = self.Pjnt\n",
    "        Rpo = tf.matmul(Rpre,self.Roff)\n",
    "        Ppo = tf.matmul(Rpre,self.Poff)+Ppre\n",
    "        Rcur = tf.matmul(Rpo,Rjnt)\n",
    "        Pcur = tf.matmul(Rpo,Pjnt)+Ppo\n",
    "        return Rcur, Pcur"
   ]
  },
  {
   "cell_type": "code",
   "execution_count": 16,
   "metadata": {},
   "outputs": [],
   "source": [
    "link0 = LinkLayer(Roff=np.identity(3,dtype='float32'), \n",
    "          Poff=np.array((0,0.3,0),dtype='float32').reshape((3,1)), \n",
    "          axis=3, ltype=LinkType.REVOLUTE, lname='l0')\n",
    "link1 = LinkLayer(Roff=np.identity(3,dtype='float32'), \n",
    "          Poff=np.array((0,0.3,0),dtype='float32').reshape((3,1)), \n",
    "          axis=3, ltype=LinkType.REVOLUTE, lname='l1')\n",
    "link2 = LinkLayer(Roff=np.identity(3,dtype='float32'), \n",
    "          Poff=np.array((0,0.3,0),dtype='float32').reshape((3,1)), \n",
    "          axis=3, ltype=LinkType.FIXED, lname='l2')"
   ]
  },
  {
   "cell_type": "code",
   "execution_count": 19,
   "metadata": {},
   "outputs": [
    {
     "name": "stdout",
     "output_type": "stream",
     "text": [
      "WARNING:tensorflow:Entity <bound method LinkLayer.call of <tensorflow.python.eager.function.TfMethodTarget object at 0x7f2640227240>> could not be transformed and will be executed as-is. Please report this to the AutoGraph team. When filing the bug, set the verbosity to 10 (on Linux, `export AUTOGRAPH_VERBOSITY=10`) and attach the full output. Cause: converting <bound method LinkLayer.call of <tensorflow.python.eager.function.TfMethodTarget object at 0x7f2640227240>>: AttributeError: module 'gast' has no attribute 'Num'\n",
      "WARNING: Entity <bound method LinkLayer.call of <tensorflow.python.eager.function.TfMethodTarget object at 0x7f2640227240>> could not be transformed and will be executed as-is. Please report this to the AutoGraph team. When filing the bug, set the verbosity to 10 (on Linux, `export AUTOGRAPH_VERBOSITY=10`) and attach the full output. Cause: converting <bound method LinkLayer.call of <tensorflow.python.eager.function.TfMethodTarget object at 0x7f2640227240>>: AttributeError: module 'gast' has no attribute 'Num'\n",
      "WARNING:tensorflow:Entity <bound method RotMatLayer.call of <tensorflow.python.eager.function.TfMethodTarget object at 0x7f2640186ac8>> could not be transformed and will be executed as-is. Please report this to the AutoGraph team. When filing the bug, set the verbosity to 10 (on Linux, `export AUTOGRAPH_VERBOSITY=10`) and attach the full output. Cause: converting <bound method RotMatLayer.call of <tensorflow.python.eager.function.TfMethodTarget object at 0x7f2640186ac8>>: AssertionError: Bad argument number for Name: 3, expecting 4\n",
      "WARNING: Entity <bound method RotMatLayer.call of <tensorflow.python.eager.function.TfMethodTarget object at 0x7f2640186ac8>> could not be transformed and will be executed as-is. Please report this to the AutoGraph team. When filing the bug, set the verbosity to 10 (on Linux, `export AUTOGRAPH_VERBOSITY=10`) and attach the full output. Cause: converting <bound method RotMatLayer.call of <tensorflow.python.eager.function.TfMethodTarget object at 0x7f2640186ac8>>: AssertionError: Bad argument number for Name: 3, expecting 4\n",
      "WARNING:tensorflow:Entity <bound method LinkLayer.call of <tensorflow.python.eager.function.TfMethodTarget object at 0x7f26401867b8>> could not be transformed and will be executed as-is. Please report this to the AutoGraph team. When filing the bug, set the verbosity to 10 (on Linux, `export AUTOGRAPH_VERBOSITY=10`) and attach the full output. Cause: converting <bound method LinkLayer.call of <tensorflow.python.eager.function.TfMethodTarget object at 0x7f26401867b8>>: AttributeError: module 'gast' has no attribute 'Num'\n",
      "WARNING: Entity <bound method LinkLayer.call of <tensorflow.python.eager.function.TfMethodTarget object at 0x7f26401867b8>> could not be transformed and will be executed as-is. Please report this to the AutoGraph team. When filing the bug, set the verbosity to 10 (on Linux, `export AUTOGRAPH_VERBOSITY=10`) and attach the full output. Cause: converting <bound method LinkLayer.call of <tensorflow.python.eager.function.TfMethodTarget object at 0x7f26401867b8>>: AttributeError: module 'gast' has no attribute 'Num'\n",
      "WARNING:tensorflow:Entity <bound method RotMatLayer.call of <tensorflow.python.eager.function.TfMethodTarget object at 0x7f26401868d0>> could not be transformed and will be executed as-is. Please report this to the AutoGraph team. When filing the bug, set the verbosity to 10 (on Linux, `export AUTOGRAPH_VERBOSITY=10`) and attach the full output. Cause: converting <bound method RotMatLayer.call of <tensorflow.python.eager.function.TfMethodTarget object at 0x7f26401868d0>>: AssertionError: Bad argument number for Name: 3, expecting 4\n",
      "WARNING: Entity <bound method RotMatLayer.call of <tensorflow.python.eager.function.TfMethodTarget object at 0x7f26401868d0>> could not be transformed and will be executed as-is. Please report this to the AutoGraph team. When filing the bug, set the verbosity to 10 (on Linux, `export AUTOGRAPH_VERBOSITY=10`) and attach the full output. Cause: converting <bound method RotMatLayer.call of <tensorflow.python.eager.function.TfMethodTarget object at 0x7f26401868d0>>: AssertionError: Bad argument number for Name: 3, expecting 4\n",
      "WARNING:tensorflow:Entity <bound method LinkLayer.call of <tensorflow.python.eager.function.TfMethodTarget object at 0x7f2640186208>> could not be transformed and will be executed as-is. Please report this to the AutoGraph team. When filing the bug, set the verbosity to 10 (on Linux, `export AUTOGRAPH_VERBOSITY=10`) and attach the full output. Cause: converting <bound method LinkLayer.call of <tensorflow.python.eager.function.TfMethodTarget object at 0x7f2640186208>>: AttributeError: module 'gast' has no attribute 'Num'\n",
      "WARNING: Entity <bound method LinkLayer.call of <tensorflow.python.eager.function.TfMethodTarget object at 0x7f2640186208>> could not be transformed and will be executed as-is. Please report this to the AutoGraph team. When filing the bug, set the verbosity to 10 (on Linux, `export AUTOGRAPH_VERBOSITY=10`) and attach the full output. Cause: converting <bound method LinkLayer.call of <tensorflow.python.eager.function.TfMethodTarget object at 0x7f2640186208>>: AttributeError: module 'gast' has no attribute 'Num'\n"
     ]
    }
   ],
   "source": [
    "qvec = []\n",
    "Pvec_list = []\n",
    "for _ in range(10):\n",
    "    q = (np.random.rand(2)*2-1)*np.pi/3\n",
    "    qvec += [q]\n",
    "    l0 = link0((np.identity(3,dtype=np.float32), \n",
    "                np.zeros((3,1),dtype=np.float32), \n",
    "                np.asarray(q[0],dtype=np.float32)))\n",
    "    l1 = link1((l0+(np.asarray(q[1],dtype=np.float32),)))\n",
    "    l2 = link2((l1+(np.asarray(0,dtype=np.float32),)))\n",
    "    Pvec = np.array([l0[1], l1[1], l2[1]]).reshape(-1,3)\n",
    "    Pvec_list += [Pvec]\n",
    "Pvec_list=np.array(Pvec_list)"
   ]
  },
  {
   "cell_type": "code",
   "execution_count": 22,
   "metadata": {},
   "outputs": [
    {
     "data": {
      "text/plain": [
       "(-0.5606930166482925,\n",
       " 0.5368431121110916,\n",
       " 0.27096697986125945,\n",
       " 0.9096936851739883)"
      ]
     },
     "execution_count": 22,
     "metadata": {},
     "output_type": "execute_result"
    },
    {
     "data": {
      "image/png": "[encoded data removed]",
      "text/plain": [
       "<Figure size 432x288 with 1 Axes>"
      ]
     },
     "metadata": {
      "needs_background": "light"
     },
     "output_type": "display_data"
    }
   ],
   "source": [
    "for Pvec in Pvec_list:\n",
    "    plt.plot(Pvec[:,0],Pvec[:,1],'-o')\n",
    "plt.axis('equal')"
   ]
  },
  {
   "cell_type": "code",
   "execution_count": 195,
   "metadata": {},
   "outputs": [
    {
     "data": {
      "text/plain": [
       "(<tf.Tensor: shape=(3, 3), dtype=float32, numpy=\n",
       " array([[1., 0., 0.],\n",
       "        [0., 1., 0.],\n",
       "        [0., 0., 1.]], dtype=float32)>,\n",
       " <tf.Tensor: shape=(3, 1), dtype=float32, numpy=\n",
       " array([[0. ],\n",
       "        [0.6],\n",
       "        [0. ]], dtype=float32)>)"
      ]
     },
     "execution_count": 195,
     "metadata": {},
     "output_type": "execute_result"
    }
   ],
   "source": [
    "l1"
   ]
  },
  {
   "cell_type": "code",
   "execution_count": 165,
   "metadata": {},
   "outputs": [],
   "source": [
    "dif_vec = []\n",
    "for _ in range(10):\n",
    "    q = np.random.rand(3).astype('float32')*2*np.pi-np.pi\n",
    "    dif=RotZYXLayer()(q)-Rot_zyx(*q)\n",
    "    dif_vec += [tf.norm(dif)]"
   ]
  },
  {
   "cell_type": "code",
   "execution_count": null,
   "metadata": {},
   "outputs": [],
   "source": []
  },
  {
   "cell_type": "code",
   "execution_count": 155,
   "metadata": {},
   "outputs": [],
   "source": [
    "axis_vec = []\n",
    "q_vec = []\n",
    "dif_vec = []\n",
    "for _ in range(100):\n",
    "    axis = np.random.choice(3)+1\n",
    "    q = np.random.rand()*2*np.pi-np.pi\n",
    "    dif=RotMatLayer(axis)(np.deg2rad(q,dtype='float32'))-Rot_axis(axis,np.deg2rad(q,dtype='float32'))\n",
    "    axis_vec += [axis]\n",
    "    q_vec += [q]\n",
    "    dif_vec += [tf.norm(dif)]"
   ]
  },
  {
   "cell_type": "code",
   "execution_count": null,
   "metadata": {},
   "outputs": [],
   "source": []
  },
  {
   "cell_type": "code",
   "execution_count": 27,
   "metadata": {},
   "outputs": [],
   "source": [
    "def Rot_axis_tf(axis, q_tri):\n",
    "    if not isinstance(q_tri, Trigonometric):\n",
    "        q_tri = Trigonometric(q_tri)\n",
    "    if axis==1:\n",
    "        r1 = tf.constant([[1,0,0],[0,0,0],[0,0,0]])\n",
    "        rc = tf.constant([[0,0,0],[0,1,0],[0,0,1]])\n",
    "        rs = tf.constant([[0,0,0],[0,0,-1],[0,1,0]])\n",
    "        R = tf.Variable([[1,0,0],\n",
    "                         [0,q_tri.cos,-q_tri.sin],\n",
    "                         [0,q_tri.sin,q_tri.cos]])\n",
    "    if axis==2:\n",
    "        R = tf.Variable([[q_tri.cos,0,q_tri.sin],\n",
    "                         [0,1,0],\n",
    "                         [-q_tri.sin,0,q_tri.cos]])\n",
    "    if axis==3:\n",
    "        R = tf.Variable([[q_tri.cos,-q_tri.sin,0],\n",
    "                         [q_tri.sin,q_tri.cos,0],\n",
    "                         [0,0,1]])\n",
    "    return R\n",
    "\n",
    "def Rot_zyx_tf(zr,yr,xr):\n",
    "    '''\n",
    "    zyx rotatio matrix - caution: axis order: z,y,x\n",
    "    '''\n",
    "    R = tf.matmul(tf.matmul(Rot_axis_tf(3,zr),Rot_axis_tf(2,yr)),Rot_axis_tf(1,xr))\n",
    "    return R"
   ]
  },
  {
   "cell_type": "code",
   "execution_count": 28,
   "metadata": {},
   "outputs": [],
   "source": [
    "from tensorflow.keras import layers\n",
    "from tensorflow.keras import backend as K"
   ]
  },
  {
   "cell_type": "code",
   "execution_count": 35,
   "metadata": {},
   "outputs": [
    {
     "data": {
      "text/plain": [
       "<__main__.RotMatLayer at 0x1bdefcfc5f8>"
      ]
     },
     "execution_count": 35,
     "metadata": {},
     "output_type": "execute_result"
    }
   ],
   "source": [
    "RotMatLayer(1)"
   ]
  },
  {
   "cell_type": "code",
   "execution_count": 30,
   "metadata": {},
   "outputs": [],
   "source": [
    "x = Rot_axis_tf(1, tf.Variable(np.deg2rad(90)))\n",
    "y = Rot_axis_tf(1, tf.Variable(np.deg2rad(0)))"
   ]
  },
  {
   "cell_type": "code",
   "execution_count": 31,
   "metadata": {},
   "outputs": [
    {
     "data": {
      "text/plain": [
       "<tf.Variable 'Variable:0' shape=(3, 3) dtype=float64, numpy=\n",
       "array([[ 1.000000e+00,  0.000000e+00,  0.000000e+00],\n",
       "       [ 0.000000e+00,  6.123234e-17, -1.000000e+00],\n",
       "       [ 0.000000e+00,  1.000000e+00,  6.123234e-17]])>"
      ]
     },
     "execution_count": 31,
     "metadata": {},
     "output_type": "execute_result"
    }
   ],
   "source": [
    "x"
   ]
  },
  {
   "cell_type": "code",
   "execution_count": 14,
   "metadata": {},
   "outputs": [
    {
     "data": {
      "text/plain": [
       "<tf.Tensor: shape=(3, 3), dtype=float64, numpy=\n",
       "array([[ 6.123234e-17, -1.000000e+00,  0.000000e+00],\n",
       "       [ 1.000000e+00,  6.123234e-17,  0.000000e+00],\n",
       "       [ 0.000000e+00,  0.000000e+00,  1.000000e+00]])>"
      ]
     },
     "execution_count": 14,
     "metadata": {},
     "output_type": "execute_result"
    }
   ],
   "source": [
    "Rot_zyx_tf(*np.deg2rad([90,0,0]))"
   ]
  },
  {
   "cell_type": "code",
   "execution_count": 24,
   "metadata": {},
   "outputs": [],
   "source": [
    "from tensorflow.python.client import device_lib\n",
    "\n",
    "def get_available_gpus():\n",
    "    local_device_protos = device_lib.list_local_devices()\n",
    "\n",
    "    return [x.name for x in local_device_protos if x.device_type == 'GPU']"
   ]
  },
  {
   "cell_type": "code",
   "execution_count": 26,
   "metadata": {},
   "outputs": [
    {
     "data": {
      "text/plain": [
       "[name: \"/device:CPU:0\"\n",
       " device_type: \"CPU\"\n",
       " memory_limit: 268435456\n",
       " locality {\n",
       " }\n",
       " incarnation: 16117172128810620802, name: \"/device:XLA_CPU:0\"\n",
       " device_type: \"XLA_CPU\"\n",
       " memory_limit: 17179869184\n",
       " locality {\n",
       " }\n",
       " incarnation: 12140321621432362811\n",
       " physical_device_desc: \"device: XLA_CPU device\", name: \"/device:XLA_GPU:0\"\n",
       " device_type: \"XLA_GPU\"\n",
       " memory_limit: 17179869184\n",
       " locality {\n",
       " }\n",
       " incarnation: 2898324905375479082\n",
       " physical_device_desc: \"device: XLA_GPU device\"]"
      ]
     },
     "execution_count": 26,
     "metadata": {},
     "output_type": "execute_result"
    }
   ],
   "source": [
    "device_lib.list_local_devices()"
   ]
  },
  {
   "cell_type": "code",
   "execution_count": null,
   "metadata": {},
   "outputs": [],
   "source": []
  },
  {
   "cell_type": "code",
   "execution_count": null,
   "metadata": {},
   "outputs": [],
   "source": []
  },
  {
   "cell_type": "code",
   "execution_count": null,
   "metadata": {},
   "outputs": [],
   "source": []
  },
  {
   "cell_type": "code",
   "execution_count": 1,
   "metadata": {},
   "outputs": [],
   "source": [
    "from __future__ import absolute_import, division, print_function\n",
    "\n",
    "import tensorflow as tf\n",
    "from tensorflow.keras import Model, layers\n",
    "import numpy as np"
   ]
  },
  {
   "cell_type": "code",
   "execution_count": 2,
   "metadata": {},
   "outputs": [],
   "source": [
    "# MNIST dataset parameters.\n",
    "num_classes = 10 # total classes (0-9 digits).\n",
    "num_features = 784 # data features (img shape: 28*28).\n",
    "\n",
    "# Training parameters.\n",
    "learning_rate = 0.1\n",
    "training_steps = 2000\n",
    "batch_size = 50\n",
    "display_step = 100\n",
    "\n",
    "# Network parameters.\n",
    "n_hidden_1 = 128 # 1st layer number of neurons.\n",
    "n_hidden_2 = 256 # 2nd layer number of neurons."
   ]
  },
  {
   "cell_type": "code",
   "execution_count": 3,
   "metadata": {},
   "outputs": [],
   "source": [
    "# Prepare MNIST data.\n",
    "from tensorflow.keras.datasets import mnist\n",
    "(x_train, y_train), (x_test, y_test) = mnist.load_data()\n",
    "# Convert to float32.\n",
    "x_train, x_test = np.array(x_train, np.float32), np.array(x_test, np.float32)\n",
    "# Flatten images to 1-D vector of 784 features (28*28).\n",
    "x_train, x_test = x_train.reshape([-1, num_features]), x_test.reshape([-1, num_features])\n",
    "# Normalize images value from [0, 255] to [0, 1].\n",
    "x_train, x_test = x_train / 255., x_test / 255."
   ]
  },
  {
   "cell_type": "code",
   "execution_count": 4,
   "metadata": {},
   "outputs": [],
   "source": [
    "\n",
    "# Use tf.data API to shuffle and batch data.\n",
    "train_data = tf.data.Dataset.from_tensor_slices((x_train, y_train))\n",
    "train_data = train_data.repeat().shuffle(5000).batch(batch_size).prefetch(1)"
   ]
  },
  {
   "cell_type": "code",
   "execution_count": 5,
   "metadata": {},
   "outputs": [],
   "source": [
    "\n",
    "# Create TF Model.\n",
    "class NeuralNet(Model):\n",
    "    # Set layers.\n",
    "    def __init__(self):\n",
    "        super(NeuralNet, self).__init__()\n",
    "        # First fully-connected hidden layer.\n",
    "        self.fc1 = layers.Dense(n_hidden_1, activation=tf.nn.relu)\n",
    "        # First fully-connected hidden layer.\n",
    "        self.fc2 = layers.Dense(n_hidden_2, activation=tf.nn.relu)\n",
    "        # Second fully-connecter hidden layer.\n",
    "        self.out = layers.Dense(num_classes)\n",
    "\n",
    "    # Set forward pass.\n",
    "    def call(self, x, is_training=False):\n",
    "        x = self.fc1(x)\n",
    "        x = self.fc2(x)\n",
    "        x = self.out(x)\n",
    "        if not is_training:\n",
    "            # tf cross entropy expect logits without softmax, so only\n",
    "            # apply softmax when not training.\n",
    "            x = tf.nn.softmax(x)\n",
    "        return x\n",
    "\n",
    "# Build neural network model.\n",
    "neural_net = NeuralNet()"
   ]
  },
  {
   "cell_type": "code",
   "execution_count": 6,
   "metadata": {},
   "outputs": [],
   "source": [
    "\n",
    "# Cross-Entropy Loss.\n",
    "# Note that this will apply 'softmax' to the logits.\n",
    "def cross_entropy_loss(x, y):\n",
    "    # Convert labels to int 64 for tf cross-entropy function.\n",
    "    y = tf.cast(y, tf.int64)\n",
    "    # Apply softmax to logits and compute cross-entropy.\n",
    "    loss = tf.nn.sparse_softmax_cross_entropy_with_logits(labels=y, logits=x)\n",
    "    # Average loss across the batch.\n",
    "    return tf.reduce_mean(loss)\n",
    "\n",
    "# Accuracy metric.\n",
    "def accuracy(y_pred, y_true):\n",
    "    # Predicted class is the index of highest score in prediction vector (i.e. argmax).\n",
    "    correct_prediction = tf.equal(tf.argmax(y_pred, 1), tf.cast(y_true, tf.int64))\n",
    "    return tf.reduce_mean(tf.cast(correct_prediction, tf.float32), axis=-1)\n",
    "\n",
    "# Stochastic gradient descent optimizer.\n",
    "optimizer = tf.optimizers.SGD(learning_rate)"
   ]
  },
  {
   "cell_type": "code",
   "execution_count": 7,
   "metadata": {},
   "outputs": [],
   "source": [
    "# Optimization process. \n",
    "def run_optimization(x, y):\n",
    "    # Wrap computation inside a GradientTape for automatic differentiation.\n",
    "    with tf.GradientTape() as g:\n",
    "        # Forward pass.\n",
    "        pred = neural_net(x, is_training=True)\n",
    "        # Compute loss.\n",
    "        loss = cross_entropy_loss(pred, y)\n",
    "        \n",
    "    # Variables to update, i.e. trainable variables.\n",
    "    trainable_variables = neural_net.trainable_variables\n",
    "\n",
    "    # Compute gradients.\n",
    "    gradients = g.gradient(loss, trainable_variables)\n",
    "    \n",
    "    # Update W and b following gradients.\n",
    "    optimizer.apply_gradients(zip(gradients, trainable_variables))"
   ]
  },
  {
   "cell_type": "code",
   "execution_count": 8,
   "metadata": {},
   "outputs": [],
   "source": [
    "import time"
   ]
  },
  {
   "cell_type": "code",
   "execution_count": 9,
   "metadata": {},
   "outputs": [
    {
     "name": "stdout",
     "output_type": "stream",
     "text": [
      "step: 100, loss: 0.279948, accuracy: 0.920000\n",
      "step: 200, loss: 0.265860, accuracy: 0.940000\n",
      "step: 300, loss: 0.312644, accuracy: 0.880000\n",
      "step: 400, loss: 0.202824, accuracy: 0.960000\n",
      "step: 500, loss: 0.178014, accuracy: 0.960000\n",
      "step: 600, loss: 0.140423, accuracy: 0.960000\n",
      "step: 700, loss: 0.067468, accuracy: 1.000000\n",
      "step: 800, loss: 0.069590, accuracy: 0.980000\n",
      "step: 900, loss: 0.043919, accuracy: 1.000000\n",
      "step: 1000, loss: 0.146315, accuracy: 0.940000\n",
      "step: 1100, loss: 0.103276, accuracy: 0.960000\n",
      "step: 1200, loss: 0.048248, accuracy: 1.000000\n",
      "step: 1300, loss: 0.032228, accuracy: 1.000000\n",
      "step: 1400, loss: 0.041135, accuracy: 1.000000\n",
      "step: 1500, loss: 0.143003, accuracy: 0.960000\n",
      "step: 1600, loss: 0.041829, accuracy: 1.000000\n",
      "step: 1700, loss: 0.054215, accuracy: 1.000000\n",
      "step: 1800, loss: 0.024355, accuracy: 1.000000\n",
      "step: 1900, loss: 0.046986, accuracy: 1.000000\n",
      "step: 2000, loss: 0.109393, accuracy: 0.980000\n"
     ]
    }
   ],
   "source": [
    "time_vec = []\n",
    "# Run training for the given number of steps.\n",
    "for step, (batch_x, batch_y) in enumerate(train_data.take(training_steps), 1):\n",
    "    # Run the optimization to update W and b values.\n",
    "    t1 = time.time()\n",
    "    run_optimization(batch_x, batch_y)\n",
    "    t2 = time.time()\n",
    "    time_vec += [t2-t1]\n",
    "    \n",
    "    if step % display_step == 0:\n",
    "        pred = neural_net(batch_x, is_training=True)\n",
    "        loss = cross_entropy_loss(pred, batch_y)\n",
    "        acc = accuracy(pred, batch_y)\n",
    "        print(\"step: %i, loss: %f, accuracy: %f\" % (step, loss, acc))"
   ]
  },
  {
   "cell_type": "code",
   "execution_count": 10,
   "metadata": {},
   "outputs": [
    {
     "data": {
      "text/plain": [
       "0.36618335247039796"
      ]
     },
     "execution_count": 10,
     "metadata": {},
     "output_type": "execute_result"
    }
   ],
   "source": [
    "np.mean(time_vec)*100"
   ]
  },
  {
   "cell_type": "code",
   "execution_count": null,
   "metadata": {},
   "outputs": [],
   "source": []
  }
 ],
 "metadata": {
  "kernelspec": {
   "display_name": "Python 3",
   "language": "python",
   "name": "python3"
  },
  "language_info": {
   "codemirror_mode": {
    "name": "ipython",
    "version": 3
   },
   "file_extension": ".py",
   "mimetype": "text/x-python",
   "name": "python",
   "nbconvert_exporter": "python",
   "pygments_lexer": "ipython3",
   "version": "3.6.9"
  }
 },
 "nbformat": 4,
 "nbformat_minor": 2
}
