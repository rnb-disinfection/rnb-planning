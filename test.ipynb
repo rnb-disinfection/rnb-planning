{
 "cells": [
  {
   "cell_type": "code",
   "execution_count": null,
   "metadata": {},
   "outputs": [],
   "source": [
    "import tensorflow as tf\n",
    "from tensorflow import keras\n",
    "from tensorflow.keras import layers\n",
    "from tensorflow.keras import backend as K\n",
    "import numpy as np"
   ]
  },
  {
   "cell_type": "code",
   "execution_count": null,
   "metadata": {},
   "outputs": [],
   "source": [
    "from pkg.tf_transform import *\n",
    "from pkg.tf_robot import *\n",
    "from pkg.constraint import *\n",
    "from pkg.info import *\n",
    "from pkg.tf_utils import *\n",
    "from pkg.rotation_utils import *"
   ]
  },
  {
   "cell_type": "code",
   "execution_count": null,
   "metadata": {},
   "outputs": [],
   "source": [
    "import matplotlib.pyplot as plt\n",
    "import time"
   ]
  },
  {
   "cell_type": "markdown",
   "metadata": {},
   "source": [
    "# Load urdf "
   ]
  },
  {
   "cell_type": "code",
   "execution_count": null,
   "metadata": {},
   "outputs": [],
   "source": [
    "from urdf_parser_py.urdf import URDF\n",
    "from pkg.ur10 import URDF_PATH, JOINT_NAMES, LINK_NAMES, ZERO_JOINT_POSE\n",
    "from pkg.joint_utils import *\n",
    "urdf_content = URDF.from_xml_file(URDF_PATH)"
   ]
  },
  {
   "cell_type": "code",
   "execution_count": null,
   "metadata": {},
   "outputs": [],
   "source": [
    "link_names = LINK_NAMES\n",
    "base_name = LINK_NAMES[0]\n",
    "joint_names = JOINT_NAMES\n",
    "link_info_list = get_link_info_list(link_names, urdf_content)"
   ]
  },
  {
   "cell_type": "markdown",
   "metadata": {},
   "source": [
    "# Visualize"
   ]
  },
  {
   "cell_type": "code",
   "execution_count": null,
   "metadata": {},
   "outputs": [],
   "source": [
    "from pkg.ros_rviz import *\n",
    "pub, joints, rate = get_publisher(JOINT_NAMES)"
   ]
  },
  {
   "cell_type": "code",
   "execution_count": null,
   "metadata": {},
   "outputs": [],
   "source": [
    "import pickle"
   ]
  },
  {
   "cell_type": "code",
   "execution_count": null,
   "metadata": {},
   "outputs": [],
   "source": [
    "\n",
    "with open(\"tmp.pkl\", 'wb') as output:  # Overwrites any existing file.\n",
    "    pickle.dump(urdf_content, output, pickle.HIGHEST_PROTOCOL)"
   ]
  },
  {
   "cell_type": "code",
   "execution_count": null,
   "metadata": {},
   "outputs": [],
   "source": []
  },
  {
   "cell_type": "markdown",
   "metadata": {},
   "source": [
    "# Constraint"
   ]
  },
  {
   "cell_type": "code",
   "execution_count": null,
   "metadata": {},
   "outputs": [],
   "source": [
    "from pkg.geometry import *"
   ]
  },
  {
   "cell_type": "code",
   "execution_count": null,
   "metadata": {},
   "outputs": [],
   "source": [
    "def get_adjacent_links(link_name, urdf_content):\n",
    "    adjacent_links = [link_name]\n",
    "    for k, v in urdf_content.joint_map.items():\n",
    "        if v.parent == link_name:\n",
    "            adjacent_links += [v.child]\n",
    "        if v.child == link_name:\n",
    "            adjacent_links += [v.parent]\n",
    "    return list(set(adjacent_links))"
   ]
  },
  {
   "cell_type": "code",
   "execution_count": null,
   "metadata": {},
   "outputs": [],
   "source": [
    "class ObjectLayer(layers.Layer):\n",
    "    def __init__(self, gitem, N_sim, *args, **kwargs):\n",
    "        self.gitem, self.N_sim = gitem, N_sim\n",
    "        super(ObjectLayer, self).__init__(*args, **kwargs)\n",
    "        \n",
    "    def set_frame(self, Toff_list, link_idx_list, N_link):\n",
    "        self.Toff_list = tf.constant(Toff_list) # (N_sim, 4,4)\n",
    "        self.link_one_hot = tf.reshape(tf.one_hot(link_idx_list, N_link), (N_sim,N_link,1,1)) # (N_sim, N_link)\n",
    "        \n",
    "    # 변수를 만듭니다.\n",
    "    def build(self, input_shape):\n",
    "        pass\n",
    "\n",
    "    # call 메서드가 그래프 모드에서 사용되면\n",
    "    # training 변수는 텐서가 됩니다.\n",
    "    @tf.function\n",
    "    def call(self, input=None):\n",
    "        T_all = input # (N_sim, N_link, 4,4)\n",
    "        T_act = K.sum(T_all*self.link_one_hot, axis=1) # (N_sim, 4,4)\n",
    "        T_bo = tf.matmul(T_act, self.Toff_list) # (N_sim, 4,4)\n",
    "        return T_bo"
   ]
  },
  {
   "cell_type": "code",
   "execution_count": null,
   "metadata": {},
   "outputs": [],
   "source": []
  },
  {
   "cell_type": "markdown",
   "metadata": {},
   "source": [
    "# Graph"
   ]
  },
  {
   "cell_type": "code",
   "execution_count": null,
   "metadata": {},
   "outputs": [],
   "source": [
    "class GraphModel(tf.keras.Model):\n",
    "    def __init__(self, robot_info, gitem_list, N_sim, alpha_jc=5, alpha_fc=200):\n",
    "        super(GraphModel, self).__init__()\n",
    "        self.alpha_jc = alpha_jc\n",
    "        self.alpha_fc = alpha_fc\n",
    "        self.robot_info = robot_info\n",
    "        self.robot = RobotLayer(\n",
    "            robot_info.link_info_list, rname = robot_info.rname, dim=N_sim)\n",
    "        self.joint_constraint = JointConstraintLoss(self.robot)\n",
    "        self.frame_constraint = FrameConstraintLoss()\n",
    "        self.robot_base = [robot_info.base_frame]*N_sim\n",
    "            \n",
    "        self.object_dict = {}\n",
    "        self.object_name_list = []\n",
    "        for gitem in gitem_list:\n",
    "            self.object_dict[gitem.name] = ObjectLayer(gitem, N_sim)\n",
    "            self.object_name_list += [gitem.name]\n",
    "            \n",
    "    def assign_frame_dict(self, gframeset_list):\n",
    "        frame_dict = {k: [] for k in self.object_dict.keys()}\n",
    "        link_dict = {k: [] for k in self.object_dict.keys()}\n",
    "        for gframeset in gframeset_list:\n",
    "            for k, gframe in gframeset.items():\n",
    "                frame_dict[k] += [gframe.Toff]\n",
    "                link_dict[k] += [self.robot.link_name_list.index(gframe.link_name)]\n",
    "        for k in frame_dict.keys():\n",
    "            self.object_dict[k].set_frame(np.array(frame_dict[k]), np.array(link_dict[k]), self.robot.len_Q)\n",
    "            \n",
    "    def assign_Q(self, Q):\n",
    "        self.robot.assign_Q(Q)\n",
    "            \n",
    "    def get_Q(self):\n",
    "        return self.robot.get_Q()\n",
    "\n",
    "    def call(self, inputs=None):\n",
    "        T_all = self.robot(self.robot_base)\n",
    "        Tbo_all = []\n",
    "        for obj_name in self.object_name_list:\n",
    "            Tbo_all += [self.object_dict[obj_name](T_all)] #(Nobj,N_sim,4,4)\n",
    "        Tbo_all = K.stack(Tbo_all, axis=1) #(N_sim,Nobj,4,4)\n",
    "        return T_all, Tbo_all\n",
    "    \n",
    "    def calc_loss(self, T_all, Tbo_all, Qtar, binQ, Ttar, binT):\n",
    "        jc_loss = self.joint_constraint((Qtar, binQ))\n",
    "        fc_loss = self.frame_constraint((T_all[:,-1,:,:],Ttar, binT))\n",
    "        return self.alpha_jc*jc_loss+self.alpha_fc*fc_loss\n"
   ]
  },
  {
   "cell_type": "code",
   "execution_count": null,
   "metadata": {},
   "outputs": [],
   "source": [
    "N_sim = 50\n",
    "N_joints = 9\n",
    "DOF = 6\n",
    "robot_info = RobotInfo(link_info_list, rname = \"rbt1\", base_frame=np.identity(4,dtype=np.float32))\n",
    "gitem_list = [\n",
    "    GeometryItem(name='box1', gtype=GeoType.BOX, dims=[0.1,0.1,0.1], color=(0,1,0,1), display=True, collision=True),\n",
    "    GeometryItem(name='tool', gtype=GeoType.BOX, dims=[0.1,0.1,0.1], color=(0,1,0,1), display=True, collision=True),\n",
    "]\n",
    "gframe_dict = {\"box1\":GeometryFrame(SE3(Rot_zyx(0,0,0),(0.5,0,0)), \"world\"),\n",
    "               \"tool\":GeometryFrame(SE3(Rot_zyx(0,0,0),(0.0,0.0,0.1)), \"tool0\")\n",
    "              }\n",
    "marker_list = set_markers(gitem_list, gframe_dict, urdf_content)\n",
    "graph = GraphModel(robot_info=robot_info, gitem_list=gitem_list, N_sim=N_sim)\n",
    "optimizer = tf.optimizers.SGD(learning_rate=5e-3)"
   ]
  },
  {
   "cell_type": "code",
   "execution_count": null,
   "metadata": {
    "scrolled": true
   },
   "outputs": [],
   "source": [
    "Q_ = np.array([(0, 0,)+tuple((np.random.rand(DOF)*2-1)*np.pi)+(0,) for _ in range(N_sim)], dtype=np.float32)\n",
    "Ttar = SE3(Rot_zyx(0,0,np.pi),(0.5,0,0)).astype(np.float32)\n",
    "gframe_dict_list = [gframe_dict]*N_sim\n",
    "graph.assign_Q(Q_)\n",
    "graph.assign_frame_dict(gframe_dict_list)\n",
    "time_vec = []\n",
    "Q_list = [list(map(lambda x: x.numpy(), graph.get_Q()))]\n",
    "Tbo_all_list = [np.array([[gframe_dict[gitem.name].Toff for gitem in gitem_list]]*N_sim)]\n",
    "N_iter = 100\n",
    "# Run training for the given number of steps.\n",
    "for _ in range(N_iter):\n",
    "    # Run the optimization to update W and b values.\n",
    "    t1 = time.time()\n",
    "    with tf.GradientTape() as g:\n",
    "        # Forward pass.\n",
    "        T_all, Tbo_all= graph(None)\n",
    "        loss = graph.calc_loss(T_all, Tbo_all, \n",
    "                               np.zeros((N_sim, N_joints), dtype='float32'), np.zeros(N_sim, dtype='float32'),\n",
    "                               np.array([Ttar]*N_sim), np.ones(N_sim, dtype='float32'))\n",
    "        \n",
    "    # Variables to update, i.e. trainable variables.\n",
    "    trainable_variables = graph.trainable_variables\n",
    "\n",
    "    # Compute gradients.\n",
    "    gradients = g.gradient(loss, trainable_variables)\n",
    "#     gradients = clip_gradient(gradients, 10)\n",
    "    \n",
    "    # Update W and b following gradients.\n",
    "    optimizer.apply_gradients(zip(gradients, trainable_variables))\n",
    "    t2 = time.time()\n",
    "    time_vec += [t2-t1]\n",
    "    Q_list += [list(map(lambda x: x.numpy(), graph.get_Q()))]\n",
    "    Tbo_all_list += [np.array(Tbo_all)]\n",
    "print(\"mean {} ms\".format(round(np.mean(time_vec)*1000,2)))\n",
    "print(\"total {} ms\".format(round(np.sum(time_vec)*1000,2)))\n",
    "print(\"loss = {}\".format(loss))"
   ]
  },
  {
   "cell_type": "code",
   "execution_count": null,
   "metadata": {},
   "outputs": [],
   "source": [
    "for i_sim in range(1): # N_sim):\n",
    "    for i_iter in range(1,N_iter+1):\n",
    "        q = Q_list[i_iter][i_sim]\n",
    "        gframevec = [gframe_dict[gitem.name] for gitem in gitem_list]\n",
    "        pose_list = [q[2:-1]]\n",
    "        gframevec_list = [gframevec]\n",
    "        show_motion(pose_list, marker_list, gframevec_list, pub, joints, error_skip=1e-6, period=1e-6)\n",
    "        time.sleep(2e-2)"
   ]
  },
  {
   "cell_type": "code",
   "execution_count": null,
   "metadata": {},
   "outputs": [],
   "source": [
    "Q_all = np.array(Q_list)\n",
    "Q_all_i = np.array([Q_all[i_iter, i_sim,:] for i_iter in range(N_iter)])\n",
    "plt.plot(Q_all_i)"
   ]
  },
  {
   "cell_type": "code",
   "execution_count": null,
   "metadata": {},
   "outputs": [],
   "source": [
    "plt.plot(Q_all_i[1:,:]-Q_all_i[:-1,:])"
   ]
  },
  {
   "cell_type": "code",
   "execution_count": null,
   "metadata": {},
   "outputs": [],
   "source": []
  },
  {
   "cell_type": "code",
   "execution_count": null,
   "metadata": {},
   "outputs": [],
   "source": []
  },
  {
   "cell_type": "code",
   "execution_count": null,
   "metadata": {},
   "outputs": [],
   "source": []
  },
  {
   "cell_type": "code",
   "execution_count": null,
   "metadata": {},
   "outputs": [],
   "source": [
    "# N_r = 100\n",
    "# DOF = 6\n",
    "# robot = RobotLayer(link_info_list, rname = \"rb1\", base_name=base_name, dim=N_r)\n",
    "# qvec = []\n",
    "# Pvec_list = []\n",
    "# time_list = []\n",
    "# asg_time_list = []\n",
    "# for _ in range(100):\n",
    "#     q = np.array([(0,)+tuple((np.random.rand(DOF)*2-1)*np.pi/3)+(0,) for _ in range(N_r)], dtype=np.float32)\n",
    "#     qvec += [q]\n",
    "#     t0 = time.time()\n",
    "#     robot.assign_Q(q)\n",
    "#     t01 = time.time()\n",
    "#     T_all = robot([np.identity(4,dtype=np.float32)]*N_r)\n",
    "#     t1 = time.time()\n",
    "#     Pvec = np.array(T_all[:,:,:3,3])\n",
    "#     Pvec_list += list(Pvec)\n",
    "#     time_list += [t1-t0]\n",
    "#     asg_time_list += [t01-t0]\n",
    "# Pvec_list=np.array(Pvec_list)\n",
    "# print(\"assign average: {} ms\".format(np.mean(asg_time_list)*1000))\n",
    "# print(\"total average: {} ms\".format(np.mean(time_list)*1000))\n",
    "# # for Pvec in Pvec_list:\n",
    "# #     plt.plot(Pvec[:,0],Pvec[:,1],'-o')\n",
    "# # plt.axis('equal')"
   ]
  },
  {
   "cell_type": "code",
   "execution_count": null,
   "metadata": {},
   "outputs": [],
   "source": [
    "from __future__ import absolute_import, division, print_function\n",
    "\n",
    "import tensorflow as tf\n",
    "from tensorflow.keras import Model, layers\n",
    "import numpy as np"
   ]
  },
  {
   "cell_type": "code",
   "execution_count": null,
   "metadata": {},
   "outputs": [],
   "source": [
    "# MNIST dataset parameters.\n",
    "num_classes = 10 # total classes (0-9 digits).\n",
    "num_features = 784 # data features (img shape: 28*28).\n",
    "\n",
    "# Training parameters.\n",
    "learning_rate = 0.1\n",
    "training_steps = 2000\n",
    "batch_size = 50\n",
    "display_step = 100\n",
    "\n",
    "# Network parameters.\n",
    "n_hidden_1 = 128 # 1st layer number of neurons.\n",
    "n_hidden_2 = 256 # 2nd layer number of neurons."
   ]
  },
  {
   "cell_type": "code",
   "execution_count": null,
   "metadata": {},
   "outputs": [],
   "source": [
    "# Prepare MNIST data.\n",
    "from tensorflow.keras.datasets import mnist\n",
    "(x_train, y_train), (x_test, y_test) = mnist.load_data()\n",
    "# Convert to float32.\n",
    "x_train, x_test = np.array(x_train, np.float32), np.array(x_test, np.float32)\n",
    "# Flatten images to 1-D vector of 784 features (28*28).\n",
    "x_train, x_test = x_train.reshape([-1, num_features]), x_test.reshape([-1, num_features])\n",
    "# Normalize images value from [0, 255] to [0, 1].\n",
    "x_train, x_test = x_train / 255., x_test / 255."
   ]
  },
  {
   "cell_type": "code",
   "execution_count": null,
   "metadata": {},
   "outputs": [],
   "source": [
    "\n",
    "# Use tf.data API to shuffle and batch data.\n",
    "train_data = tf.data.Dataset.from_tensor_slices((x_train, y_train))\n",
    "train_data = train_data.repeat().shuffle(5000).batch(batch_size).prefetch(1)"
   ]
  },
  {
   "cell_type": "code",
   "execution_count": null,
   "metadata": {},
   "outputs": [],
   "source": [
    "\n",
    "# Create TF Model.\n",
    "class NeuralNet(Model):\n",
    "    # Set layers.\n",
    "    def __init__(self):\n",
    "        super(NeuralNet, self).__init__()\n",
    "        # First fully-connected hidden layer.\n",
    "        self.fc1 = layers.Dense(n_hidden_1, activation=tf.nn.relu)\n",
    "        # First fully-connected hidden layer.\n",
    "        self.fc2 = layers.Dense(n_hidden_2, activation=tf.nn.relu)\n",
    "        # Second fully-connecter hidden layer.\n",
    "        self.out = layers.Dense(num_classes)\n",
    "\n",
    "    # Set forward pass.\n",
    "    def call(self, x, is_training=False):\n",
    "        x = self.fc1(x)\n",
    "        x = self.fc2(x)\n",
    "        x = self.out(x)\n",
    "        if not is_training:\n",
    "            # tf cross entropy expect logits without softmax, so only\n",
    "            # apply softmax when not training.\n",
    "            x = tf.nn.softmax(x)\n",
    "        return x\n",
    "\n",
    "# Build neural network model.\n",
    "neural_net = NeuralNet()"
   ]
  },
  {
   "cell_type": "code",
   "execution_count": null,
   "metadata": {},
   "outputs": [],
   "source": [
    "\n",
    "# Cross-Entropy Loss.\n",
    "# Note that this will apply 'softmax' to the logits.\n",
    "def cross_entropy_loss(x, y):\n",
    "    # Convert labels to int 64 for tf cross-entropy function.\n",
    "    y = tf.cast(y, tf.int64)\n",
    "    # Apply softmax to logits and compute cross-entropy.\n",
    "    loss = tf.nn.sparse_softmax_cross_entropy_with_logits(labels=y, logits=x)\n",
    "    # Average loss across the batch.\n",
    "    return tf.reduce_mean(loss)\n",
    "\n",
    "# Accuracy metric.\n",
    "def accuracy(y_pred, y_true):\n",
    "    # Predicted class is the index of highest score in prediction vector (i.e. argmax).\n",
    "    correct_prediction = tf.equal(tf.argmax(y_pred, 1), tf.cast(y_true, tf.int64))\n",
    "    return tf.reduce_mean(tf.cast(correct_prediction, tf.float32), axis=-1)\n",
    "\n",
    "# Stochastic gradient descent optimizer.\n",
    "optimizer = tf.optimizers.SGD(learning_rate)"
   ]
  },
  {
   "cell_type": "code",
   "execution_count": null,
   "metadata": {},
   "outputs": [],
   "source": [
    "# Optimization process. \n",
    "def run_optimization(x, y):\n",
    "    # Wrap computation inside a GradientTape for automatic differentiation.\n",
    "    with tf.GradientTape() as g:\n",
    "        # Forward pass.\n",
    "        pred = neural_net(x, is_training=True)\n",
    "        # Compute loss.\n",
    "        loss = cross_entropy_loss(pred, y)\n",
    "        \n",
    "    # Variables to update, i.e. trainable variables.\n",
    "    trainable_variables = neural_net.trainable_variables\n",
    "\n",
    "    # Compute gradients.\n",
    "    gradients = g.gradient(loss, trainable_variables)\n",
    "    \n",
    "    # Update W and b following gradients.\n",
    "    optimizer.apply_gradients(zip(gradients, trainable_variables))"
   ]
  },
  {
   "cell_type": "code",
   "execution_count": null,
   "metadata": {},
   "outputs": [],
   "source": [
    "import time"
   ]
  },
  {
   "cell_type": "code",
   "execution_count": null,
   "metadata": {},
   "outputs": [],
   "source": [
    "time_vec = []\n",
    "# Run training for the given number of steps.\n",
    "for step, (batch_x, batch_y) in enumerate(train_data.take(training_steps), 1):\n",
    "    # Run the optimization to update W and b values.\n",
    "    t1 = time.time()\n",
    "    run_optimization(batch_x, batch_y)\n",
    "    t2 = time.time()\n",
    "    time_vec += [t2-t1]\n",
    "    \n",
    "    if step % display_step == 0:\n",
    "        pred = neural_net(batch_x, is_training=True)\n",
    "        loss = cross_entropy_loss(pred, batch_y)\n",
    "        acc = accuracy(pred, batch_y)\n",
    "        print(\"step: %i, loss: %f, accuracy: %f\" % (step, loss, acc))"
   ]
  },
  {
   "cell_type": "code",
   "execution_count": null,
   "metadata": {},
   "outputs": [],
   "source": [
    "np.mean(time_vec)*100"
   ]
  },
  {
   "cell_type": "code",
   "execution_count": null,
   "metadata": {},
   "outputs": [],
   "source": []
  }
 ],
 "metadata": {
  "kernelspec": {
   "display_name": "Python 3",
   "language": "python",
   "name": "python3"
  },
  "language_info": {
   "codemirror_mode": {
    "name": "ipython",
    "version": 3
   },
   "file_extension": ".py",
   "mimetype": "text/x-python",
   "name": "python",
   "nbconvert_exporter": "python",
   "pygments_lexer": "ipython3",
   "version": "3.6.9"
  }
 },
 "nbformat": 4,
 "nbformat_minor": 2
}
