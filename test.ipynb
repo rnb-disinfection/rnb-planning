{
 "cells": [
  {
   "cell_type": "code",
   "execution_count": 1,
   "metadata": {},
   "outputs": [
    {
     "name": "stderr",
     "output_type": "stream",
     "text": [
      "/home/junsu/.local/lib/python3.6/site-packages/tensorflow/python/framework/dtypes.py:516: FutureWarning: Passing (type, 1) or '1type' as a synonym of type is deprecated; in a future version of numpy, it will be understood as (type, (1,)) / '(1,)type'.\n",
      "  _np_qint8 = np.dtype([(\"qint8\", np.int8, 1)])\n",
      "/home/junsu/.local/lib/python3.6/site-packages/tensorflow/python/framework/dtypes.py:517: FutureWarning: Passing (type, 1) or '1type' as a synonym of type is deprecated; in a future version of numpy, it will be understood as (type, (1,)) / '(1,)type'.\n",
      "  _np_quint8 = np.dtype([(\"quint8\", np.uint8, 1)])\n",
      "/home/junsu/.local/lib/python3.6/site-packages/tensorflow/python/framework/dtypes.py:518: FutureWarning: Passing (type, 1) or '1type' as a synonym of type is deprecated; in a future version of numpy, it will be understood as (type, (1,)) / '(1,)type'.\n",
      "  _np_qint16 = np.dtype([(\"qint16\", np.int16, 1)])\n",
      "/home/junsu/.local/lib/python3.6/site-packages/tensorflow/python/framework/dtypes.py:519: FutureWarning: Passing (type, 1) or '1type' as a synonym of type is deprecated; in a future version of numpy, it will be understood as (type, (1,)) / '(1,)type'.\n",
      "  _np_quint16 = np.dtype([(\"quint16\", np.uint16, 1)])\n",
      "/home/junsu/.local/lib/python3.6/site-packages/tensorflow/python/framework/dtypes.py:520: FutureWarning: Passing (type, 1) or '1type' as a synonym of type is deprecated; in a future version of numpy, it will be understood as (type, (1,)) / '(1,)type'.\n",
      "  _np_qint32 = np.dtype([(\"qint32\", np.int32, 1)])\n",
      "/home/junsu/.local/lib/python3.6/site-packages/tensorflow/python/framework/dtypes.py:525: FutureWarning: Passing (type, 1) or '1type' as a synonym of type is deprecated; in a future version of numpy, it will be understood as (type, (1,)) / '(1,)type'.\n",
      "  np_resource = np.dtype([(\"resource\", np.ubyte, 1)])\n",
      "/home/junsu/.local/lib/python3.6/site-packages/tensorboard/compat/tensorflow_stub/dtypes.py:541: FutureWarning: Passing (type, 1) or '1type' as a synonym of type is deprecated; in a future version of numpy, it will be understood as (type, (1,)) / '(1,)type'.\n",
      "  _np_qint8 = np.dtype([(\"qint8\", np.int8, 1)])\n",
      "/home/junsu/.local/lib/python3.6/site-packages/tensorboard/compat/tensorflow_stub/dtypes.py:542: FutureWarning: Passing (type, 1) or '1type' as a synonym of type is deprecated; in a future version of numpy, it will be understood as (type, (1,)) / '(1,)type'.\n",
      "  _np_quint8 = np.dtype([(\"quint8\", np.uint8, 1)])\n",
      "/home/junsu/.local/lib/python3.6/site-packages/tensorboard/compat/tensorflow_stub/dtypes.py:543: FutureWarning: Passing (type, 1) or '1type' as a synonym of type is deprecated; in a future version of numpy, it will be understood as (type, (1,)) / '(1,)type'.\n",
      "  _np_qint16 = np.dtype([(\"qint16\", np.int16, 1)])\n",
      "/home/junsu/.local/lib/python3.6/site-packages/tensorboard/compat/tensorflow_stub/dtypes.py:544: FutureWarning: Passing (type, 1) or '1type' as a synonym of type is deprecated; in a future version of numpy, it will be understood as (type, (1,)) / '(1,)type'.\n",
      "  _np_quint16 = np.dtype([(\"quint16\", np.uint16, 1)])\n",
      "/home/junsu/.local/lib/python3.6/site-packages/tensorboard/compat/tensorflow_stub/dtypes.py:545: FutureWarning: Passing (type, 1) or '1type' as a synonym of type is deprecated; in a future version of numpy, it will be understood as (type, (1,)) / '(1,)type'.\n",
      "  _np_qint32 = np.dtype([(\"qint32\", np.int32, 1)])\n",
      "/home/junsu/.local/lib/python3.6/site-packages/tensorboard/compat/tensorflow_stub/dtypes.py:550: FutureWarning: Passing (type, 1) or '1type' as a synonym of type is deprecated; in a future version of numpy, it will be understood as (type, (1,)) / '(1,)type'.\n",
      "  np_resource = np.dtype([(\"resource\", np.ubyte, 1)])\n"
     ]
    }
   ],
   "source": [
    "import tensorflow as tf\n",
    "from tensorflow import keras\n",
    "from tensorflow.keras import layers\n",
    "from tensorflow.keras import backend as K\n",
    "import numpy as np"
   ]
  },
  {
   "cell_type": "code",
   "execution_count": 2,
   "metadata": {},
   "outputs": [],
   "source": [
    "import matplotlib.pyplot as plt\n",
    "from pkg.rotation_utils import *\n",
    "import time"
   ]
  },
  {
   "cell_type": "code",
   "execution_count": 3,
   "metadata": {},
   "outputs": [],
   "source": [
    "class RotMatLayer(layers.Layer):\n",
    "    def __init__(self, axis, dim):\n",
    "        self.axis = axis\n",
    "        self.dim = dim\n",
    "        super(RotMatLayer, self).__init__()\n",
    "        if self.axis==1:\n",
    "            self.r1 = tf.constant([[[1,0,0],\n",
    "                                   [0,0,0],\n",
    "                                   [0,0,0]]]*self.dim, dtype='float32')\n",
    "            self.rc = tf.constant([[[0,0,0],\n",
    "                                   [0,1,0],\n",
    "                                   [0,0,1]]]*self.dim, dtype='float32')\n",
    "            self.rs = tf.constant([[[0,0,0],\n",
    "                                   [0,0,-1],\n",
    "                                   [0,1,0]]]*self.dim, dtype='float32')\n",
    "        elif self.axis==2:\n",
    "            self.r1 = tf.constant([[[0,0,0],\n",
    "                                   [0,1,0],\n",
    "                                   [0,0,0]]]*self.dim, dtype='float32')\n",
    "            self.rc = tf.constant([[[1,0,0],\n",
    "                                   [0,0,0],\n",
    "                                   [0,0,1]]]*self.dim, dtype='float32')\n",
    "            self.rs = tf.constant([[[0,0,1],\n",
    "                                   [0,0,0],\n",
    "                                   [-1,0,0]]]*self.dim, dtype='float32')\n",
    "        elif self.axis==3:\n",
    "            self.r1 = tf.constant([[[0,0,0],\n",
    "                                   [0,0,0],\n",
    "                                   [0,0,1]]]*self.dim, dtype='float32')\n",
    "            self.rc = tf.constant([[[1,0,0],\n",
    "                                   [0,1,0],\n",
    "                                   [0,0,0]]]*self.dim, dtype='float32')\n",
    "            self.rs = tf.constant([[[0,-1,0],\n",
    "                                   [1,0,0],\n",
    "                                   [0,0,0]]]*self.dim, dtype='float32')\n",
    "        else:\n",
    "            raise(RuntimeError(\"axis should be in [1,2,3]\"))\n",
    "        \n",
    "    # 변수를 만듭니다.\n",
    "    def build(self, input_shape):\n",
    "        pass\n",
    "\n",
    "    # call 메서드가 그래프 모드에서 사용되면\n",
    "    # training 변수는 텐서가 됩니다.\n",
    "    @tf.function\n",
    "    def call(self, input):\n",
    "        return self.r1 + self.rc*K.reshape(K.cos(input), (-1,1,1)) + self.rs*K.reshape(K.sin(input), (-1,1,1))\n",
    "    \n"
   ]
  },
  {
   "cell_type": "code",
   "execution_count": 4,
   "metadata": {},
   "outputs": [],
   "source": [
    "class RotZYXLayer(layers.Layer):\n",
    "    def __init__(self, dim):\n",
    "        super(RotZYXLayer, self).__init__()\n",
    "        self.Rz = RotMatLayer(3, dim)\n",
    "        self.Ry = RotMatLayer(2, dim)\n",
    "        self.Rx = RotMatLayer(1, dim)\n",
    "        \n",
    "    # 변수를 만듭니다.\n",
    "    def build(self, input_shape):\n",
    "        pass\n",
    "\n",
    "    # call 메서드가 그래프 모드에서 사용되면\n",
    "    # training 변수는 텐서가 됩니다.\n",
    "    @tf.function\n",
    "    def call(self, inputs):\n",
    "        Rz = self.Rz(inputs[:,0])\n",
    "        Ry = self.Ry(inputs[:,1])\n",
    "        Rx = self.Rx(inputs[:,2])\n",
    "        return tf.matmul(tf.matmul(Rz,Ry),Rx)"
   ]
  },
  {
   "cell_type": "code",
   "execution_count": 5,
   "metadata": {},
   "outputs": [],
   "source": [
    "   \n",
    "class LinkInfo:\n",
    "    def __init__(self, Toff, axis, ltype, lname, parent):\n",
    "        self.Toff, self.axis, self.ltype, self.lname, self.parent = \\\n",
    "            Toff, axis, ltype, lname, parent\n",
    "    \n",
    "    def get_tuple(self):\n",
    "        return self.Toff, self.axis, self.ltype, self.lname, self.parent"
   ]
  },
  {
   "cell_type": "code",
   "execution_count": 6,
   "metadata": {},
   "outputs": [],
   "source": [
    "class JointMatLayer(layers.Layer):\n",
    "    def __init__(self, axis, dim, ltype, *args, **kwargs):\n",
    "        self.axis = axis\n",
    "        self.dim = dim\n",
    "        self.ltype = ltype\n",
    "        super(JointMatLayer, self).__init__(*args, **kwargs)\n",
    "        if self.ltype=='revolute':\n",
    "            if self.axis==1:\n",
    "                self.r1 = tf.constant([[[1,0,0,0],\n",
    "                                       [0,0,0,0],\n",
    "                                       [0,0,0,0],\n",
    "                                       [0,0,0,1]]]*self.dim, dtype='float32')\n",
    "                self.rc = tf.constant([[[0,0,0,0],\n",
    "                                       [0,1,0,0],\n",
    "                                       [0,0,1,0],\n",
    "                                       [0,0,0,0]]]*self.dim, dtype='float32')\n",
    "                self.rs = tf.constant([[[0,0,0,0],\n",
    "                                       [0,0,-1,0],\n",
    "                                       [0,1,0,0],\n",
    "                                       [0,0,0,0]]]*self.dim, dtype='float32')\n",
    "            elif self.axis==2:\n",
    "                self.r1 = tf.constant([[[0,0,0,0],\n",
    "                                       [0,1,0,0],\n",
    "                                       [0,0,0,0],\n",
    "                                       [0,0,0,1]]]*self.dim, dtype='float32')\n",
    "                self.rc = tf.constant([[[1,0,0,0],\n",
    "                                       [0,0,0,0],\n",
    "                                       [0,0,1,0],\n",
    "                                       [0,0,0,0]]]*self.dim, dtype='float32')\n",
    "                self.rs = tf.constant([[[0,0,1,0],\n",
    "                                       [0,0,0,0],\n",
    "                                       [-1,0,0,0],\n",
    "                                       [0,0,0,0]]]*self.dim, dtype='float32')\n",
    "            elif self.axis==3:\n",
    "                self.r1 = tf.constant([[[0,0,0,0],\n",
    "                                       [0,0,0,0],\n",
    "                                       [0,0,1,0],\n",
    "                                       [0,0,0,1]]]*self.dim, dtype='float32')\n",
    "                self.rc = tf.constant([[[1,0,0,0],\n",
    "                                       [0,1,0,0],\n",
    "                                       [0,0,0,0],\n",
    "                                       [0,0,0,0]]]*self.dim, dtype='float32')\n",
    "                self.rs = tf.constant([[[0,-1,0,0],\n",
    "                                       [1,0,0,0],\n",
    "                                       [0,0,0,0],\n",
    "                                       [0,0,0,0]]]*self.dim, dtype='float32')\n",
    "            else:\n",
    "                raise(RuntimeError(\"axis should be in [1,2,3]\"))\n",
    "        elif self.ltype=='prismatic':\n",
    "            self.r1 = tf.constant([[[1,0,0,0],\n",
    "                                   [0,1,0,0],\n",
    "                                   [0,0,1,0],\n",
    "                                   [0,0,0,1]]]*self.dim, dtype='float32')\n",
    "            if self.axis==1:\n",
    "                self.rq = tf.constant([[[0,0,0,1],\n",
    "                                       [0,0,0,0],\n",
    "                                       [0,0,0,0],\n",
    "                                       [0,0,0,0]]]*self.dim, dtype='float32')\n",
    "            elif self.axis==2:\n",
    "                self.rq = tf.constant([[[0,0,0,0],\n",
    "                                       [0,0,0,1],\n",
    "                                       [0,0,0,0],\n",
    "                                       [0,0,0,0]]]*self.dim, dtype='float32')\n",
    "            elif self.axis==3:\n",
    "                self.rq = tf.constant([[[0,0,0,0],\n",
    "                                       [0,0,0,0],\n",
    "                                       [0,0,0,1],\n",
    "                                       [0,0,0,0]]]*self.dim, dtype='float32')\n",
    "            else:\n",
    "                raise(RuntimeError(\"axis should be in [1,2,3]\"))\n",
    "        elif self.ltype == 'fixed':\n",
    "            self.r1 = tf.constant([[[1,0,0,0],\n",
    "                                   [0,1,0,0],\n",
    "                                   [0,0,1,0],\n",
    "                                   [0,0,0,1]]]*self.dim, dtype='float32')\n",
    "        else:\n",
    "            raise(RuntimeError(\"link type {} not implemented\".format(self.ltype)))\n",
    "        \n",
    "    # 변수를 만듭니다.\n",
    "    def build(self, input_shape):\n",
    "        pass\n",
    "\n",
    "    # call 메서드가 그래프 모드에서 사용되면\n",
    "    # training 변수는 텐서가 됩니다.\n",
    "    @tf.function\n",
    "    def call(self, input=None):\n",
    "        if self.ltype=='revolute':\n",
    "            return self.r1 + self.rc*K.reshape(K.cos(input), (-1,1,1)) + self.rs*K.reshape(K.sin(input), (-1,1,1))\n",
    "        elif self.ltype=='prismatic':\n",
    "            return self.r1 + self.rq*K.reshape(input, (-1,1,1))\n",
    "        elif self.ltype=='fixed':\n",
    "            return self.r1"
   ]
  },
  {
   "cell_type": "code",
   "execution_count": 7,
   "metadata": {},
   "outputs": [],
   "source": [
    "class LinkLayer(layers.Layer):\n",
    "    def __init__(self, link_info, dim, *args, **kwargs):\n",
    "        if \"name\" not in kwargs:\n",
    "            kwargs[\"name\"] = link_info.lname\n",
    "        super(LinkLayer, self).__init__(*args, **kwargs)\n",
    "        self.link_info = link_info\n",
    "        self.Toff = tf.constant(link_info.Toff)\n",
    "        self.axis = link_info.axis\n",
    "        self.parent = link_info.parent\n",
    "        self.ltype = link_info.ltype\n",
    "        self.lname = link_info.lname\n",
    "        self.dim = dim\n",
    "        self.Tjnt = JointMatLayer(axis=self.axis, dim=self.dim, ltype=self.ltype, name=\"{}_joint\".format(kwargs[\"name\"]))\n",
    "        \n",
    "        if self.ltype == 'fixed':\n",
    "            self.q = tf.constant([0.0]*self.dim, name=\"{}_q\".format(kwargs[\"name\"]))\n",
    "        else:\n",
    "            self.q = tf.Variable([0.0]*self.dim, name=\"{}_q\".format(kwargs[\"name\"]))\n",
    "        \n",
    "    # 변수를 만듭니다.\n",
    "    def build(self, input_shape):\n",
    "        pass\n",
    "\n",
    "    # call 메서드가 그래프 모드에서 사용되면\n",
    "    # training 변수는 텐서가 됩니다.\n",
    "    @tf.function\n",
    "    def call(self, inputs):\n",
    "        Tpre = inputs\n",
    "        Tjnt = self.Tjnt(self.q)\n",
    "        Tpo = tf.matmul(Tpre,self.Toff)\n",
    "        Tcur = tf.matmul(Tpo,Tjnt)\n",
    "        return Tcur"
   ]
  },
  {
   "cell_type": "code",
   "execution_count": 8,
   "metadata": {},
   "outputs": [],
   "source": [
    "class RobotLayer(layers.Layer):\n",
    "    def __init__(self, link_info_list, rname, base_name, dim, *args, **kwargs):\n",
    "        if \"name\" not in kwargs:\n",
    "            kwargs[\"name\"] = rname\n",
    "        super(RobotLayer, self).__init__(*args, **kwargs)\n",
    "        self.link_info_list = link_info_list\n",
    "        self.link_list = []\n",
    "        self.rname = rname\n",
    "        self.dim = dim\n",
    "        self.base_name = base_name\n",
    "        for link_info in self.link_info_list:\n",
    "            self.link_list += [LinkLayer(link_info, dim=self.dim, name=\"{}_{}\".format(rname,link_info.lname))]\n",
    "        self.len_Q = len(self.link_list)\n",
    "        \n",
    "    def assign_Q(self, Q):\n",
    "        for i_q in range(self.len_Q):\n",
    "            link = self.link_list[i_q]\n",
    "            if link.ltype != 'fixed':\n",
    "                link.q.assign(Q[:,i_q])\n",
    "    \n",
    "    def get_Q(self):\n",
    "        Q = []\n",
    "        for link in self.link_list:\n",
    "            Q += [link.q]\n",
    "        Q = K.stack(Q, axis=1)#, name=\"{}_Q\".format(self.rname))\n",
    "        return Q\n",
    "        \n",
    "    # 변수를 만듭니다.\n",
    "    def build(self, input_shape):\n",
    "        pass\n",
    "\n",
    "    # call 메서드가 그래프 모드에서 사용되면\n",
    "    # training 변수는 텐서가 됩니다.\n",
    "    @tf.function\n",
    "    def call(self, inputs):\n",
    "        T_dict = {self.base_name: inputs}\n",
    "        T_list = []\n",
    "        for link in self.link_list:\n",
    "            Tcur = link(T_dict[link.parent])\n",
    "            T_dict[link.lname] = Tcur\n",
    "            T_list += [Tcur]\n",
    "        T_list = K.stack(T_list, axis=1)\n",
    "        return T_list"
   ]
  },
  {
   "cell_type": "code",
   "execution_count": 9,
   "metadata": {},
   "outputs": [],
   "source": [
    "from urdf_parser_py.urdf import URDF\n",
    "from pkg.ur10 import URDF_PATH, JOINT_NAMES, LINK_NAMES, ZERO_JOINT_POSE\n",
    "from pkg.joint_utils import *\n",
    "urdf_content = URDF.from_xml_file(URDF_PATH)"
   ]
  },
  {
   "cell_type": "code",
   "execution_count": 10,
   "metadata": {},
   "outputs": [],
   "source": [
    "link_names = LINK_NAMES\n",
    "base_name = LINK_NAMES[0]\n",
    "joint_names = JOINT_NAMES"
   ]
  },
  {
   "cell_type": "code",
   "execution_count": 11,
   "metadata": {},
   "outputs": [],
   "source": [
    "def get_link_info_list(link_names, base_name, urdf_content):\n",
    "    joint_names = list(urdf_content.joint_map.keys())\n",
    "    len_joints = len(joint_names)\n",
    "    zero_joint_dict = joint_list2dict([0]*len_joints, joint_names)\n",
    "    link_info_list = []\n",
    "    for lname in link_names:\n",
    "        if lname == base_name:\n",
    "            continue\n",
    "        jname = get_parent_joint(lname, urdf_content)\n",
    "        parent_name = get_parent_link(lname, urdf_content)\n",
    "        joint= urdf_content.joint_map[jname]\n",
    "        link_info_list += [\n",
    "            LinkInfo(\n",
    "                Toff=get_tf(\n",
    "                    lname, zero_joint_dict, urdf_content=urdf_content, \n",
    "                    from_link=parent_name).astype(np.float32),\n",
    "                axis=np.where(joint.axis)[0][0]+1 if joint.axis is not None else 3,\n",
    "                ltype=joint.type,\n",
    "                lname=lname,\n",
    "                parent=parent_name\n",
    "            )\n",
    "        ]\n",
    "    return link_info_list"
   ]
  },
  {
   "cell_type": "code",
   "execution_count": 12,
   "metadata": {},
   "outputs": [],
   "source": [
    "link_info_list = get_link_info_list(link_names,base_name, urdf_content)"
   ]
  },
  {
   "cell_type": "code",
   "execution_count": 13,
   "metadata": {},
   "outputs": [],
   "source": [
    "# N_r = 100\n",
    "# DOF = 6\n",
    "# robot = RobotLayer(link_info_list, rname = \"rb1\", base_name=base_name, dim=N_r)"
   ]
  },
  {
   "cell_type": "code",
   "execution_count": 14,
   "metadata": {},
   "outputs": [],
   "source": [
    "# qvec = []\n",
    "# Pvec_list = []\n",
    "# time_list = []\n",
    "# asg_time_list = []\n",
    "# for _ in range(100):\n",
    "#     q = np.array([(0,)+tuple((np.random.rand(DOF)*2-1)*np.pi/3)+(0,) for _ in range(N_r)], dtype=np.float32)\n",
    "#     qvec += [q]\n",
    "#     t0 = time.time()\n",
    "#     robot.assign_Q(q)\n",
    "#     t01 = time.time()\n",
    "#     T_all = robot([np.identity(4,dtype=np.float32)]*N_r)\n",
    "#     t1 = time.time()\n",
    "#     Pvec = np.array(T_all[:,:,:3,3])\n",
    "#     Pvec_list += list(Pvec)\n",
    "#     time_list += [t1-t0]\n",
    "#     asg_time_list += [t01-t0]\n",
    "# Pvec_list=np.array(Pvec_list)\n",
    "# print(\"assign average: {} ms\".format(np.mean(asg_time_list)*1000))\n",
    "# print(\"total average: {} ms\".format(np.mean(time_list)*1000))\n",
    "# # for Pvec in Pvec_list:\n",
    "# #     plt.plot(Pvec[:,0],Pvec[:,1],'-o')\n",
    "# # plt.axis('equal')"
   ]
  },
  {
   "cell_type": "code",
   "execution_count": null,
   "metadata": {},
   "outputs": [],
   "source": []
  },
  {
   "cell_type": "code",
   "execution_count": null,
   "metadata": {},
   "outputs": [],
   "source": []
  },
  {
   "cell_type": "markdown",
   "metadata": {},
   "source": [
    "# Visualize"
   ]
  },
  {
   "cell_type": "code",
   "execution_count": 15,
   "metadata": {},
   "outputs": [
    {
     "name": "stdout",
     "output_type": "stream",
     "text": [
      "Please create a subscriber to the marker\n",
      "publication OK\n",
      "published: [0, 0, 0, 0, 0, 0]\n"
     ]
    }
   ],
   "source": [
    "from pkg.ros_rviz import *\n",
    "pub, joints, rate = get_publisher(JOINT_NAMES)"
   ]
  },
  {
   "cell_type": "code",
   "execution_count": 16,
   "metadata": {},
   "outputs": [],
   "source": [
    "# pose_list = q[:,1:7]"
   ]
  },
  {
   "cell_type": "code",
   "execution_count": 17,
   "metadata": {},
   "outputs": [],
   "source": [
    "# show_motion(pose_list, [], pub, joints, joint_names, error_skip=1e-6, period=1e-6)"
   ]
  },
  {
   "cell_type": "code",
   "execution_count": null,
   "metadata": {},
   "outputs": [],
   "source": []
  },
  {
   "cell_type": "markdown",
   "metadata": {},
   "source": [
    "# Constraint"
   ]
  },
  {
   "cell_type": "code",
   "execution_count": 18,
   "metadata": {},
   "outputs": [],
   "source": [
    "class JointConstraintLoss(layers.Layer):\n",
    "    def __init__(self, robot, *args, **kwargs):\n",
    "        if \"name\" not in kwargs:\n",
    "            kwargs[\"name\"] = \"{}_{}\".format(robot.rname, \"jc\")\n",
    "        super(JointConstraintLoss, self).__init__(*args, **kwargs)\n",
    "        self.robot = robot\n",
    "        \n",
    "    # 변수를 만듭니다.\n",
    "    def build(self, input_shape):\n",
    "        pass\n",
    "\n",
    "    # call 메서드가 그래프 모드에서 사용되면\n",
    "    # training 변수는 텐서가 됩니다.\n",
    "    @tf.function\n",
    "    def call(self, inputs):\n",
    "        Qtar = inputs[0] # (NxM)\n",
    "        bAct = inputs[1] # (N)\n",
    "        return K.sum(bAct * K.sum(K.square((Qtar - self.robot.get_Q())), axis=1))"
   ]
  },
  {
   "cell_type": "code",
   "execution_count": 19,
   "metadata": {},
   "outputs": [],
   "source": [
    "# jc_loss = JointConstraintLoss(robot)"
   ]
  },
  {
   "cell_type": "code",
   "execution_count": 20,
   "metadata": {},
   "outputs": [],
   "source": [
    "# jl = jc_loss((np.zeros((N_r, robot.len_Q), dtype='float32'), np.ones(N_r, dtype='float32')))"
   ]
  },
  {
   "cell_type": "code",
   "execution_count": null,
   "metadata": {},
   "outputs": [],
   "source": []
  },
  {
   "cell_type": "markdown",
   "metadata": {},
   "source": [
    "# Graph"
   ]
  },
  {
   "cell_type": "code",
   "execution_count": 21,
   "metadata": {},
   "outputs": [],
   "source": [
    "def clip_gradient(graidents, grad_max=1):\n",
    "    mx_grad = K.max(gradients)\n",
    "    if mx_grad>grad_max:\n",
    "        for i_g in range(len(gradients)):\n",
    "            gradients[i_g] /= mx_grad\n",
    "    return gradients"
   ]
  },
  {
   "cell_type": "code",
   "execution_count": 22,
   "metadata": {},
   "outputs": [],
   "source": [
    "class RobotInfo:\n",
    "    def __init__(self, link_info_list, rname, base_name):\n",
    "        self.link_info_list, self.rname, self.base_name = \\\n",
    "            link_info_list, rname, base_name"
   ]
  },
  {
   "cell_type": "code",
   "execution_count": 23,
   "metadata": {},
   "outputs": [],
   "source": [
    "class GraphModel(tf.keras.Model):\n",
    "\n",
    "    def __init__(self, robot_info_list, N_sim):\n",
    "        super(GraphModel, self).__init__()\n",
    "        self.robot_list = []\n",
    "        self.jc_list = []\n",
    "        self.robot_base_list = []\n",
    "        for robot_info in robot_info_list:\n",
    "            robot = RobotLayer(\n",
    "                robot_info.link_info_list, rname = robot_info.rname, base_name=robot_info.base_name, dim=N_sim)\n",
    "            self.robot_list += [robot]\n",
    "            self.jc_list += [JointConstraintLoss(robot)]\n",
    "            self.robot_base_list += [[np.identity(4,dtype=np.float32)]*N_sim]\n",
    "            \n",
    "    def assign_Q_list(self, Q_list):\n",
    "        for robot, Q in zip(self.robot_list, Q_list):\n",
    "            robot.assign_Q(Q)\n",
    "            \n",
    "    def get_Q_list(self):\n",
    "        Q_list = []\n",
    "        for robot in self.robot_list:\n",
    "            Q_list += [robot.get_Q()]\n",
    "        return Q_list\n",
    "\n",
    "    def call(self, inputs_list):\n",
    "        T_all_list = []\n",
    "        jc_list = []\n",
    "        for robot, robot_base, jc_loss, inputs in zip(\n",
    "                self.robot_list, self.robot_base_list, self.jc_list, inputs_list):\n",
    "            T_all = robot(robot_base)\n",
    "            T_all_list += [T_all]\n",
    "            jc_list += [jc_loss(inputs)]\n",
    "            \n",
    "        return K.sum(jc_list)\n",
    "\n",
    "    "
   ]
  },
  {
   "cell_type": "code",
   "execution_count": 46,
   "metadata": {},
   "outputs": [],
   "source": [
    "N_sim = 50\n",
    "N_joints = 8\n",
    "DOF = 6\n",
    "graph = GraphModel([RobotInfo(link_info_list, rname = \"rbt1\", base_name=base_name)], N_sim=N_sim)"
   ]
  },
  {
   "cell_type": "code",
   "execution_count": 47,
   "metadata": {},
   "outputs": [],
   "source": [
    "learning_rate = 5e-2\n",
    "# Stochastic gradient descent optimizer.\n",
    "# optimizer = tf.optimizers.Adam(learning_rate, beta_1=0.9, beta_2=0.99, amsgrad=False)\n",
    "# optimizer = tf.optimizers.Adagrad(learning_rate*5)\n",
    "optimizer = tf.optimizers.SGD(learning_rate)\n",
    "# optimizer = tf.optimizers.RMSprop(learning_rate)"
   ]
  },
  {
   "cell_type": "code",
   "execution_count": 52,
   "metadata": {},
   "outputs": [
    {
     "name": "stdout",
     "output_type": "stream",
     "text": [
      "mean 6.84 ms\n",
      "total 342.05 ms\n"
     ]
    }
   ],
   "source": [
    "Q_ = np.array([(0,)+tuple((np.random.rand(DOF)*2-1)*np.pi)+(0,) for _ in range(N_sim)], dtype=np.float32)\n",
    "graph.assign_Q_list([Q_])\n",
    "time_vec = []\n",
    "Q_list_vec = [list(map(lambda x: x.numpy(), graph.get_Q_list()))]\n",
    "N_iter = 50\n",
    "# Run training for the given number of steps.\n",
    "for _ in range(N_iter):\n",
    "    # Run the optimization to update W and b values.\n",
    "    t1 = time.time()\n",
    "    with tf.GradientTape() as g:\n",
    "        # Forward pass.\n",
    "        loss = graph([(np.zeros((N_sim, N_joints), dtype='float32'), np.ones(N_sim, dtype='float32'))])\n",
    "        \n",
    "    # Variables to update, i.e. trainable variables.\n",
    "    trainable_variables = graph.trainable_variables\n",
    "\n",
    "    # Compute gradients.\n",
    "    gradients = g.gradient(loss, trainable_variables)\n",
    "    gradients = clip_gradient(gradients, 1)\n",
    "    \n",
    "    # Update W and b following gradients.\n",
    "    optimizer.apply_gradients(zip(gradients, trainable_variables))\n",
    "    t2 = time.time()\n",
    "    time_vec += [t2-t1]\n",
    "    Q_list_vec += [list(map(lambda x: x.numpy(), graph.get_Q_list()))]\n",
    "print(\"mean {} ms\".format(round(np.mean(time_vec)*1000,2)))\n",
    "print(\"total {} ms\".format(round(np.sum(time_vec)*1000,2)))"
   ]
  },
  {
   "cell_type": "code",
   "execution_count": 53,
   "metadata": {},
   "outputs": [],
   "source": [
    "i_rbt = 0\n",
    "for i_sim in range(1): # N_sim):\n",
    "    for i_iter in range(N_iter):\n",
    "        q = Q_list_vec[i_iter][i_rbt][i_sim]\n",
    "        pose_list = [q[1:7]]\n",
    "        show_motion(pose_list, [], pub, joints, joint_names, error_skip=1e-6, period=1e-6)\n",
    "        time.sleep(1e-1)"
   ]
  },
  {
   "cell_type": "code",
   "execution_count": 54,
   "metadata": {},
   "outputs": [
    {
     "data": {
      "text/plain": [
       "array([[ 0.0678316 , -0.0523061 , -0.11742061, -0.12202853, -0.05438674,\n",
       "         0.03700944]], dtype=float32)"
      ]
     },
     "execution_count": 54,
     "metadata": {},
     "output_type": "execute_result"
    }
   ],
   "source": [
    "np.rad2deg(pose_list)"
   ]
  },
  {
   "cell_type": "code",
   "execution_count": null,
   "metadata": {},
   "outputs": [],
   "source": []
  },
  {
   "cell_type": "code",
   "execution_count": null,
   "metadata": {},
   "outputs": [],
   "source": []
  },
  {
   "cell_type": "code",
   "execution_count": null,
   "metadata": {},
   "outputs": [],
   "source": []
  },
  {
   "cell_type": "code",
   "execution_count": 1,
   "metadata": {},
   "outputs": [
    {
     "ename": "ModuleNotFoundError",
     "evalue": "No module named 'tensorflow'",
     "output_type": "error",
     "traceback": [
      "\u001b[0;31m---------------------------------------------------------------------------\u001b[0m",
      "\u001b[0;31mModuleNotFoundError\u001b[0m                       Traceback (most recent call last)",
      "\u001b[0;32m<ipython-input-1-603629bd586d>\u001b[0m in \u001b[0;36m<module>\u001b[0;34m\u001b[0m\n\u001b[1;32m      1\u001b[0m \u001b[0;32mfrom\u001b[0m \u001b[0m__future__\u001b[0m \u001b[0;32mimport\u001b[0m \u001b[0mabsolute_import\u001b[0m\u001b[0;34m,\u001b[0m \u001b[0mdivision\u001b[0m\u001b[0;34m,\u001b[0m \u001b[0mprint_function\u001b[0m\u001b[0;34m\u001b[0m\u001b[0;34m\u001b[0m\u001b[0m\n\u001b[1;32m      2\u001b[0m \u001b[0;34m\u001b[0m\u001b[0m\n\u001b[0;32m----> 3\u001b[0;31m \u001b[0;32mimport\u001b[0m \u001b[0mtensorflow\u001b[0m \u001b[0;32mas\u001b[0m \u001b[0mtf\u001b[0m\u001b[0;34m\u001b[0m\u001b[0;34m\u001b[0m\u001b[0m\n\u001b[0m\u001b[1;32m      4\u001b[0m \u001b[0;32mfrom\u001b[0m \u001b[0mtensorflow\u001b[0m\u001b[0;34m.\u001b[0m\u001b[0mkeras\u001b[0m \u001b[0;32mimport\u001b[0m \u001b[0mModel\u001b[0m\u001b[0;34m,\u001b[0m \u001b[0mlayers\u001b[0m\u001b[0;34m\u001b[0m\u001b[0;34m\u001b[0m\u001b[0m\n\u001b[1;32m      5\u001b[0m \u001b[0;32mimport\u001b[0m \u001b[0mnumpy\u001b[0m \u001b[0;32mas\u001b[0m \u001b[0mnp\u001b[0m\u001b[0;34m\u001b[0m\u001b[0;34m\u001b[0m\u001b[0m\n",
      "\u001b[0;31mModuleNotFoundError\u001b[0m: No module named 'tensorflow'"
     ]
    }
   ],
   "source": [
    "from __future__ import absolute_import, division, print_function\n",
    "\n",
    "import tensorflow as tf\n",
    "from tensorflow.keras import Model, layers\n",
    "import numpy as np"
   ]
  },
  {
   "cell_type": "code",
   "execution_count": null,
   "metadata": {},
   "outputs": [],
   "source": [
    "# MNIST dataset parameters.\n",
    "num_classes = 10 # total classes (0-9 digits).\n",
    "num_features = 784 # data features (img shape: 28*28).\n",
    "\n",
    "# Training parameters.\n",
    "learning_rate = 0.1\n",
    "training_steps = 2000\n",
    "batch_size = 50\n",
    "display_step = 100\n",
    "\n",
    "# Network parameters.\n",
    "n_hidden_1 = 128 # 1st layer number of neurons.\n",
    "n_hidden_2 = 256 # 2nd layer number of neurons."
   ]
  },
  {
   "cell_type": "code",
   "execution_count": null,
   "metadata": {},
   "outputs": [],
   "source": [
    "# Prepare MNIST data.\n",
    "from tensorflow.keras.datasets import mnist\n",
    "(x_train, y_train), (x_test, y_test) = mnist.load_data()\n",
    "# Convert to float32.\n",
    "x_train, x_test = np.array(x_train, np.float32), np.array(x_test, np.float32)\n",
    "# Flatten images to 1-D vector of 784 features (28*28).\n",
    "x_train, x_test = x_train.reshape([-1, num_features]), x_test.reshape([-1, num_features])\n",
    "# Normalize images value from [0, 255] to [0, 1].\n",
    "x_train, x_test = x_train / 255., x_test / 255."
   ]
  },
  {
   "cell_type": "code",
   "execution_count": null,
   "metadata": {},
   "outputs": [],
   "source": [
    "\n",
    "# Use tf.data API to shuffle and batch data.\n",
    "train_data = tf.data.Dataset.from_tensor_slices((x_train, y_train))\n",
    "train_data = train_data.repeat().shuffle(5000).batch(batch_size).prefetch(1)"
   ]
  },
  {
   "cell_type": "code",
   "execution_count": null,
   "metadata": {},
   "outputs": [],
   "source": [
    "\n",
    "# Create TF Model.\n",
    "class NeuralNet(Model):\n",
    "    # Set layers.\n",
    "    def __init__(self):\n",
    "        super(NeuralNet, self).__init__()\n",
    "        # First fully-connected hidden layer.\n",
    "        self.fc1 = layers.Dense(n_hidden_1, activation=tf.nn.relu)\n",
    "        # First fully-connected hidden layer.\n",
    "        self.fc2 = layers.Dense(n_hidden_2, activation=tf.nn.relu)\n",
    "        # Second fully-connecter hidden layer.\n",
    "        self.out = layers.Dense(num_classes)\n",
    "\n",
    "    # Set forward pass.\n",
    "    def call(self, x, is_training=False):\n",
    "        x = self.fc1(x)\n",
    "        x = self.fc2(x)\n",
    "        x = self.out(x)\n",
    "        if not is_training:\n",
    "            # tf cross entropy expect logits without softmax, so only\n",
    "            # apply softmax when not training.\n",
    "            x = tf.nn.softmax(x)\n",
    "        return x\n",
    "\n",
    "# Build neural network model.\n",
    "neural_net = NeuralNet()"
   ]
  },
  {
   "cell_type": "code",
   "execution_count": null,
   "metadata": {},
   "outputs": [],
   "source": [
    "\n",
    "# Cross-Entropy Loss.\n",
    "# Note that this will apply 'softmax' to the logits.\n",
    "def cross_entropy_loss(x, y):\n",
    "    # Convert labels to int 64 for tf cross-entropy function.\n",
    "    y = tf.cast(y, tf.int64)\n",
    "    # Apply softmax to logits and compute cross-entropy.\n",
    "    loss = tf.nn.sparse_softmax_cross_entropy_with_logits(labels=y, logits=x)\n",
    "    # Average loss across the batch.\n",
    "    return tf.reduce_mean(loss)\n",
    "\n",
    "# Accuracy metric.\n",
    "def accuracy(y_pred, y_true):\n",
    "    # Predicted class is the index of highest score in prediction vector (i.e. argmax).\n",
    "    correct_prediction = tf.equal(tf.argmax(y_pred, 1), tf.cast(y_true, tf.int64))\n",
    "    return tf.reduce_mean(tf.cast(correct_prediction, tf.float32), axis=-1)\n",
    "\n",
    "# Stochastic gradient descent optimizer.\n",
    "optimizer = tf.optimizers.SGD(learning_rate)"
   ]
  },
  {
   "cell_type": "code",
   "execution_count": null,
   "metadata": {},
   "outputs": [],
   "source": [
    "# Optimization process. \n",
    "def run_optimization(x, y):\n",
    "    # Wrap computation inside a GradientTape for automatic differentiation.\n",
    "    with tf.GradientTape() as g:\n",
    "        # Forward pass.\n",
    "        pred = neural_net(x, is_training=True)\n",
    "        # Compute loss.\n",
    "        loss = cross_entropy_loss(pred, y)\n",
    "        \n",
    "    # Variables to update, i.e. trainable variables.\n",
    "    trainable_variables = neural_net.trainable_variables\n",
    "\n",
    "    # Compute gradients.\n",
    "    gradients = g.gradient(loss, trainable_variables)\n",
    "    \n",
    "    # Update W and b following gradients.\n",
    "    optimizer.apply_gradients(zip(gradients, trainable_variables))"
   ]
  },
  {
   "cell_type": "code",
   "execution_count": null,
   "metadata": {},
   "outputs": [],
   "source": [
    "import time"
   ]
  },
  {
   "cell_type": "code",
   "execution_count": null,
   "metadata": {},
   "outputs": [],
   "source": [
    "time_vec = []\n",
    "# Run training for the given number of steps.\n",
    "for step, (batch_x, batch_y) in enumerate(train_data.take(training_steps), 1):\n",
    "    # Run the optimization to update W and b values.\n",
    "    t1 = time.time()\n",
    "    run_optimization(batch_x, batch_y)\n",
    "    t2 = time.time()\n",
    "    time_vec += [t2-t1]\n",
    "    \n",
    "    if step % display_step == 0:\n",
    "        pred = neural_net(batch_x, is_training=True)\n",
    "        loss = cross_entropy_loss(pred, batch_y)\n",
    "        acc = accuracy(pred, batch_y)\n",
    "        print(\"step: %i, loss: %f, accuracy: %f\" % (step, loss, acc))"
   ]
  },
  {
   "cell_type": "code",
   "execution_count": null,
   "metadata": {},
   "outputs": [],
   "source": [
    "np.mean(time_vec)*100"
   ]
  },
  {
   "cell_type": "code",
   "execution_count": null,
   "metadata": {},
   "outputs": [],
   "source": []
  }
 ],
 "metadata": {
  "kernelspec": {
   "display_name": "Python 3",
   "language": "python",
   "name": "python3"
  },
  "language_info": {
   "codemirror_mode": {
    "name": "ipython",
    "version": 3
   },
   "file_extension": ".py",
   "mimetype": "text/x-python",
   "name": "python",
   "nbconvert_exporter": "python",
   "pygments_lexer": "ipython3",
   "version": "3.6.9"
  }
 },
 "nbformat": 4,
 "nbformat_minor": 2
}
