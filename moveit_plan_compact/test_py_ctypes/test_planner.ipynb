{
 "cells": [
  {
   "cell_type": "code",
   "execution_count": 1,
   "metadata": {},
   "outputs": [],
   "source": [
    "import os\n",
    "import ctypes\n",
    "from gtimer import GlobalTimer\n",
    "from numpy.ctypeslib import ndpointer\n",
    "import numpy as np\n",
    "\n",
    "PLAN_LIB_PATH = \"../cmake-build-debug/libmoveit_plan_compact.so\"\n",
    "\n",
    "from enum import Enum\n",
    "\n",
    "class ObjectType(Enum):\n",
    "    BOX = 1\n",
    "    SPHERE = 2\n",
    "    CYLINDER = 3\n",
    "\n",
    "class ObjectAction(Enum):\n",
    "    ADD = 0\n",
    "    REMOVE = 1\n",
    "    APPEND = 2\n",
    "    MOVE = 3\n",
    "\n",
    "clib = ctypes.cdll.LoadLibrary(PLAN_LIB_PATH)\n",
    "MAX_STR_LEN = clib.get_max_str_len()\n",
    "MAX_NAME_LEN = clib.get_max_name_len()\n",
    "MAX_JOINT_NUM = clib.get_max_joint_num()\n",
    "MAX_TRAJ_LEN = clib.get_max_traj_len()\n",
    "\n",
    "class c_string(ctypes.Structure):\n",
    "    _fields_ = [(\"buffer\", ctypes.c_char*MAX_STR_LEN),\n",
    "                (\"len\", ctypes.c_int)\n",
    "                ]\n",
    "\n",
    "class c_trajectory(ctypes.Structure):\n",
    "    _fields_ = [(\"names_flt\", ctypes.c_char*(MAX_JOINT_NUM*MAX_NAME_LEN)),\n",
    "                (\"joints\", ctypes.c_double*(MAX_JOINT_NUM*MAX_TRAJ_LEN)),\n",
    "                (\"name_len\", ctypes.c_int),\n",
    "                (\"joint_count\", ctypes.c_int),\n",
    "                (\"joint_max\", ctypes.c_int),\n",
    "                (\"traj_len\", ctypes.c_int),\n",
    "                (\"success\", ctypes.c_bool)\n",
    "                ]\n",
    "\n",
    "class c_plan_goal(ctypes.Structure):\n",
    "    _fields_ = [(\"group_name\", ctypes.c_char*MAX_NAME_LEN),\n",
    "                (\"tool_link\", ctypes.c_char*MAX_NAME_LEN),\n",
    "                (\"goal_link\", ctypes.c_char*MAX_NAME_LEN),\n",
    "                (\"goal_pose\", ctypes.c_double*7),\n",
    "                (\"timeout\", ctypes.c_double)\n",
    "                ]\n",
    "\n",
    "class c_object_msg(ctypes.Structure):\n",
    "    _fields_ = [(\"name\", ctypes.c_char*MAX_NAME_LEN),\n",
    "                (\"link_name\", ctypes.c_char*MAX_NAME_LEN),\n",
    "                (\"pose\", ctypes.c_double*7),\n",
    "                (\"dims\", ctypes.c_double*3),\n",
    "                (\"type\", ctypes.c_int),\n",
    "                (\"action\", ctypes.c_int)\n",
    "                ]\n",
    "\n",
    "clib.hello_cstr.restype = c_string\n",
    "clib.hello_char.restype = ndpointer(dtype=ctypes.c_char, shape=(MAX_STR_LEN,))\n",
    "clib.plan_compact.restype = c_trajectory\n",
    "clib.plan_compact.argtypes = [c_plan_goal]\n",
    "clib.process_object.argtypes = [c_object_msg]\n",
    "\n",
    "def convert_trajectory(traj):\n",
    "    names = traj.names_flt.split()\n",
    "    joints = []\n",
    "    for i_traj in range(traj.traj_len):\n",
    "        joints.append(traj.joints[i_traj*traj.joint_max:i_traj*traj.joint_max+traj.joint_count])\n",
    "    return names, np.array(joints), traj.success\n"
   ]
  },
  {
   "cell_type": "code",
   "execution_count": 2,
   "metadata": {},
   "outputs": [],
   "source": [
    "gtimer = GlobalTimer.instance()"
   ]
  },
  {
   "cell_type": "code",
   "execution_count": 3,
   "metadata": {},
   "outputs": [],
   "source": [
    "urdf_path = \"../test_assets/custom_robots.urdf\"\n",
    "srdf_path = \"../test_assets/custom_robots.srdf\"\n",
    "\n",
    "urdf_str = c_string()\n",
    "srdf_str = c_string()\n",
    "with open(urdf_path, 'r') as f:\n",
    "    while True:\n",
    "        line = f.readline()\n",
    "        urdf_str.buffer += line\n",
    "        if not line: break\n",
    "            \n",
    "urdf_str.buffer\n",
    "with open(srdf_path, 'r') as f:\n",
    "    while True:\n",
    "        line = f.readline()\n",
    "        srdf_str.buffer += line\n",
    "        if not line: break"
   ]
  },
  {
   "cell_type": "code",
   "execution_count": 4,
   "metadata": {},
   "outputs": [
    {
     "data": {
      "text/plain": [
       "99.3800163269043"
      ]
     },
     "execution_count": 4,
     "metadata": {},
     "output_type": "execute_result"
    }
   ],
   "source": [
    "gtimer.reset(1e3,'ms')\n",
    "gtimer.tic(\"init_ros\")\n",
    "clib.init_planner(urdf_str, srdf_str)\n",
    "gtimer.toc(\"init_ros\")"
   ]
  },
  {
   "cell_type": "code",
   "execution_count": 5,
   "metadata": {},
   "outputs": [
    {
     "data": {
      "text/plain": [
       "0.3249645233154297"
      ]
     },
     "execution_count": 5,
     "metadata": {},
     "output_type": "execute_result"
    }
   ],
   "source": [
    "gtimer.tic(\"add_object\")\n",
    "omsg = c_object_msg()\n",
    "omsg.name = \"box\"\n",
    "omsg.link_name = \"base_link\"\n",
    "goal_pose = [-0.3,-0.2,0.0,0,0,0,1]\n",
    "for igp in range(7): omsg.pose[igp] = goal_pose[igp]\n",
    "dims = [0.1,0.1,0.1]\n",
    "for igp in range(3): omsg.dims[igp] = dims[igp]\n",
    "omsg.action = ObjectAction.ADD.value\n",
    "omsg.type = ObjectType.BOX.value\n",
    "clib.process_object(omsg)\n",
    "gtimer.toc(\"add_object\")"
   ]
  },
  {
   "cell_type": "code",
   "execution_count": 6,
   "metadata": {},
   "outputs": [
    {
     "name": "stdout",
     "output_type": "stream",
     "text": [
      "init_ros: \t99.0 ms/1 = 99.38 ms (99.38/99.38)\n",
      "add_object: \t0.0 ms/1 = 0.325 ms (0.325/0.325)\n",
      "plan_compact: \t423.0 ms/10 = 42.271 ms (28.104/80.765)\n",
      "convert_trajectory: \t0.0 ms/10 = 0.05 ms (0.036/0.062)\n",
      "\n",
      "True\n"
     ]
    }
   ],
   "source": [
    "for _ in range(10):\n",
    "    gtimer.tic(\"plan_compact\")\n",
    "    goal = c_plan_goal()\n",
    "    goal.group_name = \"indy0\"\n",
    "    goal.tool_link = \"indy0_tcp\"\n",
    "    goal_pose = [-0.3, -0.2, 0.4, 0, 0, 0, 1]\n",
    "    for igp in range(7): goal.goal_pose[igp] = goal_pose[igp]\n",
    "    goal.goal_link = \"base_link\"\n",
    "    goal.timeout = 0.1\n",
    "    c_traj = clib.plan_compact(goal)\n",
    "    gtimer.toc(\"plan_compact\")\n",
    "    gtimer.tic(\"convert_trajectory\")\n",
    "    names, traj, succ = convert_trajectory(c_traj)\n",
    "    gtimer.toc(\"convert_trajectory\")\n",
    "print(gtimer)\n",
    "print(succ)"
   ]
  },
  {
   "cell_type": "code",
   "execution_count": 7,
   "metadata": {},
   "outputs": [
    {
     "data": {
      "text/plain": [
       "0.1010894775390625"
      ]
     },
     "execution_count": 7,
     "metadata": {},
     "output_type": "execute_result"
    }
   ],
   "source": [
    "gtimer.tic(\"clear_objects\")\n",
    "clib.clear_all_objects()\n",
    "gtimer.toc(\"clear_objects\")"
   ]
  },
  {
   "cell_type": "code",
   "execution_count": 8,
   "metadata": {},
   "outputs": [
    {
     "name": "stdout",
     "output_type": "stream",
     "text": [
      "init_ros: \t99.0 ms/1 = 99.38 ms (99.38/99.38)\n",
      "add_object: \t0.0 ms/1 = 0.325 ms (0.325/0.325)\n",
      "plan_compact: \t831.0 ms/20 = 41.562 ms (25.702/80.765)\n",
      "convert_trajectory: \t1.0 ms/20 = 0.046 ms (0.034/0.062)\n",
      "clear_objects: \t0.0 ms/1 = 0.101 ms (0.101/0.101)\n",
      "\n",
      "True\n"
     ]
    }
   ],
   "source": [
    "for _ in range(10):\n",
    "    gtimer.tic(\"plan_compact\")\n",
    "    goal = c_plan_goal()\n",
    "    goal.group_name = \"indy0\"\n",
    "    goal.tool_link = \"indy0_tcp\"\n",
    "    goal_pose = [-0.3, -0.2, 0.4, 0, 0, 0, 1]\n",
    "    for igp in range(7): goal.goal_pose[igp] = goal_pose[igp]\n",
    "    goal.goal_link = \"base_link\"\n",
    "    goal.timeout = 0.1\n",
    "    c_traj = clib.plan_compact(goal)\n",
    "    gtimer.toc(\"plan_compact\")\n",
    "    gtimer.tic(\"convert_trajectory\")\n",
    "    names, traj, succ = convert_trajectory(c_traj)\n",
    "    gtimer.toc(\"convert_trajectory\")\n",
    "print(gtimer)\n",
    "print(succ)"
   ]
  },
  {
   "cell_type": "code",
   "execution_count": 9,
   "metadata": {},
   "outputs": [
    {
     "data": {
      "text/plain": [
       "0.34809112548828125"
      ]
     },
     "execution_count": 9,
     "metadata": {},
     "output_type": "execute_result"
    }
   ],
   "source": [
    "gtimer.tic(\"add_object2\")\n",
    "omsg = c_object_msg()\n",
    "omsg.name = \"box\"\n",
    "omsg.link_name = \"base_link\"\n",
    "goal_pose = [-0.3,-0.2,0.4,0,0,0,1]\n",
    "for igp in range(7): omsg.pose[igp] = goal_pose[igp]\n",
    "dims = [0.1,0.1,0.1]\n",
    "for igp in range(3): omsg.dims[igp] = dims[igp]\n",
    "omsg.action = ObjectAction.ADD.value\n",
    "omsg.type = ObjectType.BOX.value\n",
    "clib.process_object(omsg)\n",
    "gtimer.toc(\"add_object2\")"
   ]
  },
  {
   "cell_type": "code",
   "execution_count": 10,
   "metadata": {},
   "outputs": [
    {
     "name": "stdout",
     "output_type": "stream",
     "text": [
      "init_ros: \t99.0 ms/1 = 99.38 ms (99.38/99.38)\n",
      "add_object: \t0.0 ms/1 = 0.325 ms (0.325/0.325)\n",
      "plan_compact: \t1938.0 ms/30 = 64.587 ms (25.702/121.999)\n",
      "convert_trajectory: \t160.0 ms/30 = 5.34 ms (0.034/24.189)\n",
      "clear_objects: \t0.0 ms/1 = 0.101 ms (0.101/0.101)\n",
      "add_object2: \t0.0 ms/1 = 0.348 ms (0.348/0.348)\n",
      "\n",
      "False\n"
     ]
    }
   ],
   "source": [
    "for _ in range(10):\n",
    "    gtimer.tic(\"plan_compact\")\n",
    "    goal = c_plan_goal()\n",
    "    goal.group_name = \"indy0\"\n",
    "    goal.tool_link = \"indy0_tcp\"\n",
    "    goal_pose = [-0.3, -0.2, 0.4, 0, 0, 0, 1]\n",
    "    for igp in range(7): goal.goal_pose[igp] = goal_pose[igp]\n",
    "    goal.goal_link = \"base_link\"\n",
    "    goal.timeout = 0.1\n",
    "    c_traj = clib.plan_compact(goal)\n",
    "    gtimer.toc(\"plan_compact\")\n",
    "    gtimer.tic(\"convert_trajectory\")\n",
    "    names, traj, succ = convert_trajectory(c_traj)\n",
    "    gtimer.toc(\"convert_trajectory\")\n",
    "print(gtimer)\n",
    "print(succ)"
   ]
  },
  {
   "cell_type": "code",
   "execution_count": null,
   "metadata": {},
   "outputs": [],
   "source": []
  }
 ],
 "metadata": {
  "kernelspec": {
   "display_name": "Python 2",
   "language": "python",
   "name": "python2"
  },
  "language_info": {
   "codemirror_mode": {
    "name": "ipython",
    "version": 2
   },
   "file_extension": ".py",
   "mimetype": "text/x-python",
   "name": "python",
   "nbconvert_exporter": "python",
   "pygments_lexer": "ipython2",
   "version": "2.7.17"
  }
 },
 "nbformat": 4,
 "nbformat_minor": 2
}
