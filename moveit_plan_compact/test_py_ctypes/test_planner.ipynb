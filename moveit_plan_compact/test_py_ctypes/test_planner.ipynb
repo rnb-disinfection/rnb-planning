{
 "cells": [
  {
   "cell_type": "code",
   "execution_count": 1,
   "metadata": {},
   "outputs": [],
   "source": [
    "import os\n",
    "import ctypes\n",
    "from gtimer import GlobalTimer\n",
    "from numpy.ctypeslib import ndpointer\n",
    "import numpy as np\n",
    "\n",
    "PLAN_LIB_PATH = \"../cmake-build-debug/libmoveit_plan_compact.so\"\n",
    "\n",
    "clib = ctypes.cdll.LoadLibrary(PLAN_LIB_PATH)\n",
    "MAX_STR_LEN = clib.get_max_str_len()\n",
    "MAX_NAME_LEN = clib.get_max_name_len()\n",
    "MAX_JOINT_NUM = clib.get_max_joint_num()\n",
    "MAX_TRAJ_LEN = clib.get_max_traj_len()\n",
    "\n",
    "class c_string(ctypes.Structure):\n",
    "    _fields_ = [(\"buffer\", ctypes.c_char*MAX_STR_LEN),\n",
    "                (\"len\", ctypes.c_int)\n",
    "                ]\n",
    "\n",
    "class c_trajectory(ctypes.Structure):\n",
    "    _fields_ = [(\"names_flt\", ctypes.c_char*(MAX_JOINT_NUM*MAX_NAME_LEN)),\n",
    "                (\"joints\", ctypes.c_double*(MAX_JOINT_NUM*MAX_TRAJ_LEN)),\n",
    "                (\"name_len\", ctypes.c_int),\n",
    "                (\"joint_count\", ctypes.c_int),\n",
    "                (\"joint_max\", ctypes.c_int),\n",
    "                (\"traj_len\", ctypes.c_int),\n",
    "                (\"success\", ctypes.c_bool)\n",
    "                ]\n",
    "\n",
    "class c_plan_goal(ctypes.Structure):\n",
    "    _fields_ = [(\"group_name\", ctypes.c_char*MAX_NAME_LEN),\n",
    "                (\"tool_link\", ctypes.c_char*MAX_NAME_LEN),\n",
    "                (\"goal_link\", ctypes.c_char*MAX_NAME_LEN),\n",
    "                (\"goal_pose\", ctypes.c_double*7)\n",
    "                ]\n",
    "\n",
    "clib.hello_cstr.restype = c_string\n",
    "clib.hello_char.restype = ndpointer(dtype=ctypes.c_char, shape=(MAX_STR_LEN,))\n",
    "clib.plan_compact.restype = c_trajectory\n",
    "clib.plan_compact.argtypes = [c_plan_goal]\n",
    "\n",
    "def convert_trajectory(traj):\n",
    "    names = traj.names_flt.split()\n",
    "    joints = []\n",
    "    for i_traj in range(traj.traj_len):\n",
    "        joints.append(traj.joints[i_traj*traj.joint_max:i_traj*traj.joint_max+traj.joint_count])\n",
    "    return names, np.array(joints), traj.success\n"
   ]
  },
  {
   "cell_type": "code",
   "execution_count": 2,
   "metadata": {},
   "outputs": [],
   "source": [
    "gtimer = GlobalTimer.instance()"
   ]
  },
  {
   "cell_type": "code",
   "execution_count": 3,
   "metadata": {},
   "outputs": [],
   "source": [
    "urdf_path = \"../test_assets/custom_robots.urdf\"\n",
    "srdf_path = \"../test_assets/custom_robots.srdf\"\n",
    "\n",
    "urdf_str = c_string()\n",
    "srdf_str = c_string()\n",
    "with open(urdf_path, 'r') as f:\n",
    "    while True:\n",
    "        line = f.readline()\n",
    "        urdf_str.buffer += line\n",
    "        if not line: break\n",
    "            \n",
    "urdf_str.buffer\n",
    "with open(srdf_path, 'r') as f:\n",
    "    while True:\n",
    "        line = f.readline()\n",
    "        srdf_str.buffer += line\n",
    "        if not line: break"
   ]
  },
  {
   "cell_type": "code",
   "execution_count": 4,
   "metadata": {},
   "outputs": [
    {
     "data": {
      "text/plain": [
       "94.99597549438477"
      ]
     },
     "execution_count": 4,
     "metadata": {},
     "output_type": "execute_result"
    }
   ],
   "source": [
    "gtimer.reset(1e3,'ms')\n",
    "gtimer.tic(\"init_ros\")\n",
    "clib.init_planner(urdf_str, srdf_str)\n",
    "gtimer.toc(\"init_ros\")"
   ]
  },
  {
   "cell_type": "code",
   "execution_count": 5,
   "metadata": {},
   "outputs": [
    {
     "name": "stdout",
     "output_type": "stream",
     "text": [
      "init_ros: \t95.0 ms/1 = 94.996 ms (94.996/94.996)\n",
      "plan_compact: \t242.0 ms/10 = 24.208 ms (18.136/39.187)\n",
      "convert_trajectory: \t0.0 ms/10 = 0.03 ms (0.027/0.044)\n",
      "\n"
     ]
    }
   ],
   "source": [
    "for _ in range(10):\n",
    "    gtimer.tic(\"plan_compact\")\n",
    "    goal = c_plan_goal()\n",
    "    goal.group_name = \"indy0\"\n",
    "    goal.tool_link = \"indy0_tcp\"\n",
    "    goal_pose = [-0.3, -0.2, 0.4, 0, 0, 0, 1]\n",
    "    for igp in range(7): goal.goal_pose[igp] = goal_pose[igp]\n",
    "    goal.goal_link = \"base_link\"\n",
    "    c_traj = clib.plan_compact(goal)\n",
    "    gtimer.toc(\"plan_compact\")\n",
    "    gtimer.tic(\"convert_trajectory\")\n",
    "    names, traj, succ = convert_trajectory(c_traj)\n",
    "    gtimer.toc(\"convert_trajectory\")\n",
    "print(gtimer)"
   ]
  },
  {
   "cell_type": "code",
   "execution_count": null,
   "metadata": {},
   "outputs": [],
   "source": []
  }
 ],
 "metadata": {
  "kernelspec": {
   "display_name": "Python 2",
   "language": "python",
   "name": "python2"
  },
  "language_info": {
   "codemirror_mode": {
    "name": "ipython",
    "version": 2
   },
   "file_extension": ".py",
   "mimetype": "text/x-python",
   "name": "python",
   "nbconvert_exporter": "python",
   "pygments_lexer": "ipython2",
   "version": "2.7.17"
  }
 },
 "nbformat": 4,
 "nbformat_minor": 2
}
