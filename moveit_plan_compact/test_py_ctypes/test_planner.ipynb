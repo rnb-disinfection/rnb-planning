{
 "cells": [
  {
   "cell_type": "code",
   "execution_count": 1,
   "metadata": {},
   "outputs": [],
   "source": [
    "import os\n",
    "import ctypes\n",
    "from gtimer import GlobalTimer\n",
    "from numpy.ctypeslib import ndpointer\n",
    "import numpy as np\n",
    "\n",
    "PLAN_LIB_PATH = \"../cmake-build-debug/libmoveit_plan_compact.so\"\n",
    "\n",
    "clib = ctypes.cdll.LoadLibrary(PLAN_LIB_PATH)\n",
    "MAX_STR_LEN = clib.get_max_str_len()\n",
    "MAX_NAME_LEN = clib.get_max_name_len()\n",
    "MAX_JOINT_NUM = clib.get_max_joint_num()\n",
    "MAX_TRAJ_LEN = clib.get_max_traj_len()\n",
    "\n",
    "class c_string(ctypes.Structure):\n",
    "    _fields_ = [(\"buffer\", ctypes.c_char*MAX_STR_LEN),\n",
    "                (\"len\", ctypes.c_int)\n",
    "                ]\n",
    "\n",
    "class c_trajectory(ctypes.Structure):\n",
    "    _fields_ = [(\"names_flt\", ctypes.c_char*(MAX_JOINT_NUM*MAX_NAME_LEN)),\n",
    "                (\"joints\", ctypes.c_double*(MAX_JOINT_NUM*MAX_TRAJ_LEN)),\n",
    "                (\"name_len\", ctypes.c_int),\n",
    "                (\"joint_count\", ctypes.c_int),\n",
    "                (\"joint_max\", ctypes.c_int),\n",
    "                (\"traj_len\", ctypes.c_int),\n",
    "                (\"success\", ctypes.c_bool)\n",
    "                ]\n",
    "\n",
    "clib.hello_cstr.restype = c_string\n",
    "clib.hello_char.restype = ndpointer(dtype=ctypes.c_char, shape=(MAX_STR_LEN,))\n",
    "clib.plan_compact.restype = c_trajectory\n",
    "\n",
    "def convert_trajectory(traj):\n",
    "    names = traj.names_flt.split()\n",
    "    joints = []\n",
    "    for i_traj in range(traj.traj_len):\n",
    "        joints.append(traj.joints[i_traj*traj.joint_max:i_traj*traj.joint_max+traj.joint_count])\n",
    "    return names, np.array(joints)\n"
   ]
  },
  {
   "cell_type": "code",
   "execution_count": 2,
   "metadata": {},
   "outputs": [],
   "source": [
    "gtimer = GlobalTimer.instance()"
   ]
  },
  {
   "cell_type": "code",
   "execution_count": 3,
   "metadata": {},
   "outputs": [],
   "source": [
    "urdf_path = \"../test_assets/custom_robots.urdf\"\n",
    "srdf_path = \"../test_assets/custom_robots.srdf\"\n",
    "\n",
    "urdf_str = c_string()\n",
    "srdf_str = c_string()\n",
    "with open(urdf_path, 'r') as f:\n",
    "    while True:\n",
    "        line = f.readline()\n",
    "        urdf_str.buffer += line\n",
    "        if not line: break\n",
    "            \n",
    "urdf_str.buffer\n",
    "with open(srdf_path, 'r') as f:\n",
    "    while True:\n",
    "        line = f.readline()\n",
    "        srdf_str.buffer += line\n",
    "        if not line: break"
   ]
  },
  {
   "cell_type": "code",
   "execution_count": 4,
   "metadata": {},
   "outputs": [
    {
     "data": {
      "text/plain": [
       "87.93997764587402"
      ]
     },
     "execution_count": 4,
     "metadata": {},
     "output_type": "execute_result"
    }
   ],
   "source": [
    "gtimer.reset(1e3,'ms')\n",
    "gtimer.tic(\"init_ros\")\n",
    "clib.init_planner(urdf_str, srdf_str)\n",
    "gtimer.toc(\"init_ros\")"
   ]
  },
  {
   "cell_type": "code",
   "execution_count": 7,
   "metadata": {},
   "outputs": [
    {
     "name": "stdout",
     "output_type": "stream",
     "text": [
      "init_ros: \t88.0 ms/1 = 87.94 ms (87.94/87.94)\n",
      "plan_compact: \t597.0 ms/20 = 29.845 ms (15.428/76.459)\n",
      "convert_trajectory: \t0.0 ms/11 = 0.036 ms (0.027/0.086)\n",
      "\n"
     ]
    }
   ],
   "source": [
    "for _ in range(10):\n",
    "    gtimer.tic(\"plan_compact\")\n",
    "    traj = clib.plan_compact()\n",
    "    gtimer.toc(\"plan_compact\")\n",
    "    gtimer.tic(\"convert_trajectory\")\n",
    "    convert_trajectory(traj)\n",
    "    gtimer.toc(\"convert_trajectory\")\n",
    "    pass\n",
    "print(gtimer)"
   ]
  },
  {
   "cell_type": "code",
   "execution_count": null,
   "metadata": {},
   "outputs": [],
   "source": []
  }
 ],
 "metadata": {
  "kernelspec": {
   "display_name": "Python 2",
   "language": "python",
   "name": "python2"
  },
  "language_info": {
   "codemirror_mode": {
    "name": "ipython",
    "version": 2
   },
   "file_extension": ".py",
   "mimetype": "text/x-python",
   "name": "python",
   "nbconvert_exporter": "python",
   "pygments_lexer": "ipython2",
   "version": "2.7.17"
  }
 },
 "nbformat": 4,
 "nbformat_minor": 2
}
