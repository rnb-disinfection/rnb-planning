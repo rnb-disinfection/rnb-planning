{
 "cells": [
  {
   "cell_type": "code",
   "execution_count": 1,
   "metadata": {},
   "outputs": [],
   "source": [
    "import os\n",
    "import ctypes\n",
    "from gtimer import GlobalTimer\n",
    "from numpy.ctypeslib import ndpointer"
   ]
  },
  {
   "cell_type": "code",
   "execution_count": 2,
   "metadata": {},
   "outputs": [],
   "source": [
    "gtimer = GlobalTimer.instance()"
   ]
  },
  {
   "cell_type": "code",
   "execution_count": 3,
   "metadata": {},
   "outputs": [],
   "source": [
    "clib = ctypes.cdll.LoadLibrary(\"../cmake-build-debug/libmoveit_plan_compact.so\")\n",
    "MAX_STR_LEN = clib.get_max_str_len()\n",
    "\n",
    "class c_string(ctypes.Structure):\n",
    "    _fields_ = [(\"buffer\", ctypes.c_char*MAX_STR_LEN),\n",
    "                (\"len\", ctypes.c_int)\n",
    "                ]\n",
    "clib.hello_cstr.restype = c_string\n",
    "clib.hello_char.restype = ndpointer(dtype=ctypes.c_char, shape=(MAX_STR_LEN,))"
   ]
  },
  {
   "cell_type": "code",
   "execution_count": 4,
   "metadata": {},
   "outputs": [
    {
     "name": "stdout",
     "output_type": "stream",
     "text": [
      "hello_cstr: \t3487830.0 us/1000000 = 3.488 us (2.861/820.16)\n",
      "hello_char: \t3262174.0 us/1000000 = 3.262 us (1.907/7102.013)\n",
      "\n"
     ]
    }
   ],
   "source": [
    "gtimer.reset(1e6,'us')\n",
    "for _ in range(int(1e6)):\n",
    "    gtimer.tic(\"hello_cstr\")\n",
    "    ans = clib.hello_cstr()\n",
    "    gtimer.toc(\"hello_cstr\")\n",
    "    gtimer.tic(\"hello_char\")\n",
    "    ans = clib.hello_char()\n",
    "    gtimer.toc(\"hello_char\")\n",
    "    pass\n",
    "print(gtimer)"
   ]
  },
  {
   "cell_type": "code",
   "execution_count": null,
   "metadata": {},
   "outputs": [],
   "source": []
  }
 ],
 "metadata": {
  "kernelspec": {
   "display_name": "Python 2",
   "language": "python",
   "name": "python2"
  },
  "language_info": {
   "codemirror_mode": {
    "name": "ipython",
    "version": 2
   },
   "file_extension": ".py",
   "mimetype": "text/x-python",
   "name": "python",
   "nbconvert_exporter": "python",
   "pygments_lexer": "ipython2",
   "version": "2.7.17"
  }
 },
 "nbformat": 4,
 "nbformat_minor": 2
}
