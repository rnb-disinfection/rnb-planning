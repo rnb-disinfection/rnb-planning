{
 "cells": [
  {
   "cell_type": "markdown",
   "metadata": {},
   "source": [
    "# An example of using the python eTaSL driver in a python notebook"
   ]
  },
  {
   "cell_type": "code",
   "execution_count": null,
   "metadata": {},
   "outputs": [],
   "source": [
    "import numpy as np\n",
    "import matplotlib.pyplot as plt\n",
    "import pandas as pd\n",
    "from IPython.display import HTML\n",
    "%matplotlib inline\n",
    "%load_ext autoreload\n",
    "%autoreload 2"
   ]
  },
  {
   "cell_type": "markdown",
   "metadata": {},
   "source": [
    "## 1. eTaSL definition\n",
    "\n",
    "We start by defining the KUKA LWR robot in eTaSL specification string.  Here a manual definition is chosen in order\n",
    "to have a self-contained example; as an alternative, an URDF-file could be loaded. We define\n",
    "a Lua/eTaSL function specifying the robot:"
   ]
  },
  {
   "cell_type": "code",
   "execution_count": null,
   "metadata": {},
   "outputs": [],
   "source": [
    "etasl1 = \"\"\"\n",
    "require(\"context\")\n",
    "require(\"geometric\")\n",
    "\n",
    "\n",
    "function define_robot_LWR(ctx,name,base, vel)\n",
    "    if name == nil then\n",
    "        name = \"\"\n",
    "    end\n",
    "    if #name~=0 then\n",
    "        name = name .. \":\"\n",
    "    end\n",
    "    local L1 = constant(0.310)\n",
    "    local L2 = constant(0.4)\n",
    "    local L3 = constant(0.390)\n",
    "    local L4 = constant(0.078)\n",
    "    q1=Variable{context=ctx, name=\"q1\", vartype=\"robot\"}\n",
    "    q2=Variable{context=ctx, name=\"q2\", vartype=\"robot\"}\n",
    "    q3=Variable{context=ctx, name=\"q3\", vartype=\"robot\"}\n",
    "    q4=Variable{context=ctx, name=\"q4\", vartype=\"robot\"}\n",
    "    q5=Variable{context=ctx, name=\"q5\", vartype=\"robot\"}\n",
    "    q6=Variable{context=ctx, name=\"q6\", vartype=\"robot\"}\n",
    "    q7=Variable{context=ctx, name=\"q7\", vartype=\"robot\"}\n",
    "    robot = {}\n",
    "    robot.elbow = cached(base * rotate_z(q1) * translate_z(L1) * rotate_x(q2) * rotate_z(q3) * translate_z(L2) * rotate_x(q4))\n",
    "    robot.wrist = cached(robot.elbow * rotate_z(q5) * translate_z(L3))\n",
    "    robot.ee    = cached(robot.wrist * rotate_x(q6) * rotate_z(q7) * translate_z(L4))\n",
    "\n",
    "    robot.q1=q1\n",
    "    robot.q2=q2\n",
    "    robot.q3=q3\n",
    "    robot.q4=q4\n",
    "    robot.q5=q5\n",
    "    robot.q6=q6\n",
    "    robot.q7=q7\n",
    "\n",
    "    BoxConstraint{context=ctx, var_name=\"q1\", lower=-vel , upper=vel }\n",
    "    BoxConstraint{context=ctx, var_name=\"q2\", lower=-vel , upper=vel }\n",
    "    BoxConstraint{context=ctx, var_name=\"q3\", lower=-vel , upper=vel }\n",
    "    BoxConstraint{context=ctx, var_name=\"q4\", lower=-vel , upper=vel }\n",
    "    BoxConstraint{context=ctx, var_name=\"q5\", lower=-vel , upper=vel }\n",
    "    BoxConstraint{context=ctx, var_name=\"q6\", lower=-vel , upper=vel }\n",
    "    BoxConstraint{context=ctx, var_name=\"q7\", lower=-vel , upper=vel }\n",
    "    return robot\n",
    "end\n",
    "\"\"\";\n",
    "\n"
   ]
  },
  {
   "cell_type": "markdown",
   "metadata": {},
   "source": [
    "The specification describes a robot that follows a given trajectory.  This trajectory is given\n",
    "as an input (**tgt_x**, **tgt_y**, **tgt_z**) that comes \n",
    "from outside the controller.\n",
    "\n",
    "To demonstrate the use of feature variables, a feature variable **f1** is introduced.  (This example is a bit artificial)"
   ]
  },
  {
   "cell_type": "code",
   "execution_count": null,
   "metadata": {},
   "outputs": [],
   "source": [
    "etasl2 = \"\"\"\n",
    "tgt_x = ctx:createInputChannelScalar(\"tgt_x\",0.7)\n",
    "tgt_y = ctx:createInputChannelScalar(\"tgt_y\",0)\n",
    "tgt_z = ctx:createInputChannelScalar(\"tgt_z\",0.7)\n",
    "\n",
    "-- joint velocity limits:\n",
    "--vel=0.1  -- try this\n",
    "vel =  0.5\n",
    "r = define_robot_LWR(ctx,\"\",frame(constant(Vector(0,0,0))), vel)\n",
    "\n",
    "f1=Variable{context=ctx, name=\"f1\", vartype=\"feature\"}\n",
    "\n",
    "\n",
    "Constraint{\n",
    "    context=ctx,\n",
    "    name=\"x\",\n",
    "    expr = tgt_x - coord_x(origin(robot.ee)),\n",
    "    priority = 2,\n",
    "    K        = 4\n",
    "}\n",
    "\n",
    "Constraint{\n",
    "    context=ctx,\n",
    "    name=\"y\",\n",
    "    expr = tgt_y - coord_y(origin(robot.ee)),\n",
    "    priority = 2,\n",
    "    K        = 4\n",
    "}\n",
    "\n",
    "Constraint{\n",
    "    context=ctx,\n",
    "    name=\"z\",\n",
    "    expr = tgt_z - coord_z(origin(robot.ee)),\n",
    "    priority = 2,\n",
    "    K        = 4\n",
    "}\n",
    "\n",
    "Constraint{\n",
    "    context=ctx,\n",
    "    name=\"f\",\n",
    "    expr = f1 - tgt_y,\n",
    "    priority = 2,\n",
    "    K        = 1,\n",
    "    weight   = 0.01\n",
    "}\n",
    "ctx:setOutputExpression(\"ee_x\",coord_x(origin(robot.ee)))\n",
    "ctx:setOutputExpression(\"ee_y\",coord_y(origin(robot.ee)))\n",
    "ctx:setOutputExpression(\"ee_z\",coord_z(origin(robot.ee)))\n",
    "\n",
    "\"\"\";\n",
    "\n"
   ]
  },
  {
   "cell_type": "code",
   "execution_count": null,
   "metadata": {},
   "outputs": [],
   "source": [
    "etaslspec=etasl1+etasl2"
   ]
  },
  {
   "cell_type": "markdown",
   "metadata": {},
   "source": [
    "# Simulating the eTaSL controller using the low-level eTaSL driver"
   ]
  },
  {
   "cell_type": "code",
   "execution_count": null,
   "metadata": {},
   "outputs": [],
   "source": [
    "T=20\n",
    "dt=0.01\n",
    "df = pd.DataFrame()\n",
    "df['time'] = np.arange(0,T,dt)\n",
    "df['tgt_x']= 0\n",
    "df['tgt_y']= np.sin(df['time'])*0.15-0.7\n",
    "df['tgt_z']= 0.3\n",
    "# the full table in HTML: \n",
    "# HTML(df.style.set_precision(3).render())\n",
    "\n",
    "# the first 5 lines:\n",
    "df.head()"
   ]
  },
  {
   "cell_type": "code",
   "execution_count": null,
   "metadata": {},
   "outputs": [],
   "source": []
  },
  {
   "cell_type": "markdown",
   "metadata": {},
   "source": [
    "## 2. Simulating the eTaSL controller using the python eTaSL driver"
   ]
  },
  {
   "cell_type": "markdown",
   "metadata": {},
   "source": [
    "### 2.1 Define the inputs to the controller"
   ]
  },
  {
   "cell_type": "code",
   "execution_count": null,
   "metadata": {},
   "outputs": [],
   "source": [
    "# define the time period for simulation:\n",
    "T    = 20\n",
    "dt   = 0.01\n",
    "time = np.arange(0,T,dt)\n",
    "\n",
    "# define INPUT (and its time derivative)\n",
    "INP_LBL = ['tgt_x','tgt_y','tgt_z']  # corresponds to eTaSL definition\n",
    "INP      = np.zeros((len(time),3))\n",
    "INP[:,0] = time*0\n",
    "INP[:,1] = np.sin(time)*0.15 - 0.7\n",
    "INP[:,2] = time*0 + 0.3\n",
    "\n",
    "INPVEL   = np.zeros((len(time),3))\n",
    "INPVEL[:,0] = time*0\n",
    "INPVEL[:,1] = np.cos(time)*0.15\n",
    "INPVEL[:,2] = time*0\n"
   ]
  },
  {
   "cell_type": "markdown",
   "metadata": {},
   "source": [
    "### 2.2 define the state (both robot- and feature variables) and output arrays\n",
    "\n",
    "These are the arrays that will contain the history of the state variables for both robot- and feature variables, and the output."
   ]
  },
  {
   "cell_type": "code",
   "execution_count": null,
   "metadata": {},
   "outputs": [],
   "source": [
    "# robot variables:\n",
    "J_LBL = ['q1','q2','q3','q4','q5','q6','q7']\n",
    "JPOS     = np.zeros((len(time),7))\n",
    "JVEL     = np.zeros((len(time),7))\n",
    "\n",
    "# feature variables:\n",
    "F_LBL = ['f1']\n",
    "FPOS  = np.zeros((len(time),1))\n",
    "FVEL  = np.zeros((len(time),1))\n",
    "\n",
    "# output expressions:\n",
    "OUTP_LBL = ['global.ee_x','global.ee_y','global.ee_z']\n",
    "OUTP     = np.zeros((len(time),3))\n"
   ]
  },
  {
   "cell_type": "code",
   "execution_count": null,
   "metadata": {},
   "outputs": [],
   "source": []
  },
  {
   "cell_type": "code",
   "execution_count": null,
   "metadata": {},
   "outputs": [],
   "source": [
    "from etasl_py.etasl import  etasl,to_rad,to_deg,integrate,array_to_dict,dict_to_array\n",
    "import math\n",
    "import numpy as np\n",
    "\n",
    "\n",
    "e = etasl(nWSR=300, cputime=10, regularization_factor=1E-3)\n",
    "e.readTaskSpecificationString(etaslspec)\n",
    "initial_jpos = to_rad({'q1':0, 'q2':30,'q3':0,'q4':60,'q5':0,'q6':90,'q7':0})\n",
    "\n",
    "e.initialize(initial_jpos,max_time=3,time_step=0.05,convergence_crit=1E-4)\n",
    "jpos = initial_jpos\n",
    "\n",
    "jpos[\"time\"] = time[0] \n",
    "\n",
    "i =0\n",
    "fpos     = {'f1':0.0}\n",
    "while True:\n",
    "    e.setInput(array_to_dict(INP[i,:],INP_LBL))\n",
    "    e.setInputVelocity(array_to_dict(INPVEL[i,:],INP_LBL))\n",
    "    \n",
    "    e.setJointPos(jpos)\n",
    "    e.setJointPos(fpos)\n",
    "    e.solve()\n",
    "    jvel = e.getJointVel(1)\n",
    "    fvel = e.getJointVel(2)\n",
    "    jpos = integrate(jpos, jvel, dt)\n",
    "    fpos = integrate(fpos, fvel, dt)\n",
    "    outp = e.getOutput()\n",
    "    OUTP[i,:] = dict_to_array(outp, OUTP_LBL)\n",
    "\n",
    "    JPOS[i,:] = dict_to_array(jpos, J_LBL)\n",
    "    JVEL[i,:] = dict_to_array(jvel, J_LBL)\n",
    "    FPOS[i,:] = dict_to_array(fpos, F_LBL)\n",
    "    FVEL[i,:] = dict_to_array(fvel, F_LBL)\n",
    "    i    = i + 1\n",
    "    if i >= len(time):\n",
    "        break\n",
    "    #print(outp)\n",
    "    "
   ]
  },
  {
   "cell_type": "markdown",
   "metadata": {},
   "source": [
    "### Plot the result of the simulation:"
   ]
  },
  {
   "cell_type": "code",
   "execution_count": null,
   "metadata": {},
   "outputs": [],
   "source": [
    "import matplotlib.pyplot as plt\n",
    "\n",
    "plt.figure(1,figsize=(14,4))\n",
    "plt.subplot(1,2,1)\n",
    "plt.plot(time,JPOS*180.0/np.pi)\n",
    "plt.title('joint positions [DEG]')\n",
    "plt.xlabel(\"time [s]\")\n",
    "\n",
    "plt.subplot(1,2,2)\n",
    "plt.plot(time,JVEL)\n",
    "plt.title('joint velocities [RAD/s]')\n",
    "plt.xlabel(\"time [s]\")\n",
    "\n",
    "plt.figure(2)\n",
    "plt.plot(time,OUTP,'b')\n",
    "plt.plot(time,INP,'r')\n",
    "plt.title('end effector and target position')\n",
    "plt.xlabel(\"time [s]\")\n",
    "\n",
    "\n",
    "plt.figure(3)\n",
    "plt.plot(time,FPOS)\n",
    "plt.title('feature variables')\n",
    "plt.xlabel(\"time [s]\")\n",
    "\n",
    "\n",
    "\n",
    "plt.figure(4)\n",
    "plt.plot(time,OUTP-INP)\n",
    "plt.title('control error')\n",
    "plt.xlabel(\"time [s]\")\n",
    "#plt.ylim(-1E-3,1E-3)\n",
    "plt.show()"
   ]
  },
  {
   "cell_type": "code",
   "execution_count": null,
   "metadata": {},
   "outputs": [],
   "source": []
  },
  {
   "cell_type": "code",
   "execution_count": null,
   "metadata": {},
   "outputs": [],
   "source": []
  }
 ],
 "metadata": {
  "kernelspec": {
   "display_name": "Python 2",
   "language": "python",
   "name": "python2"
  },
  "language_info": {
   "codemirror_mode": {
    "name": "ipython",
    "version": 2
   },
   "file_extension": ".py",
   "mimetype": "text/x-python",
   "name": "python",
   "nbconvert_exporter": "python",
   "pygments_lexer": "ipython2",
   "version": "2.7.12"
  }
 },
 "nbformat": 4,
 "nbformat_minor": 2
}
