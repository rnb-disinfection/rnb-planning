{
 "cells": [
  {
   "cell_type": "markdown",
   "metadata": {},
   "source": [
    "# An example of using the python eTaSL driver in a python notebook"
   ]
  },
  {
   "cell_type": "code",
   "execution_count": null,
   "metadata": {},
   "outputs": [],
   "source": [
    "%matplotlib inline\n",
    "import numpy as np\n",
    "import matplotlib.pyplot as plt\n",
    "import pandas as pd\n",
    "from IPython.display import HTML\n"
   ]
  },
  {
   "cell_type": "code",
   "execution_count": null,
   "metadata": {},
   "outputs": [],
   "source": [
    "# change the width of the notebook:\n",
    "from IPython.core.display import display, HTML\n",
    "display(HTML(\"<style>.container { width:95% !important; }</style>\"))"
   ]
  },
  {
   "cell_type": "markdown",
   "metadata": {},
   "source": [
    "# Simulating the eTaSL controller using the high-level eTaSL driver"
   ]
  },
  {
   "cell_type": "code",
   "execution_count": null,
   "metadata": {},
   "outputs": [],
   "source": [
    "from etasl_py.etasl import etasl_simulator,array_to_dict,dict_to_array,to_deg, to_rad\n",
    "e = etasl_simulator(regularization_factor= 0.00001)\n",
    "e.readTaskSpecificationFile(\"etasl_robot_ur10.lua\")\n",
    "e.readTaskSpecificationFile(\"etasl_simple_task.lua\")\n",
    "\n",
    "pos_lbl = ['shoulder_pan_joint','shoulder_lift_joint', 'elbow_joint', \n",
    "           'wrist_1_joint', 'wrist_2_joint',  'wrist_3_joint', 'f1']\n",
    "initial_jpos = np.array([0, -np.pi*0.6 , np.pi*0.6,0,0,0,0])\n",
    "\n",
    "\n",
    "\n",
    "N=4000\n",
    "dt=0.005\n",
    "time = np.arange(0,N)*dt\n",
    "inp_lbl=['tgt_x','tgt_y','tgt_z']\n",
    "inp=np.zeros((N, len(inp_lbl)))\n",
    "inp[:,0] = np.sin(time)*0.15 + 0.7\n",
    "inp[:,1] = time*0\n",
    "inp[:,2] = time*0 + 0.3\n",
    "inpvel = np.zeros((N, len(inp_lbl)))\n",
    "inpvel[:,0] = np.cos(time)*0.15\n",
    "inpvel[:,1] = time*0\n",
    "inpvel[:,2] = time*0\n",
    "\n",
    "e.setInputTable(inp_lbl,inp,inpvel)\n",
    "e.initialize(initial_jpos, pos_lbl)\n",
    "e.simulate(N=N,dt=dt)"
   ]
  },
  {
   "cell_type": "markdown",
   "metadata": {},
   "source": [
    "# Plotting (using the Bokeh library to provide interactive plots)"
   ]
  },
  {
   "cell_type": "markdown",
   "metadata": {},
   "source": [
    "Library can also be used to generate an HTML file for the plots"
   ]
  },
  {
   "cell_type": "code",
   "execution_count": null,
   "metadata": {},
   "outputs": [],
   "source": [
    "from bokeh.plotting import figure, output_file, show, output_notebook\n",
    "from bokeh.layouts import gridplot\n",
    "output_notebook()\n",
    "\n",
    "TOOLTIPS = [\n",
    "    (\"(time,value)\", \"($x, $y)\")\n",
    "]\n",
    "\n",
    "p = figure(plot_width=400, plot_height=400, tooltips=TOOLTIPS,\n",
    "           title=\"Mouse over the dots\")\n",
    "\n",
    "print(\"joint positions : \")\n",
    "print(e.POS_LBL)\n",
    "p=[]\n",
    "for i in range(0,e.POS.shape[1]):\n",
    "    f = figure(x_axis_label='time [s]', \n",
    "            y_axis_label= e.POS_LBL[i],     \n",
    "            tooltips=TOOLTIPS,\n",
    "            tools = \"pan,wheel_zoom,box_zoom,hover,save,reset\")\n",
    "    if i==0:\n",
    "        fx=f.x_range\n",
    "    else:\n",
    "        f.x_range=fx\n",
    "    f.line(e.TIME, e.POS[:,i], line_width=2)\n",
    "    p.append(f)\n",
    "\n",
    "pg = gridplot( [[ p[0], p[1], p[2],p[3] ],[ p[4], p[5], p[6], None]], \n",
    "            plot_width=380, plot_height=250,\n",
    "            tools = \"pan,wheel_zoom,box_zoom,hover,save,reset\" ) \n",
    "show(pg)\n",
    "\n",
    "print(\"joint velocities : \")\n",
    "print(e.POS_LBL)\n",
    "p=[]\n",
    "for i in range(0,e.POS.shape[1]):\n",
    "    f = figure(x_axis_label='time [s]', \n",
    "            y_axis_label= \"velocity of \"+e.POS_LBL[i],    \n",
    "            tooltips=TOOLTIPS,\n",
    "            tools = \"pan,wheel_zoom,box_zoom,hover,save,reset\")\n",
    "    if i==0:\n",
    "        fx=f.x_range\n",
    "    else:\n",
    "        f.x_range=fx\n",
    "    f.line(e.TIME, e.VEL[:,i], line_width=2)\n",
    "    p.append(f)\n",
    "\n",
    "pg = gridplot( [[ p[0], p[1], p[2],p[3] ],[ p[4], p[5], p[6], None]], \n",
    "            plot_width=380, plot_height=250,\n",
    "            tools = \"pan,wheel_zoom,box_zoom,hover,save,reset\" ) \n",
    "show(pg)\n",
    "\n",
    "print(\"error:\")\n",
    "\n",
    "pw=500\n",
    "ph=400\n",
    "# output to static HTML file\n",
    "\n",
    "p1 = figure(x_axis_label='time', \n",
    "            y_axis_label= \"error x\",\n",
    "            plot_width=pw,\n",
    "            plot_height=ph)\n",
    "p1.line(e.TIME, e.OUTP[:,0] - e.INP[:,0], line_width=2)\n",
    "\n",
    "p2 = figure(x_axis_label='time', \n",
    "            y_axis_label= \"error y\",\n",
    "            plot_width=pw,\n",
    "            plot_height=ph,\n",
    "            x_range = p1.x_range)\n",
    "p2.line(e.TIME, e.OUTP[:,1] - e.INP[:,1], line_width=2)\n",
    "\n",
    "p3 = figure(x_axis_label='time', \n",
    "            y_axis_label= \"error z\",\n",
    "            plot_width=pw,\n",
    "            plot_height=ph,\n",
    "            x_range = p1.x_range)\n",
    "p3.line(e.TIME, e.OUTP[:,2] - e.INP[:,2], line_width=2)\n",
    "\n",
    "pg = gridplot( [ [p1,p2, p3 ] ])    \n",
    "show(pg)"
   ]
  },
  {
   "cell_type": "markdown",
   "metadata": {},
   "source": [
    "# Using matplotlib"
   ]
  },
  {
   "cell_type": "code",
   "execution_count": null,
   "metadata": {},
   "outputs": [],
   "source": [
    "plotw=24\n",
    "w=4;h=2\n",
    "plt.figure(figsize=(plotw,9))\n",
    "for i in range(e.POS.shape[1]):\n",
    "    ax=plt.subplot(h,w,i+1)\n",
    "    ax.plot(e.TIME, e.POS[:,i]*180.0/np.pi)\n",
    "    plt.ylabel(e.POS_LBL[i] +\" [deg]\")\n",
    "    plt.xlabel('time [s]')\n",
    "    \n",
    "w=4;h=2\n",
    "plt.figure(figsize=(plotw,9))\n",
    "for i in range(e.VEL.shape[1]):\n",
    "    ax=plt.subplot(h,w,i+1)\n",
    "    ax.plot(e.TIME, e.VEL[:,i])\n",
    "    plt.ylabel(e.POS_LBL[i] +\" [rad/s]\")\n",
    "    plt.xlabel('time [s]')\n",
    "\n",
    "w=4;h=1;\n",
    "plt.figure(figsize=(plotw,4))\n",
    "for i in range(e.INP.shape[1]):\n",
    "    plt.subplot(h,w,i+1)\n",
    "    plt.plot(e.TIME, e.INP[:,i])\n",
    "    plt.ylabel(e.INP_LBL[i])\n",
    "    plt.xlabel('time [s]')\n",
    "    \n",
    "w=4;h=1;\n",
    "plt.figure(figsize=(plotw,4))\n",
    "for i in range(e.OUTP.shape[1]):\n",
    "    plt.subplot(h,w,i+1)\n",
    "    plt.plot(e.TIME, e.OUTP[:,i])\n",
    "    plt.ylabel(e.OUTP_LBL[i])\n",
    "    plt.xlabel('time [s]')    \n",
    "    \n",
    "    \n",
    "plt.figure(figsize=(plotw,4))\n",
    "plt.subplot(1,3,1)\n",
    "plt.plot(e.TIME, e.OUTP[:,0] - e.INP[:,0])\n",
    "plt.xlabel('time [s]')\n",
    "plt.ylabel('error x')\n",
    "\n",
    "plt.subplot(1,3,2)\n",
    "plt.plot(e.TIME, e.OUTP[:,1] - e.INP[:,1])\n",
    "plt.xlabel('time [s]')\n",
    "plt.ylabel('error y')\n",
    "\n",
    "plt.subplot(1,3,3)\n",
    "plt.plot(e.TIME, e.OUTP[:,2] - e.INP[:,2])\n",
    "plt.xlabel('time [s]')\n",
    "plt.ylabel('error z')"
   ]
  },
  {
   "cell_type": "code",
   "execution_count": null,
   "metadata": {},
   "outputs": [],
   "source": []
  }
 ],
 "metadata": {
  "kernelspec": {
   "display_name": "Python 2",
   "language": "python",
   "name": "python2"
  },
  "language_info": {
   "codemirror_mode": {
    "name": "ipython",
    "version": 2
   },
   "file_extension": ".py",
   "mimetype": "text/x-python",
   "name": "python",
   "nbconvert_exporter": "python",
   "pygments_lexer": "ipython2",
   "version": "2.7.12"
  }
 },
 "nbformat": 4,
 "nbformat_minor": 2
}
