{
 "cells": [
  {
   "cell_type": "markdown",
   "metadata": {},
   "source": [
    "# An example of using etasl_simulator\n",
    "\n",
    "This notebook provides the same as the etasl-example_1.ipynb notebook, but only keeps the functional code and leaves out all explanation. Can be used as a template for your own experiments."
   ]
  },
  {
   "cell_type": "code",
   "execution_count": null,
   "metadata": {},
   "outputs": [],
   "source": [
    "%matplotlib inline\n",
    "import numpy as np\n",
    "import matplotlib.pyplot as plt\n",
    "import pandas as pd"
   ]
  },
  {
   "cell_type": "markdown",
   "metadata": {},
   "source": [
    "# Simulating the eTaSL controller using the high-level eTaSL driver\n",
    "\n",
    "Import all the necessary classes and functions from the etasl_py.etasl python module:"
   ]
  },
  {
   "cell_type": "code",
   "execution_count": null,
   "metadata": {},
   "outputs": [],
   "source": [
    "from etasl_py.etasl import etasl_simulator,array_to_dict,dict_to_array,to_deg, to_rad\n",
    "e = etasl_simulator(regularization_factor= 0.00001)\n",
    "e.readTaskSpecificationFile(\"etasl_robot_ur10.lua\")\n",
    "e.readTaskSpecificationFile(\"etasl_simple_task.lua\")\n",
    "pos_lbl = ['shoulder_pan_joint','shoulder_lift_joint', 'elbow_joint', \n",
    "           'wrist_1_joint', 'wrist_2_joint',  'wrist_3_joint', 'f1']\n",
    "initial_jpos = np.array([0, -np.pi*0.6 , np.pi*0.6,0,0,0,0])\n",
    "N=4000\n",
    "dt=0.005\n",
    "time = np.arange(0,N)*dt\n",
    "inp_lbl=['tgt_x','tgt_y','tgt_z']\n",
    "inp=np.zeros((N, len(inp_lbl)))\n",
    "inp[:,0] = np.sin(time)*0.15 + 0.7\n",
    "inp[:,1] = time*0\n",
    "inp[:,2] = time*0 + 0.3\n",
    "inpvel = np.zeros((N, len(inp_lbl)))\n",
    "inpvel[:,0] = np.cos(time)*0.15\n",
    "inpvel[:,1] = time*0\n",
    "inpvel[:,2] = time*0\n",
    "e.setInputTable(inp_lbl,inp,inpvel)\n",
    "e.initialize(initial_jpos, pos_lbl)\n",
    "e.simulate(N=N,dt=dt)"
   ]
  },
  {
   "cell_type": "markdown",
   "metadata": {},
   "source": [
    "# Plotting (using the Bokeh library to provide interactive plots)"
   ]
  },
  {
   "cell_type": "code",
   "execution_count": null,
   "metadata": {},
   "outputs": [],
   "source": [
    "from bokeh.plotting import figure, output_file, show, output_notebook\n",
    "from bokeh.layouts import gridplot\n",
    "output_notebook()\n",
    "\n",
    "def plotv(TIME,VAR, VAR_LBL, plotw=450,ploth=250, ncols=2, tooltip=\"$x : $y\"):\n",
    "    p=[]\n",
    "    for i in range(0,VAR.shape[1]):\n",
    "        f = figure(x_axis_label='time [s]', \n",
    "                y_axis_label= VAR_LBL[i],     \n",
    "                tooltips=tooltip)\n",
    "        if i==0:\n",
    "            fx=f.x_range\n",
    "        else:\n",
    "            f.x_range=fx\n",
    "        f.line(TIME, VAR[:,i], line_width=2)\n",
    "        p.append(f)\n",
    "\n",
    "    pg = gridplot( p, ncols=ncols , plot_width=plotw, plot_height=ploth) \n",
    "    show(pg)\n",
    "\n",
    "plotv(e.TIME,e.POS,e.POS_LBL)\n",
    "plotv(e.TIME,e.VEL,e.POS_LBL)\n",
    "\n",
    "plotw=450\n",
    "ploth=250\n",
    "ncols=2\n",
    "\n",
    "p1 = figure(x_axis_label='time', \n",
    "            y_axis_label= \"error x\", tooltips=\"$x : $y\")\n",
    "p1.line(e.TIME, e.OUTP[:,0] - e.INP[:,0], line_width=2)\n",
    "\n",
    "p2 = figure(x_axis_label='time', \n",
    "            y_axis_label= \"error y\", tooltips=\"$x : $y\",\n",
    "            x_range = p1.x_range)\n",
    "p2.line(e.TIME, e.OUTP[:,1] - e.INP[:,1], line_width=2)\n",
    "\n",
    "p3 = figure(x_axis_label='time', \n",
    "            y_axis_label= \"error z\", tooltips=\"$x : $y\",\n",
    "            x_range = p1.x_range)\n",
    "p3.line(e.TIME, e.OUTP[:,2] - e.INP[:,2], line_width=2)\n",
    "\n",
    "pg = gridplot(  [p1,p2, p3], plot_width=plotw, plot_height=ploth, ncols=ncols)    \n",
    "show(pg)"
   ]
  },
  {
   "cell_type": "code",
   "execution_count": null,
   "metadata": {},
   "outputs": [],
   "source": []
  }
 ],
 "metadata": {
  "kernelspec": {
   "display_name": "Python 2",
   "language": "python",
   "name": "python2"
  },
  "language_info": {
   "codemirror_mode": {
    "name": "ipython",
    "version": 2
   },
   "file_extension": ".py",
   "mimetype": "text/x-python",
   "name": "python",
   "nbconvert_exporter": "python",
   "pygments_lexer": "ipython2",
   "version": "2.7.12"
  }
 },
 "nbformat": 4,
 "nbformat_minor": 2
}
