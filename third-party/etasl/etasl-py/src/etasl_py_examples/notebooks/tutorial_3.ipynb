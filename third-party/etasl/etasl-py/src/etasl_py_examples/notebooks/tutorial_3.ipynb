{
 "cells": [
  {
   "cell_type": "markdown",
   "metadata": {},
   "source": [
    "# Tutorial 3\n",
    "\n",
    "We use the same example as tutorial 2, but with an internally generated trajectory."
   ]
  },
  {
   "cell_type": "code",
   "execution_count": null,
   "metadata": {},
   "outputs": [],
   "source": [
    "%matplotlib inline\n",
    "import numpy as np"
   ]
  },
  {
   "cell_type": "code",
   "execution_count": null,
   "metadata": {},
   "outputs": [],
   "source": [
    "from IPython.core.display import display, HTML\n",
    "display(HTML(\"<style>.container { width:80% !important; } </style>\"))"
   ]
  },
  {
   "cell_type": "markdown",
   "metadata": {},
   "source": [
    "We do not use an input channel, but we create the trajectory directly inside eTaSL.  This can be very handy, because a trajectory generation component does not need to be synchronized with the eTaSL component.  Another advantage is that the derivative of the trajectory does not need to be manually computed.\n",
    "For example, the input channels can be used to communicate some parameters of the motion (such as end pose, max. velocity, etc...).  Since trajectories needs to start from the current pose, the following eTaSL function can be useful:\n",
    "\n",
    "    initial_value( time,  expr)\n",
    "        \n",
    "            returns the value of expr that occurred when time was 0. (in other words, \n",
    "            the expression is evaluated once when time <=0; after that the value is fixed.\n",
    "\n",
    "In the case here, the two frequencies for the Lissajous figure are communicated from outside the eTaSL component.  This example does not use `initial_value`"
   ]
  },
  {
   "cell_type": "code",
   "execution_count": null,
   "metadata": {},
   "outputs": [],
   "source": [
    "from etasl_py.etasl import etasl_simulator,array_to_dict,dict_to_array,to_deg, to_rad\n",
    "e = etasl_simulator(regularization_factor= 0.0000001)\n",
    "\n",
    "e.readTaskSpecificationString(\"\"\"\n",
    "    require(\"context\")\n",
    "    require(\"geometric\")\n",
    "    local u=UrdfExpr();\n",
    "    local fn = rospack_find(\"etasl_py_examples\")..\"/robots/ur10_robot.urdf\"\n",
    "    u:readFromFile(fn)\n",
    "    u:addTransform(\"ee\",\"tool0\",\"base_link\")\n",
    "    local r = u:getExpressions(ctx)\n",
    "    ee = r.ee\n",
    "    robot_jname={\"shoulder_pan_joint\",\"shoulder_lift_joint\",\"elbow_joint\",\"wrist_1_joint\",\"wrist_2_joint\",\"wrist_3_joint\"}\n",
    "    robot_jval = {}\n",
    "    for i=1,#robot_jname do\n",
    "       robot_jval[i]   = ctx:getScalarExpr(robot_jname[i])\n",
    "    end\n",
    "\"\"\")\n",
    "\n",
    "e.readTaskSpecificationString(\"\"\" \n",
    "\n",
    "    f1 = ctx:createInputChannelScalar(\"f1\",0)\n",
    "    f2 = ctx:createInputChannelScalar(\"f2\",0)\n",
    "\n",
    "    tgt_x = sin(f1*time)*0.15 + 0.7\n",
    "    tgt_y = sin(f2*time)*0.1 +0.4\n",
    "    tgt_z = 0\n",
    "\n",
    "    d = Variable{context=ctx, name=\"d\", vartype=\"feature\"}\n",
    "\n",
    "\n",
    "    Constraint{\n",
    "        context=ctx,\n",
    "        name=\"laserdistance\",\n",
    "        expr=d,\n",
    "        target_lower = 0.3,\n",
    "        target_upper = 0.45,\n",
    "        K = 4\n",
    "    }\n",
    "\n",
    "\n",
    "    laserspot = ee*vector(0,0,d)\n",
    "\n",
    "    Constraint{\n",
    "        context=ctx,\n",
    "        name=\"x\",\n",
    "        expr = tgt_x - coord_x(laserspot),\n",
    "        priority = 2,\n",
    "        K        = 4\n",
    "    }\n",
    "    Constraint{\n",
    "        context=ctx,\n",
    "        name=\"y\",\n",
    "        expr = tgt_y - coord_y(laserspot),\n",
    "        priority = 2,\n",
    "        K        = 4\n",
    "    }\n",
    "    Constraint{\n",
    "        context=ctx,\n",
    "        name=\"z\",\n",
    "        expr = tgt_z - coord_z(laserspot),\n",
    "        priority = 2,\n",
    "        K        = 4\n",
    "    }\n",
    "\n",
    "    ctx:setOutputExpression(\"error_x\",coord_x(laserspot)-tgt_x)\n",
    "    ctx:setOutputExpression(\"error_y\",coord_y(laserspot)-tgt_y)\n",
    "    ctx:setOutputExpression(\"error_z\",coord_z(laserspot)-tgt_z)\n",
    "    ctx:setOutputExpression(\"laser_x\",coord_x(laserspot))\n",
    "    ctx:setOutputExpression(\"laser_y\",coord_y(laserspot))\n",
    "    ctx:setOutputExpression(\"laser_z\",coord_z(laserspot))\n",
    "    \n",
    "\"\"\")"
   ]
  },
  {
   "cell_type": "markdown",
   "metadata": {},
   "source": [
    "The simulator class can also handle input that is not given as a matrix with a row for each time step.\n",
    "It can also handle a list input of input variables that are set once.\n"
   ]
  },
  {
   "cell_type": "code",
   "execution_count": null,
   "metadata": {},
   "outputs": [],
   "source": [
    "\n",
    "pos_lbl = ['shoulder_pan_joint','shoulder_lift_joint', 'elbow_joint', \n",
    "           'wrist_1_joint', 'wrist_2_joint',  'wrist_3_joint','d']\n",
    "initial_jpos = np.array([0, -np.pi*0.6 , np.pi*0.6,-2.0,-np.pi*0.5,0.1,0.1])\n",
    "\n",
    "N=4000\n",
    "dt=0.005\n",
    "\n",
    "time = np.arange(0,N)*dt\n",
    "inp_lbl=['f1','f2']\n",
    "inp=[1, 2.5]\n",
    "e.setInputTable(inp_lbl,inp)\n",
    "\n",
    "e.initialize(initial_jpos, pos_lbl)\n",
    "e.simulate(N=N,dt=dt)"
   ]
  },
  {
   "cell_type": "markdown",
   "metadata": {},
   "source": [
    "# Plotting (using the Bokeh library to provide interactive plots)"
   ]
  },
  {
   "cell_type": "code",
   "execution_count": null,
   "metadata": {},
   "outputs": [],
   "source": [
    "from bokeh.plotting import figure, show, output_notebook\n",
    "from bokeh.layouts import gridplot\n",
    "from etasl_py.bokehplots import plotv, append_units\n",
    "\n",
    "output_notebook()\n",
    "print(\"positions : \")\n",
    "plotv(e.TIME,e.POS, append_units(e.POS_LBL,[\" [rad]\"]*6 + [\" [m]\"]) )\n",
    "print(\"velocities : \")\n",
    "plotv(e.TIME,e.VEL, append_units(e.POS_LBL,[\" [rad/s]\"]*6 + [\" [m/s]\"]))\n",
    "print(\"control errors : \")\n",
    "plotv(e.TIME,e.OUTP[:,0:3],append_units(e.OUTP_LBL[0:3],\" [m]\"))"
   ]
  },
  {
   "cell_type": "code",
   "execution_count": null,
   "metadata": {},
   "outputs": [],
   "source": [
    "f = figure(x_axis_label='x[m]', \n",
    "                y_axis_label= 'y[m]',plot_width=800, plot_height=400 )\n",
    "#f.line(e.INP[:,0],e.INP[:,1], line_width=2,color='red')\n",
    "f.line(e.OUTP[:,3],e.OUTP[:,4], line_width=1)\n",
    "show(f)"
   ]
  },
  {
   "cell_type": "code",
   "execution_count": null,
   "metadata": {},
   "outputs": [],
   "source": []
  },
  {
   "cell_type": "code",
   "execution_count": null,
   "metadata": {},
   "outputs": [],
   "source": []
  }
 ],
 "metadata": {
  "kernelspec": {
   "display_name": "Python 2",
   "language": "python",
   "name": "python2"
  },
  "language_info": {
   "codemirror_mode": {
    "name": "ipython",
    "version": 2
   },
   "file_extension": ".py",
   "mimetype": "text/x-python",
   "name": "python",
   "nbconvert_exporter": "python",
   "pygments_lexer": "ipython2",
   "version": "2.7.17"
  }
 },
 "nbformat": 4,
 "nbformat_minor": 2
}
