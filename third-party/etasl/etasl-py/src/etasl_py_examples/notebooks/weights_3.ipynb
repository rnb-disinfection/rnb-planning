{
 "cells": [
  {
   "cell_type": "markdown",
   "metadata": {},
   "source": [
    "# Weighted constraints\n",
    "## Exploring the exact conditions for optimal feedforward\n",
    "\n",
    "This notebook shows an (artificial) case where the feedforward is not properly generated: $\\frac{\\partial^2 e}{\\partial q_i \\partial t} \\neq 0$, and for some i, j : $  ~ J_i \\neq J_j $.\n",
    "\n",
    "The case is however to complicated to give an explicit expression for the resulting robot trajectory.  Ttherefore we compare the case with low gain and feedforward to the case with high gain and no feedforward (due to the changing weights).\n"
   ]
  },
  {
   "cell_type": "code",
   "execution_count": null,
   "metadata": {},
   "outputs": [],
   "source": [
    "%matplotlib inline\n",
    "import numpy as np\n",
    "from etasl_py.etasl import etasl_simulator,array_to_dict,dict_to_array,to_deg, to_rad\n",
    "from bokeh.plotting import figure, show, output_notebook\n",
    "from bokeh.layouts import gridplot\n",
    "from etasl_py.bokehplots import plotv, append_units\n",
    "\n",
    "output_notebook()"
   ]
  },
  {
   "cell_type": "code",
   "execution_count": null,
   "metadata": {},
   "outputs": [],
   "source": [
    "from IPython.core.display import display, HTML\n",
    "display(HTML(\"<style>.container { width:80% !important; } </style>\"))"
   ]
  },
  {
   "cell_type": "markdown",
   "metadata": {},
   "source": [
    "## Constraints that cause the non-optimal feed-forward\n",
    "\n",
    "The task definition is split up in three parts.  The first part contains the robot defintion:"
   ]
  },
  {
   "cell_type": "code",
   "execution_count": null,
   "metadata": {},
   "outputs": [],
   "source": [
    "etasl_robot=\"\"\"\n",
    "    require(\"context\")\n",
    "    require(\"geometric\")\n",
    "    -- Robot:\n",
    "    local u=UrdfExpr();\n",
    "    local fn = rospack_find(\"etasl_py_examples\")..\"/robots/ur10_robot.urdf\"\n",
    "    u:readFromFile(fn)\n",
    "    u:addTransform(\"ee\",\"tool0\",\"base_link\")\n",
    "    local r = u:getExpressions(ctx)\n",
    "    ee = r.ee\n",
    "    robot_jname={\"shoulder_pan_joint\",\"shoulder_lift_joint\",\"elbow_joint\",\"wrist_1_joint\",\"wrist_2_joint\",\"wrist_3_joint\"}\n",
    "    robot_jval = {}\n",
    "    for i=1,#robot_jname do\n",
    "       robot_jval[i]   = ctx:getScalarExpr(robot_jname[i])\n",
    "    end\n",
    "\"\"\""
   ]
  },
  {
   "cell_type": "markdown",
   "metadata": {},
   "source": [
    "The next part contains the trajectories (tgt_x,tgt1_y,tgt_z) and (tgt_x,tgt2_y,tgt_z).  It  is relatively low at $2 s^{-1}$."
   ]
  },
  {
   "cell_type": "code",
   "execution_count": null,
   "metadata": {},
   "outputs": [],
   "source": [
    "etasl_traj1 = \"\"\"\n",
    "    -- Task:\n",
    "    control_gain = 2\n",
    "    tgt_x  = sin(time)*0.15 + 0.7\n",
    "    tgt_z  = 0\n",
    "    tgt1_y = sin(2.5*time)*0.1 +0.4\n",
    "    tgt2_y = sin(2*time)*0.1 + 0.1\n",
    "    w1 = 1-sin(0.5*time)*0.8\n",
    "    w2 = 1+cos(0.5*time)*0.9\n",
    "    \n",
    "\"\"\""
   ]
  },
  {
   "cell_type": "markdown",
   "metadata": {},
   "source": [
    "The last part contains the task definition (the similar as the previous definitions a laserspot following a trajectory, but with some\n",
    "time dependent modification to the constraint using 'tgt2_y')."
   ]
  },
  {
   "cell_type": "code",
   "execution_count": null,
   "metadata": {},
   "outputs": [],
   "source": [
    "etasl_cnstr = \"\"\"\n",
    "    d = Variable{context=ctx, name=\"d\", vartype=\"feature\"}\n",
    "\n",
    "    Constraint{\n",
    "        context=ctx,\n",
    "        name=\"laserdistance\",\n",
    "        expr=d,\n",
    "        target_lower = 0.3,\n",
    "        target_upper = 0.45,\n",
    "        K = control_gain\n",
    "    }\n",
    "\n",
    "    laserspot = ee*vector(0,0,d)\n",
    "\n",
    "    Constraint{\n",
    "        context=ctx,\n",
    "        name=\"x\",\n",
    "        expr = tgt_x - coord_x(laserspot),\n",
    "        priority = 2,\n",
    "        K        = control_gain\n",
    "    }\n",
    "    Constraint{\n",
    "        context=ctx,\n",
    "        name=\"z\",\n",
    "        expr = tgt_z - coord_z(laserspot),\n",
    "        priority = 2,\n",
    "        K        = control_gain\n",
    "    }\n",
    "    \n",
    "    -- conflicting constraints : \n",
    "    Constraint{\n",
    "        context=ctx,\n",
    "        name=\"y\",\n",
    "        expr = (tgt1_y - coord_y(laserspot)),\n",
    "        priority = 2,\n",
    "        K        = control_gain,\n",
    "        weight   = w1\n",
    "    }\n",
    "    Constraint{\n",
    "        context=ctx,\n",
    "        name=\"y\",\n",
    "        expr = (tgt2_y - (1+0.5*sin(2*time))*coord_y(laserspot)),\n",
    "        priority = 2,\n",
    "        K        = control_gain,\n",
    "        weight   = w2\n",
    "    }    \n",
    "    -- Output:\n",
    "    ctx:setOutputExpression(\"error_x\",coord_x(laserspot)-tgt_x)\n",
    "    ctx:setOutputExpression(\"tgt1_y\",tgt1_y)\n",
    "    ctx:setOutputExpression(\"tgt2_y\",tgt2_y)\n",
    "    ctx:setOutputExpression(\"w1\",w1)\n",
    "    ctx:setOutputExpression(\"w2\",w2)\n",
    "    ctx:setOutputExpression(\"y\",coord_y(laserspot))    \n",
    "\"\"\"\n"
   ]
  },
  {
   "cell_type": "markdown",
   "metadata": {},
   "source": [
    "We run the simulation with a high frequency ($1000 Hz$ ) because later on, we want to run the simulation with a very high control gain."
   ]
  },
  {
   "cell_type": "code",
   "execution_count": null,
   "metadata": {},
   "outputs": [],
   "source": [
    "e1 = etasl_simulator(regularization_factor= 1E-9)\n",
    "e1.readTaskSpecificationString(etasl_robot + etasl_traj1 + etasl_cnstr)\n",
    "\n",
    "pos_lbl = ['shoulder_pan_joint','shoulder_lift_joint', 'elbow_joint', \n",
    "           'wrist_1_joint', 'wrist_2_joint',  'wrist_3_joint','d']\n",
    "initial_jpos = np.array([0, -np.pi*0.6 , np.pi*0.6,-2.0,-np.pi*0.5,0.1,0.1])\n",
    "N=20000\n",
    "dt=0.001\n",
    "\n",
    "e1.initialize(initial_jpos, pos_lbl)\n",
    "e1.simulate(N=N,dt=dt)"
   ]
  },
  {
   "cell_type": "markdown",
   "metadata": {},
   "source": [
    "After the simulation, we present the results using Bokeh.  This task specification results in fast, but not yet unrealisticly fast, motions."
   ]
  },
  {
   "cell_type": "code",
   "execution_count": null,
   "metadata": {},
   "outputs": [],
   "source": [
    "plotv(e1.TIME, e1.OUTP, append_units(e1.OUTP_LBL[0:3],\" [m]\")+[\"w1\",\"w2\",\"y [m]\"], ncols=3,plotw=400,ploth=250)"
   ]
  },
  {
   "cell_type": "markdown",
   "metadata": {},
   "source": [
    "To check whether there is a tracking error, we compare to the same specification, but with a extremely high control gain (only possible in simulation), and with the feedforward mechanism for changing weights disabled (using `make_constant`)"
   ]
  },
  {
   "cell_type": "code",
   "execution_count": null,
   "metadata": {},
   "outputs": [],
   "source": [
    "etasl_traj2=\"\"\"\n",
    "    -- Task:\n",
    "    control_gain = 400\n",
    "    tgt_x  = sin(time)*0.15 + 0.7\n",
    "    tgt_z  = 0\n",
    "    tgt1_y = sin(2.5*time)*0.1 +0.4\n",
    "    tgt2_y = sin(2*time)*0.1 + 0.1\n",
    "    w1 = make_constant(1-sin(0.5*time)*0.8)\n",
    "    w2 = make_constant(1+cos(0.5*time)*0.9)\n",
    "\"\"\""
   ]
  },
  {
   "cell_type": "markdown",
   "metadata": {},
   "source": [
    "We run a simulation with the same part for the robot `etasl_robot` and the constraints `etasl_cnstr` as before:"
   ]
  },
  {
   "cell_type": "code",
   "execution_count": null,
   "metadata": {},
   "outputs": [],
   "source": [
    "e2 = etasl_simulator(regularization_factor= 1e-9)\n",
    "e2.readTaskSpecificationString(etasl_robot + etasl_traj2 + etasl_cnstr)\n",
    "e2.initialize(initial_jpos, pos_lbl)\n",
    "e2.simulate(N=N,dt=dt)"
   ]
  },
  {
   "cell_type": "code",
   "execution_count": null,
   "metadata": {},
   "outputs": [],
   "source": [
    "print(\"control errors : \")\n",
    "plotv(e2.TIME, e2.OUTP, append_units(e2.OUTP_LBL[0:3],\" [m]\")+[\"w1\",\"w2\",\"y [m]\"], ncols=3,plotw=400,ploth=250)"
   ]
  },
  {
   "cell_type": "markdown",
   "metadata": {},
   "source": [
    "We can now compare the results of both simulations and see whether this results in a tracking error:"
   ]
  },
  {
   "cell_type": "code",
   "execution_count": null,
   "metadata": {},
   "outputs": [],
   "source": [
    "plotv(e2.TIME,e2.OUTP[:,5:6]-e1.OUTP[:,5:6],[\"difference [m]\"],ncols=2,plotw=800,ploth=350)"
   ]
  },
  {
   "cell_type": "markdown",
   "metadata": {},
   "source": [
    "And indeed this leeds to a (still relatively small) **tracking error**."
   ]
  },
  {
   "cell_type": "code",
   "execution_count": null,
   "metadata": {},
   "outputs": [],
   "source": []
  }
 ],
 "metadata": {
  "kernelspec": {
   "display_name": "Python 2",
   "language": "python",
   "name": "python2"
  },
  "language_info": {
   "codemirror_mode": {
    "name": "ipython",
    "version": 2
   },
   "file_extension": ".py",
   "mimetype": "text/x-python",
   "name": "python",
   "nbconvert_exporter": "python",
   "pygments_lexer": "ipython2",
   "version": "2.7.12"
  }
 },
 "nbformat": 4,
 "nbformat_minor": 2
}
