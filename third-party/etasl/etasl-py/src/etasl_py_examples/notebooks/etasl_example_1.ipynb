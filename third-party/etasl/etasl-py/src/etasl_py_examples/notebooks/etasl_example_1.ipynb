{
 "cells": [
  {
   "cell_type": "markdown",
   "metadata": {},
   "source": [
    "# An example of using etasl_simulator"
   ]
  },
  {
   "cell_type": "code",
   "execution_count": null,
   "metadata": {},
   "outputs": [],
   "source": [
    "%matplotlib inline\n",
    "import numpy as np\n",
    "import matplotlib.pyplot as plt\n",
    "import pandas as pd\n",
    "from IPython.display import HTML\n"
   ]
  },
  {
   "cell_type": "code",
   "execution_count": null,
   "metadata": {},
   "outputs": [],
   "source": [
    "# to change the width of the notebook, you can uncomment the following:\n",
    "#from IPython.core.display import display, HTML\n",
    "#display(HTML(\"<style>.container { width:95% !important; } </style>\"))"
   ]
  },
  {
   "cell_type": "markdown",
   "metadata": {},
   "source": [
    "# Simulating the eTaSL controller using the high-level eTaSL driver\n",
    "\n",
    "Import all the necessary classes and functions from the etasl_py.etasl python module:"
   ]
  },
  {
   "cell_type": "code",
   "execution_count": null,
   "metadata": {},
   "outputs": [],
   "source": [
    "from etasl_py.etasl import etasl_simulator,array_to_dict,dict_to_array,to_deg, to_rad"
   ]
  },
  {
   "cell_type": "markdown",
   "metadata": {},
   "source": [
    "Create a etasl_simulator object. This is a helper class for (more) easy simulation of eTaSL specifications.\n",
    "There is also a lower-level interface.\n",
    "\n",
    "The constructor is defined as follows:\n",
    "\n",
    "def __init__(self, \n",
    "                nWSR                  = 300,\n",
    "                cputime               = 1000,\n",
    "                regularization_factor = 1E-4\n",
    "            ):\n",
    "            \n",
    "    creates an etasl_simulator object\n",
    "\n",
    "    input parameters:\n",
    "        nMWSR :  number of iterations of the underlying QP-solver\n",
    "        cputime: maximum CPU time to spend on solver one time-step\n",
    "        regularization_factor :  regularization to be used during the\n",
    "                                 optimization.  The weight of the joint/feature\n",
    "                                 variable velocities compared to the weight of the\n",
    "                                 constraints."
   ]
  },
  {
   "cell_type": "code",
   "execution_count": null,
   "metadata": {},
   "outputs": [],
   "source": [
    "e = etasl_simulator(regularization_factor= 0.00001)"
   ]
  },
  {
   "cell_type": "markdown",
   "metadata": {},
   "source": [
    "The first think you do with this simulator object is to read in some eTaSL definitions.  We have split up the definition\n",
    "of the task and the definition of the robot:"
   ]
  },
  {
   "cell_type": "code",
   "execution_count": null,
   "metadata": {},
   "outputs": [],
   "source": [
    "e.readTaskSpecificationFile(\"etasl_robot_ur10.lua\")\n",
    "e.readTaskSpecificationFile(\"etasl_simple_task.lua\")"
   ]
  },
  {
   "cell_type": "markdown",
   "metadata": {},
   "source": [
    "Next, we define the **initial value** for the joint variables **and** their **prefered order** in the output of this\n",
    "simulator object.  We can specify both robot joint variables and feature variables.  If variables are not specified,\n",
    "their order will arbitrary (but after the specified variables) and their initial value will correspond to the initial value given in the eTaSL specification file\n",
    "(usually ==0)"
   ]
  },
  {
   "cell_type": "code",
   "execution_count": null,
   "metadata": {},
   "outputs": [],
   "source": [
    "pos_lbl = ['shoulder_pan_joint','shoulder_lift_joint', 'elbow_joint', \n",
    "           'wrist_1_joint', 'wrist_2_joint',  'wrist_3_joint', 'f1']\n",
    "initial_jpos = np.array([0, -np.pi*0.6 , np.pi*0.6,0,0,0,0])"
   ]
  },
  {
   "cell_type": "markdown",
   "metadata": {},
   "source": [
    "We define some parameters for the simulation.  The number $N$ of simulation steps to execute and the sample period $dt$."
   ]
  },
  {
   "cell_type": "code",
   "execution_count": null,
   "metadata": {},
   "outputs": [],
   "source": [
    "N=4000\n",
    "dt=0.005"
   ]
  },
  {
   "cell_type": "markdown",
   "metadata": {},
   "source": [
    "We use these values to define the input of our eTaSL controller (as a numpy array). We then pass\n",
    "this input to the etasl_simulator object, while also specifying the labels, such that the etasl_simulator\n",
    "knows which columns correspond to which input channel.\n",
    "\n",
    "We do this using **SetInputTable**, which has the following signature:\n",
    "\n",
    "    def setInputTable(inp_lbl, inp, inpvel)\n",
    "    \n",
    "where *inp_lbl* corresponds to the labels of the columns, *inp* corresponds to the value of the input signal,\n",
    "and the optional *inpvel* correspond to the **partial** derivatives towards time of the input signal. "
   ]
  },
  {
   "cell_type": "code",
   "execution_count": null,
   "metadata": {},
   "outputs": [],
   "source": [
    "\n",
    "time = np.arange(0,N)*dt\n",
    "inp_lbl=['tgt_x','tgt_y','tgt_z']\n",
    "inp=np.zeros((N, len(inp_lbl)))\n",
    "inp[:,0] = np.sin(time)*0.15 + 0.7\n",
    "inp[:,1] = time*0\n",
    "inp[:,2] = time*0 + 0.3\n",
    "inpvel = np.zeros((N, len(inp_lbl)))\n",
    "inpvel[:,0] = np.cos(time)*0.15\n",
    "inpvel[:,1] = time*0\n",
    "inpvel[:,2] = time*0\n",
    "\n",
    "e.setInputTable(inp_lbl,inp,inpvel)"
   ]
  },
  {
   "cell_type": "markdown",
   "metadata": {},
   "source": [
    "During an *initialisation phase*, consistent values for the feature variables are computed.  This is done with the\n",
    "*initialize* method, with the following signature:\n",
    "    def **initialize**(self,initialval, initial_lbl, max_time, time_step, convergence_crit):\n",
    "\n",
    "     Initializes the controller and performs an optimization to compute an optimal start value \n",
    "     for the feature variables.\n",
    "\n",
    "     Performs the following tasks in this order:\n",
    "        1) prepares the solver for the initialization problem\n",
    "        2) initializes the state (robot/feature names, values and velocities)\n",
    "        3) sets the initial value for robot/feature variables \n",
    "        4) performs an optimization to compute an optimal start value \n",
    "           for the feature variables (only taking into account the constraints with priority==0)\n",
    "        5) prepares the solver for the exuction problem and solves one step\n",
    "           (such that next steps are all hot-starts)\n",
    "\n",
    "     Args:\n",
    "        initialval:           value of robot- and feature variables you \n",
    "                              want to initialize (before initialization optimization)\n",
    "                              (if not specified, the initial value of the specification\n",
    "                               is used.)\n",
    "        initial_lbl:          labels belonging the initial value array.\n",
    "        initialization_time:  max. (virtual) time to use for initialization\n",
    "        sample_time:          (virtual) sample time to use for the initialization\n",
    "        convergence_crit:     convergence criterion used to stop the initialization early.\n",
    "    Warning:\n",
    "        - initializes time to 0, you can overwrite this in the initialval map.\n",
    "        - robot variables remain identical as specified after this method call.\n",
    "        - feature variables can be changed after this method call (if they are involved\n",
    "          in the initialization optimization). \n",
    "\n",
    "     Returns:\n",
    "        convergedval:         variable to return the converged values for joint and \n",
    "                              feature variables.     "
   ]
  },
  {
   "cell_type": "code",
   "execution_count": null,
   "metadata": {},
   "outputs": [],
   "source": [
    "e.initialize(initial_jpos, pos_lbl)"
   ]
  },
  {
   "cell_type": "markdown",
   "metadata": {},
   "source": [
    "The last step executes the simulation with $N$ steps and sample period $dt$:"
   ]
  },
  {
   "cell_type": "code",
   "execution_count": null,
   "metadata": {},
   "outputs": [],
   "source": [
    "e.simulate(N=N,dt=dt)"
   ]
  },
  {
   "cell_type": "markdown",
   "metadata": {},
   "source": [
    "# Plotting (using the Bokeh library to provide interactive plots)"
   ]
  },
  {
   "cell_type": "markdown",
   "metadata": {},
   "source": [
    "Plotting using the Bokeh library (instead of matplotlib); Bokeh can also be used to generate an HTML file for interactive plots that can be used on a (static) website."
   ]
  },
  {
   "cell_type": "code",
   "execution_count": null,
   "metadata": {},
   "outputs": [],
   "source": [
    "from bokeh.plotting import figure, output_file, show, output_notebook\n",
    "from bokeh.layouts import gridplot\n",
    "output_notebook()"
   ]
  },
  {
   "cell_type": "markdown",
   "metadata": {},
   "source": [
    "Defining a simple function for plotting using the Bokeh library (allowing interactive plots):"
   ]
  },
  {
   "cell_type": "code",
   "execution_count": null,
   "metadata": {},
   "outputs": [],
   "source": [
    "def plotv(TIME,VAR, VAR_LBL, plotw=450,ploth=250, ncols=2, tooltip=\"$x : $y\"):\n",
    "    p=[]\n",
    "    for i in range(0,VAR.shape[1]):\n",
    "        f = figure(x_axis_label='time [s]', \n",
    "                y_axis_label= VAR_LBL[i],     \n",
    "                tooltips=tooltip)\n",
    "        if i==0:\n",
    "            fx=f.x_range\n",
    "        else:\n",
    "            f.x_range=fx\n",
    "        f.line(TIME, VAR[:,i], line_width=2)\n",
    "        p.append(f)\n",
    "\n",
    "    pg = gridplot( p, ncols=ncols , plot_width=plotw, plot_height=ploth) \n",
    "    show(pg)"
   ]
  },
  {
   "cell_type": "markdown",
   "metadata": {},
   "source": [
    "Plotting the **joint/feature positions** :"
   ]
  },
  {
   "cell_type": "code",
   "execution_count": null,
   "metadata": {},
   "outputs": [],
   "source": [
    "plotv(e.TIME,e.POS,e.POS_LBL)"
   ]
  },
  {
   "cell_type": "markdown",
   "metadata": {},
   "source": [
    "Plotting the **joint/feature velocities**:"
   ]
  },
  {
   "cell_type": "code",
   "execution_count": null,
   "metadata": {},
   "outputs": [],
   "source": [
    "plotv(e.TIME,e.VEL,e.POS_LBL)"
   ]
  },
  {
   "cell_type": "markdown",
   "metadata": {},
   "source": [
    "And plotting **the tracking errors**:"
   ]
  },
  {
   "cell_type": "code",
   "execution_count": null,
   "metadata": {},
   "outputs": [],
   "source": [
    "plotw=450\n",
    "ploth=250\n",
    "ncols=2\n",
    "\n",
    "p1 = figure(x_axis_label='time', \n",
    "            y_axis_label= \"error x\", tooltips=\"$x : $y\")\n",
    "p1.line(e.TIME, e.OUTP[:,0] - e.INP[:,0], line_width=2)\n",
    "\n",
    "p2 = figure(x_axis_label='time', \n",
    "            y_axis_label= \"error y\", tooltips=\"$x : $y\",\n",
    "            x_range = p1.x_range)\n",
    "p2.line(e.TIME, e.OUTP[:,1] - e.INP[:,1], line_width=2)\n",
    "\n",
    "p3 = figure(x_axis_label='time', \n",
    "            y_axis_label= \"error z\", tooltips=\"$x : $y\",\n",
    "            x_range = p1.x_range)\n",
    "p3.line(e.TIME, e.OUTP[:,2] - e.INP[:,2], line_width=2)\n",
    "\n",
    "pg = gridplot(  [p1,p2, p3], plot_width=plotw, plot_height=ploth, ncols=ncols)    \n",
    "show(pg)"
   ]
  }
 ],
 "metadata": {
  "kernelspec": {
   "display_name": "Python 2",
   "language": "python",
   "name": "python2"
  },
  "language_info": {
   "codemirror_mode": {
    "name": "ipython",
    "version": 2
   },
   "file_extension": ".py",
   "mimetype": "text/x-python",
   "name": "python",
   "nbconvert_exporter": "python",
   "pygments_lexer": "ipython2",
   "version": "2.7.12"
  }
 },
 "nbformat": 4,
 "nbformat_minor": 2
}
