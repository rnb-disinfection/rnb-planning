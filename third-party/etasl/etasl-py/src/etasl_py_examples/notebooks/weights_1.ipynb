{
 "cells": [
  {
   "cell_type": "markdown",
   "metadata": {},
   "source": [
    "# Weighted constraints\n",
    "We use the same robot definition as in Tutorial 1,2 and 3, ander further adapt the task in tutorial 3 to use conflicting weighted constraints."
   ]
  },
  {
   "cell_type": "code",
   "execution_count": null,
   "metadata": {},
   "outputs": [],
   "source": [
    "%matplotlib inline\n",
    "import numpy as np\n",
    "from etasl_py.etasl import etasl_simulator,array_to_dict,dict_to_array,to_deg, to_rad\n",
    "from bokeh.plotting import figure, show, output_notebook\n",
    "from bokeh.layouts import gridplot\n",
    "from etasl_py.bokehplots import plotv, append_units\n",
    "\n",
    "output_notebook()"
   ]
  },
  {
   "cell_type": "code",
   "execution_count": null,
   "metadata": {},
   "outputs": [],
   "source": [
    "from IPython.core.display import display, HTML\n",
    "display(HTML(\"<style>.container { width:80% !important; } </style>\"))"
   ]
  },
  {
   "cell_type": "markdown",
   "metadata": {},
   "source": [
    "We use the same example as in tutorial 2, adapted with weighted constraints.  Instead of using externally generated trajectories, we use internal generated trajectories, we put constraints for the end effector to reach two trajectories 1 and 2.  In this artificial example, the two trajectories `tgt1_y` and `tgt2_y` consists of sine waves and an offset.  The weight for the constraints on this trajectories also evolves with a (slower) sine wave.\n",
    "\n",
    "In this first example, we disable the mechanism for feedforward on changing weights by using `make_constant()` on the weights. We also define as an output expression the weighted sum of the control errors.  This should evolve towards 0.\n",
    "\n",
    "The control gain is an input of the eTaSL specification such that we can run experiments with different control gains without having to adapt the eTaSL specification. This is an example where eTaSL inputs are used for parameters (instead of an input trajectory).  If you only set an input once, it is kept at that value, until a new input arrives."
   ]
  },
  {
   "cell_type": "code",
   "execution_count": null,
   "metadata": {},
   "outputs": [],
   "source": [
    "\n",
    "etaslspec1 = \"\"\"\n",
    "    require(\"context\")\n",
    "    require(\"geometric\")\n",
    "    -- Robot:\n",
    "    local u=UrdfExpr();\n",
    "    local fn = rospack_find(\"etasl_py_examples\")..\"/robots/ur10_robot.urdf\"\n",
    "    u:readFromFile(fn)\n",
    "    u:addTransform(\"ee\",\"tool0\",\"base_link\")\n",
    "    local r = u:getExpressions(ctx)\n",
    "    ee = r.ee\n",
    "    robot_jname={\"shoulder_pan_joint\",\"shoulder_lift_joint\",\"elbow_joint\",\"wrist_1_joint\",\"wrist_2_joint\",\"wrist_3_joint\"}\n",
    "    robot_jval = {}\n",
    "    for i=1,#robot_jname do\n",
    "       robot_jval[i]   = ctx:getScalarExpr(robot_jname[i])\n",
    "    end\n",
    "\n",
    "    -- Task:\n",
    "    control_gain = ctx:createInputChannelScalar(\"control_gain\",0)\n",
    "    tgt_x  = sin(time)*0.15 + 0.7\n",
    "    tgt_z  = 0   \n",
    "    tgt1_y = sin(2.5*time)*0.1 +0.4\n",
    "    tgt2_y = 0\n",
    "    w1 = 1-sin(0.5*time)*0.8\n",
    "    w2 = 1+cos(0.5*time)*0.9    \n",
    "    d = Variable{context=ctx, name=\"d\", vartype=\"feature\"}\n",
    "\n",
    "    Constraint{\n",
    "        context=ctx,\n",
    "        name=\"laserdistance\",\n",
    "        expr=d,\n",
    "        target_lower = 0.3,\n",
    "        target_upper = 0.45,\n",
    "        K = control_gain\n",
    "    }\n",
    "\n",
    "    laserspot = ee*vector(0,0,d)\n",
    "\n",
    "    Constraint{\n",
    "        context=ctx,\n",
    "        name=\"x\",\n",
    "        expr = tgt_x - coord_x(laserspot),\n",
    "        priority = 2,\n",
    "        K        = control_gain\n",
    "    }\n",
    "    Constraint{\n",
    "        context=ctx,\n",
    "        name=\"z\",\n",
    "        expr = tgt_z - coord_z(laserspot),\n",
    "        priority = 2,\n",
    "        K        = control_gain\n",
    "    }\n",
    "    \n",
    "    -- conflicting constraints : \n",
    "    Constraint{\n",
    "        context=ctx,\n",
    "        name=\"y\",\n",
    "        expr = (tgt1_y - coord_y(laserspot)),\n",
    "        priority = 2,\n",
    "        K        = control_gain,\n",
    "        weight   = make_constant(w1)\n",
    "    }\n",
    "    Constraint{\n",
    "        context=ctx,\n",
    "        name=\"y\",\n",
    "        expr = (tgt2_y - coord_y(laserspot)),\n",
    "        priority = 2,\n",
    "        K        = control_gain,\n",
    "        weight   = make_constant(w2)\n",
    "    }    \n",
    "    \n",
    "    ctx:setOutputExpression(\"error_x\",coord_x(laserspot)-tgt_x)\n",
    "    ctx:setOutputExpression(\"error_y1\",coord_y(laserspot)-tgt1_y)\n",
    "    ctx:setOutputExpression(\"error_y2\",coord_y(laserspot)-tgt2_y)\n",
    "    ctx:setOutputExpression(\"error_y_weighted\",w1*(coord_y(laserspot)-tgt1_y) + w2*(coord_y(laserspot)-tgt2_y) ) \n",
    "    ctx:setOutputExpression(\"error_z\",coord_z(laserspot)-tgt_z)   \n",
    "\"\"\";"
   ]
  },
  {
   "cell_type": "markdown",
   "metadata": {},
   "source": [
    "We now run a simulation at $200 Hz$ for a duration of $20 s$.  We choose a (low) control gain of $ 2 s^{-1}$."
   ]
  },
  {
   "cell_type": "code",
   "execution_count": null,
   "metadata": {},
   "outputs": [],
   "source": [
    "pos_lbl = ['shoulder_pan_joint','shoulder_lift_joint', 'elbow_joint', \n",
    "           'wrist_1_joint', 'wrist_2_joint',  'wrist_3_joint','d']\n",
    "initial_jpos = np.array([0, -np.pi*0.6 , np.pi*0.6,-2.0,-np.pi*0.5,0.1,0.1])\n",
    "N=4000\n",
    "dt=0.005\n",
    "\n",
    "e = etasl_simulator(regularization_factor= 0.0000001)\n",
    "e.readTaskSpecificationString(etaslspec1);\n",
    "\n",
    "inp_lbl=['control_gain']\n",
    "inp=[4]\n",
    "e.setInputTable(inp_lbl,inp)\n",
    "\n",
    "e.initialize(initial_jpos, pos_lbl)\n",
    "e.simulate(N=N,dt=dt)"
   ]
  },
  {
   "cell_type": "markdown",
   "metadata": {},
   "source": [
    "Plotting (using the Bokeh library to provide interactive plots) :"
   ]
  },
  {
   "cell_type": "code",
   "execution_count": null,
   "metadata": {},
   "outputs": [],
   "source": [
    "print(\"positions : \")\n",
    "plotv(e.TIME,e.POS, append_units(e.POS_LBL,[\" [rad]\"]*6 + [\" [m]\"]),ncols=4,plotw=300 )\n",
    "print(\"velocities : \")\n",
    "plotv(e.TIME,e.VEL, append_units(e.POS_LBL,[\" [rad/s]\"]*6 + [\" [m/s]\"]),ncols=4,plotw=300)\n",
    "print(\"control errors : \")\n",
    "plotv(e.TIME,e.OUTP[:,0:4],append_units(e.OUTP_LBL[0:4],\" [m]\"),ncols=4,plotw=300)"
   ]
  },
  {
   "cell_type": "markdown",
   "metadata": {},
   "source": [
    "As can be seen, the weighted sum does not evolve to zero.\n",
    "\n",
    "If we increase the control gain to the $80 s^{-1}$ (unrealistic, but still feasible in a simulation at 200Hz), we see that the weighted sum of errors evolves towards zero (up to $2 mm$)."
   ]
  },
  {
   "cell_type": "code",
   "execution_count": null,
   "metadata": {},
   "outputs": [],
   "source": [
    "e2 = etasl_simulator(regularization_factor= 0.0000001)\n",
    "e2.readTaskSpecificationString(etaslspec1);\n",
    "\n",
    "inp_lbl=['control_gain']\n",
    "inp=[90]\n",
    "e2.setInputTable(inp_lbl,inp)\n",
    "\n",
    "e2.initialize(initial_jpos, pos_lbl)\n",
    "e2.simulate(N=N,dt=dt)\n",
    "\n",
    "\n",
    "# Generating plots:\n",
    "f = figure(x_axis_label='time [s]', \n",
    "           y_axis_label= 'weighted error [m]',plot_width=600, plot_height=300,\n",
    "           title='weighted error',tooltips=\"$x[s] : $y[m]\" )\n",
    "f.line(e2.TIME,e2.OUTP[:,3], line_width=2)\n",
    "show(f)\n",
    "f = figure(x_axis_label='time [s]', \n",
    "                y_axis_label= 'weighted error [m]',plot_width=600, plot_height=300, y_range=(-0.002,0.002),\n",
    "                title='weighted error (zoomed in)',tooltips=\"$x[s] : $y[m]\")\n",
    "f.line(e2.TIME,e2.OUTP[:,3], line_width=2)\n",
    "show(f)"
   ]
  },
  {
   "cell_type": "markdown",
   "metadata": {},
   "source": [
    "## Generating the feedforward for changing weights"
   ]
  },
  {
   "cell_type": "markdown",
   "metadata": {},
   "source": [
    "We repeat the definition from before, but now we do not sabotage the feedforward mechanism for changing weights. "
   ]
  },
  {
   "cell_type": "code",
   "execution_count": null,
   "metadata": {},
   "outputs": [],
   "source": [
    "etaslspec3=\"\"\"\n",
    "    require(\"context\")\n",
    "    require(\"geometric\")\n",
    "    -- Robot:\n",
    "    local u=UrdfExpr();\n",
    "    local fn = rospack_find(\"etasl_py_examples\")..\"/robots/ur10_robot.urdf\"\n",
    "    u:readFromFile(fn)\n",
    "    u:addTransform(\"ee\",\"tool0\",\"base_link\")\n",
    "    local r = u:getExpressions(ctx)\n",
    "    ee = r.ee\n",
    "    robot_jname={\"shoulder_pan_joint\",\"shoulder_lift_joint\",\"elbow_joint\",\"wrist_1_joint\",\"wrist_2_joint\",\"wrist_3_joint\"}\n",
    "    robot_jval = {}\n",
    "    for i=1,#robot_jname do\n",
    "       robot_jval[i]   = ctx:getScalarExpr(robot_jname[i])\n",
    "    end\n",
    "    -- Task:\n",
    "    control_gain = ctx:createInputChannelScalar(\"control_gain\",0)\n",
    "    tgt_x  = sin(time)*0.15 + 0.7\n",
    "    tgt_z  = 0\n",
    "    tgt1_y = sin(2.5*time)*0.1 +0.4\n",
    "    tgt2_y = 0\n",
    "    w1 = 1-sin(0.5*time)*0.8\n",
    "    w2 = 1+cos(0.5*time)*0.9\n",
    "    d = Variable{context=ctx, name=\"d\", vartype=\"feature\"}\n",
    "\n",
    "    Constraint{\n",
    "        context=ctx,\n",
    "        name=\"laserdistance\",\n",
    "        expr=d,\n",
    "        target_lower = 0.3,\n",
    "        target_upper = 0.45,\n",
    "        K = control_gain\n",
    "    }\n",
    "\n",
    "    laserspot = ee*vector(0,0,d)\n",
    "\n",
    "    Constraint{\n",
    "        context=ctx,\n",
    "        name=\"x\",\n",
    "        expr = tgt_x - coord_x(laserspot),\n",
    "        priority = 2,\n",
    "        K        = control_gain\n",
    "    }\n",
    "    Constraint{\n",
    "        context=ctx,\n",
    "        name=\"z\",\n",
    "        expr = tgt_z - coord_z(laserspot),\n",
    "        priority = 2,\n",
    "        K        = control_gain\n",
    "    }\n",
    "    \n",
    "    -- conflicting constraints : \n",
    "    Constraint{\n",
    "        context=ctx,\n",
    "        name=\"y\",\n",
    "        expr = (tgt1_y - coord_y(laserspot)),\n",
    "        priority = 2,\n",
    "        K        = control_gain,\n",
    "        weight   = w1\n",
    "    }\n",
    "    Constraint{\n",
    "        context=ctx,\n",
    "        name=\"y\",\n",
    "        expr = (tgt2_y - coord_y(laserspot)),\n",
    "        priority = 2,\n",
    "        K        = control_gain,\n",
    "        weight   = w2\n",
    "    }    \n",
    "    -- Output:\n",
    "    ctx:setOutputExpression(\"error_x\",coord_x(laserspot)-tgt_x)\n",
    "    ctx:setOutputExpression(\"error_y1\",coord_y(laserspot)-tgt1_y)\n",
    "    ctx:setOutputExpression(\"error_y2\",coord_y(laserspot)-tgt2_y)\n",
    "    ctx:setOutputExpression(\"error_y_weighted\",w1*(coord_y(laserspot)-tgt1_y) + w2*(coord_y(laserspot)-tgt2_y) ) \n",
    "    ctx:setOutputExpression(\"error_z\",coord_z(laserspot)-tgt_z)    \n",
    "\"\"\"\n",
    "e3 = etasl_simulator(regularization_factor= 0.0000001)\n",
    "e3.readTaskSpecificationString(etaslspec3)"
   ]
  },
  {
   "cell_type": "code",
   "execution_count": null,
   "metadata": {},
   "outputs": [],
   "source": [
    "inp_lbl=['control_gain']\n",
    "inp=[4]\n",
    "e3.setInputTable(inp_lbl,inp)\n",
    "\n",
    "e3.initialize(initial_jpos, pos_lbl)\n",
    "e3.simulate(N=N,dt=dt)"
   ]
  },
  {
   "cell_type": "markdown",
   "metadata": {},
   "source": [
    "After the simulation, we present the results using Bokeh:"
   ]
  },
  {
   "cell_type": "code",
   "execution_count": null,
   "metadata": {},
   "outputs": [],
   "source": [
    "f = figure(x_axis_label='time [s]', \n",
    "           y_axis_label= 'weighted error [m]',plot_width=600, plot_height=300,\n",
    "           title='weighted error',tooltips=\"$x[s] : $y[m]\" )\n",
    "f.line(e3.TIME,e3.OUTP[:,3], line_width=2)\n",
    "show(f)\n",
    "f = figure(x_axis_label='time [s]', \n",
    "                y_axis_label= 'weighted error [m]',plot_width=600, plot_height=300, y_range=(-0.002,0.002),\n",
    "                title='weighted error (zoomed in)',tooltips=\"$x[s] : $y[m]\")\n",
    "f.line(e3.TIME,e3.OUTP[:,3], line_width=2)\n",
    "show(f)"
   ]
  },
  {
   "cell_type": "markdown",
   "metadata": {},
   "source": [
    "An now we see that the weighted error evolves towards 0.  If we zoom in there is a remaining tracking error of $0.57 mm$.  Could this remaining error be because of linearization errors? Let's check this by rerunning the simulaton with a **smaller sample period**."
   ]
  },
  {
   "cell_type": "code",
   "execution_count": null,
   "metadata": {},
   "outputs": [],
   "source": [
    "e4 = etasl_simulator(regularization_factor= 0.0000001)\n",
    "e4.readTaskSpecificationString(etaslspec3)\n",
    "inp_lbl=['control_gain']\n",
    "inp=[4]\n",
    "e4.setInputTable(inp_lbl,inp)\n",
    "e4.initialize(initial_jpos, pos_lbl)\n",
    "e4.simulate(N=10000,dt=0.002)"
   ]
  },
  {
   "cell_type": "code",
   "execution_count": null,
   "metadata": {},
   "outputs": [],
   "source": [
    "f = figure(x_axis_label='x[m]', \n",
    "                y_axis_label= 'y[m]',plot_width=600, plot_height=300, y_range=(-0.002,0.002),\n",
    "                title='weighted error (zoomed in)',tooltips=\"$x[s] : $y[m]\")\n",
    "f.line(e4.TIME,e4.OUTP[:,3], line_width=2)\n",
    "show(f)"
   ]
  },
  {
   "cell_type": "markdown",
   "metadata": {},
   "source": [
    "The tracking error is now reduced ( to $0.24 mm$).  This shows that the remaining tracking error is indeed a **linearization error**: the tracking error reduces when sample period is reduced.  \n"
   ]
  },
  {
   "cell_type": "code",
   "execution_count": null,
   "metadata": {},
   "outputs": [],
   "source": []
  }
 ],
 "metadata": {
  "kernelspec": {
   "display_name": "Python 2",
   "language": "python",
   "name": "python2"
  },
  "language_info": {
   "codemirror_mode": {
    "name": "ipython",
    "version": 2
   },
   "file_extension": ".py",
   "mimetype": "text/x-python",
   "name": "python",
   "nbconvert_exporter": "python",
   "pygments_lexer": "ipython2",
   "version": "2.7.12"
  }
 },
 "nbformat": 4,
 "nbformat_minor": 2
}
