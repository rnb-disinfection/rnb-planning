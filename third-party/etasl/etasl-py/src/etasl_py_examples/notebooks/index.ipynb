{
 "cells": [
  {
   "cell_type": "markdown",
   "metadata": {},
   "source": [
    "# eTaSL Python driver\n",
    "\n",
    "## eTaSL tutorials\n",
    "\n",
    "The purpose of these tutorials is two-fold. One one hand these tutorials discuss the basics of the eTaSL constraint-based task specification language and controller.  On the other hand, it is a demonstration of the use of the eTaSL python driver.  Typically, this python driver is not used in a real-time robot application.  For real-time purposes eTaSL RTT is preferred (an Orocos RTT component).  The python driver is mostly used for rapid prototyping and analysis.  It can be easily used in *Jupyter notebooks*.\n",
    "\n",
    "- [Tutorial 1](tutorial_1.ipynb)\n",
    "- [Tutorial 2](tutorial_2.ipynb)\n",
    "- [Tutorial 3](tutorial_3.ipynb)\n",
    "- [Weights 1](weights_1.ipynb), exploring the use of constraints with changing weights and its effect on feedforward.\n",
    "- [Weights 2](weights_2.ipynb), exploring the exact conditions in which optimal feedforward is generated when using changing weights.\n",
    "- [Weights_3](weights_3.ipynb), gives an example where there is no optimal feedforward and there is a tracking error.\n",
    "***\n",
    "\n",
    "- Working with Jupyter [notebooks](working_with_notebooks.ipynb)\n",
    "\n",
    "***\n",
    "\n",
    "Aertbeliën E., 2018"
   ]
  },
  {
   "cell_type": "code",
   "execution_count": null,
   "metadata": {},
   "outputs": [],
   "source": []
  }
 ],
 "metadata": {
  "kernelspec": {
   "display_name": "Python 2",
   "language": "python",
   "name": "python2"
  },
  "language_info": {
   "codemirror_mode": {
    "name": "ipython",
    "version": 2
   },
   "file_extension": ".py",
   "mimetype": "text/x-python",
   "name": "python",
   "nbconvert_exporter": "python",
   "pygments_lexer": "ipython2",
   "version": "2.7.12"
  }
 },
 "nbformat": 4,
 "nbformat_minor": 2
}
