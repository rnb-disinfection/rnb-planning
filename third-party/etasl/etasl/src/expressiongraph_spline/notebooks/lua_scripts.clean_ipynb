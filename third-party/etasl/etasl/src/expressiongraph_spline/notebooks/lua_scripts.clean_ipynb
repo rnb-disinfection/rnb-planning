{
 "metadata": {
  "name": ""
 },
 "nbformat": 3,
 "nbformat_minor": 0,
 "worksheets": [
  {
   "cells": [
    {
     "cell_type": "markdown",
     "metadata": {},
     "source": [
      "# LUA example scripts from a notebook"
     ]
    },
    {
     "cell_type": "markdown",
     "metadata": {},
     "source": [
      "Be sure that you have initialized ros and called the setluapath script before you start up the notebook server!"
     ]
    },
    {
     "cell_type": "markdown",
     "metadata": {},
     "source": [
      "This is just to have a wider display then normal, this is useful for displaying the print-out of a eTaSL context:"
     ]
    },
    {
     "cell_type": "code",
     "collapsed": false,
     "input": [
      "from IPython.core.display import HTML\n",
      "css_file = './nb_preamble.html'\n",
      "HTML(open(css_file, \"r\").read())"
     ],
     "language": "python",
     "metadata": {},
     "outputs": []
    },
    {
     "cell_type": "markdown",
     "metadata": {},
     "source": [
      "Loading numpy, matplotlib and image facilities:"
     ]
    },
    {
     "cell_type": "code",
     "collapsed": false,
     "input": [
      "from IPython.display import Image\n",
      "import numpy as np;\n",
      "import matplotlib.pyplot as plt;\n",
      "%matplotlib inline"
     ],
     "language": "python",
     "metadata": {},
     "outputs": []
    },
    {
     "cell_type": "markdown",
     "metadata": {},
     "source": [
      "## Generate input file for spline:"
     ]
    },
    {
     "cell_type": "code",
     "collapsed": false,
     "input": [
      "import math;\n",
      "times=3;\n",
      "n=25*times;\n",
      "# a large number of points has only a little effect on execution time: n=250000;\n",
      "t=np.linspace(0,times*2*math.pi,n)\n",
      "x=0.2*np.cos(t)*np.cos(2*t);\n",
      "y=0.2*np.sin(t);\n",
      "A=np.vstack((t,x,y)).transpose()\n",
      "A.shape\n",
      "np.savetxt('circle.csv',A);"
     ],
     "language": "python",
     "metadata": {},
     "outputs": []
    },
    {
     "cell_type": "code",
     "collapsed": false,
     "input": [
      "plt.plot(A[:,1],A[:,2],'o');\n",
      "plt.axis('equal');\n",
      "plt.grid(True);"
     ],
     "language": "python",
     "metadata": {},
     "outputs": []
    },
    {
     "cell_type": "markdown",
     "metadata": {},
     "source": [
      "## Run lua to create spline expression graph:\n",
      "\n",
      "This tests the spline object in isolation. You can skip this section and directly go to the task specification for an\n",
      "example on how to use it within a task specification.\n",
      "\n",
      "You can use the lua interpreter to test out if the \n",
      "specification is well-formed (up to a point).  If called\n",
      "from the lua interpreter, a dummy context is used."
     ]
    },
    {
     "cell_type": "code",
     "collapsed": false,
     "input": [
      "%%script lua\n",
      "require(\"context\")\n",
      "require(\"libexpressiongraph_spline\")\n",
      "\n",
      "a=CubicSpline()\n",
      "a:readPoints(rospack_find(\"expressiongraph_spline\")..\"/notebooks/circle.csv\",\" \\t,\",0)\n",
      "\n",
      "    \n",
      "b = a:getNormalizer(a:getNrOfRows()*10)\n",
      "maxvel = 0.75\n",
      "maxacc = 1.3\n",
      "duration = trapezoidal_mp_duration( b:getMinArgument(), b:getMaxArgument(), maxvel, maxacc)\n",
      "print( \"duration for the whole trajectory \"..duration)\n",
      "time = input(0)\n",
      "profile = trapezoidal_mp(time,b:getMinArgument(), b:getMaxArgument(), maxvel, maxacc)\n",
      "b:setInput(profile)\n",
      "a:setInput(b:getOutput(0))\n",
      "\n",
      "y1=getSplineOutput(a,0)\n",
      "y2=getSplineOutput(a,1)\n",
      "write_expressions_to_dot('lua_scripts.dot',{y1,y2})\n",
      "       \n",
      "y1:setInputValue(0,0)\n",
      "print( \"input=\"..0)\n",
      "print( \" y1=\"..y1:value() )\n",
      "print( \" y2=\"..y2:value() )\n",
      "\n",
      "\n",
      "y1:setInputValue(0,3.1415)\n",
      "print( \"input=\"..1)\n",
      "print( \" y1=\"..y1:value() )\n",
      "print( \" y2=\"..y2:value() )"
     ],
     "language": "python",
     "metadata": {},
     "outputs": []
    },
    {
     "cell_type": "code",
     "collapsed": false,
     "input": [],
     "language": "python",
     "metadata": {},
     "outputs": []
    },
    {
     "cell_type": "code",
     "collapsed": false,
     "input": [
      "!dot lua_scripts.dot -Tpng -o lua_scripts.png"
     ],
     "language": "python",
     "metadata": {},
     "outputs": []
    },
    {
     "cell_type": "code",
     "collapsed": false,
     "input": [
      "Image(filename='lua_scripts.png')"
     ],
     "language": "python",
     "metadata": {},
     "outputs": []
    },
    {
     "cell_type": "markdown",
     "metadata": {},
     "source": [
      "After normalization you will have a concattenation of two splines:"
     ]
    },
    {
     "cell_type": "markdown",
     "metadata": {},
     "source": [
      "## Using eTaSL/eTC"
     ]
    },
    {
     "cell_type": "markdown",
     "metadata": {},
     "source": [
      "Help is displayed when you provoke an error, you can run a eTaSL specification \n",
      "directly in lua, provided that the LUA path is set.  To simulate or run the task\n",
      "specification, you'll need the etasl.sh bash script"
     ]
    },
    {
     "cell_type": "code",
     "collapsed": false,
     "input": [
      "%%script lua\n",
      "require(\"context\")\n",
      "Constraint{}"
     ],
     "language": "python",
     "metadata": {},
     "outputs": []
    },
    {
     "cell_type": "code",
     "collapsed": false,
     "input": [
      "%%script lua\n",
      "require(\"context\")\n",
      "Monitor{}"
     ],
     "language": "python",
     "metadata": {},
     "outputs": []
    },
    {
     "cell_type": "markdown",
     "metadata": {},
     "source": [
      "The following uses the script_solver for off-line simulating the task specification.  \n",
      "\n",
      "A small etasl.sh bash script\n",
      "takes the input at STDIN and dumps it in a temporary file that is given to the script_solver from the expressiongraph_context_lua package.\n",
      "\n"
     ]
    },
    {
     "cell_type": "code",
     "collapsed": false,
     "input": [
      "%%script ./etasl.sh\n",
      "require(\"context\")\n",
      "require(\"libexpressiongraph_spline\")\n",
      "\n",
      "-- loading a model for the unversal robot UR10:\n",
      "u=UrdfExpr();\n",
      "u:readFromFile(\"ur10_robot.urdf\")\n",
      "u:addTransform(\"ee\",\"ee_link\",\"base_link\")\n",
      "\n",
      "r = u:getExpressions(ctx)\n",
      "\n",
      "print(\"frames in the URDF file:\")\n",
      "print(u)\n",
      "\n",
      "\n",
      "-- trajectory to follow:\n",
      "\n",
      "a=CubicSpline()\n",
      "a:readPoints(rospack_find(\"expressiongraph_spline\")..\"/notebooks/circle.csv\",\" \\t,\",0)\n",
      "\n",
      "    \n",
      "b = a:getNormalizer(a:getNrOfRows()*10)\n",
      "maxvel = 0.15\n",
      "maxacc = 0.5\n",
      "duration = trapezoidal_mp_duration( b:getMinArgument(), b:getMaxArgument(), maxvel, maxacc)\n",
      "profile = trapezoidal_mp(time,b:getMinArgument(), b:getMaxArgument(), maxvel, maxacc)\n",
      "b:setInput(profile)\n",
      "a:setInput(b:getOutput(0))\n",
      "\n",
      "y1=getSplineOutput(a,0)\n",
      "y2=getSplineOutput(a,1)\n",
      "\n",
      "ox=constant(0.5)\n",
      "oy=constant(0.5)\n",
      "vdiff = vector(y1+ox,y2+oy,constant(0.4)) - origin(r.ee)\n",
      "write_expressions_to_dot('lua_scripts2.dot',{vdiff})\n",
      "Constraint{\n",
      "           context=ctx,\n",
      "           name=\"spline_trajectory\",\n",
      "           expr=vdiff\n",
      "};\n",
      "Monitor{\n",
      "        context=ctx,\n",
      "        name='finish_after_some_time',\n",
      "        upper=duration+1,\n",
      "        actionname='exit',\n",
      "        expr=time\n",
      "}\n",
      "\n",
      "ctx:addOutput(\"time\", \"csv\",time)\n",
      "ctx:addOutput(\"x\", \"csv\", y1+ox)\n",
      "ctx:addOutput(\"y\", \"csv\", y2+ox)\n",
      "ctx:addOutput(\"ee\",\"csv\",origin(r.ee))\n",
      "addJointsToOutput(u,ctx,\"csv\")\n",
      "\n",
      "print(ctx)"
     ],
     "language": "python",
     "metadata": {},
     "outputs": []
    },
    {
     "cell_type": "markdown",
     "metadata": {},
     "source": [
      "## Generating graphs from expressions"
     ]
    },
    {
     "cell_type": "code",
     "collapsed": false,
     "input": [
      "!dot lua_scripts2.dot -Tpng -o lua_scripts2.png\n",
      "i=Image(filename='lua_scripts2.png')\n",
      "i.width=600\n",
      "i"
     ],
     "language": "python",
     "metadata": {},
     "outputs": []
    },
    {
     "cell_type": "markdown",
     "metadata": {},
     "source": [
      "## Loading output from the simulation:"
     ]
    },
    {
     "cell_type": "code",
     "collapsed": false,
     "input": [
      "#You could use pandas:\n",
      "#import pandas as pd\n",
      "#d = pd.read_csv('output.csv')\n",
      "\n",
      "#or just numpy :\n",
      "d=np.loadtxt('output.csv',skiprows=1,delimiter=\",\")"
     ],
     "language": "python",
     "metadata": {},
     "outputs": []
    },
    {
     "cell_type": "markdown",
     "metadata": {},
     "source": [
      "A small snippet to display the column names of the csv file and to store the column names in a variable 'names'"
     ]
    },
    {
     "cell_type": "code",
     "collapsed": false,
     "input": [
      "import csv\n",
      "f = open('output.csv','r')\n",
      "data = csv.reader(f)\n",
      "h=data.next()\n",
      "f.close()\n",
      "count=0\n",
      "names=[];\n",
      "for fld in h:\n",
      "    print count,\" : \", fld\n",
      "    count = count + 1\n",
      "    names.append(fld)"
     ],
     "language": "python",
     "metadata": {},
     "outputs": []
    },
    {
     "cell_type": "markdown",
     "metadata": {},
     "source": [
      "## Analysing the output data\n",
      "### The trajectory in Cartesian space"
     ]
    },
    {
     "cell_type": "code",
     "collapsed": false,
     "input": [
      "\n",
      "plt.figure(figsize=(10,6))\n",
      "plt.plot(d[:,0],d[:,1:3]);\n",
      "plt.xlabel('time [s]');\n",
      "plt.ylabel('y1 and y2 [m]');"
     ],
     "language": "python",
     "metadata": {},
     "outputs": []
    },
    {
     "cell_type": "code",
     "collapsed": false,
     "input": [
      "plt.figure(figsize=(15,6))\n",
      "plt.subplot(1,2,1)\n",
      "plt.plot(d[:,1],d[:,2]);\n",
      "plt.axis('equal');\n",
      "plt.xlabel('x [m]');\n",
      "plt.ylabel('y [m]');\n",
      "plt.hold(True);\n",
      "plt.plot(d[:,3],d[:,4],'.');\n",
      "\n",
      "plt.subplot(1,2,2)\n",
      "plt.plot(d[:,1],d[:,1]*0.0+0.4);\n",
      "plt.axis('equal');\n",
      "plt.xlabel('x [m]');\n",
      "plt.ylabel('z [m]');\n",
      "plt.hold(True);\n",
      "plt.plot(d[:,3],d[:,5],'.');"
     ],
     "language": "python",
     "metadata": {},
     "outputs": []
    },
    {
     "cell_type": "markdown",
     "metadata": {},
     "source": [
      "### Velocities along x, y and the trajectory"
     ]
    },
    {
     "cell_type": "code",
     "collapsed": false,
     "input": [
      "dt = d[1,0]-d[0,0];\n",
      "velx = np.diff(d[:,1])/dt;\n",
      "velx2 = np.diff(d[:,3])/dt;\n",
      "vely = np.diff(d[:,2])/dt;\n",
      "vely2 = np.diff(d[:,4])/dt;\n",
      "vel  = np.sqrt(np.square(velx)+np.square(vely));\n",
      "vel2  = np.sqrt(np.square(velx2)+np.square(vely2));\n",
      "\n",
      "plt.figure(figsize=(13,5));\n",
      "plt.plot(d[1:,0],velx);\n",
      "plt.hold(True);\n",
      "plt.plot(d[1:,0],velx2);\n",
      "plt.ylabel('velocity along x [m/s]');\n",
      "plt.xlabel('time [s]');\n",
      "\n",
      "plt.figure(figsize=(13,5));\n",
      "plt.plot(d[1:,0],vely);\n",
      "plt.hold(True);\n",
      "plt.plot(d[1:,0],vely2);\n",
      "plt.ylabel('velocity along y [m/s]');\n",
      "plt.xlabel('time [s]');\n",
      "\n",
      "plt.figure(figsize=(13,5));\n",
      "plt.plot(d[1:,0],vel);\n",
      "plt.hold(True);\n",
      "plt.plot(d[1:,0],vel2);\n",
      "plt.ylabel('velocity along trajectory [m/s]');\n",
      "plt.xlabel('time [s]');"
     ],
     "language": "python",
     "metadata": {},
     "outputs": []
    },
    {
     "cell_type": "markdown",
     "metadata": {},
     "source": [
      "### Joint positions"
     ]
    },
    {
     "cell_type": "code",
     "collapsed": false,
     "input": [
      "plt.figure(figsize=(15,10))\n",
      "for i in range(6,12):\n",
      "    plt.subplot(2,3,i-5)\n",
      "    plt.plot(d[:,0],d[:,i]/math.pi*180.0);\n",
      "    plt.ylabel(names[i]+\" [deg]\")\n",
      "    plt.xlabel('time [s]')"
     ],
     "language": "python",
     "metadata": {},
     "outputs": []
    },
    {
     "cell_type": "code",
     "collapsed": false,
     "input": [],
     "language": "python",
     "metadata": {},
     "outputs": []
    }
   ],
   "metadata": {}
  }
 ]
}