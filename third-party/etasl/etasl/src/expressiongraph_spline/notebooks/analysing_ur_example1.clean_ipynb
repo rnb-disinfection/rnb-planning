{
 "metadata": {
  "name": ""
 },
 "nbformat": 3,
 "nbformat_minor": 0,
 "worksheets": [
  {
   "cells": [
    {
     "cell_type": "markdown",
     "metadata": {},
     "source": [
      "# notebook that analyses a run of ur_example1"
     ]
    },
    {
     "cell_type": "code",
     "collapsed": false,
     "input": [
      "from IPython.core.display import HTML\n",
      "css_file = './nb_preamble.html'\n",
      "HTML(open(css_file, \"r\").read())"
     ],
     "language": "python",
     "metadata": {},
     "outputs": []
    },
    {
     "cell_type": "code",
     "collapsed": false,
     "input": [
      "from IPython.display import Image\n",
      "import numpy as np;\n",
      "import matplotlib.pyplot as plt;\n",
      "%matplotlib inline\n",
      "import read_csv;"
     ],
     "language": "python",
     "metadata": {},
     "outputs": []
    },
    {
     "cell_type": "markdown",
     "metadata": {},
     "source": [
      "Perhaps you will have to change the path of the csv file:"
     ]
    },
    {
     "cell_type": "code",
     "collapsed": false,
     "input": [
      "[b,hdr]=read_csv.read('../output.csv')\n",
      "hdr"
     ],
     "language": "python",
     "metadata": {},
     "outputs": []
    },
    {
     "cell_type": "code",
     "collapsed": false,
     "input": [
      "plt.plot(b[:,hdr['time']], b[:,hdr['elbow_joint']]/np.pi*180);"
     ],
     "language": "python",
     "metadata": {},
     "outputs": []
    },
    {
     "cell_type": "code",
     "collapsed": false,
     "input": [
      "plt.plot(b[:,hdr['tool_x']],b[:,hdr['tool_y']])\n",
      "plt.hold(True);\n",
      "plt.plot(b[:,hdr['x']],b[:,hdr['y']])"
     ],
     "language": "python",
     "metadata": {},
     "outputs": []
    }
   ],
   "metadata": {}
  }
 ]
}