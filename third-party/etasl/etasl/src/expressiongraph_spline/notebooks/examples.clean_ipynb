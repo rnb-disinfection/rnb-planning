{
 "metadata": {
  "name": ""
 },
 "nbformat": 3,
 "nbformat_minor": 0,
 "worksheets": [
  {
   "cells": [
    {
     "cell_type": "markdown",
     "metadata": {},
     "source": [
      "# Examples in the examples directory"
     ]
    },
    {
     "cell_type": "code",
     "collapsed": false,
     "input": [
      "import os;\n",
      "import numpy as np;\n",
      "import matplotlib.pyplot as plt;\n",
      "%matplotlib inline\n",
      "plt.rcParams['figure.figsize'] = (10.0, 8.0)"
     ],
     "language": "python",
     "metadata": {},
     "outputs": []
    },
    {
     "cell_type": "markdown",
     "metadata": {},
     "source": [
      "## Spline1 example"
     ]
    },
    {
     "cell_type": "code",
     "collapsed": false,
     "input": [
      "!../bin/spline1"
     ],
     "language": "python",
     "metadata": {},
     "outputs": []
    },
    {
     "cell_type": "code",
     "collapsed": false,
     "input": [
      "D1=np.loadtxt(\"spline1_inp.dat\")\n",
      "D2=np.loadtxt(\"spline1_outp.dat\")"
     ],
     "language": "python",
     "metadata": {},
     "outputs": []
    },
    {
     "cell_type": "code",
     "collapsed": false,
     "input": [
      "plt.plot(D1[:,1],D1[:,2],'o');\n",
      "plt.hold(True);\n",
      "plt.plot(D2[:,1],D2[:,2]);\n",
      "plt.axis('equal');"
     ],
     "language": "python",
     "metadata": {},
     "outputs": []
    },
    {
     "cell_type": "markdown",
     "metadata": {},
     "source": [
      "### Verifying the derivative:"
     ]
    },
    {
     "cell_type": "code",
     "collapsed": false,
     "input": [
      "plt.plot(D2[:,0],D2[:,3]);\n",
      "plt.hold(True);\n",
      "plt.plot(D2[1:,0],np.diff(D2[:,1])/0.01);"
     ],
     "language": "python",
     "metadata": {},
     "outputs": []
    },
    {
     "cell_type": "code",
     "collapsed": false,
     "input": [
      "plt.plot(D2[:,0],D2[:,4]);\n",
      "plt.hold(True);\n",
      "plt.plot(D2[1:,0],np.diff(D2[:,2])/0.01);"
     ],
     "language": "python",
     "metadata": {},
     "outputs": []
    },
    {
     "cell_type": "markdown",
     "metadata": {},
     "source": [
      "## Spline2 example"
     ]
    },
    {
     "cell_type": "code",
     "collapsed": false,
     "input": [
      "!../bin/spline2"
     ],
     "language": "python",
     "metadata": {},
     "outputs": []
    },
    {
     "cell_type": "code",
     "collapsed": false,
     "input": [
      "D1=np.loadtxt(\"spline2_inp.dat\")\n",
      "D2=np.loadtxt(\"spline2_outp.dat\")\n",
      "D3=np.loadtxt(\"spline2_norm.dat\")"
     ],
     "language": "python",
     "metadata": {},
     "outputs": []
    },
    {
     "cell_type": "code",
     "collapsed": false,
     "input": [
      "plt.plot(D3[:,1],D3[:,2],'ro',markersize=3);\n",
      "plt.plot(D1[:,1],D1[:,2],'o');\n",
      "plt.hold(True);\n",
      "plt.plot(D2[:,1],D2[:,2]);\n",
      "plt.axis('equal');"
     ],
     "language": "python",
     "metadata": {},
     "outputs": []
    },
    {
     "cell_type": "markdown",
     "metadata": {},
     "source": [
      "### Verifying the derivative:"
     ]
    },
    {
     "cell_type": "code",
     "collapsed": false,
     "input": [
      "plt.plot(D2[:,0],D2[:,3]);\n",
      "plt.hold(True);\n",
      "plt.plot(D2[1:,0],np.diff(D2[:,1])/0.01);"
     ],
     "language": "python",
     "metadata": {},
     "outputs": []
    },
    {
     "cell_type": "code",
     "collapsed": false,
     "input": [
      "plt.plot(D2[:,0],D2[:,4]);\n",
      "plt.hold(True);\n",
      "plt.plot(D2[1:,0],np.diff(D2[:,2])/0.01);"
     ],
     "language": "python",
     "metadata": {},
     "outputs": []
    },
    {
     "cell_type": "code",
     "collapsed": false,
     "input": [
      "plt.plot(D3[:,0],D3[:,3]);\n",
      "plt.hold(True);\n",
      "plt.plot(D3[1:,0],np.diff(D3[:,1])/0.05);"
     ],
     "language": "python",
     "metadata": {},
     "outputs": []
    },
    {
     "cell_type": "code",
     "collapsed": false,
     "input": [
      "plt.plot(D3[:,0],D3[:,4]);\n",
      "plt.hold(True);\n",
      "plt.plot(D3[1:,0],np.diff(D3[:,2])/0.05);"
     ],
     "language": "python",
     "metadata": {},
     "outputs": []
    },
    {
     "cell_type": "markdown",
     "metadata": {},
     "source": [
      "## Spline 3 example"
     ]
    },
    {
     "cell_type": "code",
     "collapsed": false,
     "input": [
      "%%file input.csv\n",
      "1 0.1 0.4\n",
      "2 0.3 0.8 \n",
      "3 0.2 0.8\n",
      "4 0.1 0.6\n",
      "5 0.2 0.4\n",
      "6 0.15 0.3\n"
     ],
     "language": "python",
     "metadata": {},
     "outputs": []
    },
    {
     "cell_type": "code",
     "collapsed": false,
     "input": [
      "!../bin/spline3"
     ],
     "language": "python",
     "metadata": {},
     "outputs": []
    },
    {
     "cell_type": "code",
     "collapsed": false,
     "input": [
      "D4=np.loadtxt(\"input.csv\")\n",
      "D5=np.loadtxt(\"spline3_outp.dat\")\n"
     ],
     "language": "python",
     "metadata": {},
     "outputs": []
    },
    {
     "cell_type": "code",
     "collapsed": false,
     "input": [
      "plt.plot(D4[:,1],D4[:,2],'o');\n",
      "plt.hold(True);\n",
      "plt.plot(D5[:,1],D5[:,2]);"
     ],
     "language": "python",
     "metadata": {},
     "outputs": []
    },
    {
     "cell_type": "markdown",
     "metadata": {},
     "source": [
      "## Spline 4 Example\n",
      "Testing the performance of the spline routines in combination with the expressiongraphs."
     ]
    },
    {
     "cell_type": "code",
     "collapsed": false,
     "input": [
      "import math;\n",
      "n=1000000;\n",
      "t=np.linspace(0,2*math.pi,n)\n",
      "x=3*np.cos(t)+1;\n",
      "y=3*np.sin(t);\n"
     ],
     "language": "python",
     "metadata": {},
     "outputs": []
    },
    {
     "cell_type": "code",
     "collapsed": false,
     "input": [
      "A=np.vstack((t,x,y)).transpose()\n",
      "A.shape"
     ],
     "language": "python",
     "metadata": {},
     "outputs": []
    },
    {
     "cell_type": "code",
     "collapsed": false,
     "input": [
      "np.savetxt('input2.csv',A);"
     ],
     "language": "python",
     "metadata": {},
     "outputs": []
    },
    {
     "cell_type": "code",
     "collapsed": false,
     "input": [
      "!../bin/spline4"
     ],
     "language": "python",
     "metadata": {},
     "outputs": []
    },
    {
     "cell_type": "markdown",
     "metadata": {},
     "source": [
      "Conclusion: you really do not have to care about the amount of points.  It always will\n",
      "be evaluated very quickly...., for a spline with 10000 points, time is 2.4s.\n",
      "\n",
      "Most of the time is spend on reading the spline from the disk."
     ]
    },
    {
     "cell_type": "code",
     "collapsed": false,
     "input": [],
     "language": "python",
     "metadata": {},
     "outputs": []
    },
    {
     "cell_type": "code",
     "collapsed": false,
     "input": [],
     "language": "python",
     "metadata": {},
     "outputs": []
    }
   ],
   "metadata": {}
  }
 ]
}