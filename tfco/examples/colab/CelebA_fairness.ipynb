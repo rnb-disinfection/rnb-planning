{
  "nbformat": 4,
  "nbformat_minor": 0,
  "metadata": {
    "colab": {
      "name": "TFCO CelebA Fairness.ipynb",
      "provenance": [],
      "collapsed_sections": []
    },
    "kernelspec": {
      "name": "python3",
      "display_name": "Python 3"
    }
  },
  "cells": [
    {
      "cell_type": "code",
      "metadata": {
        "id": "KBy8dmmb7S-4",
        "colab_type": "code",
        "cellView": "form",
        "colab": {}
      },
      "source": [
        "#@title Copyright 2020 TensorFlow Constrained Optimization Authors. Double-Click Here for License Information.\n",
        "# Licensed under the Apache License, Version 2.0 (the \"License\");\n",
        "# you may not use this file except in compliance with the License.\n",
        "# You may obtain a copy of the License at\n",
        "#\n",
        "# https://www.apache.org/licenses/LICENSE-2.0\n",
        "#\n",
        "# Unless required by applicable law or agreed to in writing, software\n",
        "# distributed under the License is distributed on an \"AS IS\" BASIS,\n",
        "# WITHOUT WARRANTIES OR CONDITIONS OF ANY KIND, either express or implied.\n",
        "# See the License for the specific language governing permissions and\n",
        "# limitations under the License."
      ],
      "execution_count": 0,
      "outputs": []
    },
    {
      "cell_type": "markdown",
      "metadata": {
        "id": "b2VYQpTttmVN",
        "colab_type": "text"
      },
      "source": [
        "# TensorFlow Constrained Optimization Example Using CelebA Dataset\n",
        "Building on other [TensorFlow Constrained Optimization (TFCO)](https://github.com/google-research/tensorflow_constrained_optimization/tree/master/README.md) examples, the purpose of this notebook is to further demonstrate how easy it is to create and optimized constrained problems using the TFCO library. In particular, this notebook will:\n",
        "\n",
        "\n",
        "*   Train a simple, *unconstrained* neural network model to detect a person's smile in images using [`tf.keras`](https://www.tensorflow.org/guide/keras) and the large-scale CelebFaces Attributes ([CelebA](http://mmlab.ie.cuhk.edu.hk/projects/CelebA.html)) dataset.\n",
        "*   Evaluate model performance across age group.\n",
        "*   Set up a simple constrained optimization problem to achieve fairer perforamnce across age group.\n",
        "*   Retrained the now *constrained* model and evaluate performance again.\n",
        "\n",
        "Last updated: 17 Feb 2020\n",
        "\n",
        "\n",
        "\n"
      ]
    },
    {
      "cell_type": "markdown",
      "metadata": {
        "id": "JyCbEWt5Zxe2",
        "colab_type": "text"
      },
      "source": [
        "# Installation\n",
        "This notebook was created in [Colaboratory](https://research.google.com/colaboratory/faq.html), connected to the Python 3 Google Compute Engine backend. If you wish to host this notebook in a different environment, then you should not experience any major issues so long as you include all the required packages listed in the cell below.\n",
        "\n",
        "Also, depending on when you run the cell below, you may receive a warning about the default version of TensorFlow in Colab switching to TensorFlow 2.X soon. You can safely ignore that warning as this notebook was designed to be compatible with TensorFlow 1.X and 2.X."
      ]
    },
    {
      "cell_type": "code",
      "metadata": {
        "id": "UTBBdSGaZ8aW",
        "colab_type": "code",
        "cellView": "form",
        "colab": {}
      },
      "source": [
        "#@title Import Modules\n",
        "!pip install -q tensorflow-datasets tensorflow numpy pandas matplotlib seaborn\n",
        "import os\n",
        "import sys\n",
        "import tempfile\n",
        "import urllib3\n",
        "\n",
        "import tensorflow as tf\n",
        "from tensorflow import keras\n",
        "\n",
        "import tensorflow_datasets as tfds\n",
        "tfds.disable_progress_bar()\n",
        "\n",
        "from matplotlib.ticker import StrMethodFormatter\n",
        "from matplotlib import rcParams\n",
        "import matplotlib.pyplot as plt\n",
        "import seaborn as sns\n",
        "import numpy as np\n",
        "import pandas as pd\n",
        "\n",
        "!pip install git+https://github.com/google-research/tensorflow_constrained_optimization\n",
        "import tensorflow_constrained_optimization as tfco"
      ],
      "execution_count": 0,
      "outputs": []
    },
    {
      "cell_type": "markdown",
      "metadata": {
        "id": "xSG2HP7goGrj",
        "colab_type": "text"
      },
      "source": [
        "Though TFCO is compatible with eager and graph execution, this notebook assumes that eager execution is enabled by default. To ensure that nothing breaks, eager execution will be enabled in the cell below."
      ]
    },
    {
      "cell_type": "code",
      "metadata": {
        "id": "W0ZusW1-lBao",
        "colab_type": "code",
        "outputId": "00faeaba-e91a-43d1-f3a0-0a1a12bddae2",
        "cellView": "form",
        "colab": {
          "base_uri": "https://localhost:8080/",
          "height": 52
        }
      },
      "source": [
        "#@title Enable Eager Execution\n",
        "if tf.__version__ < \"2.0.0\":\n",
        "  tf.enable_eager_execution()\n",
        "  print(\"Eager execution enabled.\")\n",
        "else:\n",
        "  print(\"Eager execution enabled by default.\")\n",
        "\n",
        "print(\"TensorFlow \" + tf.__version__)"
      ],
      "execution_count": 3,
      "outputs": [
        {
          "output_type": "stream",
          "text": [
            "Eager execution enabled.\n",
            "TensorFlow 1.15.0\n"
          ],
          "name": "stdout"
        }
      ]
    },
    {
      "cell_type": "markdown",
      "metadata": {
        "id": "idY3Uuk3yvty",
        "colab_type": "text"
      },
      "source": [
        "# CelebA Dataset\n",
        "[CelebA](http://mmlab.ie.cuhk.edu.hk/projects/CelebA.html) is a large-scale face attributes dataset with more than 200,000 celebrity images, each with 40 attribute annotations (such as hair type, fashion accessories, facial features, etc.) and 5 landmark locations (eyes, mouth and nose positions). CelebA is readily made available in TensorFlow thanks to [TensorFlow Datasets(`tfds`)](https://www.tensorflow.org/datasets), which is where and how this notebook will download and extract the dataset.\n",
        "\n",
        "Specifically, in this notebook:\n",
        "*   The \"Smiling\" attribute — which presumably represents a pleased, kind or amused expression in the image with the corners of the mouth turned up and front teeth possibly exposed — will be set as the target variable for the model to predict.\n",
        "*   Images will be resized from 218x178 to 28x28 to reduce the amount of execution time and memory when training.\n",
        "*   Performance will be evaluated across the \"Young\" attribute, which will be dubbed \"age group\" in this notebook.\n",
        "\n",
        "\n"
      ]
    },
    {
      "cell_type": "markdown",
      "metadata": {
        "id": "i93InRhMFu89",
        "colab_type": "text"
      },
      "source": [
        "### Possible Checksum Error\n",
        "On rare occasions, running the cell below may return a `NonMatchingChecksumError` message. As [reported elsewhere](https://github.com/tensorflow/datasets/issues/943), this error message might be due to an incomplete download. CelebA is rather large and can sometimes fail to download. So this may be a Google Drive issue rather than TFDS.\n",
        "\n",
        "In our experiences, running the cell again at a later point in time will resolve that error and allow you to download the dataset."
      ]
    },
    {
      "cell_type": "code",
      "metadata": {
        "id": "zCSemFST0b89",
        "colab_type": "code",
        "colab": {}
      },
      "source": [
        "celeb_a_builder = tfds.builder(\"celeb_a\")\n",
        "celeb_a_builder.download_and_prepare()"
      ],
      "execution_count": 0,
      "outputs": []
    },
    {
      "cell_type": "markdown",
      "metadata": {
        "id": "u5PDLXZb_uIj",
        "colab_type": "text"
      },
      "source": [
        "## Caveats\n",
        "Before moving forward, there are several considerations to keep in mind in using CelebA:\n",
        "*   Though in principle this notebook could use any dataset of face images, CelebA was chosen because it contains public domain images of public figures, which avoids certain policy and privacy issues of some other public domain datasets.\n",
        "*   All of the attribute annotations in CelebA come operationalized as binary categories. For example, the \"Young\" attribute, which loosely and presumably represents perceived behavior or appearance of young people, is denoted as either present or absent in the image. In other words, the absence of \"Young\" in an image does not always imply that the image features an \"Old\" celebrity.\n",
        "*   CelebA's categorizations do not reflect real human diversity of attributes.\n",
        "*   For the purposes of this notebook, the \"Young\" attribute is dubbed \"age group\", where the presence of the \"Young\" attribute in an image is labeled as a member of the \"young\" age group and the absence of the \"Young\" attribute is labeled as a member of the \"old\" age group. These are assumptions made as this information is not mentioned in the [original paper](http://openaccess.thecvf.com/content_iccv_2015/html/Liu_Deep_Learning_Face_ICCV_2015_paper.html).\n",
        "*   As such, performance in the models trained in this notebook is tied to the ways the attributes have been operationalized and annotated by the authors of CelebA.\n",
        "*   This model should not be used for commerical purposes as that would voilate CelebA's non-commerical research agreement."
      ]
    },
    {
      "cell_type": "markdown",
      "metadata": {
        "id": "Elkiu92cY2bY",
        "colab_type": "text"
      },
      "source": [
        "# Setting Up Input and Visualization Functions\n",
        "Now that CelebA is loaded in as a `tf.data.Dataset` object, the rest of the input pipeline can now be defined for model training. The subsequent cells will help streamline the input pipeline as well as visualize performance."
      ]
    },
    {
      "cell_type": "code",
      "metadata": {
        "id": "SD-H70Je0cTp",
        "colab_type": "code",
        "cellView": "form",
        "colab": {}
      },
      "source": [
        "#@title Define Image Preprocessing and Filtering Functions\n",
        "\n",
        "ATTR_KEY = \"attributes\"\n",
        "IMAGE_KEY = \"image\"\n",
        "LABEL_KEY = \"Smiling\"\n",
        "GROUP_KEY = \"Young\"\n",
        "IMAGE_SIZE = 28\n",
        "BATCH_SIZE = 1024\n",
        "\n",
        "def preprocessing_function(feat_dict):\n",
        "  # Separate out the image and target variable from the feature dictionary.\n",
        "  image = feat_dict[IMAGE_KEY]\n",
        "  label = feat_dict[ATTR_KEY][LABEL_KEY]\n",
        "  group = feat_dict[ATTR_KEY][GROUP_KEY]\n",
        "\n",
        "  # Resize and normalize image.\n",
        "  image = tf.cast(image, tf.float32)\n",
        "  image = tf.image.resize(image, [IMAGE_SIZE, IMAGE_SIZE])\n",
        "  image /= 255.0\n",
        "\n",
        "  # Cast label and group to float32.\n",
        "  label = tf.cast(label, tf.float32)\n",
        "  group = tf.cast(group, tf.float32)\n",
        "\n",
        "  return image, label, group\n",
        "\n",
        "# These filtering fuctions will be called after the image preprocessing step to\n",
        "# evalute performance with respect to groups.\n",
        "def filter_young_group(image, label, young_group):\n",
        "  return True if tf.math.equal(young_group, 1.0) else False\n",
        "\n",
        "def filter_old_group(image, label, young_group):\n",
        "  return True if tf.math.equal(young_group, 0.0) else False"
      ],
      "execution_count": 0,
      "outputs": []
    },
    {
      "cell_type": "code",
      "metadata": {
        "id": "Geujt01xzLPR",
        "colab_type": "code",
        "cellView": "form",
        "colab": {}
      },
      "source": [
        "#@title Define False Positive Rate Calculator\n",
        "def calculate_fpr(results):\n",
        "  # results[] is a list of scalars that represent different metrics. In order,\n",
        "  # it represents the following: loss, accuracy, false positives, true negatives\n",
        "  fp = results[2]\n",
        "  tn = results[3]\n",
        "\n",
        "  fpr = float(fp / (fp + tn))\n",
        "  return fpr"
      ],
      "execution_count": 0,
      "outputs": []
    },
    {
      "cell_type": "code",
      "metadata": {
        "id": "UOD6iv078BeT",
        "colab_type": "code",
        "cellView": "form",
        "colab": {}
      },
      "source": [
        "#@title Define Input Function\n",
        "def input_function(split, batch_size, subgroup_filter):\n",
        "  # Use tfds.load method to build and load CelebA.\n",
        "  celeb_a_data = celeb_a_builder.as_dataset(split=split)\n",
        "\n",
        "  # Shuffle and batch dataset depending on split.\n",
        "  if split == 'train':\n",
        "    celeb_a_data = celeb_a_data.shuffle(1024).repeat().batch(batch_size)\n",
        "  elif split == 'test':\n",
        "    celeb_a_data = celeb_a_data.batch(batch_size)\n",
        "\n",
        "  # Apply preprocessing transformations.\n",
        "  celeb_a_data = celeb_a_data.map(preprocessing_function)\n",
        "\n",
        "  # When necessary, filter by age group of interest.\n",
        "  if subgroup_filter == 'Young':\n",
        "    celeb_a_data = celeb_a_data.filter(filter_young_group)\n",
        "  elif subgroup_filter == 'Old':\n",
        "    celeb_a_data = celeb_a_data.filter(filter_old_group)\n",
        "\n",
        "  # Return the transformed CelebA set.\n",
        "  return celeb_a_data"
      ],
      "execution_count": 0,
      "outputs": []
    },
    {
      "cell_type": "code",
      "metadata": {
        "id": "_vroRsWuLCf1",
        "colab_type": "code",
        "cellView": "form",
        "colab": {}
      },
      "source": [
        "#@title Define Plot Function\n",
        "def plot_results(results, title):\n",
        "  # Change default font type.\n",
        "  rcParams.update({\n",
        "  'font.family':'sans-serif',\n",
        "  'font.sans-serif':['Liberation Sans'],\n",
        "  })\n",
        "\n",
        "  # Set appropriate context for figure aesthetics.\n",
        "  sns.set_context(\"notebook\", font_scale=1.5)\n",
        "\n",
        "  if len(results) == 2:\n",
        "    # Plot bar charts for unconstrained model performance.\n",
        "    values = [value * 100 for value in results] # Converts rate to percentage\n",
        "    group_names = ['Young', 'Old']\n",
        "\n",
        "    plt.figure(figsize=(6, 3))\n",
        "    plt.barh(group_names, values, color=[\"#377eb8\", \"#ff7f00\"])\n",
        "    plt.xlim([0, int(max(values)) + 2])\n",
        "    plt.xlabel('False Positive Rate %')\n",
        "    plt.gca().xaxis.set_major_formatter(StrMethodFormatter('{x:,.1f}'))\n",
        "    plt.title(title)\n",
        "    plt.show()\n",
        "  else:\n",
        "    # Plot bar charts for unconstrained and constrained model performance.\n",
        "    values = [value * 100 for value in results]\n",
        "    df = pd.DataFrame(dict(graph=['Unconstrained', 'Constrained'],\n",
        "                           young=values[::2], old=values[1::2]))\n",
        "    index = np.arange(len(df))\n",
        "    width = 0.4\n",
        "\n",
        "    fig, ax = plt.subplots()\n",
        "    ax.barh(index, df.young, width, color=\"#377eb8\", label='Young')\n",
        "    ax.barh(index + width, df.old, width, color=\"#ff7f00\", label='Old')\n",
        "\n",
        "    plt.xlim([0, int(max(values)) + 2])\n",
        "    plt.xlabel('False Positive Rate %')\n",
        "    ax.set(yticks=index + (width / 2), yticklabels=df.graph)\n",
        "    ax.legend()\n",
        "\n",
        "    plt.gca().xaxis.set_major_formatter(StrMethodFormatter('{x:,.1f}'))\n",
        "    plt.title(title)\n",
        "    plt.show()"
      ],
      "execution_count": 0,
      "outputs": []
    },
    {
      "cell_type": "markdown",
      "metadata": {
        "id": "NXO3woTxiCk0",
        "colab_type": "text"
      },
      "source": [
        "# Build, Train & Evaluate Unconstrained Model\n",
        "To keep this notebook focused on TFCO, a simple, unconstrained `tf.keras.Sequential` model will be assembled.\n",
        "\n",
        "It is possible that model performance can greatly be improved upon by adding some complexity (e.g., more densely-connected layers, exploring different activiation functions, increasing image size), but that may distract from the goal of demonstrating how easy it is to apply the TFCO library when working with Keras. For that reason, the model will be kept simple — but feel encouraged to explore this space."
      ]
    },
    {
      "cell_type": "code",
      "metadata": {
        "id": "RNZhN_zU8DRD",
        "colab_type": "code",
        "colab": {}
      },
      "source": [
        "NUM_CLASSES = 2\n",
        "\n",
        "# For this notebook, accuracy, false positives (FPs) and true negatives (TNs)\n",
        "# will be used to evaluate performance. With FP and TN, the false positive rate\n",
        "# can be calculated: FP / (FP + TN)\n",
        "METRICS = [\n",
        "  tf.keras.metrics.BinaryAccuracy(name='accuracy'),\n",
        "  tf.keras.metrics.FalsePositives(name='fp'),\n",
        "  tf.keras.metrics.TrueNegatives(name='tn')\n",
        "]\n",
        "\n",
        "# The model consists of:\n",
        "# 1. An input layer that represents the 28x28x3 image flatten.\n",
        "# 2. A fully connected layer with 64 units activated by a ReLU function.\n",
        "# 3. A single-unit readout layer to output real-scores instead of probabilities.\n",
        "model = keras.Sequential([\n",
        "    keras.layers.Flatten(input_shape=(IMAGE_SIZE, IMAGE_SIZE, 3)),\n",
        "    keras.layers.Dense(64, activation=tf.nn.relu),\n",
        "    keras.layers.Dense(1, activation=None)\n",
        "])\n",
        "\n",
        "# TFCO by default uses hinge loss — and that will also be used in the model.\n",
        "model.compile(\n",
        "    optimizer=tf.train.AdamOptimizer(0.001),\n",
        "    loss='hinge',\n",
        "    metrics=METRICS)"
      ],
      "execution_count": 0,
      "outputs": []
    },
    {
      "cell_type": "markdown",
      "metadata": {
        "id": "76tZ3vk-tyo9",
        "colab_type": "text"
      },
      "source": [
        "With the model now defined and the input pipeline in place, the model is ready for training. To cut back on the amount of execution time and memory, the model will be trained by slicing the data into small batches with a small amount of repeated iterations.\n",
        "\n",
        "By the way, running this notebook in TensorFlow < 2.0.0 may result in a deprecation warning for `np.where`. Safely ignore this warning as TensorFlow addresses this in 2.X by using `tf.where` in place of `np.where`."
      ]
    },
    {
      "cell_type": "code",
      "metadata": {
        "id": "3m9OOdU_8GWo",
        "colab_type": "code",
        "outputId": "a509707a-e5fc-44c4-d749-3adce54f4010",
        "colab": {
          "base_uri": "https://localhost:8080/",
          "height": 230
        }
      },
      "source": [
        "celeb_a_train_data = input_function(\n",
        "    tfds.Split.TRAIN, batch_size=32, subgroup_filter='None')\n",
        "model.fit(celeb_a_train_data, epochs=5, steps_per_epoch=1000)"
      ],
      "execution_count": 28,
      "outputs": [
        {
          "output_type": "stream",
          "text": [
            "Epoch 1/5\n",
            "1000/1000 [==============================] - 41s 41ms/step - loss: 0.2385 - accuracy: 0.8572 - fp: 1097.0000 - tn: 15468.0000\n",
            "Epoch 2/5\n",
            "1000/1000 [==============================] - 40s 40ms/step - loss: 0.2384 - accuracy: 0.8571 - fp: 1065.0000 - tn: 15685.0000\n",
            "Epoch 3/5\n",
            "1000/1000 [==============================] - 40s 40ms/step - loss: 0.2370 - accuracy: 0.8576 - fp: 1001.0000 - tn: 15588.0000\n",
            "Epoch 4/5\n",
            "1000/1000 [==============================] - 40s 40ms/step - loss: 0.2354 - accuracy: 0.8560 - fp: 1051.0000 - tn: 15685.0000\n",
            "Epoch 5/5\n",
            "1000/1000 [==============================] - 41s 41ms/step - loss: 0.2297 - accuracy: 0.8595 - fp: 1021.0000 - tn: 15579.0000\n"
          ],
          "name": "stdout"
        },
        {
          "output_type": "execute_result",
          "data": {
            "text/plain": [
              "<tensorflow.python.keras.callbacks.History at 0x7f969bb92b00>"
            ]
          },
          "metadata": {
            "tags": []
          },
          "execution_count": 28
        }
      ]
    },
    {
      "cell_type": "markdown",
      "metadata": {
        "id": "nCtBH9DkvtUy",
        "colab_type": "text"
      },
      "source": [
        "Evaluating the model on the test data should result in a final accuracy score of around 80% to 85%. Not bad for a simple model with no fine tuning."
      ]
    },
    {
      "cell_type": "code",
      "metadata": {
        "id": "3KwQ37gV8JBc",
        "colab_type": "code",
        "outputId": "d540d1a4-cc8e-42f7-b5bf-a03e75fdaddb",
        "colab": {
          "base_uri": "https://localhost:8080/",
          "height": 52
        }
      },
      "source": [
        "print('Overall Results, Unconstrained')\n",
        "celeb_a_test_data = input_function(\n",
        "    tfds.Split.TEST, batch_size=32, subgroup_filter='None')\n",
        "results = model.evaluate(celeb_a_test_data)"
      ],
      "execution_count": 29,
      "outputs": [
        {
          "output_type": "stream",
          "text": [
            "Overall Results, Unconstrained\n",
            "    624/Unknown - 25s 40ms/step - loss: 0.2217 - accuracy: 0.8760 - fp: 965.0000 - tn: 9010.0000"
          ],
          "name": "stdout"
        }
      ]
    },
    {
      "cell_type": "markdown",
      "metadata": {
        "id": "L5jslIrzwIKo",
        "colab_type": "text"
      },
      "source": [
        "However, performance evaluated across age group may reveal some shortcomings."
      ]
    },
    {
      "cell_type": "code",
      "metadata": {
        "id": "GgyPlVqaqCLB",
        "colab_type": "code",
        "outputId": "4b6c2cf0-a28a-4973-9b44-a7a7c6067045",
        "colab": {
          "base_uri": "https://localhost:8080/",
          "height": 52
        }
      },
      "source": [
        "print('Results for Young Group, Unconstrained')\n",
        "celeb_a_test_young_group_data = input_function(\n",
        "    tfds.Split.TEST, batch_size=1, subgroup_filter='Young')\n",
        "unconstrained_results_young = model.evaluate(celeb_a_test_young_group_data)"
      ],
      "execution_count": 30,
      "outputs": [
        {
          "output_type": "stream",
          "text": [
            "Results for Young Group, Unconstrained\n",
            "  15114/Unknown - 104s 7ms/step - loss: 0.2929 - accuracy: 0.8857 - fp: 551.0000 - tn: 7066.0000"
          ],
          "name": "stdout"
        }
      ]
    },
    {
      "cell_type": "code",
      "metadata": {
        "id": "Z4h-Qp0L_umh",
        "colab_type": "code",
        "outputId": "7c395e35-6e0e-4d6a-c876-757be168b392",
        "colab": {
          "base_uri": "https://localhost:8080/",
          "height": 52
        }
      },
      "source": [
        "print('Results for Old Group, Unconstrained')\n",
        "celeb_a_test_old_group_data = input_function(\n",
        "    tfds.Split.TEST, batch_size=1, subgroup_filter='Old')\n",
        "unconstrained_results_old = model.evaluate(celeb_a_test_old_group_data)"
      ],
      "execution_count": 31,
      "outputs": [
        {
          "output_type": "stream",
          "text": [
            "Results for Old Group, Unconstrained\n",
            "   4848/Unknown - 52s 11ms/step - loss: 0.0000e+00 - accuracy: 0.8457 - fp: 414.0000 - tn: 1944.0000"
          ],
          "name": "stdout"
        }
      ]
    },
    {
      "cell_type": "code",
      "metadata": {
        "id": "WV-uQTQ5-yPc",
        "colab_type": "code",
        "cellView": "form",
        "outputId": "3f3b067b-1761-4dc9-953a-3d1d0991ec23",
        "colab": {
          "base_uri": "https://localhost:8080/",
          "height": 258
        }
      },
      "source": [
        "#@title Calculate FPR and Compare Unconstrained Performance\n",
        "young_fpr_unconstrained = calculate_fpr(unconstrained_results_young)\n",
        "old_fpr_unconstrained = calculate_fpr(unconstrained_results_old)\n",
        "\n",
        "title = 'Smiling Classifier Performance (Unconstrained-Only)'\n",
        "plot_results([young_fpr_unconstrained, old_fpr_unconstrained], title)"
      ],
      "execution_count": 32,
      "outputs": [
        {
          "output_type": "display_data",
          "data": {
            "image/png": "[encoded data removed]",
            "text/plain": [
              "<Figure size 432x216 with 1 Axes>"
            ]
          },
          "metadata": {
            "tags": []
          }
        }
      ]
    },
    {
      "cell_type": "markdown",
      "metadata": {
        "id": "zYVpZ-DpBsfD",
        "colab_type": "text"
      },
      "source": [
        "A false positive is where the model incorrectly predicts the positive class. In this context, that means a false positive outcome occurs when the ground truth is an image of a celebrity 'Not Smiling' and the model predicts 'Smiling'. By extension, the false positive rate, which is used in the visualization above, is a measure of accuracy for a test.\n",
        "\n",
        "Looking at performance across age group should reveal a **disproportionate gap between \"Old\" and \"Young\" categories**.\n",
        "\n",
        "This is where TFCO can come in and help close that gap by constraining the false positive rate to be within a more acceptable criterion.\n"
      ]
    },
    {
      "cell_type": "markdown",
      "metadata": {
        "id": "ZNnI_Eu70gVp",
        "colab_type": "text"
      },
      "source": [
        "# Constrained Model Set Up\n",
        "As documented in [TFCO's library](https://github.com/google-research/tensorflow_constrained_optimization/tree/master/README.md), there are severeal helpers that will make it easier to constrain the problem:\n",
        "\n",
        "1.   `tfco.rate_context()` – This is what will be used in constructing a constraint for each age group category.\n",
        "2.   `tfco.RateMinimizationProblem()`– The rate expression to be minimized here will be the false positive rate subject to age group. In other words, performance now will be evaluated based on the difference between the false positive rates of the age group and that of the overall dataset. For this demonstration, a false positive rate of less than or equal to 5% will be set as the constraint.\n",
        "3.   `tfco.ProxyLagrangianOptimizerV2()` – This is the helper that will actually solve the rate constraint problem.\n",
        "\n",
        "The cell below will call on these helpers to set up model training with the fairness constraint.\n",
        "\n",
        "\n"
      ]
    },
    {
      "cell_type": "code",
      "metadata": {
        "id": "BTukzvfD6iWr",
        "colab_type": "code",
        "colab": {}
      },
      "source": [
        "# The batch size is needed to create the input, labels and group tensors.\n",
        "# These tensors are initialized with all 0's. They will eventually be assigned\n",
        "# the batch content to them. A large batch size is chosen so that there are\n",
        "# enough number of \"Young\" and \"Old\" examples in each batch.\n",
        "BATCH_SIZE = 1024\n",
        "\n",
        "# Create input tensor.\n",
        "input_tensor = tf.Variable(\n",
        "    np.zeros((BATCH_SIZE, IMAGE_SIZE, IMAGE_SIZE, 3), dtype=\"float32\"),\n",
        "    name=\"input\")\n",
        "\n",
        "# Create labels and group tensors (assuming both labels and groups are binary).\n",
        "labels_tensor = tf.Variable(\n",
        "    np.zeros(BATCH_SIZE, dtype=\"float32\"), name=\"labels\")\n",
        "groups_tensor = tf.Variable(\n",
        "    np.zeros(BATCH_SIZE, dtype=\"float32\"), name=\"groups\")\n",
        "\n",
        "# Create a function that returns the applied 'model' to the input tensor\n",
        "# and generates constrained predictions.\n",
        "def predictions():\n",
        "  return model(input_tensor)\n",
        "\n",
        "# Create overall context and subsetted context.\n",
        "# The subsetted context contains subset of examples where group attribute < 1\n",
        "# (i.e. the subset of \"Old\" celebrity images).\n",
        "# \"groups_tensor < 1\" is used instead of \"groups_tensor == 0\" as the former\n",
        "# would be a comparison on the tensor value, while the latter would be a\n",
        "# comparison on the Tensor object.\n",
        "context = tfco.rate_context(predictions, labels=lambda:labels_tensor)\n",
        "context_subset = context.subset(lambda:groups_tensor < 1)\n",
        "\n",
        "# Setup list of constraints.\n",
        "# In this notebook, the constraint will just be: FPR to less or equal to 5%.\n",
        "constraints = [tfco.false_positive_rate(context_subset) <= 0.05]\n",
        "\n",
        "# Setup rate minimization problem: minimize overall error rate s.t. constraints.\n",
        "problem = tfco.RateMinimizationProblem(tfco.error_rate(context), constraints)\n",
        "\n",
        "# Create constrained optimizer and obtain train_op.\n",
        "# Separate optimizers are specified for the objective and constraints\n",
        "optimizer = tfco.ProxyLagrangianOptimizerV2(\n",
        "      optimizer=tf.keras.optimizers.Adam(learning_rate=0.001),\n",
        "      constraint_optimizer=tf.keras.optimizers.Adam(learning_rate=0.001),\n",
        "      num_constraints=problem.num_constraints)\n",
        "\n",
        "# A list of all trainable variables is also needed to use TFCO.\n",
        "var_list = (model.trainable_weights + problem.trainable_variables +\n",
        "            optimizer.trainable_variables())"
      ],
      "execution_count": 0,
      "outputs": []
    },
    {
      "cell_type": "markdown",
      "metadata": {
        "id": "thEe8A8UYbrO",
        "colab_type": "text"
      },
      "source": [
        "The model is now set up and ready to be trained with the false positive rate constraint across age group.\n",
        "\n",
        "Now, because the last iteration of the constrained model may not necessarily be the best performing model in terms of the defined constraint, the TFCO library comes equipped with `tfco.find_best_candidate_index()` that can help choose the best iterate out of the ones found after each epoch. Think of `tfco.find_best_candidate_index()` as an added heuristic that ranks each of the outcomes based on accuracy and fairness constraint (in this case, false positive rate across age group) separately with respect to the training data. That way, it can search for a better trade-off between overall accuracy and the fairness constraint.\n",
        "\n",
        "The following cells will start the training with constraints while also finding the best performing model per iteration."
      ]
    },
    {
      "cell_type": "code",
      "metadata": {
        "id": "73doG4HL6nPS",
        "colab_type": "code",
        "outputId": "abf9f1c0-dcdc-4994-8cf7-ff1e8c09167e",
        "colab": {
          "base_uri": "https://localhost:8080/",
          "height": 34
        }
      },
      "source": [
        "# Obtain train set batches.\n",
        "celeb_a_train_data = input_function(\n",
        "    tfds.Split.TRAIN, batch_size=BATCH_SIZE, subgroup_filter='None')\n",
        "\n",
        "NUM_ITERATIONS = 1000  # Number of training iterations.\n",
        "SKIP_ITERATIONS = 10  # Print training stats once in this many iterations.\n",
        "\n",
        "# Create temp directory for saving snapshots of models.\n",
        "temp_directory = tempfile.mktemp()\n",
        "os.mkdir(temp_directory)\n",
        "\n",
        "# List of objective and constraints across iterations.\n",
        "objective_list = []\n",
        "violations_list = []\n",
        "\n",
        "# Training iterations.\n",
        "iteration_count = 0\n",
        "for (image, label, group) in celeb_a_train_data:\n",
        "  # Assign current batch to input, labels and groups tensors.\n",
        "  input_tensor.assign(image)\n",
        "  labels_tensor.assign(label)\n",
        "  groups_tensor.assign(group)\n",
        "\n",
        "  # Run gradient update.\n",
        "  optimizer.minimize(problem, var_list=var_list)\n",
        "\n",
        "  # Record objective and violations.\n",
        "  objective = problem.objective()\n",
        "  violations = problem.constraints()\n",
        "\n",
        "  sys.stdout.write(\n",
        "      \"\\r Iteration %d: Hinge Loss = %.3f, Max. Constraint Violation = %.3f\"\n",
        "      % (iteration_count + 1, objective, max(violations)))\n",
        "\n",
        "  # Snapshot model once in SKIP_ITERATIONS iterations.\n",
        "  if iteration_count % SKIP_ITERATIONS == 0:\n",
        "    objective_list.append(objective)\n",
        "    violations_list.append(violations)\n",
        "\n",
        "    # Save snapshot of model weights.\n",
        "    model.save_weights(\n",
        "        temp_directory + \"/celeb_a_constrained_\" +\n",
        "        str(iteration_count / SKIP_ITERATIONS) + \".h5\")\n",
        "\n",
        "  iteration_count += 1\n",
        "  if iteration_count >= NUM_ITERATIONS:\n",
        "    break\n",
        "\n",
        "# Choose best model from recorded iterates and load that model.\n",
        "best_index = tfco.find_best_candidate_index(\n",
        "    np.array(objective_list), np.array(violations_list))\n",
        "model.load_weights(\n",
        "    temp_directory + \"/celeb_a_constrained_\" + str(best_index) + \".0.h5\")\n",
        "\n",
        "# Remove temp directory.\n",
        "os.system(\"rm -r \" + temp_directory)"
      ],
      "execution_count": 33,
      "outputs": [
        {
          "output_type": "stream",
          "text": [
            " Iteration 500: Hinge Loss = 0.269, Max. Constraint Violation = 0.115"
          ],
          "name": "stdout"
        },
        {
          "output_type": "execute_result",
          "data": {
            "text/plain": [
              "0"
            ]
          },
          "metadata": {
            "tags": []
          },
          "execution_count": 33
        }
      ]
    },
    {
      "cell_type": "code",
      "metadata": {
        "id": "dg-eW-jHjmiq",
        "colab_type": "code",
        "outputId": "324bd434-f7fe-46b2-f57a-598f78d9bc19",
        "colab": {
          "base_uri": "https://localhost:8080/",
          "height": 52
        }
      },
      "source": [
        "print('Overall Results, Constrained')\n",
        "celeb_a_test_data = input_function(\n",
        "    tfds.Split.TEST, batch_size=32, subgroup_filter='None')\n",
        "results = model.evaluate(celeb_a_test_data)"
      ],
      "execution_count": 34,
      "outputs": [
        {
          "output_type": "stream",
          "text": [
            "Overall Results, Constrained\n",
            "    624/Unknown - 25s 39ms/step - loss: 0.2014 - accuracy: 0.8648 - fp: 400.0000 - tn: 9575.0000"
          ],
          "name": "stdout"
        }
      ]
    },
    {
      "cell_type": "markdown",
      "metadata": {
        "id": "hfZn5WzJafth",
        "colab_type": "text"
      },
      "source": [
        "This isn't always the case, but here, the performance overall for the constrained model is better than the unconstrained model. But what's more important here is improved performance across groups."
      ]
    },
    {
      "cell_type": "code",
      "metadata": {
        "id": "SfqORQ7368Bv",
        "colab_type": "code",
        "outputId": "2053a27e-693d-45c2-a730-b041232e4dd7",
        "colab": {
          "base_uri": "https://localhost:8080/",
          "height": 52
        }
      },
      "source": [
        "print('Results for Young Group, Constrained')\n",
        "celeb_a_test_young_group_data = input_function(\n",
        "    tfds.Split.TEST, batch_size=1, subgroup_filter='Young')\n",
        "constrained_results_young = model.evaluate(celeb_a_test_young_group_data)"
      ],
      "execution_count": 35,
      "outputs": [
        {
          "output_type": "stream",
          "text": [
            "Results for Young Group, Constrained\n",
            "  15114/Unknown - 105s 7ms/step - loss: 0.2660 - accuracy: 0.8718 - fp: 220.0000 - tn: 7397.0000"
          ],
          "name": "stdout"
        }
      ]
    },
    {
      "cell_type": "code",
      "metadata": {
        "id": "v-oLGuxeBCKo",
        "colab_type": "code",
        "outputId": "45cdfa41-0b1d-4a63-f36b-b791b40962a9",
        "colab": {
          "base_uri": "https://localhost:8080/",
          "height": 52
        }
      },
      "source": [
        "print('Results for Old Group, Constrained')\n",
        "celeb_a_test_old_group_data = input_function(\n",
        "    tfds.Split.TEST, batch_size=1, subgroup_filter='Old')\n",
        "constrained_results_old = model.evaluate(celeb_a_test_old_group_data)"
      ],
      "execution_count": 36,
      "outputs": [
        {
          "output_type": "stream",
          "text": [
            "Results for Old Group, Constrained\n",
            "   4848/Unknown - 52s 11ms/step - loss: 0.0000e+00 - accuracy: 0.8432 - fp: 180.0000 - tn: 2178.0000"
          ],
          "name": "stdout"
        }
      ]
    },
    {
      "cell_type": "code",
      "metadata": {
        "id": "emp9iRG0YIhI",
        "colab_type": "code",
        "cellView": "form",
        "outputId": "68982c28-9a1b-40f0-b643-e4022f1efbb4",
        "colab": {
          "base_uri": "https://localhost:8080/",
          "height": 313
        }
      },
      "source": [
        "#@title Calculate FPR and Compare Constrained Performance\n",
        "young_fpr_constrained = calculate_fpr(constrained_results_young)\n",
        "old_fpr_constrained = calculate_fpr(constrained_results_old)\n",
        "\n",
        "title = 'Smiling Classifier Performance'\n",
        "fpr_results = [young_fpr_unconstrained, old_fpr_unconstrained,\n",
        "               young_fpr_constrained, old_fpr_constrained]\n",
        "plot_results(fpr_results, title)"
      ],
      "execution_count": 51,
      "outputs": [
        {
          "output_type": "display_data",
          "data": {
            "image/png": "[encoded data removed]",
            "text/plain": [
              "<Figure size 432x288 with 1 Axes>"
            ]
          },
          "metadata": {
            "tags": []
          }
        }
      ]
    },
    {
      "cell_type": "markdown",
      "metadata": {
        "id": "lrT-7EBrcBvV",
        "colab_type": "text"
      },
      "source": [
        "With TFCO's ability to express a more complex requirement as a rate constraint, it helped this model achieve a more desirable outcome. Sure, there is still room for improvement, but at least TFCO was able to find the best performing model that satisfies the constraint (at least, with respect to the 'Young' group; the 'Old' Group is close to satisfying the constraint) while reducing the disparity between the groups as much as possible."
      ]
    }
  ]
}
