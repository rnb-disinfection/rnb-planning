{
 "cells": [
  {
   "cell_type": "markdown",
   "metadata": {},
   "source": [
    "##### Copyright 2018 The TensorFlow Constrained Optimization Authors. All Rights Reserved.\n",
    "\n",
    "Licensed under the Apache License, Version 2.0 (the \"License\"); you may not use this file except in compliance with the License. You may obtain a copy of the License at\n",
    "\n",
    "> http://www.apache.org/licenses/LICENSE-2.0\n",
    "\n",
    "Unless required by applicable law or agreed to in writing, software distributed under the License is distributed on an \"AS IS\" BASIS, WITHOUT WARRANTIES OR CONDITIONS OF ANY KIND, either express or implied. See the License for the specific language governing permissions and limitations under the License."
   ]
  },
  {
   "cell_type": "markdown",
   "metadata": {},
   "source": [
    "## Overview"
   ]
  },
  {
   "cell_type": "markdown",
   "metadata": {},
   "source": [
    "In this notebook, we will compare two different ways to use minibatches to solve a rate-constrained training problem. We will consider a classification problem, where there is a fairness constraint on a small subset of examples, deemed as the *protected group*. For this task, we will first train a classifier by dividing the entire training set into fixed size minibatches and performing gradient updates on each minibatch. We will then show how to speed up the convergence of the optimizer by using two data streams, with one exclusively for the protected group.\n",
    "\n",
    "We start by importing the relevant modules."
   ]
  },
  {
   "cell_type": "code",
   "execution_count": 1,
   "metadata": {},
   "outputs": [],
   "source": [
    "import matplotlib.pyplot as plt\n",
    "import numpy as np\n",
    "import pandas as pd\n",
    "from six.moves import xrange\n",
    "from sklearn import model_selection\n",
    "import tensorflow.compat.v1 as tf\n",
    "\n",
    "tf.disable_eager_execution()\n",
    "\n",
    "# Tensorflow constrained optimization library\n",
    "import tensorflow_constrained_optimization as tfco"
   ]
  },
  {
   "cell_type": "markdown",
   "metadata": {},
   "source": [
    "## Communities and Crimes\n",
    "\n",
    "We will use the benchmark *Communities and Crimes* dataset from the UCI Machine Learning repository for our illustration. This dataset contains various demographic and racial distribution details (aggregated from census and law enforcement data sources) about different communities in the US, along with the per capita crime rate in each commmunity. \n",
    "As is commonly done in the literature, we will bin the crime rate attribute into two categories: \"low crime\" and \"high crime\", and formulate the task of predicting whether a community has a low crime rate or a high crime rate.\n",
    "\n",
    "A popular fairness goal for this dataset is that the performance of the learned classifier is similar across communities with different race distributions. As an example fairness constraint, we will treat communities where the percentage of black population is above a certain threshold as a protected group, and constrain the false negative rate (FNR) of the learned classifier for this group to be similar to the overall false negative rate (specifically, we will constrain the difference between the FNR for the protected group and the overall FNR to be at most 0.01).\n",
    "\n",
    "We begin by downloading and preprocessing the dataset."
   ]
  },
  {
   "cell_type": "code",
   "execution_count": 2,
   "metadata": {},
   "outputs": [],
   "source": [
    "# List of column names in the dataset.\n",
    "column_names = [\"state\", \"county\", \"community\", \"communityname\", \"fold\", \"population\", \"householdsize\", \"racepctblack\", \"racePctWhite\", \"racePctAsian\", \"racePctHisp\", \"agePct12t21\", \"agePct12t29\", \"agePct16t24\", \"agePct65up\", \"numbUrban\", \"pctUrban\", \"medIncome\", \"pctWWage\", \"pctWFarmSelf\", \"pctWInvInc\", \"pctWSocSec\", \"pctWPubAsst\", \"pctWRetire\", \"medFamInc\", \"perCapInc\", \"whitePerCap\", \"blackPerCap\", \"indianPerCap\", \"AsianPerCap\", \"OtherPerCap\", \"HispPerCap\", \"NumUnderPov\", \"PctPopUnderPov\", \"PctLess9thGrade\", \"PctNotHSGrad\", \"PctBSorMore\", \"PctUnemployed\", \"PctEmploy\", \"PctEmplManu\", \"PctEmplProfServ\", \"PctOccupManu\", \"PctOccupMgmtProf\", \"MalePctDivorce\", \"MalePctNevMarr\", \"FemalePctDiv\", \"TotalPctDiv\", \"PersPerFam\", \"PctFam2Par\", \"PctKids2Par\", \"PctYoungKids2Par\", \"PctTeen2Par\", \"PctWorkMomYoungKids\", \"PctWorkMom\", \"NumIlleg\", \"PctIlleg\", \"NumImmig\", \"PctImmigRecent\", \"PctImmigRec5\", \"PctImmigRec8\", \"PctImmigRec10\", \"PctRecentImmig\", \"PctRecImmig5\", \"PctRecImmig8\", \"PctRecImmig10\", \"PctSpeakEnglOnly\", \"PctNotSpeakEnglWell\", \"PctLargHouseFam\", \"PctLargHouseOccup\", \"PersPerOccupHous\", \"PersPerOwnOccHous\", \"PersPerRentOccHous\", \"PctPersOwnOccup\", \"PctPersDenseHous\", \"PctHousLess3BR\", \"MedNumBR\", \"HousVacant\", \"PctHousOccup\", \"PctHousOwnOcc\", \"PctVacantBoarded\", \"PctVacMore6Mos\", \"MedYrHousBuilt\", \"PctHousNoPhone\", \"PctWOFullPlumb\", \"OwnOccLowQuart\", \"OwnOccMedVal\", \"OwnOccHiQuart\", \"RentLowQ\", \"RentMedian\", \"RentHighQ\", \"MedRent\", \"MedRentPctHousInc\", \"MedOwnCostPctInc\", \"MedOwnCostPctIncNoMtg\", \"NumInShelters\", \"NumStreet\", \"PctForeignBorn\", \"PctBornSameState\", \"PctSameHouse85\", \"PctSameCity85\", \"PctSameState85\", \"LemasSwornFT\", \"LemasSwFTPerPop\", \"LemasSwFTFieldOps\", \"LemasSwFTFieldPerPop\", \"LemasTotalReq\", \"LemasTotReqPerPop\", \"PolicReqPerOffic\", \"PolicPerPop\", \"RacialMatchCommPol\", \"PctPolicWhite\", \"PctPolicBlack\", \"PctPolicHisp\", \"PctPolicAsian\", \"PctPolicMinor\", \"OfficAssgnDrugUnits\", \"NumKindsDrugsSeiz\", \"PolicAveOTWorked\", \"LandArea\", \"PopDens\", \"PctUsePubTrans\", \"PolicCars\", \"PolicOperBudg\", \"LemasPctPolicOnPatr\", \"LemasGangUnitDeploy\", \"LemasPctOfficDrugUn\", \"PolicBudgPerPop\", \"ViolentCrimesPerPop\"]"
   ]
  },
  {
   "cell_type": "code",
   "execution_count": 3,
   "metadata": {
    "scrolled": true
   },
   "outputs": [
    {
     "data": {
      "text/html": [
       "<div>\n",
       "<style scoped>\n",
       "    .dataframe tbody tr th:only-of-type {\n",
       "        vertical-align: middle;\n",
       "    }\n",
       "\n",
       "    .dataframe tbody tr th {\n",
       "        vertical-align: top;\n",
       "    }\n",
       "\n",
       "    .dataframe thead th {\n",
       "        text-align: right;\n",
       "    }\n",
       "</style>\n",
       "<table border=\"1\" class=\"dataframe\">\n",
       "  <thead>\n",
       "    <tr style=\"text-align: right;\">\n",
       "      <th></th>\n",
       "      <th>state</th>\n",
       "      <th>county</th>\n",
       "      <th>community</th>\n",
       "      <th>communityname</th>\n",
       "      <th>fold</th>\n",
       "      <th>population</th>\n",
       "      <th>householdsize</th>\n",
       "      <th>racepctblack</th>\n",
       "      <th>racePctWhite</th>\n",
       "      <th>racePctAsian</th>\n",
       "      <th>...</th>\n",
       "      <th>LandArea</th>\n",
       "      <th>PopDens</th>\n",
       "      <th>PctUsePubTrans</th>\n",
       "      <th>PolicCars</th>\n",
       "      <th>PolicOperBudg</th>\n",
       "      <th>LemasPctPolicOnPatr</th>\n",
       "      <th>LemasGangUnitDeploy</th>\n",
       "      <th>LemasPctOfficDrugUn</th>\n",
       "      <th>PolicBudgPerPop</th>\n",
       "      <th>ViolentCrimesPerPop</th>\n",
       "    </tr>\n",
       "  </thead>\n",
       "  <tbody>\n",
       "    <tr>\n",
       "      <th>0</th>\n",
       "      <td>8</td>\n",
       "      <td>NaN</td>\n",
       "      <td>NaN</td>\n",
       "      <td>Lakewoodcity</td>\n",
       "      <td>1</td>\n",
       "      <td>0.19</td>\n",
       "      <td>0.33</td>\n",
       "      <td>0.02</td>\n",
       "      <td>0.90</td>\n",
       "      <td>0.12</td>\n",
       "      <td>...</td>\n",
       "      <td>0.12</td>\n",
       "      <td>0.26</td>\n",
       "      <td>0.20</td>\n",
       "      <td>0.06</td>\n",
       "      <td>0.04</td>\n",
       "      <td>0.9</td>\n",
       "      <td>0.5</td>\n",
       "      <td>0.32</td>\n",
       "      <td>0.14</td>\n",
       "      <td>0.20</td>\n",
       "    </tr>\n",
       "    <tr>\n",
       "      <th>1</th>\n",
       "      <td>53</td>\n",
       "      <td>NaN</td>\n",
       "      <td>NaN</td>\n",
       "      <td>Tukwilacity</td>\n",
       "      <td>1</td>\n",
       "      <td>0.00</td>\n",
       "      <td>0.16</td>\n",
       "      <td>0.12</td>\n",
       "      <td>0.74</td>\n",
       "      <td>0.45</td>\n",
       "      <td>...</td>\n",
       "      <td>0.02</td>\n",
       "      <td>0.12</td>\n",
       "      <td>0.45</td>\n",
       "      <td>NaN</td>\n",
       "      <td>NaN</td>\n",
       "      <td>NaN</td>\n",
       "      <td>NaN</td>\n",
       "      <td>0.00</td>\n",
       "      <td>NaN</td>\n",
       "      <td>0.67</td>\n",
       "    </tr>\n",
       "    <tr>\n",
       "      <th>2</th>\n",
       "      <td>24</td>\n",
       "      <td>NaN</td>\n",
       "      <td>NaN</td>\n",
       "      <td>Aberdeentown</td>\n",
       "      <td>1</td>\n",
       "      <td>0.00</td>\n",
       "      <td>0.42</td>\n",
       "      <td>0.49</td>\n",
       "      <td>0.56</td>\n",
       "      <td>0.17</td>\n",
       "      <td>...</td>\n",
       "      <td>0.01</td>\n",
       "      <td>0.21</td>\n",
       "      <td>0.02</td>\n",
       "      <td>NaN</td>\n",
       "      <td>NaN</td>\n",
       "      <td>NaN</td>\n",
       "      <td>NaN</td>\n",
       "      <td>0.00</td>\n",
       "      <td>NaN</td>\n",
       "      <td>0.43</td>\n",
       "    </tr>\n",
       "    <tr>\n",
       "      <th>3</th>\n",
       "      <td>34</td>\n",
       "      <td>5.0</td>\n",
       "      <td>81440.0</td>\n",
       "      <td>Willingborotownship</td>\n",
       "      <td>1</td>\n",
       "      <td>0.04</td>\n",
       "      <td>0.77</td>\n",
       "      <td>1.00</td>\n",
       "      <td>0.08</td>\n",
       "      <td>0.12</td>\n",
       "      <td>...</td>\n",
       "      <td>0.02</td>\n",
       "      <td>0.39</td>\n",
       "      <td>0.28</td>\n",
       "      <td>NaN</td>\n",
       "      <td>NaN</td>\n",
       "      <td>NaN</td>\n",
       "      <td>NaN</td>\n",
       "      <td>0.00</td>\n",
       "      <td>NaN</td>\n",
       "      <td>0.12</td>\n",
       "    </tr>\n",
       "    <tr>\n",
       "      <th>4</th>\n",
       "      <td>42</td>\n",
       "      <td>95.0</td>\n",
       "      <td>6096.0</td>\n",
       "      <td>Bethlehemtownship</td>\n",
       "      <td>1</td>\n",
       "      <td>0.01</td>\n",
       "      <td>0.55</td>\n",
       "      <td>0.02</td>\n",
       "      <td>0.95</td>\n",
       "      <td>0.09</td>\n",
       "      <td>...</td>\n",
       "      <td>0.04</td>\n",
       "      <td>0.09</td>\n",
       "      <td>0.02</td>\n",
       "      <td>NaN</td>\n",
       "      <td>NaN</td>\n",
       "      <td>NaN</td>\n",
       "      <td>NaN</td>\n",
       "      <td>0.00</td>\n",
       "      <td>NaN</td>\n",
       "      <td>0.03</td>\n",
       "    </tr>\n",
       "  </tbody>\n",
       "</table>\n",
       "<p>5 rows × 128 columns</p>\n",
       "</div>"
      ],
      "text/plain": [
       "   state  county  community        communityname  fold  population  \\\n",
       "0      8     NaN        NaN         Lakewoodcity     1        0.19   \n",
       "1     53     NaN        NaN          Tukwilacity     1        0.00   \n",
       "2     24     NaN        NaN         Aberdeentown     1        0.00   \n",
       "3     34     5.0    81440.0  Willingborotownship     1        0.04   \n",
       "4     42    95.0     6096.0    Bethlehemtownship     1        0.01   \n",
       "\n",
       "   householdsize  racepctblack  racePctWhite  racePctAsian  ...  LandArea  \\\n",
       "0           0.33          0.02          0.90          0.12  ...      0.12   \n",
       "1           0.16          0.12          0.74          0.45  ...      0.02   \n",
       "2           0.42          0.49          0.56          0.17  ...      0.01   \n",
       "3           0.77          1.00          0.08          0.12  ...      0.02   \n",
       "4           0.55          0.02          0.95          0.09  ...      0.04   \n",
       "\n",
       "   PopDens  PctUsePubTrans  PolicCars  PolicOperBudg  LemasPctPolicOnPatr  \\\n",
       "0     0.26            0.20       0.06           0.04                  0.9   \n",
       "1     0.12            0.45        NaN            NaN                  NaN   \n",
       "2     0.21            0.02        NaN            NaN                  NaN   \n",
       "3     0.39            0.28        NaN            NaN                  NaN   \n",
       "4     0.09            0.02        NaN            NaN                  NaN   \n",
       "\n",
       "   LemasGangUnitDeploy  LemasPctOfficDrugUn  PolicBudgPerPop  \\\n",
       "0                  0.5                 0.32             0.14   \n",
       "1                  NaN                 0.00              NaN   \n",
       "2                  NaN                 0.00              NaN   \n",
       "3                  NaN                 0.00              NaN   \n",
       "4                  NaN                 0.00              NaN   \n",
       "\n",
       "   ViolentCrimesPerPop  \n",
       "0                 0.20  \n",
       "1                 0.67  \n",
       "2                 0.43  \n",
       "3                 0.12  \n",
       "4                 0.03  \n",
       "\n",
       "[5 rows x 128 columns]"
      ]
     },
     "execution_count": 3,
     "metadata": {},
     "output_type": "execute_result"
    }
   ],
   "source": [
    "dataset_url = \"http://archive.ics.uci.edu/ml/machine-learning-databases/communities/communities.data\"\n",
    "\n",
    "# Read dataset from the UCI web repository and assign column names.\n",
    "data_df = pd.read_csv(dataset_url, sep=\",\", names=column_names,\n",
    "                      na_values=\"?\")\n",
    "data_df.head()"
   ]
  },
  {
   "cell_type": "markdown",
   "metadata": {},
   "source": [
    "For our illustration, we will need the label and group proportions to be imbalanced (i.e. the high crime communities to be far fewer in number than the low crime ones, and the communities marked as protected to be far fewer than those that are not). We will make the label and group assignments accordingly.\n",
    "\n",
    "The 'ViolentCrimesPerPop' column contains the per capita crime rate for each community. We label the communities with a crime rate above the 95-th percentile as 'high crime' and the others as 'low crime'. These would serve as our target labels for binary classification."
   ]
  },
  {
   "cell_type": "code",
   "execution_count": 4,
   "metadata": {},
   "outputs": [],
   "source": [
    "# Make sure that there are no missing values in the \"ViolentCrimesPerPop\" column.\n",
    "assert(not data_df[\"ViolentCrimesPerPop\"].isna().any())\n",
    "\n",
    "# Binarize the \"ViolentCrimesPerPop\" column and obtain labels.\n",
    "crime_rate_95_percentile = data_df[\"ViolentCrimesPerPop\"].quantile(q=0.95)\n",
    "labels_df = (data_df[\"ViolentCrimesPerPop\"] >= crime_rate_95_percentile)\n",
    "\n",
    "# Now that we have assigned binary labels, \n",
    "# we drop the \"ViolentCrimesPerPop\" column from the data frame.\n",
    "data_df.drop(columns=\"ViolentCrimesPerPop\", inplace=True)"
   ]
  },
  {
   "cell_type": "markdown",
   "metadata": {},
   "source": [
    "We next identify communities where the percentage of black population is above the 95-th percentile and term them as the protected group. This grouping would be used to impose fairness constraints during training. "
   ]
  },
  {
   "cell_type": "code",
   "execution_count": 5,
   "metadata": {},
   "outputs": [],
   "source": [
    "# Make sure that there are no no missing values in the \"racepctblack\" column.\n",
    "assert(not data_df[\"racepctblack\"].isna().any())\n",
    "\n",
    "# Binarize the \"racepctblack\" column and create protected groups.\n",
    "race_black_95_percentile = data_df[\"racepctblack\"].quantile(q=0.95)\n",
    "groups_df = (data_df[\"racepctblack\"] >= race_black_95_percentile)\n",
    "\n",
    "# We do not drop the \"racepctblack\" column, as we would include it \n",
    "# as a feature for prediction."
   ]
  },
  {
   "cell_type": "markdown",
   "metadata": {},
   "source": [
    "All that remains is to pick the features. We drop all categorical columns, and use the numerical columns as features for prediction."
   ]
  },
  {
   "cell_type": "code",
   "execution_count": 6,
   "metadata": {},
   "outputs": [],
   "source": [
    "data_df.drop(columns=[\"state\", \"county\", \"community\", \"communityname\", \"fold\"],\n",
    "             inplace=True)"
   ]
  },
  {
   "cell_type": "markdown",
   "metadata": {},
   "source": [
    "Some of the numerical columns contain missing values (denoted by a NaN). For each feature that has at least one value missing, we append an additional boolean \"is_missing\" feature indicating that the value was missing, and fill the missing value with 0."
   ]
  },
  {
   "cell_type": "code",
   "execution_count": 7,
   "metadata": {},
   "outputs": [],
   "source": [
    "feature_names = data_df.columns\n",
    "for feature_name in feature_names:  \n",
    "    missing_rows = data_df[feature_name].isna()  # Which rows have missing values?\n",
    "    if missing_rows.any():  # Check if at least one row has a missing value.\n",
    "        data_df[feature_name].fillna(0.0, inplace=True)  # Fill NaN with 0.\n",
    "        missing_rows.rename(feature_name + \"_is_missing\", inplace=True)\n",
    "        data_df = data_df.join(missing_rows)  # Append boolean \"is_missing\" feature."
   ]
  },
  {
   "cell_type": "markdown",
   "metadata": {},
   "source": [
    "We thus have the labels, protected group indicators and features to set up our training problem."
   ]
  },
  {
   "cell_type": "code",
   "execution_count": 8,
   "metadata": {},
   "outputs": [],
   "source": [
    "labels = labels_df.values.astype(np.float32)\n",
    "groups = groups_df.values.astype(np.float32)\n",
    "features = data_df.values.astype(np.float32)"
   ]
  },
  {
   "cell_type": "markdown",
   "metadata": {},
   "source": [
    "Finally, we divide the dataset randomly into two-thirds for training and one-thirds for testing."
   ]
  },
  {
   "cell_type": "code",
   "execution_count": 9,
   "metadata": {},
   "outputs": [],
   "source": [
    "# Set random seed so that the results are reproducible.\n",
    "np.random.seed(123456)\n",
    "\n",
    "# Train and test indices.\n",
    "train_indices, test_indices = model_selection.train_test_split(\n",
    "    xrange(features.shape[0]), test_size=1./3.)\n",
    "\n",
    "# Train features, labels and protected groups.\n",
    "x_train = features[train_indices, :]\n",
    "y_train = labels[train_indices]\n",
    "z_train = groups[train_indices]\n",
    "\n",
    "# Test features, labels and protected groups.\n",
    "x_test = features[test_indices, :]\n",
    "y_test = labels[test_indices]\n",
    "z_test = groups[test_indices]"
   ]
  },
  {
   "cell_type": "markdown",
   "metadata": {},
   "source": [
    "## Minibatch Training with a Single Stream"
   ]
  },
  {
   "cell_type": "markdown",
   "metadata": {},
   "source": [
    "Having processed the data, we will now formulate our fairness-constrained training problem. To solve this problem, we will first implement the standard minibatching strategy of dividing the entire training set into fixed size minibatches and performing gradient updates on each minibatch.\n",
    "\n",
    "We will work with a linear classification model and define the data and model tensors. Note that we use placeholder tensors for the labels, groups indicators and features so that we can later feed in the contents from a minibatch to these tensors."
   ]
  },
  {
   "cell_type": "code",
   "execution_count": 10,
   "metadata": {},
   "outputs": [],
   "source": [
    "num_examples, dimension = x_train.shape\n",
    "\n",
    "# Reset TF graph.\n",
    "tf.reset_default_graph() \n",
    "\n",
    "# Create variables containing the model parameters.\n",
    "weights = tf.Variable(tf.zeros(dimension), dtype=tf.float32, name=\"weights\")\n",
    "threshold = tf.Variable(0.0, dtype=tf.float32, name=\"threshold\")\n",
    "\n",
    "# Create tensors for data and predictions.\n",
    "labels_tensor = tf.placeholder(tf.float32, shape=(None,), name=\"labels\")\n",
    "groups_tensor = tf.placeholder(tf.float32, shape=(None,), name=\"groups\")\n",
    "features_tensor = tf.placeholder(tf.float32, shape=(None, dimension), name=\"features\")\n",
    "predictions_tensor = tf.tensordot(features_tensor, weights, axes=(1, 0)) - threshold"
   ]
  },
  {
   "cell_type": "markdown",
   "metadata": {},
   "source": [
    "The fairness constraint that we wish to impose is that the FNR of the trained model for the communities marked as protected is different from the overall FNR by at most 0.01. To impose this constraint, we will need to define two contexts: one for overall FNR and the other for the protected group FNR. The first context is defined using the `tfco.rate_context` function. The second context is obtained using the `context.subset` function by providing a boolean predicate indicating which communities belong to the protected group."
   ]
  },
  {
   "cell_type": "code",
   "execution_count": 11,
   "metadata": {},
   "outputs": [],
   "source": [
    "# Create context for overall dataset, and for the protected group examples.\n",
    "context = tfco.rate_context(predictions_tensor, labels=labels_tensor)\n",
    "context_protected = context.subset(groups_tensor > 0)\n",
    "# Note that we will not be able to use an equality condition\n",
    "# of the form groups_tensor == 1 for the predicate, as this will\n",
    "# check if two Tensor objects are the same, instead of checking \n",
    "# whether the elements of a tensor equals 1."
   ]
  },
  {
   "cell_type": "markdown",
   "metadata": {},
   "source": [
    "We then set up the rate-constrained minimization problem. The goal is to optimize the overall error rate subject to fairness constraints. The error rate is defined on the overall context and is approximated during training using the hinge loss (the default option). We use the proxy-Lagrangian optimizer for solving the constrained optimization problem, with Adagrad as the inner optimizer. We set the learning rate for updates to the model parameters to 1 and the learning rate for updates to the internal Lagrange multiplier parameters to 0.5 (among the different learning rates we experimented with, we found these choices to yield the best convergence behavior)."
   ]
  },
  {
   "cell_type": "code",
   "execution_count": 12,
   "metadata": {},
   "outputs": [],
   "source": [
    "# Set up rate-constrained minimization problem.\n",
    "problem = tfco.RateMinimizationProblem(\n",
    "    tfco.error_rate(context), \n",
    "    [tfco.false_negative_rate(context_protected) <= tfco.false_negative_rate(context) + 0.01,\n",
    "     tfco.false_negative_rate(context_protected) >= tfco.false_negative_rate(context) - 0.01])\n",
    "\n",
    "# Set up optimizer.\n",
    "optimizer = tfco.ProxyLagrangianOptimizerV1(\n",
    "    optimizer=tf.train.AdagradOptimizer(learning_rate=1.0),\n",
    "    constraint_optimizer=tf.train.AdagradOptimizer(learning_rate=0.5)\n",
    ")\n",
    "train_op = optimizer.minimize(problem)"
   ]
  },
  {
   "cell_type": "markdown",
   "metadata": {},
   "source": [
    "Before proceeding to solving the training problem, we write a couple of helper functions to evaluate the performance of the learned classifier."
   ]
  },
  {
   "cell_type": "code",
   "execution_count": 13,
   "metadata": {},
   "outputs": [],
   "source": [
    "def average_hinge_loss(labels, predictions):\n",
    "    # Returns the average hinge loss for given labels and predictions.\n",
    "    # Recall that the labels are binary (0 or 1).\n",
    "    signed_labels = (labels * 2) - 1\n",
    "    return np.mean(np.maximum(0.0, 1.0 - signed_labels * predictions))\n",
    "\n",
    "def false_negative_rate(labels, predictions):\n",
    "    # Returns the false negative rate for given labels and predictions.\n",
    "    # Calculate fraction of positive examples that were classified as negative.\n",
    "    pos_predictions = predictions[labels > 0] \n",
    "    return np.mean(pos_predictions <= 0)"
   ]
  },
  {
   "cell_type": "markdown",
   "metadata": {},
   "source": [
    "We are now ready to train our model. We divide the training set into small minibatches of size 32 and perform a total of 10000 gradient updates, making multiple passes over the training set. We maintain a counter for the minibatches, and based on the current counter, identify the window of indices in the training set to read from, and cycle back to the beginning whenever we reach the end of the training set."
   ]
  },
  {
   "cell_type": "code",
   "execution_count": 14,
   "metadata": {},
   "outputs": [],
   "source": [
    "# Total number of iterations.\n",
    "num_iterations = 10000\n",
    "\n",
    "# Set up counter for minibatch stream.\n",
    "batch_size = 32\n",
    "num_batches = int(num_examples / batch_size)\n",
    "batch_index = 0\n",
    "\n",
    "# List of objective and constraint violations on training and test sets.\n",
    "train_objectives = []\n",
    "train_constraints = []\n",
    "test_objectives = []\n",
    "test_constraints = []\n",
    "\n",
    "with tf.Session() as session:\n",
    "    session.run(tf.global_variables_initializer())\n",
    "    \n",
    "    # Loop over minibatches.\n",
    "    for ii in xrange(num_iterations):\n",
    "        # Indices for the current minibatch.\n",
    "        batch_indices = xrange(batch_index * batch_size, \n",
    "                               (batch_index + 1) * batch_size)\n",
    "        # Cycle back to the beginning if we have reached the end of the training set.\n",
    "        batch_indices = [ind % num_examples for ind in batch_indices]\n",
    "        \n",
    "        # Perform gradient update by feeding in the current minibatch.\n",
    "        session.run(train_op, feed_dict={features_tensor: x_train[batch_indices, :],\n",
    "                                         labels_tensor: y_train[batch_indices],\n",
    "                                         groups_tensor: z_train[batch_indices]})\n",
    "        \n",
    "        # Obtain current weights and threshold.\n",
    "        trained_weights, trained_threshold = session.run((weights, threshold))\n",
    "        \n",
    "        # Evaluate objective value and constraint violations on entire training set.\n",
    "        predictions_train = np.matmul(x_train, trained_weights) - trained_threshold\n",
    "        objective = average_hinge_loss(y_train, predictions_train)\n",
    "        fnr_overall = false_negative_rate(y_train, predictions_train)\n",
    "        fnr_protected = false_negative_rate(y_train[z_train == 1], \n",
    "                                            predictions_train[z_train == 1])\n",
    "        \n",
    "        train_objectives.append(objective)\n",
    "        train_constraints.append([fnr_overall - fnr_protected - 0.01,\n",
    "                                  fnr_protected - fnr_overall - 0.01])\n",
    "        \n",
    "        # Evaluate objective value and constraint violations on entire test set.\n",
    "        predictions_test = np.matmul(x_test, trained_weights) - trained_threshold\n",
    "        objective = average_hinge_loss(y_test, predictions_test)\n",
    "        fnr_overall = false_negative_rate(y_test, predictions_test)\n",
    "        fnr_protected = false_negative_rate(y_test[z_test == 1], \n",
    "                                            predictions_test[z_test == 1])\n",
    "        test_objectives.append(objective)\n",
    "        test_constraints.append([fnr_overall - fnr_protected - 0.01,\n",
    "                                 fnr_protected - fnr_overall - 0.01])\n",
    "\n",
    "        # Increment minibatch counter.\n",
    "        batch_index += 1"
   ]
  },
  {
   "cell_type": "markdown",
   "metadata": {},
   "source": [
    "Note that after each update, we record the current model's hinge loss objective and the current model's constraint violations on the entire training set (not the current minibatch) and the test set.\n",
    "\n",
    "To analyze the convergence of the optimizer, we plot the cumulative means of the objective across iterations (i.e. for each $t$, we plot the average objective value across iterations $1, \\ldots, t$). For the constraints, we plot the maximum of the cumulative means of the two constraint violations. Had we instead plotted the individual objective and constraint values at each iteration, we would have likely seen a lot of oscillations. Since we expect the iterates to converge on *average*, the cumulative means of the objective and constraints provide a better picture of the optimizer's convergence."
   ]
  },
  {
   "cell_type": "code",
   "execution_count": 15,
   "metadata": {},
   "outputs": [
    {
     "data": {
      "image/png": "[encoded data removed]",
      "text/plain": [
       "<Figure size 720x360 with 2 Axes>"
      ]
     },
     "metadata": {
      "needs_background": "light"
     },
     "output_type": "display_data"
    }
   ],
   "source": [
    "  # Plot objective and (max) constraint violation across minibatches.\n",
    "ff, ax = plt.subplots(1, 2, figsize=(10, 5))\n",
    "iteration_counts = range(1, num_iterations + 1)\n",
    "\n",
    "# Plot of cumulative means of objective.\n",
    "average_objectives = np.cumsum(train_objectives) / iteration_counts\n",
    "ax[0].plot(iteration_counts, average_objectives)\n",
    "ax[0].set_title(\"Cumulative Means of Hinge Loss\")\n",
    "ax[0].set_xlabel(\"Number of iterations\")\n",
    "\n",
    "# Plot of max cumulative means of contraint violations.\n",
    "cum_mean1 = np.cumsum([x[0] for x in train_constraints]) / iteration_counts\n",
    "cum_mean2 = np.cumsum([x[1] for x in train_constraints]) / iteration_counts\n",
    "max_average_constraints = np.amax([cum_mean1, cum_mean2], axis=0)\n",
    "ax[1].plot(iteration_counts,  max_average_constraints)\n",
    "ax[1].set_title(\"(Max) Cumulative Means of Constraint Violation\")\n",
    "ax[1].set_xlabel(\"Number of iterations\")\n",
    "\n",
    "ff.suptitle(\"Train Performance\", y=1.05, fontweight=\"bold\")\n",
    "ff.tight_layout()"
   ]
  },
  {
   "cell_type": "markdown",
   "metadata": {},
   "source": [
    "Clearly, the (average) training objective converges to a small value, while the maximum (average) constraint violation approaches 0. Can we converge faster than this by using a different minibatching strategy?"
   ]
  },
  {
   "cell_type": "markdown",
   "metadata": {},
   "source": [
    "## Minibatch Training with Multiple Streams"
   ]
  },
  {
   "cell_type": "markdown",
   "metadata": {},
   "source": [
    "One of the factors that may slow down an optimizer for the present dataset is the severe imbalance in the label and group proportions. "
   ]
  },
  {
   "cell_type": "code",
   "execution_count": 16,
   "metadata": {},
   "outputs": [
    {
     "name": "stdout",
     "output_type": "stream",
     "text": [
      "Proportion of protected group examples in training set = 0.051\n",
      "Proportion of positive protected group examples in training set = 0.018\n",
      "\n",
      "Number of protected group examples in training set = 68\n",
      "Number of positive protected group examples in training set = 24\n"
     ]
    }
   ],
   "source": [
    "print(\"Proportion of protected group examples in training set = %.3f\" \n",
    "      % np.mean(z_train == 1))\n",
    "print(\"Proportion of positive protected group examples in training set = %.3f\"\n",
    "      % np.mean((z_train == 1) & (y_train == 1)))\n",
    "print()\n",
    "print(\"Number of protected group examples in training set = %d\" \n",
    "      % np.sum(z_train == 1))\n",
    "print(\"Number of positive protected group examples in training set = %d\"\n",
    "      % np.sum((z_train == 1) & (y_train == 1)))"
   ]
  },
  {
   "cell_type": "markdown",
   "metadata": {},
   "source": [
    "With the previous minibatch implementation, only 5.1% of the examples in a minibatch are likely to come from the protected group, and only 1.8% of the examples in a minibatch are likely to be positive examples from the protected group. Therefore most minibatches are likely to yield poor estimates of FNR on the protected group. As a consequence, we will sometimes perform updates that are very small, and sometimes overcorrect with extremely large updates, leading to a slow convergence.\n",
    "\n",
    "To avoid such noisy updates, we recommend using two streams of minibatches, with the first stream formed as before from the entire training set, and the second stream formed solely from the protected group examples. While defining the fairness constraints, we will compute the overall FNR using minibatches from the first stream and the protected group FNR using minibatches the second stream. By setting the batch size for the second stream to a reasonably large value, we expect our updates to be less noisy, and as a result, expect the optimizer to converge faster."
   ]
  },
  {
   "cell_type": "code",
   "execution_count": 17,
   "metadata": {},
   "outputs": [],
   "source": [
    "# Protected subset from train set.\n",
    "x_train_protected = x_train[z_train == 1, :]\n",
    "y_train_protected = y_train[z_train == 1]\n",
    "\n",
    "# Protected subset from test set.\n",
    "x_test_protected = x_test[z_test == 1, :]\n",
    "y_test_protected = y_test[z_test == 1]\n",
    "\n",
    "# Number of examples, dimension, \n",
    "# and number of protected examples in training set.\n",
    "num_examples, dimension = x_train.shape\n",
    "num_examples_protected = np.sum(z_train == 1)"
   ]
  },
  {
   "cell_type": "markdown",
   "metadata": {},
   "source": [
    "Recall that with the earlier minibatching strategy, we needed to create just one context object and were able to use the `context.subset` method to subset the context and define rates on the protected group. With the new minibatching approach, we will have to define separate placeholder tensors to hold features and labels from the two streams. We will also have to maintain separate tensors for holding predictions for minibatches from the two streams (note that both prediction tensors need to be defined using the same model parameters)."
   ]
  },
  {
   "cell_type": "code",
   "execution_count": 18,
   "metadata": {},
   "outputs": [],
   "source": [
    "# Reset existing TF computational graph.\n",
    "tf.reset_default_graph() \n",
    "\n",
    "# Create variables containing the model parameters.\n",
    "weights = tf.Variable(tf.zeros(dimension), dtype=tf.float32, name=\"weights\")\n",
    "threshold = tf.Variable(0.0, dtype=tf.float32, name=\"threshold\")\n",
    "\n",
    "# Create labels, features and predictions tensors for the entire dataset.\n",
    "labels_tensor = tf.placeholder(tf.float32, shape=(None,), name=\"labels\")\n",
    "features_tensor = tf.placeholder(tf.float32, shape=(None, dimension), name=\"features\")\n",
    "predictions_tensor = tf.tensordot(features_tensor, weights, axes=(1, 0)) - threshold\n",
    "\n",
    "# Create labels, features and predictions tensors for the protected group.\n",
    "labels_tensor_protected = tf.placeholder(tf.float32, shape=(None,), name=\"labels_ptr\")\n",
    "features_tensor_protected = tf.placeholder(tf.float32, shape=(None, dimension), name=\"features_ptr\")\n",
    "predictions_tensor_protected = tf.tensordot(features_tensor_protected, \n",
    "                                            weights, axes=(1, 0)) - threshold"
   ]
  },
  {
   "cell_type": "markdown",
   "metadata": {},
   "source": [
    "Having defined separate tensors for the two streams, we create two separate contexts for the two streams. We define a rate-constrained optimization problem in the same way as before, and set up the proxy-Lagrangian optimizer for solving it. Once again we set the inner optimizer to Adagrad with a learning rate of 1 for the model parameter updates and a learning rate of 0.5 for the Lagrange multiplier updates."
   ]
  },
  {
   "cell_type": "code",
   "execution_count": 19,
   "metadata": {},
   "outputs": [],
   "source": [
    "# Create context for overall dataset, and for the protected group examples.\n",
    "context = tfco.rate_context(predictions_tensor, labels=labels_tensor)\n",
    "context_protected = tfco.rate_context(predictions_tensor_protected, \n",
    "                                      labels=labels_tensor_protected)\n",
    "\n",
    "# Set up rate-constrained minimization problem.\n",
    "problem_two_streams = tfco.RateMinimizationProblem(\n",
    "    tfco.error_rate(context),  \n",
    "    [tfco.false_negative_rate(context_protected) <= tfco.false_negative_rate(context) + 0.01,\n",
    "     tfco.false_negative_rate(context_protected) >= tfco.false_negative_rate(context) - 0.01])\n",
    "\n",
    "# Set up optimizer.\n",
    "optimizer_two_streams = tfco.ProxyLagrangianOptimizerV1(\n",
    "    optimizer=tf.train.AdagradOptimizer(learning_rate=1.0),\n",
    "    constraint_optimizer=tf.train.AdagradOptimizer(learning_rate=0.5)\n",
    ")\n",
    "train_op_two_streams = optimizer_two_streams.minimize(problem_two_streams)"
   ]
  },
  {
   "cell_type": "markdown",
   "metadata": {},
   "source": [
    "We are now ready to train our model. Since we had previously used a batch size of 32, for a fair comparison, we fix the effective number of examples seen per iteration from the two streams to also 32. We set the batch size for the first stream to 20 and for the second stream to 12 (contrast this with the previous implementation, where we received only 1 or 2 examples from the protected group per update). We once again perform 10000 minibatch updates.\n",
    "\n",
    "We maintain a separate counter for each stream. Every time we perform a gradient update, we will have to pass the minibatch contents from the first stream to the placeholder tensors `features_tensor` and `labels_tensor`, and the minibatch contents from the second stream to the placeholder tensors `features_tensor_protected` and `labels_tensor_protected`.\n"
   ]
  },
  {
   "cell_type": "code",
   "execution_count": 20,
   "metadata": {},
   "outputs": [],
   "source": [
    "# Total number of iterations.\n",
    "num_iterations = 10000\n",
    "\n",
    "# Set up counter for the first minibatch stream \n",
    "# (contains all examples in the training set).\n",
    "batch_size = 20\n",
    "batch_index = 0\n",
    "\n",
    "# Set up counter for the second minibatch stream \n",
    "# (contains only the protected group examples in the training set).\n",
    "batch_size_protected = 12\n",
    "batch_index_protected = 0\n",
    "\n",
    "# List of objective and constraint violations on training and test sets.\n",
    "train_objectives_two_streams = []\n",
    "train_constraints_two_streams = []\n",
    "test_objectives_two_streams = []\n",
    "test_constraints_two_streams = []\n",
    "\n",
    "# Placeholder assignments for evaluating the training performance.\n",
    "# Since this dictionary would be used in every iteration to evaluate the\n",
    "# objective and contraint on the training set, we define it outside the \n",
    "# training iterations loop.\n",
    "feed_dict_train = {\n",
    "    features_tensor: x_train,\n",
    "    labels_tensor: y_train,\n",
    "    features_tensor_protected: x_train_protected,\n",
    "    labels_tensor_protected: y_train_protected\n",
    "}\n",
    "\n",
    "# Placeholder assignements for evaluating the test performance.\n",
    "# Since this dictionary would be used in every iteration to evaluate the\n",
    "# objective and contraint on the test set, we define it outside the \n",
    "# training iterations loop.\n",
    "feed_dict_test = {\n",
    "    features_tensor: x_test,\n",
    "    labels_tensor: y_test,\n",
    "    features_tensor_protected: x_test_protected,\n",
    "    labels_tensor_protected: y_test_protected\n",
    "}\n",
    "\n",
    "with tf.Session() as session:\n",
    "    session.run(tf.global_variables_initializer())\n",
    "    \n",
    "    # Loop over minibatches.\n",
    "    for ii in xrange(num_iterations):\n",
    "        # Indices for current minibatch in the first stream.\n",
    "        batch_indices = np.arange(batch_index * batch_size,\n",
    "                                  (batch_index + 1) * batch_size)\n",
    "        # Cycle back to the beginning if we have reached the end of the stream.\n",
    "        batch_indices = [ind % num_examples for ind in batch_indices]\n",
    "        \n",
    "        # Indices for current minibatch in the second stream.\n",
    "        batch_indices_protected = xrange(batch_index_protected * batch_size_protected, \n",
    "                                         (batch_index_protected + 1) * batch_size_protected)\n",
    "        # Cycle back to the beginning if we have reached the end of the stream.\n",
    "        batch_indices_protected = [ind % num_examples_protected \n",
    "                                   for ind in batch_indices_protected]\n",
    "        \n",
    "        # Perform gradient updates using minibatches from the two streams.\n",
    "        feed_dict_batch = {\n",
    "            # Stream 1 placeholders.\n",
    "            features_tensor: x_train[batch_indices, :],\n",
    "            labels_tensor: y_train[batch_indices],\n",
    "            # Stream 2 placeholders.\n",
    "            features_tensor_protected:x_train_protected[batch_indices_protected, :],\n",
    "            labels_tensor_protected: y_train_protected[batch_indices_protected]\n",
    "        }\n",
    "        session.run(train_op_two_streams, feed_dict=feed_dict_batch)\n",
    "        \n",
    "        # Obtain current weights and threshold.\n",
    "        trained_weights, trained_threshold = session.run((weights, threshold))\n",
    "        \n",
    "        # Evaluate objective value and constraint violations on entire training set.\n",
    "        predictions_train = np.matmul(x_train, trained_weights) - trained_threshold\n",
    "        objective = average_hinge_loss(y_train, predictions_train)\n",
    "        fnr_overall = false_negative_rate(y_train, predictions_train)\n",
    "        fnr_protected = false_negative_rate(y_train[z_train == 1], \n",
    "                                            predictions_train[z_train == 1])\n",
    "        train_objectives_two_streams.append(objective)\n",
    "        train_constraints_two_streams.append([fnr_overall - fnr_protected - 0.01,\n",
    "                                              fnr_protected - fnr_overall - 0.01])\n",
    "        \n",
    "        # Evaluate objective value and constraint violations on entire test set.\n",
    "        predictions_test = np.matmul(x_test, trained_weights) - trained_threshold\n",
    "        objective = average_hinge_loss(y_test, predictions_test)\n",
    "        fnr_overall = false_negative_rate(y_test, predictions_test)\n",
    "        fnr_protected = false_negative_rate(y_test[z_test == 1], \n",
    "                                            predictions_test[z_test == 1])\n",
    "        test_objectives_two_streams.append(objective)\n",
    "        test_constraints_two_streams.append([fnr_overall - fnr_protected - 0.01,\n",
    "                                             fnr_protected - fnr_overall - 0.01])\n",
    "\n",
    "        # Increment minibatch counter for both streams.\n",
    "        batch_index += 1\n",
    "        batch_index_protected += 1 "
   ]
  },
  {
   "cell_type": "markdown",
   "metadata": {},
   "source": [
    "We compare the cumulative means of the objective and constraint violations for the two stream approach with those for the single stream approach."
   ]
  },
  {
   "cell_type": "code",
   "execution_count": 21,
   "metadata": {},
   "outputs": [
    {
     "data": {
      "image/png": "[encoded data removed]",
      "text/plain": [
       "<Figure size 720x360 with 2 Axes>"
      ]
     },
     "metadata": {
      "needs_background": "light"
     },
     "output_type": "display_data"
    }
   ],
   "source": [
    "# Objective and constraint violation on train set.\n",
    "ff, ax = plt.subplots(1, 2, figsize=(10, 5))\n",
    "iteration_counts = range(1, num_iterations + 1)\n",
    "\n",
    "# Plot of cumulative means of objective.\n",
    "average_objectives = np.cumsum(train_objectives) / iteration_counts\n",
    "ax[0].plot(iteration_counts, average_objectives, label=\"Single Stream\")\n",
    "average_objectives_two_streams = np.cumsum(train_objectives_two_streams) / iteration_counts\n",
    "ax[0].plot(iteration_counts, average_objectives_two_streams, label=\"Two Streams\")\n",
    "ax[0].set_title(\"Cumulative Means of Hinge Loss\")\n",
    "ax[0].set_xlabel(\"Number of iterations\")\n",
    "ax[0].legend()\n",
    "\n",
    "# Plot of max cumulative means of contraint violations.\n",
    "cum_mean1 = np.cumsum([x[0] for x in train_constraints]) / iteration_counts\n",
    "cum_mean2 = np.cumsum([x[1] for x in train_constraints]) / iteration_counts\n",
    "max_average_constraints = np.amax([cum_mean1, cum_mean2], axis=0)\n",
    "ax[1].plot(iteration_counts,  max_average_constraints, label=\"Single Stream\")\n",
    "cum_mean1 = np.cumsum([x[0] for x in train_constraints_two_streams]) / iteration_counts\n",
    "cum_mean2 = np.cumsum([x[1] for x in train_constraints_two_streams]) / iteration_counts\n",
    "max_average_constraints_two_streams = np.amax([cum_mean1, cum_mean2], axis=0)\n",
    "ax[1].plot(iteration_counts,  max_average_constraints_two_streams, label=\"Two Streams\")\n",
    "ax[1].set_title(\"(Max) Cumulative Means of Constraint Violation\")\n",
    "ax[1].set_xlabel(\"Number of iterations\")\n",
    "ax[1].legend()\n",
    "\n",
    "ff.suptitle(\"Train Performance\", y=1.05, fontweight=\"bold\")\n",
    "ff.tight_layout()"
   ]
  },
  {
   "cell_type": "markdown",
   "metadata": {},
   "source": [
    "By using two data streams, we are able to achieve lower constraint violations in far fewer iterations, while converging to the same objective value in half as many iterations. \n",
    "\n",
    "A similar pattern is also seen with the performance on the test set. However, in this case, both minibatching strategies end up with some residual constraint violations."
   ]
  },
  {
   "cell_type": "code",
   "execution_count": 22,
   "metadata": {},
   "outputs": [
    {
     "data": {
      "image/png": "[encoded data removed]",
      "text/plain": [
       "<Figure size 720x360 with 2 Axes>"
      ]
     },
     "metadata": {
      "needs_background": "light"
     },
     "output_type": "display_data"
    }
   ],
   "source": [
    "# Objective and constraint violation on test set.\n",
    "ff, ax = plt.subplots(1, 2, figsize=(10, 5))\n",
    "iteration_counts = range(1, num_iterations + 1)\n",
    "\n",
    "# Plot of cumulative means of objective.\n",
    "average_objectives = np.cumsum(test_objectives) / iteration_counts\n",
    "ax[0].plot(iteration_counts, average_objectives, label=\"Single Stream\")\n",
    "average_objectives_two_streams = np.cumsum(test_objectives_two_streams) / iteration_counts\n",
    "ax[0].plot(iteration_counts, average_objectives_two_streams, label=\"Two Streams\")\n",
    "ax[0].set_title(\"Cumulative Means of Hinge Loss\")\n",
    "ax[0].set_xlabel(\"Number of iterations\")\n",
    "ax[0].legend()\n",
    "\n",
    "# Plot of max cumulative means of contraint violations.\n",
    "cum_mean1 = np.cumsum([x[0] for x in test_constraints]) / iteration_counts\n",
    "cum_mean2 = np.cumsum([x[1] for x in test_constraints]) / iteration_counts\n",
    "max_average_constraints = np.amax([cum_mean1, cum_mean2], axis=0)\n",
    "ax[1].plot(iteration_counts,  max_average_constraints, label=\"Single Stream\")\n",
    "cum_mean1 = np.cumsum([x[0] for x in test_constraints_two_streams]) / iteration_counts\n",
    "cum_mean2 = np.cumsum([x[1] for x in test_constraints_two_streams]) / iteration_counts\n",
    "max_average_constraints_two_streams = np.amax([cum_mean1, cum_mean2], axis=0)\n",
    "ax[1].plot(iteration_counts,  max_average_constraints_two_streams, label=\"Two Streams\")\n",
    "ax[1].set_title(\"(Max) Cumulative Means of Constraint Violation\")\n",
    "ax[1].set_xlabel(\"Number of iterations\")\n",
    "ax[1].legend()\n",
    "\n",
    "ff.suptitle(\"Test Performance\", y=1.05, fontweight=\"bold\")\n",
    "ff.tight_layout()"
   ]
  },
  {
   "cell_type": "markdown",
   "metadata": {},
   "source": [
    "## Conclusion\n",
    "\n",
    "Training with a single data stream is convenient (particularly with the context subsetting functionality provided by the constrained optimization library), but can result in slow convergence for datasets with imbalanced group proportions. If one seeks to impose rate constraints on small groups of examples and wishes to use minibatches of small size, then it is often better to create separate minibatch streams for each group, rather than working with a single data stream and subsetting the relevant groups from the individual minibatches."
   ]
  }
 ],
 "metadata": {
  "kernelspec": {
   "display_name": "Python 3",
   "language": "python",
   "name": "python3"
  },
  "language_info": {
   "codemirror_mode": {
    "name": "ipython",
    "version": 3
   },
   "file_extension": ".py",
   "mimetype": "text/x-python",
   "name": "python",
   "nbconvert_exporter": "python",
   "pygments_lexer": "ipython3",
   "version": "3.5.4rc1"
  }
 },
 "nbformat": 4,
 "nbformat_minor": 2
}
