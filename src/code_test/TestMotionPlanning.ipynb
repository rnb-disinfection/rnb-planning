{
 "cells": [
  {
   "cell_type": "code",
   "execution_count": 1,
   "metadata": {},
   "outputs": [],
   "source": [
    "import os\n",
    "os.chdir(os.path.dirname(os.getcwd()))"
   ]
  },
  {
   "cell_type": "code",
   "execution_count": null,
   "metadata": {},
   "outputs": [],
   "source": []
  },
  {
   "cell_type": "markdown",
   "metadata": {},
   "source": [
    "## init combined robot config"
   ]
  },
  {
   "cell_type": "code",
   "execution_count": 2,
   "metadata": {},
   "outputs": [
    {
     "name": "stdout",
     "output_type": "stream",
     "text": [
      "connection_list\n",
      "[False, False]\n"
     ]
    }
   ],
   "source": [
    "from pkg.controller.combined_robot import *\n",
    "from pkg.project_config import *\n",
    "\n",
    "crob = CombinedRobot(robots_on_scene=[\n",
    "    RobotConfig(0, RobotType.indy7, None,\n",
    "                INDY_IP),\n",
    "    RobotConfig(1, RobotType.panda, None,\n",
    "                \"{}/{}\".format(PANDA_REPEATER_IP, PANDA_ROBOT_IP))]\n",
    "              , connection_list=[False, False])"
   ]
  },
  {
   "cell_type": "code",
   "execution_count": null,
   "metadata": {},
   "outputs": [],
   "source": []
  },
  {
   "cell_type": "markdown",
   "metadata": {},
   "source": [
    "# init stereo aruco detector"
   ]
  },
  {
   "cell_type": "code",
   "execution_count": 3,
   "metadata": {},
   "outputs": [
    {
     "name": "stdout",
     "output_type": "stream",
     "text": [
      "Device configuration: \n",
      "\tcolor_format: 3 \n",
      "\t(0:JPG, 1:NV12, 2:YUY2, 3:BGRA32)\n",
      "\n",
      "\tcolor_resolution: 5 \n",
      "\t(0:OFF, 1:720p, 2:1080p, 3:1440p, 4:1536p, 5:2160p, 6:3072p)\n",
      "\n",
      "\tdepth_mode: 3 \n",
      "\t(0:OFF, 1:NFOV_2X2BINNED, 2:NFOV_UNBINNED,3:WFOV_2X2BINNED, 4:WFOV_UNBINNED, 5:Passive IR)\n",
      "\n",
      "\tcamera_fps: 2 \n",
      "\t(0:5 FPS, 1:15 FPS, 2:30 FPS)\n",
      "\n",
      "\tsynchronized_images_only: False \n",
      "\t(True of False). Drop images if the color and depth are not synchronized\n",
      "\n",
      "\tdepth_delay_off_color_usec: 0 ms. \n",
      "\tDelay between the color image and the depth image\n",
      "\n",
      "\twired_sync_mode: 0\n",
      "\t(0:Standalone mode, 1:Master mode, 2:Subordinate mode)\n",
      "\n",
      "\tsubordinate_delay_off_master_usec: 0 ms.\n",
      "\tThe external synchronization timing.\n",
      "\n",
      "\tdisable_streaming_indicator: False \n",
      "\t(True or False). Streaming indicator automatically turns on when the color or depth camera's are in use.\n",
      "\n",
      "\n",
      "Start streaming\n"
     ]
    },
    {
     "data": {
      "text/plain": [
       "[(array([[1.82983423e+03, 0.00000000e+00, 1.91572046e+03],\n",
       "         [0.00000000e+00, 1.82983423e+03, 1.09876086e+03],\n",
       "         [0.00000000e+00, 0.00000000e+00, 1.00000000e+00]]),\n",
       "  array([ 7.09966481e-01, -2.73409390e+00,  1.45804870e-03, -3.24774766e-04,\n",
       "          1.44911301e+00,  5.84310412e-01, -2.56374550e+00,  1.38472950e+00])),\n",
       " (array([[1.39560388e+03, 0.00000000e+00, 9.62751587e+02],\n",
       "         [0.00000000e+00, 1.39531934e+03, 5.47687012e+02],\n",
       "         [0.00000000e+00, 0.00000000e+00, 1.00000000e+00]]),\n",
       "  array([0., 0., 0., 0., 0.])),\n",
       " array([[ 0.83040017, -0.03067266, -0.5563226 ,  0.647911  ],\n",
       "        [ 0.17474653,  0.9624417 ,  0.20777315, -0.14355281],\n",
       "        [ 0.52905506, -0.2697503 ,  0.8045716 ,  0.07200202],\n",
       "        [ 0.        ,  0.        ,  0.        ,  1.        ]],\n",
       "       dtype=float32)]"
      ]
     },
     "execution_count": 3,
     "metadata": {},
     "output_type": "execute_result"
    }
   ],
   "source": [
    "from pkg.marker_config import *\n",
    "from pkg.detector.aruco.stereo import ArucoStereo\n",
    "from pkg.detector.camera.realsense import RealSense\n",
    "from pkg.detector.camera.kinect import Kinect\n",
    "aruco_map = get_aruco_map()\n",
    "stereo = ArucoStereo(aruco_map, [Kinect(), RealSense()])\n",
    "stereo.initialize()\n",
    "stereo.calibrate()"
   ]
  },
  {
   "cell_type": "code",
   "execution_count": null,
   "metadata": {},
   "outputs": [],
   "source": []
  },
  {
   "cell_type": "markdown",
   "metadata": {},
   "source": [
    "## init scene builder"
   ]
  },
  {
   "cell_type": "code",
   "execution_count": 4,
   "metadata": {},
   "outputs": [],
   "source": [
    "from pkg.geometry.builder.scene_builder import SceneBuilder\n",
    "s_builder = SceneBuilder(stereo, base_link=\"base_link\")\n",
    "s_builder.reset_reference_coord(ref_name=\"floor\")"
   ]
  },
  {
   "cell_type": "code",
   "execution_count": null,
   "metadata": {},
   "outputs": [],
   "source": []
  },
  {
   "cell_type": "markdown",
   "metadata": {},
   "source": [
    "## get ghnd with detected robot config"
   ]
  },
  {
   "cell_type": "code",
   "execution_count": 5,
   "metadata": {
    "scrolled": true
   },
   "outputs": [
    {
     "name": "stdout",
     "output_type": "stream",
     "text": [
      "Unable to register with master node [http://localhost:11311]: master may not be running yet. Will keep trying.\n"
     ]
    },
    {
     "name": "stderr",
     "output_type": "stream",
     "text": [
      "Unknown tag \"hardwareInterface\" in /robot[@name='custom_robots']/transmission[@name='indy0_tran0']/actuator[@name='indy0_motor0']\n",
      "Unknown tag \"hardwareInterface\" in /robot[@name='custom_robots']/transmission[@name='indy0_tran1']/actuator[@name='indy0_motor1']\n",
      "Unknown tag \"hardwareInterface\" in /robot[@name='custom_robots']/transmission[@name='indy0_tran2']/actuator[@name='indy0_motor2']\n",
      "Unknown tag \"hardwareInterface\" in /robot[@name='custom_robots']/transmission[@name='indy0_tran3']/actuator[@name='indy0_motor3']\n",
      "Unknown tag \"hardwareInterface\" in /robot[@name='custom_robots']/transmission[@name='indy0_tran4']/actuator[@name='indy0_motor4']\n",
      "Unknown tag \"hardwareInterface\" in /robot[@name='custom_robots']/transmission[@name='indy0_tran5']/actuator[@name='indy0_motor5']\n"
     ]
    },
    {
     "name": "stdout",
     "output_type": "stream",
     "text": [
      "Please create a subscriber to the marker\n",
      "publication OK\n",
      "published: [0, 0, 0, 0, 0, 0, 0, 0, 0, 0, 0, 0, 0]\n"
     ]
    }
   ],
   "source": [
    "xyz_rpy_robots = s_builder.detect_items(level_mask=[DetectionLevel.ROBOT])\n",
    "crob.update_robot_pos_dict(xyz_rpy_robots=xyz_rpy_robots)\n",
    "gscene = s_builder.create_gscene(crob)"
   ]
  },
  {
   "cell_type": "code",
   "execution_count": null,
   "metadata": {},
   "outputs": [],
   "source": []
  },
  {
   "cell_type": "markdown",
   "metadata": {},
   "source": [
    "## add environment"
   ]
  },
  {
   "cell_type": "code",
   "execution_count": 6,
   "metadata": {},
   "outputs": [
    {
     "name": "stdout",
     "output_type": "stream",
     "text": [
      "Please create a subscriber to the marker\n"
     ]
    }
   ],
   "source": [
    "gtem_dict = s_builder.detect_and_register(level_mask=[DetectionLevel.ENVIRONMENT])"
   ]
  },
  {
   "cell_type": "code",
   "execution_count": 7,
   "metadata": {},
   "outputs": [],
   "source": [
    "# add cam poles\n",
    "ptems = s_builder.add_poles({\"cam0\": s_builder.ref_coord_inv[:3,3], \"cam1\":np.matmul(s_builder.ref_coord_inv, stereo.T_c12)[:3,3]})"
   ]
  },
  {
   "cell_type": "code",
   "execution_count": 8,
   "metadata": {},
   "outputs": [],
   "source": [
    "gtems = s_builder.add_robot_geometries(color=(0,1,0,0.5), display=True, collision=True, exclude_link=[\"panda1_link7\"])"
   ]
  },
  {
   "cell_type": "code",
   "execution_count": null,
   "metadata": {},
   "outputs": [],
   "source": []
  },
  {
   "cell_type": "markdown",
   "metadata": {},
   "source": [
    "## add movable"
   ]
  },
  {
   "cell_type": "code",
   "execution_count": 9,
   "metadata": {},
   "outputs": [],
   "source": [
    "gtem_dict = s_builder.detect_and_register(level_mask=[DetectionLevel.MOVABLE])"
   ]
  },
  {
   "cell_type": "code",
   "execution_count": null,
   "metadata": {},
   "outputs": [],
   "source": []
  },
  {
   "cell_type": "markdown",
   "metadata": {},
   "source": [
    "## init planning scene"
   ]
  },
  {
   "cell_type": "code",
   "execution_count": 10,
   "metadata": {},
   "outputs": [],
   "source": [
    "from pkg.planning.scene import PlanningScene\n",
    "pscene = PlanningScene(gscene, combined_robot=crob)"
   ]
  },
  {
   "cell_type": "code",
   "execution_count": null,
   "metadata": {},
   "outputs": [],
   "source": []
  },
  {
   "cell_type": "markdown",
   "metadata": {},
   "source": [
    "## Register binders"
   ]
  },
  {
   "cell_type": "code",
   "execution_count": 11,
   "metadata": {},
   "outputs": [],
   "source": [
    "from pkg.planning.constraint.constraint_action import Gripper2Tool, PlacePlane"
   ]
  },
  {
   "cell_type": "code",
   "execution_count": 12,
   "metadata": {},
   "outputs": [
    {
     "data": {
      "text/plain": [
       "<pkg.geometry.geometry.GeometryItem at 0x7f070c4f7190>"
      ]
     },
     "execution_count": 12,
     "metadata": {},
     "output_type": "execute_result"
    }
   ],
   "source": [
    "gscene.create_safe(gtype=GEOTYPE.SPHERE, name=\"grip0\", link_name=\"indy0_tcp\", \n",
    "                 dims=(0.01,)*3, center=(0,0,0.14), rpy=(-np.pi/2,0,0), color=(1,0,0,1), display=True, collision=False, fixed=True)\n",
    "gscene.create_safe(gtype=GEOTYPE.SPHERE, name=\"grip1\", link_name=\"panda1_hand\", \n",
    "                 dims=(0.01,)*3, center=(0,0,0.112), rpy=(-np.pi/2,0,0), color=(1,0,0,1), display=True, collision=False, fixed=True)"
   ]
  },
  {
   "cell_type": "code",
   "execution_count": 13,
   "metadata": {},
   "outputs": [
    {
     "data": {
      "text/plain": [
       "<pkg.planning.constraint.constraint_action.PlacePlane at 0x7f070c50a6d0>"
      ]
     },
     "execution_count": 13,
     "metadata": {},
     "output_type": "execute_result"
    }
   ],
   "source": [
    "pscene.create_binder(bname=\"grip0\", gname=\"grip0\", _type=Gripper2Tool, point=(0,0,0), rpy=(0,0,0))\n",
    "pscene.create_binder(bname=\"grip1\", gname=\"grip1\", _type=Gripper2Tool, point=(0,0,0), rpy=(0,0,0))\n",
    "pscene.create_binder(bname=\"floor\", gname=\"floor\", _type=PlacePlane)\n",
    "pscene.create_binder(bname=\"goal_bd\", gname=\"goal\", _type=PlacePlane, point=(0,0,0.02), rpy=(0,0,0))"
   ]
  },
  {
   "cell_type": "code",
   "execution_count": null,
   "metadata": {},
   "outputs": [],
   "source": []
  },
  {
   "cell_type": "markdown",
   "metadata": {},
   "source": [
    "## add objects"
   ]
  },
  {
   "cell_type": "code",
   "execution_count": 14,
   "metadata": {},
   "outputs": [],
   "source": [
    "from pkg.planning.constraint.constraint_object import BoxAction"
   ]
  },
  {
   "cell_type": "code",
   "execution_count": 15,
   "metadata": {},
   "outputs": [],
   "source": [
    "box1 = pscene.create_object(oname=\"box1\", gname=\"box1\", _type=BoxAction, hexahedral=True)\n",
    "box2= pscene.create_object(oname=\"box2\", gname=\"box2\", _type=BoxAction, hexahedral=True)"
   ]
  },
  {
   "cell_type": "code",
   "execution_count": null,
   "metadata": {},
   "outputs": [],
   "source": []
  },
  {
   "cell_type": "markdown",
   "metadata": {},
   "source": [
    "## Register object binders"
   ]
  },
  {
   "cell_type": "code",
   "execution_count": 16,
   "metadata": {},
   "outputs": [],
   "source": [
    "box1.register_binders(pscene, PlacePlane)\n",
    "box2.register_binders(pscene, PlacePlane)"
   ]
  },
  {
   "cell_type": "code",
   "execution_count": null,
   "metadata": {},
   "outputs": [],
   "source": []
  },
  {
   "cell_type": "markdown",
   "metadata": {},
   "source": [
    "## Motion Planning"
   ]
  },
  {
   "cell_type": "code",
   "execution_count": 17,
   "metadata": {},
   "outputs": [],
   "source": [
    "from pkg.planning.motion.moveit.moveit_planner import MoveitPlanner"
   ]
  },
  {
   "cell_type": "code",
   "execution_count": 18,
   "metadata": {},
   "outputs": [],
   "source": [
    "mplan = MoveitPlanner(pscene)"
   ]
  },
  {
   "cell_type": "code",
   "execution_count": 19,
   "metadata": {},
   "outputs": [
    {
     "name": "stdout",
     "output_type": "stream",
     "text": [
      "((('box1', 'back_p', 'floor'), ('box2', 'back_p', 'floor')), {'box1': '[[ 0.99 -0.   -0.15 -0.21]\\n [ 0.15  0.01  0.99 -0.21]\\n [-0.   -1.    0.01  0.03]\\n [ 0.    0.    0.    1.  ]]', 'box2': '[[ 0.99 -0.   -0.15 -0.21]\\n [ 0.15  0.01  0.99 -0.21]\\n [-0.   -1.    0.01  0.03]\\n [ 0.    0.    0.    1.  ]]'}, '[ 0.    0.   -1.57  0.   -1.57  0.    0.   -0.39  0.   -1.57  0.    1.57\\n  1.57]')\n"
     ]
    }
   ],
   "source": [
    "from_state = pscene.get_state(crob.home_pose)\n",
    "print(from_state)"
   ]
  },
  {
   "cell_type": "code",
   "execution_count": 20,
   "metadata": {},
   "outputs": [
    {
     "name": "stdout",
     "output_type": "stream",
     "text": [
      "((('box1', 'left_g', 'grip0'), ('box2', 'back_p', 'floor')), {'box1': '[[ 0.99 -0.   -0.15 -0.21]\\n [ 0.15  0.01  0.99 -0.21]\\n [-0.   -1.    0.01  0.03]\\n [ 0.    0.    0.    1.  ]]', 'box2': '[[ 0.99 -0.   -0.15 -0.21]\\n [ 0.15  0.01  0.99 -0.21]\\n [-0.   -1.    0.01  0.03]\\n [ 0.    0.    0.    1.  ]]'}, '[ 0.    0.   -1.57  0.   -1.57  0.    0.   -0.39  0.   -1.57  0.    1.57\\n  1.57]')\n"
     ]
    }
   ],
   "source": [
    "to_state = pscene.make_goal_state(from_state, obj=\"box1\", handle=\"left_g\", binder=\"grip0\")\n",
    "print(to_state)"
   ]
  },
  {
   "cell_type": "code",
   "execution_count": 22,
   "metadata": {},
   "outputs": [],
   "source": [
    "from pkg.planning.constraint.constraint_common import sample_redundancy, combine_redundancy"
   ]
  },
  {
   "cell_type": "code",
   "execution_count": 23,
   "metadata": {},
   "outputs": [],
   "source": []
  },
  {
   "cell_type": "code",
   "execution_count": 32,
   "metadata": {},
   "outputs": [
    {
     "data": {
      "text/plain": [
       "(array([[ 0.        ,  0.        , -1.57079633,  0.        , -1.57079633,\n",
       "          0.        ,  0.        , -0.39269908,  0.        , -1.57079633,\n",
       "          0.        ,  1.57079633,  1.57079633],\n",
       "        [ 0.08153592,  0.06021258, -1.61100191, -0.03817276, -1.46247406,\n",
       "          0.04794552,  0.        , -0.39269908,  0.        , -1.57079633,\n",
       "          0.        ,  1.57079633,  1.57079633],\n",
       "        [ 0.16307185,  0.12042516, -1.65120749, -0.07634552, -1.35415178,\n",
       "          0.09589104,  0.        , -0.39269908,  0.        , -1.57079633,\n",
       "          0.        ,  1.57079633,  1.57079633],\n",
       "        [ 0.24460777,  0.18063774, -1.69141308, -0.11451829, -1.24582951,\n",
       "          0.14383656,  0.        , -0.39269908,  0.        , -1.57079633,\n",
       "          0.        ,  1.57079633,  1.57079633],\n",
       "        [ 0.32614369,  0.24085032, -1.73161866, -0.15269105, -1.13750724,\n",
       "          0.19178208,  0.        , -0.39269908,  0.        , -1.57079633,\n",
       "          0.        ,  1.57079633,  1.57079633],\n",
       "        [ 0.40767962,  0.30106289, -1.77182424, -0.19086381, -1.02918497,\n",
       "          0.2397276 ,  0.        , -0.39269908,  0.        , -1.57079633,\n",
       "          0.        ,  1.57079633,  1.57079633],\n",
       "        [ 0.48921554,  0.36127547, -1.81202982, -0.22903657, -0.9208627 ,\n",
       "          0.28767312,  0.        , -0.39269908,  0.        , -1.57079633,\n",
       "          0.        ,  1.57079633,  1.57079633],\n",
       "        [ 0.57075147,  0.42148805, -1.85223541, -0.26720933, -0.81254043,\n",
       "          0.33561865,  0.        , -0.39269908,  0.        , -1.57079633,\n",
       "          0.        ,  1.57079633,  1.57079633],\n",
       "        [ 0.65228739,  0.48170063, -1.89244099, -0.3053821 , -0.70421815,\n",
       "          0.38356417,  0.        , -0.39269908,  0.        , -1.57079633,\n",
       "          0.        ,  1.57079633,  1.57079633],\n",
       "        [ 0.73382331,  0.54191321, -1.93264657, -0.34355486, -0.59589588,\n",
       "          0.43150969,  0.        , -0.39269908,  0.        , -1.57079633,\n",
       "          0.        ,  1.57079633,  1.57079633],\n",
       "        [ 0.81535924,  0.60212579, -1.97285216, -0.38172762, -0.48757361,\n",
       "          0.47945521,  0.        , -0.39269908,  0.        , -1.57079633,\n",
       "          0.        ,  1.57079633,  1.57079633],\n",
       "        [ 0.89689516,  0.66233837, -2.01305774, -0.41990038, -0.37925134,\n",
       "          0.52740073,  0.        , -0.39269908,  0.        , -1.57079633,\n",
       "          0.        ,  1.57079633,  1.57079633],\n",
       "        [ 0.97843108,  0.72255095, -2.05326332, -0.45807314, -0.27092907,\n",
       "          0.57534625,  0.        , -0.39269908,  0.        , -1.57079633,\n",
       "          0.        ,  1.57079633,  1.57079633],\n",
       "        [ 1.05996701,  0.78276353, -2.09346891, -0.4962459 , -0.1626068 ,\n",
       "          0.62329177,  0.        , -0.39269908,  0.        , -1.57079633,\n",
       "          0.        ,  1.57079633,  1.57079633],\n",
       "        [ 1.14150293,  0.8429761 , -2.13367449, -0.53441867, -0.05428452,\n",
       "          0.67123729,  0.        , -0.39269908,  0.        , -1.57079633,\n",
       "          0.        ,  1.57079633,  1.57079633],\n",
       "        [ 1.22303885,  0.90318868, -2.17388007, -0.57259143,  0.05403775,\n",
       "          0.71918281,  0.        , -0.39269908,  0.        , -1.57079633,\n",
       "          0.        ,  1.57079633,  1.57079633],\n",
       "        [ 1.30457478,  0.96340126, -2.21408565, -0.61076419,  0.16236002,\n",
       "          0.76712833,  0.        , -0.39269908,  0.        , -1.57079633,\n",
       "          0.        ,  1.57079633,  1.57079633],\n",
       "        [ 1.3861107 ,  1.02361384, -2.25429124, -0.64893695,  0.27068229,\n",
       "          0.81507385,  0.        , -0.39269908,  0.        , -1.57079633,\n",
       "          0.        ,  1.57079633,  1.57079633],\n",
       "        [ 1.46764663,  1.08382642, -2.29449682, -0.68710971,  0.37900456,\n",
       "          0.86301937,  0.        , -0.39269908,  0.        , -1.57079633,\n",
       "          0.        ,  1.57079633,  1.57079633],\n",
       "        [ 1.54918255,  1.144039  , -2.3347024 , -0.72528248,  0.48732683,\n",
       "          0.9109649 ,  0.        , -0.39269908,  0.        , -1.57079633,\n",
       "          0.        ,  1.57079633,  1.57079633],\n",
       "        [ 1.63071847,  1.20425158, -2.37490799, -0.76345524,  0.59564911,\n",
       "          0.95891042,  0.        , -0.39269908,  0.        , -1.57079633,\n",
       "          0.        ,  1.57079633,  1.57079633],\n",
       "        [ 1.7122544 ,  1.26446416, -2.41511357, -0.801628  ,  0.70397138,\n",
       "          1.00685594,  0.        , -0.39269908,  0.        , -1.57079633,\n",
       "          0.        ,  1.57079633,  1.57079633],\n",
       "        [ 1.79379032,  1.32467673, -2.45531915, -0.83980076,  0.81229365,\n",
       "          1.05480146,  0.        , -0.39269908,  0.        , -1.57079633,\n",
       "          0.        ,  1.57079633,  1.57079633],\n",
       "        [ 1.87532624,  1.38488931, -2.49552474, -0.87797352,  0.92061592,\n",
       "          1.10274698,  0.        , -0.39269908,  0.        , -1.57079633,\n",
       "          0.        ,  1.57079633,  1.57079633],\n",
       "        [ 1.95686217,  1.44510189, -2.53573032, -0.91614629,  1.02893819,\n",
       "          1.1506925 ,  0.        , -0.39269908,  0.        , -1.57079633,\n",
       "          0.        ,  1.57079633,  1.57079633],\n",
       "        [ 2.03839809,  1.50531447, -2.5759359 , -0.95431905,  1.13726046,\n",
       "          1.19863802,  0.        , -0.39269908,  0.        , -1.57079633,\n",
       "          0.        ,  1.57079633,  1.57079633],\n",
       "        [ 2.11993401,  1.56552705, -2.61614148, -0.99249181,  1.24558274,\n",
       "          1.24658354,  0.        , -0.39269908,  0.        , -1.57079633,\n",
       "          0.        ,  1.57079633,  1.57079633],\n",
       "        [ 2.20146994,  1.62573963, -2.65634707, -1.03066457,  1.35390501,\n",
       "          1.29452906,  0.        , -0.39269908,  0.        , -1.57079633,\n",
       "          0.        ,  1.57079633,  1.57079633],\n",
       "        [ 2.28300586,  1.68595221, -2.69655265, -1.06883733,  1.46222728,\n",
       "          1.34247458,  0.        , -0.39269908,  0.        , -1.57079633,\n",
       "          0.        ,  1.57079633,  1.57079633],\n",
       "        [ 2.36454179,  1.74616479, -2.73675823, -1.1070101 ,  1.57054955,\n",
       "          1.3904201 ,  0.        , -0.39269908,  0.        , -1.57079633,\n",
       "          0.        ,  1.57079633,  1.57079633],\n",
       "        [ 2.32041999,  1.65040104, -2.65747045, -1.0572693 ,  1.46964974,\n",
       "          1.3943684 ,  0.        , -0.39269908,  0.        , -1.57079633,\n",
       "          0.        ,  1.57079633,  1.57079633],\n",
       "        [ 2.27629819,  1.55463728, -2.57818267, -1.0075285 ,  1.36874992,\n",
       "          1.39831669,  0.        , -0.39269908,  0.        , -1.57079633,\n",
       "          0.        ,  1.57079633,  1.57079633],\n",
       "        [ 2.2321764 ,  1.45887353, -2.49889488, -0.9577877 ,  1.26785011,\n",
       "          1.40226499,  0.        , -0.39269908,  0.        , -1.57079633,\n",
       "          0.        ,  1.57079633,  1.57079633],\n",
       "        [ 2.1880546 ,  1.36310978, -2.4196071 , -0.90804691,  1.16695029,\n",
       "          1.40621329,  0.        , -0.39269908,  0.        , -1.57079633,\n",
       "          0.        ,  1.57079633,  1.57079633],\n",
       "        [ 2.14393281,  1.26734603, -2.34031932, -0.85830611,  1.06605048,\n",
       "          1.41016158,  0.        , -0.39269908,  0.        , -1.57079633,\n",
       "          0.        ,  1.57079633,  1.57079633],\n",
       "        [ 2.09981101,  1.17158228, -2.26103153, -0.80856531,  0.96515067,\n",
       "          1.41410988,  0.        , -0.39269908,  0.        , -1.57079633,\n",
       "          0.        ,  1.57079633,  1.57079633],\n",
       "        [ 2.05568922,  1.07581853, -2.18174375, -0.75882451,  0.86425085,\n",
       "          1.41805817,  0.        , -0.39269908,  0.        , -1.57079633,\n",
       "          0.        ,  1.57079633,  1.57079633],\n",
       "        [ 2.01156742,  0.98005478, -2.10245596, -0.70908372,  0.76335104,\n",
       "          1.42200647,  0.        , -0.39269908,  0.        , -1.57079633,\n",
       "          0.        ,  1.57079633,  1.57079633],\n",
       "        [ 1.96744563,  0.88429103, -2.02316818, -0.65934292,  0.66245123,\n",
       "          1.42595476,  0.        , -0.39269908,  0.        , -1.57079633,\n",
       "          0.        ,  1.57079633,  1.57079633],\n",
       "        [ 1.92332383,  0.78852728, -1.9438804 , -0.60960212,  0.56155141,\n",
       "          1.42990306,  0.        , -0.39269908,  0.        , -1.57079633,\n",
       "          0.        ,  1.57079633,  1.57079633],\n",
       "        [ 1.87920204,  0.69276352, -1.86459261, -0.55986132,  0.4606516 ,\n",
       "          1.43385136,  0.        , -0.39269908,  0.        , -1.57079633,\n",
       "          0.        ,  1.57079633,  1.57079633],\n",
       "        [ 1.83508024,  0.59699977, -1.78530483, -0.51012053,  0.35975178,\n",
       "          1.43779965,  0.        , -0.39269908,  0.        , -1.57079633,\n",
       "          0.        ,  1.57079633,  1.57079633],\n",
       "        [ 1.79095845,  0.50123602, -1.70601705, -0.46037973,  0.25885197,\n",
       "          1.44174795,  0.        , -0.39269908,  0.        , -1.57079633,\n",
       "          0.        ,  1.57079633,  1.57079633],\n",
       "        [ 1.74683665,  0.40547227, -1.62672926, -0.41063893,  0.15795216,\n",
       "          1.44569624,  0.        , -0.39269908,  0.        , -1.57079633,\n",
       "          0.        ,  1.57079633,  1.57079633],\n",
       "        [ 1.70271486,  0.30970852, -1.54744148, -0.36089813,  0.05705234,\n",
       "          1.44964454,  0.        , -0.39269908,  0.        , -1.57079633,\n",
       "          0.        ,  1.57079633,  1.57079633],\n",
       "        [ 1.65859306,  0.21394477, -1.4681537 , -0.31115734, -0.04384747,\n",
       "          1.45359283,  0.        , -0.39269908,  0.        , -1.57079633,\n",
       "          0.        ,  1.57079633,  1.57079633],\n",
       "        [ 1.61447127,  0.11818102, -1.38886591, -0.26141654, -0.14474729,\n",
       "          1.45754113,  0.        , -0.39269908,  0.        , -1.57079633,\n",
       "          0.        ,  1.57079633,  1.57079633],\n",
       "        [ 1.57034947,  0.02241727, -1.30957813, -0.21167574, -0.2456471 ,\n",
       "          1.46148942,  0.        , -0.39269908,  0.        , -1.57079633,\n",
       "          0.        ,  1.57079633,  1.57079633],\n",
       "        [ 1.52622768, -0.07334649, -1.23029034, -0.16193494, -0.34654691,\n",
       "          1.46543772,  0.        , -0.39269908,  0.        , -1.57079633,\n",
       "          0.        ,  1.57079633,  1.57079633],\n",
       "        [ 1.48210588, -0.16911024, -1.15100256, -0.11219415, -0.44744673,\n",
       "          1.46938602,  0.        , -0.39269908,  0.        , -1.57079633,\n",
       "          0.        ,  1.57079633,  1.57079633],\n",
       "        [ 1.43798409, -0.26487399, -1.07171478, -0.06245335, -0.54834654,\n",
       "          1.47333431,  0.        , -0.39269908,  0.        , -1.57079633,\n",
       "          0.        ,  1.57079633,  1.57079633],\n",
       "        [ 1.39386229, -0.36063774, -0.99242699, -0.01271255, -0.64924636,\n",
       "          1.47728261,  0.        , -0.39269908,  0.        , -1.57079633,\n",
       "          0.        ,  1.57079633,  1.57079633],\n",
       "        [ 1.3497405 , -0.45640149, -0.91313921,  0.03702825, -0.75014617,\n",
       "          1.4812309 ,  0.        , -0.39269908,  0.        , -1.57079633,\n",
       "          0.        ,  1.57079633,  1.57079633],\n",
       "        [ 1.3056187 , -0.55216524, -0.83385143,  0.08676904, -0.85104598,\n",
       "          1.4851792 ,  0.        , -0.39269908,  0.        , -1.57079633,\n",
       "          0.        ,  1.57079633,  1.57079633],\n",
       "        [ 1.26149691, -0.64792899, -0.75456364,  0.13650984, -0.9519458 ,\n",
       "          1.48912749,  0.        , -0.39269908,  0.        , -1.57079633,\n",
       "          0.        ,  1.57079633,  1.57079633],\n",
       "        [ 1.21737511, -0.74369274, -0.67527586,  0.18625064, -1.05284561,\n",
       "          1.49307579,  0.        , -0.39269908,  0.        , -1.57079633,\n",
       "          0.        ,  1.57079633,  1.57079633],\n",
       "        [ 1.17325332, -0.83945649, -0.59598808,  0.23599144, -1.15374542,\n",
       "          1.49702409,  0.        , -0.39269908,  0.        , -1.57079633,\n",
       "          0.        ,  1.57079633,  1.57079633],\n",
       "        [ 1.12913152, -0.93522025, -0.51670029,  0.28573223, -1.25464524,\n",
       "          1.50097238,  0.        , -0.39269908,  0.        , -1.57079633,\n",
       "          0.        ,  1.57079633,  1.57079633],\n",
       "        [ 1.08500973, -1.030984  , -0.43741251,  0.33547303, -1.35554505,\n",
       "          1.50492068,  0.        , -0.39269908,  0.        , -1.57079633,\n",
       "          0.        ,  1.57079633,  1.57079633],\n",
       "        [ 1.04088793, -1.12674775, -0.35812472,  0.38521383, -1.45644487,\n",
       "          1.50886897,  0.        , -0.39269908,  0.        , -1.57079633,\n",
       "          0.        ,  1.57079633,  1.57079633],\n",
       "        [ 0.99676614, -1.2225115 , -0.27883694,  0.43495463, -1.55734468,\n",
       "          1.51281727,  0.        , -0.39269908,  0.        , -1.57079633,\n",
       "          0.        ,  1.57079633,  1.57079633],\n",
       "        [ 0.95264434, -1.31827525, -0.19954916,  0.48469542, -1.65824449,\n",
       "          1.51676556,  0.        , -0.39269908,  0.        , -1.57079633,\n",
       "          0.        ,  1.57079633,  1.57079633]]),\n",
       " array([ 0.95264434, -1.31827525, -0.19954916,  0.48469542, -1.65824449,\n",
       "         1.51676556,  0.        , -0.39269908,  0.        , -1.57079633,\n",
       "         0.        ,  1.57079633,  1.57079633]),\n",
       " 1.3282345987491901,\n",
       " True)"
      ]
     },
     "execution_count": 32,
     "metadata": {},
     "output_type": "execute_result"
    }
   ],
   "source": [
    "redundancy = sample_redundancy(\n",
    "    combine_redundancy(\n",
    "        pscene.object_dict['box1'].action_points_dict['left_g'], \n",
    "        pscene.binder_dict['grip0']))\n",
    "traj, lastQ, error, success =mplan.plan_transition(from_state, to_state, redundancy_dict={\"box1\": redundancy})"
   ]
  },
  {
   "cell_type": "code",
   "execution_count": null,
   "metadata": {},
   "outputs": [],
   "source": [
    "pscene.gscene.show_motion()"
   ]
  },
  {
   "cell_type": "code",
   "execution_count": null,
   "metadata": {},
   "outputs": [],
   "source": []
  },
  {
   "cell_type": "code",
   "execution_count": 17,
   "metadata": {},
   "outputs": [],
   "source": [
    "##\n",
    "# @class    PlanningPipeline\n",
    "# @brief    planning pipeline\n",
    "class PlanningPipeline:\n",
    "    ##\n",
    "    # @param mplan subclass instance of rnb-planning.src.pkg.planning.motion.interface.MotionInterface\n",
    "    def set_motion(self, mplan):\n",
    "        self.mplan = mplan\n",
    "        mplan.update(self)\n",
    "\n",
    "    ##\n",
    "    # @param tplan subclass instance of rnb-planning.src.pkg.planning.task.interface.TaskInterface\n",
    "    def set_sampler(self, tplan):\n",
    "        self.tplan = tplan"
   ]
  },
  {
   "cell_type": "code",
   "execution_count": null,
   "metadata": {},
   "outputs": [],
   "source": []
  },
  {
   "cell_type": "code",
   "execution_count": 18,
   "metadata": {},
   "outputs": [],
   "source": [
    "ghnd.show_pose([0]*13)"
   ]
  },
  {
   "cell_type": "markdown",
   "metadata": {},
   "source": [
    "## Disconnect stereo"
   ]
  },
  {
   "cell_type": "code",
   "execution_count": 20,
   "metadata": {},
   "outputs": [],
   "source": [
    "stereo.disconnnect()"
   ]
  },
  {
   "cell_type": "code",
   "execution_count": null,
   "metadata": {},
   "outputs": [],
   "source": []
  }
 ],
 "metadata": {
  "kernelspec": {
   "display_name": "Python 2",
   "language": "python",
   "name": "python2"
  },
  "language_info": {
   "codemirror_mode": {
    "name": "ipython",
    "version": 2
   },
   "file_extension": ".py",
   "mimetype": "text/x-python",
   "name": "python",
   "nbconvert_exporter": "python",
   "pygments_lexer": "ipython2",
   "version": "2.7.17"
  }
 },
 "nbformat": 4,
 "nbformat_minor": 2
}
