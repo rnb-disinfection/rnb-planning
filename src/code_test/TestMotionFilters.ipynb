{
 "cells": [
  {
   "cell_type": "code",
   "execution_count": 1,
   "metadata": {},
   "outputs": [],
   "source": [
    "import os\n",
    "os.chdir(os.path.join(os.environ[\"RNB_PLANNING_DIR\"], \"src\"))"
   ]
  },
  {
   "cell_type": "code",
   "execution_count": null,
   "metadata": {},
   "outputs": [],
   "source": []
  },
  {
   "cell_type": "markdown",
   "metadata": {},
   "source": [
    "## init combined robot config"
   ]
  },
  {
   "cell_type": "code",
   "execution_count": 2,
   "metadata": {},
   "outputs": [
    {
     "name": "stdout",
     "output_type": "stream",
     "text": [
      "connection_list\n",
      "[False]\n"
     ]
    }
   ],
   "source": [
    "from pkg.controller.combined_robot import *\n",
    "from pkg.project_config import *\n",
    "\n",
    "crob = CombinedRobot(robots_on_scene=[\n",
    "    RobotConfig(0, RobotType.indy7, None,\n",
    "                INDY_IP)]\n",
    "              , connection_list=[False])"
   ]
  },
  {
   "cell_type": "code",
   "execution_count": null,
   "metadata": {},
   "outputs": [],
   "source": []
  },
  {
   "cell_type": "markdown",
   "metadata": {},
   "source": [
    "## create scene builder"
   ]
  },
  {
   "cell_type": "code",
   "execution_count": 3,
   "metadata": {},
   "outputs": [],
   "source": [
    "from pkg.geometry.builder.scene_builder import SceneBuilder\n",
    "s_builder = SceneBuilder(None, base_link=\"base_link\")\n",
    "# s_builder.reset_reference_coord(ref_name=\"floor\")"
   ]
  },
  {
   "cell_type": "code",
   "execution_count": null,
   "metadata": {},
   "outputs": [],
   "source": []
  },
  {
   "cell_type": "markdown",
   "metadata": {},
   "source": [
    "## get ghnd with detected robot config"
   ]
  },
  {
   "cell_type": "code",
   "execution_count": 4,
   "metadata": {
    "scrolled": true
   },
   "outputs": [
    {
     "name": "stderr",
     "output_type": "stream",
     "text": [
      "Unknown tag \"hardwareInterface\" in /robot[@name='custom_robots']/transmission[@name='indy0_tran0']/actuator[@name='indy0_motor0']\n",
      "Unknown tag \"hardwareInterface\" in /robot[@name='custom_robots']/transmission[@name='indy0_tran1']/actuator[@name='indy0_motor1']\n",
      "Unknown tag \"hardwareInterface\" in /robot[@name='custom_robots']/transmission[@name='indy0_tran2']/actuator[@name='indy0_motor2']\n",
      "Unknown tag \"hardwareInterface\" in /robot[@name='custom_robots']/transmission[@name='indy0_tran3']/actuator[@name='indy0_motor3']\n",
      "Unknown tag \"hardwareInterface\" in /robot[@name='custom_robots']/transmission[@name='indy0_tran4']/actuator[@name='indy0_motor4']\n",
      "Unknown tag \"hardwareInterface\" in /robot[@name='custom_robots']/transmission[@name='indy0_tran5']/actuator[@name='indy0_motor5']\n"
     ]
    },
    {
     "name": "stdout",
     "output_type": "stream",
     "text": [
      "Please create a subscriber to the marker\n",
      "publication OK\n",
      "published: [0, 0, 0, 0, 0, 0]\n"
     ]
    }
   ],
   "source": [
    "# xyz_rpy_robots = s_builder.detect_items(level_mask=[DetectionLevel.ROBOT])\n",
    "xyz_rpy_robots = {\"indy0\": ((0,0,0), (0,0,-np.pi/2))}\n",
    "crob.update_robot_pos_dict(xyz_rpy_robots=xyz_rpy_robots)\n",
    "gscene = s_builder.create_gscene(crob)"
   ]
  },
  {
   "cell_type": "code",
   "execution_count": null,
   "metadata": {},
   "outputs": [],
   "source": []
  },
  {
   "cell_type": "markdown",
   "metadata": {},
   "source": [
    "## add environment"
   ]
  },
  {
   "cell_type": "code",
   "execution_count": 5,
   "metadata": {},
   "outputs": [],
   "source": [
    "from pkg.geometry.geometry import *"
   ]
  },
  {
   "cell_type": "code",
   "execution_count": 6,
   "metadata": {},
   "outputs": [
    {
     "name": "stdout",
     "output_type": "stream",
     "text": [
      "Please create a subscriber to the marker\n"
     ]
    }
   ],
   "source": [
    "floor = gscene.create_safe(GEOTYPE.BOX, \"floor\", \"base_link\", (3,3,0.01), (0,0,0), \n",
    "                           rpy=(0,0,0), color=(0.8,0.8,0.8,0.5), display=True, fixed=True, collision=True)\n",
    "wall = gscene.create_safe(GEOTYPE.BOX, \"wall\", \"base_link\", (3,3,0.01), (0,0.2,0), \n",
    "                           rpy=(np.pi/2,0,0), color=(0.8,0.8,0.8,0.5), display=True, fixed=True, collision=True)\n",
    "wp1 = gscene.create_safe(GEOTYPE.BOX, \"wp1\", \"base_link\", (0.1,0.1,0.01), (0.2,-0.5,0.),rpy=(0,0,np.pi/2), \n",
    "                         color=(0.8,0.2,0.2,1), display=True, fixed=True, collision=False)\n",
    "wp2 = gscene.create_safe(GEOTYPE.BOX, \"wp2\", \"base_link\", (0.1,0.1,0.01), (-0.2,-0.5,0), rpy=(0,0,np.pi/2), \n",
    "                         color=(0.8,0.2,0.2,1), display=True, fixed=True, collision=False)\n",
    "track = gscene.create_safe(GEOTYPE.BOX, \"track\", \"base_link\", (0.1,0.5,0.01), (0,-0.5,0), rpy=(0,0,np.pi/2), \n",
    "                           color=(1,0.7,0.7,0.5), display=True, fixed=True, collision=False)\n",
    "goal = gscene.create_safe(GEOTYPE.BOX, \"goal\", \"base_link\", (0.1,0.1,0.01), (-0.4,-0.3,0), \n",
    "                          rpy=(0,0,0), color=(0.8,0.8,0.2,1), display=True, fixed=True, collision=False)"
   ]
  },
  {
   "cell_type": "code",
   "execution_count": 7,
   "metadata": {},
   "outputs": [],
   "source": [
    "gtems = s_builder.add_robot_geometries(color=(0,1,0,0.5), display=True, collision=True, exclude_link=[\"panda1_link7\"])"
   ]
  },
  {
   "cell_type": "code",
   "execution_count": null,
   "metadata": {},
   "outputs": [],
   "source": []
  },
  {
   "cell_type": "markdown",
   "metadata": {},
   "source": [
    "## add brush"
   ]
  },
  {
   "cell_type": "code",
   "execution_count": 8,
   "metadata": {},
   "outputs": [],
   "source": [
    "brush_body = gscene.create_safe(gtype=GEOTYPE.BOX, name=\"brush_body\", link_name=\"base_link\", \n",
    "                                dims=(0.2,0.07,0.02), center=(0.0,-0.5,0.045), rpy=(0,0,np.pi/2), \n",
    "                                color=(0.7,0.7,0.3,1), display=True, collision=True, fixed=False)\n",
    "brush_handle = gscene.create_safe(gtype=GEOTYPE.BOX, name=\"brush_handle\", link_name=\"base_link\", \n",
    "                                  dims=(0.2,0.03,0.05), center=(0,0,0.035), rpy=(0,0,0), \n",
    "                                  color=(0.7,0.7,0.3,1), display=True, collision=True, fixed=False, parent=\"brush_body\")\n",
    "brush_face = gscene.create_safe(gtype=GEOTYPE.BOX, name=\"brush_face\", link_name=\"base_link\", \n",
    "                                dims=(0.19,0.06,0.03), center=(0,0,-0.025), rpy=(0,0,0), \n",
    "                                color=(0.8,0.8,0.8,1), display=True, collision=False, fixed=False, parent=\"brush_body\")"
   ]
  },
  {
   "cell_type": "code",
   "execution_count": null,
   "metadata": {},
   "outputs": [],
   "source": []
  },
  {
   "cell_type": "markdown",
   "metadata": {},
   "source": [
    "## init planning scene"
   ]
  },
  {
   "cell_type": "code",
   "execution_count": 9,
   "metadata": {},
   "outputs": [],
   "source": [
    "from pkg.planning.scene import PlanningScene\n",
    "pscene = PlanningScene(gscene, combined_robot=crob)"
   ]
  },
  {
   "cell_type": "code",
   "execution_count": null,
   "metadata": {},
   "outputs": [],
   "source": []
  },
  {
   "cell_type": "markdown",
   "metadata": {},
   "source": [
    "## Register binders"
   ]
  },
  {
   "cell_type": "code",
   "execution_count": 10,
   "metadata": {},
   "outputs": [],
   "source": [
    "from pkg.planning.constraint.constraint_actor import Gripper2Tool, PlacePlane, SweepTool"
   ]
  },
  {
   "cell_type": "code",
   "execution_count": 11,
   "metadata": {},
   "outputs": [
    {
     "data": {
      "text/plain": [
       "<pkg.geometry.geometry.GeometryItem at 0x7fcb9a08c990>"
      ]
     },
     "execution_count": 11,
     "metadata": {},
     "output_type": "execute_result"
    }
   ],
   "source": [
    "gscene.create_safe(gtype=GEOTYPE.SPHERE, name=\"grip0\", link_name=\"indy0_tcp\", \n",
    "                 dims=(0.01,)*3, center=(0,0,0.14), rpy=(-np.pi/2,0,0), color=(1,0,0,1), display=True, collision=False, fixed=True)"
   ]
  },
  {
   "cell_type": "code",
   "execution_count": 12,
   "metadata": {},
   "outputs": [
    {
     "data": {
      "text/plain": [
       "<pkg.planning.constraint.constraint_actor.SweepTool at 0x7fcb889d9790>"
      ]
     },
     "execution_count": 12,
     "metadata": {},
     "output_type": "execute_result"
    }
   ],
   "source": [
    "pscene.create_binder(bname=\"grip0\", gname=\"grip0\", rname=\"indy0\", _type=Gripper2Tool, point=(0,0,0), rpy=(0,0,0))\n",
    "pscene.create_binder(bname=\"floor\", gname=\"floor\", _type=PlacePlane)\n",
    "pscene.create_binder(bname=\"goal_bd\", gname=\"goal\", _type=PlacePlane, point=(0,0,0.005), rpy=(0,0,0))\n",
    "pscene.create_binder(bname=\"brush_face\", gname=\"brush_face\", _type=SweepTool, point=(0,0,-0.015), rpy=(0,0,0))"
   ]
  },
  {
   "cell_type": "code",
   "execution_count": null,
   "metadata": {},
   "outputs": [],
   "source": []
  },
  {
   "cell_type": "markdown",
   "metadata": {},
   "source": [
    "## add objects"
   ]
  },
  {
   "cell_type": "code",
   "execution_count": 13,
   "metadata": {},
   "outputs": [],
   "source": [
    "from pkg.planning.constraint.constraint_subject import CustomObject, Grasp2Point, PlacePoint, SweepPoint, SweepTask"
   ]
  },
  {
   "cell_type": "code",
   "execution_count": 14,
   "metadata": {},
   "outputs": [],
   "source": [
    "brush_handle = gscene.NAME_DICT[\"brush_handle\"]\n",
    "brush_face = gscene.NAME_DICT[\"brush_face\"]\n",
    "brush = pscene.create_object(oname=\"brush\", gname=\"brush_body\", _type=CustomObject, \n",
    "                             action_points_dict = {\"handle\": Grasp2Point(\"handle\", brush_handle, [0,0,0], [np.pi/2,0,0]),\n",
    "                                                   \"face\": PlacePoint(\"face\", brush_face, [0,0,-0.015], [0,0,0])})"
   ]
  },
  {
   "cell_type": "code",
   "execution_count": 15,
   "metadata": {},
   "outputs": [],
   "source": [
    "sweep = pscene.create_object(oname=\"sweep\", gname=\"floor\", _type=SweepTask, \n",
    "                             action_points_dict = {\"wp1\": SweepPoint(\"wp1\", wp1, [0,0,0.005], [0,0,0]),\n",
    "                                                   \"wp2\": SweepPoint(\"wp2\", wp2, [0,0,0.005], [0,0,0])})"
   ]
  },
  {
   "cell_type": "code",
   "execution_count": null,
   "metadata": {},
   "outputs": [],
   "source": []
  },
  {
   "cell_type": "markdown",
   "metadata": {},
   "source": [
    "## Set test scenario"
   ]
  },
  {
   "cell_type": "code",
   "execution_count": 16,
   "metadata": {},
   "outputs": [],
   "source": [
    "from pkg.planning.constraint.constraint_common import combine_redundancy, sample_redundancy, calc_redundancy\n",
    "import random\n",
    "\n",
    "actor = pscene.actor_dict[\"grip0\"]\n",
    "obj = pscene.subject_dict[\"brush\"]\n",
    "handle = obj.action_points_dict[\"handle\"]\n",
    "redundancy_tot = combine_redundancy(handle, actor)\n",
    "redundancy = sample_redundancy(redundancy_tot, sampler=random.uniform)\n",
    "redundancy['grip0']['w'] = np.deg2rad(0)\n",
    "redundancy['handle']['w'] = np.deg2rad(0)\n",
    "redundancy_values = {}\n",
    "redundancy_values[(obj.oname, handle.name)] = calc_redundancy(redundancy[handle.name], handle)\n",
    "redundancy_values[(obj.oname, actor.name)] = calc_redundancy(redundancy[actor.name], actor)\n",
    "Q_dict = crob.home_dict"
   ]
  },
  {
   "cell_type": "code",
   "execution_count": null,
   "metadata": {},
   "outputs": [],
   "source": []
  },
  {
   "cell_type": "markdown",
   "metadata": {},
   "source": [
    "## Grasp checker"
   ]
  },
  {
   "cell_type": "code",
   "execution_count": 17,
   "metadata": {},
   "outputs": [],
   "source": [
    "from pkg.planning.filtering.grasp_filter import GraspChecker\n",
    "gcheck = GraspChecker(pscene, end_link_couple_dict= {\"indy0_tcp\": [\"indy0_tcp\", \"indy0_link6\"], \"base_link\":[\"base_link\"]})"
   ]
  },
  {
   "cell_type": "markdown",
   "metadata": {},
   "source": [
    "## grasp check"
   ]
  },
  {
   "cell_type": "code",
   "execution_count": 18,
   "metadata": {},
   "outputs": [
    {
     "name": "stdout",
     "output_type": "stream",
     "text": [
      "True\n",
      "check: \t408.0 ms/1000 = 0.408 ms (0.393/0.71)\n",
      "\n"
     ]
    }
   ],
   "source": [
    "gtimer = GlobalTimer.instance()\n",
    "gtimer.reset()\n",
    "\n",
    "for _ in range(1000):    \n",
    "    with gtimer.block(\"check\"):\n",
    "        res = gcheck.check(actor, obj, handle, redundancy_values, Q_dict)\n",
    "print(res)\n",
    "print(gtimer)"
   ]
  },
  {
   "cell_type": "code",
   "execution_count": null,
   "metadata": {},
   "outputs": [],
   "source": []
  },
  {
   "cell_type": "code",
   "execution_count": 19,
   "metadata": {},
   "outputs": [],
   "source": [
    "from pkg.planning.motion.moveit.moveit_py import CartPose\n",
    "from pkg.planning.motion.moveit.moveit_planner import MoveitPlanner\n",
    "# mplan = MoveitPlanner(pscene, [gcheck, rcheck, lcheck])\n",
    "mplan = MoveitPlanner(pscene)\n",
    "mplan.update_gscene()\n",
    "chain_dict = pscene.get_robot_chain_dict()\n",
    "binder_links = [chain_dict[rname]['tip_link'] for rname in crob.robot_names]\n",
    "binder_link_robot_dict = {blink: rname for blink, rname in zip(binder_links, crob.robot_names)}"
   ]
  },
  {
   "cell_type": "code",
   "execution_count": 20,
   "metadata": {},
   "outputs": [
    {
     "name": "stdout",
     "output_type": "stream",
     "text": [
      "preproc: \t0.0 ms/1 = 0.433 ms (0.433/0.433)\n",
      "\n"
     ]
    }
   ],
   "source": [
    "gtimer.reset()\n",
    "with gtimer.block(\"preproc\"):\n",
    "    actor_link = actor.geometry.link_name\n",
    "    object_link = obj.geometry.link_name\n",
    "\n",
    "    point_add_handle, rpy_add_handle = redundancy_values[(obj.oname, handle.name)]\n",
    "    point_add_actor, rpy_add_actor = redundancy_values[(obj.oname, actor.name)]\n",
    "\n",
    "    T_handle_lh = np.matmul(handle.Toff_lh, SE3(Rot_rpy(rpy_add_handle), point_add_handle))\n",
    "    T_actor_lh = np.matmul(actor.Toff_lh, SE3(Rot_rpy(rpy_add_actor), point_add_actor))\n",
    "    \n",
    "    group_name_handle = binder_link_robot_dict[handle.geometry.link_name] if handle.geometry.link_name in binder_link_robot_dict else None\n",
    "    group_name_actor = binder_link_robot_dict[actor.geometry.link_name] if actor.geometry.link_name in binder_link_robot_dict else None\n",
    "\n",
    "    if group_name_actor and not group_name_handle:\n",
    "        group_name = group_name_actor\n",
    "        T_handle_link = get_tf(object_link, Q_dict, pscene.gscene.urdf_content)\n",
    "        T_link_handle_actor_link = np.matmul(T_handle_lh, SE3_inv(T_actor_lh))\n",
    "        T_tar = np.matmul(T_handle_link, T_link_handle_actor_link)\n",
    "    elif group_name_handle and not group_name_actor:\n",
    "        group_name = group_name_handle\n",
    "        T_actor_link = get_tf(actor_link, Q_dict, pscene.gscene.urdf_content)\n",
    "        T_link_actor_handle_link = np.matmul(T_actor_lh, SE3_inv(T_actor_link))\n",
    "        T_tar = np.matmul(T_actor_link, T_link_actor_handle_link)        \n",
    "    goal_pose = tuple(T_tar[:3,3]) \\\n",
    "                +tuple(Rotation.from_dcm(T_tar[:3,:3]).as_quat())\n",
    "print(gtimer)"
   ]
  },
  {
   "cell_type": "code",
   "execution_count": 23,
   "metadata": {},
   "outputs": [],
   "source": [
    "radius_min=0.2\n",
    "radius_max=1\n",
    "theta_min=-np.pi\n",
    "theta_max=np.pi\n",
    "height_min=-0.5\n",
    "height_max=1.3\n",
    "zenith_min=0\n",
    "zenith_max=np.pi\n",
    "azimuth_min=-np.pi\n",
    "azimuth_max=np.pi\n",
    "gtimer.reset()"
   ]
  },
  {
   "cell_type": "code",
   "execution_count": 35,
   "metadata": {},
   "outputs": [
    {
     "name": "stdout",
     "output_type": "stream",
     "text": [
      "solve_ik: \t49452.0 ms/1000 = 49.452 ms (0.052/102.489)\n",
      "gjk_self: \t17.0 ms/513 = 0.033 ms (0.017/0.081)\n",
      "\n"
     ]
    }
   ],
   "source": [
    "gtimer.reset()\n",
    "ik_list = []\n",
    "gjk_list = []\n",
    "for _ in range(1000):\n",
    "    radius = random.uniform(radius_min, radius_max)\n",
    "    theta = random.uniform(theta_min, theta_max)\n",
    "    height = random.uniform(height_min, height_max)\n",
    "    azimuth_loc = random.uniform(azimuth_min, azimuth_max)\n",
    "    zenith = random.uniform(zenith_min, zenith_max)\n",
    "    xyz = cyl2cart(radius, theta, height)\n",
    "    quat = tuple(Rotation.from_dcm(hori2mat(theta, azimuth_loc, zenith)).as_quat())\n",
    "    goal_pose = xyz+quat\n",
    "\n",
    "    with gtimer.block(\"solve_ik\", stack=True):\n",
    "        res_ik = mplan.planner.solve_ik(group_name, CartPose(*goal_pose), 0.1, 1.0, False, False)\n",
    "    res_py = np.array([res_ik[i] for i in range(len(res_ik))], dtype=np.float16)\n",
    "    found = np.sum(np.abs(res_py)) > 1e-4;\n",
    "    res_gjk = False\n",
    "    if found:\n",
    "        with gtimer.block(\"gjk_self\", stack=True):\n",
    "            res_gjk = mplan.planner.check_collision(True)\n",
    "    ik_list.append(found)\n",
    "    gjk_list.append(not res_gjk)\n",
    "    \n",
    "print(gtimer)"
   ]
  },
  {
   "cell_type": "code",
   "execution_count": 38,
   "metadata": {},
   "outputs": [
    {
     "name": "stdout",
     "output_type": "stream",
     "text": [
      "1.3646489230745253\n"
     ]
    },
    {
     "data": {
      "image/png": "[encoded data removed]",
      "text/plain": [
       "<Figure size 432x288 with 1 Axes>"
      ]
     },
     "metadata": {
      "needs_background": "light"
     },
     "output_type": "display_data"
    }
   ],
   "source": [
    "plt.plot(np.array(gtimer.timelist_dict['solve_ik'])[np.where(ik_list)], '.')\n",
    "print(np.mean(np.array(gtimer.timelist_dict['solve_ik'])[np.where(ik_list)]))"
   ]
  },
  {
   "cell_type": "code",
   "execution_count": 39,
   "metadata": {},
   "outputs": [
    {
     "name": "stdout",
     "output_type": "stream",
     "text": [
      "0.03290873521949813\n"
     ]
    },
    {
     "data": {
      "image/png": "[encoded data removed]",
      "text/plain": [
       "<Figure size 432x288 with 1 Axes>"
      ]
     },
     "metadata": {
      "needs_background": "light"
     },
     "output_type": "display_data"
    }
   ],
   "source": [
    "plt.plot(np.array(gtimer.timelist_dict['gjk_self']), '.')\n",
    "print(np.mean(np.array(gtimer.timelist_dict['gjk_self'])))"
   ]
  },
  {
   "cell_type": "code",
   "execution_count": null,
   "metadata": {},
   "outputs": [],
   "source": []
  },
  {
   "cell_type": "code",
   "execution_count": null,
   "metadata": {},
   "outputs": [],
   "source": []
  },
  {
   "cell_type": "code",
   "execution_count": 99,
   "metadata": {},
   "outputs": [],
   "source": [
    "gscene.show_pose(res_py)"
   ]
  },
  {
   "cell_type": "code",
   "execution_count": null,
   "metadata": {},
   "outputs": [],
   "source": []
  },
  {
   "cell_type": "markdown",
   "metadata": {},
   "source": [
    "## Reach SVM"
   ]
  },
  {
   "cell_type": "code",
   "execution_count": 19,
   "metadata": {},
   "outputs": [],
   "source": [
    "from pkg.planning.filtering.reach_filter import ReachChecker\n",
    "rcheck = ReachChecker(pscene)"
   ]
  },
  {
   "cell_type": "markdown",
   "metadata": {},
   "source": [
    "## reach check"
   ]
  },
  {
   "cell_type": "code",
   "execution_count": 20,
   "metadata": {},
   "outputs": [
    {
     "name": "stdout",
     "output_type": "stream",
     "text": [
      "True\n",
      "check: \t162.0 ms/1000 = 0.162 ms (0.151/0.403)\n",
      "\n"
     ]
    }
   ],
   "source": [
    "gtimer = GlobalTimer.instance()\n",
    "gtimer.reset()\n",
    "\n",
    "for _ in range(1000):    \n",
    "    with gtimer.block(\"check\"):\n",
    "        res = rcheck.check(actor, obj, handle, redundancy_values, Q_dict)\n",
    "print(res)\n",
    "print(gtimer)"
   ]
  },
  {
   "cell_type": "code",
   "execution_count": null,
   "metadata": {},
   "outputs": [],
   "source": []
  },
  {
   "cell_type": "markdown",
   "metadata": {},
   "source": [
    "## Latticized Filter"
   ]
  },
  {
   "cell_type": "code",
   "execution_count": 21,
   "metadata": {},
   "outputs": [],
   "source": [
    "from pkg.planning.filtering.latticized_filter import LatticedChecker\n",
    "lcheck = LatticedChecker(pscene, end_link_couple_dict= {\"indy0_tcp\": [\"indy0_tcp\", \"indy0_link6\"], \"base_link\":[\"base_link\"]})"
   ]
  },
  {
   "cell_type": "markdown",
   "metadata": {},
   "source": [
    "## latticize and check"
   ]
  },
  {
   "cell_type": "code",
   "execution_count": 22,
   "metadata": {},
   "outputs": [
    {
     "name": "stdout",
     "output_type": "stream",
     "text": [
      "True\n",
      "check: \t347.0 ms/10 = 34.732 ms (30.47/50.19)\n",
      "\n"
     ]
    }
   ],
   "source": [
    "gtimer = GlobalTimer.instance()\n",
    "gtimer.reset()\n",
    "\n",
    "for _ in range(10):    \n",
    "    with gtimer.block(\"check\"):\n",
    "        res = lcheck.check(actor, obj, handle, redundancy_values, Q_dict)\n",
    "print(res)\n",
    "print(gtimer)"
   ]
  },
  {
   "cell_type": "code",
   "execution_count": null,
   "metadata": {},
   "outputs": [],
   "source": []
  },
  {
   "cell_type": "markdown",
   "metadata": {},
   "source": [
    "## actual plan"
   ]
  },
  {
   "cell_type": "code",
   "execution_count": 23,
   "metadata": {},
   "outputs": [],
   "source": [
    "from pkg.planning.motion.moveit.moveit_planner import MoveitPlanner\n",
    "mplan = MoveitPlanner(pscene)\n",
    "mplan.update_gscene()"
   ]
  },
  {
   "cell_type": "code",
   "execution_count": 24,
   "metadata": {},
   "outputs": [],
   "source": [
    "initial_state = pscene.update_state(crob.home_pose)\n",
    "grasp_state = initial_state.copy(pscene)\n",
    "grasp_state.set_binding_state((('brush', 'handle', 'grip0', 'grip0'), ('sweep', None, None, None)), pscene)\n",
    "redundancy_dict = {\"brush\": redundancy}"
   ]
  },
  {
   "cell_type": "code",
   "execution_count": 25,
   "metadata": {},
   "outputs": [
    {
     "name": "stdout",
     "output_type": "stream",
     "text": [
      "True\n"
     ]
    }
   ],
   "source": [
    "Traj, LastQ, error, success, binding_list = mplan.plan_transition(initial_state, grasp_state, \n",
    "                                                                  redundancy_dict=redundancy_dict, timeout=5)\n",
    "print(success)"
   ]
  },
  {
   "cell_type": "code",
   "execution_count": 26,
   "metadata": {},
   "outputs": [],
   "source": [
    "gscene.show_motion(Traj)"
   ]
  },
  {
   "cell_type": "code",
   "execution_count": 27,
   "metadata": {},
   "outputs": [],
   "source": [
    "gscene.show_pose(Traj[-1])"
   ]
  },
  {
   "cell_type": "code",
   "execution_count": null,
   "metadata": {},
   "outputs": [],
   "source": []
  },
  {
   "cell_type": "markdown",
   "metadata": {},
   "source": [
    "### planning pipeline"
   ]
  },
  {
   "cell_type": "code",
   "execution_count": 23,
   "metadata": {
    "scrolled": false
   },
   "outputs": [],
   "source": [
    "from pkg.planning.motion.moveit.moveit_planner import MoveitPlanner\n",
    "# mplan = MoveitPlanner(pscene, [gcheck, rcheck, lcheck])\n",
    "mplan = MoveitPlanner(pscene)\n",
    "mplan.update_gscene()\n",
    "from pkg.planning.task.object_a_star import ObjectAstar\n",
    "tplan = ObjectAstar(pscene)\n",
    "tplan.prepare()\n",
    "from pkg.planning.pipeline import PlanningPipeline\n",
    "ppline = PlanningPipeline(pscene)\n",
    "ppline.set_motion(mplan)\n",
    "ppline.set_sampler(tplan)"
   ]
  },
  {
   "cell_type": "code",
   "execution_count": null,
   "metadata": {},
   "outputs": [],
   "source": []
  },
  {
   "cell_type": "markdown",
   "metadata": {},
   "source": [
    "## ui"
   ]
  },
  {
   "cell_type": "code",
   "execution_count": 24,
   "metadata": {},
   "outputs": [
    {
     "name": "stdout",
     "output_type": "stream",
     "text": [
      "Dash is running on http://0.0.0.0:8050/\n",
      "\n",
      " * Serving Flask app \"pkg.ui.dash_launcher\" (lazy loading)\n",
      " * Environment: production\n",
      "   WARNING: This is a development server. Do not use it in a production deployment.\n",
      "   Use a production WSGI server instead.\n",
      " * Debug mode: off\n",
      "generate table - Geometry\n",
      "generate table - Handle\n",
      "generate table - Binder\n",
      " generate table - Object\n"
     ]
    }
   ],
   "source": [
    "from pkg.ui.ui_broker import *\n",
    "\n",
    "# start UI\n",
    "ui_broker = UIBroker.instance()\n",
    "ui_broker.initialize(ppline, s_builder)\n",
    "ui_broker.start_server()\n",
    "\n",
    "ui_broker.set_tables()"
   ]
  },
  {
   "cell_type": "code",
   "execution_count": null,
   "metadata": {},
   "outputs": [],
   "source": []
  },
  {
   "cell_type": "markdown",
   "metadata": {},
   "source": [
    "## Test plan"
   ]
  },
  {
   "cell_type": "code",
   "execution_count": 30,
   "metadata": {},
   "outputs": [
    {
     "name": "stdout",
     "output_type": "stream",
     "text": [
      "   WARNING: This is a development server. Do not use it in a production deployment.\n",
      "   Use a production WSGI server instead.\n",
      " * Debug mode: off\n"
     ]
    }
   ],
   "source": [
    "from pkg.planning.constraint.constraint_common \\\n",
    "            import sample_redundancy, combine_redundancy\n",
    "\n",
    "initial_state = pscene.update_state(crob.home_pose)"
   ]
  },
  {
   "cell_type": "code",
   "execution_count": 31,
   "metadata": {
    "scrolled": true
   },
   "outputs": [
    {
     "ename": "AttributeError",
     "evalue": "PlanningPipeline instance has no attribute 'snode_counter'",
     "output_type": "error",
     "traceback": [
      "\u001b[0;31m---------------------------------------------------------------------------\u001b[0m",
      "\u001b[0;31mAttributeError\u001b[0m                            Traceback (most recent call last)",
      "\u001b[0;32m<ipython-input-31-db709ee29215>\u001b[0m in \u001b[0;36m<module>\u001b[0;34m()\u001b[0m\n\u001b[1;32m      2\u001b[0m \u001b[0;31m# goal_nodes = [(\"goal\",)]\u001b[0m\u001b[0;34m\u001b[0m\u001b[0;34m\u001b[0m\u001b[0m\n\u001b[1;32m      3\u001b[0m \u001b[0mgoal_nodes\u001b[0m \u001b[0;34m=\u001b[0m \u001b[0;34m[\u001b[0m\u001b[0;34m(\u001b[0m\u001b[0;34m\"goal\"\u001b[0m\u001b[0;34m,\u001b[0m \u001b[0;36m2\u001b[0m\u001b[0;34m)\u001b[0m\u001b[0;34m]\u001b[0m\u001b[0;34m\u001b[0m\u001b[0m\n\u001b[0;32m----> 4\u001b[0;31m \u001b[0mppline\u001b[0m\u001b[0;34m.\u001b[0m\u001b[0msearch\u001b[0m\u001b[0;34m(\u001b[0m\u001b[0minitial_state\u001b[0m\u001b[0;34m,\u001b[0m \u001b[0mgoal_nodes\u001b[0m\u001b[0;34m,\u001b[0m \u001b[0mverbose\u001b[0m\u001b[0;34m=\u001b[0m\u001b[0mTrue\u001b[0m\u001b[0;34m,\u001b[0m \u001b[0mdisplay\u001b[0m\u001b[0;34m=\u001b[0m\u001b[0mTrue\u001b[0m\u001b[0;34m,\u001b[0m \u001b[0mdt_vis\u001b[0m\u001b[0;34m=\u001b[0m\u001b[0;36m0.01\u001b[0m\u001b[0;34m,\u001b[0m \u001b[0mtimeout_loop\u001b[0m\u001b[0;34m=\u001b[0m\u001b[0;36m300\u001b[0m\u001b[0;34m,\u001b[0m \u001b[0mmultiprocess\u001b[0m\u001b[0;34m=\u001b[0m\u001b[0mFalse\u001b[0m\u001b[0;34m,\u001b[0m \u001b[0mtimeout\u001b[0m\u001b[0;34m=\u001b[0m\u001b[0;36m1\u001b[0m\u001b[0;34m)\u001b[0m\u001b[0;34m\u001b[0m\u001b[0m\n\u001b[0m\u001b[1;32m      5\u001b[0m \u001b[0mschedules\u001b[0m \u001b[0;34m=\u001b[0m \u001b[0mppline\u001b[0m\u001b[0;34m.\u001b[0m\u001b[0mfind_schedules\u001b[0m\u001b[0;34m(\u001b[0m\u001b[0;34m)\u001b[0m\u001b[0;34m\u001b[0m\u001b[0m\n\u001b[1;32m      6\u001b[0m \u001b[0mschedules_sorted\u001b[0m \u001b[0;34m=\u001b[0m \u001b[0mppline\u001b[0m\u001b[0;34m.\u001b[0m\u001b[0msort_schedule\u001b[0m\u001b[0;34m(\u001b[0m\u001b[0mschedules\u001b[0m\u001b[0;34m)\u001b[0m\u001b[0;34m\u001b[0m\u001b[0m\n",
      "\u001b[0;32m/home/rnb/Projects/rnb-planning/src/pkg/planning/pipeline.pyc\u001b[0m in \u001b[0;36msearch\u001b[0;34m(self, initial_state, goal_nodes, multiprocess, terminate_on_first, N_search, N_agents, wait_proc, display, dt_vis, verbose, timeout_loop, **kwargs)\u001b[0m\n\u001b[1;32m    122\u001b[0m                     \u001b[0mproc\u001b[0m\u001b[0;34m.\u001b[0m\u001b[0mjoin\u001b[0m\u001b[0;34m(\u001b[0m\u001b[0;34m)\u001b[0m\u001b[0;34m\u001b[0m\u001b[0m\n\u001b[1;32m    123\u001b[0m         \u001b[0;32melse\u001b[0m\u001b[0;34m:\u001b[0m\u001b[0;34m\u001b[0m\u001b[0m\n\u001b[0;32m--> 124\u001b[0;31m             \u001b[0mself\u001b[0m\u001b[0;34m.\u001b[0m\u001b[0m__search_loop\u001b[0m\u001b[0;34m(\u001b[0m\u001b[0;36m0\u001b[0m\u001b[0;34m,\u001b[0m \u001b[0mterminate_on_first\u001b[0m\u001b[0;34m,\u001b[0m \u001b[0mN_search\u001b[0m\u001b[0;34m,\u001b[0m \u001b[0mdisplay\u001b[0m\u001b[0;34m,\u001b[0m \u001b[0mdt_vis\u001b[0m\u001b[0;34m,\u001b[0m \u001b[0mverbose\u001b[0m\u001b[0;34m,\u001b[0m \u001b[0mtimeout_loop\u001b[0m\u001b[0;34m,\u001b[0m \u001b[0;34m**\u001b[0m\u001b[0mkwargs\u001b[0m\u001b[0;34m)\u001b[0m\u001b[0;34m\u001b[0m\u001b[0m\n\u001b[0m\u001b[1;32m    125\u001b[0m \u001b[0;34m\u001b[0m\u001b[0m\n\u001b[1;32m    126\u001b[0m     def __search_loop(self, ID, terminate_on_first, N_search,\n",
      "\u001b[0;32m/home/rnb/Projects/rnb-planning/src/pkg/planning/pipeline.pyc\u001b[0m in \u001b[0;36m__search_loop\u001b[0;34m(self, ID, terminate_on_first, N_search, display, dt_vis, verbose, timeout_loop, **kwargs)\u001b[0m\n\u001b[1;32m    129\u001b[0m         \u001b[0mself\u001b[0m\u001b[0;34m.\u001b[0m\u001b[0mstop_dict\u001b[0m\u001b[0;34m[\u001b[0m\u001b[0mID\u001b[0m\u001b[0;34m]\u001b[0m \u001b[0;34m=\u001b[0m \u001b[0mFalse\u001b[0m\u001b[0;34m\u001b[0m\u001b[0m\n\u001b[1;32m    130\u001b[0m         \u001b[0mret\u001b[0m \u001b[0;34m=\u001b[0m \u001b[0mFalse\u001b[0m\u001b[0;34m\u001b[0m\u001b[0m\n\u001b[0;32m--> 131\u001b[0;31m         \u001b[0;32mwhile\u001b[0m \u001b[0mself\u001b[0m\u001b[0;34m.\u001b[0m\u001b[0msnode_counter\u001b[0m\u001b[0;34m.\u001b[0m\u001b[0mvalue\u001b[0m \u001b[0;34m<\u001b[0m \u001b[0mN_search\u001b[0m \u001b[0;32mand\u001b[0m \u001b[0;34m(\u001b[0m\u001b[0mtime\u001b[0m\u001b[0;34m.\u001b[0m\u001b[0mtime\u001b[0m\u001b[0;34m(\u001b[0m\u001b[0;34m)\u001b[0m \u001b[0;34m-\u001b[0m \u001b[0mself\u001b[0m\u001b[0;34m.\u001b[0m\u001b[0mt0\u001b[0m\u001b[0;34m)\u001b[0m \u001b[0;34m<\u001b[0m \u001b[0mtimeout_loop\u001b[0m \u001b[0;32mand\u001b[0m \u001b[0;32mnot\u001b[0m \u001b[0mself\u001b[0m\u001b[0;34m.\u001b[0m\u001b[0mstop_now\u001b[0m\u001b[0;34m.\u001b[0m\u001b[0mvalue\u001b[0m\u001b[0;34m:\u001b[0m\u001b[0;34m\u001b[0m\u001b[0m\n\u001b[0m\u001b[1;32m    132\u001b[0m             \u001b[0mloop_counter\u001b[0m \u001b[0;34m+=\u001b[0m \u001b[0;36m1\u001b[0m\u001b[0;34m\u001b[0m\u001b[0m\n\u001b[1;32m    133\u001b[0m             \u001b[0msnode\u001b[0m\u001b[0;34m,\u001b[0m \u001b[0mfrom_state\u001b[0m\u001b[0;34m,\u001b[0m \u001b[0mto_state\u001b[0m\u001b[0;34m,\u001b[0m \u001b[0mredundancy_dict\u001b[0m\u001b[0;34m,\u001b[0m \u001b[0msample_fail\u001b[0m \u001b[0;34m=\u001b[0m \u001b[0mself\u001b[0m\u001b[0;34m.\u001b[0m\u001b[0mtplan\u001b[0m\u001b[0;34m.\u001b[0m\u001b[0msample\u001b[0m\u001b[0;34m(\u001b[0m\u001b[0mself\u001b[0m\u001b[0;34m.\u001b[0m\u001b[0msample_lock\u001b[0m\u001b[0;34m)\u001b[0m\u001b[0;34m\u001b[0m\u001b[0m\n",
      "\u001b[0;31mAttributeError\u001b[0m: PlanningPipeline instance has no attribute 'snode_counter'"
     ]
    }
   ],
   "source": [
    "mplan.reset_log(True)\n",
    "# goal_nodes = [(\"goal\",)]\n",
    "goal_nodes = [(\"goal\", 2)]\n",
    "ppline.search(initial_state, goal_nodes, verbose=True, display=True, dt_vis=0.01, timeout_loop=300, multiprocess=False, timeout=1)\n",
    "schedules = ppline.find_schedules()\n",
    "schedules_sorted = ppline.sort_schedule(schedules)\n",
    "snode_schedule = ppline.idxSchedule2SnodeScedule(schedules_sorted[0])"
   ]
  },
  {
   "cell_type": "code",
   "execution_count": 32,
   "metadata": {
    "scrolled": false
   },
   "outputs": [],
   "source": [
    "ppline.play_schedule(snode_schedule, period=0.01)"
   ]
  },
  {
   "cell_type": "code",
   "execution_count": 33,
   "metadata": {},
   "outputs": [
    {
     "name": "stdout",
     "output_type": "stream",
     "text": [
      "test_transition: \t3148.0 ms/7 = 449.768 ms (0.164/2571.933)\n",
      "GraspChecker: \t3.0 ms/5 = 0.507 ms (0.402/0.692)\n",
      "ReachChecker: \t1.0 ms/4 = 0.289 ms (0.245/0.417)\n",
      "LatticedChecker: \t138.0 ms/4 = 34.601 ms (32.107/40.53)\n",
      "planning: \t162.0 ms/4 = 40.418 ms (15.651/95.201)\n",
      "\n"
     ]
    }
   ],
   "source": [
    "print(gtimer)"
   ]
  },
  {
   "cell_type": "code",
   "execution_count": 34,
   "metadata": {},
   "outputs": [
    {
     "data": {
      "text/plain": [
       "{'GraspChecker': [False, True, True, True, True],\n",
       " 'LatticedChecker': [True, True, True, True],\n",
       " 'ReachChecker': [True, True, True, True],\n",
       " 'planning': [True, True, True, True]}"
      ]
     },
     "execution_count": 34,
     "metadata": {},
     "output_type": "execute_result"
    }
   ],
   "source": [
    "mplan.result_log"
   ]
  },
  {
   "cell_type": "code",
   "execution_count": null,
   "metadata": {},
   "outputs": [],
   "source": []
  },
  {
   "cell_type": "markdown",
   "metadata": {},
   "source": [
    "## Text execution"
   ]
  },
  {
   "cell_type": "code",
   "execution_count": 21,
   "metadata": {
    "scrolled": true
   },
   "outputs": [
    {
     "name": "stdout",
     "output_type": "stream",
     "text": [
      "connection_list\n",
      "[True]\n",
      "Connect: Server IP (192.168.0.63)\n"
     ]
    }
   ],
   "source": [
    "# crob.reset_connection([True])"
   ]
  },
  {
   "cell_type": "markdown",
   "metadata": {},
   "source": [
    "## unsynced execution"
   ]
  },
  {
   "cell_type": "code",
   "execution_count": 23,
   "metadata": {
    "scrolled": true
   },
   "outputs": [
    {
     "name": "stdout",
     "output_type": "stream",
     "text": [
      "binder: floor\n",
      "rname: None\n",
      "binder: None\n",
      "grasp_dict\n",
      "{'indy0': False}\n",
      "grasp_seq\n",
      "[('indy0', False)]\n",
      "Connect: Server IP (192.168.0.63)\n",
      "binder: floor\n",
      "rname: None\n",
      "binder: None\n",
      "grasp_dict\n",
      "{'indy0': False}\n",
      "grasp_seq\n",
      "[('indy0', False)]\n",
      "Connect: Server IP (192.168.0.63)\n",
      "go\n",
      "Connect: Server IP (192.168.0.63)\n",
      "binder: grip0\n",
      "rname: indy0\n",
      "binder: None\n",
      "grasp_dict\n",
      "{'indy0': True}\n",
      "grasp_seq\n",
      "[('indy0', True)]\n",
      "Connect: Server IP (192.168.0.63)\n",
      "go\n",
      "Connect: Server IP (192.168.0.63)\n",
      "binder: grip0\n",
      "rname: indy0\n",
      "binder: brush_face\n",
      "rname: None\n",
      "grasp_dict\n",
      "{'indy0': True}\n",
      "grasp_seq\n",
      "[('indy0', True)]\n",
      "Connect: Server IP (192.168.0.63)\n",
      "go\n",
      "Connect: Server IP (192.168.0.63)\n",
      "binder: grip0\n",
      "rname: indy0\n",
      "binder: brush_face\n",
      "rname: None\n",
      "grasp_dict\n",
      "{'indy0': True}\n",
      "grasp_seq\n",
      "[('indy0', True)]\n",
      "Connect: Server IP (192.168.0.63)\n",
      "go\n",
      "Connect: Server IP (192.168.0.63)\n",
      "binder: goal_bd\n",
      "rname: None\n",
      "binder: brush_face\n",
      "rname: None\n",
      "grasp_dict\n",
      "{'indy0': False}\n",
      "grasp_seq\n",
      "[('indy0', False)]\n",
      "Connect: Server IP (192.168.0.63)\n",
      "go\n",
      "Connect: Server IP (192.168.0.63)\n",
      "binder: goal_bd\n",
      "rname: None\n",
      "binder: brush_face\n",
      "rname: None\n",
      "grasp_dict\n",
      "{'indy0': False}\n",
      "grasp_seq\n",
      "[('indy0', False)]\n",
      "Connect: Server IP (192.168.0.63)\n"
     ]
    }
   ],
   "source": [
    "ppline.execute_schedule(snode_schedule, vel_scale=0.5)"
   ]
  },
  {
   "cell_type": "code",
   "execution_count": null,
   "metadata": {},
   "outputs": [],
   "source": []
  },
  {
   "cell_type": "markdown",
   "metadata": {},
   "source": [
    "## synced execution"
   ]
  },
  {
   "cell_type": "code",
   "execution_count": null,
   "metadata": {},
   "outputs": [],
   "source": [
    "## \n",
    "# with RvizPublisher(gscene, []) as rpub:\n",
    "#     ppline.execute_schedule(snode_schedule, rviz_pub=rpub)"
   ]
  },
  {
   "cell_type": "code",
   "execution_count": null,
   "metadata": {},
   "outputs": [],
   "source": []
  },
  {
   "cell_type": "markdown",
   "metadata": {},
   "source": [
    "## Disconnect stereo"
   ]
  },
  {
   "cell_type": "code",
   "execution_count": null,
   "metadata": {},
   "outputs": [],
   "source": [
    "stereo.disconnnect()"
   ]
  },
  {
   "cell_type": "code",
   "execution_count": null,
   "metadata": {},
   "outputs": [],
   "source": []
  },
  {
   "cell_type": "code",
   "execution_count": null,
   "metadata": {},
   "outputs": [],
   "source": []
  },
  {
   "cell_type": "code",
   "execution_count": null,
   "metadata": {},
   "outputs": [],
   "source": []
  },
  {
   "cell_type": "code",
   "execution_count": null,
   "metadata": {},
   "outputs": [],
   "source": []
  }
 ],
 "metadata": {
  "kernelspec": {
   "display_name": "Python 2",
   "language": "python",
   "name": "python2"
  },
  "language_info": {
   "codemirror_mode": {
    "name": "ipython",
    "version": 2
   },
   "file_extension": ".py",
   "mimetype": "text/x-python",
   "name": "python",
   "nbconvert_exporter": "python",
   "pygments_lexer": "ipython2",
   "version": "2.7.17"
  }
 },
 "nbformat": 4,
 "nbformat_minor": 2
}
