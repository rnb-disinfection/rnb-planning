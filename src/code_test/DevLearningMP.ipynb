{
 "cells": [
  {
   "cell_type": "markdown",
   "metadata": {},
   "source": [
    "## set running directory"
   ]
  },
  {
   "cell_type": "code",
   "execution_count": 1,
   "metadata": {},
   "outputs": [],
   "source": [
    "import os\n",
    "os.chdir(os.path.join(os.environ[\"RNB_PLANNING_DIR\"], 'src'))"
   ]
  },
  {
   "cell_type": "code",
   "execution_count": null,
   "metadata": {},
   "outputs": [],
   "source": []
  },
  {
   "cell_type": "markdown",
   "metadata": {},
   "source": [
    "## init combined robot config"
   ]
  },
  {
   "cell_type": "code",
   "execution_count": 2,
   "metadata": {},
   "outputs": [
    {
     "name": "stdout",
     "output_type": "stream",
     "text": [
      "connection_list\n",
      "[False]\n"
     ]
    }
   ],
   "source": [
    "from pkg.controller.combined_robot import *\n",
    "from pkg.project_config import *\n",
    "\n",
    "crob = CombinedRobot(robots_on_scene=[\n",
    "    RobotConfig(0, RobotType.indy7, None,\n",
    "                INDY_IP)]\n",
    "              , connection_list=[False])"
   ]
  },
  {
   "cell_type": "code",
   "execution_count": null,
   "metadata": {},
   "outputs": [],
   "source": []
  },
  {
   "cell_type": "code",
   "execution_count": 3,
   "metadata": {},
   "outputs": [],
   "source": [
    "from pkg.geometry.builder.scene_builder import SceneBuilder\n",
    "s_builder = SceneBuilder(None, base_link=\"base_link\")\n",
    "# s_builder.reset_reference_coord(ref_name=\"floor\")"
   ]
  },
  {
   "cell_type": "code",
   "execution_count": null,
   "metadata": {},
   "outputs": [],
   "source": []
  },
  {
   "cell_type": "markdown",
   "metadata": {},
   "source": [
    "## get ghnd with detected robot config"
   ]
  },
  {
   "cell_type": "code",
   "execution_count": 4,
   "metadata": {
    "scrolled": true
   },
   "outputs": [
    {
     "name": "stderr",
     "output_type": "stream",
     "text": [
      "Unknown tag \"hardwareInterface\" in /robot[@name='custom_robots']/transmission[@name='indy0_tran0']/actuator[@name='indy0_motor0']\n",
      "Unknown tag \"hardwareInterface\" in /robot[@name='custom_robots']/transmission[@name='indy0_tran1']/actuator[@name='indy0_motor1']\n",
      "Unknown tag \"hardwareInterface\" in /robot[@name='custom_robots']/transmission[@name='indy0_tran2']/actuator[@name='indy0_motor2']\n",
      "Unknown tag \"hardwareInterface\" in /robot[@name='custom_robots']/transmission[@name='indy0_tran3']/actuator[@name='indy0_motor3']\n",
      "Unknown tag \"hardwareInterface\" in /robot[@name='custom_robots']/transmission[@name='indy0_tran4']/actuator[@name='indy0_motor4']\n",
      "Unknown tag \"hardwareInterface\" in /robot[@name='custom_robots']/transmission[@name='indy0_tran5']/actuator[@name='indy0_motor5']\n"
     ]
    },
    {
     "name": "stdout",
     "output_type": "stream",
     "text": [
      "Please create a subscriber to the marker\n",
      "publication OK\n",
      "published: [0, 0, 0, 0, 0, 0]\n"
     ]
    }
   ],
   "source": [
    "# xyz_rpy_robots = s_builder.detect_items(level_mask=[DetectionLevel.ROBOT])\n",
    "xyz_rpy_robots = {\"indy0\": ((0,0,0), (0,0,0))}\n",
    "crob.update_robot_pos_dict(xyz_rpy_robots=xyz_rpy_robots)\n",
    "gscene = s_builder.create_gscene(crob, start_rviz=True)"
   ]
  },
  {
   "cell_type": "code",
   "execution_count": null,
   "metadata": {},
   "outputs": [],
   "source": []
  },
  {
   "cell_type": "markdown",
   "metadata": {},
   "source": [
    "## add environment"
   ]
  },
  {
   "cell_type": "code",
   "execution_count": 5,
   "metadata": {},
   "outputs": [],
   "source": [
    "from pkg.geometry.geometry import *"
   ]
  },
  {
   "cell_type": "code",
   "execution_count": 6,
   "metadata": {},
   "outputs": [
    {
     "name": "stdout",
     "output_type": "stream",
     "text": [
      "Please create a subscriber to the marker\n"
     ]
    }
   ],
   "source": [
    "gtems_robot = s_builder.add_robot_geometries(color=(0,1,0,0.5), display=True, collision=True, exclude_link=[\"panda1_link7\"])"
   ]
  },
  {
   "cell_type": "code",
   "execution_count": null,
   "metadata": {},
   "outputs": [],
   "source": []
  },
  {
   "cell_type": "markdown",
   "metadata": {},
   "source": [
    "## init planning scene"
   ]
  },
  {
   "cell_type": "code",
   "execution_count": 7,
   "metadata": {},
   "outputs": [],
   "source": [
    "from pkg.planning.scene import PlanningScene\n",
    "pscene = PlanningScene(gscene, combined_robot=crob)\n",
    "\n",
    "from pkg.planning.pipeline import PlanningPipeline\n",
    "ppline = PlanningPipeline(pscene)"
   ]
  },
  {
   "cell_type": "markdown",
   "metadata": {},
   "source": [
    "## ui"
   ]
  },
  {
   "cell_type": "code",
   "execution_count": 8,
   "metadata": {},
   "outputs": [
    {
     "name": "stdout",
     "output_type": "stream",
     "text": [
      "Dash is running on http://0.0.0.0:8050/\n",
      "\n",
      " * Serving Flask app \"pkg.ui.dash_launcher\" (lazy loading)\n",
      " * Environment: production\n"
     ]
    }
   ],
   "source": [
    "from pkg.ui.ui_broker import *\n",
    "\n",
    "# start UI\n",
    "ui_broker = UIBroker.instance()\n",
    "ui_broker.initialize(ppline, s_builder)\n",
    "ui_broker.start_server()\n",
    "\n",
    "ui_broker.set_tables()"
   ]
  },
  {
   "cell_type": "code",
   "execution_count": null,
   "metadata": {},
   "outputs": [],
   "source": []
  },
  {
   "cell_type": "markdown",
   "metadata": {},
   "source": [
    "# Object Classes"
   ]
  },
  {
   "cell_type": "code",
   "execution_count": 209,
   "metadata": {},
   "outputs": [],
   "source": [
    "from pkg.utils.gjk import get_point_list, get_gjk_distance"
   ]
  },
  {
   "cell_type": "code",
   "execution_count": 338,
   "metadata": {},
   "outputs": [],
   "source": [
    "##\n",
    "# @class ObstacleBase\n",
    "# @brief base class for obstacle generators\n",
    "class ObstacleBase:\n",
    "    RTH_MIN = None ## R: center ~ nearest point\n",
    "    RTH_MAX = None\n",
    "    RPY_MIN = None\n",
    "    RPY_MAX = None\n",
    "    DIM_MIN = None\n",
    "    DIM_MAX = None\n",
    "    GTYPE = None\n",
    "    COLOR = (0.7,0.7,0.7,1)\n",
    "    \n",
    "    def __init__(self, gscene, name, sampler=np.random.uniform, DIM=None, RTH=None, RPY=None):\n",
    "        self.name = name\n",
    "        self.DIM = sampler(self.DIM_MIN, self.DIM_MAX) if DIM is None else DIM\n",
    "        self.RTH = sampler(self.RTH_MIN, self.RTH_MAX) if RTH is None else RTH\n",
    "        self.RPY = sampler(self.RPY_MIN, self.RPY_MAX) if RPY is None else RPY\n",
    "        self.RPY[2] += self.RTH[1]\n",
    "        self.XYZ = np.array(cyl2cart(*self.RTH))\n",
    "        print(\"DIM: {}\".format(self.DIM))\n",
    "        print(\"RTH: {}\".format(self.RTH))\n",
    "        print(\"XYZ: {}\".format(self.XYZ))\n",
    "        print(\"RPY: {}\".format(self.RPY))\n",
    "        verts_rotated = np.matmul(Rot_rpy(self.RPY), (DEFAULT_VERT_DICT[self.GTYPE]*self.DIM).transpose())\n",
    "        print(\"verts_rotated:\\n {}\".format(verts_rotated.transpose()))\n",
    "        xy_normed = self.XYZ[:2]/(np.linalg.norm(self.XYZ[:2])+1e-6)\n",
    "        print(\"xy_normed: {}\".format(xy_normed))\n",
    "        verts_r_compo = np.dot(xy_normed, verts_rotated[:2,:])\n",
    "        print(\"verts_r_compo: {}\".format(verts_r_compo))\n",
    "        self.XYZ[:2] -= xy_normed[:2]*np.min(verts_r_compo)\n",
    "        self.RTH[0] -= np.min(verts_r_compo)\n",
    "        print(\"XYZ: {}\".format(self.XYZ))\n",
    "        self.geometry = gscene.create_safe(gtype=self.GTYPE, name=self.name, link_name=\"base_link\", \n",
    "                                  dims=self.DIM, center=tuple(self.XYZ), rpy=self.RPY,\n",
    "                                  color=self.COLOR, display=True, collision=True, fixed=True)\n",
    "        self.subgeo_list = []\n",
    "        \n",
    "##\n",
    "# @class WorkPlane\n",
    "# @brief working plane. target and obstacle objects are generated on this plane\n",
    "class WorkPlane(ObstacleBase):\n",
    "    RTH_MIN = (0.3, -np.pi/2, -0.2)\n",
    "    RTH_MAX = (0.8, +np.pi/2, +0.5)\n",
    "    RPY_MIN = (0, 0, -np.pi/6)\n",
    "    RPY_MAX = (0, 0, +np.pi/6)\n",
    "    DIM_MIN = (0.3, 0.3, 0.05)\n",
    "    DIM_MAX = (0.8, 0.8, 0.1)\n",
    "    GTYPE = GEOTYPE.BOX\n",
    "    COLOR=  (0.8,0.8,0.2,0.5)\n",
    "    \n",
    "    def __init__(self, gscene, name, floor_height=None, *args, **kwargs):\n",
    "        assert floor_height is not None, \"floor_height needed\"\n",
    "        self.RTH_MIN = self.RTH_MIN[:2]+(floor_height,)\n",
    "        self.H = 0.3\n",
    "        ObstacleBase.__init__(self, gscene, name, *args, **kwargs)\n",
    "        \n",
    "    def is_overlapped_with(self, gtem):\n",
    "        verts, radii = gtem.get_vertice_radius()\n",
    "        verts_global = np.add(np.matmul(verts, gtem.orientation_mat.transpose()), gtem.center)\n",
    "        verts_wp = np.multiply(DEFAULT_VERT_DICT[self.GTYPE], tuple(self.DIM[:2])+(self.H,))\n",
    "        verts_wp_global = np.add(np.matmul(verts_wp, self.geometry.orientation_mat.transpose()), \n",
    "                                 np.add(self.geometry.center, (0,0,self.H/2)))\n",
    "        return get_gjk_distance(get_point_list(verts_global), get_point_list(verts_wp_global))-radii < 1e-2\n",
    "        \n",
    "    \n",
    "##\n",
    "# @class Box\n",
    "# @brief box with the top and the front side open\n",
    "class Box(WorkPlane):\n",
    "    RPY_MIN = (0, 0, -np.pi/2)\n",
    "    RPY_MAX = (0, 0, +np.pi/2)\n",
    "    DIM_MIN = (0.3, 0.3, 0.05)\n",
    "    DIM_MAX = (0.6, 0.6, 0.05)\n",
    "    COLOR =  (0.8,0.8,0.2,0.5)\n",
    "    H_RANGE = (0.3, 0.6)\n",
    "    THICKNESS = 0.05\n",
    "    def __init__(self, gscene, name, H=None, **kwargs):\n",
    "        WorkPlane.__init__(self, gscene=gscene, name=name, **kwargs)\n",
    "        self.H = np.random.uniform(*self.H_RANGE) if H is None else H\n",
    "\n",
    "        ## back wall\n",
    "        self.subgeo_list.append(gscene.create_safe(\n",
    "            gtype=self.GTYPE, name=self.name+\"_bw\", link_name=\"base_link\", \n",
    "            dims=(self.THICKNESS, self.DIM[1], self.H), center=(self.DIM[0]/2+self.THICKNESS/2, 0,self.H/2), rpy=(0,0,0),\n",
    "            color=self.COLOR, display=True, collision=True, fixed=True,\n",
    "            parent=self.name))\n",
    "\n",
    "        ## left wall\n",
    "        self.subgeo_list.append(gscene.create_safe(\n",
    "            gtype=self.GTYPE, name=self.name+\"_lw\", link_name=\"base_link\", \n",
    "            dims=(self.DIM[0], self.THICKNESS, self.H), center=(0, -self.DIM[1]/2-self.THICKNESS/2, self.H/2), rpy=(0,0,0),\n",
    "            color=self.COLOR, display=True, collision=True, fixed=True,\n",
    "            parent=self.name))\n",
    "\n",
    "        ## right wall\n",
    "        self.subgeo_list.append(gscene.create_safe(\n",
    "            gtype=self.GTYPE, name=self.name+\"_rw\", link_name=\"base_link\", \n",
    "            dims=(self.DIM[0], self.THICKNESS, self.H), center=(0, self.DIM[1]/2+self.THICKNESS/2, self.H/2), rpy=(0,0,0),\n",
    "            color=self.COLOR, display=True, collision=True, fixed=True,\n",
    "            parent=self.name))\n",
    "\n",
    "        \n",
    "##\n",
    "# @class SideBox\n",
    "# @brief box with a side face open\n",
    "class SideBox(Box):\n",
    "    H_RANGE = (0.3, 0.6)\n",
    "    def __init__(self, gscene, name, **kwargs):\n",
    "        Box.__init__(self, gscene=gscene, name=name, **kwargs)\n",
    "\n",
    "        ## top\n",
    "        self.subgeo_list.append(gscene.create_safe(\n",
    "            gtype=self.GTYPE, name=self.name+\"_tp\", link_name=\"base_link\", \n",
    "            dims=(self.DIM[0], self.DIM[1], self.THICKNESS), center=(0, 0, self.H+self.THICKNESS/2), rpy=(0,0,0),\n",
    "            color=self.COLOR, display=True, collision=True, fixed=True,\n",
    "            parent=self.name))\n",
    "\n",
    "##\n",
    "# @class TopBox\n",
    "# @brief box with the top face open\n",
    "class TopBox(Box):\n",
    "    DIM_MIN = (0.3, 0.3, 0.05)\n",
    "    DIM_MAX = (0.6, 0.6, 0.05)\n",
    "    H_RANGE = (0.3, 0.6)\n",
    "    def __init__(self, gscene, name, **kwargs):\n",
    "        Box.__init__(self, gscene=gscene, name=name, **kwargs)\n",
    "\n",
    "        ## front wall\n",
    "        self.subgeo_list.append(gscene.create_safe(\n",
    "            gtype=self.GTYPE, name=self.name+\"_fw\", link_name=\"base_link\", \n",
    "            dims=(self.THICKNESS, self.DIM[1], self.H), center=(-self.DIM[0]/2-self.THICKNESS/2, 0,self.H/2), rpy=(0,0,0),\n",
    "            color=self.COLOR, display=True, collision=True, fixed=True,\n",
    "            parent=self.name))\n",
    "        \n",
    "##\n",
    "# @class Floor\n",
    "# @brief Floor - lowerbound of the workspace\n",
    "class Floor(ObstacleBase):\n",
    "    RTH_MIN = (0.0, 0, -0.5)\n",
    "    RTH_MAX = (0.0, 0, +0.0)\n",
    "    RPY_MIN = (0, 0, 0)\n",
    "    RPY_MAX = (0, 0, 0)\n",
    "    DIM_MIN = (3, 3, 0.1)\n",
    "    DIM_MAX = (3, 3, 0.1)\n",
    "    GTYPE = GEOTYPE.BOX\n",
    "    \n",
    "##\n",
    "# @class Ceiling\n",
    "# @brief Ceiling - upperbound of the workspace\n",
    "class Ceiling(ObstacleBase):\n",
    "    RTH_MIN = (0.0, 0, 1.0)\n",
    "    RTH_MAX = (0.0, 0, 2)\n",
    "    RPY_MIN = (0, 0, 0)\n",
    "    RPY_MAX = (0, 0, 0)\n",
    "    DIM_MIN = (3, 3, 0.1)\n",
    "    DIM_MAX = (3, 3, 0.1)\n",
    "    GTYPE = GEOTYPE.BOX\n",
    "    COLOR=  (0.7,0.7,0.7,0.5)\n",
    "    \n",
    "##\n",
    "# @class Wall\n",
    "# @brief define horizontal boundary of the workspace\n",
    "class Wall(ObstacleBase):\n",
    "    RTH_MIN = (0.3, -np.pi, 0)\n",
    "    RTH_MAX = (2.0, np.pi, 0)\n",
    "    RPY_MIN = (0, 0, 0)\n",
    "    RPY_MAX = (0, 0, 0)\n",
    "    DIM_MIN = (0.1, 6, 3)\n",
    "    DIM_MAX = (0.1, 6, 3)\n",
    "    GTYPE = GEOTYPE.BOX\n",
    "    COLOR=  (0.7,0.7,0.7,0.5)\n",
    "    \n",
    "##\n",
    "# @class Pole\n",
    "# @brief occasional poles that obstruct robot motion\n",
    "class Pole(ObstacleBase):\n",
    "    RTH_MIN = (0.3, -np.pi, 0)\n",
    "    RTH_MAX = (0.8, +np.pi, 0)\n",
    "    RPY_MIN = (0, 0, -np.pi/6)\n",
    "    RPY_MAX = (0, 0, +np.pi/6)\n",
    "    DIM_MIN = (0.1, 0.1, 4)\n",
    "    DIM_MAX = (0.3, 0.3, 4)\n",
    "    GTYPE = GEOTYPE.BOX\n",
    "    COLOR = (0.7,0.7,0.7,0.3)\n",
    "    \n",
    "##\n",
    "# @class Bar\n",
    "# @brief occasional poles that obstruct robot motion\n",
    "class Bar(ObstacleBase):\n",
    "    RTH_MIN = (0.3, -np.pi, 0)\n",
    "    RTH_MAX = (0.8, +np.pi, 1.5)\n",
    "    RPY_MIN = (0, 0, 0)\n",
    "    RPY_MAX = (0, 0, 0)\n",
    "    DIM_MIN = (0.1, 4, 0.1)\n",
    "    DIM_MAX = (0.3, 4, 0.3)\n",
    "    GTYPE = GEOTYPE.BOX\n",
    "    COLOR = (0.7,0.7,0.7,0.3)\n",
    "    \n",
    "##\n",
    "# @class PlaneObstacle\n",
    "# @brief Obstacles on the workplane\n",
    "class PlaneObject(ObstacleBase):\n",
    "    RTH_MIN = (0.3, -np.pi/2, -0.2)\n",
    "    RTH_MAX = (0.8, +np.pi/2, +0.5)\n",
    "    RPY_MIN = (0, 0, -np.pi)\n",
    "    RPY_MAX = (0, 0, +np.pi)\n",
    "    DIM_MIN = (0.02, 0.2, 0.2)\n",
    "    DIM_MAX = (0.06, 0.2, 0.2)\n",
    "    GTYPE = GEOTYPE.BOX\n",
    "    COLOR =  (0.2,0.2,0.8,0.5)\n",
    "    def __init__(self, gscene, name, workplane, XYZ_LOC=None, **kwargs):\n",
    "        ObstacleBase.__init__(self, gscene=gscene, name=name, **kwargs)\n",
    "        verts, radii = self.geometry.get_vertice_radius()\n",
    "        verts_rot = np.matmul(self.geometry.orientation_mat, verts.transpose()) ## verices with global orientaion\n",
    "        verts_rot_loc = np.matmul(workplane.geometry.Toff[:3,:3].transpose(), verts_rot) ## verices with local orientaion\n",
    "        print(\"verts_rot_loc\")\n",
    "        max_verts = np.max(verts_rot_loc, axis=-1)\n",
    "        min_verts = np.min(verts_rot_loc, axis=-1)\n",
    "        if XYZ_LOC is None:\n",
    "            self.XYZ_LOC = np.random.uniform(np.negative(workplane.DIM)/2-min_verts+radii,np.array(workplane.DIM)/2-max_verts-radii)\n",
    "            self.XYZ_LOC[2] = workplane.DIM[2]/2 + self.DIM[2]/2\n",
    "        else:\n",
    "            self.XYZ_LOC = self.XYZ_LOC\n",
    "        self.XYZ = np.matmul(workplane.geometry.Toff[:3,:3], self.XYZ_LOC) + workplane.geometry.Toff[:3,3]\n",
    "        self.geometry.set_offset_tf(center = self.XYZ)\n",
    "        self.RTH = cart2cyl(*self.XYZ)\n",
    "        gscene.update_marker(self.geometry)\n",
    "\n",
    "WORKPLANE_TYPES = [WorkPlane, Box, SideBox, TopBox]\n",
    "\n",
    "Nmax_wall, Nmax_pole, Nmax_bar = 4, 10, 10"
   ]
  },
  {
   "cell_type": "code",
   "execution_count": null,
   "metadata": {},
   "outputs": [],
   "source": []
  },
  {
   "cell_type": "markdown",
   "metadata": {},
   "source": [
    "## add floor, ceiling"
   ]
  },
  {
   "cell_type": "code",
   "execution_count": 339,
   "metadata": {},
   "outputs": [
    {
     "name": "stdout",
     "output_type": "stream",
     "text": [
      "DIM: [3.  3.  0.1]\n",
      "RTH: [ 0.          0.         -0.11535314]\n",
      "XYZ: [ 0.          0.         -0.11535314]\n",
      "RPY: [0. 0. 0.]\n",
      "verts_rotated:\n",
      " [[-1.5  -1.5  -0.05]\n",
      " [-1.5  -1.5   0.05]\n",
      " [-1.5   1.5  -0.05]\n",
      " [-1.5   1.5   0.05]\n",
      " [ 1.5  -1.5  -0.05]\n",
      " [ 1.5  -1.5   0.05]\n",
      " [ 1.5   1.5  -0.05]\n",
      " [ 1.5   1.5   0.05]]\n",
      "xy_normed: [0. 0.]\n",
      "verts_r_compo: [0. 0. 0. 0. 0. 0. 0. 0.]\n",
      "XYZ: [ 0.          0.         -0.11535314]\n",
      "DIM: [3.  3.  0.1]\n",
      "RTH: [0.         0.         1.28668891]\n",
      "XYZ: [0.         0.         1.28668891]\n",
      "RPY: [0. 0. 0.]\n",
      "verts_rotated:\n",
      " [[-1.5  -1.5  -0.05]\n",
      " [-1.5  -1.5   0.05]\n",
      " [-1.5   1.5  -0.05]\n",
      " [-1.5   1.5   0.05]\n",
      " [ 1.5  -1.5  -0.05]\n",
      " [ 1.5  -1.5   0.05]\n",
      " [ 1.5   1.5  -0.05]\n",
      " [ 1.5   1.5   0.05]]\n",
      "xy_normed: [0. 0.]\n",
      "verts_r_compo: [0. 0. 0. 0. 0. 0. 0. 0.]\n",
      "XYZ: [0.         0.         1.28668891]\n"
     ]
    }
   ],
   "source": [
    "floor = Floor(gscene, \"floor\")\n",
    "# ceiling = Ceiling(gscene, \"ceiling\")"
   ]
  },
  {
   "cell_type": "code",
   "execution_count": null,
   "metadata": {},
   "outputs": [],
   "source": []
  },
  {
   "cell_type": "markdown",
   "metadata": {},
   "source": [
    "## set workplane"
   ]
  },
  {
   "cell_type": "code",
   "execution_count": 340,
   "metadata": {},
   "outputs": [
    {
     "name": "stdout",
     "output_type": "stream",
     "text": [
      "DIM: [0.39216963 0.53403892 0.05      ]\n",
      "RTH: [ 0.78163687 -0.86534777  0.26913727]\n",
      "XYZ: [ 0.50679411 -0.59507641  0.26913727]\n",
      "RPY: [ 0.          0.         -1.80096007]\n",
      "verts_rotated:\n",
      " [[-0.21524371  0.25183088 -0.025     ]\n",
      " [-0.21524371  0.25183088  0.025     ]\n",
      " [ 0.3047121   0.12999686 -0.025     ]\n",
      " [ 0.3047121   0.12999686  0.025     ]\n",
      " [-0.3047121  -0.12999686 -0.025     ]\n",
      " [-0.3047121  -0.12999686  0.025     ]\n",
      " [ 0.21524371 -0.25183088 -0.025     ]\n",
      " [ 0.21524371 -0.25183088  0.025     ]]\n",
      "xy_normed: [ 0.64837456 -0.76131982]\n",
      "verts_r_compo: [-0.33128239 -0.33128239  0.09859838  0.09859838 -0.09859838 -0.09859838\n",
      "  0.33128239  0.33128239]\n",
      "XYZ: [ 0.72158918 -0.84728826  0.26913727]\n"
     ]
    }
   ],
   "source": [
    "wp = random.choice(WORKPLANE_TYPES)(gscene, \"wp\", floor_height=floor.RTH[2]+floor.DIM[2]/2)"
   ]
  },
  {
   "cell_type": "code",
   "execution_count": null,
   "metadata": {},
   "outputs": [],
   "source": []
  },
  {
   "cell_type": "markdown",
   "metadata": {},
   "source": [
    "## add walls "
   ]
  },
  {
   "cell_type": "code",
   "execution_count": 358,
   "metadata": {
    "scrolled": true
   },
   "outputs": [
    {
     "name": "stdout",
     "output_type": "stream",
     "text": [
      "DIM: [0.1 6.  3. ]\n",
      "RTH: [ 1.34246836 -0.81990987  0.        ]\n",
      "XYZ: [ 0.91594885 -0.9814576   0.        ]\n",
      "RPY: [ 0.          0.         -0.81990987]\n",
      "verts_rotated:\n",
      " [[-2.22736737 -2.01030709 -1.5       ]\n",
      " [-2.22736737 -2.01030709  1.5       ]\n",
      " [ 2.15913866  2.08341552 -1.5       ]\n",
      " [ 2.15913866  2.08341552  1.5       ]\n",
      " [-2.15913866 -2.08341552 -1.5       ]\n",
      " [-2.15913866 -2.08341552  1.5       ]\n",
      " [ 2.22736737  2.01030709 -1.5       ]\n",
      " [ 2.22736737  2.01030709  1.5       ]]\n",
      "xy_normed: [ 0.68228659 -0.73108379]\n",
      "verts_r_compo: [-0.04999996 -0.04999996 -0.04999996 -0.04999996  0.04999996  0.04999996\n",
      "  0.04999996  0.04999996]\n",
      "XYZ: [ 0.95006315 -1.01801176  0.        ]\n",
      "DIM: [0.1 6.  3. ]\n",
      "RTH: [1.54339056 1.89938882 0.        ]\n",
      "XYZ: [-0.49806934  1.4608153   0.        ]\n",
      "RPY: [0.         0.         1.89938882]\n",
      "verts_rotated:\n",
      " [[ 2.85562806  0.92080856 -1.5       ]\n",
      " [ 2.85562806  0.92080856  1.5       ]\n",
      " [-2.82335694 -1.01545831 -1.5       ]\n",
      " [-2.82335694 -1.01545831  1.5       ]\n",
      " [ 2.82335694  1.01545831 -1.5       ]\n",
      " [ 2.82335694  1.01545831  1.5       ]\n",
      " [-2.85562806 -0.92080856 -1.5       ]\n",
      " [-2.85562806 -0.92080856  1.5       ]]\n",
      "xy_normed: [-0.32271094  0.94649689]\n",
      "verts_r_compo: [-0.04999997 -0.04999997 -0.04999997 -0.04999997  0.04999997  0.04999997\n",
      "  0.04999997  0.04999997]\n",
      "XYZ: [-0.51420487  1.50814012  0.        ]\n"
     ]
    }
   ],
   "source": [
    "for iw in range(100):\n",
    "    gname = \"wl_{}\".format(iw)\n",
    "    if gname in gscene.NAME_DICT:\n",
    "        gscene.remove(gscene.NAME_DICT[gname])\n",
    "        \n",
    "walls = []\n",
    "for iw in range(np.random.choice(Nmax_wall)):\n",
    "    wall = Wall(gscene, \"wl_{}\".format(iw))\n",
    "    while wp.is_overlapped_with(wall.geometry):\n",
    "        wall = Wall(gscene, \"wl_{}\".format(iw))\n",
    "    walls.append(wall)"
   ]
  },
  {
   "cell_type": "code",
   "execution_count": null,
   "metadata": {},
   "outputs": [],
   "source": []
  },
  {
   "cell_type": "markdown",
   "metadata": {},
   "source": [
    "## add pole"
   ]
  },
  {
   "cell_type": "code",
   "execution_count": 369,
   "metadata": {},
   "outputs": [
    {
     "name": "stdout",
     "output_type": "stream",
     "text": [
      "DIM: [0.18521203 0.22128849 4.        ]\n",
      "RTH: [0.38372729 0.03845949 0.        ]\n",
      "XYZ: [0.38344354 0.01475432 0.        ]\n",
      "RPY: [ 0.         0.        -0.3577343]\n",
      "verts_rotated:\n",
      " [[-0.12548577 -0.07121338 -2.        ]\n",
      " [-0.12548577 -0.07121338  2.        ]\n",
      " [-0.04800097  0.1360659  -2.        ]\n",
      " [-0.04800097  0.1360659   2.        ]\n",
      " [ 0.04800097 -0.1360659  -2.        ]\n",
      " [ 0.04800097 -0.1360659   2.        ]\n",
      " [ 0.12548577  0.07121338 -2.        ]\n",
      " [ 0.12548577  0.07121338  2.        ]]\n",
      "xy_normed: [0.99925792 0.0384499 ]\n",
      "verts_r_compo: [-0.12813079 -0.12813079 -0.04273362 -0.04273362  0.04273362  0.04273362\n",
      "  0.12813079  0.12813079]\n",
      "XYZ: [0.51147925 0.01968093 0.        ]\n",
      "DIM: [0.22968177 0.17089303 4.        ]\n",
      "RTH: [0.76542499 2.47293092 0.        ]\n",
      "XYZ: [-0.60059226  0.47451487  0.        ]\n",
      "RPY: [0.         0.         2.23349935]\n",
      "verts_rotated:\n",
      " [[ 0.13801608 -0.03796179 -2.        ]\n",
      " [ 0.13801608 -0.03796179  2.        ]\n",
      " [ 0.00329563 -0.14310372 -2.        ]\n",
      " [ 0.00329563 -0.14310372  2.        ]\n",
      " [-0.00329563  0.14310372 -2.        ]\n",
      " [-0.00329563  0.14310372  2.        ]\n",
      " [-0.13801608  0.03796179 -2.        ]\n",
      " [-0.13801608  0.03796179  2.        ]]\n",
      "xy_normed: [-0.78465099  0.61993566]\n",
      "verts_r_compo: [-0.13182832 -0.13182832 -0.09130101 -0.09130101  0.09130101  0.09130101\n",
      "  0.13182832  0.13182832]\n",
      "XYZ: [-0.70403148  0.55623994  0.        ]\n",
      "DIM: [0.21282836 0.17793812 4.        ]\n",
      "RTH: [ 0.32277857 -1.40981235  0.        ]\n",
      "XYZ: [ 0.05173803 -0.31860505  0.        ]\n",
      "RPY: [ 0.          0.         -1.05679017]\n",
      "verts_rotated:\n",
      " [[-0.12979326  0.04892014 -2.        ]\n",
      " [-0.12979326  0.04892014  2.        ]\n",
      " [ 0.02515201  0.13640692 -2.        ]\n",
      " [ 0.02515201  0.13640692  2.        ]\n",
      " [-0.02515201 -0.13640692 -2.        ]\n",
      " [-0.02515201 -0.13640692  2.        ]\n",
      " [ 0.12979326 -0.04892014 -2.        ]\n",
      " [ 0.12979326 -0.04892014  2.        ]]\n",
      "xy_normed: [ 0.16028905 -0.98706698]\n",
      "verts_r_compo: [-0.0690919  -0.0690919  -0.13061118 -0.13061118  0.13061118  0.13061118\n",
      "  0.0690919   0.0690919 ]\n",
      "XYZ: [ 0.07267357 -0.44752703  0.        ]\n",
      "DIM: [0.21081393 0.16435806 4.        ]\n",
      "RTH: [0.4684768  0.06505992 0.        ]\n",
      "XYZ: [0.46748566 0.03045757 0.        ]\n",
      "RPY: [0.         0.         0.23978141]\n",
      "verts_rotated:\n",
      " [[-0.08287454 -0.10486101 -2.        ]\n",
      " [-0.08287454 -0.10486101  2.        ]\n",
      " [-0.12190798  0.05479475 -2.        ]\n",
      " [-0.12190798  0.05479475  2.        ]\n",
      " [ 0.12190798 -0.05479475 -2.        ]\n",
      " [ 0.12190798 -0.05479475  2.        ]\n",
      " [ 0.08287454  0.10486101 -2.        ]\n",
      " [ 0.08287454  0.10486101  2.        ]]\n",
      "xy_normed: [0.99788222 0.0650139 ]\n",
      "verts_r_compo: [-0.08951645 -0.08951645 -0.11808739 -0.11808739  0.11808739  0.11808739\n",
      "  0.08951645  0.08951645]\n",
      "XYZ: [0.58532297 0.03813489 0.        ]\n",
      "DIM: [0.21578482 0.19749762 4.        ]\n",
      "RTH: [0.76000222 2.04808296 0.        ]\n",
      "XYZ: [-0.34912278  0.67506789  0.        ]\n",
      "RPY: [0.         0.         1.79964192]\n",
      "verts_rotated:\n",
      " [[ 0.12065008 -0.08267804 -2.        ]\n",
      " [ 0.12065008 -0.08267804  2.        ]\n",
      " [-0.07169857 -0.12748104 -2.        ]\n",
      " [-0.07169857 -0.12748104  2.        ]\n",
      " [ 0.07169857  0.12748104 -2.        ]\n",
      " [ 0.07169857  0.12748104  2.        ]\n",
      " [-0.12065008  0.08267804 -2.        ]\n",
      " [-0.12065008  0.08267804  2.        ]]\n",
      "xy_normed: [-0.45937013  0.88824346]\n",
      "verts_r_compo: [-0.12886127 -0.12886127 -0.08029802 -0.08029802  0.08029802  0.08029802\n",
      "  0.12886127  0.12886127]\n",
      "XYZ: [-0.4083178   0.78952807  0.        ]\n",
      "DIM: [0.15571076 0.21933198 4.        ]\n",
      "RTH: [0.68840732 0.22697598 0.        ]\n",
      "XYZ: [0.67075061 0.15491374 0.        ]\n",
      "RPY: [0.         0.         0.73881129]\n",
      "verts_rotated:\n",
      " [[ 0.01629402 -0.13350129 -2.        ]\n",
      " [ 0.01629402 -0.13350129  2.        ]\n",
      " [-0.13140625  0.02864417 -2.        ]\n",
      " [-0.13140625  0.02864417  2.        ]\n",
      " [ 0.13140625 -0.02864417 -2.        ]\n",
      " [ 0.13140625 -0.02864417  2.        ]\n",
      " [-0.01629402  0.13350129 -2.        ]\n",
      " [-0.01629402  0.13350129  2.        ]]\n",
      "xy_normed: [0.97434994 0.22503177]\n",
      "verts_r_compo: [-0.01416596 -0.01416596 -0.12158982 -0.12158982  0.12158982  0.12158982\n",
      "  0.01416596  0.01416596]\n",
      "XYZ: [0.78922164 0.18227531 0.        ]\n",
      "DIM: [0.24764155 0.12898798 4.        ]\n",
      "RTH: [0.77406235 2.69222915 0.        ]\n",
      "XYZ: [-0.69721636  0.33624673  0.        ]\n",
      "RPY: [0.         0.         2.73338932]\n",
      "verts_rotated:\n",
      " [[ 0.1392487   0.01004287 -2.        ]\n",
      " [ 0.1392487   0.01004287  2.        ]\n",
      " [ 0.08804551 -0.10834688 -2.        ]\n",
      " [ 0.08804551 -0.10834688  2.        ]\n",
      " [-0.08804551  0.10834688 -2.        ]\n",
      " [-0.08804551  0.10834688  2.        ]\n",
      " [-0.1392487  -0.01004287 -2.        ]\n",
      " [-0.1392487  -0.01004287  2.        ]]\n",
      "xy_normed: [-0.90072261  0.43439175]\n",
      "verts_r_compo: [-0.12106191 -0.12106191 -0.12636957 -0.12636957  0.12636957  0.12636957\n",
      "  0.12106191  0.12106191]\n",
      "XYZ: [-0.81104029  0.39114063  0.        ]\n",
      "DIM: [0.17200274 4.         0.13595734]\n",
      "RTH: [0.34478363 0.16587815 0.60618276]\n",
      "XYZ: [0.34005103 0.05693015 0.60618276]\n",
      "RPY: [0.         0.         0.16587815]\n",
      "verts_rotated:\n",
      " [[ 0.2454161  -1.98674789 -0.06797867]\n",
      " [ 0.2454161  -1.98674789  0.06797867]\n",
      " [-0.41505788  1.95834706 -0.06797867]\n",
      " [-0.41505788  1.95834706  0.06797867]\n",
      " [ 0.41505788 -1.95834706 -0.06797867]\n",
      " [ 0.41505788 -1.95834706  0.06797867]\n",
      " [-0.2454161   1.98674789 -0.06797867]\n",
      " [-0.2454161   1.98674789  0.06797867]]\n",
      "xy_normed: [0.98627088 0.16511802]\n",
      "verts_r_compo: [-0.08600112 -0.08600112 -0.08600112 -0.08600112  0.08600112  0.08600112\n",
      "  0.08600112  0.08600112]\n",
      "XYZ: [0.42487143 0.07113049 0.60618276]\n",
      "DIM: [0.14882817 4.         0.16743257]\n",
      "RTH: [ 0.35508082 -0.94570938  0.5443016 ]\n",
      "XYZ: [ 0.20778185 -0.28793938  0.5443016 ]\n",
      "RPY: [ 0.          0.         -0.94570938]\n",
      "verts_rotated:\n",
      " [[-1.66536921 -1.10999227 -0.08371629]\n",
      " [-1.66536921 -1.10999227  0.08371629]\n",
      " [ 1.57827976  1.23067885 -0.08371629]\n",
      " [ 1.57827976  1.23067885  0.08371629]\n",
      " [-1.57827976 -1.23067885 -0.08371629]\n",
      " [-1.57827976 -1.23067885  0.08371629]\n",
      " [ 1.66536921  1.10999227 -0.08371629]\n",
      " [ 1.66536921  1.10999227  0.08371629]]\n",
      "xy_normed: [ 0.58516613 -0.81090996]\n",
      "verts_r_compo: [-0.07441387 -0.07441387 -0.07441387 -0.07441387  0.07441387  0.07441387\n",
      "  0.07441387  0.07441387]\n",
      "XYZ: [ 0.25132633 -0.34828234  0.5443016 ]\n",
      "DIM: [0.13634691 4.         0.13611881]\n",
      "RTH: [ 0.41440047 -2.10815236  0.31063662]\n",
      "XYZ: [-0.21211769 -0.35599696  0.31063662]\n",
      "RPY: [ 0.          0.         -2.10815236]\n",
      "verts_rotated:\n",
      " [[-1.68323438  1.08229832 -0.06805941]\n",
      " [-1.68323438  1.08229832  0.06805941]\n",
      " [ 1.75302579 -0.96516745 -0.06805941]\n",
      " [ 1.75302579 -0.96516745  0.06805941]\n",
      " [-1.75302579  0.96516745 -0.06805941]\n",
      " [-1.75302579  0.96516745  0.06805941]\n",
      " [ 1.68323438 -1.08229832 -0.06805941]\n",
      " [ 1.68323438 -1.08229832  0.06805941]]\n",
      "xy_normed: [-0.51186521 -0.85906297]\n",
      "verts_r_compo: [-0.06817329 -0.06817329 -0.06817329 -0.06817329  0.06817329  0.06817329\n",
      "  0.06817329  0.06817329]\n",
      "XYZ: [-0.24701323 -0.41456211  0.31063662]\n",
      "DIM: [0.23142296 4.         0.14285782]\n",
      "RTH: [ 0.75749415 -0.30132329  1.39336903]\n",
      "XYZ: [ 0.72336494 -0.22481224  1.39336903]\n",
      "RPY: [ 0.          0.         -0.30132329]\n",
      "verts_rotated:\n",
      " [[-0.70406632 -1.87554786 -0.07142891]\n",
      " [-0.70406632 -1.87554786  0.07142891]\n",
      " [ 0.48307021  1.94423052 -0.07142891]\n",
      " [ 0.48307021  1.94423052  0.07142891]\n",
      " [-0.48307021 -1.94423052 -0.07142891]\n",
      " [-0.48307021 -1.94423052  0.07142891]\n",
      " [ 0.70406632  1.87554786 -0.07142891]\n",
      " [ 0.70406632  1.87554786  0.07142891]]\n",
      "xy_normed: [ 0.95494333 -0.29678374]\n",
      "verts_r_compo: [-0.11571133 -0.11571133 -0.11571133 -0.11571133  0.11571133  0.11571133\n",
      "  0.11571133  0.11571133]\n",
      "XYZ: [ 0.8338627  -0.25915349  1.39336903]\n",
      "DIM: [0.16295974 4.         0.1751857 ]\n",
      "RTH: [ 0.50905092 -0.45409769  0.57246886]\n",
      "XYZ: [ 0.45746227 -0.22329602  0.57246886]\n",
      "RPY: [ 0.          0.         -0.45409769]\n",
      "verts_rotated:\n",
      " [[-0.95052573 -1.76157311 -0.08759285]\n",
      " [-0.95052573 -1.76157311  0.08759285]\n",
      " [ 0.80408079  1.83305566 -0.08759285]\n",
      " [ 0.80408079  1.83305566  0.08759285]\n",
      " [-0.80408079 -1.83305566 -0.08759285]\n",
      " [-0.80408079 -1.83305566  0.08759285]\n",
      " [ 0.95052573  1.76157311 -0.08759285]\n",
      " [ 0.95052573  1.76157311  0.08759285]]\n",
      "xy_normed: [ 0.89865543 -0.43865077]\n",
      "verts_r_compo: [-0.08147971 -0.08147971 -0.08147971 -0.08147971  0.08147971  0.08147971\n",
      "  0.08147971  0.08147971]\n",
      "XYZ: [ 0.53068445 -0.25903715  0.57246886]\n",
      "DIM: [0.11196975 4.         0.15533469]\n",
      "RTH: [ 0.5570283  -0.139056    1.38516998]\n",
      "XYZ: [ 0.55165146 -0.07720874  1.38516998]\n",
      "RPY: [ 0.        0.       -0.139056]\n",
      "verts_rotated:\n",
      " [[-0.33266104 -1.9729346  -0.07766735]\n",
      " [-0.33266104 -1.9729346   0.07766735]\n",
      " [ 0.2217721   1.98845454 -0.07766735]\n",
      " [ 0.2217721   1.98845454  0.07766735]\n",
      " [-0.2217721  -1.98845454 -0.07766735]\n",
      " [-0.2217721  -1.98845454  0.07766735]\n",
      " [ 0.33266104  1.9729346  -0.07766735]\n",
      " [ 0.33266104  1.9729346   0.07766735]]\n",
      "xy_normed: [ 0.99034551 -0.13860804]\n",
      "verts_r_compo: [-0.05598477 -0.05598477 -0.05598477 -0.05598477  0.05598477  0.05598477\n",
      "  0.05598477  0.05598477]\n",
      "XYZ: [ 0.60709573 -0.08496868  1.38516998]\n",
      "DIM: [0.24397294 4.         0.12829078]\n",
      "RTH: [ 0.49628271 -2.03724616  0.722322  ]\n",
      "XYZ: [-0.22318737 -0.44326507  0.722322  ]\n",
      "RPY: [ 0.          0.         -2.03724616]\n",
      "verts_rotated:\n",
      " [[-1.73148144  1.00839115 -0.06414539]\n",
      " [-1.73148144  1.00839115  0.06414539]\n",
      " [ 1.84120052 -0.79048172 -0.06414539]\n",
      " [ 1.84120052 -0.79048172  0.06414539]\n",
      " [-1.84120052  0.79048172 -0.06414539]\n",
      " [-1.84120052  0.79048172  0.06414539]\n",
      " [ 1.73148144 -1.00839115 -0.06414539]\n",
      " [ 1.73148144 -1.00839115  0.06414539]]\n",
      "xy_normed: [-0.44971731 -0.89316869]\n",
      "verts_r_compo: [-0.12198622 -0.12198622 -0.12198622 -0.12198622  0.12198622  0.12198622\n",
      "  0.12198622  0.12198622]\n",
      "XYZ: [-0.27804669 -0.55221934  0.722322  ]\n",
      "DIM: [0.12125303 4.         0.10673521]\n",
      "RTH: [0.39888922 0.07180224 0.09898407]\n",
      "XYZ: [0.39786141 0.02861654 0.09898407]\n",
      "RPY: [0.         0.         0.07180224]\n",
      "verts_rotated:\n",
      " [[ 0.08301082 -1.99919603 -0.0533676 ]\n",
      " [ 0.08301082 -1.99919603  0.0533676 ]\n",
      " [-0.20395142  1.99049727 -0.0533676 ]\n",
      " [-0.20395142  1.99049727  0.0533676 ]\n",
      " [ 0.20395142 -1.99049727 -0.0533676 ]\n",
      " [ 0.20395142 -1.99049727  0.0533676 ]\n",
      " [-0.08301082  1.99919603 -0.0533676 ]\n",
      " [-0.08301082  1.99919603  0.0533676 ]]\n",
      "xy_normed: [0.99742083 0.07174038]\n",
      "verts_r_compo: [-0.06062636 -0.06062636 -0.06062636 -0.06062636  0.06062636  0.06062636\n",
      "  0.06062636  0.06062636]\n",
      "XYZ: [0.45833141 0.03296589 0.09898407]\n",
      "DIM: [0.16570137 4.         0.22114651]\n",
      "RTH: [ 0.60449596 -2.37093987  0.68631597]\n",
      "XYZ: [-0.43369931 -0.42109414  0.68631597]\n",
      "RPY: [ 0.          0.         -2.37093987]\n",
      "verts_rotated:\n",
      " [[-1.33376573  1.49262628 -0.11057326]\n",
      " [-1.33376573  1.49262628  0.11057326]\n",
      " [ 1.45264919 -1.37719809 -0.11057326]\n",
      " [ 1.45264919 -1.37719809  0.11057326]\n",
      " [-1.45264919  1.37719809 -0.11057326]\n",
      " [-1.45264919  1.37719809  0.11057326]\n",
      " [ 1.33376573 -1.49262628 -0.11057326]\n",
      " [ 1.33376573 -1.49262628  0.11057326]]\n",
      "xy_normed: [-0.71745491 -0.69660258]\n",
      "verts_r_compo: [-0.08285055 -0.08285055 -0.08285055 -0.08285055  0.08285055  0.08285055\n",
      "  0.08285055  0.08285055]\n",
      "XYZ: [-0.49314084 -0.47880804  0.68631597]\n",
      "DIM: [0.25436843 4.         0.29620271]\n",
      "RTH: [ 0.77215315 -0.67695565  0.38948421]\n",
      "XYZ: [ 0.60188055 -0.48369442  0.38948421]\n",
      "RPY: [ 0.          0.         -0.67695565]\n",
      "verts_rotated:\n",
      " [[-1.3519838  -1.47929565 -0.14810136]\n",
      " [-1.3519838  -1.47929565  0.14810136]\n",
      " [ 1.15370783  1.63863787 -0.14810136]\n",
      " [ 1.15370783  1.63863787  0.14810136]\n",
      " [-1.15370783 -1.63863787 -0.14810136]\n",
      " [-1.15370783 -1.63863787  0.14810136]\n",
      " [ 1.3519838   1.47929565 -0.14810136]\n",
      " [ 1.3519838   1.47929565  0.14810136]]\n",
      "xy_normed: [ 0.77948237 -0.6264221 ]\n",
      "verts_r_compo: [-0.12718405 -0.12718405 -0.12718405 -0.12718405  0.12718405  0.12718405\n",
      "  0.12718405  0.12718405]\n",
      "XYZ: [ 0.70101827 -0.56336532  0.38948421]\n",
      "DIM: [0.22077724 4.         0.23649677]\n",
      "RTH: [0.33317713 1.68335236 1.30493198]\n",
      "XYZ: [-0.03742196  0.33106887  1.30493198]\n",
      "RPY: [0.         0.         1.68335236]\n",
      "verts_rotated:\n",
      " [[ 1.9997432   0.11494693 -0.11824839]\n",
      " [ 1.9997432   0.11494693  0.11824839]\n",
      " [-1.97494582 -0.33432715 -0.11824839]\n",
      " [-1.97494582 -0.33432715  0.11824839]\n",
      " [ 1.97494582  0.33432715 -0.11824839]\n",
      " [ 1.97494582  0.33432715  0.11824839]\n",
      " [-1.9997432  -0.11494693 -0.11824839]\n",
      " [-1.9997432  -0.11494693  0.11824839]]\n",
      "xy_normed: [-0.11231818  0.99366927]\n",
      "verts_r_compo: [-0.11038829 -0.11038829 -0.11038829 -0.11038829  0.11038829  0.11038829\n",
      "  0.11038829  0.11038829]\n",
      "XYZ: [-0.04982058  0.44075833  1.30493198]\n",
      "DIM: [0.147779   4.         0.29263574]\n",
      "RTH: [ 0.60867942 -0.53907032  0.20105126]\n",
      "XYZ: [ 0.52236033 -0.3124585   0.20105126]\n",
      "RPY: [ 0.          0.         -0.53907032]\n",
      "verts_rotated:\n",
      " [[-1.09008772 -1.67844226 -0.14631787]\n",
      " [-1.09008772 -1.67844226  0.14631787]\n",
      " [ 0.9632658   1.7543029  -0.14631787]\n",
      " [ 0.9632658   1.7543029   0.14631787]\n",
      " [-0.9632658  -1.7543029  -0.14631787]\n",
      " [-0.9632658  -1.7543029   0.14631787]\n",
      " [ 1.09008772  1.67844226 -0.14631787]\n",
      " [ 1.09008772  1.67844226  0.14631787]]\n",
      "xy_normed: [ 0.85818488 -0.51333754]\n",
      "verts_r_compo: [-0.07388938 -0.07388938 -0.07388938 -0.07388938  0.07388938  0.07388938\n",
      "  0.07388938  0.07388938]\n",
      "XYZ: [ 0.58577108 -0.3503887   0.20105126]\n",
      "DIM: [0.11847198 4.         0.2609339 ]\n",
      "RTH: [ 0.66637724 -2.88684544  0.525272  ]\n",
      "XYZ: [-0.64487127 -0.16792759  0.525272  ]\n",
      "RPY: [ 0.          0.         -2.88684544]\n",
      "verts_rotated:\n",
      " [[-0.44667731  1.95038157 -0.13046695]\n",
      " [-0.44667731  1.95038157  0.13046695]\n",
      " [ 0.56132585 -1.92052654 -0.13046695]\n",
      " [ 0.56132585 -1.92052654  0.13046695]\n",
      " [-0.56132585  1.92052654 -0.13046695]\n",
      " [-0.56132585  1.92052654  0.13046695]\n",
      " [ 0.44667731 -1.95038157 -0.13046695]\n",
      " [ 0.44667731 -1.95038157  0.13046695]]\n",
      "xy_normed: [-0.96772558 -0.25200041]\n",
      "verts_r_compo: [-0.0592359 -0.0592359 -0.0592359 -0.0592359  0.0592359  0.0592359\n",
      "  0.0592359  0.0592359]\n",
      "XYZ: [-0.70219537 -0.18285506  0.525272  ]\n",
      "DIM: [0.27820664 4.         0.11526707]\n",
      "RTH: [ 0.46890655 -2.73774282  0.1833089 ]\n",
      "XYZ: [-0.43118535 -0.18426216  0.1833089 ]\n",
      "RPY: [ 0.          0.         -2.73774282]\n",
      "verts_rotated:\n",
      " [[-0.6580096   1.89377219 -0.05763354]\n",
      " [-0.6580096   1.89377219  0.05763354]\n",
      " [ 0.9138359  -1.78444772 -0.05763354]\n",
      " [ 0.9138359  -1.78444772  0.05763354]\n",
      " [-0.9138359   1.78444772 -0.05763354]\n",
      " [-0.9138359   1.78444772  0.05763354]\n",
      " [ 0.6580096  -1.89377219 -0.05763354]\n",
      " [ 0.6580096  -1.89377219  0.05763354]]\n",
      "xy_normed: [-0.91955302 -0.39296054]\n",
      "verts_r_compo: [-0.13910302 -0.13910302 -0.13910302 -0.13910302  0.13910302  0.13910302\n",
      "  0.13910302  0.13910302]\n",
      "XYZ: [-0.55909795 -0.23892416  0.1833089 ]\n"
     ]
    }
   ],
   "source": [
    "for iw in range(100):\n",
    "    gname = \"po_{}\".format(iw)\n",
    "    if gname in gscene.NAME_DICT:\n",
    "        gscene.remove(gscene.NAME_DICT[gname])\n",
    "    gname = \"bar_{}\".format(iw)\n",
    "    if gname in gscene.NAME_DICT:\n",
    "        gscene.remove(gscene.NAME_DICT[gname])\n",
    "\n",
    "polls = []\n",
    "for ip in range(np.random.choice(Nmax_pole)):\n",
    "    pole = Pole(gscene, \"po_{}\".format(ip))\n",
    "    while wp.is_overlapped_with(pole.geometry):\n",
    "        pole = Pole(gscene, \"po_{}\".format(ip))\n",
    "    polls.append(pole)\n",
    "\n",
    "bars = []\n",
    "for ib in range(np.random.choice(Nmax_bar)):\n",
    "    bar = Bar(gscene, 'bar_{}'.format(ib))\n",
    "    while wp.is_overlapped_with(bar.geometry):\n",
    "        bar = Bar(gscene, 'bar_{}'.format(ib))\n",
    "    bars.append(bar)"
   ]
  },
  {
   "cell_type": "code",
   "execution_count": null,
   "metadata": {},
   "outputs": [],
   "source": []
  },
  {
   "cell_type": "markdown",
   "metadata": {},
   "source": [
    "## add object"
   ]
  },
  {
   "cell_type": "code",
   "execution_count": 344,
   "metadata": {
    "scrolled": true
   },
   "outputs": [
    {
     "name": "stdout",
     "output_type": "stream",
     "text": [
      "DIM: [0.05964348 0.2        0.2       ]\n",
      "RTH: [ 0.60829554 -1.30393469  0.15809292]\n",
      "XYZ: [ 0.16041086 -0.58676385  0.15809292]\n",
      "RPY: [ 0.          0.         -2.64425782]\n",
      "verts_rotated:\n",
      " [[-0.02149944  0.10211322 -0.1       ]\n",
      " [-0.02149944  0.10211322  0.1       ]\n",
      " [ 0.07391755 -0.07365822 -0.1       ]\n",
      " [ 0.07391755 -0.07365822  0.1       ]\n",
      " [-0.07391755  0.07365822 -0.1       ]\n",
      " [-0.07391755  0.07365822  0.1       ]\n",
      " [ 0.02149944 -0.10211322 -0.1       ]\n",
      " [ 0.02149944 -0.10211322  0.1       ]]\n",
      "xy_normed: [ 0.26370504 -0.96460166]\n",
      "verts_r_compo: [-0.1041681  -0.1041681   0.09054327  0.09054327 -0.09054327 -0.09054327\n",
      "  0.1041681   0.1041681 ]\n",
      "XYZ: [ 0.18788051 -0.68724457  0.15809292]\n",
      "verts_rot_loc\n"
     ]
    }
   ],
   "source": [
    "obj = PlaneObject(gscene, \"obj\", wp)"
   ]
  },
  {
   "cell_type": "code",
   "execution_count": null,
   "metadata": {},
   "outputs": [],
   "source": []
  },
  {
   "cell_type": "code",
   "execution_count": 333,
   "metadata": {},
   "outputs": [],
   "source": [
    "gscene.show_pose(crob.home_pose)"
   ]
  },
  {
   "cell_type": "code",
   "execution_count": null,
   "metadata": {},
   "outputs": [],
   "source": []
  },
  {
   "cell_type": "markdown",
   "metadata": {},
   "source": [
    "## dev conversion"
   ]
  },
  {
   "cell_type": "code",
   "execution_count": 87,
   "metadata": {},
   "outputs": [],
   "source": [
    "from pkg.planning.filtering.lattice_predictor import *"
   ]
  },
  {
   "cell_type": "code",
   "execution_count": null,
   "metadata": {},
   "outputs": [],
   "source": []
  },
  {
   "cell_type": "code",
   "execution_count": 88,
   "metadata": {},
   "outputs": [],
   "source": [
    "gtimer = GlobalTimer.instance()\n",
    "gtimer.reset()"
   ]
  },
  {
   "cell_type": "markdown",
   "metadata": {},
   "source": [
    "## prepare latticizer"
   ]
  },
  {
   "cell_type": "code",
   "execution_count": 11,
   "metadata": {},
   "outputs": [],
   "source": [
    "latticizer = Latticizer()"
   ]
  },
  {
   "cell_type": "code",
   "execution_count": null,
   "metadata": {},
   "outputs": [],
   "source": []
  },
  {
   "cell_type": "markdown",
   "metadata": {},
   "source": [
    "## prepare cells"
   ]
  },
  {
   "cell_type": "code",
   "execution_count": 12,
   "metadata": {},
   "outputs": [],
   "source": [
    "gtimer.reset()\n",
    "with gtimer.block(\"prepare_reference_cells\"):\n",
    "    latticizer.prepare_reference_cells(gscene)"
   ]
  },
  {
   "cell_type": "code",
   "execution_count": null,
   "metadata": {},
   "outputs": [],
   "source": []
  },
  {
   "cell_type": "markdown",
   "metadata": {},
   "source": [
    "## convert"
   ]
  },
  {
   "cell_type": "code",
   "execution_count": 13,
   "metadata": {},
   "outputs": [],
   "source": [
    "with gtimer.block(\"convert\"):\n",
    "    latticizer.convert([gtem for gtem in gscene if gtem not in gtems_robot], crob.home_dict)"
   ]
  },
  {
   "cell_type": "code",
   "execution_count": 14,
   "metadata": {
    "scrolled": true
   },
   "outputs": [
    {
     "name": "stdout",
     "output_type": "stream",
     "text": [
      "prepare_reference_cells: \t5902.0 ms/1 = 5902.221 ms (5902.221/5902.221)\n",
      "convert: \t0.0 ms/1 = 0.007 ms (0.007/0.007)\n",
      "\n"
     ]
    }
   ],
   "source": [
    "print(gtimer)"
   ]
  },
  {
   "cell_type": "code",
   "execution_count": 15,
   "metadata": {},
   "outputs": [],
   "source": [
    "gscene.show_pose(crob.home_pose)"
   ]
  },
  {
   "cell_type": "code",
   "execution_count": 16,
   "metadata": {},
   "outputs": [],
   "source": [
    "# for coll_idxes in latticizer.coll_idx_dict.values():\n",
    "#     for col_idx in coll_idxes:\n",
    "#         gscene.copy_from(latticizer.cell_refs[col_idx])"
   ]
  },
  {
   "cell_type": "code",
   "execution_count": null,
   "metadata": {},
   "outputs": [],
   "source": []
  },
  {
   "cell_type": "code",
   "execution_count": null,
   "metadata": {},
   "outputs": [],
   "source": []
  },
  {
   "cell_type": "code",
   "execution_count": null,
   "metadata": {},
   "outputs": [],
   "source": []
  },
  {
   "cell_type": "code",
   "execution_count": null,
   "metadata": {},
   "outputs": [],
   "source": []
  },
  {
   "cell_type": "code",
   "execution_count": null,
   "metadata": {},
   "outputs": [],
   "source": []
  },
  {
   "cell_type": "markdown",
   "metadata": {},
   "source": [
    "## add brush"
   ]
  },
  {
   "cell_type": "code",
   "execution_count": 10,
   "metadata": {},
   "outputs": [
    {
     "data": {
      "text/plain": [
       "<pkg.geometry.geometry.GeometryItem at 0x7fd4d980be90>"
      ]
     },
     "execution_count": 10,
     "metadata": {},
     "output_type": "execute_result"
    }
   ],
   "source": [
    "gscene.create_safe(gtype=GEOTYPE.BOX, name=\"brush_body\", link_name=\"base_link\", dims=(0.2,0.07,0.02), \n",
    "                   center=(0,-0.5,0.045), rpy=(0,0,np.pi/2), color=(0.7,0.7,0.3,1), display=True, collision=True, fixed=False)\n",
    "gscene.create_safe(gtype=GEOTYPE.BOX, name=\"brush_handle\", link_name=\"base_link\", dims=(0.2,0.03,0.05), center=(0,0,0.035), rpy=(0,0,0), \n",
    "                   color=(0.7,0.7,0.3,1), display=True, collision=True, fixed=False, parent=\"brush_body\")\n",
    "gscene.create_safe(gtype=GEOTYPE.BOX, name=\"brush_face\", link_name=\"base_link\", dims=(0.19,0.06,0.03), center=(0,0,-0.025), rpy=(0,0,0), \n",
    "                   color=(0.8,0.8,0.8,1), display=True, collision=False, fixed=False, parent=\"brush_body\")"
   ]
  },
  {
   "cell_type": "code",
   "execution_count": null,
   "metadata": {},
   "outputs": [],
   "source": []
  },
  {
   "cell_type": "code",
   "execution_count": null,
   "metadata": {},
   "outputs": [],
   "source": []
  },
  {
   "cell_type": "markdown",
   "metadata": {},
   "source": [
    "## Register binders"
   ]
  },
  {
   "cell_type": "code",
   "execution_count": 12,
   "metadata": {},
   "outputs": [],
   "source": [
    "from pkg.planning.constraint.constraint_actor import Gripper2Tool, PlacePlane, SweepTool"
   ]
  },
  {
   "cell_type": "code",
   "execution_count": 13,
   "metadata": {},
   "outputs": [
    {
     "data": {
      "text/plain": [
       "<pkg.geometry.geometry.GeometryItem at 0x7fd4dc82f090>"
      ]
     },
     "execution_count": 13,
     "metadata": {},
     "output_type": "execute_result"
    }
   ],
   "source": [
    "gscene.create_safe(gtype=GEOTYPE.SPHERE, name=\"grip0\", link_name=\"indy0_tcp\", \n",
    "                 dims=(0.01,)*3, center=(0,0,0.14), rpy=(-np.pi/2,0,0), color=(1,0,0,1), display=True, collision=False, fixed=True)"
   ]
  },
  {
   "cell_type": "code",
   "execution_count": 14,
   "metadata": {},
   "outputs": [
    {
     "data": {
      "text/plain": [
       "<pkg.planning.constraint.constraint_actor.SweepTool at 0x7fd4d9824650>"
      ]
     },
     "execution_count": 14,
     "metadata": {},
     "output_type": "execute_result"
    }
   ],
   "source": [
    "pscene.create_binder(bname=\"grip0\", gname=\"grip0\", rname=\"indy0\", _type=Gripper2Tool, point=(0,0,0), rpy=(0,0,0))\n",
    "pscene.create_binder(bname=\"floor\", gname=\"floor\", _type=PlacePlane)\n",
    "pscene.create_binder(bname=\"goal_bd\", gname=\"goal\", _type=PlacePlane, point=(0,0,0.005), rpy=(0,0,0))\n",
    "pscene.create_binder(bname=\"brush_face\", gname=\"brush_face\", _type=SweepTool, point=(0,0,-0.015), rpy=(0,0,0))"
   ]
  },
  {
   "cell_type": "code",
   "execution_count": null,
   "metadata": {},
   "outputs": [],
   "source": []
  },
  {
   "cell_type": "markdown",
   "metadata": {},
   "source": [
    "## add objects"
   ]
  },
  {
   "cell_type": "code",
   "execution_count": 15,
   "metadata": {},
   "outputs": [],
   "source": [
    "from pkg.planning.constraint.constraint_subject import CustomObject, Grasp2Point, PlacePoint, SweepPoint, SweepTask"
   ]
  },
  {
   "cell_type": "code",
   "execution_count": 16,
   "metadata": {},
   "outputs": [],
   "source": [
    "brush_handle = gscene.NAME_DICT[\"brush_handle\"]\n",
    "brush_face = gscene.NAME_DICT[\"brush_face\"]\n",
    "brush = pscene.create_object(oname=\"brush\", gname=\"brush_body\", _type=CustomObject, \n",
    "                             action_points_dict = {\"handle\": Grasp2Point(\"handle\", brush_handle, [0,0,0], [np.pi/2,0,0]),\n",
    "                                                   \"face\": PlacePoint(\"face\", brush_face, [0,0,-0.015], [0,0,0])})"
   ]
  },
  {
   "cell_type": "code",
   "execution_count": 17,
   "metadata": {},
   "outputs": [],
   "source": [
    "sweep = pscene.create_object(oname=\"sweep\", gname=\"floor\", _type=SweepTask, \n",
    "                             action_points_dict = {\"wp1\": SweepPoint(\"wp1\", wp1, [0,0,0.005], [0,0,0]),\n",
    "                                                   \"wp2\": SweepPoint(\"wp2\", wp2, [0,0,0.005], [0,0,0])})"
   ]
  },
  {
   "cell_type": "code",
   "execution_count": null,
   "metadata": {},
   "outputs": [],
   "source": []
  },
  {
   "cell_type": "markdown",
   "metadata": {},
   "source": [
    "### planning pipeline"
   ]
  },
  {
   "cell_type": "code",
   "execution_count": 180,
   "metadata": {
    "scrolled": false
   },
   "outputs": [
    {
     "ename": "KeyError",
     "evalue": "'indy0'",
     "output_type": "error",
     "traceback": [
      "\u001b[0;31m---------------------------------------------------------------------------\u001b[0m",
      "\u001b[0;31mKeyError\u001b[0m                                  Traceback (most recent call last)",
      "\u001b[0;32m<ipython-input-180-34d6f4c2ff34>\u001b[0m in \u001b[0;36m<module>\u001b[0;34m()\u001b[0m\n\u001b[1;32m      1\u001b[0m \u001b[0;32mfrom\u001b[0m \u001b[0mpkg\u001b[0m\u001b[0;34m.\u001b[0m\u001b[0mplanning\u001b[0m\u001b[0;34m.\u001b[0m\u001b[0mmotion\u001b[0m\u001b[0;34m.\u001b[0m\u001b[0mmoveit\u001b[0m\u001b[0;34m.\u001b[0m\u001b[0mmoveit_planner\u001b[0m \u001b[0;32mimport\u001b[0m \u001b[0mMoveitPlanner\u001b[0m\u001b[0;34m\u001b[0m\u001b[0m\n\u001b[0;32m----> 2\u001b[0;31m \u001b[0mmplan\u001b[0m \u001b[0;34m=\u001b[0m \u001b[0mMoveitPlanner\u001b[0m\u001b[0;34m(\u001b[0m\u001b[0mpscene\u001b[0m\u001b[0;34m)\u001b[0m\u001b[0;34m\u001b[0m\u001b[0m\n\u001b[0m\u001b[1;32m      3\u001b[0m \u001b[0mmplan\u001b[0m\u001b[0;34m.\u001b[0m\u001b[0mupdate_gscene\u001b[0m\u001b[0;34m(\u001b[0m\u001b[0;34m)\u001b[0m\u001b[0;34m\u001b[0m\u001b[0m\n\u001b[1;32m      4\u001b[0m \u001b[0;32mfrom\u001b[0m \u001b[0mpkg\u001b[0m\u001b[0;34m.\u001b[0m\u001b[0mplanning\u001b[0m\u001b[0;34m.\u001b[0m\u001b[0mtask\u001b[0m\u001b[0;34m.\u001b[0m\u001b[0mobject_a_star\u001b[0m \u001b[0;32mimport\u001b[0m \u001b[0mObjectAstar\u001b[0m\u001b[0;34m\u001b[0m\u001b[0m\n\u001b[1;32m      5\u001b[0m \u001b[0mtplan\u001b[0m \u001b[0;34m=\u001b[0m \u001b[0mObjectAstar\u001b[0m\u001b[0;34m(\u001b[0m\u001b[0mpscene\u001b[0m\u001b[0;34m)\u001b[0m\u001b[0;34m\u001b[0m\u001b[0m\n",
      "\u001b[0;32m/home/rnb/Projects/rnb-planning/src/pkg/planning/motion/moveit/moveit_planner.pyc\u001b[0m in \u001b[0;36m__init__\u001b[0;34m(self, pscene, motion_filters, enable_dual)\u001b[0m\n\u001b[1;32m     65\u001b[0m         \u001b[0mconfig_path\u001b[0m \u001b[0;34m=\u001b[0m \u001b[0mos\u001b[0m\u001b[0;34m.\u001b[0m\u001b[0mpath\u001b[0m\u001b[0;34m.\u001b[0m\u001b[0mdirname\u001b[0m\u001b[0;34m(\u001b[0m\u001b[0mself\u001b[0m\u001b[0;34m.\u001b[0m\u001b[0murdf_path\u001b[0m\u001b[0;34m)\u001b[0m\u001b[0;34m+\u001b[0m\u001b[0;34m\"/\"\u001b[0m\u001b[0;34m\u001b[0m\u001b[0m\n\u001b[1;32m     66\u001b[0m         \u001b[0mself\u001b[0m\u001b[0;34m.\u001b[0m\u001b[0mrobot_names\u001b[0m \u001b[0;34m=\u001b[0m \u001b[0mself\u001b[0m\u001b[0;34m.\u001b[0m\u001b[0mcombined_robot\u001b[0m\u001b[0;34m.\u001b[0m\u001b[0mrobot_names\u001b[0m\u001b[0;34m\u001b[0m\u001b[0m\n\u001b[0;32m---> 67\u001b[0;31m         \u001b[0mchain_dict\u001b[0m \u001b[0;34m=\u001b[0m \u001b[0mpscene\u001b[0m\u001b[0;34m.\u001b[0m\u001b[0mget_robot_chain_dict\u001b[0m\u001b[0;34m(\u001b[0m\u001b[0;34m)\u001b[0m\u001b[0;34m\u001b[0m\u001b[0m\n\u001b[0m\u001b[1;32m     68\u001b[0m         \u001b[0mbinder_links\u001b[0m \u001b[0;34m=\u001b[0m \u001b[0;34m[\u001b[0m\u001b[0mchain_dict\u001b[0m\u001b[0;34m[\u001b[0m\u001b[0mrname\u001b[0m\u001b[0;34m]\u001b[0m\u001b[0;34m[\u001b[0m\u001b[0;34m'tip_link'\u001b[0m\u001b[0;34m]\u001b[0m \u001b[0;32mfor\u001b[0m \u001b[0mrname\u001b[0m \u001b[0;32min\u001b[0m \u001b[0mself\u001b[0m\u001b[0;34m.\u001b[0m\u001b[0mrobot_names\u001b[0m\u001b[0;34m]\u001b[0m\u001b[0;34m\u001b[0m\u001b[0m\n\u001b[1;32m     69\u001b[0m         \u001b[0mself\u001b[0m\u001b[0;34m.\u001b[0m\u001b[0mbinder_link_robot_dict\u001b[0m \u001b[0;34m=\u001b[0m \u001b[0;34m{\u001b[0m\u001b[0mblink\u001b[0m\u001b[0;34m:\u001b[0m \u001b[0mrname\u001b[0m \u001b[0;32mfor\u001b[0m \u001b[0mblink\u001b[0m\u001b[0;34m,\u001b[0m \u001b[0mrname\u001b[0m \u001b[0;32min\u001b[0m \u001b[0mzip\u001b[0m\u001b[0;34m(\u001b[0m\u001b[0mbinder_links\u001b[0m\u001b[0;34m,\u001b[0m \u001b[0mself\u001b[0m\u001b[0;34m.\u001b[0m\u001b[0mrobot_names\u001b[0m\u001b[0;34m)\u001b[0m\u001b[0;34m}\u001b[0m\u001b[0;34m\u001b[0m\u001b[0m\n",
      "\u001b[0;32m/home/rnb/Projects/rnb-planning/src/pkg/planning/scene.pyc\u001b[0m in \u001b[0;36mget_robot_chain_dict\u001b[0;34m(self)\u001b[0m\n\u001b[1;32m    142\u001b[0m         \u001b[0mchain_dict\u001b[0m \u001b[0;34m=\u001b[0m \u001b[0;34m{\u001b[0m\u001b[0;34m}\u001b[0m\u001b[0;34m\u001b[0m\u001b[0m\n\u001b[1;32m    143\u001b[0m         \u001b[0;32mfor\u001b[0m \u001b[0mrname\u001b[0m \u001b[0;32min\u001b[0m \u001b[0mself\u001b[0m\u001b[0;34m.\u001b[0m\u001b[0mcombined_robot\u001b[0m\u001b[0;34m.\u001b[0m\u001b[0mrobot_names\u001b[0m\u001b[0;34m:\u001b[0m\u001b[0;34m\u001b[0m\u001b[0m\n\u001b[0;32m--> 144\u001b[0;31m             \u001b[0meffector_link\u001b[0m \u001b[0;34m=\u001b[0m \u001b[0mself\u001b[0m\u001b[0;34m.\u001b[0m\u001b[0mactor_dict\u001b[0m\u001b[0;34m[\u001b[0m\u001b[0mself\u001b[0m\u001b[0;34m.\u001b[0m\u001b[0mrobot_actor_dict\u001b[0m\u001b[0;34m[\u001b[0m\u001b[0mrname\u001b[0m\u001b[0;34m]\u001b[0m\u001b[0;34m]\u001b[0m\u001b[0;34m.\u001b[0m\u001b[0mgeometry\u001b[0m\u001b[0;34m.\u001b[0m\u001b[0mlink_name\u001b[0m\u001b[0;34m\u001b[0m\u001b[0m\n\u001b[0m\u001b[1;32m    145\u001b[0m             \u001b[0mjoint_chain\u001b[0m \u001b[0;34m=\u001b[0m \u001b[0mself\u001b[0m\u001b[0;34m.\u001b[0m\u001b[0mgscene\u001b[0m\u001b[0;34m.\u001b[0m\u001b[0murdf_content\u001b[0m\u001b[0;34m.\u001b[0m\u001b[0mget_chain\u001b[0m\u001b[0;34m(\u001b[0m\u001b[0mroot\u001b[0m\u001b[0;34m=\u001b[0m\u001b[0mbase_dict\u001b[0m\u001b[0;34m[\u001b[0m\u001b[0mrname\u001b[0m\u001b[0;34m]\u001b[0m\u001b[0;34m,\u001b[0m \u001b[0mtip\u001b[0m\u001b[0;34m=\u001b[0m\u001b[0meffector_link\u001b[0m\u001b[0;34m,\u001b[0m \u001b[0mfixed\u001b[0m\u001b[0;34m=\u001b[0m\u001b[0mFalse\u001b[0m\u001b[0;34m,\u001b[0m \u001b[0mjoints\u001b[0m\u001b[0;34m=\u001b[0m\u001b[0mTrue\u001b[0m\u001b[0;34m,\u001b[0m \u001b[0mlinks\u001b[0m\u001b[0;34m=\u001b[0m\u001b[0mFalse\u001b[0m\u001b[0;34m)\u001b[0m\u001b[0;34m\u001b[0m\u001b[0m\n\u001b[1;32m    146\u001b[0m             \u001b[0mchain_dict\u001b[0m\u001b[0;34m[\u001b[0m\u001b[0mrname\u001b[0m\u001b[0;34m]\u001b[0m \u001b[0;34m=\u001b[0m \u001b[0;34m{\u001b[0m\u001b[0;34m\"tip_link\"\u001b[0m\u001b[0;34m:\u001b[0m \u001b[0meffector_link\u001b[0m\u001b[0;34m,\u001b[0m \u001b[0;34m\"joint_names\"\u001b[0m\u001b[0;34m:\u001b[0m \u001b[0mjoint_chain\u001b[0m\u001b[0;34m}\u001b[0m\u001b[0;34m\u001b[0m\u001b[0m\n",
      "\u001b[0;31mKeyError\u001b[0m: 'indy0'"
     ]
    }
   ],
   "source": [
    "from pkg.planning.motion.moveit.moveit_planner import MoveitPlanner\n",
    "mplan = MoveitPlanner(pscene)\n",
    "mplan.update_gscene()\n",
    "from pkg.planning.task.object_a_star import ObjectAstar\n",
    "tplan = ObjectAstar(pscene)\n",
    "tplan.prepare()\n",
    "from pkg.planning.pipeline import PlanningPipeline\n",
    "ppline = PlanningPipeline(pscene)\n",
    "ppline.set_motion(mplan)\n",
    "ppline.set_sampler(tplan)"
   ]
  },
  {
   "cell_type": "markdown",
   "metadata": {},
   "source": [
    "```\n",
    "open web ui on <your ip>:8050\n",
    "click geometry items / Handles / Binders to highlight geometry on RVIZ\n",
    "other functions may be buggy.. please report\n",
    "```"
   ]
  },
  {
   "cell_type": "code",
   "execution_count": null,
   "metadata": {},
   "outputs": [],
   "source": []
  },
  {
   "cell_type": "markdown",
   "metadata": {},
   "source": [
    "## Test plan"
   ]
  },
  {
   "cell_type": "code",
   "execution_count": 20,
   "metadata": {},
   "outputs": [],
   "source": [
    "from pkg.planning.constraint.constraint_common \\\n",
    "            import sample_redundancy, combine_redundancy\n",
    "\n",
    "initial_state = pscene.update_state(crob.home_pose)"
   ]
  },
  {
   "cell_type": "code",
   "execution_count": 27,
   "metadata": {
    "scrolled": true
   },
   "outputs": [
    {
     "name": "stdout",
     "output_type": "stream",
     "text": [
      "node: ('floor', 0)->('grip0', 0) = fail\n",
      "node: ('floor', 0)->('grip0', 0) = fail\n",
      "node: ('floor', 0)->('floor', 1) = fail\n",
      "node: ('floor', 0)->('floor', 1) = fail\n",
      "node: ('floor', 0)->('grip0', 0) = fail\n",
      "node: ('floor', 0)->('grip0', 0) = fail\n",
      "node: ('floor', 0)->('grip0', 0) = fail\n",
      "node: ('floor', 0)->('grip0', 0) = fail\n",
      "node: ('floor', 0)->('grip0', 0) = success\n",
      "Remaining:4->3 / branching: 0->1 (0.85/300.0 s, steps/err: 7(25.6989002228 ms)/0.295332890961)\n",
      "======================================================================================================================================================\n",
      "node: ('grip0', 0)->('grip0', 1) = success\n",
      "Remaining:3->2 / branching: 1->2 (0.88/300.0 s, steps/err: 10(24.6050357819 ms)/1.50707682149)\n",
      "======================================================================================================================================================\n",
      "node: ('grip0', 1)->('grip0', 2) = fail\n",
      "node: ('grip0', 1)->('grip0', 2) = success\n",
      "Remaining:2->1 / branching: 2->3 (1.04/300.0 s, steps/err: 29(33.6170196533 ms)/2.22764991945)\n",
      "======================================================================================================================================================\n",
      "node: ('grip0', 2)->('goal', 2) = success\n",
      "Remaining:1->0 / branching: 3->4 (1.05/300.0 s, steps/err: 6(17.3070430756 ms)/0.00162698225372)\n",
      "======================================================================================================================================================\n",
      "=========================================================================================================\n",
      "======================= terminated 0: first answer acquired ===============================\n",
      "=========================================================================================================\n"
     ]
    }
   ],
   "source": [
    "# goal_nodes = [(\"goal\",)]\n",
    "goal_nodes = [(\"goal\", 2)]\n",
    "ppline.search(initial_state, goal_nodes, verbose=True, display=False, dt_vis=0.01, timeout_loop=300, multiprocess=False)\n",
    "schedules = ppline.find_schedules()\n",
    "schedules_sorted = ppline.sort_schedule(schedules)\n",
    "snode_schedule = ppline.idxSchedule2SnodeScedule(schedules_sorted[0])"
   ]
  },
  {
   "cell_type": "code",
   "execution_count": null,
   "metadata": {},
   "outputs": [],
   "source": []
  },
  {
   "cell_type": "markdown",
   "metadata": {},
   "source": [
    "## play searched plan"
   ]
  },
  {
   "cell_type": "code",
   "execution_count": 28,
   "metadata": {
    "scrolled": false
   },
   "outputs": [],
   "source": [
    "ppline.play_schedule(snode_schedule, period=0.01)"
   ]
  },
  {
   "cell_type": "code",
   "execution_count": null,
   "metadata": {},
   "outputs": [],
   "source": []
  },
  {
   "cell_type": "code",
   "execution_count": null,
   "metadata": {},
   "outputs": [],
   "source": []
  },
  {
   "cell_type": "markdown",
   "metadata": {},
   "source": [
    "## deprecated python ver"
   ]
  },
  {
   "cell_type": "code",
   "execution_count": null,
   "metadata": {},
   "outputs": [],
   "source": [
    "from pkg.utils.gjk import make_point3, get_point_list, get_point_list_list, get_point_list_list_from_point_list\n",
    "from pkg.utils.gjk import get_gjk_distance, get_gjk_distance_min, get_gjk_distance_all"
   ]
  },
  {
   "cell_type": "code",
   "execution_count": null,
   "metadata": {},
   "outputs": [],
   "source": [
    "gtimer = GlobalTimer.instance()\n",
    "gtimer.reset()\n",
    "with gtimer.block(\"get_cell_vertices\"):\n",
    "    gscene_ref = GeometryScene(gscene.urdf_content, gscene.urdf_path, gscene.joint_names, gscene.link_names, rviz=False)\n",
    "    centers = get_centers(Nwdh, L_CELL, OFFSET_ZERO).reshape((-1,3))\n",
    "    cell_refs = []\n",
    "    for icell, center in enumerate(centers):\n",
    "        cell_refs.append(gscene_ref.create_safe(GEOTYPE.BOX, str(icell), \"base_link\", dims=(L_CELL,)*3, \n",
    "                                                center=center, rpy=(0,0,0), color=(1,1,1,0.2), \n",
    "                                                display=True, collision=False, fixed=True))\n",
    "    cell_vertices = get_cell_vertices(centers, L_CELL)\n",
    "    cell_vertices_gjk = get_point_list_list(cell_vertices)\n",
    "    center_vertices_gjk = get_point_list_list(np.expand_dims(centers, axis=-2))"
   ]
  },
  {
   "cell_type": "code",
   "execution_count": null,
   "metadata": {},
   "outputs": [],
   "source": [
    "print(gtimer)"
   ]
  },
  {
   "cell_type": "code",
   "execution_count": null,
   "metadata": {},
   "outputs": [],
   "source": [
    "gtimer.reset()\n",
    "sqrt3 = np.sqrt(3)\n",
    "LCmax = L_CELL*sqrt3/2\n",
    "Qdict = crob.home_dict\n",
    "with gtimer.block(\"full\"):\n",
    "    for gtem in gscene:\n",
    "#         if gtem in gtems_robot or not gtem.collision:\n",
    "#             continue\n",
    "        with gtimer.block(\"centers\"):\n",
    "            Tgtem = SE3_inv(gtem.get_tf(Qdict))\n",
    "            centers_loc = np.abs(np.matmul(centers, Tgtem[:3,:3].transpose())+Tgtem[:3,3])\n",
    "        if gtem.gtype == GEOTYPE.BOX and np.sum(np.abs(gtem.rpy))<1e-5:\n",
    "            with gtimer.block(\"right box\"):\n",
    "                dist_list = np.max(centers_loc - np.divide(gtem.dims,2) - L_CELL, axis=-1)\n",
    "                cell_idx_occupy = np.where(dist_list < 1e-3)[0]\n",
    "                continue\n",
    "        with gtimer.block(\"calc_center_dist\"):\n",
    "            dist_list = np.max(centers_loc - np.divide(gtem.dims,2) - LCmax, axis=-1)\n",
    "            idx_candi = np.where(dist_list<0)[0]\n",
    "        with gtimer.block(\"calc_points\"):\n",
    "            gtem_verts = gtem.get_vertice_from(Qdict)\n",
    "        with gtimer.block(\"get_point_gjk\"):\n",
    "            gtem_verts_gjk = get_point_list(gtem_verts)\n",
    "        with gtimer.block(\"get_distance_gjk\"):\n",
    "            cell_idx_occupy = []\n",
    "            for idx in idx_candi:\n",
    "                cell_candi = cell_vertices_gjk[idx]\n",
    "                center_v_candi = center_vertices_gjk[idx]\n",
    "                if ((get_gjk_distance(cell_candi, gtem_verts_gjk) - gtem.radius < 1e-3)):\n",
    "                    cell_idx_occupy.append(idx)\n",
    "#                 if ((get_gjk_distance(gtem_verts_gjk, center_v_candi) - gtem.radius - L_CELL/2 < 1e-3) or \n",
    "#                     (get_gjk_distance(cell_candi, gtem_verts_gjk) - gtem.radius < 1e-3)):\n",
    "#                     cell_idx_occupy.append(idx)\n",
    "print(gtimer)"
   ]
  }
 ],
 "metadata": {
  "kernelspec": {
   "display_name": "Python 2",
   "language": "python",
   "name": "python2"
  },
  "language_info": {
   "codemirror_mode": {
    "name": "ipython",
    "version": 2
   },
   "file_extension": ".py",
   "mimetype": "text/x-python",
   "name": "python",
   "nbconvert_exporter": "python",
   "pygments_lexer": "ipython2",
   "version": "2.7.17"
  }
 },
 "nbformat": 4,
 "nbformat_minor": 2
}
