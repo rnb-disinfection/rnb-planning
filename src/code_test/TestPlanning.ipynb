{
 "cells": [
  {
   "cell_type": "code",
   "execution_count": 1,
   "metadata": {},
   "outputs": [],
   "source": [
    "import os\n",
    "os.chdir(os.path.join(os.environ[\"RNB_PLANNING_DIR\"], \"src\"))"
   ]
  },
  {
   "cell_type": "code",
   "execution_count": null,
   "metadata": {},
   "outputs": [],
   "source": []
  },
  {
   "cell_type": "markdown",
   "metadata": {},
   "source": [
    "## init combined robot config"
   ]
  },
  {
   "cell_type": "code",
   "execution_count": 2,
   "metadata": {},
   "outputs": [
    {
     "name": "stdout",
     "output_type": "stream",
     "text": [
      "connection_list\n",
      "[False]\n"
     ]
    }
   ],
   "source": [
    "from pkg.controller.combined_robot import *\n",
    "from pkg.project_config import *\n",
    "\n",
    "crob = CombinedRobot(robots_on_scene=[\n",
    "    RobotConfig(0, RobotType.indy7, None,\n",
    "                INDY_IP)]\n",
    "              , connection_list=[False])"
   ]
  },
  {
   "cell_type": "code",
   "execution_count": null,
   "metadata": {},
   "outputs": [],
   "source": []
  },
  {
   "cell_type": "markdown",
   "metadata": {},
   "source": [
    "## create scene builder"
   ]
  },
  {
   "cell_type": "code",
   "execution_count": 3,
   "metadata": {},
   "outputs": [],
   "source": [
    "from pkg.geometry.builder.scene_builder import SceneBuilder\n",
    "s_builder = SceneBuilder(None, base_link=\"base_link\")\n",
    "# s_builder.reset_reference_coord(ref_name=\"floor\")"
   ]
  },
  {
   "cell_type": "code",
   "execution_count": null,
   "metadata": {},
   "outputs": [],
   "source": []
  },
  {
   "cell_type": "markdown",
   "metadata": {},
   "source": [
    "## get ghnd with detected robot config"
   ]
  },
  {
   "cell_type": "code",
   "execution_count": 4,
   "metadata": {
    "scrolled": true
   },
   "outputs": [
    {
     "name": "stderr",
     "output_type": "stream",
     "text": [
      "Unknown tag \"hardwareInterface\" in /robot[@name='custom_robots']/transmission[@name='indy0_tran0']/actuator[@name='indy0_motor0']\n",
      "Unknown tag \"hardwareInterface\" in /robot[@name='custom_robots']/transmission[@name='indy0_tran1']/actuator[@name='indy0_motor1']\n",
      "Unknown tag \"hardwareInterface\" in /robot[@name='custom_robots']/transmission[@name='indy0_tran2']/actuator[@name='indy0_motor2']\n",
      "Unknown tag \"hardwareInterface\" in /robot[@name='custom_robots']/transmission[@name='indy0_tran3']/actuator[@name='indy0_motor3']\n",
      "Unknown tag \"hardwareInterface\" in /robot[@name='custom_robots']/transmission[@name='indy0_tran4']/actuator[@name='indy0_motor4']\n",
      "Unknown tag \"hardwareInterface\" in /robot[@name='custom_robots']/transmission[@name='indy0_tran5']/actuator[@name='indy0_motor5']\n"
     ]
    },
    {
     "name": "stdout",
     "output_type": "stream",
     "text": [
      "Please create a subscriber to the marker\n",
      "publication OK\n",
      "published: [0, 0, 0, 0, 0, 0]\n"
     ]
    }
   ],
   "source": [
    "# xyz_rpy_robots = s_builder.detect_items(level_mask=[DetectionLevel.ROBOT])\n",
    "xyz_rpy_robots = {\"indy0\": ((0,0,0), (0,0,-np.pi/2))}\n",
    "crob.update_robot_pos_dict(xyz_rpy_robots=xyz_rpy_robots)\n",
    "gscene = s_builder.create_gscene(crob)"
   ]
  },
  {
   "cell_type": "code",
   "execution_count": null,
   "metadata": {},
   "outputs": [],
   "source": []
  },
  {
   "cell_type": "markdown",
   "metadata": {},
   "source": [
    "## add environment"
   ]
  },
  {
   "cell_type": "code",
   "execution_count": 5,
   "metadata": {},
   "outputs": [],
   "source": [
    "from pkg.geometry.geometry import *"
   ]
  },
  {
   "cell_type": "code",
   "execution_count": 6,
   "metadata": {},
   "outputs": [
    {
     "name": "stdout",
     "output_type": "stream",
     "text": [
      "Please create a subscriber to the marker\n"
     ]
    }
   ],
   "source": [
    "floor = gscene.create_safe(GEOTYPE.BOX, \"floor\", \"base_link\", (3,3,0.01), (0,0,0), \n",
    "                           rpy=(0,0,0), color=(0.8,0.8,0.8,0.5), display=True, fixed=True, collision=True)\n",
    "wall = gscene.create_safe(GEOTYPE.BOX, \"wall\", \"base_link\", (3,3,0.01), (0,0.2,0), \n",
    "                           rpy=(np.pi/2,0,0), color=(0.8,0.8,0.8,0.5), display=True, fixed=True, collision=True)\n",
    "wp1 = gscene.create_safe(GEOTYPE.BOX, \"wp1\", \"base_link\", (0.1,0.1,0.01), (0.2,-0.5,0.),rpy=(0,0,np.pi/2), \n",
    "                         color=(0.8,0.2,0.2,1), display=True, fixed=True, collision=False)\n",
    "wp2 = gscene.create_safe(GEOTYPE.BOX, \"wp2\", \"base_link\", (0.1,0.1,0.01), (-0.2,-0.5,0), rpy=(0,0,np.pi/2), \n",
    "                         color=(0.8,0.2,0.2,1), display=True, fixed=True, collision=False)\n",
    "track = gscene.create_safe(GEOTYPE.BOX, \"track\", \"base_link\", (0.1,0.5,0.01), (0,-0.5,0), rpy=(0,0,np.pi/2), \n",
    "                           color=(1,0.7,0.7,0.5), display=True, fixed=True, collision=False)\n",
    "goal = gscene.create_safe(GEOTYPE.BOX, \"goal\", \"base_link\", (0.1,0.1,0.01), (-0.4,-0.3,0), \n",
    "                          rpy=(0,0,0), color=(0.8,0.8,0.2,1), display=True, fixed=True, collision=False)"
   ]
  },
  {
   "cell_type": "code",
   "execution_count": 7,
   "metadata": {},
   "outputs": [],
   "source": [
    "gtems = s_builder.add_robot_geometries(color=(0,1,0,0.5), display=True, collision=True, exclude_link=[\"panda1_link7\"])"
   ]
  },
  {
   "cell_type": "code",
   "execution_count": null,
   "metadata": {},
   "outputs": [],
   "source": []
  },
  {
   "cell_type": "markdown",
   "metadata": {},
   "source": [
    "## add brush"
   ]
  },
  {
   "cell_type": "code",
   "execution_count": 8,
   "metadata": {},
   "outputs": [],
   "source": [
    "brush_body = gscene.create_safe(gtype=GEOTYPE.BOX, name=\"brush_body\", link_name=\"base_link\", \n",
    "                                dims=(0.2,0.07,0.02), center=(0.0,-0.5,0.045), rpy=(0,0,np.pi/2), \n",
    "                                color=(0.7,0.7,0.3,1), display=True, collision=True, fixed=False)\n",
    "brush_handle = gscene.create_safe(gtype=GEOTYPE.BOX, name=\"brush_handle\", link_name=\"base_link\", \n",
    "                                  dims=(0.2,0.03,0.05), center=(0,0,0.035), rpy=(0,0,0), \n",
    "                                  color=(0.7,0.7,0.3,1), display=True, collision=True, fixed=False, parent=\"brush_body\")\n",
    "brush_face = gscene.create_safe(gtype=GEOTYPE.BOX, name=\"brush_face\", link_name=\"base_link\", \n",
    "                                dims=(0.19,0.06,0.03), center=(0,0,-0.025), rpy=(0,0,0), \n",
    "                                color=(0.8,0.8,0.8,1), display=True, collision=False, fixed=False, parent=\"brush_body\")"
   ]
  },
  {
   "cell_type": "code",
   "execution_count": null,
   "metadata": {},
   "outputs": [],
   "source": []
  },
  {
   "cell_type": "markdown",
   "metadata": {},
   "source": [
    "## init planning scene"
   ]
  },
  {
   "cell_type": "code",
   "execution_count": 9,
   "metadata": {},
   "outputs": [],
   "source": [
    "from pkg.planning.scene import PlanningScene\n",
    "pscene = PlanningScene(gscene, combined_robot=crob)"
   ]
  },
  {
   "cell_type": "code",
   "execution_count": null,
   "metadata": {},
   "outputs": [],
   "source": []
  },
  {
   "cell_type": "markdown",
   "metadata": {},
   "source": [
    "## Register binders"
   ]
  },
  {
   "cell_type": "code",
   "execution_count": 10,
   "metadata": {},
   "outputs": [],
   "source": [
    "from pkg.planning.constraint.constraint_actor import Gripper2Tool, PlacePlane, SweepTool"
   ]
  },
  {
   "cell_type": "code",
   "execution_count": 11,
   "metadata": {},
   "outputs": [
    {
     "data": {
      "text/plain": [
       "<pkg.geometry.geometry.GeometryItem at 0x7f972a97d990>"
      ]
     },
     "execution_count": 11,
     "metadata": {},
     "output_type": "execute_result"
    }
   ],
   "source": [
    "gscene.create_safe(gtype=GEOTYPE.SPHERE, name=\"grip0\", link_name=\"indy0_tcp\", \n",
    "                 dims=(0.01,)*3, center=(0,0,0.14), rpy=(-np.pi/2,0,0), color=(1,0,0,1), display=True, collision=False, fixed=True)"
   ]
  },
  {
   "cell_type": "code",
   "execution_count": 12,
   "metadata": {},
   "outputs": [
    {
     "data": {
      "text/plain": [
       "<pkg.planning.constraint.constraint_actor.SweepTool at 0x7f972d1463d0>"
      ]
     },
     "execution_count": 12,
     "metadata": {},
     "output_type": "execute_result"
    }
   ],
   "source": [
    "pscene.create_binder(bname=\"grip0\", gname=\"grip0\", rname=\"indy0\", _type=Gripper2Tool, point=(0,0,0), rpy=(0,0,0))\n",
    "pscene.create_binder(bname=\"floor\", gname=\"floor\", _type=PlacePlane)\n",
    "pscene.create_binder(bname=\"goal_bd\", gname=\"goal\", _type=PlacePlane, point=(0,0,0.005), rpy=(0,0,0))\n",
    "pscene.create_binder(bname=\"brush_face\", gname=\"brush_face\", _type=SweepTool, point=(0,0,-0.015), rpy=(0,0,0))"
   ]
  },
  {
   "cell_type": "code",
   "execution_count": null,
   "metadata": {},
   "outputs": [],
   "source": []
  },
  {
   "cell_type": "markdown",
   "metadata": {},
   "source": [
    "## add objects"
   ]
  },
  {
   "cell_type": "code",
   "execution_count": 13,
   "metadata": {},
   "outputs": [],
   "source": [
    "from pkg.planning.constraint.constraint_subject import CustomObject, Grasp2Point, PlacePoint, SweepPoint, SweepTask"
   ]
  },
  {
   "cell_type": "code",
   "execution_count": 14,
   "metadata": {},
   "outputs": [],
   "source": [
    "brush_handle = gscene.NAME_DICT[\"brush_handle\"]\n",
    "brush_face = gscene.NAME_DICT[\"brush_face\"]\n",
    "brush = pscene.create_object(oname=\"brush\", gname=\"brush_body\", _type=CustomObject, \n",
    "                             action_points_dict = {\"handle\": Grasp2Point(\"handle\", brush_handle, [0,0,0], [np.pi/2,0,0]),\n",
    "                                                   \"face\": PlacePoint(\"face\", brush_face, [0,0,-0.015], [0,0,0])})"
   ]
  },
  {
   "cell_type": "code",
   "execution_count": 15,
   "metadata": {},
   "outputs": [],
   "source": [
    "sweep = pscene.create_object(oname=\"sweep\", gname=\"floor\", _type=SweepTask, \n",
    "                             action_points_dict = {\"wp1\": SweepPoint(\"wp1\", wp1, [0,0,0.005], [0,0,0]),\n",
    "                                                   \"wp2\": SweepPoint(\"wp2\", wp2, [0,0,0.005], [0,0,0])})"
   ]
  },
  {
   "cell_type": "code",
   "execution_count": null,
   "metadata": {},
   "outputs": [],
   "source": []
  },
  {
   "cell_type": "markdown",
   "metadata": {},
   "source": [
    "## Grasp checker"
   ]
  },
  {
   "cell_type": "code",
   "execution_count": 16,
   "metadata": {},
   "outputs": [],
   "source": [
    "from pkg.planning.filtering.grasp_filter import GraspChecker\n",
    "gcheck = GraspChecker(pscene, end_link_couple_dict= {\"indy0_tcp\": [\"indy0_tcp\", \"indy0_link6\"], \"base_link\":[\"base_link\"]})"
   ]
  },
  {
   "cell_type": "code",
   "execution_count": null,
   "metadata": {},
   "outputs": [],
   "source": []
  },
  {
   "cell_type": "markdown",
   "metadata": {},
   "source": [
    "## Reach SVM"
   ]
  },
  {
   "cell_type": "code",
   "execution_count": 17,
   "metadata": {},
   "outputs": [],
   "source": [
    "from pkg.planning.filtering.reach_filter import ReachChecker\n",
    "rcheck = ReachChecker(pscene)"
   ]
  },
  {
   "cell_type": "code",
   "execution_count": null,
   "metadata": {},
   "outputs": [],
   "source": []
  },
  {
   "cell_type": "markdown",
   "metadata": {},
   "source": [
    "### planning pipeline"
   ]
  },
  {
   "cell_type": "code",
   "execution_count": 18,
   "metadata": {
    "scrolled": false
   },
   "outputs": [],
   "source": [
    "\n",
    "from pkg.planning.pipeline import PlanningPipeline\n",
    "ppline = PlanningPipeline(pscene)\n",
    "\n",
    "from pkg.planning.motion.moveit.moveit_planner import MoveitPlanner\n",
    "mplan = MoveitPlanner(pscene, [gcheck, rcheck])\n",
    "mplan.update_gscene()\n",
    "ppline.set_motion(mplan)\n",
    "\n",
    "# from pkg.planning.task.a_star import TaskAstar\n",
    "# tplan = TaskAstar(pscene)\n",
    "# tplan.prepare()\n",
    "# ppline.set_sampler(tplan)\n",
    "from pkg.planning.task.rrt import TaskRRT\n",
    "tplan = TaskRRT(pscene)\n",
    "tplan.prepare()\n",
    "ppline.set_sampler(tplan)"
   ]
  },
  {
   "cell_type": "code",
   "execution_count": null,
   "metadata": {},
   "outputs": [],
   "source": []
  },
  {
   "cell_type": "markdown",
   "metadata": {},
   "source": [
    "## ui"
   ]
  },
  {
   "cell_type": "code",
   "execution_count": 19,
   "metadata": {},
   "outputs": [
    {
     "name": "stdout",
     "output_type": "stream",
     "text": [
      "Dash is running on http://0.0.0.0:8050/\n",
      "\n",
      " * Serving Flask app \"pkg.ui.dash_launcher\" (lazy loading)\n",
      " * Environment: production\n",
      "   WARNING: This is a development server. Do not use it in a production deployment.\n",
      "   Use a production WSGI server instead.\n",
      " * Debug mode: off\n"
     ]
    }
   ],
   "source": [
    "from pkg.ui.ui_broker import *\n",
    "\n",
    "# start UI\n",
    "ui_broker = UIBroker.instance()\n",
    "ui_broker.initialize(ppline, s_builder)\n",
    "ui_broker.start_server()\n",
    "\n",
    "ui_broker.set_tables()"
   ]
  },
  {
   "cell_type": "code",
   "execution_count": null,
   "metadata": {},
   "outputs": [],
   "source": []
  },
  {
   "cell_type": "markdown",
   "metadata": {},
   "source": [
    "## Test plan"
   ]
  },
  {
   "cell_type": "code",
   "execution_count": 20,
   "metadata": {},
   "outputs": [],
   "source": [
    "from pkg.planning.constraint.constraint_common \\\n",
    "            import sample_redundancy, combine_redundancy\n",
    "\n",
    "initial_state = pscene.update_state(crob.home_pose)"
   ]
  },
  {
   "cell_type": "code",
   "execution_count": 21,
   "metadata": {
    "scrolled": true
   },
   "outputs": [
    {
     "name": "stdout",
     "output_type": "stream",
     "text": [
      "node: ('floor', 0)->('floor', 1) = fail\n",
      "node: ('floor', 0)->('floor', 1) = fail\n",
      "node: ('floor', 0)->('grip0', 0) = fail\n",
      "node: ('floor', 0)->('grip0', 0) = success\n",
      "branching: 0->1 (0.04/300.0 s, steps/err: 45(41.2650108337 ms)/0.00135446774831)\n",
      "======================================================================================================================================================\n",
      "node: ('grip0', 0)->('floor', 0) = fail\n",
      "node: ('floor', 0)->('floor', 1) = fail\n",
      "node: ('grip0', 0)->('grip0', 1) = success\n",
      "branching: 1->2 (0.08/300.0 s, steps/err: 53(37.1789932251 ms)/0.00174260903279)\n",
      "======================================================================================================================================================\n",
      "node: ('grip0', 0)->('grip0', 1) = success\n",
      "branching: 1->3 (0.12/300.0 s, steps/err: 52(39.6280288696 ms)/0.00171866767324)\n",
      "======================================================================================================================================================\n",
      "node: ('grip0', 0)->('floor', 0) = fail\n",
      "node: ('grip0', 0)->('floor', 0) = fail\n",
      "node: ('grip0', 0)->('floor', 0) = fail\n",
      "node: ('grip0', 0)->('goal', 0) = success\n",
      "branching: 1->4 (0.17/300.0 s, steps/err: 49(45.8869934082 ms)/0.00112653168777)\n",
      "======================================================================================================================================================\n",
      "node: ('floor', 0)->('floor', 1) = fail\n",
      "node: ('grip0', 0)->('grip0', 1) = success\n",
      "branching: 1->5 (0.22/300.0 s, steps/err: 51(42.5381660461 ms)/0.0011301478594)\n",
      "======================================================================================================================================================\n",
      "node: ('grip0', 0)->('goal', 0) = success\n",
      "branching: 1->6 (0.25/300.0 s, steps/err: 42(33.7080955505 ms)/0.00176248984191)\n",
      "======================================================================================================================================================\n",
      "node: ('grip0', 0)->('grip0', 1) = fail\n",
      "node: ('grip0', 0)->('floor', 0) = fail\n",
      "node: ('floor', 0)->('floor', 1) = fail\n",
      "node: ('grip0', 0)->('grip0', 1) = success\n",
      "branching: 1->7 (1.3/300.0 s, steps/err: 45(41.7869091034 ms)/0.00164843072892)\n",
      "======================================================================================================================================================\n",
      "node: ('grip0', 0)->('grip0', 1) = fail\n",
      "node: ('grip0', 0)->('goal', 0) = success\n",
      "branching: 1->8 (2.33/300.0 s, steps/err: 46(27.7059078217 ms)/0.00154076826402)\n",
      "======================================================================================================================================================\n",
      "node: ('grip0', 0)->('grip0', 1) = success\n",
      "branching: 1->9 (2.36/300.0 s, steps/err: 36(32.9220294952 ms)/0.00177741503449)\n",
      "======================================================================================================================================================\n",
      "node: ('goal', 0)->('goal', 1) = fail\n",
      "node: ('goal', 0)->('grip0', 0) = fail\n",
      "node: ('grip0', 0)->('goal', 0) = success\n",
      "branching: 1->10 (2.41/300.0 s, steps/err: 33(46.8871593475 ms)/0.00130858149183)\n",
      "======================================================================================================================================================\n",
      "node: ('grip0', 0)->('goal', 0) = success\n",
      "branching: 1->11 (2.46/300.0 s, steps/err: 57(44.0008640289 ms)/0.00197083342843)\n",
      "======================================================================================================================================================\n",
      "node: ('grip0', 1)->('grip0', 2) = success\n",
      "branching: 5->12 (2.98/300.0 s, steps/err: 26(522.443056107 ms)/0.00144197829678)\n",
      "======================================================================================================================================================\n",
      "node: ('floor', 0)->('floor', 1) = fail\n",
      "node: ('floor', 0)->('floor', 1) = fail\n",
      "node: ('grip0', 0)->('floor', 0) = fail\n",
      "node: ('grip0', 1)->('goal', 1) = success\n",
      "branching: 3->13 (3.0/300.0 s, steps/err: 7(18.9881324768 ms)/0.00160797741729)\n",
      "======================================================================================================================================================\n",
      "node: ('floor', 0)->('floor', 1) = fail\n",
      "node: ('grip0', 1)->('grip0', 2) = success\n",
      "branching: 9->14 (3.11/300.0 s, steps/err: 102(110.534191132 ms)/0.000960382891125)\n",
      "======================================================================================================================================================\n",
      "node: ('goal', 0)->('grip0', 0) = fail\n",
      "node: ('grip0', 1)->('goal', 1) = success\n",
      "branching: 9->15 (3.13/300.0 s, steps/err: 6(18.1488990784 ms)/0.00157503667745)\n",
      "======================================================================================================================================================\n",
      "node: ('grip0', 1)->('goal', 1) = success\n",
      "branching: 3->16 (3.17/300.0 s, steps/err: 38(34.4610214233 ms)/0.000989511727922)\n",
      "======================================================================================================================================================\n",
      "node: ('goal', 1)->('goal', 2) = fail\n",
      "node: ('grip0', 1)->('grip0', 2) = success\n",
      "branching: 7->17 (3.24/300.0 s, steps/err: 110(70.004940033 ms)/0.00158007502878)\n",
      "======================================================================================================================================================\n",
      "node: ('grip0', 2)->('floor', 2) = fail\n",
      "node: ('grip0', 2)->('floor', 2) = success\n",
      "branching: 17->18 (3.26/300.0 s, steps/err: 6(20.213842392 ms)/0.00167223947558)\n",
      "======================================================================================================================================================\n",
      "node: ('floor', 2)->('grip0', 2) = success\n",
      "branching: 18->19 (3.28/300.0 s, steps/err: 2(15.6230926514 ms)/0.00135333167822)\n",
      "======================================================================================================================================================\n",
      "node: ('grip0', 0)->('floor', 0) = fail\n",
      "node: ('grip0', 2)->('floor', 2) = fail\n",
      "node: ('floor', 0)->('grip0', 0) = success\n",
      "branching: 0->20 (3.3/300.0 s, steps/err: 8(19.593000412 ms)/0.00200248935731)\n",
      "======================================================================================================================================================\n",
      "node: ('goal', 0)->('grip0', 0) = fail\n",
      "node: ('grip0', 1)->('grip0', 2) = success\n",
      "branching: 5->21 (3.46/300.0 s, steps/err: 102(155.393838882 ms)/0.000812185717235)\n",
      "======================================================================================================================================================\n",
      "node: ('grip0', 0)->('goal', 0) = success\n",
      "branching: 20->22 (3.49/300.0 s, steps/err: 26(33.488035202 ms)/0.00161885555128)\n",
      "======================================================================================================================================================\n",
      "node: ('goal', 1)->('grip0', 1) = fail\n",
      "node: ('grip0', 2)->('goal', 2) = success\n",
      "branching: 19->23 (3.53/300.0 s, steps/err: 38(36.0999107361 ms)/0.00182313343549)\n",
      "======================================================================================================================================================\n",
      "=========================================================================================================\n",
      "======================= terminated 0: first answer acquired ===============================\n",
      "=========================================================================================================\n"
     ]
    }
   ],
   "source": [
    "mplan.reset_log(True)\n",
    "with GlobalTimer.instance().block(\"full\"):\n",
    "    # goal_nodes = [(\"goal\",)]\n",
    "    goal_nodes = [(\"goal\", 2)]\n",
    "    ppline.search(initial_state, goal_nodes, verbose=True, display=False, dt_vis=0.01, timeout_loop=300, multiprocess=False, timeout=1)\n",
    "    schedules = ppline.find_schedules()\n",
    "    schedules_sorted = ppline.sort_schedule(schedules)\n",
    "    snode_schedule = ppline.idxSchedule2SnodeScedule(schedules_sorted[0])"
   ]
  },
  {
   "cell_type": "code",
   "execution_count": 22,
   "metadata": {},
   "outputs": [
    {
     "name": "stdout",
     "output_type": "stream",
     "text": [
      "GraspChecker: 87.1794871795% (39)\n",
      "planning: 92.0% (25)\n",
      "ReachChecker: 73.5294117647% (34)\n"
     ]
    }
   ],
   "source": [
    "for k,v in mplan.result_log.items():\n",
    "    print(\"{}: {}% ({})\".format(k, np.mean(v)*100, len(v)))"
   ]
  },
  {
   "cell_type": "code",
   "execution_count": 23,
   "metadata": {
    "scrolled": false
   },
   "outputs": [
    {
     "name": "stdout",
     "output_type": "stream",
     "text": [
      "full: \t3528.0 ms/1 = 3527.646 ms (3527.646/3527.646)\n",
      "test_connection: \t3505.0 ms/49 = 71.53 ms (0.117/1002.314)\n",
      "GraspChecker: \t16.0 ms/39 = 0.413 ms (0.365/0.568)\n",
      "ReachChecker: \t9.0 ms/34 = 0.251 ms (0.207/0.379)\n",
      "planning: \t3465.0 ms/25 = 138.606 ms (14.407/1001.448)\n",
      "\n"
     ]
    }
   ],
   "source": [
    "print(GlobalTimer.instance())"
   ]
  },
  {
   "cell_type": "code",
   "execution_count": null,
   "metadata": {},
   "outputs": [],
   "source": []
  },
  {
   "cell_type": "code",
   "execution_count": null,
   "metadata": {},
   "outputs": [],
   "source": []
  },
  {
   "cell_type": "code",
   "execution_count": 37,
   "metadata": {
    "scrolled": false
   },
   "outputs": [],
   "source": [
    "ppline.play_schedule(snode_schedule, period=0.01)"
   ]
  },
  {
   "cell_type": "code",
   "execution_count": null,
   "metadata": {},
   "outputs": [],
   "source": []
  },
  {
   "cell_type": "markdown",
   "metadata": {},
   "source": [
    "## Text execution"
   ]
  },
  {
   "cell_type": "code",
   "execution_count": 21,
   "metadata": {
    "scrolled": true
   },
   "outputs": [
    {
     "name": "stdout",
     "output_type": "stream",
     "text": [
      "connection_list\n",
      "[True]\n",
      "Connect: Server IP (192.168.0.63)\n"
     ]
    }
   ],
   "source": [
    "# crob.reset_connection([True])"
   ]
  },
  {
   "cell_type": "markdown",
   "metadata": {},
   "source": [
    "## unsynced execution"
   ]
  },
  {
   "cell_type": "code",
   "execution_count": 23,
   "metadata": {
    "scrolled": true
   },
   "outputs": [
    {
     "name": "stdout",
     "output_type": "stream",
     "text": [
      "binder: floor\n",
      "rname: None\n",
      "binder: None\n",
      "grasp_dict\n",
      "{'indy0': False}\n",
      "grasp_seq\n",
      "[('indy0', False)]\n",
      "Connect: Server IP (192.168.0.63)\n",
      "binder: floor\n",
      "rname: None\n",
      "binder: None\n",
      "grasp_dict\n",
      "{'indy0': False}\n",
      "grasp_seq\n",
      "[('indy0', False)]\n",
      "Connect: Server IP (192.168.0.63)\n",
      "go\n",
      "Connect: Server IP (192.168.0.63)\n",
      "binder: grip0\n",
      "rname: indy0\n",
      "binder: None\n",
      "grasp_dict\n",
      "{'indy0': True}\n",
      "grasp_seq\n",
      "[('indy0', True)]\n",
      "Connect: Server IP (192.168.0.63)\n",
      "go\n",
      "Connect: Server IP (192.168.0.63)\n",
      "binder: grip0\n",
      "rname: indy0\n",
      "binder: brush_face\n",
      "rname: None\n",
      "grasp_dict\n",
      "{'indy0': True}\n",
      "grasp_seq\n",
      "[('indy0', True)]\n",
      "Connect: Server IP (192.168.0.63)\n",
      "go\n",
      "Connect: Server IP (192.168.0.63)\n",
      "binder: grip0\n",
      "rname: indy0\n",
      "binder: brush_face\n",
      "rname: None\n",
      "grasp_dict\n",
      "{'indy0': True}\n",
      "grasp_seq\n",
      "[('indy0', True)]\n",
      "Connect: Server IP (192.168.0.63)\n",
      "go\n",
      "Connect: Server IP (192.168.0.63)\n",
      "binder: goal_bd\n",
      "rname: None\n",
      "binder: brush_face\n",
      "rname: None\n",
      "grasp_dict\n",
      "{'indy0': False}\n",
      "grasp_seq\n",
      "[('indy0', False)]\n",
      "Connect: Server IP (192.168.0.63)\n",
      "go\n",
      "Connect: Server IP (192.168.0.63)\n",
      "binder: goal_bd\n",
      "rname: None\n",
      "binder: brush_face\n",
      "rname: None\n",
      "grasp_dict\n",
      "{'indy0': False}\n",
      "grasp_seq\n",
      "[('indy0', False)]\n",
      "Connect: Server IP (192.168.0.63)\n"
     ]
    }
   ],
   "source": [
    "ppline.execute_schedule(snode_schedule, vel_scale=0.5)"
   ]
  },
  {
   "cell_type": "code",
   "execution_count": null,
   "metadata": {},
   "outputs": [],
   "source": []
  },
  {
   "cell_type": "markdown",
   "metadata": {},
   "source": [
    "## synced execution"
   ]
  },
  {
   "cell_type": "code",
   "execution_count": null,
   "metadata": {},
   "outputs": [],
   "source": [
    "## \n",
    "# with RvizPublisher(gscene, []) as rpub:\n",
    "#     ppline.execute_schedule(snode_schedule, rviz_pub=rpub)"
   ]
  },
  {
   "cell_type": "code",
   "execution_count": null,
   "metadata": {},
   "outputs": [],
   "source": []
  },
  {
   "cell_type": "markdown",
   "metadata": {},
   "source": [
    "## Disconnect stereo"
   ]
  },
  {
   "cell_type": "code",
   "execution_count": null,
   "metadata": {},
   "outputs": [],
   "source": [
    "stereo.disconnnect()"
   ]
  },
  {
   "cell_type": "code",
   "execution_count": null,
   "metadata": {},
   "outputs": [],
   "source": []
  },
  {
   "cell_type": "code",
   "execution_count": null,
   "metadata": {},
   "outputs": [],
   "source": []
  },
  {
   "cell_type": "code",
   "execution_count": null,
   "metadata": {},
   "outputs": [],
   "source": []
  },
  {
   "cell_type": "code",
   "execution_count": null,
   "metadata": {},
   "outputs": [],
   "source": []
  }
 ],
 "metadata": {
  "kernelspec": {
   "display_name": "Python 2",
   "language": "python",
   "name": "python2"
  },
  "language_info": {
   "codemirror_mode": {
    "name": "ipython",
    "version": 2
   },
   "file_extension": ".py",
   "mimetype": "text/x-python",
   "name": "python",
   "nbconvert_exporter": "python",
   "pygments_lexer": "ipython2",
   "version": "2.7.17"
  }
 },
 "nbformat": 4,
 "nbformat_minor": 2
}
