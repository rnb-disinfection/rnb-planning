{
 "cells": [
  {
   "cell_type": "markdown",
   "metadata": {},
   "source": [
    "# Prepare robots first  \n",
    "* run panda repeater on controller pc  \n",
    "\n",
    "```\n",
    "ssh panda@192.168.0.172\n",
    "roslaunch panda_ros_repeater joint_velocity_repeater.launch robot_ip:=192.168.0.13 load_gripper:=false\n",
    "\n",
    "```\n",
    "\n",
    "* Keep indy connected to conty to bypass conty-connection delay bug"
   ]
  },
  {
   "cell_type": "markdown",
   "metadata": {},
   "source": [
    "# initialize notebook"
   ]
  },
  {
   "cell_type": "code",
   "execution_count": 1,
   "metadata": {
    "pycharm": {
     "name": "#%%\n"
    },
    "scrolled": true
   },
   "outputs": [
    {
     "data": {
      "text/html": [
       "<style>.container { width:90% !important; } </style>"
      ],
      "text/plain": [
       "<IPython.core.display.HTML object>"
      ]
     },
     "metadata": {},
     "output_type": "display_data"
    }
   ],
   "source": [
    "from __future__ import print_function\n",
    "from IPython.core.display import display, HTML\n",
    "display(HTML(\"<style>.container { width:90% !important; } </style>\"))\n",
    "import matplotlib.pyplot as plt"
   ]
  },
  {
   "cell_type": "code",
   "execution_count": null,
   "metadata": {},
   "outputs": [],
   "source": []
  },
  {
   "cell_type": "markdown",
   "metadata": {},
   "source": [
    "# Initialize constants"
   ]
  },
  {
   "cell_type": "code",
   "execution_count": 2,
   "metadata": {
    "scrolled": false
   },
   "outputs": [],
   "source": [
    "from pkg.marker_config import *\n",
    "from pkg.tmp_framework import *\n",
    "from pkg.constraint.constraint_action import *\n",
    "from pkg.constraint.constraint_object import *\n",
    "from pkg.constants import *\n",
    "from pkg.utils.plot_utils import *\n",
    "from pkg.utils.utils import *\n",
    "from pkg.environment_builder import *\n",
    "from pkg.ui.ui_broker import *\n",
    "from pkg.controller.combined_robot import *\n",
    "\n",
    "gtimer = GlobalTimer.instance()\n",
    "gtimer.reset()"
   ]
  },
  {
   "cell_type": "code",
   "execution_count": null,
   "metadata": {},
   "outputs": [],
   "source": []
  },
  {
   "cell_type": "code",
   "execution_count": 3,
   "metadata": {
    "scrolled": true
   },
   "outputs": [
    {
     "name": "stdout",
     "output_type": "stream",
     "text": [
      "connection_list\n",
      "(False, False)\n"
     ]
    }
   ],
   "source": [
    "crob = CombinedRobot(connection_list=(False, False))\n",
    "USE_CAM = True"
   ]
  },
  {
   "cell_type": "code",
   "execution_count": null,
   "metadata": {},
   "outputs": [],
   "source": []
  },
  {
   "cell_type": "markdown",
   "metadata": {},
   "source": [
    "# initialize graph & ui"
   ]
  },
  {
   "cell_type": "code",
   "execution_count": 4,
   "metadata": {
    "scrolled": true
   },
   "outputs": [
    {
     "name": "stdout",
     "output_type": "stream",
     "text": [
      "Start streaming\n",
      "Device configuration: \n",
      "\tcolor_format: 3 \n",
      "\t(0:JPG, 1:NV12, 2:YUY2, 3:BGRA32)\n",
      "\n",
      "\tcolor_resolution: 5 \n",
      "\t(0:OFF, 1:720p, 2:1080p, 3:1440p, 4:1536p, 5:2160p, 6:3072p)\n",
      "\n",
      "\tdepth_mode: 3 \n",
      "\t(0:OFF, 1:NFOV_2X2BINNED, 2:NFOV_UNBINNED,3:WFOV_2X2BINNED, 4:WFOV_UNBINNED, 5:Passive IR)\n",
      "\n",
      "\tcamera_fps: 2 \n",
      "\t(0:5 FPS, 1:15 FPS, 2:30 FPS)\n",
      "\n",
      "\tsynchronized_images_only: False \n",
      "\t(True of False). Drop images if the color and depth are not synchronized\n",
      "\n",
      "\tdepth_delay_off_color_usec: 0 ms. \n",
      "\tDelay between the color image and the depth image\n",
      "\n",
      "\twired_sync_mode: 0\n",
      "\t(0:Standalone mode, 1:Master mode, 2:Subordinate mode)\n",
      "\n",
      "\tsubordinate_delay_off_master_usec: 0 ms.\n",
      "\tThe external synchronization timing.\n",
      "\n",
      "\tdisable_streaming_indicator: False \n",
      "\t(True or False). Streaming indicator automatically turns on when the color or depth camera's are in use.\n",
      "\n",
      "\n",
      "Unable to register with master node [http://localhost:11311]: master may not be running yet. Will keep trying.\n"
     ]
    },
    {
     "name": "stderr",
     "output_type": "stream",
     "text": [
      "Unknown tag \"hardwareInterface\" in /robot[@name='custom_robots']/transmission[@name='indy0_tran0']/actuator[@name='indy0_motor0']\n",
      "Unknown tag \"hardwareInterface\" in /robot[@name='custom_robots']/transmission[@name='indy0_tran1']/actuator[@name='indy0_motor1']\n",
      "Unknown tag \"hardwareInterface\" in /robot[@name='custom_robots']/transmission[@name='indy0_tran2']/actuator[@name='indy0_motor2']\n",
      "Unknown tag \"hardwareInterface\" in /robot[@name='custom_robots']/transmission[@name='indy0_tran3']/actuator[@name='indy0_motor3']\n",
      "Unknown tag \"hardwareInterface\" in /robot[@name='custom_robots']/transmission[@name='indy0_tran4']/actuator[@name='indy0_motor4']\n",
      "Unknown tag \"hardwareInterface\" in /robot[@name='custom_robots']/transmission[@name='indy0_tran5']/actuator[@name='indy0_motor5']\n"
     ]
    },
    {
     "name": "stdout",
     "output_type": "stream",
     "text": [
      "Please create a subscriber to the marker\n",
      "publication OK\n",
      "published: [0, 0, 0, 0, 0, 0, 0, 0, 0, 0, 0, 0, 0]\n",
      "Please create a subscriber to the marker\n",
      "Dash is running on http://127.0.0.1:8050/\n",
      "\n",
      " * Serving Flask app \"pkg.ui.dash_launcher\" (lazy loading)\n",
      " * Environment: production\n",
      "   WARNING: This is a development server. Do not use it in a production deployment.\n",
      "   Use a production WSGI server instead.\n",
      " * Debug mode: off\n"
     ]
    }
   ],
   "source": [
    "if \"cam\" not in locals():\n",
    "    cam = StereoCamera.instance() if USE_CAM else None\n",
    "\n",
    "# set urdf\n",
    "xcustom, JOINT_NAMES, LINK_NAMES, urdf_content = reset_ghnd(crob.robots_on_scene, XYZ_RPY_ROBOTS_DEFAULT, crob.custom_limits, start_rviz=True)\n",
    "ghnd = GeometryHandle(urdf_content)\n",
    "\n",
    "\n",
    "graph = TMPFramework(ghnd=ghnd, urdf_path=URDF_PATH, joint_names=JOINT_NAMES, link_names=LINK_NAMES, \n",
    "                        urdf_content=urdf_content, combined_robot=crob)\n",
    "graph.set_camera(cam)\n",
    "graph.set_cam_robot_collision(_add_cam_poles=False, color=(1,1,1,0))\n",
    "graph.set_rviz()\n",
    "\n",
    "# start UI\n",
    "ui_broker = UIBroker.instance()\n",
    "ui_broker.initialize(graph)\n",
    "ui_broker.start_server()\n",
    "\n",
    "# set rviz\n",
    "graph.set_rviz(crob.home_pose)\n",
    "ui_broker.set_tables()"
   ]
  },
  {
   "cell_type": "code",
   "execution_count": null,
   "metadata": {},
   "outputs": [],
   "source": []
  },
  {
   "cell_type": "markdown",
   "metadata": {},
   "source": [
    "# Calibrate camera"
   ]
  },
  {
   "cell_type": "code",
   "execution_count": 5,
   "metadata": {},
   "outputs": [],
   "source": [
    "if USE_CAM:\n",
    "    cam.calibrate(ghnd)\n",
    "    graph.set_cam_robot_collision()\n",
    "    graph.set_rviz()"
   ]
  },
  {
   "cell_type": "code",
   "execution_count": null,
   "metadata": {},
   "outputs": [],
   "source": []
  },
  {
   "cell_type": "markdown",
   "metadata": {},
   "source": [
    "# Update Robots"
   ]
  },
  {
   "cell_type": "code",
   "execution_count": 6,
   "metadata": {},
   "outputs": [
    {
     "name": "stderr",
     "output_type": "stream",
     "text": [
      "Unknown tag \"hardwareInterface\" in /robot[@name='custom_robots']/transmission[@name='indy0_tran0']/actuator[@name='indy0_motor0']\n",
      "Unknown tag \"hardwareInterface\" in /robot[@name='custom_robots']/transmission[@name='indy0_tran1']/actuator[@name='indy0_motor1']\n",
      "Unknown tag \"hardwareInterface\" in /robot[@name='custom_robots']/transmission[@name='indy0_tran2']/actuator[@name='indy0_motor2']\n",
      "Unknown tag \"hardwareInterface\" in /robot[@name='custom_robots']/transmission[@name='indy0_tran3']/actuator[@name='indy0_motor3']\n",
      "Unknown tag \"hardwareInterface\" in /robot[@name='custom_robots']/transmission[@name='indy0_tran4']/actuator[@name='indy0_motor4']\n",
      "Unknown tag \"hardwareInterface\" in /robot[@name='custom_robots']/transmission[@name='indy0_tran5']/actuator[@name='indy0_motor5']\n"
     ]
    },
    {
     "name": "stdout",
     "output_type": "stream",
     "text": [
      "Please create a subscriber to the marker\n"
     ]
    }
   ],
   "source": [
    "if USE_CAM:\n",
    "    # btn: detect robots\n",
    "    crob.detect_robots(cam)\n",
    "\n",
    "    # btn: apply\n",
    "    xcustom, JOINT_NAMES, LINK_NAMES, urdf_content = reset_ghnd(crob.robots_on_scene, crob.xyz_rpy_robots, crob.custom_limits, start_rviz=True)\n",
    "    ghnd = GeometryHandle(urdf_content)\n",
    "\n",
    "\n",
    "    graph.clear_markers()\n",
    "    graph.clear_highlight()\n",
    "    graph.ghnd.clear()\n",
    "    timer.sleep(1)\n",
    "    graph.__init__(ghnd=ghnd, urdf_path=URDF_PATH, joint_names=JOINT_NAMES, link_names=LINK_NAMES, \n",
    "                       urdf_content=urdf_content, combined_robot=crob)\n",
    "    add_geometry_items(graph.urdf_content, ghnd, color=(0, 1, 0, 0.3), display=True, collision=True,\n",
    "                       exclude_link=[\"panda1_link7\"])\n",
    "    graph.set_cam_robot_collision()\n",
    "    graph.set_rviz()"
   ]
  },
  {
   "cell_type": "markdown",
   "metadata": {},
   "source": [
    "## add sponge"
   ]
  },
  {
   "cell_type": "code",
   "execution_count": 7,
   "metadata": {},
   "outputs": [],
   "source": [
    "sponge = ghnd.create_safe(name=\"sponge\", gtype=GEOTYPE.BOX, link_name=\"indy0_tcp\",\n",
    "                          dims=(0.07, 0.07, 0.07), center=(0, 0, 0.14), rpy=(0, 0, 0), collision=True, display=True,\n",
    "                          color=(1,1,1,1)\n",
    "                         )\n",
    "graph.add_marker(sponge)"
   ]
  },
  {
   "cell_type": "code",
   "execution_count": null,
   "metadata": {},
   "outputs": [],
   "source": []
  },
  {
   "cell_type": "markdown",
   "metadata": {},
   "source": [
    "# Detect environment"
   ]
  },
  {
   "cell_type": "code",
   "execution_count": 8,
   "metadata": {},
   "outputs": [],
   "source": [
    "env_gen_dict, objectPose_dict, corner_dict, color_image, rs_objectPose_dict, rs_corner_dict, rs_image = cam.detect_environment(ghnd)\n",
    "add_objects_gen(graph, env_gen_dict)\n",
    "graph.set_rviz()"
   ]
  },
  {
   "cell_type": "markdown",
   "metadata": {},
   "source": [
    "## make track"
   ]
  },
  {
   "cell_type": "code",
   "execution_count": 9,
   "metadata": {},
   "outputs": [],
   "source": [
    "track = ghnd.NAME_DICT['track']\n",
    "track_plane = ghnd.copy_from(track, new_name='track_plane')\n",
    "T_new = np.matmul(track.Toff, SE3(np.identity(3), (0,0,track.dims[2]/2)))\n",
    "track_plane.set_offset_tf(center=tuple(T_new[:3,3]), orientation_mat=T_new[:3,:3])\n",
    "track_plane.color = (0,1,0,0.3)\n",
    "track_plane.set_dims((track.dims[0], track.dims[1], 0.001))\n",
    "graph.add_marker(track_plane)\n",
    "track_wall_a = ghnd.copy_from(track, new_name='track_wall_a')\n",
    "T_wall_a = np.matmul(track.Toff, SE3(Rot_zyx(-np.pi/2,0,np.pi/2), (0,track.dims[1]/2+0.12,0)))\n",
    "track_wall_a.set_offset_tf(center=tuple(T_wall_a[:3,3]), orientation_mat=T_wall_a[:3,:3])\n",
    "track_wall_a.color = (1,1,1,0.3)\n",
    "track_wall_a.set_dims((0.2, 0.2, track.dims[0]))\n",
    "graph.add_marker(track_wall_a)\n",
    "track_wall_b = ghnd.copy_from(track, new_name='track_wall_b')\n",
    "T_wall_b = np.matmul(track.Toff, SE3(Rot_zyx(-np.pi/2,0,np.pi/2), (0,-track.dims[1]/2-0.12,0)))\n",
    "track_wall_b.set_offset_tf(center=tuple(T_wall_b[:3,3]), orientation_mat=T_wall_b[:3,:3])\n",
    "track_wall_b.color = (1,1,1,0.3)\n",
    "track_wall_b.set_dims((0.2, 0.2, track.dims[0]))\n",
    "graph.add_marker(track_wall_b)"
   ]
  },
  {
   "cell_type": "code",
   "execution_count": null,
   "metadata": {},
   "outputs": [],
   "source": []
  },
  {
   "cell_type": "markdown",
   "metadata": {},
   "source": [
    "## Register binders"
   ]
  },
  {
   "cell_type": "code",
   "execution_count": 10,
   "metadata": {},
   "outputs": [],
   "source": [
    "graph.register_binder(name='grip1', _type=Gripper2Tool, point=[0,0,0.112], rpy=[-np.pi/2,0,0], link_name=\"panda1_hand\")\n",
    "graph.register_binder(name='grip0', _type=Gripper2Tool, point=[0,0,0.14], rpy=[-np.pi/2,0,0], link_name=\"indy0_tcp\")\n",
    "graph.register_binder(name='floor', _type=PlacePlane)"
   ]
  },
  {
   "cell_type": "code",
   "execution_count": null,
   "metadata": {},
   "outputs": [],
   "source": []
  },
  {
   "cell_type": "markdown",
   "metadata": {},
   "source": [
    "## detect movable"
   ]
  },
  {
   "cell_type": "code",
   "execution_count": 11,
   "metadata": {},
   "outputs": [],
   "source": [
    "BINDER_DICT = {'goal_bd': dict(_type=PlacePlane, object_name=\"goal\", point=[0,0,0.02], rpy=[0,0,0])}\n",
    "OBJECT_DICT = {'box1': dict(_type=BoxAction, hexahedral=True),\n",
    "               'box2': dict(_type=BoxAction, hexahedral=True)}"
   ]
  },
  {
   "cell_type": "code",
   "execution_count": 12,
   "metadata": {
    "scrolled": true
   },
   "outputs": [],
   "source": [
    "objectPose_dict_mv, corner_dict_mv, color_image, aruco_map_mv = detect_objects(graph.cam.aruco_map, graph.cam.dictionary, graph.cam.ref_tuple)\n",
    "put_point_dict = graph.register_object_gen(objectPose_dict_mv, BINDER_DICT, OBJECT_DICT, link_name=\"base_link\")\n",
    "graph.set_rviz()"
   ]
  },
  {
   "cell_type": "code",
   "execution_count": null,
   "metadata": {},
   "outputs": [],
   "source": []
  },
  {
   "cell_type": "code",
   "execution_count": 13,
   "metadata": {},
   "outputs": [],
   "source": [
    "graph.show_pose(graph.get_real_robot_pose())"
   ]
  },
  {
   "cell_type": "code",
   "execution_count": null,
   "metadata": {},
   "outputs": [],
   "source": []
  },
  {
   "cell_type": "code",
   "execution_count": 14,
   "metadata": {},
   "outputs": [],
   "source": [
    "from pkg.planner.moveit import moveit_py\n",
    "from pkg.planner.moveit.moveit_planner import MoveitPlanner"
   ]
  },
  {
   "cell_type": "markdown",
   "metadata": {},
   "source": [
    "### Set Planner"
   ]
  },
  {
   "cell_type": "code",
   "execution_count": 15,
   "metadata": {},
   "outputs": [],
   "source": [
    "mplan = MoveitPlanner(\n",
    "    joint_names=graph.joint_names, link_names=graph.link_names, urdf_path=graph.urdf_path, urdf_content=graph.urdf_content, \n",
    "    robot_names=crob.robot_names, ghnd=ghnd)\n",
    "graph.set_planner(mplan)"
   ]
  },
  {
   "cell_type": "code",
   "execution_count": null,
   "metadata": {},
   "outputs": [],
   "source": []
  },
  {
   "cell_type": "markdown",
   "metadata": {},
   "source": [
    "### define constants"
   ]
  },
  {
   "cell_type": "code",
   "execution_count": 16,
   "metadata": {},
   "outputs": [],
   "source": [
    "GROUP_NAME, TOOL_LINK, BASE_LINK  = \"indy0\", \"indy0_tcp\", \"base_link\"\n",
    "TOOL_XYZRPY = ((0,0,0.18),(np.pi,0,0))\n",
    "TOOL_XYZRPY2 = ((0,0,0.18),(-np.pi/2,0,0))\n",
    "# TOOL_XYZRPY = ((0,0,0),(0,0,0))\n",
    "# ORIGIN_XYZRPY = ((0,0,0.4), (0,0,0))\n",
    "ORIGIN_XYZRPY = (track_plane.center, track_plane.rpy)\n",
    "\n",
    "TOOL_TF = T_xyzrpy(TOOL_XYZRPY)\n",
    "TOOL_XYZQUAT = T2xyzquat(TOOL_TF)\n",
    "TOOL_TF2 = T_xyzrpy(TOOL_XYZRPY2)\n",
    "TOOL_XYZQUAT2 = T2xyzquat(TOOL_TF2)\n",
    "ORIGIN_TF = T_xyzrpy(ORIGIN_XYZRPY)\n",
    "\n",
    "graph.add_marker(ghnd.create_safe(gtype=GEOTYPE.SPHERE, name=\"tool\", link_name=\"indy0_tcp\",\n",
    "                                      center=TOOL_XYZRPY[0], rpy=(0,0,0), \n",
    "                                      dims=(0.02,0.02,0.02), color=(1, 0, 0, 0.7),\n",
    "                                      collision=False))\n",
    "\n",
    "mtem_list=[]"
   ]
  },
  {
   "cell_type": "code",
   "execution_count": null,
   "metadata": {},
   "outputs": [],
   "source": []
  },
  {
   "cell_type": "markdown",
   "metadata": {},
   "source": [
    "# Track plane Test"
   ]
  },
  {
   "cell_type": "markdown",
   "metadata": {},
   "source": [
    "### check starting pose"
   ]
  },
  {
   "cell_type": "code",
   "execution_count": 95,
   "metadata": {},
   "outputs": [
    {
     "name": "stdout",
     "output_type": "stream",
     "text": [
      "start_pose: ([-0.635639488697052, -0.1970038264989853, 0.19841675460338593], [0.7083822171195722, 0.7058264213082457, -0.001770307140718424, 0.0007506427790863285])\n",
      "Q_ready: [ 0.09 -0.53 -1.95 -0.   -0.66  0.09  0.   -0.39  0.   -1.57  0.    1.57\n",
      "  1.57]\n"
     ]
    }
   ],
   "source": [
    "Q_init = crob.home_pose\n",
    "start_pose = T2xyzquat(np.matmul(np.matmul(ORIGIN_TF,SE3(Rot_rpy((0,0,-np.pi/2)),[0.3,0.0,0.0])), TOOL_TF))\n",
    "trajectory_s, success = mplan.planner.plan_py(robot_name=GROUP_NAME, tool_link=TOOL_LINK, goal_pose=start_pose[0]+start_pose[1], goal_link=BASE_LINK, \n",
    "                                            Q_init=Q_init, plannerconfig=\"RRTConnectkConfigDefault\", timeout=1)\n",
    "Q_ready = trajectory_s[-1]\n",
    "print(\"start_pose: {}\".format(start_pose))\n",
    "print(\"Q_ready: {}\".format(np.round(Q_ready,2)))"
   ]
  },
  {
   "cell_type": "code",
   "execution_count": 96,
   "metadata": {},
   "outputs": [],
   "source": [
    "graph.show_motion(trajectory_s)\n",
    "graph.show_pose(trajectory_s[-1])"
   ]
  },
  {
   "cell_type": "markdown",
   "metadata": {},
   "source": [
    "### check goal pose"
   ]
  },
  {
   "cell_type": "code",
   "execution_count": 33,
   "metadata": {},
   "outputs": [
    {
     "name": "stdout",
     "output_type": "stream",
     "text": [
      "Q_last_ex: [ 0.98192662 -0.68753862 -1.6166688  -0.01435607 -0.83010965  0.99588924\n",
      "  0.         -0.39269908  0.         -1.57079633  0.          1.57079633\n",
      "  1.57079633]\n",
      "goal_pose: ([-0.13564324378967285, -0.198812335729599, 0.19769896566867828], [0.7083822171195722, 0.7058264213082457, -0.001770307140718424, 0.0007506427790863285])\n"
     ]
    }
   ],
   "source": [
    "Q_init = crob.home_pose\n",
    "goal_pose = T2xyzquat(np.matmul(np.matmul(ORIGIN_TF,SE3(Rot_rpy((0,0,-np.pi/2)),[-0.2,0.0,0])), TOOL_TF)) # after meet\n",
    "trajectory, success = mplan.planner.plan_py(robot_name=GROUP_NAME, tool_link=TOOL_LINK, goal_pose=goal_pose[0]+goal_pose[1], goal_link=BASE_LINK, \n",
    "                                            Q_init=Q_ready, plannerconfig=\"RRTConnectkConfigDefault\", timeout=1)\n",
    "Q_last_ex = trajectory[-1]\n",
    "print(\"Q_last_ex: {}\".format(Q_last_ex))\n",
    "print(\"goal_pose: {}\".format(goal_pose))"
   ]
  },
  {
   "cell_type": "code",
   "execution_count": 34,
   "metadata": {},
   "outputs": [],
   "source": [
    "graph.show_motion(trajectory)\n",
    "graph.show_pose(trajectory[-1])"
   ]
  },
  {
   "cell_type": "code",
   "execution_count": null,
   "metadata": {},
   "outputs": [],
   "source": []
  },
  {
   "cell_type": "markdown",
   "metadata": {},
   "source": [
    "## apply collisions"
   ]
  },
  {
   "cell_type": "code",
   "execution_count": 49,
   "metadata": {},
   "outputs": [],
   "source": [
    "mplan.update(graph)"
   ]
  },
  {
   "cell_type": "markdown",
   "metadata": {},
   "source": [
    "### set manifolds"
   ]
  },
  {
   "cell_type": "code",
   "execution_count": 50,
   "metadata": {},
   "outputs": [],
   "source": [
    "mplan.planner.clear_context_cache()\n",
    "mplan.planner.clear_manifolds()\n",
    "\n",
    "ctem_list = make_constraint_list([ghnd.NAME_DICT[\"track_plane\"]])\n",
    "mplan.planner.add_union_manifold_py(group_name=GROUP_NAME, tool_link=TOOL_LINK, tool_offset=TOOL_XYZQUAT[0]+TOOL_XYZQUAT[1], \n",
    "                                    geometry_list=ctem_list, fix_surface=True, fix_normal=False, tol=2e-3)\n",
    "\n",
    "ctem_list_vert = make_constraint_list([ghnd.NAME_DICT[\"track_plane\"]])\n",
    "mplan.planner.add_union_manifold_py(group_name=GROUP_NAME, tool_link=TOOL_LINK, tool_offset=TOOL_XYZQUAT[0]+TOOL_XYZQUAT[1], \n",
    "                                    geometry_list=ctem_list_vert, fix_surface=False, fix_normal=True, tol=5e-3)\n",
    "\n",
    "htem_list = make_constraint_list([ghnd.NAME_DICT[\"track_wall_a\"]])\n",
    "mplan.planner.add_union_manifold_py(group_name=GROUP_NAME, tool_link=TOOL_LINK, tool_offset=TOOL_XYZQUAT2[0]+TOOL_XYZQUAT2[1], \n",
    "                                    geometry_list=htem_list, fix_surface=False, fix_normal=True, tol=5e-3)"
   ]
  },
  {
   "cell_type": "code",
   "execution_count": null,
   "metadata": {},
   "outputs": [],
   "source": []
  },
  {
   "cell_type": "markdown",
   "metadata": {},
   "source": [
    "### search plan"
   ]
  },
  {
   "cell_type": "code",
   "execution_count": 51,
   "metadata": {},
   "outputs": [
    {
     "name": "stdout",
     "output_type": "stream",
     "text": [
      "result: True (81)\n"
     ]
    }
   ],
   "source": [
    "trajectory_rough, success = mplan.planner.plan_constrained_py(GROUP_NAME,TOOL_LINK, goal_pose[0]+goal_pose[1], BASE_LINK, Q_ready, timeout=60)\n",
    "print('result: {} ({})'.format(success, len(trajectory_rough)))"
   ]
  },
  {
   "cell_type": "code",
   "execution_count": 52,
   "metadata": {},
   "outputs": [],
   "source": [
    "graph.show_motion(trajectory_rough, period=0.01)"
   ]
  },
  {
   "cell_type": "code",
   "execution_count": 98,
   "metadata": {},
   "outputs": [],
   "source": [
    "trajectory_s, trajectory_vel = apply_vel_acc_lims(trajectory_s, DT=1/4e3, urdf_content=urdf_content, joint_names = graph.joint_names, vel_scale=0.5, acc_scale=0.005)"
   ]
  },
  {
   "cell_type": "code",
   "execution_count": 99,
   "metadata": {},
   "outputs": [],
   "source": [
    "trajectory, trajectory_vel = apply_vel_acc_lims(trajectory_rough, DT=1/4e3, urdf_content=urdf_content, joint_names = graph.joint_names, vel_scale=0.5, acc_scale=0.005)"
   ]
  },
  {
   "cell_type": "code",
   "execution_count": null,
   "metadata": {},
   "outputs": [],
   "source": []
  },
  {
   "cell_type": "code",
   "execution_count": 113,
   "metadata": {},
   "outputs": [],
   "source": [
    "graph.show_pose(trajectory_s[0])"
   ]
  },
  {
   "cell_type": "code",
   "execution_count": 114,
   "metadata": {},
   "outputs": [],
   "source": [
    "gtimer.reset()"
   ]
  },
  {
   "cell_type": "code",
   "execution_count": 115,
   "metadata": {},
   "outputs": [
    {
     "data": {
      "text/plain": [
       "3631.0479640960693"
      ]
     },
     "execution_count": 115,
     "metadata": {},
     "output_type": "execute_result"
    },
    {
     "name": "stdout",
     "output_type": "stream",
     "text": [
      "button clicked\n",
      "button clicked\n",
      "button action donebutton action done\n",
      "\n"
     ]
    }
   ],
   "source": [
    "gtimer.tic(\"start\")\n",
    "graph.show_motion(trajectory_s[::320], period=0.02)\n",
    "gtimer.toc(\"start\")\n",
    "time.sleep(1)\n",
    "gtimer.tic(\"test\")\n",
    "graph.show_motion(trajectory[::160], period=0.02)\n",
    "gtimer.toc(\"test\")"
   ]
  },
  {
   "cell_type": "code",
   "execution_count": 108,
   "metadata": {},
   "outputs": [
    {
     "name": "stdout",
     "output_type": "stream",
     "text": [
      "start: \t1229.0 ms/1 = 1228.695 ms (1228.695/1228.695)\n",
      "test: \t3556.0 ms/1 = 3556.093 ms (3556.093/3556.093)\n",
      "\n"
     ]
    }
   ],
   "source": [
    "print(gtimer)"
   ]
  },
  {
   "cell_type": "code",
   "execution_count": null,
   "metadata": {},
   "outputs": [],
   "source": []
  },
  {
   "cell_type": "code",
   "execution_count": 71,
   "metadata": {},
   "outputs": [
    {
     "data": {
      "text/plain": [
       "13857"
      ]
     },
     "execution_count": 71,
     "metadata": {},
     "output_type": "execute_result"
    }
   ],
   "source": [
    "len(trajectory)"
   ]
  },
  {
   "cell_type": "code",
   "execution_count": 72,
   "metadata": {},
   "outputs": [
    {
     "data": {
      "text/plain": [
       "[<matplotlib.lines.Line2D at 0x7f0eb01a1690>,\n",
       " <matplotlib.lines.Line2D at 0x7f0eb01a1710>,\n",
       " <matplotlib.lines.Line2D at 0x7f0eb01a1750>,\n",
       " <matplotlib.lines.Line2D at 0x7f0eb01a1810>,\n",
       " <matplotlib.lines.Line2D at 0x7f0eb01a18d0>,\n",
       " <matplotlib.lines.Line2D at 0x7f0eb01a1990>,\n",
       " <matplotlib.lines.Line2D at 0x7f0eb01a1a50>,\n",
       " <matplotlib.lines.Line2D at 0x7f0eb01a1b10>,\n",
       " <matplotlib.lines.Line2D at 0x7f0eb01a1bd0>,\n",
       " <matplotlib.lines.Line2D at 0x7f0eb01a1c90>,\n",
       " <matplotlib.lines.Line2D at 0x7f0eb01a1d50>,\n",
       " <matplotlib.lines.Line2D at 0x7f0eb01a1e10>,\n",
       " <matplotlib.lines.Line2D at 0x7f0eb01a1ed0>]"
      ]
     },
     "execution_count": 72,
     "metadata": {},
     "output_type": "execute_result"
    },
    {
     "data": {
      "image/png": "[encoded data removed]",
      "text/plain": [
       "<Figure size 432x288 with 1 Axes>"
      ]
     },
     "metadata": {
      "needs_background": "light"
     },
     "output_type": "display_data"
    }
   ],
   "source": [
    "plt.plot(trajectory)"
   ]
  },
  {
   "cell_type": "code",
   "execution_count": 73,
   "metadata": {},
   "outputs": [
    {
     "data": {
      "text/plain": [
       "[<matplotlib.lines.Line2D at 0x7f0f0c02f750>,\n",
       " <matplotlib.lines.Line2D at 0x7f0f0c02f7d0>,\n",
       " <matplotlib.lines.Line2D at 0x7f0f0c02f810>,\n",
       " <matplotlib.lines.Line2D at 0x7f0f0c02f8d0>,\n",
       " <matplotlib.lines.Line2D at 0x7f0f0c02f990>,\n",
       " <matplotlib.lines.Line2D at 0x7f0f0c02fa50>,\n",
       " <matplotlib.lines.Line2D at 0x7f0f0c02fb10>,\n",
       " <matplotlib.lines.Line2D at 0x7f0f0c02fbd0>,\n",
       " <matplotlib.lines.Line2D at 0x7f0f0c02fc90>,\n",
       " <matplotlib.lines.Line2D at 0x7f0f0c02fd50>,\n",
       " <matplotlib.lines.Line2D at 0x7f0f0c02fe10>,\n",
       " <matplotlib.lines.Line2D at 0x7f0f0c02fed0>,\n",
       " <matplotlib.lines.Line2D at 0x7f0f0c03a050>]"
      ]
     },
     "execution_count": 73,
     "metadata": {},
     "output_type": "execute_result"
    },
    {
     "data": {
      "image/png": "[encoded data removed]",
      "text/plain": [
       "<Figure size 432x288 with 1 Axes>"
      ]
     },
     "metadata": {
      "needs_background": "light"
     },
     "output_type": "display_data"
    }
   ],
   "source": [
    "plt.plot(trajectory_vel)"
   ]
  },
  {
   "cell_type": "code",
   "execution_count": null,
   "metadata": {},
   "outputs": [],
   "source": []
  },
  {
   "cell_type": "markdown",
   "metadata": {},
   "source": [
    "## Execute motion"
   ]
  },
  {
   "cell_type": "code",
   "execution_count": 74,
   "metadata": {},
   "outputs": [],
   "source": [
    "# prepare indy\n",
    "indy = indytraj_client(server_ip=\"192.168.0.63\", robot_name=\"NRMK-Indy7\")"
   ]
  },
  {
   "cell_type": "code",
   "execution_count": 81,
   "metadata": {},
   "outputs": [
    {
     "name": "stdout",
     "output_type": "stream",
     "text": [
      "Connect: Server IP (192.168.0.63)\n",
      "Connect: Server IP (192.168.0.63)\n",
      "Move finished!\n"
     ]
    },
    {
     "data": {
      "text/plain": [
       "True"
      ]
     },
     "execution_count": 81,
     "metadata": {},
     "output_type": "execute_result"
    }
   ],
   "source": [
    "trajectory_indy = trajectory[:,:6]\n",
    "\n",
    "indy.connect_and(indy.go_home)\n",
    "indy.connect_and(indy.wait_for_move_finish)"
   ]
  },
  {
   "cell_type": "code",
   "execution_count": 82,
   "metadata": {},
   "outputs": [
    {
     "name": "stdout",
     "output_type": "stream",
     "text": [
      "Connect: Server IP (192.168.0.63)\n"
     ]
    }
   ],
   "source": [
    "indy.connect_and(indy.joint_move_to, np.rad2deg(trajectory_indy[0]))"
   ]
  },
  {
   "cell_type": "code",
   "execution_count": 77,
   "metadata": {},
   "outputs": [],
   "source": [
    "time.sleep(5)"
   ]
  },
  {
   "cell_type": "code",
   "execution_count": 83,
   "metadata": {},
   "outputs": [
    {
     "name": "stdout",
     "output_type": "stream",
     "text": [
      "Connect: Server IP (192.168.0.63)\n"
     ]
    }
   ],
   "source": [
    "# Options\n",
    "traj_type = 1  # 1 for joint move, 2 for task move\n",
    "traj_freq = 4000  # control rate\n",
    "dat_size = 6  # DOF\n",
    "\n",
    "# make_trajectory\n",
    "trajectory_d = differentiate(trajectory_indy, 1./traj_freq)\n",
    "trajectory_dd = differentiate(trajectory_indy, 1./traj_freq)\n",
    "traj_data = np.concatenate([trajectory_indy, trajectory_d, trajectory_dd], axis=-1).flatten()\n",
    "indy.connect_and(indy.move_ext_traj_txt, traj_type, traj_freq, dat_size, traj_data)"
   ]
  },
  {
   "cell_type": "code",
   "execution_count": null,
   "metadata": {},
   "outputs": [],
   "source": []
  },
  {
   "cell_type": "code",
   "execution_count": null,
   "metadata": {},
   "outputs": [],
   "source": []
  },
  {
   "cell_type": "code",
   "execution_count": null,
   "metadata": {},
   "outputs": [],
   "source": []
  }
 ],
 "metadata": {
  "kernelspec": {
   "display_name": "Python 2",
   "language": "python",
   "name": "python2"
  },
  "language_info": {
   "codemirror_mode": {
    "name": "ipython",
    "version": 2
   },
   "file_extension": ".py",
   "mimetype": "text/x-python",
   "name": "python",
   "nbconvert_exporter": "python",
   "pygments_lexer": "ipython2",
   "version": "2.7.17"
  }
 },
 "nbformat": 4,
 "nbformat_minor": 2
}
