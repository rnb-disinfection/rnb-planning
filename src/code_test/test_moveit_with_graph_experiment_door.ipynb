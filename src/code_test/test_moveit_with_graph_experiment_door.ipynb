{
 "cells": [
  {
   "cell_type": "markdown",
   "metadata": {},
   "source": [
    "# Prepare robots first  \n",
    "* run panda repeater on controller pc  \n",
    "\n",
    "```\n",
    "ssh panda@192.168.0.172\n",
    "roslaunch panda_ros_repeater joint_velocity_repeater.launch robot_ip:=192.168.0.13 load_gripper:=false\n",
    "\n",
    "```\n",
    "\n",
    "* Keep indy connected to conty to bypass conty-connection delay bug"
   ]
  },
  {
   "cell_type": "markdown",
   "metadata": {},
   "source": [
    "# initialize notebook"
   ]
  },
  {
   "cell_type": "code",
   "execution_count": 1,
   "metadata": {
    "pycharm": {
     "name": "#%%\n"
    },
    "scrolled": true
   },
   "outputs": [
    {
     "data": {
      "text/html": [
       "<style>.container { width:90% !important; } </style>"
      ],
      "text/plain": [
       "<IPython.core.display.HTML object>"
      ]
     },
     "metadata": {},
     "output_type": "display_data"
    }
   ],
   "source": [
    "from __future__ import print_function\n",
    "from IPython.core.display import display, HTML\n",
    "display(HTML(\"<style>.container { width:90% !important; } </style>\"))\n",
    "import matplotlib.pyplot as plt"
   ]
  },
  {
   "cell_type": "code",
   "execution_count": null,
   "metadata": {},
   "outputs": [],
   "source": []
  },
  {
   "cell_type": "markdown",
   "metadata": {},
   "source": [
    "# Initialize constants"
   ]
  },
  {
   "cell_type": "code",
   "execution_count": 2,
   "metadata": {
    "scrolled": false
   },
   "outputs": [],
   "source": [
    "from pkg.marker_config import *\n",
    "from pkg.tmp_framework import *\n",
    "from pkg.constraint.constraint_action import *\n",
    "from pkg.constraint.constraint_object import *\n",
    "from pkg.constants import *\n",
    "from pkg.utils.plot_utils import *\n",
    "from pkg.utils.utils import *\n",
    "from pkg.environment_builder import *\n",
    "from pkg.ui.ui_broker import *\n",
    "from pkg.controller.combined_robot import *\n",
    "\n",
    "gtimer = GlobalTimer.instance()\n",
    "gtimer.reset()"
   ]
  },
  {
   "cell_type": "code",
   "execution_count": null,
   "metadata": {},
   "outputs": [],
   "source": []
  },
  {
   "cell_type": "code",
   "execution_count": 3,
   "metadata": {
    "scrolled": true
   },
   "outputs": [
    {
     "name": "stdout",
     "output_type": "stream",
     "text": [
      "connection_list\n",
      "(False, False)\n"
     ]
    }
   ],
   "source": [
    "crob = CombinedRobot(connection_list=(False, False))\n",
    "USE_CAM = True"
   ]
  },
  {
   "cell_type": "code",
   "execution_count": null,
   "metadata": {},
   "outputs": [],
   "source": []
  },
  {
   "cell_type": "markdown",
   "metadata": {},
   "source": [
    "# initialize graph & ui"
   ]
  },
  {
   "cell_type": "code",
   "execution_count": 4,
   "metadata": {
    "scrolled": true
   },
   "outputs": [
    {
     "name": "stdout",
     "output_type": "stream",
     "text": [
      "Start streaming\n",
      "Device configuration: \n",
      "\tcolor_format: 3 \n",
      "\t(0:JPG, 1:NV12, 2:YUY2, 3:BGRA32)\n",
      "\n",
      "\tcolor_resolution: 5 \n",
      "\t(0:OFF, 1:720p, 2:1080p, 3:1440p, 4:1536p, 5:2160p, 6:3072p)\n",
      "\n",
      "\tdepth_mode: 3 \n",
      "\t(0:OFF, 1:NFOV_2X2BINNED, 2:NFOV_UNBINNED,3:WFOV_2X2BINNED, 4:WFOV_UNBINNED, 5:Passive IR)\n",
      "\n",
      "\tcamera_fps: 2 \n",
      "\t(0:5 FPS, 1:15 FPS, 2:30 FPS)\n",
      "\n",
      "\tsynchronized_images_only: False \n",
      "\t(True of False). Drop images if the color and depth are not synchronized\n",
      "\n",
      "\tdepth_delay_off_color_usec: 0 ms. \n",
      "\tDelay between the color image and the depth image\n",
      "\n",
      "\twired_sync_mode: 0\n",
      "\t(0:Standalone mode, 1:Master mode, 2:Subordinate mode)\n",
      "\n",
      "\tsubordinate_delay_off_master_usec: 0 ms.\n",
      "\tThe external synchronization timing.\n",
      "\n",
      "\tdisable_streaming_indicator: False \n",
      "\t(True or False). Streaming indicator automatically turns on when the color or depth camera's are in use.\n",
      "\n",
      "\n",
      "Unable to register with master node [http://localhost:11311]: master may not be running yet. Will keep trying.\n"
     ]
    },
    {
     "name": "stderr",
     "output_type": "stream",
     "text": [
      "Unknown tag \"hardwareInterface\" in /robot[@name='custom_robots']/transmission[@name='indy0_tran0']/actuator[@name='indy0_motor0']\n",
      "Unknown tag \"hardwareInterface\" in /robot[@name='custom_robots']/transmission[@name='indy0_tran1']/actuator[@name='indy0_motor1']\n",
      "Unknown tag \"hardwareInterface\" in /robot[@name='custom_robots']/transmission[@name='indy0_tran2']/actuator[@name='indy0_motor2']\n",
      "Unknown tag \"hardwareInterface\" in /robot[@name='custom_robots']/transmission[@name='indy0_tran3']/actuator[@name='indy0_motor3']\n",
      "Unknown tag \"hardwareInterface\" in /robot[@name='custom_robots']/transmission[@name='indy0_tran4']/actuator[@name='indy0_motor4']\n",
      "Unknown tag \"hardwareInterface\" in /robot[@name='custom_robots']/transmission[@name='indy0_tran5']/actuator[@name='indy0_motor5']\n"
     ]
    },
    {
     "name": "stdout",
     "output_type": "stream",
     "text": [
      "Please create a subscriber to the marker\n",
      "publication OK\n",
      "published: [0, 0, 0, 0, 0, 0, 0, 0, 0, 0, 0, 0, 0]\n",
      "Please create a subscriber to the marker\n",
      "Dash is running on http://127.0.0.1:8050/\n",
      "\n",
      " * Serving Flask app \"pkg.ui.dash_launcher\" (lazy loading)\n",
      " * Environment: production\n",
      "   WARNING: This is a development server. Do not use it in a production deployment.\n",
      "   Use a production WSGI server instead.\n",
      " * Debug mode: off\n"
     ]
    }
   ],
   "source": [
    "if \"cam\" not in locals():\n",
    "    cam = StereoCamera.instance() if USE_CAM else None\n",
    "\n",
    "# set urdf\n",
    "xcustom, JOINT_NAMES, LINK_NAMES, urdf_content = set_custom_robots(crob.robots_on_scene, XYZ_RPY_ROBOTS_DEFAULT, crob.custom_limits, start_rviz=True)\n",
    "ghnd = GeometryHandle(urdf_content)\n",
    "\n",
    "\n",
    "graph = TMPFramework(ghnd=ghnd, urdf_path=URDF_PATH, joint_names=JOINT_NAMES, link_names=LINK_NAMES, \n",
    "                        urdf_content=urdf_content, combined_robot=crob)\n",
    "graph.set_camera(cam)\n",
    "graph.set_cam_robot_collision(_add_cam_poles=False, color=(1,1,1,0))\n",
    "graph.set_rviz()\n",
    "\n",
    "# start UI\n",
    "ui_broker = UIBroker.instance()\n",
    "ui_broker.initialize(graph)\n",
    "ui_broker.start_server()\n",
    "\n",
    "# set rviz\n",
    "graph.set_rviz(crob.home_pose)\n",
    "ui_broker.set_tables()"
   ]
  },
  {
   "cell_type": "code",
   "execution_count": null,
   "metadata": {},
   "outputs": [],
   "source": []
  },
  {
   "cell_type": "markdown",
   "metadata": {},
   "source": [
    "# Calibrate camera"
   ]
  },
  {
   "cell_type": "code",
   "execution_count": 5,
   "metadata": {},
   "outputs": [],
   "source": [
    "if USE_CAM:\n",
    "    cam.calibrate(ghnd)\n",
    "    graph.set_cam_robot_collision()\n",
    "    graph.set_rviz()"
   ]
  },
  {
   "cell_type": "code",
   "execution_count": null,
   "metadata": {},
   "outputs": [],
   "source": []
  },
  {
   "cell_type": "markdown",
   "metadata": {},
   "source": [
    "# Update Robots"
   ]
  },
  {
   "cell_type": "code",
   "execution_count": 6,
   "metadata": {},
   "outputs": [
    {
     "name": "stderr",
     "output_type": "stream",
     "text": [
      "Unknown tag \"hardwareInterface\" in /robot[@name='custom_robots']/transmission[@name='indy0_tran0']/actuator[@name='indy0_motor0']\n",
      "Unknown tag \"hardwareInterface\" in /robot[@name='custom_robots']/transmission[@name='indy0_tran1']/actuator[@name='indy0_motor1']\n",
      "Unknown tag \"hardwareInterface\" in /robot[@name='custom_robots']/transmission[@name='indy0_tran2']/actuator[@name='indy0_motor2']\n",
      "Unknown tag \"hardwareInterface\" in /robot[@name='custom_robots']/transmission[@name='indy0_tran3']/actuator[@name='indy0_motor3']\n",
      "Unknown tag \"hardwareInterface\" in /robot[@name='custom_robots']/transmission[@name='indy0_tran4']/actuator[@name='indy0_motor4']\n",
      "Unknown tag \"hardwareInterface\" in /robot[@name='custom_robots']/transmission[@name='indy0_tran5']/actuator[@name='indy0_motor5']\n"
     ]
    }
   ],
   "source": [
    "if USE_CAM:\n",
    "    # btn: detect robots\n",
    "    crob.detect_robots(cam)\n",
    "\n",
    "    # btn: apply\n",
    "    xcustom, JOINT_NAMES, LINK_NAMES, urdf_content = set_custom_robots(crob.robots_on_scene, crob.xyz_rpy_robots, crob.custom_limits, start_rviz=True)\n",
    "    ghnd = GeometryHandle(urdf_content)\n",
    "\n",
    "\n",
    "    graph.clear_markers()\n",
    "    graph.clear_highlight()\n",
    "    graph.ghnd.clear()\n",
    "    timer.sleep(1)\n",
    "    graph.__init__(ghnd=ghnd, urdf_path=URDF_PATH, joint_names=JOINT_NAMES, link_names=LINK_NAMES, \n",
    "                       urdf_content=urdf_content, combined_robot=crob)\n",
    "    add_geometry_items(graph.urdf_content, ghnd, color=(0, 1, 0, 0.3), display=True, collision=True,\n",
    "                       exclude_link=[\"panda1_link7\"])\n",
    "    graph.set_cam_robot_collision()\n",
    "    graph.set_rviz()"
   ]
  },
  {
   "cell_type": "code",
   "execution_count": null,
   "metadata": {},
   "outputs": [],
   "source": []
  },
  {
   "cell_type": "markdown",
   "metadata": {},
   "source": [
    "# Detect environment"
   ]
  },
  {
   "cell_type": "code",
   "execution_count": 7,
   "metadata": {},
   "outputs": [],
   "source": [
    "env_gen_dict, objectPose_dict, corner_dict, color_image, rs_objectPose_dict, rs_corner_dict, rs_image = cam.detect_environment(ghnd)\n",
    "add_objects_gen(graph, env_gen_dict)\n",
    "graph.set_rviz()"
   ]
  },
  {
   "cell_type": "code",
   "execution_count": null,
   "metadata": {},
   "outputs": [],
   "source": []
  },
  {
   "cell_type": "markdown",
   "metadata": {},
   "source": [
    "## Register binders"
   ]
  },
  {
   "cell_type": "code",
   "execution_count": 8,
   "metadata": {},
   "outputs": [],
   "source": [
    "graph.register_binder(name='grip1', _type=Gripper2Tool, point=[0,0,0.112], rpy=[-np.pi/2,0,0], link_name=\"panda1_hand\")\n",
    "graph.register_binder(name='grip0', _type=Gripper2Tool, point=[0,0,0.14], rpy=[-np.pi/2,0,0], link_name=\"indy0_tcp\")\n",
    "graph.register_binder(name='floor', _type=PlacePlane)"
   ]
  },
  {
   "cell_type": "code",
   "execution_count": null,
   "metadata": {},
   "outputs": [],
   "source": []
  },
  {
   "cell_type": "markdown",
   "metadata": {},
   "source": [
    "## detect movable"
   ]
  },
  {
   "cell_type": "code",
   "execution_count": 9,
   "metadata": {},
   "outputs": [],
   "source": [
    "BINDER_DICT = {'goal_bd': dict(_type=PlacePlane, object_name=\"goal\", point=[0,0,0.02], rpy=[0,0,0])}\n",
    "OBJECT_DICT = {'box1': dict(_type=BoxAction, hexahedral=True),\n",
    "               'box2': dict(_type=BoxAction, hexahedral=True)}"
   ]
  },
  {
   "cell_type": "code",
   "execution_count": 10,
   "metadata": {
    "scrolled": true
   },
   "outputs": [],
   "source": [
    "objectPose_dict_mv, corner_dict_mv, color_image, aruco_map_mv = detect_objects(graph.cam.aruco_map, graph.cam.dictionary, graph.cam.ref_tuple)\n",
    "put_point_dict = graph.register_object_gen(objectPose_dict_mv, BINDER_DICT, OBJECT_DICT, link_name=\"base_link\")\n",
    "graph.set_rviz()"
   ]
  },
  {
   "cell_type": "code",
   "execution_count": 11,
   "metadata": {},
   "outputs": [],
   "source": [
    "door = ghnd.NAME_DICT[\"door\"]"
   ]
  },
  {
   "cell_type": "code",
   "execution_count": 12,
   "metadata": {},
   "outputs": [],
   "source": [
    "T_door = door.Toff\n",
    "T_knob = np.matmul(T_door, SE3(Rot_rpy((-np.pi/2, 0, -np.pi/2)).transpose(), (0.161,0,0.030)))\n",
    "knob = ghnd.create_safe(\n",
    "    name=\"knob\", link_name=\"base_link\", gtype=GEOTYPE.CYLINDER,\n",
    "    center=tuple(T_knob[:3,3]), rpy=Rot2rpy(T_knob[:3,:3]), dims=(0.008,0.008,0.16),\n",
    "    color=(0.8, 0.8, 0.8, 1), display=True, collision=True, fixed=True)\n",
    "graph.add_marker(knob)"
   ]
  },
  {
   "cell_type": "code",
   "execution_count": 13,
   "metadata": {},
   "outputs": [],
   "source": [
    "T_hinge = np.matmul(T_door, SE3(Rot_rpy((-np.pi/2, 0, -np.pi/2)).transpose(), (-door.dims[0]/2, 0, 0)))\n",
    "hinge = ghnd.create_safe(\n",
    "    name=\"hinge\", link_name=\"base_link\", gtype=GEOTYPE.CYLINDER,\n",
    "    center=tuple(T_hinge[:3,3]), rpy=Rot2rpy(T_hinge[:3,:3]), dims=(0.01,0.01,door.dims[1]),\n",
    "    color=(0.8, 0.8, 0.8, 1), display=True, collision=True, fixed=True)\n",
    "graph.add_marker(hinge)"
   ]
  },
  {
   "cell_type": "code",
   "execution_count": 14,
   "metadata": {},
   "outputs": [],
   "source": [
    "# graph.remove_geometry(hinge)\n",
    "# graph.remove_geometry(knob)"
   ]
  },
  {
   "cell_type": "code",
   "execution_count": null,
   "metadata": {},
   "outputs": [],
   "source": []
  },
  {
   "cell_type": "code",
   "execution_count": 15,
   "metadata": {},
   "outputs": [],
   "source": [
    "graph.show_pose(graph.get_real_robot_pose())"
   ]
  },
  {
   "cell_type": "code",
   "execution_count": null,
   "metadata": {},
   "outputs": [],
   "source": []
  },
  {
   "cell_type": "code",
   "execution_count": 16,
   "metadata": {},
   "outputs": [],
   "source": [
    "from pkg.planner.moveit import moveit_py\n",
    "from pkg.planner.moveit.moveit_planner import MoveitPlanner"
   ]
  },
  {
   "cell_type": "markdown",
   "metadata": {},
   "source": [
    "### Set Planner"
   ]
  },
  {
   "cell_type": "code",
   "execution_count": 17,
   "metadata": {},
   "outputs": [],
   "source": [
    "mplan = MoveitPlanner(\n",
    "    joint_names=graph.joint_names, link_names=graph.link_names, urdf_path=graph.urdf_path, urdf_content=graph.urdf_content, \n",
    "    robot_names=crob.robot_names, ghnd=ghnd)\n",
    "graph.set_planner(mplan)"
   ]
  },
  {
   "cell_type": "code",
   "execution_count": null,
   "metadata": {},
   "outputs": [],
   "source": []
  },
  {
   "cell_type": "markdown",
   "metadata": {},
   "source": [
    "### define constants"
   ]
  },
  {
   "cell_type": "code",
   "execution_count": 18,
   "metadata": {},
   "outputs": [],
   "source": [
    "graph.clear_highlight()\n",
    "# graph.remove_geometry(tool_point)"
   ]
  },
  {
   "cell_type": "code",
   "execution_count": 19,
   "metadata": {},
   "outputs": [],
   "source": [
    "TOOL_XYZRPY = ((0,-0.025,0.125),(np.pi,np.pi/2,0))\n",
    "TOOL_TF = T_xyzrpy(TOOL_XYZRPY)\n",
    "TOOL_XYZQUAT = T2xyzquat(TOOL_TF)\n",
    "\n",
    "tool_point = ghnd.create_safe(gtype=GEOTYPE.SPHERE, name=\"tool\", link_name=\"indy0_tcp\",\n",
    "                                      center=TOOL_XYZRPY[0], rpy=TOOL_XYZRPY[1], \n",
    "                                      dims=(0.02,0.02,0.02), color=(1, 0, 0, 0.7),\n",
    "                                      collision=False)\n",
    "graph.add_marker(tool_point)\n",
    "graph.add_highlight_axis(hl_key=\"HL\", name=\"tool_ax\", link_name=\"indy0_tcp\", center=tool_point.center, orientation_mat=tool_point.orientation_mat)\n",
    "graph.add_highlight_axis(hl_key=\"HL\", name=\"hinge_ax\", link_name=\"base_link\", center=hinge.center, orientation_mat=hinge.orientation_mat)\n",
    "graph.add_highlight_axis(hl_key=\"HL\", name=\"knob_ax\", link_name=\"base_link\", center=knob.center, orientation_mat=knob.orientation_mat)\n",
    "RADII = np.linalg.norm(np.subtract(knob.center, hinge.center))\n",
    "GROUP_NAME, TOOL_LINK, BASE_LINK  = \"indy0\", \"indy0_tcp\", \"base_link\""
   ]
  },
  {
   "cell_type": "code",
   "execution_count": null,
   "metadata": {},
   "outputs": [],
   "source": []
  },
  {
   "cell_type": "markdown",
   "metadata": {},
   "source": [
    "# Track plane Test"
   ]
  },
  {
   "cell_type": "code",
   "execution_count": 20,
   "metadata": {},
   "outputs": [],
   "source": [
    "mplan.update(graph)"
   ]
  },
  {
   "cell_type": "markdown",
   "metadata": {},
   "source": [
    "### check starting pose"
   ]
  },
  {
   "cell_type": "code",
   "execution_count": 21,
   "metadata": {},
   "outputs": [
    {
     "name": "stdout",
     "output_type": "stream",
     "text": [
      "start_pose: ([-0.13899284601211548, -0.1588086187839508, 0.1792275309562683], [0.708940775352747, 0.7052527140228428, 0.0026313849154587787, -0.0038291277187977517])\n",
      "Q_ready: [ 1.04 -0.66 -1.74  0.   -0.74  1.04  0.   -0.39  0.   -1.57  0.    1.57\n",
      "  1.57]\n"
     ]
    }
   ],
   "source": [
    "Q_init = crob.home_pose\n",
    "Tgrib = np.matmul(knob.Toff, SE3_inv(TOOL_TF))\n",
    "start_pose = T2xyzquat(Tgrib)\n",
    "trajectory_s, success = mplan.planner.plan_py(robot_name=GROUP_NAME, tool_link=TOOL_LINK, goal_pose=start_pose[0]+start_pose[1], goal_link=BASE_LINK, \n",
    "                                            Q_init=Q_init, plannerconfig=\"RRTConnectkConfigDefault\", timeout=60)\n",
    "Q_ready = trajectory_s[-1]\n",
    "print(\"start_pose: {}\".format(start_pose))\n",
    "print(\"Q_ready: {}\".format(np.round(Q_ready,2)))"
   ]
  },
  {
   "cell_type": "code",
   "execution_count": 22,
   "metadata": {},
   "outputs": [],
   "source": [
    "graph.show_motion(trajectory_s)\n",
    "graph.show_pose(trajectory_s[-1])"
   ]
  },
  {
   "cell_type": "markdown",
   "metadata": {},
   "source": [
    "### check goal pose"
   ]
  },
  {
   "cell_type": "code",
   "execution_count": 23,
   "metadata": {
    "scrolled": true
   },
   "outputs": [
    {
     "name": "stdout",
     "output_type": "stream",
     "text": [
      "Q_last_ex: [ 4.78414107e-01 -5.59204278e-02 -1.63242356e+00  5.16219139e-04\n",
      " -1.45320513e+00  4.83996688e-01  0.00000000e+00 -3.92699082e-01\n",
      "  0.00000000e+00 -1.57079633e+00  0.00000000e+00  1.57079633e+00\n",
      "  1.57079633e+00]\n",
      "goal_pose: ([-0.4800378382205963, -0.15675850212574005, 0.49213171005249023], [0.708940775352747, 0.7052527140228428, 0.0026313849154587787, -0.0038291277187977517])\n"
     ]
    }
   ],
   "source": [
    "Tup = np.matmul(SE3(np.identity(3), (0,0,RADII)), hinge.Toff)\n",
    "goal_pose = T2xyzquat(np.matmul(Tup, SE3_inv(TOOL_TF))) # after meet\n",
    "trajectory, success = mplan.planner.plan_py(robot_name=GROUP_NAME, tool_link=TOOL_LINK, goal_pose=goal_pose[0]+goal_pose[1], goal_link=BASE_LINK, \n",
    "                                            Q_init=Q_ready, plannerconfig=\"RRTConnectkConfigDefault\", timeout=1)\n",
    "Q_last_ex = trajectory[-1]\n",
    "print(\"Q_last_ex: {}\".format(Q_last_ex))\n",
    "print(\"goal_pose: {}\".format(goal_pose))"
   ]
  },
  {
   "cell_type": "code",
   "execution_count": 24,
   "metadata": {},
   "outputs": [],
   "source": [
    "graph.show_motion(trajectory)\n",
    "graph.show_pose(trajectory[-1])"
   ]
  },
  {
   "cell_type": "code",
   "execution_count": null,
   "metadata": {},
   "outputs": [],
   "source": []
  },
  {
   "cell_type": "markdown",
   "metadata": {},
   "source": [
    "### set manifolds"
   ]
  },
  {
   "cell_type": "code",
   "execution_count": 25,
   "metadata": {},
   "outputs": [],
   "source": [
    "knob_cyl = ghnd.create_safe(\n",
    "        name=\"knob_cyl\", link_name=\"base_link\", gtype=GEOTYPE.CYLINDER,\n",
    "        center=hinge.center, rpy=hinge.rpy, dims=(RADII*2, RADII*2, 0.01),\n",
    "        color=(0, 0, 1, 0.3), display=True, collision=False, fixed=True)\n",
    "knob_plane = ghnd.create_safe(\n",
    "        name=\"knob_plane\", link_name=\"base_link\", gtype=GEOTYPE.BOX,\n",
    "        center=hinge.center, rpy=hinge.rpy, dims=(RADII*2, RADII*2, 0.01),\n",
    "        color=(0, 0, 1, 0.3), display=True, collision=False, fixed=True)\n",
    "graph.add_marker(knob_cyl)\n",
    "# graph.add_marker(knob_plane)"
   ]
  },
  {
   "cell_type": "code",
   "execution_count": 26,
   "metadata": {},
   "outputs": [],
   "source": [
    "# graph.remove_geometry(knob_cyl)\n",
    "# graph.remove_geometry(knob_plane)"
   ]
  },
  {
   "cell_type": "code",
   "execution_count": 27,
   "metadata": {},
   "outputs": [
    {
     "data": {
      "text/plain": [
       "True"
      ]
     },
     "execution_count": 27,
     "metadata": {},
     "output_type": "execute_result"
    }
   ],
   "source": [
    "mplan.update(graph)\n",
    "mplan.planner.clear_context_cache()\n",
    "mplan.planner.clear_manifolds()"
   ]
  },
  {
   "cell_type": "code",
   "execution_count": 28,
   "metadata": {},
   "outputs": [],
   "source": [
    "keep_radi = make_constraint_list([knob_cyl])\n",
    "mplan.planner.add_union_manifold_py(group_name=GROUP_NAME, tool_link=TOOL_LINK, tool_offset=TOOL_XYZQUAT[0]+TOOL_XYZQUAT[1], \n",
    "                                    geometry_list=keep_radi, fix_surface=True, fix_normal=False, tol=1e-3)"
   ]
  },
  {
   "cell_type": "code",
   "execution_count": 29,
   "metadata": {},
   "outputs": [],
   "source": [
    "keep_plane = make_constraint_list([knob_plane])\n",
    "mplan.planner.add_union_manifold_py(group_name=GROUP_NAME, tool_link=TOOL_LINK, tool_offset=TOOL_XYZQUAT[0]+TOOL_XYZQUAT[1], \n",
    "                                    geometry_list=keep_plane, fix_surface=True, fix_normal=False, tol=2e-3)"
   ]
  },
  {
   "cell_type": "code",
   "execution_count": 30,
   "metadata": {},
   "outputs": [],
   "source": [
    "plane_vert = make_constraint_list([knob_plane])\n",
    "mplan.planner.add_union_manifold_py(group_name=GROUP_NAME, tool_link=TOOL_LINK, tool_offset=TOOL_XYZQUAT[0]+TOOL_XYZQUAT[1], \n",
    "                                    geometry_list=plane_vert, fix_surface=False, fix_normal=True, tol=3e-3)"
   ]
  },
  {
   "cell_type": "code",
   "execution_count": null,
   "metadata": {},
   "outputs": [],
   "source": []
  },
  {
   "cell_type": "markdown",
   "metadata": {},
   "source": [
    "### search plan"
   ]
  },
  {
   "cell_type": "code",
   "execution_count": 31,
   "metadata": {},
   "outputs": [
    {
     "name": "stdout",
     "output_type": "stream",
     "text": [
      "result: True (63)\n"
     ]
    }
   ],
   "source": [
    "for _ in range(10):\n",
    "    trajectory_rough, success = mplan.planner.plan_constrained_py(GROUP_NAME,TOOL_LINK, goal_pose[0]+goal_pose[1], BASE_LINK, Q_ready, timeout=10)\n",
    "    if success:\n",
    "        break\n",
    "print('result: {} ({})'.format(success, len(trajectory_rough)))"
   ]
  },
  {
   "cell_type": "code",
   "execution_count": 32,
   "metadata": {},
   "outputs": [],
   "source": [
    "graph.show_motion(trajectory_rough, period=0.01)"
   ]
  },
  {
   "cell_type": "code",
   "execution_count": 33,
   "metadata": {},
   "outputs": [],
   "source": [
    "trajectory_s, trajectory_vel = apply_vel_acc_lims(trajectory_s, DT=1/4e3, urdf_content=urdf_content, joint_names = graph.joint_names, vel_scale=0.4, acc_scale=0.002)\n",
    "trajectory, trajectory_vel = apply_vel_acc_lims(trajectory_rough, DT=1/4e3, urdf_content=urdf_content, joint_names = graph.joint_names, vel_scale=0.2, acc_scale=0.005)"
   ]
  },
  {
   "cell_type": "code",
   "execution_count": null,
   "metadata": {},
   "outputs": [],
   "source": []
  },
  {
   "cell_type": "code",
   "execution_count": 34,
   "metadata": {},
   "outputs": [],
   "source": [
    "graph.show_pose(trajectory_s[0])"
   ]
  },
  {
   "cell_type": "code",
   "execution_count": 35,
   "metadata": {},
   "outputs": [
    {
     "data": {
      "text/plain": [
       "7081.044912338257"
      ]
     },
     "execution_count": 35,
     "metadata": {},
     "output_type": "execute_result"
    }
   ],
   "source": [
    "gtimer.tic(\"start\")\n",
    "graph.show_motion(trajectory_s[::320], period=0.02)\n",
    "gtimer.toc(\"start\")\n",
    "time.sleep(1)\n",
    "gtimer.tic(\"test\")\n",
    "graph.show_motion(trajectory[::160], period=0.02)\n",
    "gtimer.toc(\"test\")"
   ]
  },
  {
   "cell_type": "code",
   "execution_count": 36,
   "metadata": {
    "scrolled": true
   },
   "outputs": [
    {
     "data": {
      "text/plain": [
       "[<matplotlib.lines.Line2D at 0x7f48040fe410>,\n",
       " <matplotlib.lines.Line2D at 0x7f48040fe510>,\n",
       " <matplotlib.lines.Line2D at 0x7f48040fe550>,\n",
       " <matplotlib.lines.Line2D at 0x7f48040fe610>,\n",
       " <matplotlib.lines.Line2D at 0x7f48040fe6d0>,\n",
       " <matplotlib.lines.Line2D at 0x7f48040fe790>,\n",
       " <matplotlib.lines.Line2D at 0x7f48040fe850>,\n",
       " <matplotlib.lines.Line2D at 0x7f48040fe910>,\n",
       " <matplotlib.lines.Line2D at 0x7f48040fe9d0>,\n",
       " <matplotlib.lines.Line2D at 0x7f48040fea90>,\n",
       " <matplotlib.lines.Line2D at 0x7f48040feb50>,\n",
       " <matplotlib.lines.Line2D at 0x7f48040fec10>,\n",
       " <matplotlib.lines.Line2D at 0x7f48040fecd0>]"
      ]
     },
     "execution_count": 36,
     "metadata": {},
     "output_type": "execute_result"
    },
    {
     "data": {
      "image/png": "[encoded data removed]",
      "text/plain": [
       "<Figure size 432x288 with 1 Axes>"
      ]
     },
     "metadata": {
      "needs_background": "light"
     },
     "output_type": "display_data"
    }
   ],
   "source": [
    "plt.plot(trajectory)"
   ]
  },
  {
   "cell_type": "code",
   "execution_count": 37,
   "metadata": {},
   "outputs": [
    {
     "data": {
      "text/plain": [
       "[<matplotlib.lines.Line2D at 0x7f48140f6dd0>,\n",
       " <matplotlib.lines.Line2D at 0x7f48140f6e50>,\n",
       " <matplotlib.lines.Line2D at 0x7f48140f6e90>,\n",
       " <matplotlib.lines.Line2D at 0x7f48140f6f50>,\n",
       " <matplotlib.lines.Line2D at 0x7f4814100050>,\n",
       " <matplotlib.lines.Line2D at 0x7f4814100110>,\n",
       " <matplotlib.lines.Line2D at 0x7f48141001d0>,\n",
       " <matplotlib.lines.Line2D at 0x7f4814100290>,\n",
       " <matplotlib.lines.Line2D at 0x7f4814100350>,\n",
       " <matplotlib.lines.Line2D at 0x7f4814100410>,\n",
       " <matplotlib.lines.Line2D at 0x7f48141004d0>,\n",
       " <matplotlib.lines.Line2D at 0x7f4814100590>,\n",
       " <matplotlib.lines.Line2D at 0x7f4814100650>]"
      ]
     },
     "execution_count": 37,
     "metadata": {},
     "output_type": "execute_result"
    },
    {
     "data": {
      "image/png": "[encoded data removed]",
      "text/plain": [
       "<Figure size 432x288 with 1 Axes>"
      ]
     },
     "metadata": {
      "needs_background": "light"
     },
     "output_type": "display_data"
    }
   ],
   "source": [
    "plt.plot(trajectory_vel)"
   ]
  },
  {
   "cell_type": "markdown",
   "metadata": {},
   "source": [
    "## Execute motion"
   ]
  },
  {
   "cell_type": "code",
   "execution_count": 38,
   "metadata": {},
   "outputs": [],
   "source": [
    "# prepare indy\n",
    "indy = indytraj_client(server_ip=\"192.168.0.63\", robot_name=\"NRMK-Indy7\")"
   ]
  },
  {
   "cell_type": "code",
   "execution_count": 47,
   "metadata": {},
   "outputs": [
    {
     "name": "stdout",
     "output_type": "stream",
     "text": [
      "Connect: Server IP (192.168.0.63)\n",
      "Connect: Server IP (192.168.0.63)\n",
      "Move finished!\n"
     ]
    },
    {
     "data": {
      "text/plain": [
       "True"
      ]
     },
     "execution_count": 47,
     "metadata": {},
     "output_type": "execute_result"
    }
   ],
   "source": [
    "trajectory_indy = trajectory[:,:6]\n",
    "trajectory_indy_s = trajectory_s[:,:6]\n",
    "\n",
    "indy.connect_and(indy.go_home)\n",
    "indy.connect_and(indy.wait_for_move_finish)"
   ]
  },
  {
   "cell_type": "code",
   "execution_count": 48,
   "metadata": {},
   "outputs": [
    {
     "name": "stdout",
     "output_type": "stream",
     "text": [
      "Connect: Server IP (192.168.0.63)\n"
     ]
    }
   ],
   "source": [
    "indy.connect_and(indy.grasp, False)"
   ]
  },
  {
   "cell_type": "code",
   "execution_count": 49,
   "metadata": {},
   "outputs": [
    {
     "name": "stdout",
     "output_type": "stream",
     "text": [
      "Connect: Server IP (192.168.0.63)\n",
      "Connect: Server IP (192.168.0.63)\n",
      "Move finished!\n"
     ]
    },
    {
     "data": {
      "text/plain": [
       "True"
      ]
     },
     "execution_count": 49,
     "metadata": {},
     "output_type": "execute_result"
    }
   ],
   "source": [
    "indy.connect_and(indy.joint_move_to, np.rad2deg(trajectory_indy_s[0]))\n",
    "indy.connect_and(indy.wait_for_move_finish)"
   ]
  },
  {
   "cell_type": "code",
   "execution_count": 50,
   "metadata": {
    "scrolled": true
   },
   "outputs": [
    {
     "name": "stdout",
     "output_type": "stream",
     "text": [
      "Connect: Server IP (192.168.0.63)\n"
     ]
    }
   ],
   "source": [
    "# Options\n",
    "traj_type = 1  # 1 for joint move, 2 for task move\n",
    "traj_freq = 4000  # control rate\n",
    "dat_size = 6  # DOF\n",
    "\n",
    "# make_trajectory\n",
    "trajectory_d_s = differentiate(trajectory_indy_s, 1./traj_freq)\n",
    "trajectory_dd_s = differentiate(trajectory_indy_s, 1./traj_freq)\n",
    "traj_data_s = np.concatenate([trajectory_indy_s, trajectory_d_s, trajectory_dd_s], axis=-1).flatten()\n",
    "indy.connect_and(indy.move_ext_traj_txt, traj_type, traj_freq, dat_size, traj_data_s)"
   ]
  },
  {
   "cell_type": "code",
   "execution_count": 51,
   "metadata": {},
   "outputs": [
    {
     "name": "stdout",
     "output_type": "stream",
     "text": [
      "Connect: Server IP (192.168.0.63)\n",
      "Header check fail (cmdId): Request 9, Response 9999\n",
      "ErrorCode 14: Robot is moving\n",
      "Connect: Server IP (192.168.0.63)\n",
      "Move finished!\n"
     ]
    },
    {
     "data": {
      "text/plain": [
       "True"
      ]
     },
     "execution_count": 51,
     "metadata": {},
     "output_type": "execute_result"
    }
   ],
   "source": [
    "indy.connect_and(indy.joint_move_to, np.rad2deg(trajectory_indy[0]))\n",
    "indy.connect_and(indy.wait_for_move_finish)"
   ]
  },
  {
   "cell_type": "code",
   "execution_count": 52,
   "metadata": {},
   "outputs": [
    {
     "name": "stdout",
     "output_type": "stream",
     "text": [
      "Connect: Server IP (192.168.0.63)\n"
     ]
    }
   ],
   "source": [
    "indy.connect_and(indy.grasp, True)"
   ]
  },
  {
   "cell_type": "code",
   "execution_count": 53,
   "metadata": {},
   "outputs": [
    {
     "name": "stdout",
     "output_type": "stream",
     "text": [
      "Connect: Server IP (192.168.0.63)\n",
      "list.remove(x): x not in list\n",
      "generate table - Geometry\n",
      "generate table - Handle\n",
      "generate table - Object\n",
      "generate table - Binder\n"
     ]
    }
   ],
   "source": [
    "# Options\n",
    "traj_type = 1  # 1 for joint move, 2 for task move\n",
    "traj_freq = 4000  # control rate\n",
    "dat_size = 6  # DOF\n",
    "\n",
    "# make_trajectory\n",
    "trajectory_d = differentiate(trajectory_indy, 1./traj_freq)\n",
    "trajectory_dd = differentiate(trajectory_indy, 1./traj_freq)\n",
    "traj_data = np.concatenate([trajectory_indy, trajectory_d, trajectory_dd], axis=-1).flatten()\n",
    "indy.connect_and(indy.move_ext_traj_txt, traj_type, traj_freq, dat_size, traj_data)"
   ]
  },
  {
   "cell_type": "code",
   "execution_count": null,
   "metadata": {},
   "outputs": [],
   "source": []
  },
  {
   "cell_type": "code",
   "execution_count": null,
   "metadata": {},
   "outputs": [],
   "source": []
  }
 ],
 "metadata": {
  "kernelspec": {
   "display_name": "Python 2",
   "language": "python",
   "name": "python2"
  },
  "language_info": {
   "codemirror_mode": {
    "name": "ipython",
    "version": 2
   },
   "file_extension": ".py",
   "mimetype": "text/x-python",
   "name": "python",
   "nbconvert_exporter": "python",
   "pygments_lexer": "ipython2",
   "version": "2.7.17"
  }
 },
 "nbformat": 4,
 "nbformat_minor": 2
}
