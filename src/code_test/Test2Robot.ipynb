{
 "cells": [
  {
   "cell_type": "code",
   "execution_count": 1,
   "metadata": {},
   "outputs": [],
   "source": [
    "import os\n",
    "os.chdir(os.path.dirname(os.getcwd()))"
   ]
  },
  {
   "cell_type": "code",
   "execution_count": 2,
   "metadata": {},
   "outputs": [],
   "source": [
    "from pkg.controller.combined_robot import *"
   ]
  },
  {
   "cell_type": "code",
   "execution_count": 3,
   "metadata": {},
   "outputs": [],
   "source": [
    "from pkg.project_config import *"
   ]
  },
  {
   "cell_type": "code",
   "execution_count": 4,
   "metadata": {},
   "outputs": [],
   "source": [
    "import rospy"
   ]
  },
  {
   "cell_type": "code",
   "execution_count": 5,
   "metadata": {},
   "outputs": [],
   "source": [
    "rospy.init_node(\"test_robot\")"
   ]
  },
  {
   "cell_type": "markdown",
   "metadata": {},
   "source": [
    "# test indy dual"
   ]
  },
  {
   "cell_type": "code",
   "execution_count": 37,
   "metadata": {},
   "outputs": [
    {
     "name": "stdout",
     "output_type": "stream",
     "text": [
      "connection_list\n",
      "[False]\n"
     ]
    }
   ],
   "source": [
    "crob = CombinedRobot(robots_on_scene=[\n",
    "    RobotConfig(0, RobotType.indy7, ([-0.44648051261901855, 0.251528263092041, 0.009795188903808594],\n",
    "                                     [7.722511439072125e-05, 0.012837732857963772, -1.5843305292051728]),\n",
    "                INDY_IP)]\n",
    "              , connection_list=[False])"
   ]
  },
  {
   "cell_type": "code",
   "execution_count": 38,
   "metadata": {},
   "outputs": [
    {
     "name": "stdout",
     "output_type": "stream",
     "text": [
      "connection_list\n",
      "[True]\n",
      "Connect: Server IP (192.168.0.63)\n"
     ]
    }
   ],
   "source": [
    "crob.reset_connection([True])"
   ]
  },
  {
   "cell_type": "code",
   "execution_count": 39,
   "metadata": {},
   "outputs": [
    {
     "name": "stdout",
     "output_type": "stream",
     "text": [
      "Connect: Server IP (192.168.0.63)\n"
     ]
    }
   ],
   "source": [
    "crob.joint_make_sure(crob.home_pose)"
   ]
  },
  {
   "cell_type": "code",
   "execution_count": 40,
   "metadata": {},
   "outputs": [
    {
     "name": "stdout",
     "output_type": "stream",
     "text": [
      "Connect: Server IP (192.168.0.63)\n",
      "[-1.98086362e-05 -1.85408835e-04 -1.57084704e+00  5.31577501e-05\n",
      " -1.57079348e+00  4.74622769e-06]\n"
     ]
    }
   ],
   "source": [
    "pose_cur = crob.get_real_robot_pose()\n",
    "print(pose_cur)"
   ]
  },
  {
   "cell_type": "code",
   "execution_count": 41,
   "metadata": {},
   "outputs": [],
   "source": [
    "idx_list = crob.get_indexing_list()\n",
    "pose_cur[idx_list[0][-1]] += np.pi/3"
   ]
  },
  {
   "cell_type": "code",
   "execution_count": 42,
   "metadata": {},
   "outputs": [
    {
     "name": "stdout",
     "output_type": "stream",
     "text": [
      "Connect: Server IP (192.168.0.63)\n"
     ]
    }
   ],
   "source": [
    "crob.joint_make_sure(pose_cur)"
   ]
  },
  {
   "cell_type": "code",
   "execution_count": 43,
   "metadata": {},
   "outputs": [
    {
     "name": "stdout",
     "output_type": "stream",
     "text": [
      "Connect: Server IP (192.168.0.63)\n"
     ]
    }
   ],
   "source": [
    "crob.joint_make_sure(crob.home_pose)"
   ]
  },
  {
   "cell_type": "code",
   "execution_count": 44,
   "metadata": {
    "scrolled": true
   },
   "outputs": [
    {
     "name": "stdout",
     "output_type": "stream",
     "text": [
      "connection_list\n",
      "[False]\n"
     ]
    }
   ],
   "source": [
    "crob.reset_connection([False])"
   ]
  },
  {
   "cell_type": "code",
   "execution_count": null,
   "metadata": {},
   "outputs": [],
   "source": []
  },
  {
   "cell_type": "markdown",
   "metadata": {},
   "source": [
    "# test panda dual"
   ]
  },
  {
   "cell_type": "code",
   "execution_count": 45,
   "metadata": {},
   "outputs": [
    {
     "name": "stdout",
     "output_type": "stream",
     "text": [
      "connection_list\n",
      "[False, False]\n"
     ]
    }
   ],
   "source": [
    "crob = CombinedRobot(robots_on_scene=[\n",
    "    RobotConfig(0, RobotType.panda, ([0.5117020606994629, 0.16830319166183472, 0.014661192893981934],\n",
    "                                     [0.0037190383704881766, 0.013066991871646852, -1.6051065831214242]),\n",
    "                \"{}/{}\".format(PANDA_REPEATER_IP, PANDA_ROBOT_IP))]\n",
    "              , connection_list=[False])"
   ]
  },
  {
   "cell_type": "code",
   "execution_count": 46,
   "metadata": {},
   "outputs": [
    {
     "name": "stdout",
     "output_type": "stream",
     "text": [
      "connection_list\n",
      "[True]\n"
     ]
    }
   ],
   "source": [
    "crob.reset_connection([True])"
   ]
  },
  {
   "cell_type": "code",
   "execution_count": 47,
   "metadata": {},
   "outputs": [],
   "source": [
    "crob.joint_make_sure(crob.home_pose)"
   ]
  },
  {
   "cell_type": "code",
   "execution_count": 48,
   "metadata": {},
   "outputs": [
    {
     "name": "stdout",
     "output_type": "stream",
     "text": [
      "[ 2.22430829e-22 -3.92699082e-01 -2.56583628e-22 -1.57079633e+00\n",
      "  3.96079319e-22  1.57079633e+00  1.57079626e+00]\n"
     ]
    }
   ],
   "source": [
    "pose_cur = crob.get_real_robot_pose()\n",
    "print(pose_cur)"
   ]
  },
  {
   "cell_type": "code",
   "execution_count": 49,
   "metadata": {},
   "outputs": [],
   "source": [
    "idx_list = crob.get_indexing_list()\n",
    "pose_cur[idx_list[0][-1]] += np.pi/3"
   ]
  },
  {
   "cell_type": "code",
   "execution_count": 50,
   "metadata": {},
   "outputs": [],
   "source": [
    "crob.joint_make_sure(pose_cur)"
   ]
  },
  {
   "cell_type": "code",
   "execution_count": 51,
   "metadata": {},
   "outputs": [],
   "source": [
    "crob.joint_make_sure(crob.home_pose)"
   ]
  },
  {
   "cell_type": "code",
   "execution_count": 52,
   "metadata": {
    "scrolled": true
   },
   "outputs": [
    {
     "name": "stdout",
     "output_type": "stream",
     "text": [
      "connection_list\n",
      "[False]\n"
     ]
    }
   ],
   "source": [
    "crob.reset_connection([False])"
   ]
  },
  {
   "cell_type": "code",
   "execution_count": null,
   "metadata": {},
   "outputs": [],
   "source": []
  },
  {
   "cell_type": "markdown",
   "metadata": {},
   "source": [
    "# test indy-panda dual"
   ]
  },
  {
   "cell_type": "code",
   "execution_count": 14,
   "metadata": {},
   "outputs": [
    {
     "name": "stdout",
     "output_type": "stream",
     "text": [
      "connection_list\n",
      "[False, False]\n"
     ]
    }
   ],
   "source": [
    "crob = CombinedRobot(robots_on_scene=[\n",
    "    RobotConfig(0, RobotType.indy7, ([-0.44648051261901855, 0.251528263092041, 0.009795188903808594],\n",
    "                                     [7.722511439072125e-05, 0.012837732857963772, -1.5843305292051728]),\n",
    "                INDY_IP),\n",
    "    RobotConfig(1, RobotType.panda, ([0.5117020606994629, 0.16830319166183472, 0.014661192893981934],\n",
    "                                     [0.0037190383704881766, 0.013066991871646852, -1.6051065831214242]),\n",
    "                \"{}/{}\".format(PANDA_REPEATER_IP, PANDA_ROBOT_IP))]\n",
    "              , connection_list=[False, False])"
   ]
  },
  {
   "cell_type": "code",
   "execution_count": 21,
   "metadata": {},
   "outputs": [
    {
     "name": "stdout",
     "output_type": "stream",
     "text": [
      "connection_list\n",
      "[True, True]\n",
      "Connect: Server IP (192.168.0.63)\n"
     ]
    }
   ],
   "source": [
    "crob.reset_connection([True, True])"
   ]
  },
  {
   "cell_type": "code",
   "execution_count": 22,
   "metadata": {},
   "outputs": [
    {
     "name": "stdout",
     "output_type": "stream",
     "text": [
      "Connect: Server IP (192.168.0.63)\n"
     ]
    }
   ],
   "source": [
    "crob.joint_make_sure(crob.home_pose)"
   ]
  },
  {
   "cell_type": "code",
   "execution_count": 23,
   "metadata": {},
   "outputs": [
    {
     "name": "stdout",
     "output_type": "stream",
     "text": [
      "Connect: Server IP (192.168.0.63)\n",
      "[-6.18029450e-05 -1.99671053e-04 -1.57085892e+00  5.60054867e-05\n",
      " -1.57079728e+00  4.74622769e-06  2.25315862e-20 -3.92699082e-01\n",
      " -3.10517414e-20 -1.57079633e+00  1.78440662e-19  1.57079633e+00\n",
      "  1.57079633e+00]\n"
     ]
    }
   ],
   "source": [
    "pose_cur = crob.get_real_robot_pose()\n",
    "print(pose_cur)"
   ]
  },
  {
   "cell_type": "code",
   "execution_count": 24,
   "metadata": {},
   "outputs": [],
   "source": [
    "idx_list = crob.get_indexing_list()\n",
    "pose_cur[idx_list[0][-1]] += np.pi/3\n",
    "pose_cur[idx_list[1][-1]] += np.pi/3"
   ]
  },
  {
   "cell_type": "code",
   "execution_count": 26,
   "metadata": {},
   "outputs": [
    {
     "name": "stdout",
     "output_type": "stream",
     "text": [
      "Connect: Server IP (192.168.0.63)\n"
     ]
    }
   ],
   "source": [
    "crob.joint_make_sure(pose_cur)"
   ]
  },
  {
   "cell_type": "code",
   "execution_count": 27,
   "metadata": {},
   "outputs": [
    {
     "name": "stdout",
     "output_type": "stream",
     "text": [
      "Connect: Server IP (192.168.0.63)\n"
     ]
    }
   ],
   "source": [
    "crob.joint_make_sure(crob.home_pose)"
   ]
  },
  {
   "cell_type": "code",
   "execution_count": 28,
   "metadata": {
    "scrolled": true
   },
   "outputs": [
    {
     "name": "stdout",
     "output_type": "stream",
     "text": [
      "connection_list\n",
      "[False, False]\n"
     ]
    }
   ],
   "source": [
    "crob.reset_connection([False, False])"
   ]
  },
  {
   "cell_type": "code",
   "execution_count": null,
   "metadata": {},
   "outputs": [],
   "source": []
  },
  {
   "cell_type": "markdown",
   "metadata": {},
   "source": [
    "# test panda-indy dual"
   ]
  },
  {
   "cell_type": "code",
   "execution_count": 29,
   "metadata": {},
   "outputs": [
    {
     "name": "stdout",
     "output_type": "stream",
     "text": [
      "connection_list\n",
      "[False, False]\n"
     ]
    }
   ],
   "source": [
    "crob = CombinedRobot(robots_on_scene=[\n",
    "    RobotConfig(0, RobotType.panda, ([0.5117020606994629, 0.16830319166183472, 0.014661192893981934],\n",
    "                                     [0.0037190383704881766, 0.013066991871646852, -1.6051065831214242]),\n",
    "                \"{}/{}\".format(PANDA_REPEATER_IP, PANDA_ROBOT_IP)),\n",
    "    RobotConfig(1, RobotType.indy7, ([-0.44648051261901855, 0.251528263092041, 0.009795188903808594],\n",
    "                                     [7.722511439072125e-05, 0.012837732857963772, -1.5843305292051728]),\n",
    "                INDY_IP)]\n",
    "              , connection_list=[False, False])"
   ]
  },
  {
   "cell_type": "code",
   "execution_count": 30,
   "metadata": {},
   "outputs": [
    {
     "name": "stdout",
     "output_type": "stream",
     "text": [
      "connection_list\n",
      "[True, True]\n",
      "Connect: Server IP (192.168.0.63)\n"
     ]
    }
   ],
   "source": [
    "crob.reset_connection([True, True])"
   ]
  },
  {
   "cell_type": "code",
   "execution_count": 31,
   "metadata": {},
   "outputs": [
    {
     "name": "stdout",
     "output_type": "stream",
     "text": [
      "Connect: Server IP (192.168.0.63)\n"
     ]
    }
   ],
   "source": [
    "crob.joint_make_sure(crob.home_pose)"
   ]
  },
  {
   "cell_type": "code",
   "execution_count": 32,
   "metadata": {},
   "outputs": [
    {
     "name": "stdout",
     "output_type": "stream",
     "text": [
      "Connect: Server IP (192.168.0.63)\n",
      "[ 2.22430829e-22 -3.92699082e-01 -2.56583628e-22 -1.57079633e+00\n",
      "  3.96079319e-22  1.57079633e+00  1.57079633e+00 -1.90162908e-05\n",
      " -2.03632780e-04 -1.57084624e+00  6.17009599e-05 -1.57079443e+00\n",
      "  1.89849107e-06]\n"
     ]
    }
   ],
   "source": [
    "pose_cur = crob.get_real_robot_pose()\n",
    "print(pose_cur)"
   ]
  },
  {
   "cell_type": "code",
   "execution_count": 33,
   "metadata": {},
   "outputs": [],
   "source": [
    "idx_list = crob.get_indexing_list()\n",
    "pose_cur[idx_list[0][-1]] += np.pi/3\n",
    "pose_cur[idx_list[1][-1]] += np.pi/3"
   ]
  },
  {
   "cell_type": "code",
   "execution_count": 34,
   "metadata": {},
   "outputs": [
    {
     "name": "stdout",
     "output_type": "stream",
     "text": [
      "Connect: Server IP (192.168.0.63)\n"
     ]
    }
   ],
   "source": [
    "crob.joint_make_sure(pose_cur)"
   ]
  },
  {
   "cell_type": "code",
   "execution_count": 35,
   "metadata": {},
   "outputs": [
    {
     "name": "stdout",
     "output_type": "stream",
     "text": [
      "Connect: Server IP (192.168.0.63)\n"
     ]
    }
   ],
   "source": [
    "crob.joint_make_sure(crob.home_pose)"
   ]
  },
  {
   "cell_type": "code",
   "execution_count": 36,
   "metadata": {
    "scrolled": true
   },
   "outputs": [
    {
     "name": "stdout",
     "output_type": "stream",
     "text": [
      "connection_list\n",
      "[False, False]\n"
     ]
    }
   ],
   "source": [
    "crob.reset_connection([False, False])"
   ]
  },
  {
   "cell_type": "code",
   "execution_count": null,
   "metadata": {},
   "outputs": [],
   "source": []
  }
 ],
 "metadata": {
  "kernelspec": {
   "display_name": "Python 2",
   "language": "python",
   "name": "python2"
  },
  "language_info": {
   "codemirror_mode": {
    "name": "ipython",
    "version": 2
   },
   "file_extension": ".py",
   "mimetype": "text/x-python",
   "name": "python",
   "nbconvert_exporter": "python",
   "pygments_lexer": "ipython2",
   "version": "2.7.17"
  }
 },
 "nbformat": 4,
 "nbformat_minor": 2
}
