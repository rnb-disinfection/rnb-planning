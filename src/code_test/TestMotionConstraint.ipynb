{
 "cells": [
  {
   "cell_type": "code",
   "execution_count": 1,
   "metadata": {},
   "outputs": [],
   "source": [
    "import os\n",
    "os.chdir(os.path.dirname(os.getcwd()))"
   ]
  },
  {
   "cell_type": "code",
   "execution_count": null,
   "metadata": {},
   "outputs": [],
   "source": []
  },
  {
   "cell_type": "markdown",
   "metadata": {},
   "source": [
    "## init combined robot config"
   ]
  },
  {
   "cell_type": "code",
   "execution_count": 2,
   "metadata": {},
   "outputs": [
    {
     "name": "stdout",
     "output_type": "stream",
     "text": [
      "connection_list\n",
      "[False]\n"
     ]
    }
   ],
   "source": [
    "from pkg.controller.combined_robot import *\n",
    "from pkg.project_config import *\n",
    "\n",
    "crob = CombinedRobot(robots_on_scene=[\n",
    "    RobotConfig(0, RobotType.indy7, None,\n",
    "                INDY_IP)]\n",
    "              , connection_list=[False])"
   ]
  },
  {
   "cell_type": "code",
   "execution_count": null,
   "metadata": {},
   "outputs": [],
   "source": []
  },
  {
   "cell_type": "markdown",
   "metadata": {},
   "source": [
    "## init stereo aruco detector"
   ]
  },
  {
   "cell_type": "code",
   "execution_count": 3,
   "metadata": {
    "scrolled": true
   },
   "outputs": [
    {
     "name": "stdout",
     "output_type": "stream",
     "text": [
      "Device configuration: \n",
      "\tcolor_format: 3 \n",
      "\t(0:JPG, 1:NV12, 2:YUY2, 3:BGRA32)\n",
      "\n",
      "\tcolor_resolution: 5 \n",
      "\t(0:OFF, 1:720p, 2:1080p, 3:1440p, 4:1536p, 5:2160p, 6:3072p)\n",
      "\n",
      "\tdepth_mode: 3 \n",
      "\t(0:OFF, 1:NFOV_2X2BINNED, 2:NFOV_UNBINNED,3:WFOV_2X2BINNED, 4:WFOV_UNBINNED, 5:Passive IR)\n",
      "\n",
      "\tcamera_fps: 2 \n",
      "\t(0:5 FPS, 1:15 FPS, 2:30 FPS)\n",
      "\n",
      "\tsynchronized_images_only: False \n",
      "\t(True of False). Drop images if the color and depth are not synchronized\n",
      "\n",
      "\tdepth_delay_off_color_usec: 0 ms. \n",
      "\tDelay between the color image and the depth image\n",
      "\n",
      "\twired_sync_mode: 0\n",
      "\t(0:Standalone mode, 1:Master mode, 2:Subordinate mode)\n",
      "\n",
      "\tsubordinate_delay_off_master_usec: 0 ms.\n",
      "\tThe external synchronization timing.\n",
      "\n",
      "\tdisable_streaming_indicator: False \n",
      "\t(True or False). Streaming indicator automatically turns on when the color or depth camera's are in use.\n",
      "\n",
      "\n",
      "Start streaming\n"
     ]
    }
   ],
   "source": [
    "from pkg.marker_config import *\n",
    "from pkg.detector.aruco.stereo import ArucoStereo\n",
    "from pkg.detector.camera.realsense import RealSense\n",
    "from pkg.detector.camera.kinect import Kinect\n",
    "aruco_map = get_aruco_map()\n",
    "stereo = ArucoStereo(aruco_map, [Kinect(), RealSense()])\n",
    "stereo.initialize()\n",
    "# stereo.calibrate()"
   ]
  },
  {
   "cell_type": "code",
   "execution_count": null,
   "metadata": {},
   "outputs": [],
   "source": []
  },
  {
   "cell_type": "code",
   "execution_count": 4,
   "metadata": {},
   "outputs": [],
   "source": [
    "from pkg.geometry.builder.scene_builder import SceneBuilder\n",
    "s_builder = SceneBuilder(stereo, base_link=\"base_link\")\n",
    "# s_builder.reset_reference_coord(ref_name=\"floor\")"
   ]
  },
  {
   "cell_type": "code",
   "execution_count": null,
   "metadata": {},
   "outputs": [],
   "source": []
  },
  {
   "cell_type": "markdown",
   "metadata": {},
   "source": [
    "## get ghnd with detected robot config"
   ]
  },
  {
   "cell_type": "code",
   "execution_count": 5,
   "metadata": {
    "scrolled": true
   },
   "outputs": [
    {
     "name": "stderr",
     "output_type": "stream",
     "text": [
      "Unknown tag \"hardwareInterface\" in /robot[@name='custom_robots']/transmission[@name='indy0_tran0']/actuator[@name='indy0_motor0']\n",
      "Unknown tag \"hardwareInterface\" in /robot[@name='custom_robots']/transmission[@name='indy0_tran1']/actuator[@name='indy0_motor1']\n",
      "Unknown tag \"hardwareInterface\" in /robot[@name='custom_robots']/transmission[@name='indy0_tran2']/actuator[@name='indy0_motor2']\n",
      "Unknown tag \"hardwareInterface\" in /robot[@name='custom_robots']/transmission[@name='indy0_tran3']/actuator[@name='indy0_motor3']\n",
      "Unknown tag \"hardwareInterface\" in /robot[@name='custom_robots']/transmission[@name='indy0_tran4']/actuator[@name='indy0_motor4']\n",
      "Unknown tag \"hardwareInterface\" in /robot[@name='custom_robots']/transmission[@name='indy0_tran5']/actuator[@name='indy0_motor5']\n"
     ]
    },
    {
     "name": "stdout",
     "output_type": "stream",
     "text": [
      "Please create a subscriber to the marker\n",
      "publication OK\n",
      "published: [0, 0, 0, 0, 0, 0]\n"
     ]
    }
   ],
   "source": [
    "# xyz_rpy_robots = s_builder.detect_items(level_mask=[DetectionLevel.ROBOT])\n",
    "xyz_rpy_robots = {\"indy0\": ((0,0,0), (0,0,-np.pi/2))}\n",
    "crob.update_robot_pos_dict(xyz_rpy_robots=xyz_rpy_robots)\n",
    "gscene = s_builder.create_gscene(crob)"
   ]
  },
  {
   "cell_type": "code",
   "execution_count": null,
   "metadata": {},
   "outputs": [],
   "source": []
  },
  {
   "cell_type": "markdown",
   "metadata": {},
   "source": [
    "## add environment"
   ]
  },
  {
   "cell_type": "code",
   "execution_count": 6,
   "metadata": {},
   "outputs": [
    {
     "name": "stdout",
     "output_type": "stream",
     "text": [
      "Please create a subscriber to the marker\n"
     ]
    }
   ],
   "source": [
    "floor = gscene.create_safe(GEOTYPE.BOX, \"floor\", \"base_link\", (3,3,0.01), (0,0,0), \n",
    "                           rpy=(0,0,0), color=(0.8,0.8,0.8,0.5), display=True, fixed=True, collision=True)\n",
    "wall = gscene.create_safe(GEOTYPE.BOX, \"wall\", \"base_link\", (3,3,0.01), (0,0.2,0), \n",
    "                           rpy=(np.pi/2,0,0), color=(0.8,0.8,0.8,0.5), display=True, fixed=True, collision=True)\n",
    "wp1 = gscene.create_safe(GEOTYPE.BOX, \"wp1\", \"base_link\", (0.1,0.1,0.01), (0.2,-0.5,0.),rpy=(0,0,np.pi/2), \n",
    "                         color=(0.8,0.2,0.2,1), display=True, fixed=True, collision=False)\n",
    "wp2 = gscene.create_safe(GEOTYPE.BOX, \"wp2\", \"base_link\", (0.1,0.1,0.01), (-0.2,-0.5,0), rpy=(0,0,np.pi/2), \n",
    "                         color=(0.8,0.2,0.2,1), display=True, fixed=True, collision=False)\n",
    "track = gscene.create_safe(GEOTYPE.BOX, \"track\", \"base_link\", (0.1,0.5,0.01), (0,-0.5,0), rpy=(0,0,np.pi/2), \n",
    "                           color=(1,0.7,0.7,0.5), display=True, fixed=True, collision=False)\n",
    "goal = gscene.create_safe(GEOTYPE.BOX, \"goal\", \"base_link\", (0.1,0.1,0.01), (-0.4,-0.3,0), \n",
    "                          rpy=(0,0,0), color=(0.8,0.8,0.2,1), display=True, fixed=True, collision=False)"
   ]
  },
  {
   "cell_type": "code",
   "execution_count": 7,
   "metadata": {},
   "outputs": [],
   "source": [
    "gtems = s_builder.add_robot_geometries(color=(0,1,0,0.5), display=True, collision=True, exclude_link=[\"panda1_link7\"])"
   ]
  },
  {
   "cell_type": "code",
   "execution_count": null,
   "metadata": {},
   "outputs": [],
   "source": []
  },
  {
   "cell_type": "markdown",
   "metadata": {},
   "source": [
    "## add brush"
   ]
  },
  {
   "cell_type": "code",
   "execution_count": 8,
   "metadata": {},
   "outputs": [
    {
     "data": {
      "text/plain": [
       "<pkg.geometry.geometry.GeometryItem at 0x7f17f082ce50>"
      ]
     },
     "execution_count": 8,
     "metadata": {},
     "output_type": "execute_result"
    }
   ],
   "source": [
    "gscene.create_safe(gtype=GEOTYPE.BOX, name=\"brush_body\", link_name=\"base_link\", dims=(0.2,0.07,0.02), \n",
    "                   center=(0,-0.5,0.045), rpy=(0,0,np.pi/2), color=(0.7,0.7,0.3,1), display=True, collision=True, fixed=False)\n",
    "gscene.create_safe(gtype=GEOTYPE.BOX, name=\"brush_handle\", link_name=\"base_link\", dims=(0.2,0.03,0.05), center=(0,0,0.035), rpy=(0,0,0), \n",
    "                   color=(0.7,0.7,0.3,1), display=True, collision=True, fixed=False, parent=\"brush_body\")\n",
    "gscene.create_safe(gtype=GEOTYPE.BOX, name=\"brush_face\", link_name=\"base_link\", dims=(0.19,0.06,0.03), center=(0,0,-0.025), rpy=(0,0,0), \n",
    "                   color=(0.8,0.8,0.8,1), display=True, collision=False, fixed=False, parent=\"brush_body\")"
   ]
  },
  {
   "cell_type": "code",
   "execution_count": null,
   "metadata": {},
   "outputs": [],
   "source": []
  },
  {
   "cell_type": "markdown",
   "metadata": {},
   "source": [
    "## init planning scene"
   ]
  },
  {
   "cell_type": "code",
   "execution_count": 9,
   "metadata": {},
   "outputs": [],
   "source": [
    "from pkg.planning.scene import PlanningScene\n",
    "pscene = PlanningScene(gscene, combined_robot=crob)"
   ]
  },
  {
   "cell_type": "code",
   "execution_count": null,
   "metadata": {},
   "outputs": [],
   "source": []
  },
  {
   "cell_type": "markdown",
   "metadata": {},
   "source": [
    "## Register binders"
   ]
  },
  {
   "cell_type": "code",
   "execution_count": 10,
   "metadata": {},
   "outputs": [],
   "source": [
    "from pkg.planning.constraint.constraint_actor import Gripper2Tool, PlacePlane, SweepTool"
   ]
  },
  {
   "cell_type": "code",
   "execution_count": 11,
   "metadata": {},
   "outputs": [
    {
     "data": {
      "text/plain": [
       "<pkg.geometry.geometry.GeometryItem at 0x7f17e880df10>"
      ]
     },
     "execution_count": 11,
     "metadata": {},
     "output_type": "execute_result"
    }
   ],
   "source": [
    "gscene.create_safe(gtype=GEOTYPE.SPHERE, name=\"grip0\", link_name=\"indy0_tcp\", \n",
    "                 dims=(0.01,)*3, center=(0,0,0.14), rpy=(-np.pi/2,0,0), color=(1,0,0,1), display=True, collision=False, fixed=True)"
   ]
  },
  {
   "cell_type": "code",
   "execution_count": 12,
   "metadata": {},
   "outputs": [
    {
     "data": {
      "text/plain": [
       "<pkg.planning.constraint.constraint_actor.SweepTool at 0x7f17eb15c650>"
      ]
     },
     "execution_count": 12,
     "metadata": {},
     "output_type": "execute_result"
    }
   ],
   "source": [
    "pscene.create_binder(bname=\"grip0\", gname=\"grip0\", rname=\"indy0\", _type=Gripper2Tool, point=(0,0,0), rpy=(0,0,0))\n",
    "pscene.create_binder(bname=\"floor\", gname=\"floor\", _type=PlacePlane)\n",
    "pscene.create_binder(bname=\"goal_bd\", gname=\"goal\", _type=PlacePlane, point=(0,0,0.005), rpy=(0,0,0))\n",
    "pscene.create_binder(bname=\"brush_face\", gname=\"brush_face\", _type=SweepTool, point=(0,0,-0.015), rpy=(0,0,0))"
   ]
  },
  {
   "cell_type": "code",
   "execution_count": null,
   "metadata": {},
   "outputs": [],
   "source": []
  },
  {
   "cell_type": "markdown",
   "metadata": {},
   "source": [
    "## add objects"
   ]
  },
  {
   "cell_type": "code",
   "execution_count": 13,
   "metadata": {},
   "outputs": [],
   "source": [
    "from pkg.planning.constraint.constraint_subject import CustomObject, Grasp2Point, PlacePoint, SweepPoint, SweepTask"
   ]
  },
  {
   "cell_type": "code",
   "execution_count": 14,
   "metadata": {},
   "outputs": [],
   "source": [
    "brush_handle = gscene.NAME_DICT[\"brush_handle\"]\n",
    "brush_face = gscene.NAME_DICT[\"brush_face\"]\n",
    "brush = pscene.create_object(oname=\"brush\", gname=\"brush_body\", _type=CustomObject, \n",
    "                             action_points_dict = {\"handle\": Grasp2Point(\"handle\", brush_handle, [0,0,0], [np.pi/2,0,0]),\n",
    "                                                   \"face\": PlacePoint(\"face\", brush_face, [0,0,-0.015], [0,0,0])})"
   ]
  },
  {
   "cell_type": "code",
   "execution_count": 15,
   "metadata": {},
   "outputs": [],
   "source": [
    "sweep = pscene.create_object(oname=\"sweep\", gname=\"floor\", _type=SweepTask, \n",
    "                             action_points_dict = {\"wp1\": SweepPoint(\"wp1\", wp1, [0,0,0.005], [0,0,0]),\n",
    "                                                   \"wp2\": SweepPoint(\"wp2\", wp2, [0,0,0.005], [0,0,0])})"
   ]
  },
  {
   "cell_type": "code",
   "execution_count": null,
   "metadata": {},
   "outputs": [],
   "source": []
  },
  {
   "cell_type": "markdown",
   "metadata": {},
   "source": [
    "### planning pipeline"
   ]
  },
  {
   "cell_type": "code",
   "execution_count": 16,
   "metadata": {
    "scrolled": false
   },
   "outputs": [],
   "source": [
    "from pkg.planning.motion.moveit.moveit_planner import MoveitPlanner\n",
    "mplan = MoveitPlanner(pscene)\n",
    "mplan.update_gscene()\n",
    "from pkg.planning.task.object_a_star import ObjectAstar\n",
    "tplan = ObjectAstar(pscene)\n",
    "tplan.prepare()\n",
    "from pkg.planning.pipeline import PlanningPipeline\n",
    "ppline = PlanningPipeline(pscene)\n",
    "ppline.set_motion(mplan)\n",
    "ppline.set_sampler(tplan)"
   ]
  },
  {
   "cell_type": "code",
   "execution_count": null,
   "metadata": {},
   "outputs": [],
   "source": []
  },
  {
   "cell_type": "markdown",
   "metadata": {},
   "source": [
    "## ui"
   ]
  },
  {
   "cell_type": "code",
   "execution_count": 17,
   "metadata": {},
   "outputs": [
    {
     "name": "stdout",
     "output_type": "stream",
     "text": [
      "Dash is running on http://0.0.0.0:8050/\n",
      "\n",
      " * Serving Flask app \"pkg.ui.dash_launcher\" (lazy loading)\n",
      " * Environment: production\n"
     ]
    }
   ],
   "source": [
    "from pkg.ui.ui_broker import *\n",
    "\n",
    "# start UI\n",
    "ui_broker = UIBroker.instance()\n",
    "ui_broker.initialize(ppline, s_builder)\n",
    "ui_broker.start_server()\n",
    "\n",
    "ui_broker.set_tables()"
   ]
  },
  {
   "cell_type": "code",
   "execution_count": null,
   "metadata": {},
   "outputs": [],
   "source": []
  },
  {
   "cell_type": "markdown",
   "metadata": {},
   "source": [
    "## Test plan"
   ]
  },
  {
   "cell_type": "code",
   "execution_count": 18,
   "metadata": {},
   "outputs": [
    {
     "name": "stdout",
     "output_type": "stream",
     "text": [
      "   WARNING: This is a development server. Do not use it in a production deployment.\n",
      "   Use a production WSGI server instead.\n"
     ]
    }
   ],
   "source": [
    "from pkg.planning.constraint.constraint_common \\\n",
    "            import sample_redundancy, combine_redundancy\n",
    "\n",
    "initial_state = pscene.update_state(crob.home_pose)"
   ]
  },
  {
   "cell_type": "code",
   "execution_count": 19,
   "metadata": {
    "scrolled": true
   },
   "outputs": [
    {
     "name": "stdout",
     "output_type": "stream",
     "text": [
      " * Debug mode: off\n",
      "node: ('floor', 0)->('floor', 1) = fail\n",
      "node: ('floor', 0)->('grip0', 0) = fail\n",
      "node: ('floor', 0)->('grip0', 0) = fail\n",
      "node: ('floor', 0)->('floor', 1) = fail\n",
      "node: ('floor', 0)->('grip0', 0) = success\n",
      "Remaining:4->3 / branching: 0->1 (0.46/300.0 s, steps/err: 7(170.247077942 ms)/0.250886552268)\n",
      "======================================================================================================================================================\n",
      "node: ('grip0', 0)->('goal', 0) = success\n",
      "Remaining:3->2 / branching: 1->2 (0.7/300.0 s, steps/err: 10(244.799137115 ms)/0.00108378221699)\n",
      "======================================================================================================================================================\n",
      "node: ('goal', 0)->('goal', 1) = fail\n",
      "node: ('goal', 0)->('goal', 1) = fail\n",
      "node: ('goal', 0)->('goal', 1) = fail\n",
      "node: ('goal', 0)->('goal', 1) = fail\n",
      "node: ('goal', 0)->('goal', 1) = fail\n",
      "node: ('goal', 0)->('goal', 1) = fail\n",
      "node: ('goal', 0)->('goal', 1) = fail\n",
      "node: ('goal', 0)->('goal', 1) = fail\n",
      "node: ('goal', 0)->('goal', 1) = fail\n",
      "node: ('goal', 0)->('goal', 1) = fail\n",
      "node: ('goal', 0)->('goal', 1) = fail\n",
      "node: ('goal', 0)->('goal', 1) = fail\n",
      "node: ('goal', 0)->('goal', 1) = fail\n",
      "node: ('goal', 0)->('goal', 1) = fail\n",
      "node: ('goal', 0)->('goal', 1) = fail\n",
      "node: ('goal', 0)->('goal', 1) = fail\n",
      "node: ('goal', 0)->('goal', 1) = fail\n",
      "node: ('goal', 0)->('goal', 1) = fail\n",
      "node: ('goal', 0)->('goal', 1) = fail\n",
      "node: ('goal', 0)->('goal', 1) = fail\n",
      "node: ('goal', 0)->('goal', 1) = fail\n",
      "node: ('goal', 0)->('goal', 1) = fail\n",
      "node: ('goal', 0)->('goal', 1) = fail\n",
      "node: ('goal', 0)->('goal', 1) = fail\n",
      "node: ('goal', 0)->('goal', 1) = fail\n",
      "node: ('goal', 0)->('goal', 1) = fail\n",
      "node: ('goal', 0)->('goal', 1) = fail\n",
      "node: ('goal', 0)->('goal', 1) = fail\n",
      "node: ('goal', 0)->('goal', 1) = fail\n",
      "node: ('goal', 0)->('goal', 1) = fail\n",
      "node: ('grip0', 0)->('goal', 0) = success\n",
      "Remaining:3->2 / branching: 1->3 (0.84/300.0 s, steps/err: 5(132.370948792 ms)/0.00153565511465)\n",
      "======================================================================================================================================================\n",
      "node: ('goal', 0)->('goal', 1) = fail\n",
      "node: ('goal', 0)->('goal', 1) = fail\n",
      "node: ('goal', 0)->('goal', 1) = fail\n",
      "node: ('goal', 0)->('goal', 1) = fail\n",
      "node: ('goal', 0)->('goal', 1) = fail\n",
      "node: ('goal', 0)->('goal', 1) = fail\n",
      "node: ('goal', 0)->('goal', 1) = fail\n",
      "node: ('goal', 0)->('goal', 1) = fail\n",
      "node: ('goal', 0)->('goal', 1) = fail\n",
      "node: ('goal', 0)->('goal', 1) = fail\n",
      "node: ('goal', 0)->('goal', 1) = fail\n",
      "node: ('goal', 0)->('goal', 1) = fail\n",
      "node: ('goal', 0)->('goal', 1) = fail\n",
      "node: ('goal', 0)->('goal', 1) = fail\n",
      "node: ('goal', 0)->('goal', 1) = fail\n",
      "node: ('goal', 0)->('goal', 1) = fail\n",
      "node: ('goal', 0)->('goal', 1) = fail\n",
      "node: ('goal', 0)->('goal', 1) = fail\n",
      "node: ('goal', 0)->('goal', 1) = fail\n",
      "node: ('goal', 0)->('goal', 1) = fail\n",
      "node: ('goal', 0)->('goal', 1) = fail\n",
      "node: ('goal', 0)->('goal', 1) = fail\n",
      "node: ('goal', 0)->('goal', 1) = fail\n",
      "node: ('goal', 0)->('goal', 1) = fail\n",
      "node: ('goal', 0)->('goal', 1) = fail\n",
      "node: ('goal', 0)->('goal', 1) = fail\n",
      "node: ('goal', 0)->('goal', 1) = fail\n",
      "node: ('goal', 0)->('goal', 1) = fail\n",
      "node: ('goal', 0)->('goal', 1) = fail\n",
      "node: ('goal', 0)->('goal', 1) = fail\n",
      "node: ('grip0', 0)->('grip0', 1) = success\n",
      "Remaining:3->2 / branching: 1->4 (0.97/300.0 s, steps/err: 4(119.63391304 ms)/0.317855674376)\n",
      "======================================================================================================================================================\n",
      "node: ('grip0', 1)->('grip0', 2) = fail\n",
      "node: ('grip0', 1)->('goal', 1) = success\n",
      "Remaining:2->1 / branching: 4->5 (1.27/300.0 s, steps/err: 7(177.536010742 ms)/0.00171595526551)\n",
      "======================================================================================================================================================\n",
      "node: ('goal', 1)->('goal', 2) = fail\n",
      "node: ('goal', 1)->('goal', 2) = fail\n",
      "node: ('goal', 1)->('goal', 2) = fail\n",
      "node: ('goal', 1)->('goal', 2) = fail\n",
      "node: ('goal', 1)->('goal', 2) = fail\n",
      "node: ('goal', 1)->('goal', 2) = fail\n",
      "node: ('goal', 1)->('goal', 2) = fail\n",
      "node: ('goal', 1)->('goal', 2) = fail\n",
      "node: ('goal', 1)->('goal', 2) = fail\n",
      "node: ('goal', 1)->('goal', 2) = fail\n",
      "node: ('goal', 1)->('goal', 2) = fail\n",
      "node: ('goal', 1)->('goal', 2) = fail\n",
      "node: ('goal', 1)->('goal', 2) = fail\n",
      "node: ('goal', 1)->('goal', 2) = fail\n",
      "node: ('goal', 1)->('goal', 2) = fail\n",
      "node: ('goal', 1)->('goal', 2) = fail\n",
      "node: ('goal', 1)->('goal', 2) = fail\n",
      "node: ('goal', 1)->('goal', 2) = fail\n",
      "node: ('goal', 1)->('goal', 2) = fail\n",
      "node: ('goal', 1)->('goal', 2) = fail\n",
      "node: ('goal', 1)->('goal', 2) = fail\n",
      "node: ('goal', 1)->('goal', 2) = fail\n",
      "node: ('goal', 1)->('goal', 2) = fail\n",
      "node: ('goal', 1)->('goal', 2) = fail\n",
      "node: ('goal', 1)->('goal', 2) = fail\n",
      "node: ('goal', 1)->('goal', 2) = fail\n",
      "node: ('goal', 1)->('goal', 2) = fail\n",
      "node: ('goal', 1)->('goal', 2) = fail\n",
      "node: ('goal', 1)->('goal', 2) = fail\n",
      "node: ('goal', 1)->('goal', 2) = fail\n",
      "node: ('grip0', 1)->('goal', 1) = success\n",
      "Remaining:2->1 / branching: 4->6 (1.46/300.0 s, steps/err: 7(179.82006073 ms)/0.00203015507914)\n",
      "======================================================================================================================================================\n",
      "node: ('goal', 1)->('goal', 2) = fail\n",
      "node: ('goal', 1)->('goal', 2) = fail\n",
      "node: ('goal', 1)->('goal', 2) = fail\n",
      "node: ('goal', 1)->('goal', 2) = fail\n",
      "node: ('goal', 1)->('goal', 2) = fail\n",
      "node: ('goal', 1)->('goal', 2) = fail\n",
      "node: ('goal', 1)->('goal', 2) = fail\n",
      "node: ('goal', 1)->('goal', 2) = fail\n",
      "node: ('goal', 1)->('goal', 2) = fail\n",
      "node: ('goal', 1)->('goal', 2) = fail\n",
      "node: ('goal', 1)->('goal', 2) = fail\n",
      "node: ('goal', 1)->('goal', 2) = fail\n",
      "node: ('goal', 1)->('goal', 2) = fail\n",
      "node: ('goal', 1)->('goal', 2) = fail\n",
      "node: ('goal', 1)->('goal', 2) = fail\n",
      "node: ('goal', 1)->('goal', 2) = fail\n",
      "node: ('goal', 1)->('goal', 2) = fail\n",
      "node: ('goal', 1)->('goal', 2) = fail\n",
      "node: ('goal', 1)->('goal', 2) = fail\n",
      "node: ('goal', 1)->('goal', 2) = fail\n",
      "node: ('goal', 1)->('goal', 2) = fail\n",
      "node: ('goal', 1)->('goal', 2) = fail\n",
      "node: ('goal', 1)->('goal', 2) = fail\n",
      "node: ('goal', 1)->('goal', 2) = fail\n",
      "node: ('goal', 1)->('goal', 2) = fail\n",
      "node: ('goal', 1)->('goal', 2) = fail\n",
      "node: ('goal', 1)->('goal', 2) = fail\n",
      "node: ('goal', 1)->('goal', 2) = fail\n",
      "node: ('goal', 1)->('goal', 2) = fail\n",
      "node: ('goal', 1)->('goal', 2) = fail\n",
      "node: ('grip0', 1)->('goal', 1) = success\n",
      "Remaining:2->1 / branching: 4->7 (1.74/300.0 s, steps/err: 11(271.914958954 ms)/0.00146897599627)\n",
      "======================================================================================================================================================\n",
      "node: ('goal', 1)->('goal', 2) = fail\n",
      "node: ('goal', 1)->('goal', 2) = fail\n",
      "node: ('goal', 1)->('goal', 2) = fail\n",
      "node: ('goal', 1)->('goal', 2) = fail\n",
      "node: ('goal', 1)->('goal', 2) = fail\n",
      "node: ('goal', 1)->('goal', 2) = fail\n",
      "node: ('goal', 1)->('goal', 2) = fail\n",
      "node: ('goal', 1)->('goal', 2) = fail\n",
      "node: ('goal', 1)->('goal', 2) = fail\n",
      "node: ('goal', 1)->('goal', 2) = fail\n",
      "node: ('goal', 1)->('goal', 2) = fail\n",
      "node: ('goal', 1)->('goal', 2) = fail\n",
      "node: ('goal', 1)->('goal', 2) = fail\n",
      "node: ('goal', 1)->('goal', 2) = fail\n",
      "node: ('goal', 1)->('goal', 2) = fail\n",
      "node: ('goal', 1)->('goal', 2) = fail\n",
      "node: ('goal', 1)->('goal', 2) = fail\n",
      "node: ('goal', 1)->('goal', 2) = fail\n",
      "node: ('goal', 1)->('goal', 2) = fail\n",
      "node: ('goal', 1)->('goal', 2) = fail\n",
      "node: ('goal', 1)->('goal', 2) = fail\n",
      "node: ('goal', 1)->('goal', 2) = fail\n",
      "node: ('goal', 1)->('goal', 2) = fail\n",
      "node: ('goal', 1)->('goal', 2) = fail\n",
      "node: ('goal', 1)->('goal', 2) = fail\n",
      "node: ('goal', 1)->('goal', 2) = fail\n",
      "node: ('goal', 1)->('goal', 2) = fail\n",
      "node: ('goal', 1)->('goal', 2) = fail\n",
      "node: ('goal', 1)->('goal', 2) = fail\n",
      "node: ('goal', 1)->('goal', 2) = fail\n",
      "node: ('grip0', 1)->('grip0', 2) = fail\n",
      "node: ('grip0', 1)->('grip0', 2) = fail\n",
      "node: ('grip0', 1)->('grip0', 2) = fail\n",
      "node: ('grip0', 1)->('goal', 1) = success\n",
      "Remaining:2->1 / branching: 4->8 (2.33/300.0 s, steps/err: 9(227.051019669 ms)/0.00138858364233)\n",
      "======================================================================================================================================================\n",
      "node: ('goal', 1)->('goal', 2) = fail\n",
      "node: ('goal', 1)->('goal', 2) = fail\n",
      "node: ('goal', 1)->('goal', 2) = fail\n",
      "node: ('goal', 1)->('goal', 2) = fail\n",
      "node: ('goal', 1)->('goal', 2) = fail\n",
      "node: ('goal', 1)->('goal', 2) = fail\n",
      "node: ('goal', 1)->('goal', 2) = fail\n",
      "node: ('goal', 1)->('goal', 2) = fail\n",
      "node: ('goal', 1)->('goal', 2) = fail\n",
      "node: ('goal', 1)->('goal', 2) = fail\n",
      "node: ('goal', 1)->('goal', 2) = fail\n",
      "node: ('goal', 1)->('goal', 2) = fail\n",
      "node: ('goal', 1)->('goal', 2) = fail\n",
      "node: ('goal', 1)->('goal', 2) = fail\n",
      "node: ('goal', 1)->('goal', 2) = fail\n",
      "node: ('goal', 1)->('goal', 2) = fail\n",
      "node: ('goal', 1)->('goal', 2) = fail\n",
      "node: ('goal', 1)->('goal', 2) = fail\n",
      "node: ('goal', 1)->('goal', 2) = fail\n",
      "node: ('goal', 1)->('goal', 2) = fail\n",
      "node: ('goal', 1)->('goal', 2) = fail\n",
      "node: ('goal', 1)->('goal', 2) = fail\n",
      "node: ('goal', 1)->('goal', 2) = fail\n",
      "node: ('goal', 1)->('goal', 2) = fail\n",
      "node: ('goal', 1)->('goal', 2) = fail\n",
      "node: ('goal', 1)->('goal', 2) = fail\n",
      "node: ('goal', 1)->('goal', 2) = fail\n",
      "node: ('goal', 1)->('goal', 2) = fail\n",
      "node: ('goal', 1)->('goal', 2) = fail\n",
      "node: ('goal', 1)->('goal', 2) = fail\n"
     ]
    },
    {
     "name": "stdout",
     "output_type": "stream",
     "text": [
      "node: ('grip0', 1)->('goal', 1) = success\n",
      "Remaining:2->1 / branching: 4->9 (2.61/300.0 s, steps/err: 11(275.132894516 ms)/0.00161812024287)\n",
      "======================================================================================================================================================\n",
      "node: ('goal', 1)->('goal', 2) = fail\n",
      "node: ('goal', 1)->('goal', 2) = fail\n",
      "node: ('goal', 1)->('goal', 2) = fail\n",
      "node: ('goal', 1)->('goal', 2) = fail\n",
      "node: ('goal', 1)->('goal', 2) = fail\n",
      "node: ('goal', 1)->('goal', 2) = fail\n",
      "node: ('goal', 1)->('goal', 2) = fail\n",
      "node: ('goal', 1)->('goal', 2) = fail\n",
      "node: ('goal', 1)->('goal', 2) = fail\n",
      "node: ('goal', 1)->('goal', 2) = fail\n",
      "node: ('goal', 1)->('goal', 2) = fail\n",
      "node: ('goal', 1)->('goal', 2) = fail\n",
      "node: ('goal', 1)->('goal', 2) = fail\n",
      "node: ('goal', 1)->('goal', 2) = fail\n",
      "node: ('goal', 1)->('goal', 2) = fail\n",
      "node: ('goal', 1)->('goal', 2) = fail\n",
      "node: ('goal', 1)->('goal', 2) = fail\n",
      "node: ('goal', 1)->('goal', 2) = fail\n",
      "node: ('goal', 1)->('goal', 2) = fail\n",
      "node: ('goal', 1)->('goal', 2) = fail\n",
      "node: ('goal', 1)->('goal', 2) = fail\n",
      "node: ('goal', 1)->('goal', 2) = fail\n",
      "node: ('goal', 1)->('goal', 2) = fail\n",
      "node: ('goal', 1)->('goal', 2) = fail\n",
      "node: ('goal', 1)->('goal', 2) = fail\n",
      "node: ('goal', 1)->('goal', 2) = fail\n",
      "node: ('goal', 1)->('goal', 2) = fail\n",
      "node: ('goal', 1)->('goal', 2) = fail\n",
      "node: ('goal', 1)->('goal', 2) = fail\n",
      "node: ('goal', 1)->('goal', 2) = fail\n",
      "node: ('grip0', 1)->('goal', 1) = success\n",
      "Remaining:2->1 / branching: 4->10 (3.26/300.0 s, steps/err: 28(634.737968445 ms)/0.00139655459107)\n",
      "======================================================================================================================================================\n",
      "node: ('goal', 1)->('goal', 2) = fail\n",
      "node: ('goal', 1)->('goal', 2) = fail\n",
      "node: ('goal', 1)->('goal', 2) = fail\n",
      "node: ('goal', 1)->('goal', 2) = fail\n",
      "node: ('goal', 1)->('goal', 2) = fail\n",
      "node: ('goal', 1)->('goal', 2) = fail\n",
      "node: ('goal', 1)->('goal', 2) = fail\n",
      "node: ('goal', 1)->('goal', 2) = fail\n",
      "node: ('goal', 1)->('goal', 2) = fail\n",
      "node: ('goal', 1)->('goal', 2) = fail\n",
      "node: ('goal', 1)->('goal', 2) = fail\n",
      "node: ('goal', 1)->('goal', 2) = fail\n",
      "node: ('goal', 1)->('goal', 2) = fail\n",
      "node: ('goal', 1)->('goal', 2) = fail\n",
      "node: ('goal', 1)->('goal', 2) = fail\n",
      "node: ('goal', 1)->('goal', 2) = fail\n",
      "node: ('goal', 1)->('goal', 2) = fail\n",
      "node: ('goal', 1)->('goal', 2) = fail\n",
      "node: ('goal', 1)->('goal', 2) = fail\n",
      "node: ('goal', 1)->('goal', 2) = fail\n",
      "node: ('goal', 1)->('goal', 2) = fail\n",
      "node: ('goal', 1)->('goal', 2) = fail\n",
      "node: ('goal', 1)->('goal', 2) = fail\n",
      "node: ('goal', 1)->('goal', 2) = fail\n",
      "node: ('goal', 1)->('goal', 2) = fail\n",
      "node: ('goal', 1)->('goal', 2) = fail\n",
      "node: ('goal', 1)->('goal', 2) = fail\n",
      "node: ('goal', 1)->('goal', 2) = fail\n",
      "node: ('goal', 1)->('goal', 2) = fail\n",
      "node: ('goal', 1)->('goal', 2) = fail\n",
      "node: ('grip0', 1)->('grip0', 2) = fail\n",
      "node: ('grip0', 1)->('goal', 1) = success\n",
      "Remaining:2->1 / branching: 4->11 (3.58/300.0 s, steps/err: 7(178.843975067 ms)/0.000943578018528)\n",
      "======================================================================================================================================================\n",
      "node: ('goal', 1)->('goal', 2) = fail\n",
      "node: ('goal', 1)->('goal', 2) = fail\n",
      "node: ('goal', 1)->('goal', 2) = fail\n",
      "node: ('goal', 1)->('goal', 2) = fail\n",
      "node: ('goal', 1)->('goal', 2) = fail\n",
      "node: ('goal', 1)->('goal', 2) = fail\n",
      "node: ('goal', 1)->('goal', 2) = fail\n",
      "node: ('goal', 1)->('goal', 2) = fail\n",
      "node: ('goal', 1)->('goal', 2) = fail\n",
      "node: ('goal', 1)->('goal', 2) = fail\n",
      "node: ('goal', 1)->('goal', 2) = fail\n",
      "node: ('goal', 1)->('goal', 2) = fail\n",
      "node: ('goal', 1)->('goal', 2) = fail\n",
      "node: ('goal', 1)->('goal', 2) = fail\n",
      "node: ('goal', 1)->('goal', 2) = fail\n",
      "node: ('goal', 1)->('goal', 2) = fail\n",
      "node: ('goal', 1)->('goal', 2) = fail\n",
      "node: ('goal', 1)->('goal', 2) = fail\n",
      "node: ('goal', 1)->('goal', 2) = fail\n",
      "node: ('goal', 1)->('goal', 2) = fail\n",
      "node: ('goal', 1)->('goal', 2) = fail\n",
      "node: ('goal', 1)->('goal', 2) = fail\n",
      "node: ('goal', 1)->('goal', 2) = fail\n",
      "node: ('goal', 1)->('goal', 2) = fail\n",
      "node: ('goal', 1)->('goal', 2) = fail\n",
      "node: ('goal', 1)->('goal', 2) = fail\n",
      "node: ('goal', 1)->('goal', 2) = fail\n",
      "node: ('goal', 1)->('goal', 2) = fail\n",
      "node: ('goal', 1)->('goal', 2) = fail\n",
      "node: ('goal', 1)->('goal', 2) = fail\n",
      "node: ('grip0', 1)->('grip0', 2) = fail\n",
      "node: ('grip0', 1)->('grip0', 2) = success\n",
      "Remaining:2->1 / branching: 4->12 (4.99/300.0 s, steps/err: 60(1292.46783257 ms)/2.40761079751)\n",
      "======================================================================================================================================================\n",
      "node: ('grip0', 2)->('goal', 2) = success\n",
      "Remaining:1->0 / branching: 12->13 (5.16/300.0 s, steps/err: 7(168.408155441 ms)/0.0018969151684)\n",
      "======================================================================================================================================================\n",
      "=========================================================================================================\n",
      "======================= terminated 0: first answer acquired ===============================\n",
      "=========================================================================================================\n"
     ]
    }
   ],
   "source": [
    "# goal_nodes = [(\"goal\",)]\n",
    "goal_nodes = [(\"goal\", 2)]\n",
    "ppline.search(initial_state, goal_nodes, verbose=True, display=True, dt_vis=0.01, timeout_loop=300)\n",
    "schedules = ppline.find_schedules()\n",
    "schedules_sorted = ppline.sort_schedule(schedules)\n",
    "snode_schedule = ppline.idxSchedule2SnodeScedule(schedules_sorted[0])"
   ]
  },
  {
   "cell_type": "code",
   "execution_count": null,
   "metadata": {},
   "outputs": [],
   "source": []
  },
  {
   "cell_type": "code",
   "execution_count": 20,
   "metadata": {},
   "outputs": [],
   "source": [
    "ppline.play_schedule(snode_schedule, period=0.05)"
   ]
  },
  {
   "cell_type": "code",
   "execution_count": null,
   "metadata": {},
   "outputs": [],
   "source": []
  },
  {
   "cell_type": "code",
   "execution_count": 21,
   "metadata": {
    "scrolled": false
   },
   "outputs": [
    {
     "name": "stdout",
     "output_type": "stream",
     "text": [
      "connection_list\n",
      "[True]\n",
      "Connect: Server IP (192.168.0.63)\n"
     ]
    }
   ],
   "source": [
    "crob.reset_connection([True])"
   ]
  },
  {
   "cell_type": "code",
   "execution_count": 26,
   "metadata": {},
   "outputs": [],
   "source": [
    "gtimer = GlobalTimer.instance()\n",
    "gtimer.reset()"
   ]
  },
  {
   "cell_type": "code",
   "execution_count": 27,
   "metadata": {},
   "outputs": [
    {
     "name": "stdout",
     "output_type": "stream",
     "text": [
      "Connect: Server IP (192.168.0.63)\n",
      "Connect: Server IP (192.168.0.63)\n",
      "Connect: Server IP (192.168.0.63)\n",
      "Connect: Server IP (192.168.0.63)\n",
      "Connect: Server IP (192.168.0.63)\n",
      "Connect: Server IP (192.168.0.63)\n",
      "Connect: Server IP (192.168.0.63)\n",
      "Connect: Server IP (192.168.0.63)\n",
      "Connect: Server IP (192.168.0.63)\n",
      "Connect: Server IP (192.168.0.63)\n",
      "Connect: Server IP (192.168.0.63)\n",
      "Connect: Server IP (192.168.0.63)\n",
      "Connect: Server IP (192.168.0.63)\n",
      "Connect: Server IP (192.168.0.63)\n",
      "Connect: Server IP (192.168.0.63)\n"
     ]
    }
   ],
   "source": [
    "with RvizPublisher(gscene, []) as rpub:\n",
    "    ppline.execute_schedule(snode_schedule, rviz_pub=rpub)"
   ]
  },
  {
   "cell_type": "code",
   "execution_count": 28,
   "metadata": {},
   "outputs": [
    {
     "data": {
      "text/plain": [
       "['send-robot-0']"
      ]
     },
     "execution_count": 28,
     "metadata": {},
     "output_type": "execute_result"
    }
   ],
   "source": [
    "gtimer.time_dict.keys()"
   ]
  },
  {
   "cell_type": "code",
   "execution_count": 30,
   "metadata": {},
   "outputs": [
    {
     "data": {
      "text/plain": [
       "['move_wait', 'rviz']"
      ]
     },
     "execution_count": 30,
     "metadata": {},
     "output_type": "execute_result"
    }
   ],
   "source": [
    "ppline.gtimer.timelist_dict.keys()"
   ]
  },
  {
   "cell_type": "code",
   "execution_count": 32,
   "metadata": {},
   "outputs": [],
   "source": [
    "import matplotlib.pyplot as plt"
   ]
  },
  {
   "cell_type": "code",
   "execution_count": 33,
   "metadata": {
    "scrolled": true
   },
   "outputs": [
    {
     "data": {
      "text/plain": [
       "[<matplotlib.lines.Line2D at 0x7f16efabe990>]"
      ]
     },
     "execution_count": 33,
     "metadata": {},
     "output_type": "execute_result"
    },
    {
     "data": {
      "image/png": "[encoded data removed]",
      "text/plain": [
       "<Figure size 432x288 with 1 Axes>"
      ]
     },
     "metadata": {
      "needs_background": "light"
     },
     "output_type": "display_data"
    }
   ],
   "source": [
    "plt.plot(ppline.gtimer.timelist_dict['move_wait'])"
   ]
  },
  {
   "cell_type": "code",
   "execution_count": 34,
   "metadata": {},
   "outputs": [
    {
     "data": {
      "text/plain": [
       "[<matplotlib.lines.Line2D at 0x7f16ef9fa690>]"
      ]
     },
     "execution_count": 34,
     "metadata": {},
     "output_type": "execute_result"
    },
    {
     "data": {
      "image/png": "[encoded data removed]",
      "text/plain": [
       "<Figure size 432x288 with 1 Axes>"
      ]
     },
     "metadata": {
      "needs_background": "light"
     },
     "output_type": "display_data"
    }
   ],
   "source": [
    "plt.plot(ppline.gtimer.timelist_dict['rviz'])"
   ]
  },
  {
   "cell_type": "code",
   "execution_count": null,
   "metadata": {},
   "outputs": [],
   "source": []
  },
  {
   "cell_type": "code",
   "execution_count": null,
   "metadata": {
    "scrolled": true
   },
   "outputs": [],
   "source": []
  },
  {
   "cell_type": "code",
   "execution_count": null,
   "metadata": {},
   "outputs": [],
   "source": [
    "for snode in snode_schedule:\n",
    "    print(snode.state.binding_state)"
   ]
  },
  {
   "cell_type": "code",
   "execution_count": null,
   "metadata": {},
   "outputs": [],
   "source": []
  },
  {
   "cell_type": "markdown",
   "metadata": {},
   "source": [
    "## Disconnect stereo"
   ]
  },
  {
   "cell_type": "code",
   "execution_count": null,
   "metadata": {},
   "outputs": [],
   "source": [
    "stereo.disconnnect()"
   ]
  },
  {
   "cell_type": "code",
   "execution_count": null,
   "metadata": {},
   "outputs": [],
   "source": []
  },
  {
   "cell_type": "code",
   "execution_count": null,
   "metadata": {},
   "outputs": [],
   "source": []
  },
  {
   "cell_type": "code",
   "execution_count": null,
   "metadata": {},
   "outputs": [],
   "source": []
  }
 ],
 "metadata": {
  "kernelspec": {
   "display_name": "Python 2",
   "language": "python",
   "name": "python2"
  },
  "language_info": {
   "codemirror_mode": {
    "name": "ipython",
    "version": 2
   },
   "file_extension": ".py",
   "mimetype": "text/x-python",
   "name": "python",
   "nbconvert_exporter": "python",
   "pygments_lexer": "ipython2",
   "version": "2.7.17"
  }
 },
 "nbformat": 4,
 "nbformat_minor": 2
}
