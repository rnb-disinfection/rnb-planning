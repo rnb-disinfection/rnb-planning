{
 "cells": [
  {
   "cell_type": "code",
   "execution_count": 1,
   "metadata": {},
   "outputs": [],
   "source": [
    "import os\n",
    "os.chdir(os.path.dirname(os.getcwd()))"
   ]
  },
  {
   "cell_type": "code",
   "execution_count": null,
   "metadata": {},
   "outputs": [],
   "source": []
  },
  {
   "cell_type": "markdown",
   "metadata": {},
   "source": [
    "## init combined robot config"
   ]
  },
  {
   "cell_type": "code",
   "execution_count": 2,
   "metadata": {},
   "outputs": [
    {
     "name": "stdout",
     "output_type": "stream",
     "text": [
      "connection_list\n",
      "[False, False]\n"
     ]
    }
   ],
   "source": [
    "from pkg.controller.combined_robot import *\n",
    "from pkg.project_config import *\n",
    "\n",
    "crob = CombinedRobot(robots_on_scene=[\n",
    "    RobotConfig(0, RobotType.indy7, None,\n",
    "                INDY_IP),\n",
    "    RobotConfig(1, RobotType.panda, None,\n",
    "                \"{}/{}\".format(PANDA_REPEATER_IP, PANDA_ROBOT_IP))]\n",
    "              , connection_list=[False, False])"
   ]
  },
  {
   "cell_type": "code",
   "execution_count": null,
   "metadata": {},
   "outputs": [],
   "source": []
  },
  {
   "cell_type": "markdown",
   "metadata": {},
   "source": [
    "## init stereo aruco detector"
   ]
  },
  {
   "cell_type": "code",
   "execution_count": 3,
   "metadata": {},
   "outputs": [
    {
     "name": "stdout",
     "output_type": "stream",
     "text": [
      "Device configuration: \n",
      "\tcolor_format: 3 \n",
      "\t(0:JPG, 1:NV12, 2:YUY2, 3:BGRA32)\n",
      "\n",
      "\tcolor_resolution: 5 \n",
      "\t(0:OFF, 1:720p, 2:1080p, 3:1440p, 4:1536p, 5:2160p, 6:3072p)\n",
      "\n",
      "\tdepth_mode: 3 \n",
      "\t(0:OFF, 1:NFOV_2X2BINNED, 2:NFOV_UNBINNED,3:WFOV_2X2BINNED, 4:WFOV_UNBINNED, 5:Passive IR)\n",
      "\n",
      "\tcamera_fps: 2 \n",
      "\t(0:5 FPS, 1:15 FPS, 2:30 FPS)\n",
      "\n",
      "\tsynchronized_images_only: False \n",
      "\t(True of False). Drop images if the color and depth are not synchronized\n",
      "\n",
      "\tdepth_delay_off_color_usec: 0 ms. \n",
      "\tDelay between the color image and the depth image\n",
      "\n",
      "\twired_sync_mode: 0\n",
      "\t(0:Standalone mode, 1:Master mode, 2:Subordinate mode)\n",
      "\n",
      "\tsubordinate_delay_off_master_usec: 0 ms.\n",
      "\tThe external synchronization timing.\n",
      "\n",
      "\tdisable_streaming_indicator: False \n",
      "\t(True or False). Streaming indicator automatically turns on when the color or depth camera's are in use.\n",
      "\n",
      "\n",
      "Start streaming\n"
     ]
    },
    {
     "data": {
      "text/plain": [
       "[(array([[1.82983423e+03, 0.00000000e+00, 1.91572046e+03],\n",
       "         [0.00000000e+00, 1.82983423e+03, 1.09876086e+03],\n",
       "         [0.00000000e+00, 0.00000000e+00, 1.00000000e+00]]),\n",
       "  array([ 7.09966481e-01, -2.73409390e+00,  1.45804870e-03, -3.24774766e-04,\n",
       "          1.44911301e+00,  5.84310412e-01, -2.56374550e+00,  1.38472950e+00])),\n",
       " (array([[1.39560388e+03, 0.00000000e+00, 9.62751587e+02],\n",
       "         [0.00000000e+00, 1.39531934e+03, 5.47687012e+02],\n",
       "         [0.00000000e+00, 0.00000000e+00, 1.00000000e+00]]),\n",
       "  array([0., 0., 0., 0., 0.])),\n",
       " array([[ 0.83028054, -0.03017845, -0.55652803,  0.6479348 ],\n",
       "        [ 0.17372349,  0.9628003 ,  0.20696786, -0.1428074 ],\n",
       "        [ 0.5295794 , -0.2685234 ,  0.8046371 ,  0.07192612],\n",
       "        [ 0.        ,  0.        ,  0.        ,  1.        ]],\n",
       "       dtype=float32)]"
      ]
     },
     "execution_count": 3,
     "metadata": {},
     "output_type": "execute_result"
    }
   ],
   "source": [
    "from pkg.marker_config import *\n",
    "from pkg.detector.aruco.stereo import ArucoStereo\n",
    "from pkg.detector.camera.realsense import RealSense\n",
    "from pkg.detector.camera.kinect import Kinect\n",
    "aruco_map = get_aruco_map()\n",
    "stereo = ArucoStereo(aruco_map, [Kinect(), RealSense()])\n",
    "stereo.initialize()\n",
    "stereo.calibrate()"
   ]
  },
  {
   "cell_type": "code",
   "execution_count": null,
   "metadata": {},
   "outputs": [],
   "source": []
  },
  {
   "cell_type": "markdown",
   "metadata": {},
   "source": [
    "## init scene builder"
   ]
  },
  {
   "cell_type": "code",
   "execution_count": 4,
   "metadata": {},
   "outputs": [],
   "source": [
    "from pkg.geometry.builder.scene_builder import SceneBuilder\n",
    "s_builder = SceneBuilder(stereo, base_link=\"base_link\")\n",
    "s_builder.reset_reference_coord(ref_name=\"floor\")"
   ]
  },
  {
   "cell_type": "code",
   "execution_count": null,
   "metadata": {},
   "outputs": [],
   "source": []
  },
  {
   "cell_type": "markdown",
   "metadata": {},
   "source": [
    "## get ghnd with detected robot config"
   ]
  },
  {
   "cell_type": "code",
   "execution_count": 5,
   "metadata": {
    "scrolled": true
   },
   "outputs": [
    {
     "name": "stderr",
     "output_type": "stream",
     "text": [
      "Unknown tag \"hardwareInterface\" in /robot[@name='custom_robots']/transmission[@name='indy0_tran0']/actuator[@name='indy0_motor0']\n",
      "Unknown tag \"hardwareInterface\" in /robot[@name='custom_robots']/transmission[@name='indy0_tran1']/actuator[@name='indy0_motor1']\n",
      "Unknown tag \"hardwareInterface\" in /robot[@name='custom_robots']/transmission[@name='indy0_tran2']/actuator[@name='indy0_motor2']\n",
      "Unknown tag \"hardwareInterface\" in /robot[@name='custom_robots']/transmission[@name='indy0_tran3']/actuator[@name='indy0_motor3']\n",
      "Unknown tag \"hardwareInterface\" in /robot[@name='custom_robots']/transmission[@name='indy0_tran4']/actuator[@name='indy0_motor4']\n",
      "Unknown tag \"hardwareInterface\" in /robot[@name='custom_robots']/transmission[@name='indy0_tran5']/actuator[@name='indy0_motor5']\n"
     ]
    },
    {
     "name": "stdout",
     "output_type": "stream",
     "text": [
      "Please create a subscriber to the marker\n",
      "publication OK\n",
      "published: [0, 0, 0, 0, 0, 0, 0, 0, 0, 0, 0, 0, 0]\n"
     ]
    }
   ],
   "source": [
    "xyz_rpy_robots = s_builder.detect_items(level_mask=[DetectionLevel.ROBOT])\n",
    "crob.update_robot_pos_dict(xyz_rpy_robots=xyz_rpy_robots)\n",
    "gscene = s_builder.create_gscene(crob)"
   ]
  },
  {
   "cell_type": "code",
   "execution_count": null,
   "metadata": {},
   "outputs": [],
   "source": []
  },
  {
   "cell_type": "markdown",
   "metadata": {},
   "source": [
    "## add environment"
   ]
  },
  {
   "cell_type": "code",
   "execution_count": 6,
   "metadata": {},
   "outputs": [
    {
     "name": "stdout",
     "output_type": "stream",
     "text": [
      "Please create a subscriber to the marker\n"
     ]
    }
   ],
   "source": [
    "gtem_dict = s_builder.detect_and_register(level_mask=[DetectionLevel.ENVIRONMENT])"
   ]
  },
  {
   "cell_type": "code",
   "execution_count": 7,
   "metadata": {},
   "outputs": [],
   "source": [
    "# add cam poles\n",
    "ptems = s_builder.add_poles({\"cam0\": s_builder.ref_coord_inv[:3,3], \"cam1\":np.matmul(s_builder.ref_coord_inv, stereo.T_c12)[:3,3]})"
   ]
  },
  {
   "cell_type": "code",
   "execution_count": 8,
   "metadata": {},
   "outputs": [],
   "source": [
    "gtems = s_builder.add_robot_geometries(color=(0,1,0,0.5), display=True, collision=True, exclude_link=[\"panda1_link7\"])"
   ]
  },
  {
   "cell_type": "code",
   "execution_count": null,
   "metadata": {},
   "outputs": [],
   "source": []
  },
  {
   "cell_type": "markdown",
   "metadata": {},
   "source": [
    "## add movable"
   ]
  },
  {
   "cell_type": "code",
   "execution_count": 9,
   "metadata": {},
   "outputs": [],
   "source": [
    "gtem_dict = s_builder.detect_and_register(level_mask=[DetectionLevel.MOVABLE])"
   ]
  },
  {
   "cell_type": "code",
   "execution_count": null,
   "metadata": {},
   "outputs": [],
   "source": []
  },
  {
   "cell_type": "code",
   "execution_count": 10,
   "metadata": {},
   "outputs": [],
   "source": [
    "goal = gscene.NAME_DICT[\"goal\"]\n",
    "floor = gscene.NAME_DICT['floor']\n",
    "floor.color = floor.color[:3]+(0.5,)\n",
    "goal.set_offset_tf(center=tuple(np.matmul(floor.orientation_mat, (-0.5,-0.2,0))), \n",
    "                   orientation_mat=floor.orientation_mat)\n",
    "gscene.set_rviz()"
   ]
  },
  {
   "cell_type": "code",
   "execution_count": null,
   "metadata": {},
   "outputs": [],
   "source": []
  },
  {
   "cell_type": "markdown",
   "metadata": {},
   "source": [
    "## add brush"
   ]
  },
  {
   "cell_type": "code",
   "execution_count": 11,
   "metadata": {},
   "outputs": [
    {
     "data": {
      "text/plain": [
       "<pkg.geometry.geometry.GeometryItem at 0x7f123c340b50>"
      ]
     },
     "execution_count": 11,
     "metadata": {},
     "output_type": "execute_result"
    }
   ],
   "source": [
    "gscene.create_safe(gtype=GEOTYPE.BOX, name=\"brush_handle\", link_name=\"base_link\", dims=(0.2,0.03,0.05), center=(-0.7,-0.2,0.08), rpy=(0,0,np.pi/2), \n",
    "                   color=(0.7,0.7,0.3,1), display=True, collision=True, fixed=False)\n",
    "gscene.create_safe(gtype=GEOTYPE.BOX, name=\"brush_body\", link_name=\"base_link\", dims=(0.2,0.07,0.02), center=(0,0,-0.035), rpy=(0,0,0), \n",
    "                   color=(0.7,0.7,0.3,1), display=True, collision=True, fixed=False, parent=\"brush_handle\")\n",
    "gscene.create_safe(gtype=GEOTYPE.BOX, name=\"brush_face\", link_name=\"base_link\", dims=(0.19,0.06,0.03), center=(0,0,-0.025), rpy=(0,0,0), \n",
    "                   color=(0.8,0.8,0.8,1), display=True, collision=False, fixed=False, parent=\"brush_body\")"
   ]
  },
  {
   "cell_type": "code",
   "execution_count": null,
   "metadata": {},
   "outputs": [],
   "source": []
  },
  {
   "cell_type": "markdown",
   "metadata": {},
   "source": [
    "## init planning scene"
   ]
  },
  {
   "cell_type": "code",
   "execution_count": 12,
   "metadata": {},
   "outputs": [],
   "source": [
    "from pkg.planning.scene import PlanningScene\n",
    "pscene = PlanningScene(gscene, combined_robot=crob)"
   ]
  },
  {
   "cell_type": "code",
   "execution_count": null,
   "metadata": {},
   "outputs": [],
   "source": []
  },
  {
   "cell_type": "markdown",
   "metadata": {},
   "source": [
    "## Register binders"
   ]
  },
  {
   "cell_type": "code",
   "execution_count": 13,
   "metadata": {},
   "outputs": [],
   "source": [
    "from pkg.planning.constraint.constraint_action import Gripper2Tool, PlacePlane"
   ]
  },
  {
   "cell_type": "code",
   "execution_count": 14,
   "metadata": {},
   "outputs": [
    {
     "data": {
      "text/plain": [
       "<pkg.geometry.geometry.GeometryItem at 0x7f11fe56d390>"
      ]
     },
     "execution_count": 14,
     "metadata": {},
     "output_type": "execute_result"
    }
   ],
   "source": [
    "gscene.create_safe(gtype=GEOTYPE.SPHERE, name=\"grip0\", link_name=\"indy0_tcp\", \n",
    "                 dims=(0.01,)*3, center=(0,0,0.14), rpy=(-np.pi/2,0,0), color=(1,0,0,1), display=True, collision=False, fixed=True)\n",
    "gscene.create_safe(gtype=GEOTYPE.SPHERE, name=\"grip1\", link_name=\"panda1_hand\", \n",
    "                 dims=(0.01,)*3, center=(0,0,0.112), rpy=(-np.pi/2,0,0), color=(1,0,0,1), display=True, collision=False, fixed=True)"
   ]
  },
  {
   "cell_type": "code",
   "execution_count": 15,
   "metadata": {},
   "outputs": [
    {
     "data": {
      "text/plain": [
       "<pkg.planning.constraint.constraint_action.PlacePlane at 0x7f11fdc36190>"
      ]
     },
     "execution_count": 15,
     "metadata": {},
     "output_type": "execute_result"
    }
   ],
   "source": [
    "pscene.create_binder(bname=\"grip0\", gname=\"grip0\", _type=Gripper2Tool, point=(0,0,0), rpy=(0,0,0))\n",
    "pscene.create_binder(bname=\"grip1\", gname=\"grip1\", _type=Gripper2Tool, point=(0,0,0), rpy=(0,0,0))\n",
    "pscene.create_binder(bname=\"floor\", gname=\"floor\", _type=PlacePlane)\n",
    "pscene.create_binder(bname=\"goal_bd\", gname=\"goal\", _type=PlacePlane, point=(0,0,0.005), rpy=(0,0,0))"
   ]
  },
  {
   "cell_type": "code",
   "execution_count": null,
   "metadata": {},
   "outputs": [],
   "source": []
  },
  {
   "cell_type": "markdown",
   "metadata": {},
   "source": [
    "## add objects"
   ]
  },
  {
   "cell_type": "code",
   "execution_count": 16,
   "metadata": {},
   "outputs": [],
   "source": [
    "from pkg.planning.constraint.constraint_object import BoxAction, CustomObject, Grasp2Point, PlacePoint"
   ]
  },
  {
   "cell_type": "code",
   "execution_count": 17,
   "metadata": {},
   "outputs": [],
   "source": [
    "box1 = pscene.create_object(oname=\"box1\", gname=\"box1\", _type=BoxAction, hexahedral=True)\n",
    "box2 = pscene.create_object(oname=\"box2\", gname=\"box2\", _type=BoxAction, hexahedral=True)"
   ]
  },
  {
   "cell_type": "code",
   "execution_count": 18,
   "metadata": {},
   "outputs": [],
   "source": [
    "brush_handle = gscene.NAME_DICT[\"brush_handle\"]\n",
    "brush = pscene.create_object(oname=\"brush\", gname=\"brush_handle\", _type=CustomObject, \n",
    "                             action_points_dict = {\"handle\": Grasp2Point(\"handle\", brush_handle, [0,0,0], [np.pi/2,0,0]), \n",
    "                                                   \"face\": PlacePoint(\"face\", brush_handle, [0,0,-0.075], [0,0,0])})"
   ]
  },
  {
   "cell_type": "code",
   "execution_count": null,
   "metadata": {},
   "outputs": [],
   "source": []
  },
  {
   "cell_type": "markdown",
   "metadata": {},
   "source": [
    "## Register object binders"
   ]
  },
  {
   "cell_type": "code",
   "execution_count": 19,
   "metadata": {},
   "outputs": [],
   "source": [
    "box1.register_binders(pscene, PlacePlane)\n",
    "box2.register_binders(pscene, PlacePlane)"
   ]
  },
  {
   "cell_type": "code",
   "execution_count": null,
   "metadata": {},
   "outputs": [],
   "source": []
  },
  {
   "cell_type": "markdown",
   "metadata": {},
   "source": [
    "### planning pipeline"
   ]
  },
  {
   "cell_type": "code",
   "execution_count": 20,
   "metadata": {},
   "outputs": [],
   "source": [
    "from pkg.planning.motion.moveit.moveit_planner import MoveitPlanner\n",
    "mplan = MoveitPlanner(pscene)\n",
    "mplan.update_gscene()\n",
    "from pkg.planning.task.object_a_star import ObjectAstar\n",
    "tplan = ObjectAstar(pscene)\n",
    "tplan.prepare()\n",
    "from pkg.planning.pipeline import PlanningPipeline\n",
    "ppline = PlanningPipeline(pscene)\n",
    "ppline.set_motion(mplan)\n",
    "ppline.set_sampler(tplan)"
   ]
  },
  {
   "cell_type": "markdown",
   "metadata": {},
   "source": [
    "## ui"
   ]
  },
  {
   "cell_type": "code",
   "execution_count": 21,
   "metadata": {},
   "outputs": [
    {
     "name": "stdout",
     "output_type": "stream",
     "text": [
      "Dash is running on http://0.0.0.0:8050/\n",
      "\n",
      " * Serving Flask app \"pkg.ui.dash_launcher\" (lazy loading)\n",
      " * Environment: production\n",
      "   WARNING: This is a development server. Do not use it in a production deployment.\n",
      "   Use a production WSGI server instead.\n",
      " * Debug mode: off\n"
     ]
    }
   ],
   "source": [
    "from pkg.ui.ui_broker import *\n",
    "\n",
    "# start UI\n",
    "ui_broker = UIBroker.instance()\n",
    "ui_broker.initialize(ppline, s_builder)\n",
    "ui_broker.start_server()\n",
    "\n",
    "ui_broker.set_tables()"
   ]
  },
  {
   "cell_type": "code",
   "execution_count": null,
   "metadata": {},
   "outputs": [],
   "source": []
  },
  {
   "cell_type": "markdown",
   "metadata": {},
   "source": [
    "## Test plan"
   ]
  },
  {
   "cell_type": "code",
   "execution_count": 22,
   "metadata": {},
   "outputs": [
    {
     "name": "stdout",
     "output_type": "stream",
     "text": [
      "node: ('floor', 'floor', 'floor')->('floor', 'floor', 'grip0') = fail\n",
      "node: ('floor', 'floor', 'floor')->('floor', 'floor', 'grip0') = fail\n",
      "node: ('floor', 'floor', 'floor')->('floor', 'floor', 'grip0') = fail\n",
      "node: ('floor', 'floor', 'floor')->('floor', 'floor', 'grip0') = fail\n",
      "node: ('floor', 'floor', 'floor')->('floor', 'floor', 'grip0') = fail\n",
      "=================================\n",
      "=================================\n",
      "=================================\n",
      "Not available:brush-grip1\n",
      "np_exclude:handle\n",
      "bd_exclude:grip0\n",
      "=================================\n",
      "=================================\n",
      "=================================\n",
      "============== Non-available transition: Break =====================\n",
      "node: ('floor', 'floor', 'floor')->('floor', 'floor', 'grip0') = success\n",
      "Remaining:2->1 / branching: 0->1 (1.09/600.0 s, steps/err: 12(406.646966934 ms)/1.82970587357)\n",
      "======================================================================================================================================================\n",
      "=================================\n",
      "=================================\n",
      "=================================\n",
      "Not available:brush-grip1\n",
      "np_exclude:handle\n",
      "bd_exclude:grip0\n",
      "=================================\n",
      "=================================\n",
      "=================================\n",
      "============== Non-available transition: Break =====================\n",
      "node: ('floor', 'floor', 'floor')->('floor', 'floor', 'grip0') = success\n",
      "Remaining:2->1 / branching: 0->2 (1.55/600.0 s, steps/err: 12(460.304021835 ms)/1.77086284392)\n",
      "======================================================================================================================================================\n",
      "node: ('floor', 'floor', 'floor')->('floor', 'floor', 'grip0') = fail\n",
      "node: ('floor', 'floor', 'floor')->('floor', 'floor', 'grip0') = fail\n",
      "node: ('floor', 'floor', 'floor')->('floor', 'floor', 'grip0') = fail\n",
      "=================================\n",
      "=================================\n",
      "=================================\n",
      "Not available:brush-grip1\n",
      "np_exclude:handle\n",
      "bd_exclude:grip0\n",
      "=================================\n",
      "=================================\n",
      "=================================\n",
      "============== Non-available transition: Break =====================\n",
      "node: ('floor', 'floor', 'floor')->('floor', 'floor', 'grip0') = success\n",
      "Remaining:2->1 / branching: 0->3 (2.19/600.0 s, steps/err: 6(220.437049866 ms)/0.117341188643)\n",
      "======================================================================================================================================================\n",
      "=================================\n",
      "=================================\n",
      "=================================\n",
      "Not available:brush-grip1\n",
      "np_exclude:handle\n",
      "bd_exclude:grip0\n",
      "=================================\n",
      "=================================\n",
      "=================================\n",
      "============== Non-available transition: Break =====================\n",
      "node: ('floor', 'floor', 'floor')->('floor', 'floor', 'grip0') = success\n",
      "Remaining:2->1 / branching: 0->4 (2.78/600.0 s, steps/err: 18(590.969085693 ms)/2.09340335293)\n",
      "======================================================================================================================================================\n",
      "node: ('floor', 'floor', 'floor')->('floor', 'floor', 'grip0') = fail\n",
      "=================================\n",
      "=================================\n",
      "=================================\n",
      "Not available:brush-grip1\n",
      "np_exclude:handle\n",
      "bd_exclude:grip0\n",
      "=================================\n",
      "=================================\n",
      "=================================\n",
      "============== Non-available transition: Break =====================\n",
      "node: ('floor', 'floor', 'floor')->('floor', 'floor', 'grip0') = success\n",
      "Remaining:2->1 / branching: 0->5 (3.25/600.0 s, steps/err: 10(335.713148117 ms)/2.32202130762)\n",
      "======================================================================================================================================================\n",
      "node: ('floor', 'floor', 'floor')->('floor', 'floor', 'grip0') = fail\n",
      "=================================\n",
      "=================================\n",
      "=================================\n",
      "Not available:brush-grip1\n",
      "np_exclude:handle\n",
      "bd_exclude:grip0\n",
      "=================================\n",
      "=================================\n",
      "=================================\n",
      "============== Non-available transition: Break =====================\n",
      "node: ('floor', 'floor', 'floor')->('floor', 'floor', 'grip0') = success\n",
      "Remaining:2->1 / branching: 0->6 (4.18/600.0 s, steps/err: 23(793.81608963 ms)/2.57825032028)\n",
      "======================================================================================================================================================\n",
      "node: ('floor', 'floor', 'floor')->('floor', 'floor', 'grip0') = fail\n",
      "node: ('floor', 'floor', 'floor')->('floor', 'floor', 'grip0') = fail\n",
      "node: ('floor', 'floor', 'floor')->('floor', 'floor', 'grip0') = fail\n",
      "node: ('floor', 'floor', 'floor')->('floor', 'floor', 'grip0') = fail\n",
      "node: ('floor', 'floor', 'floor')->('floor', 'floor', 'grip0') = fail\n",
      "node: ('floor', 'floor', 'floor')->('floor', 'floor', 'grip0') = fail\n",
      "=================================\n",
      "=================================\n",
      "=================================\n",
      "Not available:brush-grip1\n",
      "np_exclude:handle\n",
      "bd_exclude:grip0\n",
      "=================================\n",
      "=================================\n",
      "=================================\n",
      "============== Non-available transition: Break =====================\n",
      "node: ('floor', 'floor', 'floor')->('floor', 'floor', 'grip0') = success\n",
      "Remaining:2->1 / branching: 0->7 (6.05/600.0 s, steps/err: 32(1045.60017586 ms)/2.55205808844)\n",
      "======================================================================================================================================================\n",
      "node: ('floor', 'floor', 'floor')->('floor', 'floor', 'grip0') = fail\n",
      "=================================\n",
      "=================================\n",
      "=================================\n",
      "Not available:brush-grip1\n",
      "np_exclude:handle\n",
      "bd_exclude:grip0\n",
      "=================================\n",
      "=================================\n",
      "=================================\n",
      "============== Non-available transition: Break =====================\n",
      "node: ('floor', 'floor', 'floor')->('floor', 'floor', 'grip0') = success\n",
      "Remaining:2->1 / branching: 0->8 (6.38/600.0 s, steps/err: 5(192.457199097 ms)/0.78027577413)\n",
      "======================================================================================================================================================\n",
      "node: ('floor', 'floor', 'floor')->('floor', 'floor', 'grip0') = fail\n",
      "=================================\n",
      "=================================\n",
      "=================================\n",
      "Not available:brush-grip1\n",
      "np_exclude:handle\n",
      "bd_exclude:grip0\n",
      "=================================\n",
      "=================================\n",
      "=================================\n",
      "============== Non-available transition: Break =====================\n",
      "node: ('floor', 'floor', 'floor')->('floor', 'floor', 'grip0') = success\n",
      "Remaining:2->1 / branching: 0->9 (7.11/600.0 s, steps/err: 17(592.083215714 ms)/2.23196152174)\n",
      "======================================================================================================================================================\n",
      "node: ('floor', 'floor', 'floor')->('floor', 'floor', 'grip0') = fail\n",
      "node: ('floor', 'floor', 'floor')->('floor', 'floor', 'grip0') = fail\n",
      "node: ('floor', 'floor', 'floor')->('floor', 'floor', 'grip0') = fail\n",
      "node: ('floor', 'floor', 'floor')->('floor', 'floor', 'grip1') = fail\n",
      "node: ('floor', 'floor', 'floor')->('floor', 'floor', 'grip1') = fail\n",
      "node: ('floor', 'floor', 'floor')->('floor', 'floor', 'grip1') = fail\n",
      "node: ('floor', 'floor', 'floor')->('floor', 'floor', 'grip1') = fail\n",
      "node: ('floor', 'floor', 'floor')->('floor', 'floor', 'grip1') = fail\n",
      "node: ('floor', 'floor', 'floor')->('floor', 'floor', 'grip1') = fail\n",
      "node: ('floor', 'floor', 'floor')->('floor', 'floor', 'grip1') = fail\n",
      "node: ('floor', 'floor', 'floor')->('floor', 'floor', 'grip1') = fail\n",
      "node: ('floor', 'floor', 'floor')->('floor', 'floor', 'grip1') = fail\n",
      "node: ('floor', 'floor', 'floor')->('floor', 'floor', 'grip1') = fail\n",
      "node: ('floor', 'floor', 'floor')->('floor', 'floor', 'grip1') = fail\n",
      "node: ('floor', 'floor', 'floor')->('floor', 'floor', 'grip1') = fail\n",
      "node: ('floor', 'floor', 'floor')->('floor', 'floor', 'grip1') = fail\n",
      "node: ('floor', 'floor', 'floor')->('floor', 'floor', 'grip1') = fail\n",
      "node: ('floor', 'floor', 'floor')->('floor', 'floor', 'grip1') = fail\n"
     ]
    },
    {
     "name": "stdout",
     "output_type": "stream",
     "text": [
      "node: ('floor', 'floor', 'floor')->('floor', 'floor', 'grip1') = fail\n",
      "node: ('floor', 'floor', 'floor')->('floor', 'floor', 'grip1') = fail\n",
      "node: ('floor', 'floor', 'floor')->('floor', 'floor', 'grip1') = fail\n",
      "node: ('floor', 'floor', 'floor')->('floor', 'floor', 'grip1') = fail\n",
      "node: ('floor', 'floor', 'floor')->('floor', 'floor', 'grip1') = fail\n",
      "node: ('floor', 'floor', 'floor')->('floor', 'floor', 'grip1') = fail\n",
      "node: ('floor', 'floor', 'floor')->('floor', 'floor', 'grip1') = fail\n",
      "node: ('floor', 'floor', 'floor')->('floor', 'floor', 'grip1') = fail\n",
      "node: ('floor', 'floor', 'floor')->('floor', 'floor', 'grip1') = fail\n",
      "node: ('floor', 'floor', 'floor')->('floor', 'floor', 'grip1') = fail\n",
      "node: ('floor', 'floor', 'floor')->('floor', 'floor', 'grip1') = fail\n",
      "node: ('floor', 'floor', 'floor')->('floor', 'floor', 'grip1') = fail\n",
      "node: ('floor', 'floor', 'floor')->('floor', 'floor', 'grip1') = fail\n",
      "node: ('floor', 'floor', 'floor')->('floor', 'floor', 'grip1') = fail\n",
      "node: ('floor', 'floor', 'floor')->('floor', 'floor', 'grip1') = fail\n",
      "node: ('floor', 'floor', 'grip0')->('floor', 'floor', 'floor') = success\n",
      "Remaining:1->2 / branching: 6->10 (13.08/600.0 s, steps/err: 47(1556.47110939 ms)/0.00103370373052)\n",
      "======================================================================================================================================================\n",
      "node: ('floor', 'floor', 'floor')->('floor', 'floor', 'grip1') = fail\n",
      "node: ('floor', 'floor', 'floor')->('floor', 'floor', 'grip1') = fail\n",
      "node: ('floor', 'floor', 'floor')->('floor', 'floor', 'grip1') = fail\n",
      "node: ('floor', 'floor', 'floor')->('floor', 'floor', 'grip1') = fail\n",
      "node: ('floor', 'floor', 'floor')->('floor', 'floor', 'grip0') = fail\n",
      "node: ('floor', 'floor', 'floor')->('floor', 'floor', 'grip1') = fail\n",
      "node: ('floor', 'floor', 'floor')->('floor', 'floor', 'grip1') = fail\n",
      "node: ('floor', 'floor', 'floor')->('floor', 'floor', 'grip0') = fail\n",
      "node: ('floor', 'floor', 'floor')->('floor', 'floor', 'grip1') = fail\n",
      "node: ('floor', 'floor', 'floor')->('floor', 'floor', 'grip1') = fail\n",
      "node: ('floor', 'floor', 'floor')->('floor', 'floor', 'grip1') = fail\n",
      "node: ('floor', 'floor', 'floor')->('floor', 'floor', 'grip1') = fail\n",
      "node: ('floor', 'floor', 'floor')->('floor', 'floor', 'grip1') = fail\n",
      "node: ('floor', 'floor', 'floor')->('floor', 'floor', 'grip1') = fail\n",
      "node: ('floor', 'floor', 'floor')->('floor', 'floor', 'grip1') = fail\n",
      "node: ('floor', 'floor', 'floor')->('floor', 'floor', 'grip1') = fail\n",
      "node: ('floor', 'floor', 'floor')->('floor', 'floor', 'grip0') = fail\n",
      "node: ('floor', 'floor', 'floor')->('floor', 'floor', 'grip0') = success\n",
      "Remaining:2->1 / branching: 10->11 (15.57/600.0 s, steps/err: 4(151.570081711 ms)/2.29126367586)\n",
      "======================================================================================================================================================\n",
      "node: ('floor', 'floor', 'grip0')->('floor', 'floor', 'goal') = success\n",
      "Remaining:1->0 / branching: 11->12 (16.92/600.0 s, steps/err: 41(1344.12503242 ms)/0.00116378769506)\n",
      "======================================================================================================================================================\n",
      "=========================================================================================================\n",
      "======================= terminated 0: first answer acquired ===============================\n",
      "=========================================================================================================\n"
     ]
    }
   ],
   "source": [
    "from pkg.planning.constraint.constraint_common \\\n",
    "            import sample_redundancy, combine_redundancy\n",
    "\n",
    "obj, handle, binder = \"brush\", \"face\", \"goal_bd\"\n",
    "initial_state = pscene.get_state(crob.home_pose)\n",
    "goal_nodes = pscene.get_goal_nodes(initial_state.node, obj, binder)\n",
    "ppline.search(initial_state, goal_nodes, verbose=True, display=True, dt_vis=0.01)\n",
    "schedules = ppline.find_schedules()\n",
    "schedules_sorted = ppline.sort_schedule(schedules)\n",
    "snode_schedule = ppline.idxSchedule2SnodeScedule(schedules_sorted[0])"
   ]
  },
  {
   "cell_type": "code",
   "execution_count": 23,
   "metadata": {},
   "outputs": [],
   "source": [
    "schedule = ppline.idxSchedule2SnodeScedule(ppline.find_schedules().values()[0])"
   ]
  },
  {
   "cell_type": "code",
   "execution_count": 24,
   "metadata": {},
   "outputs": [],
   "source": [
    "ppline.play_schedule(schedule)"
   ]
  },
  {
   "cell_type": "code",
   "execution_count": 25,
   "metadata": {},
   "outputs": [
    {
     "name": "stdout",
     "output_type": "stream",
     "text": [
      "(('box1', 'back_p', 'floor'), ('box2', 'back_p', 'floor'), ('brush', 'face', 'floor'))\n",
      "(('box1', 'back_p', 'floor'), ('box2', 'back_p', 'floor'), ('brush', 'handle', 'grip0'))\n",
      "(('box1', 'back_p', 'floor'), ('box2', 'back_p', 'floor'), ('brush', 'face', 'floor'))\n"
     ]
    }
   ],
   "source": [
    "print(schedule[0].state.node)\n",
    "print(schedule[1].state.node)\n",
    "print(schedule[2].state.node)"
   ]
  },
  {
   "cell_type": "code",
   "execution_count": null,
   "metadata": {},
   "outputs": [],
   "source": []
  },
  {
   "cell_type": "code",
   "execution_count": 26,
   "metadata": {},
   "outputs": [
    {
     "name": "stdout",
     "output_type": "stream",
     "text": [
      "True\n"
     ]
    }
   ],
   "source": [
    "idx = 0\n",
    "from_state = schedule[idx].state\n",
    "to_state = schedule[idx+1].state\n",
    "redundancy_dict = schedule[idx+1].redundancy_dict\n",
    "redundancy_dict[obj]['w'] = 0\n",
    "traj, lastQ, error, success, binding_list = mplan.plan_transition(from_state, to_state, \n",
    "                                                    redundancy_dict=redundancy_dict)\n",
    "print(success)\n",
    "if success:\n",
    "    for bd in binding_list:\n",
    "        pscene.rebind(bd, list2dict(lastQ, pscene.gscene.joint_names))"
   ]
  },
  {
   "cell_type": "code",
   "execution_count": 27,
   "metadata": {},
   "outputs": [],
   "source": [
    "new_state = to_state.copy(pscene)\n",
    "new_state.obj_pos_dict = pscene.get_object_state()[1]\n",
    "new_state.Q = lastQ"
   ]
  },
  {
   "cell_type": "code",
   "execution_count": 28,
   "metadata": {},
   "outputs": [],
   "source": [
    "gscene.show_motion(traj)"
   ]
  },
  {
   "cell_type": "code",
   "execution_count": 29,
   "metadata": {},
   "outputs": [
    {
     "name": "stdout",
     "output_type": "stream",
     "text": [
      "True\n"
     ]
    }
   ],
   "source": [
    "idx = 1\n",
    "from_state = new_state.copy(pscene)\n",
    "to_state = from_state.copy(pscene)\n",
    "to_state.node = (('box1', 'back_p', 'floor'),\n",
    "            ('box2', 'back_p', 'floor'),\n",
    "            ('brush', 'face', 'goal_bd'))\n",
    "redundancy_dict = schedule[idx+1].redundancy_dict\n",
    "redundancy_dict = {obj:{'w': np.pi/2}}\n",
    "traj, lastQ, error, success, binding_list = mplan.plan_transition(from_state, to_state, \n",
    "                                                    redundancy_dict=redundancy_dict)\n",
    "print(success)"
   ]
  },
  {
   "cell_type": "code",
   "execution_count": 30,
   "metadata": {},
   "outputs": [],
   "source": [
    "gscene.show_motion(traj, period=0.05)"
   ]
  },
  {
   "cell_type": "code",
   "execution_count": null,
   "metadata": {},
   "outputs": [],
   "source": []
  },
  {
   "cell_type": "code",
   "execution_count": 31,
   "metadata": {},
   "outputs": [],
   "source": [
    "from pkg.planning.motion.moveit.moveit_planner import make_constraint_list\n",
    "\n",
    "##\n",
    "# @class MotionManifold\n",
    "# @brief geometry manifold to constrain motion\n",
    "class MotionManifold:\n",
    "    ##\n",
    "    # @param geometry_list list of rnb-planning.src.pkg.geometry.geometry.GeometryItem\n",
    "    def __init__(self, geometry_list):\n",
    "        self.geometry_list = geometry_list\n",
    "        \n",
    "        \n",
    "##\n",
    "# @brief add motion constraint for moveit planner\n",
    "# @param\n",
    "def add_constraint(self, group_name, tool_link, tool_offset_T, manifold, fix_surface, fix_normal, tol=1e-3, use_box=False):\n",
    "    constraint_manifold_list = make_constraint_list(manifold.geometry_list, use_box=use_box)\n",
    "    xyzquat = T2xyzquat(tool_offset_T)\n",
    "    self.planner.add_union_manifold_py(group_name=group_name, tool_link=tool_link, tool_offset=xyzquat[0]+xyzquat[1], \n",
    "                                       geometry_list=constraint_manifold_list, fix_surface=fix_surface, fix_normal=fix_normal, tol=tol)"
   ]
  },
  {
   "cell_type": "code",
   "execution_count": 32,
   "metadata": {},
   "outputs": [],
   "source": [
    "from pkg.planning.constraint.constraint_common import calc_redundancy\n",
    "self = mplan\n",
    "if len(binding_list)!=1:\n",
    "    raise(RuntimeError(\"Only single manipulator operation is implemented with moveit!\"))\n",
    "self.update_gscene()\n",
    "\n",
    "obj_name, ap_name, binder_name = binding_list[0]\n",
    "redundancy = redundancy_dict[obj_name] if redundancy_dict else None\n",
    "\n",
    "binder = self.pscene.binder_dict[binder_name]\n",
    "obj = self.pscene.object_dict[obj_name]\n",
    "handle = obj.action_points_dict[ap_name]\n",
    "point_add, rpy_add = calc_redundancy(redundancy, binder)\n",
    "T_handle = handle.Toff_lh\n",
    "T_binder = np.matmul(binder.Toff_lh, SE3(Rot_rpy(rpy_add), point_add))\n",
    "\n",
    "if len(self.planner.group_names)==1:\n",
    "    group_name_handle = self.planner.group_names if handle.geometry.link_name in self.urdf_content.parent_map else []\n",
    "    group_name_binder = self.planner.group_names if binder.geometry.link_name in self.urdf_content.parent_map else []\n",
    "else:\n",
    "    group_name_handle = [gname for gname in self.planner.group_names if gname in handle.geometry.link_name]\n",
    "    group_name_binder = [gname for gname in self.planner.group_names if gname in binder.geometry.link_name]\n",
    "\n",
    "dual = False\n",
    "if group_name_binder and not group_name_handle:\n",
    "    group_name = group_name_binder[0]\n",
    "    tool, T_tool = binder, T_binder\n",
    "    target, T_tar = handle, T_handle\n",
    "elif group_name_handle and not group_name_binder:\n",
    "    group_name = group_name_handle[0]\n",
    "    tool, T_tool = handle, T_handle\n",
    "    target, T_tar = binder, T_binder\n",
    "else:\n",
    "    if not self.enable_dual:\n",
    "        raise(RuntimeError(\"dual arm motion is not enabled\"))\n",
    "    dual = True\n",
    "    group_name = \"{}_{}\".format(group_name_binder[0], group_name_handle[0])\n",
    "    self.update_gscene(group_name)\n",
    "    tool, T_tool = handle, T_handle\n",
    "    target, T_tar = binder, T_binder\n",
    "\n",
    "T_tar_tool = np.matmul(T_tar, SE3_inv(T_tool))\n",
    "goal_pose = tuple(T_tar_tool[:3,3]) \\\n",
    "            +tuple(Rotation.from_dcm(T_tar_tool[:3,:3]).as_quat())\n",
    "\n",
    "if dual:\n",
    "    dual_planner = self.dual_planner_dict[group_name]\n",
    "    planner = dual_planner.planner\n",
    "    from_Q = from_state.Q[dual_planner.idx_pscene_to_mpc]*dual_planner.joint_signs\n",
    "else:\n",
    "    planner = self.planner\n",
    "    if self.need_mapping:\n",
    "        from_Q = from_state.Q[self.idx_pscene_to_mpc]\n",
    "    else:\n",
    "        from_Q = from_state.Q"
   ]
  },
  {
   "cell_type": "code",
   "execution_count": 33,
   "metadata": {},
   "outputs": [],
   "source": [
    "# manifold = MotionManifold([gscene.NAME_DICT[\"floor\"]])"
   ]
  },
  {
   "cell_type": "code",
   "execution_count": 34,
   "metadata": {},
   "outputs": [],
   "source": [
    "gscene.show_pose(from_Q)"
   ]
  },
  {
   "cell_type": "code",
   "execution_count": 35,
   "metadata": {},
   "outputs": [],
   "source": [
    "floor = gscene.NAME_DICT[\"floor\"]\n",
    "floor_top = gscene.copy_from(floor, new_name=\"floor_top\", color=(0,1,0,0.8), display=True, collision=False)\n",
    "floor_top.set_offset_tf(center=tuple(np.add(floor_top.center, (0,0,floor_top.dims[2]/2))), \n",
    "                        orientation_mat=np.matmul(floor_top.orientation_mat, Rot_axis(1,0)))\n",
    "floor_top.set_dims(floor_top.dims[:2]+(0.001,))"
   ]
  },
  {
   "cell_type": "code",
   "execution_count": 36,
   "metadata": {},
   "outputs": [],
   "source": [
    "T_goal = T_xyzquat((goal_pose[:3], goal_pose[3:]))\n",
    "goal_pose_marker = gscene.create_safe(name=\"goal_pose\", gtype=GEOTYPE.SPHERE, link_name=\"base_link\",\n",
    "                   dims=(0.01, 0.01, 0.01), center=tuple(T_goal[:3,3]), rpy=Rot2rpy(T_goal[:3,:3]), collision=False, display=True,\n",
    "                   color=(1,0,0,1))"
   ]
  },
  {
   "cell_type": "code",
   "execution_count": 37,
   "metadata": {},
   "outputs": [],
   "source": [
    "gscene.set_rviz()"
   ]
  },
  {
   "cell_type": "code",
   "execution_count": 38,
   "metadata": {},
   "outputs": [],
   "source": [
    "gscene.add_highlight_axis(\"ax\", \"goal_pose\", goal_pose_marker.link_name, goal_pose_marker.center, goal_pose_marker.orientation_mat)"
   ]
  },
  {
   "cell_type": "code",
   "execution_count": 39,
   "metadata": {},
   "outputs": [
    {
     "name": "stdout",
     "output_type": "stream",
     "text": [
      "[ 0.3852608  -0.45200295 -1.98997688  0.00271417 -0.69100489  0.38262492\n",
      "  0.         -0.39269908  0.         -1.57079633  0.          1.57079633\n",
      "  1.57079633]\n"
     ]
    }
   ],
   "source": [
    "gscene.show_pose(lastQ)\n",
    "print(lastQ)"
   ]
  },
  {
   "cell_type": "code",
   "execution_count": 40,
   "metadata": {},
   "outputs": [],
   "source": [
    "mplan.planner.clear_context_cache()\n",
    "mplan.planner.clear_manifolds()\n",
    "manifold = MotionManifold([floor_top])\n",
    "add_constraint(mplan, group_name, tool.geometry.link_name, tool.Toff_lh, manifold, fix_surface=True, fix_normal=True, tol=2e-3)"
   ]
  },
  {
   "cell_type": "code",
   "execution_count": 41,
   "metadata": {},
   "outputs": [
    {
     "name": "stdout",
     "output_type": "stream",
     "text": [
      "result: True (27)\n"
     ]
    }
   ],
   "source": [
    "trajectory, success = mplan.planner.plan_constrained_py(\n",
    "    group_name,tool.geometry.link_name, goal_pose, target.geometry.link_name, tuple(from_Q), timeout=10)\n",
    "print('result: {} ({})'.format(success, len(trajectory)))"
   ]
  },
  {
   "cell_type": "code",
   "execution_count": 42,
   "metadata": {},
   "outputs": [],
   "source": [
    "gscene.show_motion(trajectory, period=0.05)"
   ]
  },
  {
   "cell_type": "code",
   "execution_count": null,
   "metadata": {},
   "outputs": [],
   "source": []
  },
  {
   "cell_type": "markdown",
   "metadata": {},
   "source": [
    "### eTaSL"
   ]
  },
  {
   "cell_type": "code",
   "execution_count": 22,
   "metadata": {},
   "outputs": [],
   "source": [
    "from pkg.planning.motion.etasl.etasl import EtaslPlanner\n",
    "eplan = EtaslPlanner(pscene)\n",
    "eplan.update_gscene()"
   ]
  },
  {
   "cell_type": "code",
   "execution_count": 24,
   "metadata": {},
   "outputs": [
    {
     "name": "stdout",
     "output_type": "stream",
     "text": [
      "True\n"
     ]
    }
   ],
   "source": [
    "traj, lastQ, error, success, binding_list = eplan.plan_transition(from_state, to_state, \n",
    "                                                    N=1000)\n",
    "print(success)"
   ]
  },
  {
   "cell_type": "code",
   "execution_count": 25,
   "metadata": {},
   "outputs": [],
   "source": [
    "gscene.show_motion(traj, period=0.05)"
   ]
  },
  {
   "cell_type": "code",
   "execution_count": null,
   "metadata": {},
   "outputs": [],
   "source": []
  },
  {
   "cell_type": "code",
   "execution_count": null,
   "metadata": {},
   "outputs": [],
   "source": []
  },
  {
   "cell_type": "code",
   "execution_count": null,
   "metadata": {},
   "outputs": [],
   "source": []
  },
  {
   "cell_type": "markdown",
   "metadata": {},
   "source": [
    "## Disconnect stereo"
   ]
  },
  {
   "cell_type": "code",
   "execution_count": 26,
   "metadata": {},
   "outputs": [],
   "source": [
    "stereo.disconnnect()"
   ]
  },
  {
   "cell_type": "code",
   "execution_count": null,
   "metadata": {},
   "outputs": [],
   "source": []
  }
 ],
 "metadata": {
  "kernelspec": {
   "display_name": "Python 2",
   "language": "python",
   "name": "python2"
  },
  "language_info": {
   "codemirror_mode": {
    "name": "ipython",
    "version": 2
   },
   "file_extension": ".py",
   "mimetype": "text/x-python",
   "name": "python",
   "nbconvert_exporter": "python",
   "pygments_lexer": "ipython2",
   "version": "2.7.17"
  }
 },
 "nbformat": 4,
 "nbformat_minor": 2
}
