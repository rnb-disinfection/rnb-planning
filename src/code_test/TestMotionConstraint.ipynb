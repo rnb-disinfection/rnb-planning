{
 "cells": [
  {
   "cell_type": "code",
   "execution_count": 1,
   "metadata": {},
   "outputs": [],
   "source": [
    "import os\n",
    "os.chdir(os.path.dirname(os.getcwd()))"
   ]
  },
  {
   "cell_type": "code",
   "execution_count": null,
   "metadata": {},
   "outputs": [],
   "source": []
  },
  {
   "cell_type": "markdown",
   "metadata": {},
   "source": [
    "## init combined robot config"
   ]
  },
  {
   "cell_type": "code",
   "execution_count": 2,
   "metadata": {},
   "outputs": [
    {
     "name": "stdout",
     "output_type": "stream",
     "text": [
      "connection_list\n",
      "[False]\n"
     ]
    }
   ],
   "source": [
    "from pkg.controller.combined_robot import *\n",
    "from pkg.project_config import *\n",
    "\n",
    "crob = CombinedRobot(robots_on_scene=[\n",
    "    RobotConfig(0, RobotType.indy7, None,\n",
    "                INDY_IP)]\n",
    "              , connection_list=[False])"
   ]
  },
  {
   "cell_type": "code",
   "execution_count": null,
   "metadata": {},
   "outputs": [],
   "source": []
  },
  {
   "cell_type": "markdown",
   "metadata": {},
   "source": [
    "## init stereo aruco detector"
   ]
  },
  {
   "cell_type": "code",
   "execution_count": 3,
   "metadata": {
    "scrolled": true
   },
   "outputs": [
    {
     "name": "stdout",
     "output_type": "stream",
     "text": [
      "Device configuration: \n",
      "\tcolor_format: 3 \n",
      "\t(0:JPG, 1:NV12, 2:YUY2, 3:BGRA32)\n",
      "\n",
      "\tcolor_resolution: 5 \n",
      "\t(0:OFF, 1:720p, 2:1080p, 3:1440p, 4:1536p, 5:2160p, 6:3072p)\n",
      "\n",
      "\tdepth_mode: 3 \n",
      "\t(0:OFF, 1:NFOV_2X2BINNED, 2:NFOV_UNBINNED,3:WFOV_2X2BINNED, 4:WFOV_UNBINNED, 5:Passive IR)\n",
      "\n",
      "\tcamera_fps: 2 \n",
      "\t(0:5 FPS, 1:15 FPS, 2:30 FPS)\n",
      "\n",
      "\tsynchronized_images_only: False \n",
      "\t(True of False). Drop images if the color and depth are not synchronized\n",
      "\n",
      "\tdepth_delay_off_color_usec: 0 ms. \n",
      "\tDelay between the color image and the depth image\n",
      "\n",
      "\twired_sync_mode: 0\n",
      "\t(0:Standalone mode, 1:Master mode, 2:Subordinate mode)\n",
      "\n",
      "\tsubordinate_delay_off_master_usec: 0 ms.\n",
      "\tThe external synchronization timing.\n",
      "\n",
      "\tdisable_streaming_indicator: False \n",
      "\t(True or False). Streaming indicator automatically turns on when the color or depth camera's are in use.\n",
      "\n",
      "\n",
      "Start streaming\n"
     ]
    }
   ],
   "source": [
    "from pkg.marker_config import *\n",
    "from pkg.detector.aruco.stereo import ArucoStereo\n",
    "from pkg.detector.camera.realsense import RealSense\n",
    "from pkg.detector.camera.kinect import Kinect\n",
    "aruco_map = get_aruco_map()\n",
    "stereo = ArucoStereo(aruco_map, [Kinect(), RealSense()])\n",
    "stereo.initialize()\n",
    "# stereo.calibrate()"
   ]
  },
  {
   "cell_type": "code",
   "execution_count": null,
   "metadata": {},
   "outputs": [],
   "source": []
  },
  {
   "cell_type": "code",
   "execution_count": 4,
   "metadata": {},
   "outputs": [],
   "source": [
    "from pkg.geometry.builder.scene_builder import SceneBuilder\n",
    "s_builder = SceneBuilder(stereo, base_link=\"base_link\")\n",
    "# s_builder.reset_reference_coord(ref_name=\"floor\")"
   ]
  },
  {
   "cell_type": "code",
   "execution_count": null,
   "metadata": {},
   "outputs": [],
   "source": []
  },
  {
   "cell_type": "markdown",
   "metadata": {},
   "source": [
    "## get ghnd with detected robot config"
   ]
  },
  {
   "cell_type": "code",
   "execution_count": 5,
   "metadata": {
    "scrolled": true
   },
   "outputs": [
    {
     "name": "stderr",
     "output_type": "stream",
     "text": [
      "Unknown tag \"hardwareInterface\" in /robot[@name='custom_robots']/transmission[@name='indy0_tran0']/actuator[@name='indy0_motor0']\n",
      "Unknown tag \"hardwareInterface\" in /robot[@name='custom_robots']/transmission[@name='indy0_tran1']/actuator[@name='indy0_motor1']\n",
      "Unknown tag \"hardwareInterface\" in /robot[@name='custom_robots']/transmission[@name='indy0_tran2']/actuator[@name='indy0_motor2']\n",
      "Unknown tag \"hardwareInterface\" in /robot[@name='custom_robots']/transmission[@name='indy0_tran3']/actuator[@name='indy0_motor3']\n",
      "Unknown tag \"hardwareInterface\" in /robot[@name='custom_robots']/transmission[@name='indy0_tran4']/actuator[@name='indy0_motor4']\n",
      "Unknown tag \"hardwareInterface\" in /robot[@name='custom_robots']/transmission[@name='indy0_tran5']/actuator[@name='indy0_motor5']\n"
     ]
    },
    {
     "name": "stdout",
     "output_type": "stream",
     "text": [
      "Please create a subscriber to the marker\n",
      "publication OK\n",
      "published: [0, 0, 0, 0, 0, 0]\n"
     ]
    }
   ],
   "source": [
    "# xyz_rpy_robots = s_builder.detect_items(level_mask=[DetectionLevel.ROBOT])\n",
    "xyz_rpy_robots = {\"indy0\": ((0,0,0), (0,0,-np.pi/2))}\n",
    "crob.update_robot_pos_dict(xyz_rpy_robots=xyz_rpy_robots)\n",
    "gscene = s_builder.create_gscene(crob)"
   ]
  },
  {
   "cell_type": "code",
   "execution_count": null,
   "metadata": {},
   "outputs": [],
   "source": []
  },
  {
   "cell_type": "markdown",
   "metadata": {},
   "source": [
    "## add environment"
   ]
  },
  {
   "cell_type": "code",
   "execution_count": 6,
   "metadata": {},
   "outputs": [
    {
     "name": "stdout",
     "output_type": "stream",
     "text": [
      "Please create a subscriber to the marker\n"
     ]
    }
   ],
   "source": [
    "floor = gscene.create_safe(GEOTYPE.BOX, \"floor\", \"base_link\", (1.5,1.5,0.01), (0,0,0), \n",
    "                           rpy=(0,0,0), color=(0.8,0.8,0.8,0.5), display=True, fixed=True, collision=True)\n",
    "goal = gscene.create_safe(GEOTYPE.BOX, \"goal\", \"base_link\", (0.1,0.1,0.01), (0.2,-0.5,0), \n",
    "                          rpy=(0,0,0), color=(0.8,0.2,0.2,1), display=True, fixed=True, collision=False)"
   ]
  },
  {
   "cell_type": "code",
   "execution_count": 7,
   "metadata": {},
   "outputs": [],
   "source": [
    "gtems = s_builder.add_robot_geometries(color=(0,1,0,0.5), display=True, collision=True, exclude_link=[\"panda1_link7\"])"
   ]
  },
  {
   "cell_type": "code",
   "execution_count": null,
   "metadata": {},
   "outputs": [],
   "source": []
  },
  {
   "cell_type": "markdown",
   "metadata": {},
   "source": [
    "## add brush"
   ]
  },
  {
   "cell_type": "code",
   "execution_count": 8,
   "metadata": {},
   "outputs": [
    {
     "data": {
      "text/plain": [
       "<pkg.geometry.geometry.GeometryItem at 0x7f2939484350>"
      ]
     },
     "execution_count": 8,
     "metadata": {},
     "output_type": "execute_result"
    }
   ],
   "source": [
    "gscene.create_safe(gtype=GEOTYPE.BOX, name=\"brush_body\", link_name=\"base_link\", dims=(0.2,0.07,0.02), \n",
    "                   center=(-0.2,-0.5,0.045), rpy=(0,0,np.pi/2), color=(0.7,0.7,0.3,1), display=True, collision=True, fixed=False)\n",
    "gscene.create_safe(gtype=GEOTYPE.BOX, name=\"brush_handle\", link_name=\"base_link\", dims=(0.2,0.03,0.05), center=(0,0,0.035), rpy=(0,0,0), \n",
    "                   color=(0.7,0.7,0.3,1), display=True, collision=True, fixed=False, parent=\"brush_body\")\n",
    "gscene.create_safe(gtype=GEOTYPE.BOX, name=\"brush_face\", link_name=\"base_link\", dims=(0.19,0.06,0.03), center=(0,0,-0.025), rpy=(0,0,0), \n",
    "                   color=(0.8,0.8,0.8,1), display=True, collision=False, fixed=False, parent=\"brush_body\")"
   ]
  },
  {
   "cell_type": "code",
   "execution_count": null,
   "metadata": {},
   "outputs": [],
   "source": []
  },
  {
   "cell_type": "markdown",
   "metadata": {},
   "source": [
    "## init planning scene"
   ]
  },
  {
   "cell_type": "code",
   "execution_count": 9,
   "metadata": {},
   "outputs": [],
   "source": [
    "from pkg.planning.scene import PlanningScene\n",
    "pscene = PlanningScene(gscene, combined_robot=crob)"
   ]
  },
  {
   "cell_type": "code",
   "execution_count": null,
   "metadata": {},
   "outputs": [],
   "source": []
  },
  {
   "cell_type": "markdown",
   "metadata": {},
   "source": [
    "## Register binders"
   ]
  },
  {
   "cell_type": "code",
   "execution_count": 10,
   "metadata": {},
   "outputs": [],
   "source": [
    "from pkg.planning.constraint.constraint_action import Gripper2Tool, PlacePlane"
   ]
  },
  {
   "cell_type": "code",
   "execution_count": 11,
   "metadata": {},
   "outputs": [
    {
     "data": {
      "text/plain": [
       "<pkg.geometry.geometry.GeometryItem at 0x7f2913f974d0>"
      ]
     },
     "execution_count": 11,
     "metadata": {},
     "output_type": "execute_result"
    }
   ],
   "source": [
    "gscene.create_safe(gtype=GEOTYPE.SPHERE, name=\"grip0\", link_name=\"indy0_tcp\", \n",
    "                 dims=(0.01,)*3, center=(0,0,0.14), rpy=(-np.pi/2,0,0), color=(1,0,0,1), display=True, collision=False, fixed=True)"
   ]
  },
  {
   "cell_type": "code",
   "execution_count": 12,
   "metadata": {},
   "outputs": [
    {
     "data": {
      "text/plain": [
       "<pkg.planning.constraint.constraint_action.PlacePlane at 0x7f2913feead0>"
      ]
     },
     "execution_count": 12,
     "metadata": {},
     "output_type": "execute_result"
    }
   ],
   "source": [
    "pscene.create_binder(bname=\"grip0\", gname=\"grip0\", _type=Gripper2Tool, point=(0,0,0), rpy=(0,0,0))\n",
    "pscene.create_binder(bname=\"floor\", gname=\"floor\", _type=PlacePlane)\n",
    "pscene.create_binder(bname=\"goal_bd\", gname=\"goal\", _type=PlacePlane, point=(0,0,0.005), rpy=(0,0,0))"
   ]
  },
  {
   "cell_type": "code",
   "execution_count": null,
   "metadata": {},
   "outputs": [],
   "source": []
  },
  {
   "cell_type": "markdown",
   "metadata": {},
   "source": [
    "## add objects"
   ]
  },
  {
   "cell_type": "code",
   "execution_count": 13,
   "metadata": {},
   "outputs": [],
   "source": [
    "from pkg.planning.constraint.constraint_object import CustomObject, Grasp2Point, PlacePoint"
   ]
  },
  {
   "cell_type": "code",
   "execution_count": 14,
   "metadata": {},
   "outputs": [],
   "source": [
    "brush_handle = gscene.NAME_DICT[\"brush_handle\"]\n",
    "brush_face = gscene.NAME_DICT[\"brush_face\"]\n",
    "brush = pscene.create_object(oname=\"brush\", gname=\"brush_body\", _type=CustomObject, \n",
    "                             action_points_dict = {\"handle\": Grasp2Point(\"handle\", brush_handle, [0,0,0], [np.pi/2,0,0]),\n",
    "                                                   \"face\": PlacePoint(\"face\", brush_face, [0,0,-0.015], [0,0,0])})"
   ]
  },
  {
   "cell_type": "code",
   "execution_count": null,
   "metadata": {},
   "outputs": [],
   "source": []
  },
  {
   "cell_type": "markdown",
   "metadata": {},
   "source": [
    "### planning pipeline"
   ]
  },
  {
   "cell_type": "code",
   "execution_count": 15,
   "metadata": {},
   "outputs": [],
   "source": [
    "from pkg.planning.motion.moveit.moveit_planner import MoveitPlanner\n",
    "mplan = MoveitPlanner(pscene)\n",
    "mplan.update_gscene()\n",
    "from pkg.planning.task.object_a_star import ObjectAstar\n",
    "tplan = ObjectAstar(pscene)\n",
    "tplan.prepare()\n",
    "from pkg.planning.pipeline import PlanningPipeline\n",
    "ppline = PlanningPipeline(pscene)\n",
    "ppline.set_motion(mplan)\n",
    "ppline.set_sampler(tplan)"
   ]
  },
  {
   "cell_type": "code",
   "execution_count": null,
   "metadata": {},
   "outputs": [],
   "source": []
  },
  {
   "cell_type": "markdown",
   "metadata": {},
   "source": [
    "## ui"
   ]
  },
  {
   "cell_type": "code",
   "execution_count": 16,
   "metadata": {},
   "outputs": [
    {
     "name": "stdout",
     "output_type": "stream",
     "text": [
      "Dash is running on http://0.0.0.0:8050/\n",
      "\n",
      " * Serving Flask app \"pkg.ui.dash_launcher\" (lazy loading)\n",
      " * Environment: production\n",
      "   WARNING: This is a development server. Do not use it in a production deployment.\n",
      "   Use a production WSGI server instead.\n",
      " * Debug mode: off\n"
     ]
    }
   ],
   "source": [
    "from pkg.ui.ui_broker import *\n",
    "\n",
    "# start UI\n",
    "ui_broker = UIBroker.instance()\n",
    "ui_broker.initialize(ppline, s_builder)\n",
    "ui_broker.start_server()\n",
    "\n",
    "ui_broker.set_tables()"
   ]
  },
  {
   "cell_type": "code",
   "execution_count": null,
   "metadata": {},
   "outputs": [],
   "source": []
  },
  {
   "cell_type": "markdown",
   "metadata": {},
   "source": [
    "## Test plan"
   ]
  },
  {
   "cell_type": "code",
   "execution_count": 17,
   "metadata": {},
   "outputs": [
    {
     "name": "stdout",
     "output_type": "stream",
     "text": [
      "node: ('floor',)->('grip0',) = success\n",
      "Remaining:2->1 / branching: 0->1 (0.5/600.0 s, steps/err: 25(499.246120453 ms)/2.66397815351)\n",
      "======================================================================================================================================================\n",
      "node: ('grip0',)->('goal',) = success\n",
      "Remaining:1->0 / branching: 1->2 (1.02/600.0 s, steps/err: 24(513.883829117 ms)/0.00124465433599)\n",
      "======================================================================================================================================================\n",
      "=========================================================================================================\n",
      "======================= terminated 0: first answer acquired ===============================\n",
      "=========================================================================================================\n"
     ]
    }
   ],
   "source": [
    "from pkg.planning.constraint.constraint_common \\\n",
    "            import sample_redundancy, combine_redundancy\n",
    "\n",
    "obj, handle, binder = \"brush\", \"face\", \"goal_bd\"\n",
    "initial_state = pscene.get_state(crob.home_pose)\n",
    "goal_nodes = pscene.get_goal_nodes(initial_state.node, obj, binder)\n",
    "ppline.search(initial_state, goal_nodes, verbose=True, display=True, dt_vis=0.01)\n",
    "schedules = ppline.find_schedules()\n",
    "schedules_sorted = ppline.sort_schedule(schedules)\n",
    "snode_schedule = ppline.idxSchedule2SnodeScedule(schedules_sorted[0])"
   ]
  },
  {
   "cell_type": "code",
   "execution_count": 18,
   "metadata": {},
   "outputs": [],
   "source": [
    "schedule = ppline.idxSchedule2SnodeScedule(ppline.find_schedules().values()[0])"
   ]
  },
  {
   "cell_type": "code",
   "execution_count": 19,
   "metadata": {},
   "outputs": [],
   "source": [
    "ppline.play_schedule(schedule)"
   ]
  },
  {
   "cell_type": "code",
   "execution_count": 20,
   "metadata": {},
   "outputs": [
    {
     "name": "stdout",
     "output_type": "stream",
     "text": [
      "(('brush', 'face', 'floor'),)\n",
      "(('brush', 'handle', 'grip0'),)\n",
      "(('brush', 'face', 'goal_bd'),)\n"
     ]
    }
   ],
   "source": [
    "print(schedule[0].state.node)\n",
    "print(schedule[1].state.node)\n",
    "print(schedule[2].state.node)"
   ]
  },
  {
   "cell_type": "code",
   "execution_count": null,
   "metadata": {},
   "outputs": [],
   "source": []
  },
  {
   "cell_type": "code",
   "execution_count": 48,
   "metadata": {},
   "outputs": [
    {
     "name": "stdout",
     "output_type": "stream",
     "text": [
      "True\n"
     ]
    }
   ],
   "source": [
    "idx = 0\n",
    "from_state = schedule[idx].state\n",
    "to_state = schedule[idx+1].state\n",
    "redundancy_dict = schedule[idx+1].redundancy_dict\n",
    "redundancy_dict[obj]['w'] = 0\n",
    "traj, lastQ, error, success, binding_list = mplan.plan_transition(from_state, to_state, \n",
    "                                                    redundancy_dict=redundancy_dict)\n",
    "print(success)\n",
    "if success:\n",
    "    for bd in binding_list:\n",
    "        pscene.rebind(bd, list2dict(lastQ, pscene.gscene.joint_names))"
   ]
  },
  {
   "cell_type": "code",
   "execution_count": 60,
   "metadata": {},
   "outputs": [],
   "source": [
    "new_state = State(*(pscene.get_object_state()+(lastQ, pscene)))"
   ]
  },
  {
   "cell_type": "code",
   "execution_count": 61,
   "metadata": {},
   "outputs": [],
   "source": [
    "gscene.show_motion(traj)"
   ]
  },
  {
   "cell_type": "code",
   "execution_count": 62,
   "metadata": {},
   "outputs": [
    {
     "name": "stdout",
     "output_type": "stream",
     "text": [
      "True\n"
     ]
    }
   ],
   "source": [
    "idx = 1\n",
    "from_state = new_state.copy(pscene)\n",
    "to_state = from_state.copy(pscene)\n",
    "to_state.node = (('brush', 'face', 'goal_bd'),)\n",
    "redundancy_dict = schedule[idx+1].redundancy_dict\n",
    "redundancy_dict = {obj:{'w': np.pi/2}}\n",
    "traj, lastQ, error, success, binding_list = mplan.plan_transition(from_state, to_state, \n",
    "                                                    redundancy_dict=redundancy_dict)\n",
    "print(success)"
   ]
  },
  {
   "cell_type": "code",
   "execution_count": 63,
   "metadata": {},
   "outputs": [],
   "source": [
    "gscene.show_motion(traj, period=0.05)"
   ]
  },
  {
   "cell_type": "code",
   "execution_count": null,
   "metadata": {},
   "outputs": [],
   "source": []
  },
  {
   "cell_type": "code",
   "execution_count": 65,
   "metadata": {},
   "outputs": [],
   "source": [
    "from pkg.planning.constraint.constraint_common import calc_redundancy\n",
    "self = mplan\n",
    "if len(binding_list)!=1:\n",
    "    raise(RuntimeError(\"Only single manipulator operation is implemented with moveit!\"))\n",
    "self.update_gscene()\n",
    "\n",
    "obj_name, ap_name, binder_name = binding_list[0]\n",
    "redundancy = redundancy_dict[obj_name] if redundancy_dict else None\n",
    "\n",
    "binder = self.pscene.binder_dict[binder_name]\n",
    "obj = self.pscene.object_dict[obj_name]\n",
    "handle = obj.action_points_dict[ap_name]\n",
    "point_add, rpy_add = calc_redundancy(redundancy, binder)\n",
    "T_handle = handle.Toff_lh\n",
    "T_binder = np.matmul(binder.Toff_lh, SE3(Rot_rpy(rpy_add), point_add))\n",
    "\n",
    "if len(self.planner.group_names)==1:\n",
    "    group_name_handle = self.planner.group_names if handle.geometry.link_name in self.urdf_content.parent_map else []\n",
    "    group_name_binder = self.planner.group_names if binder.geometry.link_name in self.urdf_content.parent_map else []\n",
    "else:\n",
    "    group_name_handle = [gname for gname in self.planner.group_names if gname in handle.geometry.link_name]\n",
    "    group_name_binder = [gname for gname in self.planner.group_names if gname in binder.geometry.link_name]\n",
    "\n",
    "dual = False\n",
    "if group_name_binder and not group_name_handle:\n",
    "    group_name = group_name_binder[0]\n",
    "    tool, T_tool = binder, T_binder\n",
    "    target, T_tar = handle, T_handle\n",
    "elif group_name_handle and not group_name_binder:\n",
    "    group_name = group_name_handle[0]\n",
    "    tool, T_tool = handle, T_handle\n",
    "    target, T_tar = binder, T_binder\n",
    "else:\n",
    "    if not self.enable_dual:\n",
    "        raise(RuntimeError(\"dual arm motion is not enabled\"))\n",
    "    dual = True\n",
    "    group_name = \"{}_{}\".format(group_name_binder[0], group_name_handle[0])\n",
    "    self.update_gscene(group_name)\n",
    "    tool, T_tool = handle, T_handle\n",
    "    target, T_tar = binder, T_binder\n",
    "\n",
    "T_tar_tool = np.matmul(T_tar, SE3_inv(T_tool))\n",
    "goal_pose = tuple(T_tar_tool[:3,3]) \\\n",
    "            +tuple(Rotation.from_dcm(T_tar_tool[:3,:3]).as_quat())\n",
    "\n",
    "if dual:\n",
    "    dual_planner = self.dual_planner_dict[group_name]\n",
    "    planner = dual_planner.planner\n",
    "    from_Q = from_state.Q[dual_planner.idx_pscene_to_mpc]*dual_planner.joint_signs\n",
    "else:\n",
    "    planner = self.planner\n",
    "    if self.need_mapping:\n",
    "        from_Q = from_state.Q[self.idx_pscene_to_mpc]\n",
    "    else:\n",
    "        from_Q = from_state.Q"
   ]
  },
  {
   "cell_type": "code",
   "execution_count": 66,
   "metadata": {},
   "outputs": [],
   "source": [
    "gscene.show_pose(from_Q)"
   ]
  },
  {
   "cell_type": "code",
   "execution_count": null,
   "metadata": {},
   "outputs": [],
   "source": []
  },
  {
   "cell_type": "markdown",
   "metadata": {},
   "source": [
    "## Test constrained motion"
   ]
  },
  {
   "cell_type": "code",
   "execution_count": 67,
   "metadata": {},
   "outputs": [],
   "source": [
    "from pkg.planning.constraint.constraint_common import MotionConstraint"
   ]
  },
  {
   "cell_type": "code",
   "execution_count": 68,
   "metadata": {},
   "outputs": [],
   "source": [
    "motion_constraint = MotionConstraint([gscene.NAME_DICT[\"floor\"]], True, True, 1e-3)\n",
    "timeout = 10"
   ]
  },
  {
   "cell_type": "code",
   "execution_count": 69,
   "metadata": {},
   "outputs": [
    {
     "name": "stdout",
     "output_type": "stream",
     "text": [
      "result: True (33)\n"
     ]
    }
   ],
   "source": [
    "mplan.planner.clear_context_cache()\n",
    "mplan.planner.clear_manifolds()\n",
    "mplan.add_constraint(group_name, tool.geometry.link_name, tool.Toff_lh, \n",
    "                     motion_constraint=motion_constraint)\n",
    "trajectory, success = mplan.planner.plan_constrained_py(\n",
    "    group_name,tool.geometry.link_name, goal_pose, target.geometry.link_name, tuple(from_Q), timeout=timeout)\n",
    "print('result: {} ({})'.format(success, len(trajectory)))"
   ]
  },
  {
   "cell_type": "code",
   "execution_count": 70,
   "metadata": {},
   "outputs": [],
   "source": [
    "gscene.show_motion(trajectory, period=0.05)"
   ]
  },
  {
   "cell_type": "code",
   "execution_count": null,
   "metadata": {},
   "outputs": [],
   "source": []
  },
  {
   "cell_type": "markdown",
   "metadata": {},
   "source": [
    "## Redefine state structure"
   ]
  },
  {
   "cell_type": "code",
   "execution_count": 34,
   "metadata": {},
   "outputs": [],
   "source": [
    "from copy import deepcopy\n",
    "\n",
    "class StateItem:\n",
    "    pass\n",
    "\n",
    "##\n",
    "# @class state item to describe object state\n",
    "class ObjectState(StateItem):\n",
    "    ##\n",
    "    # @param obj_name string name of object\n",
    "    # @param binding_point action point of object that is binded to the binder\n",
    "    # @param binder string name of binder\n",
    "    def __init__(self, obj_name, binding_point, binder, Toff):\n",
    "        self.obj_name = obj_name\n",
    "        self.binding_point = binding_point\n",
    "        self.binder = binder\n",
    "        self.Toff = Toff.copy()\n",
    "        \n",
    "    def get_node_item(self):\n",
    "        return (self.obj_name, self.binding_point, self.binder)\n",
    "        \n",
    "    def get_param_item(self):\n",
    "        return (self.obj_name, self.Toff)\n",
    "\n",
    "##\n",
    "# @brief convert node to dictionary\n",
    "def node2dict(node):\n",
    "    return {ntem[0]: ntem[1:] for ntem in node}\n",
    "    \n",
    "##\n",
    "# @class TaskSwip\n",
    "# @brief definition of swip task\n",
    "class TaskStateSwip(StateItem):\n",
    "    NOTOUCH = 0\n",
    "    TOUCHED = 1\n",
    "    REACHED = 2\n",
    "    ##\n",
    "    # @param motion_constraint_list list of rnb-planning.src.pkg.planning.constraint.constraint_common.MotionConstraint\n",
    "    def __init__(self, name, motion_constraint_list):\n",
    "        self.name = name\n",
    "        self.motion_constraint_list = motion_constraint_list\n",
    "        \n",
    "    def get_node_item(self):\n",
    "        return (self.obj_name, self.binding_point, self.binder)\n",
    "        \n",
    "    def get_param_item(self):\n",
    "        return (self.obj_name, self.Toff)\n",
    "    \n",
    "    def get_task_node(self, from_state, to_state):\n",
    "        from_dict = node2dict(from_state.node)\n",
    "        to_dict = node2dict(to_state.node)\n",
    "        if from_dict[self.name] == NOTOUCH:\n",
    "            pass \n",
    "        elif from_dict[self.name] == TOUCHED:\n",
    "            pass \n",
    "        elif from_dict[self.name] == REACHED:\n",
    "            pass"
   ]
  },
  {
   "cell_type": "code",
   "execution_count": 48,
   "metadata": {},
   "outputs": [],
   "source": [
    "ostate = ObjectState(pscene.object_dict[pscene.object_list[0]])"
   ]
  },
  {
   "cell_type": "code",
   "execution_count": 49,
   "metadata": {},
   "outputs": [
    {
     "data": {
      "text/plain": [
       "<__main__.ObjectState instance at 0x7f68140759b0>"
      ]
     },
     "execution_count": 49,
     "metadata": {},
     "output_type": "execute_result"
    }
   ],
   "source": [
    "ostate"
   ]
  },
  {
   "cell_type": "code",
   "execution_count": 122,
   "metadata": {},
   "outputs": [],
   "source": [
    "class CustomTuple(tuple):\n",
    "    def __init__(self, *args, **kwargs):\n",
    "        pass"
   ]
  },
  {
   "cell_type": "code",
   "execution_count": 115,
   "metadata": {},
   "outputs": [],
   "source": [
    "class CustomDict(dict):\n",
    "    def __init__(self, *args, **kwargs):\n",
    "        pass"
   ]
  },
  {
   "cell_type": "code",
   "execution_count": 119,
   "metadata": {},
   "outputs": [
    {
     "data": {
      "text/plain": [
       "{}"
      ]
     },
     "execution_count": 119,
     "metadata": {},
     "output_type": "execute_result"
    }
   ],
   "source": [
    "CustomDict(a=2)"
   ]
  },
  {
   "cell_type": "code",
   "execution_count": 126,
   "metadata": {},
   "outputs": [
    {
     "data": {
      "text/plain": [
       "(1, 2)"
      ]
     },
     "execution_count": 126,
     "metadata": {},
     "output_type": "execute_result"
    }
   ],
   "source": [
    "CustomTuple((1,2))"
   ]
  },
  {
   "cell_type": "code",
   "execution_count": null,
   "metadata": {},
   "outputs": [],
   "source": []
  },
  {
   "cell_type": "code",
   "execution_count": 88,
   "metadata": {},
   "outputs": [],
   "source": [
    "class NodeItem:\n",
    "    def __init__(self, *args):\n",
    "        self.args = args\n",
    "        \n",
    "    def key(self):\n",
    "        return tuple(self.args)\n",
    "\n",
    "class ObjectNodeItem(NodeItem):\n",
    "    def __init__(self, *args):\n",
    "        assert len(args)==3, \"Object node should be (object name, point_name, binder_name)\"\n",
    "        for arg in args:\n",
    "            assert isinstance(arg, str), \"Object node item components should be string\"\n",
    "        NodeItem.__init__(self, args)\n",
    "\n",
    "class TaskNodeItem(NodeItem):\n",
    "    def __init__(self, *args):\n",
    "        assert len(args)==2, \"Task node should be (task name, descrete_state_describer)\"\n",
    "        assert isinstance(args[0], str), \"task name should be string\"\n",
    "        assert isinstance(args[1], int), \"descrete_state_describer should be integer\"\n",
    "        NodeItem.__init__(self, args)\n",
    "    \n",
    "class StateNode(tuple):\n",
    "    def __init__(self, *args):\n",
    "        for arg in args:\n",
    "            assert isinstance(arg, NodeItem), \"invalid node item class\"\n",
    "        tuple.__init__(self, args)\n",
    "    \n",
    "class StateParam(dict):\n",
    "    pass"
   ]
  },
  {
   "cell_type": "code",
   "execution_count": 101,
   "metadata": {},
   "outputs": [],
   "source": [
    "node = ObjectNodeItem(\"box\",\"front_p\", \"floor\")\n",
    "node2 = ObjectNodeItem(\"box\",\"front_p\", \"floor2\")\n",
    "node3 = ObjectNodeItem(\"box\",\"front_p\", \"floor\")"
   ]
  },
  {
   "cell_type": "code",
   "execution_count": 107,
   "metadata": {},
   "outputs": [
    {
     "data": {
      "text/plain": [
       "8422952728846341422"
      ]
     },
     "execution_count": 107,
     "metadata": {},
     "output_type": "execute_result"
    }
   ],
   "source": [
    "hash(node)"
   ]
  },
  {
   "cell_type": "code",
   "execution_count": 109,
   "metadata": {},
   "outputs": [
    {
     "data": {
      "text/plain": [
       "8422952728846341422"
      ]
     },
     "execution_count": 109,
     "metadata": {},
     "output_type": "execute_result"
    }
   ],
   "source": [
    "hash(node3)"
   ]
  },
  {
   "cell_type": "code",
   "execution_count": 102,
   "metadata": {},
   "outputs": [],
   "source": [
    "dict_example = {node: 1, node2:2, node3:3}"
   ]
  },
  {
   "cell_type": "code",
   "execution_count": 110,
   "metadata": {},
   "outputs": [
    {
     "data": {
      "text/plain": [
       "{<__main__.ObjectNodeItem instance at 0x7f680c79b460>: 3,\n",
       " <__main__.ObjectNodeItem instance at 0x7f680c79b4b0>: 1,\n",
       " <__main__.ObjectNodeItem instance at 0x7f68140712d0>: 2}"
      ]
     },
     "execution_count": 110,
     "metadata": {},
     "output_type": "execute_result"
    }
   ],
   "source": [
    "dict_example"
   ]
  },
  {
   "cell_type": "code",
   "execution_count": null,
   "metadata": {},
   "outputs": [],
   "source": []
  },
  {
   "cell_type": "code",
   "execution_count": 106,
   "metadata": {},
   "outputs": [
    {
     "data": {
      "text/plain": [
       "3"
      ]
     },
     "execution_count": 106,
     "metadata": {},
     "output_type": "execute_result"
    }
   ],
   "source": [
    "dict_example[node3]"
   ]
  },
  {
   "cell_type": "code",
   "execution_count": null,
   "metadata": {},
   "outputs": [],
   "source": []
  },
  {
   "cell_type": "code",
   "execution_count": 42,
   "metadata": {},
   "outputs": [],
   "source": [
    "##\n",
    "# @class    State\n",
    "# @brief    planning scene state\n",
    "class State:\n",
    "    ##\n",
    "    # @param node           tuple of binding state ((object name, binding point, binder), ..)\n",
    "    # @param obj_pos_dict   object pose dictionary {object name: 4x4 offset relative to attached link}\n",
    "    # @param Q              robot joint configuration\n",
    "    # @param pscene         PlanningScene instance\n",
    "    def __init__(self, node, state_param, Q, pscene):\n",
    "        assert isinstance(state_param, StateParam) \"invalid type for state_param\"\n",
    "        self.state_param = state_param\n",
    "        self.Q = Q\n",
    "        self.set_node(node, pscene)\n",
    "\n",
    "    def set_node(self, node, pscene):\n",
    "        assert isinstance(node, StateNode) \"invalid type for node\"\n",
    "        ## @brief tuple of binding state ((object name, binding point, binder), ..)\n",
    "        self.node = node\n",
    "        ## @brief tuple of simplified binding state (binder name 1, binder name 2, ..)\n",
    "        self.onode = node2onode(pscene, self.node)\n",
    "\n",
    "    def get_tuple(self):\n",
    "        return (self.node, self.state_param, self.Q)\n",
    "\n",
    "    def copy(self, pscene):\n",
    "        return State(self.node, self.state_param, self.Q, pscene)\n",
    "\n",
    "    def __str__(self):\n",
    "        return str((self.node,\n",
    "                    {k: str(np.round(v, 2)) for k, v in\n",
    "                     self.state_param.items()} if self.state_param is not None else None,\n",
    "                    str(np.round(self.Q, 2)) if self.Q is not None else None))"
   ]
  },
  {
   "cell_type": "code",
   "execution_count": null,
   "metadata": {},
   "outputs": [],
   "source": [
    "get_slack_binding"
   ]
  },
  {
   "cell_type": "code",
   "execution_count": null,
   "metadata": {},
   "outputs": [],
   "source": []
  },
  {
   "cell_type": "code",
   "execution_count": 38,
   "metadata": {},
   "outputs": [],
   "source": [
    "##\n",
    "# @class TaskInterface\n",
    "# @brief Interface for task definition\n",
    "class TaskInterface:\n",
    "    def __init__(self, *args, **kwargs):\n",
    "        pass\n",
    "    \n",
    "    ##\n",
    "    # @brief get current task state\n",
    "    @abstractmethod\n",
    "    def get_task_state(self, from_state, to_state):\n",
    "        pass\n",
    "\n",
    "\n",
    "##\n",
    "# @brief convert node to dictionary\n",
    "def node2dict(node):\n",
    "    return {ntem[0]: ntem[1:] for ntem in node}\n",
    "    \n",
    "##\n",
    "# @class TaskSwip\n",
    "# @brief definition of swip task\n",
    "class TaskSwip(TaskInterface):\n",
    "    NOTOUCH = 0\n",
    "    TOUCHED = 1\n",
    "    REACHED = 2\n",
    "    ##\n",
    "    # @param motion_constraint_list list of rnb-planning.src.pkg.planning.constraint.constraint_common.MotionConstraint\n",
    "    def __init__(self, name, motion_constraint_list):\n",
    "        self.name = name\n",
    "        self.motion_constraint_list = motion_constraint_list\n",
    "        \n",
    "    def get_task_node(self, from_state, to_state):\n",
    "        from_dict = node2dict(from_state.node)\n",
    "        to_dict = node2dict(to_state.node)\n",
    "        if from_dict[self.name] == NOTOUCH:\n",
    "            pass \n",
    "        elif from_dict[self.name] == TOUCHED:\n",
    "            pass \n",
    "        elif from_dict[self.name] == REACHED:\n",
    "            pass"
   ]
  },
  {
   "cell_type": "code",
   "execution_count": 39,
   "metadata": {},
   "outputs": [],
   "source": [
    "swip = TaskSwip([MotionConstraint([gscene.NAME_DICT[\"floor\"]], True, True, 1e-3)])"
   ]
  },
  {
   "cell_type": "code",
   "execution_count": null,
   "metadata": {},
   "outputs": [],
   "source": [
    "mplan.planner.clear_context_cache()\n",
    "mplan.planner.clear_manifolds()\n",
    "mplan.add_constraint(group_name, tool.geometry.link_name, tool.Toff_lh, \n",
    "                     geometry_list=mc_tem.geometry_list, \n",
    "                     fix_surface=mc_tem.fix_surface, fix_normal=mc_tem.fix_normal, tol=mc_tem.tol)\n",
    "trajectory, success = mplan.planner.plan_constrained_py(\n",
    "    group_name,tool.geometry.link_name, goal_pose, target.geometry.link_name, tuple(from_Q), timeout=timeout)\n",
    "print('result: {} ({})'.format(success, len(trajectory)))"
   ]
  },
  {
   "cell_type": "code",
   "execution_count": null,
   "metadata": {},
   "outputs": [],
   "source": []
  },
  {
   "cell_type": "code",
   "execution_count": null,
   "metadata": {},
   "outputs": [],
   "source": []
  },
  {
   "cell_type": "markdown",
   "metadata": {},
   "source": [
    "## Disconnect stereo"
   ]
  },
  {
   "cell_type": "code",
   "execution_count": 26,
   "metadata": {},
   "outputs": [],
   "source": [
    "stereo.disconnnect()"
   ]
  },
  {
   "cell_type": "code",
   "execution_count": null,
   "metadata": {},
   "outputs": [],
   "source": []
  }
 ],
 "metadata": {
  "kernelspec": {
   "display_name": "Python 2",
   "language": "python",
   "name": "python2"
  },
  "language_info": {
   "codemirror_mode": {
    "name": "ipython",
    "version": 2
   },
   "file_extension": ".py",
   "mimetype": "text/x-python",
   "name": "python",
   "nbconvert_exporter": "python",
   "pygments_lexer": "ipython2",
   "version": "2.7.17"
  }
 },
 "nbformat": 4,
 "nbformat_minor": 2
}
