{
 "cells": [
  {
   "cell_type": "code",
   "execution_count": 1,
   "metadata": {},
   "outputs": [],
   "source": [
    "import os\n",
    "os.chdir(os.path.dirname(os.getcwd()))"
   ]
  },
  {
   "cell_type": "code",
   "execution_count": null,
   "metadata": {},
   "outputs": [],
   "source": []
  },
  {
   "cell_type": "markdown",
   "metadata": {},
   "source": [
    "## init combined robot config"
   ]
  },
  {
   "cell_type": "code",
   "execution_count": 2,
   "metadata": {},
   "outputs": [
    {
     "name": "stdout",
     "output_type": "stream",
     "text": [
      "connection_list\n",
      "[False]\n"
     ]
    }
   ],
   "source": [
    "from pkg.controller.combined_robot import *\n",
    "from pkg.project_config import *\n",
    "\n",
    "crob = CombinedRobot(robots_on_scene=[\n",
    "    RobotConfig(0, RobotType.indy7, None,\n",
    "                INDY_IP)]\n",
    "              , connection_list=[False])"
   ]
  },
  {
   "cell_type": "code",
   "execution_count": null,
   "metadata": {},
   "outputs": [],
   "source": []
  },
  {
   "cell_type": "markdown",
   "metadata": {},
   "source": [
    "## init stereo aruco detector"
   ]
  },
  {
   "cell_type": "code",
   "execution_count": 3,
   "metadata": {
    "scrolled": true
   },
   "outputs": [
    {
     "name": "stdout",
     "output_type": "stream",
     "text": [
      "Device configuration: \n",
      "\tcolor_format: 3 \n",
      "\t(0:JPG, 1:NV12, 2:YUY2, 3:BGRA32)\n",
      "\n",
      "\tcolor_resolution: 5 \n",
      "\t(0:OFF, 1:720p, 2:1080p, 3:1440p, 4:1536p, 5:2160p, 6:3072p)\n",
      "\n",
      "\tdepth_mode: 3 \n",
      "\t(0:OFF, 1:NFOV_2X2BINNED, 2:NFOV_UNBINNED,3:WFOV_2X2BINNED, 4:WFOV_UNBINNED, 5:Passive IR)\n",
      "\n",
      "\tcamera_fps: 2 \n",
      "\t(0:5 FPS, 1:15 FPS, 2:30 FPS)\n",
      "\n",
      "\tsynchronized_images_only: False \n",
      "\t(True of False). Drop images if the color and depth are not synchronized\n",
      "\n",
      "\tdepth_delay_off_color_usec: 0 ms. \n",
      "\tDelay between the color image and the depth image\n",
      "\n",
      "\twired_sync_mode: 0\n",
      "\t(0:Standalone mode, 1:Master mode, 2:Subordinate mode)\n",
      "\n",
      "\tsubordinate_delay_off_master_usec: 0 ms.\n",
      "\tThe external synchronization timing.\n",
      "\n",
      "\tdisable_streaming_indicator: False \n",
      "\t(True or False). Streaming indicator automatically turns on when the color or depth camera's are in use.\n",
      "\n",
      "\n",
      "Start streaming\n"
     ]
    }
   ],
   "source": [
    "from pkg.marker_config import *\n",
    "from pkg.detector.aruco.stereo import ArucoStereo\n",
    "from pkg.detector.camera.realsense import RealSense\n",
    "from pkg.detector.camera.kinect import Kinect\n",
    "aruco_map = get_aruco_map()\n",
    "stereo = ArucoStereo(aruco_map, [Kinect(), RealSense()])\n",
    "stereo.initialize()\n",
    "# stereo.calibrate()"
   ]
  },
  {
   "cell_type": "code",
   "execution_count": null,
   "metadata": {},
   "outputs": [],
   "source": []
  },
  {
   "cell_type": "code",
   "execution_count": 4,
   "metadata": {},
   "outputs": [],
   "source": [
    "from pkg.geometry.builder.scene_builder import SceneBuilder\n",
    "s_builder = SceneBuilder(stereo, base_link=\"base_link\")\n",
    "# s_builder.reset_reference_coord(ref_name=\"floor\")"
   ]
  },
  {
   "cell_type": "code",
   "execution_count": null,
   "metadata": {},
   "outputs": [],
   "source": []
  },
  {
   "cell_type": "markdown",
   "metadata": {},
   "source": [
    "## get ghnd with detected robot config"
   ]
  },
  {
   "cell_type": "code",
   "execution_count": 5,
   "metadata": {
    "scrolled": true
   },
   "outputs": [
    {
     "name": "stderr",
     "output_type": "stream",
     "text": [
      "Unknown tag \"hardwareInterface\" in /robot[@name='custom_robots']/transmission[@name='indy0_tran0']/actuator[@name='indy0_motor0']\n",
      "Unknown tag \"hardwareInterface\" in /robot[@name='custom_robots']/transmission[@name='indy0_tran1']/actuator[@name='indy0_motor1']\n",
      "Unknown tag \"hardwareInterface\" in /robot[@name='custom_robots']/transmission[@name='indy0_tran2']/actuator[@name='indy0_motor2']\n",
      "Unknown tag \"hardwareInterface\" in /robot[@name='custom_robots']/transmission[@name='indy0_tran3']/actuator[@name='indy0_motor3']\n",
      "Unknown tag \"hardwareInterface\" in /robot[@name='custom_robots']/transmission[@name='indy0_tran4']/actuator[@name='indy0_motor4']\n",
      "Unknown tag \"hardwareInterface\" in /robot[@name='custom_robots']/transmission[@name='indy0_tran5']/actuator[@name='indy0_motor5']\n"
     ]
    },
    {
     "name": "stdout",
     "output_type": "stream",
     "text": [
      "Please create a subscriber to the marker\n",
      "publication OK\n",
      "published: [0, 0, 0, 0, 0, 0]\n"
     ]
    }
   ],
   "source": [
    "# xyz_rpy_robots = s_builder.detect_items(level_mask=[DetectionLevel.ROBOT])\n",
    "xyz_rpy_robots = {\"indy0\": ((0,0,0), (0,0,-np.pi/2))}\n",
    "crob.update_robot_pos_dict(xyz_rpy_robots=xyz_rpy_robots)\n",
    "gscene = s_builder.create_gscene(crob)"
   ]
  },
  {
   "cell_type": "code",
   "execution_count": null,
   "metadata": {},
   "outputs": [],
   "source": []
  },
  {
   "cell_type": "markdown",
   "metadata": {},
   "source": [
    "## add environment"
   ]
  },
  {
   "cell_type": "code",
   "execution_count": 6,
   "metadata": {},
   "outputs": [
    {
     "name": "stdout",
     "output_type": "stream",
     "text": [
      "Please create a subscriber to the marker\n"
     ]
    }
   ],
   "source": [
    "floor = gscene.create_safe(GEOTYPE.BOX, \"floor\", \"base_link\", (3,3,0.01), (0,0,0), \n",
    "                           rpy=(0,0,0), color=(0.8,0.8,0.8,0.5), display=True, fixed=True, collision=True)\n",
    "wall = gscene.create_safe(GEOTYPE.BOX, \"wall\", \"base_link\", (3,3,0.01), (0,0.2,0), \n",
    "                           rpy=(np.pi/2,0,0), color=(0.8,0.8,0.8,0.5), display=True, fixed=True, collision=True)\n",
    "wp1 = gscene.create_safe(GEOTYPE.BOX, \"wp1\", \"base_link\", (0.1,0.1,0.01), (0.2,-0.5,0.),rpy=(0,0,np.pi/2), \n",
    "                         color=(0.8,0.2,0.2,1), display=True, fixed=True, collision=False)\n",
    "wp2 = gscene.create_safe(GEOTYPE.BOX, \"wp2\", \"base_link\", (0.1,0.1,0.01), (-0.2,-0.5,0), rpy=(0,0,np.pi/2), \n",
    "                         color=(0.8,0.2,0.2,1), display=True, fixed=True, collision=False)\n",
    "track = gscene.create_safe(GEOTYPE.BOX, \"track\", \"base_link\", (0.1,0.5,0.01), (0,-0.5,0), rpy=(0,0,np.pi/2), \n",
    "                           color=(1,0.7,0.7,0.5), display=True, fixed=True, collision=False)\n",
    "goal = gscene.create_safe(GEOTYPE.BOX, \"goal\", \"base_link\", (0.1,0.1,0.01), (-0.4,-0.3,0), \n",
    "                          rpy=(0,0,0), color=(0.8,0.8,0.2,1), display=True, fixed=True, collision=False)"
   ]
  },
  {
   "cell_type": "code",
   "execution_count": 7,
   "metadata": {},
   "outputs": [],
   "source": [
    "gtems = s_builder.add_robot_geometries(color=(0,1,0,0.5), display=True, collision=True, exclude_link=[\"panda1_link7\"])"
   ]
  },
  {
   "cell_type": "code",
   "execution_count": null,
   "metadata": {},
   "outputs": [],
   "source": []
  },
  {
   "cell_type": "markdown",
   "metadata": {},
   "source": [
    "## add brush"
   ]
  },
  {
   "cell_type": "code",
   "execution_count": 8,
   "metadata": {},
   "outputs": [
    {
     "data": {
      "text/plain": [
       "<pkg.geometry.geometry.GeometryItem at 0x7ff64d12c090>"
      ]
     },
     "execution_count": 8,
     "metadata": {},
     "output_type": "execute_result"
    }
   ],
   "source": [
    "gscene.create_safe(gtype=GEOTYPE.BOX, name=\"brush_body\", link_name=\"base_link\", dims=(0.2,0.07,0.02), \n",
    "                   center=(0,-0.5,0.045), rpy=(0,0,np.pi/2), color=(0.7,0.7,0.3,1), display=True, collision=True, fixed=False)\n",
    "gscene.create_safe(gtype=GEOTYPE.BOX, name=\"brush_handle\", link_name=\"base_link\", dims=(0.2,0.03,0.05), center=(0,0,0.035), rpy=(0,0,0), \n",
    "                   color=(0.7,0.7,0.3,1), display=True, collision=True, fixed=False, parent=\"brush_body\")\n",
    "gscene.create_safe(gtype=GEOTYPE.BOX, name=\"brush_face\", link_name=\"base_link\", dims=(0.19,0.06,0.03), center=(0,0,-0.025), rpy=(0,0,0), \n",
    "                   color=(0.8,0.8,0.8,1), display=True, collision=False, fixed=False, parent=\"brush_body\")"
   ]
  },
  {
   "cell_type": "code",
   "execution_count": null,
   "metadata": {},
   "outputs": [],
   "source": []
  },
  {
   "cell_type": "markdown",
   "metadata": {},
   "source": [
    "## init planning scene"
   ]
  },
  {
   "cell_type": "code",
   "execution_count": 9,
   "metadata": {},
   "outputs": [],
   "source": [
    "from pkg.planning.scene import PlanningScene\n",
    "pscene = PlanningScene(gscene, combined_robot=crob)"
   ]
  },
  {
   "cell_type": "code",
   "execution_count": null,
   "metadata": {},
   "outputs": [],
   "source": []
  },
  {
   "cell_type": "markdown",
   "metadata": {},
   "source": [
    "## Register binders"
   ]
  },
  {
   "cell_type": "code",
   "execution_count": 10,
   "metadata": {},
   "outputs": [],
   "source": [
    "from pkg.planning.constraint.constraint_actor import Gripper2Tool, PlacePlane, SweepTool"
   ]
  },
  {
   "cell_type": "code",
   "execution_count": 11,
   "metadata": {},
   "outputs": [
    {
     "data": {
      "text/plain": [
       "<pkg.geometry.geometry.GeometryItem at 0x7ff6703f3450>"
      ]
     },
     "execution_count": 11,
     "metadata": {},
     "output_type": "execute_result"
    }
   ],
   "source": [
    "gscene.create_safe(gtype=GEOTYPE.SPHERE, name=\"grip0\", link_name=\"indy0_tcp\", \n",
    "                 dims=(0.01,)*3, center=(0,0,0.14), rpy=(-np.pi/2,0,0), color=(1,0,0,1), display=True, collision=False, fixed=True)"
   ]
  },
  {
   "cell_type": "code",
   "execution_count": 12,
   "metadata": {},
   "outputs": [
    {
     "data": {
      "text/plain": [
       "<pkg.planning.constraint.constraint_actor.SweepTool at 0x7ff63e962d90>"
      ]
     },
     "execution_count": 12,
     "metadata": {},
     "output_type": "execute_result"
    }
   ],
   "source": [
    "pscene.create_binder(bname=\"grip0\", gname=\"grip0\", rname=\"indy0\", _type=Gripper2Tool, point=(0,0,0), rpy=(0,0,0))\n",
    "pscene.create_binder(bname=\"floor\", gname=\"floor\", _type=PlacePlane)\n",
    "pscene.create_binder(bname=\"goal_bd\", gname=\"goal\", _type=PlacePlane, point=(0,0,0.005), rpy=(0,0,0))\n",
    "pscene.create_binder(bname=\"brush_face\", gname=\"brush_face\", _type=SweepTool, point=(0,0,-0.015), rpy=(0,0,0))"
   ]
  },
  {
   "cell_type": "code",
   "execution_count": null,
   "metadata": {},
   "outputs": [],
   "source": []
  },
  {
   "cell_type": "markdown",
   "metadata": {},
   "source": [
    "## add objects"
   ]
  },
  {
   "cell_type": "code",
   "execution_count": 13,
   "metadata": {},
   "outputs": [],
   "source": [
    "from pkg.planning.constraint.constraint_subject import CustomObject, Grasp2Point, PlacePoint, SweepPoint, SweepTask"
   ]
  },
  {
   "cell_type": "code",
   "execution_count": 14,
   "metadata": {},
   "outputs": [],
   "source": [
    "brush_handle = gscene.NAME_DICT[\"brush_handle\"]\n",
    "brush_face = gscene.NAME_DICT[\"brush_face\"]\n",
    "brush = pscene.create_object(oname=\"brush\", gname=\"brush_body\", _type=CustomObject, \n",
    "                             action_points_dict = {\"handle\": Grasp2Point(\"handle\", brush_handle, [0,0,0], [np.pi/2,0,0]),\n",
    "                                                   \"face\": PlacePoint(\"face\", brush_face, [0,0,-0.015], [0,0,0])})"
   ]
  },
  {
   "cell_type": "code",
   "execution_count": 15,
   "metadata": {},
   "outputs": [],
   "source": [
    "sweep = pscene.create_object(oname=\"sweep\", gname=\"floor\", _type=SweepTask, \n",
    "                             action_points_dict = {\"wp1\": SweepPoint(\"wp1\", wp1, [0,0,0.005], [0,0,0]),\n",
    "                                                   \"wp2\": SweepPoint(\"wp2\", wp2, [0,0,0.005], [0,0,0])})"
   ]
  },
  {
   "cell_type": "code",
   "execution_count": null,
   "metadata": {},
   "outputs": [],
   "source": []
  },
  {
   "cell_type": "markdown",
   "metadata": {},
   "source": [
    "### planning pipeline"
   ]
  },
  {
   "cell_type": "code",
   "execution_count": 16,
   "metadata": {
    "scrolled": false
   },
   "outputs": [],
   "source": [
    "from pkg.planning.motion.moveit.moveit_planner import MoveitPlanner\n",
    "mplan = MoveitPlanner(pscene)\n",
    "mplan.update_gscene()\n",
    "from pkg.planning.task.object_a_star import ObjectAstar\n",
    "tplan = ObjectAstar(pscene)\n",
    "tplan.prepare()\n",
    "from pkg.planning.pipeline import PlanningPipeline\n",
    "ppline = PlanningPipeline(pscene)\n",
    "ppline.set_motion(mplan)\n",
    "ppline.set_sampler(tplan)"
   ]
  },
  {
   "cell_type": "code",
   "execution_count": null,
   "metadata": {},
   "outputs": [],
   "source": []
  },
  {
   "cell_type": "markdown",
   "metadata": {},
   "source": [
    "## ui"
   ]
  },
  {
   "cell_type": "code",
   "execution_count": 17,
   "metadata": {},
   "outputs": [
    {
     "name": "stdout",
     "output_type": "stream",
     "text": [
      "Dash is running on http://0.0.0.0:8050/\n",
      "\n",
      " * Serving Flask app \"pkg.ui.dash_launcher\" (lazy loading)\n"
     ]
    }
   ],
   "source": [
    "from pkg.ui.ui_broker import *\n",
    "\n",
    "# start UI\n",
    "ui_broker = UIBroker.instance()\n",
    "ui_broker.initialize(ppline, s_builder)\n",
    "ui_broker.start_server()\n",
    "\n",
    "ui_broker.set_tables()"
   ]
  },
  {
   "cell_type": "code",
   "execution_count": null,
   "metadata": {},
   "outputs": [],
   "source": []
  },
  {
   "cell_type": "markdown",
   "metadata": {},
   "source": [
    "## Test plan"
   ]
  },
  {
   "cell_type": "code",
   "execution_count": 18,
   "metadata": {},
   "outputs": [
    {
     "name": "stdout",
     "output_type": "stream",
     "text": [
      " * Environment: production\n",
      "   WARNING: This is a development server. Do not use it in a production deployment.\n",
      "   Use a production WSGI server instead.\n"
     ]
    }
   ],
   "source": [
    "from pkg.planning.constraint.constraint_common \\\n",
    "            import sample_redundancy, combine_redundancy\n",
    "\n",
    "initial_state = pscene.update_state(crob.home_pose)"
   ]
  },
  {
   "cell_type": "code",
   "execution_count": 19,
   "metadata": {
    "scrolled": true
   },
   "outputs": [
    {
     "name": "stdout",
     "output_type": "stream",
     "text": [
      " * Debug mode: off\n",
      "Use 20/20 agents\n",
      "node: ('floor', 0)->('floor', 1) = fail\n",
      "node: ('floor', 0)->('floor', 1) = fail\n",
      "node: ('floor', 0)->('floor', 1) = fail\n",
      "node: ('floor', 0)->('floor', 1) = fail\n",
      "node: ('floor', 0)->('floor', 1) = fail\n",
      "node: ('floor', 0)->('floor', 1) = fail\n",
      "node: ('floor', 0)->('floor', 1) = fail\n",
      "node: ('floor', 0)->('floor', 1) = fail\n",
      "node: ('floor', 0)->('floor', 1) = fail\n",
      "node: ('floor', 0)->('floor', 1) = fail\n",
      "node: ('floor', 0)->('floor', 1) = fail\n",
      "node: ('floor', 0)->('floor', 1) = fail\n",
      "node: ('floor', 0)->('grip0', 0) = success\n",
      "Remaining:4->3 / branching: 0->1 (0.2/300.0 s, steps/err: 6(43.9760684967 ms)/0.838572411363)\n",
      "node: ('floor', 0)->('grip0', 0) = fail\n",
      "======================================================================================================================================================\n",
      "node: ('floor', 0)->('grip0', 0) = fail\n",
      "node: ('floor', 0)->('grip0', 0) = fail\n",
      "node: ('floor', 0)->('grip0', 0) = fail\n",
      "node: ('goal', 0)->('goal', 1) = fail\n",
      "node: ('grip0', 0)->('goal', 0) = success\n",
      "node: ('grip0', 0)->('goal', 0) = success\n",
      "node: ('grip0', 0)->('grip0', 1) = success\n",
      "node: ('grip0', 0)->('goal', 0) = success\n",
      "node: ('grip0', 0)->('goal', 0) = success\n",
      "Remaining:3->2 / branching: 1->4 (0.4/300.0 s, steps/err: 27(52.6080131531 ms)/0.00139113951108)\n",
      "Remaining:3->2 / branching: 1->5 (0.4/300.0 s, steps/err: 4(71.0129737854 ms)/0.00124279522805)\n",
      "======================================================================================================================================================\n",
      "Remaining:3->2 / branching: 1->2 (0.39/300.0 s, steps/err: 30(72.6799964905 ms)/2.24260090004)\n",
      "Remaining:3->2 / branching: 1->3 (0.39/300.0 s, steps/err: 33(45.3858375549 ms)/0.00158545725198)\n",
      "Remaining:3->2 / branching: 1->6 (0.39/300.0 s, steps/err: 31(89.870929718 ms)/0.00164382329632)\n",
      "======================================================================================================================================================\n",
      "======================================================================================================================================================\n",
      "node: ('goal', 0)->('goal', 1) = fail\n",
      "======================================================================================================================================================\n",
      "node: ('goal', 0)->('goal', 1) = fail\n",
      "======================================================================================================================================================\n",
      "node: ('goal', 0)->('goal', 1) = fail\n",
      "node: ('goal', 0)->('goal', 1) = fail\n",
      "node: ('goal', 0)->('goal', 1) = fail\n",
      "node: ('goal', 0)->('goal', 1) = fail\n",
      "node: ('goal', 0)->('goal', 1) = fail\n",
      "node: ('goal', 0)->('goal', 1) = fail\n",
      "node: ('grip0', 1)->('grip0', 2) = fail\n",
      "node: ('goal', 0)->('goal', 1) = fail\n",
      "node: ('grip0', 1)->('grip0', 2) = fail\n",
      "node: ('grip0', 1)->('grip0', 2) = success\n",
      "Remaining:2->1 / branching: 2->7 (0.49/300.0 s, steps/err: 109(43.9131259918 ms)/1.96705343959)\n",
      "node: ('grip0', 1)->('goal', 1) = success\n",
      "======================================================================================================================================================\n",
      "Remaining:2->1 / branching: 2->8 (0.53/300.0 s, steps/err: 30(45.9520816803 ms)/0.00120687716768)\n",
      "node: ('goal', 1)->('goal', 2) = fail\n",
      "node: ('goal', 1)->('goal', 2) = fail\n",
      "======================================================================================================================================================\n",
      "node: ('grip0', 2)->('goal', 2) = success\n",
      "node: ('goal', 1)->('goal', 2) = fail\n",
      "node: ('grip0', 2)->('goal', 2) = success\n",
      "node: ('grip0', 1)->('grip0', 2) = fail\n",
      "node: ('grip0', 1)->('grip0', 2) = fail\n",
      "node: ('goal', 1)->('goal', 2) = fail\n",
      "Remaining:1->0 / branching: 7->10 (0.57/300.0 s, steps/err: 33(75.5410194397 ms)/0.00100844359977)\n",
      "Remaining:1->0 / branching: 7->11 (0.59/300.0 s, steps/err: 4(73.4710693359 ms)/0.00123341019405)\n",
      "node: ('grip0', 2)->('goal', 2) = success\n",
      "node: ('grip0', 1)->('grip0', 2) = fail\n",
      "node: ('goal', 1)->('goal', 2) = fail\n",
      "======================================================================================================================================================\n",
      "Remaining:1->0 / branching: 7->9 (0.61/300.0 s, steps/err: 10(67.5270557404 ms)/0.00147610661822)\n",
      "node: ('grip0', 2)->('goal', 2) = success\n",
      "======================================================================================================================================================\n",
      "=========================================================================================================\n",
      "======================= terminated 13: first answer acquired ===============================\n",
      "node: ('grip0', 2)->('goal', 2) = success\n",
      "======================================================================================================================================================\n",
      "node: ('goal', 1)->('goal', 2) = fail\n",
      "=========================================================================================================\n",
      "=========================================================================================================\n",
      "======================= terminated 6: first answer acquired ===============================\n",
      "node: ('grip0', 2)->('goal', 2) = success\n",
      "node: ('grip0', 1)->('grip0', 2) = fail\n",
      "=========================================================================================================\n",
      "node: ('goal', 1)->('goal', 2) = fail\n",
      "node: ('goal', 1)->('goal', 2) = fail\n",
      "======================= terminated 15: first answer acquired from other agent ===============================\n",
      "Remaining:1->0 / branching: 7->13 (0.63/300.0 s, steps/err: 39(132.965087891 ms)/0.00162626258658)\n",
      "node: ('grip0', 1)->('grip0', 2) = fail\n",
      "=========================================================================================================\n",
      "=========================================================================================================\n",
      "=========================================================================================================\n",
      "=========================================================================================================\n",
      "=========================================================================================================\n",
      "node: ('grip0', 1)->('grip0', 2) = fail\n",
      "======================= terminated 4: first answer acquired ===============================\n",
      "======================= terminated 16: first answer acquired from other agent ===============================\n",
      "======================= terminated 3: first answer acquired from other agent ===============================\n",
      "=========================================================================================================\n",
      "=========================================================================================================\n",
      "=========================================================================================================\n",
      "=========================================================================================================\n",
      "=========================================================================================================\n",
      "======================= terminated 2: first answer acquired from other agent ===============================\n",
      "======================================================================================================================================================\n",
      "=========================================================================================================\n",
      "node: ('grip0', 2)->('goal', 2) = success\n",
      "=========================================================================================================\n",
      "=========================================================================================================\n",
      "=========================================================================================================\n",
      "node: ('grip0', 1)->('grip0', 2) = fail\n",
      "=========================================================================================================\n",
      "Remaining:1->0 / branching: 7->12 (0.64/300.0 s, steps/err: 38(95.3800678253 ms)/0.00148803157793)\n",
      "======================= terminated 0: first answer acquired from other agent ===============================\n"
     ]
    },
    {
     "name": "stdout",
     "output_type": "stream",
     "text": [
      "=========================================================================================================\n",
      "======================= terminated 19: first answer acquired from other agent ===============================\n",
      "node: ('grip0', 2)->('goal', 2) = success\n",
      "=========================================================================================================\n",
      "Remaining:1->0 / branching: 7->14 (0.65/300.0 s, steps/err: 18(67.0478343964 ms)/0.00196013618264)\n",
      "=========================================================================================================\n",
      "======================================================================================================================================================\n",
      "=========================================================================================================\n",
      "======================= terminated 17: first answer acquired from other agent ===============================\n",
      "======================================================================================================================================================\n",
      "======================= terminated 5: first answer acquired from other agent ===============================\n",
      "=========================================================================================================\n",
      "Remaining:1->0 / branching: 7->16 (0.69/300.0 s, steps/err: 4(62.155008316 ms)/0.00195155060269)\n",
      "node: ('grip0', 2)->('goal', 2) = success\n",
      "Remaining:1->0 / branching: 7->15 (0.71/300.0 s, steps/err: 4(95.5770015717 ms)/0.00193830107552)\n",
      "======================= terminated 9: first answer acquired ===============================\n",
      "=========================================================================================================\n",
      "======================= terminated 12: first answer acquired from other agent ===============================\n",
      "======================= terminated 18: first answer acquired from other agent ===============================\n",
      "Remaining:1->0 / branching: 7->17 (0.71/300.0 s, steps/err: 33(111.243009567 ms)/0.000753816156752)\n",
      "======================================================================================================================================================\n",
      "=========================================================================================================\n",
      "=========================================================================================================\n",
      "======================= terminated 8: first answer acquired from other agent ===============================\n",
      "======================= terminated 14: first answer acquired ===============================\n",
      "======================================================================================================================================================\n",
      "=========================================================================================================\n",
      "=========================================================================================================\n",
      "=========================================================================================================\n",
      "=========================================================================================================\n",
      "=========================================================================================================\n",
      "======================= terminated 10: first answer acquired ===============================\n",
      "=========================================================================================================\n",
      "=========================================================================================================\n",
      "=========================================================================================================\n",
      "======================= terminated 1: first answer acquired ===============================\n",
      "=========================================================================================================\n",
      "=========================================================================================================\n",
      "======================================================================================================================================================\n",
      "======================= terminated 7: first answer acquired ===============================\n",
      "=========================================================================================================\n",
      "======================= terminated 11: first answer acquired ===============================\n",
      "=========================================================================================================\n",
      "=========================================================================================================\n"
     ]
    }
   ],
   "source": [
    "# goal_nodes = [(\"goal\",)]\n",
    "goal_nodes = [(\"goal\", 2)]\n",
    "ppline.search(initial_state, goal_nodes, verbose=True, display=False, dt_vis=0.01, timeout_loop=300, multiprocess=True)\n",
    "schedules = ppline.find_schedules()\n",
    "schedules_sorted = ppline.sort_schedule(schedules)\n",
    "snode_schedule = ppline.idxSchedule2SnodeScedule(schedules_sorted[0])"
   ]
  },
  {
   "cell_type": "code",
   "execution_count": 23,
   "metadata": {
    "scrolled": false
   },
   "outputs": [],
   "source": [
    "ppline.play_schedule(snode_schedule, period=0.01)"
   ]
  },
  {
   "cell_type": "code",
   "execution_count": null,
   "metadata": {},
   "outputs": [],
   "source": []
  },
  {
   "cell_type": "markdown",
   "metadata": {},
   "source": [
    "## Text execution"
   ]
  },
  {
   "cell_type": "code",
   "execution_count": 21,
   "metadata": {
    "scrolled": true
   },
   "outputs": [
    {
     "name": "stdout",
     "output_type": "stream",
     "text": [
      "connection_list\n",
      "[True]\n",
      "Connect: Server IP (192.168.0.63)\n"
     ]
    }
   ],
   "source": [
    "crob.reset_connection([True])"
   ]
  },
  {
   "cell_type": "markdown",
   "metadata": {},
   "source": [
    "## unsynced execution"
   ]
  },
  {
   "cell_type": "code",
   "execution_count": 23,
   "metadata": {
    "scrolled": true
   },
   "outputs": [
    {
     "name": "stdout",
     "output_type": "stream",
     "text": [
      "binder: floor\n",
      "rname: None\n",
      "binder: None\n",
      "grasp_dict\n",
      "{'indy0': False}\n",
      "grasp_seq\n",
      "[('indy0', False)]\n",
      "Connect: Server IP (192.168.0.63)\n",
      "binder: floor\n",
      "rname: None\n",
      "binder: None\n",
      "grasp_dict\n",
      "{'indy0': False}\n",
      "grasp_seq\n",
      "[('indy0', False)]\n",
      "Connect: Server IP (192.168.0.63)\n",
      "go\n",
      "Connect: Server IP (192.168.0.63)\n",
      "binder: grip0\n",
      "rname: indy0\n",
      "binder: None\n",
      "grasp_dict\n",
      "{'indy0': True}\n",
      "grasp_seq\n",
      "[('indy0', True)]\n",
      "Connect: Server IP (192.168.0.63)\n",
      "go\n",
      "Connect: Server IP (192.168.0.63)\n",
      "binder: grip0\n",
      "rname: indy0\n",
      "binder: brush_face\n",
      "rname: None\n",
      "grasp_dict\n",
      "{'indy0': True}\n",
      "grasp_seq\n",
      "[('indy0', True)]\n",
      "Connect: Server IP (192.168.0.63)\n",
      "go\n",
      "Connect: Server IP (192.168.0.63)\n",
      "binder: grip0\n",
      "rname: indy0\n",
      "binder: brush_face\n",
      "rname: None\n",
      "grasp_dict\n",
      "{'indy0': True}\n",
      "grasp_seq\n",
      "[('indy0', True)]\n",
      "Connect: Server IP (192.168.0.63)\n",
      "go\n",
      "Connect: Server IP (192.168.0.63)\n",
      "binder: goal_bd\n",
      "rname: None\n",
      "binder: brush_face\n",
      "rname: None\n",
      "grasp_dict\n",
      "{'indy0': False}\n",
      "grasp_seq\n",
      "[('indy0', False)]\n",
      "Connect: Server IP (192.168.0.63)\n",
      "go\n",
      "Connect: Server IP (192.168.0.63)\n",
      "binder: goal_bd\n",
      "rname: None\n",
      "binder: brush_face\n",
      "rname: None\n",
      "grasp_dict\n",
      "{'indy0': False}\n",
      "grasp_seq\n",
      "[('indy0', False)]\n",
      "Connect: Server IP (192.168.0.63)\n"
     ]
    }
   ],
   "source": [
    "ppline.execute_schedule(snode_schedule, vel_scale=0.5)"
   ]
  },
  {
   "cell_type": "code",
   "execution_count": null,
   "metadata": {},
   "outputs": [],
   "source": []
  },
  {
   "cell_type": "markdown",
   "metadata": {},
   "source": [
    "## synced execution"
   ]
  },
  {
   "cell_type": "code",
   "execution_count": null,
   "metadata": {},
   "outputs": [],
   "source": [
    "## \n",
    "# with RvizPublisher(gscene, []) as rpub:\n",
    "#     ppline.execute_schedule(snode_schedule, rviz_pub=rpub)"
   ]
  },
  {
   "cell_type": "code",
   "execution_count": null,
   "metadata": {},
   "outputs": [],
   "source": []
  },
  {
   "cell_type": "markdown",
   "metadata": {},
   "source": [
    "## Disconnect stereo"
   ]
  },
  {
   "cell_type": "code",
   "execution_count": null,
   "metadata": {},
   "outputs": [],
   "source": [
    "stereo.disconnnect()"
   ]
  },
  {
   "cell_type": "code",
   "execution_count": null,
   "metadata": {},
   "outputs": [],
   "source": []
  },
  {
   "cell_type": "code",
   "execution_count": null,
   "metadata": {},
   "outputs": [],
   "source": []
  },
  {
   "cell_type": "code",
   "execution_count": null,
   "metadata": {},
   "outputs": [],
   "source": []
  }
 ],
 "metadata": {
  "kernelspec": {
   "display_name": "Python 2",
   "language": "python",
   "name": "python2"
  },
  "language_info": {
   "codemirror_mode": {
    "name": "ipython",
    "version": 2
   },
   "file_extension": ".py",
   "mimetype": "text/x-python",
   "name": "python",
   "nbconvert_exporter": "python",
   "pygments_lexer": "ipython2",
   "version": "2.7.17"
  }
 },
 "nbformat": 4,
 "nbformat_minor": 2
}
