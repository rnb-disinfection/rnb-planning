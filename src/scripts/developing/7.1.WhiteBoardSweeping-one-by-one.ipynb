{
 "cells": [
  {
   "cell_type": "markdown",
   "metadata": {},
   "source": [
    "## Check List 7.1. Demo - White board sweeping\n",
    "* In this demo file, we will use two robots (Indy7, Panda) to sweep a white board, removing obstacles\n",
    "\n",
    "* You need trained model to use ReachChecker\n",
    "  - model/reach_svm/indy7.json\n",
    "  - model/reach_svm/panda.json\n",
    "  - 백업: 개인 이동식 하드디스크, 강준수"
   ]
  },
  {
   "cell_type": "markdown",
   "metadata": {},
   "source": [
    "### Prepare the task scene\n",
    "* Prepare Indy7 and panda, and install sweeping tool to indy. (Check release/Figs/7.1.WhiteBoardSweeping.jpg)\n",
    "* Prepare \"floor\", \"track\", \"box1\", \"box2\" objects as defined in pkg.detector.aruco.marker_config.py\n",
    "* The robots and \"track\" are installed on \"floor\".\n",
    "* \"box1\" and \"box2\" are on \"track\"\n",
    "<img src=\"../Figs/7.1.WhiteBoardSweeping.jpg\" width=\"80%\">"
   ]
  },
  {
   "cell_type": "code",
   "execution_count": null,
   "metadata": {},
   "outputs": [],
   "source": []
  },
  {
   "cell_type": "markdown",
   "metadata": {},
   "source": [
    "## set running directory to project source"
   ]
  },
  {
   "cell_type": "code",
   "execution_count": 1,
   "metadata": {},
   "outputs": [],
   "source": [
    "import os\n",
    "os.chdir(os.path.join(os.environ[\"RNB_PLANNING_DIR\"], 'src'))"
   ]
  },
  {
   "cell_type": "code",
   "execution_count": null,
   "metadata": {},
   "outputs": [],
   "source": []
  },
  {
   "cell_type": "markdown",
   "metadata": {},
   "source": [
    "## init combined robot config"
   ]
  },
  {
   "cell_type": "code",
   "execution_count": 2,
   "metadata": {},
   "outputs": [
    {
     "name": "stdout",
     "output_type": "stream",
     "text": [
      "connection command:\n",
      "indy0: False\n",
      "panda1: False\n"
     ]
    }
   ],
   "source": [
    "from pkg.controller.combined_robot import *\n",
    "from pkg.project_config import *\n",
    "\n",
    "crob = CombinedRobot(robots_on_scene=[\n",
    "    RobotConfig(0, RobotType.indy7, ((0.3,-0.4,0), (0,0,np.pi/2)),\n",
    "                INDY_IP),\n",
    "    RobotConfig(1, RobotType.panda, ((-0.3,-0.4,0), (0,0,np.pi/2)),\n",
    "                \"{}/{}\".format(PANDA_REPEATER_IP, PANDA_ROBOT_IP))]\n",
    "              , connection_list=[False, False])"
   ]
  },
  {
   "cell_type": "code",
   "execution_count": 3,
   "metadata": {},
   "outputs": [
    {
     "name": "stdout",
     "output_type": "stream",
     "text": [
      "Device configuration: \n",
      "\tcolor_format: 3 \n",
      "\t(0:JPG, 1:NV12, 2:YUY2, 3:BGRA32)\n",
      "\n",
      "\tcolor_resolution: 5 \n",
      "\t(0:OFF, 1:720p, 2:1080p, 3:1440p, 4:1536p, 5:2160p, 6:3072p)\n",
      "\n",
      "\tdepth_mode: 3 \n",
      "\t(0:OFF, 1:NFOV_2X2BINNED, 2:NFOV_UNBINNED,3:WFOV_2X2BINNED, 4:WFOV_UNBINNED, 5:Passive IR)\n",
      "\n",
      "\tcamera_fps: 2 \n",
      "\t(0:5 FPS, 1:15 FPS, 2:30 FPS)\n",
      "\n",
      "\tsynchronized_images_only: False \n",
      "\t(True of False). Drop images if the color and depth are not synchronized\n",
      "\n",
      "\tdepth_delay_off_color_usec: 0 ms. \n",
      "\tDelay between the color image and the depth image\n",
      "\n",
      "\twired_sync_mode: 0\n",
      "\t(0:Standalone mode, 1:Master mode, 2:Subordinate mode)\n",
      "\n",
      "\tsubordinate_delay_off_master_usec: 0 ms.\n",
      "\tThe external synchronization timing.\n",
      "\n",
      "\tdisable_streaming_indicator: False \n",
      "\t(True or False). Streaming indicator automatically turns on when the color or depth camera's are in use.\n",
      "\n",
      "\n",
      "Start streaming\n"
     ]
    },
    {
     "data": {
      "text/plain": [
       "[(array([[1.82983423e+03, 0.00000000e+00, 1.91572046e+03],\n",
       "         [0.00000000e+00, 1.82983423e+03, 1.09876086e+03],\n",
       "         [0.00000000e+00, 0.00000000e+00, 1.00000000e+00]]),\n",
       "  array([ 7.09966481e-01, -2.73409390e+00,  1.45804870e-03, -3.24774766e-04,\n",
       "          1.44911301e+00,  5.84310412e-01, -2.56374550e+00,  1.38472950e+00])),\n",
       " (array([[1.39560388e+03, 0.00000000e+00, 9.62751587e+02],\n",
       "         [0.00000000e+00, 1.39531934e+03, 5.47687012e+02],\n",
       "         [0.00000000e+00, 0.00000000e+00, 1.00000000e+00]]),\n",
       "  array([0., 0., 0., 0., 0.])),\n",
       " array([[ 0.8272236 , -0.02246542, -0.5614236 ,  0.647718  ],\n",
       "        [ 0.17059347,  0.96207476,  0.2128616 , -0.16118687],\n",
       "        [ 0.5353494 , -0.27185932,  0.79968333,  0.09048319],\n",
       "        [ 0.        ,  0.        ,  0.        ,  1.        ]],\n",
       "       dtype=float32)]"
      ]
     },
     "execution_count": 3,
     "metadata": {},
     "output_type": "execute_result"
    }
   ],
   "source": [
    "from pkg.detector.aruco.marker_config import *\n",
    "from pkg.detector.aruco.stereo import ArucoStereo\n",
    "from pkg.detector.camera.realsense import RealSense\n",
    "from pkg.detector.camera.kinect import Kinect\n",
    "aruco_map = get_aruco_map()\n",
    "stereo = ArucoStereo(aruco_map, [Kinect(), RealSense()])\n",
    "stereo.initialize()\n",
    "stereo.calibrate()"
   ]
  },
  {
   "cell_type": "code",
   "execution_count": null,
   "metadata": {},
   "outputs": [],
   "source": []
  },
  {
   "cell_type": "markdown",
   "metadata": {},
   "source": [
    "## create scene builder"
   ]
  },
  {
   "cell_type": "code",
   "execution_count": 4,
   "metadata": {},
   "outputs": [],
   "source": [
    "from pkg.geometry.builder.scene_builder import SceneBuilder\n",
    "s_builder = SceneBuilder(stereo)\n",
    "s_builder.reset_reference_coord(ref_name=\"floor\")"
   ]
  },
  {
   "cell_type": "code",
   "execution_count": null,
   "metadata": {},
   "outputs": [],
   "source": []
  },
  {
   "cell_type": "markdown",
   "metadata": {},
   "source": [
    "## detect robot and make geometry scene"
   ]
  },
  {
   "cell_type": "code",
   "execution_count": 5,
   "metadata": {},
   "outputs": [
    {
     "name": "stdout",
     "output_type": "stream",
     "text": [
      "Unable to register with master node [http://localhost:11311]: master may not be running yet. Will keep trying.\n"
     ]
    },
    {
     "name": "stderr",
     "output_type": "stream",
     "text": [
      "Unknown tag \"hardwareInterface\" in /robot[@name='custom_robots']/transmission[@name='indy0_tran0']/actuator[@name='indy0_motor0']\n",
      "Unknown tag \"hardwareInterface\" in /robot[@name='custom_robots']/transmission[@name='indy0_tran1']/actuator[@name='indy0_motor1']\n",
      "Unknown tag \"hardwareInterface\" in /robot[@name='custom_robots']/transmission[@name='indy0_tran2']/actuator[@name='indy0_motor2']\n",
      "Unknown tag \"hardwareInterface\" in /robot[@name='custom_robots']/transmission[@name='indy0_tran3']/actuator[@name='indy0_motor3']\n",
      "Unknown tag \"hardwareInterface\" in /robot[@name='custom_robots']/transmission[@name='indy0_tran4']/actuator[@name='indy0_motor4']\n",
      "Unknown tag \"hardwareInterface\" in /robot[@name='custom_robots']/transmission[@name='indy0_tran5']/actuator[@name='indy0_motor5']\n"
     ]
    },
    {
     "name": "stdout",
     "output_type": "stream",
     "text": [
      "Please create a subscriber to the marker\n",
      "publication OK\n",
      "published: [0, 0, 0, 0, 0, 0, 0, 0, 0, 0, 0, 0, 0]\n"
     ]
    }
   ],
   "source": [
    "xyz_rpy_robots = s_builder.detect_items(level_mask=[DetectionLevel.ROBOT])\n",
    "crob.update_robot_pos_dict(xyz_rpy_robots=xyz_rpy_robots)\n",
    "gscene = s_builder.create_gscene(crob)"
   ]
  },
  {
   "cell_type": "code",
   "execution_count": null,
   "metadata": {},
   "outputs": [],
   "source": []
  },
  {
   "cell_type": "markdown",
   "metadata": {},
   "source": [
    "## init planning pipeline"
   ]
  },
  {
   "cell_type": "code",
   "execution_count": 6,
   "metadata": {},
   "outputs": [
    {
     "name": "stdout",
     "output_type": "stream",
     "text": [
      "Dash is running on http://0.0.0.0:8050/\n",
      "\n",
      " * Serving Flask app \"pkg.ui.dash_launcher\" (lazy loading)\n",
      " * Environment: production\n"
     ]
    }
   ],
   "source": [
    "from pkg.planning.scene import PlanningScene\n",
    "pscene = PlanningScene(gscene, combined_robot=crob)\n",
    "\n",
    "from pkg.planning.pipeline import PlanningPipeline\n",
    "ppline = PlanningPipeline(pscene)\n",
    "\n",
    "from pkg.ui.ui_broker import *\n",
    "\n",
    "# start UI\n",
    "ui_broker = UIBroker.instance()\n",
    "ui_broker.initialize(ppline, s_builder)\n",
    "ui_broker.start_server()\n",
    "\n",
    "ui_broker.set_tables()"
   ]
  },
  {
   "cell_type": "markdown",
   "metadata": {},
   "source": [
    "```\n",
    "open web ui on <your ip>:8050\n",
    "click geometry items / Handles / Binders to highlight geometry on RVIZ\n",
    "other functions may be buggy.. please report\n",
    "```"
   ]
  },
  {
   "cell_type": "code",
   "execution_count": null,
   "metadata": {},
   "outputs": [],
   "source": []
  },
  {
   "cell_type": "markdown",
   "metadata": {},
   "source": [
    "## add environment"
   ]
  },
  {
   "cell_type": "code",
   "execution_count": 7,
   "metadata": {},
   "outputs": [
    {
     "name": "stdout",
     "output_type": "stream",
     "text": [
      "   WARNING: This is a development server. Do not use it in a production deployment.\n",
      "   Use a production WSGI server instead.\n",
      " * Debug mode: off\n",
      "Please create a subscriber to the marker\n"
     ]
    }
   ],
   "source": [
    "gtem_dict = s_builder.detect_and_register(level_mask=[DetectionLevel.ENVIRONMENT])"
   ]
  },
  {
   "cell_type": "code",
   "execution_count": 8,
   "metadata": {},
   "outputs": [],
   "source": [
    "# add cam poles\n",
    "ptems = s_builder.add_poles({\"cam0\": s_builder.ref_coord_inv[:3,3], \"cam1\":np.matmul(s_builder.ref_coord_inv, stereo.T_c12)[:3,3]},\n",
    "                            color=(0.6,0.6,0.6,0.0))"
   ]
  },
  {
   "cell_type": "code",
   "execution_count": 9,
   "metadata": {},
   "outputs": [],
   "source": [
    "gtems = s_builder.add_robot_geometries(color=(0,1,0,0.5), display=True, collision=True)"
   ]
  },
  {
   "cell_type": "code",
   "execution_count": 10,
   "metadata": {},
   "outputs": [],
   "source": [
    " gscene.NAME_DICT[\"floor\"].dims = (2,1,0.01)"
   ]
  },
  {
   "cell_type": "code",
   "execution_count": 11,
   "metadata": {},
   "outputs": [],
   "source": [
    "gscene.set_workspace_boundary( -1, 1, -0.5, 0.5, -0.1, 1.1)"
   ]
  },
  {
   "cell_type": "code",
   "execution_count": null,
   "metadata": {},
   "outputs": [],
   "source": []
  },
  {
   "cell_type": "markdown",
   "metadata": {},
   "source": [
    "## add indy tool"
   ]
  },
  {
   "cell_type": "code",
   "execution_count": 12,
   "metadata": {},
   "outputs": [
    {
     "data": {
      "text/plain": [
       "<pkg.geometry.geometry.GeometryItem at 0x7f07e3a3a510>"
      ]
     },
     "execution_count": 12,
     "metadata": {},
     "output_type": "execute_result"
    }
   ],
   "source": [
    "gscene.create_safe(gtype=GEOTYPE.CYLINDER, name=\"indy0_fts\", link_name=\"indy0_tcp\",\n",
    "                            center=(0,0,0.02), dims=(0.07,0.07, 0.04), rpy=(0,0,0), color=(0.8,0.8,0.8,1),\n",
    "                            collision=False, fixed=True)\n",
    "gscene.create_safe(gtype=GEOTYPE.CYLINDER, name=\"indy0_fts_col\", link_name=\"indy0_tcp\",\n",
    "                            center=(0,0,0.02), dims=(0.11,0.11, 0.04), rpy=(0,0,0), color=(0.0,0.8,0.0,0.5),\n",
    "                            collision=True, fixed=True)\n",
    "gscene.create_safe(gtype=GEOTYPE.CYLINDER, name=\"indy0_pole\", link_name=\"indy0_tcp\",\n",
    "                            center=(0,0,0.055), dims=(0.03,0.03, 0.030), rpy=(0,0,0), color=(0.8,0.8,0.8,1),\n",
    "                            collision=False, fixed=True)\n",
    "gscene.create_safe(gtype=GEOTYPE.CYLINDER, name=\"indy0_pole_col\", link_name=\"indy0_tcp\",\n",
    "                            center=(0,0,0.055), dims=(0.07,0.07, 0.030), rpy=(0,0,0), color=(0.0,0.8,0.0,0.2),\n",
    "                            collision=True, fixed=True)\n",
    "\n",
    "gscene.create_safe(gtype=GEOTYPE.BOX, name=\"indy0_brushbase\", link_name=\"indy0_tcp\",\n",
    "                            center=(0,0,0.0775), dims=(0.06, 0.14, 0.015), rpy=(0,0,0), color=(0.8,0.8,0.8,1),\n",
    "                            collision=False, fixed=True)\n",
    "gscene.create_safe(gtype=GEOTYPE.BOX, name=\"brush_face\", link_name=\"indy0_tcp\",\n",
    "                            center=(0,0,0.095), dims=(0.05,0.13, 0.015), rpy=(0,0,0), color=(1.0,1.0,0.94,1),\n",
    "                            collision=False, fixed=True)\n",
    "gscene.create_safe(gtype=GEOTYPE.BOX, name=\"brush_face_col\", link_name=\"indy0_tcp\",\n",
    "                            center=(0,0,0.080), dims=(0.08,0.15, 0.02), rpy=(0,0,0), color=(0.0,0.8,0.0,0.5),\n",
    "                            collision=True, fixed=True)"
   ]
  },
  {
   "cell_type": "code",
   "execution_count": null,
   "metadata": {},
   "outputs": [],
   "source": []
  },
  {
   "cell_type": "markdown",
   "metadata": {},
   "source": [
    "## add sweep face"
   ]
  },
  {
   "cell_type": "code",
   "execution_count": 13,
   "metadata": {},
   "outputs": [],
   "source": [
    "track = s_builder.detect_and_register(item_names=[\"track\"], level_mask=[DetectionLevel.ENVIRONMENT])[\"track\"]\n",
    "track_face = gscene.copy_from(track, new_name=\"track_face\", collision=False)\n",
    "track_face.dims = (track.dims[0]-0.22, track.dims[1]-0.12, track.dims[2])\n",
    "# track.dims = (track.dims[0]-0.32, track.dims[1]-0.12, track.dims[2])"
   ]
  },
  {
   "cell_type": "code",
   "execution_count": 14,
   "metadata": {},
   "outputs": [],
   "source": [
    "gscene.update_markers_all()"
   ]
  },
  {
   "cell_type": "code",
   "execution_count": null,
   "metadata": {},
   "outputs": [],
   "source": []
  },
  {
   "cell_type": "markdown",
   "metadata": {},
   "source": [
    "## add wp"
   ]
  },
  {
   "cell_type": "code",
   "execution_count": 15,
   "metadata": {},
   "outputs": [],
   "source": [
    "TOOL_DIM = [0.06, 0.10]\n",
    "TACK_WIDTH = 0.16\n",
    "TRACK_DIM = track_face.dims\n",
    "TRACK_NUM = np.ceil(np.divide(TRACK_DIM[1]-TOOL_DIM[1], TOOL_DIM[1])).astype(np.int)+1\n",
    "TRACK_STEP = (TRACK_DIM[1]-TOOL_DIM[1])/(TRACK_NUM-1)\n",
    "WP_REF_A = -np.subtract(TRACK_DIM[:2], TOOL_DIM[:2])/2\n",
    "WP_REF_B = np.array([-WP_REF_A[0], WP_REF_A[1]])\n",
    "WP_REF_M = np.array([0, WP_REF_A[1]])\n",
    "TRC_THIC = TRACK_DIM[2]\n",
    "track_list = []\n",
    "for i_trc in range(TRACK_NUM):\n",
    "    wp1 = gscene.create_safe(GEOTYPE.BOX, \"wp{}a\".format(i_trc+1), \"base_link\", (TOOL_DIM[0]/2,TOOL_DIM[1]/2,TRC_THIC), \n",
    "                             tuple(WP_REF_A+[0,TRACK_STEP*i_trc])+(0,),rpy=(0,0,0), \n",
    "                             color=(0.8,0.2,0.2,0.2), display=True, fixed=True, collision=False, parent=\"track_face\")\n",
    "    wp2 = gscene.create_safe(GEOTYPE.BOX, \"wp{}b\".format(i_trc+1), \"base_link\", (TOOL_DIM[0]/2,TOOL_DIM[1]/2,TRC_THIC), \n",
    "                             tuple(WP_REF_B+[0,TRACK_STEP*i_trc])+(0,),rpy=(0,0,0), \n",
    "                             color=(0.8,0.2,0.2,0.2), display=True, fixed=True, collision=False, parent=\"track_face\")\n",
    "    face = gscene.create_safe(GEOTYPE.BOX, \"face{}\".format(i_trc+1), \"base_link\", \n",
    "                              (TRACK_DIM[0] - TOOL_DIM[0]/2,TACK_WIDTH,TRC_THIC), \n",
    "                             center=tuple(WP_REF_M+[0,TRACK_STEP*i_trc])+(1e-2,),rpy=(0,0,0), \n",
    "                             color=(0.8,0.2,0.2,0.2), display=True, fixed=True, collision=False, parent=\"track_face\")\n",
    "    track_list.append((wp1, wp2, face))"
   ]
  },
  {
   "cell_type": "code",
   "execution_count": 16,
   "metadata": {},
   "outputs": [],
   "source": [
    "gscene.update_markers_all()"
   ]
  },
  {
   "cell_type": "code",
   "execution_count": null,
   "metadata": {},
   "outputs": [],
   "source": []
  },
  {
   "cell_type": "code",
   "execution_count": 17,
   "metadata": {},
   "outputs": [
    {
     "data": {
      "text/plain": [
       "<pkg.geometry.geometry.GeometryItem at 0x7f07e3a16b90>"
      ]
     },
     "execution_count": 17,
     "metadata": {},
     "output_type": "execute_result"
    }
   ],
   "source": [
    "gscene.create_safe(gtype=GEOTYPE.BOX, name=\"blocker\", link_name=\"base_link\",\n",
    "                            center=(-0.27,-0.2,0.15), dims=(0.1,0.3, 0.4), rpy=(0,0,0), color=(0.0,0.8,0.0,0.5),\n",
    "                            collision=True, fixed=True)"
   ]
  },
  {
   "cell_type": "code",
   "execution_count": null,
   "metadata": {},
   "outputs": [],
   "source": []
  },
  {
   "cell_type": "markdown",
   "metadata": {},
   "source": [
    "## add box"
   ]
  },
  {
   "cell_type": "code",
   "execution_count": 18,
   "metadata": {},
   "outputs": [],
   "source": [
    "gtem_dict = s_builder.detect_and_register(level_mask=[DetectionLevel.MOVABLE])"
   ]
  },
  {
   "cell_type": "code",
   "execution_count": 19,
   "metadata": {},
   "outputs": [],
   "source": [
    "# # give clearance from the track surface\n",
    "# s_builder.give_clearance(track, gtem_dict.values())"
   ]
  },
  {
   "cell_type": "code",
   "execution_count": 20,
   "metadata": {},
   "outputs": [],
   "source": [
    "gscene.update_markers_all()"
   ]
  },
  {
   "cell_type": "code",
   "execution_count": null,
   "metadata": {},
   "outputs": [],
   "source": []
  },
  {
   "cell_type": "markdown",
   "metadata": {},
   "source": [
    "## Register binders"
   ]
  },
  {
   "cell_type": "code",
   "execution_count": 21,
   "metadata": {},
   "outputs": [],
   "source": [
    "from pkg.planning.constraint.constraint_actor import Gripper2Tool, PlacePlane, SweepFramer, FixtureSlot"
   ]
  },
  {
   "cell_type": "code",
   "execution_count": 22,
   "metadata": {},
   "outputs": [
    {
     "data": {
      "text/plain": [
       "<pkg.planning.constraint.constraint_actor.PlacePlane at 0x7f07e39f6290>"
      ]
     },
     "execution_count": 22,
     "metadata": {},
     "output_type": "execute_result"
    }
   ],
   "source": [
    "gscene.create_safe(gtype=GEOTYPE.SPHERE, name=\"grip1\", link_name=\"panda1_hand\", \n",
    "                 dims=(0.01,)*3, center=(0,0,0.112), rpy=(-np.pi/2,0,0), color=(1,0,0,1), display=True, collision=False, fixed=True)\n",
    "\n",
    "pscene.create_binder(bname=\"grip1\", gname=\"grip1\", _type=Gripper2Tool, point=(0,0,0), rpy=(0,0,0))\n",
    "pscene.create_binder(bname=\"brush_face\", gname=\"brush_face\", _type=SweepFramer, point=(0,0,0.00), \n",
    "                     rpy=(0,np.pi,0))\n",
    "pscene.create_binder(bname=\"track_face\", gname=\"track_face\", _type=PlacePlane)"
   ]
  },
  {
   "cell_type": "code",
   "execution_count": null,
   "metadata": {},
   "outputs": [],
   "source": []
  },
  {
   "cell_type": "markdown",
   "metadata": {},
   "source": [
    "## add objects"
   ]
  },
  {
   "cell_type": "code",
   "execution_count": 23,
   "metadata": {},
   "outputs": [],
   "source": [
    "from pkg.planning.constraint.constraint_subject import \\\n",
    "        CustomObject, Grasp2Point, PlacePoint, SweepFrame, SweepTask, BoxObject, FixturePoint, AbstractObject"
   ]
  },
  {
   "cell_type": "code",
   "execution_count": 24,
   "metadata": {},
   "outputs": [],
   "source": [
    "for gname in sorted(gtem_dict.keys()):\n",
    "    pscene.create_subject(oname=gname, gname=gname, _type=BoxObject, hexahedral=True)\n",
    "# box3= pscene.create_subject(oname=\"box3\", gname=\"box3\", _type=BoxObject, hexahedral=True)"
   ]
  },
  {
   "cell_type": "code",
   "execution_count": 25,
   "metadata": {},
   "outputs": [],
   "source": [
    "from pkg.planning.constraint.constraint_common import MotionConstraint\n",
    "from pkg.planning.constraint.constraint_subject import AbstractTask\n",
    "from pkg.planning.constraint.constraint_subject import SweepLineTask"
   ]
  },
  {
   "cell_type": "code",
   "execution_count": 26,
   "metadata": {},
   "outputs": [],
   "source": [
    "sweep_list = []\n",
    "for i_t, track_tem in enumerate(track_list):\n",
    "    wp1, wp2, face = track_tem\n",
    "    sweep_ = pscene.create_subject(oname=\"sweep{}\".format(i_t+1), gname=\"track_face\", _type=SweepLineTask, \n",
    "                                   action_points_dict = {wp1.name: SweepFrame(wp1.name, wp1, [0,0,0.005], [0,0,0]),\n",
    "                                                       wp2.name: SweepFrame(wp2.name, wp2, [0,0,0.005], [0,0,0])}, \n",
    "                                   clearance=[face])\n",
    "    sweep_list.append(sweep_)"
   ]
  },
  {
   "cell_type": "code",
   "execution_count": null,
   "metadata": {},
   "outputs": [],
   "source": []
  },
  {
   "cell_type": "markdown",
   "metadata": {},
   "source": [
    "### planners"
   ]
  },
  {
   "cell_type": "code",
   "execution_count": 27,
   "metadata": {
    "scrolled": false
   },
   "outputs": [],
   "source": [
    "from pkg.planning.motion.moveit.moveit_planner import MoveitPlanner\n",
    "mplan = MoveitPlanner(pscene)\n",
    "mplan.update_gscene()\n",
    "from pkg.planning.task.rrt import TaskRRT\n",
    "tplan = TaskRRT(pscene)\n",
    "tplan.prepare()\n",
    "ppline.set_motion_planner(mplan)\n",
    "ppline.set_task_planner(tplan)"
   ]
  },
  {
   "cell_type": "code",
   "execution_count": null,
   "metadata": {},
   "outputs": [],
   "source": []
  },
  {
   "cell_type": "markdown",
   "metadata": {},
   "source": [
    "## motion filters"
   ]
  },
  {
   "cell_type": "code",
   "execution_count": 28,
   "metadata": {},
   "outputs": [],
   "source": [
    "from pkg.planning.filtering.grasp_filter import GraspChecker\n",
    "from pkg.planning.filtering.reach_filter import ReachChecker\n",
    "from pkg.planning.filtering.latticized_filter import LatticedChecker\n",
    "from pkg.planning.filtering.task_clearance_filter import TaskClearanceChecker\n",
    "\n",
    "gcheck = GraspChecker(pscene)\n",
    "rcheck = ReachChecker(pscene)\n",
    "tcheck = TaskClearanceChecker(pscene, gcheck)\n",
    "checkers_all = [rcheck, gcheck, tcheck]\n",
    "# lcheck = LatticedChecker(pscene, gcheck)\n",
    "# checkers_all.append(lcheck)"
   ]
  },
  {
   "cell_type": "code",
   "execution_count": 29,
   "metadata": {},
   "outputs": [],
   "source": [
    "mplan.motion_filters = checkers_all"
   ]
  },
  {
   "cell_type": "code",
   "execution_count": 30,
   "metadata": {},
   "outputs": [],
   "source": [
    "gscene.show_pose(crob.home_pose)"
   ]
  },
  {
   "cell_type": "code",
   "execution_count": null,
   "metadata": {},
   "outputs": [],
   "source": []
  },
  {
   "cell_type": "markdown",
   "metadata": {},
   "source": [
    "## Set initial condition"
   ]
  },
  {
   "cell_type": "code",
   "execution_count": 31,
   "metadata": {},
   "outputs": [
    {
     "name": "stdout",
     "output_type": "stream",
     "text": [
      "('track_face', 'track_face', 0, 0, 0)\n"
     ]
    }
   ],
   "source": [
    "from pkg.planning.constraint.constraint_common \\\n",
    "            import sample_redundancy, combine_redundancy\n",
    "gtimer = GlobalTimer.instance()\n",
    "initial_state = pscene.initialize_state(crob.home_pose)\n",
    "print(initial_state.node)\n",
    "\n",
    "from pkg.utils.code_scraps import use_current_place_point_only, use_current_sub_binders_only\n",
    "# remove place points except for the current one\n",
    "use_current_place_point_only(pscene, initial_state)"
   ]
  },
  {
   "cell_type": "code",
   "execution_count": 32,
   "metadata": {},
   "outputs": [
    {
     "data": {
      "text/plain": [
       "['box1', 'box2', 'sweep1', 'sweep2', 'sweep3']"
      ]
     },
     "execution_count": 32,
     "metadata": {},
     "output_type": "execute_result"
    }
   ],
   "source": [
    "pscene.subject_name_list"
   ]
  },
  {
   "cell_type": "code",
   "execution_count": null,
   "metadata": {},
   "outputs": [],
   "source": []
  },
  {
   "cell_type": "markdown",
   "metadata": {},
   "source": [
    "# Node Sampler"
   ]
  },
  {
   "cell_type": "code",
   "execution_count": 33,
   "metadata": {},
   "outputs": [],
   "source": [
    "from pkg.planning.sampling.node_sampling import make_state_param_hashable, UniformNodeSampler, PenaltyNodeSampler, GrowingSampler\n",
    "\n",
    "tplan.new_node_sampler = PenaltyNodeSampler(3, 1)\n",
    "tplan.parent_node_sampler = UniformNodeSampler(3)\n",
    "# tplan.parent_snode_sampler = GrowingSampler(3)"
   ]
  },
  {
   "cell_type": "code",
   "execution_count": null,
   "metadata": {},
   "outputs": [],
   "source": []
  },
  {
   "cell_type": "markdown",
   "metadata": {},
   "source": [
    "# CustomRule"
   ]
  },
  {
   "cell_type": "code",
   "execution_count": 34,
   "metadata": {},
   "outputs": [],
   "source": [
    "from pkg.planning.task.custom_rules.sweep_entrance_control import SweepEntranceControlRule\n",
    "tplan.custom_rule = SweepEntranceControlRule(pscene)"
   ]
  },
  {
   "cell_type": "code",
   "execution_count": null,
   "metadata": {},
   "outputs": [],
   "source": []
  },
  {
   "cell_type": "markdown",
   "metadata": {},
   "source": [
    "## Plan & show"
   ]
  },
  {
   "cell_type": "code",
   "execution_count": 35,
   "metadata": {},
   "outputs": [],
   "source": [
    "from pkg.planning.motion.moveit.moveit_py import ConstrainedSpaceType\n",
    "from pkg.planning.constraint.constraint_common import get_binding_margins, fit_binding\n",
    "mplan.reset_log(False)\n",
    "gtimer.reset()"
   ]
  },
  {
   "cell_type": "code",
   "execution_count": 36,
   "metadata": {
    "scrolled": true
   },
   "outputs": [
    {
     "name": "stdout",
     "output_type": "stream",
     "text": [
      "('box2', 'track_face', 0, 0, 0)\n",
      "try: 0 - ('box2', 'track_face', 0, 0, 0)->('box2', 'track_face', 1, 0, 0)\n",
      "result: 0 - ('box2', 'track_face', 0, 0, 0)->('box2', 'track_face', 1, 0, 0) = fail\n",
      "try: 0 - ('box2', 'track_face', 0, 0, 0)->('box2', 'grip1', 0, 0, 0)\n",
      "result: 0 - ('box2', 'track_face', 0, 0, 0)->('box2', 'grip1', 0, 0, 0) = fail\n",
      "try: 0 - ('box2', 'track_face', 0, 0, 0)->('grip1', 'track_face', 0, 0, 0)\n",
      "result: 0 - ('box2', 'track_face', 0, 0, 0)->('grip1', 'track_face', 0, 0, 0) = fail\n",
      "try: 0 - ('box2', 'track_face', 0, 0, 0)->('grip1', 'track_face', 0, 0, 0)\n",
      "result: 0 - ('box2', 'track_face', 0, 0, 0)->('grip1', 'track_face', 0, 0, 0) = fail\n",
      "try: 0 - ('box2', 'track_face', 0, 0, 0)->('box2', 'grip1', 0, 0, 0)\n",
      "result: 0 - ('box2', 'track_face', 0, 0, 0)->('box2', 'grip1', 0, 0, 0) = fail\n",
      "try: 0 - ('box2', 'track_face', 0, 0, 0)->('box2', 'grip1', 0, 0, 0)\n",
      "result: 0 - ('box2', 'track_face', 0, 0, 0)->('box2', 'grip1', 0, 0, 0) = fail\n",
      "try: 0 - ('box2', 'track_face', 0, 0, 0)->('grip1', 'track_face', 0, 0, 0)\n",
      "result: 0 - ('box2', 'track_face', 0, 0, 0)->('grip1', 'track_face', 0, 0, 0) = fail\n",
      "try: 0 - ('box2', 'track_face', 0, 0, 0)->('box2', 'grip1', 0, 0, 0)\n",
      "result: 0 - ('box2', 'track_face', 0, 0, 0)->('box2', 'grip1', 0, 0, 0) = fail\n",
      "try: 0 - ('box2', 'track_face', 0, 0, 0)->('grip1', 'track_face', 0, 0, 0)\n",
      "try transition motion\n",
      "transition motion tried: True\n",
      "result: 0 - ('box2', 'track_face', 0, 0, 0)->('grip1', 'track_face', 0, 0, 0) = success\n",
      "branching: 0->1 (0.26/200.0 s, steps/err: 61(190.348863602 ms)/0.00219880511748)\n",
      "======================================================================================================================================================\n",
      "try: 1 - ('grip1', 'track_face', 0, 0, 0)->('grip1', 'track_face', 0, 0, 0)\n",
      "try joint motion\n",
      "joint motion tried: True\n",
      "result: 1 - ('grip1', 'track_face', 0, 0, 0)->('grip1', 'track_face', 0, 0, 0) = success\n",
      "branching: 1->2 (0.39/200.0 s, steps/err: 49(127.789974213 ms)/9.42235614579e-16)\n",
      "======================================================================================================================================================\n",
      "try: 1 - ('grip1', 'track_face', 0, 0, 0)->('grip1', 'track_face', 1, 0, 0)\n",
      "result: 1 - ('grip1', 'track_face', 0, 0, 0)->('grip1', 'track_face', 1, 0, 0) = fail\n",
      "try: 2 - ('grip1', 'track_face', 0, 0, 0)->('grip1', 'track_face', 1, 0, 0)\n",
      "result: 2 - ('grip1', 'track_face', 0, 0, 0)->('grip1', 'track_face', 1, 0, 0) = fail\n",
      "('grip1', 'track_face', 0, 0, 0) -> ('box2', 'track_face', 0, 0, 0)\n",
      "=== don't put on other object ===\n",
      "try: 2 - ('grip1', 'track_face', 0, 0, 0)->('track_face', 'track_face', 0, 0, 0)\n",
      "result: 2 - ('grip1', 'track_face', 0, 0, 0)->('track_face', 'track_face', 0, 0, 0) = fail\n",
      "try: 2 - ('grip1', 'track_face', 0, 0, 0)->('track_face', 'track_face', 0, 0, 0)\n",
      "result: 2 - ('grip1', 'track_face', 0, 0, 0)->('track_face', 'track_face', 0, 0, 0) = fail\n",
      "('grip1', 'track_face', 0, 0, 0) -> ('box2', 'track_face', 0, 0, 0)\n",
      "=== don't put on other object ===\n",
      "try: 1 - ('grip1', 'track_face', 0, 0, 0)->('track_face', 'track_face', 0, 0, 0)\n",
      "result: 1 - ('grip1', 'track_face', 0, 0, 0)->('track_face', 'track_face', 0, 0, 0) = fail\n",
      "('grip1', 'track_face', 0, 0, 0) -> ('box2', 'track_face', 0, 0, 0)\n",
      "=== don't put on other object ===\n",
      "try: 1 - ('grip1', 'track_face', 0, 0, 0)->('track_face', 'track_face', 0, 0, 0)\n",
      "result: 1 - ('grip1', 'track_face', 0, 0, 0)->('track_face', 'track_face', 0, 0, 0) = fail\n",
      "try: 2 - ('grip1', 'track_face', 0, 0, 0)->('track_face', 'track_face', 0, 0, 0)\n",
      "try transition motion\n",
      "transition motion tried: True\n",
      "result: 2 - ('grip1', 'track_face', 0, 0, 0)->('track_face', 'track_face', 0, 0, 0) = success\n",
      "branching: 2->3 (0.55/200.0 s, steps/err: 53(100.129127502 ms)/0.00187469498771)\n",
      "======================================================================================================================================================\n",
      "try: 3 - ('track_face', 'track_face', 0, 0, 0)->('track_face', 'track_face', 0, 0, 0)\n",
      "try joint motion\n",
      "joint motion tried: True\n",
      "result: 3 - ('track_face', 'track_face', 0, 0, 0)->('track_face', 'track_face', 0, 0, 0) = success\n",
      "branching: 3->4 (0.65/200.0 s, steps/err: 55(94.4590568542 ms)/1.03900567088e-15)\n",
      "======================================================================================================================================================\n",
      "try: 3 - ('track_face', 'track_face', 0, 0, 0)->('track_face', 'track_face', 1, 0, 0)\n",
      "result: 3 - ('track_face', 'track_face', 0, 0, 0)->('track_face', 'track_face', 1, 0, 0) = fail\n",
      "try: 4 - ('track_face', 'track_face', 0, 0, 0)->('track_face', 'track_face', 1, 0, 0)\n",
      "result: 4 - ('track_face', 'track_face', 0, 0, 0)->('track_face', 'track_face', 1, 0, 0) = fail\n",
      "try: 3 - ('track_face', 'track_face', 0, 0, 0)->('track_face', 'grip1', 0, 0, 0)\n",
      "result: 3 - ('track_face', 'track_face', 0, 0, 0)->('track_face', 'grip1', 0, 0, 0) = fail\n",
      "try: 3 - ('track_face', 'track_face', 0, 0, 0)->('track_face', 'grip1', 0, 0, 0)\n",
      "result: 3 - ('track_face', 'track_face', 0, 0, 0)->('track_face', 'grip1', 0, 0, 0) = fail\n",
      "try: 3 - ('track_face', 'track_face', 0, 0, 0)->('track_face', 'grip1', 0, 0, 0)\n",
      "result: 3 - ('track_face', 'track_face', 0, 0, 0)->('track_face', 'grip1', 0, 0, 0) = fail\n",
      "try: 3 - ('track_face', 'track_face', 0, 0, 0)->('track_face', 'grip1', 0, 0, 0)\n",
      "result: 3 - ('track_face', 'track_face', 0, 0, 0)->('track_face', 'grip1', 0, 0, 0) = fail\n",
      "('grip1', 'track_face', 0, 0, 0) -> ('box2', 'track_face', 0, 0, 0)\n",
      "=== don't put on other object ===\n",
      "try: 0 - ('box2', 'track_face', 0, 0, 0)->('box2', 'grip1', 0, 0, 0)\n",
      "result: 0 - ('box2', 'track_face', 0, 0, 0)->('box2', 'grip1', 0, 0, 0) = fail\n",
      "try: 0 - ('box2', 'track_face', 0, 0, 0)->('grip1', 'track_face', 0, 0, 0)\n",
      "try transition motion\n",
      "transition motion tried: True\n",
      "result: 0 - ('box2', 'track_face', 0, 0, 0)->('grip1', 'track_face', 0, 0, 0) = success\n",
      "branching: 0->5 (0.94/200.0 s, steps/err: 58(249.370098114 ms)/0.001837054676)\n",
      "======================================================================================================================================================\n",
      "try: 5 - ('grip1', 'track_face', 0, 0, 0)->('grip1', 'track_face', 0, 0, 0)\n",
      "try joint motion\n",
      "joint motion tried: True\n",
      "result: 5 - ('grip1', 'track_face', 0, 0, 0)->('grip1', 'track_face', 0, 0, 0) = success\n",
      "branching: 5->6 (1.05/200.0 s, steps/err: 40(108.426809311 ms)/7.90378711205e-16)\n",
      "======================================================================================================================================================\n",
      "try: 5 - ('grip1', 'track_face', 0, 0, 0)->('grip1', 'track_face', 1, 0, 0)\n",
      "result: 5 - ('grip1', 'track_face', 0, 0, 0)->('grip1', 'track_face', 1, 0, 0) = fail\n",
      "try: 6 - ('grip1', 'track_face', 0, 0, 0)->('grip1', 'track_face', 1, 0, 0)\n",
      "result: 6 - ('grip1', 'track_face', 0, 0, 0)->('grip1', 'track_face', 1, 0, 0) = fail\n",
      "try: 3 - ('track_face', 'track_face', 0, 0, 0)->('track_face', 'grip1', 0, 0, 0)\n",
      "result: 3 - ('track_face', 'track_face', 0, 0, 0)->('track_face', 'grip1', 0, 0, 0) = fail\n",
      "('grip1', 'track_face', 0, 0, 0) -> ('box2', 'track_face', 0, 0, 0)\n",
      "=== don't put on other object ===\n",
      "try: 3 - ('track_face', 'track_face', 0, 0, 0)->('track_face', 'grip1', 0, 0, 0)\n",
      "result: 3 - ('track_face', 'track_face', 0, 0, 0)->('track_face', 'grip1', 0, 0, 0) = fail\n",
      "try: 5 - ('grip1', 'track_face', 0, 0, 0)->('track_face', 'track_face', 0, 0, 0)\n",
      "result: 5 - ('grip1', 'track_face', 0, 0, 0)->('track_face', 'track_face', 0, 0, 0) = fail\n",
      "('grip1', 'track_face', 0, 0, 0) -> ('box2', 'track_face', 0, 0, 0)\n",
      "=== don't put on other object ===\n",
      "try: 0 - ('box2', 'track_face', 0, 0, 0)->('box2', 'grip1', 0, 0, 0)\n",
      "result: 0 - ('box2', 'track_face', 0, 0, 0)->('box2', 'grip1', 0, 0, 0) = fail\n",
      "('grip1', 'track_face', 0, 0, 0) -> ('box2', 'track_face', 0, 0, 0)\n",
      "=== don't put on other object ===\n",
      "try: 3 - ('track_face', 'track_face', 0, 0, 0)->('track_face', 'grip1', 0, 0, 0)\n",
      "result: 3 - ('track_face', 'track_face', 0, 0, 0)->('track_face', 'grip1', 0, 0, 0) = fail\n",
      "try: 0 - ('box2', 'track_face', 0, 0, 0)->('box2', 'grip1', 0, 0, 0)\n",
      "result: 0 - ('box2', 'track_face', 0, 0, 0)->('box2', 'grip1', 0, 0, 0) = fail\n",
      "try: 0 - ('box2', 'track_face', 0, 0, 0)->('grip1', 'track_face', 0, 0, 0)\n"
     ]
    },
    {
     "name": "stdout",
     "output_type": "stream",
     "text": [
      "result: 0 - ('box2', 'track_face', 0, 0, 0)->('grip1', 'track_face', 0, 0, 0) = fail\n",
      "try: 0 - ('box2', 'track_face', 0, 0, 0)->('box2', 'grip1', 0, 0, 0)\n",
      "result: 0 - ('box2', 'track_face', 0, 0, 0)->('box2', 'grip1', 0, 0, 0) = fail\n",
      "try: 3 - ('track_face', 'track_face', 0, 0, 0)->('track_face', 'grip1', 0, 0, 0)\n",
      "result: 3 - ('track_face', 'track_face', 0, 0, 0)->('track_face', 'grip1', 0, 0, 0) = fail\n",
      "try: 0 - ('box2', 'track_face', 0, 0, 0)->('grip1', 'track_face', 0, 0, 0)\n",
      "try transition motion\n",
      "transition motion tried: True\n",
      "result: 0 - ('box2', 'track_face', 0, 0, 0)->('grip1', 'track_face', 0, 0, 0) = success\n",
      "branching: 0->7 (1.34/200.0 s, steps/err: 73(182.137966156 ms)/0.00140854811215)\n",
      "======================================================================================================================================================\n",
      "try: 7 - ('grip1', 'track_face', 0, 0, 0)->('grip1', 'track_face', 0, 0, 0)\n",
      "try joint motion\n",
      "joint motion tried: True\n",
      "result: 7 - ('grip1', 'track_face', 0, 0, 0)->('grip1', 'track_face', 0, 0, 0) = success\n",
      "branching: 7->8 (1.47/200.0 s, steps/err: 66(139.095067978 ms)/4.84347632212e-16)\n",
      "======================================================================================================================================================\n",
      "try: 7 - ('grip1', 'track_face', 0, 0, 0)->('grip1', 'track_face', 1, 0, 0)\n",
      "result: 7 - ('grip1', 'track_face', 0, 0, 0)->('grip1', 'track_face', 1, 0, 0) = fail\n",
      "try: 8 - ('grip1', 'track_face', 0, 0, 0)->('grip1', 'track_face', 1, 0, 0)\n",
      "result: 8 - ('grip1', 'track_face', 0, 0, 0)->('grip1', 'track_face', 1, 0, 0) = fail\n",
      "try: 8 - ('grip1', 'track_face', 0, 0, 0)->('track_face', 'track_face', 0, 0, 0)\n",
      "result: 8 - ('grip1', 'track_face', 0, 0, 0)->('track_face', 'track_face', 0, 0, 0) = fail\n",
      "try: 3 - ('track_face', 'track_face', 0, 0, 0)->('track_face', 'grip1', 0, 0, 0)\n",
      "result: 3 - ('track_face', 'track_face', 0, 0, 0)->('track_face', 'grip1', 0, 0, 0) = fail\n",
      "('grip1', 'track_face', 0, 0, 0) -> ('box2', 'track_face', 0, 0, 0)\n",
      "=== don't put on other object ===\n",
      "try: 6 - ('grip1', 'track_face', 0, 0, 0)->('track_face', 'track_face', 0, 0, 0)\n",
      "result: 6 - ('grip1', 'track_face', 0, 0, 0)->('track_face', 'track_face', 0, 0, 0) = fail\n",
      "try: 3 - ('track_face', 'track_face', 0, 0, 0)->('track_face', 'grip1', 0, 0, 0)\n",
      "result: 3 - ('track_face', 'track_face', 0, 0, 0)->('track_face', 'grip1', 0, 0, 0) = fail\n",
      "try: 0 - ('box2', 'track_face', 0, 0, 0)->('grip1', 'track_face', 0, 0, 0)\n",
      "try transition motion\n",
      "transition motion tried: True\n",
      "result: 0 - ('box2', 'track_face', 0, 0, 0)->('grip1', 'track_face', 0, 0, 0) = success\n",
      "branching: 0->9 (1.67/200.0 s, steps/err: 48(135.719060898 ms)/0.00160097767922)\n",
      "======================================================================================================================================================\n",
      "try: 9 - ('grip1', 'track_face', 0, 0, 0)->('grip1', 'track_face', 0, 0, 0)\n",
      "try joint motion\n",
      "joint motion tried: True\n",
      "result: 9 - ('grip1', 'track_face', 0, 0, 0)->('grip1', 'track_face', 0, 0, 0) = success\n",
      "branching: 9->10 (1.74/200.0 s, steps/err: 27(76.6310691833 ms)/9.39167524242e-16)\n",
      "======================================================================================================================================================\n",
      "try: 9 - ('grip1', 'track_face', 0, 0, 0)->('grip1', 'track_face', 1, 0, 0)\n",
      "result: 9 - ('grip1', 'track_face', 0, 0, 0)->('grip1', 'track_face', 1, 0, 0) = fail\n",
      "try: 10 - ('grip1', 'track_face', 0, 0, 0)->('grip1', 'track_face', 1, 0, 0)\n",
      "result: 10 - ('grip1', 'track_face', 0, 0, 0)->('grip1', 'track_face', 1, 0, 0) = fail\n",
      "('grip1', 'track_face', 0, 0, 0) -> ('box2', 'track_face', 0, 0, 0)\n",
      "=== don't put on other object ===\n",
      "try: 0 - ('box2', 'track_face', 0, 0, 0)->('box2', 'grip1', 0, 0, 0)\n",
      "result: 0 - ('box2', 'track_face', 0, 0, 0)->('box2', 'grip1', 0, 0, 0) = fail\n",
      "try: 5 - ('grip1', 'track_face', 0, 0, 0)->('track_face', 'track_face', 0, 0, 0)\n",
      "result: 5 - ('grip1', 'track_face', 0, 0, 0)->('track_face', 'track_face', 0, 0, 0) = fail\n",
      "try: 0 - ('box2', 'track_face', 0, 0, 0)->('box2', 'grip1', 0, 0, 0)\n",
      "result: 0 - ('box2', 'track_face', 0, 0, 0)->('box2', 'grip1', 0, 0, 0) = fail\n",
      "try: 3 - ('track_face', 'track_face', 0, 0, 0)->('track_face', 'grip1', 0, 0, 0)\n",
      "result: 3 - ('track_face', 'track_face', 0, 0, 0)->('track_face', 'grip1', 0, 0, 0) = fail\n",
      "('grip1', 'track_face', 0, 0, 0) -> ('box2', 'track_face', 0, 0, 0)\n",
      "=== don't put on other object ===\n",
      "try: 0 - ('box2', 'track_face', 0, 0, 0)->('box2', 'grip1', 0, 0, 0)\n",
      "result: 0 - ('box2', 'track_face', 0, 0, 0)->('box2', 'grip1', 0, 0, 0) = fail\n",
      "try: 8 - ('grip1', 'track_face', 0, 0, 0)->('track_face', 'track_face', 0, 0, 0)\n",
      "result: 8 - ('grip1', 'track_face', 0, 0, 0)->('track_face', 'track_face', 0, 0, 0) = fail\n",
      "try: 1 - ('grip1', 'track_face', 0, 0, 0)->('track_face', 'track_face', 0, 0, 0)\n",
      "result: 1 - ('grip1', 'track_face', 0, 0, 0)->('track_face', 'track_face', 0, 0, 0) = fail\n",
      "('grip1', 'track_face', 0, 0, 0) -> ('box2', 'track_face', 0, 0, 0)\n",
      "=== don't put on other object ===\n",
      "('grip1', 'track_face', 0, 0, 0) -> ('box2', 'track_face', 0, 0, 0)\n",
      "=== don't put on other object ===\n",
      "try: 0 - ('box2', 'track_face', 0, 0, 0)->('grip1', 'track_face', 0, 0, 0)\n",
      "result: 0 - ('box2', 'track_face', 0, 0, 0)->('grip1', 'track_face', 0, 0, 0) = fail\n",
      "try: 3 - ('track_face', 'track_face', 0, 0, 0)->('track_face', 'grip1', 0, 0, 0)\n",
      "try transition motion\n",
      "transition motion tried: True\n",
      "result: 3 - ('track_face', 'track_face', 0, 0, 0)->('track_face', 'grip1', 0, 0, 0) = success\n",
      "branching: 3->11 (2.29/200.0 s, steps/err: 120(452.181100845 ms)/0.0013255814864)\n",
      "======================================================================================================================================================\n",
      "try: 11 - ('track_face', 'grip1', 0, 0, 0)->('track_face', 'grip1', 0, 0, 0)\n",
      "try joint motion\n",
      "joint motion tried: True\n",
      "result: 11 - ('track_face', 'grip1', 0, 0, 0)->('track_face', 'grip1', 0, 0, 0) = success\n",
      "branching: 11->12 (2.36/200.0 s, steps/err: 47(73.606967926 ms)/1.3272018088e-15)\n",
      "======================================================================================================================================================\n",
      "try: 11 - ('track_face', 'grip1', 0, 0, 0)->('track_face', 'grip1', 1, 0, 0)\n",
      "result: 11 - ('track_face', 'grip1', 0, 0, 0)->('track_face', 'grip1', 1, 0, 0) = fail\n",
      "try: 12 - ('track_face', 'grip1', 0, 0, 0)->('track_face', 'grip1', 1, 0, 0)\n",
      "try transition motion\n",
      "transition motion tried: True\n",
      "result: 12 - ('track_face', 'grip1', 0, 0, 0)->('track_face', 'grip1', 1, 0, 0) = success\n",
      "branching: 12->13 (2.51/200.0 s, steps/err: 45(129.024982452 ms)/0.00148024477573)\n",
      "======================================================================================================================================================\n",
      "try: 13 - ('track_face', 'grip1', 1, 0, 0)->('track_face', 'grip1', 2, 0, 0)\n",
      "try constrained motion\n",
      "constrained motion tried: True\n",
      "result: 13 - ('track_face', 'grip1', 1, 0, 0)->('track_face', 'grip1', 2, 0, 0) = success\n",
      "branching: 13->14 (2.58/200.0 s, steps/err: 31(74.4700431824 ms)/0.00180353141337)\n",
      "======================================================================================================================================================\n",
      "++ adding return motion to acquired answer ++\n",
      "try joint motion\n",
      "joint motion tried: True\n",
      "=========================================================================================================\n",
      "======================= terminated 0: first answer acquired ===============================\n",
      "=========================================================================================================\n",
      "try: 0 - ('track_face', 'grip1', 2, 0, 0)->('track_face', 'grip1', 2, 1, 0)\n",
      "try transition motion\n",
      "transition motion tried: False\n",
      "result: 0 - ('track_face', 'grip1', 2, 0, 0)->('track_face', 'grip1', 2, 1, 0) = fail\n",
      "try: 0 - ('track_face', 'grip1', 2, 0, 0)->('track_face', 'track_face', 2, 0, 0)\n",
      "result: 0 - ('track_face', 'grip1', 2, 0, 0)->('track_face', 'track_face', 2, 0, 0) = fail\n",
      "try: 0 - ('track_face', 'grip1', 2, 0, 0)->('track_face', 'track_face', 2, 0, 0)\n",
      "result: 0 - ('track_face', 'grip1', 2, 0, 0)->('track_face', 'track_face', 2, 0, 0) = fail\n",
      "try: 0 - ('track_face', 'grip1', 2, 0, 0)->('track_face', 'track_face', 2, 0, 0)\n",
      "result: 0 - ('track_face', 'grip1', 2, 0, 0)->('track_face', 'track_face', 2, 0, 0) = fail\n",
      "try: 0 - ('track_face', 'grip1', 2, 0, 0)->('track_face', 'track_face', 2, 0, 0)\n",
      "result: 0 - ('track_face', 'grip1', 2, 0, 0)->('track_face', 'track_face', 2, 0, 0) = fail\n",
      "try: 0 - ('track_face', 'grip1', 2, 0, 0)->('track_face', 'track_face', 2, 0, 0)\n",
      "result: 0 - ('track_face', 'grip1', 2, 0, 0)->('track_face', 'track_face', 2, 0, 0) = fail\n",
      "try: 0 - ('track_face', 'grip1', 2, 0, 0)->('track_face', 'track_face', 2, 0, 0)\n",
      "result: 0 - ('track_face', 'grip1', 2, 0, 0)->('track_face', 'track_face', 2, 0, 0) = fail\n",
      "try: 0 - ('track_face', 'grip1', 2, 0, 0)->('track_face', 'track_face', 2, 0, 0)\n",
      "result: 0 - ('track_face', 'grip1', 2, 0, 0)->('track_face', 'track_face', 2, 0, 0) = fail\n",
      "try: 0 - ('track_face', 'grip1', 2, 0, 0)->('track_face', 'track_face', 2, 0, 0)\n",
      "result: 0 - ('track_face', 'grip1', 2, 0, 0)->('track_face', 'track_face', 2, 0, 0) = fail\n",
      "try: 0 - ('track_face', 'grip1', 2, 0, 0)->('track_face', 'track_face', 2, 0, 0)\n",
      "result: 0 - ('track_face', 'grip1', 2, 0, 0)->('track_face', 'track_face', 2, 0, 0) = fail\n",
      "try: 0 - ('track_face', 'grip1', 2, 0, 0)->('track_face', 'track_face', 2, 0, 0)\n",
      "result: 0 - ('track_face', 'grip1', 2, 0, 0)->('track_face', 'track_face', 2, 0, 0) = fail\n",
      "try: 0 - ('track_face', 'grip1', 2, 0, 0)->('track_face', 'track_face', 2, 0, 0)\n",
      "result: 0 - ('track_face', 'grip1', 2, 0, 0)->('track_face', 'track_face', 2, 0, 0) = fail\n",
      "try: 0 - ('track_face', 'grip1', 2, 0, 0)->('track_face', 'track_face', 2, 0, 0)\n",
      "result: 0 - ('track_face', 'grip1', 2, 0, 0)->('track_face', 'track_face', 2, 0, 0) = fail\n",
      "try: 0 - ('track_face', 'grip1', 2, 0, 0)->('track_face', 'track_face', 2, 0, 0)\n",
      "result: 0 - ('track_face', 'grip1', 2, 0, 0)->('track_face', 'track_face', 2, 0, 0) = fail\n",
      "try: 0 - ('track_face', 'grip1', 2, 0, 0)->('track_face', 'track_face', 2, 0, 0)\n"
     ]
    },
    {
     "name": "stdout",
     "output_type": "stream",
     "text": [
      "result: 0 - ('track_face', 'grip1', 2, 0, 0)->('track_face', 'track_face', 2, 0, 0) = fail\n",
      "try: 0 - ('track_face', 'grip1', 2, 0, 0)->('track_face', 'track_face', 2, 0, 0)\n",
      "result: 0 - ('track_face', 'grip1', 2, 0, 0)->('track_face', 'track_face', 2, 0, 0) = fail\n",
      "try: 0 - ('track_face', 'grip1', 2, 0, 0)->('track_face', 'track_face', 2, 0, 0)\n",
      "try transition motion\n",
      "transition motion tried: True\n",
      "result: 0 - ('track_face', 'grip1', 2, 0, 0)->('track_face', 'track_face', 2, 0, 0) = success\n",
      "branching: 0->1 (5.5/200.0 s, steps/err: 74(243.727207184 ms)/0.00165839309355)\n",
      "======================================================================================================================================================\n",
      "try: 1 - ('track_face', 'track_face', 2, 0, 0)->('track_face', 'track_face', 2, 0, 0)\n",
      "try joint motion\n",
      "joint motion tried: True\n",
      "result: 1 - ('track_face', 'track_face', 2, 0, 0)->('track_face', 'track_face', 2, 0, 0) = success\n",
      "branching: 1->2 (5.75/200.0 s, steps/err: 73(246.693849564 ms)/8.51875086474e-16)\n",
      "======================================================================================================================================================\n",
      "try: 1 - ('track_face', 'track_face', 2, 0, 0)->('track_face', 'track_face', 2, 1, 0)\n",
      "result: 1 - ('track_face', 'track_face', 2, 0, 0)->('track_face', 'track_face', 2, 1, 0) = fail\n",
      "try: 2 - ('track_face', 'track_face', 2, 0, 0)->('track_face', 'track_face', 2, 1, 0)\n",
      "try transition motion\n",
      "transition motion tried: False\n",
      "result: 2 - ('track_face', 'track_face', 2, 0, 0)->('track_face', 'track_face', 2, 1, 0) = fail\n",
      "try: 1 - ('track_face', 'track_face', 2, 0, 0)->('grip1', 'track_face', 2, 0, 0)\n",
      "result: 1 - ('track_face', 'track_face', 2, 0, 0)->('grip1', 'track_face', 2, 0, 0) = fail\n",
      "try: 1 - ('track_face', 'track_face', 2, 0, 0)->('grip1', 'track_face', 2, 0, 0)\n",
      "try transition motion\n",
      "transition motion tried: True\n",
      "result: 1 - ('track_face', 'track_face', 2, 0, 0)->('grip1', 'track_face', 2, 0, 0) = success\n",
      "branching: 1->3 (11.12/200.0 s, steps/err: 68(314.68296051 ms)/0.00134532604827)\n",
      "======================================================================================================================================================\n",
      "try: 3 - ('grip1', 'track_face', 2, 0, 0)->('grip1', 'track_face', 2, 0, 0)\n",
      "try joint motion\n",
      "joint motion tried: True\n",
      "result: 3 - ('grip1', 'track_face', 2, 0, 0)->('grip1', 'track_face', 2, 0, 0) = success\n",
      "branching: 3->4 (11.21/200.0 s, steps/err: 79(89.5850658417 ms)/7.84517261615e-16)\n",
      "======================================================================================================================================================\n",
      "try: 3 - ('grip1', 'track_face', 2, 0, 0)->('grip1', 'track_face', 2, 1, 0)\n",
      "try transition motion\n",
      "transition motion tried: False\n",
      "result: 3 - ('grip1', 'track_face', 2, 0, 0)->('grip1', 'track_face', 2, 1, 0) = fail\n",
      "try: 4 - ('grip1', 'track_face', 2, 0, 0)->('grip1', 'track_face', 2, 1, 0)\n",
      "try transition motion\n",
      "transition motion tried: True\n",
      "result: 4 - ('grip1', 'track_face', 2, 0, 0)->('grip1', 'track_face', 2, 1, 0) = success\n",
      "branching: 4->5 (16.35/200.0 s, steps/err: 41(116.179943085 ms)/0.000947553666963)\n",
      "======================================================================================================================================================\n",
      "try: 5 - ('grip1', 'track_face', 2, 1, 0)->('grip1', 'track_face', 2, 2, 0)\n",
      "try constrained motion\n",
      "constrained motion tried: True\n",
      "result: 5 - ('grip1', 'track_face', 2, 1, 0)->('grip1', 'track_face', 2, 2, 0) = success\n",
      "branching: 5->6 (16.48/200.0 s, steps/err: 36(121.450901031 ms)/0.00137904886867)\n",
      "======================================================================================================================================================\n",
      "++ adding return motion to acquired answer ++\n",
      "try joint motion\n",
      "joint motion tried: True\n",
      "=========================================================================================================\n",
      "======================= terminated 0: first answer acquired ===============================\n",
      "=========================================================================================================\n",
      "try: 0 - ('grip1', 'track_face', 2, 2, 0)->('grip1', 'track_face', 2, 2, 1)\n",
      "try transition motion\n",
      "transition motion tried: True\n",
      "result: 0 - ('grip1', 'track_face', 2, 2, 0)->('grip1', 'track_face', 2, 2, 1) = success\n",
      "branching: 0->1 (0.1/200.0 s, steps/err: 55(94.0499305725 ms)/0.00217339617171)\n",
      "======================================================================================================================================================\n",
      "try: 1 - ('grip1', 'track_face', 2, 2, 1)->('grip1', 'track_face', 2, 2, 2)\n",
      "try constrained motion\n",
      "constrained motion tried: True\n",
      "result: 1 - ('grip1', 'track_face', 2, 2, 1)->('grip1', 'track_face', 2, 2, 2) = success\n",
      "branching: 1->2 (0.18/200.0 s, steps/err: 28(75.1869678497 ms)/0.00139438762534)\n",
      "======================================================================================================================================================\n",
      "try: 2 - ('grip1', 'track_face', 2, 2, 2)->('grip1', 'track_face', 2, 2, 2)\n",
      "try joint motion\n",
      "joint motion tried: True\n",
      "result: 2 - ('grip1', 'track_face', 2, 2, 2)->('grip1', 'track_face', 2, 2, 2) = success\n",
      "branching: 2->3 (0.26/200.0 s, steps/err: 36(74.3098258972 ms)/7.29510900972e-16)\n",
      "======================================================================================================================================================\n",
      "('grip1', 'track_face', 2, 2, 2) -> ('box2', 'track_face', 2, 2, 2)\n",
      "=== don't put on other object ===\n",
      "try: 3 - ('grip1', 'track_face', 2, 2, 2)->('track_face', 'track_face', 2, 2, 2)\n",
      "result: 3 - ('grip1', 'track_face', 2, 2, 2)->('track_face', 'track_face', 2, 2, 2) = fail\n",
      "try: 3 - ('grip1', 'track_face', 2, 2, 2)->('track_face', 'track_face', 2, 2, 2)\n",
      "result: 3 - ('grip1', 'track_face', 2, 2, 2)->('track_face', 'track_face', 2, 2, 2) = fail\n",
      "try: 2 - ('grip1', 'track_face', 2, 2, 2)->('track_face', 'track_face', 2, 2, 2)\n",
      "result: 2 - ('grip1', 'track_face', 2, 2, 2)->('track_face', 'track_face', 2, 2, 2) = fail\n",
      "try: 2 - ('grip1', 'track_face', 2, 2, 2)->('track_face', 'track_face', 2, 2, 2)\n",
      "result: 2 - ('grip1', 'track_face', 2, 2, 2)->('track_face', 'track_face', 2, 2, 2) = fail\n",
      "('grip1', 'track_face', 2, 2, 2) -> ('box2', 'track_face', 2, 2, 2)\n",
      "=== don't put on other object ===\n",
      "('grip1', 'track_face', 2, 2, 2) -> ('box2', 'track_face', 2, 2, 2)\n",
      "=== don't put on other object ===\n",
      "try: 2 - ('grip1', 'track_face', 2, 2, 2)->('track_face', 'track_face', 2, 2, 2)\n",
      "result: 2 - ('grip1', 'track_face', 2, 2, 2)->('track_face', 'track_face', 2, 2, 2) = fail\n",
      "('grip1', 'track_face', 2, 2, 2) -> ('box2', 'track_face', 2, 2, 2)\n",
      "=== don't put on other object ===\n",
      "('grip1', 'track_face', 2, 2, 2) -> ('box2', 'track_face', 2, 2, 2)\n",
      "=== don't put on other object ===\n",
      "try: 2 - ('grip1', 'track_face', 2, 2, 2)->('track_face', 'track_face', 2, 2, 2)\n",
      "result: 2 - ('grip1', 'track_face', 2, 2, 2)->('track_face', 'track_face', 2, 2, 2) = fail\n",
      "('grip1', 'track_face', 2, 2, 2) -> ('box2', 'track_face', 2, 2, 2)\n",
      "=== don't put on other object ===\n",
      "try: 2 - ('grip1', 'track_face', 2, 2, 2)->('track_face', 'track_face', 2, 2, 2)\n",
      "result: 2 - ('grip1', 'track_face', 2, 2, 2)->('track_face', 'track_face', 2, 2, 2) = fail\n",
      "('grip1', 'track_face', 2, 2, 2) -> ('box2', 'track_face', 2, 2, 2)\n",
      "=== don't put on other object ===\n",
      "try: 2 - ('grip1', 'track_face', 2, 2, 2)->('track_face', 'track_face', 2, 2, 2)\n",
      "result: 2 - ('grip1', 'track_face', 2, 2, 2)->('track_face', 'track_face', 2, 2, 2) = fail\n",
      "('grip1', 'track_face', 2, 2, 2) -> ('box2', 'track_face', 2, 2, 2)\n",
      "=== don't put on other object ===\n",
      "try: 2 - ('grip1', 'track_face', 2, 2, 2)->('track_face', 'track_face', 2, 2, 2)\n",
      "result: 2 - ('grip1', 'track_face', 2, 2, 2)->('track_face', 'track_face', 2, 2, 2) = fail\n",
      "('grip1', 'track_face', 2, 2, 2) -> ('box2', 'track_face', 2, 2, 2)\n",
      "=== don't put on other object ===\n",
      "('grip1', 'track_face', 2, 2, 2) -> ('box2', 'track_face', 2, 2, 2)\n",
      "=== don't put on other object ===\n",
      "try: 3 - ('grip1', 'track_face', 2, 2, 2)->('track_face', 'track_face', 2, 2, 2)\n",
      "try transition motion\n",
      "transition motion tried: True\n"
     ]
    },
    {
     "name": "stdout",
     "output_type": "stream",
     "text": [
      "result: 3 - ('grip1', 'track_face', 2, 2, 2)->('track_face', 'track_face', 2, 2, 2) = success\n",
      "branching: 3->4 (0.5/200.0 s, steps/err: 56(114.252090454 ms)/0.00109234138141)\n",
      "======================================================================================================================================================\n",
      "++ adding return motion to acquired answer ++\n",
      "try joint motion\n",
      "joint motion tried: True\n",
      "=========================================================================================================\n",
      "======================= terminated 0: first answer acquired ===============================\n",
      "=========================================================================================================\n"
     ]
    }
   ],
   "source": [
    "mplan.reset_log(False)\n",
    "gtimer.reset()\n",
    "\n",
    "with gtimer.block(\"detect\"):\n",
    "    ## detect again\n",
    "    gtem_dict = s_builder.detect_and_register(level_mask=[DetectionLevel.MOVABLE])\n",
    "\n",
    "    ## create boxes\n",
    "    box_list =  [] \n",
    "    for gname in sorted(gtem_dict.keys()):\n",
    "        box_new = pscene.create_subject(oname=gname, gname=gname, _type=BoxObject, hexahedral=True)\n",
    "        box_new.register_binders(pscene, PlacePlane)\n",
    "        box_list.append(box_new)\n",
    "    \n",
    "    initial_state = pscene.initialize_state(crob.home_pose, force_fit_binding=True)\n",
    "    gscene.update_markers_all()\n",
    "\n",
    "    # remove place points and sub-binders except for the current ones\n",
    "    use_current_place_point_only(pscene, initial_state)\n",
    "    use_current_sub_binders_only(pscene, initial_state)\n",
    "    tplan.prepare()\n",
    "    \n",
    "print(initial_state.node)\n",
    "\n",
    "gtimer.tic(\"firstmove\")\n",
    "obj_num = len(gtem_dict)\n",
    "sweep_num = len(sweep_list)\n",
    "from_state = initial_state\n",
    "t_exe = None\n",
    "snode_scedule_all = []\n",
    "for sweep_idx in range(sweep_num):\n",
    "    gcheck.put_banned = [track_list[sweep_idx][2]]\n",
    "    sweep_goal = tuple([int(i_s<=sweep_idx)*2 for i_s in range(sweep_num)])\n",
    "    goal_nodes = [(\"track_face\",)*obj_num+sweep_goal]\n",
    "    if sweep_idx < sweep_num-1:\n",
    "        for i_s in range(obj_num):\n",
    "            obj_goal = [\"track_face\"]*obj_num\n",
    "            obj_goal[i_s] = \"grip1\"\n",
    "            goal_nodes += [tuple(obj_goal)+sweep_goal]\n",
    "    gtimer.tic(\"plan{}\".format(sweep_idx))\n",
    "    ppline.search(from_state, goal_nodes, verbose=True, display=False, dt_vis=0.01, \n",
    "                  timeout_loop=200, multiprocess=False, timeout=5,\n",
    "                  plannerconfig=PlannerConfig.RRTConnectkConfigDefault, cs_type=ConstrainedSpaceType.TANGENTBUNDLE)\n",
    "    gtimer.toc(\"plan{}\".format(sweep_idx))\n",
    "    schedules = ppline.tplan.find_schedules()\n",
    "    schedules_sorted = ppline.tplan.sort_schedule(schedules)\n",
    "    snode_schedule = ppline.tplan.idxSchedule2SnodeScedule(schedules_sorted[0])\n",
    "    from_state = snode_schedule[-1].state\n",
    "    if t_exe:\n",
    "        t_exe.join()\n",
    "    else:\n",
    "        gtimer.toc(\"firstmove\")\n",
    "    snode_scedule_all.append(snode_schedule)\n",
    "    t_exe = Thread(target=ppline.play_schedule, args = (snode_schedule,), kwargs=dict( period=0.01))\n",
    "    t_exe.start()\n",
    "t_exe.join()"
   ]
  },
  {
   "cell_type": "code",
   "execution_count": 37,
   "metadata": {
    "scrolled": false
   },
   "outputs": [
    {
     "name": "stdout",
     "output_type": "stream",
     "text": [
      "detect: \t302.0 ms/1 = 302.2 ms (302.2/302.2)\n",
      "firstmove: \t2902.0 ms/1 = 2901.644 ms (2901.644/2901.644)\n",
      "plan0: \t2901.0 ms/1 = 2901.071 ms (2901.071/2901.071)\n",
      "initialize_memory: \t0.0 ms/3 = 0.063 ms (0.045/0.084)\n",
      "init_search: \t22.0 ms/3 = 7.451 ms (5.914/8.888)\n",
      "test_connection: \t19342.0 ms/102 = 189.625 ms (1.536/5027.521)\n",
      "plan1: \t16731.0 ms/1 = 16731.407 ms (16731.407/16731.407)\n",
      "plan2: \t880.0 ms/1 = 880.305 ms (880.305/880.305)\n",
      "\n"
     ]
    }
   ],
   "source": [
    "print(gtimer)"
   ]
  },
  {
   "cell_type": "code",
   "execution_count": 38,
   "metadata": {},
   "outputs": [],
   "source": [
    "self, Q = pscene, crob.home_pose\n",
    "## calculate binder transformations\n",
    "Q_dict = list2dict(Q, self.gscene.joint_names)\n",
    "\n",
    "## get current binding state\n",
    "binding_state = []\n",
    "for kobj in self.subject_name_list:\n",
    "    binding = self.subject_dict[kobj].get_initial_binding(self.actor_dict, Q_dict)\n",
    "    binding_state.append(binding)"
   ]
  },
  {
   "cell_type": "code",
   "execution_count": 39,
   "metadata": {},
   "outputs": [
    {
     "data": {
      "text/plain": [
       "[('box1', 'front_p', 'track_face', 'track_face'),\n",
       " ('box2', 'left_p', 'track_face', 'track_face'),\n",
       " ('sweep1', None, None, None),\n",
       " ('sweep2', None, None, None),\n",
       " ('sweep3', None, None, None)]"
      ]
     },
     "execution_count": 39,
     "metadata": {},
     "output_type": "execute_result"
    }
   ],
   "source": [
    "binding_state"
   ]
  },
  {
   "cell_type": "code",
   "execution_count": null,
   "metadata": {},
   "outputs": [],
   "source": []
  },
  {
   "cell_type": "code",
   "execution_count": 40,
   "metadata": {},
   "outputs": [
    {
     "data": {
      "text/plain": [
       "{'box2_left': <pkg.planning.constraint.constraint_actor.PlacePlane at 0x7f9926908b50>,\n",
       " 'brush_face': <pkg.planning.constraint.constraint_actor.SweepFramer at 0x7f9a44e460d0>,\n",
       " 'grip1': <pkg.planning.constraint.constraint_actor.Gripper2Tool at 0x7f9a44e46050>,\n",
       " 'track_face': <pkg.planning.constraint.constraint_actor.PlacePlane at 0x7f9a44e46110>}"
      ]
     },
     "execution_count": 40,
     "metadata": {},
     "output_type": "execute_result"
    }
   ],
   "source": [
    "pscene.actor_dict"
   ]
  },
  {
   "cell_type": "code",
   "execution_count": null,
   "metadata": {},
   "outputs": [],
   "source": []
  },
  {
   "cell_type": "code",
   "execution_count": null,
   "metadata": {},
   "outputs": [],
   "source": []
  },
  {
   "cell_type": "code",
   "execution_count": null,
   "metadata": {},
   "outputs": [],
   "source": []
  },
  {
   "cell_type": "markdown",
   "metadata": {},
   "source": [
    "## Plan & execute"
   ]
  },
  {
   "cell_type": "code",
   "execution_count": 35,
   "metadata": {},
   "outputs": [
    {
     "name": "stdout",
     "output_type": "stream",
     "text": [
      "connection command:\n",
      "indy0: False\n",
      "panda1: True\n"
     ]
    }
   ],
   "source": [
    "from pkg.planning.motion.moveit.moveit_py import ConstrainedSpaceType\n",
    "from pkg.planning.constraint.constraint_common import get_binding_margins, fit_binding\n",
    "crob.reset_connection(False,True)\n",
    "crob.grasp(True, True)\n",
    "time.sleep(1)\n",
    "crob.grasp(False, False)\n",
    "crob.joint_move_make_sure(crob.home_pose)"
   ]
  },
  {
   "cell_type": "code",
   "execution_count": 39,
   "metadata": {
    "scrolled": true
   },
   "outputs": [
    {
     "name": "stdout",
     "output_type": "stream",
     "text": [
      "('track_face', 'track_face', 0, 0, 0)\n",
      "try: 0 - ('track_face', 'track_face', 0, 0, 0)->('track_face', 'track_face', 1, 0, 0)\n",
      "result: 0 - ('track_face', 'track_face', 0, 0, 0)->('track_face', 'track_face', 1, 0, 0) = fail\n",
      "try: 0 - ('track_face', 'track_face', 0, 0, 0)->('track_face', 'grip1', 0, 0, 0)\n",
      "try transition motion\n",
      "transition motion tried: True\n",
      "result: 0 - ('track_face', 'track_face', 0, 0, 0)->('track_face', 'grip1', 0, 0, 0) = success\n",
      "branching: 0->1 (0.33/200.0 s, steps/err: 95(311.610937119 ms)/0.00148775374384)\n",
      "======================================================================================================================================================\n",
      "try: 1 - ('track_face', 'grip1', 0, 0, 0)->('track_face', 'grip1', 0, 0, 0)\n",
      "try joint motion\n",
      "joint motion tried: True\n",
      "result: 1 - ('track_face', 'grip1', 0, 0, 0)->('track_face', 'grip1', 0, 0, 0) = success\n",
      "branching: 1->2 (0.4/200.0 s, steps/err: 57(73.4438896179 ms)/5.9005463067e-16)\n",
      "======================================================================================================================================================\n",
      "try: 1 - ('track_face', 'grip1', 0, 0, 0)->('track_face', 'grip1', 1, 0, 0)\n",
      "result: 1 - ('track_face', 'grip1', 0, 0, 0)->('track_face', 'grip1', 1, 0, 0) = fail\n",
      "try: 2 - ('track_face', 'grip1', 0, 0, 0)->('track_face', 'grip1', 1, 0, 0)\n",
      "result: 2 - ('track_face', 'grip1', 0, 0, 0)->('track_face', 'grip1', 1, 0, 0) = fail\n",
      "try: 1 - ('track_face', 'grip1', 0, 0, 0)->('track_face', 'track_face', 0, 0, 0)\n",
      "try transition motion\n",
      "transition motion tried: True\n",
      "result: 1 - ('track_face', 'grip1', 0, 0, 0)->('track_face', 'track_face', 0, 0, 0) = success\n",
      "branching: 1->3 (0.51/200.0 s, steps/err: 69(81.9017887115 ms)/0.00130221377264)\n",
      "======================================================================================================================================================\n",
      "try: 3 - ('track_face', 'track_face', 0, 0, 0)->('track_face', 'track_face', 0, 0, 0)\n",
      "try joint motion\n",
      "joint motion tried: True\n",
      "result: 3 - ('track_face', 'track_face', 0, 0, 0)->('track_face', 'track_face', 0, 0, 0) = success\n",
      "branching: 3->4 (0.61/200.0 s, steps/err: 28(100.166082382 ms)/4.5827536418e-16)\n",
      "======================================================================================================================================================\n",
      "try: 3 - ('track_face', 'track_face', 0, 0, 0)->('track_face', 'track_face', 1, 0, 0)\n",
      "result: 3 - ('track_face', 'track_face', 0, 0, 0)->('track_face', 'track_face', 1, 0, 0) = fail\n",
      "try: 4 - ('track_face', 'track_face', 0, 0, 0)->('track_face', 'track_face', 1, 0, 0)\n",
      "result: 4 - ('track_face', 'track_face', 0, 0, 0)->('track_face', 'track_face', 1, 0, 0) = fail\n",
      "try: 0 - ('track_face', 'track_face', 0, 0, 0)->('grip1', 'track_face', 0, 0, 0)\n",
      "try transition motion\n",
      "transition motion tried: True\n",
      "result: 0 - ('track_face', 'track_face', 0, 0, 0)->('grip1', 'track_face', 0, 0, 0) = success\n",
      "branching: 0->5 (0.78/200.0 s, steps/err: 39(134.016990662 ms)/0.00141540811125)\n",
      "======================================================================================================================================================\n",
      "try: 5 - ('grip1', 'track_face', 0, 0, 0)->('grip1', 'track_face', 0, 0, 0)\n",
      "try joint motion\n",
      "joint motion tried: True\n",
      "result: 5 - ('grip1', 'track_face', 0, 0, 0)->('grip1', 'track_face', 0, 0, 0) = success\n",
      "branching: 5->6 (0.87/200.0 s, steps/err: 39(92.5619602203 ms)/8.79963793572e-16)\n",
      "======================================================================================================================================================\n",
      "try: 5 - ('grip1', 'track_face', 0, 0, 0)->('grip1', 'track_face', 1, 0, 0)\n",
      "result: 5 - ('grip1', 'track_face', 0, 0, 0)->('grip1', 'track_face', 1, 0, 0) = fail\n",
      "try: 6 - ('grip1', 'track_face', 0, 0, 0)->('grip1', 'track_face', 1, 0, 0)\n",
      "result: 6 - ('grip1', 'track_face', 0, 0, 0)->('grip1', 'track_face', 1, 0, 0) = fail\n",
      "try: 3 - ('track_face', 'track_face', 0, 0, 0)->('grip1', 'track_face', 0, 0, 0)\n",
      "try transition motion\n",
      "transition motion tried: True\n",
      "result: 3 - ('track_face', 'track_face', 0, 0, 0)->('grip1', 'track_face', 0, 0, 0) = success\n",
      "branching: 3->7 (1.55/200.0 s, steps/err: 51(646.274089813 ms)/0.00147034971619)\n",
      "======================================================================================================================================================\n",
      "try: 7 - ('grip1', 'track_face', 0, 0, 0)->('grip1', 'track_face', 0, 0, 0)\n",
      "try joint motion\n",
      "joint motion tried: True\n",
      "result: 7 - ('grip1', 'track_face', 0, 0, 0)->('grip1', 'track_face', 0, 0, 0) = success\n",
      "branching: 7->8 (1.6/200.0 s, steps/err: 32(49.4329929352 ms)/6.94458726502e-16)\n",
      "======================================================================================================================================================\n",
      "try: 7 - ('grip1', 'track_face', 0, 0, 0)->('grip1', 'track_face', 1, 0, 0)\n",
      "result: 7 - ('grip1', 'track_face', 0, 0, 0)->('grip1', 'track_face', 1, 0, 0) = fail\n",
      "try: 8 - ('grip1', 'track_face', 0, 0, 0)->('grip1', 'track_face', 1, 0, 0)\n",
      "try transition motion\n",
      "transition motion tried: True\n",
      "result: 8 - ('grip1', 'track_face', 0, 0, 0)->('grip1', 'track_face', 1, 0, 0) = success\n",
      "branching: 8->9 (1.75/200.0 s, steps/err: 49(138.761043549 ms)/0.00176092847666)\n",
      "======================================================================================================================================================\n",
      "try: 9 - ('grip1', 'track_face', 1, 0, 0)->('grip1', 'track_face', 2, 0, 0)\n",
      "try constrained motion\n",
      "constrained motion tried: True\n",
      "result: 9 - ('grip1', 'track_face', 1, 0, 0)->('grip1', 'track_face', 2, 0, 0) = success\n",
      "branching: 9->10 (1.85/200.0 s, steps/err: 29(101.019144058 ms)/0.00133752691057)\n",
      "======================================================================================================================================================\n",
      "++ adding return motion to acquired answer ++\n",
      "try joint motion\n",
      "joint motion tried: True\n",
      "=========================================================================================================\n",
      "======================= terminated 0: first answer acquired ===============================\n",
      "=========================================================================================================\n",
      "binder: track_face\n",
      "rname: None\n",
      "binder: track_face\n",
      "rname: None\n",
      "binder: None\n",
      "binder: None\n",
      "binder: None\n",
      "WARNING: indy0 is not connected - skip motion\n",
      "try: 0 - ('grip1', 'track_face', 2, 0, 0)->('grip1', 'track_face', 2, 1, 0)\n",
      "result: 0 - ('grip1', 'track_face', 2, 0, 0)->('grip1', 'track_face', 2, 1, 0) = fail\n",
      "try: 0 - ('grip1', 'track_face', 2, 0, 0)->('track_face', 'track_face', 2, 0, 0)\n",
      "result: 0 - ('grip1', 'track_face', 2, 0, 0)->('track_face', 'track_face', 2, 0, 0) = fail\n",
      "try: 0 - ('grip1', 'track_face', 2, 0, 0)->('track_face', 'track_face', 2, 0, 0)\n",
      "result: 0 - ('grip1', 'track_face', 2, 0, 0)->('track_face', 'track_face', 2, 0, 0) = fail\n",
      "try: 0 - ('grip1', 'track_face', 2, 0, 0)->('track_face', 'track_face', 2, 0, 0)\n",
      "result: 0 - ('grip1', 'track_face', 2, 0, 0)->('track_face', 'track_face', 2, 0, 0) = fail\n",
      "try: 0 - ('grip1', 'track_face', 2, 0, 0)->('track_face', 'track_face', 2, 0, 0)\n",
      "result: 0 - ('grip1', 'track_face', 2, 0, 0)->('track_face', 'track_face', 2, 0, 0) = fail\n",
      "try: 0 - ('grip1', 'track_face', 2, 0, 0)->('track_face', 'track_face', 2, 0, 0)\n",
      "result: 0 - ('grip1', 'track_face', 2, 0, 0)->('track_face', 'track_face', 2, 0, 0) = fail\n",
      "try: 0 - ('grip1', 'track_face', 2, 0, 0)->('track_face', 'track_face', 2, 0, 0)\n",
      "result: 0 - ('grip1', 'track_face', 2, 0, 0)->('track_face', 'track_face', 2, 0, 0) = fail\n",
      "try: 0 - ('grip1', 'track_face', 2, 0, 0)->('track_face', 'track_face', 2, 0, 0)\n",
      "result: 0 - ('grip1', 'track_face', 2, 0, 0)->('track_face', 'track_face', 2, 0, 0) = fail\n",
      "try: 0 - ('grip1', 'track_face', 2, 0, 0)->('track_face', 'track_face', 2, 0, 0)\n",
      "try transition motion\n",
      "transition motion tried: True\n",
      "result: 0 - ('grip1', 'track_face', 2, 0, 0)->('track_face', 'track_face', 2, 0, 0) = success\n",
      "branching: 0->1 (0.2/200.0 s, steps/err: 30(96.3370800018 ms)/0.00175759961464)\n",
      "======================================================================================================================================================\n"
     ]
    },
    {
     "name": "stdout",
     "output_type": "stream",
     "text": [
      "try: 1 - ('track_face', 'track_face', 2, 0, 0)->('track_face', 'track_face', 2, 0, 0)\n",
      "try joint motion\n",
      "joint motion tried: True\n",
      "result: 1 - ('track_face', 'track_face', 2, 0, 0)->('track_face', 'track_face', 2, 0, 0) = success\n",
      "branching: 1->2 (0.42/200.0 s, steps/err: 36(214.386940002 ms)/7.94194329832e-16)\n",
      "======================================================================================================================================================\n",
      "try: 1 - ('track_face', 'track_face', 2, 0, 0)->('track_face', 'track_face', 2, 1, 0)\n",
      "result: 1 - ('track_face', 'track_face', 2, 0, 0)->('track_face', 'track_face', 2, 1, 0) = fail\n",
      "try: 2 - ('track_face', 'track_face', 2, 0, 0)->('track_face', 'track_face', 2, 1, 0)\n",
      "result: 2 - ('track_face', 'track_face', 2, 0, 0)->('track_face', 'track_face', 2, 1, 0) = fail\n",
      "try: 1 - ('track_face', 'track_face', 2, 0, 0)->('track_face', 'grip1', 2, 0, 0)\n",
      "try transition motion\n",
      "transition motion tried: True\n",
      "result: 1 - ('track_face', 'track_face', 2, 0, 0)->('track_face', 'grip1', 2, 0, 0) = success\n",
      "branching: 1->3 (1.03/200.0 s, steps/err: 119(579.093933105 ms)/0.0014906233135)\n",
      "======================================================================================================================================================\n",
      "try: 3 - ('track_face', 'grip1', 2, 0, 0)->('track_face', 'grip1', 2, 0, 0)\n",
      "try joint motion\n",
      "joint motion tried: True\n",
      "result: 3 - ('track_face', 'grip1', 2, 0, 0)->('track_face', 'grip1', 2, 0, 0) = success\n",
      "branching: 3->4 (1.1/200.0 s, steps/err: 50(65.2480125427 ms)/1.09618843274e-15)\n",
      "======================================================================================================================================================\n",
      "try: 3 - ('track_face', 'grip1', 2, 0, 0)->('track_face', 'grip1', 2, 1, 0)\n",
      "result: 3 - ('track_face', 'grip1', 2, 0, 0)->('track_face', 'grip1', 2, 1, 0) = fail\n",
      "try: 4 - ('track_face', 'grip1', 2, 0, 0)->('track_face', 'grip1', 2, 1, 0)\n",
      "try transition motion\n",
      "transition motion tried: True\n",
      "result: 4 - ('track_face', 'grip1', 2, 0, 0)->('track_face', 'grip1', 2, 1, 0) = success\n",
      "branching: 4->5 (1.22/200.0 s, steps/err: 40(95.9320068359 ms)/0.00169844323302)\n",
      "======================================================================================================================================================\n",
      "try: 5 - ('track_face', 'grip1', 2, 1, 0)->('track_face', 'grip1', 2, 2, 0)\n",
      "try constrained motion\n",
      "constrained motion tried: True\n",
      "result: 5 - ('track_face', 'grip1', 2, 1, 0)->('track_face', 'grip1', 2, 2, 0) = success\n",
      "branching: 5->6 (1.44/200.0 s, steps/err: 31(216.019153595 ms)/0.00183251011503)\n",
      "======================================================================================================================================================\n",
      "++ adding return motion to acquired answer ++\n",
      "try joint motion\n",
      "joint motion tried: True\n",
      "=========================================================================================================\n",
      "======================= terminated 0: first answer acquired ===============================\n",
      "=========================================================================================================\n",
      "binder: track_face\n",
      "rname: None\n",
      "binder: grip1\n",
      "rname: panda1\n",
      "binder: None\n",
      "binder: None\n",
      "binder: None\n",
      "WARNING: indy0 is not connected - skip motion\n",
      "binder: track_face\n",
      "rname: None\n",
      "binder: track_face\n",
      "rname: None\n",
      "binder: None\n",
      "binder: None\n",
      "binder: None\n",
      "WARNING: indy0 is not connected - skip motion\n",
      "binder: grip1\n",
      "rname: panda1\n",
      "binder: track_face\n",
      "rname: None\n",
      "binder: None\n",
      "binder: None\n",
      "binder: None\n",
      "WARNING: indy0 is not connected - skip motion\n",
      "binder: grip1\n",
      "rname: panda1\n",
      "binder: track_face\n",
      "rname: None\n",
      "binder: None\n",
      "binder: None\n",
      "binder: None\n",
      "WARNING: indy0 is not connected - skip motion\n",
      "binder: grip1\n",
      "rname: panda1\n",
      "binder: track_face\n",
      "rname: None\n",
      "binder: brush_face\n",
      "rname: indy0\n",
      "binder: None\n",
      "binder: None\n",
      "WARNING: indy0 is not connected - skip motion\n",
      "binder: grip1\n",
      "rname: panda1\n",
      "binder: track_face\n",
      "rname: None\n",
      "binder: brush_face\n",
      "rname: indy0\n",
      "binder: None\n",
      "binder: None\n",
      "WARNING: indy0 is not connected - skip motion\n",
      "binder: grip1\n",
      "rname: panda1\n",
      "binder: track_face\n",
      "rname: None\n",
      "binder: brush_face\n",
      "rname: indy0\n",
      "binder: None\n",
      "binder: None\n",
      "binder: grip1\n",
      "rname: panda1\n",
      "binder: track_face\n",
      "rname: None\n",
      "binder: brush_face\n",
      "rname: indy0\n",
      "binder: None\n",
      "binder: None\n",
      "WARNING: indy0 is not connected - skip motion\n",
      "try: 0 - ('track_face', 'grip1', 2, 2, 0)->('track_face', 'grip1', 2, 2, 1)\n",
      "result: 0 - ('track_face', 'grip1', 2, 2, 0)->('track_face', 'grip1', 2, 2, 1) = fail\n",
      "try: 0 - ('track_face', 'grip1', 2, 2, 0)->('track_face', 'track_face', 2, 2, 0)\n",
      "try transition motion\n",
      "transition motion tried: True\n",
      "result: 0 - ('track_face', 'grip1', 2, 2, 0)->('track_face', 'track_face', 2, 2, 0) = success\n",
      "branching: 0->1 (0.16/200.0 s, steps/err: 35(130.618095398 ms)/0.00160652973732)\n",
      "======================================================================================================================================================\n",
      "try: 1 - ('track_face', 'track_face', 2, 2, 0)->('track_face', 'track_face', 2, 2, 0)\n",
      "try joint motion\n",
      "joint motion tried: True\n",
      "result: 1 - ('track_face', 'track_face', 2, 2, 0)->('track_face', 'track_face', 2, 2, 0) = success\n",
      "branching: 1->2 (0.38/200.0 s, steps/err: 35(220.744132996 ms)/8.50435746713e-16)\n",
      "======================================================================================================================================================\n",
      "try: 1 - ('track_face', 'track_face', 2, 2, 0)->('track_face', 'track_face', 2, 2, 1)\n",
      "result: 1 - ('track_face', 'track_face', 2, 2, 0)->('track_face', 'track_face', 2, 2, 1) = fail\n",
      "try: 2 - ('track_face', 'track_face', 2, 2, 0)->('track_face', 'track_face', 2, 2, 1)\n",
      "result: 2 - ('track_face', 'track_face', 2, 2, 0)->('track_face', 'track_face', 2, 2, 1) = fail\n",
      "try: 1 - ('track_face', 'track_face', 2, 2, 0)->('grip1', 'track_face', 2, 2, 0)\n",
      "result: 1 - ('track_face', 'track_face', 2, 2, 0)->('grip1', 'track_face', 2, 2, 0) = fail\n",
      "try: 1 - ('track_face', 'track_face', 2, 2, 0)->('grip1', 'track_face', 2, 2, 0)\n",
      "try transition motion\n",
      "transition motion tried: True\n",
      "result: 1 - ('track_face', 'track_face', 2, 2, 0)->('grip1', 'track_face', 2, 2, 0) = success\n",
      "branching: 1->3 (0.66/200.0 s, steps/err: 71(217.918872833 ms)/0.00156692821911)\n",
      "======================================================================================================================================================\n",
      "try: 3 - ('grip1', 'track_face', 2, 2, 0)->('grip1', 'track_face', 2, 2, 0)\n",
      "try joint motion\n",
      "joint motion tried: True\n",
      "result: 3 - ('grip1', 'track_face', 2, 2, 0)->('grip1', 'track_face', 2, 2, 0) = success\n",
      "branching: 3->4 (0.74/200.0 s, steps/err: 47(82.2739601135 ms)/7.90032952915e-16)\n",
      "======================================================================================================================================================\n",
      "try: 3 - ('grip1', 'track_face', 2, 2, 0)->('grip1', 'track_face', 2, 2, 1)\n",
      "result: 3 - ('grip1', 'track_face', 2, 2, 0)->('grip1', 'track_face', 2, 2, 1) = fail\n",
      "try: 4 - ('grip1', 'track_face', 2, 2, 0)->('grip1', 'track_face', 2, 2, 1)\n",
      "try transition motion\n",
      "transition motion tried: True\n",
      "result: 4 - ('grip1', 'track_face', 2, 2, 0)->('grip1', 'track_face', 2, 2, 1) = success\n",
      "branching: 4->5 (0.86/200.0 s, steps/err: 43(104.977846146 ms)/0.00066507243666)\n",
      "======================================================================================================================================================\n",
      "try: 5 - ('grip1', 'track_face', 2, 2, 1)->('grip1', 'track_face', 2, 2, 2)\n",
      "try constrained motion\n",
      "constrained motion tried: True\n",
      "result: 5 - ('grip1', 'track_face', 2, 2, 1)->('grip1', 'track_face', 2, 2, 2) = success\n",
      "branching: 5->6 (1.02/200.0 s, steps/err: 30(155.884981155 ms)/0.0019046894947)\n",
      "======================================================================================================================================================\n",
      "try: 6 - ('grip1', 'track_face', 2, 2, 2)->('grip1', 'track_face', 2, 2, 2)\n",
      "try joint motion\n",
      "joint motion tried: True\n",
      "result: 6 - ('grip1', 'track_face', 2, 2, 2)->('grip1', 'track_face', 2, 2, 2) = success\n",
      "branching: 6->7 (1.1/200.0 s, steps/err: 44(77.0189762115 ms)/1.07561749305e-15)\n",
      "======================================================================================================================================================\n",
      "try: 6 - ('grip1', 'track_face', 2, 2, 2)->('track_face', 'track_face', 2, 2, 2)\n",
      "result: 6 - ('grip1', 'track_face', 2, 2, 2)->('track_face', 'track_face', 2, 2, 2) = fail\n",
      "try: 7 - ('grip1', 'track_face', 2, 2, 2)->('track_face', 'track_face', 2, 2, 2)\n",
      "result: 7 - ('grip1', 'track_face', 2, 2, 2)->('track_face', 'track_face', 2, 2, 2) = fail\n",
      "try: 6 - ('grip1', 'track_face', 2, 2, 2)->('track_face', 'track_face', 2, 2, 2)\n",
      "result: 6 - ('grip1', 'track_face', 2, 2, 2)->('track_face', 'track_face', 2, 2, 2) = fail\n",
      "try: 7 - ('grip1', 'track_face', 2, 2, 2)->('track_face', 'track_face', 2, 2, 2)\n",
      "result: 7 - ('grip1', 'track_face', 2, 2, 2)->('track_face', 'track_face', 2, 2, 2) = fail\n",
      "try: 6 - ('grip1', 'track_face', 2, 2, 2)->('track_face', 'track_face', 2, 2, 2)\n",
      "result: 6 - ('grip1', 'track_face', 2, 2, 2)->('track_face', 'track_face', 2, 2, 2) = fail\n",
      "try: 7 - ('grip1', 'track_face', 2, 2, 2)->('track_face', 'track_face', 2, 2, 2)\n",
      "result: 7 - ('grip1', 'track_face', 2, 2, 2)->('track_face', 'track_face', 2, 2, 2) = fail\n",
      "try: 6 - ('grip1', 'track_face', 2, 2, 2)->('track_face', 'track_face', 2, 2, 2)\n",
      "try transition motion\n",
      "transition motion tried: False\n"
     ]
    },
    {
     "name": "stdout",
     "output_type": "stream",
     "text": [
      "result: 6 - ('grip1', 'track_face', 2, 2, 2)->('track_face', 'track_face', 2, 2, 2) = fail\n",
      "try: 6 - ('grip1', 'track_face', 2, 2, 2)->('track_face', 'track_face', 2, 2, 2)\n",
      "result: 6 - ('grip1', 'track_face', 2, 2, 2)->('track_face', 'track_face', 2, 2, 2) = fail\n",
      "try: 7 - ('grip1', 'track_face', 2, 2, 2)->('track_face', 'track_face', 2, 2, 2)\n",
      "result: 7 - ('grip1', 'track_face', 2, 2, 2)->('track_face', 'track_face', 2, 2, 2) = fail\n",
      "try: 6 - ('grip1', 'track_face', 2, 2, 2)->('track_face', 'track_face', 2, 2, 2)\n",
      "result: 6 - ('grip1', 'track_face', 2, 2, 2)->('track_face', 'track_face', 2, 2, 2) = fail\n",
      "try: 6 - ('grip1', 'track_face', 2, 2, 2)->('track_face', 'track_face', 2, 2, 2)\n",
      "result: 6 - ('grip1', 'track_face', 2, 2, 2)->('track_face', 'track_face', 2, 2, 2) = fail\n",
      "try: 7 - ('grip1', 'track_face', 2, 2, 2)->('track_face', 'track_face', 2, 2, 2)\n",
      "result: 7 - ('grip1', 'track_face', 2, 2, 2)->('track_face', 'track_face', 2, 2, 2) = fail\n",
      "try: 7 - ('grip1', 'track_face', 2, 2, 2)->('track_face', 'track_face', 2, 2, 2)\n",
      "try transition motion\n",
      "transition motion tried: True\n",
      "result: 7 - ('grip1', 'track_face', 2, 2, 2)->('track_face', 'track_face', 2, 2, 2) = success\n",
      "branching: 7->8 (6.49/200.0 s, steps/err: 63(107.312202454 ms)/0.000881519017653)\n",
      "======================================================================================================================================================\n",
      "++ adding return motion to acquired answer ++\n",
      "try joint motion\n",
      "joint motion tried: True\n",
      "=========================================================================================================\n",
      "======================= terminated 0: first answer acquired ===============================\n",
      "=========================================================================================================\n",
      "binder: track_face\n",
      "rname: None\n",
      "binder: track_face\n",
      "rname: None\n",
      "binder: brush_face\n",
      "rname: indy0\n",
      "binder: None\n",
      "binder: None\n",
      "WARNING: indy0 is not connected - skip motion\n",
      "binder: track_face\n",
      "rname: None\n",
      "binder: grip1\n",
      "rname: panda1\n",
      "binder: brush_face\n",
      "rname: indy0\n",
      "binder: None\n",
      "binder: None\n",
      "WARNING: indy0 is not connected - skip motion\n",
      "binder: track_face\n",
      "rname: None\n",
      "binder: grip1\n",
      "rname: panda1\n",
      "binder: brush_face\n",
      "rname: indy0\n",
      "binder: None\n",
      "binder: None\n",
      "WARNING: indy0 is not connected - skip motion\n",
      "binder: track_face\n",
      "rname: None\n",
      "binder: grip1\n",
      "rname: panda1\n",
      "binder: brush_face\n",
      "rname: indy0\n",
      "binder: brush_face\n",
      "rname: indy0\n",
      "binder: None\n",
      "WARNING: indy0 is not connected - skip motion\n",
      "binder: track_face\n",
      "rname: None\n",
      "binder: grip1\n",
      "rname: panda1\n",
      "binder: brush_face\n",
      "rname: indy0\n",
      "binder: brush_face\n",
      "rname: indy0\n",
      "binder: None\n",
      "WARNING: indy0 is not connected - skip motion\n",
      "binder: track_face\n",
      "rname: None\n",
      "binder: grip1\n",
      "rname: panda1\n",
      "binder: brush_face\n",
      "rname: indy0\n",
      "binder: brush_face\n",
      "rname: indy0\n",
      "binder: None\n",
      "binder: track_face\n",
      "rname: None\n",
      "binder: grip1\n",
      "rname: panda1\n",
      "binder: brush_face\n",
      "rname: indy0\n",
      "binder: brush_face\n",
      "rname: indy0\n",
      "binder: None\n",
      "WARNING: indy0 is not connected - skip motion\n",
      "binder: track_face\n",
      "rname: None\n",
      "binder: track_face\n",
      "rname: None\n",
      "binder: brush_face\n",
      "rname: indy0\n",
      "binder: brush_face\n",
      "rname: indy0\n",
      "binder: None\n",
      "WARNING: indy0 is not connected - skip motion\n",
      "binder: grip1\n",
      "rname: panda1\n",
      "binder: track_face\n",
      "rname: None\n",
      "binder: brush_face\n",
      "rname: indy0\n",
      "binder: brush_face\n",
      "rname: indy0\n",
      "binder: None\n",
      "WARNING: indy0 is not connected - skip motion\n",
      "binder: grip1\n",
      "rname: panda1\n",
      "binder: track_face\n",
      "rname: None\n",
      "binder: brush_face\n",
      "rname: indy0\n",
      "binder: brush_face\n",
      "rname: indy0\n",
      "binder: None\n",
      "WARNING: indy0 is not connected - skip motion\n",
      "binder: grip1\n",
      "rname: panda1\n",
      "binder: track_face\n",
      "rname: None\n",
      "binder: brush_face\n",
      "rname: indy0\n",
      "binder: brush_face\n",
      "rname: indy0\n",
      "binder: brush_face\n",
      "rname: indy0\n",
      "WARNING: indy0 is not connected - skip motion\n",
      "binder: grip1\n",
      "rname: panda1\n",
      "binder: track_face\n",
      "rname: None\n",
      "binder: brush_face\n",
      "rname: indy0\n",
      "binder: brush_face\n",
      "rname: indy0\n",
      "binder: brush_face\n",
      "rname: indy0\n",
      "WARNING: indy0 is not connected - skip motion\n",
      "binder: grip1\n",
      "rname: panda1\n",
      "binder: track_face\n",
      "rname: None\n",
      "binder: brush_face\n",
      "rname: indy0\n",
      "binder: brush_face\n",
      "rname: indy0\n",
      "binder: brush_face\n",
      "rname: indy0\n",
      "WARNING: indy0 is not connected - skip motion\n",
      "binder: track_face\n",
      "rname: None\n",
      "binder: track_face\n",
      "rname: None\n",
      "binder: brush_face\n",
      "rname: indy0\n",
      "binder: brush_face\n",
      "rname: indy0\n",
      "binder: brush_face\n",
      "rname: indy0\n",
      "WARNING: indy0 is not connected - skip motion\n",
      "binder: track_face\n",
      "rname: None\n",
      "binder: track_face\n",
      "rname: None\n",
      "binder: brush_face\n",
      "rname: indy0\n",
      "binder: brush_face\n",
      "rname: indy0\n",
      "binder: brush_face\n",
      "rname: indy0\n"
     ]
    }
   ],
   "source": [
    "mplan.reset_log(False)\n",
    "gtimer.reset()\n",
    "\n",
    "with gtimer.block(\"detect\"):\n",
    "    ## detect again\n",
    "    gtem_dict = s_builder.detect_and_register(level_mask=[DetectionLevel.MOVABLE])\n",
    "\n",
    "    ## create boxes\n",
    "    box_list =  [] \n",
    "    for gname in sorted(gtem_dict.keys()):\n",
    "        box_new = pscene.create_subject(oname=gname, gname=gname, _type=BoxObject, hexahedral=True)\n",
    "        box_new.register_binders(pscene, PlacePlane)\n",
    "        box_list.append(box_new)\n",
    "    \n",
    "    initial_state = pscene.initialize_state(crob.home_pose, force_fit_binding=True)\n",
    "    gscene.update_markers_all()\n",
    "\n",
    "    # remove place points and sub-binders except for the current ones\n",
    "    use_current_place_point_only(pscene, initial_state)\n",
    "    use_current_sub_binders_only(pscene, initial_state)\n",
    "    tplan.prepare()\n",
    "    \n",
    "print(initial_state.node)\n",
    "\n",
    "gtimer.tic(\"firstmove\")\n",
    "obj_num = len(gtem_dict)\n",
    "sweep_num = len(sweep_list)\n",
    "from_state = initial_state\n",
    "t_exe = None\n",
    "snode_scedule_all = []\n",
    "for sweep_idx in range(sweep_num):\n",
    "    gcheck.put_banned = [track_list[sweep_idx][2]]\n",
    "    sweep_goal = tuple([int(i_s<=sweep_idx)*2 for i_s in range(sweep_num)])\n",
    "    goal_nodes = [(\"track_face\",)*obj_num+sweep_goal]\n",
    "    if sweep_idx < sweep_num-1:\n",
    "        for i_s in range(obj_num):\n",
    "            obj_goal = [\"track_face\"]*obj_num\n",
    "            obj_goal[i_s] = \"grip1\"\n",
    "            goal_nodes += [tuple(obj_goal)+sweep_goal]\n",
    "    gtimer.tic(\"plan{}\".format(sweep_idx))\n",
    "    ppline.search(from_state, goal_nodes, verbose=True, display=False, dt_vis=0.01, \n",
    "                  timeout_loop=200, multiprocess=False, timeout=5,\n",
    "                  plannerconfig=PlannerConfig.RRTConnectkConfigDefault, cs_type=ConstrainedSpaceType.TANGENTBUNDLE)\n",
    "    gtimer.toc(\"plan{}\".format(sweep_idx))\n",
    "    schedules = ppline.tplan.find_schedules()\n",
    "    schedules_sorted = ppline.tplan.sort_schedule(schedules)\n",
    "    snode_schedule = ppline.tplan.idxSchedule2SnodeScedule(schedules_sorted[0])\n",
    "    from_state = snode_schedule[-1].state\n",
    "    if t_exe:\n",
    "        t_exe.join()\n",
    "    else:\n",
    "        gtimer.toc(\"firstmove\")\n",
    "    t_exe = Thread(target=ppline.execute_schedule, args = (snode_schedule,), kwargs=dict( vel_scale=0.5, acc_scale=1))\n",
    "    t_exe.start()\n",
    "    snode_scedule_all.append(snode_schedule)\n",
    "t_exe.join()"
   ]
  },
  {
   "cell_type": "code",
   "execution_count": 40,
   "metadata": {},
   "outputs": [
    {
     "name": "stdout",
     "output_type": "stream",
     "text": [
      "detect: \t230.0 ms/1 = 230.279 ms (230.279/230.279)\n",
      "firstmove: \t2136.0 ms/1 = 2136.49 ms (2136.49/2136.49)\n",
      "plan0: \t2136.0 ms/1 = 2135.81 ms (2135.81/2135.81)\n",
      "initialize_memory: \t0.0 ms/3 = 0.064 ms (0.056/0.073)\n",
      "init_search: \t13.0 ms/3 = 4.482 ms (3.102/5.172)\n",
      "test_connection: \t9643.0 ms/60 = 160.714 ms (2.374/5037.022)\n",
      "plan1: \t1752.0 ms/1 = 1752.03 ms (1752.03/1752.03)\n",
      "plan2: \t6833.0 ms/1 = 6832.93 ms (6832.93/6832.93)\n",
      "\n"
     ]
    }
   ],
   "source": [
    "print(gtimer)"
   ]
  },
  {
   "cell_type": "code",
   "execution_count": null,
   "metadata": {},
   "outputs": [],
   "source": []
  }
 ],
 "metadata": {
  "kernelspec": {
   "display_name": "Python 2",
   "language": "python",
   "name": "python2"
  },
  "language_info": {
   "codemirror_mode": {
    "name": "ipython",
    "version": 2
   },
   "file_extension": ".py",
   "mimetype": "text/x-python",
   "name": "python",
   "nbconvert_exporter": "python",
   "pygments_lexer": "ipython2",
   "version": "2.7.17"
  }
 },
 "nbformat": 4,
 "nbformat_minor": 2
}
