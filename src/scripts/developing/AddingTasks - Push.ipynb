{
 "cells": [
  {
   "cell_type": "code",
   "execution_count": 1,
   "metadata": {},
   "outputs": [
    {
     "name": "stdout",
     "output_type": "stream",
     "text": [
      "Current PC IP: 192.168.0.10\n",
      "Mobile ROB IP: 192.168.0.102\n"
     ]
    }
   ],
   "source": [
    "import os\n",
    "import sys\n",
    "sys.path.append(os.path.join(os.path.join(\n",
    "    os.environ[\"RNB_PLANNING_DIR\"], 'src')))\n",
    "sys.path.append(os.path.join(\n",
    "    os.environ[\"RNB_PLANNING_DIR\"], 'src/scripts/demo_202107'))\n",
    "\n",
    "CONNECT_INDY = False\n",
    "CONNECT_MOBILE = False\n",
    "USE_SDK = True\n",
    "\n",
    "IP_CUR = \"192.168.0.10\"# get_ip_address()\n",
    "MOBILE_IP = \"192.168.0.102\"\n",
    "INDY_IP = \"192.168.0.3\"\n",
    "\n",
    "print(\"Current PC IP: {}\".format(IP_CUR))\n",
    "print(\"Mobile ROB IP: {}\".format(MOBILE_IP))"
   ]
  },
  {
   "cell_type": "code",
   "execution_count": 2,
   "metadata": {},
   "outputs": [
    {
     "name": "stdout",
     "output_type": "stream",
     "text": [
      "connection command:\n",
      "kmb0: True\n",
      "indy1: False\n",
      "==== Kiro Tool connected to /dev/ttyUSB0 (115200) ====\n",
      "[KTOOL] initialize\n",
      "[KTOOL] enable\n",
      "[KTOOL] op_init\n",
      "[KTOOL] led_off\n"
     ]
    }
   ],
   "source": [
    "INDY_BASE_OFFSET = (0.172,0,0.439)\n",
    "INDY_BASE_RPY = (0,0,0)\n",
    "TOOL_NAME = \"brush_face\"\n",
    "WALL_THICKNESS = 0.01\n",
    "CLEARANCE = 0.001\n",
    "WS_HEIGHT = 1.6\n",
    "COL_COLOR = (1,1,1,0.2)\n",
    "\n",
    "from pkg.controller.combined_robot import *\n",
    "from pkg.project_config import *\n",
    "\n",
    "if not CONNECT_INDY:\n",
    "    indy_7dof_client.kiro_tool.OFFLINE_MODE = True\n",
    "kiro_udp_client.KIRO_UDP_OFFLINE_DEBUG = not CONNECT_MOBILE\n",
    "\n",
    "mobile_config = RobotConfig(0, RobotType.kmb, ((0,0,0), (0,0,0)),\n",
    "                \"{}/{}\".format(MOBILE_IP, IP_CUR))\n",
    "robot_config = RobotConfig(1, RobotType.indy7kiro, \n",
    "                           (INDY_BASE_OFFSET, INDY_BASE_RPY),\n",
    "                INDY_IP, root_on=\"kmb0_platform\", \n",
    "                           specs={\"no_sdk\":True} if not USE_SDK else {})\n",
    "\n",
    "ROBOT_TYPE = robot_config.type\n",
    "MOBILE_NAME = mobile_config.get_indexed_name()\n",
    "ROBOT_NAME = robot_config.get_indexed_name()\n",
    "crob = CombinedRobot(robots_on_scene=[mobile_config, robot_config]\n",
    "              , connection_list=[True, CONNECT_INDY])"
   ]
  },
  {
   "cell_type": "code",
   "execution_count": null,
   "metadata": {},
   "outputs": [],
   "source": []
  },
  {
   "cell_type": "markdown",
   "metadata": {},
   "source": [
    "### Make scene"
   ]
  },
  {
   "cell_type": "code",
   "execution_count": 3,
   "metadata": {},
   "outputs": [
    {
     "name": "stdout",
     "output_type": "stream",
     "text": [
      "Unable to register with master node [http://localhost:11311]: master may not be running yet. Will keep trying.\n",
      "Please create a subscriber to the marker\n",
      "publication OK\n",
      "published: [0, 0, 0, 0, 0, 0, 0, 0, 0, 0, 0, 0, 0]\n",
      "Please create a subscriber to the marker\n"
     ]
    }
   ],
   "source": [
    "from pkg.geometry.builder.scene_builder import SceneBuilder\n",
    "from pkg.planning.scene import PlanningScene\n",
    "\n",
    "s_builder = SceneBuilder(None)\n",
    "gscene = s_builder.create_gscene(crob)\n",
    "gtems = s_builder.add_robot_geometries(\n",
    "    color=COL_COLOR, display=True, collision=True)\n",
    "\n",
    "gscene.set_workspace_boundary(\n",
    "    -3, 3, -3, 3, -CLEARANCE, WS_HEIGHT, thickness=WALL_THICKNESS)"
   ]
  },
  {
   "cell_type": "markdown",
   "metadata": {},
   "source": [
    "### Planning scene"
   ]
  },
  {
   "cell_type": "code",
   "execution_count": 4,
   "metadata": {},
   "outputs": [],
   "source": [
    "pscene = PlanningScene(gscene, combined_robot=crob)\n",
    "ROBOT_BASE = pscene.robot_chain_dict[ROBOT_NAME]['link_names'][0]\n",
    "TIP_LINK = pscene.robot_chain_dict[ROBOT_NAME][\"tip_link\"]\n",
    "CAM_LINK = TIP_LINK.replace(\"tcp\", \"link6\")\n",
    "MOBILE_BASE = pscene.robot_chain_dict[MOBILE_NAME][\"tip_link\"]\n",
    "HOLD_LINK = MOBILE_BASE\n",
    "gscene.show_pose(crob.home_pose)\n",
    "\n",
    "HOLD_NAME = \"holder\"\n",
    "front_dist = 0.45+CLEARANCE\n",
    "holder_g = gscene.create_safe(GEOTYPE.SPHERE, HOLD_NAME, link_name=HOLD_LINK,dims=(0.01,0.01,0.01),\n",
    "                           center=(front_dist, 0, BAG_DIM[2]/2), rpy=(0,np.pi/2,0),\n",
    "                           fixed=False, collision=False, color=(1,0,0,0.5))\n",
    "holder_s = pscene.create_binder(HOLD_NAME, HOLD_NAME, FramedTool, point=(0,0,0), rpy=(0,0,0), key=BAG_KEY)\n",
    "floor_s = pscene.create_binder(\"floor_ws\", \"floor_ws\", PlacePlane, point=None)\n",
    "\n",
    "goal_g = gscene.create_safe(GEOTYPE.BOX, \"goal\", link_name=\"base_link\",dims=(0.4,0.4,WALL_THICKNESS),\n",
    "                           center=(2, 0, -WALL_THICKNESS/2-CLEARANCE), rpy=(0,0,0),\n",
    "                           fixed=False, collision=False, color=(1,0,0,0.5))\n",
    "goal_s = pscene.create_binder(\"goal\", \"goal\", PlacePlane, point=None)"
   ]
  },
  {
   "cell_type": "code",
   "execution_count": 16,
   "metadata": {},
   "outputs": [],
   "source": []
  },
  {
   "cell_type": "code",
   "execution_count": null,
   "metadata": {},
   "outputs": [],
   "source": []
  },
  {
   "cell_type": "markdown",
   "metadata": {},
   "source": [
    "## Bag"
   ]
  },
  {
   "cell_type": "code",
   "execution_count": 5,
   "metadata": {},
   "outputs": [],
   "source": [
    "BAG_NAME = \"bag\"\n",
    "BAG_DIM = (0.4, 0.29,0.635)"
   ]
  },
  {
   "cell_type": "code",
   "execution_count": 6,
   "metadata": {},
   "outputs": [],
   "source": [
    "from pkg.utils.code_scraps import *\n",
    "from pkg.planning.constraint.constraint_subject import *\n",
    "from pkg.planning.constraint.constraint_actor import *"
   ]
  },
  {
   "cell_type": "code",
   "execution_count": 7,
   "metadata": {},
   "outputs": [],
   "source": [
    "bag_g = gscene.create_safe(GEOTYPE.BOX, BAG_NAME, link_name=\"base_link\",dims=BAG_DIM,\n",
    "                           center=(1,0,BAG_DIM[2]/2), rpy=(0,0,0),\n",
    "                           fixed=False, collision=True, color=(0.8,0.8,0.8,1))\n",
    "handle = gscene.create_safe(GEOTYPE.BOX, BAG_NAME+\"_hdl\", link_name=\"base_link\",dims=(0.2,0.03,0.02),\n",
    "                           center=(0,0,BAG_DIM[2]/2+0.01), rpy=(0,0,0),\n",
    "                           fixed=False, collision=True, color=(0.6,0.6,0.6,1), parent=BAG_NAME)\n",
    "\n",
    "BAG_KEY = 1\n",
    "action_points_dict = {}\n",
    "for i in range(4):\n",
    "    R = Rot_axis_series([3, 2], [np.pi/2*i, np.pi/2])\n",
    "    point = np.round(np.multiply(BAG_DIM, -R[:,2])/2, 4)\n",
    "    ap_name = \"side{}\".format(i)\n",
    "    action_points_dict[ap_name]=FramePoint(ap_name, bag_g, point=point, rpy=Rot2rpy(R), key=BAG_KEY)\n",
    "\n",
    "action_points_dict[\"bottom_p\"] = PlacePoint(\"bottom_p\", bag_g, point=(0,0,-BAG_DIM[2]/2-CLEARANCE), rpy=(0,0,0))\n",
    "\n",
    "bag_s = pscene.create_subject(oname=BAG_NAME, gname=BAG_NAME, _type=CustomObject, action_points_dict=action_points_dict)"
   ]
  },
  {
   "cell_type": "code",
   "execution_count": null,
   "metadata": {},
   "outputs": [],
   "source": []
  },
  {
   "cell_type": "markdown",
   "metadata": {},
   "source": [
    "### prepare planner"
   ]
  },
  {
   "cell_type": "code",
   "execution_count": 11,
   "metadata": {},
   "outputs": [
    {
     "name": "stdout",
     "output_type": "stream",
     "text": [
      "Dash is running on http://0.0.0.0:8050/\n",
      "\n",
      " * Serving Flask app \"pkg.ui.dash_launcher\" (lazy loading)\n",
      " * Environment: production\n",
      "   WARNING: This is a development server. Do not use it in a production deployment.\n",
      "   Use a production WSGI server instead.\n",
      " * Debug mode: off\n",
      "generate table - Handlegenerate table - Geometry\n",
      "\n",
      "generate table - Binder\n",
      "generate table - Object\n"
     ]
    }
   ],
   "source": [
    "from pkg.planning.pipeline import PlanningPipeline\n",
    "ppline = PlanningPipeline(pscene)\n",
    "\n",
    "from pkg.ui.ui_broker import *\n",
    "# start UI\n",
    "ui_broker = UIBroker.instance()\n",
    "ui_broker.initialize(ppline, s_builder)\n",
    "ui_broker.start_server()\n",
    "\n",
    "ui_broker.set_tables()"
   ]
  },
  {
   "cell_type": "code",
   "execution_count": 20,
   "metadata": {
    "scrolled": true
   },
   "outputs": [],
   "source": [
    "from pkg.planning.motion.moveit.moveit_planner import MoveitPlanner\n",
    "mplan = MoveitPlanner(pscene, enable_dual=False)\n",
    "mplan.update_gscene()\n",
    "\n",
    "from pkg.planning.task.rrt import TaskRRT\n",
    "tplan = TaskRRT(pscene, node_trial_max=30)\n",
    "tplan.prepare()\n",
    "\n",
    "ppline.set_motion_planner(mplan)\n",
    "ppline.set_task_planner(tplan)"
   ]
  },
  {
   "cell_type": "code",
   "execution_count": 21,
   "metadata": {},
   "outputs": [],
   "source": [
    "from pkg.planning.filtering.grasp_filter import GraspChecker\n",
    "mplan.motion_filters = [GraspChecker(pscene)]\n",
    "mplan.incremental_constraint_motion = True"
   ]
  },
  {
   "cell_type": "code",
   "execution_count": null,
   "metadata": {},
   "outputs": [],
   "source": []
  },
  {
   "cell_type": "markdown",
   "metadata": {},
   "source": [
    "### Plan"
   ]
  },
  {
   "cell_type": "code",
   "execution_count": 22,
   "metadata": {},
   "outputs": [
    {
     "name": "stdout",
     "output_type": "stream",
     "text": [
      "['bag']\n",
      "('floor_ws',)\n"
     ]
    }
   ],
   "source": [
    "gscene.show_pose(crob.home_pose)\n",
    "initial_state = pscene.initialize_state(crob.home_pose)\n",
    "print(pscene.subject_name_list)\n",
    "print(initial_state.node)"
   ]
  },
  {
   "cell_type": "code",
   "execution_count": 24,
   "metadata": {
    "scrolled": true
   },
   "outputs": [
    {
     "name": "stdout",
     "output_type": "stream",
     "text": [
      "Use 18/36 agents\n",
      "try: 0 - ('floor_ws',)->('holder',)\n",
      "error: 0.35\n",
      "try transition motion\n",
      "try: 0 - ('floor_ws',)->('holder',)\n",
      "error: 0.35\n",
      "try transition motion\n",
      "transition motion tried: True\n",
      "result: 0 - ('floor_ws',)->('holder',) = success\n",
      "branching: 0->1 (0.16/100.0 s, steps/err: 3(83.0528736115 ms)/0.00126296048801)\n",
      "======================================================================================================================================================\n",
      "transition motion tried: True\n",
      "try: 1 - ('holder',)->('goal',)\n",
      "result: 0 - ('floor_ws',)->('holder',) = success\n",
      "error: 1.6\n",
      "branching: 0->2 (0.18/100.0 s, steps/err: 3(80.4529190063 ms)/0.000901098207919)\n",
      "try transition motion\n",
      "======================================================================================================================================================\n",
      "try: 2 - ('holder',)->('goal',)\n",
      "error: 3.1\n",
      "try transition motion\n",
      "try: 1 - ('holder',)->('goal',)\n",
      "error: 2.8\n",
      "transition motion tried: True\n",
      "try transition motion\n",
      "Goal reached\n",
      "result: 1 - ('holder',)->('goal',) = success\n",
      "branching: 1->3 (0.26/100.0 s, steps/err: 11(64.7900104523 ms)/0.000446631007035)\n",
      "transition motion tried: True\n",
      "======================================================================================================================================================\n",
      "Goal reached\n",
      "++ adding return motion to acquired answer ++\n",
      "result: 2 - ('holder',)->('goal',) = success\n",
      "branching: 2->4 (0.29/100.0 s, steps/err: 21(89.6389484406 ms)/0.00181657470647)\n",
      "======================================================================================================================================================\n",
      "++ adding return motion to acquired answer ++\n",
      "transition motion tried: True\n",
      "try: 0 - ('floor_ws',)->('holder',)\n",
      "Goal reached\n",
      "Goal reached\n",
      "error: 2.3\n",
      "result: 1 - ('holder',)->('goal',) = success\n",
      "try transition motion\n",
      "branching: 1->5 (0.35/100.0 s, steps/err: 19(108.957052231 ms)/0.00198372191393)\n",
      "======================================================================================================================================================\n",
      "++ adding return motion to acquired answer ++\n",
      "Goal reached\n",
      "transition motion tried: True\n",
      "result: 0 - ('floor_ws',)->('holder',) = success\n",
      "branching: 0->8 (0.41/100.0 s, steps/err: 17(64.2800331116 ms)/0.00091141536711)\n",
      "try: 1 - ('holder',)->('floor_ws',)\n",
      "======================================================================================================================================================\n",
      "try: 8 - ('holder',)->('goal',)\n",
      "try: 8 - ('holder',)->('goal',)\n",
      "Motion Filer Failure: GraspChecker\n",
      "Motion Filer Failure: GraspChecker\n",
      "result: 8 - ('holder',)->('goal',) = fail\n",
      "Goal reached\n",
      "try: 0 - ('floor_ws',)->('holder',)\n",
      "try: 2 - ('holder',)->('floor_ws',)\n",
      "error: 0.93\n",
      "try: 0 - ('floor_ws',)->('holder',)\n",
      "result: 1 - ('holder',)->('floor_ws',) = fail\n",
      "try: 0 - ('floor_ws',)->('holder',)\n",
      "try transition motion\n",
      "error: 2.3\n",
      "error: 2.3\n",
      "try transition motion\n",
      "try: 8 - ('holder',)->('goal',)\n",
      "Motion Filer Failure: GraspChecker\n",
      "try transition motion\n",
      "Motion Filer Failure: GraspChecker\n",
      "error: 2.3\n",
      "result: 8 - ('holder',)->('goal',) = fail\n",
      "try: 2 - ('holder',)->('goal',)\n",
      "result: 2 - ('holder',)->('floor_ws',) = fail\n",
      "try: 8 - ('holder',)->('goal',)\n",
      "try: 2 - ('holder',)->('goal',)\n",
      "try transition motion\n",
      "try: 0 - ('floor_ws',)->('holder',)\n",
      "error: 1.1\n",
      "Motion Filer Failure: GraspChecker\n",
      "try: 1 - ('holder',)->('floor_ws',)\n",
      "error: 1.2\n",
      "try transition motion\n",
      "error: 1.1\n",
      "transition motion tried: True\n",
      "=========================================================================================================\n",
      "result: 8 - ('holder',)->('goal',) = fail\n",
      "transition motion tried: True\n",
      "error: 3.3\n",
      "try: 2 - ('holder',)->('floor_ws',)\n",
      "======================= terminated 1: required answers acquired  (0.6/100.0) ===============================\n",
      "try transition motion\n",
      "try transition motion\n",
      "=========================================================================================================\n",
      "try transition motion\n",
      "=========================================================================================================\n",
      "error: 3.0\n",
      "=========================================================================================================\n",
      "======================= terminated 8: Stop called from other agent  (0.6/100.0) ===============================\n",
      "=========================================================================================================\n",
      "transition motion tried: True\n",
      "transition motion tried: True\n",
      "======================= terminated 11: Stop called from other agent  (0.6/100.0) ===============================\n",
      "Goal reached\n",
      "result: 0 - ('floor_ws',)->('holder',) = success\n",
      "=========================================================================================================\n",
      "======================= terminated 14: Stop called from other agent  (0.6/100.0) ===============================\n",
      "result: 8 - ('holder',)->('goal',) = success\n",
      "=========================================================================================================\n",
      "=========================================================================================================\n",
      "try transition motion\n",
      "=========================================================================================================\n",
      "branching: 8->10 (0.65/100.0 s, steps/err: 6(197.447061539 ms)/0.0010679436146)\n",
      "branching: 0->11 (0.64/100.0 s, steps/err: 18(151.309967041 ms)/0.00138130065324)\n",
      "=========================================================================================================\n",
      "result: 0 - ('floor_ws',)->('holder',) = success\n",
      "======================= terminated 15: Stop called from other agent  (0.7/100.0) ===============================\n",
      "=========================================================================================================\n",
      "branching: 0->12 (0.65/100.0 s, steps/err: 18(150.629997253 ms)/0.00190469911567)\n",
      "======================= terminated 13: Stop called from other agent  (0.7/100.0) ===============================\n",
      "======================= terminated 16: Stop called from other agent  (0.6/100.0) ===============================\n",
      "======================================================================================================================================================\n",
      "======================================================================================================================================================\n",
      "=========================================================================================================\n",
      "=========================================================================================================\n",
      "======================================================================================================================================================\n",
      "=========================================================================================================\n",
      "Goal reached\n",
      "=========================================================================================================\n",
      "++ adding return motion to acquired answer ++\n",
      "======================= terminated 17: Stop called from other agent  (0.7/100.0) ===============================\n",
      "=========================================================================================================\n",
      "=========================================================================================================\n",
      "=========================================================================================================\n",
      "======================= terminated 2: required answers acquired  (0.7/100.0) ===============================\n",
      "result: 2 - ('holder',)->('goal',) = success\n",
      "======================= terminated 3: Stop called from other agent  (0.7/100.0) ===============================\n",
      "======================= terminated 7: Stop called from other agent  (0.7/100.0) ===============================\n",
      "=========================================================================================================\n",
      "=========================================================================================================\n",
      "transition motion tried: True\n",
      "branching: 2->13 (0.67/100.0 s, steps/err: 6(113.300085068 ms)/0.00122763430231)\n"
     ]
    },
    {
     "name": "stdout",
     "output_type": "stream",
     "text": [
      "=========================================================================================================\n",
      "=========================================================================================================\n",
      "======================================================================================================================================================\n",
      "Goal reached\n",
      "++ adding return motion to acquired answer ++\n",
      "result: 2 - ('holder',)->('goal',) = success\n",
      "branching: 2->14 (0.68/100.0 s, steps/err: 8(121.86217308 ms)/0.00163006013124)\n",
      "======================================================================================================================================================\n",
      "++ adding return motion to acquired answer ++\n",
      "transition motion tried: True\n",
      "result: 1 - ('holder',)->('floor_ws',) = success\n",
      "branching: 1->15 (0.7/100.0 s, steps/err: 7(129.878997803 ms)/0.00135023429686)\n",
      "======================================================================================================================================================\n",
      "=========================================================================================================\n",
      "======================= terminated 0: Stop called from other agent  (0.7/100.0) ===============================\n",
      "=========================================================================================================\n",
      "transition motion tried: True\n",
      "Goal reached\n",
      "result: 0 - ('floor_ws',)->('holder',) = success\n",
      "branching: 0->17 (0.71/100.0 s, steps/err: 41(230.810880661 ms)/0.00146706655741)\n",
      "======================================================================================================================================================\n",
      "=========================================================================================================\n",
      "transition motion tried: True\n",
      "======================= terminated 9: Stop called from other agent  (0.7/100.0) ===============================\n",
      "=========================================================================================================\n",
      "Goal reached\n",
      "result: 2 - ('holder',)->('floor_ws',) = success\n",
      "branching: 2->18 (0.73/100.0 s, steps/err: 22(114.536046982 ms)/0.00167670436979)\n",
      "Goal reached\n",
      "======================================================================================================================================================\n",
      "=========================================================================================================\n",
      "======================= terminated 12: Stop called from other agent  (0.7/100.0) ===============================\n",
      "=========================================================================================================\n",
      "transition motion tried: True\n",
      "result: 0 - ('floor_ws',)->('holder',) = success\n",
      "branching: 0->21 (0.78/100.0 s, steps/err: 34(220.730066299 ms)/0.000707607023816)\n",
      "======================================================================================================================================================\n",
      "=========================================================================================================\n",
      "======================= terminated 6: Stop called from other agent  (0.8/100.0) ===============================\n",
      "=========================================================================================================\n",
      "=========================================================================================================\n",
      "======================= terminated 10: required answers acquired  (0.9/100.0) ===============================\n",
      "=========================================================================================================\n",
      "=========================================================================================================\n",
      "======================= terminated 5: required answers acquired  (0.9/100.0) ===============================\n",
      "=========================================================================================================\n",
      "=========================================================================================================\n",
      "======================= terminated 4: required answers acquired  (0.9/100.0) ===============================\n",
      "=========================================================================================================\n",
      "========================== FINISHED (1.0 / 100.0 s) ==============================]\n"
     ]
    }
   ],
   "source": [
    "goal_nodes = [('goal',)]\n",
    "ppline.search(initial_state, goal_nodes, max_solution_count=1,\n",
    "              verbose=True, display=False, dt_vis=0.01, \n",
    "              timeout=0.5, timeout_loop=100, \n",
    "              multiprocess=True, add_homing=True)"
   ]
  },
  {
   "cell_type": "code",
   "execution_count": 25,
   "metadata": {},
   "outputs": [],
   "source": [
    "pscene.set_object_state(initial_state)\n",
    "gscene.show_pose(initial_state.Q)"
   ]
  },
  {
   "cell_type": "code",
   "execution_count": 26,
   "metadata": {
    "scrolled": false
   },
   "outputs": [
    {
     "name": "stdout",
     "output_type": "stream",
     "text": [
      "('floor_ws',)->('holder',)\n",
      "('holder',)->('goal',)\n",
      "('goal',)->('goal',)\n"
     ]
    }
   ],
   "source": [
    "snode_schedule = tplan.get_best_schedule(at_home=True)\n",
    "ppline.play_schedule(snode_schedule)"
   ]
  },
  {
   "cell_type": "code",
   "execution_count": null,
   "metadata": {},
   "outputs": [],
   "source": []
  }
 ],
 "metadata": {
  "kernelspec": {
   "display_name": "Python 2",
   "language": "python",
   "name": "python2"
  },
  "language_info": {
   "codemirror_mode": {
    "name": "ipython",
    "version": 2
   },
   "file_extension": ".py",
   "mimetype": "text/x-python",
   "name": "python",
   "nbconvert_exporter": "python",
   "pygments_lexer": "ipython2",
   "version": "2.7.17"
  }
 },
 "nbformat": 4,
 "nbformat_minor": 2
}
