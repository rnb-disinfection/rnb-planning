{
 "cells": [
  {
   "cell_type": "code",
   "execution_count": 1,
   "metadata": {},
   "outputs": [],
   "source": [
    "import os\n",
    "os.chdir(os.path.join(os.environ[\"RNB_PLANNING_DIR\"], 'src'))"
   ]
  },
  {
   "cell_type": "markdown",
   "metadata": {},
   "source": [
    "### Make scene"
   ]
  },
  {
   "cell_type": "code",
   "execution_count": 2,
   "metadata": {},
   "outputs": [
    {
     "name": "stdout",
     "output_type": "stream",
     "text": [
      "connection command:\n",
      "panda0: False\n",
      "Please create a subscriber to the marker\n",
      "publication OK\n",
      "published: [0, 0, 0, 0, 0, 0, 0]\n"
     ]
    }
   ],
   "source": [
    "from pkg.controller.combined_robot import *\n",
    "from pkg.project_config import *\n",
    "\n",
    "crob = CombinedRobot(robots_on_scene=[\n",
    "    RobotConfig(0, RobotType.panda, None,\n",
    "                INDY_IP)]\n",
    "              , connection_list=[False])\n",
    "from pkg.geometry.builder.scene_builder import SceneBuilder\n",
    "s_builder = SceneBuilder(None)\n",
    "# s_builder.reset_reference_coord(ref_name=\"floor\")\n",
    "# xyz_rpy_robots = s_builder.detect_items(level_mask=[DetectionLevel.ROBOT])\n",
    "xyz_rpy_robots = {\"panda0\": ((0,0,0), (0,0,0))}\n",
    "crob.update_robot_pos_dict(xyz_rpy_robots=xyz_rpy_robots)\n",
    "gscene = s_builder.create_gscene(crob)\n",
    "from pkg.planning.scene import PlanningScene\n",
    "pscene = PlanningScene(gscene, combined_robot=crob)"
   ]
  },
  {
   "cell_type": "markdown",
   "metadata": {},
   "source": [
    "## Preapare background"
   ]
  },
  {
   "cell_type": "code",
   "execution_count": 3,
   "metadata": {},
   "outputs": [
    {
     "name": "stdout",
     "output_type": "stream",
     "text": [
      "Please create a subscriber to the marker\n"
     ]
    }
   ],
   "source": [
    "from pkg.geometry.geometry import *\n",
    "from pkg.planning.constraint.constraint_actor import Gripper2Tool, PlacePlane\n",
    "\n",
    "floor = gscene.create_safe(GEOTYPE.BOX, \"floor\", \"base_link\", (3,3,0.01), (0,0,0), \n",
    "                           rpy=(0,0,0), color=(0.8,0.8,0.8,0.5), display=True, fixed=True, collision=True)\n",
    "wall = gscene.create_safe(GEOTYPE.BOX, \"wall\", \"base_link\", (3,3,0.01), (-0.3,0,0), \n",
    "                           rpy=(0,np.pi/2,0), color=(0.8,0.8,0.8,0.5), display=True, fixed=True, collision=True)\n",
    "\n",
    "gtems = s_builder.add_robot_geometries(color=(0,1,0,0.5), display=True, collision=True)\n",
    "\n",
    "gscene.create_safe(gtype=GEOTYPE.SPHERE, name=\"grip0\", link_name=\"panda0_hand\", \n",
    "                 dims=(0.01,)*3, center=(0,0,0.112), rpy=(-np.pi/2,0,0), color=(1,0,0,1), display=True, collision=False, fixed=True)\n",
    "grip0 = pscene.create_binder(bname=\"grip0\", gname=\"grip0\", _type=Gripper2Tool, point=(0,0,0), rpy=(0,0,0))"
   ]
  },
  {
   "cell_type": "code",
   "execution_count": null,
   "metadata": {},
   "outputs": [],
   "source": []
  },
  {
   "cell_type": "markdown",
   "metadata": {},
   "source": [
    "## Door knob"
   ]
  },
  {
   "cell_type": "code",
   "execution_count": 4,
   "metadata": {},
   "outputs": [],
   "source": [
    "from pkg.utils.code_scraps import *"
   ]
  },
  {
   "cell_type": "code",
   "execution_count": 5,
   "metadata": {},
   "outputs": [],
   "source": [
    "gscene.show_pose(crob.home_pose)"
   ]
  },
  {
   "cell_type": "code",
   "execution_count": 6,
   "metadata": {},
   "outputs": [],
   "source": [
    "knob = gscene.create_safe(GEOTYPE.BOX, 'knob', link_name=\"base_link\",\n",
    "                          center=(0.5,0.5,0.5), rpy=(0,-np.pi/2,0), dims=(0.02,0.02,0.02),\n",
    "                          fixed=True, collision=True, color=(1,0,0,1))"
   ]
  },
  {
   "cell_type": "code",
   "execution_count": 9,
   "metadata": {},
   "outputs": [],
   "source": [
    "lever_s, knob_s = add_lever(pscene, knob)"
   ]
  },
  {
   "cell_type": "code",
   "execution_count": null,
   "metadata": {},
   "outputs": [],
   "source": []
  },
  {
   "cell_type": "markdown",
   "metadata": {},
   "source": [
    "### prepare planner"
   ]
  },
  {
   "cell_type": "code",
   "execution_count": 10,
   "metadata": {},
   "outputs": [
    {
     "name": "stdout",
     "output_type": "stream",
     "text": [
      "Dash is running on http://0.0.0.0:8050/\n",
      "\n",
      " * Serving Flask app \"pkg.ui.dash_launcher\" (lazy loading)\n",
      " * Environment: production\n",
      "   WARNING: This is a development server. Do not use it in a production deployment.\n",
      "   Use a production WSGI server instead.\n",
      " * Debug mode: off\n"
     ]
    }
   ],
   "source": [
    "from pkg.planning.motion.moveit.moveit_planner import MoveitPlanner\n",
    "mplan = MoveitPlanner(pscene)\n",
    "mplan.update_gscene()\n",
    "\n",
    "from pkg.planning.task.rrt import TaskRRT\n",
    "tplan = TaskRRT(pscene)\n",
    "tplan.prepare()\n",
    "\n",
    "from pkg.planning.pipeline import PlanningPipeline\n",
    "ppline = PlanningPipeline(pscene)\n",
    "ppline.set_motion_planner(mplan)\n",
    "ppline.set_task_planner(tplan)\n",
    "\n",
    "from pkg.ui.ui_broker import *\n",
    "# start UI\n",
    "ui_broker = UIBroker.instance()\n",
    "ui_broker.initialize(ppline, s_builder)\n",
    "ui_broker.start_server()\n",
    "\n",
    "ui_broker.set_tables()"
   ]
  },
  {
   "cell_type": "code",
   "execution_count": 11,
   "metadata": {},
   "outputs": [],
   "source": [
    "from pkg.planning.filtering.grasp_filter import GraspChecker\n",
    "from pkg.planning.filtering.reach_filter import ReachChecker\n",
    "mplan.motion_filters = [GraspChecker(pscene), ReachChecker(pscene)]\n",
    "mplan.incremental_constraint_motion = True"
   ]
  },
  {
   "cell_type": "code",
   "execution_count": null,
   "metadata": {},
   "outputs": [],
   "source": []
  },
  {
   "cell_type": "markdown",
   "metadata": {},
   "source": [
    "### Plan"
   ]
  },
  {
   "cell_type": "code",
   "execution_count": 12,
   "metadata": {},
   "outputs": [
    {
     "name": "stdout",
     "output_type": "stream",
     "text": [
      "['knob', 'lever']\n",
      "('r1', 'knob')\n"
     ]
    }
   ],
   "source": [
    "gscene.show_pose(crob.home_pose)\n",
    "initial_state = pscene.initialize_state(crob.home_pose)\n",
    "print(pscene.subject_name_list)\n",
    "print(initial_state.node)"
   ]
  },
  {
   "cell_type": "code",
   "execution_count": 13,
   "metadata": {
    "scrolled": true
   },
   "outputs": [
    {
     "name": "stdout",
     "output_type": "stream",
     "text": [
      "try: 0 - ('r1', 'knob')->('r2', 'knob')\n",
      "result: 0 - ('r1', 'knob')->('r2', 'knob') = fail\n",
      "try: 0 - ('r1', 'knob')->('r2', 'knob')\n",
      "result: 0 - ('r1', 'knob')->('r2', 'knob') = fail\n",
      "try: 0 - ('r1', 'knob')->('r1', 'grip0')\n",
      "try transition motion\n",
      "transition motion tried: True\n",
      "result: 0 - ('r1', 'knob')->('r1', 'grip0') = success\n",
      "branching: 0->1 (0.14/30.0 s, steps/err: 57(100.234031677 ms)/0.000989529519831)\n",
      "======================================================================================================================================================\n",
      "try: 1 - ('r1', 'grip0')->('r2', 'grip0')\n",
      "end\n",
      "constrained motion tried: True\n",
      "result: 1 - ('r1', 'grip0')->('r2', 'grip0') = success\n",
      "branching: 1->2 (0.54/30.0 s, steps/err: 80(395.957946777 ms)/0.000101350640859)\n",
      "======================================================================================================================================================\n",
      "try: 2 - ('r2', 'grip0')->('r2', 'knob')\n",
      "Goal reached\n",
      "result: 2 - ('r2', 'grip0')->('r2', 'knob') = success\n",
      "branching: 2->3 (0.54/30.0 s, steps/err: 1(3.72886657715 ms)/0)\n",
      "======================================================================================================================================================\n",
      "++ adding return motion to acquired answer ++\n",
      "Goal reached\n",
      "try: 1 - ('r1', 'grip0')->('r2', 'grip0')\n",
      "end\n",
      "constrained motion tried: True\n",
      "result: 1 - ('r1', 'grip0')->('r2', 'grip0') = success\n",
      "branching: 1->5 (1.22/30.0 s, steps/err: 80(382.80081749 ms)/0.000101350640859)\n",
      "======================================================================================================================================================\n",
      "try: 5 - ('r2', 'grip0')->('r2', 'knob')\n",
      "Goal reached\n",
      "result: 5 - ('r2', 'grip0')->('r2', 'knob') = success\n",
      "branching: 5->6 (1.22/30.0 s, steps/err: 1(3.77988815308 ms)/0)\n",
      "======================================================================================================================================================\n",
      "++ adding return motion to acquired answer ++\n",
      "Goal reached\n",
      "=========================================================================================================\n",
      "======================= terminated 0: required answers acquired  (1.5/30.0) ===============================\n",
      "=========================================================================================================\n",
      "========================== FINISHED (1.5 / 30.0 s) ==============================]\n"
     ]
    }
   ],
   "source": [
    "goal_nodes = [('r2','knob')]\n",
    "ppline.search(initial_state, goal_nodes, max_solution_count=1,\n",
    "              verbose=True, display=False, dt_vis=0.01, \n",
    "              timeout=0.5, timeout_loop=30, \n",
    "              multiprocess=True)"
   ]
  },
  {
   "cell_type": "code",
   "execution_count": 14,
   "metadata": {},
   "outputs": [
    {
     "name": "stdout",
     "output_type": "stream",
     "text": [
      "('r1', 'knob')->('r1', 'grip0')\n",
      "('r1', 'grip0')->('r2', 'grip0')\n",
      "('r2', 'grip0')->('r2', 'knob')\n",
      "('r2', 'knob')->('r2', 'knob')\n"
     ]
    }
   ],
   "source": [
    "snode_schedule = tplan.get_best_schedule()\n",
    "ppline.play_schedule(snode_schedule)"
   ]
  },
  {
   "cell_type": "code",
   "execution_count": null,
   "metadata": {},
   "outputs": [],
   "source": []
  },
  {
   "cell_type": "markdown",
   "metadata": {},
   "source": [
    "### push back"
   ]
  },
  {
   "cell_type": "code",
   "execution_count": 15,
   "metadata": {},
   "outputs": [
    {
     "name": "stdout",
     "output_type": "stream",
     "text": [
      "['knob', 'lever']\n",
      "('r2', 'knob')\n"
     ]
    }
   ],
   "source": [
    "term_state = snode_schedule[-1].state\n",
    "gscene.show_pose(term_state.Q)\n",
    "print(pscene.subject_name_list)\n",
    "print(term_state.node)"
   ]
  },
  {
   "cell_type": "code",
   "execution_count": 22,
   "metadata": {
    "scrolled": true
   },
   "outputs": [
    {
     "name": "stdout",
     "output_type": "stream",
     "text": [
      "try: 0 - ('r2', 'knob')->('r1', 'knob')\n",
      "result: 0 - ('r2', 'knob')->('r1', 'knob') = fail\n",
      "try: 0 - ('r2', 'knob')->('r1', 'knob')\n",
      "result: 0 - ('r2', 'knob')->('r1', 'knob') = fail\n",
      "try: 0 - ('r2', 'knob')->('r1', 'knob')\n",
      "result: 0 - ('r2', 'knob')->('r1', 'knob') = fail\n",
      "try: 0 - ('r2', 'knob')->('r2', 'grip0')\n",
      "try transition motion\n",
      "transition motion tried: True\n",
      "result: 0 - ('r2', 'knob')->('r2', 'grip0') = success\n",
      "branching: 0->1 (0.2/30.0 s, steps/err: 66(155.012130737 ms)/0.00135562799192)\n",
      "======================================================================================================================================================\n",
      "try: 0 - ('r2', 'knob')->('r2', 'grip0')\n",
      "try transition motion\n",
      "transition motion tried: True\n",
      "result: 0 - ('r2', 'knob')->('r2', 'grip0') = success\n",
      "branching: 0->2 (0.3/30.0 s, steps/err: 62(95.5100059509 ms)/0.00182918461865)\n",
      "======================================================================================================================================================\n",
      "try: 1 - ('r2', 'grip0')->('r1', 'grip0')\n",
      "end\n",
      "constrained motion tried: True\n",
      "result: 1 - ('r2', 'grip0')->('r1', 'grip0') = success\n",
      "branching: 1->3 (0.66/30.0 s, steps/err: 80(365.427970886 ms)/1.81064113522e-05)\n",
      "======================================================================================================================================================\n",
      "try: 3 - ('r1', 'grip0')->('r1', 'knob')\n",
      "Goal reached\n",
      "result: 3 - ('r1', 'grip0')->('r1', 'knob') = success\n",
      "branching: 3->4 (0.67/30.0 s, steps/err: 1(3.59296798706 ms)/0)\n",
      "======================================================================================================================================================\n",
      "++ adding return motion to acquired answer ++\n",
      "Goal reached\n",
      "try: 1 - ('r2', 'grip0')->('r2', 'knob')\n",
      "result: 1 - ('r2', 'grip0')->('r2', 'knob') = fail\n",
      "try: 2 - ('r2', 'grip0')->('r1', 'grip0')\n",
      "collision\n",
      "constrained motion tried: False\n",
      "Motion Plan Failure\n",
      "result: 2 - ('r2', 'grip0')->('r1', 'grip0') = fail\n",
      "try: 0 - ('r2', 'knob')->('r2', 'grip0')\n",
      "try transition motion\n",
      "transition motion tried: True\n",
      "result: 0 - ('r2', 'knob')->('r2', 'grip0') = success\n",
      "branching: 0->6 (1.23/30.0 s, steps/err: 114(191.607952118 ms)/0.00208278869314)\n",
      "======================================================================================================================================================\n",
      "try: 1 - ('r2', 'grip0')->('r2', 'knob')\n",
      "result: 1 - ('r2', 'grip0')->('r2', 'knob') = success\n",
      "branching: 1->7 (1.24/30.0 s, steps/err: 1(3.92818450928 ms)/0)\n",
      "======================================================================================================================================================\n",
      "try: 7 - ('r2', 'knob')->('r1', 'knob')\n",
      "result: 7 - ('r2', 'knob')->('r1', 'knob') = fail\n",
      "try: 6 - ('r2', 'grip0')->('r2', 'knob')\n",
      "result: 6 - ('r2', 'grip0')->('r2', 'knob') = fail\n",
      "try: 6 - ('r2', 'grip0')->('r2', 'knob')\n",
      "result: 6 - ('r2', 'grip0')->('r2', 'knob') = success\n",
      "branching: 6->8 (1.26/30.0 s, steps/err: 1(3.64518165588 ms)/0)\n",
      "======================================================================================================================================================\n",
      "try: 8 - ('r2', 'knob')->('r1', 'knob')\n",
      "result: 8 - ('r2', 'knob')->('r1', 'knob') = fail\n",
      "try: 8 - ('r2', 'knob')->('r2', 'grip0')\n",
      "try transition motion\n",
      "transition motion tried: True\n",
      "result: 8 - ('r2', 'knob')->('r2', 'grip0') = success\n",
      "branching: 8->9 (1.31/30.0 s, steps/err: 5(38.4950637817 ms)/0.000919853526274)\n",
      "======================================================================================================================================================\n",
      "try: 6 - ('r2', 'grip0')->('r1', 'grip0')\n",
      "singular\n",
      "constrained motion tried: False\n",
      "Motion Plan Failure\n",
      "result: 6 - ('r2', 'grip0')->('r1', 'grip0') = fail\n",
      "try: 9 - ('r2', 'grip0')->('r1', 'grip0')\n",
      "end\n",
      "constrained motion tried: True\n",
      "result: 9 - ('r2', 'grip0')->('r1', 'grip0') = success\n",
      "branching: 9->10 (2.1/30.0 s, steps/err: 80(384.828090668 ms)/0.000241505305844)\n",
      "======================================================================================================================================================\n",
      "try: 10 - ('r1', 'grip0')->('r1', 'knob')\n",
      "Goal reached\n",
      "result: 10 - ('r1', 'grip0')->('r1', 'knob') = success\n",
      "branching: 10->11 (2.1/30.0 s, steps/err: 1(4.70399856567 ms)/0)\n",
      "======================================================================================================================================================\n",
      "++ adding return motion to acquired answer ++\n",
      "Goal reached\n",
      "=========================================================================================================\n",
      "======================= terminated 0: required answers acquired  (2.4/30.0) ===============================\n",
      "=========================================================================================================\n",
      "========================== FINISHED (2.4 / 30.0 s) ==============================]\n"
     ]
    }
   ],
   "source": [
    "goal_nodes = [(\"r1\",'knob')]\n",
    "ppline.search(term_state, goal_nodes, max_solution_count=1,\n",
    "              verbose=True, display=False, dt_vis=0.01, \n",
    "              timeout=0.5, timeout_loop=30, \n",
    "              multiprocess=False)"
   ]
  },
  {
   "cell_type": "code",
   "execution_count": 23,
   "metadata": {},
   "outputs": [
    {
     "name": "stdout",
     "output_type": "stream",
     "text": [
      "('r2', 'knob')->('r2', 'grip0')\n",
      "('r2', 'grip0')->('r1', 'grip0')\n",
      "('r1', 'grip0')->('r1', 'knob')\n",
      "('r1', 'knob')->('r1', 'knob')\n"
     ]
    }
   ],
   "source": [
    "snode_schedule = tplan.get_best_schedule(home_pose=crob.home_pose)\n",
    "ppline.play_schedule(snode_schedule)"
   ]
  },
  {
   "cell_type": "code",
   "execution_count": null,
   "metadata": {},
   "outputs": [],
   "source": []
  }
 ],
 "metadata": {
  "kernelspec": {
   "display_name": "Python 2",
   "language": "python",
   "name": "python2"
  },
  "language_info": {
   "codemirror_mode": {
    "name": "ipython",
    "version": 2
   },
   "file_extension": ".py",
   "mimetype": "text/x-python",
   "name": "python",
   "nbconvert_exporter": "python",
   "pygments_lexer": "ipython2",
   "version": "2.7.17"
  }
 },
 "nbformat": 4,
 "nbformat_minor": 2
}
