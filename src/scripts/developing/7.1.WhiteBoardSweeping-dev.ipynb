{
 "cells": [
  {
   "cell_type": "markdown",
   "metadata": {},
   "source": [
    "## Check List 7.1. Demo - White board sweeping\n",
    "* In this demo file, we will use two robots (Indy7, Panda) to sweep a white board, removing obstacles\n",
    "\n",
    "* You need trained model to use ReachChecker\n",
    "  - model/reach_svm/indy7.json\n",
    "  - model/reach_svm/panda.json\n",
    "  - 백업: 개인 이동식 하드디스크, 강준수"
   ]
  },
  {
   "cell_type": "markdown",
   "metadata": {},
   "source": [
    "### Prepare the task scene\n",
    "* Prepare Indy7 and panda, and install sweeping tool to indy. (Check release/Figs/7.1.WhiteBoardSweeping.jpg)\n",
    "* Prepare \"floor\", \"track\", \"box1\", \"box2\" objects as defined in pkg.detector.aruco.marker_config.py\n",
    "* The robots and \"track\" are installed on \"floor\".\n",
    "* \"box1\" and \"box2\" are on \"track\"\n",
    "<img src=\"../Figs/7.1.WhiteBoardSweeping.jpg\" width=\"80%\">"
   ]
  },
  {
   "cell_type": "code",
   "execution_count": null,
   "metadata": {},
   "outputs": [],
   "source": []
  },
  {
   "cell_type": "markdown",
   "metadata": {},
   "source": [
    "## set running directory to project source"
   ]
  },
  {
   "cell_type": "code",
   "execution_count": 1,
   "metadata": {},
   "outputs": [],
   "source": [
    "import os\n",
    "os.chdir(os.path.join(os.environ[\"RNB_PLANNING_DIR\"], 'src'))"
   ]
  },
  {
   "cell_type": "code",
   "execution_count": null,
   "metadata": {},
   "outputs": [],
   "source": []
  },
  {
   "cell_type": "markdown",
   "metadata": {},
   "source": [
    "## init combined robot config"
   ]
  },
  {
   "cell_type": "code",
   "execution_count": 2,
   "metadata": {},
   "outputs": [
    {
     "name": "stdout",
     "output_type": "stream",
     "text": [
      "connection command:\n",
      "indy0: False\n",
      "panda1: False\n"
     ]
    }
   ],
   "source": [
    "from pkg.controller.combined_robot import *\n",
    "from pkg.project_config import *\n",
    "\n",
    "crob = CombinedRobot(robots_on_scene=[\n",
    "    RobotConfig(0, RobotType.indy7, ((0.3,-0.4,0), (0,0,np.pi/2)),\n",
    "                INDY_IP),\n",
    "    RobotConfig(1, RobotType.panda, ((-0.3,-0.4,0), (0,0,np.pi/2)),\n",
    "                \"{}/{}\".format(PANDA_REPEATER_IP, PANDA_ROBOT_IP))]\n",
    "              , connection_list=[False, False])"
   ]
  },
  {
   "cell_type": "code",
   "execution_count": 3,
   "metadata": {},
   "outputs": [
    {
     "name": "stdout",
     "output_type": "stream",
     "text": [
      "Device configuration: \n",
      "\tcolor_format: 3 \n",
      "\t(0:JPG, 1:NV12, 2:YUY2, 3:BGRA32)\n",
      "\n",
      "\tcolor_resolution: 5 \n",
      "\t(0:OFF, 1:720p, 2:1080p, 3:1440p, 4:1536p, 5:2160p, 6:3072p)\n",
      "\n",
      "\tdepth_mode: 3 \n",
      "\t(0:OFF, 1:NFOV_2X2BINNED, 2:NFOV_UNBINNED,3:WFOV_2X2BINNED, 4:WFOV_UNBINNED, 5:Passive IR)\n",
      "\n",
      "\tcamera_fps: 2 \n",
      "\t(0:5 FPS, 1:15 FPS, 2:30 FPS)\n",
      "\n",
      "\tsynchronized_images_only: False \n",
      "\t(True of False). Drop images if the color and depth are not synchronized\n",
      "\n",
      "\tdepth_delay_off_color_usec: 0 ms. \n",
      "\tDelay between the color image and the depth image\n",
      "\n",
      "\twired_sync_mode: 0\n",
      "\t(0:Standalone mode, 1:Master mode, 2:Subordinate mode)\n",
      "\n",
      "\tsubordinate_delay_off_master_usec: 0 ms.\n",
      "\tThe external synchronization timing.\n",
      "\n",
      "\tdisable_streaming_indicator: False \n",
      "\t(True or False). Streaming indicator automatically turns on when the color or depth camera's are in use.\n",
      "\n",
      "\n",
      "Start streaming\n"
     ]
    },
    {
     "data": {
      "text/plain": [
       "[(array([[1.82983423e+03, 0.00000000e+00, 1.91572046e+03],\n",
       "         [0.00000000e+00, 1.82983423e+03, 1.09876086e+03],\n",
       "         [0.00000000e+00, 0.00000000e+00, 1.00000000e+00]]),\n",
       "  array([ 7.09966481e-01, -2.73409390e+00,  1.45804870e-03, -3.24774766e-04,\n",
       "          1.44911301e+00,  5.84310412e-01, -2.56374550e+00,  1.38472950e+00])),\n",
       " (array([[1.39560388e+03, 0.00000000e+00, 9.62751587e+02],\n",
       "         [0.00000000e+00, 1.39531934e+03, 5.47687012e+02],\n",
       "         [0.00000000e+00, 0.00000000e+00, 1.00000000e+00]]),\n",
       "  array([0., 0., 0., 0., 0.])),\n",
       " array([[ 0.8285118 , -0.02236306, -0.5595249 ,  0.6465496 ],\n",
       "        [ 0.17098501,  0.961585  ,  0.21475203, -0.16225061],\n",
       "        [ 0.5332282 , -0.27359498,  0.80050826,  0.09109598],\n",
       "        [ 0.        ,  0.        ,  0.        ,  1.        ]],\n",
       "       dtype=float32)]"
      ]
     },
     "execution_count": 3,
     "metadata": {},
     "output_type": "execute_result"
    }
   ],
   "source": [
    "from pkg.detector.aruco.marker_config import *\n",
    "from pkg.detector.aruco.stereo import ArucoStereo\n",
    "from pkg.detector.camera.realsense import RealSense\n",
    "from pkg.detector.camera.kinect import Kinect\n",
    "aruco_map = get_aruco_map()\n",
    "stereo = ArucoStereo(aruco_map, [Kinect(), RealSense()])\n",
    "stereo.initialize()\n",
    "stereo.calibrate()"
   ]
  },
  {
   "cell_type": "code",
   "execution_count": null,
   "metadata": {},
   "outputs": [],
   "source": []
  },
  {
   "cell_type": "markdown",
   "metadata": {},
   "source": [
    "## create scene builder"
   ]
  },
  {
   "cell_type": "code",
   "execution_count": 4,
   "metadata": {},
   "outputs": [],
   "source": [
    "from pkg.geometry.builder.scene_builder import SceneBuilder\n",
    "s_builder = SceneBuilder(stereo)\n",
    "s_builder.reset_reference_coord(ref_name=\"floor\")"
   ]
  },
  {
   "cell_type": "code",
   "execution_count": null,
   "metadata": {},
   "outputs": [],
   "source": []
  },
  {
   "cell_type": "markdown",
   "metadata": {},
   "source": [
    "## detect robot and make geometry scene"
   ]
  },
  {
   "cell_type": "code",
   "execution_count": 5,
   "metadata": {},
   "outputs": [
    {
     "name": "stderr",
     "output_type": "stream",
     "text": [
      "Unknown tag \"hardwareInterface\" in /robot[@name='custom_robots']/transmission[@name='indy0_tran0']/actuator[@name='indy0_motor0']\n",
      "Unknown tag \"hardwareInterface\" in /robot[@name='custom_robots']/transmission[@name='indy0_tran1']/actuator[@name='indy0_motor1']\n",
      "Unknown tag \"hardwareInterface\" in /robot[@name='custom_robots']/transmission[@name='indy0_tran2']/actuator[@name='indy0_motor2']\n",
      "Unknown tag \"hardwareInterface\" in /robot[@name='custom_robots']/transmission[@name='indy0_tran3']/actuator[@name='indy0_motor3']\n",
      "Unknown tag \"hardwareInterface\" in /robot[@name='custom_robots']/transmission[@name='indy0_tran4']/actuator[@name='indy0_motor4']\n",
      "Unknown tag \"hardwareInterface\" in /robot[@name='custom_robots']/transmission[@name='indy0_tran5']/actuator[@name='indy0_motor5']\n"
     ]
    },
    {
     "name": "stdout",
     "output_type": "stream",
     "text": [
      "Please create a subscriber to the marker\n",
      "publication OK\n",
      "published: [0, 0, 0, 0, 0, 0, 0, 0, 0, 0, 0, 0, 0]\n"
     ]
    }
   ],
   "source": [
    "xyz_rpy_robots = s_builder.detect_items(level_mask=[DetectionLevel.ROBOT])\n",
    "crob.update_robot_pos_dict(xyz_rpy_robots=xyz_rpy_robots)\n",
    "gscene = s_builder.create_gscene(crob)"
   ]
  },
  {
   "cell_type": "code",
   "execution_count": null,
   "metadata": {},
   "outputs": [],
   "source": []
  },
  {
   "cell_type": "markdown",
   "metadata": {},
   "source": [
    "## init planning pipeline"
   ]
  },
  {
   "cell_type": "code",
   "execution_count": 6,
   "metadata": {},
   "outputs": [
    {
     "name": "stdout",
     "output_type": "stream",
     "text": [
      "Dash is running on http://0.0.0.0:8050/\n",
      "\n",
      " * Serving Flask app \"pkg.ui.dash_launcher\" (lazy loading)\n",
      " * Environment: production\n",
      "   WARNING: This is a development server. Do not use it in a production deployment.\n"
     ]
    }
   ],
   "source": [
    "from pkg.planning.scene import PlanningScene\n",
    "pscene = PlanningScene(gscene, combined_robot=crob)\n",
    "\n",
    "from pkg.planning.pipeline import PlanningPipeline\n",
    "ppline = PlanningPipeline(pscene)\n",
    "\n",
    "from pkg.ui.ui_broker import *\n",
    "\n",
    "# start UI\n",
    "ui_broker = UIBroker.instance()\n",
    "ui_broker.initialize(ppline, s_builder)\n",
    "ui_broker.start_server()\n",
    "\n",
    "ui_broker.set_tables()"
   ]
  },
  {
   "cell_type": "markdown",
   "metadata": {},
   "source": [
    "```\n",
    "open web ui on <your ip>:8050\n",
    "click geometry items / Handles / Binders to highlight geometry on RVIZ\n",
    "other functions may be buggy.. please report\n",
    "```"
   ]
  },
  {
   "cell_type": "code",
   "execution_count": null,
   "metadata": {},
   "outputs": [],
   "source": []
  },
  {
   "cell_type": "markdown",
   "metadata": {},
   "source": [
    "## add environment"
   ]
  },
  {
   "cell_type": "code",
   "execution_count": 7,
   "metadata": {},
   "outputs": [
    {
     "name": "stdout",
     "output_type": "stream",
     "text": [
      "   Use a production WSGI server instead.\n",
      " * Debug mode: off\n",
      "Please create a subscriber to the marker\n"
     ]
    }
   ],
   "source": [
    "gtem_dict = s_builder.detect_and_register(level_mask=[DetectionLevel.ENVIRONMENT])"
   ]
  },
  {
   "cell_type": "code",
   "execution_count": 8,
   "metadata": {},
   "outputs": [],
   "source": [
    "# add cam poles\n",
    "ptems = s_builder.add_poles({\"cam0\": s_builder.ref_coord_inv[:3,3], \"cam1\":np.matmul(s_builder.ref_coord_inv, stereo.T_c12)[:3,3]},\n",
    "                            color=(0.6,0.6,0.6,0.0))"
   ]
  },
  {
   "cell_type": "code",
   "execution_count": 9,
   "metadata": {},
   "outputs": [],
   "source": [
    "gtems = s_builder.add_robot_geometries(color=(0,1,0,0.5), display=True, collision=True)"
   ]
  },
  {
   "cell_type": "code",
   "execution_count": 10,
   "metadata": {},
   "outputs": [],
   "source": [
    " gscene.NAME_DICT[\"floor\"].dims = (2,1,0.01)"
   ]
  },
  {
   "cell_type": "code",
   "execution_count": 11,
   "metadata": {},
   "outputs": [],
   "source": [
    "gscene.set_workspace_boundary( -1, 1, -0.5, 0.5, -0.1, 1.1)"
   ]
  },
  {
   "cell_type": "code",
   "execution_count": null,
   "metadata": {},
   "outputs": [],
   "source": []
  },
  {
   "cell_type": "markdown",
   "metadata": {},
   "source": [
    "## add sweep face"
   ]
  },
  {
   "cell_type": "code",
   "execution_count": 12,
   "metadata": {},
   "outputs": [],
   "source": [
    "track = s_builder.detect_and_register(item_names=[\"track\"], level_mask=[DetectionLevel.ENVIRONMENT])[\"track\"]\n",
    "track_face = gscene.copy_from(track, new_name=\"track_face\", collision=False)\n",
    "track_face.dims = (track.dims[0]-0.22, track.dims[1]-0.12, track.dims[2])\n",
    "# track.dims = (track.dims[0]-0.32, track.dims[1]-0.12, track.dims[2])"
   ]
  },
  {
   "cell_type": "code",
   "execution_count": 13,
   "metadata": {},
   "outputs": [],
   "source": [
    "gscene.update_markers_all()"
   ]
  },
  {
   "cell_type": "code",
   "execution_count": null,
   "metadata": {},
   "outputs": [],
   "source": []
  },
  {
   "cell_type": "markdown",
   "metadata": {},
   "source": [
    "## add wp"
   ]
  },
  {
   "cell_type": "code",
   "execution_count": 14,
   "metadata": {},
   "outputs": [],
   "source": [
    "TOOL_DIM = [0.06, 0.10]\n",
    "TRACK_DIM = track_face.dims\n",
    "TRACK_NUM = np.ceil(np.divide(TRACK_DIM[1]-TOOL_DIM[1], TOOL_DIM[1])).astype(np.int)+1\n",
    "TRACK_STEP = (TRACK_DIM[1]-TOOL_DIM[1])/(TRACK_NUM-1)\n",
    "WP_REF_A = -np.subtract(TRACK_DIM[:2], TOOL_DIM[:2])/2\n",
    "WP_REF_B = np.array([-WP_REF_A[0], WP_REF_A[1]])\n",
    "TRC_THIC = TRACK_DIM[2]\n",
    "track_list = []\n",
    "for i_trc in range(TRACK_NUM):\n",
    "    wp1 = gscene.create_safe(GEOTYPE.BOX, \"wp{}a\".format(i_trc+1), \"base_link\", (TOOL_DIM[0]/2,TOOL_DIM[1]/2,TRC_THIC), \n",
    "                             tuple(WP_REF_A+[0,TRACK_STEP*i_trc])+(0,),rpy=(0,0,0), \n",
    "                             color=(0.8,0.2,0.2,0.2), display=True, fixed=True, collision=False, parent=\"track_face\")\n",
    "    wp2 = gscene.create_safe(GEOTYPE.BOX, \"wp{}b\".format(i_trc+1), \"base_link\", (TOOL_DIM[0]/2,TOOL_DIM[1]/2,TRC_THIC), \n",
    "                             tuple(WP_REF_B+[0,TRACK_STEP*i_trc])+(0,),rpy=(0,0,0), \n",
    "                             color=(0.8,0.2,0.2,0.2), display=True, fixed=True, collision=False, parent=\"track_face\")\n",
    "    line = gscene.create_safe(GEOTYPE.BOX, \"trc{}\".format(i_trc+1), \"base_link\", (TRACK_DIM[0]*2, TRACK_DIM[0]*2, 1e-6), \n",
    "                               (0,WP_REF_A[1]+TRACK_STEP*i_trc,0), rpy=(np.pi/2,0,0), \n",
    "                               color=(0.8,0.2,0.2,0.2), display=False, fixed=True, collision=False, parent=\"track_face\")\n",
    "    line_vis = gscene.create_safe(GEOTYPE.BOX, \"trc{}vis\".format(i_trc+1), \"base_link\", (TRACK_DIM[0], 0.01, 1e-6), \n",
    "                               (0,WP_REF_A[1]+TRACK_STEP*i_trc,0), rpy=(np.pi/2,0,0), \n",
    "                               color=(0.8,0.2,0.2,0.2), display=True, fixed=True, collision=False, parent=\"track_face\")\n",
    "    track_list.append((wp1, wp2, line))"
   ]
  },
  {
   "cell_type": "code",
   "execution_count": 15,
   "metadata": {},
   "outputs": [],
   "source": [
    "gscene.update_markers_all()"
   ]
  },
  {
   "cell_type": "code",
   "execution_count": null,
   "metadata": {},
   "outputs": [],
   "source": []
  },
  {
   "cell_type": "markdown",
   "metadata": {},
   "source": [
    "## add indy tool"
   ]
  },
  {
   "cell_type": "code",
   "execution_count": 16,
   "metadata": {},
   "outputs": [
    {
     "data": {
      "text/plain": [
       "<pkg.geometry.geometry.GeometryItem at 0x7f985cb95190>"
      ]
     },
     "execution_count": 16,
     "metadata": {},
     "output_type": "execute_result"
    }
   ],
   "source": [
    "gscene.create_safe(gtype=GEOTYPE.CYLINDER, name=\"indy0_fts\", link_name=\"indy0_tcp\",\n",
    "                            center=(0,0,0.02), dims=(0.07,0.07, 0.04), rpy=(0,0,0), color=(0.8,0.8,0.8,1),\n",
    "                            collision=False)\n",
    "gscene.create_safe(gtype=GEOTYPE.CYLINDER, name=\"indy0_fts_col\", link_name=\"indy0_tcp\",\n",
    "                            center=(0,0,0.02), dims=(0.11,0.11, 0.04), rpy=(0,0,0), color=(0.0,0.8,0.0,0.5),\n",
    "                            collision=True)\n",
    "gscene.create_safe(gtype=GEOTYPE.CYLINDER, name=\"indy0_pole\", link_name=\"indy0_tcp\",\n",
    "                            center=(0,0,0.055), dims=(0.03,0.03, 0.030), rpy=(0,0,0), color=(0.8,0.8,0.8,1),\n",
    "                            collision=False)\n",
    "gscene.create_safe(gtype=GEOTYPE.CYLINDER, name=\"indy0_pole_col\", link_name=\"indy0_tcp\",\n",
    "                            center=(0,0,0.055), dims=(0.07,0.07, 0.030), rpy=(0,0,0), color=(0.0,0.8,0.0,0.2),\n",
    "                            collision=True)\n",
    "\n",
    "gscene.create_safe(gtype=GEOTYPE.BOX, name=\"indy0_brushbase\", link_name=\"indy0_tcp\",\n",
    "                            center=(0,0,0.0775), dims=(0.06, 0.14, 0.015), rpy=(0,0,np.pi/4), color=(0.8,0.8,0.8,1),\n",
    "                            collision=False)\n",
    "gscene.create_safe(gtype=GEOTYPE.BOX, name=\"brush_face\", link_name=\"indy0_tcp\",\n",
    "                            center=(0,0,0.095), dims=(0.05,0.13, 0.015), rpy=(0,0,np.pi/4), color=(1.0,1.0,0.94,1),\n",
    "                            collision=False)\n",
    "gscene.create_safe(gtype=GEOTYPE.BOX, name=\"brush_face_col\", link_name=\"indy0_tcp\",\n",
    "                            center=(0,0,0.080), dims=(0.08,0.18, 0.02), rpy=(0,0,np.pi/4), color=(0.0,0.8,0.0,0.5),\n",
    "                            collision=True)"
   ]
  },
  {
   "cell_type": "code",
   "execution_count": null,
   "metadata": {},
   "outputs": [],
   "source": []
  },
  {
   "cell_type": "markdown",
   "metadata": {},
   "source": [
    "## add box"
   ]
  },
  {
   "cell_type": "code",
   "execution_count": 17,
   "metadata": {},
   "outputs": [],
   "source": [
    "gtem_dict = s_builder.detect_and_register(level_mask=[DetectionLevel.MOVABLE])"
   ]
  },
  {
   "cell_type": "code",
   "execution_count": 18,
   "metadata": {},
   "outputs": [],
   "source": [
    "# give clearance from the track surface\n",
    "s_builder.give_clearance(track, gtem_dict.values())"
   ]
  },
  {
   "cell_type": "code",
   "execution_count": 19,
   "metadata": {},
   "outputs": [],
   "source": [
    "gscene.update_markers_all()"
   ]
  },
  {
   "cell_type": "code",
   "execution_count": null,
   "metadata": {},
   "outputs": [],
   "source": []
  },
  {
   "cell_type": "markdown",
   "metadata": {},
   "source": [
    "## Register binders"
   ]
  },
  {
   "cell_type": "code",
   "execution_count": 20,
   "metadata": {},
   "outputs": [],
   "source": [
    "from pkg.planning.constraint.constraint_actor import Gripper2Tool, PlacePlane, SweepFramer, FixtureSlot"
   ]
  },
  {
   "cell_type": "code",
   "execution_count": 21,
   "metadata": {},
   "outputs": [
    {
     "data": {
      "text/plain": [
       "<pkg.planning.constraint.constraint_actor.SweepFramer at 0x7f985cb71890>"
      ]
     },
     "execution_count": 21,
     "metadata": {},
     "output_type": "execute_result"
    }
   ],
   "source": [
    "gscene.create_safe(gtype=GEOTYPE.SPHERE, name=\"grip1\", link_name=\"panda1_hand\", \n",
    "                 dims=(0.01,)*3, center=(0,0,0.112), rpy=(-np.pi/2,0,0), color=(1,0,0,1), display=True, collision=False, fixed=True)\n",
    "\n",
    "pscene.create_binder(bname=\"grip1\", gname=\"grip1\", _type=Gripper2Tool, point=(0,0,0), rpy=(0,0,0))\n",
    "pscene.create_binder(bname=\"track_face\", gname=\"track_face\", _type=PlacePlane)\n",
    "pscene.create_binder(bname=\"brush_face\", gname=\"brush_face\", _type=SweepFramer, point=(0,0,0.00), \n",
    "                     rpy=(0,np.pi,0))"
   ]
  },
  {
   "cell_type": "code",
   "execution_count": null,
   "metadata": {},
   "outputs": [],
   "source": []
  },
  {
   "cell_type": "markdown",
   "metadata": {},
   "source": [
    "## add objects"
   ]
  },
  {
   "cell_type": "code",
   "execution_count": 22,
   "metadata": {},
   "outputs": [],
   "source": [
    "from pkg.planning.constraint.constraint_subject import \\\n",
    "        CustomObject, Grasp2Point, PlacePoint, SweepFrame, SweepTask, BoxObject, FixturePoint, AbstractObject"
   ]
  },
  {
   "cell_type": "code",
   "execution_count": 23,
   "metadata": {},
   "outputs": [],
   "source": [
    "box1 = pscene.create_subject(oname=\"box1\", gname=\"box1\", _type=BoxObject, hexahedral=True)\n",
    "box2 = pscene.create_subject(oname=\"box2\", gname=\"box2\", _type=BoxObject, hexahedral=True)\n",
    "# box3= pscene.create_subject(oname=\"box3\", gname=\"box3\", _type=BoxObject, hexahedral=True)"
   ]
  },
  {
   "cell_type": "code",
   "execution_count": 24,
   "metadata": {},
   "outputs": [],
   "source": [
    "from pkg.planning.constraint.constraint_common import MotionConstraint\n",
    "from pkg.planning.constraint.constraint_subject import AbstractTask\n",
    "from pkg.planning.constraint.constraint_subject import SweepLineTask"
   ]
  },
  {
   "cell_type": "code",
   "execution_count": 25,
   "metadata": {},
   "outputs": [],
   "source": [
    "for i_t, track_tem in enumerate(track_list):\n",
    "    wp1, wp2, tline = track_tem\n",
    "    sweep1 = pscene.create_subject(oname=\"sweep{}\".format(i_t+1), gname=\"track_face\", _type=SweepLineTask, \n",
    "                                 action_points_dict = {wp1.name: SweepFrame(wp1.name, wp1, [0,0,0.005], [0,0,0]),\n",
    "                                                       wp2.name: SweepFrame(wp2.name, wp2, [0,0,0.005], [0,0,0])},\n",
    "                                geometry_vertical = tline)"
   ]
  },
  {
   "cell_type": "code",
   "execution_count": null,
   "metadata": {},
   "outputs": [],
   "source": []
  },
  {
   "cell_type": "markdown",
   "metadata": {},
   "source": [
    "### planners"
   ]
  },
  {
   "cell_type": "code",
   "execution_count": 26,
   "metadata": {
    "scrolled": false
   },
   "outputs": [],
   "source": [
    "from pkg.planning.motion.moveit.moveit_planner import MoveitPlanner\n",
    "mplan = MoveitPlanner(pscene)\n",
    "mplan.update_gscene()\n",
    "from pkg.planning.task.rrt import TaskRRT\n",
    "tplan = TaskRRT(pscene)\n",
    "tplan.prepare()\n",
    "ppline.set_motion_planner(mplan)\n",
    "ppline.set_task_planner(tplan)"
   ]
  },
  {
   "cell_type": "code",
   "execution_count": null,
   "metadata": {},
   "outputs": [],
   "source": []
  },
  {
   "cell_type": "markdown",
   "metadata": {},
   "source": [
    "## motion filters"
   ]
  },
  {
   "cell_type": "code",
   "execution_count": 27,
   "metadata": {},
   "outputs": [],
   "source": [
    "from pkg.planning.filtering.grasp_filter import GraspChecker\n",
    "from pkg.planning.filtering.reach_filter import ReachChecker\n",
    "from pkg.planning.filtering.latticized_filter import LatticedChecker\n",
    "\n",
    "gcheck = GraspChecker(pscene)\n",
    "rcheck = ReachChecker(pscene)\n",
    "checkers_all = [gcheck, rcheck]\n",
    "# lcheck = LatticedChecker(pscene, gcheck)\n",
    "# checkers_all.append(lcheck)"
   ]
  },
  {
   "cell_type": "code",
   "execution_count": 28,
   "metadata": {},
   "outputs": [],
   "source": [
    "mplan.motion_filters = checkers_all"
   ]
  },
  {
   "cell_type": "code",
   "execution_count": 29,
   "metadata": {},
   "outputs": [],
   "source": [
    "gscene.show_pose(crob.home_pose)"
   ]
  },
  {
   "cell_type": "code",
   "execution_count": null,
   "metadata": {},
   "outputs": [],
   "source": []
  },
  {
   "cell_type": "markdown",
   "metadata": {},
   "source": [
    "## Set initial condition"
   ]
  },
  {
   "cell_type": "code",
   "execution_count": 30,
   "metadata": {},
   "outputs": [
    {
     "name": "stdout",
     "output_type": "stream",
     "text": [
      "('track_face', 'track_face', 0, 0, 0)\n"
     ]
    }
   ],
   "source": [
    "from pkg.planning.constraint.constraint_common \\\n",
    "            import sample_redundancy, combine_redundancy\n",
    "gtimer = GlobalTimer.instance()\n",
    "initial_state = pscene.update_state(crob.home_pose)\n",
    "print(initial_state.node)"
   ]
  },
  {
   "cell_type": "code",
   "execution_count": 31,
   "metadata": {},
   "outputs": [
    {
     "data": {
      "text/plain": [
       "['box1', 'box2', 'sweep1', 'sweep2', 'sweep3']"
      ]
     },
     "execution_count": 31,
     "metadata": {},
     "output_type": "execute_result"
    }
   ],
   "source": [
    "pscene.subject_name_list"
   ]
  },
  {
   "cell_type": "code",
   "execution_count": null,
   "metadata": {},
   "outputs": [],
   "source": []
  },
  {
   "cell_type": "markdown",
   "metadata": {},
   "source": [
    "# Node Sampler"
   ]
  },
  {
   "cell_type": "code",
   "execution_count": 32,
   "metadata": {},
   "outputs": [],
   "source": [
    "from pkg.planning.sampling.node_sampling import make_state_param_hashable, UniformNodeSampler, PenaltyNodeSampler, GrowingSampler\n",
    "\n",
    "tplan.new_node_sampler = PenaltyNodeSampler(3, 1)\n",
    "tplan.parent_node_sampler = UniformNodeSampler(3)\n",
    "# tplan.parent_snode_sampler = GrowingSampler(3)"
   ]
  },
  {
   "cell_type": "code",
   "execution_count": null,
   "metadata": {},
   "outputs": [],
   "source": []
  },
  {
   "cell_type": "markdown",
   "metadata": {},
   "source": [
    "# CustomRule"
   ]
  },
  {
   "cell_type": "code",
   "execution_count": 33,
   "metadata": {},
   "outputs": [],
   "source": [
    "from pkg.planning.task.custom_rules.sweep_entrance_control import SweepEntranceControlRule\n",
    "tplan.custom_rule = SweepEntranceControlRule(pscene)"
   ]
  },
  {
   "cell_type": "code",
   "execution_count": null,
   "metadata": {},
   "outputs": [],
   "source": []
  },
  {
   "cell_type": "markdown",
   "metadata": {},
   "source": [
    "## Plan"
   ]
  },
  {
   "cell_type": "code",
   "execution_count": 34,
   "metadata": {
    "scrolled": true
   },
   "outputs": [
    {
     "name": "stdout",
     "output_type": "stream",
     "text": [
      "Use 20/20 agents\n",
      "try: 0 - ('track_face', 'track_face', 0, 0, 0)->('track_face', 'track_face', 1, 0, 0)\n",
      "try: 0 - ('track_face', 'track_face', 0, 0, 0)->('grip1', 'track_face', 0, 0, 0)\n",
      "try transition motion\n",
      "try: 0 - ('track_face', 'track_face', 0, 0, 0)->('grip1', 'track_face', 0, 0, 0)\n",
      "result: 0 - ('track_face', 'track_face', 0, 0, 0)->('grip1', 'track_face', 0, 0, 0) = fail\n",
      "try: 0 - ('track_face', 'track_face', 0, 0, 0)->('track_face', 'grip1', 0, 0, 0)\n",
      "result: 0 - ('track_face', 'track_face', 0, 0, 0)->('grip1', 'track_face', 0, 0, 0) = fail\n",
      "try: 0 - ('track_face', 'track_face', 0, 0, 0)->('track_face', 'grip1', 0, 0, 0)\n",
      "transition motion tried: True\n",
      "result: 0 - ('track_face', 'track_face', 0, 0, 0)->('track_face', 'grip1', 0, 0, 0) = fail\n",
      "try: 0 - ('track_face', 'track_face', 0, 0, 0)->('grip1', 'track_face', 0, 0, 0)\n",
      "result: 0 - ('track_face', 'track_face', 0, 0, 0)->('track_face', 'track_face', 1, 0, 0) = success\n",
      "result: 0 - ('track_face', 'track_face', 0, 0, 0)->('track_face', 'grip1', 0, 0, 0) = fail\n",
      "branching: 0->1 (0.19/200.0 s, steps/err: 14(105.999946594 ms)/0.00186977643978)\n",
      "try: 1 - ('track_face', 'track_face', 1, 0, 0)->('track_face', 'track_face', 2, 0, 0)\n",
      "======================================================================================================================================================\n",
      "result: 0 - ('track_face', 'track_face', 0, 0, 0)->('grip1', 'track_face', 0, 0, 0) = fail\n",
      "try constrained motion\n",
      "try: 0 - ('track_face', 'track_face', 0, 0, 0)->('grip1', 'track_face', 0, 0, 0)\n",
      "try: 0 - ('track_face', 'track_face', 0, 0, 0)->('track_face', 'grip1', 0, 0, 0)\n",
      "result: 0 - ('track_face', 'track_face', 0, 0, 0)->('track_face', 'grip1', 0, 0, 0) = fail\n",
      "result: 0 - ('track_face', 'track_face', 0, 0, 0)->('grip1', 'track_face', 0, 0, 0) = fail\n",
      "try: 0 - ('track_face', 'track_face', 0, 0, 0)->('grip1', 'track_face', 0, 0, 0)\n",
      "constrained motion tried: True\n",
      "try: 0 - ('track_face', 'track_face', 0, 0, 0)->('track_face', 'grip1', 0, 0, 0)\n",
      "try: 0 - ('track_face', 'track_face', 0, 0, 0)->('track_face', 'grip1', 0, 0, 0)\n",
      "result: 0 - ('track_face', 'track_face', 0, 0, 0)->('grip1', 'track_face', 0, 0, 0) = fail\n",
      "result: 1 - ('track_face', 'track_face', 1, 0, 0)->('track_face', 'track_face', 2, 0, 0) = success\n",
      "branching: 1->2 (0.32/200.0 s, steps/err: 64(92.031955719 ms)/0.00164899452242)\n",
      "try: 0 - ('track_face', 'track_face', 0, 0, 0)->('grip1', 'track_face', 0, 0, 0)\n",
      "======================================================================================================================================================\n",
      "result: 0 - ('track_face', 'track_face', 0, 0, 0)->('grip1', 'track_face', 0, 0, 0) = fail\n",
      "result: 0 - ('track_face', 'track_face', 0, 0, 0)->('track_face', 'grip1', 0, 0, 0) = fail\n",
      "result: 0 - ('track_face', 'track_face', 0, 0, 0)->('track_face', 'grip1', 0, 0, 0) = fail\n",
      "try: 2 - ('track_face', 'track_face', 2, 0, 0)->('track_face', 'track_face', 2, 0, 0)\n",
      "try: 2 - ('track_face', 'track_face', 2, 0, 0)->('track_face', 'track_face', 2, 1, 0)\n",
      "try: 2 - ('track_face', 'track_face', 2, 0, 0)->('track_face', 'grip1', 2, 0, 0)\n",
      "try joint motion\n",
      "result: 2 - ('track_face', 'track_face', 2, 0, 0)->('track_face', 'grip1', 2, 0, 0) = fail\n",
      "try transition motion\n",
      "try: 2 - ('track_face', 'track_face', 2, 0, 0)->('track_face', 'grip1', 2, 0, 0)\n",
      "try: 2 - ('track_face', 'track_face', 2, 0, 0)->('grip1', 'track_face', 2, 0, 0)\n",
      "result: 2 - ('track_face', 'track_face', 2, 0, 0)->('track_face', 'grip1', 2, 0, 0) = fail\n",
      "try: 2 - ('track_face', 'track_face', 2, 0, 0)->('track_face', 'grip1', 2, 0, 0)\n",
      "joint motion tried: True\n",
      "try: 2 - ('track_face', 'track_face', 2, 0, 0)->('grip1', 'track_face', 2, 0, 0)\n",
      "result: 2 - ('track_face', 'track_face', 2, 0, 0)->('grip1', 'track_face', 2, 0, 0) = fail\n",
      "try: 2 - ('track_face', 'track_face', 2, 0, 0)->('grip1', 'track_face', 2, 0, 0)\n",
      "result: 2 - ('track_face', 'track_face', 2, 0, 0)->('track_face', 'grip1', 2, 0, 0) = fail\n",
      "transition motion tried: True\n",
      "try: 3 - ('track_face', 'track_face', 2, 0, 0)->('track_face', 'track_face', 2, 1, 0)\n",
      "result: 2 - ('track_face', 'track_face', 2, 0, 0)->('track_face', 'track_face', 2, 0, 0) = success\n",
      "branching: 2->4 (0.52/200.0 s, steps/err: 7(87.9609584808 ms)/0.00127201284588)\n",
      "result: 2 - ('track_face', 'track_face', 2, 0, 0)->('track_face', 'track_face', 2, 1, 0) = success\n",
      "try: 4 - ('track_face', 'track_face', 2, 1, 0)->('track_face', 'track_face', 2, 2, 0)\n",
      "result: 2 - ('track_face', 'track_face', 2, 0, 0)->('grip1', 'track_face', 2, 0, 0) = fail\n",
      "branching: 2->3 (0.52/200.0 s, steps/err: 9(73.1089115143 ms)/5.98209690178e-16)\n",
      "try: 3 - ('track_face', 'track_face', 2, 0, 0)->('track_face', 'grip1', 2, 0, 0)\n",
      "try transition motion\n",
      "try transition motion\n",
      "======================================================================================================================================================\n",
      "======================================================================================================================================================\n",
      "try constrained motion\n",
      "try: 2 - ('track_face', 'track_face', 2, 0, 0)->('track_face', 'grip1', 2, 0, 0)\n",
      "try: 2 - ('track_face', 'track_face', 2, 0, 0)->('grip1', 'track_face', 2, 0, 0)\n",
      "result: 3 - ('track_face', 'track_face', 2, 0, 0)->('track_face', 'grip1', 2, 0, 0) = fail\n",
      "try: 2 - ('track_face', 'track_face', 2, 0, 0)->('grip1', 'track_face', 2, 0, 0)\n",
      "result: 2 - ('track_face', 'track_face', 2, 0, 0)->('track_face', 'grip1', 2, 0, 0) = fail\n",
      "result: 2 - ('track_face', 'track_face', 2, 0, 0)->('grip1', 'track_face', 2, 0, 0) = fail\n",
      "result: 2 - ('track_face', 'track_face', 2, 0, 0)->('grip1', 'track_face', 2, 0, 0) = fail\n",
      "try: 2 - ('track_face', 'track_face', 2, 0, 0)->('track_face', 'grip1', 2, 0, 0)\n",
      "try: 3 - ('track_face', 'track_face', 2, 0, 0)->('grip1', 'track_face', 2, 0, 0)\n",
      "try: 3 - ('track_face', 'track_face', 2, 0, 0)->('grip1', 'track_face', 2, 0, 0)\n",
      "try: 2 - ('track_face', 'track_face', 2, 0, 0)->('track_face', 'grip1', 2, 0, 0)\n",
      "try: 2 - ('track_face', 'track_face', 2, 0, 0)->('track_face', 'grip1', 2, 0, 0)\n",
      "result: 2 - ('track_face', 'track_face', 2, 0, 0)->('track_face', 'grip1', 2, 0, 0) = fail\n",
      "result: 2 - ('track_face', 'track_face', 2, 0, 0)->('track_face', 'grip1', 2, 0, 0) = fail\n",
      "result: 3 - ('track_face', 'track_face', 2, 0, 0)->('grip1', 'track_face', 2, 0, 0) = fail\n",
      "try: 3 - ('track_face', 'track_face', 2, 0, 0)->('grip1', 'track_face', 2, 0, 0)\n",
      "result: 3 - ('track_face', 'track_face', 2, 0, 0)->('grip1', 'track_face', 2, 0, 0) = fail\n",
      "result: 3 - ('track_face', 'track_face', 2, 0, 0)->('grip1', 'track_face', 2, 0, 0) = fail\n",
      "result: 2 - ('track_face', 'track_face', 2, 0, 0)->('track_face', 'grip1', 2, 0, 0) = fail\n",
      "try: 2 - ('track_face', 'track_face', 2, 0, 0)->('track_face', 'grip1', 2, 0, 0)\n",
      "try: 3 - ('track_face', 'track_face', 2, 0, 0)->('grip1', 'track_face', 2, 0, 0)\n",
      "try: 3 - ('track_face', 'track_face', 2, 0, 0)->('track_face', 'grip1', 2, 0, 0)\n",
      "try: 3 - ('track_face', 'track_face', 2, 0, 0)->('grip1', 'track_face', 2, 0, 0)\n",
      "result: 3 - ('track_face', 'track_face', 2, 0, 0)->('grip1', 'track_face', 2, 0, 0) = fail\n",
      "try: 3 - ('track_face', 'track_face', 2, 0, 0)->('grip1', 'track_face', 2, 0, 0)\n",
      "try: 2 - ('track_face', 'track_face', 2, 0, 0)->('track_face', 'grip1', 2, 0, 0)\n",
      "constrained motion tried: True\n",
      "result: 3 - ('track_face', 'track_face', 2, 0, 0)->('track_face', 'grip1', 2, 0, 0) = fail\n",
      "try: 3 - ('track_face', 'track_face', 2, 0, 0)->('track_face', 'grip1', 2, 0, 0)\n",
      "try transition motion\n",
      "try: 3 - ('track_face', 'track_face', 2, 0, 0)->('grip1', 'track_face', 2, 0, 0)\n",
      "result: 3 - ('track_face', 'track_face', 2, 0, 0)->('grip1', 'track_face', 2, 0, 0) = fail\n",
      "result: 2 - ('track_face', 'track_face', 2, 0, 0)->('track_face', 'grip1', 2, 0, 0) = fail\n",
      "result: 2 - ('track_face', 'track_face', 2, 0, 0)->('track_face', 'grip1', 2, 0, 0) = fail\n",
      "try: 2 - ('track_face', 'track_face', 2, 0, 0)->('track_face', 'grip1', 2, 0, 0)\n",
      "try transition motion\n",
      "result: 4 - ('track_face', 'track_face', 2, 1, 0)->('track_face', 'track_face', 2, 2, 0) = success\n",
      "result: 3 - ('track_face', 'track_face', 2, 0, 0)->('track_face', 'grip1', 2, 0, 0) = fail\n",
      "try: 5 - ('track_face', 'track_face', 2, 2, 0)->('track_face', 'track_face', 2, 2, 0)\n"
     ]
    },
    {
     "name": "stdout",
     "output_type": "stream",
     "text": [
      "try: 5 - ('track_face', 'track_face', 2, 2, 0)->('track_face', 'track_face', 2, 2, 1)\n",
      "result: 2 - ('track_face', 'track_face', 2, 0, 0)->('track_face', 'grip1', 2, 0, 0) = fail\n",
      "transition motion tried: True\n",
      "try: 5 - ('track_face', 'track_face', 2, 2, 0)->('track_face', 'grip1', 2, 2, 0)\n",
      "result: 2 - ('track_face', 'track_face', 2, 0, 0)->('grip1', 'track_face', 2, 0, 0) = success\n",
      "branching: 4->5 (0.73/200.0 s, steps/err: 65(200.850009918 ms)/0.00184707470921)\n",
      "try joint motion\n",
      "======================================================================================================================================================\n",
      "try: 6 - ('grip1', 'track_face', 2, 0, 0)->('grip1', 'track_face', 2, 0, 0)\n",
      "branching: 2->6 (0.76/200.0 s, steps/err: 27(276.412010193 ms)/0.00126896021561)\n",
      "try: 5 - ('track_face', 'track_face', 2, 2, 0)->('grip1', 'track_face', 2, 2, 0)\n",
      "try joint motion\n",
      "======================================================================================================================================================\n",
      "try transition motion\n",
      "result: 5 - ('track_face', 'track_face', 2, 2, 0)->('track_face', 'grip1', 2, 2, 0) = fail\n",
      "try: 6 - ('grip1', 'track_face', 2, 0, 0)->('grip1', 'track_face', 2, 1, 0)\n",
      "result: 5 - ('track_face', 'track_face', 2, 2, 0)->('grip1', 'track_face', 2, 2, 0) = fail\n",
      "try: 5 - ('track_face', 'track_face', 2, 2, 0)->('grip1', 'track_face', 2, 2, 0)\n",
      "try transition motion\n",
      "try: 6 - ('grip1', 'track_face', 2, 0, 0)->('track_face', 'track_face', 2, 0, 0)\n",
      "result: 5 - ('track_face', 'track_face', 2, 2, 0)->('grip1', 'track_face', 2, 2, 0) = fail\n",
      "result: 6 - ('grip1', 'track_face', 2, 0, 0)->('track_face', 'track_face', 2, 0, 0) = fail\n",
      "try: 6 - ('grip1', 'track_face', 2, 0, 0)->('track_face', 'track_face', 2, 0, 0)\n",
      "try: 5 - ('track_face', 'track_face', 2, 2, 0)->('track_face', 'grip1', 2, 2, 0)\n",
      "result: 5 - ('track_face', 'track_face', 2, 2, 0)->('track_face', 'grip1', 2, 2, 0) = fail\n",
      "try transition motion\n",
      "try: 5 - ('track_face', 'track_face', 2, 2, 0)->('track_face', 'grip1', 2, 2, 0)\n",
      "joint motion tried: True\n",
      "joint motion tried: True\n",
      "result: 5 - ('track_face', 'track_face', 2, 2, 0)->('track_face', 'track_face', 2, 2, 0) = success\n",
      "result: 5 - ('track_face', 'track_face', 2, 2, 0)->('track_face', 'grip1', 2, 2, 0) = fail\n",
      "branching: 5->7 (0.86/200.0 s, steps/err: 10(112.315177917 ms)/6.10033847432e-16)\n",
      "======================================================================================================================================================\n",
      "result: 6 - ('grip1', 'track_face', 2, 0, 0)->('grip1', 'track_face', 2, 0, 0) = success\n",
      "transition motion tried: True\n",
      "try: 8 - ('grip1', 'track_face', 2, 0, 0)->('grip1', 'track_face', 2, 1, 0)\n",
      "branching: 6->8 (0.87/200.0 s, steps/err: 23(82.1778774261 ms)/1.17725859677e-15)\n",
      "try: 7 - ('track_face', 'track_face', 2, 2, 0)->('track_face', 'track_face', 2, 2, 1)\n",
      "result: 3 - ('track_face', 'track_face', 2, 0, 0)->('grip1', 'track_face', 2, 0, 0) = success\n",
      "======================================================================================================================================================\n",
      "branching: 3->9 (0.88/200.0 s, steps/err: 31(157.073974609 ms)/0.00156329615921)\n",
      "try transition motion\n",
      "try: 9 - ('grip1', 'track_face', 2, 0, 0)->('grip1', 'track_face', 2, 0, 0)\n",
      "try joint motion\n",
      "======================================================================================================================================================\n",
      "try transition motion\n",
      "try: 9 - ('grip1', 'track_face', 2, 0, 0)->('grip1', 'track_face', 2, 1, 0)\n",
      "transition motion tried: True\n",
      "transition motion tried: True\n",
      "try transition motion\n",
      "result: 6 - ('grip1', 'track_face', 2, 0, 0)->('grip1', 'track_face', 2, 1, 0) = success\n",
      "transition motion tried: True\n",
      "branching: 6->10 (0.94/200.0 s, steps/err: 11(132.740020752 ms)/0.00179097500045)\n",
      "result: 8 - ('grip1', 'track_face', 2, 0, 0)->('grip1', 'track_face', 2, 1, 0) = success\n",
      "branching: 8->12 (0.94/200.0 s, steps/err: 7(67.7418708801 ms)/0.00172644954587)\n",
      "======================================================================================================================================================\n",
      "======================================================================================================================================================\n",
      "result: 5 - ('track_face', 'track_face', 2, 2, 0)->('track_face', 'track_face', 2, 2, 1) = success\n",
      "try: 11 - ('track_face', 'track_face', 2, 2, 1)->('track_face', 'track_face', 2, 2, 2)\n",
      "try: 10 - ('grip1', 'track_face', 2, 1, 0)->('grip1', 'track_face', 2, 2, 0)\n",
      "try: 12 - ('grip1', 'track_face', 2, 1, 0)->('grip1', 'track_face', 2, 2, 0)\n",
      "branching: 5->11 (0.95/200.0 s, steps/err: 56(162.976026535 ms)/0.00162475454112)\n",
      "transition motion tried: True\n",
      "joint motion tried: True\n",
      "transition motion tried: True\n",
      "======================================================================================================================================================\n",
      "try: 13 - ('grip1', 'track_face', 2, 0, 0)->('grip1', 'track_face', 2, 1, 0)\n",
      "result: 3 - ('track_face', 'track_face', 2, 0, 0)->('grip1', 'track_face', 2, 0, 0) = success\n",
      "result: 9 - ('grip1', 'track_face', 2, 0, 0)->('grip1', 'track_face', 2, 0, 0) = success\n",
      "result: 9 - ('grip1', 'track_face', 2, 0, 0)->('grip1', 'track_face', 2, 1, 0) = success\n",
      "branching: 3->14 (0.99/200.0 s, steps/err: 40(307.611942291 ms)/0.00120199489737)\n",
      "======================================================================================================================================================\n",
      "try constrained motion\n",
      "branching: 9->13 (1.0/200.0 s, steps/err: 31(75.2460956573 ms)/1.2147855151e-15)\n",
      "result: 11 - ('track_face', 'track_face', 2, 2, 1)->('track_face', 'track_face', 2, 2, 2) = fail\n",
      "result: 10 - ('grip1', 'track_face', 2, 1, 0)->('grip1', 'track_face', 2, 2, 0) = fail\n",
      "======================================================================================================================================================\n",
      "try: 14 - ('grip1', 'track_face', 2, 0, 0)->('grip1', 'track_face', 2, 0, 0)\n",
      "try transition motion\n",
      "branching: 9->15 (1.0/200.0 s, steps/err: 13(69.9479579926 ms)/0.00104116949584)\n",
      "try: 14 - ('grip1', 'track_face', 2, 0, 0)->('grip1', 'track_face', 2, 1, 0)\n",
      "======================================================================================================================================================\n",
      "try joint motion\n",
      "try: 15 - ('grip1', 'track_face', 2, 1, 0)->('grip1', 'track_face', 2, 2, 0)\n",
      "try: 13 - ('grip1', 'track_face', 2, 0, 0)->('track_face', 'track_face', 2, 0, 0)\n",
      "try: 7 - ('track_face', 'track_face', 2, 2, 0)->('track_face', 'grip1', 2, 2, 0)\n",
      "result: 14 - ('grip1', 'track_face', 2, 0, 0)->('grip1', 'track_face', 2, 1, 0) = fail\n",
      "result: 7 - ('track_face', 'track_face', 2, 2, 0)->('track_face', 'grip1', 2, 2, 0) = fail\n",
      "result: 15 - ('grip1', 'track_face', 2, 1, 0)->('grip1', 'track_face', 2, 2, 0) = fail\n",
      "result: 13 - ('grip1', 'track_face', 2, 0, 0)->('track_face', 'track_face', 2, 0, 0) = fail\n",
      "try: 5 - ('track_face', 'track_face', 2, 2, 0)->('track_face', 'grip1', 2, 2, 0)\n",
      "try: 13 - ('grip1', 'track_face', 2, 0, 0)->('track_face', 'track_face', 2, 0, 0)\n",
      "try: 9 - ('grip1', 'track_face', 2, 0, 0)->('track_face', 'track_face', 2, 0, 0)\n",
      "try: 7 - ('track_face', 'track_face', 2, 2, 0)->('track_face', 'grip1', 2, 2, 0)\n",
      "try transition motion\n",
      "result: 13 - ('grip1', 'track_face', 2, 0, 0)->('track_face', 'track_face', 2, 0, 0) = fail\n",
      "result: 7 - ('track_face', 'track_face', 2, 2, 0)->('track_face', 'grip1', 2, 2, 0) = fail\n",
      "try: 6 - ('grip1', 'track_face', 2, 0, 0)->('track_face', 'track_face', 2, 0, 0)\n",
      "try: 5 - ('track_face', 'track_face', 2, 2, 0)->('track_face', 'grip1', 2, 2, 0)\n",
      "joint motion tried: True\n",
      "result: 5 - ('track_face', 'track_face', 2, 2, 0)->('track_face', 'grip1', 2, 2, 0) = fail\n",
      "try: 16 - ('grip1', 'track_face', 2, 0, 0)->('track_face', 'track_face', 2, 0, 0)\n",
      "result: 14 - ('grip1', 'track_face', 2, 0, 0)->('grip1', 'track_face', 2, 0, 0) = success\n",
      "result: 16 - ('grip1', 'track_face', 2, 0, 0)->('track_face', 'track_face', 2, 0, 0) = fail\n",
      "transition motion tried: True\n",
      "branching: 14->16 (1.15/200.0 s, steps/err: 39(94.59400177 ms)/7.39650305868e-16)\n"
     ]
    },
    {
     "name": "stdout",
     "output_type": "stream",
     "text": [
      "result: 5 - ('track_face', 'track_face', 2, 2, 0)->('track_face', 'grip1', 2, 2, 0) = fail\n",
      "result: 6 - ('grip1', 'track_face', 2, 0, 0)->('track_face', 'track_face', 2, 0, 0) = fail\n",
      "try: 16 - ('grip1', 'track_face', 2, 0, 0)->('grip1', 'track_face', 2, 1, 0)\n",
      "======================================================================================================================================================\n",
      "try: 17 - ('grip1', 'track_face', 2, 1, 0)->('grip1', 'track_face', 2, 2, 0)\n",
      "try: 5 - ('track_face', 'track_face', 2, 2, 0)->('track_face', 'grip1', 2, 2, 0)\n",
      "result: 13 - ('grip1', 'track_face', 2, 0, 0)->('grip1', 'track_face', 2, 1, 0) = success\n",
      "try: 6 - ('grip1', 'track_face', 2, 0, 0)->('track_face', 'track_face', 2, 0, 0)\n",
      "branching: 13->17 (1.18/200.0 s, steps/err: 13(178.546190262 ms)/0.00165758031546)\n",
      "try transition motion\n",
      "======================================================================================================================================================\n",
      "try: 5 - ('track_face', 'track_face', 2, 2, 0)->('track_face', 'grip1', 2, 2, 0)\n",
      "result: 6 - ('grip1', 'track_face', 2, 0, 0)->('track_face', 'track_face', 2, 0, 0) = fail\n",
      "result: 5 - ('track_face', 'track_face', 2, 2, 0)->('track_face', 'grip1', 2, 2, 0) = fail\n",
      "try: 13 - ('grip1', 'track_face', 2, 0, 0)->('track_face', 'track_face', 2, 0, 0)\n",
      "try constrained motion\n",
      "result: 5 - ('track_face', 'track_face', 2, 2, 0)->('track_face', 'grip1', 2, 2, 0) = fail\n",
      "result: 13 - ('grip1', 'track_face', 2, 0, 0)->('track_face', 'track_face', 2, 0, 0) = fail\n",
      "try: 6 - ('grip1', 'track_face', 2, 0, 0)->('track_face', 'track_face', 2, 0, 0)\n",
      "try: 5 - ('track_face', 'track_face', 2, 2, 0)->('track_face', 'grip1', 2, 2, 0)\n",
      "try: 5 - ('track_face', 'track_face', 2, 2, 0)->('track_face', 'grip1', 2, 2, 0)\n",
      "result: 5 - ('track_face', 'track_face', 2, 2, 0)->('track_face', 'grip1', 2, 2, 0) = fail\n",
      "result: 6 - ('grip1', 'track_face', 2, 0, 0)->('track_face', 'track_face', 2, 0, 0) = fail\n",
      "try: 16 - ('grip1', 'track_face', 2, 0, 0)->('track_face', 'track_face', 2, 0, 0)\n",
      "try: 16 - ('grip1', 'track_face', 2, 0, 0)->('track_face', 'track_face', 2, 0, 0)\n",
      "result: 5 - ('track_face', 'track_face', 2, 2, 0)->('track_face', 'grip1', 2, 2, 0) = fail\n",
      "try: 14 - ('grip1', 'track_face', 2, 0, 0)->('track_face', 'track_face', 2, 0, 0)\n",
      "try: 5 - ('track_face', 'track_face', 2, 2, 0)->('track_face', 'grip1', 2, 2, 0)\n",
      "result: 16 - ('grip1', 'track_face', 2, 0, 0)->('track_face', 'track_face', 2, 0, 0) = fail\n",
      "transition motion tried: True\n",
      "result: 16 - ('grip1', 'track_face', 2, 0, 0)->('track_face', 'track_face', 2, 0, 0) = fail\n",
      "result: 14 - ('grip1', 'track_face', 2, 0, 0)->('track_face', 'track_face', 2, 0, 0) = fail\n",
      "try: 5 - ('track_face', 'track_face', 2, 2, 0)->('track_face', 'grip1', 2, 2, 0)\n",
      "result: 9 - ('grip1', 'track_face', 2, 0, 0)->('track_face', 'track_face', 2, 0, 0) = success\n",
      "try: 14 - ('grip1', 'track_face', 2, 0, 0)->('track_face', 'track_face', 2, 0, 0)\n",
      "result: 5 - ('track_face', 'track_face', 2, 2, 0)->('track_face', 'grip1', 2, 2, 0) = fail\n",
      "try: 18 - ('track_face', 'track_face', 2, 0, 0)->('track_face', 'track_face', 2, 0, 0)\n",
      "branching: 9->18 (1.3/200.0 s, steps/err: 41(183.989048004 ms)/0.00122347228562)\n",
      "result: 5 - ('track_face', 'track_face', 2, 2, 0)->('track_face', 'grip1', 2, 2, 0) = fail\n",
      "try joint motion\n",
      "result: 14 - ('grip1', 'track_face', 2, 0, 0)->('track_face', 'track_face', 2, 0, 0) = fail\n",
      "try: 2 - ('track_face', 'track_face', 2, 0, 0)->('track_face', 'grip1', 2, 0, 0)\n",
      "======================================================================================================================================================\n",
      "try: 3 - ('track_face', 'track_face', 2, 0, 0)->('grip1', 'track_face', 2, 0, 0)\n",
      "try: 18 - ('track_face', 'track_face', 2, 0, 0)->('track_face', 'track_face', 2, 1, 0)\n",
      "result: 2 - ('track_face', 'track_face', 2, 0, 0)->('track_face', 'grip1', 2, 0, 0) = fail\n",
      "try: 7 - ('track_face', 'track_face', 2, 2, 0)->('track_face', 'grip1', 2, 2, 0)\n",
      "try transition motion\n",
      "result: 7 - ('track_face', 'track_face', 2, 2, 0)->('track_face', 'grip1', 2, 2, 0) = fail\n",
      "try: 3 - ('track_face', 'track_face', 2, 0, 0)->('track_face', 'grip1', 2, 0, 0)\n",
      "constrained motion tried: True\n",
      "try: 18 - ('track_face', 'track_face', 2, 0, 0)->('track_face', 'grip1', 2, 0, 0)\n",
      "try transition motion\n",
      "result: 3 - ('track_face', 'track_face', 2, 0, 0)->('track_face', 'grip1', 2, 0, 0) = fail\n",
      "result: 12 - ('grip1', 'track_face', 2, 1, 0)->('grip1', 'track_face', 2, 2, 0) = success\n",
      "try: 7 - ('track_face', 'track_face', 2, 2, 0)->('track_face', 'grip1', 2, 2, 0)\n",
      "try transition motion\n",
      "try: 19 - ('grip1', 'track_face', 2, 2, 0)->('grip1', 'track_face', 2, 2, 1)\n",
      "branching: 12->19 (1.44/200.0 s, steps/err: 48(437.377929688 ms)/0.00138121382088)\n",
      "result: 7 - ('track_face', 'track_face', 2, 2, 0)->('track_face', 'grip1', 2, 2, 0) = fail\n",
      "======================================================================================================================================================\n",
      "try: 19 - ('grip1', 'track_face', 2, 2, 0)->('grip1', 'track_face', 2, 2, 0)\n",
      "try: 19 - ('grip1', 'track_face', 2, 2, 0)->('track_face', 'track_face', 2, 2, 0)\n",
      "try joint motion\n",
      "try: 19 - ('grip1', 'track_face', 2, 2, 0)->('track_face', 'track_face', 2, 2, 0)\n",
      "joint motion tried: True\n",
      "try: 19 - ('grip1', 'track_face', 2, 2, 0)->('track_face', 'track_face', 2, 2, 0)\n",
      "try transition motion\n",
      "result: 18 - ('track_face', 'track_face', 2, 0, 0)->('track_face', 'track_face', 2, 0, 0) = success\n",
      "result: 19 - ('grip1', 'track_face', 2, 2, 0)->('track_face', 'track_face', 2, 2, 0) = fail\n",
      "transition motion tried: True\n",
      "try: 20 - ('track_face', 'track_face', 2, 0, 0)->('track_face', 'track_face', 2, 1, 0)\n",
      "result: 19 - ('grip1', 'track_face', 2, 2, 0)->('track_face', 'track_face', 2, 2, 0) = fail\n",
      "branching: 18->20 (1.5/200.0 s, steps/err: 35(153.393030167 ms)/5.55142387966e-16)\n",
      "try: 19 - ('grip1', 'track_face', 2, 2, 0)->('track_face', 'track_face', 2, 2, 0)\n",
      "try: 19 - ('grip1', 'track_face', 2, 2, 0)->('track_face', 'track_face', 2, 2, 0)\n",
      "try: 19 - ('grip1', 'track_face', 2, 2, 0)->('track_face', 'track_face', 2, 2, 0)\n",
      "result: 19 - ('grip1', 'track_face', 2, 2, 0)->('track_face', 'track_face', 2, 2, 0) = fail\n",
      "try: 19 - ('grip1', 'track_face', 2, 2, 0)->('track_face', 'track_face', 2, 2, 0)\n",
      "result: 19 - ('grip1', 'track_face', 2, 2, 0)->('track_face', 'track_face', 2, 2, 0) = fail\n",
      "result: 3 - ('track_face', 'track_face', 2, 0, 0)->('grip1', 'track_face', 2, 0, 0) = success\n",
      "======================================================================================================================================================\n",
      "try transition motion\n",
      "try transition motion\n",
      "result: 19 - ('grip1', 'track_face', 2, 2, 0)->('track_face', 'track_face', 2, 2, 0) = fail\n",
      "try: 21 - ('grip1', 'track_face', 2, 0, 0)->('grip1', 'track_face', 2, 1, 0)\n",
      "branching: 3->21 (1.54/200.0 s, steps/err: 15(170.356988907 ms)/0.0020687716742)\n",
      "try: 21 - ('grip1', 'track_face', 2, 0, 0)->('grip1', 'track_face', 2, 0, 0)\n",
      "try transition motion\n",
      "try: 19 - ('grip1', 'track_face', 2, 2, 0)->('track_face', 'track_face', 2, 2, 0)\n",
      "======================================================================================================================================================\n",
      "transition motion tried: True\n",
      "try transition motion\n",
      "joint motion tried: True\n",
      "result: 19 - ('grip1', 'track_face', 2, 2, 0)->('track_face', 'track_face', 2, 2, 0) = fail\n",
      "try joint motion\n",
      "try: 19 - ('grip1', 'track_face', 2, 2, 0)->('track_face', 'track_face', 2, 2, 0)\n",
      "result: 19 - ('grip1', 'track_face', 2, 2, 0)->('grip1', 'track_face', 2, 2, 0) = success\n",
      "transition motion tried: True\n",
      "try: 22 - ('grip1', 'track_face', 2, 2, 0)->('track_face', 'track_face', 2, 2, 0)\n",
      "transition motion tried: True\n",
      "result: 18 - ('track_face', 'track_face', 2, 0, 0)->('track_face', 'grip1', 2, 0, 0) = success\n",
      "branching: 19->22 (1.61/200.0 s, steps/err: 10(132.152080536 ms)/7.91194020742e-16)\n",
      "======================================================================================================================================================\n",
      "try transition motion\n",
      "try: 22 - ('grip1', 'track_face', 2, 2, 0)->('grip1', 'track_face', 2, 2, 1)\n",
      "result: 22 - ('grip1', 'track_face', 2, 2, 0)->('track_face', 'track_face', 2, 2, 0) = fail\n"
     ]
    },
    {
     "name": "stdout",
     "output_type": "stream",
     "text": [
      "branching: 18->23 (1.67/200.0 s, steps/err: 13(188.241958618 ms)/0.000719687367211)\n",
      "result: 6 - ('grip1', 'track_face', 2, 0, 0)->('track_face', 'track_face', 2, 0, 0) = success\n",
      "try transition motion\n",
      "try: 23 - ('track_face', 'grip1', 2, 0, 0)->('track_face', 'grip1', 2, 1, 0)\n",
      "result: 19 - ('grip1', 'track_face', 2, 2, 0)->('grip1', 'track_face', 2, 2, 1) = success\n",
      "branching: 19->24 (1.7/200.0 s, steps/err: 9(185.828924179 ms)/0.00182413898756)\n",
      "======================================================================================================================================================\n",
      "try: 23 - ('track_face', 'grip1', 2, 0, 0)->('track_face', 'grip1', 2, 0, 0)\n",
      "======================================================================================================================================================\n",
      "try: 24 - ('grip1', 'track_face', 2, 2, 1)->('grip1', 'track_face', 2, 2, 2)\n",
      "branching: 6->25 (1.7/200.0 s, steps/err: 64(849.401950836 ms)/0.00140890300503)\n",
      "======================================================================================================================================================\n",
      "try: 22 - ('grip1', 'track_face', 2, 2, 0)->('track_face', 'track_face', 2, 2, 0)\n",
      "try joint motion\n",
      "try: 22 - ('grip1', 'track_face', 2, 2, 0)->('track_face', 'track_face', 2, 2, 0)\n",
      "try: 25 - ('track_face', 'track_face', 2, 0, 0)->('track_face', 'track_face', 2, 1, 0)\n",
      "try: 22 - ('grip1', 'track_face', 2, 2, 0)->('track_face', 'track_face', 2, 2, 0)\n",
      "try: 25 - ('track_face', 'track_face', 2, 0, 0)->('track_face', 'track_face', 2, 0, 0)\n",
      "joint motion tried: True\n",
      "result: 21 - ('grip1', 'track_face', 2, 0, 0)->('grip1', 'track_face', 2, 0, 0) = success\n",
      "branching: 21->26 (1.75/200.0 s, steps/err: 15(173.550128937 ms)/1.0676163976e-15)\n",
      "result: 22 - ('grip1', 'track_face', 2, 2, 0)->('track_face', 'track_face', 2, 2, 0) = fail\n",
      "result: 24 - ('grip1', 'track_face', 2, 2, 1)->('grip1', 'track_face', 2, 2, 2) = fail\n",
      "try joint motion\n",
      "======================================================================================================================================================\n",
      "try: 26 - ('grip1', 'track_face', 2, 0, 0)->('grip1', 'track_face', 2, 1, 0)\n",
      "try: 19 - ('grip1', 'track_face', 2, 2, 0)->('track_face', 'track_face', 2, 2, 0)\n",
      "try: 19 - ('grip1', 'track_face', 2, 2, 0)->('track_face', 'track_face', 2, 2, 0)\n",
      "result: 22 - ('grip1', 'track_face', 2, 2, 0)->('track_face', 'track_face', 2, 2, 0) = fail\n",
      "result: 22 - ('grip1', 'track_face', 2, 2, 0)->('track_face', 'track_face', 2, 2, 0) = fail\n",
      "try transition motion\n",
      "result: 19 - ('grip1', 'track_face', 2, 2, 0)->('track_face', 'track_face', 2, 2, 0) = fail\n",
      "try: 5 - ('track_face', 'track_face', 2, 2, 0)->('track_face', 'grip1', 2, 2, 0)\n",
      "try transition motion\n",
      "result: 25 - ('track_face', 'track_face', 2, 0, 0)->('track_face', 'track_face', 2, 1, 0) = fail\n",
      "try: 22 - ('grip1', 'track_face', 2, 2, 0)->('track_face', 'track_face', 2, 2, 0)\n",
      "try transition motion\n",
      "result: 5 - ('track_face', 'track_face', 2, 2, 0)->('track_face', 'grip1', 2, 2, 0) = fail\n",
      "try: 7 - ('track_face', 'track_face', 2, 2, 0)->('track_face', 'grip1', 2, 2, 0)\n",
      "try: 3 - ('track_face', 'track_face', 2, 0, 0)->('track_face', 'grip1', 2, 0, 0)\n",
      "try: 3 - ('track_face', 'track_face', 2, 0, 0)->('grip1', 'track_face', 2, 0, 0)\n",
      "result: 7 - ('track_face', 'track_face', 2, 2, 0)->('track_face', 'grip1', 2, 2, 0) = fail\n",
      "transition motion tried: True\n",
      "try: 7 - ('track_face', 'track_face', 2, 2, 0)->('track_face', 'grip1', 2, 2, 0)\n",
      "result: 3 - ('track_face', 'track_face', 2, 0, 0)->('track_face', 'grip1', 2, 0, 0) = fail\n",
      "try: 27 - ('track_face', 'track_face', 2, 2, 0)->('track_face', 'track_face', 2, 2, 0)\n",
      "result: 3 - ('track_face', 'track_face', 2, 0, 0)->('grip1', 'track_face', 2, 0, 0) = fail\n",
      "try: 27 - ('track_face', 'track_face', 2, 2, 0)->('track_face', 'track_face', 2, 2, 1)\n",
      "result: 22 - ('grip1', 'track_face', 2, 2, 0)->('track_face', 'track_face', 2, 2, 0) = fail\n",
      "result: 7 - ('track_face', 'track_face', 2, 2, 0)->('track_face', 'grip1', 2, 2, 0) = fail\n",
      "result: 19 - ('grip1', 'track_face', 2, 2, 0)->('track_face', 'track_face', 2, 2, 0) = success\n",
      "try: 5 - ('track_face', 'track_face', 2, 2, 0)->('grip1', 'track_face', 2, 2, 0)\n",
      "try: 27 - ('track_face', 'track_face', 2, 2, 0)->('grip1', 'track_face', 2, 2, 0)\n",
      "joint motion tried: True\n",
      "result: 27 - ('track_face', 'track_face', 2, 2, 0)->('track_face', 'track_face', 2, 2, 1) = fail\n",
      "transition motion tried: True\n",
      "result: 23 - ('track_face', 'grip1', 2, 0, 0)->('track_face', 'grip1', 2, 0, 0) = success\n",
      "branching: 19->27 (1.94/200.0 s, steps/err: 37(319.303035736 ms)/0.00113571606072)\n",
      "branching: 23->28 (1.96/200.0 s, steps/err: 27(236.11497879 ms)/9.90874862266e-16)\n",
      "result: 19 - ('grip1', 'track_face', 2, 2, 0)->('track_face', 'track_face', 2, 2, 0) = success\n",
      "======================================================================================================================================================\n",
      "branching: 19->29 (1.96/200.0 s, steps/err: 29(435.111999512 ms)/0.00130966441314)\n",
      "try: 28 - ('track_face', 'grip1', 2, 0, 0)->('track_face', 'grip1', 2, 1, 0)\n",
      "try joint motion\n",
      "======================================================================================================================================================\n",
      "try: 29 - ('track_face', 'track_face', 2, 2, 0)->('track_face', 'track_face', 2, 2, 0)\n",
      "try transition motion\n",
      "try joint motion\n",
      "result: 5 - ('track_face', 'track_face', 2, 2, 0)->('grip1', 'track_face', 2, 2, 0) = fail\n",
      "======================================================================================================================================================\n",
      "result: 27 - ('track_face', 'track_face', 2, 2, 0)->('grip1', 'track_face', 2, 2, 0) = fail\n",
      "try: 7 - ('track_face', 'track_face', 2, 2, 0)->('grip1', 'track_face', 2, 2, 0)\n",
      "transition motion tried: True\n",
      "try: 29 - ('track_face', 'track_face', 2, 2, 0)->('track_face', 'track_face', 2, 2, 1)\n",
      "try: 5 - ('track_face', 'track_face', 2, 2, 0)->('grip1', 'track_face', 2, 2, 0)\n",
      "try: 5 - ('track_face', 'track_face', 2, 2, 0)->('grip1', 'track_face', 2, 2, 0)\n",
      "transition motion tried: True\n",
      "result: 19 - ('grip1', 'track_face', 2, 2, 0)->('track_face', 'track_face', 2, 2, 0) = success\n",
      "branching: 19->30 (2.03/200.0 s, steps/err: 37(403.534889221 ms)/0.00148519748294)\n",
      "result: 5 - ('track_face', 'track_face', 2, 2, 0)->('grip1', 'track_face', 2, 2, 0) = fail\n",
      "result: 29 - ('track_face', 'track_face', 2, 2, 0)->('track_face', 'track_face', 2, 2, 1) = fail\n",
      "result: 26 - ('grip1', 'track_face', 2, 0, 0)->('grip1', 'track_face', 2, 1, 0) = success\n",
      "======================================================================================================================================================\n",
      "try: 30 - ('track_face', 'track_face', 2, 2, 0)->('track_face', 'track_face', 2, 2, 0)\n",
      "branching: 26->31 (2.05/200.0 s, steps/err: 13(258.619070053 ms)/0.0021497579838)\n",
      "result: 5 - ('track_face', 'track_face', 2, 2, 0)->('grip1', 'track_face', 2, 2, 0) = fail\n",
      "try: 31 - ('grip1', 'track_face', 2, 1, 0)->('grip1', 'track_face', 2, 2, 0)\n",
      "transition motion tried: True\n",
      "result: 7 - ('track_face', 'track_face', 2, 2, 0)->('grip1', 'track_face', 2, 2, 0) = fail\n",
      "try: 30 - ('track_face', 'track_face', 2, 2, 0)->('track_face', 'track_face', 2, 2, 1)\n",
      "try: 27 - ('track_face', 'track_face', 2, 2, 0)->('grip1', 'track_face', 2, 2, 0)\n",
      "======================================================================================================================================================\n",
      "result: 23 - ('track_face', 'grip1', 2, 0, 0)->('track_face', 'grip1', 2, 1, 0) = success\n",
      "try joint motion\n",
      "try: 7 - ('track_face', 'track_face', 2, 2, 0)->('grip1', 'track_face', 2, 2, 0)\n",
      "result: 30 - ('track_face', 'track_face', 2, 2, 0)->('track_face', 'track_face', 2, 2, 1) = fail\n",
      "result: 27 - ('track_face', 'track_face', 2, 2, 0)->('grip1', 'track_face', 2, 2, 0) = fail\n",
      "try: 32 - ('track_face', 'grip1', 2, 1, 0)->('track_face', 'grip1', 2, 2, 0)\n",
      "branching: 23->32 (2.09/200.0 s, steps/err: 13(361.397027969 ms)/0.00142701887785)\n",
      "try: 27 - ('track_face', 'track_face', 2, 2, 0)->('grip1', 'track_face', 2, 2, 0)\n",
      "try: 30 - ('track_face', 'track_face', 2, 2, 0)->('grip1', 'track_face', 2, 2, 0)\n"
     ]
    },
    {
     "name": "stdout",
     "output_type": "stream",
     "text": [
      "======================================================================================================================================================\n",
      "try: 30 - ('track_face', 'track_face', 2, 2, 0)->('grip1', 'track_face', 2, 2, 0)\n",
      "result: 27 - ('track_face', 'track_face', 2, 2, 0)->('grip1', 'track_face', 2, 2, 0) = fail\n",
      "result: 7 - ('track_face', 'track_face', 2, 2, 0)->('grip1', 'track_face', 2, 2, 0) = fail\n",
      "result: 30 - ('track_face', 'track_face', 2, 2, 0)->('grip1', 'track_face', 2, 2, 0) = fail\n",
      "try transition motion\n",
      "try: 27 - ('track_face', 'track_face', 2, 2, 0)->('grip1', 'track_face', 2, 2, 0)\n",
      "try constrained motion\n",
      "try: 29 - ('track_face', 'track_face', 2, 2, 0)->('grip1', 'track_face', 2, 2, 0)\n",
      "result: 27 - ('track_face', 'track_face', 2, 2, 0)->('grip1', 'track_face', 2, 2, 0) = fail\n",
      "try: 27 - ('track_face', 'track_face', 2, 2, 0)->('grip1', 'track_face', 2, 2, 0)\n",
      "result: 32 - ('track_face', 'grip1', 2, 1, 0)->('track_face', 'grip1', 2, 2, 0) = fail\n",
      "try: 30 - ('track_face', 'track_face', 2, 2, 0)->('grip1', 'track_face', 2, 2, 0)\n",
      "result: 29 - ('track_face', 'track_face', 2, 2, 0)->('grip1', 'track_face', 2, 2, 0) = fail\n",
      "try: 29 - ('track_face', 'track_face', 2, 2, 0)->('grip1', 'track_face', 2, 2, 0)\n",
      "try: 7 - ('track_face', 'track_face', 2, 2, 0)->('grip1', 'track_face', 2, 2, 0)\n",
      "result: 27 - ('track_face', 'track_face', 2, 2, 0)->('grip1', 'track_face', 2, 2, 0) = fail\n",
      "result: 29 - ('track_face', 'track_face', 2, 2, 0)->('grip1', 'track_face', 2, 2, 0) = fail\n",
      "result: 30 - ('track_face', 'track_face', 2, 2, 0)->('grip1', 'track_face', 2, 2, 0) = fail\n",
      "result: 7 - ('track_face', 'track_face', 2, 2, 0)->('grip1', 'track_face', 2, 2, 0) = fail\n",
      "try: 19 - ('grip1', 'track_face', 2, 2, 0)->('track_face', 'track_face', 2, 2, 0)\n",
      "try: 7 - ('track_face', 'track_face', 2, 2, 0)->('grip1', 'track_face', 2, 2, 0)\n",
      "try: 29 - ('track_face', 'track_face', 2, 2, 0)->('grip1', 'track_face', 2, 2, 0)\n",
      "result: 19 - ('grip1', 'track_face', 2, 2, 0)->('track_face', 'track_face', 2, 2, 0) = fail\n",
      "try: 19 - ('grip1', 'track_face', 2, 2, 0)->('track_face', 'track_face', 2, 2, 0)\n",
      "try transition motion\n",
      "result: 7 - ('track_face', 'track_face', 2, 2, 0)->('grip1', 'track_face', 2, 2, 0) = fail\n",
      "try: 22 - ('grip1', 'track_face', 2, 2, 0)->('track_face', 'track_face', 2, 2, 0)\n",
      "result: 19 - ('grip1', 'track_face', 2, 2, 0)->('track_face', 'track_face', 2, 2, 0) = fail\n",
      "try: 27 - ('track_face', 'track_face', 2, 2, 0)->('grip1', 'track_face', 2, 2, 0)\n",
      "try: 22 - ('grip1', 'track_face', 2, 2, 0)->('track_face', 'track_face', 2, 2, 0)\n",
      "try transition motion\n",
      "joint motion tried: True\n",
      "result: 22 - ('grip1', 'track_face', 2, 2, 0)->('track_face', 'track_face', 2, 2, 0) = fail\n",
      "joint motion tried: True\n",
      "result: 27 - ('track_face', 'track_face', 2, 2, 0)->('grip1', 'track_face', 2, 2, 0) = fail\n",
      "result: 29 - ('track_face', 'track_face', 2, 2, 0)->('track_face', 'track_face', 2, 2, 0) = success\n",
      "try: 33 - ('track_face', 'track_face', 2, 2, 0)->('track_face', 'track_face', 2, 2, 1)\n",
      "try: 34 - ('track_face', 'track_face', 2, 2, 0)->('track_face', 'track_face', 2, 2, 1)\n",
      "result: 27 - ('track_face', 'track_face', 2, 2, 0)->('track_face', 'track_face', 2, 2, 0) = success\n",
      "branching: 29->33 (2.35/200.0 s, steps/err: 32(344.362974167 ms)/8.98921104581e-16)\n",
      "======================================================================================================================================================\n",
      "branching: 27->34 (2.36/200.0 s, steps/err: 36(388.4100914 ms)/6.74188135162e-16)\n",
      "try transition motion\n",
      "try transition motion\n",
      "======================================================================================================================================================\n",
      "try: 29 - ('track_face', 'track_face', 2, 2, 0)->('track_face', 'grip1', 2, 2, 0)\n",
      "try: 29 - ('track_face', 'track_face', 2, 2, 0)->('track_face', 'grip1', 2, 2, 0)\n",
      "transition motion tried: True\n",
      "result: 29 - ('track_face', 'track_face', 2, 2, 0)->('track_face', 'grip1', 2, 2, 0) = fail\n",
      "try: 35 - ('track_face', 'track_face', 2, 2, 0)->('track_face', 'track_face', 2, 2, 0)\n",
      "result: 19 - ('grip1', 'track_face', 2, 2, 0)->('track_face', 'track_face', 2, 2, 0) = success\n",
      "result: 29 - ('track_face', 'track_face', 2, 2, 0)->('track_face', 'grip1', 2, 2, 0) = fail\n",
      "branching: 19->35 (2.46/200.0 s, steps/err: 43(650.017023087 ms)/0.00180765165305)\n",
      "try: 35 - ('track_face', 'track_face', 2, 2, 0)->('track_face', 'track_face', 2, 2, 1)\n",
      "try joint motion\n",
      "transition motion tried: True\n",
      "======================================================================================================================================================\n",
      "transition motion tried: True\n",
      "try: 30 - ('track_face', 'track_face', 2, 2, 0)->('track_face', 'grip1', 2, 2, 0)\n",
      "transition motion tried: True\n",
      "result: 22 - ('grip1', 'track_face', 2, 2, 0)->('track_face', 'track_face', 2, 2, 0) = success\n",
      "result: 34 - ('track_face', 'track_face', 2, 2, 0)->('track_face', 'track_face', 2, 2, 1) = success\n",
      "result: 33 - ('track_face', 'track_face', 2, 2, 0)->('track_face', 'track_face', 2, 2, 1) = success\n",
      "branching: 22->36 (2.52/200.0 s, steps/err: 30(194.370031357 ms)/0.00153697910027)\n",
      "result: 35 - ('track_face', 'track_face', 2, 2, 0)->('track_face', 'track_face', 2, 2, 1) = fail\n",
      "result: 30 - ('track_face', 'track_face', 2, 2, 0)->('track_face', 'grip1', 2, 2, 0) = fail\n",
      "======================================================================================================================================================\n",
      "try: 36 - ('track_face', 'track_face', 2, 2, 0)->('track_face', 'track_face', 2, 2, 0)\n",
      "branching: 33->37 (2.54/200.0 s, steps/err: 11(151.312828064 ms)/0.00212286481385)\n",
      "branching: 34->38 (2.54/200.0 s, steps/err: 13(144.541025162 ms)/0.00152347340553)\n",
      "try joint motion\n",
      "try: 36 - ('track_face', 'track_face', 2, 2, 0)->('track_face', 'track_face', 2, 2, 1)\n",
      "joint motion tried: True\n",
      "======================================================================================================================================================\n",
      "======================================================================================================================================================\n",
      "try: 37 - ('track_face', 'track_face', 2, 2, 1)->('track_face', 'track_face', 2, 2, 2)\n",
      "result: 30 - ('track_face', 'track_face', 2, 2, 0)->('track_face', 'track_face', 2, 2, 0) = success\n",
      "result: 36 - ('track_face', 'track_face', 2, 2, 0)->('track_face', 'track_face', 2, 2, 1) = fail\n",
      "try: 38 - ('track_face', 'track_face', 2, 2, 1)->('track_face', 'track_face', 2, 2, 2)\n",
      "try: 39 - ('track_face', 'track_face', 2, 2, 0)->('track_face', 'track_face', 2, 2, 1)\n",
      "try: 33 - ('track_face', 'track_face', 2, 2, 0)->('track_face', 'grip1', 2, 2, 0)\n",
      "branching: 30->39 (2.62/200.0 s, steps/err: 50(504.374027252 ms)/9.87908424051e-16)\n",
      "try transition motion\n",
      "result: 38 - ('track_face', 'track_face', 2, 2, 1)->('track_face', 'track_face', 2, 2, 2) = fail\n",
      "result: 33 - ('track_face', 'track_face', 2, 2, 0)->('track_face', 'grip1', 2, 2, 0) = fail\n",
      "try: 34 - ('track_face', 'track_face', 2, 2, 0)->('grip1', 'track_face', 2, 2, 0)\n",
      "======================================================================================================================================================\n",
      "result: 37 - ('track_face', 'track_face', 2, 2, 1)->('track_face', 'track_face', 2, 2, 2) = fail\n",
      "try: 7 - ('track_face', 'track_face', 2, 2, 0)->('track_face', 'grip1', 2, 2, 0)\n",
      "try: 35 - ('track_face', 'track_face', 2, 2, 0)->('track_face', 'grip1', 2, 2, 0)\n",
      "try transition motion\n",
      "result: 7 - ('track_face', 'track_face', 2, 2, 0)->('track_face', 'grip1', 2, 2, 0) = fail\n",
      "try: 36 - ('track_face', 'track_face', 2, 2, 0)->('grip1', 'track_face', 2, 2, 0)\n",
      "transition motion tried: True\n",
      "try transition motion\n",
      "try: 22 - ('grip1', 'track_face', 2, 2, 0)->('track_face', 'track_face', 2, 2, 0)\n",
      "result: 39 - ('track_face', 'track_face', 2, 2, 0)->('track_face', 'track_face', 2, 2, 1) = success\n",
      "try transition motion\n",
      "branching: 39->40 (2.75/200.0 s, steps/err: 19(125.632047653 ms)/0.00196854667063)\n",
      "======================================================================================================================================================\n",
      "try: 40 - ('track_face', 'track_face', 2, 2, 1)->('track_face', 'track_face', 2, 2, 2)\n"
     ]
    },
    {
     "name": "stdout",
     "output_type": "stream",
     "text": [
      "try transition motion\n",
      "joint motion tried: True\n",
      "constrained motion tried: True\n",
      "result: 40 - ('track_face', 'track_face', 2, 2, 1)->('track_face', 'track_face', 2, 2, 2) = fail\n",
      "try: 41 - ('track_face', 'track_face', 2, 2, 0)->('track_face', 'track_face', 2, 2, 1)\n",
      "result: 36 - ('track_face', 'track_face', 2, 2, 0)->('track_face', 'track_face', 2, 2, 0) = success\n",
      "branching: 36->41 (2.86/200.0 s, steps/err: 30(279.500007629 ms)/1.25932600861e-15)\n",
      "result: 17 - ('grip1', 'track_face', 2, 1, 0)->('grip1', 'track_face', 2, 2, 0) = success\n",
      "branching: 17->42 (2.87/200.0 s, steps/err: 78(1669.91591454 ms)/0.00155012692671)\n",
      "try transition motion\n",
      "======================================================================================================================================================\n",
      "======================================================================================================================================================\n",
      "try: 42 - ('grip1', 'track_face', 2, 2, 0)->('grip1', 'track_face', 2, 2, 0)\n",
      "transition motion tried: True\n",
      "try: 42 - ('grip1', 'track_face', 2, 2, 0)->('grip1', 'track_face', 2, 2, 1)\n",
      "try joint motion\n",
      "result: 36 - ('track_face', 'track_face', 2, 2, 0)->('grip1', 'track_face', 2, 2, 0) = success\n",
      "transition motion tried: True\n",
      "branching: 36->43 (2.96/200.0 s, steps/err: 27(221.086978912 ms)/0.00165505992053)\n",
      "======================================================================================================================================================\n",
      "try transition motion\n",
      "transition motion tried: True\n",
      "transition motion tried: True\n",
      "try: 43 - ('grip1', 'track_face', 2, 2, 0)->('grip1', 'track_face', 2, 2, 0)\n",
      "result: 22 - ('grip1', 'track_face', 2, 2, 0)->('track_face', 'track_face', 2, 2, 0) = success\n",
      "branching: 22->44 (3.02/200.0 s, steps/err: 33(252.942085266 ms)/0.00156364871178)\n",
      "result: 41 - ('track_face', 'track_face', 2, 2, 0)->('track_face', 'track_face', 2, 2, 1) = success\n",
      "branching: 41->45 (3.04/200.0 s, steps/err: 12(144.18888092 ms)/0.00102007982852)\n",
      "try joint motion\n",
      "======================================================================================================================================================\n",
      "result: 29 - ('track_face', 'track_face', 2, 2, 0)->('grip1', 'track_face', 2, 2, 0) = success\n",
      "try: 43 - ('grip1', 'track_face', 2, 2, 0)->('grip1', 'track_face', 2, 2, 1)\n",
      "======================================================================================================================================================\n",
      "try: 44 - ('track_face', 'track_face', 2, 2, 0)->('track_face', 'track_face', 2, 2, 0)\n",
      "branching: 29->46 (3.06/200.0 s, steps/err: 45(795.059919357 ms)/0.00182035584491)\n",
      "joint motion tried: True\n",
      "result: 42 - ('grip1', 'track_face', 2, 2, 0)->('grip1', 'track_face', 2, 2, 0) = success\n",
      "======================================================================================================================================================\n",
      "try joint motion\n",
      "try: 44 - ('track_face', 'track_face', 2, 2, 0)->('track_face', 'track_face', 2, 2, 1)\n",
      "branching: 42->47 (3.1/200.0 s, steps/err: 10(156.457901001 ms)/3.54866648693e-16)\n",
      "result: 43 - ('grip1', 'track_face', 2, 2, 0)->('grip1', 'track_face', 2, 2, 1) = fail\n",
      "transition motion tried: True\n",
      "======================================================================================================================================================\n",
      "try: 45 - ('track_face', 'track_face', 2, 2, 1)->('track_face', 'track_face', 2, 2, 2)\n",
      "joint motion tried: True\n",
      "result: 44 - ('track_face', 'track_face', 2, 2, 0)->('track_face', 'track_face', 2, 2, 1) = fail\n",
      "result: 42 - ('grip1', 'track_face', 2, 2, 0)->('grip1', 'track_face', 2, 2, 1) = success\n",
      "try: 46 - ('grip1', 'track_face', 2, 2, 0)->('grip1', 'track_face', 2, 2, 0)\n",
      "result: 43 - ('grip1', 'track_face', 2, 2, 0)->('grip1', 'track_face', 2, 2, 0) = success\n",
      "try joint motion\n",
      "try: 46 - ('grip1', 'track_face', 2, 2, 0)->('grip1', 'track_face', 2, 2, 1)\n",
      "branching: 42->48 (3.18/200.0 s, steps/err: 32(222.751140594 ms)/0.00142978131936)\n",
      "======================================================================================================================================================\n",
      "result: 45 - ('track_face', 'track_face', 2, 2, 1)->('track_face', 'track_face', 2, 2, 2) = fail\n",
      "branching: 43->49 (3.19/200.0 s, steps/err: 28(148.345947266 ms)/5.93905902331e-16)\n",
      "result: 46 - ('grip1', 'track_face', 2, 2, 0)->('grip1', 'track_face', 2, 2, 1) = fail\n",
      "try: 47 - ('grip1', 'track_face', 2, 2, 0)->('grip1', 'track_face', 2, 2, 1)\n",
      "======================================================================================================================================================\n",
      "try: 49 - ('grip1', 'track_face', 2, 2, 0)->('grip1', 'track_face', 2, 2, 1)\n",
      "try: 48 - ('grip1', 'track_face', 2, 2, 1)->('grip1', 'track_face', 2, 2, 2)\n",
      "try transition motion\n",
      "try: 35 - ('track_face', 'track_face', 2, 2, 0)->('track_face', 'grip1', 2, 2, 0)\n",
      "joint motion tried: True\n",
      "try transition motion\n",
      "result: 35 - ('track_face', 'track_face', 2, 2, 0)->('track_face', 'grip1', 2, 2, 0) = fail\n",
      "result: 44 - ('track_face', 'track_face', 2, 2, 0)->('track_face', 'track_face', 2, 2, 0) = success\n",
      "result: 48 - ('grip1', 'track_face', 2, 2, 1)->('grip1', 'track_face', 2, 2, 2) = fail\n",
      "try: 50 - ('track_face', 'track_face', 2, 2, 0)->('track_face', 'track_face', 2, 2, 1)\n",
      "branching: 44->50 (3.29/200.0 s, steps/err: 34(176.047801971 ms)/6.75652025023e-16)\n",
      "try transition motion\n",
      "try: 49 - ('grip1', 'track_face', 2, 2, 0)->('track_face', 'track_face', 2, 2, 0)\n",
      "constrained motion tried: True\n",
      "transition motion tried: True\n",
      "======================================================================================================================================================\n",
      "result: 49 - ('grip1', 'track_face', 2, 2, 0)->('track_face', 'track_face', 2, 2, 0) = fail\n",
      "result: 47 - ('grip1', 'track_face', 2, 2, 0)->('grip1', 'track_face', 2, 2, 1) = success\n",
      "result: 31 - ('grip1', 'track_face', 2, 1, 0)->('grip1', 'track_face', 2, 2, 0) = success\n",
      "try: 7 - ('track_face', 'track_face', 2, 2, 0)->('track_face', 'grip1', 2, 2, 0)\n",
      "branching: 47->51 (3.37/200.0 s, steps/err: 12(125.133037567 ms)/0.00115205874928)\n",
      "branching: 31->52 (3.37/200.0 s, steps/err: 80(1273.79894257 ms)/0.000626817530745)\n",
      "======================================================================================================================================================\n",
      "try: 51 - ('grip1', 'track_face', 2, 2, 1)->('grip1', 'track_face', 2, 2, 2)\n",
      "result: 7 - ('track_face', 'track_face', 2, 2, 0)->('track_face', 'grip1', 2, 2, 0) = fail\n",
      "======================================================================================================================================================\n",
      "try: 52 - ('grip1', 'track_face', 2, 2, 0)->('grip1', 'track_face', 2, 2, 0)\n",
      "try: 5 - ('track_face', 'track_face', 2, 2, 0)->('track_face', 'grip1', 2, 2, 0)\n",
      "try: 52 - ('grip1', 'track_face', 2, 2, 0)->('grip1', 'track_face', 2, 2, 1)\n",
      "transition motion tried: True\n",
      "try joint motion\n",
      "result: 51 - ('grip1', 'track_face', 2, 2, 1)->('grip1', 'track_face', 2, 2, 2) = fail\n",
      "result: 50 - ('track_face', 'track_face', 2, 2, 0)->('track_face', 'track_face', 2, 2, 1) = success\n",
      "result: 5 - ('track_face', 'track_face', 2, 2, 0)->('track_face', 'grip1', 2, 2, 0) = fail\n",
      "branching: 50->53 (3.46/200.0 s, steps/err: 12(143.635988235 ms)/0.00150736127406)\n",
      "try transition motion\n",
      "try: 53 - ('track_face', 'track_face', 2, 2, 1)->('track_face', 'track_face', 2, 2, 2)\n",
      "======================================================================================================================================================\n",
      "try: 42 - ('grip1', 'track_face', 2, 2, 0)->('track_face', 'track_face', 2, 2, 0)\n",
      "try: 27 - ('track_face', 'track_face', 2, 2, 0)->('track_face', 'grip1', 2, 2, 0)\n",
      "result: 27 - ('track_face', 'track_face', 2, 2, 0)->('track_face', 'grip1', 2, 2, 0) = fail\n",
      "try transition motion\n",
      "result: 53 - ('track_face', 'track_face', 2, 2, 1)->('track_face', 'track_face', 2, 2, 2) = fail\n",
      "try: 33 - ('track_face', 'track_face', 2, 2, 0)->('track_face', 'grip1', 2, 2, 0)\n",
      "joint motion tried: True\n",
      "transition motion tried: True\n",
      "try: 42 - ('grip1', 'track_face', 2, 2, 0)->('track_face', 'track_face', 2, 2, 0)\n"
     ]
    },
    {
     "name": "stdout",
     "output_type": "stream",
     "text": [
      "joint motion tried: True\n",
      "result: 52 - ('grip1', 'track_face', 2, 2, 0)->('grip1', 'track_face', 2, 2, 0) = success\n",
      "result: 52 - ('grip1', 'track_face', 2, 2, 0)->('grip1', 'track_face', 2, 2, 1) = success\n",
      "result: 46 - ('grip1', 'track_face', 2, 2, 0)->('grip1', 'track_face', 2, 2, 0) = success\n",
      "result: 33 - ('track_face', 'track_face', 2, 2, 0)->('track_face', 'grip1', 2, 2, 0) = fail\n",
      "transition motion tried: True\n",
      "result: 42 - ('grip1', 'track_face', 2, 2, 0)->('track_face', 'track_face', 2, 2, 0) = fail\n",
      "branching: 46->56 (3.61/200.0 s, steps/err: 45(410.257101059 ms)/1.02481240145e-15)\n",
      "branching: 52->54 (3.6/200.0 s, steps/err: 10(156.371831894 ms)/8.74966753202e-16)\n",
      "======================================================================================================================================================\n",
      "======================================================================================================================================================\n",
      "try: 54 - ('grip1', 'track_face', 2, 2, 0)->('grip1', 'track_face', 2, 2, 1)\n",
      "result: 35 - ('track_face', 'track_face', 2, 2, 0)->('track_face', 'grip1', 2, 2, 0) = success\n",
      "branching: 52->55 (3.61/200.0 s, steps/err: 8(151.123046875 ms)/0.00168490615488)\n",
      "try: 56 - ('grip1', 'track_face', 2, 2, 0)->('grip1', 'track_face', 2, 2, 1)\n",
      "try: 55 - ('grip1', 'track_face', 2, 2, 1)->('grip1', 'track_face', 2, 2, 2)\n",
      "try: 57 - ('track_face', 'grip1', 2, 2, 0)->('track_face', 'grip1', 2, 2, 0)\n",
      "======================================================================================================================================================\n",
      "branching: 35->57 (3.65/200.0 s, steps/err: 96(933.187007904 ms)/0.00211547430389)\n",
      "try joint motion\n",
      "try transition motion\n",
      "try: 57 - ('track_face', 'grip1', 2, 2, 0)->('track_face', 'grip1', 2, 2, 1)\n",
      "======================================================================================================================================================\n",
      "try transition motion\n",
      "try: 57 - ('track_face', 'grip1', 2, 2, 0)->('track_face', 'track_face', 2, 2, 0)\n",
      "result: 55 - ('grip1', 'track_face', 2, 2, 1)->('grip1', 'track_face', 2, 2, 2) = fail\n",
      "try transition motion\n",
      "result: 57 - ('track_face', 'grip1', 2, 2, 0)->('track_face', 'track_face', 2, 2, 0) = fail\n",
      "try: 27 - ('track_face', 'track_face', 2, 2, 0)->('track_face', 'grip1', 2, 2, 0)\n",
      "try: 57 - ('track_face', 'grip1', 2, 2, 0)->('track_face', 'track_face', 2, 2, 0)\n",
      "result: 27 - ('track_face', 'track_face', 2, 2, 0)->('track_face', 'grip1', 2, 2, 0) = fail\n",
      "result: 57 - ('track_face', 'grip1', 2, 2, 0)->('track_face', 'track_face', 2, 2, 0) = fail\n",
      "try: 30 - ('track_face', 'track_face', 2, 2, 0)->('track_face', 'grip1', 2, 2, 0)\n",
      "transition motion tried: True\n",
      "try: 57 - ('track_face', 'grip1', 2, 2, 0)->('track_face', 'track_face', 2, 2, 0)\n",
      "transition motion tried: True\n",
      "result: 30 - ('track_face', 'track_face', 2, 2, 0)->('track_face', 'grip1', 2, 2, 0) = fail\n",
      "result: 54 - ('grip1', 'track_face', 2, 2, 0)->('grip1', 'track_face', 2, 2, 1) = success\n",
      "branching: 54->58 (3.83/200.0 s, steps/err: 12(196.443080902 ms)/0.00149870336794)\n",
      "transition motion tried: True\n",
      "result: 56 - ('grip1', 'track_face', 2, 2, 0)->('grip1', 'track_face', 2, 2, 1) = success\n",
      "try: 58 - ('grip1', 'track_face', 2, 2, 1)->('grip1', 'track_face', 2, 2, 2)\n",
      "joint motion tried: True\n",
      "result: 57 - ('track_face', 'grip1', 2, 2, 0)->('track_face', 'grip1', 2, 2, 0) = success\n",
      "branching: 56->59 (3.85/200.0 s, steps/err: 16(180.74798584 ms)/0.0019249081123)\n",
      "======================================================================================================================================================\n",
      "result: 57 - ('track_face', 'grip1', 2, 2, 0)->('track_face', 'grip1', 2, 2, 1) = success\n",
      "try: 59 - ('grip1', 'track_face', 2, 2, 1)->('grip1', 'track_face', 2, 2, 2)\n",
      "result: 57 - ('track_face', 'grip1', 2, 2, 0)->('track_face', 'track_face', 2, 2, 0) = fail\n",
      "======================================================================================================================================================\n",
      "branching: 57->61 (3.88/200.0 s, steps/err: 40(212.014913559 ms)/8.90774845448e-16)\n",
      "branching: 57->60 (3.88/200.0 s, steps/err: 19(183.973073959 ms)/0.00111224846094)\n",
      "try: 60 - ('track_face', 'grip1', 2, 2, 1)->('track_face', 'grip1', 2, 2, 2)\n",
      "======================================================================================================================================================\n",
      "try: 61 - ('track_face', 'grip1', 2, 2, 0)->('track_face', 'grip1', 2, 2, 1)\n",
      "======================================================================================================================================================\n",
      "try: 36 - ('track_face', 'track_face', 2, 2, 0)->('track_face', 'grip1', 2, 2, 0)\n",
      "try transition motion\n",
      "try: 44 - ('track_face', 'track_face', 2, 2, 0)->('track_face', 'grip1', 2, 2, 0)\n",
      "result: 58 - ('grip1', 'track_face', 2, 2, 1)->('grip1', 'track_face', 2, 2, 2) = fail\n",
      "result: 36 - ('track_face', 'track_face', 2, 2, 0)->('track_face', 'grip1', 2, 2, 0) = fail\n",
      "result: 59 - ('grip1', 'track_face', 2, 2, 1)->('grip1', 'track_face', 2, 2, 2) = fail\n",
      "try: 61 - ('track_face', 'grip1', 2, 2, 0)->('track_face', 'track_face', 2, 2, 0)\n",
      "try: 33 - ('track_face', 'track_face', 2, 2, 0)->('track_face', 'grip1', 2, 2, 0)\n",
      "result: 60 - ('track_face', 'grip1', 2, 2, 1)->('track_face', 'grip1', 2, 2, 2) = fail\n",
      "result: 44 - ('track_face', 'track_face', 2, 2, 0)->('track_face', 'grip1', 2, 2, 0) = fail\n",
      "try: 61 - ('track_face', 'grip1', 2, 2, 0)->('track_face', 'track_face', 2, 2, 0)\n",
      "result: 61 - ('track_face', 'grip1', 2, 2, 0)->('track_face', 'track_face', 2, 2, 0) = fail\n",
      "result: 33 - ('track_face', 'track_face', 2, 2, 0)->('track_face', 'grip1', 2, 2, 0) = fail\n",
      "try: 61 - ('track_face', 'grip1', 2, 2, 0)->('track_face', 'track_face', 2, 2, 0)\n",
      "try: 57 - ('track_face', 'grip1', 2, 2, 0)->('track_face', 'track_face', 2, 2, 0)\n",
      "try: 41 - ('track_face', 'track_face', 2, 2, 0)->('track_face', 'grip1', 2, 2, 0)\n",
      "try: 57 - ('track_face', 'grip1', 2, 2, 0)->('track_face', 'track_face', 2, 2, 0)\n",
      "result: 61 - ('track_face', 'grip1', 2, 2, 0)->('track_face', 'track_face', 2, 2, 0) = fail\n",
      "result: 61 - ('track_face', 'grip1', 2, 2, 0)->('track_face', 'track_face', 2, 2, 0) = fail\n",
      "result: 57 - ('track_face', 'grip1', 2, 2, 0)->('track_face', 'track_face', 2, 2, 0) = fail\n",
      "try: 57 - ('track_face', 'grip1', 2, 2, 0)->('track_face', 'track_face', 2, 2, 0)\n",
      "result: 41 - ('track_face', 'track_face', 2, 2, 0)->('track_face', 'grip1', 2, 2, 0) = fail\n",
      "result: 57 - ('track_face', 'grip1', 2, 2, 0)->('track_face', 'track_face', 2, 2, 0) = fail\n",
      "try: 34 - ('track_face', 'track_face', 2, 2, 0)->('track_face', 'grip1', 2, 2, 0)\n",
      "try: 61 - ('track_face', 'grip1', 2, 2, 0)->('track_face', 'track_face', 2, 2, 0)\n",
      "try: 30 - ('track_face', 'track_face', 2, 2, 0)->('track_face', 'grip1', 2, 2, 0)\n",
      "transition motion tried: True\n",
      "result: 61 - ('track_face', 'grip1', 2, 2, 0)->('track_face', 'grip1', 2, 2, 1) = success\n",
      "try transition motion\n",
      "try: 62 - ('track_face', 'grip1', 2, 2, 1)->('track_face', 'grip1', 2, 2, 2)\n",
      "branching: 61->62 (4.08/200.0 s, steps/err: 19(131.445884705 ms)/0.000955348711448)\n",
      "transition motion tried: True\n",
      "result: 61 - ('track_face', 'grip1', 2, 2, 0)->('track_face', 'track_face', 2, 2, 0) = fail\n",
      "result: 30 - ('track_face', 'track_face', 2, 2, 0)->('track_face', 'grip1', 2, 2, 0) = fail\n",
      "try: 63 - ('track_face', 'track_face', 2, 2, 0)->('track_face', 'track_face', 2, 2, 0)\n",
      "======================================================================================================================================================\n",
      "result: 42 - ('grip1', 'track_face', 2, 2, 0)->('track_face', 'track_face', 2, 2, 0) = success\n",
      "try: 63 - ('track_face', 'track_face', 2, 2, 0)->('track_face', 'track_face', 2, 2, 1)\n",
      "try: 36 - ('track_face', 'track_face', 2, 2, 0)->('track_face', 'grip1', 2, 2, 0)\n",
      "try transition motion\n",
      "branching: 42->63 (4.1/200.0 s, steps/err: 37(593.383789062 ms)/0.00152825596551)\n",
      "try constrained motion\n",
      "======================================================================================================================================================\n",
      "try joint motion\n",
      "try transition motion\n"
     ]
    },
    {
     "name": "stdout",
     "output_type": "stream",
     "text": [
      "result: 63 - ('track_face', 'track_face', 2, 2, 0)->('track_face', 'track_face', 2, 2, 1) = fail\n",
      "try: 36 - ('track_face', 'track_face', 2, 2, 0)->('grip1', 'track_face', 2, 2, 0)\n",
      "try: 7 - ('track_face', 'track_face', 2, 2, 0)->('grip1', 'track_face', 2, 2, 0)\n",
      "result: 36 - ('track_face', 'track_face', 2, 2, 0)->('grip1', 'track_face', 2, 2, 0) = fail\n",
      "try: 39 - ('track_face', 'track_face', 2, 2, 0)->('grip1', 'track_face', 2, 2, 0)\n",
      "result: 7 - ('track_face', 'track_face', 2, 2, 0)->('grip1', 'track_face', 2, 2, 0) = fail\n",
      "result: 39 - ('track_face', 'track_face', 2, 2, 0)->('grip1', 'track_face', 2, 2, 0) = fail\n",
      "try: 5 - ('track_face', 'track_face', 2, 2, 0)->('grip1', 'track_face', 2, 2, 0)\n",
      "try: 44 - ('track_face', 'track_face', 2, 2, 0)->('grip1', 'track_face', 2, 2, 0)\n",
      "result: 5 - ('track_face', 'track_face', 2, 2, 0)->('grip1', 'track_face', 2, 2, 0) = fail\n",
      "result: 44 - ('track_face', 'track_face', 2, 2, 0)->('grip1', 'track_face', 2, 2, 0) = fail\n",
      "try: 63 - ('track_face', 'track_face', 2, 2, 0)->('grip1', 'track_face', 2, 2, 0)\n",
      "try: 34 - ('track_face', 'track_face', 2, 2, 0)->('grip1', 'track_face', 2, 2, 0)\n",
      "transition motion tried: True\n",
      "result: 63 - ('track_face', 'track_face', 2, 2, 0)->('grip1', 'track_face', 2, 2, 0) = fail\n",
      "result: 36 - ('track_face', 'track_face', 2, 2, 0)->('track_face', 'grip1', 2, 2, 0) = success\n",
      "try: 36 - ('track_face', 'track_face', 2, 2, 0)->('grip1', 'track_face', 2, 2, 0)\n",
      "try transition motion\n",
      "branching: 36->64 (4.37/200.0 s, steps/err: 36(246.49810791 ms)/0.00182274963368)\n",
      "======================================================================================================================================================\n",
      "result: 36 - ('track_face', 'track_face', 2, 2, 0)->('grip1', 'track_face', 2, 2, 0) = fail\n",
      "try: 64 - ('track_face', 'grip1', 2, 2, 0)->('track_face', 'grip1', 2, 2, 0)\n",
      "try: 64 - ('track_face', 'grip1', 2, 2, 0)->('track_face', 'grip1', 2, 2, 1)\n",
      "transition motion tried: True\n",
      "joint motion tried: True\n",
      "try joint motion\n",
      "transition motion tried: True\n",
      "result: 63 - ('track_face', 'track_face', 2, 2, 0)->('track_face', 'track_face', 2, 2, 0) = success\n",
      "try transition motion\n",
      "constrained motion tried: True\n",
      "result: 34 - ('track_face', 'track_face', 2, 2, 0)->('track_face', 'grip1', 2, 2, 0) = success\n",
      "branching: 63->65 (4.45/200.0 s, steps/err: 36(326.570034027 ms)/1.0017856805e-15)\n",
      "result: 57 - ('track_face', 'grip1', 2, 2, 0)->('track_face', 'track_face', 2, 2, 0) = success\n",
      "result: 62 - ('track_face', 'grip1', 2, 2, 1)->('track_face', 'grip1', 2, 2, 2) = success\n",
      "branching: 57->67 (4.48/200.0 s, steps/err: 65(420.154094696 ms)/0.00193100330225)\n",
      "branching: 34->66 (4.46/200.0 s, steps/err: 34(374.413967133 ms)/0.00131817866623)\n",
      "branching: 62->68 (4.48/200.0 s, steps/err: 27(395.07818222 ms)/0.00186450602626)\n",
      "======================================================================================================================================================\n",
      "======================================================================================================================================================\n",
      "try: 66 - ('track_face', 'grip1', 2, 2, 0)->('track_face', 'grip1', 2, 2, 0)\n",
      "try: 65 - ('track_face', 'track_face', 2, 2, 0)->('track_face', 'track_face', 2, 2, 1)\n",
      "======================================================================================================================================================\n",
      "try joint motion\n",
      "joint motion tried: True\n",
      "try: 66 - ('track_face', 'grip1', 2, 2, 0)->('track_face', 'grip1', 2, 2, 1)\n",
      "======================================================================================================================================================\n",
      "try transition motion\n",
      "try: 67 - ('track_face', 'track_face', 2, 2, 0)->('track_face', 'track_face', 2, 2, 0)\n",
      "try transition motion\n",
      "result: 64 - ('track_face', 'grip1', 2, 2, 0)->('track_face', 'grip1', 2, 2, 0) = success\n",
      "try joint motion\n",
      "branching: 64->69 (4.57/200.0 s, steps/err: 35(124.991893768 ms)/8.67639707174e-16)\n",
      "======================================================================================================================================================\n",
      "joint motion tried: True\n",
      "try: 67 - ('track_face', 'track_face', 2, 2, 0)->('track_face', 'track_face', 2, 2, 1)\n",
      "transition motion tried: True\n",
      "transition motion tried: True\n",
      "transition motion tried: True\n",
      "result: 66 - ('track_face', 'grip1', 2, 2, 0)->('track_face', 'grip1', 2, 2, 1) = success\n",
      "result: 66 - ('track_face', 'grip1', 2, 2, 0)->('track_face', 'grip1', 2, 2, 0) = success\n",
      "result: 34 - ('track_face', 'track_face', 2, 2, 0)->('grip1', 'track_face', 2, 2, 0) = success\n",
      "result: 67 - ('track_face', 'track_face', 2, 2, 0)->('track_face', 'track_face', 2, 2, 1) = fail\n",
      "branching: 66->70 (4.68/200.0 s, steps/err: 33(127.647161484 ms)/9.61636740247e-16)\n",
      "branching: 34->72 (4.68/200.0 s, steps/err: 31(340.932130814 ms)/0.00162230069173)\n",
      "result: 65 - ('track_face', 'track_face', 2, 2, 0)->('track_face', 'track_face', 2, 2, 1) = success\n",
      "======================================================================================================================================================\n",
      "branching: 66->71 (4.68/200.0 s, steps/err: 16(132.636070251 ms)/0.00193598999302)\n",
      "try: 68 - ('track_face', 'grip1', 2, 2, 2)->('track_face', 'grip1', 2, 2, 2)\n",
      "======================================================================================================================================================\n",
      "======================================================================================================================================================\n",
      "branching: 65->73 (4.7/200.0 s, steps/err: 13(163.847923279 ms)/0.000802279757879)\n",
      "try: 69 - ('track_face', 'grip1', 2, 2, 0)->('track_face', 'grip1', 2, 2, 1)\n",
      "try joint motion\n",
      "try: 71 - ('track_face', 'grip1', 2, 2, 1)->('track_face', 'grip1', 2, 2, 2)\n",
      "======================================================================================================================================================\n",
      "try: 70 - ('track_face', 'grip1', 2, 2, 0)->('track_face', 'grip1', 2, 2, 1)\n",
      "try transition motion\n",
      "try transition motion\n",
      "try: 72 - ('grip1', 'track_face', 2, 2, 0)->('grip1', 'track_face', 2, 2, 0)\n",
      "try joint motion\n",
      "result: 71 - ('track_face', 'grip1', 2, 2, 1)->('track_face', 'grip1', 2, 2, 2) = fail\n",
      "try: 72 - ('grip1', 'track_face', 2, 2, 0)->('grip1', 'track_face', 2, 2, 1)\n",
      "joint motion tried: True\n",
      "joint motion tried: True\n",
      "result: 68 - ('track_face', 'grip1', 2, 2, 2)->('track_face', 'grip1', 2, 2, 2) = success\n",
      "result: 72 - ('grip1', 'track_face', 2, 2, 0)->('grip1', 'track_face', 2, 2, 1) = fail\n",
      "transition motion tried: True\n",
      "branching: 68->74 (4.85/200.0 s, steps/err: 11(116.047859192 ms)/6.77647169564e-16)\n",
      "try: 73 - ('track_face', 'track_face', 2, 2, 1)->('track_face', 'track_face', 2, 2, 2)\n",
      "result: 67 - ('track_face', 'track_face', 2, 2, 0)->('track_face', 'track_face', 2, 2, 0) = success\n",
      "======================================================================================================================================================\n",
      "result: 69 - ('track_face', 'grip1', 2, 2, 0)->('track_face', 'grip1', 2, 2, 1) = success\n",
      "transition motion tried: True\n",
      "branching: 67->75 (4.88/200.0 s, steps/err: 45(302.65712738 ms)/7.46454700205e-16)\n",
      "try: 75 - ('track_face', 'track_face', 2, 2, 0)->('track_face', 'track_face', 2, 2, 1)\n",
      "branching: 69->76 (4.89/200.0 s, steps/err: 12(139.009952545 ms)/0.0017971765099)\n",
      "result: 73 - ('track_face', 'track_face', 2, 2, 1)->('track_face', 'track_face', 2, 2, 2) = fail\n",
      "======================================================================================================================================================\n",
      "result: 70 - ('track_face', 'grip1', 2, 2, 0)->('track_face', 'grip1', 2, 2, 1) = success\n",
      "======================================================================================================================================================\n",
      "branching: 70->77 (4.94/200.0 s, steps/err: 12(171.984910965 ms)/0.00179069807802)\n",
      "try: 76 - ('track_face', 'grip1', 2, 2, 1)->('track_face', 'grip1', 2, 2, 2)\n",
      "try: 77 - ('track_face', 'grip1', 2, 2, 1)->('track_face', 'grip1', 2, 2, 2)\n",
      "try: 27 - ('track_face', 'track_face', 2, 2, 0)->('grip1', 'track_face', 2, 2, 0)\n"
     ]
    },
    {
     "name": "stdout",
     "output_type": "stream",
     "text": [
      "result: 75 - ('track_face', 'track_face', 2, 2, 0)->('track_face', 'track_face', 2, 2, 1) = fail\n",
      "======================================================================================================================================================\n",
      "try: 35 - ('track_face', 'track_face', 2, 2, 0)->('grip1', 'track_face', 2, 2, 0)\n",
      "result: 77 - ('track_face', 'grip1', 2, 2, 1)->('track_face', 'grip1', 2, 2, 2) = fail\n",
      "result: 27 - ('track_face', 'track_face', 2, 2, 0)->('grip1', 'track_face', 2, 2, 0) = fail\n",
      "try: 35 - ('track_face', 'track_face', 2, 2, 0)->('track_face', 'grip1', 2, 2, 0)\n",
      "try: 36 - ('track_face', 'track_face', 2, 2, 0)->('grip1', 'track_face', 2, 2, 0)\n",
      "try constrained motion\n",
      "try: 7 - ('track_face', 'track_face', 2, 2, 0)->('grip1', 'track_face', 2, 2, 0)\n",
      "try transition motion\n",
      "result: 36 - ('track_face', 'track_face', 2, 2, 0)->('grip1', 'track_face', 2, 2, 0) = fail\n",
      "result: 35 - ('track_face', 'track_face', 2, 2, 0)->('track_face', 'grip1', 2, 2, 0) = fail\n",
      "result: 7 - ('track_face', 'track_face', 2, 2, 0)->('grip1', 'track_face', 2, 2, 0) = fail\n",
      "joint motion tried: True\n",
      "try: 33 - ('track_face', 'track_face', 2, 2, 0)->('grip1', 'track_face', 2, 2, 0)\n",
      "try: 7 - ('track_face', 'track_face', 2, 2, 0)->('track_face', 'grip1', 2, 2, 0)\n",
      "result: 72 - ('grip1', 'track_face', 2, 2, 0)->('grip1', 'track_face', 2, 2, 0) = success\n",
      "try: 78 - ('grip1', 'track_face', 2, 2, 0)->('grip1', 'track_face', 2, 2, 1)\n",
      "branching: 72->78 (5.08/200.0 s, steps/err: 36(300.781011581 ms)/1.00490001778e-15)\n",
      "======================================================================================================================================================\n",
      "result: 7 - ('track_face', 'track_face', 2, 2, 0)->('track_face', 'grip1', 2, 2, 0) = fail\n",
      "result: 33 - ('track_face', 'track_face', 2, 2, 0)->('grip1', 'track_face', 2, 2, 0) = fail\n",
      "constrained motion tried: True\n",
      "try: 66 - ('track_face', 'grip1', 2, 2, 0)->('track_face', 'track_face', 2, 2, 0)\n",
      "try: 33 - ('track_face', 'track_face', 2, 2, 0)->('grip1', 'track_face', 2, 2, 0)\n",
      "result: 76 - ('track_face', 'grip1', 2, 2, 1)->('track_face', 'grip1', 2, 2, 2) = success\n",
      "try: 66 - ('track_face', 'grip1', 2, 2, 0)->('track_face', 'track_face', 2, 2, 0)\n",
      "result: 33 - ('track_face', 'track_face', 2, 2, 0)->('grip1', 'track_face', 2, 2, 0) = fail\n",
      "branching: 76->79 (5.15/200.0 s, steps/err: 46(175.416946411 ms)/0.00178236991877)\n",
      "try: 79 - ('track_face', 'grip1', 2, 2, 2)->('track_face', 'grip1', 2, 2, 2)\n",
      "try transition motion\n",
      "result: 66 - ('track_face', 'grip1', 2, 2, 0)->('track_face', 'track_face', 2, 2, 0) = fail\n",
      "======================================================================================================================================================\n",
      "result: 66 - ('track_face', 'grip1', 2, 2, 0)->('track_face', 'track_face', 2, 2, 0) = fail\n",
      "try: 79 - ('track_face', 'grip1', 2, 2, 2)->('track_face', 'track_face', 2, 2, 2)\n",
      "try: 74 - ('track_face', 'grip1', 2, 2, 2)->('track_face', 'track_face', 2, 2, 2)\n",
      "try joint motion\n",
      "try: 79 - ('track_face', 'grip1', 2, 2, 2)->('track_face', 'track_face', 2, 2, 2)\n",
      "result: 74 - ('track_face', 'grip1', 2, 2, 2)->('track_face', 'track_face', 2, 2, 2) = fail\n",
      "result: 79 - ('track_face', 'grip1', 2, 2, 2)->('track_face', 'track_face', 2, 2, 2) = fail\n",
      "try: 68 - ('track_face', 'grip1', 2, 2, 2)->('track_face', 'track_face', 2, 2, 2)\n",
      "try transition motion\n",
      "try: 79 - ('track_face', 'grip1', 2, 2, 2)->('track_face', 'track_face', 2, 2, 2)\n",
      "try transition motion\n",
      "transition motion tried: True\n",
      "joint motion tried: True\n",
      "result: 78 - ('grip1', 'track_face', 2, 2, 0)->('grip1', 'track_face', 2, 2, 1) = success\n",
      "result: 79 - ('track_face', 'grip1', 2, 2, 2)->('track_face', 'track_face', 2, 2, 2) = fail\n",
      "result: 79 - ('track_face', 'grip1', 2, 2, 2)->('track_face', 'grip1', 2, 2, 2) = success\n",
      "branching: 78->81 (5.31/200.0 s, steps/err: 22(193.727970123 ms)/0.00130253485794)\n",
      "branching: 79->80 (5.3/200.0 s, steps/err: 11(112.339019775 ms)/3.77596384612e-16)\n",
      "try: 81 - ('grip1', 'track_face', 2, 2, 1)->('grip1', 'track_face', 2, 2, 2)\n",
      "======================================================================================================================================================\n",
      "try: 68 - ('track_face', 'grip1', 2, 2, 2)->('track_face', 'track_face', 2, 2, 2)\n",
      "======================================================================================================================================================\n",
      "try: 68 - ('track_face', 'grip1', 2, 2, 2)->('track_face', 'track_face', 2, 2, 2)\n",
      "result: 68 - ('track_face', 'grip1', 2, 2, 2)->('track_face', 'track_face', 2, 2, 2) = fail\n",
      "result: 68 - ('track_face', 'grip1', 2, 2, 2)->('track_face', 'track_face', 2, 2, 2) = fail\n",
      "result: 81 - ('grip1', 'track_face', 2, 2, 1)->('grip1', 'track_face', 2, 2, 2) = fail\n",
      "try: 74 - ('track_face', 'grip1', 2, 2, 2)->('track_face', 'track_face', 2, 2, 2)\n",
      "try: 68 - ('track_face', 'grip1', 2, 2, 2)->('track_face', 'track_face', 2, 2, 2)\n",
      "try: 74 - ('track_face', 'grip1', 2, 2, 2)->('track_face', 'track_face', 2, 2, 2)\n",
      "result: 68 - ('track_face', 'grip1', 2, 2, 2)->('track_face', 'track_face', 2, 2, 2) = fail\n",
      "try transition motion\n",
      "result: 74 - ('track_face', 'grip1', 2, 2, 2)->('track_face', 'track_face', 2, 2, 2) = fail\n",
      "try: 68 - ('track_face', 'grip1', 2, 2, 2)->('track_face', 'track_face', 2, 2, 2)\n",
      "transition motion tried: True\n",
      "try: 74 - ('track_face', 'grip1', 2, 2, 2)->('track_face', 'track_face', 2, 2, 2)\n",
      "result: 68 - ('track_face', 'grip1', 2, 2, 2)->('track_face', 'track_face', 2, 2, 2) = fail\n",
      "try: 79 - ('track_face', 'grip1', 2, 2, 2)->('track_face', 'track_face', 2, 2, 2)\n",
      "result: 68 - ('track_face', 'grip1', 2, 2, 2)->('track_face', 'track_face', 2, 2, 2) = success\n",
      "result: 74 - ('track_face', 'grip1', 2, 2, 2)->('track_face', 'track_face', 2, 2, 2) = fail\n",
      "transition motion tried: False\n",
      "try: 82 - ('track_face', 'track_face', 2, 2, 2)->('grip1', 'track_face', 2, 2, 2)\n",
      "branching: 68->82 (5.57/200.0 s, steps/err: 43(287.638902664 ms)/0.00119898134829)\n",
      "result: 82 - ('track_face', 'track_face', 2, 2, 2)->('grip1', 'track_face', 2, 2, 2) = fail\n",
      "result: 79 - ('track_face', 'grip1', 2, 2, 2)->('track_face', 'track_face', 2, 2, 2) = fail\n",
      "result: 3 - ('track_face', 'track_face', 2, 0, 0)->('track_face', 'track_face', 2, 1, 0) = fail\n",
      "======================================================================================================================================================\n",
      "try: 82 - ('track_face', 'track_face', 2, 2, 2)->('grip1', 'track_face', 2, 2, 2)\n",
      "try: 82 - ('track_face', 'track_face', 2, 2, 2)->('track_face', 'grip1', 2, 2, 2)\n",
      "try: 82 - ('track_face', 'track_face', 2, 2, 2)->('grip1', 'track_face', 2, 2, 2)\n",
      "++ adding return motion to acquired answer ++\n",
      "result: 82 - ('track_face', 'track_face', 2, 2, 2)->('grip1', 'track_face', 2, 2, 2) = fail\n",
      "try: 82 - ('track_face', 'track_face', 2, 2, 2)->('track_face', 'grip1', 2, 2, 2)\n",
      "try joint motion\n",
      "result: 82 - ('track_face', 'track_face', 2, 2, 2)->('grip1', 'track_face', 2, 2, 2) = fail\n",
      "result: 82 - ('track_face', 'track_face', 2, 2, 2)->('track_face', 'grip1', 2, 2, 2) = fail\n",
      "try: 82 - ('track_face', 'track_face', 2, 2, 2)->('grip1', 'track_face', 2, 2, 2)\n",
      "try: 82 - ('track_face', 'track_face', 2, 2, 2)->('track_face', 'grip1', 2, 2, 2)\n",
      "try transition motion\n",
      "try transition motion\n",
      "result: 82 - ('track_face', 'track_face', 2, 2, 2)->('grip1', 'track_face', 2, 2, 2) = fail\n",
      "try: 82 - ('track_face', 'track_face', 2, 2, 2)->('grip1', 'track_face', 2, 2, 2)\n",
      "joint motion tried: True\n",
      "result: 82 - ('track_face', 'track_face', 2, 2, 2)->('grip1', 'track_face', 2, 2, 2) = fail\n",
      "transition motion tried: True\n",
      "try: 82 - ('track_face', 'track_face', 2, 2, 2)->('track_face', 'grip1', 2, 2, 2)\n",
      "result: 74 - ('track_face', 'grip1', 2, 2, 2)->('track_face', 'track_face', 2, 2, 2) = success\n",
      "result: 82 - ('track_face', 'track_face', 2, 2, 2)->('track_face', 'grip1', 2, 2, 2) = fail\n",
      "branching: 74->84 (5.79/200.0 s, steps/err: 26(332.29804039 ms)/0.000856622258864)\n",
      "======================================================================================================================================================\n",
      "++ adding return motion to acquired answer ++\n",
      "try: 84 - ('track_face', 'track_face', 2, 2, 2)->('grip1', 'track_face', 2, 2, 2)\n"
     ]
    },
    {
     "name": "stdout",
     "output_type": "stream",
     "text": [
      "result: 84 - ('track_face', 'track_face', 2, 2, 2)->('grip1', 'track_face', 2, 2, 2) = fail\n",
      "try joint motion\n",
      "try: 84 - ('track_face', 'track_face', 2, 2, 2)->('grip1', 'track_face', 2, 2, 2)\n",
      "transition motion tried: False\n",
      "result: 84 - ('track_face', 'track_face', 2, 2, 2)->('grip1', 'track_face', 2, 2, 2) = fail\n",
      "result: 7 - ('track_face', 'track_face', 2, 2, 0)->('track_face', 'track_face', 2, 2, 1) = fail\n",
      "joint motion tried: True\n",
      "try: 83 - ('track_face', 'track_face', 2, 2, 2)->('track_face', 'grip1', 2, 2, 2)\n",
      "try: 83 - ('track_face', 'track_face', 2, 2, 2)->('track_face', 'grip1', 2, 2, 2)\n",
      "result: 83 - ('track_face', 'track_face', 2, 2, 2)->('track_face', 'grip1', 2, 2, 2) = fail\n",
      "try joint motion\n",
      "joint motion tried: True\n",
      "try transition motion\n",
      "transition motion tried: True\n",
      "result: 79 - ('track_face', 'grip1', 2, 2, 2)->('track_face', 'track_face', 2, 2, 2) = success\n",
      "result: 35 - ('track_face', 'track_face', 2, 2, 0)->('track_face', 'track_face', 2, 2, 0) = success\n",
      "branching: 79->86 (6.01/200.0 s, steps/err: 48(791.347980499 ms)/0.00183759958763)\n",
      "try: 85 - ('track_face', 'track_face', 2, 2, 2)->('grip1', 'track_face', 2, 2, 2)\n",
      "branching: 35->87 (6.02/200.0 s, steps/err: 52(3529.64305878 ms)/7.7747515594e-16)\n",
      "result: 85 - ('track_face', 'track_face', 2, 2, 2)->('grip1', 'track_face', 2, 2, 2) = fail\n",
      "======================================================================================================================================================\n",
      "======================================================================================================================================================\n",
      "try: 87 - ('track_face', 'track_face', 2, 2, 0)->('track_face', 'track_face', 2, 2, 1)\n",
      "++ adding return motion to acquired answer ++\n",
      "try: 86 - ('track_face', 'track_face', 2, 2, 2)->('track_face', 'grip1', 2, 2, 2)\n",
      "try joint motion\n",
      "try transition motion\n",
      "result: 86 - ('track_face', 'track_face', 2, 2, 2)->('track_face', 'grip1', 2, 2, 2) = fail\n",
      "try: 85 - ('track_face', 'track_face', 2, 2, 2)->('grip1', 'track_face', 2, 2, 2)\n",
      "transition motion tried: True\n",
      "joint motion tried: True\n",
      "try transition motion\n",
      "transition motion tried: True\n",
      "result: 83 - ('track_face', 'track_face', 2, 2, 2)->('track_face', 'grip1', 2, 2, 2) = success\n",
      "=========================================================================================================\n",
      "branching: 83->89 (6.16/200.0 s, steps/err: 33(182.58690834 ms)/0.00196899835231)\n",
      "======================= terminated 1: first answer acquired ===============================\n",
      "result: 87 - ('track_face', 'track_face', 2, 2, 0)->('track_face', 'track_face', 2, 2, 1) = success\n",
      "======================================================================================================================================================\n",
      "transition motion tried: False\n",
      "branching: 87->90 (6.19/200.0 s, steps/err: 13(128.119945526 ms)/0.00207767713319)\n",
      "=========================================================================================================\n",
      "joint motion tried: True\n",
      "=========================================================================================================\n",
      "======================= terminated 8: first answer acquired from other agent ===============================\n",
      "======================================================================================================================================================\n",
      "result: 16 - ('grip1', 'track_face', 2, 0, 0)->('grip1', 'track_face', 2, 1, 0) = fail\n",
      "=========================================================================================================\n",
      "=========================================================================================================\n",
      "=========================================================================================================\n",
      "======================= terminated 17: first answer acquired from other agent ===============================\n",
      "transition motion tried: True\n",
      "======================= terminated 7: first answer acquired from other agent ===============================\n",
      "=========================================================================================================\n",
      "result: 85 - ('track_face', 'track_face', 2, 2, 2)->('grip1', 'track_face', 2, 2, 2) = success\n",
      "=========================================================================================================\n",
      "branching: 85->92 (6.3/200.0 s, steps/err: 34(167.757987976 ms)/0.00104101747053)\n",
      "======================================================================================================================================================\n",
      "=========================================================================================================\n",
      "======================= terminated 3: first answer acquired from other agent ===============================\n",
      "try joint motion\n",
      "=========================================================================================================\n",
      "transition motion tried: False\n",
      "joint motion tried: True\n",
      "result: 18 - ('track_face', 'track_face', 2, 0, 0)->('track_face', 'track_face', 2, 1, 0) = fail\n",
      "=========================================================================================================\n",
      "======================= terminated 4: first answer acquired from other agent ===============================\n",
      "=========================================================================================================\n",
      "=========================================================================================================\n",
      "======================= terminated 5: first answer acquired ===============================\n",
      "=========================================================================================================\n",
      "transition motion tried: False\n",
      "result: 20 - ('track_face', 'track_face', 2, 0, 0)->('track_face', 'track_face', 2, 1, 0) = fail\n",
      "=========================================================================================================\n",
      "transition motion tried: False\n",
      "result: 21 - ('grip1', 'track_face', 2, 0, 0)->('grip1', 'track_face', 2, 1, 0) = fail\n",
      "======================= terminated 10: first answer acquired from other agent ===============================\n",
      "=========================================================================================================\n",
      "=========================================================================================================\n",
      "======================= terminated 0: first answer acquired from other agent ===============================\n",
      "=========================================================================================================\n",
      "======================= terminated 6: first answer acquired ===============================\n",
      "=========================================================================================================\n",
      "=========================================================================================================\n",
      "transition motion tried: False\n",
      "result: 22 - ('grip1', 'track_face', 2, 2, 0)->('grip1', 'track_face', 2, 2, 1) = fail\n",
      "=========================================================================================================\n",
      "joint motion tried: False\n",
      "======================= terminated 12: first answer acquired from other agent ===============================\n",
      "=========================================================================================================\n",
      "result: 25 - ('track_face', 'track_face', 2, 0, 0)->('track_face', 'track_face', 2, 0, 0) = fail\n",
      "=========================================================================================================\n",
      "======================= terminated 13: first answer acquired from other agent ===============================\n",
      "=========================================================================================================\n",
      "transition motion tried: True\n",
      "result: 35 - ('track_face', 'track_face', 2, 2, 0)->('grip1', 'track_face', 2, 2, 0) = success\n",
      "branching: 35->94 (6.99/200.0 s, steps/err: 71(2000.09202957 ms)/0.00148954711609)\n",
      "======================================================================================================================================================\n",
      "=========================================================================================================\n"
     ]
    },
    {
     "name": "stdout",
     "output_type": "stream",
     "text": [
      "======================= terminated 16: first answer acquired from other agent ===============================\n",
      "=========================================================================================================\n",
      "transition motion tried: False\n",
      "result: 28 - ('track_face', 'grip1', 2, 0, 0)->('track_face', 'grip1', 2, 1, 0) = fail\n",
      "=========================================================================================================\n",
      "======================= terminated 2: first answer acquired from other agent ===============================\n",
      "=========================================================================================================\n",
      "transition motion tried: False\n",
      "result: 30 - ('track_face', 'track_face', 2, 2, 0)->('grip1', 'track_face', 2, 2, 0) = fail\n",
      "=========================================================================================================\n",
      "======================= terminated 19: first answer acquired from other agent ===============================\n",
      "=========================================================================================================\n",
      "transition motion tried: False\n",
      "result: 34 - ('track_face', 'track_face', 2, 2, 0)->('grip1', 'track_face', 2, 2, 0) = fail\n",
      "=========================================================================================================\n",
      "======================= terminated 15: first answer acquired from other agent ===============================\n",
      "=========================================================================================================\n",
      "transition motion tried: False\n",
      "result: 49 - ('grip1', 'track_face', 2, 2, 0)->('grip1', 'track_face', 2, 2, 1) = fail\n",
      "=========================================================================================================\n",
      "======================= terminated 14: first answer acquired from other agent ===============================\n",
      "=========================================================================================================\n",
      "transition motion tried: True\n",
      "result: 82 - ('track_face', 'track_face', 2, 2, 2)->('track_face', 'grip1', 2, 2, 2) = success\n",
      "branching: 82->95 (8.35/200.0 s, steps/err: 4(2642.24004745 ms)/0.00176164034234)\n",
      "======================================================================================================================================================\n",
      "=========================================================================================================\n",
      "======================= terminated 9: first answer acquired from other agent ===============================\n",
      "=========================================================================================================\n",
      "transition motion tried: False\n",
      "result: 64 - ('track_face', 'grip1', 2, 2, 0)->('track_face', 'grip1', 2, 2, 1) = fail\n",
      "=========================================================================================================\n",
      "======================= terminated 11: first answer acquired from other agent ===============================\n",
      "=========================================================================================================\n",
      "transition motion tried: False\n",
      "result: 82 - ('track_face', 'track_face', 2, 2, 2)->('track_face', 'grip1', 2, 2, 2) = fail\n",
      "=========================================================================================================\n",
      "======================= terminated 18: first answer acquired from other agent ===============================\n",
      "=========================================================================================================\n"
     ]
    }
   ],
   "source": [
    "mplan.reset_log(False)\n",
    "gtimer.reset()\n",
    "# goal_nodes = [(\"track_face\",\"track_face\")+(2,0,0)]\n",
    "goal_nodes = [(\"track_face\",\"track_face\")+tuple([2 for _ in range(TRACK_NUM)])]\n",
    "# goal_nodes = [(\"floor\",\"floor\",\"floor\", 2, 2, 2)]\n",
    "gtimer.tic(\"plan\")\n",
    "ppline.search(initial_state, goal_nodes, verbose=True, display=False, dt_vis=0.01, \n",
    "              timeout_loop=200, multiprocess=True, timeout=5)\n",
    "gtimer.toc(\"plan\")\n",
    "schedules = ppline.tplan.find_schedules()\n",
    "schedules_sorted = ppline.tplan.sort_schedule(schedules)\n",
    "snode_schedule = ppline.tplan.idxSchedule2SnodeScedule(schedules_sorted[0])"
   ]
  },
  {
   "cell_type": "code",
   "execution_count": 35,
   "metadata": {
    "scrolled": true
   },
   "outputs": [
    {
     "name": "stdout",
     "output_type": "stream",
     "text": [
      "plan: \t6240.0 ms/1 = 6240.04 ms (6240.04/6240.04)\n",
      "\n"
     ]
    }
   ],
   "source": [
    "print(gtimer)"
   ]
  },
  {
   "cell_type": "code",
   "execution_count": null,
   "metadata": {},
   "outputs": [],
   "source": []
  },
  {
   "cell_type": "markdown",
   "metadata": {},
   "source": [
    "### refine schedule"
   ]
  },
  {
   "cell_type": "code",
   "execution_count": 36,
   "metadata": {
    "scrolled": true
   },
   "outputs": [
    {
     "name": "stdout",
     "output_type": "stream",
     "text": [
      "try transition motion\n",
      "try constrained motion\n",
      "try transition motion\n",
      "try joint motion\n",
      "try transition motion\n",
      "try constrained motion\n",
      "try transition motion\n",
      "try transition motion\n",
      "try joint motion\n",
      "try transition motion\n",
      "try constrained motion\n",
      "try joint motion\n",
      "try transition motion\n",
      "try joint motion\n",
      "transition motion tried: True\n",
      "transition motion tried: False\n",
      "joint motion tried: True\n",
      "transition motion tried: True\n",
      "transition motion tried: False\n",
      "transition motion tried: True\n",
      "joint motion tried: True\n",
      "transition motion tried: True\n",
      "joint motion tried: True\n",
      "transition motion tried: False\n",
      "joint motion tried: True\n",
      "constrained motion tried: True\n",
      "constrained motion tried: True\n",
      "constrained motion tried: True\n"
     ]
    },
    {
     "data": {
      "text/plain": [
       "10630.82504272461"
      ]
     },
     "execution_count": 36,
     "metadata": {},
     "output_type": "execute_result"
    }
   ],
   "source": [
    "from pkg.planning.motion.moveit.moveit_py import ConstrainedSpaceType\n",
    "gtimer.tic(\"refine_trajectory\")\n",
    "ppline.refine_trajectory(snode_schedule, timeout=5, timeout_constrained=10,\n",
    "                         plannerconfig=PlannerConfig.RRTstarkConfigDefault, cs_type=ConstrainedSpaceType.ATLAS,\n",
    "                        multiprocess=True)\n",
    "gtimer.toc(\"refine_trajectory\")"
   ]
  },
  {
   "cell_type": "code",
   "execution_count": 37,
   "metadata": {},
   "outputs": [
    {
     "name": "stdout",
     "output_type": "stream",
     "text": [
      "0 ('track_face', 'track_face', 1, 0, 0): True\n",
      "1 ('track_face', 'track_face', 2, 0, 0): True\n",
      "2 ('grip1', 'track_face', 2, 0, 0): False\n",
      "3 ('grip1', 'track_face', 2, 0, 0): True\n",
      "4 ('grip1', 'track_face', 2, 1, 0): True\n",
      "5 ('grip1', 'track_face', 2, 2, 0): True\n",
      "6 ('track_face', 'track_face', 2, 2, 0): False\n",
      "7 ('track_face', 'grip1', 2, 2, 0): True\n",
      "8 ('track_face', 'grip1', 2, 2, 0): True\n",
      "9 ('track_face', 'grip1', 2, 2, 1): True\n",
      "10 ('track_face', 'grip1', 2, 2, 2): True\n",
      "11 ('track_face', 'grip1', 2, 2, 2): True\n",
      "12 ('track_face', 'track_face', 2, 2, 2): False\n",
      "13 ('track_face', 'track_face', 2, 2, 2): True\n"
     ]
    }
   ],
   "source": [
    "for k,v in ppline.refine_success_dict.items():\n",
    "    print(\"{} {}: {}\".format(k, snode_schedule[k+1].state.node, v))"
   ]
  },
  {
   "cell_type": "code",
   "execution_count": 38,
   "metadata": {},
   "outputs": [
    {
     "name": "stdout",
     "output_type": "stream",
     "text": [
      "plan: \t6240.0 ms/1 = 6240.04 ms (6240.04/6240.04)\n",
      "refine_trajectory: \t10631.0 ms/1 = 10630.825 ms (10630.825/10630.825)\n",
      "\n"
     ]
    }
   ],
   "source": [
    "print(gtimer)"
   ]
  },
  {
   "cell_type": "code",
   "execution_count": 39,
   "metadata": {},
   "outputs": [],
   "source": [
    "# for i, sidx in enumerate([1, 2, 4, 6]):\n",
    "#     save_json(\"traj{}.json\".format(i), tplan.snode_dict[sidx].traj)\n",
    "#     gscene.show_motion(tplan.snode_dict[sidx].traj, period=0.05)\n",
    "        "
   ]
  },
  {
   "cell_type": "code",
   "execution_count": 40,
   "metadata": {},
   "outputs": [],
   "source": [
    "# import matplotlib.pyplot as plt\n",
    "# kin = stereo.camera_list[0]\n",
    "# rs = stereo.camera_list[1]"
   ]
  },
  {
   "cell_type": "code",
   "execution_count": 41,
   "metadata": {},
   "outputs": [],
   "source": [
    "# plt.figure(figsize=(15,10))\n",
    "# plt.imshow(kin.get_image())"
   ]
  },
  {
   "cell_type": "code",
   "execution_count": 42,
   "metadata": {},
   "outputs": [],
   "source": [
    "# plt.figure(figsize=(15,10))\n",
    "# plt.imshow(rs.get_image())"
   ]
  },
  {
   "cell_type": "code",
   "execution_count": null,
   "metadata": {},
   "outputs": [],
   "source": []
  },
  {
   "cell_type": "markdown",
   "metadata": {},
   "source": [
    "## play searched plan"
   ]
  },
  {
   "cell_type": "code",
   "execution_count": 43,
   "metadata": {},
   "outputs": [],
   "source": [
    "ppline.play_schedule(snode_schedule[:2], period=0.001)\n",
    "pscene.set_object_state(initial_state)\n",
    "gscene.show_pose(crob.home_pose)\n",
    "time.sleep(0.5)\n",
    "gscene.show_pose(crob.home_pose)"
   ]
  },
  {
   "cell_type": "code",
   "execution_count": 44,
   "metadata": {
    "scrolled": false
   },
   "outputs": [],
   "source": [
    "ppline.play_schedule(snode_schedule, period=0.03)"
   ]
  },
  {
   "cell_type": "code",
   "execution_count": 46,
   "metadata": {},
   "outputs": [],
   "source": [
    "gscene.clear_highlight()\n",
    "effector = gscene.NAME_DICT[\"brush_face\"]\n",
    "for i_s, snode_to in enumerate(snode_schedule):\n",
    "    Traj = snode_to.traj\n",
    "    if Traj is None or (1 in snode_to.state.node[2:]):\n",
    "        continue\n",
    "    effector.draw_traj_coords(Traj, \"traj_{}\".format(i_s))"
   ]
  },
  {
   "cell_type": "code",
   "execution_count": 47,
   "metadata": {},
   "outputs": [],
   "source": [
    "gscene.clear_highlight()"
   ]
  },
  {
   "cell_type": "code",
   "execution_count": 42,
   "metadata": {},
   "outputs": [],
   "source": [
    "# print(\"schedule length: {}\".format(len(snode_schedule)))\n",
    "# for i_s,  snode in enumerate(snode_schedule):\n",
    "#     print(\"{}: {}\".format(i_s, snode.state.node))"
   ]
  },
  {
   "cell_type": "code",
   "execution_count": 40,
   "metadata": {},
   "outputs": [],
   "source": [
    "# save_json(\"traj.json\", snode_schedule[1].traj)"
   ]
  },
  {
   "cell_type": "markdown",
   "metadata": {},
   "source": [
    "## execute plan"
   ]
  },
  {
   "cell_type": "code",
   "execution_count": 41,
   "metadata": {},
   "outputs": [
    {
     "name": "stdout",
     "output_type": "stream",
     "text": [
      "connection command:\n",
      "indy0: True\n",
      "panda1: True\n",
      "Connect: Server IP (192.168.0.63)\n"
     ]
    }
   ],
   "source": [
    "crob.reset_connection(True,True)"
   ]
  },
  {
   "cell_type": "code",
   "execution_count": 42,
   "metadata": {},
   "outputs": [
    {
     "name": "stdout",
     "output_type": "stream",
     "text": [
      "Connect: Server IP (192.168.0.63)\n"
     ]
    }
   ],
   "source": [
    "indy = crob.robot_dict[\"indy0\"]\n",
    "panda = crob.robot_dict[\"panda1\"]\n",
    "with indy:\n",
    "    indy.set_joint_vel_level(1)\n",
    "    indy.set_task_vel_level(1)"
   ]
  },
  {
   "cell_type": "code",
   "execution_count": 43,
   "metadata": {},
   "outputs": [
    {
     "name": "stdout",
     "output_type": "stream",
     "text": [
      "Connect: Server IP (192.168.0.63)\n",
      "Connect: Server IP (192.168.0.63)\n"
     ]
    }
   ],
   "source": [
    "crob.joint_move_make_sure(crob.home_pose)"
   ]
  },
  {
   "cell_type": "code",
   "execution_count": 44,
   "metadata": {},
   "outputs": [
    {
     "name": "stdout",
     "output_type": "stream",
     "text": [
      "Connect: Server IP (192.168.0.63)\n"
     ]
    },
    {
     "data": {
      "text/plain": [
       "{'stop': True}"
      ]
     },
     "execution_count": 44,
     "metadata": {},
     "output_type": "execute_result"
    }
   ],
   "source": [
    "indy.stop_tracking()"
   ]
  },
  {
   "cell_type": "code",
   "execution_count": 45,
   "metadata": {},
   "outputs": [
    {
     "name": "stdout",
     "output_type": "stream",
     "text": [
      "Connect: Server IP (192.168.0.63)\n"
     ]
    }
   ],
   "source": [
    "crob.grasp(indy0=False, panda1=False)"
   ]
  },
  {
   "cell_type": "code",
   "execution_count": 46,
   "metadata": {
    "scrolled": true
   },
   "outputs": [
    {
     "name": "stdout",
     "output_type": "stream",
     "text": [
      "binder: track_face\n",
      "rname: None\n",
      "binder: track_face\n",
      "rname: None\n",
      "binder: None\n",
      "binder: None\n",
      "binder: None\n",
      "Connect: Server IP (192.168.0.63)\n",
      "binder: track_face\n",
      "rname: None\n",
      "binder: track_face\n",
      "rname: None\n",
      "binder: None\n",
      "binder: None\n",
      "binder: None\n",
      "Connect: Server IP (192.168.0.63)\n",
      "go\n",
      "binder: track_face\n",
      "rname: None\n",
      "binder: grip1\n",
      "rname: panda1\n",
      "binder: None\n",
      "binder: None\n",
      "binder: None\n",
      "Connect: Server IP (192.168.0.63)\n",
      "go\n",
      "binder: track_face\n",
      "rname: None\n",
      "binder: track_face\n",
      "rname: None\n",
      "binder: None\n",
      "binder: None\n",
      "binder: None\n",
      "Connect: Server IP (192.168.0.63)\n",
      "go\n",
      "binder: track_face\n",
      "rname: None\n",
      "binder: track_face\n",
      "rname: None\n",
      "binder: None\n",
      "binder: None\n",
      "binder: None\n",
      "Connect: Server IP (192.168.0.63)\n",
      "go\n",
      "binder: track_face\n",
      "rname: None\n",
      "binder: grip1\n",
      "rname: panda1\n",
      "binder: None\n",
      "binder: None\n",
      "binder: None\n",
      "Connect: Server IP (192.168.0.63)\n",
      "go\n",
      "binder: track_face\n",
      "rname: None\n",
      "binder: track_face\n",
      "rname: None\n",
      "binder: None\n",
      "binder: None\n",
      "binder: None\n",
      "Connect: Server IP (192.168.0.63)\n",
      "go\n",
      "binder: track_face\n",
      "rname: None\n",
      "binder: track_face\n",
      "rname: None\n",
      "binder: None\n",
      "binder: None\n",
      "binder: None\n",
      "Connect: Server IP (192.168.0.63)\n",
      "go\n",
      "binder: track_face\n",
      "rname: None\n",
      "binder: grip1\n",
      "rname: panda1\n",
      "binder: None\n",
      "binder: None\n",
      "binder: None\n",
      "Connect: Server IP (192.168.0.63)\n",
      "go\n",
      "binder: track_face\n",
      "rname: None\n",
      "binder: grip1\n",
      "rname: panda1\n",
      "binder: None\n",
      "binder: None\n",
      "binder: None\n",
      "Connect: Server IP (192.168.0.63)\n",
      "go\n",
      "Connect: Server IP (192.168.0.63)\n",
      "binder: track_face\n",
      "rname: None\n",
      "binder: grip1\n",
      "rname: panda1\n",
      "binder: brush_face\n",
      "rname: indy0\n",
      "binder: None\n",
      "binder: None\n",
      "Connect: Server IP (192.168.0.63)\n",
      "go\n",
      "Connect: Server IP (192.168.0.63)\n",
      "binder: track_face\n",
      "rname: None\n",
      "binder: grip1\n",
      "rname: panda1\n",
      "binder: brush_face\n",
      "rname: indy0\n",
      "binder: None\n",
      "binder: None\n",
      "Connect: Server IP (192.168.0.63)\n",
      "go\n",
      "Connect: Server IP (192.168.0.63)\n",
      "binder: track_face\n",
      "rname: None\n",
      "binder: grip1\n",
      "rname: panda1\n",
      "binder: brush_face\n",
      "rname: indy0\n",
      "binder: None\n",
      "binder: None\n",
      "Connect: Server IP (192.168.0.63)\n",
      "go\n",
      "binder: track_face\n",
      "rname: None\n",
      "binder: track_face\n",
      "rname: None\n",
      "binder: brush_face\n",
      "rname: indy0\n",
      "binder: None\n",
      "binder: None\n",
      "Connect: Server IP (192.168.0.63)\n",
      "go\n",
      "binder: track_face\n",
      "rname: None\n",
      "binder: track_face\n",
      "rname: None\n",
      "binder: brush_face\n",
      "rname: indy0\n",
      "binder: None\n",
      "binder: None\n",
      "Connect: Server IP (192.168.0.63)\n",
      "go\n",
      "binder: grip1\n",
      "rname: panda1\n",
      "binder: track_face\n",
      "rname: None\n",
      "binder: brush_face\n",
      "rname: indy0\n",
      "binder: None\n",
      "binder: None\n",
      "Connect: Server IP (192.168.0.63)\n",
      "go\n",
      "binder: grip1\n",
      "rname: panda1\n",
      "binder: track_face\n",
      "rname: None\n",
      "binder: brush_face\n",
      "rname: indy0\n",
      "binder: None\n",
      "binder: None\n",
      "Connect: Server IP (192.168.0.63)\n",
      "go\n",
      "Connect: Server IP (192.168.0.63)\n",
      "binder: grip1\n",
      "rname: panda1\n",
      "binder: track_face\n",
      "rname: None\n",
      "binder: brush_face\n",
      "rname: indy0\n",
      "binder: brush_face\n",
      "rname: indy0\n",
      "binder: None\n",
      "Connect: Server IP (192.168.0.63)\n",
      "go\n",
      "Connect: Server IP (192.168.0.63)\n",
      "binder: grip1\n",
      "rname: panda1\n",
      "binder: track_face\n",
      "rname: None\n",
      "binder: brush_face\n",
      "rname: indy0\n",
      "binder: brush_face\n",
      "rname: indy0\n",
      "binder: None\n",
      "Connect: Server IP (192.168.0.63)\n",
      "go\n",
      "binder: track_face\n",
      "rname: None\n",
      "binder: track_face\n",
      "rname: None\n",
      "binder: brush_face\n",
      "rname: indy0\n",
      "binder: brush_face\n",
      "rname: indy0\n",
      "binder: None\n",
      "Connect: Server IP (192.168.0.63)\n",
      "go\n",
      "binder: track_face\n",
      "rname: None\n",
      "binder: grip1\n",
      "rname: panda1\n",
      "binder: brush_face\n",
      "rname: indy0\n",
      "binder: brush_face\n",
      "rname: indy0\n",
      "binder: None\n",
      "Connect: Server IP (192.168.0.63)\n",
      "go\n",
      "binder: track_face\n",
      "rname: None\n",
      "binder: grip1\n",
      "rname: panda1\n",
      "binder: brush_face\n",
      "rname: indy0\n",
      "binder: brush_face\n",
      "rname: indy0\n",
      "binder: None\n",
      "Connect: Server IP (192.168.0.63)\n",
      "go\n",
      "Connect: Server IP (192.168.0.63)\n",
      "binder: track_face\n",
      "rname: None\n",
      "binder: grip1\n",
      "rname: panda1\n",
      "binder: brush_face\n",
      "rname: indy0\n",
      "binder: brush_face\n",
      "rname: indy0\n",
      "binder: brush_face\n",
      "rname: indy0\n",
      "Connect: Server IP (192.168.0.63)\n",
      "go\n",
      "Connect: Server IP (192.168.0.63)\n",
      "binder: track_face\n",
      "rname: None\n",
      "binder: grip1\n",
      "rname: panda1\n",
      "binder: brush_face\n",
      "rname: indy0\n",
      "binder: brush_face\n",
      "rname: indy0\n",
      "binder: brush_face\n",
      "rname: indy0\n",
      "Connect: Server IP (192.168.0.63)\n",
      "go\n",
      "Connect: Server IP (192.168.0.63)\n",
      "binder: track_face\n",
      "rname: None\n",
      "binder: grip1\n",
      "rname: panda1\n",
      "binder: brush_face\n",
      "rname: indy0\n",
      "binder: brush_face\n",
      "rname: indy0\n",
      "binder: brush_face\n",
      "rname: indy0\n",
      "Connect: Server IP (192.168.0.63)\n",
      "go\n",
      "binder: track_face\n",
      "rname: None\n",
      "binder: track_face\n",
      "rname: None\n",
      "binder: brush_face\n",
      "rname: indy0\n",
      "binder: brush_face\n",
      "rname: indy0\n",
      "binder: brush_face\n",
      "rname: indy0\n",
      "Connect: Server IP (192.168.0.63)\n",
      "go\n",
      "binder: track_face\n",
      "rname: None\n",
      "binder: track_face\n",
      "rname: None\n",
      "binder: brush_face\n",
      "rname: indy0\n",
      "binder: brush_face\n",
      "rname: indy0\n",
      "binder: brush_face\n",
      "rname: indy0\n",
      "Connect: Server IP (192.168.0.63)\n",
      "Connect: Server IP (192.168.0.63)\n"
     ]
    }
   ],
   "source": [
    "ppline.execute_schedule(snode_schedule, vel_scale=0.5, acc_scale=0.5)"
   ]
  },
  {
   "cell_type": "code",
   "execution_count": null,
   "metadata": {},
   "outputs": [],
   "source": []
  }
 ],
 "metadata": {
  "kernelspec": {
   "display_name": "Python 2",
   "language": "python",
   "name": "python2"
  },
  "language_info": {
   "codemirror_mode": {
    "name": "ipython",
    "version": 2
   },
   "file_extension": ".py",
   "mimetype": "text/x-python",
   "name": "python",
   "nbconvert_exporter": "python",
   "pygments_lexer": "ipython2",
   "version": "2.7.17"
  }
 },
 "nbformat": 4,
 "nbformat_minor": 2
}
