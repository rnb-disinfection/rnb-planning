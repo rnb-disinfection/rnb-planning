{
 "cells": [
  {
   "cell_type": "code",
   "execution_count": 21,
   "metadata": {},
   "outputs": [],
   "source": [
    "import open3d as o3d\n",
    "import os\n",
    "import sys\n",
    "import numpy as np\n",
    "\n",
    "sys.path.append(os.path.join(os.path.join(\n",
    "    os.environ[\"RNB_PLANNING_DIR\"], 'src')))\n",
    "\n",
    "from pkg.utils.rotation_utils import *"
   ]
  },
  {
   "cell_type": "markdown",
   "metadata": {},
   "source": [
    "### Set stl file path"
   ]
  },
  {
   "cell_type": "code",
   "execution_count": 2,
   "metadata": {},
   "outputs": [],
   "source": [
    "stl_path = os.path.join(os.environ[\"RNB_PLANNING_DIR\"], \"ws_ros/src/my_mesh/meshes/stl\")\n",
    "origin_coord = o3d.geometry.TriangleMesh.create_coordinate_frame(size=0.2, origin=(0,0,0))"
   ]
  },
  {
   "cell_type": "markdown",
   "metadata": {},
   "source": [
    "### carrier"
   ]
  },
  {
   "cell_type": "code",
   "execution_count": 3,
   "metadata": {},
   "outputs": [
    {
     "data": {
      "text/plain": [
       "TriangleMesh with 6120 points and 2100 triangles."
      ]
     },
     "execution_count": 3,
     "metadata": {},
     "output_type": "execute_result"
    }
   ],
   "source": [
    "carrier_model = o3d.io.read_triangle_mesh(os.path.join(stl_path, \"carrier.STL\"))\n",
    "carrier_model.vertices = o3d.utility.Vector3dVector(\n",
    "    np.asarray(carrier_model.vertices) * np.array([1e-3, 1e-3, 1e-3]))\n",
    "print(carrier_model.get_center())\n",
    "\n",
    "carrier_model.translate(-carrier_model.get_center())"
   ]
  },
  {
   "cell_type": "code",
   "execution_count": 4,
   "metadata": {},
   "outputs": [],
   "source": [
    "# o3d.visualization.draw_geometries([carrier_model, origin_coord])\n",
    "carrier_model.compute_vertex_normals()\n",
    "o3d.io.write_triangle_mesh(\"carrier_centered_m_scale.STL\", carrier_model)"
   ]
  },
  {
   "cell_type": "markdown",
   "metadata": {},
   "source": [
    "### tableclock"
   ]
  },
  {
   "cell_type": "code",
   "execution_count": 16,
   "metadata": {},
   "outputs": [
    {
     "name": "stdout",
     "output_type": "stream",
     "text": [
      "[0.069      0.02465987 0.03902297]\n"
     ]
    },
    {
     "data": {
      "text/plain": [
       "TriangleMesh with 656 points and 332 triangles."
      ]
     },
     "execution_count": 16,
     "metadata": {},
     "output_type": "execute_result"
    }
   ],
   "source": [
    "tableclock_model = o3d.io.read_triangle_mesh(os.path.join(stl_path, \"tableclock.STL\"))\n",
    "tableclock_model.vertices = o3d.utility.Vector3dVector(\n",
    "    np.asarray(tableclock_model.vertices) * np.array([1e-3, 1e-3, 1e-3]))\n",
    "print(tableclock_model.get_center())\n",
    "\n",
    "tableclock_model.translate(-tableclock_model.get_center())"
   ]
  },
  {
   "cell_type": "code",
   "execution_count": 18,
   "metadata": {},
   "outputs": [
    {
     "data": {
      "text/plain": [
       "True"
      ]
     },
     "execution_count": 18,
     "metadata": {},
     "output_type": "execute_result"
    }
   ],
   "source": [
    "# o3d.visualization.draw_geometries([tableclock_model, origin_coord])\n",
    "tableclock_model.compute_vertex_normals()\n",
    "o3d.io.write_triangle_mesh(\"tableclock_centered_m_scale.STL\", tableclock_model)"
   ]
  },
  {
   "cell_type": "markdown",
   "metadata": {},
   "source": [
    "### table"
   ]
  },
  {
   "cell_type": "code",
   "execution_count": 22,
   "metadata": {},
   "outputs": [
    {
     "name": "stdout",
     "output_type": "stream",
     "text": [
      "[0.79999998 0.35130221 0.46355648]\n"
     ]
    },
    {
     "data": {
      "text/plain": [
       "TriangleMesh with 168 points and 120 triangles."
      ]
     },
     "execution_count": 22,
     "metadata": {},
     "output_type": "execute_result"
    }
   ],
   "source": [
    "table_model = o3d.io.read_triangle_mesh(os.path.join(stl_path, \"table.STL\"))\n",
    "table_model.vertices = o3d.utility.Vector3dVector(\n",
    "    np.asarray(table_model.vertices) * np.array([1e-3, 1e-3, 1e-3]))\n",
    "print(table_model.get_center())\n",
    "\n",
    "tmp = table_model.get_center()\n",
    "tvec = np.array([-tmp[0], -tmp[1], 0])\n",
    "R = Rot_axis(3, np.pi)\n",
    "table_model.translate(tvec)\n",
    "table_model.rotate(R)"
   ]
  },
  {
   "cell_type": "code",
   "execution_count": 23,
   "metadata": {},
   "outputs": [
    {
     "data": {
      "text/plain": [
       "True"
      ]
     },
     "execution_count": 23,
     "metadata": {},
     "output_type": "execute_result"
    }
   ],
   "source": [
    "# o3d.visualization.draw_geometries([tableclock_model, origin_coord])\n",
    "table_model.compute_vertex_normals()\n",
    "o3d.io.write_triangle_mesh(\"table_floor_centered_m_scale.STL\", table_model)"
   ]
  },
  {
   "cell_type": "code",
   "execution_count": null,
   "metadata": {},
   "outputs": [],
   "source": []
  }
 ],
 "metadata": {
  "kernelspec": {
   "display_name": "Python 3",
   "language": "python",
   "name": "python3"
  },
  "language_info": {
   "codemirror_mode": {
    "name": "ipython",
    "version": 3
   },
   "file_extension": ".py",
   "mimetype": "text/x-python",
   "name": "python",
   "nbconvert_exporter": "python",
   "pygments_lexer": "ipython3",
   "version": "3.6.9"
  }
 },
 "nbformat": 4,
 "nbformat_minor": 2
}
