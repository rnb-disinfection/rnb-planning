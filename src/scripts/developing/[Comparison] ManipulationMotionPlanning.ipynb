{
 "cells": [
  {
   "cell_type": "markdown",
   "metadata": {},
   "source": [
    "## Grasp reaching, homing motion benchmark\n",
    "```\n",
    "BKPIECEkConfigDefault: \t31542.6 ms/50 = 630.9 ms (91.331/3006.085)\n",
    "KPIECEkConfigDefault: \t27577.7 ms/50 = 551.6 ms (47.669/3007.381)\n",
    "RRTkConfigDefault: \t48236.9 ms/50 = 964.7 ms (19.026/3013.746)\n",
    "RRTConnectkConfigDefault: \t22665.6 ms/50 = 453.3 ms (43.77/3006.213)\n",
    "HOME-BKPIECEkConfigDefault: \t8430.9 ms/50 = 168.6 ms (65.387/438.017)\n",
    "HOME-KPIECEkConfigDefault: \t2745.9 ms/50 = 54.9 ms (14.473/207.59)\n",
    "HOME-RRTkConfigDefault: \t3308.4 ms/50 = 66.2 ms (14.098/607.564)\n",
    "HOME-RRTConnectkConfigDefault: \t2380.3 ms/50 = 47.6 ms (19.585/320.407)\n",
    "```\n",
    "- **결과:** 양쪽 모두 RRTConnect가 우수"
   ]
  },
  {
   "cell_type": "code",
   "execution_count": null,
   "metadata": {},
   "outputs": [],
   "source": []
  },
  {
   "cell_type": "markdown",
   "metadata": {},
   "source": [
    "## set running directory to project source"
   ]
  },
  {
   "cell_type": "code",
   "execution_count": null,
   "metadata": {},
   "outputs": [],
   "source": [
    "import os\n",
    "import numpy as np\n",
    "import time\n",
    "os.chdir(os.path.join(os.environ[\"RNB_PLANNING_DIR\"], 'src'))\n",
    "import matplotlib.pyplot as plt"
   ]
  },
  {
   "cell_type": "code",
   "execution_count": null,
   "metadata": {},
   "outputs": [],
   "source": []
  },
  {
   "cell_type": "markdown",
   "metadata": {},
   "source": [
    "## 4.1 PlanningScene"
   ]
  },
  {
   "cell_type": "markdown",
   "metadata": {},
   "source": [
    "##### initialize CombinedRobot and GeometryScene"
   ]
  },
  {
   "cell_type": "code",
   "execution_count": null,
   "metadata": {},
   "outputs": [],
   "source": [
    "from pkg.controller.combined_robot import *\n",
    "from pkg.project_config import *\n",
    "from pkg.geometry.builder.scene_builder import SceneBuilder\n",
    "\n",
    "s_builder = SceneBuilder(None)   # create scene builder without detector for virtual scene\n",
    "crob = CombinedRobot(robots_on_scene=[\n",
    "    RobotConfig(0, RobotType.indy7, ((0,0,0), (0,0,0)), None)]\n",
    "                     , connection_list=[False])\n",
    "gscene = s_builder.create_gscene(crob)\n",
    "gtems = s_builder.add_robot_geometries(color=(0,1,0,0.5), display=True, collision=True)\n",
    "gscene.show_pose(crob.home_pose)"
   ]
  },
  {
   "cell_type": "markdown",
   "metadata": {},
   "source": [
    "##### add geometries"
   ]
  },
  {
   "cell_type": "code",
   "execution_count": null,
   "metadata": {},
   "outputs": [],
   "source": [
    "from pkg.geometry.geometry import *\n",
    "\n",
    "# add environments (fixed=True for non-movable geometries)\n",
    "wall = gscene.create_safe(GEOTYPE.BOX, \"wall\", \"base_link\", (3,3,0.01), (-0.2,0,0), \n",
    "                           rpy=(0,np.pi/2,0), color=(0.8,0.8,0.8,0.5), display=True, fixed=True, collision=True)\n",
    "floor = gscene.create_safe(GEOTYPE.BOX, \"floor\", \"base_link\", (3,3,0.01), (0,0,0), \n",
    "                           rpy=(0,0,0), color=(0.8,0.8,0.8,0.5), display=True, fixed=True, collision=True)\n",
    "wp1 = gscene.create_safe(GEOTYPE.BOX, \"wp1\", \"base_link\", (0.1,0.1,0.01), (0.6,-0.3,0),rpy=(0,0,0), \n",
    "                         color=(0.8,0.2,0.2,1), display=True, fixed=True, collision=False, parent=\"floor\")\n",
    "wp2 = gscene.create_safe(GEOTYPE.BOX, \"wp2\", \"base_link\", (0.1,0.1,0.01), (0.2,-0.3,0), rpy=(0,0,0), \n",
    "                         color=(0.8,0.2,0.2,1), display=True, fixed=True, collision=False, parent=\"floor\")\n",
    "goal = gscene.create_safe(GEOTYPE.BOX, \"goal\", \"base_link\", (0.1,0.1,0.01), (0.3,-0.4,0), \n",
    "                          rpy=(0,0,0), color=(0.2,0.2,0.8,1), display=True, fixed=True, collision=False)\n",
    " \n",
    "# add movable (fixed=False for movable geometries)\n",
    "box1 = gscene.create_safe(GEOTYPE.BOX, \"box1\", \"base_link\", (0.05,0.05,0.05), (0.3,0.4,0.031), \n",
    "                          rpy=(0,0,0), color=(0.8,0.2,0.2,1), display=True, fixed=False, collision=True)\n",
    "\n",
    "obstacle = gscene.create_safe(GEOTYPE.BOX, \"obstacle\", \"base_link\", (0.05,0.05,0.05), (0.5,0.4,0.031), \n",
    "                          rpy=(0,0,0), color=(0.8,0.8,0.2,1), display=True, fixed=False, collision=True)"
   ]
  },
  {
   "cell_type": "code",
   "execution_count": null,
   "metadata": {},
   "outputs": [],
   "source": []
  },
  {
   "cell_type": "markdown",
   "metadata": {},
   "source": [
    "##### create PlanningScene"
   ]
  },
  {
   "cell_type": "code",
   "execution_count": null,
   "metadata": {},
   "outputs": [],
   "source": [
    "from pkg.planning.scene import PlanningScene\n",
    "pscene = PlanningScene(gscene, combined_robot=crob)"
   ]
  },
  {
   "cell_type": "code",
   "execution_count": null,
   "metadata": {},
   "outputs": [],
   "source": []
  },
  {
   "cell_type": "markdown",
   "metadata": {},
   "source": [
    "##### create_binder\n",
    "- Binders (or Actors) are binding points where objects can be attached (or binded)\n",
    "- Examples are \n",
    "  - PlacePlane: plane for object placement\n",
    "  - Gripper2Tool: 2-finger gripper tool for grasp objects\n",
    "  - SweepTool: action point to pass waypoints for sweep task"
   ]
  },
  {
   "cell_type": "code",
   "execution_count": null,
   "metadata": {},
   "outputs": [],
   "source": [
    "from pkg.planning.constraint.constraint_actor import PlacePlane, Gripper2Tool, SweepFramer"
   ]
  },
  {
   "cell_type": "code",
   "execution_count": null,
   "metadata": {},
   "outputs": [],
   "source": [
    "# create PlacePlane on geometry \"floor\" and \"goal\"\n",
    "# when point is not set, the entire upper surface of the geometry becomes valid binding area.\n",
    "# when point is set, the specific point becomes the only valid binding point.\n",
    "pscene.create_binder(bname=\"floor\", gname=\"floor\", _type=PlacePlane)\n",
    "pscene.create_binder(bname=\"goal\", gname=\"goal\", _type=PlacePlane, point=(0,0,0.005))"
   ]
  },
  {
   "cell_type": "code",
   "execution_count": null,
   "metadata": {},
   "outputs": [],
   "source": [
    "# add collision boundary for gripper base\n",
    "# - set link_name=\"indy0_tcp\" to attach the geometry to end-effector link\n",
    "# - it can be labeled as fixed=True, as it is \"fixed\" on the indy0_tcp link\n",
    "gripper =  gscene.create_safe(GEOTYPE.BOX, \"gripper\", link_name=\"indy0_tcp\", \n",
    "                                dims=(0.02,0.1,0.1), center=(0,0,0.05), rpy=(0,0,0), \n",
    "                                color=(0.8,0.2,0.2,0.5), display=True, fixed=True, collision=True)\n",
    "\n",
    "# add gripper fingers - By setting parent=\"gripper\", the position of geometry can be set relative to the parent geometry\n",
    "finger1 =  gscene.create_safe(GEOTYPE.BOX, \"finger1\", link_name=\"indy0_tcp\",\n",
    "                              dims=(0.04,0.02,0.1), center=(0,0.05,0.07), rpy=(0,0,0), \n",
    "                              color=(0.8,0.2,0.2,0.5), display=True, fixed=True, collision=True, parent=\"gripper\")\n",
    "finger2 =  gscene.create_safe(GEOTYPE.BOX, \"finger2\", link_name=\"indy0_tcp\", \n",
    "                              dims=(0.04,0.02,0.1), center=(0,-0.05,0.07), rpy=(0,0,0), \n",
    "                              color=(0.8,0.2,0.2,0.5), display=True, fixed=True, collision=True, parent=\"gripper\")\n",
    "\n",
    "# create Gripper2Tool binder\n",
    "# Gripper2Tool is a 2-finger gripper, which can rotate along z-direction.\n",
    "# To align the z-direction with the 2 fingers, rotate by 90 degree along roll axis.\n",
    "# The gripping point is (0,0,0.11) in local coordinate of \"gripper\" geometry\n",
    "pscene.create_binder(bname=\"grip0\", gname=\"gripper\", _type=Gripper2Tool, point=(0,0,0.11), rpy=(-np.pi/2,0,0))"
   ]
  },
  {
   "cell_type": "code",
   "execution_count": null,
   "metadata": {},
   "outputs": [],
   "source": [
    "# Add virtual (no-collision) sweep face. the point is 0.2 m away from the \"indy0_tcp\" link\n",
    "# To match the z-direction with the target surface, the geometry is rotated 180 degrees in pitch-axis.\n",
    "sweep_face =  gscene.create_safe(GEOTYPE.BOX, \"sweep_face\", link_name=\"indy0_tcp\", \n",
    "                                dims=(0.05,0.05,0.001), center=(0,0,0.2), rpy=(0,np.pi,0), \n",
    "                                color=(0.2,0.2,0.8,0.1), display=True, fixed=True, collision=False)\n",
    "                                 \n",
    "# create SweepTool binder\n",
    "pscene.create_binder(bname=\"sweep_face\", gname=\"sweep_face\", _type=SweepFramer, point=(0,0,0), rpy=(0,0,0))"
   ]
  },
  {
   "cell_type": "code",
   "execution_count": null,
   "metadata": {},
   "outputs": [],
   "source": []
  },
  {
   "cell_type": "markdown",
   "metadata": {},
   "source": [
    "##### create_subject\n",
    "* Subject describes the tasks in the planning scene.\n",
    "* There are 2 categories in subject:\n",
    "  1. Object: The object has grip points and placement points for pick&place task\n",
    "  2. Task: The task is can be any non-physical task. Check SweepLineTask for example\n",
    "* The subjects can be composed of multiple action points. Examples are:\n",
    "  1. Grasp2Point: grasping point for 2-finger gripper. \n",
    "  2. PlacePoint: The point to place object.\n",
    "  3. SweepPoint: A waypoint for SweepLineTask.\n",
    "  * The above 3 action points inherit DirectePoint, for which the orientation is free along z-axis. \n",
    "  * If \"point\" parameter is not set, the entire upper surface is becomes valid action area."
   ]
  },
  {
   "cell_type": "code",
   "execution_count": null,
   "metadata": {},
   "outputs": [],
   "source": [
    "from pkg.planning.constraint.constraint_subject import Grasp2Point, PlacePoint, SweepFrame\n",
    "from pkg.planning.constraint.constraint_subject import CustomObject, SweepLineTask"
   ]
  },
  {
   "cell_type": "code",
   "execution_count": null,
   "metadata": {},
   "outputs": [],
   "source": [
    "## create box object with grasping points along positive & negative y-direction and placement point in the bottom face\n",
    "box_obj = pscene.create_subject(oname=\"box1\", gname=\"box1\", _type=CustomObject, \n",
    "                             action_points_dict = {\n",
    "                                 \"handle1\": Grasp2Point(\"handle1\", box1, [0,0,0], [-np.pi/2,0,0]),\n",
    "                                 \"handle2\": Grasp2Point(\"handle2\", box1, [0,0,0], [np.pi/2,0,0]),\n",
    "                                 \"bottom\": PlacePoint(\"bottom\", box1, [0,0,-0.026], [0,0,0])})"
   ]
  },
  {
   "cell_type": "code",
   "execution_count": null,
   "metadata": {},
   "outputs": [],
   "source": [
    "## create sweep task with 2 waypoints\n",
    "sweep = pscene.create_subject(oname=\"sweep\", gname=\"floor\", _type=SweepLineTask, \n",
    "                             action_points_dict = {\"wp1\": SweepFrame(\"wp1\", wp1, [0,0,0.005], [0,0,0]),\n",
    "                                                   \"wp2\": SweepFrame(\"wp2\", wp2, [0,0,0.005], [0,0,0])}\n",
    "                             )"
   ]
  },
  {
   "cell_type": "code",
   "execution_count": null,
   "metadata": {},
   "outputs": [],
   "source": []
  },
  {
   "cell_type": "markdown",
   "metadata": {},
   "source": [
    "##### initialize_state\n",
    "* initialize_state(robot_pose) updates robot pose and gets corresponding binding status of current scene.\n",
    "* state.node of ('floor', 0) means the first subject (object) is placed on the floor and the second subject (sweep) has passed 0 waypoints"
   ]
  },
  {
   "cell_type": "code",
   "execution_count": null,
   "metadata": {},
   "outputs": [],
   "source": [
    "initial_state = pscene.initialize_state(crob.home_pose)\n",
    "print(initial_state.node)"
   ]
  },
  {
   "cell_type": "code",
   "execution_count": null,
   "metadata": {},
   "outputs": [],
   "source": []
  },
  {
   "cell_type": "markdown",
   "metadata": {},
   "source": [
    "## 4.2 MotionPlanner"
   ]
  },
  {
   "cell_type": "markdown",
   "metadata": {},
   "source": [
    "##### MoveitPlanner\n",
    "* *get_available_binding_dict()* gets available binding states for each subject in a dictionary\n",
    "* *sample_leaf_state samples()* target state with given available_binding_dict and target node\n",
    "* *rebind_all()* updates binding state and returns the resultant state\n",
    "* The motions tested in this section are:\n",
    "  - pick: move the object to \"gripper\"\n",
    "  - place: move the object to \"goal\"\n",
    "  - sweep: \n",
    "    1) approach to waypoint 1\n",
    "    2) sweep to waypoint 2\n",
    "    3) return to home pose"
   ]
  },
  {
   "cell_type": "code",
   "execution_count": null,
   "metadata": {},
   "outputs": [],
   "source": [
    "from pkg.planning.motion.moveit.moveit_planner import MoveitPlanner\n",
    "mplan = MoveitPlanner(pscene)"
   ]
  },
  {
   "cell_type": "code",
   "execution_count": null,
   "metadata": {},
   "outputs": [],
   "source": [
    "from pkg.planning.motion.moveit.moveit_py import ConstrainedSpaceType, PlannerConfig"
   ]
  },
  {
   "cell_type": "code",
   "execution_count": null,
   "metadata": {},
   "outputs": [],
   "source": [
    "gscene.show_pose(crob.home_pose)"
   ]
  },
  {
   "cell_type": "code",
   "execution_count": null,
   "metadata": {},
   "outputs": [],
   "source": []
  },
  {
   "cell_type": "markdown",
   "metadata": {},
   "source": [
    "# Comparison test - grasp-reaching motion"
   ]
  },
  {
   "cell_type": "code",
   "execution_count": null,
   "metadata": {
    "scrolled": true
   },
   "outputs": [],
   "source": [
    "gtimer=GlobalTimer.instance()\n",
    "gtimer.reset()\n",
    "# grip 1 - reach the first waypoint\n",
    "from_state = initial_state.copy(pscene)\n",
    "from_state.Q = crob.home_pose\n",
    "to_node = (\"gripper\", 0)\n",
    "LOOP_MAX = 50\n",
    "for i_loop in range(LOOP_MAX):\n",
    "    available_binding_dict = pscene.get_available_binding_dict(from_state, to_node)\n",
    "    available_binding_dict = {'box1': [('handle2', 'grip0', 'gripper')],\n",
    "                              'sweep': [(None, None, None)]}\n",
    "    to_state, redundancy_dict = pscene.sample_leaf_state(from_state, available_binding_dict, to_node)\n",
    "    for vv in redundancy_dict.values():\n",
    "        for v in vv.values():\n",
    "            v['w']=np.random.uniform(-np.pi/16, np.pi/16)\n",
    "    with gtimer.block(\"BKPIECEkConfigDefault\", stack=True):\n",
    "        Traj, LastQ, error, success, binding_list = mplan.plan_transition(from_state, to_state, redundancy_dict, timeout=3, \n",
    "                                                                          plannerconfig=PlannerConfig.BKPIECEkConfigDefault)\n",
    "    with gtimer.block(\"KPIECEkConfigDefault\", stack=True):\n",
    "        Traj, LastQ, error, success, binding_list = mplan.plan_transition(from_state, to_state, redundancy_dict, timeout=3, \n",
    "                                                                          plannerconfig=PlannerConfig.KPIECEkConfigDefault)\n",
    "    with gtimer.block(\"RRTkConfigDefault\", stack=True):\n",
    "        Traj, LastQ, error, success, binding_list = mplan.plan_transition(from_state, to_state, redundancy_dict, timeout=3, \n",
    "                                                                          plannerconfig=PlannerConfig.RRTkConfigDefault)\n",
    "    with gtimer.block(\"RRTConnectkConfigDefault\", stack=True):\n",
    "        Traj, LastQ, error, success, binding_list = mplan.plan_transition(from_state, to_state, redundancy_dict, timeout=3, \n",
    "                                                                          plannerconfig=PlannerConfig.RRTConnectkConfigDefault)\n",
    "    end_state = pscene.rebind_all(binding_list, LastQ)\n",
    "    home_state = end_state.copy(pscene)\n",
    "    home_state.Q = crob.home_pose\n",
    "    with gtimer.block(\"HOME-BKPIECEkConfigDefault\", stack=True):\n",
    "        Traj, LastQ, error, success, binding_list = mplan.plan_transition(end_state, home_state, redundancy_dict, timeout=3, \n",
    "                                                                          plannerconfig=PlannerConfig.BKPIECEkConfigDefault)\n",
    "    with gtimer.block(\"HOME-KPIECEkConfigDefault\", stack=True):\n",
    "        Traj, LastQ, error, success, binding_list = mplan.plan_transition(end_state, home_state, redundancy_dict, timeout=3, \n",
    "                                                                          plannerconfig=PlannerConfig.KPIECEkConfigDefault)\n",
    "    with gtimer.block(\"HOME-RRTkConfigDefault\", stack=True):\n",
    "        Traj, LastQ, error, success, binding_list = mplan.plan_transition(end_state, home_state, redundancy_dict, timeout=3, \n",
    "                                                                          plannerconfig=PlannerConfig.RRTkConfigDefault)\n",
    "    with gtimer.block(\"HOME-RRTConnectkConfigDefault\", stack=True):\n",
    "        Traj, LastQ, error, success, binding_list = mplan.plan_transition(end_state, home_state, redundancy_dict, timeout=3, \n",
    "                                                                          plannerconfig=PlannerConfig.RRTConnectkConfigDefault)\n",
    "    print(\"=== loop count = {} / {} ===\".format(i_loop, LOOP_MAX))\n",
    "if success:\n",
    "    pscene.set_object_state(from_state)\n",
    "    gscene.show_motion(Traj, period=0.01)\n",
    "    sweep1_state = pscene.rebind_all(binding_list, LastQ)\n",
    "else:\n",
    "    print(\"Solution not found. Please try again, try to find error if it keeps failing.\")\n",
    "#     raise(RuntimeError(\"Motion plan failure\"))\n",
    "print(gtimer)"
   ]
  },
  {
   "cell_type": "code",
   "execution_count": null,
   "metadata": {},
   "outputs": [],
   "source": [
    "print(gtimer)"
   ]
  },
  {
   "cell_type": "code",
   "execution_count": null,
   "metadata": {
    "scrolled": true
   },
   "outputs": [],
   "source": [
    "KEY_LIST = []\n",
    "for k, v in gtimer.timelist_dict.items():\n",
    "    v = sorted(v)[:int(len(v)*0.9)]\n",
    "    plt.plot(np.arange(len(v))+1, sorted(v), 'o')\n",
    "    KEY_LIST.append(k)\n",
    "    print(\"{} - {} ms\".format(k, np.mean(v)))\n",
    "plt.legend(KEY_LIST)\n",
    "plt.grid()"
   ]
  },
  {
   "cell_type": "code",
   "execution_count": null,
   "metadata": {},
   "outputs": [],
   "source": [
    "KEY_LIST = []\n",
    "for k, v in gtimer.timelist_dict.items():\n",
    "    v = sorted(v)[int(len(v)*0.9):]\n",
    "    plt.plot(np.arange(len(v))+1, sorted(v), 'o')\n",
    "    KEY_LIST.append(k)\n",
    "    print(\"{} - {} ms\".format(k, np.mean(v)))\n",
    "plt.legend(KEY_LIST)\n",
    "plt.grid()"
   ]
  },
  {
   "cell_type": "markdown",
   "metadata": {},
   "source": [
    "#### grasp-reaching motion times\n",
    "* without STOMP\n",
    "```\n",
    "BKPIECEkConfigDefault: \t17848.1 ms/50 = 357.0 ms (130.861/1005.99)\n",
    "RRTkConfigDefault: \t33170.2 ms/50 = 663.4 ms (57.732/1007.893)\n",
    "RRTConnectkConfigDefault: \t12987.8 ms/50 = 259.8 ms (54.521/1006.136)\n",
    "```\n",
    "* with STOMP\n",
    "```\n",
    "BKPIECEkConfigDefault: \t43703.2 ms/50 = 874.1 ms (294.829/6632.013)\n",
    "RRTkConfigDefault: \t50027.4 ms/50 = 1000.5 ms (193.122/6222.588)\n",
    "RRTConnectkConfigDefault: \t27541.5 ms/50 = 550.8 ms (205.684/3773.618)\n",
    "```"
   ]
  },
  {
   "cell_type": "markdown",
   "metadata": {},
   "source": [
    "### visualize trajectory"
   ]
  },
  {
   "cell_type": "code",
   "execution_count": null,
   "metadata": {},
   "outputs": [],
   "source": [
    "gtimer=GlobalTimer.instance()\n",
    "gtimer.reset()\n",
    "# grip 1 - reach the first waypoint\n",
    "from_state = initial_state.copy(pscene)\n",
    "from_state.Q = crob.home_pose\n",
    "to_node = (\"gripper\", 0)\n",
    "available_binding_dict = pscene.get_available_binding_dict(from_state, to_node)\n",
    "available_binding_dict = {'box1': [('handle2', 'grip0', 'gripper')],\n",
    "                          'sweep': [(None, None, None)]}\n",
    "to_state, redundancy_dict = pscene.sample_leaf_state(from_state, available_binding_dict, to_node)\n",
    "with gtimer.block(\"RRTConnectkConfigDefault\"):\n",
    "    Traj, LastQ, error, success, binding_list = mplan.plan_transition(from_state, to_state, redundancy_dict, timeout=3, \n",
    "                                                                      plannerconfig=PlannerConfig.RRTConnectkConfigDefault)\n",
    "gscene.clear_highlight()\n",
    "gscene.show_motion(Traj, period=0.05)\n",
    "sweep_face.draw_traj_coords(Traj, \"traj_{}\".format(sweep_face.name))"
   ]
  },
  {
   "cell_type": "code",
   "execution_count": null,
   "metadata": {},
   "outputs": [],
   "source": [
    "gscene.show_pose(Traj[-2])"
   ]
  },
  {
   "cell_type": "code",
   "execution_count": null,
   "metadata": {},
   "outputs": [],
   "source": [
    "gscene.show_pose((Traj[-1]+Traj[-2])/2)"
   ]
  },
  {
   "cell_type": "code",
   "execution_count": null,
   "metadata": {},
   "outputs": [],
   "source": [
    "gscene.show_pose(Traj[-1])"
   ]
  },
  {
   "cell_type": "code",
   "execution_count": null,
   "metadata": {},
   "outputs": [],
   "source": []
  },
  {
   "cell_type": "markdown",
   "metadata": {},
   "source": [
    "### check default"
   ]
  },
  {
   "cell_type": "code",
   "execution_count": null,
   "metadata": {
    "scrolled": true
   },
   "outputs": [],
   "source": [
    "gtimer=GlobalTimer.instance()\n",
    "gtimer.reset()\n",
    "from_state = sweep1_state.copy(pscene)\n",
    "to_node = (\"floor\", 2)\n",
    "available_binding_dict = pscene.get_available_binding_dict(from_state, to_node)\n",
    "to_state, redundancy_dict = pscene.sample_leaf_state(from_state, available_binding_dict, to_node)\n",
    "for _ in range(10):\n",
    "    gtimer.tic(\"default\")\n",
    "    Traj, LastQ, error, success, binding_list = mplan.plan_transition(from_state, to_state, redundancy_dict, timeout=10)\n",
    "    gtimer.toc(\"default\", stack=True)\n",
    "print(gtimer)"
   ]
  },
  {
   "cell_type": "code",
   "execution_count": null,
   "metadata": {},
   "outputs": [],
   "source": []
  },
  {
   "cell_type": "code",
   "execution_count": null,
   "metadata": {},
   "outputs": [],
   "source": []
  },
  {
   "cell_type": "code",
   "execution_count": null,
   "metadata": {},
   "outputs": [],
   "source": []
  },
  {
   "cell_type": "code",
   "execution_count": null,
   "metadata": {},
   "outputs": [],
   "source": []
  },
  {
   "cell_type": "code",
   "execution_count": null,
   "metadata": {},
   "outputs": [],
   "source": []
  },
  {
   "cell_type": "markdown",
   "metadata": {},
   "source": [
    "# Compare post-processing"
   ]
  },
  {
   "cell_type": "markdown",
   "metadata": {},
   "source": [
    "### prepare clearance checker"
   ]
  },
  {
   "cell_type": "code",
   "execution_count": null,
   "metadata": {},
   "outputs": [],
   "source": [
    "from pkg.utils.joint_utils import get_T_dict_foward\n",
    "from pkg.utils.gjk import get_point_list, set_point_list, get_gjk_distance\n",
    "\n",
    "def get_dists(gscene, geo_list_1, geo_list_2, Q_dict):\n",
    "    T_dict = get_T_dict_foward(\"base_link\", gscene.link_names, Q_dict, gscene.urdf_content)\n",
    "\n",
    "    object_vertice_list = []\n",
    "    for obj_geo in geo_list_1:\n",
    "        T = np.matmul(T_dict[obj_geo.link_name], obj_geo.Toff)\n",
    "        verts, radius = obj_geo.get_vertice_radius()\n",
    "        verts = np.matmul(verts, T[:3 ,:3].transpose() ) +T[:3 ,3]\n",
    "        vert_point_list = get_point_list(verts)\n",
    "        object_vertice_list.append((vert_point_list, radius))\n",
    "\n",
    "    clearance_vertice_list = []\n",
    "    for gtem_clr in geo_list_2:\n",
    "        T = np.matmul(T_dict[gtem_clr.link_name], gtem_clr.Toff)\n",
    "        verts, radius = gtem_clr.get_vertice_radius()\n",
    "        verts = np.matmul(verts, T[:3 ,:3].transpose() ) +T[:3 ,3]\n",
    "        vert_point_list = get_point_list(verts)\n",
    "        clearance_vertice_list.append((vert_point_list, radius))\n",
    "\n",
    "    dist_list = []\n",
    "    for clear_vertice, clear_radius in clearance_vertice_list:\n",
    "        for object_vertice, object_radius in object_vertice_list:\n",
    "            dist_list.append(get_gjk_distance(clear_vertice, object_vertice) - clear_radius - object_radius)\n",
    "    return dist_list\n",
    "\n",
    "get_dist_tmp = lambda Q: get_dists(gscene, \n",
    "                                                   [gtem for gtem in gscene if \"indy\" in gtem.link_name \n",
    "                                                                                           and \"indy0_link0\" not in gtem.link_name \n",
    "                                                                                           and \"indy0_link1\" not in gtem.link_name \n",
    "                                                                                           and gtem.collision], \n",
    "                                                   [gtem for gtem in gscene if \"indy\" not in gtem.link_name and gtem.collision], list2dict(Q, crob.joint_names))"
   ]
  },
  {
   "cell_type": "markdown",
   "metadata": {},
   "source": [
    "## Prepare Postprocessing states"
   ]
  },
  {
   "cell_type": "code",
   "execution_count": null,
   "metadata": {
    "scrolled": true
   },
   "outputs": [],
   "source": [
    "gtimer=GlobalTimer.instance()\n",
    "gtimer.reset(scale=1.0, timeunit='s')\n",
    "# grip 1 - reach the first waypoint\n",
    "from_state = initial_state.copy(pscene)\n",
    "from_state.Q = crob.home_pose\n",
    "to_node = (\"gripper\", 0)\n",
    "to_state_list = []\n",
    "for _ in range(50):\n",
    "    available_binding_dict = pscene.get_available_binding_dict(from_state, to_node)\n",
    "    available_binding_dict = {'box1': [('handle2', 'grip0', 'gripper')],\n",
    "                              'sweep': [(None, None, None)]}\n",
    "    to_state, redundancy_dict = pscene.sample_leaf_state(from_state, available_binding_dict, to_node)\n",
    "    for vv in redundancy_dict.values():\n",
    "        for v in vv.values():\n",
    "            v['w']=np.random.uniform(-np.pi/8, np.pi/8)\n",
    "    for i in range(10):\n",
    "        Traj, LastQ, error, success, binding_list = mplan.plan_transition(from_state, to_state, redundancy_dict, timeout=3, \n",
    "                                                                          plannerconfig=PlannerConfig.RRTConnectkConfigDefault)\n",
    "        if success:\n",
    "            break\n",
    "    to_state = from_state.copy(pscene)\n",
    "    to_state.Q = LastQ\n",
    "    to_state_list.append(to_state)"
   ]
  },
  {
   "cell_type": "code",
   "execution_count": null,
   "metadata": {},
   "outputs": [],
   "source": [
    "results_dict = defaultdict(list)\n",
    "traj_dict = defaultdict(list)\n",
    "dist_dict = defaultdict(list)"
   ]
  },
  {
   "cell_type": "code",
   "execution_count": null,
   "metadata": {},
   "outputs": [],
   "source": []
  },
  {
   "cell_type": "markdown",
   "metadata": {},
   "source": [
    "# post-optimizing with CHOMP\n",
    "***[IMPORTANT]*** Set last item of request_adapters in robots/planning_assets.yaml to chomp/OptimizerAdapter!!"
   ]
  },
  {
   "cell_type": "code",
   "execution_count": null,
   "metadata": {},
   "outputs": [],
   "source": [
    "mplan = MoveitPlanner(pscene)"
   ]
  },
  {
   "cell_type": "code",
   "execution_count": null,
   "metadata": {},
   "outputs": [],
   "source": [
    "to_state = np.random.choice(to_state_list)\n",
    "Traj, LastQ, error, success, binding_list = mplan.plan_transition(from_state, to_state, redundancy_dict, timeout=10, \n",
    "                                                                  plannerconfig=PlannerConfig.RRTConnectkConfigDefault, post_opt=True)\n",
    "gscene.show_motion(Traj, period=0.01)"
   ]
  },
  {
   "cell_type": "code",
   "execution_count": null,
   "metadata": {},
   "outputs": [],
   "source": [
    "gripper.draw_traj_coords(Traj[::5], \"traj_{}\".format(gripper.name))\n",
    "print(len(Traj))"
   ]
  },
  {
   "cell_type": "code",
   "execution_count": null,
   "metadata": {},
   "outputs": [],
   "source": [
    "gscene.clear_highlight()"
   ]
  },
  {
   "cell_type": "code",
   "execution_count": null,
   "metadata": {},
   "outputs": [],
   "source": [
    "results_dict = defaultdict(list)\n",
    "traj_dict = defaultdict(list)\n",
    "dist_dict = defaultdict(list)"
   ]
  },
  {
   "cell_type": "code",
   "execution_count": null,
   "metadata": {
    "scrolled": true
   },
   "outputs": [],
   "source": [
    "for to_state in to_state_list:\n",
    "    with gtimer.block(\"RRTConnect\", stack=True):\n",
    "        Traj, LastQ, error, success, binding_list = mplan.plan_transition(from_state, to_state, redundancy_dict, timeout=10, \n",
    "                                                                          plannerconfig=PlannerConfig.RRTConnectkConfigDefault)\n",
    "    results_dict[\"RRTConnect\"].append(success)\n",
    "    if success:\n",
    "        t_all, Traj = calc_safe_trajectory(2e-2, simplify_traj(Traj), vel_lims=0.5, acc_lims=0.5)\n",
    "        traj_dict[\"RRTConnect\"].append(sum(np.linalg.norm(Traj[1:]-Traj[:-1], axis=-1)))\n",
    "        dist_dict[\"RRTConnect\"].append(np.min([np.min(get_dist_tmp(Q)) for Q in Traj]))\n",
    "    else:\n",
    "        traj_dict[\"RRTConnect\"].append(0)\n",
    "        dist_dict[\"RRTConnect\"].append(0)\n",
    "        \n",
    "    with gtimer.block(\"RRTConnect_CHOMP\", stack=True):\n",
    "        Traj, LastQ, error, success, binding_list = mplan.plan_transition(from_state, to_state, redundancy_dict, timeout=10, \n",
    "                                                                          plannerconfig=PlannerConfig.RRTConnectkConfigDefault, \n",
    "                                                                          post_opt=True)\n",
    "    results_dict[\"RRTConnect_CHOMP\"].append(success)\n",
    "    if success:\n",
    "        t_all, Traj = calc_safe_trajectory(2e-2, simplify_traj(Traj), vel_lims=0.5, acc_lims=0.5)\n",
    "        traj_dict[\"RRTConnect_CHOMP\"].append(sum(np.linalg.norm(Traj[1:]-Traj[:-1], axis=-1)))\n",
    "        dist_dict[\"RRTConnect_CHOMP\"].append(np.min([np.min(get_dist_tmp(Q)) for Q in Traj]))\n",
    "    else:\n",
    "        traj_dict[\"RRTConnect_CHOMP\"].append(0)\n",
    "        dist_dict[\"RRTConnect_CHOMP\"].append(0)\n",
    "    print(\"-------------------------------\")"
   ]
  },
  {
   "cell_type": "code",
   "execution_count": null,
   "metadata": {},
   "outputs": [],
   "source": [
    "print(\"=== [results] ===\")\n",
    "for k, v in results_dict.items():\n",
    "    print(\"{}: {}\".format(k, np.round(np.mean(v), 2)))\n",
    "print(\"=== [Min/Median/Mean/Max time] ===\")\n",
    "for k, v in gtimer.timelist_dict.items():\n",
    "    v= np.array(v)[np.where(results_dict[k])[0]]\n",
    "    print(\"{}: {} / {} / {} / {}\".format(k, \n",
    "                                         np.round(np.min(v), 2), np.round(np.median(v), 2), \n",
    "                                         np.round(np.mean(v), 2), np.round(np.max(v), 2)))\n",
    "print(\"=== [Min/Median/Mean/Max path] ===\")\n",
    "for k, v in traj_dict.items():\n",
    "    v= np.array(v)[np.where(results_dict[k])[0]]\n",
    "    print(\"{}: {} / {} / {} / {}\".format(k, \n",
    "                                         np.round(np.min(v), 2), np.round(np.median(v), 2), \n",
    "                                         np.round(np.mean(v), 2), np.round(np.max(v), 2)))\n",
    "print(\"=== [Min/Median/Mean/Max dist] ===\")\n",
    "for k, v in dist_dict.items():\n",
    "    v= np.array(v)[np.where(results_dict[k])[0]]*1000\n",
    "    print(\"{}: {} / {} / {} / {}\".format(k, \n",
    "                                         np.round(np.min(v), 2), np.round(np.median(v), 2), \n",
    "                                         np.round(np.mean(v), 2), np.round(np.max(v), 2)))"
   ]
  },
  {
   "cell_type": "code",
   "execution_count": null,
   "metadata": {},
   "outputs": [],
   "source": []
  },
  {
   "cell_type": "code",
   "execution_count": null,
   "metadata": {
    "scrolled": true
   },
   "outputs": [],
   "source": [
    "Traj, LastQ, error, success, binding_list = mplan.plan_transition(from_state, to_state, redundancy_dict, timeout=10, \n",
    "                                                                  plannerconfig=PlannerConfig.RRTConnectkConfigDefault)\n",
    "t_all, Traj_safe = calc_safe_trajectory(2e-2, simplify_traj(Traj), vel_lims=0.5, acc_lims=0.5)\n",
    "gscene.show_motion(Traj_safe, period=0.001)"
   ]
  },
  {
   "cell_type": "code",
   "execution_count": null,
   "metadata": {
    "scrolled": true
   },
   "outputs": [],
   "source": [
    "import matplotlib.pyplot as plt\n",
    "dist_mm = np.multiply(1e3, [np.min(get_dist_tmp(Q)) for Q in Traj_safe])\n",
    "plt.plot(dist_mm)\n",
    "plt.grid()\n",
    "print(np.min(dist_mm))"
   ]
  },
  {
   "cell_type": "code",
   "execution_count": null,
   "metadata": {
    "scrolled": true
   },
   "outputs": [],
   "source": [
    "Traj, LastQ, error, success, binding_list = mplan.plan_transition(from_state, to_state, redundancy_dict, timeout=10, \n",
    "                                                                  plannerconfig=PlannerConfig.RRTConnectkConfigDefault, post_opt=True)\n",
    "t_all, Traj_safe_opt = calc_safe_trajectory(2e-2, simplify_traj(Traj), vel_lims=0.5, acc_lims=0.5)\n",
    "gscene.show_motion(Traj_safe_opt, period=0.001)"
   ]
  },
  {
   "cell_type": "code",
   "execution_count": null,
   "metadata": {
    "scrolled": true
   },
   "outputs": [],
   "source": [
    "import matplotlib.pyplot as plt\n",
    "dist_mm = np.multiply(1e3, [np.min(get_dist_tmp(Q)) for Q in Traj_safe_opt])\n",
    "plt.plot(dist_mm)\n",
    "plt.grid()\n",
    "print(np.min(dist_mm))"
   ]
  },
  {
   "cell_type": "code",
   "execution_count": null,
   "metadata": {},
   "outputs": [],
   "source": [
    "# gscene.clear_highlight()\n",
    "# gripper.draw_traj_coords(Traj, \"traj_{}\".format(gripper.name))\n",
    "# print(len(Traj))"
   ]
  },
  {
   "cell_type": "code",
   "execution_count": null,
   "metadata": {},
   "outputs": [],
   "source": []
  },
  {
   "cell_type": "markdown",
   "metadata": {},
   "source": [
    "# post-optimizing with STOMP\n",
    "***[IMPORTANT]*** Set last item of request_adapters in robots/planning_assets.yaml to stomp_moveit/StompSmoothingAdapter!!"
   ]
  },
  {
   "cell_type": "code",
   "execution_count": null,
   "metadata": {},
   "outputs": [],
   "source": [
    "mplan = MoveitPlanner(pscene)"
   ]
  },
  {
   "cell_type": "code",
   "execution_count": null,
   "metadata": {
    "scrolled": true
   },
   "outputs": [],
   "source": [
    "for to_state in to_state_list:\n",
    "    with gtimer.block(\"RRTConnect_STOMP\", stack=True):\n",
    "        Traj, LastQ, error, success, binding_list = mplan.plan_transition(from_state, to_state, redundancy_dict, timeout=10, \n",
    "                                                                          plannerconfig=PlannerConfig.RRTConnectkConfigDefault, post_opt=True)\n",
    "    results_dict[\"RRTConnect_STOMP\"].append(success)\n",
    "    if success:\n",
    "        traj_dict[\"RRTConnect_STOMP\"].append(sum(np.linalg.norm(Traj[1:]-Traj[:-1], axis=-1)))\n",
    "        dist_dict[\"RRTConnect_STOMP\"].append(np.min([np.min(get_dist_tmp(Q)) for Q in Traj]))\n",
    "    else:\n",
    "        traj_dict[\"RRTConnect_STOMP\"].append(0)\n",
    "        dist_dict[\"RRTConnect_STOMP\"].append(0)\n",
    "    print(\"-------------------------------\")"
   ]
  },
  {
   "cell_type": "code",
   "execution_count": null,
   "metadata": {},
   "outputs": [],
   "source": [
    "Traj, LastQ, error, success, binding_list = mplan.plan_transition(from_state, to_state, redundancy_dict, timeout=10, \n",
    "                                                                  plannerconfig=PlannerConfig.RRTConnectkConfigDefault, post_opt=True)\n",
    "gscene.show_motion(Traj, period=0.01)"
   ]
  },
  {
   "cell_type": "code",
   "execution_count": null,
   "metadata": {},
   "outputs": [],
   "source": []
  },
  {
   "cell_type": "markdown",
   "metadata": {},
   "source": [
    "# optimal path planning with RRT*"
   ]
  },
  {
   "cell_type": "code",
   "execution_count": null,
   "metadata": {
    "scrolled": true
   },
   "outputs": [],
   "source": [
    "from_state = initial_state.copy(pscene)\n",
    "from_state.Q = crob.home_pose\n",
    "to_node = (\"gripper\", 0)\n",
    "for to_state in to_state_list:\n",
    "    with gtimer.block(\"RRTstar\", stack=True):\n",
    "        Traj, LastQ, error, success, binding_list = mplan.plan_transition(from_state, to_state, redundancy_dict, timeout=30, \n",
    "                                                                          plannerconfig=PlannerConfig.RRTstarkConfigDefault)\n",
    "    results_dict[\"RRTstar\"].append(success)\n",
    "    if success:\n",
    "        traj_dict[\"RRTstar\"].append(sum(np.linalg.norm(Traj[1:]-Traj[:-1], axis=-1)))\n",
    "        dist_dict[\"RRTstar\"].append(np.min([np.min(get_dist_tmp(Q)) for Q in Traj]))\n",
    "    else:\n",
    "        traj_dict[\"RRTstar\"].append(0)\n",
    "        dist_dict[\"RRTstar\"].append(0)\n",
    "    print(\"-------------------------------\")"
   ]
  },
  {
   "cell_type": "code",
   "execution_count": null,
   "metadata": {},
   "outputs": [],
   "source": [
    "Traj, LastQ, error, success, binding_list = mplan.plan_transition(from_state, to_state, redundancy_dict, timeout=10, \n",
    "                                                                  plannerconfig=PlannerConfig.RRTConnectkConfigDefault, post_opt=True)\n",
    "gscene.show_motion(Traj, period=0.01)"
   ]
  },
  {
   "cell_type": "code",
   "execution_count": null,
   "metadata": {},
   "outputs": [],
   "source": []
  },
  {
   "cell_type": "code",
   "execution_count": null,
   "metadata": {},
   "outputs": [],
   "source": [
    "print(\"=== [results] ===\")\n",
    "for k, v in results_dict.items():\n",
    "    print(\"{}: {}\".format(k, np.round(np.mean(v), 2)))\n",
    "print(\"=== [Min/Median/Mean/Max time] ===\")\n",
    "for k, v in gtimer.timelist_dict.items():\n",
    "    v= np.array(v)[np.where(results_dict[k])[0]]\n",
    "    print(\"{}: {} / {} / {} / {}\".format(k, \n",
    "                                         np.round(np.min(v), 2), np.round(np.median(v), 2), \n",
    "                                         np.round(np.mean(v), 2), np.round(np.max(v), 2)))\n",
    "print(\"=== [Min/Median/Mean/Max path] ===\")\n",
    "for k, v in traj_dict.items():\n",
    "    v= np.array(v)[np.where(results_dict[k])[0]]\n",
    "    print(\"{}: {} / {} / {} / {}\".format(k, \n",
    "                                         np.round(np.min(v), 2), np.round(np.median(v), 2), \n",
    "                                         np.round(np.mean(v), 2), np.round(np.max(v), 2)))\n",
    "print(\"=== [Min/Median/Mean/Max dist] ===\")\n",
    "for k, v in dist_dict.items():\n",
    "    v= np.array(v)[np.where(results_dict[k])[0]]*1000\n",
    "    print(\"{}: {} / {} / {} / {}\".format(k, \n",
    "                                         np.round(np.min(v), 2), np.round(np.median(v), 2), \n",
    "                                         np.round(np.mean(v), 2), np.round(np.max(v), 2)))"
   ]
  },
  {
   "cell_type": "code",
   "execution_count": null,
   "metadata": {},
   "outputs": [],
   "source": []
  },
  {
   "cell_type": "markdown",
   "metadata": {},
   "source": [
    "### for record, time step comparison"
   ]
  },
  {
   "cell_type": "code",
   "execution_count": null,
   "metadata": {},
   "outputs": [],
   "source": [
    "print(\"TIMESTEP 100\")\n",
    "print(\"=== [Mean time] ===\")\n",
    "print(gtimer)\n",
    "print(\"=== [Median time] ===\")\n",
    "for k, v in gtimer.timelist_dict.items():\n",
    "    print(\"{}: {}\".format(k, np.round(np.median(v), 2)))\n",
    "print(\"=== [results] ===\")\n",
    "for k, v in results_dict.items():\n",
    "    print(\"{}: {}\".format(k, np.round(np.mean(v), 2)))"
   ]
  },
  {
   "cell_type": "code",
   "execution_count": null,
   "metadata": {
    "scrolled": true
   },
   "outputs": [],
   "source": [
    "print(\"STOMP TIMESTEP 5\")\n",
    "print(\"=== [Mean time] ===\")\n",
    "print(gtimer)\n",
    "print(\"=== [Median time] ===\")\n",
    "for k, v in gtimer.timelist_dict.items():\n",
    "    print(\"{}: {}\".format(k, np.round(np.median(v), 2)))\n",
    "print(\"=== [results] ===\")\n",
    "for k, v in results_dict.items():\n",
    "    print(\"{}: {}\".format(k, np.round(np.mean(v), 2)))"
   ]
  },
  {
   "cell_type": "code",
   "execution_count": null,
   "metadata": {},
   "outputs": [],
   "source": []
  },
  {
   "cell_type": "markdown",
   "metadata": {},
   "source": [
    "# Test TrajOpt - Fail: bad_function_call"
   ]
  },
  {
   "cell_type": "code",
   "execution_count": null,
   "metadata": {},
   "outputs": [],
   "source": [
    "gtimer=GlobalTimer.instance()\n",
    "gtimer.reset(scale=1.0, timeunit='s')\n",
    "# grip 1 - reach the first waypoint\n",
    "from_state = initial_state.copy(pscene)\n",
    "from_state.Q = crob.home_pose\n",
    "to_node = (\"gripper\", 0)\n",
    "results_dict = defaultdict(list)\n",
    "for _ in range(1):\n",
    "    available_binding_dict = pscene.get_available_binding_dict(from_state, to_node)\n",
    "    available_binding_dict = {'box1': [('handle2', 'grip0', 'gripper')],\n",
    "                              'sweep': [(None, None, None)]}\n",
    "    to_state, redundancy_dict = pscene.sample_leaf_state(from_state, available_binding_dict, to_node)\n",
    "    for vv in redundancy_dict.values():\n",
    "        for v in vv.values():\n",
    "            v['w']=np.random.uniform(-np.pi/16, np.pi/16)\n",
    "    for i in range(10):\n",
    "        Traj, LastQ, error, success, binding_list = mplan.plan_transition(from_state, to_state, redundancy_dict, timeout=3, \n",
    "                                                                          plannerconfig=PlannerConfig.RRTConnectkConfigDefault)\n",
    "        if success:\n",
    "            break\n",
    "    with gtimer.block(\"TrajOptDefault\"):\n",
    "        Traj, LastQ, error, success, binding_list = mplan.plan_transition(from_state, to_state, redundancy_dict, timeout=30, \n",
    "                                                                          plannerconfig=PlannerConfig.TrajOptDefault)\n",
    "        results_dict[\"TrajOptDefault\"].append(success)\n",
    "    print(\"-------------------------------\")\n",
    "if success:\n",
    "    pscene.set_object_state(from_state)\n",
    "    gscene.show_motion(Traj, period=0.01)\n",
    "    sweep1_state = pscene.rebind_all(binding_list, LastQ)\n",
    "else:\n",
    "    print(\"Solution not found. Please try again, try to find error if it keeps failing.\")\n",
    "#     raise(RuntimeError(\"Motion plan failure\"))\n",
    "print(\"\")\n",
    "print(\"============= [Timer] =============\")\n",
    "print(gtimer)\n",
    "print(\"============= [Result] =============\")\n",
    "for k, v in results_dict.items():\n",
    "    print(\"{}: {}\".format(k, np.round(np.mean(v), 2)))"
   ]
  },
  {
   "cell_type": "code",
   "execution_count": null,
   "metadata": {},
   "outputs": [],
   "source": []
  },
  {
   "cell_type": "markdown",
   "metadata": {},
   "source": [
    "### test time"
   ]
  },
  {
   "cell_type": "code",
   "execution_count": null,
   "metadata": {},
   "outputs": [],
   "source": [
    "import random\n",
    "from pkg.planning.motion.moveit.moveit_py import ConstrainedSpaceType\n",
    "cs_types = [ConstrainedSpaceType.PROJECTED, ConstrainedSpaceType.ATLAS, ConstrainedSpaceType.TANGENTBUNDLE]"
   ]
  },
  {
   "cell_type": "code",
   "execution_count": null,
   "metadata": {},
   "outputs": [],
   "source": [
    "gtimer = GlobalTimer.instance()\n",
    "gtimer.reset()\n",
    "# sweep motion 2 - sweep \"floor\" to the second waypoint. Constrained motion planning takes longer time\n",
    "suc_dict = defaultdict(list)\n",
    "max_dict = defaultdict(list)\n",
    "std_dict = defaultdict(list)\n",
    "time_dict = defaultdict(list)\n",
    "from_state = sweep1_state.copy(pscene)\n",
    "to_node = (\"floor\", 2)\n",
    "available_binding_dict = pscene.get_available_binding_dict(from_state, to_node)\n",
    "to_state, redundancy_dict = pscene.sample_leaf_state(from_state, available_binding_dict, to_node)"
   ]
  },
  {
   "cell_type": "code",
   "execution_count": null,
   "metadata": {
    "scrolled": true
   },
   "outputs": [],
   "source": [
    "for _ in range(10):    \n",
    "    random.shuffle(cs_types)\n",
    "    for cs_type in cs_types:\n",
    "        gtimer.tic(cs_type.name)\n",
    "        Traj, LastQ, error, success, binding_list = mplan.plan_transition(from_state, to_state, redundancy_dict, timeout=10, cs_type=cs_type)\n",
    "        elapsed = gtimer.toc(cs_type.name)\n",
    "        suc_dict[cs_type.name].append(success)\n",
    "        time_dict[cs_type.name].append(elapsed)\n",
    "        if success:\n",
    "            T_ref=floor.get_tf(crob.home_dict)\n",
    "            Z_list = []\n",
    "            for q in Traj:\n",
    "                T_tool=sweep_face.get_tf(list2dict(q, crob.joint_names))\n",
    "                Z_list.append(np.matmul(SE3_inv(T_ref), T_tool)[2,3])\n",
    "            std_dict[cs_type.name].append(np.std(Z_list))\n",
    "            max_dict[cs_type.name].append(np.max(Z_list)-np.min(Z_list))\n",
    "    print(gtimer)"
   ]
  },
  {
   "cell_type": "code",
   "execution_count": null,
   "metadata": {},
   "outputs": [],
   "source": [
    "import matplotlib.pyplot as plt\n",
    "keys = [\"PROJECTED\", \"ATLAS\", \"TANGENTBUNDLE\"]"
   ]
  },
  {
   "cell_type": "code",
   "execution_count": null,
   "metadata": {},
   "outputs": [],
   "source": [
    "plt.figure(figsize=(15,6))\n",
    "for i_k, k in enumerate(keys):\n",
    "    v = time_dict[k]\n",
    "    plt.subplot(1,3,i_k+1)\n",
    "    plt.plot(v, '.')\n",
    "    print(\"time_dict {}: {}\".format(k, np.mean(v)))\n",
    "    print(\"time median {}: {}\".format(k, np.median(v)))"
   ]
  },
  {
   "cell_type": "code",
   "execution_count": null,
   "metadata": {},
   "outputs": [],
   "source": [
    "plt.figure(figsize=(15,6))\n",
    "for i_k, k in enumerate(keys):\n",
    "    v = suc_dict[k]\n",
    "    plt.subplot(1,3,i_k+1)\n",
    "    plt.plot(v, '.')\n",
    "    print(\"suc_dict {}: {}\".format(k, np.mean(v)))"
   ]
  },
  {
   "cell_type": "code",
   "execution_count": null,
   "metadata": {},
   "outputs": [],
   "source": [
    "plt.figure(figsize=(15,6))\n",
    "for i_k, k in enumerate(keys):\n",
    "    v = std_dict[k]\n",
    "    plt.subplot(1,3,i_k+1)\n",
    "    plt.plot(v, '.')\n",
    "    print(\"std_dict {}: {}\".format(k, np.mean(v)))"
   ]
  },
  {
   "cell_type": "code",
   "execution_count": null,
   "metadata": {},
   "outputs": [],
   "source": [
    "plt.figure(figsize=(15,6))\n",
    "for i_k, k in enumerate(keys):\n",
    "    v = max_dict[k]\n",
    "    plt.subplot(1,3,i_k+1)\n",
    "    plt.plot(v, '.')\n",
    "    print(\"max_dict {}: {}\".format(k, np.mean(v)))"
   ]
  },
  {
   "cell_type": "code",
   "execution_count": null,
   "metadata": {},
   "outputs": [],
   "source": []
  }
 ],
 "metadata": {
  "kernelspec": {
   "display_name": "Python 2",
   "language": "python",
   "name": "python2"
  },
  "language_info": {
   "codemirror_mode": {
    "name": "ipython",
    "version": 2
   },
   "file_extension": ".py",
   "mimetype": "text/x-python",
   "name": "python",
   "nbconvert_exporter": "python",
   "pygments_lexer": "ipython2",
   "version": "2.7.17"
  }
 },
 "nbformat": 4,
 "nbformat_minor": 2
}
