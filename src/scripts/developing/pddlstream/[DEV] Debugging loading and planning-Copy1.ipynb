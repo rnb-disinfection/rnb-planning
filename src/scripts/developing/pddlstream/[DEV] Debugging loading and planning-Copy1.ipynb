{
 "cells": [
  {
   "cell_type": "code",
   "execution_count": 1,
   "metadata": {},
   "outputs": [
    {
     "name": "stdout",
     "output_type": "stream",
     "text": [
      "\u001b[91m[WARN] Motion Planning Logging is ON\u001b[0m\n"
     ]
    }
   ],
   "source": [
    "from __future__ import print_function\n",
    "import os\n",
    "import sys\n",
    "from test_arg_utils import *\n",
    "\n",
    "sys.path.append(os.path.join(os.environ[\"RNB_PLANNING_DIR\"], \"src\"))\n",
    "\n",
    "from pkg.utils.test_scripts import *\n",
    "from pkg.planning.pddlstream.plan_rnb import *\n",
    "\n",
    "rtype = \"panda\"\n",
    "dat_root = \"stowing-deep\"\n",
    "res_root = \"stowing-deep-result\"\n",
    "dat_dir = \"20210917-113211\"\n",
    "file_option = \"obj_3c_obs7\"\n",
    "data_idx = 1\n",
    "cname = \"ToolReach\"\n",
    "\n",
    "GRASP_SAMPLE = 30\n",
    "STABLE_SAMPLE = 50\n",
    "\n",
    "IK_TIMEOUT_SINGLE = 0.01\n",
    "IK_TRY_NUM = 10\n",
    "TIMEOUT_MOTION = 3\n",
    "MAX_TIME = 100\n",
    "\n",
    "MAX_ITER = 100\n",
    "MAX_SKELETONS = 30\n",
    "SEARCH_SAMPLE_RATIO = 100\n",
    "\n",
    "USE_MOVEIT_IK = True\n",
    "TIMED_COMPLETE = False\n",
    "\n",
    "VERBOSE = True\n",
    "VISUALIZE = True\n",
    "PLAY_RESULT = True\n",
    "SHOW_STATE = False\n",
    "USE_PYBULLET_GUI = False\n",
    "SAVE_RESULTS = False\n",
    "STACK_TIMELOG= True\n",
    "\n",
    "\n",
    "CLEARANCE = 1e-3\n",
    "TOOL_NAME=\"grip0\"\n",
    "ROBOT_TYPE = {e.name: e for e in RobotType}[rtype]"
   ]
  },
  {
   "cell_type": "code",
   "execution_count": 2,
   "metadata": {},
   "outputs": [
    {
     "name": "stdout",
     "output_type": "stream",
     "text": [
      "--------------------------------------------------\n",
      "DATASET_PATH: /home/rnb/Projects/rnb-planning/data/stowing-deep/panda/20210917-113211\n",
      "RESULTSET_PATH: /home/rnb/Projects/rnb-planning/data/stowing-deep-result/panda/20210917-113211\n",
      "--------------------------------------------------\n",
      "connection command:\n",
      "panda0: False\n",
      "Please create a subscriber to the marker\n",
      "publication OK\n",
      "published: [0, 0, 0, 0, 0, 0, 0]\n",
      "Please create a subscriber to the marker\n",
      "data_obj_3c_obs7_01.pkl\n"
     ]
    }
   ],
   "source": [
    "\n",
    "########################################################\n",
    "################### Create data folders ################\n",
    "DATASET_PATH = create_data_dirs(dat_root, rtype, dat_dir)\n",
    "RESULTSET_PATH = create_data_dirs(res_root, rtype, dat_dir)\n",
    "print(\"-\"*50)\n",
    "print(\"DATASET_PATH: {}\".format(DATASET_PATH))\n",
    "print(\"RESULTSET_PATH: {}\".format(RESULTSET_PATH))\n",
    "print(\"-\"*50)\n",
    "\n",
    "\n",
    "########################################################\n",
    "########## Load scene and prepare planner  #############\n",
    "ROBOT_NAME, TOOL_LINK, TOOL_XYZ, TOOL_RPY, HOME_POSE, GRIP_DEPTH = get_single_robot_params(ROBOT_TYPE)\n",
    "s_builder, pscene = prepare_single_robot_scene(ROBOT_TYPE, ROBOT_NAME, TOOL_LINK, TOOL_XYZ, TOOL_RPY, VISUALIZE=VISUALIZE)\n",
    "crob, gscene = pscene.combined_robot, pscene.gscene\n",
    "crob.home_pose = HOME_POSE\n",
    "crob.home_dict = list2dict(HOME_POSE, gscene.joint_names)\n",
    "\n",
    "fname = \"data_%s_%02d.pkl\" % (file_option, data_idx)\n",
    "print(fname)\n",
    "set_meta_data(\"dat_root\", dat_root)\n",
    "set_meta_data(\"rtype\", rtype)\n",
    "set_meta_data(\"dat_dir\", dat_dir)\n",
    "set_meta_data(\"fname\", fname)\n",
    "\n",
    "\n",
    "file_gtems = os.path.join(DATASET_PATH, fname)\n",
    "initial_state = load_saved_scene(pscene, file_gtems, VISUALIZE=VISUALIZE)\n",
    "\n",
    "gscene.NAME_DICT['obj_0'].color = (1,0,0,1)\n",
    "gscene.update_markers_all()\n",
    "\n",
    "mplan = MoveitPlanner(pscene)\n",
    "checkers = get_checkers_by_case_name(cname, pscene)\n",
    "\n",
    "mplan.motion_filters = checkers\n"
   ]
  },
  {
   "cell_type": "code",
   "execution_count": null,
   "metadata": {},
   "outputs": [],
   "source": []
  },
  {
   "cell_type": "markdown",
   "metadata": {},
   "source": [
    "## Edit scene"
   ]
  },
  {
   "cell_type": "code",
   "execution_count": 3,
   "metadata": {},
   "outputs": [],
   "source": [
    "for i in range(7):\n",
    "    gscene.remove(gscene.NAME_DICT[\"obs{}\".format(i)])"
   ]
  },
  {
   "cell_type": "code",
   "execution_count": 4,
   "metadata": {},
   "outputs": [],
   "source": [
    "obj0 = pscene.subject_dict['obj_0']\n",
    "obj1 = pscene.subject_dict['obj_1']\n",
    "obj2 = pscene.subject_dict['obj_2']\n",
    "\n",
    "del obj0.action_points_dict[\"obj_0_side_g\"].redundancy['x']\n",
    "obj0.action_points_dict[\"obj_0_side_g\"].redundancy['u'] = (np.pi*3/4, np.pi*5/4)\n",
    "del obj1.action_points_dict[\"obj_1_side_g\"].redundancy['x']\n",
    "obj1.action_points_dict[\"obj_1_side_g\"].redundancy['u'] = (np.pi*3/4, np.pi*5/4)\n",
    "del obj2.action_points_dict[\"obj_2_side_g\"].redundancy['x']\n",
    "obj2.action_points_dict[\"obj_2_side_g\"].redundancy['u'] = (np.pi*3/4, np.pi*5/4)\n",
    "\n",
    "obj0.action_points_dict['bottom_p'].redundancy = {}\n",
    "obj1.action_points_dict['bottom_p'].redundancy = {}\n",
    "obj2.action_points_dict['bottom_p'].redundancy = {}\n",
    "\n",
    "wpa=pscene.actor_dict['wp']\n",
    "del wpa.redundancy[\"w\"]\n",
    "gpa=pscene.actor_dict['gp']\n",
    "del gpa.redundancy[\"w\"]\n",
    "\n",
    "grip0 = pscene.actor_dict['grip0']\n",
    "grip0.redundancy = {}\n",
    "# grip0.redundancy = ['w'] = (-0.01,0.01)"
   ]
  },
  {
   "cell_type": "code",
   "execution_count": 5,
   "metadata": {},
   "outputs": [],
   "source": [
    "pscene.set_object_state(initial_state)\n",
    "gscene.update_markers_all()\n",
    "\n",
    "wp = gscene.NAME_DICT[\"wp\"]\n",
    "wp.set_offset_tf(center=np.add(wp.center, (0,0,0.4)))\n",
    "wpa.update_handle()\n",
    "wpb = gscene.NAME_DICT[\"wp_bot\"]\n",
    "wpb.dims = np.subtract(wpb.dims, (0.1, 0.1, 0.0))\n",
    "wpb.set_offset_tf(center=np.add(wpb.center, (0,0,0.4)))\n",
    "wp_ceil = gscene.copy_from(wp, new_name=\"wp_ceil\")\n",
    "wp_ceil.set_offset_tf(center = np.add(wp.center, (0,0,0.3)))\n",
    "\n",
    "gp = gscene.NAME_DICT[\"gp\"]\n",
    "gp.set_offset_tf(center=np.add(gp.center, (0,0,0.2)))\n",
    "gpa.update_handle()\n",
    "gpb = gscene.NAME_DICT[\"gp_bot\"]\n",
    "gpb.set_offset_tf(center=np.add(gpb.center, (0,0,0.2)))\n",
    "\n",
    "gscene.update_markers_all()"
   ]
  },
  {
   "cell_type": "code",
   "execution_count": 6,
   "metadata": {},
   "outputs": [],
   "source": [
    "# pscene.remove_subject(\"obj_1\")\n",
    "# gscene.remove(gscene.NAME_DICT[\"obj_1\"])\n",
    "\n",
    "pscene.remove_subject(\"obj_2\")\n",
    "gscene.remove(gscene.NAME_DICT[\"obj_2\"])"
   ]
  },
  {
   "cell_type": "code",
   "execution_count": 7,
   "metadata": {},
   "outputs": [],
   "source": [
    "# obj0.set_offset_tf(center=[0.29480234, 0.59536386, 0.1798489])\n",
    "sprm = obj0.get_state_param()\n",
    "T = sprm[1]\n",
    "T[:3,:3] = np.identity(3)\n",
    "T[:3,3] = [0.20, 0.50, 0.1798489+0.4]\n",
    "obj0.set_state(obj0.binding, sprm)\n",
    "\n",
    "sprm = obj1.get_state_param()\n",
    "T = sprm[1]\n",
    "T[:3,:3] = np.identity(3)\n",
    "T[:3,3] = (0.15, 0.45, 0.1798489+0.4)\n",
    "obj1.set_state(obj1.binding, sprm)\n",
    "\n",
    "# sprm = obj2.get_state_param()\n",
    "# T = sprm[1]\n",
    "# T[:3,:3] = np.identity(3)\n",
    "# T[:3,3] = (0.40, 0.25, 0.1798489+0.4)\n",
    "# obj2.set_state(obj2.binding, sprm)\n",
    "\n",
    "initial_state = pscene.initialize_state(initial_state.Q, force_fit_binding=True)\n",
    "gscene.update_markers_all()"
   ]
  },
  {
   "cell_type": "code",
   "execution_count": 8,
   "metadata": {},
   "outputs": [],
   "source": [
    "GRASP_SAMPLE = 10\n",
    "STABLE_SAMPLE = 20\n",
    "SEARCH_SAMPLE_RATIO = 100\n",
    "MAX_TIME = 300"
   ]
  },
  {
   "cell_type": "code",
   "execution_count": 9,
   "metadata": {},
   "outputs": [],
   "source": [
    "VERBOSE = True\n",
    "VISUALIZE = True\n",
    "PLAY_RESULT = True\n",
    "SHOW_STATE = False"
   ]
  },
  {
   "cell_type": "code",
   "execution_count": 10,
   "metadata": {},
   "outputs": [],
   "source": [
    "from pkg.planning.motion.interface import MOTION_PATH"
   ]
  },
  {
   "cell_type": "code",
   "execution_count": 13,
   "metadata": {},
   "outputs": [],
   "source": [
    "mfiles = sorted(os.listdir(MOTION_PATH))"
   ]
  },
  {
   "cell_type": "code",
   "execution_count": 76,
   "metadata": {},
   "outputs": [],
   "source": []
  },
  {
   "cell_type": "code",
   "execution_count": 83,
   "metadata": {},
   "outputs": [
    {
     "name": "stdout",
     "output_type": "stream",
     "text": [
      "success: False / True\n"
     ]
    }
   ],
   "source": [
    "# for mfile in mfiles:\n",
    "if True:\n",
    "    mfile = mfiles[1]\n",
    "    mdat = load_pickle(os.path.join(MOTION_PATH, mfile))\n",
    "\n",
    "    from_state = mdat['from_state']\n",
    "    to_state = mdat['to_state']\n",
    "    btf_dict = mdat['btf_dict']\n",
    "    binding_list = mdat['binding_list']\n",
    "    success = mdat['success']\n",
    "    Traj = mdat['Traj']\n",
    "\n",
    "    pscene.set_object_state(from_state)\n",
    "    gscene.update_markers_all()\n",
    "    gscene.show_pose(from_state.Q)\n",
    "    time.sleep(0.5)\n",
    "    gscene.show_pose(to_state.Q)\n",
    "\n",
    "    bd_list, succ = pscene.get_slack_bindings(from_state, to_state)\n",
    "    for bd in bd_list:\n",
    "        pass\n",
    "\n",
    "\n",
    "    print(\"success: {} / {}\".format(success, mplan.validate_trajectory(Traj)))\n",
    "    if success:\n",
    "        gscene.show_motion(Traj, period=0.01)"
   ]
  },
  {
   "cell_type": "code",
   "execution_count": 84,
   "metadata": {},
   "outputs": [
    {
     "data": {
      "text/plain": [
       "(True, True)"
      ]
     },
     "execution_count": 84,
     "metadata": {},
     "output_type": "execute_result"
    }
   ],
   "source": [
    "mplan.validate_trajectory([from_state.Q]), mplan.validate_trajectory([to_state.Q])"
   ]
  },
  {
   "cell_type": "code",
   "execution_count": 93,
   "metadata": {},
   "outputs": [
    {
     "name": "stdout",
     "output_type": "stream",
     "text": [
      "True\n"
     ]
    }
   ],
   "source": [
    "newQ = to_state.Q + [0,0,0,0,0,0,0]\n",
    "gscene.show_pose(newQ)\n",
    "print(mplan.validate_trajectory([newQ]))"
   ]
  },
  {
   "cell_type": "code",
   "execution_count": 123,
   "metadata": {},
   "outputs": [
    {
     "name": "stdout",
     "output_type": "stream",
     "text": [
      "True\n"
     ]
    }
   ],
   "source": [
    "newQ = to_state.Q + [-0.05,-0.2,0,0,0,0,0]\n",
    "gscene.show_pose(newQ)\n",
    "print(mplan.validate_trajectory([newQ]))"
   ]
  },
  {
   "cell_type": "code",
   "execution_count": 124,
   "metadata": {},
   "outputs": [],
   "source": [
    "to_state_n = to_state.copy(pscene)\n",
    "to_state_n.Q = newQ"
   ]
  },
  {
   "cell_type": "code",
   "execution_count": 130,
   "metadata": {},
   "outputs": [
    {
     "name": "stdout",
     "output_type": "stream",
     "text": [
      "True\n"
     ]
    }
   ],
   "source": [
    "traj1, lQ, err, succ = mplan.plan_algorithm(from_state, to_state_n, [], btf_dict, timeout=1)\n",
    "print(succ)"
   ]
  },
  {
   "cell_type": "code",
   "execution_count": 131,
   "metadata": {},
   "outputs": [
    {
     "name": "stdout",
     "output_type": "stream",
     "text": [
      "False\n"
     ]
    }
   ],
   "source": [
    "traj2, lQ, err, succ = mplan.plan_algorithm(to_state_n, to_state, [], btf_dict, timeout=1)\n",
    "print(succ)"
   ]
  },
  {
   "cell_type": "code",
   "execution_count": 134,
   "metadata": {},
   "outputs": [],
   "source": [
    "traj_new = (np.arange(100).astype(np.float)/100)[:, np.newaxis]*(to_state.Q - newQ)[np.newaxis, :]+newQ"
   ]
  },
  {
   "cell_type": "code",
   "execution_count": 135,
   "metadata": {},
   "outputs": [],
   "source": [
    "gscene.show_motion(traj_new)"
   ]
  },
  {
   "cell_type": "code",
   "execution_count": 138,
   "metadata": {},
   "outputs": [
    {
     "data": {
      "text/plain": [
       "True"
      ]
     },
     "execution_count": 138,
     "metadata": {},
     "output_type": "execute_result"
    }
   ],
   "source": [
    "traj_cat = np.concatenate([traj1, traj_new])\n",
    "mplan.validate_trajectory(traj_cat)"
   ]
  },
  {
   "cell_type": "code",
   "execution_count": 141,
   "metadata": {},
   "outputs": [],
   "source": [
    "gscene.show_motion(traj_cat)"
   ]
  },
  {
   "cell_type": "code",
   "execution_count": 142,
   "metadata": {},
   "outputs": [],
   "source": [
    "import matplotlib.pyplot as plt"
   ]
  },
  {
   "cell_type": "code",
   "execution_count": 144,
   "metadata": {},
   "outputs": [],
   "source": [
    "jlims = crob.get_joint_limits()"
   ]
  },
  {
   "cell_type": "code",
   "execution_count": 143,
   "metadata": {},
   "outputs": [
    {
     "data": {
      "text/plain": [
       "[<matplotlib.lines.Line2D at 0x7fc9550ab450>,\n",
       " <matplotlib.lines.Line2D at 0x7fc9550ab550>,\n",
       " <matplotlib.lines.Line2D at 0x7fc9550ab590>,\n",
       " <matplotlib.lines.Line2D at 0x7fc9550ab650>,\n",
       " <matplotlib.lines.Line2D at 0x7fc9550ab710>,\n",
       " <matplotlib.lines.Line2D at 0x7fc9550ab7d0>,\n",
       " <matplotlib.lines.Line2D at 0x7fc9550ab890>]"
      ]
     },
     "execution_count": 143,
     "metadata": {},
     "output_type": "execute_result"
    },
    {
     "data": {
      "image/png": "[encoded data removed]",
      "text/plain": [
       "<Figure size 432x288 with 1 Axes>"
      ]
     },
     "metadata": {
      "needs_background": "light"
     },
     "output_type": "display_data"
    }
   ],
   "source": [
    "plt.plot(traj_cat)"
   ]
  },
  {
   "cell_type": "code",
   "execution_count": 117,
   "metadata": {
    "scrolled": true
   },
   "outputs": [
    {
     "data": {
      "text/plain": [
       "{'grip0': (True, (1, 0, 0, 1)),\n",
       " 'panda0_hand_Box_1': (False, (0, 1, 0, 0.5)),\n",
       " 'panda0_hand_Box_2': (False, (0, 1, 0, 0.5)),\n",
       " 'panda0_hand_Box_3': (False, (0, 1, 0, 0.5)),\n",
       " 'panda0_hand_Box_4': (False, (0, 1, 0, 0.5)),\n",
       " 'panda0_hand_Box_6': (False, (0, 1, 0, 0.5)),\n",
       " 'panda0_hand_Cylinder_0': (False, (0, 1, 0, 0.5)),\n",
       " 'panda0_hand_Cylinder_5': (False, (0, 1, 0, 0.5)),\n",
       " 'panda0_hand_Cylinder_7': (False, (0, 1, 0, 0.5)),\n",
       " 'panda0_link0_Cylinder_0': (False, (0, 1, 0, 0.5)),\n",
       " 'panda0_link0_Cylinder_1': (False, (0, 1, 0, 0.5)),\n",
       " 'panda0_link1_Cylinder_0': (False, (0, 1, 0, 0.5)),\n",
       " 'panda0_link2_Cylinder_0': (False, (0, 1, 0, 0.5)),\n",
       " 'panda0_link3_Cylinder_0': (False, (0, 1, 0, 0.5)),\n",
       " 'panda0_link4_Cylinder_0': (False, (0, 1, 0, 0.5)),\n",
       " 'panda0_link5_Cylinder_0': (False, (0, 1, 0, 0.5)),\n",
       " 'panda0_link5_Cylinder_1': (False, (0, 1, 0, 0.5)),\n",
       " 'panda0_link6_Cylinder_0': (False, (0, 1, 0, 0.5))}"
      ]
     },
     "execution_count": 117,
     "metadata": {},
     "output_type": "execute_result"
    }
   ],
   "source": [
    "gscene.highlight_robot()"
   ]
  },
  {
   "cell_type": "code",
   "execution_count": 87,
   "metadata": {},
   "outputs": [
    {
     "data": {
      "text/plain": [
       "array([[-2.75,  2.75],\n",
       "       [-1.7 ,  1.7 ],\n",
       "       [-2.75,  2.75],\n",
       "       [-2.9 , -0.1 ],\n",
       "       [-2.75,  2.75],\n",
       "       [ 0.1 ,  3.6 ],\n",
       "       [-2.75,  2.75]])"
      ]
     },
     "execution_count": 87,
     "metadata": {},
     "output_type": "execute_result"
    }
   ],
   "source": [
    "crob.get_joint_limits()"
   ]
  },
  {
   "cell_type": "code",
   "execution_count": 86,
   "metadata": {},
   "outputs": [
    {
     "data": {
      "text/plain": [
       "array([ 0.65686862, -0.77883339,  0.47278382, -2.34641252, -2.75      ,\n",
       "        3.08965887, -2.42162509])"
      ]
     },
     "execution_count": 86,
     "metadata": {},
     "output_type": "execute_result"
    }
   ],
   "source": [
    "to_state.Q"
   ]
  },
  {
   "cell_type": "code",
   "execution_count": null,
   "metadata": {},
   "outputs": [],
   "source": []
  },
  {
   "cell_type": "markdown",
   "metadata": {},
   "source": [
    "# Solve in PDDLStream"
   ]
  },
  {
   "cell_type": "code",
   "execution_count": 10,
   "metadata": {
    "scrolled": true
   },
   "outputs": [
    {
     "name": "stdout",
     "output_type": "stream",
     "text": [
      "[Pybullet] Load urdf from /home/rnb/Projects/rnb-planning/src/robots/custom_robots_pybullet.urdf\n",
      "Objects: {1L: 'obj_0', 2L: 'gp', 3L: 'wp_bot', 4L: 'obj_1', 5L: 'floor', 6L: 'wp_ceil', 7L: 'base', 8L: 'wp', 9L: 'gp_bot'}\n",
      "================ MAKE PROBLEM ======================\n",
      "IK checkers: ['GraspChecker', 'ReachChecker']\n",
      "MP checkers: []\n",
      "timeout motion : 3\n",
      "====================================================\n",
      "Robot: 0\n",
      "Movable: [4L, 1L]\n",
      "Fixed: [2, 3, 5, 6, 7, 8, 9]\n",
      "body 4 - surface 2\n",
      "body 4 - surface 3\n",
      "body 4 - surface 5\n",
      "body 4 - surface 6\n",
      "body 4 - surface 7\n",
      "body 4 - surface 8\n",
      "body 4 - surface 9\n",
      "body 1 - surface 2\n",
      "body 1 - surface 3\n",
      "body 1 - surface 5\n",
      "body 1 - surface 6\n",
      "body 1 - surface 7\n",
      "body 1 - surface 8\n",
      "body 1 - surface 9\n",
      "Init: [('CanMove',), ('Conf', q0), ('AtConf', q0), ('HandEmpty',), ('Timer', 0L), ('Graspable', 4L), ('Pose', 4L, p0), ('AtPose', 4L, p0), ('Stackable', 4L, 2), ('Stackable', 4L, 3), ('Supported', 4L, p0, 3), ('Stackable', 4L, 5), ('Stackable', 4L, 6), ('Stackable', 4L, 7), ('Stackable', 4L, 8), ('Supported', 4L, p0, 8), ('Stackable', 4L, 9), ('Timer', 0L), ('Graspable', 1L), ('Pose', 1L, p1), ('AtPose', 1L, p1), ('Stackable', 1L, 2), ('Stackable', 1L, 3), ('Supported', 1L, p1, 3), ('Stackable', 1L, 5), ('Stackable', 1L, 6), ('Stackable', 1L, 7), ('Stackable', 1L, 8), ('Supported', 1L, p1, 8), ('Stackable', 1L, 9)]\n",
      "Goal: ('and', ('AtConf', q0), ('On', 1L, 2L))\n",
      "Streams: {TrajCollision, inverse-kinematics, plan-free-motion, plan-holding-motion, sample-grasp, sample-pose, test-cfree-approach-pose, test-cfree-pose-pose, test-cfree-traj-pose}\n",
      "Warning! All actions have no cost. Recommend setting unit_costs=True\n",
      "Setting negate=True for stream [test-cfree-traj-pose]\n",
      "Setting negate=True for stream [test-cfree-pose-pose]\n",
      "Setting negate=True for stream [test-cfree-approach-pose]\n",
      "Streams: [sample-pose:('?o', '?r')->('?p',), sample-grasp:('?o',)->('?g',), inverse-kinematics:('?o', '?p', '?g')->('?q', '?t'), plan-free-motion:('?q1', '?q2')->('?t',), plan-holding-motion:('?q1', '?q2', '?o', '?g')->('?t',)]\n",
      "Functions: []\n",
      "Negated: [test-cfree-pose-pose:('?o1', '?p1', '?o2', '?p2')->(), test-cfree-approach-pose:('?o1', '?p1', '?g1', '?o2', '?p2')->(), test-cfree-traj-pose:('?t', '?o2', '?p2')->()]\n",
      "Optimizers: []\n",
      "\n",
      "Iteration: 1 | Complexity: 0 | Skeletons: 0 | Skeleton Queue: 0 | Disabled: 0 | Evaluations: 29 | Eager Calls: 0 | Cost: inf | Search Time: 0.000 | Sample Time: 0.000 | Total Time: 0.000\n",
      "Attempt: 1 | Results: 1 | Depth: 0 | Success: False | Time: 0.006\n",
      "Stream plan (inf, 0, inf): None\n",
      "Action plan (inf, inf): None\n",
      "No plan: increasing complexity from 0 to 1\n",
      "\n",
      "Iteration: 2 | Complexity: 1 | Skeletons: 0 | Skeleton Queue: 0 | Disabled: 0 | Evaluations: 29 | Eager Calls: 0 | Cost: inf | Search Time: 0.006 | Sample Time: 0.000 | Total Time: 0.006\n",
      "Attempt: 1 | Results: 19 | Depth: 0 | Success: False | Time: 0.023\n",
      "Stream plan (inf, 0, inf): None\n",
      "Action plan (inf, inf): None\n",
      "No plan: increasing complexity from 1 to 2\n",
      "\n",
      "Iteration: 3 | Complexity: 2 | Skeletons: 0 | Skeleton Queue: 0 | Disabled: 0 | Evaluations: 29 | Eager Calls: 0 | Cost: inf | Search Time: 0.030 | Sample Time: 0.000 | Total Time: 0.030\n",
      "Attempt: 1 | Results: 32 | Depth: 1 | Success: False | Time: 0.043\n",
      "Attempt: 2 | Results: 69 | Depth: 0 | Success: True | Time: 0.099\n",
      "Stream plan (13, 13, 0.001): [sample-grasp:(1)->(#g0), sample-pose:(1, 2)->(#p0), inverse-kinematics:(1, #p0, #g0)->(#q1, #t16), test-cfree-traj-pose:(#t16, 4, p0)->(), inverse-kinematics:(1, p1, #g0)->(#q0, #t15), test-cfree-traj-pose:(#t15, 4, p0)->(), test-cfree-traj-pose:(#t15, 1, p1)->(), test-cfree-pose-pose:(1, #p0, 4, p0)->(), test-cfree-approach-pose:(1, p1, #g0, 4, p0)->(), test-cfree-approach-pose:(1, #p0, #g0, 4, p0)->(), plan-free-motion:(#q1, q0)->(#t57), plan-free-motion:(q0, #q0)->(#t58), plan-holding-motion:(#q0, #q1, 1, #g0)->(#t59)]\n",
      "Action plan (5, 0.000): [move_free(q0, #q0, #t58), pick(1, p1, #g0, #q0, #t15), move_holding(#q0, #q1, 1, #g0, #t59), place(1, #p0, #g0, #q1, #t16), move_free(#q1, q0, #t57)]\n",
      "iter=0, outs=1) sample-grasp:(1)->[(g0)]\n",
      "iter=0, outs=1) sample-pose:(1, 2)->[(p2)]\n",
      "iter=inf, outs=0) inverse-kinematics:(1, p2, g0)->[]\n",
      "Sampling for up to 13.308 seconds\n",
      "iter=1, outs=1) sample-pose:(1, 2)->[(p3)]\n",
      "iter=inf, outs=1) inverse-kinematics:(1, p3, g0)->[(q1, c0)]\n",
      "iter=inf, outs=1) test-cfree-traj-pose:(c0, 4, p0)->[()]\n",
      "iter=inf, outs=1) inverse-kinematics:(1, p1, g0)->[(q2, c1)]\n",
      "iter=inf, outs=0) test-cfree-traj-pose:(c1, 4, p0)->[]\n",
      "iter=1, outs=1) sample-grasp:(1)->[(g1)]\n",
      "iter=inf, outs=0) inverse-kinematics:(1, p2, g1)->[]\n",
      "iter=inf, outs=1) inverse-kinematics:(1, p3, g1)->[(q3, c2)]\n",
      "iter=inf, outs=1) test-cfree-traj-pose:(c2, 4, p0)->[()]\n",
      "iter=inf, outs=1) inverse-kinematics:(1, p1, g1)->[(q4, c3)]\n",
      "iter=inf, outs=0) test-cfree-traj-pose:(c3, 4, p0)->[]\n",
      "iter=2, outs=1) sample-pose:(1, 2)->[(p4)]\n",
      "iter=inf, outs=0) inverse-kinematics:(1, p4, g0)->[]\n",
      "iter=inf, outs=0) inverse-kinematics:(1, p4, g1)->[]\n",
      "iter=2, outs=1) sample-grasp:(1)->[(g2)]\n",
      "iter=inf, outs=0) inverse-kinematics:(1, p2, g2)->[]\n",
      "iter=inf, outs=0) inverse-kinematics:(1, p4, g2)->[]\n",
      "iter=inf, outs=1) inverse-kinematics:(1, p3, g2)->[(q5, c4)]\n",
      "iter=inf, outs=1) test-cfree-traj-pose:(c4, 4, p0)->[()]\n",
      "iter=inf, outs=1) inverse-kinematics:(1, p1, g2)->[(q6, c5)]\n",
      "iter=inf, outs=0) test-cfree-traj-pose:(c5, 4, p0)->[]\n",
      "iter=3, outs=1) sample-pose:(1, 2)->[(p5)]\n",
      "iter=inf, outs=1) inverse-kinematics:(1, p5, g2)->[(q7, c6)]\n",
      "iter=inf, outs=1) test-cfree-traj-pose:(c6, 4, p0)->[()]\n",
      "iter=inf, outs=1) inverse-kinematics:(1, p5, g1)->[(q8, c7)]\n",
      "iter=inf, outs=1) test-cfree-traj-pose:(c7, 4, p0)->[()]\n",
      "iter=inf, outs=1) inverse-kinematics:(1, p5, g0)->[(q9, c8)]\n",
      "iter=inf, outs=1) test-cfree-traj-pose:(c8, 4, p0)->[()]\n",
      "iter=3, outs=1) sample-grasp:(1)->[(g3)]\n",
      "iter=inf, outs=0) inverse-kinematics:(1, p2, g3)->[]\n",
      "iter=inf, outs=1) inverse-kinematics:(1, p3, g3)->[(q10, c9)]\n",
      "iter=inf, outs=1) test-cfree-traj-pose:(c9, 4, p0)->[()]\n",
      "iter=inf, outs=1) inverse-kinematics:(1, p1, g3)->[(q11, c10)]\n",
      "iter=inf, outs=0) test-cfree-traj-pose:(c10, 4, p0)->[]\n",
      "iter=inf, outs=0) inverse-kinematics:(1, p4, g3)->[]\n",
      "iter=inf, outs=1) inverse-kinematics:(1, p5, g3)->[(q12, c11)]\n",
      "iter=inf, outs=1) test-cfree-traj-pose:(c11, 4, p0)->[()]\n",
      "iter=4, outs=1) sample-pose:(1, 2)->[(p6)]\n",
      "iter=inf, outs=1) inverse-kinematics:(1, p6, g3)->[(q13, c12)]\n",
      "iter=inf, outs=1) test-cfree-traj-pose:(c12, 4, p0)->[()]\n",
      "iter=inf, outs=1) inverse-kinematics:(1, p6, g2)->[(q14, c13)]\n",
      "iter=inf, outs=1) test-cfree-traj-pose:(c13, 4, p0)->[()]\n",
      "iter=inf, outs=1) inverse-kinematics:(1, p6, g1)->[(q15, c14)]\n",
      "iter=inf, outs=1) test-cfree-traj-pose:(c14, 4, p0)->[()]\n",
      "iter=inf, outs=1) inverse-kinematics:(1, p6, g0)->[(q16, c15)]\n",
      "iter=inf, outs=1) test-cfree-traj-pose:(c15, 4, p0)->[()]\n",
      "iter=4, outs=1) sample-grasp:(1)->[(g4)]\n",
      "iter=inf, outs=0) inverse-kinematics:(1, p2, g4)->[]\n",
      "iter=inf, outs=1) inverse-kinematics:(1, p3, g4)->[(q17, c16)]\n",
      "iter=inf, outs=1) test-cfree-traj-pose:(c16, 4, p0)->[()]\n",
      "iter=inf, outs=1) inverse-kinematics:(1, p1, g4)->[(q18, c17)]\n",
      "iter=inf, outs=0) test-cfree-traj-pose:(c17, 4, p0)->[]\n",
      "iter=inf, outs=0) inverse-kinematics:(1, p4, g4)->[]\n",
      "iter=inf, outs=1) inverse-kinematics:(1, p6, g4)->[(q19, c18)]\n",
      "iter=inf, outs=1) test-cfree-traj-pose:(c18, 4, p0)->[()]\n",
      "iter=inf, outs=1) inverse-kinematics:(1, p5, g4)->[(q20, c19)]\n",
      "iter=inf, outs=1) test-cfree-traj-pose:(c19, 4, p0)->[()]\n",
      "iter=5, outs=1) sample-pose:(1, 2)->[(p7)]\n",
      "iter=inf, outs=1) inverse-kinematics:(1, p7, g0)->[(q21, c20)]\n",
      "iter=inf, outs=1) test-cfree-traj-pose:(c20, 4, p0)->[()]\n",
      "iter=inf, outs=0) inverse-kinematics:(1, p7, g4)->[]\n",
      "iter=inf, outs=1) inverse-kinematics:(1, p7, g3)->[(q22, c21)]\n",
      "iter=inf, outs=1) test-cfree-traj-pose:(c21, 4, p0)->[()]\n",
      "iter=inf, outs=1) inverse-kinematics:(1, p7, g1)->[(q23, c22)]\n",
      "iter=inf, outs=1) test-cfree-traj-pose:(c22, 4, p0)->[()]\n",
      "iter=inf, outs=0) inverse-kinematics:(1, p7, g2)->[]\n",
      "iter=5, outs=1) sample-grasp:(1)->[(g5)]\n",
      "iter=inf, outs=0) inverse-kinematics:(1, p2, g5)->[]\n",
      "iter=inf, outs=0) inverse-kinematics:(1, p7, g5)->[]\n",
      "iter=inf, outs=1) inverse-kinematics:(1, p3, g5)->[(q24, c23)]\n",
      "iter=inf, outs=1) test-cfree-traj-pose:(c23, 4, p0)->[()]\n",
      "iter=inf, outs=1) inverse-kinematics:(1, p1, g5)->[(q25, c24)]\n",
      "iter=inf, outs=0) test-cfree-traj-pose:(c24, 4, p0)->[]\n",
      "iter=inf, outs=0) inverse-kinematics:(1, p5, g5)->[]\n",
      "iter=inf, outs=1) inverse-kinematics:(1, p6, g5)->[(q26, c25)]\n",
      "iter=inf, outs=1) test-cfree-traj-pose:(c25, 4, p0)->[()]\n",
      "iter=inf, outs=1) inverse-kinematics:(1, p4, g5)->[(q27, c26)]\n",
      "iter=inf, outs=1) test-cfree-traj-pose:(c26, 4, p0)->[()]\n",
      "iter=6, outs=1) sample-pose:(1, 2)->[(p8)]\n",
      "iter=inf, outs=0) inverse-kinematics:(1, p8, g4)->[]\n",
      "iter=inf, outs=1) inverse-kinematics:(1, p8, g3)->[(q28, c27)]\n",
      "iter=inf, outs=1) test-cfree-traj-pose:(c27, 4, p0)->[()]\n",
      "iter=inf, outs=1) inverse-kinematics:(1, p8, g0)->[(q29, c28)]\n",
      "iter=inf, outs=1) test-cfree-traj-pose:(c28, 4, p0)->[()]\n",
      "iter=inf, outs=0) inverse-kinematics:(1, p8, g1)->[]\n",
      "iter=inf, outs=0) inverse-kinematics:(1, p8, g5)->[]\n",
      "iter=inf, outs=0) inverse-kinematics:(1, p8, g2)->[]\n",
      "iter=6, outs=1) sample-grasp:(1)->[(g6)]\n",
      "iter=inf, outs=0) inverse-kinematics:(1, p2, g6)->[]\n",
      "iter=inf, outs=1) inverse-kinematics:(1, p6, g6)->[(q30, c29)]\n",
      "iter=inf, outs=1) test-cfree-traj-pose:(c29, 4, p0)->[()]\n",
      "iter=inf, outs=1) inverse-kinematics:(1, p1, g6)->[(q31, c30)]\n",
      "iter=inf, outs=0) test-cfree-traj-pose:(c30, 4, p0)->[]\n",
      "iter=inf, outs=0) inverse-kinematics:(1, p8, g6)->[]\n",
      "iter=inf, outs=0) inverse-kinematics:(1, p7, g6)->[]\n"
     ]
    },
    {
     "name": "stdout",
     "output_type": "stream",
     "text": [
      "iter=inf, outs=1) inverse-kinematics:(1, p3, g6)->[(q32, c31)]\n",
      "iter=inf, outs=1) test-cfree-traj-pose:(c31, 4, p0)->[()]\n",
      "iter=inf, outs=0) inverse-kinematics:(1, p4, g6)->[]\n",
      "iter=inf, outs=0) inverse-kinematics:(1, p5, g6)->[]\n",
      "iter=7, outs=1) sample-pose:(1, 2)->[(p9)]\n",
      "iter=inf, outs=1) inverse-kinematics:(1, p9, g6)->[(q33, c32)]\n",
      "iter=inf, outs=1) test-cfree-traj-pose:(c32, 4, p0)->[()]\n",
      "iter=inf, outs=1) inverse-kinematics:(1, p9, g3)->[(q34, c33)]\n",
      "iter=inf, outs=1) test-cfree-traj-pose:(c33, 4, p0)->[()]\n",
      "iter=inf, outs=1) inverse-kinematics:(1, p9, g4)->[(q35, c34)]\n",
      "iter=inf, outs=1) test-cfree-traj-pose:(c34, 4, p0)->[()]\n",
      "iter=inf, outs=1) inverse-kinematics:(1, p9, g1)->[(q36, c35)]\n",
      "iter=inf, outs=1) test-cfree-traj-pose:(c35, 4, p0)->[()]\n",
      "iter=inf, outs=1) inverse-kinematics:(1, p9, g0)->[(q37, c36)]\n",
      "iter=inf, outs=1) test-cfree-traj-pose:(c36, 4, p0)->[()]\n",
      "iter=inf, outs=1) inverse-kinematics:(1, p9, g2)->[(q38, c37)]\n",
      "iter=inf, outs=1) test-cfree-traj-pose:(c37, 4, p0)->[()]\n",
      "iter=inf, outs=0) inverse-kinematics:(1, p9, g5)->[]\n",
      "iter=7, outs=1) sample-grasp:(1)->[(g7)]\n",
      "iter=inf, outs=0) inverse-kinematics:(1, p2, g7)->[]\n",
      "iter=inf, outs=0) inverse-kinematics:(1, p5, g7)->[]\n",
      "iter=inf, outs=0) inverse-kinematics:(1, p7, g7)->[]\n",
      "iter=inf, outs=0) inverse-kinematics:(1, p8, g7)->[]\n",
      "iter=inf, outs=1) inverse-kinematics:(1, p6, g7)->[(q39, c38)]\n",
      "iter=inf, outs=1) test-cfree-traj-pose:(c38, 4, p0)->[()]\n",
      "iter=inf, outs=1) inverse-kinematics:(1, p1, g7)->[(q40, c39)]\n",
      "iter=inf, outs=0) test-cfree-traj-pose:(c39, 4, p0)->[]\n",
      "iter=inf, outs=1) inverse-kinematics:(1, p3, g7)->[(q41, c40)]\n",
      "iter=inf, outs=1) test-cfree-traj-pose:(c40, 4, p0)->[()]\n",
      "iter=inf, outs=1) inverse-kinematics:(1, p4, g7)->[(q42, c41)]\n",
      "iter=inf, outs=1) test-cfree-traj-pose:(c41, 4, p0)->[()]\n",
      "iter=inf, outs=0) inverse-kinematics:(1, p9, g7)->[]\n",
      "iter=8, outs=1) sample-pose:(1, 2)->[(p10)]\n",
      "iter=inf, outs=1) inverse-kinematics:(1, p10, g7)->[(q43, c42)]\n",
      "iter=inf, outs=1) test-cfree-traj-pose:(c42, 4, p0)->[()]\n",
      "iter=inf, outs=1) inverse-kinematics:(1, p10, g6)->[(q44, c43)]\n",
      "iter=inf, outs=1) test-cfree-traj-pose:(c43, 4, p0)->[()]\n",
      "iter=inf, outs=1) inverse-kinematics:(1, p10, g2)->[(q45, c44)]\n",
      "iter=inf, outs=1) test-cfree-traj-pose:(c44, 4, p0)->[()]\n",
      "iter=inf, outs=1) inverse-kinematics:(1, p10, g5)->[(q46, c45)]\n",
      "iter=inf, outs=1) test-cfree-traj-pose:(c45, 4, p0)->[()]\n",
      "iter=inf, outs=0) inverse-kinematics:(1, p10, g0)->[]\n",
      "iter=inf, outs=1) inverse-kinematics:(1, p10, g4)->[(q47, c46)]\n",
      "iter=inf, outs=1) test-cfree-traj-pose:(c46, 4, p0)->[()]\n",
      "iter=inf, outs=0) inverse-kinematics:(1, p10, g3)->[]\n",
      "iter=inf, outs=1) inverse-kinematics:(1, p10, g1)->[(q48, c47)]\n",
      "iter=inf, outs=1) test-cfree-traj-pose:(c47, 4, p0)->[()]\n",
      "iter=8, outs=1) sample-grasp:(1)->[(g8)]\n",
      "iter=inf, outs=0) inverse-kinematics:(1, p2, g8)->[]\n",
      "iter=inf, outs=0) inverse-kinematics:(1, p4, g8)->[]\n",
      "iter=inf, outs=1) inverse-kinematics:(1, p6, g8)->[(q49, c48)]\n",
      "iter=inf, outs=1) test-cfree-traj-pose:(c48, 4, p0)->[()]\n",
      "iter=inf, outs=1) inverse-kinematics:(1, p1, g8)->[(q50, c49)]\n",
      "iter=inf, outs=0) test-cfree-traj-pose:(c49, 4, p0)->[]\n",
      "iter=inf, outs=0) inverse-kinematics:(1, p8, g8)->[]\n",
      "iter=inf, outs=1) inverse-kinematics:(1, p3, g8)->[(q51, c50)]\n",
      "iter=inf, outs=1) test-cfree-traj-pose:(c50, 4, p0)->[()]\n",
      "iter=inf, outs=1) inverse-kinematics:(1, p9, g8)->[(q52, c51)]\n",
      "iter=inf, outs=1) test-cfree-traj-pose:(c51, 4, p0)->[()]\n",
      "iter=inf, outs=0) inverse-kinematics:(1, p5, g8)->[]\n",
      "iter=inf, outs=1) inverse-kinematics:(1, p10, g8)->[(q53, c52)]\n",
      "iter=inf, outs=1) test-cfree-traj-pose:(c52, 4, p0)->[()]\n",
      "iter=inf, outs=0) inverse-kinematics:(1, p7, g8)->[]\n",
      "iter=9, outs=1) sample-pose:(1, 2)->[(p11)]\n",
      "iter=inf, outs=0) inverse-kinematics:(1, p11, g8)->[]\n",
      "iter=inf, outs=0) inverse-kinematics:(1, p11, g7)->[]\n",
      "iter=inf, outs=0) inverse-kinematics:(1, p11, g2)->[]\n",
      "iter=inf, outs=0) inverse-kinematics:(1, p11, g5)->[]\n",
      "iter=inf, outs=0) inverse-kinematics:(1, p11, g6)->[]\n",
      "iter=inf, outs=0) inverse-kinematics:(1, p11, g1)->[]\n",
      "iter=inf, outs=0) inverse-kinematics:(1, p11, g4)->[]\n",
      "iter=inf, outs=0) inverse-kinematics:(1, p11, g0)->[]\n",
      "iter=inf, outs=0) inverse-kinematics:(1, p11, g3)->[]\n",
      "iter=9, outs=1) sample-grasp:(1)->[(g9)]\n",
      "iter=inf, outs=0) inverse-kinematics:(1, p2, g9)->[]\n",
      "iter=inf, outs=1) inverse-kinematics:(1, p3, g9)->[(q54, c53)]\n",
      "iter=inf, outs=1) test-cfree-traj-pose:(c53, 4, p0)->[()]\n",
      "iter=inf, outs=1) inverse-kinematics:(1, p1, g9)->[(q55, c54)]\n",
      "iter=inf, outs=0) test-cfree-traj-pose:(c54, 4, p0)->[]\n",
      "iter=inf, outs=0) inverse-kinematics:(1, p11, g9)->[]\n",
      "iter=inf, outs=0) inverse-kinematics:(1, p7, g9)->[]\n",
      "iter=inf, outs=1) inverse-kinematics:(1, p10, g9)->[(q56, c55)]\n",
      "iter=inf, outs=1) test-cfree-traj-pose:(c55, 4, p0)->[()]\n",
      "iter=inf, outs=0) inverse-kinematics:(1, p4, g9)->[]\n",
      "iter=inf, outs=0) inverse-kinematics:(1, p5, g9)->[]\n",
      "iter=inf, outs=0) inverse-kinematics:(1, p8, g9)->[]\n",
      "iter=inf, outs=1) inverse-kinematics:(1, p6, g9)->[(q57, c56)]\n",
      "iter=inf, outs=1) test-cfree-traj-pose:(c56, 4, p0)->[()]\n",
      "iter=inf, outs=1) inverse-kinematics:(1, p9, g9)->[(q58, c57)]\n",
      "iter=inf, outs=1) test-cfree-traj-pose:(c57, 4, p0)->[()]\n",
      "iter=10, outs=1) sample-pose:(1, 2)->[(p12)]\n",
      "iter=inf, outs=1) inverse-kinematics:(1, p12, g9)->[(q59, c58)]\n",
      "iter=inf, outs=1) test-cfree-traj-pose:(c58, 4, p0)->[()]\n",
      "iter=inf, outs=1) inverse-kinematics:(1, p12, g7)->[(q60, c59)]\n",
      "iter=inf, outs=1) test-cfree-traj-pose:(c59, 4, p0)->[()]\n",
      "iter=inf, outs=0) inverse-kinematics:(1, p12, g3)->[]\n",
      "iter=inf, outs=1) inverse-kinematics:(1, p12, g5)->[(q61, c60)]\n",
      "iter=inf, outs=1) test-cfree-traj-pose:(c60, 4, p0)->[()]\n",
      "iter=inf, outs=0) inverse-kinematics:(1, p12, g2)->[]\n",
      "iter=inf, outs=1) inverse-kinematics:(1, p12, g8)->[(q62, c61)]\n",
      "iter=inf, outs=1) test-cfree-traj-pose:(c61, 4, p0)->[()]\n",
      "iter=inf, outs=1) inverse-kinematics:(1, p12, g6)->[(q63, c62)]\n",
      "iter=inf, outs=1) test-cfree-traj-pose:(c62, 4, p0)->[()]\n",
      "iter=inf, outs=0) inverse-kinematics:(1, p12, g0)->[]\n",
      "iter=inf, outs=1) inverse-kinematics:(1, p12, g1)->[(q64, c63)]\n",
      "iter=inf, outs=1) test-cfree-traj-pose:(c63, 4, p0)->[()]\n",
      "iter=inf, outs=1) inverse-kinematics:(1, p12, g4)->[(q65, c64)]\n",
      "iter=inf, outs=1) test-cfree-traj-pose:(c64, 4, p0)->[()]\n",
      "iter=inf, outs=0) sample-grasp:(1)->[]\n",
      "iter=11, outs=1) sample-pose:(1, 2)->[(p13)]\n",
      "iter=inf, outs=1) inverse-kinematics:(1, p13, g9)->[(q66, c65)]\n",
      "iter=inf, outs=1) test-cfree-traj-pose:(c65, 4, p0)->[()]\n",
      "iter=inf, outs=0) inverse-kinematics:(1, p13, g5)->[]\n",
      "iter=inf, outs=1) inverse-kinematics:(1, p13, g4)->[(q67, c66)]\n",
      "iter=inf, outs=1) test-cfree-traj-pose:(c66, 4, p0)->[()]\n",
      "iter=inf, outs=1) inverse-kinematics:(1, p13, g1)->[(q68, c67)]\n",
      "iter=inf, outs=1) test-cfree-traj-pose:(c67, 4, p0)->[()]\n",
      "iter=inf, outs=0) inverse-kinematics:(1, p13, g2)->[]\n",
      "iter=inf, outs=0) inverse-kinematics:(1, p13, g7)->[]\n",
      "iter=inf, outs=0) inverse-kinematics:(1, p13, g3)->[]\n",
      "iter=inf, outs=1) inverse-kinematics:(1, p13, g6)->[(q69, c68)]\n",
      "iter=inf, outs=1) test-cfree-traj-pose:(c68, 4, p0)->[()]\n",
      "iter=inf, outs=0) inverse-kinematics:(1, p13, g0)->[]\n",
      "iter=inf, outs=1) inverse-kinematics:(1, p13, g8)->[(q70, c69)]\n",
      "iter=inf, outs=1) test-cfree-traj-pose:(c69, 4, p0)->[()]\n",
      "iter=12, outs=1) sample-pose:(1, 2)->[(p14)]\n",
      "iter=inf, outs=1) inverse-kinematics:(1, p14, g6)->[(q71, c70)]\n",
      "iter=inf, outs=1) test-cfree-traj-pose:(c70, 4, p0)->[()]\n",
      "iter=inf, outs=1) inverse-kinematics:(1, p14, g8)->[(q72, c71)]\n",
      "iter=inf, outs=1) test-cfree-traj-pose:(c71, 4, p0)->[()]\n",
      "iter=inf, outs=1) inverse-kinematics:(1, p14, g9)->[(q73, c72)]\n",
      "iter=inf, outs=1) test-cfree-traj-pose:(c72, 4, p0)->[()]\n",
      "iter=inf, outs=0) inverse-kinematics:(1, p14, g1)->[]\n",
      "iter=inf, outs=1) inverse-kinematics:(1, p14, g4)->[(q74, c73)]\n",
      "iter=inf, outs=1) test-cfree-traj-pose:(c73, 4, p0)->[()]\n",
      "iter=inf, outs=0) inverse-kinematics:(1, p14, g0)->[]\n",
      "iter=inf, outs=1) inverse-kinematics:(1, p14, g5)->[(q75, c74)]\n",
      "iter=inf, outs=1) test-cfree-traj-pose:(c74, 4, p0)->[()]\n",
      "iter=inf, outs=1) inverse-kinematics:(1, p14, g2)->[(q76, c75)]\n",
      "iter=inf, outs=1) test-cfree-traj-pose:(c75, 4, p0)->[()]\n",
      "iter=inf, outs=0) inverse-kinematics:(1, p14, g3)->[]\n",
      "iter=inf, outs=1) inverse-kinematics:(1, p14, g7)->[(q77, c76)]\n",
      "iter=inf, outs=1) test-cfree-traj-pose:(c76, 4, p0)->[()]\n",
      "iter=13, outs=1) sample-pose:(1, 2)->[(p15)]\n",
      "iter=inf, outs=1) inverse-kinematics:(1, p15, g2)->[(q78, c77)]\n",
      "iter=inf, outs=1) test-cfree-traj-pose:(c77, 4, p0)->[()]\n",
      "iter=inf, outs=1) inverse-kinematics:(1, p15, g7)->[(q79, c78)]\n",
      "iter=inf, outs=1) test-cfree-traj-pose:(c78, 4, p0)->[()]\n",
      "iter=inf, outs=1) inverse-kinematics:(1, p15, g6)->[(q80, c79)]\n",
      "iter=inf, outs=1) test-cfree-traj-pose:(c79, 4, p0)->[()]\n",
      "iter=inf, outs=1) inverse-kinematics:(1, p15, g5)->[(q81, c80)]\n",
      "iter=inf, outs=1) test-cfree-traj-pose:(c80, 4, p0)->[()]\n",
      "iter=inf, outs=1) inverse-kinematics:(1, p15, g9)->[(q82, c81)]\n",
      "iter=inf, outs=1) test-cfree-traj-pose:(c81, 4, p0)->[()]\n",
      "iter=inf, outs=1) inverse-kinematics:(1, p15, g3)->[(q83, c82)]\n",
      "iter=inf, outs=1) test-cfree-traj-pose:(c82, 4, p0)->[()]\n",
      "iter=inf, outs=1) inverse-kinematics:(1, p15, g8)->[(q84, c83)]\n",
      "iter=inf, outs=1) test-cfree-traj-pose:(c83, 4, p0)->[()]\n",
      "iter=inf, outs=1) inverse-kinematics:(1, p15, g1)->[(q85, c84)]\n",
      "iter=inf, outs=1) test-cfree-traj-pose:(c84, 4, p0)->[()]\n",
      "iter=inf, outs=1) inverse-kinematics:(1, p15, g4)->[(q86, c85)]\n",
      "iter=inf, outs=1) test-cfree-traj-pose:(c85, 4, p0)->[()]\n",
      "iter=inf, outs=1) inverse-kinematics:(1, p15, g0)->[(q87, c86)]\n",
      "iter=inf, outs=1) test-cfree-traj-pose:(c86, 4, p0)->[()]\n",
      "iter=14, outs=1) sample-pose:(1, 2)->[(p16)]\n",
      "iter=inf, outs=1) inverse-kinematics:(1, p16, g1)->[(q88, c87)]\n",
      "iter=inf, outs=1) test-cfree-traj-pose:(c87, 4, p0)->[()]\n",
      "iter=inf, outs=1) inverse-kinematics:(1, p16, g0)->[(q89, c88)]\n",
      "iter=inf, outs=1) test-cfree-traj-pose:(c88, 4, p0)->[()]\n",
      "iter=inf, outs=1) inverse-kinematics:(1, p16, g2)->[(q90, c89)]\n",
      "iter=inf, outs=1) test-cfree-traj-pose:(c89, 4, p0)->[()]\n",
      "iter=inf, outs=1) inverse-kinematics:(1, p16, g4)->[(q91, c90)]\n",
      "iter=inf, outs=1) test-cfree-traj-pose:(c90, 4, p0)->[()]\n",
      "iter=inf, outs=1) inverse-kinematics:(1, p16, g6)->[(q92, c91)]\n",
      "iter=inf, outs=1) test-cfree-traj-pose:(c91, 4, p0)->[()]\n",
      "iter=inf, outs=1) inverse-kinematics:(1, p16, g8)->[(q93, c92)]\n",
      "iter=inf, outs=1) test-cfree-traj-pose:(c92, 4, p0)->[()]\n",
      "iter=inf, outs=1) inverse-kinematics:(1, p16, g7)->[(q94, c93)]\n",
      "iter=inf, outs=1) test-cfree-traj-pose:(c93, 4, p0)->[()]\n"
     ]
    },
    {
     "name": "stdout",
     "output_type": "stream",
     "text": [
      "iter=inf, outs=1) inverse-kinematics:(1, p16, g5)->[(q95, c94)]\n",
      "iter=inf, outs=1) test-cfree-traj-pose:(c94, 4, p0)->[()]\n",
      "iter=inf, outs=1) inverse-kinematics:(1, p16, g3)->[(q96, c95)]\n",
      "iter=inf, outs=1) test-cfree-traj-pose:(c95, 4, p0)->[()]\n",
      "iter=inf, outs=1) inverse-kinematics:(1, p16, g9)->[(q97, c96)]\n",
      "iter=inf, outs=1) test-cfree-traj-pose:(c96, 4, p0)->[()]\n",
      "iter=15, outs=1) sample-pose:(1, 2)->[(p17)]\n",
      "iter=inf, outs=0) inverse-kinematics:(1, p17, g5)->[]\n",
      "iter=inf, outs=1) inverse-kinematics:(1, p17, g2)->[(q98, c97)]\n",
      "iter=inf, outs=1) test-cfree-traj-pose:(c97, 4, p0)->[()]\n",
      "iter=inf, outs=1) inverse-kinematics:(1, p17, g3)->[(q99, c98)]\n",
      "iter=inf, outs=1) test-cfree-traj-pose:(c98, 4, p0)->[()]\n",
      "iter=inf, outs=0) inverse-kinematics:(1, p17, g9)->[]\n",
      "iter=inf, outs=1) inverse-kinematics:(1, p17, g0)->[(q100, c99)]\n",
      "iter=inf, outs=1) test-cfree-traj-pose:(c99, 4, p0)->[()]\n",
      "iter=inf, outs=0) inverse-kinematics:(1, p17, g7)->[]\n",
      "iter=inf, outs=1) inverse-kinematics:(1, p17, g1)->[(q101, c100)]\n",
      "iter=inf, outs=1) test-cfree-traj-pose:(c100, 4, p0)->[()]\n",
      "iter=inf, outs=1) inverse-kinematics:(1, p17, g4)->[(q102, c101)]\n",
      "iter=inf, outs=1) test-cfree-traj-pose:(c101, 4, p0)->[()]\n",
      "iter=inf, outs=1) inverse-kinematics:(1, p17, g8)->[(q103, c102)]\n",
      "iter=inf, outs=1) test-cfree-traj-pose:(c102, 4, p0)->[()]\n",
      "iter=inf, outs=0) inverse-kinematics:(1, p17, g6)->[]\n",
      "iter=16, outs=1) sample-pose:(1, 2)->[(p18)]\n",
      "iter=inf, outs=0) inverse-kinematics:(1, p18, g3)->[]\n",
      "iter=inf, outs=1) inverse-kinematics:(1, p18, g6)->[(q104, c103)]\n",
      "iter=inf, outs=1) test-cfree-traj-pose:(c103, 4, p0)->[()]\n",
      "iter=inf, outs=1) inverse-kinematics:(1, p18, g8)->[(q105, c104)]\n",
      "iter=inf, outs=1) test-cfree-traj-pose:(c104, 4, p0)->[()]\n",
      "iter=inf, outs=1) inverse-kinematics:(1, p18, g5)->[(q106, c105)]\n",
      "iter=inf, outs=1) test-cfree-traj-pose:(c105, 4, p0)->[()]\n",
      "iter=inf, outs=1) inverse-kinematics:(1, p18, g2)->[(q107, c106)]\n",
      "iter=inf, outs=1) test-cfree-traj-pose:(c106, 4, p0)->[()]\n",
      "iter=inf, outs=1) inverse-kinematics:(1, p18, g4)->[(q108, c107)]\n",
      "iter=inf, outs=1) test-cfree-traj-pose:(c107, 4, p0)->[()]\n",
      "iter=inf, outs=1) inverse-kinematics:(1, p18, g1)->[(q109, c108)]\n",
      "iter=inf, outs=1) test-cfree-traj-pose:(c108, 4, p0)->[()]\n",
      "iter=inf, outs=1) inverse-kinematics:(1, p18, g9)->[(q110, c109)]\n",
      "iter=inf, outs=1) test-cfree-traj-pose:(c109, 4, p0)->[()]\n",
      "iter=inf, outs=0) inverse-kinematics:(1, p18, g0)->[]\n",
      "iter=inf, outs=1) inverse-kinematics:(1, p18, g7)->[(q111, c110)]\n",
      "iter=inf, outs=1) test-cfree-traj-pose:(c110, 4, p0)->[()]\n",
      "iter=17, outs=1) sample-pose:(1, 2)->[(p19)]\n",
      "iter=inf, outs=1) inverse-kinematics:(1, p19, g9)->[(q112, c111)]\n",
      "iter=inf, outs=1) test-cfree-traj-pose:(c111, 4, p0)->[()]\n",
      "iter=inf, outs=1) inverse-kinematics:(1, p19, g7)->[(q113, c112)]\n",
      "iter=inf, outs=1) test-cfree-traj-pose:(c112, 4, p0)->[()]\n",
      "iter=inf, outs=1) inverse-kinematics:(1, p19, g3)->[(q114, c113)]\n",
      "iter=inf, outs=1) test-cfree-traj-pose:(c113, 4, p0)->[()]\n",
      "iter=inf, outs=1) inverse-kinematics:(1, p19, g1)->[(q115, c114)]\n",
      "iter=inf, outs=1) test-cfree-traj-pose:(c114, 4, p0)->[()]\n",
      "iter=inf, outs=1) inverse-kinematics:(1, p19, g8)->[(q116, c115)]\n",
      "iter=inf, outs=1) test-cfree-traj-pose:(c115, 4, p0)->[()]\n",
      "iter=inf, outs=1) inverse-kinematics:(1, p19, g0)->[(q117, c116)]\n",
      "iter=inf, outs=1) test-cfree-traj-pose:(c116, 4, p0)->[()]\n",
      "iter=inf, outs=1) inverse-kinematics:(1, p19, g6)->[(q118, c117)]\n",
      "iter=inf, outs=1) test-cfree-traj-pose:(c117, 4, p0)->[()]\n",
      "iter=inf, outs=1) inverse-kinematics:(1, p19, g5)->[(q119, c118)]\n",
      "iter=inf, outs=1) test-cfree-traj-pose:(c118, 4, p0)->[()]\n",
      "iter=inf, outs=0) inverse-kinematics:(1, p19, g4)->[]\n",
      "iter=inf, outs=0) inverse-kinematics:(1, p19, g2)->[]\n",
      "iter=18, outs=1) sample-pose:(1, 2)->[(p20)]\n",
      "iter=inf, outs=0) inverse-kinematics:(1, p20, g3)->[]\n",
      "iter=inf, outs=0) inverse-kinematics:(1, p20, g2)->[]\n",
      "iter=inf, outs=0) inverse-kinematics:(1, p20, g7)->[]\n",
      "iter=inf, outs=0) inverse-kinematics:(1, p20, g9)->[]\n",
      "iter=inf, outs=0) inverse-kinematics:(1, p20, g5)->[]\n",
      "iter=inf, outs=0) inverse-kinematics:(1, p20, g6)->[]\n",
      "iter=inf, outs=0) inverse-kinematics:(1, p20, g4)->[]\n",
      "iter=inf, outs=0) inverse-kinematics:(1, p20, g1)->[]\n",
      "iter=inf, outs=0) inverse-kinematics:(1, p20, g0)->[]\n",
      "iter=inf, outs=0) inverse-kinematics:(1, p20, g8)->[]\n",
      "iter=19, outs=1) sample-pose:(1, 2)->[(p21)]\n",
      "iter=inf, outs=1) inverse-kinematics:(1, p21, g7)->[(q120, c119)]\n",
      "iter=inf, outs=1) test-cfree-traj-pose:(c119, 4, p0)->[()]\n",
      "iter=inf, outs=1) inverse-kinematics:(1, p21, g3)->[(q121, c120)]\n",
      "iter=inf, outs=1) test-cfree-traj-pose:(c120, 4, p0)->[()]\n",
      "iter=inf, outs=1) inverse-kinematics:(1, p21, g0)->[(q122, c121)]\n",
      "iter=inf, outs=1) test-cfree-traj-pose:(c121, 4, p0)->[()]\n",
      "iter=inf, outs=1) inverse-kinematics:(1, p21, g1)->[(q123, c122)]\n",
      "iter=inf, outs=1) test-cfree-traj-pose:(c122, 4, p0)->[()]\n",
      "iter=inf, outs=1) inverse-kinematics:(1, p21, g8)->[(q124, c123)]\n",
      "iter=inf, outs=1) test-cfree-traj-pose:(c123, 4, p0)->[()]\n",
      "iter=inf, outs=0) inverse-kinematics:(1, p21, g9)->[]\n",
      "iter=inf, outs=1) inverse-kinematics:(1, p21, g2)->[(q125, c124)]\n",
      "iter=inf, outs=1) test-cfree-traj-pose:(c124, 4, p0)->[()]\n",
      "iter=inf, outs=1) inverse-kinematics:(1, p21, g5)->[(q126, c125)]\n",
      "iter=inf, outs=1) test-cfree-traj-pose:(c125, 4, p0)->[()]\n",
      "iter=inf, outs=1) inverse-kinematics:(1, p21, g4)->[(q127, c126)]\n",
      "iter=inf, outs=1) test-cfree-traj-pose:(c126, 4, p0)->[()]\n",
      "iter=inf, outs=0) inverse-kinematics:(1, p21, g6)->[]\n",
      "iter=inf, outs=0) sample-pose:(1, 2)->[]\n",
      "\n",
      "Iteration: 4 | Complexity: 2 | Skeletons: 1 | Skeleton Queue: 0 | Disabled: 0 | Evaluations: 587 | Eager Calls: 0 | Cost: inf | Search Time: 0.223 | Sample Time: 1.119 | Total Time: 1.342\n",
      "Attempt: 1 | Results: 53 | Depth: 0 | Success: False | Time: 0.039\n",
      "Stream plan (inf, 0, inf): None\n",
      "Action plan (inf, inf): None\n",
      "No plan: increasing complexity from 2 to 3\n",
      "\n",
      "Iteration: 5 | Complexity: 3 | Skeletons: 1 | Skeleton Queue: 0 | Disabled: 0 | Evaluations: 587 | Eager Calls: 0 | Cost: inf | Search Time: 0.263 | Sample Time: 1.119 | Total Time: 1.382\n",
      "Attempt: 1 | Results: 198 | Depth: 1 | Success: False | Time: 0.170\n",
      "Attempt: 2 | Results: 339 | Depth: 1 | Success: False | Time: 0.353\n",
      "Attempt: 3 | Results: 425 | Depth: 1 | Success: False | Time: 0.606\n",
      "Attempt: 4 | Results: 521 | Depth: 1 | Success: False | Time: 0.842\n",
      "Attempt: 5 | Results: 627 | Depth: 1 | Success: False | Time: 1.166\n",
      "Attempt: 6 | Results: 743 | Depth: 1 | Success: False | Time: 1.549\n",
      "Attempt: 7 | Results: 869 | Depth: 1 | Success: False | Time: 1.975\n",
      "Attempt: 8 | Results: 1004 | Depth: 0 | Success: True | Time: 2.456\n",
      "Stream plan (25, 21, 0.001): [sample-grasp:(1)->(g0), inverse-kinematics:(1, p1, g0)->(q2, c1), test-cfree-traj-pose:(c1, 1, p1)->(), sample-grasp:(4)->(#g1), sample-pose:(4, 3)->(#p1), inverse-kinematics:(4, #p1, #g1)->(#q3, #t238), test-cfree-traj-pose:(#t238, 1, p1)->(), inverse-kinematics:(4, p0, #g1)->(#q2, #t237), test-cfree-traj-pose:(#t237, 1, p1)->(), test-cfree-traj-pose:(#t237, 4, p0)->(), sample-pose:(1, 2)->(p3), inverse-kinematics:(1, p3, g0)->(q1, c0), test-cfree-traj-pose:(c0, 4, #p1)->(), test-cfree-traj-pose:(c1, 4, #p1)->(), test-cfree-pose-pose:(4, #p1, 1, p1)->(), test-cfree-pose-pose:(1, p3, 4, #p1)->(), test-cfree-approach-pose:(1, p1, g0, 4, #p1)->(), test-cfree-approach-pose:(4, p0, #g1, 1, p1)->(), test-cfree-approach-pose:(1, p3, g0, 4, #p1)->(), test-cfree-approach-pose:(4, #p1, #g1, 1, p1)->(), plan-free-motion:(q1, q0)->(#t1111), plan-free-motion:(q0, #q2)->(#t1112), plan-free-motion:(#q3, q2)->(#t1113), plan-holding-motion:(q2, q1, 1, g0)->(#t1114), plan-holding-motion:(#q2, #q3, 4, #g1)->(#t1115)]\n",
      "Action plan (9, 0.000): [move_free(q0, #q2, #t1112), pick(4, p0, #g1, #q2, #t237), move_holding(#q2, #q3, 4, #g1, #t1115), place(4, #p1, #g1, #q3, #t238), move_free(#q3, q2, #t1113), pick(1, p1, g0, q2, c1), move_holding(q2, q1, 1, g0, #t1114), place(1, p3, g0, q1, c0), move_free(q1, q0, #t1111)]\n",
      "iter=inf, outs=1) test-cfree-traj-pose:(c1, 1, p1)->[()]\n",
      "iter=0, outs=1) sample-grasp:(4)->[(g10)]\n",
      "iter=inf, outs=0) sample-pose:(4, 3)->[]\n",
      "Sampling for up to 272.094 seconds\n",
      "iter=inf, outs=1) test-cfree-traj-pose:(c17, 1, p1)->[()]\n",
      "iter=inf, outs=1) test-cfree-traj-pose:(c30, 1, p1)->[()]\n",
      "iter=inf, outs=1) test-cfree-traj-pose:(c5, 1, p1)->[()]\n",
      "iter=inf, outs=1) test-cfree-traj-pose:(c24, 1, p1)->[()]\n",
      "iter=inf, outs=1) test-cfree-traj-pose:(c3, 1, p1)->[()]\n",
      "iter=inf, outs=1) test-cfree-traj-pose:(c54, 1, p1)->[()]\n",
      "iter=inf, outs=1) test-cfree-traj-pose:(c10, 1, p1)->[()]\n",
      "iter=inf, outs=1) test-cfree-traj-pose:(c49, 1, p1)->[()]\n",
      "iter=inf, outs=1) test-cfree-traj-pose:(c39, 1, p1)->[()]\n"
     ]
    },
    {
     "name": "stdout",
     "output_type": "stream",
     "text": [
      "         128418639 function calls (126026146 primitive calls) in 43.155 seconds\n",
      "\n",
      "   Ordered by: internal time\n",
      "   List reduced from 1365 to 10 due to restriction <10>\n",
      "\n",
      "   ncalls  tottime  percall  cumtime  percall filename:lineno(function)\n",
      "4458057/2229325    3.009    0.000    7.191    0.000 /home/rnb/Projects/pddlstream/pddlstream/algorithms/skeleton.py:186(check_downstream_helper)\n",
      "  2229325    2.694    0.000   14.459    0.000 /home/rnb/Projects/pddlstream/pddlstream/algorithms/skeleton.py:308(_process_binding)\n",
      "  6687382    2.616    0.000    3.453    0.000 /home/rnb/Projects/pddlstream/pddlstream/algorithms/skeleton.py:145(is_dominated)\n",
      "  2229335    2.488    0.000    5.425    0.000 /home/rnb/Projects/pddlstream/pddlstream/algorithms/skeleton.py:201(get_priority)\n",
      "  2229325    1.768    0.000   29.625    0.000 /home/rnb/Projects/pddlstream/pddlstream/algorithms/skeleton.py:337(process_root)\n",
      "  2241602    1.743    0.000    2.809    0.000 {_heapq.heappop}\n",
      "        2    1.735    0.868   40.711   20.356 /home/rnb/Projects/pddlstream/pddlstream/algorithms/skeleton.py:398(timed_process)\n",
      "  2229335    1.641    0.000    8.512    0.000 /home/rnb/Projects/pddlstream/pddlstream/algorithms/skeleton.py:277(push_binding)\n",
      "  2229478    1.510    0.000    2.363    0.000 /home/rnb/Projects/pddlstream/pddlstream/language/constants.py:138(is_plan)\n",
      "  9683247    1.415    0.000    1.415    0.000 /home/rnb/Projects/pddlstream/pddlstream/utils.py:356(__lt__)\n",
      "\n",
      "\n"
     ]
    },
    {
     "ename": "KeyboardInterrupt",
     "evalue": "",
     "output_type": "error",
     "traceback": [
      "\u001b[0;31m---------------------------------------------------------------------------\u001b[0m",
      "\u001b[0;31mKeyboardInterrupt\u001b[0m                         Traceback (most recent call last)",
      "\u001b[0;32m<ipython-input-10-aa18de5b57d4>\u001b[0m in \u001b[0;36m<module>\u001b[0;34m()\u001b[0m\n\u001b[1;32m     16\u001b[0m                                           \u001b[0muse_pybullet_gui\u001b[0m\u001b[0;34m=\u001b[0m\u001b[0mUSE_PYBULLET_GUI\u001b[0m\u001b[0;34m,\u001b[0m \u001b[0mUSE_MOVEIT_IK\u001b[0m\u001b[0;34m=\u001b[0m\u001b[0mUSE_MOVEIT_IK\u001b[0m\u001b[0;34m,\u001b[0m\u001b[0;34m\u001b[0m\u001b[0m\n\u001b[1;32m     17\u001b[0m                                           \u001b[0mTIMED_COMPLETE\u001b[0m\u001b[0;34m=\u001b[0m\u001b[0mTIMED_COMPLETE\u001b[0m\u001b[0;34m,\u001b[0m\u001b[0;34m\u001b[0m\u001b[0m\n\u001b[0;32m---> 18\u001b[0;31m                                           IK_TRY_NUM=IK_TRY_NUM, IK_TIMEOUT_SINGLE=IK_TIMEOUT_SINGLE, VERBOSE=VERBOSE)\n\u001b[0m\u001b[1;32m     19\u001b[0m \u001b[0;34m\u001b[0m\u001b[0m\n\u001b[1;32m     20\u001b[0m \u001b[0mlog_dict\u001b[0m\u001b[0;34m.\u001b[0m\u001b[0mupdate\u001b[0m\u001b[0;34m(\u001b[0m\u001b[0mmplan\u001b[0m\u001b[0;34m.\u001b[0m\u001b[0mresult_log\u001b[0m\u001b[0;34m)\u001b[0m\u001b[0;34m\u001b[0m\u001b[0m\n",
      "\u001b[0;32m/home/rnb/Projects/rnb-planning/src/pkg/planning/pddlstream/plan_rnb.pyc\u001b[0m in \u001b[0;36msolve_in_pddlstream\u001b[0;34m(pscene, mplan, ROBOT_NAME, TOOL_NAME, HOME_POSE, goal_pairs, TIMEOUT_MOTION, MAX_TIME, MAX_ITER, MAX_SKELETONS, GRASP_SAMPLE, STABLE_SAMPLE, SHOW_STATE, SEARCH_SAMPLE_RATIO, use_pybullet_gui, USE_MOVEIT_IK, TIMED_COMPLETE, VERBOSE, IK_TRY_NUM, IK_TIMEOUT_SINGLE)\u001b[0m\n\u001b[1;32m    195\u001b[0m             solution = solve(problem, algorithm='adaptive',\n\u001b[1;32m    196\u001b[0m                              \u001b[0munit_costs\u001b[0m\u001b[0;34m=\u001b[0m\u001b[0mFalse\u001b[0m\u001b[0;34m,\u001b[0m \u001b[0msuccess_cost\u001b[0m\u001b[0;34m=\u001b[0m\u001b[0mINF\u001b[0m\u001b[0;34m,\u001b[0m \u001b[0mmax_time\u001b[0m\u001b[0;34m=\u001b[0m\u001b[0mMAX_TIME\u001b[0m\u001b[0;34m,\u001b[0m \u001b[0mmax_iterations\u001b[0m\u001b[0;34m=\u001b[0m\u001b[0mMAX_ITER\u001b[0m\u001b[0;34m,\u001b[0m\u001b[0;34m\u001b[0m\u001b[0m\n\u001b[0;32m--> 197\u001b[0;31m                              max_skeletons=MAX_SKELETONS, search_sample_ratio=SEARCH_SAMPLE_RATIO, verbose=VERBOSE)\n\u001b[0m\u001b[1;32m    198\u001b[0m             \u001b[0mgtimer\u001b[0m\u001b[0;34m.\u001b[0m\u001b[0mtoc\u001b[0m\u001b[0;34m(\u001b[0m\u001b[0;34m\"plan\"\u001b[0m\u001b[0;34m)\u001b[0m \u001b[0;34m/\u001b[0m \u001b[0;36m1000\u001b[0m\u001b[0;34m\u001b[0m\u001b[0m\n\u001b[1;32m    199\u001b[0m             \u001b[0msaver\u001b[0m\u001b[0;34m.\u001b[0m\u001b[0mrestore\u001b[0m\u001b[0;34m(\u001b[0m\u001b[0;34m)\u001b[0m\u001b[0;34m\u001b[0m\u001b[0m\n",
      "\u001b[0;32m/home/rnb/Projects/pddlstream/pddlstream/algorithms/meta.pyc\u001b[0m in \u001b[0;36msolve\u001b[0;34m(problem, algorithm, constraints, stream_info, replan_actions, unit_costs, success_cost, max_time, max_iterations, max_memory, initial_complexity, complexity_step, max_complexity, max_skeletons, search_sample_ratio, max_failures, unit_efforts, max_effort, effort_weight, reorder, visualize, verbose, **search_kwargs)\u001b[0m\n\u001b[1;32m    145\u001b[0m             \u001b[0;31m#bind=bind, max_failures=max_failures,\u001b[0m\u001b[0;34m\u001b[0m\u001b[0;34m\u001b[0m\u001b[0m\n\u001b[1;32m    146\u001b[0m             \u001b[0munit_efforts\u001b[0m\u001b[0;34m=\u001b[0m\u001b[0munit_efforts\u001b[0m\u001b[0;34m,\u001b[0m \u001b[0mmax_effort\u001b[0m\u001b[0;34m=\u001b[0m\u001b[0mmax_effort\u001b[0m\u001b[0;34m,\u001b[0m \u001b[0meffort_weight\u001b[0m\u001b[0;34m=\u001b[0m\u001b[0meffort_weight\u001b[0m\u001b[0;34m,\u001b[0m \u001b[0mreorder\u001b[0m\u001b[0;34m=\u001b[0m\u001b[0mreorder\u001b[0m\u001b[0;34m,\u001b[0m\u001b[0;34m\u001b[0m\u001b[0m\n\u001b[0;32m--> 147\u001b[0;31m             visualize=visualize, verbose=verbose, **search_kwargs)\n\u001b[0m\u001b[1;32m    148\u001b[0m     \u001b[0;32mraise\u001b[0m \u001b[0mNotImplementedError\u001b[0m\u001b[0;34m(\u001b[0m\u001b[0malgorithm\u001b[0m\u001b[0;34m)\u001b[0m\u001b[0;34m\u001b[0m\u001b[0m\n\u001b[1;32m    149\u001b[0m \u001b[0;34m\u001b[0m\u001b[0m\n",
      "\u001b[0;32m/home/rnb/Projects/pddlstream/pddlstream/algorithms/focused.pyc\u001b[0m in \u001b[0;36msolve_adaptive\u001b[0;34m(problem, max_skeletons, search_sample_ratio, **kwargs)\u001b[0m\n\u001b[1;32m    292\u001b[0m     \u001b[0;31m#assert search_sample_ratio > 0\u001b[0m\u001b[0;34m\u001b[0m\u001b[0;34m\u001b[0m\u001b[0m\n\u001b[1;32m    293\u001b[0m     return solve_abstract(problem, max_skeletons=max_skeletons, search_sample_ratio=search_sample_ratio,\n\u001b[0;32m--> 294\u001b[0;31m                           bind=None, max_failures=None, **kwargs)\n\u001b[0m\u001b[1;32m    295\u001b[0m \u001b[0;34m\u001b[0m\u001b[0m\n\u001b[1;32m    296\u001b[0m \u001b[0;32mdef\u001b[0m \u001b[0msolve_hierarchical\u001b[0m\u001b[0;34m(\u001b[0m\u001b[0mproblem\u001b[0m\u001b[0;34m,\u001b[0m \u001b[0;34m**\u001b[0m\u001b[0mkwargs\u001b[0m\u001b[0;34m)\u001b[0m\u001b[0;34m:\u001b[0m\u001b[0;34m\u001b[0m\u001b[0m\n",
      "\u001b[0;32m/home/rnb/Projects/pddlstream/pddlstream/algorithms/focused.pyc\u001b[0m in \u001b[0;36msolve_abstract\u001b[0;34m(problem, constraints, stream_info, replan_actions, unit_costs, success_cost, max_time, max_iterations, max_memory, initial_complexity, complexity_step, max_complexity, max_skeletons, search_sample_ratio, bind, max_failures, unit_efforts, max_effort, effort_weight, reorder, visualize, verbose, **search_kwargs)\u001b[0m\n\u001b[1;32m    229\u001b[0m         \u001b[0mallocated_sample_time\u001b[0m \u001b[0;34m=\u001b[0m \u001b[0;34m(\u001b[0m\u001b[0msearch_sample_ratio\u001b[0m \u001b[0;34m*\u001b[0m \u001b[0mstore\u001b[0m\u001b[0;34m.\u001b[0m\u001b[0msearch_time\u001b[0m\u001b[0;34m)\u001b[0m \u001b[0;34m-\u001b[0m \u001b[0mstore\u001b[0m\u001b[0;34m.\u001b[0m\u001b[0msample_time\u001b[0m\u001b[0;31m \u001b[0m\u001b[0;31m\\\u001b[0m\u001b[0;34m\u001b[0m\u001b[0m\n\u001b[1;32m    230\u001b[0m             \u001b[0;32mif\u001b[0m \u001b[0mlen\u001b[0m\u001b[0;34m(\u001b[0m\u001b[0mskeleton_queue\u001b[0m\u001b[0;34m.\u001b[0m\u001b[0mskeletons\u001b[0m\u001b[0;34m)\u001b[0m \u001b[0;34m<=\u001b[0m \u001b[0mmax_skeletons\u001b[0m \u001b[0;32melse\u001b[0m \u001b[0mINF\u001b[0m\u001b[0;34m\u001b[0m\u001b[0m\n\u001b[0;32m--> 231\u001b[0;31m         \u001b[0;32mif\u001b[0m \u001b[0mskeleton_queue\u001b[0m\u001b[0;34m.\u001b[0m\u001b[0mprocess\u001b[0m\u001b[0;34m(\u001b[0m\u001b[0mstream_plan\u001b[0m\u001b[0;34m,\u001b[0m \u001b[0mopt_plan\u001b[0m\u001b[0;34m,\u001b[0m \u001b[0mcost\u001b[0m\u001b[0;34m,\u001b[0m \u001b[0mcomplexity_limit\u001b[0m\u001b[0;34m,\u001b[0m \u001b[0mallocated_sample_time\u001b[0m\u001b[0;34m)\u001b[0m \u001b[0;32mis\u001b[0m \u001b[0mINFEASIBLE\u001b[0m\u001b[0;34m:\u001b[0m\u001b[0;34m\u001b[0m\u001b[0m\n\u001b[0m\u001b[1;32m    232\u001b[0m             \u001b[0;32mbreak\u001b[0m\u001b[0;34m\u001b[0m\u001b[0m\n\u001b[1;32m    233\u001b[0m \u001b[0;34m\u001b[0m\u001b[0m\n",
      "\u001b[0;32m/home/rnb/Projects/pddlstream/pddlstream/algorithms/skeleton.pyc\u001b[0m in \u001b[0;36mprocess\u001b[0;34m(self, stream_plan, action_plan, cost, complexity_limit, max_time, accelerate)\u001b[0m\n\u001b[1;32m    438\u001b[0m \u001b[0;34m\u001b[0m\u001b[0m\n\u001b[1;32m    439\u001b[0m         \u001b[0;31m# TODO: add and process\u001b[0m\u001b[0;34m\u001b[0m\u001b[0;34m\u001b[0m\u001b[0m\n\u001b[0;32m--> 440\u001b[0;31m         \u001b[0mself\u001b[0m\u001b[0;34m.\u001b[0m\u001b[0mtimed_process\u001b[0m\u001b[0;34m(\u001b[0m\u001b[0mmax_time\u001b[0m\u001b[0;34m=\u001b[0m\u001b[0;34m(\u001b[0m\u001b[0mmax_time\u001b[0m \u001b[0;34m-\u001b[0m \u001b[0melapsed_time\u001b[0m\u001b[0;34m(\u001b[0m\u001b[0mstart_time\u001b[0m\u001b[0;34m)\u001b[0m\u001b[0;34m)\u001b[0m\u001b[0;34m)\u001b[0m\u001b[0;34m\u001b[0m\u001b[0m\n\u001b[0m\u001b[1;32m    441\u001b[0m         \u001b[0mself\u001b[0m\u001b[0;34m.\u001b[0m\u001b[0mprocess_complexity\u001b[0m\u001b[0;34m(\u001b[0m\u001b[0mcomplexity_limit\u001b[0m\u001b[0;34m)\u001b[0m\u001b[0;34m\u001b[0m\u001b[0m\n\u001b[1;32m    442\u001b[0m         \u001b[0;32mif\u001b[0m \u001b[0maccelerate\u001b[0m\u001b[0;34m:\u001b[0m\u001b[0;34m\u001b[0m\u001b[0m\n",
      "\u001b[0;32m/home/rnb/Projects/pddlstream/pddlstream/algorithms/skeleton.pyc\u001b[0m in \u001b[0;36mtimed_process\u001b[0;34m(self, max_time, max_iterations)\u001b[0m\n\u001b[1;32m    405\u001b[0m         \u001b[0;32mwhile\u001b[0m \u001b[0mself\u001b[0m\u001b[0;34m.\u001b[0m\u001b[0mis_active\u001b[0m\u001b[0;34m(\u001b[0m\u001b[0;34m)\u001b[0m \u001b[0;32mand\u001b[0m \u001b[0;34m(\u001b[0m\u001b[0melapsed_time\u001b[0m\u001b[0;34m(\u001b[0m\u001b[0mstart_time\u001b[0m\u001b[0;34m)\u001b[0m \u001b[0;34m<\u001b[0m \u001b[0mmax_time\u001b[0m\u001b[0;34m)\u001b[0m \u001b[0;32mand\u001b[0m \u001b[0;34m(\u001b[0m\u001b[0miterations\u001b[0m \u001b[0;34m<\u001b[0m \u001b[0mmax_iterations\u001b[0m\u001b[0;34m)\u001b[0m\u001b[0;34m:\u001b[0m\u001b[0;34m\u001b[0m\u001b[0m\n\u001b[1;32m    406\u001b[0m             \u001b[0miterations\u001b[0m \u001b[0;34m+=\u001b[0m \u001b[0;36m1\u001b[0m\u001b[0;34m\u001b[0m\u001b[0m\n\u001b[0;32m--> 407\u001b[0;31m             \u001b[0mnum_new\u001b[0m \u001b[0;34m+=\u001b[0m \u001b[0mself\u001b[0m\u001b[0;34m.\u001b[0m\u001b[0mprocess_root\u001b[0m\u001b[0;34m(\u001b[0m\u001b[0;34m)\u001b[0m\u001b[0;34m\u001b[0m\u001b[0m\n\u001b[0m\u001b[1;32m    408\u001b[0m         \u001b[0;31m#print('Iterations: {} | New: {} | Time: {:.3f}'.format(iterations, num_new, elapsed_time(start_time)))\u001b[0m\u001b[0;34m\u001b[0m\u001b[0;34m\u001b[0m\u001b[0m\n\u001b[1;32m    409\u001b[0m         \u001b[0;32mreturn\u001b[0m \u001b[0mnum_new\u001b[0m \u001b[0;34m+\u001b[0m \u001b[0mself\u001b[0m\u001b[0;34m.\u001b[0m\u001b[0mgreedily_process\u001b[0m\u001b[0;34m(\u001b[0m\u001b[0;34m)\u001b[0m\u001b[0;34m\u001b[0m\u001b[0m\n",
      "\u001b[0;32m/home/rnb/Projects/pddlstream/pddlstream/algorithms/skeleton.pyc\u001b[0m in \u001b[0;36mprocess_root\u001b[0;34m(self)\u001b[0m\n\u001b[1;32m    339\u001b[0m         \u001b[0mreadd\u001b[0m\u001b[0;34m,\u001b[0m \u001b[0mis_new\u001b[0m \u001b[0;34m=\u001b[0m \u001b[0mself\u001b[0m\u001b[0;34m.\u001b[0m\u001b[0m_process_binding\u001b[0m\u001b[0;34m(\u001b[0m\u001b[0mbinding\u001b[0m\u001b[0;34m)\u001b[0m\u001b[0;34m\u001b[0m\u001b[0m\n\u001b[1;32m    340\u001b[0m         \u001b[0;32mif\u001b[0m \u001b[0mreadd\u001b[0m \u001b[0;32mis\u001b[0m \u001b[0;32mnot\u001b[0m \u001b[0mFalse\u001b[0m\u001b[0;34m:\u001b[0m\u001b[0;34m\u001b[0m\u001b[0m\n\u001b[0;32m--> 341\u001b[0;31m             \u001b[0mself\u001b[0m\u001b[0;34m.\u001b[0m\u001b[0mpush_binding\u001b[0m\u001b[0;34m(\u001b[0m\u001b[0mbinding\u001b[0m\u001b[0;34m)\u001b[0m\u001b[0;34m\u001b[0m\u001b[0m\n\u001b[0m\u001b[1;32m    342\u001b[0m         \u001b[0;31m# TODO: if readd == STANDBY\u001b[0m\u001b[0;34m\u001b[0m\u001b[0;34m\u001b[0m\u001b[0m\n\u001b[1;32m    343\u001b[0m         \u001b[0;32mreturn\u001b[0m \u001b[0mis_new\u001b[0m\u001b[0;34m\u001b[0m\u001b[0m\n",
      "\u001b[0;32m/home/rnb/Projects/pddlstream/pddlstream/algorithms/skeleton.pyc\u001b[0m in \u001b[0;36mpush_binding\u001b[0;34m(self, binding)\u001b[0m\n\u001b[1;32m    277\u001b[0m     \u001b[0;32mdef\u001b[0m \u001b[0mpush_binding\u001b[0m\u001b[0;34m(\u001b[0m\u001b[0mself\u001b[0m\u001b[0;34m,\u001b[0m \u001b[0mbinding\u001b[0m\u001b[0;34m)\u001b[0m\u001b[0;34m:\u001b[0m\u001b[0;34m\u001b[0m\u001b[0m\n\u001b[1;32m    278\u001b[0m         \u001b[0;31m# TODO: add to standby if not active\u001b[0m\u001b[0;34m\u001b[0m\u001b[0;34m\u001b[0m\u001b[0m\n\u001b[0;32m--> 279\u001b[0;31m         \u001b[0mpriority\u001b[0m \u001b[0;34m=\u001b[0m \u001b[0mbinding\u001b[0m\u001b[0;34m.\u001b[0m\u001b[0mget_priority\u001b[0m\u001b[0;34m(\u001b[0m\u001b[0;34m)\u001b[0m\u001b[0;34m\u001b[0m\u001b[0m\n\u001b[0m\u001b[1;32m    280\u001b[0m         \u001b[0melement\u001b[0m \u001b[0;34m=\u001b[0m \u001b[0mHeapElement\u001b[0m\u001b[0;34m(\u001b[0m\u001b[0mpriority\u001b[0m\u001b[0;34m,\u001b[0m \u001b[0mbinding\u001b[0m\u001b[0;34m)\u001b[0m\u001b[0;34m\u001b[0m\u001b[0m\n\u001b[1;32m    281\u001b[0m         \u001b[0mheappush\u001b[0m\u001b[0;34m(\u001b[0m\u001b[0mself\u001b[0m\u001b[0;34m.\u001b[0m\u001b[0mqueue\u001b[0m\u001b[0;34m,\u001b[0m \u001b[0melement\u001b[0m\u001b[0;34m)\u001b[0m\u001b[0;34m\u001b[0m\u001b[0m\n",
      "\u001b[0;32m/home/rnb/Projects/pddlstream/pddlstream/algorithms/skeleton.pyc\u001b[0m in \u001b[0;36mget_priority\u001b[0;34m(self)\u001b[0m\n\u001b[1;32m    206\u001b[0m         \u001b[0;31m#priority = self.visits\u001b[0m\u001b[0;34m\u001b[0m\u001b[0;34m\u001b[0m\u001b[0m\n\u001b[1;32m    207\u001b[0m         \u001b[0;31m#priority = self.compute_complexity()\u001b[0m\u001b[0;34m\u001b[0m\u001b[0;34m\u001b[0m\u001b[0m\n\u001b[0;32m--> 208\u001b[0;31m         \u001b[0mpriority\u001b[0m \u001b[0;34m=\u001b[0m \u001b[0mself\u001b[0m\u001b[0;34m.\u001b[0m\u001b[0mcompute_complexity\u001b[0m\u001b[0;34m(\u001b[0m\u001b[0;34m)\u001b[0m \u001b[0;34m+\u001b[0m \u001b[0;34m(\u001b[0m\u001b[0mself\u001b[0m\u001b[0;34m.\u001b[0m\u001b[0mvisits\u001b[0m \u001b[0;34m-\u001b[0m \u001b[0mself\u001b[0m\u001b[0;34m.\u001b[0m\u001b[0mcalls\u001b[0m\u001b[0;34m)\u001b[0m \u001b[0;31m# TODO: check this\u001b[0m\u001b[0;34m\u001b[0m\u001b[0m\n\u001b[0m\u001b[1;32m    209\u001b[0m         \u001b[0;31m# TODO: call_index\u001b[0m\u001b[0;34m\u001b[0m\u001b[0;34m\u001b[0m\u001b[0m\n\u001b[1;32m    210\u001b[0m         \u001b[0mremaining\u001b[0m \u001b[0;34m=\u001b[0m \u001b[0mlen\u001b[0m\u001b[0;34m(\u001b[0m\u001b[0mself\u001b[0m\u001b[0;34m.\u001b[0m\u001b[0mskeleton\u001b[0m\u001b[0;34m.\u001b[0m\u001b[0mstream_plan\u001b[0m\u001b[0;34m)\u001b[0m \u001b[0;34m-\u001b[0m \u001b[0mself\u001b[0m\u001b[0;34m.\u001b[0m\u001b[0mindex\u001b[0m\u001b[0;34m\u001b[0m\u001b[0m\n",
      "\u001b[0;32m/home/rnb/Projects/pddlstream/pddlstream/algorithms/skeleton.pyc\u001b[0m in \u001b[0;36mcompute_complexity\u001b[0;34m(self)\u001b[0m\n\u001b[1;32m    174\u001b[0m             \u001b[0mself\u001b[0m\u001b[0;34m.\u001b[0m\u001b[0mcomplexity\u001b[0m \u001b[0;34m=\u001b[0m \u001b[0mCOMPLEXITY_OP\u001b[0m\u001b[0;34m(\u001b[0m\u001b[0mself\u001b[0m\u001b[0;34m.\u001b[0m\u001b[0mcomplexities\u001b[0m\u001b[0;34m)\u001b[0m\u001b[0;34m\u001b[0m\u001b[0m\n\u001b[1;32m    175\u001b[0m             \u001b[0;31m#self.complexity = stream_plan_complexity(self.skeleton.queue.evaluations, self.skeleton.stream_plan, future)\u001b[0m\u001b[0;34m\u001b[0m\u001b[0;34m\u001b[0m\u001b[0m\n\u001b[0;32m--> 176\u001b[0;31m         \u001b[0;32mreturn\u001b[0m \u001b[0mself\u001b[0m\u001b[0;34m.\u001b[0m\u001b[0mcomplexity\u001b[0m\u001b[0;34m\u001b[0m\u001b[0m\n\u001b[0m\u001b[1;32m    177\u001b[0m         \u001b[0;31m#return compute_complexity(self.skeleton.queue.evaluations, self.result.get_domain()) + \\\u001b[0m\u001b[0;34m\u001b[0m\u001b[0;34m\u001b[0m\u001b[0m\n\u001b[1;32m    178\u001b[0m         \u001b[0;31m#       self.result.external.get_complexity(self.visits) # visits, calls\u001b[0m\u001b[0;34m\u001b[0m\u001b[0;34m\u001b[0m\u001b[0m\n",
      "\u001b[0;31mKeyboardInterrupt\u001b[0m: "
     ]
    }
   ],
   "source": [
    "########################################################\n",
    "#################### Solve problem  ####################\n",
    "obj_pscene = pscene.subject_dict[pscene.subject_name_list[0]]\n",
    "obj_pscene.geometry.color = (0.8, 0.2, 0.2, 1)\n",
    "gscene.update_markers_all()\n",
    "goal_pairs=[(\"obj_0\", 'gp')]\n",
    "# goal_pairs=[(\"obj_1\", 'gp'), (\"obj_0\", 'gp')]\n",
    "\n",
    "gtimer = GlobalTimer.instance()\n",
    "gtimer.reset(stack=STACK_TIMELOG)\n",
    "\n",
    "\n",
    "res, plan, log_dict = solve_in_pddlstream(pscene, mplan, ROBOT_NAME, TOOL_NAME, HOME_POSE, goal_pairs,\n",
    "                                          TIMEOUT_MOTION, MAX_TIME, MAX_ITER, MAX_SKELETONS,\n",
    "                                          GRASP_SAMPLE, STABLE_SAMPLE, SHOW_STATE, SEARCH_SAMPLE_RATIO,\n",
    "                                          use_pybullet_gui=USE_PYBULLET_GUI, USE_MOVEIT_IK=USE_MOVEIT_IK, \n",
    "                                          TIMED_COMPLETE=TIMED_COMPLETE,\n",
    "                                          IK_TRY_NUM=IK_TRY_NUM, IK_TIMEOUT_SINGLE=IK_TIMEOUT_SINGLE, VERBOSE=VERBOSE)\n",
    "\n",
    "log_dict.update(mplan.result_log)\n",
    "log_dict.update(GlobalLogger.instance())"
   ]
  },
  {
   "cell_type": "code",
   "execution_count": 11,
   "metadata": {},
   "outputs": [],
   "source": [
    "if VISUALIZE and PLAY_RESULT and res:\n",
    "    play_pddl_plan(pscene, pscene.actor_dict[\"grip0\"], initial_state=initial_state,\n",
    "                   body_names=log_dict['body_names'], plan=plan, SHOW_PERIOD=0.01)\n"
   ]
  },
  {
   "cell_type": "code",
   "execution_count": null,
   "metadata": {},
   "outputs": [],
   "source": [
    "print({k:v for k,v in log_dict['body_names'].items() if \"obj\" in v})\n",
    "print({k:v for k,v in log_dict['body_names'].items() if v.endswith('p')})"
   ]
  },
  {
   "cell_type": "code",
   "execution_count": null,
   "metadata": {},
   "outputs": [],
   "source": [
    "for k, v in pscene.actor_dict.items():\n",
    "    print(\"{}:{}-{}\".format(k, v.name, v.geometry.name))"
   ]
  },
  {
   "cell_type": "code",
   "execution_count": null,
   "metadata": {},
   "outputs": [],
   "source": []
  },
  {
   "cell_type": "code",
   "execution_count": null,
   "metadata": {},
   "outputs": [],
   "source": []
  },
  {
   "cell_type": "markdown",
   "metadata": {},
   "source": [
    "## Old version"
   ]
  },
  {
   "cell_type": "code",
   "execution_count": 8,
   "metadata": {
    "scrolled": false
   },
   "outputs": [
    {
     "name": "stdout",
     "output_type": "stream",
     "text": [
      "Dash is running on http://0.0.0.0:8050/\n",
      "\n",
      " * Serving Flask app \"pkg.ui.dash_launcher\" (lazy loading)\n"
     ]
    }
   ],
   "source": [
    "from pkg.planning.pipeline import PlanningPipeline\n",
    "ppline = PlanningPipeline(pscene)\n",
    "\n",
    "from pkg.ui.ui_broker import *\n",
    "\n",
    "# start UI\n",
    "ui_broker = UIBroker.instance()\n",
    "ui_broker.initialize(ppline, s_builder)\n",
    "ui_broker.start_server()\n",
    "\n",
    "ui_broker.set_tables()\n",
    "\n",
    "from pkg.planning.motion.moveit.moveit_planner import MoveitPlanner\n",
    "from pkg.planning.task.rrt import TaskRRT\n",
    "tplan = TaskRRT(pscene)"
   ]
  },
  {
   "cell_type": "code",
   "execution_count": 9,
   "metadata": {},
   "outputs": [
    {
     "name": "stdout",
     "output_type": "stream",
     "text": [
      " * Environment: production\n",
      "   WARNING: This is a development server. Do not use it in a production deployment.\n",
      "   Use a production WSGI server instead.\n",
      " * Debug mode: off\n"
     ]
    }
   ],
   "source": [
    "ppline.set_motion_planner(mplan)\n",
    "ppline.set_task_planner(tplan)"
   ]
  },
  {
   "cell_type": "code",
   "execution_count": 10,
   "metadata": {
    "scrolled": true
   },
   "outputs": [
    {
     "name": "stdout",
     "output_type": "stream",
     "text": [
      "Use 20/20 agents\n",
      "Goal reached\n",
      "++ adding return motion to acquired answer ++\n",
      "Goal reached\n",
      "=========================================================================================================\n",
      "=========================================================================================================\n",
      "======================= terminated 9: first answer acquired ===============================\n",
      "======================= terminated 6: first answer acquired from other agent ===============================\n",
      "=========================================================================================================\n",
      "=========================================================================================================\n",
      "=========================================================================================================\n",
      "=========================================================================================================\n",
      "======================= terminated 4: first answer acquired from other agent ===============================\n",
      "=========================================================================================================\n",
      "=========================================================================================================\n",
      "======================= terminated 1: first answer acquired from other agent ===============================\n",
      "=========================================================================================================\n",
      "======================= terminated 11: first answer acquired from other agent ===============================\n",
      "=========================================================================================================\n",
      "=========================================================================================================\n",
      "======================= terminated 10: first answer acquired from other agent ===============================\n",
      "=========================================================================================================\n",
      "=========================================================================================================\n",
      "======================= terminated 13: first answer acquired from other agent ===============================\n",
      "=========================================================================================================\n",
      "=========================================================================================================\n",
      "=========================================================================================================\n",
      "======================= terminated 16: first answer acquired from other agent ===============================\n",
      "======================= terminated 8: first answer acquired from other agent ===============================\n",
      "=========================================================================================================\n",
      "=========================================================================================================\n",
      "=========================================================================================================\n",
      "======================= terminated 14: first answer acquired from other agent ===============================\n",
      "=========================================================================================================\n",
      "=========================================================================================================\n",
      "======================= terminated 18: first answer acquired from other agent ===============================\n",
      "=========================================================================================================\n",
      "=========================================================================================================\n",
      "=========================================================================================================\n",
      "======================= terminated 3: first answer acquired from other agent ===============================\n",
      "======================= terminated 7: first answer acquired from other agent ===============================\n",
      "=========================================================================================================\n",
      "=========================================================================================================\n",
      "=========================================================================================================\n",
      "======================= terminated 5: first answer acquired from other agent ===============================\n",
      "=========================================================================================================\n",
      "=========================================================================================================\n",
      "======================= terminated 15: first answer acquired from other agent ===============================\n",
      "=========================================================================================================\n",
      "=========================================================================================================\n",
      "======================= terminated 12: first answer acquired from other agent ===============================\n",
      "=========================================================================================================\n",
      "=========================================================================================================\n",
      "======================= terminated 17: first answer acquired from other agent ===============================\n",
      "=========================================================================================================\n",
      "=========================================================================================================\n",
      "======================= terminated 19: first answer acquired from other agent ===============================\n",
      "=========================================================================================================\n",
      "=========================================================================================================\n",
      "======================= terminated 0: first answer acquired from other agent ===============================\n",
      "=========================================================================================================\n"
     ]
    }
   ],
   "source": [
    "from_state = initial_state.copy(pscene)\n",
    "from_state.Q = HOME_POSE\n",
    "goal_nodes = [('gp','wp','wp')]\n",
    "ppline.search(from_state, goal_nodes, verbose=False, display=False, \n",
    "              timeout_loop=100, multiprocess=True, timeout=1, add_homing=True)"
   ]
  },
  {
   "cell_type": "code",
   "execution_count": 11,
   "metadata": {},
   "outputs": [],
   "source": [
    "snode_schedule = ppline.tplan.get_best_schedule()"
   ]
  },
  {
   "cell_type": "code",
   "execution_count": 12,
   "metadata": {},
   "outputs": [
    {
     "name": "stdout",
     "output_type": "stream",
     "text": [
      "('wp', 'wp', 'wp')->('wp', 'grip0', 'wp')\n",
      "('wp', 'grip0', 'wp')->('wp', 'gp', 'wp')\n",
      "('wp', 'gp', 'wp')->('wp', 'gp', 'grip0')\n",
      "('wp', 'gp', 'grip0')->('wp', 'gp', 'wp')\n",
      "('wp', 'gp', 'wp')->('grip0', 'gp', 'wp')\n",
      "('grip0', 'gp', 'wp')->('wp', 'gp', 'wp')\n",
      "('wp', 'gp', 'wp')->('grip0', 'gp', 'wp')\n",
      "('grip0', 'gp', 'wp')->('gp', 'gp', 'wp')\n",
      "('gp', 'gp', 'wp')->('gp', 'gp', 'grip0')\n",
      "('gp', 'gp', 'grip0')->('gp', 'gp', 'wp')\n",
      "('gp', 'gp', 'wp')->('gp', 'grip0', 'wp')\n",
      "('gp', 'grip0', 'wp')->('gp', 'wp', 'wp')\n",
      "('gp', 'wp', 'wp')->('gp', 'wp', 'wp')\n"
     ]
    }
   ],
   "source": [
    "ppline.play_schedule(snode_schedule)"
   ]
  },
  {
   "cell_type": "code",
   "execution_count": null,
   "metadata": {},
   "outputs": [],
   "source": []
  },
  {
   "cell_type": "code",
   "execution_count": null,
   "metadata": {},
   "outputs": [],
   "source": []
  }
 ],
 "metadata": {
  "kernelspec": {
   "display_name": "Python 2",
   "language": "python",
   "name": "python2"
  },
  "language_info": {
   "codemirror_mode": {
    "name": "ipython",
    "version": 2
   },
   "file_extension": ".py",
   "mimetype": "text/x-python",
   "name": "python",
   "nbconvert_exporter": "python",
   "pygments_lexer": "ipython2",
   "version": "2.7.17"
  }
 },
 "nbformat": 4,
 "nbformat_minor": 2
}
