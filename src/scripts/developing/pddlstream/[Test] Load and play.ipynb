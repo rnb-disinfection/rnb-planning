{
 "cells": [
  {
   "cell_type": "code",
   "execution_count": 1,
   "metadata": {},
   "outputs": [
    {
     "name": "stdout",
     "output_type": "stream",
     "text": [
      "--------------------------------------------------\n",
      "DATASET_PATH: /home/rnb/Projects/rnb-planning/data/stowing-deep/panda/20210917-113211\n",
      "RESULTSET_PATH: /home/rnb/Projects/rnb-planning/data/stowing-deep-result-btf-ik08-to2.0/panda/20210917-113211\n",
      "--------------------------------------------------\n",
      "connection command:\n",
      "panda0: False\n",
      "Please create a subscriber to the marker\n",
      "publication OK\n",
      "published: [0, 0, 0, 0, 0, 0, 0]\n",
      "Please create a subscriber to the marker\n"
     ]
    }
   ],
   "source": [
    "from __future__ import print_function\n",
    "import os\n",
    "import sys\n",
    "\n",
    "sys.path.append(os.path.join(os.environ[\"RNB_PLANNING_DIR\"], \"src\"))\n",
    "\n",
    "from pkg.utils.test_scripts import *\n",
    "from pkg.planning.pddlstream.plan_rnb import *\n",
    "\n",
    "rtype = \"panda\"\n",
    "dat_root = \"stowing-deep\"\n",
    "res_root = \"stowing-deep-result-btf-ik08-to2.0\"\n",
    "dat_dir = \"20210917-113211\"\n",
    "VISUALIZE = True\n",
    "PLAY_RESULT = True\n",
    "\n",
    "TOOL_NAME=\"grip0\"\n",
    "ROBOT_TYPE = {e.name: e for e in RobotType}[rtype]\n",
    "\n",
    "########################################################\n",
    "################### Create data folders ################\n",
    "DATASET_PATH = create_data_dirs(dat_root, rtype, dat_dir)\n",
    "RESULTSET_PATH = create_data_dirs(res_root, rtype, dat_dir)\n",
    "print(\"-\"*50)\n",
    "print(\"DATASET_PATH: {}\".format(DATASET_PATH))\n",
    "print(\"RESULTSET_PATH: {}\".format(RESULTSET_PATH))\n",
    "print(\"-\"*50)\n",
    "\n",
    "########################################################\n",
    "########## Load scene and prepare planner  #############\n",
    "ROBOT_NAME, TOOL_LINK, TOOL_XYZ, TOOL_RPY, HOME_POSE, GRIP_DEPTH = get_single_robot_params(ROBOT_TYPE)\n",
    "s_builder, pscene = prepare_single_robot_scene(ROBOT_TYPE, ROBOT_NAME, TOOL_LINK, TOOL_XYZ, TOOL_RPY, VISUALIZE=VISUALIZE)\n",
    "crob, gscene = pscene.combined_robot, pscene.gscene"
   ]
  },
  {
   "cell_type": "markdown",
   "metadata": {},
   "source": [
    "## load scene"
   ]
  },
  {
   "cell_type": "code",
   "execution_count": 2,
   "metadata": {},
   "outputs": [],
   "source": [
    "file_option = \"obj_3c_obs7\"\n",
    "data_idx = 1"
   ]
  },
  {
   "cell_type": "code",
   "execution_count": 3,
   "metadata": {},
   "outputs": [],
   "source": [
    "fname = \"data_%s_%02d.pkl\" % (file_option, data_idx)\n",
    "file_gtems = os.path.join(DATASET_PATH, fname)\n",
    "try:\n",
    "    initial_state = load_saved_scene(pscene, file_gtems, VISUALIZE=VISUALIZE)\n",
    "except:\n",
    "    pass\n",
    "gscene.NAME_DICT['obj_0'].color = (1,0,0,1)\n",
    "gscene.update_markers_all()"
   ]
  },
  {
   "cell_type": "markdown",
   "metadata": {},
   "source": [
    "## play plan"
   ]
  },
  {
   "cell_type": "code",
   "execution_count": 14,
   "metadata": {},
   "outputs": [],
   "source": [
    "cname = \"Full\""
   ]
  },
  {
   "cell_type": "code",
   "execution_count": 19,
   "metadata": {},
   "outputs": [
    {
     "name": "stdout",
     "output_type": "stream",
     "text": [
      "Action(name='move_free', args=(q0, q1, c4))\n",
      "Action(name='pick', args=(2L, p2, g3, q1, c0))\n",
      "Action(name='move_holding', args=(q1, q3, 2L, g3, c5))\n",
      "Action(name='place', args=(2L, p8, g3, q3, c2))\n",
      "Action(name='move_free', args=(q3, q0, c3))\n"
     ]
    }
   ],
   "source": [
    "sample = load_pickle(os.path.join(RESULTSET_PATH, \"result_%s_%02d_%s.pkl\" % (file_option, data_idx, cname)))\n",
    "\n",
    "res = sample[\"success\"]\n",
    "plan = sample[\"plan\"]\n",
    "body_names = sample[\"body_names\"]\n",
    "\n",
    "if res:\n",
    "    for action in plan:\n",
    "        print(action)\n",
    "\n",
    "    if VISUALIZE and PLAY_RESULT and res:\n",
    "        play_pddl_plan(pscene, pscene.actor_dict[\"grip0\"], initial_state=initial_state,\n",
    "                       body_names=body_names, plan=plan, SHOW_PERIOD=0.05)\n"
   ]
  },
  {
   "cell_type": "markdown",
   "metadata": {},
   "source": [
    "## Loop"
   ]
  },
  {
   "cell_type": "code",
   "execution_count": 5,
   "metadata": {},
   "outputs": [],
   "source": [
    "file_options = [\"obj_1c_obs0\", \"obj_1c_obs3\", \"obj_1c_obs5\", \"obj_1c_obs7\", \"obj_3c_obs3\", \"obj_3c_obs5\", \"obj_3c_obs7\"]"
   ]
  },
  {
   "cell_type": "code",
   "execution_count": 22,
   "metadata": {},
   "outputs": [
    {
     "name": "stdout",
     "output_type": "stream",
     "text": [
      "Action(name='move_free', args=(q0, q1, c10))\n",
      "Action(name='pick', args=(2L, p2, g2, q1, c0))\n",
      "Action(name='move_holding', args=(q1, q9, 2L, g2, c11))\n",
      "Action(name='place', args=(2L, p15, g2, q9, c8))\n",
      "Action(name='move_free', args=(q9, q0, c9))\n",
      "Action(name='move_free', args=(q0, q5, c6))\n",
      "Action(name='pick', args=(2L, p2, g5, q5, c4))\n",
      "Action(name='move_holding', args=(q5, q4, 2L, g5, c7))\n",
      "Action(name='place', args=(2L, p10, g5, q4, c3))\n",
      "Action(name='move_free', args=(q4, q0, c5))\n",
      "Action(name='move_free', args=(q0, q6, c7))\n",
      "Action(name='pick', args=(2L, p2, g8, q6, c5))\n",
      "Action(name='move_holding', args=(q6, q5, 2L, g8, c8))\n",
      "Action(name='place', args=(2L, p3, g8, q5, c4))\n",
      "Action(name='move_free', args=(q5, q0, c6))\n",
      "Action(name='move_free', args=(q0, q1, c2))\n",
      "Action(name='pick', args=(2L, p2, g0, q1, c0))\n",
      "Action(name='move_holding', args=(q1, q3, 2L, g0, c6))\n",
      "Action(name='place', args=(2L, p4, g0, q3, c4))\n",
      "Action(name='move_free', args=(q3, q0, c5))\n",
      "Action(name='move_free', args=(q0, q3, c8))\n",
      "Action(name='pick', args=(2L, p2, g10, q3, c2))\n",
      "Action(name='move_holding', args=(q3, q7, 2L, g10, c9))\n",
      "Action(name='place', args=(2L, p24, g10, q7, c6))\n",
      "Action(name='move_free', args=(q7, q0, c7))\n",
      "Action(name='move_free', args=(q0, q17, c19))\n",
      "Action(name='pick', args=(2L, p2, g10, q17, c16))\n",
      "Action(name='move_holding', args=(q17, q18, 2L, g10, c20))\n",
      "Action(name='place', args=(2L, p3, g10, q18, c17))\n",
      "Action(name='move_free', args=(q18, q0, c18))\n",
      "Action(name='move_free', args=(q0, q1, c2))\n",
      "Action(name='pick', args=(2L, p2, g0, q1, c0))\n",
      "Action(name='move_holding', args=(q1, q2, 2L, g0, c4))\n",
      "Action(name='place', args=(2L, p3, g0, q2, c1))\n",
      "Action(name='move_free', args=(q2, q0, c3))\n",
      "Action(name='move_free', args=(q0, q10, c12))\n",
      "Action(name='pick', args=(2L, p2, g10, q10, c9))\n",
      "Action(name='move_holding', args=(q10, q11, 2L, g10, c13))\n",
      "Action(name='place', args=(2L, p10, g10, q11, c10))\n",
      "Action(name='move_free', args=(q11, q0, c11))\n",
      "Action(name='move_free', args=(q0, q6, c8))\n",
      "Action(name='pick', args=(2L, p2, g5, q6, c6))\n",
      "Action(name='move_holding', args=(q6, q5, 2L, g5, c9))\n",
      "Action(name='place', args=(2L, p4, g5, q5, c5))\n",
      "Action(name='move_free', args=(q5, q0, c7))\n",
      "Action(name='move_free', args=(q0, q4, c5))\n",
      "Action(name='pick', args=(2L, p2, g24, q4, c3))\n",
      "Action(name='move_holding', args=(q4, q5, 2L, g24, c7))\n",
      "Action(name='place', args=(2L, p5, g24, q5, c4))\n",
      "Action(name='move_free', args=(q5, q0, c6))\n"
     ]
    }
   ],
   "source": [
    "for file_option in file_options[-1:]:\n",
    "    N_tests = 50\n",
    "    len_list = []\n",
    "\n",
    "    for data_idx in range(N_tests):\n",
    "        lens = []\n",
    "        for cname in [\"None\", \"Tool\", \"ToolReach\", \"Full\"]:\n",
    "            sample = load_pickle(os.path.join(RESULTSET_PATH, \"result_%s_%02d_%s.pkl\" % (file_option, data_idx, cname)))\n",
    "            plan = sample['plan']\n",
    "            if plan is None:\n",
    "                continue\n",
    "            traj_all = []\n",
    "            for act in plan:\n",
    "                if \"move\" in act.name:\n",
    "                    bp =act.args[-1].body_paths[0]\n",
    "                    traj_all+=list(bp.path)\n",
    "            traj_all = np.array(traj_all)\n",
    "            lens.append(np.sum(np.linalg.norm(differentiate(traj_all, 1), axis=-1)))\n",
    "        if len(lens) == 4:\n",
    "            len_list.append(lens)\n",
    "        else:\n",
    "            len_list.append([0]*4)\n",
    "\n",
    "    minlen_list = np.min(len_list, axis=-1)\n",
    "    idc_longer = np.argsort(-minlen_list)\n",
    "    \n",
    "    for data_idx in idc_longer[:10]:\n",
    "        data_idx += 1\n",
    "\n",
    "        sample = load_pickle(os.path.join(RESULTSET_PATH, \"result_%s_%02d_%s.pkl\" % (file_option, data_idx, cname)))\n",
    "\n",
    "        res = sample[\"success\"]\n",
    "        plan = sample[\"plan\"]\n",
    "        body_names = sample[\"body_names\"]\n",
    "\n",
    "        if not res: continue\n",
    "            \n",
    "        pscene.clear_subjects()\n",
    "\n",
    "        fname = \"data_%s_%02d.pkl\" % (file_option, data_idx)\n",
    "        file_gtems = os.path.join(DATASET_PATH, fname)\n",
    "        try:\n",
    "            initial_state = load_saved_scene(pscene, file_gtems, VISUALIZE=VISUALIZE)\n",
    "        except:\n",
    "            pass\n",
    "        gscene.NAME_DICT['obj_0'].color = (1,0,0,1)\n",
    "        for gtem in gscene:\n",
    "            if \"obs\" in gtem.name:\n",
    "                gtem.color = (0.5,0.5,0.5,0.3)\n",
    "            if \"floor\" in gtem.name:\n",
    "                gtem.color = (0.8,0.8,0.8,1.0)\n",
    "        gscene.update_markers_all()\n",
    "\n",
    "        for action in plan:\n",
    "            print(action)\n",
    "        time.sleep(10)\n",
    "\n",
    "        if VISUALIZE and PLAY_RESULT and res:\n",
    "            play_pddl_plan(pscene, pscene.actor_dict[\"grip0\"], initial_state=initial_state,\n",
    "                           body_names=body_names, plan=plan, SHOW_PERIOD=0.05)\n"
   ]
  },
  {
   "cell_type": "code",
   "execution_count": 37,
   "metadata": {},
   "outputs": [],
   "source": []
  },
  {
   "cell_type": "code",
   "execution_count": 68,
   "metadata": {},
   "outputs": [],
   "source": []
  },
  {
   "cell_type": "code",
   "execution_count": 71,
   "metadata": {},
   "outputs": [
    {
     "data": {
      "text/plain": [
       "[<matplotlib.lines.Line2D at 0x7fa51b04d9d0>]"
      ]
     },
     "execution_count": 71,
     "metadata": {},
     "output_type": "execute_result"
    },
    {
     "data": {
      "image/png": "[encoded data removed]",
      "text/plain": [
       "<Figure size 432x288 with 1 Axes>"
      ]
     },
     "metadata": {
      "needs_background": "light"
     },
     "output_type": "display_data"
    }
   ],
   "source": [
    "import matplotlib.pyplot as plt\n",
    "plt.plot(sorted(minlen_list))"
   ]
  },
  {
   "cell_type": "code",
   "execution_count": null,
   "metadata": {},
   "outputs": [],
   "source": []
  },
  {
   "cell_type": "code",
   "execution_count": 49,
   "metadata": {},
   "outputs": [
    {
     "data": {
      "text/plain": [
       "[array([ 0.        , -0.3       ,  0.        , -0.5       ,  0.        ,\n",
       "         2.5       ,  1.57079633]),\n",
       " array([ 3.20885174e-02, -3.13031595e-01,  1.59469703e-03, -5.30155430e-01,\n",
       "        -3.54312042e-02,  2.50098317e+00,  1.52768658e+00]),\n",
       " array([ 0.06417703, -0.32606319,  0.00318939, -0.56031086, -0.07086241,\n",
       "         2.50196634,  1.48457682]),\n",
       " array([ 0.09626555, -0.33909479,  0.00478409, -0.59046629, -0.10629361,\n",
       "         2.50294951,  1.44146707]),\n",
       " array([ 0.12835407, -0.35212638,  0.00637879, -0.62062172, -0.14172482,\n",
       "         2.50393268,  1.39835732]),\n",
       " array([ 0.16044259, -0.36515798,  0.00797349, -0.65077715, -0.17715602,\n",
       "         2.50491585,  1.35524757]),\n",
       " array([ 0.1925311 , -0.37818957,  0.00956818, -0.68093258, -0.21258723,\n",
       "         2.50589902,  1.31213782]),\n",
       " array([ 0.22461962, -0.39122117,  0.01116288, -0.71108801, -0.24801843,\n",
       "         2.50688219,  1.26902807]),\n",
       " array([ 0.25670814, -0.40425276,  0.01275758, -0.74124344, -0.28344963,\n",
       "         2.50786536,  1.22591832]),\n",
       " array([ 0.28879666, -0.41728436,  0.01435227, -0.77139887, -0.31888084,\n",
       "         2.50884852,  1.18280856]),\n",
       " array([ 0.32088517, -0.43031595,  0.01594697, -0.8015543 , -0.35431204,\n",
       "         2.50983169,  1.13969881]),\n",
       " array([ 0.35297369, -0.44334755,  0.01754167, -0.83170973, -0.38974325,\n",
       "         2.51081486,  1.09658906]),\n",
       " array([ 0.38506221, -0.45637915,  0.01913636, -0.86186516, -0.42517445,\n",
       "         2.51179803,  1.05347931]),\n",
       " array([ 0.41715073, -0.46941074,  0.02073106, -0.89202059, -0.46060565,\n",
       "         2.5127812 ,  1.01036956]),\n",
       " array([ 0.44923924, -0.48244234,  0.02232576, -0.92217602, -0.49603686,\n",
       "         2.51376437,  0.96725981]),\n",
       " array([ 0.48132776, -0.49547393,  0.02392046, -0.95233145, -0.53146806,\n",
       "         2.51474754,  0.92415006]),\n",
       " array([ 0.51341628, -0.50850553,  0.02551515, -0.98248688, -0.56689927,\n",
       "         2.51573071,  0.8810403 ]),\n",
       " array([ 0.5455048 , -0.52153712,  0.02710985, -1.01264231, -0.60233047,\n",
       "         2.51671388,  0.83793055]),\n",
       " array([ 0.57759331, -0.53456872,  0.02870455, -1.04279774, -0.63776168,\n",
       "         2.51769705,  0.7948208 ]),\n",
       " array([ 0.60968183, -0.54760031,  0.03029924, -1.07295317, -0.67319288,\n",
       "         2.51868022,  0.75171105]),\n",
       " array([ 0.64177035, -0.56063191,  0.03189394, -1.1031086 , -0.70862408,\n",
       "         2.51966339,  0.7086013 ]),\n",
       " array([ 0.67385887, -0.5736635 ,  0.03348864, -1.13326403, -0.74405529,\n",
       "         2.52064656,  0.66549155]),\n",
       " array([ 0.70594738, -0.5866951 ,  0.03508333, -1.16341946, -0.77948649,\n",
       "         2.52162973,  0.6223818 ]),\n",
       " array([ 0.7380359 , -0.5997267 ,  0.03667803, -1.19357489, -0.8149177 ,\n",
       "         2.5226129 ,  0.57927204]),\n",
       " array([ 0.77012442, -0.61275829,  0.03827273, -1.22373032, -0.8503489 ,\n",
       "         2.52359607,  0.53616229]),\n",
       " array([ 0.80221294, -0.62578989,  0.03986743, -1.25388575, -0.8857801 ,\n",
       "         2.52457924,  0.49305254]),\n",
       " array([ 0.83430145, -0.63882148,  0.04146212, -1.28404118, -0.92121131,\n",
       "         2.5255624 ,  0.44994279]),\n",
       " array([ 0.86638997, -0.65185308,  0.04305682, -1.31419661, -0.95664251,\n",
       "         2.52654557,  0.40683304]),\n",
       " array([ 0.89847849, -0.66488467,  0.04465152, -1.34435204, -0.99207372,\n",
       "         2.52752874,  0.36372329]),\n",
       " array([ 0.930567  , -0.67791627,  0.04624621, -1.37450747, -1.02750492,\n",
       "         2.52851191,  0.32061354]),\n",
       " array([ 0.96265552, -0.69094786,  0.04784091, -1.4046629 , -1.06293613,\n",
       "         2.52949508,  0.27750378]),\n",
       " array([ 0.99474404, -0.70397946,  0.04943561, -1.43481833, -1.09836733,\n",
       "         2.53047825,  0.23439403]),\n",
       " array([ 1.00220061, -0.6915475 ,  0.06626639, -1.45438737, -1.10436396,\n",
       "         2.5101016 ,  0.16474551]),\n",
       " array([ 1.00965719, -0.67911554,  0.08309718, -1.47395641, -1.11036059,\n",
       "         2.48972494,  0.09509699]),\n",
       " array([ 1.01711377, -0.66668358,  0.09992797, -1.49352545, -1.11635722,\n",
       "         2.46934829,  0.02544846]),\n",
       " array([ 1.02457034, -0.65425162,  0.11675875, -1.51309449, -1.12235386,\n",
       "         2.44897163, -0.04420006]),\n",
       " array([ 1.03202692, -0.64181966,  0.13358954, -1.53266353, -1.12835049,\n",
       "         2.42859497, -0.11384858]),\n",
       " array([ 1.03948349, -0.62938771,  0.15042032, -1.55223257, -1.13434712,\n",
       "         2.40821832, -0.18349711]),\n",
       " array([ 1.04694007, -0.61695575,  0.16725111, -1.57180162, -1.14034375,\n",
       "         2.38784166, -0.25314563]),\n",
       " array([ 1.05439664, -0.60452379,  0.1840819 , -1.59137066, -1.14634038,\n",
       "         2.36746501, -0.32279415]),\n",
       " array([ 1.06185322, -0.59209183,  0.20091268, -1.6109397 , -1.15233701,\n",
       "         2.34708835, -0.39244268]),\n",
       " array([ 1.06930979, -0.57965987,  0.21774347, -1.63050874, -1.15833365,\n",
       "         2.3267117 , -0.4620912 ]),\n",
       " array([ 1.07676637, -0.56722791,  0.23457426, -1.65007778, -1.16433028,\n",
       "         2.30633504, -0.53173972]),\n",
       " array([ 1.08422294, -0.55479595,  0.25140504, -1.66964682, -1.17032691,\n",
       "         2.28595839, -0.60138825]),\n",
       " array([ 1.09167952, -0.54236399,  0.26823583, -1.68921587, -1.17632354,\n",
       "         2.26558173, -0.67103677]),\n",
       " array([ 1.09913609, -0.52993204,  0.28506661, -1.70878491, -1.18232017,\n",
       "         2.24520507, -0.74068529]),\n",
       " array([ 1.10659267, -0.51750008,  0.3018974 , -1.72835395, -1.1883168 ,\n",
       "         2.22482842, -0.81033381]),\n",
       " array([ 1.11404924, -0.50506812,  0.31872819, -1.74792299, -1.19431343,\n",
       "         2.20445176, -0.87998234]),\n",
       " array([ 1.12150582, -0.49263616,  0.33555897, -1.76749203, -1.20031007,\n",
       "         2.18407511, -0.94963086]),\n",
       " array([ 1.12896239, -0.4802042 ,  0.35238976, -1.78706107, -1.2063067 ,\n",
       "         2.16369845, -1.01927938]),\n",
       " array([ 1.13641897, -0.46777224,  0.36922054, -1.80663011, -1.21230333,\n",
       "         2.1433218 , -1.08892791]),\n",
       " array([ 1.14387554, -0.45534028,  0.38605133, -1.82619916, -1.21829996,\n",
       "         2.12294514, -1.15857643]),\n",
       " array([ 1.15133212, -0.44290832,  0.40288212, -1.8457682 , -1.22429659,\n",
       "         2.10256849, -1.22822495]),\n",
       " array([ 1.15878869, -0.43047637,  0.4197129 , -1.86533724, -1.23029322,\n",
       "         2.08219183, -1.29787348]),\n",
       " array([ 1.15589618, -0.41001751,  0.43882325, -1.87293213, -1.21261896,\n",
       "         2.05964618, -1.35125019]),\n",
       " array([ 1.15300366, -0.38955866,  0.45793359, -1.88052703, -1.19494469,\n",
       "         2.03710053, -1.4046269 ]),\n",
       " array([ 1.15011114, -0.36909981,  0.47704393, -1.88812193, -1.17727042,\n",
       "         2.01455488, -1.45800362]),\n",
       " array([ 1.14721862, -0.34864096,  0.49615427, -1.89571682, -1.15959615,\n",
       "         1.99200923, -1.51138033]),\n",
       " array([ 1.1443261 , -0.32818211,  0.51526462, -1.90331172, -1.14192189,\n",
       "         1.96946358, -1.56475704]),\n",
       " array([ 1.14143358, -0.30772326,  0.53437496, -1.91090661, -1.12424762,\n",
       "         1.94691793, -1.61813376]),\n",
       " array([ 1.13854106, -0.28726441,  0.5534853 , -1.91850151, -1.10657335,\n",
       "         1.92437228, -1.67151047]),\n",
       " array([ 1.10878662, -0.2597041 ,  0.57972877, -1.93031413, -1.1044542 ,\n",
       "         1.89954213, -1.70271651]),\n",
       " array([ 1.07903218, -0.2321438 ,  0.60597223, -1.94212676, -1.10233504,\n",
       "         1.87471197, -1.73392256]),\n",
       " array([ 1.04927774, -0.20458349,  0.6322157 , -1.95393938, -1.10021588,\n",
       "         1.84988182, -1.7651286 ]),\n",
       " array([ 1.01952329, -0.17702319,  0.65845916, -1.96575201, -1.09809673,\n",
       "         1.82505166, -1.79633464]),\n",
       " array([ 0.98976885, -0.14946288,  0.68470263, -1.97756463, -1.09597757,\n",
       "         1.80022151, -1.82754069]),\n",
       " array([ 0.96001441, -0.12190258,  0.71094609, -1.98937725, -1.09385841,\n",
       "         1.77539136, -1.85874673]),\n",
       " array([ 0.93025997, -0.09434227,  0.73718955, -2.00118988, -1.09173926,\n",
       "         1.7505612 , -1.88995278]),\n",
       " array([ 0.90050552, -0.06678197,  0.76343302, -2.0130025 , -1.0896201 ,\n",
       "         1.72573105, -1.92115882]),\n",
       " array([ 0.87075108, -0.03922166,  0.78967648, -2.02481512, -1.08750094,\n",
       "         1.70090089, -1.95236486]),\n",
       " array([ 0.84099664, -0.01166136,  0.81591995, -2.03662775, -1.08538179,\n",
       "         1.67607074, -1.98357091]),\n",
       " array([ 0.8112422 ,  0.01589895,  0.84216341, -2.04844037, -1.08326263,\n",
       "         1.65124058, -2.01477695]),\n",
       " array([ 0.78148775,  0.04345925,  0.86840688, -2.06025299, -1.08114347,\n",
       "         1.62641043, -2.04598299]),\n",
       " array([ 0.75173331,  0.07101956,  0.89465034, -2.07206562, -1.07902432,\n",
       "         1.60158027, -2.07718904]),\n",
       " array([ 0.72197887,  0.09857986,  0.9208938 , -2.08387824, -1.07690516,\n",
       "         1.57675012, -2.10839508]),\n",
       " array([ 0.69222443,  0.12614017,  0.94713727, -2.09569086, -1.074786  ,\n",
       "         1.55191997, -2.13960112]),\n",
       " array([ 0.66246998,  0.15370047,  0.97338073, -2.10750349, -1.07266685,\n",
       "         1.52708981, -2.17080717]),\n",
       " array([ 0.63271554,  0.18126078,  0.9996242 , -2.11931611, -1.07054769,\n",
       "         1.50225966, -2.20201321]),\n",
       " array([ 0.6029611 ,  0.20882108,  1.02586766, -2.13112874, -1.06842853,\n",
       "         1.4774295 , -2.23321925]),\n",
       " array([ 0.57320666,  0.23638139,  1.05211113, -2.14294136, -1.06630938,\n",
       "         1.45259935, -2.2644253 ]),\n",
       " array([ 0.54345221,  0.26394169,  1.07835459, -2.15475398, -1.06419022,\n",
       "         1.42776919, -2.29563134]),\n",
       " array([ 0.51369777,  0.29150199,  1.10459805, -2.16656661, -1.06207106,\n",
       "         1.40293904, -2.32683739]),\n",
       " array([ 0.48394333,  0.3190623 ,  1.13084152, -2.17837923, -1.05995191,\n",
       "         1.37810889, -2.35804343]),\n",
       " array([ 0.45418889,  0.3466226 ,  1.15708498, -2.19019185, -1.05783275,\n",
       "         1.35327873, -2.38924947]),\n",
       " array([ 0.42443444,  0.37418291,  1.18332845, -2.20200448, -1.05571359,\n",
       "         1.32844858, -2.42045552]),\n",
       " array([ 0.39468   ,  0.40174321,  1.20957191, -2.2138171 , -1.05359444,\n",
       "         1.30361842, -2.45166156]),\n",
       " array([ 0.36492556,  0.42930352,  1.23581538, -2.22562972, -1.05147528,\n",
       "         1.27878827, -2.4828676 ]),\n",
       " array([ 0.34006315,  0.44222125,  1.25353592, -2.24617262, -1.07966548,\n",
       "         1.26283503, -2.50984702]),\n",
       " array([ 0.31520074,  0.45513898,  1.27125647, -2.26671552, -1.10785568,\n",
       "         1.24688179, -2.53682643]),\n",
       " array([ 0.29033833,  0.46805671,  1.28897701, -2.28725842, -1.13604589,\n",
       "         1.23092856, -2.56380584]),\n",
       " array([ 0.26547592,  0.48097444,  1.30669756, -2.30780132, -1.16423609,\n",
       "         1.21497532, -2.59078526]),\n",
       " array([ 0.24061351,  0.49389217,  1.3244181 , -2.32834421, -1.19242629,\n",
       "         1.19902208, -2.61776467]),\n",
       " array([ 0.2157511 ,  0.5068099 ,  1.34213865, -2.34888711, -1.22061649,\n",
       "         1.18306884, -2.64474409]),\n",
       " array([ 0.19088869,  0.51972763,  1.35985919, -2.36943001, -1.24880669,\n",
       "         1.16711561, -2.6717235 ]),\n",
       " array([ 0.16602628,  0.53264536,  1.37757974, -2.38997291, -1.2769969 ,\n",
       "         1.15116237, -2.69870291]),\n",
       " array([ 0.14116387,  0.54556308,  1.39530028, -2.41051581, -1.3051871 ,\n",
       "         1.13520913, -2.72568233])]"
      ]
     },
     "execution_count": 49,
     "metadata": {},
     "output_type": "execute_result"
    }
   ],
   "source": [
    "traj_all"
   ]
  },
  {
   "cell_type": "code",
   "execution_count": null,
   "metadata": {},
   "outputs": [],
   "source": []
  },
  {
   "cell_type": "markdown",
   "metadata": {},
   "source": [
    "## shutdown rviz"
   ]
  },
  {
   "cell_type": "code",
   "execution_count": null,
   "metadata": {},
   "outputs": [],
   "source": [
    "\n",
    "s_builder.xcustom.clear()"
   ]
  }
 ],
 "metadata": {
  "kernelspec": {
   "display_name": "Python 2",
   "language": "python",
   "name": "python2"
  },
  "language_info": {
   "codemirror_mode": {
    "name": "ipython",
    "version": 2
   },
   "file_extension": ".py",
   "mimetype": "text/x-python",
   "name": "python",
   "nbconvert_exporter": "python",
   "pygments_lexer": "ipython2",
   "version": "2.7.17"
  }
 },
 "nbformat": 4,
 "nbformat_minor": 2
}
