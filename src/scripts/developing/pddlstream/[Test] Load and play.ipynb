{
 "cells": [
  {
   "cell_type": "code",
   "execution_count": 1,
   "metadata": {},
   "outputs": [
    {
     "name": "stdout",
     "output_type": "stream",
     "text": [
      "--------------------------------------------------\n",
      "DATASET_PATH: /home/rnb/Projects/rnb-planning/data/stowing-deep/panda/20210917-113211\n",
      "RESULTSET_PATH: /home/rnb/Projects/rnb-planning/data/stowing-deep-result-btf-ik08-to2.0/panda/20210917-113211\n",
      "--------------------------------------------------\n",
      "connection command:\n",
      "panda0: False\n",
      "Please create a subscriber to the marker\n",
      "publication OK\n",
      "published: [0, 0, 0, 0, 0, 0, 0]\n",
      "Please create a subscriber to the marker\n"
     ]
    }
   ],
   "source": [
    "from __future__ import print_function\n",
    "import os\n",
    "import sys\n",
    "\n",
    "sys.path.append(os.path.join(os.environ[\"RNB_PLANNING_DIR\"], \"src\"))\n",
    "\n",
    "from pkg.utils.test_scripts import *\n",
    "from pkg.planning.pddlstream.plan_rnb import *\n",
    "\n",
    "rtype = \"panda\"\n",
    "dat_root = \"stowing-deep\"\n",
    "res_root = \"stowing-deep-result-btf-ik08-to2.0\"\n",
    "dat_dir = \"20210917-113211\"\n",
    "VISUALIZE = True\n",
    "PLAY_RESULT = True\n",
    "\n",
    "TOOL_NAME=\"grip0\"\n",
    "ROBOT_TYPE = {e.name: e for e in RobotType}[rtype]\n",
    "\n",
    "########################################################\n",
    "################### Create data folders ################\n",
    "DATASET_PATH = create_data_dirs(dat_root, rtype, dat_dir)\n",
    "RESULTSET_PATH = create_data_dirs(res_root, rtype, dat_dir)\n",
    "print(\"-\"*50)\n",
    "print(\"DATASET_PATH: {}\".format(DATASET_PATH))\n",
    "print(\"RESULTSET_PATH: {}\".format(RESULTSET_PATH))\n",
    "print(\"-\"*50)\n",
    "\n",
    "########################################################\n",
    "########## Load scene and prepare planner  #############\n",
    "ROBOT_NAME, TOOL_LINK, TOOL_XYZ, TOOL_RPY, HOME_POSE, GRIP_DEPTH = get_single_robot_params(ROBOT_TYPE)\n",
    "s_builder, pscene = prepare_single_robot_scene(ROBOT_TYPE, ROBOT_NAME, TOOL_LINK, TOOL_XYZ, TOOL_RPY, VISUALIZE=VISUALIZE)\n",
    "crob, gscene = pscene.combined_robot, pscene.gscene"
   ]
  },
  {
   "cell_type": "markdown",
   "metadata": {},
   "source": [
    "## load scene"
   ]
  },
  {
   "cell_type": "code",
   "execution_count": 2,
   "metadata": {},
   "outputs": [],
   "source": [
    "file_option = \"obj_3c_obs7\"\n",
    "data_idx = 19"
   ]
  },
  {
   "cell_type": "code",
   "execution_count": 3,
   "metadata": {},
   "outputs": [],
   "source": [
    "fname = \"data_%s_%02d.pkl\" % (file_option, data_idx)\n",
    "file_gtems = os.path.join(DATASET_PATH, fname)\n",
    "try:\n",
    "    initial_state = load_saved_scene(pscene, file_gtems, VISUALIZE=VISUALIZE)\n",
    "except:\n",
    "    pass\n",
    "gscene.NAME_DICT['obj_0'].color = (1,0,0,1)\n",
    "gscene.update_markers_all()"
   ]
  },
  {
   "cell_type": "code",
   "execution_count": 4,
   "metadata": {},
   "outputs": [
    {
     "data": {
      "text/plain": [
       "array([0.05, 0.05, 0.2 ])"
      ]
     },
     "execution_count": 4,
     "metadata": {},
     "output_type": "execute_result"
    }
   ],
   "source": [
    "gscene.NAME_DICT['obj_0'].dims"
   ]
  },
  {
   "cell_type": "markdown",
   "metadata": {},
   "source": [
    "## play plan"
   ]
  },
  {
   "cell_type": "code",
   "execution_count": 108,
   "metadata": {},
   "outputs": [],
   "source": [
    "cname = \"Full\""
   ]
  },
  {
   "cell_type": "code",
   "execution_count": 109,
   "metadata": {},
   "outputs": [
    {
     "name": "stdout",
     "output_type": "stream",
     "text": [
      "Action(name='move_free', args=(q0, q1, c3))\n",
      "Action(name='pick', args=(2L, p2, g1, q1, c0))\n",
      "Action(name='move_holding', args=(q1, q2, 2L, g1, c4))\n",
      "Action(name='place', args=(2L, p7, g1, q2, c1))\n",
      "Action(name='move_free', args=(q2, q0, c2))\n"
     ]
    }
   ],
   "source": [
    "sample = load_pickle(os.path.join(RESULTSET_PATH, \"result_%s_%02d_%s.pkl\" % (file_option, data_idx, cname)))\n",
    "\n",
    "res = sample[\"success\"]\n",
    "plan = sample[\"plan\"]\n",
    "body_names = sample[\"body_names\"]\n",
    "\n",
    "for action in plan:\n",
    "    print(action)\n",
    "\n",
    "if VISUALIZE and PLAY_RESULT and res:\n",
    "    play_pddl_plan(pscene, pscene.actor_dict[\"grip0\"], initial_state=initial_state,\n",
    "                   body_names=body_names, plan=plan, SHOW_PERIOD=0.01)\n"
   ]
  },
  {
   "cell_type": "markdown",
   "metadata": {},
   "source": [
    "## shutdown rviz"
   ]
  },
  {
   "cell_type": "code",
   "execution_count": null,
   "metadata": {},
   "outputs": [],
   "source": [
    "\n",
    "s_builder.xcustom.clear()"
   ]
  }
 ],
 "metadata": {
  "kernelspec": {
   "display_name": "Python 2",
   "language": "python",
   "name": "python2"
  },
  "language_info": {
   "codemirror_mode": {
    "name": "ipython",
    "version": 2
   },
   "file_extension": ".py",
   "mimetype": "text/x-python",
   "name": "python",
   "nbconvert_exporter": "python",
   "pygments_lexer": "ipython2",
   "version": "2.7.17"
  }
 },
 "nbformat": 4,
 "nbformat_minor": 2
}
