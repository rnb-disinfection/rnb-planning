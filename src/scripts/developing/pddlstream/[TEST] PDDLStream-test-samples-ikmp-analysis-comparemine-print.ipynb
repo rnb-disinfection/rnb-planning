{
 "cells": [
  {
   "cell_type": "markdown",
   "metadata": {},
   "source": [
    "# [TEST] PDDLStream-test-samples-ikmp-analysis-comparemine-print"
   ]
  },
  {
   "cell_type": "code",
   "execution_count": null,
   "metadata": {},
   "outputs": [],
   "source": [
    "# # python3 /home/rnb/Projects/rnb-planning/src/pkg/planning/filtering/lattice_model/shared_lattice_predictor.py --rtype panda\n",
    "\n",
    "# import SharedArray as sa\n",
    "# ROBOT_TYPE_NAME = 'panda'\n",
    "# sa.delete(\"shm://{}.prepared\".format(ROBOT_TYPE_NAME))\n",
    "# sa.delete(\"shm://{}.grasp_img\".format(ROBOT_TYPE_NAME))\n",
    "# sa.delete(\"shm://{}.arm_img\".format(ROBOT_TYPE_NAME))\n",
    "# sa.delete(\"shm://{}.rh_vals\".format(ROBOT_TYPE_NAME))\n",
    "# sa.delete(\"shm://{}.result\".format(ROBOT_TYPE_NAME))\n",
    "# sa.delete(\"shm://{}.query_in\".format(ROBOT_TYPE_NAME))\n",
    "# sa.delete(\"shm://{}.response_out\".format(ROBOT_TYPE_NAME))\n",
    "# sa.delete(\"shm://{}.query_quit\".format(ROBOT_TYPE_NAME))"
   ]
  },
  {
   "cell_type": "code",
   "execution_count": null,
   "metadata": {},
   "outputs": [],
   "source": [
    "from __future__ import print_function\n",
    "import os\n",
    "import sys\n",
    "RNB_PLANNING_DIR = os.environ[\"RNB_PLANNING_DIR\"]\n",
    "sys.path.append(os.path.join(RNB_PLANNING_DIR, 'src'))\n",
    "from pkg.controller.combined_robot import *\n",
    "from pkg.utils.utils import get_now, try_mkdir\n",
    "import subprocess\n",
    "\n",
    "DATA_PATH = os.path.join(RNB_PLANNING_DIR, \"data\")\n",
    "try_mkdir(DATA_PATH)\n",
    "\n",
    "DAT_ROOT = \"stowing-deep\"\n",
    "TEST_DATA_PATH = os.path.join(DATA_PATH, DAT_ROOT)\n",
    "try_mkdir(TEST_DATA_PATH)\n",
    "\n",
    "IK_NUMS = [1,2,4,8, 16,32,64]\n",
    "RESULT_PATHS = []\n",
    "IK_DIR_FORM = \"stowing-deep-result-analysis-ik{:03}-mp2fix\"\n",
    "for ik_num in IK_NUMS:\n",
    "    RES_ROOT = IK_DIR_FORM.format(ik_num)\n",
    "    TEST_RESULT_PATH = os.path.join(DATA_PATH, RES_ROOT)\n",
    "    try_mkdir(TEST_RESULT_PATH)\n",
    "    RESULT_PATHS.append(RES_ROOT)\n",
    "\n",
    "HEADS = [\"plan_time\", \"length\", \"MP_count\", \"failed_MPs\", \"IK_count\", \"failed_IKs\", \"success\"]\n"
   ]
  },
  {
   "cell_type": "code",
   "execution_count": null,
   "metadata": {},
   "outputs": [],
   "source": []
  },
  {
   "cell_type": "markdown",
   "metadata": {},
   "source": [
    "## Common params"
   ]
  },
  {
   "cell_type": "code",
   "execution_count": null,
   "metadata": {},
   "outputs": [],
   "source": [
    "RTYPE = \"panda\"\n",
    "DAT_DIR = '20210917-113211'\n",
    "I_START = 0\n",
    "I_END = 50\n",
    "\n",
    "\n",
    "VISUALIZE = False\n",
    "PLAY_RESULT = False\n",
    "SHOW_STATE = False\n",
    "\n",
    "TIMEOUT_MOTION = 2\n",
    "MAX_TIME = 100\n",
    "MAX_ITER = 100\n",
    "\n",
    "GRASP_SAMPLE = 30\n",
    "STABLE_SAMPLE = 50\n",
    "SEARCH_SAMPLE_RATIO= 100\n",
    "MAX_SKELETONS = 30\n",
    "TIMED_COMPLETE = False\n",
    "STACK_TIMELOG = True\n",
    "IK_TRY_NUM = 30\n",
    "VERBOSE = False\n",
    "USE_MOVEIT_IK = True\n",
    "\n",
    "\n",
    "common_args = [\n",
    "            '--rtype', RTYPE,\n",
    "            '--dat_root', DAT_ROOT,\n",
    "            '--res_root', RES_ROOT,\n",
    "            '--dat_dir', DAT_DIR,\n",
    "            '--VISUALIZE', str(VISUALIZE),\n",
    "            '--PLAY_RESULT', str(PLAY_RESULT),\n",
    "            '--TIMEOUT_MOTION', str(TIMEOUT_MOTION),\n",
    "            '--MAX_TIME', str(MAX_TIME),\n",
    "            '--MAX_ITER', str(MAX_ITER), \n",
    "            '--GRASP_SAMPLE', str(GRASP_SAMPLE),\n",
    "            '--STABLE_SAMPLE', str(STABLE_SAMPLE),\n",
    "            '--SEARCH_SAMPLE_RATIO', str(SEARCH_SAMPLE_RATIO),\n",
    "            '--MAX_SKELETONS', str(MAX_SKELETONS),\n",
    "            '--TIMED_COMPLETE', str(TIMED_COMPLETE),\n",
    "            '--STACK_TIMELOG', str(STACK_TIMELOG),\n",
    "            '--IK_TRY_NUM', str(IK_TRY_NUM),\n",
    "            '--VERBOSE', str(VERBOSE),\n",
    "            '--USE_MOVEIT_IK', str(USE_MOVEIT_IK)]"
   ]
  },
  {
   "cell_type": "code",
   "execution_count": null,
   "metadata": {},
   "outputs": [],
   "source": []
  },
  {
   "cell_type": "markdown",
   "metadata": {},
   "source": [
    "## plot results"
   ]
  },
  {
   "cell_type": "code",
   "execution_count": null,
   "metadata": {},
   "outputs": [],
   "source": [
    "CNAME_SHOW = \"None\""
   ]
  },
  {
   "cell_type": "code",
   "execution_count": null,
   "metadata": {},
   "outputs": [],
   "source": [
    "from plot_scripts import *"
   ]
  },
  {
   "cell_type": "code",
   "execution_count": null,
   "metadata": {},
   "outputs": [],
   "source": [
    "\n",
    "IK_NUMS = [1,2,4,8,16, 32, 64]\n",
    "# IK_NUMS = [1, 2, 4, 8, 16]"
   ]
  },
  {
   "cell_type": "code",
   "execution_count": null,
   "metadata": {
    "scrolled": false
   },
   "outputs": [],
   "source": [
    "try:\n",
    "    resdat_all_accum = defaultdict(dict)\n",
    "    CHECKERS = []\n",
    "    for ik_num in IK_NUMS:\n",
    "        resdat_all, res_dict_all = print_results(RES_ROOT=IK_DIR_FORM.format(ik_num), \n",
    "                                                 RTYPE=\"panda\", \n",
    "                                                 DAT_DIR='20210917-113211',\n",
    "                                                 CNAMES_EXCLUDE=[], read_only=True\n",
    "                                                )\n",
    "        cname_cur = \"{:03}\".format(ik_num)\n",
    "        CHECKERS.append(cname_cur)\n",
    "        for key in resdat_all.keys():\n",
    "            resdat_all_accum[key][cname_cur]=resdat_all[key][CNAME_SHOW]\n",
    "except Exception as e:\n",
    "    TextColors.RED.println(\"ERROR: \"+str(e))\n",
    "    TextColors.RED.println('If you have not run the test script on this computer yet, please run \"test loop\" section below')"
   ]
  },
  {
   "cell_type": "code",
   "execution_count": null,
   "metadata": {},
   "outputs": [],
   "source": [
    "plt.figure(figsize=(15,15))\n",
    "\n",
    "plt.subplot(4,3,(1, 2))\n",
    "_ = plot_valid(resdat_all_accum, keys=[\"plan_time\"], CHECKERS=CHECKERS, individual=True)\n",
    "plt.title(\"planning time\")\n",
    "plt.subplot(4,3,3)\n",
    "time_dict = plot_valid(resdat_all_accum, keys=[\"plan_time\"], CHECKERS=CHECKERS, individual=True, average_all=True)\n",
    "plt.title(\"planning time tot\")\n",
    "\n",
    "plt.subplot(4,3,(4, 5))\n",
    "_ = plot_valid(resdat_all_accum, keys=[\"IK_tot\"], CHECKERS=CHECKERS, individual=True)\n",
    "plt.title(\"total ik trials\")\n",
    "plt.subplot(4,3,6)\n",
    "_ = plot_valid(resdat_all_accum, keys=[\"IK_tot\"], CHECKERS=CHECKERS, individual=True, average_all=True)\n",
    "plt.title(\"total ik trials tot\")\n",
    "\n",
    "plt.subplot(4,3,(7, 8))\n",
    "_ = plot_valid(resdat_all_accum, keys=[\"failed_IKs\"], CHECKERS=CHECKERS, individual=True)\n",
    "plt.title(\"failed ik trials\")\n",
    "plt.subplot(4,3,9)\n",
    "_ = plot_valid(resdat_all_accum, keys=[\"failed_IKs\"], CHECKERS=CHECKERS, individual=True, average_all=True)\n",
    "plt.title(\"failed ik trials tot\")\n",
    "\n",
    "plt.subplot(4,3,(10, 11))\n",
    "succ_dict = extract_values(resdat_all_accum, [\"success\"])\n",
    "_ = grouped_bar(succ_dict)\n",
    "plt.title(\"success ratios\")\n",
    "plt.subplot(4,3,12)\n",
    "_ = grouped_bar(succ_dict, average_all=True)\n",
    "plt.title(\"success ratios tot\")"
   ]
  },
  {
   "cell_type": "code",
   "execution_count": null,
   "metadata": {},
   "outputs": [],
   "source": [
    "print(\"=\"*80)\n",
    "success_vecs = [np.concatenate(map(lambda x: x[\"{:03}\".format(ik_num)], succ_dict.values())) for ik_num in IK_NUMS]\n",
    "success_means = map(np.mean, success_vecs)\n",
    "max_val = np.max(success_means)\n",
    "max_idc = np.where(success_means==max_val)[0]\n",
    "print(\"IK_NUMS: \", \"  \".join(map(lambda x:\"{:5}\".format(x), IK_NUMS)))\n",
    "print(\"success: \", \"  \".join(map(lambda x:\"{:5.03}\".format(x), success_means)))\n",
    "print(\"best: {} ({:5.3})\".format(np.array(IK_NUMS)[max_idc], max_val))\n",
    "print(\"-\"*80)\n",
    "time_vecs = [np.concatenate(map(lambda x: x[\"{:03}\".format(ik_num)], time_dict.values())) for ik_num in IK_NUMS]\n",
    "time_means = np.array(map(np.mean, time_vecs))\n",
    "min_val = np.min(time_means[max_idc])\n",
    "min_idc = np.where(time_means[max_idc]==min_val)[0]\n",
    "print(\"IK_NUMS: \", \"  \".join(map(lambda x:\"{:5}\".format(x), IK_NUMS)))\n",
    "print(\"times  : \", \"  \".join(map(lambda x:\"{:5.03}\".format(x), time_means)))\n",
    "print(\"best: {} ({:5.3})\".format(np.array(IK_NUMS)[max_idc][min_idc], min_val))\n",
    "print(\"=\"*80)"
   ]
  },
  {
   "cell_type": "code",
   "execution_count": null,
   "metadata": {},
   "outputs": [],
   "source": [
    "IK_NUM_BEST = np.array(IK_NUMS)[max_idc][min_idc[0]]\n",
    "print(\"IK_NUM_BEST: {}\".format(IK_NUM_BEST))"
   ]
  },
  {
   "cell_type": "code",
   "execution_count": null,
   "metadata": {},
   "outputs": [],
   "source": []
  },
  {
   "cell_type": "markdown",
   "metadata": {},
   "source": [
    "# MP analysis"
   ]
  },
  {
   "cell_type": "code",
   "execution_count": null,
   "metadata": {},
   "outputs": [],
   "source": [
    "IK_TRY_NUM = 8\n",
    "MP_TIMES = [0.1,0.2,0.5,1.0,2.0,4.0,8.0]\n",
    "RESULT_PATHS = []\n",
    "MP_DIR_FORM = \"stowing-deep-result-analysis-ik{:03}_mp{:.3}\"\n",
    "for mp_time in MP_TIMES:\n",
    "    RES_ROOT = MP_DIR_FORM.format(IK_TRY_NUM, mp_time)\n",
    "    TEST_RESULT_PATH = os.path.join(DATA_PATH, RES_ROOT)\n",
    "    try_mkdir(TEST_RESULT_PATH)\n",
    "    RESULT_PATHS.append(RES_ROOT)"
   ]
  },
  {
   "cell_type": "code",
   "execution_count": null,
   "metadata": {},
   "outputs": [],
   "source": []
  },
  {
   "cell_type": "markdown",
   "metadata": {},
   "source": [
    "## Common params"
   ]
  },
  {
   "cell_type": "code",
   "execution_count": null,
   "metadata": {},
   "outputs": [],
   "source": [
    "RTYPE = \"panda\"\n",
    "DAT_DIR = '20210917-113211'\n",
    "I_START = 0\n",
    "I_END = 50\n",
    "\n",
    "\n",
    "# CNAME_LIST = ['Full'] #,'Pairwise']\n",
    "VISUALIZE = False\n",
    "PLAY_RESULT = False\n",
    "SHOW_STATE = False\n",
    "\n",
    "TIMEOUT_MOTION = 5\n",
    "MAX_TIME = 100\n",
    "MAX_ITER = 100\n",
    "\n",
    "GRASP_SAMPLE = 30\n",
    "STABLE_SAMPLE = 50\n",
    "SEARCH_SAMPLE_RATIO= 100\n",
    "MAX_SKELETONS = 30\n",
    "TIMED_COMPLETE = False\n",
    "STACK_TIMELOG = True\n",
    "IK_TRY_NUM = IK_TRY_NUM\n",
    "VERBOSE = False\n",
    "USE_MOVEIT_IK = True\n",
    "\n",
    "\n",
    "common_args = [\n",
    "            '--rtype', RTYPE,\n",
    "            '--dat_root', DAT_ROOT,\n",
    "            '--res_root', RES_ROOT,\n",
    "            '--dat_dir', DAT_DIR,\n",
    "            '--VISUALIZE', str(VISUALIZE),\n",
    "            '--PLAY_RESULT', str(PLAY_RESULT),\n",
    "            '--TIMEOUT_MOTION', str(TIMEOUT_MOTION),\n",
    "            '--MAX_TIME', str(MAX_TIME),\n",
    "            '--MAX_ITER', str(MAX_ITER), \n",
    "            '--GRASP_SAMPLE', str(GRASP_SAMPLE),\n",
    "            '--STABLE_SAMPLE', str(STABLE_SAMPLE),\n",
    "            '--SEARCH_SAMPLE_RATIO', str(SEARCH_SAMPLE_RATIO),\n",
    "            '--MAX_SKELETONS', str(MAX_SKELETONS),\n",
    "            '--TIMED_COMPLETE', str(TIMED_COMPLETE),\n",
    "            '--STACK_TIMELOG', str(STACK_TIMELOG),\n",
    "            '--IK_TRY_NUM', str(IK_TRY_NUM),\n",
    "            '--VERBOSE', str(VERBOSE),\n",
    "            '--USE_MOVEIT_IK', str(USE_MOVEIT_IK)]"
   ]
  },
  {
   "cell_type": "code",
   "execution_count": null,
   "metadata": {},
   "outputs": [],
   "source": []
  },
  {
   "cell_type": "markdown",
   "metadata": {},
   "source": [
    "## plot results"
   ]
  },
  {
   "cell_type": "code",
   "execution_count": null,
   "metadata": {},
   "outputs": [],
   "source": [
    "from plot_scripts import *\n",
    "MP_TIMES_ALL = [0.1,0.2,0.5,1.0,2.0,4.0,8.0]\n",
    "\n",
    "MP_TIMES = MP_TIMES_ALL\n",
    "CNAME_SHOW = \"Full\""
   ]
  },
  {
   "cell_type": "code",
   "execution_count": null,
   "metadata": {},
   "outputs": [],
   "source": [
    "try:\n",
    "    resdat_all_accum = defaultdict(dict)\n",
    "    CHECKERS = []\n",
    "    for mp_time in MP_TIMES:\n",
    "        resdat_all, res_dict_all = print_results(RES_ROOT=\n",
    "                                                 MP_DIR_FORM.format(IK_TRY_NUM, mp_time), \n",
    "                                                 RTYPE=\"panda\", \n",
    "                                                 DAT_DIR='20210917-113211',\n",
    "                                                 CNAMES_EXCLUDE=[], read_only=False\n",
    "                                                )\n",
    "        cname_cur = \"{:03}\".format(mp_time)\n",
    "        CHECKERS.append(cname_cur)\n",
    "        for key in resdat_all.keys():\n",
    "            resdat_all_accum[key][cname_cur]=resdat_all[key][CNAME_SHOW]\n",
    "except Exception as e:\n",
    "    TextColors.RED.println(\"ERROR: \"+str(e))\n",
    "    TextColors.RED.println('If you have not run the test script on this computer yet, please run \"test loop\" section below')"
   ]
  },
  {
   "cell_type": "code",
   "execution_count": null,
   "metadata": {},
   "outputs": [],
   "source": [
    "plt.figure(figsize=(15,15))\n",
    "\n",
    "plt.subplot(4,3,(1, 2))\n",
    "_ = plot_valid(resdat_all_accum, keys=[\"plan_time\"], CHECKERS=CHECKERS, individual=True)\n",
    "plt.title(\"planning time\")\n",
    "plt.subplot(4,3,3)\n",
    "time_dict = plot_valid(resdat_all_accum, keys=[\"plan_time\"], CHECKERS=CHECKERS, individual=True, average_all=True)\n",
    "plt.title(\"planning time tot\")\n",
    "\n",
    "plt.subplot(4,3,(4, 5))\n",
    "_ = plot_valid(resdat_all_accum, keys=[\"IK_tot\"], CHECKERS=CHECKERS, individual=True)\n",
    "plt.title(\"total ik trials\")\n",
    "plt.subplot(4,3,6)\n",
    "_ = plot_valid(resdat_all_accum, keys=[\"IK_tot\"], CHECKERS=CHECKERS, individual=True, average_all=True)\n",
    "plt.title(\"total ik trials tot\")\n",
    "\n",
    "plt.subplot(4,3,(7, 8))\n",
    "_ = plot_valid(resdat_all_accum, keys=[\"failed_IKs\"], CHECKERS=CHECKERS, individual=True)\n",
    "plt.title(\"failed ik trials\")\n",
    "plt.subplot(4,3,9)\n",
    "_ = plot_valid(resdat_all_accum, keys=[\"failed_IKs\"], CHECKERS=CHECKERS, individual=True, average_all=True)\n",
    "plt.title(\"failed ik trials tot\")\n",
    "\n",
    "plt.subplot(4,3,(10, 11))\n",
    "succ_dict = extract_values(resdat_all_accum, [\"success\"])\n",
    "_ = grouped_bar(succ_dict)\n",
    "plt.title(\"success ratios\")\n",
    "plt.subplot(4,3,12)\n",
    "_ = grouped_bar(succ_dict, average_all=True)\n",
    "plt.title(\"success ratios tot\")"
   ]
  },
  {
   "cell_type": "code",
   "execution_count": null,
   "metadata": {},
   "outputs": [],
   "source": [
    "print(\"=\"*80)\n",
    "success_vecs = [np.concatenate(map(lambda x: x[\"{:03}\".format(mp_num)], succ_dict.values())) for mp_num in MP_TIMES]\n",
    "success_means = map(np.mean, success_vecs)\n",
    "max_val = np.max(success_means)\n",
    "max_idc = np.where(success_means==max_val)[0]\n",
    "print(\"MP_TIMES: \", \"  \".join(map(lambda x:\"{:5}\".format(x), MP_TIMES)))\n",
    "print(\"success: \", \"  \".join(map(lambda x:\"{:5.03}\".format(x), success_means)))\n",
    "print(\"best: {} ({:5.3})\".format(np.array(MP_TIMES)[max_idc], max_val))\n",
    "print(\"-\"*80)\n",
    "time_vecs = [np.concatenate(map(lambda x: x[\"{:03}\".format(mp_num)], time_dict.values())) for mp_num in MP_TIMES]\n",
    "time_means = np.array(map(np.mean, time_vecs))\n",
    "min_val = np.min(time_means[max_idc])\n",
    "min_idc = np.where(time_means[max_idc]==min_val)[0]\n",
    "print(\"MP_TIMES: \", \"  \".join(map(lambda x:\"{:5}\".format(x), MP_TIMES)))\n",
    "print(\"times  : \", \"  \".join(map(lambda x:\"{:5.03}\".format(x), time_means)))\n",
    "print(\"best: {} ({:5.3})\".format(np.array(MP_TIMES)[max_idc][min_idc], min_val))\n",
    "print(\"=\"*80)"
   ]
  },
  {
   "cell_type": "code",
   "execution_count": null,
   "metadata": {},
   "outputs": [],
   "source": [
    "# !cp -rf ~/Projects/rnb-planning/data/stowing-deep-result-analysis-ik008_mp8.0 ~/Projects/rnb-planning/data/stowing-deep-result-analysis-ik008_mp8.0-bak"
   ]
  },
  {
   "cell_type": "code",
   "execution_count": null,
   "metadata": {},
   "outputs": [],
   "source": [
    "RES_ROOT"
   ]
  },
  {
   "cell_type": "code",
   "execution_count": null,
   "metadata": {},
   "outputs": [],
   "source": [
    "RESULT_PATHS"
   ]
  },
  {
   "cell_type": "code",
   "execution_count": null,
   "metadata": {},
   "outputs": [],
   "source": []
  }
 ],
 "metadata": {
  "kernelspec": {
   "display_name": "Python 2",
   "language": "python",
   "name": "python2"
  },
  "language_info": {
   "codemirror_mode": {
    "name": "ipython",
    "version": 2
   },
   "file_extension": ".py",
   "mimetype": "text/x-python",
   "name": "python",
   "nbconvert_exporter": "python",
   "pygments_lexer": "ipython2",
   "version": "2.7.17"
  }
 },
 "nbformat": 4,
 "nbformat_minor": 2
}
