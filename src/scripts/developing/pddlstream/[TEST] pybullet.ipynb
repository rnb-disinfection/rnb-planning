{
 "cells": [
  {
   "cell_type": "markdown",
   "metadata": {},
   "source": [
    "## set running directory to project source"
   ]
  },
  {
   "cell_type": "code",
   "execution_count": 1,
   "metadata": {},
   "outputs": [],
   "source": [
    "import os\n",
    "import numpy as np\n",
    "import time\n",
    "os.chdir(os.path.join(os.environ[\"RNB_PLANNING_DIR\"], 'src'))\n",
    "import matplotlib.pyplot as plt"
   ]
  },
  {
   "cell_type": "code",
   "execution_count": null,
   "metadata": {},
   "outputs": [],
   "source": []
  },
  {
   "cell_type": "markdown",
   "metadata": {},
   "source": [
    "## 4.1 PlanningScene"
   ]
  },
  {
   "cell_type": "markdown",
   "metadata": {},
   "source": [
    "##### initialize CombinedRobot and GeometryScene"
   ]
  },
  {
   "cell_type": "code",
   "execution_count": 2,
   "metadata": {},
   "outputs": [
    {
     "name": "stdout",
     "output_type": "stream",
     "text": [
      "connection command:\n",
      "indy0: False\n",
      "Unable to register with master node [http://localhost:11311]: master may not be running yet. Will keep trying.\n"
     ]
    },
    {
     "name": "stderr",
     "output_type": "stream",
     "text": [
      "Unknown tag \"hardwareInterface\" in /robot[@name='custom_robots']/transmission[@name='indy0_tran0']/actuator[@name='indy0_motor0']\n",
      "Unknown tag \"hardwareInterface\" in /robot[@name='custom_robots']/transmission[@name='indy0_tran1']/actuator[@name='indy0_motor1']\n",
      "Unknown tag \"hardwareInterface\" in /robot[@name='custom_robots']/transmission[@name='indy0_tran2']/actuator[@name='indy0_motor2']\n",
      "Unknown tag \"hardwareInterface\" in /robot[@name='custom_robots']/transmission[@name='indy0_tran3']/actuator[@name='indy0_motor3']\n",
      "Unknown tag \"hardwareInterface\" in /robot[@name='custom_robots']/transmission[@name='indy0_tran4']/actuator[@name='indy0_motor4']\n",
      "Unknown tag \"hardwareInterface\" in /robot[@name='custom_robots']/transmission[@name='indy0_tran5']/actuator[@name='indy0_motor5']\n"
     ]
    },
    {
     "name": "stdout",
     "output_type": "stream",
     "text": [
      "Please create a subscriber to the marker\n",
      "publication OK\n",
      "published: [0, 0, 0, 0, 0, 0]\n",
      "Please create a subscriber to the marker\n"
     ]
    }
   ],
   "source": [
    "from pkg.controller.combined_robot import *\n",
    "from pkg.project_config import *\n",
    "from pkg.geometry.builder.scene_builder import SceneBuilder\n",
    "\n",
    "s_builder = SceneBuilder(None)   # create scene builder without detector for virtual scene\n",
    "crob = CombinedRobot(robots_on_scene=[\n",
    "    RobotConfig(0, RobotType.indy7gripper, ((0,0,0), (0,0,0)), None)]\n",
    "                     , connection_list=[False])\n",
    "gscene = s_builder.create_gscene(crob)\n",
    "gtems = s_builder.add_robot_geometries(color=(0,1,0,0.5), display=True, collision=True)\n",
    "gscene.show_pose(crob.home_pose)"
   ]
  },
  {
   "cell_type": "markdown",
   "metadata": {},
   "source": [
    "##### add geometries"
   ]
  },
  {
   "cell_type": "code",
   "execution_count": 3,
   "metadata": {},
   "outputs": [],
   "source": [
    "from pkg.geometry.geometry import *\n",
    "\n",
    "# add environments (fixed=True for non-movable geometries)\n",
    "wall = gscene.create_safe(GEOTYPE.BOX, \"wall\", \"base_link\", (3,3,0.01), (-0.2,0,0), \n",
    "                           rpy=(0,np.pi/2,0), color=(0.8,0.8,0.8,0.5), display=True, fixed=True, collision=True)\n",
    "floor = gscene.create_safe(GEOTYPE.BOX, \"floor\", \"base_link\", (3,3,0.01), (0,0,0), \n",
    "                           rpy=(0,0,0), color=(0.8,0.8,0.8,0.5), display=True, fixed=True, collision=True)\n",
    "wp1 = gscene.create_safe(GEOTYPE.BOX, \"wp1\", \"base_link\", (0.1,0.1,0.01), (0.6,-0.3,0),rpy=(0,0,0), \n",
    "                         color=(0.8,0.2,0.2,1), display=True, fixed=True, collision=False, parent=\"floor\")\n",
    "wp2 = gscene.create_safe(GEOTYPE.BOX, \"wp2\", \"base_link\", (0.1,0.1,0.01), (0.2,-0.3,0), rpy=(0,0,0), \n",
    "                         color=(0.8,0.2,0.2,1), display=True, fixed=True, collision=False, parent=\"floor\")\n",
    "goal = gscene.create_safe(GEOTYPE.BOX, \"goal\", \"base_link\", (0.1,0.1,0.01), (0.3,-0.4,0), \n",
    "                          rpy=(0,0,0), color=(0.2,0.2,0.8,1), display=True, fixed=True, collision=False)\n",
    " \n",
    "# add movable (fixed=False for movable geometries)\n",
    "box1 = gscene.create_safe(GEOTYPE.BOX, \"box1\", \"base_link\", (0.05,0.05,0.05), (0.3,0.4,0.031), \n",
    "                          rpy=(0,0,0), color=(0.8,0.2,0.2,1), display=True, fixed=False, collision=True)\n",
    "\n",
    "obstacle = gscene.create_safe(GEOTYPE.BOX, \"obstacle\", \"base_link\", (0.05,0.05,0.05), (0.5,0.4,0.031), \n",
    "                          rpy=(0,0,0), color=(0.8,0.8,0.2,1), display=True, fixed=False, collision=True)"
   ]
  },
  {
   "cell_type": "code",
   "execution_count": null,
   "metadata": {},
   "outputs": [],
   "source": []
  },
  {
   "cell_type": "markdown",
   "metadata": {},
   "source": [
    "##### create PlanningScene"
   ]
  },
  {
   "cell_type": "code",
   "execution_count": 4,
   "metadata": {},
   "outputs": [],
   "source": [
    "from pkg.planning.scene import PlanningScene\n",
    "pscene = PlanningScene(gscene, combined_robot=crob)"
   ]
  },
  {
   "cell_type": "code",
   "execution_count": null,
   "metadata": {},
   "outputs": [],
   "source": []
  },
  {
   "cell_type": "markdown",
   "metadata": {},
   "source": [
    "##### create_binder\n",
    "- Binders (or Actors) are binding points where objects can be attached (or binded)\n",
    "- Examples are \n",
    "  - PlacePlane: plane for object placement\n",
    "  - Gripper2Tool: 2-finger gripper tool for grasp objects\n",
    "  - SweepTool: action point to pass waypoints for sweep task"
   ]
  },
  {
   "cell_type": "code",
   "execution_count": 5,
   "metadata": {},
   "outputs": [],
   "source": [
    "from pkg.planning.constraint.constraint_actor import PlacePlane, Gripper2Tool, SweepFramer"
   ]
  },
  {
   "cell_type": "code",
   "execution_count": 6,
   "metadata": {},
   "outputs": [
    {
     "data": {
      "text/plain": [
       "<pkg.planning.constraint.constraint_actor.PlacePlane at 0x7f619f0e7a50>"
      ]
     },
     "execution_count": 6,
     "metadata": {},
     "output_type": "execute_result"
    }
   ],
   "source": [
    "# create PlacePlane on geometry \"floor\" and \"goal\"\n",
    "# when point is not set, the entire upper surface of the geometry becomes valid binding area.\n",
    "# when point is set, the specific point becomes the only valid binding point.\n",
    "pscene.create_binder(bname=\"floor\", gname=\"floor\", _type=PlacePlane)\n",
    "pscene.create_binder(bname=\"goal\", gname=\"goal\", _type=PlacePlane, point=(0,0,0.005))"
   ]
  },
  {
   "cell_type": "code",
   "execution_count": 7,
   "metadata": {},
   "outputs": [
    {
     "data": {
      "text/plain": [
       "<pkg.planning.constraint.constraint_actor.Gripper2Tool at 0x7f619f0dea10>"
      ]
     },
     "execution_count": 7,
     "metadata": {},
     "output_type": "execute_result"
    }
   ],
   "source": [
    "# add collision boundary for gripper base\n",
    "# - set link_name=\"indy0_tcp\" to attach the geometry to end-effector link\n",
    "# - it can be labeled as fixed=True, as it is \"fixed\" on the indy0_tcp link\n",
    "gripper =  gscene.create_safe(GEOTYPE.SPHERE, \"grip0\", link_name=\"indy0_tcp\", \n",
    "                                dims=(0.01,0.01,0.01), center=(0,0,0.14), rpy=(-np.pi/2,0,0), \n",
    "                                color=(0.8,0.2,0.2,0.5), display=True, fixed=True, collision=False)\n",
    "\n",
    "# create Gripper2Tool binder\n",
    "# Gripper2Tool is a 2-finger gripper, which can rotate along z-direction.\n",
    "# To align the z-direction with the 2 fingers, rotate by 90 degree along roll axis.\n",
    "# The gripping point is (0,0,0.11) in local coordinate of \"gripper\" geometry\n",
    "pscene.create_binder(bname=\"grip0\", gname=\"grip0\", _type=Gripper2Tool)"
   ]
  },
  {
   "cell_type": "code",
   "execution_count": 8,
   "metadata": {},
   "outputs": [
    {
     "data": {
      "text/plain": [
       "<pkg.planning.constraint.constraint_actor.SweepFramer at 0x7f619f0e7fd0>"
      ]
     },
     "execution_count": 8,
     "metadata": {},
     "output_type": "execute_result"
    }
   ],
   "source": [
    "# Add virtual (no-collision) sweep face. the point is 0.2 m away from the \"indy0_tcp\" link\n",
    "# To match the z-direction with the target surface, the geometry is rotated 180 degrees in pitch-axis.\n",
    "sweep_face =  gscene.create_safe(GEOTYPE.BOX, \"sweep_face\", link_name=\"indy0_tcp\", \n",
    "                                dims=(0.05,0.05,0.001), center=(0,0,0.2), rpy=(0,np.pi,0), \n",
    "                                color=(0.2,0.2,0.8,0.1), display=True, fixed=True, collision=False)\n",
    "                                 \n",
    "# create SweepTool binder\n",
    "pscene.create_binder(bname=\"sweep_face\", gname=\"sweep_face\", _type=SweepFramer, point=(0,0,0), rpy=(0,0,0))"
   ]
  },
  {
   "cell_type": "code",
   "execution_count": null,
   "metadata": {},
   "outputs": [],
   "source": []
  },
  {
   "cell_type": "markdown",
   "metadata": {},
   "source": [
    "##### create_subject\n",
    "* Subject describes the tasks in the planning scene.\n",
    "* There are 2 categories in subject:\n",
    "  1. Object: The object has grip points and placement points for pick&place task\n",
    "  2. Task: The task is can be any non-physical task. Check SweepLineTask for example\n",
    "* The subjects can be composed of multiple action points. Examples are:\n",
    "  1. Grasp2Point: grasping point for 2-finger gripper. \n",
    "  2. PlacePoint: The point to place object.\n",
    "  3. SweepPoint: A waypoint for SweepLineTask.\n",
    "  * The above 3 action points inherit DirectePoint, for which the orientation is free along z-axis. \n",
    "  * If \"point\" parameter is not set, the entire upper surface is becomes valid action area."
   ]
  },
  {
   "cell_type": "code",
   "execution_count": 9,
   "metadata": {},
   "outputs": [],
   "source": [
    "from pkg.planning.constraint.constraint_subject import Grasp2Point, PlacePoint, SweepFrame\n",
    "from pkg.planning.constraint.constraint_subject import CustomObject, SweepLineTask"
   ]
  },
  {
   "cell_type": "code",
   "execution_count": 10,
   "metadata": {},
   "outputs": [],
   "source": [
    "## create box object with grasping points along positive & negative y-direction and placement point in the bottom face\n",
    "box_obj = pscene.create_subject(oname=\"box1\", gname=\"box1\", _type=CustomObject, \n",
    "                             action_points_dict = {\n",
    "                                 \"handle1\": Grasp2Point(\"handle1\", box1, [0,0,0], [-np.pi/2,0,0]),\n",
    "                                 \"handle2\": Grasp2Point(\"handle2\", box1, [0,0,0], [np.pi/2,0,0]),\n",
    "                                 \"bottom\": PlacePoint(\"bottom\", box1, [0,0,-0.026], [0,0,0])})"
   ]
  },
  {
   "cell_type": "code",
   "execution_count": 11,
   "metadata": {},
   "outputs": [],
   "source": [
    "## create sweep task with 2 waypoints\n",
    "sweep = pscene.create_subject(oname=\"sweep\", gname=\"floor\", _type=SweepLineTask, \n",
    "                             action_points_dict = {\"wp1\": SweepFrame(\"wp1\", wp1, [0,0,0.005], [0,0,0]),\n",
    "                                                   \"wp2\": SweepFrame(\"wp2\", wp2, [0,0,0.005], [0,0,0])}\n",
    "                             )"
   ]
  },
  {
   "cell_type": "code",
   "execution_count": null,
   "metadata": {},
   "outputs": [],
   "source": []
  },
  {
   "cell_type": "markdown",
   "metadata": {},
   "source": [
    "##### initialize_state\n",
    "* initialize_state(robot_pose) updates robot pose and gets corresponding binding status of current scene.\n",
    "* state.node of ('floor', 0) means the first subject (object) is placed on the floor and the second subject (sweep) has passed 0 waypoints"
   ]
  },
  {
   "cell_type": "code",
   "execution_count": 12,
   "metadata": {},
   "outputs": [
    {
     "name": "stdout",
     "output_type": "stream",
     "text": [
      "('floor', 0)\n"
     ]
    }
   ],
   "source": [
    "initial_state = pscene.initialize_state(crob.home_pose)\n",
    "print(initial_state.node)"
   ]
  },
  {
   "cell_type": "code",
   "execution_count": null,
   "metadata": {},
   "outputs": [],
   "source": []
  },
  {
   "cell_type": "code",
   "execution_count": null,
   "metadata": {},
   "outputs": [],
   "source": []
  },
  {
   "cell_type": "markdown",
   "metadata": {},
   "source": [
    "## Copy urdf file"
   ]
  },
  {
   "cell_type": "code",
   "execution_count": 13,
   "metadata": {},
   "outputs": [],
   "source": [
    "from shutil import copyfile\n",
    "import rospkg\n",
    "rospack = rospkg.RosPack()\n",
    "def copyfile_callback(line, string_from=\"package://\", path_to=\"./\"):\n",
    "    i_s = line.find(string_from)\n",
    "    i_e = line.rfind('\"')\n",
    "    if i_e<=0:\n",
    "        i_e = line.rfind(\"'\")\n",
    "    file_pkg = line[i_s+len(string_from):i_e]\n",
    "    file_split = file_pkg.split('/')\n",
    "    pkg = file_split[0]\n",
    "    path_pkg = rospack.get_path(pkg)\n",
    "    path_cur = path_to\n",
    "    for folder in file_split[:-1]:\n",
    "        path_cur = os.path.join(path_cur, folder)\n",
    "        try_mkdir(path_cur)\n",
    "    try: copyfile(os.path.join(path_pkg, *file_split[1:]), os.path.join(path_to, file_pkg))\n",
    "    except: pass"
   ]
  },
  {
   "cell_type": "code",
   "execution_count": 14,
   "metadata": {},
   "outputs": [],
   "source": [
    "upath_ext_split = gscene.urdf_path.split(\".\")\n",
    "urdf_pybullet_path = \".\".join(upath_ext_split[:-1])+\"_pybullet.\"+upath_ext_split[-1]\n",
    "path_to = os.path.dirname(urdf_pybullet_path)\n",
    "copyfile_replace(gscene.urdf_path, urdf_pybullet_path, \"package://\", \"./\", \n",
    "                 line_callback=lambda line, string_from, string_to: copyfile_callback(line, string_from, path_to))"
   ]
  },
  {
   "cell_type": "code",
   "execution_count": null,
   "metadata": {},
   "outputs": [],
   "source": []
  },
  {
   "cell_type": "code",
   "execution_count": null,
   "metadata": {},
   "outputs": [],
   "source": []
  },
  {
   "cell_type": "markdown",
   "metadata": {},
   "source": [
    "## Test pybullet"
   ]
  },
  {
   "cell_type": "code",
   "execution_count": 15,
   "metadata": {},
   "outputs": [],
   "source": [
    "#!/usr/bin/env python\n",
    "\n",
    "from __future__ import print_function\n",
    "\n",
    "import os\n",
    "import sys\n",
    "RNB_PLANNING_DIR = os.environ['PDDL_STREAM_DIR']\n",
    "sys.path.insert(1, os.environ[\"PDDL_STREAM_DIR\"])\n",
    "\n",
    "from pddlstream.algorithms.meta import solve, create_parser\n",
    "from examples.pybullet.utils.pybullet_tools.utils import WorldSaver, connect, get_pose, set_pose, Pose, \\\n",
    "    Point, set_default_camera, stable_z, \\\n",
    "    BLOCK_URDF, SMALL_BLOCK_URDF, get_configuration, SINK_URDF, STOVE_URDF, load_model, is_placement, get_body_name, \\\n",
    "    disconnect, DRAKE_IIWA_URDF, get_bodies, HideOutput, wait_for_user, KUKA_IIWA_URDF, add_data_path, load_pybullet, \\\n",
    "    LockRenderer, has_gui, draw_pose, draw_global_system, CLIENTS, CLIENT, is_darwin, disable_preview, get_model_path\n",
    "from pddlstream.language.generator import from_gen_fn, from_fn, empty_gen, from_test, universe_test\n",
    "from pddlstream.utils import read, INF, get_file_path, find_unique, Profiler, str_from_object, negate_test\n",
    "from pddlstream.language.constants import print_solution, PDDLProblem\n",
    "from examples.pybullet.tamp.streams import get_cfree_approach_pose_test, get_cfree_pose_pose_test, get_cfree_traj_pose_test, \\\n",
    "    move_cost_fn, get_cfree_obj_approach_pose_test"
   ]
  },
  {
   "cell_type": "code",
   "execution_count": 16,
   "metadata": {},
   "outputs": [],
   "source": [
    "\n",
    "import platform\n",
    "import pybullet as p\n",
    "def connect(use_gui=True, shadows=True, color=None, width=None, height=None):\n",
    "    # Shared Memory: execute the physics simulation and rendering in a separate process\n",
    "    # https://github.com/bulletphysics/bullet3/blob/master/examples/pybullet/examples/vrminitaur.py#L7\n",
    "    # make sure to compile pybullet with PYBULLET_USE_NUMPY enabled\n",
    "    if use_gui and not is_darwin() and ('DISPLAY' not in os.environ):\n",
    "        use_gui = False\n",
    "        print('No display detected!')\n",
    "    method = p.GUI if use_gui else p.DIRECT\n",
    "#     with HideOutput():\n",
    "    #  --window_backend=2 --render_device=0'\n",
    "    # options=\"--mp4=\\\"test.mp4\\' --mp4fps=240\"\n",
    "    options = ''\n",
    "    if color is not None:\n",
    "        options += '--background_color_red={} --background_color_green={} --background_color_blue={}'.format(*color)\n",
    "    if width is not None:\n",
    "        options += '--width={}'.format(width)\n",
    "    if height is not None:\n",
    "        options += '--height={}'.format(height)\n",
    "    sim_id = p.connect(method, options=options) # key=None,\n",
    "    #sim_id = p.connect(p.GUI, options='--opengl2') if use_gui else p.connect(p.DIRECT)\n",
    "\n",
    "    assert 0 <= sim_id\n",
    "    #sim_id2 = p.connect(p.SHARED_MEMORY)\n",
    "    #print(sim_id, sim_id2)\n",
    "    CLIENTS[sim_id] = True if use_gui else None\n",
    "    if use_gui:\n",
    "        # p.COV_ENABLE_PLANAR_REFLECTION\n",
    "        # p.COV_ENABLE_SINGLE_STEP_RENDERING\n",
    "        disable_preview()\n",
    "        p.configureDebugVisualizer(p.COV_ENABLE_TINY_RENDERER, False, physicsClientId=sim_id) # TODO: does this matter?\n",
    "        p.configureDebugVisualizer(p.COV_ENABLE_SHADOWS, shadows, physicsClientId=sim_id)\n",
    "        p.configureDebugVisualizer(p.COV_ENABLE_MOUSE_PICKING, False, physicsClientId=sim_id) # mouse moves meshes\n",
    "        p.configureDebugVisualizer(p.COV_ENABLE_KEYBOARD_SHORTCUTS, False, physicsClientId=sim_id)\n",
    "\n",
    "    # you can also use GUI mode, for faster OpenGL rendering (instead of TinyRender CPU)\n",
    "    #visualizer_options = {\n",
    "    #    p.COV_ENABLE_WIREFRAME: 1,\n",
    "    #    p.COV_ENABLE_SHADOWS: 0,\n",
    "    #    p.COV_ENABLE_RENDERING: 0,\n",
    "    #    p.COV_ENABLE_TINY_RENDERER: 1,\n",
    "    #    p.COV_ENABLE_RGB_BUFFER_PREVIEW: 0,\n",
    "    #    p.COV_ENABLE_DEPTH_BUFFER_PREVIEW: 0,\n",
    "    #    p.COV_ENABLE_SEGMENTATION_MARK_PREVIEW: 0,\n",
    "    #    p.COV_ENABLE_VR_RENDER_CONTROLLERS: 0,\n",
    "    #    p.COV_ENABLE_VR_PICKING: 0,\n",
    "    #    p.COV_ENABLE_VR_TELEPORTING: 0,\n",
    "    #}\n",
    "    #for pair in visualizer_options.items():\n",
    "    #    p.configureDebugVisualizer(*pair)\n",
    "    return sim_id\n",
    "\n",
    "def load_model_abs(abs_path, pose=None, **kwargs):\n",
    "    # TODO: error with loadURDF when loading MESH visual and CYLINDER collision\n",
    "    add_data_path()\n",
    "    #with LockRenderer():\n",
    "    print(\"[Pybullet] Load urdf from {}\".format(abs_path))\n",
    "    body = load_pybullet(abs_path, **kwargs)\n",
    "    if pose is not None:\n",
    "        set_pose(body, pose)\n",
    "    return body"
   ]
  },
  {
   "cell_type": "code",
   "execution_count": 19,
   "metadata": {},
   "outputs": [],
   "source": [
    "import pybullet\n",
    "from examples.pybullet.utils.pybullet_tools.utils import get_configuration, link_from_name, add_fixed_constraint\n",
    "from pkg.geometry.geotype import *\n",
    "from pkg.planning.constraint.constraint_subject import AbstractObject\n",
    "\n",
    "def add_gtem_to_pybullet(gtem, robot_body=0L):\n",
    "    add_gtem_fam_to_pybullet(gtem.name, [gtem], robot_body=robot_body)\n",
    "    \n",
    "##\n",
    "# @remark root parent first in gtem_list\n",
    "def add_gtem_fam_to_pybullet(root_name, gtem_list, robot_body=0L, base_link=\"base_link\"):\n",
    "    linkMasses = []\n",
    "    linkCollisionShapeIndices = []\n",
    "    linkVisualShapeIndices = []\n",
    "    linkPositions = []\n",
    "    linkOrientations = []\n",
    "    linkInertialFramePositions = []\n",
    "    linkInertialFrameOrientations = []\n",
    "    linkJointTypes = []\n",
    "    linkJointAxis = []\n",
    "    linkParentIndices = []\n",
    "    \n",
    "    indice_dict = {}\n",
    "    kwargs_dim = {}\n",
    "    for gtem in gtem_list:\n",
    "        color = gtem.color\n",
    "        if gtem.gtype == GEOTYPE.BOX:\n",
    "            shapeType = pybullet.GEOM_BOX\n",
    "            kwargs_dim['halfExtents'] = np.divide(gtem.dims, 2).tolist()\n",
    "        if gtem.gtype == GEOTYPE.CAPSULE:\n",
    "            shapeType = pybullet.GEOM_CAPSULE\n",
    "            kwargs_dim['length'] = gtem.dims[2]\n",
    "            kwargs_dim['radius'] = np.mean(gtem.dims[0:1])\n",
    "        if gtem.gtype == GEOTYPE.CYLINDER:\n",
    "            shapeType = pybullet.GEOM_CYLINDER\n",
    "            kwargs_dim['length'] = gtem.dims[2]\n",
    "            kwargs_dim['radius'] = np.mean(gtem.dims[0:1])\n",
    "        if gtem.gtype == GEOTYPE.SPHERE:\n",
    "            shapeType = pybullet.GEOM_SPHERE\n",
    "            kwargs_dim['radius'] = np.mean(gtem.dims)\n",
    "        if gtem.gtype == GEOTYPE.PLANE:\n",
    "            shapeType = pybullet.GEOM_PLANE\n",
    "            kwargs_dim['halfExtents'] = np.divide(gtem.dims, 2).tolist()\n",
    "            print(\"[WARNING] plane geometry not supported yet\")\n",
    "            continue\n",
    "        \n",
    "        if gtem.display:\n",
    "            vid = pybullet.createVisualShape(shapeType=shapeType, \n",
    "                                      rgbaColor=color, \n",
    "                                      visualFramePosition=(0,0,0), **kwargs_dim)\n",
    "        else:\n",
    "            vid = -1\n",
    "            \n",
    "        if gtem.collision:\n",
    "            cid = pybullet.createCollisionShape(shapeType=shapeType, collisionFramePosition=(0,0,0),  **kwargs_dim)\n",
    "        else:\n",
    "            cid = -1\n",
    "            \n",
    "        if gtem.name == root_name:\n",
    "            T_base = gtem.get_tf(list2dict(get_configuration(robot_body), gtem.gscene.joint_names))\n",
    "            baseCollisionShapeIndex = cid\n",
    "            baseVisualShapeIndex = vid\n",
    "            basePosition = T_base[:3,3].tolist()\n",
    "            baseOrientation = Rotation.from_dcm(T_base[:3,:3]).as_quat()\n",
    "        else:\n",
    "            linkMasses.append(1)\n",
    "            linkParentIndices.append(0) # only single-depth link supported now\n",
    "            linkPositions.append(gtem.center_child)\n",
    "            linkOrientations.append(Rotation.from_dcm(gtem.orientation_mat_child).as_quat(),)\n",
    "            linkInertialFramePositions.append((0,0,0))\n",
    "            linkInertialFrameOrientations.append((0,0,0,1))\n",
    "            linkJointTypes.append(pybullet.JOINT_FIXED)\n",
    "            linkJointAxis.append(None)\n",
    "            linkCollisionShapeIndices.append(cid)\n",
    "            linkVisualShapeIndices.append(vid)\n",
    "            \n",
    "            \n",
    "    bid = pybullet.createMultiBody(baseMass=1,\n",
    "                                        baseInertialFramePosition=[0, 0, 0],\n",
    "                                        baseCollisionShapeIndex=baseCollisionShapeIndex,\n",
    "                                        baseVisualShapeIndex=baseVisualShapeIndex,\n",
    "                                        basePosition=basePosition,\n",
    "                                        baseOrientation=baseOrientation,\n",
    "                                        linkMasses=linkMasses,\n",
    "                                        linkCollisionShapeIndices=linkCollisionShapeIndices,\n",
    "                                        linkVisualShapeIndices=linkVisualShapeIndices,\n",
    "                                        linkPositions=linkPositions,\n",
    "                                        linkOrientations=linkOrientations,\n",
    "                                        linkInertialFramePositions=linkInertialFramePositions,\n",
    "                                        linkInertialFrameOrientations=linkInertialFrameOrientations,\n",
    "                                        linkParentIndices=linkParentIndices,\n",
    "                                        linkJointTypes=linkJointTypes,\n",
    "                                        linkJointAxis=linkJointAxis,\n",
    "                                        useMaximalCoordinates=True)\n",
    "    \n",
    "    if gtem.link_name != base_link:\n",
    "        link_body = link_from_name(robot_body, gtem.link_name)\n",
    "        add_fixed_constraint(bid, robot_body, link_body)\n",
    "        \n",
    "    return bid\n",
    "    \n",
    "def pscene_to_pybullet(pscene, name_exclude_list=[]):\n",
    "    robot_body = load_model_abs(urdf_pybullet_path, fixed_base=True)\n",
    "    \n",
    "    gscene = pscene.gscene\n",
    "    gfam_dict = {}\n",
    "    for gtem in gscene:\n",
    "        if any([te in gtem.name for te in name_exclude_list]):\n",
    "            continue\n",
    "        if gtem.parent is None:\n",
    "            gfam_dict[gtem.name] = [gscene.NAME_DICT[gname] for gname in gtem.get_family()]\n",
    "    bid_dict = {}\n",
    "    for root_name, gfam in gfam_dict.items():\n",
    "        bid_dict[root_name] = add_gtem_fam_to_pybullet(root_name, gfam, robot_body=robot_body)\n",
    "\n",
    "    body_names = {v:k for k, v in bid_dict.items()}\n",
    "    movable_bodies = []\n",
    "    for subject in pscene.subject_dict.values():\n",
    "        body_i = bid_dict[subject.geometry.get_root()]\n",
    "        if isinstance(subject, AbstractObject):\n",
    "            movable_bodies.append(body_i)\n",
    "        else:\n",
    "            print(\"[WARING] non-object subject not implemented for now\")\n",
    "            \n",
    "    return robot_body, body_names, movable_bodies"
   ]
  },
  {
   "cell_type": "code",
   "execution_count": null,
   "metadata": {},
   "outputs": [],
   "source": []
  },
  {
   "cell_type": "code",
   "execution_count": 17,
   "metadata": {
    "scrolled": true
   },
   "outputs": [
    {
     "data": {
      "text/plain": [
       "0"
      ]
     },
     "execution_count": 17,
     "metadata": {},
     "output_type": "execute_result"
    }
   ],
   "source": [
    "connect(use_gui=True)\n",
    "set_default_camera()\n",
    "draw_global_system()"
   ]
  },
  {
   "cell_type": "code",
   "execution_count": 20,
   "metadata": {
    "scrolled": true
   },
   "outputs": [
    {
     "name": "stdout",
     "output_type": "stream",
     "text": [
      "/home/rnb/Projects/rnb-planning/src/robots/custom_robots_pybullet.urdf\n",
      "[WARNING] plane geometry not supported yet\n",
      "[WARING] non-object subject not implemented for now\n"
     ]
    }
   ],
   "source": [
    "bid_dict = pscene_to_pybullet(pscene, name_exclude_list=[\"indy0\"])"
   ]
  },
  {
   "cell_type": "code",
   "execution_count": 26,
   "metadata": {},
   "outputs": [
    {
     "name": "stdout",
     "output_type": "stream",
     "text": [
      "[WARING] non-object subject not implemented for now\n"
     ]
    }
   ],
   "source": []
  },
  {
   "cell_type": "code",
   "execution_count": 25,
   "metadata": {},
   "outputs": [],
   "source": []
  },
  {
   "cell_type": "code",
   "execution_count": null,
   "metadata": {},
   "outputs": [],
   "source": []
  },
  {
   "cell_type": "markdown",
   "metadata": {},
   "source": [
    "## Pipeline"
   ]
  },
  {
   "cell_type": "code",
   "execution_count": 25,
   "metadata": {},
   "outputs": [],
   "source": [
    "from pkg.planning.pipeline import PlanningPipeline\n",
    "ppline = PlanningPipeline(pscene)"
   ]
  },
  {
   "cell_type": "code",
   "execution_count": 26,
   "metadata": {},
   "outputs": [
    {
     "name": "stdout",
     "output_type": "stream",
     "text": [
      "Dash is running on http://0.0.0.0:8050/\n",
      "\n",
      " * Serving Flask app \"pkg.ui.dash_launcher\" (lazy loading)\n",
      " * Environment: production\n",
      "   WARNING: This is a development server. Do not use it in a production deployment.\n",
      "   Use a production WSGI server instead.\n",
      " * Debug mode: off\n",
      "generate table - Geometry\n",
      "generate table - Objectgenerate table - Handle\n",
      "\n",
      "generate table - Binder\n"
     ]
    }
   ],
   "source": [
    "from pkg.ui.ui_broker import *\n",
    "\n",
    "# start UI\n",
    "ui_broker = UIBroker.instance()\n",
    "ui_broker.initialize(ppline, s_builder)\n",
    "ui_broker.start_server()\n",
    "\n",
    "ui_broker.set_tables()"
   ]
  },
  {
   "cell_type": "code",
   "execution_count": null,
   "metadata": {},
   "outputs": [],
   "source": []
  },
  {
   "cell_type": "code",
   "execution_count": null,
   "metadata": {},
   "outputs": [],
   "source": []
  },
  {
   "cell_type": "markdown",
   "metadata": {},
   "source": [
    "## 4.2 MotionPlanner"
   ]
  },
  {
   "cell_type": "markdown",
   "metadata": {},
   "source": [
    "##### MoveitPlanner\n",
    "* *get_available_binding_dict()* gets available binding states for each subject in a dictionary\n",
    "* *sample_leaf_state samples()* target state with given available_binding_dict and target node\n",
    "* *rebind_all()* updates binding state and returns the resultant state\n",
    "* The motions tested in this section are:\n",
    "  - pick: move the object to \"gripper\"\n",
    "  - place: move the object to \"goal\"\n",
    "  - sweep: \n",
    "    1) approach to waypoint 1\n",
    "    2) sweep to waypoint 2\n",
    "    3) return to home pose"
   ]
  },
  {
   "cell_type": "code",
   "execution_count": 22,
   "metadata": {},
   "outputs": [],
   "source": [
    "from pkg.planning.motion.moveit.moveit_planner import MoveitPlanner\n",
    "mplan = MoveitPlanner(pscene)"
   ]
  },
  {
   "cell_type": "code",
   "execution_count": 23,
   "metadata": {},
   "outputs": [],
   "source": [
    "from pkg.planning.motion.moveit.moveit_py import ConstrainedSpaceType, PlannerConfig"
   ]
  },
  {
   "cell_type": "code",
   "execution_count": 24,
   "metadata": {},
   "outputs": [],
   "source": [
    "gscene.show_pose(crob.home_pose)"
   ]
  },
  {
   "cell_type": "code",
   "execution_count": null,
   "metadata": {},
   "outputs": [],
   "source": []
  },
  {
   "cell_type": "markdown",
   "metadata": {},
   "source": [
    "# Comparison test - grasp-reaching motion"
   ]
  },
  {
   "cell_type": "code",
   "execution_count": 17,
   "metadata": {
    "scrolled": true
   },
   "outputs": [
    {
     "name": "stdout",
     "output_type": "stream",
     "text": [
      "try transition motion\n",
      "transition motion tried: True\n",
      "try transition motion\n",
      "transition motion tried: True\n",
      "try transition motion\n",
      "transition motion tried: True\n",
      "try transition motion\n",
      "transition motion tried: True\n",
      "try joint motion\n",
      "joint motion tried: True\n",
      "try joint motion\n",
      "joint motion tried: True\n",
      "try joint motion\n",
      "joint motion tried: True\n",
      "try joint motion\n",
      "joint motion tried: True\n",
      "=== loop count = 0 / 50 ===\n",
      "try transition motion\n",
      "transition motion tried: True\n",
      "try transition motion\n",
      "transition motion tried: True\n",
      "try transition motion\n",
      "transition motion tried: True\n",
      "try transition motion\n",
      "transition motion tried: True\n",
      "try joint motion\n",
      "joint motion tried: True\n",
      "try joint motion\n",
      "joint motion tried: True\n",
      "try joint motion\n",
      "joint motion tried: True\n",
      "try joint motion\n",
      "joint motion tried: True\n",
      "=== loop count = 1 / 50 ===\n",
      "try transition motion\n",
      "transition motion tried: True\n",
      "try transition motion\n",
      "transition motion tried: True\n",
      "try transition motion\n",
      "transition motion tried: True\n",
      "try transition motion\n",
      "transition motion tried: True\n",
      "try joint motion\n",
      "joint motion tried: True\n",
      "try joint motion\n",
      "joint motion tried: True\n",
      "try joint motion\n",
      "joint motion tried: True\n",
      "try joint motion\n",
      "joint motion tried: True\n",
      "=== loop count = 2 / 50 ===\n",
      "try transition motion\n",
      "transition motion tried: True\n",
      "try transition motion\n",
      "transition motion tried: True\n",
      "try transition motion\n",
      "transition motion tried: True\n",
      "try transition motion\n",
      "transition motion tried: True\n",
      "try joint motion\n",
      "joint motion tried: True\n",
      "try joint motion\n",
      "joint motion tried: True\n",
      "try joint motion\n",
      "joint motion tried: True\n",
      "try joint motion\n",
      "joint motion tried: True\n",
      "=== loop count = 3 / 50 ===\n",
      "try transition motion\n",
      "transition motion tried: True\n",
      "try transition motion\n",
      "transition motion tried: False\n",
      "try transition motion\n",
      "transition motion tried: True\n",
      "try transition motion\n",
      "transition motion tried: False\n",
      "try joint motion\n",
      "joint motion tried: True\n",
      "try joint motion\n",
      "joint motion tried: True\n",
      "try joint motion\n",
      "joint motion tried: True\n",
      "try joint motion\n",
      "joint motion tried: True\n",
      "=== loop count = 4 / 50 ===\n",
      "try transition motion\n",
      "transition motion tried: True\n",
      "try transition motion\n",
      "transition motion tried: True\n",
      "try transition motion\n",
      "transition motion tried: True\n",
      "try transition motion\n",
      "transition motion tried: True\n",
      "try joint motion\n",
      "joint motion tried: True\n",
      "try joint motion\n",
      "joint motion tried: True\n",
      "try joint motion\n",
      "joint motion tried: True\n",
      "try joint motion\n",
      "joint motion tried: True\n",
      "=== loop count = 5 / 50 ===\n",
      "try transition motion\n",
      "transition motion tried: False\n",
      "try transition motion\n",
      "transition motion tried: True\n",
      "try transition motion\n",
      "transition motion tried: True\n",
      "try transition motion\n",
      "transition motion tried: True\n",
      "try joint motion\n",
      "joint motion tried: True\n",
      "try joint motion\n",
      "joint motion tried: True\n",
      "try joint motion\n",
      "joint motion tried: True\n",
      "try joint motion\n",
      "joint motion tried: True\n",
      "=== loop count = 6 / 50 ===\n",
      "try transition motion\n",
      "transition motion tried: True\n",
      "try transition motion\n",
      "transition motion tried: True\n",
      "try transition motion\n",
      "transition motion tried: True\n",
      "try transition motion\n",
      "transition motion tried: True\n",
      "try joint motion\n",
      "joint motion tried: True\n",
      "try joint motion\n",
      "joint motion tried: True\n",
      "try joint motion\n",
      "joint motion tried: True\n",
      "try joint motion\n",
      "joint motion tried: True\n",
      "=== loop count = 7 / 50 ===\n",
      "try transition motion\n",
      "transition motion tried: True\n",
      "try transition motion\n",
      "transition motion tried: True\n",
      "try transition motion\n",
      "transition motion tried: True\n",
      "try transition motion\n",
      "transition motion tried: True\n",
      "try joint motion\n",
      "joint motion tried: True\n",
      "try joint motion\n",
      "joint motion tried: True\n",
      "try joint motion\n",
      "joint motion tried: True\n",
      "try joint motion\n",
      "joint motion tried: True\n",
      "=== loop count = 8 / 50 ===\n",
      "try transition motion\n",
      "transition motion tried: False\n",
      "try transition motion\n",
      "transition motion tried: True\n",
      "try transition motion\n",
      "transition motion tried: False\n",
      "try transition motion\n",
      "transition motion tried: True\n",
      "try joint motion\n",
      "joint motion tried: True\n",
      "try joint motion\n",
      "joint motion tried: True\n",
      "try joint motion\n",
      "joint motion tried: True\n",
      "try joint motion\n",
      "joint motion tried: True\n",
      "=== loop count = 9 / 50 ===\n",
      "try transition motion\n",
      "transition motion tried: True\n",
      "try transition motion\n",
      "transition motion tried: True\n",
      "try transition motion\n",
      "transition motion tried: True\n",
      "try transition motion\n",
      "transition motion tried: True\n",
      "try joint motion\n",
      "joint motion tried: True\n",
      "try joint motion\n",
      "joint motion tried: True\n",
      "try joint motion\n",
      "joint motion tried: True\n",
      "try joint motion\n",
      "joint motion tried: True\n",
      "=== loop count = 10 / 50 ===\n",
      "try transition motion\n",
      "transition motion tried: True\n",
      "try transition motion\n",
      "transition motion tried: True\n",
      "try transition motion\n",
      "transition motion tried: True\n",
      "try transition motion\n",
      "transition motion tried: True\n",
      "try joint motion\n",
      "joint motion tried: True\n",
      "try joint motion\n",
      "joint motion tried: True\n",
      "try joint motion\n",
      "joint motion tried: True\n",
      "try joint motion\n",
      "joint motion tried: True\n",
      "=== loop count = 11 / 50 ===\n",
      "try transition motion\n",
      "transition motion tried: True\n",
      "try transition motion\n",
      "transition motion tried: True\n",
      "try transition motion\n",
      "transition motion tried: True\n",
      "try transition motion\n",
      "transition motion tried: True\n",
      "try joint motion\n",
      "joint motion tried: True\n",
      "try joint motion\n",
      "joint motion tried: True\n",
      "try joint motion\n",
      "joint motion tried: True\n",
      "try joint motion\n",
      "joint motion tried: True\n",
      "=== loop count = 12 / 50 ===\n",
      "try transition motion\n",
      "transition motion tried: True\n",
      "try transition motion\n",
      "transition motion tried: True\n",
      "try transition motion\n",
      "transition motion tried: True\n",
      "try transition motion\n",
      "transition motion tried: True\n",
      "try joint motion\n",
      "joint motion tried: True\n",
      "try joint motion\n",
      "joint motion tried: True\n",
      "try joint motion\n",
      "joint motion tried: True\n",
      "try joint motion\n",
      "joint motion tried: True\n",
      "=== loop count = 13 / 50 ===\n",
      "try transition motion\n",
      "transition motion tried: True\n",
      "try transition motion\n",
      "transition motion tried: True\n",
      "try transition motion\n",
      "transition motion tried: False\n",
      "try transition motion\n",
      "transition motion tried: True\n",
      "try joint motion\n",
      "joint motion tried: True\n",
      "try joint motion\n",
      "joint motion tried: True\n",
      "try joint motion\n",
      "joint motion tried: True\n",
      "try joint motion\n",
      "joint motion tried: True\n",
      "=== loop count = 14 / 50 ===\n",
      "try transition motion\n",
      "transition motion tried: True\n",
      "try transition motion\n",
      "transition motion tried: True\n",
      "try transition motion\n",
      "transition motion tried: True\n",
      "try transition motion\n",
      "transition motion tried: True\n",
      "try joint motion\n",
      "joint motion tried: True\n",
      "try joint motion\n",
      "joint motion tried: True\n",
      "try joint motion\n",
      "joint motion tried: True\n",
      "try joint motion\n",
      "joint motion tried: True\n",
      "=== loop count = 15 / 50 ===\n",
      "try transition motion\n",
      "transition motion tried: True\n",
      "try transition motion\n",
      "transition motion tried: True\n",
      "try transition motion\n",
      "transition motion tried: True\n",
      "try transition motion\n",
      "transition motion tried: True\n",
      "try joint motion\n",
      "joint motion tried: True\n",
      "try joint motion\n",
      "joint motion tried: True\n",
      "try joint motion\n",
      "joint motion tried: True\n",
      "try joint motion\n",
      "joint motion tried: True\n",
      "=== loop count = 16 / 50 ===\n",
      "try transition motion\n",
      "transition motion tried: True\n",
      "try transition motion\n",
      "transition motion tried: True\n",
      "try transition motion\n",
      "transition motion tried: True\n",
      "try transition motion\n",
      "transition motion tried: True\n",
      "try joint motion\n",
      "joint motion tried: True\n",
      "try joint motion\n",
      "joint motion tried: True\n",
      "try joint motion\n",
      "joint motion tried: True\n",
      "try joint motion\n",
      "joint motion tried: True\n",
      "=== loop count = 17 / 50 ===\n",
      "try transition motion\n",
      "transition motion tried: True\n",
      "try transition motion\n",
      "transition motion tried: False\n",
      "try transition motion\n",
      "transition motion tried: False\n",
      "try transition motion\n",
      "transition motion tried: False\n",
      "try joint motion\n",
      "joint motion tried: True\n",
      "try joint motion\n",
      "joint motion tried: True\n",
      "try joint motion\n",
      "joint motion tried: True\n",
      "try joint motion\n",
      "joint motion tried: True\n",
      "=== loop count = 18 / 50 ===\n",
      "try transition motion\n",
      "transition motion tried: True\n",
      "try transition motion\n",
      "transition motion tried: True\n",
      "try transition motion\n",
      "transition motion tried: True\n",
      "try transition motion\n",
      "transition motion tried: False\n",
      "try joint motion\n",
      "joint motion tried: True\n",
      "try joint motion\n",
      "joint motion tried: True\n",
      "try joint motion\n",
      "joint motion tried: True\n",
      "try joint motion\n",
      "joint motion tried: True\n",
      "=== loop count = 19 / 50 ===\n",
      "try transition motion\n",
      "transition motion tried: True\n",
      "try transition motion\n",
      "transition motion tried: True\n",
      "try transition motion\n",
      "transition motion tried: True\n",
      "try transition motion\n",
      "transition motion tried: True\n",
      "try joint motion\n",
      "joint motion tried: True\n"
     ]
    },
    {
     "name": "stdout",
     "output_type": "stream",
     "text": [
      "try joint motion\n",
      "joint motion tried: True\n",
      "try joint motion\n",
      "joint motion tried: True\n",
      "try joint motion\n",
      "joint motion tried: True\n",
      "=== loop count = 20 / 50 ===\n",
      "try transition motion\n",
      "transition motion tried: True\n",
      "try transition motion\n",
      "transition motion tried: True\n",
      "try transition motion\n",
      "transition motion tried: True\n",
      "try transition motion\n",
      "transition motion tried: True\n",
      "try joint motion\n",
      "joint motion tried: True\n",
      "try joint motion\n",
      "joint motion tried: True\n",
      "try joint motion\n",
      "joint motion tried: True\n",
      "try joint motion\n",
      "joint motion tried: True\n",
      "=== loop count = 21 / 50 ===\n",
      "try transition motion\n",
      "transition motion tried: True\n",
      "try transition motion\n",
      "transition motion tried: True\n",
      "try transition motion\n",
      "transition motion tried: True\n",
      "try transition motion\n",
      "transition motion tried: True\n",
      "try joint motion\n",
      "joint motion tried: True\n",
      "try joint motion\n",
      "joint motion tried: True\n",
      "try joint motion\n",
      "joint motion tried: True\n",
      "try joint motion\n",
      "joint motion tried: True\n",
      "=== loop count = 22 / 50 ===\n",
      "try transition motion\n",
      "transition motion tried: True\n",
      "try transition motion\n",
      "transition motion tried: True\n",
      "try transition motion\n",
      "transition motion tried: False\n",
      "try transition motion\n",
      "transition motion tried: True\n",
      "try joint motion\n",
      "joint motion tried: True\n",
      "try joint motion\n",
      "joint motion tried: True\n",
      "try joint motion\n",
      "joint motion tried: True\n",
      "try joint motion\n",
      "joint motion tried: True\n",
      "=== loop count = 23 / 50 ===\n",
      "try transition motion\n",
      "transition motion tried: True\n",
      "try transition motion\n",
      "transition motion tried: True\n",
      "try transition motion\n",
      "transition motion tried: False\n",
      "try transition motion\n",
      "transition motion tried: True\n",
      "try joint motion\n",
      "joint motion tried: True\n",
      "try joint motion\n",
      "joint motion tried: True\n",
      "try joint motion\n",
      "joint motion tried: True\n",
      "try joint motion\n",
      "joint motion tried: True\n",
      "=== loop count = 24 / 50 ===\n",
      "try transition motion\n",
      "transition motion tried: True\n",
      "try transition motion\n",
      "transition motion tried: True\n",
      "try transition motion\n",
      "transition motion tried: True\n",
      "try transition motion\n",
      "transition motion tried: True\n",
      "try joint motion\n",
      "joint motion tried: True\n",
      "try joint motion\n",
      "joint motion tried: True\n",
      "try joint motion\n",
      "joint motion tried: True\n",
      "try joint motion\n",
      "joint motion tried: True\n",
      "=== loop count = 25 / 50 ===\n",
      "try transition motion\n",
      "transition motion tried: True\n",
      "try transition motion\n",
      "transition motion tried: True\n",
      "try transition motion\n",
      "transition motion tried: True\n",
      "try transition motion\n",
      "transition motion tried: True\n",
      "try joint motion\n",
      "joint motion tried: True\n",
      "try joint motion\n",
      "joint motion tried: True\n",
      "try joint motion\n",
      "joint motion tried: True\n",
      "try joint motion\n",
      "joint motion tried: True\n",
      "=== loop count = 26 / 50 ===\n",
      "try transition motion\n",
      "transition motion tried: True\n",
      "try transition motion\n",
      "transition motion tried: True\n",
      "try transition motion\n",
      "transition motion tried: False\n",
      "try transition motion\n",
      "transition motion tried: True\n",
      "try joint motion\n",
      "joint motion tried: True\n",
      "try joint motion\n",
      "joint motion tried: True\n",
      "try joint motion\n",
      "joint motion tried: True\n",
      "try joint motion\n",
      "joint motion tried: True\n",
      "=== loop count = 27 / 50 ===\n",
      "try transition motion\n",
      "transition motion tried: True\n",
      "try transition motion\n",
      "transition motion tried: True\n",
      "try transition motion\n",
      "transition motion tried: True\n",
      "try transition motion\n",
      "transition motion tried: True\n",
      "try joint motion\n",
      "joint motion tried: True\n",
      "try joint motion\n",
      "joint motion tried: True\n",
      "try joint motion\n",
      "joint motion tried: True\n",
      "try joint motion\n",
      "joint motion tried: True\n",
      "=== loop count = 28 / 50 ===\n",
      "try transition motion\n",
      "transition motion tried: True\n",
      "try transition motion\n",
      "transition motion tried: True\n",
      "try transition motion\n",
      "transition motion tried: True\n",
      "try transition motion\n",
      "transition motion tried: True\n",
      "try joint motion\n",
      "joint motion tried: True\n",
      "try joint motion\n",
      "joint motion tried: True\n",
      "try joint motion\n",
      "joint motion tried: True\n",
      "try joint motion\n",
      "joint motion tried: True\n",
      "=== loop count = 29 / 50 ===\n",
      "try transition motion\n",
      "transition motion tried: True\n",
      "try transition motion\n",
      "transition motion tried: True\n",
      "try transition motion\n",
      "transition motion tried: True\n",
      "try transition motion\n",
      "transition motion tried: True\n",
      "try joint motion\n",
      "joint motion tried: True\n",
      "try joint motion\n",
      "joint motion tried: True\n",
      "try joint motion\n",
      "joint motion tried: True\n",
      "try joint motion\n",
      "joint motion tried: True\n",
      "=== loop count = 30 / 50 ===\n",
      "try transition motion\n",
      "transition motion tried: True\n",
      "try transition motion\n",
      "transition motion tried: True\n",
      "try transition motion\n",
      "transition motion tried: True\n",
      "try transition motion\n",
      "transition motion tried: True\n",
      "try joint motion\n",
      "joint motion tried: True\n",
      "try joint motion\n",
      "joint motion tried: True\n",
      "try joint motion\n",
      "joint motion tried: True\n",
      "try joint motion\n",
      "joint motion tried: True\n",
      "=== loop count = 31 / 50 ===\n",
      "try transition motion\n",
      "transition motion tried: True\n",
      "try transition motion\n",
      "transition motion tried: True\n",
      "try transition motion\n",
      "transition motion tried: True\n",
      "try transition motion\n",
      "transition motion tried: True\n",
      "try joint motion\n",
      "joint motion tried: True\n",
      "try joint motion\n",
      "joint motion tried: True\n",
      "try joint motion\n",
      "joint motion tried: True\n",
      "try joint motion\n",
      "joint motion tried: True\n",
      "=== loop count = 32 / 50 ===\n",
      "try transition motion\n",
      "transition motion tried: False\n",
      "try transition motion\n",
      "transition motion tried: False\n",
      "try transition motion\n",
      "transition motion tried: False\n",
      "try transition motion\n",
      "transition motion tried: False\n",
      "try joint motion\n",
      "joint motion tried: True\n",
      "try joint motion\n",
      "joint motion tried: True\n",
      "try joint motion\n",
      "joint motion tried: True\n",
      "try joint motion\n",
      "joint motion tried: True\n",
      "=== loop count = 33 / 50 ===\n",
      "try transition motion\n",
      "transition motion tried: False\n",
      "try transition motion\n",
      "transition motion tried: True\n",
      "try transition motion\n",
      "transition motion tried: False\n",
      "try transition motion\n",
      "transition motion tried: False\n",
      "try joint motion\n",
      "joint motion tried: True\n",
      "try joint motion\n",
      "joint motion tried: True\n",
      "try joint motion\n",
      "joint motion tried: True\n",
      "try joint motion\n",
      "joint motion tried: True\n",
      "=== loop count = 34 / 50 ===\n",
      "try transition motion\n",
      "transition motion tried: True\n",
      "try transition motion\n",
      "transition motion tried: False\n",
      "try transition motion\n",
      "transition motion tried: False\n",
      "try transition motion\n",
      "transition motion tried: True\n",
      "try joint motion\n",
      "joint motion tried: True\n",
      "try joint motion\n",
      "joint motion tried: True\n",
      "try joint motion\n",
      "joint motion tried: True\n",
      "try joint motion\n",
      "joint motion tried: True\n",
      "=== loop count = 35 / 50 ===\n",
      "try transition motion\n",
      "transition motion tried: True\n",
      "try transition motion\n",
      "transition motion tried: True\n",
      "try transition motion\n",
      "transition motion tried: True\n",
      "try transition motion\n",
      "transition motion tried: True\n",
      "try joint motion\n",
      "joint motion tried: True\n",
      "try joint motion\n",
      "joint motion tried: True\n",
      "try joint motion\n",
      "joint motion tried: True\n",
      "try joint motion\n",
      "joint motion tried: True\n",
      "=== loop count = 36 / 50 ===\n",
      "try transition motion\n",
      "transition motion tried: True\n",
      "try transition motion\n",
      "transition motion tried: False\n",
      "try transition motion\n",
      "transition motion tried: False\n",
      "try transition motion\n",
      "transition motion tried: True\n",
      "try joint motion\n",
      "joint motion tried: True\n",
      "try joint motion\n",
      "joint motion tried: True\n",
      "try joint motion\n",
      "joint motion tried: True\n",
      "try joint motion\n",
      "joint motion tried: True\n",
      "=== loop count = 37 / 50 ===\n",
      "try transition motion\n",
      "transition motion tried: False\n",
      "try transition motion\n",
      "transition motion tried: True\n",
      "try transition motion\n",
      "transition motion tried: True\n",
      "try transition motion\n",
      "transition motion tried: True\n",
      "try joint motion\n",
      "joint motion tried: True\n",
      "try joint motion\n",
      "joint motion tried: True\n",
      "try joint motion\n",
      "joint motion tried: True\n",
      "try joint motion\n",
      "joint motion tried: True\n",
      "=== loop count = 38 / 50 ===\n",
      "try transition motion\n",
      "transition motion tried: True\n",
      "try transition motion\n",
      "transition motion tried: True\n",
      "try transition motion\n",
      "transition motion tried: True\n",
      "try transition motion\n",
      "transition motion tried: True\n",
      "try joint motion\n",
      "joint motion tried: True\n",
      "try joint motion\n",
      "joint motion tried: True\n",
      "try joint motion\n",
      "joint motion tried: True\n",
      "try joint motion\n",
      "joint motion tried: True\n",
      "=== loop count = 39 / 50 ===\n",
      "try transition motion\n",
      "transition motion tried: True\n",
      "try transition motion\n",
      "transition motion tried: True\n",
      "try transition motion\n",
      "transition motion tried: True\n",
      "try transition motion\n",
      "transition motion tried: True\n",
      "try joint motion\n",
      "joint motion tried: True\n",
      "try joint motion\n",
      "joint motion tried: True\n",
      "try joint motion\n",
      "joint motion tried: True\n",
      "try joint motion\n",
      "joint motion tried: True\n",
      "=== loop count = 40 / 50 ===\n",
      "try transition motion\n",
      "transition motion tried: False\n"
     ]
    },
    {
     "name": "stdout",
     "output_type": "stream",
     "text": [
      "try transition motion\n",
      "transition motion tried: False\n",
      "try transition motion\n",
      "transition motion tried: True\n",
      "try transition motion\n",
      "transition motion tried: False\n",
      "try joint motion\n",
      "joint motion tried: True\n",
      "try joint motion\n",
      "joint motion tried: True\n",
      "try joint motion\n",
      "joint motion tried: True\n",
      "try joint motion\n",
      "joint motion tried: True\n",
      "=== loop count = 41 / 50 ===\n",
      "try transition motion\n",
      "transition motion tried: True\n",
      "try transition motion\n",
      "transition motion tried: True\n",
      "try transition motion\n",
      "transition motion tried: True\n",
      "try transition motion\n",
      "transition motion tried: True\n",
      "try joint motion\n",
      "joint motion tried: True\n",
      "try joint motion\n",
      "joint motion tried: True\n",
      "try joint motion\n",
      "joint motion tried: True\n",
      "try joint motion\n",
      "joint motion tried: True\n",
      "=== loop count = 42 / 50 ===\n",
      "try transition motion\n",
      "transition motion tried: True\n",
      "try transition motion\n",
      "transition motion tried: True\n",
      "try transition motion\n",
      "transition motion tried: False\n",
      "try transition motion\n",
      "transition motion tried: True\n",
      "try joint motion\n",
      "joint motion tried: True\n",
      "try joint motion\n",
      "joint motion tried: True\n",
      "try joint motion\n",
      "joint motion tried: True\n",
      "try joint motion\n",
      "joint motion tried: True\n",
      "=== loop count = 43 / 50 ===\n",
      "try transition motion\n",
      "transition motion tried: True\n",
      "try transition motion\n",
      "transition motion tried: True\n",
      "try transition motion\n",
      "transition motion tried: True\n",
      "try transition motion\n",
      "transition motion tried: True\n",
      "try joint motion\n",
      "joint motion tried: True\n",
      "try joint motion\n",
      "joint motion tried: True\n",
      "try joint motion\n",
      "joint motion tried: True\n",
      "try joint motion\n",
      "joint motion tried: True\n",
      "=== loop count = 44 / 50 ===\n",
      "try transition motion\n",
      "transition motion tried: True\n",
      "try transition motion\n",
      "transition motion tried: True\n",
      "try transition motion\n",
      "transition motion tried: True\n",
      "try transition motion\n",
      "transition motion tried: True\n",
      "try joint motion\n",
      "joint motion tried: True\n",
      "try joint motion\n",
      "joint motion tried: True\n",
      "try joint motion\n",
      "joint motion tried: True\n",
      "try joint motion\n",
      "joint motion tried: True\n",
      "=== loop count = 45 / 50 ===\n",
      "try transition motion\n",
      "transition motion tried: True\n",
      "try transition motion\n",
      "transition motion tried: True\n",
      "try transition motion\n",
      "transition motion tried: True\n",
      "try transition motion\n",
      "transition motion tried: True\n",
      "try joint motion\n",
      "joint motion tried: True\n",
      "try joint motion\n",
      "joint motion tried: True\n",
      "try joint motion\n",
      "joint motion tried: True\n",
      "try joint motion\n",
      "joint motion tried: True\n",
      "=== loop count = 46 / 50 ===\n",
      "try transition motion\n",
      "transition motion tried: True\n",
      "try transition motion\n",
      "transition motion tried: True\n",
      "try transition motion\n",
      "transition motion tried: True\n",
      "try transition motion\n",
      "transition motion tried: True\n",
      "try joint motion\n",
      "joint motion tried: True\n",
      "try joint motion\n",
      "joint motion tried: True\n",
      "try joint motion\n",
      "joint motion tried: True\n",
      "try joint motion\n",
      "joint motion tried: True\n",
      "=== loop count = 47 / 50 ===\n",
      "try transition motion\n",
      "transition motion tried: True\n",
      "try transition motion\n",
      "transition motion tried: True\n",
      "try transition motion\n",
      "transition motion tried: True\n",
      "try transition motion\n",
      "transition motion tried: True\n",
      "try joint motion\n",
      "joint motion tried: True\n",
      "try joint motion\n",
      "joint motion tried: True\n",
      "try joint motion\n",
      "joint motion tried: True\n",
      "try joint motion\n",
      "joint motion tried: True\n",
      "=== loop count = 48 / 50 ===\n",
      "try transition motion\n",
      "transition motion tried: False\n",
      "try transition motion\n",
      "transition motion tried: True\n",
      "try transition motion\n",
      "transition motion tried: True\n",
      "try transition motion\n",
      "transition motion tried: True\n",
      "try joint motion\n",
      "joint motion tried: True\n",
      "try joint motion\n",
      "joint motion tried: True\n",
      "try joint motion\n",
      "joint motion tried: True\n",
      "try joint motion\n",
      "joint motion tried: True\n",
      "=== loop count = 49 / 50 ===\n",
      "BKPIECEkConfigDefault: \t31542.6 ms/50 = 630.9 ms (91.331/3006.085)\n",
      "KPIECEkConfigDefault: \t27577.7 ms/50 = 551.6 ms (47.669/3007.381)\n",
      "RRTkConfigDefault: \t48236.9 ms/50 = 964.7 ms (19.026/3013.746)\n",
      "RRTConnectkConfigDefault: \t22665.6 ms/50 = 453.3 ms (43.77/3006.213)\n",
      "HOME-BKPIECEkConfigDefault: \t8430.9 ms/50 = 168.6 ms (65.387/438.017)\n",
      "HOME-KPIECEkConfigDefault: \t2745.9 ms/50 = 54.9 ms (14.473/207.59)\n",
      "HOME-RRTkConfigDefault: \t3308.4 ms/50 = 66.2 ms (14.098/607.564)\n",
      "HOME-RRTConnectkConfigDefault: \t2380.3 ms/50 = 47.6 ms (19.585/320.407)\n",
      "\n"
     ]
    }
   ],
   "source": [
    "gtimer=GlobalTimer.instance()\n",
    "gtimer.reset()\n",
    "# grip 1 - reach the first waypoint\n",
    "from_state = initial_state.copy(pscene)\n",
    "from_state.Q = crob.home_pose\n",
    "to_node = (\"gripper\", 0)\n",
    "LOOP_MAX = 50\n",
    "for i_loop in range(LOOP_MAX):\n",
    "    available_binding_dict = pscene.get_available_binding_dict(from_state, to_node)\n",
    "    available_binding_dict = {'box1': [('handle2', 'grip0', 'gripper')],\n",
    "                              'sweep': [(None, None, None)]}\n",
    "    to_state, redundancy_dict = pscene.sample_leaf_state(from_state, available_binding_dict, to_node)\n",
    "    for vv in redundancy_dict.values():\n",
    "        for v in vv.values():\n",
    "            v['w']=np.random.uniform(-np.pi/16, np.pi/16)\n",
    "    with gtimer.block(\"BKPIECEkConfigDefault\", stack=True):\n",
    "        Traj, LastQ, error, success, binding_list = mplan.plan_transition(from_state, to_state, redundancy_dict, timeout=3, \n",
    "                                                                          plannerconfig=PlannerConfig.BKPIECEkConfigDefault)\n",
    "    with gtimer.block(\"KPIECEkConfigDefault\", stack=True):\n",
    "        Traj, LastQ, error, success, binding_list = mplan.plan_transition(from_state, to_state, redundancy_dict, timeout=3, \n",
    "                                                                          plannerconfig=PlannerConfig.KPIECEkConfigDefault)\n",
    "    with gtimer.block(\"RRTkConfigDefault\", stack=True):\n",
    "        Traj, LastQ, error, success, binding_list = mplan.plan_transition(from_state, to_state, redundancy_dict, timeout=3, \n",
    "                                                                          plannerconfig=PlannerConfig.RRTkConfigDefault)\n",
    "    with gtimer.block(\"RRTConnectkConfigDefault\", stack=True):\n",
    "        Traj, LastQ, error, success, binding_list = mplan.plan_transition(from_state, to_state, redundancy_dict, timeout=3, \n",
    "                                                                          plannerconfig=PlannerConfig.RRTConnectkConfigDefault)\n",
    "    end_state = pscene.rebind_all(binding_list, LastQ)\n",
    "    home_state = end_state.copy(pscene)\n",
    "    home_state.Q = crob.home_pose\n",
    "    with gtimer.block(\"HOME-BKPIECEkConfigDefault\", stack=True):\n",
    "        Traj, LastQ, error, success, binding_list = mplan.plan_transition(end_state, home_state, redundancy_dict, timeout=3, \n",
    "                                                                          plannerconfig=PlannerConfig.BKPIECEkConfigDefault)\n",
    "    with gtimer.block(\"HOME-KPIECEkConfigDefault\", stack=True):\n",
    "        Traj, LastQ, error, success, binding_list = mplan.plan_transition(end_state, home_state, redundancy_dict, timeout=3, \n",
    "                                                                          plannerconfig=PlannerConfig.KPIECEkConfigDefault)\n",
    "    with gtimer.block(\"HOME-RRTkConfigDefault\", stack=True):\n",
    "        Traj, LastQ, error, success, binding_list = mplan.plan_transition(end_state, home_state, redundancy_dict, timeout=3, \n",
    "                                                                          plannerconfig=PlannerConfig.RRTkConfigDefault)\n",
    "    with gtimer.block(\"HOME-RRTConnectkConfigDefault\", stack=True):\n",
    "        Traj, LastQ, error, success, binding_list = mplan.plan_transition(end_state, home_state, redundancy_dict, timeout=3, \n",
    "                                                                          plannerconfig=PlannerConfig.RRTConnectkConfigDefault)\n",
    "    print(\"=== loop count = {} / {} ===\".format(i_loop, LOOP_MAX))\n",
    "if success:\n",
    "    pscene.set_object_state(from_state)\n",
    "    gscene.show_motion(Traj, period=0.01)\n",
    "    sweep1_state = pscene.rebind_all(binding_list, LastQ)\n",
    "else:\n",
    "    print(\"Solution not found. Please try again, try to find error if it keeps failing.\")\n",
    "#     raise(RuntimeError(\"Motion plan failure\"))\n",
    "print(gtimer)"
   ]
  },
  {
   "cell_type": "code",
   "execution_count": 18,
   "metadata": {},
   "outputs": [
    {
     "name": "stdout",
     "output_type": "stream",
     "text": [
      "BKPIECEkConfigDefault: \t31542.6 ms/50 = 630.9 ms (91.331/3006.085)\n",
      "KPIECEkConfigDefault: \t27577.7 ms/50 = 551.6 ms (47.669/3007.381)\n",
      "RRTkConfigDefault: \t48236.9 ms/50 = 964.7 ms (19.026/3013.746)\n",
      "RRTConnectkConfigDefault: \t22665.6 ms/50 = 453.3 ms (43.77/3006.213)\n",
      "HOME-BKPIECEkConfigDefault: \t8430.9 ms/50 = 168.6 ms (65.387/438.017)\n",
      "HOME-KPIECEkConfigDefault: \t2745.9 ms/50 = 54.9 ms (14.473/207.59)\n",
      "HOME-RRTkConfigDefault: \t3308.4 ms/50 = 66.2 ms (14.098/607.564)\n",
      "HOME-RRTConnectkConfigDefault: \t2380.3 ms/50 = 47.6 ms (19.585/320.407)\n",
      "\n"
     ]
    }
   ],
   "source": [
    "print(gtimer)"
   ]
  },
  {
   "cell_type": "code",
   "execution_count": 19,
   "metadata": {
    "scrolled": true
   },
   "outputs": [
    {
     "name": "stdout",
     "output_type": "stream",
     "text": [
      "HOME-BKPIECEkConfigDefault - 148.896980286 ms\n",
      "BKPIECEkConfigDefault - 367.017221451 ms\n",
      "HOME-RRTConnectkConfigDefault - 34.9588023292 ms\n",
      "RRTkConfigDefault - 737.762244542 ms\n",
      "HOME-RRTkConfigDefault - 26.7207039727 ms\n",
      "RRTConnectkConfigDefault - 169.751114315 ms\n",
      "KPIECEkConfigDefault - 278.853146235 ms\n",
      "HOME-KPIECEkConfigDefault - 43.0931038327 ms\n"
     ]
    },
    {
     "data": {
      "image/png": "[encoded data removed]",
      "text/plain": [
       "<Figure size 432x288 with 1 Axes>"
      ]
     },
     "metadata": {
      "needs_background": "light"
     },
     "output_type": "display_data"
    }
   ],
   "source": [
    "KEY_LIST = []\n",
    "for k, v in gtimer.timelist_dict.items():\n",
    "    v = sorted(v)[:int(len(v)*0.9)]\n",
    "    plt.plot(np.arange(len(v))+1, sorted(v), 'o')\n",
    "    KEY_LIST.append(k)\n",
    "    print(\"{} - {} ms\".format(k, np.mean(v)))\n",
    "plt.legend(KEY_LIST)\n",
    "plt.grid()"
   ]
  },
  {
   "cell_type": "code",
   "execution_count": 20,
   "metadata": {},
   "outputs": [
    {
     "name": "stdout",
     "output_type": "stream",
     "text": [
      "HOME-BKPIECEkConfigDefault - 346.106624603 ms\n",
      "BKPIECEkConfigDefault - 3005.37004471 ms\n",
      "HOME-RRTConnectkConfigDefault - 161.434555054 ms\n",
      "RRTkConfigDefault - 3007.52835274 ms\n",
      "HOME-RRTkConfigDefault - 421.1997509 ms\n",
      "RRTConnectkConfigDefault - 3005.3565979 ms\n",
      "KPIECEkConfigDefault - 3005.85722923 ms\n",
      "HOME-KPIECEkConfigDefault - 161.339235306 ms\n"
     ]
    },
    {
     "data": {
      "image/png": "[encoded data removed]",
      "text/plain": [
       "<Figure size 432x288 with 1 Axes>"
      ]
     },
     "metadata": {
      "needs_background": "light"
     },
     "output_type": "display_data"
    }
   ],
   "source": [
    "KEY_LIST = []\n",
    "for k, v in gtimer.timelist_dict.items():\n",
    "    v = sorted(v)[int(len(v)*0.9):]\n",
    "    plt.plot(np.arange(len(v))+1, sorted(v), 'o')\n",
    "    KEY_LIST.append(k)\n",
    "    print(\"{} - {} ms\".format(k, np.mean(v)))\n",
    "plt.legend(KEY_LIST)\n",
    "plt.grid()"
   ]
  },
  {
   "cell_type": "markdown",
   "metadata": {},
   "source": [
    "#### grasp-reaching motion times\n",
    "* without STOMP\n",
    "```\n",
    "BKPIECEkConfigDefault: \t17848.1 ms/50 = 357.0 ms (130.861/1005.99)\n",
    "RRTkConfigDefault: \t33170.2 ms/50 = 663.4 ms (57.732/1007.893)\n",
    "RRTConnectkConfigDefault: \t12987.8 ms/50 = 259.8 ms (54.521/1006.136)\n",
    "```\n",
    "* with STOMP\n",
    "```\n",
    "BKPIECEkConfigDefault: \t43703.2 ms/50 = 874.1 ms (294.829/6632.013)\n",
    "RRTkConfigDefault: \t50027.4 ms/50 = 1000.5 ms (193.122/6222.588)\n",
    "RRTConnectkConfigDefault: \t27541.5 ms/50 = 550.8 ms (205.684/3773.618)\n",
    "```"
   ]
  },
  {
   "cell_type": "markdown",
   "metadata": {},
   "source": [
    "### visualize trajectory"
   ]
  },
  {
   "cell_type": "code",
   "execution_count": 22,
   "metadata": {},
   "outputs": [
    {
     "name": "stdout",
     "output_type": "stream",
     "text": [
      "try transition motion\n",
      "transition motion tried: True\n"
     ]
    },
    {
     "data": {
      "text/plain": [
       "[array([[ 1.00000000e+00,  7.79863949e-16, -9.97716006e-16,\n",
       "          3.49999987e-01],\n",
       "        [-7.79863925e-16,  1.00000000e+00, -1.12647015e-15,\n",
       "         -1.86499992e-01],\n",
       "        [ 9.97716006e-16,  1.12647018e-15,  1.00000000e+00,\n",
       "          3.21499992e-01],\n",
       "        [ 0.00000000e+00,  0.00000000e+00,  0.00000000e+00,\n",
       "          1.00000000e+00]]),\n",
       " array([[ 0.99692951, -0.07758312, -0.01060357,  0.36594458],\n",
       "        [ 0.07791202,  0.99633644,  0.03526223, -0.18694306],\n",
       "        [ 0.00782897, -0.0359801 ,  0.99932187,  0.32443458],\n",
       "        [ 0.        ,  0.        ,  0.        ,  1.        ]]),\n",
       " array([[ 0.98761022, -0.15339672, -0.03309811,  0.38582331],\n",
       "        [ 0.15587135,  0.98332165,  0.09371614, -0.19396302],\n",
       "        [ 0.01817034, -0.09771407,  0.99504865,  0.33555112],\n",
       "        [ 0.        ,  0.        ,  0.        ,  1.        ]]),\n",
       " array([[ 0.97171928, -0.22584126, -0.06897311,  0.40987479],\n",
       "        [ 0.23442506,  0.95772604,  0.16675065, -0.20386734],\n",
       "        [ 0.02839816, -0.17820385,  0.9835837 ,  0.35459883],\n",
       "        [ 0.        ,  0.        ,  0.        ,  1.        ]]),\n",
       " array([[ 0.94893226, -0.29240983, -0.11842354,  0.43766791],\n",
       "        [ 0.31333932,  0.91722641,  0.24599618, -0.21320626],\n",
       "        [ 0.0366895 , -0.27054045,  0.96200928,  0.38113123],\n",
       "        [ 0.        ,  0.        ,  0.        ,  1.        ]]),\n",
       " array([[ 0.91910372, -0.35046479, -0.18006318,  0.46814323],\n",
       "        [ 0.3918137 ,  0.86119214,  0.32377475, -0.21908077],\n",
       "        [ 0.04159735, -0.36813379,  0.92884183,  0.41420702],\n",
       "        [ 0.        ,  0.        ,  0.        ,  1.        ]]),\n",
       " array([[ 0.88237381, -0.39795802, -0.25108958,  0.49981849],\n",
       "        [ 0.46868068,  0.79079427,  0.39367873, -0.21939414],\n",
       "        [ 0.04189259, -0.46505263,  0.88429133,  0.45233332],\n",
       "        [ 0.        ,  0.        ,  0.        ,  1.        ]]),\n",
       " array([[ 0.83920476, -0.43392671, -0.32778496,  0.53108455],\n",
       "        [ 0.54258531,  0.70863268,  0.45104418, -0.21297818],\n",
       "        [ 0.03655902, -0.55636972,  0.83013017,  0.49358139],\n",
       "        [ 0.        ,  0.        ,  0.        ,  1.        ]]),\n",
       " array([[ 0.79034938, -0.45867375, -0.40616045,  0.56049884],\n",
       "        [ 0.6121521 ,  0.61811354,  0.49315866, -0.1995657 ],\n",
       "        [ 0.02485435, -0.63839958,  0.76930376,  0.53579598],\n",
       "        [ 0.        ,  0.        ,  0.        ,  1.        ]]),\n",
       " array([[ 0.73675386, -0.47364565, -0.48254895,  0.58699825],\n",
       "        [ 0.67613094,  0.52279588,  0.51916415, -0.17963148],\n",
       "        [ 0.00637475, -0.7087625 ,  0.70541836,  0.57682578],\n",
       "        [ 0.        ,  0.        ,  0.        ,  1.        ]]),\n",
       " array([[ 0.67941974, -0.48110131, -0.55401292,  0.60999513],\n",
       "        [ 0.73350604,  0.42586942,  0.5297208 , -0.15415861],\n",
       "        [-0.0189122 , -0.76627459,  0.64223484,  0.6147187 ],\n",
       "        [ 0.        ,  0.        ,  0.        ,  1.        ]]),\n",
       " array([[ 0.61925464, -0.4836935 , -0.61851782,  0.62935903],\n",
       "        [ 0.78355323,  0.32983858,  0.52654614, -0.12439202],\n",
       "        [-0.05067591, -0.81070781,  0.58325366,  0.64785233],\n",
       "        [ 0.        ,  0.        ,  0.        ,  1.        ]]),\n",
       " array([[ 0.55694895, -0.4840683 , -0.67489688,  0.6453165 ],\n",
       "        [ 0.82584351,  0.23641331,  0.51194852, -0.0916298 ],\n",
       "        [-0.08826343, -0.84248837,  0.5314348 ,  0.67499281],\n",
       "        [ 0.        ,  0.        ,  0.        ,  1.        ]]),\n",
       " array([[ 0.49290057, -0.48454924, -0.72267635,  0.65831084],\n",
       "        [ 0.86020487,  0.14656081,  0.48843379, -0.05707561],\n",
       "        [-0.13075419, -0.86239901,  0.48905149,  0.6952951 ],\n",
       "        [ 0.        ,  0.        ,  0.        ,  1.        ]]),\n",
       " array([[ 0.42720028, -0.48692905, -0.76183984,  0.66885942],\n",
       "        [ 0.88666036,  0.06065444,  0.45842593, -0.02175789],\n",
       "        [-0.17701196, -0.87133296,  0.45765232,  0.70826426],\n",
       "        [ 0.        ,  0.        ,  0.        ,  1.        ]]),\n",
       " array([[ 0.35967378, -0.49236384, -0.79259864,  0.67743483],\n",
       "        [ 0.90536346, -0.02133869,  0.424101  ,  0.01349717],\n",
       "        [-0.22572502, -0.87012785,  0.43809323,  0.71370056],\n",
       "        [ 0.        ,  0.        ,  0.        ,  1.        ]]),\n",
       " array([[ 0.28996951, -0.50134851, -0.81521   ,  0.68438226],\n",
       "        [ 0.91654448, -0.09967403,  0.3873129 ,  0.04805551],\n",
       "        [-0.27543401, -0.85948515,  0.4306058 ,  0.71164461],\n",
       "        [ 0.        ,  0.        ,  0.        ,  1.        ]]),\n",
       " array([[ 0.21767534, -0.51375262, -0.82986494,  0.68987693],\n",
       "        [ 0.92047843, -0.17467656,  0.34958213,  0.08144598],\n",
       "        [-0.32455665, -0.83996811,  0.43487543,  0.70233296],\n",
       "        [ 0.        ,  0.        ,  0.        ,  1.        ]]),\n",
       " array([[ 0.14244622, -0.52889795, -0.83664571,  0.69391671],\n",
       "        [ 0.91747271, -0.24662943,  0.31211819,  0.11332553],\n",
       "        [-0.37142013, -0.81205968,  0.45011799,  0.68616738],\n",
       "        [ 0.        ,  0.        ,  0.        ,  1.        ]]),\n",
       " array([[ 0.06412462, -0.54566719, -0.83554494,  0.69634472],\n",
       "        [ 0.90787228, -0.31570884,  0.27585467,  0.14344899],\n",
       "        [-0.41431376, -0.77625716,  0.47515143,  0.6636963 ],\n",
       "        [ 0.        ,  0.        ,  0.        ,  1.        ]]),\n",
       " array([[-0.01716316, -0.56263587, -0.82652666,  0.69689188],\n",
       "        [ 0.89207206, -0.38195916,  0.24148424,  0.1716466 ],\n",
       "        [-0.45156712, -0.73317671,  0.50846736,  0.63560212],\n",
       "        [ 0.        ,  0.        ,  0.        ,  1.        ]]),\n",
       " array([[-0.10094887, -0.57821977, -0.80961184,  0.69523281],\n",
       "        [ 0.87052828, -0.44530349,  0.20948853,  0.19781092],\n",
       "        [-0.48165335, -0.68364232,  0.54830953,  0.60268859],\n",
       "        [ 0.        ,  0.        ,  0.        ,  1.        ]]),\n",
       " array([[-0.186413  , -0.59082823, -0.78496635,  0.69104551],\n",
       "        [ 0.84376095, -0.50557767,  0.18016264,  0.22189107],\n",
       "        [-0.50330665, -0.62873933,  0.59276405,  0.56586205],\n",
       "        [ 0.        ,  0.        ,  0.        ,  1.        ]]),\n",
       " array([[-0.27242683, -0.59901045, -0.75297418,  0.68406799],\n",
       "        [ 0.81234326, -0.56257771,  0.15363849,  0.24389085],\n",
       "        [-0.51563753, -0.56981823,  0.63986337,  0.52610274],\n",
       "        [ 0.        ,  0.        ,  0.        ,  1.        ]]),\n",
       " array([[-0.35764296, -0.60157706, -0.71428042,  0.67414344],\n",
       "        [ 0.77687505, -0.6161075 ,  0.12991013,  0.26386691],\n",
       "        [-0.5182245 , -0.50844522,  0.68769677,  0.48442607],\n",
       "        [ 0.        ,  0.        ,  0.        ,  1.        ]]),\n",
       " array([[-0.44061749, -0.59768612, -0.66979661,  0.66124993],\n",
       "        [ 0.73794919, -0.6660178 ,  0.10886335,  0.28192473],\n",
       "        [-0.51116259, -0.44630879,  0.7345211 ,  0.44183545],\n",
       "        [ 0.        ,  0.        ,  0.        ,  1.        ]]),\n",
       " array([[-0.51994697, -0.58688056, -0.62066611,  0.64551037],\n",
       "        [ 0.69611286, -0.71222974,  0.09030941,  0.29821043],\n",
       "        [-0.49505766, -0.38509752,  0.77885676,  0.39927257],\n",
       "        [ 0.        ,  0.        ,  0.        ,  1.        ]]),\n",
       " array([[-0.59439475, -0.56907842, -0.56819428,  0.6271829 ],\n",
       "        [ 0.65183582, -0.75473913,  0.07402041,  0.31289821],\n",
       "        [-0.47096185, -0.32637206,  0.81955863,  0.35757035],\n",
       "        [ 0.        ,  0.        ,  0.        ,  1.        ]]),\n",
       " array([[-0.66298711, -0.54452167, -0.51375503,  0.60663419],\n",
       "        [ 0.60549075, -0.79360539,  0.05976148,  0.32617537],\n",
       "        [-0.44026018, -0.27145283,  0.85585301,  0.31741473],\n",
       "        [ 0.        ,  0.        ,  0.        ,  1.        ]]),\n",
       " array([[-0.72506536, -0.51369939, -0.4586863 ,  0.58430014],\n",
       "        [ 0.55735091, -0.82892764,  0.04731728,  0.33822539],\n",
       "        [-0.40452459, -0.22134111,  0.8873376 ,  0.27931973],\n",
       "        [ 0.        ,  0.        ,  0.        ,  1.        ]]),\n",
       " array([[-0.78028929, -0.4772635 , -0.4041883 ,  0.56064018],\n",
       "        [ 0.50760615, -0.86081541,  0.03650807,  0.34921231],\n",
       "        [-0.36535551, -0.17668162,  0.91394692,  0.24361717],\n",
       "        [ 0.        ,  0.        ,  0.        ,  1.        ]]),\n",
       " array([[-0.82859884, -0.43595501, -0.35123656,  0.53609118],\n",
       "        [ 0.45639596, -0.88936102,  0.02719602,  0.35926665],\n",
       "        [-0.32423235, -0.13776834,  0.93589165,  0.21046064],\n",
       "        [ 0.        ,  0.        ,  0.        ,  1.        ]]),\n",
       " array([[-0.87014726, -0.39055598, -0.30051579,  0.51102621],\n",
       "        [ 0.40385688, -0.91461895,  0.01928318,  0.36847364],\n",
       "        [-0.28238859, -0.10458616,  0.95358193,  0.17984081],\n",
       "        [ 0.        ,  0.        ,  0.        ,  1.        ]]),\n",
       " array([[-0.90522276, -0.3418734 , -0.2523772 ,  0.48572132],\n",
       "        [ 0.35018019, -0.93659614,  0.01270411,  0.37686268],\n",
       "        [-0.24071873, -0.07687744,  0.96754549,  0.15160799],\n",
       "        [ 0.        ,  0.        ,  0.        ,  1.        ]]),\n",
       " array([[-0.93417703, -0.29075677, -0.20681813,  0.46033217],\n",
       "        [ 0.29567664, -0.95525928,  0.00741601,  0.38439833],\n",
       "        [-0.19972119, -0.0542234 ,  0.97835128,  0.12549799],\n",
       "        [ 0.        ,  0.        ,  0.        ,  1.        ]]),\n",
       " array([[-0.95737238, -0.23814404, -0.16347948,  0.43487976],\n",
       "        [ 0.24084508, -0.97055766,  0.00338931,  0.39097039],\n",
       "        [-0.15947341, -0.03612839,  0.98654091,  0.10115925],\n",
       "        [ 0.        ,  0.        ,  0.        ,  1.        ]]),\n",
       " array([[-9.75154899e-01, -1.85128052e-01, -1.21657138e-01,\n",
       "          4.09243772e-01],\n",
       "        [ 1.86441502e-01, -9.82465874e-01,  5.96980011e-04,\n",
       "          3.96385220e-01],\n",
       "        [-1.19634503e-01, -2.20997658e-02,  9.92572004e-01,\n",
       "          7.81787484e-02],\n",
       "        [ 0.00000000e+00,  0.00000000e+00,  0.00000000e+00,\n",
       "          1.00000000e+00]]),\n",
       " array([[-0.98785087, -0.13303587, -0.08032431,  0.38316052],\n",
       "        [ 0.13354716, -0.9910419 , -0.00100312,  0.4003595 ],\n",
       "        [-0.07947131, -0.011718  ,  0.99676827,  0.05610943],\n",
       "        [ 0.        ,  0.        ,  0.        ,  1.        ]]),\n",
       " array([[-0.99577546, -0.08351488, -0.03816481,  0.35622129],\n",
       "        [ 0.08363295, -0.99649547, -0.00150401,  0.40252176],\n",
       "        [-0.03790546, -0.00468951,  0.99927029,  0.03450163],\n",
       "        [ 0.        ,  0.        ,  0.        ,  1.        ]]),\n",
       " array([[-9.99233357e-01, -3.86275421e-02,  6.37731629e-03,\n",
       "          3.27867618e-01],\n",
       "        [ 3.86211245e-02, -9.99253344e-01, -1.12413162e-03,\n",
       "          4.02431364e-01],\n",
       "        [ 6.41597268e-03, -8.76984287e-04,  9.99979074e-01,\n",
       "          1.29454171e-02],\n",
       "        [ 0.00000000e+00,  0.00000000e+00,  0.00000000e+00,\n",
       "          1.00000000e+00]]),\n",
       " array([[-9.98484855e-01, -9.62507555e-04,  5.50178521e-02,\n",
       "          2.97380499e-01],\n",
       "        [ 9.44868971e-04, -9.99999433e-01, -3.46735086e-04,\n",
       "          3.99628798e-01],\n",
       "        [ 5.50181576e-02, -2.94224947e-04,  9.98485299e-01,\n",
       "         -8.86905173e-03],\n",
       "        [ 0.00000000e+00,  0.00000000e+00,  0.00000000e+00,\n",
       "          1.00000000e+00]])]"
      ]
     },
     "execution_count": 22,
     "metadata": {},
     "output_type": "execute_result"
    }
   ],
   "source": [
    "gtimer=GlobalTimer.instance()\n",
    "gtimer.reset()\n",
    "# grip 1 - reach the first waypoint\n",
    "from_state = initial_state.copy(pscene)\n",
    "from_state.Q = crob.home_pose\n",
    "to_node = (\"gripper\", 0)\n",
    "available_binding_dict = pscene.get_available_binding_dict(from_state, to_node)\n",
    "available_binding_dict = {'box1': [('handle2', 'grip0', 'gripper')],\n",
    "                          'sweep': [(None, None, None)]}\n",
    "to_state, redundancy_dict = pscene.sample_leaf_state(from_state, available_binding_dict, to_node)\n",
    "with gtimer.block(\"RRTConnectkConfigDefault\"):\n",
    "    Traj, LastQ, error, success, binding_list = mplan.plan_transition(from_state, to_state, redundancy_dict, timeout=3, \n",
    "                                                                      plannerconfig=PlannerConfig.RRTConnectkConfigDefault)\n",
    "gscene.clear_highlight()\n",
    "gscene.show_motion(Traj, period=0.05)\n",
    "sweep_face.draw_traj_coords(Traj, \"traj_{}\".format(sweep_face.name))"
   ]
  },
  {
   "cell_type": "code",
   "execution_count": 19,
   "metadata": {},
   "outputs": [],
   "source": [
    "gscene.show_pose(Traj[-2])"
   ]
  },
  {
   "cell_type": "code",
   "execution_count": 21,
   "metadata": {},
   "outputs": [],
   "source": [
    "gscene.show_pose((Traj[-1]+Traj[-2])/2)"
   ]
  },
  {
   "cell_type": "code",
   "execution_count": 20,
   "metadata": {},
   "outputs": [],
   "source": [
    "gscene.show_pose(Traj[-1])"
   ]
  },
  {
   "cell_type": "code",
   "execution_count": null,
   "metadata": {},
   "outputs": [],
   "source": []
  },
  {
   "cell_type": "markdown",
   "metadata": {},
   "source": [
    "### check default"
   ]
  },
  {
   "cell_type": "code",
   "execution_count": null,
   "metadata": {
    "scrolled": true
   },
   "outputs": [],
   "source": [
    "gtimer=GlobalTimer.instance()\n",
    "gtimer.reset()\n",
    "from_state = sweep1_state.copy(pscene)\n",
    "to_node = (\"floor\", 2)\n",
    "available_binding_dict = pscene.get_available_binding_dict(from_state, to_node)\n",
    "to_state, redundancy_dict = pscene.sample_leaf_state(from_state, available_binding_dict, to_node)\n",
    "for _ in range(10):\n",
    "    gtimer.tic(\"default\")\n",
    "    Traj, LastQ, error, success, binding_list = mplan.plan_transition(from_state, to_state, redundancy_dict, timeout=10)\n",
    "    gtimer.toc(\"default\", stack=True)\n",
    "print(gtimer)"
   ]
  },
  {
   "cell_type": "code",
   "execution_count": null,
   "metadata": {},
   "outputs": [],
   "source": []
  },
  {
   "cell_type": "code",
   "execution_count": null,
   "metadata": {},
   "outputs": [],
   "source": []
  },
  {
   "cell_type": "code",
   "execution_count": null,
   "metadata": {},
   "outputs": [],
   "source": []
  },
  {
   "cell_type": "code",
   "execution_count": null,
   "metadata": {},
   "outputs": [],
   "source": []
  },
  {
   "cell_type": "code",
   "execution_count": null,
   "metadata": {},
   "outputs": [],
   "source": []
  },
  {
   "cell_type": "markdown",
   "metadata": {},
   "source": [
    "# Compare post-processing"
   ]
  },
  {
   "cell_type": "markdown",
   "metadata": {},
   "source": [
    "### prepare clearance checker"
   ]
  },
  {
   "cell_type": "code",
   "execution_count": 15,
   "metadata": {},
   "outputs": [],
   "source": [
    "from pkg.utils.joint_utils import get_T_dict_foward\n",
    "from pkg.utils.gjk import get_point_list, set_point_list, get_gjk_distance\n",
    "\n",
    "def get_dists(gscene, geo_list_1, geo_list_2, Q_dict):\n",
    "    T_dict = get_T_dict_foward(\"base_link\", gscene.link_names, Q_dict, gscene.urdf_content)\n",
    "\n",
    "    object_vertice_list = []\n",
    "    for obj_geo in geo_list_1:\n",
    "        T = np.matmul(T_dict[obj_geo.link_name], obj_geo.Toff)\n",
    "        verts, radius = obj_geo.get_vertice_radius()\n",
    "        verts = np.matmul(verts, T[:3 ,:3].transpose() ) +T[:3 ,3]\n",
    "        vert_point_list = get_point_list(verts)\n",
    "        object_vertice_list.append((vert_point_list, radius))\n",
    "\n",
    "    clearance_vertice_list = []\n",
    "    for gtem_clr in geo_list_2:\n",
    "        T = np.matmul(T_dict[gtem_clr.link_name], gtem_clr.Toff)\n",
    "        verts, radius = gtem_clr.get_vertice_radius()\n",
    "        verts = np.matmul(verts, T[:3 ,:3].transpose() ) +T[:3 ,3]\n",
    "        vert_point_list = get_point_list(verts)\n",
    "        clearance_vertice_list.append((vert_point_list, radius))\n",
    "\n",
    "    dist_list = []\n",
    "    for clear_vertice, clear_radius in clearance_vertice_list:\n",
    "        for object_vertice, object_radius in object_vertice_list:\n",
    "            dist_list.append(get_gjk_distance(clear_vertice, object_vertice) - clear_radius - object_radius)\n",
    "    return dist_list\n",
    "\n",
    "get_dist_tmp = lambda Q: get_dists(gscene, \n",
    "                                                   [gtem for gtem in gscene if \"indy\" in gtem.link_name \n",
    "                                                                                           and \"indy0_link0\" not in gtem.link_name \n",
    "                                                                                           and \"indy0_link1\" not in gtem.link_name \n",
    "                                                                                           and gtem.collision], \n",
    "                                                   [gtem for gtem in gscene if \"indy\" not in gtem.link_name and gtem.collision], list2dict(Q, crob.joint_names))"
   ]
  },
  {
   "cell_type": "markdown",
   "metadata": {},
   "source": [
    "## Prepare Postprocessing states"
   ]
  },
  {
   "cell_type": "code",
   "execution_count": 65,
   "metadata": {
    "scrolled": true
   },
   "outputs": [
    {
     "name": "stdout",
     "output_type": "stream",
     "text": [
      "try transition motion\n",
      "transition motion tried: True\n",
      "try transition motion\n",
      "transition motion tried: True\n",
      "try transition motion\n",
      "transition motion tried: True\n",
      "try transition motion\n",
      "transition motion tried: True\n",
      "try transition motion\n",
      "transition motion tried: True\n",
      "try transition motion\n",
      "transition motion tried: True\n",
      "try transition motion\n",
      "transition motion tried: True\n",
      "try transition motion\n",
      "transition motion tried: True\n",
      "try transition motion\n",
      "transition motion tried: True\n",
      "try transition motion\n",
      "transition motion tried: True\n",
      "try transition motion\n",
      "transition motion tried: True\n",
      "try transition motion\n",
      "transition motion tried: True\n",
      "try transition motion\n",
      "transition motion tried: True\n",
      "try transition motion\n",
      "transition motion tried: True\n",
      "try transition motion\n",
      "transition motion tried: True\n",
      "try transition motion\n",
      "transition motion tried: True\n",
      "try transition motion\n",
      "transition motion tried: True\n",
      "try transition motion\n",
      "transition motion tried: True\n",
      "try transition motion\n",
      "transition motion tried: True\n",
      "try transition motion\n",
      "transition motion tried: False\n",
      "try transition motion\n",
      "transition motion tried: False\n",
      "try transition motion\n",
      "transition motion tried: True\n",
      "try transition motion\n",
      "transition motion tried: True\n",
      "try transition motion\n",
      "transition motion tried: True\n",
      "try transition motion\n",
      "transition motion tried: True\n",
      "try transition motion\n",
      "transition motion tried: True\n",
      "try transition motion\n",
      "transition motion tried: True\n",
      "try transition motion\n",
      "transition motion tried: False\n",
      "try transition motion\n",
      "transition motion tried: False\n",
      "try transition motion\n",
      "transition motion tried: True\n",
      "try transition motion\n",
      "transition motion tried: True\n",
      "try transition motion\n",
      "transition motion tried: True\n",
      "try transition motion\n",
      "transition motion tried: True\n",
      "try transition motion\n",
      "transition motion tried: True\n",
      "try transition motion\n",
      "transition motion tried: True\n",
      "try transition motion\n",
      "transition motion tried: True\n",
      "try transition motion\n",
      "transition motion tried: True\n",
      "try transition motion\n",
      "transition motion tried: True\n",
      "try transition motion\n",
      "transition motion tried: True\n",
      "try transition motion\n",
      "transition motion tried: True\n",
      "try transition motion\n",
      "transition motion tried: False\n",
      "try transition motion\n",
      "transition motion tried: True\n",
      "try transition motion\n",
      "transition motion tried: True\n",
      "try transition motion\n",
      "transition motion tried: True\n",
      "try transition motion\n",
      "transition motion tried: True\n",
      "try transition motion\n",
      "transition motion tried: True\n",
      "try transition motion\n",
      "transition motion tried: True\n",
      "try transition motion\n",
      "transition motion tried: True\n",
      "try transition motion\n",
      "transition motion tried: True\n",
      "try transition motion\n",
      "transition motion tried: True\n",
      "try transition motion\n",
      "transition motion tried: True\n",
      "try transition motion\n",
      "transition motion tried: False\n",
      "try transition motion\n",
      "transition motion tried: True\n",
      "try transition motion\n",
      "transition motion tried: True\n",
      "try transition motion\n",
      "transition motion tried: True\n",
      "try transition motion\n",
      "transition motion tried: True\n"
     ]
    }
   ],
   "source": [
    "gtimer=GlobalTimer.instance()\n",
    "gtimer.reset(scale=1.0, timeunit='s')\n",
    "# grip 1 - reach the first waypoint\n",
    "from_state = initial_state.copy(pscene)\n",
    "from_state.Q = crob.home_pose\n",
    "to_node = (\"gripper\", 0)\n",
    "to_state_list = []\n",
    "for _ in range(50):\n",
    "    available_binding_dict = pscene.get_available_binding_dict(from_state, to_node)\n",
    "    available_binding_dict = {'box1': [('handle2', 'grip0', 'gripper')],\n",
    "                              'sweep': [(None, None, None)]}\n",
    "    to_state, redundancy_dict = pscene.sample_leaf_state(from_state, available_binding_dict, to_node)\n",
    "    for vv in redundancy_dict.values():\n",
    "        for v in vv.values():\n",
    "            v['w']=np.random.uniform(-np.pi/8, np.pi/8)\n",
    "    for i in range(10):\n",
    "        Traj, LastQ, error, success, binding_list = mplan.plan_transition(from_state, to_state, redundancy_dict, timeout=3, \n",
    "                                                                          plannerconfig=PlannerConfig.RRTConnectkConfigDefault)\n",
    "        if success:\n",
    "            break\n",
    "    to_state = from_state.copy(pscene)\n",
    "    to_state.Q = LastQ\n",
    "    to_state_list.append(to_state)"
   ]
  },
  {
   "cell_type": "code",
   "execution_count": 66,
   "metadata": {},
   "outputs": [],
   "source": [
    "results_dict = defaultdict(list)\n",
    "traj_dict = defaultdict(list)\n",
    "dist_dict = defaultdict(list)"
   ]
  },
  {
   "cell_type": "code",
   "execution_count": null,
   "metadata": {},
   "outputs": [],
   "source": []
  },
  {
   "cell_type": "markdown",
   "metadata": {},
   "source": [
    "# post-optimizing with CHOMP\n",
    "***[IMPORTANT]*** Set last item of request_adapters in robots/planning_assets.yaml to chomp/OptimizerAdapter!!"
   ]
  },
  {
   "cell_type": "code",
   "execution_count": 81,
   "metadata": {},
   "outputs": [],
   "source": [
    "mplan = MoveitPlanner(pscene)"
   ]
  },
  {
   "cell_type": "code",
   "execution_count": 83,
   "metadata": {},
   "outputs": [
    {
     "name": "stdout",
     "output_type": "stream",
     "text": [
      "try joint motion\n",
      "joint motion tried: True\n"
     ]
    }
   ],
   "source": [
    "to_state = np.random.choice(to_state_list)\n",
    "Traj, LastQ, error, success, binding_list = mplan.plan_transition(from_state, to_state, redundancy_dict, timeout=10, \n",
    "                                                                  plannerconfig=PlannerConfig.RRTConnectkConfigDefault, post_opt=True)\n",
    "gscene.show_motion(Traj, period=0.01)"
   ]
  },
  {
   "cell_type": "code",
   "execution_count": 80,
   "metadata": {},
   "outputs": [
    {
     "name": "stdout",
     "output_type": "stream",
     "text": [
      "101\n"
     ]
    }
   ],
   "source": [
    "gripper.draw_traj_coords(Traj[::5], \"traj_{}\".format(gripper.name))\n",
    "print(len(Traj))"
   ]
  },
  {
   "cell_type": "code",
   "execution_count": 78,
   "metadata": {},
   "outputs": [],
   "source": [
    "gscene.clear_highlight()"
   ]
  },
  {
   "cell_type": "code",
   "execution_count": 71,
   "metadata": {},
   "outputs": [],
   "source": [
    "results_dict = defaultdict(list)\n",
    "traj_dict = defaultdict(list)\n",
    "dist_dict = defaultdict(list)"
   ]
  },
  {
   "cell_type": "code",
   "execution_count": 72,
   "metadata": {
    "scrolled": true
   },
   "outputs": [
    {
     "name": "stdout",
     "output_type": "stream",
     "text": [
      "try joint motion\n",
      "joint motion tried: True\n",
      "try joint motion\n",
      "joint motion tried: False\n",
      "-------------------------------\n",
      "try joint motion\n",
      "joint motion tried: True\n",
      "try joint motion\n",
      "joint motion tried: False\n",
      "-------------------------------\n",
      "try joint motion\n",
      "joint motion tried: True\n",
      "try joint motion\n",
      "joint motion tried: True\n",
      "-------------------------------\n",
      "try joint motion\n",
      "joint motion tried: True\n",
      "try joint motion\n",
      "joint motion tried: True\n",
      "-------------------------------\n",
      "try joint motion\n",
      "joint motion tried: True\n",
      "try joint motion\n",
      "joint motion tried: True\n",
      "-------------------------------\n",
      "try joint motion\n",
      "joint motion tried: True\n",
      "try joint motion\n",
      "joint motion tried: True\n",
      "-------------------------------\n",
      "try joint motion\n",
      "joint motion tried: True\n",
      "try joint motion\n",
      "joint motion tried: False\n",
      "-------------------------------\n",
      "try joint motion\n",
      "joint motion tried: True\n",
      "try joint motion\n",
      "joint motion tried: True\n",
      "-------------------------------\n",
      "try joint motion\n",
      "joint motion tried: True\n",
      "try joint motion\n",
      "joint motion tried: True\n",
      "-------------------------------\n",
      "try joint motion\n",
      "joint motion tried: True\n",
      "try joint motion\n",
      "joint motion tried: True\n",
      "-------------------------------\n",
      "try joint motion\n",
      "joint motion tried: True\n",
      "try joint motion\n",
      "joint motion tried: True\n",
      "-------------------------------\n",
      "try joint motion\n",
      "joint motion tried: True\n",
      "try joint motion\n",
      "joint motion tried: True\n",
      "-------------------------------\n",
      "try joint motion\n",
      "joint motion tried: True\n",
      "try joint motion\n",
      "joint motion tried: True\n",
      "-------------------------------\n",
      "try joint motion\n",
      "joint motion tried: True\n",
      "try joint motion\n",
      "joint motion tried: True\n",
      "-------------------------------\n",
      "try joint motion\n",
      "joint motion tried: True\n",
      "try joint motion\n",
      "joint motion tried: True\n",
      "-------------------------------\n",
      "try joint motion\n",
      "joint motion tried: True\n",
      "try joint motion\n",
      "joint motion tried: False\n",
      "-------------------------------\n",
      "try joint motion\n",
      "joint motion tried: True\n",
      "try joint motion\n",
      "joint motion tried: True\n",
      "-------------------------------\n",
      "try joint motion\n",
      "joint motion tried: True\n",
      "try joint motion\n",
      "joint motion tried: True\n",
      "-------------------------------\n",
      "try joint motion\n",
      "joint motion tried: True\n",
      "try joint motion\n",
      "joint motion tried: False\n",
      "-------------------------------\n",
      "try joint motion\n",
      "joint motion tried: True\n",
      "try joint motion\n",
      "joint motion tried: True\n",
      "-------------------------------\n",
      "try joint motion\n",
      "joint motion tried: True\n",
      "try joint motion\n",
      "joint motion tried: True\n",
      "-------------------------------\n",
      "try joint motion\n",
      "joint motion tried: True\n",
      "try joint motion\n",
      "joint motion tried: True\n",
      "-------------------------------\n",
      "try joint motion\n",
      "joint motion tried: True\n",
      "try joint motion\n",
      "joint motion tried: False\n",
      "-------------------------------\n",
      "try joint motion\n",
      "joint motion tried: True\n",
      "try joint motion\n",
      "joint motion tried: True\n",
      "-------------------------------\n",
      "try joint motion\n",
      "joint motion tried: True\n",
      "try joint motion\n",
      "joint motion tried: True\n",
      "-------------------------------\n",
      "try joint motion\n",
      "joint motion tried: True\n",
      "try joint motion\n",
      "joint motion tried: True\n",
      "-------------------------------\n",
      "try joint motion\n",
      "joint motion tried: True\n",
      "try joint motion\n",
      "joint motion tried: True\n",
      "-------------------------------\n",
      "try joint motion\n",
      "joint motion tried: True\n",
      "try joint motion\n",
      "joint motion tried: True\n",
      "-------------------------------\n",
      "try joint motion\n",
      "joint motion tried: True\n",
      "try joint motion\n",
      "joint motion tried: True\n",
      "-------------------------------\n",
      "try joint motion\n",
      "joint motion tried: True\n",
      "try joint motion\n",
      "joint motion tried: True\n",
      "-------------------------------\n",
      "try joint motion\n",
      "joint motion tried: True\n",
      "try joint motion\n",
      "joint motion tried: True\n",
      "-------------------------------\n",
      "try joint motion\n",
      "joint motion tried: True\n",
      "try joint motion\n",
      "joint motion tried: False\n",
      "-------------------------------\n",
      "try joint motion\n",
      "joint motion tried: True\n",
      "try joint motion\n",
      "joint motion tried: True\n",
      "-------------------------------\n",
      "try joint motion\n",
      "joint motion tried: True\n",
      "try joint motion\n",
      "joint motion tried: False\n",
      "-------------------------------\n",
      "try joint motion\n",
      "joint motion tried: True\n",
      "try joint motion\n",
      "joint motion tried: True\n",
      "-------------------------------\n",
      "try joint motion\n",
      "joint motion tried: True\n",
      "try joint motion\n",
      "joint motion tried: True\n",
      "-------------------------------\n",
      "try joint motion\n",
      "joint motion tried: True\n",
      "try joint motion\n",
      "joint motion tried: True\n",
      "-------------------------------\n",
      "try joint motion\n",
      "joint motion tried: True\n",
      "try joint motion\n",
      "joint motion tried: False\n",
      "-------------------------------\n",
      "try joint motion\n",
      "joint motion tried: True\n",
      "try joint motion\n",
      "joint motion tried: False\n",
      "-------------------------------\n",
      "try joint motion\n",
      "joint motion tried: True\n",
      "try joint motion\n",
      "joint motion tried: True\n",
      "-------------------------------\n",
      "try joint motion\n",
      "joint motion tried: True\n",
      "try joint motion\n",
      "joint motion tried: True\n",
      "-------------------------------\n",
      "try joint motion\n",
      "joint motion tried: True\n",
      "try joint motion\n",
      "joint motion tried: True\n",
      "-------------------------------\n",
      "try joint motion\n",
      "joint motion tried: True\n",
      "try joint motion\n",
      "joint motion tried: True\n",
      "-------------------------------\n",
      "try joint motion\n",
      "joint motion tried: True\n",
      "try joint motion\n",
      "joint motion tried: True\n",
      "-------------------------------\n",
      "try joint motion\n",
      "joint motion tried: True\n",
      "try joint motion\n",
      "joint motion tried: True\n",
      "-------------------------------\n",
      "try joint motion\n",
      "joint motion tried: True\n",
      "try joint motion\n",
      "joint motion tried: True\n",
      "-------------------------------\n",
      "try joint motion\n",
      "joint motion tried: True\n",
      "try joint motion\n",
      "joint motion tried: True\n",
      "-------------------------------\n",
      "try joint motion\n",
      "joint motion tried: True\n",
      "try joint motion\n",
      "joint motion tried: True\n",
      "-------------------------------\n",
      "try joint motion\n",
      "joint motion tried: True\n",
      "try joint motion\n",
      "joint motion tried: True\n",
      "-------------------------------\n",
      "try joint motion\n",
      "joint motion tried: True\n",
      "try joint motion\n",
      "joint motion tried: False\n",
      "-------------------------------\n"
     ]
    }
   ],
   "source": [
    "for to_state in to_state_list:\n",
    "    with gtimer.block(\"RRTConnect\", stack=True):\n",
    "        Traj, LastQ, error, success, binding_list = mplan.plan_transition(from_state, to_state, redundancy_dict, timeout=10, \n",
    "                                                                          plannerconfig=PlannerConfig.RRTConnectkConfigDefault)\n",
    "    results_dict[\"RRTConnect\"].append(success)\n",
    "    if success:\n",
    "        t_all, Traj = calc_safe_trajectory(2e-2, simplify_traj(Traj), vel_lims=0.5, acc_lims=0.5)\n",
    "        traj_dict[\"RRTConnect\"].append(sum(np.linalg.norm(Traj[1:]-Traj[:-1], axis=-1)))\n",
    "        dist_dict[\"RRTConnect\"].append(np.min([np.min(get_dist_tmp(Q)) for Q in Traj]))\n",
    "    else:\n",
    "        traj_dict[\"RRTConnect\"].append(0)\n",
    "        dist_dict[\"RRTConnect\"].append(0)\n",
    "        \n",
    "    with gtimer.block(\"RRTConnect_CHOMP\", stack=True):\n",
    "        Traj, LastQ, error, success, binding_list = mplan.plan_transition(from_state, to_state, redundancy_dict, timeout=10, \n",
    "                                                                          plannerconfig=PlannerConfig.RRTConnectkConfigDefault, \n",
    "                                                                          post_opt=True)\n",
    "    results_dict[\"RRTConnect_CHOMP\"].append(success)\n",
    "    if success:\n",
    "        t_all, Traj = calc_safe_trajectory(2e-2, simplify_traj(Traj), vel_lims=0.5, acc_lims=0.5)\n",
    "        traj_dict[\"RRTConnect_CHOMP\"].append(sum(np.linalg.norm(Traj[1:]-Traj[:-1], axis=-1)))\n",
    "        dist_dict[\"RRTConnect_CHOMP\"].append(np.min([np.min(get_dist_tmp(Q)) for Q in Traj]))\n",
    "    else:\n",
    "        traj_dict[\"RRTConnect_CHOMP\"].append(0)\n",
    "        dist_dict[\"RRTConnect_CHOMP\"].append(0)\n",
    "    print(\"-------------------------------\")"
   ]
  },
  {
   "cell_type": "code",
   "execution_count": 73,
   "metadata": {},
   "outputs": [
    {
     "name": "stdout",
     "output_type": "stream",
     "text": [
      "=== [results] ===\n",
      "RRTConnect: 1.0\n",
      "RRTConnect_CHOMP: 0.78\n",
      "=== [Min/Median/Mean/Max time] ===\n",
      "RRTConnect: 0.03 / 0.05 / 0.06 / 0.18\n",
      "RRTConnect_CHOMP: 0.23 / 0.27 / 0.36 / 0.77\n",
      "=== [Min/Median/Mean/Max path] ===\n",
      "RRTConnect: 2.42 / 3.47 / 3.72 / 7.46\n",
      "RRTConnect_CHOMP: 2.43 / 2.64 / 3.54 / 6.62\n",
      "=== [Min/Median/Mean/Max dist] ===\n",
      "RRTConnect: 0.0 / 1.74 / 2.94 / 11.12\n",
      "RRTConnect_CHOMP: 0.0 / 5.44 / 4.57 / 9.86\n"
     ]
    }
   ],
   "source": [
    "print(\"=== [results] ===\")\n",
    "for k, v in results_dict.items():\n",
    "    print(\"{}: {}\".format(k, np.round(np.mean(v), 2)))\n",
    "print(\"=== [Min/Median/Mean/Max time] ===\")\n",
    "for k, v in gtimer.timelist_dict.items():\n",
    "    v= np.array(v)[np.where(results_dict[k])[0]]\n",
    "    print(\"{}: {} / {} / {} / {}\".format(k, \n",
    "                                         np.round(np.min(v), 2), np.round(np.median(v), 2), \n",
    "                                         np.round(np.mean(v), 2), np.round(np.max(v), 2)))\n",
    "print(\"=== [Min/Median/Mean/Max path] ===\")\n",
    "for k, v in traj_dict.items():\n",
    "    v= np.array(v)[np.where(results_dict[k])[0]]\n",
    "    print(\"{}: {} / {} / {} / {}\".format(k, \n",
    "                                         np.round(np.min(v), 2), np.round(np.median(v), 2), \n",
    "                                         np.round(np.mean(v), 2), np.round(np.max(v), 2)))\n",
    "print(\"=== [Min/Median/Mean/Max dist] ===\")\n",
    "for k, v in dist_dict.items():\n",
    "    v= np.array(v)[np.where(results_dict[k])[0]]*1000\n",
    "    print(\"{}: {} / {} / {} / {}\".format(k, \n",
    "                                         np.round(np.min(v), 2), np.round(np.median(v), 2), \n",
    "                                         np.round(np.mean(v), 2), np.round(np.max(v), 2)))"
   ]
  },
  {
   "cell_type": "code",
   "execution_count": null,
   "metadata": {},
   "outputs": [],
   "source": []
  },
  {
   "cell_type": "code",
   "execution_count": 47,
   "metadata": {
    "scrolled": true
   },
   "outputs": [
    {
     "name": "stdout",
     "output_type": "stream",
     "text": [
      "try joint motion\n",
      "joint motion tried: True\n"
     ]
    }
   ],
   "source": [
    "Traj, LastQ, error, success, binding_list = mplan.plan_transition(from_state, to_state, redundancy_dict, timeout=10, \n",
    "                                                                  plannerconfig=PlannerConfig.RRTConnectkConfigDefault)\n",
    "t_all, Traj_safe = calc_safe_trajectory(2e-2, simplify_traj(Traj), vel_lims=0.5, acc_lims=0.5)\n",
    "gscene.show_motion(Traj_safe, period=0.001)"
   ]
  },
  {
   "cell_type": "code",
   "execution_count": 48,
   "metadata": {
    "scrolled": true
   },
   "outputs": [
    {
     "name": "stdout",
     "output_type": "stream",
     "text": [
      "1.3918913847527696e-15\n"
     ]
    }
   ],
   "source": [
    "import matplotlib.pyplot as plt\n",
    "dist_mm = np.multiply(1e3, [np.min(get_dist_tmp(Q)) for Q in Traj_safe])\n",
    "plt.plot(dist_mm)\n",
    "plt.grid()\n",
    "print(np.min(dist_mm))"
   ]
  },
  {
   "cell_type": "code",
   "execution_count": 52,
   "metadata": {
    "scrolled": true
   },
   "outputs": [
    {
     "name": "stdout",
     "output_type": "stream",
     "text": [
      "try joint motion\n",
      "joint motion tried: True\n"
     ]
    }
   ],
   "source": [
    "Traj, LastQ, error, success, binding_list = mplan.plan_transition(from_state, to_state, redundancy_dict, timeout=10, \n",
    "                                                                  plannerconfig=PlannerConfig.RRTConnectkConfigDefault, post_opt=True)\n",
    "t_all, Traj_safe_opt = calc_safe_trajectory(2e-2, simplify_traj(Traj), vel_lims=0.5, acc_lims=0.5)\n",
    "gscene.show_motion(Traj_safe_opt, period=0.001)"
   ]
  },
  {
   "cell_type": "code",
   "execution_count": 462,
   "metadata": {
    "scrolled": true
   },
   "outputs": [
    {
     "name": "stdout",
     "output_type": "stream",
     "text": [
      "2.514808838617923\n"
     ]
    },
    {
     "data": {
      "image/png": "[encoded data removed]",
      "text/plain": [
       "<Figure size 432x288 with 1 Axes>"
      ]
     },
     "metadata": {
      "needs_background": "light"
     },
     "output_type": "display_data"
    }
   ],
   "source": [
    "import matplotlib.pyplot as plt\n",
    "dist_mm = np.multiply(1e3, [np.min(get_dist_tmp(Q)) for Q in Traj_safe_opt])\n",
    "plt.plot(dist_mm)\n",
    "plt.grid()\n",
    "print(np.min(dist_mm))"
   ]
  },
  {
   "cell_type": "code",
   "execution_count": 258,
   "metadata": {},
   "outputs": [
    {
     "name": "stdout",
     "output_type": "stream",
     "text": [
      "101\n"
     ]
    }
   ],
   "source": [
    "# gscene.clear_highlight()\n",
    "# gripper.draw_traj_coords(Traj, \"traj_{}\".format(gripper.name))\n",
    "# print(len(Traj))"
   ]
  },
  {
   "cell_type": "code",
   "execution_count": null,
   "metadata": {},
   "outputs": [],
   "source": []
  },
  {
   "cell_type": "markdown",
   "metadata": {},
   "source": [
    "# post-optimizing with STOMP\n",
    "***[IMPORTANT]*** Set last item of request_adapters in robots/planning_assets.yaml to stomp_moveit/StompSmoothingAdapter!!"
   ]
  },
  {
   "cell_type": "code",
   "execution_count": 20,
   "metadata": {},
   "outputs": [],
   "source": [
    "mplan = MoveitPlanner(pscene)"
   ]
  },
  {
   "cell_type": "code",
   "execution_count": 21,
   "metadata": {
    "scrolled": true
   },
   "outputs": [
    {
     "name": "stdout",
     "output_type": "stream",
     "text": [
      "try joint motion\n",
      "joint motion tried: False\n",
      "-------------------------------\n",
      "try joint motion\n",
      "joint motion tried: True\n",
      "-------------------------------\n",
      "try joint motion\n",
      "joint motion tried: True\n",
      "-------------------------------\n",
      "try joint motion\n",
      "joint motion tried: True\n",
      "-------------------------------\n",
      "try joint motion\n",
      "joint motion tried: False\n",
      "-------------------------------\n",
      "try joint motion\n",
      "joint motion tried: True\n",
      "-------------------------------\n",
      "try joint motion\n",
      "joint motion tried: True\n",
      "-------------------------------\n",
      "try joint motion\n",
      "joint motion tried: True\n",
      "-------------------------------\n",
      "try joint motion\n",
      "joint motion tried: True\n",
      "-------------------------------\n",
      "try joint motion\n",
      "joint motion tried: True\n",
      "-------------------------------\n"
     ]
    }
   ],
   "source": [
    "for to_state in to_state_list:\n",
    "    with gtimer.block(\"RRTConnect_STOMP\", stack=True):\n",
    "        Traj, LastQ, error, success, binding_list = mplan.plan_transition(from_state, to_state, redundancy_dict, timeout=10, \n",
    "                                                                          plannerconfig=PlannerConfig.RRTConnectkConfigDefault, post_opt=True)\n",
    "    results_dict[\"RRTConnect_STOMP\"].append(success)\n",
    "    if success:\n",
    "        traj_dict[\"RRTConnect_STOMP\"].append(sum(np.linalg.norm(Traj[1:]-Traj[:-1], axis=-1)))\n",
    "        dist_dict[\"RRTConnect_STOMP\"].append(np.min([np.min(get_dist_tmp(Q)) for Q in Traj]))\n",
    "    else:\n",
    "        traj_dict[\"RRTConnect_STOMP\"].append(0)\n",
    "        dist_dict[\"RRTConnect_STOMP\"].append(0)\n",
    "    print(\"-------------------------------\")"
   ]
  },
  {
   "cell_type": "code",
   "execution_count": null,
   "metadata": {},
   "outputs": [],
   "source": [
    "Traj, LastQ, error, success, binding_list = mplan.plan_transition(from_state, to_state, redundancy_dict, timeout=10, \n",
    "                                                                  plannerconfig=PlannerConfig.RRTConnectkConfigDefault, post_opt=True)\n",
    "gscene.show_motion(Traj, period=0.01)"
   ]
  },
  {
   "cell_type": "code",
   "execution_count": null,
   "metadata": {},
   "outputs": [],
   "source": []
  },
  {
   "cell_type": "markdown",
   "metadata": {},
   "source": [
    "# optimal path planning with RRT*"
   ]
  },
  {
   "cell_type": "code",
   "execution_count": 149,
   "metadata": {
    "scrolled": true
   },
   "outputs": [
    {
     "name": "stdout",
     "output_type": "stream",
     "text": [
      "try joint motion\n"
     ]
    },
    {
     "ename": "KeyboardInterrupt",
     "evalue": "",
     "output_type": "error",
     "traceback": [
      "\u001b[0;31m---------------------------------------------------------------------------\u001b[0m",
      "\u001b[0;31mKeyboardInterrupt\u001b[0m                         Traceback (most recent call last)",
      "\u001b[0;32m<ipython-input-149-a7690fc849af>\u001b[0m in \u001b[0;36m<module>\u001b[0;34m()\u001b[0m\n\u001b[1;32m      5\u001b[0m     \u001b[0;32mwith\u001b[0m \u001b[0mgtimer\u001b[0m\u001b[0;34m.\u001b[0m\u001b[0mblock\u001b[0m\u001b[0;34m(\u001b[0m\u001b[0;34m\"RRTstar\"\u001b[0m\u001b[0;34m,\u001b[0m \u001b[0mstack\u001b[0m\u001b[0;34m=\u001b[0m\u001b[0mTrue\u001b[0m\u001b[0;34m)\u001b[0m\u001b[0;34m:\u001b[0m\u001b[0;34m\u001b[0m\u001b[0m\n\u001b[1;32m      6\u001b[0m         Traj, LastQ, error, success, binding_list = mplan.plan_transition(from_state, to_state, redundancy_dict, timeout=30, \n\u001b[0;32m----> 7\u001b[0;31m                                                                           plannerconfig=PlannerConfig.RRTstarkConfigDefault)\n\u001b[0m\u001b[1;32m      8\u001b[0m     \u001b[0mresults_dict\u001b[0m\u001b[0;34m[\u001b[0m\u001b[0;34m\"RRTstar\"\u001b[0m\u001b[0;34m]\u001b[0m\u001b[0;34m.\u001b[0m\u001b[0mappend\u001b[0m\u001b[0;34m(\u001b[0m\u001b[0msuccess\u001b[0m\u001b[0;34m)\u001b[0m\u001b[0;34m\u001b[0m\u001b[0m\n\u001b[1;32m      9\u001b[0m     \u001b[0;32mif\u001b[0m \u001b[0msuccess\u001b[0m\u001b[0;34m:\u001b[0m\u001b[0;34m\u001b[0m\u001b[0m\n",
      "\u001b[0;32m/home/rnb/Projects/rnb-planning/src/pkg/planning/motion/interface.pyc\u001b[0m in \u001b[0;36mplan_transition\u001b[0;34m(self, from_state, to_state, redundancy_dict, **kwargs)\u001b[0m\n\u001b[1;32m     99\u001b[0m                 \u001b[0mself\u001b[0m\u001b[0;34m.\u001b[0m\u001b[0mgtimer\u001b[0m\u001b[0;34m.\u001b[0m\u001b[0mtic\u001b[0m\u001b[0;34m(\u001b[0m\u001b[0;34m'planning'\u001b[0m\u001b[0;34m)\u001b[0m\u001b[0;34m\u001b[0m\u001b[0m\n\u001b[1;32m    100\u001b[0m             Traj, LastQ, error, success = self.plan_algorithm(from_state, to_state, binding_list,\n\u001b[0;32m--> 101\u001b[0;31m                                                               redundancy_values=redundancy_values, **kwargs)\n\u001b[0m\u001b[1;32m    102\u001b[0m             \u001b[0;32mif\u001b[0m \u001b[0mself\u001b[0m\u001b[0;34m.\u001b[0m\u001b[0mflag_log\u001b[0m\u001b[0;34m:\u001b[0m\u001b[0;34m\u001b[0m\u001b[0m\n\u001b[1;32m    103\u001b[0m                 \u001b[0mself\u001b[0m\u001b[0;34m.\u001b[0m\u001b[0mgtimer\u001b[0m\u001b[0;34m.\u001b[0m\u001b[0mtoc\u001b[0m\u001b[0;34m(\u001b[0m\u001b[0;34m'planning'\u001b[0m\u001b[0;34m)\u001b[0m\u001b[0;34m\u001b[0m\u001b[0m\n",
      "\u001b[0;32m/home/rnb/Projects/rnb-planning/src/pkg/planning/motion/moveit/moveit_planner.pyc\u001b[0m in \u001b[0;36mplan_algorithm\u001b[0;34m(self, from_state, to_state, binding_list, redundancy_values, timeout, timeout_joint, timeout_constrained, **kwargs)\u001b[0m\n\u001b[1;32m    195\u001b[0m             \u001b[0;32mprint\u001b[0m\u001b[0;34m(\u001b[0m\u001b[0;34m\"try joint motion\"\u001b[0m\u001b[0;34m)\u001b[0m \u001b[0;31m## <- DO NOT REMOVE THIS: helps multi-process issue with boost python-cpp\u001b[0m\u001b[0;34m\u001b[0m\u001b[0m\n\u001b[1;32m    196\u001b[0m             trajectory, success = planner.plan_joint_motion_py(\n\u001b[0;32m--> 197\u001b[0;31m                 group_name, tuple(to_Q), tuple(from_Q), timeout=timeout_joint, **kwargs)\n\u001b[0m\u001b[1;32m    198\u001b[0m             \u001b[0;32mprint\u001b[0m\u001b[0;34m(\u001b[0m\u001b[0;34m\"joint motion tried: {}\"\u001b[0m\u001b[0;34m.\u001b[0m\u001b[0mformat\u001b[0m\u001b[0;34m(\u001b[0m\u001b[0msuccess\u001b[0m\u001b[0;34m)\u001b[0m\u001b[0;34m)\u001b[0m \u001b[0;31m## <- DO NOT REMOVE THIS: helps multi-process issue with boost python-cpp\u001b[0m\u001b[0;34m\u001b[0m\u001b[0m\n\u001b[1;32m    199\u001b[0m \u001b[0;34m\u001b[0m\u001b[0m\n",
      "\u001b[0;32m/home/rnb/Projects/rnb-planning/src/pkg/planning/motion/moveit/moveit_py.pyc\u001b[0m in \u001b[0;36mplan_joint_motion_py\u001b[0;34m(self, robot_name, goal_state, Q_init, plannerconfig, timeout, vel_scale, acc_scale, post_opt, **kwargs)\u001b[0m\n\u001b[1;32m    127\u001b[0m         plan = self.plan_joint_motion(robot_name, JointState(len(goal_state), *goal_state),\n\u001b[1;32m    128\u001b[0m                                            \u001b[0mJointState\u001b[0m\u001b[0;34m(\u001b[0m\u001b[0mself\u001b[0m\u001b[0;34m.\u001b[0m\u001b[0mjoint_num\u001b[0m\u001b[0;34m,\u001b[0m \u001b[0;34m*\u001b[0m\u001b[0mQ_init\u001b[0m\u001b[0;34m)\u001b[0m\u001b[0;34m,\u001b[0m \u001b[0mplannerconfig\u001b[0m\u001b[0;34m,\u001b[0m \u001b[0mtimeout\u001b[0m\u001b[0;34m,\u001b[0m\u001b[0;34m\u001b[0m\u001b[0m\n\u001b[0;32m--> 129\u001b[0;31m                                       vel_scale, acc_scale, post_opt)\n\u001b[0m\u001b[1;32m    130\u001b[0m         return np.array(\n\u001b[1;32m    131\u001b[0m             [spread(Q, self.joint_num) for Q in spread(plan.trajectory, len(plan.trajectory))]), plan.success\n",
      "\u001b[0;31mKeyboardInterrupt\u001b[0m: "
     ]
    }
   ],
   "source": [
    "from_state = initial_state.copy(pscene)\n",
    "from_state.Q = crob.home_pose\n",
    "to_node = (\"gripper\", 0)\n",
    "for to_state in to_state_list:\n",
    "    with gtimer.block(\"RRTstar\", stack=True):\n",
    "        Traj, LastQ, error, success, binding_list = mplan.plan_transition(from_state, to_state, redundancy_dict, timeout=30, \n",
    "                                                                          plannerconfig=PlannerConfig.RRTstarkConfigDefault)\n",
    "    results_dict[\"RRTstar\"].append(success)\n",
    "    if success:\n",
    "        traj_dict[\"RRTstar\"].append(sum(np.linalg.norm(Traj[1:]-Traj[:-1], axis=-1)))\n",
    "        dist_dict[\"RRTstar\"].append(np.min([np.min(get_dist_tmp(Q)) for Q in Traj]))\n",
    "    else:\n",
    "        traj_dict[\"RRTstar\"].append(0)\n",
    "        dist_dict[\"RRTstar\"].append(0)\n",
    "    print(\"-------------------------------\")"
   ]
  },
  {
   "cell_type": "code",
   "execution_count": null,
   "metadata": {},
   "outputs": [],
   "source": [
    "Traj, LastQ, error, success, binding_list = mplan.plan_transition(from_state, to_state, redundancy_dict, timeout=10, \n",
    "                                                                  plannerconfig=PlannerConfig.RRTConnectkConfigDefault, post_opt=True)\n",
    "gscene.show_motion(Traj, period=0.01)"
   ]
  },
  {
   "cell_type": "code",
   "execution_count": null,
   "metadata": {},
   "outputs": [],
   "source": []
  },
  {
   "cell_type": "code",
   "execution_count": 34,
   "metadata": {},
   "outputs": [
    {
     "name": "stdout",
     "output_type": "stream",
     "text": [
      "=== [results] ===\n",
      "RRTConnect_CHOMP: 0.8\n",
      "RRTConnect_STOMP: 0.8\n",
      "RRTstar: 0.1\n",
      "=== [Min/Max time] ===\n",
      "=== [Mean time] ===\n",
      "=== [Median time] ===\n",
      "=== [Min/Max path] ===\n",
      "RRTConnect_CHOMP: 2.51 / 3.9\n",
      "RRTConnect_STOMP: 2.57 / 6.62\n",
      "RRTstar: 2.56 / 2.56\n",
      "=== [Mean path] ===\n",
      "RRTConnect_CHOMP: 2.88\n",
      "RRTConnect_STOMP: 3.82\n",
      "RRTstar: 2.56\n",
      "=== [Median path] ===\n",
      "RRTConnect_CHOMP: 2.61\n",
      "RRTConnect_STOMP: 3.01\n",
      "RRTstar: 2.56\n",
      "=== [Min/Max dist] ===\n",
      "RRTConnect_CHOMP: 0.39 / 4.38\n",
      "RRTConnect_STOMP: 3.2 / 4.69\n",
      "RRTstar: 0.09 / 0.09\n",
      "=== [Mean dist] ===\n",
      "RRTConnect_CHOMP: 2.02\n",
      "RRTConnect_STOMP: 4.22\n",
      "RRTstar: 0.09\n",
      "=== [Median dist] ===\n",
      "RRTConnect_CHOMP: 1.51\n",
      "RRTConnect_STOMP: 4.45\n",
      "RRTstar: 0.09\n"
     ]
    }
   ],
   "source": [
    "print(\"=== [results] ===\")\n",
    "for k, v in results_dict.items():\n",
    "    print(\"{}: {}\".format(k, np.round(np.mean(v), 2)))\n",
    "print(\"=== [Min/Median/Mean/Max time] ===\")\n",
    "for k, v in gtimer.timelist_dict.items():\n",
    "    v= np.array(v)[np.where(results_dict[k])[0]]\n",
    "    print(\"{}: {} / {} / {} / {}\".format(k, \n",
    "                                         np.round(np.min(v), 2), np.round(np.median(v), 2), \n",
    "                                         np.round(np.mean(v), 2), np.round(np.max(v), 2)))\n",
    "print(\"=== [Min/Median/Mean/Max path] ===\")\n",
    "for k, v in traj_dict.items():\n",
    "    v= np.array(v)[np.where(results_dict[k])[0]]\n",
    "    print(\"{}: {} / {} / {} / {}\".format(k, \n",
    "                                         np.round(np.min(v), 2), np.round(np.median(v), 2), \n",
    "                                         np.round(np.mean(v), 2), np.round(np.max(v), 2)))\n",
    "print(\"=== [Min/Median/Mean/Max dist] ===\")\n",
    "for k, v in dist_dict.items():\n",
    "    v= np.array(v)[np.where(results_dict[k])[0]]*1000\n",
    "    print(\"{}: {} / {} / {} / {}\".format(k, \n",
    "                                         np.round(np.min(v), 2), np.round(np.median(v), 2), \n",
    "                                         np.round(np.mean(v), 2), np.round(np.max(v), 2)))"
   ]
  },
  {
   "cell_type": "code",
   "execution_count": null,
   "metadata": {},
   "outputs": [],
   "source": []
  },
  {
   "cell_type": "markdown",
   "metadata": {},
   "source": [
    "### for record, time step comparison"
   ]
  },
  {
   "cell_type": "code",
   "execution_count": 17,
   "metadata": {},
   "outputs": [
    {
     "name": "stdout",
     "output_type": "stream",
     "text": [
      "TIMESTEP 100\n",
      "=== [Mean time] ===\n",
      "RRTConnectkConfigDefault: \t108.5 s/5 = 21.7 s (0.397/37.634)\n",
      "RRTstarkConfigDefault: \t129.9 s/5 = 26.0 s (8.964/30.385)\n",
      "\n",
      "=== [Median time] ===\n",
      "RRTstarkConfigDefault: 30.14\n",
      "RRTConnectkConfigDefault: 33.77\n",
      "=== [results] ===\n",
      "RRTstarkConfigDefault: 0.2\n",
      "RRTConnectkConfigDefault: 0.4\n"
     ]
    }
   ],
   "source": [
    "print(\"TIMESTEP 100\")\n",
    "print(\"=== [Mean time] ===\")\n",
    "print(gtimer)\n",
    "print(\"=== [Median time] ===\")\n",
    "for k, v in gtimer.timelist_dict.items():\n",
    "    print(\"{}: {}\".format(k, np.round(np.median(v), 2)))\n",
    "print(\"=== [results] ===\")\n",
    "for k, v in results_dict.items():\n",
    "    print(\"{}: {}\".format(k, np.round(np.mean(v), 2)))"
   ]
  },
  {
   "cell_type": "code",
   "execution_count": 30,
   "metadata": {
    "scrolled": true
   },
   "outputs": [
    {
     "name": "stdout",
     "output_type": "stream",
     "text": [
      "TIMESTEP 5\n",
      "=== [Mean time] ===\n",
      "RRTConnectkConfigDefault: \t57.0 s/5 = 11.4 s (0.429/46.673)\n",
      "RRTstarkConfigDefault: \t128.2 s/5 = 25.6 s (7.375/30.352)\n",
      "\n",
      "=== [Median time] ===\n",
      "RRTstarkConfigDefault: 30.25\n",
      "RRTConnectkConfigDefault: 0.8\n",
      "=== [results] ===\n",
      "RRTstarkConfigDefault: 0.2\n",
      "RRTConnectkConfigDefault: 0.8\n"
     ]
    }
   ],
   "source": [
    "print(\"STOMP TIMESTEP 5\")\n",
    "print(\"=== [Mean time] ===\")\n",
    "print(gtimer)\n",
    "print(\"=== [Median time] ===\")\n",
    "for k, v in gtimer.timelist_dict.items():\n",
    "    print(\"{}: {}\".format(k, np.round(np.median(v), 2)))\n",
    "print(\"=== [results] ===\")\n",
    "for k, v in results_dict.items():\n",
    "    print(\"{}: {}\".format(k, np.round(np.mean(v), 2)))"
   ]
  },
  {
   "cell_type": "code",
   "execution_count": null,
   "metadata": {},
   "outputs": [],
   "source": []
  },
  {
   "cell_type": "markdown",
   "metadata": {},
   "source": [
    "# Test TrajOpt - Fail: bad_function_call"
   ]
  },
  {
   "cell_type": "code",
   "execution_count": 22,
   "metadata": {},
   "outputs": [
    {
     "name": "stdout",
     "output_type": "stream",
     "text": [
      "try transition motion\n",
      "transition motion tried: True\n",
      "try transition motion\n",
      "transition motion tried: False\n",
      "-------------------------------\n",
      "Solution not found. Please try again, try to find error if it keeps failing.\n",
      "\n",
      "============= [Timer] =============\n",
      "TrajOptDefault: \t0.0 s/1 = 0.0 s (0.003/0.003)\n",
      "\n",
      "============= [Result] =============\n",
      "TrajOptDefault: 0.0\n"
     ]
    }
   ],
   "source": [
    "gtimer=GlobalTimer.instance()\n",
    "gtimer.reset(scale=1.0, timeunit='s')\n",
    "# grip 1 - reach the first waypoint\n",
    "from_state = initial_state.copy(pscene)\n",
    "from_state.Q = crob.home_pose\n",
    "to_node = (\"gripper\", 0)\n",
    "results_dict = defaultdict(list)\n",
    "for _ in range(1):\n",
    "    available_binding_dict = pscene.get_available_binding_dict(from_state, to_node)\n",
    "    available_binding_dict = {'box1': [('handle2', 'grip0', 'gripper')],\n",
    "                              'sweep': [(None, None, None)]}\n",
    "    to_state, redundancy_dict = pscene.sample_leaf_state(from_state, available_binding_dict, to_node)\n",
    "    for vv in redundancy_dict.values():\n",
    "        for v in vv.values():\n",
    "            v['w']=np.random.uniform(-np.pi/16, np.pi/16)\n",
    "    for i in range(10):\n",
    "        Traj, LastQ, error, success, binding_list = mplan.plan_transition(from_state, to_state, redundancy_dict, timeout=3, \n",
    "                                                                          plannerconfig=PlannerConfig.RRTConnectkConfigDefault)\n",
    "        if success:\n",
    "            break\n",
    "    with gtimer.block(\"TrajOptDefault\"):\n",
    "        Traj, LastQ, error, success, binding_list = mplan.plan_transition(from_state, to_state, redundancy_dict, timeout=30, \n",
    "                                                                          plannerconfig=PlannerConfig.TrajOptDefault)\n",
    "        results_dict[\"TrajOptDefault\"].append(success)\n",
    "    print(\"-------------------------------\")\n",
    "if success:\n",
    "    pscene.set_object_state(from_state)\n",
    "    gscene.show_motion(Traj, period=0.01)\n",
    "    sweep1_state = pscene.rebind_all(binding_list, LastQ)\n",
    "else:\n",
    "    print(\"Solution not found. Please try again, try to find error if it keeps failing.\")\n",
    "#     raise(RuntimeError(\"Motion plan failure\"))\n",
    "print(\"\")\n",
    "print(\"============= [Timer] =============\")\n",
    "print(gtimer)\n",
    "print(\"============= [Result] =============\")\n",
    "for k, v in results_dict.items():\n",
    "    print(\"{}: {}\".format(k, np.round(np.mean(v), 2)))"
   ]
  },
  {
   "cell_type": "code",
   "execution_count": null,
   "metadata": {},
   "outputs": [],
   "source": []
  },
  {
   "cell_type": "markdown",
   "metadata": {},
   "source": [
    "### test time"
   ]
  },
  {
   "cell_type": "code",
   "execution_count": 20,
   "metadata": {},
   "outputs": [],
   "source": [
    "import random\n",
    "from pkg.planning.motion.moveit.moveit_py import ConstrainedSpaceType\n",
    "cs_types = [ConstrainedSpaceType.PROJECTED, ConstrainedSpaceType.ATLAS, ConstrainedSpaceType.TANGENTBUNDLE]"
   ]
  },
  {
   "cell_type": "code",
   "execution_count": 21,
   "metadata": {},
   "outputs": [],
   "source": [
    "gtimer = GlobalTimer.instance()\n",
    "gtimer.reset()\n",
    "# sweep motion 2 - sweep \"floor\" to the second waypoint. Constrained motion planning takes longer time\n",
    "suc_dict = defaultdict(list)\n",
    "max_dict = defaultdict(list)\n",
    "std_dict = defaultdict(list)\n",
    "time_dict = defaultdict(list)\n",
    "from_state = sweep1_state.copy(pscene)\n",
    "to_node = (\"floor\", 2)\n",
    "available_binding_dict = pscene.get_available_binding_dict(from_state, to_node)\n",
    "to_state, redundancy_dict = pscene.sample_leaf_state(from_state, available_binding_dict, to_node)"
   ]
  },
  {
   "cell_type": "code",
   "execution_count": 22,
   "metadata": {
    "scrolled": true
   },
   "outputs": [
    {
     "name": "stdout",
     "output_type": "stream",
     "text": [
      "try constrained motion\n",
      "constrained motion tried: True\n",
      "try constrained motion\n",
      "constrained motion tried: True\n",
      "try constrained motion\n",
      "constrained motion tried: True\n",
      "PROJECTED: \t8351.0 ms/1 = 8351.42 ms (8351.42/8351.42)\n",
      "TANGENTBUNDLE: \t100.0 ms/1 = 100.064 ms (100.064/100.064)\n",
      "ATLAS: \t9418.0 ms/1 = 9418.117 ms (9418.117/9418.117)\n",
      "\n",
      "try constrained motion\n",
      "constrained motion tried: True\n",
      "try constrained motion\n",
      "constrained motion tried: True\n",
      "try constrained motion\n",
      "constrained motion tried: False\n",
      "PROJECTED: \t8992.0 ms/2 = 4495.971 ms (640.522/8351.42)\n",
      "TANGENTBUNDLE: \t612.0 ms/2 = 305.916 ms (100.064/511.767)\n",
      "ATLAS: \t19422.0 ms/2 = 9711.086 ms (9418.117/10004.054)\n",
      "\n",
      "try constrained motion\n",
      "constrained motion tried: False\n",
      "try constrained motion\n",
      "constrained motion tried: False\n",
      "try constrained motion\n",
      "constrained motion tried: False\n",
      "PROJECTED: \t19240.0 ms/3 = 6413.235 ms (640.522/10247.763)\n",
      "TANGENTBUNDLE: \t10616.0 ms/3 = 3538.639 ms (100.064/10004.085)\n",
      "ATLAS: \t29520.0 ms/3 = 9839.94 ms (9418.117/10097.65)\n",
      "\n",
      "try constrained motion\n",
      "constrained motion tried: False\n",
      "try constrained motion\n",
      "constrained motion tried: True\n",
      "try constrained motion\n",
      "constrained motion tried: True\n",
      "PROJECTED: \t21253.0 ms/4 = 5313.25 ms (640.522/10247.763)\n",
      "TANGENTBUNDLE: \t10646.0 ms/4 = 2661.599 ms (30.481/10004.085)\n",
      "ATLAS: \t39882.0 ms/4 = 9970.402 ms (9418.117/10361.788)\n",
      "\n",
      "try constrained motion\n",
      "constrained motion tried: True\n",
      "try constrained motion\n",
      "constrained motion tried: True\n",
      "try constrained motion\n",
      "constrained motion tried: True\n",
      "PROJECTED: \t24394.0 ms/5 = 4878.856 ms (640.522/10247.763)\n",
      "TANGENTBUNDLE: \t10687.0 ms/5 = 2137.396 ms (30.481/10004.085)\n",
      "ATLAS: \t43965.0 ms/5 = 8792.979 ms (4083.285/10361.788)\n",
      "\n",
      "try constrained motion\n",
      "constrained motion tried: True\n",
      "try constrained motion\n",
      "constrained motion tried: True\n",
      "try constrained motion\n",
      "constrained motion tried: False\n",
      "PROJECTED: \t25149.0 ms/6 = 4191.519 ms (640.522/10247.763)\n",
      "TANGENTBUNDLE: \t10717.0 ms/6 = 1786.18 ms (30.1/10004.085)\n",
      "ATLAS: \t54172.0 ms/6 = 9028.616 ms (4083.285/10361.788)\n",
      "\n",
      "try constrained motion\n",
      "constrained motion tried: True\n",
      "try constrained motion\n",
      "constrained motion tried: True\n",
      "try constrained motion\n",
      "constrained motion tried: True\n",
      "PROJECTED: \t26006.0 ms/7 = 3715.072 ms (640.522/10247.763)\n",
      "TANGENTBUNDLE: \t11081.0 ms/7 = 1583.039 ms (30.1/10004.085)\n",
      "ATLAS: \t58047.0 ms/7 = 8292.379 ms (3874.96/10361.788)\n",
      "\n",
      "try constrained motion\n",
      "constrained motion tried: True\n",
      "try constrained motion\n",
      "constrained motion tried: False\n",
      "try constrained motion\n",
      "constrained motion tried: True\n",
      "PROJECTED: \t30600.0 ms/8 = 3825.05 ms (640.522/10247.763)\n",
      "TANGENTBUNDLE: \t11143.0 ms/8 = 1392.924 ms (30.1/10004.085)\n",
      "ATLAS: \t68052.0 ms/8 = 8506.55 ms (3874.96/10361.788)\n",
      "\n",
      "try constrained motion\n",
      "constrained motion tried: False\n",
      "try constrained motion\n",
      "constrained motion tried: False\n",
      "try constrained motion\n",
      "constrained motion tried: True\n",
      "PROJECTED: \t41001.0 ms/9 = 4555.659 ms (640.522/10400.534)\n",
      "TANGENTBUNDLE: \t11170.0 ms/9 = 1241.094 ms (26.454/10004.085)\n",
      "ATLAS: \t78064.0 ms/9 = 8673.773 ms (3874.96/10361.788)\n",
      "\n",
      "try constrained motion\n",
      "constrained motion tried: True\n",
      "try constrained motion\n",
      "constrained motion tried: True\n",
      "try constrained motion\n",
      "constrained motion tried: False\n",
      "PROJECTED: \t41724.0 ms/10 = 4172.372 ms (640.522/10400.534)\n",
      "TANGENTBUNDLE: \t11203.0 ms/10 = 1120.323 ms (26.454/10004.085)\n",
      "ATLAS: \t88071.0 ms/10 = 8807.137 ms (3874.96/10361.788)\n",
      "\n"
     ]
    }
   ],
   "source": [
    "for _ in range(10):    \n",
    "    random.shuffle(cs_types)\n",
    "    for cs_type in cs_types:\n",
    "        gtimer.tic(cs_type.name)\n",
    "        Traj, LastQ, error, success, binding_list = mplan.plan_transition(from_state, to_state, redundancy_dict, timeout=10, cs_type=cs_type)\n",
    "        elapsed = gtimer.toc(cs_type.name)\n",
    "        suc_dict[cs_type.name].append(success)\n",
    "        time_dict[cs_type.name].append(elapsed)\n",
    "        if success:\n",
    "            T_ref=floor.get_tf(crob.home_dict)\n",
    "            Z_list = []\n",
    "            for q in Traj:\n",
    "                T_tool=sweep_face.get_tf(list2dict(q, crob.joint_names))\n",
    "                Z_list.append(np.matmul(SE3_inv(T_ref), T_tool)[2,3])\n",
    "            std_dict[cs_type.name].append(np.std(Z_list))\n",
    "            max_dict[cs_type.name].append(np.max(Z_list)-np.min(Z_list))\n",
    "    print(gtimer)"
   ]
  },
  {
   "cell_type": "code",
   "execution_count": 23,
   "metadata": {},
   "outputs": [],
   "source": [
    "import matplotlib.pyplot as plt\n",
    "keys = [\"PROJECTED\", \"ATLAS\", \"TANGENTBUNDLE\"]"
   ]
  },
  {
   "cell_type": "code",
   "execution_count": 24,
   "metadata": {},
   "outputs": [
    {
     "name": "stdout",
     "output_type": "stream",
     "text": [
      "time_dict PROJECTED: 4172.3721981\n",
      "time median PROJECTED: 2577.28695869\n",
      "time_dict ATLAS: 8807.13708401\n",
      "time median ATLAS: 10006.5795183\n",
      "time_dict TANGENTBUNDLE: 1120.3234911\n",
      "time median TANGENTBUNDLE: 51.3545274734\n"
     ]
    },
    {
     "data": {
      "image/png": "[encoded data removed]",
      "text/plain": [
       "<Figure size 1080x432 with 3 Axes>"
      ]
     },
     "metadata": {
      "needs_background": "light"
     },
     "output_type": "display_data"
    }
   ],
   "source": [
    "plt.figure(figsize=(15,6))\n",
    "for i_k, k in enumerate(keys):\n",
    "    v = time_dict[k]\n",
    "    plt.subplot(1,3,i_k+1)\n",
    "    plt.plot(v, '.')\n",
    "    print(\"time_dict {}: {}\".format(k, np.mean(v)))\n",
    "    print(\"time median {}: {}\".format(k, np.median(v)))"
   ]
  },
  {
   "cell_type": "code",
   "execution_count": 25,
   "metadata": {},
   "outputs": [
    {
     "name": "stdout",
     "output_type": "stream",
     "text": [
      "suc_dict PROJECTED: 0.8\n",
      "suc_dict ATLAS: 0.3\n",
      "suc_dict TANGENTBUNDLE: 0.9\n"
     ]
    },
    {
     "data": {
      "image/png": "[encoded data removed]",
      "text/plain": [
       "<Figure size 1080x432 with 3 Axes>"
      ]
     },
     "metadata": {
      "needs_background": "light"
     },
     "output_type": "display_data"
    }
   ],
   "source": [
    "plt.figure(figsize=(15,6))\n",
    "for i_k, k in enumerate(keys):\n",
    "    v = suc_dict[k]\n",
    "    plt.subplot(1,3,i_k+1)\n",
    "    plt.plot(v, '.')\n",
    "    print(\"suc_dict {}: {}\".format(k, np.mean(v)))"
   ]
  },
  {
   "cell_type": "code",
   "execution_count": 26,
   "metadata": {},
   "outputs": [
    {
     "name": "stdout",
     "output_type": "stream",
     "text": [
      "std_dict PROJECTED: 9.4476031903e-05\n",
      "std_dict ATLAS: 0.000139408717534\n",
      "std_dict TANGENTBUNDLE: 0.000576285243079\n"
     ]
    },
    {
     "data": {
      "image/png": "[encoded data removed]",
      "text/plain": [
       "<Figure size 1080x432 with 3 Axes>"
      ]
     },
     "metadata": {
      "needs_background": "light"
     },
     "output_type": "display_data"
    }
   ],
   "source": [
    "plt.figure(figsize=(15,6))\n",
    "for i_k, k in enumerate(keys):\n",
    "    v = std_dict[k]\n",
    "    plt.subplot(1,3,i_k+1)\n",
    "    plt.plot(v, '.')\n",
    "    print(\"std_dict {}: {}\".format(k, np.mean(v)))"
   ]
  },
  {
   "cell_type": "code",
   "execution_count": 27,
   "metadata": {},
   "outputs": [
    {
     "name": "stdout",
     "output_type": "stream",
     "text": [
      "max_dict PROJECTED: 0.000370803948808\n",
      "max_dict ATLAS: 0.000621854875755\n",
      "max_dict TANGENTBUNDLE: 0.00257926590836\n"
     ]
    },
    {
     "data": {
      "image/png": "[encoded data removed]",
      "text/plain": [
       "<Figure size 1080x432 with 3 Axes>"
      ]
     },
     "metadata": {
      "needs_background": "light"
     },
     "output_type": "display_data"
    }
   ],
   "source": [
    "plt.figure(figsize=(15,6))\n",
    "for i_k, k in enumerate(keys):\n",
    "    v = max_dict[k]\n",
    "    plt.subplot(1,3,i_k+1)\n",
    "    plt.plot(v, '.')\n",
    "    print(\"max_dict {}: {}\".format(k, np.mean(v)))"
   ]
  },
  {
   "cell_type": "code",
   "execution_count": null,
   "metadata": {},
   "outputs": [],
   "source": []
  }
 ],
 "metadata": {
  "kernelspec": {
   "display_name": "Python 2",
   "language": "python",
   "name": "python2"
  },
  "language_info": {
   "codemirror_mode": {
    "name": "ipython",
    "version": 2
   },
   "file_extension": ".py",
   "mimetype": "text/x-python",
   "name": "python",
   "nbconvert_exporter": "python",
   "pygments_lexer": "ipython2",
   "version": "2.7.17"
  }
 },
 "nbformat": 4,
 "nbformat_minor": 2
}
