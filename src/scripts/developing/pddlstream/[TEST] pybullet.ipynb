{
 "cells": [
  {
   "cell_type": "markdown",
   "metadata": {},
   "source": [
    "## set running directory to project source"
   ]
  },
  {
   "cell_type": "code",
   "execution_count": 1,
   "metadata": {},
   "outputs": [],
   "source": [
    "import os\n",
    "import numpy as np\n",
    "import time\n",
    "os.chdir(os.path.join(os.environ[\"RNB_PLANNING_DIR\"], 'src'))\n",
    "import matplotlib.pyplot as plt"
   ]
  },
  {
   "cell_type": "code",
   "execution_count": null,
   "metadata": {},
   "outputs": [],
   "source": []
  },
  {
   "cell_type": "markdown",
   "metadata": {},
   "source": [
    "## 4.1 PlanningScene"
   ]
  },
  {
   "cell_type": "markdown",
   "metadata": {},
   "source": [
    "##### initialize CombinedRobot and GeometryScene"
   ]
  },
  {
   "cell_type": "code",
   "execution_count": 2,
   "metadata": {},
   "outputs": [
    {
     "name": "stdout",
     "output_type": "stream",
     "text": [
      "connection command:\n",
      "indy0: False\n",
      "Unable to register with master node [http://localhost:11311]: master may not be running yet. Will keep trying.\n"
     ]
    },
    {
     "name": "stderr",
     "output_type": "stream",
     "text": [
      "Unknown tag \"hardwareInterface\" in /robot[@name='custom_robots']/transmission[@name='indy0_tran0']/actuator[@name='indy0_motor0']\n",
      "Unknown tag \"hardwareInterface\" in /robot[@name='custom_robots']/transmission[@name='indy0_tran1']/actuator[@name='indy0_motor1']\n",
      "Unknown tag \"hardwareInterface\" in /robot[@name='custom_robots']/transmission[@name='indy0_tran2']/actuator[@name='indy0_motor2']\n",
      "Unknown tag \"hardwareInterface\" in /robot[@name='custom_robots']/transmission[@name='indy0_tran3']/actuator[@name='indy0_motor3']\n",
      "Unknown tag \"hardwareInterface\" in /robot[@name='custom_robots']/transmission[@name='indy0_tran4']/actuator[@name='indy0_motor4']\n",
      "Unknown tag \"hardwareInterface\" in /robot[@name='custom_robots']/transmission[@name='indy0_tran5']/actuator[@name='indy0_motor5']\n"
     ]
    },
    {
     "name": "stdout",
     "output_type": "stream",
     "text": [
      "Please create a subscriber to the marker\n",
      "publication OK\n",
      "published: [0, 0, 0, 0, 0, 0]\n",
      "Please create a subscriber to the marker\n"
     ]
    }
   ],
   "source": [
    "from pkg.controller.combined_robot import *\n",
    "from pkg.project_config import *\n",
    "from pkg.geometry.builder.scene_builder import SceneBuilder\n",
    "\n",
    "s_builder = SceneBuilder(None)   # create scene builder without detector for virtual scene\n",
    "crob = CombinedRobot(robots_on_scene=[\n",
    "    RobotConfig(0, RobotType.indy7gripper, ((0,0,0.01), (0,0,0)), None)]\n",
    "                     , connection_list=[False])\n",
    "gscene = s_builder.create_gscene(crob)\n",
    "gtems = s_builder.add_robot_geometries(color=(0,1,0,0.5), display=True, collision=True)\n",
    "gscene.show_pose(crob.home_pose)"
   ]
  },
  {
   "cell_type": "markdown",
   "metadata": {},
   "source": [
    "##### add geometries"
   ]
  },
  {
   "cell_type": "code",
   "execution_count": 3,
   "metadata": {},
   "outputs": [],
   "source": [
    "from pkg.geometry.geometry import *\n",
    "\n",
    "# add environments (fixed=True for non-movable geometries)\n",
    "wall = gscene.create_safe(GEOTYPE.BOX, \"wall\", \"base_link\", (3,3,0.01), (-0.2,0,0), \n",
    "                           rpy=(0,np.pi/2,0), color=(0.8,0.8,0.8,0.5), display=True, fixed=True, collision=True)\n",
    "floor = gscene.create_safe(GEOTYPE.BOX, \"floor\", \"base_link\", (3,3,0.01), (0,0,0), \n",
    "                           rpy=(0,0,0), color=(0.8,0.8,0.8,0.5), display=True, fixed=True, collision=True)\n",
    "wp1 = gscene.create_safe(GEOTYPE.BOX, \"wp1\", \"base_link\", (0.1,0.1,0.01), (0.6,-0.3,0),rpy=(0,0,0), \n",
    "                         color=(0.8,0.2,0.2,1), display=True, fixed=True, collision=True, parent=\"floor\")\n",
    "wp2 = gscene.create_safe(GEOTYPE.BOX, \"wp2\", \"base_link\", (0.1,0.1,0.01), (0.2,-0.3,0), rpy=(0,0,0), \n",
    "                         color=(0.8,0.2,0.2,1), display=True, fixed=True, collision=True, parent=\"floor\")\n",
    "goal = gscene.create_safe(GEOTYPE.BOX, \"goal\", \"base_link\", (0.1,0.1,0.01), (0.3,-0.4,0), \n",
    "                          rpy=(0,0,0), color=(0.2,0.2,0.8,1), display=True, fixed=True, collision=True)\n",
    " \n",
    "# add movable (fixed=False for movable geometries)\n",
    "box1 = gscene.create_safe(GEOTYPE.BOX, \"box1\", \"base_link\", (0.05,0.05,0.05), (0.3,0.4,0.031), \n",
    "                          rpy=(0,0,0), color=(0.8,0.2,0.2,1), display=True, fixed=False, collision=True)\n",
    "\n",
    "obstacle = gscene.create_safe(GEOTYPE.BOX, \"obstacle\", \"base_link\", (0.05,0.05,0.05), (0.5,0.4,0.031), \n",
    "                          rpy=(0,0,0), color=(0.8,0.8,0.2,1), display=True, fixed=False, collision=True)"
   ]
  },
  {
   "cell_type": "code",
   "execution_count": null,
   "metadata": {},
   "outputs": [],
   "source": []
  },
  {
   "cell_type": "markdown",
   "metadata": {},
   "source": [
    "##### create PlanningScene"
   ]
  },
  {
   "cell_type": "code",
   "execution_count": 4,
   "metadata": {},
   "outputs": [],
   "source": [
    "from pkg.planning.scene import PlanningScene\n",
    "pscene = PlanningScene(gscene, combined_robot=crob)"
   ]
  },
  {
   "cell_type": "code",
   "execution_count": null,
   "metadata": {},
   "outputs": [],
   "source": []
  },
  {
   "cell_type": "markdown",
   "metadata": {},
   "source": [
    "##### create_binder\n",
    "- Binders (or Actors) are binding points where objects can be attached (or binded)\n",
    "- Examples are \n",
    "  - PlacePlane: plane for object placement\n",
    "  - Gripper2Tool: 2-finger gripper tool for grasp objects\n",
    "  - SweepTool: action point to pass waypoints for sweep task"
   ]
  },
  {
   "cell_type": "code",
   "execution_count": 5,
   "metadata": {},
   "outputs": [],
   "source": [
    "from pkg.planning.constraint.constraint_actor import PlacePlane, Gripper2Tool, SweepFramer"
   ]
  },
  {
   "cell_type": "code",
   "execution_count": 6,
   "metadata": {},
   "outputs": [
    {
     "data": {
      "text/plain": [
       "<pkg.planning.constraint.constraint_actor.PlacePlane at 0x7f85ff8a9bd0>"
      ]
     },
     "execution_count": 6,
     "metadata": {},
     "output_type": "execute_result"
    }
   ],
   "source": [
    "# create PlacePlane on geometry \"floor\" and \"goal\"\n",
    "# when point is not set, the entire upper surface of the geometry becomes valid binding area.\n",
    "# when point is set, the specific point becomes the only valid binding point.\n",
    "pscene.create_binder(bname=\"floor\", gname=\"floor\", _type=PlacePlane)\n",
    "pscene.create_binder(bname=\"goal\", gname=\"goal\", _type=PlacePlane, point=(0,0,0.005))"
   ]
  },
  {
   "cell_type": "code",
   "execution_count": 7,
   "metadata": {},
   "outputs": [
    {
     "data": {
      "text/plain": [
       "<pkg.planning.constraint.constraint_actor.Gripper2Tool at 0x7f85ff8b3710>"
      ]
     },
     "execution_count": 7,
     "metadata": {},
     "output_type": "execute_result"
    }
   ],
   "source": [
    "# add collision boundary for gripper base\n",
    "# - set link_name=\"indy0_tcp\" to attach the geometry to end-effector link\n",
    "# - it can be labeled as fixed=True, as it is \"fixed\" on the indy0_tcp link\n",
    "gripper =  gscene.create_safe(GEOTYPE.SPHERE, \"grip0\", link_name=\"indy0_tcp\", \n",
    "                                dims=(0.01,0.01,0.01), center=(0,0,0.14), rpy=(-np.pi/2,0,0), \n",
    "                                color=(0.8,0.2,0.2,0.5), display=False, fixed=True, collision=False)\n",
    "\n",
    "# create Gripper2Tool binder\n",
    "# Gripper2Tool is a 2-finger gripper, which can rotate along z-direction.\n",
    "# To align the z-direction with the 2 fingers, rotate by 90 degree along roll axis.\n",
    "# The gripping point is (0,0,0.11) in local coordinate of \"gripper\" geometry\n",
    "pscene.create_binder(bname=\"grip0\", gname=\"grip0\", _type=Gripper2Tool)"
   ]
  },
  {
   "cell_type": "code",
   "execution_count": 8,
   "metadata": {},
   "outputs": [
    {
     "data": {
      "text/plain": [
       "<pkg.planning.constraint.constraint_actor.SweepFramer at 0x7f85ff8b3b10>"
      ]
     },
     "execution_count": 8,
     "metadata": {},
     "output_type": "execute_result"
    }
   ],
   "source": [
    "# Add virtual (no-collision) sweep face. the point is 0.2 m away from the \"indy0_tcp\" link\n",
    "# To match the z-direction with the target surface, the geometry is rotated 180 degrees in pitch-axis.\n",
    "sweep_face =  gscene.create_safe(GEOTYPE.BOX, \"sweep_face\", link_name=\"indy0_tcp\", \n",
    "                                dims=(0.05,0.05,0.001), center=(0,0,0.2), rpy=(0,np.pi,0), \n",
    "                                color=(0.2,0.2,0.8,0.1), display=False, fixed=True, collision=False)\n",
    "                                 \n",
    "# create SweepTool binder\n",
    "pscene.create_binder(bname=\"sweep_face\", gname=\"sweep_face\", _type=SweepFramer, point=(0,0,0), rpy=(0,0,0))"
   ]
  },
  {
   "cell_type": "code",
   "execution_count": null,
   "metadata": {},
   "outputs": [],
   "source": []
  },
  {
   "cell_type": "markdown",
   "metadata": {},
   "source": [
    "##### create_subject\n",
    "* Subject describes the tasks in the planning scene.\n",
    "* There are 2 categories in subject:\n",
    "  1. Object: The object has grip points and placement points for pick&place task\n",
    "  2. Task: The task is can be any non-physical task. Check SweepLineTask for example\n",
    "* The subjects can be composed of multiple action points. Examples are:\n",
    "  1. Grasp2Point: grasping point for 2-finger gripper. \n",
    "  2. PlacePoint: The point to place object.\n",
    "  3. SweepPoint: A waypoint for SweepLineTask.\n",
    "  * The above 3 action points inherit DirectePoint, for which the orientation is free along z-axis. \n",
    "  * If \"point\" parameter is not set, the entire upper surface is becomes valid action area."
   ]
  },
  {
   "cell_type": "code",
   "execution_count": 9,
   "metadata": {},
   "outputs": [],
   "source": [
    "from pkg.planning.constraint.constraint_subject import Grasp2Point, PlacePoint, SweepFrame\n",
    "from pkg.planning.constraint.constraint_subject import CustomObject, SweepLineTask"
   ]
  },
  {
   "cell_type": "code",
   "execution_count": 10,
   "metadata": {},
   "outputs": [],
   "source": [
    "## create box object with grasping points along positive & negative y-direction and placement point in the bottom face\n",
    "box_obj = pscene.create_subject(oname=\"box1\", gname=\"box1\", _type=CustomObject, \n",
    "                             action_points_dict = {\n",
    "                                 \"handle1\": Grasp2Point(\"handle1\", box1, [0,0,0], [-np.pi/2,0,0]),\n",
    "                                 \"handle2\": Grasp2Point(\"handle2\", box1, [0,0,0], [np.pi/2,0,0]),\n",
    "                                 \"bottom\": PlacePoint(\"bottom\", box1, [0,0,-0.026], [0,0,0])})"
   ]
  },
  {
   "cell_type": "code",
   "execution_count": 11,
   "metadata": {},
   "outputs": [],
   "source": [
    "## create sweep task with 2 waypoints\n",
    "sweep = pscene.create_subject(oname=\"sweep\", gname=\"floor\", _type=SweepLineTask, \n",
    "                             action_points_dict = {\"wp1\": SweepFrame(\"wp1\", wp1, [0,0,0.005], [0,0,0]),\n",
    "                                                   \"wp2\": SweepFrame(\"wp2\", wp2, [0,0,0.005], [0,0,0])}\n",
    "                             )"
   ]
  },
  {
   "cell_type": "code",
   "execution_count": null,
   "metadata": {},
   "outputs": [],
   "source": []
  },
  {
   "cell_type": "markdown",
   "metadata": {},
   "source": [
    "## Pipeline"
   ]
  },
  {
   "cell_type": "code",
   "execution_count": 12,
   "metadata": {},
   "outputs": [],
   "source": [
    "from pkg.planning.pipeline import PlanningPipeline\n",
    "ppline = PlanningPipeline(pscene)"
   ]
  },
  {
   "cell_type": "code",
   "execution_count": 13,
   "metadata": {},
   "outputs": [
    {
     "name": "stdout",
     "output_type": "stream",
     "text": [
      "Dash is running on http://0.0.0.0:8050/\n",
      "\n",
      " * Serving Flask app \"pkg.ui.dash_launcher\" (lazy loading)\n",
      " * Environment: production\n"
     ]
    }
   ],
   "source": [
    "from pkg.ui.ui_broker import *\n",
    "\n",
    "# start UI\n",
    "ui_broker = UIBroker.instance()\n",
    "ui_broker.initialize(ppline, s_builder)\n",
    "ui_broker.start_server()\n",
    "\n",
    "ui_broker.set_tables()"
   ]
  },
  {
   "cell_type": "code",
   "execution_count": null,
   "metadata": {},
   "outputs": [],
   "source": []
  },
  {
   "cell_type": "markdown",
   "metadata": {},
   "source": [
    "##### initialize_state\n",
    "* initialize_state(robot_pose) updates robot pose and gets corresponding binding status of current scene.\n",
    "* state.node of ('floor', 0) means the first subject (object) is placed on the floor and the second subject (sweep) has passed 0 waypoints"
   ]
  },
  {
   "cell_type": "code",
   "execution_count": 14,
   "metadata": {},
   "outputs": [
    {
     "name": "stdout",
     "output_type": "stream",
     "text": [
      "   WARNING: This is a development server. Do not use it in a production deployment.\n",
      "   Use a production WSGI server instead.\n",
      " * Debug mode: off\n",
      "('floor', 0)\n"
     ]
    }
   ],
   "source": [
    "initial_state = pscene.initialize_state(crob.home_pose)\n",
    "print(initial_state.node)"
   ]
  },
  {
   "cell_type": "code",
   "execution_count": null,
   "metadata": {},
   "outputs": [],
   "source": []
  },
  {
   "cell_type": "code",
   "execution_count": null,
   "metadata": {},
   "outputs": [],
   "source": []
  },
  {
   "cell_type": "code",
   "execution_count": null,
   "metadata": {},
   "outputs": [],
   "source": []
  },
  {
   "cell_type": "code",
   "execution_count": null,
   "metadata": {},
   "outputs": [],
   "source": []
  },
  {
   "cell_type": "code",
   "execution_count": null,
   "metadata": {},
   "outputs": [],
   "source": []
  },
  {
   "cell_type": "markdown",
   "metadata": {},
   "source": [
    "## Test pybullet"
   ]
  },
  {
   "cell_type": "code",
   "execution_count": 15,
   "metadata": {},
   "outputs": [],
   "source": [
    "os.chdir(os.path.join(os.environ[\"RNB_PLANNING_DIR\"], 'src/scripts/developing/pddlstream'))"
   ]
  },
  {
   "cell_type": "code",
   "execution_count": 16,
   "metadata": {},
   "outputs": [],
   "source": [
    "from convert_pscene import *\n",
    "from plan_pybullet import *"
   ]
  },
  {
   "cell_type": "code",
   "execution_count": null,
   "metadata": {},
   "outputs": [],
   "source": []
  },
  {
   "cell_type": "markdown",
   "metadata": {},
   "source": [
    "#### load pybullet, convert scene"
   ]
  },
  {
   "cell_type": "code",
   "execution_count": 17,
   "metadata": {
    "scrolled": true
   },
   "outputs": [
    {
     "name": "stdout",
     "output_type": "stream",
     "text": [
      "[Pybullet] Load urdf from /home/rnb/Projects/rnb-planning/src/robots/custom_robots_pybullet.urdf\n",
      "[WARING] non-object subject not implemented for now\n",
      "('Objects:', {1L: 'goal', 2L: 'floor', 3L: 'wall', 4L: 'obstacle', 5L: 'box1'})\n"
     ]
    }
   ],
   "source": [
    "connect_notebook(use_gui=True)\n",
    "urdf_pybullet_path = copy_meshes(gscene)\n",
    "robot_body, body_names, movable_bodies = pscene_to_pybullet(pscene, urdf_pybullet_path, name_exclude_list=[\"indy0\"])\n",
    "print('Objects:', body_names)\n",
    "saver = WorldSaver()"
   ]
  },
  {
   "cell_type": "code",
   "execution_count": 18,
   "metadata": {
    "scrolled": true
   },
   "outputs": [
    {
     "name": "stdout",
     "output_type": "stream",
     "text": [
      "Robot: 0\n",
      "Movable: [5L]\n",
      "Fixed: [1, 2, 3, 4]\n",
      "body 5 - surface 1\n",
      "body 5 - surface 2\n",
      "body 5 - surface 3\n",
      "body 5 - surface 4\n",
      "('Init:', [('CanMove',), ('Conf', q0), ('AtConf', q0), ('HandEmpty',), ('Graspable', 5L), ('Pose', 5L, p0), ('AtPose', 5L, p0), ('Stackable', 5L, 1), ('Stackable', 5L, 2), ('Supported', 5L, p0, 2), ('Stackable', 5L, 3), ('Stackable', 5L, 4)])\n",
      "('Goal:', ('and', ('AtConf', q0), ('On', 5L, 1)))\n",
      "('Streams:', '{TrajCollision, inverse-kinematics, plan-free-motion, plan-holding-motion, sample-grasp, sample-pose, test-cfree-approach-pose, test-cfree-pose-pose, test-cfree-traj-pose}')\n"
     ]
    }
   ],
   "source": [
    "problem = pddlstream_from_problem(robot_body, movable=movable_bodies)\n",
    "_, _, _, stream_map, init, goal = problem\n",
    "print('Init:', init)\n",
    "print('Goal:', goal)\n",
    "print('Streams:', str_from_object(set(stream_map)))"
   ]
  },
  {
   "cell_type": "code",
   "execution_count": 19,
   "metadata": {},
   "outputs": [
    {
     "name": "stdout",
     "output_type": "stream",
     "text": [
      "Warning! All actions have no cost. Recommend setting unit_costs=True\n",
      "Warning! Undeclared predicates: ['conf', 'graspable']\n",
      "Setting negate=True for stream [test-cfree-pose-pose]\n",
      "Setting negate=True for stream [test-cfree-traj-pose]\n",
      "Setting negate=True for stream [test-cfree-approach-pose]\n",
      "Streams: [sample-pose:('?o', '?r')->('?p',), sample-grasp:('?o',)->('?g',), inverse-kinematics:('?o', '?p', '?g')->('?q', '?t'), plan-free-motion:('?q1', '?q2')->('?t',), plan-holding-motion:('?q1', '?q2', '?o', '?g')->('?t',)]\n",
      "Functions: []\n",
      "Negated: [test-cfree-pose-pose:('?o1', '?p1', '?o2', '?p2')->(), test-cfree-approach-pose:('?o1', '?p1', '?g1', '?o2', '?p2')->(), test-cfree-traj-pose:('?t', '?o2', '?p2')->()]\n",
      "Optimizers: []\n",
      "\n",
      "Iteration: 1 | Complexity: 0 | Skeletons: 0 | Skeleton Queue: 0 | Disabled: 0 | Evaluations: 12 | Eager Calls: 0 | Cost: inf | Search Time: 0.000 | Sample Time: 0.000 | Total Time: 0.000\n",
      "Attempt: 1 | Results: 1 | Depth: 0 | Success: False | Time: 0.019\n",
      "Stream plan (inf, 0, inf): None\n",
      "Action plan (inf, inf): None\n",
      "No plan: increasing complexity from 0 to 1\n",
      "\n",
      "Iteration: 2 | Complexity: 1 | Skeletons: 0 | Skeleton Queue: 0 | Disabled: 0 | Evaluations: 12 | Eager Calls: 0 | Cost: inf | Search Time: 0.020 | Sample Time: 0.000 | Total Time: 0.020\n",
      "Attempt: 1 | Results: 7 | Depth: 0 | Success: False | Time: 0.011\n",
      "Stream plan (inf, 0, inf): None\n",
      "Action plan (inf, inf): None\n",
      "No plan: increasing complexity from 1 to 2\n",
      "\n",
      "Iteration: 3 | Complexity: 2 | Skeletons: 0 | Skeleton Queue: 0 | Disabled: 0 | Evaluations: 12 | Eager Calls: 0 | Cost: inf | Search Time: 0.032 | Sample Time: 0.000 | Total Time: 0.032\n",
      "Attempt: 1 | Results: 15 | Depth: 1 | Success: False | Time: 0.072\n",
      "Attempt: 2 | Results: 40 | Depth: 0 | Success: True | Time: 0.170\n",
      "Stream plan (8, 8, 0.001): [sample-grasp:(5)->(#g0), inverse-kinematics:(5, p0, #g0)->(#q0, #t10), test-cfree-traj-pose:(#t10, 5, p0)->(), sample-pose:(5, 1)->(#p0), inverse-kinematics:(5, #p0, #g0)->(#q1, #t11), plan-free-motion:(#q1, q0)->(#t40), plan-free-motion:(q0, #q0)->(#t41), plan-holding-motion:(#q0, #q1, 5, #g0)->(#t42)]\n",
      "Action plan (5, 0.000): [move_free(q0, #q0, #t41), pick(5, p0, #g0, #q0, #t10), move_holding(#q0, #q1, 5, #g0, #t42), place(5, #p0, #g0, #q1, #t11), move_free(#q1, q0, #t40)]\n",
      "iter=0, outs=1) sample-grasp:(5)->[(g0)]\n",
      "gripper_pose: ((0.30000001192092896, 0.4000000059604645, 0.19600000977516174), (0.7071067690849304, -0.7071067690849304, -4.329780301713277e-17, 4.329780301713277e-17))\n",
      "approach_pose: ((0.30000001192092896, 0.4000000059604645, 0.29600000381469727), (0.7071067690849304, -0.7071067690849304, -4.329780301713277e-17, 4.329780301713277e-17))\n",
      "q_approach: None\n",
      "obstacles: [5L, 1, 2, 3, 4]\n",
      "q_approach: None\n",
      "obstacles: [5L, 1, 2, 3, 4]\n",
      "q_approach: None\n",
      "obstacles: [5L, 1, 2, 3, 4]\n",
      "q_approach: (-2.596537001925726, 0.4026732179929881, 1.774654103998475, -3.117322252960361e-07, 0.9642655139144846, 2.115852203520436)\n",
      "obstacles: [5L, 1, 2, 3, 4]\n",
      "q_approach: None\n",
      "obstacles: [5L, 1, 2, 3, 4]\n",
      "q_approach: (1.3087666807176288, -0.40341561054418207, -1.7723976668151693, 0.000253732452057028, -0.9659383057807649, -0.26221170119924186)\n",
      "go on\n",
      "q_grasp: (1.3089755551624245, -0.5577963147149859, -1.8812431463723054, 0.0002863111519908565, -0.7026609933623966, -0.26206950340869123)\n",
      "iter=inf, outs=1) inverse-kinematics:(5, p0, g0)->[(q1, c0)]\n",
      "iter=inf, outs=1) test-cfree-traj-pose:(c0, 5, p0)->[()]\n",
      "iter=0, outs=1) sample-pose:(5, 1)->[(p1)]\n",
      "gripper_pose: ((0.29479196667671204, -0.4076443910598755, 0.19600000977516174), (0.9523388147354126, -0.30504223704338074, -1.867845291549661e-17, 5.8313936931608e-17))\n",
      "approach_pose: ((0.29479196667671204, -0.4076443910598755, 0.29600000381469727), (0.9523388147354126, -0.30504223704338074, -1.867845291549661e-17, 5.8313936931608e-17))\n",
      "q_approach: None\n",
      "obstacles: [5L, 1, 2, 3, 4]\n",
      "q_approach: None\n",
      "obstacles: [5L, 1, 2, 3, 4]\n",
      "q_approach: None\n",
      "obstacles: [5L, 1, 2, 3, 4]\n",
      "q_approach: (1.8164725319801311, 0.40821105977347005, 1.7665854767775553, 0.00021119989108863725, 0.9666629376179788, -0.7053058314507772)\n",
      "go on\n",
      "q_grasp: (1.8176353605434816, 0.5627740386487434, 1.8710531628133122, -0.00027053048572865093, 0.7078696146634682, -0.7037575727473991)\n",
      "iter=inf, outs=1) inverse-kinematics:(5, p1, g0)->[(q2, c1)]\n",
      "iter=inf, outs=1) plan-free-motion:(q2, q0)->[(c2)]\n",
      "iter=inf, outs=1) plan-free-motion:(q0, q1)->[(c3)]\n",
      "iter=inf, outs=1) plan-holding-motion:(q1, q2, 5, g0)->[(c4)]\n",
      "Summary: {complexity: 2, cost: 0.000, evaluations: 25, iterations: 3, length: 2, run_time: 0.494, sample_time: 0.280, search_time: 0.214, skeletons: 1, solutions: 1, solved: True, timeout: False}\n",
      "\n",
      "Total External Statistics\n",
      "External: sample-pose | n: 3 | p_success: 1.000 | overhead: 0.000\n",
      "External: sample-grasp | n: 2 | p_success: 1.000 | overhead: 0.001\n",
      "External: inverse-kinematics | n: 5 | p_success: 1.000 | overhead: 0.019\n",
      "External: plan-free-motion | n: 4 | p_success: 1.000 | overhead: 0.044\n",
      "External: plan-holding-motion | n: 3 | p_success: 1.000 | overhead: 0.027\n",
      "External: test-cfree-pose-pose | n: 2 | p_success: 1.000 | overhead: 0.000\n",
      "External: test-cfree-approach-pose | n: 3 | p_success: 1.000 | overhead: 0.000\n",
      "External: test-cfree-traj-pose | n: 6 | p_success: 1.000 | overhead: 0.001\n",
      "Wrote: statistics/py2/kuka-tamp.pkl\n",
      "         496026 function calls (483671 primitive calls) in 0.516 seconds\n",
      "\n",
      "   Ordered by: internal time\n",
      "   List reduced from 1451 to 10 due to restriction <10>\n",
      "\n",
      "   ncalls  tottime  percall  cumtime  percall filename:lineno(function)\n",
      "    27981    0.057    0.000    0.057    0.000 {pybullet.getClosestPoints}\n",
      "        2    0.028    0.014    0.028    0.014 {posix.read}\n",
      "     5172    0.021    0.000    0.021    0.000 {pybullet.resetJointState}\n",
      "    27981    0.020    0.000    0.077    0.000 /home/rnb/Projects/pddlstream/examples/pybullet/utils/pybullet_tools/utils.py:3124(get_closest_points)\n",
      "    27953    0.016    0.000    0.095    0.000 /home/rnb/Projects/pddlstream/examples/pybullet/utils/pybullet_tools/utils.py:3141(pairwise_link_collision)\n",
      "        2    0.015    0.008    0.015    0.008 {posix.fork}\n",
      "      420    0.009    0.000    0.009    0.000 {method 'read' of 'file' objects}\n",
      "   3702/9    0.008    0.000    0.026    0.003 /usr/lib/python2.7/copy.py:145(deepcopy)\n",
      "     2776    0.008    0.000    0.066    0.000 /home/rnb/Projects/pddlstream/examples/pybullet/utils/pybullet_tools/utils.py:3144(any_link_pair_collision)\n",
      "      340    0.008    0.000    0.008    0.000 {pybullet.calculateInverseKinematics}\n",
      "\n",
      "\n",
      "\n",
      "Solved: True\n",
      "Cost: 0.000\n",
      "Length: 5\n",
      "Deferred: 0\n",
      "Evaluations: 2\n",
      " 1) move_free q0 q1 c3\n",
      " 2) pick 5 p0 g0 q1 c0\n",
      " 3) move_holding q1 q2 5 g0 c4\n",
      " 4) place 5 p1 g0 q2 c1\n",
      " 5) move_free q2 q0 c2\n"
     ]
    }
   ],
   "source": [
    "with Profiler():\n",
    "    with LockRenderer(lock=not True):\n",
    "        solution = solve(problem, algorithm='adaptive', unit_costs=False, success_cost=INF)\n",
    "        saver.restore()\n",
    "print_solution(solution)\n",
    "plan, cost, evaluations = solution"
   ]
  },
  {
   "cell_type": "markdown",
   "metadata": {},
   "source": [
    "## play plan"
   ]
  },
  {
   "cell_type": "code",
   "execution_count": 20,
   "metadata": {},
   "outputs": [],
   "source": [
    "SIMULATE = False\n",
    "if (plan is None) or not has_gui():\n",
    "    disconnect()\n",
    "else:\n",
    "    command = postprocess_plan(plan)\n",
    "    if SIMULATE:\n",
    "#         wait_for_user('Simulate?')\n",
    "        command.control()\n",
    "    else:\n",
    "#         wait_for_user('Execute?')\n",
    "        #command.step()\n",
    "        command.refine(num_steps=10).execute(time_step=0.001)"
   ]
  },
  {
   "cell_type": "code",
   "execution_count": null,
   "metadata": {},
   "outputs": [],
   "source": []
  },
  {
   "cell_type": "code",
   "execution_count": null,
   "metadata": {},
   "outputs": [],
   "source": []
  },
  {
   "cell_type": "code",
   "execution_count": null,
   "metadata": {},
   "outputs": [],
   "source": []
  }
 ],
 "metadata": {
  "kernelspec": {
   "display_name": "Python 2",
   "language": "python",
   "name": "python2"
  },
  "language_info": {
   "codemirror_mode": {
    "name": "ipython",
    "version": 2
   },
   "file_extension": ".py",
   "mimetype": "text/x-python",
   "name": "python",
   "nbconvert_exporter": "python",
   "pygments_lexer": "ipython2",
   "version": "2.7.17"
  }
 },
 "nbformat": 4,
 "nbformat_minor": 2
}
