{
 "cells": [
  {
   "cell_type": "code",
   "execution_count": 1,
   "metadata": {},
   "outputs": [],
   "source": [
    "# # python3 /home/rnb/Projects/rnb-planning/src/pkg/planning/filtering/lattice_model/shared_lattice_predictor.py --rtype panda\n",
    "\n",
    "# import SharedArray as sa\n",
    "# ROBOT_TYPE_NAME = 'panda'\n",
    "# sa.delete(\"shm://{}.prepared\".format(ROBOT_TYPE_NAME))\n",
    "# sa.delete(\"shm://{}.grasp_img\".format(ROBOT_TYPE_NAME))\n",
    "# sa.delete(\"shm://{}.arm_img\".format(ROBOT_TYPE_NAME))\n",
    "# sa.delete(\"shm://{}.rh_vals\".format(ROBOT_TYPE_NAME))\n",
    "# sa.delete(\"shm://{}.result\".format(ROBOT_TYPE_NAME))\n",
    "# sa.delete(\"shm://{}.query_in\".format(ROBOT_TYPE_NAME))\n",
    "# sa.delete(\"shm://{}.response_out\".format(ROBOT_TYPE_NAME))\n",
    "# sa.delete(\"shm://{}.query_quit\".format(ROBOT_TYPE_NAME))"
   ]
  },
  {
   "cell_type": "code",
   "execution_count": 1,
   "metadata": {},
   "outputs": [],
   "source": [
    "from __future__ import print_function\n",
    "import os\n",
    "RNB_PLANNING_DIR = os.environ[\"RNB_PLANNING_DIR\"]\n",
    "os.chdir(os.path.join(RNB_PLANNING_DIR, 'src'))\n",
    "from pkg.controller.combined_robot import *\n",
    "from pkg.utils.utils import get_now, try_mkdir\n",
    "import subprocess\n",
    "\n",
    "DATA_PATH = os.path.join(RNB_PLANNING_DIR, \"data\")\n",
    "try_mkdir(DATA_PATH)\n",
    "\n",
    "DAT_ROOT = \"stowing-deep\"\n",
    "RES_ROOT = \"stowing-deep-result\"\n",
    "\n",
    "TEST_DATA_PATH = os.path.join(DATA_PATH, DAT_ROOT)\n",
    "try_mkdir(TEST_DATA_PATH)\n",
    "\n",
    "TEST_RESULT_PATH = os.path.join(DATA_PATH, RES_ROOT)\n",
    "try_mkdir(TEST_RESULT_PATH)\n",
    "\n",
    "HEADS = [\"plan_time\", \"length\", \"MP_count\", \"failed_MPs\", \"IK_count\", \"failed_IKs\", \"success\"]\n",
    "\n",
    "def run_test_loop(FILE_OPTION, I_START, I_END, common_args, CNAME_LIST=['None', 'Tool', 'ToolReach', 'Full']):\n",
    "    N_DAT = I_END-I_START\n",
    "    ROBOT_DATA_ROOT = os.path.join(TEST_DATA_PATH, RTYPE)\n",
    "    ROBOT_RESULT_ROOT = os.path.join(TEST_RESULT_PATH, RTYPE)\n",
    "    DATASET_PATH = os.path.join(ROBOT_DATA_ROOT, DAT_DIR)\n",
    "    RESULTSET_PATH = os.path.join(ROBOT_RESULT_ROOT, DAT_DIR)\n",
    "    file_list = sorted(os.listdir(DATASET_PATH))\n",
    "\n",
    "    gtimer = GlobalTimer.instance()\n",
    "    gtimer.reset(scale=1, timeunit='s')\n",
    "\n",
    "    gtimer.tic(\"full_loop\")\n",
    "    for fid in range(I_START, I_END):\n",
    "        e_step_list = []\n",
    "        for i_c, cname in enumerate(CNAME_LIST):\n",
    "            gtimer.tic(\"step\")\n",
    "            p = subprocess.Popen(['python', '{}src/scripts/developing/pddlstream/test_saved_scene.py'.format(RNB_PLANNING_DIR),\n",
    "                                  '--data_idx', str(fid), '--file_option', FILE_OPTION, '--cname', cname,]\n",
    "                                 + common_args)\n",
    "            p.wait()\n",
    "            e_step = np.round(gtimer.toc(\"step\"), 1)\n",
    "            e_step_list.append(e_step)\n",
    "            print(\"------- \" + (\"{:<8}\"*len(e_step_list)).format(*e_step_list) + \"-------\", end=\"\\r\")\n",
    "\n",
    "        print(\"\")\n",
    "        print(\"========== {} / {} (eta: {} / {} s) =========\".format(\n",
    "            fid+1, N_DAT, *np.round(gtimer.eta(\"full_loop\", fid-I_START+1, N_DAT), 1)))"
   ]
  },
  {
   "cell_type": "code",
   "execution_count": null,
   "metadata": {},
   "outputs": [],
   "source": []
  },
  {
   "cell_type": "markdown",
   "metadata": {},
   "source": [
    "## Common params"
   ]
  },
  {
   "cell_type": "code",
   "execution_count": 2,
   "metadata": {},
   "outputs": [],
   "source": [
    "RTYPE = \"indy7gripper\"\n",
    "DAT_DIR = '20210917-113211'\n",
    "I_START = 0\n",
    "I_END = 20\n",
    "\n",
    "\n",
    "CNAME_LIST = ['None', 'Tool', 'ToolReach', 'Full']\n",
    "# CNAME_LIST = ['Full'] #,'Pairwise']\n",
    "VISUALIZE = False\n",
    "PLAY_RESULT = False\n",
    "SHOW_STATE = False\n",
    "\n",
    "TIMEOUT_MOTION = 5\n",
    "MAX_TIME = 100\n",
    "MAX_ITER = 100\n",
    "\n",
    "GRASP_SAMPLE = 30\n",
    "STABLE_SAMPLE = 50\n",
    "SEARCH_SAMPLE_RATIO= 100\n",
    "MAX_SKELETONS = 30\n",
    "TIMED_COMPLETE = True\n",
    "STACK_TIMELOG = True\n",
    "IK_TRY_NUM = 10\n",
    "VERBOSE = False\n",
    "USE_MOVEIT_IK = True\n",
    "\n",
    "\n",
    "common_args = [\n",
    "            '--rtype', RTYPE,\n",
    "            '--dat_root', DAT_ROOT,\n",
    "            '--res_root', RES_ROOT,\n",
    "            '--dat_dir', DAT_DIR,\n",
    "            '--VISUALIZE', str(VISUALIZE),\n",
    "            '--PLAY_RESULT', str(PLAY_RESULT),\n",
    "            '--TIMEOUT_MOTION', str(TIMEOUT_MOTION),\n",
    "            '--MAX_TIME', str(MAX_TIME),\n",
    "            '--MAX_ITER', str(MAX_ITER), \n",
    "            '--GRASP_SAMPLE', str(GRASP_SAMPLE),\n",
    "            '--STABLE_SAMPLE', str(STABLE_SAMPLE),\n",
    "            '--SEARCH_SAMPLE_RATIO', str(SEARCH_SAMPLE_RATIO),\n",
    "            '--MAX_SKELETONS', str(MAX_SKELETONS),\n",
    "            '--TIMED_COMPLETE', str(TIMED_COMPLETE),\n",
    "            '--STACK_TIMELOG', str(STACK_TIMELOG),\n",
    "            '--IK_TRY_NUM', str(IK_TRY_NUM),\n",
    "            '--VERBOSE', str(VERBOSE),\n",
    "            '--USE_MOVEIT_IK', str(USE_MOVEIT_IK)]"
   ]
  },
  {
   "cell_type": "code",
   "execution_count": null,
   "metadata": {},
   "outputs": [],
   "source": []
  },
  {
   "cell_type": "markdown",
   "metadata": {},
   "source": [
    "# obj1 obs0"
   ]
  },
  {
   "cell_type": "code",
   "execution_count": 3,
   "metadata": {
    "scrolled": true
   },
   "outputs": [
    {
     "name": "stdout",
     "output_type": "stream",
     "text": [
      "------- 5.6     5.4     5.9     6.0     -------\n",
      "========== 1 / 20 (eta: 22.9 / 457.0 s) =========\n",
      "------- 16.9    5.2     5.8     6.2     -------\n",
      "========== 2 / 20 (eta: 56.9 / 569.3 s) =========\n",
      "------- 6.2     11.0    6.1     6.2     -------\n",
      "========== 3 / 20 (eta: 86.4 / 576.2 s) =========\n",
      "------- 9.2     6.0     7.1     6.0     -------\n",
      "========== 4 / 20 (eta: 114.7 / 573.7 s) =========\n",
      "------- 6.2     6.7     5.8     6.8     -------\n",
      "========== 5 / 20 (eta: 140.3 / 561.0 s) =========\n",
      "------- 8.4     104.8   6.3     105.7   -------\n",
      "========== 6 / 20 (eta: 365.5 / 1218.2 s) =========\n",
      "------- 6.1     5.3     10.8    6.0     -------\n",
      "========== 7 / 20 (eta: 393.7 / 1124.8 s) =========\n",
      "------- 7.1     14.4    14.8    6.3     -------\n",
      "========== 8 / 20 (eta: 436.2 / 1090.6 s) =========\n",
      "------- 5.8     12.9    6.5     27.6    -------\n",
      "========== 9 / 20 (eta: 489.0 / 1086.7 s) =========\n",
      "------- 5.7     5.6     6.0     6.2     -------\n",
      "========== 10 / 20 (eta: 512.5 / 1024.9 s) =========\n",
      "------- 12.4    5.5     6.1     6.2     -------\n",
      "========== 11 / 20 (eta: 542.6 / 986.6 s) =========\n",
      "------- 12.6    5.9     8.0     6.0     -------\n",
      "========== 12 / 20 (eta: 575.2 / 958.6 s) =========\n",
      "------- 7.2     5.4     5.9     6.1     -------\n",
      "========== 13 / 20 (eta: 599.8 / 922.8 s) =========\n",
      "------- 6.8     5.9     10.9    7.5     -------\n",
      "========== 14 / 20 (eta: 630.9 / 901.4 s) =========\n",
      "------- 5.8     6.4     9.1     6.1     -------\n",
      "========== 15 / 20 (eta: 658.4 / 877.8 s) =========\n",
      "------- 18.1    5.2     6.3     6.4     -------\n",
      "========== 16 / 20 (eta: 694.4 / 867.9 s) =========\n",
      "------- 7.1     5.4     5.8     6.2     -------\n",
      "========== 17 / 20 (eta: 718.8 / 845.7 s) =========\n",
      "------- 6.6     5.8     6.3     6.0     -------\n",
      "========== 18 / 20 (eta: 743.5 / 826.1 s) =========\n",
      "------- 7.6     5.8     6.0     7.4     -------\n",
      "========== 19 / 20 (eta: 770.3 / 810.8 s) =========\n",
      "------- 28.1    13.9    6.0     12.7    -------\n",
      "========== 20 / 20 (eta: 831.0 / 831.0 s) =========\n"
     ]
    }
   ],
   "source": [
    "FILE_OPTION = \"obj_1c_obs0\"\n",
    "run_test_loop(FILE_OPTION, I_START, I_END, common_args, CNAME_LIST=CNAME_LIST)"
   ]
  },
  {
   "cell_type": "code",
   "execution_count": null,
   "metadata": {},
   "outputs": [],
   "source": []
  },
  {
   "cell_type": "markdown",
   "metadata": {},
   "source": [
    "# obj1 obs3"
   ]
  },
  {
   "cell_type": "code",
   "execution_count": 4,
   "metadata": {
    "scrolled": true
   },
   "outputs": [
    {
     "name": "stdout",
     "output_type": "stream",
     "text": [
      "------- 6.0     5.6     6.0     6.1     -------\n",
      "========== 1 / 20 (eta: 23.8 / 475.2 s) =========\n",
      "------- 5.9     6.0     6.5     6.8     -------\n",
      "========== 2 / 20 (eta: 48.9 / 488.8 s) =========\n",
      "------- 5.5     5.3     6.9     10.6    -------\n",
      "========== 3 / 20 (eta: 77.2 / 514.6 s) =========\n",
      "------- 9.5     11.1    6.4     6.1     -------\n",
      "========== 4 / 20 (eta: 110.3 / 551.4 s) =========\n",
      "------- 17.8    12.9    27.9    6.8     -------\n",
      "========== 5 / 20 (eta: 175.7 / 703.0 s) =========\n",
      "------- 15.1    7.0     10.8    10.8    -------\n",
      "========== 6 / 20 (eta: 219.5 / 731.7 s) =========\n",
      "------- 6.8     8.9     24.2    10.4    -------\n",
      "========== 7 / 20 (eta: 269.8 / 770.8 s) =========\n",
      "------- 8.3     8.8     11.6    12.5    -------\n",
      "========== 8 / 20 (eta: 311.1 / 777.6 s) =========\n",
      "------- 6.9     6.1     5.9     6.2     -------\n",
      "========== 9 / 20 (eta: 336.1 / 746.8 s) =========\n",
      "------- 10.2    7.0     15.7    7.2     -------\n",
      "========== 10 / 20 (eta: 376.1 / 752.2 s) =========\n",
      "------- 5.3     6.5     8.3     6.2     -------\n",
      "========== 11 / 20 (eta: 402.4 / 731.6 s) =========\n",
      "------- 11.9    5.8     9.1     6.5     -------\n",
      "========== 12 / 20 (eta: 435.7 / 726.1 s) =========\n",
      "------- 17.2    6.8     11.3    6.1     -------\n",
      "========== 13 / 20 (eta: 477.1 / 734.0 s) =========\n",
      "------- 6.5     5.5     8.0     7.1     -------\n",
      "========== 14 / 20 (eta: 504.2 / 720.3 s) =========\n",
      "------- 109.4   100.0   22.0    15.7    -------\n",
      "========== 15 / 20 (eta: 751.3 / 1001.7 s) =========\n",
      "------- 8.2     7.6     6.1     6.2     -------\n",
      "========== 16 / 20 (eta: 779.4 / 974.2 s) =========\n",
      "------- 67.8    7.8     7.1     11.7    -------\n",
      "========== 17 / 20 (eta: 873.9 / 1028.1 s) =========\n",
      "------- 9.9     7.9     31.7    7.3     -------\n",
      "========== 18 / 20 (eta: 930.7 / 1034.1 s) =========\n",
      "------- 5.6     5.3     6.9     6.5     -------\n",
      "========== 19 / 20 (eta: 955.0 / 1005.2 s) =========\n",
      "------- 5.6     10.9    11.1    6.4     -------\n",
      "========== 20 / 20 (eta: 989.0 / 989.0 s) =========\n"
     ]
    }
   ],
   "source": [
    "FILE_OPTION = \"obj_1c_obs3\"\n",
    "run_test_loop(FILE_OPTION, I_START, I_END, common_args, CNAME_LIST=CNAME_LIST)"
   ]
  },
  {
   "cell_type": "code",
   "execution_count": null,
   "metadata": {},
   "outputs": [],
   "source": []
  },
  {
   "cell_type": "markdown",
   "metadata": {},
   "source": [
    "# obj1 obs5"
   ]
  },
  {
   "cell_type": "code",
   "execution_count": 5,
   "metadata": {},
   "outputs": [
    {
     "name": "stdout",
     "output_type": "stream",
     "text": [
      "------- 6.8     7.2     11.6    7.9     -------\n",
      "========== 1 / 20 (eta: 33.5 / 669.6 s) =========\n",
      "------- 91.0    8.0     25.5    31.7    -------\n",
      "========== 2 / 20 (eta: 189.7 / 1896.9 s) =========\n",
      "------- 12.3    -------\r"
     ]
    },
    {
     "ename": "KeyboardInterrupt",
     "evalue": "",
     "output_type": "error",
     "traceback": [
      "\u001b[0;31m---------------------------------------------------------------------------\u001b[0m",
      "\u001b[0;31mKeyboardInterrupt\u001b[0m                         Traceback (most recent call last)",
      "\u001b[0;32m<ipython-input-5-cc2bb11f636b>\u001b[0m in \u001b[0;36m<module>\u001b[0;34m()\u001b[0m\n\u001b[1;32m      1\u001b[0m \u001b[0mFILE_OPTION\u001b[0m \u001b[0;34m=\u001b[0m \u001b[0;34m\"obj_1c_obs5\"\u001b[0m\u001b[0;34m\u001b[0m\u001b[0m\n\u001b[0;32m----> 2\u001b[0;31m \u001b[0mrun_test_loop\u001b[0m\u001b[0;34m(\u001b[0m\u001b[0mFILE_OPTION\u001b[0m\u001b[0;34m,\u001b[0m \u001b[0mI_START\u001b[0m\u001b[0;34m,\u001b[0m \u001b[0mI_END\u001b[0m\u001b[0;34m,\u001b[0m \u001b[0mcommon_args\u001b[0m\u001b[0;34m,\u001b[0m \u001b[0mCNAME_LIST\u001b[0m\u001b[0;34m=\u001b[0m\u001b[0mCNAME_LIST\u001b[0m\u001b[0;34m)\u001b[0m\u001b[0;34m\u001b[0m\u001b[0m\n\u001b[0m",
      "\u001b[0;32m<ipython-input-1-0975b0f62d7b>\u001b[0m in \u001b[0;36mrun_test_loop\u001b[0;34m(FILE_OPTION, I_START, I_END, common_args, CNAME_LIST)\u001b[0m\n\u001b[1;32m     40\u001b[0m                                   '--data_idx', str(fid), '--file_option', FILE_OPTION, '--cname', cname,]\n\u001b[1;32m     41\u001b[0m                                  + common_args)\n\u001b[0;32m---> 42\u001b[0;31m             \u001b[0mp\u001b[0m\u001b[0;34m.\u001b[0m\u001b[0mwait\u001b[0m\u001b[0;34m(\u001b[0m\u001b[0;34m)\u001b[0m\u001b[0;34m\u001b[0m\u001b[0m\n\u001b[0m\u001b[1;32m     43\u001b[0m             \u001b[0me_step\u001b[0m \u001b[0;34m=\u001b[0m \u001b[0mnp\u001b[0m\u001b[0;34m.\u001b[0m\u001b[0mround\u001b[0m\u001b[0;34m(\u001b[0m\u001b[0mgtimer\u001b[0m\u001b[0;34m.\u001b[0m\u001b[0mtoc\u001b[0m\u001b[0;34m(\u001b[0m\u001b[0;34m\"step\"\u001b[0m\u001b[0;34m)\u001b[0m\u001b[0;34m,\u001b[0m \u001b[0;36m1\u001b[0m\u001b[0;34m)\u001b[0m\u001b[0;34m\u001b[0m\u001b[0m\n\u001b[1;32m     44\u001b[0m             \u001b[0me_step_list\u001b[0m\u001b[0;34m.\u001b[0m\u001b[0mappend\u001b[0m\u001b[0;34m(\u001b[0m\u001b[0me_step\u001b[0m\u001b[0;34m)\u001b[0m\u001b[0;34m\u001b[0m\u001b[0m\n",
      "\u001b[0;32m/usr/lib/python2.7/subprocess.pyc\u001b[0m in \u001b[0;36mwait\u001b[0;34m(self)\u001b[0m\n\u001b[1;32m   1097\u001b[0m             \u001b[0;32mwhile\u001b[0m \u001b[0mself\u001b[0m\u001b[0;34m.\u001b[0m\u001b[0mreturncode\u001b[0m \u001b[0;32mis\u001b[0m \u001b[0mNone\u001b[0m\u001b[0;34m:\u001b[0m\u001b[0;34m\u001b[0m\u001b[0m\n\u001b[1;32m   1098\u001b[0m                 \u001b[0;32mtry\u001b[0m\u001b[0;34m:\u001b[0m\u001b[0;34m\u001b[0m\u001b[0m\n\u001b[0;32m-> 1099\u001b[0;31m                     \u001b[0mpid\u001b[0m\u001b[0;34m,\u001b[0m \u001b[0msts\u001b[0m \u001b[0;34m=\u001b[0m \u001b[0m_eintr_retry_call\u001b[0m\u001b[0;34m(\u001b[0m\u001b[0mos\u001b[0m\u001b[0;34m.\u001b[0m\u001b[0mwaitpid\u001b[0m\u001b[0;34m,\u001b[0m \u001b[0mself\u001b[0m\u001b[0;34m.\u001b[0m\u001b[0mpid\u001b[0m\u001b[0;34m,\u001b[0m \u001b[0;36m0\u001b[0m\u001b[0;34m)\u001b[0m\u001b[0;34m\u001b[0m\u001b[0m\n\u001b[0m\u001b[1;32m   1100\u001b[0m                 \u001b[0;32mexcept\u001b[0m \u001b[0mOSError\u001b[0m \u001b[0;32mas\u001b[0m \u001b[0me\u001b[0m\u001b[0;34m:\u001b[0m\u001b[0;34m\u001b[0m\u001b[0m\n\u001b[1;32m   1101\u001b[0m                     \u001b[0;32mif\u001b[0m \u001b[0me\u001b[0m\u001b[0;34m.\u001b[0m\u001b[0merrno\u001b[0m \u001b[0;34m!=\u001b[0m \u001b[0merrno\u001b[0m\u001b[0;34m.\u001b[0m\u001b[0mECHILD\u001b[0m\u001b[0;34m:\u001b[0m\u001b[0;34m\u001b[0m\u001b[0m\n",
      "\u001b[0;32m/usr/lib/python2.7/subprocess.pyc\u001b[0m in \u001b[0;36m_eintr_retry_call\u001b[0;34m(func, *args)\u001b[0m\n\u001b[1;32m    123\u001b[0m     \u001b[0;32mwhile\u001b[0m \u001b[0mTrue\u001b[0m\u001b[0;34m:\u001b[0m\u001b[0;34m\u001b[0m\u001b[0m\n\u001b[1;32m    124\u001b[0m         \u001b[0;32mtry\u001b[0m\u001b[0;34m:\u001b[0m\u001b[0;34m\u001b[0m\u001b[0m\n\u001b[0;32m--> 125\u001b[0;31m             \u001b[0;32mreturn\u001b[0m \u001b[0mfunc\u001b[0m\u001b[0;34m(\u001b[0m\u001b[0;34m*\u001b[0m\u001b[0margs\u001b[0m\u001b[0;34m)\u001b[0m\u001b[0;34m\u001b[0m\u001b[0m\n\u001b[0m\u001b[1;32m    126\u001b[0m         \u001b[0;32mexcept\u001b[0m \u001b[0;34m(\u001b[0m\u001b[0mOSError\u001b[0m\u001b[0;34m,\u001b[0m \u001b[0mIOError\u001b[0m\u001b[0;34m)\u001b[0m \u001b[0;32mas\u001b[0m \u001b[0me\u001b[0m\u001b[0;34m:\u001b[0m\u001b[0;34m\u001b[0m\u001b[0m\n\u001b[1;32m    127\u001b[0m             \u001b[0;32mif\u001b[0m \u001b[0me\u001b[0m\u001b[0;34m.\u001b[0m\u001b[0merrno\u001b[0m \u001b[0;34m==\u001b[0m \u001b[0merrno\u001b[0m\u001b[0;34m.\u001b[0m\u001b[0mEINTR\u001b[0m\u001b[0;34m:\u001b[0m\u001b[0;34m\u001b[0m\u001b[0m\n",
      "\u001b[0;31mKeyboardInterrupt\u001b[0m: "
     ]
    }
   ],
   "source": [
    "FILE_OPTION = \"obj_1c_obs5\"\n",
    "run_test_loop(FILE_OPTION, I_START, I_END, common_args, CNAME_LIST=CNAME_LIST)"
   ]
  },
  {
   "cell_type": "code",
   "execution_count": null,
   "metadata": {},
   "outputs": [],
   "source": []
  },
  {
   "cell_type": "markdown",
   "metadata": {},
   "source": [
    "# obj1 obs7"
   ]
  },
  {
   "cell_type": "code",
   "execution_count": null,
   "metadata": {},
   "outputs": [],
   "source": [
    "FILE_OPTION = \"obj_1c_obs7\"\n",
    "run_test_loop(FILE_OPTION, I_START, I_END, common_args, CNAME_LIST=CNAME_LIST)"
   ]
  },
  {
   "cell_type": "code",
   "execution_count": null,
   "metadata": {},
   "outputs": [],
   "source": []
  },
  {
   "cell_type": "markdown",
   "metadata": {},
   "source": [
    "# obj3 obs3"
   ]
  },
  {
   "cell_type": "code",
   "execution_count": null,
   "metadata": {},
   "outputs": [],
   "source": [
    "FILE_OPTION = \"obj_3c_obs3\"\n",
    "run_test_loop(FILE_OPTION, I_START, I_END, common_args, CNAME_LIST=CNAME_LIST)"
   ]
  },
  {
   "cell_type": "code",
   "execution_count": null,
   "metadata": {},
   "outputs": [],
   "source": []
  },
  {
   "cell_type": "markdown",
   "metadata": {},
   "source": [
    "# obj3 obs5"
   ]
  },
  {
   "cell_type": "code",
   "execution_count": null,
   "metadata": {},
   "outputs": [],
   "source": [
    "FILE_OPTION = \"obj_3c_obs5\"\n",
    "run_test_loop(FILE_OPTION, I_START, I_END, common_args, CNAME_LIST=CNAME_LIST)"
   ]
  },
  {
   "cell_type": "code",
   "execution_count": null,
   "metadata": {},
   "outputs": [],
   "source": []
  },
  {
   "cell_type": "markdown",
   "metadata": {},
   "source": [
    "# obj3 obs7"
   ]
  },
  {
   "cell_type": "code",
   "execution_count": null,
   "metadata": {},
   "outputs": [],
   "source": [
    "FILE_OPTION = \"obj_3c_obs7\"\n",
    "run_test_loop(FILE_OPTION, I_START, I_END, common_args, CNAME_LIST=CNAME_LIST)"
   ]
  },
  {
   "cell_type": "code",
   "execution_count": null,
   "metadata": {},
   "outputs": [],
   "source": []
  },
  {
   "cell_type": "code",
   "execution_count": null,
   "metadata": {},
   "outputs": [],
   "source": []
  },
  {
   "cell_type": "code",
   "execution_count": null,
   "metadata": {},
   "outputs": [],
   "source": []
  },
  {
   "cell_type": "code",
   "execution_count": null,
   "metadata": {},
   "outputs": [],
   "source": []
  },
  {
   "cell_type": "code",
   "execution_count": null,
   "metadata": {},
   "outputs": [],
   "source": []
  },
  {
   "cell_type": "code",
   "execution_count": null,
   "metadata": {},
   "outputs": [],
   "source": []
  },
  {
   "cell_type": "code",
   "execution_count": null,
   "metadata": {},
   "outputs": [],
   "source": []
  },
  {
   "cell_type": "code",
   "execution_count": null,
   "metadata": {},
   "outputs": [],
   "source": []
  },
  {
   "cell_type": "code",
   "execution_count": null,
   "metadata": {},
   "outputs": [],
   "source": []
  },
  {
   "cell_type": "code",
   "execution_count": null,
   "metadata": {},
   "outputs": [],
   "source": []
  },
  {
   "cell_type": "code",
   "execution_count": null,
   "metadata": {},
   "outputs": [],
   "source": []
  },
  {
   "cell_type": "code",
   "execution_count": null,
   "metadata": {},
   "outputs": [],
   "source": []
  },
  {
   "cell_type": "code",
   "execution_count": null,
   "metadata": {},
   "outputs": [],
   "source": []
  }
 ],
 "metadata": {
  "kernelspec": {
   "display_name": "Python 2",
   "language": "python",
   "name": "python2"
  },
  "language_info": {
   "codemirror_mode": {
    "name": "ipython",
    "version": 2
   },
   "file_extension": ".py",
   "mimetype": "text/x-python",
   "name": "python",
   "nbconvert_exporter": "python",
   "pygments_lexer": "ipython2",
   "version": "2.7.17"
  }
 },
 "nbformat": 4,
 "nbformat_minor": 2
}
