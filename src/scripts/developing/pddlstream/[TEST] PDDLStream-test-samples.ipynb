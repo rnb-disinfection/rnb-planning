{
 "cells": [
  {
   "cell_type": "code",
   "execution_count": null,
   "metadata": {},
   "outputs": [],
   "source": [
    "# python3 /home/rnb/Projects/rnb-planning/src/pkg/planning/filtering/lattice_model/shared_lattice_predictor.py --rtype panda\n",
    "\n",
    "# import SharedArray as sa\n",
    "# ROBOT_TYPE_NAME = 'indy7gripper'\n",
    "# sa.delete(\"shm://{}.prepared\".format(ROBOT_TYPE_NAME))\n",
    "# sa.delete(\"shm://{}.grasp_img\".format(ROBOT_TYPE_NAME))\n",
    "# sa.delete(\"shm://{}.arm_img\".format(ROBOT_TYPE_NAME))\n",
    "# sa.delete(\"shm://{}.rh_vals\".format(ROBOT_TYPE_NAME))\n",
    "# sa.delete(\"shm://{}.result\".format(ROBOT_TYPE_NAME))\n",
    "# sa.delete(\"shm://{}.query_in\".format(ROBOT_TYPE_NAME))\n",
    "# sa.delete(\"shm://{}.response_out\".format(ROBOT_TYPE_NAME))\n",
    "# sa.delete(\"shm://{}.query_quit\".format(ROBOT_TYPE_NAME))"
   ]
  },
  {
   "cell_type": "code",
   "execution_count": 1,
   "metadata": {},
   "outputs": [],
   "source": [
    "from __future__ import print_function\n",
    "import os\n",
    "RNB_PLANNING_DIR = os.environ[\"RNB_PLANNING_DIR\"]\n",
    "os.chdir(os.path.join(RNB_PLANNING_DIR, 'src'))\n",
    "from pkg.controller.combined_robot import *\n",
    "from pkg.utils.utils import get_now, try_mkdir\n",
    "import subprocess\n",
    "\n",
    "DATA_PATH = os.path.join(RNB_PLANNING_DIR, \"data\")\n",
    "try_mkdir(DATA_PATH)\n",
    "\n",
    "DAT_ROOT = \"stowing-deep\"\n",
    "RES_ROOT = \"stowing-deep-result\"\n",
    "\n",
    "TEST_DATA_PATH = os.path.join(DATA_PATH, DAT_ROOT)\n",
    "try_mkdir(TEST_DATA_PATH)\n",
    "\n",
    "TEST_RESULT_PATH = os.path.join(DATA_PATH, RES_ROOT)\n",
    "try_mkdir(TEST_RESULT_PATH)\n",
    "\n",
    "HEADS = [\"plan_time\", \"length\", \"MP_count\", \"failed_MPs\", \"IK_count\", \"failed_IKs\", \"success\"]"
   ]
  },
  {
   "cell_type": "code",
   "execution_count": null,
   "metadata": {},
   "outputs": [],
   "source": []
  },
  {
   "cell_type": "markdown",
   "metadata": {},
   "source": [
    "# obj1"
   ]
  },
  {
   "cell_type": "code",
   "execution_count": 3,
   "metadata": {},
   "outputs": [],
   "source": [
    "RTYPE = \"indy7gripper\"\n",
    "DAT_DIR = '20210826-234456'\n",
    "FILE_OPTION = \"obj_1\"\n",
    "# DAT_DIR, FILE_OPTION = \"20210613-023004\", \"obj_1\"\n",
    "# DAT_DIR, FILE_OPTION = \"20210612-114040\", \"obj_1\"\n",
    "# DAT_DIR, FILE_OPTION = \"20210612-151342\", \"obj_3\"\n",
    "# DAT_DIR, FILE_OPTION = \"20210612-161536\", \"obj_3_pole\"\n",
    "\n",
    "# RTYPE = \"panda\"\n",
    "# DAT_DIR = '20210705-182244'\n",
    "# FILE_OPTION = \"obj_1\"\n",
    "# # DAT_DIR, FILE_OPTION = \"20210613-022832\", \"obj_1\"\n",
    "# # # DAT_DIR, FILE_OPTION = \"20210612-221934\", \"obj_1\"\n",
    "\n",
    "CNAME_LIST = ['None','Tool','ToolReach','Full'] #,'Pairwise']\n",
    "GRASP_SAMPLE = 100\n",
    "VISUALIZE = False\n",
    "PLAY_RESULT = False\n",
    "SHOW_STATE = False\n",
    "\n",
    "TIMEOUT_MOTION = 5\n",
    "MAX_TIME = 100\n",
    "MAX_ITER = 100\n"
   ]
  },
  {
   "cell_type": "code",
   "execution_count": null,
   "metadata": {},
   "outputs": [],
   "source": []
  },
  {
   "cell_type": "markdown",
   "metadata": {},
   "source": [
    "### test"
   ]
  },
  {
   "cell_type": "code",
   "execution_count": 3,
   "metadata": {},
   "outputs": [],
   "source": [
    "I_START = 0\n",
    "I_END = 10\n",
    "N_DAT = I_END-I_START"
   ]
  },
  {
   "cell_type": "code",
   "execution_count": 4,
   "metadata": {
    "scrolled": true
   },
   "outputs": [
    {
     "name": "stdout",
     "output_type": "stream",
     "text": [
      "------- 7.5     7.0     8.0     7.5     -------\n",
      "========== 1 / 10 (eta: 30.0 / 300.2 s) =========\n",
      "------- 9.2     8.0     7.1     7.1     -------\n",
      "========== 2 / 10 (eta: 61.4 / 306.8 s) =========\n",
      "------- 6.7     7.7     7.2     7.6     -------\n",
      "========== 3 / 10 (eta: 90.5 / 301.7 s) =========\n",
      "------- 23.8    25.9    10.1    7.7     -------\n",
      "========== 4 / 10 (eta: 158.0 / 394.9 s) =========\n",
      "------- 10.4    8.1     7.2     20.2    -------\n",
      "========== 5 / 10 (eta: 203.9 / 407.7 s) =========\n",
      "------- 7.5     8.3     6.9     7.1     -------\n",
      "========== 6 / 10 (eta: 233.7 / 389.5 s) =========\n",
      "------- 14.8    6.4     7.3     7.3     -------\n",
      "========== 7 / 10 (eta: 269.6 / 385.1 s) =========\n",
      "------- 16.7    6.7     7.3     7.8     -------\n",
      "========== 8 / 10 (eta: 308.1 / 385.1 s) =========\n",
      "------- 6.3     6.7     6.9     7.4     -------\n",
      "========== 9 / 10 (eta: 335.5 / 372.7 s) =========\n",
      "------- 15.1    7.2     7.2     7.3     -------\n",
      "========== 10 / 10 (eta: 372.2 / 372.2 s) =========\n"
     ]
    }
   ],
   "source": [
    "ROBOT_DATA_ROOT = os.path.join(TEST_DATA_PATH, RTYPE)\n",
    "ROBOT_RESULT_ROOT = os.path.join(TEST_RESULT_PATH, RTYPE)\n",
    "DATASET_PATH = os.path.join(ROBOT_DATA_ROOT, DAT_DIR)\n",
    "RESULTSET_PATH = os.path.join(ROBOT_RESULT_ROOT, DAT_DIR)\n",
    "file_list = sorted(os.listdir(DATASET_PATH))\n",
    "\n",
    "gtimer = GlobalTimer.instance()\n",
    "gtimer.reset(scale=1, timeunit='s')\n",
    "\n",
    "gtimer.tic(\"full_loop\")\n",
    "for fid in range(N_DAT):\n",
    "    e_step_list = []\n",
    "    for i_c, cname in enumerate(CNAME_LIST):\n",
    "        gtimer.tic(\"step\")\n",
    "        p = subprocess.Popen(['python', '{}src/scripts/developing/pddlstream/test_saved_scene.py'.format(RNB_PLANNING_DIR),\n",
    "                              '--rtype', RTYPE,\n",
    "                              '--dat_root', DAT_ROOT,\n",
    "                              '--res_root', RES_ROOT,\n",
    "                              '--dat_dir', DAT_DIR,\n",
    "                              '--file_option', FILE_OPTION,\n",
    "                              '--data_idx', str(fid+I_START),\n",
    "                              '--cname', cname,\n",
    "                              '--GRASP_SAMPLE', str(GRASP_SAMPLE),\n",
    "                              '--VISUALIZE', str(VISUALIZE),\n",
    "                              '--PLAY_RESULT', str(PLAY_RESULT),\n",
    "                              '--TIMEOUT_MOTION', str(TIMEOUT_MOTION),\n",
    "                              '--MAX_TIME', str(MAX_TIME),\n",
    "                              '--MAX_ITER', str(MAX_ITER)])\n",
    "        p.wait()\n",
    "        e_step = np.round(gtimer.toc(\"step\"), 1)\n",
    "        e_step_list.append(e_step)\n",
    "        print(\"------- \" + (\"{:<8}\"*len(e_step_list)).format(*e_step_list) + \"-------\", end=\"\\r\")\n",
    "        \n",
    "    print(\"\")\n",
    "    print(\"========== {} / {} (eta: {} / {} s) =========\".format(\n",
    "        fid+1, N_DAT, *np.round(gtimer.eta(\"full_loop\", fid+1, N_DAT), 1)))"
   ]
  },
  {
   "cell_type": "code",
   "execution_count": null,
   "metadata": {},
   "outputs": [],
   "source": []
  },
  {
   "cell_type": "markdown",
   "metadata": {},
   "source": [
    "# obj3"
   ]
  },
  {
   "cell_type": "code",
   "execution_count": 6,
   "metadata": {},
   "outputs": [],
   "source": [
    "RTYPE = \"indy7gripper\"\n",
    "DAT_DIR = '20210707-034434'\n",
    "FILE_OPTION = \"obj_3\"\n",
    "# DAT_DIR, FILE_OPTION = \"20210613-023004\", \"obj_1\"\n",
    "# DAT_DIR, FILE_OPTION = \"20210612-114040\", \"obj_1\"\n",
    "# DAT_DIR, FILE_OPTION = \"20210612-151342\", \"obj_3\"\n",
    "# DAT_DIR, FILE_OPTION = \"20210612-161536\", \"obj_3_pole\"\n",
    "\n",
    "# RTYPE = \"panda\"\n",
    "# DAT_DIR = '20210705-182244'\n",
    "# FILE_OPTION = \"obj_3\"\n",
    "# # DAT_DIR, FILE_OPTION = \"20210613-022832\", \"obj_1\"\n",
    "# # # DAT_DIR, FILE_OPTION = \"20210612-221934\", \"obj_1\"\n",
    "\n",
    "# CNAME_LIST = ['None','Tool','ToolReach','Full'] #,'Pairwise']\n",
    "# GRASP_SAMPLE = 100\n",
    "# VISUALIZE = True\n",
    "# PLAY_RESULT = True\n",
    "# TIMEOUT_MOTION = 5\n",
    "# MAX_TIME = 100\n",
    "# SHOW_STATE = False\n"
   ]
  },
  {
   "cell_type": "code",
   "execution_count": 7,
   "metadata": {},
   "outputs": [],
   "source": [
    "I_START=0\n",
    "N_DAT = 50-I_START"
   ]
  },
  {
   "cell_type": "markdown",
   "metadata": {},
   "source": [
    "### test"
   ]
  },
  {
   "cell_type": "code",
   "execution_count": 8,
   "metadata": {},
   "outputs": [
    {
     "name": "stdout",
     "output_type": "stream",
     "text": [
      "------- 16.2    5.0     6.7     6.1     -------\n",
      "========== 1 / 50 (eta: 34.0 / 1699.7 s) =========\n",
      "------- 6.8     19.3    8.1     6.5     -------\n",
      "========== 2 / 50 (eta: 74.7 / 1867.7 s) =========\n",
      "------- 99.8    12.4    22.8    6.6     -------\n",
      "========== 3 / 50 (eta: 216.3 / 3605.6 s) =========\n",
      "------- 104.8   25.2    8.0     55.8    -------\n",
      "========== 4 / 50 (eta: 410.2 / 5127.2 s) =========\n",
      "------- 91.9    6.9     6.7     5.9     -------\n",
      "========== 5 / 50 (eta: 521.6 / 5215.6 s) =========\n",
      "------- 34.3    5.1     7.2     8.0     -------\n",
      "========== 6 / 50 (eta: 576.2 / 4801.3 s) =========\n",
      "------- 7.5     7.1     6.0     6.3     -------\n",
      "========== 7 / 50 (eta: 603.0 / 4307.1 s) =========\n",
      "------- 22.0    6.3     5.9     5.8     -------\n",
      "========== 8 / 50 (eta: 643.1 / 4019.2 s) =========\n",
      "------- 67.5    5.5     5.9     5.6     -------\n",
      "========== 9 / 50 (eta: 727.6 / 4042.3 s) =========\n",
      "------- 20.2    23.7    5.8     8.6     -------\n",
      "========== 10 / 50 (eta: 785.9 / 3929.5 s) =========\n",
      "------- 8.6     12.5    6.8     6.0     -------\n",
      "========== 11 / 50 (eta: 819.7 / 3726.0 s) =========\n",
      "------- 11.2    5.5     6.1     6.4     -------\n",
      "========== 12 / 50 (eta: 848.9 / 3537.3 s) =========\n",
      "------- 43.9    106.1   105.3   13.7    -------\n",
      "========== 13 / 50 (eta: 1118.0 / 4299.8 s) =========\n",
      "------- 27.4    6.6     7.6     6.8     -------\n",
      "========== 14 / 50 (eta: 1166.3 / 4165.2 s) =========\n",
      "------- 17.4    19.9    7.0     7.1     -------\n",
      "========== 15 / 50 (eta: 1217.7 / 4059.1 s) =========\n",
      "------- 7.4     14.4    6.2     14.3    -------\n",
      "========== 16 / 50 (eta: 1260.0 / 3937.4 s) =========\n",
      "------- 15.3    6.6     6.9     6.1     -------\n",
      "========== 17 / 50 (eta: 1294.8 / 3808.2 s) =========\n",
      "------- 24.2    5.4     8.3     6.1     -------\n",
      "========== 18 / 50 (eta: 1338.8 / 3718.9 s) =========\n",
      "------- 104.8   16.2    9.0     9.7     -------\n",
      "========== 19 / 50 (eta: 1478.5 / 3890.8 s) =========\n",
      "------- 48.6    5.5     7.4     6.6     -------\n",
      "========== 20 / 50 (eta: 1546.6 / 3866.6 s) =========\n",
      "------- 72.6    18.8    5.9     6.0     -------\n",
      "========== 21 / 50 (eta: 1650.0 / 3928.6 s) =========\n",
      "------- 14.0    5.0     14.5    5.9     -------\n",
      "========== 22 / 50 (eta: 1689.6 / 3839.9 s) =========\n",
      "------- 43.7    31.7    106.5   7.3     -------\n",
      "========== 23 / 50 (eta: 1878.8 / 4084.3 s) =========\n",
      "------- 28.2    6.6     9.1     9.0     -------\n",
      "========== 24 / 50 (eta: 1931.6 / 4024.2 s) =========\n",
      "------- 26.7    7.8     7.0     6.4     -------\n",
      "========== 25 / 50 (eta: 1979.5 / 3958.9 s) =========\n",
      "------- 23.2    5.5     6.0     6.3     -------\n",
      "========== 26 / 50 (eta: 2020.5 / 3885.5 s) =========\n",
      "------- 6.6     6.5     6.0     6.1     -------\n",
      "========== 27 / 50 (eta: 2045.7 / 3788.3 s) =========\n",
      "------- 32.4    9.2     6.4     7.6     -------\n",
      "========== 28 / 50 (eta: 2101.3 / 3752.2 s) =========\n",
      "------- 10.1    6.0     5.7     6.5     -------\n",
      "========== 29 / 50 (eta: 2129.6 / 3671.7 s) =========\n",
      "------- 36.3    5.5     6.3     12.8    -------\n",
      "========== 30 / 50 (eta: 2190.5 / 3650.9 s) =========\n",
      "------- 42.9    7.8     5.9     6.7     -------\n",
      "========== 31 / 50 (eta: 2253.8 / 3635.2 s) =========\n",
      "------- 27.3    7.8     5.9     6.1     -------\n",
      "========== 32 / 50 (eta: 2300.8 / 3595.1 s) =========\n",
      "------- 6.7     10.0    6.4     12.9    -------\n",
      "========== 33 / 50 (eta: 2336.9 / 3540.7 s) =========\n",
      "------- 5.5     31.0    7.9     5.8     -------\n",
      "========== 34 / 50 (eta: 2387.1 / 3510.5 s) =========\n",
      "------- 7.5     5.3     7.8     5.8     -------\n",
      "========== 35 / 50 (eta: 2413.4 / 3447.8 s) =========\n",
      "------- 22.3    58.1    7.0     6.1     -------\n",
      "========== 36 / 50 (eta: 2507.0 / 3481.9 s) =========\n",
      "------- 104.9   106.0   6.7     9.0     -------\n",
      "========== 37 / 50 (eta: 2733.5 / 3694.0 s) =========\n",
      "------- 18.4    6.0     6.8     9.0     -------\n",
      "========== 38 / 50 (eta: 2773.7 / 3649.6 s) =========\n",
      "------- 77.3    7.5     10.6    6.7     -------\n",
      "========== 39 / 50 (eta: 2875.8 / 3686.9 s) =========\n",
      "------- 25.1    6.8     8.2     13.8    -------\n",
      "========== 40 / 50 (eta: 2929.6 / 3662.0 s) =========\n",
      "------- 7.6     6.2     6.3     7.1     -------\n",
      "========== 41 / 50 (eta: 2956.8 / 3605.8 s) =========\n",
      "------- 12.7    7.3     5.9     6.1     -------\n",
      "========== 42 / 50 (eta: 2988.9 / 3558.2 s) =========\n",
      "------- 60.0    6.4     6.3     6.8     -------\n",
      "========== 43 / 50 (eta: 3068.5 / 3568.0 s) =========\n",
      "------- 10.0    10.9    8.5     7.4     -------\n",
      "========== 44 / 50 (eta: 3105.3 / 3528.8 s) =========\n",
      "------- 11.7    6.5     8.2     7.4     -------\n",
      "========== 45 / 50 (eta: 3139.3 / 3488.1 s) =========\n",
      "------- 19.1    35.3    6.4     8.4     -------\n",
      "========== 46 / 50 (eta: 3208.5 / 3487.5 s) =========\n",
      "------- 57.0    24.4    10.8    8.5     -------\n",
      "========== 47 / 50 (eta: 3309.3 / 3520.5 s) =========\n",
      "------- 28.5    6.4     5.8     6.0     -------\n",
      "========== 48 / 50 (eta: 3356.0 / 3495.9 s) =========\n",
      "------- 13.5    8.9     14.0    6.3     -------\n",
      "========== 49 / 50 (eta: 3398.8 / 3468.2 s) =========\n",
      "------- 7.2     7.8     5.9     6.1     -------\n",
      "========== 50 / 50 (eta: 3425.8 / 3425.8 s) =========\n"
     ]
    }
   ],
   "source": [
    "ROBOT_DATA_ROOT = os.path.join(TEST_DATA_PATH, RTYPE)\n",
    "ROBOT_RESULT_ROOT = os.path.join(TEST_RESULT_PATH, RTYPE)\n",
    "DATASET_PATH = os.path.join(ROBOT_DATA_ROOT, DAT_DIR)\n",
    "RESULTSET_PATH = os.path.join(ROBOT_RESULT_ROOT, DAT_DIR)\n",
    "file_list = sorted(os.listdir(DATASET_PATH))\n",
    "\n",
    "gtimer = GlobalTimer.instance()\n",
    "gtimer.reset(scale=1, timeunit='s')\n",
    "\n",
    "gtimer.tic(\"full_loop\")\n",
    "for fid in range(N_DAT):\n",
    "    e_step_list = []\n",
    "    for i_c, cname in enumerate(CNAME_LIST):\n",
    "        gtimer.tic(\"step\")\n",
    "        p = subprocess.Popen(['python', '{}src/scripts/developing/pddlstream/test_saved_scene.py'.format(RNB_PLANNING_DIR),\n",
    "                              '--rtype', RTYPE,\n",
    "                              '--dat_root', DAT_ROOT,\n",
    "                              '--res_root', RES_ROOT,\n",
    "                              '--dat_dir', DAT_DIR,\n",
    "                              '--file_option', FILE_OPTION,\n",
    "                              '--data_idx', str(fid+I_START),\n",
    "                              '--cname', cname,\n",
    "                              '--GRASP_SAMPLE', str(GRASP_SAMPLE),\n",
    "                              '--VISUALIZE', str(VISUALIZE),\n",
    "                              '--PLAY_RESULT', str(PLAY_RESULT),\n",
    "                              '--TIMEOUT_MOTION', str(TIMEOUT_MOTION),\n",
    "                              '--MAX_TIME', str(MAX_TIME),\n",
    "                              '--MAX_ITER', str(MAX_ITER)])\n",
    "        p.wait()\n",
    "        e_step = np.round(gtimer.toc(\"step\"), 1)\n",
    "        e_step_list.append(e_step)\n",
    "        print(\"------- \" + (\"{:<8}\"*len(e_step_list)).format(*e_step_list) + \"-------\", end=\"\\r\")\n",
    "        \n",
    "    print(\"\")\n",
    "    print(\"========== {} / {} (eta: {} / {} s) =========\".format(\n",
    "        fid+1, N_DAT, *np.round(gtimer.eta(\"full_loop\", fid+1, N_DAT), 1)))"
   ]
  },
  {
   "cell_type": "code",
   "execution_count": null,
   "metadata": {},
   "outputs": [],
   "source": []
  },
  {
   "cell_type": "code",
   "execution_count": null,
   "metadata": {},
   "outputs": [],
   "source": []
  },
  {
   "cell_type": "markdown",
   "metadata": {},
   "source": [
    "# obj3_pole"
   ]
  },
  {
   "cell_type": "code",
   "execution_count": 4,
   "metadata": {},
   "outputs": [],
   "source": [
    "RTYPE = \"indy7gripper\"\n",
    "DAT_DIR = '20210707-034434'\n",
    "# DAT_DIR = '20210702-152658'\n",
    "FILE_OPTION = \"obj_3_pole\"\n",
    "# DAT_DIR, FILE_OPTION = \"20210613-023004\", \"obj_1\"\n",
    "# DAT_DIR, FILE_OPTION = \"20210612-114040\", \"obj_1\"\n",
    "# DAT_DIR, FILE_OPTION = \"20210612-151342\", \"obj_3\"\n",
    "# DAT_DIR, FILE_OPTION = \"20210612-161536\", \"obj_3_pole\"\n",
    "\n",
    "# RTYPE = \"panda\"\n",
    "# DAT_DIR = '20210705-182244'\n",
    "# FILE_OPTION = \"obj_3_pole\"\n",
    "# # DAT_DIR, FILE_OPTION = \"20210613-022832\", \"obj_1\"\n",
    "# # # DAT_DIR, FILE_OPTION = \"20210612-221934\", \"obj_1\"\n",
    "\n",
    "# CNAME_LIST = ['None','Tool','ToolReach','Full'] #,'Pairwise']\n",
    "# GRASP_SAMPLE = 100\n",
    "# VISUALIZE = True\n",
    "# PLAY_RESULT = True\n",
    "# TIMEOUT_MOTION = 5\n",
    "# MAX_TIME = 100\n",
    "# SHOW_STATE = False\n"
   ]
  },
  {
   "cell_type": "code",
   "execution_count": 5,
   "metadata": {},
   "outputs": [],
   "source": [
    "I_START=0\n",
    "N_DAT = 50-I_START"
   ]
  },
  {
   "cell_type": "markdown",
   "metadata": {},
   "source": [
    "### test"
   ]
  },
  {
   "cell_type": "code",
   "execution_count": 6,
   "metadata": {
    "scrolled": true
   },
   "outputs": [
    {
     "ename": "OSError",
     "evalue": "[Errno 2] No such file or directory: '/home/rnb/Projects/rnb-planning/data/stowing-deep/indy7gripper/20210707-034434'",
     "output_type": "error",
     "traceback": [
      "\u001b[0;31m---------------------------------------------------------------------------\u001b[0m",
      "\u001b[0;31mOSError\u001b[0m                                   Traceback (most recent call last)",
      "\u001b[0;32m<ipython-input-6-9e979154423c>\u001b[0m in \u001b[0;36m<module>\u001b[0;34m()\u001b[0m\n\u001b[1;32m      3\u001b[0m \u001b[0mDATASET_PATH\u001b[0m \u001b[0;34m=\u001b[0m \u001b[0mos\u001b[0m\u001b[0;34m.\u001b[0m\u001b[0mpath\u001b[0m\u001b[0;34m.\u001b[0m\u001b[0mjoin\u001b[0m\u001b[0;34m(\u001b[0m\u001b[0mROBOT_DATA_ROOT\u001b[0m\u001b[0;34m,\u001b[0m \u001b[0mDAT_DIR\u001b[0m\u001b[0;34m)\u001b[0m\u001b[0;34m\u001b[0m\u001b[0m\n\u001b[1;32m      4\u001b[0m \u001b[0mRESULTSET_PATH\u001b[0m \u001b[0;34m=\u001b[0m \u001b[0mos\u001b[0m\u001b[0;34m.\u001b[0m\u001b[0mpath\u001b[0m\u001b[0;34m.\u001b[0m\u001b[0mjoin\u001b[0m\u001b[0;34m(\u001b[0m\u001b[0mROBOT_RESULT_ROOT\u001b[0m\u001b[0;34m,\u001b[0m \u001b[0mDAT_DIR\u001b[0m\u001b[0;34m)\u001b[0m\u001b[0;34m\u001b[0m\u001b[0m\n\u001b[0;32m----> 5\u001b[0;31m \u001b[0mfile_list\u001b[0m \u001b[0;34m=\u001b[0m \u001b[0msorted\u001b[0m\u001b[0;34m(\u001b[0m\u001b[0mos\u001b[0m\u001b[0;34m.\u001b[0m\u001b[0mlistdir\u001b[0m\u001b[0;34m(\u001b[0m\u001b[0mDATASET_PATH\u001b[0m\u001b[0;34m)\u001b[0m\u001b[0;34m)\u001b[0m\u001b[0;34m\u001b[0m\u001b[0m\n\u001b[0m\u001b[1;32m      6\u001b[0m \u001b[0;34m\u001b[0m\u001b[0m\n\u001b[1;32m      7\u001b[0m \u001b[0mgtimer\u001b[0m \u001b[0;34m=\u001b[0m \u001b[0mGlobalTimer\u001b[0m\u001b[0;34m.\u001b[0m\u001b[0minstance\u001b[0m\u001b[0;34m(\u001b[0m\u001b[0;34m)\u001b[0m\u001b[0;34m\u001b[0m\u001b[0m\n",
      "\u001b[0;31mOSError\u001b[0m: [Errno 2] No such file or directory: '/home/rnb/Projects/rnb-planning/data/stowing-deep/indy7gripper/20210707-034434'"
     ]
    }
   ],
   "source": [
    "ROBOT_DATA_ROOT = os.path.join(TEST_DATA_PATH, RTYPE)\n",
    "ROBOT_RESULT_ROOT = os.path.join(TEST_RESULT_PATH, RTYPE)\n",
    "DATASET_PATH = os.path.join(ROBOT_DATA_ROOT, DAT_DIR)\n",
    "RESULTSET_PATH = os.path.join(ROBOT_RESULT_ROOT, DAT_DIR)\n",
    "file_list = sorted(os.listdir(DATASET_PATH))\n",
    "\n",
    "gtimer = GlobalTimer.instance()\n",
    "gtimer.reset(scale=1, timeunit='s')\n",
    "gtimer.tic(\"full_loop\")\n",
    "for fid in range(N_DAT):\n",
    "    e_step_list = []\n",
    "    for i_c, cname in enumerate(CNAME_LIST):\n",
    "        gtimer.tic(\"step\")\n",
    "        p = subprocess.Popen(['python', '{}src/scripts/developing/pddlstream/test_saved_scene.py'.format(RNB_PLANNING_DIR),\n",
    "                              '--rtype', RTYPE,\n",
    "                              '--dat_root', DAT_ROOT,\n",
    "                              '--res_root', RES_ROOT,\n",
    "                              '--dat_dir', DAT_DIR,\n",
    "                              '--file_option', FILE_OPTION,\n",
    "                              '--data_idx', str(fid+I_START),\n",
    "                              '--cname', cname,\n",
    "                              '--GRASP_SAMPLE', str(GRASP_SAMPLE),\n",
    "                              '--VISUALIZE', str(VISUALIZE),\n",
    "                              '--PLAY_RESULT', str(PLAY_RESULT),\n",
    "                              '--TIMEOUT_MOTION', str(TIMEOUT_MOTION),\n",
    "                              '--MAX_TIME', str(MAX_TIME),\n",
    "                              '--MAX_ITER', str(MAX_ITER)])\n",
    "        p.wait()\n",
    "        e_step = np.round(gtimer.toc(\"step\"), 1)\n",
    "        e_step_list.append(e_step)\n",
    "        print(\"------- \" + (\"{:<8}\"*len(e_step_list)).format(*e_step_list) + \"-------\", end=\"\\r\")\n",
    "        \n",
    "    print(\"\")\n",
    "    print(\"========== {} / {} (eta: {} / {} s) =========\".format(\n",
    "        fid+1, N_DAT, *np.round(gtimer.eta(\"full_loop\", fid+1, N_DAT), 1)))"
   ]
  },
  {
   "cell_type": "code",
   "execution_count": null,
   "metadata": {},
   "outputs": [],
   "source": []
  },
  {
   "cell_type": "markdown",
   "metadata": {},
   "source": [
    "# obj3_hard"
   ]
  },
  {
   "cell_type": "code",
   "execution_count": 7,
   "metadata": {},
   "outputs": [],
   "source": [
    "RTYPE = \"indy7gripper\"\n",
    "DAT_DIR = '20210826-234456'\n",
    "# DAT_DIR = '20210702-152658'\n",
    "FILE_OPTION = \"obj_3_hard\"\n",
    "# DAT_DIR, FILE_OPTION = \"20210613-023004\", \"obj_1\"\n",
    "# DAT_DIR, FILE_OPTION = \"20210612-114040\", \"obj_1\"\n",
    "# DAT_DIR, FILE_OPTION = \"20210612-151342\", \"obj_3\"\n",
    "# DAT_DIR, FILE_OPTION = \"20210612-161536\", \"obj_3_pole\"\n",
    "\n",
    "# RTYPE = \"panda\"\n",
    "# DAT_DIR = '20210705-182244'\n",
    "# FILE_OPTION = \"obj_3_pole\"\n",
    "# # DAT_DIR, FILE_OPTION = \"20210613-022832\", \"obj_1\"\n",
    "# # # DAT_DIR, FILE_OPTION = \"20210612-221934\", \"obj_1\"\n",
    "\n",
    "CNAME_LIST = ['ToolReach','Full'] #,'Pairwise']\n",
    "# CNAME_LIST = ['ToolReach'] #,'Pairwise']\n",
    "GRASP_SAMPLE = 100\n",
    "VISUALIZE = False\n",
    "PLAY_RESULT = False\n",
    "SHOW_STATE = False\n",
    "\n",
    "TIMEOUT_MOTION = 5\n",
    "MAX_TIME = 100\n",
    "MAX_ITER = 100"
   ]
  },
  {
   "cell_type": "code",
   "execution_count": 8,
   "metadata": {},
   "outputs": [],
   "source": [
    "I_START=0\n",
    "I_END = 100\n",
    "N_DAT = I_END-I_START"
   ]
  },
  {
   "cell_type": "markdown",
   "metadata": {},
   "source": [
    "### test"
   ]
  },
  {
   "cell_type": "code",
   "execution_count": 9,
   "metadata": {},
   "outputs": [
    {
     "name": "stdout",
     "output_type": "stream",
     "text": [
      "------- 107.5   103.0   -------\n",
      "========== 1 / 100 (eta: 210.4 / 21042.2 s) =========\n",
      "------- 4.5     25.3    -------\n",
      "========== 2 / 100 (eta: 240.3 / 12013.9 s) =========\n",
      "------- 103.0   3.8     -------\n",
      "========== 3 / 100 (eta: 347.0 / 11567.3 s) =========\n",
      "------- 103.2   105.8   -------\n",
      "========== 4 / 100 (eta: 556.0 / 13900.6 s) =========\n",
      "------- 92.2    31.4    -------\n",
      "========== 5 / 100 (eta: 679.6 / 13592.5 s) =========\n",
      "------- 4.0     8.9     -------\n",
      "========== 6 / 100 (eta: 692.6 / 11542.6 s) =========\n",
      "------- 24.4    3.6     -------\n",
      "========== 7 / 100 (eta: 720.6 / 10294.5 s) =========\n",
      "------- 103.0   113.0   -------\n",
      "========== 8 / 100 (eta: 936.5 / 11706.6 s) =========\n",
      "------- 105.5   103.3   -------\n",
      "========== 9 / 100 (eta: 1145.3 / 12725.5 s) =========\n",
      "------- 102.7   103.1   -------\n",
      "========== 10 / 100 (eta: 1351.1 / 13511.2 s) =========\n",
      "------- 104.8   103.3   -------\n",
      "========== 11 / 100 (eta: 1559.2 / 14174.9 s) =========\n",
      "------- 102.8   107.5   -------\n",
      "========== 12 / 100 (eta: 1769.5 / 14745.9 s) =========\n",
      "------- 25.4    103.3   -------\n",
      "========== 13 / 100 (eta: 1898.2 / 14601.8 s) =========\n",
      "------- 110.0   102.9   -------\n",
      "========== 14 / 100 (eta: 2111.2 / 15079.9 s) =========\n",
      "------- 104.8   103.7   -------\n",
      "========== 15 / 100 (eta: 2319.7 / 15464.6 s) =========\n",
      "------- 105.4   102.8   -------\n",
      "========== 16 / 100 (eta: 2527.9 / 15799.4 s) =========\n",
      "------- 104.9   4.3     -------\n",
      "========== 17 / 100 (eta: 2637.1 / 15512.1 s) =========\n",
      "------- 25.1    25.0    -------\n",
      "========== 18 / 100 (eta: 2687.2 / 14928.8 s) =========\n",
      "------- 103.4   103.0   -------\n",
      "========== 19 / 100 (eta: 2893.5 / 15229.2 s) =========\n",
      "------- 54.4    30.6    -------\n",
      "========== 20 / 100 (eta: 2978.6 / 14892.9 s) =========\n",
      "------- 109.6   -------\r"
     ]
    },
    {
     "ename": "KeyboardInterrupt",
     "evalue": "",
     "output_type": "error",
     "traceback": [
      "\u001b[0;31m---------------------------------------------------------------------------\u001b[0m",
      "\u001b[0;31mKeyboardInterrupt\u001b[0m                         Traceback (most recent call last)",
      "\u001b[0;32m<ipython-input-9-9e979154423c>\u001b[0m in \u001b[0;36m<module>\u001b[0;34m()\u001b[0m\n\u001b[1;32m     26\u001b[0m                               \u001b[0;34m'--MAX_TIME'\u001b[0m\u001b[0;34m,\u001b[0m \u001b[0mstr\u001b[0m\u001b[0;34m(\u001b[0m\u001b[0mMAX_TIME\u001b[0m\u001b[0;34m)\u001b[0m\u001b[0;34m,\u001b[0m\u001b[0;34m\u001b[0m\u001b[0m\n\u001b[1;32m     27\u001b[0m                               '--MAX_ITER', str(MAX_ITER)])\n\u001b[0;32m---> 28\u001b[0;31m         \u001b[0mp\u001b[0m\u001b[0;34m.\u001b[0m\u001b[0mwait\u001b[0m\u001b[0;34m(\u001b[0m\u001b[0;34m)\u001b[0m\u001b[0;34m\u001b[0m\u001b[0m\n\u001b[0m\u001b[1;32m     29\u001b[0m         \u001b[0me_step\u001b[0m \u001b[0;34m=\u001b[0m \u001b[0mnp\u001b[0m\u001b[0;34m.\u001b[0m\u001b[0mround\u001b[0m\u001b[0;34m(\u001b[0m\u001b[0mgtimer\u001b[0m\u001b[0;34m.\u001b[0m\u001b[0mtoc\u001b[0m\u001b[0;34m(\u001b[0m\u001b[0;34m\"step\"\u001b[0m\u001b[0;34m)\u001b[0m\u001b[0;34m,\u001b[0m \u001b[0;36m1\u001b[0m\u001b[0;34m)\u001b[0m\u001b[0;34m\u001b[0m\u001b[0m\n\u001b[1;32m     30\u001b[0m         \u001b[0me_step_list\u001b[0m\u001b[0;34m.\u001b[0m\u001b[0mappend\u001b[0m\u001b[0;34m(\u001b[0m\u001b[0me_step\u001b[0m\u001b[0;34m)\u001b[0m\u001b[0;34m\u001b[0m\u001b[0m\n",
      "\u001b[0;32m/usr/lib/python2.7/subprocess.pyc\u001b[0m in \u001b[0;36mwait\u001b[0;34m(self)\u001b[0m\n\u001b[1;32m   1097\u001b[0m             \u001b[0;32mwhile\u001b[0m \u001b[0mself\u001b[0m\u001b[0;34m.\u001b[0m\u001b[0mreturncode\u001b[0m \u001b[0;32mis\u001b[0m \u001b[0mNone\u001b[0m\u001b[0;34m:\u001b[0m\u001b[0;34m\u001b[0m\u001b[0m\n\u001b[1;32m   1098\u001b[0m                 \u001b[0;32mtry\u001b[0m\u001b[0;34m:\u001b[0m\u001b[0;34m\u001b[0m\u001b[0m\n\u001b[0;32m-> 1099\u001b[0;31m                     \u001b[0mpid\u001b[0m\u001b[0;34m,\u001b[0m \u001b[0msts\u001b[0m \u001b[0;34m=\u001b[0m \u001b[0m_eintr_retry_call\u001b[0m\u001b[0;34m(\u001b[0m\u001b[0mos\u001b[0m\u001b[0;34m.\u001b[0m\u001b[0mwaitpid\u001b[0m\u001b[0;34m,\u001b[0m \u001b[0mself\u001b[0m\u001b[0;34m.\u001b[0m\u001b[0mpid\u001b[0m\u001b[0;34m,\u001b[0m \u001b[0;36m0\u001b[0m\u001b[0;34m)\u001b[0m\u001b[0;34m\u001b[0m\u001b[0m\n\u001b[0m\u001b[1;32m   1100\u001b[0m                 \u001b[0;32mexcept\u001b[0m \u001b[0mOSError\u001b[0m \u001b[0;32mas\u001b[0m \u001b[0me\u001b[0m\u001b[0;34m:\u001b[0m\u001b[0;34m\u001b[0m\u001b[0m\n\u001b[1;32m   1101\u001b[0m                     \u001b[0;32mif\u001b[0m \u001b[0me\u001b[0m\u001b[0;34m.\u001b[0m\u001b[0merrno\u001b[0m \u001b[0;34m!=\u001b[0m \u001b[0merrno\u001b[0m\u001b[0;34m.\u001b[0m\u001b[0mECHILD\u001b[0m\u001b[0;34m:\u001b[0m\u001b[0;34m\u001b[0m\u001b[0m\n",
      "\u001b[0;32m/usr/lib/python2.7/subprocess.pyc\u001b[0m in \u001b[0;36m_eintr_retry_call\u001b[0;34m(func, *args)\u001b[0m\n\u001b[1;32m    123\u001b[0m     \u001b[0;32mwhile\u001b[0m \u001b[0mTrue\u001b[0m\u001b[0;34m:\u001b[0m\u001b[0;34m\u001b[0m\u001b[0m\n\u001b[1;32m    124\u001b[0m         \u001b[0;32mtry\u001b[0m\u001b[0;34m:\u001b[0m\u001b[0;34m\u001b[0m\u001b[0m\n\u001b[0;32m--> 125\u001b[0;31m             \u001b[0;32mreturn\u001b[0m \u001b[0mfunc\u001b[0m\u001b[0;34m(\u001b[0m\u001b[0;34m*\u001b[0m\u001b[0margs\u001b[0m\u001b[0;34m)\u001b[0m\u001b[0;34m\u001b[0m\u001b[0m\n\u001b[0m\u001b[1;32m    126\u001b[0m         \u001b[0;32mexcept\u001b[0m \u001b[0;34m(\u001b[0m\u001b[0mOSError\u001b[0m\u001b[0;34m,\u001b[0m \u001b[0mIOError\u001b[0m\u001b[0;34m)\u001b[0m \u001b[0;32mas\u001b[0m \u001b[0me\u001b[0m\u001b[0;34m:\u001b[0m\u001b[0;34m\u001b[0m\u001b[0m\n\u001b[1;32m    127\u001b[0m             \u001b[0;32mif\u001b[0m \u001b[0me\u001b[0m\u001b[0;34m.\u001b[0m\u001b[0merrno\u001b[0m \u001b[0;34m==\u001b[0m \u001b[0merrno\u001b[0m\u001b[0;34m.\u001b[0m\u001b[0mEINTR\u001b[0m\u001b[0;34m:\u001b[0m\u001b[0;34m\u001b[0m\u001b[0m\n",
      "\u001b[0;31mKeyboardInterrupt\u001b[0m: "
     ]
    }
   ],
   "source": [
    "ROBOT_DATA_ROOT = os.path.join(TEST_DATA_PATH, RTYPE)\n",
    "ROBOT_RESULT_ROOT = os.path.join(TEST_RESULT_PATH, RTYPE)\n",
    "DATASET_PATH = os.path.join(ROBOT_DATA_ROOT, DAT_DIR)\n",
    "RESULTSET_PATH = os.path.join(ROBOT_RESULT_ROOT, DAT_DIR)\n",
    "file_list = sorted(os.listdir(DATASET_PATH))\n",
    "\n",
    "gtimer = GlobalTimer.instance()\n",
    "gtimer.reset(scale=1, timeunit='s')\n",
    "gtimer.tic(\"full_loop\")\n",
    "for fid in range(N_DAT):\n",
    "    e_step_list = []\n",
    "    for i_c, cname in enumerate(CNAME_LIST):\n",
    "        gtimer.tic(\"step\")\n",
    "        p = subprocess.Popen(['python', '{}src/scripts/developing/pddlstream/test_saved_scene.py'.format(RNB_PLANNING_DIR),\n",
    "                              '--rtype', RTYPE,\n",
    "                              '--dat_root', DAT_ROOT,\n",
    "                              '--res_root', RES_ROOT,\n",
    "                              '--dat_dir', DAT_DIR,\n",
    "                              '--file_option', FILE_OPTION,\n",
    "                              '--data_idx', str(fid+I_START),\n",
    "                              '--cname', cname,\n",
    "                              '--GRASP_SAMPLE', str(GRASP_SAMPLE),\n",
    "                              '--VISUALIZE', str(VISUALIZE),\n",
    "                              '--PLAY_RESULT', str(PLAY_RESULT),\n",
    "                              '--TIMEOUT_MOTION', str(TIMEOUT_MOTION),\n",
    "                              '--MAX_TIME', str(MAX_TIME),\n",
    "                              '--MAX_ITER', str(MAX_ITER)])\n",
    "        p.wait()\n",
    "        e_step = np.round(gtimer.toc(\"step\"), 1)\n",
    "        e_step_list.append(e_step)\n",
    "        print(\"------- \" + (\"{:<8}\"*len(e_step_list)).format(*e_step_list) + \"-------\", end=\"\\r\")\n",
    "        \n",
    "    print(\"\")\n",
    "    print(\"========== {} / {} (eta: {} / {} s) =========\".format(\n",
    "        fid+1, N_DAT, *np.round(gtimer.eta(\"full_loop\", fid+1, N_DAT), 1)))"
   ]
  },
  {
   "cell_type": "code",
   "execution_count": null,
   "metadata": {},
   "outputs": [],
   "source": []
  },
  {
   "cell_type": "code",
   "execution_count": null,
   "metadata": {},
   "outputs": [],
   "source": []
  },
  {
   "cell_type": "code",
   "execution_count": null,
   "metadata": {},
   "outputs": [],
   "source": []
  },
  {
   "cell_type": "code",
   "execution_count": null,
   "metadata": {},
   "outputs": [],
   "source": []
  },
  {
   "cell_type": "code",
   "execution_count": null,
   "metadata": {},
   "outputs": [],
   "source": []
  }
 ],
 "metadata": {
  "kernelspec": {
   "display_name": "Python 2",
   "language": "python",
   "name": "python2"
  },
  "language_info": {
   "codemirror_mode": {
    "name": "ipython",
    "version": 2
   },
   "file_extension": ".py",
   "mimetype": "text/x-python",
   "name": "python",
   "nbconvert_exporter": "python",
   "pygments_lexer": "ipython2",
   "version": "2.7.17"
  }
 },
 "nbformat": 4,
 "nbformat_minor": 2
}
