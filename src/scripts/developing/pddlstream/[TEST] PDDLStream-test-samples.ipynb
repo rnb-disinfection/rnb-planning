{
 "cells": [
  {
   "cell_type": "code",
   "execution_count": null,
   "metadata": {},
   "outputs": [],
   "source": [
    "# python3 /home/rnb/Projects/rnb-planning/src/pkg/planning/filtering/lattice_model/shared_lattice_predictor.py --rtype panda\n",
    "\n",
    "# import SharedArray as sa\n",
    "# ROBOT_TYPE_NAME = 'indy7gripper'\n",
    "# sa.delete(\"shm://{}.prepared\".format(ROBOT_TYPE_NAME))\n",
    "# sa.delete(\"shm://{}.grasp_img\".format(ROBOT_TYPE_NAME))\n",
    "# sa.delete(\"shm://{}.arm_img\".format(ROBOT_TYPE_NAME))\n",
    "# sa.delete(\"shm://{}.rh_vals\".format(ROBOT_TYPE_NAME))\n",
    "# sa.delete(\"shm://{}.result\".format(ROBOT_TYPE_NAME))\n",
    "# sa.delete(\"shm://{}.query_in\".format(ROBOT_TYPE_NAME))\n",
    "# sa.delete(\"shm://{}.response_out\".format(ROBOT_TYPE_NAME))\n",
    "# sa.delete(\"shm://{}.query_quit\".format(ROBOT_TYPE_NAME))"
   ]
  },
  {
   "cell_type": "code",
   "execution_count": 1,
   "metadata": {},
   "outputs": [],
   "source": [
    "from __future__ import print_function\n",
    "import os\n",
    "RNB_PLANNING_DIR = os.environ[\"RNB_PLANNING_DIR\"]\n",
    "os.chdir(os.path.join(RNB_PLANNING_DIR, 'src'))\n",
    "from pkg.controller.combined_robot import *\n",
    "from pkg.utils.utils import get_now, try_mkdir\n",
    "import subprocess\n",
    "\n",
    "DATA_PATH = os.path.join(RNB_PLANNING_DIR, \"data\")\n",
    "try_mkdir(DATA_PATH)\n",
    "\n",
    "DAT_ROOT = \"stowing-deep\"\n",
    "RES_ROOT = \"stowing-deep-result\"\n",
    "\n",
    "TEST_DATA_PATH = os.path.join(DATA_PATH, DAT_ROOT)\n",
    "try_mkdir(TEST_DATA_PATH)\n",
    "\n",
    "TEST_RESULT_PATH = os.path.join(DATA_PATH, RES_ROOT)\n",
    "try_mkdir(TEST_RESULT_PATH)\n",
    "\n",
    "HEADS = [\"plan_time\", \"length\", \"MP_count\", \"failed_MPs\", \"IK_count\", \"failed_IKs\", \"success\"]"
   ]
  },
  {
   "cell_type": "code",
   "execution_count": null,
   "metadata": {},
   "outputs": [],
   "source": []
  },
  {
   "cell_type": "markdown",
   "metadata": {},
   "source": [
    "# obj1"
   ]
  },
  {
   "cell_type": "code",
   "execution_count": 2,
   "metadata": {},
   "outputs": [],
   "source": [
    "RTYPE = \"indy7gripper\"\n",
    "DAT_DIR = '20210829-050034'\n",
    "FILE_OPTION = \"obj_1\"\n",
    "# DAT_DIR, FILE_OPTION = \"20210613-023004\", \"obj_1\"\n",
    "# DAT_DIR, FILE_OPTION = \"20210612-114040\", \"obj_1\"\n",
    "# DAT_DIR, FILE_OPTION = \"20210612-151342\", \"obj_3\"\n",
    "# DAT_DIR, FILE_OPTION = \"20210612-161536\", \"obj_3_pole\"\n",
    "\n",
    "# RTYPE = \"panda\"\n",
    "# DAT_DIR = '20210705-182244'\n",
    "# FILE_OPTION = \"obj_1\"\n",
    "# # DAT_DIR, FILE_OPTION = \"20210613-022832\", \"obj_1\"\n",
    "# # # DAT_DIR, FILE_OPTION = \"20210612-221934\", \"obj_1\"\n",
    "\n",
    "CNAME_LIST = ['None','Tool','ToolReach','Full'] #,'Pairwise']\n",
    "# CNAME_LIST = ['Full'] #,'Pairwise']\n",
    "GRASP_SAMPLE = 100\n",
    "VISUALIZE = False\n",
    "PLAY_RESULT = False\n",
    "SHOW_STATE = False\n",
    "\n",
    "TIMEOUT_MOTION = 5\n",
    "MAX_TIME = 100\n",
    "MAX_ITER = 100\n"
   ]
  },
  {
   "cell_type": "code",
   "execution_count": null,
   "metadata": {},
   "outputs": [],
   "source": []
  },
  {
   "cell_type": "markdown",
   "metadata": {},
   "source": [
    "### test"
   ]
  },
  {
   "cell_type": "code",
   "execution_count": 3,
   "metadata": {},
   "outputs": [],
   "source": [
    "I_START = 0\n",
    "I_END = 10\n",
    "N_DAT = I_END-I_START"
   ]
  },
  {
   "cell_type": "code",
   "execution_count": 4,
   "metadata": {
    "scrolled": true
   },
   "outputs": [
    {
     "name": "stdout",
     "output_type": "stream",
     "text": [
      "------- 3.9     3.1     3.0     104.7   -------\n",
      "========== 1 / 10 (eta: 114.7 / 1147.4 s) =========\n",
      "------- 2.3     2.6     3.1     3.5     -------\n",
      "========== 2 / 10 (eta: 126.2 / 631.1 s) =========\n",
      "------- 3.6     2.1     -------\r"
     ]
    },
    {
     "ename": "KeyboardInterrupt",
     "evalue": "",
     "output_type": "error",
     "traceback": [
      "\u001b[0;31m---------------------------------------------------------------------------\u001b[0m",
      "\u001b[0;31mKeyboardInterrupt\u001b[0m                         Traceback (most recent call last)",
      "\u001b[0;32m<ipython-input-4-12ffc3e584f4>\u001b[0m in \u001b[0;36m<module>\u001b[0;34m()\u001b[0m\n\u001b[1;32m     27\u001b[0m                               \u001b[0;34m'--MAX_TIME'\u001b[0m\u001b[0;34m,\u001b[0m \u001b[0mstr\u001b[0m\u001b[0;34m(\u001b[0m\u001b[0mMAX_TIME\u001b[0m\u001b[0;34m)\u001b[0m\u001b[0;34m,\u001b[0m\u001b[0;34m\u001b[0m\u001b[0m\n\u001b[1;32m     28\u001b[0m                               '--MAX_ITER', str(MAX_ITER)])\n\u001b[0;32m---> 29\u001b[0;31m         \u001b[0mp\u001b[0m\u001b[0;34m.\u001b[0m\u001b[0mwait\u001b[0m\u001b[0;34m(\u001b[0m\u001b[0;34m)\u001b[0m\u001b[0;34m\u001b[0m\u001b[0m\n\u001b[0m\u001b[1;32m     30\u001b[0m         \u001b[0me_step\u001b[0m \u001b[0;34m=\u001b[0m \u001b[0mnp\u001b[0m\u001b[0;34m.\u001b[0m\u001b[0mround\u001b[0m\u001b[0;34m(\u001b[0m\u001b[0mgtimer\u001b[0m\u001b[0;34m.\u001b[0m\u001b[0mtoc\u001b[0m\u001b[0;34m(\u001b[0m\u001b[0;34m\"step\"\u001b[0m\u001b[0;34m)\u001b[0m\u001b[0;34m,\u001b[0m \u001b[0;36m1\u001b[0m\u001b[0;34m)\u001b[0m\u001b[0;34m\u001b[0m\u001b[0m\n\u001b[1;32m     31\u001b[0m         \u001b[0me_step_list\u001b[0m\u001b[0;34m.\u001b[0m\u001b[0mappend\u001b[0m\u001b[0;34m(\u001b[0m\u001b[0me_step\u001b[0m\u001b[0;34m)\u001b[0m\u001b[0;34m\u001b[0m\u001b[0m\n",
      "\u001b[0;32m/usr/lib/python2.7/subprocess.pyc\u001b[0m in \u001b[0;36mwait\u001b[0;34m(self)\u001b[0m\n\u001b[1;32m   1097\u001b[0m             \u001b[0;32mwhile\u001b[0m \u001b[0mself\u001b[0m\u001b[0;34m.\u001b[0m\u001b[0mreturncode\u001b[0m \u001b[0;32mis\u001b[0m \u001b[0mNone\u001b[0m\u001b[0;34m:\u001b[0m\u001b[0;34m\u001b[0m\u001b[0m\n\u001b[1;32m   1098\u001b[0m                 \u001b[0;32mtry\u001b[0m\u001b[0;34m:\u001b[0m\u001b[0;34m\u001b[0m\u001b[0m\n\u001b[0;32m-> 1099\u001b[0;31m                     \u001b[0mpid\u001b[0m\u001b[0;34m,\u001b[0m \u001b[0msts\u001b[0m \u001b[0;34m=\u001b[0m \u001b[0m_eintr_retry_call\u001b[0m\u001b[0;34m(\u001b[0m\u001b[0mos\u001b[0m\u001b[0;34m.\u001b[0m\u001b[0mwaitpid\u001b[0m\u001b[0;34m,\u001b[0m \u001b[0mself\u001b[0m\u001b[0;34m.\u001b[0m\u001b[0mpid\u001b[0m\u001b[0;34m,\u001b[0m \u001b[0;36m0\u001b[0m\u001b[0;34m)\u001b[0m\u001b[0;34m\u001b[0m\u001b[0m\n\u001b[0m\u001b[1;32m   1100\u001b[0m                 \u001b[0;32mexcept\u001b[0m \u001b[0mOSError\u001b[0m \u001b[0;32mas\u001b[0m \u001b[0me\u001b[0m\u001b[0;34m:\u001b[0m\u001b[0;34m\u001b[0m\u001b[0m\n\u001b[1;32m   1101\u001b[0m                     \u001b[0;32mif\u001b[0m \u001b[0me\u001b[0m\u001b[0;34m.\u001b[0m\u001b[0merrno\u001b[0m \u001b[0;34m!=\u001b[0m \u001b[0merrno\u001b[0m\u001b[0;34m.\u001b[0m\u001b[0mECHILD\u001b[0m\u001b[0;34m:\u001b[0m\u001b[0;34m\u001b[0m\u001b[0m\n",
      "\u001b[0;32m/usr/lib/python2.7/subprocess.pyc\u001b[0m in \u001b[0;36m_eintr_retry_call\u001b[0;34m(func, *args)\u001b[0m\n\u001b[1;32m    123\u001b[0m     \u001b[0;32mwhile\u001b[0m \u001b[0mTrue\u001b[0m\u001b[0;34m:\u001b[0m\u001b[0;34m\u001b[0m\u001b[0m\n\u001b[1;32m    124\u001b[0m         \u001b[0;32mtry\u001b[0m\u001b[0;34m:\u001b[0m\u001b[0;34m\u001b[0m\u001b[0m\n\u001b[0;32m--> 125\u001b[0;31m             \u001b[0;32mreturn\u001b[0m \u001b[0mfunc\u001b[0m\u001b[0;34m(\u001b[0m\u001b[0;34m*\u001b[0m\u001b[0margs\u001b[0m\u001b[0;34m)\u001b[0m\u001b[0;34m\u001b[0m\u001b[0m\n\u001b[0m\u001b[1;32m    126\u001b[0m         \u001b[0;32mexcept\u001b[0m \u001b[0;34m(\u001b[0m\u001b[0mOSError\u001b[0m\u001b[0;34m,\u001b[0m \u001b[0mIOError\u001b[0m\u001b[0;34m)\u001b[0m \u001b[0;32mas\u001b[0m \u001b[0me\u001b[0m\u001b[0;34m:\u001b[0m\u001b[0;34m\u001b[0m\u001b[0m\n\u001b[1;32m    127\u001b[0m             \u001b[0;32mif\u001b[0m \u001b[0me\u001b[0m\u001b[0;34m.\u001b[0m\u001b[0merrno\u001b[0m \u001b[0;34m==\u001b[0m \u001b[0merrno\u001b[0m\u001b[0;34m.\u001b[0m\u001b[0mEINTR\u001b[0m\u001b[0;34m:\u001b[0m\u001b[0;34m\u001b[0m\u001b[0m\n",
      "\u001b[0;31mKeyboardInterrupt\u001b[0m: "
     ]
    }
   ],
   "source": [
    "ROBOT_DATA_ROOT = os.path.join(TEST_DATA_PATH, RTYPE)\n",
    "ROBOT_RESULT_ROOT = os.path.join(TEST_RESULT_PATH, RTYPE)\n",
    "DATASET_PATH = os.path.join(ROBOT_DATA_ROOT, DAT_DIR)\n",
    "RESULTSET_PATH = os.path.join(ROBOT_RESULT_ROOT, DAT_DIR)\n",
    "file_list = sorted(os.listdir(DATASET_PATH))\n",
    "\n",
    "gtimer = GlobalTimer.instance()\n",
    "gtimer.reset(scale=1, timeunit='s')\n",
    "\n",
    "gtimer.tic(\"full_loop\")\n",
    "for fid in range(N_DAT):\n",
    "    e_step_list = []\n",
    "    for i_c, cname in enumerate(CNAME_LIST):\n",
    "        gtimer.tic(\"step\")\n",
    "        p = subprocess.Popen(['python', '{}src/scripts/developing/pddlstream/test_saved_scene.py'.format(RNB_PLANNING_DIR),\n",
    "                              '--rtype', RTYPE,\n",
    "                              '--dat_root', DAT_ROOT,\n",
    "                              '--res_root', RES_ROOT,\n",
    "                              '--dat_dir', DAT_DIR,\n",
    "                              '--file_option', FILE_OPTION,\n",
    "                              '--data_idx', str(fid+I_START),\n",
    "                              '--cname', cname,\n",
    "                              '--GRASP_SAMPLE', str(GRASP_SAMPLE),\n",
    "                              '--VISUALIZE', str(VISUALIZE),\n",
    "                              '--PLAY_RESULT', str(PLAY_RESULT),\n",
    "                              '--TIMEOUT_MOTION', str(TIMEOUT_MOTION),\n",
    "                              '--MAX_TIME', str(MAX_TIME),\n",
    "                              '--MAX_ITER', str(MAX_ITER)])\n",
    "        p.wait()\n",
    "        e_step = np.round(gtimer.toc(\"step\"), 1)\n",
    "        e_step_list.append(e_step)\n",
    "        print(\"------- \" + (\"{:<8}\"*len(e_step_list)).format(*e_step_list) + \"-------\", end=\"\\r\")\n",
    "        \n",
    "    print(\"\")\n",
    "    print(\"========== {} / {} (eta: {} / {} s) =========\".format(\n",
    "        fid+1, N_DAT, *np.round(gtimer.eta(\"full_loop\", fid+1, N_DAT), 1)))"
   ]
  },
  {
   "cell_type": "code",
   "execution_count": null,
   "metadata": {},
   "outputs": [],
   "source": []
  },
  {
   "cell_type": "markdown",
   "metadata": {},
   "source": [
    "# obj3"
   ]
  },
  {
   "cell_type": "code",
   "execution_count": null,
   "metadata": {},
   "outputs": [],
   "source": [
    "RTYPE = \"indy7gripper\"\n",
    "DAT_DIR = '20210829-050034'\n",
    "FILE_OPTION = \"obj_3\"\n",
    "# DAT_DIR, FILE_OPTION = \"20210613-023004\", \"obj_1\"\n",
    "# DAT_DIR, FILE_OPTION = \"20210612-114040\", \"obj_1\"\n",
    "# DAT_DIR, FILE_OPTION = \"20210612-151342\", \"obj_3\"\n",
    "# DAT_DIR, FILE_OPTION = \"20210612-161536\", \"obj_3_pole\"\n",
    "\n",
    "# RTYPE = \"panda\"\n",
    "# DAT_DIR = '20210705-182244'\n",
    "# FILE_OPTION = \"obj_3\"\n",
    "# # DAT_DIR, FILE_OPTION = \"20210613-022832\", \"obj_1\"\n",
    "# # # DAT_DIR, FILE_OPTION = \"20210612-221934\", \"obj_1\"\n",
    "\n",
    "# CNAME_LIST = ['None','Tool','ToolReach','Full'] #,'Pairwise']\n",
    "# GRASP_SAMPLE = 100\n",
    "# VISUALIZE = True\n",
    "# PLAY_RESULT = True\n",
    "# TIMEOUT_MOTION = 5\n",
    "# MAX_TIME = 100\n",
    "# SHOW_STATE = False\n"
   ]
  },
  {
   "cell_type": "code",
   "execution_count": null,
   "metadata": {},
   "outputs": [],
   "source": [
    "I_START=0\n",
    "I_END = 10\n",
    "N_DAT = I_END-I_START"
   ]
  },
  {
   "cell_type": "markdown",
   "metadata": {},
   "source": [
    "### test"
   ]
  },
  {
   "cell_type": "code",
   "execution_count": null,
   "metadata": {
    "scrolled": true
   },
   "outputs": [],
   "source": [
    "ROBOT_DATA_ROOT = os.path.join(TEST_DATA_PATH, RTYPE)\n",
    "ROBOT_RESULT_ROOT = os.path.join(TEST_RESULT_PATH, RTYPE)\n",
    "DATASET_PATH = os.path.join(ROBOT_DATA_ROOT, DAT_DIR)\n",
    "RESULTSET_PATH = os.path.join(ROBOT_RESULT_ROOT, DAT_DIR)\n",
    "file_list = sorted(os.listdir(DATASET_PATH))\n",
    "\n",
    "gtimer = GlobalTimer.instance()\n",
    "gtimer.reset(scale=1, timeunit='s')\n",
    "\n",
    "gtimer.tic(\"full_loop\")\n",
    "for fid in range(N_DAT):\n",
    "    e_step_list = []\n",
    "    for i_c, cname in enumerate(CNAME_LIST):\n",
    "        gtimer.tic(\"step\")\n",
    "        p = subprocess.Popen(['python', '{}src/scripts/developing/pddlstream/test_saved_scene.py'.format(RNB_PLANNING_DIR),\n",
    "                              '--rtype', RTYPE,\n",
    "                              '--dat_root', DAT_ROOT,\n",
    "                              '--res_root', RES_ROOT,\n",
    "                              '--dat_dir', DAT_DIR,\n",
    "                              '--file_option', FILE_OPTION,\n",
    "                              '--data_idx', str(fid+I_START),\n",
    "                              '--cname', cname,\n",
    "                              '--GRASP_SAMPLE', str(GRASP_SAMPLE),\n",
    "                              '--VISUALIZE', str(VISUALIZE),\n",
    "                              '--PLAY_RESULT', str(PLAY_RESULT),\n",
    "                              '--TIMEOUT_MOTION', str(TIMEOUT_MOTION),\n",
    "                              '--MAX_TIME', str(MAX_TIME),\n",
    "                              '--MAX_ITER', str(MAX_ITER)])\n",
    "        p.wait()\n",
    "        e_step = np.round(gtimer.toc(\"step\"), 1)\n",
    "        e_step_list.append(e_step)\n",
    "        print(\"------- \" + (\"{:<8}\"*len(e_step_list)).format(*e_step_list) + \"-------\", end=\"\\r\")\n",
    "        \n",
    "    print(\"\")\n",
    "    print(\"========== {} / {} (eta: {} / {} s) =========\".format(\n",
    "        fid+1, N_DAT, *np.round(gtimer.eta(\"full_loop\", fid+1, N_DAT), 1)))"
   ]
  },
  {
   "cell_type": "code",
   "execution_count": null,
   "metadata": {},
   "outputs": [],
   "source": []
  },
  {
   "cell_type": "code",
   "execution_count": null,
   "metadata": {},
   "outputs": [],
   "source": []
  },
  {
   "cell_type": "markdown",
   "metadata": {},
   "source": [
    "# obj3_pole"
   ]
  },
  {
   "cell_type": "code",
   "execution_count": null,
   "metadata": {},
   "outputs": [],
   "source": [
    "RTYPE = \"indy7gripper\"\n",
    "DAT_DIR = '20210829-050034'\n",
    "# DAT_DIR = '20210702-152658'\n",
    "FILE_OPTION = \"obj_3_pole\"\n",
    "# DAT_DIR, FILE_OPTION = \"20210613-023004\", \"obj_1\"\n",
    "# DAT_DIR, FILE_OPTION = \"20210612-114040\", \"obj_1\"\n",
    "# DAT_DIR, FILE_OPTION = \"20210612-151342\", \"obj_3\"\n",
    "# DAT_DIR, FILE_OPTION = \"20210612-161536\", \"obj_3_pole\"\n",
    "\n",
    "# RTYPE = \"panda\"\n",
    "# DAT_DIR = '20210705-182244'\n",
    "# FILE_OPTION = \"obj_3_pole\"\n",
    "# # DAT_DIR, FILE_OPTION = \"20210613-022832\", \"obj_1\"\n",
    "# # # DAT_DIR, FILE_OPTION = \"20210612-221934\", \"obj_1\"\n",
    "\n",
    "# CNAME_LIST = ['None','Tool','ToolReach','Full'] #,'Pairwise']\n",
    "# GRASP_SAMPLE = 100\n",
    "# VISUALIZE = True\n",
    "# PLAY_RESULT = True\n",
    "# TIMEOUT_MOTION = 5\n",
    "# MAX_TIME = 100\n",
    "# SHOW_STATE = False\n"
   ]
  },
  {
   "cell_type": "code",
   "execution_count": null,
   "metadata": {},
   "outputs": [],
   "source": [
    "I_START=0\n",
    "I_END = 10\n",
    "N_DAT = I_END-I_START"
   ]
  },
  {
   "cell_type": "markdown",
   "metadata": {},
   "source": [
    "### test"
   ]
  },
  {
   "cell_type": "code",
   "execution_count": null,
   "metadata": {
    "scrolled": true
   },
   "outputs": [],
   "source": [
    "ROBOT_DATA_ROOT = os.path.join(TEST_DATA_PATH, RTYPE)\n",
    "ROBOT_RESULT_ROOT = os.path.join(TEST_RESULT_PATH, RTYPE)\n",
    "DATASET_PATH = os.path.join(ROBOT_DATA_ROOT, DAT_DIR)\n",
    "RESULTSET_PATH = os.path.join(ROBOT_RESULT_ROOT, DAT_DIR)\n",
    "file_list = sorted(os.listdir(DATASET_PATH))\n",
    "\n",
    "gtimer = GlobalTimer.instance()\n",
    "gtimer.reset(scale=1, timeunit='s')\n",
    "gtimer.tic(\"full_loop\")\n",
    "for fid in range(N_DAT):\n",
    "    e_step_list = []\n",
    "    for i_c, cname in enumerate(CNAME_LIST):\n",
    "        gtimer.tic(\"step\")\n",
    "        p = subprocess.Popen(['python', '{}src/scripts/developing/pddlstream/test_saved_scene.py'.format(RNB_PLANNING_DIR),\n",
    "                              '--rtype', RTYPE,\n",
    "                              '--dat_root', DAT_ROOT,\n",
    "                              '--res_root', RES_ROOT,\n",
    "                              '--dat_dir', DAT_DIR,\n",
    "                              '--file_option', FILE_OPTION,\n",
    "                              '--data_idx', str(fid+I_START),\n",
    "                              '--cname', cname,\n",
    "                              '--GRASP_SAMPLE', str(GRASP_SAMPLE),\n",
    "                              '--VISUALIZE', str(VISUALIZE),\n",
    "                              '--PLAY_RESULT', str(PLAY_RESULT),\n",
    "                              '--TIMEOUT_MOTION', str(TIMEOUT_MOTION),\n",
    "                              '--MAX_TIME', str(MAX_TIME),\n",
    "                              '--MAX_ITER', str(MAX_ITER)])\n",
    "        p.wait()\n",
    "        e_step = np.round(gtimer.toc(\"step\"), 1)\n",
    "        e_step_list.append(e_step)\n",
    "        print(\"------- \" + (\"{:<8}\"*len(e_step_list)).format(*e_step_list) + \"-------\", end=\"\\r\")\n",
    "        \n",
    "    print(\"\")\n",
    "    print(\"========== {} / {} (eta: {} / {} s) =========\".format(\n",
    "        fid+1, N_DAT, *np.round(gtimer.eta(\"full_loop\", fid+1, N_DAT), 1)))"
   ]
  },
  {
   "cell_type": "code",
   "execution_count": null,
   "metadata": {},
   "outputs": [],
   "source": []
  },
  {
   "cell_type": "markdown",
   "metadata": {},
   "source": [
    "# obj3_hard"
   ]
  },
  {
   "cell_type": "code",
   "execution_count": null,
   "metadata": {},
   "outputs": [],
   "source": [
    "RTYPE = \"indy7gripper\"\n",
    "DAT_DIR = '20210829-050034'\n",
    "# DAT_DIR = '20210702-152658'\n",
    "FILE_OPTION = \"obj_3_hard\"\n",
    "# DAT_DIR, FILE_OPTION = \"20210613-023004\", \"obj_1\"\n",
    "# DAT_DIR, FILE_OPTION = \"20210612-114040\", \"obj_1\"\n",
    "# DAT_DIR, FILE_OPTION = \"20210612-151342\", \"obj_3\"\n",
    "# DAT_DIR, FILE_OPTION = \"20210612-161536\", \"obj_3_pole\"\n",
    "\n",
    "# RTYPE = \"panda\"\n",
    "# DAT_DIR = '20210705-182244'\n",
    "# FILE_OPTION = \"obj_3_pole\"\n",
    "# # DAT_DIR, FILE_OPTION = \"20210613-022832\", \"obj_1\"\n",
    "# # # DAT_DIR, FILE_OPTION = \"20210612-221934\", \"obj_1\"\n",
    "\n",
    "# CNAME_LIST = ['ToolReach','Full'] #,'Pairwise']\n",
    "# # CNAME_LIST = ['Full'] #,'Pairwise']\n",
    "# GRASP_SAMPLE = 100\n",
    "# VISUALIZE = False\n",
    "# PLAY_RESULT = False\n",
    "# SHOW_STATE = False\n",
    "\n",
    "# TIMEOUT_MOTION = 5\n",
    "# MAX_TIME = 100\n",
    "# MAX_ITER = 100"
   ]
  },
  {
   "cell_type": "code",
   "execution_count": null,
   "metadata": {},
   "outputs": [],
   "source": [
    "I_START=0\n",
    "I_END = 10\n",
    "N_DAT = I_END-I_START"
   ]
  },
  {
   "cell_type": "markdown",
   "metadata": {},
   "source": [
    "### test"
   ]
  },
  {
   "cell_type": "code",
   "execution_count": null,
   "metadata": {},
   "outputs": [],
   "source": [
    "ROBOT_DATA_ROOT = os.path.join(TEST_DATA_PATH, RTYPE)\n",
    "ROBOT_RESULT_ROOT = os.path.join(TEST_RESULT_PATH, RTYPE)\n",
    "DATASET_PATH = os.path.join(ROBOT_DATA_ROOT, DAT_DIR)\n",
    "RESULTSET_PATH = os.path.join(ROBOT_RESULT_ROOT, DAT_DIR)\n",
    "file_list = sorted(os.listdir(DATASET_PATH))\n",
    "\n",
    "gtimer = GlobalTimer.instance()\n",
    "gtimer.reset(scale=1, timeunit='s')\n",
    "gtimer.tic(\"full_loop\")\n",
    "for fid in range(N_DAT):\n",
    "    e_step_list = []\n",
    "    for i_c, cname in enumerate(CNAME_LIST):\n",
    "        gtimer.tic(\"step\")\n",
    "        p = subprocess.Popen(['python', '{}src/scripts/developing/pddlstream/test_saved_scene.py'.format(RNB_PLANNING_DIR),\n",
    "                              '--rtype', RTYPE,\n",
    "                              '--dat_root', DAT_ROOT,\n",
    "                              '--res_root', RES_ROOT,\n",
    "                              '--dat_dir', DAT_DIR,\n",
    "                              '--file_option', FILE_OPTION,\n",
    "                              '--data_idx', str(fid+I_START),\n",
    "                              '--cname', cname,\n",
    "                              '--GRASP_SAMPLE', str(GRASP_SAMPLE),\n",
    "                              '--VISUALIZE', str(VISUALIZE),\n",
    "                              '--PLAY_RESULT', str(PLAY_RESULT),\n",
    "                              '--TIMEOUT_MOTION', str(TIMEOUT_MOTION),\n",
    "                              '--MAX_TIME', str(MAX_TIME),\n",
    "                              '--MAX_ITER', str(MAX_ITER)])\n",
    "        p.wait()\n",
    "        e_step = np.round(gtimer.toc(\"step\"), 1)\n",
    "        e_step_list.append(e_step)\n",
    "        print(\"------- \" + (\"{:<8}\"*len(e_step_list)).format(*e_step_list) + \"-------\", end=\"\\r\")\n",
    "        \n",
    "    print(\"\")\n",
    "    print(\"========== {} / {} (eta: {} / {} s) =========\".format(\n",
    "        fid+1, N_DAT, *np.round(gtimer.eta(\"full_loop\", fid+1, N_DAT), 1)))"
   ]
  },
  {
   "cell_type": "code",
   "execution_count": null,
   "metadata": {},
   "outputs": [],
   "source": []
  },
  {
   "cell_type": "code",
   "execution_count": null,
   "metadata": {},
   "outputs": [],
   "source": []
  }
 ],
 "metadata": {
  "kernelspec": {
   "display_name": "Python 2",
   "language": "python",
   "name": "python2"
  },
  "language_info": {
   "codemirror_mode": {
    "name": "ipython",
    "version": 2
   },
   "file_extension": ".py",
   "mimetype": "text/x-python",
   "name": "python",
   "nbconvert_exporter": "python",
   "pygments_lexer": "ipython2",
   "version": "2.7.17"
  }
 },
 "nbformat": 4,
 "nbformat_minor": 2
}
