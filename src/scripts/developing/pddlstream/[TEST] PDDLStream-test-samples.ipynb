{
 "cells": [
  {
   "cell_type": "code",
   "execution_count": 6,
   "metadata": {},
   "outputs": [],
   "source": [
    "# python3 /home/rnb/Projects/rnb-planning/src/pkg/planning/filtering/lattice_model/shared_lattice_predictor.py --rtype panda\n",
    "\n",
    "# import SharedArray as sa\n",
    "# ROBOT_TYPE_NAME = 'indy7gripper'\n",
    "# sa.delete(\"shm://{}.prepared\".format(ROBOT_TYPE_NAME))\n",
    "# sa.delete(\"shm://{}.grasp_img\".format(ROBOT_TYPE_NAME))\n",
    "# sa.delete(\"shm://{}.arm_img\".format(ROBOT_TYPE_NAME))\n",
    "# sa.delete(\"shm://{}.rh_vals\".format(ROBOT_TYPE_NAME))\n",
    "# sa.delete(\"shm://{}.result\".format(ROBOT_TYPE_NAME))\n",
    "# sa.delete(\"shm://{}.query_in\".format(ROBOT_TYPE_NAME))\n",
    "# sa.delete(\"shm://{}.response_out\".format(ROBOT_TYPE_NAME))\n",
    "# sa.delete(\"shm://{}.query_quit\".format(ROBOT_TYPE_NAME))"
   ]
  },
  {
   "cell_type": "code",
   "execution_count": 1,
   "metadata": {},
   "outputs": [],
   "source": [
    "from __future__ import print_function\n",
    "import os\n",
    "RNB_PLANNING_DIR = os.environ[\"RNB_PLANNING_DIR\"]\n",
    "os.chdir(os.path.join(RNB_PLANNING_DIR, 'src'))\n",
    "from pkg.controller.combined_robot import *\n",
    "from pkg.utils.utils import get_now, try_mkdir\n",
    "import subprocess\n",
    "\n",
    "DATA_PATH = os.path.join(RNB_PLANNING_DIR, \"data\")\n",
    "try_mkdir(DATA_PATH)\n",
    "\n",
    "DAT_ROOT = \"stowing-deep\"\n",
    "RES_ROOT = \"stowing-deep-result\"\n",
    "\n",
    "TEST_DATA_PATH = os.path.join(DATA_PATH, DAT_ROOT)\n",
    "try_mkdir(TEST_DATA_PATH)\n",
    "\n",
    "TEST_RESULT_PATH = os.path.join(DATA_PATH, RES_ROOT)\n",
    "try_mkdir(TEST_RESULT_PATH)\n",
    "\n",
    "HEADS = [\"plan_time\", \"length\", \"MP_count\", \"failed_MPs\", \"IK_count\", \"failed_IKs\", \"success\"]"
   ]
  },
  {
   "cell_type": "code",
   "execution_count": null,
   "metadata": {},
   "outputs": [],
   "source": []
  },
  {
   "cell_type": "markdown",
   "metadata": {},
   "source": [
    "# obj1"
   ]
  },
  {
   "cell_type": "code",
   "execution_count": 2,
   "metadata": {},
   "outputs": [],
   "source": [
    "RTYPE = \"indy7gripper\"\n",
    "DAT_DIR = '20210907-173519'\n",
    "FILE_OPTION = \"obj_1\"\n",
    "# DAT_DIR, FILE_OPTION = \"20210613-023004\", \"obj_1\"\n",
    "# DAT_DIR, FILE_OPTION = \"20210612-114040\", \"obj_1\"\n",
    "# DAT_DIR, FILE_OPTION = \"20210612-151342\", \"obj_3\"\n",
    "# DAT_DIR, FILE_OPTION = \"20210612-161536\", \"obj_3_pole\"\n",
    "\n",
    "# RTYPE = \"panda\"\n",
    "# DAT_DIR = '20210705-182244'\n",
    "# FILE_OPTION = \"obj_1\"\n",
    "# # DAT_DIR, FILE_OPTION = \"20210613-022832\", \"obj_1\"\n",
    "# # # DAT_DIR, FILE_OPTION = \"20210612-221934\", \"obj_1\"\n",
    "\n",
    "CNAME_LIST = ['None', 'Tool', 'ToolReach', 'Full'] #,'Pairwise']\n",
    "# CNAME_LIST = ['Full'] #,'Pairwise']\n",
    "VISUALIZE = False\n",
    "PLAY_RESULT = False\n",
    "SHOW_STATE = False\n",
    "\n",
    "TIMEOUT_MOTION = 5\n",
    "MAX_TIME = 100\n",
    "MAX_ITER = 100\n",
    "\n",
    "GRASP_SAMPLE = 30\n",
    "STABLE_SAMPLE = 50\n",
    "SEARCH_SAMPLE_RATIO= 100"
   ]
  },
  {
   "cell_type": "code",
   "execution_count": null,
   "metadata": {},
   "outputs": [],
   "source": []
  },
  {
   "cell_type": "markdown",
   "metadata": {},
   "source": [
    "### test"
   ]
  },
  {
   "cell_type": "code",
   "execution_count": 3,
   "metadata": {},
   "outputs": [],
   "source": [
    "I_START = 0\n",
    "I_END = 20\n",
    "N_DAT = I_END-I_START"
   ]
  },
  {
   "cell_type": "code",
   "execution_count": 4,
   "metadata": {
    "scrolled": true
   },
   "outputs": [
    {
     "name": "stdout",
     "output_type": "stream",
     "text": [
      "------- 4.8     3.8     5.2     4.7     -------\n",
      "========== 1 / 20 (eta: 18.4 / 368.8 s) =========\n",
      "------- 17.3    3.9     4.4     4.6     -------\n",
      "========== 2 / 20 (eta: 48.6 / 486.3 s) =========\n",
      "------- 12.5    6.4     4.5     5.3     -------\n",
      "========== 3 / 20 (eta: 77.4 / 515.9 s) =========\n",
      "------- 4.0     3.8     6.5     6.3     -------\n",
      "========== 4 / 20 (eta: 98.0 / 490.1 s) =========\n",
      "------- 9.5     4.5     4.4     4.8     -------\n",
      "========== 5 / 20 (eta: 121.2 / 484.6 s) =========\n",
      "------- 19.6    5.5     4.8     4.8     -------\n",
      "========== 6 / 20 (eta: 155.8 / 519.4 s) =========\n",
      "------- 4.2     10.3    4.3     5.6     -------\n",
      "========== 7 / 20 (eta: 180.2 / 514.8 s) =========\n",
      "------- 6.5     3.9     4.6     4.4     -------\n",
      "========== 8 / 20 (eta: 199.5 / 498.7 s) =========\n",
      "------- 4.0     6.5     4.4     7.0     -------\n",
      "========== 9 / 20 (eta: 221.3 / 491.8 s) =========\n",
      "------- 10.8    8.3     4.7     4.6     -------\n",
      "========== 10 / 20 (eta: 249.7 / 499.3 s) =========\n",
      "------- 4.0     4.3     5.2     4.5     -------\n",
      "========== 11 / 20 (eta: 267.7 / 486.7 s) =========\n",
      "------- 7.5     6.0     4.5     8.7     -------\n",
      "========== 12 / 20 (eta: 294.3 / 490.6 s) =========\n",
      "------- 4.7     4.2     5.1     4.7     -------\n",
      "========== 13 / 20 (eta: 313.1 / 481.8 s) =========\n",
      "------- 9.2     7.7     5.1     5.4     -------\n",
      "========== 14 / 20 (eta: 340.5 / 486.5 s) =========\n",
      "------- 16.0    5.1     5.9     4.6     -------\n",
      "========== 15 / 20 (eta: 372.2 / 496.3 s) =========\n",
      "------- 4.2     3.7     5.2     5.3     -------\n",
      "========== 16 / 20 (eta: 390.7 / 488.4 s) =========\n",
      "------- 9.4     3.9     9.0     5.5     -------\n",
      "========== 17 / 20 (eta: 418.5 / 492.4 s) =========\n",
      "------- 6.5     5.4     4.7     4.4     -------\n",
      "========== 18 / 20 (eta: 439.6 / 488.5 s) =========\n",
      "------- 4.6     6.3     4.5     9.1     -------\n",
      "========== 19 / 20 (eta: 464.1 / 488.5 s) =========\n",
      "------- 9.9     3.7     4.3     4.4     -------\n",
      "========== 20 / 20 (eta: 486.3 / 486.3 s) =========\n"
     ]
    }
   ],
   "source": [
    "ROBOT_DATA_ROOT = os.path.join(TEST_DATA_PATH, RTYPE)\n",
    "ROBOT_RESULT_ROOT = os.path.join(TEST_RESULT_PATH, RTYPE)\n",
    "DATASET_PATH = os.path.join(ROBOT_DATA_ROOT, DAT_DIR)\n",
    "RESULTSET_PATH = os.path.join(ROBOT_RESULT_ROOT, DAT_DIR)\n",
    "file_list = sorted(os.listdir(DATASET_PATH))\n",
    "\n",
    "gtimer = GlobalTimer.instance()\n",
    "gtimer.reset(scale=1, timeunit='s')\n",
    "\n",
    "gtimer.tic(\"full_loop\")\n",
    "for fid in range(I_START, I_END):\n",
    "    e_step_list = []\n",
    "    for i_c, cname in enumerate(CNAME_LIST):\n",
    "        gtimer.tic(\"step\")\n",
    "        p = subprocess.Popen(['python', '{}src/scripts/developing/pddlstream/test_saved_scene.py'.format(RNB_PLANNING_DIR),\n",
    "                              '--rtype', RTYPE,\n",
    "                              '--dat_root', DAT_ROOT,\n",
    "                              '--res_root', RES_ROOT,\n",
    "                              '--dat_dir', DAT_DIR,\n",
    "                              '--file_option', FILE_OPTION,\n",
    "                              '--data_idx', str(fid),\n",
    "                              '--cname', cname,\n",
    "                              '--VISUALIZE', str(VISUALIZE),\n",
    "                              '--PLAY_RESULT', str(PLAY_RESULT),\n",
    "                              '--TIMEOUT_MOTION', str(TIMEOUT_MOTION),\n",
    "                              '--MAX_TIME', str(MAX_TIME),\n",
    "                              '--MAX_ITER', str(MAX_ITER), \n",
    "                              '--GRASP_SAMPLE', str(GRASP_SAMPLE),\n",
    "                              '--STABLE_SAMPLE', str(STABLE_SAMPLE),\n",
    "                              '--SEARCH_SAMPLE_RATIO', \n",
    "                              str(SEARCH_SAMPLE_RATIO)])\n",
    "        p.wait()\n",
    "        e_step = np.round(gtimer.toc(\"step\"), 1)\n",
    "        e_step_list.append(e_step)\n",
    "        print(\"------- \" + (\"{:<8}\"*len(e_step_list)).format(*e_step_list) + \"-------\", end=\"\\r\")\n",
    "        \n",
    "    print(\"\")\n",
    "    print(\"========== {} / {} (eta: {} / {} s) =========\".format(\n",
    "        fid+1, N_DAT, *np.round(gtimer.eta(\"full_loop\", fid-I_START+1, N_DAT), 1)))"
   ]
  },
  {
   "cell_type": "code",
   "execution_count": null,
   "metadata": {},
   "outputs": [],
   "source": []
  },
  {
   "cell_type": "markdown",
   "metadata": {},
   "source": [
    "# obj1 obs3"
   ]
  },
  {
   "cell_type": "code",
   "execution_count": 5,
   "metadata": {},
   "outputs": [],
   "source": [
    "RTYPE = \"indy7gripper\"\n",
    "# DAT_DIR = '20210907-071329'\n",
    "FILE_OPTION = \"obj_1_obs3\"\n",
    "# DAT_DIR, FILE_OPTION = \"20210613-023004\", \"obj_1\"\n",
    "# DAT_DIR, FILE_OPTION = \"20210612-114040\", \"obj_1\"\n",
    "# DAT_DIR, FILE_OPTION = \"20210612-151342\", \"obj_3\"\n",
    "# DAT_DIR, FILE_OPTION = \"20210612-161536\", \"obj_3_pole\"\n",
    "\n",
    "# RTYPE = \"panda\"\n",
    "# DAT_DIR = '20210705-182244'\n",
    "# FILE_OPTION = \"obj_1\"\n",
    "# # DAT_DIR, FILE_OPTION = \"20210613-022832\", \"obj_1\"\n",
    "# # # DAT_DIR, FILE_OPTION = \"20210612-221934\", \"obj_1\"\n",
    "\n",
    "# CNAME_LIST = ['None','Tool','ToolReach','Full'] #,'Pairwise']\n",
    "# # CNAME_LIST = ['Full'] #,'Pairwise']\n",
    "# VISUALIZE = False\n",
    "# PLAY_RESULT = False\n",
    "# SHOW_STATE = False\n",
    "\n",
    "# TIMEOUT_MOTION = 5\n",
    "# MAX_TIME = 100\n",
    "# MAX_ITER = 10000\n",
    "\n",
    "# GRASP_SAMPLE = 30\n",
    "# STABLE_SAMPLE = 50\n",
    "# SEARCH_SAMPLE_RATIO= 100\n"
   ]
  },
  {
   "cell_type": "code",
   "execution_count": null,
   "metadata": {},
   "outputs": [],
   "source": []
  },
  {
   "cell_type": "markdown",
   "metadata": {},
   "source": [
    "### test"
   ]
  },
  {
   "cell_type": "code",
   "execution_count": 6,
   "metadata": {},
   "outputs": [],
   "source": [
    "I_START = 0\n",
    "I_END = 20\n",
    "N_DAT = I_END-I_START"
   ]
  },
  {
   "cell_type": "code",
   "execution_count": 7,
   "metadata": {
    "scrolled": true
   },
   "outputs": [
    {
     "name": "stdout",
     "output_type": "stream",
     "text": [
      "------- 103.4   116.3   5.0     112.0   -------\n",
      "========== 1 / 20 (eta: 336.7 / 6734.3 s) =========\n",
      "------- 4.5     7.9     5.3     5.9     -------\n",
      "========== 2 / 20 (eta: 360.2 / 3602.3 s) =========\n",
      "------- 8.5     9.4     6.8     5.1     -------\n",
      "========== 3 / 20 (eta: 390.0 / 2600.3 s) =========\n",
      "------- 13.6    8.5     5.1     4.9     -------\n",
      "========== 4 / 20 (eta: 422.2 / 2110.8 s) =========\n",
      "------- 4.5     5.7     20.1    5.6     -------\n",
      "========== 5 / 20 (eta: 458.2 / 1832.6 s) =========\n",
      "------- 4.3     4.1     5.4     4.6     -------\n",
      "========== 6 / 20 (eta: 476.6 / 1588.5 s) =========\n",
      "------- 30.5    4.1     9.8     5.1     -------\n",
      "========== 7 / 20 (eta: 526.1 / 1503.2 s) =========\n",
      "------- 23.2    5.1     6.0     5.3     -------\n",
      "========== 8 / 20 (eta: 565.7 / 1414.3 s) =========\n",
      "------- 103.4   4.8     10.9    5.5     -------\n",
      "========== 9 / 20 (eta: 690.4 / 1534.2 s) =========\n",
      "------- 6.4     4.6     8.3     4.9     -------\n",
      "========== 10 / 20 (eta: 714.6 / 1429.2 s) =========\n",
      "------- 8.6     5.2     5.5     5.7     -------\n",
      "========== 11 / 20 (eta: 739.6 / 1344.8 s) =========\n",
      "------- 10.2    43.0    110.3   73.8    -------\n",
      "========== 12 / 20 (eta: 977.0 / 1628.3 s) =========\n",
      "------- 12.0    9.0     6.9     10.1    -------\n",
      "========== 13 / 20 (eta: 1015.0 / 1561.5 s) =========\n",
      "------- 6.7     5.0     10.7    4.8     -------\n",
      "========== 14 / 20 (eta: 1042.2 / 1488.9 s) =========\n",
      "------- 4.9     7.1     26.5    12.6    -------\n",
      "========== 15 / 20 (eta: 1093.3 / 1457.8 s) =========\n",
      "------- 13.6    7.5     8.0     5.3     -------\n",
      "========== 16 / 20 (eta: 1127.7 / 1409.6 s) =========\n",
      "------- 15.9    17.7    8.5     5.7     -------\n",
      "========== 17 / 20 (eta: 1175.4 / 1382.9 s) =========\n",
      "------- 25.8    4.1     7.3     11.3    -------\n",
      "========== 18 / 20 (eta: 1223.9 / 1359.9 s) =========\n",
      "------- 38.2    4.2     14.9    10.7    -------\n",
      "========== 19 / 20 (eta: 1292.0 / 1360.0 s) =========\n",
      "------- 10.7    24.1    7.3     6.1     -------\n",
      "========== 20 / 20 (eta: 1340.1 / 1340.1 s) =========\n"
     ]
    }
   ],
   "source": [
    "ROBOT_DATA_ROOT = os.path.join(TEST_DATA_PATH, RTYPE)\n",
    "ROBOT_RESULT_ROOT = os.path.join(TEST_RESULT_PATH, RTYPE)\n",
    "DATASET_PATH = os.path.join(ROBOT_DATA_ROOT, DAT_DIR)\n",
    "RESULTSET_PATH = os.path.join(ROBOT_RESULT_ROOT, DAT_DIR)\n",
    "file_list = sorted(os.listdir(DATASET_PATH))\n",
    "\n",
    "gtimer = GlobalTimer.instance()\n",
    "gtimer.reset(scale=1, timeunit='s')\n",
    "\n",
    "gtimer.tic(\"full_loop\")\n",
    "for fid in range(I_START, I_END):\n",
    "    e_step_list = []\n",
    "    for i_c, cname in enumerate(CNAME_LIST):\n",
    "        gtimer.tic(\"step\")\n",
    "        p = subprocess.Popen(['python', '{}src/scripts/developing/pddlstream/test_saved_scene.py'.format(RNB_PLANNING_DIR),\n",
    "                              '--rtype', RTYPE,\n",
    "                              '--dat_root', DAT_ROOT,\n",
    "                              '--res_root', RES_ROOT,\n",
    "                              '--dat_dir', DAT_DIR,\n",
    "                              '--file_option', FILE_OPTION,\n",
    "                              '--data_idx', str(fid),\n",
    "                              '--cname', cname,\n",
    "                              '--VISUALIZE', str(VISUALIZE),\n",
    "                              '--PLAY_RESULT', str(PLAY_RESULT),\n",
    "                              '--TIMEOUT_MOTION', str(TIMEOUT_MOTION),\n",
    "                              '--MAX_TIME', str(MAX_TIME),\n",
    "                              '--MAX_ITER', str(MAX_ITER), \n",
    "                              '--GRASP_SAMPLE', str(GRASP_SAMPLE),\n",
    "                              '--STABLE_SAMPLE', str(STABLE_SAMPLE),\n",
    "                              '--SEARCH_SAMPLE_RATIO', \n",
    "                              str(SEARCH_SAMPLE_RATIO)])\n",
    "        p.wait()\n",
    "        e_step = np.round(gtimer.toc(\"step\"), 1)\n",
    "        e_step_list.append(e_step)\n",
    "        print(\"------- \" + (\"{:<8}\"*len(e_step_list)).format(*e_step_list) + \"-------\", end=\"\\r\")\n",
    "        \n",
    "    print(\"\")\n",
    "    print(\"========== {} / {} (eta: {} / {} s) =========\".format(\n",
    "        fid+1, N_DAT, *np.round(gtimer.eta(\"full_loop\", fid-I_START+1, N_DAT), 1)))"
   ]
  },
  {
   "cell_type": "code",
   "execution_count": null,
   "metadata": {},
   "outputs": [],
   "source": []
  },
  {
   "cell_type": "markdown",
   "metadata": {},
   "source": [
    "# obj1 obs5"
   ]
  },
  {
   "cell_type": "code",
   "execution_count": 8,
   "metadata": {},
   "outputs": [],
   "source": [
    "RTYPE = \"indy7gripper\"\n",
    "# DAT_DIR = '20210907-071329'\n",
    "FILE_OPTION = \"obj_1_obs5\"\n",
    "# DAT_DIR, FILE_OPTION = \"20210613-023004\", \"obj_1\"\n",
    "# DAT_DIR, FILE_OPTION = \"20210612-114040\", \"obj_1\"\n",
    "# DAT_DIR, FILE_OPTION = \"20210612-151342\", \"obj_3\"\n",
    "# DAT_DIR, FILE_OPTION = \"20210612-161536\", \"obj_3_pole\"\n",
    "\n",
    "# RTYPE = \"panda\"\n",
    "# DAT_DIR = '20210705-182244'\n",
    "# FILE_OPTION = \"obj_1\"\n",
    "# # DAT_DIR, FILE_OPTION = \"20210613-022832\", \"obj_1\"\n",
    "# # # DAT_DIR, FILE_OPTION = \"20210612-221934\", \"obj_1\"\n",
    "\n",
    "# CNAME_LIST = ['None','Tool','ToolReach','Full'] #,'Pairwise']\n",
    "# # CNAME_LIST = ['Full'] #,'Pairwise']\n",
    "# VISUALIZE = False\n",
    "# PLAY_RESULT = False\n",
    "# SHOW_STATE = False\n",
    "\n",
    "# TIMEOUT_MOTION = 5\n",
    "# MAX_TIME = 100\n",
    "# MAX_ITER = 10000\n",
    "\n",
    "# GRASP_SAMPLE = 30\n",
    "# STABLE_SAMPLE = 50\n",
    "# SEARCH_SAMPLE_RATIO= 100\n"
   ]
  },
  {
   "cell_type": "code",
   "execution_count": null,
   "metadata": {},
   "outputs": [],
   "source": []
  },
  {
   "cell_type": "markdown",
   "metadata": {},
   "source": [
    "### test"
   ]
  },
  {
   "cell_type": "code",
   "execution_count": 9,
   "metadata": {},
   "outputs": [],
   "source": [
    "I_START = 0\n",
    "I_END = 20\n",
    "N_DAT = I_END-I_START"
   ]
  },
  {
   "cell_type": "code",
   "execution_count": 10,
   "metadata": {
    "scrolled": true
   },
   "outputs": [
    {
     "name": "stdout",
     "output_type": "stream",
     "text": [
      "------- 10.7    7.8     5.2     5.2     -------\n",
      "========== 1 / 20 (eta: 28.9 / 578.5 s) =========\n",
      "------- 8.8     4.9     4.9     4.5     -------\n",
      "========== 2 / 20 (eta: 52.1 / 520.7 s) =========\n",
      "------- 82.3    6.4     5.4     6.2     -------\n",
      "========== 3 / 20 (eta: 152.4 / 1016.1 s) =========\n",
      "------- 103.5   37.6    113.1   110.6   -------\n",
      "========== 4 / 20 (eta: 517.3 / 2586.6 s) =========\n",
      "------- 104.4   24.3    40.1    110.5   -------\n",
      "========== 5 / 20 (eta: 796.6 / 3186.6 s) =========\n",
      "------- 10.1    11.8    36.3    14.8    -------\n",
      "========== 6 / 20 (eta: 869.7 / 2899.0 s) =========\n",
      "------- 8.8     5.8     5.1     4.8     -------\n",
      "========== 7 / 20 (eta: 894.2 / 2554.9 s) =========\n",
      "------- 108.4   19.9    105.0   71.1    -------\n",
      "========== 8 / 20 (eta: 1198.5 / 2996.3 s) =========\n",
      "------- 10.2    5.4     6.7     5.2     -------\n",
      "========== 9 / 20 (eta: 1226.1 / 2724.6 s) =========\n",
      "------- 103.8   9.8     104.0   106.9   -------\n",
      "========== 10 / 20 (eta: 1550.6 / 3101.1 s) =========\n",
      "------- 12.5    5.1     4.8     5.5     -------\n",
      "========== 11 / 20 (eta: 1578.5 / 2869.9 s) =========\n",
      "------- 15.9    6.9     6.0     6.4     -------\n",
      "========== 12 / 20 (eta: 1613.7 / 2689.5 s) =========\n",
      "------- 104.9   24.2    111.3   13.7    -------\n",
      "========== 13 / 20 (eta: 1867.9 / 2873.7 s) =========\n",
      "------- 5.3     4.5     4.6     7.5     -------\n",
      "========== 14 / 20 (eta: 1889.8 / 2699.8 s) =========\n",
      "------- 10.0    7.4     5.6     10.0    -------\n",
      "========== 15 / 20 (eta: 1922.9 / 2563.9 s) =========\n",
      "------- 10.8    4.7     11.4    22.4    -------\n",
      "========== 16 / 20 (eta: 1972.2 / 2465.2 s) =========\n",
      "------- 22.3    6.5     5.2     20.6    -------\n",
      "========== 17 / 20 (eta: 2026.7 / 2384.4 s) =========\n",
      "------- 4.2     3.9     4.8     4.9     -------\n",
      "========== 18 / 20 (eta: 2044.6 / 2271.8 s) =========\n",
      "------- 4.9     10.5    10.5    5.6     -------\n",
      "========== 19 / 20 (eta: 2076.2 / 2185.4 s) =========\n",
      "------- 5.1     14.8    6.1     5.3     -------\n",
      "========== 20 / 20 (eta: 2107.4 / 2107.4 s) =========\n"
     ]
    }
   ],
   "source": [
    "ROBOT_DATA_ROOT = os.path.join(TEST_DATA_PATH, RTYPE)\n",
    "ROBOT_RESULT_ROOT = os.path.join(TEST_RESULT_PATH, RTYPE)\n",
    "DATASET_PATH = os.path.join(ROBOT_DATA_ROOT, DAT_DIR)\n",
    "RESULTSET_PATH = os.path.join(ROBOT_RESULT_ROOT, DAT_DIR)\n",
    "file_list = sorted(os.listdir(DATASET_PATH))\n",
    "\n",
    "gtimer = GlobalTimer.instance()\n",
    "gtimer.reset(scale=1, timeunit='s')\n",
    "\n",
    "gtimer.tic(\"full_loop\")\n",
    "for fid in range(I_START, I_END):\n",
    "    e_step_list = []\n",
    "    for i_c, cname in enumerate(CNAME_LIST):\n",
    "        gtimer.tic(\"step\")\n",
    "        p = subprocess.Popen(['python', '{}src/scripts/developing/pddlstream/test_saved_scene.py'.format(RNB_PLANNING_DIR),\n",
    "                              '--rtype', RTYPE,\n",
    "                              '--dat_root', DAT_ROOT,\n",
    "                              '--res_root', RES_ROOT,\n",
    "                              '--dat_dir', DAT_DIR,\n",
    "                              '--file_option', FILE_OPTION,\n",
    "                              '--data_idx', str(fid),\n",
    "                              '--cname', cname,\n",
    "                              '--VISUALIZE', str(VISUALIZE),\n",
    "                              '--PLAY_RESULT', str(PLAY_RESULT),\n",
    "                              '--TIMEOUT_MOTION', str(TIMEOUT_MOTION),\n",
    "                              '--MAX_TIME', str(MAX_TIME),\n",
    "                              '--MAX_ITER', str(MAX_ITER), \n",
    "                              '--GRASP_SAMPLE', str(GRASP_SAMPLE),\n",
    "                              '--STABLE_SAMPLE', str(STABLE_SAMPLE),\n",
    "                              '--SEARCH_SAMPLE_RATIO', \n",
    "                              str(SEARCH_SAMPLE_RATIO)])\n",
    "        p.wait()\n",
    "        e_step = np.round(gtimer.toc(\"step\"), 1)\n",
    "        e_step_list.append(e_step)\n",
    "        print(\"------- \" + (\"{:<8}\"*len(e_step_list)).format(*e_step_list) + \"-------\", end=\"\\r\")\n",
    "        \n",
    "    print(\"\")\n",
    "    print(\"========== {} / {} (eta: {} / {} s) =========\".format(\n",
    "        fid+1, N_DAT, *np.round(gtimer.eta(\"full_loop\", fid-I_START+1, N_DAT), 1)))"
   ]
  },
  {
   "cell_type": "code",
   "execution_count": null,
   "metadata": {},
   "outputs": [],
   "source": []
  },
  {
   "cell_type": "markdown",
   "metadata": {},
   "source": [
    "# obj3"
   ]
  },
  {
   "cell_type": "code",
   "execution_count": 11,
   "metadata": {},
   "outputs": [],
   "source": [
    "RTYPE = \"indy7gripper\"\n",
    "# DAT_DIR = '20210907-071329'\n",
    "FILE_OPTION = \"obj_3\"\n",
    "# DAT_DIR, FILE_OPTION = \"20210613-023004\", \"obj_1\"\n",
    "# DAT_DIR, FILE_OPTION = \"20210612-114040\", \"obj_1\"\n",
    "# DAT_DIR, FILE_OPTION = \"20210612-151342\", \"obj_3\"\n",
    "# DAT_DIR, FILE_OPTION = \"20210612-161536\", \"obj_3_pole\"\n",
    "\n",
    "# RTYPE = \"panda\"\n",
    "# DAT_DIR = '20210705-182244'\n",
    "# FILE_OPTION = \"obj_3\"\n",
    "# # DAT_DIR, FILE_OPTION = \"20210613-022832\", \"obj_1\"\n",
    "# # # DAT_DIR, FILE_OPTION = \"20210612-221934\", \"obj_1\"\n",
    "\n",
    "# CNAME_LIST = ['None','Tool','ToolReach','Full'] #,'Pairwise']\n",
    "# GRASP_SAMPLE = 100\n",
    "# VISUALIZE = True\n",
    "# PLAY_RESULT = True\n",
    "# TIMEOUT_MOTION = 5\n",
    "# MAX_TIME = 100\n",
    "# SHOW_STATE = False\n"
   ]
  },
  {
   "cell_type": "code",
   "execution_count": 12,
   "metadata": {},
   "outputs": [],
   "source": [
    "I_START=0\n",
    "I_END = 20\n",
    "N_DAT = I_END-I_START"
   ]
  },
  {
   "cell_type": "markdown",
   "metadata": {},
   "source": [
    "### test"
   ]
  },
  {
   "cell_type": "code",
   "execution_count": 13,
   "metadata": {
    "scrolled": true
   },
   "outputs": [
    {
     "name": "stdout",
     "output_type": "stream",
     "text": [
      "------- 5.4     5.1     4.6     6.1     -------\n",
      "========== 1 / 20 (eta: 21.2 / 424.1 s) =========\n",
      "------- 26.3    3.9     5.5     5.3     -------\n",
      "========== 2 / 20 (eta: 62.3 / 623.2 s) =========\n",
      "------- 107.7   9.7     5.3     104.2   -------\n",
      "========== 3 / 20 (eta: 289.2 / 1928.2 s) =========\n",
      "------- 13.1    10.0    6.3     4.9     -------\n",
      "========== 4 / 20 (eta: 323.6 / 1617.9 s) =========\n",
      "------- 106.3   127.4   7.8     7.6     -------\n",
      "========== 5 / 20 (eta: 572.7 / 2290.9 s) =========\n",
      "------- 10.2    5.0     6.7     5.2     -------\n",
      "========== 6 / 20 (eta: 599.8 / 1999.5 s) =========\n",
      "------- 16.4    5.9     4.9     4.9     -------\n",
      "========== 7 / 20 (eta: 631.9 / 1805.5 s) =========\n",
      "------- 10.1    4.9     4.6     14.3    -------\n",
      "========== 8 / 20 (eta: 665.8 / 1664.5 s) =========\n",
      "------- 15.7    9.4     4.5     4.9     -------\n",
      "========== 9 / 20 (eta: 700.4 / 1556.4 s) =========\n",
      "------- 15.0    10.3    103.9   4.7     -------\n",
      "========== 10 / 20 (eta: 834.2 / 1668.3 s) =========\n",
      "------- 4.3     4.0     4.7     5.7     -------\n",
      "========== 11 / 20 (eta: 852.9 / 1550.7 s) =========\n",
      "------- 4.2     4.6     5.9     4.6     -------\n",
      "========== 12 / 20 (eta: 872.2 / 1453.7 s) =========\n",
      "------- 59.3    4.5     5.5     4.7     -------\n",
      "========== 13 / 20 (eta: 946.2 / 1455.7 s) =========\n",
      "------- 10.6    6.8     5.2     4.5     -------\n",
      "========== 14 / 20 (eta: 973.3 / 1390.5 s) =========\n",
      "------- 28.7    3.9     4.7     5.6     -------\n",
      "========== 15 / 20 (eta: 1016.3 / 1355.0 s) =========\n",
      "------- 12.6    5.6     4.4     4.4     -------\n",
      "========== 16 / 20 (eta: 1043.3 / 1304.1 s) =========\n",
      "------- 48.5    5.1     4.8     4.7     -------\n",
      "========== 17 / 20 (eta: 1106.2 / 1301.4 s) =========\n",
      "------- 25.2    4.4     5.8     5.5     -------\n",
      "========== 18 / 20 (eta: 1147.1 / 1274.5 s) =========\n",
      "------- 9.6     4.0     5.0     5.6     -------\n",
      "========== 19 / 20 (eta: 1171.3 / 1232.9 s) =========\n",
      "------- 4.6     6.6     20.0    5.1     -------\n",
      "========== 20 / 20 (eta: 1207.5 / 1207.5 s) =========\n"
     ]
    }
   ],
   "source": [
    "ROBOT_DATA_ROOT = os.path.join(TEST_DATA_PATH, RTYPE)\n",
    "ROBOT_RESULT_ROOT = os.path.join(TEST_RESULT_PATH, RTYPE)\n",
    "DATASET_PATH = os.path.join(ROBOT_DATA_ROOT, DAT_DIR)\n",
    "RESULTSET_PATH = os.path.join(ROBOT_RESULT_ROOT, DAT_DIR)\n",
    "file_list = sorted(os.listdir(DATASET_PATH))\n",
    "\n",
    "gtimer = GlobalTimer.instance()\n",
    "gtimer.reset(scale=1, timeunit='s')\n",
    "\n",
    "gtimer.tic(\"full_loop\")\n",
    "for fid in range(I_START, I_END):\n",
    "    e_step_list = []\n",
    "    for i_c, cname in enumerate(CNAME_LIST):\n",
    "        gtimer.tic(\"step\")\n",
    "        p = subprocess.Popen(['python', '{}src/scripts/developing/pddlstream/test_saved_scene.py'.format(RNB_PLANNING_DIR),\n",
    "                              '--rtype', RTYPE,\n",
    "                              '--dat_root', DAT_ROOT,\n",
    "                              '--res_root', RES_ROOT,\n",
    "                              '--dat_dir', DAT_DIR,\n",
    "                              '--file_option', FILE_OPTION,\n",
    "                              '--data_idx', str(fid),\n",
    "                              '--cname', cname,\n",
    "                              '--VISUALIZE', str(VISUALIZE),\n",
    "                              '--PLAY_RESULT', str(PLAY_RESULT),\n",
    "                              '--TIMEOUT_MOTION', str(TIMEOUT_MOTION),\n",
    "                              '--MAX_TIME', str(MAX_TIME),\n",
    "                              '--MAX_ITER', str(MAX_ITER), \n",
    "                              '--GRASP_SAMPLE', str(GRASP_SAMPLE),\n",
    "                              '--STABLE_SAMPLE', str(STABLE_SAMPLE),\n",
    "                              '--SEARCH_SAMPLE_RATIO', \n",
    "                              str(SEARCH_SAMPLE_RATIO)])\n",
    "        p.wait()\n",
    "        e_step = np.round(gtimer.toc(\"step\"), 1)\n",
    "        e_step_list.append(e_step)\n",
    "        print(\"------- \" + (\"{:<8}\"*len(e_step_list)).format(*e_step_list) + \"-------\", end=\"\\r\")\n",
    "        \n",
    "    print(\"\")\n",
    "    print(\"========== {} / {} (eta: {} / {} s) =========\".format(\n",
    "        fid+1, N_DAT, *np.round(gtimer.eta(\"full_loop\", fid-I_START+1, N_DAT), 1)))"
   ]
  },
  {
   "cell_type": "code",
   "execution_count": null,
   "metadata": {},
   "outputs": [],
   "source": []
  },
  {
   "cell_type": "code",
   "execution_count": null,
   "metadata": {},
   "outputs": [],
   "source": []
  },
  {
   "cell_type": "markdown",
   "metadata": {},
   "source": [
    "# obj3_pole"
   ]
  },
  {
   "cell_type": "code",
   "execution_count": 20,
   "metadata": {},
   "outputs": [],
   "source": [
    "RTYPE = \"indy7gripper\"\n",
    "# DAT_DIR = '20210907-071329'\n",
    "FILE_OPTION = \"obj_3_pole\"\n",
    "# DAT_DIR, FILE_OPTION = \"20210613-023004\", \"obj_1\"\n",
    "# DAT_DIR, FILE_OPTION = \"20210612-114040\", \"obj_1\"\n",
    "# DAT_DIR, FILE_OPTION = \"20210612-151342\", \"obj_3\"\n",
    "# DAT_DIR, FILE_OPTION = \"20210612-161536\", \"obj_3_pole\"\n",
    "\n",
    "# RTYPE = \"panda\"\n",
    "# DAT_DIR = '20210705-182244'\n",
    "# FILE_OPTION = \"obj_3_pole\"\n",
    "# # DAT_DIR, FILE_OPTION = \"20210613-022832\", \"obj_1\"\n",
    "# # # DAT_DIR, FILE_OPTION = \"20210612-221934\", \"obj_1\"\n",
    "\n",
    "# CNAME_LIST = ['None','Tool','ToolReach','Full'] #,'Pairwise']\n",
    "# GRASP_SAMPLE = 100\n",
    "# VISUALIZE = True\n",
    "# PLAY_RESULT = True\n",
    "# TIMEOUT_MOTION = 5\n",
    "# MAX_TIME = 100\n",
    "# SHOW_STATE = False\n"
   ]
  },
  {
   "cell_type": "code",
   "execution_count": 21,
   "metadata": {},
   "outputs": [],
   "source": [
    "I_START=0\n",
    "I_END = 20\n",
    "N_DAT = I_END-I_START"
   ]
  },
  {
   "cell_type": "markdown",
   "metadata": {},
   "source": [
    "### test"
   ]
  },
  {
   "cell_type": "code",
   "execution_count": 22,
   "metadata": {
    "scrolled": true
   },
   "outputs": [
    {
     "name": "stdout",
     "output_type": "stream",
     "text": [
      "------- 103.7   103.7   76.7    95.1    -------\n",
      "========== 1 / 20 (eta: 379.2 / 7584.3 s) =========\n"
     ]
    },
    {
     "ename": "KeyboardInterrupt",
     "evalue": "",
     "output_type": "error",
     "traceback": [
      "\u001b[0;31m---------------------------------------------------------------------------\u001b[0m",
      "\u001b[0;31mKeyboardInterrupt\u001b[0m                         Traceback (most recent call last)",
      "\u001b[0;32m<ipython-input-22-9fefb7ba6001>\u001b[0m in \u001b[0;36m<module>\u001b[0;34m()\u001b[0m\n\u001b[1;32m     30\u001b[0m                               \u001b[0;34m'--SEARCH_SAMPLE_RATIO'\u001b[0m\u001b[0;34m,\u001b[0m\u001b[0;34m\u001b[0m\u001b[0m\n\u001b[1;32m     31\u001b[0m                               str(SEARCH_SAMPLE_RATIO)])\n\u001b[0;32m---> 32\u001b[0;31m         \u001b[0mp\u001b[0m\u001b[0;34m.\u001b[0m\u001b[0mwait\u001b[0m\u001b[0;34m(\u001b[0m\u001b[0;34m)\u001b[0m\u001b[0;34m\u001b[0m\u001b[0m\n\u001b[0m\u001b[1;32m     33\u001b[0m         \u001b[0me_step\u001b[0m \u001b[0;34m=\u001b[0m \u001b[0mnp\u001b[0m\u001b[0;34m.\u001b[0m\u001b[0mround\u001b[0m\u001b[0;34m(\u001b[0m\u001b[0mgtimer\u001b[0m\u001b[0;34m.\u001b[0m\u001b[0mtoc\u001b[0m\u001b[0;34m(\u001b[0m\u001b[0;34m\"step\"\u001b[0m\u001b[0;34m)\u001b[0m\u001b[0;34m,\u001b[0m \u001b[0;36m1\u001b[0m\u001b[0;34m)\u001b[0m\u001b[0;34m\u001b[0m\u001b[0m\n\u001b[1;32m     34\u001b[0m         \u001b[0me_step_list\u001b[0m\u001b[0;34m.\u001b[0m\u001b[0mappend\u001b[0m\u001b[0;34m(\u001b[0m\u001b[0me_step\u001b[0m\u001b[0;34m)\u001b[0m\u001b[0;34m\u001b[0m\u001b[0m\n",
      "\u001b[0;32m/usr/lib/python2.7/subprocess.pyc\u001b[0m in \u001b[0;36mwait\u001b[0;34m(self)\u001b[0m\n\u001b[1;32m   1097\u001b[0m             \u001b[0;32mwhile\u001b[0m \u001b[0mself\u001b[0m\u001b[0;34m.\u001b[0m\u001b[0mreturncode\u001b[0m \u001b[0;32mis\u001b[0m \u001b[0mNone\u001b[0m\u001b[0;34m:\u001b[0m\u001b[0;34m\u001b[0m\u001b[0m\n\u001b[1;32m   1098\u001b[0m                 \u001b[0;32mtry\u001b[0m\u001b[0;34m:\u001b[0m\u001b[0;34m\u001b[0m\u001b[0m\n\u001b[0;32m-> 1099\u001b[0;31m                     \u001b[0mpid\u001b[0m\u001b[0;34m,\u001b[0m \u001b[0msts\u001b[0m \u001b[0;34m=\u001b[0m \u001b[0m_eintr_retry_call\u001b[0m\u001b[0;34m(\u001b[0m\u001b[0mos\u001b[0m\u001b[0;34m.\u001b[0m\u001b[0mwaitpid\u001b[0m\u001b[0;34m,\u001b[0m \u001b[0mself\u001b[0m\u001b[0;34m.\u001b[0m\u001b[0mpid\u001b[0m\u001b[0;34m,\u001b[0m \u001b[0;36m0\u001b[0m\u001b[0;34m)\u001b[0m\u001b[0;34m\u001b[0m\u001b[0m\n\u001b[0m\u001b[1;32m   1100\u001b[0m                 \u001b[0;32mexcept\u001b[0m \u001b[0mOSError\u001b[0m \u001b[0;32mas\u001b[0m \u001b[0me\u001b[0m\u001b[0;34m:\u001b[0m\u001b[0;34m\u001b[0m\u001b[0m\n\u001b[1;32m   1101\u001b[0m                     \u001b[0;32mif\u001b[0m \u001b[0me\u001b[0m\u001b[0;34m.\u001b[0m\u001b[0merrno\u001b[0m \u001b[0;34m!=\u001b[0m \u001b[0merrno\u001b[0m\u001b[0;34m.\u001b[0m\u001b[0mECHILD\u001b[0m\u001b[0;34m:\u001b[0m\u001b[0;34m\u001b[0m\u001b[0m\n",
      "\u001b[0;32m/usr/lib/python2.7/subprocess.pyc\u001b[0m in \u001b[0;36m_eintr_retry_call\u001b[0;34m(func, *args)\u001b[0m\n\u001b[1;32m    123\u001b[0m     \u001b[0;32mwhile\u001b[0m \u001b[0mTrue\u001b[0m\u001b[0;34m:\u001b[0m\u001b[0;34m\u001b[0m\u001b[0m\n\u001b[1;32m    124\u001b[0m         \u001b[0;32mtry\u001b[0m\u001b[0;34m:\u001b[0m\u001b[0;34m\u001b[0m\u001b[0m\n\u001b[0;32m--> 125\u001b[0;31m             \u001b[0;32mreturn\u001b[0m \u001b[0mfunc\u001b[0m\u001b[0;34m(\u001b[0m\u001b[0;34m*\u001b[0m\u001b[0margs\u001b[0m\u001b[0;34m)\u001b[0m\u001b[0;34m\u001b[0m\u001b[0m\n\u001b[0m\u001b[1;32m    126\u001b[0m         \u001b[0;32mexcept\u001b[0m \u001b[0;34m(\u001b[0m\u001b[0mOSError\u001b[0m\u001b[0;34m,\u001b[0m \u001b[0mIOError\u001b[0m\u001b[0;34m)\u001b[0m \u001b[0;32mas\u001b[0m \u001b[0me\u001b[0m\u001b[0;34m:\u001b[0m\u001b[0;34m\u001b[0m\u001b[0m\n\u001b[1;32m    127\u001b[0m             \u001b[0;32mif\u001b[0m \u001b[0me\u001b[0m\u001b[0;34m.\u001b[0m\u001b[0merrno\u001b[0m \u001b[0;34m==\u001b[0m \u001b[0merrno\u001b[0m\u001b[0;34m.\u001b[0m\u001b[0mEINTR\u001b[0m\u001b[0;34m:\u001b[0m\u001b[0;34m\u001b[0m\u001b[0m\n",
      "\u001b[0;31mKeyboardInterrupt\u001b[0m: "
     ]
    }
   ],
   "source": [
    "ROBOT_DATA_ROOT = os.path.join(TEST_DATA_PATH, RTYPE)\n",
    "ROBOT_RESULT_ROOT = os.path.join(TEST_RESULT_PATH, RTYPE)\n",
    "DATASET_PATH = os.path.join(ROBOT_DATA_ROOT, DAT_DIR)\n",
    "RESULTSET_PATH = os.path.join(ROBOT_RESULT_ROOT, DAT_DIR)\n",
    "file_list = sorted(os.listdir(DATASET_PATH))\n",
    "\n",
    "gtimer = GlobalTimer.instance()\n",
    "gtimer.reset(scale=1, timeunit='s')\n",
    "\n",
    "gtimer.tic(\"full_loop\")\n",
    "for fid in range(I_START, I_END):\n",
    "    e_step_list = []\n",
    "    for i_c, cname in enumerate(CNAME_LIST):\n",
    "        gtimer.tic(\"step\")\n",
    "        p = subprocess.Popen(['python', '{}src/scripts/developing/pddlstream/test_saved_scene.py'.format(RNB_PLANNING_DIR),\n",
    "                              '--rtype', RTYPE,\n",
    "                              '--dat_root', DAT_ROOT,\n",
    "                              '--res_root', RES_ROOT,\n",
    "                              '--dat_dir', DAT_DIR,\n",
    "                              '--file_option', FILE_OPTION,\n",
    "                              '--data_idx', str(fid),\n",
    "                              '--cname', cname,\n",
    "                              '--VISUALIZE', str(VISUALIZE),\n",
    "                              '--PLAY_RESULT', str(PLAY_RESULT),\n",
    "                              '--TIMEOUT_MOTION', str(TIMEOUT_MOTION),\n",
    "                              '--MAX_TIME', str(MAX_TIME),\n",
    "                              '--MAX_ITER', str(MAX_ITER), \n",
    "                              '--GRASP_SAMPLE', str(GRASP_SAMPLE),\n",
    "                              '--STABLE_SAMPLE', str(STABLE_SAMPLE),\n",
    "                              '--SEARCH_SAMPLE_RATIO', \n",
    "                              str(SEARCH_SAMPLE_RATIO)])\n",
    "        p.wait()\n",
    "        e_step = np.round(gtimer.toc(\"step\"), 1)\n",
    "        e_step_list.append(e_step)\n",
    "        print(\"------- \" + (\"{:<8}\"*len(e_step_list)).format(*e_step_list) + \"-------\", end=\"\\r\")\n",
    "        \n",
    "    print(\"\")\n",
    "    print(\"========== {} / {} (eta: {} / {} s) =========\".format(\n",
    "        fid+1, N_DAT, *np.round(gtimer.eta(\"full_loop\", fid-I_START+1, N_DAT), 1)))"
   ]
  },
  {
   "cell_type": "code",
   "execution_count": null,
   "metadata": {},
   "outputs": [],
   "source": []
  },
  {
   "cell_type": "markdown",
   "metadata": {},
   "source": [
    "# obj3_hard"
   ]
  },
  {
   "cell_type": "code",
   "execution_count": 17,
   "metadata": {},
   "outputs": [],
   "source": [
    "RTYPE = \"indy7gripper\"\n",
    "# DAT_DIR = '20210907-071329'\n",
    "# DAT_DIR = '20210907-071329'\n",
    "# DAT_DIR = '20210702-152658'\n",
    "FILE_OPTION = \"obj_3_hard\"\n",
    "# DAT_DIR, FILE_OPTION = \"20210613-023004\", \"obj_1\"\n",
    "# DAT_DIR, FILE_OPTION = \"20210612-114040\", \"obj_1\"\n",
    "# DAT_DIR, FILE_OPTION = \"20210612-151342\", \"obj_3\"\n",
    "# DAT_DIR, FILE_OPTION = \"20210612-161536\", \"obj_3_pole\"\n",
    "\n",
    "# RTYPE = \"panda\"\n",
    "# DAT_DIR = '20210705-182244'\n",
    "# FILE_OPTION = \"obj_3_pole\"\n",
    "# # DAT_DIR, FILE_OPTION = \"20210613-022832\", \"obj_1\"\n",
    "# # # DAT_DIR, FILE_OPTION = \"20210612-221934\", \"obj_1\"\n",
    "\n",
    "# CNAME_LIST = ['ToolReach','Full'] #,'Pairwise']\n",
    "# # CNAME_LIST = ['Full'] #,'Pairwise']\n",
    "# GRASP_SAMPLE = 100\n",
    "# VISUALIZE = False\n",
    "# PLAY_RESULT = False\n",
    "# SHOW_STATE = False\n",
    "\n",
    "# TIMEOUT_MOTION = 5\n",
    "# MAX_TIME = 100\n",
    "# MAX_ITER = 100"
   ]
  },
  {
   "cell_type": "code",
   "execution_count": 18,
   "metadata": {},
   "outputs": [],
   "source": [
    "I_START=0\n",
    "I_END = 20\n",
    "N_DAT = I_END-I_START"
   ]
  },
  {
   "cell_type": "markdown",
   "metadata": {},
   "source": [
    "### test"
   ]
  },
  {
   "cell_type": "code",
   "execution_count": 19,
   "metadata": {},
   "outputs": [
    {
     "name": "stdout",
     "output_type": "stream",
     "text": [
      "------- 103.5   106.3   9.3     103.9   -------\n",
      "========== 1 / 20 (eta: 323.0 / 6460.4 s) =========\n",
      "------- 13.3    5.9     7.0     5.9     -------\n",
      "========== 2 / 20 (eta: 355.1 / 3551.5 s) =========\n",
      "------- 11.7    5.6     7.8     75.7    -------\n",
      "========== 3 / 20 (eta: 456.0 / 3039.9 s) =========\n",
      "------- 11.5    4.8     103.9   7.8     -------\n",
      "========== 4 / 20 (eta: 584.0 / 2919.9 s) =========\n",
      "------- 15.0    57.1    105.6   142.8   -------\n",
      "========== 5 / 20 (eta: 904.4 / 3617.5 s) =========\n",
      "------- 12.8    104.2   6.2     8.1     -------\n",
      "========== 6 / 20 (eta: 1035.8 / 3452.5 s) =========\n",
      "------- 66.9    4.9     5.3     8.2     -------\n",
      "========== 7 / 20 (eta: 1121.2 / 3203.4 s) =========\n",
      "------- 103.6   103.5   104.0   103.9   -------\n",
      "========== 8 / 20 (eta: 1536.2 / 3840.6 s) =========\n",
      "------- 103.4   103.4   110.1   128.1   -------\n",
      "========== 9 / 20 (eta: 1981.2 / 4402.7 s) =========\n",
      "------- 5.5     5.1     8.4     10.4    -------\n",
      "========== 10 / 20 (eta: 2010.5 / 4021.1 s) =========\n",
      "------- 104.0   103.4   104.6   103.9   -------\n",
      "========== 11 / 20 (eta: 2426.5 / 4411.8 s) =========\n",
      "------- 103.8   103.6   104.0   103.8   -------\n",
      "========== 12 / 20 (eta: 2841.6 / 4736.1 s) =========\n",
      "------- 20.3    9.9     7.6     8.2     -------\n",
      "========== 13 / 20 (eta: 2887.6 / 4442.4 s) =========\n",
      "------- 55.1    36.0    6.6     14.6    -------\n",
      "========== 14 / 20 (eta: 2999.9 / 4285.5 s) =========\n",
      "------- 9.9     7.0     8.1     8.0     -------\n",
      "========== 15 / 20 (eta: 3032.8 / 4043.7 s) =========\n",
      "------- 5.5     9.4     4.9     12.3    -------\n",
      "========== 16 / 20 (eta: 3064.8 / 3831.1 s) =========\n",
      "------- 5.2     4.4     7.8     9.7     -------\n",
      "========== 17 / 20 (eta: 3091.9 / 3637.5 s) =========\n",
      "------- 103.7   103.7   28.2    104.0   -------\n",
      "========== 18 / 20 (eta: 3431.5 / 3812.8 s) =========\n",
      "------- 14.6    6.5     11.9    35.8    -------\n",
      "========== 19 / 20 (eta: 3500.3 / 3684.5 s) =========\n",
      "------- 13.7    103.5   111.4   104.0   -------\n",
      "========== 20 / 20 (eta: 3832.9 / 3832.9 s) =========\n"
     ]
    }
   ],
   "source": [
    "ROBOT_DATA_ROOT = os.path.join(TEST_DATA_PATH, RTYPE)\n",
    "ROBOT_RESULT_ROOT = os.path.join(TEST_RESULT_PATH, RTYPE)\n",
    "DATASET_PATH = os.path.join(ROBOT_DATA_ROOT, DAT_DIR)\n",
    "RESULTSET_PATH = os.path.join(ROBOT_RESULT_ROOT, DAT_DIR)\n",
    "file_list = sorted(os.listdir(DATASET_PATH))\n",
    "\n",
    "gtimer = GlobalTimer.instance()\n",
    "gtimer.reset(scale=1, timeunit='s')\n",
    "\n",
    "gtimer.tic(\"full_loop\")\n",
    "for fid in range(I_START, I_END):\n",
    "    e_step_list = []\n",
    "    for i_c, cname in enumerate(CNAME_LIST):\n",
    "        gtimer.tic(\"step\")\n",
    "        p = subprocess.Popen(['python', '{}src/scripts/developing/pddlstream/test_saved_scene.py'.format(RNB_PLANNING_DIR),\n",
    "                              '--rtype', RTYPE,\n",
    "                              '--dat_root', DAT_ROOT,\n",
    "                              '--res_root', RES_ROOT,\n",
    "                              '--dat_dir', DAT_DIR,\n",
    "                              '--file_option', FILE_OPTION,\n",
    "                              '--data_idx', str(fid),\n",
    "                              '--cname', cname,\n",
    "                              '--VISUALIZE', str(VISUALIZE),\n",
    "                              '--PLAY_RESULT', str(PLAY_RESULT),\n",
    "                              '--TIMEOUT_MOTION', str(TIMEOUT_MOTION),\n",
    "                              '--MAX_TIME', str(MAX_TIME),\n",
    "                              '--MAX_ITER', str(MAX_ITER), \n",
    "                              '--GRASP_SAMPLE', str(GRASP_SAMPLE),\n",
    "                              '--STABLE_SAMPLE', str(STABLE_SAMPLE),\n",
    "                              '--SEARCH_SAMPLE_RATIO', \n",
    "                              str(SEARCH_SAMPLE_RATIO)])\n",
    "        p.wait()\n",
    "        e_step = np.round(gtimer.toc(\"step\"), 1)\n",
    "        e_step_list.append(e_step)\n",
    "        print(\"------- \" + (\"{:<8}\"*len(e_step_list)).format(*e_step_list) + \"-------\", end=\"\\r\")\n",
    "        \n",
    "    print(\"\")\n",
    "    print(\"========== {} / {} (eta: {} / {} s) =========\".format(\n",
    "        fid+1, N_DAT, *np.round(gtimer.eta(\"full_loop\", fid-I_START+1, N_DAT), 1)))"
   ]
  },
  {
   "cell_type": "code",
   "execution_count": null,
   "metadata": {},
   "outputs": [],
   "source": []
  },
  {
   "cell_type": "code",
   "execution_count": null,
   "metadata": {},
   "outputs": [],
   "source": []
  },
  {
   "cell_type": "markdown",
   "metadata": {},
   "source": [
    "# obj1 obs3"
   ]
  },
  {
   "cell_type": "code",
   "execution_count": 12,
   "metadata": {},
   "outputs": [],
   "source": [
    "RTYPE = \"indy7gripper\"\n",
    "# DAT_DIR = '20210907-071329'\n",
    "FILE_OPTION = \"obj_1c_obs3\"\n",
    "# DAT_DIR, FILE_OPTION = \"20210613-023004\", \"obj_1\"\n",
    "# DAT_DIR, FILE_OPTION = \"20210612-114040\", \"obj_1\"\n",
    "# DAT_DIR, FILE_OPTION = \"20210612-151342\", \"obj_3\"\n",
    "# DAT_DIR, FILE_OPTION = \"20210612-161536\", \"obj_3_pole\"\n",
    "\n",
    "# RTYPE = \"panda\"\n",
    "# DAT_DIR = '20210705-182244'\n",
    "# FILE_OPTION = \"obj_1\"\n",
    "# # DAT_DIR, FILE_OPTION = \"20210613-022832\", \"obj_1\"\n",
    "# # # DAT_DIR, FILE_OPTION = \"20210612-221934\", \"obj_1\"\n",
    "\n",
    "# CNAME_LIST = ['None','Tool','ToolReach','Full'] #,'Pairwise']\n",
    "# # CNAME_LIST = ['Full'] #,'Pairwise']\n",
    "# VISUALIZE = False\n",
    "# PLAY_RESULT = False\n",
    "# SHOW_STATE = False\n",
    "\n",
    "# TIMEOUT_MOTION = 5\n",
    "# MAX_TIME = 100\n",
    "# MAX_ITER = 10000\n",
    "\n",
    "# GRASP_SAMPLE = 30\n",
    "# STABLE_SAMPLE = 50\n",
    "# SEARCH_SAMPLE_RATIO= 100\n"
   ]
  },
  {
   "cell_type": "code",
   "execution_count": null,
   "metadata": {},
   "outputs": [],
   "source": []
  },
  {
   "cell_type": "markdown",
   "metadata": {},
   "source": [
    "### test"
   ]
  },
  {
   "cell_type": "code",
   "execution_count": 13,
   "metadata": {},
   "outputs": [],
   "source": [
    "I_START = 20\n",
    "I_END = 40\n",
    "N_DAT = I_END-I_START"
   ]
  },
  {
   "cell_type": "code",
   "execution_count": 14,
   "metadata": {
    "scrolled": true
   },
   "outputs": [
    {
     "name": "stdout",
     "output_type": "stream",
     "text": [
      "------- 4.5     6.3     5.4     6.1     -------\n",
      "========== 21 / 20 (eta: 22.3 / 446.0 s) =========\n",
      "------- 22.4    10.0    12.6    23.7    -------\n",
      "========== 22 / 20 (eta: 91.1 / 910.7 s) =========\n",
      "------- 6.9     5.4     7.1     6.3     -------\n",
      "========== 23 / 20 (eta: 116.9 / 779.3 s) =========\n",
      "------- 5.3     4.4     6.6     13.3    -------\n",
      "========== 24 / 20 (eta: 146.5 / 732.6 s) =========\n",
      "------- 103.6   103.8   104.1   104.1   -------\n",
      "========== 25 / 20 (eta: 562.0 / 2248.2 s) =========\n",
      "------- 8.2     5.9     7.7     11.6    -------\n",
      "========== 26 / 20 (eta: 595.4 / 1984.8 s) =========\n",
      "------- 5.7     4.7     5.1     5.6     -------\n",
      "========== 27 / 20 (eta: 616.6 / 1761.6 s) =========\n",
      "------- 4.4     4.6     4.8     5.3     -------\n",
      "========== 28 / 20 (eta: 635.7 / 1589.4 s) =========\n",
      "------- 6.5     5.6     12.5    6.0     -------\n",
      "========== 29 / 20 (eta: 666.3 / 1480.7 s) =========\n",
      "------- 12.7    4.3     10.1    5.1     -------\n",
      "========== 30 / 20 (eta: 698.6 / 1397.2 s) =========\n",
      "------- 13.1    7.3     9.7     5.7     -------\n",
      "========== 31 / 20 (eta: 734.5 / 1335.4 s) =========\n",
      "------- 7.0     4.6     5.1     8.3     -------\n",
      "========== 32 / 20 (eta: 759.5 / 1265.9 s) =========\n",
      "------- 17.2    11.7    14.5    5.7     -------\n",
      "========== 33 / 20 (eta: 808.7 / 1244.2 s) =========\n",
      "------- 5.9     6.0     4.6     6.5     -------\n",
      "========== 34 / 20 (eta: 831.8 / 1188.2 s) =========\n",
      "------- 5.4     4.7     4.9     6.5     -------\n",
      "========== 35 / 20 (eta: 853.3 / 1137.7 s) =========\n",
      "------- 6.5     4.8     5.5     5.8     -------\n",
      "========== 36 / 20 (eta: 875.8 / 1094.7 s) =========\n",
      "------- 6.2     4.9     9.6     11.7    -------\n",
      "========== 37 / 20 (eta: 908.2 / 1068.5 s) =========\n",
      "------- 10.7    7.2     7.5     7.3     -------\n",
      "========== 38 / 20 (eta: 940.9 / 1045.4 s) =========\n",
      "------- 5.3     4.5     10.0    6.0     -------\n",
      "========== 39 / 20 (eta: 966.7 / 1017.6 s) =========\n",
      "------- 15.8    5.2     10.3    8.5     -------\n",
      "========== 40 / 20 (eta: 1006.6 / 1006.6 s) =========\n"
     ]
    }
   ],
   "source": [
    "ROBOT_DATA_ROOT = os.path.join(TEST_DATA_PATH, RTYPE)\n",
    "ROBOT_RESULT_ROOT = os.path.join(TEST_RESULT_PATH, RTYPE)\n",
    "DATASET_PATH = os.path.join(ROBOT_DATA_ROOT, DAT_DIR)\n",
    "RESULTSET_PATH = os.path.join(ROBOT_RESULT_ROOT, DAT_DIR)\n",
    "file_list = sorted(os.listdir(DATASET_PATH))\n",
    "\n",
    "gtimer = GlobalTimer.instance()\n",
    "gtimer.reset(scale=1, timeunit='s')\n",
    "\n",
    "gtimer.tic(\"full_loop\")\n",
    "for fid in range(I_START, I_END):\n",
    "    e_step_list = []\n",
    "    for i_c, cname in enumerate(CNAME_LIST):\n",
    "        gtimer.tic(\"step\")\n",
    "        p = subprocess.Popen(['python', '{}src/scripts/developing/pddlstream/test_saved_scene.py'.format(RNB_PLANNING_DIR),\n",
    "                              '--rtype', RTYPE,\n",
    "                              '--dat_root', DAT_ROOT,\n",
    "                              '--res_root', RES_ROOT,\n",
    "                              '--dat_dir', DAT_DIR,\n",
    "                              '--file_option', FILE_OPTION,\n",
    "                              '--data_idx', str(fid),\n",
    "                              '--cname', cname,\n",
    "                              '--VISUALIZE', str(VISUALIZE),\n",
    "                              '--PLAY_RESULT', str(PLAY_RESULT),\n",
    "                              '--TIMEOUT_MOTION', str(TIMEOUT_MOTION),\n",
    "                              '--MAX_TIME', str(MAX_TIME),\n",
    "                              '--MAX_ITER', str(MAX_ITER), \n",
    "                              '--GRASP_SAMPLE', str(GRASP_SAMPLE),\n",
    "                              '--STABLE_SAMPLE', str(STABLE_SAMPLE),\n",
    "                              '--SEARCH_SAMPLE_RATIO', \n",
    "                              str(SEARCH_SAMPLE_RATIO)])\n",
    "        p.wait()\n",
    "        e_step = np.round(gtimer.toc(\"step\"), 1)\n",
    "        e_step_list.append(e_step)\n",
    "        print(\"------- \" + (\"{:<8}\"*len(e_step_list)).format(*e_step_list) + \"-------\", end=\"\\r\")\n",
    "        \n",
    "    print(\"\")\n",
    "    print(\"========== {} / {} (eta: {} / {} s) =========\".format(\n",
    "        fid+1, N_DAT, *np.round(gtimer.eta(\"full_loop\", fid-I_START+1, N_DAT), 1)))"
   ]
  },
  {
   "cell_type": "code",
   "execution_count": null,
   "metadata": {},
   "outputs": [],
   "source": []
  },
  {
   "cell_type": "code",
   "execution_count": null,
   "metadata": {},
   "outputs": [],
   "source": []
  },
  {
   "cell_type": "code",
   "execution_count": null,
   "metadata": {},
   "outputs": [],
   "source": []
  },
  {
   "cell_type": "markdown",
   "metadata": {},
   "source": [
    "# obj3 obs3"
   ]
  },
  {
   "cell_type": "code",
   "execution_count": 15,
   "metadata": {},
   "outputs": [],
   "source": [
    "RTYPE = \"indy7gripper\"\n",
    "# DAT_DIR = '20210907-071329'\n",
    "FILE_OPTION = \"obj_3c_obs3\"\n",
    "# DAT_DIR, FILE_OPTION = \"20210613-023004\", \"obj_1\"\n",
    "# DAT_DIR, FILE_OPTION = \"20210612-114040\", \"obj_1\"\n",
    "# DAT_DIR, FILE_OPTION = \"20210612-151342\", \"obj_3\"\n",
    "# DAT_DIR, FILE_OPTION = \"20210612-161536\", \"obj_3_pole\"\n",
    "\n",
    "# RTYPE = \"panda\"\n",
    "# DAT_DIR = '20210705-182244'\n",
    "# FILE_OPTION = \"obj_1\"\n",
    "# # DAT_DIR, FILE_OPTION = \"20210613-022832\", \"obj_1\"\n",
    "# # # DAT_DIR, FILE_OPTION = \"20210612-221934\", \"obj_1\"\n",
    "\n",
    "# CNAME_LIST = ['None','Tool','ToolReach','Full'] #,'Pairwise']\n",
    "# # CNAME_LIST = ['Full'] #,'Pairwise']\n",
    "# VISUALIZE = False\n",
    "# PLAY_RESULT = False\n",
    "# SHOW_STATE = False\n",
    "\n",
    "# TIMEOUT_MOTION = 5\n",
    "# MAX_TIME = 100\n",
    "# MAX_ITER = 10000\n",
    "\n",
    "# GRASP_SAMPLE = 30\n",
    "# STABLE_SAMPLE = 50\n",
    "# SEARCH_SAMPLE_RATIO= 100\n"
   ]
  },
  {
   "cell_type": "code",
   "execution_count": null,
   "metadata": {},
   "outputs": [],
   "source": []
  },
  {
   "cell_type": "markdown",
   "metadata": {},
   "source": [
    "### test"
   ]
  },
  {
   "cell_type": "code",
   "execution_count": 16,
   "metadata": {},
   "outputs": [],
   "source": [
    "I_START = 20\n",
    "I_END = 40\n",
    "N_DAT = I_END-I_START"
   ]
  },
  {
   "cell_type": "code",
   "execution_count": 17,
   "metadata": {
    "scrolled": true
   },
   "outputs": [
    {
     "name": "stdout",
     "output_type": "stream",
     "text": [
      "------- 11.4    103.7   126.4   109.6   -------\n",
      "========== 21 / 20 (eta: 351.1 / 7021.1 s) =========\n",
      "------- 19.9    13.1    6.8     14.2    -------\n",
      "========== 22 / 20 (eta: 405.0 / 4050.1 s) =========\n",
      "------- 23.3    10.6    5.7     5.0     -------\n",
      "========== 23 / 20 (eta: 449.6 / 2997.4 s) =========\n",
      "------- 9.6     4.4     6.4     10.9    -------\n",
      "========== 24 / 20 (eta: 480.8 / 2404.2 s) =========\n",
      "------- 7.9     4.9     6.0     11.8    -------\n",
      "========== 25 / 20 (eta: 511.5 / 2046.1 s) =========\n",
      "------- 29.1    16.9    10.8    6.1     -------\n",
      "========== 26 / 20 (eta: 574.4 / 1914.7 s) =========\n",
      "------- 15.8    17.6    10.2    5.2     -------\n",
      "========== 27 / 20 (eta: 623.3 / 1780.9 s) =========\n",
      "------- 8.2     15.3    6.0     13.4    -------\n",
      "========== 28 / 20 (eta: 666.2 / 1665.5 s) =========\n",
      "------- 4.9     5.2     8.8     7.8     -------\n",
      "========== 29 / 20 (eta: 692.9 / 1539.7 s) =========\n",
      "------- 15.6    5.0     16.7    10.9    -------\n",
      "========== 30 / 20 (eta: 741.0 / 1482.0 s) =========\n",
      "------- 16.3    12.0    34.6    17.2    -------\n",
      "========== 31 / 20 (eta: 821.2 / 1493.1 s) =========\n",
      "------- 12.3    6.9     5.2     5.2     -------\n",
      "========== 32 / 20 (eta: 850.7 / 1417.9 s) =========\n",
      "------- 16.8    5.7     4.9     5.2     -------\n",
      "========== 33 / 20 (eta: 883.3 / 1359.0 s) =========\n",
      "------- 44.2    8.5     16.2    18.6    -------\n",
      "========== 34 / 20 (eta: 970.8 / 1386.8 s) =========\n",
      "------- 37.5    29.6    11.0    13.7    -------\n",
      "========== 35 / 20 (eta: 1062.7 / 1416.9 s) =========\n",
      "------- 9.9     7.5     11.2    11.1    -------\n",
      "========== 36 / 20 (eta: 1102.4 / 1378.0 s) =========\n",
      "------- 5.3     12.3    10.7    11.2    -------\n",
      "========== 37 / 20 (eta: 1141.9 / 1343.4 s) =========\n",
      "------- 18.9    14.7    10.2    5.6     -------\n",
      "========== 38 / 20 (eta: 1191.3 / 1323.7 s) =========\n",
      "------- 5.5     7.3     16.1    4.9     -------\n",
      "========== 39 / 20 (eta: 1225.2 / 1289.7 s) =========\n",
      "------- 5.6     4.8     14.7    5.0     -------\n",
      "========== 40 / 20 (eta: 1255.3 / 1255.3 s) =========\n"
     ]
    }
   ],
   "source": [
    "ROBOT_DATA_ROOT = os.path.join(TEST_DATA_PATH, RTYPE)\n",
    "ROBOT_RESULT_ROOT = os.path.join(TEST_RESULT_PATH, RTYPE)\n",
    "DATASET_PATH = os.path.join(ROBOT_DATA_ROOT, DAT_DIR)\n",
    "RESULTSET_PATH = os.path.join(ROBOT_RESULT_ROOT, DAT_DIR)\n",
    "file_list = sorted(os.listdir(DATASET_PATH))\n",
    "\n",
    "gtimer = GlobalTimer.instance()\n",
    "gtimer.reset(scale=1, timeunit='s')\n",
    "\n",
    "gtimer.tic(\"full_loop\")\n",
    "for fid in range(I_START, I_END):\n",
    "    e_step_list = []\n",
    "    for i_c, cname in enumerate(CNAME_LIST):\n",
    "        gtimer.tic(\"step\")\n",
    "        p = subprocess.Popen(['python', '{}src/scripts/developing/pddlstream/test_saved_scene.py'.format(RNB_PLANNING_DIR),\n",
    "                              '--rtype', RTYPE,\n",
    "                              '--dat_root', DAT_ROOT,\n",
    "                              '--res_root', RES_ROOT,\n",
    "                              '--dat_dir', DAT_DIR,\n",
    "                              '--file_option', FILE_OPTION,\n",
    "                              '--data_idx', str(fid),\n",
    "                              '--cname', cname,\n",
    "                              '--VISUALIZE', str(VISUALIZE),\n",
    "                              '--PLAY_RESULT', str(PLAY_RESULT),\n",
    "                              '--TIMEOUT_MOTION', str(TIMEOUT_MOTION),\n",
    "                              '--MAX_TIME', str(MAX_TIME),\n",
    "                              '--MAX_ITER', str(MAX_ITER), \n",
    "                              '--GRASP_SAMPLE', str(GRASP_SAMPLE),\n",
    "                              '--STABLE_SAMPLE', str(STABLE_SAMPLE),\n",
    "                              '--SEARCH_SAMPLE_RATIO', \n",
    "                              str(SEARCH_SAMPLE_RATIO)])\n",
    "        p.wait()\n",
    "        e_step = np.round(gtimer.toc(\"step\"), 1)\n",
    "        e_step_list.append(e_step)\n",
    "        print(\"------- \" + (\"{:<8}\"*len(e_step_list)).format(*e_step_list) + \"-------\", end=\"\\r\")\n",
    "        \n",
    "    print(\"\")\n",
    "    print(\"========== {} / {} (eta: {} / {} s) =========\".format(\n",
    "        fid+1, N_DAT, *np.round(gtimer.eta(\"full_loop\", fid-I_START+1, N_DAT), 1)))"
   ]
  },
  {
   "cell_type": "code",
   "execution_count": null,
   "metadata": {},
   "outputs": [],
   "source": []
  },
  {
   "cell_type": "code",
   "execution_count": null,
   "metadata": {},
   "outputs": [],
   "source": []
  },
  {
   "cell_type": "code",
   "execution_count": null,
   "metadata": {},
   "outputs": [],
   "source": []
  },
  {
   "cell_type": "markdown",
   "metadata": {},
   "source": [
    "# obj3 obs5"
   ]
  },
  {
   "cell_type": "code",
   "execution_count": 18,
   "metadata": {},
   "outputs": [],
   "source": [
    "RTYPE = \"indy7gripper\"\n",
    "# DAT_DIR = '20210907-071329'\n",
    "FILE_OPTION = \"obj_3c_obs5\"\n",
    "# DAT_DIR, FILE_OPTION = \"20210613-023004\", \"obj_1\"\n",
    "# DAT_DIR, FILE_OPTION = \"20210612-114040\", \"obj_1\"\n",
    "# DAT_DIR, FILE_OPTION = \"20210612-151342\", \"obj_3\"\n",
    "# DAT_DIR, FILE_OPTION = \"20210612-161536\", \"obj_3_pole\"\n",
    "\n",
    "# RTYPE = \"panda\"\n",
    "# DAT_DIR = '20210705-182244'\n",
    "# FILE_OPTION = \"obj_1\"\n",
    "# # DAT_DIR, FILE_OPTION = \"20210613-022832\", \"obj_1\"\n",
    "# # # DAT_DIR, FILE_OPTION = \"20210612-221934\", \"obj_1\"\n",
    "\n",
    "# CNAME_LIST = ['None','Tool','ToolReach','Full'] #,'Pairwise']\n",
    "# # CNAME_LIST = ['Full'] #,'Pairwise']\n",
    "# VISUALIZE = False\n",
    "# PLAY_RESULT = False\n",
    "# SHOW_STATE = False\n",
    "\n",
    "# TIMEOUT_MOTION = 5\n",
    "# MAX_TIME = 100\n",
    "# MAX_ITER = 10000\n",
    "\n",
    "# GRASP_SAMPLE = 30\n",
    "# STABLE_SAMPLE = 50\n",
    "# SEARCH_SAMPLE_RATIO= 100\n"
   ]
  },
  {
   "cell_type": "code",
   "execution_count": null,
   "metadata": {},
   "outputs": [],
   "source": []
  },
  {
   "cell_type": "markdown",
   "metadata": {},
   "source": [
    "### test"
   ]
  },
  {
   "cell_type": "code",
   "execution_count": 19,
   "metadata": {},
   "outputs": [],
   "source": [
    "I_START = 20\n",
    "I_END = 40\n",
    "N_DAT = I_END-I_START"
   ]
  },
  {
   "cell_type": "code",
   "execution_count": 20,
   "metadata": {
    "scrolled": true
   },
   "outputs": [
    {
     "name": "stdout",
     "output_type": "stream",
     "text": [
      "------- 10.9    13.3    4.9     5.9     -------\n",
      "========== 21 / 20 (eta: 35.1 / 701.6 s) =========\n",
      "------- 18.8    35.8    17.3    12.1    -------\n",
      "========== 22 / 20 (eta: 118.9 / 1189.3 s) =========\n",
      "------- 12.0    6.9     10.4    6.0     -------\n",
      "========== 23 / 20 (eta: 154.3 / 1028.3 s) =========\n",
      "------- 7.1     5.6     5.0     12.0    -------\n",
      "========== 24 / 20 (eta: 184.0 / 920.2 s) =========\n",
      "------- 10.7    112.2   6.7     5.6     -------\n",
      "========== 25 / 20 (eta: 319.3 / 1277.4 s) =========\n",
      "------- 10.8    14.8    8.8     7.4     -------\n",
      "========== 26 / 20 (eta: 361.1 / 1203.8 s) =========\n",
      "------- 11.7    7.6     8.1     8.2     -------\n",
      "========== 27 / 20 (eta: 396.8 / 1133.7 s) =========\n",
      "------- 8.0     9.1     5.1     6.9     -------\n",
      "========== 28 / 20 (eta: 425.9 / 1064.8 s) =========\n",
      "------- 105.7   105.7   55.4    27.1    -------\n",
      "========== 29 / 20 (eta: 719.9 / 1599.7 s) =========\n",
      "------- 104.2   11.2    104.6   34.5    -------\n",
      "========== 30 / 20 (eta: 974.4 / 1948.8 s) =========\n",
      "------- 105.2   119.5   104.8   8.5     -------\n",
      "========== 31 / 20 (eta: 1312.5 / 2386.3 s) =========\n",
      "------- 9.4     6.8     6.3     5.4     -------\n",
      "========== 32 / 20 (eta: 1340.3 / 2233.9 s) =========\n",
      "------- 19.7    5.8     14.4    11.6    -------\n",
      "========== 33 / 20 (eta: 1391.8 / 2141.3 s) =========\n",
      "------- 103.8   103.8   125.2   8.4     -------\n",
      "========== 34 / 20 (eta: 1733.1 / 2475.8 s) =========\n",
      "------- 12.5    6.1     5.7     5.7     -------\n",
      "========== 35 / 20 (eta: 1763.1 / 2350.8 s) =========\n",
      "------- 11.4    16.0    5.2     5.2     -------\n",
      "========== 36 / 20 (eta: 1800.9 / 2251.1 s) =========\n",
      "------- 103.9   117.2   104.6   8.4     -------\n",
      "========== 37 / 20 (eta: 2135.0 / 2511.8 s) =========\n",
      "------- 103.9   103.9   112.6   107.2   -------\n",
      "========== 38 / 20 (eta: 2562.6 / 2847.3 s) =========\n",
      "------- 7.6     10.9    16.0    12.6    -------\n",
      "========== 39 / 20 (eta: 2609.8 / 2747.2 s) =========\n",
      "------- 6.8     5.2     6.6     9.5     -------\n",
      "========== 40 / 20 (eta: 2637.9 / 2637.9 s) =========\n"
     ]
    }
   ],
   "source": [
    "ROBOT_DATA_ROOT = os.path.join(TEST_DATA_PATH, RTYPE)\n",
    "ROBOT_RESULT_ROOT = os.path.join(TEST_RESULT_PATH, RTYPE)\n",
    "DATASET_PATH = os.path.join(ROBOT_DATA_ROOT, DAT_DIR)\n",
    "RESULTSET_PATH = os.path.join(ROBOT_RESULT_ROOT, DAT_DIR)\n",
    "file_list = sorted(os.listdir(DATASET_PATH))\n",
    "\n",
    "gtimer = GlobalTimer.instance()\n",
    "gtimer.reset(scale=1, timeunit='s')\n",
    "\n",
    "gtimer.tic(\"full_loop\")\n",
    "for fid in range(I_START, I_END):\n",
    "    e_step_list = []\n",
    "    for i_c, cname in enumerate(CNAME_LIST):\n",
    "        gtimer.tic(\"step\")\n",
    "        p = subprocess.Popen(['python', '{}src/scripts/developing/pddlstream/test_saved_scene.py'.format(RNB_PLANNING_DIR),\n",
    "                              '--rtype', RTYPE,\n",
    "                              '--dat_root', DAT_ROOT,\n",
    "                              '--res_root', RES_ROOT,\n",
    "                              '--dat_dir', DAT_DIR,\n",
    "                              '--file_option', FILE_OPTION,\n",
    "                              '--data_idx', str(fid),\n",
    "                              '--cname', cname,\n",
    "                              '--VISUALIZE', str(VISUALIZE),\n",
    "                              '--PLAY_RESULT', str(PLAY_RESULT),\n",
    "                              '--TIMEOUT_MOTION', str(TIMEOUT_MOTION),\n",
    "                              '--MAX_TIME', str(MAX_TIME),\n",
    "                              '--MAX_ITER', str(MAX_ITER), \n",
    "                              '--GRASP_SAMPLE', str(GRASP_SAMPLE),\n",
    "                              '--STABLE_SAMPLE', str(STABLE_SAMPLE),\n",
    "                              '--SEARCH_SAMPLE_RATIO', \n",
    "                              str(SEARCH_SAMPLE_RATIO)])\n",
    "        p.wait()\n",
    "        e_step = np.round(gtimer.toc(\"step\"), 1)\n",
    "        e_step_list.append(e_step)\n",
    "        print(\"------- \" + (\"{:<8}\"*len(e_step_list)).format(*e_step_list) + \"-------\", end=\"\\r\")\n",
    "        \n",
    "    print(\"\")\n",
    "    print(\"========== {} / {} (eta: {} / {} s) =========\".format(\n",
    "        fid+1, N_DAT, *np.round(gtimer.eta(\"full_loop\", fid-I_START+1, N_DAT), 1)))"
   ]
  },
  {
   "cell_type": "code",
   "execution_count": null,
   "metadata": {},
   "outputs": [],
   "source": []
  }
 ],
 "metadata": {
  "kernelspec": {
   "display_name": "Python 2",
   "language": "python",
   "name": "python2"
  },
  "language_info": {
   "codemirror_mode": {
    "name": "ipython",
    "version": 2
   },
   "file_extension": ".py",
   "mimetype": "text/x-python",
   "name": "python",
   "nbconvert_exporter": "python",
   "pygments_lexer": "ipython2",
   "version": "2.7.17"
  }
 },
 "nbformat": 4,
 "nbformat_minor": 2
}
