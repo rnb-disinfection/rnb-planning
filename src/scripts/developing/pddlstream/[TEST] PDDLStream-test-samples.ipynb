{
 "cells": [
  {
   "cell_type": "code",
   "execution_count": 1,
   "metadata": {},
   "outputs": [],
   "source": [
    "# python3 /home/rnb/Projects/rnb-planning/src/pkg/planning/filtering/lattice_model/shared_lattice_predictor.py --rtype panda\n",
    "\n",
    "# import SharedArray as sa\n",
    "# ROBOT_TYPE_NAME = 'indy7gripper'\n",
    "# sa.delete(\"shm://{}.prepared\".format(ROBOT_TYPE_NAME))\n",
    "# sa.delete(\"shm://{}.grasp_img\".format(ROBOT_TYPE_NAME))\n",
    "# sa.delete(\"shm://{}.arm_img\".format(ROBOT_TYPE_NAME))\n",
    "# sa.delete(\"shm://{}.rh_vals\".format(ROBOT_TYPE_NAME))\n",
    "# sa.delete(\"shm://{}.result\".format(ROBOT_TYPE_NAME))\n",
    "# sa.delete(\"shm://{}.query_in\".format(ROBOT_TYPE_NAME))\n",
    "# sa.delete(\"shm://{}.response_out\".format(ROBOT_TYPE_NAME))\n",
    "# sa.delete(\"shm://{}.query_quit\".format(ROBOT_TYPE_NAME))"
   ]
  },
  {
   "cell_type": "code",
   "execution_count": 1,
   "metadata": {},
   "outputs": [],
   "source": [
    "from __future__ import print_function\n",
    "import os\n",
    "RNB_PLANNING_DIR = os.environ[\"RNB_PLANNING_DIR\"]\n",
    "os.chdir(os.path.join(RNB_PLANNING_DIR, 'src'))\n",
    "from pkg.controller.combined_robot import *\n",
    "from pkg.utils.utils import get_now, try_mkdir\n",
    "import subprocess\n",
    "\n",
    "DATA_PATH = os.path.join(RNB_PLANNING_DIR, \"data\")\n",
    "try_mkdir(DATA_PATH)\n",
    "\n",
    "DAT_ROOT = \"stowing-deep\"\n",
    "RES_ROOT = \"stowing-deep-result\"\n",
    "\n",
    "TEST_DATA_PATH = os.path.join(DATA_PATH, DAT_ROOT)\n",
    "try_mkdir(TEST_DATA_PATH)\n",
    "\n",
    "TEST_RESULT_PATH = os.path.join(DATA_PATH, RES_ROOT)\n",
    "try_mkdir(TEST_RESULT_PATH)\n",
    "\n",
    "HEADS = [\"plan_time\", \"length\", \"MP_count\", \"failed_MPs\", \"IK_count\", \"failed_IKs\", \"success\"]"
   ]
  },
  {
   "cell_type": "code",
   "execution_count": null,
   "metadata": {},
   "outputs": [],
   "source": []
  },
  {
   "cell_type": "code",
   "execution_count": null,
   "metadata": {},
   "outputs": [],
   "source": []
  },
  {
   "cell_type": "markdown",
   "metadata": {},
   "source": [
    "## Common params"
   ]
  },
  {
   "cell_type": "code",
   "execution_count": 2,
   "metadata": {},
   "outputs": [],
   "source": [
    "DAT_DIR = '20210907-173519'\n",
    "CNAME_LIST = ['None', 'Tool', 'ToolReach', 'Full'] #,'Pairwise']\n",
    "# CNAME_LIST = ['Full'] #,'Pairwise']\n",
    "VISUALIZE = False\n",
    "PLAY_RESULT = False\n",
    "SHOW_STATE = False\n",
    "\n",
    "TIMEOUT_MOTION = 5\n",
    "MAX_TIME = 100\n",
    "MAX_ITER = 100\n",
    "\n",
    "GRASP_SAMPLE = 30\n",
    "STABLE_SAMPLE = 50\n",
    "SEARCH_SAMPLE_RATIO= 1\n",
    "MAX_SKELETONS = 30"
   ]
  },
  {
   "cell_type": "code",
   "execution_count": null,
   "metadata": {},
   "outputs": [],
   "source": []
  },
  {
   "cell_type": "markdown",
   "metadata": {},
   "source": [
    "# obj1"
   ]
  },
  {
   "cell_type": "code",
   "execution_count": 3,
   "metadata": {},
   "outputs": [],
   "source": [
    "RTYPE = \"indy7gripper\"\n",
    "FILE_OPTION = \"obj_1\"\n",
    "I_START = 0\n",
    "I_END = 20\n",
    "N_DAT = I_END-I_START"
   ]
  },
  {
   "cell_type": "code",
   "execution_count": 4,
   "metadata": {
    "scrolled": true
   },
   "outputs": [
    {
     "ename": "KeyboardInterrupt",
     "evalue": "",
     "output_type": "error",
     "traceback": [
      "\u001b[0;31m---------------------------------------------------------------------------\u001b[0m",
      "\u001b[0;31mKeyboardInterrupt\u001b[0m                         Traceback (most recent call last)",
      "\u001b[0;32m<ipython-input-4-6c5764f44714>\u001b[0m in \u001b[0;36m<module>\u001b[0;34m()\u001b[0m\n\u001b[1;32m     32\u001b[0m                               \u001b[0;34m'--MAX_SKELETONS'\u001b[0m\u001b[0;34m,\u001b[0m\u001b[0;34m\u001b[0m\u001b[0m\n\u001b[1;32m     33\u001b[0m                               str(MAX_SKELETONS)])\n\u001b[0;32m---> 34\u001b[0;31m         \u001b[0mp\u001b[0m\u001b[0;34m.\u001b[0m\u001b[0mwait\u001b[0m\u001b[0;34m(\u001b[0m\u001b[0;34m)\u001b[0m\u001b[0;34m\u001b[0m\u001b[0m\n\u001b[0m\u001b[1;32m     35\u001b[0m         \u001b[0me_step\u001b[0m \u001b[0;34m=\u001b[0m \u001b[0mnp\u001b[0m\u001b[0;34m.\u001b[0m\u001b[0mround\u001b[0m\u001b[0;34m(\u001b[0m\u001b[0mgtimer\u001b[0m\u001b[0;34m.\u001b[0m\u001b[0mtoc\u001b[0m\u001b[0;34m(\u001b[0m\u001b[0;34m\"step\"\u001b[0m\u001b[0;34m)\u001b[0m\u001b[0;34m,\u001b[0m \u001b[0;36m1\u001b[0m\u001b[0;34m)\u001b[0m\u001b[0;34m\u001b[0m\u001b[0m\n\u001b[1;32m     36\u001b[0m         \u001b[0me_step_list\u001b[0m\u001b[0;34m.\u001b[0m\u001b[0mappend\u001b[0m\u001b[0;34m(\u001b[0m\u001b[0me_step\u001b[0m\u001b[0;34m)\u001b[0m\u001b[0;34m\u001b[0m\u001b[0m\n",
      "\u001b[0;32m/usr/lib/python2.7/subprocess.pyc\u001b[0m in \u001b[0;36mwait\u001b[0;34m(self)\u001b[0m\n\u001b[1;32m   1097\u001b[0m             \u001b[0;32mwhile\u001b[0m \u001b[0mself\u001b[0m\u001b[0;34m.\u001b[0m\u001b[0mreturncode\u001b[0m \u001b[0;32mis\u001b[0m \u001b[0mNone\u001b[0m\u001b[0;34m:\u001b[0m\u001b[0;34m\u001b[0m\u001b[0m\n\u001b[1;32m   1098\u001b[0m                 \u001b[0;32mtry\u001b[0m\u001b[0;34m:\u001b[0m\u001b[0;34m\u001b[0m\u001b[0m\n\u001b[0;32m-> 1099\u001b[0;31m                     \u001b[0mpid\u001b[0m\u001b[0;34m,\u001b[0m \u001b[0msts\u001b[0m \u001b[0;34m=\u001b[0m \u001b[0m_eintr_retry_call\u001b[0m\u001b[0;34m(\u001b[0m\u001b[0mos\u001b[0m\u001b[0;34m.\u001b[0m\u001b[0mwaitpid\u001b[0m\u001b[0;34m,\u001b[0m \u001b[0mself\u001b[0m\u001b[0;34m.\u001b[0m\u001b[0mpid\u001b[0m\u001b[0;34m,\u001b[0m \u001b[0;36m0\u001b[0m\u001b[0;34m)\u001b[0m\u001b[0;34m\u001b[0m\u001b[0m\n\u001b[0m\u001b[1;32m   1100\u001b[0m                 \u001b[0;32mexcept\u001b[0m \u001b[0mOSError\u001b[0m \u001b[0;32mas\u001b[0m \u001b[0me\u001b[0m\u001b[0;34m:\u001b[0m\u001b[0;34m\u001b[0m\u001b[0m\n\u001b[1;32m   1101\u001b[0m                     \u001b[0;32mif\u001b[0m \u001b[0me\u001b[0m\u001b[0;34m.\u001b[0m\u001b[0merrno\u001b[0m \u001b[0;34m!=\u001b[0m \u001b[0merrno\u001b[0m\u001b[0;34m.\u001b[0m\u001b[0mECHILD\u001b[0m\u001b[0;34m:\u001b[0m\u001b[0;34m\u001b[0m\u001b[0m\n",
      "\u001b[0;32m/usr/lib/python2.7/subprocess.pyc\u001b[0m in \u001b[0;36m_eintr_retry_call\u001b[0;34m(func, *args)\u001b[0m\n\u001b[1;32m    123\u001b[0m     \u001b[0;32mwhile\u001b[0m \u001b[0mTrue\u001b[0m\u001b[0;34m:\u001b[0m\u001b[0;34m\u001b[0m\u001b[0m\n\u001b[1;32m    124\u001b[0m         \u001b[0;32mtry\u001b[0m\u001b[0;34m:\u001b[0m\u001b[0;34m\u001b[0m\u001b[0m\n\u001b[0;32m--> 125\u001b[0;31m             \u001b[0;32mreturn\u001b[0m \u001b[0mfunc\u001b[0m\u001b[0;34m(\u001b[0m\u001b[0;34m*\u001b[0m\u001b[0margs\u001b[0m\u001b[0;34m)\u001b[0m\u001b[0;34m\u001b[0m\u001b[0m\n\u001b[0m\u001b[1;32m    126\u001b[0m         \u001b[0;32mexcept\u001b[0m \u001b[0;34m(\u001b[0m\u001b[0mOSError\u001b[0m\u001b[0;34m,\u001b[0m \u001b[0mIOError\u001b[0m\u001b[0;34m)\u001b[0m \u001b[0;32mas\u001b[0m \u001b[0me\u001b[0m\u001b[0;34m:\u001b[0m\u001b[0;34m\u001b[0m\u001b[0m\n\u001b[1;32m    127\u001b[0m             \u001b[0;32mif\u001b[0m \u001b[0me\u001b[0m\u001b[0;34m.\u001b[0m\u001b[0merrno\u001b[0m \u001b[0;34m==\u001b[0m \u001b[0merrno\u001b[0m\u001b[0;34m.\u001b[0m\u001b[0mEINTR\u001b[0m\u001b[0;34m:\u001b[0m\u001b[0;34m\u001b[0m\u001b[0m\n",
      "\u001b[0;31mKeyboardInterrupt\u001b[0m: "
     ]
    }
   ],
   "source": [
    "ROBOT_DATA_ROOT = os.path.join(TEST_DATA_PATH, RTYPE)\n",
    "ROBOT_RESULT_ROOT = os.path.join(TEST_RESULT_PATH, RTYPE)\n",
    "DATASET_PATH = os.path.join(ROBOT_DATA_ROOT, DAT_DIR)\n",
    "RESULTSET_PATH = os.path.join(ROBOT_RESULT_ROOT, DAT_DIR)\n",
    "file_list = sorted(os.listdir(DATASET_PATH))\n",
    "\n",
    "gtimer = GlobalTimer.instance()\n",
    "gtimer.reset(scale=1, timeunit='s')\n",
    "\n",
    "gtimer.tic(\"full_loop\")\n",
    "for fid in range(I_START, I_END):\n",
    "    e_step_list = []\n",
    "    for i_c, cname in enumerate(CNAME_LIST):\n",
    "        gtimer.tic(\"step\")\n",
    "        p = subprocess.Popen(['python', '{}src/scripts/developing/pddlstream/test_saved_scene.py'.format(RNB_PLANNING_DIR),\n",
    "                              '--rtype', RTYPE,\n",
    "                              '--dat_root', DAT_ROOT,\n",
    "                              '--res_root', RES_ROOT,\n",
    "                              '--dat_dir', DAT_DIR,\n",
    "                              '--file_option', FILE_OPTION,\n",
    "                              '--data_idx', str(fid),\n",
    "                              '--cname', cname,\n",
    "                              '--VISUALIZE', str(VISUALIZE),\n",
    "                              '--PLAY_RESULT', str(PLAY_RESULT),\n",
    "                              '--TIMEOUT_MOTION', str(TIMEOUT_MOTION),\n",
    "                              '--MAX_TIME', str(MAX_TIME),\n",
    "                              '--MAX_ITER', str(MAX_ITER), \n",
    "                              '--GRASP_SAMPLE', str(GRASP_SAMPLE),\n",
    "                              '--STABLE_SAMPLE', str(STABLE_SAMPLE),\n",
    "                              '--SEARCH_SAMPLE_RATIO', \n",
    "                              str(SEARCH_SAMPLE_RATIO),\n",
    "                              '--MAX_SKELETONS', \n",
    "                              str(MAX_SKELETONS)])\n",
    "        p.wait()\n",
    "        e_step = np.round(gtimer.toc(\"step\"), 1)\n",
    "        e_step_list.append(e_step)\n",
    "        print(\"------- \" + (\"{:<8}\"*len(e_step_list)).format(*e_step_list) + \"-------\", end=\"\\r\")\n",
    "        \n",
    "    print(\"\")\n",
    "    print(\"========== {} / {} (eta: {} / {} s) =========\".format(\n",
    "        fid+1, N_DAT, *np.round(gtimer.eta(\"full_loop\", fid-I_START+1, N_DAT), 1)))"
   ]
  },
  {
   "cell_type": "code",
   "execution_count": null,
   "metadata": {},
   "outputs": [],
   "source": []
  },
  {
   "cell_type": "markdown",
   "metadata": {},
   "source": [
    "# obj1 obs5"
   ]
  },
  {
   "cell_type": "code",
   "execution_count": 6,
   "metadata": {},
   "outputs": [],
   "source": [
    "RTYPE = \"indy7gripper\"\n",
    "FILE_OPTION = \"obj_1_obs3\"\n",
    "I_START = 0\n",
    "I_END = 20\n",
    "N_DAT = I_END-I_START"
   ]
  },
  {
   "cell_type": "code",
   "execution_count": 7,
   "metadata": {
    "scrolled": true
   },
   "outputs": [
    {
     "name": "stdout",
     "output_type": "stream",
     "text": [
      "------- 103.4   116.3   5.0     112.0   -------\n",
      "========== 1 / 20 (eta: 336.7 / 6734.3 s) =========\n",
      "------- 4.5     7.9     5.3     5.9     -------\n",
      "========== 2 / 20 (eta: 360.2 / 3602.3 s) =========\n",
      "------- 8.5     9.4     6.8     5.1     -------\n",
      "========== 3 / 20 (eta: 390.0 / 2600.3 s) =========\n",
      "------- 13.6    8.5     5.1     4.9     -------\n",
      "========== 4 / 20 (eta: 422.2 / 2110.8 s) =========\n",
      "------- 4.5     5.7     20.1    5.6     -------\n",
      "========== 5 / 20 (eta: 458.2 / 1832.6 s) =========\n",
      "------- 4.3     4.1     5.4     4.6     -------\n",
      "========== 6 / 20 (eta: 476.6 / 1588.5 s) =========\n",
      "------- 30.5    4.1     9.8     5.1     -------\n",
      "========== 7 / 20 (eta: 526.1 / 1503.2 s) =========\n",
      "------- 23.2    5.1     6.0     5.3     -------\n",
      "========== 8 / 20 (eta: 565.7 / 1414.3 s) =========\n",
      "------- 103.4   4.8     10.9    5.5     -------\n",
      "========== 9 / 20 (eta: 690.4 / 1534.2 s) =========\n",
      "------- 6.4     4.6     8.3     4.9     -------\n",
      "========== 10 / 20 (eta: 714.6 / 1429.2 s) =========\n",
      "------- 8.6     5.2     5.5     5.7     -------\n",
      "========== 11 / 20 (eta: 739.6 / 1344.8 s) =========\n",
      "------- 10.2    43.0    110.3   73.8    -------\n",
      "========== 12 / 20 (eta: 977.0 / 1628.3 s) =========\n",
      "------- 12.0    9.0     6.9     10.1    -------\n",
      "========== 13 / 20 (eta: 1015.0 / 1561.5 s) =========\n",
      "------- 6.7     5.0     10.7    4.8     -------\n",
      "========== 14 / 20 (eta: 1042.2 / 1488.9 s) =========\n",
      "------- 4.9     7.1     26.5    12.6    -------\n",
      "========== 15 / 20 (eta: 1093.3 / 1457.8 s) =========\n",
      "------- 13.6    7.5     8.0     5.3     -------\n",
      "========== 16 / 20 (eta: 1127.7 / 1409.6 s) =========\n",
      "------- 15.9    17.7    8.5     5.7     -------\n",
      "========== 17 / 20 (eta: 1175.4 / 1382.9 s) =========\n",
      "------- 25.8    4.1     7.3     11.3    -------\n",
      "========== 18 / 20 (eta: 1223.9 / 1359.9 s) =========\n",
      "------- 38.2    4.2     14.9    10.7    -------\n",
      "========== 19 / 20 (eta: 1292.0 / 1360.0 s) =========\n",
      "------- 10.7    24.1    7.3     6.1     -------\n",
      "========== 20 / 20 (eta: 1340.1 / 1340.1 s) =========\n"
     ]
    }
   ],
   "source": [
    "ROBOT_DATA_ROOT = os.path.join(TEST_DATA_PATH, RTYPE)\n",
    "ROBOT_RESULT_ROOT = os.path.join(TEST_RESULT_PATH, RTYPE)\n",
    "DATASET_PATH = os.path.join(ROBOT_DATA_ROOT, DAT_DIR)\n",
    "RESULTSET_PATH = os.path.join(ROBOT_RESULT_ROOT, DAT_DIR)\n",
    "file_list = sorted(os.listdir(DATASET_PATH))\n",
    "\n",
    "gtimer = GlobalTimer.instance()\n",
    "gtimer.reset(scale=1, timeunit='s')\n",
    "\n",
    "gtimer.tic(\"full_loop\")\n",
    "for fid in range(I_START, I_END):\n",
    "    e_step_list = []\n",
    "    for i_c, cname in enumerate(CNAME_LIST):\n",
    "        gtimer.tic(\"step\")\n",
    "        p = subprocess.Popen(['python', '{}src/scripts/developing/pddlstream/test_saved_scene.py'.format(RNB_PLANNING_DIR),\n",
    "                              '--rtype', RTYPE,\n",
    "                              '--dat_root', DAT_ROOT,\n",
    "                              '--res_root', RES_ROOT,\n",
    "                              '--dat_dir', DAT_DIR,\n",
    "                              '--file_option', FILE_OPTION,\n",
    "                              '--data_idx', str(fid),\n",
    "                              '--cname', cname,\n",
    "                              '--VISUALIZE', str(VISUALIZE),\n",
    "                              '--PLAY_RESULT', str(PLAY_RESULT),\n",
    "                              '--TIMEOUT_MOTION', str(TIMEOUT_MOTION),\n",
    "                              '--MAX_TIME', str(MAX_TIME),\n",
    "                              '--MAX_ITER', str(MAX_ITER), \n",
    "                              '--GRASP_SAMPLE', str(GRASP_SAMPLE),\n",
    "                              '--STABLE_SAMPLE', str(STABLE_SAMPLE),\n",
    "                              '--SEARCH_SAMPLE_RATIO', \n",
    "                              str(SEARCH_SAMPLE_RATIO),\n",
    "                              '--MAX_SKELETONS', \n",
    "                              str(MAX_SKELETONS)])\n",
    "        p.wait()\n",
    "        e_step = np.round(gtimer.toc(\"step\"), 1)\n",
    "        e_step_list.append(e_step)\n",
    "        print(\"------- \" + (\"{:<8}\"*len(e_step_list)).format(*e_step_list) + \"-------\", end=\"\\r\")\n",
    "        \n",
    "    print(\"\")\n",
    "    print(\"========== {} / {} (eta: {} / {} s) =========\".format(\n",
    "        fid+1, N_DAT, *np.round(gtimer.eta(\"full_loop\", fid-I_START+1, N_DAT), 1)))"
   ]
  },
  {
   "cell_type": "code",
   "execution_count": null,
   "metadata": {},
   "outputs": [],
   "source": []
  },
  {
   "cell_type": "markdown",
   "metadata": {},
   "source": [
    "# obj1 obs5"
   ]
  },
  {
   "cell_type": "code",
   "execution_count": 9,
   "metadata": {},
   "outputs": [],
   "source": [
    "RTYPE = \"indy7gripper\"\n",
    "FILE_OPTION = \"obj_1_obs5\"\n",
    "I_START = 0\n",
    "I_END = 20\n",
    "N_DAT = I_END-I_START"
   ]
  },
  {
   "cell_type": "code",
   "execution_count": 10,
   "metadata": {
    "scrolled": true
   },
   "outputs": [
    {
     "name": "stdout",
     "output_type": "stream",
     "text": [
      "------- 10.7    7.8     5.2     5.2     -------\n",
      "========== 1 / 20 (eta: 28.9 / 578.5 s) =========\n",
      "------- 8.8     4.9     4.9     4.5     -------\n",
      "========== 2 / 20 (eta: 52.1 / 520.7 s) =========\n",
      "------- 82.3    6.4     5.4     6.2     -------\n",
      "========== 3 / 20 (eta: 152.4 / 1016.1 s) =========\n",
      "------- 103.5   37.6    113.1   110.6   -------\n",
      "========== 4 / 20 (eta: 517.3 / 2586.6 s) =========\n",
      "------- 104.4   24.3    40.1    110.5   -------\n",
      "========== 5 / 20 (eta: 796.6 / 3186.6 s) =========\n",
      "------- 10.1    11.8    36.3    14.8    -------\n",
      "========== 6 / 20 (eta: 869.7 / 2899.0 s) =========\n",
      "------- 8.8     5.8     5.1     4.8     -------\n",
      "========== 7 / 20 (eta: 894.2 / 2554.9 s) =========\n",
      "------- 108.4   19.9    105.0   71.1    -------\n",
      "========== 8 / 20 (eta: 1198.5 / 2996.3 s) =========\n",
      "------- 10.2    5.4     6.7     5.2     -------\n",
      "========== 9 / 20 (eta: 1226.1 / 2724.6 s) =========\n",
      "------- 103.8   9.8     104.0   106.9   -------\n",
      "========== 10 / 20 (eta: 1550.6 / 3101.1 s) =========\n",
      "------- 12.5    5.1     4.8     5.5     -------\n",
      "========== 11 / 20 (eta: 1578.5 / 2869.9 s) =========\n",
      "------- 15.9    6.9     6.0     6.4     -------\n",
      "========== 12 / 20 (eta: 1613.7 / 2689.5 s) =========\n",
      "------- 104.9   24.2    111.3   13.7    -------\n",
      "========== 13 / 20 (eta: 1867.9 / 2873.7 s) =========\n",
      "------- 5.3     4.5     4.6     7.5     -------\n",
      "========== 14 / 20 (eta: 1889.8 / 2699.8 s) =========\n",
      "------- 10.0    7.4     5.6     10.0    -------\n",
      "========== 15 / 20 (eta: 1922.9 / 2563.9 s) =========\n",
      "------- 10.8    4.7     11.4    22.4    -------\n",
      "========== 16 / 20 (eta: 1972.2 / 2465.2 s) =========\n",
      "------- 22.3    6.5     5.2     20.6    -------\n",
      "========== 17 / 20 (eta: 2026.7 / 2384.4 s) =========\n",
      "------- 4.2     3.9     4.8     4.9     -------\n",
      "========== 18 / 20 (eta: 2044.6 / 2271.8 s) =========\n",
      "------- 4.9     10.5    10.5    5.6     -------\n",
      "========== 19 / 20 (eta: 2076.2 / 2185.4 s) =========\n",
      "------- 5.1     14.8    6.1     5.3     -------\n",
      "========== 20 / 20 (eta: 2107.4 / 2107.4 s) =========\n"
     ]
    }
   ],
   "source": [
    "ROBOT_DATA_ROOT = os.path.join(TEST_DATA_PATH, RTYPE)\n",
    "ROBOT_RESULT_ROOT = os.path.join(TEST_RESULT_PATH, RTYPE)\n",
    "DATASET_PATH = os.path.join(ROBOT_DATA_ROOT, DAT_DIR)\n",
    "RESULTSET_PATH = os.path.join(ROBOT_RESULT_ROOT, DAT_DIR)\n",
    "file_list = sorted(os.listdir(DATASET_PATH))\n",
    "\n",
    "gtimer = GlobalTimer.instance()\n",
    "gtimer.reset(scale=1, timeunit='s')\n",
    "\n",
    "gtimer.tic(\"full_loop\")\n",
    "for fid in range(I_START, I_END):\n",
    "    e_step_list = []\n",
    "    for i_c, cname in enumerate(CNAME_LIST):\n",
    "        gtimer.tic(\"step\")\n",
    "        p = subprocess.Popen(['python', '{}src/scripts/developing/pddlstream/test_saved_scene.py'.format(RNB_PLANNING_DIR),\n",
    "                              '--rtype', RTYPE,\n",
    "                              '--dat_root', DAT_ROOT,\n",
    "                              '--res_root', RES_ROOT,\n",
    "                              '--dat_dir', DAT_DIR,\n",
    "                              '--file_option', FILE_OPTION,\n",
    "                              '--data_idx', str(fid),\n",
    "                              '--cname', cname,\n",
    "                              '--VISUALIZE', str(VISUALIZE),\n",
    "                              '--PLAY_RESULT', str(PLAY_RESULT),\n",
    "                              '--TIMEOUT_MOTION', str(TIMEOUT_MOTION),\n",
    "                              '--MAX_TIME', str(MAX_TIME),\n",
    "                              '--MAX_ITER', str(MAX_ITER), \n",
    "                              '--GRASP_SAMPLE', str(GRASP_SAMPLE),\n",
    "                              '--STABLE_SAMPLE', str(STABLE_SAMPLE),\n",
    "                              '--SEARCH_SAMPLE_RATIO', \n",
    "                              str(SEARCH_SAMPLE_RATIO),\n",
    "                              '--MAX_SKELETONS', \n",
    "                              str(MAX_SKELETONS)])\n",
    "        p.wait()\n",
    "        e_step = np.round(gtimer.toc(\"step\"), 1)\n",
    "        e_step_list.append(e_step)\n",
    "        print(\"------- \" + (\"{:<8}\"*len(e_step_list)).format(*e_step_list) + \"-------\", end=\"\\r\")\n",
    "        \n",
    "    print(\"\")\n",
    "    print(\"========== {} / {} (eta: {} / {} s) =========\".format(\n",
    "        fid+1, N_DAT, *np.round(gtimer.eta(\"full_loop\", fid-I_START+1, N_DAT), 1)))"
   ]
  },
  {
   "cell_type": "code",
   "execution_count": null,
   "metadata": {},
   "outputs": [],
   "source": []
  },
  {
   "cell_type": "markdown",
   "metadata": {},
   "source": [
    "# obj3"
   ]
  },
  {
   "cell_type": "code",
   "execution_count": 12,
   "metadata": {},
   "outputs": [],
   "source": [
    "RTYPE = \"indy7gripper\"\n",
    "FILE_OPTION = \"obj_3\"\n",
    "I_START=0\n",
    "I_END = 20\n",
    "N_DAT = I_END-I_START"
   ]
  },
  {
   "cell_type": "code",
   "execution_count": 13,
   "metadata": {
    "scrolled": true
   },
   "outputs": [
    {
     "name": "stdout",
     "output_type": "stream",
     "text": [
      "------- 5.4     5.1     4.6     6.1     -------\n",
      "========== 1 / 20 (eta: 21.2 / 424.1 s) =========\n",
      "------- 26.3    3.9     5.5     5.3     -------\n",
      "========== 2 / 20 (eta: 62.3 / 623.2 s) =========\n",
      "------- 107.7   9.7     5.3     104.2   -------\n",
      "========== 3 / 20 (eta: 289.2 / 1928.2 s) =========\n",
      "------- 13.1    10.0    6.3     4.9     -------\n",
      "========== 4 / 20 (eta: 323.6 / 1617.9 s) =========\n",
      "------- 106.3   127.4   7.8     7.6     -------\n",
      "========== 5 / 20 (eta: 572.7 / 2290.9 s) =========\n",
      "------- 10.2    5.0     6.7     5.2     -------\n",
      "========== 6 / 20 (eta: 599.8 / 1999.5 s) =========\n",
      "------- 16.4    5.9     4.9     4.9     -------\n",
      "========== 7 / 20 (eta: 631.9 / 1805.5 s) =========\n",
      "------- 10.1    4.9     4.6     14.3    -------\n",
      "========== 8 / 20 (eta: 665.8 / 1664.5 s) =========\n",
      "------- 15.7    9.4     4.5     4.9     -------\n",
      "========== 9 / 20 (eta: 700.4 / 1556.4 s) =========\n",
      "------- 15.0    10.3    103.9   4.7     -------\n",
      "========== 10 / 20 (eta: 834.2 / 1668.3 s) =========\n",
      "------- 4.3     4.0     4.7     5.7     -------\n",
      "========== 11 / 20 (eta: 852.9 / 1550.7 s) =========\n",
      "------- 4.2     4.6     5.9     4.6     -------\n",
      "========== 12 / 20 (eta: 872.2 / 1453.7 s) =========\n",
      "------- 59.3    4.5     5.5     4.7     -------\n",
      "========== 13 / 20 (eta: 946.2 / 1455.7 s) =========\n",
      "------- 10.6    6.8     5.2     4.5     -------\n",
      "========== 14 / 20 (eta: 973.3 / 1390.5 s) =========\n",
      "------- 28.7    3.9     4.7     5.6     -------\n",
      "========== 15 / 20 (eta: 1016.3 / 1355.0 s) =========\n",
      "------- 12.6    5.6     4.4     4.4     -------\n",
      "========== 16 / 20 (eta: 1043.3 / 1304.1 s) =========\n",
      "------- 48.5    5.1     4.8     4.7     -------\n",
      "========== 17 / 20 (eta: 1106.2 / 1301.4 s) =========\n",
      "------- 25.2    4.4     5.8     5.5     -------\n",
      "========== 18 / 20 (eta: 1147.1 / 1274.5 s) =========\n",
      "------- 9.6     4.0     5.0     5.6     -------\n",
      "========== 19 / 20 (eta: 1171.3 / 1232.9 s) =========\n",
      "------- 4.6     6.6     20.0    5.1     -------\n",
      "========== 20 / 20 (eta: 1207.5 / 1207.5 s) =========\n"
     ]
    }
   ],
   "source": [
    "ROBOT_DATA_ROOT = os.path.join(TEST_DATA_PATH, RTYPE)\n",
    "ROBOT_RESULT_ROOT = os.path.join(TEST_RESULT_PATH, RTYPE)\n",
    "DATASET_PATH = os.path.join(ROBOT_DATA_ROOT, DAT_DIR)\n",
    "RESULTSET_PATH = os.path.join(ROBOT_RESULT_ROOT, DAT_DIR)\n",
    "file_list = sorted(os.listdir(DATASET_PATH))\n",
    "\n",
    "gtimer = GlobalTimer.instance()\n",
    "gtimer.reset(scale=1, timeunit='s')\n",
    "\n",
    "gtimer.tic(\"full_loop\")\n",
    "for fid in range(I_START, I_END):\n",
    "    e_step_list = []\n",
    "    for i_c, cname in enumerate(CNAME_LIST):\n",
    "        gtimer.tic(\"step\")\n",
    "        p = subprocess.Popen(['python', '{}src/scripts/developing/pddlstream/test_saved_scene.py'.format(RNB_PLANNING_DIR),\n",
    "                              '--rtype', RTYPE,\n",
    "                              '--dat_root', DAT_ROOT,\n",
    "                              '--res_root', RES_ROOT,\n",
    "                              '--dat_dir', DAT_DIR,\n",
    "                              '--file_option', FILE_OPTION,\n",
    "                              '--data_idx', str(fid),\n",
    "                              '--cname', cname,\n",
    "                              '--VISUALIZE', str(VISUALIZE),\n",
    "                              '--PLAY_RESULT', str(PLAY_RESULT),\n",
    "                              '--TIMEOUT_MOTION', str(TIMEOUT_MOTION),\n",
    "                              '--MAX_TIME', str(MAX_TIME),\n",
    "                              '--MAX_ITER', str(MAX_ITER), \n",
    "                              '--GRASP_SAMPLE', str(GRASP_SAMPLE),\n",
    "                              '--STABLE_SAMPLE', str(STABLE_SAMPLE),\n",
    "                              '--SEARCH_SAMPLE_RATIO', \n",
    "                              str(SEARCH_SAMPLE_RATIO),\n",
    "                              '--MAX_SKELETONS', \n",
    "                              str(MAX_SKELETONS)])\n",
    "        p.wait()\n",
    "        e_step = np.round(gtimer.toc(\"step\"), 1)\n",
    "        e_step_list.append(e_step)\n",
    "        print(\"------- \" + (\"{:<8}\"*len(e_step_list)).format(*e_step_list) + \"-------\", end=\"\\r\")\n",
    "        \n",
    "    print(\"\")\n",
    "    print(\"========== {} / {} (eta: {} / {} s) =========\".format(\n",
    "        fid+1, N_DAT, *np.round(gtimer.eta(\"full_loop\", fid-I_START+1, N_DAT), 1)))"
   ]
  },
  {
   "cell_type": "code",
   "execution_count": null,
   "metadata": {},
   "outputs": [],
   "source": []
  },
  {
   "cell_type": "code",
   "execution_count": null,
   "metadata": {},
   "outputs": [],
   "source": []
  },
  {
   "cell_type": "markdown",
   "metadata": {},
   "source": [
    "# obj3_pole"
   ]
  },
  {
   "cell_type": "code",
   "execution_count": 21,
   "metadata": {},
   "outputs": [],
   "source": [
    "RTYPE = \"indy7gripper\"\n",
    "FILE_OPTION = \"obj_3_pole\"\n",
    "I_START=0\n",
    "I_END = 20\n",
    "N_DAT = I_END-I_START"
   ]
  },
  {
   "cell_type": "markdown",
   "metadata": {},
   "source": [
    "### test"
   ]
  },
  {
   "cell_type": "code",
   "execution_count": 22,
   "metadata": {
    "scrolled": true
   },
   "outputs": [
    {
     "name": "stdout",
     "output_type": "stream",
     "text": [
      "------- 103.7   103.7   76.7    95.1    -------\n",
      "========== 1 / 20 (eta: 379.2 / 7584.3 s) =========\n"
     ]
    },
    {
     "ename": "KeyboardInterrupt",
     "evalue": "",
     "output_type": "error",
     "traceback": [
      "\u001b[0;31m---------------------------------------------------------------------------\u001b[0m",
      "\u001b[0;31mKeyboardInterrupt\u001b[0m                         Traceback (most recent call last)",
      "\u001b[0;32m<ipython-input-22-9fefb7ba6001>\u001b[0m in \u001b[0;36m<module>\u001b[0;34m()\u001b[0m\n\u001b[1;32m     30\u001b[0m                               \u001b[0;34m'--SEARCH_SAMPLE_RATIO'\u001b[0m\u001b[0;34m,\u001b[0m\u001b[0;34m\u001b[0m\u001b[0m\n\u001b[1;32m     31\u001b[0m                               str(SEARCH_SAMPLE_RATIO)])\n\u001b[0;32m---> 32\u001b[0;31m         \u001b[0mp\u001b[0m\u001b[0;34m.\u001b[0m\u001b[0mwait\u001b[0m\u001b[0;34m(\u001b[0m\u001b[0;34m)\u001b[0m\u001b[0;34m\u001b[0m\u001b[0m\n\u001b[0m\u001b[1;32m     33\u001b[0m         \u001b[0me_step\u001b[0m \u001b[0;34m=\u001b[0m \u001b[0mnp\u001b[0m\u001b[0;34m.\u001b[0m\u001b[0mround\u001b[0m\u001b[0;34m(\u001b[0m\u001b[0mgtimer\u001b[0m\u001b[0;34m.\u001b[0m\u001b[0mtoc\u001b[0m\u001b[0;34m(\u001b[0m\u001b[0;34m\"step\"\u001b[0m\u001b[0;34m)\u001b[0m\u001b[0;34m,\u001b[0m \u001b[0;36m1\u001b[0m\u001b[0;34m)\u001b[0m\u001b[0;34m\u001b[0m\u001b[0m\n\u001b[1;32m     34\u001b[0m         \u001b[0me_step_list\u001b[0m\u001b[0;34m.\u001b[0m\u001b[0mappend\u001b[0m\u001b[0;34m(\u001b[0m\u001b[0me_step\u001b[0m\u001b[0;34m)\u001b[0m\u001b[0;34m\u001b[0m\u001b[0m\n",
      "\u001b[0;32m/usr/lib/python2.7/subprocess.pyc\u001b[0m in \u001b[0;36mwait\u001b[0;34m(self)\u001b[0m\n\u001b[1;32m   1097\u001b[0m             \u001b[0;32mwhile\u001b[0m \u001b[0mself\u001b[0m\u001b[0;34m.\u001b[0m\u001b[0mreturncode\u001b[0m \u001b[0;32mis\u001b[0m \u001b[0mNone\u001b[0m\u001b[0;34m:\u001b[0m\u001b[0;34m\u001b[0m\u001b[0m\n\u001b[1;32m   1098\u001b[0m                 \u001b[0;32mtry\u001b[0m\u001b[0;34m:\u001b[0m\u001b[0;34m\u001b[0m\u001b[0m\n\u001b[0;32m-> 1099\u001b[0;31m                     \u001b[0mpid\u001b[0m\u001b[0;34m,\u001b[0m \u001b[0msts\u001b[0m \u001b[0;34m=\u001b[0m \u001b[0m_eintr_retry_call\u001b[0m\u001b[0;34m(\u001b[0m\u001b[0mos\u001b[0m\u001b[0;34m.\u001b[0m\u001b[0mwaitpid\u001b[0m\u001b[0;34m,\u001b[0m \u001b[0mself\u001b[0m\u001b[0;34m.\u001b[0m\u001b[0mpid\u001b[0m\u001b[0;34m,\u001b[0m \u001b[0;36m0\u001b[0m\u001b[0;34m)\u001b[0m\u001b[0;34m\u001b[0m\u001b[0m\n\u001b[0m\u001b[1;32m   1100\u001b[0m                 \u001b[0;32mexcept\u001b[0m \u001b[0mOSError\u001b[0m \u001b[0;32mas\u001b[0m \u001b[0me\u001b[0m\u001b[0;34m:\u001b[0m\u001b[0;34m\u001b[0m\u001b[0m\n\u001b[1;32m   1101\u001b[0m                     \u001b[0;32mif\u001b[0m \u001b[0me\u001b[0m\u001b[0;34m.\u001b[0m\u001b[0merrno\u001b[0m \u001b[0;34m!=\u001b[0m \u001b[0merrno\u001b[0m\u001b[0;34m.\u001b[0m\u001b[0mECHILD\u001b[0m\u001b[0;34m:\u001b[0m\u001b[0;34m\u001b[0m\u001b[0m\n",
      "\u001b[0;32m/usr/lib/python2.7/subprocess.pyc\u001b[0m in \u001b[0;36m_eintr_retry_call\u001b[0;34m(func, *args)\u001b[0m\n\u001b[1;32m    123\u001b[0m     \u001b[0;32mwhile\u001b[0m \u001b[0mTrue\u001b[0m\u001b[0;34m:\u001b[0m\u001b[0;34m\u001b[0m\u001b[0m\n\u001b[1;32m    124\u001b[0m         \u001b[0;32mtry\u001b[0m\u001b[0;34m:\u001b[0m\u001b[0;34m\u001b[0m\u001b[0m\n\u001b[0;32m--> 125\u001b[0;31m             \u001b[0;32mreturn\u001b[0m \u001b[0mfunc\u001b[0m\u001b[0;34m(\u001b[0m\u001b[0;34m*\u001b[0m\u001b[0margs\u001b[0m\u001b[0;34m)\u001b[0m\u001b[0;34m\u001b[0m\u001b[0m\n\u001b[0m\u001b[1;32m    126\u001b[0m         \u001b[0;32mexcept\u001b[0m \u001b[0;34m(\u001b[0m\u001b[0mOSError\u001b[0m\u001b[0;34m,\u001b[0m \u001b[0mIOError\u001b[0m\u001b[0;34m)\u001b[0m \u001b[0;32mas\u001b[0m \u001b[0me\u001b[0m\u001b[0;34m:\u001b[0m\u001b[0;34m\u001b[0m\u001b[0m\n\u001b[1;32m    127\u001b[0m             \u001b[0;32mif\u001b[0m \u001b[0me\u001b[0m\u001b[0;34m.\u001b[0m\u001b[0merrno\u001b[0m \u001b[0;34m==\u001b[0m \u001b[0merrno\u001b[0m\u001b[0;34m.\u001b[0m\u001b[0mEINTR\u001b[0m\u001b[0;34m:\u001b[0m\u001b[0;34m\u001b[0m\u001b[0m\n",
      "\u001b[0;31mKeyboardInterrupt\u001b[0m: "
     ]
    }
   ],
   "source": [
    "ROBOT_DATA_ROOT = os.path.join(TEST_DATA_PATH, RTYPE)\n",
    "ROBOT_RESULT_ROOT = os.path.join(TEST_RESULT_PATH, RTYPE)\n",
    "DATASET_PATH = os.path.join(ROBOT_DATA_ROOT, DAT_DIR)\n",
    "RESULTSET_PATH = os.path.join(ROBOT_RESULT_ROOT, DAT_DIR)\n",
    "file_list = sorted(os.listdir(DATASET_PATH))\n",
    "\n",
    "gtimer = GlobalTimer.instance()\n",
    "gtimer.reset(scale=1, timeunit='s')\n",
    "\n",
    "gtimer.tic(\"full_loop\")\n",
    "for fid in range(I_START, I_END):\n",
    "    e_step_list = []\n",
    "    for i_c, cname in enumerate(CNAME_LIST):\n",
    "        gtimer.tic(\"step\")\n",
    "        p = subprocess.Popen(['python', '{}src/scripts/developing/pddlstream/test_saved_scene.py'.format(RNB_PLANNING_DIR),\n",
    "                              '--rtype', RTYPE,\n",
    "                              '--dat_root', DAT_ROOT,\n",
    "                              '--res_root', RES_ROOT,\n",
    "                              '--dat_dir', DAT_DIR,\n",
    "                              '--file_option', FILE_OPTION,\n",
    "                              '--data_idx', str(fid),\n",
    "                              '--cname', cname,\n",
    "                              '--VISUALIZE', str(VISUALIZE),\n",
    "                              '--PLAY_RESULT', str(PLAY_RESULT),\n",
    "                              '--TIMEOUT_MOTION', str(TIMEOUT_MOTION),\n",
    "                              '--MAX_TIME', str(MAX_TIME),\n",
    "                              '--MAX_ITER', str(MAX_ITER), \n",
    "                              '--GRASP_SAMPLE', str(GRASP_SAMPLE),\n",
    "                              '--STABLE_SAMPLE', str(STABLE_SAMPLE),\n",
    "                              '--SEARCH_SAMPLE_RATIO', \n",
    "                              str(SEARCH_SAMPLE_RATIO),\n",
    "                              '--MAX_SKELETONS', \n",
    "                              str(MAX_SKELETONS)])\n",
    "        p.wait()\n",
    "        e_step = np.round(gtimer.toc(\"step\"), 1)\n",
    "        e_step_list.append(e_step)\n",
    "        print(\"------- \" + (\"{:<8}\"*len(e_step_list)).format(*e_step_list) + \"-------\", end=\"\\r\")\n",
    "        \n",
    "    print(\"\")\n",
    "    print(\"========== {} / {} (eta: {} / {} s) =========\".format(\n",
    "        fid+1, N_DAT, *np.round(gtimer.eta(\"full_loop\", fid-I_START+1, N_DAT), 1)))"
   ]
  },
  {
   "cell_type": "code",
   "execution_count": null,
   "metadata": {},
   "outputs": [],
   "source": []
  },
  {
   "cell_type": "markdown",
   "metadata": {},
   "source": [
    "# obj3_hard"
   ]
  },
  {
   "cell_type": "code",
   "execution_count": 17,
   "metadata": {},
   "outputs": [],
   "source": []
  },
  {
   "cell_type": "code",
   "execution_count": 18,
   "metadata": {},
   "outputs": [],
   "source": [
    "RTYPE = \"indy7gripper\"\n",
    "FILE_OPTION = \"obj_3_hard\"\n",
    "I_START=0\n",
    "I_END = 20\n",
    "N_DAT = I_END-I_START"
   ]
  },
  {
   "cell_type": "markdown",
   "metadata": {},
   "source": [
    "### test"
   ]
  },
  {
   "cell_type": "code",
   "execution_count": 19,
   "metadata": {},
   "outputs": [
    {
     "name": "stdout",
     "output_type": "stream",
     "text": [
      "------- 103.5   106.3   9.3     103.9   -------\n",
      "========== 1 / 20 (eta: 323.0 / 6460.4 s) =========\n",
      "------- 13.3    5.9     7.0     5.9     -------\n",
      "========== 2 / 20 (eta: 355.1 / 3551.5 s) =========\n",
      "------- 11.7    5.6     7.8     75.7    -------\n",
      "========== 3 / 20 (eta: 456.0 / 3039.9 s) =========\n",
      "------- 11.5    4.8     103.9   7.8     -------\n",
      "========== 4 / 20 (eta: 584.0 / 2919.9 s) =========\n",
      "------- 15.0    57.1    105.6   142.8   -------\n",
      "========== 5 / 20 (eta: 904.4 / 3617.5 s) =========\n",
      "------- 12.8    104.2   6.2     8.1     -------\n",
      "========== 6 / 20 (eta: 1035.8 / 3452.5 s) =========\n",
      "------- 66.9    4.9     5.3     8.2     -------\n",
      "========== 7 / 20 (eta: 1121.2 / 3203.4 s) =========\n",
      "------- 103.6   103.5   104.0   103.9   -------\n",
      "========== 8 / 20 (eta: 1536.2 / 3840.6 s) =========\n",
      "------- 103.4   103.4   110.1   128.1   -------\n",
      "========== 9 / 20 (eta: 1981.2 / 4402.7 s) =========\n",
      "------- 5.5     5.1     8.4     10.4    -------\n",
      "========== 10 / 20 (eta: 2010.5 / 4021.1 s) =========\n",
      "------- 104.0   103.4   104.6   103.9   -------\n",
      "========== 11 / 20 (eta: 2426.5 / 4411.8 s) =========\n",
      "------- 103.8   103.6   104.0   103.8   -------\n",
      "========== 12 / 20 (eta: 2841.6 / 4736.1 s) =========\n",
      "------- 20.3    9.9     7.6     8.2     -------\n",
      "========== 13 / 20 (eta: 2887.6 / 4442.4 s) =========\n",
      "------- 55.1    36.0    6.6     14.6    -------\n",
      "========== 14 / 20 (eta: 2999.9 / 4285.5 s) =========\n",
      "------- 9.9     7.0     8.1     8.0     -------\n",
      "========== 15 / 20 (eta: 3032.8 / 4043.7 s) =========\n",
      "------- 5.5     9.4     4.9     12.3    -------\n",
      "========== 16 / 20 (eta: 3064.8 / 3831.1 s) =========\n",
      "------- 5.2     4.4     7.8     9.7     -------\n",
      "========== 17 / 20 (eta: 3091.9 / 3637.5 s) =========\n",
      "------- 103.7   103.7   28.2    104.0   -------\n",
      "========== 18 / 20 (eta: 3431.5 / 3812.8 s) =========\n",
      "------- 14.6    6.5     11.9    35.8    -------\n",
      "========== 19 / 20 (eta: 3500.3 / 3684.5 s) =========\n",
      "------- 13.7    103.5   111.4   104.0   -------\n",
      "========== 20 / 20 (eta: 3832.9 / 3832.9 s) =========\n"
     ]
    }
   ],
   "source": [
    "ROBOT_DATA_ROOT = os.path.join(TEST_DATA_PATH, RTYPE)\n",
    "ROBOT_RESULT_ROOT = os.path.join(TEST_RESULT_PATH, RTYPE)\n",
    "DATASET_PATH = os.path.join(ROBOT_DATA_ROOT, DAT_DIR)\n",
    "RESULTSET_PATH = os.path.join(ROBOT_RESULT_ROOT, DAT_DIR)\n",
    "file_list = sorted(os.listdir(DATASET_PATH))\n",
    "\n",
    "gtimer = GlobalTimer.instance()\n",
    "gtimer.reset(scale=1, timeunit='s')\n",
    "\n",
    "gtimer.tic(\"full_loop\")\n",
    "for fid in range(I_START, I_END):\n",
    "    e_step_list = []\n",
    "    for i_c, cname in enumerate(CNAME_LIST):\n",
    "        gtimer.tic(\"step\")\n",
    "        p = subprocess.Popen(['python', '{}src/scripts/developing/pddlstream/test_saved_scene.py'.format(RNB_PLANNING_DIR),\n",
    "                              '--rtype', RTYPE,\n",
    "                              '--dat_root', DAT_ROOT,\n",
    "                              '--res_root', RES_ROOT,\n",
    "                              '--dat_dir', DAT_DIR,\n",
    "                              '--file_option', FILE_OPTION,\n",
    "                              '--data_idx', str(fid),\n",
    "                              '--cname', cname,\n",
    "                              '--VISUALIZE', str(VISUALIZE),\n",
    "                              '--PLAY_RESULT', str(PLAY_RESULT),\n",
    "                              '--TIMEOUT_MOTION', str(TIMEOUT_MOTION),\n",
    "                              '--MAX_TIME', str(MAX_TIME),\n",
    "                              '--MAX_ITER', str(MAX_ITER), \n",
    "                              '--GRASP_SAMPLE', str(GRASP_SAMPLE),\n",
    "                              '--STABLE_SAMPLE', str(STABLE_SAMPLE),\n",
    "                              '--SEARCH_SAMPLE_RATIO', \n",
    "                              str(SEARCH_SAMPLE_RATIO),\n",
    "                              '--MAX_SKELETONS', \n",
    "                              str(MAX_SKELETONS)])\n",
    "        p.wait()\n",
    "        e_step = np.round(gtimer.toc(\"step\"), 1)\n",
    "        e_step_list.append(e_step)\n",
    "        print(\"------- \" + (\"{:<8}\"*len(e_step_list)).format(*e_step_list) + \"-------\", end=\"\\r\")\n",
    "        \n",
    "    print(\"\")\n",
    "    print(\"========== {} / {} (eta: {} / {} s) =========\".format(\n",
    "        fid+1, N_DAT, *np.round(gtimer.eta(\"full_loop\", fid-I_START+1, N_DAT), 1)))"
   ]
  },
  {
   "cell_type": "code",
   "execution_count": null,
   "metadata": {},
   "outputs": [],
   "source": []
  },
  {
   "cell_type": "code",
   "execution_count": null,
   "metadata": {},
   "outputs": [],
   "source": []
  },
  {
   "cell_type": "markdown",
   "metadata": {},
   "source": [
    "# obj1 obs0"
   ]
  },
  {
   "cell_type": "code",
   "execution_count": 3,
   "metadata": {},
   "outputs": [],
   "source": [
    "RTYPE = \"indy7gripper\"\n",
    "FILE_OPTION = \"obj_1c_obs0\"\n",
    "I_START = 0\n",
    "I_END = 20\n",
    "N_DAT = I_END-I_START"
   ]
  },
  {
   "cell_type": "markdown",
   "metadata": {},
   "source": [
    "### test"
   ]
  },
  {
   "cell_type": "code",
   "execution_count": 4,
   "metadata": {
    "scrolled": true
   },
   "outputs": [
    {
     "name": "stdout",
     "output_type": "stream",
     "text": [
      "------- 12.9    5.6     5.7     5.6     -------\n",
      "========== 1 / 20 (eta: 29.8 / 596.2 s) =========\n",
      "------- 5.2     6.7     5.6     6.1     -------\n",
      "========== 2 / 20 (eta: 53.4 / 533.5 s) =========\n",
      "------- 7.5     7.2     6.1     5.5     -------\n",
      "========== 3 / 20 (eta: 79.7 / 531.1 s) =========\n",
      "------- 7.3     109.1   5.8     5.9     -------\n",
      "========== 4 / 20 (eta: 207.7 / 1038.7 s) =========\n",
      "------- 21.4    7.4     5.3     5.4     -------\n",
      "========== 5 / 20 (eta: 247.3 / 989.1 s) =========\n",
      "------- 14.6    13.0    7.7     5.8     -------\n",
      "========== 6 / 20 (eta: 288.4 / 961.2 s) =========\n",
      "------- 4.6     5.0     14.9    5.5     -------\n",
      "========== 7 / 20 (eta: 318.4 / 909.8 s) =========\n",
      "------- 7.6     7.0     5.6     49.9    -------\n",
      "========== 8 / 20 (eta: 388.6 / 971.5 s) =========\n",
      "------- 8.9     6.4     49.7    112.7   -------\n",
      "========== 9 / 20 (eta: 566.3 / 1258.4 s) =========\n",
      "------- 6.7     4.9     5.1     6.9     -------\n",
      "========== 10 / 20 (eta: 589.9 / 1179.7 s) =========\n",
      "------- 50.2    5.7     7.5     6.0     -------\n",
      "========== 11 / 20 (eta: 659.3 / 1198.7 s) =========\n",
      "------- 4.7     6.7     5.0     5.8     -------\n",
      "========== 12 / 20 (eta: 681.5 / 1135.9 s) =========\n",
      "------- 4.9     7.2     5.1     7.9     -------\n",
      "========== 13 / 20 (eta: 706.6 / 1087.1 s) =========\n",
      "------- 16.4    4.6     5.4     5.8     -------\n",
      "========== 14 / 20 (eta: 738.8 / 1055.4 s) =========\n",
      "------- 15.7    4.7     6.0     8.0     -------\n",
      "========== 15 / 20 (eta: 773.3 / 1031.0 s) =========\n",
      "------- 7.0     5.2     5.2     7.6     -------\n",
      "========== 16 / 20 (eta: 798.2 / 997.8 s) =========\n",
      "------- 8.9     8.7     5.1     5.6     -------\n",
      "========== 17 / 20 (eta: 826.6 / 972.4 s) =========\n",
      "------- 13.4    11.5    5.4     5.5     -------\n",
      "========== 18 / 20 (eta: 862.4 / 958.2 s) =========\n",
      "------- 15.3    18.7    5.7     6.1     -------\n",
      "========== 19 / 20 (eta: 908.3 / 956.1 s) =========\n",
      "------- 13.5    14.6    5.1     13.3    -------\n",
      "========== 20 / 20 (eta: 954.7 / 954.7 s) =========\n"
     ]
    }
   ],
   "source": [
    "ROBOT_DATA_ROOT = os.path.join(TEST_DATA_PATH, RTYPE)\n",
    "ROBOT_RESULT_ROOT = os.path.join(TEST_RESULT_PATH, RTYPE)\n",
    "DATASET_PATH = os.path.join(ROBOT_DATA_ROOT, DAT_DIR)\n",
    "RESULTSET_PATH = os.path.join(ROBOT_RESULT_ROOT, DAT_DIR)\n",
    "file_list = sorted(os.listdir(DATASET_PATH))\n",
    "\n",
    "gtimer = GlobalTimer.instance()\n",
    "gtimer.reset(scale=1, timeunit='s')\n",
    "\n",
    "gtimer.tic(\"full_loop\")\n",
    "for fid in range(I_START, I_END):\n",
    "    e_step_list = []\n",
    "    for i_c, cname in enumerate(CNAME_LIST):\n",
    "        gtimer.tic(\"step\")\n",
    "        p = subprocess.Popen(['python', '{}src/scripts/developing/pddlstream/test_saved_scene.py'.format(RNB_PLANNING_DIR),\n",
    "                              '--rtype', RTYPE,\n",
    "                              '--dat_root', DAT_ROOT,\n",
    "                              '--res_root', RES_ROOT,\n",
    "                              '--dat_dir', DAT_DIR,\n",
    "                              '--file_option', FILE_OPTION,\n",
    "                              '--data_idx', str(fid),\n",
    "                              '--cname', cname,\n",
    "                              '--VISUALIZE', str(VISUALIZE),\n",
    "                              '--PLAY_RESULT', str(PLAY_RESULT),\n",
    "                              '--TIMEOUT_MOTION', str(TIMEOUT_MOTION),\n",
    "                              '--MAX_TIME', str(MAX_TIME),\n",
    "                              '--MAX_ITER', str(MAX_ITER), \n",
    "                              '--GRASP_SAMPLE', str(GRASP_SAMPLE),\n",
    "                              '--STABLE_SAMPLE', str(STABLE_SAMPLE),\n",
    "                              '--SEARCH_SAMPLE_RATIO', \n",
    "                              str(SEARCH_SAMPLE_RATIO),\n",
    "                              '--MAX_SKELETONS', \n",
    "                              str(MAX_SKELETONS)])\n",
    "        p.wait()\n",
    "        e_step = np.round(gtimer.toc(\"step\"), 1)\n",
    "        e_step_list.append(e_step)\n",
    "        print(\"------- \" + (\"{:<8}\"*len(e_step_list)).format(*e_step_list) + \"-------\", end=\"\\r\")\n",
    "        \n",
    "    print(\"\")\n",
    "    print(\"========== {} / {} (eta: {} / {} s) =========\".format(\n",
    "        fid+1, N_DAT, *np.round(gtimer.eta(\"full_loop\", fid-I_START+1, N_DAT), 1)))"
   ]
  },
  {
   "cell_type": "code",
   "execution_count": null,
   "metadata": {},
   "outputs": [],
   "source": []
  },
  {
   "cell_type": "code",
   "execution_count": null,
   "metadata": {},
   "outputs": [],
   "source": []
  },
  {
   "cell_type": "markdown",
   "metadata": {},
   "source": [
    "# obj1 obs3"
   ]
  },
  {
   "cell_type": "code",
   "execution_count": 5,
   "metadata": {},
   "outputs": [],
   "source": [
    "RTYPE = \"indy7gripper\"\n",
    "FILE_OPTION = \"obj_1c_obs3\"\n",
    "I_START = 0\n",
    "I_END = 20\n",
    "N_DAT = I_END-I_START"
   ]
  },
  {
   "cell_type": "markdown",
   "metadata": {},
   "source": [
    "### test"
   ]
  },
  {
   "cell_type": "code",
   "execution_count": 6,
   "metadata": {
    "scrolled": true
   },
   "outputs": [
    {
     "name": "stdout",
     "output_type": "stream",
     "text": [
      "------- 23.4    5.0     5.3     6.3     -------\n",
      "========== 1 / 20 (eta: 40.0 / 800.0 s) =========\n",
      "------- 111.1   6.5     5.3     11.2    -------\n",
      "========== 2 / 20 (eta: 174.2 / 1741.8 s) =========\n",
      "------- 27.3    5.3     15.8    33.7    -------\n",
      "========== 3 / 20 (eta: 256.2 / 1708.0 s) =========\n",
      "------- 29.7    22.6    6.7     5.8     -------\n",
      "========== 4 / 20 (eta: 321.0 / 1604.9 s) =========\n",
      "------- 5.3     9.4     5.3     10.6    -------\n",
      "========== 5 / 20 (eta: 351.6 / 1406.6 s) =========\n",
      "------- 23.5    11.7    5.6     5.7     -------\n",
      "========== 6 / 20 (eta: 398.2 / 1327.4 s) =========\n",
      "------- 13.5    42.3    9.8     76.0    -------\n",
      "========== 7 / 20 (eta: 539.8 / 1542.4 s) =========\n",
      "------- 22.4    6.2     7.1     6.1     -------\n",
      "========== 8 / 20 (eta: 581.6 / 1453.9 s) =========\n",
      "------- 5.2     9.6     5.6     6.9     -------\n",
      "========== 9 / 20 (eta: 608.8 / 1352.9 s) =========\n",
      "------- 10.0    57.8    31.6    6.4     -------\n",
      "========== 10 / 20 (eta: 714.5 / 1429.1 s) =========\n",
      "------- 4.9     4.9     5.3     6.2     -------\n",
      "========== 11 / 20 (eta: 735.8 / 1337.8 s) =========\n",
      "------- 5.7     7.7     13.2    5.9     -------\n",
      "========== 12 / 20 (eta: 768.3 / 1280.5 s) =========\n",
      "------- 6.9     16.9    17.1    57.9    -------\n",
      "========== 13 / 20 (eta: 867.1 / 1334.0 s) =========\n",
      "------- 15.7    7.4     38.4    8.5     -------\n",
      "========== 14 / 20 (eta: 937.2 / 1338.8 s) =========\n",
      "------- 112.3   107.0   85.1    108.1   -------\n",
      "========== 15 / 20 (eta: 1349.6 / 1799.5 s) =========\n",
      "------- 70.6    10.2    34.5    10.4    -------\n",
      "========== 16 / 20 (eta: 1475.3 / 1844.1 s) =========\n",
      "------- 107.9   6.6     13.6    12.7    -------\n",
      "========== 17 / 20 (eta: 1616.1 / 1901.3 s) =========\n",
      "------- 30.3    8.4     18.5    32.1    -------\n",
      "========== 18 / 20 (eta: 1705.4 / 1894.9 s) =========\n",
      "------- 10.4    5.8     6.6     5.7     -------\n",
      "========== 19 / 20 (eta: 1733.9 / 1825.2 s) =========\n",
      "------- 59.5    7.3     17.2    5.8     -------\n",
      "========== 20 / 20 (eta: 1823.7 / 1823.7 s) =========\n"
     ]
    }
   ],
   "source": [
    "ROBOT_DATA_ROOT = os.path.join(TEST_DATA_PATH, RTYPE)\n",
    "ROBOT_RESULT_ROOT = os.path.join(TEST_RESULT_PATH, RTYPE)\n",
    "DATASET_PATH = os.path.join(ROBOT_DATA_ROOT, DAT_DIR)\n",
    "RESULTSET_PATH = os.path.join(ROBOT_RESULT_ROOT, DAT_DIR)\n",
    "file_list = sorted(os.listdir(DATASET_PATH))\n",
    "\n",
    "gtimer = GlobalTimer.instance()\n",
    "gtimer.reset(scale=1, timeunit='s')\n",
    "\n",
    "gtimer.tic(\"full_loop\")\n",
    "for fid in range(I_START, I_END):\n",
    "    e_step_list = []\n",
    "    for i_c, cname in enumerate(CNAME_LIST):\n",
    "        gtimer.tic(\"step\")\n",
    "        p = subprocess.Popen(['python', '{}src/scripts/developing/pddlstream/test_saved_scene.py'.format(RNB_PLANNING_DIR),\n",
    "                              '--rtype', RTYPE,\n",
    "                              '--dat_root', DAT_ROOT,\n",
    "                              '--res_root', RES_ROOT,\n",
    "                              '--dat_dir', DAT_DIR,\n",
    "                              '--file_option', FILE_OPTION,\n",
    "                              '--data_idx', str(fid),\n",
    "                              '--cname', cname,\n",
    "                              '--VISUALIZE', str(VISUALIZE),\n",
    "                              '--PLAY_RESULT', str(PLAY_RESULT),\n",
    "                              '--TIMEOUT_MOTION', str(TIMEOUT_MOTION),\n",
    "                              '--MAX_TIME', str(MAX_TIME),\n",
    "                              '--MAX_ITER', str(MAX_ITER), \n",
    "                              '--GRASP_SAMPLE', str(GRASP_SAMPLE),\n",
    "                              '--STABLE_SAMPLE', str(STABLE_SAMPLE),\n",
    "                              '--SEARCH_SAMPLE_RATIO', \n",
    "                              str(SEARCH_SAMPLE_RATIO),\n",
    "                              '--MAX_SKELETONS', \n",
    "                              str(MAX_SKELETONS)])\n",
    "        p.wait()\n",
    "        e_step = np.round(gtimer.toc(\"step\"), 1)\n",
    "        e_step_list.append(e_step)\n",
    "        print(\"------- \" + (\"{:<8}\"*len(e_step_list)).format(*e_step_list) + \"-------\", end=\"\\r\")\n",
    "        \n",
    "    print(\"\")\n",
    "    print(\"========== {} / {} (eta: {} / {} s) =========\".format(\n",
    "        fid+1, N_DAT, *np.round(gtimer.eta(\"full_loop\", fid-I_START+1, N_DAT), 1)))"
   ]
  },
  {
   "cell_type": "code",
   "execution_count": null,
   "metadata": {},
   "outputs": [],
   "source": []
  },
  {
   "cell_type": "code",
   "execution_count": null,
   "metadata": {},
   "outputs": [],
   "source": []
  },
  {
   "cell_type": "markdown",
   "metadata": {},
   "source": [
    "# obj1 obs5"
   ]
  },
  {
   "cell_type": "code",
   "execution_count": 7,
   "metadata": {},
   "outputs": [],
   "source": [
    "RTYPE = \"indy7gripper\"\n",
    "FILE_OPTION = \"obj_1c_obs5\"\n",
    "I_START = 0\n",
    "I_END = 20\n",
    "N_DAT = I_END-I_START"
   ]
  },
  {
   "cell_type": "markdown",
   "metadata": {},
   "source": [
    "### test"
   ]
  },
  {
   "cell_type": "code",
   "execution_count": 8,
   "metadata": {
    "scrolled": true
   },
   "outputs": [
    {
     "name": "stdout",
     "output_type": "stream",
     "text": [
      "------- 11.8    8.7     6.2     15.2    -------\n",
      "========== 1 / 20 (eta: 41.9 / 837.9 s) =========\n",
      "------- 107.2   16.2    104.6   107.5   -------\n",
      "========== 2 / 20 (eta: 377.4 / 3774.3 s) =========\n",
      "------- 114.0   18.6    48.3    18.1    -------\n",
      "========== 3 / 20 (eta: 576.4 / 3843.0 s) =========\n",
      "------- 9.2     105.1   42.1    65.8    -------\n",
      "========== 4 / 20 (eta: 798.5 / 3992.6 s) =========\n",
      "------- 62.4    115.1   7.6     21.6    -------\n",
      "========== 5 / 20 (eta: 1005.2 / 4020.6 s) =========\n",
      "------- 11.4    6.1     40.6    6.2     -------\n",
      "========== 6 / 20 (eta: 1069.4 / 3564.7 s) =========\n",
      "------- 106.7   130.5   104.8   112.6   -------\n",
      "========== 7 / 20 (eta: 1524.0 / 4354.3 s) =========\n",
      "------- 6.4     11.2    6.9     38.9    -------\n",
      "========== 8 / 20 (eta: 1587.4 / 3968.4 s) =========\n",
      "------- 106.3   106.2   104.7   107.4   -------\n",
      "========== 9 / 20 (eta: 2012.0 / 4471.0 s) =========\n",
      "------- 4.7     5.1     7.4     105.1   -------\n",
      "========== 10 / 20 (eta: 2134.3 / 4268.6 s) =========\n",
      "------- 6.6     37.6    9.9     111.2   -------\n",
      "========== 11 / 20 (eta: 2299.6 / 4181.1 s) =========\n",
      "------- 23.9    11.2    6.0     5.7     -------\n",
      "========== 12 / 20 (eta: 2346.3 / 3910.5 s) =========\n",
      "------- 105.1   112.4   105.6   108.7   -------\n",
      "========== 13 / 20 (eta: 2778.0 / 4273.9 s) =========\n",
      "------- 15.9    5.0     8.0     5.7     -------\n",
      "========== 14 / 20 (eta: 2812.6 / 4018.1 s) =========\n",
      "------- 5.8     7.1     5.2     15.8    -------\n",
      "========== 15 / 20 (eta: 2846.5 / 3795.3 s) =========\n",
      "------- 6.6     6.8     7.4     6.4     -------\n",
      "========== 16 / 20 (eta: 2873.7 / 3592.1 s) =========\n",
      "------- 101.0   9.6     88.7    8.4     -------\n",
      "========== 17 / 20 (eta: 3081.3 / 3625.1 s) =========\n",
      "------- 62.2    7.2     8.2     6.5     -------\n",
      "========== 18 / 20 (eta: 3165.4 / 3517.1 s) =========\n",
      "------- 65.5    57.4    107.4   107.8   -------\n",
      "========== 19 / 20 (eta: 3503.6 / 3688.0 s) =========\n",
      "------- 12.5    112.2   46.2    6.2     -------\n",
      "========== 20 / 20 (eta: 3680.7 / 3680.7 s) =========\n"
     ]
    }
   ],
   "source": [
    "ROBOT_DATA_ROOT = os.path.join(TEST_DATA_PATH, RTYPE)\n",
    "ROBOT_RESULT_ROOT = os.path.join(TEST_RESULT_PATH, RTYPE)\n",
    "DATASET_PATH = os.path.join(ROBOT_DATA_ROOT, DAT_DIR)\n",
    "RESULTSET_PATH = os.path.join(ROBOT_RESULT_ROOT, DAT_DIR)\n",
    "file_list = sorted(os.listdir(DATASET_PATH))\n",
    "\n",
    "gtimer = GlobalTimer.instance()\n",
    "gtimer.reset(scale=1, timeunit='s')\n",
    "\n",
    "gtimer.tic(\"full_loop\")\n",
    "for fid in range(I_START, I_END):\n",
    "    e_step_list = []\n",
    "    for i_c, cname in enumerate(CNAME_LIST):\n",
    "        gtimer.tic(\"step\")\n",
    "        p = subprocess.Popen(['python', '{}src/scripts/developing/pddlstream/test_saved_scene.py'.format(RNB_PLANNING_DIR),\n",
    "                              '--rtype', RTYPE,\n",
    "                              '--dat_root', DAT_ROOT,\n",
    "                              '--res_root', RES_ROOT,\n",
    "                              '--dat_dir', DAT_DIR,\n",
    "                              '--file_option', FILE_OPTION,\n",
    "                              '--data_idx', str(fid),\n",
    "                              '--cname', cname,\n",
    "                              '--VISUALIZE', str(VISUALIZE),\n",
    "                              '--PLAY_RESULT', str(PLAY_RESULT),\n",
    "                              '--TIMEOUT_MOTION', str(TIMEOUT_MOTION),\n",
    "                              '--MAX_TIME', str(MAX_TIME),\n",
    "                              '--MAX_ITER', str(MAX_ITER), \n",
    "                              '--GRASP_SAMPLE', str(GRASP_SAMPLE),\n",
    "                              '--STABLE_SAMPLE', str(STABLE_SAMPLE),\n",
    "                              '--SEARCH_SAMPLE_RATIO', \n",
    "                              str(SEARCH_SAMPLE_RATIO),\n",
    "                              '--MAX_SKELETONS', \n",
    "                              str(MAX_SKELETONS)])\n",
    "        p.wait()\n",
    "        e_step = np.round(gtimer.toc(\"step\"), 1)\n",
    "        e_step_list.append(e_step)\n",
    "        print(\"------- \" + (\"{:<8}\"*len(e_step_list)).format(*e_step_list) + \"-------\", end=\"\\r\")\n",
    "        \n",
    "    print(\"\")\n",
    "    print(\"========== {} / {} (eta: {} / {} s) =========\".format(\n",
    "        fid+1, N_DAT, *np.round(gtimer.eta(\"full_loop\", fid-I_START+1, N_DAT), 1)))"
   ]
  },
  {
   "cell_type": "code",
   "execution_count": null,
   "metadata": {},
   "outputs": [],
   "source": []
  },
  {
   "cell_type": "code",
   "execution_count": null,
   "metadata": {},
   "outputs": [],
   "source": []
  },
  {
   "cell_type": "markdown",
   "metadata": {},
   "source": [
    "# obj1 obs7"
   ]
  },
  {
   "cell_type": "code",
   "execution_count": 9,
   "metadata": {},
   "outputs": [],
   "source": [
    "RTYPE = \"indy7gripper\"\n",
    "FILE_OPTION = \"obj_1c_obs7\"\n",
    "I_START = 0\n",
    "I_END = 20\n",
    "N_DAT = I_END-I_START"
   ]
  },
  {
   "cell_type": "markdown",
   "metadata": {},
   "source": [
    "### test"
   ]
  },
  {
   "cell_type": "code",
   "execution_count": 10,
   "metadata": {
    "scrolled": true
   },
   "outputs": [
    {
     "name": "stdout",
     "output_type": "stream",
     "text": [
      "------- 16.3    80.7    6.0     6.6     -------\n",
      "========== 1 / 20 (eta: 109.6 / 2191.3 s) =========\n",
      "------- 9.4     10.8    6.2     19.9    -------\n",
      "========== 2 / 20 (eta: 155.9 / 1558.9 s) =========\n",
      "------- 8.9     26.8    6.1     17.3    -------\n",
      "========== 3 / 20 (eta: 215.0 / 1433.7 s) =========\n",
      "------- 20.5    110.9   63.3    85.6    -------\n",
      "========== 4 / 20 (eta: 495.3 / 2476.5 s) =========\n",
      "------- 12.5    62.0    5.5     6.6     -------\n",
      "========== 5 / 20 (eta: 582.0 / 2328.0 s) =========\n",
      "------- 17.1    16.3    6.4     108.9   -------\n",
      "========== 6 / 20 (eta: 730.7 / 2435.7 s) =========\n",
      "------- 15.0    10.1    5.5     5.7     -------\n",
      "========== 7 / 20 (eta: 766.9 / 2191.1 s) =========\n",
      "------- 28.2    18.1    14.2    106.2   -------\n",
      "========== 8 / 20 (eta: 933.6 / 2333.9 s) =========\n",
      "------- 17.4    104.5   79.0    111.7   -------\n",
      "========== 9 / 20 (eta: 1246.2 / 2769.3 s) =========\n",
      "------- 104.4   11.8    91.7    15.6    -------\n",
      "========== 10 / 20 (eta: 1469.7 / 2939.4 s) =========\n",
      "------- 34.2    17.7    18.7    7.9     -------\n",
      "========== 11 / 20 (eta: 1548.2 / 2814.9 s) =========\n",
      "------- 63.1    8.0     107.7   7.7     -------\n",
      "========== 12 / 20 (eta: 1734.7 / 2891.1 s) =========\n",
      "------- 12.2    111.8   14.2    52.6    -------\n",
      "========== 13 / 20 (eta: 1925.5 / 2962.3 s) =========\n",
      "------- 106.9   122.9   106.9   114.9   -------\n",
      "========== 14 / 20 (eta: 2377.0 / 3395.8 s) =========\n",
      "------- 23.0    17.3    17.1    112.8   -------\n",
      "========== 15 / 20 (eta: 2547.2 / 3396.3 s) =========\n",
      "------- 19.8    57.1    8.3     17.5    -------\n",
      "========== 16 / 20 (eta: 2650.0 / 3312.5 s) =========\n",
      "------- 17.7    13.2    5.6     99.5    -------\n",
      "========== 17 / 20 (eta: 2786.0 / 3277.6 s) =========\n",
      "------- 104.9   32.7    10.1    20.6    -------\n",
      "========== 18 / 20 (eta: 2954.3 / 3282.5 s) =========\n",
      "------- 51.8    24.8    23.6    106.3   -------\n",
      "========== 19 / 20 (eta: 3160.8 / 3327.2 s) =========\n",
      "------- 21.4    72.9    6.2     23.8    -------\n",
      "========== 20 / 20 (eta: 3285.1 / 3285.1 s) =========\n"
     ]
    }
   ],
   "source": [
    "ROBOT_DATA_ROOT = os.path.join(TEST_DATA_PATH, RTYPE)\n",
    "ROBOT_RESULT_ROOT = os.path.join(TEST_RESULT_PATH, RTYPE)\n",
    "DATASET_PATH = os.path.join(ROBOT_DATA_ROOT, DAT_DIR)\n",
    "RESULTSET_PATH = os.path.join(ROBOT_RESULT_ROOT, DAT_DIR)\n",
    "file_list = sorted(os.listdir(DATASET_PATH))\n",
    "\n",
    "gtimer = GlobalTimer.instance()\n",
    "gtimer.reset(scale=1, timeunit='s')\n",
    "\n",
    "gtimer.tic(\"full_loop\")\n",
    "for fid in range(I_START, I_END):\n",
    "    e_step_list = []\n",
    "    for i_c, cname in enumerate(CNAME_LIST):\n",
    "        gtimer.tic(\"step\")\n",
    "        p = subprocess.Popen(['python', '{}src/scripts/developing/pddlstream/test_saved_scene.py'.format(RNB_PLANNING_DIR),\n",
    "                              '--rtype', RTYPE,\n",
    "                              '--dat_root', DAT_ROOT,\n",
    "                              '--res_root', RES_ROOT,\n",
    "                              '--dat_dir', DAT_DIR,\n",
    "                              '--file_option', FILE_OPTION,\n",
    "                              '--data_idx', str(fid),\n",
    "                              '--cname', cname,\n",
    "                              '--VISUALIZE', str(VISUALIZE),\n",
    "                              '--PLAY_RESULT', str(PLAY_RESULT),\n",
    "                              '--TIMEOUT_MOTION', str(TIMEOUT_MOTION),\n",
    "                              '--MAX_TIME', str(MAX_TIME),\n",
    "                              '--MAX_ITER', str(MAX_ITER), \n",
    "                              '--GRASP_SAMPLE', str(GRASP_SAMPLE),\n",
    "                              '--STABLE_SAMPLE', str(STABLE_SAMPLE),\n",
    "                              '--SEARCH_SAMPLE_RATIO', \n",
    "                              str(SEARCH_SAMPLE_RATIO),\n",
    "                              '--MAX_SKELETONS', \n",
    "                              str(MAX_SKELETONS)])\n",
    "        p.wait()\n",
    "        e_step = np.round(gtimer.toc(\"step\"), 1)\n",
    "        e_step_list.append(e_step)\n",
    "        print(\"------- \" + (\"{:<8}\"*len(e_step_list)).format(*e_step_list) + \"-------\", end=\"\\r\")\n",
    "        \n",
    "    print(\"\")\n",
    "    print(\"========== {} / {} (eta: {} / {} s) =========\".format(\n",
    "        fid+1, N_DAT, *np.round(gtimer.eta(\"full_loop\", fid-I_START+1, N_DAT), 1)))"
   ]
  },
  {
   "cell_type": "code",
   "execution_count": null,
   "metadata": {},
   "outputs": [],
   "source": []
  },
  {
   "cell_type": "code",
   "execution_count": null,
   "metadata": {},
   "outputs": [],
   "source": []
  },
  {
   "cell_type": "markdown",
   "metadata": {},
   "source": [
    "# obj3 obs3"
   ]
  },
  {
   "cell_type": "code",
   "execution_count": 11,
   "metadata": {},
   "outputs": [],
   "source": [
    "RTYPE = \"indy7gripper\"\n",
    "FILE_OPTION = \"obj_3c_obs3\"\n",
    "I_START = 0\n",
    "I_END = 20\n",
    "N_DAT = I_END-I_START"
   ]
  },
  {
   "cell_type": "markdown",
   "metadata": {},
   "source": [
    "### test"
   ]
  },
  {
   "cell_type": "code",
   "execution_count": 12,
   "metadata": {
    "scrolled": true
   },
   "outputs": [
    {
     "name": "stdout",
     "output_type": "stream",
     "text": [
      "------- 13.2    13.4    5.9     40.8    -------\n",
      "========== 1 / 20 (eta: 73.3 / 1465.8 s) =========\n",
      "------- 20.2    7.4     13.8    105.1   -------\n",
      "========== 2 / 20 (eta: 219.8 / 2198.0 s) =========\n",
      "------- 113.1   107.8   34.8    24.7    -------\n",
      "========== 3 / 20 (eta: 500.2 / 3335.0 s) =========\n",
      "------- 5.8     109.0   6.0     23.1    -------\n",
      "========== 4 / 20 (eta: 644.1 / 3220.6 s) =========\n",
      "------- 6.6     31.8    5.7     6.5     -------\n",
      "========== 5 / 20 (eta: 694.7 / 2778.8 s) =========\n",
      "------- 15.3    20.1    6.3     9.5     -------\n",
      "========== 6 / 20 (eta: 745.8 / 2485.9 s) =========\n",
      "------- 5.4     12.6    84.1    6.1     -------\n",
      "========== 7 / 20 (eta: 853.9 / 2439.6 s) =========\n",
      "------- 40.2    10.9    5.9     7.0     -------\n",
      "========== 8 / 20 (eta: 917.8 / 2294.6 s) =========\n",
      "------- 15.0    36.5    6.1     29.6    -------\n",
      "========== 9 / 20 (eta: 1005.0 / 2233.3 s) =========\n",
      "------- 65.8    7.1     6.5     23.1    -------\n",
      "========== 10 / 20 (eta: 1107.5 / 2215.0 s) =========\n",
      "------- 15.4    31.8    9.0     37.9    -------\n",
      "========== 11 / 20 (eta: 1201.5 / 2184.6 s) =========\n",
      "------- 34.6    5.3     19.2    11.0    -------\n",
      "========== 12 / 20 (eta: 1271.6 / 2119.4 s) =========\n",
      "------- 12.2    6.0     5.6     112.1   -------\n",
      "========== 13 / 20 (eta: 1407.6 / 2165.5 s) =========\n",
      "------- 30.5    19.0    69.7    14.5    -------\n",
      "========== 14 / 20 (eta: 1541.3 / 2201.8 s) =========\n",
      "------- 10.5    112.7   8.2     27.6    -------\n",
      "========== 15 / 20 (eta: 1700.2 / 2266.9 s) =========\n",
      "------- 5.3     18.2    109.3   40.2    -------\n",
      "========== 16 / 20 (eta: 1873.2 / 2341.5 s) =========\n",
      "------- 108.5   33.5    108.8   6.2     -------\n",
      "========== 17 / 20 (eta: 2130.1 / 2506.0 s) =========\n",
      "------- 7.3     112.2   5.9     16.9    -------\n",
      "========== 18 / 20 (eta: 2272.4 / 2524.9 s) =========\n",
      "------- 9.2     12.8    16.9    17.1    -------\n",
      "========== 19 / 20 (eta: 2328.4 / 2450.9 s) =========\n",
      "------- 6.1     14.2    5.8     7.9     -------\n",
      "========== 20 / 20 (eta: 2362.3 / 2362.3 s) =========\n"
     ]
    }
   ],
   "source": [
    "ROBOT_DATA_ROOT = os.path.join(TEST_DATA_PATH, RTYPE)\n",
    "ROBOT_RESULT_ROOT = os.path.join(TEST_RESULT_PATH, RTYPE)\n",
    "DATASET_PATH = os.path.join(ROBOT_DATA_ROOT, DAT_DIR)\n",
    "RESULTSET_PATH = os.path.join(ROBOT_RESULT_ROOT, DAT_DIR)\n",
    "file_list = sorted(os.listdir(DATASET_PATH))\n",
    "\n",
    "gtimer = GlobalTimer.instance()\n",
    "gtimer.reset(scale=1, timeunit='s')\n",
    "\n",
    "gtimer.tic(\"full_loop\")\n",
    "for fid in range(I_START, I_END):\n",
    "    e_step_list = []\n",
    "    for i_c, cname in enumerate(CNAME_LIST):\n",
    "        gtimer.tic(\"step\")\n",
    "        p = subprocess.Popen(['python', '{}src/scripts/developing/pddlstream/test_saved_scene.py'.format(RNB_PLANNING_DIR),\n",
    "                              '--rtype', RTYPE,\n",
    "                              '--dat_root', DAT_ROOT,\n",
    "                              '--res_root', RES_ROOT,\n",
    "                              '--dat_dir', DAT_DIR,\n",
    "                              '--file_option', FILE_OPTION,\n",
    "                              '--data_idx', str(fid),\n",
    "                              '--cname', cname,\n",
    "                              '--VISUALIZE', str(VISUALIZE),\n",
    "                              '--PLAY_RESULT', str(PLAY_RESULT),\n",
    "                              '--TIMEOUT_MOTION', str(TIMEOUT_MOTION),\n",
    "                              '--MAX_TIME', str(MAX_TIME),\n",
    "                              '--MAX_ITER', str(MAX_ITER), \n",
    "                              '--GRASP_SAMPLE', str(GRASP_SAMPLE),\n",
    "                              '--STABLE_SAMPLE', str(STABLE_SAMPLE),\n",
    "                              '--SEARCH_SAMPLE_RATIO', \n",
    "                              str(SEARCH_SAMPLE_RATIO),\n",
    "                              '--MAX_SKELETONS', \n",
    "                              str(MAX_SKELETONS)])\n",
    "        p.wait()\n",
    "        e_step = np.round(gtimer.toc(\"step\"), 1)\n",
    "        e_step_list.append(e_step)\n",
    "        print(\"------- \" + (\"{:<8}\"*len(e_step_list)).format(*e_step_list) + \"-------\", end=\"\\r\")\n",
    "        \n",
    "    print(\"\")\n",
    "    print(\"========== {} / {} (eta: {} / {} s) =========\".format(\n",
    "        fid+1, N_DAT, *np.round(gtimer.eta(\"full_loop\", fid-I_START+1, N_DAT), 1)))"
   ]
  },
  {
   "cell_type": "code",
   "execution_count": null,
   "metadata": {},
   "outputs": [],
   "source": []
  },
  {
   "cell_type": "markdown",
   "metadata": {},
   "source": [
    "# obj3 obs5"
   ]
  },
  {
   "cell_type": "code",
   "execution_count": 13,
   "metadata": {},
   "outputs": [],
   "source": [
    "RTYPE = \"indy7gripper\"\n",
    "FILE_OPTION = \"obj_3c_obs5\"\n",
    "I_START = 0\n",
    "I_END = 20\n",
    "N_DAT = I_END-I_START"
   ]
  },
  {
   "cell_type": "markdown",
   "metadata": {},
   "source": [
    "### test"
   ]
  },
  {
   "cell_type": "code",
   "execution_count": 14,
   "metadata": {
    "scrolled": true
   },
   "outputs": [
    {
     "name": "stdout",
     "output_type": "stream",
     "text": [
      "------- 117.3   120.2   289.3   105.5   -------\n",
      "========== 1 / 20 (eta: 632.2 / 12644.6 s) =========\n",
      "------- 72.7    113.3   25.9    9.5     -------\n",
      "========== 2 / 20 (eta: 853.7 / 8536.8 s) =========\n",
      "------- 8.7     23.1    6.4     13.4    -------\n",
      "========== 3 / 20 (eta: 905.3 / 6035.6 s) =========\n",
      "------- 6.3     6.3     5.9     30.0    -------\n",
      "========== 4 / 20 (eta: 953.9 / 4769.6 s) =========\n",
      "------- 24.0    6.5     5.4     18.6    -------\n",
      "========== 5 / 20 (eta: 1008.5 / 4033.9 s) =========\n",
      "------- 112.7   17.4    28.2    41.5    -------\n",
      "========== 6 / 20 (eta: 1208.2 / 4027.3 s) =========\n",
      "------- 80.5    20.0    7.4     65.9    -------\n",
      "========== 7 / 20 (eta: 1382.0 / 3948.4 s) =========\n",
      "------- 28.0    24.4    17.2    34.3    -------\n",
      "========== 8 / 20 (eta: 1485.9 / 3714.7 s) =========\n",
      "------- 31.4    20.8    7.0     6.2     -------\n",
      "========== 9 / 20 (eta: 1551.3 / 3447.4 s) =========\n",
      "------- 83.8    6.9     18.7    6.8     -------\n",
      "========== 10 / 20 (eta: 1667.6 / 3335.1 s) =========\n",
      "------- 108.0   12.7    9.8     112.7   -------\n",
      "========== 11 / 20 (eta: 1910.7 / 3474.0 s) =========\n",
      "------- 59.0    84.6    6.5     11.5    -------\n",
      "========== 12 / 20 (eta: 2072.3 / 3453.8 s) =========\n",
      "------- 86.2    37.0    25.0    13.9    -------\n",
      "========== 13 / 20 (eta: 2234.4 / 3437.5 s) =========\n",
      "------- 23.3    6.5     7.5     112.0   -------\n",
      "========== 14 / 20 (eta: 2383.7 / 3405.3 s) =========\n",
      "------- 4.9     6.1     7.2     6.5     -------\n",
      "========== 15 / 20 (eta: 2408.5 / 3211.3 s) =========\n",
      "------- 7.1     5.4     20.8    20.2    -------\n",
      "========== 16 / 20 (eta: 2462.0 / 3077.5 s) =========\n",
      "------- 6.3     5.2     5.7     7.8     -------\n",
      "========== 17 / 20 (eta: 2487.1 / 2925.9 s) =========\n",
      "------- 9.8     7.0     5.8     107.5   -------\n",
      "========== 18 / 20 (eta: 2617.1 / 2907.9 s) =========\n",
      "------- 28.6    6.9     7.0     29.7    -------\n",
      "========== 19 / 20 (eta: 2689.3 / 2830.8 s) =========\n",
      "------- 47.9    110.8   86.1    109.5   -------\n",
      "========== 20 / 20 (eta: 3043.5 / 3043.5 s) =========\n"
     ]
    }
   ],
   "source": [
    "ROBOT_DATA_ROOT = os.path.join(TEST_DATA_PATH, RTYPE)\n",
    "ROBOT_RESULT_ROOT = os.path.join(TEST_RESULT_PATH, RTYPE)\n",
    "DATASET_PATH = os.path.join(ROBOT_DATA_ROOT, DAT_DIR)\n",
    "RESULTSET_PATH = os.path.join(ROBOT_RESULT_ROOT, DAT_DIR)\n",
    "file_list = sorted(os.listdir(DATASET_PATH))\n",
    "\n",
    "gtimer = GlobalTimer.instance()\n",
    "gtimer.reset(scale=1, timeunit='s')\n",
    "\n",
    "gtimer.tic(\"full_loop\")\n",
    "for fid in range(I_START, I_END):\n",
    "    e_step_list = []\n",
    "    for i_c, cname in enumerate(CNAME_LIST):\n",
    "        gtimer.tic(\"step\")\n",
    "        p = subprocess.Popen(['python', '{}src/scripts/developing/pddlstream/test_saved_scene.py'.format(RNB_PLANNING_DIR),\n",
    "                              '--rtype', RTYPE,\n",
    "                              '--dat_root', DAT_ROOT,\n",
    "                              '--res_root', RES_ROOT,\n",
    "                              '--dat_dir', DAT_DIR,\n",
    "                              '--file_option', FILE_OPTION,\n",
    "                              '--data_idx', str(fid),\n",
    "                              '--cname', cname,\n",
    "                              '--VISUALIZE', str(VISUALIZE),\n",
    "                              '--PLAY_RESULT', str(PLAY_RESULT),\n",
    "                              '--TIMEOUT_MOTION', str(TIMEOUT_MOTION),\n",
    "                              '--MAX_TIME', str(MAX_TIME),\n",
    "                              '--MAX_ITER', str(MAX_ITER), \n",
    "                              '--GRASP_SAMPLE', str(GRASP_SAMPLE),\n",
    "                              '--STABLE_SAMPLE', str(STABLE_SAMPLE),\n",
    "                              '--SEARCH_SAMPLE_RATIO', \n",
    "                              str(SEARCH_SAMPLE_RATIO),\n",
    "                              '--MAX_SKELETONS', \n",
    "                              str(MAX_SKELETONS)])\n",
    "        p.wait()\n",
    "        e_step = np.round(gtimer.toc(\"step\"), 1)\n",
    "        e_step_list.append(e_step)\n",
    "        print(\"------- \" + (\"{:<8}\"*len(e_step_list)).format(*e_step_list) + \"-------\", end=\"\\r\")\n",
    "        \n",
    "    print(\"\")\n",
    "    print(\"========== {} / {} (eta: {} / {} s) =========\".format(\n",
    "        fid+1, N_DAT, *np.round(gtimer.eta(\"full_loop\", fid-I_START+1, N_DAT), 1)))"
   ]
  },
  {
   "cell_type": "code",
   "execution_count": null,
   "metadata": {},
   "outputs": [],
   "source": []
  },
  {
   "cell_type": "code",
   "execution_count": null,
   "metadata": {},
   "outputs": [],
   "source": []
  },
  {
   "cell_type": "markdown",
   "metadata": {},
   "source": [
    "# obj3 obs7"
   ]
  },
  {
   "cell_type": "code",
   "execution_count": 15,
   "metadata": {},
   "outputs": [],
   "source": [
    "RTYPE = \"indy7gripper\"\n",
    "FILE_OPTION = \"obj_3c_obs7\"\n",
    "I_START = 0\n",
    "I_END = 20\n",
    "N_DAT = I_END-I_START"
   ]
  },
  {
   "cell_type": "markdown",
   "metadata": {},
   "source": [
    "### test"
   ]
  },
  {
   "cell_type": "code",
   "execution_count": 16,
   "metadata": {
    "scrolled": true
   },
   "outputs": [
    {
     "name": "stdout",
     "output_type": "stream",
     "text": [
      "------- 6.4     10.5    6.4     7.6     -------\n",
      "========== 1 / 20 (eta: 30.9 / 617.1 s) =========\n",
      "------- 32.8    41.2    5.8     33.3    -------\n",
      "========== 2 / 20 (eta: 144.0 / 1439.8 s) =========\n",
      "------- 7.1     102.4   108.0   6.3     -------\n",
      "========== 3 / 20 (eta: 367.8 / 2452.2 s) =========\n",
      "------- 108.8   8.2     109.2   8.5     -------\n",
      "========== 4 / 20 (eta: 602.6 / 3012.8 s) =========\n",
      "------- 25.8    31.0    15.8    26.6    -------\n",
      "========== 5 / 20 (eta: 701.8 / 2807.2 s) =========\n",
      "------- 72.3    20.5    8.8     55.4    -------\n",
      "========== 6 / 20 (eta: 858.8 / 2862.7 s) =========\n",
      "------- 13.4    13.0    26.6    108.2   -------\n",
      "========== 7 / 20 (eta: 1020.1 / 2914.5 s) =========\n",
      "------- 109.0   108.0   10.5    110.6   -------\n",
      "========== 8 / 20 (eta: 1358.2 / 3395.5 s) =========\n",
      "------- 99.8    35.4    7.1     10.4    -------\n",
      "========== 9 / 20 (eta: 1510.9 / 3357.6 s) =========\n",
      "------- 117.9   18.5    5.8     32.3    -------\n",
      "========== 10 / 20 (eta: 1685.4 / 3370.8 s) =========\n",
      "------- 5.2     6.3     5.8     6.1     -------\n",
      "========== 11 / 20 (eta: 1708.8 / 3106.9 s) =========\n",
      "------- 6.2     40.3    109.0   11.1    -------\n",
      "========== 12 / 20 (eta: 1875.4 / 3125.7 s) =========\n",
      "------- 113.7   22.8    104.8   110.3   -------\n",
      "========== 13 / 20 (eta: 2227.0 / 3426.2 s) =========\n",
      "------- 94.1    40.4    6.7     50.7    -------\n",
      "========== 14 / 20 (eta: 2418.9 / 3455.6 s) =========\n",
      "------- 5.1     30.9    6.0     52.2    -------\n",
      "========== 15 / 20 (eta: 2513.1 / 3350.8 s) =========\n",
      "------- 25.0    41.4    19.5    53.9    -------\n",
      "========== 16 / 20 (eta: 2652.9 / 3316.1 s) =========\n",
      "------- 5.8     10.4    6.3     85.9    -------\n",
      "========== 17 / 20 (eta: 2761.2 / 3248.5 s) =========\n",
      "------- 108.4   33.3    33.6    34.2    -------\n",
      "========== 18 / 20 (eta: 2970.8 / 3300.9 s) =========\n",
      "------- 29.7    5.5     7.4     22.9    -------\n",
      "========== 19 / 20 (eta: 3036.3 / 3196.1 s) =========\n",
      "------- 5.7     21.8    6.2     38.7    -------\n",
      "========== 20 / 20 (eta: 3108.7 / 3108.7 s) =========\n"
     ]
    }
   ],
   "source": [
    "ROBOT_DATA_ROOT = os.path.join(TEST_DATA_PATH, RTYPE)\n",
    "ROBOT_RESULT_ROOT = os.path.join(TEST_RESULT_PATH, RTYPE)\n",
    "DATASET_PATH = os.path.join(ROBOT_DATA_ROOT, DAT_DIR)\n",
    "RESULTSET_PATH = os.path.join(ROBOT_RESULT_ROOT, DAT_DIR)\n",
    "file_list = sorted(os.listdir(DATASET_PATH))\n",
    "\n",
    "gtimer = GlobalTimer.instance()\n",
    "gtimer.reset(scale=1, timeunit='s')\n",
    "\n",
    "gtimer.tic(\"full_loop\")\n",
    "for fid in range(I_START, I_END):\n",
    "    e_step_list = []\n",
    "    for i_c, cname in enumerate(CNAME_LIST):\n",
    "        gtimer.tic(\"step\")\n",
    "        p = subprocess.Popen(['python', '{}src/scripts/developing/pddlstream/test_saved_scene.py'.format(RNB_PLANNING_DIR),\n",
    "                              '--rtype', RTYPE,\n",
    "                              '--dat_root', DAT_ROOT,\n",
    "                              '--res_root', RES_ROOT,\n",
    "                              '--dat_dir', DAT_DIR,\n",
    "                              '--file_option', FILE_OPTION,\n",
    "                              '--data_idx', str(fid),\n",
    "                              '--cname', cname,\n",
    "                              '--VISUALIZE', str(VISUALIZE),\n",
    "                              '--PLAY_RESULT', str(PLAY_RESULT),\n",
    "                              '--TIMEOUT_MOTION', str(TIMEOUT_MOTION),\n",
    "                              '--MAX_TIME', str(MAX_TIME),\n",
    "                              '--MAX_ITER', str(MAX_ITER), \n",
    "                              '--GRASP_SAMPLE', str(GRASP_SAMPLE),\n",
    "                              '--STABLE_SAMPLE', str(STABLE_SAMPLE),\n",
    "                              '--SEARCH_SAMPLE_RATIO', \n",
    "                              str(SEARCH_SAMPLE_RATIO),\n",
    "                              '--MAX_SKELETONS', \n",
    "                              str(MAX_SKELETONS)])\n",
    "        p.wait()\n",
    "        e_step = np.round(gtimer.toc(\"step\"), 1)\n",
    "        e_step_list.append(e_step)\n",
    "        print(\"------- \" + (\"{:<8}\"*len(e_step_list)).format(*e_step_list) + \"-------\", end=\"\\r\")\n",
    "        \n",
    "    print(\"\")\n",
    "    print(\"========== {} / {} (eta: {} / {} s) =========\".format(\n",
    "        fid+1, N_DAT, *np.round(gtimer.eta(\"full_loop\", fid-I_START+1, N_DAT), 1)))"
   ]
  },
  {
   "cell_type": "code",
   "execution_count": null,
   "metadata": {},
   "outputs": [],
   "source": []
  }
 ],
 "metadata": {
  "kernelspec": {
   "display_name": "Python 2",
   "language": "python",
   "name": "python2"
  },
  "language_info": {
   "codemirror_mode": {
    "name": "ipython",
    "version": 2
   },
   "file_extension": ".py",
   "mimetype": "text/x-python",
   "name": "python",
   "nbconvert_exporter": "python",
   "pygments_lexer": "ipython2",
   "version": "2.7.17"
  }
 },
 "nbformat": 4,
 "nbformat_minor": 2
}
