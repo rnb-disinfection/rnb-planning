{
 "cells": [
  {
   "cell_type": "code",
   "execution_count": 1,
   "metadata": {},
   "outputs": [],
   "source": [
    "from __future__ import print_function\n",
    "import os\n",
    "os.chdir(os.path.join(os.environ[\"RNB_PLANNING_DIR\"], 'src'))"
   ]
  },
  {
   "cell_type": "code",
   "execution_count": 2,
   "metadata": {},
   "outputs": [],
   "source": [
    "from pkg.utils.test_scripts import *\n",
    "from pkg.planning.pddlstream.plan_rnb import *"
   ]
  },
  {
   "cell_type": "code",
   "execution_count": 3,
   "metadata": {},
   "outputs": [],
   "source": [
    "rtype = \"indy7gripper\"\n",
    "dat_root = \"stowing-deep\"\n",
    "res_root = \"stowing-deep-result\"\n",
    "dat_dir = \"20210826-234456\"\n",
    "file_option = \"obj_3_hard\"\n",
    "data_idx = 0\n",
    "cname = \"ToolReach\"\n",
    "\n",
    "TIMEOUT_MOTION = 5\n",
    "MAX_TIME = 100\n",
    "MAX_ITER = 100\n",
    "MAX_SKELETONS = 10\n",
    "\n",
    "GRASP_SAMPLE = 100\n",
    "STABLE_SAMPLE = 100\n",
    "SEARCH_SAMPLE_RATIO = 10\n",
    "\n",
    "VISUALIZE = True\n",
    "SHOW_STATE = False\n",
    "PLAY_RESULT = False\n",
    "USE_PYBULLET_GUI = False\n",
    "\n",
    "\n",
    "\n",
    "CLEARANCE = 1e-3\n",
    "TOOL_NAME=\"grip0\"\n",
    "ROBOT_TYPE = {e.name: e for e in RobotType}[rtype]"
   ]
  },
  {
   "cell_type": "code",
   "execution_count": null,
   "metadata": {},
   "outputs": [],
   "source": []
  },
  {
   "cell_type": "code",
   "execution_count": 12,
   "metadata": {},
   "outputs": [
    {
     "name": "stdout",
     "output_type": "stream",
     "text": [
      "--------------------------------------------------\n",
      "DATASET_PATH: /home/rnb/Projects/rnb-planning/data/stowing-deep/indy7gripper/20210826-234456\n",
      "RESULTSET_PATH: /home/rnb/Projects/rnb-planning/data/stowing-deep-result/indy7gripper/20210826-234456\n",
      "--------------------------------------------------\n"
     ]
    }
   ],
   "source": [
    "DATASET_PATH = create_data_dirs(dat_root, rtype, dat_dir)\n",
    "RESULTSET_PATH = create_data_dirs(res_root, rtype, dat_dir)\n",
    "print(\"-\"*50)\n",
    "print(\"DATASET_PATH: {}\".format(DATASET_PATH))\n",
    "print(\"RESULTSET_PATH: {}\".format(RESULTSET_PATH))\n",
    "print(\"-\"*50)"
   ]
  },
  {
   "cell_type": "code",
   "execution_count": 13,
   "metadata": {},
   "outputs": [
    {
     "name": "stdout",
     "output_type": "stream",
     "text": [
      "connection command:\n",
      "indy0: False\n",
      "Please create a subscriber to the marker\n",
      "publication OK\n",
      "published: [0, 0, 0, 0, 0, 0]\n",
      "Please create a subscriber to the marker\n"
     ]
    }
   ],
   "source": [
    "ROBOT_NAME, TOOL_LINK, TOOL_XYZ, HOME_POSE, GRIP_DEPTH = get_single_robot_params(ROBOT_TYPE)\n",
    "s_builder, pscene = prepare_single_robot_scene(ROBOT_TYPE, ROBOT_NAME, TOOL_LINK, TOOL_XYZ, VISUALIZE=VISUALIZE)\n",
    "crob, gscene = pscene.combined_robot, pscene.gscene\n",
    "\n",
    "fname = \"data_%s_%02d.pkl\" % (file_option, data_idx)\n",
    "file_gtems = os.path.join(DATASET_PATH, fname)\n",
    "initial_state = load_saved_scene(pscene, file_gtems, VISUALIZE=VISUALIZE)\n",
    "\n",
    "mplan = MoveitPlanner(pscene)\n",
    "checkers = get_checkers_by_case_name(cname, pscene)\n",
    "\n",
    "mplan.motion_filters = checkers"
   ]
  },
  {
   "cell_type": "code",
   "execution_count": null,
   "metadata": {},
   "outputs": [],
   "source": []
  },
  {
   "cell_type": "code",
   "execution_count": null,
   "metadata": {},
   "outputs": [],
   "source": [
    "obj_pscene = pscene.subject_dict[pscene.subject_name_list[0]]\n",
    "obj_pscene.geometry.color = (0.8, 0.2, 0.2, 1)\n",
    "goal_pairs=[(obj_pscene.oname, 'gp')]\n",
    "\n",
    "gtimer = GlobalTimer.instance()\n",
    "gtimer.reset()\n",
    "\n",
    "res, plan, log_dict = solve_in_pddlstream(pscene, mplan, ROBOT_NAME, TOOL_NAME, HOME_POSE, goal_pairs, \n",
    "                        TIMEOUT_MOTION, MAX_TIME, MAX_ITER, MAX_SKELETONS, \n",
    "                        GRASP_SAMPLE, STABLE_SAMPLE, SHOW_STATE, SEARCH_SAMPLE_RATIO, \n",
    "                        use_pybullet_gui=False)\n",
    "\n",
    "save_pickle(os.path.join(RESULTSET_PATH, \"result_%s_%02d_%s.pkl\" % (file_option, data_idx, cname)), log_dict)\n",
    "\n",
    "print(\"------- Result {} ({}): {} s -------\".format(fname, cname, log_dict[\"plan_time\"]))\n",
    "print(\"==========================================================\")\n",
    "print(\"==========================================================\")\n",
    "print(gtimer)\n",
    "print(\"==========================================================\")\n",
    "print(\"==========================================================\")\n"
   ]
  },
  {
   "cell_type": "code",
   "execution_count": 15,
   "metadata": {},
   "outputs": [],
   "source": [
    "if VISUALIZE and PLAY_RESULT and res:\n",
    "    play_pddl_plan(pscene, pscene.actor_dict[\"grip0\"], initial_state=initial_state,\n",
    "                   body_names=body_names, plan=plan, SHOW_PERIOD=0.01)\n",
    "\n",
    "s_builder.xcustom.clear()"
   ]
  },
  {
   "cell_type": "code",
   "execution_count": null,
   "metadata": {},
   "outputs": [],
   "source": []
  }
 ],
 "metadata": {
  "kernelspec": {
   "display_name": "Python 2",
   "language": "python",
   "name": "python2"
  },
  "language_info": {
   "codemirror_mode": {
    "name": "ipython",
    "version": 2
   },
   "file_extension": ".py",
   "mimetype": "text/x-python",
   "name": "python",
   "nbconvert_exporter": "python",
   "pygments_lexer": "ipython2",
   "version": "2.7.17"
  }
 },
 "nbformat": 4,
 "nbformat_minor": 2
}
