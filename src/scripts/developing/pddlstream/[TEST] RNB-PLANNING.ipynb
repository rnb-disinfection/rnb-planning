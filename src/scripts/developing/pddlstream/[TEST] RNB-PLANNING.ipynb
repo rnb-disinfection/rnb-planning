{
 "cells": [
  {
   "cell_type": "markdown",
   "metadata": {},
   "source": [
    "## set running directory to project source"
   ]
  },
  {
   "cell_type": "code",
   "execution_count": 1,
   "metadata": {},
   "outputs": [],
   "source": [
    "import os\n",
    "import numpy as np\n",
    "import time\n",
    "os.chdir(os.path.join(os.environ[\"RNB_PLANNING_DIR\"], 'src'))\n",
    "import matplotlib.pyplot as plt"
   ]
  },
  {
   "cell_type": "code",
   "execution_count": null,
   "metadata": {},
   "outputs": [],
   "source": []
  },
  {
   "cell_type": "markdown",
   "metadata": {},
   "source": [
    "## 4.1 PlanningScene"
   ]
  },
  {
   "cell_type": "markdown",
   "metadata": {},
   "source": [
    "##### initialize CombinedRobot and GeometryScene"
   ]
  },
  {
   "cell_type": "code",
   "execution_count": 2,
   "metadata": {},
   "outputs": [
    {
     "name": "stdout",
     "output_type": "stream",
     "text": [
      "connection command:\n",
      "indy0: False\n",
      "Unable to register with master node [http://localhost:11311]: master may not be running yet. Will keep trying.\n"
     ]
    },
    {
     "name": "stderr",
     "output_type": "stream",
     "text": [
      "Unknown tag \"hardwareInterface\" in /robot[@name='custom_robots']/transmission[@name='indy0_tran0']/actuator[@name='indy0_motor0']\n",
      "Unknown tag \"hardwareInterface\" in /robot[@name='custom_robots']/transmission[@name='indy0_tran1']/actuator[@name='indy0_motor1']\n",
      "Unknown tag \"hardwareInterface\" in /robot[@name='custom_robots']/transmission[@name='indy0_tran2']/actuator[@name='indy0_motor2']\n",
      "Unknown tag \"hardwareInterface\" in /robot[@name='custom_robots']/transmission[@name='indy0_tran3']/actuator[@name='indy0_motor3']\n",
      "Unknown tag \"hardwareInterface\" in /robot[@name='custom_robots']/transmission[@name='indy0_tran4']/actuator[@name='indy0_motor4']\n",
      "Unknown tag \"hardwareInterface\" in /robot[@name='custom_robots']/transmission[@name='indy0_tran5']/actuator[@name='indy0_motor5']\n"
     ]
    },
    {
     "name": "stdout",
     "output_type": "stream",
     "text": [
      "Please create a subscriber to the marker\n",
      "publication OK\n",
      "published: [0, 0, 0, 0, 0, 0]\n",
      "Please create a subscriber to the marker\n"
     ]
    }
   ],
   "source": [
    "from pkg.controller.combined_robot import *\n",
    "from pkg.project_config import *\n",
    "from pkg.geometry.builder.scene_builder import SceneBuilder\n",
    "\n",
    "s_builder = SceneBuilder(None)   # create scene builder without detector for virtual scene\n",
    "crob = CombinedRobot(robots_on_scene=[\n",
    "    RobotConfig(0, RobotType.indy7gripper, ((0,0,0.01), (0,0,0)), None)]\n",
    "                     , connection_list=[False])\n",
    "gscene = s_builder.create_gscene(crob)\n",
    "gtems = s_builder.add_robot_geometries(color=(0,1,0,0.5), display=True, collision=True)\n",
    "gscene.show_pose(crob.home_pose)"
   ]
  },
  {
   "cell_type": "markdown",
   "metadata": {},
   "source": [
    "##### add geometries"
   ]
  },
  {
   "cell_type": "code",
   "execution_count": 3,
   "metadata": {},
   "outputs": [],
   "source": [
    "from pkg.geometry.geometry import *\n",
    "\n",
    "# add environments (fixed=True for non-movable geometries)\n",
    "wall = gscene.create_safe(GEOTYPE.BOX, \"wall\", \"base_link\", (3,3,0.01), (-0.2,0,0), \n",
    "                           rpy=(0,np.pi/2,0), color=(0.8,0.8,0.8,0.5), display=True, fixed=True, collision=True)\n",
    "floor = gscene.create_safe(GEOTYPE.BOX, \"floor\", \"base_link\", (3,3,0.01), (0,0,0), \n",
    "                           rpy=(0,0,0), color=(0.8,0.8,0.8,0.5), display=True, fixed=True, collision=True)\n",
    "wp1 = gscene.create_safe(GEOTYPE.BOX, \"wp1\", \"base_link\", (0.1,0.1,0.01), (0.6,-0.3,0),rpy=(0,0,0), \n",
    "                         color=(0.8,0.2,0.2,1), display=True, fixed=True, collision=True, parent=\"floor\")\n",
    "wp2 = gscene.create_safe(GEOTYPE.BOX, \"wp2\", \"base_link\", (0.1,0.1,0.01), (0.2,-0.3,0), rpy=(0,0,0), \n",
    "                         color=(0.8,0.2,0.2,1), display=True, fixed=True, collision=True, parent=\"floor\")\n",
    "goal = gscene.create_safe(GEOTYPE.BOX, \"goal\", \"base_link\", (0.1,0.1,0.01), (0.3,-0.4,0), \n",
    "                          rpy=(0,0,0), color=(0.2,0.2,0.8,1), display=True, fixed=True, collision=True)\n",
    " \n",
    "# add movable (fixed=False for movable geometries)\n",
    "box1 = gscene.create_safe(GEOTYPE.BOX, \"box1\", \"base_link\", (0.05,0.05,0.05), (0.3,0.4,0.031), \n",
    "                          rpy=(0,0,0), color=(0.8,0.2,0.2,1), display=True, fixed=False, collision=True)\n",
    "\n",
    "obstacle = gscene.create_safe(GEOTYPE.BOX, \"obstacle\", \"base_link\", (0.05,0.05,0.05), (0.5,0.4,0.031), \n",
    "                          rpy=(0,0,0), color=(0.8,0.8,0.2,1), display=True, fixed=False, collision=True)"
   ]
  },
  {
   "cell_type": "code",
   "execution_count": null,
   "metadata": {},
   "outputs": [],
   "source": []
  },
  {
   "cell_type": "markdown",
   "metadata": {},
   "source": [
    "##### create PlanningScene"
   ]
  },
  {
   "cell_type": "code",
   "execution_count": 4,
   "metadata": {},
   "outputs": [],
   "source": [
    "from pkg.planning.scene import PlanningScene\n",
    "pscene = PlanningScene(gscene, combined_robot=crob)"
   ]
  },
  {
   "cell_type": "code",
   "execution_count": null,
   "metadata": {},
   "outputs": [],
   "source": []
  },
  {
   "cell_type": "markdown",
   "metadata": {},
   "source": [
    "##### create_binder\n",
    "- Binders (or Actors) are binding points where objects can be attached (or binded)\n",
    "- Examples are \n",
    "  - PlacePlane: plane for object placement\n",
    "  - Gripper2Tool: 2-finger gripper tool for grasp objects\n",
    "  - SweepTool: action point to pass waypoints for sweep task"
   ]
  },
  {
   "cell_type": "code",
   "execution_count": 5,
   "metadata": {},
   "outputs": [],
   "source": [
    "from pkg.planning.constraint.constraint_actor import PlacePlane, Gripper2Tool, SweepFramer"
   ]
  },
  {
   "cell_type": "code",
   "execution_count": 6,
   "metadata": {},
   "outputs": [
    {
     "data": {
      "text/plain": [
       "<pkg.planning.constraint.constraint_actor.PlacePlane at 0x7fe192354b90>"
      ]
     },
     "execution_count": 6,
     "metadata": {},
     "output_type": "execute_result"
    }
   ],
   "source": [
    "# create PlacePlane on geometry \"floor\" and \"goal\"\n",
    "# when point is not set, the entire upper surface of the geometry becomes valid binding area.\n",
    "# when point is set, the specific point becomes the only valid binding point.\n",
    "pscene.create_binder(bname=\"floor\", gname=\"floor\", _type=PlacePlane)\n",
    "pscene.create_binder(bname=\"goal\", gname=\"goal\", _type=PlacePlane, point=(0,0,0.005))"
   ]
  },
  {
   "cell_type": "code",
   "execution_count": 7,
   "metadata": {},
   "outputs": [
    {
     "data": {
      "text/plain": [
       "<pkg.planning.constraint.constraint_actor.Gripper2Tool at 0x7fe19235a910>"
      ]
     },
     "execution_count": 7,
     "metadata": {},
     "output_type": "execute_result"
    }
   ],
   "source": [
    "# add collision boundary for gripper base\n",
    "# - set link_name=\"indy0_tcp\" to attach the geometry to end-effector link\n",
    "# - it can be labeled as fixed=True, as it is \"fixed\" on the indy0_tcp link\n",
    "gripper =  gscene.create_safe(GEOTYPE.SPHERE, \"grip0\", link_name=\"indy0_tcp\", \n",
    "                                dims=(0.01,0.01,0.01), center=(0,0,0.14), rpy=(-np.pi/2,0,0), \n",
    "                                color=(0.8,0.2,0.2,0.5), display=False, fixed=True, collision=False)\n",
    "\n",
    "# create Gripper2Tool binder\n",
    "# Gripper2Tool is a 2-finger gripper, which can rotate along z-direction.\n",
    "# To align the z-direction with the 2 fingers, rotate by 90 degree along roll axis.\n",
    "# The gripping point is (0,0,0.11) in local coordinate of \"gripper\" geometry\n",
    "pscene.create_binder(bname=\"grip0\", gname=\"grip0\", _type=Gripper2Tool, point=(0,0,0), rpy=(0,0,0))"
   ]
  },
  {
   "cell_type": "code",
   "execution_count": 8,
   "metadata": {},
   "outputs": [
    {
     "data": {
      "text/plain": [
       "<pkg.planning.constraint.constraint_actor.SweepFramer at 0x7fe19235ab90>"
      ]
     },
     "execution_count": 8,
     "metadata": {},
     "output_type": "execute_result"
    }
   ],
   "source": [
    "# Add virtual (no-collision) sweep face. the point is 0.2 m away from the \"indy0_tcp\" link\n",
    "# To match the z-direction with the target surface, the geometry is rotated 180 degrees in pitch-axis.\n",
    "sweep_face =  gscene.create_safe(GEOTYPE.BOX, \"sweep_face\", link_name=\"indy0_tcp\", \n",
    "                                dims=(0.05,0.05,0.001), center=(0,0,0.2), rpy=(0,np.pi,0), \n",
    "                                color=(0.2,0.2,0.8,0.1), display=False, fixed=True, collision=False)\n",
    "                                 \n",
    "# create SweepTool binder\n",
    "pscene.create_binder(bname=\"sweep_face\", gname=\"sweep_face\", _type=SweepFramer, point=(0,0,0), rpy=(0,0,0))"
   ]
  },
  {
   "cell_type": "code",
   "execution_count": null,
   "metadata": {},
   "outputs": [],
   "source": []
  },
  {
   "cell_type": "markdown",
   "metadata": {},
   "source": [
    "##### create_subject\n",
    "* Subject describes the tasks in the planning scene.\n",
    "* There are 2 categories in subject:\n",
    "  1. Object: The object has grip points and placement points for pick&place task\n",
    "  2. Task: The task is can be any non-physical task. Check SweepLineTask for example\n",
    "* The subjects can be composed of multiple action points. Examples are:\n",
    "  1. Grasp2Point: grasping point for 2-finger gripper. \n",
    "  2. PlacePoint: The point to place object.\n",
    "  3. SweepPoint: A waypoint for SweepLineTask.\n",
    "  * The above 3 action points inherit DirectePoint, for which the orientation is free along z-axis. \n",
    "  * If \"point\" parameter is not set, the entire upper surface is becomes valid action area."
   ]
  },
  {
   "cell_type": "code",
   "execution_count": 9,
   "metadata": {},
   "outputs": [],
   "source": [
    "from pkg.planning.constraint.constraint_subject import Grasp2Point, PlacePoint, SweepFrame\n",
    "from pkg.planning.constraint.constraint_subject import CustomObject, SweepLineTask"
   ]
  },
  {
   "cell_type": "code",
   "execution_count": 10,
   "metadata": {},
   "outputs": [],
   "source": [
    "## create box object with grasping points along positive & negative y-direction and placement point in the bottom face\n",
    "box_obj = pscene.create_subject(oname=\"box1\", gname=\"box1\", _type=CustomObject, \n",
    "                             action_points_dict = {\n",
    "                                 \"handle1\": Grasp2Point(\"handle1\", box1, [0,0,0], [-np.pi/2,0,0]),\n",
    "                                 \"handle2\": Grasp2Point(\"handle2\", box1, [0,0,0], [np.pi/2,0,0]),\n",
    "                                 \"bottom\": PlacePoint(\"bottom\", box1, [0,0,-0.026], [0,0,0])})"
   ]
  },
  {
   "cell_type": "code",
   "execution_count": 11,
   "metadata": {},
   "outputs": [],
   "source": [
    "## create box object with grasping points along positive & negative y-direction and placement point in the bottom face\n",
    "obs_obj = pscene.create_subject(oname=\"obstacle\", gname=\"obstacle\", _type=CustomObject, \n",
    "                             action_points_dict = {\n",
    "                                 \"handle1\": Grasp2Point(\"handle1\", obstacle, [0,0,0], [-np.pi/2,0,0]),\n",
    "                                 \"handle2\": Grasp2Point(\"handle2\", obstacle, [0,0,0], [np.pi/2,0,0]),\n",
    "                                 \"bottom\": PlacePoint(\"bottom\", obstacle, [0,0,-0.026], [0,0,0])})"
   ]
  },
  {
   "cell_type": "code",
   "execution_count": 12,
   "metadata": {},
   "outputs": [],
   "source": [
    "## create sweep task with 2 waypoints\n",
    "sweep = pscene.create_subject(oname=\"sweep\", gname=\"floor\", _type=SweepLineTask, \n",
    "                             action_points_dict = {\"wp1\": SweepFrame(\"wp1\", wp1, [0,0,0.005], [0,0,0]),\n",
    "                                                   \"wp2\": SweepFrame(\"wp2\", wp2, [0,0,0.005], [0,0,0])}\n",
    "                             )"
   ]
  },
  {
   "cell_type": "code",
   "execution_count": null,
   "metadata": {},
   "outputs": [],
   "source": []
  },
  {
   "cell_type": "markdown",
   "metadata": {},
   "source": [
    "## Pipeline"
   ]
  },
  {
   "cell_type": "code",
   "execution_count": 13,
   "metadata": {},
   "outputs": [],
   "source": [
    "from pkg.planning.pipeline import PlanningPipeline\n",
    "ppline = PlanningPipeline(pscene)"
   ]
  },
  {
   "cell_type": "code",
   "execution_count": 14,
   "metadata": {},
   "outputs": [
    {
     "name": "stdout",
     "output_type": "stream",
     "text": [
      "Dash is running on http://0.0.0.0:8050/\n",
      "\n",
      " * Serving Flask app \"pkg.ui.dash_launcher\" (lazy loading)\n",
      " * Environment: production\n"
     ]
    }
   ],
   "source": [
    "from pkg.ui.ui_broker import *\n",
    "\n",
    "# start UI\n",
    "ui_broker = UIBroker.instance()\n",
    "ui_broker.initialize(ppline, s_builder)\n",
    "ui_broker.start_server()\n",
    "\n",
    "ui_broker.set_tables()"
   ]
  },
  {
   "cell_type": "code",
   "execution_count": null,
   "metadata": {},
   "outputs": [],
   "source": []
  },
  {
   "cell_type": "markdown",
   "metadata": {},
   "source": [
    "##### initialize_state\n",
    "* initialize_state(robot_pose) updates robot pose and gets corresponding binding status of current scene.\n",
    "* state.node of ('floor', 0) means the first subject (object) is placed on the floor and the second subject (sweep) has passed 0 waypoints"
   ]
  },
  {
   "cell_type": "code",
   "execution_count": 15,
   "metadata": {
    "scrolled": true
   },
   "outputs": [
    {
     "name": "stdout",
     "output_type": "stream",
     "text": [
      "   WARNING: This is a development server. Do not use it in a production deployment.\n",
      "   Use a production WSGI server instead.\n",
      " * Debug mode: off\n",
      "('floor', 'floor', 0)\n"
     ]
    }
   ],
   "source": [
    "initial_state = pscene.initialize_state(crob.home_pose)\n",
    "print(initial_state.node)"
   ]
  },
  {
   "cell_type": "code",
   "execution_count": null,
   "metadata": {},
   "outputs": [],
   "source": []
  },
  {
   "cell_type": "code",
   "execution_count": null,
   "metadata": {},
   "outputs": [],
   "source": []
  },
  {
   "cell_type": "markdown",
   "metadata": {},
   "source": [
    "## Test pybullet"
   ]
  },
  {
   "cell_type": "code",
   "execution_count": 16,
   "metadata": {},
   "outputs": [],
   "source": [
    "os.chdir(os.path.join(os.environ[\"RNB_PLANNING_DIR\"], 'src/scripts/developing/pddlstream'))"
   ]
  },
  {
   "cell_type": "code",
   "execution_count": 17,
   "metadata": {},
   "outputs": [],
   "source": [
    "from convert_pscene import *\n",
    "from plan_rnb import *\n",
    "from pkg.planning.motion.moveit.moveit_planner import MoveitPlanner\n",
    "mplan = MoveitPlanner(pscene)"
   ]
  },
  {
   "cell_type": "code",
   "execution_count": null,
   "metadata": {},
   "outputs": [],
   "source": []
  },
  {
   "cell_type": "markdown",
   "metadata": {},
   "source": [
    "#### load pybullet, convert scene"
   ]
  },
  {
   "cell_type": "code",
   "execution_count": 18,
   "metadata": {
    "scrolled": true
   },
   "outputs": [
    {
     "name": "stdout",
     "output_type": "stream",
     "text": [
      "[Pybullet] Load urdf from /home/rnb/Projects/rnb-planning/src/robots/custom_robots_pybullet.urdf\n",
      "[WARING] non-object subject not implemented for now\n",
      "('Objects:', {1L: 'goal', 2L: 'floor', 3L: 'wall', 4L: 'obstacle', 5L: 'box1'})\n"
     ]
    }
   ],
   "source": [
    "connect_notebook(use_gui=True)\n",
    "urdf_pybullet_path = copy_meshes(gscene)\n",
    "robot_body, body_names, movable_bodies = pscene_to_pybullet(pscene, urdf_pybullet_path, tool_name=\"grip0\", name_exclude_list=[\"indy0\"])\n",
    "print('Objects:', body_names)\n",
    "saver = WorldSaver()"
   ]
  },
  {
   "cell_type": "code",
   "execution_count": null,
   "metadata": {},
   "outputs": [],
   "source": []
  },
  {
   "cell_type": "code",
   "execution_count": 19,
   "metadata": {},
   "outputs": [
    {
     "name": "stdout",
     "output_type": "stream",
     "text": [
      "Robot: 0\n",
      "Movable: [4L, 5L]\n",
      "Fixed: [1, 2, 3]\n",
      "body 4 - surface 1\n",
      "body 4 - surface 2\n",
      "body 4 - surface 3\n",
      "body 5 - surface 1\n",
      "body 5 - surface 2\n",
      "body 5 - surface 3\n",
      "('Init:', [('CanMove',), ('Conf', q0), ('AtConf', q0), ('HandEmpty',), ('Graspable', 4L), ('Pose', 4L, p0), ('AtPose', 4L, p0), ('Stackable', 4L, 1), ('Stackable', 4L, 2), ('Supported', 4L, p0, 2), ('Stackable', 4L, 3), ('Graspable', 5L), ('Pose', 5L, p1), ('AtPose', 5L, p1), ('Stackable', 5L, 1), ('Stackable', 5L, 2), ('Supported', 5L, p1, 2), ('Stackable', 5L, 3)])\n",
      "('Goal:', ('and', ('AtConf', q0), ('On', 4L, 1)))\n",
      "('Streams:', '{TrajCollision, inverse-kinematics, plan-free-motion, plan-holding-motion, sample-grasp, sample-pose, test-cfree-approach-pose, test-cfree-pose-pose, test-cfree-traj-pose}')\n"
     ]
    }
   ],
   "source": [
    "problem = pddlstream_from_problem_rnb(robot_body, movable=movable_bodies, tool_name=\"grip0\", tool_link_name=\"indy0_tcp\", mplan=mplan)\n",
    "_, _, _, stream_map, init, goal = problem\n",
    "print('Init:', init)\n",
    "print('Goal:', goal)\n",
    "print('Streams:', str_from_object(set(stream_map)))"
   ]
  },
  {
   "cell_type": "code",
   "execution_count": null,
   "metadata": {},
   "outputs": [],
   "source": []
  },
  {
   "cell_type": "code",
   "execution_count": 20,
   "metadata": {
    "scrolled": true
   },
   "outputs": [
    {
     "name": "stdout",
     "output_type": "stream",
     "text": [
      "Warning! All actions have no cost. Recommend setting unit_costs=True\n",
      "Warning! Undeclared predicates: ['conf', 'graspable']\n",
      "Setting negate=True for stream [test-cfree-traj-pose]\n",
      "Setting negate=True for stream [test-cfree-pose-pose]\n",
      "Setting negate=True for stream [test-cfree-approach-pose]\n",
      "Streams: [sample-pose:('?o', '?r')->('?p',), sample-grasp:('?o',)->('?g',), inverse-kinematics:('?o', '?p', '?g')->('?q', '?t'), plan-free-motion:('?q1', '?q2')->('?t',), plan-holding-motion:('?q1', '?q2', '?o', '?g')->('?t',)]\n",
      "Functions: []\n",
      "Negated: [test-cfree-pose-pose:('?o1', '?p1', '?o2', '?p2')->(), test-cfree-approach-pose:('?o1', '?p1', '?g1', '?o2', '?p2')->(), test-cfree-traj-pose:('?t', '?o2', '?p2')->()]\n",
      "Optimizers: []\n",
      "\n",
      "Iteration: 1 | Complexity: 0 | Skeletons: 0 | Skeleton Queue: 0 | Disabled: 0 | Evaluations: 18 | Eager Calls: 0 | Cost: inf | Search Time: 0.000 | Sample Time: 0.000 | Total Time: 0.000\n",
      "Attempt: 1 | Results: 1 | Depth: 0 | Success: False | Time: 0.009\n",
      "Stream plan (inf, 0, inf): None\n",
      "Action plan (inf, inf): None\n",
      "No plan: increasing complexity from 0 to 1\n",
      "\n",
      "Iteration: 2 | Complexity: 1 | Skeletons: 0 | Skeleton Queue: 0 | Disabled: 0 | Evaluations: 18 | Eager Calls: 0 | Cost: inf | Search Time: 0.009 | Sample Time: 0.000 | Total Time: 0.009\n",
      "Attempt: 1 | Results: 11 | Depth: 0 | Success: False | Time: 0.011\n",
      "Stream plan (inf, 0, inf): None\n",
      "Action plan (inf, inf): None\n",
      "No plan: increasing complexity from 1 to 2\n",
      "\n",
      "Iteration: 3 | Complexity: 2 | Skeletons: 0 | Skeleton Queue: 0 | Disabled: 0 | Evaluations: 18 | Eager Calls: 0 | Cost: inf | Search Time: 0.020 | Sample Time: 0.000 | Total Time: 0.020\n",
      "Attempt: 1 | Results: 24 | Depth: 1 | Success: False | Time: 0.078\n",
      "Attempt: 2 | Results: 61 | Depth: 0 | Success: True | Time: 0.250\n",
      "Stream plan (13, 13, 0.001): [sample-grasp:(4)->(#g0), inverse-kinematics:(4, p0, #g0)->(#q0, #t14), test-cfree-traj-pose:(#t14, 5, p1)->(), sample-pose:(4, 1)->(#p0), inverse-kinematics:(4, #p0, #g0)->(#q1, #t15), test-cfree-traj-pose:(#t15, 5, p1)->(), test-cfree-traj-pose:(#t14, 4, p0)->(), test-cfree-pose-pose:(4, #p0, 5, p1)->(), test-cfree-approach-pose:(4, p0, #g0, 5, p1)->(), test-cfree-approach-pose:(4, #p0, #g0, 5, p1)->(), plan-free-motion:(#q1, q0)->(#t56), plan-free-motion:(q0, #q0)->(#t58), plan-holding-motion:(#q0, #q1, 4, #g0)->(#t57)]\n",
      "Action plan (5, 0.000): [move_free(q0, #q0, #t58), pick(4, p0, #g0, #q0, #t14), move_holding(#q0, #q1, 4, #g0, #t57), place(4, #p0, #g0, #q1, #t15), move_free(#q1, q0, #t56)]\n",
      "iter=0, outs=1) sample-grasp:(4)->[(g0)]\n",
      "iter=inf, outs=0) inverse-kinematics:(4, p0, g0)->[]\n",
      "Sampling for up to -0.006 seconds\n",
      "Sampling while complexity <= 2\n",
      "\n",
      "Iteration: 4 | Complexity: 2 | Skeletons: 1 | Skeleton Queue: 1 | Disabled: 0 | Evaluations: 19 | Eager Calls: 0 | Cost: inf | Search Time: 0.277 | Sample Time: 0.281 | Total Time: 0.558\n",
      "Attempt: 1 | Results: 23 | Depth: 0 | Success: False | Time: 0.017\n",
      "Stream plan (inf, 0, inf): None\n",
      "Action plan (inf, inf): None\n",
      "No plan: increasing complexity from 2 to 3\n",
      "Sampling for up to 0.014 seconds\n",
      "iter=1, outs=1) sample-grasp:(4)->[(g1)]\n",
      "iter=inf, outs=0) inverse-kinematics:(4, p0, g1)->[]\n",
      "Sampling while complexity <= 3\n",
      "\n",
      "Iteration: 5 | Complexity: 3 | Skeletons: 1 | Skeleton Queue: 1 | Disabled: 0 | Evaluations: 20 | Eager Calls: 0 | Cost: inf | Search Time: 0.295 | Sample Time: 0.561 | Total Time: 0.857\n",
      "Attempt: 1 | Results: 29 | Depth: 0 | Success: False | Time: 0.033\n",
      "Stream plan (inf, 0, inf): None\n",
      "Action plan (inf, inf): None\n",
      "No plan: increasing complexity from 3 to 4\n",
      "Sampling for up to -0.233 seconds\n",
      "Sampling while complexity <= 4\n",
      "iter=2, outs=1) sample-grasp:(4)->[(g2)]\n",
      "iter=inf, outs=0) inverse-kinematics:(4, p0, g2)->[]\n",
      "\n",
      "Iteration: 6 | Complexity: 4 | Skeletons: 1 | Skeleton Queue: 1 | Disabled: 0 | Evaluations: 21 | Eager Calls: 0 | Cost: inf | Search Time: 0.330 | Sample Time: 0.848 | Total Time: 1.178\n",
      "Attempt: 1 | Results: 35 | Depth: 0 | Success: False | Time: 0.022\n",
      "Stream plan (inf, 0, inf): None\n",
      "Action plan (inf, inf): None\n",
      "No plan: increasing complexity from 4 to 5\n",
      "Sampling for up to -0.496 seconds\n",
      "Sampling while complexity <= 5\n",
      "iter=3, outs=1) sample-grasp:(4)->[(g3)]\n",
      "iter=inf, outs=0) inverse-kinematics:(4, p0, g3)->[]\n",
      "\n",
      "Iteration: 7 | Complexity: 5 | Skeletons: 1 | Skeleton Queue: 1 | Disabled: 0 | Evaluations: 22 | Eager Calls: 0 | Cost: inf | Search Time: 0.354 | Sample Time: 1.130 | Total Time: 1.484\n",
      "Attempt: 1 | Results: 41 | Depth: 0 | Success: False | Time: 0.034\n",
      "Stream plan (inf, 0, inf): None\n",
      "Action plan (inf, inf): None\n",
      "No plan: increasing complexity from 5 to 6\n",
      "Sampling for up to -0.742 seconds\n",
      "Sampling while complexity <= 6\n",
      "iter=4, outs=1) sample-grasp:(4)->[(g4)]\n",
      "iter=inf, outs=0) inverse-kinematics:(4, p0, g4)->[]\n",
      "\n",
      "Iteration: 8 | Complexity: 6 | Skeletons: 1 | Skeleton Queue: 1 | Disabled: 0 | Evaluations: 23 | Eager Calls: 0 | Cost: inf | Search Time: 0.389 | Sample Time: 1.153 | Total Time: 1.542\n",
      "Attempt: 1 | Results: 47 | Depth: 0 | Success: False | Time: 0.025\n",
      "Stream plan (inf, 0, inf): None\n",
      "Action plan (inf, inf): None\n",
      "No plan: increasing complexity from 6 to 7\n",
      "Sampling for up to -0.738 seconds\n",
      "Sampling while complexity <= 7\n",
      "iter=5, outs=1) sample-grasp:(4)->[(g5)]\n",
      "iter=inf, outs=0) inverse-kinematics:(4, p0, g5)->[]\n",
      "\n",
      "Iteration: 9 | Complexity: 7 | Skeletons: 1 | Skeleton Queue: 1 | Disabled: 0 | Evaluations: 24 | Eager Calls: 0 | Cost: inf | Search Time: 0.416 | Sample Time: 1.258 | Total Time: 1.674\n",
      "Attempt: 1 | Results: 53 | Depth: 0 | Success: False | Time: 0.024\n",
      "Stream plan (inf, 0, inf): None\n",
      "Action plan (inf, inf): None\n",
      "No plan: increasing complexity from 7 to 8\n",
      "Sampling for up to -0.818 seconds\n",
      "Sampling while complexity <= 8\n",
      "iter=6, outs=1) sample-grasp:(4)->[(g6)]\n",
      "iter=inf, outs=0) inverse-kinematics:(4, p0, g6)->[]\n",
      "\n",
      "Iteration: 10 | Complexity: 8 | Skeletons: 1 | Skeleton Queue: 1 | Disabled: 0 | Evaluations: 25 | Eager Calls: 0 | Cost: inf | Search Time: 0.442 | Sample Time: 1.571 | Total Time: 2.012\n",
      "Attempt: 1 | Results: 59 | Depth: 0 | Success: False | Time: 0.031\n",
      "Stream plan (inf, 0, inf): None\n",
      "Action plan (inf, inf): None\n",
      "No plan: increasing complexity from 8 to 9\n",
      "Sampling for up to -1.098 seconds\n",
      "Sampling while complexity <= 9\n",
      "iter=7, outs=1) sample-grasp:(4)->[(g7)]\n",
      "iter=inf, outs=1) inverse-kinematics:(4, p0, g7)->[(q1, c0)]\n",
      "iter=inf, outs=1) test-cfree-traj-pose:(c0, 5, p1)->[()]\n",
      "iter=0, outs=1) sample-pose:(4, 1)->[(p2)]\n",
      "iter=inf, outs=1) inverse-kinematics:(4, p2, g7)->[(q3, c1)]\n",
      "iter=inf, outs=1) test-cfree-traj-pose:(c1, 5, p1)->[()]\n",
      "iter=inf, outs=1) test-cfree-traj-pose:(c0, 4, p0)->[()]\n",
      "iter=inf, outs=1) test-cfree-pose-pose:(4, p2, 5, p1)->[()]\n",
      "iter=inf, outs=1) test-cfree-approach-pose:(4, p0, g7, 5, p1)->[()]\n",
      "iter=inf, outs=1) test-cfree-approach-pose:(4, p2, g7, 5, p1)->[()]\n",
      "iter=inf, outs=1) plan-free-motion:(q3, q0)->[(c2)]\n",
      "iter=inf, outs=1) plan-free-motion:(q0, q1)->[(c3)]\n",
      "iter=inf, outs=1) plan-holding-motion:(q1, q3, 4, g7)->[(c4)]\n",
      "Summary: {complexity: 9, cost: 0.000, evaluations: 43, iterations: 10, length: 2, run_time: 2.263, sample_time: 1.784, search_time: 0.479, skeletons: 1, solutions: 1, solved: True, timeout: False}\n",
      "\n",
      "Total External Statistics\n",
      "External: sample-pose | n: 44 | p_success: 1.000 | overhead: 0.001\n",
      "External: sample-grasp | n: 281 | p_success: 0.954 | overhead: 0.001\n",
      "External: inverse-kinematics | n: 325 | p_success: 0.172 | overhead: 0.063\n",
      "External: plan-free-motion | n: 51 | p_success: 0.904 | overhead: 0.124\n",
      "External: plan-holding-motion | n: 22 | p_success: 1.000 | overhead: 0.072\n",
      "External: test-cfree-pose-pose | n: 13 | p_success: 1.000 | overhead: 0.000\n",
      "External: test-cfree-approach-pose | n: 25 | p_success: 1.000 | overhead: 0.001\n",
      "External: test-cfree-traj-pose | n: 52 | p_success: 1.000 | overhead: 0.001\n",
      "Wrote: statistics/py2/kuka-tamp.pkl\n",
      "         1402110 function calls (1381024 primitive calls) in 2.269 seconds\n",
      "\n",
      "   Ordered by: internal time\n",
      "   List reduced from 1558 to 10 due to restriction <10>\n",
      "\n",
      "   ncalls  tottime  percall  cumtime  percall filename:lineno(function)\n",
      "    10932    0.698    0.000    0.698    0.000 {pybullet.calculateInverseKinematics}\n",
      "    66390    0.266    0.000    0.266    0.000 {pybullet.resetJointState}\n",
      "        3    0.143    0.048    0.144    0.048 pkg/planning/motion/moveit/moveit_py.py:156(plan_joint_motion_py)\n",
      "14184/13917    0.083    0.000    0.092    0.000 {map}\n",
      "    10965    0.067    0.000    0.187    0.000 /usr/local/lib/python2.7/dist-packages/numpy/core/numeric.py:2508(within_tol)\n",
      "    33349    0.047    0.000    0.047    0.000 {method 'reduce' of 'numpy.ufunc' objects}\n",
      "    21930    0.043    0.000    0.087    0.000 /usr/local/lib/python2.7/dist-packages/numpy/core/numeric.py:2656(seterr)\n",
      "    10946    0.041    0.000    0.041    0.000 {pybullet.getLinkState}\n",
      "    33079    0.039    0.000    0.103    0.000 /usr/local/lib/python2.7/dist-packages/numpy/core/fromnumeric.py:69(_wrapreduction)\n",
      "    10965    0.038    0.000    0.346    0.000 /usr/local/lib/python2.7/dist-packages/numpy/core/numeric.py:2431(isclose)\n",
      "\n",
      "\n",
      "\n",
      "Solved: True\n",
      "Cost: 0.000\n",
      "Length: 5\n",
      "Deferred: 0\n",
      "Evaluations: 2\n",
      " 1) move_free q0 q1 c3\n",
      " 2) pick 4 p0 g7 q1 c0\n",
      " 3) move_holding q1 q3 4 g7 c4\n",
      " 4) place 4 p2 g7 q3 c1\n",
      " 5) move_free q3 q0 c2\n"
     ]
    }
   ],
   "source": [
    "with Profiler():\n",
    "    with LockRenderer(lock=not True):\n",
    "        solution = solve(problem, algorithm='adaptive', unit_costs=False, success_cost=INF)\n",
    "        saver.restore()\n",
    "print_solution(solution)\n",
    "plan, cost, evaluations = solution"
   ]
  },
  {
   "cell_type": "code",
   "execution_count": null,
   "metadata": {},
   "outputs": [],
   "source": []
  },
  {
   "cell_type": "markdown",
   "metadata": {},
   "source": [
    "## play plan"
   ]
  },
  {
   "cell_type": "code",
   "execution_count": 25,
   "metadata": {},
   "outputs": [],
   "source": [
    "SIMULATE = False\n",
    "if (plan is None) or not has_gui():\n",
    "    disconnect()\n",
    "else:\n",
    "    command = postprocess_plan(plan)\n",
    "    if SIMULATE:\n",
    "#         wait_for_user('Simulate?')\n",
    "        command.control()\n",
    "    else:\n",
    "#         wait_for_user('Execute?')\n",
    "        #command.step()\n",
    "        command.refine(num_steps=10).execute(time_step=0.001)"
   ]
  },
  {
   "cell_type": "code",
   "execution_count": null,
   "metadata": {},
   "outputs": [],
   "source": []
  },
  {
   "cell_type": "code",
   "execution_count": null,
   "metadata": {},
   "outputs": [],
   "source": []
  },
  {
   "cell_type": "code",
   "execution_count": null,
   "metadata": {},
   "outputs": [],
   "source": []
  },
  {
   "cell_type": "code",
   "execution_count": null,
   "metadata": {},
   "outputs": [],
   "source": []
  },
  {
   "cell_type": "code",
   "execution_count": null,
   "metadata": {},
   "outputs": [],
   "source": []
  },
  {
   "cell_type": "code",
   "execution_count": null,
   "metadata": {},
   "outputs": [],
   "source": []
  },
  {
   "cell_type": "code",
   "execution_count": null,
   "metadata": {},
   "outputs": [],
   "source": []
  },
  {
   "cell_type": "code",
   "execution_count": null,
   "metadata": {},
   "outputs": [],
   "source": []
  },
  {
   "cell_type": "code",
   "execution_count": null,
   "metadata": {},
   "outputs": [],
   "source": []
  }
 ],
 "metadata": {
  "kernelspec": {
   "display_name": "Python 2",
   "language": "python",
   "name": "python2"
  },
  "language_info": {
   "codemirror_mode": {
    "name": "ipython",
    "version": 2
   },
   "file_extension": ".py",
   "mimetype": "text/x-python",
   "name": "python",
   "nbconvert_exporter": "python",
   "pygments_lexer": "ipython2",
   "version": "2.7.17"
  }
 },
 "nbformat": 4,
 "nbformat_minor": 2
}
