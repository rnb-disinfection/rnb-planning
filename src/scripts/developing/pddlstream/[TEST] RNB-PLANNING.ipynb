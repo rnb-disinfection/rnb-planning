{
 "cells": [
  {
   "cell_type": "markdown",
   "metadata": {},
   "source": [
    "## set running directory to project source"
   ]
  },
  {
   "cell_type": "code",
   "execution_count": 1,
   "metadata": {},
   "outputs": [],
   "source": [
    "import os\n",
    "import numpy as np\n",
    "import time\n",
    "os.chdir(os.path.join(os.environ[\"RNB_PLANNING_DIR\"], 'src'))\n",
    "import matplotlib.pyplot as plt"
   ]
  },
  {
   "cell_type": "code",
   "execution_count": null,
   "metadata": {},
   "outputs": [],
   "source": []
  },
  {
   "cell_type": "markdown",
   "metadata": {},
   "source": [
    "## 4.1 PlanningScene"
   ]
  },
  {
   "cell_type": "markdown",
   "metadata": {},
   "source": [
    "##### initialize CombinedRobot and GeometryScene"
   ]
  },
  {
   "cell_type": "code",
   "execution_count": 2,
   "metadata": {},
   "outputs": [
    {
     "name": "stdout",
     "output_type": "stream",
     "text": [
      "connection command:\n",
      "indy0: False\n",
      "Unable to register with master node [http://localhost:11311]: master may not be running yet. Will keep trying.\n"
     ]
    },
    {
     "name": "stderr",
     "output_type": "stream",
     "text": [
      "Unknown tag \"hardwareInterface\" in /robot[@name='custom_robots']/transmission[@name='indy0_tran0']/actuator[@name='indy0_motor0']\n",
      "Unknown tag \"hardwareInterface\" in /robot[@name='custom_robots']/transmission[@name='indy0_tran1']/actuator[@name='indy0_motor1']\n",
      "Unknown tag \"hardwareInterface\" in /robot[@name='custom_robots']/transmission[@name='indy0_tran2']/actuator[@name='indy0_motor2']\n",
      "Unknown tag \"hardwareInterface\" in /robot[@name='custom_robots']/transmission[@name='indy0_tran3']/actuator[@name='indy0_motor3']\n",
      "Unknown tag \"hardwareInterface\" in /robot[@name='custom_robots']/transmission[@name='indy0_tran4']/actuator[@name='indy0_motor4']\n",
      "Unknown tag \"hardwareInterface\" in /robot[@name='custom_robots']/transmission[@name='indy0_tran5']/actuator[@name='indy0_motor5']\n"
     ]
    },
    {
     "name": "stdout",
     "output_type": "stream",
     "text": [
      "Please create a subscriber to the marker\n",
      "publication OK\n",
      "published: [0, 0, 0, 0, 0, 0]\n",
      "Please create a subscriber to the marker\n"
     ]
    }
   ],
   "source": [
    "from pkg.controller.combined_robot import *\n",
    "from pkg.project_config import *\n",
    "from pkg.geometry.builder.scene_builder import SceneBuilder\n",
    "\n",
    "s_builder = SceneBuilder(None)   # create scene builder without detector for virtual scene\n",
    "crob = CombinedRobot(robots_on_scene=[\n",
    "    RobotConfig(0, RobotType.indy7gripper, ((0,0,0.01), (0,0,0)), None)]\n",
    "                     , connection_list=[False])\n",
    "gscene = s_builder.create_gscene(crob)\n",
    "gtems = s_builder.add_robot_geometries(color=(0,1,0,0.5), display=True, collision=True)\n",
    "gscene.show_pose(crob.home_pose)"
   ]
  },
  {
   "cell_type": "markdown",
   "metadata": {},
   "source": [
    "##### add geometries"
   ]
  },
  {
   "cell_type": "code",
   "execution_count": 3,
   "metadata": {},
   "outputs": [],
   "source": [
    "from pkg.geometry.geometry import *\n",
    "\n",
    "# add environments (fixed=True for non-movable geometries)\n",
    "wall = gscene.create_safe(GEOTYPE.BOX, \"wall\", \"base_link\", (3,3,0.01), (-0.2,0,0), \n",
    "                           rpy=(0,np.pi/2,0), color=(0.8,0.8,0.8,0.5), display=True, fixed=True, collision=True)\n",
    "floor = gscene.create_safe(GEOTYPE.BOX, \"floor\", \"base_link\", (3,3,0.01), (0,0,0), \n",
    "                           rpy=(0,0,0), color=(0.8,0.8,0.8,0.5), display=True, fixed=True, collision=True)\n",
    "wp1 = gscene.create_safe(GEOTYPE.BOX, \"wp1\", \"base_link\", (0.1,0.1,0.01), (0.6,-0.3,0),rpy=(0,0,0), \n",
    "                         color=(0.8,0.2,0.2,1), display=True, fixed=True, collision=True, parent=\"floor\")\n",
    "wp2 = gscene.create_safe(GEOTYPE.BOX, \"wp2\", \"base_link\", (0.1,0.1,0.01), (0.2,-0.3,0), rpy=(0,0,0), \n",
    "                         color=(0.8,0.2,0.2,1), display=True, fixed=True, collision=True, parent=\"floor\")\n",
    "goal = gscene.create_safe(GEOTYPE.BOX, \"goal\", \"base_link\", (0.1,0.1,0.01), (0.3,-0.4,0), \n",
    "                          rpy=(0,0,0), color=(0.2,0.2,0.8,1), display=True, fixed=True, collision=True)\n",
    " \n",
    "# add movable (fixed=False for movable geometries)\n",
    "box1 = gscene.create_safe(GEOTYPE.BOX, \"box1\", \"base_link\", (0.05,0.05,0.05), (0.3,0.4,0.031), \n",
    "                          rpy=(0,0,0), color=(0.8,0.2,0.2,1), display=True, fixed=False, collision=True)\n",
    "\n",
    "obstacle = gscene.create_safe(GEOTYPE.BOX, \"obstacle\", \"base_link\", (0.05,0.05,0.05), (0.5,0.4,0.031), \n",
    "                          rpy=(0,0,0), color=(0.8,0.8,0.2,1), display=True, fixed=False, collision=True)"
   ]
  },
  {
   "cell_type": "code",
   "execution_count": null,
   "metadata": {},
   "outputs": [],
   "source": []
  },
  {
   "cell_type": "markdown",
   "metadata": {},
   "source": [
    "##### create PlanningScene"
   ]
  },
  {
   "cell_type": "code",
   "execution_count": 4,
   "metadata": {},
   "outputs": [],
   "source": [
    "from pkg.planning.scene import PlanningScene\n",
    "pscene = PlanningScene(gscene, combined_robot=crob)"
   ]
  },
  {
   "cell_type": "code",
   "execution_count": null,
   "metadata": {},
   "outputs": [],
   "source": []
  },
  {
   "cell_type": "markdown",
   "metadata": {},
   "source": [
    "##### create_binder\n",
    "- Binders (or Actors) are binding points where objects can be attached (or binded)\n",
    "- Examples are \n",
    "  - PlacePlane: plane for object placement\n",
    "  - Gripper2Tool: 2-finger gripper tool for grasp objects\n",
    "  - SweepTool: action point to pass waypoints for sweep task"
   ]
  },
  {
   "cell_type": "code",
   "execution_count": 5,
   "metadata": {},
   "outputs": [],
   "source": [
    "from pkg.planning.constraint.constraint_actor import PlacePlane, Gripper2Tool, SweepFramer"
   ]
  },
  {
   "cell_type": "code",
   "execution_count": 6,
   "metadata": {},
   "outputs": [
    {
     "data": {
      "text/plain": [
       "<pkg.planning.constraint.constraint_actor.PlacePlane at 0x7f4fb30a5bd0>"
      ]
     },
     "execution_count": 6,
     "metadata": {},
     "output_type": "execute_result"
    }
   ],
   "source": [
    "# create PlacePlane on geometry \"floor\" and \"goal\"\n",
    "# when point is not set, the entire upper surface of the geometry becomes valid binding area.\n",
    "# when point is set, the specific point becomes the only valid binding point.\n",
    "pscene.create_binder(bname=\"floor\", gname=\"floor\", _type=PlacePlane)\n",
    "pscene.create_binder(bname=\"goal\", gname=\"goal\", _type=PlacePlane, point=(0,0,0.005))"
   ]
  },
  {
   "cell_type": "code",
   "execution_count": 7,
   "metadata": {},
   "outputs": [
    {
     "data": {
      "text/plain": [
       "<pkg.planning.constraint.constraint_actor.Gripper2Tool at 0x7f4fb30ab8d0>"
      ]
     },
     "execution_count": 7,
     "metadata": {},
     "output_type": "execute_result"
    }
   ],
   "source": [
    "# add collision boundary for gripper base\n",
    "# - set link_name=\"indy0_tcp\" to attach the geometry to end-effector link\n",
    "# - it can be labeled as fixed=True, as it is \"fixed\" on the indy0_tcp link\n",
    "gripper =  gscene.create_safe(GEOTYPE.SPHERE, \"grip0\", link_name=\"indy0_tcp\", \n",
    "                                dims=(0.01,0.01,0.01), center=(0,0,0.14), rpy=(-np.pi/2,0,0), \n",
    "                                color=(0.8,0.2,0.2,0.5), display=False, fixed=True, collision=False)\n",
    "\n",
    "# create Gripper2Tool binder\n",
    "# Gripper2Tool is a 2-finger gripper, which can rotate along z-direction.\n",
    "# To align the z-direction with the 2 fingers, rotate by 90 degree along roll axis.\n",
    "# The gripping point is (0,0,0.11) in local coordinate of \"gripper\" geometry\n",
    "pscene.create_binder(bname=\"grip0\", gname=\"grip0\", _type=Gripper2Tool, point=(0,0,0), rpy=(0,0,0))"
   ]
  },
  {
   "cell_type": "code",
   "execution_count": 8,
   "metadata": {},
   "outputs": [
    {
     "data": {
      "text/plain": [
       "<pkg.planning.constraint.constraint_actor.SweepFramer at 0x7f4fb30aba50>"
      ]
     },
     "execution_count": 8,
     "metadata": {},
     "output_type": "execute_result"
    }
   ],
   "source": [
    "# Add virtual (no-collision) sweep face. the point is 0.2 m away from the \"indy0_tcp\" link\n",
    "# To match the z-direction with the target surface, the geometry is rotated 180 degrees in pitch-axis.\n",
    "sweep_face =  gscene.create_safe(GEOTYPE.BOX, \"sweep_face\", link_name=\"indy0_tcp\", \n",
    "                                dims=(0.05,0.05,0.001), center=(0,0,0.2), rpy=(0,np.pi,0), \n",
    "                                color=(0.2,0.2,0.8,0.1), display=False, fixed=True, collision=False)\n",
    "                                 \n",
    "# create SweepTool binder\n",
    "pscene.create_binder(bname=\"sweep_face\", gname=\"sweep_face\", _type=SweepFramer, point=(0,0,0), rpy=(0,0,0))"
   ]
  },
  {
   "cell_type": "code",
   "execution_count": null,
   "metadata": {},
   "outputs": [],
   "source": []
  },
  {
   "cell_type": "markdown",
   "metadata": {},
   "source": [
    "##### create_subject\n",
    "* Subject describes the tasks in the planning scene.\n",
    "* There are 2 categories in subject:\n",
    "  1. Object: The object has grip points and placement points for pick&place task\n",
    "  2. Task: The task is can be any non-physical task. Check SweepLineTask for example\n",
    "* The subjects can be composed of multiple action points. Examples are:\n",
    "  1. Grasp2Point: grasping point for 2-finger gripper. \n",
    "  2. PlacePoint: The point to place object.\n",
    "  3. SweepPoint: A waypoint for SweepLineTask.\n",
    "  * The above 3 action points inherit DirectePoint, for which the orientation is free along z-axis. \n",
    "  * If \"point\" parameter is not set, the entire upper surface is becomes valid action area."
   ]
  },
  {
   "cell_type": "code",
   "execution_count": 9,
   "metadata": {},
   "outputs": [],
   "source": [
    "from pkg.planning.constraint.constraint_subject import Grasp2Point, PlacePoint, SweepFrame\n",
    "from pkg.planning.constraint.constraint_subject import CustomObject, SweepLineTask"
   ]
  },
  {
   "cell_type": "code",
   "execution_count": 10,
   "metadata": {},
   "outputs": [],
   "source": [
    "## create box object with grasping points along positive & negative y-direction and placement point in the bottom face\n",
    "box_obj = pscene.create_subject(oname=\"box1\", gname=\"box1\", _type=CustomObject, \n",
    "                             action_points_dict = {\n",
    "                                 \"handle1\": Grasp2Point(\"handle1\", box1, [0,0,0], [-np.pi/2,0,0]),\n",
    "                                 \"handle2\": Grasp2Point(\"handle2\", box1, [0,0,0], [np.pi/2,0,0]),\n",
    "                                 \"bottom\": PlacePoint(\"bottom\", box1, [0,0,-0.026], [0,0,0])})"
   ]
  },
  {
   "cell_type": "code",
   "execution_count": 11,
   "metadata": {},
   "outputs": [],
   "source": [
    "## create box object with grasping points along positive & negative y-direction and placement point in the bottom face\n",
    "obs_obj = pscene.create_subject(oname=\"obstacle\", gname=\"obstacle\", _type=CustomObject, \n",
    "                             action_points_dict = {\n",
    "                                 \"handle1\": Grasp2Point(\"handle1\", obstacle, [0,0,0], [-np.pi/2,0,0]),\n",
    "                                 \"handle2\": Grasp2Point(\"handle2\", obstacle, [0,0,0], [np.pi/2,0,0]),\n",
    "                                 \"bottom\": PlacePoint(\"bottom\", obstacle, [0,0,-0.026], [0,0,0])})"
   ]
  },
  {
   "cell_type": "code",
   "execution_count": 12,
   "metadata": {},
   "outputs": [],
   "source": [
    "## create sweep task with 2 waypoints\n",
    "sweep = pscene.create_subject(oname=\"sweep\", gname=\"floor\", _type=SweepLineTask, \n",
    "                             action_points_dict = {\"wp1\": SweepFrame(\"wp1\", wp1, [0,0,0.005], [0,0,0]),\n",
    "                                                   \"wp2\": SweepFrame(\"wp2\", wp2, [0,0,0.005], [0,0,0])}\n",
    "                             )"
   ]
  },
  {
   "cell_type": "code",
   "execution_count": null,
   "metadata": {},
   "outputs": [],
   "source": []
  },
  {
   "cell_type": "markdown",
   "metadata": {},
   "source": [
    "## Pipeline"
   ]
  },
  {
   "cell_type": "code",
   "execution_count": 13,
   "metadata": {},
   "outputs": [],
   "source": [
    "from pkg.planning.pipeline import PlanningPipeline\n",
    "ppline = PlanningPipeline(pscene)"
   ]
  },
  {
   "cell_type": "code",
   "execution_count": 14,
   "metadata": {},
   "outputs": [
    {
     "name": "stdout",
     "output_type": "stream",
     "text": [
      "Dash is running on http://0.0.0.0:8050/\n",
      "\n",
      " * Serving Flask app \"pkg.ui.dash_launcher\" (lazy loading)\n",
      " * Environment: production\n"
     ]
    }
   ],
   "source": [
    "from pkg.ui.ui_broker import *\n",
    "\n",
    "# start UI\n",
    "ui_broker = UIBroker.instance()\n",
    "ui_broker.initialize(ppline, s_builder)\n",
    "ui_broker.start_server()\n",
    "\n",
    "ui_broker.set_tables()"
   ]
  },
  {
   "cell_type": "code",
   "execution_count": null,
   "metadata": {},
   "outputs": [],
   "source": []
  },
  {
   "cell_type": "markdown",
   "metadata": {},
   "source": [
    "##### initialize_state\n",
    "* initialize_state(robot_pose) updates robot pose and gets corresponding binding status of current scene.\n",
    "* state.node of ('floor', 0) means the first subject (object) is placed on the floor and the second subject (sweep) has passed 0 waypoints"
   ]
  },
  {
   "cell_type": "code",
   "execution_count": 15,
   "metadata": {
    "scrolled": true
   },
   "outputs": [
    {
     "name": "stdout",
     "output_type": "stream",
     "text": [
      "   WARNING: This is a development server. Do not use it in a production deployment.\n",
      "   Use a production WSGI server instead.\n",
      "('floor', 'floor', 0) * Debug mode: off\n",
      "\n"
     ]
    }
   ],
   "source": [
    "initial_state = pscene.initialize_state(crob.home_pose)\n",
    "print(initial_state.node)"
   ]
  },
  {
   "cell_type": "code",
   "execution_count": null,
   "metadata": {},
   "outputs": [],
   "source": []
  },
  {
   "cell_type": "markdown",
   "metadata": {},
   "source": [
    "## import planners"
   ]
  },
  {
   "cell_type": "code",
   "execution_count": 16,
   "metadata": {},
   "outputs": [],
   "source": [
    "\n",
    "from pkg.planning.motion.moveit.moveit_planner import MoveitPlanner\n",
    "mplan = MoveitPlanner(pscene)\n",
    "from pkg.planning.filtering.grasp_filter import GraspChecker\n",
    "from pkg.planning.filtering.reach_filter import ReachChecker\n",
    "from pkg.planning.filtering.latticized_filter import LatticedChecker\n",
    "from pkg.planning.filtering.task_clearance_filter import TaskClearanceChecker\n",
    "\n",
    "gcheck = GraspChecker(pscene)\n",
    "rcheck = ReachChecker(pscene)\n",
    "checkers_all = [rcheck, gcheck]\n",
    "# tcheck = TaskClearanceChecker(pscene, gcheck)\n",
    "# checkers_all = [tcheck, rcheck, gcheck]\n",
    "# lcheck = LatticedChecker(pscene, gcheck)\n",
    "# checkers_all.append(lcheck)"
   ]
  },
  {
   "cell_type": "code",
   "execution_count": null,
   "metadata": {},
   "outputs": [],
   "source": []
  },
  {
   "cell_type": "markdown",
   "metadata": {},
   "source": [
    "## Test pybullet"
   ]
  },
  {
   "cell_type": "code",
   "execution_count": 17,
   "metadata": {},
   "outputs": [],
   "source": [
    "os.chdir(os.path.join(os.environ[\"RNB_PLANNING_DIR\"], 'src/scripts/developing/pddlstream'))"
   ]
  },
  {
   "cell_type": "code",
   "execution_count": 18,
   "metadata": {},
   "outputs": [],
   "source": [
    "from convert_pscene import *\n",
    "from plan_rnb import *"
   ]
  },
  {
   "cell_type": "code",
   "execution_count": null,
   "metadata": {},
   "outputs": [],
   "source": []
  },
  {
   "cell_type": "markdown",
   "metadata": {},
   "source": [
    "#### load pybullet, convert scene"
   ]
  },
  {
   "cell_type": "code",
   "execution_count": 19,
   "metadata": {
    "scrolled": true
   },
   "outputs": [
    {
     "name": "stdout",
     "output_type": "stream",
     "text": [
      "[Pybullet] Load urdf from /home/rnb/Projects/rnb-planning/src/robots/custom_robots_pybullet.urdf\n",
      "[WARING] non-object subject not implemented for now\n",
      "('Objects:', {1L: 'goal', 2L: 'floor', 3L: 'wall', 4L: 'obstacle', 5L: 'box1'})\n"
     ]
    }
   ],
   "source": [
    "connect_notebook(use_gui=False)\n",
    "urdf_pybullet_path = copy_meshes(gscene)\n",
    "robot_body, body_names, movable_bodies = pscene_to_pybullet(pscene, urdf_pybullet_path, tool_name=\"grip0\", name_exclude_list=[\"indy0\"])\n",
    "print('Objects:', body_names)\n",
    "saver = WorldSaver()"
   ]
  },
  {
   "cell_type": "code",
   "execution_count": null,
   "metadata": {},
   "outputs": [],
   "source": []
  },
  {
   "cell_type": "code",
   "execution_count": null,
   "metadata": {},
   "outputs": [],
   "source": []
  },
  {
   "cell_type": "markdown",
   "metadata": {},
   "source": [
    "### Test with IK checkers"
   ]
  },
  {
   "cell_type": "code",
   "execution_count": 20,
   "metadata": {},
   "outputs": [],
   "source": [
    "gtimer = GlobalTimer.instance()\n",
    "gtimer.reset()"
   ]
  },
  {
   "cell_type": "code",
   "execution_count": 21,
   "metadata": {
    "scrolled": true
   },
   "outputs": [
    {
     "name": "stdout",
     "output_type": "stream",
     "text": [
      "Robot: 0\n",
      "Movable: [4L, 5L]\n",
      "Fixed: [1, 2, 3]\n",
      "body 4 - surface 1\n",
      "body 4 - surface 2\n",
      "body 4 - surface 3\n",
      "body 5 - surface 1\n",
      "body 5 - surface 2\n",
      "body 5 - surface 3\n",
      "('Init:', [('CanMove',), ('Conf', q0), ('AtConf', q0), ('HandEmpty',), ('Graspable', 4L), ('Pose', 4L, p0), ('AtPose', 4L, p0), ('Stackable', 4L, 1), ('Stackable', 4L, 2), ('Supported', 4L, p0, 2), ('Stackable', 4L, 3), ('Graspable', 5L), ('Pose', 5L, p1), ('AtPose', 5L, p1), ('Stackable', 5L, 1), ('Stackable', 5L, 2), ('Supported', 5L, p1, 2), ('Stackable', 5L, 3)])\n",
      "('Goal:', ('and', ('AtConf', q0), ('On', 4L, 1)))\n",
      "('Streams:', '{TrajCollision, inverse-kinematics, plan-free-motion, plan-holding-motion, sample-grasp, sample-pose, test-cfree-approach-pose, test-cfree-pose-pose, test-cfree-traj-pose}')\n",
      "Warning! All actions have no cost. Recommend setting unit_costs=True\n",
      "Warning! Undeclared predicates: ['conf', 'graspable']\n",
      "Setting negate=True for stream [test-cfree-approach-pose]\n",
      "Setting negate=True for stream [test-cfree-pose-pose]\n",
      "Setting negate=True for stream [test-cfree-traj-pose]\n",
      "Streams: [sample-pose:('?o', '?r')->('?p',), sample-grasp:('?o',)->('?g',), inverse-kinematics:('?o', '?p', '?g')->('?q', '?t'), plan-free-motion:('?q1', '?q2')->('?t',), plan-holding-motion:('?q1', '?q2', '?o', '?g')->('?t',)]\n",
      "Functions: []\n",
      "Negated: [test-cfree-pose-pose:('?o1', '?p1', '?o2', '?p2')->(), test-cfree-approach-pose:('?o1', '?p1', '?g1', '?o2', '?p2')->(), test-cfree-traj-pose:('?t', '?o2', '?p2')->()]\n",
      "Optimizers: []\n",
      "\n",
      "Iteration: 1 | Complexity: 0 | Skeletons: 0 | Skeleton Queue: 0 | Disabled: 0 | Evaluations: 18 | Eager Calls: 0 | Cost: inf | Search Time: 0.000 | Sample Time: 0.000 | Total Time: 0.000\n",
      "Attempt: 1 | Results: 1 | Depth: 0 | Success: False | Time: 0.008\n",
      "Stream plan (inf, 0, inf): None\n",
      "Action plan (inf, inf): None\n",
      "No plan: increasing complexity from 0 to 1\n",
      "\n",
      "Iteration: 2 | Complexity: 1 | Skeletons: 0 | Skeleton Queue: 0 | Disabled: 0 | Evaluations: 18 | Eager Calls: 0 | Cost: inf | Search Time: 0.009 | Sample Time: 0.000 | Total Time: 0.009\n",
      "Attempt: 1 | Results: 11 | Depth: 0 | Success: False | Time: 0.009\n",
      "Stream plan (inf, 0, inf): None\n",
      "Action plan (inf, inf): None\n",
      "No plan: increasing complexity from 1 to 2\n",
      "\n",
      "Iteration: 3 | Complexity: 2 | Skeletons: 0 | Skeleton Queue: 0 | Disabled: 0 | Evaluations: 18 | Eager Calls: 0 | Cost: inf | Search Time: 0.018 | Sample Time: 0.000 | Total Time: 0.018\n",
      "Attempt: 1 | Results: 24 | Depth: 1 | Success: False | Time: 0.084\n",
      "Attempt: 2 | Results: 61 | Depth: 0 | Success: True | Time: 0.173\n",
      "Stream plan (13, 13, 0.001): [sample-grasp:(4)->(#g0), inverse-kinematics:(4, p0, #g0)->(#q0, #t14), test-cfree-traj-pose:(#t14, 5, p1)->(), sample-pose:(4, 1)->(#p0), inverse-kinematics:(4, #p0, #g0)->(#q1, #t15), test-cfree-traj-pose:(#t15, 5, p1)->(), test-cfree-traj-pose:(#t14, 4, p0)->(), test-cfree-pose-pose:(4, #p0, 5, p1)->(), test-cfree-approach-pose:(4, p0, #g0, 5, p1)->(), test-cfree-approach-pose:(4, #p0, #g0, 5, p1)->(), plan-free-motion:(q0, #q0)->(#t57), plan-free-motion:(#q1, q0)->(#t58), plan-holding-motion:(#q0, #q1, 4, #g0)->(#t56)]\n",
      "Action plan (5, 0.000): [move_free(q0, #q0, #t57), pick(4, p0, #g0, #q0, #t14), move_holding(#q0, #q1, 4, #g0, #t56), place(4, #p0, #g0, #q1, #t15), move_free(#q1, q0, #t58)]\n",
      "iter=0, outs=1) sample-grasp:(4)->[(g0)]\n",
      "iter=inf, outs=0) inverse-kinematics:(4, p0, g0)->[]\n",
      "Sampling for up to 0.100 seconds\n",
      "iter=1, outs=1) sample-grasp:(4)->[(g1)]\n",
      "iter=inf, outs=1) inverse-kinematics:(4, p0, g1)->[(q1, c0)]\n",
      "iter=inf, outs=1) test-cfree-traj-pose:(c0, 5, p1)->[()]\n",
      "iter=0, outs=1) sample-pose:(4, 1)->[(p2)]\n",
      "iter=inf, outs=0) inverse-kinematics:(4, p2, g1)->[]\n",
      "Sampling while complexity <= 2\n",
      "\n",
      "Iteration: 4 | Complexity: 2 | Skeletons: 1 | Skeleton Queue: 2 | Disabled: 0 | Evaluations: 26 | Eager Calls: 0 | Cost: inf | Search Time: 0.201 | Sample Time: 0.211 | Total Time: 0.412\n",
      "Attempt: 1 | Results: 26 | Depth: 0 | Success: False | Time: 0.037\n",
      "Stream plan (inf, 0, inf): None\n",
      "Action plan (inf, inf): None\n",
      "No plan: increasing complexity from 2 to 3\n",
      "Sampling for up to 0.028 seconds\n",
      "iter=1, outs=1) sample-pose:(4, 1)->[(p3)]\n",
      "iter=inf, outs=1) inverse-kinematics:(4, p3, g1)->[(q2, c1)]\n",
      "iter=inf, outs=1) test-cfree-traj-pose:(c1, 5, p1)->[()]\n",
      "iter=inf, outs=1) test-cfree-traj-pose:(c0, 4, p0)->[()]\n",
      "iter=inf, outs=1) test-cfree-pose-pose:(4, p3, 5, p1)->[()]\n",
      "iter=inf, outs=1) test-cfree-approach-pose:(4, p0, g1, 5, p1)->[()]\n",
      "iter=inf, outs=1) test-cfree-approach-pose:(4, p3, g1, 5, p1)->[()]\n",
      "iter=inf, outs=1) plan-free-motion:(q0, q1)->[(c2)]\n",
      "iter=inf, outs=1) plan-free-motion:(q2, q0)->[(c3)]\n",
      "iter=inf, outs=1) plan-holding-motion:(q1, q2, 4, g1)->[(c4)]\n",
      "Summary: {complexity: 3, cost: 0.000, evaluations: 39, iterations: 4, length: 2, run_time: 0.707, sample_time: 0.464, search_time: 0.243, skeletons: 1, solutions: 1, solved: True, timeout: False}\n",
      "\n",
      "Total External Statistics\n",
      "External: sample-pose | n: 2 | p_success: 1.000 | overhead: 0.001\n",
      "External: sample-grasp | n: 2 | p_success: 1.000 | overhead: 0.001\n",
      "External: inverse-kinematics | n: 4 | p_success: 0.600 | overhead: 0.060\n",
      "External: plan-free-motion | n: 2 | p_success: 1.000 | overhead: 0.034\n",
      "External: plan-holding-motion | n: 1 | p_success: 1.000 | overhead: 0.026\n",
      "External: test-cfree-pose-pose | n: 1 | p_success: 1.000 | overhead: 0.000\n",
      "External: test-cfree-approach-pose | n: 2 | p_success: 1.000 | overhead: 0.001\n",
      "External: test-cfree-traj-pose | n: 3 | p_success: 1.000 | overhead: 0.000\n",
      "Wrote: statistics/py2/kuka-tamp.pkl\n",
      "         505296 function calls (491326 primitive calls) in 0.718 seconds\n",
      "\n",
      "   Ordered by: internal time\n",
      "   List reduced from 1572 to 10 due to restriction <10>\n",
      "\n",
      "   ncalls  tottime  percall  cumtime  percall filename:lineno(function)\n",
      "     2034    0.129    0.000    0.129    0.000 {pybullet.calculateInverseKinematics}\n",
      "        3    0.128    0.043    0.128    0.043 pkg/planning/motion/moveit/moveit_py.py:156(plan_joint_motion_py)\n",
      "    12660    0.044    0.000    0.044    0.000 {pybullet.resetJointState}\n",
      "        2    0.024    0.012    0.024    0.012 {posix.read}\n",
      "     2056    0.013    0.000    0.034    0.000 /usr/local/lib/python2.7/dist-packages/numpy/core/numeric.py:2508(within_tol)\n",
      "        2    0.012    0.006    0.012    0.006 {posix.fork}\n",
      "     6635    0.011    0.000    0.011    0.000 {method 'reduce' of 'numpy.ufunc' objects}\n",
      "  3886/38    0.008    0.000    0.023    0.001 /usr/lib/python2.7/copy.py:145(deepcopy)\n",
      "     7350    0.007    0.000    0.007    0.000 {numpy.array}\n",
      "        4    0.007    0.002    0.007    0.002 {method 'read' of 'file' objects}\n",
      "\n",
      "\n",
      "\n",
      "Solved: True\n",
      "Cost: 0.000\n",
      "Length: 5\n",
      "Deferred: 0\n",
      "Evaluations: 2\n",
      " 1) move_free q0 q1 c2\n",
      " 2) pick 4 p0 g1 q1 c0\n",
      " 3) move_holding q1 q2 4 g1 c4\n",
      " 4) place 4 p3 g1 q2 c1\n",
      " 5) move_free q2 q0 c3\n",
      "Robot: 0\n",
      "Movable: [4L, 5L]\n",
      "Fixed: [1, 2, 3]\n",
      "body 4 - surface 1\n",
      "body 4 - surface 2\n",
      "body 4 - surface 3\n",
      "body 5 - surface 1\n",
      "body 5 - surface 2\n",
      "body 5 - surface 3\n",
      "('Init:', [('CanMove',), ('Conf', q3), ('AtConf', q3), ('HandEmpty',), ('Graspable', 4L), ('Pose', 4L, p4), ('AtPose', 4L, p4), ('Stackable', 4L, 1), ('Stackable', 4L, 2), ('Supported', 4L, p4, 2), ('Stackable', 4L, 3), ('Graspable', 5L), ('Pose', 5L, p5), ('AtPose', 5L, p5), ('Stackable', 5L, 1), ('Stackable', 5L, 2), ('Supported', 5L, p5, 2), ('Stackable', 5L, 3)])\n",
      "('Goal:', ('and', ('AtConf', q3), ('On', 4L, 1)))\n",
      "('Streams:', '{TrajCollision, inverse-kinematics, plan-free-motion, plan-holding-motion, sample-grasp, sample-pose, test-cfree-approach-pose, test-cfree-pose-pose, test-cfree-traj-pose}')\n",
      "Warning! All actions have no cost. Recommend setting unit_costs=True\n",
      "Warning! Undeclared predicates: ['conf', 'graspable']\n",
      "Setting negate=True for stream [test-cfree-approach-pose]\n",
      "Setting negate=True for stream [test-cfree-traj-pose]\n",
      "Setting negate=True for stream [test-cfree-pose-pose]\n",
      "Streams: [sample-pose:('?o', '?r')->('?p',), sample-grasp:('?o',)->('?g',), inverse-kinematics:('?o', '?p', '?g')->('?q', '?t'), plan-free-motion:('?q1', '?q2')->('?t',), plan-holding-motion:('?q1', '?q2', '?o', '?g')->('?t',)]\n",
      "Functions: []\n",
      "Negated: [test-cfree-pose-pose:('?o1', '?p1', '?o2', '?p2')->(), test-cfree-approach-pose:('?o1', '?p1', '?g1', '?o2', '?p2')->(), test-cfree-traj-pose:('?t', '?o2', '?p2')->()]\n",
      "Optimizers: []\n",
      "\n",
      "Iteration: 1 | Complexity: 0 | Skeletons: 0 | Skeleton Queue: 0 | Disabled: 0 | Evaluations: 18 | Eager Calls: 0 | Cost: inf | Search Time: 0.000 | Sample Time: 0.000 | Total Time: 0.000\n",
      "Attempt: 1 | Results: 1 | Depth: 0 | Success: False | Time: 0.007\n",
      "Stream plan (inf, 0, inf): None\n",
      "Action plan (inf, inf): None\n",
      "No plan: increasing complexity from 0 to 1\n",
      "\n",
      "Iteration: 2 | Complexity: 1 | Skeletons: 0 | Skeleton Queue: 0 | Disabled: 0 | Evaluations: 18 | Eager Calls: 0 | Cost: inf | Search Time: 0.007 | Sample Time: 0.000 | Total Time: 0.007\n",
      "Attempt: 1 | Results: 11 | Depth: 0 | Success: False | Time: 0.014\n",
      "Stream plan (inf, 0, inf): None\n",
      "Action plan (inf, inf): None\n",
      "No plan: increasing complexity from 1 to 2\n",
      "\n",
      "Iteration: 3 | Complexity: 2 | Skeletons: 0 | Skeleton Queue: 0 | Disabled: 0 | Evaluations: 18 | Eager Calls: 0 | Cost: inf | Search Time: 0.022 | Sample Time: 0.000 | Total Time: 0.022\n"
     ]
    },
    {
     "name": "stdout",
     "output_type": "stream",
     "text": [
      "Attempt: 1 | Results: 24 | Depth: 1 | Success: False | Time: 0.082\n",
      "Attempt: 2 | Results: 61 | Depth: 0 | Success: True | Time: 0.194\n",
      "Stream plan (13, 13, 0.001): [sample-grasp:(4)->(#g1), inverse-kinematics:(4, p4, #g1)->(#q2, #t81), test-cfree-traj-pose:(#t81, 5, p5)->(), sample-pose:(4, 1)->(#p1), inverse-kinematics:(4, #p1, #g1)->(#q3, #t82), test-cfree-traj-pose:(#t82, 5, p5)->(), test-cfree-traj-pose:(#t81, 4, p4)->(), test-cfree-pose-pose:(4, #p1, 5, p5)->(), test-cfree-approach-pose:(4, p4, #g1, 5, p5)->(), test-cfree-approach-pose:(4, #p1, #g1, 5, p5)->(), plan-free-motion:(#q3, q3)->(#t123), plan-free-motion:(q3, #q2)->(#t124), plan-holding-motion:(#q2, #q3, 4, #g1)->(#t125)]\n",
      "Action plan (5, 0.000): [move_free(q3, #q2, #t124), pick(4, p4, #g1, #q2, #t81), move_holding(#q2, #q3, 4, #g1, #t125), place(4, #p1, #g1, #q3, #t82), move_free(#q3, q3, #t123)]\n",
      "iter=0, outs=1) sample-grasp:(4)->[(g2)]\n",
      "iter=inf, outs=1) inverse-kinematics:(4, p4, g2)->[(q4, c5)]\n",
      "iter=inf, outs=1) test-cfree-traj-pose:(c5, 5, p5)->[()]\n",
      "iter=0, outs=1) sample-pose:(4, 1)->[(p6)]\n",
      "iter=inf, outs=0) inverse-kinematics:(4, p6, g2)->[]\n",
      "Sampling for up to 0.068 seconds\n",
      "iter=1, outs=1) sample-pose:(4, 1)->[(p7)]\n",
      "iter=inf, outs=1) inverse-kinematics:(4, p7, g2)->[(q5, c6)]\n",
      "iter=inf, outs=1) test-cfree-traj-pose:(c6, 5, p5)->[()]\n",
      "iter=inf, outs=1) test-cfree-traj-pose:(c5, 4, p4)->[()]\n",
      "iter=inf, outs=1) test-cfree-pose-pose:(4, p7, 5, p5)->[()]\n",
      "iter=inf, outs=1) test-cfree-approach-pose:(4, p4, g2, 5, p5)->[()]\n",
      "iter=inf, outs=1) test-cfree-approach-pose:(4, p7, g2, 5, p5)->[()]\n",
      "iter=inf, outs=1) plan-free-motion:(q5, q3)->[(c7)]\n",
      "iter=inf, outs=1) plan-free-motion:(q3, q4)->[(c8)]\n",
      "iter=inf, outs=1) plan-holding-motion:(q4, q5, 4, g2)->[(c9)]\n",
      "Summary: {complexity: 2, cost: 0.000, evaluations: 38, iterations: 3, length: 2, run_time: 0.518, sample_time: 0.290, search_time: 0.228, skeletons: 1, solutions: 1, solved: True, timeout: False}\n",
      "\n",
      "Total External Statistics\n",
      "External: sample-pose | n: 4 | p_success: 1.000 | overhead: 0.001\n",
      "External: sample-grasp | n: 3 | p_success: 1.000 | overhead: 0.001\n",
      "External: inverse-kinematics | n: 7 | p_success: 0.625 | overhead: 0.057\n",
      "External: plan-free-motion | n: 4 | p_success: 1.000 | overhead: 0.038\n",
      "External: plan-holding-motion | n: 2 | p_success: 1.000 | overhead: 0.030\n",
      "External: test-cfree-pose-pose | n: 2 | p_success: 1.000 | overhead: 0.000\n",
      "External: test-cfree-approach-pose | n: 4 | p_success: 1.000 | overhead: 0.001\n",
      "External: test-cfree-traj-pose | n: 6 | p_success: 1.000 | overhead: 0.001\n",
      "Wrote: statistics/py2/kuka-tamp.pkl\n",
      "         390538 function calls (377380 primitive calls) in 0.535 seconds\n",
      "\n",
      "   Ordered by: internal time\n",
      "   List reduced from 1551 to 10 due to restriction <10>\n",
      "\n",
      "   ncalls  tottime  percall  cumtime  percall filename:lineno(function)\n",
      "        3    0.097    0.032    0.098    0.033 pkg/planning/motion/moveit/moveit_py.py:156(plan_joint_motion_py)\n",
      "      881    0.063    0.000    0.063    0.000 {pybullet.calculateInverseKinematics}\n",
      "        2    0.022    0.011    0.022    0.011 {posix.read}\n",
      "     5694    0.022    0.000    0.022    0.000 {pybullet.resetJointState}\n",
      "        2    0.013    0.006    0.013    0.006 {posix.fork}\n",
      "  3886/38    0.007    0.000    0.021    0.001 /usr/lib/python2.7/copy.py:145(deepcopy)\n",
      "      400    0.007    0.000    0.007    0.000 {method 'read' of 'file' objects}\n",
      "      897    0.007    0.000    0.016    0.000 /usr/local/lib/python2.7/dist-packages/numpy/core/numeric.py:2508(within_tol)\n",
      "     3146    0.006    0.000    0.006    0.000 {method 'reduce' of 'numpy.ufunc' objects}\n",
      "     3834    0.005    0.000    0.005    0.000 {numpy.array}\n",
      "\n",
      "\n",
      "\n",
      "Solved: True\n",
      "Cost: 0.000\n",
      "Length: 5\n",
      "Deferred: 0\n",
      "Evaluations: 2\n",
      " 1) move_free q3 q4 c8\n",
      " 2) pick 4 p4 g2 q4 c5\n",
      " 3) move_holding q4 q5 4 g2 c9\n",
      " 4) place 4 p7 g2 q5 c6\n",
      " 5) move_free q5 q3 c7\n",
      "Robot: 0\n",
      "Movable: [4L, 5L]\n",
      "Fixed: [1, 2, 3]\n",
      "body 4 - surface 1\n",
      "body 4 - surface 2\n",
      "body 4 - surface 3\n",
      "body 5 - surface 1\n",
      "body 5 - surface 2\n",
      "body 5 - surface 3\n",
      "('Init:', [('CanMove',), ('Conf', q6), ('AtConf', q6), ('HandEmpty',), ('Graspable', 4L), ('Pose', 4L, p8), ('AtPose', 4L, p8), ('Stackable', 4L, 1), ('Stackable', 4L, 2), ('Supported', 4L, p8, 2), ('Stackable', 4L, 3), ('Graspable', 5L), ('Pose', 5L, p9), ('AtPose', 5L, p9), ('Stackable', 5L, 1), ('Stackable', 5L, 2), ('Supported', 5L, p9, 2), ('Stackable', 5L, 3)])\n",
      "('Goal:', ('and', ('AtConf', q6), ('On', 4L, 1)))\n",
      "('Streams:', '{TrajCollision, inverse-kinematics, plan-free-motion, plan-holding-motion, sample-grasp, sample-pose, test-cfree-approach-pose, test-cfree-pose-pose, test-cfree-traj-pose}')\n",
      "Warning! All actions have no cost. Recommend setting unit_costs=True\n",
      "Warning! Undeclared predicates: ['conf', 'graspable']\n",
      "Setting negate=True for stream [test-cfree-pose-pose]\n",
      "Setting negate=True for stream [test-cfree-traj-pose]\n",
      "Setting negate=True for stream [test-cfree-approach-pose]\n",
      "Streams: [sample-pose:('?o', '?r')->('?p',), sample-grasp:('?o',)->('?g',), inverse-kinematics:('?o', '?p', '?g')->('?q', '?t'), plan-free-motion:('?q1', '?q2')->('?t',), plan-holding-motion:('?q1', '?q2', '?o', '?g')->('?t',)]\n",
      "Functions: []\n",
      "Negated: [test-cfree-pose-pose:('?o1', '?p1', '?o2', '?p2')->(), test-cfree-approach-pose:('?o1', '?p1', '?g1', '?o2', '?p2')->(), test-cfree-traj-pose:('?t', '?o2', '?p2')->()]\n",
      "Optimizers: []\n",
      "\n",
      "Iteration: 1 | Complexity: 0 | Skeletons: 0 | Skeleton Queue: 0 | Disabled: 0 | Evaluations: 18 | Eager Calls: 0 | Cost: inf | Search Time: 0.000 | Sample Time: 0.000 | Total Time: 0.000\n",
      "Attempt: 1 | Results: 1 | Depth: 0 | Success: False | Time: 0.017\n",
      "Stream plan (inf, 0, inf): None\n",
      "Action plan (inf, inf): None\n",
      "No plan: increasing complexity from 0 to 1\n",
      "\n",
      "Iteration: 2 | Complexity: 1 | Skeletons: 0 | Skeleton Queue: 0 | Disabled: 0 | Evaluations: 18 | Eager Calls: 0 | Cost: inf | Search Time: 0.017 | Sample Time: 0.000 | Total Time: 0.017\n",
      "Attempt: 1 | Results: 11 | Depth: 0 | Success: False | Time: 0.010\n",
      "Stream plan (inf, 0, inf): None\n",
      "Action plan (inf, inf): None\n",
      "No plan: increasing complexity from 1 to 2\n",
      "\n",
      "Iteration: 3 | Complexity: 2 | Skeletons: 0 | Skeleton Queue: 0 | Disabled: 0 | Evaluations: 18 | Eager Calls: 0 | Cost: inf | Search Time: 0.028 | Sample Time: 0.000 | Total Time: 0.028\n",
      "Attempt: 1 | Results: 24 | Depth: 1 | Success: False | Time: 0.093\n",
      "Attempt: 2 | Results: 61 | Depth: 0 | Success: True | Time: 0.221\n",
      "Stream plan (13, 13, 0.001): [sample-grasp:(4)->(#g2), inverse-kinematics:(4, p8, #g2)->(#q4, #t140), test-cfree-traj-pose:(#t140, 5, p9)->(), test-cfree-traj-pose:(#t140, 4, p8)->(), sample-pose:(4, 1)->(#p2), inverse-kinematics:(4, #p2, #g2)->(#q5, #t141), test-cfree-traj-pose:(#t141, 5, p9)->(), test-cfree-pose-pose:(4, #p2, 5, p9)->(), test-cfree-approach-pose:(4, p8, #g2, 5, p9)->(), test-cfree-approach-pose:(4, #p2, #g2, 5, p9)->(), plan-free-motion:(q6, #q4)->(#t182), plan-free-motion:(#q5, q6)->(#t183), plan-holding-motion:(#q4, #q5, 4, #g2)->(#t184)]\n",
      "Action plan (5, 0.000): [move_free(q6, #q4, #t182), pick(4, p8, #g2, #q4, #t140), move_holding(#q4, #q5, 4, #g2, #t184), place(4, #p2, #g2, #q5, #t141), move_free(#q5, q6, #t183)]\n",
      "iter=0, outs=1) sample-grasp:(4)->[(g3)]\n",
      "iter=inf, outs=0) inverse-kinematics:(4, p8, g3)->[]\n",
      "Sampling for up to 0.250 seconds\n",
      "iter=1, outs=1) sample-grasp:(4)->[(g4)]\n",
      "iter=inf, outs=0) inverse-kinematics:(4, p8, g4)->[]\n",
      "iter=2, outs=1) sample-grasp:(4)->[(g5)]\n",
      "iter=inf, outs=0) inverse-kinematics:(4, p8, g5)->[]\n",
      "iter=3, outs=1) sample-grasp:(4)->[(g6)]\n",
      "iter=inf, outs=0) inverse-kinematics:(4, p8, g6)->[]\n",
      "iter=4, outs=1) sample-grasp:(4)->[(g7)]\n",
      "iter=inf, outs=1) inverse-kinematics:(4, p8, g7)->[(q7, c10)]\n",
      "iter=inf, outs=1) test-cfree-traj-pose:(c10, 5, p9)->[()]\n",
      "iter=inf, outs=1) test-cfree-traj-pose:(c10, 4, p8)->[()]\n",
      "iter=0, outs=1) sample-pose:(4, 1)->[(p10)]\n",
      "iter=inf, outs=1) inverse-kinematics:(4, p10, g7)->[(q8, c11)]\n",
      "iter=inf, outs=1) test-cfree-traj-pose:(c11, 5, p9)->[()]\n",
      "iter=inf, outs=1) test-cfree-pose-pose:(4, p10, 5, p9)->[()]\n",
      "iter=inf, outs=1) test-cfree-approach-pose:(4, p8, g7, 5, p9)->[()]\n",
      "iter=inf, outs=1) test-cfree-approach-pose:(4, p10, g7, 5, p9)->[()]\n",
      "iter=inf, outs=1) plan-free-motion:(q6, q7)->[(c12)]\n",
      "iter=inf, outs=1) plan-free-motion:(q8, q6)->[(c13)]\n",
      "iter=inf, outs=1) plan-holding-motion:(q7, q8, 4, g7)->[(c14)]\n",
      "Summary: {complexity: 2, cost: 0.000, evaluations: 40, iterations: 3, length: 2, run_time: 0.513, sample_time: 0.249, search_time: 0.264, skeletons: 1, solutions: 1, solved: True, timeout: False}\n",
      "\n",
      "Total External Statistics\n",
      "External: sample-pose | n: 5 | p_success: 1.000 | overhead: 0.001\n",
      "External: sample-grasp | n: 8 | p_success: 1.000 | overhead: 0.001\n",
      "External: inverse-kinematics | n: 13 | p_success: 0.500 | overhead: 0.040\n",
      "External: plan-free-motion | n: 6 | p_success: 1.000 | overhead: 0.041\n",
      "External: plan-holding-motion | n: 3 | p_success: 1.000 | overhead: 0.033\n",
      "External: test-cfree-pose-pose | n: 3 | p_success: 1.000 | overhead: 0.000\n",
      "External: test-cfree-approach-pose | n: 6 | p_success: 1.000 | overhead: 0.001\n",
      "External: test-cfree-traj-pose | n: 9 | p_success: 1.000 | overhead: 0.001\n",
      "Wrote: statistics/py2/kuka-tamp.pkl\n"
     ]
    },
    {
     "name": "stdout",
     "output_type": "stream",
     "text": [
      "         372622 function calls (359415 primitive calls) in 0.527 seconds\n",
      "\n",
      "   Ordered by: internal time\n",
      "   List reduced from 1534 to 10 due to restriction <10>\n",
      "\n",
      "   ncalls  tottime  percall  cumtime  percall filename:lineno(function)\n",
      "        3    0.117    0.039    0.117    0.039 pkg/planning/motion/moveit/moveit_py.py:156(plan_joint_motion_py)\n",
      "      528    0.033    0.000    0.033    0.000 {pybullet.calculateInverseKinematics}\n",
      "        2    0.029    0.015    0.029    0.015 {posix.read}\n",
      "        2    0.016    0.008    0.016    0.008 {posix.fork}\n",
      "     3636    0.013    0.000    0.013    0.000 {pybullet.resetJointState}\n",
      "      456    0.011    0.000    0.011    0.000 {method 'read' of 'file' objects}\n",
      "  3886/38    0.009    0.000    0.026    0.001 /usr/lib/python2.7/copy.py:145(deepcopy)\n",
      "     5232    0.005    0.000    0.006    0.000 /home/rnb/Projects/pddlstream/pddlstream/algorithms/../../FastDownward/builds/release64/bin/translate/pddl/conditions.py:230(__init__)\n",
      "    26483    0.004    0.000    0.005    0.000 {isinstance}\n",
      "     2155    0.004    0.000    0.004    0.000 {method 'reduce' of 'numpy.ufunc' objects}\n",
      "\n",
      "\n",
      "\n",
      "Solved: True\n",
      "Cost: 0.000\n",
      "Length: 5\n",
      "Deferred: 0\n",
      "Evaluations: 2\n",
      " 1) move_free q6 q7 c12\n",
      " 2) pick 4 p8 g7 q7 c10\n",
      " 3) move_holding q7 q8 4 g7 c14\n",
      " 4) place 4 p10 g7 q8 c11\n",
      " 5) move_free q8 q6 c13\n"
     ]
    }
   ],
   "source": [
    "log_wFeas = []\n",
    "for _ in range(3):\n",
    "    problem = pddlstream_from_problem_rnb(pscene, robot_body, movable=movable_bodies, checkers=checkers_all,\n",
    "                                          tool_name=\"grip0\", tool_link_name=\"indy0_tcp\", mplan=mplan)\n",
    "    _, _, _, stream_map, init, goal = problem\n",
    "    print('Init:', init)\n",
    "    print('Goal:', goal)\n",
    "    print('Streams:', str_from_object(set(stream_map)))\n",
    "    with Profiler():\n",
    "        with LockRenderer(lock=not True):\n",
    "            with gtimer.block(\"solve\"):\n",
    "                solution = solve(problem, algorithm='adaptive', unit_costs=False, success_cost=INF)\n",
    "            saver.restore()\n",
    "    print_solution(solution)\n",
    "    plan, cost, evaluations = solution\n",
    "    log_wFeas.append(cost)"
   ]
  },
  {
   "cell_type": "code",
   "execution_count": 22,
   "metadata": {
    "scrolled": true
   },
   "outputs": [
    {
     "name": "stdout",
     "output_type": "stream",
     "text": [
      "solve: \t1790.0 ms/3 = 596.7 ms (529.71/721.993)\n",
      "ik_fn: \t555.2 ms/13 = 42.7 ms (1.367/99.13)\n",
      "test: \t22.5 ms/13 = 1.7 ms (1.284/2.682)\n",
      "ReachChecker: \t7.2 ms/13 = 0.6 ms (0.247/1.213)\n",
      "GraspChecker: \t8.2 ms/11 = 0.7 ms (0.556/0.919)\n",
      "free_motion_gen: \t286.7 ms/6 = 47.8 ms (36.361/52.886)\n",
      "holding_motion_gen: \t130.8 ms/3 = 43.6 ms (36.646/52.146)\n",
      "\n"
     ]
    }
   ],
   "source": [
    "print(gtimer)"
   ]
  },
  {
   "cell_type": "code",
   "execution_count": 23,
   "metadata": {},
   "outputs": [
    {
     "name": "stdout",
     "output_type": "stream",
     "text": [
      "[0.0, 0.0, 0.0]\n"
     ]
    }
   ],
   "source": [
    "print(log_wFeas)"
   ]
  },
  {
   "cell_type": "code",
   "execution_count": null,
   "metadata": {},
   "outputs": [],
   "source": []
  },
  {
   "cell_type": "markdown",
   "metadata": {},
   "source": [
    "### Test without IK checkers"
   ]
  },
  {
   "cell_type": "code",
   "execution_count": 24,
   "metadata": {},
   "outputs": [],
   "source": [
    "gtimer = GlobalTimer.instance()\n",
    "gtimer.reset()"
   ]
  },
  {
   "cell_type": "code",
   "execution_count": 25,
   "metadata": {},
   "outputs": [
    {
     "name": "stdout",
     "output_type": "stream",
     "text": [
      "Robot: 0\n",
      "Movable: [4L, 5L]\n",
      "Fixed: [1, 2, 3]\n",
      "body 4 - surface 1\n",
      "body 4 - surface 2\n",
      "body 4 - surface 3\n",
      "body 5 - surface 1\n",
      "body 5 - surface 2\n",
      "body 5 - surface 3\n",
      "('Init:', [('CanMove',), ('Conf', q9), ('AtConf', q9), ('HandEmpty',), ('Graspable', 4L), ('Pose', 4L, p11), ('AtPose', 4L, p11), ('Stackable', 4L, 1), ('Stackable', 4L, 2), ('Supported', 4L, p11, 2), ('Stackable', 4L, 3), ('Graspable', 5L), ('Pose', 5L, p12), ('AtPose', 5L, p12), ('Stackable', 5L, 1), ('Stackable', 5L, 2), ('Supported', 5L, p12, 2), ('Stackable', 5L, 3)])\n",
      "('Goal:', ('and', ('AtConf', q9), ('On', 4L, 1)))\n",
      "('Streams:', '{TrajCollision, inverse-kinematics, plan-free-motion, plan-holding-motion, sample-grasp, sample-pose, test-cfree-approach-pose, test-cfree-pose-pose, test-cfree-traj-pose}')\n",
      "Warning! All actions have no cost. Recommend setting unit_costs=True\n",
      "Warning! Undeclared predicates: ['conf', 'graspable']\n",
      "Setting negate=True for stream [test-cfree-traj-pose]\n",
      "Setting negate=True for stream [test-cfree-pose-pose]\n",
      "Setting negate=True for stream [test-cfree-approach-pose]\n",
      "Streams: [sample-pose:('?o', '?r')->('?p',), sample-grasp:('?o',)->('?g',), inverse-kinematics:('?o', '?p', '?g')->('?q', '?t'), plan-free-motion:('?q1', '?q2')->('?t',), plan-holding-motion:('?q1', '?q2', '?o', '?g')->('?t',)]\n",
      "Functions: []\n",
      "Negated: [test-cfree-pose-pose:('?o1', '?p1', '?o2', '?p2')->(), test-cfree-approach-pose:('?o1', '?p1', '?g1', '?o2', '?p2')->(), test-cfree-traj-pose:('?t', '?o2', '?p2')->()]\n",
      "Optimizers: []\n",
      "\n",
      "Iteration: 1 | Complexity: 0 | Skeletons: 0 | Skeleton Queue: 0 | Disabled: 0 | Evaluations: 18 | Eager Calls: 0 | Cost: inf | Search Time: 0.000 | Sample Time: 0.000 | Total Time: 0.000\n",
      "Attempt: 1 | Results: 1 | Depth: 0 | Success: False | Time: 0.011\n",
      "Stream plan (inf, 0, inf): None\n",
      "Action plan (inf, inf): None\n",
      "No plan: increasing complexity from 0 to 1\n",
      "\n",
      "Iteration: 2 | Complexity: 1 | Skeletons: 0 | Skeleton Queue: 0 | Disabled: 0 | Evaluations: 18 | Eager Calls: 0 | Cost: inf | Search Time: 0.011 | Sample Time: 0.000 | Total Time: 0.011\n",
      "Attempt: 1 | Results: 11 | Depth: 0 | Success: False | Time: 0.011\n",
      "Stream plan (inf, 0, inf): None\n",
      "Action plan (inf, inf): None\n",
      "No plan: increasing complexity from 1 to 2\n",
      "\n",
      "Iteration: 3 | Complexity: 2 | Skeletons: 0 | Skeleton Queue: 0 | Disabled: 0 | Evaluations: 18 | Eager Calls: 0 | Cost: inf | Search Time: 0.023 | Sample Time: 0.000 | Total Time: 0.023\n",
      "Attempt: 1 | Results: 24 | Depth: 1 | Success: False | Time: 0.081\n",
      "Attempt: 2 | Results: 61 | Depth: 0 | Success: True | Time: 0.178\n",
      "Stream plan (13, 13, 0.001): [sample-grasp:(4)->(#g3), inverse-kinematics:(4, p11, #g3)->(#q6, #t199), test-cfree-traj-pose:(#t199, 4, p11)->(), test-cfree-traj-pose:(#t199, 5, p12)->(), sample-pose:(4, 1)->(#p3), inverse-kinematics:(4, #p3, #g3)->(#q7, #t200), test-cfree-traj-pose:(#t200, 5, p12)->(), test-cfree-pose-pose:(4, #p3, 5, p12)->(), test-cfree-approach-pose:(4, p11, #g3, 5, p12)->(), test-cfree-approach-pose:(4, #p3, #g3, 5, p12)->(), plan-free-motion:(q9, #q6)->(#t241), plan-free-motion:(#q7, q9)->(#t242), plan-holding-motion:(#q6, #q7, 4, #g3)->(#t243)]\n",
      "Action plan (5, 0.000): [move_free(q9, #q6, #t241), pick(4, p11, #g3, #q6, #t199), move_holding(#q6, #q7, 4, #g3, #t243), place(4, #p3, #g3, #q7, #t200), move_free(#q7, q9, #t242)]\n",
      "iter=0, outs=1) sample-grasp:(4)->[(g8)]\n",
      "iter=inf, outs=0) inverse-kinematics:(4, p11, g8)->[]\n",
      "Sampling for up to -0.099 seconds\n",
      "Sampling while complexity <= 2\n",
      "\n",
      "Iteration: 4 | Complexity: 2 | Skeletons: 1 | Skeleton Queue: 1 | Disabled: 0 | Evaluations: 19 | Eager Calls: 0 | Cost: inf | Search Time: 0.208 | Sample Time: 0.304 | Total Time: 0.512\n",
      "Attempt: 1 | Results: 23 | Depth: 0 | Success: False | Time: 0.015\n",
      "Stream plan (inf, 0, inf): None\n",
      "Action plan (inf, inf): None\n",
      "No plan: increasing complexity from 2 to 3\n",
      "Sampling for up to -0.081 seconds\n",
      "Sampling while complexity <= 3\n",
      "iter=1, outs=1) sample-grasp:(4)->[(g9)]\n",
      "iter=inf, outs=1) inverse-kinematics:(4, p11, g9)->[(q10, c15)]\n",
      "iter=inf, outs=1) test-cfree-traj-pose:(c15, 4, p11)->[()]\n",
      "iter=inf, outs=1) test-cfree-traj-pose:(c15, 5, p12)->[()]\n",
      "iter=0, outs=1) sample-pose:(4, 1)->[(p13)]\n",
      "iter=inf, outs=0) inverse-kinematics:(4, p13, g9)->[]\n",
      "iter=1, outs=1) sample-pose:(4, 1)->[(p14)]\n",
      "iter=inf, outs=0) inverse-kinematics:(4, p14, g9)->[]\n",
      "\n",
      "Iteration: 5 | Complexity: 3 | Skeletons: 1 | Skeleton Queue: 2 | Disabled: 0 | Evaluations: 29 | Eager Calls: 0 | Cost: inf | Search Time: 0.226 | Sample Time: 0.626 | Total Time: 0.852\n",
      "Attempt: 1 | Results: 48 | Depth: 1 | Success: False | Time: 0.099\n",
      "Attempt: 2 | Results: 158 | Depth: 1 | Success: False | Time: 0.282\n",
      "Attempt: 3 | Results: 338 | Depth: 0 | Success: True | Time: 0.555\n",
      "Stream plan (25, 19, 0.001): [sample-grasp:(4)->(g9), inverse-kinematics:(4, p11, g9)->(q10, c15), test-cfree-traj-pose:(c15, 4, p11)->(), test-cfree-traj-pose:(c15, 5, p12)->(), sample-grasp:(4)->(g8), sample-pose:(4, 1)->(p14), inverse-kinematics:(4, p14, g8)->(#q11, #t389), test-cfree-traj-pose:(#t389, 5, p12)->(), sample-pose:(4, 2)->(#p4), inverse-kinematics:(4, #p4, g9)->(#q10, #t277), test-cfree-traj-pose:(#t277, 5, p12)->(), inverse-kinematics:(4, #p4, g8)->(#q9, #t276), test-cfree-traj-pose:(#t276, 5, p12)->(), test-cfree-traj-pose:(#t276, 4, #p4)->(), test-cfree-pose-pose:(4, p14, 5, p12)->(), test-cfree-pose-pose:(4, #p4, 5, p12)->(), test-cfree-approach-pose:(4, p14, g8, 5, p12)->(), test-cfree-approach-pose:(4, p11, g9, 5, p12)->(), test-cfree-approach-pose:(4, #p4, g9, 5, p12)->(), test-cfree-approach-pose:(4, #p4, g8, 5, p12)->(), plan-free-motion:(q9, q10)->(#t575), plan-free-motion:(#q11, q9)->(#t574), plan-free-motion:(#q10, #q9)->(#t576), plan-holding-motion:(q10, #q10, 4, g9)->(#t573), plan-holding-motion:(#q9, #q11, 4, g8)->(#t572)]\n",
      "Action plan (9, 0.000): [move_free(q9, q10, #t575), pick(4, p11, g9, q10, c15), move_holding(q10, #q10, 4, g9, #t573), place(4, #p4, g9, #q10, #t277), move_free(#q10, #q9, #t576), pick(4, #p4, g8, #q9, #t276), move_holding(#q9, #q11, 4, g8, #t572), place(4, p14, g8, #q11, #t389), move_free(#q11, q9, #t574)]\n",
      "Sampling for up to 0.169 seconds\n",
      "iter=inf, outs=0) inverse-kinematics:(4, p13, g8)->[]\n",
      "iter=inf, outs=0) inverse-kinematics:(4, p14, g8)->[]\n",
      "iter=2, outs=1) sample-pose:(4, 1)->[(p15)]\n",
      "iter=inf, outs=0) inverse-kinematics:(4, p15, g8)->[]\n",
      "Sampling while complexity <= 3\n",
      "iter=inf, outs=1) inverse-kinematics:(4, p15, g9)->[(q14, c16)]\n",
      "iter=inf, outs=1) test-cfree-traj-pose:(c16, 5, p12)->[()]\n",
      "iter=0, outs=1) sample-pose:(4, 2)->[(p16)]\n",
      "iter=inf, outs=0) inverse-kinematics:(4, p16, g9)->[]\n",
      "iter=1, outs=1) sample-pose:(4, 2)->[(p17)]\n",
      "iter=inf, outs=0) inverse-kinematics:(4, p17, g9)->[]\n",
      "iter=2, outs=1) sample-grasp:(4)->[(g10)]\n",
      "iter=inf, outs=0) inverse-kinematics:(4, p13, g10)->[]\n",
      "iter=inf, outs=0) inverse-kinematics:(4, p14, g10)->[]\n",
      "iter=inf, outs=0) inverse-kinematics:(4, p15, g10)->[]\n",
      "iter=inf, outs=0) inverse-kinematics:(4, p11, g10)->[]\n",
      "\n",
      "Iteration: 6 | Complexity: 3 | Skeletons: 2 | Skeleton Queue: 8 | Disabled: 0 | Evaluations: 40 | Eager Calls: 0 | Cost: inf | Search Time: 0.812 | Sample Time: 1.833 | Total Time: 2.645\n",
      "Attempt: 1 | Results: 136 | Depth: 0 | Success: False | Time: 0.054\n",
      "Stream plan (inf, 0, inf): None\n",
      "Action plan (inf, inf): None\n",
      "No plan: increasing complexity from 3 to 4\n",
      "Sampling for up to -0.967 seconds\n",
      "Sampling while complexity <= 4\n",
      "iter=inf, outs=1) test-cfree-pose-pose:(4, p15, 5, p12)->[()]\n",
      "iter=inf, outs=1) test-cfree-approach-pose:(4, p11, g9, 5, p12)->[()]\n",
      "iter=inf, outs=1) test-cfree-approach-pose:(4, p15, g9, 5, p12)->[()]\n",
      "iter=inf, outs=1) plan-free-motion:(q9, q10)->[(c17)]\n",
      "iter=inf, outs=1) plan-free-motion:(q14, q9)->[(c18)]\n",
      "iter=inf, outs=1) plan-holding-motion:(q10, q14, 4, g9)->[(c19)]\n",
      "Summary: {complexity: 4, cost: 0.000, evaluations: 46, iterations: 6, length: 2, run_time: 2.841, sample_time: 1.971, search_time: 0.870, skeletons: 2, solutions: 1, solved: True, timeout: False}\n",
      "\n",
      "Total External Statistics\n",
      "External: sample-pose | n: 10 | p_success: 1.000 | overhead: 0.001\n",
      "External: sample-grasp | n: 11 | p_success: 1.000 | overhead: 0.001\n",
      "External: inverse-kinematics | n: 27 | p_success: 0.321 | overhead: 0.085\n",
      "External: plan-free-motion | n: 8 | p_success: 1.000 | overhead: 0.043\n",
      "External: plan-holding-motion | n: 4 | p_success: 1.000 | overhead: 0.033\n",
      "External: test-cfree-pose-pose | n: 4 | p_success: 1.000 | overhead: 0.000\n",
      "External: test-cfree-approach-pose | n: 8 | p_success: 1.000 | overhead: 0.001\n",
      "External: test-cfree-traj-pose | n: 12 | p_success: 1.000 | overhead: 0.001\n",
      "Wrote: statistics/py2/kuka-tamp.pkl\n"
     ]
    },
    {
     "name": "stdout",
     "output_type": "stream",
     "text": [
      "         2412642 function calls (2366515 primitive calls) in 2.851 seconds\n",
      "\n",
      "   Ordered by: internal time\n",
      "   List reduced from 1508 to 10 due to restriction <10>\n",
      "\n",
      "   ncalls  tottime  percall  cumtime  percall filename:lineno(function)\n",
      "    12956    0.801    0.000    0.801    0.000 {pybullet.calculateInverseKinematics}\n",
      "    78756    0.264    0.000    0.264    0.000 {pybullet.resetJointState}\n",
      "        3    0.107    0.036    0.107    0.036 pkg/planning/motion/moveit/moveit_py.py:156(plan_joint_motion_py)\n",
      "    13028    0.086    0.000    0.227    0.000 /usr/local/lib/python2.7/dist-packages/numpy/core/numeric.py:2508(within_tol)\n",
      "        5    0.071    0.014    0.071    0.014 {posix.read}\n",
      "    39697    0.059    0.000    0.059    0.000 {method 'reduce' of 'numpy.ufunc' objects}\n",
      "    26056    0.051    0.000    0.102    0.000 /usr/local/lib/python2.7/dist-packages/numpy/core/numeric.py:2656(seterr)\n",
      "    13028    0.046    0.000    0.422    0.000 /usr/local/lib/python2.7/dist-packages/numpy/core/numeric.py:2431(isclose)\n",
      "    39288    0.044    0.000    0.122    0.000 /usr/local/lib/python2.7/dist-packages/numpy/core/fromnumeric.py:69(_wrapreduction)\n",
      "    40527    0.037    0.000    0.037    0.000 {numpy.array}\n",
      "\n",
      "\n",
      "\n",
      "Solved: True\n",
      "Cost: 0.000\n",
      "Length: 5\n",
      "Deferred: 0\n",
      "Evaluations: 2\n",
      " 1) move_free q9 q10 c17\n",
      " 2) pick 4 p11 g9 q10 c15\n",
      " 3) move_holding q10 q14 4 g9 c19\n",
      " 4) place 4 p15 g9 q14 c16\n",
      " 5) move_free q14 q9 c18\n",
      "Robot: 0\n",
      "Movable: [4L, 5L]\n",
      "Fixed: [1, 2, 3]\n",
      "body 4 - surface 1\n",
      "body 4 - surface 2\n",
      "body 4 - surface 3\n",
      "body 5 - surface 1\n",
      "body 5 - surface 2\n",
      "body 5 - surface 3\n",
      "('Init:', [('CanMove',), ('Conf', q15), ('AtConf', q15), ('HandEmpty',), ('Graspable', 4L), ('Pose', 4L, p18), ('AtPose', 4L, p18), ('Stackable', 4L, 1), ('Stackable', 4L, 2), ('Supported', 4L, p18, 2), ('Stackable', 4L, 3), ('Graspable', 5L), ('Pose', 5L, p19), ('AtPose', 5L, p19), ('Stackable', 5L, 1), ('Stackable', 5L, 2), ('Supported', 5L, p19, 2), ('Stackable', 5L, 3)])\n",
      "('Goal:', ('and', ('AtConf', q15), ('On', 4L, 1)))\n",
      "('Streams:', '{TrajCollision, inverse-kinematics, plan-free-motion, plan-holding-motion, sample-grasp, sample-pose, test-cfree-approach-pose, test-cfree-pose-pose, test-cfree-traj-pose}')\n",
      "Warning! All actions have no cost. Recommend setting unit_costs=True\n",
      "Warning! Undeclared predicates: ['conf', 'graspable']\n",
      "Setting negate=True for stream [test-cfree-approach-pose]\n",
      "Setting negate=True for stream [test-cfree-traj-pose]\n",
      "Setting negate=True for stream [test-cfree-pose-pose]\n",
      "Streams: [sample-pose:('?o', '?r')->('?p',), sample-grasp:('?o',)->('?g',), inverse-kinematics:('?o', '?p', '?g')->('?q', '?t'), plan-free-motion:('?q1', '?q2')->('?t',), plan-holding-motion:('?q1', '?q2', '?o', '?g')->('?t',)]\n",
      "Functions: []\n",
      "Negated: [test-cfree-pose-pose:('?o1', '?p1', '?o2', '?p2')->(), test-cfree-approach-pose:('?o1', '?p1', '?g1', '?o2', '?p2')->(), test-cfree-traj-pose:('?t', '?o2', '?p2')->()]\n",
      "Optimizers: []\n",
      "\n",
      "Iteration: 1 | Complexity: 0 | Skeletons: 0 | Skeleton Queue: 0 | Disabled: 0 | Evaluations: 18 | Eager Calls: 0 | Cost: inf | Search Time: 0.000 | Sample Time: 0.000 | Total Time: 0.000\n",
      "Attempt: 1 | Results: 1 | Depth: 0 | Success: False | Time: 0.017\n",
      "Stream plan (inf, 0, inf): None\n",
      "Action plan (inf, inf): None\n",
      "No plan: increasing complexity from 0 to 1\n",
      "\n",
      "Iteration: 2 | Complexity: 1 | Skeletons: 0 | Skeleton Queue: 0 | Disabled: 0 | Evaluations: 18 | Eager Calls: 0 | Cost: inf | Search Time: 0.018 | Sample Time: 0.000 | Total Time: 0.018\n",
      "Attempt: 1 | Results: 11 | Depth: 0 | Success: False | Time: 0.016\n",
      "Stream plan (inf, 0, inf): None\n",
      "Action plan (inf, inf): None\n",
      "No plan: increasing complexity from 1 to 2\n",
      "\n",
      "Iteration: 3 | Complexity: 2 | Skeletons: 0 | Skeleton Queue: 0 | Disabled: 0 | Evaluations: 18 | Eager Calls: 0 | Cost: inf | Search Time: 0.035 | Sample Time: 0.000 | Total Time: 0.035\n",
      "Attempt: 1 | Results: 24 | Depth: 1 | Success: False | Time: 0.082\n",
      "Attempt: 2 | Results: 61 | Depth: 0 | Success: True | Time: 0.180\n",
      "Stream plan (13, 13, 0.001): [sample-grasp:(4)->(#g4), sample-pose:(4, 1)->(#p6), inverse-kinematics:(4, #p6, #g4)->(#q15, #t617), test-cfree-traj-pose:(#t617, 5, p19)->(), inverse-kinematics:(4, p18, #g4)->(#q14, #t616), test-cfree-traj-pose:(#t616, 4, p18)->(), test-cfree-traj-pose:(#t616, 5, p19)->(), test-cfree-pose-pose:(4, #p6, 5, p19)->(), test-cfree-approach-pose:(4, p18, #g4, 5, p19)->(), test-cfree-approach-pose:(4, #p6, #g4, 5, p19)->(), plan-free-motion:(q15, #q14)->(#t658), plan-free-motion:(#q15, q15)->(#t659), plan-holding-motion:(#q14, #q15, 4, #g4)->(#t660)]\n",
      "Action plan (5, 0.000): [move_free(q15, #q14, #t658), pick(4, p18, #g4, #q14, #t616), move_holding(#q14, #q15, 4, #g4, #t660), place(4, #p6, #g4, #q15, #t617), move_free(#q15, q15, #t659)]\n",
      "iter=0, outs=1) sample-grasp:(4)->[(g11)]\n",
      "iter=0, outs=1) sample-pose:(4, 1)->[(p20)]\n",
      "iter=inf, outs=0) inverse-kinematics:(4, p20, g11)->[]\n",
      "Sampling for up to 0.157 seconds\n",
      "iter=1, outs=1) sample-pose:(4, 1)->[(p21)]\n",
      "iter=inf, outs=0) inverse-kinematics:(4, p21, g11)->[]\n",
      "Sampling while complexity <= 2\n",
      "\n",
      "Iteration: 4 | Complexity: 2 | Skeletons: 1 | Skeleton Queue: 2 | Disabled: 0 | Evaluations: 23 | Eager Calls: 0 | Cost: inf | Search Time: 0.223 | Sample Time: 0.334 | Total Time: 0.556\n",
      "Attempt: 1 | Results: 22 | Depth: 0 | Success: False | Time: 0.017\n",
      "Stream plan (inf, 0, inf): None\n",
      "Action plan (inf, inf): None\n",
      "No plan: increasing complexity from 2 to 3\n",
      "Sampling for up to -0.094 seconds\n",
      "Sampling while complexity <= 3\n",
      "iter=1, outs=1) sample-grasp:(4)->[(g12)]\n",
      "iter=inf, outs=0) inverse-kinematics:(4, p20, g12)->[]\n",
      "iter=inf, outs=1) inverse-kinematics:(4, p21, g12)->[(q19, c20)]\n",
      "iter=inf, outs=1) test-cfree-traj-pose:(c20, 5, p19)->[()]\n",
      "iter=inf, outs=1) inverse-kinematics:(4, p18, g12)->[(q20, c21)]\n",
      "iter=inf, outs=1) test-cfree-traj-pose:(c21, 4, p18)->[()]\n",
      "iter=inf, outs=1) test-cfree-traj-pose:(c21, 5, p19)->[()]\n",
      "iter=inf, outs=1) test-cfree-pose-pose:(4, p21, 5, p19)->[()]\n",
      "iter=inf, outs=1) test-cfree-approach-pose:(4, p18, g12, 5, p19)->[()]\n",
      "iter=inf, outs=1) test-cfree-approach-pose:(4, p21, g12, 5, p19)->[()]\n",
      "iter=inf, outs=1) plan-free-motion:(q15, q20)->[(c22)]\n",
      "iter=inf, outs=1) plan-free-motion:(q19, q15)->[(c23)]\n",
      "iter=inf, outs=1) plan-holding-motion:(q20, q19, 4, g12)->[(c24)]\n",
      "Summary: {complexity: 3, cost: 0.000, evaluations: 39, iterations: 4, length: 2, run_time: 0.819, sample_time: 0.574, search_time: 0.245, skeletons: 1, solutions: 1, solved: True, timeout: False}\n",
      "\n",
      "Total External Statistics\n",
      "External: sample-pose | n: 12 | p_success: 1.000 | overhead: 0.001\n",
      "External: sample-grasp | n: 13 | p_success: 1.000 | overhead: 0.001\n",
      "External: inverse-kinematics | n: 32 | p_success: 0.333 | overhead: 0.085\n",
      "External: plan-free-motion | n: 10 | p_success: 1.000 | overhead: 0.044\n",
      "External: plan-holding-motion | n: 5 | p_success: 1.000 | overhead: 0.033\n",
      "External: test-cfree-pose-pose | n: 5 | p_success: 1.000 | overhead: 0.000\n",
      "External: test-cfree-approach-pose | n: 10 | p_success: 1.000 | overhead: 0.001\n",
      "External: test-cfree-traj-pose | n: 15 | p_success: 1.000 | overhead: 0.001\n",
      "Wrote: statistics/py2/kuka-tamp.pkl\n",
      "         573503 function calls (559595 primitive calls) in 0.847 seconds\n",
      "\n",
      "   Ordered by: internal time\n",
      "   List reduced from 1504 to 10 due to restriction <10>\n",
      "\n",
      "   ncalls  tottime  percall  cumtime  percall filename:lineno(function)\n",
      "     2881    0.183    0.000    0.183    0.000 {pybullet.calculateInverseKinematics}\n",
      "        3    0.106    0.035    0.107    0.036 pkg/planning/motion/moveit/moveit_py.py:156(plan_joint_motion_py)\n",
      "    18018    0.064    0.000    0.064    0.000 {pybullet.resetJointState}\n",
      "        2    0.021    0.011    0.021    0.011 {posix.read}\n",
      "     2916    0.020    0.000    0.051    0.000 /usr/local/lib/python2.7/dist-packages/numpy/core/numeric.py:2508(within_tol)\n",
      "     9262    0.015    0.000    0.015    0.000 {method 'reduce' of 'numpy.ufunc' objects}\n",
      "      600    0.013    0.000    0.013    0.000 {method 'read' of 'file' objects}\n",
      "        2    0.013    0.006    0.013    0.006 {posix.fork}\n",
      "     5832    0.011    0.000    0.022    0.000 /usr/local/lib/python2.7/dist-packages/numpy/core/numeric.py:2656(seterr)\n",
      "     2916    0.011    0.000    0.097    0.000 /usr/local/lib/python2.7/dist-packages/numpy/core/numeric.py:2431(isclose)\n",
      "\n",
      "\n",
      "\n",
      "Solved: True\n",
      "Cost: 0.000\n",
      "Length: 5\n",
      "Deferred: 0\n",
      "Evaluations: 2\n",
      " 1) move_free q15 q20 c22\n",
      " 2) pick 4 p18 g12 q20 c21\n",
      " 3) move_holding q20 q19 4 g12 c24\n",
      " 4) place 4 p21 g12 q19 c20\n",
      " 5) move_free q19 q15 c23\n",
      "Robot: 0\n",
      "Movable: [4L, 5L]\n",
      "Fixed: [1, 2, 3]\n",
      "body 4 - surface 1\n",
      "body 4 - surface 2\n",
      "body 4 - surface 3\n",
      "body 5 - surface 1\n",
      "body 5 - surface 2\n",
      "body 5 - surface 3\n",
      "('Init:', [('CanMove',), ('Conf', q21), ('AtConf', q21), ('HandEmpty',), ('Graspable', 4L), ('Pose', 4L, p22), ('AtPose', 4L, p22), ('Stackable', 4L, 1), ('Stackable', 4L, 2), ('Supported', 4L, p22, 2), ('Stackable', 4L, 3), ('Graspable', 5L), ('Pose', 5L, p23), ('AtPose', 5L, p23), ('Stackable', 5L, 1), ('Stackable', 5L, 2), ('Supported', 5L, p23, 2), ('Stackable', 5L, 3)])\n",
      "('Goal:', ('and', ('AtConf', q21), ('On', 4L, 1)))\n",
      "('Streams:', '{TrajCollision, inverse-kinematics, plan-free-motion, plan-holding-motion, sample-grasp, sample-pose, test-cfree-approach-pose, test-cfree-pose-pose, test-cfree-traj-pose}')\n",
      "Warning! All actions have no cost. Recommend setting unit_costs=True\n",
      "Warning! Undeclared predicates: ['conf', 'graspable']\n",
      "Setting negate=True for stream [test-cfree-pose-pose]\n",
      "Setting negate=True for stream [test-cfree-traj-pose]\n",
      "Setting negate=True for stream [test-cfree-approach-pose]\n",
      "Streams: [sample-pose:('?o', '?r')->('?p',), sample-grasp:('?o',)->('?g',), inverse-kinematics:('?o', '?p', '?g')->('?q', '?t'), plan-free-motion:('?q1', '?q2')->('?t',), plan-holding-motion:('?q1', '?q2', '?o', '?g')->('?t',)]\n",
      "Functions: []\n",
      "Negated: [test-cfree-pose-pose:('?o1', '?p1', '?o2', '?p2')->(), test-cfree-approach-pose:('?o1', '?p1', '?g1', '?o2', '?p2')->(), test-cfree-traj-pose:('?t', '?o2', '?p2')->()]\n",
      "Optimizers: []\n",
      "\n",
      "Iteration: 1 | Complexity: 0 | Skeletons: 0 | Skeleton Queue: 0 | Disabled: 0 | Evaluations: 18 | Eager Calls: 0 | Cost: inf | Search Time: 0.000 | Sample Time: 0.000 | Total Time: 0.000\n",
      "Attempt: 1 | Results: 1 | Depth: 0 | Success: False | Time: 0.008\n",
      "Stream plan (inf, 0, inf): None\n",
      "Action plan (inf, inf): None\n",
      "No plan: increasing complexity from 0 to 1\n",
      "\n",
      "Iteration: 2 | Complexity: 1 | Skeletons: 0 | Skeleton Queue: 0 | Disabled: 0 | Evaluations: 18 | Eager Calls: 0 | Cost: inf | Search Time: 0.008 | Sample Time: 0.000 | Total Time: 0.008\n",
      "Attempt: 1 | Results: 11 | Depth: 0 | Success: False | Time: 0.010\n",
      "Stream plan (inf, 0, inf): None\n",
      "Action plan (inf, inf): None\n",
      "No plan: increasing complexity from 1 to 2\n",
      "\n",
      "Iteration: 3 | Complexity: 2 | Skeletons: 0 | Skeleton Queue: 0 | Disabled: 0 | Evaluations: 18 | Eager Calls: 0 | Cost: inf | Search Time: 0.018 | Sample Time: 0.000 | Total Time: 0.018\n",
      "Attempt: 1 | Results: 24 | Depth: 1 | Success: False | Time: 0.085\n"
     ]
    },
    {
     "name": "stdout",
     "output_type": "stream",
     "text": [
      "Attempt: 2 | Results: 61 | Depth: 0 | Success: True | Time: 0.200\n",
      "Stream plan (13, 13, 0.001): [sample-grasp:(4)->(#g5), inverse-kinematics:(4, p22, #g5)->(#q16, #t679), test-cfree-traj-pose:(#t679, 5, p23)->(), sample-pose:(4, 1)->(#p7), inverse-kinematics:(4, #p7, #g5)->(#q17, #t680), test-cfree-traj-pose:(#t680, 5, p23)->(), test-cfree-traj-pose:(#t679, 4, p22)->(), test-cfree-pose-pose:(4, #p7, 5, p23)->(), test-cfree-approach-pose:(4, p22, #g5, 5, p23)->(), test-cfree-approach-pose:(4, #p7, #g5, 5, p23)->(), plan-free-motion:(#q17, q21)->(#t721), plan-free-motion:(q21, #q16)->(#t723), plan-holding-motion:(#q16, #q17, 4, #g5)->(#t722)]\n",
      "Action plan (5, 0.000): [move_free(q21, #q16, #t723), pick(4, p22, #g5, #q16, #t679), move_holding(#q16, #q17, 4, #g5, #t722), place(4, #p7, #g5, #q17, #t680), move_free(#q17, q21, #t721)]\n",
      "iter=0, outs=1) sample-grasp:(4)->[(g13)]\n",
      "iter=inf, outs=0) inverse-kinematics:(4, p22, g13)->[]\n",
      "Sampling for up to 0.152 seconds\n",
      "iter=1, outs=1) sample-grasp:(4)->[(g14)]\n",
      "iter=inf, outs=0) inverse-kinematics:(4, p22, g14)->[]\n",
      "Sampling while complexity <= 2\n",
      "\n",
      "Iteration: 4 | Complexity: 2 | Skeletons: 1 | Skeleton Queue: 1 | Disabled: 0 | Evaluations: 20 | Eager Calls: 0 | Cost: inf | Search Time: 0.226 | Sample Time: 0.344 | Total Time: 0.570\n",
      "Attempt: 1 | Results: 27 | Depth: 0 | Success: False | Time: 0.031\n",
      "Stream plan (inf, 0, inf): None\n",
      "Action plan (inf, inf): None\n",
      "No plan: increasing complexity from 2 to 3\n",
      "Sampling for up to -0.086 seconds\n",
      "Sampling while complexity <= 3\n",
      "\n",
      "Iteration: 5 | Complexity: 3 | Skeletons: 1 | Skeleton Queue: 1 | Disabled: 0 | Evaluations: 20 | Eager Calls: 0 | Cost: inf | Search Time: 0.258 | Sample Time: 0.344 | Total Time: 0.602\n",
      "Attempt: 1 | Results: 29 | Depth: 0 | Success: False | Time: 0.036\n",
      "Stream plan (inf, 0, inf): None\n",
      "Action plan (inf, inf): None\n",
      "No plan: increasing complexity from 3 to 4\n",
      "Sampling for up to -0.049 seconds\n",
      "Sampling while complexity <= 4\n",
      "iter=2, outs=1) sample-grasp:(4)->[(g15)]\n",
      "iter=inf, outs=0) inverse-kinematics:(4, p22, g15)->[]\n",
      "\n",
      "Iteration: 6 | Complexity: 4 | Skeletons: 1 | Skeleton Queue: 1 | Disabled: 0 | Evaluations: 21 | Eager Calls: 0 | Cost: inf | Search Time: 0.296 | Sample Time: 0.419 | Total Time: 0.715\n",
      "Attempt: 1 | Results: 35 | Depth: 0 | Success: False | Time: 0.033\n",
      "Stream plan (inf, 0, inf): None\n",
      "Action plan (inf, inf): None\n",
      "No plan: increasing complexity from 4 to 5\n",
      "Sampling for up to -0.090 seconds\n",
      "Sampling while complexity <= 5\n",
      "iter=3, outs=1) sample-grasp:(4)->[(g16)]\n",
      "iter=inf, outs=1) inverse-kinematics:(4, p22, g16)->[(q22, c25)]\n",
      "iter=inf, outs=1) test-cfree-traj-pose:(c25, 5, p23)->[()]\n",
      "iter=0, outs=1) sample-pose:(4, 1)->[(p24)]\n",
      "iter=inf, outs=0) inverse-kinematics:(4, p24, g16)->[]\n",
      "iter=1, outs=1) sample-pose:(4, 1)->[(p25)]\n",
      "iter=inf, outs=0) inverse-kinematics:(4, p25, g16)->[]\n",
      "iter=2, outs=1) sample-pose:(4, 1)->[(p26)]\n",
      "iter=inf, outs=1) inverse-kinematics:(4, p26, g16)->[(q23, c26)]\n",
      "iter=inf, outs=1) test-cfree-traj-pose:(c26, 5, p23)->[()]\n",
      "iter=inf, outs=1) test-cfree-traj-pose:(c25, 4, p22)->[()]\n",
      "iter=inf, outs=1) test-cfree-pose-pose:(4, p26, 5, p23)->[()]\n",
      "iter=inf, outs=1) test-cfree-approach-pose:(4, p22, g16, 5, p23)->[()]\n",
      "iter=inf, outs=1) test-cfree-approach-pose:(4, p26, g16, 5, p23)->[()]\n",
      "iter=inf, outs=1) plan-free-motion:(q23, q21)->[(c27)]\n",
      "iter=inf, outs=1) plan-free-motion:(q21, q22)->[(c28)]\n",
      "iter=inf, outs=1) plan-holding-motion:(q22, q23, 4, g16)->[(c29)]\n",
      "Summary: {complexity: 5, cost: 0.000, evaluations: 43, iterations: 6, length: 2, run_time: 1.223, sample_time: 0.885, search_time: 0.338, skeletons: 1, solutions: 1, solved: True, timeout: False}\n",
      "\n",
      "Total External Statistics\n",
      "External: sample-pose | n: 15 | p_success: 1.000 | overhead: 0.001\n",
      "External: sample-grasp | n: 17 | p_success: 1.000 | overhead: 0.001\n",
      "External: inverse-kinematics | n: 39 | p_success: 0.325 | overhead: 0.089\n",
      "External: plan-free-motion | n: 12 | p_success: 1.000 | overhead: 0.046\n",
      "External: plan-holding-motion | n: 6 | p_success: 1.000 | overhead: 0.035\n",
      "External: test-cfree-pose-pose | n: 6 | p_success: 1.000 | overhead: 0.000\n",
      "External: test-cfree-approach-pose | n: 12 | p_success: 1.000 | overhead: 0.001\n",
      "External: test-cfree-traj-pose | n: 18 | p_success: 1.000 | overhead: 0.001\n",
      "Wrote: statistics/py2/kuka-tamp.pkl\n",
      "         796912 function calls (781082 primitive calls) in 1.235 seconds\n",
      "\n",
      "   Ordered by: internal time\n",
      "   List reduced from 1504 to 10 due to restriction <10>\n",
      "\n",
      "   ncalls  tottime  percall  cumtime  percall filename:lineno(function)\n",
      "     5040    0.313    0.000    0.313    0.000 {pybullet.calculateInverseKinematics}\n",
      "        3    0.123    0.041    0.124    0.041 pkg/planning/motion/moveit/moveit_py.py:156(plan_joint_motion_py)\n",
      "    30972    0.103    0.000    0.103    0.000 {pybullet.resetJointState}\n",
      "     5082    0.034    0.000    0.088    0.000 /usr/local/lib/python2.7/dist-packages/numpy/core/numeric.py:2508(within_tol)\n",
      "        2    0.031    0.015    0.031    0.015 {posix.read}\n",
      "    15772    0.024    0.000    0.024    0.000 {method 'reduce' of 'numpy.ufunc' objects}\n",
      "    10164    0.019    0.000    0.038    0.000 /usr/local/lib/python2.7/dist-packages/numpy/core/numeric.py:2656(seterr)\n",
      "     5082    0.018    0.000    0.164    0.000 /usr/local/lib/python2.7/dist-packages/numpy/core/numeric.py:2431(isclose)\n",
      "    15440    0.017    0.000    0.048    0.000 /usr/local/lib/python2.7/dist-packages/numpy/core/fromnumeric.py:69(_wrapreduction)\n",
      "    16495    0.016    0.000    0.016    0.000 {numpy.array}\n",
      "\n",
      "\n",
      "\n",
      "Solved: True\n",
      "Cost: 0.000\n",
      "Length: 5\n",
      "Deferred: 0\n",
      "Evaluations: 2\n",
      " 1) move_free q21 q22 c28\n",
      " 2) pick 4 p22 g16 q22 c25\n",
      " 3) move_holding q22 q23 4 g16 c29\n",
      " 4) place 4 p26 g16 q23 c26\n",
      " 5) move_free q23 q21 c27\n"
     ]
    }
   ],
   "source": [
    "log_woFeas = []\n",
    "for _ in range(3):\n",
    "    problem = pddlstream_from_problem_rnb(pscene, robot_body, movable=movable_bodies, checkers=[],\n",
    "                                          tool_name=\"grip0\", tool_link_name=\"indy0_tcp\", mplan=mplan)\n",
    "    _, _, _, stream_map, init, goal = problem\n",
    "    print('Init:', init)\n",
    "    print('Goal:', goal)\n",
    "    print('Streams:', str_from_object(set(stream_map)))\n",
    "    with Profiler():\n",
    "        with LockRenderer(lock=not True):\n",
    "            with gtimer.block(\"solve\"):\n",
    "                solution = solve(problem, algorithm='adaptive', unit_costs=False, success_cost=INF)\n",
    "            saver.restore()\n",
    "    print_solution(solution)\n",
    "    plan, cost, evaluations = solution\n",
    "    log_woFeas.append(cost)"
   ]
  },
  {
   "cell_type": "code",
   "execution_count": 26,
   "metadata": {
    "scrolled": true
   },
   "outputs": [
    {
     "name": "stdout",
     "output_type": "stream",
     "text": [
      "solve: \t4964.1 ms/3 = 1654.7 ms (851.773/2869.74)\n",
      "ik_fn: \t2972.1 ms/26 = 114.3 ms (6.034/301.155)\n",
      "test: \t14.8 ms/26 = 0.6 ms (0.264/1.265)\n",
      "free_motion_gen: \t302.3 ms/6 = 50.4 ms (35.213/71.263)\n",
      "holding_motion_gen: \t112.7 ms/3 = 37.6 ms (33.651/44.342)\n",
      "\n"
     ]
    }
   ],
   "source": [
    "print(gtimer)"
   ]
  },
  {
   "cell_type": "code",
   "execution_count": 27,
   "metadata": {},
   "outputs": [
    {
     "name": "stdout",
     "output_type": "stream",
     "text": [
      "[0.0, 0.0, 0.0]\n"
     ]
    }
   ],
   "source": [
    "print(log_wFeas)"
   ]
  },
  {
   "cell_type": "code",
   "execution_count": null,
   "metadata": {},
   "outputs": [],
   "source": []
  },
  {
   "cell_type": "markdown",
   "metadata": {},
   "source": [
    "## play plan"
   ]
  },
  {
   "cell_type": "code",
   "execution_count": 25,
   "metadata": {},
   "outputs": [],
   "source": [
    "SIMULATE = False\n",
    "if (plan is None) or not has_gui():\n",
    "    disconnect()\n",
    "else:\n",
    "    command = postprocess_plan(plan)\n",
    "    if SIMULATE:\n",
    "#         wait_for_user('Simulate?')\n",
    "        command.control()\n",
    "    else:\n",
    "#         wait_for_user('Execute?')\n",
    "        #command.step()\n",
    "        command.refine(num_steps=10).execute(time_step=0.001)"
   ]
  },
  {
   "cell_type": "code",
   "execution_count": null,
   "metadata": {},
   "outputs": [],
   "source": []
  },
  {
   "cell_type": "code",
   "execution_count": null,
   "metadata": {},
   "outputs": [],
   "source": []
  },
  {
   "cell_type": "code",
   "execution_count": null,
   "metadata": {},
   "outputs": [],
   "source": []
  },
  {
   "cell_type": "code",
   "execution_count": null,
   "metadata": {},
   "outputs": [],
   "source": []
  },
  {
   "cell_type": "code",
   "execution_count": null,
   "metadata": {},
   "outputs": [],
   "source": []
  },
  {
   "cell_type": "code",
   "execution_count": null,
   "metadata": {},
   "outputs": [],
   "source": []
  },
  {
   "cell_type": "code",
   "execution_count": null,
   "metadata": {},
   "outputs": [],
   "source": []
  },
  {
   "cell_type": "code",
   "execution_count": null,
   "metadata": {},
   "outputs": [],
   "source": []
  },
  {
   "cell_type": "code",
   "execution_count": null,
   "metadata": {},
   "outputs": [],
   "source": []
  }
 ],
 "metadata": {
  "kernelspec": {
   "display_name": "Python 2",
   "language": "python",
   "name": "python2"
  },
  "language_info": {
   "codemirror_mode": {
    "name": "ipython",
    "version": 2
   },
   "file_extension": ".py",
   "mimetype": "text/x-python",
   "name": "python",
   "nbconvert_exporter": "python",
   "pygments_lexer": "ipython2",
   "version": "2.7.17"
  }
 },
 "nbformat": 4,
 "nbformat_minor": 2
}
