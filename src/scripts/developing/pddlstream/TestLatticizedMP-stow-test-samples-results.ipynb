{
 "cells": [
  {
   "cell_type": "code",
   "execution_count": 1,
   "metadata": {},
   "outputs": [],
   "source": [
    "# import SharedArray as sa\n",
    "# ROBOT_TYPE_NAME = 'indy7'\n",
    "# sa.delete(\"shm://{}.prepared\".format(ROBOT_TYPE_NAME))\n",
    "# sa.delete(\"shm://{}.grasp_img\".format(ROBOT_TYPE_NAME))\n",
    "# sa.delete(\"shm://{}.arm_img\".format(ROBOT_TYPE_NAME))\n",
    "# sa.delete(\"shm://{}.rh_vals\".format(ROBOT_TYPE_NAME))\n",
    "# sa.delete(\"shm://{}.result\".format(ROBOT_TYPE_NAME))\n",
    "# sa.delete(\"shm://{}.query_in\".format(ROBOT_TYPE_NAME))\n",
    "# sa.delete(\"shm://{}.response_out\".format(ROBOT_TYPE_NAME))\n",
    "# sa.delete(\"shm://{}.query_quit\".format(ROBOT_TYPE_NAME))"
   ]
  },
  {
   "cell_type": "code",
   "execution_count": 1,
   "metadata": {},
   "outputs": [],
   "source": [
    "from __future__ import print_function\n",
    "import os\n",
    "RNB_PLANNING_DIR = os.environ[\"RNB_PLANNING_DIR\"]\n",
    "os.chdir(os.path.join(RNB_PLANNING_DIR, 'src'))\n",
    "from pkg.controller.combined_robot import *\n",
    "from pkg.utils.utils import get_now, try_mkdir\n",
    "import subprocess\n",
    "\n",
    "DATA_PATH = os.path.join(RNB_PLANNING_DIR, \"data\")\n",
    "try_mkdir(DATA_PATH)\n",
    "\n",
    "TEST_DATA_PATH = os.path.join(DATA_PATH, \"stowing\")\n",
    "try_mkdir(TEST_DATA_PATH)\n",
    "\n",
    "TEST_RESULT_PATH = os.path.join(DATA_PATH, \"stowing-result\")\n",
    "try_mkdir(TEST_RESULT_PATH)\n",
    "\n",
    "HEADS = [\"plan_time\", \"length\", \"MP_count\", \"failed_MPs\", \"success\"]"
   ]
  },
  {
   "cell_type": "code",
   "execution_count": 2,
   "metadata": {},
   "outputs": [],
   "source": [
    "RTYPE = \"indy7\"\n",
    "DAT_DIR = '20210613-035257'\n",
    "FILE_OPTION = \"obj_3_pole\"\n",
    "# DAT_DIR, FILE_OPTION = \"20210613-023004\", \"obj_1\"\n",
    "# DAT_DIR, FILE_OPTION = \"20210612-114040\", \"obj_1\"\n",
    "# DAT_DIR, FILE_OPTION = \"20210612-151342\", \"obj_3\"\n",
    "# DAT_DIR, FILE_OPTION = \"20210612-161536\", \"obj_3_pole\"\n",
    "\n",
    "# RTYPE = \"panda\"\n",
    "# DAT_DIR = '20210613-035119'\n",
    "# FILE_OPTION = \"obj_1\"\n",
    "# # DAT_DIR, FILE_OPTION = \"20210613-022832\", \"obj_1\"\n",
    "# # # DAT_DIR, FILE_OPTION = \"20210612-221934\", \"obj_1\"\n",
    "\n",
    "CNAME_LIST = ['None','Tool','ToolReach','Full'] #,'Pairwise']\n",
    "GRASP_SAMPLE = 10\n",
    "VISUALIZE = False\n",
    "PLAY_RESULT = False\n",
    "TIMEOUT_MOTION = 5\n",
    "MAX_TIME = 100\n",
    "SHOW_STATE = False\n"
   ]
  },
  {
   "cell_type": "markdown",
   "metadata": {},
   "source": [
    "### test"
   ]
  },
  {
   "cell_type": "code",
   "execution_count": 3,
   "metadata": {},
   "outputs": [],
   "source": [
    "ROBOT_DATA_ROOT = os.path.join(TEST_DATA_PATH, RTYPE)\n",
    "ROBOT_RESULT_ROOT = os.path.join(TEST_RESULT_PATH, RTYPE)\n",
    "DATASET_PATH = os.path.join(ROBOT_DATA_ROOT, DAT_DIR)\n",
    "RESULTSET_PATH = os.path.join(ROBOT_RESULT_ROOT, DAT_DIR)\n",
    "file_list = sorted(os.listdir(DATASET_PATH))"
   ]
  },
  {
   "cell_type": "markdown",
   "metadata": {},
   "source": [
    "### load results"
   ]
  },
  {
   "cell_type": "code",
   "execution_count": 4,
   "metadata": {},
   "outputs": [],
   "source": [
    "res_dict_all = defaultdict(lambda: defaultdict(list))\n",
    "resfile_list = sorted(os.listdir(os.path.join(RESULTSET_PATH)))\n",
    "for resfile in resfile_list:\n",
    "    args = resfile[:-4].split(\"_\")[1:]\n",
    "    f_option = \"_\".join(args[:-2])\n",
    "    fid, cname = args[-2:]\n",
    "    resdat = load_pickle(os.path.join(RESULTSET_PATH, resfile))\n",
    "    assert len(res_dict_all[f_option][cname]) == int(fid)\n",
    "    res_dict_all[f_option][cname].append([resdat[head] for head in HEADS])"
   ]
  },
  {
   "cell_type": "code",
   "execution_count": 6,
   "metadata": {},
   "outputs": [
    {
     "name": "stdout",
     "output_type": "stream",
     "text": [
      "============================== obj_1           ==============================\n",
      "Checker        : Planning time   Motion count    MP trials       Failed MP       Failures        Total          \n",
      "None           : 7.2             5.8             3.4             0.0             0               10             \n",
      "Tool           : 7.83            6.5             4.5             0.3             0               10             \n",
      "ToolReach      : 3.55            5.8             4.2             0.3             0               10             \n",
      "Full           : 1.94            5.4             3.2             0.0             0               10             \n",
      " \n",
      "============================== obj_3           ==============================\n",
      "Checker        : Planning time   Motion count    MP trials       Failed MP       Failures        Total          \n",
      "None           : 23.27           8.11            4.56            0.0             1               10             \n",
      "Tool           : 11.77           5.5             6.12            0.12            2               10             \n",
      "ToolReach      : 5.02            5.57            9.0             0.0             3               10             \n",
      "Full           : 6.66            5.44            3.56            0.0             1               10             \n",
      " \n",
      "============================== obj_3_pole      ==============================\n",
      "Checker        : Planning time   Motion count    MP trials       Failed MP       Failures        Total          \n",
      "None           : 48.29           9.0             5.0             0.0             4               10             \n",
      "Tool           : 15.81           6.0             11.75           1.12            2               10             \n",
      "ToolReach      : 31.28           7.0             14.67           1.17            4               10             \n",
      "Full           : 15.32           5.0             5.0             0.0             5               10             \n",
      " \n"
     ]
    }
   ],
   "source": [
    "exp_list = ['obj_1', 'obj_3', 'obj_3_pole']\n",
    "for ekey in exp_list:\n",
    "    if ekey not in res_dict_all:\n",
    "        continue\n",
    "    res_dict = res_dict_all[ekey]\n",
    "    print(\"=\"*30 + \" {:<15} \".format(ekey) + \"=\"*30)\n",
    "    print(\"{:<15}: {:<15} {:<15} {:<15} {:<15} {:<15} {:<15}\".format(\"Checker\", \"Planning time\", \"Motion count\", \"MP trials\", \"Failed MP\", \"Failures\", \"Total\"))\n",
    "    for cname in CNAME_LIST:\n",
    "        if cname in res_dict:\n",
    "            vv = np.array(res_dict[cname])[:10,:]\n",
    "            if len(vv)>0:\n",
    "                succ_vec = vv[:,-1]\n",
    "                fail_vec = np.logical_not(succ_vec)\n",
    "                idc_succ = np.where(succ_vec)[0]\n",
    "                print(\n",
    "                    \"{:<15}: {:<15} {:<15} {:<15} {:<15} {:<15} {:<15}\".format(cname,\n",
    "                                    *(list(np.round(np.mean(vv[idc_succ, :-1], axis=0), 2)) \\\n",
    "                                      +[np.sum(fail_vec), len(vv)])))\n",
    "    print(\" \")"
   ]
  },
  {
   "cell_type": "markdown",
   "metadata": {},
   "source": [
    "## Res - panda\n",
    "```\n",
    "\n",
    "```"
   ]
  },
  {
   "cell_type": "markdown",
   "metadata": {},
   "source": [
    "## Res - indy7\n",
    "```\n",
    "============================== obj_1           ==============================\n",
    "Checker        : Planning time   Motion count    MP trials       Failed MP       Failures        Total          \n",
    "None           : 7.2             5.8             3.4             0.0             0               10             \n",
    "Tool           : 7.83            6.5             4.5             0.3             0               10             \n",
    "ToolReach      : 3.55            5.8             4.2             0.3             0               10             \n",
    "Full           : 1.94            5.4             3.2             0.0             0               10             \n",
    " \n",
    "============================== obj_3           ==============================\n",
    "Checker        : Planning time   Motion count    MP trials       Failed MP       Failures        Total          \n",
    "None           : 23.27           8.11            4.56            0.0             1               10             \n",
    "Tool           : 11.77           5.5             6.12            0.12            2               10             \n",
    "ToolReach      : 5.02            5.57            9.0             0.0             3               10             \n",
    "Full           : 6.66            5.44            3.56            0.0             1               10             \n",
    " \n",
    "============================== obj_3_pole      ==============================\n",
    "Checker        : Planning time   Motion count    MP trials       Failed MP       Failures        Total          \n",
    "None           : 48.29           9.0             5.0             0.0             4               10             \n",
    "Tool           : 15.81           6.0             11.75           1.12            2               10             \n",
    "ToolReach      : 31.28           7.0             14.67           1.17            4               10             \n",
    "Full           : 15.32           5.0             5.0             0.0             5               10            \n",
    "```"
   ]
  },
  {
   "cell_type": "code",
   "execution_count": null,
   "metadata": {},
   "outputs": [],
   "source": []
  }
 ],
 "metadata": {
  "kernelspec": {
   "display_name": "Python 2",
   "language": "python",
   "name": "python2"
  },
  "language_info": {
   "codemirror_mode": {
    "name": "ipython",
    "version": 2
   },
   "file_extension": ".py",
   "mimetype": "text/x-python",
   "name": "python",
   "nbconvert_exporter": "python",
   "pygments_lexer": "ipython2",
   "version": "2.7.17"
  }
 },
 "nbformat": 4,
 "nbformat_minor": 2
}
