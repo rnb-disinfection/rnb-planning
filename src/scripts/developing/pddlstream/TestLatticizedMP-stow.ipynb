{
 "cells": [
  {
   "cell_type": "code",
   "execution_count": 1,
   "metadata": {},
   "outputs": [],
   "source": [
    "# import SharedArray as sa\n",
    "# sa.delete(\"shm://{}.grasp_img\".format('indy7'))\n",
    "# sa.delete(\"shm://{}.arm_img\".format('indy7'))\n",
    "# sa.delete(\"shm://{}.rh_vals\".format('indy7'))\n",
    "# sa.delete(\"shm://{}.result\".format('indy7'))\n",
    "# sa.delete(\"shm://{}.query_in\".format('indy7'))\n",
    "# sa.delete(\"shm://{}.response_out\".format('indy7'))\n",
    "# sa.delete(\"shm://{}.query_quit\".format('indy7'))"
   ]
  },
  {
   "cell_type": "markdown",
   "metadata": {},
   "source": [
    "## set running directory"
   ]
  },
  {
   "cell_type": "code",
   "execution_count": 2,
   "metadata": {},
   "outputs": [],
   "source": [
    "from __future__ import print_function\n",
    "import os\n",
    "os.chdir(os.path.join(os.environ[\"RNB_PLANNING_DIR\"], 'src'))"
   ]
  },
  {
   "cell_type": "code",
   "execution_count": 3,
   "metadata": {},
   "outputs": [],
   "source": [
    "from pkg.controller.combined_robot import *\n",
    "from pkg.utils.utils import get_now, try_mkdir\n",
    "\n",
    "\n",
    "DATA_PATH = os.path.join(os.environ['RNB_PLANNING_DIR'], \"data\")\n",
    "try_mkdir(DATA_PATH)\n",
    "\n",
    "TEST_DATA_PATH = os.path.join(DATA_PATH, \"stowing\")\n",
    "try_mkdir(TEST_DATA_PATH)"
   ]
  },
  {
   "cell_type": "code",
   "execution_count": null,
   "metadata": {},
   "outputs": [],
   "source": []
  },
  {
   "cell_type": "code",
   "execution_count": 4,
   "metadata": {},
   "outputs": [],
   "source": [
    "VISUALIZE = True\n",
    "CLEARANCE = 1e-3\n",
    "TOOL_RPY = (-np.pi/2,0,0)\n",
    "\n",
    "\n",
    "ROBOT_TYPE = RobotType.panda\n",
    "\n",
    "if ROBOT_TYPE in [RobotType.indy7, RobotType.indy7gripper]:\n",
    "    ROBOT_NAME = \"indy0\"\n",
    "    TOOL_LINK = \"indy0_tcp\"\n",
    "    TOOL_NAME = \"grip0\"\n",
    "    TOOL_XYZ = (0,0,0.14)\n",
    "    HOME_POSE = (0,0,0,0,0,0)\n",
    "    GRIP_DEPTH = 0.05\n",
    "    \n",
    "elif ROBOT_TYPE == RobotType.panda:\n",
    "    ROBOT_NAME = \"panda0\"\n",
    "    TOOL_LINK = \"panda0_hand\"\n",
    "    TOOL_NAME = \"grip0\"\n",
    "    TOOL_XYZ = (0,0,0.112)\n",
    "    HOME_POSE = (0,-0.3,0,-0.5,0,2.5,0)\n",
    "    GRIP_DEPTH = 0.03\n",
    "\n",
    "\n",
    "\n"
   ]
  },
  {
   "cell_type": "code",
   "execution_count": null,
   "metadata": {},
   "outputs": [],
   "source": []
  },
  {
   "cell_type": "markdown",
   "metadata": {},
   "source": [
    "## init combined robot config"
   ]
  },
  {
   "cell_type": "code",
   "execution_count": 5,
   "metadata": {},
   "outputs": [
    {
     "name": "stdout",
     "output_type": "stream",
     "text": [
      "connection command:\n",
      "panda0: False\n"
     ]
    }
   ],
   "source": [
    "\n",
    "from pkg.project_config import *\n",
    "\n",
    "crob = CombinedRobot(robots_on_scene=[\n",
    "    RobotConfig(0, ROBOT_TYPE, None,\n",
    "                INDY_IP)]\n",
    "              , connection_list=[False])\n",
    "\n",
    "from pkg.geometry.builder.scene_builder import SceneBuilder\n",
    "s_builder = SceneBuilder(None)\n",
    "# s_builder.reset_reference_coord(ref_name=\"floor\")"
   ]
  },
  {
   "cell_type": "code",
   "execution_count": null,
   "metadata": {},
   "outputs": [],
   "source": []
  },
  {
   "cell_type": "markdown",
   "metadata": {},
   "source": [
    "## get ghnd with detected robot config"
   ]
  },
  {
   "cell_type": "code",
   "execution_count": 6,
   "metadata": {
    "scrolled": true
   },
   "outputs": [
    {
     "name": "stdout",
     "output_type": "stream",
     "text": [
      "Please create a subscriber to the marker\n",
      "publication OK\n",
      "published: [0, 0, 0, 0, 0, 0, 0]\n"
     ]
    }
   ],
   "source": [
    "# xyz_rpy_robots = s_builder.detect_items(level_mask=[DetectionLevel.ROBOT])\n",
    "xyz_rpy_robots = {ROBOT_NAME: ((0,0,0), (0,0,0))}\n",
    "crob.update_robot_pos_dict(xyz_rpy_robots=xyz_rpy_robots)\n",
    "gscene = s_builder.create_gscene(crob, start_rviz=VISUALIZE)\n",
    "HOME_DICT = list2dict(HOME_POSE, gscene.joint_names)\n"
   ]
  },
  {
   "cell_type": "code",
   "execution_count": 7,
   "metadata": {},
   "outputs": [],
   "source": [
    "from pkg.utils.joint_utils import get_tf\n",
    "shoulder_link = gscene.urdf_content.joint_map[gscene.joint_names[1]].child\n",
    "shoulder_height = get_tf(shoulder_link, HOME_DICT, gscene.urdf_content)[2,3]"
   ]
  },
  {
   "cell_type": "code",
   "execution_count": null,
   "metadata": {},
   "outputs": [],
   "source": []
  },
  {
   "cell_type": "markdown",
   "metadata": {},
   "source": [
    "## add environment"
   ]
  },
  {
   "cell_type": "code",
   "execution_count": 8,
   "metadata": {},
   "outputs": [],
   "source": [
    "from pkg.geometry.geometry import *\n",
    "gtems_robot = s_builder.add_robot_geometries(color=(0,1,0,0.5), display=False, collision=True)"
   ]
  },
  {
   "cell_type": "code",
   "execution_count": null,
   "metadata": {},
   "outputs": [],
   "source": []
  },
  {
   "cell_type": "markdown",
   "metadata": {},
   "source": [
    "## init planning scene"
   ]
  },
  {
   "cell_type": "code",
   "execution_count": 9,
   "metadata": {},
   "outputs": [],
   "source": [
    "from pkg.planning.scene import PlanningScene\n",
    "pscene = PlanningScene(gscene, combined_robot=crob)\n",
    "\n",
    "from pkg.planning.pipeline import PlanningPipeline\n",
    "ppline = PlanningPipeline(pscene)"
   ]
  },
  {
   "cell_type": "code",
   "execution_count": null,
   "metadata": {},
   "outputs": [],
   "source": []
  },
  {
   "cell_type": "markdown",
   "metadata": {},
   "source": [
    "## Register binders"
   ]
  },
  {
   "cell_type": "code",
   "execution_count": 10,
   "metadata": {},
   "outputs": [],
   "source": [
    "from pkg.planning.constraint.constraint_actor import Gripper2Tool, PlacePlane, SweepTool"
   ]
  },
  {
   "cell_type": "code",
   "execution_count": 11,
   "metadata": {},
   "outputs": [
    {
     "name": "stdout",
     "output_type": "stream",
     "text": [
      "Please create a subscriber to the marker\n"
     ]
    }
   ],
   "source": [
    "gscene.create_safe(gtype=GEOTYPE.SPHERE, name=\"grip0\", link_name=TOOL_LINK, \n",
    "                 dims=(0.01,)*3, center=TOOL_XYZ, rpy=TOOL_RPY, color=(1,0,0,1), display=True, collision=False, fixed=True)\n",
    "gripper = pscene.create_binder(bname=\"grip0\", gname=\"grip0\", _type=Gripper2Tool, point=(0,0,0), rpy=(0,0,0))"
   ]
  },
  {
   "cell_type": "code",
   "execution_count": null,
   "metadata": {},
   "outputs": [],
   "source": []
  },
  {
   "cell_type": "markdown",
   "metadata": {},
   "source": [
    "## planner"
   ]
  },
  {
   "cell_type": "code",
   "execution_count": 12,
   "metadata": {},
   "outputs": [],
   "source": [
    "from pkg.planning.motion.moveit.moveit_planner import MoveitPlanner\n",
    "from pkg.planning.filtering.grasp_filter import GraspChecker\n",
    "from pkg.planning.filtering.reach_filter import ReachChecker\n",
    "from pkg.planning.filtering.latticized_filter import LatticedChecker\n",
    "mplan = MoveitPlanner(pscene)\n",
    "gcheck = GraspChecker(pscene)\n",
    "rcheck = ReachChecker(pscene)\n",
    "lcheck = LatticedChecker(pscene, gcheck)\n",
    "checkers_all = [gcheck, rcheck, lcheck]"
   ]
  },
  {
   "cell_type": "code",
   "execution_count": 13,
   "metadata": {},
   "outputs": [],
   "source": [
    "from pkg.planning.task.rrt import TaskRRT\n",
    "tplan = TaskRRT(pscene)\n",
    "tplan.prepare()"
   ]
  },
  {
   "cell_type": "code",
   "execution_count": null,
   "metadata": {},
   "outputs": [],
   "source": []
  },
  {
   "cell_type": "markdown",
   "metadata": {},
   "source": [
    "## ui"
   ]
  },
  {
   "cell_type": "code",
   "execution_count": 14,
   "metadata": {},
   "outputs": [
    {
     "name": "stdout",
     "output_type": "stream",
     "text": [
      "Dash is running on http://0.0.0.0:8050/\n",
      "\n",
      " * Serving Flask app \"pkg.ui.dash_launcher\" (lazy loading)\n",
      " * Environment: production\n"
     ]
    }
   ],
   "source": [
    "from pkg.ui.ui_broker import *\n",
    "\n",
    "# start UI\n",
    "ui_broker = UIBroker.instance()\n",
    "ui_broker.initialize(ppline, s_builder)\n",
    "ui_broker.start_server()\n",
    "\n",
    "ui_broker.set_tables()"
   ]
  },
  {
   "cell_type": "code",
   "execution_count": null,
   "metadata": {},
   "outputs": [],
   "source": []
  },
  {
   "cell_type": "markdown",
   "metadata": {},
   "source": [
    "# Object Classes"
   ]
  },
  {
   "cell_type": "code",
   "execution_count": 15,
   "metadata": {},
   "outputs": [
    {
     "name": "stdout",
     "output_type": "stream",
     "text": [
      "   WARNING: This is a development server. Do not use it in a production deployment.\n"
     ]
    }
   ],
   "source": [
    "from pkg.planning.constraint.constraint_subject import CustomObject, Grasp2Point, PlacePoint, SweepPoint, SweepTask\n",
    "from pkg.planning.filtering.lattice_model.scene_building import *\n",
    "\n",
    "##\n",
    "# @class WorkPlane\n",
    "# @brief working plane. target and obstacle objects are generated on this plane\n",
    "class WorkPlane(ObstacleBase):\n",
    "    RTH_MIN = (0.3, -np.pi/2, -0.1)\n",
    "    RTH_MAX = (0.5, +np.pi/2, +0.4)\n",
    "    RPY_MIN = (0, 0, 0)\n",
    "    RPY_MAX = (0, 0, 0)\n",
    "    DIM_MIN = (0.4, 0.6, 0.05)\n",
    "    DIM_MAX = (0.4, 0.6, 0.05)\n",
    "    GTYPE = GEOTYPE.BOX\n",
    "    COLOR=  (0.8,0.8,0.2,1)\n",
    "    \n",
    "    def __init__(self, gscene, name, floor_height=None, *args, **kwargs):\n",
    "        assert floor_height is not None, \"floor_height needed\"\n",
    "        if floor_height > self.RTH_MIN[2]:\n",
    "            self.RTH_MIN = self.RTH_MIN[:2]+(floor_height,)\n",
    "        self.H = 0.4\n",
    "        ObstacleBase.__init__(self, gscene, name, *args, **kwargs)\n",
    "        \n",
    "    def is_overlapped_with(self, gtem):\n",
    "        verts, radii = gtem.get_vertice_radius()\n",
    "        verts_global = np.add(np.matmul(verts, gtem.orientation_mat.transpose()), gtem.center)\n",
    "        verts_wp = np.multiply(DEFAULT_VERT_DICT[self.GTYPE], tuple(self.DIM[:2])+(self.H,))\n",
    "        verts_wp_global = np.add(np.matmul(verts_wp, self.geometry.orientation_mat.transpose()), \n",
    "                                 np.add(self.geometry.center, (0,0,self.H/2)))\n",
    "        return get_gjk_distance(get_point_list(verts_global), get_point_list(verts_wp_global))-radii < 1e-4\n",
    "            \n",
    "    \n",
    "##\n",
    "# @class Box\n",
    "# @brief box with the top and the front side open\n",
    "class Box(WorkPlane):\n",
    "    RPY_MIN = (0, 0, 0)\n",
    "    RPY_MAX = (0, 0, 0)\n",
    "    DIM_MIN = (0.3, 0.3, 0.05)\n",
    "    DIM_MAX = (0.6, 0.6, 0.05)\n",
    "    COLOR =  (0.8,0.8,0.2,0.5)\n",
    "    H_RANGE = (0.3, 0.6)\n",
    "    THICKNESS = 0.05\n",
    "    def __init__(self, gscene, name, H=None, **kwargs):\n",
    "        WorkPlane.__init__(self, gscene=gscene, name=name, **kwargs)\n",
    "        self.H = np.random.uniform(*self.H_RANGE) if H is None else H\n",
    "\n",
    "        ## back wall\n",
    "        self.subgeo_list.append(gscene.create_safe(\n",
    "            gtype=self.GTYPE, name=self.name+\"_bw\", link_name=\"base_link\", \n",
    "            dims=(self.THICKNESS, self.DIM[1], self.H), center=(self.DIM[0]/2+self.THICKNESS/2, 0,self.H/2), rpy=(0,0,0),\n",
    "            color=self.COLOR, display=True, collision=True, fixed=True,\n",
    "            parent=self.name))\n",
    "\n",
    "        ## left wall\n",
    "        self.subgeo_list.append(gscene.create_safe(\n",
    "            gtype=self.GTYPE, name=self.name+\"_lw\", link_name=\"base_link\", \n",
    "            dims=(self.DIM[0], self.THICKNESS, self.H), center=(0, -self.DIM[1]/2-self.THICKNESS/2, self.H/2), rpy=(0,0,0),\n",
    "            color=self.COLOR, display=True, collision=True, fixed=True,\n",
    "            parent=self.name))\n",
    "\n",
    "        ## right wall\n",
    "        self.subgeo_list.append(gscene.create_safe(\n",
    "            gtype=self.GTYPE, name=self.name+\"_rw\", link_name=\"base_link\", \n",
    "            dims=(self.DIM[0], self.THICKNESS, self.H), center=(0, self.DIM[1]/2+self.THICKNESS/2, self.H/2), rpy=(0,0,0),\n",
    "            color=self.COLOR, display=True, collision=True, fixed=True,\n",
    "            parent=self.name))\n",
    "\n",
    "        \n",
    "##\n",
    "# @class SideBox\n",
    "# @brief box with a side face open\n",
    "class SideBox(Box):\n",
    "    RTH_MIN = (0.3, -np.pi/2, -0.1)\n",
    "    RTH_MAX = (0.5, +np.pi/2, +0.4)\n",
    "    RPY_MIN = (0, 0, 0)\n",
    "    RPY_MAX = (0, 0, 0)\n",
    "    DIM_MIN = (0.4, 0.6, 0.05)\n",
    "    DIM_MAX = (0.4, 0.6, 0.05)\n",
    "    COLOR =  (0.2,0.2,0.8,1)\n",
    "    H_RANGE = (0.4, 0.4)\n",
    "    THICKNESS = 0.05\n",
    "    def __init__(self, gscene, name, **kwargs):\n",
    "        Box.__init__(self, gscene=gscene, name=name, **kwargs)\n",
    "\n",
    "        ## top\n",
    "        self.subgeo_list.append(gscene.create_safe(\n",
    "            gtype=self.GTYPE, name=self.name+\"_tp\", link_name=\"base_link\", \n",
    "            dims=(self.DIM[0], self.DIM[1], self.THICKNESS), center=(0, 0, self.H+self.THICKNESS/2), rpy=(0,0,0),\n",
    "            color=self.COLOR, display=True, collision=True, fixed=True,\n",
    "            parent=self.name))\n",
    "\n",
    "##\n",
    "# @class TopBox\n",
    "# @brief box with the top face open\n",
    "class TopBox(Box):\n",
    "    DIM_MIN = (0.3, 0.3, 0.05)\n",
    "    DIM_MAX = (0.6, 0.6, 0.05)\n",
    "    H_RANGE = (0.3, 0.6)\n",
    "    def __init__(self, gscene, name, **kwargs):\n",
    "        Box.__init__(self, gscene=gscene, name=name, **kwargs)\n",
    "\n",
    "        ## front wall\n",
    "        self.subgeo_list.append(gscene.create_safe(\n",
    "            gtype=self.GTYPE, name=self.name+\"_fw\", link_name=\"base_link\", \n",
    "            dims=(self.THICKNESS, self.DIM[1], self.H), center=(-self.DIM[0]/2-self.THICKNESS/2, 0,self.H/2), rpy=(0,0,0),\n",
    "            color=self.COLOR, display=True, collision=True, fixed=True,\n",
    "            parent=self.name))\n",
    "        \n",
    "##\n",
    "# @class Floor\n",
    "# @brief Floor - lowerbound of the workspace\n",
    "class Floor(ObstacleBase):\n",
    "    RTH_MIN = (0.0, 0, -0.5)\n",
    "    RTH_MAX = (0.0, 0, -0.5)\n",
    "    RPY_MIN = (0, 0, 0)\n",
    "    RPY_MAX = (0, 0, 0)\n",
    "    DIM_MIN = (3, 3, 0.1)\n",
    "    DIM_MAX = (3, 3, 0.1)\n",
    "    GTYPE = GEOTYPE.BOX\n",
    "    \n",
    "##\n",
    "# @class Pole\n",
    "# @brief occasional poles that obstruct robot motion\n",
    "class Pole(ObstacleBase):\n",
    "    RTH_MIN = (0.3, -np.pi, 0)\n",
    "    RTH_MAX = (0.3, +np.pi, 0)\n",
    "    RPY_MIN = (0, 0, -np.pi/6)\n",
    "    RPY_MAX = (0, 0, +np.pi/6)\n",
    "    DIM_MIN = (0.1, 0.1, 4)\n",
    "    DIM_MAX = (0.1, 0.1, 4)\n",
    "    GTYPE = GEOTYPE.BOX\n",
    "    COLOR = (0.7,0.7,0.7,0.3)\n",
    "    \n",
    "##\n",
    "# @class PlaneObstacle\n",
    "# @brief Obstacles on the workplane\n",
    "class PlaneObject(ObstacleBase):\n",
    "    RTH_MIN = (0.3, -np.pi/2, -0.2)\n",
    "    RTH_MAX = (0.8, +np.pi/2, +0.5)\n",
    "    RPY_MIN = (0, 0, -np.pi)\n",
    "    RPY_MAX = (0, 0, +np.pi)\n",
    "    DIM_MIN = (0.05, 0.1, 0.2)\n",
    "    DIM_MAX = (0.05, 0.1, 0.2)\n",
    "    GTYPE = GEOTYPE.BOX\n",
    "    COLOR =  (0.2,0.8,0.2,1)\n",
    "    def __init__(self, gscene, name, workplane, GRIP_DEPTH, CLEARANCE, XYZ_LOC=None, **kwargs):\n",
    "        self.GRIP_DEPTH = GRIP_DEPTH\n",
    "        ObstacleBase.__init__(self, gscene=gscene, name=name, **kwargs)\n",
    "        verts, radii = self.geometry.get_vertice_radius()\n",
    "        verts_rot = np.matmul(self.geometry.orientation_mat, verts.transpose()) ## verices with global orientaion\n",
    "        verts_rot_loc = np.matmul(workplane.geometry.Toff[:3,:3].transpose(), verts_rot) ## verices with local orientaion\n",
    "        max_verts = np.max(verts_rot_loc, axis=-1)\n",
    "        min_verts = np.min(verts_rot_loc, axis=-1)\n",
    "        if XYZ_LOC is None:\n",
    "            self.XYZ_LOC = np.random.uniform(np.negative(workplane.DIM)/2-min_verts+radii,np.array(workplane.DIM)/2-max_verts-radii)\n",
    "            self.XYZ_LOC[2] = workplane.DIM[2]/2 + self.DIM[2]/2 + CLEARANCE\n",
    "        else:\n",
    "            self.XYZ_LOC = self.XYZ_LOC\n",
    "        self.XYZ = np.matmul(workplane.geometry.Toff[:3,:3], self.XYZ_LOC) + workplane.geometry.Toff[:3,3]\n",
    "        self.geometry.set_offset_tf(center = self.XYZ)\n",
    "        self.RTH = cart2cyl(*self.XYZ)\n",
    "        gscene.update_marker(self.geometry)\n",
    "           \n",
    "def disperse_objects(gscene, object_class, key, Nmax, workplane_on, GRIP_DEPTH, CLEARANCE=1e-3):\n",
    "    clear_class(gscene, key, Nmax)\n",
    "        \n",
    "    obs_list = []\n",
    "    while len(obs_list)<Nmax:\n",
    "        iw = len(obs_list)\n",
    "        obs = object_class(gscene, \"{}_{}\".format(key, iw), workplane_on, GRIP_DEPTH=GRIP_DEPTH, CLEARANCE=CLEARANCE)\n",
    "        remove_this = False\n",
    "        for obs_pre in obs_list:\n",
    "            if obs_pre.is_overlapped_with(obs.geometry):\n",
    "                remove_this = True\n",
    "                break\n",
    "        if remove_this:\n",
    "            gscene.remove(obs.geometry)\n",
    "        else:\n",
    "            obs_list.append(obs)\n",
    "    return obs_list"
   ]
  },
  {
   "cell_type": "code",
   "execution_count": 16,
   "metadata": {},
   "outputs": [
    {
     "name": "stdout",
     "output_type": "stream",
     "text": [
      "   Use a production WSGI server instead.\n",
      " * Debug mode: off\n",
      "\n",
      "DATASET_PATH: /home/rnb/Projects/rnb-planning/data/stowing/panda/20210612-051613\n",
      "\n"
     ]
    }
   ],
   "source": [
    "ROBOT_DATA_ROOT = os.path.join(TEST_DATA_PATH, ROBOT_TYPE.name)\n",
    "try_mkdir(ROBOT_DATA_ROOT)\n",
    "\n",
    "DATASET_PATH = os.path.join(ROBOT_DATA_ROOT, get_now())\n",
    "# DATASET_PATH = os.path.join(ROBOT_DATA_ROOT, '20210223-051658')\n",
    "try_mkdir(DATASET_PATH)\n",
    "print(\"\")\n",
    "print(\"DATASET_PATH: {}\".format(DATASET_PATH))\n",
    "print(\"\")"
   ]
  },
  {
   "cell_type": "code",
   "execution_count": null,
   "metadata": {},
   "outputs": [],
   "source": []
  },
  {
   "cell_type": "markdown",
   "metadata": {},
   "source": [
    "### sampling 3-obj"
   ]
  },
  {
   "cell_type": "code",
   "execution_count": 17,
   "metadata": {},
   "outputs": [],
   "source": [
    "Nmax_obj = 3\n",
    "\n",
    "SAMPLE_NUM = 10\n",
    "\n",
    "SHOW_PERIOD = 0.01\n",
    "\n",
    "results_dict_3_shelf = {0:[], 1:[], 2:[], 3:[]}\n",
    "# results_dict_3_plane = {int(k): v for k, v in load_json(os.path.join(DATASET_PATH, \"results_dict_3_plane.json\")).items()}"
   ]
  },
  {
   "cell_type": "code",
   "execution_count": 18,
   "metadata": {},
   "outputs": [],
   "source": [
    "## add floor, ceiling\n",
    "floor = Floor(gscene, \"floor\")\n",
    "gscene.create_safe(gtype=GEOTYPE.BOX, name=\"base\", link_name=\"base_link\", \n",
    "                   dims=(0.2, 0.2, -floor.RTH[2]), center=(0,0,floor.RTH[2]/2), rpy=(0,0,0), \n",
    "                   color=floor.geometry.color, display=True, collision=True, fixed=True)\n",
    "# ceiling = Ceiling(gscene, \"ceiling\")\n",
    "\n",
    "## set workplane\n",
    "wp = WorkPlane(gscene, \"wp\", floor_height=floor.RTH[2]+floor.DIM[2]/2)\n",
    "pscene.create_binder(bname=\"wp\", gname=\"wp\", _type=PlacePlane, point=None)\n",
    "\n",
    "gp_colliding = True\n",
    "while gp_colliding:\n",
    "    ## set goalplane\n",
    "    gp = SideBox(gscene, \"gp\", floor_height=wp.RTH[2]+wp.RTH[2]/2)\n",
    "    gp_colliding = wp.is_overlapped_with(gp.geometry)\n",
    "pscene.create_binder(bname=\"gp\", gname=\"gp\", _type=PlacePlane, point=None)\n",
    "\n",
    "\n",
    "## add object\n",
    "obj_list = disperse_objects(gscene, PlaneObject, \"obj\", Nmax_obj, workplane_on=wp, GRIP_DEPTH=GRIP_DEPTH, CLEARANCE=CLEARANCE)\n",
    "\n",
    "obj_set_list = []\n",
    "for i_obj, obj in enumerate(obj_list):\n",
    "    obj_pscene, handles = add_object(pscene, obj)\n",
    "    obj_set_list.append((obj, obj_pscene, handles))\n",
    "obj, obj_pscene, handles = obj_set_list[0]\n",
    "\n",
    "obj_pscene.geometry.color = (0.8,0.2,0.2,1)\n",
    "if VISUALIZE:\n",
    "    gscene.set_rviz()\n",
    "\n",
    "mplan.update_gscene()\n",
    "initial_state = pscene.initialize_state(HOME_POSE)\n",
    "pscene.set_object_state(initial_state)\n",
    "from_state = initial_state.copy(pscene)\n",
    "\n",
    "ppline.set_motion_planner(mplan)\n",
    "ppline.set_task_planner(tplan)\n",
    "\n",
    "gtimer = GlobalTimer.instance()\n",
    "gtimer.reset()"
   ]
  },
  {
   "cell_type": "code",
   "execution_count": 19,
   "metadata": {},
   "outputs": [],
   "source": [
    "os.chdir(os.path.join(os.environ[\"RNB_PLANNING_DIR\"], 'src/scripts/developing/pddlstream'))\n",
    "from convert_pscene import *\n",
    "from plan_rnb import *"
   ]
  },
  {
   "cell_type": "code",
   "execution_count": 20,
   "metadata": {},
   "outputs": [
    {
     "name": "stdout",
     "output_type": "stream",
     "text": [
      "[Pybullet] Load urdf from /home/rnb/Projects/rnb-planning/src/robots/custom_robots_pybullet.urdf\n",
      "Objects: {1L: 'gp', 2L: 'obj_2', 3L: 'obj_1', 4L: 'obj_0', 5L: 'base', 6L: 'floor', 7L: 'wp'}\n"
     ]
    }
   ],
   "source": [
    "connect_notebook(use_gui=True)\n",
    "urdf_pybullet_path = copy_meshes(gscene)\n",
    "robot_body, body_names, movable_bodies = pscene_to_pybullet(\n",
    "    pscene, urdf_pybullet_path, tool_name=TOOL_NAME, name_exclude_list=[ROBOT_NAME])\n",
    "print('Objects:', body_names)\n",
    "saver = WorldSaver()"
   ]
  },
  {
   "cell_type": "code",
   "execution_count": 21,
   "metadata": {},
   "outputs": [
    {
     "name": "stdout",
     "output_type": "stream",
     "text": [
      "Robot: 0\n",
      "Movable: [2L, 3L, 4L]\n",
      "Fixed: [1, 5, 6, 7]\n",
      "body 2 - surface 1\n",
      "body 2 - surface 5\n",
      "body 2 - surface 6\n",
      "body 2 - surface 7\n",
      "body 3 - surface 1\n",
      "body 3 - surface 5\n",
      "body 3 - surface 6\n",
      "body 3 - surface 7\n",
      "body 4 - surface 1\n",
      "body 4 - surface 5\n",
      "body 4 - surface 6\n",
      "body 4 - surface 7\n",
      "Init: [('CanMove',), ('Conf', q0), ('AtConf', q0), ('HandEmpty',), ('Graspable', 2L), ('Pose', 2L, p0), ('AtPose', 2L, p0), ('Stackable', 2L, 1), ('Stackable', 2L, 5), ('Stackable', 2L, 6), ('Stackable', 2L, 7), ('Supported', 2L, p0, 7), ('Graspable', 3L), ('Pose', 3L, p1), ('AtPose', 3L, p1), ('Stackable', 3L, 1), ('Stackable', 3L, 5), ('Stackable', 3L, 6), ('Stackable', 3L, 7), ('Supported', 3L, p1, 7), ('Graspable', 4L), ('Pose', 4L, p2), ('AtPose', 4L, p2), ('Stackable', 4L, 1), ('Stackable', 4L, 5), ('Stackable', 4L, 6), ('Stackable', 4L, 7), ('Supported', 4L, p2, 7)]\n",
      "Goal: ('and', ('AtConf', q0), ('On', 2L, 1))\n",
      "Streams: {TrajCollision, inverse-kinematics, plan-free-motion, plan-holding-motion, sample-grasp, sample-pose, test-cfree-approach-pose, test-cfree-pose-pose, test-cfree-traj-pose}\n",
      "Warning! All actions have no cost. Recommend setting unit_costs=True\n",
      "Warning! Undeclared predicates: ['conf', 'graspable']\n",
      "Setting negate=True for stream [test-cfree-pose-pose]\n",
      "Setting negate=True for stream [test-cfree-approach-pose]\n",
      "Setting negate=True for stream [test-cfree-traj-pose]\n",
      "Streams: [sample-pose:('?o', '?r')->('?p',), sample-grasp:('?o',)->('?g',), inverse-kinematics:('?o', '?p', '?g')->('?q', '?t'), plan-free-motion:('?q1', '?q2')->('?t',), plan-holding-motion:('?q1', '?q2', '?o', '?g')->('?t',)]\n",
      "Functions: []\n",
      "Negated: [test-cfree-pose-pose:('?o1', '?p1', '?o2', '?p2')->(), test-cfree-approach-pose:('?o1', '?p1', '?g1', '?o2', '?p2')->(), test-cfree-traj-pose:('?t', '?o2', '?p2')->()]\n",
      "Optimizers: []\n",
      "\n",
      "Iteration: 1 | Complexity: 0 | Skeletons: 0 | Skeleton Queue: 0 | Disabled: 0 | Evaluations: 28 | Eager Calls: 0 | Cost: inf | Search Time: 0.000 | Sample Time: 0.000 | Total Time: 0.000\n",
      "Attempt: 1 | Results: 1 | Depth: 0 | Success: False | Time: 0.010\n",
      "Stream plan (inf, 0, inf): None\n",
      "Action plan (inf, inf): None\n",
      "No plan: increasing complexity from 0 to 1\n",
      "\n",
      "Iteration: 2 | Complexity: 1 | Skeletons: 0 | Skeleton Queue: 0 | Disabled: 0 | Evaluations: 28 | Eager Calls: 0 | Cost: inf | Search Time: 0.010 | Sample Time: 0.000 | Total Time: 0.010\n",
      "Attempt: 1 | Results: 19 | Depth: 0 | Success: False | Time: 0.013\n",
      "Stream plan (inf, 0, inf): None\n",
      "Action plan (inf, inf): None\n",
      "No plan: increasing complexity from 1 to 2\n",
      "\n",
      "Iteration: 3 | Complexity: 2 | Skeletons: 0 | Skeleton Queue: 0 | Disabled: 0 | Evaluations: 28 | Eager Calls: 0 | Cost: inf | Search Time: 0.023 | Sample Time: 0.000 | Total Time: 0.023\n",
      "Attempt: 1 | Results: 37 | Depth: 1 | Success: False | Time: 0.100\n",
      "Attempt: 2 | Results: 86 | Depth: 0 | Success: True | Time: 0.215\n",
      "Stream plan (18, 18, 0.001): [sample-grasp:(2)->(#g0), inverse-kinematics:(2, p0, #g0)->(#q0, #t18), test-cfree-traj-pose:(#t18, 2, p0)->(), sample-pose:(2, 1)->(#p0), inverse-kinematics:(2, #p0, #g0)->(#q1, #t19), test-cfree-traj-pose:(#t19, 4, p2)->(), test-cfree-traj-pose:(#t18, 4, p2)->(), test-cfree-traj-pose:(#t18, 3, p1)->(), test-cfree-traj-pose:(#t19, 3, p1)->(), test-cfree-pose-pose:(2, #p0, 3, p1)->(), test-cfree-pose-pose:(2, #p0, 4, p2)->(), test-cfree-approach-pose:(2, p0, #g0, 3, p1)->(), test-cfree-approach-pose:(2, p0, #g0, 4, p2)->(), test-cfree-approach-pose:(2, #p0, #g0, 3, p1)->(), test-cfree-approach-pose:(2, #p0, #g0, 4, p2)->(), plan-free-motion:(q0, #q0)->(#t73), plan-free-motion:(#q1, q0)->(#t74), plan-holding-motion:(#q0, #q1, 2, #g0)->(#t72)]\n",
      "Action plan (5, 0.000): [move_free(q0, #q0, #t73), pick(2, p0, #g0, #q0, #t18), move_holding(#q0, #q1, 2, #g0, #t72), place(2, #p0, #g0, #q1, #t19), move_free(#q1, q0, #t74)]\n",
      "iter=0, outs=1) sample-grasp:(2)->[(g0)]\n",
      "generate table - Geometrygenerate table - Handle\n",
      "\n",
      "generate table - Binder\n",
      "generate table - Object\n",
      "         999282 function calls (985202 primitive calls) in 238.257 seconds\n",
      "\n",
      "   Ordered by: internal time\n",
      "   List reduced from 1291 to 10 due to restriction <10>\n",
      "\n",
      "   ncalls  tottime  percall  cumtime  percall filename:lineno(function)\n",
      "   224689  237.623    0.001  237.623    0.001 {time.sleep}\n",
      "        1    0.254    0.254  237.877  237.877 pkg/planning/filtering/latticized_filter.py:207(query_wait_response)\n",
      "        2    0.035    0.018    0.035    0.018 {posix.read}\n",
      "    50818    0.028    0.000    0.035    0.000 /usr/lib/python2.7/pickle.py:917(load_int)\n",
      "        1    0.022    0.022    0.087    0.087 /usr/lib/python2.7/pickle.py:851(load)\n",
      "   101776    0.021    0.000    0.021    0.000 {method 'read' of 'file' objects}\n",
      "        2    0.016    0.008    0.016    0.008 {posix.fork}\n",
      "    50802    0.013    0.000    0.018    0.000 /usr/lib/python2.7/pickle.py:1184(load_append)\n",
      "        1    0.010    0.010    0.011    0.011 pkg/planning/filtering/lattice_model/latticizer_py.py:84(convert)\n",
      "        2    0.009    0.004    0.011    0.005 pkg/planning/filtering/lattice_model/latticizer_py.py:110(convert_vertices)\n",
      "\n",
      "\n"
     ]
    },
    {
     "ename": "KeyboardInterrupt",
     "evalue": "",
     "output_type": "error",
     "traceback": [
      "\u001b[0;31m---------------------------------------------------------------------------\u001b[0m",
      "\u001b[0;31mKeyboardInterrupt\u001b[0m                         Traceback (most recent call last)",
      "\u001b[0;32m<ipython-input-21-2496fe33ebf4>\u001b[0m in \u001b[0;36m<module>\u001b[0;34m()\u001b[0m\n\u001b[1;32m     11\u001b[0m         \u001b[0;32mwith\u001b[0m \u001b[0mLockRenderer\u001b[0m\u001b[0;34m(\u001b[0m\u001b[0mlock\u001b[0m\u001b[0;34m=\u001b[0m\u001b[0;32mnot\u001b[0m \u001b[0mTrue\u001b[0m\u001b[0;34m)\u001b[0m\u001b[0;34m:\u001b[0m\u001b[0;34m\u001b[0m\u001b[0m\n\u001b[1;32m     12\u001b[0m             \u001b[0;32mwith\u001b[0m \u001b[0mgtimer\u001b[0m\u001b[0;34m.\u001b[0m\u001b[0mblock\u001b[0m\u001b[0;34m(\u001b[0m\u001b[0;34m\"solve\"\u001b[0m\u001b[0;34m)\u001b[0m\u001b[0;34m:\u001b[0m\u001b[0;34m\u001b[0m\u001b[0m\n\u001b[0;32m---> 13\u001b[0;31m                 \u001b[0msolution\u001b[0m \u001b[0;34m=\u001b[0m \u001b[0msolve\u001b[0m\u001b[0;34m(\u001b[0m\u001b[0mproblem\u001b[0m\u001b[0;34m,\u001b[0m \u001b[0malgorithm\u001b[0m\u001b[0;34m=\u001b[0m\u001b[0;34m'adaptive'\u001b[0m\u001b[0;34m,\u001b[0m \u001b[0munit_costs\u001b[0m\u001b[0;34m=\u001b[0m\u001b[0mFalse\u001b[0m\u001b[0;34m,\u001b[0m \u001b[0msuccess_cost\u001b[0m\u001b[0;34m=\u001b[0m\u001b[0mINF\u001b[0m\u001b[0;34m,\u001b[0m \u001b[0mmax_time\u001b[0m\u001b[0;34m=\u001b[0m\u001b[0;36m10\u001b[0m\u001b[0;34m)\u001b[0m\u001b[0;34m\u001b[0m\u001b[0m\n\u001b[0m\u001b[1;32m     14\u001b[0m             \u001b[0msaver\u001b[0m\u001b[0;34m.\u001b[0m\u001b[0mrestore\u001b[0m\u001b[0;34m(\u001b[0m\u001b[0;34m)\u001b[0m\u001b[0;34m\u001b[0m\u001b[0m\n\u001b[1;32m     15\u001b[0m     \u001b[0mprint_solution\u001b[0m\u001b[0;34m(\u001b[0m\u001b[0msolution\u001b[0m\u001b[0;34m)\u001b[0m\u001b[0;34m\u001b[0m\u001b[0m\n",
      "\u001b[0;32m/home/rnb/Projects/pddlstream/pddlstream/algorithms/meta.pyc\u001b[0m in \u001b[0;36msolve\u001b[0;34m(problem, algorithm, constraints, stream_info, replan_actions, unit_costs, success_cost, max_time, max_iterations, max_memory, initial_complexity, complexity_step, max_complexity, max_skeletons, search_sample_ratio, max_failures, unit_efforts, max_effort, effort_weight, reorder, visualize, verbose, **search_kwargs)\u001b[0m\n\u001b[1;32m    145\u001b[0m             \u001b[0;31m#bind=bind, max_failures=max_failures,\u001b[0m\u001b[0;34m\u001b[0m\u001b[0;34m\u001b[0m\u001b[0m\n\u001b[1;32m    146\u001b[0m             \u001b[0munit_efforts\u001b[0m\u001b[0;34m=\u001b[0m\u001b[0munit_efforts\u001b[0m\u001b[0;34m,\u001b[0m \u001b[0mmax_effort\u001b[0m\u001b[0;34m=\u001b[0m\u001b[0mmax_effort\u001b[0m\u001b[0;34m,\u001b[0m \u001b[0meffort_weight\u001b[0m\u001b[0;34m=\u001b[0m\u001b[0meffort_weight\u001b[0m\u001b[0;34m,\u001b[0m \u001b[0mreorder\u001b[0m\u001b[0;34m=\u001b[0m\u001b[0mreorder\u001b[0m\u001b[0;34m,\u001b[0m\u001b[0;34m\u001b[0m\u001b[0m\n\u001b[0;32m--> 147\u001b[0;31m             visualize=visualize, verbose=verbose, **search_kwargs)\n\u001b[0m\u001b[1;32m    148\u001b[0m     \u001b[0;32mraise\u001b[0m \u001b[0mNotImplementedError\u001b[0m\u001b[0;34m(\u001b[0m\u001b[0malgorithm\u001b[0m\u001b[0;34m)\u001b[0m\u001b[0;34m\u001b[0m\u001b[0m\n\u001b[1;32m    149\u001b[0m \u001b[0;34m\u001b[0m\u001b[0m\n",
      "\u001b[0;32m/home/rnb/Projects/pddlstream/pddlstream/algorithms/focused.pyc\u001b[0m in \u001b[0;36msolve_adaptive\u001b[0;34m(problem, max_skeletons, search_sample_ratio, **kwargs)\u001b[0m\n\u001b[1;32m    292\u001b[0m     \u001b[0;31m#assert search_sample_ratio > 0\u001b[0m\u001b[0;34m\u001b[0m\u001b[0;34m\u001b[0m\u001b[0m\n\u001b[1;32m    293\u001b[0m     return solve_abstract(problem, max_skeletons=max_skeletons, search_sample_ratio=search_sample_ratio,\n\u001b[0;32m--> 294\u001b[0;31m                           bind=None, max_failures=None, **kwargs)\n\u001b[0m\u001b[1;32m    295\u001b[0m \u001b[0;34m\u001b[0m\u001b[0m\n\u001b[1;32m    296\u001b[0m \u001b[0;32mdef\u001b[0m \u001b[0msolve_hierarchical\u001b[0m\u001b[0;34m(\u001b[0m\u001b[0mproblem\u001b[0m\u001b[0;34m,\u001b[0m \u001b[0;34m**\u001b[0m\u001b[0mkwargs\u001b[0m\u001b[0;34m)\u001b[0m\u001b[0;34m:\u001b[0m\u001b[0;34m\u001b[0m\u001b[0m\n",
      "\u001b[0;32m/home/rnb/Projects/pddlstream/pddlstream/algorithms/focused.pyc\u001b[0m in \u001b[0;36msolve_abstract\u001b[0;34m(problem, constraints, stream_info, replan_actions, unit_costs, success_cost, max_time, max_iterations, max_memory, initial_complexity, complexity_step, max_complexity, max_skeletons, search_sample_ratio, bind, max_failures, unit_efforts, max_effort, effort_weight, reorder, visualize, verbose, **search_kwargs)\u001b[0m\n\u001b[1;32m    229\u001b[0m         \u001b[0mallocated_sample_time\u001b[0m \u001b[0;34m=\u001b[0m \u001b[0;34m(\u001b[0m\u001b[0msearch_sample_ratio\u001b[0m \u001b[0;34m*\u001b[0m \u001b[0mstore\u001b[0m\u001b[0;34m.\u001b[0m\u001b[0msearch_time\u001b[0m\u001b[0;34m)\u001b[0m \u001b[0;34m-\u001b[0m \u001b[0mstore\u001b[0m\u001b[0;34m.\u001b[0m\u001b[0msample_time\u001b[0m\u001b[0;31m \u001b[0m\u001b[0;31m\\\u001b[0m\u001b[0;34m\u001b[0m\u001b[0m\n\u001b[1;32m    230\u001b[0m             \u001b[0;32mif\u001b[0m \u001b[0mlen\u001b[0m\u001b[0;34m(\u001b[0m\u001b[0mskeleton_queue\u001b[0m\u001b[0;34m.\u001b[0m\u001b[0mskeletons\u001b[0m\u001b[0;34m)\u001b[0m \u001b[0;34m<=\u001b[0m \u001b[0mmax_skeletons\u001b[0m \u001b[0;32melse\u001b[0m \u001b[0mINF\u001b[0m\u001b[0;34m\u001b[0m\u001b[0m\n\u001b[0;32m--> 231\u001b[0;31m         \u001b[0;32mif\u001b[0m \u001b[0mskeleton_queue\u001b[0m\u001b[0;34m.\u001b[0m\u001b[0mprocess\u001b[0m\u001b[0;34m(\u001b[0m\u001b[0mstream_plan\u001b[0m\u001b[0;34m,\u001b[0m \u001b[0mopt_plan\u001b[0m\u001b[0;34m,\u001b[0m \u001b[0mcost\u001b[0m\u001b[0;34m,\u001b[0m \u001b[0mcomplexity_limit\u001b[0m\u001b[0;34m,\u001b[0m \u001b[0mallocated_sample_time\u001b[0m\u001b[0;34m)\u001b[0m \u001b[0;32mis\u001b[0m \u001b[0mINFEASIBLE\u001b[0m\u001b[0;34m:\u001b[0m\u001b[0;34m\u001b[0m\u001b[0m\n\u001b[0m\u001b[1;32m    232\u001b[0m             \u001b[0;32mbreak\u001b[0m\u001b[0;34m\u001b[0m\u001b[0m\n\u001b[1;32m    233\u001b[0m \u001b[0;34m\u001b[0m\u001b[0m\n",
      "\u001b[0;32m/home/rnb/Projects/pddlstream/pddlstream/algorithms/skeleton.pyc\u001b[0m in \u001b[0;36mprocess\u001b[0;34m(self, stream_plan, action_plan, cost, complexity_limit, max_time, accelerate)\u001b[0m\n\u001b[1;32m    373\u001b[0m         \u001b[0;32mif\u001b[0m \u001b[0mis_plan\u001b[0m\u001b[0;34m(\u001b[0m\u001b[0mstream_plan\u001b[0m\u001b[0;34m)\u001b[0m\u001b[0;34m:\u001b[0m\u001b[0;34m\u001b[0m\u001b[0m\n\u001b[1;32m    374\u001b[0m             \u001b[0mself\u001b[0m\u001b[0;34m.\u001b[0m\u001b[0mnew_skeleton\u001b[0m\u001b[0;34m(\u001b[0m\u001b[0mstream_plan\u001b[0m\u001b[0;34m,\u001b[0m \u001b[0maction_plan\u001b[0m\u001b[0;34m,\u001b[0m \u001b[0mcost\u001b[0m\u001b[0;34m)\u001b[0m\u001b[0;34m\u001b[0m\u001b[0m\n\u001b[0;32m--> 375\u001b[0;31m             \u001b[0mself\u001b[0m\u001b[0;34m.\u001b[0m\u001b[0mgreedily_process\u001b[0m\u001b[0;34m(\u001b[0m\u001b[0;34m)\u001b[0m\u001b[0;34m\u001b[0m\u001b[0m\n\u001b[0m\u001b[1;32m    376\u001b[0m         \u001b[0;32melif\u001b[0m \u001b[0;34m(\u001b[0m\u001b[0mstream_plan\u001b[0m \u001b[0;32mis\u001b[0m \u001b[0mINFEASIBLE\u001b[0m\u001b[0;34m)\u001b[0m \u001b[0;32mand\u001b[0m \u001b[0;32mnot\u001b[0m \u001b[0mself\u001b[0m\u001b[0;34m.\u001b[0m\u001b[0mprocess_until_new\u001b[0m\u001b[0;34m(\u001b[0m\u001b[0;34m)\u001b[0m\u001b[0;34m:\u001b[0m\u001b[0;34m\u001b[0m\u001b[0m\n\u001b[1;32m    377\u001b[0m             \u001b[0;31m# Move this after process_complexity\u001b[0m\u001b[0;34m\u001b[0m\u001b[0;34m\u001b[0m\u001b[0m\n",
      "\u001b[0;32m/home/rnb/Projects/pddlstream/pddlstream/algorithms/skeleton.pyc\u001b[0m in \u001b[0;36mgreedily_process\u001b[0;34m(self, only_best)\u001b[0m\n\u001b[1;32m    291\u001b[0m             \u001b[0;32mif\u001b[0m \u001b[0;34m(\u001b[0m\u001b[0monly_best\u001b[0m \u001b[0;32mand\u001b[0m \u001b[0mpriority\u001b[0m\u001b[0;34m.\u001b[0m\u001b[0mnot_best\u001b[0m\u001b[0;34m)\u001b[0m \u001b[0;32mor\u001b[0m \u001b[0mpriority\u001b[0m\u001b[0;34m.\u001b[0m\u001b[0mnot_greedy\u001b[0m\u001b[0;34m:\u001b[0m\u001b[0;34m\u001b[0m\u001b[0m\n\u001b[1;32m    292\u001b[0m                 \u001b[0;32mbreak\u001b[0m\u001b[0;34m\u001b[0m\u001b[0m\n\u001b[0;32m--> 293\u001b[0;31m             \u001b[0mnum_new\u001b[0m \u001b[0;34m+=\u001b[0m \u001b[0mself\u001b[0m\u001b[0;34m.\u001b[0m\u001b[0mprocess_root\u001b[0m\u001b[0;34m(\u001b[0m\u001b[0;34m)\u001b[0m\u001b[0;34m\u001b[0m\u001b[0m\n\u001b[0m\u001b[1;32m    294\u001b[0m         \u001b[0;32mreturn\u001b[0m \u001b[0mnum_new\u001b[0m\u001b[0;34m\u001b[0m\u001b[0m\n\u001b[1;32m    295\u001b[0m \u001b[0;34m\u001b[0m\u001b[0m\n",
      "\u001b[0;32m/home/rnb/Projects/pddlstream/pddlstream/algorithms/skeleton.pyc\u001b[0m in \u001b[0;36mprocess_root\u001b[0;34m(self)\u001b[0m\n\u001b[1;32m    278\u001b[0m     \u001b[0;32mdef\u001b[0m \u001b[0mprocess_root\u001b[0m\u001b[0;34m(\u001b[0m\u001b[0mself\u001b[0m\u001b[0;34m)\u001b[0m\u001b[0;34m:\u001b[0m\u001b[0;34m\u001b[0m\u001b[0m\n\u001b[1;32m    279\u001b[0m         \u001b[0m_\u001b[0m\u001b[0;34m,\u001b[0m \u001b[0mbinding\u001b[0m \u001b[0;34m=\u001b[0m \u001b[0mself\u001b[0m\u001b[0;34m.\u001b[0m\u001b[0mpop_binding\u001b[0m\u001b[0;34m(\u001b[0m\u001b[0;34m)\u001b[0m\u001b[0;34m\u001b[0m\u001b[0m\n\u001b[0;32m--> 280\u001b[0;31m         \u001b[0mreadd\u001b[0m\u001b[0;34m,\u001b[0m \u001b[0mis_new\u001b[0m \u001b[0;34m=\u001b[0m \u001b[0mself\u001b[0m\u001b[0;34m.\u001b[0m\u001b[0m_process_binding\u001b[0m\u001b[0;34m(\u001b[0m\u001b[0mbinding\u001b[0m\u001b[0;34m)\u001b[0m\u001b[0;34m\u001b[0m\u001b[0m\n\u001b[0m\u001b[1;32m    281\u001b[0m         \u001b[0;32mif\u001b[0m \u001b[0mreadd\u001b[0m \u001b[0;32mis\u001b[0m \u001b[0;32mnot\u001b[0m \u001b[0mFalse\u001b[0m\u001b[0;34m:\u001b[0m\u001b[0;34m\u001b[0m\u001b[0m\n\u001b[1;32m    282\u001b[0m             \u001b[0mself\u001b[0m\u001b[0;34m.\u001b[0m\u001b[0mpush_binding\u001b[0m\u001b[0;34m(\u001b[0m\u001b[0mbinding\u001b[0m\u001b[0;34m)\u001b[0m\u001b[0;34m\u001b[0m\u001b[0m\n",
      "\u001b[0;32m/home/rnb/Projects/pddlstream/pddlstream/algorithms/skeleton.pyc\u001b[0m in \u001b[0;36m_process_binding\u001b[0;34m(self, binding)\u001b[0m\n\u001b[1;32m    267\u001b[0m         \u001b[0;31m#    raise RuntimeError(instance)\u001b[0m\u001b[0;34m\u001b[0m\u001b[0;34m\u001b[0m\u001b[0m\n\u001b[1;32m    268\u001b[0m         \u001b[0;32mif\u001b[0m \u001b[0mbinding\u001b[0m\u001b[0;34m.\u001b[0m\u001b[0mup_to_date\u001b[0m\u001b[0;34m(\u001b[0m\u001b[0;34m)\u001b[0m\u001b[0;34m:\u001b[0m\u001b[0;34m\u001b[0m\u001b[0m\n\u001b[0;32m--> 269\u001b[0;31m             \u001b[0mnew_results\u001b[0m\u001b[0;34m,\u001b[0m \u001b[0m_\u001b[0m \u001b[0;34m=\u001b[0m \u001b[0mprocess_instance\u001b[0m\u001b[0;34m(\u001b[0m\u001b[0mself\u001b[0m\u001b[0;34m.\u001b[0m\u001b[0mstore\u001b[0m\u001b[0;34m,\u001b[0m \u001b[0mself\u001b[0m\u001b[0;34m.\u001b[0m\u001b[0mdomain\u001b[0m\u001b[0;34m,\u001b[0m \u001b[0minstance\u001b[0m\u001b[0;34m,\u001b[0m \u001b[0mdisable\u001b[0m\u001b[0;34m=\u001b[0m\u001b[0mself\u001b[0m\u001b[0;34m.\u001b[0m\u001b[0mdisable\u001b[0m\u001b[0;34m)\u001b[0m\u001b[0;34m\u001b[0m\u001b[0m\n\u001b[0m\u001b[1;32m    270\u001b[0m             \u001b[0mis_new\u001b[0m \u001b[0;34m=\u001b[0m \u001b[0mbool\u001b[0m\u001b[0;34m(\u001b[0m\u001b[0mnew_results\u001b[0m\u001b[0;34m)\u001b[0m\u001b[0;34m\u001b[0m\u001b[0m\n\u001b[1;32m    271\u001b[0m         \u001b[0;32mfor\u001b[0m \u001b[0mnew_binding\u001b[0m \u001b[0;32min\u001b[0m \u001b[0mbinding\u001b[0m\u001b[0;34m.\u001b[0m\u001b[0mupdate_bindings\u001b[0m\u001b[0;34m(\u001b[0m\u001b[0;34m)\u001b[0m\u001b[0;34m:\u001b[0m\u001b[0;34m\u001b[0m\u001b[0m\n",
      "\u001b[0;32m/home/rnb/Projects/pddlstream/pddlstream/algorithms/disabled.pyc\u001b[0m in \u001b[0;36mprocess_instance\u001b[0;34m(store, domain, instance, disable)\u001b[0m\n\u001b[1;32m     58\u001b[0m         \u001b[0;32mreturn\u001b[0m \u001b[0;34m[\u001b[0m\u001b[0;34m]\u001b[0m\u001b[0;34m,\u001b[0m \u001b[0;34m[\u001b[0m\u001b[0;34m]\u001b[0m\u001b[0;34m\u001b[0m\u001b[0m\n\u001b[1;32m     59\u001b[0m     \u001b[0mstart_time\u001b[0m \u001b[0;34m=\u001b[0m \u001b[0mtime\u001b[0m\u001b[0;34m.\u001b[0m\u001b[0mtime\u001b[0m\u001b[0;34m(\u001b[0m\u001b[0;34m)\u001b[0m\u001b[0;34m\u001b[0m\u001b[0m\n\u001b[0;32m---> 60\u001b[0;31m     \u001b[0mnew_results\u001b[0m\u001b[0;34m,\u001b[0m \u001b[0mnew_facts\u001b[0m \u001b[0;34m=\u001b[0m \u001b[0minstance\u001b[0m\u001b[0;34m.\u001b[0m\u001b[0mnext_results\u001b[0m\u001b[0;34m(\u001b[0m\u001b[0mverbose\u001b[0m\u001b[0;34m=\u001b[0m\u001b[0mstore\u001b[0m\u001b[0;34m.\u001b[0m\u001b[0mverbose\u001b[0m\u001b[0;34m)\u001b[0m\u001b[0;34m\u001b[0m\u001b[0m\n\u001b[0m\u001b[1;32m     61\u001b[0m     \u001b[0mstore\u001b[0m\u001b[0;34m.\u001b[0m\u001b[0msample_time\u001b[0m \u001b[0;34m+=\u001b[0m \u001b[0melapsed_time\u001b[0m\u001b[0;34m(\u001b[0m\u001b[0mstart_time\u001b[0m\u001b[0;34m)\u001b[0m\u001b[0;34m\u001b[0m\u001b[0m\n\u001b[1;32m     62\u001b[0m \u001b[0;34m\u001b[0m\u001b[0m\n",
      "\u001b[0;32m/home/rnb/Projects/pddlstream/pddlstream/language/stream.pyc\u001b[0m in \u001b[0;36mnext_results\u001b[0;34m(self, verbose)\u001b[0m\n\u001b[1;32m    280\u001b[0m         \u001b[0mstart_time\u001b[0m \u001b[0;34m=\u001b[0m \u001b[0mtime\u001b[0m\u001b[0;34m.\u001b[0m\u001b[0mtime\u001b[0m\u001b[0;34m(\u001b[0m\u001b[0;34m)\u001b[0m\u001b[0;34m\u001b[0m\u001b[0m\n\u001b[1;32m    281\u001b[0m         \u001b[0mstart_history\u001b[0m \u001b[0;34m=\u001b[0m \u001b[0mlen\u001b[0m\u001b[0;34m(\u001b[0m\u001b[0mself\u001b[0m\u001b[0;34m.\u001b[0m\u001b[0mhistory\u001b[0m\u001b[0;34m)\u001b[0m\u001b[0;34m\u001b[0m\u001b[0m\n\u001b[0;32m--> 282\u001b[0;31m         \u001b[0mnew_values\u001b[0m\u001b[0;34m,\u001b[0m \u001b[0mnew_facts\u001b[0m \u001b[0;34m=\u001b[0m \u001b[0mself\u001b[0m\u001b[0;34m.\u001b[0m\u001b[0m_next_outputs\u001b[0m\u001b[0;34m(\u001b[0m\u001b[0;34m)\u001b[0m\u001b[0;34m\u001b[0m\u001b[0m\n\u001b[0m\u001b[1;32m    283\u001b[0m         \u001b[0mself\u001b[0m\u001b[0;34m.\u001b[0m\u001b[0m_check_output_values\u001b[0m\u001b[0;34m(\u001b[0m\u001b[0mnew_values\u001b[0m\u001b[0;34m)\u001b[0m\u001b[0;34m\u001b[0m\u001b[0m\n\u001b[1;32m    284\u001b[0m         \u001b[0mself\u001b[0m\u001b[0;34m.\u001b[0m\u001b[0m_check_wild_facts\u001b[0m\u001b[0;34m(\u001b[0m\u001b[0mnew_facts\u001b[0m\u001b[0;34m)\u001b[0m\u001b[0;34m\u001b[0m\u001b[0m\n",
      "\u001b[0;32m/home/rnb/Projects/pddlstream/pddlstream/language/stream.pyc\u001b[0m in \u001b[0;36m_next_outputs\u001b[0;34m(self)\u001b[0m\n\u001b[1;32m    255\u001b[0m     \u001b[0;32mdef\u001b[0m \u001b[0m_next_outputs\u001b[0m\u001b[0;34m(\u001b[0m\u001b[0mself\u001b[0m\u001b[0;34m)\u001b[0m\u001b[0;34m:\u001b[0m\u001b[0;34m\u001b[0m\u001b[0m\n\u001b[1;32m    256\u001b[0m         \u001b[0;31m# TODO: deprecate\u001b[0m\u001b[0;34m\u001b[0m\u001b[0;34m\u001b[0m\u001b[0m\n\u001b[0;32m--> 257\u001b[0;31m         \u001b[0mself\u001b[0m\u001b[0;34m.\u001b[0m\u001b[0m_create_generator\u001b[0m\u001b[0;34m(\u001b[0m\u001b[0;34m)\u001b[0m\u001b[0;34m\u001b[0m\u001b[0m\n\u001b[0m\u001b[1;32m    258\u001b[0m         \u001b[0;31m# TODO: shuffle history\u001b[0m\u001b[0;34m\u001b[0m\u001b[0;34m\u001b[0m\u001b[0m\n\u001b[1;32m    259\u001b[0m         \u001b[0;31m# TODO: return all test stream outputs at once\u001b[0m\u001b[0;34m\u001b[0m\u001b[0;34m\u001b[0m\u001b[0m\n",
      "\u001b[0;32m/home/rnb/Projects/pddlstream/pddlstream/language/stream.pyc\u001b[0m in \u001b[0;36m_create_generator\u001b[0;34m(self)\u001b[0m\n\u001b[1;32m    245\u001b[0m             \u001b[0mself\u001b[0m\u001b[0;34m.\u001b[0m\u001b[0m_generator\u001b[0m \u001b[0;34m=\u001b[0m \u001b[0mself\u001b[0m\u001b[0;34m.\u001b[0m\u001b[0mexternal\u001b[0m\u001b[0;34m.\u001b[0m\u001b[0mgen_fn\u001b[0m\u001b[0;34m(\u001b[0m\u001b[0;34m*\u001b[0m\u001b[0minput_values\u001b[0m\u001b[0;34m,\u001b[0m \u001b[0mfluents\u001b[0m\u001b[0;34m=\u001b[0m\u001b[0mself\u001b[0m\u001b[0;34m.\u001b[0m\u001b[0mget_fluent_values\u001b[0m\u001b[0;34m(\u001b[0m\u001b[0;34m)\u001b[0m\u001b[0;34m)\u001b[0m\u001b[0;34m\u001b[0m\u001b[0m\n\u001b[1;32m    246\u001b[0m         \u001b[0;32melse\u001b[0m\u001b[0;34m:\u001b[0m\u001b[0;34m\u001b[0m\u001b[0m\n\u001b[0;32m--> 247\u001b[0;31m             \u001b[0mself\u001b[0m\u001b[0;34m.\u001b[0m\u001b[0m_generator\u001b[0m \u001b[0;34m=\u001b[0m \u001b[0mself\u001b[0m\u001b[0;34m.\u001b[0m\u001b[0mexternal\u001b[0m\u001b[0;34m.\u001b[0m\u001b[0mgen_fn\u001b[0m\u001b[0;34m(\u001b[0m\u001b[0;34m*\u001b[0m\u001b[0minput_values\u001b[0m\u001b[0;34m)\u001b[0m\u001b[0;34m\u001b[0m\u001b[0m\n\u001b[0m\u001b[1;32m    248\u001b[0m \u001b[0;34m\u001b[0m\u001b[0m\n\u001b[1;32m    249\u001b[0m     \u001b[0;32mdef\u001b[0m \u001b[0m_next_wild\u001b[0m\u001b[0;34m(\u001b[0m\u001b[0mself\u001b[0m\u001b[0;34m)\u001b[0m\u001b[0;34m:\u001b[0m\u001b[0;34m\u001b[0m\u001b[0m\n",
      "\u001b[0;32m/home/rnb/Projects/pddlstream/pddlstream/language/generator.pyc\u001b[0m in \u001b[0;36m<lambda>\u001b[0;34m(*args, **kwargs)\u001b[0m\n\u001b[1;32m     69\u001b[0m \u001b[0;32mdef\u001b[0m \u001b[0mfrom_list_fn\u001b[0m\u001b[0;34m(\u001b[0m\u001b[0mlist_fn\u001b[0m\u001b[0;34m)\u001b[0m\u001b[0;34m:\u001b[0m\u001b[0;34m\u001b[0m\u001b[0m\n\u001b[1;32m     70\u001b[0m     \u001b[0;31m#return lambda *args, **kwargs: iter([list_fn(*args, **kwargs)])\u001b[0m\u001b[0;34m\u001b[0m\u001b[0;34m\u001b[0m\u001b[0m\n\u001b[0;32m---> 71\u001b[0;31m     \u001b[0;32mreturn\u001b[0m \u001b[0;32mlambda\u001b[0m \u001b[0;34m*\u001b[0m\u001b[0margs\u001b[0m\u001b[0;34m,\u001b[0m \u001b[0;34m**\u001b[0m\u001b[0mkwargs\u001b[0m\u001b[0;34m:\u001b[0m \u001b[0mBoundedGenerator\u001b[0m\u001b[0;34m(\u001b[0m\u001b[0miter\u001b[0m\u001b[0;34m(\u001b[0m\u001b[0;34m[\u001b[0m\u001b[0mlist_fn\u001b[0m\u001b[0;34m(\u001b[0m\u001b[0;34m*\u001b[0m\u001b[0margs\u001b[0m\u001b[0;34m,\u001b[0m \u001b[0;34m**\u001b[0m\u001b[0mkwargs\u001b[0m\u001b[0;34m)\u001b[0m\u001b[0;34m]\u001b[0m\u001b[0;34m)\u001b[0m\u001b[0;34m,\u001b[0m \u001b[0mmax_calls\u001b[0m\u001b[0;34m=\u001b[0m\u001b[0;36m1\u001b[0m\u001b[0;34m)\u001b[0m\u001b[0;34m\u001b[0m\u001b[0m\n\u001b[0m\u001b[1;32m     72\u001b[0m \u001b[0;34m\u001b[0m\u001b[0m\n\u001b[1;32m     73\u001b[0m \u001b[0;34m\u001b[0m\u001b[0m\n",
      "\u001b[0;32m/home/rnb/Projects/pddlstream/pddlstream/language/generator.pyc\u001b[0m in \u001b[0;36mlist_fn\u001b[0;34m(*args, **kwargs)\u001b[0m\n\u001b[1;32m     74\u001b[0m \u001b[0;32mdef\u001b[0m \u001b[0mfrom_fn\u001b[0m\u001b[0;34m(\u001b[0m\u001b[0mfn\u001b[0m\u001b[0;34m)\u001b[0m\u001b[0;34m:\u001b[0m\u001b[0;34m\u001b[0m\u001b[0m\n\u001b[1;32m     75\u001b[0m     \u001b[0;32mdef\u001b[0m \u001b[0mlist_fn\u001b[0m\u001b[0;34m(\u001b[0m\u001b[0;34m*\u001b[0m\u001b[0margs\u001b[0m\u001b[0;34m,\u001b[0m \u001b[0;34m**\u001b[0m\u001b[0mkwargs\u001b[0m\u001b[0;34m)\u001b[0m\u001b[0;34m:\u001b[0m\u001b[0;34m\u001b[0m\u001b[0m\n\u001b[0;32m---> 76\u001b[0;31m         \u001b[0moutputs\u001b[0m \u001b[0;34m=\u001b[0m \u001b[0mfn\u001b[0m\u001b[0;34m(\u001b[0m\u001b[0;34m*\u001b[0m\u001b[0margs\u001b[0m\u001b[0;34m,\u001b[0m \u001b[0;34m**\u001b[0m\u001b[0mkwargs\u001b[0m\u001b[0;34m)\u001b[0m\u001b[0;34m\u001b[0m\u001b[0m\n\u001b[0m\u001b[1;32m     77\u001b[0m         \u001b[0;32mreturn\u001b[0m \u001b[0;34m[\u001b[0m\u001b[0;34m]\u001b[0m \u001b[0;32mif\u001b[0m \u001b[0moutputs\u001b[0m \u001b[0;32mis\u001b[0m \u001b[0mNone\u001b[0m \u001b[0;32melse\u001b[0m \u001b[0;34m[\u001b[0m\u001b[0moutputs\u001b[0m\u001b[0;34m]\u001b[0m\u001b[0;34m\u001b[0m\u001b[0m\n\u001b[1;32m     78\u001b[0m     \u001b[0;32mreturn\u001b[0m \u001b[0mfrom_list_fn\u001b[0m\u001b[0;34m(\u001b[0m\u001b[0mlist_fn\u001b[0m\u001b[0;34m)\u001b[0m\u001b[0;34m\u001b[0m\u001b[0m\n",
      "\u001b[0;32m/home/rnb/Projects/rnb-planning/src/scripts/developing/pddlstream/primitives_rnb.pyc\u001b[0m in \u001b[0;36mfn\u001b[0;34m(body, pose, grasp)\u001b[0m\n\u001b[1;32m    130\u001b[0m         \u001b[0;32mwith\u001b[0m \u001b[0mGlobalTimer\u001b[0m\u001b[0;34m.\u001b[0m\u001b[0minstance\u001b[0m\u001b[0;34m(\u001b[0m\u001b[0;34m)\u001b[0m\u001b[0;34m.\u001b[0m\u001b[0mblock\u001b[0m\u001b[0;34m(\u001b[0m\u001b[0;34m\"ik_fn\"\u001b[0m\u001b[0;34m)\u001b[0m\u001b[0;34m:\u001b[0m\u001b[0;34m\u001b[0m\u001b[0m\n\u001b[1;32m    131\u001b[0m             if not check_feas(pscene, body_subject_map, actor, checkers,\n\u001b[0;32m--> 132\u001b[0;31m                               home_dict, body, pose, grasp, base_link=base_link):\n\u001b[0m\u001b[1;32m    133\u001b[0m                 \u001b[0;32mreturn\u001b[0m \u001b[0mNone\u001b[0m\u001b[0;34m\u001b[0m\u001b[0m\n\u001b[1;32m    134\u001b[0m             \u001b[0mobstacles\u001b[0m \u001b[0;34m=\u001b[0m \u001b[0;34m[\u001b[0m\u001b[0mbody\u001b[0m\u001b[0;34m]\u001b[0m \u001b[0;34m+\u001b[0m \u001b[0mfixed\u001b[0m\u001b[0;34m\u001b[0m\u001b[0m\n",
      "\u001b[0;32m/home/rnb/Projects/rnb-planning/src/scripts/developing/pddlstream/primitives_rnb.pyc\u001b[0m in \u001b[0;36mcheck_feas\u001b[0;34m(pscene, body_subject_map, actor, checkers, home_dict, body, pose, grasp, base_link)\u001b[0m\n\u001b[1;32m    117\u001b[0m         \u001b[0;32mfor\u001b[0m \u001b[0mchecker\u001b[0m \u001b[0;32min\u001b[0m \u001b[0mcheckers\u001b[0m\u001b[0;34m:\u001b[0m\u001b[0;34m\u001b[0m\u001b[0m\n\u001b[1;32m    118\u001b[0m             \u001b[0;32mwith\u001b[0m \u001b[0mgtimer\u001b[0m\u001b[0;34m.\u001b[0m\u001b[0mblock\u001b[0m\u001b[0;34m(\u001b[0m\u001b[0mchecker\u001b[0m\u001b[0;34m.\u001b[0m\u001b[0m__class__\u001b[0m\u001b[0;34m.\u001b[0m\u001b[0m__name__\u001b[0m\u001b[0;34m)\u001b[0m\u001b[0;34m:\u001b[0m\u001b[0;34m\u001b[0m\u001b[0m\n\u001b[0;32m--> 119\u001b[0;31m                 \u001b[0;32mif\u001b[0m \u001b[0;32mnot\u001b[0m \u001b[0mchecker\u001b[0m\u001b[0;34m.\u001b[0m\u001b[0mcheck_T_loal\u001b[0m\u001b[0;34m(\u001b[0m\u001b[0mactor\u001b[0m\u001b[0;34m,\u001b[0m \u001b[0msubject\u001b[0m\u001b[0;34m,\u001b[0m \u001b[0mTboal\u001b[0m\u001b[0;34m,\u001b[0m \u001b[0mhome_dict\u001b[0m\u001b[0;34m,\u001b[0m \u001b[0mignore\u001b[0m\u001b[0;34m=\u001b[0m\u001b[0mignore\u001b[0m\u001b[0;34m)\u001b[0m\u001b[0;34m:\u001b[0m\u001b[0;34m\u001b[0m\u001b[0m\n\u001b[0m\u001b[1;32m    120\u001b[0m                     \u001b[0;32mreturn\u001b[0m \u001b[0mFalse\u001b[0m\u001b[0;34m\u001b[0m\u001b[0m\n\u001b[1;32m    121\u001b[0m                 \u001b[0;32mif\u001b[0m \u001b[0;32mnot\u001b[0m \u001b[0mchecker\u001b[0m\u001b[0;34m.\u001b[0m\u001b[0mcheck_T_loal\u001b[0m\u001b[0;34m(\u001b[0m\u001b[0mactor\u001b[0m\u001b[0;34m,\u001b[0m \u001b[0msubject\u001b[0m\u001b[0;34m,\u001b[0m \u001b[0mTboal_ap\u001b[0m\u001b[0;34m,\u001b[0m \u001b[0mhome_dict\u001b[0m\u001b[0;34m,\u001b[0m \u001b[0mignore\u001b[0m\u001b[0;34m=\u001b[0m\u001b[0mignore\u001b[0m\u001b[0;34m)\u001b[0m\u001b[0;34m:\u001b[0m\u001b[0;34m\u001b[0m\u001b[0m\n",
      "\u001b[0;32m/home/rnb/Projects/rnb-planning/src/pkg/planning/filtering/latticized_filter.py\u001b[0m in \u001b[0;36mcheck_T_loal\u001b[0;34m(self, actor, obj, T_loal, Q_dict, interpolate, **kwargs)\u001b[0m\n\u001b[1;32m    201\u001b[0m         \u001b[0mgrasp_img\u001b[0m \u001b[0;34m=\u001b[0m \u001b[0mnp\u001b[0m\u001b[0;34m.\u001b[0m\u001b[0mstack\u001b[0m\u001b[0;34m(\u001b[0m\u001b[0;34m[\u001b[0m\u001b[0mgrasp_tool_img\u001b[0m\u001b[0;34m,\u001b[0m \u001b[0mgrasp_obj_img\u001b[0m\u001b[0;34m,\u001b[0m \u001b[0mgrasp_tar_img\u001b[0m\u001b[0;34m]\u001b[0m\u001b[0;34m,\u001b[0m \u001b[0maxis\u001b[0m\u001b[0;34m=\u001b[0m\u001b[0;34m-\u001b[0m\u001b[0;36m1\u001b[0m\u001b[0;34m)\u001b[0m\u001b[0;34m\u001b[0m\u001b[0m\n\u001b[1;32m    202\u001b[0m         res = self.query_wait_response(self.rconfig_dict[group_name].type.name,\n\u001b[0;32m--> 203\u001b[0;31m                                        \u001b[0mnp\u001b[0m\u001b[0;34m.\u001b[0m\u001b[0marray\u001b[0m\u001b[0;34m(\u001b[0m\u001b[0;34m[\u001b[0m\u001b[0mgrasp_img\u001b[0m\u001b[0;34m]\u001b[0m\u001b[0;34m)\u001b[0m\u001b[0;34m,\u001b[0m \u001b[0mnp\u001b[0m\u001b[0;34m.\u001b[0m\u001b[0marray\u001b[0m\u001b[0;34m(\u001b[0m\u001b[0;34m[\u001b[0m\u001b[0marm_img\u001b[0m\u001b[0;34m]\u001b[0m\u001b[0;34m)\u001b[0m\u001b[0;34m,\u001b[0m \u001b[0mnp\u001b[0m\u001b[0;34m.\u001b[0m\u001b[0marray\u001b[0m\u001b[0;34m(\u001b[0m\u001b[0;34m[\u001b[0m\u001b[0mrh_vals\u001b[0m\u001b[0;34m]\u001b[0m\u001b[0;34m)\u001b[0m\u001b[0;34m,\u001b[0m\u001b[0;34m\u001b[0m\u001b[0m\n\u001b[0m\u001b[1;32m    204\u001b[0m                                        )[0]\n\u001b[1;32m    205\u001b[0m         \u001b[0;32mreturn\u001b[0m \u001b[0mres\u001b[0m\u001b[0;34m[\u001b[0m\u001b[0;34m-\u001b[0m\u001b[0;36m1\u001b[0m\u001b[0;34m]\u001b[0m\u001b[0;34m>\u001b[0m\u001b[0;36m0.5\u001b[0m\u001b[0;34m\u001b[0m\u001b[0m\n",
      "\u001b[0;32m/home/rnb/Projects/rnb-planning/src/pkg/planning/filtering/latticized_filter.py\u001b[0m in \u001b[0;36mquery_wait_response\u001b[0;34m(self, robot_type_name, grasp_img_batch, arm_img_batch, rh_vals_batch)\u001b[0m\n\u001b[1;32m    211\u001b[0m         \u001b[0mself\u001b[0m\u001b[0;34m.\u001b[0m\u001b[0mquery_in_dict\u001b[0m\u001b[0;34m[\u001b[0m\u001b[0mrobot_type_name\u001b[0m\u001b[0;34m]\u001b[0m\u001b[0;34m[\u001b[0m\u001b[0;36m0\u001b[0m\u001b[0;34m]\u001b[0m \u001b[0;34m=\u001b[0m \u001b[0mTrue\u001b[0m\u001b[0;34m\u001b[0m\u001b[0m\n\u001b[1;32m    212\u001b[0m         \u001b[0;32mwhile\u001b[0m \u001b[0;32mnot\u001b[0m \u001b[0mself\u001b[0m\u001b[0;34m.\u001b[0m\u001b[0mresponse_out_dict\u001b[0m\u001b[0;34m[\u001b[0m\u001b[0mrobot_type_name\u001b[0m\u001b[0;34m]\u001b[0m\u001b[0;34m[\u001b[0m\u001b[0;36m0\u001b[0m\u001b[0;34m]\u001b[0m\u001b[0;34m:\u001b[0m\u001b[0;34m\u001b[0m\u001b[0m\n\u001b[0;32m--> 213\u001b[0;31m             \u001b[0mtime\u001b[0m\u001b[0;34m.\u001b[0m\u001b[0msleep\u001b[0m\u001b[0;34m(\u001b[0m\u001b[0mSERVER_PERIOD\u001b[0m\u001b[0;34m)\u001b[0m\u001b[0;34m\u001b[0m\u001b[0m\n\u001b[0m\u001b[1;32m    214\u001b[0m         \u001b[0mself\u001b[0m\u001b[0;34m.\u001b[0m\u001b[0mresponse_out_dict\u001b[0m\u001b[0;34m[\u001b[0m\u001b[0mrobot_type_name\u001b[0m\u001b[0;34m]\u001b[0m\u001b[0;34m[\u001b[0m\u001b[0;36m0\u001b[0m\u001b[0;34m]\u001b[0m \u001b[0;34m=\u001b[0m \u001b[0mFalse\u001b[0m\u001b[0;34m\u001b[0m\u001b[0m\n\u001b[1;32m    215\u001b[0m         \u001b[0;32mreturn\u001b[0m \u001b[0mnp\u001b[0m\u001b[0;34m.\u001b[0m\u001b[0mcopy\u001b[0m\u001b[0;34m(\u001b[0m\u001b[0mself\u001b[0m\u001b[0;34m.\u001b[0m\u001b[0mresult_p_dict\u001b[0m\u001b[0;34m[\u001b[0m\u001b[0mrobot_type_name\u001b[0m\u001b[0;34m]\u001b[0m\u001b[0;34m)\u001b[0m\u001b[0;34m\u001b[0m\u001b[0m\n",
      "\u001b[0;31mKeyboardInterrupt\u001b[0m: "
     ]
    }
   ],
   "source": [
    "log_wFeas = []\n",
    "for _ in range(1):\n",
    "    problem = pddlstream_from_problem_rnb(pscene, robot_body, body_names=body_names, \n",
    "                                          movable=movable_bodies, checkers=checkers_all,\n",
    "                                          tool_name=TOOL_NAME, tool_link_name=TOOL_LINK, mplan=mplan)\n",
    "    _, _, _, stream_map, init, goal = problem\n",
    "    print('Init:', init)\n",
    "    print('Goal:', goal)\n",
    "    print('Streams:', str_from_object(set(stream_map)))\n",
    "    with Profiler():\n",
    "        with LockRenderer(lock=not True):\n",
    "            with gtimer.block(\"solve\"):\n",
    "                solution = solve(problem, algorithm='adaptive', unit_costs=False, success_cost=INF, max_time=10)\n",
    "            saver.restore()\n",
    "    print_solution(solution)\n",
    "    plan, cost, evaluations = solution\n",
    "    log_wFeas.append(cost)"
   ]
  },
  {
   "cell_type": "code",
   "execution_count": null,
   "metadata": {},
   "outputs": [],
   "source": [
    "print(gtimer)\n",
    "\n",
    "time_array = np.array(gtimer.timelist_dict[\"solve\"])\n",
    "success_array = np.array(log_woFeas)<1\n",
    "print(\"solve-mean: {} ms\".format(np.round(np.mean(time_array[np.where(success_array)[0]]), 1)))\n",
    "print(\"solve-median: {} ms\".format(np.round(np.median(time_array[np.where(success_array)[0]]), 1)))\n",
    "print(\"success rate: {} %\".format(np.mean(success_array)*100))"
   ]
  },
  {
   "cell_type": "code",
   "execution_count": null,
   "metadata": {},
   "outputs": [],
   "source": []
  },
  {
   "cell_type": "code",
   "execution_count": null,
   "metadata": {},
   "outputs": [],
   "source": []
  },
  {
   "cell_type": "markdown",
   "metadata": {},
   "source": [
    "## Play plan"
   ]
  },
  {
   "cell_type": "code",
   "execution_count": null,
   "metadata": {},
   "outputs": [],
   "source": [
    "SIMULATE = False\n",
    "if (plan is None) or not has_gui():\n",
    "    disconnect()\n",
    "else:\n",
    "    command = postprocess_plan(plan)\n",
    "    if SIMULATE:\n",
    "#         wait_for_user('Simulate?')\n",
    "        command.control()\n",
    "    else:\n",
    "#         wait_for_user('Execute?')\n",
    "        #command.step()\n",
    "        command.refine(num_steps=10).execute(time_step=0.001)"
   ]
  },
  {
   "cell_type": "code",
   "execution_count": null,
   "metadata": {},
   "outputs": [],
   "source": []
  },
  {
   "cell_type": "code",
   "execution_count": null,
   "metadata": {},
   "outputs": [],
   "source": []
  },
  {
   "cell_type": "code",
   "execution_count": null,
   "metadata": {},
   "outputs": [],
   "source": [
    "raise"
   ]
  },
  {
   "cell_type": "markdown",
   "metadata": {},
   "source": [
    "## Full version"
   ]
  },
  {
   "cell_type": "code",
   "execution_count": null,
   "metadata": {},
   "outputs": [],
   "source": [
    "gtimer = GlobalTimer.instance()\n",
    "gtimer.reset()\n",
    "for i_s in range(SAMPLE_NUM):\n",
    "    ## add floor, ceiling\n",
    "    floor = Floor(gscene, \"floor\")\n",
    "    gscene.create_safe(gtype=GEOTYPE.BOX, name=\"base\", link_name=\"base_link\", \n",
    "                       dims=(0.2, 0.2, -floor.RTH[2]), center=(0,0,floor.RTH[2]/2), rpy=(0,0,0), \n",
    "                       color=floor.geometry.color, display=True, collision=True, fixed=True)\n",
    "    # ceiling = Ceiling(gscene, \"ceiling\")\n",
    "\n",
    "    ## set workplane\n",
    "    wp = WorkPlane(gscene, \"wp\", floor_height=floor.RTH[2]+floor.DIM[2]/2)\n",
    "    pscene.create_binder(bname=\"wp\", gname=\"wp\", _type=PlacePlane, point=None)\n",
    "\n",
    "    gp_colliding = True\n",
    "    while gp_colliding:\n",
    "        ## set goalplane\n",
    "        gp = SideBox(gscene, \"gp\", floor_height=wp.RTH[2]+wp.RTH[2]/2)\n",
    "        gp_colliding = wp.is_overlapped_with(gp.geometry)\n",
    "    pscene.create_binder(bname=\"gp\", gname=\"gp\", _type=PlacePlane, point=None)\n",
    "\n",
    "\n",
    "    ## add object\n",
    "    obj_list = disperse_objects(gscene, PlaneObject, \"obj\", Nmax_obj, workplane_on=wp)\n",
    "\n",
    "    obj_set_list = []\n",
    "    for i_obj, obj in enumerate(obj_list):\n",
    "        obj_pscene, handles = add_object(pscene, obj)\n",
    "        obj_set_list.append((obj, obj_pscene, handles))\n",
    "    obj, obj_pscene, handles = obj_set_list[0]\n",
    "\n",
    "    obj_pscene.geometry.color = (0.8,0.2,0.2,1)\n",
    "    if VISUALIZE:\n",
    "        gscene.set_rviz()\n",
    "\n",
    "    mplan.update_gscene()\n",
    "    initial_state = pscene.initialize_state(HOME_POSE)\n",
    "    pscene.set_object_state(initial_state)\n",
    "    from_state = initial_state.copy(pscene)\n",
    "\n",
    "    ppline.set_motion_planner(mplan)\n",
    "    ppline.set_task_planner(tplan)\n",
    "\n",
    "    gtimer = GlobalTimer.instance()\n",
    "    gtimer.reset()\n",
    "\n",
    "\n",
    "\n",
    "    for checker_idx in range(4):\n",
    "        mplan.motion_filters = checkers_all[:checker_idx]\n",
    "        goal_nodes = [(\"gp\",)+deepcopy(from_state.node)[1:]]\n",
    "        mplan.reset_log(True)\n",
    "        gtimer.tic(\"plan\")\n",
    "        ppline.search(initial_state, goal_nodes, verbose=True, display=False, dt_vis=0.01, timeout_loop=600, multiprocess=False, timeout=5)\n",
    "        elapsed = gtimer.toc(\"plan\")/1000\n",
    "        schedules = ppline.find_schedules()\n",
    "        res = len(schedules)>0\n",
    "        if res:\n",
    "            schedule = ppline.sort_schedule(schedules)[0]\n",
    "            move_num = len(schedule)-1\n",
    "        else:\n",
    "            move_num = 0\n",
    "        plan_num = len(mplan.result_log[\"planning\"])\n",
    "        fail_num = np.sum(np.logical_not(mplan.result_log[\"planning\"]))\n",
    "        results_dict_3_shelf[checker_idx].append([elapsed, move_num, plan_num, fail_num, res])"
   ]
  },
  {
   "cell_type": "code",
   "execution_count": null,
   "metadata": {},
   "outputs": [],
   "source": []
  },
  {
   "cell_type": "code",
   "execution_count": null,
   "metadata": {},
   "outputs": [],
   "source": []
  },
  {
   "cell_type": "code",
   "execution_count": null,
   "metadata": {},
   "outputs": [],
   "source": []
  },
  {
   "cell_type": "code",
   "execution_count": null,
   "metadata": {
    "scrolled": true
   },
   "outputs": [],
   "source": [
    "for k,v in results_dict_3_shelf.items():\n",
    "    vv = np.array(v)\n",
    "    if len(vv)>0:\n",
    "        print(\"{}: {}\".format(k, list(np.mean(vv[np.where(vv[:,-1])[0], :-1], axis=0))+[np.sum(np.logical_not(vv[:,-1])), len(vv)]))"
   ]
  },
  {
   "cell_type": "code",
   "execution_count": null,
   "metadata": {},
   "outputs": [],
   "source": [
    "save_json(os.path.join(DATASET_PATH, \"results_dict_3_shelf.json\"), results_dict_3_shelf)"
   ]
  },
  {
   "cell_type": "code",
   "execution_count": null,
   "metadata": {},
   "outputs": [],
   "source": []
  },
  {
   "cell_type": "code",
   "execution_count": null,
   "metadata": {},
   "outputs": [],
   "source": [
    "ROBOT_DATA_ROOT = os.path.join(TEST_DATA_PATH, ROBOT_TYPE.name)\n",
    "try_mkdir(ROBOT_DATA_ROOT)\n",
    "\n",
    "DATASET_PATH = os.path.join(ROBOT_DATA_ROOT, get_now())\n",
    "# DATASET_PATH = os.path.join(ROBOT_DATA_ROOT, '20210223-051658')\n",
    "try_mkdir(DATASET_PATH)\n",
    "print(\"\")\n",
    "print(\"DATASET_PATH: {}\".format(DATASET_PATH))\n",
    "print(\"\")"
   ]
  },
  {
   "cell_type": "code",
   "execution_count": null,
   "metadata": {},
   "outputs": [],
   "source": []
  },
  {
   "cell_type": "markdown",
   "metadata": {},
   "source": [
    "## sample with pole"
   ]
  },
  {
   "cell_type": "code",
   "execution_count": null,
   "metadata": {},
   "outputs": [],
   "source": [
    "Nmax_obj = 3\n",
    "\n",
    "SAMPLE_NUM = 10\n",
    "\n",
    "SHOW_PERIOD = 0.01\n",
    "\n",
    "results_dict_3_pole = {0:[], 1:[], 2:[], 3:[]}\n",
    "# results_dict_3_plane = {int(k): v for k, v in load_json(os.path.join(DATASET_PATH, \"results_dict_3_plane.json\")).items()}"
   ]
  },
  {
   "cell_type": "code",
   "execution_count": null,
   "metadata": {},
   "outputs": [],
   "source": [
    "gtimer = GlobalTimer.instance()\n",
    "gtimer.reset()\n",
    "for i_s in range(SAMPLE_NUM):\n",
    "    ## add floor, ceiling\n",
    "    floor = Floor(gscene, \"floor\")\n",
    "    gscene.create_safe(gtype=GEOTYPE.BOX, name=\"base\", link_name=\"base_link\", \n",
    "                       dims=(0.2, 0.2, -floor.RTH[2]), center=(0,0,floor.RTH[2]/2), rpy=(0,0,0), \n",
    "                       color=floor.geometry.color, display=True, collision=True, fixed=True)\n",
    "    # ceiling = Ceiling(gscene, \"ceiling\")\n",
    "\n",
    "    ## set workplane\n",
    "    wp = WorkPlane(gscene, \"wp\", floor_height=floor.RTH[2]+floor.DIM[2]/2)\n",
    "    pscene.create_binder(bname=\"wp\", gname=\"wp\", _type=PlacePlane, point=None)\n",
    "\n",
    "    gp_colliding = True\n",
    "    while gp_colliding:\n",
    "        ## set goalplane\n",
    "        gp = SideBox(gscene, \"gp\", floor_height=wp.RTH[2]+wp.RTH[2]/2)\n",
    "        gp_colliding = wp.is_overlapped_with(gp.geometry)\n",
    "    pscene.create_binder(bname=\"gp\", gname=\"gp\", _type=PlacePlane, point=None)\n",
    "\n",
    "    pole = Pole(gscene, \"pole\", RTH=[0.3, gp.RTH[1], 0])\n",
    "\n",
    "    ## add object\n",
    "    obj_list = disperse_objects(gscene, PlaneObject, \"obj\", Nmax_obj, workplane_on=wp)\n",
    "\n",
    "    obj_set_list = []\n",
    "    for i_obj, obj in enumerate(obj_list):\n",
    "        obj_pscene, handles = add_object(pscene, obj)\n",
    "        obj_set_list.append((obj, obj_pscene, handles))\n",
    "    obj, obj_pscene, handles = obj_set_list[0]\n",
    "\n",
    "    obj_pscene.geometry.color = (0.8,0.2,0.2,1)\n",
    "    if VISUALIZE:\n",
    "        gscene.set_rviz()\n",
    "\n",
    "    mplan.update_gscene()\n",
    "    initial_state = pscene.initialize_state(HOME_POSE)\n",
    "    pscene.set_object_state(initial_state)\n",
    "    from_state = initial_state.copy(pscene)\n",
    "\n",
    "    ppline.set_motion_planner(mplan)\n",
    "    ppline.set_task_planner(tplan)\n",
    "\n",
    "    gtimer = GlobalTimer.instance()\n",
    "    gtimer.reset()\n",
    "\n",
    "\n",
    "\n",
    "    for checker_idx in range(1,4):\n",
    "        mplan.motion_filters = checkers_all[:checker_idx]\n",
    "        goal_nodes = [(\"gp\",)+deepcopy(from_state.node)[1:]]\n",
    "        mplan.reset_log(True)\n",
    "        gtimer.tic(\"plan\")\n",
    "        ppline.search(initial_state, goal_nodes, verbose=True, display=False, dt_vis=0.01, timeout_loop=600, multiprocess=False, timeout=5)\n",
    "        elapsed = gtimer.toc(\"plan\")/1000\n",
    "        schedules = ppline.find_schedules()\n",
    "        res = len(schedules)>0\n",
    "        if res:\n",
    "            schedule = ppline.sort_schedule(schedules)[0]\n",
    "            move_num = len(schedule)-1\n",
    "        else:\n",
    "            move_num = 0\n",
    "        plan_num = len(mplan.result_log[\"planning\"])\n",
    "        fail_num = np.sum(np.logical_not(mplan.result_log[\"planning\"]))\n",
    "        results_dict_3_pole[checker_idx].append([elapsed, move_num, plan_num, fail_num, res])"
   ]
  },
  {
   "cell_type": "code",
   "execution_count": null,
   "metadata": {
    "scrolled": true
   },
   "outputs": [],
   "source": [
    "for k,v in results_dict_3_pole.items():\n",
    "    vv = np.array(v)\n",
    "    if len(vv)>0:\n",
    "        print(\"{}: {}\".format(k, list(np.mean(vv[np.where(vv[:,-1])[0], :-1], axis=0))+[np.sum(np.logical_not(vv[:,-1])), len(vv)]))"
   ]
  },
  {
   "cell_type": "code",
   "execution_count": null,
   "metadata": {},
   "outputs": [],
   "source": [
    "save_json(os.path.join(DATASET_PATH, \"results_dict_3_pole.json\"), results_dict_3_pole)"
   ]
  },
  {
   "cell_type": "code",
   "execution_count": null,
   "metadata": {},
   "outputs": [],
   "source": []
  }
 ],
 "metadata": {
  "kernelspec": {
   "display_name": "Python 2",
   "language": "python",
   "name": "python2"
  },
  "language_info": {
   "codemirror_mode": {
    "name": "ipython",
    "version": 2
   },
   "file_extension": ".py",
   "mimetype": "text/x-python",
   "name": "python",
   "nbconvert_exporter": "python",
   "pygments_lexer": "ipython2",
   "version": "2.7.17"
  }
 },
 "nbformat": 4,
 "nbformat_minor": 2
}
