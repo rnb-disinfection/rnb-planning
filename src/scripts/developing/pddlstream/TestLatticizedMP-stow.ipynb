{
 "cells": [
  {
   "cell_type": "code",
   "execution_count": null,
   "metadata": {},
   "outputs": [],
   "source": [
    "# import SharedArray as sa\n",
    "# ROBOT_TYPE_NAME = 'panda'\n",
    "# sa.delete(\"shm://{}.prepared\".format(ROBOT_TYPE_NAME))\n",
    "# sa.delete(\"shm://{}.grasp_img\".format(ROBOT_TYPE_NAME))\n",
    "# sa.delete(\"shm://{}.arm_img\".format(ROBOT_TYPE_NAME))\n",
    "# sa.delete(\"shm://{}.rh_vals\".format(ROBOT_TYPE_NAME))\n",
    "# sa.delete(\"shm://{}.result\".format(ROBOT_TYPE_NAME))\n",
    "# sa.delete(\"shm://{}.query_in\".format(ROBOT_TYPE_NAME))\n",
    "# sa.delete(\"shm://{}.response_out\".format(ROBOT_TYPE_NAME))\n",
    "# sa.delete(\"shm://{}.query_quit\".format(ROBOT_TYPE_NAME))"
   ]
  },
  {
   "cell_type": "markdown",
   "metadata": {},
   "source": [
    "## set running directory"
   ]
  },
  {
   "cell_type": "code",
   "execution_count": null,
   "metadata": {},
   "outputs": [],
   "source": [
    "from __future__ import print_function\n",
    "import os\n",
    "os.chdir(os.path.join(os.environ[\"RNB_PLANNING_DIR\"], 'src'))"
   ]
  },
  {
   "cell_type": "code",
   "execution_count": null,
   "metadata": {},
   "outputs": [],
   "source": [
    "from pkg.controller.combined_robot import *\n",
    "from pkg.utils.utils import get_now, try_mkdir\n",
    "\n",
    "\n",
    "DATA_PATH = os.path.join(os.environ['RNB_PLANNING_DIR'], \"data\")\n",
    "try_mkdir(DATA_PATH)\n",
    "\n",
    "TEST_DATA_PATH = os.path.join(DATA_PATH, \"stowing\")\n",
    "try_mkdir(TEST_DATA_PATH)"
   ]
  },
  {
   "cell_type": "code",
   "execution_count": null,
   "metadata": {},
   "outputs": [],
   "source": []
  },
  {
   "cell_type": "code",
   "execution_count": null,
   "metadata": {},
   "outputs": [],
   "source": [
    "VISUALIZE = True\n",
    "PLAY_RESULT = False\n",
    "CLEARANCE = 1e-3\n",
    "TOOL_RPY = (-np.pi/2,0,0)\n",
    "TIMEOUT_MOTION = 5\n",
    "MAX_TIME = 100\n",
    "\n",
    "\n",
    "ROBOT_TYPE = RobotType.indy7\n",
    "\n",
    "if ROBOT_TYPE in [RobotType.indy7, RobotType.indy7gripper]:\n",
    "    ROBOT_NAME = \"indy0\"\n",
    "    TOOL_LINK = \"indy0_tcp\"\n",
    "    TOOL_NAME = \"grip0\"\n",
    "    TOOL_XYZ = (0,0,0.14)\n",
    "    HOME_POSE = (0,0,0,0,0,0)\n",
    "    GRIP_DEPTH = 0.05\n",
    "    \n",
    "elif ROBOT_TYPE == RobotType.panda:\n",
    "    ROBOT_NAME = \"panda0\"\n",
    "    TOOL_LINK = \"panda0_hand\"\n",
    "    TOOL_NAME = \"grip0\"\n",
    "    TOOL_XYZ = (0,0,0.112)\n",
    "    HOME_POSE = (0,-0.3,0,-0.5,0,2.5,0)\n",
    "    GRIP_DEPTH = 0.03"
   ]
  },
  {
   "cell_type": "code",
   "execution_count": null,
   "metadata": {},
   "outputs": [],
   "source": []
  },
  {
   "cell_type": "markdown",
   "metadata": {},
   "source": [
    "## init combined robot config"
   ]
  },
  {
   "cell_type": "code",
   "execution_count": null,
   "metadata": {},
   "outputs": [],
   "source": [
    "\n",
    "from pkg.project_config import *\n",
    "\n",
    "crob = CombinedRobot(robots_on_scene=[\n",
    "    RobotConfig(0, ROBOT_TYPE, None,\n",
    "                INDY_IP)]\n",
    "              , connection_list=[False])\n",
    "\n",
    "from pkg.geometry.builder.scene_builder import SceneBuilder\n",
    "s_builder = SceneBuilder(None)\n",
    "# # deprecated: s_builder.reset_reference_coord(ref_name=\"floor\")"
   ]
  },
  {
   "cell_type": "code",
   "execution_count": null,
   "metadata": {},
   "outputs": [],
   "source": []
  },
  {
   "cell_type": "markdown",
   "metadata": {},
   "source": [
    "## get ghnd with detected robot config"
   ]
  },
  {
   "cell_type": "code",
   "execution_count": null,
   "metadata": {
    "scrolled": true
   },
   "outputs": [],
   "source": [
    "# xyz_rpy_robots = s_builder.detect_items(level_mask=[DetectionLevel.ROBOT])\n",
    "xyz_rpy_robots = {ROBOT_NAME: ((0,0,0), (0,0,0))}\n",
    "crob.update_robot_pos_dict(xyz_rpy_robots=xyz_rpy_robots)\n",
    "gscene = s_builder.create_gscene(crob, start_rviz=VISUALIZE)\n",
    "HOME_DICT = list2dict(HOME_POSE, gscene.joint_names)\n"
   ]
  },
  {
   "cell_type": "code",
   "execution_count": null,
   "metadata": {},
   "outputs": [],
   "source": [
    "from pkg.utils.joint_utils import get_tf\n",
    "shoulder_link = gscene.urdf_content.joint_map[gscene.joint_names[1]].child\n",
    "shoulder_height = get_tf(shoulder_link, HOME_DICT, gscene.urdf_content)[2,3]"
   ]
  },
  {
   "cell_type": "code",
   "execution_count": null,
   "metadata": {},
   "outputs": [],
   "source": []
  },
  {
   "cell_type": "markdown",
   "metadata": {},
   "source": [
    "## add environment"
   ]
  },
  {
   "cell_type": "code",
   "execution_count": null,
   "metadata": {},
   "outputs": [],
   "source": [
    "from pkg.geometry.geometry import *\n",
    "gtems_robot = s_builder.add_robot_geometries(color=(0,1,0,0.5), display=False, collision=True)"
   ]
  },
  {
   "cell_type": "code",
   "execution_count": null,
   "metadata": {},
   "outputs": [],
   "source": []
  },
  {
   "cell_type": "markdown",
   "metadata": {},
   "source": [
    "## init planning scene"
   ]
  },
  {
   "cell_type": "code",
   "execution_count": null,
   "metadata": {},
   "outputs": [],
   "source": [
    "from pkg.planning.scene import PlanningScene\n",
    "pscene = PlanningScene(gscene, combined_robot=crob)\n",
    "\n",
    "from pkg.planning.pipeline import PlanningPipeline\n",
    "ppline = PlanningPipeline(pscene)"
   ]
  },
  {
   "cell_type": "code",
   "execution_count": null,
   "metadata": {},
   "outputs": [],
   "source": []
  },
  {
   "cell_type": "markdown",
   "metadata": {},
   "source": [
    "## Register binders"
   ]
  },
  {
   "cell_type": "code",
   "execution_count": null,
   "metadata": {},
   "outputs": [],
   "source": [
    "from pkg.planning.constraint.constraint_actor import Gripper2Tool, PlacePlane, SweepTool"
   ]
  },
  {
   "cell_type": "code",
   "execution_count": null,
   "metadata": {},
   "outputs": [],
   "source": [
    "gscene.create_safe(gtype=GEOTYPE.SPHERE, name=\"grip0\", link_name=TOOL_LINK, \n",
    "                 dims=(0.01,)*3, center=TOOL_XYZ, rpy=TOOL_RPY, color=(1,0,0,1), display=True, collision=False, fixed=True)\n",
    "gripper = pscene.create_binder(bname=\"grip0\", gname=\"grip0\", _type=Gripper2Tool, point=(0,0,0), rpy=(0,0,0))"
   ]
  },
  {
   "cell_type": "code",
   "execution_count": null,
   "metadata": {},
   "outputs": [],
   "source": []
  },
  {
   "cell_type": "markdown",
   "metadata": {},
   "source": [
    "## planner"
   ]
  },
  {
   "cell_type": "code",
   "execution_count": null,
   "metadata": {},
   "outputs": [],
   "source": [
    "from pkg.planning.motion.moveit.moveit_planner import MoveitPlanner\n",
    "from pkg.planning.filtering.grasp_filter import GraspChecker\n",
    "from pkg.planning.filtering.reach_filter import ReachChecker\n",
    "from pkg.planning.filtering.latticized_filter import LatticedChecker\n",
    "from pkg.planning.filtering.pair_svm import PairSVM\n",
    "mplan = MoveitPlanner(pscene)\n",
    "gcheck = GraspChecker(pscene)\n",
    "rcheck = ReachChecker(pscene)\n",
    "\n",
    "lcheck = LatticedChecker(pscene, gcheck)\n",
    "pcheck = PairSVM(pscene)"
   ]
  },
  {
   "cell_type": "markdown",
   "metadata": {},
   "source": [
    "## ui"
   ]
  },
  {
   "cell_type": "code",
   "execution_count": null,
   "metadata": {},
   "outputs": [],
   "source": [
    "from pkg.ui.ui_broker import *\n",
    "\n",
    "# start UI\n",
    "ui_broker = UIBroker.instance()\n",
    "ui_broker.initialize(ppline, s_builder)\n",
    "ui_broker.start_server()\n",
    "\n",
    "ui_broker.set_tables()"
   ]
  },
  {
   "cell_type": "code",
   "execution_count": null,
   "metadata": {},
   "outputs": [],
   "source": []
  },
  {
   "cell_type": "markdown",
   "metadata": {},
   "source": [
    "# Object Classes"
   ]
  },
  {
   "cell_type": "code",
   "execution_count": null,
   "metadata": {},
   "outputs": [],
   "source": [
    "from pkg.planning.constraint.constraint_subject import CustomObject, Grasp2Point, PlacePoint, SweepPoint, SweepTask\n",
    "from pkg.planning.filtering.lattice_model.scene_building import *\n",
    "\n",
    "##\n",
    "# @class WorkPlane\n",
    "# @brief working plane. target and obstacle objects are generated on this plane\n",
    "class WorkPlane(ObstacleBase):\n",
    "    RTH_MIN = (0.3, -np.pi/2, -0.1)\n",
    "    RTH_MAX = (0.5, +np.pi/2, +0.4)\n",
    "    RPY_MIN = (0, 0, 0)\n",
    "    RPY_MAX = (0, 0, 0)\n",
    "    DIM_MIN = (0.4, 0.6, 0.05)\n",
    "    DIM_MAX = (0.4, 0.6, 0.05)\n",
    "    GTYPE = GEOTYPE.BOX\n",
    "    COLOR=  (0.8,0.8,0.2,1)\n",
    "    \n",
    "    def __init__(self, gscene, name, floor_height=None, *args, **kwargs):\n",
    "        assert floor_height is not None, \"floor_height needed\"\n",
    "        if floor_height > self.RTH_MIN[2]:\n",
    "            self.RTH_MIN = self.RTH_MIN[:2]+(floor_height,)\n",
    "        self.H = 0.4\n",
    "        ObstacleBase.__init__(self, gscene, name, *args, **kwargs)\n",
    "        \n",
    "    def is_overlapped_with(self, gtem):\n",
    "        verts, radii = gtem.get_vertice_radius()\n",
    "        verts_global = np.add(np.matmul(verts, gtem.orientation_mat.transpose()), gtem.center)\n",
    "        verts_wp = np.multiply(DEFAULT_VERT_DICT[self.GTYPE], tuple(self.DIM[:2])+(self.H,))\n",
    "        verts_wp_global = np.add(np.matmul(verts_wp, self.geometry.orientation_mat.transpose()), \n",
    "                                 np.add(self.geometry.center, (0,0,self.H/2)))\n",
    "        return get_gjk_distance(get_point_list(verts_global), get_point_list(verts_wp_global))-radii < 1e-4\n",
    "            \n",
    "    \n",
    "##\n",
    "# @class Box\n",
    "# @brief box with the top and the front side open\n",
    "class Box(WorkPlane):\n",
    "    RPY_MIN = (0, 0, 0)\n",
    "    RPY_MAX = (0, 0, 0)\n",
    "    DIM_MIN = (0.3, 0.3, 0.05)\n",
    "    DIM_MAX = (0.6, 0.6, 0.05)\n",
    "    COLOR =  (0.8,0.8,0.2,0.5)\n",
    "    H_RANGE = (0.3, 0.6)\n",
    "    THICKNESS = 0.05\n",
    "    def __init__(self, gscene, name, H=None, **kwargs):\n",
    "        WorkPlane.__init__(self, gscene=gscene, name=name, **kwargs)\n",
    "        self.H = np.random.uniform(*self.H_RANGE) if H is None else H\n",
    "\n",
    "        ## back wall\n",
    "        self.subgeo_list.append(gscene.create_safe(\n",
    "            gtype=self.GTYPE, name=self.name+\"_bw\", link_name=\"base_link\", \n",
    "            dims=(self.THICKNESS, self.DIM[1], self.H), center=(self.DIM[0]/2+self.THICKNESS/2, 0,self.H/2), rpy=(0,0,0),\n",
    "            color=self.COLOR, display=True, collision=True, fixed=True,\n",
    "            parent=self.name))\n",
    "\n",
    "        ## left wall\n",
    "        self.subgeo_list.append(gscene.create_safe(\n",
    "            gtype=self.GTYPE, name=self.name+\"_lw\", link_name=\"base_link\", \n",
    "            dims=(self.DIM[0], self.THICKNESS, self.H), center=(0, -self.DIM[1]/2-self.THICKNESS/2, self.H/2), rpy=(0,0,0),\n",
    "            color=self.COLOR, display=True, collision=True, fixed=True,\n",
    "            parent=self.name))\n",
    "\n",
    "        ## right wall\n",
    "        self.subgeo_list.append(gscene.create_safe(\n",
    "            gtype=self.GTYPE, name=self.name+\"_rw\", link_name=\"base_link\", \n",
    "            dims=(self.DIM[0], self.THICKNESS, self.H), center=(0, self.DIM[1]/2+self.THICKNESS/2, self.H/2), rpy=(0,0,0),\n",
    "            color=self.COLOR, display=True, collision=True, fixed=True,\n",
    "            parent=self.name))\n",
    "\n",
    "        \n",
    "##\n",
    "# @class SideBox\n",
    "# @brief box with a side face open\n",
    "class SideBox(Box):\n",
    "    RTH_MIN = (0.3, -np.pi/2, -0.1)\n",
    "    RTH_MAX = (0.5, +np.pi/2, +0.4)\n",
    "    RPY_MIN = (0, 0, 0)\n",
    "    RPY_MAX = (0, 0, 0)\n",
    "    DIM_MIN = (0.4, 0.6, 0.05)\n",
    "    DIM_MAX = (0.4, 0.6, 0.05)\n",
    "    COLOR =  (0.2,0.2,0.8,1)\n",
    "    H_RANGE = (0.4, 0.4)\n",
    "    THICKNESS = 0.05\n",
    "    def __init__(self, gscene, name, **kwargs):\n",
    "        Box.__init__(self, gscene=gscene, name=name, **kwargs)\n",
    "\n",
    "        ## top\n",
    "        self.subgeo_list.append(gscene.create_safe(\n",
    "            gtype=self.GTYPE, name=self.name+\"_tp\", link_name=\"base_link\", \n",
    "            dims=(self.DIM[0], self.DIM[1], self.THICKNESS), center=(0, 0, self.H+self.THICKNESS/2), rpy=(0,0,0),\n",
    "            color=self.COLOR, display=True, collision=True, fixed=True,\n",
    "            parent=self.name))\n",
    "\n",
    "##\n",
    "# @class TopBox\n",
    "# @brief box with the top face open\n",
    "class TopBox(Box):\n",
    "    DIM_MIN = (0.3, 0.3, 0.05)\n",
    "    DIM_MAX = (0.6, 0.6, 0.05)\n",
    "    H_RANGE = (0.3, 0.6)\n",
    "    def __init__(self, gscene, name, **kwargs):\n",
    "        Box.__init__(self, gscene=gscene, name=name, **kwargs)\n",
    "\n",
    "        ## front wall\n",
    "        self.subgeo_list.append(gscene.create_safe(\n",
    "            gtype=self.GTYPE, name=self.name+\"_fw\", link_name=\"base_link\", \n",
    "            dims=(self.THICKNESS, self.DIM[1], self.H), center=(-self.DIM[0]/2-self.THICKNESS/2, 0,self.H/2), rpy=(0,0,0),\n",
    "            color=self.COLOR, display=True, collision=True, fixed=True,\n",
    "            parent=self.name))\n",
    "        \n",
    "##\n",
    "# @class Floor\n",
    "# @brief Floor - lowerbound of the workspace\n",
    "class Floor(ObstacleBase):\n",
    "    RTH_MIN = (0.0, 0, -0.5)\n",
    "    RTH_MAX = (0.0, 0, -0.5)\n",
    "    RPY_MIN = (0, 0, 0)\n",
    "    RPY_MAX = (0, 0, 0)\n",
    "    DIM_MIN = (3, 3, 0.1)\n",
    "    DIM_MAX = (3, 3, 0.1)\n",
    "    GTYPE = GEOTYPE.BOX\n",
    "    \n",
    "##\n",
    "# @class Pole\n",
    "# @brief occasional poles that obstruct robot motion\n",
    "class Pole(ObstacleBase):\n",
    "    RTH_MIN = (0.3, -np.pi, 0)\n",
    "    RTH_MAX = (0.3, +np.pi, 0)\n",
    "    RPY_MIN = (0, 0, -np.pi/6)\n",
    "    RPY_MAX = (0, 0, +np.pi/6)\n",
    "    DIM_MIN = (0.1, 0.1, 4)\n",
    "    DIM_MAX = (0.1, 0.1, 4)\n",
    "    GTYPE = GEOTYPE.BOX\n",
    "    COLOR = (0.7,0.7,0.7,0.3)\n",
    "    \n",
    "##\n",
    "# @class PlaneObstacle\n",
    "# @brief Obstacles on the workplane\n",
    "class PlaneObject(ObstacleBase):\n",
    "    RTH_MIN = (0.3, -np.pi/2, -0.2)\n",
    "    RTH_MAX = (0.8, +np.pi/2, +0.5)\n",
    "    RPY_MIN = (0, 0, -np.pi)\n",
    "    RPY_MAX = (0, 0, +np.pi)\n",
    "    DIM_MIN = (0.05, 0.1, 0.2)\n",
    "    DIM_MAX = (0.05, 0.1, 0.2)\n",
    "    GTYPE = GEOTYPE.BOX\n",
    "    COLOR =  (0.2,0.8,0.2,1)\n",
    "    def __init__(self, gscene, name, workplane, GRIP_DEPTH, CLEARANCE, XYZ_LOC=None, **kwargs):\n",
    "        self.GRIP_DEPTH = GRIP_DEPTH\n",
    "        ObstacleBase.__init__(self, gscene=gscene, name=name, **kwargs)\n",
    "        verts, radii = self.geometry.get_vertice_radius()\n",
    "        verts_rot = np.matmul(self.geometry.orientation_mat, verts.transpose()) ## verices with global orientaion\n",
    "        verts_rot_loc = np.matmul(workplane.geometry.Toff[:3,:3].transpose(), verts_rot) ## verices with local orientaion\n",
    "        max_verts = np.max(verts_rot_loc, axis=-1)\n",
    "        min_verts = np.min(verts_rot_loc, axis=-1)\n",
    "        if XYZ_LOC is None:\n",
    "            self.XYZ_LOC = np.random.uniform(np.negative(workplane.DIM)/2-min_verts+radii,np.array(workplane.DIM)/2-max_verts-radii)\n",
    "            self.XYZ_LOC[2] = workplane.DIM[2]/2 + self.DIM[2]/2 + CLEARANCE\n",
    "        else:\n",
    "            self.XYZ_LOC = self.XYZ_LOC\n",
    "        self.XYZ = np.matmul(workplane.geometry.Toff[:3,:3], self.XYZ_LOC) + workplane.geometry.Toff[:3,3]\n",
    "        self.geometry.set_offset_tf(center = self.XYZ)\n",
    "        self.RTH = cart2cyl(*self.XYZ)\n",
    "        gscene.update_marker(self.geometry)\n",
    "           \n",
    "def disperse_objects(gscene, object_class, key, Nmax, workplane_on, GRIP_DEPTH, CLEARANCE=1e-3):\n",
    "    clear_class(gscene, key, Nmax)\n",
    "        \n",
    "    obs_list = []\n",
    "    while len(obs_list)<Nmax:\n",
    "        iw = len(obs_list)\n",
    "        obs = object_class(gscene, \"{}_{}\".format(key, iw), workplane_on, GRIP_DEPTH=GRIP_DEPTH, CLEARANCE=CLEARANCE)\n",
    "        remove_this = False\n",
    "        for obs_pre in obs_list:\n",
    "            if obs_pre.is_overlapped_with(obs.geometry):\n",
    "                remove_this = True\n",
    "                break\n",
    "        if remove_this:\n",
    "            gscene.remove(obs.geometry)\n",
    "        else:\n",
    "            obs_list.append(obs)\n",
    "    return obs_list"
   ]
  },
  {
   "cell_type": "code",
   "execution_count": null,
   "metadata": {},
   "outputs": [],
   "source": [
    "ROBOT_DATA_ROOT = os.path.join(TEST_DATA_PATH, ROBOT_TYPE.name)\n",
    "try_mkdir(ROBOT_DATA_ROOT)\n",
    "\n",
    "DATASET_PATH = os.path.join(ROBOT_DATA_ROOT, get_now())\n",
    "# DATASET_PATH = os.path.join(ROBOT_DATA_ROOT, '20210223-051658')\n",
    "try_mkdir(DATASET_PATH)\n",
    "print(\"\")\n",
    "print(\"DATASET_PATH: {}\".format(DATASET_PATH))\n",
    "print(\"\")"
   ]
  },
  {
   "cell_type": "code",
   "execution_count": null,
   "metadata": {},
   "outputs": [],
   "source": []
  },
  {
   "cell_type": "markdown",
   "metadata": {},
   "source": [
    "## Init pybullet"
   ]
  },
  {
   "cell_type": "code",
   "execution_count": null,
   "metadata": {},
   "outputs": [],
   "source": [
    "os.chdir(os.path.join(os.environ[\"RNB_PLANNING_DIR\"], 'src/scripts/developing/pddlstream'))\n",
    "from convert_pscene import *\n",
    "from plan_rnb import *\n",
    "connect_notebook(use_gui=False)\n",
    "urdf_pybullet_path = copy_meshes(gscene)"
   ]
  },
  {
   "cell_type": "code",
   "execution_count": null,
   "metadata": {},
   "outputs": [],
   "source": []
  },
  {
   "cell_type": "markdown",
   "metadata": {},
   "source": [
    "### sampling 1-obj"
   ]
  },
  {
   "cell_type": "code",
   "execution_count": null,
   "metadata": {},
   "outputs": [],
   "source": [
    "checkers_all = [('None', []), \n",
    "                ('Tool', [gcheck]), \n",
    "                ('ToolReach', [gcheck, rcheck]), \n",
    "                ('Full', [gcheck, rcheck, lcheck]),\n",
    "                ('Pairwise', [pcheck])]"
   ]
  },
  {
   "cell_type": "code",
   "execution_count": null,
   "metadata": {
    "scrolled": true
   },
   "outputs": [],
   "source": [
    "Nmax_obj = 1\n",
    "\n",
    "SAMPLE_NUM = 10\n",
    "\n",
    "SHOW_PERIOD = 0.01\n",
    "\n",
    "GRASP_SAMPLE = 50\n",
    "\n",
    "results_dict_1_shelf = defaultdict(list)\n",
    "# results_dict_3_plane = {int(k): v for k, v in load_json(os.path.join(DATASET_PATH, \"results_dict_3_plane.json\")).items()}\n",
    "\n",
    "\n",
    "gtimer = GlobalTimer.instance()\n",
    "gtimer.reset(stack=True)\n",
    "gtimer.tic(\"full_loop\")\n",
    "for i_s in range(SAMPLE_NUM):\n",
    "    ## add floor, ceiling\n",
    "    floor = Floor(gscene, \"floor\")\n",
    "    gscene.create_safe(gtype=GEOTYPE.BOX, name=\"base\", link_name=\"base_link\", \n",
    "                       dims=(0.2, 0.2, -floor.RTH[2]), center=(0,0,floor.RTH[2]/2), rpy=(0,0,0), \n",
    "                       color=floor.geometry.color, display=True, collision=True, fixed=True)\n",
    "    # ceiling = Ceiling(gscene, \"ceiling\")\n",
    "\n",
    "    ## set workplane\n",
    "    wp = WorkPlane(gscene, \"wp\", floor_height=floor.RTH[2]+floor.DIM[2]/2)\n",
    "    pscene.create_binder(bname=\"wp\", gname=\"wp\", _type=PlacePlane, point=None)\n",
    "\n",
    "    gp_colliding = True\n",
    "    while gp_colliding:\n",
    "        ## set goalplane\n",
    "        gp = SideBox(gscene, \"gp\", floor_height=wp.RTH[2]+wp.RTH[2]/2)\n",
    "        gp_colliding = wp.is_overlapped_with(gp.geometry)\n",
    "    pscene.create_binder(bname=\"gp\", gname=\"gp\", _type=PlacePlane, point=None)\n",
    "\n",
    "\n",
    "    ## add object\n",
    "    obj_list = disperse_objects(gscene, PlaneObject, \"obj\", Nmax_obj, workplane_on=wp, GRIP_DEPTH=GRIP_DEPTH, CLEARANCE=CLEARANCE)\n",
    "\n",
    "    obj_set_list = []\n",
    "    for i_obj, obj in enumerate(obj_list):\n",
    "        obj_pscene, handles = add_object(pscene, obj)\n",
    "        obj_set_list.append((obj, obj_pscene, handles))\n",
    "    obj, obj_pscene, handles = obj_set_list[0]\n",
    "\n",
    "    obj_pscene.geometry.color = (0.8,0.2,0.2,1)\n",
    "    if VISUALIZE:\n",
    "        gscene.set_rviz()\n",
    "\n",
    "    initial_state = pscene.initialize_state(crob.home_pose)\n",
    "    pscene.set_object_state(initial_state)\n",
    "    from_state = initial_state.copy(pscene)\n",
    "    \n",
    "    for cname, checkers in checkers_all:\n",
    "        mplan.motion_filters = checkers\n",
    "        pscene.set_object_state(initial_state)\n",
    "        gscene.update()\n",
    "        \n",
    "        reset_pybullet()\n",
    "        robot_body, body_names, movable_bodies = pscene_to_pybullet(\n",
    "            pscene, urdf_pybullet_path, tool_name=TOOL_NAME, name_exclude_list=[ROBOT_NAME])\n",
    "        print('Objects:', body_names)\n",
    "        saver = WorldSaver()\n",
    "        mplan.reset_log(True)\n",
    "        problem = pddlstream_from_problem_rnb(pscene, robot_body, body_names=body_names, \n",
    "                                              Q_init=HOME_POSE,\n",
    "                                              goal_pairs = [(obj_pscene.oname, 'gp')],\n",
    "                                              movable=movable_bodies, \n",
    "                                              checkers=[checker for checker in checkers if checker.BEFORE_IK],\n",
    "                                              tool_name=TOOL_NAME, tool_link_name=TOOL_LINK, \n",
    "                                              mplan=mplan, timeout=TIMEOUT_MOTION, grasp_sample=GRASP_SAMPLE)\n",
    "        _, _, _, stream_map, init, goal = problem\n",
    "        print('Init:', init)\n",
    "        print('Goal:', goal)\n",
    "        print('Streams:', str_from_object(set(stream_map)))\n",
    "        with Profiler():\n",
    "            with LockRenderer(lock=not True):\n",
    "                gtimer.tic(\"plan\")\n",
    "                solution = solve(problem, algorithm='adaptive', \n",
    "                                 unit_costs=False, success_cost=INF, max_time=MAX_TIME)\n",
    "                elapsed = gtimer.toc(\"plan\")/1000\n",
    "                saver.restore()\n",
    "        print_solution(solution)\n",
    "        plan, cost, evaluations = solution\n",
    "        res = not any(plan is status for status in [None, False])\n",
    "        move_num = len(plan) if res else 0\n",
    "        plan_num = len(mplan.result_log[\"planning\"])\n",
    "        fail_num = np.sum(np.logical_not(mplan.result_log[\"planning\"]))\n",
    "        results_dict_1_shelf[cname].append([elapsed, move_num, plan_num, fail_num, res])\n",
    "        print(\"------- Result ({}): {} s -------\".format(cname, elapsed))\n",
    "\n",
    "        if VISUALIZE:\n",
    "            play_pddl_plan(pscene, pscene.actor_dict[\"grip0\"], initial_state=initial_state, \n",
    "                           body_names=body_names, plan=plan, SHOW_PERIOD=0.1)\n",
    "                \n",
    "    pscene.set_object_state(initial_state)\n",
    "    snames = sorted(pscene.subject_dict.keys())\n",
    "    gscene.update_markers_all()\n",
    "    print(\"============ Elapsed: {} s / ETA: {} s =============\".format(*\n",
    "        np.round(np.divide(gtimer.eta(\"full_loop\", i_s+1, SAMPLE_NUM), 1000), 1)))"
   ]
  },
  {
   "cell_type": "code",
   "execution_count": null,
   "metadata": {},
   "outputs": [],
   "source": [
    "print(\"Planning time / Motion count / MP trials / Failed MP / Failures / Total \")\n",
    "for k,v in results_dict_3_shelf.items():\n",
    "    vv = np.array(v)\n",
    "    if len(vv)>0:\n",
    "        print(\n",
    "            \"{}: {}\".format(k,\n",
    "                            list(\n",
    "                                np.round(np.mean(vv[np.where(vv[:,-1])[0], :-1], axis=0), 2)) \\\n",
    "                            +[np.sum(np.logical_not(vv[:,-1])), len(vv)]))\n",
    "save_json(os.path.join(DATASET_PATH, \"results_dict_1_shelf.json\"), results_dict_1_shelf)"
   ]
  },
  {
   "cell_type": "markdown",
   "metadata": {},
   "source": [
    "```\n",
    "Planning time / Motion count / MP trials / Failed MP / Failures / Total \n",
    "ToolReach: [3.8, 5.8, 4.4, 0.4, 0, 10]\n",
    "None: [12.45, 6.2, 3.8, 0.1, 0, 10]\n",
    "Full: [4.62, 5.4, 3.2, 0.0, 0, 10]\n",
    "Pairwise: [28.91, 6.1, 3.8, 0.3, 0, 10]\n",
    "Tool: [17.31, 7.0, 5.5, 0.4, 0, 10]\n",
    "```"
   ]
  },
  {
   "cell_type": "code",
   "execution_count": null,
   "metadata": {},
   "outputs": [],
   "source": []
  },
  {
   "cell_type": "markdown",
   "metadata": {},
   "source": [
    "### sampling 3-obj"
   ]
  },
  {
   "cell_type": "code",
   "execution_count": null,
   "metadata": {},
   "outputs": [],
   "source": [
    "checkers_all = [('Tool', [gcheck]), \n",
    "                ('ToolReach', [gcheck, rcheck]), \n",
    "                ('Full', [gcheck, rcheck, lcheck])]"
   ]
  },
  {
   "cell_type": "code",
   "execution_count": null,
   "metadata": {
    "scrolled": true
   },
   "outputs": [],
   "source": [
    "Nmax_obj = 3\n",
    "\n",
    "SAMPLE_NUM = 10\n",
    "\n",
    "SHOW_PERIOD = 0.01\n",
    "\n",
    "GRASP_SAMPLE = 10\n",
    "\n",
    "results_dict_3_shelf = defaultdict(list)\n",
    "# results_dict_3_plane = {int(k): v for k, v in load_json(os.path.join(DATASET_PATH, \"results_dict_3_plane.json\")).items()}\n",
    "\n",
    "\n",
    "gtimer = GlobalTimer.instance()\n",
    "gtimer.reset(stack=True)\n",
    "gtimer.tic(\"full_loop\")\n",
    "for i_s in range(SAMPLE_NUM):\n",
    "    ## add floor, ceiling\n",
    "    floor = Floor(gscene, \"floor\")\n",
    "    gscene.create_safe(gtype=GEOTYPE.BOX, name=\"base\", link_name=\"base_link\", \n",
    "                       dims=(0.2, 0.2, -floor.RTH[2]), center=(0,0,floor.RTH[2]/2), rpy=(0,0,0), \n",
    "                       color=floor.geometry.color, display=True, collision=True, fixed=True)\n",
    "    # ceiling = Ceiling(gscene, \"ceiling\")\n",
    "\n",
    "    ## set workplane\n",
    "    wp = WorkPlane(gscene, \"wp\", floor_height=floor.RTH[2]+floor.DIM[2]/2)\n",
    "    pscene.create_binder(bname=\"wp\", gname=\"wp\", _type=PlacePlane, point=None)\n",
    "\n",
    "    gp_colliding = True\n",
    "    while gp_colliding:\n",
    "        ## set goalplane\n",
    "        gp = SideBox(gscene, \"gp\", floor_height=wp.RTH[2]+wp.RTH[2]/2)\n",
    "        gp_colliding = wp.is_overlapped_with(gp.geometry)\n",
    "    pscene.create_binder(bname=\"gp\", gname=\"gp\", _type=PlacePlane, point=None)\n",
    "\n",
    "\n",
    "    ## add object\n",
    "    obj_list = disperse_objects(gscene, PlaneObject, \"obj\", Nmax_obj, workplane_on=wp, GRIP_DEPTH=GRIP_DEPTH, CLEARANCE=CLEARANCE)\n",
    "\n",
    "    obj_set_list = []\n",
    "    for i_obj, obj in enumerate(obj_list):\n",
    "        obj_pscene, handles = add_object(pscene, obj)\n",
    "        obj_set_list.append((obj, obj_pscene, handles))\n",
    "    obj, obj_pscene, handles = obj_set_list[0]\n",
    "\n",
    "    obj_pscene.geometry.color = (0.8,0.2,0.2,1)\n",
    "    if VISUALIZE:\n",
    "        gscene.set_rviz()\n",
    "\n",
    "    initial_state = pscene.initialize_state(crob.home_pose)\n",
    "    pscene.set_object_state(initial_state)\n",
    "    from_state = initial_state.copy(pscene)\n",
    "    \n",
    "    for cname, checkers in checkers_all:\n",
    "        mplan.motion_filters = checkers\n",
    "        pscene.set_object_state(initial_state)\n",
    "        gscene.update()\n",
    "        \n",
    "        reset_pybullet()\n",
    "        robot_body, body_names, movable_bodies = pscene_to_pybullet(\n",
    "            pscene, urdf_pybullet_path, tool_name=TOOL_NAME, name_exclude_list=[ROBOT_NAME])\n",
    "        print('Objects:', body_names)\n",
    "        saver = WorldSaver()\n",
    "        mplan.reset_log(True)\n",
    "        problem = pddlstream_from_problem_rnb(pscene, robot_body, body_names=body_names, \n",
    "                                              Q_init=HOME_POSE,\n",
    "                                              goal_pairs = [(obj_pscene.oname, 'gp')],\n",
    "                                              movable=movable_bodies, \n",
    "                                              checkers=[checker for checker in checkers if checker.BEFORE_IK],\n",
    "                                              tool_name=TOOL_NAME, tool_link_name=TOOL_LINK, \n",
    "                                              mplan=mplan, timeout=TIMEOUT_MOTION, grasp_sample=GRASP_SAMPLE)\n",
    "        _, _, _, stream_map, init, goal = problem\n",
    "        print('Init:', init)\n",
    "        print('Goal:', goal)\n",
    "        print('Streams:', str_from_object(set(stream_map)))\n",
    "        with Profiler():\n",
    "            with LockRenderer(lock=not True):\n",
    "                gtimer.tic(\"plan\")\n",
    "                solution = solve(problem, algorithm='adaptive', \n",
    "                                 unit_costs=False, success_cost=INF, max_time=MAX_TIME)\n",
    "                elapsed = gtimer.toc(\"plan\")/1000\n",
    "                saver.restore()\n",
    "        print_solution(solution)\n",
    "        plan, cost, evaluations = solution\n",
    "        res = not any(plan is status for status in [None, False])\n",
    "        move_num = len(plan) if res else 0\n",
    "        plan_num = len(mplan.result_log[\"planning\"])\n",
    "        fail_num = np.sum(np.logical_not(mplan.result_log[\"planning\"]))\n",
    "        results_dict_3_shelf[cname].append([elapsed, move_num, plan_num, fail_num, res])\n",
    "        print(\"------- Result ({}): {} s -------\".format(cname, elapsed))\n",
    "\n",
    "        if VISUALIZE and PLAY_RESULT:\n",
    "            play_pddl_plan(pscene, pscene.actor_dict[\"grip0\"], initial_state=initial_state, \n",
    "                           body_names=body_names, plan=plan, SHOW_PERIOD=0.1)\n",
    "                \n",
    "    pscene.set_object_state(initial_state)\n",
    "    snames = sorted(pscene.subject_dict.keys())\n",
    "    gscene.update_markers_all()\n",
    "    print(\"============ Elapsed: {} s / ETA: {} s =============\".format(*\n",
    "        np.round(np.divide(gtimer.eta(\"full_loop\", i_s+1, SAMPLE_NUM), 1000), 1)))"
   ]
  },
  {
   "cell_type": "code",
   "execution_count": null,
   "metadata": {},
   "outputs": [],
   "source": [
    "print(\"Planning time / Motion count / MP trials / Failed MP / Failures / Total \")\n",
    "for k,v in results_dict_3_shelf.items():\n",
    "    vv = np.array(v)\n",
    "    if len(vv)>0:\n",
    "        print(\n",
    "            \"{}: {}\".format(k,\n",
    "                            list(\n",
    "                                np.round(np.mean(vv[np.where(vv[:,-1])[0], :-1], axis=0), 2)) \\\n",
    "                            +[np.sum(np.logical_not(vv[:,-1])), len(vv)]))\n",
    "save_json(os.path.join(DATASET_PATH, \"results_dict_3_shelf.json\"), results_dict_3_shelf)"
   ]
  },
  {
   "cell_type": "code",
   "execution_count": null,
   "metadata": {},
   "outputs": [],
   "source": [
    "import matplotlib.pyplot as plt\n",
    "for cname, checker in checkers_all:\n",
    "    vv = np.array(results_dict_3_shelf[cname])\n",
    "    plt.plot(vv[np.where(vv[:,-1])[0], :-1][:,0])"
   ]
  },
  {
   "cell_type": "code",
   "execution_count": null,
   "metadata": {},
   "outputs": [],
   "source": []
  },
  {
   "cell_type": "markdown",
   "metadata": {},
   "source": [
    "### sampling 3-obj pole"
   ]
  },
  {
   "cell_type": "code",
   "execution_count": null,
   "metadata": {
    "scrolled": true
   },
   "outputs": [],
   "source": [
    "Nmax_obj = 3\n",
    "\n",
    "SAMPLE_NUM = 10\n",
    "\n",
    "SHOW_PERIOD = 0.01\n",
    "\n",
    "GRASP_SAMPLE = 50\n",
    "\n",
    "results_dict_3_pole = defaultdict(list)\n",
    "# results_dict_3_plane = {int(k): v for k, v in load_json(os.path.join(DATASET_PATH, \"results_dict_3_plane.json\")).items()}\n",
    "\n",
    "\n",
    "gtimer = GlobalTimer.instance()\n",
    "gtimer.reset(stack=True)\n",
    "gtimer.tic(\"full_loop\")\n",
    "for i_s in range(SAMPLE_NUM):\n",
    "    ## add floor, ceiling\n",
    "    floor = Floor(gscene, \"floor\")\n",
    "    gscene.create_safe(gtype=GEOTYPE.BOX, name=\"base\", link_name=\"base_link\", \n",
    "                       dims=(0.2, 0.2, -floor.RTH[2]), center=(0,0,floor.RTH[2]/2), rpy=(0,0,0), \n",
    "                       color=floor.geometry.color, display=True, collision=True, fixed=True)\n",
    "    # ceiling = Ceiling(gscene, \"ceiling\")\n",
    "\n",
    "    ## set workplane\n",
    "    wp = WorkPlane(gscene, \"wp\", floor_height=floor.RTH[2]+floor.DIM[2]/2)\n",
    "    pscene.create_binder(bname=\"wp\", gname=\"wp\", _type=PlacePlane, point=None)\n",
    "\n",
    "    gp_colliding = True\n",
    "    while gp_colliding:\n",
    "        ## set goalplane\n",
    "        gp = SideBox(gscene, \"gp\", floor_height=wp.RTH[2]+wp.RTH[2]/2)\n",
    "        gp_colliding = wp.is_overlapped_with(gp.geometry)\n",
    "    pscene.create_binder(bname=\"gp\", gname=\"gp\", _type=PlacePlane, point=None)\n",
    "\n",
    "    pole = Pole(gscene, \"pole\", RTH=[0.3, gp.RTH[1], 0])\n",
    "\n",
    "\n",
    "    ## add object\n",
    "    obj_list = disperse_objects(gscene, PlaneObject, \"obj\", Nmax_obj, workplane_on=wp, GRIP_DEPTH=GRIP_DEPTH, CLEARANCE=CLEARANCE)\n",
    "\n",
    "    obj_set_list = []\n",
    "    for i_obj, obj in enumerate(obj_list):\n",
    "        obj_pscene, handles = add_object(pscene, obj)\n",
    "        obj_set_list.append((obj, obj_pscene, handles))\n",
    "    obj, obj_pscene, handles = obj_set_list[0]\n",
    "\n",
    "    obj_pscene.geometry.color = (0.8,0.2,0.2,1)\n",
    "    if VISUALIZE:\n",
    "        gscene.set_rviz()\n",
    "\n",
    "    initial_state = pscene.initialize_state(crob.home_pose)\n",
    "    pscene.set_object_state(initial_state)\n",
    "    from_state = initial_state.copy(pscene)\n",
    "    \n",
    "    for cname, checkers in checkers_all:\n",
    "        mplan.motion_filters = checkers\n",
    "        pscene.set_object_state(initial_state)\n",
    "        gscene.update()\n",
    "        \n",
    "        reset_pybullet()\n",
    "        robot_body, body_names, movable_bodies = pscene_to_pybullet(\n",
    "            pscene, urdf_pybullet_path, tool_name=TOOL_NAME, name_exclude_list=[ROBOT_NAME])\n",
    "        print('Objects:', body_names)\n",
    "        saver = WorldSaver()\n",
    "        mplan.reset_log(True)\n",
    "        problem = pddlstream_from_problem_rnb(pscene, robot_body, body_names=body_names, \n",
    "                                              Q_init=HOME_POSE,\n",
    "                                              goal_pairs = [(obj_pscene.oname, 'gp')],\n",
    "                                              movable=movable_bodies, \n",
    "                                              checkers=[checker for checker in checkers if checker.BEFORE_IK],\n",
    "                                              tool_name=TOOL_NAME, tool_link_name=TOOL_LINK, \n",
    "                                              mplan=mplan, timeout=TIMEOUT_MOTION, grasp_sample=GRASP_SAMPLE)\n",
    "        _, _, _, stream_map, init, goal = problem\n",
    "        print('Init:', init)\n",
    "        print('Goal:', goal)\n",
    "        print('Streams:', str_from_object(set(stream_map)))\n",
    "        with Profiler():\n",
    "            with LockRenderer(lock=not True):\n",
    "                gtimer.tic(\"plan\")\n",
    "                solution = solve(problem, algorithm='adaptive', \n",
    "                                 unit_costs=False, success_cost=INF, max_time=MAX_TIME)\n",
    "                elapsed = gtimer.toc(\"plan\")/1000\n",
    "                saver.restore()\n",
    "        print_solution(solution)\n",
    "        plan, cost, evaluations = solution\n",
    "        res = not any(plan is status for status in [None, False])\n",
    "        move_num = len(plan) if res else 0\n",
    "        plan_num = len(mplan.result_log[\"planning\"])\n",
    "        fail_num = np.sum(np.logical_not(mplan.result_log[\"planning\"]))\n",
    "        results_dict_3_pole[cname].append([elapsed, move_num, plan_num, fail_num, res])\n",
    "        print(\"------- Result ({}): {} s -------\".format(cname, elapsed))\n",
    "\n",
    "        if VISUALIZE:\n",
    "            play_pddl_plan(pscene, pscene.actor_dict[\"grip0\"], initial_state=initial_state, \n",
    "                           body_names=body_names, plan=plan, SHOW_PERIOD=0.1)\n",
    "                \n",
    "    pscene.set_object_state(initial_state)\n",
    "    snames = sorted(pscene.subject_dict.keys())\n",
    "    gscene.update_markers_all()\n",
    "    print(\"============ Elapsed: {} s / ETA: {} s =============\".format(*\n",
    "        np.round(np.divide(gtimer.eta(\"full_loop\", i_s+1, SAMPLE_NUM), 1000), 1)))"
   ]
  },
  {
   "cell_type": "code",
   "execution_count": null,
   "metadata": {},
   "outputs": [],
   "source": [
    "print(\"Planning time / Motion count / MP trials / Failed MP / Failures / Total \")\n",
    "for k,v in results_dict_3_pole.items():\n",
    "    vv = np.array(v)\n",
    "    if len(vv)>0:\n",
    "        print(\n",
    "            \"{}: {}\".format(k,\n",
    "                            list(\n",
    "                                np.round(np.mean(vv[np.where(vv[:,-1])[0], :-1], axis=0), 2)) \\\n",
    "                            +[np.sum(np.logical_not(vv[:,-1])), len(vv)]))\n",
    "save_json(os.path.join(DATASET_PATH, \"results_dict_3_pole.json\"), results_dict_3_pole)"
   ]
  },
  {
   "cell_type": "code",
   "execution_count": null,
   "metadata": {},
   "outputs": [],
   "source": []
  },
  {
   "cell_type": "code",
   "execution_count": null,
   "metadata": {},
   "outputs": [],
   "source": []
  },
  {
   "cell_type": "code",
   "execution_count": null,
   "metadata": {},
   "outputs": [],
   "source": []
  },
  {
   "cell_type": "code",
   "execution_count": null,
   "metadata": {},
   "outputs": [],
   "source": []
  },
  {
   "cell_type": "code",
   "execution_count": null,
   "metadata": {},
   "outputs": [],
   "source": []
  },
  {
   "cell_type": "code",
   "execution_count": null,
   "metadata": {},
   "outputs": [],
   "source": []
  },
  {
   "cell_type": "markdown",
   "metadata": {},
   "source": [
    "## Play plan"
   ]
  },
  {
   "cell_type": "code",
   "execution_count": null,
   "metadata": {},
   "outputs": [],
   "source": [
    "SIMULATE = False\n",
    "if (plan is None) or not has_gui():\n",
    "    disconnect_notebook()\n",
    "else:\n",
    "    command = postprocess_plan(plan)\n",
    "    if SIMULATE:\n",
    "#         wait_for_user('Simulate?')\n",
    "        command.control()\n",
    "    else:\n",
    "#         wait_for_user('Execute?')\n",
    "        #command.step()\n",
    "        command.refine(num_steps=10).execute(time_step=0.001)"
   ]
  },
  {
   "cell_type": "code",
   "execution_count": null,
   "metadata": {},
   "outputs": [],
   "source": []
  },
  {
   "cell_type": "code",
   "execution_count": null,
   "metadata": {},
   "outputs": [],
   "source": []
  },
  {
   "cell_type": "code",
   "execution_count": null,
   "metadata": {},
   "outputs": [],
   "source": []
  },
  {
   "cell_type": "code",
   "execution_count": null,
   "metadata": {},
   "outputs": [],
   "source": []
  },
  {
   "cell_type": "code",
   "execution_count": null,
   "metadata": {
    "scrolled": true
   },
   "outputs": [],
   "source": [
    "for k,v in results_dict_3_shelf.items():\n",
    "    vv = np.array(v)\n",
    "    if len(vv)>0:\n",
    "        print(\"{}: {}\".format(k, list(np.mean(vv[np.where(vv[:,-1])[0], :-1], axis=0))+[np.sum(np.logical_not(vv[:,-1])), len(vv)]))"
   ]
  },
  {
   "cell_type": "code",
   "execution_count": null,
   "metadata": {},
   "outputs": [],
   "source": [
    "save_json(os.path.join(DATASET_PATH, \"results_dict_3_shelf.json\"), results_dict_3_shelf)"
   ]
  },
  {
   "cell_type": "code",
   "execution_count": null,
   "metadata": {},
   "outputs": [],
   "source": []
  },
  {
   "cell_type": "code",
   "execution_count": null,
   "metadata": {},
   "outputs": [],
   "source": [
    "ROBOT_DATA_ROOT = os.path.join(TEST_DATA_PATH, ROBOT_TYPE.name)\n",
    "try_mkdir(ROBOT_DATA_ROOT)\n",
    "\n",
    "DATASET_PATH = os.path.join(ROBOT_DATA_ROOT, get_now())\n",
    "# DATASET_PATH = os.path.join(ROBOT_DATA_ROOT, '20210223-051658')\n",
    "try_mkdir(DATASET_PATH)\n",
    "print(\"\")\n",
    "print(\"DATASET_PATH: {}\".format(DATASET_PATH))\n",
    "print(\"\")"
   ]
  },
  {
   "cell_type": "code",
   "execution_count": null,
   "metadata": {},
   "outputs": [],
   "source": []
  },
  {
   "cell_type": "markdown",
   "metadata": {},
   "source": [
    "## sample with pole"
   ]
  },
  {
   "cell_type": "code",
   "execution_count": null,
   "metadata": {},
   "outputs": [],
   "source": [
    "Nmax_obj = 3\n",
    "\n",
    "SAMPLE_NUM = 10\n",
    "\n",
    "SHOW_PERIOD = 0.01\n",
    "\n",
    "results_dict_3_pole = {0:[], 1:[], 2:[], 3:[]}\n",
    "# results_dict_3_plane = {int(k): v for k, v in load_json(os.path.join(DATASET_PATH, \"results_dict_3_plane.json\")).items()}"
   ]
  },
  {
   "cell_type": "code",
   "execution_count": null,
   "metadata": {},
   "outputs": [],
   "source": [
    "gtimer = GlobalTimer.instance()\n",
    "gtimer.reset()\n",
    "for i_s in range(SAMPLE_NUM):\n",
    "    ## add floor, ceiling\n",
    "    floor = Floor(gscene, \"floor\")\n",
    "    gscene.create_safe(gtype=GEOTYPE.BOX, name=\"base\", link_name=\"base_link\", \n",
    "                       dims=(0.2, 0.2, -floor.RTH[2]), center=(0,0,floor.RTH[2]/2), rpy=(0,0,0), \n",
    "                       color=floor.geometry.color, display=True, collision=True, fixed=True)\n",
    "    # ceiling = Ceiling(gscene, \"ceiling\")\n",
    "\n",
    "    ## set workplane\n",
    "    wp = WorkPlane(gscene, \"wp\", floor_height=floor.RTH[2]+floor.DIM[2]/2)\n",
    "    pscene.create_binder(bname=\"wp\", gname=\"wp\", _type=PlacePlane, point=None)\n",
    "\n",
    "    gp_colliding = True\n",
    "    while gp_colliding:\n",
    "        ## set goalplane\n",
    "        gp = SideBox(gscene, \"gp\", floor_height=wp.RTH[2]+wp.RTH[2]/2)\n",
    "        gp_colliding = wp.is_overlapped_with(gp.geometry)\n",
    "    pscene.create_binder(bname=\"gp\", gname=\"gp\", _type=PlacePlane, point=None)\n",
    "\n",
    "    pole = Pole(gscene, \"pole\", RTH=[0.3, gp.RTH[1], 0])\n",
    "\n",
    "    ## add object\n",
    "    obj_list = disperse_objects(gscene, PlaneObject, \"obj\", Nmax_obj, workplane_on=wp)\n",
    "\n",
    "    obj_set_list = []\n",
    "    for i_obj, obj in enumerate(obj_list):\n",
    "        obj_pscene, handles = add_object(pscene, obj)\n",
    "        obj_set_list.append((obj, obj_pscene, handles))\n",
    "    obj, obj_pscene, handles = obj_set_list[0]\n",
    "\n",
    "    obj_pscene.geometry.color = (0.8,0.2,0.2,1)\n",
    "    if VISUALIZE:\n",
    "        gscene.set_rviz()\n",
    "\n",
    "    mplan.update_gscene()\n",
    "    initial_state = pscene.initialize_state(HOME_POSE)\n",
    "    pscene.set_object_state(initial_state)\n",
    "    from_state = initial_state.copy(pscene)\n",
    "\n",
    "    ppline.set_motion_planner(mplan)\n",
    "    ppline.set_task_planner(tplan)\n",
    "\n",
    "    gtimer = GlobalTimer.instance()\n",
    "    gtimer.reset()\n",
    "\n",
    "\n",
    "\n",
    "    for checker_idx in range(1,4):\n",
    "        mplan.motion_filters = checkers_all[:checker_idx]\n",
    "        goal_nodes = [(\"gp\",)+deepcopy(from_state.node)[1:]]\n",
    "        mplan.reset_log(True)\n",
    "        gtimer.tic(\"plan\")\n",
    "        ppline.search(initial_state, goal_nodes, verbose=True, display=False, dt_vis=0.01, timeout_loop=600, multiprocess=False, timeout=5)\n",
    "        elapsed = gtimer.toc(\"plan\")/1000\n",
    "        schedules = ppline.find_schedules()\n",
    "        res = len(schedules)>0\n",
    "        if res:\n",
    "            schedule = ppline.sort_schedule(schedules)[0]\n",
    "            move_num = len(schedule)-1\n",
    "        else:\n",
    "            move_num = 0\n",
    "        plan_num = len(mplan.result_log[\"planning\"])\n",
    "        fail_num = np.sum(np.logical_not(mplan.result_log[\"planning\"]))\n",
    "        results_dict_3_pole[checker_idx].append([elapsed, move_num, plan_num, fail_num, res])"
   ]
  },
  {
   "cell_type": "code",
   "execution_count": null,
   "metadata": {
    "scrolled": true
   },
   "outputs": [],
   "source": [
    "for k,v in results_dict_3_pole.items():\n",
    "    vv = np.array(v)\n",
    "    if len(vv)>0:\n",
    "        print(\"{}: {}\".format(k, list(np.mean(vv[np.where(vv[:,-1])[0], :-1], axis=0))+[np.sum(np.logical_not(vv[:,-1])), len(vv)]))"
   ]
  },
  {
   "cell_type": "code",
   "execution_count": null,
   "metadata": {},
   "outputs": [],
   "source": [
    "save_json(os.path.join(DATASET_PATH, \"results_dict_3_pole.json\"), results_dict_3_pole)"
   ]
  },
  {
   "cell_type": "code",
   "execution_count": null,
   "metadata": {},
   "outputs": [],
   "source": []
  }
 ],
 "metadata": {
  "kernelspec": {
   "display_name": "Python 2",
   "language": "python",
   "name": "python2"
  },
  "language_info": {
   "codemirror_mode": {
    "name": "ipython",
    "version": 2
   },
   "file_extension": ".py",
   "mimetype": "text/x-python",
   "name": "python",
   "nbconvert_exporter": "python",
   "pygments_lexer": "ipython2",
   "version": "2.7.17"
  }
 },
 "nbformat": 4,
 "nbformat_minor": 2
}
