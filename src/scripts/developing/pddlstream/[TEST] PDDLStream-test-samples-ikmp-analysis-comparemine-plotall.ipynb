{
 "cells": [
  {
   "cell_type": "markdown",
   "metadata": {},
   "source": [
    "# [TEST] PDDLStream-test-samples-ikmp-analysis-comparemine-print"
   ]
  },
  {
   "cell_type": "code",
   "execution_count": null,
   "metadata": {},
   "outputs": [],
   "source": [
    "# # python3 /home/rnb/Projects/rnb-planning/src/pkg/planning/filtering/lattice_model/shared_lattice_predictor.py --rtype panda\n",
    "\n",
    "# import SharedArray as sa\n",
    "# ROBOT_TYPE_NAME = 'panda'\n",
    "# sa.delete(\"shm://{}.prepared\".format(ROBOT_TYPE_NAME))\n",
    "# sa.delete(\"shm://{}.grasp_img\".format(ROBOT_TYPE_NAME))\n",
    "# sa.delete(\"shm://{}.arm_img\".format(ROBOT_TYPE_NAME))\n",
    "# sa.delete(\"shm://{}.rh_vals\".format(ROBOT_TYPE_NAME))\n",
    "# sa.delete(\"shm://{}.result\".format(ROBOT_TYPE_NAME))\n",
    "# sa.delete(\"shm://{}.query_in\".format(ROBOT_TYPE_NAME))\n",
    "# sa.delete(\"shm://{}.response_out\".format(ROBOT_TYPE_NAME))\n",
    "# sa.delete(\"shm://{}.query_quit\".format(ROBOT_TYPE_NAME))"
   ]
  },
  {
   "cell_type": "markdown",
   "metadata": {},
   "source": [
    "#### Rebuild matploblib.font manager if font error occurs"
   ]
  },
  {
   "cell_type": "code",
   "execution_count": 1,
   "metadata": {},
   "outputs": [],
   "source": [
    "# import matplotlib\n",
    "# matplotlib.font_manager._rebuild()"
   ]
  },
  {
   "cell_type": "code",
   "execution_count": 1,
   "metadata": {},
   "outputs": [],
   "source": [
    "from __future__ import print_function\n",
    "import os\n",
    "import sys\n",
    "RNB_PLANNING_DIR = os.environ[\"RNB_PLANNING_DIR\"]\n",
    "sys.path.append(os.path.join(RNB_PLANNING_DIR, 'src'))\n",
    "from pkg.controller.combined_robot import *\n",
    "from pkg.utils.utils import get_now, try_mkdir\n",
    "import subprocess\n",
    "\n",
    "DATA_PATH = os.path.join(RNB_PLANNING_DIR, \"data\")\n",
    "try_mkdir(DATA_PATH)\n",
    "\n",
    "DAT_ROOT = \"stowing-deep\"\n",
    "TEST_DATA_PATH = os.path.join(DATA_PATH, DAT_ROOT)\n",
    "try_mkdir(TEST_DATA_PATH)"
   ]
  },
  {
   "cell_type": "code",
   "execution_count": 2,
   "metadata": {},
   "outputs": [],
   "source": [
    "def combine_by_obsnum(value_dict, keys=[3, 5, 7]):\n",
    "    value_dict_new = {}\n",
    "    for k in keys:\n",
    "        k1 = 'obj_1c_obs{}'.format(k)\n",
    "        k2 = 'obj_3c_obs{}'.format(k)\n",
    "        value_dict_new[k] = {}\n",
    "        for cname in value_dict[k1].keys():\n",
    "            value_dict_new[k][cname] = np.concatenate([value_dict[k1][cname], value_dict[k2][cname]])\n",
    "    return value_dict_new"
   ]
  },
  {
   "cell_type": "code",
   "execution_count": null,
   "metadata": {},
   "outputs": [],
   "source": []
  },
  {
   "cell_type": "markdown",
   "metadata": {},
   "source": [
    "## plot results"
   ]
  },
  {
   "cell_type": "code",
   "execution_count": 3,
   "metadata": {},
   "outputs": [],
   "source": [
    "from plot_scripts import *\n",
    "RTYPE = \"panda\"\n",
    "DAT_DIR = '20210917-113211'\n",
    "CNAME_LIST = [\"None\", \"Full\"]\n",
    "LEGEND_LIST = [\"None\", \"Step3\"]\n",
    "IK_NUMS = [1,2,4,8,16, 32, 64]\n",
    "RESULT_PATHS = []\n",
    "IK_DIR_FORM = \"stowing-deep-result-analysis-ik{:03}-mp2fix\"\n",
    "for ik_num in IK_NUMS:\n",
    "    RES_ROOT = IK_DIR_FORM.format(ik_num)\n",
    "    TEST_RESULT_PATH = os.path.join(DATA_PATH, RES_ROOT)\n",
    "    try_mkdir(TEST_RESULT_PATH)\n",
    "    RESULT_PATHS.append(RES_ROOT)"
   ]
  },
  {
   "cell_type": "code",
   "execution_count": 4,
   "metadata": {
    "scrolled": true
   },
   "outputs": [
    {
     "name": "stdout",
     "output_type": "stream",
     "text": [
      "==================================================\n",
      "RES_ROOT: stowing-deep-result-analysis-ik001-mp2fix\n",
      "DAT_DIR: 20210917-113211\n",
      "CNAME_LIST: ['None', 'Tool', 'ToolReach', 'Full']\n",
      "==================================================\n",
      "==================================================\n",
      "RES_ROOT: stowing-deep-result-analysis-ik002-mp2fix\n",
      "DAT_DIR: 20210917-113211\n",
      "CNAME_LIST: ['None', 'Tool', 'ToolReach', 'Full']\n",
      "==================================================\n",
      "==================================================\n",
      "RES_ROOT: stowing-deep-result-analysis-ik004-mp2fix\n",
      "DAT_DIR: 20210917-113211\n",
      "CNAME_LIST: ['None', 'Tool', 'ToolReach', 'Full']\n",
      "==================================================\n",
      "==================================================\n",
      "RES_ROOT: stowing-deep-result-analysis-ik008-mp2fix\n",
      "DAT_DIR: 20210917-113211\n",
      "CNAME_LIST: ['None', 'Tool', 'ToolReach', 'Full']\n",
      "==================================================\n",
      "==================================================\n",
      "RES_ROOT: stowing-deep-result-analysis-ik016-mp2fix\n",
      "DAT_DIR: 20210917-113211\n",
      "CNAME_LIST: ['None', 'Tool', 'ToolReach', 'Full']\n",
      "==================================================\n",
      "==================================================\n",
      "RES_ROOT: stowing-deep-result-analysis-ik032-mp2fix\n",
      "DAT_DIR: 20210917-113211\n",
      "CNAME_LIST: ['None', 'Tool', 'ToolReach', 'Full']\n",
      "==================================================\n",
      "==================================================\n",
      "RES_ROOT: stowing-deep-result-analysis-ik064-mp2fix\n",
      "DAT_DIR: 20210917-113211\n",
      "CNAME_LIST: ['None', 'Tool', 'ToolReach', 'Full']\n",
      "==================================================\n"
     ]
    }
   ],
   "source": [
    "success_means_dict = {}\n",
    "time_means_dict = {}\n",
    "time_stds_dict = {}\n",
    "\n",
    "succ_dict_all = {}\n",
    "time_dict_all = {}\n",
    "for ik_num in IK_NUMS:\n",
    "    resdat_all, res_dict_all = print_results(RES_ROOT=IK_DIR_FORM.format(ik_num), \n",
    "                                             RTYPE=\"panda\", \n",
    "                                             DAT_DIR='20210917-113211',\n",
    "                                             CNAMES_EXCLUDE=[], read_only=True\n",
    "                                            )\n",
    "#     succ_dict_all[ik_num] = swap_double_dict(combine_by_obsnum(extract_values(resdat_all, [\"success\"])))\n",
    "#     time_dict_all[ik_num] = swap_double_dict(combine_by_obsnum(extract_valid(resdat_all, keys=[\"plan_time\"], individual=True)))\n",
    "    succ_dict_all[ik_num] = swap_double_dict(extract_values(resdat_all, [\"success\"]))\n",
    "    time_dict_all[ik_num] = swap_double_dict(extract_valid(resdat_all, keys=[\"plan_time\"], individual=True))\n",
    "    \n",
    "succ_dict_all = swap_double_dict(succ_dict_all)\n",
    "time_dict_all = swap_double_dict(time_dict_all)"
   ]
  },
  {
   "cell_type": "code",
   "execution_count": 5,
   "metadata": {
    "scrolled": false
   },
   "outputs": [],
   "source": [
    "for cname in CNAME_LIST:\n",
    "    succ_dict = swap_double_dict(succ_dict_all[cname])\n",
    "    time_dict = swap_double_dict(time_dict_all[cname])\n",
    "    success_vecs = [np.concatenate(map(lambda case: succ_dict[case][ik_num], sorted(succ_dict.keys()))) for ik_num in IK_NUMS]\n",
    "    success_means = map(np.mean, success_vecs)\n",
    "    time_vecs = [np.concatenate(map(lambda case: time_dict[case][ik_num], sorted(time_dict.keys()))) for ik_num in IK_NUMS]\n",
    "    time_means = np.array(map(np.mean, time_vecs))\n",
    "    time_stds = np.array(map(np.std, time_vecs))\n",
    "    success_means_dict[cname] = success_means\n",
    "    time_means_dict[cname] = time_means\n",
    "    time_stds_dict[cname] = time_stds"
   ]
  },
  {
   "cell_type": "code",
   "execution_count": 6,
   "metadata": {},
   "outputs": [
    {
     "data": {
      "image/png": "[encoded data removed]",
      "text/plain": [
       "<Figure size 288x288 with 1 Axes>"
      ]
     },
     "metadata": {
      "needs_background": "light"
     },
     "output_type": "display_data"
    }
   ],
   "source": [
    "plt.rcParams['font.size'] = 18\n",
    "plt.rcParams[\"font.family\"] = \"Times New Roman\"\n",
    "plt.rcParams['lines.linewidth'] = 2\n",
    "\n",
    "fig = plt.figure(figsize=(4,4))\n",
    "ax = plt.subplot(1,1,1)\n",
    "\n",
    "pargs_list = []\n",
    "time_means_all, success_means_all, labels_all = [], [], []\n",
    "for i_c, (cname, lstyle, color) in enumerate(zip(CNAME_LIST, ['-o', '-s'], [MATLAB_COLORS[1], MATLAB_COLORS[0]])):\n",
    "    success_means = np.multiply(success_means_dict[cname], 100)\n",
    "    time_means = time_means_dict[cname]\n",
    "    time_stds = time_stds_dict[cname]\n",
    "    pargs_list.append((time_means, success_means, lstyle))\n",
    "    time_means_all += list(time_means)\n",
    "    success_means_all += list(success_means)\n",
    "    labels_all += list(map(lambda x: str(x)+\" \"*i_c, IK_NUMS))\n",
    "    plt.plot(time_means, success_means, lstyle, color=color) \n",
    "#     repel_labels(ax, time_means, success_means, IK_NUMS, k=0.35,arrowstyle='-', autoset_axis=False)   \n",
    "    \n",
    "repel_labels(ax, time_means_all, success_means_all, labels_all, k=0.5, \n",
    "             color='gray', arrowstyle='-', autoset_axis=False,\n",
    "             min_shift=0.8, max_shift=1.2, min_x=2.5, scale_y=1.5)\n",
    "    \n",
    "plt.xscale(\"log\", basex=2)\n",
    "plt.xticks(np.power(2, range(1,5)))\n",
    "plt.yticks(range(70,102, 2))\n",
    "plt.grid(True)\n",
    "plt.axis([2.5, 16, 87, 100])\n",
    "plt.xlabel(\"Time (s)\")\n",
    "plt.ylabel(\"Success rate (%)\")\n",
    "\n",
    "    \n",
    "plt.legend(LEGEND_LIST, loc=\"lower right\")\n",
    "plt.show()"
   ]
  },
  {
   "cell_type": "code",
   "execution_count": 7,
   "metadata": {},
   "outputs": [
    {
     "name": "stdout",
     "output_type": "stream",
     "text": [
      "       1       2       4       8      16      32      64\n",
      "  -15.78   21.38   25.48   35.61   48.28   54.39   68.04\n",
      "    4.93    4.09    3.96    3.75    3.72    3.93     3.9\n",
      "    4.26     5.2    5.31    5.82     7.2    8.61   12.19\n"
     ]
    }
   ],
   "source": [
    "print(\"\".join([\"{:8}\".format(x) for x in IK_NUMS]))\n",
    "print(\"\".join([\"{:8}\".format(x) \n",
    "               for x in np.round((1-np.divide(time_means_all[7:], time_means_all[:7]))*100, 2)]))\n",
    "print(\"\".join([\"{:8}\".format(x) \n",
    "               for x in np.round(time_means_all[7:], 2)]))\n",
    "print(\"\".join([\"{:8}\".format(x) \n",
    "               for x in np.round(time_means_all[:7], 2)]))"
   ]
  },
  {
   "cell_type": "code",
   "execution_count": 8,
   "metadata": {},
   "outputs": [
    {
     "name": "stdout",
     "output_type": "stream",
     "text": [
      "       1       2       4       8      16      32      64\n",
      "   89.43   94.57   96.57   97.14   96.86   96.86   95.71\n",
      "   93.14   95.14   96.29   97.43   96.57   95.43   93.43\n"
     ]
    }
   ],
   "source": [
    "print(\"\".join([\"{:8}\".format(x) for x in IK_NUMS]))\n",
    "print(\"\".join([\"{:8}\".format(x) \n",
    "               for x in np.round(success_means_all[7:], 2)]))\n",
    "print(\"\".join([\"{:8}\".format(x) \n",
    "               for x in np.round(success_means_all[:7], 2)]))"
   ]
  },
  {
   "cell_type": "markdown",
   "metadata": {},
   "source": [
    "# MP analysis"
   ]
  },
  {
   "cell_type": "code",
   "execution_count": 9,
   "metadata": {},
   "outputs": [],
   "source": [
    "from plot_scripts import *\n",
    "RTYPE = \"panda\"\n",
    "DAT_DIR = '20210917-113211'\n",
    "CNAME_LIST = [\"None\", \"Full\"]\n",
    "LEGEND_DICT = {\"None\": \"None\", \"Full\": \"Step3\"}\n",
    "IK_TRY_NUM = 8\n",
    "MP_TIMES = [0.1,0.2,0.5,1.0,2.0,4.0,8.0]\n",
    "RESULT_PATHS = []\n",
    "MP_DIR_FORM = \"stowing-deep-result-analysis-ik{:03}_mp{:.3}\"\n",
    "for mp_time in MP_TIMES:\n",
    "    RES_ROOT = MP_DIR_FORM.format(IK_TRY_NUM, mp_time)\n",
    "    TEST_RESULT_PATH = os.path.join(DATA_PATH, RES_ROOT)\n",
    "    try_mkdir(TEST_RESULT_PATH)\n",
    "    RESULT_PATHS.append(RES_ROOT)"
   ]
  },
  {
   "cell_type": "code",
   "execution_count": 10,
   "metadata": {},
   "outputs": [
    {
     "name": "stdout",
     "output_type": "stream",
     "text": [
      "==================================================\n",
      "RES_ROOT: stowing-deep-result-analysis-ik008_mp0.1\n",
      "DAT_DIR: 20210917-113211\n",
      "CNAME_LIST: ['None', 'Tool', 'ToolReach', 'Full']\n",
      "==================================================\n",
      "==================================================\n",
      "RES_ROOT: stowing-deep-result-analysis-ik008_mp0.2\n",
      "DAT_DIR: 20210917-113211\n",
      "CNAME_LIST: ['None', 'Tool', 'ToolReach', 'Full']\n",
      "==================================================\n",
      "==================================================\n",
      "RES_ROOT: stowing-deep-result-analysis-ik008_mp0.5\n",
      "DAT_DIR: 20210917-113211\n",
      "CNAME_LIST: ['None', 'Tool', 'ToolReach', 'Full']\n",
      "==================================================\n",
      "==================================================\n",
      "RES_ROOT: stowing-deep-result-analysis-ik008_mp1.0\n",
      "DAT_DIR: 20210917-113211\n",
      "CNAME_LIST: ['None', 'Tool', 'ToolReach', 'Full']\n",
      "==================================================\n",
      "==================================================\n",
      "RES_ROOT: stowing-deep-result-analysis-ik008_mp2.0\n",
      "DAT_DIR: 20210917-113211\n",
      "CNAME_LIST: ['None', 'Tool', 'ToolReach', 'Full']\n",
      "==================================================\n",
      "==================================================\n",
      "RES_ROOT: stowing-deep-result-analysis-ik008_mp4.0\n",
      "DAT_DIR: 20210917-113211\n",
      "CNAME_LIST: ['None', 'Tool', 'ToolReach', 'Full']\n",
      "==================================================\n",
      "==================================================\n",
      "RES_ROOT: stowing-deep-result-analysis-ik008_mp8.0\n",
      "DAT_DIR: 20210917-113211\n",
      "CNAME_LIST: ['None', 'Tool', 'ToolReach', 'Full']\n",
      "==================================================\n"
     ]
    }
   ],
   "source": [
    "succ_dict_all = {}\n",
    "time_dict_all = {}\n",
    "for mp_time in MP_TIMES:\n",
    "    resdat_all, res_dict_all = print_results(RES_ROOT=MP_DIR_FORM.format(IK_TRY_NUM, mp_time), \n",
    "                                             RTYPE=\"panda\", \n",
    "                                             DAT_DIR='20210917-113211',\n",
    "                                             CNAMES_EXCLUDE=[], read_only=True\n",
    "                                            )\n",
    "#     succ_dict_all[mp_time] = swap_double_dict(combine_by_obsnum(extract_values(resdat_all, [\"success\"])))\n",
    "#     time_dict_all[mp_time] = swap_double_dict(combine_by_obsnum(extract_valid(resdat_all, keys=[\"plan_time\"], individual=True)))\n",
    "    succ_dict_all[mp_time] = swap_double_dict(extract_values(resdat_all, [\"success\"]))\n",
    "    time_dict_all[mp_time] = swap_double_dict(extract_valid(resdat_all, keys=[\"plan_time\"], individual=True))\n",
    "    \n",
    "succ_dict_all = swap_double_dict(succ_dict_all)\n",
    "time_dict_all = swap_double_dict(time_dict_all)"
   ]
  },
  {
   "cell_type": "code",
   "execution_count": 11,
   "metadata": {},
   "outputs": [],
   "source": [
    "for cname in CNAME_LIST:\n",
    "    succ_dict = swap_double_dict(succ_dict_all[cname])\n",
    "    time_dict = swap_double_dict(time_dict_all[cname])\n",
    "    success_vecs = [np.concatenate(map(lambda case: succ_dict[case][mp_time], sorted(succ_dict.keys()))) for mp_time in MP_TIMES]\n",
    "    success_means = map(np.mean, success_vecs)\n",
    "    time_vecs = [np.concatenate(map(lambda case: time_dict[case][mp_time], sorted(time_dict.keys()))) for mp_time in MP_TIMES]\n",
    "    time_means = np.array(map(np.mean, time_vecs))\n",
    "    time_stds = np.array(map(np.std, time_vecs))\n",
    "    success_means_dict[cname] = success_means\n",
    "    time_means_dict[cname] = time_means\n",
    "    time_stds_dict[cname] = time_stds"
   ]
  },
  {
   "cell_type": "code",
   "execution_count": 12,
   "metadata": {},
   "outputs": [
    {
     "data": {
      "image/png": "[encoded data removed]",
      "text/plain": [
       "<Figure size 288x288 with 1 Axes>"
      ]
     },
     "metadata": {
      "needs_background": "light"
     },
     "output_type": "display_data"
    }
   ],
   "source": [
    "plt.rcParams['font.size'] = 18\n",
    "plt.rcParams[\"font.family\"] = \"Times New Roman\"\n",
    "plt.rcParams['lines.linewidth'] = 2\n",
    "\n",
    "fig = plt.figure(figsize=(4,4))\n",
    "ax = plt.subplot(1,1,1)\n",
    "\n",
    "pargs_list = []\n",
    "time_means_all, success_means_all, labels_all = [], [], []\n",
    "for i_c, (cname, lstyle, color) in enumerate(zip(CNAME_LIST, ['-o', '-s'], [MATLAB_COLORS[1], MATLAB_COLORS[0]])):\n",
    "    success_means = np.multiply(success_means_dict[cname], 100)\n",
    "    time_means = time_means_dict[cname]\n",
    "    time_stds = time_stds_dict[cname]\n",
    "    pargs_list.append((time_means, success_means, lstyle))\n",
    "    time_means_all += list(time_means)\n",
    "    success_means_all += list(success_means)\n",
    "    labels_all += list(map(lambda x: str(x)+\" \"*i_c, MP_TIMES))\n",
    "    plt.plot(time_means, success_means, lstyle, color=color) \n",
    "#     repel_labels(ax, time_means, success_means, IK_NUMS, k=0.1,arrowstyle='-', autoset_axis=False)    \n",
    "    \n",
    "repel_labels(ax, time_means_all, success_means_all, labels_all, k=0.8, \n",
    "             color='gray', arrowstyle='-', autoset_axis=False,\n",
    "             min_shift=1.2, max_shift=1.7, min_x=2.5, scale_y=1.3)\n",
    "    \n",
    "plt.xscale(\"log\", basex=2)\n",
    "plt.xticks(np.power(2, range(1,5)))\n",
    "plt.yticks(range(70,102, 2))\n",
    "plt.grid(True)\n",
    "plt.axis([2.3, 13, 82, 101])\n",
    "plt.xlabel(\"Time (s)\")\n",
    "plt.ylabel(\"Success rate (%)\")\n",
    "\n",
    "    \n",
    "# plt.legend(LEGEND_LIST, loc=\"lower left\")\n",
    "plt.show()"
   ]
  },
  {
   "cell_type": "code",
   "execution_count": 13,
   "metadata": {},
   "outputs": [
    {
     "name": "stdout",
     "output_type": "stream",
     "text": [
      "     0.1     0.2     0.5     1.0     2.0     4.0     8.0\n",
      "   32.31    42.5   34.63   37.31   31.58   30.37   37.45\n",
      "     5.5    4.11    3.65    3.28    3.91    4.71    5.39\n",
      "    8.13    7.14    5.59    5.23    5.72    6.76    8.62\n"
     ]
    }
   ],
   "source": [
    "print(\"\".join([\"{:8}\".format(x) for x in MP_TIMES]))\n",
    "print(\"\".join([\"{:8}\".format(x) \n",
    "               for x in np.round((1-np.divide(time_means_all[7:], time_means_all[:7]))*100, 2)]))\n",
    "print(\"\".join([\"{:8}\".format(x) \n",
    "               for x in np.round(time_means_all[7:], 2)]))\n",
    "print(\"\".join([\"{:8}\".format(x) \n",
    "               for x in np.round(time_means_all[:7], 2)]))"
   ]
  },
  {
   "cell_type": "code",
   "execution_count": 14,
   "metadata": {},
   "outputs": [
    {
     "name": "stdout",
     "output_type": "stream",
     "text": [
      "     0.1     0.2     0.5     1.0     2.0     4.0     8.0\n",
      "   84.57    90.0    94.0   94.29   96.57   97.43   97.14\n",
      "   83.71   90.57   94.57   95.71   96.86   96.86   96.29\n"
     ]
    }
   ],
   "source": [
    "print(\"\".join([\"{:8}\".format(x) for x in MP_TIMES]))\n",
    "print(\"\".join([\"{:8}\".format(x) \n",
    "               for x in np.round(success_means_all[7:], 2)]))\n",
    "print(\"\".join([\"{:8}\".format(x) \n",
    "               for x in np.round(success_means_all[:7], 2)]))"
   ]
  },
  {
   "cell_type": "code",
   "execution_count": null,
   "metadata": {},
   "outputs": [],
   "source": []
  },
  {
   "cell_type": "code",
   "execution_count": null,
   "metadata": {},
   "outputs": [],
   "source": []
  },
  {
   "cell_type": "code",
   "execution_count": null,
   "metadata": {},
   "outputs": [],
   "source": []
  }
 ],
 "metadata": {
  "kernelspec": {
   "display_name": "Python 2",
   "language": "python",
   "name": "python2"
  },
  "language_info": {
   "codemirror_mode": {
    "name": "ipython",
    "version": 2
   },
   "file_extension": ".py",
   "mimetype": "text/x-python",
   "name": "python",
   "nbconvert_exporter": "python",
   "pygments_lexer": "ipython2",
   "version": "2.7.17"
  }
 },
 "nbformat": 4,
 "nbformat_minor": 2
}
