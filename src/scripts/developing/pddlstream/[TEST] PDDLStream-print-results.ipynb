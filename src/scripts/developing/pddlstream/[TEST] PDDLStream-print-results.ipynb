{
 "cells": [
  {
   "cell_type": "code",
   "execution_count": null,
   "metadata": {},
   "outputs": [],
   "source": [
    "# import SharedArray as sa\n",
    "# ROBOT_TYPE_NAME = 'panda'\n",
    "# sa.delete(\"shm://{}.prepared\".format(ROBOT_TYPE_NAME))\n",
    "# sa.delete(\"shm://{}.grasp_img\".format(ROBOT_TYPE_NAME))\n",
    "# sa.delete(\"shm://{}.arm_img\".format(ROBOT_TYPE_NAME))\n",
    "# sa.delete(\"shm://{}.rh_vals\".format(ROBOT_TYPE_NAME))\n",
    "# sa.delete(\"shm://{}.result\".format(ROBOT_TYPE_NAME))\n",
    "# sa.delete(\"shm://{}.query_in\".format(ROBOT_TYPE_NAME))\n",
    "# sa.delete(\"shm://{}.response_out\".format(ROBOT_TYPE_NAME))\n",
    "# sa.delete(\"shm://{}.query_quit\".format(ROBOT_TYPE_NAME))"
   ]
  },
  {
   "cell_type": "markdown",
   "metadata": {},
   "source": [
    "## Define printing function"
   ]
  },
  {
   "cell_type": "code",
   "execution_count": null,
   "metadata": {},
   "outputs": [],
   "source": [
    "from plot_scripts import *"
   ]
  },
  {
   "cell_type": "code",
   "execution_count": null,
   "metadata": {},
   "outputs": [],
   "source": []
  },
  {
   "cell_type": "markdown",
   "metadata": {},
   "source": [
    "## Print results"
   ]
  },
  {
   "cell_type": "code",
   "execution_count": null,
   "metadata": {
    "scrolled": false
   },
   "outputs": [],
   "source": [
    "plt.rcParams['font.size'] = 18\n",
    "plt.rcParams[\"font.family\"] = \"Times New Roman\"\n",
    "plt.rcParams['lines.linewidth'] = 2\n",
    "CNAME_LIST = ['None', 'Tool', 'ToolReach', 'Full']\n",
    "resdat_all, res_dict_all = print_results(RES_ROOT=\"stowing-deep-result-btf-ik08-to2.0\", \n",
    "                                         RTYPE=\"panda\", \n",
    "                                         DAT_DIR='20210917-113211',\n",
    "                                         CNAME_LIST=CNAME_LIST,\n",
    "#                                          exp_list=['obj_1',\n",
    "#                                                    'obj_1_obs3',\n",
    "#                                                    'obj_1_obs5',\n",
    "#                                                    'obj_3',\n",
    "#                                                    'obj_3_pole',\n",
    "#                                                    'obj_3_hard',\n",
    "#                                                    'obj_1c_obs0',\n",
    "#                                                    'obj_1c_obs3',\n",
    "#                                                    'obj_1c_obs5',\n",
    "#                                                    'obj_1c_obs7',\n",
    "#                                                    'obj_3c_obs3',\n",
    "#                                                    'obj_3c_obs5']\n",
    "                                        )\n",
    "plot_times(resdat_all, CHECKERS=CNAME_LIST)"
   ]
  },
  {
   "cell_type": "code",
   "execution_count": null,
   "metadata": {},
   "outputs": [],
   "source": []
  },
  {
   "cell_type": "code",
   "execution_count": null,
   "metadata": {},
   "outputs": [],
   "source": [
    "scatter = False\n",
    "\n",
    "plt.figure(figsize=(15,20))\n",
    "plt.subplot(4,2,1)\n",
    "plot_valid(resdat_all, keys=[\"time_log\", \"check_feas\"], fn=np.mean, scatter=scatter, CHECKERS=CNAME_LIST)\n",
    "plt.title(\"mean check_feas time (ms)\")\n",
    "plt.subplot(4,2,2)\n",
    "plot_valid(resdat_all, keys=[\"time_log\", \"ik_loop\"], fn=np.mean, scatter=scatter, CHECKERS=CNAME_LIST)\n",
    "plt.title(\"mean ik loop time (ms)\")\n",
    "\n",
    "plt.subplot(4,2,3)\n",
    "plot_valid(resdat_all, keys=[\"time_log\", \"check_feas\"], fn=np.sum, scatter=scatter, CHECKERS=CNAME_LIST)\n",
    "plt.title(\"total check_feas time (ms)\")\n",
    "plt.subplot(4,2,4)\n",
    "plot_valid(resdat_all, keys=[\"time_log\", \"ik_loop\"], fn=np.sum, scatter=scatter, CHECKERS=CNAME_LIST)\n",
    "plt.title(\"total ik loop time (ms)\")\n",
    "\n",
    "plt.subplot(4,2,5)\n",
    "fm_dict = plot_valid(resdat_all, keys=['time_log', \"free_motion_gen\"], fn=np.sum, scatter=scatter, CHECKERS=CNAME_LIST)\n",
    "plt.title(\"free motion time (ms)\")\n",
    "plt.subplot(4,2,6)\n",
    "plot_valid(resdat_all, keys=['time_log', \"holding_motion_gen\"], fn=np.sum, scatter=scatter, CHECKERS=CNAME_LIST)\n",
    "plt.title(\"holding motion time (ms)\")\n",
    "\n",
    "plt.subplot(4,2,7)\n",
    "time_dict = plot_valid(resdat_all, keys=[\"plan_time\"], average_all=True, CHECKERS=CNAME_LIST)\n",
    "plt.title(\"planning time tot\")\n",
    "plt.subplot(4,2,8)\n",
    "succ_dict = extract_values(resdat_all, [\"success\"])\n",
    "_ = grouped_bar(succ_dict, average_all=True, options=CNAME_LIST)\n",
    "plt.title(\"success ratios tot\")"
   ]
  },
  {
   "cell_type": "code",
   "execution_count": null,
   "metadata": {},
   "outputs": [],
   "source": [
    "XLABEL_DICT = {'None':'None', 'Tool':'Step 1', 'ToolReach': 'Step 2', 'Full': 'Step 3'}\n",
    "XLABEL_LIST = ['None', 'Step 1', 'Step 2', 'Step 3']"
   ]
  },
  {
   "cell_type": "code",
   "execution_count": null,
   "metadata": {},
   "outputs": [],
   "source": [
    "for resdict in resdat_all.values():\n",
    "    for k, v in resdict.items():\n",
    "        resdict[XLABEL_DICT[k]] = v"
   ]
  },
  {
   "cell_type": "code",
   "execution_count": null,
   "metadata": {},
   "outputs": [],
   "source": [
    "plt.rcParams['font.size'] = 18\n",
    "plt.rcParams[\"font.family\"] = \"Times New Roman\"\n",
    "plt.rcParams['lines.linewidth'] = 2\n",
    "\n",
    "fig = plt.figure(figsize=(4,4))\n",
    "ax = plt.subplot(1,1,1)\n",
    "\n",
    "time_dict = plot_valid(resdat_all, keys=[\"plan_time\"], average_all=True, CHECKERS=XLABEL_LIST)\n",
    "plt.ylabel(\"Time (s)\")\n",
    "plt.ylim(-5,15)\n",
    "# plt.title(\"planning time tot\")"
   ]
  },
  {
   "cell_type": "code",
   "execution_count": null,
   "metadata": {},
   "outputs": [],
   "source": [
    "plt.rcParams['font.size'] = 18\n",
    "plt.rcParams[\"font.family\"] = \"Times New Roman\"\n",
    "plt.rcParams['lines.linewidth'] = 2\n",
    "\n",
    "fig = plt.figure(figsize=(4,4))\n",
    "ax = plt.subplot(1,1,1)\n",
    "\n",
    "succ_dict = extract_values(resdat_all, [\"success\"])\n",
    "for k, v in succ_dict.items():\n",
    "    for kk, vv in v.items():\n",
    "        v[kk] = np.multiply(np.array(vv, dtype=np.float), 100)\n",
    "_ = grouped_bar(succ_dict, average_all=True, options=XLABEL_LIST, show_bar=False)\n",
    "plt.ylabel(\"Success rate (%)\")\n",
    "plt.ylim(80,100)\n",
    "# plt.title(\"success ratios tot\")"
   ]
  },
  {
   "cell_type": "code",
   "execution_count": null,
   "metadata": {},
   "outputs": [],
   "source": []
  },
  {
   "cell_type": "code",
   "execution_count": null,
   "metadata": {
    "scrolled": true
   },
   "outputs": [],
   "source": [
    "plt.figure(figsize=(15,35))\n",
    "\n",
    "ROWS = 8\n",
    "COLS = 3   \n",
    "    \n",
    "succ_dict = extract_values(resdat_all, [\"success\"])\n",
    "subplot_trisect_line(ROWS, COLS, 1, succ_dict, \"success ratio\", options=CNAME_LIST)\n",
    "subplot_trisect_line(ROWS, COLS, 2, extract_valid(resdat_all, [\"plan_time\"]), \"planning time\", options=CNAME_LIST)\n",
    "subplot_trisect_line(ROWS, COLS, 3, \n",
    "                     extract_valid(resdat_all, [\"time_log\", \"check_feas\"], fn=np.sum), \"checker time\", options=CNAME_LIST)\n",
    "subplot_trisect_line(ROWS, COLS, 4, extract_valid(resdat_all, [\"MP_tot\"]), \"total MP\", options=CNAME_LIST)\n",
    "subplot_trisect_line(ROWS, COLS, 5, extract_valid(resdat_all, [\"failed_MPs\"]), \"failed MPs\", options=CNAME_LIST)\n",
    "subplot_trisect_line(ROWS, COLS, 6, extract_valid(resdat_all, [\"IK_tot\"]), \"total IK\", options=CNAME_LIST)\n",
    "subplot_trisect_line(ROWS, COLS, 7, extract_valid(resdat_all, [\"failed_IKs\"]), \"failed IKs\", options=CNAME_LIST)\n",
    "subplot_trisect_line(ROWS, COLS, 8, extract_valid(resdat_all, [\"length\"]), \"plan length\", options=CNAME_LIST)"
   ]
  },
  {
   "cell_type": "code",
   "execution_count": null,
   "metadata": {
    "scrolled": false
   },
   "outputs": [],
   "source": [
    "plt.figure(figsize=(15,35))\n",
    "\n",
    "ROWS = 8\n",
    "COLS = 3   \n",
    "    \n",
    "succ_dict = extract_values(resdat_all, [\"success\"])\n",
    "subplot_trisect_line(ROWS, COLS, 1, succ_dict, \"success ratio\", options=CNAME_LIST)\n",
    "subplot_trisect_line(ROWS, COLS, 2, extract_valid(resdat_all, [\"plan_time\"]), \"planning time\", options=CNAME_LIST)\n",
    "subplot_trisect_line(ROWS, COLS, 3, \n",
    "                     extract_valid(resdat_all, [\"time_log\", \"check_feas\"], fn=np.sum), \"checker time\", options=CNAME_LIST)\n",
    "subplot_trisect_line(ROWS, COLS, 4, \n",
    "                     extract_valid(resdat_all, [\"time_log\", \"ik_loop\"], fn=np.sum), \"IK\", options=CNAME_LIST)\n",
    "subplot_trisect_line(ROWS, COLS, 5, \n",
    "                     extract_valid(resdat_all, [\"time_log\", \"free_motion_gen\"], fn=np.sum), \"Free MP\", options=CNAME_LIST)\n",
    "subplot_trisect_line(ROWS, COLS, 6, \n",
    "                     extract_valid(resdat_all, [\"time_log\", \"holding_motion_gen\"], fn=np.sum), \"Holding MP\", options=CNAME_LIST)"
   ]
  },
  {
   "cell_type": "code",
   "execution_count": null,
   "metadata": {},
   "outputs": [],
   "source": [
    "def combine_by_obsnum(value_dict, keys=[3, 5, 7]):\n",
    "    value_dict_new = {}\n",
    "    for k in keys:\n",
    "        k1 = 'obj_1c_obs{}'.format(k)\n",
    "        k2 = 'obj_3c_obs{}'.format(k)\n",
    "        value_dict_new[k] = {}\n",
    "        for cname in value_dict[k1].keys():\n",
    "            value_dict_new[k][cname] = np.concatenate([value_dict[k1][cname], value_dict[k2][cname]])\n",
    "    return value_dict_new"
   ]
  },
  {
   "cell_type": "code",
   "execution_count": null,
   "metadata": {},
   "outputs": [],
   "source": [
    "CNAME_LIST = ['None', 'Tool', 'ToolReach', 'Full']"
   ]
  },
  {
   "cell_type": "code",
   "execution_count": null,
   "metadata": {},
   "outputs": [],
   "source": [
    "times_full = combine_by_obsnum(extract_valid(resdat_all, [\"plan_time\"], CHECKERS=CNAME_LIST))\n",
    "times_check = combine_by_obsnum(extract_valid(resdat_all, [\"time_log\", \"check_feas\"], CHECKERS=CNAME_LIST, fn=np.sum))\n",
    "times_ik = combine_by_obsnum(extract_valid(resdat_all, [\"time_log\", \"ik_loop\"], CHECKERS=CNAME_LIST, fn=np.sum))\n",
    "times_fm = combine_by_obsnum(extract_valid(resdat_all, [\"time_log\", \"free_motion_gen\"], CHECKERS=CNAME_LIST, fn=np.sum))\n",
    "times_hm = combine_by_obsnum(extract_valid(resdat_all, [\"time_log\", \"holding_motion_gen\"], CHECKERS=CNAME_LIST, fn=np.sum))\n",
    "times_mp = {}\n",
    "for case in times_fm.keys():\n",
    "    times_case = {}\n",
    "    for cname in CNAME_LIST:\n",
    "        times_case[cname] = np.add(times_fm[case][cname], times_hm[case][cname])\n",
    "    times_mp[case] = times_case"
   ]
  },
  {
   "cell_type": "code",
   "execution_count": null,
   "metadata": {},
   "outputs": [],
   "source": [
    "XLABEL_DICT = {'None':'None', 'Tool':'Step 1', 'ToolReach': 'Step 2', 'Full': 'Step 3'}\n",
    "XLABEL_LIST = ['None', 'Step 1', 'Step 2', 'Step 3']"
   ]
  },
  {
   "cell_type": "code",
   "execution_count": null,
   "metadata": {},
   "outputs": [],
   "source": [
    "for times_dict in [times_full, times_check, times_ik, times_mp]:\n",
    "    times_dict_new = {}\n",
    "    for case in times_dict.keys():\n",
    "        times_case = {}\n",
    "        for cname in CNAME_LIST:\n",
    "            times_case[XLABEL_DICT[cname]] = times_dict[case][cname]\n",
    "        times_dict_new[case] = times_case\n",
    "    times_dict.clear()\n",
    "    times_dict.update(times_dict_new)"
   ]
  },
  {
   "cell_type": "code",
   "execution_count": null,
   "metadata": {},
   "outputs": [],
   "source": [
    "for times_dict in [times_check, times_ik, times_mp]:\n",
    "    for case in times_dict.keys():\n",
    "        for cname in XLABEL_LIST:\n",
    "            times_dict[case][cname] /= 1000"
   ]
  },
  {
   "cell_type": "code",
   "execution_count": null,
   "metadata": {},
   "outputs": [],
   "source": [
    "plt.rcParams['font.size'] = 18\n",
    "plt.rcParams[\"font.family\"] = \"Times New Roman\"\n",
    "plt.rcParams['lines.linewidth'] = 2\n",
    "plt.figure(figsize=(20,5))\n",
    "plt.subplot(1,4,1)\n",
    "_ = grouped_bar(times_full, average_all=True, options=XLABEL_LIST, show_bar=True)\n",
    "plt.ylim(-5,15)\n",
    "plt.title(\"Planning time (s)\")\n",
    "plt.subplot(1,4,2)\n",
    "_ = grouped_bar(times_check, average_all=True, options=XLABEL_LIST, show_bar=True)\n",
    "# plt.ylim(-0.500,1.500)\n",
    "plt.title(\"Feasibility check (s)\")\n",
    "plt.subplot(1,4,3)\n",
    "_ = grouped_bar(times_ik, average_all=True, options=XLABEL_LIST, show_bar=True)\n",
    "plt.ylim(-3.000,6.000)\n",
    "plt.title(\"Inverse kinematics (s)\")\n",
    "plt.subplot(1,4,4)\n",
    "_ = grouped_bar(times_mp, average_all=True, options=XLABEL_LIST, show_bar=True)\n",
    "plt.ylim(-3.000,12.000)\n",
    "plt.title(\"Motion planning (s)\")"
   ]
  },
  {
   "cell_type": "code",
   "execution_count": null,
   "metadata": {},
   "outputs": [],
   "source": [
    "time_means_all = []\n",
    "for xlabel in XLABEL_LIST:\n",
    "    time_means_all.append(np.mean(np.concatenate([times_full[onum][xlabel] for onum in [3,5,7]])))\n",
    "    print(\"{:8}:{:8}\".format(xlabel, time_means_all[-1]))"
   ]
  },
  {
   "cell_type": "code",
   "execution_count": null,
   "metadata": {},
   "outputs": [],
   "source": [
    "print(\"\".join([\"{:8}\".format(x) for x in XLABEL_LIST]))\n",
    "print(\"\".join([\"{:8}\".format(x) \n",
    "               for x in np.round((1-np.divide(time_means_all, time_means_all[0]))*100, 2)]))\n",
    "print(\"\".join([\"{:8}\".format(x) \n",
    "               for x in np.round(time_means_all, 2)]))"
   ]
  },
  {
   "cell_type": "code",
   "execution_count": null,
   "metadata": {},
   "outputs": [],
   "source": [
    "plt.figure(figsize=(12, 4))\n",
    "_ = grouped_bar(times_full, average_all=False, options=XLABEL_LIST, show_bar=True)\n",
    "plt.ylim(-7, 25)\n",
    "plt.legend(XLABEL_LIST, ncol=len(XLABEL_LIST), loc=\"upper center\")"
   ]
  },
  {
   "cell_type": "code",
   "execution_count": null,
   "metadata": {},
   "outputs": [],
   "source": [
    "for k in sorted(times_full.keys()):\n",
    "    print(\n",
    "        \"{:8}:{:8}\".format(k,\n",
    "                           round((1 - np.mean(times_full[k]['Step 3']) / np.mean(times_full[k]['None'])) * 100, 2)))"
   ]
  },
  {
   "cell_type": "code",
   "execution_count": null,
   "metadata": {},
   "outputs": [],
   "source": []
  },
  {
   "cell_type": "code",
   "execution_count": null,
   "metadata": {},
   "outputs": [],
   "source": [
    "print(\"=\"*80)\n",
    "success_vecs = [np.concatenate(map(lambda x: x[cname], succ_dict.values())) for cname in CNAME_LIST]\n",
    "success_means = map(np.mean, success_vecs)\n",
    "max_val = np.max(success_means)\n",
    "max_idc = np.where(success_means==max_val)[0]\n",
    "print(\"MP_TIMES: \", \"  \".join(map(lambda x:\"{:5}\".format(x), CNAME_LIST)))\n",
    "print(\"success: \", \"  \".join(map(lambda x:\"{:5.03}\".format(x), success_means)))\n",
    "print(\"best: {} ({:5.3})\".format(np.array(CNAME_LIST)[max_idc], max_val))\n",
    "print(\"-\"*80)\n",
    "time_vecs = [np.concatenate(map(lambda x: x[cname], time_dict.values())) for cname in CNAME_LIST]\n",
    "time_means = np.array(map(np.mean, time_vecs))\n",
    "min_val = np.min(time_means[max_idc])\n",
    "min_idc = np.where(time_means[max_idc]==min_val)[0]\n",
    "print(\"MP_TIMES: \", \"  \".join(map(lambda x:\"{:5}\".format(x), CNAME_LIST)))\n",
    "print(\"times  : \", \"  \".join(map(lambda x:\"{:5.03}\".format(x), time_means)))\n",
    "print(\"best: {} ({:5.3})\".format(np.array(CNAME_LIST)[max_idc][min_idc], min_val))\n",
    "print(\"=\"*80)"
   ]
  },
  {
   "cell_type": "code",
   "execution_count": null,
   "metadata": {},
   "outputs": [],
   "source": [
    "(1 - 5.16 / 5.43 )*100"
   ]
  },
  {
   "cell_type": "markdown",
   "metadata": {},
   "source": [
    "#### stowing-deep-result-btf-ik08-to2.0-bak-1005-step03replaced-with-noMPprefilter-res\n",
    "```\n",
    "================================================================================\n",
    "('MP_TIMES: ', 'None   Tool   ToolReach  Full ')\n",
    "('success: ', '0.974  0.971  0.969  0.974')\n",
    "best: ['None' 'Full'] (0.974)\n",
    "--------------------------------------------------------------------------------\n",
    "('MP_TIMES: ', 'None   Tool   ToolReach  Full ')\n",
    "('times  : ', ' 6.45    5.1   4.61   3.87')\n",
    "best: ['Full'] ( 3.87)\n",
    "================================================================================\n",
    "```\n",
    "#### stowing-deep-result-btf-ik08-to2.0-all-noMPprefilter\n",
    "```\n",
    "================================================================================\n",
    "('MP_TIMES: ', 'None   Tool   ToolReach  Full ')\n",
    "('success: ', '0.957  0.977  0.977  0.969')\n",
    "best: ['Tool' 'ToolReach'] (0.977)\n",
    "--------------------------------------------------------------------------------\n",
    "('MP_TIMES: ', 'None   Tool   ToolReach  Full ')\n",
    "('times  : ', ' 4.72    4.0   4.11   3.76')\n",
    "best: ['Tool'] (  4.0)\n",
    "================================================================================\n",
    "```"
   ]
  },
  {
   "cell_type": "code",
   "execution_count": null,
   "metadata": {},
   "outputs": [],
   "source": []
  },
  {
   "cell_type": "code",
   "execution_count": null,
   "metadata": {},
   "outputs": [],
   "source": []
  },
  {
   "cell_type": "code",
   "execution_count": null,
   "metadata": {},
   "outputs": [],
   "source": []
  },
  {
   "cell_type": "code",
   "execution_count": null,
   "metadata": {},
   "outputs": [],
   "source": []
  }
 ],
 "metadata": {
  "kernelspec": {
   "display_name": "Python 2",
   "language": "python",
   "name": "python2"
  },
  "language_info": {
   "codemirror_mode": {
    "name": "ipython",
    "version": 2
   },
   "file_extension": ".py",
   "mimetype": "text/x-python",
   "name": "python",
   "nbconvert_exporter": "python",
   "pygments_lexer": "ipython2",
   "version": "2.7.17"
  }
 },
 "nbformat": 4,
 "nbformat_minor": 2
}
