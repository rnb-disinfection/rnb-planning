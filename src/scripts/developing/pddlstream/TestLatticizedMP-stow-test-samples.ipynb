{
 "cells": [
  {
   "cell_type": "code",
   "execution_count": null,
   "metadata": {},
   "outputs": [],
   "source": [
    "# python3 /home/rnb/Projects/rnb-planning/src/pkg/planning/filtering/lattice_model/shared_lattice_predictor.py --rtype panda\n",
    "\n",
    "# import SharedArray as sa\n",
    "# ROBOT_TYPE_NAME = 'indy7gripper'\n",
    "# sa.delete(\"shm://{}.prepared\".format(ROBOT_TYPE_NAME))\n",
    "# sa.delete(\"shm://{}.grasp_img\".format(ROBOT_TYPE_NAME))\n",
    "# sa.delete(\"shm://{}.arm_img\".format(ROBOT_TYPE_NAME))\n",
    "# sa.delete(\"shm://{}.rh_vals\".format(ROBOT_TYPE_NAME))\n",
    "# sa.delete(\"shm://{}.result\".format(ROBOT_TYPE_NAME))\n",
    "# sa.delete(\"shm://{}.query_in\".format(ROBOT_TYPE_NAME))\n",
    "# sa.delete(\"shm://{}.response_out\".format(ROBOT_TYPE_NAME))\n",
    "# sa.delete(\"shm://{}.query_quit\".format(ROBOT_TYPE_NAME))"
   ]
  },
  {
   "cell_type": "code",
   "execution_count": 1,
   "metadata": {},
   "outputs": [],
   "source": [
    "from __future__ import print_function\n",
    "import os\n",
    "RNB_PLANNING_DIR = os.environ[\"RNB_PLANNING_DIR\"]\n",
    "os.chdir(os.path.join(RNB_PLANNING_DIR, 'src'))\n",
    "from pkg.controller.combined_robot import *\n",
    "from pkg.utils.utils import get_now, try_mkdir\n",
    "import subprocess\n",
    "\n",
    "DATA_PATH = os.path.join(RNB_PLANNING_DIR, \"data\")\n",
    "try_mkdir(DATA_PATH)\n",
    "\n",
    "TEST_DATA_PATH = os.path.join(DATA_PATH, \"stowing\")\n",
    "try_mkdir(TEST_DATA_PATH)\n",
    "\n",
    "TEST_RESULT_PATH = os.path.join(DATA_PATH, \"stowing-result\")\n",
    "try_mkdir(TEST_RESULT_PATH)\n",
    "\n",
    "HEADS = [\"plan_time\", \"length\", \"MP_count\", \"failed_MPs\", \"IK_count\", \"failed_IKs\", \"success\"]"
   ]
  },
  {
   "cell_type": "code",
   "execution_count": null,
   "metadata": {},
   "outputs": [],
   "source": []
  },
  {
   "cell_type": "markdown",
   "metadata": {},
   "source": [
    "# obj1"
   ]
  },
  {
   "cell_type": "code",
   "execution_count": 2,
   "metadata": {},
   "outputs": [],
   "source": [
    "# RTYPE = \"indy7gripper\"\n",
    "# DAT_DIR = '20210702-152658'\n",
    "# FILE_OPTION = \"obj_1\"\n",
    "# DAT_DIR, FILE_OPTION = \"20210613-023004\", \"obj_1\"\n",
    "# DAT_DIR, FILE_OPTION = \"20210612-114040\", \"obj_1\"\n",
    "# DAT_DIR, FILE_OPTION = \"20210612-151342\", \"obj_3\"\n",
    "# DAT_DIR, FILE_OPTION = \"20210612-161536\", \"obj_3_pole\"\n",
    "\n",
    "RTYPE = \"panda\"\n",
    "DAT_DIR = '20210705-182244'\n",
    "FILE_OPTION = \"obj_1\"\n",
    "# # DAT_DIR, FILE_OPTION = \"20210613-022832\", \"obj_1\"\n",
    "# # # DAT_DIR, FILE_OPTION = \"20210612-221934\", \"obj_1\"\n",
    "\n",
    "CNAME_LIST = ['None','Tool','ToolReach','Full'] #,'Pairwise']\n",
    "GRASP_SAMPLE = 100\n",
    "VISUALIZE = False\n",
    "PLAY_RESULT = False\n",
    "SHOW_STATE = False\n",
    "\n",
    "TIMEOUT_MOTION = 5\n",
    "MAX_TIME = 100\n",
    "MAX_ITER = 100\n"
   ]
  },
  {
   "cell_type": "code",
   "execution_count": 3,
   "metadata": {},
   "outputs": [],
   "source": [
    "\n",
    "I_START = 0"
   ]
  },
  {
   "cell_type": "code",
   "execution_count": null,
   "metadata": {},
   "outputs": [],
   "source": []
  },
  {
   "cell_type": "markdown",
   "metadata": {},
   "source": [
    "### test"
   ]
  },
  {
   "cell_type": "code",
   "execution_count": 4,
   "metadata": {},
   "outputs": [],
   "source": [
    "\n",
    "N_DAT = 50-I_START"
   ]
  },
  {
   "cell_type": "code",
   "execution_count": 5,
   "metadata": {},
   "outputs": [
    {
     "name": "stdout",
     "output_type": "stream",
     "text": [
      "------- 82.0    15.8    4.4     11.6    -------\n",
      "========== 1 / 50 (eta: 113.7 / 5686.3 s) =========\n",
      "------- 23.0    3.6     112.2   3.7     -------\n",
      "========== 2 / 50 (eta: 256.1 / 6402.7 s) =========\n",
      "------- 10.2    3.5     9.2     4.6     -------\n",
      "========== 3 / 50 (eta: 283.5 / 4724.9 s) =========\n",
      "------- 4.2     46.8    3.9     7.4     -------\n",
      "========== 4 / 50 (eta: 345.7 / 4321.5 s) =========\n",
      "------- 12.6    23.1    4.5     48.3    -------\n",
      "========== 5 / 50 (eta: 434.3 / 4342.7 s) =========\n",
      "------- 8.7     3.0     4.4     5.0     -------\n",
      "========== 6 / 50 (eta: 455.3 / 3794.0 s) =========\n",
      "------- 3.4     4.1     5.3     5.0     -------\n",
      "========== 7 / 50 (eta: 473.0 / 3378.5 s) =========\n",
      "------- 22.3    8.6     75.5    4.8     -------\n",
      "========== 8 / 50 (eta: 584.2 / 3651.4 s) =========\n",
      "------- 11.6    11.7    6.6     5.8     -------\n",
      "========== 9 / 50 (eta: 619.9 / 3443.8 s) =========\n",
      "------- 13.9    4.2     12.1    7.7     -------\n",
      "========== 10 / 50 (eta: 657.7 / 3288.5 s) =========\n",
      "------- 10.0    5.5     4.1     3.7     -------\n",
      "========== 11 / 50 (eta: 680.9 / 3095.0 s) =========\n",
      "------- 18.6    27.5    7.4     5.8     -------\n",
      "========== 12 / 50 (eta: 740.2 / 3084.1 s) =========\n",
      "------- 6.9     4.4     17.8    7.5     -------\n",
      "========== 13 / 50 (eta: 776.7 / 2987.2 s) =========\n",
      "------- 106.0   6.1     4.4     4.5     -------\n",
      "========== 14 / 50 (eta: 897.6 / 3205.7 s) =========\n",
      "------- 6.3     7.9     6.4     5.1     -------\n",
      "========== 15 / 50 (eta: 923.2 / 3077.3 s) =========\n",
      "------- 4.2     29.9    12.5    7.4     -------\n",
      "========== 16 / 50 (eta: 977.1 / 3053.6 s) =========\n",
      "------- 5.3     17.1    5.3     3.6     -------\n",
      "========== 17 / 50 (eta: 1008.4 / 2965.8 s) =========\n",
      "------- 5.5     33.2    3.6     4.3     -------\n",
      "========== 18 / 50 (eta: 1055.0 / 2930.6 s) =========\n",
      "------- 3.0     4.0     4.1     13.8    -------\n",
      "========== 19 / 50 (eta: 1079.8 / 2841.6 s) =========\n",
      "------- 6.9     6.4     4.7     5.0     -------\n",
      "========== 20 / 50 (eta: 1102.7 / 2756.9 s) =========\n",
      "------- 4.0     3.2     3.6     5.8     -------\n",
      "========== 21 / 50 (eta: 1119.3 / 2665.0 s) =========\n",
      "------- 89.9    14.3    6.2     4.6     -------\n",
      "========== 22 / 50 (eta: 1234.2 / 2805.0 s) =========\n",
      "------- 21.3    4.9     9.5     34.2    -------\n",
      "========== 23 / 50 (eta: 1304.1 / 2835.0 s) =========\n",
      "------- 4.7     3.4     21.6    4.0     -------\n",
      "========== 24 / 50 (eta: 1337.7 / 2786.9 s) =========\n",
      "------- 6.1     17.2    3.9     19.4    -------\n",
      "========== 25 / 50 (eta: 1384.3 / 2768.5 s) =========\n",
      "------- 8.7     9.1     4.3     4.3     -------\n",
      "========== 26 / 50 (eta: 1410.6 / 2712.7 s) =========\n",
      "------- 5.2     4.6     3.8     7.7     -------\n",
      "========== 27 / 50 (eta: 1431.9 / 2651.6 s) =========\n",
      "------- 3.2     5.5     4.4     22.7    -------\n",
      "========== 28 / 50 (eta: 1467.6 / 2620.7 s) =========\n",
      "------- 80.0    3.1     45.5    11.0    -------\n",
      "========== 29 / 50 (eta: 1607.2 / 2771.1 s) =========\n",
      "------- 5.9     6.9     9.3     27.3    -------\n",
      "========== 30 / 50 (eta: 1656.6 / 2761.0 s) =========\n",
      "------- 4.3     3.7     4.1     5.6     -------\n",
      "========== 31 / 50 (eta: 1674.2 / 2700.3 s) =========\n",
      "------- 14.0    5.0     4.3     10.0    -------\n",
      "========== 32 / 50 (eta: 1707.4 / 2667.8 s) =========\n",
      "------- 3.8     107.1   12.5    5.4     -------\n",
      "========== 33 / 50 (eta: 1836.0 / 2781.9 s) =========\n",
      "------- 5.5     12.1    6.3     13.9    -------\n",
      "========== 34 / 50 (eta: 1873.7 / 2755.4 s) =========\n",
      "------- 12.0    12.0    4.6     6.7     -------\n",
      "========== 35 / 50 (eta: 1908.9 / 2727.0 s) =========\n",
      "------- 4.4     6.7     4.0     4.4     -------\n",
      "========== 36 / 50 (eta: 1928.3 / 2678.2 s) =========\n",
      "------- 7.3     3.0     12.2    4.4     -------\n",
      "========== 37 / 50 (eta: 1955.2 / 2642.1 s) =========\n",
      "------- 22.1    10.8    4.3     18.0    -------\n",
      "========== 38 / 50 (eta: 2010.3 / 2645.1 s) =========\n",
      "------- 23.7    13.2    3.4     6.2     -------\n",
      "========== 39 / 50 (eta: 2056.7 / 2636.7 s) =========\n",
      "------- 4.2     4.2     4.9     6.5     -------\n",
      "========== 40 / 50 (eta: 2076.4 / 2595.5 s) =========\n",
      "------- 9.7     7.5     7.4     3.9     -------\n",
      "========== 41 / 50 (eta: 2104.8 / 2566.8 s) =========\n",
      "------- 3.1     42.7    4.4     6.4     -------\n",
      "========== 42 / 50 (eta: 2161.3 / 2573.0 s) =========\n",
      "------- 4.3     20.3    4.2     3.7     -------\n",
      "========== 43 / 50 (eta: 2193.7 / 2550.8 s) =========\n",
      "------- 54.5    29.3    69.3    20.8    -------\n",
      "========== 44 / 50 (eta: 2367.6 / 2690.5 s) =========\n",
      "------- 14.6    34.1    3.7     4.2     -------\n",
      "========== 45 / 50 (eta: 2424.1 / 2693.5 s) =========\n",
      "------- 24.1    11.8    3.4     3.7     -------\n",
      "========== 46 / 50 (eta: 2467.0 / 2681.5 s) =========\n",
      "------- 3.2     3.0     4.7     5.8     -------\n",
      "========== 47 / 50 (eta: 2483.7 / 2642.2 s) =========\n",
      "------- 66.4    9.6     3.7     5.1     -------\n",
      "========== 48 / 50 (eta: 2568.4 / 2675.4 s) =========\n",
      "------- 107.9   3.2     3.7     5.0     -------\n",
      "========== 49 / 50 (eta: 2688.2 / 2743.0 s) =========\n",
      "------- 17.7    10.0    4.7     52.5    -------\n",
      "========== 50 / 50 (eta: 2773.1 / 2773.1 s) =========\n"
     ]
    }
   ],
   "source": [
    "ROBOT_DATA_ROOT = os.path.join(TEST_DATA_PATH, RTYPE)\n",
    "ROBOT_RESULT_ROOT = os.path.join(TEST_RESULT_PATH, RTYPE)\n",
    "DATASET_PATH = os.path.join(ROBOT_DATA_ROOT, DAT_DIR)\n",
    "RESULTSET_PATH = os.path.join(ROBOT_RESULT_ROOT, DAT_DIR)\n",
    "file_list = sorted(os.listdir(DATASET_PATH))\n",
    "\n",
    "gtimer = GlobalTimer.instance()\n",
    "gtimer.reset(scale=1, timeunit='s')\n",
    "\n",
    "gtimer.tic(\"full_loop\")\n",
    "for fid in range(N_DAT):\n",
    "    e_step_list = []\n",
    "    for i_c, cname in enumerate(CNAME_LIST):\n",
    "        gtimer.tic(\"step\")\n",
    "        p = subprocess.Popen(['python', '{}src/scripts/developing/pddlstream/test_saved_scene.py'.format(RNB_PLANNING_DIR),\n",
    "                              '--rtype', RTYPE,\n",
    "                              '--dat_dir', DAT_DIR,\n",
    "                              '--file_option', FILE_OPTION,\n",
    "                              '--data_idx', str(fid+I_START),\n",
    "                              '--cname', cname,\n",
    "                              '--GRASP_SAMPLE', str(GRASP_SAMPLE),\n",
    "                              '--VISUALIZE', str(VISUALIZE),\n",
    "                              '--PLAY_RESULT', str(PLAY_RESULT),\n",
    "                              '--TIMEOUT_MOTION', str(TIMEOUT_MOTION),\n",
    "                              '--MAX_TIME', str(MAX_TIME),\n",
    "                              '--MAX_ITER', str(MAX_ITER)])\n",
    "        p.wait()\n",
    "        e_step = np.round(gtimer.toc(\"step\"), 1)\n",
    "        e_step_list.append(e_step)\n",
    "        print(\"------- \" + (\"{:<8}\"*len(e_step_list)).format(*e_step_list) + \"-------\", end=\"\\r\")\n",
    "        \n",
    "    print(\"\")\n",
    "    print(\"========== {} / {} (eta: {} / {} s) =========\".format(\n",
    "        fid+1, N_DAT, *np.round(gtimer.eta(\"full_loop\", fid+1, N_DAT), 1)))"
   ]
  },
  {
   "cell_type": "code",
   "execution_count": null,
   "metadata": {},
   "outputs": [],
   "source": []
  },
  {
   "cell_type": "markdown",
   "metadata": {},
   "source": [
    "# obj3"
   ]
  },
  {
   "cell_type": "code",
   "execution_count": 6,
   "metadata": {},
   "outputs": [],
   "source": [
    "# RTYPE = \"indy7gripper\"\n",
    "# DAT_DIR = '20210702-152658'\n",
    "# FILE_OPTION = \"obj_3\"\n",
    "# DAT_DIR, FILE_OPTION = \"20210613-023004\", \"obj_1\"\n",
    "# DAT_DIR, FILE_OPTION = \"20210612-114040\", \"obj_1\"\n",
    "# DAT_DIR, FILE_OPTION = \"20210612-151342\", \"obj_3\"\n",
    "# DAT_DIR, FILE_OPTION = \"20210612-161536\", \"obj_3_pole\"\n",
    "\n",
    "RTYPE = \"panda\"\n",
    "DAT_DIR = '20210705-182244'\n",
    "FILE_OPTION = \"obj_3\"\n",
    "# # DAT_DIR, FILE_OPTION = \"20210613-022832\", \"obj_1\"\n",
    "# # # DAT_DIR, FILE_OPTION = \"20210612-221934\", \"obj_1\"\n",
    "\n",
    "# CNAME_LIST = ['None','Tool','ToolReach','Full'] #,'Pairwise']\n",
    "# GRASP_SAMPLE = 100\n",
    "# VISUALIZE = True\n",
    "# PLAY_RESULT = True\n",
    "# TIMEOUT_MOTION = 5\n",
    "# MAX_TIME = 100\n",
    "# SHOW_STATE = False\n"
   ]
  },
  {
   "cell_type": "code",
   "execution_count": 7,
   "metadata": {},
   "outputs": [],
   "source": [
    "\n",
    "N_DAT = 50-I_START"
   ]
  },
  {
   "cell_type": "markdown",
   "metadata": {},
   "source": [
    "### test"
   ]
  },
  {
   "cell_type": "code",
   "execution_count": null,
   "metadata": {},
   "outputs": [
    {
     "name": "stdout",
     "output_type": "stream",
     "text": [
      "------- 5.6     33.4    4.0     6.6     -------\n",
      "========== 1 / 50 (eta: 49.5 / 2474.6 s) =========\n",
      "------- 7.0     10.1    12.7    8.1     -------\n",
      "========== 2 / 50 (eta: 87.4 / 2183.8 s) =========\n",
      "------- 8.0     5.4     7.2     8.1     -------\n",
      "========== 3 / 50 (eta: 116.0 / 1932.9 s) =========\n",
      "------- 8.0     16.4    4.2     4.1     -------\n",
      "========== 4 / 50 (eta: 148.6 / 1857.0 s) =========\n",
      "------- 72.2    22.7    8.0     3.7     -------\n",
      "========== 5 / 50 (eta: 255.1 / 2551.2 s) =========\n",
      "------- 8.2     4.5     3.9     4.7     -------\n",
      "========== 6 / 50 (eta: 276.4 / 2303.1 s) =========\n"
     ]
    }
   ],
   "source": [
    "ROBOT_DATA_ROOT = os.path.join(TEST_DATA_PATH, RTYPE)\n",
    "ROBOT_RESULT_ROOT = os.path.join(TEST_RESULT_PATH, RTYPE)\n",
    "DATASET_PATH = os.path.join(ROBOT_DATA_ROOT, DAT_DIR)\n",
    "RESULTSET_PATH = os.path.join(ROBOT_RESULT_ROOT, DAT_DIR)\n",
    "file_list = sorted(os.listdir(DATASET_PATH))\n",
    "\n",
    "gtimer = GlobalTimer.instance()\n",
    "gtimer.reset(scale=1, timeunit='s')\n",
    "\n",
    "gtimer.tic(\"full_loop\")\n",
    "for fid in range(N_DAT):\n",
    "    e_step_list = []\n",
    "    for i_c, cname in enumerate(CNAME_LIST):\n",
    "        gtimer.tic(\"step\")\n",
    "        p = subprocess.Popen(['python', '{}src/scripts/developing/pddlstream/test_saved_scene.py'.format(RNB_PLANNING_DIR),\n",
    "                              '--rtype', RTYPE,\n",
    "                              '--dat_dir', DAT_DIR,\n",
    "                              '--file_option', FILE_OPTION,\n",
    "                              '--data_idx', str(fid+I_START),\n",
    "                              '--cname', cname,\n",
    "                              '--GRASP_SAMPLE', str(GRASP_SAMPLE),\n",
    "                              '--VISUALIZE', str(VISUALIZE),\n",
    "                              '--PLAY_RESULT', str(PLAY_RESULT),\n",
    "                              '--TIMEOUT_MOTION', str(TIMEOUT_MOTION),\n",
    "                              '--MAX_TIME', str(MAX_TIME),\n",
    "                              '--MAX_ITER', str(MAX_ITER)])\n",
    "        p.wait()\n",
    "        e_step = np.round(gtimer.toc(\"step\"), 1)\n",
    "        e_step_list.append(e_step)\n",
    "        print(\"------- \" + (\"{:<8}\"*len(e_step_list)).format(*e_step_list) + \"-------\", end=\"\\r\")\n",
    "        \n",
    "    print(\"\")\n",
    "    print(\"========== {} / {} (eta: {} / {} s) =========\".format(\n",
    "        fid+1, N_DAT, *np.round(gtimer.eta(\"full_loop\", fid+1, N_DAT), 1)))"
   ]
  },
  {
   "cell_type": "code",
   "execution_count": null,
   "metadata": {},
   "outputs": [],
   "source": []
  },
  {
   "cell_type": "code",
   "execution_count": null,
   "metadata": {},
   "outputs": [],
   "source": []
  },
  {
   "cell_type": "markdown",
   "metadata": {},
   "source": [
    "# obj3_pole"
   ]
  },
  {
   "cell_type": "code",
   "execution_count": null,
   "metadata": {},
   "outputs": [],
   "source": [
    "# RTYPE = \"indy7gripper\"\n",
    "# DAT_DIR = '20210702-152658'\n",
    "# FILE_OPTION = \"obj_3_pole\"\n",
    "# DAT_DIR, FILE_OPTION = \"20210613-023004\", \"obj_1\"\n",
    "# DAT_DIR, FILE_OPTION = \"20210612-114040\", \"obj_1\"\n",
    "# DAT_DIR, FILE_OPTION = \"20210612-151342\", \"obj_3\"\n",
    "# DAT_DIR, FILE_OPTION = \"20210612-161536\", \"obj_3_pole\"\n",
    "\n",
    "RTYPE = \"panda\"\n",
    "DAT_DIR = '20210705-182244'\n",
    "FILE_OPTION = \"obj_3_pole\"\n",
    "# # DAT_DIR, FILE_OPTION = \"20210613-022832\", \"obj_1\"\n",
    "# # # DAT_DIR, FILE_OPTION = \"20210612-221934\", \"obj_1\"\n",
    "\n",
    "# CNAME_LIST = ['None','Tool','ToolReach','Full'] #,'Pairwise']\n",
    "# GRASP_SAMPLE = 100\n",
    "# VISUALIZE = True\n",
    "# PLAY_RESULT = True\n",
    "# TIMEOUT_MOTION = 5\n",
    "# MAX_TIME = 100\n",
    "# SHOW_STATE = False\n"
   ]
  },
  {
   "cell_type": "code",
   "execution_count": null,
   "metadata": {},
   "outputs": [],
   "source": [
    "\n",
    "N_DAT = 50-I_START"
   ]
  },
  {
   "cell_type": "markdown",
   "metadata": {},
   "source": [
    "### test"
   ]
  },
  {
   "cell_type": "code",
   "execution_count": null,
   "metadata": {},
   "outputs": [],
   "source": [
    "ROBOT_DATA_ROOT = os.path.join(TEST_DATA_PATH, RTYPE)\n",
    "ROBOT_RESULT_ROOT = os.path.join(TEST_RESULT_PATH, RTYPE)\n",
    "DATASET_PATH = os.path.join(ROBOT_DATA_ROOT, DAT_DIR)\n",
    "RESULTSET_PATH = os.path.join(ROBOT_RESULT_ROOT, DAT_DIR)\n",
    "file_list = sorted(os.listdir(DATASET_PATH))\n",
    "\n",
    "gtimer = GlobalTimer.instance()\n",
    "gtimer.reset(scale=1, timeunit='s')\n",
    "gtimer.tic(\"full_loop\")\n",
    "for fid in range(N_DAT):\n",
    "    e_step_list = []\n",
    "    for i_c, cname in enumerate(CNAME_LIST):\n",
    "        gtimer.tic(\"step\")\n",
    "        p = subprocess.Popen(['python', '{}src/scripts/developing/pddlstream/test_saved_scene.py'.format(RNB_PLANNING_DIR),\n",
    "                              '--rtype', RTYPE,\n",
    "                              '--dat_dir', DAT_DIR,\n",
    "                              '--file_option', FILE_OPTION,\n",
    "                              '--data_idx', str(fid+I_START),\n",
    "                              '--cname', cname,\n",
    "                              '--GRASP_SAMPLE', str(GRASP_SAMPLE),\n",
    "                              '--VISUALIZE', str(VISUALIZE),\n",
    "                              '--PLAY_RESULT', str(PLAY_RESULT),\n",
    "                              '--TIMEOUT_MOTION', str(TIMEOUT_MOTION),\n",
    "                              '--MAX_TIME', str(MAX_TIME),\n",
    "                              '--MAX_ITER', str(MAX_ITER)])\n",
    "        p.wait()\n",
    "        e_step = np.round(gtimer.toc(\"step\"), 1)\n",
    "        e_step_list.append(e_step)\n",
    "        print(\"------- \" + (\"{:<8}\"*len(e_step_list)).format(*e_step_list) + \"-------\", end=\"\\r\")\n",
    "        \n",
    "    print(\"\")\n",
    "    print(\"========== {} / {} (eta: {} / {} s) =========\".format(\n",
    "        fid+1, N_DAT, *np.round(gtimer.eta(\"full_loop\", fid+1, N_DAT), 1)))"
   ]
  },
  {
   "cell_type": "code",
   "execution_count": null,
   "metadata": {},
   "outputs": [],
   "source": []
  },
  {
   "cell_type": "code",
   "execution_count": null,
   "metadata": {},
   "outputs": [],
   "source": []
  },
  {
   "cell_type": "code",
   "execution_count": null,
   "metadata": {},
   "outputs": [],
   "source": []
  },
  {
   "cell_type": "markdown",
   "metadata": {},
   "source": [
    "## Res - panda\n",
    "```\n",
    "\n",
    "```"
   ]
  },
  {
   "cell_type": "markdown",
   "metadata": {},
   "source": [
    "## Res - indy7\n",
    "```\n",
    "============================== obj_1           ==============================\n",
    "Checker        : Planning time   Motion count    MP trials       Failed MP       Failures        Total          \n",
    "None           : 18.58           6.56            4.06            0.11            2               20             \n",
    "Tool           : 6.96            6.12            4.0             0.18            3               20             \n",
    "ToolReach      : 2.79            5.44            3.67            0.17            2               20             \n",
    "Full           : 2.22            5.25            3.12            0.0             4               20             \n",
    " \n",
    "============================== obj_3           ==============================\n",
    "Checker        : Planning time   Motion count    MP trials       Failed MP       Failures        Total          \n",
    "None           : 30.37           8.73            5.2             0.07            5               20             \n",
    "Tool           : 9.77            5.27            5.47            0.07            5               20             \n",
    "ToolReach      : 7.24            6.0             7.42            0.17            8               20             \n",
    "Full           : 6.2             5.53            4.53            0.0             5               20             \n",
    " \n",
    "============================== obj_3_pole      ==============================\n",
    "Checker        : Planning time   Motion count    MP trials       Failed MP       Failures        Total          \n",
    "None           : 45.17           8.36            5.07            0.21            6               20             \n",
    "Tool           : 16.48           5.71            7.65            0.53            3               20             \n",
    "ToolReach      : 18.59           6.23            10.46           0.69            7               20             \n",
    "Full           : 11.28           5.29            5.14            0.14            6               20             \n",
    "```"
   ]
  },
  {
   "cell_type": "code",
   "execution_count": null,
   "metadata": {},
   "outputs": [],
   "source": []
  }
 ],
 "metadata": {
  "kernelspec": {
   "display_name": "Python 2",
   "language": "python",
   "name": "python2"
  },
  "language_info": {
   "codemirror_mode": {
    "name": "ipython",
    "version": 2
   },
   "file_extension": ".py",
   "mimetype": "text/x-python",
   "name": "python",
   "nbconvert_exporter": "python",
   "pygments_lexer": "ipython2",
   "version": "2.7.17"
  }
 },
 "nbformat": 4,
 "nbformat_minor": 2
}
