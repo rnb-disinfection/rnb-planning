{
 "cells": [
  {
   "cell_type": "code",
   "execution_count": null,
   "metadata": {},
   "outputs": [],
   "source": [
    "# python3 /home/rnb/Projects/rnb-planning/src/pkg/planning/filtering/lattice_model/shared_lattice_predictor.py --rtype panda\n",
    "\n",
    "# import SharedArray as sa\n",
    "# ROBOT_TYPE_NAME = 'indy7gripper'\n",
    "# sa.delete(\"shm://{}.prepared\".format(ROBOT_TYPE_NAME))\n",
    "# sa.delete(\"shm://{}.grasp_img\".format(ROBOT_TYPE_NAME))\n",
    "# sa.delete(\"shm://{}.arm_img\".format(ROBOT_TYPE_NAME))\n",
    "# sa.delete(\"shm://{}.rh_vals\".format(ROBOT_TYPE_NAME))\n",
    "# sa.delete(\"shm://{}.result\".format(ROBOT_TYPE_NAME))\n",
    "# sa.delete(\"shm://{}.query_in\".format(ROBOT_TYPE_NAME))\n",
    "# sa.delete(\"shm://{}.response_out\".format(ROBOT_TYPE_NAME))\n",
    "# sa.delete(\"shm://{}.query_quit\".format(ROBOT_TYPE_NAME))"
   ]
  },
  {
   "cell_type": "code",
   "execution_count": 1,
   "metadata": {},
   "outputs": [],
   "source": [
    "from __future__ import print_function\n",
    "import os\n",
    "RNB_PLANNING_DIR = os.environ[\"RNB_PLANNING_DIR\"]\n",
    "os.chdir(os.path.join(RNB_PLANNING_DIR, 'src'))\n",
    "from pkg.controller.combined_robot import *\n",
    "from pkg.utils.utils import get_now, try_mkdir\n",
    "import subprocess\n",
    "\n",
    "DATA_PATH = os.path.join(RNB_PLANNING_DIR, \"data\")\n",
    "try_mkdir(DATA_PATH)\n",
    "\n",
    "TEST_DATA_PATH = os.path.join(DATA_PATH, \"stowing\")\n",
    "try_mkdir(TEST_DATA_PATH)\n",
    "\n",
    "TEST_RESULT_PATH = os.path.join(DATA_PATH, \"stowing-result\")\n",
    "try_mkdir(TEST_RESULT_PATH)\n",
    "\n",
    "HEADS = [\"plan_time\", \"length\", \"MP_count\", \"failed_MPs\", \"IK_count\", \"failed_IKs\", \"success\"]"
   ]
  },
  {
   "cell_type": "code",
   "execution_count": null,
   "metadata": {},
   "outputs": [],
   "source": []
  },
  {
   "cell_type": "markdown",
   "metadata": {},
   "source": [
    "# obj1"
   ]
  },
  {
   "cell_type": "code",
   "execution_count": 2,
   "metadata": {},
   "outputs": [],
   "source": [
    "# RTYPE = \"indy7gripper\"\n",
    "# DAT_DIR = '20210702-152658'\n",
    "# FILE_OPTION = \"obj_1\"\n",
    "# DAT_DIR, FILE_OPTION = \"20210613-023004\", \"obj_1\"\n",
    "# DAT_DIR, FILE_OPTION = \"20210612-114040\", \"obj_1\"\n",
    "# DAT_DIR, FILE_OPTION = \"20210612-151342\", \"obj_3\"\n",
    "# DAT_DIR, FILE_OPTION = \"20210612-161536\", \"obj_3_pole\"\n",
    "\n",
    "RTYPE = \"panda\"\n",
    "DAT_DIR = '20210705-182244'\n",
    "FILE_OPTION = \"obj_1\"\n",
    "# # DAT_DIR, FILE_OPTION = \"20210613-022832\", \"obj_1\"\n",
    "# # # DAT_DIR, FILE_OPTION = \"20210612-221934\", \"obj_1\"\n",
    "\n",
    "CNAME_LIST = ['None','Tool','ToolReach','Full'] #,'Pairwise']\n",
    "GRASP_SAMPLE = 100\n",
    "VISUALIZE = False\n",
    "PLAY_RESULT = False\n",
    "SHOW_STATE = False\n",
    "\n",
    "TIMEOUT_MOTION = 5\n",
    "MAX_TIME = 100\n",
    "MAX_ITER = 100\n"
   ]
  },
  {
   "cell_type": "code",
   "execution_count": 3,
   "metadata": {},
   "outputs": [],
   "source": [
    "\n",
    "I_START = 0"
   ]
  },
  {
   "cell_type": "code",
   "execution_count": null,
   "metadata": {},
   "outputs": [],
   "source": []
  },
  {
   "cell_type": "markdown",
   "metadata": {},
   "source": [
    "### test"
   ]
  },
  {
   "cell_type": "code",
   "execution_count": 4,
   "metadata": {},
   "outputs": [],
   "source": [
    "\n",
    "N_DAT = 50-I_START"
   ]
  },
  {
   "cell_type": "code",
   "execution_count": null,
   "metadata": {},
   "outputs": [
    {
     "name": "stdout",
     "output_type": "stream",
     "text": [
      "------- 82.0    15.8    4.4     11.6    -------\n",
      "========== 1 / 50 (eta: 113.7 / 5686.3 s) =========\n",
      "------- 23.0    3.6     112.2   3.7     -------\n",
      "========== 2 / 50 (eta: 256.1 / 6402.7 s) =========\n",
      "------- 10.2    3.5     9.2     4.6     -------\n",
      "========== 3 / 50 (eta: 283.5 / 4724.9 s) =========\n",
      "------- 4.2     46.8    3.9     7.4     -------\n",
      "========== 4 / 50 (eta: 345.7 / 4321.5 s) =========\n",
      "------- 12.6    23.1    4.5     48.3    -------\n",
      "========== 5 / 50 (eta: 434.3 / 4342.7 s) =========\n",
      "------- 8.7     3.0     4.4     5.0     -------\n",
      "========== 6 / 50 (eta: 455.3 / 3794.0 s) =========\n",
      "------- 3.4     4.1     5.3     5.0     -------\n",
      "========== 7 / 50 (eta: 473.0 / 3378.5 s) =========\n",
      "------- 22.3    8.6     75.5    4.8     -------\n",
      "========== 8 / 50 (eta: 584.2 / 3651.4 s) =========\n",
      "------- 11.6    11.7    6.6     5.8     -------\n",
      "========== 9 / 50 (eta: 619.9 / 3443.8 s) =========\n",
      "------- 13.9    4.2     12.1    7.7     -------\n",
      "========== 10 / 50 (eta: 657.7 / 3288.5 s) =========\n",
      "------- 10.0    5.5     4.1     3.7     -------\n",
      "========== 11 / 50 (eta: 680.9 / 3095.0 s) =========\n",
      "------- 18.6    27.5    7.4     5.8     -------\n",
      "========== 12 / 50 (eta: 740.2 / 3084.1 s) =========\n",
      "------- 6.9     4.4     17.8    7.5     -------\n",
      "========== 13 / 50 (eta: 776.7 / 2987.2 s) =========\n",
      "------- 106.0   6.1     4.4     4.5     -------\n",
      "========== 14 / 50 (eta: 897.6 / 3205.7 s) =========\n",
      "------- 6.3     7.9     6.4     5.1     -------\n",
      "========== 15 / 50 (eta: 923.2 / 3077.3 s) =========\n",
      "------- 4.2     29.9    12.5    7.4     -------\n",
      "========== 16 / 50 (eta: 977.1 / 3053.6 s) =========\n",
      "------- 5.3     17.1    5.3     3.6     -------\n",
      "========== 17 / 50 (eta: 1008.4 / 2965.8 s) =========\n",
      "------- 5.5     33.2    3.6     4.3     -------\n",
      "========== 18 / 50 (eta: 1055.0 / 2930.6 s) =========\n",
      "------- 3.0     4.0     4.1     13.8    -------\n",
      "========== 19 / 50 (eta: 1079.8 / 2841.6 s) =========\n",
      "------- 6.9     6.4     4.7     5.0     -------\n",
      "========== 20 / 50 (eta: 1102.7 / 2756.9 s) =========\n",
      "------- 4.0     3.2     3.6     5.8     -------\n",
      "========== 21 / 50 (eta: 1119.3 / 2665.0 s) =========\n",
      "------- 89.9    14.3    6.2     4.6     -------\n",
      "========== 22 / 50 (eta: 1234.2 / 2805.0 s) =========\n",
      "------- 21.3    4.9     -------\r"
     ]
    }
   ],
   "source": [
    "ROBOT_DATA_ROOT = os.path.join(TEST_DATA_PATH, RTYPE)\n",
    "ROBOT_RESULT_ROOT = os.path.join(TEST_RESULT_PATH, RTYPE)\n",
    "DATASET_PATH = os.path.join(ROBOT_DATA_ROOT, DAT_DIR)\n",
    "RESULTSET_PATH = os.path.join(ROBOT_RESULT_ROOT, DAT_DIR)\n",
    "file_list = sorted(os.listdir(DATASET_PATH))\n",
    "\n",
    "gtimer = GlobalTimer.instance()\n",
    "gtimer.reset(scale=1, timeunit='s')\n",
    "\n",
    "gtimer.tic(\"full_loop\")\n",
    "for fid in range(N_DAT):\n",
    "    e_step_list = []\n",
    "    for i_c, cname in enumerate(CNAME_LIST):\n",
    "        gtimer.tic(\"step\")\n",
    "        p = subprocess.Popen(['python', '{}src/scripts/developing/pddlstream/test_saved_scene.py'.format(RNB_PLANNING_DIR),\n",
    "                              '--rtype', RTYPE,\n",
    "                              '--dat_dir', DAT_DIR,\n",
    "                              '--file_option', FILE_OPTION,\n",
    "                              '--data_idx', str(fid+I_START),\n",
    "                              '--cname', cname,\n",
    "                              '--GRASP_SAMPLE', str(GRASP_SAMPLE),\n",
    "                              '--VISUALIZE', str(VISUALIZE),\n",
    "                              '--PLAY_RESULT', str(PLAY_RESULT),\n",
    "                              '--TIMEOUT_MOTION', str(TIMEOUT_MOTION),\n",
    "                              '--MAX_TIME', str(MAX_TIME),\n",
    "                              '--MAX_ITER', str(MAX_ITER)])\n",
    "        p.wait()\n",
    "        e_step = np.round(gtimer.toc(\"step\"), 1)\n",
    "        e_step_list.append(e_step)\n",
    "        print(\"------- \" + (\"{:<8}\"*len(e_step_list)).format(*e_step_list) + \"-------\", end=\"\\r\")\n",
    "        \n",
    "    print(\"\")\n",
    "    print(\"========== {} / {} (eta: {} / {} s) =========\".format(\n",
    "        fid+1, N_DAT, *np.round(gtimer.eta(\"full_loop\", fid+1, N_DAT), 1)))"
   ]
  },
  {
   "cell_type": "markdown",
   "metadata": {},
   "source": [
    "### load results"
   ]
  },
  {
   "cell_type": "code",
   "execution_count": 6,
   "metadata": {},
   "outputs": [],
   "source": [
    "res_dict_all = defaultdict(lambda: defaultdict(list))\n",
    "resfile_list = sorted(os.listdir(os.path.join(RESULTSET_PATH)))\n",
    "for resfile in resfile_list:\n",
    "    args = resfile[:-4].split(\"_\")[1:]\n",
    "    f_option = \"_\".join(args[:-2])\n",
    "    fid, cname = args[-2:]\n",
    "    resdat = load_pickle(os.path.join(RESULTSET_PATH, resfile))\n",
    "    assert len(res_dict_all[f_option][cname]) == int(fid)\n",
    "    res_dict_all[f_option][cname].append([resdat[head] for head in HEADS])"
   ]
  },
  {
   "cell_type": "code",
   "execution_count": 7,
   "metadata": {
    "scrolled": true
   },
   "outputs": [
    {
     "name": "stdout",
     "output_type": "stream",
     "text": [
      "============================== obj_1      ==============================\n",
      "Checker   : Plan time  Actions    MPs        MP fails   IKs        IK fails   Failures   Total     \n",
      "None      : 14.12      7.21       4.4        0.11       47.6       36.7       3          50        \n",
      "Tool      : 7.62       6.17       3.81       0.06       11.83      5.6        2          50        \n",
      "ToolReach : 5.2        5.8        3.72       0.12       9.0        2.78       0          50        \n",
      "Full      : 8.0        5.92       3.96       0.29       12.65      3.81       2          50        \n",
      " \n",
      "============================== obj_3      ==============================\n",
      "Checker   : Plan time  Actions    MPs        MP fails   IKs        IK fails   Failures   Total     \n",
      "None      : 17.82      7.05       4.2        0.1        63.38      52.28      10         50        \n",
      "Tool      : 12.89      7.05       4.98       0.23       35.48      17.11      6          50        \n",
      "ToolReach : 8.65       6.28       4.04       0.09       38.62      16.98      3          50        \n",
      "Full      : 10.23      6.74       4.09       0.04       24.48      9.41       4          50        \n",
      " \n",
      "============================== obj_3_pole ==============================\n",
      "Checker   : Plan time  Actions    MPs        MP fails   IKs        IK fails   Failures   Total     \n",
      "None      : nan        nan        nan        nan        nan        nan        5          5         \n",
      "Tool      : 19.81      9.0        5.0        0.0        81.0       39.0       3          4         \n",
      "ToolReach : 27.82      7.0        8.5        1.5        73.5       25.0       2          4         \n",
      "Full      : 52.73      5.0        4.5        0.5        54.5       26.0       2          4         \n",
      " \n"
     ]
    },
    {
     "name": "stderr",
     "output_type": "stream",
     "text": [
      "/usr/local/lib/python2.7/dist-packages/numpy/core/fromnumeric.py:3118: RuntimeWarning: Mean of empty slice.\n",
      "  out=out, **kwargs)\n",
      "/usr/local/lib/python2.7/dist-packages/numpy/core/_methods.py:78: RuntimeWarning: invalid value encountered in true_divide\n",
      "  ret, rcount, out=ret, casting='unsafe', subok=False)\n"
     ]
    }
   ],
   "source": [
    "exp_list = ['obj_1', 'obj_3', 'obj_3_pole']\n",
    "for ekey in exp_list:\n",
    "    if ekey not in res_dict_all:\n",
    "        continue\n",
    "    res_dict = res_dict_all[ekey]\n",
    "    print(\"=\"*30 + \" {:<10} \".format(ekey) + \"=\"*30)\n",
    "    print(\"{:<10}: {:<10} {:<10} {:<10} {:<10} {:<10} {:<10} {:<10} {:<10}\".format(\n",
    "        \"Checker\", \"Plan time\", \"Actions\", \"MPs\", \"MP fails\", \"IKs\", \"IK fails\", \"Failures\", \"Total\"))\n",
    "    for cname in CNAME_LIST:\n",
    "        if cname in res_dict:\n",
    "            vv = np.array(res_dict[cname])\n",
    "            if len(vv)>0:\n",
    "                succ_vec = vv[:,-1]\n",
    "                fail_vec = np.logical_not(succ_vec)\n",
    "                idc_succ = np.where(succ_vec)[0]\n",
    "                print(\n",
    "                    \"{:<10}: {:<10} {:<10} {:<10} {:<10} {:<10} {:<10} {:<10} {:<10}\".format(cname,\n",
    "                                    *(list(np.round(np.mean(vv[idc_succ, :-1], axis=0), 2)) \\\n",
    "                                      +[np.sum(fail_vec), len(vv)])))\n",
    "    print(\" \")"
   ]
  },
  {
   "cell_type": "code",
   "execution_count": null,
   "metadata": {},
   "outputs": [],
   "source": []
  },
  {
   "cell_type": "markdown",
   "metadata": {},
   "source": [
    "# obj3"
   ]
  },
  {
   "cell_type": "code",
   "execution_count": 5,
   "metadata": {},
   "outputs": [],
   "source": [
    "# RTYPE = \"indy7gripper\"\n",
    "# DAT_DIR = '20210702-152658'\n",
    "# FILE_OPTION = \"obj_3\"\n",
    "# DAT_DIR, FILE_OPTION = \"20210613-023004\", \"obj_1\"\n",
    "# DAT_DIR, FILE_OPTION = \"20210612-114040\", \"obj_1\"\n",
    "# DAT_DIR, FILE_OPTION = \"20210612-151342\", \"obj_3\"\n",
    "# DAT_DIR, FILE_OPTION = \"20210612-161536\", \"obj_3_pole\"\n",
    "\n",
    "RTYPE = \"panda\"\n",
    "DAT_DIR = '20210705-182244'\n",
    "FILE_OPTION = \"obj_3\"\n",
    "# # DAT_DIR, FILE_OPTION = \"20210613-022832\", \"obj_1\"\n",
    "# # # DAT_DIR, FILE_OPTION = \"20210612-221934\", \"obj_1\"\n",
    "\n",
    "# CNAME_LIST = ['None','Tool','ToolReach','Full'] #,'Pairwise']\n",
    "# GRASP_SAMPLE = 100\n",
    "# VISUALIZE = True\n",
    "# PLAY_RESULT = True\n",
    "# TIMEOUT_MOTION = 5\n",
    "# MAX_TIME = 100\n",
    "# SHOW_STATE = False\n"
   ]
  },
  {
   "cell_type": "code",
   "execution_count": 6,
   "metadata": {},
   "outputs": [],
   "source": [
    "\n",
    "N_DAT = 50-I_START"
   ]
  },
  {
   "cell_type": "markdown",
   "metadata": {},
   "source": [
    "### test"
   ]
  },
  {
   "cell_type": "code",
   "execution_count": 7,
   "metadata": {},
   "outputs": [
    {
     "name": "stdout",
     "output_type": "stream",
     "text": [
      "------- 4.3     103.2   3.2     10.6    -------\n",
      "========== 1 / 50 (eta: 121.2 / 6061.6 s) =========\n",
      "------- 21.3    10.0    7.8     11.3    -------\n",
      "========== 2 / 50 (eta: 171.5 / 4288.5 s) =========\n",
      "------- 102.6   20.1    6.7     6.5     -------\n",
      "========== 3 / 50 (eta: 307.5 / 5124.6 s) =========\n",
      "------- 4.8     16.1    6.1     3.6     -------\n",
      "========== 4 / 50 (eta: 338.0 / 4225.2 s) =========\n",
      "------- 29.3    14.7    7.3     28.6    -------\n",
      "========== 5 / 50 (eta: 417.8 / 4178.3 s) =========\n",
      "------- 23.8    36.5    3.9     5.2     -------\n",
      "========== 6 / 50 (eta: 487.2 / 4059.8 s) =========\n",
      "------- 61.0    29.5    15.5    4.2     -------\n",
      "========== 7 / 50 (eta: 597.3 / 4266.4 s) =========\n",
      "------- 11.1    2.9     3.2     3.7     -------\n",
      "========== 8 / 50 (eta: 618.1 / 3863.1 s) =========\n",
      "------- 3.8     6.2     5.6     9.3     -------\n",
      "========== 9 / 50 (eta: 642.8 / 3571.3 s) =========\n",
      "------- 17.7    43.5    10.0    41.4    -------\n",
      "========== 10 / 50 (eta: 755.3 / 3776.7 s) =========\n",
      "------- 34.6    8.6     16.0    5.6     -------\n",
      "========== 11 / 50 (eta: 820.1 / 3727.6 s) =========\n",
      "------- 14.3    5.6     3.4     18.6    -------\n",
      "========== 12 / 50 (eta: 861.8 / 3590.9 s) =========\n",
      "------- 38.6    5.2     4.3     4.8     -------\n",
      "========== 13 / 50 (eta: 914.6 / 3517.7 s) =========\n",
      "------- 18.5    5.2     3.6     6.9     -------\n",
      "========== 14 / 50 (eta: 948.7 / 3388.2 s) =========\n",
      "------- 122.4   2.8     6.3     7.4     -------\n",
      "========== 15 / 50 (eta: 1087.5 / 3624.8 s) =========\n",
      "------- 102.8   17.2    6.2     20.2    -------\n",
      "========== 16 / 50 (eta: 1233.7 / 3855.4 s) =========\n",
      "------- 3.4     3.0     8.2     7.0     -------\n",
      "========== 17 / 50 (eta: 1255.2 / 3691.8 s) =========\n",
      "------- 13.5    79.2    3.4     16.5    -------\n",
      "========== 18 / 50 (eta: 1367.8 / 3799.4 s) =========\n",
      "------- 25.9    2.9     4.0     3.4     -------\n",
      "========== 19 / 50 (eta: 1403.9 / 3694.4 s) =========\n",
      "------- 102.8   104.6   103.3   103.1   -------\n",
      "========== 20 / 50 (eta: 1817.8 / 4544.5 s) =========\n",
      "------- 15.9    3.3     4.7     20.6    -------\n",
      "========== 21 / 50 (eta: 1862.2 / 4433.8 s) =========\n",
      "------- 30.2    104.9   5.4     5.4     -------\n",
      "========== 22 / 50 (eta: 2008.1 / 4563.9 s) =========\n",
      "------- 3.9     60.6    4.9     25.0    -------\n",
      "========== 23 / 50 (eta: 2102.5 / 4570.6 s) =========\n",
      "------- 7.1     10.4    23.9    11.9    -------\n",
      "========== 24 / 50 (eta: 2155.7 / 4490.9 s) =========\n",
      "------- 7.3     16.9    10.2    5.9     -------\n",
      "========== 25 / 50 (eta: 2195.8 / 4391.6 s) =========\n",
      "------- 28.3    21.3    3.9     8.3     -------\n",
      "========== 26 / 50 (eta: 2257.5 / 4341.4 s) =========\n",
      "------- 20.4    4.4     6.1     14.9    -------\n",
      "========== 27 / 50 (eta: 2303.2 / 4265.3 s) =========\n",
      "------- 16.1    11.2    46.4    13.6    -------\n",
      "========== 28 / 50 (eta: 2390.4 / 4268.7 s) =========\n",
      "------- 8.7     14.4    103.8   13.2    -------\n",
      "========== 29 / 50 (eta: 2530.5 / 4362.9 s) =========\n",
      "------- 8.7     52.7    49.0    3.7     -------\n",
      "========== 30 / 50 (eta: 2644.5 / 4407.5 s) =========\n",
      "------- 102.6   103.7   40.0    105.3   -------\n",
      "========== 31 / 50 (eta: 2996.1 / 4832.4 s) =========\n",
      "------- 4.3     15.9    3.4     8.5     -------\n",
      "========== 32 / 50 (eta: 3028.1 / 4731.5 s) =========\n",
      "------- 15.5    4.4     3.5     6.2     -------\n",
      "========== 33 / 50 (eta: 3057.7 / 4632.8 s) =========\n",
      "------- 42.4    15.7    8.6     9.0     -------\n",
      "========== 34 / 50 (eta: 3133.3 / 4607.7 s) =========\n",
      "------- 102.6   5.2     7.7     19.3    -------\n",
      "========== 35 / 50 (eta: 3268.1 / 4668.7 s) =========\n",
      "------- 8.1     3.9     6.1     7.5     -------\n",
      "========== 36 / 50 (eta: 3293.5 / 4574.4 s) =========\n",
      "------- 39.8    3.5     4.4     3.9     -------\n",
      "========== 37 / 50 (eta: 3345.1 / 4520.4 s) =========\n",
      "------- 4.7     3.0     6.7     5.1     -------\n",
      "========== 38 / 50 (eta: 3364.5 / 4427.0 s) =========\n",
      "------- 102.8   9.5     3.7     8.4     -------\n",
      "========== 39 / 50 (eta: 3488.8 / 4472.8 s) =========\n",
      "------- 6.1     10.0    6.4     4.8     -------\n",
      "========== 40 / 50 (eta: 3516.0 / 4394.9 s) =========\n",
      "------- 108.2   12.4    24.2    17.4    -------\n",
      "========== 41 / 50 (eta: 3678.2 / 4485.6 s) =========\n",
      "------- 10.4    10.0    12.0    15.7    -------\n",
      "========== 42 / 50 (eta: 3726.2 / 4436.0 s) =========\n",
      "------- 111.8   12.1    18.7    23.9    -------\n",
      "========== 43 / 50 (eta: 3892.6 / 4526.3 s) =========\n",
      "------- 102.8   102.9   10.3    59.7    -------\n",
      "========== 44 / 50 (eta: 4168.4 / 4736.8 s) =========\n",
      "------- 26.4    4.3     6.1     11.7    -------\n",
      "========== 45 / 50 (eta: 4216.8 / 4685.3 s) =========\n",
      "------- 5.6     9.3     33.5    105.0   -------\n",
      "========== 46 / 50 (eta: 4370.1 / 4750.1 s) =========\n",
      "------- 43.0    3.0     12.1    12.7    -------\n",
      "========== 47 / 50 (eta: 4440.7 / 4724.2 s) =========\n",
      "------- 41.0    4.2     7.7     7.9     -------\n",
      "========== 48 / 50 (eta: 4501.4 / 4689.0 s) =========\n",
      "------- 4.8     6.5     5.5     3.5     -------\n",
      "========== 49 / 50 (eta: 4521.7 / 4613.9 s) =========\n",
      "------- 43.4    105.1   105.0   112.3   -------\n",
      "========== 50 / 50 (eta: 4887.5 / 4887.5 s) =========\n"
     ]
    }
   ],
   "source": [
    "ROBOT_DATA_ROOT = os.path.join(TEST_DATA_PATH, RTYPE)\n",
    "ROBOT_RESULT_ROOT = os.path.join(TEST_RESULT_PATH, RTYPE)\n",
    "DATASET_PATH = os.path.join(ROBOT_DATA_ROOT, DAT_DIR)\n",
    "RESULTSET_PATH = os.path.join(ROBOT_RESULT_ROOT, DAT_DIR)\n",
    "file_list = sorted(os.listdir(DATASET_PATH))\n",
    "\n",
    "gtimer = GlobalTimer.instance()\n",
    "gtimer.reset(scale=1, timeunit='s')\n",
    "\n",
    "gtimer.tic(\"full_loop\")\n",
    "for fid in range(N_DAT):\n",
    "    e_step_list = []\n",
    "    for i_c, cname in enumerate(CNAME_LIST):\n",
    "        gtimer.tic(\"step\")\n",
    "        p = subprocess.Popen(['python', '{}src/scripts/developing/pddlstream/test_saved_scene.py'.format(RNB_PLANNING_DIR),\n",
    "                              '--rtype', RTYPE,\n",
    "                              '--dat_dir', DAT_DIR,\n",
    "                              '--file_option', FILE_OPTION,\n",
    "                              '--data_idx', str(fid+I_START),\n",
    "                              '--cname', cname,\n",
    "                              '--GRASP_SAMPLE', str(GRASP_SAMPLE),\n",
    "                              '--VISUALIZE', str(VISUALIZE),\n",
    "                              '--PLAY_RESULT', str(PLAY_RESULT),\n",
    "                              '--TIMEOUT_MOTION', str(TIMEOUT_MOTION),\n",
    "                              '--MAX_TIME', str(MAX_TIME),\n",
    "                              '--MAX_ITER', str(MAX_ITER)])\n",
    "        p.wait()\n",
    "        e_step = np.round(gtimer.toc(\"step\"), 1)\n",
    "        e_step_list.append(e_step)\n",
    "        print(\"------- \" + (\"{:<8}\"*len(e_step_list)).format(*e_step_list) + \"-------\", end=\"\\r\")\n",
    "        \n",
    "    print(\"\")\n",
    "    print(\"========== {} / {} (eta: {} / {} s) =========\".format(\n",
    "        fid+1, N_DAT, *np.round(gtimer.eta(\"full_loop\", fid+1, N_DAT), 1)))"
   ]
  },
  {
   "cell_type": "code",
   "execution_count": null,
   "metadata": {},
   "outputs": [],
   "source": []
  },
  {
   "cell_type": "markdown",
   "metadata": {},
   "source": [
    "### load results"
   ]
  },
  {
   "cell_type": "code",
   "execution_count": 8,
   "metadata": {},
   "outputs": [],
   "source": [
    "res_dict_all = defaultdict(lambda: defaultdict(list))\n",
    "resfile_list = sorted(os.listdir(os.path.join(RESULTSET_PATH)))\n",
    "for resfile in resfile_list:\n",
    "    args = resfile[:-4].split(\"_\")[1:]\n",
    "    f_option = \"_\".join(args[:-2])\n",
    "    fid, cname = args[-2:]\n",
    "    resdat = load_pickle(os.path.join(RESULTSET_PATH, resfile))\n",
    "    assert len(res_dict_all[f_option][cname]) == int(fid)\n",
    "    res_dict_all[f_option][cname].append([resdat[head] for head in HEADS])"
   ]
  },
  {
   "cell_type": "code",
   "execution_count": 9,
   "metadata": {
    "scrolled": true
   },
   "outputs": [
    {
     "name": "stdout",
     "output_type": "stream",
     "text": [
      "============================== obj_1      ==============================\n",
      "Checker   : Plan time  Actions    MPs        MP fails   IKs        IK fails   Failures   Total     \n",
      "None      : 23.97      5.0        3.0        0.0        139.0      101.0      0          1         \n",
      " \n",
      "============================== obj_3      ==============================\n",
      "Checker   : Plan time  Actions    MPs        MP fails   IKs        IK fails   Failures   Total     \n",
      "None      : 17.82      7.05       4.2        0.1        63.38      52.28      10         50        \n",
      "Tool      : 12.89      7.05       4.98       0.23       35.48      17.11      6          50        \n",
      "ToolReach : 8.65       6.28       4.04       0.09       38.62      16.98      3          50        \n",
      "Full      : 10.23      6.74       4.09       0.04       24.48      9.41       4          50        \n",
      " \n"
     ]
    }
   ],
   "source": [
    "exp_list = ['obj_1', 'obj_3', 'obj_3_pole']\n",
    "for ekey in exp_list:\n",
    "    if ekey not in res_dict_all:\n",
    "        continue\n",
    "    res_dict = res_dict_all[ekey]\n",
    "    print(\"=\"*30 + \" {:<10} \".format(ekey) + \"=\"*30)\n",
    "    print(\"{:<10}: {:<10} {:<10} {:<10} {:<10} {:<10} {:<10} {:<10} {:<10}\".format(\n",
    "        \"Checker\", \"Plan time\", \"Actions\", \"MPs\", \"MP fails\", \"IKs\", \"IK fails\", \"Failures\", \"Total\"))\n",
    "    for cname in CNAME_LIST:\n",
    "        if cname in res_dict:\n",
    "            vv = np.array(res_dict[cname])\n",
    "            if len(vv)>0:\n",
    "                succ_vec = vv[:,-1]\n",
    "                fail_vec = np.logical_not(succ_vec)\n",
    "                idc_succ = np.where(succ_vec)[0]\n",
    "                print(\n",
    "                    \"{:<10}: {:<10} {:<10} {:<10} {:<10} {:<10} {:<10} {:<10} {:<10}\".format(cname,\n",
    "                                    *(list(np.round(np.mean(vv[idc_succ, :-1], axis=0), 2)) \\\n",
    "                                      +[np.sum(fail_vec), len(vv)])))\n",
    "    print(\" \")"
   ]
  },
  {
   "cell_type": "code",
   "execution_count": null,
   "metadata": {},
   "outputs": [],
   "source": []
  },
  {
   "cell_type": "code",
   "execution_count": null,
   "metadata": {},
   "outputs": [],
   "source": []
  },
  {
   "cell_type": "code",
   "execution_count": null,
   "metadata": {},
   "outputs": [],
   "source": []
  },
  {
   "cell_type": "markdown",
   "metadata": {},
   "source": [
    "# obj3_pole"
   ]
  },
  {
   "cell_type": "code",
   "execution_count": 4,
   "metadata": {},
   "outputs": [],
   "source": [
    "# RTYPE = \"indy7gripper\"\n",
    "# DAT_DIR = '20210702-152658'\n",
    "# FILE_OPTION = \"obj_3_pole\"\n",
    "# DAT_DIR, FILE_OPTION = \"20210613-023004\", \"obj_1\"\n",
    "# DAT_DIR, FILE_OPTION = \"20210612-114040\", \"obj_1\"\n",
    "# DAT_DIR, FILE_OPTION = \"20210612-151342\", \"obj_3\"\n",
    "# DAT_DIR, FILE_OPTION = \"20210612-161536\", \"obj_3_pole\"\n",
    "\n",
    "RTYPE = \"panda\"\n",
    "DAT_DIR = '20210705-182244'\n",
    "FILE_OPTION = \"obj_3_pole\"\n",
    "# # DAT_DIR, FILE_OPTION = \"20210613-022832\", \"obj_1\"\n",
    "# # # DAT_DIR, FILE_OPTION = \"20210612-221934\", \"obj_1\"\n",
    "\n",
    "# CNAME_LIST = ['None','Tool','ToolReach','Full'] #,'Pairwise']\n",
    "# GRASP_SAMPLE = 100\n",
    "# VISUALIZE = True\n",
    "# PLAY_RESULT = True\n",
    "# TIMEOUT_MOTION = 5\n",
    "# MAX_TIME = 100\n",
    "# SHOW_STATE = False\n"
   ]
  },
  {
   "cell_type": "code",
   "execution_count": 5,
   "metadata": {},
   "outputs": [],
   "source": [
    "\n",
    "N_DAT = 50-I_START"
   ]
  },
  {
   "cell_type": "markdown",
   "metadata": {},
   "source": [
    "### test"
   ]
  },
  {
   "cell_type": "code",
   "execution_count": 6,
   "metadata": {},
   "outputs": [
    {
     "ename": "KeyboardInterrupt",
     "evalue": "",
     "output_type": "error",
     "traceback": [
      "\u001b[0;31m---------------------------------------------------------------------------\u001b[0m",
      "\u001b[0;31mKeyboardInterrupt\u001b[0m                         Traceback (most recent call last)",
      "\u001b[0;32m<ipython-input-6-5251e6181b47>\u001b[0m in \u001b[0;36m<module>\u001b[0;34m()\u001b[0m\n\u001b[1;32m     24\u001b[0m                               \u001b[0;34m'--MAX_TIME'\u001b[0m\u001b[0;34m,\u001b[0m \u001b[0mstr\u001b[0m\u001b[0;34m(\u001b[0m\u001b[0mMAX_TIME\u001b[0m\u001b[0;34m)\u001b[0m\u001b[0;34m,\u001b[0m\u001b[0;34m\u001b[0m\u001b[0m\n\u001b[1;32m     25\u001b[0m                               '--MAX_ITER', str(MAX_ITER)])\n\u001b[0;32m---> 26\u001b[0;31m         \u001b[0mp\u001b[0m\u001b[0;34m.\u001b[0m\u001b[0mwait\u001b[0m\u001b[0;34m(\u001b[0m\u001b[0;34m)\u001b[0m\u001b[0;34m\u001b[0m\u001b[0m\n\u001b[0m\u001b[1;32m     27\u001b[0m         \u001b[0me_step\u001b[0m \u001b[0;34m=\u001b[0m \u001b[0mnp\u001b[0m\u001b[0;34m.\u001b[0m\u001b[0mround\u001b[0m\u001b[0;34m(\u001b[0m\u001b[0mgtimer\u001b[0m\u001b[0;34m.\u001b[0m\u001b[0mtoc\u001b[0m\u001b[0;34m(\u001b[0m\u001b[0;34m\"step\"\u001b[0m\u001b[0;34m)\u001b[0m\u001b[0;34m,\u001b[0m \u001b[0;36m1\u001b[0m\u001b[0;34m)\u001b[0m\u001b[0;34m\u001b[0m\u001b[0m\n\u001b[1;32m     28\u001b[0m         \u001b[0me_step_list\u001b[0m\u001b[0;34m.\u001b[0m\u001b[0mappend\u001b[0m\u001b[0;34m(\u001b[0m\u001b[0me_step\u001b[0m\u001b[0;34m)\u001b[0m\u001b[0;34m\u001b[0m\u001b[0m\n",
      "\u001b[0;32m/usr/lib/python2.7/subprocess.pyc\u001b[0m in \u001b[0;36mwait\u001b[0;34m(self)\u001b[0m\n\u001b[1;32m   1097\u001b[0m             \u001b[0;32mwhile\u001b[0m \u001b[0mself\u001b[0m\u001b[0;34m.\u001b[0m\u001b[0mreturncode\u001b[0m \u001b[0;32mis\u001b[0m \u001b[0mNone\u001b[0m\u001b[0;34m:\u001b[0m\u001b[0;34m\u001b[0m\u001b[0m\n\u001b[1;32m   1098\u001b[0m                 \u001b[0;32mtry\u001b[0m\u001b[0;34m:\u001b[0m\u001b[0;34m\u001b[0m\u001b[0m\n\u001b[0;32m-> 1099\u001b[0;31m                     \u001b[0mpid\u001b[0m\u001b[0;34m,\u001b[0m \u001b[0msts\u001b[0m \u001b[0;34m=\u001b[0m \u001b[0m_eintr_retry_call\u001b[0m\u001b[0;34m(\u001b[0m\u001b[0mos\u001b[0m\u001b[0;34m.\u001b[0m\u001b[0mwaitpid\u001b[0m\u001b[0;34m,\u001b[0m \u001b[0mself\u001b[0m\u001b[0;34m.\u001b[0m\u001b[0mpid\u001b[0m\u001b[0;34m,\u001b[0m \u001b[0;36m0\u001b[0m\u001b[0;34m)\u001b[0m\u001b[0;34m\u001b[0m\u001b[0m\n\u001b[0m\u001b[1;32m   1100\u001b[0m                 \u001b[0;32mexcept\u001b[0m \u001b[0mOSError\u001b[0m \u001b[0;32mas\u001b[0m \u001b[0me\u001b[0m\u001b[0;34m:\u001b[0m\u001b[0;34m\u001b[0m\u001b[0m\n\u001b[1;32m   1101\u001b[0m                     \u001b[0;32mif\u001b[0m \u001b[0me\u001b[0m\u001b[0;34m.\u001b[0m\u001b[0merrno\u001b[0m \u001b[0;34m!=\u001b[0m \u001b[0merrno\u001b[0m\u001b[0;34m.\u001b[0m\u001b[0mECHILD\u001b[0m\u001b[0;34m:\u001b[0m\u001b[0;34m\u001b[0m\u001b[0m\n",
      "\u001b[0;32m/usr/lib/python2.7/subprocess.pyc\u001b[0m in \u001b[0;36m_eintr_retry_call\u001b[0;34m(func, *args)\u001b[0m\n\u001b[1;32m    123\u001b[0m     \u001b[0;32mwhile\u001b[0m \u001b[0mTrue\u001b[0m\u001b[0;34m:\u001b[0m\u001b[0;34m\u001b[0m\u001b[0m\n\u001b[1;32m    124\u001b[0m         \u001b[0;32mtry\u001b[0m\u001b[0;34m:\u001b[0m\u001b[0;34m\u001b[0m\u001b[0m\n\u001b[0;32m--> 125\u001b[0;31m             \u001b[0;32mreturn\u001b[0m \u001b[0mfunc\u001b[0m\u001b[0;34m(\u001b[0m\u001b[0;34m*\u001b[0m\u001b[0margs\u001b[0m\u001b[0;34m)\u001b[0m\u001b[0;34m\u001b[0m\u001b[0m\n\u001b[0m\u001b[1;32m    126\u001b[0m         \u001b[0;32mexcept\u001b[0m \u001b[0;34m(\u001b[0m\u001b[0mOSError\u001b[0m\u001b[0;34m,\u001b[0m \u001b[0mIOError\u001b[0m\u001b[0;34m)\u001b[0m \u001b[0;32mas\u001b[0m \u001b[0me\u001b[0m\u001b[0;34m:\u001b[0m\u001b[0;34m\u001b[0m\u001b[0m\n\u001b[1;32m    127\u001b[0m             \u001b[0;32mif\u001b[0m \u001b[0me\u001b[0m\u001b[0;34m.\u001b[0m\u001b[0merrno\u001b[0m \u001b[0;34m==\u001b[0m \u001b[0merrno\u001b[0m\u001b[0;34m.\u001b[0m\u001b[0mEINTR\u001b[0m\u001b[0;34m:\u001b[0m\u001b[0;34m\u001b[0m\u001b[0m\n",
      "\u001b[0;31mKeyboardInterrupt\u001b[0m: "
     ]
    }
   ],
   "source": [
    "ROBOT_DATA_ROOT = os.path.join(TEST_DATA_PATH, RTYPE)\n",
    "ROBOT_RESULT_ROOT = os.path.join(TEST_RESULT_PATH, RTYPE)\n",
    "DATASET_PATH = os.path.join(ROBOT_DATA_ROOT, DAT_DIR)\n",
    "RESULTSET_PATH = os.path.join(ROBOT_RESULT_ROOT, DAT_DIR)\n",
    "file_list = sorted(os.listdir(DATASET_PATH))\n",
    "\n",
    "gtimer = GlobalTimer.instance()\n",
    "gtimer.reset(scale=1, timeunit='s')\n",
    "gtimer.tic(\"full_loop\")\n",
    "for fid in range(N_DAT):\n",
    "    e_step_list = []\n",
    "    for i_c, cname in enumerate(CNAME_LIST):\n",
    "        gtimer.tic(\"step\")\n",
    "        p = subprocess.Popen(['python', '{}src/scripts/developing/pddlstream/test_saved_scene.py'.format(RNB_PLANNING_DIR),\n",
    "                              '--rtype', RTYPE,\n",
    "                              '--dat_dir', DAT_DIR,\n",
    "                              '--file_option', FILE_OPTION,\n",
    "                              '--data_idx', str(fid+I_START),\n",
    "                              '--cname', cname,\n",
    "                              '--GRASP_SAMPLE', str(GRASP_SAMPLE),\n",
    "                              '--VISUALIZE', str(VISUALIZE),\n",
    "                              '--PLAY_RESULT', str(PLAY_RESULT),\n",
    "                              '--TIMEOUT_MOTION', str(TIMEOUT_MOTION),\n",
    "                              '--MAX_TIME', str(MAX_TIME),\n",
    "                              '--MAX_ITER', str(MAX_ITER)])\n",
    "        p.wait()\n",
    "        e_step = np.round(gtimer.toc(\"step\"), 1)\n",
    "        e_step_list.append(e_step)\n",
    "        print(\"------- \" + (\"{:<8}\"*len(e_step_list)).format(*e_step_list) + \"-------\", end=\"\\r\")\n",
    "        \n",
    "    print(\"\")\n",
    "    print(\"========== {} / {} (eta: {} / {} s) =========\".format(\n",
    "        fid+1, N_DAT, *np.round(gtimer.eta(\"full_loop\", fid+1, N_DAT), 1)))"
   ]
  },
  {
   "cell_type": "markdown",
   "metadata": {},
   "source": [
    "### load results"
   ]
  },
  {
   "cell_type": "code",
   "execution_count": null,
   "metadata": {},
   "outputs": [],
   "source": [
    "res_dict_all = defaultdict(lambda: defaultdict(list))\n",
    "resfile_list = sorted(os.listdir(os.path.join(RESULTSET_PATH)))\n",
    "for resfile in resfile_list:\n",
    "    args = resfile[:-4].split(\"_\")[1:]\n",
    "    f_option = \"_\".join(args[:-2])\n",
    "    fid, cname = args[-2:]\n",
    "    resdat = load_pickle(os.path.join(RESULTSET_PATH, resfile))\n",
    "    assert len(res_dict_all[f_option][cname]) == int(fid)\n",
    "    res_dict_all[f_option][cname].append([resdat[head] for head in HEADS])"
   ]
  },
  {
   "cell_type": "code",
   "execution_count": null,
   "metadata": {
    "scrolled": true
   },
   "outputs": [],
   "source": [
    "exp_list = ['obj_1', 'obj_3', 'obj_3_pole']\n",
    "for ekey in exp_list:\n",
    "    if ekey not in res_dict_all:\n",
    "        continue\n",
    "    res_dict = res_dict_all[ekey]\n",
    "    print(\"=\"*30 + \" {:<10} \".format(ekey) + \"=\"*30)\n",
    "    print(\"{:<10}: {:<10} {:<10} {:<10} {:<10} {:<10} {:<10} {:<10} {:<10}\".format(\n",
    "        \"Checker\", \"Plan time\", \"Actions\", \"MPs\", \"MP fails\", \"IKs\", \"IK fails\", \"Failures\", \"Total\"))\n",
    "    for cname in CNAME_LIST:\n",
    "        if cname in res_dict:\n",
    "            vv = np.array(res_dict[cname])\n",
    "            if len(vv)>0:\n",
    "                succ_vec = vv[:,-1]\n",
    "                fail_vec = np.logical_not(succ_vec)\n",
    "                idc_succ = np.where(succ_vec)[0]\n",
    "                print(\n",
    "                    \"{:<10}: {:<10} {:<10} {:<10} {:<10} {:<10} {:<10} {:<10} {:<10}\".format(cname,\n",
    "                                    *(list(np.round(np.mean(vv[idc_succ, :-1], axis=0), 2)) \\\n",
    "                                      +[np.sum(fail_vec), len(vv)])))\n",
    "    print(\" \")"
   ]
  },
  {
   "cell_type": "code",
   "execution_count": null,
   "metadata": {},
   "outputs": [],
   "source": []
  },
  {
   "cell_type": "code",
   "execution_count": null,
   "metadata": {},
   "outputs": [],
   "source": []
  },
  {
   "cell_type": "code",
   "execution_count": null,
   "metadata": {},
   "outputs": [],
   "source": []
  },
  {
   "cell_type": "markdown",
   "metadata": {},
   "source": [
    "## Res - panda\n",
    "```\n",
    "\n",
    "```"
   ]
  },
  {
   "cell_type": "markdown",
   "metadata": {},
   "source": [
    "## Res - indy7\n",
    "```\n",
    "============================== obj_1           ==============================\n",
    "Checker        : Planning time   Motion count    MP trials       Failed MP       Failures        Total          \n",
    "None           : 18.58           6.56            4.06            0.11            2               20             \n",
    "Tool           : 6.96            6.12            4.0             0.18            3               20             \n",
    "ToolReach      : 2.79            5.44            3.67            0.17            2               20             \n",
    "Full           : 2.22            5.25            3.12            0.0             4               20             \n",
    " \n",
    "============================== obj_3           ==============================\n",
    "Checker        : Planning time   Motion count    MP trials       Failed MP       Failures        Total          \n",
    "None           : 30.37           8.73            5.2             0.07            5               20             \n",
    "Tool           : 9.77            5.27            5.47            0.07            5               20             \n",
    "ToolReach      : 7.24            6.0             7.42            0.17            8               20             \n",
    "Full           : 6.2             5.53            4.53            0.0             5               20             \n",
    " \n",
    "============================== obj_3_pole      ==============================\n",
    "Checker        : Planning time   Motion count    MP trials       Failed MP       Failures        Total          \n",
    "None           : 45.17           8.36            5.07            0.21            6               20             \n",
    "Tool           : 16.48           5.71            7.65            0.53            3               20             \n",
    "ToolReach      : 18.59           6.23            10.46           0.69            7               20             \n",
    "Full           : 11.28           5.29            5.14            0.14            6               20             \n",
    "```"
   ]
  },
  {
   "cell_type": "code",
   "execution_count": null,
   "metadata": {},
   "outputs": [],
   "source": []
  }
 ],
 "metadata": {
  "kernelspec": {
   "display_name": "Python 2",
   "language": "python",
   "name": "python2"
  },
  "language_info": {
   "codemirror_mode": {
    "name": "ipython",
    "version": 2
   },
   "file_extension": ".py",
   "mimetype": "text/x-python",
   "name": "python",
   "nbconvert_exporter": "python",
   "pygments_lexer": "ipython2",
   "version": "2.7.17"
  }
 },
 "nbformat": 4,
 "nbformat_minor": 2
}
