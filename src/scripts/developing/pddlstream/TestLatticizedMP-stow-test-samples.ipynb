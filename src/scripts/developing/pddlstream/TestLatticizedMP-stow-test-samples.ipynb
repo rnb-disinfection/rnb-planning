{
 "cells": [
  {
   "cell_type": "code",
   "execution_count": 1,
   "metadata": {},
   "outputs": [],
   "source": [
    "# import SharedArray as sa\n",
    "# ROBOT_TYPE_NAME = 'indy7'\n",
    "# sa.delete(\"shm://{}.prepared\".format(ROBOT_TYPE_NAME))\n",
    "# sa.delete(\"shm://{}.grasp_img\".format(ROBOT_TYPE_NAME))\n",
    "# sa.delete(\"shm://{}.arm_img\".format(ROBOT_TYPE_NAME))\n",
    "# sa.delete(\"shm://{}.rh_vals\".format(ROBOT_TYPE_NAME))\n",
    "# sa.delete(\"shm://{}.result\".format(ROBOT_TYPE_NAME))\n",
    "# sa.delete(\"shm://{}.query_in\".format(ROBOT_TYPE_NAME))\n",
    "# sa.delete(\"shm://{}.response_out\".format(ROBOT_TYPE_NAME))\n",
    "# sa.delete(\"shm://{}.query_quit\".format(ROBOT_TYPE_NAME))"
   ]
  },
  {
   "cell_type": "code",
   "execution_count": 1,
   "metadata": {},
   "outputs": [],
   "source": [
    "from __future__ import print_function\n",
    "import os\n",
    "RNB_PLANNING_DIR = os.environ[\"RNB_PLANNING_DIR\"]\n",
    "os.chdir(os.path.join(RNB_PLANNING_DIR, 'src'))\n",
    "from pkg.controller.combined_robot import *\n",
    "from pkg.utils.utils import get_now, try_mkdir\n",
    "import subprocess\n",
    "\n",
    "DATA_PATH = os.path.join(RNB_PLANNING_DIR, \"data\")\n",
    "try_mkdir(DATA_PATH)\n",
    "\n",
    "TEST_DATA_PATH = os.path.join(DATA_PATH, \"stowing\")\n",
    "try_mkdir(TEST_DATA_PATH)\n",
    "\n",
    "TEST_RESULT_PATH = os.path.join(DATA_PATH, \"stowing-result\")\n",
    "try_mkdir(TEST_RESULT_PATH)\n",
    "\n",
    "HEADS = [\"plan_time\", \"length\", \"MP_count\", \"failed_MPs\", \"success\"]"
   ]
  },
  {
   "cell_type": "code",
   "execution_count": 4,
   "metadata": {},
   "outputs": [],
   "source": [
    "RTYPE = \"indy7\"\n",
    "DAT_DIR = '20210613-035257'\n",
    "FILE_OPTION = \"obj_1\"\n",
    "# DAT_DIR, FILE_OPTION = \"20210613-023004\", \"obj_1\"\n",
    "# DAT_DIR, FILE_OPTION = \"20210612-114040\", \"obj_1\"\n",
    "# DAT_DIR, FILE_OPTION = \"20210612-151342\", \"obj_3\"\n",
    "# DAT_DIR, FILE_OPTION = \"20210612-161536\", \"obj_3_pole\"\n",
    "\n",
    "# RTYPE = \"panda\"\n",
    "# DAT_DIR = '20210613-035119'\n",
    "# FILE_OPTION = \"obj_1\"\n",
    "# # DAT_DIR, FILE_OPTION = \"20210613-022832\", \"obj_1\"\n",
    "# # # DAT_DIR, FILE_OPTION = \"20210612-221934\", \"obj_1\"\n",
    "\n",
    "CNAME_LIST = ['None','Tool','ToolReach','Full'] #,'Pairwise']\n",
    "GRASP_SAMPLE = 10\n",
    "VISUALIZE = False\n",
    "PLAY_RESULT = False\n",
    "TIMEOUT_MOTION = 5\n",
    "MAX_TIME = 100\n",
    "SHOW_STATE = False\n"
   ]
  },
  {
   "cell_type": "code",
   "execution_count": 5,
   "metadata": {},
   "outputs": [],
   "source": [
    "\n",
    "I_START = 20"
   ]
  },
  {
   "cell_type": "code",
   "execution_count": null,
   "metadata": {},
   "outputs": [],
   "source": []
  },
  {
   "cell_type": "markdown",
   "metadata": {},
   "source": [
    "### test"
   ]
  },
  {
   "cell_type": "code",
   "execution_count": 6,
   "metadata": {},
   "outputs": [
    {
     "name": "stdout",
     "output_type": "stream",
     "text": [
      "------- 5.7     4.5     24.1    6.5     -------\n",
      "========== 1 / 10 (eta: 40.8 / 408.2 s) =========\n",
      "------- 10.6    3.8     4.0     4.1     -------\n",
      "========== 2 / 10 (eta: 63.3 / 316.4 s) =========\n",
      "------- 4.0     3.8     4.1     4.0     -------\n",
      "========== 3 / 10 (eta: 79.2 / 264.0 s) =========\n",
      "------- 6.2     5.2     5.4     4.6     -------\n",
      "========== 4 / 10 (eta: 100.7 / 251.7 s) =========\n",
      "------- 3.4     4.5     4.3     7.7     -------\n",
      "========== 5 / 10 (eta: 120.6 / 241.1 s) =========\n",
      "------- 112.0   4.6     105.4   4.4     -------\n",
      "========== 6 / 10 (eta: 347.1 / 578.4 s) =========\n",
      "------- 3.6     3.7     29.1    4.3     -------\n",
      "========== 7 / 10 (eta: 387.8 / 554.0 s) =========\n",
      "------- 5.3     4.5     4.1     76.2    -------\n",
      "========== 8 / 10 (eta: 477.8 / 597.3 s) =========\n",
      "------- 79.1    17.1    6.0     5.6     -------\n",
      "========== 9 / 10 (eta: 585.6 / 650.7 s) =========\n",
      "------- 10.8    8.1     4.0     4.3     -------\n",
      "========== 10 / 10 (eta: 612.8 / 612.8 s) =========\n"
     ]
    }
   ],
   "source": [
    "ROBOT_DATA_ROOT = os.path.join(TEST_DATA_PATH, RTYPE)\n",
    "ROBOT_RESULT_ROOT = os.path.join(TEST_RESULT_PATH, RTYPE)\n",
    "DATASET_PATH = os.path.join(ROBOT_DATA_ROOT, DAT_DIR)\n",
    "RESULTSET_PATH = os.path.join(ROBOT_RESULT_ROOT, DAT_DIR)\n",
    "file_list = sorted(os.listdir(DATASET_PATH))\n",
    "\n",
    "gtimer = GlobalTimer.instance()\n",
    "gtimer.reset(scale=1, timeunit='s')\n",
    "N_DAT = 10\n",
    "gtimer.tic(\"full_loop\")\n",
    "for fid in range(N_DAT):\n",
    "    e_step_list = []\n",
    "    for i_c, cname in enumerate(CNAME_LIST):\n",
    "        gtimer.tic(\"step\")\n",
    "        p = subprocess.Popen(['python', '{}src/scripts/developing/pddlstream/test_saved_scene.py'.format(RNB_PLANNING_DIR),\n",
    "                              '--rtype', RTYPE,\n",
    "                              '--dat_dir', DAT_DIR,\n",
    "                              '--file_option', FILE_OPTION,\n",
    "                              '--data_idx', str(fid+I_START),\n",
    "                              '--cname', cname,\n",
    "                              '--GRASP_SAMPLE', str(GRASP_SAMPLE),\n",
    "                              '--VISUALIZE', str(VISUALIZE),\n",
    "                              '--PLAY_RESULT', str(PLAY_RESULT),\n",
    "                              '--TIMEOUT_MOTION', str(TIMEOUT_MOTION),\n",
    "                              '--MAX_TIME', str(MAX_TIME)])\n",
    "        p.wait()\n",
    "        e_step = np.round(gtimer.toc(\"step\"), 1)\n",
    "        e_step_list.append(e_step)\n",
    "        print(\"------- \" + (\"{:<8}\"*len(e_step_list)).format(*e_step_list) + \"-------\", end=\"\\r\")\n",
    "        \n",
    "    print(\"\")\n",
    "    print(\"========== {} / {} (eta: {} / {} s) =========\".format(\n",
    "        fid+1, N_DAT, *np.round(gtimer.eta(\"full_loop\", fid+1, N_DAT), 1)))"
   ]
  },
  {
   "cell_type": "markdown",
   "metadata": {},
   "source": [
    "### load results"
   ]
  },
  {
   "cell_type": "code",
   "execution_count": 7,
   "metadata": {},
   "outputs": [],
   "source": [
    "res_dict_all = defaultdict(lambda: defaultdict(list))\n",
    "resfile_list = sorted(os.listdir(os.path.join(RESULTSET_PATH)))\n",
    "for resfile in resfile_list:\n",
    "    args = resfile[:-4].split(\"_\")[1:]\n",
    "    f_option = \"_\".join(args[:-2])\n",
    "    fid, cname = args[-2:]\n",
    "    resdat = load_pickle(os.path.join(RESULTSET_PATH, resfile))\n",
    "    assert len(res_dict_all[f_option][cname]) == int(fid)\n",
    "    res_dict_all[f_option][cname].append([resdat[head] for head in HEADS])"
   ]
  },
  {
   "cell_type": "code",
   "execution_count": 8,
   "metadata": {},
   "outputs": [
    {
     "name": "stdout",
     "output_type": "stream",
     "text": [
      "============================== obj_1           ==============================\n",
      "Checker        : Planning time   Motion count    MP trials       Failed MP       Failures        Total          \n",
      "None           : 17.04           6.65            4.42            0.23            4               30             \n",
      "Tool           : 6.17            5.76            3.76            0.16            5               30             \n",
      "ToolReach      : 4.36            5.46            3.54            0.12            4               30             \n",
      "Full           : 5.29            5.32            3.16            0.0             5               30             \n",
      " \n",
      "============================== obj_3           ==============================\n",
      "Checker        : Planning time   Motion count    MP trials       Failed MP       Failures        Total          \n",
      "None           : 30.37           8.73            5.2             0.07            5               20             \n",
      "Tool           : 9.77            5.27            5.47            0.07            5               20             \n",
      "ToolReach      : 7.24            6.0             7.42            0.17            8               20             \n",
      "Full           : 6.2             5.53            4.53            0.0             5               20             \n",
      " \n",
      "============================== obj_3_pole      ==============================\n",
      "Checker        : Planning time   Motion count    MP trials       Failed MP       Failures        Total          \n",
      "None           : 45.17           8.36            5.07            0.21            6               20             \n",
      "Tool           : 16.48           5.71            7.65            0.53            3               20             \n",
      "ToolReach      : 18.59           6.23            10.46           0.69            7               20             \n",
      "Full           : 11.28           5.29            5.14            0.14            6               20             \n",
      " \n"
     ]
    }
   ],
   "source": [
    "exp_list = ['obj_1', 'obj_3', 'obj_3_pole']\n",
    "for ekey in exp_list:\n",
    "    if ekey not in res_dict_all:\n",
    "        continue\n",
    "    res_dict = res_dict_all[ekey]\n",
    "    print(\"=\"*30 + \" {:<15} \".format(ekey) + \"=\"*30)\n",
    "    print(\"{:<15}: {:<15} {:<15} {:<15} {:<15} {:<15} {:<15}\".format(\"Checker\", \"Planning time\", \"Motion count\", \"MP trials\", \"Failed MP\", \"Failures\", \"Total\"))\n",
    "    for cname in CNAME_LIST:\n",
    "        if cname in res_dict:\n",
    "            vv = np.array(res_dict[cname])\n",
    "            if len(vv)>0:\n",
    "                succ_vec = vv[:,-1]\n",
    "                fail_vec = np.logical_not(succ_vec)\n",
    "                idc_succ = np.where(succ_vec)[0]\n",
    "                print(\n",
    "                    \"{:<15}: {:<15} {:<15} {:<15} {:<15} {:<15} {:<15}\".format(cname,\n",
    "                                    *(list(np.round(np.mean(vv[idc_succ, :-1], axis=0), 2)) \\\n",
    "                                      +[np.sum(fail_vec), len(vv)])))\n",
    "    print(\" \")"
   ]
  },
  {
   "cell_type": "code",
   "execution_count": null,
   "metadata": {},
   "outputs": [],
   "source": []
  },
  {
   "cell_type": "code",
   "execution_count": null,
   "metadata": {},
   "outputs": [],
   "source": []
  },
  {
   "cell_type": "code",
   "execution_count": 9,
   "metadata": {},
   "outputs": [],
   "source": [
    "RTYPE = \"indy7\"\n",
    "DAT_DIR = '20210613-035257'\n",
    "FILE_OPTION = \"obj_3\"\n",
    "# DAT_DIR, FILE_OPTION = \"20210613-023004\", \"obj_1\"\n",
    "# DAT_DIR, FILE_OPTION = \"20210612-114040\", \"obj_1\"\n",
    "# DAT_DIR, FILE_OPTION = \"20210612-151342\", \"obj_3\"\n",
    "# DAT_DIR, FILE_OPTION = \"20210612-161536\", \"obj_3_pole\"\n",
    "\n",
    "# RTYPE = \"panda\"\n",
    "# DAT_DIR = '20210613-035119'\n",
    "# FILE_OPTION = \"obj_1\"\n",
    "# # DAT_DIR, FILE_OPTION = \"20210613-022832\", \"obj_1\"\n",
    "# # # DAT_DIR, FILE_OPTION = \"20210612-221934\", \"obj_1\"\n",
    "\n",
    "CNAME_LIST = ['None','Tool','ToolReach','Full'] #,'Pairwise']\n",
    "GRASP_SAMPLE = 10\n",
    "VISUALIZE = False\n",
    "PLAY_RESULT = False\n",
    "TIMEOUT_MOTION = 5\n",
    "MAX_TIME = 100\n",
    "SHOW_STATE = False\n"
   ]
  },
  {
   "cell_type": "markdown",
   "metadata": {},
   "source": [
    "### test"
   ]
  },
  {
   "cell_type": "code",
   "execution_count": 10,
   "metadata": {},
   "outputs": [
    {
     "name": "stdout",
     "output_type": "stream",
     "text": [
      "------- 5.5     4.6     332.1   104.7   -------\n",
      "========== 1 / 10 (eta: 446.9 / 4469.5 s) =========\n",
      "------- 5.2     45.8    4.2     18.5    -------\n",
      "========== 2 / 10 (eta: 520.6 / 2603.2 s) =========\n",
      "------- 3.8     5.6     22.5    4.5     -------\n",
      "========== 3 / 10 (eta: 557.1 / 1857.0 s) =========\n",
      "------- 11.4    139.7   104.6   103.8   -------\n",
      "========== 4 / 10 (eta: 916.6 / 2291.4 s) =========\n",
      "------- 85.5    104.2   4.2     12.8    -------\n",
      "========== 5 / 10 (eta: 1123.3 / 2246.7 s) =========\n",
      "------- 5.6     3.9     4.3     4.4     -------\n",
      "========== 6 / 10 (eta: 1141.5 / 1902.5 s) =========\n",
      "------- 9.0     8.8     4.4     11.1    -------\n",
      "========== 7 / 10 (eta: 1174.8 / 1678.3 s) =========\n",
      "------- 11.4    103.6   14.8    104.2   -------\n",
      "========== 8 / 10 (eta: 1408.9 / 1761.1 s) =========\n",
      "------- 34.7    5.2     4.3     104.4   -------\n",
      "========== 9 / 10 (eta: 1557.5 / 1730.5 s) =========\n",
      "------- 22.6    37.7    46.7    18.9    -------\n",
      "========== 10 / 10 (eta: 1683.3 / 1683.3 s) =========\n"
     ]
    }
   ],
   "source": [
    "ROBOT_DATA_ROOT = os.path.join(TEST_DATA_PATH, RTYPE)\n",
    "ROBOT_RESULT_ROOT = os.path.join(TEST_RESULT_PATH, RTYPE)\n",
    "DATASET_PATH = os.path.join(ROBOT_DATA_ROOT, DAT_DIR)\n",
    "RESULTSET_PATH = os.path.join(ROBOT_RESULT_ROOT, DAT_DIR)\n",
    "file_list = sorted(os.listdir(DATASET_PATH))\n",
    "\n",
    "gtimer = GlobalTimer.instance()\n",
    "gtimer.reset(scale=1, timeunit='s')\n",
    "N_DAT = 10\n",
    "gtimer.tic(\"full_loop\")\n",
    "for fid in range(N_DAT):\n",
    "    e_step_list = []\n",
    "    for i_c, cname in enumerate(CNAME_LIST):\n",
    "        gtimer.tic(\"step\")\n",
    "        p = subprocess.Popen(['python', '{}src/scripts/developing/pddlstream/test_saved_scene.py'.format(RNB_PLANNING_DIR),\n",
    "                              '--rtype', RTYPE,\n",
    "                              '--dat_dir', DAT_DIR,\n",
    "                              '--file_option', FILE_OPTION,\n",
    "                              '--data_idx', str(fid+I_START),\n",
    "                              '--cname', cname,\n",
    "                              '--GRASP_SAMPLE', str(GRASP_SAMPLE),\n",
    "                              '--VISUALIZE', str(VISUALIZE),\n",
    "                              '--PLAY_RESULT', str(PLAY_RESULT),\n",
    "                              '--TIMEOUT_MOTION', str(TIMEOUT_MOTION),\n",
    "                              '--MAX_TIME', str(MAX_TIME)])\n",
    "        p.wait()\n",
    "        e_step = np.round(gtimer.toc(\"step\"), 1)\n",
    "        e_step_list.append(e_step)\n",
    "        print(\"------- \" + (\"{:<8}\"*len(e_step_list)).format(*e_step_list) + \"-------\", end=\"\\r\")\n",
    "        \n",
    "    print(\"\")\n",
    "    print(\"========== {} / {} (eta: {} / {} s) =========\".format(\n",
    "        fid+1, N_DAT, *np.round(gtimer.eta(\"full_loop\", fid+1, N_DAT), 1)))"
   ]
  },
  {
   "cell_type": "markdown",
   "metadata": {},
   "source": [
    "### load results"
   ]
  },
  {
   "cell_type": "code",
   "execution_count": 11,
   "metadata": {},
   "outputs": [],
   "source": [
    "res_dict_all = defaultdict(lambda: defaultdict(list))\n",
    "resfile_list = sorted(os.listdir(os.path.join(RESULTSET_PATH)))\n",
    "for resfile in resfile_list:\n",
    "    args = resfile[:-4].split(\"_\")[1:]\n",
    "    f_option = \"_\".join(args[:-2])\n",
    "    fid, cname = args[-2:]\n",
    "    resdat = load_pickle(os.path.join(RESULTSET_PATH, resfile))\n",
    "    res_dict_all[f_option][cname].append([resdat[head] for head in HEADS])"
   ]
  },
  {
   "cell_type": "code",
   "execution_count": 12,
   "metadata": {},
   "outputs": [
    {
     "name": "stdout",
     "output_type": "stream",
     "text": [
      "============================== obj_1           ==============================\n",
      "Checker        : Planning time   Motion count    MP trials       Failed MP       Failures        Total          \n",
      "None           : 17.04           6.65            4.42            0.23            4               30             \n",
      "Tool           : 6.17            5.76            3.76            0.16            5               30             \n",
      "ToolReach      : 4.36            5.46            3.54            0.12            4               30             \n",
      "Full           : 5.29            5.32            3.16            0.0             5               30             \n",
      " \n",
      "============================== obj_3           ==============================\n",
      "Checker        : Planning time   Motion count    MP trials       Failed MP       Failures        Total          \n",
      "None           : 26.9            8.13            4.91            0.04            7               30             \n",
      "Tool           : 11.57           5.95            7.14            0.14            9               30             \n",
      "ToolReach      : 9.08            6.05            8.05            0.42            11              30             \n",
      "Full           : 7.13            5.95            4.76            0.05            9               30             \n",
      " \n",
      "============================== obj_3_pole      ==============================\n",
      "Checker        : Planning time   Motion count    MP trials       Failed MP       Failures        Total          \n",
      "None           : 45.17           8.36            5.07            0.21            6               20             \n",
      "Tool           : 16.48           5.71            7.65            0.53            3               20             \n",
      "ToolReach      : 18.59           6.23            10.46           0.69            7               20             \n",
      "Full           : 11.28           5.29            5.14            0.14            6               20             \n",
      " \n"
     ]
    }
   ],
   "source": [
    "exp_list = ['obj_1', 'obj_3', 'obj_3_pole']\n",
    "for ekey in exp_list:\n",
    "    if ekey not in res_dict_all:\n",
    "        continue\n",
    "    res_dict = res_dict_all[ekey]\n",
    "    print(\"=\"*30 + \" {:<15} \".format(ekey) + \"=\"*30)\n",
    "    print(\"{:<15}: {:<15} {:<15} {:<15} {:<15} {:<15} {:<15}\".format(\"Checker\", \"Planning time\", \"Motion count\", \"MP trials\", \"Failed MP\", \"Failures\", \"Total\"))\n",
    "    for cname in CNAME_LIST:\n",
    "        if cname in res_dict:\n",
    "            vv = np.array(res_dict[cname])\n",
    "            if len(vv)>0:\n",
    "                succ_vec = vv[:,-1]\n",
    "                fail_vec = np.logical_not(succ_vec)\n",
    "                idc_succ = np.where(succ_vec)[0]\n",
    "                print(\n",
    "                    \"{:<15}: {:<15} {:<15} {:<15} {:<15} {:<15} {:<15}\".format(cname,\n",
    "                                    *(list(np.round(np.mean(vv[idc_succ, :-1], axis=0), 2)) \\\n",
    "                                      +[np.sum(fail_vec), len(vv)])))\n",
    "    print(\" \")"
   ]
  },
  {
   "cell_type": "code",
   "execution_count": null,
   "metadata": {},
   "outputs": [],
   "source": []
  },
  {
   "cell_type": "code",
   "execution_count": null,
   "metadata": {},
   "outputs": [],
   "source": []
  },
  {
   "cell_type": "code",
   "execution_count": null,
   "metadata": {},
   "outputs": [],
   "source": []
  },
  {
   "cell_type": "code",
   "execution_count": 13,
   "metadata": {},
   "outputs": [],
   "source": [
    "RTYPE = \"indy7\"\n",
    "DAT_DIR = '20210613-035257'\n",
    "FILE_OPTION = \"obj_3_pole\"\n",
    "# DAT_DIR, FILE_OPTION = \"20210613-023004\", \"obj_1\"\n",
    "# DAT_DIR, FILE_OPTION = \"20210612-114040\", \"obj_1\"\n",
    "# DAT_DIR, FILE_OPTION = \"20210612-151342\", \"obj_3\"\n",
    "# DAT_DIR, FILE_OPTION = \"20210612-161536\", \"obj_3_pole\"\n",
    "\n",
    "# RTYPE = \"panda\"\n",
    "# DAT_DIR = '20210613-035119'\n",
    "# FILE_OPTION = \"obj_1\"\n",
    "# # DAT_DIR, FILE_OPTION = \"20210613-022832\", \"obj_1\"\n",
    "# # # DAT_DIR, FILE_OPTION = \"20210612-221934\", \"obj_1\"\n",
    "\n",
    "CNAME_LIST = ['None','Tool','ToolReach','Full'] #,'Pairwise']\n",
    "GRASP_SAMPLE = 10\n",
    "VISUALIZE = False\n",
    "PLAY_RESULT = False\n",
    "TIMEOUT_MOTION = 5\n",
    "MAX_TIME = 100\n",
    "SHOW_STATE = False\n"
   ]
  },
  {
   "cell_type": "markdown",
   "metadata": {},
   "source": [
    "### test"
   ]
  },
  {
   "cell_type": "code",
   "execution_count": 14,
   "metadata": {},
   "outputs": [
    {
     "name": "stdout",
     "output_type": "stream",
     "text": [
      "------- 23.2    24.1    6.3     65.4    -------\n",
      "========== 1 / 10 (eta: 119.0 / 1190.4 s) =========\n",
      "------- 102.9   153.7   37.7    22.5    -------\n",
      "========== 2 / 10 (eta: 435.8 / 2179.2 s) =========\n",
      "------- 23.4    36.3    104.3   104.2   -------\n",
      "========== 3 / 10 (eta: 704.1 / 2346.9 s) =========\n",
      "------- 96.1    12.0    88.7    21.8    -------\n",
      "========== 4 / 10 (eta: 922.6 / 2306.5 s) =========\n",
      "------- 5.0     129.7   104.4   104.3   -------\n",
      "========== 5 / 10 (eta: 1265.9 / 2531.8 s) =========\n",
      "------- 14.5    4.4     4.6     15.0    -------\n",
      "========== 6 / 10 (eta: 1304.4 / 2174.0 s) =========\n",
      "------- 89.4    26.2    167.8   4.6     -------\n",
      "========== 7 / 10 (eta: 1592.5 / 2275.0 s) =========\n",
      "------- 66.7    4.7     5.1     12.2    -------\n",
      "========== 8 / 10 (eta: 1681.2 / 2101.5 s) =========\n",
      "------- 103.8   103.8   104.2   65.2    -------\n",
      "========== 9 / 10 (eta: 2058.1 / 2286.8 s) =========\n",
      "------- 41.1    5.3     12.7    5.2     -------\n",
      "========== 10 / 10 (eta: 2122.3 / 2122.3 s) =========\n"
     ]
    }
   ],
   "source": [
    "ROBOT_DATA_ROOT = os.path.join(TEST_DATA_PATH, RTYPE)\n",
    "ROBOT_RESULT_ROOT = os.path.join(TEST_RESULT_PATH, RTYPE)\n",
    "DATASET_PATH = os.path.join(ROBOT_DATA_ROOT, DAT_DIR)\n",
    "RESULTSET_PATH = os.path.join(ROBOT_RESULT_ROOT, DAT_DIR)\n",
    "file_list = sorted(os.listdir(DATASET_PATH))\n",
    "\n",
    "gtimer = GlobalTimer.instance()\n",
    "gtimer.reset(scale=1, timeunit='s')\n",
    "N_DAT = 10\n",
    "gtimer.tic(\"full_loop\")\n",
    "for fid in range(N_DAT):\n",
    "    e_step_list = []\n",
    "    for i_c, cname in enumerate(CNAME_LIST):\n",
    "        gtimer.tic(\"step\")\n",
    "        p = subprocess.Popen(['python', '{}src/scripts/developing/pddlstream/test_saved_scene.py'.format(RNB_PLANNING_DIR),\n",
    "                              '--rtype', RTYPE,\n",
    "                              '--dat_dir', DAT_DIR,\n",
    "                              '--file_option', FILE_OPTION,\n",
    "                              '--data_idx', str(fid+I_START),\n",
    "                              '--cname', cname,\n",
    "                              '--GRASP_SAMPLE', str(GRASP_SAMPLE),\n",
    "                              '--VISUALIZE', str(VISUALIZE),\n",
    "                              '--PLAY_RESULT', str(PLAY_RESULT),\n",
    "                              '--TIMEOUT_MOTION', str(TIMEOUT_MOTION),\n",
    "                              '--MAX_TIME', str(MAX_TIME)])\n",
    "        p.wait()\n",
    "        e_step = np.round(gtimer.toc(\"step\"), 1)\n",
    "        e_step_list.append(e_step)\n",
    "        print(\"------- \" + (\"{:<8}\"*len(e_step_list)).format(*e_step_list) + \"-------\", end=\"\\r\")\n",
    "        \n",
    "    print(\"\")\n",
    "    print(\"========== {} / {} (eta: {} / {} s) =========\".format(\n",
    "        fid+1, N_DAT, *np.round(gtimer.eta(\"full_loop\", fid+1, N_DAT), 1)))"
   ]
  },
  {
   "cell_type": "markdown",
   "metadata": {},
   "source": [
    "### load results"
   ]
  },
  {
   "cell_type": "code",
   "execution_count": 15,
   "metadata": {},
   "outputs": [],
   "source": [
    "res_dict_all = defaultdict(lambda: defaultdict(list))\n",
    "resfile_list = sorted(os.listdir(os.path.join(RESULTSET_PATH)))\n",
    "for resfile in resfile_list:\n",
    "    args = resfile[:-4].split(\"_\")[1:]\n",
    "    f_option = \"_\".join(args[:-2])\n",
    "    fid, cname = args[-2:]\n",
    "    resdat = load_pickle(os.path.join(RESULTSET_PATH, resfile))\n",
    "#     assert len(res_dict_all[f_option][cname]) == int(fid)\n",
    "    res_dict_all[f_option][cname].append([resdat[head] for head in HEADS])"
   ]
  },
  {
   "cell_type": "code",
   "execution_count": 17,
   "metadata": {},
   "outputs": [
    {
     "name": "stdout",
     "output_type": "stream",
     "text": [
      "============================== obj_1           ==============================\n",
      "Checker        : Planning time   Motion count    MP trials       Failed MP       Failures        Total          \n",
      "None           : 17.04           6.65            4.42            0.23            4               30             \n",
      "Tool           : 6.17            5.76            3.76            0.16            5               30             \n",
      "ToolReach      : 4.36            5.46            3.54            0.12            4               30             \n",
      "Full           : 5.29            5.32            3.16            0.0             5               30             \n",
      " \n",
      "============================== obj_3           ==============================\n",
      "Checker        : Planning time   Motion count    MP trials       Failed MP       Failures        Total          \n",
      "None           : 26.9            8.13            4.91            0.04            7               30             \n",
      "Tool           : 11.57           5.95            7.14            0.14            9               30             \n",
      "ToolReach      : 9.08            6.05            8.05            0.42            11              30             \n",
      "Full           : 7.13            5.95            4.76            0.05            9               30             \n",
      " \n",
      "============================== obj_3_pole      ==============================\n",
      "Checker        : Planning time   Motion count    MP trials       Failed MP       Failures        Total          \n",
      "None           : 48.84           8.55            6.59            0.36            8               30             \n",
      "Tool           : 15.86           5.67            6.58            0.42            6               30             \n",
      "ToolReach      : 20.14           6.05            14.42           0.63            11              30             \n",
      "Full           : 15.92           5.55            6.41            0.32            8               30             \n",
      " \n"
     ]
    }
   ],
   "source": [
    "exp_list = ['obj_1', 'obj_3', 'obj_3_pole']\n",
    "for ekey in exp_list:\n",
    "    if ekey not in res_dict_all:\n",
    "        continue\n",
    "    res_dict = res_dict_all[ekey]\n",
    "    print(\"=\"*30 + \" {:<15} \".format(ekey) + \"=\"*30)\n",
    "    print(\"{:<15}: {:<15} {:<15} {:<15} {:<15} {:<15} {:<15}\".format(\"Checker\", \"Planning time\", \"Motion count\", \"MP trials\", \"Failed MP\", \"Failures\", \"Total\"))\n",
    "    for cname in CNAME_LIST:\n",
    "        if cname in res_dict:\n",
    "            vv = np.array(res_dict[cname])\n",
    "            if len(vv)>0:\n",
    "                succ_vec = vv[:,-1]\n",
    "                fail_vec = np.logical_not(succ_vec)\n",
    "                idc_succ = np.where(succ_vec)[0]\n",
    "                print(\n",
    "                    \"{:<15}: {:<15} {:<15} {:<15} {:<15} {:<15} {:<15}\".format(cname,\n",
    "                                    *(list(np.round(np.mean(vv[idc_succ, :-1], axis=0), 2)) \\\n",
    "                                      +[np.sum(fail_vec), len(vv)])))\n",
    "    print(\" \")"
   ]
  },
  {
   "cell_type": "code",
   "execution_count": null,
   "metadata": {},
   "outputs": [],
   "source": []
  },
  {
   "cell_type": "code",
   "execution_count": null,
   "metadata": {},
   "outputs": [],
   "source": []
  },
  {
   "cell_type": "code",
   "execution_count": null,
   "metadata": {},
   "outputs": [],
   "source": []
  },
  {
   "cell_type": "markdown",
   "metadata": {},
   "source": [
    "## Res - panda\n",
    "```\n",
    "\n",
    "```"
   ]
  },
  {
   "cell_type": "markdown",
   "metadata": {},
   "source": [
    "## Res - indy7\n",
    "```\n",
    "============================== obj_1           ==============================\n",
    "Checker        : Planning time   Motion count    MP trials       Failed MP       Failures        Total          \n",
    "None           : 18.58           6.56            4.06            0.11            2               20             \n",
    "Tool           : 6.96            6.12            4.0             0.18            3               20             \n",
    "ToolReach      : 2.79            5.44            3.67            0.17            2               20             \n",
    "Full           : 2.22            5.25            3.12            0.0             4               20             \n",
    " \n",
    "============================== obj_3           ==============================\n",
    "Checker        : Planning time   Motion count    MP trials       Failed MP       Failures        Total          \n",
    "None           : 30.37           8.73            5.2             0.07            5               20             \n",
    "Tool           : 9.77            5.27            5.47            0.07            5               20             \n",
    "ToolReach      : 7.24            6.0             7.42            0.17            8               20             \n",
    "Full           : 6.2             5.53            4.53            0.0             5               20             \n",
    " \n",
    "============================== obj_3_pole      ==============================\n",
    "Checker        : Planning time   Motion count    MP trials       Failed MP       Failures        Total          \n",
    "None           : 45.17           8.36            5.07            0.21            6               20             \n",
    "Tool           : 16.48           5.71            7.65            0.53            3               20             \n",
    "ToolReach      : 18.59           6.23            10.46           0.69            7               20             \n",
    "Full           : 11.28           5.29            5.14            0.14            6               20             \n",
    "```"
   ]
  },
  {
   "cell_type": "code",
   "execution_count": null,
   "metadata": {},
   "outputs": [],
   "source": []
  }
 ],
 "metadata": {
  "kernelspec": {
   "display_name": "Python 2",
   "language": "python",
   "name": "python2"
  },
  "language_info": {
   "codemirror_mode": {
    "name": "ipython",
    "version": 2
   },
   "file_extension": ".py",
   "mimetype": "text/x-python",
   "name": "python",
   "nbconvert_exporter": "python",
   "pygments_lexer": "ipython2",
   "version": "2.7.17"
  }
 },
 "nbformat": 4,
 "nbformat_minor": 2
}
