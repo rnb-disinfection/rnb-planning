{
 "cells": [
  {
   "cell_type": "markdown",
   "metadata": {},
   "source": [
    "## set running directory"
   ]
  },
  {
   "cell_type": "code",
   "execution_count": null,
   "metadata": {},
   "outputs": [],
   "source": [
    "from __future__ import print_function\n",
    "import os\n",
    "os.chdir(os.path.join(os.environ[\"RNB_PLANNING_DIR\"], 'src'))"
   ]
  },
  {
   "cell_type": "code",
   "execution_count": null,
   "metadata": {},
   "outputs": [],
   "source": [
    "from pkg.controller.combined_robot import *\n",
    "from pkg.utils.utils import get_now, try_mkdir\n",
    "\n",
    "\n",
    "DATA_PATH = os.path.join(os.environ['RNB_PLANNING_DIR'], \"data\")\n",
    "try_mkdir(DATA_PATH)\n",
    "\n",
    "TEST_DATA_PATH = os.path.join(DATA_PATH, \"stowing-deep\")\n",
    "try_mkdir(TEST_DATA_PATH)"
   ]
  },
  {
   "cell_type": "code",
   "execution_count": null,
   "metadata": {},
   "outputs": [],
   "source": []
  },
  {
   "cell_type": "code",
   "execution_count": null,
   "metadata": {},
   "outputs": [],
   "source": [
    "VISUALIZE = True\n",
    "PLAY_RESULT = False\n",
    "CLEARANCE = 1e-3\n",
    "TOOL_RPY = (-np.pi/2,0,0)\n",
    "TIMEOUT_MOTION = 5\n",
    "MAX_TIME = 100\n",
    "\n",
    "\n",
    "ROBOT_TYPE = RobotType.indy7gripper\n",
    "\n",
    "if ROBOT_TYPE in [RobotType.indy7, RobotType.indy7gripper]:\n",
    "    ROBOT_NAME = \"indy0\"\n",
    "    TOOL_LINK = \"indy0_tcp\"\n",
    "    TOOL_NAME = \"grip0\"\n",
    "    TOOL_XYZ = (0,0,0.14)\n",
    "    HOME_POSE = (0,0,0,0,0,0)\n",
    "    GRIP_DEPTH = 0.05\n",
    "    \n",
    "elif ROBOT_TYPE == RobotType.panda:\n",
    "    ROBOT_NAME = \"panda0\"\n",
    "    TOOL_LINK = \"panda0_hand\"\n",
    "    TOOL_NAME = \"grip0\"\n",
    "    TOOL_XYZ = (0,0,0.112)\n",
    "    HOME_POSE = (0,-0.3,0,-0.5,0,2.5,0)\n",
    "    GRIP_DEPTH = 0.03\n",
    "    \n",
    "ROBOT_DATA_ROOT = os.path.join(TEST_DATA_PATH, ROBOT_TYPE.name)\n",
    "try_mkdir(ROBOT_DATA_ROOT)\n",
    "\n",
    "DATASET_PATH = os.path.join(ROBOT_DATA_ROOT, get_now())\n",
    "# DATASET_PATH = os.path.join(ROBOT_DATA_ROOT, '20210223-051658')\n",
    "try_mkdir(DATASET_PATH)\n",
    "print(\"\")\n",
    "print(\"DATASET_PATH: {}\".format(DATASET_PATH))\n",
    "print(\"\")"
   ]
  },
  {
   "cell_type": "code",
   "execution_count": null,
   "metadata": {},
   "outputs": [],
   "source": []
  },
  {
   "cell_type": "markdown",
   "metadata": {},
   "source": [
    "## init combined robot config"
   ]
  },
  {
   "cell_type": "code",
   "execution_count": null,
   "metadata": {},
   "outputs": [],
   "source": [
    "\n",
    "from pkg.project_config import *\n",
    "\n",
    "crob = CombinedRobot(robots_on_scene=[\n",
    "    RobotConfig(0, ROBOT_TYPE, None,\n",
    "                INDY_IP)]\n",
    "              , connection_list=[False])\n",
    "\n",
    "from pkg.geometry.builder.scene_builder import SceneBuilder\n",
    "s_builder = SceneBuilder(None)\n",
    "# s_builder.reset_reference_coord(ref_name=\"floor\")"
   ]
  },
  {
   "cell_type": "code",
   "execution_count": null,
   "metadata": {},
   "outputs": [],
   "source": []
  },
  {
   "cell_type": "markdown",
   "metadata": {},
   "source": [
    "## get ghnd with detected robot config"
   ]
  },
  {
   "cell_type": "code",
   "execution_count": null,
   "metadata": {
    "scrolled": true
   },
   "outputs": [],
   "source": [
    "# xyz_rpy_robots = s_builder.detect_items(level_mask=[DetectionLevel.ROBOT])\n",
    "xyz_rpy_robots = {ROBOT_NAME: ((0,0,0), (0,0,0))}\n",
    "crob.update_robot_pos_dict(xyz_rpy_robots=xyz_rpy_robots)\n",
    "gscene = s_builder.create_gscene(crob, start_rviz=VISUALIZE)\n",
    "HOME_DICT = list2dict(HOME_POSE, gscene.joint_names)\n"
   ]
  },
  {
   "cell_type": "code",
   "execution_count": null,
   "metadata": {},
   "outputs": [],
   "source": [
    "from pkg.utils.joint_utils import get_tf\n",
    "shoulder_link = gscene.urdf_content.joint_map[gscene.joint_names[1]].child\n",
    "shoulder_height = get_tf(shoulder_link, HOME_DICT, gscene.urdf_content)[2,3]"
   ]
  },
  {
   "cell_type": "code",
   "execution_count": null,
   "metadata": {},
   "outputs": [],
   "source": []
  },
  {
   "cell_type": "markdown",
   "metadata": {},
   "source": [
    "## add environment"
   ]
  },
  {
   "cell_type": "code",
   "execution_count": null,
   "metadata": {},
   "outputs": [],
   "source": [
    "from pkg.geometry.geometry import *\n",
    "gtems_robot = s_builder.add_robot_geometries(color=(0,1,0,0.5), display=False, collision=True)"
   ]
  },
  {
   "cell_type": "code",
   "execution_count": null,
   "metadata": {},
   "outputs": [],
   "source": []
  },
  {
   "cell_type": "markdown",
   "metadata": {},
   "source": [
    "## init planning scene"
   ]
  },
  {
   "cell_type": "code",
   "execution_count": null,
   "metadata": {},
   "outputs": [],
   "source": [
    "from pkg.planning.scene import PlanningScene\n",
    "pscene = PlanningScene(gscene, combined_robot=crob)\n",
    "\n",
    "from pkg.planning.pipeline import PlanningPipeline\n",
    "ppline = PlanningPipeline(pscene)"
   ]
  },
  {
   "cell_type": "code",
   "execution_count": null,
   "metadata": {},
   "outputs": [],
   "source": []
  },
  {
   "cell_type": "markdown",
   "metadata": {},
   "source": [
    "## Register binders"
   ]
  },
  {
   "cell_type": "code",
   "execution_count": null,
   "metadata": {},
   "outputs": [],
   "source": [
    "from pkg.planning.constraint.constraint_actor import Gripper2Tool, PlacePlane, SweepTool"
   ]
  },
  {
   "cell_type": "code",
   "execution_count": null,
   "metadata": {},
   "outputs": [],
   "source": [
    "gscene.create_safe(gtype=GEOTYPE.SPHERE, name=\"grip0\", link_name=TOOL_LINK, \n",
    "                 dims=(0.01,)*3, center=TOOL_XYZ, rpy=TOOL_RPY, color=(1,0,0,1), display=True, collision=False, fixed=True)\n",
    "gripper = pscene.create_binder(bname=\"grip0\", gname=\"grip0\", _type=Gripper2Tool, point=(0,0,0), rpy=(0,0,0))"
   ]
  },
  {
   "cell_type": "code",
   "execution_count": null,
   "metadata": {},
   "outputs": [],
   "source": []
  },
  {
   "cell_type": "markdown",
   "metadata": {},
   "source": [
    "## ui"
   ]
  },
  {
   "cell_type": "code",
   "execution_count": null,
   "metadata": {},
   "outputs": [],
   "source": [
    "from pkg.ui.ui_broker import *\n",
    "\n",
    "# start UI\n",
    "ui_broker = UIBroker.instance()\n",
    "ui_broker.initialize(ppline, s_builder)\n",
    "ui_broker.start_server()\n",
    "\n",
    "ui_broker.set_tables()"
   ]
  },
  {
   "cell_type": "code",
   "execution_count": null,
   "metadata": {},
   "outputs": [],
   "source": []
  },
  {
   "cell_type": "markdown",
   "metadata": {},
   "source": [
    "# Object Classes"
   ]
  },
  {
   "cell_type": "code",
   "execution_count": null,
   "metadata": {},
   "outputs": [],
   "source": [
    "from pkg.planning.pddlstream.scene_building import *"
   ]
  },
  {
   "cell_type": "code",
   "execution_count": null,
   "metadata": {},
   "outputs": [],
   "source": []
  },
  {
   "cell_type": "markdown",
   "metadata": {},
   "source": [
    "### sampling 1-obj"
   ]
  },
  {
   "cell_type": "code",
   "execution_count": null,
   "metadata": {
    "scrolled": true
   },
   "outputs": [],
   "source": [
    "Nmax_obj = 1\n",
    "f_option = \"obj_1\"\n",
    "\n",
    "SAMPLE_NUM = 100\n",
    "\n",
    "SHOW_PERIOD = 0.01\n",
    "\n",
    "\n",
    "gscene.clear_link(\"base_link\")\n",
    "gtimer = GlobalTimer.instance()\n",
    "gtimer.reset(stack=True)\n",
    "gtimer.tic(\"full_loop\")\n",
    "for i_s in range(SAMPLE_NUM):\n",
    "    ## add floor, ceiling\n",
    "    floor = Floor(gscene, \"floor\")\n",
    "    gscene.create_safe(gtype=GEOTYPE.BOX, name=\"base\", link_name=\"base_link\", \n",
    "                       dims=(0.2, 0.2, -floor.RTH[2]), center=(0,0,floor.RTH[2]/2), rpy=(0,0,0), \n",
    "                       color=floor.geometry.color, display=True, collision=True, fixed=True)\n",
    "    # ceiling = Ceiling(gscene, \"ceiling\")\n",
    "\n",
    "    ## set workplane\n",
    "    wp = WorkPlane(gscene, \"wp\", floor_height=floor.RTH[2]+floor.DIM[2]/2)\n",
    "    pscene.create_binder(bname=\"wp\", gname=\"wp\", _type=PlacePlane, point=None)\n",
    "\n",
    "    gp_colliding = True\n",
    "    while gp_colliding:\n",
    "        ## set goalplane\n",
    "        gp = SideBox(gscene, \"gp\", floor_height=wp.RTH[2]+wp.RTH[2]/2)\n",
    "        gp_colliding = wp.is_overlapped_with(gp.geometry)\n",
    "    pscene.create_binder(bname=\"gp\", gname=\"gp\", _type=PlacePlane, point=None)\n",
    "\n",
    "\n",
    "    ## add object\n",
    "    obj_list = disperse_objects(gscene, PlaneObject, \"obj\", Nmax_obj, workplane_on=wp, GRIP_DEPTH=GRIP_DEPTH, CLEARANCE=CLEARANCE)\n",
    "\n",
    "    gtem_args = gscene.get_gtem_args()\n",
    "    obj_args = {obj.name: {\"GRIP_DEPTH\": obj.GRIP_DEPTH, \"DIM\": obj.DIM, \"CLEARANCE\": CLEARANCE, \"gname\": obj.geometry.name} \n",
    "                for obj in obj_list}\n",
    "    \n",
    "    save_pickle(os.path.join(DATASET_PATH, \"data_\"+f_option+\"_%02d.pkl\"%i_s), \n",
    "                {\"gtem_args\":gtem_args, \"obj_args\": obj_args})\n",
    "    gscene.update_markers_all()\n",
    "    print(\"============ STEP ({} / {}) / Elapsed: {} s / ETA: {} s =============\".format(i_s, SAMPLE_NUM,\n",
    "                                     *np.round(np.divide(gtimer.eta(\"full_loop\", i_s+1, SAMPLE_NUM), 1000), 1)))\n",
    "    time.sleep(0.2)"
   ]
  },
  {
   "cell_type": "code",
   "execution_count": null,
   "metadata": {},
   "outputs": [],
   "source": []
  },
  {
   "cell_type": "markdown",
   "metadata": {},
   "source": [
    "### sampling 1-obj-3obstacle"
   ]
  },
  {
   "cell_type": "code",
   "execution_count": null,
   "metadata": {
    "scrolled": true
   },
   "outputs": [],
   "source": [
    "Nmax_obj = 1\n",
    "f_option = \"obj_1_obs3\"\n",
    "Nmax_obs = 3\n",
    "\n",
    "SAMPLE_NUM = 100\n",
    "\n",
    "OBS_MARGIN = 0.1\n",
    "\n",
    "SHOW_PERIOD = 0.01\n",
    "\n",
    "\n",
    "gscene.clear_link(\"base_link\")\n",
    "gtimer = GlobalTimer.instance()\n",
    "gtimer.reset(stack=True)\n",
    "gtimer.tic(\"full_loop\")\n",
    "for i_s in range(SAMPLE_NUM):\n",
    "    ## add floor, ceiling\n",
    "    floor = Floor(gscene, \"floor\")\n",
    "    gscene.create_safe(gtype=GEOTYPE.BOX, name=\"base\", link_name=\"base_link\", \n",
    "                       dims=(0.2, 0.2, -floor.RTH[2]), center=(0,0,floor.RTH[2]/2), rpy=(0,0,0), \n",
    "                       color=floor.geometry.color, display=True, collision=True, fixed=True)\n",
    "    # ceiling = Ceiling(gscene, \"ceiling\")\n",
    "\n",
    "    ## set workplane\n",
    "    wp = WorkPlane(gscene, \"wp\", floor_height=floor.RTH[2]+floor.DIM[2]/2)\n",
    "    pscene.create_binder(bname=\"wp\", gname=\"wp\", _type=PlacePlane, point=None)\n",
    "\n",
    "    gp_colliding = True\n",
    "    while gp_colliding:\n",
    "        ## set goalplane\n",
    "        gp = SideBox(gscene, \"gp\", floor_height=wp.RTH[2]+wp.RTH[2]/2)\n",
    "        gp_colliding = wp.is_overlapped_with(gp.geometry)\n",
    "    pscene.create_binder(bname=\"gp\", gname=\"gp\", _type=PlacePlane, point=None)\n",
    "    \n",
    "    for i_obs in range(Nmax_obs):\n",
    "        colliding = True\n",
    "        while colliding:\n",
    "            pole = random.choice([Pole, Bar])(gscene, \"obs\"+str(i_obs))\n",
    "            colliding = (wp.is_overlapped_with(pole.geometry, margin=OBS_MARGIN) \n",
    "                         or gp.is_overlapped_with(pole.geometry, margin=OBS_MARGIN))\n",
    "\n",
    "    ## add object\n",
    "    obj_list = disperse_objects(gscene, PlaneObject, \"obj\", Nmax_obj, workplane_on=wp, GRIP_DEPTH=GRIP_DEPTH, CLEARANCE=CLEARANCE)\n",
    "\n",
    "    gtem_args = gscene.get_gtem_args()\n",
    "    obj_args = {obj.name: {\"GRIP_DEPTH\": obj.GRIP_DEPTH, \"DIM\": obj.DIM, \"CLEARANCE\": CLEARANCE, \"gname\": obj.geometry.name} \n",
    "                for obj in obj_list}\n",
    "    \n",
    "    save_pickle(os.path.join(DATASET_PATH, \"data_\"+f_option+\"_%02d.pkl\"%i_s), \n",
    "                {\"gtem_args\":gtem_args, \"obj_args\": obj_args})\n",
    "    gscene.update_markers_all()\n",
    "    print(\"============ STEP ({} / {}) / Elapsed: {} s / ETA: {} s =============\".format(i_s, SAMPLE_NUM,\n",
    "                                     *np.round(np.divide(gtimer.eta(\"full_loop\", i_s+1, SAMPLE_NUM), 1000), 1)))\n",
    "    time.sleep(0.2)"
   ]
  },
  {
   "cell_type": "code",
   "execution_count": null,
   "metadata": {},
   "outputs": [],
   "source": []
  },
  {
   "cell_type": "markdown",
   "metadata": {},
   "source": [
    "### sampling 1-obj-5obstacle"
   ]
  },
  {
   "cell_type": "code",
   "execution_count": null,
   "metadata": {
    "scrolled": true
   },
   "outputs": [],
   "source": [
    "Nmax_obj = 1\n",
    "f_option = \"obj_1_obs5\"\n",
    "Nmax_obs = 5\n",
    "\n",
    "SAMPLE_NUM = 100\n",
    "\n",
    "OBS_MARGIN = 0.1\n",
    "\n",
    "SHOW_PERIOD = 0.01\n",
    "\n",
    "\n",
    "gscene.clear_link(\"base_link\")\n",
    "gtimer = GlobalTimer.instance()\n",
    "gtimer.reset(stack=True)\n",
    "gtimer.tic(\"full_loop\")\n",
    "for i_s in range(SAMPLE_NUM):\n",
    "    ## add floor, ceiling\n",
    "    floor = Floor(gscene, \"floor\")\n",
    "    gscene.create_safe(gtype=GEOTYPE.BOX, name=\"base\", link_name=\"base_link\", \n",
    "                       dims=(0.2, 0.2, -floor.RTH[2]), center=(0,0,floor.RTH[2]/2), rpy=(0,0,0), \n",
    "                       color=floor.geometry.color, display=True, collision=True, fixed=True)\n",
    "    # ceiling = Ceiling(gscene, \"ceiling\")\n",
    "\n",
    "    ## set workplane\n",
    "    wp = WorkPlane(gscene, \"wp\", floor_height=floor.RTH[2]+floor.DIM[2]/2)\n",
    "    pscene.create_binder(bname=\"wp\", gname=\"wp\", _type=PlacePlane, point=None)\n",
    "\n",
    "    gp_colliding = True\n",
    "    while gp_colliding:\n",
    "        ## set goalplane\n",
    "        gp = SideBox(gscene, \"gp\", floor_height=wp.RTH[2]+wp.RTH[2]/2)\n",
    "        gp_colliding = wp.is_overlapped_with(gp.geometry)\n",
    "    pscene.create_binder(bname=\"gp\", gname=\"gp\", _type=PlacePlane, point=None)\n",
    "    \n",
    "    for i_obs in range(Nmax_obs):\n",
    "        colliding = True\n",
    "        while colliding:\n",
    "            pole = random.choice([Pole, Bar])(gscene, \"obs\"+str(i_obs))\n",
    "            colliding = (pole.is_overlapped_with(wp.geometry, margin=OBS_MARGIN) \n",
    "                         or pole.is_overlapped_with(gp.geometry, margin=OBS_MARGIN))\n",
    "\n",
    "    ## add object\n",
    "    obj_list = disperse_objects(gscene, PlaneObject, \"obj\", Nmax_obj, workplane_on=wp, GRIP_DEPTH=GRIP_DEPTH, CLEARANCE=CLEARANCE)\n",
    "\n",
    "    gtem_args = gscene.get_gtem_args()\n",
    "    obj_args = {obj.name: {\"GRIP_DEPTH\": obj.GRIP_DEPTH, \"DIM\": obj.DIM, \"CLEARANCE\": CLEARANCE, \"gname\": obj.geometry.name} \n",
    "                for obj in obj_list}\n",
    "    \n",
    "    save_pickle(os.path.join(DATASET_PATH, \"data_\"+f_option+\"_%02d.pkl\"%i_s), \n",
    "                {\"gtem_args\":gtem_args, \"obj_args\": obj_args})\n",
    "    gscene.update_markers_all()\n",
    "    print(\"============ STEP ({} / {}) / Elapsed: {} s / ETA: {} s =============\".format(i_s, SAMPLE_NUM,\n",
    "                                     *np.round(np.divide(gtimer.eta(\"full_loop\", i_s+1, SAMPLE_NUM), 1000), 1)))\n",
    "    time.sleep(0.2)"
   ]
  },
  {
   "cell_type": "code",
   "execution_count": null,
   "metadata": {},
   "outputs": [],
   "source": []
  },
  {
   "cell_type": "code",
   "execution_count": null,
   "metadata": {},
   "outputs": [],
   "source": [
    "\n",
    "## add floor, ceiling\n",
    "floor = Floor(gscene, \"floor\")\n",
    "gscene.create_safe(gtype=GEOTYPE.BOX, name=\"base\", link_name=\"base_link\", \n",
    "                   dims=(0.2, 0.2, -floor.RTH[2]), center=(0,0,floor.RTH[2]/2), rpy=(0,0,0), \n",
    "                   color=floor.geometry.color, display=True, collision=True, fixed=True)\n",
    "# ceiling = Ceiling(gscene, \"ceiling\")\n",
    "\n",
    "## set workplane\n",
    "wp = WorkPlane(gscene, \"wp\", floor_height=floor.RTH[2]+floor.DIM[2]/2)\n",
    "pscene.create_binder(bname=\"wp\", gname=\"wp\", _type=PlacePlane, point=None)\n",
    "\n",
    "gp_colliding = True\n",
    "while gp_colliding:\n",
    "    ## set goalplane\n",
    "    gp = SideBox(gscene, \"gp\", floor_height=wp.RTH[2]+wp.RTH[2]/2)\n",
    "    gp_colliding = wp.is_overlapped_with(gp.geometry)\n",
    "pscene.create_binder(bname=\"gp\", gname=\"gp\", _type=PlacePlane, point=None)\n",
    "\n",
    "for i_obs in range(Nmax_obs):\n",
    "    colliding = True\n",
    "    while colliding:\n",
    "        pole = random.choice([Pole, Bar])(gscene, \"obs\"+str(i_obs))\n",
    "        colliding = (pole.is_overlapped_with(wp.geometry, margin=OBS_MARGIN) \n",
    "                     or pole.is_overlapped_with(gp.geometry, margin=OBS_MARGIN))\n",
    "\n",
    "## add object\n",
    "obj_list = disperse_objects(gscene, PlaneObject, \"obj\", Nmax_obj, workplane_on=wp, GRIP_DEPTH=GRIP_DEPTH, CLEARANCE=CLEARANCE)\n",
    "\n",
    "gtem_args = gscene.get_gtem_args()\n",
    "obj_args = {obj.name: {\"GRIP_DEPTH\": obj.GRIP_DEPTH, \"DIM\": obj.DIM, \"CLEARANCE\": CLEARANCE, \"gname\": obj.geometry.name} \n",
    "            for obj in obj_list}\n"
   ]
  },
  {
   "cell_type": "code",
   "execution_count": null,
   "metadata": {},
   "outputs": [],
   "source": []
  },
  {
   "cell_type": "markdown",
   "metadata": {},
   "source": [
    "### sampling 3-obj"
   ]
  },
  {
   "cell_type": "code",
   "execution_count": null,
   "metadata": {
    "scrolled": true
   },
   "outputs": [],
   "source": [
    "Nmax_obj = 3\n",
    "f_option = \"obj_3\"\n",
    "\n",
    "SAMPLE_NUM = 100\n",
    "\n",
    "SHOW_PERIOD = 0.01\n",
    "\n",
    "\n",
    "gscene.clear_link(\"base_link\")\n",
    "gtimer = GlobalTimer.instance()\n",
    "gtimer.reset(stack=True)\n",
    "gtimer.tic(\"full_loop\")\n",
    "for i_s in range(SAMPLE_NUM):\n",
    "    ## add floor, ceiling\n",
    "    floor = Floor(gscene, \"floor\")\n",
    "    gscene.create_safe(gtype=GEOTYPE.BOX, name=\"base\", link_name=\"base_link\", \n",
    "                       dims=(0.2, 0.2, -floor.RTH[2]), center=(0,0,floor.RTH[2]/2), rpy=(0,0,0), \n",
    "                       color=floor.geometry.color, display=True, collision=True, fixed=True)\n",
    "    # ceiling = Ceiling(gscene, \"ceiling\")\n",
    "\n",
    "    ## set workplane\n",
    "    wp = WorkPlane(gscene, \"wp\", floor_height=floor.RTH[2]+floor.DIM[2]/2)\n",
    "    pscene.create_binder(bname=\"wp\", gname=\"wp\", _type=PlacePlane, point=None)\n",
    "\n",
    "    gp_colliding = True\n",
    "    while gp_colliding:\n",
    "        ## set goalplane\n",
    "        gp = SideBox(gscene, \"gp\", floor_height=wp.RTH[2]+wp.RTH[2]/2)\n",
    "        gp_colliding = wp.is_overlapped_with(gp.geometry)\n",
    "    pscene.create_binder(bname=\"gp\", gname=\"gp\", _type=PlacePlane, point=None)\n",
    "\n",
    "\n",
    "    ## add object\n",
    "    obj_list = disperse_objects(gscene, PlaneObject, \"obj\", Nmax_obj, workplane_on=wp, GRIP_DEPTH=GRIP_DEPTH, CLEARANCE=CLEARANCE)\n",
    "\n",
    "    gtem_args = gscene.get_gtem_args()\n",
    "    obj_args = {obj.name: {\"GRIP_DEPTH\": obj.GRIP_DEPTH, \"DIM\": obj.DIM, \"CLEARANCE\": CLEARANCE, \"gname\": obj.geometry.name} \n",
    "                for obj in obj_list}\n",
    "    \n",
    "    save_pickle(os.path.join(DATASET_PATH, \"data_\"+f_option+\"_%02d.pkl\"%i_s), \n",
    "                {\"gtem_args\":gtem_args, \"obj_args\": obj_args})\n",
    "    gscene.update_markers_all()\n",
    "    print(\"============ STEP ({} / {}) / Elapsed: {} s / ETA: {} s =============\".format(i_s, SAMPLE_NUM,\n",
    "                                     *np.round(np.divide(gtimer.eta(\"full_loop\", i_s+1, SAMPLE_NUM), 1000), 1)))\n",
    "    time.sleep(0.2)"
   ]
  },
  {
   "cell_type": "code",
   "execution_count": null,
   "metadata": {},
   "outputs": [],
   "source": []
  },
  {
   "cell_type": "markdown",
   "metadata": {},
   "source": [
    "## sample with pole"
   ]
  },
  {
   "cell_type": "code",
   "execution_count": null,
   "metadata": {
    "scrolled": true
   },
   "outputs": [],
   "source": [
    "Nmax_obj = 3\n",
    "f_option = \"obj_3_pole\"\n",
    "\n",
    "SAMPLE_NUM = 100\n",
    "\n",
    "SHOW_PERIOD = 0.01\n",
    "\n",
    "\n",
    "gscene.clear_link(\"base_link\")\n",
    "gtimer = GlobalTimer.instance()\n",
    "gtimer.reset(stack=True)\n",
    "gtimer.tic(\"full_loop\")\n",
    "for i_s in range(SAMPLE_NUM):\n",
    "    ## add floor, ceiling\n",
    "    floor = Floor(gscene, \"floor\")\n",
    "    gscene.create_safe(gtype=GEOTYPE.BOX, name=\"base\", link_name=\"base_link\", \n",
    "                       dims=(0.2, 0.2, -floor.RTH[2]), center=(0,0,floor.RTH[2]/2), rpy=(0,0,0), \n",
    "                       color=floor.geometry.color, display=True, collision=True, fixed=True)\n",
    "    # ceiling = Ceiling(gscene, \"ceiling\")\n",
    "\n",
    "    ## set workplane\n",
    "    wp = WorkPlane(gscene, \"wp\", floor_height=floor.RTH[2]+floor.DIM[2]/2)\n",
    "    pscene.create_binder(bname=\"wp\", gname=\"wp\", _type=PlacePlane, point=None)\n",
    "\n",
    "    gp_colliding = True\n",
    "    while gp_colliding:\n",
    "        ## set goalplane\n",
    "        gp = SideBox(gscene, \"gp\", floor_height=wp.RTH[2]+wp.RTH[2]/2)\n",
    "        gp_colliding = wp.is_overlapped_with(gp.geometry)\n",
    "    pscene.create_binder(bname=\"gp\", gname=\"gp\", _type=PlacePlane, point=None)\n",
    "\n",
    "#     pole = Pole(gscene, \"pole\", RTH=[0.3, gp.RTH[1], 0])\n",
    "    \n",
    "    for _ in range(10):\n",
    "        Tgp = gp.geometry.get_tf(crob.home_pose)\n",
    "        Pp = (np.matmul(Tgp[:3,:3], np.transpose([[-0.3,0,0]])*(1+np.random.rand()))+Tgp[:3,3:]).flatten()\n",
    "\n",
    "        Ppcyl = cart2cyl(*Pp)\n",
    "        pole = Pole(gscene, \"pole\", RTH=[np.maximum(0.3,Ppcyl[0]-0.1), Ppcyl[1], 0])\n",
    "        colliding = pole.is_overlapped_with(wp.geometry) or pole.is_overlapped_with(gp.geometry)\n",
    "        if not colliding:\n",
    "            break\n",
    "\n",
    "\n",
    "    ## add object\n",
    "    obj_list = disperse_objects(gscene, PlaneObject, \"obj\", Nmax_obj, workplane_on=wp, GRIP_DEPTH=GRIP_DEPTH, CLEARANCE=CLEARANCE)\n",
    "\n",
    "    gtem_args = gscene.get_gtem_args()\n",
    "    obj_args = {obj.name: {\"GRIP_DEPTH\": obj.GRIP_DEPTH, \"DIM\": obj.DIM, \"CLEARANCE\": CLEARANCE, \"gname\": obj.geometry.name} \n",
    "                for obj in obj_list}\n",
    "    \n",
    "    save_pickle(os.path.join(DATASET_PATH, \"data_\"+f_option+\"_%02d.pkl\"%i_s), \n",
    "                {\"gtem_args\":gtem_args, \"obj_args\": obj_args})\n",
    "    gscene.update_markers_all()\n",
    "    print(\"============ STEP ({} / {}) / Elapsed: {} s / ETA: {} s =============\".format(i_s, SAMPLE_NUM,\n",
    "                                     *np.round(np.divide(gtimer.eta(\"full_loop\", i_s+1, SAMPLE_NUM), 1000), 1)))\n",
    "    time.sleep(0.2)"
   ]
  },
  {
   "cell_type": "code",
   "execution_count": null,
   "metadata": {},
   "outputs": [],
   "source": []
  },
  {
   "cell_type": "markdown",
   "metadata": {},
   "source": [
    "## sample difficult"
   ]
  },
  {
   "cell_type": "code",
   "execution_count": null,
   "metadata": {},
   "outputs": [],
   "source": [
    "WorkPlane.DIM_MIN = (0.6, 0.8, 0.05)\n",
    "WorkPlane.DIM_MAX = (0.6, 0.8, 0.05)\n",
    "\n",
    "\n",
    "Pole.DIM_MIN = (0.2, 0.2, 4)\n",
    "Pole.DIM_MAX = (0.2, 0.2, 4)\n",
    "\n",
    "PlaneObject.GTYPE = GEOTYPE.CYLINDER\n",
    "PlaneObject.DIM_MAX = (0.05,0.05,0.2)\n",
    "PlaneObject.DIM_MIN = (0.05,0.05,0.2)\n"
   ]
  },
  {
   "cell_type": "code",
   "execution_count": null,
   "metadata": {
    "scrolled": true
   },
   "outputs": [],
   "source": [
    "Nmax_obj = 3\n",
    "Nplane_obj  = 1\n",
    "f_option = \"obj_3_hard\"\n",
    "\n",
    "SAMPLE_NUM = 100\n",
    "\n",
    "SHOW_PERIOD = 0.01\n",
    "\n",
    "gscene.clear_link(\"base_link\")\n",
    "gtimer = GlobalTimer.instance()\n",
    "gtimer.reset(stack=True)\n",
    "gtimer.tic(\"full_loop\")\n",
    "for i_s in range(SAMPLE_NUM):\n",
    "    ## add floor, ceiling\n",
    "    floor = Floor(gscene, \"floor\")\n",
    "    gscene.create_safe(gtype=GEOTYPE.BOX, name=\"base\", link_name=\"base_link\", \n",
    "                       dims=(0.2, 0.2, -floor.RTH[2]), center=(0,0,floor.RTH[2]/2), rpy=(0,0,0), \n",
    "                       color=floor.geometry.color, display=True, collision=True, fixed=True)\n",
    "    # ceiling = Ceiling(gscene, \"ceiling\")\n",
    "\n",
    "    ## set goalplane\n",
    "    gp = WorkPlane(gscene, \"gp\", floor_height=floor.RTH[2]+floor.DIM[2]/2)\n",
    "    pscene.create_binder(bname=\"gp\", gname=\"gp\", _type=PlacePlane, point=None)\n",
    "\n",
    "    gp_colliding = True\n",
    "    while gp_colliding:\n",
    "        ## set workplane\n",
    "        wp = SideBox(gscene, \"wp\", floor_height=gp.RTH[2]+gp.RTH[2]/2)\n",
    "        gp_colliding = gp.is_overlapped_with(wp.geometry)\n",
    "    pscene.create_binder(bname=\"wp\", gname=\"wp\", _type=PlacePlane, point=None)\n",
    "\n",
    "#     pole = Pole(gscene, \"pole\", RTH=[0.3, gp.RTH[1], 0])\n",
    "\n",
    "    Tgp = gp.geometry.get_tf(crob.home_pose)\n",
    "    Pp = (np.matmul(Tgp[:3,:3], np.transpose([[-0.3,0,0]])*(1+np.random.rand()))+Tgp[:3,3:]).flatten()\n",
    "\n",
    "#     Ppcyl = cart2cyl(*Pp)\n",
    "#     pole = Pole(gscene, \"pole\", RTH=[np.maximum(0.3,Ppcyl[0]-0.1), Ppcyl[1], 0])\n",
    "    \n",
    "    colliding = True\n",
    "    while colliding:\n",
    "        pole = Pole(gscene, \"pole\")\n",
    "        colliding = (pole.is_overlapped_with(wp.geometry, margin=OBS_MARGIN) \n",
    "                     or pole.is_overlapped_with(gp.geometry, margin=OBS_MARGIN))\n",
    "\n",
    "\n",
    "    ## add object\n",
    "    obj_list = disperse_objects(gscene, PlaneObject, \"obj\", Nmax_obj, workplane_on=wp, GRIP_DEPTH=GRIP_DEPTH, CLEARANCE=CLEARANCE)\n",
    "    disperse_objects(gscene, PlaneObjectBig, \"obs\", Nplane_obj, workplane_on=gp, GRIP_DEPTH=GRIP_DEPTH, CLEARANCE=CLEARANCE)\n",
    "\n",
    "    gtem_args = gscene.get_gtem_args()\n",
    "    obj_args = {obj.name: {\"GRIP_DEPTH\": obj.GRIP_DEPTH, \"DIM\": obj.DIM, \"CLEARANCE\": CLEARANCE, \"gname\": obj.geometry.name} \n",
    "                for obj in obj_list}\n",
    "    \n",
    "    # sort object data by x-pose in workspace\n",
    "    T_wp = wp.geometry.get_tf(crob.home_pose)\n",
    "    onames_original = sorted([obj_.name for obj_ in obj_list])\n",
    "    gargs_original = {garg[\"name\"]: garg for garg in gtem_args if garg[\"name\"] in onames_original}\n",
    "    onames_sorted = sorted(onames_original, \n",
    "                           key=lambda x: -np.matmul(SE3_inv(T_wp), gscene.NAME_DICT[x].get_tf(crob.home_pose))[0,3])\n",
    "    obj_args_bak = deepcopy(obj_args)\n",
    "    for oname_from, oname_to in zip(onames_sorted, onames_original):\n",
    "        for garg in gtem_args:\n",
    "            if garg[\"name\"] == oname_from:\n",
    "                garg[\"name\"] = oname_to+\"_xx\"\n",
    "            if garg[\"parent\"] == oname_from:\n",
    "                garg[\"parent\"] = oname_to+\"_xx\"\n",
    "        obj_args[oname_to] = deepcopy(obj_args_bak[oname_from])\n",
    "        obj_args[oname_to][\"gname\"] = obj_args_bak[oname_to][\"gname\"]\n",
    "    for garg in gtem_args:\n",
    "        if garg[\"name\"].endswith(\"_xx\"):\n",
    "            garg[\"name\"] = garg[\"name\"][:-3]\n",
    "        if garg[\"parent\"] is not None and garg[\"parent\"].endswith(\"_xx\"):\n",
    "            garg[\"parent\"] = garg[\"name\"][:-3]\n",
    "    \n",
    "    save_pickle(os.path.join(DATASET_PATH, \"data_\"+f_option+\"_%02d.pkl\"%i_s), \n",
    "                {\"gtem_args\":gtem_args, \"obj_args\": obj_args})\n",
    "    gscene.update_markers_all()\n",
    "    print(\"============ STEP ({} / {}) / Elapsed: {} s / ETA: {} s =============\".format(i_s, SAMPLE_NUM,\n",
    "                                     *np.round(np.divide(gtimer.eta(\"full_loop\", i_s+1, SAMPLE_NUM), 1000), 1)))\n",
    "    time.sleep(0.2)"
   ]
  },
  {
   "cell_type": "code",
   "execution_count": null,
   "metadata": {},
   "outputs": [],
   "source": []
  },
  {
   "cell_type": "code",
   "execution_count": null,
   "metadata": {},
   "outputs": [],
   "source": []
  }
 ],
 "metadata": {
  "kernelspec": {
   "display_name": "Python 2",
   "language": "python",
   "name": "python2"
  },
  "language_info": {
   "codemirror_mode": {
    "name": "ipython",
    "version": 2
   },
   "file_extension": ".py",
   "mimetype": "text/x-python",
   "name": "python",
   "nbconvert_exporter": "python",
   "pygments_lexer": "ipython2",
   "version": "2.7.17"
  }
 },
 "nbformat": 4,
 "nbformat_minor": 2
}
