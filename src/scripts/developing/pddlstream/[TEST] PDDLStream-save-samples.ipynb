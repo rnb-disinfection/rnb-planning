{
 "cells": [
  {
   "cell_type": "markdown",
   "metadata": {},
   "source": [
    "## set running directory"
   ]
  },
  {
   "cell_type": "code",
   "execution_count": 1,
   "metadata": {},
   "outputs": [],
   "source": [
    "from __future__ import print_function\n",
    "import os\n",
    "os.chdir(os.path.join(os.environ[\"RNB_PLANNING_DIR\"], 'src'))"
   ]
  },
  {
   "cell_type": "code",
   "execution_count": 2,
   "metadata": {},
   "outputs": [],
   "source": [
    "from pkg.controller.combined_robot import *\n",
    "from pkg.utils.utils import get_now, try_mkdir\n",
    "\n",
    "\n",
    "DATA_PATH = os.path.join(os.environ['RNB_PLANNING_DIR'], \"data\")\n",
    "try_mkdir(DATA_PATH)\n",
    "\n",
    "TEST_DATA_PATH = os.path.join(DATA_PATH, \"stowing-deep\")\n",
    "try_mkdir(TEST_DATA_PATH)"
   ]
  },
  {
   "cell_type": "code",
   "execution_count": null,
   "metadata": {},
   "outputs": [],
   "source": []
  },
  {
   "cell_type": "code",
   "execution_count": 3,
   "metadata": {},
   "outputs": [],
   "source": [
    "VISUALIZE = True\n",
    "PLAY_RESULT = False\n",
    "CLEARANCE = 1e-3\n",
    "TOOL_RPY = (-np.pi/2,0,0)\n",
    "TIMEOUT_MOTION = 5\n",
    "MAX_TIME = 100\n",
    "\n",
    "\n",
    "ROBOT_TYPE = RobotType.indy7gripper\n",
    "\n",
    "if ROBOT_TYPE in [RobotType.indy7, RobotType.indy7gripper]:\n",
    "    ROBOT_NAME = \"indy0\"\n",
    "    TOOL_LINK = \"indy0_tcp\"\n",
    "    TOOL_NAME = \"grip0\"\n",
    "    TOOL_XYZ = (0,0,0.14)\n",
    "    HOME_POSE = (0,0,0,0,0,0)\n",
    "    GRIP_DEPTH = 0.05\n",
    "    \n",
    "elif ROBOT_TYPE == RobotType.panda:\n",
    "    ROBOT_NAME = \"panda0\"\n",
    "    TOOL_LINK = \"panda0_hand\"\n",
    "    TOOL_NAME = \"grip0\"\n",
    "    TOOL_XYZ = (0,0,0.112)\n",
    "    HOME_POSE = (0,-0.3,0,-0.5,0,2.5,0)\n",
    "    GRIP_DEPTH = 0.03"
   ]
  },
  {
   "cell_type": "code",
   "execution_count": null,
   "metadata": {},
   "outputs": [],
   "source": []
  },
  {
   "cell_type": "markdown",
   "metadata": {},
   "source": [
    "## init combined robot config"
   ]
  },
  {
   "cell_type": "code",
   "execution_count": 4,
   "metadata": {},
   "outputs": [
    {
     "name": "stdout",
     "output_type": "stream",
     "text": [
      "connection command:\n",
      "indy0: False\n"
     ]
    }
   ],
   "source": [
    "\n",
    "from pkg.project_config import *\n",
    "\n",
    "crob = CombinedRobot(robots_on_scene=[\n",
    "    RobotConfig(0, ROBOT_TYPE, None,\n",
    "                INDY_IP)]\n",
    "              , connection_list=[False])\n",
    "\n",
    "from pkg.geometry.builder.scene_builder import SceneBuilder\n",
    "s_builder = SceneBuilder(None)\n",
    "# s_builder.reset_reference_coord(ref_name=\"floor\")"
   ]
  },
  {
   "cell_type": "code",
   "execution_count": null,
   "metadata": {},
   "outputs": [],
   "source": []
  },
  {
   "cell_type": "markdown",
   "metadata": {},
   "source": [
    "## get ghnd with detected robot config"
   ]
  },
  {
   "cell_type": "code",
   "execution_count": 5,
   "metadata": {
    "scrolled": true
   },
   "outputs": [
    {
     "name": "stdout",
     "output_type": "stream",
     "text": [
      "Please create a subscriber to the marker\n",
      "publication OK\n",
      "published: [0, 0, 0, 0, 0, 0]\n"
     ]
    }
   ],
   "source": [
    "# xyz_rpy_robots = s_builder.detect_items(level_mask=[DetectionLevel.ROBOT])\n",
    "xyz_rpy_robots = {ROBOT_NAME: ((0,0,0), (0,0,0))}\n",
    "crob.update_robot_pos_dict(xyz_rpy_robots=xyz_rpy_robots)\n",
    "gscene = s_builder.create_gscene(crob, start_rviz=VISUALIZE)\n",
    "HOME_DICT = list2dict(HOME_POSE, gscene.joint_names)\n"
   ]
  },
  {
   "cell_type": "code",
   "execution_count": 6,
   "metadata": {},
   "outputs": [],
   "source": [
    "from pkg.utils.joint_utils import get_tf\n",
    "shoulder_link = gscene.urdf_content.joint_map[gscene.joint_names[1]].child\n",
    "shoulder_height = get_tf(shoulder_link, HOME_DICT, gscene.urdf_content)[2,3]"
   ]
  },
  {
   "cell_type": "code",
   "execution_count": null,
   "metadata": {},
   "outputs": [],
   "source": []
  },
  {
   "cell_type": "markdown",
   "metadata": {},
   "source": [
    "## add environment"
   ]
  },
  {
   "cell_type": "code",
   "execution_count": 7,
   "metadata": {},
   "outputs": [],
   "source": [
    "from pkg.geometry.geometry import *\n",
    "gtems_robot = s_builder.add_robot_geometries(color=(0,1,0,0.5), display=False, collision=True)"
   ]
  },
  {
   "cell_type": "code",
   "execution_count": null,
   "metadata": {},
   "outputs": [],
   "source": []
  },
  {
   "cell_type": "markdown",
   "metadata": {},
   "source": [
    "## init planning scene"
   ]
  },
  {
   "cell_type": "code",
   "execution_count": 8,
   "metadata": {},
   "outputs": [],
   "source": [
    "from pkg.planning.scene import PlanningScene\n",
    "pscene = PlanningScene(gscene, combined_robot=crob)\n",
    "\n",
    "from pkg.planning.pipeline import PlanningPipeline\n",
    "ppline = PlanningPipeline(pscene)"
   ]
  },
  {
   "cell_type": "code",
   "execution_count": null,
   "metadata": {},
   "outputs": [],
   "source": []
  },
  {
   "cell_type": "markdown",
   "metadata": {},
   "source": [
    "## Register binders"
   ]
  },
  {
   "cell_type": "code",
   "execution_count": 9,
   "metadata": {},
   "outputs": [],
   "source": [
    "from pkg.planning.constraint.constraint_actor import Gripper2Tool, PlacePlane, SweepTool"
   ]
  },
  {
   "cell_type": "code",
   "execution_count": 10,
   "metadata": {},
   "outputs": [
    {
     "name": "stdout",
     "output_type": "stream",
     "text": [
      "Please create a subscriber to the marker\n"
     ]
    }
   ],
   "source": [
    "gscene.create_safe(gtype=GEOTYPE.SPHERE, name=\"grip0\", link_name=TOOL_LINK, \n",
    "                 dims=(0.01,)*3, center=TOOL_XYZ, rpy=TOOL_RPY, color=(1,0,0,1), display=True, collision=False, fixed=True)\n",
    "gripper = pscene.create_binder(bname=\"grip0\", gname=\"grip0\", _type=Gripper2Tool, point=(0,0,0), rpy=(0,0,0))"
   ]
  },
  {
   "cell_type": "code",
   "execution_count": null,
   "metadata": {},
   "outputs": [],
   "source": []
  },
  {
   "cell_type": "markdown",
   "metadata": {},
   "source": [
    "## ui"
   ]
  },
  {
   "cell_type": "code",
   "execution_count": 11,
   "metadata": {},
   "outputs": [
    {
     "name": "stdout",
     "output_type": "stream",
     "text": [
      "Dash is running on http://0.0.0.0:8050/\n",
      "\n",
      " * Serving Flask app \"pkg.ui.dash_launcher\" (lazy loading)\n",
      " * Environment: production\n"
     ]
    }
   ],
   "source": [
    "from pkg.ui.ui_broker import *\n",
    "\n",
    "# start UI\n",
    "ui_broker = UIBroker.instance()\n",
    "ui_broker.initialize(ppline, s_builder)\n",
    "ui_broker.start_server()\n",
    "\n",
    "ui_broker.set_tables()"
   ]
  },
  {
   "cell_type": "code",
   "execution_count": null,
   "metadata": {},
   "outputs": [],
   "source": []
  },
  {
   "cell_type": "markdown",
   "metadata": {},
   "source": [
    "# Object Classes"
   ]
  },
  {
   "cell_type": "code",
   "execution_count": 12,
   "metadata": {},
   "outputs": [
    {
     "name": "stdout",
     "output_type": "stream",
     "text": [
      "   WARNING: This is a development server. Do not use it in a production deployment.\n",
      "   Use a production WSGI server instead.\n",
      " * Debug mode: off\n"
     ]
    }
   ],
   "source": [
    "from pkg.planning.constraint.constraint_subject import CustomObject, Grasp2Point, PlacePoint, SweepPoint, SweepTask\n",
    "from pkg.planning.filtering.lattice_model.scene_building import *\n",
    "\n",
    "##\n",
    "# @class WorkPlane\n",
    "# @brief working plane. target and obstacle objects are generated on this plane\n",
    "class WorkPlane(ObstacleBase):\n",
    "    RTH_MIN = (0.3, -np.pi/2, -0.1)\n",
    "    RTH_MAX = (0.5, +np.pi/2, +0.4)\n",
    "    RPY_MIN = (0, 0, 0)\n",
    "    RPY_MAX = (0, 0, 0)\n",
    "    DIM_MIN = (0.4, 0.6, 0.05)\n",
    "    DIM_MAX = (0.4, 0.6, 0.05)\n",
    "    GTYPE = GEOTYPE.BOX\n",
    "    COLOR=  (0.8,0.8,0.2,1)\n",
    "    \n",
    "    def __init__(self, gscene, name, floor_height=None, *args, **kwargs):\n",
    "        assert floor_height is not None, \"floor_height needed\"\n",
    "        if floor_height > self.RTH_MIN[2]:\n",
    "            self.RTH_MIN = self.RTH_MIN[:2]+(floor_height,)\n",
    "        self.H = 0.4\n",
    "        ObstacleBase.__init__(self, gscene, name, *args, **kwargs)\n",
    "        \n",
    "    def is_overlapped_with(self, gtem):\n",
    "        verts, radii = gtem.get_vertice_radius()\n",
    "        verts_global = np.add(np.matmul(verts, gtem.orientation_mat.transpose()), gtem.center)\n",
    "        verts_wp = np.multiply(DEFAULT_VERT_DICT[self.GTYPE], tuple(self.DIM[:2])+(self.H,))\n",
    "        verts_wp_global = np.add(np.matmul(verts_wp, self.geometry.orientation_mat.transpose()), \n",
    "                                 np.add(self.geometry.center, (0,0,self.H/2)))\n",
    "        return get_gjk_distance(get_point_list(verts_global), get_point_list(verts_wp_global))-radii < 1e-4\n",
    "            \n",
    "    \n",
    "##\n",
    "# @class Box\n",
    "# @brief box with the top and the front side open\n",
    "class Box(WorkPlane):\n",
    "    RPY_MIN = (0, 0, 0)\n",
    "    RPY_MAX = (0, 0, 0)\n",
    "    DIM_MIN = (0.3, 0.3, 0.05)\n",
    "    DIM_MAX = (0.6, 0.6, 0.05)\n",
    "    COLOR =  (0.8,0.8,0.2,0.5)\n",
    "    H_RANGE = (0.3, 0.6)\n",
    "    THICKNESS = 0.05\n",
    "    def __init__(self, gscene, name, H=None, **kwargs):\n",
    "        WorkPlane.__init__(self, gscene=gscene, name=name, **kwargs)\n",
    "        self.H = np.random.uniform(*self.H_RANGE) if H is None else H\n",
    "\n",
    "        ## back wall\n",
    "        self.subgeo_list.append(gscene.create_safe(\n",
    "            gtype=self.GTYPE, name=self.name+\"_bw\", link_name=\"base_link\", \n",
    "            dims=(self.THICKNESS, self.DIM[1], self.H), center=(self.DIM[0]/2+self.THICKNESS/2, 0,self.H/2), rpy=(0,0,0),\n",
    "            color=self.COLOR, display=True, collision=True, fixed=True,\n",
    "            parent=self.name))\n",
    "\n",
    "        ## left wall\n",
    "        self.subgeo_list.append(gscene.create_safe(\n",
    "            gtype=self.GTYPE, name=self.name+\"_lw\", link_name=\"base_link\", \n",
    "            dims=(self.DIM[0], self.THICKNESS, self.H), center=(0, -self.DIM[1]/2-self.THICKNESS/2, self.H/2), rpy=(0,0,0),\n",
    "            color=self.COLOR, display=True, collision=True, fixed=True,\n",
    "            parent=self.name))\n",
    "\n",
    "        ## right wall\n",
    "        self.subgeo_list.append(gscene.create_safe(\n",
    "            gtype=self.GTYPE, name=self.name+\"_rw\", link_name=\"base_link\", \n",
    "            dims=(self.DIM[0], self.THICKNESS, self.H), center=(0, self.DIM[1]/2+self.THICKNESS/2, self.H/2), rpy=(0,0,0),\n",
    "            color=self.COLOR, display=True, collision=True, fixed=True,\n",
    "            parent=self.name))\n",
    "\n",
    "        \n",
    "##\n",
    "# @class SideBox\n",
    "# @brief box with a side face open\n",
    "class SideBox(Box):\n",
    "    RTH_MIN = (0.3, -np.pi/2, -0.1)\n",
    "    RTH_MAX = (0.5, +np.pi/2, +0.4)\n",
    "    RPY_MIN = (0, 0, np.pi/6)\n",
    "    RPY_MAX = (0, 0, np.pi/6)\n",
    "    DIM_MIN = (0.4, 0.6, 0.05)\n",
    "    DIM_MAX = (0.4, 0.6, 0.05)\n",
    "    COLOR =  (0.2,0.2,0.8,1)\n",
    "    H_RANGE = (0.4, 0.4)\n",
    "    THICKNESS = 0.05\n",
    "    def __init__(self, gscene, name, **kwargs):\n",
    "        Box.__init__(self, gscene=gscene, name=name, **kwargs)\n",
    "\n",
    "        ## top\n",
    "        self.subgeo_list.append(gscene.create_safe(\n",
    "            gtype=self.GTYPE, name=self.name+\"_tp\", link_name=\"base_link\", \n",
    "            dims=(self.DIM[0], self.DIM[1], self.THICKNESS), center=(0, 0, self.H+self.THICKNESS/2), rpy=(0,0,0),\n",
    "            color=self.COLOR, display=True, collision=True, fixed=True,\n",
    "            parent=self.name))\n",
    "\n",
    "##\n",
    "# @class TopBox\n",
    "# @brief box with the top face open\n",
    "class TopBox(Box):\n",
    "    DIM_MIN = (0.3, 0.3, 0.05)\n",
    "    DIM_MAX = (0.6, 0.6, 0.05)\n",
    "    H_RANGE = (0.3, 0.6)\n",
    "    def __init__(self, gscene, name, **kwargs):\n",
    "        Box.__init__(self, gscene=gscene, name=name, **kwargs)\n",
    "\n",
    "        ## front wall\n",
    "        self.subgeo_list.append(gscene.create_safe(\n",
    "            gtype=self.GTYPE, name=self.name+\"_fw\", link_name=\"base_link\", \n",
    "            dims=(self.THICKNESS, self.DIM[1], self.H), center=(-self.DIM[0]/2-self.THICKNESS/2, 0,self.H/2), rpy=(0,0,0),\n",
    "            color=self.COLOR, display=True, collision=True, fixed=True,\n",
    "            parent=self.name))\n",
    "        \n",
    "##\n",
    "# @class Floor\n",
    "# @brief Floor - lowerbound of the workspace\n",
    "class Floor(ObstacleBase):\n",
    "    RTH_MIN = (0.0, 0, -0.5)\n",
    "    RTH_MAX = (0.0, 0, -0.5)\n",
    "    RPY_MIN = (0, 0, 0)\n",
    "    RPY_MAX = (0, 0, 0)\n",
    "    DIM_MIN = (3, 3, 0.1)\n",
    "    DIM_MAX = (3, 3, 0.1)\n",
    "    GTYPE = GEOTYPE.BOX\n",
    "    \n",
    "##\n",
    "# @class Pole\n",
    "# @brief occasional poles that obstruct robot motion\n",
    "class Pole(ObstacleBase):\n",
    "    RTH_MIN = (0.3, -np.pi, 0)\n",
    "    RTH_MAX = (0.3, +np.pi, 0)\n",
    "    RPY_MIN = (0, 0, -np.pi/6)\n",
    "    RPY_MAX = (0, 0, +np.pi/6)\n",
    "    DIM_MIN = (0.1, 0.1, 4)\n",
    "    DIM_MAX = (0.1, 0.1, 4)\n",
    "    GTYPE = GEOTYPE.BOX\n",
    "    COLOR = (0.7,0.7,0.7,0.3)\n",
    "    \n",
    "##\n",
    "# @class PlaneObstacle\n",
    "# @brief Obstacles on the workplane\n",
    "class PlaneObject(ObstacleBase):\n",
    "    RTH_MIN = (0.3, -np.pi/2, -0.2)\n",
    "    RTH_MAX = (0.8, +np.pi/2, +0.5)\n",
    "    RPY_MIN = (0, 0, -np.pi)\n",
    "    RPY_MAX = (0, 0, +np.pi)\n",
    "    DIM_MIN = (0.04, 0.1, 0.2)\n",
    "    DIM_MAX = (0.04, 0.1, 0.2)\n",
    "    GTYPE = GEOTYPE.BOX\n",
    "    COLOR =  (0.2,0.8,0.2,1)\n",
    "    def __init__(self, gscene, name, workplane, GRIP_DEPTH, CLEARANCE, XYZ_LOC=None, **kwargs):\n",
    "        self.GRIP_DEPTH = GRIP_DEPTH\n",
    "        ObstacleBase.__init__(self, gscene=gscene, name=name, **kwargs)\n",
    "        verts, radii = self.geometry.get_vertice_radius()\n",
    "        verts_rot = np.matmul(self.geometry.orientation_mat, verts.transpose()) ## verices with global orientaion\n",
    "        verts_rot_loc = np.matmul(workplane.geometry.Toff[:3,:3].transpose(), verts_rot) ## verices with local orientaion\n",
    "        max_verts = np.max(verts_rot_loc, axis=-1)\n",
    "        min_verts = np.min(verts_rot_loc, axis=-1)\n",
    "        if XYZ_LOC is None:\n",
    "            self.XYZ_LOC = np.random.uniform(np.negative(workplane.DIM)/2-min_verts+radii,np.array(workplane.DIM)/2-max_verts-radii)\n",
    "            self.XYZ_LOC[2] = workplane.DIM[2]/2 + self.DIM[2]/2 + CLEARANCE\n",
    "        else:\n",
    "            self.XYZ_LOC = self.XYZ_LOC\n",
    "        self.XYZ = np.matmul(workplane.geometry.Toff[:3,:3], self.XYZ_LOC) + workplane.geometry.Toff[:3,3]\n",
    "        self.geometry.set_offset_tf(center = self.XYZ)\n",
    "        self.RTH = cart2cyl(*self.XYZ)\n",
    "        gscene.update_marker(self.geometry)    \n",
    "           \n",
    "def disperse_objects(gscene, object_class, key, Nmax, workplane_on, GRIP_DEPTH, CLEARANCE=1e-3):\n",
    "    clear_class(gscene, key, Nmax)\n",
    "        \n",
    "    obs_list = []\n",
    "    while len(obs_list)<Nmax:\n",
    "        iw = len(obs_list)\n",
    "        obs = object_class(gscene, \"{}_{}\".format(key, iw), workplane_on, GRIP_DEPTH=GRIP_DEPTH, CLEARANCE=CLEARANCE)\n",
    "        remove_this = False\n",
    "        for obs_pre in obs_list:\n",
    "            if obs_pre.is_overlapped_with(obs.geometry):\n",
    "                remove_this = True\n",
    "                break\n",
    "        if remove_this:\n",
    "            gscene.remove(obs.geometry)\n",
    "        else:\n",
    "            obs_list.append(obs)\n",
    "    return obs_list"
   ]
  },
  {
   "cell_type": "code",
   "execution_count": 13,
   "metadata": {},
   "outputs": [
    {
     "name": "stdout",
     "output_type": "stream",
     "text": [
      "\n",
      "DATASET_PATH: /home/rnb/Projects/rnb-planning/data/stowing-deep/indy7gripper/20210828-025224\n",
      "\n"
     ]
    }
   ],
   "source": [
    "ROBOT_DATA_ROOT = os.path.join(TEST_DATA_PATH, ROBOT_TYPE.name)\n",
    "try_mkdir(ROBOT_DATA_ROOT)\n",
    "\n",
    "DATASET_PATH = os.path.join(ROBOT_DATA_ROOT, get_now())\n",
    "# DATASET_PATH = os.path.join(ROBOT_DATA_ROOT, '20210223-051658')\n",
    "try_mkdir(DATASET_PATH)\n",
    "print(\"\")\n",
    "print(\"DATASET_PATH: {}\".format(DATASET_PATH))\n",
    "print(\"\")"
   ]
  },
  {
   "cell_type": "code",
   "execution_count": null,
   "metadata": {},
   "outputs": [],
   "source": []
  },
  {
   "cell_type": "code",
   "execution_count": null,
   "metadata": {},
   "outputs": [],
   "source": []
  },
  {
   "cell_type": "code",
   "execution_count": null,
   "metadata": {},
   "outputs": [],
   "source": []
  },
  {
   "cell_type": "code",
   "execution_count": null,
   "metadata": {},
   "outputs": [],
   "source": []
  },
  {
   "cell_type": "markdown",
   "metadata": {},
   "source": [
    "### sampling 1-obj"
   ]
  },
  {
   "cell_type": "code",
   "execution_count": 14,
   "metadata": {
    "scrolled": true
   },
   "outputs": [
    {
     "name": "stdout",
     "output_type": "stream",
     "text": [
      "============ STEP (0 / 100) / Elapsed: 0.1 s / ETA: 7.6 s =============\n",
      "============ STEP (1 / 100) / Elapsed: 0.3 s / ETA: 15.4 s =============\n",
      "============ STEP (2 / 100) / Elapsed: 0.4 s / ETA: 14.1 s =============\n",
      "============ STEP (3 / 100) / Elapsed: 0.5 s / ETA: 13.5 s =============\n",
      "============ STEP (4 / 100) / Elapsed: 0.8 s / ETA: 15.5 s =============\n",
      "============ STEP (5 / 100) / Elapsed: 0.9 s / ETA: 14.9 s =============\n",
      "============ STEP (6 / 100) / Elapsed: 1.1 s / ETA: 16.1 s =============\n",
      "============ STEP (7 / 100) / Elapsed: 1.2 s / ETA: 15.5 s =============\n",
      "============ STEP (8 / 100) / Elapsed: 1.5 s / ETA: 16.4 s =============\n",
      "============ STEP (9 / 100) / Elapsed: 1.6 s / ETA: 15.9 s =============\n",
      "============ STEP (10 / 100) / Elapsed: 1.8 s / ETA: 16.1 s =============\n",
      "============ STEP (11 / 100) / Elapsed: 1.9 s / ETA: 15.7 s =============\n",
      "============ STEP (12 / 100) / Elapsed: 2.0 s / ETA: 15.4 s =============\n",
      "============ STEP (13 / 100) / Elapsed: 2.1 s / ETA: 15.1 s =============\n",
      "============ STEP (14 / 100) / Elapsed: 2.3 s / ETA: 15.7 s =============\n",
      "============ STEP (15 / 100) / Elapsed: 2.5 s / ETA: 15.4 s =============\n",
      "============ STEP (16 / 100) / Elapsed: 2.6 s / ETA: 15.5 s =============\n",
      "============ STEP (17 / 100) / Elapsed: 2.8 s / ETA: 15.3 s =============\n",
      "============ STEP (18 / 100) / Elapsed: 2.9 s / ETA: 15.1 s =============\n",
      "============ STEP (19 / 100) / Elapsed: 3.0 s / ETA: 15.0 s =============\n",
      "============ STEP (20 / 100) / Elapsed: 3.1 s / ETA: 14.8 s =============\n",
      "============ STEP (21 / 100) / Elapsed: 3.2 s / ETA: 14.7 s =============\n",
      "============ STEP (22 / 100) / Elapsed: 3.3 s / ETA: 14.5 s =============\n",
      "============ STEP (23 / 100) / Elapsed: 3.6 s / ETA: 14.9 s =============\n",
      "============ STEP (24 / 100) / Elapsed: 3.8 s / ETA: 15.2 s =============\n",
      "============ STEP (25 / 100) / Elapsed: 4.0 s / ETA: 15.3 s =============\n",
      "============ STEP (26 / 100) / Elapsed: 4.1 s / ETA: 15.2 s =============\n",
      "============ STEP (27 / 100) / Elapsed: 4.2 s / ETA: 15.1 s =============\n",
      "============ STEP (28 / 100) / Elapsed: 4.4 s / ETA: 15.3 s =============\n",
      "============ STEP (29 / 100) / Elapsed: 4.6 s / ETA: 15.4 s =============\n",
      "============ STEP (30 / 100) / Elapsed: 4.8 s / ETA: 15.5 s =============\n",
      "============ STEP (31 / 100) / Elapsed: 5.1 s / ETA: 16.1 s =============\n",
      "============ STEP (32 / 100) / Elapsed: 5.3 s / ETA: 16.1 s =============\n",
      "============ STEP (33 / 100) / Elapsed: 5.4 s / ETA: 16.0 s =============\n",
      "============ STEP (34 / 100) / Elapsed: 5.6 s / ETA: 15.9 s =============\n",
      "============ STEP (35 / 100) / Elapsed: 5.8 s / ETA: 16.1 s =============\n",
      "============ STEP (36 / 100) / Elapsed: 5.9 s / ETA: 16.0 s =============\n",
      "============ STEP (37 / 100) / Elapsed: 6.0 s / ETA: 15.9 s =============\n",
      "============ STEP (38 / 100) / Elapsed: 6.2 s / ETA: 15.9 s =============\n",
      "============ STEP (39 / 100) / Elapsed: 6.4 s / ETA: 15.9 s =============\n",
      "============ STEP (40 / 100) / Elapsed: 6.7 s / ETA: 16.3 s =============\n",
      "============ STEP (41 / 100) / Elapsed: 7.1 s / ETA: 16.8 s =============\n",
      "============ STEP (42 / 100) / Elapsed: 7.2 s / ETA: 16.7 s =============\n",
      "============ STEP (43 / 100) / Elapsed: 7.4 s / ETA: 16.9 s =============\n",
      "============ STEP (44 / 100) / Elapsed: 7.6 s / ETA: 16.9 s =============\n",
      "============ STEP (45 / 100) / Elapsed: 7.8 s / ETA: 17.0 s =============\n",
      "============ STEP (46 / 100) / Elapsed: 7.9 s / ETA: 16.9 s =============\n",
      "============ STEP (47 / 100) / Elapsed: 8.1 s / ETA: 16.8 s =============\n",
      "============ STEP (48 / 100) / Elapsed: 8.2 s / ETA: 16.7 s =============\n",
      "============ STEP (49 / 100) / Elapsed: 8.5 s / ETA: 17.1 s =============\n"
     ]
    },
    {
     "ename": "KeyboardInterrupt",
     "evalue": "",
     "output_type": "error",
     "traceback": [
      "\u001b[0;31m---------------------------------------------------------------------------\u001b[0m",
      "\u001b[0;31mKeyboardInterrupt\u001b[0m                         Traceback (most recent call last)",
      "\u001b[0;32m<ipython-input-14-76b79b47a902>\u001b[0m in \u001b[0;36m<module>\u001b[0;34m()\u001b[0m\n\u001b[1;32m     28\u001b[0m     \u001b[0;32mwhile\u001b[0m \u001b[0mgp_colliding\u001b[0m\u001b[0;34m:\u001b[0m\u001b[0;34m\u001b[0m\u001b[0m\n\u001b[1;32m     29\u001b[0m         \u001b[0;31m## set goalplane\u001b[0m\u001b[0;34m\u001b[0m\u001b[0;34m\u001b[0m\u001b[0m\n\u001b[0;32m---> 30\u001b[0;31m         \u001b[0mgp\u001b[0m \u001b[0;34m=\u001b[0m \u001b[0mSideBox\u001b[0m\u001b[0;34m(\u001b[0m\u001b[0mgscene\u001b[0m\u001b[0;34m,\u001b[0m \u001b[0;34m\"gp\"\u001b[0m\u001b[0;34m,\u001b[0m \u001b[0mfloor_height\u001b[0m\u001b[0;34m=\u001b[0m\u001b[0mwp\u001b[0m\u001b[0;34m.\u001b[0m\u001b[0mRTH\u001b[0m\u001b[0;34m[\u001b[0m\u001b[0;36m2\u001b[0m\u001b[0;34m]\u001b[0m\u001b[0;34m+\u001b[0m\u001b[0mwp\u001b[0m\u001b[0;34m.\u001b[0m\u001b[0mRTH\u001b[0m\u001b[0;34m[\u001b[0m\u001b[0;36m2\u001b[0m\u001b[0;34m]\u001b[0m\u001b[0;34m/\u001b[0m\u001b[0;36m2\u001b[0m\u001b[0;34m)\u001b[0m\u001b[0;34m\u001b[0m\u001b[0m\n\u001b[0m\u001b[1;32m     31\u001b[0m         \u001b[0mgp_colliding\u001b[0m \u001b[0;34m=\u001b[0m \u001b[0mwp\u001b[0m\u001b[0;34m.\u001b[0m\u001b[0mis_overlapped_with\u001b[0m\u001b[0;34m(\u001b[0m\u001b[0mgp\u001b[0m\u001b[0;34m.\u001b[0m\u001b[0mgeometry\u001b[0m\u001b[0;34m)\u001b[0m\u001b[0;34m\u001b[0m\u001b[0m\n\u001b[1;32m     32\u001b[0m     \u001b[0mpscene\u001b[0m\u001b[0;34m.\u001b[0m\u001b[0mcreate_binder\u001b[0m\u001b[0;34m(\u001b[0m\u001b[0mbname\u001b[0m\u001b[0;34m=\u001b[0m\u001b[0;34m\"gp\"\u001b[0m\u001b[0;34m,\u001b[0m \u001b[0mgname\u001b[0m\u001b[0;34m=\u001b[0m\u001b[0;34m\"gp\"\u001b[0m\u001b[0;34m,\u001b[0m \u001b[0m_type\u001b[0m\u001b[0;34m=\u001b[0m\u001b[0mPlacePlane\u001b[0m\u001b[0;34m,\u001b[0m \u001b[0mpoint\u001b[0m\u001b[0;34m=\u001b[0m\u001b[0mNone\u001b[0m\u001b[0;34m)\u001b[0m\u001b[0;34m\u001b[0m\u001b[0m\n",
      "\u001b[0;32m<ipython-input-12-ab4b3f29553e>\u001b[0m in \u001b[0;36m__init__\u001b[0;34m(self, gscene, name, **kwargs)\u001b[0m\n\u001b[1;32m     82\u001b[0m     \u001b[0mTHICKNESS\u001b[0m \u001b[0;34m=\u001b[0m \u001b[0;36m0.05\u001b[0m\u001b[0;34m\u001b[0m\u001b[0m\n\u001b[1;32m     83\u001b[0m     \u001b[0;32mdef\u001b[0m \u001b[0m__init__\u001b[0m\u001b[0;34m(\u001b[0m\u001b[0mself\u001b[0m\u001b[0;34m,\u001b[0m \u001b[0mgscene\u001b[0m\u001b[0;34m,\u001b[0m \u001b[0mname\u001b[0m\u001b[0;34m,\u001b[0m \u001b[0;34m**\u001b[0m\u001b[0mkwargs\u001b[0m\u001b[0;34m)\u001b[0m\u001b[0;34m:\u001b[0m\u001b[0;34m\u001b[0m\u001b[0m\n\u001b[0;32m---> 84\u001b[0;31m         \u001b[0mBox\u001b[0m\u001b[0;34m.\u001b[0m\u001b[0m__init__\u001b[0m\u001b[0;34m(\u001b[0m\u001b[0mself\u001b[0m\u001b[0;34m,\u001b[0m \u001b[0mgscene\u001b[0m\u001b[0;34m=\u001b[0m\u001b[0mgscene\u001b[0m\u001b[0;34m,\u001b[0m \u001b[0mname\u001b[0m\u001b[0;34m=\u001b[0m\u001b[0mname\u001b[0m\u001b[0;34m,\u001b[0m \u001b[0;34m**\u001b[0m\u001b[0mkwargs\u001b[0m\u001b[0;34m)\u001b[0m\u001b[0;34m\u001b[0m\u001b[0m\n\u001b[0m\u001b[1;32m     85\u001b[0m \u001b[0;34m\u001b[0m\u001b[0m\n\u001b[1;32m     86\u001b[0m         \u001b[0;31m## top\u001b[0m\u001b[0;34m\u001b[0m\u001b[0;34m\u001b[0m\u001b[0m\n",
      "\u001b[0;32m<ipython-input-12-ab4b3f29553e>\u001b[0m in \u001b[0;36m__init__\u001b[0;34m(self, gscene, name, H, **kwargs)\u001b[0m\n\u001b[1;32m     43\u001b[0m     \u001b[0mTHICKNESS\u001b[0m \u001b[0;34m=\u001b[0m \u001b[0;36m0.05\u001b[0m\u001b[0;34m\u001b[0m\u001b[0m\n\u001b[1;32m     44\u001b[0m     \u001b[0;32mdef\u001b[0m \u001b[0m__init__\u001b[0m\u001b[0;34m(\u001b[0m\u001b[0mself\u001b[0m\u001b[0;34m,\u001b[0m \u001b[0mgscene\u001b[0m\u001b[0;34m,\u001b[0m \u001b[0mname\u001b[0m\u001b[0;34m,\u001b[0m \u001b[0mH\u001b[0m\u001b[0;34m=\u001b[0m\u001b[0mNone\u001b[0m\u001b[0;34m,\u001b[0m \u001b[0;34m**\u001b[0m\u001b[0mkwargs\u001b[0m\u001b[0;34m)\u001b[0m\u001b[0;34m:\u001b[0m\u001b[0;34m\u001b[0m\u001b[0m\n\u001b[0;32m---> 45\u001b[0;31m         \u001b[0mWorkPlane\u001b[0m\u001b[0;34m.\u001b[0m\u001b[0m__init__\u001b[0m\u001b[0;34m(\u001b[0m\u001b[0mself\u001b[0m\u001b[0;34m,\u001b[0m \u001b[0mgscene\u001b[0m\u001b[0;34m=\u001b[0m\u001b[0mgscene\u001b[0m\u001b[0;34m,\u001b[0m \u001b[0mname\u001b[0m\u001b[0;34m=\u001b[0m\u001b[0mname\u001b[0m\u001b[0;34m,\u001b[0m \u001b[0;34m**\u001b[0m\u001b[0mkwargs\u001b[0m\u001b[0;34m)\u001b[0m\u001b[0;34m\u001b[0m\u001b[0m\n\u001b[0m\u001b[1;32m     46\u001b[0m         \u001b[0mself\u001b[0m\u001b[0;34m.\u001b[0m\u001b[0mH\u001b[0m \u001b[0;34m=\u001b[0m \u001b[0mnp\u001b[0m\u001b[0;34m.\u001b[0m\u001b[0mrandom\u001b[0m\u001b[0;34m.\u001b[0m\u001b[0muniform\u001b[0m\u001b[0;34m(\u001b[0m\u001b[0;34m*\u001b[0m\u001b[0mself\u001b[0m\u001b[0;34m.\u001b[0m\u001b[0mH_RANGE\u001b[0m\u001b[0;34m)\u001b[0m \u001b[0;32mif\u001b[0m \u001b[0mH\u001b[0m \u001b[0;32mis\u001b[0m \u001b[0mNone\u001b[0m \u001b[0;32melse\u001b[0m \u001b[0mH\u001b[0m\u001b[0;34m\u001b[0m\u001b[0m\n\u001b[1;32m     47\u001b[0m \u001b[0;34m\u001b[0m\u001b[0m\n",
      "\u001b[0;32m<ipython-input-12-ab4b3f29553e>\u001b[0m in \u001b[0;36m__init__\u001b[0;34m(self, gscene, name, floor_height, *args, **kwargs)\u001b[0m\n\u001b[1;32m     20\u001b[0m             \u001b[0mself\u001b[0m\u001b[0;34m.\u001b[0m\u001b[0mRTH_MIN\u001b[0m \u001b[0;34m=\u001b[0m \u001b[0mself\u001b[0m\u001b[0;34m.\u001b[0m\u001b[0mRTH_MIN\u001b[0m\u001b[0;34m[\u001b[0m\u001b[0;34m:\u001b[0m\u001b[0;36m2\u001b[0m\u001b[0;34m]\u001b[0m\u001b[0;34m+\u001b[0m\u001b[0;34m(\u001b[0m\u001b[0mfloor_height\u001b[0m\u001b[0;34m,\u001b[0m\u001b[0;34m)\u001b[0m\u001b[0;34m\u001b[0m\u001b[0m\n\u001b[1;32m     21\u001b[0m         \u001b[0mself\u001b[0m\u001b[0;34m.\u001b[0m\u001b[0mH\u001b[0m \u001b[0;34m=\u001b[0m \u001b[0;36m0.4\u001b[0m\u001b[0;34m\u001b[0m\u001b[0m\n\u001b[0;32m---> 22\u001b[0;31m         \u001b[0mObstacleBase\u001b[0m\u001b[0;34m.\u001b[0m\u001b[0m__init__\u001b[0m\u001b[0;34m(\u001b[0m\u001b[0mself\u001b[0m\u001b[0;34m,\u001b[0m \u001b[0mgscene\u001b[0m\u001b[0;34m,\u001b[0m \u001b[0mname\u001b[0m\u001b[0;34m,\u001b[0m \u001b[0;34m*\u001b[0m\u001b[0margs\u001b[0m\u001b[0;34m,\u001b[0m \u001b[0;34m**\u001b[0m\u001b[0mkwargs\u001b[0m\u001b[0;34m)\u001b[0m\u001b[0;34m\u001b[0m\u001b[0m\n\u001b[0m\u001b[1;32m     23\u001b[0m \u001b[0;34m\u001b[0m\u001b[0m\n\u001b[1;32m     24\u001b[0m     \u001b[0;32mdef\u001b[0m \u001b[0mis_overlapped_with\u001b[0m\u001b[0;34m(\u001b[0m\u001b[0mself\u001b[0m\u001b[0;34m,\u001b[0m \u001b[0mgtem\u001b[0m\u001b[0;34m)\u001b[0m\u001b[0;34m:\u001b[0m\u001b[0;34m\u001b[0m\u001b[0m\n",
      "\u001b[0;32m/home/rnb/Projects/rnb-planning/src/pkg/planning/filtering/lattice_model/scene_building.pyc\u001b[0m in \u001b[0;36m__init__\u001b[0;34m(self, gscene, name, sampler, DIM, RTH, RPY)\u001b[0m\n\u001b[1;32m     33\u001b[0m         self.geometry = gscene.create_safe(gtype=self.GTYPE, name=self.name, link_name=\"base_link\", \n\u001b[1;32m     34\u001b[0m                                   \u001b[0mdims\u001b[0m\u001b[0;34m=\u001b[0m\u001b[0mself\u001b[0m\u001b[0;34m.\u001b[0m\u001b[0mDIM\u001b[0m\u001b[0;34m,\u001b[0m \u001b[0mcenter\u001b[0m\u001b[0;34m=\u001b[0m\u001b[0mtuple\u001b[0m\u001b[0;34m(\u001b[0m\u001b[0mself\u001b[0m\u001b[0;34m.\u001b[0m\u001b[0mXYZ\u001b[0m\u001b[0;34m)\u001b[0m\u001b[0;34m,\u001b[0m \u001b[0mrpy\u001b[0m\u001b[0;34m=\u001b[0m\u001b[0mself\u001b[0m\u001b[0;34m.\u001b[0m\u001b[0mRPY\u001b[0m\u001b[0;34m,\u001b[0m\u001b[0;34m\u001b[0m\u001b[0m\n\u001b[0;32m---> 35\u001b[0;31m                                   color=self.COLOR, display=True, collision=True, fixed=True)\n\u001b[0m\u001b[1;32m     36\u001b[0m         \u001b[0mself\u001b[0m\u001b[0;34m.\u001b[0m\u001b[0msubgeo_list\u001b[0m \u001b[0;34m=\u001b[0m \u001b[0;34m[\u001b[0m\u001b[0;34m]\u001b[0m\u001b[0;34m\u001b[0m\u001b[0m\n\u001b[1;32m     37\u001b[0m \u001b[0;34m\u001b[0m\u001b[0m\n",
      "\u001b[0;32m/home/rnb/Projects/rnb-planning/src/pkg/geometry/geometry.pyc\u001b[0m in \u001b[0;36mcreate_safe\u001b[0;34m(self, gtype, name, link_name, dims, center, rpy, color, display, collision, fixed, **kwargs)\u001b[0m\n\u001b[1;32m    112\u001b[0m         \u001b[0;32mif\u001b[0m \u001b[0mname\u001b[0m \u001b[0;32min\u001b[0m \u001b[0mself\u001b[0m\u001b[0;34m.\u001b[0m\u001b[0mNAME_DICT\u001b[0m\u001b[0;34m:\u001b[0m\u001b[0;34m\u001b[0m\u001b[0m\n\u001b[1;32m    113\u001b[0m             \u001b[0mgtem\u001b[0m \u001b[0;34m=\u001b[0m \u001b[0mself\u001b[0m\u001b[0;34m.\u001b[0m\u001b[0mNAME_DICT\u001b[0m\u001b[0;34m[\u001b[0m\u001b[0mname\u001b[0m\u001b[0;34m]\u001b[0m\u001b[0;34m\u001b[0m\u001b[0m\n\u001b[0;32m--> 114\u001b[0;31m             \u001b[0mself\u001b[0m\u001b[0;34m.\u001b[0m\u001b[0mremove\u001b[0m\u001b[0;34m(\u001b[0m\u001b[0mgtem\u001b[0m\u001b[0;34m)\u001b[0m\u001b[0;34m\u001b[0m\u001b[0m\n\u001b[0m\u001b[1;32m    115\u001b[0m         \u001b[0;31m#     gtem.__init__(self, gtype=gtype, name=name, link_name=link_name,\u001b[0m\u001b[0;34m\u001b[0m\u001b[0;34m\u001b[0m\u001b[0m\n\u001b[1;32m    116\u001b[0m         \u001b[0;31m#                   center=center, rpy=rpy, dims=dims,\u001b[0m\u001b[0;34m\u001b[0m\u001b[0;34m\u001b[0m\u001b[0m\n",
      "\u001b[0;32m/home/rnb/Projects/rnb-planning/src/pkg/geometry/geometry.pyc\u001b[0m in \u001b[0;36mremove\u001b[0;34m(self, geo, call_from_parent)\u001b[0m\n\u001b[1;32m     77\u001b[0m     \u001b[0;32mdef\u001b[0m \u001b[0mremove\u001b[0m\u001b[0;34m(\u001b[0m\u001b[0mself\u001b[0m\u001b[0;34m,\u001b[0m \u001b[0mgeo\u001b[0m\u001b[0;34m,\u001b[0m \u001b[0mcall_from_parent\u001b[0m\u001b[0;34m=\u001b[0m\u001b[0mFalse\u001b[0m\u001b[0;34m)\u001b[0m\u001b[0;34m:\u001b[0m\u001b[0;34m\u001b[0m\u001b[0m\n\u001b[1;32m     78\u001b[0m         \u001b[0;32mfor\u001b[0m \u001b[0mchild\u001b[0m \u001b[0;32min\u001b[0m \u001b[0mgeo\u001b[0m\u001b[0;34m.\u001b[0m\u001b[0mchildren\u001b[0m\u001b[0;34m:\u001b[0m\u001b[0;34m\u001b[0m\u001b[0m\n\u001b[0;32m---> 79\u001b[0;31m             \u001b[0mself\u001b[0m\u001b[0;34m.\u001b[0m\u001b[0mremove\u001b[0m\u001b[0;34m(\u001b[0m\u001b[0mself\u001b[0m\u001b[0;34m.\u001b[0m\u001b[0mNAME_DICT\u001b[0m\u001b[0;34m[\u001b[0m\u001b[0mchild\u001b[0m\u001b[0;34m]\u001b[0m\u001b[0;34m,\u001b[0m \u001b[0mcall_from_parent\u001b[0m\u001b[0;34m=\u001b[0m\u001b[0mTrue\u001b[0m\u001b[0;34m)\u001b[0m\u001b[0;34m\u001b[0m\u001b[0m\n\u001b[0m\u001b[1;32m     80\u001b[0m         \u001b[0;32mif\u001b[0m \u001b[0;32mnot\u001b[0m \u001b[0mcall_from_parent\u001b[0m\u001b[0;34m:\u001b[0m\u001b[0;34m\u001b[0m\u001b[0m\n\u001b[1;32m     81\u001b[0m             \u001b[0;32mif\u001b[0m \u001b[0mgeo\u001b[0m\u001b[0;34m.\u001b[0m\u001b[0mparent\u001b[0m \u001b[0;32mis\u001b[0m \u001b[0;32mnot\u001b[0m \u001b[0mNone\u001b[0m\u001b[0;34m:\u001b[0m\u001b[0;34m\u001b[0m\u001b[0m\n",
      "\u001b[0;32m/home/rnb/Projects/rnb-planning/src/pkg/geometry/geometry.pyc\u001b[0m in \u001b[0;36mremove\u001b[0;34m(self, geo, call_from_parent)\u001b[0m\n\u001b[1;32m     82\u001b[0m                 \u001b[0mself\u001b[0m\u001b[0;34m.\u001b[0m\u001b[0mNAME_DICT\u001b[0m\u001b[0;34m[\u001b[0m\u001b[0mgeo\u001b[0m\u001b[0;34m.\u001b[0m\u001b[0mparent\u001b[0m\u001b[0;34m]\u001b[0m\u001b[0;34m.\u001b[0m\u001b[0mchildren\u001b[0m\u001b[0;34m.\u001b[0m\u001b[0mremove\u001b[0m\u001b[0;34m(\u001b[0m\u001b[0mgeo\u001b[0m\u001b[0;34m.\u001b[0m\u001b[0mname\u001b[0m\u001b[0;34m)\u001b[0m\u001b[0;34m\u001b[0m\u001b[0m\n\u001b[1;32m     83\u001b[0m         \u001b[0;32mif\u001b[0m \u001b[0mself\u001b[0m\u001b[0;34m.\u001b[0m\u001b[0mrviz\u001b[0m\u001b[0;34m:\u001b[0m\u001b[0;34m\u001b[0m\u001b[0m\n\u001b[0;32m---> 84\u001b[0;31m             \u001b[0mself\u001b[0m\u001b[0;34m.\u001b[0m\u001b[0m__remove_marker\u001b[0m\u001b[0;34m(\u001b[0m\u001b[0mgeo\u001b[0m\u001b[0;34m)\u001b[0m\u001b[0;34m\u001b[0m\u001b[0m\n\u001b[0m\u001b[1;32m     85\u001b[0m         \u001b[0mlist\u001b[0m\u001b[0;34m.\u001b[0m\u001b[0mremove\u001b[0m\u001b[0;34m(\u001b[0m\u001b[0mself\u001b[0m\u001b[0;34m,\u001b[0m \u001b[0mgeo\u001b[0m\u001b[0;34m)\u001b[0m\u001b[0;34m\u001b[0m\u001b[0m\n\u001b[1;32m     86\u001b[0m         \u001b[0;32mdel\u001b[0m \u001b[0mself\u001b[0m\u001b[0;34m.\u001b[0m\u001b[0mNAME_DICT\u001b[0m\u001b[0;34m[\u001b[0m\u001b[0mgeo\u001b[0m\u001b[0;34m.\u001b[0m\u001b[0mname\u001b[0m\u001b[0;34m]\u001b[0m\u001b[0;34m\u001b[0m\u001b[0m\n",
      "\u001b[0;32m/home/rnb/Projects/rnb-planning/src/pkg/geometry/geometry.pyc\u001b[0m in \u001b[0;36m__remove_marker\u001b[0;34m(self, gtem, sleep)\u001b[0m\n\u001b[1;32m    200\u001b[0m                 \u001b[0mdel_list\u001b[0m\u001b[0;34m.\u001b[0m\u001b[0mappend\u001b[0m\u001b[0;34m(\u001b[0m\u001b[0mmarker\u001b[0m\u001b[0;34m)\u001b[0m\u001b[0;34m\u001b[0m\u001b[0m\n\u001b[1;32m    201\u001b[0m         \u001b[0;32mfor\u001b[0m \u001b[0mmarker\u001b[0m \u001b[0;32min\u001b[0m \u001b[0mdel_list\u001b[0m\u001b[0;34m:\u001b[0m\u001b[0;34m\u001b[0m\u001b[0m\n\u001b[0;32m--> 202\u001b[0;31m             \u001b[0mmarker\u001b[0m\u001b[0;34m.\u001b[0m\u001b[0mdelete\u001b[0m\u001b[0;34m(\u001b[0m\u001b[0msleep\u001b[0m\u001b[0;34m=\u001b[0m\u001b[0msleep\u001b[0m\u001b[0;34m)\u001b[0m\u001b[0;34m\u001b[0m\u001b[0m\n\u001b[0m\u001b[1;32m    203\u001b[0m             \u001b[0mself\u001b[0m\u001b[0;34m.\u001b[0m\u001b[0mmarker_list\u001b[0m\u001b[0;34m.\u001b[0m\u001b[0mremove\u001b[0m\u001b[0;34m(\u001b[0m\u001b[0mmarker\u001b[0m\u001b[0;34m)\u001b[0m\u001b[0;34m\u001b[0m\u001b[0m\n\u001b[1;32m    204\u001b[0m \u001b[0;34m\u001b[0m\u001b[0m\n",
      "\u001b[0;32m/home/rnb/Projects/rnb-planning/src/pkg/geometry/ros_rviz.pyc\u001b[0m in \u001b[0;36mdelete\u001b[0;34m(self, sleep)\u001b[0m\n\u001b[1;32m    177\u001b[0m         \u001b[0mself\u001b[0m\u001b[0;34m.\u001b[0m\u001b[0mpub\u001b[0m\u001b[0;34m.\u001b[0m\u001b[0mpublish\u001b[0m\u001b[0;34m(\u001b[0m\u001b[0mself\u001b[0m\u001b[0;34m.\u001b[0m\u001b[0mmarker\u001b[0m\u001b[0;34m)\u001b[0m\u001b[0;34m\u001b[0m\u001b[0m\n\u001b[1;32m    178\u001b[0m         \u001b[0;32mif\u001b[0m \u001b[0msleep\u001b[0m\u001b[0;34m:\u001b[0m\u001b[0;34m\u001b[0m\u001b[0m\n\u001b[0;32m--> 179\u001b[0;31m             \u001b[0mtimer\u001b[0m\u001b[0;34m.\u001b[0m\u001b[0msleep\u001b[0m\u001b[0;34m(\u001b[0m\u001b[0;36m0.005\u001b[0m\u001b[0;34m)\u001b[0m\u001b[0;34m\u001b[0m\u001b[0m\n\u001b[0m\u001b[1;32m    180\u001b[0m         \u001b[0;32mfor\u001b[0m \u001b[0msmk\u001b[0m \u001b[0;32min\u001b[0m \u001b[0mself\u001b[0m\u001b[0;34m.\u001b[0m\u001b[0msubmarkers\u001b[0m\u001b[0;34m:\u001b[0m\u001b[0;34m\u001b[0m\u001b[0m\n\u001b[1;32m    181\u001b[0m             \u001b[0msmk\u001b[0m\u001b[0;34m.\u001b[0m\u001b[0maction\u001b[0m \u001b[0;34m=\u001b[0m \u001b[0mMarker\u001b[0m\u001b[0;34m.\u001b[0m\u001b[0mDELETE\u001b[0m\u001b[0;34m\u001b[0m\u001b[0m\n",
      "\u001b[0;31mKeyboardInterrupt\u001b[0m: "
     ]
    }
   ],
   "source": [
    "Nmax_obj = 1\n",
    "f_option = \"obj_1\"\n",
    "\n",
    "SAMPLE_NUM = 100\n",
    "\n",
    "SHOW_PERIOD = 0.01\n",
    "\n",
    "results_dict_1_shelf = defaultdict(list)\n",
    "# results_dict_3_plane = {int(k): v for k, v in load_json(os.path.join(DATASET_PATH, \"results_dict_3_plane.json\")).items()}\n",
    "\n",
    "\n",
    "gtimer = GlobalTimer.instance()\n",
    "gtimer.reset(stack=True)\n",
    "gtimer.tic(\"full_loop\")\n",
    "for i_s in range(SAMPLE_NUM):\n",
    "    ## add floor, ceiling\n",
    "    floor = Floor(gscene, \"floor\")\n",
    "    gscene.create_safe(gtype=GEOTYPE.BOX, name=\"base\", link_name=\"base_link\", \n",
    "                       dims=(0.2, 0.2, -floor.RTH[2]), center=(0,0,floor.RTH[2]/2), rpy=(0,0,0), \n",
    "                       color=floor.geometry.color, display=True, collision=True, fixed=True)\n",
    "    # ceiling = Ceiling(gscene, \"ceiling\")\n",
    "\n",
    "    ## set workplane\n",
    "    wp = WorkPlane(gscene, \"wp\", floor_height=floor.RTH[2]+floor.DIM[2]/2)\n",
    "    pscene.create_binder(bname=\"wp\", gname=\"wp\", _type=PlacePlane, point=None)\n",
    "\n",
    "    gp_colliding = True\n",
    "    while gp_colliding:\n",
    "        ## set goalplane\n",
    "        gp = SideBox(gscene, \"gp\", floor_height=wp.RTH[2]+wp.RTH[2]/2)\n",
    "        gp_colliding = wp.is_overlapped_with(gp.geometry)\n",
    "    pscene.create_binder(bname=\"gp\", gname=\"gp\", _type=PlacePlane, point=None)\n",
    "\n",
    "\n",
    "    ## add object\n",
    "    obj_list = disperse_objects(gscene, PlaneObject, \"obj\", Nmax_obj, workplane_on=wp, GRIP_DEPTH=GRIP_DEPTH, CLEARANCE=CLEARANCE)\n",
    "\n",
    "    gtem_args = gscene.get_gtem_args()\n",
    "    obj_args = {obj.name: {\"GRIP_DEPTH\": obj.GRIP_DEPTH, \"DIM\": obj.DIM, \"CLEARANCE\": CLEARANCE, \"gname\": obj.geometry.name} \n",
    "                for obj in obj_list}\n",
    "    \n",
    "    save_pickle(os.path.join(DATASET_PATH, \"data_\"+f_option+\"_%02d.pkl\"%i_s), \n",
    "                {\"gtem_args\":gtem_args, \"obj_args\": obj_args})\n",
    "    gscene.update_markers_all()\n",
    "    print(\"============ STEP ({} / {}) / Elapsed: {} s / ETA: {} s =============\".format(i_s, SAMPLE_NUM,\n",
    "                                     *np.round(np.divide(gtimer.eta(\"full_loop\", i_s+1, SAMPLE_NUM), 1000), 1)))"
   ]
  },
  {
   "cell_type": "code",
   "execution_count": null,
   "metadata": {},
   "outputs": [],
   "source": []
  },
  {
   "cell_type": "markdown",
   "metadata": {},
   "source": [
    "### sampling 3-obj"
   ]
  },
  {
   "cell_type": "code",
   "execution_count": null,
   "metadata": {
    "scrolled": true
   },
   "outputs": [],
   "source": [
    "Nmax_obj = 3\n",
    "f_option = \"obj_3\"\n",
    "\n",
    "SAMPLE_NUM = 100\n",
    "\n",
    "SHOW_PERIOD = 0.01\n",
    "\n",
    "results_dict_1_shelf = defaultdict(list)\n",
    "# results_dict_3_plane = {int(k): v for k, v in load_json(os.path.join(DATASET_PATH, \"results_dict_3_plane.json\")).items()}\n",
    "\n",
    "\n",
    "gtimer = GlobalTimer.instance()\n",
    "gtimer.reset(stack=True)\n",
    "gtimer.tic(\"full_loop\")\n",
    "for i_s in range(SAMPLE_NUM):\n",
    "    ## add floor, ceiling\n",
    "    floor = Floor(gscene, \"floor\")\n",
    "    gscene.create_safe(gtype=GEOTYPE.BOX, name=\"base\", link_name=\"base_link\", \n",
    "                       dims=(0.2, 0.2, -floor.RTH[2]), center=(0,0,floor.RTH[2]/2), rpy=(0,0,0), \n",
    "                       color=floor.geometry.color, display=True, collision=True, fixed=True)\n",
    "    # ceiling = Ceiling(gscene, \"ceiling\")\n",
    "\n",
    "    ## set workplane\n",
    "    wp = WorkPlane(gscene, \"wp\", floor_height=floor.RTH[2]+floor.DIM[2]/2)\n",
    "    pscene.create_binder(bname=\"wp\", gname=\"wp\", _type=PlacePlane, point=None)\n",
    "\n",
    "    gp_colliding = True\n",
    "    while gp_colliding:\n",
    "        ## set goalplane\n",
    "        gp = SideBox(gscene, \"gp\", floor_height=wp.RTH[2]+wp.RTH[2]/2)\n",
    "        gp_colliding = wp.is_overlapped_with(gp.geometry)\n",
    "    pscene.create_binder(bname=\"gp\", gname=\"gp\", _type=PlacePlane, point=None)\n",
    "\n",
    "\n",
    "    ## add object\n",
    "    obj_list = disperse_objects(gscene, PlaneObject, \"obj\", Nmax_obj, workplane_on=wp, GRIP_DEPTH=GRIP_DEPTH, CLEARANCE=CLEARANCE)\n",
    "\n",
    "    gtem_args = gscene.get_gtem_args()\n",
    "    obj_args = {obj.name: {\"GRIP_DEPTH\": obj.GRIP_DEPTH, \"DIM\": obj.DIM, \"CLEARANCE\": CLEARANCE, \"gname\": obj.geometry.name} \n",
    "                for obj in obj_list}\n",
    "    \n",
    "    save_pickle(os.path.join(DATASET_PATH, \"data_\"+f_option+\"_%02d.pkl\"%i_s), \n",
    "                {\"gtem_args\":gtem_args, \"obj_args\": obj_args})\n",
    "    gscene.update_markers_all()\n",
    "    print(\"============ STEP ({} / {}) / Elapsed: {} s / ETA: {} s =============\".format(i_s, SAMPLE_NUM,\n",
    "                                     *np.round(np.divide(gtimer.eta(\"full_loop\", i_s+1, SAMPLE_NUM), 1000), 1)))"
   ]
  },
  {
   "cell_type": "code",
   "execution_count": null,
   "metadata": {},
   "outputs": [],
   "source": []
  },
  {
   "cell_type": "markdown",
   "metadata": {},
   "source": [
    "## sample with pole"
   ]
  },
  {
   "cell_type": "code",
   "execution_count": null,
   "metadata": {
    "scrolled": true
   },
   "outputs": [],
   "source": [
    "Nmax_obj = 3\n",
    "f_option = \"obj_3_pole\"\n",
    "\n",
    "SAMPLE_NUM = 100\n",
    "\n",
    "SHOW_PERIOD = 0.01\n",
    "\n",
    "results_dict_1_shelf = defaultdict(list)\n",
    "# results_dict_3_plane = {int(k): v for k, v in load_json(os.path.join(DATASET_PATH, \"results_dict_3_plane.json\")).items()}\n",
    "\n",
    "\n",
    "gtimer = GlobalTimer.instance()\n",
    "gtimer.reset(stack=True)\n",
    "gtimer.tic(\"full_loop\")\n",
    "for i_s in range(SAMPLE_NUM):\n",
    "    ## add floor, ceiling\n",
    "    floor = Floor(gscene, \"floor\")\n",
    "    gscene.create_safe(gtype=GEOTYPE.BOX, name=\"base\", link_name=\"base_link\", \n",
    "                       dims=(0.2, 0.2, -floor.RTH[2]), center=(0,0,floor.RTH[2]/2), rpy=(0,0,0), \n",
    "                       color=floor.geometry.color, display=True, collision=True, fixed=True)\n",
    "    # ceiling = Ceiling(gscene, \"ceiling\")\n",
    "\n",
    "    ## set workplane\n",
    "    wp = WorkPlane(gscene, \"wp\", floor_height=floor.RTH[2]+floor.DIM[2]/2)\n",
    "    pscene.create_binder(bname=\"wp\", gname=\"wp\", _type=PlacePlane, point=None)\n",
    "\n",
    "    gp_colliding = True\n",
    "    while gp_colliding:\n",
    "        ## set goalplane\n",
    "        gp = SideBox(gscene, \"gp\", floor_height=wp.RTH[2]+wp.RTH[2]/2)\n",
    "        gp_colliding = wp.is_overlapped_with(gp.geometry)\n",
    "    pscene.create_binder(bname=\"gp\", gname=\"gp\", _type=PlacePlane, point=None)\n",
    "\n",
    "#     pole = Pole(gscene, \"pole\", RTH=[0.3, gp.RTH[1], 0])\n",
    "\n",
    "    Tgp = gp.geometry.get_tf(crob.home_pose)\n",
    "    Pp = (np.matmul(Tgp[:3,:3], np.transpose([[-0.3,0,0]])*(1+np.random.rand()))+Tgp[:3,3:]).flatten()\n",
    "\n",
    "    Ppcyl = cart2cyl(*Pp)\n",
    "    pole = Pole(gscene, \"pole\", RTH=[np.maximum(0.3,Ppcyl[0]-0.1), Ppcyl[1], 0])\n",
    "\n",
    "\n",
    "    ## add object\n",
    "    obj_list = disperse_objects(gscene, PlaneObject, \"obj\", Nmax_obj, workplane_on=wp, GRIP_DEPTH=GRIP_DEPTH, CLEARANCE=CLEARANCE)\n",
    "\n",
    "    gtem_args = gscene.get_gtem_args()\n",
    "    obj_args = {obj.name: {\"GRIP_DEPTH\": obj.GRIP_DEPTH, \"DIM\": obj.DIM, \"CLEARANCE\": CLEARANCE, \"gname\": obj.geometry.name} \n",
    "                for obj in obj_list}\n",
    "    \n",
    "    save_pickle(os.path.join(DATASET_PATH, \"data_\"+f_option+\"_%02d.pkl\"%i_s), \n",
    "                {\"gtem_args\":gtem_args, \"obj_args\": obj_args})\n",
    "    gscene.update_markers_all()\n",
    "    print(\"============ STEP ({} / {}) / Elapsed: {} s / ETA: {} s =============\".format(i_s, SAMPLE_NUM,\n",
    "                                     *np.round(np.divide(gtimer.eta(\"full_loop\", i_s+1, SAMPLE_NUM), 1000), 1)))"
   ]
  },
  {
   "cell_type": "code",
   "execution_count": null,
   "metadata": {},
   "outputs": [],
   "source": []
  },
  {
   "cell_type": "markdown",
   "metadata": {},
   "source": [
    "## sample difficult"
   ]
  },
  {
   "cell_type": "code",
   "execution_count": null,
   "metadata": {},
   "outputs": [],
   "source": [
    "##\n",
    "# @class SideBox\n",
    "# @brief box with a side face open\n",
    "class SideBox(Box):\n",
    "    RTH_MIN = (0.3, -np.pi/2, -0.1)\n",
    "    RTH_MAX = (0.5, +np.pi/2, +0.4)\n",
    "    RPY_MIN = (0, 0, np.pi/6)\n",
    "    RPY_MAX = (0, 0, np.pi/6)\n",
    "    DIM_MIN = (0.4, 0.8, 0.05)\n",
    "    DIM_MAX = (0.4, 0.8, 0.05)\n",
    "    COLOR =  (0.2,0.2,0.8,1)\n",
    "    H_RANGE = (0.4, 0.4)\n",
    "    THICKNESS = 0.05\n",
    "    def __init__(self, gscene, name, **kwargs):\n",
    "        Box.__init__(self, gscene=gscene, name=name, **kwargs)\n",
    "\n",
    "        ## top\n",
    "        self.subgeo_list.append(gscene.create_safe(\n",
    "            gtype=self.GTYPE, name=self.name+\"_tp\", link_name=\"base_link\", \n",
    "            dims=(self.DIM[0], self.DIM[1], self.THICKNESS), center=(0, 0, self.H+self.THICKNESS/2), rpy=(0,0,0),\n",
    "            color=self.COLOR, display=True, collision=True, fixed=True,\n",
    "            parent=self.name))\n",
    "        \n",
    "        \n",
    "\n",
    "WorkPlane.DIM_MIN = (0.6, 0.8, 0.05)\n",
    "WorkPlane.DIM_MAX = (0.6, 0.8, 0.05)\n",
    "\n",
    "\n",
    "Pole.DIM_MIN = (0.2, 0.2, 4)\n",
    "Pole.DIM_MAX = (0.2, 0.2, 4)\n",
    "\n",
    "PlaneObject.GTYPE = GEOTYPE.CYLINDER\n",
    "PlaneObject.DIM_MAX = (0.05,0.05,0.2)\n",
    "PlaneObject.DIM_MIN = (0.05,0.05,0.2)\n",
    "\n",
    "##\n",
    "# @class PlaneObstacle\n",
    "# @brief Obstacles on the workplane\n",
    "class PlaneObjectBig(ObstacleBase):\n",
    "    RTH_MIN = (0.3, -np.pi/2, -0.2)\n",
    "    RTH_MAX = (0.8, +np.pi/2, +0.5)\n",
    "    RPY_MIN = (0, 0, -np.pi)\n",
    "    RPY_MAX = (0, 0, +np.pi)\n",
    "    DIM_MIN = (0.2, 0.2, 0.4)\n",
    "    DIM_MAX = (0.2, 0.2, 0.4)\n",
    "    GTYPE = GEOTYPE.CYLINDER\n",
    "    COLOR =  (0.8,0.8,0.2,1)\n",
    "    def __init__(self, gscene, name, workplane, GRIP_DEPTH, CLEARANCE, XYZ_LOC=None, **kwargs):\n",
    "        self.GRIP_DEPTH = GRIP_DEPTH\n",
    "        ObstacleBase.__init__(self, gscene=gscene, name=name, **kwargs)\n",
    "        verts, radii = self.geometry.get_vertice_radius()\n",
    "        verts_rot = np.matmul(self.geometry.orientation_mat, verts.transpose()) ## verices with global orientaion\n",
    "        verts_rot_loc = np.matmul(workplane.geometry.Toff[:3,:3].transpose(), verts_rot) ## verices with local orientaion\n",
    "        max_verts = np.max(verts_rot_loc, axis=-1)\n",
    "        min_verts = np.min(verts_rot_loc, axis=-1)\n",
    "        if XYZ_LOC is None:\n",
    "            self.XYZ_LOC = np.random.uniform(np.negative(workplane.DIM)/2-min_verts+radii,np.array(workplane.DIM)/2-max_verts-radii)\n",
    "            self.XYZ_LOC[2] = workplane.DIM[2]/2 + self.DIM[2]/2 + CLEARANCE\n",
    "        else:\n",
    "            self.XYZ_LOC = self.XYZ_LOC\n",
    "        self.XYZ = np.matmul(workplane.geometry.Toff[:3,:3], self.XYZ_LOC) + workplane.geometry.Toff[:3,3]\n",
    "        self.geometry.set_offset_tf(center = self.XYZ)\n",
    "        self.RTH = cart2cyl(*self.XYZ)\n",
    "        gscene.update_marker(self.geometry)"
   ]
  },
  {
   "cell_type": "code",
   "execution_count": null,
   "metadata": {
    "scrolled": true
   },
   "outputs": [],
   "source": [
    "Nmax_obj = 3\n",
    "Nplane_obj  = 1\n",
    "f_option = \"obj_3_hard\"\n",
    "\n",
    "SAMPLE_NUM = 100\n",
    "\n",
    "SHOW_PERIOD = 0.01\n",
    "\n",
    "results_dict_1_shelf = defaultdict(list)\n",
    "# results_dict_3_plane = {int(k): v for k, v in load_json(os.path.join(DATASET_PATH, \"results_dict_3_plane.json\")).items()}\n",
    "\n",
    "\n",
    "gtimer = GlobalTimer.instance()\n",
    "gtimer.reset(stack=True)\n",
    "gtimer.tic(\"full_loop\")\n",
    "for i_s in range(SAMPLE_NUM):\n",
    "    ## add floor, ceiling\n",
    "    floor = Floor(gscene, \"floor\")\n",
    "    gscene.create_safe(gtype=GEOTYPE.BOX, name=\"base\", link_name=\"base_link\", \n",
    "                       dims=(0.2, 0.2, -floor.RTH[2]), center=(0,0,floor.RTH[2]/2), rpy=(0,0,0), \n",
    "                       color=floor.geometry.color, display=True, collision=True, fixed=True)\n",
    "    # ceiling = Ceiling(gscene, \"ceiling\")\n",
    "\n",
    "    ## set goalplane\n",
    "    gp = WorkPlane(gscene, \"gp\", floor_height=floor.RTH[2]+floor.DIM[2]/2)\n",
    "    pscene.create_binder(bname=\"gp\", gname=\"gp\", _type=PlacePlane, point=None)\n",
    "\n",
    "    gp_colliding = True\n",
    "    while gp_colliding:\n",
    "        ## set workplane\n",
    "        wp = SideBox(gscene, \"wp\", floor_height=gp.RTH[2]+gp.RTH[2]/2)\n",
    "        gp_colliding = gp.is_overlapped_with(wp.geometry)\n",
    "    pscene.create_binder(bname=\"wp\", gname=\"wp\", _type=PlacePlane, point=None)\n",
    "\n",
    "#     pole = Pole(gscene, \"pole\", RTH=[0.3, gp.RTH[1], 0])\n",
    "\n",
    "    Tgp = gp.geometry.get_tf(crob.home_pose)\n",
    "    Pp = (np.matmul(Tgp[:3,:3], np.transpose([[-0.3,0,0]])*(1+np.random.rand()))+Tgp[:3,3:]).flatten()\n",
    "\n",
    "#     Ppcyl = cart2cyl(*Pp)\n",
    "#     pole = Pole(gscene, \"pole\", RTH=[np.maximum(0.3,Ppcyl[0]-0.1), Ppcyl[1], 0])\n",
    "    pole = Pole(gscene, \"pole\")\n",
    "\n",
    "\n",
    "    ## add object\n",
    "    obj_list = disperse_objects(gscene, PlaneObject, \"obj\", Nmax_obj, workplane_on=wp, GRIP_DEPTH=GRIP_DEPTH, CLEARANCE=CLEARANCE)\n",
    "    disperse_objects(gscene, PlaneObjectBig, \"obs\", Nplane_obj, workplane_on=gp, GRIP_DEPTH=GRIP_DEPTH, CLEARANCE=CLEARANCE)\n",
    "\n",
    "    gtem_args = gscene.get_gtem_args()\n",
    "    obj_args = {obj.name: {\"GRIP_DEPTH\": obj.GRIP_DEPTH, \"DIM\": obj.DIM, \"CLEARANCE\": CLEARANCE, \"gname\": obj.geometry.name} \n",
    "                for obj in obj_list}\n",
    "    \n",
    "    # sort object data by x-pose in workspace\n",
    "    T_wp = wp.geometry.get_tf(crob.home_pose)\n",
    "    onames_original = sorted([obj_.name for obj_ in obj_list])\n",
    "    gargs_original = {garg[\"name\"]: garg for garg in gtem_args if garg[\"name\"] in onames_original}\n",
    "    onames_sorted = sorted(onames_original, \n",
    "                           key=lambda x: -np.matmul(SE3_inv(T_wp), gscene.NAME_DICT[x].get_tf(crob.home_pose))[0,3])\n",
    "    obj_args_bak = deepcopy(obj_args)\n",
    "    for oname_from, oname_to in zip(onames_sorted, onames_original):\n",
    "        for garg in gtem_args:\n",
    "            if garg[\"name\"] == oname_from:\n",
    "                garg[\"name\"] = oname_to+\"_xx\"\n",
    "            if garg[\"parent\"] == oname_from:\n",
    "                garg[\"parent\"] = oname_to+\"_xx\"\n",
    "        obj_args[oname_to] = deepcopy(obj_args_bak[oname_from])\n",
    "        obj_args[oname_to][\"gname\"] = obj_args_bak[oname_to][\"gname\"]\n",
    "    for garg in gtem_args:\n",
    "        if garg[\"name\"].endswith(\"_xx\"):\n",
    "            garg[\"name\"] = garg[\"name\"][:-3]\n",
    "        if garg[\"parent\"] is not None and garg[\"parent\"].endswith(\"_xx\"):\n",
    "            garg[\"parent\"] = garg[\"name\"][:-3]\n",
    "    \n",
    "    save_pickle(os.path.join(DATASET_PATH, \"data_\"+f_option+\"_%02d.pkl\"%i_s), \n",
    "                {\"gtem_args\":gtem_args, \"obj_args\": obj_args})\n",
    "    gscene.update_markers_all()\n",
    "    print(\"============ STEP ({} / {}) / Elapsed: {} s / ETA: {} s =============\".format(i_s, SAMPLE_NUM,\n",
    "                                     *np.round(np.divide(gtimer.eta(\"full_loop\", i_s+1, SAMPLE_NUM), 1000), 1)))"
   ]
  },
  {
   "cell_type": "code",
   "execution_count": null,
   "metadata": {},
   "outputs": [],
   "source": []
  },
  {
   "cell_type": "code",
   "execution_count": null,
   "metadata": {},
   "outputs": [],
   "source": []
  },
  {
   "cell_type": "code",
   "execution_count": null,
   "metadata": {},
   "outputs": [],
   "source": []
  },
  {
   "cell_type": "code",
   "execution_count": null,
   "metadata": {},
   "outputs": [],
   "source": []
  },
  {
   "cell_type": "code",
   "execution_count": null,
   "metadata": {},
   "outputs": [],
   "source": []
  },
  {
   "cell_type": "code",
   "execution_count": null,
   "metadata": {},
   "outputs": [],
   "source": []
  },
  {
   "cell_type": "code",
   "execution_count": null,
   "metadata": {},
   "outputs": [],
   "source": []
  },
  {
   "cell_type": "code",
   "execution_count": null,
   "metadata": {},
   "outputs": [],
   "source": []
  },
  {
   "cell_type": "code",
   "execution_count": null,
   "metadata": {},
   "outputs": [],
   "source": []
  },
  {
   "cell_type": "code",
   "execution_count": null,
   "metadata": {},
   "outputs": [],
   "source": []
  },
  {
   "cell_type": "code",
   "execution_count": null,
   "metadata": {},
   "outputs": [],
   "source": []
  },
  {
   "cell_type": "code",
   "execution_count": null,
   "metadata": {},
   "outputs": [],
   "source": []
  },
  {
   "cell_type": "code",
   "execution_count": null,
   "metadata": {},
   "outputs": [],
   "source": []
  },
  {
   "cell_type": "code",
   "execution_count": null,
   "metadata": {},
   "outputs": [],
   "source": []
  },
  {
   "cell_type": "code",
   "execution_count": null,
   "metadata": {},
   "outputs": [],
   "source": []
  },
  {
   "cell_type": "code",
   "execution_count": null,
   "metadata": {},
   "outputs": [],
   "source": []
  },
  {
   "cell_type": "code",
   "execution_count": null,
   "metadata": {},
   "outputs": [],
   "source": []
  },
  {
   "cell_type": "code",
   "execution_count": null,
   "metadata": {},
   "outputs": [],
   "source": []
  },
  {
   "cell_type": "code",
   "execution_count": null,
   "metadata": {},
   "outputs": [],
   "source": []
  },
  {
   "cell_type": "code",
   "execution_count": null,
   "metadata": {},
   "outputs": [],
   "source": []
  },
  {
   "cell_type": "code",
   "execution_count": null,
   "metadata": {},
   "outputs": [],
   "source": []
  },
  {
   "cell_type": "code",
   "execution_count": null,
   "metadata": {},
   "outputs": [],
   "source": []
  },
  {
   "cell_type": "code",
   "execution_count": null,
   "metadata": {},
   "outputs": [],
   "source": []
  },
  {
   "cell_type": "code",
   "execution_count": null,
   "metadata": {},
   "outputs": [],
   "source": []
  },
  {
   "cell_type": "code",
   "execution_count": null,
   "metadata": {},
   "outputs": [],
   "source": []
  },
  {
   "cell_type": "code",
   "execution_count": null,
   "metadata": {},
   "outputs": [],
   "source": []
  }
 ],
 "metadata": {
  "kernelspec": {
   "display_name": "Python 2",
   "language": "python",
   "name": "python2"
  },
  "language_info": {
   "codemirror_mode": {
    "name": "ipython",
    "version": 2
   },
   "file_extension": ".py",
   "mimetype": "text/x-python",
   "name": "python",
   "nbconvert_exporter": "python",
   "pygments_lexer": "ipython2",
   "version": "2.7.17"
  }
 },
 "nbformat": 4,
 "nbformat_minor": 2
}
