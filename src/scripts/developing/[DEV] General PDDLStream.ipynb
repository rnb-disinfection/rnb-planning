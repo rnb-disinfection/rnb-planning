{
 "cells": [
  {
   "cell_type": "markdown",
   "metadata": {},
   "source": [
    "## set running directory to project source"
   ]
  },
  {
   "cell_type": "code",
   "execution_count": 1,
   "metadata": {},
   "outputs": [],
   "source": [
    "import os\n",
    "import numpy as np\n",
    "import time\n",
    "os.chdir(os.path.join(os.environ[\"RNB_PLANNING_DIR\"], 'src'))"
   ]
  },
  {
   "cell_type": "code",
   "execution_count": null,
   "metadata": {},
   "outputs": [],
   "source": []
  },
  {
   "cell_type": "markdown",
   "metadata": {},
   "source": [
    "## 4.1 PlanningScene"
   ]
  },
  {
   "cell_type": "markdown",
   "metadata": {},
   "source": [
    "##### initialize CombinedRobot and GeometryScene"
   ]
  },
  {
   "cell_type": "code",
   "execution_count": 2,
   "metadata": {},
   "outputs": [
    {
     "name": "stdout",
     "output_type": "stream",
     "text": [
      "connection command:\n",
      "indy0: False\n",
      "Please create a subscriber to the marker\n",
      "publication OK\n",
      "published: [0, 0, 0, 0, 0, 0]\n",
      "Please create a subscriber to the marker\n"
     ]
    }
   ],
   "source": [
    "from pkg.controller.combined_robot import *\n",
    "from pkg.project_config import *\n",
    "from pkg.geometry.builder.scene_builder import SceneBuilder\n",
    "\n",
    "s_builder = SceneBuilder(None)   # create scene builder without detector for virtual scene\n",
    "crob = CombinedRobot(robots_on_scene=[\n",
    "    RobotConfig(0, RobotType.indy7, ((0,0,0), (0,0,0)), None)]\n",
    "                     , connection_list=[False])\n",
    "gscene = s_builder.create_gscene(crob)\n",
    "gtems = s_builder.add_robot_geometries(color=(0,1,0,0.5), display=True, collision=True)\n",
    "gscene.show_pose(crob.home_pose)"
   ]
  },
  {
   "cell_type": "markdown",
   "metadata": {},
   "source": [
    "##### add geometries"
   ]
  },
  {
   "cell_type": "code",
   "execution_count": 3,
   "metadata": {},
   "outputs": [],
   "source": [
    "from pkg.geometry.geometry import *\n",
    "\n",
    "# add environments (fixed=True for non-movable geometries)\n",
    "wall = gscene.create_safe(GEOTYPE.BOX, \"wall\", \"base_link\", (3,3,0.01), (-0.2,0,0), \n",
    "                           rpy=(0,np.pi/2,0), color=(0.8,0.8,0.8,0.5), display=True, fixed=True, collision=True)\n",
    "#wall2 = gscene.create_safe(GEOTYPE.BOX, \"wall2\", \"base_link\", (0.6,0.8,0.01), (0.5,0,0),\n",
    "#                            rpy=(np.pi/2,0,0), color=(0.8,0.8,0.8,0.5), display=True, fixed=True, collision=True)\n",
    "floor = gscene.create_safe(GEOTYPE.BOX, \"floor\", \"base_link\", (3,3,0.01), (0,0,0), \n",
    "                           rpy=np.random.rand(3)*0, color=(0.8,0.8,0.8,0.5), display=True, fixed=True, collision=True)\n",
    "#                            rpy=np.random.rand(3)*np.pi/16, color=(0.8,0.8,0.8,0.5), display=True, fixed=True, collision=True)\n",
    "wp1 = gscene.create_safe(GEOTYPE.BOX, \"wp1\", \"base_link\", (0.1,0.1,0.01), (0.5,-0.2,0),rpy=(0,0,0), \n",
    "                         color=(0.8,0.2,0.2,1), display=True, fixed=True, collision=False, parent=\"floor\")\n",
    "wp2 = gscene.create_safe(GEOTYPE.BOX, \"wp2\", \"base_link\", (0.1,0.1,0.01), (0.5,0.2,0), rpy=(0,0,0), \n",
    "                         color=(0.8,0.2,0.2,1), display=True, fixed=True, collision=False, parent=\"floor\")\n",
    "goal = gscene.create_safe(GEOTYPE.BOX, \"goal\", \"base_link\", (0.1,0.1,0.01), (0.3,-0.4,0), \n",
    "                          rpy=(0,0,0), color=(0.2,0.2,0.8,1), display=True, fixed=True, collision=True)\n",
    " \n",
    "# add movable (fixed=False for movable geometries)\n",
    "box1 = gscene.create_safe(GEOTYPE.BOX, \"box1\", \"base_link\", (0.05,0.05,0.05), (0.3,0.4,0.031), \n",
    "                          rpy=(0,0,0), color=(0.8,0.2,0.2,1), display=True, fixed=False, collision=True)\n",
    "\n",
    "obstacle = gscene.create_safe(GEOTYPE.BOX, \"obstacle\", \"base_link\", (0.05,0.05,0.05), (0.5,0.4,0.031), \n",
    "                          rpy=(0,0,0), color=(0.8,0.8,0.2,1), display=True, fixed=False, collision=True)"
   ]
  },
  {
   "cell_type": "markdown",
   "metadata": {},
   "source": [
    "##### create PlanningScene"
   ]
  },
  {
   "cell_type": "code",
   "execution_count": 4,
   "metadata": {},
   "outputs": [],
   "source": [
    "from pkg.planning.scene import PlanningScene\n",
    "pscene = PlanningScene(gscene, combined_robot=crob)"
   ]
  },
  {
   "cell_type": "code",
   "execution_count": null,
   "metadata": {},
   "outputs": [],
   "source": []
  },
  {
   "cell_type": "markdown",
   "metadata": {},
   "source": [
    "##### create_binder\n",
    "- Binders (or Actors) are binding points where objects can be attached (or binded)\n",
    "- Examples are \n",
    "  - PlacePlane: plane for object placement\n",
    "  - Gripper2Tool: 2-finger gripper tool for grasp objects\n",
    "  - SweepTool: action point to pass waypoints for sweep task"
   ]
  },
  {
   "cell_type": "code",
   "execution_count": 5,
   "metadata": {},
   "outputs": [],
   "source": [
    "from pkg.planning.constraint.constraint_actor import PlacePlane, Gripper2Tool, SweepFramer"
   ]
  },
  {
   "cell_type": "code",
   "execution_count": 6,
   "metadata": {},
   "outputs": [
    {
     "data": {
      "text/plain": [
       "<pkg.planning.constraint.constraint_actor.PlacePlane at 0x7f1c4dfca510>"
      ]
     },
     "execution_count": 6,
     "metadata": {},
     "output_type": "execute_result"
    }
   ],
   "source": [
    "# create PlacePlane on geometry \"floor\" and \"goal\"\n",
    "# when point is not set, the entire upper surface of the geometry becomes valid binding area.\n",
    "# when point is set, the specific point becomes the only valid binding point.\n",
    "pscene.create_binder(bname=\"floor\", gname=\"floor\", _type=PlacePlane, point=None)\n",
    "pscene.create_binder(bname=\"goal\", gname=\"goal\", _type=PlacePlane, point=(0,0,0.005))"
   ]
  },
  {
   "cell_type": "code",
   "execution_count": 7,
   "metadata": {},
   "outputs": [
    {
     "data": {
      "text/plain": [
       "<pkg.planning.constraint.constraint_actor.Gripper2Tool at 0x7f1c4dfca390>"
      ]
     },
     "execution_count": 7,
     "metadata": {},
     "output_type": "execute_result"
    }
   ],
   "source": [
    "# add collision boundary for gripper base\n",
    "# - set link_name=\"indy0_tcp\" to attach the geometry to end-effector link\n",
    "# - it can be labeled as fixed=True, as it is \"fixed\" on the indy0_tcp link\n",
    "gripper =  gscene.create_safe(GEOTYPE.BOX, \"gripper\", link_name=\"indy0_tcp\", \n",
    "                                dims=(0.02,0.1,0.1), center=(0,0,0.05), rpy=(0,0,0), \n",
    "                                color=(0.8,0.2,0.2,0.5), display=True, fixed=True, collision=True)\n",
    "\n",
    "# add gripper fingers - By setting parent=\"gripper\", the position of geometry can be set relative to the parent geometry\n",
    "finger1 =  gscene.create_safe(GEOTYPE.BOX, \"finger1\", link_name=\"indy0_tcp\",\n",
    "                              dims=(0.04,0.02,0.1), center=(0,0.04,0.07), rpy=(0,0,0), \n",
    "                              color=(0.8,0.2,0.2,0.5), display=True, fixed=True, collision=True, parent=\"gripper\")\n",
    "finger2 =  gscene.create_safe(GEOTYPE.BOX, \"finger2\", link_name=\"indy0_tcp\", \n",
    "                              dims=(0.04,0.02,0.1), center=(0,-0.04,0.07), rpy=(0,0,0), \n",
    "                              color=(0.8,0.2,0.2,0.5), display=True, fixed=True, collision=True, parent=\"gripper\")\n",
    "\n",
    "# create Gripper2Tool binder\n",
    "# Gripper2Tool is a 2-finger gripper, which can rotate along z-direction.\n",
    "# To align the z-direction with the 2 fingers, rotate by 90 degree along roll axis.\n",
    "# The gripping point is (0,0,0.11) in local coordinate of \"gripper\" geometry\n",
    "pscene.create_binder(bname=\"grip0\", gname=\"gripper\", _type=Gripper2Tool, point=(0,0,0.11), rpy=(-np.pi/2,0,0))"
   ]
  },
  {
   "cell_type": "code",
   "execution_count": 8,
   "metadata": {},
   "outputs": [
    {
     "data": {
      "text/plain": [
       "<pkg.planning.constraint.constraint_actor.SweepFramer at 0x7f1c4e0d53d0>"
      ]
     },
     "execution_count": 8,
     "metadata": {},
     "output_type": "execute_result"
    }
   ],
   "source": [
    "# Add virtual (no-collision) sweep face. the point is 0.2 m away from the \"indy0_tcp\" link\n",
    "# To match the z-direction with the target surface, the geometry is rotated 180 degrees in pitch-axis.\n",
    "sweep_face =  gscene.create_safe(GEOTYPE.BOX, \"sweep_face\", link_name=\"indy0_tcp\", \n",
    "                                dims=(0.05,0.05,0.001), center=(0,0,0.2), rpy=(0,np.pi,0), \n",
    "                                color=(0.2,0.2,0.8,0.1), display=True, fixed=True, collision=False)\n",
    "                                 \n",
    "# create SweepTool binder\n",
    "pscene.create_binder(bname=\"sweep_face\", gname=\"sweep_face\", _type=SweepFramer, point=(0,0,0), rpy=(0,0,0))"
   ]
  },
  {
   "cell_type": "markdown",
   "metadata": {},
   "source": [
    "##### create_subject\n",
    "* Subject describes the tasks in the planning scene.\n",
    "* There are 2 categories in subject:\n",
    "  1. Object: The object has grip points and placement points for pick&place task\n",
    "  2. Task: The task is can be any non-physical task. Check SweepLineTask for example\n",
    "* The subjects can be composed of multiple action points. Examples are:\n",
    "  1. Grasp2Point: grasping point for 2-finger gripper. \n",
    "  2. PlacePoint: The point to place object.\n",
    "  3. SweepPoint: A waypoint for SweepLineTask.\n",
    "  * The above 3 action points inherit DirectePoint, for which the orientation is free along z-axis. \n",
    "  * If \"point\" parameter is not set, the entire upper surface is becomes valid action area."
   ]
  },
  {
   "cell_type": "code",
   "execution_count": 9,
   "metadata": {},
   "outputs": [],
   "source": [
    "from pkg.planning.constraint.constraint_subject import Grasp2Point, PlacePoint, SweepFrame\n",
    "from pkg.planning.constraint.constraint_subject import CustomObject, SweepLineTask"
   ]
  },
  {
   "cell_type": "code",
   "execution_count": 10,
   "metadata": {},
   "outputs": [],
   "source": [
    "## create box object with grasping points along positive & negative y-direction and placement point in the bottom face\n",
    "box_obj = pscene.create_subject(oname=\"box1\", gname=\"box1\", _type=CustomObject, \n",
    "                             action_points_dict = {\n",
    "                                 \"handle1\": Grasp2Point(\"handle1\", box1, [0,0,0], [-np.pi/2,0,0]),\n",
    "                                 \"handle2\": Grasp2Point(\"handle2\", box1, [0,0,0], [np.pi/2,0,0]),\n",
    "                                 \"bottom\": PlacePoint(\"bottom\", box1, [0,0,-0.026], [0,0,0])})"
   ]
  },
  {
   "cell_type": "code",
   "execution_count": 11,
   "metadata": {},
   "outputs": [],
   "source": [
    "## create sweep task with 2 waypoints\n",
    "sweep = pscene.create_subject(oname=\"sweep\", gname=\"floor\", _type=SweepLineTask, \n",
    "                             action_points_dict = {\"wp1\": SweepFrame(\"wp1\", wp1, [0,0,0.005], [0,0,0]),\n",
    "                                                   \"wp2\": SweepFrame(\"wp2\", wp2, [0,0,0.005], [0,0,0])}\n",
    "                             )"
   ]
  },
  {
   "cell_type": "code",
   "execution_count": 12,
   "metadata": {},
   "outputs": [],
   "source": [
    "pscene.add_handle_axis('girpper', pscene.actor_dict['grip0'])"
   ]
  },
  {
   "cell_type": "markdown",
   "metadata": {},
   "source": [
    "##### initialize_state\n",
    "* initialize_state(robot_pose) updates robot pose and gets corresponding binding status of current scene.\n",
    "* state.node of ('floor', 0) means the first subject (object) is placed on the floor and the second subject (sweep) has passed 0 waypoints"
   ]
  },
  {
   "cell_type": "code",
   "execution_count": 13,
   "metadata": {},
   "outputs": [
    {
     "name": "stdout",
     "output_type": "stream",
     "text": [
      "('floor', 0)\n"
     ]
    }
   ],
   "source": [
    "initial_state = pscene.initialize_state(crob.home_pose)\n",
    "print(initial_state.node)"
   ]
  },
  {
   "cell_type": "markdown",
   "metadata": {},
   "source": [
    "## 4.2 MotionPlanner"
   ]
  },
  {
   "cell_type": "markdown",
   "metadata": {},
   "source": [
    "##### MoveitPlanner\n",
    "* *get_available_binding_dict()* gets available binding states for each subject in a dictionary\n",
    "* *sample_leaf_state samples()* target state with given available_binding_dict and target node\n",
    "* *rebind_all()* updates binding state and returns the resultant state\n",
    "* The motions tested in this section are:\n",
    "  - pick: move the object to \"gripper\"\n",
    "  - place: move the object to \"goal\"\n",
    "  - sweep: \n",
    "    1) approach to waypoint 1\n",
    "    2) sweep to waypoint 2\n",
    "    3) return to home pose"
   ]
  },
  {
   "cell_type": "code",
   "execution_count": 14,
   "metadata": {},
   "outputs": [],
   "source": [
    "from pkg.planning.motion.moveit.moveit_py import ConstrainedSpaceType, PlannerConfig\n",
    "\n",
    "gtimer = GlobalTimer.instance()\n",
    "gtimer.reset()"
   ]
  },
  {
   "cell_type": "code",
   "execution_count": 15,
   "metadata": {},
   "outputs": [],
   "source": [
    "from pkg.planning.motion.moveit.moveit_planner import MoveitPlanner\n",
    "from pkg.planning.filtering.grasp_filter import GraspChecker\n",
    "mplan = MoveitPlanner(pscene, motion_filters=[GraspChecker(pscene)])"
   ]
  },
  {
   "cell_type": "markdown",
   "metadata": {},
   "source": [
    "##### PDDLStream\n",
    "* pick & place\n",
    "* currently only *single robot* is supported\n",
    "* only colliding geometries are transfered to PDDLStream(pybullet). make sure collision=True for all subjects and actors."
   ]
  },
  {
   "cell_type": "code",
   "execution_count": 16,
   "metadata": {},
   "outputs": [],
   "source": [
    "from pkg.planning.pddlstream.plan_rnb import *"
   ]
  },
  {
   "cell_type": "markdown",
   "metadata": {},
   "source": [
    "### solve in pddlstream general"
   ]
  },
  {
   "cell_type": "code",
   "execution_count": 17,
   "metadata": {},
   "outputs": [],
   "source": [
    "domain_path = os.path.join(RNB_PLANNING_DIR, \"src\", \"pkg\", \"planning\", \"pddlstream\", \"domain\")"
   ]
  },
  {
   "cell_type": "code",
   "execution_count": 18,
   "metadata": {},
   "outputs": [
    {
     "name": "stdout",
     "output_type": "stream",
     "text": [
      "[Pybullet] Load urdf from /home/jb/Projects/rnb-planning/src/robots/custom_robots_pybullet.urdf\n",
      "[WARING] non-object subject not implemented for now\n",
      "('Objects:', {1L: 'goal', 2L: 'gripper', 3L: 'floor', 4L: 'wall', 5L: 'obstacle', 6L: 'box1'})\n",
      "================ MAKE PROBLEM ======================\n",
      "IK checkers: ['GraspChecker']\n",
      "MP checkers: []\n",
      "timeout motion : 0.5\n",
      "====================================================\n"
     ]
    }
   ],
   "source": [
    "pscene, mplan, ROBOT_NAME, TOOL_NAME, HOME_POSE, goal_pairs, initial_state = \\\n",
    "    pscene, mplan, 'indy0', 'grip0', crob.home_pose, None, initial_state\n",
    "\n",
    "TIMEOUT_MOTION=0.5\n",
    "MAX_TIME=30\n",
    "MAX_ITER=100\n",
    "MAX_SKELETONS=10\n",
    "GRASP_SAMPLE=30\n",
    "STABLE_SAMPLE=50\n",
    "SHOW_STATE=False\n",
    "SEARCH_SAMPLE_RATIO=10\n",
    "use_pybullet_gui=True\n",
    "USE_MOVEIT_IK=True\n",
    "\n",
    "\n",
    "TIMED_COMPLETE=False\n",
    "VERBOSE=False\n",
    "IK_TRY_NUM=10\n",
    "IK_TIMEOUT_SINGLE=0.01\n",
    "\n",
    "                \n",
    "                \n",
    "gtimer = GlobalTimer.instance()\n",
    "gscene = pscene.gscene\n",
    "#     checkers_ik = [checker for checker in mplan.motion_filters if checker.BEFORE_IK]\n",
    "checkers_ik = [checker for checker in mplan.motion_filters]\n",
    "# mplan.motion_filters = [checker for checker in mplan.motion_filters if not checker.BEFORE_IK]\n",
    "mplan.motion_filters = []\n",
    "checkers_ik_names = [checker.__class__.__name__ for checker in checkers_ik]\n",
    "checkers_mp_names = [checker.__class__.__name__ for checker in mplan.motion_filters]\n",
    "connect_notebook(use_gui=use_pybullet_gui)\n",
    "urdf_pybullet_path = copy_meshes(gscene)\n",
    "reset_pybullet()\n",
    "robot_body, body_names, movable_bodies = pscene_to_pybullet(\n",
    "    pscene, urdf_pybullet_path, tool_name=TOOL_NAME, name_exclude_list=[ROBOT_NAME])\n",
    "print('Objects:', body_names)\n",
    "saver = WorldSaver()\n",
    "mplan.reset_log(True)\n",
    "\n",
    "\n",
    "pscene, robot, initial_state = pscene, robot_body, initial_state\n",
    "\n",
    "body_names=body_names\n",
    "Q_init=HOME_POSE\n",
    "# goal_pairs=goal_pairs\n",
    "movable=movable_bodies\n",
    "checkers_ik=checkers_ik\n",
    "tool_name=TOOL_NAME\n",
    "tool_link_name=pscene.actor_dict[TOOL_NAME].geometry.link_name\n",
    "mplan=mplan\n",
    "timeout=TIMEOUT_MOTION\n",
    "grasp_sample=GRASP_SAMPLE\n",
    "stable_sample=STABLE_SAMPLE\n",
    "show_state=SHOW_STATE\n",
    "USE_MOVEIT_IK=USE_MOVEIT_IK\n",
    "TIMED_COMPLETE=TIMED_COMPLETE\n",
    "IK_TRY_NUM=IK_TRY_NUM\n",
    "IK_TIMEOUT_SINGLE=IK_TIMEOUT_SINGLE\n",
    "                                            \n",
    "print(\"================ MAKE PROBLEM ======================\")\n",
    "print(\"IK checkers: {}\".format([checker.__class__.__name__ for checker in checkers_ik]))\n",
    "print(\"MP checkers: {}\".format([checker.__class__.__name__ for checker in mplan.motion_filters]))\n",
    "print(\"timeout motion : {}\".format(timeout))\n",
    "print(\"====================================================\")\n",
    "#assert (not are_colliding(tree, kin_cache))\n",
    "assert tool_link_name is not None, \"tool_link_name should be passed to pddlstream_from_problem\"\n",
    "assert tool_name is not None, \"tool_name should be passed to pddlstream_from_problem\"\n",
    "assert mplan is not None, \"mplan should be passed to pddlstream_from_problem\"\n",
    "\n",
    "# if len(checkers_ik)==0 and len(mplan.motion_filters)==0:\n",
    "#     print(\"No predictors are assigned. Automatically set TIMED_COMPLETE=False\")\n",
    "#     TIMED_COMPLETE = False"
   ]
  },
  {
   "cell_type": "code",
   "execution_count": 19,
   "metadata": {},
   "outputs": [
    {
     "name": "stdout",
     "output_type": "stream",
     "text": [
      "('Robot:', 0L)\n",
      "('Movable:', [6L])\n",
      "('Fixed:', [1, 2, 3, 4, 5])\n",
      "initial pose\n",
      "((0.30000001192092896, 0.4000000059604645, 0.03099999949336052), (0.0, 0.0, 0.0, 1.0))\n",
      "body subject map\n",
      "{3L: <pkg.planning.constraint.constraint_subject.SweepLineTask object at 0x7f1c4dfd5950>, 6L: <pkg.planning.constraint.constraint_subject.CustomObject object at 0x7f1c4dfe8110>}\n",
      "body actor map\n",
      "{1L: <pkg.planning.constraint.constraint_actor.PlacePlane object at 0x7f1c4dfca510>, 2L: <pkg.planning.constraint.constraint_actor.Gripper2Tool object at 0x7f1c4dfca390>, 3L: <pkg.planning.constraint.constraint_actor.PlacePlane object at 0x7f1c4dfca550>}\n",
      "subject body map\n",
      "{'box1': 6L, 'sweep': 3L}\n",
      "actor body map\n",
      "{'grip0': 2L, 'goal': 1L, 'floor': 3L}\n"
     ]
    }
   ],
   "source": [
    "domain_pddl = read(get_file_path(domain_path+\"/dummy\", 'domain_general.pddl'))\n",
    "stream_pddl = read(get_file_path(domain_path+\"/dummy\", 'stream_general.pddl'))\n",
    "constant_map = {}\n",
    "\n",
    "print('Robot:', robot)\n",
    "set_configuration(robot, Q_init)\n",
    "conf = BodyConf(robot, get_configuration(robot))\n",
    "conf_temp = BodyConf(robot,[ 1.42505094, -0.49137475, -2.19144837, -0.38963825, -0.463891,   -1.3667626 ])\n",
    "conf_f = BodyConf(3L, [])\n",
    "init = [('CanMove',),\n",
    "        ('HandEmpty',),\n",
    "        ('Conf', robot, conf),\n",
    "        ('AtConf', robot, conf)]\n",
    "\n",
    "# initial_state = pscene.initialize_state(Q_init)\n",
    "init_btf = initial_state.binding_state['box1']\n",
    "init_binding = Binding(init_btf)\n",
    "\n",
    "fixed = get_fixed(robot, movable)\n",
    "print('Movable:', movable)\n",
    "print('Fixed:', fixed)\n",
    "for body in movable:\n",
    "    pose = BodyPose(body, get_pose(body))\n",
    "    init += [('Actor', robot, 2L),\n",
    "             ('Actor', 3L, 1L),\n",
    "             ('Actor', 3L, 3L),\n",
    "             ('Robot', robot),\n",
    "             ('Robot', 3L),\n",
    "             ('Conf', 3L, conf_f),\n",
    "             ('AtConf', 3L, conf_f),\n",
    "             ('Subject', 6L),\n",
    "             ('Pose', body, pose),\n",
    "             ('Binding', 6L, 3L, init_binding),\n",
    "             ('BindingPose', body, 3L, init_binding, pose),\n",
    "             ('AtPose', body, pose)\n",
    "             ]\n",
    "print('initial pose')\n",
    "print(pose.value)\n",
    "body_subject_map = make_body_subject_map(pscene, body_names)\n",
    "print('body subject map')\n",
    "print(body_subject_map)\n",
    "body_actor_map = make_body_actor_map(pscene, body_names)\n",
    "print('body actor map')\n",
    "print(body_actor_map)\n",
    "subject_body_map = {sj.oname: bid for bid, sj in body_subject_map.items()}\n",
    "print('subject body map')\n",
    "print(subject_body_map)\n",
    "actor_body_map = {at.name: bid for bid, at in body_actor_map.items()}\n",
    "print('actor body map')\n",
    "print(actor_body_map)\n",
    "# update_grasp_info({tool_name: GraspInfo(\n",
    "#     lambda body: sample_grasps(body_subject_map=body_subject_map, body=body, actor=actor,\n",
    "#                                sample_count=grasp_sample, show_state=show_state),\n",
    "#     approach_pose=Pose(APPROACH_VEC))})\n",
    "if USE_MOVEIT_IK:\n",
    "    ik_kwargs = dict(mplan=mplan, timeout_single=IK_TIMEOUT_SINGLE)\n",
    "else:\n",
    "    ik_kwargs = {}\n",
    "ik_fun = get_ik_fn_general_rnb(\n",
    "    pscene, actor_body_map, mplan, fixed=fixed)\n",
    "\n",
    "stream_map = {\n",
    "    'sample-binding': from_gen_fn(get_binding_gen_rnb(body_subject_map, body_actor_map)),\n",
    "    'sample-transform': from_fn(get_transform_gen_rnb(pscene, body_actor_map, subject_body_map)),\n",
    "    'inverse-kinematics': from_fn(ik_fun),\n",
    "\n",
    "    'plan-motion': from_fn(get_general_motion_gen_rnb(mplan, body_subject_map, robot,\n",
    "                                                        tool=pscene.actor_dict[tool_name],\n",
    "                                                        tool_link=tool_link_name, timeout=timeout,\n",
    "                                                        show_state=show_state,\n",
    "                                                        approach_vec=None)),\n",
    "    'test-cfree-binding-binding': from_test(get_cfree_binding_binding_test_rnb()),\n",
    "    'test-cfree-conf-pose': from_test(get_cfree_conf_pose_test_rnb())\n",
    "}"
   ]
  },
  {
   "cell_type": "code",
   "execution_count": 31,
   "metadata": {
    "scrolled": true
   },
   "outputs": [
    {
     "name": "stdout",
     "output_type": "stream",
     "text": [
      "('Init:', [('CanMove',), ('HandEmpty',), ('Conf', 0L, q0), ('AtConf', 0L, q0), ('Actor', 0L, 2L), ('Actor', 3L, 1L), ('Actor', 3L, 3L), ('Robot', 0L), ('Robot', 3L), ('Conf', 3L, q2), ('AtConf', 3L, q2), ('Subject', 6L), ('Pose', 6L, p0), ('Binding', 6L, 3L, b0), ('BindingPose', 6L, 3L, b0, p0), ('AtPose', 6L, p0), ('Binding', 6L, 3L, b1), ('BindingPose', 6L, 3L, b1, p0), ('Conf', 0L, q1), ('Binding', 6L, 3L, b5), ('BindingPose', 6L, 3L, b5, p0), ('Conf', 0L, q1), ('Binding', 6L, 3L, b7), ('BindingPose', 6L, 3L, b7, p0), ('Conf', 0L, q1), ('Binding', 6L, 3L, b9), ('BindingPose', 6L, 3L, b9, p0), ('Conf', 0L, q1), ('Binding', 6L, 3L, b11), ('BindingPose', 6L, 3L, b11, p0), ('Conf', 0L, q1), ('Binding', 6L, 3L, b13), ('BindingPose', 6L, 3L, b13, p0), ('Conf', 0L, q1), ('Binding', 6L, 3L, b15), ('BindingPose', 6L, 3L, b15, p0), ('Conf', 0L, q1)])\n",
      "('Goal:', ('On', 6L, 1L))\n",
      "('Streams:', '{inverse-kinematics, plan-motion, sample-binding, sample-transform, test-cfree-binding-binding, test-cfree-conf-pose}')\n",
      "Warning! All actions have no cost. Recommend setting unit_costs=True\n",
      "\n",
      "Iteration: 1 | Complexity: 0 | Skeletons: 0 | Skeleton Queue: 0 | Disabled: 0 | Evaluations: 31 | Eager Calls: 0 | Cost: inf | Search Time: 0.000 | Sample Time: 0.000 | Total Time: 0.000\n",
      "Attempt: 1 | Results: 4 | Depth: 0 | Success: False | Time: 0.033\n",
      "Stream plan (inf, 0, inf): None\n",
      "Action plan (inf, inf): None\n",
      "No plan: increasing complexity from 0 to 1\n",
      "\n",
      "Iteration: 2 | Complexity: 1 | Skeletons: 0 | Skeleton Queue: 0 | Disabled: 0 | Evaluations: 31 | Eager Calls: 0 | Cost: inf | Search Time: 0.034 | Sample Time: 0.000 | Total Time: 0.034\n",
      "Attempt: 1 | Results: 36 | Depth: 0 | Success: False | Time: 0.042\n",
      "Stream plan (inf, 0, inf): None\n",
      "Action plan (inf, inf): None\n",
      "No plan: increasing complexity from 1 to 2\n",
      "\n",
      "Iteration: 3 | Complexity: 2 | Skeletons: 0 | Skeleton Queue: 0 | Disabled: 0 | Evaluations: 31 | Eager Calls: 0 | Cost: inf | Search Time: 0.077 | Sample Time: 0.000 | Total Time: 0.077\n",
      "Attempt: 1 | Results: 58 | Depth: 1 | Success: False | Time: 0.151\n",
      "Attempt: 2 | Results: 91 | Depth: 1 | Success: False | Time: 0.517\n",
      "Attempt: 3 | Results: 137 | Depth: 1 | Success: False | Time: 0.917\n",
      "Attempt: 4 | Results: 198 | Depth: 1 | Success: False | Time: 1.666\n",
      "Attempt: 5 | Results: 273 | Depth: 1 | Success: False | Time: 2.683\n",
      "Attempt: 6 | Results: 362 | Depth: 1 | Success: False | Time: 4.180\n",
      "Attempt: 7 | Results: 465 | Depth: 1 | Success: False | Time: 6.233\n",
      "Attempt: 8 | Results: 582 | Depth: 1 | Success: False | Time: 8.802\n",
      "Attempt: 9 | Results: 694 | Depth: 1 | Success: False | Time: 11.775\n",
      "Attempt: 10 | Results: 797 | Depth: 1 | Success: False | Time: 15.304\n",
      "Attempt: 11 | Results: 797 | Depth: 0 | Success: True | Time: 18.841\n",
      "Stream plan (4, 4, 0.000): [sample-binding:(3, 1, 6)->(#b10), inverse-kinematics:(6, p0, 3, 3, b13)->(#q26), plan-motion:(0, q0, q1)->(#t44), sample-transform:(3, #q26, 6, 1, #b10)->(#p30)]\n",
      "Action plan (2, 0.000): [motion(0, #t44, q0, q1), attach(6, p0, #p30, 1, #b10, 0, q1)]\n",
      "sampling binding called\n",
      "sample bd: binding, redundancy, .btf.chain, .btf.T_lao\n",
      "b16\n",
      "{'goal': {'w': -0.37187642917324837}, 'bottom': {'w': -1.7540959371937097}}\n",
      "BindingChain(subject_name='box1', handle_name='bottom', actor_name='goal', actor_root_gname='goal')\n",
      "[[ 0.18746114 -0.9822721   0.          0.30000004]\n",
      " [ 0.982272    0.18746114  0.         -0.4       ]\n",
      " [ 0.          0.          1.          0.031     ]\n",
      " [ 0.          0.          0.          1.        ]]\n",
      "ik_fn print conf body val\n",
      "3\n",
      "[]\n",
      "plan general motion conf2.values\n",
      "[1.42505094, -0.49137475, -2.19144837, -0.38963825, -0.463891, -1.3667626]\n",
      "get tr, robot, body_conf(body, val), subject, actor, binding, binding.body\n",
      "3\n",
      "3\n",
      "[]\n",
      "6\n",
      "1\n",
      "b16\n",
      "BindingChain(subject_name='box1', handle_name='bottom', actor_name='goal', actor_root_gname='goal')\n",
      "get tr print body_pose\n",
      "6\n",
      "([0.30000004172325134, -0.4000000059604645, 0.03099999949336052], [0.0, 0.0, 0.6373926968486463, 0.7705391294438003])\n",
      "Summary: {complexity: 2, cost: 0.000, evaluations: 37, iterations: 3, length: 2, run_time: 19.047, sample_time: 0.124, search_time: 18.923, skeletons: 1, solutions: 1, solved: True, timeout: False}\n",
      "         27253111 function calls (27136506 primitive calls) in 19.016 seconds\n",
      "\n",
      "   Ordered by: internal time\n",
      "   List reduced from 1328 to 10 due to restriction <10>\n",
      "\n",
      "   ncalls  tottime  percall  cumtime  percall filename:lineno(function)\n",
      "    40769    1.284    0.000    2.468    0.000 /home/jb/Projects/pddlstream/pddlstream/algorithms/../../downward/builds/release/bin/translate/translate.py:208(translate_strips_operator_aux)\n",
      "    81686    1.177    0.000    2.978    0.000 /home/jb/Projects/pddlstream/pddlstream/algorithms/../../downward/builds/release/bin/translate/translate.py:67(translate_strips_conditions_aux)\n",
      "   206349    1.079    0.000    1.509    0.000 /home/jb/Projects/pddlstream/pddlstream/algorithms/../../downward/builds/release/bin/translate/pddl/conditions.py:288(instantiate)\n",
      "  1259959    1.029    0.000    1.157    0.000 /home/jb/Projects/pddlstream/pddlstream/algorithms/../../downward/builds/release/bin/translate/pddl/conditions.py:228(__init__)\n",
      "   237476    0.926    0.000    0.926    0.000 /home/jb/Projects/pddlstream/pddlstream/algorithms/../../downward/builds/release/bin/translate/sas_tasks.py:270(listify)\n",
      "   256193    0.832    0.000    1.460    0.000 /home/jb/Projects/pddlstream/pddlstream/algorithms/../../downward/builds/release/bin/translate/pddl/conditions.py:272(instantiate)\n",
      "  1301409    0.614    0.000    0.614    0.000 /home/jb/Projects/pddlstream/pddlstream/algorithms/../../downward/builds/release/bin/translate/pddl/conditions.py:232(__eq__)\n",
      "   163044    0.501    0.000    1.679    0.000 /home/jb/Projects/pddlstream/pddlstream/algorithms/../../downward/builds/release/bin/translate/pddl/effects.py:74(_instantiate)\n",
      "730021/729333    0.422    0.000    0.816    0.000 {sorted}\n",
      "  2394368    0.420    0.000    0.745    0.000 {method 'get' of 'dict' objects}\n",
      "\n",
      "\n",
      "\n",
      "Solved: True\n",
      "Cost: 0.000\n",
      "Length: 2\n",
      "Deferred: 0\n",
      "Evaluations: 2\n",
      " 1) motion 0 c6 q0 q1\n",
      " 2) attach 6 p0 p6 1 b16 0 q1\n"
     ]
    }
   ],
   "source": [
    "\n",
    "binding_f = Binding(body_subject_map[6L].binding)\n",
    "init += [('Binding', 6L, 3L, binding_f),\n",
    "         ('BindingPose', 6L, 3L, binding_f, pose),\n",
    "         ('Conf', 0L, conf_temp),]\n",
    "\n",
    "# goal = ('and', ('AtConf', robot, conf)) \\\n",
    "#        + tuple([\n",
    "#            ('On', subject_body_map[sname], actor_body_map[aname]) for sname, aname in goal_pairs\n",
    "#        ])\n",
    "# goal = ('AtConf', robot, conf_temp)\n",
    "goal = ('On', subject_body_map['box1'], actor_body_map['goal'])\n",
    "# goal = ('and', ('AtPose', 6L, pose)) \\\n",
    "#        + tuple([\n",
    "#            ('On', subject_body_map['box1'], actor_body_map['goal']) for sname, aname in goal_pairs\n",
    "#        ])\n",
    "# goal = ('FindConf', 0L, pose, 6L, 2L)\n",
    "# goal = ('FindConf', pose, 6L, 2L)\n",
    "# goal = ('FindBinding', 1L, 6L)\n",
    "# goal = ('FindBP', 6L, 2L)\n",
    "# goal = ('MoveToConf', robot, pose, 6L, 2L)\n",
    "# goal = ('GoToConf', robot, pose, 6L, 2L)\n",
    "        # ('Holding', body),\n",
    "        # ('On', body, fixed[2]),\n",
    "        # ('Cleaned', body),\n",
    "        #             ('Cooked', body),\n",
    "APPROACH_VEC = 0.00 * Point(z=-1)\n",
    "actor = pscene.actor_dict[tool_name]\n",
    "\n",
    "reset_checker_cache()\n",
    "\n",
    "problem, ik_fun = PDDLProblem(domain_pddl, constant_map, stream_pddl, stream_map, init, goal), ik_fun\n",
    "\n",
    "# GlobalLogger.instance()[\"ik_fun\"] = ik_fun\n",
    "# GlobalLogger.instance()[\"problem\"] = problem\n",
    "_, _, _, stream_map, init, goal = problem\n",
    "print('Init:', init)\n",
    "print('Goal:', goal)\n",
    "print('Streams:', str_from_object(set(stream_map)))\n",
    "ik_fun.checkout_count = 0\n",
    "ik_fun.fail_count = 0\n",
    "ik_fun.pass_count = 0\n",
    "with Profiler():\n",
    "    with LockRenderer(lock=not True):\n",
    "        gtimer.tic(\"plan\")\n",
    "        solution = solve(problem, algorithm='adaptive',\n",
    "                         unit_costs=False, success_cost=INF, max_time=MAX_TIME, max_iterations=MAX_ITER,\n",
    "                         max_skeletons=MAX_SKELETONS, search_sample_ratio=SEARCH_SAMPLE_RATIO, verbose=VERBOSE)\n",
    "        gtimer.toc(\"plan\") / gtimer.scale\n",
    "        saver.restore()\n",
    "print_solution(solution)\n",
    "plan, cost, evaluations = solution\n",
    "# GlobalLogger.instance()[\"solution\"] = solution\n",
    "res = not any(plan is status for status in [None, False])\n",
    "\n",
    "move_num = len(plan) if res else 0\n",
    "pre_motion_checks = mplan.result_log[\"pre_motion_checks\"]\n",
    "plan_try = len(pre_motion_checks)\n",
    "planning_log = mplan.result_log[\"planning\"]\n",
    "plan_num = len(planning_log)\n",
    "fail_num = np.sum(np.logical_not(mplan.result_log[\"planning\"]))\n",
    "elapsed = SolutionStore.last_log['run_time']\n",
    "\n",
    "log_dict = {\"plan_time\": elapsed, \"length\": move_num,\n",
    "            \"IK_tot\": ik_fun.checkout_count + ik_fun.pass_count + ik_fun.fail_count,\n",
    "            \"IK_count\": ik_fun.pass_count + ik_fun.fail_count, \"failed_IKs\": ik_fun.fail_count,\n",
    "            \"MP_tot\": plan_try, \"MP_count\": plan_num, \"failed_MPs\": fail_num,\n",
    "            \"success\": res, \"body_names\": body_names, \"plan\": plan,\n",
    "            \"pre_motion_checks\": pre_motion_checks, \"planning_log\": planning_log,\n",
    "            \"checkers_ik\": checkers_ik_names, \"checkers_mp\":checkers_mp_names,\n",
    "            \"time_log\": gtimer.timelist_dict if gtimer.stack else gtimer.time_dict}"
   ]
  },
  {
   "cell_type": "code",
   "execution_count": null,
   "metadata": {},
   "outputs": [],
   "source": []
  },
  {
   "cell_type": "code",
   "execution_count": 30,
   "metadata": {},
   "outputs": [],
   "source": [
    "play_general_pddl_plan(pscene, pscene.actor_dict[\"grip0\"], initial_state=initial_state,\n",
    "               body_names=log_dict['body_names'], plan=plan, SHOW_PERIOD=0.01)"
   ]
  },
  {
   "cell_type": "code",
   "execution_count": null,
   "metadata": {},
   "outputs": [],
   "source": []
  },
  {
   "cell_type": "code",
   "execution_count": 29,
   "metadata": {},
   "outputs": [],
   "source": [
    "pscene.gscene.show_pose([ 1.42505094, -0.49137475, -2.19144837, -0.38963825, -0.463891,   -1.3667626 ])"
   ]
  },
  {
   "cell_type": "code",
   "execution_count": 36,
   "metadata": {},
   "outputs": [],
   "source": [
    "pscene.gscene.show_pose([1.30953555, -1.90757443, -1.12179683, 0, 3.02937128, -1.30953372])"
   ]
  },
  {
   "cell_type": "code",
   "execution_count": 27,
   "metadata": {},
   "outputs": [],
   "source": [
    "play_pddl_plan(pscene, pscene.actor_dict[\"grip0\"], initial_state=initial_state,\n",
    "               body_names=log_dict['body_names'], plan=plan, SHOW_PERIOD=0.01)"
   ]
  },
  {
   "cell_type": "code",
   "execution_count": 27,
   "metadata": {},
   "outputs": [
    {
     "data": {
      "text/plain": [
       "<pkg.geometry.geometry.GeometryItem at 0x7f721b5a6250>"
      ]
     },
     "execution_count": 27,
     "metadata": {},
     "output_type": "execute_result"
    }
   ],
   "source": [
    "gscene.create_safe(GEOTYPE.BOX, \"box1\", \"base_link\", (0.05,0.05,0.05), (0.35000000148821875, -0.1864999923833766, 0.3614999838183085), \n",
    "                          rpy=(0,0,0), color=(0.8,0.2,0.2,1), display=True, fixed=False, collision=True)"
   ]
  },
  {
   "cell_type": "code",
   "execution_count": null,
   "metadata": {},
   "outputs": [],
   "source": []
  },
  {
   "cell_type": "code",
   "execution_count": null,
   "metadata": {},
   "outputs": [],
   "source": []
  }
 ],
 "metadata": {
  "kernelspec": {
   "display_name": "Python 2",
   "language": "python",
   "name": "python2"
  },
  "language_info": {
   "codemirror_mode": {
    "name": "ipython",
    "version": 2
   },
   "file_extension": ".py",
   "mimetype": "text/x-python",
   "name": "python",
   "nbconvert_exporter": "python",
   "pygments_lexer": "ipython2",
   "version": "2.7.17"
  }
 },
 "nbformat": 4,
 "nbformat_minor": 2
}
