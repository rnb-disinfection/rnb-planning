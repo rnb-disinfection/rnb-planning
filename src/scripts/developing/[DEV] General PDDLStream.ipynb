{
 "cells": [
  {
   "cell_type": "markdown",
   "metadata": {},
   "source": [
    "## set running directory to project source"
   ]
  },
  {
   "cell_type": "code",
   "execution_count": 1,
   "metadata": {},
   "outputs": [],
   "source": [
    "import os\n",
    "import numpy as np\n",
    "import time\n",
    "os.chdir(os.path.join(os.environ[\"RNB_PLANNING_DIR\"], 'src'))"
   ]
  },
  {
   "cell_type": "code",
   "execution_count": null,
   "metadata": {},
   "outputs": [],
   "source": []
  },
  {
   "cell_type": "markdown",
   "metadata": {},
   "source": [
    "## 4.1 PlanningScene"
   ]
  },
  {
   "cell_type": "markdown",
   "metadata": {},
   "source": [
    "##### initialize CombinedRobot and GeometryScene"
   ]
  },
  {
   "cell_type": "code",
   "execution_count": 2,
   "metadata": {},
   "outputs": [
    {
     "name": "stdout",
     "output_type": "stream",
     "text": [
      "connection command:\n",
      "indy0: False\n",
      "Unable to register with master node [http://localhost:11311]: master may not be running yet. Will keep trying.\n",
      "Please create a subscriber to the marker\n",
      "publication OK\n",
      "published: [0, 0, 0, 0, 0, 0]\n",
      "Please create a subscriber to the marker\n"
     ]
    }
   ],
   "source": [
    "from pkg.controller.combined_robot import *\n",
    "from pkg.project_config import *\n",
    "from pkg.geometry.builder.scene_builder import SceneBuilder\n",
    "\n",
    "s_builder = SceneBuilder(None)   # create scene builder without detector for virtual scene\n",
    "crob = CombinedRobot(robots_on_scene=[\n",
    "    RobotConfig(0, RobotType.indy7, ((0,0,0), (0,0,0)), None)]\n",
    "                     , connection_list=[False])\n",
    "gscene = s_builder.create_gscene(crob)\n",
    "gtems = s_builder.add_robot_geometries(color=(0,1,0,0.5), display=True, collision=True)\n",
    "gscene.show_pose(crob.home_pose)"
   ]
  },
  {
   "cell_type": "markdown",
   "metadata": {},
   "source": [
    "##### add geometries"
   ]
  },
  {
   "cell_type": "code",
   "execution_count": 3,
   "metadata": {},
   "outputs": [],
   "source": [
    "from pkg.geometry.geometry import *\n",
    "\n",
    "# add environments (fixed=True for non-movable geometries)\n",
    "wall = gscene.create_safe(GEOTYPE.BOX, \"wall\", \"base_link\", (3,3,0.01), (-0.2,0,0), \n",
    "                           rpy=(0,np.pi/2,0), color=(0.8,0.8,0.8,0.5), display=True, fixed=True, collision=True)\n",
    "#wall2 = gscene.create_safe(GEOTYPE.BOX, \"wall2\", \"base_link\", (0.6,0.8,0.01), (0.5,0,0),\n",
    "#                            rpy=(np.pi/2,0,0), color=(0.8,0.8,0.8,0.5), display=True, fixed=True, collision=True)\n",
    "floor = gscene.create_safe(GEOTYPE.BOX, \"floor\", \"base_link\", (3,3,0.01), (0,0,0), \n",
    "                           rpy=np.random.rand(3)*0, color=(0.8,0.8,0.8,0.5), display=True, fixed=True, collision=True)\n",
    "#                            rpy=np.random.rand(3)*np.pi/16, color=(0.8,0.8,0.8,0.5), display=True, fixed=True, collision=True)\n",
    "wp1 = gscene.create_safe(GEOTYPE.BOX, \"wp1\", \"base_link\", (0.1,0.1,0.01), (0.5,-0.2,0),rpy=(0,0,0), \n",
    "                         color=(0.8,0.2,0.2,1), display=True, fixed=True, collision=False, parent=\"floor\")\n",
    "wp2 = gscene.create_safe(GEOTYPE.BOX, \"wp2\", \"base_link\", (0.1,0.1,0.01), (0.5,0.2,0), rpy=(0,0,0), \n",
    "                         color=(0.8,0.2,0.2,1), display=True, fixed=True, collision=False, parent=\"floor\")\n",
    "goal = gscene.create_safe(GEOTYPE.BOX, \"goal\", \"base_link\", (0.1,0.1,0.01), (0.3,-0.4,0), \n",
    "                          rpy=(0,0,0), color=(0.2,0.2,0.8,1), display=True, fixed=True, collision=True)\n",
    " \n",
    "# add movable (fixed=False for movable geometries)\n",
    "box1 = gscene.create_safe(GEOTYPE.BOX, \"box1\", \"base_link\", (0.05,0.05,0.05), (0.3,0.4,0.031), \n",
    "                          rpy=(0,0,0), color=(0.8,0.2,0.2,1), display=True, fixed=False, collision=True)\n",
    "\n",
    "obstacle = gscene.create_safe(GEOTYPE.BOX, \"obstacle\", \"base_link\", (0.05,0.05,0.05), (0.5,0.4,0.031), \n",
    "                          rpy=(0,0,0), color=(0.8,0.8,0.2,1), display=True, fixed=False, collision=True)"
   ]
  },
  {
   "cell_type": "markdown",
   "metadata": {},
   "source": [
    "##### create PlanningScene"
   ]
  },
  {
   "cell_type": "code",
   "execution_count": 4,
   "metadata": {},
   "outputs": [],
   "source": [
    "from pkg.planning.scene import PlanningScene\n",
    "pscene = PlanningScene(gscene, combined_robot=crob)"
   ]
  },
  {
   "cell_type": "code",
   "execution_count": null,
   "metadata": {},
   "outputs": [],
   "source": []
  },
  {
   "cell_type": "markdown",
   "metadata": {},
   "source": [
    "##### create_binder\n",
    "- Binders (or Actors) are binding points where objects can be attached (or binded)\n",
    "- Examples are \n",
    "  - PlacePlane: plane for object placement\n",
    "  - Gripper2Tool: 2-finger gripper tool for grasp objects\n",
    "  - SweepTool: action point to pass waypoints for sweep task"
   ]
  },
  {
   "cell_type": "code",
   "execution_count": 5,
   "metadata": {},
   "outputs": [],
   "source": [
    "from pkg.planning.constraint.constraint_actor import PlacePlane, Gripper2Tool, SweepFramer"
   ]
  },
  {
   "cell_type": "code",
   "execution_count": 6,
   "metadata": {},
   "outputs": [
    {
     "data": {
      "text/plain": [
       "<pkg.planning.constraint.constraint_actor.PlacePlane at 0x7fc964a69450>"
      ]
     },
     "execution_count": 6,
     "metadata": {},
     "output_type": "execute_result"
    }
   ],
   "source": [
    "# create PlacePlane on geometry \"floor\" and \"goal\"\n",
    "# when point is not set, the entire upper surface of the geometry becomes valid binding area.\n",
    "# when point is set, the specific point becomes the only valid binding point.\n",
    "pscene.create_binder(bname=\"floor\", gname=\"floor\", _type=PlacePlane, point=None)\n",
    "pscene.create_binder(bname=\"goal\", gname=\"goal\", _type=PlacePlane, point=(0,0,0.005))"
   ]
  },
  {
   "cell_type": "code",
   "execution_count": 7,
   "metadata": {},
   "outputs": [
    {
     "data": {
      "text/plain": [
       "<pkg.planning.constraint.constraint_actor.Gripper2Tool at 0x7fc964a72490>"
      ]
     },
     "execution_count": 7,
     "metadata": {},
     "output_type": "execute_result"
    }
   ],
   "source": [
    "# add collision boundary for gripper base\n",
    "# - set link_name=\"indy0_tcp\" to attach the geometry to end-effector link\n",
    "# - it can be labeled as fixed=True, as it is \"fixed\" on the indy0_tcp link\n",
    "gripper =  gscene.create_safe(GEOTYPE.BOX, \"gripper\", link_name=\"indy0_tcp\", \n",
    "                                dims=(0.02,0.1,0.1), center=(0,0,0.05), rpy=(0,0,0), \n",
    "                                color=(0.8,0.2,0.2,0.5), display=True, fixed=True, collision=True)\n",
    "\n",
    "# add gripper fingers - By setting parent=\"gripper\", the position of geometry can be set relative to the parent geometry\n",
    "finger1 =  gscene.create_safe(GEOTYPE.BOX, \"finger1\", link_name=\"indy0_tcp\",\n",
    "                              dims=(0.04,0.02,0.1), center=(0,0.04,0.07), rpy=(0,0,0), \n",
    "                              color=(0.8,0.2,0.2,0.5), display=True, fixed=True, collision=True, parent=\"gripper\")\n",
    "finger2 =  gscene.create_safe(GEOTYPE.BOX, \"finger2\", link_name=\"indy0_tcp\", \n",
    "                              dims=(0.04,0.02,0.1), center=(0,-0.04,0.07), rpy=(0,0,0), \n",
    "                              color=(0.8,0.2,0.2,0.5), display=True, fixed=True, collision=True, parent=\"gripper\")\n",
    "\n",
    "# create Gripper2Tool binder\n",
    "# Gripper2Tool is a 2-finger gripper, which can rotate along z-direction.\n",
    "# To align the z-direction with the 2 fingers, rotate by 90 degree along roll axis.\n",
    "# The gripping point is (0,0,0.11) in local coordinate of \"gripper\" geometry\n",
    "pscene.create_binder(bname=\"grip0\", gname=\"gripper\", _type=Gripper2Tool, point=(0,0,0.11), rpy=(-np.pi/2,0,0))"
   ]
  },
  {
   "cell_type": "code",
   "execution_count": 8,
   "metadata": {},
   "outputs": [
    {
     "data": {
      "text/plain": [
       "<pkg.planning.constraint.constraint_actor.SweepFramer at 0x7fc964a3a4d0>"
      ]
     },
     "execution_count": 8,
     "metadata": {},
     "output_type": "execute_result"
    }
   ],
   "source": [
    "# Add virtual (no-collision) sweep face. the point is 0.2 m away from the \"indy0_tcp\" link\n",
    "# To match the z-direction with the target surface, the geometry is rotated 180 degrees in pitch-axis.\n",
    "sweep_face =  gscene.create_safe(GEOTYPE.BOX, \"sweep_face\", link_name=\"indy0_tcp\", \n",
    "                                dims=(0.05,0.05,0.001), center=(0,0,0.2), rpy=(0,np.pi,0), \n",
    "                                color=(0.2,0.2,0.8,0.1), display=True, fixed=True, collision=False)\n",
    "                                 \n",
    "# create SweepTool binder\n",
    "pscene.create_binder(bname=\"sweep_face\", gname=\"sweep_face\", _type=SweepFramer, point=(0,0,0), rpy=(0,0,0))"
   ]
  },
  {
   "cell_type": "markdown",
   "metadata": {},
   "source": [
    "##### create_subject\n",
    "* Subject describes the tasks in the planning scene.\n",
    "* There are 2 categories in subject:\n",
    "  1. Object: The object has grip points and placement points for pick&place task\n",
    "  2. Task: The task is can be any non-physical task. Check SweepLineTask for example\n",
    "* The subjects can be composed of multiple action points. Examples are:\n",
    "  1. Grasp2Point: grasping point for 2-finger gripper. \n",
    "  2. PlacePoint: The point to place object.\n",
    "  3. SweepPoint: A waypoint for SweepLineTask.\n",
    "  * The above 3 action points inherit DirectePoint, for which the orientation is free along z-axis. \n",
    "  * If \"point\" parameter is not set, the entire upper surface is becomes valid action area."
   ]
  },
  {
   "cell_type": "code",
   "execution_count": 9,
   "metadata": {},
   "outputs": [],
   "source": [
    "from pkg.planning.constraint.constraint_subject import Grasp2Point, PlacePoint, SweepFrame\n",
    "from pkg.planning.constraint.constraint_subject import CustomObject, SweepLineTask"
   ]
  },
  {
   "cell_type": "code",
   "execution_count": 10,
   "metadata": {},
   "outputs": [],
   "source": [
    "## create box object with grasping points along positive & negative y-direction and placement point in the bottom face\n",
    "box_obj = pscene.create_subject(oname=\"box1\", gname=\"box1\", _type=CustomObject, \n",
    "                             action_points_dict = {\n",
    "                                 \"handle1\": Grasp2Point(\"handle1\", box1, [0,0,0], [-np.pi/2,0,0]),\n",
    "                                 \"handle2\": Grasp2Point(\"handle2\", box1, [0,0,0], [np.pi/2,0,0]),\n",
    "                                 \"bottom\": PlacePoint(\"bottom\", box1, [0,0,-0.026], [0,0,0])})"
   ]
  },
  {
   "cell_type": "code",
   "execution_count": 11,
   "metadata": {},
   "outputs": [],
   "source": [
    "## create sweep task with 2 waypoints\n",
    "sweep = pscene.create_subject(oname=\"sweep\", gname=\"floor\", _type=SweepLineTask, \n",
    "                             action_points_dict = {\"wp1\": SweepFrame(\"wp1\", wp1, [0,0,0.005], [0,0,0]),\n",
    "                                                   \"wp2\": SweepFrame(\"wp2\", wp2, [0,0,0.005], [0,0,0])}\n",
    "                             )"
   ]
  },
  {
   "cell_type": "code",
   "execution_count": 12,
   "metadata": {},
   "outputs": [],
   "source": [
    "pscene.add_handle_axis('girpper', pscene.actor_dict['grip0'])"
   ]
  },
  {
   "cell_type": "markdown",
   "metadata": {},
   "source": [
    "##### initialize_state\n",
    "* initialize_state(robot_pose) updates robot pose and gets corresponding binding status of current scene.\n",
    "* state.node of ('floor', 0) means the first subject (object) is placed on the floor and the second subject (sweep) has passed 0 waypoints"
   ]
  },
  {
   "cell_type": "code",
   "execution_count": 13,
   "metadata": {},
   "outputs": [
    {
     "name": "stdout",
     "output_type": "stream",
     "text": [
      "('floor', 0)\n"
     ]
    }
   ],
   "source": [
    "initial_state = pscene.initialize_state(crob.home_pose)\n",
    "print(initial_state.node)"
   ]
  },
  {
   "cell_type": "markdown",
   "metadata": {},
   "source": [
    "## 4.2 MotionPlanner"
   ]
  },
  {
   "cell_type": "markdown",
   "metadata": {},
   "source": [
    "##### MoveitPlanner\n",
    "* *get_available_binding_dict()* gets available binding states for each subject in a dictionary\n",
    "* *sample_leaf_state samples()* target state with given available_binding_dict and target node\n",
    "* *rebind_all()* updates binding state and returns the resultant state\n",
    "* The motions tested in this section are:\n",
    "  - pick: move the object to \"gripper\"\n",
    "  - place: move the object to \"goal\"\n",
    "  - sweep: \n",
    "    1) approach to waypoint 1\n",
    "    2) sweep to waypoint 2\n",
    "    3) return to home pose"
   ]
  },
  {
   "cell_type": "code",
   "execution_count": 14,
   "metadata": {},
   "outputs": [],
   "source": [
    "from pkg.planning.motion.moveit.moveit_py import ConstrainedSpaceType, PlannerConfig\n",
    "\n",
    "gtimer = GlobalTimer.instance()\n",
    "gtimer.reset()"
   ]
  },
  {
   "cell_type": "code",
   "execution_count": 15,
   "metadata": {},
   "outputs": [],
   "source": [
    "from pkg.planning.motion.moveit.moveit_planner import MoveitPlanner\n",
    "from pkg.planning.filtering.grasp_filter import GraspChecker\n",
    "mplan = MoveitPlanner(pscene, motion_filters=[GraspChecker(pscene)])"
   ]
  },
  {
   "cell_type": "markdown",
   "metadata": {},
   "source": [
    "##### PDDLStream\n",
    "* pick & place\n",
    "* currently only *single robot* is supported\n",
    "* only colliding geometries are transfered to PDDLStream(pybullet). make sure collision=True for all subjects and actors."
   ]
  },
  {
   "cell_type": "code",
   "execution_count": 16,
   "metadata": {},
   "outputs": [],
   "source": [
    "from pkg.planning.pddlstream.plan_rnb import *"
   ]
  },
  {
   "cell_type": "markdown",
   "metadata": {},
   "source": [
    "### solve in pddlstream general"
   ]
  },
  {
   "cell_type": "code",
   "execution_count": 17,
   "metadata": {},
   "outputs": [],
   "source": [
    "domain_path = os.path.join(RNB_PLANNING_DIR, \"src\", \"pkg\", \"planning\", \"pddlstream\", \"domain\")"
   ]
  },
  {
   "cell_type": "code",
   "execution_count": 18,
   "metadata": {},
   "outputs": [
    {
     "name": "stdout",
     "output_type": "stream",
     "text": [
      "[Pybullet] Load urdf from /home/jb/Projects/rnb-planning/src/robots/custom_robots_pybullet.urdf\n",
      "[WARING] non-object subject not implemented for now\n",
      "('Objects:', {1L: 'goal', 2L: 'gripper', 3L: 'floor', 4L: 'wall', 5L: 'obstacle', 6L: 'box1'})\n",
      "================ MAKE PROBLEM ======================\n",
      "IK checkers: ['GraspChecker']\n",
      "MP checkers: []\n",
      "timeout motion : 0.5\n",
      "====================================================\n"
     ]
    }
   ],
   "source": [
    "pscene, mplan, ROBOT_NAME, TOOL_NAME, HOME_POSE, goal_pairs, initial_state = \\\n",
    "    pscene, mplan, 'indy0', 'grip0', crob.home_pose, None, initial_state\n",
    "\n",
    "TIMEOUT_MOTION=0.5\n",
    "MAX_TIME=30\n",
    "MAX_ITER=100\n",
    "MAX_SKELETONS=10\n",
    "GRASP_SAMPLE=30\n",
    "STABLE_SAMPLE=50\n",
    "SHOW_STATE=False\n",
    "SEARCH_SAMPLE_RATIO=10\n",
    "use_pybullet_gui=True\n",
    "USE_MOVEIT_IK=True\n",
    "\n",
    "\n",
    "TIMED_COMPLETE=False\n",
    "VERBOSE=False\n",
    "IK_TRY_NUM=10\n",
    "IK_TIMEOUT_SINGLE=0.01\n",
    "\n",
    "                \n",
    "                \n",
    "gtimer = GlobalTimer.instance()\n",
    "gscene = pscene.gscene\n",
    "#     checkers_ik = [checker for checker in mplan.motion_filters if checker.BEFORE_IK]\n",
    "checkers_ik = [checker for checker in mplan.motion_filters]\n",
    "# mplan.motion_filters = [checker for checker in mplan.motion_filters if not checker.BEFORE_IK]\n",
    "mplan.motion_filters = []\n",
    "checkers_ik_names = [checker.__class__.__name__ for checker in checkers_ik]\n",
    "checkers_mp_names = [checker.__class__.__name__ for checker in mplan.motion_filters]\n",
    "connect_notebook(use_gui=use_pybullet_gui)\n",
    "urdf_pybullet_path = copy_meshes(gscene)\n",
    "reset_pybullet()\n",
    "robot_body, body_names, movable_bodies = pscene_to_pybullet(\n",
    "    pscene, urdf_pybullet_path, tool_name=TOOL_NAME, name_exclude_list=[ROBOT_NAME])\n",
    "print('Objects:', body_names)\n",
    "saver = WorldSaver()\n",
    "mplan.reset_log(True)\n",
    "\n",
    "\n",
    "pscene, robot, initial_state = pscene, robot_body, initial_state\n",
    "\n",
    "body_names=body_names\n",
    "Q_init=HOME_POSE\n",
    "# goal_pairs=goal_pairs\n",
    "movable=movable_bodies\n",
    "checkers_ik=checkers_ik\n",
    "tool_name=TOOL_NAME\n",
    "tool_link_name=pscene.actor_dict[TOOL_NAME].geometry.link_name\n",
    "mplan=mplan\n",
    "timeout=TIMEOUT_MOTION\n",
    "grasp_sample=GRASP_SAMPLE\n",
    "stable_sample=STABLE_SAMPLE\n",
    "show_state=SHOW_STATE\n",
    "USE_MOVEIT_IK=USE_MOVEIT_IK\n",
    "TIMED_COMPLETE=TIMED_COMPLETE\n",
    "IK_TRY_NUM=IK_TRY_NUM\n",
    "IK_TIMEOUT_SINGLE=IK_TIMEOUT_SINGLE\n",
    "                                            \n",
    "print(\"================ MAKE PROBLEM ======================\")\n",
    "print(\"IK checkers: {}\".format([checker.__class__.__name__ for checker in checkers_ik]))\n",
    "print(\"MP checkers: {}\".format([checker.__class__.__name__ for checker in mplan.motion_filters]))\n",
    "print(\"timeout motion : {}\".format(timeout))\n",
    "print(\"====================================================\")\n",
    "#assert (not are_colliding(tree, kin_cache))\n",
    "assert tool_link_name is not None, \"tool_link_name should be passed to pddlstream_from_problem\"\n",
    "assert tool_name is not None, \"tool_name should be passed to pddlstream_from_problem\"\n",
    "assert mplan is not None, \"mplan should be passed to pddlstream_from_problem\"\n",
    "\n",
    "# if len(checkers_ik)==0 and len(mplan.motion_filters)==0:\n",
    "#     print(\"No predictors are assigned. Automatically set TIMED_COMPLETE=False\")\n",
    "#     TIMED_COMPLETE = False"
   ]
  },
  {
   "cell_type": "code",
   "execution_count": 19,
   "metadata": {},
   "outputs": [
    {
     "name": "stdout",
     "output_type": "stream",
     "text": [
      "('Robot:', 0L)\n",
      "('Movable:', [6L])\n",
      "('Fixed:', [1, 2, 3, 4, 5])\n",
      "initial pose\n",
      "((0.30000001192092896, 0.4000000059604645, 0.03099999949336052), (0.0, 0.0, 0.0, 1.0))\n",
      "body subject map\n",
      "{3L: <pkg.planning.constraint.constraint_subject.SweepLineTask object at 0x7fc964a72ed0>, 6L: <pkg.planning.constraint.constraint_subject.CustomObject object at 0x7fc964a860d0>}\n",
      "body actor map\n",
      "{1L: <pkg.planning.constraint.constraint_actor.PlacePlane object at 0x7fc964a69450>, 2L: <pkg.planning.constraint.constraint_actor.Gripper2Tool object at 0x7fc964a72490>, 3L: <pkg.planning.constraint.constraint_actor.PlacePlane object at 0x7fc964a69490>}\n",
      "subject body map\n",
      "{'box1': 6L, 'sweep': 3L}\n",
      "actor body map\n",
      "{'grip0': 2L, 'goal': 1L, 'floor': 3L}\n"
     ]
    }
   ],
   "source": [
    "domain_pddl = read(get_file_path(domain_path+\"/dummy\", 'domain_general.pddl'))\n",
    "stream_pddl = read(get_file_path(domain_path+\"/dummy\", 'stream_general.pddl'))\n",
    "constant_map = {}\n",
    "\n",
    "print('Robot:', robot)\n",
    "set_configuration(robot, Q_init)\n",
    "conf = BodyConf(robot, get_configuration(robot))\n",
    "conf_temp = BodyConf(robot,[ 1.42505094, -0.49137475, -2.19144837, -0.38963825, -0.463891,   -1.3667626 ])\n",
    "conf_f = BodyConf(3L, [])\n",
    "pose_goal = BodyPose(6L, ((0.3, 0.4, 0.031), (0.0, 0.0, 0.0, 1.0)))\n",
    "# pose_goal2 = BodyPose(6L, goal_pose_val)\n",
    "# goal_binding = Binding(goal_btf)\n",
    "init = [('CanMove',),\n",
    "        ('HandEmpty',),\n",
    "        ('Conf', robot, conf),\n",
    "        ('AtConf', robot, conf)]\n",
    "\n",
    "initial_state = pscene.initialize_state(Q_init)\n",
    "init_btf = initial_state.binding_state['box1']\n",
    "init_binding = Binding(init_btf)\n",
    "\n",
    "fixed = get_fixed(robot, movable)\n",
    "print('Movable:', movable)\n",
    "print('Fixed:', fixed)\n",
    "for body in movable:\n",
    "    pose = BodyPose(body, get_pose(body))\n",
    "    init += [('Actor', robot, 2L),\n",
    "             ('Actor', 3L, 1L),\n",
    "             ('Actor', 3L, 3L),\n",
    "             ('Robot', robot),\n",
    "             ('Robot', 3L),\n",
    "             ('Conf', 3L, conf_f),\n",
    "             ('AtConf', 3L, conf_f),\n",
    "             ('Subject', 6L),\n",
    "             ('Pose', body, pose),\n",
    "             ('Binding', 6L, 3L, init_binding),\n",
    "             ('BindingPose', body, 3L, init_binding, pose),\n",
    "             ('AtPose', body, pose),\n",
    "             ('Pose', 6L, pose_goal),\n",
    "             ('Active', robot)\n",
    "#              ('AttachTo', 6L, 3L)\n",
    "#              ('Pose', 6L, pose_goal2),\n",
    "#              ('Binding', 6L, 1L, goal_binding),\n",
    "#              ('BindingPose', 6L, 1L, goal_binding, pose_goal2)\n",
    "             ]\n",
    "print('initial pose')\n",
    "print(pose.value)\n",
    "body_subject_map = make_body_subject_map(pscene, body_names)\n",
    "print('body subject map')\n",
    "print(body_subject_map)\n",
    "body_actor_map = make_body_actor_map(pscene, body_names)\n",
    "print('body actor map')\n",
    "print(body_actor_map)\n",
    "subject_body_map = {sj.oname: bid for bid, sj in body_subject_map.items()}\n",
    "print('subject body map')\n",
    "print(subject_body_map)\n",
    "actor_body_map = {at.name: bid for bid, at in body_actor_map.items()}\n",
    "print('actor body map')\n",
    "print(actor_body_map)\n",
    "# update_grasp_info({tool_name: GraspInfo(\n",
    "#     lambda body: sample_grasps(body_subject_map=body_subject_map, body=body, actor=actor,\n",
    "#                                sample_count=grasp_sample, show_state=show_state),\n",
    "#     approach_pose=Pose(APPROACH_VEC))})\n",
    "if USE_MOVEIT_IK:\n",
    "    ik_kwargs = dict(mplan=mplan, timeout_single=IK_TIMEOUT_SINGLE)\n",
    "else:\n",
    "    ik_kwargs = {}\n",
    "ik_fun = get_ik_fn_general_rnb(\n",
    "    pscene, actor_body_map, mplan, fixed=fixed)\n",
    "\n",
    "stream_map = {\n",
    "    'sample-binding': from_gen_fn(get_binding_gen_rnb(body_subject_map, body_actor_map)),\n",
    "    'sample-transform': from_fn(get_transform_gen_rnb(pscene, body_actor_map, subject_body_map)),\n",
    "    'inverse-kinematics': from_fn(ik_fun),\n",
    "\n",
    "    'plan-motion': from_fn(get_general_motion_gen_rnb(mplan, body_subject_map, robot,\n",
    "                                                        tool=pscene.actor_dict[tool_name],\n",
    "                                                        tool_link=tool_link_name, timeout=timeout,\n",
    "                                                        show_state=show_state,\n",
    "                                                        approach_vec=None)),\n",
    "    'test-cfree-binding-binding': from_test(get_cfree_binding_binding_test_rnb()),\n",
    "    'test-cfree-conf-pose': from_test(get_cfree_conf_pose_test_rnb()),\n",
    "    'test-equal-pose-value': from_test(get_equal_pose_value_test_rnb())\n",
    "}"
   ]
  },
  {
   "cell_type": "code",
   "execution_count": 20,
   "metadata": {
    "scrolled": true
   },
   "outputs": [
    {
     "name": "stdout",
     "output_type": "stream",
     "text": [
      "('Init:', [('CanMove',), ('HandEmpty',), ('Conf', 0L, q0), ('AtConf', 0L, q0), ('Actor', 0L, 2L), ('Actor', 3L, 1L), ('Actor', 3L, 3L), ('Robot', 0L), ('Robot', 3L), ('Conf', 3L, q2), ('AtConf', 3L, q2), ('Subject', 6L), ('Pose', 6L, p1), ('Binding', 6L, 3L, b0), ('BindingPose', 6L, 3L, b0, p1), ('AtPose', 6L, p1), ('Pose', 6L, p0), ('Active', 0L)])\n",
      "('Goal:', ('AtPose', 6L, p0))\n",
      "('Streams:', '{inverse-kinematics, plan-motion, sample-binding, sample-transform, test-cfree-binding-binding, test-cfree-conf-pose, test-equal-pose-value}')\n",
      "Warning! All actions have no cost. Recommend setting unit_costs=True\n",
      "\n",
      "Iteration: 1 | Complexity: 0 | Skeletons: 0 | Skeleton Queue: 0 | Disabled: 0 | Evaluations: 18 | Eager Calls: 0 | Cost: inf | Search Time: 0.000 | Sample Time: 0.000 | Total Time: 0.000\n",
      "Attempt: 1 | Results: 12 | Depth: 0 | Success: False | Time: 0.013\n",
      "Stream plan (inf, 0, inf): None\n",
      "Action plan (inf, inf): None\n",
      "No plan: increasing complexity from 0 to 1\n",
      "\n",
      "Iteration: 2 | Complexity: 1 | Skeletons: 0 | Skeleton Queue: 0 | Disabled: 0 | Evaluations: 18 | Eager Calls: 0 | Cost: inf | Search Time: 0.014 | Sample Time: 0.000 | Total Time: 0.014\n",
      "Attempt: 1 | Results: 35 | Depth: 0 | Success: False | Time: 0.055\n",
      "Stream plan (inf, 0, inf): None\n",
      "Action plan (inf, inf): None\n",
      "No plan: increasing complexity from 1 to 2\n",
      "\n",
      "Iteration: 3 | Complexity: 2 | Skeletons: 0 | Skeleton Queue: 0 | Disabled: 0 | Evaluations: 18 | Eager Calls: 0 | Cost: inf | Search Time: 0.070 | Sample Time: 0.000 | Total Time: 0.070\n",
      "Attempt: 1 | Results: 54 | Depth: 0 | Success: False | Time: 0.069\n",
      "Stream plan (inf, 0, inf): None\n",
      "Action plan (inf, inf): None\n",
      "No plan: increasing complexity from 2 to 3\n",
      "\n",
      "Iteration: 4 | Complexity: 3 | Skeletons: 0 | Skeleton Queue: 0 | Disabled: 0 | Evaluations: 18 | Eager Calls: 0 | Cost: inf | Search Time: 0.140 | Sample Time: 0.000 | Total Time: 0.140\n",
      "Attempt: 1 | Results: 57 | Depth: 1 | Success: False | Time: 0.115\n",
      "Attempt: 2 | Results: 109 | Depth: 1 | Success: False | Time: 0.330\n",
      "Attempt: 3 | Results: 135 | Depth: 1 | Success: False | Time: 0.474\n",
      "Attempt: 4 | Results: 165 | Depth: 1 | Success: False | Time: 0.633\n",
      "Attempt: 5 | Results: 171 | Depth: 1 | Success: False | Time: 0.784\n",
      "Attempt: 6 | Results: 256 | Depth: 0 | Success: True | Time: 0.966\n",
      "Stream plan (6, 6, 0.001): [sample-binding:(0, 2, 6)->(#b0), inverse-kinematics:(6, p1, 0, 2, #b0)->(#q0), inverse-kinematics:(6, p0, 0, 2, #b0)->(#q1), plan-motion:(0, q0, #q0)->(#t0), plan-motion:(0, #q0, #q1)->(#t2), sample-transform:(0, q0, 6, 2, #b0)->(#p0)]\n",
      "Action plan (4, 0.000): [motion(0, #t0, q0, #q0), attach(6, p1, #p0, 3, b0, 2, #b0, 0, #q0), motion(0, #t2, #q0, #q1), detach(6, #p0, p0, 2, #b0, 0, #q1)]\n",
      "sampling binding called\n",
      "sample bd: binding, redundancy, .btf.chain, .btf.T_lao\n",
      "b1\n",
      "{'handle1': {'w': 0.0}, 'grip0': {'w': -0.5345344224569115}}\n",
      "BindingChain(subject_name='box1', handle_name='handle1', actor_name='grip0', actor_root_gname='gripper')\n",
      "[[ 8.6050588e-01  3.1194235e-17 -5.0944048e-01  0.0000000e+00]\n",
      " [-3.1194235e-17  1.0000000e+00  8.5415497e-18  0.0000000e+00]\n",
      " [ 5.0944048e-01  8.5415522e-18  8.6050588e-01  1.6000001e-01]\n",
      " [ 0.0000000e+00  0.0000000e+00  0.0000000e+00  1.0000000e+00]]\n",
      "get ik fn print body_pose, body_pose.body, body_pose.value\n",
      "p1\n",
      "6\n",
      "((0.30000001192092896, 0.4000000059604645, 0.03099999949336052), (0.0, 0.0, 0.0, 1.0))\n",
      "print goal pose\n",
      "((0.30000001192092896, 0.4000000059604645, 0.03099999949336052), (0.0, 0.0, 0.0, 1.0))\n",
      "get ik fn general, print movable_joints, q\n",
      "[1, 2, 3, 4, 5, 6]\n",
      "None\n",
      "get ik fn general, print movable_joints, q\n",
      "[1, 2, 3, 4, 5, 6]\n",
      "None\n",
      "get ik fn general, print movable_joints, q\n",
      "[1, 2, 3, 4, 5, 6]\n",
      "[ 1.57310842 -2.08237648 -1.45302582 -0.9942336  -2.48846273 -2.45818889]\n",
      "True\n",
      "get ik fn general, print movable_joints, q\n",
      "[1, 2, 3, 4, 5, 6]\n",
      "[-2.24582043  3.02200691 -0.78853443  0.42694407 -1.85295633  2.44605706]\n",
      "True\n",
      "get ik fn general, print movable_joints, q\n",
      "[1, 2, 3, 4, 5, 6]\n",
      "[-1.59247869  2.08076973  1.45341936  2.13036863 -2.49686453 -2.4516963 ]\n",
      "True\n",
      "get ik fn general, print movable_joints, q\n",
      "[1, 2, 3, 4, 5, 6]\n",
      "[ 0.91608167 -3.01479522  0.77650455 -2.70581477 -1.86401483  2.43301847]\n",
      "True\n",
      "get ik fn general, print movable_joints, q\n",
      "[1, 2, 3, 4, 5, 6]\n",
      "[ 1.57310855 -2.08237647 -1.45302557 -0.99423339 -2.48846249 -2.45818911]\n",
      "True\n",
      "get ik fn general, print movable_joints, q\n",
      "[1, 2, 3, 4, 5, 6]\n",
      "[ 1.7185284  -3.02344769  1.27357578  0.54381703  1.79985513 -1.60560792]\n",
      "True\n",
      "get ik fn general, print movable_joints, q\n",
      "[1, 2, 3, 4, 5, 6]\n",
      "[-1.5726731   2.08609182  0.62838788 -2.18247371  2.46995981 -0.72843657]\n",
      "True\n",
      "get ik fn general, print movable_joints, q\n",
      "[1, 2, 3, 4, 5, 6]\n",
      "[ 1.58257043 -2.08492246 -0.6314108   0.96940567  2.47565309 -0.73116816]\n",
      "True\n",
      "Sampling for up to 11.081 seconds\n",
      "sample bd: binding, redundancy, .btf.chain, .btf.T_lao\n",
      "b2\n",
      "{'grip0': {'w': -0.6403459183039495}, 'handle2': {'w': 0.0}}\n",
      "BindingChain(subject_name='box1', handle_name='handle2', actor_name='grip0', actor_root_gname='gripper')\n",
      "[[ 8.0188912e-01  3.6584660e-17  5.9747285e-01 -2.9802322e-08]\n",
      " [-3.6584660e-17 -1.0000000e+00  1.1033389e-16  0.0000000e+00]\n",
      " [ 5.9747285e-01 -1.1033389e-16 -8.0188912e-01  1.6000000e-01]\n",
      " [ 0.0000000e+00  0.0000000e+00  0.0000000e+00  1.0000000e+00]]\n",
      "get ik fn print body_pose, body_pose.body, body_pose.value\n",
      "p1\n",
      "6\n",
      "((0.30000001192092896, 0.4000000059604645, 0.03099999949336052), (0.0, 0.0, 0.0, 1.0))\n",
      "print goal pose\n",
      "((0.30000001192092896, 0.4000000059604645, 0.03099999949336052), (0.0, 0.0, 0.0, 1.0))\n",
      "get ik fn general, print movable_joints, q\n",
      "[1, 2, 3, 4, 5, 6]\n",
      "[-1.67128015  2.41560358 -2.61855926 -1.74219061  2.49396756 -0.33880549]\n",
      "True\n",
      "get ik fn general, print movable_joints, q\n",
      "[1, 2, 3, 4, 5, 6]\n",
      "[ 1.50047001 -2.41511843  2.61861879  1.37048972  2.48789613 -0.33800655]\n",
      "True\n",
      "get ik fn general, print movable_joints, q\n",
      "[1, 2, 3, 4, 5, 6]\n",
      "[ 1.67393283 -2.38974867  1.76477122 -0.95640002 -2.32719139 -2.2140409 ]\n",
      "True\n",
      "get ik fn general, print movable_joints, q\n",
      "[1, 2, 3, 4, 5, 6]\n",
      "[-1.6714311   2.41565963 -2.61870038 -1.74183285  2.49400736 -0.33860823]\n",
      "True\n",
      "get ik fn general, print movable_joints, q\n",
      "[1, 2, 3, 4, 5, 6]\n",
      "[ 1.29186554 -0.51865107 -2.61246122 -1.83624135 -0.63711081 -0.01677475]\n",
      "False\n",
      "get ik fn print body_pose, body_pose.body, body_pose.value\n",
      "p0\n",
      "6\n",
      "((0.3, 0.4, 0.031), (0.0, 0.0, 0.0, 1.0))\n",
      "print goal pose\n",
      "((0.3, 0.4, 0.031), (0.0, 0.0, 0.0, 1.0))\n",
      "get ik fn general, print movable_joints, q\n",
      "[1, 2, 3, 4, 5, 6]\n",
      "[-1.88027748  0.51873289  2.6124402   1.27482578 -0.63715515 -0.01680829]\n",
      "True\n",
      "get ik fn general, print movable_joints, q\n",
      "[1, 2, 3, 4, 5, 6]\n",
      "[ 1.67392256 -2.38974399  1.76478145 -0.95635318 -2.32720168 -2.21401119]\n",
      "True\n",
      "get ik fn general, print movable_joints, q\n",
      "[1, 2, 3, 4, 5, 6]\n",
      "[-1.48252632  2.38793494 -1.76212366  2.19312354 -2.31963853 -2.22004235]\n",
      "True\n",
      "get ik fn general, print movable_joints, q\n",
      "[1, 2, 3, 4, 5, 6]\n",
      "[-1.67116277  2.41548531 -2.61840254 -1.74263808  2.49408693 -0.33914738]\n",
      "True\n",
      "get ik fn general, print movable_joints, q\n",
      "[1, 2, 3, 4, 5, 6]\n",
      "[ 1.50039498 -2.4151482   2.61868434  1.37066399  2.48791937 -0.33791122]\n",
      "True\n",
      "get ik fn general, print movable_joints, q\n",
      "[1, 2, 3, 4, 5, 6]\n",
      "[ 1.67384347 -2.38963286  1.76458604 -0.95630034 -2.32745693 -2.21400148]\n",
      "True\n",
      "get ik fn general, print movable_joints, q\n",
      "[1, 2, 3, 4, 5, 6]\n",
      "[-1.88043891  0.51873717  2.61247996  1.27443399 -0.63723177 -0.01655053]\n",
      "True\n",
      "get ik fn general, print movable_joints, q\n",
      "[1, 2, 3, 4, 5, 6]\n",
      "[-1.67117106  2.4155645  -2.6184582  -1.74244575  2.49393578 -0.33898119]\n",
      "True\n",
      "get ik fn general, print movable_joints, q\n",
      "[1, 2, 3, 4, 5, 6]\n",
      "[ 1.13128316 -0.53969194 -1.77437842  2.22936465  0.75272758  1.79666002]\n",
      "False\n",
      "plan general motion conf2.values\n",
      "0\n",
      "[ 1.29186554 -0.51865107 -2.61246122 -1.83624135 -0.63711081 -0.01677475]\n",
      "print command\n",
      "c0\n",
      "plan general motion conf2.values\n",
      "0\n",
      "[ 1.13128316 -0.53969194 -1.77437842  2.22936465  0.75272758  1.79666002]\n",
      "print command\n",
      "c1\n",
      "get tr, robot, body_conf(body, val), subject, actor, binding, binding.body\n",
      "0\n",
      "0\n",
      "(0.0, 0.0, -1.5707963267948966, 0.0, -1.5707963267948966, 0.0)\n",
      "6\n",
      "2\n",
      "b2\n",
      "BindingChain(subject_name='box1', handle_name='handle2', actor_name='grip0', actor_root_gname='gripper')\n",
      "get tr print body_pose\n",
      "6\n",
      "([0.35000001638937994, -0.1864999923833766, 0.3614999987194697], [-0.3147307271627571, 5.812058250623831e-17, 0.9491809992723211, -1.5151875481679944e-23])\n",
      "Summary: {complexity: 3, cost: 0.000, evaluations: 28, iterations: 4, length: 2, run_time: 1.359, sample_time: 0.244, search_time: 1.115, skeletons: 1, solutions: 1, solved: True, timeout: False}\n"
     ]
    },
    {
     "name": "stdout",
     "output_type": "stream",
     "text": [
      "         10239406 function calls (9849553 primitive calls) in 3.376 seconds\n",
      "\n",
      "   Ordered by: internal time\n",
      "   List reduced from 1410 to 10 due to restriction <10>\n",
      "\n",
      "   ncalls  tottime  percall  cumtime  percall filename:lineno(function)\n",
      "   697716    0.402    0.000    0.520    0.000 /usr/lib/python2.7/pickle.py:917(load_int)\n",
      "        2    0.321    0.161    1.324    0.662 /usr/lib/python2.7/pickle.py:851(load)\n",
      "  1395686    0.288    0.000    0.288    0.000 {method 'read' of 'file' objects}\n",
      " 348922/1    0.273    0.000    0.697    0.697 /usr/lib/python2.7/pickle.py:269(save)\n",
      "   697688    0.192    0.000    0.266    0.000 /usr/lib/python2.7/pickle.py:1184(load_append)\n",
      "        2    0.171    0.085    0.172    0.086 pkg/planning/motion/moveit/moveit_py.py:178(plan_joint_motion_py)\n",
      "   697857    0.135    0.000    0.135    0.000 {method 'write' of 'file' objects}\n",
      "   348865    0.109    0.000    0.197    0.000 /usr/lib/python2.7/pickle.py:443(save_int)\n",
      "   697852    0.090    0.000    0.090    0.000 {method 'readline' of 'file' objects}\n",
      "        8    0.082    0.010    0.082    0.010 {posix.read}\n",
      "\n",
      "\n",
      "\n",
      "Solved: True\n",
      "Cost: 0.000\n",
      "Length: 4\n",
      "Deferred: 0\n",
      "Evaluations: 2\n",
      " 1) motion 0 c0 q0 q3\n",
      " 2) attach 6 p1 p2 3 b0 2 b2 0 q3\n",
      " 3) motion 0 c1 q3 q4\n",
      " 4) detach 6 p2 p0 2 b2 0 q4\n"
     ]
    }
   ],
   "source": [
    "\n",
    "# binding_f = Binding(body_subject_map[6L].binding)\n",
    "# init += [('Binding', 6L, 3L, binding_f),\n",
    "#          ('BindingPose', 6L, 3L, binding_f, pose),]\n",
    "\n",
    "# goal = ('and', ('AtConf', robot, conf)) \\\n",
    "#        + tuple([\n",
    "#            ('On', subject_body_map[sname], actor_body_map[aname]) for sname, aname in goal_pairs\n",
    "#        ])\n",
    "# goal = ('AtConf', robot, conf_temp)\n",
    "# goal = ('On', subject_body_map['box1'], actor_body_map['goal'])\n",
    "# goal = ('Bound', subject_body_map['box1'], actor_body_map['grip0'])\n",
    "# goal = ('AttachTo', 6L, 1L)\n",
    "goal = ('AtPose', 6L, pose_goal)\n",
    "# goal = ('AtPose', 6L, pose_goal2)\n",
    "# goal = ('and', ('AtPose', 6L, pose)) \\\n",
    "#        + tuple([\n",
    "#            ('On', subject_body_map['box1'], actor_body_map['goal']) for sname, aname in goal_pairs\n",
    "#        ])\n",
    "# goal = ('FindConf', 0L, pose, 6L, 2L)\n",
    "# goal = ('FindConf', pose, 6L, 2L)\n",
    "# goal = ('FindBinding', 1L, 6L)\n",
    "# goal = ('FindBP', 6L, 1L)\n",
    "# goal = ('MoveToConf', robot, pose, 6L, 2L)\n",
    "# goal = ('GoToConf', robot, pose, 6L, 2L)\n",
    "        # ('Holding', body),\n",
    "        # ('On', body, fixed[2]),\n",
    "        # ('Cleaned', body),\n",
    "        #             ('Cooked', body),\n",
    "APPROACH_VEC = 0.00 * Point(z=-1)\n",
    "actor = pscene.actor_dict[tool_name]\n",
    "\n",
    "reset_checker_cache()\n",
    "\n",
    "problem, ik_fun = PDDLProblem(domain_pddl, constant_map, stream_pddl, stream_map, init, goal), ik_fun\n",
    "\n",
    "# GlobalLogger.instance()[\"ik_fun\"] = ik_fun\n",
    "# GlobalLogger.instance()[\"problem\"] = problem\n",
    "_, _, _, stream_map, init, goal = problem\n",
    "print('Init:', init)\n",
    "print('Goal:', goal)\n",
    "print('Streams:', str_from_object(set(stream_map)))\n",
    "ik_fun.checkout_count = 0\n",
    "ik_fun.fail_count = 0\n",
    "ik_fun.pass_count = 0\n",
    "with Profiler():\n",
    "    with LockRenderer(lock=not True):\n",
    "        gtimer.tic(\"plan\")\n",
    "        solution = solve(problem, algorithm='adaptive',\n",
    "                         unit_costs=False, success_cost=INF, max_time=MAX_TIME, max_iterations=MAX_ITER,\n",
    "                         max_skeletons=MAX_SKELETONS, search_sample_ratio=SEARCH_SAMPLE_RATIO, verbose=VERBOSE)\n",
    "        gtimer.toc(\"plan\") / gtimer.scale\n",
    "        saver.restore()\n",
    "print_solution(solution)\n",
    "plan, cost, evaluations = solution\n",
    "# GlobalLogger.instance()[\"solution\"] = solution\n",
    "res = not any(plan is status for status in [None, False])\n",
    "\n",
    "move_num = len(plan) if res else 0\n",
    "pre_motion_checks = mplan.result_log[\"pre_motion_checks\"]\n",
    "plan_try = len(pre_motion_checks)\n",
    "planning_log = mplan.result_log[\"planning\"]\n",
    "plan_num = len(planning_log)\n",
    "fail_num = np.sum(np.logical_not(mplan.result_log[\"planning\"]))\n",
    "elapsed = SolutionStore.last_log['run_time']\n",
    "\n",
    "log_dict = {\"plan_time\": elapsed, \"length\": move_num,\n",
    "            \"IK_tot\": ik_fun.checkout_count + ik_fun.pass_count + ik_fun.fail_count,\n",
    "            \"IK_count\": ik_fun.pass_count + ik_fun.fail_count, \"failed_IKs\": ik_fun.fail_count,\n",
    "            \"MP_tot\": plan_try, \"MP_count\": plan_num, \"failed_MPs\": fail_num,\n",
    "            \"success\": res, \"body_names\": body_names, \"plan\": plan,\n",
    "            \"pre_motion_checks\": pre_motion_checks, \"planning_log\": planning_log,\n",
    "            \"checkers_ik\": checkers_ik_names, \"checkers_mp\":checkers_mp_names,\n",
    "            \"time_log\": gtimer.timelist_dict if gtimer.stack else gtimer.time_dict}"
   ]
  },
  {
   "cell_type": "code",
   "execution_count": 21,
   "metadata": {},
   "outputs": [
    {
     "data": {
      "text/plain": [
       "[Action(name='motion', args=(0L, c0, q0, q6)),\n",
       " Action(name='attach', args=(6L, p1, p2, 2L, b6, 0L, q6)),\n",
       " Action(name='motion', args=(0L, c1, q6, q5)),\n",
       " Action(name='detach', args=(6L, p2, p0, 2L, b6, 0L, q5))]"
      ]
     },
     "execution_count": 21,
     "metadata": {},
     "output_type": "execute_result"
    }
   ],
   "source": [
    "plan"
   ]
  },
  {
   "cell_type": "code",
   "execution_count": 22,
   "metadata": {},
   "outputs": [
    {
     "data": {
      "text/plain": [
       "(0L, c0, q0, q6)"
      ]
     },
     "execution_count": 22,
     "metadata": {},
     "output_type": "execute_result"
    }
   ],
   "source": [
    "plan[0].args"
   ]
  },
  {
   "cell_type": "code",
   "execution_count": 26,
   "metadata": {},
   "outputs": [
    {
     "data": {
      "text/plain": [
       "[BodyPath(0,6,32,0)]"
      ]
     },
     "execution_count": 26,
     "metadata": {},
     "output_type": "execute_result"
    }
   ],
   "source": [
    "plan[0].args[1].body_paths"
   ]
  },
  {
   "cell_type": "code",
   "execution_count": 27,
   "metadata": {},
   "outputs": [],
   "source": [
    "traj = bps2traj(plan[0].args[1].body_paths)\n",
    "gscene.show_motion(traj, period=0.01)"
   ]
  },
  {
   "cell_type": "code",
   "execution_count": 28,
   "metadata": {},
   "outputs": [
    {
     "data": {
      "text/plain": [
       "(0L, c1, q6, q5)"
      ]
     },
     "execution_count": 28,
     "metadata": {},
     "output_type": "execute_result"
    }
   ],
   "source": [
    "plan[2].args"
   ]
  },
  {
   "cell_type": "code",
   "execution_count": 29,
   "metadata": {},
   "outputs": [
    {
     "data": {
      "text/plain": [
       "[BodyPath(0,6,86,0)]"
      ]
     },
     "execution_count": 29,
     "metadata": {},
     "output_type": "execute_result"
    }
   ],
   "source": [
    "plan[2].args[1].body_paths"
   ]
  },
  {
   "cell_type": "code",
   "execution_count": 30,
   "metadata": {},
   "outputs": [],
   "source": [
    "traj2 = bps2traj(plan[2].args[1].body_paths)\n",
    "gscene.show_motion(traj2, period=0.01)"
   ]
  },
  {
   "cell_type": "code",
   "execution_count": 21,
   "metadata": {},
   "outputs": [],
   "source": [
    "play_general_pddl_plan(pscene, pscene.actor_dict[\"grip0\"], initial_state=initial_state,\n",
    "               body_names=log_dict['body_names'], plan=plan, SHOW_PERIOD=0.01)"
   ]
  },
  {
   "cell_type": "code",
   "execution_count": 22,
   "metadata": {},
   "outputs": [
    {
     "data": {
      "text/plain": [
       "[Action(name='motion_holding', args=(6L, p0, p1, 0L, c0, q0, q3))]"
      ]
     },
     "execution_count": 22,
     "metadata": {},
     "output_type": "execute_result"
    }
   ],
   "source": [
    "plan"
   ]
  },
  {
   "cell_type": "code",
   "execution_count": 24,
   "metadata": {},
   "outputs": [],
   "source": [
    "pscene.gscene.show_pose([ 1.37075349, -0.45248825, -2.430978, -0.95326231, -0.33854992, -0.85330234])"
   ]
  },
  {
   "cell_type": "code",
   "execution_count": 36,
   "metadata": {},
   "outputs": [],
   "source": [
    "pscene.gscene.show_pose([1.30953555, -1.90757443, -1.12179683, 0, 3.02937128, -1.30953372])"
   ]
  },
  {
   "cell_type": "code",
   "execution_count": 27,
   "metadata": {},
   "outputs": [],
   "source": [
    "play_pddl_plan(pscene, pscene.actor_dict[\"grip0\"], initial_state=initial_state,\n",
    "               body_names=log_dict['body_names'], plan=plan, SHOW_PERIOD=0.01)"
   ]
  },
  {
   "cell_type": "code",
   "execution_count": 27,
   "metadata": {},
   "outputs": [
    {
     "data": {
      "text/plain": [
       "<pkg.geometry.geometry.GeometryItem at 0x7f721b5a6250>"
      ]
     },
     "execution_count": 27,
     "metadata": {},
     "output_type": "execute_result"
    }
   ],
   "source": [
    "gscene.create_safe(GEOTYPE.BOX, \"box1\", \"base_link\", (0.05,0.05,0.05), (0.35000000148821875, -0.1864999923833766, 0.3614999838183085), \n",
    "                          rpy=(0,0,0), color=(0.8,0.2,0.2,1), display=True, fixed=False, collision=True)"
   ]
  },
  {
   "cell_type": "code",
   "execution_count": 21,
   "metadata": {},
   "outputs": [
    {
     "data": {
      "text/plain": [
       "Solution(plan=[Action(name='motion', args=(0L, c0, q0, q4)), Action(name='attach', args=(6L, p1, p2, 3L, b0, 2L, b2, 0L, q4))], cost=0.0, certificate=Certificate(all_facts=[('canmove',), ('handempty',), ('conf', 0L, q0), ('atconf', 0L, q0), ('actor', 0L, 2L), ('actor', 3L, 1L), ('actor', 3L, 3L), ('robot', 0L), ('robot', 3L), ('conf', 3L, q2), ('atconf', 3L, q2), ('subject', 6L), ('pose', 6L, p1), ('binding', 6L, 3L, b0), ('bindingpose', 6L, 3L, b0, p1), ('atpose', 6L, p1), ('pose', 6L, p0), ('binding', 6L, 2L, b1), ('conf', 0L, q3), ('kin', 6L, p1, 2L, b1, 0L, q3), ('binding', 6L, 2L, b2), ('conf', 0L, q4), ('kin', 6L, p1, 2L, b2, 0L, q4), ('motion', 0L, c0, q0, q4), ('bindingpose', 6L, 2L, b2, p2), ('pose', 6L, p2)], preimage_facts=[('atconf', 0L, q0), ('pose', 6L, p1), ('motion', 0L, c0, q0, q4), ('actor', 0L, 2L), ('atpose', 6L, p1), ('robot', 0L), ('bindingpose', 6L, 3L, b0, p1), ('conf', 0L, q4), ('kin', 6L, p1, 2L, b2, 0L, q4), ('conf', 0L, q0), ('bindingpose', 6L, 2L, b2, p2), ('subject', 6L), ('pose', 6L, p2), ('canmove',), ('binding', 6L, 2L, b2)]))"
      ]
     },
     "execution_count": 21,
     "metadata": {},
     "output_type": "execute_result"
    }
   ],
   "source": [
    "solution"
   ]
  },
  {
   "cell_type": "code",
   "execution_count": 22,
   "metadata": {},
   "outputs": [
    {
     "data": {
      "text/plain": [
       "[('canmove',),\n",
       " ('handempty',),\n",
       " ('conf', 0L, q0),\n",
       " ('atconf', 0L, q0),\n",
       " ('actor', 0L, 2L),\n",
       " ('actor', 3L, 1L),\n",
       " ('actor', 3L, 3L),\n",
       " ('robot', 0L),\n",
       " ('robot', 3L),\n",
       " ('conf', 3L, q2),\n",
       " ('atconf', 3L, q2),\n",
       " ('subject', 6L),\n",
       " ('pose', 6L, p1),\n",
       " ('binding', 6L, 3L, b0),\n",
       " ('bindingpose', 6L, 3L, b0, p1),\n",
       " ('atpose', 6L, p1),\n",
       " ('pose', 6L, p0),\n",
       " ('binding', 6L, 2L, b1),\n",
       " ('conf', 0L, q3),\n",
       " ('kin', 6L, p1, 2L, b1, 0L, q3),\n",
       " ('binding', 6L, 2L, b2),\n",
       " ('conf', 0L, q4),\n",
       " ('kin', 6L, p1, 2L, b2, 0L, q4),\n",
       " ('motion', 0L, c0, q0, q4),\n",
       " ('bindingpose', 6L, 2L, b2, p2),\n",
       " ('pose', 6L, p2)]"
      ]
     },
     "execution_count": 22,
     "metadata": {},
     "output_type": "execute_result"
    }
   ],
   "source": [
    "solution.certificate.all_facts"
   ]
  },
  {
   "cell_type": "code",
   "execution_count": 29,
   "metadata": {},
   "outputs": [
    {
     "data": {
      "text/plain": [
       "('binding', 6L, 1L, b9711)"
      ]
     },
     "execution_count": 29,
     "metadata": {},
     "output_type": "execute_result"
    }
   ],
   "source": [
    "solution.certificate.all_facts[17]"
   ]
  },
  {
   "cell_type": "code",
   "execution_count": 30,
   "metadata": {},
   "outputs": [
    {
     "data": {
      "text/plain": [
       "b9711"
      ]
     },
     "execution_count": 30,
     "metadata": {},
     "output_type": "execute_result"
    }
   ],
   "source": [
    "solution.certificate.all_facts[17][3]"
   ]
  },
  {
   "cell_type": "code",
   "execution_count": 31,
   "metadata": {},
   "outputs": [
    {
     "data": {
      "text/plain": [
       "array([[ 0.99998504, -0.0054635 ,  0.        ,  0.29999998],\n",
       "       [ 0.00546349,  0.99998504,  0.        , -0.40000004],\n",
       "       [ 0.        ,  0.        ,  1.        ,  0.031     ],\n",
       "       [ 0.        ,  0.        ,  0.        ,  1.        ]],\n",
       "      dtype=float32)"
      ]
     },
     "execution_count": 31,
     "metadata": {},
     "output_type": "execute_result"
    }
   ],
   "source": [
    "solution.certificate.all_facts[17][3].value"
   ]
  },
  {
   "cell_type": "code",
   "execution_count": 23,
   "metadata": {},
   "outputs": [
    {
     "data": {
      "text/plain": [
       "<pkg.planning.constraint.constraint_common.BindingTransform at 0x7f2cdd4b5c50>"
      ]
     },
     "execution_count": 23,
     "metadata": {},
     "output_type": "execute_result"
    }
   ],
   "source": [
    "solution.certificate.all_facts[17][3].binding_transform"
   ]
  },
  {
   "cell_type": "code",
   "execution_count": 24,
   "metadata": {},
   "outputs": [
    {
     "data": {
      "text/plain": [
       "array([[ 0.18506423,  0.98272645,  0.        ,  0.3       ],\n",
       "       [-0.98272645,  0.1850642 ,  0.        , -0.40000004],\n",
       "       [ 0.        ,  0.        ,  1.        ,  0.031     ],\n",
       "       [ 0.        ,  0.        ,  0.        ,  1.        ]],\n",
       "      dtype=float32)"
      ]
     },
     "execution_count": 24,
     "metadata": {},
     "output_type": "execute_result"
    }
   ],
   "source": [
    "solution.certificate.all_facts[17][3].binding_transform.T_lao"
   ]
  },
  {
   "cell_type": "code",
   "execution_count": 31,
   "metadata": {},
   "outputs": [
    {
     "data": {
      "text/plain": [
       "([0.30000001192092896, -0.40000003576278687, 0.03099999949336052],\n",
       " [0.0, 0.0, -0.6383321283300886, 0.769761062890024])"
      ]
     },
     "execution_count": 31,
     "metadata": {},
     "output_type": "execute_result"
    }
   ],
   "source": [
    "solution.certificate.all_facts[18][4].value"
   ]
  },
  {
   "cell_type": "code",
   "execution_count": 33,
   "metadata": {},
   "outputs": [],
   "source": [
    "import copy\n",
    "\n",
    "goal_btf = copy.deepcopy(solution.certificate.all_facts[17][3].binding_transform)\n",
    "goal_pose_val = copy.deepcopy(solution.certificate.all_facts[18][4].value)"
   ]
  },
  {
   "cell_type": "code",
   "execution_count": null,
   "metadata": {},
   "outputs": [],
   "source": [
    "solution.certificate.all_facts[17][3].binding_transform"
   ]
  }
 ],
 "metadata": {
  "kernelspec": {
   "display_name": "Python 2",
   "language": "python",
   "name": "python2"
  },
  "language_info": {
   "codemirror_mode": {
    "name": "ipython",
    "version": 2
   },
   "file_extension": ".py",
   "mimetype": "text/x-python",
   "name": "python",
   "nbconvert_exporter": "python",
   "pygments_lexer": "ipython2",
   "version": "2.7.17"
  }
 },
 "nbformat": 4,
 "nbformat_minor": 2
}
