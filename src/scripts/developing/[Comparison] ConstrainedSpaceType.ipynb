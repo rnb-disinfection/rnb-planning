{
 "cells": [
  {
   "cell_type": "markdown",
   "metadata": {},
   "source": [
    "## ConstrainedSpace 성능 비교 (1 line sweep) -> Atlas로 결정\n",
    "* ConstrainedSpace 성능 비교 (1 line sweep) --> Atlas로 결정\n",
    "  * Projected: 평균 5초 수준, 10초 성공률 70% 수준, std/max error 0.1mm/0.5mm\n",
    "  * Atlas: 중간값 130ms 수준, 평균 170ms 수준, 10초 성공률 100% 수준, std/max error 0.1mm/0.5mm\n",
    "  * TangentBundle:  중간값 30 ms 수준, 평균 500ms 수준, 10초 성공률 96% 수준, std/max error 0.5mm/3mm\n",
    "  \n",
    "* Constraint - 방향 두개 동시는 속도 현저히 떨어짐\n",
    "  * Atlas를 써도 느림, TangentBundle 쓰면 빠름\n",
    "  * BOX를 쓰면 수렴 못함 (discontinuity), PLANE 쓰면 그나마 가능, \n",
    "  * PLANE+TangentBundle 쓰면 어느정도 가능해지지만 미수렴 확률 높음, 불안정.\n",
    "  * 평행점 추가 방식은 그나마 수렴, 하지만 ATLAS는 여전히 느리고 TANGENT는 에러가 너무 큼\n",
    "  * 평행점 추가 + ATLAS는 긴 거리 이동 시에는 수렴성 매우 낮음\n",
    "  * 에러 때문에 tol 줄이면 오히려 속도 감소폭이 훨씬 큼\n",
    "  * 에러 감수하고 평행점 추가 + TANGENT가 현실적."
   ]
  },
  {
   "cell_type": "code",
   "execution_count": null,
   "metadata": {},
   "outputs": [],
   "source": []
  },
  {
   "cell_type": "markdown",
   "metadata": {},
   "source": [
    "## set running directory to project source"
   ]
  },
  {
   "cell_type": "code",
   "execution_count": 1,
   "metadata": {},
   "outputs": [],
   "source": [
    "import os\n",
    "import numpy as np\n",
    "import time\n",
    "os.chdir(os.path.join(os.environ[\"RNB_PLANNING_DIR\"], 'src'))"
   ]
  },
  {
   "cell_type": "code",
   "execution_count": null,
   "metadata": {},
   "outputs": [],
   "source": []
  },
  {
   "cell_type": "markdown",
   "metadata": {},
   "source": [
    "## 4.1 PlanningScene"
   ]
  },
  {
   "cell_type": "markdown",
   "metadata": {},
   "source": [
    "##### initialize CombinedRobot and GeometryScene"
   ]
  },
  {
   "cell_type": "code",
   "execution_count": 2,
   "metadata": {},
   "outputs": [
    {
     "name": "stdout",
     "output_type": "stream",
     "text": [
      "connection command:\n",
      "indy0: False\n"
     ]
    },
    {
     "name": "stderr",
     "output_type": "stream",
     "text": [
      "Unknown tag \"hardwareInterface\" in /robot[@name='custom_robots']/transmission[@name='indy0_tran0']/actuator[@name='indy0_motor0']\n",
      "Unknown tag \"hardwareInterface\" in /robot[@name='custom_robots']/transmission[@name='indy0_tran1']/actuator[@name='indy0_motor1']\n",
      "Unknown tag \"hardwareInterface\" in /robot[@name='custom_robots']/transmission[@name='indy0_tran2']/actuator[@name='indy0_motor2']\n",
      "Unknown tag \"hardwareInterface\" in /robot[@name='custom_robots']/transmission[@name='indy0_tran3']/actuator[@name='indy0_motor3']\n",
      "Unknown tag \"hardwareInterface\" in /robot[@name='custom_robots']/transmission[@name='indy0_tran4']/actuator[@name='indy0_motor4']\n",
      "Unknown tag \"hardwareInterface\" in /robot[@name='custom_robots']/transmission[@name='indy0_tran5']/actuator[@name='indy0_motor5']\n"
     ]
    },
    {
     "name": "stdout",
     "output_type": "stream",
     "text": [
      "Please create a subscriber to the marker\n",
      "publication OK\n",
      "published: [0, 0, 0, 0, 0, 0]\n",
      "Please create a subscriber to the marker\n"
     ]
    }
   ],
   "source": [
    "from pkg.controller.combined_robot import *\n",
    "from pkg.project_config import *\n",
    "from pkg.geometry.builder.scene_builder import SceneBuilder\n",
    "\n",
    "s_builder = SceneBuilder(None)   # create scene builder without detector for virtual scene\n",
    "crob = CombinedRobot(robots_on_scene=[\n",
    "    RobotConfig(0, RobotType.indy7, ((0,0,0), (0,0,0)), None)]\n",
    "                     , connection_list=[False])\n",
    "gscene = s_builder.create_gscene(crob)\n",
    "gtems = s_builder.add_robot_geometries(color=(0,1,0,0.5), display=True, collision=True)\n",
    "gscene.show_pose(crob.home_pose)"
   ]
  },
  {
   "cell_type": "markdown",
   "metadata": {},
   "source": [
    "##### add geometries"
   ]
  },
  {
   "cell_type": "code",
   "execution_count": 3,
   "metadata": {},
   "outputs": [],
   "source": [
    "from pkg.geometry.geometry import *\n",
    "\n",
    "# add environments (fixed=True for non-movable geometries)\n",
    "wall = gscene.create_safe(GEOTYPE.BOX, \"wall\", \"base_link\", (3,3,0.01), (-0.2,0,0), \n",
    "                           rpy=(0,np.pi/2,0), color=(0.8,0.8,0.8,0.5), display=True, fixed=True, collision=True)\n",
    "floor = gscene.create_safe(GEOTYPE.BOX, \"floor\", \"base_link\", (3,3,0.01), (0,0,0), \n",
    "                           rpy=(0,0,0), color=(0.8,0.8,0.8,0.5), display=True, fixed=True, collision=True)\n",
    "wp1 = gscene.create_safe(GEOTYPE.BOX, \"wp1\", \"base_link\", (0.1,0.1,0.01), (0.6,-0.3,0),rpy=(0,0,0), \n",
    "                         color=(0.8,0.2,0.2,1), display=True, fixed=True, collision=False, parent=\"floor\")\n",
    "wp2 = gscene.create_safe(GEOTYPE.BOX, \"wp2\", \"base_link\", (0.1,0.1,0.01), (0.2,-0.3,0), rpy=(0,0,0), \n",
    "                         color=(0.8,0.2,0.2,1), display=True, fixed=True, collision=False, parent=\"floor\")\n",
    "goal = gscene.create_safe(GEOTYPE.BOX, \"goal\", \"base_link\", (0.1,0.1,0.01), (0.3,-0.4,0), \n",
    "                          rpy=(0,0,0), color=(0.2,0.2,0.8,1), display=True, fixed=True, collision=False)\n",
    " \n",
    "# add movable (fixed=False for movable geometries)\n",
    "box1 = gscene.create_safe(GEOTYPE.BOX, \"box1\", \"base_link\", (0.05,0.05,0.05), (0.3,0.4,0.031), \n",
    "                          rpy=(0,0,0), color=(0.8,0.2,0.2,1), display=True, fixed=False, collision=True)\n",
    "\n",
    "obstacle = gscene.create_safe(GEOTYPE.BOX, \"obstacle\", \"base_link\", (0.05,0.05,0.05), (0.5,0.4,0.031), \n",
    "                          rpy=(0,0,0), color=(0.8,0.8,0.2,1), display=True, fixed=False, collision=True)"
   ]
  },
  {
   "cell_type": "code",
   "execution_count": null,
   "metadata": {},
   "outputs": [],
   "source": []
  },
  {
   "cell_type": "markdown",
   "metadata": {},
   "source": [
    "##### create PlanningScene"
   ]
  },
  {
   "cell_type": "code",
   "execution_count": 4,
   "metadata": {},
   "outputs": [],
   "source": [
    "from pkg.planning.scene import PlanningScene\n",
    "pscene = PlanningScene(gscene, combined_robot=crob)"
   ]
  },
  {
   "cell_type": "code",
   "execution_count": null,
   "metadata": {},
   "outputs": [],
   "source": []
  },
  {
   "cell_type": "markdown",
   "metadata": {},
   "source": [
    "##### create_binder\n",
    "- Binders (or Actors) are binding points where objects can be attached (or binded)\n",
    "- Examples are \n",
    "  - PlacePlane: plane for object placement\n",
    "  - Gripper2Tool: 2-finger gripper tool for grasp objects\n",
    "  - SweepTool: action point to pass waypoints for sweep task"
   ]
  },
  {
   "cell_type": "code",
   "execution_count": 5,
   "metadata": {},
   "outputs": [],
   "source": [
    "from pkg.planning.constraint.constraint_actor import PlacePlane, Gripper2Tool, SweepFramer"
   ]
  },
  {
   "cell_type": "code",
   "execution_count": 6,
   "metadata": {},
   "outputs": [
    {
     "data": {
      "text/plain": [
       "<pkg.planning.constraint.constraint_actor.PlacePlane at 0x7fef7202f490>"
      ]
     },
     "execution_count": 6,
     "metadata": {},
     "output_type": "execute_result"
    }
   ],
   "source": [
    "# create PlacePlane on geometry \"floor\" and \"goal\"\n",
    "# when point is not set, the entire upper surface of the geometry becomes valid binding area.\n",
    "# when point is set, the specific point becomes the only valid binding point.\n",
    "pscene.create_binder(bname=\"floor\", gname=\"floor\", _type=PlacePlane)\n",
    "pscene.create_binder(bname=\"goal\", gname=\"goal\", _type=PlacePlane, point=(0,0,0.005))"
   ]
  },
  {
   "cell_type": "code",
   "execution_count": 7,
   "metadata": {},
   "outputs": [
    {
     "data": {
      "text/plain": [
       "<pkg.planning.constraint.constraint_actor.Gripper2Tool at 0x7fef831698d0>"
      ]
     },
     "execution_count": 7,
     "metadata": {},
     "output_type": "execute_result"
    }
   ],
   "source": [
    "# add collision boundary for gripper base\n",
    "# - set link_name=\"indy0_tcp\" to attach the geometry to end-effector link\n",
    "# - it can be labeled as fixed=True, as it is \"fixed\" on the indy0_tcp link\n",
    "gripper =  gscene.create_safe(GEOTYPE.BOX, \"gripper\", link_name=\"indy0_tcp\", \n",
    "                                dims=(0.02,0.1,0.1), center=(0,0,0.05), rpy=(0,0,0), \n",
    "                                color=(0.8,0.2,0.2,0.5), display=True, fixed=True, collision=True)\n",
    "\n",
    "# add gripper fingers - By setting parent=\"gripper\", the position of geometry can be set relative to the parent geometry\n",
    "finger1 =  gscene.create_safe(GEOTYPE.BOX, \"finger1\", link_name=\"indy0_tcp\",\n",
    "                              dims=(0.02,0.02,0.1), center=(0,0.06,0.07), rpy=(0,0,0), \n",
    "                              color=(0.8,0.2,0.2,0.5), display=True, fixed=True, collision=True, parent=\"gripper\")\n",
    "finger2 =  gscene.create_safe(GEOTYPE.BOX, \"finger2\", link_name=\"indy0_tcp\", \n",
    "                              dims=(0.02,0.02,0.1), center=(0,-0.06,0.07), rpy=(0,0,0), \n",
    "                              color=(0.8,0.2,0.2,0.5), display=True, fixed=True, collision=True, parent=\"gripper\")\n",
    "\n",
    "# create Gripper2Tool binder\n",
    "# Gripper2Tool is a 2-finger gripper, which can rotate along z-direction.\n",
    "# To align the z-direction with the 2 fingers, rotate by 90 degree along roll axis.\n",
    "# The gripping point is (0,0,0.11) in local coordinate of \"gripper\" geometry\n",
    "pscene.create_binder(bname=\"grip0\", gname=\"gripper\", _type=Gripper2Tool, point=(0,0,0.11), rpy=(-np.pi/2,0,0))"
   ]
  },
  {
   "cell_type": "code",
   "execution_count": 8,
   "metadata": {},
   "outputs": [
    {
     "data": {
      "text/plain": [
       "<pkg.planning.constraint.constraint_actor.SweepFramer at 0x7fef7201c110>"
      ]
     },
     "execution_count": 8,
     "metadata": {},
     "output_type": "execute_result"
    }
   ],
   "source": [
    "# Add virtual (no-collision) sweep face. the point is 0.2 m away from the \"indy0_tcp\" link\n",
    "# To match the z-direction with the target surface, the geometry is rotated 180 degrees in pitch-axis.\n",
    "sweep_face =  gscene.create_safe(GEOTYPE.BOX, \"sweep_face\", link_name=\"indy0_tcp\", \n",
    "                                dims=(0.05,0.05,0.001), center=(0,0,0.2), rpy=(0,np.pi,0), \n",
    "                                color=(0.2,0.2,0.8,0.1), display=True, fixed=True, collision=False)\n",
    "                                 \n",
    "# create SweepTool binder\n",
    "pscene.create_binder(bname=\"sweep_face\", gname=\"sweep_face\", _type=SweepFramer, point=(0,0,0), rpy=(0,0,0))"
   ]
  },
  {
   "cell_type": "code",
   "execution_count": null,
   "metadata": {},
   "outputs": [],
   "source": []
  },
  {
   "cell_type": "markdown",
   "metadata": {},
   "source": [
    "##### create_subject\n",
    "* Subject describes the tasks in the planning scene.\n",
    "* There are 2 categories in subject:\n",
    "  1. Object: The object has grip points and placement points for pick&place task\n",
    "  2. Task: The task is can be any non-physical task. Check SweepLineTask for example\n",
    "* The subjects can be composed of multiple action points. Examples are:\n",
    "  1. Grasp2Point: grasping point for 2-finger gripper. \n",
    "  2. PlacePoint: The point to place object.\n",
    "  3. SweepPoint: A waypoint for SweepLineTask.\n",
    "  * The above 3 action points inherit DirectePoint, for which the orientation is free along z-axis. \n",
    "  * If \"point\" parameter is not set, the entire upper surface is becomes valid action area."
   ]
  },
  {
   "cell_type": "code",
   "execution_count": 9,
   "metadata": {},
   "outputs": [],
   "source": [
    "from pkg.planning.constraint.constraint_subject import Grasp2Point, PlacePoint, SweepFrame\n",
    "from pkg.planning.constraint.constraint_subject import CustomObject, SweepLineTask"
   ]
  },
  {
   "cell_type": "code",
   "execution_count": 10,
   "metadata": {},
   "outputs": [],
   "source": [
    "## create box object with grasping points along positive & negative y-direction and placement point in the bottom face\n",
    "box_obj = pscene.create_subject(oname=\"box1\", gname=\"box1\", _type=CustomObject, \n",
    "                             action_points_dict = {\n",
    "                                 \"handle1\": Grasp2Point(\"handle1\", box1, [0,0,0], [-np.pi/2,0,0]),\n",
    "                                 \"handle2\": Grasp2Point(\"handle2\", box1, [0,0,0], [np.pi/2,0,0]),\n",
    "                                 \"bottom\": PlacePoint(\"bottom\", box1, [0,0,-0.026], [0,0,0])})"
   ]
  },
  {
   "cell_type": "code",
   "execution_count": 11,
   "metadata": {},
   "outputs": [],
   "source": [
    "## create sweep task with 2 waypoints\n",
    "sweep = pscene.create_subject(oname=\"sweep\", gname=\"floor\", _type=SweepLineTask, \n",
    "                             action_points_dict = {\"wp1\": SweepFrame(\"wp1\", wp1, [0,0,0.005], [0,0,0]),\n",
    "                                                   \"wp2\": SweepFrame(\"wp2\", wp2, [0,0,0.005], [0,0,0])}\n",
    "                             )"
   ]
  },
  {
   "cell_type": "code",
   "execution_count": null,
   "metadata": {},
   "outputs": [],
   "source": []
  },
  {
   "cell_type": "markdown",
   "metadata": {},
   "source": [
    "##### initialize_state\n",
    "* initialize_state(robot_pose) updates robot pose and gets corresponding binding status of current scene.\n",
    "* state.node of ('floor', 0) means the first subject (object) is placed on the floor and the second subject (sweep) has passed 0 waypoints"
   ]
  },
  {
   "cell_type": "code",
   "execution_count": 12,
   "metadata": {},
   "outputs": [
    {
     "name": "stdout",
     "output_type": "stream",
     "text": [
      "('floor', 0)\n"
     ]
    }
   ],
   "source": [
    "initial_state = pscene.initialize_state(crob.home_pose)\n",
    "print(initial_state.node)"
   ]
  },
  {
   "cell_type": "code",
   "execution_count": null,
   "metadata": {},
   "outputs": [],
   "source": []
  },
  {
   "cell_type": "markdown",
   "metadata": {},
   "source": [
    "## 4.2 MotionPlanner"
   ]
  },
  {
   "cell_type": "markdown",
   "metadata": {},
   "source": [
    "##### MoveitPlanner\n",
    "* *get_available_binding_dict()* gets available binding states for each subject in a dictionary\n",
    "* *sample_leaf_state samples()* target state with given available_binding_dict and target node\n",
    "* *rebind_all()* updates binding state and returns the resultant state\n",
    "* The motions tested in this section are:\n",
    "  - pick: move the object to \"gripper\"\n",
    "  - place: move the object to \"goal\"\n",
    "  - sweep: \n",
    "    1) approach to waypoint 1\n",
    "    2) sweep to waypoint 2\n",
    "    3) return to home pose"
   ]
  },
  {
   "cell_type": "code",
   "execution_count": 13,
   "metadata": {},
   "outputs": [],
   "source": [
    "from pkg.planning.motion.moveit.moveit_planner import MoveitPlanner\n",
    "mplan = MoveitPlanner(pscene)"
   ]
  },
  {
   "cell_type": "code",
   "execution_count": 14,
   "metadata": {},
   "outputs": [],
   "source": [
    "from pkg.planning.motion.moveit.moveit_planner import PlannerConfig\n",
    "from pkg.planning.motion.moveit.moveit_py import ConstrainedSpaceType"
   ]
  },
  {
   "cell_type": "code",
   "execution_count": 15,
   "metadata": {},
   "outputs": [
    {
     "name": "stdout",
     "output_type": "stream",
     "text": [
      "try transition motion\n",
      "transition motion tried: True\n"
     ]
    }
   ],
   "source": [
    "gtimer=GlobalTimer.instance()\n",
    "gtimer.reset()\n",
    "# sweep motion 1 - reach the first waypoint\n",
    "from_state = initial_state.copy(pscene)\n",
    "from_state.Q = crob.home_pose\n",
    "to_node = (\"floor\", 1)\n",
    "for _ in range(20):\n",
    "    available_binding_dict = pscene.get_available_binding_dict(from_state, to_node)\n",
    "    to_state, redundancy_dict = pscene.sample_leaf_state(from_state, available_binding_dict, to_node)\n",
    "    with gtimer.block(\"plan\"):\n",
    "        Traj, LastQ, error, success, binding_list = mplan.plan_transition(from_state, to_state, redundancy_dict, timeout=10, \n",
    "                                                                          plannerconfig=PlannerConfig.RRTstarkConfigDefault)\n",
    "    if success:\n",
    "        if np.abs(LastQ[0])<np.pi/2: # else, it will fail in sweep motion\n",
    "            break\n",
    "if success:\n",
    "    pscene.set_object_state(from_state)\n",
    "    gscene.show_motion(Traj, period=0.05)\n",
    "    sweep1_state = pscene.rebind_all(binding_list, LastQ)\n",
    "else:\n",
    "    print(\"Solution not found. Please try again, try to find error if it keeps failing.\")\n",
    "    raise(RuntimeError(\"Motion plan failure\"))"
   ]
  },
  {
   "cell_type": "code",
   "execution_count": 16,
   "metadata": {},
   "outputs": [
    {
     "name": "stdout",
     "output_type": "stream",
     "text": [
      "plan: \t25.9 ms/1 = 25.9 ms (25.913/25.913)\n",
      "\n"
     ]
    }
   ],
   "source": [
    "print(gtimer)"
   ]
  },
  {
   "cell_type": "code",
   "execution_count": null,
   "metadata": {},
   "outputs": [],
   "source": []
  },
  {
   "cell_type": "code",
   "execution_count": 17,
   "metadata": {},
   "outputs": [],
   "source": [
    "sweep.fix_direction = True"
   ]
  },
  {
   "cell_type": "code",
   "execution_count": 18,
   "metadata": {},
   "outputs": [
    {
     "name": "stdout",
     "output_type": "stream",
     "text": [
      "try constrained motion\n",
      "constrained motion tried: True\n",
      "True\n",
      "plan: \t1360.6 ms/1 = 1360.6 ms (1360.555/1360.555)\n",
      "\n"
     ]
    }
   ],
   "source": [
    "gtimer=GlobalTimer.instance()\n",
    "gtimer.reset()\n",
    "from_state = sweep1_state.copy(pscene)\n",
    "to_node = (\"floor\", 2)\n",
    "available_binding_dict = pscene.get_available_binding_dict(from_state, to_node)\n",
    "to_state, redundancy_dict = pscene.sample_leaf_state(from_state, available_binding_dict, to_node)\n",
    "with gtimer.block(\"plan\"):\n",
    "    Traj, LastQ, error, success, binding_list = mplan.plan_transition(\n",
    "        from_state, to_state, redundancy_dict, timeout=50, \n",
    "        plannerconfig=PlannerConfig.RRTstarkConfigDefault, \n",
    "        cs_type=ConstrainedSpaceType.TANGENTBUNDLE)\n",
    "print(success)\n",
    "print(gtimer)"
   ]
  },
  {
   "cell_type": "markdown",
   "metadata": {},
   "source": [
    "### visualize trajectory"
   ]
  },
  {
   "cell_type": "code",
   "execution_count": 19,
   "metadata": {},
   "outputs": [
    {
     "data": {
      "text/plain": [
       "[array([[ 9.99999485e-01,  9.36772688e-04, -3.01722462e-04,\n",
       "          5.99677812e-01],\n",
       "        [-9.36630749e-04,  9.99999431e-01,  4.61637198e-04,\n",
       "         -3.00028662e-01],\n",
       "        [ 3.02141425e-04, -4.61351927e-04,  9.99999816e-01,\n",
       "          5.14721524e-03],\n",
       "        [ 0.00000000e+00,  0.00000000e+00,  0.00000000e+00,\n",
       "          1.00000000e+00]]),\n",
       " array([[ 9.99999485e-01,  9.36772688e-04, -3.01722462e-04,\n",
       "          5.99677812e-01],\n",
       "        [-9.36630749e-04,  9.99999431e-01,  4.61637198e-04,\n",
       "         -3.00028662e-01],\n",
       "        [ 3.02141425e-04, -4.61351927e-04,  9.99999816e-01,\n",
       "          5.14721524e-03],\n",
       "        [ 0.00000000e+00,  0.00000000e+00,  0.00000000e+00,\n",
       "          1.00000000e+00]]),\n",
       " array([[ 9.99998906e-01,  9.50833408e-04, -1.11205231e-03,\n",
       "          5.89714084e-01],\n",
       "        [-9.50898380e-04,  9.99999521e-01, -5.74643024e-05,\n",
       "         -2.99977473e-01],\n",
       "        [ 1.11198487e-03,  5.85239756e-05,  9.99999359e-01,\n",
       "          5.12794439e-03],\n",
       "        [ 0.00000000e+00,  0.00000000e+00,  0.00000000e+00,\n",
       "          1.00000000e+00]]),\n",
       " array([[ 9.99997684e-01,  9.92260681e-04, -1.92295701e-03,\n",
       "          5.79497261e-01],\n",
       "        [-9.93320967e-04,  9.99999401e-01, -5.55415365e-04,\n",
       "         -2.99823012e-01],\n",
       "        [ 1.92242130e-03,  5.57321063e-04,  9.99998000e-01,\n",
       "          5.07047287e-03],\n",
       "        [ 0.00000000e+00,  0.00000000e+00,  0.00000000e+00,\n",
       "          1.00000000e+00]]),\n",
       " array([[ 0.99999569,  0.00106055, -0.00273403,  0.56903178],\n",
       "        [-0.00106337,  0.99999891, -0.00103135, -0.29956393],\n",
       "        [ 0.00273296,  0.00103425,  0.99999575,  0.00497522],\n",
       "        [ 0.        ,  0.        ,  0.        ,  1.        ]]),\n",
       " array([[ 0.99999309,  0.0011552 , -0.00354494,  0.55832242],\n",
       "        [-0.00116048,  0.99999824, -0.0014844 , -0.29919902],\n",
       "        [ 0.00354322,  0.0014885 ,  0.99999265,  0.00484266],\n",
       "        [ 0.        ,  0.        ,  0.        ,  1.        ]]),\n",
       " array([[ 0.99998967,  0.00127571, -0.00435545,  0.54737385],\n",
       "        [-0.00128405,  0.99999734, -0.00191369, -0.29872708],\n",
       "        [ 0.00435301,  0.00191926,  0.99998868,  0.00467336],\n",
       "        [ 0.        ,  0.        ,  0.        ,  1.        ]]),\n",
       " array([[ 0.99998559,  0.00142149, -0.00516503,  0.53619097],\n",
       "        [-0.00143345,  0.99999628, -0.00231845, -0.29814699],\n",
       "        [ 0.00516172,  0.00232582,  0.99998392,  0.00446773],\n",
       "        [ 0.        ,  0.        ,  0.        ,  1.        ]]),\n",
       " array([[ 0.99998099,  0.0015919 , -0.00597338,  0.52477877],\n",
       "        [-0.00160806,  0.99999512, -0.00269785, -0.29745775],\n",
       "        [ 0.00596907,  0.0027074 ,  0.99997858,  0.00422621],\n",
       "        [ 0.        ,  0.        ,  0.        ,  1.        ]]),\n",
       " array([[ 0.99997549,  0.00178643, -0.00678012,  0.51314227],\n",
       "        [-0.00180717,  0.99999376, -0.00305111, -0.29665837],\n",
       "        [ 0.00677463,  0.00306329,  0.99997239,  0.00394943],\n",
       "        [ 0.        ,  0.        ,  0.        ,  1.        ]]),\n",
       " array([[ 0.99996925,  0.00200445, -0.00758476,  0.50128656],\n",
       "        [-0.0020301 ,  0.9999923 , -0.0033775 , -0.29574794],\n",
       "        [ 0.00757795,  0.00339279,  0.99996552,  0.00363785],\n",
       "        [ 0.        ,  0.        ,  0.        ,  1.        ]]),\n",
       " array([[ 0.9999623 ,  0.00224529, -0.00838698,  0.48921694],\n",
       "        [-0.00227616,  0.99999069, -0.00367626, -0.29472564],\n",
       "        [ 0.00837866,  0.00369521,  0.99995805,  0.00329194],\n",
       "        [ 0.        ,  0.        ,  0.        ,  1.        ]]),\n",
       " array([[ 9.99981749e-01,  3.42179026e-05, -6.03876782e-03,\n",
       "          4.73785626e-01],\n",
       "        [-2.53537032e-05,  9.99998915e-01,  1.46722973e-03,\n",
       "         -2.99987718e-01],\n",
       "        [ 6.03881697e-03, -1.46705110e-03,  9.99980687e-01,\n",
       "          5.00983774e-03],\n",
       "        [ 0.00000000e+00,  0.00000000e+00,  0.00000000e+00,\n",
       "          1.00000000e+00]]),\n",
       " array([[ 9.99999554e-01,  9.85343395e-05,  9.13735860e-04,\n",
       "          4.54861169e-01],\n",
       "        [-9.25091741e-05,  9.99978156e-01, -6.60253857e-03,\n",
       "         -2.97241927e-01],\n",
       "        [-9.14391489e-04,  6.60245760e-03,  9.99977780e-01,\n",
       "          4.14393305e-03],\n",
       "        [ 0.00000000e+00,  0.00000000e+00,  0.00000000e+00,\n",
       "          1.00000000e+00]]),\n",
       " array([[ 9.99998859e-01,  9.32335206e-05,  1.50563445e-03,\n",
       "          4.40957246e-01],\n",
       "        [-8.33454698e-05,  9.99978435e-01, -6.56622287e-03,\n",
       "         -2.96744070e-01],\n",
       "        [-1.50620504e-03,  6.56608803e-03,  9.99977319e-01,\n",
       "          4.00819022e-03],\n",
       "        [ 0.00000000e+00,  0.00000000e+00,  0.00000000e+00,\n",
       "          1.00000000e+00]]),\n",
       " array([[ 9.99997853e-01,  8.25303595e-05,  2.09782948e-03,\n",
       "          4.26873036e-01],\n",
       "        [-6.88364183e-05,  9.99978650e-01, -6.53682748e-03,\n",
       "         -2.96056780e-01],\n",
       "        [-2.09832841e-03,  6.53666971e-03,  9.99976474e-01,\n",
       "          3.82242441e-03],\n",
       "        [ 0.00000000e+00,  0.00000000e+00,  0.00000000e+00,\n",
       "          1.00000000e+00]]),\n",
       " array([[ 9.99996406e-01,  6.65494478e-05,  2.69028848e-03,\n",
       "          4.12615342e-01],\n",
       "        [-4.90368944e-05,  9.99978780e-01, -6.51449523e-03,\n",
       "         -2.95178270e-01],\n",
       "        [-2.69067238e-03,  6.51434146e-03,  9.99975184e-01,\n",
       "          3.58677311e-03],\n",
       "        [ 0.00000000e+00,  0.00000000e+00,  0.00000000e+00,\n",
       "          1.00000000e+00]]),\n",
       " array([[ 9.99994607e-01,  4.53537003e-05,  3.28287244e-03,\n",
       "          3.98191197e-01],\n",
       "        [-2.40204018e-05,  9.99978869e-01, -6.49934417e-03,\n",
       "         -2.94106929e-01],\n",
       "        [-3.28309838e-03,  6.49923045e-03,  9.99973498e-01,\n",
       "          3.30140627e-03],\n",
       "        [ 0.00000000e+00,  0.00000000e+00,  0.00000000e+00,\n",
       "          1.00000000e+00]]),\n",
       " array([[ 9.99992438e-01,  1.89297633e-05,  3.87547872e-03,\n",
       "          3.83607696e-01],\n",
       "        [ 6.26862193e-06,  9.99978948e-01, -6.49149642e-03,\n",
       "         -2.92841269e-01],\n",
       "        [-3.87550314e-03,  6.49146728e-03,  9.99971355e-01,\n",
       "          2.96649119e-03],\n",
       "        [ 0.00000000e+00,  0.00000000e+00,  0.00000000e+00,\n",
       "          1.00000000e+00]]),\n",
       " array([[ 9.99990033e-01, -1.26532299e-05,  4.46792092e-03,\n",
       "          3.68872027e-01],\n",
       "        [ 4.16352924e-05,  9.99978914e-01, -6.49105204e-03,\n",
       "         -2.91379975e-01],\n",
       "        [-4.46775798e-03,  6.49117702e-03,  9.99968978e-01,\n",
       "          2.58219662e-03],\n",
       "        [ 0.00000000e+00,  0.00000000e+00,  0.00000000e+00,\n",
       "          1.00000000e+00]]),\n",
       " array([[ 9.99987244e-01, -4.92931549e-05,  5.06032117e-03,\n",
       "          3.53991287e-01],\n",
       "        [ 8.21756862e-05,  9.99978930e-01, -6.49819035e-03,\n",
       "         -2.89721824e-01],\n",
       "        [-5.05987031e-03,  6.49851662e-03,  9.99966104e-01,\n",
       "          2.14878087e-03],\n",
       "        [ 0.00000000e+00,  0.00000000e+00,  0.00000000e+00,\n",
       "          1.00000000e+00]]),\n",
       " array([[ 9.99980943e-01,  4.64524272e-05,  6.17416092e-03,\n",
       "          3.33117591e-01],\n",
       "        [-4.37389805e-05,  9.99999878e-01, -4.42637646e-04,\n",
       "         -2.99958710e-01],\n",
       "        [-6.17419288e-03,  4.42362997e-04,  9.99980864e-01,\n",
       "          5.02469942e-03],\n",
       "        [ 0.00000000e+00,  0.00000000e+00,  0.00000000e+00,\n",
       "          1.00000000e+00]]),\n",
       " array([[ 9.99968512e-01, -5.86057888e-04,  7.91713283e-03,\n",
       "          3.20578494e-01],\n",
       "        [ 5.78175624e-04,  9.99999366e-01,  9.98431918e-04,\n",
       "         -2.95467119e-01],\n",
       "        [-7.91769492e-03, -9.93828560e-04,  9.99968167e-01,\n",
       "          3.87581214e-03],\n",
       "        [ 0.00000000e+00,  0.00000000e+00,  0.00000000e+00,\n",
       "          1.00000000e+00]]),\n",
       " array([[ 9.99968812e-01, -8.99244302e-04,  7.84244367e-03,\n",
       "          3.08412121e-01],\n",
       "        [ 8.47465815e-04,  9.99977811e-01,  6.60379342e-03,\n",
       "         -2.95046086e-01],\n",
       "        [-7.84821128e-03, -6.59694030e-03,  9.99947431e-01,\n",
       "          3.76515026e-03],\n",
       "        [ 0.00000000e+00,  0.00000000e+00,  0.00000000e+00,\n",
       "          1.00000000e+00]]),\n",
       " array([[ 9.99848416e-01,  2.43247502e-04, -1.74145133e-02,\n",
       "          3.08517975e-01],\n",
       "        [ 1.00716180e-04,  9.99805028e-01,  1.97489872e-02,\n",
       "         -3.00053913e-01],\n",
       "        [ 1.74159316e-02, -1.97477493e-02,  9.99653336e-01,\n",
       "          5.15799916e-03],\n",
       "        [ 0.00000000e+00,  0.00000000e+00,  0.00000000e+00,\n",
       "          1.00000000e+00]]),\n",
       " array([[ 9.99896685e-01, -3.74436136e-04, -1.43728175e-02,\n",
       "          3.01369756e-01],\n",
       "        [ 6.86260721e-04,  9.99764355e-01,  2.16980350e-02,\n",
       "         -2.99553632e-01],\n",
       "        [ 1.43613063e-02, -2.17056558e-02,  9.99661287e-01,\n",
       "          5.05011734e-03],\n",
       "        [ 0.00000000e+00,  0.00000000e+00,  0.00000000e+00,\n",
       "          1.00000000e+00]]),\n",
       " array([[ 9.99896685e-01, -3.74436136e-04, -1.43728175e-02,\n",
       "          3.01369756e-01],\n",
       "        [ 6.86260721e-04,  9.99764355e-01,  2.16980350e-02,\n",
       "         -2.99553632e-01],\n",
       "        [ 1.43613063e-02, -2.17056558e-02,  9.99661287e-01,\n",
       "          5.05011734e-03],\n",
       "        [ 0.00000000e+00,  0.00000000e+00,  0.00000000e+00,\n",
       "          1.00000000e+00]]),\n",
       " array([[ 9.99897885e-01, -3.67401298e-04, -1.42902246e-02,\n",
       "          2.84072062e-01],\n",
       "        [ 5.98838088e-04,  9.99868708e-01,  1.61955424e-02,\n",
       "         -2.99292166e-01],\n",
       "        [ 1.42823960e-02, -1.62024441e-02,  9.99766743e-01,\n",
       "          4.90901345e-03],\n",
       "        [ 0.00000000e+00,  0.00000000e+00,  0.00000000e+00,\n",
       "          1.00000000e+00]]),\n",
       " array([[ 9.99895809e-01, -2.55117735e-04, -1.44308044e-02,\n",
       "          2.66830349e-01],\n",
       "        [ 4.11709058e-04,  9.99941062e-01,  1.08481547e-02,\n",
       "         -2.98469583e-01],\n",
       "        [ 1.44271842e-02, -1.08529651e-02,  9.99836995e-01,\n",
       "          4.70363480e-03],\n",
       "        [ 0.00000000e+00,  0.00000000e+00,  0.00000000e+00,\n",
       "          1.00000000e+00]]),\n",
       " array([[ 9.99890714e-01, -4.13596752e-05, -1.47836289e-02,\n",
       "          2.49662464e-01],\n",
       "        [ 1.25135719e-04,  9.99983988e-01,  5.66370489e-03,\n",
       "         -2.97088233e-01],\n",
       "        [ 1.47831663e-02, -5.66493914e-03,  9.99874633e-01,\n",
       "          4.43251344e-03],\n",
       "        [ 0.00000000e+00,  0.00000000e+00,  0.00000000e+00,\n",
       "          1.00000000e+00]]),\n",
       " array([[ 9.99882366e-01,  2.70305162e-04, -1.53378341e-02,\n",
       "          2.32586286e-01],\n",
       "        [-2.60396147e-04,  9.99999765e-01,  6.49601738e-04,\n",
       "         -2.95151053e-01],\n",
       "        [ 1.53379919e-02, -6.45525962e-04,  9.99882182e-01,\n",
       "          4.09432043e-03],\n",
       "        [ 0.00000000e+00,  0.00000000e+00,  0.00000000e+00,\n",
       "          1.00000000e+00]]),\n",
       " array([[ 9.99958101e-01,  6.30058800e-05, -9.16058939e-03,\n",
       "          2.11717746e-01],\n",
       "        [-4.09207106e-05,  9.99997162e-01,  2.41033262e-03,\n",
       "         -2.99983520e-01],\n",
       "        [ 9.16073066e-03, -2.40986382e-03,  9.99955138e-01,\n",
       "          5.01882163e-03],\n",
       "        [ 0.00000000e+00,  0.00000000e+00,  0.00000000e+00,\n",
       "          1.00000000e+00]]),\n",
       " array([[ 9.99999601e-01, -3.21071168e-04, -7.56522982e-04,\n",
       "          2.00170314e-01],\n",
       "        [ 3.21119154e-04,  9.99999935e-01, -1.24318676e-05,\n",
       "         -2.99787208e-01],\n",
       "        [ 7.56547134e-04,  1.21794597e-05,  9.99999653e-01,\n",
       "          4.84099078e-03],\n",
       "        [ 0.00000000e+00,  0.00000000e+00,  0.00000000e+00,\n",
       "          1.00000000e+00]])]"
      ]
     },
     "execution_count": 19,
     "metadata": {},
     "output_type": "execute_result"
    }
   ],
   "source": [
    "gtimer.timelist_dict[\"default\"]\n",
    "gscene.clear_highlight()\n",
    "gscene.show_motion(Traj, period=0.05)\n",
    "sweep_face.draw_traj_coords(Traj, \"traj_{}\".format(sweep_face.name))"
   ]
  },
  {
   "cell_type": "code",
   "execution_count": null,
   "metadata": {},
   "outputs": [],
   "source": []
  },
  {
   "cell_type": "code",
   "execution_count": null,
   "metadata": {},
   "outputs": [],
   "source": []
  },
  {
   "cell_type": "code",
   "execution_count": null,
   "metadata": {},
   "outputs": [],
   "source": []
  },
  {
   "cell_type": "code",
   "execution_count": null,
   "metadata": {},
   "outputs": [],
   "source": []
  },
  {
   "cell_type": "code",
   "execution_count": null,
   "metadata": {},
   "outputs": [],
   "source": []
  },
  {
   "cell_type": "code",
   "execution_count": null,
   "metadata": {},
   "outputs": [],
   "source": []
  },
  {
   "cell_type": "code",
   "execution_count": null,
   "metadata": {},
   "outputs": [],
   "source": []
  },
  {
   "cell_type": "code",
   "execution_count": null,
   "metadata": {},
   "outputs": [],
   "source": []
  },
  {
   "cell_type": "markdown",
   "metadata": {},
   "source": [
    "### check default"
   ]
  },
  {
   "cell_type": "code",
   "execution_count": null,
   "metadata": {
    "scrolled": true
   },
   "outputs": [],
   "source": [
    "gtimer=GlobalTimer.instance()\n",
    "gtimer.reset()\n",
    "from_state = sweep1_state.copy(pscene)\n",
    "to_node = (\"floor\", 2)\n",
    "available_binding_dict = pscene.get_available_binding_dict(from_state, to_node)\n",
    "to_state, redundancy_dict = pscene.sample_leaf_state(from_state, available_binding_dict, to_node)\n",
    "for _ in range(10):\n",
    "    gtimer.tic(\"default\")\n",
    "    Traj, LastQ, error, success, binding_list = mplan.plan_transition(from_state, to_state, redundancy_dict, timeout=10)\n",
    "    gtimer.toc(\"default\", stack=True)\n",
    "print(gtimer)"
   ]
  },
  {
   "cell_type": "markdown",
   "metadata": {},
   "source": [
    "### test time"
   ]
  },
  {
   "cell_type": "code",
   "execution_count": 20,
   "metadata": {},
   "outputs": [],
   "source": [
    "import random\n",
    "from pkg.planning.motion.moveit.moveit_py import ConstrainedSpaceType\n",
    "cs_types = [ConstrainedSpaceType.PROJECTED, ConstrainedSpaceType.ATLAS, ConstrainedSpaceType.TANGENTBUNDLE]"
   ]
  },
  {
   "cell_type": "code",
   "execution_count": 21,
   "metadata": {},
   "outputs": [],
   "source": [
    "gtimer = GlobalTimer.instance()\n",
    "gtimer.reset()\n",
    "# sweep motion 2 - sweep \"floor\" to the second waypoint. Constrained motion planning takes longer time\n",
    "suc_dict = defaultdict(list)\n",
    "max_dict = defaultdict(list)\n",
    "std_dict = defaultdict(list)\n",
    "time_dict = defaultdict(list)\n",
    "from_state = sweep1_state.copy(pscene)\n",
    "to_node = (\"floor\", 2)\n",
    "available_binding_dict = pscene.get_available_binding_dict(from_state, to_node)\n",
    "to_state, redundancy_dict = pscene.sample_leaf_state(from_state, available_binding_dict, to_node)"
   ]
  },
  {
   "cell_type": "code",
   "execution_count": 22,
   "metadata": {
    "scrolled": true
   },
   "outputs": [
    {
     "name": "stdout",
     "output_type": "stream",
     "text": [
      "try constrained motion\n",
      "constrained motion tried: True\n",
      "try constrained motion\n",
      "constrained motion tried: True\n",
      "try constrained motion\n",
      "constrained motion tried: True\n",
      "PROJECTED: \t8351.0 ms/1 = 8351.42 ms (8351.42/8351.42)\n",
      "TANGENTBUNDLE: \t100.0 ms/1 = 100.064 ms (100.064/100.064)\n",
      "ATLAS: \t9418.0 ms/1 = 9418.117 ms (9418.117/9418.117)\n",
      "\n",
      "try constrained motion\n",
      "constrained motion tried: True\n",
      "try constrained motion\n",
      "constrained motion tried: True\n",
      "try constrained motion\n",
      "constrained motion tried: False\n",
      "PROJECTED: \t8992.0 ms/2 = 4495.971 ms (640.522/8351.42)\n",
      "TANGENTBUNDLE: \t612.0 ms/2 = 305.916 ms (100.064/511.767)\n",
      "ATLAS: \t19422.0 ms/2 = 9711.086 ms (9418.117/10004.054)\n",
      "\n",
      "try constrained motion\n",
      "constrained motion tried: False\n",
      "try constrained motion\n",
      "constrained motion tried: False\n",
      "try constrained motion\n",
      "constrained motion tried: False\n",
      "PROJECTED: \t19240.0 ms/3 = 6413.235 ms (640.522/10247.763)\n",
      "TANGENTBUNDLE: \t10616.0 ms/3 = 3538.639 ms (100.064/10004.085)\n",
      "ATLAS: \t29520.0 ms/3 = 9839.94 ms (9418.117/10097.65)\n",
      "\n",
      "try constrained motion\n",
      "constrained motion tried: False\n",
      "try constrained motion\n",
      "constrained motion tried: True\n",
      "try constrained motion\n",
      "constrained motion tried: True\n",
      "PROJECTED: \t21253.0 ms/4 = 5313.25 ms (640.522/10247.763)\n",
      "TANGENTBUNDLE: \t10646.0 ms/4 = 2661.599 ms (30.481/10004.085)\n",
      "ATLAS: \t39882.0 ms/4 = 9970.402 ms (9418.117/10361.788)\n",
      "\n",
      "try constrained motion\n",
      "constrained motion tried: True\n",
      "try constrained motion\n",
      "constrained motion tried: True\n",
      "try constrained motion\n",
      "constrained motion tried: True\n",
      "PROJECTED: \t24394.0 ms/5 = 4878.856 ms (640.522/10247.763)\n",
      "TANGENTBUNDLE: \t10687.0 ms/5 = 2137.396 ms (30.481/10004.085)\n",
      "ATLAS: \t43965.0 ms/5 = 8792.979 ms (4083.285/10361.788)\n",
      "\n",
      "try constrained motion\n",
      "constrained motion tried: True\n",
      "try constrained motion\n",
      "constrained motion tried: True\n",
      "try constrained motion\n",
      "constrained motion tried: False\n",
      "PROJECTED: \t25149.0 ms/6 = 4191.519 ms (640.522/10247.763)\n",
      "TANGENTBUNDLE: \t10717.0 ms/6 = 1786.18 ms (30.1/10004.085)\n",
      "ATLAS: \t54172.0 ms/6 = 9028.616 ms (4083.285/10361.788)\n",
      "\n",
      "try constrained motion\n",
      "constrained motion tried: True\n",
      "try constrained motion\n",
      "constrained motion tried: True\n",
      "try constrained motion\n",
      "constrained motion tried: True\n",
      "PROJECTED: \t26006.0 ms/7 = 3715.072 ms (640.522/10247.763)\n",
      "TANGENTBUNDLE: \t11081.0 ms/7 = 1583.039 ms (30.1/10004.085)\n",
      "ATLAS: \t58047.0 ms/7 = 8292.379 ms (3874.96/10361.788)\n",
      "\n",
      "try constrained motion\n",
      "constrained motion tried: True\n",
      "try constrained motion\n",
      "constrained motion tried: False\n",
      "try constrained motion\n",
      "constrained motion tried: True\n",
      "PROJECTED: \t30600.0 ms/8 = 3825.05 ms (640.522/10247.763)\n",
      "TANGENTBUNDLE: \t11143.0 ms/8 = 1392.924 ms (30.1/10004.085)\n",
      "ATLAS: \t68052.0 ms/8 = 8506.55 ms (3874.96/10361.788)\n",
      "\n",
      "try constrained motion\n",
      "constrained motion tried: False\n",
      "try constrained motion\n",
      "constrained motion tried: False\n",
      "try constrained motion\n",
      "constrained motion tried: True\n",
      "PROJECTED: \t41001.0 ms/9 = 4555.659 ms (640.522/10400.534)\n",
      "TANGENTBUNDLE: \t11170.0 ms/9 = 1241.094 ms (26.454/10004.085)\n",
      "ATLAS: \t78064.0 ms/9 = 8673.773 ms (3874.96/10361.788)\n",
      "\n",
      "try constrained motion\n",
      "constrained motion tried: True\n",
      "try constrained motion\n",
      "constrained motion tried: True\n",
      "try constrained motion\n",
      "constrained motion tried: False\n",
      "PROJECTED: \t41724.0 ms/10 = 4172.372 ms (640.522/10400.534)\n",
      "TANGENTBUNDLE: \t11203.0 ms/10 = 1120.323 ms (26.454/10004.085)\n",
      "ATLAS: \t88071.0 ms/10 = 8807.137 ms (3874.96/10361.788)\n",
      "\n"
     ]
    }
   ],
   "source": [
    "for _ in range(10):    \n",
    "    random.shuffle(cs_types)\n",
    "    for cs_type in cs_types:\n",
    "        gtimer.tic(cs_type.name)\n",
    "        Traj, LastQ, error, success, binding_list = mplan.plan_transition(from_state, to_state, redundancy_dict, timeout=10, cs_type=cs_type)\n",
    "        elapsed = gtimer.toc(cs_type.name)\n",
    "        suc_dict[cs_type.name].append(success)\n",
    "        time_dict[cs_type.name].append(elapsed)\n",
    "        if success:\n",
    "            T_ref=floor.get_tf(crob.home_dict)\n",
    "            Z_list = []\n",
    "            for q in Traj:\n",
    "                T_tool=sweep_face.get_tf(list2dict(q, crob.joint_names))\n",
    "                Z_list.append(np.matmul(SE3_inv(T_ref), T_tool)[2,3])\n",
    "            std_dict[cs_type.name].append(np.std(Z_list))\n",
    "            max_dict[cs_type.name].append(np.max(Z_list)-np.min(Z_list))\n",
    "    print(gtimer)"
   ]
  },
  {
   "cell_type": "code",
   "execution_count": 23,
   "metadata": {},
   "outputs": [],
   "source": [
    "import matplotlib.pyplot as plt\n",
    "keys = [\"PROJECTED\", \"ATLAS\", \"TANGENTBUNDLE\"]"
   ]
  },
  {
   "cell_type": "code",
   "execution_count": 24,
   "metadata": {},
   "outputs": [
    {
     "name": "stdout",
     "output_type": "stream",
     "text": [
      "time_dict PROJECTED: 4172.3721981\n",
      "time median PROJECTED: 2577.28695869\n",
      "time_dict ATLAS: 8807.13708401\n",
      "time median ATLAS: 10006.5795183\n",
      "time_dict TANGENTBUNDLE: 1120.3234911\n",
      "time median TANGENTBUNDLE: 51.3545274734\n"
     ]
    },
    {
     "data": {
      "image/png": "[encoded data removed]",
      "text/plain": [
       "<Figure size 1080x432 with 3 Axes>"
      ]
     },
     "metadata": {
      "needs_background": "light"
     },
     "output_type": "display_data"
    }
   ],
   "source": [
    "plt.figure(figsize=(15,6))\n",
    "for i_k, k in enumerate(keys):\n",
    "    v = time_dict[k]\n",
    "    plt.subplot(1,3,i_k+1)\n",
    "    plt.plot(v, '.')\n",
    "    print(\"time_dict {}: {}\".format(k, np.mean(v)))\n",
    "    print(\"time median {}: {}\".format(k, np.median(v)))"
   ]
  },
  {
   "cell_type": "code",
   "execution_count": 25,
   "metadata": {},
   "outputs": [
    {
     "name": "stdout",
     "output_type": "stream",
     "text": [
      "suc_dict PROJECTED: 0.8\n",
      "suc_dict ATLAS: 0.3\n",
      "suc_dict TANGENTBUNDLE: 0.9\n"
     ]
    },
    {
     "data": {
      "image/png": "[encoded data removed]",
      "text/plain": [
       "<Figure size 1080x432 with 3 Axes>"
      ]
     },
     "metadata": {
      "needs_background": "light"
     },
     "output_type": "display_data"
    }
   ],
   "source": [
    "plt.figure(figsize=(15,6))\n",
    "for i_k, k in enumerate(keys):\n",
    "    v = suc_dict[k]\n",
    "    plt.subplot(1,3,i_k+1)\n",
    "    plt.plot(v, '.')\n",
    "    print(\"suc_dict {}: {}\".format(k, np.mean(v)))"
   ]
  },
  {
   "cell_type": "code",
   "execution_count": 26,
   "metadata": {},
   "outputs": [
    {
     "name": "stdout",
     "output_type": "stream",
     "text": [
      "std_dict PROJECTED: 9.4476031903e-05\n",
      "std_dict ATLAS: 0.000139408717534\n",
      "std_dict TANGENTBUNDLE: 0.000576285243079\n"
     ]
    },
    {
     "data": {
      "image/png": "[encoded data removed]",
      "text/plain": [
       "<Figure size 1080x432 with 3 Axes>"
      ]
     },
     "metadata": {
      "needs_background": "light"
     },
     "output_type": "display_data"
    }
   ],
   "source": [
    "plt.figure(figsize=(15,6))\n",
    "for i_k, k in enumerate(keys):\n",
    "    v = std_dict[k]\n",
    "    plt.subplot(1,3,i_k+1)\n",
    "    plt.plot(v, '.')\n",
    "    print(\"std_dict {}: {}\".format(k, np.mean(v)))"
   ]
  },
  {
   "cell_type": "code",
   "execution_count": 27,
   "metadata": {},
   "outputs": [
    {
     "name": "stdout",
     "output_type": "stream",
     "text": [
      "max_dict PROJECTED: 0.000370803948808\n",
      "max_dict ATLAS: 0.000621854875755\n",
      "max_dict TANGENTBUNDLE: 0.00257926590836\n"
     ]
    },
    {
     "data": {
      "image/png": "[encoded data removed]",
      "text/plain": [
       "<Figure size 1080x432 with 3 Axes>"
      ]
     },
     "metadata": {
      "needs_background": "light"
     },
     "output_type": "display_data"
    }
   ],
   "source": [
    "plt.figure(figsize=(15,6))\n",
    "for i_k, k in enumerate(keys):\n",
    "    v = max_dict[k]\n",
    "    plt.subplot(1,3,i_k+1)\n",
    "    plt.plot(v, '.')\n",
    "    print(\"max_dict {}: {}\".format(k, np.mean(v)))"
   ]
  },
  {
   "cell_type": "code",
   "execution_count": null,
   "metadata": {},
   "outputs": [],
   "source": []
  }
 ],
 "metadata": {
  "kernelspec": {
   "display_name": "Python 2",
   "language": "python",
   "name": "python2"
  },
  "language_info": {
   "codemirror_mode": {
    "name": "ipython",
    "version": 2
   },
   "file_extension": ".py",
   "mimetype": "text/x-python",
   "name": "python",
   "nbconvert_exporter": "python",
   "pygments_lexer": "ipython2",
   "version": "2.7.17"
  }
 },
 "nbformat": 4,
 "nbformat_minor": 2
}
