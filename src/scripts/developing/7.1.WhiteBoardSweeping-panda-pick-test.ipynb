{
 "cells": [
  {
   "cell_type": "markdown",
   "metadata": {},
   "source": [
    "## Check List 7.1. Demo - White board sweeping\n",
    "* In this demo file, we will use two robots (Indy7, Panda) to sweep a white board, removing obstacles\n",
    "\n",
    "* You need trained model to use ReachChecker\n",
    "  - model/reach_svm/indy7.json\n",
    "  - model/reach_svm/panda.json\n",
    "  - 백업: 개인 이동식 하드디스크, 강준수"
   ]
  },
  {
   "cell_type": "markdown",
   "metadata": {},
   "source": [
    "### Prepare the task scene\n",
    "* Prepare Indy7 and panda, and install sweeping tool to indy. (Check release/Figs/7.1.WhiteBoardSweeping.jpg)\n",
    "* Prepare \"floor\", \"track\", \"box1\", \"box2\" objects as defined in pkg.detector.aruco.marker_config.py\n",
    "* The robots and \"track\" are installed on \"floor\".\n",
    "* \"box1\" and \"box2\" are on \"track\"\n",
    "<img src=\"../Figs/7.1.WhiteBoardSweeping.jpg\" width=\"80%\">"
   ]
  },
  {
   "cell_type": "code",
   "execution_count": null,
   "metadata": {},
   "outputs": [],
   "source": []
  },
  {
   "cell_type": "markdown",
   "metadata": {},
   "source": [
    "## set running directory to project source"
   ]
  },
  {
   "cell_type": "code",
   "execution_count": 1,
   "metadata": {},
   "outputs": [],
   "source": [
    "import os\n",
    "os.chdir(os.path.join(os.environ[\"RNB_PLANNING_DIR\"], 'src'))"
   ]
  },
  {
   "cell_type": "code",
   "execution_count": null,
   "metadata": {},
   "outputs": [],
   "source": []
  },
  {
   "cell_type": "markdown",
   "metadata": {},
   "source": [
    "## init combined robot config"
   ]
  },
  {
   "cell_type": "code",
   "execution_count": 2,
   "metadata": {},
   "outputs": [
    {
     "name": "stdout",
     "output_type": "stream",
     "text": [
      "connection command:\n",
      "indy0: False\n",
      "panda1: False\n"
     ]
    }
   ],
   "source": [
    "from pkg.controller.combined_robot import *\n",
    "from pkg.project_config import *\n",
    "\n",
    "crob = CombinedRobot(robots_on_scene=[\n",
    "    RobotConfig(0, RobotType.indy7, ((0.3,-0.4,0), (0,0,np.pi/2)),\n",
    "                INDY_IP),\n",
    "    RobotConfig(1, RobotType.panda, ((-0.3,-0.4,0), (0,0,np.pi/2)),\n",
    "                \"{}/{}\".format(PANDA_REPEATER_IP, PANDA_ROBOT_IP))]\n",
    "              , connection_list=[False, False])"
   ]
  },
  {
   "cell_type": "code",
   "execution_count": 3,
   "metadata": {},
   "outputs": [
    {
     "name": "stdout",
     "output_type": "stream",
     "text": [
      "Device configuration: \n",
      "\tcolor_format: 3 \n",
      "\t(0:JPG, 1:NV12, 2:YUY2, 3:BGRA32)\n",
      "\n",
      "\tcolor_resolution: 5 \n",
      "\t(0:OFF, 1:720p, 2:1080p, 3:1440p, 4:1536p, 5:2160p, 6:3072p)\n",
      "\n",
      "\tdepth_mode: 3 \n",
      "\t(0:OFF, 1:NFOV_2X2BINNED, 2:NFOV_UNBINNED,3:WFOV_2X2BINNED, 4:WFOV_UNBINNED, 5:Passive IR)\n",
      "\n",
      "\tcamera_fps: 2 \n",
      "\t(0:5 FPS, 1:15 FPS, 2:30 FPS)\n",
      "\n",
      "\tsynchronized_images_only: False \n",
      "\t(True of False). Drop images if the color and depth are not synchronized\n",
      "\n",
      "\tdepth_delay_off_color_usec: 0 ms. \n",
      "\tDelay between the color image and the depth image\n",
      "\n",
      "\twired_sync_mode: 0\n",
      "\t(0:Standalone mode, 1:Master mode, 2:Subordinate mode)\n",
      "\n",
      "\tsubordinate_delay_off_master_usec: 0 ms.\n",
      "\tThe external synchronization timing.\n",
      "\n",
      "\tdisable_streaming_indicator: False \n",
      "\t(True or False). Streaming indicator automatically turns on when the color or depth camera's are in use.\n",
      "\n",
      "\n",
      "Start streaming\n"
     ]
    },
    {
     "data": {
      "text/plain": [
       "[(array([[1.82983423e+03, 0.00000000e+00, 1.91572046e+03],\n",
       "         [0.00000000e+00, 1.82983423e+03, 1.09876086e+03],\n",
       "         [0.00000000e+00, 0.00000000e+00, 1.00000000e+00]]),\n",
       "  array([ 7.09966481e-01, -2.73409390e+00,  1.45804870e-03, -3.24774766e-04,\n",
       "          1.44911301e+00,  5.84310412e-01, -2.56374550e+00,  1.38472950e+00])),\n",
       " (array([[1.39560388e+03, 0.00000000e+00, 9.62751587e+02],\n",
       "         [0.00000000e+00, 1.39531934e+03, 5.47687012e+02],\n",
       "         [0.00000000e+00, 0.00000000e+00, 1.00000000e+00]]),\n",
       "  array([0., 0., 0., 0., 0.])),\n",
       " array([[ 0.8259723 , -0.02335597, -0.56322664,  0.64955115],\n",
       "        [ 0.17117706,  0.9623539 ,  0.21112424, -0.15982892],\n",
       "        [ 0.5370923 , -0.27079427,  0.79887563,  0.09111983],\n",
       "        [ 0.        ,  0.        ,  0.        ,  1.        ]],\n",
       "       dtype=float32)]"
      ]
     },
     "execution_count": 3,
     "metadata": {},
     "output_type": "execute_result"
    }
   ],
   "source": [
    "from pkg.detector.aruco.marker_config import *\n",
    "from pkg.detector.aruco.stereo import ArucoStereo\n",
    "from pkg.detector.camera.realsense import RealSense\n",
    "from pkg.detector.camera.kinect import Kinect\n",
    "aruco_map = get_aruco_map()\n",
    "stereo = ArucoStereo(aruco_map, [Kinect(), RealSense()])\n",
    "stereo.initialize()\n",
    "stereo.calibrate()"
   ]
  },
  {
   "cell_type": "code",
   "execution_count": null,
   "metadata": {},
   "outputs": [],
   "source": []
  },
  {
   "cell_type": "markdown",
   "metadata": {},
   "source": [
    "## create scene builder"
   ]
  },
  {
   "cell_type": "code",
   "execution_count": 4,
   "metadata": {},
   "outputs": [],
   "source": [
    "from pkg.geometry.builder.scene_builder import SceneBuilder\n",
    "s_builder = SceneBuilder(stereo)\n",
    "s_builder.reset_reference_coord(ref_name=\"floor\")"
   ]
  },
  {
   "cell_type": "code",
   "execution_count": null,
   "metadata": {},
   "outputs": [],
   "source": []
  },
  {
   "cell_type": "markdown",
   "metadata": {},
   "source": [
    "## detect robot and make geometry scene"
   ]
  },
  {
   "cell_type": "code",
   "execution_count": 5,
   "metadata": {},
   "outputs": [
    {
     "name": "stderr",
     "output_type": "stream",
     "text": [
      "Unknown tag \"hardwareInterface\" in /robot[@name='custom_robots']/transmission[@name='indy0_tran0']/actuator[@name='indy0_motor0']\n",
      "Unknown tag \"hardwareInterface\" in /robot[@name='custom_robots']/transmission[@name='indy0_tran1']/actuator[@name='indy0_motor1']\n",
      "Unknown tag \"hardwareInterface\" in /robot[@name='custom_robots']/transmission[@name='indy0_tran2']/actuator[@name='indy0_motor2']\n",
      "Unknown tag \"hardwareInterface\" in /robot[@name='custom_robots']/transmission[@name='indy0_tran3']/actuator[@name='indy0_motor3']\n",
      "Unknown tag \"hardwareInterface\" in /robot[@name='custom_robots']/transmission[@name='indy0_tran4']/actuator[@name='indy0_motor4']\n",
      "Unknown tag \"hardwareInterface\" in /robot[@name='custom_robots']/transmission[@name='indy0_tran5']/actuator[@name='indy0_motor5']\n"
     ]
    },
    {
     "name": "stdout",
     "output_type": "stream",
     "text": [
      "Please create a subscriber to the marker\n",
      "publication OK\n",
      "published: [0, 0, 0, 0, 0, 0, 0, 0, 0, 0, 0, 0, 0]\n"
     ]
    }
   ],
   "source": [
    "xyz_rpy_robots = s_builder.detect_items(level_mask=[DetectionLevel.ROBOT])\n",
    "crob.update_robot_pos_dict(xyz_rpy_robots=xyz_rpy_robots)\n",
    "gscene = s_builder.create_gscene(crob)"
   ]
  },
  {
   "cell_type": "code",
   "execution_count": null,
   "metadata": {},
   "outputs": [],
   "source": []
  },
  {
   "cell_type": "markdown",
   "metadata": {},
   "source": [
    "## init planning pipeline"
   ]
  },
  {
   "cell_type": "code",
   "execution_count": 6,
   "metadata": {},
   "outputs": [
    {
     "name": "stdout",
     "output_type": "stream",
     "text": [
      "Dash is running on http://0.0.0.0:8050/\n",
      "\n",
      " * Serving Flask app \"pkg.ui.dash_launcher\" (lazy loading)\n",
      " * Environment: production\n"
     ]
    }
   ],
   "source": [
    "from pkg.planning.scene import PlanningScene\n",
    "pscene = PlanningScene(gscene, combined_robot=crob)\n",
    "\n",
    "from pkg.planning.pipeline import PlanningPipeline\n",
    "ppline = PlanningPipeline(pscene)\n",
    "\n",
    "from pkg.ui.ui_broker import *\n",
    "\n",
    "# start UI\n",
    "ui_broker = UIBroker.instance()\n",
    "ui_broker.initialize(ppline, s_builder)\n",
    "ui_broker.start_server()\n",
    "\n",
    "ui_broker.set_tables()"
   ]
  },
  {
   "cell_type": "markdown",
   "metadata": {},
   "source": [
    "```\n",
    "open web ui on <your ip>:8050\n",
    "click geometry items / Handles / Binders to highlight geometry on RVIZ\n",
    "other functions may be buggy.. please report\n",
    "```"
   ]
  },
  {
   "cell_type": "code",
   "execution_count": null,
   "metadata": {},
   "outputs": [],
   "source": []
  },
  {
   "cell_type": "markdown",
   "metadata": {},
   "source": [
    "## add environment"
   ]
  },
  {
   "cell_type": "code",
   "execution_count": 7,
   "metadata": {},
   "outputs": [
    {
     "name": "stdout",
     "output_type": "stream",
     "text": [
      "   WARNING: This is a development server. Do not use it in a production deployment.\n",
      "   Use a production WSGI server instead.\n",
      " * Debug mode: off\n",
      "Please create a subscriber to the marker\n"
     ]
    }
   ],
   "source": [
    "gtem_dict = s_builder.detect_and_register(level_mask=[DetectionLevel.ENVIRONMENT])"
   ]
  },
  {
   "cell_type": "code",
   "execution_count": 8,
   "metadata": {},
   "outputs": [],
   "source": [
    "# add cam poles\n",
    "ptems = s_builder.add_poles({\"cam0\": s_builder.ref_coord_inv[:3,3], \"cam1\":np.matmul(s_builder.ref_coord_inv, stereo.T_c12)[:3,3]},\n",
    "                            color=(0.6,0.6,0.6,0.0))"
   ]
  },
  {
   "cell_type": "code",
   "execution_count": 9,
   "metadata": {},
   "outputs": [],
   "source": [
    "gtems = s_builder.add_robot_geometries(color=(0,1,0,0.5), display=True, collision=True)"
   ]
  },
  {
   "cell_type": "code",
   "execution_count": 10,
   "metadata": {},
   "outputs": [],
   "source": [
    " gscene.NAME_DICT[\"floor\"].dims = (2,1,0.01)"
   ]
  },
  {
   "cell_type": "code",
   "execution_count": 11,
   "metadata": {},
   "outputs": [],
   "source": [
    "gscene.set_workspace_boundary( -1, 1, -0.5, 0.5, -0.1, 1.1)"
   ]
  },
  {
   "cell_type": "code",
   "execution_count": null,
   "metadata": {},
   "outputs": [],
   "source": []
  },
  {
   "cell_type": "markdown",
   "metadata": {},
   "source": [
    "## add sweep face"
   ]
  },
  {
   "cell_type": "code",
   "execution_count": 12,
   "metadata": {},
   "outputs": [],
   "source": [
    "track = s_builder.detect_and_register(item_names=[\"track\"], level_mask=[DetectionLevel.ENVIRONMENT])[\"track\"]\n",
    "track_face = gscene.copy_from(track, new_name=\"track_face\", collision=False)\n",
    "track_face.dims = (track.dims[0]-0.22, track.dims[1]-0.12, track.dims[2])\n",
    "# track.dims = (track.dims[0]-0.32, track.dims[1]-0.12, track.dims[2])"
   ]
  },
  {
   "cell_type": "code",
   "execution_count": 13,
   "metadata": {},
   "outputs": [],
   "source": [
    "gscene.update_markers_all()"
   ]
  },
  {
   "cell_type": "code",
   "execution_count": null,
   "metadata": {},
   "outputs": [],
   "source": []
  },
  {
   "cell_type": "markdown",
   "metadata": {},
   "source": [
    "## add wp"
   ]
  },
  {
   "cell_type": "code",
   "execution_count": 14,
   "metadata": {},
   "outputs": [],
   "source": [
    "TOOL_DIM = [0.06, 0.10]\n",
    "TRACK_DIM = track_face.dims\n",
    "TRACK_NUM = np.ceil(np.divide(TRACK_DIM[1]-TOOL_DIM[1], TOOL_DIM[1])).astype(np.int)+1\n",
    "TRACK_STEP = (TRACK_DIM[1]-TOOL_DIM[1])/(TRACK_NUM-1)\n",
    "WP_REF_A = -np.subtract(TRACK_DIM[:2], TOOL_DIM[:2])/2\n",
    "WP_REF_B = np.array([-WP_REF_A[0], WP_REF_A[1]])\n",
    "TRC_THIC = TRACK_DIM[2]\n",
    "track_list = []\n",
    "for i_trc in range(TRACK_NUM):\n",
    "    wp1 = gscene.create_safe(GEOTYPE.BOX, \"wp{}a\".format(i_trc+1), \"base_link\", (TOOL_DIM[0]/2,TOOL_DIM[1]/2,TRC_THIC), \n",
    "                             tuple(WP_REF_A+[0,TRACK_STEP*i_trc])+(0,),rpy=(0,0,0), \n",
    "                             color=(0.8,0.2,0.2,0.2), display=True, fixed=True, collision=False, parent=\"track_face\")\n",
    "    wp2 = gscene.create_safe(GEOTYPE.BOX, \"wp{}b\".format(i_trc+1), \"base_link\", (TOOL_DIM[0]/2,TOOL_DIM[1]/2,TRC_THIC), \n",
    "                             tuple(WP_REF_B+[0,TRACK_STEP*i_trc])+(0,),rpy=(0,0,0), \n",
    "                             color=(0.8,0.2,0.2,0.2), display=True, fixed=True, collision=False, parent=\"track_face\")\n",
    "    track_list.append((wp1, wp2))"
   ]
  },
  {
   "cell_type": "code",
   "execution_count": 15,
   "metadata": {},
   "outputs": [],
   "source": [
    "gscene.update_markers_all()"
   ]
  },
  {
   "cell_type": "code",
   "execution_count": null,
   "metadata": {},
   "outputs": [],
   "source": []
  },
  {
   "cell_type": "markdown",
   "metadata": {},
   "source": [
    "## add indy tool"
   ]
  },
  {
   "cell_type": "code",
   "execution_count": 16,
   "metadata": {},
   "outputs": [
    {
     "data": {
      "text/plain": [
       "<pkg.geometry.geometry.GeometryItem at 0x7fc4155c1490>"
      ]
     },
     "execution_count": 16,
     "metadata": {},
     "output_type": "execute_result"
    }
   ],
   "source": [
    "gscene.create_safe(gtype=GEOTYPE.CYLINDER, name=\"indy0_fts\", link_name=\"indy0_tcp\",\n",
    "                            center=(0,0,0.02), dims=(0.07,0.07, 0.04), rpy=(0,0,0), color=(0.8,0.8,0.8,1),\n",
    "                            collision=False)\n",
    "gscene.create_safe(gtype=GEOTYPE.CYLINDER, name=\"indy0_fts_col\", link_name=\"indy0_tcp\",\n",
    "                            center=(0,0,0.02), dims=(0.11,0.11, 0.04), rpy=(0,0,0), color=(0.0,0.8,0.0,0.5),\n",
    "                            collision=True)\n",
    "gscene.create_safe(gtype=GEOTYPE.CYLINDER, name=\"indy0_pole\", link_name=\"indy0_tcp\",\n",
    "                            center=(0,0,0.055), dims=(0.03,0.03, 0.030), rpy=(0,0,0), color=(0.8,0.8,0.8,1),\n",
    "                            collision=False)\n",
    "gscene.create_safe(gtype=GEOTYPE.CYLINDER, name=\"indy0_pole_col\", link_name=\"indy0_tcp\",\n",
    "                            center=(0,0,0.055), dims=(0.07,0.07, 0.030), rpy=(0,0,0), color=(0.0,0.8,0.0,0.2),\n",
    "                            collision=True)\n",
    "\n",
    "gscene.create_safe(gtype=GEOTYPE.BOX, name=\"indy0_brushbase\", link_name=\"indy0_tcp\",\n",
    "                            center=(0,0,0.0775), dims=(0.06, 0.14, 0.015), rpy=(0,0,0), color=(0.8,0.8,0.8,1),\n",
    "                            collision=False)\n",
    "gscene.create_safe(gtype=GEOTYPE.BOX, name=\"brush_face\", link_name=\"indy0_tcp\",\n",
    "                            center=(0,0,0.095), dims=(0.05,0.13, 0.015), rpy=(0,0,0), color=(1.0,1.0,0.94,1),\n",
    "                            collision=False)\n",
    "gscene.create_safe(gtype=GEOTYPE.BOX, name=\"brush_face_col\", link_name=\"indy0_tcp\",\n",
    "                            center=(0,0,0.080), dims=(0.08,0.18, 0.02), rpy=(0,0,0), color=(0.0,0.8,0.0,0.5),\n",
    "                            collision=True)"
   ]
  },
  {
   "cell_type": "code",
   "execution_count": null,
   "metadata": {},
   "outputs": [],
   "source": []
  },
  {
   "cell_type": "markdown",
   "metadata": {},
   "source": [
    "## add box"
   ]
  },
  {
   "cell_type": "code",
   "execution_count": 17,
   "metadata": {},
   "outputs": [],
   "source": [
    "gtem_dict = s_builder.detect_and_register(level_mask=[DetectionLevel.MOVABLE])"
   ]
  },
  {
   "cell_type": "code",
   "execution_count": 18,
   "metadata": {},
   "outputs": [],
   "source": [
    "# give clearance from the track surface\n",
    "s_builder.give_clearance(track, gtem_dict.values())"
   ]
  },
  {
   "cell_type": "code",
   "execution_count": 19,
   "metadata": {},
   "outputs": [],
   "source": [
    "gscene.update_markers_all()"
   ]
  },
  {
   "cell_type": "code",
   "execution_count": null,
   "metadata": {},
   "outputs": [],
   "source": []
  },
  {
   "cell_type": "markdown",
   "metadata": {},
   "source": [
    "## Register binders"
   ]
  },
  {
   "cell_type": "code",
   "execution_count": 20,
   "metadata": {},
   "outputs": [],
   "source": [
    "from pkg.planning.constraint.constraint_actor import Gripper2Tool, PlacePlane, SweepFramer, FixtureSlot"
   ]
  },
  {
   "cell_type": "code",
   "execution_count": 21,
   "metadata": {},
   "outputs": [
    {
     "data": {
      "text/plain": [
       "<pkg.planning.constraint.constraint_actor.SweepFramer at 0x7fc4155c1c50>"
      ]
     },
     "execution_count": 21,
     "metadata": {},
     "output_type": "execute_result"
    }
   ],
   "source": [
    "gscene.create_safe(gtype=GEOTYPE.SPHERE, name=\"grip1\", link_name=\"panda1_hand\", \n",
    "                 dims=(0.01,)*3, center=(0,0,0.112), rpy=(-np.pi/2,0,0), color=(1,0,0,1), display=True, collision=False, fixed=True)\n",
    "\n",
    "pscene.create_binder(bname=\"grip1\", gname=\"grip1\", _type=Gripper2Tool, point=(0,0,0), rpy=(0,0,0))\n",
    "pscene.create_binder(bname=\"track_face\", gname=\"track_face\", _type=PlacePlane)\n",
    "pscene.create_binder(bname=\"brush_face\", gname=\"brush_face\", _type=SweepFramer, point=(0,0,0.00), \n",
    "                     rpy=(0,np.pi,0))"
   ]
  },
  {
   "cell_type": "code",
   "execution_count": null,
   "metadata": {},
   "outputs": [],
   "source": []
  },
  {
   "cell_type": "markdown",
   "metadata": {},
   "source": [
    "## add objects"
   ]
  },
  {
   "cell_type": "code",
   "execution_count": 22,
   "metadata": {},
   "outputs": [],
   "source": [
    "from pkg.planning.constraint.constraint_subject import \\\n",
    "        CustomObject, Grasp2Point, PlacePoint, SweepFrame, SweepTask, BoxObject, FixturePoint, AbstractObject"
   ]
  },
  {
   "cell_type": "code",
   "execution_count": 23,
   "metadata": {},
   "outputs": [],
   "source": [
    "box1 = pscene.create_subject(oname=\"box1\", gname=\"box1\", _type=BoxObject, hexahedral=True)\n",
    "box2 = pscene.create_subject(oname=\"box2\", gname=\"box2\", _type=BoxObject, hexahedral=True)\n",
    "# box3= pscene.create_subject(oname=\"box3\", gname=\"box3\", _type=BoxObject, hexahedral=True)"
   ]
  },
  {
   "cell_type": "code",
   "execution_count": 24,
   "metadata": {},
   "outputs": [],
   "source": [
    "from pkg.planning.constraint.constraint_common import MotionConstraint\n",
    "from pkg.planning.constraint.constraint_subject import AbstractTask\n",
    "from pkg.planning.constraint.constraint_subject import SweepLineTask"
   ]
  },
  {
   "cell_type": "code",
   "execution_count": 25,
   "metadata": {},
   "outputs": [],
   "source": [
    "sweep_list = []\n",
    "for i_t, track_tem in enumerate(track_list):\n",
    "    wp1, wp2 = track_tem\n",
    "    sweep_ = pscene.create_subject(oname=\"sweep{}\".format(i_t+1), gname=\"track_face\", _type=SweepLineTask, \n",
    "                                 action_points_dict = {wp1.name: SweepFrame(wp1.name, wp1, [0,0,0.005], [0,0,0]),\n",
    "                                                       wp2.name: SweepFrame(wp2.name, wp2, [0,0,0.005], [0,0,0])})\n",
    "    sweep_list.append(sweep_)"
   ]
  },
  {
   "cell_type": "code",
   "execution_count": null,
   "metadata": {},
   "outputs": [],
   "source": []
  },
  {
   "cell_type": "markdown",
   "metadata": {},
   "source": [
    "### planners"
   ]
  },
  {
   "cell_type": "code",
   "execution_count": 26,
   "metadata": {
    "scrolled": false
   },
   "outputs": [],
   "source": [
    "from pkg.planning.motion.moveit.moveit_planner import MoveitPlanner\n",
    "mplan = MoveitPlanner(pscene)\n",
    "mplan.update_gscene()\n",
    "from pkg.planning.task.rrt import TaskRRT\n",
    "tplan = TaskRRT(pscene)\n",
    "tplan.prepare()\n",
    "ppline.set_motion_planner(mplan)\n",
    "ppline.set_task_planner(tplan)"
   ]
  },
  {
   "cell_type": "code",
   "execution_count": null,
   "metadata": {},
   "outputs": [],
   "source": []
  },
  {
   "cell_type": "markdown",
   "metadata": {},
   "source": [
    "## motion filters"
   ]
  },
  {
   "cell_type": "code",
   "execution_count": 27,
   "metadata": {},
   "outputs": [],
   "source": [
    "from pkg.planning.filtering.grasp_filter import GraspChecker\n",
    "from pkg.planning.filtering.reach_filter import ReachChecker\n",
    "from pkg.planning.filtering.latticized_filter import LatticedChecker\n",
    "\n",
    "gcheck = GraspChecker(pscene)\n",
    "rcheck = ReachChecker(pscene)\n",
    "checkers_all = [gcheck, rcheck]\n",
    "# lcheck = LatticedChecker(pscene, gcheck)\n",
    "# checkers_all.append(lcheck)"
   ]
  },
  {
   "cell_type": "code",
   "execution_count": 28,
   "metadata": {},
   "outputs": [],
   "source": [
    "mplan.motion_filters = checkers_all"
   ]
  },
  {
   "cell_type": "code",
   "execution_count": 29,
   "metadata": {},
   "outputs": [],
   "source": [
    "gscene.show_pose(crob.home_pose)"
   ]
  },
  {
   "cell_type": "code",
   "execution_count": null,
   "metadata": {},
   "outputs": [],
   "source": []
  },
  {
   "cell_type": "markdown",
   "metadata": {},
   "source": [
    "## Set initial condition"
   ]
  },
  {
   "cell_type": "code",
   "execution_count": 30,
   "metadata": {},
   "outputs": [
    {
     "name": "stdout",
     "output_type": "stream",
     "text": [
      "('track_face', 'track_face', 0, 0, 0)\n"
     ]
    }
   ],
   "source": [
    "from pkg.planning.constraint.constraint_common \\\n",
    "            import sample_redundancy, combine_redundancy\n",
    "gtimer = GlobalTimer.instance()\n",
    "initial_state = pscene.update_state(crob.home_pose)\n",
    "print(initial_state.node)"
   ]
  },
  {
   "cell_type": "code",
   "execution_count": 31,
   "metadata": {},
   "outputs": [
    {
     "data": {
      "text/plain": [
       "['box1', 'box2', 'sweep1', 'sweep2', 'sweep3']"
      ]
     },
     "execution_count": 31,
     "metadata": {},
     "output_type": "execute_result"
    }
   ],
   "source": [
    "pscene.subject_name_list"
   ]
  },
  {
   "cell_type": "code",
   "execution_count": null,
   "metadata": {},
   "outputs": [],
   "source": []
  },
  {
   "cell_type": "markdown",
   "metadata": {},
   "source": [
    "# Node Sampler"
   ]
  },
  {
   "cell_type": "code",
   "execution_count": 32,
   "metadata": {},
   "outputs": [],
   "source": [
    "from pkg.planning.sampling.node_sampling import make_state_param_hashable, UniformNodeSampler, PenaltyNodeSampler, GrowingSampler\n",
    "\n",
    "tplan.new_node_sampler = PenaltyNodeSampler(3, 1)\n",
    "tplan.parent_node_sampler = UniformNodeSampler(3)\n",
    "# tplan.parent_snode_sampler = GrowingSampler(3)"
   ]
  },
  {
   "cell_type": "code",
   "execution_count": null,
   "metadata": {},
   "outputs": [],
   "source": []
  },
  {
   "cell_type": "markdown",
   "metadata": {},
   "source": [
    "# CustomRule"
   ]
  },
  {
   "cell_type": "code",
   "execution_count": 33,
   "metadata": {},
   "outputs": [],
   "source": [
    "from pkg.planning.task.custom_rules.sweep_entrance_control import SweepEntranceControlRule\n",
    "tplan.custom_rule = SweepEntranceControlRule(pscene)"
   ]
  },
  {
   "cell_type": "code",
   "execution_count": null,
   "metadata": {},
   "outputs": [],
   "source": []
  },
  {
   "cell_type": "markdown",
   "metadata": {},
   "source": [
    "## Plan"
   ]
  },
  {
   "cell_type": "code",
   "execution_count": 34,
   "metadata": {
    "scrolled": true
   },
   "outputs": [
    {
     "name": "stdout",
     "output_type": "stream",
     "text": [
      "Use 20/20 agents\n",
      "try: 0 - ('track_face', 'track_face', 0, 0, 0)->('track_face', 'track_face', 1, 0, 0)\n",
      "try transition motion\n",
      "try: 0 - ('track_face', 'track_face', 0, 0, 0)->('track_face', 'grip1', 0, 0, 0)\n",
      "result: 0 - ('track_face', 'track_face', 0, 0, 0)->('track_face', 'grip1', 0, 0, 0) = fail\n",
      "try: 0 - ('track_face', 'track_face', 0, 0, 0)->('grip1', 'track_face', 0, 0, 0)\n",
      "try: 0 - ('track_face', 'track_face', 0, 0, 0)->('track_face', 'grip1', 0, 0, 0)\n",
      "result: 0 - ('track_face', 'track_face', 0, 0, 0)->('grip1', 'track_face', 0, 0, 0) = fail\n",
      "try: 0 - ('track_face', 'track_face', 0, 0, 0)->('grip1', 'track_face', 0, 0, 0)\n",
      "result: 0 - ('track_face', 'track_face', 0, 0, 0)->('track_face', 'grip1', 0, 0, 0) = fail\n",
      "result: 0 - ('track_face', 'track_face', 0, 0, 0)->('grip1', 'track_face', 0, 0, 0) = fail\n",
      "try: 0 - ('track_face', 'track_face', 0, 0, 0)->('grip1', 'track_face', 0, 0, 0)\n",
      "try: 0 - ('track_face', 'track_face', 0, 0, 0)->('track_face', 'grip1', 0, 0, 0)\n",
      "result: 0 - ('track_face', 'track_face', 0, 0, 0)->('grip1', 'track_face', 0, 0, 0) = fail\n",
      "try: 0 - ('track_face', 'track_face', 0, 0, 0)->('track_face', 'grip1', 0, 0, 0)\n",
      "result: 0 - ('track_face', 'track_face', 0, 0, 0)->('track_face', 'grip1', 0, 0, 0) = fail\n",
      "result: 0 - ('track_face', 'track_face', 0, 0, 0)->('track_face', 'grip1', 0, 0, 0) = fail\n",
      "try: 0 - ('track_face', 'track_face', 0, 0, 0)->('grip1', 'track_face', 0, 0, 0)\n",
      "try: 0 - ('track_face', 'track_face', 0, 0, 0)->('grip1', 'track_face', 0, 0, 0)\n",
      "try: 0 - ('track_face', 'track_face', 0, 0, 0)->('track_face', 'grip1', 0, 0, 0)\n",
      "result: 0 - ('track_face', 'track_face', 0, 0, 0)->('grip1', 'track_face', 0, 0, 0) = fail\n",
      "result: 0 - ('track_face', 'track_face', 0, 0, 0)->('grip1', 'track_face', 0, 0, 0) = fail\n",
      "result: 0 - ('track_face', 'track_face', 0, 0, 0)->('track_face', 'grip1', 0, 0, 0) = fail\n",
      "try: 0 - ('track_face', 'track_face', 0, 0, 0)->('track_face', 'grip1', 0, 0, 0)\n",
      "try: 0 - ('track_face', 'track_face', 0, 0, 0)->('grip1', 'track_face', 0, 0, 0)\n",
      "try: 0 - ('track_face', 'track_face', 0, 0, 0)->('grip1', 'track_face', 0, 0, 0)\n",
      "result: 0 - ('track_face', 'track_face', 0, 0, 0)->('grip1', 'track_face', 0, 0, 0) = fail\n",
      "result: 0 - ('track_face', 'track_face', 0, 0, 0)->('track_face', 'grip1', 0, 0, 0) = fail\n",
      "try: 0 - ('track_face', 'track_face', 0, 0, 0)->('track_face', 'grip1', 0, 0, 0)\n",
      "result: 0 - ('track_face', 'track_face', 0, 0, 0)->('grip1', 'track_face', 0, 0, 0) = fail\n",
      "result: 0 - ('track_face', 'track_face', 0, 0, 0)->('track_face', 'grip1', 0, 0, 0) = fail\n",
      "try: 0 - ('track_face', 'track_face', 0, 0, 0)->('track_face', 'grip1', 0, 0, 0)\n",
      "try: 0 - ('track_face', 'track_face', 0, 0, 0)->('grip1', 'track_face', 0, 0, 0)\n",
      "result: 0 - ('track_face', 'track_face', 0, 0, 0)->('track_face', 'grip1', 0, 0, 0) = fail\n",
      "try: 0 - ('track_face', 'track_face', 0, 0, 0)->('grip1', 'track_face', 0, 0, 0)\n",
      "try: 0 - ('track_face', 'track_face', 0, 0, 0)->('track_face', 'grip1', 0, 0, 0)\n",
      "try transition motion\n",
      "result: 0 - ('track_face', 'track_face', 0, 0, 0)->('grip1', 'track_face', 0, 0, 0) = fail\n",
      "try: 0 - ('track_face', 'track_face', 0, 0, 0)->('grip1', 'track_face', 0, 0, 0)\n",
      "try transition motion\n",
      "result: 0 - ('track_face', 'track_face', 0, 0, 0)->('grip1', 'track_face', 0, 0, 0) = fail\n",
      "try: 0 - ('track_face', 'track_face', 0, 0, 0)->('grip1', 'track_face', 0, 0, 0)\n",
      "result: 0 - ('track_face', 'track_face', 0, 0, 0)->('grip1', 'track_face', 0, 0, 0) = fail\n",
      "try: 0 - ('track_face', 'track_face', 0, 0, 0)->('track_face', 'grip1', 0, 0, 0)\n",
      "try: 0 - ('track_face', 'track_face', 0, 0, 0)->('track_face', 'grip1', 0, 0, 0)\n",
      "result: 0 - ('track_face', 'track_face', 0, 0, 0)->('track_face', 'grip1', 0, 0, 0) = fail\n",
      "try: 0 - ('track_face', 'track_face', 0, 0, 0)->('grip1', 'track_face', 0, 0, 0)\n",
      "result: 0 - ('track_face', 'track_face', 0, 0, 0)->('track_face', 'grip1', 0, 0, 0) = fail\n",
      "try: 0 - ('track_face', 'track_face', 0, 0, 0)->('track_face', 'grip1', 0, 0, 0)\n",
      "result: 0 - ('track_face', 'track_face', 0, 0, 0)->('track_face', 'grip1', 0, 0, 0) = fail\n",
      "result: 0 - ('track_face', 'track_face', 0, 0, 0)->('grip1', 'track_face', 0, 0, 0) = fail\n",
      "try: 0 - ('track_face', 'track_face', 0, 0, 0)->('grip1', 'track_face', 0, 0, 0)\n",
      "try: 0 - ('track_face', 'track_face', 0, 0, 0)->('track_face', 'grip1', 0, 0, 0)\n",
      "try transition motion\n",
      "result: 0 - ('track_face', 'track_face', 0, 0, 0)->('track_face', 'grip1', 0, 0, 0) = fail\n",
      "try: 0 - ('track_face', 'track_face', 0, 0, 0)->('grip1', 'track_face', 0, 0, 0)\n",
      "transition motion tried: True\n",
      "result: 0 - ('track_face', 'track_face', 0, 0, 0)->('track_face', 'grip1', 0, 0, 0) = success\n",
      "branching: 0->1 (0.55/200.0 s, steps/err: 46(195.770978928 ms)/0.00215093329449)\n",
      "try: 1 - ('track_face', 'grip1', 0, 0, 0)->('track_face', 'grip1', 0, 0, 0)\n",
      "result: 0 - ('track_face', 'track_face', 0, 0, 0)->('grip1', 'track_face', 0, 0, 0) = fail\n",
      "======================================================================================================================================================\n",
      "try: 1 - ('track_face', 'grip1', 0, 0, 0)->('track_face', 'grip1', 1, 0, 0)\n",
      "try joint motion\n",
      "try: 1 - ('track_face', 'grip1', 0, 0, 0)->('track_face', 'track_face', 0, 0, 0)\n",
      "try transition motion\n",
      "result: 1 - ('track_face', 'grip1', 0, 0, 0)->('track_face', 'track_face', 0, 0, 0) = fail\n",
      "try: 1 - ('track_face', 'grip1', 0, 0, 0)->('track_face', 'track_face', 0, 0, 0)\n",
      "result: 1 - ('track_face', 'grip1', 0, 0, 0)->('track_face', 'track_face', 0, 0, 0) = fail\n",
      "try: 1 - ('track_face', 'grip1', 0, 0, 0)->('track_face', 'track_face', 0, 0, 0)\n",
      "joint motion tried: True\n",
      "result: 1 - ('track_face', 'grip1', 0, 0, 0)->('track_face', 'grip1', 0, 0, 0) = success\n",
      "try transition motion\n",
      "branching: 1->2 (0.62/200.0 s, steps/err: 43(54.5701980591 ms)/6.75875463877e-16)\n",
      "======================================================================================================================================================\n",
      "try: 2 - ('track_face', 'grip1', 0, 0, 0)->('track_face', 'grip1', 1, 0, 0)\n",
      "transition motion tried: True\n",
      "result: 0 - ('track_face', 'track_face', 0, 0, 0)->('grip1', 'track_face', 0, 0, 0) = success\n",
      "branching: 0->3 (0.64/200.0 s, steps/err: 78(320.948123932 ms)/0.00224021672191)\n",
      "try transition motion\n",
      "======================================================================================================================================================\n",
      "try: 3 - ('grip1', 'track_face', 0, 0, 0)->('grip1', 'track_face', 0, 0, 0)\n",
      "try joint motion\n",
      "try: 3 - ('grip1', 'track_face', 0, 0, 0)->('grip1', 'track_face', 1, 0, 0)\n",
      "try transition motion\n",
      "transition motion tried: True\n",
      "result: 0 - ('track_face', 'track_face', 0, 0, 0)->('grip1', 'track_face', 0, 0, 0) = success\n",
      "branching: 0->4 (0.69/200.0 s, steps/err: 55(162.816047668 ms)/0.0019505479689)\n",
      "transition motion tried: True\n",
      "result: 1 - ('track_face', 'grip1', 0, 0, 0)->('track_face', 'track_face', 0, 0, 0) = success\n",
      "branching: 1->5 (0.69/200.0 s, steps/err: 12(88.546037674 ms)/0.00134117551359)\n",
      "======================================================================================================================================================\n",
      "======================================================================================================================================================\n",
      "try: 4 - ('grip1', 'track_face', 0, 0, 0)->('grip1', 'track_face', 1, 0, 0)\n",
      "try: 4 - ('grip1', 'track_face', 0, 0, 0)->('grip1', 'track_face', 0, 0, 0)\n",
      "try transition motion\n",
      "try joint motion\n",
      "try: 5 - ('track_face', 'track_face', 0, 0, 0)->('track_face', 'track_face', 0, 0, 0)\n",
      "try joint motion\n",
      "joint motion tried: True\n",
      "result: 3 - ('grip1', 'track_face', 0, 0, 0)->('grip1', 'track_face', 0, 0, 0) = success\n",
      "branching: 3->6 (0.74/200.0 s, steps/err: 77(90.6050205231 ms)/9.80914302813e-16)\n",
      "======================================================================================================================================================\n",
      "try: 5 - ('track_face', 'track_face', 0, 0, 0)->('track_face', 'track_face', 1, 0, 0)\n",
      "try: 6 - ('grip1', 'track_face', 0, 0, 0)->('grip1', 'track_face', 1, 0, 0)\n",
      "joint motion tried: True\n",
      "result: 5 - ('track_face', 'track_face', 0, 0, 0)->('track_face', 'track_face', 1, 0, 0) = fail\n",
      "try transition motion\n"
     ]
    },
    {
     "name": "stdout",
     "output_type": "stream",
     "text": [
      "try: 7 - ('grip1', 'track_face', 0, 0, 0)->('grip1', 'track_face', 1, 0, 0)\n",
      "result: 4 - ('grip1', 'track_face', 0, 0, 0)->('grip1', 'track_face', 0, 0, 0) = success\n",
      "branching: 4->7 (0.79/200.0 s, steps/err: 55(66.987991333 ms)/6.12657845385e-16)\n",
      "======================================================================================================================================================\n",
      "try: 3 - ('grip1', 'track_face', 0, 0, 0)->('track_face', 'track_face', 0, 0, 0)\n",
      "try transition motion\n",
      "result: 3 - ('grip1', 'track_face', 0, 0, 0)->('track_face', 'track_face', 0, 0, 0) = fail\n",
      "joint motion tried: True\n",
      "result: 5 - ('track_face', 'track_face', 0, 0, 0)->('track_face', 'track_face', 0, 0, 0) = success\n",
      "try: 8 - ('track_face', 'track_face', 0, 0, 0)->('track_face', 'track_face', 1, 0, 0)\n",
      "branching: 5->8 (0.81/200.0 s, steps/err: 75(88.8049602509 ms)/6.79937446048e-16)\n",
      "======================================================================================================================================================\n",
      "result: 8 - ('track_face', 'track_face', 0, 0, 0)->('track_face', 'track_face', 1, 0, 0) = fail\n",
      "try: 3 - ('grip1', 'track_face', 0, 0, 0)->('track_face', 'track_face', 0, 0, 0)\n",
      "try: 6 - ('grip1', 'track_face', 0, 0, 0)->('track_face', 'track_face', 0, 0, 0)\n",
      "result: 3 - ('grip1', 'track_face', 0, 0, 0)->('track_face', 'track_face', 0, 0, 0) = fail\n",
      "result: 6 - ('grip1', 'track_face', 0, 0, 0)->('track_face', 'track_face', 0, 0, 0) = fail\n",
      "transition motion tried: True\n",
      "try: 2 - ('track_face', 'grip1', 0, 0, 0)->('track_face', 'track_face', 0, 0, 0)\n",
      "try: 9 - ('grip1', 'track_face', 1, 0, 0)->('grip1', 'track_face', 2, 0, 0)\n",
      "transition motion tried: True\n",
      "result: 2 - ('track_face', 'grip1', 0, 0, 0)->('track_face', 'track_face', 0, 0, 0) = fail\n",
      "result: 7 - ('grip1', 'track_face', 0, 0, 0)->('grip1', 'track_face', 1, 0, 0) = success\n",
      "try: 6 - ('grip1', 'track_face', 0, 0, 0)->('track_face', 'track_face', 0, 0, 0)\n",
      "branching: 7->9 (0.89/200.0 s, steps/err: 30(73.4970569611 ms)/0.00151540644718)\n",
      "======================================================================================================================================================\n",
      "try: 6 - ('grip1', 'track_face', 0, 0, 0)->('track_face', 'track_face', 0, 0, 0)\n",
      "try constrained motion\n",
      "result: 6 - ('grip1', 'track_face', 0, 0, 0)->('track_face', 'track_face', 0, 0, 0) = fail\n",
      "try: 10 - ('grip1', 'track_face', 1, 0, 0)->('grip1', 'track_face', 2, 0, 0)\n",
      "result: 6 - ('grip1', 'track_face', 0, 0, 0)->('grip1', 'track_face', 1, 0, 0) = success\n",
      "try: 2 - ('track_face', 'grip1', 0, 0, 0)->('track_face', 'track_face', 0, 0, 0)\n",
      "result: 6 - ('grip1', 'track_face', 0, 0, 0)->('track_face', 'track_face', 0, 0, 0) = fail\n",
      "try: 7 - ('grip1', 'track_face', 0, 0, 0)->('track_face', 'track_face', 0, 0, 0)\n",
      "branching: 6->10 (0.94/200.0 s, steps/err: 30(123.583078384 ms)/0.00155725463596)\n",
      "try constrained motion\n",
      "result: 2 - ('track_face', 'grip1', 0, 0, 0)->('track_face', 'track_face', 0, 0, 0) = fail\n",
      "======================================================================================================================================================\n",
      "result: 7 - ('grip1', 'track_face', 0, 0, 0)->('track_face', 'track_face', 0, 0, 0) = fail\n",
      "try: 2 - ('track_face', 'grip1', 0, 0, 0)->('track_face', 'track_face', 0, 0, 0)\n",
      "try: 8 - ('track_face', 'track_face', 0, 0, 0)->('track_face', 'grip1', 0, 0, 0)\n",
      "try: 1 - ('track_face', 'grip1', 0, 0, 0)->('track_face', 'track_face', 0, 0, 0)\n",
      "result: 8 - ('track_face', 'track_face', 0, 0, 0)->('track_face', 'grip1', 0, 0, 0) = fail\n",
      "try transition motion\n",
      "try: 0 - ('track_face', 'track_face', 0, 0, 0)->('track_face', 'grip1', 0, 0, 0)\n",
      "constrained motion tried: True\n",
      "try: 4 - ('grip1', 'track_face', 0, 0, 0)->('track_face', 'track_face', 0, 0, 0)\n",
      "try: 1 - ('track_face', 'grip1', 0, 0, 0)->('track_face', 'track_face', 0, 0, 0)\n",
      "constrained motion tried: True\n",
      "try transition motion\n",
      "result: 10 - ('grip1', 'track_face', 1, 0, 0)->('grip1', 'track_face', 2, 0, 0) = success\n",
      "result: 0 - ('track_face', 'track_face', 0, 0, 0)->('track_face', 'grip1', 0, 0, 0) = fail\n",
      "result: 4 - ('grip1', 'track_face', 0, 0, 0)->('track_face', 'track_face', 0, 0, 0) = fail\n",
      "branching: 10->11 (1.04/200.0 s, steps/err: 31(74.6231079102 ms)/0.00153784968044)\n",
      "result: 1 - ('track_face', 'grip1', 0, 0, 0)->('track_face', 'track_face', 0, 0, 0) = fail\n",
      "try: 11 - ('grip1', 'track_face', 2, 0, 0)->('grip1', 'track_face', 2, 0, 0)\n",
      "try joint motion\n",
      "try: 12 - ('grip1', 'track_face', 2, 0, 0)->('grip1', 'track_face', 2, 0, 0)\n",
      "result: 9 - ('grip1', 'track_face', 1, 0, 0)->('grip1', 'track_face', 2, 0, 0) = success\n",
      "try: 11 - ('grip1', 'track_face', 2, 0, 0)->('grip1', 'track_face', 2, 1, 0)\n",
      "======================================================================================================================================================\n",
      "transition motion tried: True\n",
      "try: 12 - ('grip1', 'track_face', 2, 0, 0)->('grip1', 'track_face', 2, 1, 0)\n",
      "try joint motion\n",
      "try: 11 - ('grip1', 'track_face', 2, 0, 0)->('track_face', 'track_face', 2, 0, 0)\n",
      "branching: 9->12 (1.07/200.0 s, steps/err: 29(165.187835693 ms)/0.00084362680928)\n",
      "try transition motion\n",
      "result: 2 - ('track_face', 'grip1', 0, 0, 0)->('track_face', 'track_face', 0, 0, 0) = success\n",
      "======================================================================================================================================================\n",
      "try transition motion\n",
      "branching: 2->13 (1.12/200.0 s, steps/err: 54(120.635032654 ms)/0.00160900213089)\n",
      "result: 11 - ('grip1', 'track_face', 2, 0, 0)->('track_face', 'track_face', 2, 0, 0) = fail\n",
      "joint motion tried: True\n",
      "======================================================================================================================================================\n",
      "try: 13 - ('track_face', 'track_face', 0, 0, 0)->('track_face', 'track_face', 0, 0, 0)\n",
      "try: 13 - ('track_face', 'track_face', 0, 0, 0)->('track_face', 'track_face', 1, 0, 0)\n",
      "result: 11 - ('grip1', 'track_face', 2, 0, 0)->('grip1', 'track_face', 2, 0, 0) = success\n",
      "try: 14 - ('grip1', 'track_face', 2, 0, 0)->('grip1', 'track_face', 2, 1, 0)\n",
      "transition motion tried: True\n",
      "branching: 11->14 (1.15/200.0 s, steps/err: 20(86.2920284271 ms)/5.83036601017e-16)\n",
      "======================================================================================================================================================\n",
      "result: 13 - ('track_face', 'track_face', 0, 0, 0)->('track_face', 'track_face', 1, 0, 0) = fail\n",
      "try joint motion\n",
      "try transition motion\n",
      "result: 1 - ('track_face', 'grip1', 0, 0, 0)->('track_face', 'track_face', 0, 0, 0) = success\n",
      "try: 15 - ('track_face', 'track_face', 0, 0, 0)->('track_face', 'track_face', 0, 0, 0)\n",
      "try: 15 - ('track_face', 'track_face', 0, 0, 0)->('track_face', 'track_face', 1, 0, 0)\n",
      "try: 14 - ('grip1', 'track_face', 2, 0, 0)->('track_face', 'track_face', 2, 0, 0)\n",
      "try joint motion\n",
      "branching: 1->15 (1.21/200.0 s, steps/err: 23(151.588916779 ms)/0.00118923238695)\n",
      "result: 15 - ('track_face', 'track_face', 0, 0, 0)->('track_face', 'track_face', 1, 0, 0) = fail\n",
      "result: 14 - ('grip1', 'track_face', 2, 0, 0)->('track_face', 'track_face', 2, 0, 0) = fail\n",
      "try: 14 - ('grip1', 'track_face', 2, 0, 0)->('track_face', 'track_face', 2, 0, 0)\n",
      "try: 11 - ('grip1', 'track_face', 2, 0, 0)->('track_face', 'track_face', 2, 0, 0)\n",
      "======================================================================================================================================================\n",
      "transition motion tried: True\n",
      "transition motion tried: True\n",
      "try: 12 - ('grip1', 'track_face', 2, 0, 0)->('track_face', 'track_face', 2, 0, 0)\n",
      "result: 11 - ('grip1', 'track_face', 2, 0, 0)->('track_face', 'track_face', 2, 0, 0) = fail\n",
      "result: 14 - ('grip1', 'track_face', 2, 0, 0)->('track_face', 'track_face', 2, 0, 0) = fail\n",
      "joint motion tried: True\n",
      "result: 12 - ('grip1', 'track_face', 2, 0, 0)->('grip1', 'track_face', 2, 0, 0) = success\n",
      "try: 12 - ('grip1', 'track_face', 2, 0, 0)->('track_face', 'track_face', 2, 0, 0)\n",
      "try: 11 - ('grip1', 'track_face', 2, 0, 0)->('track_face', 'track_face', 2, 0, 0)\n",
      "branching: 12->16 (1.32/200.0 s, steps/err: 20(219.507932663 ms)/7.52806990085e-16)\n",
      "result: 12 - ('grip1', 'track_face', 2, 0, 0)->('track_face', 'track_face', 2, 0, 0) = fail\n"
     ]
    },
    {
     "name": "stdout",
     "output_type": "stream",
     "text": [
      "try: 16 - ('grip1', 'track_face', 2, 0, 0)->('grip1', 'track_face', 2, 1, 0)\n",
      "result: 11 - ('grip1', 'track_face', 2, 0, 0)->('grip1', 'track_face', 2, 1, 0) = success\n",
      "======================================================================================================================================================\n",
      "result: 12 - ('grip1', 'track_face', 2, 0, 0)->('grip1', 'track_face', 2, 1, 0) = success\n",
      "branching: 12->18 (1.34/200.0 s, steps/err: 57(231.112957001 ms)/0.000827582431312)\n",
      "result: 11 - ('grip1', 'track_face', 2, 0, 0)->('track_face', 'track_face', 2, 0, 0) = fail\n",
      "result: 12 - ('grip1', 'track_face', 2, 0, 0)->('track_face', 'track_face', 2, 0, 0) = fail\n",
      "======================================================================================================================================================\n",
      "try: 18 - ('grip1', 'track_face', 2, 1, 0)->('grip1', 'track_face', 2, 2, 0)\n",
      "branching: 11->17 (1.35/200.0 s, steps/err: 24(229.463815689 ms)/0.00176445411649)\n",
      "try: 11 - ('grip1', 'track_face', 2, 0, 0)->('track_face', 'track_face', 2, 0, 0)\n",
      "try: 14 - ('grip1', 'track_face', 2, 0, 0)->('track_face', 'track_face', 2, 0, 0)\n",
      "try transition motion\n",
      "try: 17 - ('grip1', 'track_face', 2, 1, 0)->('grip1', 'track_face', 2, 2, 0)\n",
      "try: 12 - ('grip1', 'track_face', 2, 0, 0)->('track_face', 'track_face', 2, 0, 0)\n",
      "try: 16 - ('grip1', 'track_face', 2, 0, 0)->('track_face', 'track_face', 2, 0, 0)\n",
      "try: 14 - ('grip1', 'track_face', 2, 0, 0)->('track_face', 'track_face', 2, 0, 0)\n",
      "result: 11 - ('grip1', 'track_face', 2, 0, 0)->('track_face', 'track_face', 2, 0, 0) = fail\n",
      "======================================================================================================================================================\n",
      "result: 14 - ('grip1', 'track_face', 2, 0, 0)->('track_face', 'track_face', 2, 0, 0) = fail\n",
      "try: 11 - ('grip1', 'track_face', 2, 0, 0)->('track_face', 'track_face', 2, 0, 0)\n",
      "result: 12 - ('grip1', 'track_face', 2, 0, 0)->('track_face', 'track_face', 2, 0, 0) = fail\n",
      "try: 11 - ('grip1', 'track_face', 2, 0, 0)->('track_face', 'track_face', 2, 0, 0)\n",
      "try transition motion\n",
      "try transition motion\n",
      "try: 12 - ('grip1', 'track_face', 2, 0, 0)->('track_face', 'track_face', 2, 0, 0)\n",
      "result: 18 - ('grip1', 'track_face', 2, 1, 0)->('grip1', 'track_face', 2, 2, 0) = fail\n",
      "try: 12 - ('grip1', 'track_face', 2, 0, 0)->('track_face', 'track_face', 2, 0, 0)\n",
      "result: 17 - ('grip1', 'track_face', 2, 1, 0)->('grip1', 'track_face', 2, 2, 0) = fail\n",
      "try: 14 - ('grip1', 'track_face', 2, 0, 0)->('track_face', 'track_face', 2, 0, 0)\n",
      "result: 11 - ('grip1', 'track_face', 2, 0, 0)->('track_face', 'track_face', 2, 0, 0) = fail\n",
      "try: 16 - ('grip1', 'track_face', 2, 0, 0)->('track_face', 'track_face', 2, 0, 0)\n",
      "try: 14 - ('grip1', 'track_face', 2, 0, 0)->('track_face', 'track_face', 2, 0, 0)\n",
      "result: 14 - ('grip1', 'track_face', 2, 0, 0)->('track_face', 'track_face', 2, 0, 0) = fail\n",
      "result: 12 - ('grip1', 'track_face', 2, 0, 0)->('track_face', 'track_face', 2, 0, 0) = fail\n",
      "try: 12 - ('grip1', 'track_face', 2, 0, 0)->('track_face', 'track_face', 2, 0, 0)\n",
      "result: 14 - ('grip1', 'track_face', 2, 0, 0)->('track_face', 'track_face', 2, 0, 0) = fail\n",
      "result: 16 - ('grip1', 'track_face', 2, 0, 0)->('track_face', 'track_face', 2, 0, 0) = fail\n",
      "result: 12 - ('grip1', 'track_face', 2, 0, 0)->('track_face', 'track_face', 2, 0, 0) = fail\n",
      "result: 14 - ('grip1', 'track_face', 2, 0, 0)->('track_face', 'track_face', 2, 0, 0) = fail\n",
      "try: 16 - ('grip1', 'track_face', 2, 0, 0)->('track_face', 'track_face', 2, 0, 0)\n",
      "try: 12 - ('grip1', 'track_face', 2, 0, 0)->('track_face', 'track_face', 2, 0, 0)\n",
      "try: 11 - ('grip1', 'track_face', 2, 0, 0)->('track_face', 'track_face', 2, 0, 0)\n",
      "try: 16 - ('grip1', 'track_face', 2, 0, 0)->('track_face', 'track_face', 2, 0, 0)\n",
      "try: 11 - ('grip1', 'track_face', 2, 0, 0)->('track_face', 'track_face', 2, 0, 0)\n",
      "result: 12 - ('grip1', 'track_face', 2, 0, 0)->('track_face', 'track_face', 2, 0, 0) = fail\n",
      "result: 16 - ('grip1', 'track_face', 2, 0, 0)->('track_face', 'track_face', 2, 0, 0) = fail\n",
      "result: 12 - ('grip1', 'track_face', 2, 0, 0)->('track_face', 'track_face', 2, 0, 0) = fail\n",
      "try: 11 - ('grip1', 'track_face', 2, 0, 0)->('track_face', 'track_face', 2, 0, 0)\n",
      "try: 11 - ('grip1', 'track_face', 2, 0, 0)->('track_face', 'track_face', 2, 0, 0)\n",
      "try: 12 - ('grip1', 'track_face', 2, 0, 0)->('track_face', 'track_face', 2, 0, 0)\n",
      "result: 16 - ('grip1', 'track_face', 2, 0, 0)->('track_face', 'track_face', 2, 0, 0) = fail\n",
      "try: 14 - ('grip1', 'track_face', 2, 0, 0)->('track_face', 'track_face', 2, 0, 0)\n",
      "result: 12 - ('grip1', 'track_face', 2, 0, 0)->('track_face', 'track_face', 2, 0, 0) = fail\n",
      "result: 11 - ('grip1', 'track_face', 2, 0, 0)->('track_face', 'track_face', 2, 0, 0) = fail\n",
      "try: 16 - ('grip1', 'track_face', 2, 0, 0)->('track_face', 'track_face', 2, 0, 0)\n",
      "try: 16 - ('grip1', 'track_face', 2, 0, 0)->('track_face', 'track_face', 2, 0, 0)\n",
      "transition motion tried: True\n",
      "result: 11 - ('grip1', 'track_face', 2, 0, 0)->('track_face', 'track_face', 2, 0, 0) = fail\n",
      "try: 12 - ('grip1', 'track_face', 2, 0, 0)->('track_face', 'track_face', 2, 0, 0)\n",
      "result: 11 - ('grip1', 'track_face', 2, 0, 0)->('track_face', 'track_face', 2, 0, 0) = fail\n",
      "try: 14 - ('grip1', 'track_face', 2, 0, 0)->('track_face', 'track_face', 2, 0, 0)\n",
      "try: 16 - ('grip1', 'track_face', 2, 0, 0)->('track_face', 'track_face', 2, 0, 0)\n",
      "try: 14 - ('grip1', 'track_face', 2, 0, 0)->('track_face', 'track_face', 2, 0, 0)\n",
      "result: 16 - ('grip1', 'track_face', 2, 0, 0)->('track_face', 'track_face', 2, 0, 0) = fail\n",
      "result: 14 - ('grip1', 'track_face', 2, 0, 0)->('track_face', 'track_face', 2, 0, 0) = fail\n",
      "result: 16 - ('grip1', 'track_face', 2, 0, 0)->('grip1', 'track_face', 2, 1, 0) = success\n",
      "result: 16 - ('grip1', 'track_face', 2, 0, 0)->('track_face', 'track_face', 2, 0, 0) = fail\n",
      "try: 14 - ('grip1', 'track_face', 2, 0, 0)->('track_face', 'track_face', 2, 0, 0)\n",
      "try: 11 - ('grip1', 'track_face', 2, 0, 0)->('track_face', 'track_face', 2, 0, 0)\n",
      "try: 19 - ('grip1', 'track_face', 2, 1, 0)->('grip1', 'track_face', 2, 2, 0)\n",
      "try: 11 - ('grip1', 'track_face', 2, 0, 0)->('track_face', 'track_face', 2, 0, 0)\n",
      "joint motion tried: True\n",
      "result: 11 - ('grip1', 'track_face', 2, 0, 0)->('track_face', 'track_face', 2, 0, 0) = fail\n",
      "result: 16 - ('grip1', 'track_face', 2, 0, 0)->('track_face', 'track_face', 2, 0, 0) = fail\n",
      "result: 14 - ('grip1', 'track_face', 2, 0, 0)->('track_face', 'track_face', 2, 0, 0) = fail\n",
      "result: 12 - ('grip1', 'track_face', 2, 0, 0)->('track_face', 'track_face', 2, 0, 0) = fail\n",
      "try transition motion\n",
      "try: 20 - ('track_face', 'track_face', 0, 0, 0)->('grip1', 'track_face', 0, 0, 0)\n",
      "branching: 16->19 (1.59/200.0 s, steps/err: 28(234.335899353 ms)/0.00131958025103)\n",
      "result: 11 - ('grip1', 'track_face', 2, 0, 0)->('track_face', 'track_face', 2, 0, 0) = fail\n",
      "result: 15 - ('track_face', 'track_face', 0, 0, 0)->('track_face', 'track_face', 0, 0, 0) = success\n",
      "try: 20 - ('track_face', 'track_face', 0, 0, 0)->('track_face', 'track_face', 1, 0, 0)\n",
      "======================================================================================================================================================\n",
      "try: 20 - ('track_face', 'track_face', 0, 0, 0)->('track_face', 'grip1', 0, 0, 0)\n",
      "try transition motion\n",
      "result: 11 - ('grip1', 'track_face', 2, 0, 0)->('track_face', 'track_face', 2, 0, 0) = fail\n",
      "try: 20 - ('track_face', 'track_face', 0, 0, 0)->('track_face', 'grip1', 0, 0, 0)\n",
      "result: 19 - ('grip1', 'track_face', 2, 1, 0)->('grip1', 'track_face', 2, 2, 0) = fail\n",
      "branching: 15->20 (1.66/200.0 s, steps/err: 50(431.736946106 ms)/5.97717023887e-16)\n",
      "try: 13 - ('track_face', 'track_face', 0, 0, 0)->('track_face', 'grip1', 0, 0, 0)\n",
      "result: 20 - ('track_face', 'track_face', 0, 0, 0)->('grip1', 'track_face', 0, 0, 0) = fail\n",
      "======================================================================================================================================================\n",
      "try: 20 - ('track_face', 'track_face', 0, 0, 0)->('grip1', 'track_face', 0, 0, 0)\n",
      "try transition motion\n",
      "try: 8 - ('track_face', 'track_face', 0, 0, 0)->('grip1', 'track_face', 0, 0, 0)\n",
      "result: 20 - ('track_face', 'track_face', 0, 0, 0)->('track_face', 'track_face', 1, 0, 0) = fail\n",
      "try: 8 - ('track_face', 'track_face', 0, 0, 0)->('grip1', 'track_face', 0, 0, 0)\n"
     ]
    },
    {
     "name": "stdout",
     "output_type": "stream",
     "text": [
      "result: 8 - ('track_face', 'track_face', 0, 0, 0)->('grip1', 'track_face', 0, 0, 0) = fail\n",
      "result: 20 - ('track_face', 'track_face', 0, 0, 0)->('track_face', 'grip1', 0, 0, 0) = fail\n",
      "try: 15 - ('track_face', 'track_face', 0, 0, 0)->('track_face', 'grip1', 0, 0, 0)\n",
      "try: 15 - ('track_face', 'track_face', 0, 0, 0)->('track_face', 'grip1', 0, 0, 0)\n",
      "try: 15 - ('track_face', 'track_face', 0, 0, 0)->('track_face', 'grip1', 0, 0, 0)\n",
      "try transition motion\n",
      "try: 20 - ('track_face', 'track_face', 0, 0, 0)->('grip1', 'track_face', 0, 0, 0)\n",
      "try transition motion\n",
      "try: 5 - ('track_face', 'track_face', 0, 0, 0)->('grip1', 'track_face', 0, 0, 0)\n",
      "result: 20 - ('track_face', 'track_face', 0, 0, 0)->('grip1', 'track_face', 0, 0, 0) = fail\n",
      "joint motion tried: True\n",
      "transition motion tried: True\n",
      "result: 13 - ('track_face', 'track_face', 0, 0, 0)->('track_face', 'track_face', 0, 0, 0) = success\n",
      "result: 16 - ('grip1', 'track_face', 2, 0, 0)->('track_face', 'track_face', 2, 0, 0) = success\n",
      "branching: 13->21 (1.73/200.0 s, steps/err: 57(582.535028458 ms)/1.18421756097e-15)\n",
      "result: 8 - ('track_face', 'track_face', 0, 0, 0)->('grip1', 'track_face', 0, 0, 0) = fail\n",
      "try: 21 - ('track_face', 'track_face', 0, 0, 0)->('track_face', 'track_face', 1, 0, 0)\n",
      "result: 20 - ('track_face', 'track_face', 0, 0, 0)->('grip1', 'track_face', 0, 0, 0) = fail\n",
      "result: 15 - ('track_face', 'track_face', 0, 0, 0)->('track_face', 'grip1', 0, 0, 0) = fail\n",
      "try: 22 - ('track_face', 'track_face', 2, 0, 0)->('track_face', 'track_face', 2, 0, 0)\n",
      "branching: 16->22 (1.74/200.0 s, steps/err: 57(360.762119293 ms)/0.00195251044023)\n",
      "try transition motion\n",
      "======================================================================================================================================================\n",
      "======================================================================================================================================================\n",
      "try: 22 - ('track_face', 'track_face', 2, 0, 0)->('grip1', 'track_face', 2, 0, 0)\n",
      "try: 22 - ('track_face', 'track_face', 2, 0, 0)->('track_face', 'grip1', 2, 0, 0)\n",
      "try joint motion\n",
      "try: 22 - ('track_face', 'track_face', 2, 0, 0)->('track_face', 'grip1', 2, 0, 0)\n",
      "try: 22 - ('track_face', 'track_face', 2, 0, 0)->('track_face', 'track_face', 2, 1, 0)\n",
      "result: 5 - ('track_face', 'track_face', 0, 0, 0)->('grip1', 'track_face', 0, 0, 0) = fail\n",
      "try: 22 - ('track_face', 'track_face', 2, 0, 0)->('track_face', 'grip1', 2, 0, 0)\n",
      "try transition motion\n",
      "result: 22 - ('track_face', 'track_face', 2, 0, 0)->('track_face', 'grip1', 2, 0, 0) = fail\n",
      "result: 22 - ('track_face', 'track_face', 2, 0, 0)->('track_face', 'grip1', 2, 0, 0) = fail\n",
      "try: 22 - ('track_face', 'track_face', 2, 0, 0)->('grip1', 'track_face', 2, 0, 0)\n",
      "try: 22 - ('track_face', 'track_face', 2, 0, 0)->('grip1', 'track_face', 2, 0, 0)\n",
      "result: 22 - ('track_face', 'track_face', 2, 0, 0)->('grip1', 'track_face', 2, 0, 0) = fail\n",
      "result: 22 - ('track_face', 'track_face', 2, 0, 0)->('grip1', 'track_face', 2, 0, 0) = fail\n",
      "result: 22 - ('track_face', 'track_face', 2, 0, 0)->('track_face', 'grip1', 2, 0, 0) = fail\n",
      "try: 22 - ('track_face', 'track_face', 2, 0, 0)->('track_face', 'grip1', 2, 0, 0)\n",
      "result: 22 - ('track_face', 'track_face', 2, 0, 0)->('track_face', 'track_face', 2, 1, 0) = fail\n",
      "try: 22 - ('track_face', 'track_face', 2, 0, 0)->('track_face', 'grip1', 2, 0, 0)\n",
      "result: 22 - ('track_face', 'track_face', 2, 0, 0)->('grip1', 'track_face', 2, 0, 0) = fail\n",
      "try: 22 - ('track_face', 'track_face', 2, 0, 0)->('track_face', 'grip1', 2, 0, 0)\n",
      "try: 22 - ('track_face', 'track_face', 2, 0, 0)->('grip1', 'track_face', 2, 0, 0)\n",
      "try transition motion\n",
      "try: 22 - ('track_face', 'track_face', 2, 0, 0)->('grip1', 'track_face', 2, 0, 0)\n",
      "transition motion tried: True\n",
      "result: 22 - ('track_face', 'track_face', 2, 0, 0)->('grip1', 'track_face', 2, 0, 0) = fail\n",
      "result: 22 - ('track_face', 'track_face', 2, 0, 0)->('track_face', 'grip1', 2, 0, 0) = fail\n",
      "try transition motion\n",
      "try: 22 - ('track_face', 'track_face', 2, 0, 0)->('grip1', 'track_face', 2, 0, 0)\n",
      "try: 22 - ('track_face', 'track_face', 2, 0, 0)->('track_face', 'grip1', 2, 0, 0)\n",
      "result: 22 - ('track_face', 'track_face', 2, 0, 0)->('track_face', 'grip1', 2, 0, 0) = fail\n",
      "result: 14 - ('grip1', 'track_face', 2, 0, 0)->('track_face', 'track_face', 2, 0, 0) = success\n",
      "branching: 14->23 (1.88/200.0 s, steps/err: 36(284.319877625 ms)/0.00208354688416)\n",
      "transition motion tried: True\n",
      "result: 22 - ('track_face', 'track_face', 2, 0, 0)->('grip1', 'track_face', 2, 0, 0) = fail\n",
      "try: 23 - ('track_face', 'track_face', 2, 0, 0)->('track_face', 'track_face', 2, 0, 0)\n",
      "result: 11 - ('grip1', 'track_face', 2, 0, 0)->('track_face', 'track_face', 2, 0, 0) = success\n",
      "======================================================================================================================================================\n",
      "try joint motion\n",
      "try: 23 - ('track_face', 'track_face', 2, 0, 0)->('track_face', 'track_face', 2, 1, 0)\n",
      "try: 24 - ('track_face', 'track_face', 2, 0, 0)->('track_face', 'track_face', 2, 0, 0)\n",
      "branching: 11->24 (1.89/200.0 s, steps/err: 54(497.249126434 ms)/0.00144612578306)\n",
      "result: 22 - ('track_face', 'track_face', 2, 0, 0)->('track_face', 'grip1', 2, 0, 0) = fail\n",
      "transition motion tried: True\n",
      "======================================================================================================================================================\n",
      "try: 24 - ('track_face', 'track_face', 2, 0, 0)->('track_face', 'track_face', 2, 1, 0)\n",
      "try joint motion\n",
      "try: 24 - ('track_face', 'track_face', 2, 0, 0)->('track_face', 'grip1', 2, 0, 0)\n",
      "result: 23 - ('track_face', 'track_face', 2, 0, 0)->('track_face', 'track_face', 2, 1, 0) = fail\n",
      "result: 15 - ('track_face', 'track_face', 0, 0, 0)->('track_face', 'grip1', 0, 0, 0) = success\n",
      "branching: 15->25 (1.94/200.0 s, steps/err: 46(217.295885086 ms)/0.0016729039774)\n",
      "result: 24 - ('track_face', 'track_face', 2, 0, 0)->('track_face', 'track_face', 2, 1, 0) = fail\n",
      "result: 24 - ('track_face', 'track_face', 2, 0, 0)->('track_face', 'grip1', 2, 0, 0) = fail\n",
      "try: 25 - ('track_face', 'grip1', 0, 0, 0)->('track_face', 'grip1', 1, 0, 0)\n",
      "try: 25 - ('track_face', 'grip1', 0, 0, 0)->('track_face', 'grip1', 0, 0, 0)\n",
      "transition motion tried: True\n",
      "======================================================================================================================================================\n",
      "result: 14 - ('grip1', 'track_face', 2, 0, 0)->('track_face', 'track_face', 2, 0, 0) = success\n",
      "try: 26 - ('track_face', 'track_face', 2, 0, 0)->('track_face', 'track_face', 2, 0, 0)\n",
      "try joint motion\n",
      "transition motion tried: True\n",
      "branching: 14->26 (1.99/200.0 s, steps/err: 58(403.052091599 ms)/0.00113409429291)\n",
      "======================================================================================================================================================\n",
      "try: 26 - ('track_face', 'track_face', 2, 0, 0)->('track_face', 'track_face', 2, 1, 0)\n",
      "try joint motion\n",
      "result: 25 - ('track_face', 'grip1', 0, 0, 0)->('track_face', 'grip1', 1, 0, 0) = fail\n",
      "try: 22 - ('track_face', 'track_face', 2, 0, 0)->('grip1', 'track_face', 2, 0, 0)\n",
      "result: 15 - ('track_face', 'track_face', 0, 0, 0)->('track_face', 'grip1', 0, 0, 0) = success\n",
      "try: 27 - ('track_face', 'grip1', 0, 0, 0)->('track_face', 'grip1', 0, 0, 0)\n",
      "branching: 15->27 (2.04/200.0 s, steps/err: 92(305.634021759 ms)/0.00114883833713)\n",
      "result: 22 - ('track_face', 'track_face', 2, 0, 0)->('grip1', 'track_face', 2, 0, 0) = fail\n",
      "try joint motion\n",
      "result: 26 - ('track_face', 'track_face', 2, 0, 0)->('track_face', 'track_face', 2, 1, 0) = fail\n",
      "transition motion tried: True\n",
      "try: 27 - ('track_face', 'grip1', 0, 0, 0)->('track_face', 'grip1', 1, 0, 0)\n",
      "======================================================================================================================================================\n",
      "joint motion tried: True\n",
      "try: 22 - ('track_face', 'track_face', 2, 0, 0)->('track_face', 'grip1', 2, 0, 0)\n",
      "try: 28 - ('track_face', 'grip1', 0, 0, 0)->('track_face', 'grip1', 0, 0, 0)\n",
      "result: 27 - ('track_face', 'grip1', 0, 0, 0)->('track_face', 'grip1', 1, 0, 0) = fail\n",
      "result: 13 - ('track_face', 'track_face', 0, 0, 0)->('track_face', 'grip1', 0, 0, 0) = success\n",
      "branching: 13->28 (2.11/200.0 s, steps/err: 56(415.08603096 ms)/0.0017391558832)\n"
     ]
    },
    {
     "name": "stdout",
     "output_type": "stream",
     "text": [
      "======================================================================================================================================================\n",
      "result: 25 - ('track_face', 'grip1', 0, 0, 0)->('track_face', 'grip1', 0, 0, 0) = success\n",
      "try: 28 - ('track_face', 'grip1', 0, 0, 0)->('track_face', 'grip1', 1, 0, 0)\n",
      "try: 29 - ('track_face', 'grip1', 0, 0, 0)->('track_face', 'grip1', 1, 0, 0)\n",
      "result: 22 - ('track_face', 'track_face', 2, 0, 0)->('track_face', 'grip1', 2, 0, 0) = fail\n",
      "try: 22 - ('track_face', 'track_face', 2, 0, 0)->('grip1', 'track_face', 2, 0, 0)\n",
      "branching: 25->29 (2.13/200.0 s, steps/err: 51(131.829977036 ms)/4.4559675789e-16)\n",
      "try joint motion\n",
      "try transition motion\n",
      "======================================================================================================================================================\n",
      "joint motion tried: True\n",
      "try transition motion\n",
      "result: 22 - ('track_face', 'track_face', 2, 0, 0)->('grip1', 'track_face', 2, 0, 0) = fail\n",
      "result: 22 - ('track_face', 'track_face', 2, 0, 0)->('track_face', 'track_face', 2, 0, 0) = success\n",
      "try: 30 - ('track_face', 'track_face', 2, 0, 0)->('track_face', 'track_face', 2, 1, 0)\n",
      "branching: 22->30 (2.19/200.0 s, steps/err: 60(413.138866425 ms)/1.1624290686e-15)\n",
      "try: 23 - ('track_face', 'track_face', 2, 0, 0)->('track_face', 'grip1', 2, 0, 0)\n",
      "try transition motion\n",
      "======================================================================================================================================================\n",
      "joint motion tried: True\n",
      "try: 30 - ('track_face', 'track_face', 2, 0, 0)->('grip1', 'track_face', 2, 0, 0)\n",
      "try transition motion\n",
      "transition motion tried: True\n",
      "result: 27 - ('track_face', 'grip1', 0, 0, 0)->('track_face', 'grip1', 0, 0, 0) = success\n",
      "result: 30 - ('track_face', 'track_face', 2, 0, 0)->('grip1', 'track_face', 2, 0, 0) = fail\n",
      "branching: 27->31 (2.28/200.0 s, steps/err: 46(203.66692543 ms)/8.58302327086e-16)\n",
      "result: 22 - ('track_face', 'track_face', 2, 0, 0)->('grip1', 'track_face', 2, 0, 0) = success\n",
      "======================================================================================================================================================\n",
      "try: 31 - ('track_face', 'grip1', 0, 0, 0)->('track_face', 'grip1', 1, 0, 0)\n",
      "branching: 22->32 (2.3/200.0 s, steps/err: 55(453.796863556 ms)/0.00173817941017)\n",
      "joint motion tried: True\n",
      "joint motion tried: True\n",
      "try: 32 - ('grip1', 'track_face', 2, 0, 0)->('grip1', 'track_face', 2, 0, 0)\n",
      "try transition motion\n",
      "======================================================================================================================================================\n",
      "try joint motion\n",
      "result: 28 - ('track_face', 'grip1', 0, 0, 0)->('track_face', 'grip1', 0, 0, 0) = success\n",
      "result: 23 - ('track_face', 'track_face', 2, 0, 0)->('track_face', 'track_face', 2, 0, 0) = success\n",
      "try: 32 - ('grip1', 'track_face', 2, 0, 0)->('grip1', 'track_face', 2, 1, 0)\n",
      "branching: 28->34 (2.34/200.0 s, steps/err: 52(200.469017029 ms)/5.72264230071e-16)\n",
      "result: 32 - ('grip1', 'track_face', 2, 0, 0)->('grip1', 'track_face', 2, 1, 0) = fail\n",
      "joint motion tried: True\n",
      "branching: 23->33 (2.35/200.0 s, steps/err: 49(439.758062363 ms)/7.79806543197e-16)\n",
      "======================================================================================================================================================\n",
      "try: 33 - ('track_face', 'track_face', 2, 0, 0)->('track_face', 'track_face', 2, 1, 0)\n",
      "result: 26 - ('track_face', 'track_face', 2, 0, 0)->('track_face', 'track_face', 2, 0, 0) = success\n",
      "======================================================================================================================================================\n",
      "try: 35 - ('track_face', 'track_face', 2, 0, 0)->('track_face', 'track_face', 2, 1, 0)\n",
      "branching: 26->35 (2.39/200.0 s, steps/err: 59(372.34210968 ms)/1.16689098267e-15)\n",
      "======================================================================================================================================================\n",
      "try: 34 - ('track_face', 'grip1', 0, 0, 0)->('track_face', 'grip1', 1, 0, 0)\n",
      "result: 33 - ('track_face', 'track_face', 2, 0, 0)->('track_face', 'track_face', 2, 1, 0) = fail\n",
      "joint motion tried: True\n",
      "try transition motion\n",
      "try: 22 - ('track_face', 'track_face', 2, 0, 0)->('track_face', 'grip1', 2, 0, 0)\n",
      "result: 35 - ('track_face', 'track_face', 2, 0, 0)->('track_face', 'track_face', 2, 1, 0) = fail\n",
      "transition motion tried: True\n",
      "result: 22 - ('track_face', 'track_face', 2, 0, 0)->('track_face', 'grip1', 2, 0, 0) = fail\n",
      "result: 22 - ('track_face', 'track_face', 2, 0, 0)->('track_face', 'grip1', 2, 0, 0) = success\n",
      "try: 33 - ('track_face', 'track_face', 2, 0, 0)->('grip1', 'track_face', 2, 0, 0)\n",
      "try: 36 - ('grip1', 'track_face', 2, 0, 0)->('grip1', 'track_face', 2, 1, 0)\n",
      "result: 32 - ('grip1', 'track_face', 2, 0, 0)->('grip1', 'track_face', 2, 0, 0) = success\n",
      "try: 37 - ('track_face', 'grip1', 2, 0, 0)->('track_face', 'grip1', 2, 0, 0)\n",
      "try transition motion\n",
      "try transition motion\n",
      "branching: 32->36 (2.49/200.0 s, steps/err: 47(128.908157349 ms)/7.50975705473e-16)\n",
      "branching: 22->37 (2.49/200.0 s, steps/err: 104(663.00702095 ms)/0.00121747406241)\n",
      "======================================================================================================================================================\n",
      "try joint motion\n",
      "======================================================================================================================================================\n",
      "try: 37 - ('track_face', 'grip1', 2, 0, 0)->('track_face', 'grip1', 2, 1, 0)\n",
      "try: 24 - ('track_face', 'track_face', 2, 0, 0)->('grip1', 'track_face', 2, 0, 0)\n",
      "transition motion tried: True\n",
      "result: 23 - ('track_face', 'track_face', 2, 0, 0)->('track_face', 'grip1', 2, 0, 0) = success\n",
      "try transition motion\n",
      "transition motion tried: True\n",
      "result: 24 - ('track_face', 'track_face', 2, 0, 0)->('grip1', 'track_face', 2, 0, 0) = fail\n",
      "try: 38 - ('track_face', 'grip1', 2, 0, 0)->('track_face', 'grip1', 2, 0, 0)\n",
      "result: 34 - ('track_face', 'grip1', 0, 0, 0)->('track_face', 'grip1', 1, 0, 0) = success\n",
      "joint motion tried: True\n",
      "branching: 23->38 (2.6/200.0 s, steps/err: 49(366.4021492 ms)/0.00119398422085)\n",
      "try joint motion\n",
      "======================================================================================================================================================\n",
      "branching: 34->39 (2.62/200.0 s, steps/err: 30(184.903144836 ms)/0.00164136658195)\n",
      "result: 37 - ('track_face', 'grip1', 2, 0, 0)->('track_face', 'grip1', 2, 0, 0) = success\n",
      "try: 38 - ('track_face', 'grip1', 2, 0, 0)->('track_face', 'grip1', 2, 1, 0)\n",
      "======================================================================================================================================================\n",
      "branching: 37->40 (2.64/200.0 s, steps/err: 44(114.944934845 ms)/5.41349621297e-16)\n",
      "try: 39 - ('track_face', 'grip1', 1, 0, 0)->('track_face', 'grip1', 2, 0, 0)\n",
      "======================================================================================================================================================\n",
      "result: 38 - ('track_face', 'grip1', 2, 0, 0)->('track_face', 'grip1', 2, 1, 0) = fail\n",
      "try: 40 - ('track_face', 'grip1', 2, 0, 0)->('track_face', 'grip1', 2, 1, 0)\n",
      "try: 30 - ('track_face', 'track_face', 2, 0, 0)->('track_face', 'grip1', 2, 0, 0)\n",
      "try transition motion\n",
      "try constrained motion\n",
      "transition motion tried: True\n",
      "try transition motion\n",
      "constrained motion tried: True\n",
      "result: 37 - ('track_face', 'grip1', 2, 0, 0)->('track_face', 'grip1', 2, 1, 0) = success\n",
      "joint motion tried: True\n",
      "branching: 37->41 (2.79/200.0 s, steps/err: 45(220.301151276 ms)/0.00159151224882)\n",
      "result: 38 - ('track_face', 'grip1', 2, 0, 0)->('track_face', 'grip1', 2, 0, 0) = success\n",
      "result: 39 - ('track_face', 'grip1', 1, 0, 0)->('track_face', 'grip1', 2, 0, 0) = success\n",
      "======================================================================================================================================================\n",
      "branching: 39->42 (2.83/200.0 s, steps/err: 32(99.1499423981 ms)/0.00174689549607)\n",
      "try: 41 - ('track_face', 'grip1', 2, 1, 0)->('track_face', 'grip1', 2, 2, 0)\n",
      "branching: 38->43 (2.83/200.0 s, steps/err: 53(200.915813446 ms)/7.17410463015e-16)\n"
     ]
    },
    {
     "name": "stdout",
     "output_type": "stream",
     "text": [
      "======================================================================================================================================================\n",
      "======================================================================================================================================================\n",
      "try: 42 - ('track_face', 'grip1', 2, 0, 0)->('track_face', 'grip1', 2, 0, 0)\n",
      "try: 42 - ('track_face', 'grip1', 2, 0, 0)->('track_face', 'grip1', 2, 1, 0)\n",
      "try joint motion\n",
      "result: 41 - ('track_face', 'grip1', 2, 1, 0)->('track_face', 'grip1', 2, 2, 0) = fail\n",
      "try: 43 - ('track_face', 'grip1', 2, 0, 0)->('track_face', 'grip1', 2, 1, 0)\n",
      "result: 43 - ('track_face', 'grip1', 2, 0, 0)->('track_face', 'grip1', 2, 1, 0) = fail\n",
      "try transition motion\n",
      "try: 23 - ('track_face', 'track_face', 2, 0, 0)->('grip1', 'track_face', 2, 0, 0)\n",
      "joint motion tried: True\n",
      "joint motion tried: True\n",
      "try transition motion\n",
      "result: 24 - ('track_face', 'track_face', 2, 0, 0)->('track_face', 'track_face', 2, 0, 0) = success\n",
      "branching: 24->44 (3.03/200.0 s, steps/err: 84(1102.42486 ms)/5.93563538997e-16)\n",
      "result: 42 - ('track_face', 'grip1', 2, 0, 0)->('track_face', 'grip1', 2, 0, 0) = success\n",
      "transition motion tried: True\n",
      "transition motion tried: True\n",
      "======================================================================================================================================================\n",
      "branching: 42->45 (3.05/200.0 s, steps/err: 20(134.17506218 ms)/9.23377166232e-16)\n",
      "try: 44 - ('track_face', 'track_face', 2, 0, 0)->('track_face', 'track_face', 2, 1, 0)\n",
      "result: 42 - ('track_face', 'grip1', 2, 0, 0)->('track_face', 'grip1', 2, 1, 0) = success\n",
      "result: 33 - ('track_face', 'track_face', 2, 0, 0)->('grip1', 'track_face', 2, 0, 0) = success\n",
      "branching: 42->47 (3.09/200.0 s, steps/err: 13(172.389030457 ms)/0.00182885288015)\n",
      "======================================================================================================================================================\n",
      "======================================================================================================================================================\n",
      "branching: 33->46 (3.09/200.0 s, steps/err: 50(590.608119965 ms)/0.00103057795147)\n",
      "try: 45 - ('track_face', 'grip1', 2, 0, 0)->('track_face', 'grip1', 2, 1, 0)\n",
      "transition motion tried: True\n",
      "try: 46 - ('grip1', 'track_face', 2, 0, 0)->('grip1', 'track_face', 2, 0, 0)\n",
      "======================================================================================================================================================\n",
      "result: 40 - ('track_face', 'grip1', 2, 0, 0)->('track_face', 'grip1', 2, 1, 0) = success\n",
      "try transition motion\n",
      "branching: 40->48 (3.14/200.0 s, steps/err: 52(417.18506813 ms)/0.00168158790629)\n",
      "try: 46 - ('grip1', 'track_face', 2, 0, 0)->('grip1', 'track_face', 2, 1, 0)\n",
      "try joint motion\n",
      "======================================================================================================================================================\n",
      "result: 44 - ('track_face', 'track_face', 2, 0, 0)->('track_face', 'track_face', 2, 1, 0) = fail\n",
      "transition motion tried: True\n",
      "result: 46 - ('grip1', 'track_face', 2, 0, 0)->('grip1', 'track_face', 2, 1, 0) = fail\n",
      "try: 48 - ('track_face', 'grip1', 2, 1, 0)->('track_face', 'grip1', 2, 2, 0)\n",
      "try: 47 - ('track_face', 'grip1', 2, 1, 0)->('track_face', 'grip1', 2, 2, 0)\n",
      "try: 49 - ('grip1', 'track_face', 2, 0, 0)->('grip1', 'track_face', 2, 0, 0)\n",
      "result: 23 - ('track_face', 'track_face', 2, 0, 0)->('grip1', 'track_face', 2, 0, 0) = success\n",
      "branching: 23->49 (3.2/200.0 s, steps/err: 6(195.957183838 ms)/0.0015898907276)\n",
      "try joint motion\n",
      "try constrained motion\n",
      "try constrained motion\n",
      "======================================================================================================================================================\n",
      "try: 49 - ('grip1', 'track_face', 2, 0, 0)->('grip1', 'track_face', 2, 1, 0)\n",
      "joint motion tried: True\n",
      "transition motion tried: True\n",
      "joint motion tried: True\n",
      "result: 49 - ('grip1', 'track_face', 2, 0, 0)->('grip1', 'track_face', 2, 1, 0) = fail\n",
      "result: 49 - ('grip1', 'track_face', 2, 0, 0)->('grip1', 'track_face', 2, 0, 0) = success\n",
      "try: 50 - ('grip1', 'track_face', 2, 0, 0)->('grip1', 'track_face', 2, 1, 0)\n",
      "result: 46 - ('grip1', 'track_face', 2, 0, 0)->('grip1', 'track_face', 2, 0, 0) = success\n",
      "result: 30 - ('track_face', 'track_face', 2, 0, 0)->('track_face', 'grip1', 2, 0, 0) = success\n",
      "branching: 46->50 (3.34/200.0 s, steps/err: 40(176.041126251 ms)/8.13265721972e-16)\n",
      "branching: 49->52 (3.35/200.0 s, steps/err: 33(123.840093613 ms)/7.11211873735e-16)\n",
      "try transition motion\n",
      "branching: 30->51 (3.35/200.0 s, steps/err: 43(586.318969727 ms)/0.000960229370721)\n",
      "constrained motion tried: True\n",
      "======================================================================================================================================================\n",
      "======================================================================================================================================================\n",
      "result: 47 - ('track_face', 'grip1', 2, 1, 0)->('track_face', 'grip1', 2, 2, 0) = success\n",
      "======================================================================================================================================================\n",
      "try: 51 - ('track_face', 'grip1', 2, 0, 0)->('track_face', 'grip1', 2, 1, 0)\n",
      "try: 51 - ('track_face', 'grip1', 2, 0, 0)->('track_face', 'grip1', 2, 0, 0)\n",
      "try: 52 - ('grip1', 'track_face', 2, 0, 0)->('grip1', 'track_face', 2, 1, 0)\n",
      "branching: 47->53 (3.4/200.0 s, steps/err: 33(181.663036346 ms)/0.00203068779311)\n",
      "try joint motion\n",
      "result: 51 - ('track_face', 'grip1', 2, 0, 0)->('track_face', 'grip1', 2, 1, 0) = fail\n",
      "constrained motion tried: True\n",
      "======================================================================================================================================================\n",
      "try transition motion\n",
      "try: 53 - ('track_face', 'grip1', 2, 2, 0)->('track_face', 'grip1', 2, 2, 0)\n",
      "try: 53 - ('track_face', 'grip1', 2, 2, 0)->('track_face', 'grip1', 2, 2, 1)\n",
      "result: 48 - ('track_face', 'grip1', 2, 1, 0)->('track_face', 'grip1', 2, 2, 0) = success\n",
      "try joint motion\n",
      "try transition motion\n",
      "branching: 48->54 (3.47/200.0 s, steps/err: 34(271.118164062 ms)/0.00129724379028)\n",
      "======================================================================================================================================================\n",
      "transition motion tried: True\n",
      "try: 54 - ('track_face', 'grip1', 2, 2, 0)->('track_face', 'grip1', 2, 2, 0)\n",
      "result: 50 - ('grip1', 'track_face', 2, 0, 0)->('grip1', 'track_face', 2, 1, 0) = success\n",
      "branching: 50->55 (3.54/200.0 s, steps/err: 28(190.884828568 ms)/0.00150504743428)\n",
      "joint motion tried: True\n",
      "try joint motion\n",
      "======================================================================================================================================================\n",
      "result: 51 - ('track_face', 'grip1', 2, 0, 0)->('track_face', 'grip1', 2, 0, 0) = success\n",
      "joint motion tried: True\n",
      "try: 54 - ('track_face', 'grip1', 2, 2, 0)->('track_face', 'grip1', 2, 2, 1)\n",
      "transition motion tried: True\n",
      "branching: 51->56 (3.58/200.0 s, steps/err: 43(148.130893707 ms)/1.17052980984e-15)\n",
      "result: 53 - ('track_face', 'grip1', 2, 2, 0)->('track_face', 'grip1', 2, 2, 0) = success\n",
      "try transition motion\n",
      "======================================================================================================================================================\n",
      "result: 52 - ('grip1', 'track_face', 2, 0, 0)->('grip1', 'track_face', 2, 1, 0) = success\n",
      "try: 55 - ('grip1', 'track_face', 2, 1, 0)->('grip1', 'track_face', 2, 2, 0)\n",
      "branching: 53->57 (3.62/200.0 s, steps/err: 22(120.728969574 ms)/5.92700007415e-16)\n",
      "branching: 52->58 (3.65/200.0 s, steps/err: 28(209.659099579 ms)/0.00146175950004)\n",
      "======================================================================================================================================================\n",
      "======================================================================================================================================================\n",
      "joint motion tried: True\n",
      "try: 57 - ('track_face', 'grip1', 2, 2, 0)->('track_face', 'grip1', 2, 2, 1)\n",
      "transition motion tried: True\n"
     ]
    },
    {
     "name": "stdout",
     "output_type": "stream",
     "text": [
      "result: 54 - ('track_face', 'grip1', 2, 2, 0)->('track_face', 'grip1', 2, 2, 0) = success\n",
      "try: 56 - ('track_face', 'grip1', 2, 0, 0)->('track_face', 'grip1', 2, 1, 0)\n",
      "result: 55 - ('grip1', 'track_face', 2, 1, 0)->('grip1', 'track_face', 2, 2, 0) = fail\n",
      "transition motion tried: True\n",
      "result: 54 - ('track_face', 'grip1', 2, 2, 0)->('track_face', 'grip1', 2, 2, 1) = success\n",
      "result: 53 - ('track_face', 'grip1', 2, 2, 0)->('track_face', 'grip1', 2, 2, 1) = success\n",
      "try transition motion\n",
      "try transition motion\n",
      "try: 58 - ('grip1', 'track_face', 2, 1, 0)->('grip1', 'track_face', 2, 2, 0)\n",
      "branching: 53->60 (3.72/200.0 s, steps/err: 25(229.115009308 ms)/0.0012219970481)\n",
      "branching: 54->61 (3.72/200.0 s, steps/err: 12(110.769033432 ms)/0.00152654962947)\n",
      "branching: 54->59 (3.71/200.0 s, steps/err: 22(125.35905838 ms)/7.77066968571e-16)\n",
      "======================================================================================================================================================\n",
      "try: 59 - ('track_face', 'grip1', 2, 2, 0)->('track_face', 'grip1', 2, 2, 1)\n",
      "======================================================================================================================================================\n",
      "try transition motion\n",
      "======================================================================================================================================================\n",
      "try: 61 - ('track_face', 'grip1', 2, 2, 1)->('track_face', 'grip1', 2, 2, 2)\n",
      "try: 60 - ('track_face', 'grip1', 2, 2, 1)->('track_face', 'grip1', 2, 2, 2)\n",
      "result: 58 - ('grip1', 'track_face', 2, 1, 0)->('grip1', 'track_face', 2, 2, 0) = fail\n",
      "try: 54 - ('track_face', 'grip1', 2, 2, 0)->('track_face', 'track_face', 2, 2, 0)\n",
      "result: 60 - ('track_face', 'grip1', 2, 2, 1)->('track_face', 'grip1', 2, 2, 2) = fail\n",
      "try constrained motion\n",
      "try: 53 - ('track_face', 'grip1', 2, 2, 0)->('track_face', 'track_face', 2, 2, 0)\n",
      "transition motion tried: True\n",
      "try transition motion\n",
      "result: 57 - ('track_face', 'grip1', 2, 2, 0)->('track_face', 'grip1', 2, 2, 1) = success\n",
      "result: 53 - ('track_face', 'grip1', 2, 2, 0)->('track_face', 'track_face', 2, 2, 0) = fail\n",
      "branching: 57->62 (3.88/200.0 s, steps/err: 26(169.714212418 ms)/0.00144940443658)\n",
      "try: 62 - ('track_face', 'grip1', 2, 2, 1)->('track_face', 'grip1', 2, 2, 2)\n",
      "======================================================================================================================================================\n",
      "constrained motion tried: True\n",
      "try: 57 - ('track_face', 'grip1', 2, 2, 0)->('track_face', 'track_face', 2, 2, 0)\n",
      "result: 61 - ('track_face', 'grip1', 2, 2, 1)->('track_face', 'grip1', 2, 2, 2) = success\n",
      "transition motion tried: True\n",
      "transition motion tried: True\n",
      "try transition motion\n",
      "branching: 61->63 (3.95/200.0 s, steps/err: 50(150.232076645 ms)/0.00229401846368)\n",
      "result: 56 - ('track_face', 'grip1', 2, 0, 0)->('track_face', 'grip1', 2, 1, 0) = success\n",
      "result: 59 - ('track_face', 'grip1', 2, 2, 0)->('track_face', 'grip1', 2, 2, 1) = success\n",
      "result: 62 - ('track_face', 'grip1', 2, 2, 1)->('track_face', 'grip1', 2, 2, 2) = fail\n",
      "branching: 59->65 (3.98/200.0 s, steps/err: 26(222.862005234 ms)/0.00129069128143)\n",
      "======================================================================================================================================================\n",
      "try: 63 - ('track_face', 'grip1', 2, 2, 2)->('track_face', 'grip1', 2, 2, 2)\n",
      "======================================================================================================================================================\n",
      "branching: 56->64 (3.98/200.0 s, steps/err: 37(260.355949402 ms)/0.00135954369257)\n",
      "try joint motion\n",
      "try: 64 - ('track_face', 'grip1', 2, 1, 0)->('track_face', 'grip1', 2, 2, 0)\n",
      "try: 65 - ('track_face', 'grip1', 2, 2, 1)->('track_face', 'grip1', 2, 2, 2)\n",
      "======================================================================================================================================================\n",
      "try: 63 - ('track_face', 'grip1', 2, 2, 2)->('track_face', 'track_face', 2, 2, 2)\n",
      "result: 63 - ('track_face', 'grip1', 2, 2, 2)->('track_face', 'track_face', 2, 2, 2) = fail\n",
      "transition motion tried: True\n",
      "try constrained motion\n",
      "result: 57 - ('track_face', 'grip1', 2, 2, 0)->('track_face', 'track_face', 2, 2, 0) = success\n",
      "try constrained motion\n",
      "branching: 57->66 (4.09/200.0 s, steps/err: 52(142.559051514 ms)/0.000651471961642)\n",
      "try: 63 - ('track_face', 'grip1', 2, 2, 2)->('track_face', 'track_face', 2, 2, 2)\n",
      "======================================================================================================================================================\n",
      "try: 66 - ('track_face', 'track_face', 2, 2, 0)->('track_face', 'track_face', 2, 2, 0)\n",
      "result: 63 - ('track_face', 'grip1', 2, 2, 2)->('track_face', 'track_face', 2, 2, 2) = fail\n",
      "try joint motion\n",
      "try: 66 - ('track_face', 'track_face', 2, 2, 0)->('track_face', 'track_face', 2, 2, 1)\n",
      "transition motion tried: True\n",
      "joint motion tried: True\n",
      "result: 66 - ('track_face', 'track_face', 2, 2, 0)->('track_face', 'track_face', 2, 2, 1) = fail\n",
      "result: 63 - ('track_face', 'grip1', 2, 2, 2)->('track_face', 'grip1', 2, 2, 2) = success\n",
      "result: 54 - ('track_face', 'grip1', 2, 2, 0)->('track_face', 'track_face', 2, 2, 0) = success\n",
      "try: 67 - ('track_face', 'track_face', 2, 2, 0)->('track_face', 'track_face', 2, 2, 0)\n",
      "branching: 54->67 (4.19/200.0 s, steps/err: 74(372.036933899 ms)/0.00208642103738)\n",
      "branching: 63->68 (4.2/200.0 s, steps/err: 24(178.462982178 ms)/3.36311945099e-16)\n",
      "try joint motion\n",
      "======================================================================================================================================================\n",
      "======================================================================================================================================================\n",
      "try: 63 - ('track_face', 'grip1', 2, 2, 2)->('track_face', 'track_face', 2, 2, 2)\n",
      "try: 67 - ('track_face', 'track_face', 2, 2, 0)->('track_face', 'track_face', 2, 2, 1)\n",
      "constrained motion tried: True\n",
      "result: 64 - ('track_face', 'grip1', 2, 1, 0)->('track_face', 'grip1', 2, 2, 0) = success\n",
      "result: 63 - ('track_face', 'grip1', 2, 2, 2)->('track_face', 'track_face', 2, 2, 2) = fail\n",
      "result: 67 - ('track_face', 'track_face', 2, 2, 0)->('track_face', 'track_face', 2, 2, 1) = fail\n",
      "branching: 64->69 (4.28/200.0 s, steps/err: 29(254.691839218 ms)/0.001528128566)\n",
      "try: 69 - ('track_face', 'grip1', 2, 2, 0)->('track_face', 'grip1', 2, 2, 1)\n",
      "try: 69 - ('track_face', 'grip1', 2, 2, 0)->('track_face', 'grip1', 2, 2, 0)\n",
      "======================================================================================================================================================\n",
      "try joint motion\n",
      "try transition motion\n",
      "try: 69 - ('track_face', 'grip1', 2, 2, 0)->('track_face', 'track_face', 2, 2, 0)\n",
      "joint motion tried: True\n",
      "result: 69 - ('track_face', 'grip1', 2, 2, 0)->('track_face', 'track_face', 2, 2, 0) = fail\n",
      "result: 66 - ('track_face', 'track_face', 2, 2, 0)->('track_face', 'track_face', 2, 2, 0) = success\n",
      "transition motion tried: True\n",
      "transition motion tried: True\n",
      "try: 70 - ('track_face', 'track_face', 2, 2, 0)->('track_face', 'track_face', 2, 2, 1)\n",
      "branching: 66->70 (4.39/200.0 s, steps/err: 54(244.218111038 ms)/5.47946955266e-16)\n",
      "result: 20 - ('track_face', 'track_face', 0, 0, 0)->('track_face', 'grip1', 0, 0, 0) = success\n",
      "======================================================================================================================================================\n",
      "result: 69 - ('track_face', 'grip1', 2, 2, 0)->('track_face', 'grip1', 2, 2, 1) = success\n",
      "branching: 20->72 (4.43/200.0 s, steps/err: 65(2754.70590591 ms)/0.00135230177482)\n",
      "try transition motion\n",
      "branching: 69->71 (4.43/200.0 s, steps/err: 12(95.0300693512 ms)/0.00127123176535)\n",
      "try: 71 - ('track_face', 'grip1', 2, 2, 1)->('track_face', 'grip1', 2, 2, 2)\n",
      "======================================================================================================================================================\n",
      "======================================================================================================================================================\n",
      "try: 72 - ('track_face', 'grip1', 0, 0, 0)->('track_face', 'grip1', 0, 0, 0)\n"
     ]
    },
    {
     "name": "stdout",
     "output_type": "stream",
     "text": [
      "try: 72 - ('track_face', 'grip1', 0, 0, 0)->('track_face', 'grip1', 1, 0, 0)\n",
      "joint motion tried: True\n",
      "result: 69 - ('track_face', 'grip1', 2, 2, 0)->('track_face', 'grip1', 2, 2, 0) = success\n",
      "try constrained motion\n",
      "try joint motion\n",
      "result: 72 - ('track_face', 'grip1', 0, 0, 0)->('track_face', 'grip1', 1, 0, 0) = fail\n",
      "branching: 69->73 (4.51/200.0 s, steps/err: 22(171.740055084 ms)/5.64792886107e-16)\n",
      "try: 73 - ('track_face', 'grip1', 2, 2, 0)->('track_face', 'grip1', 2, 2, 1)\n",
      "======================================================================================================================================================\n",
      "try: 67 - ('track_face', 'track_face', 2, 2, 0)->('grip1', 'track_face', 2, 2, 0)\n",
      "try transition motion\n",
      "try transition motion\n",
      "transition motion tried: True\n",
      "result: 70 - ('track_face', 'track_face', 2, 2, 0)->('track_face', 'track_face', 2, 2, 1) = success\n",
      "joint motion tried: True\n",
      "result: 72 - ('track_face', 'grip1', 0, 0, 0)->('track_face', 'grip1', 0, 0, 0) = success\n",
      "branching: 70->74 (4.7/200.0 s, steps/err: 26(256.211996078 ms)/0.00153773301731)\n",
      "branching: 72->75 (4.72/200.0 s, steps/err: 77(216.629981995 ms)/1.05171739634e-15)\n",
      "======================================================================================================================================================\n",
      "transition motion tried: True\n",
      "try: 74 - ('track_face', 'track_face', 2, 2, 1)->('track_face', 'track_face', 2, 2, 2)\n",
      "======================================================================================================================================================\n",
      "result: 73 - ('track_face', 'grip1', 2, 2, 0)->('track_face', 'grip1', 2, 2, 1) = success\n",
      "try: 75 - ('track_face', 'grip1', 0, 0, 0)->('track_face', 'grip1', 1, 0, 0)\n",
      "branching: 73->76 (4.79/200.0 s, steps/err: 26(211.958169937 ms)/0.00151323692398)\n",
      "======================================================================================================================================================\n",
      "joint motion tried: True\n",
      "try transition motion\n",
      "result: 74 - ('track_face', 'track_face', 2, 2, 1)->('track_face', 'track_face', 2, 2, 2) = fail\n",
      "result: 67 - ('track_face', 'track_face', 2, 2, 0)->('track_face', 'track_face', 2, 2, 0) = success\n",
      "constrained motion tried: True\n",
      "try: 76 - ('track_face', 'grip1', 2, 2, 1)->('track_face', 'grip1', 2, 2, 2)\n",
      "try: 77 - ('track_face', 'track_face', 2, 2, 0)->('track_face', 'track_face', 2, 2, 1)\n",
      "branching: 67->77 (4.84/200.0 s, steps/err: 90(634.973049164 ms)/9.41808046058e-16)\n",
      "result: 71 - ('track_face', 'grip1', 2, 2, 1)->('track_face', 'grip1', 2, 2, 2) = success\n",
      "======================================================================================================================================================\n",
      "branching: 71->78 (4.87/200.0 s, steps/err: 35(403.069972992 ms)/0.00139266224962)\n",
      "======================================================================================================================================================\n",
      "result: 77 - ('track_face', 'track_face', 2, 2, 0)->('track_face', 'track_face', 2, 2, 1) = fail\n",
      "try: 78 - ('track_face', 'grip1', 2, 2, 2)->('track_face', 'grip1', 2, 2, 2)\n",
      "try: 68 - ('track_face', 'grip1', 2, 2, 2)->('track_face', 'track_face', 2, 2, 2)\n",
      "try constrained motion\n",
      "try joint motion\n",
      "try: 68 - ('track_face', 'grip1', 2, 2, 2)->('track_face', 'track_face', 2, 2, 2)\n",
      "result: 68 - ('track_face', 'grip1', 2, 2, 2)->('track_face', 'track_face', 2, 2, 2) = fail\n",
      "try transition motion\n",
      "try: 68 - ('track_face', 'grip1', 2, 2, 2)->('track_face', 'track_face', 2, 2, 2)\n",
      "constrained motion tried: True\n",
      "result: 65 - ('track_face', 'grip1', 2, 2, 1)->('track_face', 'grip1', 2, 2, 2) = success\n",
      "result: 68 - ('track_face', 'grip1', 2, 2, 2)->('track_face', 'track_face', 2, 2, 2) = fail\n",
      "branching: 65->79 (5.01/200.0 s, steps/err: 38(970.675945282 ms)/0.00175435135032)\n",
      "try: 79 - ('track_face', 'grip1', 2, 2, 2)->('track_face', 'grip1', 2, 2, 2)\n",
      "======================================================================================================================================================\n",
      "try joint motion\n",
      "try: 68 - ('track_face', 'grip1', 2, 2, 2)->('track_face', 'track_face', 2, 2, 2)\n",
      "constrained motion tried: True\n",
      "result: 76 - ('track_face', 'grip1', 2, 2, 1)->('track_face', 'grip1', 2, 2, 2) = success\n",
      "transition motion tried: False\n",
      "try transition motion\n",
      "branching: 76->80 (5.09/200.0 s, steps/err: 45(221.957921982 ms)/0.0021300417806)\n",
      "result: 0 - ('track_face', 'track_face', 0, 0, 0)->('track_face', 'track_face', 1, 0, 0) = fail\n",
      "======================================================================================================================================================\n",
      "try: 80 - ('track_face', 'grip1', 2, 2, 2)->('track_face', 'grip1', 2, 2, 2)\n",
      "try: 63 - ('track_face', 'grip1', 2, 2, 2)->('track_face', 'track_face', 2, 2, 2)\n",
      "try joint motion\n",
      "transition motion tried: True\n",
      "joint motion tried: True\n",
      "result: 63 - ('track_face', 'grip1', 2, 2, 2)->('track_face', 'track_face', 2, 2, 2) = fail\n",
      "result: 79 - ('track_face', 'grip1', 2, 2, 2)->('track_face', 'grip1', 2, 2, 2) = success\n",
      "result: 68 - ('track_face', 'grip1', 2, 2, 2)->('track_face', 'track_face', 2, 2, 2) = success\n",
      "branching: 68->82 (5.22/200.0 s, steps/err: 27(268.515825272 ms)/0.00156404754463)\n",
      "branching: 79->81 (5.22/200.0 s, steps/err: 24(172.059059143 ms)/1.27590678175e-15)\n",
      "try: 82 - ('track_face', 'track_face', 2, 2, 2)->('grip1', 'track_face', 2, 2, 2)\n",
      "joint motion tried: True\n",
      "result: 80 - ('track_face', 'grip1', 2, 2, 2)->('track_face', 'grip1', 2, 2, 2) = success\n",
      "======================================================================================================================================================\n",
      "result: 82 - ('track_face', 'track_face', 2, 2, 2)->('grip1', 'track_face', 2, 2, 2) = fail\n",
      "======================================================================================================================================================\n",
      "transition motion tried: True\n",
      "branching: 80->83 (5.26/200.0 s, steps/err: 24(108.17193985 ms)/7.63009836736e-16)\n",
      "try: 82 - ('track_face', 'track_face', 2, 2, 2)->('grip1', 'track_face', 2, 2, 2)\n",
      "++ adding return motion to acquired answer ++\n",
      "joint motion tried: True\n",
      "result: 68 - ('track_face', 'grip1', 2, 2, 2)->('track_face', 'track_face', 2, 2, 2) = success\n",
      "try: 82 - ('track_face', 'track_face', 2, 2, 2)->('grip1', 'track_face', 2, 2, 2)\n",
      "======================================================================================================================================================\n",
      "result: 78 - ('track_face', 'grip1', 2, 2, 2)->('track_face', 'grip1', 2, 2, 2) = success\n",
      "try joint motion\n",
      "try: 84 - ('track_face', 'track_face', 2, 2, 2)->('grip1', 'track_face', 2, 2, 2)\n",
      "branching: 78->85 (5.3/200.0 s, steps/err: 24(380.220890045 ms)/5.33763457323e-16)\n",
      "branching: 68->84 (5.3/200.0 s, steps/err: 69(214.39409256 ms)/0.000939988735049)\n",
      "result: 82 - ('track_face', 'track_face', 2, 2, 2)->('grip1', 'track_face', 2, 2, 2) = fail\n",
      "try transition motion\n",
      "======================================================================================================================================================\n",
      "try: 82 - ('track_face', 'track_face', 2, 2, 2)->('track_face', 'grip1', 2, 2, 2)\n",
      "try: 82 - ('track_face', 'track_face', 2, 2, 2)->('track_face', 'grip1', 2, 2, 2)\n",
      "======================================================================================================================================================\n",
      "result: 84 - ('track_face', 'track_face', 2, 2, 2)->('grip1', 'track_face', 2, 2, 2) = fail\n",
      "++ adding return motion to acquired answer ++\n",
      "result: 82 - ('track_face', 'track_face', 2, 2, 2)->('track_face', 'grip1', 2, 2, 2) = fail\n",
      "try: 84 - ('track_face', 'track_face', 2, 2, 2)->('grip1', 'track_face', 2, 2, 2)\n",
      "try joint motion\n",
      "result: 82 - ('track_face', 'track_face', 2, 2, 2)->('track_face', 'grip1', 2, 2, 2) = fail\n",
      "try: 82 - ('track_face', 'track_face', 2, 2, 2)->('track_face', 'grip1', 2, 2, 2)\n",
      "result: 84 - ('track_face', 'track_face', 2, 2, 2)->('grip1', 'track_face', 2, 2, 2) = fail\n",
      "try: 82 - ('track_face', 'track_face', 2, 2, 2)->('grip1', 'track_face', 2, 2, 2)\n",
      "result: 82 - ('track_face', 'track_face', 2, 2, 2)->('track_face', 'grip1', 2, 2, 2) = fail\n"
     ]
    },
    {
     "name": "stdout",
     "output_type": "stream",
     "text": [
      "try: 84 - ('track_face', 'track_face', 2, 2, 2)->('track_face', 'grip1', 2, 2, 2)\n",
      "try transition motion\n",
      "try: 84 - ('track_face', 'track_face', 2, 2, 2)->('grip1', 'track_face', 2, 2, 2)\n",
      "result: 84 - ('track_face', 'track_face', 2, 2, 2)->('track_face', 'grip1', 2, 2, 2) = fail\n",
      "try: 82 - ('track_face', 'track_face', 2, 2, 2)->('track_face', 'grip1', 2, 2, 2)\n",
      "result: 84 - ('track_face', 'track_face', 2, 2, 2)->('grip1', 'track_face', 2, 2, 2) = fail\n",
      "try: 82 - ('track_face', 'track_face', 2, 2, 2)->('grip1', 'track_face', 2, 2, 2)\n",
      "result: 82 - ('track_face', 'track_face', 2, 2, 2)->('track_face', 'grip1', 2, 2, 2) = fail\n",
      "result: 82 - ('track_face', 'track_face', 2, 2, 2)->('grip1', 'track_face', 2, 2, 2) = fail\n",
      "try: 84 - ('track_face', 'track_face', 2, 2, 2)->('track_face', 'grip1', 2, 2, 2)\n",
      "try: 82 - ('track_face', 'track_face', 2, 2, 2)->('grip1', 'track_face', 2, 2, 2)\n",
      "result: 84 - ('track_face', 'track_face', 2, 2, 2)->('track_face', 'grip1', 2, 2, 2) = fail\n",
      "result: 82 - ('track_face', 'track_face', 2, 2, 2)->('grip1', 'track_face', 2, 2, 2) = fail\n",
      "transition motion tried: False\n",
      "try: 81 - ('track_face', 'grip1', 2, 2, 2)->('track_face', 'track_face', 2, 2, 2)\n",
      "try: 82 - ('track_face', 'track_face', 2, 2, 2)->('track_face', 'grip1', 2, 2, 2)\n",
      "result: 81 - ('track_face', 'grip1', 2, 2, 2)->('track_face', 'track_face', 2, 2, 2) = fail\n",
      "result: 1 - ('track_face', 'grip1', 0, 0, 0)->('track_face', 'grip1', 1, 0, 0) = fail\n",
      "joint motion tried: True\n",
      "transition motion tried: False\n",
      "result: 82 - ('track_face', 'track_face', 2, 2, 2)->('track_face', 'grip1', 2, 2, 2) = fail\n",
      "try: 84 - ('track_face', 'track_face', 2, 2, 2)->('grip1', 'track_face', 2, 2, 2)\n",
      "try: 86 - ('track_face', 'track_face', 2, 2, 2)->('track_face', 'grip1', 2, 2, 2)\n",
      "result: 86 - ('track_face', 'track_face', 2, 2, 2)->('track_face', 'grip1', 2, 2, 2) = fail\n",
      "try: 85 - ('track_face', 'grip1', 2, 2, 2)->('track_face', 'track_face', 2, 2, 2)\n",
      "result: 84 - ('track_face', 'track_face', 2, 2, 2)->('grip1', 'track_face', 2, 2, 2) = fail\n",
      "result: 2 - ('track_face', 'grip1', 0, 0, 0)->('track_face', 'grip1', 1, 0, 0) = fail\n",
      "transition motion tried: False\n",
      "try: 78 - ('track_face', 'grip1', 2, 2, 2)->('track_face', 'track_face', 2, 2, 2)\n",
      "try: 82 - ('track_face', 'track_face', 2, 2, 2)->('track_face', 'grip1', 2, 2, 2)\n",
      "try: 82 - ('track_face', 'track_face', 2, 2, 2)->('grip1', 'track_face', 2, 2, 2)\n",
      "result: 78 - ('track_face', 'grip1', 2, 2, 2)->('track_face', 'track_face', 2, 2, 2) = fail\n",
      "result: 85 - ('track_face', 'grip1', 2, 2, 2)->('track_face', 'track_face', 2, 2, 2) = fail\n",
      "try transition motion\n",
      "result: 82 - ('track_face', 'track_face', 2, 2, 2)->('grip1', 'track_face', 2, 2, 2) = fail\n",
      "try: 82 - ('track_face', 'track_face', 2, 2, 2)->('grip1', 'track_face', 2, 2, 2)\n",
      "try: 84 - ('track_face', 'track_face', 2, 2, 2)->('grip1', 'track_face', 2, 2, 2)\n",
      "result: 84 - ('track_face', 'track_face', 2, 2, 2)->('grip1', 'track_face', 2, 2, 2) = fail\n",
      "result: 3 - ('grip1', 'track_face', 0, 0, 0)->('grip1', 'track_face', 1, 0, 0) = fail\n",
      "try: 84 - ('track_face', 'track_face', 2, 2, 2)->('track_face', 'grip1', 2, 2, 2)\n",
      "transition motion tried: False\n",
      "result: 4 - ('grip1', 'track_face', 0, 0, 0)->('grip1', 'track_face', 1, 0, 0) = fail\n",
      "try: 79 - ('track_face', 'grip1', 2, 2, 2)->('track_face', 'track_face', 2, 2, 2)\n",
      "try: 63 - ('track_face', 'grip1', 2, 2, 2)->('track_face', 'track_face', 2, 2, 2)\n",
      "result: 84 - ('track_face', 'track_face', 2, 2, 2)->('track_face', 'grip1', 2, 2, 2) = fail\n",
      "try: 82 - ('track_face', 'track_face', 2, 2, 2)->('grip1', 'track_face', 2, 2, 2)\n",
      "result: 82 - ('track_face', 'track_face', 2, 2, 2)->('grip1', 'track_face', 2, 2, 2) = fail\n",
      "try: 82 - ('track_face', 'track_face', 2, 2, 2)->('track_face', 'grip1', 2, 2, 2)\n",
      "result: 82 - ('track_face', 'track_face', 2, 2, 2)->('grip1', 'track_face', 2, 2, 2) = fail\n",
      "try: 82 - ('track_face', 'track_face', 2, 2, 2)->('track_face', 'grip1', 2, 2, 2)\n",
      "=========================================================================================================\n",
      "result: 82 - ('track_face', 'track_face', 2, 2, 2)->('track_face', 'grip1', 2, 2, 2) = fail\n",
      "try: 84 - ('track_face', 'track_face', 2, 2, 2)->('grip1', 'track_face', 2, 2, 2)\n",
      "result: 63 - ('track_face', 'grip1', 2, 2, 2)->('track_face', 'track_face', 2, 2, 2) = fail\n",
      "=========================================================================================================\n",
      "=========================================================================================================\n",
      "result: 79 - ('track_face', 'grip1', 2, 2, 2)->('track_face', 'track_face', 2, 2, 2) = fail\n",
      "result: 82 - ('track_face', 'track_face', 2, 2, 2)->('track_face', 'grip1', 2, 2, 2) = fail\n",
      "======================= terminated 13: first answer acquired ===============================\n",
      "======================= terminated 1: first answer acquired from other agent ===============================\n",
      "=========================================================================================================\n",
      "=========================================================================================================\n",
      "======================= terminated 6: first answer acquired from other agent ===============================\n",
      "======================= terminated 18: first answer acquired from other agent ===============================\n",
      "try transition motion\n",
      "=========================================================================================================\n",
      "=========================================================================================================\n",
      "=========================================================================================================\n",
      "=========================================================================================================\n",
      "======================= terminated 5: first answer acquired from other agent ===============================\n",
      "=========================================================================================================\n",
      "transition motion tried: True\n",
      "result: 82 - ('track_face', 'track_face', 2, 2, 2)->('grip1', 'track_face', 2, 2, 2) = success\n",
      "joint motion tried: True\n",
      "branching: 82->87 (5.99/200.0 s, steps/err: 57(674.458026886 ms)/0.00210760856209)\n",
      "======================================================================================================================================================\n",
      "=========================================================================================================\n",
      "======================= terminated 11: first answer acquired from other agent ===============================\n",
      "=========================================================================================================\n",
      "transition motion tried: True\n",
      "result: 82 - ('track_face', 'track_face', 2, 2, 2)->('grip1', 'track_face', 2, 2, 2) = success\n",
      "branching: 82->89 (6.05/200.0 s, steps/err: 36(608.680963516 ms)/0.00188256560952)\n",
      "======================================================================================================================================================\n",
      "=========================================================================================================\n",
      "======================= terminated 10: first answer acquired from other agent ===============================\n",
      "=========================================================================================================\n",
      "transition motion tried: False\n",
      "result: 14 - ('grip1', 'track_face', 2, 0, 0)->('grip1', 'track_face', 2, 1, 0) = fail\n",
      "=========================================================================================================\n",
      "======================= terminated 8: first answer acquired from other agent ===============================\n",
      "=========================================================================================================\n",
      "=========================================================================================================\n",
      "======================= terminated 19: first answer acquired ===============================\n",
      "=========================================================================================================\n",
      "transition motion tried: True\n",
      "result: 82 - ('track_face', 'track_face', 2, 2, 2)->('track_face', 'grip1', 2, 2, 2) = success\n"
     ]
    },
    {
     "name": "stdout",
     "output_type": "stream",
     "text": [
      "branching: 82->90 (6.32/200.0 s, steps/err: 68(597.599983215 ms)/0.00126536121052)\n",
      "======================================================================================================================================================\n",
      "=========================================================================================================\n",
      "======================= terminated 0: first answer acquired from other agent ===============================\n",
      "=========================================================================================================\n",
      "transition motion tried: True\n",
      "result: 84 - ('track_face', 'track_face', 2, 2, 2)->('grip1', 'track_face', 2, 2, 2) = success\n",
      "branching: 84->91 (6.47/200.0 s, steps/err: 187(602.052927017 ms)/0.00167232549841)\n",
      "======================================================================================================================================================\n",
      "=========================================================================================================\n",
      "======================= terminated 4: first answer acquired from other agent ===============================\n",
      "=========================================================================================================\n",
      "transition motion tried: False\n",
      "result: 21 - ('track_face', 'track_face', 0, 0, 0)->('track_face', 'track_face', 1, 0, 0) = fail\n",
      "=========================================================================================================\n",
      "======================= terminated 3: first answer acquired from other agent ===============================\n",
      "=========================================================================================================\n",
      "transition motion tried: False\n",
      "result: 28 - ('track_face', 'grip1', 0, 0, 0)->('track_face', 'grip1', 1, 0, 0) = fail\n",
      "=========================================================================================================\n",
      "======================= terminated 16: first answer acquired from other agent ===============================\n",
      "=========================================================================================================\n",
      "transition motion tried: False\n",
      "result: 29 - ('track_face', 'grip1', 0, 0, 0)->('track_face', 'grip1', 1, 0, 0) = fail\n",
      "=========================================================================================================\n",
      "======================= terminated 2: first answer acquired from other agent ===============================\n",
      "=========================================================================================================\n",
      "transition motion tried: False\n",
      "result: 30 - ('track_face', 'track_face', 2, 0, 0)->('track_face', 'track_face', 2, 1, 0) = fail\n",
      "=========================================================================================================\n",
      "======================= terminated 7: first answer acquired from other agent ===============================\n",
      "=========================================================================================================\n",
      "transition motion tried: False\n",
      "result: 31 - ('track_face', 'grip1', 0, 0, 0)->('track_face', 'grip1', 1, 0, 0) = fail\n",
      "=========================================================================================================\n",
      "======================= terminated 15: first answer acquired from other agent ===============================\n",
      "=========================================================================================================\n",
      "transition motion tried: False\n",
      "result: 36 - ('grip1', 'track_face', 2, 0, 0)->('grip1', 'track_face', 2, 1, 0) = fail\n",
      "=========================================================================================================\n",
      "======================= terminated 12: first answer acquired from other agent ===============================\n",
      "=========================================================================================================\n",
      "transition motion tried: False\n",
      "result: 45 - ('track_face', 'grip1', 2, 0, 0)->('track_face', 'grip1', 2, 1, 0) = fail\n",
      "=========================================================================================================\n",
      "======================= terminated 9: first answer acquired from other agent ===============================\n",
      "=========================================================================================================\n",
      "transition motion tried: True\n",
      "result: 67 - ('track_face', 'track_face', 2, 2, 0)->('grip1', 'track_face', 2, 2, 0) = success\n",
      "branching: 67->92 (9.48/200.0 s, steps/err: 57(4902.62508392 ms)/0.00109233023116)\n",
      "======================================================================================================================================================\n",
      "=========================================================================================================\n",
      "======================= terminated 14: first answer acquired from other agent ===============================\n",
      "=========================================================================================================\n",
      "transition motion tried: False\n",
      "result: 75 - ('track_face', 'grip1', 0, 0, 0)->('track_face', 'grip1', 1, 0, 0) = fail\n",
      "=========================================================================================================\n",
      "======================= terminated 17: first answer acquired from other agent ===============================\n",
      "=========================================================================================================\n"
     ]
    }
   ],
   "source": [
    "from pkg.planning.motion.moveit.moveit_py import ConstrainedSpaceType\n",
    "mplan.reset_log(False)\n",
    "gtimer.reset()\n",
    "# goal_nodes = [(\"track_face\",\"grip1\")+(0,0,0)]\n",
    "goal_nodes = [(\"track_face\",\"track_face\")+tuple([2 for _ in range(TRACK_NUM)])]\n",
    "# goal_nodes = [(\"floor\",\"floor\",\"floor\", 2, 2, 2)]\n",
    "gtimer.tic(\"plan\")\n",
    "ppline.search(initial_state, goal_nodes, verbose=True, display=False, dt_vis=0.01, \n",
    "              timeout_loop=200, multiprocess=True, timeout=5,  \n",
    "              plannerconfig=PlannerConfig.RRTConnectkConfigDefault, cs_type=ConstrainedSpaceType.TANGENTBUNDLE)\n",
    "gtimer.toc(\"plan\")\n",
    "schedules = ppline.tplan.find_schedules()\n",
    "schedules_sorted = ppline.tplan.sort_schedule(schedules)\n",
    "snode_schedule = ppline.tplan.idxSchedule2SnodeScedule(schedules_sorted[0])"
   ]
  },
  {
   "cell_type": "code",
   "execution_count": 35,
   "metadata": {
    "scrolled": true
   },
   "outputs": [
    {
     "name": "stdout",
     "output_type": "stream",
     "text": [
      "plan: \t5887.0 ms/1 = 5887.239 ms (5887.239/5887.239)\n",
      "\n"
     ]
    }
   ],
   "source": [
    "print(gtimer)"
   ]
  },
  {
   "cell_type": "code",
   "execution_count": null,
   "metadata": {},
   "outputs": [],
   "source": []
  },
  {
   "cell_type": "markdown",
   "metadata": {},
   "source": [
    "### refine schedule"
   ]
  },
  {
   "cell_type": "code",
   "execution_count": 44,
   "metadata": {
    "scrolled": true
   },
   "outputs": [],
   "source": [
    "\n",
    "\n",
    "# for sweep_ in sweep_list:\n",
    "#     sweep_.fix_direction = True\n",
    "\n",
    "# gtimer.tic(\"refine_trajectory\")\n",
    "# ppline.refine_trajectory(snode_schedule, timeout=1, timeout_constrained=2, N_try=1, max_repeat=3,\n",
    "#                          plannerconfig=PlannerConfig.RRTstarkConfigDefault,  cs_type=ConstrainedSpaceType.TANGENTBUNDLE,\n",
    "#                         multiprocess=True)\n",
    "# gtimer.toc(\"refine_trajectory\")"
   ]
  },
  {
   "cell_type": "code",
   "execution_count": 45,
   "metadata": {
    "scrolled": true
   },
   "outputs": [],
   "source": [
    "# for k,v in ppline.refine_success_dict.items():\n",
    "#     print(\"{} {}: {}\".format(k, snode_schedule[k].state.node, v))"
   ]
  },
  {
   "cell_type": "code",
   "execution_count": 46,
   "metadata": {},
   "outputs": [],
   "source": [
    "# print(gtimer)"
   ]
  },
  {
   "cell_type": "code",
   "execution_count": null,
   "metadata": {},
   "outputs": [],
   "source": []
  },
  {
   "cell_type": "markdown",
   "metadata": {},
   "source": [
    "## play searched plan"
   ]
  },
  {
   "cell_type": "code",
   "execution_count": 36,
   "metadata": {},
   "outputs": [],
   "source": [
    "gscene.clear_highlight()\n",
    "ppline.play_schedule(snode_schedule[:2], period=0.001)\n",
    "pscene.set_object_state(snode_schedule[0].state)\n",
    "gscene.show_pose(crob.home_pose)\n",
    "time.sleep(0.5)\n",
    "gscene.show_pose(crob.home_pose)"
   ]
  },
  {
   "cell_type": "code",
   "execution_count": 37,
   "metadata": {
    "scrolled": false
   },
   "outputs": [],
   "source": [
    "ppline.play_schedule(snode_schedule, period=0.01)"
   ]
  },
  {
   "cell_type": "code",
   "execution_count": null,
   "metadata": {},
   "outputs": [],
   "source": []
  },
  {
   "cell_type": "markdown",
   "metadata": {},
   "source": [
    "## visualize all traj"
   ]
  },
  {
   "cell_type": "code",
   "execution_count": 38,
   "metadata": {},
   "outputs": [],
   "source": [
    "gscene.clear_highlight()\n",
    "effector = gscene.NAME_DICT[\"brush_face\"]\n",
    "for i_s, snode_to in enumerate(snode_schedule):\n",
    "    Traj = snode_to.traj\n",
    "    if Traj is None or (1 in snode_to.state.node[2:]):\n",
    "        continue\n",
    "    T_list = effector.draw_traj_coords(Traj, \"traj_{}\".format(i_s))\n",
    "#     Z_all = np.array(T_list)[:,2,3]\n",
    "#     print(\"std: {}\".format(np.std(Z_all)))\n",
    "#     print(\"minmax: {}\".format(np.max(Z_all)-np.min(Z_all)))"
   ]
  },
  {
   "cell_type": "code",
   "execution_count": 39,
   "metadata": {},
   "outputs": [],
   "source": [
    "gscene.clear_highlight()"
   ]
  },
  {
   "cell_type": "code",
   "execution_count": null,
   "metadata": {},
   "outputs": [],
   "source": [
    "print(\"schedule length: {}\".format(len(snode_schedule)))\n",
    "for i_s,  snode in enumerate(snode_schedule):\n",
    "#     print(\"{}: {}\".format(i_s, snode.state.node))\n",
    "    save_json(\"traj-{}.json\".format(i_s), snode.traj)"
   ]
  },
  {
   "cell_type": "code",
   "execution_count": null,
   "metadata": {},
   "outputs": [],
   "source": [
    "traj_list = []\n",
    "for i_s in range(19):\n",
    "#     print(\"{}: {}\".format(i_s, snode.state.node))\n",
    "    traj_list.append(np.array(load_json(\"traj-{}.json\".format(i_s))))"
   ]
  },
  {
   "cell_type": "code",
   "execution_count": null,
   "metadata": {},
   "outputs": [],
   "source": [
    "gscene.show_motion(traj_list[2], period=0.5)"
   ]
  },
  {
   "cell_type": "code",
   "execution_count": null,
   "metadata": {},
   "outputs": [],
   "source": []
  },
  {
   "cell_type": "markdown",
   "metadata": {},
   "source": [
    "## execute plan"
   ]
  },
  {
   "cell_type": "code",
   "execution_count": 158,
   "metadata": {},
   "outputs": [
    {
     "name": "stdout",
     "output_type": "stream",
     "text": [
      "connection command:\n",
      "indy0: False\n",
      "panda1: True\n"
     ]
    }
   ],
   "source": [
    "crob.reset_connection(False,True)"
   ]
  },
  {
   "cell_type": "code",
   "execution_count": 51,
   "metadata": {},
   "outputs": [],
   "source": [
    "# indy = crob.robot_dict[\"indy0\"]\n",
    "panda = crob.robot_dict[\"panda1\"]\n",
    "# with indy:\n",
    "#     indy.set_joint_vel_level(1)\n",
    "#     indy.set_task_vel_level(1)"
   ]
  },
  {
   "cell_type": "code",
   "execution_count": 53,
   "metadata": {},
   "outputs": [
    {
     "ename": "AttributeError",
     "evalue": "'NoneType' object has no attribute 'joint_move_make_sure'",
     "output_type": "error",
     "traceback": [
      "\u001b[0;31m---------------------------------------------------------------------------\u001b[0m",
      "\u001b[0;31mAttributeError\u001b[0m                            Traceback (most recent call last)",
      "\u001b[0;32m<ipython-input-53-99374ed37fe1>\u001b[0m in \u001b[0;36m<module>\u001b[0;34m()\u001b[0m\n\u001b[0;32m----> 1\u001b[0;31m \u001b[0mcrob\u001b[0m\u001b[0;34m.\u001b[0m\u001b[0mjoint_move_make_sure\u001b[0m\u001b[0;34m(\u001b[0m\u001b[0mcrob\u001b[0m\u001b[0;34m.\u001b[0m\u001b[0mhome_pose\u001b[0m\u001b[0;34m)\u001b[0m\u001b[0;34m\u001b[0m\u001b[0m\n\u001b[0m",
      "\u001b[0;32m/home/rnb/Projects/rnb-planning/src/pkg/controller/combined_robot.py\u001b[0m in \u001b[0;36mjoint_move_make_sure\u001b[0;34m(self, Q)\u001b[0m\n\u001b[1;32m    133\u001b[0m             \u001b[0m_type\u001b[0m \u001b[0;34m=\u001b[0m \u001b[0mrconfig\u001b[0m\u001b[0;34m.\u001b[0m\u001b[0mtype\u001b[0m\u001b[0;34m\u001b[0m\u001b[0m\n\u001b[1;32m    134\u001b[0m             \u001b[0mrobot\u001b[0m \u001b[0;34m=\u001b[0m \u001b[0mself\u001b[0m\u001b[0;34m.\u001b[0m\u001b[0mrobot_dict\u001b[0m\u001b[0;34m[\u001b[0m\u001b[0mname\u001b[0m\u001b[0;34m]\u001b[0m\u001b[0;34m\u001b[0m\u001b[0m\n\u001b[0;32m--> 135\u001b[0;31m             \u001b[0mrobot\u001b[0m\u001b[0;34m.\u001b[0m\u001b[0mjoint_move_make_sure\u001b[0m\u001b[0;34m(\u001b[0m\u001b[0mQ\u001b[0m\u001b[0;34m[\u001b[0m\u001b[0mself\u001b[0m\u001b[0;34m.\u001b[0m\u001b[0midx_dict\u001b[0m\u001b[0;34m[\u001b[0m\u001b[0mname\u001b[0m\u001b[0;34m]\u001b[0m\u001b[0;34m]\u001b[0m\u001b[0;34m)\u001b[0m\u001b[0;34m\u001b[0m\u001b[0m\n\u001b[0m\u001b[1;32m    136\u001b[0m \u001b[0;34m\u001b[0m\u001b[0m\n\u001b[1;32m    137\u001b[0m     \u001b[0;31m##\u001b[0m\u001b[0;34m\u001b[0m\u001b[0;34m\u001b[0m\u001b[0m\n",
      "\u001b[0;31mAttributeError\u001b[0m: 'NoneType' object has no attribute 'joint_move_make_sure'"
     ]
    }
   ],
   "source": [
    "crob.joint_move_make_sure(crob.home_pose)"
   ]
  },
  {
   "cell_type": "code",
   "execution_count": 175,
   "metadata": {},
   "outputs": [],
   "source": [
    "crob.grasp(indy0=True, panda1=True)\n",
    "crob.grasp(indy0=False, panda1=False)"
   ]
  },
  {
   "cell_type": "code",
   "execution_count": 101,
   "metadata": {},
   "outputs": [],
   "source": [
    "panda.move_joint_s_curve(RobotSpecs.get_home_pose(RobotType.panda), N_div=100)"
   ]
  },
  {
   "cell_type": "code",
   "execution_count": 174,
   "metadata": {},
   "outputs": [
    {
     "data": {
      "text/plain": [
       "False"
      ]
     },
     "execution_count": 174,
     "metadata": {},
     "output_type": "execute_result"
    }
   ],
   "source": [
    "panda.grasp(False)"
   ]
  },
  {
   "cell_type": "code",
   "execution_count": 173,
   "metadata": {
    "scrolled": true
   },
   "outputs": [
    {
     "name": "stdout",
     "output_type": "stream",
     "text": [
      "binder: track_face\n",
      "rname: None\n",
      "binder: track_face\n",
      "rname: None\n",
      "binder: None\n",
      "binder: None\n",
      "binder: None\n",
      "binder: track_face\n",
      "rname: None\n",
      "binder: track_face\n",
      "rname: None\n",
      "binder: None\n",
      "binder: None\n",
      "binder: None\n",
      "binder: track_face\n",
      "rname: None\n",
      "binder: grip1\n",
      "rname: panda1\n",
      "binder: None\n",
      "binder: None\n",
      "binder: None\n",
      "binder: track_face\n",
      "rname: None\n",
      "binder: grip1\n",
      "rname: panda1\n",
      "binder: None\n",
      "binder: None\n",
      "binder: None\n"
     ]
    }
   ],
   "source": [
    "ppline.execute_schedule(snode_schedule, vel_scale=0.5, acc_scale=1)"
   ]
  },
  {
   "cell_type": "code",
   "execution_count": 89,
   "metadata": {},
   "outputs": [],
   "source": [
    "trajectory = snode_schedule[1].traj\n",
    "vel_scale = 0.5\n",
    "acc_scale = 1\n",
    "auto_stop = True\n",
    "self = crob\n",
    "name, rconfig = \"panda1\", self.robots_on_scene[1]\n",
    "_type = rconfig.type\n",
    "robot = self.robot_dict[name]\n",
    "traj_cur_rbt = trajectory[:,self.idx_dict[name]]\n",
    "diff_abs_arr = np.abs(traj_cur_rbt - traj_cur_rbt[0:1, :])\n",
    "if np.max(diff_abs_arr) > 1e-3:\n",
    "    vel_limits = np.multiply(RobotSpecs.get_vel_limits(_type), vel_scale)\n",
    "    acc_limits = np.multiply(RobotSpecs.get_acc_limits(_type), acc_scale)"
   ]
  },
  {
   "cell_type": "code",
   "execution_count": 90,
   "metadata": {},
   "outputs": [],
   "source": [
    "self= panda\n",
    "trajectory, vel_lims, acc_lims, auto_stop = traj_cur_rbt, vel_limits, acc_limits, auto_stop\n",
    "trajectory = np.concatenate([[self.get_qcur()], trajectory])\n",
    "with gtimer.block(\"calc_safe_trajectory\"):\n",
    "    t_all, traj_tot = calc_safe_trajectory(1.0/self.traj_freq, trajectory, vel_lims=vel_lims, acc_lims=acc_lims)"
   ]
  },
  {
   "cell_type": "code",
   "execution_count": 91,
   "metadata": {},
   "outputs": [
    {
     "data": {
      "text/plain": [
       "[<matplotlib.lines.Line2D at 0x7f27f0105cd0>,\n",
       " <matplotlib.lines.Line2D at 0x7f27f0105d50>,\n",
       " <matplotlib.lines.Line2D at 0x7f27f0105d90>,\n",
       " <matplotlib.lines.Line2D at 0x7f27f0105e50>,\n",
       " <matplotlib.lines.Line2D at 0x7f27f0105f10>,\n",
       " <matplotlib.lines.Line2D at 0x7f27f0112090>,\n",
       " <matplotlib.lines.Line2D at 0x7f27f01120d0>]"
      ]
     },
     "execution_count": 91,
     "metadata": {},
     "output_type": "execute_result"
    },
    {
     "data": {
      "image/png": "[encoded data removed]",
      "text/plain": [
       "<Figure size 432x288 with 1 Axes>"
      ]
     },
     "metadata": {
      "needs_background": "light"
     },
     "output_type": "display_data"
    }
   ],
   "source": [
    "import matplotlib.pyplot as plt\n",
    "plt.plot(t_all, traj_tot)"
   ]
  },
  {
   "cell_type": "code",
   "execution_count": 92,
   "metadata": {},
   "outputs": [
    {
     "data": {
      "text/plain": [
       "[<matplotlib.lines.Line2D at 0x7f27f0095050>,\n",
       " <matplotlib.lines.Line2D at 0x7f27f00950d0>,\n",
       " <matplotlib.lines.Line2D at 0x7f27f0095110>,\n",
       " <matplotlib.lines.Line2D at 0x7f27f00951d0>,\n",
       " <matplotlib.lines.Line2D at 0x7f27f0095290>,\n",
       " <matplotlib.lines.Line2D at 0x7f27f0095350>,\n",
       " <matplotlib.lines.Line2D at 0x7f27f0095410>]"
      ]
     },
     "execution_count": 92,
     "metadata": {},
     "output_type": "execute_result"
    },
    {
     "data": {
      "image/png": "[encoded data removed]",
      "text/plain": [
       "<Figure size 432x288 with 1 Axes>"
      ]
     },
     "metadata": {
      "needs_background": "light"
     },
     "output_type": "display_data"
    }
   ],
   "source": [
    "vel_tot = differentiate(traj_tot, 0.02)\n",
    "plt.plot(vel_tot)"
   ]
  },
  {
   "cell_type": "code",
   "execution_count": 62,
   "metadata": {},
   "outputs": [
    {
     "data": {
      "text/plain": [
       "[<matplotlib.lines.Line2D at 0x7f282866d250>,\n",
       " <matplotlib.lines.Line2D at 0x7f282866d2d0>,\n",
       " <matplotlib.lines.Line2D at 0x7f282866d310>,\n",
       " <matplotlib.lines.Line2D at 0x7f282866d3d0>,\n",
       " <matplotlib.lines.Line2D at 0x7f282866d490>,\n",
       " <matplotlib.lines.Line2D at 0x7f282866d550>,\n",
       " <matplotlib.lines.Line2D at 0x7f282866d610>]"
      ]
     },
     "execution_count": 62,
     "metadata": {},
     "output_type": "execute_result"
    },
    {
     "data": {
      "image/png": "[encoded data removed]",
      "text/plain": [
       "<Figure size 1080x360 with 1 Axes>"
      ]
     },
     "metadata": {
      "needs_background": "light"
     },
     "output_type": "display_data"
    }
   ],
   "source": [
    "acc_tot = differentiate(vel_tot, 0.02)\n",
    "plt.figure(figsize=(15,5))\n",
    "plt.plot(acc_tot,'-.')\n",
    "# plt.axis([0,500,-1,1])"
   ]
  },
  {
   "cell_type": "code",
   "execution_count": 63,
   "metadata": {},
   "outputs": [
    {
     "data": {
      "text/plain": [
       "[<matplotlib.lines.Line2D at 0x7f2828587310>]"
      ]
     },
     "execution_count": 63,
     "metadata": {},
     "output_type": "execute_result"
    },
    {
     "data": {
      "image/png": "[encoded data removed]",
      "text/plain": [
       "<Figure size 432x288 with 1 Axes>"
      ]
     },
     "metadata": {
      "needs_background": "light"
     },
     "output_type": "display_data"
    }
   ],
   "source": [
    "vel_pass, acc_pass, low_bound_pass = calc_T_list_simple.pass_list\n",
    "plt.plot(vel_pass, '-o')\n",
    "plt.plot(acc_pass, '-x')\n",
    "plt.plot(low_bound_pass, '-.')"
   ]
  },
  {
   "cell_type": "code",
   "execution_count": 64,
   "metadata": {},
   "outputs": [
    {
     "data": {
      "text/plain": [
       "[<matplotlib.lines.Line2D at 0x7f282c02c390>]"
      ]
     },
     "execution_count": 64,
     "metadata": {},
     "output_type": "execute_result"
    },
    {
     "data": {
      "image/png": "[encoded data removed]",
      "text/plain": [
       "<Figure size 432x288 with 1 Axes>"
      ]
     },
     "metadata": {
      "needs_background": "light"
     },
     "output_type": "display_data"
    }
   ],
   "source": [
    "vel_ratio_mid, acc_ratio = calc_T_list_simple.ratio_list\n",
    "plt.plot(vel_ratio_mid)\n",
    "plt.plot(acc_ratio)"
   ]
  },
  {
   "cell_type": "code",
   "execution_count": 65,
   "metadata": {},
   "outputs": [
    {
     "data": {
      "text/plain": [
       "[<matplotlib.lines.Line2D at 0x7f28284b86d0>]"
      ]
     },
     "execution_count": 65,
     "metadata": {},
     "output_type": "execute_result"
    },
    {
     "data": {
      "image/png": "[encoded data removed]",
      "text/plain": [
       "<Figure size 432x288 with 1 Axes>"
      ]
     },
     "metadata": {
      "needs_background": "light"
     },
     "output_type": "display_data"
    }
   ],
   "source": [
    "plt.plot(calc_T_list_simple.T_list)"
   ]
  },
  {
   "cell_type": "code",
   "execution_count": 66,
   "metadata": {},
   "outputs": [
    {
     "data": {
      "text/plain": [
       "[<matplotlib.lines.Line2D at 0x7f28284aa610>]"
      ]
     },
     "execution_count": 66,
     "metadata": {},
     "output_type": "execute_result"
    },
    {
     "data": {
      "image/png": "[encoded data removed]",
      "text/plain": [
       "<Figure size 432x288 with 1 Axes>"
      ]
     },
     "metadata": {
      "needs_background": "light"
     },
     "output_type": "display_data"
    }
   ],
   "source": [
    "plt.plot(calc_safe_trajectory.T_list)"
   ]
  },
  {
   "cell_type": "code",
   "execution_count": 67,
   "metadata": {},
   "outputs": [
    {
     "data": {
      "text/plain": [
       "[<matplotlib.lines.Line2D at 0x7f282841e550>,\n",
       " <matplotlib.lines.Line2D at 0x7f282841e5d0>,\n",
       " <matplotlib.lines.Line2D at 0x7f282841e610>,\n",
       " <matplotlib.lines.Line2D at 0x7f282841e6d0>,\n",
       " <matplotlib.lines.Line2D at 0x7f282841e790>,\n",
       " <matplotlib.lines.Line2D at 0x7f282841e850>,\n",
       " <matplotlib.lines.Line2D at 0x7f282841e910>]"
      ]
     },
     "execution_count": 67,
     "metadata": {},
     "output_type": "execute_result"
    },
    {
     "data": {
      "image/png": "[encoded data removed]",
      "text/plain": [
       "<Figure size 432x288 with 1 Axes>"
      ]
     },
     "metadata": {
      "needs_background": "light"
     },
     "output_type": "display_data"
    }
   ],
   "source": [
    "plt.plot(calc_safe_trajectory.Q_list)"
   ]
  },
  {
   "cell_type": "code",
   "execution_count": 177,
   "metadata": {},
   "outputs": [
    {
     "data": {
      "text/plain": [
       "35"
      ]
     },
     "execution_count": 177,
     "metadata": {},
     "output_type": "execute_result"
    }
   ],
   "source": [
    "len(calc_T_list_simple.T_list)"
   ]
  },
  {
   "cell_type": "code",
   "execution_count": 178,
   "metadata": {},
   "outputs": [
    {
     "data": {
      "text/plain": [
       "35"
      ]
     },
     "execution_count": 178,
     "metadata": {},
     "output_type": "execute_result"
    }
   ],
   "source": [
    "len(trajectory)"
   ]
  },
  {
   "cell_type": "code",
   "execution_count": null,
   "metadata": {},
   "outputs": [],
   "source": []
  },
  {
   "cell_type": "code",
   "execution_count": null,
   "metadata": {},
   "outputs": [],
   "source": []
  },
  {
   "cell_type": "code",
   "execution_count": 156,
   "metadata": {},
   "outputs": [],
   "source": [
    "\n",
    "\n",
    "##\n",
    "# @brief calculate safe waypoint-time list for a list of waypoints, by simply iterating velocity & acceleration limits\n",
    "# @param trajectory list of waypoints\n",
    "# @param vel_lims   velocity limits, either in vector or scalar\n",
    "# @param acc_lims   acceleration limits, either in vector or scalar\n",
    "def calc_T_list_simple(trajectory, vel_lims, acc_lims,\n",
    "                        vel_margin_ratio=0.1, acc_margin_ratio=0.1,\n",
    "                        upper_bound_ratio=1.2, low_bound_ratio=0.5):\n",
    "    dq_list = np.subtract(trajectory[1:], trajectory[:-1])\n",
    "    idx_skip = np.where(np.linalg.norm(dq_list, axis=-1)<1e-3)[0]\n",
    "    idx_valid = np.where(np.linalg.norm(dq_list, axis=-1)>=1e-3)[0]\n",
    "    dq_list = dq_list[idx_valid]\n",
    "    dT_list = np.max(np.abs(dq_list)/vel_lims, axis=-1)\n",
    "    dT_list_mid_pre = None\n",
    "    alpha = 0.5\n",
    "    for _ in range(1000):\n",
    "        dT_list_pre = dT_list # between q, N-1\n",
    "        vel_list = dq_list/dT_list[:,np.newaxis] # between q, N-1\n",
    "        vel_list = np.pad(vel_list, ((1,1),(0,0)), 'constant', constant_values=0) # between q and expand, N+1\n",
    "        dT_list = np.pad(dT_list, (1,1), 'constant', constant_values=0) # between q and expand, N+1\n",
    "        dv_list = vel_list[1:]- vel_list[:-1] # on q, N\n",
    "        vel_mid_list = np.abs((vel_list[1:] + vel_list[:-1])/2) # on q, N\n",
    "        vel_ratio_mid = np.max(vel_mid_list/(vel_lims*(1+vel_margin_ratio)), axis=-1) # on q, N\n",
    "        dT_list_mid = (dT_list[:-1]+dT_list[1:])/2 # on q, N\n",
    "        acc_list = np.abs(dv_list) / dT_list_mid[:,np.newaxis] # on q, N\n",
    "        acc_ratio = np.max(acc_list/(acc_lims*(1+acc_margin_ratio)), axis=-1) # on q, N\n",
    "        vel_pass = vel_ratio_mid < upper_bound_ratio\n",
    "        acc_pass = acc_ratio < upper_bound_ratio\n",
    "        low_bound_pass = np.logical_or(vel_ratio_mid > low_bound_ratio, acc_ratio > low_bound_ratio)\n",
    "        calc_T_list_simple.pass_list= [vel_pass, acc_pass, low_bound_pass]\n",
    "        calc_T_list_simple.ratio_list= [vel_ratio_mid, acc_ratio]\n",
    "        if  np.all(vel_pass) and np.all(acc_pass) and np.all(low_bound_pass):\n",
    "            dT_list = dT_list[1:-1]\n",
    "            break\n",
    "        adjust_ratio = np.max([\n",
    "                                acc_ratio*np.logical_not(acc_pass),\n",
    "                                vel_ratio_mid*np.logical_not(vel_pass),\n",
    "                                np.maximum(acc_ratio, vel_ratio_mid)*np.logical_not(low_bound_pass)], axis=0) \\\n",
    "                                +np.all([acc_pass, vel_pass, low_bound_pass], axis=0) # on q, N\n",
    "        if dT_list_mid_pre is None:\n",
    "            dT_list_mid_new = dT_list_mid*adjust_ratio # on q, N\n",
    "        else:\n",
    "            dT_list_mid_new = alpha*dT_list_mid*adjust_ratio + (1-alpha)*dT_list_mid_pre # on q, N\n",
    "        dT_list_mid_pre = deepcopy(dT_list_mid_new)\n",
    "        dT_list_mid_new[0] *= 2   # double first and last acc time as they are half-step\n",
    "        dT_list_mid_new[-1] *= 2   # double first and last acc time as they are half-step\n",
    "        dT_list = (dT_list_mid_new[:-1]+dT_list_mid_new[1:])/2 # between q, N-1\n",
    "    T_list = np.pad(dT_list, (0,1), 'constant', constant_values=0)\n",
    "    T_list = np.insert(T_list, idx_skip, 0)\n",
    "    calc_T_list_simple.T_list = T_list\n",
    "    return T_list"
   ]
  },
  {
   "cell_type": "code",
   "execution_count": 163,
   "metadata": {},
   "outputs": [],
   "source": [
    "\n",
    "##\n",
    "# @brief get full cubic trajectory for given waypoint trajectory\n",
    "# @remark terminal deceleration considered\n",
    "def calc_safe_trajectory(dt_step, trajectory, vel_lims, acc_lims):\n",
    "    # calculate waypoint times\n",
    "    T_list = calc_T_list_simple(trajectory, vel_lims, acc_lims)\n",
    "\n",
    "    # round waypoint times with dt_step    \n",
    "    T_list_new = []\n",
    "    Q_list = []\n",
    "    T_stack = 0\n",
    "    for Q, T in zip(trajectory, T_list):\n",
    "        T_stack+=T\n",
    "        if T_stack > dt_step:\n",
    "            T_list_new.append(np.ceil(T_stack/dt_step)*dt_step)\n",
    "            Q_list.append(Q)\n",
    "            T_stack = 0\n",
    "    if np.all(Q!=Q_list[-1]):\n",
    "        T_list_new.append(np.ceil(T_stack/dt_step)*dt_step)\n",
    "        Q_list.append(Q)\n",
    "    T_list = np.array(T_list_new)\n",
    "    Q_list =np.array(Q_list)\n",
    "\n",
    "#     # round waypoint times with dt_step\n",
    "#     Q_list = trajectory\n",
    "#     T_list_accum = np.cumsum(T_list)\n",
    "#     T_list_accum_round = np.pad(np.round(T_list_accum / dt_step) * dt_step, (1, 0), 'constant', constant_values=0)\n",
    "#     T_list_round = T_list_accum_round[1:] - T_list_accum_round[:-1]\n",
    "#     idx_move = np.where(T_list_accum_round[1:] - T_list_accum_round[:-1] > dt_step / 2)[0]\n",
    "#     T_list = np.pad(T_list_round[idx_move], (0, 1), 'constant', constant_values=0)\n",
    "#     idx_move = np.pad(idx_move + 1, (1, 0), 'constant', constant_values=0)\n",
    "#     Q_list = Q_list[idx_move]\n",
    "\n",
    "    calc_safe_trajectory.T_list = T_list\n",
    "    calc_safe_trajectory.Q_list = Q_list\n",
    "    \n",
    "    # prepare backward waypoints and times\n",
    "    Qrev_list = np.array(list(reversed(Q_list)))\n",
    "    Trev_list = list(reversed(T_list[:-1])) + [0]\n",
    "\n",
    "    # re-calculate trajectory with mixed waypoint times\n",
    "    t_all, traj_all = get_traj_all(dt_step, T_list, Q_list)\n",
    "    trev_all, trajrev_all = get_traj_all(dt_step, Trev_list, Qrev_list)\n",
    "    traj_all, trajrev_all = np.array(traj_all), np.array(list(reversed(trajrev_all)))\n",
    "\n",
    "    # weighting values to mix waypoint times, in S curves\n",
    "    traj_len = len(traj_all)\n",
    "    alpha = (np.arange(traj_len).astype(np.float) / (traj_len - 1))[:, np.newaxis]\n",
    "    alpha = (np.cos((alpha + 1) * np.pi) + 1) / 2\n",
    "    beta = 1 - alpha\n",
    "\n",
    "    # mix forward and backward trajectory with S curve weights\n",
    "    traj_tot = beta * traj_all + alpha * trajrev_all\n",
    "    return t_all, traj_tot"
   ]
  },
  {
   "cell_type": "code",
   "execution_count": null,
   "metadata": {},
   "outputs": [],
   "source": []
  },
  {
   "cell_type": "code",
   "execution_count": null,
   "metadata": {},
   "outputs": [],
   "source": []
  },
  {
   "cell_type": "code",
   "execution_count": 71,
   "metadata": {},
   "outputs": [],
   "source": [
    "T_list = calc_T_list_simple(trajectory, vel_lims=vel_lims, acc_lims=acc_lims)"
   ]
  },
  {
   "cell_type": "code",
   "execution_count": null,
   "metadata": {},
   "outputs": [],
   "source": []
  },
  {
   "cell_type": "code",
   "execution_count": 328,
   "metadata": {},
   "outputs": [],
   "source": [
    "vel_margin_ratio=0.1\n",
    "acc_margin_ratio=0.1\n",
    "upper_bound_ratio=1.2\n",
    "low_bound_ratio=0.5\n",
    "dq_list = np.subtract(trajectory[1:], trajectory[:-1])\n",
    "idx_skip = np.where(np.linalg.norm(dq_list, axis=-1)<1e-3)[0]\n",
    "idx_valid = np.where(np.linalg.norm(dq_list, axis=-1)>=1e-3)[0]\n",
    "dq_list = dq_list[idx_valid]\n",
    "dT_list = np.max(np.abs(dq_list)/vel_lims, axis=-1)\n",
    "dT_list_mid_pre = None\n",
    "alpha = 0.5\n",
    "for _ in range(1000):\n",
    "    dT_list_pre = dT_list # between q, N-1\n",
    "    vel_list = dq_list/dT_list[:,np.newaxis] # between q, N-1\n",
    "    vel_list = np.pad(vel_list, ((1,1),(0,0)), 'constant', constant_values=0) # between q and expand, N+1\n",
    "    dT_list = np.pad(dT_list, (1,1), 'constant', constant_values=0) # between q and expand, N+1\n",
    "    dv_list = vel_list[1:]- vel_list[:-1] # on q, N\n",
    "    vel_mid_list = np.abs((vel_list[1:] + vel_list[:-1])/2) # on q, N\n",
    "    vel_ratio_mid = np.max(vel_mid_list/(vel_lims*(1+vel_margin_ratio)), axis=-1) # on q, N\n",
    "    dT_list_mid = (dT_list[:-1]+dT_list[1:])/2 # on q, N\n",
    "    acc_list = np.abs(dv_list) / dT_list_mid[:,np.newaxis] # on q, N\n",
    "    acc_ratio = np.max(acc_list/(acc_lims*(1+acc_margin_ratio)), axis=-1) # on q, N\n",
    "    vel_pass = vel_ratio_mid < upper_bound_ratio\n",
    "    acc_pass = acc_ratio < upper_bound_ratio\n",
    "    low_bound_pass = np.logical_or(vel_ratio_mid > low_bound_ratio, acc_ratio > low_bound_ratio)\n",
    "    if  np.all(vel_pass) and np.all(acc_pass) and np.all(low_bound_pass):\n",
    "        dT_list = dT_list[1:-1]\n",
    "        break\n",
    "    adjust_ratio = np.max([\n",
    "                            acc_ratio*np.logical_not(acc_pass),\n",
    "                            vel_ratio_mid*np.logical_not(vel_pass),\n",
    "                            np.maximum(acc_ratio, vel_ratio_mid)*np.logical_not(low_bound_pass)], axis=0) \\\n",
    "                            +np.all([acc_pass, vel_pass, low_bound_pass], axis=0) # on q, N\n",
    "    if dT_list_mid_pre is None:\n",
    "        dT_list_mid_new = dT_list_mid*adjust_ratio # on q, N\n",
    "    else:\n",
    "        dT_list_mid_new = alpha*dT_list_mid*adjust_ratio + (1-alpha)*dT_list_mid_pre # on q, N\n",
    "    dT_list_mid_pre = deepcopy(dT_list_mid_new)\n",
    "    dT_list_mid_new[0] *= 2   # double first and last acc time as they are half-step\n",
    "    dT_list_mid_new[-1] *= 2   # double first and last acc time as they are half-step\n",
    "    dT_list = (dT_list_mid_new[:-1]+dT_list_mid_new[1:])/2 # between q, N-1\n",
    "T_list = np.pad(dT_list, (0,1), 'constant', constant_values=0)\n",
    "T_list = np.insert(T_list, idx_skip, 0)"
   ]
  },
  {
   "cell_type": "code",
   "execution_count": 329,
   "metadata": {},
   "outputs": [
    {
     "data": {
      "text/plain": [
       "[<matplotlib.lines.Line2D at 0x7f4c4843cc50>]"
      ]
     },
     "execution_count": 329,
     "metadata": {},
     "output_type": "execute_result"
    },
    {
     "data": {
      "image/png": "[encoded data removed]",
      "text/plain": [
       "<Figure size 432x288 with 1 Axes>"
      ]
     },
     "metadata": {
      "needs_background": "light"
     },
     "output_type": "display_data"
    }
   ],
   "source": [
    "plt.plot(vel_pass, '-o')\n",
    "plt.plot(acc_pass, '-x')\n",
    "plt.plot(low_bound_pass, '-.')"
   ]
  },
  {
   "cell_type": "code",
   "execution_count": null,
   "metadata": {},
   "outputs": [],
   "source": []
  },
  {
   "cell_type": "code",
   "execution_count": 344,
   "metadata": {
    "scrolled": true
   },
   "outputs": [
    {
     "data": {
      "text/plain": [
       "67"
      ]
     },
     "execution_count": 344,
     "metadata": {},
     "output_type": "execute_result"
    }
   ],
   "source": [
    "len(Qrev_list)"
   ]
  },
  {
   "cell_type": "code",
   "execution_count": 345,
   "metadata": {},
   "outputs": [],
   "source": [
    "# prepare forward and backward waypoints and times\n",
    "Q_list = trajectory\n",
    "T_list_accum = np.cumsum(T_list)\n",
    "T_list_accum_round = np.pad(np.round(T_list_accum / dt_step) * dt_step, (1,0), 'constant', constant_values=0)\n",
    "T_list_round = T_list_accum_round[1:]-T_list_accum_round[:-1]\n",
    "idx_move = np.where(T_list_accum_round[1:]-T_list_accum_round[:-1]>dt_step/2)[0]\n",
    "T_list = np.pad(T_list_round[idx_move], (0,1), 'constant', constant_values = 0)\n",
    "idx_move = np.pad(idx_move+1, (1,0), 'constant', constant_values = 0)\n",
    "Q_list = Q_list[idx_move]\n",
    "Qrev_list = np.array(list(reversed(Q_list)))\n",
    "Trev_list = list(reversed(T_list[:-1])) + [0]\n",
    "\n",
    "# re-calculate trajectory with mixed waypoint times\n",
    "t_all, traj_all = get_traj_all(dt_step, T_list, Q_list)\n",
    "trev_all, trajrev_all = get_traj_all(dt_step, Trev_list, Qrev_list)\n",
    "traj_all, trajrev_all = np.array(traj_all), np.array(list(reversed(trajrev_all)))\n",
    "\n",
    "# weighting values to mix waypoint times, in S curves\n",
    "traj_len = len(traj_all)\n",
    "alpha = (np.arange(traj_len).astype(np.float) / (traj_len - 1))[:, np.newaxis]\n",
    "alpha = (np.cos((alpha + 1) * np.pi) + 1) / 2\n",
    "beta = 1 - alpha\n",
    "\n",
    "# mix forward and backward trajectory with S curve weights\n",
    "traj_tot = beta * traj_all + alpha * trajrev_all"
   ]
  },
  {
   "cell_type": "code",
   "execution_count": 346,
   "metadata": {},
   "outputs": [
    {
     "data": {
      "text/plain": [
       "[<matplotlib.lines.Line2D at 0x7f4c484a7dd0>,\n",
       " <matplotlib.lines.Line2D at 0x7f4c484a7e50>,\n",
       " <matplotlib.lines.Line2D at 0x7f4c484a7e90>,\n",
       " <matplotlib.lines.Line2D at 0x7f4c484a7f50>,\n",
       " <matplotlib.lines.Line2D at 0x7f4c484b1050>,\n",
       " <matplotlib.lines.Line2D at 0x7f4c484b1110>,\n",
       " <matplotlib.lines.Line2D at 0x7f4c484b11d0>]"
      ]
     },
     "execution_count": 346,
     "metadata": {},
     "output_type": "execute_result"
    },
    {
     "data": {
      "image/png": "[encoded data removed]",
      "text/plain": [
       "<Figure size 432x288 with 1 Axes>"
      ]
     },
     "metadata": {
      "needs_background": "light"
     },
     "output_type": "display_data"
    }
   ],
   "source": [
    "plt.plot(t_all, traj_tot)"
   ]
  },
  {
   "cell_type": "code",
   "execution_count": null,
   "metadata": {},
   "outputs": [],
   "source": []
  },
  {
   "cell_type": "code",
   "execution_count": 347,
   "metadata": {
    "scrolled": true
   },
   "outputs": [
    {
     "data": {
      "text/plain": [
       "[<matplotlib.lines.Line2D at 0x7f4c483a9650>,\n",
       " <matplotlib.lines.Line2D at 0x7f4c483a96d0>,\n",
       " <matplotlib.lines.Line2D at 0x7f4c483a9710>,\n",
       " <matplotlib.lines.Line2D at 0x7f4c483a97d0>,\n",
       " <matplotlib.lines.Line2D at 0x7f4c483a9890>,\n",
       " <matplotlib.lines.Line2D at 0x7f4c483a9950>,\n",
       " <matplotlib.lines.Line2D at 0x7f4c483a9a10>]"
      ]
     },
     "execution_count": 347,
     "metadata": {},
     "output_type": "execute_result"
    },
    {
     "data": {
      "image/png": "[encoded data removed]",
      "text/plain": [
       "<Figure size 432x288 with 1 Axes>"
      ]
     },
     "metadata": {
      "needs_background": "light"
     },
     "output_type": "display_data"
    }
   ],
   "source": [
    "plt.plot(dq_list)"
   ]
  },
  {
   "cell_type": "code",
   "execution_count": 348,
   "metadata": {},
   "outputs": [
    {
     "data": {
      "text/plain": [
       "[<matplotlib.lines.Line2D at 0x7f4c48329e10>]"
      ]
     },
     "execution_count": 348,
     "metadata": {},
     "output_type": "execute_result"
    },
    {
     "data": {
      "image/png": "[encoded data removed]",
      "text/plain": [
       "<Figure size 432x288 with 1 Axes>"
      ]
     },
     "metadata": {
      "needs_background": "light"
     },
     "output_type": "display_data"
    }
   ],
   "source": [
    "plt.plot(vel_ratio_mid)\n",
    "plt.plot(acc_ratio)"
   ]
  },
  {
   "cell_type": "code",
   "execution_count": 349,
   "metadata": {},
   "outputs": [
    {
     "data": {
      "text/plain": [
       "[<matplotlib.lines.Line2D at 0x7f4c4829edd0>]"
      ]
     },
     "execution_count": 349,
     "metadata": {},
     "output_type": "execute_result"
    },
    {
     "data": {
      "image/png": "[encoded data removed]",
      "text/plain": [
       "<Figure size 432x288 with 1 Axes>"
      ]
     },
     "metadata": {
      "needs_background": "light"
     },
     "output_type": "display_data"
    }
   ],
   "source": [
    "plt.plot(adjust_ratio)"
   ]
  },
  {
   "cell_type": "code",
   "execution_count": 350,
   "metadata": {},
   "outputs": [
    {
     "data": {
      "text/plain": [
       "[<matplotlib.lines.Line2D at 0x7f4c4821e350>]"
      ]
     },
     "execution_count": 350,
     "metadata": {},
     "output_type": "execute_result"
    },
    {
     "data": {
      "image/png": "[encoded data removed]",
      "text/plain": [
       "<Figure size 432x288 with 1 Axes>"
      ]
     },
     "metadata": {
      "needs_background": "light"
     },
     "output_type": "display_data"
    }
   ],
   "source": [
    "plt.plot(T_list)"
   ]
  },
  {
   "cell_type": "code",
   "execution_count": 351,
   "metadata": {},
   "outputs": [
    {
     "data": {
      "text/plain": [
       "[<matplotlib.lines.Line2D at 0x7f4c48189ed0>,\n",
       " <matplotlib.lines.Line2D at 0x7f4c48189090>,\n",
       " <matplotlib.lines.Line2D at 0x7f4c48196050>,\n",
       " <matplotlib.lines.Line2D at 0x7f4c48196090>,\n",
       " <matplotlib.lines.Line2D at 0x7f4c48196150>,\n",
       " <matplotlib.lines.Line2D at 0x7f4c48196210>,\n",
       " <matplotlib.lines.Line2D at 0x7f4c481962d0>]"
      ]
     },
     "execution_count": 351,
     "metadata": {},
     "output_type": "execute_result"
    },
    {
     "data": {
      "image/png": "[encoded data removed]",
      "text/plain": [
       "<Figure size 432x288 with 1 Axes>"
      ]
     },
     "metadata": {
      "needs_background": "light"
     },
     "output_type": "display_data"
    }
   ],
   "source": [
    "import matplotlib.pyplot as plt\n",
    "plt.plot(t_all, traj_all)"
   ]
  },
  {
   "cell_type": "code",
   "execution_count": 359,
   "metadata": {},
   "outputs": [
    {
     "data": {
      "text/plain": [
       "[<matplotlib.lines.Line2D at 0x7f4c486b3250>,\n",
       " <matplotlib.lines.Line2D at 0x7f4c486b32d0>,\n",
       " <matplotlib.lines.Line2D at 0x7f4c486b3310>,\n",
       " <matplotlib.lines.Line2D at 0x7f4c486b33d0>,\n",
       " <matplotlib.lines.Line2D at 0x7f4c486b3490>,\n",
       " <matplotlib.lines.Line2D at 0x7f4c486b3550>,\n",
       " <matplotlib.lines.Line2D at 0x7f4c486b3610>]"
      ]
     },
     "execution_count": 359,
     "metadata": {},
     "output_type": "execute_result"
    },
    {
     "data": {
      "image/png": "[encoded data removed]",
      "text/plain": [
       "<Figure size 432x288 with 1 Axes>"
      ]
     },
     "metadata": {
      "needs_background": "light"
     },
     "output_type": "display_data"
    }
   ],
   "source": [
    "vel_tot = differentiate(traj_tot, 0.02)\n",
    "plt.plot(vel_tot)"
   ]
  },
  {
   "cell_type": "code",
   "execution_count": 360,
   "metadata": {},
   "outputs": [
    {
     "data": {
      "text/plain": [
       "[<matplotlib.lines.Line2D at 0x7f4c4874fc10>,\n",
       " <matplotlib.lines.Line2D at 0x7f4c4874f910>,\n",
       " <matplotlib.lines.Line2D at 0x7f4c4874fd90>,\n",
       " <matplotlib.lines.Line2D at 0x7f4c4874fb90>,\n",
       " <matplotlib.lines.Line2D at 0x7f4c4874fed0>,\n",
       " <matplotlib.lines.Line2D at 0x7f4c4874fb10>,\n",
       " <matplotlib.lines.Line2D at 0x7f4c4878cad0>]"
      ]
     },
     "execution_count": 360,
     "metadata": {},
     "output_type": "execute_result"
    },
    {
     "data": {
      "image/png": "[encoded data removed]",
      "text/plain": [
       "<Figure size 1080x360 with 1 Axes>"
      ]
     },
     "metadata": {
      "needs_background": "light"
     },
     "output_type": "display_data"
    }
   ],
   "source": [
    "acc_tot = differentiate(vel_tot, 0.02)\n",
    "plt.figure(figsize=(15,5))\n",
    "plt.plot(acc_tot,'-.')\n",
    "# plt.axis([0,500,-1,1])"
   ]
  },
  {
   "cell_type": "code",
   "execution_count": 239,
   "metadata": {},
   "outputs": [
    {
     "data": {
      "text/plain": [
       "array([0.78539816, 0.78539816, 0.78539816, 0.78539816, 0.78539816,\n",
       "       0.78539816, 0.78539816])"
      ]
     },
     "execution_count": 239,
     "metadata": {},
     "output_type": "execute_result"
    }
   ],
   "source": [
    "acc_limits"
   ]
  },
  {
   "cell_type": "code",
   "execution_count": null,
   "metadata": {},
   "outputs": [],
   "source": []
  },
  {
   "cell_type": "code",
   "execution_count": 62,
   "metadata": {},
   "outputs": [
    {
     "name": "stdout",
     "output_type": "stream",
     "text": [
      "plan: \t992.0 ms/1 = 991.875 ms (991.875/991.875)\n",
      "calc_safe_trajectory: \t1442.0 ms/1 = 1442.327 ms (1442.327/1442.327)\n",
      "\n"
     ]
    }
   ],
   "source": [
    "print(gtimer)"
   ]
  },
  {
   "cell_type": "code",
   "execution_count": 50,
   "metadata": {
    "scrolled": true
   },
   "outputs": [
    {
     "name": "stdout",
     "output_type": "stream",
     "text": [
      "[1.30899694 1.30899694 1.30899694 1.30899694 1.57079633 1.57079633\n",
      " 1.57079633]\n",
      "[1.57079633 1.57079633 1.57079633 1.57079633 1.57079633 1.57079633\n",
      " 1.57079633]\n"
     ]
    }
   ],
   "source": [
    "print(RobotSpecs.get_vel_limits(RobotType.panda))\n",
    "print(RobotSpecs.get_acc_limits(RobotType.panda))"
   ]
  },
  {
   "cell_type": "code",
   "execution_count": 43,
   "metadata": {},
   "outputs": [],
   "source": [
    "dt_step, trajectory, vel_lims, acc_lims =\\\n",
    "    1.0/50, snode_schedule[1].traj[:, 6:],  \\\n",
    "    np.array(RobotSpecs.get_vel_limits(RobotType.panda))*2, \\\n",
    "    np.array(RobotSpecs.get_acc_limits(RobotType.panda))*2"
   ]
  },
  {
   "cell_type": "code",
   "execution_count": 44,
   "metadata": {},
   "outputs": [],
   "source": [
    "t_all, traj_tot = calc_safe_trajectory(dt_step, trajectory, vel_lims, acc_lims)"
   ]
  },
  {
   "cell_type": "code",
   "execution_count": 46,
   "metadata": {},
   "outputs": [],
   "source": [
    "gscene.show_motion(np.pad(traj_tot, ((0,0),(6,0)), 'constant', constant_values=0), period=0.001)"
   ]
  },
  {
   "cell_type": "code",
   "execution_count": 151,
   "metadata": {},
   "outputs": [
    {
     "data": {
      "text/plain": [
       "array([1.96349541, 1.96349541, 1.96349541, 1.96349541, 2.35619449,\n",
       "       2.35619449, 2.35619449])"
      ]
     },
     "execution_count": 151,
     "metadata": {},
     "output_type": "execute_result"
    }
   ],
   "source": [
    "vel_lims"
   ]
  },
  {
   "cell_type": "code",
   "execution_count": 145,
   "metadata": {},
   "outputs": [
    {
     "data": {
      "text/plain": [
       "array([-0.04797374,  0.05089752,  0.00817357,  0.01137909,  0.00061158,\n",
       "        0.00594128,  0.0275943 ])"
      ]
     },
     "execution_count": 145,
     "metadata": {},
     "output_type": "execute_result"
    }
   ],
   "source": [
    "dq_list[-1]"
   ]
  },
  {
   "cell_type": "code",
   "execution_count": null,
   "metadata": {},
   "outputs": [],
   "source": []
  },
  {
   "cell_type": "code",
   "execution_count": 59,
   "metadata": {},
   "outputs": [
    {
     "name": "stdout",
     "output_type": "stream",
     "text": [
      "Connect: Server IP (192.168.0.63)\n",
      "Connect: Server IP (192.168.0.63)\n"
     ]
    }
   ],
   "source": [
    "crob.joint_move_make_sure(crob.home_pose)"
   ]
  },
  {
   "cell_type": "code",
   "execution_count": 48,
   "metadata": {
    "scrolled": true
   },
   "outputs": [
    {
     "data": {
      "text/plain": [
       "<pkg.planning.task.interface.SearchNode at 0x7fb1be59da10>"
      ]
     },
     "execution_count": 48,
     "metadata": {},
     "output_type": "execute_result"
    }
   ],
   "source": []
  },
  {
   "cell_type": "code",
   "execution_count": 51,
   "metadata": {},
   "outputs": [
    {
     "name": "stdout",
     "output_type": "stream",
     "text": [
      "0: ('track_face', 'track_face', 0, 0, 0)\n",
      "1: ('grip1', 'track_face', 0, 0, 0)\n",
      "2: ('track_face', 'track_face', 0, 0, 0)\n",
      "3: ('track_face', 'grip1', 0, 0, 0)\n",
      "4: ('track_face', 'grip1', 0, 0, 0)\n",
      "5: ('track_face', 'grip1', 1, 0, 0)\n",
      "6: ('track_face', 'grip1', 2, 0, 0)\n",
      "7: ('track_face', 'grip1', 2, 1, 0)\n",
      "8: ('track_face', 'grip1', 2, 2, 0)\n",
      "9: ('track_face', 'grip1', 2, 2, 0)\n",
      "10: ('track_face', 'track_face', 2, 2, 0)\n",
      "11: ('grip1', 'track_face', 2, 2, 0)\n",
      "12: ('track_face', 'track_face', 2, 2, 0)\n",
      "13: ('track_face', 'track_face', 2, 2, 0)\n",
      "14: ('track_face', 'grip1', 2, 2, 0)\n",
      "15: ('track_face', 'grip1', 2, 2, 0)\n",
      "16: ('track_face', 'grip1', 2, 2, 1)\n",
      "17: ('track_face', 'grip1', 2, 2, 2)\n",
      "18: ('track_face', 'grip1', 2, 2, 2)\n",
      "19: ('track_face', 'track_face', 2, 2, 2)\n",
      "20: ('track_face', 'track_face', 2, 2, 2)\n"
     ]
    }
   ],
   "source": [
    "for i_s, snode in enumerate(snode_schedule):\n",
    "    print(\"{}: {}\".format(i_s, snode.state.node))"
   ]
  },
  {
   "cell_type": "code",
   "execution_count": null,
   "metadata": {},
   "outputs": [],
   "source": []
  },
  {
   "cell_type": "code",
   "execution_count": 49,
   "metadata": {},
   "outputs": [],
   "source": [
    "panda.move_joint_wp(snode_schedule[1].traj[:, 6:], \n",
    "    vel_lims=[1.0]*7, acc_lims=[1.0]*7)"
   ]
  },
  {
   "cell_type": "code",
   "execution_count": 50,
   "metadata": {},
   "outputs": [],
   "source": [
    "panda.move_joint_wp(np.array(list(reversed(snode_schedule[1].traj[:, 6:]))), \n",
    "    vel_lims=[1.0]*7, acc_lims=[1.0]*7)"
   ]
  },
  {
   "cell_type": "code",
   "execution_count": 54,
   "metadata": {},
   "outputs": [
    {
     "data": {
      "text/plain": [
       "array([0.65449847, 0.65449847, 0.65449847, 0.65449847, 0.78539816,\n",
       "       0.78539816, 0.78539816])"
      ]
     },
     "execution_count": 54,
     "metadata": {},
     "output_type": "execute_result"
    }
   ],
   "source": [
    "np.multiply(RobotSpecs.get_vel_limits(RobotType.panda), 0.5)"
   ]
  },
  {
   "cell_type": "code",
   "execution_count": 56,
   "metadata": {},
   "outputs": [
    {
     "data": {
      "text/plain": [
       "array([6.28318531, 6.28318531, 6.28318531, 6.28318531, 6.28318531,\n",
       "       6.28318531, 6.28318531])"
      ]
     },
     "execution_count": 56,
     "metadata": {},
     "output_type": "execute_result"
    }
   ],
   "source": [
    "RobotSpecs.get_acc_limits(RobotType.panda)"
   ]
  },
  {
   "cell_type": "code",
   "execution_count": 55,
   "metadata": {},
   "outputs": [
    {
     "data": {
      "text/plain": [
       "array([3.14159265, 3.14159265, 3.14159265, 3.14159265, 3.14159265,\n",
       "       3.14159265, 3.14159265])"
      ]
     },
     "execution_count": 55,
     "metadata": {},
     "output_type": "execute_result"
    }
   ],
   "source": [
    "np.multiply(RobotSpecs.get_acc_limits(RobotType.panda), 0.5)"
   ]
  },
  {
   "cell_type": "code",
   "execution_count": null,
   "metadata": {},
   "outputs": [],
   "source": []
  }
 ],
 "metadata": {
  "kernelspec": {
   "display_name": "Python 2",
   "language": "python",
   "name": "python2"
  },
  "language_info": {
   "codemirror_mode": {
    "name": "ipython",
    "version": 2
   },
   "file_extension": ".py",
   "mimetype": "text/x-python",
   "name": "python",
   "nbconvert_exporter": "python",
   "pygments_lexer": "ipython2",
   "version": "2.7.17"
  }
 },
 "nbformat": 4,
 "nbformat_minor": 2
}
