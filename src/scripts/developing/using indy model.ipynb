{
 "cells": [
  {
   "cell_type": "markdown",
   "metadata": {},
   "source": [
    "## Check List 7.1. Demo - White board sweeping\n",
    "* In this demo file, we will use two robots (Indy7, Panda) to sweep a white board, removing obstacles\n",
    "\n",
    "* You need trained model to use ReachChecker\n",
    "  - model/reach_svm/indy7.json\n",
    "  - model/reach_svm/panda.json\n",
    "  - 백업: 개인 이동식 하드디스크, 강준수"
   ]
  },
  {
   "cell_type": "markdown",
   "metadata": {},
   "source": [
    "### Prepare the task scene\n",
    "* Prepare Indy7 and panda, and install sweeping tool to indy. (Check release/Figs/7.1.WhiteBoardSweeping.jpg)\n",
    "* Prepare \"floor\", \"track\", \"box1\", \"box2\" objects as defined in pkg.detector.aruco.marker_config.py\n",
    "* The robots and \"track\" are installed on \"floor\".\n",
    "* \"box1\" and \"box2\" are on \"track\"\n",
    "<img src=\"../Figs/7.1.WhiteBoardSweeping.jpg\" width=\"80%\">"
   ]
  },
  {
   "cell_type": "code",
   "execution_count": null,
   "metadata": {},
   "outputs": [],
   "source": []
  },
  {
   "cell_type": "markdown",
   "metadata": {},
   "source": [
    "## set running directory to project source"
   ]
  },
  {
   "cell_type": "code",
   "execution_count": 15,
   "metadata": {},
   "outputs": [],
   "source": [
    "import os\n",
    "os.chdir(os.path.join(os.environ[\"RNB_PLANNING_DIR\"], 'src'))"
   ]
  },
  {
   "cell_type": "code",
   "execution_count": null,
   "metadata": {},
   "outputs": [],
   "source": []
  },
  {
   "cell_type": "markdown",
   "metadata": {},
   "source": [
    "## init combined robot config"
   ]
  },
  {
   "cell_type": "code",
   "execution_count": 16,
   "metadata": {},
   "outputs": [
    {
     "name": "stdout",
     "output_type": "stream",
     "text": [
      "connection command:\n",
      "indy0: False\n"
     ]
    }
   ],
   "source": [
    "from pkg.controller.combined_robot import *\n",
    "from pkg.project_config import *\n",
    "\n",
    "crob = CombinedRobot(robots_on_scene=[\n",
    "    RobotConfig(0, RobotType.indy7, ((0.0,-0.0,0), (0,0,0)),\n",
    "                INDY_IP)]\n",
    "              , connection_list=[False])"
   ]
  },
  {
   "cell_type": "code",
   "execution_count": null,
   "metadata": {},
   "outputs": [],
   "source": []
  },
  {
   "cell_type": "markdown",
   "metadata": {},
   "source": [
    "## create scene builder"
   ]
  },
  {
   "cell_type": "code",
   "execution_count": 17,
   "metadata": {},
   "outputs": [],
   "source": [
    "from pkg.geometry.builder.scene_builder import SceneBuilder\n",
    "s_builder = SceneBuilder(None)\n",
    "# s_builder.reset_reference_coord(ref_name=\"floor\")"
   ]
  },
  {
   "cell_type": "code",
   "execution_count": 18,
   "metadata": {},
   "outputs": [
    {
     "name": "stdout",
     "output_type": "stream",
     "text": [
      "Unable to register with master node [http://localhost:11311]: master may not be running yet. Will keep trying.\n"
     ]
    },
    {
     "name": "stderr",
     "output_type": "stream",
     "text": [
      "Unknown tag \"hardwareInterface\" in /robot[@name='custom_robots']/transmission[@name='indy0_tran0']/actuator[@name='indy0_motor0']\n",
      "Unknown tag \"hardwareInterface\" in /robot[@name='custom_robots']/transmission[@name='indy0_tran1']/actuator[@name='indy0_motor1']\n",
      "Unknown tag \"hardwareInterface\" in /robot[@name='custom_robots']/transmission[@name='indy0_tran2']/actuator[@name='indy0_motor2']\n",
      "Unknown tag \"hardwareInterface\" in /robot[@name='custom_robots']/transmission[@name='indy0_tran3']/actuator[@name='indy0_motor3']\n",
      "Unknown tag \"hardwareInterface\" in /robot[@name='custom_robots']/transmission[@name='indy0_tran4']/actuator[@name='indy0_motor4']\n",
      "Unknown tag \"hardwareInterface\" in /robot[@name='custom_robots']/transmission[@name='indy0_tran5']/actuator[@name='indy0_motor5']\n"
     ]
    },
    {
     "name": "stdout",
     "output_type": "stream",
     "text": [
      "Please create a subscriber to the marker\n",
      "publication OK\n",
      "published: [0, 0, 0, 0, 0, 0]\n"
     ]
    }
   ],
   "source": [
    "gscene = s_builder.create_gscene(crob)"
   ]
  },
  {
   "cell_type": "code",
   "execution_count": null,
   "metadata": {},
   "outputs": [],
   "source": []
  },
  {
   "cell_type": "code",
   "execution_count": 19,
   "metadata": {},
   "outputs": [],
   "source": [
    "def read_file(filename):\n",
    "    buffer = \"\"\n",
    "    with open(filename, 'r') as f:\n",
    "        while True:\n",
    "            line = f.readline()\n",
    "            buffer += line\n",
    "            if not line: break\n",
    "    return buffer"
   ]
  },
  {
   "cell_type": "code",
   "execution_count": 20,
   "metadata": {},
   "outputs": [],
   "source": [
    "dat = read_file(\"./data/Test6.csv\")"
   ]
  },
  {
   "cell_type": "code",
   "execution_count": 21,
   "metadata": {},
   "outputs": [],
   "source": [
    "lines = dat.split(\"\\n\")\n",
    "heads = lines[0].split(\",\")[:-1]\n",
    "data_mat = []\n",
    "for line in lines[1:]:\n",
    "    data_line = list(map(float, line.split(\",\")[:-1]))\n",
    "    if len(data_line)>0:\n",
    "        data_mat.append(data_line)\n",
    "data_mat = np.array(data_mat)"
   ]
  },
  {
   "cell_type": "code",
   "execution_count": 22,
   "metadata": {},
   "outputs": [
    {
     "data": {
      "text/plain": [
       "array([[ 7.517840e-01, -5.929460e-01, -7.047990e-01, ..., -1.376000e-02,\n",
       "         5.000000e-03,  6.000000e+01],\n",
       "       [ 7.518460e-01, -5.929980e-01, -7.047170e-01, ..., -1.160000e-02,\n",
       "         6.000000e-03,  6.000000e+01],\n",
       "       [ 7.519070e-01, -5.930480e-01, -7.046380e-01, ..., -1.160000e-02,\n",
       "         6.000000e-03,  6.000000e+01],\n",
       "       ...,\n",
       "       [ 3.819300e-02, -1.140060e-01, -1.684262e+00, ..., -2.758000e-02,\n",
       "         4.500000e-03,  5.900000e+01],\n",
       "       [ 3.817100e-02, -1.139430e-01, -1.684199e+00, ..., -2.442000e-02,\n",
       "         5.500000e-03,  5.900000e+01],\n",
       "       [ 3.815100e-02, -1.138810e-01, -1.684139e+00, ..., -2.442000e-02,\n",
       "         5.500000e-03,  5.900000e+01]])"
      ]
     },
     "execution_count": 22,
     "metadata": {},
     "output_type": "execute_result"
    }
   ],
   "source": [
    "data_mat"
   ]
  },
  {
   "cell_type": "code",
   "execution_count": 23,
   "metadata": {},
   "outputs": [],
   "source": [
    "JOINT_DOF = 6"
   ]
  },
  {
   "cell_type": "code",
   "execution_count": 24,
   "metadata": {},
   "outputs": [
    {
     "data": {
      "text/plain": [
       "(['q0', 'q1', 'q2', 'q3', 'q4', 'q5'],\n",
       " ['qdot0', 'qdot1', 'qdot2', 'qdot3', 'qdot4', 'qdot5'],\n",
       " ['error0', 'error1', 'error2', 'error3', 'error4', 'error5'],\n",
       " ['e_nr0', 'e_nr1', 'e_nr2', 'e_nr3', 'e_nr4', 'e_nr5'],\n",
       " ['torque0', 'torque1', 'torque2', 'torque3', 'torque4', 'torque5'],\n",
       " ['Fext0', 'Fext1', 'Fext2', 'Fext3', 'Fext4', 'Fext5'])"
      ]
     },
     "execution_count": 24,
     "metadata": {},
     "output_type": "execute_result"
    }
   ],
   "source": [
    "(heads[0:JOINT_DOF], heads[JOINT_DOF:JOINT_DOF*2], heads[JOINT_DOF*2:JOINT_DOF*3], heads[JOINT_DOF*3:JOINT_DOF*4], \n",
    " heads[JOINT_DOF*4:JOINT_DOF*5], heads[JOINT_DOF*5:JOINT_DOF*6])"
   ]
  },
  {
   "cell_type": "code",
   "execution_count": 25,
   "metadata": {},
   "outputs": [],
   "source": [
    "idx = np.arange(len(data_mat))\n",
    "# idx = np.arange(106215,106220)\n",
    "q = data_mat[idx,0:JOINT_DOF]\n",
    "e_dr = data_mat[idx,JOINT_DOF*2:JOINT_DOF*3]\n",
    "e_nr = data_mat[idx,JOINT_DOF*3:JOINT_DOF*4]\n",
    "Fext = data_mat[idx,JOINT_DOF*5:JOINT_DOF*6]\n",
    "e_dn = e_dr-e_nr\n",
    "q_d = q+e_dr\n",
    "q_n = q+e_nr"
   ]
  },
  {
   "cell_type": "code",
   "execution_count": 26,
   "metadata": {},
   "outputs": [],
   "source": [
    "from pkg.utils.joint_utils import *"
   ]
  },
  {
   "cell_type": "code",
   "execution_count": 27,
   "metadata": {},
   "outputs": [
    {
     "data": {
      "text/plain": [
       "(['to_link', 'joint_dict', 'urdf_content'], {'from_link': 'base_link'})"
      ]
     },
     "execution_count": 27,
     "metadata": {},
     "output_type": "execute_result"
    }
   ],
   "source": [
    "inspect_arguments(get_tf)"
   ]
  },
  {
   "cell_type": "code",
   "execution_count": 28,
   "metadata": {},
   "outputs": [],
   "source": [
    "Fe_list = []\n",
    "for i in range(len(q)):\n",
    "    Tbe = get_tf(\"indy0_tcp\", list2dict(q[i], gscene.joint_names), gscene.urdf_content)\n",
    "    Fe = np.matmul(Tbe[:3,:3].transpose(), Fext[i,:3])\n",
    "    Fe_list.append(Fe)"
   ]
  },
  {
   "cell_type": "code",
   "execution_count": 29,
   "metadata": {},
   "outputs": [],
   "source": [
    "import matplotlib.pyplot as plt"
   ]
  },
  {
   "cell_type": "code",
   "execution_count": 30,
   "metadata": {},
   "outputs": [
    {
     "data": {
      "image/png": "[encoded data removed]",
      "text/plain": [
       "<Figure size 432x288 with 1 Axes>"
      ]
     },
     "metadata": {
      "needs_background": "light"
     },
     "output_type": "display_data"
    }
   ],
   "source": [
    "plt.plot(np.negative(Fe_list))\n",
    "plt.grid(True)"
   ]
  },
  {
   "cell_type": "code",
   "execution_count": 34,
   "metadata": {},
   "outputs": [],
   "source": [
    "import numpy as np\n",
    "np.savetxt('ForceData.csv',Fe_list,delimiter=\",\")"
   ]
  },
  {
   "cell_type": "code",
   "execution_count": null,
   "metadata": {},
   "outputs": [],
   "source": []
  }
 ],
 "metadata": {
  "kernelspec": {
   "display_name": "Python 2",
   "language": "python",
   "name": "python2"
  },
  "language_info": {
   "codemirror_mode": {
    "name": "ipython",
    "version": 2
   },
   "file_extension": ".py",
   "mimetype": "text/x-python",
   "name": "python",
   "nbconvert_exporter": "python",
   "pygments_lexer": "ipython2",
   "version": "2.7.17"
  }
 },
 "nbformat": 4,
 "nbformat_minor": 2
}
