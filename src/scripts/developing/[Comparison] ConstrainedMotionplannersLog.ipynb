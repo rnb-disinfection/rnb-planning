{
 "cells": [
  {
   "cell_type": "markdown",
   "metadata": {},
   "source": [
    "### Constrained motion planning instability problem\n",
    "#### with virtual plane\n",
    "```\n",
    "BKPIECEkConfigDefault:     30617.1 ms/100 = 306.2 ms (45.038/900.671)\n",
    "KPIECEkConfigDefault:     40873.6 ms/100 = 408.7 ms (19.622/1969.107)\n",
    "RRTkConfigDefault:     43292.3 ms/100 = 432.9 ms (18.505/2624.852)\n",
    "RRTConnectkConfigDefault:     27144.7 ms/5 = 5428.9 ms (251.446/7565.886)\n",
    "LBKPIECEkConfigDefault:     43063.5 ms/5 = 8612.7 ms (5521.325/10175.108)\n",
    "```\n",
    "- BKPIECE < KPIECE < RRT\n",
    "\n",
    "#### with detected plane\n",
    "```\n",
    "BKPIECEkConfigFine: \t226720.7 ms/100 = 2267.2 ms (69.937/10082.002)\n",
    "KPIECEkConfigFine: \t44196.6 ms/100 = 442.0 ms (46.311/1800.006)\n",
    "RRTkConfigFine: \t9627.6 ms/100 = 96.3 ms (39.244/344.946)\n",
    "BKPIECEkConfigBad: \t100600.4 ms/10 = 10060.0 ms (10027.311/10100.471)\n",
    "KPIECEkConfigBad: \t77786.7 ms/10 = 7778.7 ms (418.654/10314.316)\n",
    "RRTkConfigBad: \t100182.4 ms/10 = 10018.2 ms (10011.62/10033.246)\n",
    "```\n",
    "  - Fine 케이스에서 RRT < KPIECE < BKPIECE, Bad 케이스에서 KPIECE < RRT,BKPIECE로 ***virtual 실험과 다른 경향***\n",
    "  - 좌표계와 정렬이 안된 게 퍼포먼스에 영향? - 아님\n",
    "    - plane 좌표계 정렬 시 - 차이 없음\n",
    "    ```\n",
    "    BKPIECEkConfigFine: \t256170.0 ms/100 = 2561.7 ms (110.218/10085.097)\n",
    "    KPIECEkConfigFine: \t51639.0 ms/100 = 516.4 ms (45.206/4278.697)\n",
    "    RRTkConfigFine: \t8345.3 ms/100 = 83.5 ms (40.361/254.023)\n",
    "    BKPIECEkConfigBad: \t100390.1 ms/10 = 10039.0 ms (10020.31/10081.335)\n",
    "    KPIECEkConfigBad: \t67244.2 ms/10 = 6724.4 ms (544.676/10235.968)\n",
    "    RRTkConfigBad: \t100197.3 ms/10 = 10019.7 ms (10013.146/10033.654)\n",
    "    ```\n",
    "    - 로봇 좌표계까지 정렬 시\n",
    "    ```\n",
    "    BKPIECEkConfigFine: \t7481.8 ms/10 = 748.2 ms (112.028/1916.677)\n",
    "    KPIECEkConfigFine: \t6193.5 ms/10 = 619.3 ms (59.914/1562.995)\n",
    "    RRTkConfigFine: \t673.7 ms/10 = 67.4 ms (37.57/124.372)\n",
    "    BKPIECEkConfigBad: \t100514.2 ms/10 = 10051.4 ms (10029.246/10087.536)\n",
    "    KPIECEkConfigBad: \t78809.0 ms/10 = 7880.9 ms (115.464/10189.973)\n",
    "    RRTkConfigBad: \t100183.0 ms/10 = 10018.3 ms (10012.292/10043.563)\n",
    "    ```\n",
    "    - 위치 이동 시 (singularity 벗어남)\n",
    "    ```\n",
    "    BKPIECEkConfigFine: \t34645.1 ms/20 = 1732.3 ms (71.716/7965.63)\n",
    "    KPIECEkConfigFine: \t6206.0 ms/20 = 310.3 ms (51.943/1301.905)\n",
    "    RRTkConfigFine: \t2056.1 ms/20 = 102.8 ms (42.116/197.287)\n",
    "    BKPIECEkConfigBad: \t9200.0 ms/5 = 1840.0 ms (225.816/5248.372)\n",
    "    KPIECEkConfigBad: \t5768.9 ms/5 = 1153.8 ms (318.394/1767.999)\n",
    "    RRTkConfigBad: \t485.6 ms/5 = 97.1 ms (74.2/126.474)\n",
    "    ```\n",
    "    - 모든 변형 시나리오에서 경향성 동일하게 관찰\n",
    " \n",
    "  - Virtual 결과 일관적이지 않음, 대량 실험 해서 경향성 세밀 분석 - virtual에서 좁은 트랙 설정하지 않은 것이 원인\n",
    "    - 3m 넓은 트랙, 90% inlier\n",
    "    ```\n",
    "    BKPIECEkConfigDefault - 364.211755329 ms  - 1\n",
    "    KPIECEkConfigDefault - 1111.92541652 ms    - 3\n",
    "    RRTkConfigDefault - 480.864795049 ms         - 2\n",
    "    RRTConnectkConfigDefault:     5428.9 ms        - 4\n",
    "    ```\n",
    "    - 0.5m 좁은 트랙, 90% inlier\n",
    "    ```\n",
    "    BKPIECEkConfigDefault - 951.631975174 ms   - 3\n",
    "    KPIECEkConfigDefault - 351.74937778 ms       - 2\n",
    "    RRTkConfigDefault - 73.9153014289 ms          - 1\n",
    "    RRTConnectkConfigDefault: 8024.9 ms             - 4\n",
    "    ```\n",
    "  - **잠정 결론:**\n",
    "    - 넓은 평면에서는 BKPIECE가 효용이 있으나 좁은 면에선 KPIECE가 나음\n",
    "    - KPIECE는 넓은 면에서 성능 저하가 심함\n",
    "    - 종합적으로는 그냥 RRT-Connect는 좁은면, 넓은 면 모두 성능 매우 떨어짐\n",
    "    - 종합적으로는 그냥 RRT가 안정적이게 우수  \n",
    "    \n",
    "    \n",
    "  - **추가 문제 발생 시 의문 사항:**\n",
    "    - Bad 케이스 KPIECE로 만들어진 경로는 실제 동작도 유효한지? 불연속한 경로 아닌지?\n",
    "    - 실험 코드의 구속 조건 자체에 오류?"
   ]
  },
  {
   "cell_type": "markdown",
   "metadata": {},
   "source": [
    "### (Old) ConstrainedSpace 성능 비교 (1 line sweep)\n",
    "* ConstrainedSpace 성능 비교 (1 line sweep) --> Atlas로 결정\n",
    "  * Projected: 평균 5초 수준, 10초 성공률 70% 수준, std/max error 0.1mm/0.5mm\n",
    "  * Atlas: 중간값 130ms 수준, 평균 170ms 수준, 10초 성공률 100% 수준, std/max error 0.1mm/0.5mm\n",
    "  * TangentBundle:  중간값 30 ms 수준, 평균 500ms 수준, 10초 성공률 96% 수준, std/max error 0.5mm/3mm\n",
    "  \n",
    "* Constraint - 방향 두개 동시는 속도 현저히 떨어짐\n",
    "  * Atlas를 써도 느림, TangentBundle 쓰면 빠름\n",
    "  * BOX를 쓰면 수렴 못함 (discontinuity), PLANE 쓰면 그나마 가능, \n",
    "  * PLANE+TangentBundle 쓰면 어느정도 가능해지지만 미수렴 확률 높음, 불안정.\n",
    "  * 평행점 추가 방식은 그나마 수렴, 하지만 ATLAS는 여전히 느리고 TANGENT는 에러가 너무 큼\n",
    "  * 평행점 추가 + ATLAS는 긴 거리 이동 시에는 수렴성 매우 낮음\n",
    "  * 에러 때문에 tol 줄이면 오히려 속도 감소폭이 훨씬 큼\n",
    "  * 에러 감수하고 평행점 추가 + TANGENT가 현실적."
   ]
  },
  {
   "cell_type": "code",
   "execution_count": null,
   "metadata": {},
   "outputs": [],
   "source": []
  },
  {
   "cell_type": "markdown",
   "metadata": {},
   "source": [
    "## set running directory to project source"
   ]
  },
  {
   "cell_type": "code",
   "execution_count": null,
   "metadata": {},
   "outputs": [],
   "source": [
    "import os\n",
    "import numpy as np\n",
    "import time\n",
    "os.chdir(os.path.join(os.environ[\"RNB_PLANNING_DIR\"], 'src'))\n",
    "import matplotlib.pyplot as plt"
   ]
  },
  {
   "cell_type": "code",
   "execution_count": null,
   "metadata": {},
   "outputs": [],
   "source": []
  },
  {
   "cell_type": "markdown",
   "metadata": {},
   "source": [
    "## 4.1 PlanningScene"
   ]
  },
  {
   "cell_type": "markdown",
   "metadata": {},
   "source": [
    "##### initialize CombinedRobot and GeometryScene"
   ]
  },
  {
   "cell_type": "code",
   "execution_count": null,
   "metadata": {},
   "outputs": [],
   "source": [
    "from pkg.controller.combined_robot import *\n",
    "from pkg.project_config import *\n",
    "from pkg.geometry.builder.scene_builder import SceneBuilder\n",
    "\n",
    "s_builder = SceneBuilder(None)   # create scene builder without detector for virtual scene\n",
    "crob = CombinedRobot(robots_on_scene=[\n",
    "    RobotConfig(0, RobotType.indy7, ((0,-0.7,0), (0,0,0)), None),\n",
    "    RobotConfig(1, RobotType.panda, ((0,0.1,0), (0,0,0)), None)]\n",
    "                     , connection_list=[False])\n",
    "gscene = s_builder.create_gscene(crob)\n",
    "gtems = s_builder.add_robot_geometries(color=(0,1,0,0.5), display=True, collision=True)\n",
    "gscene.show_pose(crob.home_pose)"
   ]
  },
  {
   "cell_type": "markdown",
   "metadata": {},
   "source": [
    "##### add geometries"
   ]
  },
  {
   "cell_type": "code",
   "execution_count": null,
   "metadata": {},
   "outputs": [],
   "source": [
    "from pkg.geometry.geometry import *\n",
    "\n",
    "# add environments (fixed=True for non-movable geometries)\n",
    "wall = gscene.create_safe(GEOTYPE.BOX, \"wall\", \"base_link\", (3,3,0.01), (-0.2,0,0), \n",
    "                           rpy=(0,np.pi/2,0), color=(0.8,0.8,0.8,0.5), display=True, fixed=True, collision=True)\n",
    "floor = gscene.create_safe(GEOTYPE.BOX, \"floor\", \"base_link\", (3,3,0.01), (0,0,0), \n",
    "                           rpy=(0,0,0), color=(0.8,0.8,0.8,0.5), display=True, fixed=True, collision=True)\n",
    "track = gscene.create_safe(GEOTYPE.BOX, \"track\", \"base_link\", (0.5,0.5,0.01), (0.4,-0.3,0.01), \n",
    "                           rpy=(0,0,0), color=(0.8,0.8,0.8,0.5), display=True, fixed=True, collision=True, parent='floor')\n",
    "wp1 = gscene.create_safe(GEOTYPE.BOX, \"wp1\", \"base_link\", (0.1,0.1,0.01), (-0.2,0,0),rpy=(0,0,0), \n",
    "                         color=(0.8,0.2,0.2,1), display=True, fixed=True, collision=False, parent=\"track\")\n",
    "wp2 = gscene.create_safe(GEOTYPE.BOX, \"wp2\", \"base_link\", (0.1,0.1,0.01), (0.2,0,0), rpy=(0,0,0), \n",
    "                         color=(0.8,0.2,0.2,1), display=True, fixed=True, collision=False, parent=\"track\")\n",
    "goal = gscene.create_safe(GEOTYPE.BOX, \"goal\", \"base_link\", (0.1,0.1,0.01), (0.3,-0.4,0.01), \n",
    "                          rpy=(0,0,0), color=(0.2,0.2,0.8,1), display=True, fixed=True, collision=False)\n",
    " \n",
    "# add movable (fixed=False for movable geometries)\n",
    "box1 = gscene.create_safe(GEOTYPE.BOX, \"box1\", \"base_link\", (0.05,0.05,0.05), (0.3,0.4,0.031), \n",
    "                          rpy=(0,0,0), color=(0.8,0.2,0.2,1), display=True, fixed=False, collision=True)\n",
    "\n",
    "obstacle = gscene.create_safe(GEOTYPE.BOX, \"obstacle\", \"base_link\", (0.05,0.05,0.05), (0.5,0.4,0.031), \n",
    "                          rpy=(0,0,0), color=(0.8,0.8,0.2,1), display=True, fixed=False, collision=True)"
   ]
  },
  {
   "cell_type": "code",
   "execution_count": null,
   "metadata": {},
   "outputs": [],
   "source": []
  },
  {
   "cell_type": "markdown",
   "metadata": {},
   "source": [
    "##### create PlanningScene"
   ]
  },
  {
   "cell_type": "code",
   "execution_count": null,
   "metadata": {},
   "outputs": [],
   "source": [
    "from pkg.planning.scene import PlanningScene\n",
    "pscene = PlanningScene(gscene, combined_robot=crob)"
   ]
  },
  {
   "cell_type": "code",
   "execution_count": null,
   "metadata": {},
   "outputs": [],
   "source": []
  },
  {
   "cell_type": "markdown",
   "metadata": {},
   "source": [
    "##### create_binder\n",
    "- Binders (or Actors) are binding points where objects can be attached (or binded)\n",
    "- Examples are \n",
    "  - PlacePlane: plane for object placement\n",
    "  - Gripper2Tool: 2-finger gripper tool for grasp objects\n",
    "  - SweepTool: action point to pass waypoints for sweep task"
   ]
  },
  {
   "cell_type": "code",
   "execution_count": null,
   "metadata": {},
   "outputs": [],
   "source": [
    "from pkg.planning.constraint.constraint_actor import PlacePlane, Gripper2Tool, SweepFramer"
   ]
  },
  {
   "cell_type": "code",
   "execution_count": null,
   "metadata": {},
   "outputs": [],
   "source": [
    "# create PlacePlane on geometry \"floor\" and \"goal\"\n",
    "# when point is not set, the entire upper surface of the geometry becomes valid binding area.\n",
    "# when point is set, the specific point becomes the only valid binding point.\n",
    "pscene.create_binder(bname=\"track\", gname=\"track\", _type=PlacePlane)\n",
    "pscene.create_binder(bname=\"goal\", gname=\"goal\", _type=PlacePlane, point=(0,0,0.005))"
   ]
  },
  {
   "cell_type": "code",
   "execution_count": null,
   "metadata": {},
   "outputs": [],
   "source": [
    "# add collision boundary for gripper base\n",
    "# - set link_name=\"indy0_tcp\" to attach the geometry to end-effector link\n",
    "# - it can be labeled as fixed=True, as it is \"fixed\" on the indy0_tcp link\n",
    "gripper =  gscene.create_safe(GEOTYPE.BOX, \"gripper\", link_name=\"indy0_tcp\", \n",
    "                                dims=(0.02,0.1,0.1), center=(0,0,0.05), rpy=(0,0,0), \n",
    "                                color=(0.8,0.2,0.2,0.5), display=True, fixed=True, collision=True)\n",
    "\n",
    "# add gripper fingers - By setting parent=\"gripper\", the position of geometry can be set relative to the parent geometry\n",
    "finger1 =  gscene.create_safe(GEOTYPE.BOX, \"finger1\", link_name=\"indy0_tcp\",\n",
    "                              dims=(0.04,0.02,0.1), center=(0,0.05,0.07), rpy=(0,0,0), \n",
    "                              color=(0.8,0.2,0.2,0.5), display=True, fixed=True, collision=True, parent=\"gripper\")\n",
    "finger2 =  gscene.create_safe(GEOTYPE.BOX, \"finger2\", link_name=\"indy0_tcp\", \n",
    "                              dims=(0.04,0.02,0.1), center=(0,-0.05,0.07), rpy=(0,0,0), \n",
    "                              color=(0.8,0.2,0.2,0.5), display=True, fixed=True, collision=True, parent=\"gripper\")\n",
    "\n",
    "# create Gripper2Tool binder\n",
    "# Gripper2Tool is a 2-finger gripper, which can rotate along z-direction.\n",
    "# To align the z-direction with the 2 fingers, rotate by 90 degree along roll axis.\n",
    "# The gripping point is (0,0,0.11) in local coordinate of \"gripper\" geometry\n",
    "pscene.create_binder(bname=\"grip0\", gname=\"gripper\", _type=Gripper2Tool, point=(0,0,0.11), rpy=(-np.pi/2,0,0))"
   ]
  },
  {
   "cell_type": "code",
   "execution_count": null,
   "metadata": {},
   "outputs": [],
   "source": [
    "# Add virtual (no-collision) sweep face. the point is 0.2 m away from the \"indy0_tcp\" link\n",
    "# To match the z-direction with the target surface, the geometry is rotated 180 degrees in pitch-axis.\n",
    "sweep_face =  gscene.create_safe(GEOTYPE.BOX, \"sweep_face\", link_name=\"indy0_tcp\", \n",
    "                                dims=(0.05,0.05,0.001), center=(0,0,0.2), rpy=(0,np.pi,0), \n",
    "                                color=(0.2,0.2,0.8,0.1), display=True, fixed=True, collision=False)\n",
    "sweep_face =  gscene.create_safe(GEOTYPE.BOX, \"sweep_face_col\", link_name=\"indy0_tcp\", \n",
    "                                dims=(0.15,0.15,0.05), center=(0,0,0.2-0.03), rpy=(0,np.pi,0), \n",
    "                                color=(0.2,0.2,0.8,0.1), display=True, fixed=True, collision=True)\n",
    "                                 \n",
    "# create SweepTool binder\n",
    "pscene.create_binder(bname=\"sweep_face\", gname=\"sweep_face\", _type=SweepFramer, point=(0,0,0), rpy=(0,0,0))"
   ]
  },
  {
   "cell_type": "code",
   "execution_count": null,
   "metadata": {},
   "outputs": [],
   "source": []
  },
  {
   "cell_type": "markdown",
   "metadata": {},
   "source": [
    "##### create_subject\n",
    "* Subject describes the tasks in the planning scene.\n",
    "* There are 2 categories in subject:\n",
    "  1. Object: The object has grip points and placement points for pick&place task\n",
    "  2. Task: The task is can be any non-physical task. Check SweepLineTask for example\n",
    "* The subjects can be composed of multiple action points. Examples are:\n",
    "  1. Grasp2Point: grasping point for 2-finger gripper. \n",
    "  2. PlacePoint: The point to place object.\n",
    "  3. SweepPoint: A waypoint for SweepLineTask.\n",
    "  * The above 3 action points inherit DirectePoint, for which the orientation is free along z-axis. \n",
    "  * If \"point\" parameter is not set, the entire upper surface is becomes valid action area."
   ]
  },
  {
   "cell_type": "code",
   "execution_count": null,
   "metadata": {},
   "outputs": [],
   "source": [
    "from pkg.planning.constraint.constraint_subject import Grasp2Point, PlacePoint, SweepFrame\n",
    "from pkg.planning.constraint.constraint_subject import CustomObject, SweepLineTask"
   ]
  },
  {
   "cell_type": "code",
   "execution_count": null,
   "metadata": {},
   "outputs": [],
   "source": [
    "## create box object with grasping points along positive & negative y-direction and placement point in the bottom face\n",
    "box_obj = pscene.create_subject(oname=\"box1\", gname=\"box1\", _type=CustomObject, \n",
    "                             action_points_dict = {\n",
    "                                 \"handle1\": Grasp2Point(\"handle1\", box1, [0,0,0], [-np.pi/2,0,0]),\n",
    "                                 \"handle2\": Grasp2Point(\"handle2\", box1, [0,0,0], [np.pi/2,0,0]),\n",
    "                                 \"bottom\": PlacePoint(\"bottom\", box1, [0,0,-0.026], [0,0,0])})"
   ]
  },
  {
   "cell_type": "code",
   "execution_count": null,
   "metadata": {},
   "outputs": [],
   "source": [
    "## create sweep task with 2 waypoints\n",
    "sweep = pscene.create_subject(oname=\"sweep\", gname=\"track\", _type=SweepLineTask, \n",
    "                             action_points_dict = {\"wp1\": SweepFrame(\"wp1\", wp1, [0,0,wp1.dims[2]/2], [0,0,0]),\n",
    "                                                   \"wp2\": SweepFrame(\"wp2\", wp2, [0,0,wp2.dims[2]/2], [0,0,0])}\n",
    "                             )"
   ]
  },
  {
   "cell_type": "code",
   "execution_count": null,
   "metadata": {},
   "outputs": [],
   "source": []
  },
  {
   "cell_type": "markdown",
   "metadata": {},
   "source": [
    "##### initialize_state\n",
    "* initialize_state(robot_pose) updates robot pose and gets corresponding binding status of current scene.\n",
    "* state.node of ('floor', 0) means the first subject (object) is placed on the floor and the second subject (sweep) has passed 0 waypoints"
   ]
  },
  {
   "cell_type": "code",
   "execution_count": null,
   "metadata": {},
   "outputs": [],
   "source": [
    "initial_state = pscene.initialize_state(crob.home_pose)\n",
    "print(initial_state.node)"
   ]
  },
  {
   "cell_type": "code",
   "execution_count": null,
   "metadata": {},
   "outputs": [],
   "source": []
  },
  {
   "cell_type": "markdown",
   "metadata": {},
   "source": [
    "## 4.2 MotionPlanner"
   ]
  },
  {
   "cell_type": "markdown",
   "metadata": {},
   "source": [
    "##### MoveitPlanner\n",
    "* *get_available_binding_dict()* gets available binding states for each subject in a dictionary\n",
    "* *sample_leaf_state samples()* target state with given available_binding_dict and target node\n",
    "* *rebind_all()* updates binding state and returns the resultant state\n",
    "* The motions tested in this section are:\n",
    "  - pick: move the object to \"gripper\"\n",
    "  - place: move the object to \"goal\"\n",
    "  - sweep: \n",
    "    1) approach to waypoint 1\n",
    "    2) sweep to waypoint 2\n",
    "    3) return to home pose"
   ]
  },
  {
   "cell_type": "code",
   "execution_count": null,
   "metadata": {},
   "outputs": [],
   "source": [
    "from pkg.planning.motion.moveit.moveit_planner import MoveitPlanner\n",
    "mplan = MoveitPlanner(pscene)"
   ]
  },
  {
   "cell_type": "code",
   "execution_count": null,
   "metadata": {},
   "outputs": [],
   "source": [
    "from pkg.planning.motion.moveit.moveit_py import ConstrainedSpaceType, PlannerConfig"
   ]
  },
  {
   "cell_type": "code",
   "execution_count": null,
   "metadata": {},
   "outputs": [],
   "source": [
    "gtimer=GlobalTimer.instance()\n",
    "gtimer.reset()\n",
    "# sweep motion 1 - reach the first waypoint\n",
    "from_state = initial_state.copy(pscene)\n",
    "from_state.Q = crob.home_pose\n",
    "to_node = (\"track\", 1)\n",
    "for _ in range(20):\n",
    "    available_binding_dict = pscene.get_available_binding_dict(from_state, to_node)\n",
    "    to_state, redundancy_dict = pscene.sample_leaf_state(from_state, available_binding_dict, to_node)\n",
    "    with gtimer.block(\"plan\"):\n",
    "        Traj, LastQ, error, success, binding_list = mplan.plan_transition(from_state, to_state, redundancy_dict, timeout=10, \n",
    "                                                                          plannerconfig=PlannerConfig.RRTConnectkConfigDefault)\n",
    "    if success:\n",
    "        if np.abs(LastQ[0])<np.pi/2: # else, it will fail in sweep motion\n",
    "            break\n",
    "if success:\n",
    "    pscene.set_object_state(from_state)\n",
    "    gscene.show_motion(Traj, period=0.05)\n",
    "    sweep1_state = pscene.rebind_all(binding_list, LastQ)\n",
    "else:\n",
    "    print(\"Solution not found. Please try again, try to find error if it keeps failing.\")\n",
    "    raise(RuntimeError(\"Motion plan failure\"))"
   ]
  },
  {
   "cell_type": "code",
   "execution_count": null,
   "metadata": {},
   "outputs": [],
   "source": [
    "print(gtimer)"
   ]
  },
  {
   "cell_type": "code",
   "execution_count": null,
   "metadata": {},
   "outputs": [],
   "source": [
    "gscene.show_pose(crob.home_pose)"
   ]
  },
  {
   "cell_type": "code",
   "execution_count": null,
   "metadata": {},
   "outputs": [],
   "source": []
  },
  {
   "cell_type": "markdown",
   "metadata": {},
   "source": [
    "## Comparison test - constrained motion"
   ]
  },
  {
   "cell_type": "code",
   "execution_count": null,
   "metadata": {},
   "outputs": [],
   "source": [
    "sweep.fix_direction = True"
   ]
  },
  {
   "cell_type": "code",
   "execution_count": null,
   "metadata": {
    "scrolled": true
   },
   "outputs": [],
   "source": [
    "gtimer=GlobalTimer.instance()\n",
    "gtimer.reset()\n",
    "from_state = sweep1_state.copy(pscene)\n",
    "to_node = (\"track\", 2)\n",
    "available_binding_dict = pscene.get_available_binding_dict(from_state, to_node)\n",
    "to_state, redundancy_dict = pscene.sample_leaf_state(from_state, available_binding_dict, to_node)\n",
    "LOOP_MAX = 5\n",
    "for i_loop in range(LOOP_MAX):\n",
    "    with gtimer.block(\"BKPIECEkConfigDefault\", stack=True):\n",
    "        Traj, LastQ, error, success, binding_list = mplan.plan_transition(\n",
    "            from_state, to_state, redundancy_dict, timeout=10, \n",
    "            plannerconfig=PlannerConfig.BKPIECEkConfigDefault, \n",
    "            cs_type=ConstrainedSpaceType.PROJECTED)\n",
    "    with gtimer.block(\"KPIECEkConfigDefault\", stack=True):\n",
    "        Traj, LastQ, error, success, binding_list = mplan.plan_transition(\n",
    "            from_state, to_state, redundancy_dict, timeout=10, \n",
    "            plannerconfig=PlannerConfig.KPIECEkConfigDefault, \n",
    "            cs_type=ConstrainedSpaceType.PROJECTED)\n",
    "    with gtimer.block(\"RRTkConfigDefault\", stack=True):\n",
    "        Traj, LastQ, error, success, binding_list = mplan.plan_transition(\n",
    "            from_state, to_state, redundancy_dict, timeout=10, \n",
    "            plannerconfig=PlannerConfig.RRTkConfigDefault, \n",
    "            cs_type=ConstrainedSpaceType.PROJECTED)\n",
    "    print(\"=== loop count = {} / {} ===\".format(i_loop, LOOP_MAX))\n",
    "    \n",
    "LOOP_MAX = 5\n",
    "for i_loop in range(LOOP_MAX):\n",
    "#     with gtimer.block(\"LBKPIECEkConfigDefault\"):\n",
    "#         Traj, LastQ, error, success, binding_list = mplan.plan_transition(\n",
    "#             from_state, to_state, redundancy_dict, timeout=10, \n",
    "#             plannerconfig=PlannerConfig.LBKPIECEkConfigDefault, \n",
    "#             cs_type=ConstrainedSpaceType.PROJECTED)\n",
    "    with gtimer.block(\"RRTConnectkConfigDefault\"):\n",
    "        Traj, LastQ, error, success, binding_list = mplan.plan_transition(\n",
    "            from_state, to_state, redundancy_dict, timeout=10, \n",
    "            plannerconfig=PlannerConfig.RRTConnectkConfigDefault, \n",
    "            cs_type=ConstrainedSpaceType.PROJECTED)\n",
    "    print(\"=== loop count = {} / {} ===\".format(i_loop, LOOP_MAX))\n",
    "print(success)\n",
    "print(gtimer)"
   ]
  },
  {
   "cell_type": "code",
   "execution_count": null,
   "metadata": {
    "scrolled": true
   },
   "outputs": [],
   "source": [
    "print(gtimer)"
   ]
  },
  {
   "cell_type": "markdown",
   "metadata": {},
   "source": [
    "### log - from off position to left floor, near to far, w. panda, collision body 15cm clearance 5mm, floating 3m track"
   ]
  },
  {
   "cell_type": "code",
   "execution_count": null,
   "metadata": {},
   "outputs": [],
   "source": [
    "KEY_LIST = []\n",
    "for k, v in gtimer.timelist_dict.items():\n",
    "    v = sorted(v)[:int(len(v)*0.9)]\n",
    "    plt.plot(np.arange(len(v))+1, sorted(v), 'o')\n",
    "    KEY_LIST.append(k)\n",
    "    print(\"{} - {} ms\".format(k, np.mean(v)))\n",
    "plt.legend(KEY_LIST)\n",
    "plt.grid()"
   ]
  },
  {
   "cell_type": "code",
   "execution_count": null,
   "metadata": {},
   "outputs": [],
   "source": [
    "KEY_LIST = []\n",
    "for k, v in gtimer.timelist_dict.items():\n",
    "    v = sorted(v)[int(len(v)*0.9):]\n",
    "    plt.plot(np.arange(len(v))+1, sorted(v), 'o')\n",
    "    KEY_LIST.append(k)\n",
    "    print(\"{} - {} ms\".format(k, np.mean(v)))\n",
    "plt.legend(KEY_LIST)\n",
    "plt.grid()"
   ]
  },
  {
   "cell_type": "code",
   "execution_count": null,
   "metadata": {},
   "outputs": [],
   "source": []
  },
  {
   "cell_type": "code",
   "execution_count": null,
   "metadata": {},
   "outputs": [],
   "source": []
  },
  {
   "cell_type": "code",
   "execution_count": null,
   "metadata": {},
   "outputs": [],
   "source": []
  },
  {
   "cell_type": "markdown",
   "metadata": {},
   "source": [
    "# ================= STOP! PRESEVE LOG! ======================"
   ]
  },
  {
   "cell_type": "markdown",
   "metadata": {},
   "source": [
    "# ================= STOP! PRESEVE LOG! ======================"
   ]
  },
  {
   "cell_type": "markdown",
   "metadata": {},
   "source": [
    "# ================= STOP! PRESEVE LOG! ======================"
   ]
  },
  {
   "cell_type": "markdown",
   "metadata": {},
   "source": [
    "# ================= STOP! PRESEVE LOG! ======================"
   ]
  },
  {
   "cell_type": "markdown",
   "metadata": {},
   "source": [
    "# ================= STOP! PRESEVE LOG! ======================"
   ]
  },
  {
   "cell_type": "markdown",
   "metadata": {},
   "source": [
    "# ================= STOP! PRESEVE LOG! ======================"
   ]
  },
  {
   "cell_type": "markdown",
   "metadata": {},
   "source": [
    "# ================= STOP! PRESEVE LOG! ======================"
   ]
  },
  {
   "cell_type": "markdown",
   "metadata": {},
   "source": [
    "### log - from off position to left floor, near to far, w. panda, collision body 15cm clearance 5mm, floating 3m track"
   ]
  },
  {
   "cell_type": "code",
   "execution_count": null,
   "metadata": {},
   "outputs": [],
   "source": [
    "KEY_LIST = []\n",
    "for k, v in gtimer.timelist_dict.items():\n",
    "    v = sorted(v)[:int(len(v)*0.9)]\n",
    "    plt.plot(np.arange(len(v))+1, sorted(v), 'o')\n",
    "    KEY_LIST.append(k)\n",
    "    print(\"{} - {} ms\".format(k, np.mean(v)))\n",
    "plt.legend(KEY_LIST)\n",
    "plt.grid()"
   ]
  },
  {
   "cell_type": "code",
   "execution_count": null,
   "metadata": {},
   "outputs": [],
   "source": [
    "KEY_LIST = []\n",
    "for k, v in gtimer.timelist_dict.items():\n",
    "    v = sorted(v)[int(len(v)*0.9):]\n",
    "    plt.plot(np.arange(len(v))+1, sorted(v), 'o')\n",
    "    KEY_LIST.append(k)\n",
    "    print(\"{} - {} ms\".format(k, np.mean(v)))\n",
    "plt.legend(KEY_LIST)\n",
    "plt.grid()"
   ]
  },
  {
   "cell_type": "markdown",
   "metadata": {},
   "source": [
    "### log - from off position to left floor, near to far, w. panda, collision body 15cm clearance 5mm, floating 50cm track"
   ]
  },
  {
   "cell_type": "code",
   "execution_count": null,
   "metadata": {},
   "outputs": [],
   "source": [
    "KEY_LIST = []\n",
    "for k, v in gtimer.timelist_dict.items():\n",
    "    v = sorted(v)[:int(len(v)*0.9)]\n",
    "    plt.plot(np.arange(len(v))+1, sorted(v), 'o')\n",
    "    KEY_LIST.append(k)\n",
    "    print(\"{} - {} ms\".format(k, np.mean(v)))\n",
    "plt.legend(KEY_LIST)\n",
    "plt.grid()"
   ]
  },
  {
   "cell_type": "code",
   "execution_count": null,
   "metadata": {},
   "outputs": [],
   "source": [
    "KEY_LIST = []\n",
    "for k, v in gtimer.timelist_dict.items():\n",
    "    v = sorted(v)[int(len(v)*0.9):]\n",
    "    plt.plot(np.arange(len(v))+1, sorted(v), 'o')\n",
    "    KEY_LIST.append(k)\n",
    "    print(\"{} - {} ms\".format(k, np.mean(v)))\n",
    "plt.legend(KEY_LIST)\n",
    "plt.grid()"
   ]
  },
  {
   "cell_type": "markdown",
   "metadata": {},
   "source": [
    "### log - from off position to left floor, near to far, w. panda, collision body 15cm clearance 5mm"
   ]
  },
  {
   "cell_type": "code",
   "execution_count": null,
   "metadata": {},
   "outputs": [],
   "source": [
    "KEY_LIST = []\n",
    "for k, v in gtimer.timelist_dict.items():\n",
    "    v = sorted(v)[:int(len(v)*0.9)]\n",
    "    plt.plot(np.arange(len(v))+1, sorted(v), 'o')\n",
    "    KEY_LIST.append(k)\n",
    "    print(\"{} - {} ms\".format(k, np.mean(v)))\n",
    "plt.legend(KEY_LIST)\n",
    "plt.grid()"
   ]
  },
  {
   "cell_type": "code",
   "execution_count": null,
   "metadata": {},
   "outputs": [],
   "source": [
    "KEY_LIST = []\n",
    "for k, v in gtimer.timelist_dict.items():\n",
    "    v = sorted(v)[int(len(v)*0.9):]\n",
    "    plt.plot(np.arange(len(v))+1, sorted(v), 'o')\n",
    "    KEY_LIST.append(k)\n",
    "    print(\"{} - {} ms\".format(k, np.mean(v)))\n",
    "plt.legend(KEY_LIST)\n",
    "plt.grid()"
   ]
  },
  {
   "cell_type": "markdown",
   "metadata": {},
   "source": [
    "### log - from off position to left floor, near to far, w. panda, collision body 10cm clearance 5mm"
   ]
  },
  {
   "cell_type": "code",
   "execution_count": null,
   "metadata": {},
   "outputs": [],
   "source": [
    "KEY_LIST = []\n",
    "for k, v in gtimer.timelist_dict.items():\n",
    "    v = sorted(v)[:int(len(v)*0.9)]\n",
    "    plt.plot(np.arange(len(v))+1, sorted(v), 'o')\n",
    "    KEY_LIST.append(k)\n",
    "    print(\"{} - {} ms\".format(k, np.mean(v)))\n",
    "plt.legend(KEY_LIST)\n",
    "plt.grid()"
   ]
  },
  {
   "cell_type": "code",
   "execution_count": null,
   "metadata": {},
   "outputs": [],
   "source": [
    "KEY_LIST = []\n",
    "for k, v in gtimer.timelist_dict.items():\n",
    "    v = sorted(v)[int(len(v)*0.9):]\n",
    "    plt.plot(np.arange(len(v))+1, sorted(v), 'o')\n",
    "    KEY_LIST.append(k)\n",
    "    print(\"{} - {} ms\".format(k, np.mean(v)))\n",
    "plt.legend(KEY_LIST)\n",
    "plt.grid()"
   ]
  },
  {
   "cell_type": "markdown",
   "metadata": {},
   "source": [
    "### log - from off position to left floor, near to far, w. panda"
   ]
  },
  {
   "cell_type": "code",
   "execution_count": null,
   "metadata": {},
   "outputs": [],
   "source": [
    "KEY_LIST = []\n",
    "for k, v in gtimer.timelist_dict.items():\n",
    "    v = sorted(v)[:int(len(v)*0.9)]\n",
    "    plt.plot(np.arange(len(v))+1, sorted(v), 'o')\n",
    "    KEY_LIST.append(k)\n",
    "    print(\"{} - {} ms\".format(k, np.mean(v)))\n",
    "plt.legend(KEY_LIST)\n",
    "plt.grid()"
   ]
  },
  {
   "cell_type": "code",
   "execution_count": null,
   "metadata": {},
   "outputs": [],
   "source": [
    "KEY_LIST = []\n",
    "for k, v in gtimer.timelist_dict.items():\n",
    "    v = sorted(v)[int(len(v)*0.9):]\n",
    "    plt.plot(np.arange(len(v))+1, sorted(v), 'o')\n",
    "    KEY_LIST.append(k)\n",
    "    print(\"{} - {} ms\".format(k, np.mean(v)))\n",
    "plt.legend(KEY_LIST)\n",
    "plt.grid()"
   ]
  },
  {
   "cell_type": "markdown",
   "metadata": {},
   "source": [
    "### log - from off position to left floor, near to far"
   ]
  },
  {
   "cell_type": "code",
   "execution_count": null,
   "metadata": {},
   "outputs": [],
   "source": [
    "KEY_LIST = []\n",
    "for k, v in gtimer.timelist_dict.items():\n",
    "    v = sorted(v)[:int(len(v)*0.9)]\n",
    "    plt.plot(np.arange(len(v))+1, sorted(v), 'o')\n",
    "    KEY_LIST.append(k)\n",
    "    print(\"{} - {} ms\".format(k, np.mean(v)))\n",
    "plt.legend(KEY_LIST)\n",
    "plt.grid()"
   ]
  },
  {
   "cell_type": "code",
   "execution_count": null,
   "metadata": {},
   "outputs": [],
   "source": [
    "KEY_LIST = []\n",
    "for k, v in gtimer.timelist_dict.items():\n",
    "    v = sorted(v)[int(len(v)*0.9):]\n",
    "    plt.plot(np.arange(len(v))+1, sorted(v), 'o')\n",
    "    KEY_LIST.append(k)\n",
    "    print(\"{} - {} ms\".format(k, np.mean(v)))\n",
    "plt.legend(KEY_LIST)\n",
    "plt.grid()"
   ]
  },
  {
   "cell_type": "markdown",
   "metadata": {},
   "source": [
    "### log - from off position to left floor, far to near"
   ]
  },
  {
   "cell_type": "code",
   "execution_count": null,
   "metadata": {},
   "outputs": [],
   "source": [
    "KEY_LIST = []\n",
    "for k, v in gtimer.timelist_dict.items():\n",
    "    v = sorted(v)[:int(len(v)*0.9)]\n",
    "    plt.plot(np.arange(len(v))+1, sorted(v), 'o')\n",
    "    KEY_LIST.append(k)\n",
    "    print(\"{} - {} ms\".format(k, np.mean(v)))\n",
    "plt.legend(KEY_LIST)\n",
    "plt.grid()"
   ]
  },
  {
   "cell_type": "code",
   "execution_count": null,
   "metadata": {},
   "outputs": [],
   "source": [
    "KEY_LIST = []\n",
    "for k, v in gtimer.timelist_dict.items():\n",
    "    v = sorted(v)[int(len(v)*0.9):]\n",
    "    plt.plot(np.arange(len(v))+1, sorted(v), 'o')\n",
    "    KEY_LIST.append(k)\n",
    "    print(\"{} - {} ms\".format(k, np.mean(v)))\n",
    "plt.legend(KEY_LIST)\n",
    "plt.grid()"
   ]
  },
  {
   "cell_type": "markdown",
   "metadata": {},
   "source": [
    "### log - from origin to right floor, far to near"
   ]
  },
  {
   "cell_type": "code",
   "execution_count": null,
   "metadata": {},
   "outputs": [],
   "source": [
    "KEY_LIST = []\n",
    "for k, v in gtimer.timelist_dict.items():\n",
    "    v = sorted(v)[:990]\n",
    "    plt.plot(np.arange(len(v))+1, sorted(v), 'o')\n",
    "    KEY_LIST.append(k)\n",
    "    print(\"{} - {} ms\".format(k, np.mean(v)))\n",
    "plt.legend(KEY_LIST)\n",
    "plt.grid()"
   ]
  },
  {
   "cell_type": "code",
   "execution_count": null,
   "metadata": {},
   "outputs": [],
   "source": [
    "KEY_LIST = []\n",
    "for k, v in gtimer.timelist_dict.items():\n",
    "    v = sorted(v)[990:]\n",
    "    plt.plot(np.arange(len(v))+1, sorted(v), 'o')\n",
    "    KEY_LIST.append(k)\n",
    "    print(\"{} - {} ms\".format(k, np.mean(v)))\n",
    "plt.legend(KEY_LIST)\n",
    "plt.grid()"
   ]
  },
  {
   "cell_type": "code",
   "execution_count": null,
   "metadata": {},
   "outputs": [],
   "source": []
  },
  {
   "cell_type": "markdown",
   "metadata": {},
   "source": [
    "#### constrained motion times\n",
    "```\n",
    "BKPIECEkConfigDefault: \t30617.1 ms/100 = 306.2 ms (45.038/900.671)\n",
    "KPIECEkConfigDefault: \t40873.6 ms/100 = 408.7 ms (19.622/1969.107)\n",
    "RRTkConfigDefault: \t43292.3 ms/100 = 432.9 ms (18.505/2624.852)\n",
    "RRTConnectkConfigDefault: \t27144.7 ms/5 = 5428.9 ms (251.446/7565.886)\n",
    "LBKPIECEkConfigDefault: \t43063.5 ms/5 = 8612.7 ms (5521.325/10175.108)\n",
    "```"
   ]
  },
  {
   "cell_type": "markdown",
   "metadata": {},
   "source": [
    "### visualize trajectory"
   ]
  },
  {
   "cell_type": "code",
   "execution_count": null,
   "metadata": {
    "scrolled": true
   },
   "outputs": [],
   "source": [
    "with gtimer.block(\"BKPIECEkConfigDefault\"):\n",
    "    Traj, LastQ, error, success, binding_list = mplan.plan_transition(\n",
    "        from_state, to_state, redundancy_dict, timeout=10, \n",
    "        plannerconfig=PlannerConfig.BKPIECEkConfigDefault, \n",
    "        cs_type=ConstrainedSpaceType.PROJECTED)\n",
    "gscene.clear_highlight()\n",
    "gscene.show_motion(Traj, period=0.05)\n",
    "sweep_face.draw_traj_coords(Traj, \"traj_{}\".format(sweep_face.name))"
   ]
  },
  {
   "cell_type": "code",
   "execution_count": null,
   "metadata": {},
   "outputs": [],
   "source": []
  }
 ],
 "metadata": {
  "kernelspec": {
   "display_name": "Python 2",
   "language": "python",
   "name": "python2"
  },
  "language_info": {
   "codemirror_mode": {
    "name": "ipython",
    "version": 2
   },
   "file_extension": ".py",
   "mimetype": "text/x-python",
   "name": "python",
   "nbconvert_exporter": "python",
   "pygments_lexer": "ipython2",
   "version": "2.7.17"
  }
 },
 "nbformat": 4,
 "nbformat_minor": 2
}
