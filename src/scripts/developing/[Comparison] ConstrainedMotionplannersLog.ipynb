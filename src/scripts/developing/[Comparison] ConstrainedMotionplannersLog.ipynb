{
 "cells": [
  {
   "cell_type": "markdown",
   "metadata": {},
   "source": [
    "### Constrained motion planning instability problem\n",
    "#### with virtual plane\n",
    "```\n",
    "BKPIECEkConfigDefault:     30617.1 ms/100 = 306.2 ms (45.038/900.671)\n",
    "KPIECEkConfigDefault:     40873.6 ms/100 = 408.7 ms (19.622/1969.107)\n",
    "RRTkConfigDefault:     43292.3 ms/100 = 432.9 ms (18.505/2624.852)\n",
    "RRTConnectkConfigDefault:     27144.7 ms/5 = 5428.9 ms (251.446/7565.886)\n",
    "LBKPIECEkConfigDefault:     43063.5 ms/5 = 8612.7 ms (5521.325/10175.108)\n",
    "```\n",
    "- BKPIECE < KPIECE < RRT\n",
    "\n",
    "#### with detected plane\n",
    "```\n",
    "BKPIECEkConfigFine: \t226720.7 ms/100 = 2267.2 ms (69.937/10082.002)\n",
    "KPIECEkConfigFine: \t44196.6 ms/100 = 442.0 ms (46.311/1800.006)\n",
    "RRTkConfigFine: \t9627.6 ms/100 = 96.3 ms (39.244/344.946)\n",
    "BKPIECEkConfigBad: \t100600.4 ms/10 = 10060.0 ms (10027.311/10100.471)\n",
    "KPIECEkConfigBad: \t77786.7 ms/10 = 7778.7 ms (418.654/10314.316)\n",
    "RRTkConfigBad: \t100182.4 ms/10 = 10018.2 ms (10011.62/10033.246)\n",
    "```\n",
    "  - Fine 케이스에서 RRT < KPIECE < BKPIECE, Bad 케이스에서 KPIECE < RRT,BKPIECE로 ***virtual 실험과 다른 경향***\n",
    "  - 좌표계와 정렬이 안된 게 퍼포먼스에 영향? - 아님\n",
    "    - plane 좌표계 정렬 시 - 차이 없음\n",
    "    ```\n",
    "    BKPIECEkConfigFine: \t256170.0 ms/100 = 2561.7 ms (110.218/10085.097)\n",
    "    KPIECEkConfigFine: \t51639.0 ms/100 = 516.4 ms (45.206/4278.697)\n",
    "    RRTkConfigFine: \t8345.3 ms/100 = 83.5 ms (40.361/254.023)\n",
    "    BKPIECEkConfigBad: \t100390.1 ms/10 = 10039.0 ms (10020.31/10081.335)\n",
    "    KPIECEkConfigBad: \t67244.2 ms/10 = 6724.4 ms (544.676/10235.968)\n",
    "    RRTkConfigBad: \t100197.3 ms/10 = 10019.7 ms (10013.146/10033.654)\n",
    "    ```\n",
    "    - 로봇 좌표계까지 정렬 시\n",
    "    ```\n",
    "    BKPIECEkConfigFine: \t7481.8 ms/10 = 748.2 ms (112.028/1916.677)\n",
    "    KPIECEkConfigFine: \t6193.5 ms/10 = 619.3 ms (59.914/1562.995)\n",
    "    RRTkConfigFine: \t673.7 ms/10 = 67.4 ms (37.57/124.372)\n",
    "    BKPIECEkConfigBad: \t100514.2 ms/10 = 10051.4 ms (10029.246/10087.536)\n",
    "    KPIECEkConfigBad: \t78809.0 ms/10 = 7880.9 ms (115.464/10189.973)\n",
    "    RRTkConfigBad: \t100183.0 ms/10 = 10018.3 ms (10012.292/10043.563)\n",
    "    ```\n",
    "    - 위치 이동 시 (singularity 벗어남)\n",
    "    ```\n",
    "    BKPIECEkConfigFine: \t34645.1 ms/20 = 1732.3 ms (71.716/7965.63)\n",
    "    KPIECEkConfigFine: \t6206.0 ms/20 = 310.3 ms (51.943/1301.905)\n",
    "    RRTkConfigFine: \t2056.1 ms/20 = 102.8 ms (42.116/197.287)\n",
    "    BKPIECEkConfigBad: \t9200.0 ms/5 = 1840.0 ms (225.816/5248.372)\n",
    "    KPIECEkConfigBad: \t5768.9 ms/5 = 1153.8 ms (318.394/1767.999)\n",
    "    RRTkConfigBad: \t485.6 ms/5 = 97.1 ms (74.2/126.474)\n",
    "    ```\n",
    "    - 모든 변형 시나리오에서 경향성 동일하게 관찰\n",
    " \n",
    "  - Virtual 결과 일관적이지 않음, 대량 실험 해서 경향성 세밀 분석 - virtual에서 좁은 트랙 설정하지 않은 것이 원인\n",
    "    - 3m 넓은 트랙, 90% inlier\n",
    "    ```\n",
    "    BKPIECEkConfigDefault - 364.211755329 ms  - 1\n",
    "    KPIECEkConfigDefault - 1111.92541652 ms    - 3\n",
    "    RRTkConfigDefault - 480.864795049 ms         - 2\n",
    "    RRTConnectkConfigDefault:     5428.9 ms        - 4\n",
    "    ```\n",
    "    - 0.5m 좁은 트랙, 90% inlier\n",
    "    ```\n",
    "    BKPIECEkConfigDefault - 951.631975174 ms   - 3\n",
    "    KPIECEkConfigDefault - 351.74937778 ms       - 2\n",
    "    RRTkConfigDefault - 73.9153014289 ms          - 1\n",
    "    RRTConnectkConfigDefault: 8024.9 ms             - 4\n",
    "    ```\n",
    "  - **잠정 결론:**\n",
    "    - 넓은 평면에서는 BKPIECE가 효용이 있으나 좁은 면에선 KPIECE가 나음\n",
    "    - KPIECE는 넓은 면에서 성능 저하가 심함\n",
    "    - 종합적으로는 그냥 RRT-Connect는 좁은면, 넓은 면 모두 성능 매우 떨어짐\n",
    "    - 종합적으로는 그냥 RRT가 안정적이게 우수  \n",
    "    \n",
    "    \n",
    "  - **추가 문제 발생 시 의문 사항:**\n",
    "    - Bad 케이스 KPIECE로 만들어진 경로는 실제 동작도 유효한지? 불연속한 경로 아닌지?\n",
    "    - 실험 코드의 구속 조건 자체에 오류?"
   ]
  },
  {
   "cell_type": "code",
   "execution_count": null,
   "metadata": {},
   "outputs": [],
   "source": []
  },
  {
   "cell_type": "markdown",
   "metadata": {},
   "source": [
    "## set running directory to project source"
   ]
  },
  {
   "cell_type": "code",
   "execution_count": 1,
   "metadata": {},
   "outputs": [],
   "source": [
    "import os\n",
    "import numpy as np\n",
    "import time\n",
    "os.chdir(os.path.join(os.environ[\"RNB_PLANNING_DIR\"], 'src'))\n",
    "import matplotlib.pyplot as plt"
   ]
  },
  {
   "cell_type": "code",
   "execution_count": null,
   "metadata": {},
   "outputs": [],
   "source": []
  },
  {
   "cell_type": "markdown",
   "metadata": {},
   "source": [
    "## 4.1 PlanningScene"
   ]
  },
  {
   "cell_type": "markdown",
   "metadata": {},
   "source": [
    "##### initialize CombinedRobot and GeometryScene"
   ]
  },
  {
   "cell_type": "code",
   "execution_count": 2,
   "metadata": {},
   "outputs": [
    {
     "name": "stdout",
     "output_type": "stream",
     "text": [
      "connection command:\n",
      "indy0: False\n",
      "Unable to register with master node [http://localhost:11311]: master may not be running yet. Will keep trying.\n"
     ]
    },
    {
     "name": "stderr",
     "output_type": "stream",
     "text": [
      "Unknown tag \"hardwareInterface\" in /robot[@name='custom_robots']/transmission[@name='indy0_tran0']/actuator[@name='indy0_motor0']\n",
      "Unknown tag \"hardwareInterface\" in /robot[@name='custom_robots']/transmission[@name='indy0_tran1']/actuator[@name='indy0_motor1']\n",
      "Unknown tag \"hardwareInterface\" in /robot[@name='custom_robots']/transmission[@name='indy0_tran2']/actuator[@name='indy0_motor2']\n",
      "Unknown tag \"hardwareInterface\" in /robot[@name='custom_robots']/transmission[@name='indy0_tran3']/actuator[@name='indy0_motor3']\n",
      "Unknown tag \"hardwareInterface\" in /robot[@name='custom_robots']/transmission[@name='indy0_tran4']/actuator[@name='indy0_motor4']\n",
      "Unknown tag \"hardwareInterface\" in /robot[@name='custom_robots']/transmission[@name='indy0_tran5']/actuator[@name='indy0_motor5']\n"
     ]
    },
    {
     "name": "stdout",
     "output_type": "stream",
     "text": [
      "Please create a subscriber to the marker\n",
      "publication OK\n",
      "published: [0, 0, 0, 0, 0, 0, 0, 0, 0, 0, 0, 0, 0]\n",
      "Please create a subscriber to the marker\n"
     ]
    }
   ],
   "source": [
    "from pkg.controller.combined_robot import *\n",
    "from pkg.project_config import *\n",
    "from pkg.geometry.builder.scene_builder import SceneBuilder\n",
    "\n",
    "s_builder = SceneBuilder(None)   # create scene builder without detector for virtual scene\n",
    "crob = CombinedRobot(robots_on_scene=[\n",
    "    RobotConfig(0, RobotType.indy7, ((0,-0.7,0), (0,0,0)), None),\n",
    "    RobotConfig(1, RobotType.panda, ((0,0.1,0), (0,0,0)), None)]\n",
    "                     , connection_list=[False])\n",
    "gscene = s_builder.create_gscene(crob)\n",
    "gtems = s_builder.add_robot_geometries(color=(0,1,0,0.5), display=True, collision=True)\n",
    "gscene.show_pose(crob.home_pose)"
   ]
  },
  {
   "cell_type": "markdown",
   "metadata": {},
   "source": [
    "##### add geometries"
   ]
  },
  {
   "cell_type": "code",
   "execution_count": 3,
   "metadata": {},
   "outputs": [],
   "source": [
    "from pkg.geometry.geometry import *\n",
    "\n",
    "# add environments (fixed=True for non-movable geometries)\n",
    "wall = gscene.create_safe(GEOTYPE.BOX, \"wall\", \"base_link\", (3,3,0.01), (-0.2,0,0), \n",
    "                           rpy=(0,np.pi/2,0), color=(0.8,0.8,0.8,0.5), display=True, fixed=True, collision=True)\n",
    "floor = gscene.create_safe(GEOTYPE.BOX, \"floor\", \"base_link\", (3,3,0.01), (0,0,0), \n",
    "                           rpy=(0,0,0), color=(0.8,0.8,0.8,0.5), display=True, fixed=True, collision=True)\n",
    "track = gscene.create_safe(GEOTYPE.BOX, \"track\", \"base_link\", (0.5,0.5,0.01), (0.4,-0.3,0.01), \n",
    "                           rpy=(0,0,0), color=(0.8,0.8,0.8,0.5), display=True, fixed=True, collision=True, parent='floor')\n",
    "wp1 = gscene.create_safe(GEOTYPE.BOX, \"wp1\", \"base_link\", (0.1,0.1,0.01), (-0.2,0,0),rpy=(0,0,0), \n",
    "                         color=(0.8,0.2,0.2,1), display=True, fixed=True, collision=False, parent=\"track\")\n",
    "wp2 = gscene.create_safe(GEOTYPE.BOX, \"wp2\", \"base_link\", (0.1,0.1,0.01), (0.2,0,0), rpy=(0,0,0), \n",
    "                         color=(0.8,0.2,0.2,1), display=True, fixed=True, collision=False, parent=\"track\")\n",
    "goal = gscene.create_safe(GEOTYPE.BOX, \"goal\", \"base_link\", (0.1,0.1,0.01), (0.3,-0.4,0.01), \n",
    "                          rpy=(0,0,0), color=(0.2,0.2,0.8,1), display=True, fixed=True, collision=False)\n",
    " \n",
    "# add movable (fixed=False for movable geometries)\n",
    "box1 = gscene.create_safe(GEOTYPE.BOX, \"box1\", \"base_link\", (0.05,0.05,0.05), (0.3,0.4,0.031), \n",
    "                          rpy=(0,0,0), color=(0.8,0.2,0.2,1), display=True, fixed=False, collision=True)\n",
    "\n",
    "obstacle = gscene.create_safe(GEOTYPE.BOX, \"obstacle\", \"base_link\", (0.05,0.05,0.05), (0.5,0.4,0.031), \n",
    "                          rpy=(0,0,0), color=(0.8,0.8,0.2,1), display=True, fixed=False, collision=True)"
   ]
  },
  {
   "cell_type": "code",
   "execution_count": null,
   "metadata": {},
   "outputs": [],
   "source": []
  },
  {
   "cell_type": "markdown",
   "metadata": {},
   "source": [
    "##### create PlanningScene"
   ]
  },
  {
   "cell_type": "code",
   "execution_count": 4,
   "metadata": {},
   "outputs": [],
   "source": [
    "from pkg.planning.scene import PlanningScene\n",
    "pscene = PlanningScene(gscene, combined_robot=crob)"
   ]
  },
  {
   "cell_type": "code",
   "execution_count": null,
   "metadata": {},
   "outputs": [],
   "source": []
  },
  {
   "cell_type": "markdown",
   "metadata": {},
   "source": [
    "##### create_binder\n",
    "- Binders (or Actors) are binding points where objects can be attached (or binded)\n",
    "- Examples are \n",
    "  - PlacePlane: plane for object placement\n",
    "  - Gripper2Tool: 2-finger gripper tool for grasp objects\n",
    "  - SweepTool: action point to pass waypoints for sweep task"
   ]
  },
  {
   "cell_type": "code",
   "execution_count": 5,
   "metadata": {},
   "outputs": [],
   "source": [
    "from pkg.planning.constraint.constraint_actor import PlacePlane, Gripper2Tool, SweepFramer"
   ]
  },
  {
   "cell_type": "code",
   "execution_count": 6,
   "metadata": {},
   "outputs": [
    {
     "data": {
      "text/plain": [
       "<pkg.planning.constraint.constraint_actor.PlacePlane at 0x7f06bb878210>"
      ]
     },
     "execution_count": 6,
     "metadata": {},
     "output_type": "execute_result"
    }
   ],
   "source": [
    "# create PlacePlane on geometry \"floor\" and \"goal\"\n",
    "# when point is not set, the entire upper surface of the geometry becomes valid binding area.\n",
    "# when point is set, the specific point becomes the only valid binding point.\n",
    "pscene.create_binder(bname=\"track\", gname=\"track\", _type=PlacePlane)\n",
    "pscene.create_binder(bname=\"goal\", gname=\"goal\", _type=PlacePlane, point=(0,0,0.005))"
   ]
  },
  {
   "cell_type": "code",
   "execution_count": 7,
   "metadata": {},
   "outputs": [
    {
     "data": {
      "text/plain": [
       "<pkg.planning.constraint.constraint_actor.Gripper2Tool at 0x7f06b18a7fd0>"
      ]
     },
     "execution_count": 7,
     "metadata": {},
     "output_type": "execute_result"
    }
   ],
   "source": [
    "# add collision boundary for gripper base\n",
    "# - set link_name=\"indy0_tcp\" to attach the geometry to end-effector link\n",
    "# - it can be labeled as fixed=True, as it is \"fixed\" on the indy0_tcp link\n",
    "gripper =  gscene.create_safe(GEOTYPE.BOX, \"gripper\", link_name=\"indy0_tcp\", \n",
    "                                dims=(0.02,0.1,0.1), center=(0,0,0.05), rpy=(0,0,0), \n",
    "                                color=(0.8,0.2,0.2,0.5), display=True, fixed=True, collision=True)\n",
    "\n",
    "# add gripper fingers - By setting parent=\"gripper\", the position of geometry can be set relative to the parent geometry\n",
    "finger1 =  gscene.create_safe(GEOTYPE.BOX, \"finger1\", link_name=\"indy0_tcp\",\n",
    "                              dims=(0.04,0.02,0.1), center=(0,0.05,0.07), rpy=(0,0,0), \n",
    "                              color=(0.8,0.2,0.2,0.5), display=True, fixed=True, collision=True, parent=\"gripper\")\n",
    "finger2 =  gscene.create_safe(GEOTYPE.BOX, \"finger2\", link_name=\"indy0_tcp\", \n",
    "                              dims=(0.04,0.02,0.1), center=(0,-0.05,0.07), rpy=(0,0,0), \n",
    "                              color=(0.8,0.2,0.2,0.5), display=True, fixed=True, collision=True, parent=\"gripper\")\n",
    "\n",
    "# create Gripper2Tool binder\n",
    "# Gripper2Tool is a 2-finger gripper, which can rotate along z-direction.\n",
    "# To align the z-direction with the 2 fingers, rotate by 90 degree along roll axis.\n",
    "# The gripping point is (0,0,0.11) in local coordinate of \"gripper\" geometry\n",
    "pscene.create_binder(bname=\"grip0\", gname=\"gripper\", _type=Gripper2Tool, point=(0,0,0.11), rpy=(-np.pi/2,0,0))"
   ]
  },
  {
   "cell_type": "code",
   "execution_count": 8,
   "metadata": {},
   "outputs": [
    {
     "data": {
      "text/plain": [
       "<pkg.planning.constraint.constraint_actor.SweepFramer at 0x7f0665236890>"
      ]
     },
     "execution_count": 8,
     "metadata": {},
     "output_type": "execute_result"
    }
   ],
   "source": [
    "# Add virtual (no-collision) sweep face. the point is 0.2 m away from the \"indy0_tcp\" link\n",
    "# To match the z-direction with the target surface, the geometry is rotated 180 degrees in pitch-axis.\n",
    "sweep_face =  gscene.create_safe(GEOTYPE.BOX, \"sweep_face\", link_name=\"indy0_tcp\", \n",
    "                                dims=(0.05,0.05,0.001), center=(0,0,0.2), rpy=(0,np.pi,0), \n",
    "                                color=(0.2,0.2,0.8,0.1), display=True, fixed=True, collision=False)\n",
    "sweep_face =  gscene.create_safe(GEOTYPE.BOX, \"sweep_face_col\", link_name=\"indy0_tcp\", \n",
    "                                dims=(0.15,0.15,0.05), center=(0,0,0.2-0.03), rpy=(0,np.pi,0), \n",
    "                                color=(0.2,0.2,0.8,0.1), display=True, fixed=True, collision=True)\n",
    "                                 \n",
    "# create SweepTool binder\n",
    "pscene.create_binder(bname=\"sweep_face\", gname=\"sweep_face\", _type=SweepFramer, point=(0,0,0), rpy=(0,0,0))"
   ]
  },
  {
   "cell_type": "code",
   "execution_count": null,
   "metadata": {},
   "outputs": [],
   "source": []
  },
  {
   "cell_type": "markdown",
   "metadata": {},
   "source": [
    "##### create_subject\n",
    "* Subject describes the tasks in the planning scene.\n",
    "* There are 2 categories in subject:\n",
    "  1. Object: The object has grip points and placement points for pick&place task\n",
    "  2. Task: The task is can be any non-physical task. Check SweepLineTask for example\n",
    "* The subjects can be composed of multiple action points. Examples are:\n",
    "  1. Grasp2Point: grasping point for 2-finger gripper. \n",
    "  2. PlacePoint: The point to place object.\n",
    "  3. SweepPoint: A waypoint for SweepLineTask.\n",
    "  * The above 3 action points inherit DirectePoint, for which the orientation is free along z-axis. \n",
    "  * If \"point\" parameter is not set, the entire upper surface is becomes valid action area."
   ]
  },
  {
   "cell_type": "code",
   "execution_count": 9,
   "metadata": {},
   "outputs": [],
   "source": [
    "from pkg.planning.constraint.constraint_subject import Grasp2Point, PlacePoint, SweepFrame\n",
    "from pkg.planning.constraint.constraint_subject import CustomObject, SweepLineTask"
   ]
  },
  {
   "cell_type": "code",
   "execution_count": 10,
   "metadata": {},
   "outputs": [],
   "source": [
    "## create box object with grasping points along positive & negative y-direction and placement point in the bottom face\n",
    "box_obj = pscene.create_subject(oname=\"box1\", gname=\"box1\", _type=CustomObject, \n",
    "                             action_points_dict = {\n",
    "                                 \"handle1\": Grasp2Point(\"handle1\", box1, [0,0,0], [-np.pi/2,0,0]),\n",
    "                                 \"handle2\": Grasp2Point(\"handle2\", box1, [0,0,0], [np.pi/2,0,0]),\n",
    "                                 \"bottom\": PlacePoint(\"bottom\", box1, [0,0,-0.026], [0,0,0])})"
   ]
  },
  {
   "cell_type": "code",
   "execution_count": 11,
   "metadata": {},
   "outputs": [],
   "source": [
    "## create sweep task with 2 waypoints\n",
    "sweep = pscene.create_subject(oname=\"sweep\", gname=\"track\", _type=SweepLineTask, \n",
    "                             action_points_dict = {\"wp1\": SweepFrame(\"wp1\", wp1, [0,0,wp1.dims[2]/2], [0,0,0]),\n",
    "                                                   \"wp2\": SweepFrame(\"wp2\", wp2, [0,0,wp2.dims[2]/2], [0,0,0])}\n",
    "                             )"
   ]
  },
  {
   "cell_type": "code",
   "execution_count": null,
   "metadata": {},
   "outputs": [],
   "source": []
  },
  {
   "cell_type": "markdown",
   "metadata": {},
   "source": [
    "##### initialize_state\n",
    "* initialize_state(robot_pose) updates robot pose and gets corresponding binding status of current scene.\n",
    "* state.node of ('floor', 0) means the first subject (object) is placed on the floor and the second subject (sweep) has passed 0 waypoints"
   ]
  },
  {
   "cell_type": "code",
   "execution_count": 12,
   "metadata": {},
   "outputs": [
    {
     "name": "stdout",
     "output_type": "stream",
     "text": [
      "('track', 0)\n"
     ]
    }
   ],
   "source": [
    "initial_state = pscene.initialize_state(crob.home_pose)\n",
    "print(initial_state.node)"
   ]
  },
  {
   "cell_type": "code",
   "execution_count": null,
   "metadata": {},
   "outputs": [],
   "source": []
  },
  {
   "cell_type": "markdown",
   "metadata": {},
   "source": [
    "## 4.2 MotionPlanner"
   ]
  },
  {
   "cell_type": "markdown",
   "metadata": {},
   "source": [
    "##### MoveitPlanner\n",
    "* *get_available_binding_dict()* gets available binding states for each subject in a dictionary\n",
    "* *sample_leaf_state samples()* target state with given available_binding_dict and target node\n",
    "* *rebind_all()* updates binding state and returns the resultant state\n",
    "* The motions tested in this section are:\n",
    "  - pick: move the object to \"gripper\"\n",
    "  - place: move the object to \"goal\"\n",
    "  - sweep: \n",
    "    1) approach to waypoint 1\n",
    "    2) sweep to waypoint 2\n",
    "    3) return to home pose"
   ]
  },
  {
   "cell_type": "code",
   "execution_count": 13,
   "metadata": {},
   "outputs": [],
   "source": [
    "from pkg.planning.motion.moveit.moveit_planner import MoveitPlanner\n",
    "mplan = MoveitPlanner(pscene)"
   ]
  },
  {
   "cell_type": "code",
   "execution_count": 14,
   "metadata": {},
   "outputs": [],
   "source": [
    "from pkg.planning.motion.moveit.moveit_planner import PlannerConfig\n",
    "from pkg.planning.motion.moveit.moveit_py import ConstrainedSpaceType"
   ]
  },
  {
   "cell_type": "code",
   "execution_count": 15,
   "metadata": {},
   "outputs": [
    {
     "name": "stdout",
     "output_type": "stream",
     "text": [
      "try transition motion\n",
      "transition motion tried: True\n"
     ]
    }
   ],
   "source": [
    "gtimer=GlobalTimer.instance()\n",
    "gtimer.reset()\n",
    "# sweep motion 1 - reach the first waypoint\n",
    "from_state = initial_state.copy(pscene)\n",
    "from_state.Q = crob.home_pose\n",
    "to_node = (\"track\", 1)\n",
    "for _ in range(20):\n",
    "    available_binding_dict = pscene.get_available_binding_dict(from_state, to_node)\n",
    "    to_state, redundancy_dict = pscene.sample_leaf_state(from_state, available_binding_dict, to_node)\n",
    "    with gtimer.block(\"plan\"):\n",
    "        Traj, LastQ, error, success, binding_list = mplan.plan_transition(from_state, to_state, redundancy_dict, timeout=10, \n",
    "                                                                          plannerconfig=PlannerConfig.RRTConnectkConfigDefault)\n",
    "    if success:\n",
    "        if np.abs(LastQ[0])<np.pi/2: # else, it will fail in sweep motion\n",
    "            break\n",
    "if success:\n",
    "    pscene.set_object_state(from_state)\n",
    "    gscene.show_motion(Traj, period=0.05)\n",
    "    sweep1_state = pscene.rebind_all(binding_list, LastQ)\n",
    "else:\n",
    "    print(\"Solution not found. Please try again, try to find error if it keeps failing.\")\n",
    "    raise(RuntimeError(\"Motion plan failure\"))"
   ]
  },
  {
   "cell_type": "code",
   "execution_count": 16,
   "metadata": {},
   "outputs": [
    {
     "name": "stdout",
     "output_type": "stream",
     "text": [
      "plan: \t78.8 ms/1 = 78.8 ms (78.8/78.8)\n",
      "\n"
     ]
    }
   ],
   "source": [
    "print(gtimer)"
   ]
  },
  {
   "cell_type": "code",
   "execution_count": 17,
   "metadata": {},
   "outputs": [],
   "source": [
    "gscene.show_pose(crob.home_pose)"
   ]
  },
  {
   "cell_type": "code",
   "execution_count": null,
   "metadata": {},
   "outputs": [],
   "source": []
  },
  {
   "cell_type": "markdown",
   "metadata": {},
   "source": [
    "## Comparison test - constrained motion"
   ]
  },
  {
   "cell_type": "code",
   "execution_count": 18,
   "metadata": {},
   "outputs": [],
   "source": [
    "sweep.fix_direction = True"
   ]
  },
  {
   "cell_type": "code",
   "execution_count": 19,
   "metadata": {
    "scrolled": true
   },
   "outputs": [
    {
     "name": "stdout",
     "output_type": "stream",
     "text": [
      "try constrained motion\n",
      "constrained motion tried: True\n",
      "try constrained motion\n",
      "constrained motion tried: True\n",
      "try constrained motion\n",
      "constrained motion tried: True\n",
      "=== loop count = 0 / 5 ===\n",
      "try constrained motion\n",
      "constrained motion tried: True\n",
      "try constrained motion\n",
      "constrained motion tried: True\n",
      "try constrained motion\n",
      "constrained motion tried: True\n",
      "=== loop count = 1 / 5 ===\n",
      "try constrained motion\n",
      "constrained motion tried: True\n",
      "try constrained motion\n",
      "constrained motion tried: True\n",
      "try constrained motion\n",
      "constrained motion tried: True\n",
      "=== loop count = 2 / 5 ===\n",
      "try constrained motion\n",
      "constrained motion tried: True\n",
      "try constrained motion\n",
      "constrained motion tried: True\n",
      "try constrained motion\n",
      "constrained motion tried: True\n",
      "=== loop count = 3 / 5 ===\n",
      "try constrained motion\n",
      "constrained motion tried: True\n",
      "try constrained motion\n",
      "constrained motion tried: True\n",
      "try constrained motion\n",
      "constrained motion tried: True\n",
      "=== loop count = 4 / 5 ===\n",
      "try constrained motion\n",
      "constrained motion tried: False\n",
      "=== loop count = 0 / 5 ===\n",
      "try constrained motion\n",
      "constrained motion tried: True\n",
      "=== loop count = 1 / 5 ===\n",
      "try constrained motion\n",
      "constrained motion tried: True\n",
      "=== loop count = 2 / 5 ===\n",
      "try constrained motion\n",
      "constrained motion tried: True\n",
      "=== loop count = 3 / 5 ===\n",
      "try constrained motion\n",
      "constrained motion tried: False\n",
      "=== loop count = 4 / 5 ===\n",
      "False\n",
      "BKPIECEkConfigDefault: \t9496.1 ms/5 = 1899.2 ms (358.311/4247.807)\n",
      "KPIECEkConfigDefault: \t2406.4 ms/5 = 481.3 ms (206.382/1282.633)\n",
      "RRTkConfigDefault: \t366.2 ms/5 = 73.2 ms (34.29/92.279)\n",
      "RRTConnectkConfigDefault: \t40124.4 ms/5 = 8024.9 ms (2511.803/10039.325)\n",
      "\n"
     ]
    }
   ],
   "source": [
    "gtimer=GlobalTimer.instance()\n",
    "gtimer.reset()\n",
    "from_state = sweep1_state.copy(pscene)\n",
    "to_node = (\"track\", 2)\n",
    "available_binding_dict = pscene.get_available_binding_dict(from_state, to_node)\n",
    "to_state, redundancy_dict = pscene.sample_leaf_state(from_state, available_binding_dict, to_node)\n",
    "LOOP_MAX = 5\n",
    "for i_loop in range(LOOP_MAX):\n",
    "    with gtimer.block(\"BKPIECEkConfigDefault\", stack=True):\n",
    "        Traj, LastQ, error, success, binding_list = mplan.plan_transition(\n",
    "            from_state, to_state, redundancy_dict, timeout=10, \n",
    "            plannerconfig=PlannerConfig.BKPIECEkConfigDefault, \n",
    "            cs_type=ConstrainedSpaceType.PROJECTED)\n",
    "    with gtimer.block(\"KPIECEkConfigDefault\", stack=True):\n",
    "        Traj, LastQ, error, success, binding_list = mplan.plan_transition(\n",
    "            from_state, to_state, redundancy_dict, timeout=10, \n",
    "            plannerconfig=PlannerConfig.KPIECEkConfigDefault, \n",
    "            cs_type=ConstrainedSpaceType.PROJECTED)\n",
    "    with gtimer.block(\"RRTkConfigDefault\", stack=True):\n",
    "        Traj, LastQ, error, success, binding_list = mplan.plan_transition(\n",
    "            from_state, to_state, redundancy_dict, timeout=10, \n",
    "            plannerconfig=PlannerConfig.RRTkConfigDefault, \n",
    "            cs_type=ConstrainedSpaceType.PROJECTED)\n",
    "    print(\"=== loop count = {} / {} ===\".format(i_loop, LOOP_MAX))\n",
    "    \n",
    "LOOP_MAX = 5\n",
    "for i_loop in range(LOOP_MAX):\n",
    "#     with gtimer.block(\"LBKPIECEkConfigDefault\"):\n",
    "#         Traj, LastQ, error, success, binding_list = mplan.plan_transition(\n",
    "#             from_state, to_state, redundancy_dict, timeout=10, \n",
    "#             plannerconfig=PlannerConfig.LBKPIECEkConfigDefault, \n",
    "#             cs_type=ConstrainedSpaceType.PROJECTED)\n",
    "    with gtimer.block(\"RRTConnectkConfigDefault\"):\n",
    "        Traj, LastQ, error, success, binding_list = mplan.plan_transition(\n",
    "            from_state, to_state, redundancy_dict, timeout=10, \n",
    "            plannerconfig=PlannerConfig.RRTConnectkConfigDefault, \n",
    "            cs_type=ConstrainedSpaceType.PROJECTED)\n",
    "    print(\"=== loop count = {} / {} ===\".format(i_loop, LOOP_MAX))\n",
    "print(success)\n",
    "print(gtimer)"
   ]
  },
  {
   "cell_type": "code",
   "execution_count": 20,
   "metadata": {
    "scrolled": true
   },
   "outputs": [
    {
     "name": "stdout",
     "output_type": "stream",
     "text": [
      "BKPIECEkConfigDefault: \t9496.1 ms/5 = 1899.2 ms (358.311/4247.807)\n",
      "KPIECEkConfigDefault: \t2406.4 ms/5 = 481.3 ms (206.382/1282.633)\n",
      "RRTkConfigDefault: \t366.2 ms/5 = 73.2 ms (34.29/92.279)\n",
      "RRTConnectkConfigDefault: \t40124.4 ms/5 = 8024.9 ms (2511.803/10039.325)\n",
      "\n"
     ]
    }
   ],
   "source": [
    "print(gtimer)"
   ]
  },
  {
   "cell_type": "markdown",
   "metadata": {},
   "source": [
    "### log - from off position to left floor, near to far, w. panda, collision body 15cm clearance 5mm, floating 3m track"
   ]
  },
  {
   "cell_type": "code",
   "execution_count": 23,
   "metadata": {},
   "outputs": [
    {
     "name": "stdout",
     "output_type": "stream",
     "text": [
      "BKPIECEkConfigDefault - 364.211755329 ms\n",
      "KPIECEkConfigDefault - 1111.92541652 ms\n",
      "RRTkConfigDefault - 480.864795049 ms\n"
     ]
    },
    {
     "data": {
      "image/png": "[encoded data removed]",
      "text/plain": [
       "<Figure size 432x288 with 1 Axes>"
      ]
     },
     "metadata": {
      "needs_background": "light"
     },
     "output_type": "display_data"
    }
   ],
   "source": [
    "KEY_LIST = []\n",
    "for k, v in gtimer.timelist_dict.items():\n",
    "    v = sorted(v)[:int(len(v)*0.9)]\n",
    "    plt.plot(np.arange(len(v))+1, sorted(v), 'o')\n",
    "    KEY_LIST.append(k)\n",
    "    print(\"{} - {} ms\".format(k, np.mean(v)))\n",
    "plt.legend(KEY_LIST)\n",
    "plt.grid()"
   ]
  },
  {
   "cell_type": "code",
   "execution_count": 24,
   "metadata": {},
   "outputs": [
    {
     "name": "stdout",
     "output_type": "stream",
     "text": [
      "BKPIECEkConfigDefault - 952.173423767 ms\n",
      "KPIECEkConfigDefault - 4383.23235512 ms\n",
      "RRTkConfigDefault - 2135.04185677 ms\n"
     ]
    },
    {
     "data": {
      "image/png": "[encoded data removed]",
      "text/plain": [
       "<Figure size 432x288 with 1 Axes>"
      ]
     },
     "metadata": {
      "needs_background": "light"
     },
     "output_type": "display_data"
    }
   ],
   "source": [
    "KEY_LIST = []\n",
    "for k, v in gtimer.timelist_dict.items():\n",
    "    v = sorted(v)[int(len(v)*0.9):]\n",
    "    plt.plot(np.arange(len(v))+1, sorted(v), 'o')\n",
    "    KEY_LIST.append(k)\n",
    "    print(\"{} - {} ms\".format(k, np.mean(v)))\n",
    "plt.legend(KEY_LIST)\n",
    "plt.grid()"
   ]
  },
  {
   "cell_type": "code",
   "execution_count": null,
   "metadata": {},
   "outputs": [],
   "source": []
  },
  {
   "cell_type": "code",
   "execution_count": null,
   "metadata": {},
   "outputs": [],
   "source": []
  },
  {
   "cell_type": "code",
   "execution_count": null,
   "metadata": {},
   "outputs": [],
   "source": []
  },
  {
   "cell_type": "markdown",
   "metadata": {},
   "source": [
    "# ================= STOP! PRESEVE LOG! ======================"
   ]
  },
  {
   "cell_type": "markdown",
   "metadata": {},
   "source": [
    "# ================= STOP! PRESEVE LOG! ======================"
   ]
  },
  {
   "cell_type": "markdown",
   "metadata": {},
   "source": [
    "# ================= STOP! PRESEVE LOG! ======================"
   ]
  },
  {
   "cell_type": "markdown",
   "metadata": {},
   "source": [
    "# ================= STOP! PRESEVE LOG! ======================"
   ]
  },
  {
   "cell_type": "markdown",
   "metadata": {},
   "source": [
    "# ================= STOP! PRESEVE LOG! ======================"
   ]
  },
  {
   "cell_type": "markdown",
   "metadata": {},
   "source": [
    "# ================= STOP! PRESEVE LOG! ======================"
   ]
  },
  {
   "cell_type": "markdown",
   "metadata": {},
   "source": [
    "# ================= STOP! PRESEVE LOG! ======================"
   ]
  },
  {
   "cell_type": "markdown",
   "metadata": {},
   "source": [
    "### log - from off position to left floor, near to far, w. panda, collision body 15cm clearance 5mm, floating 3m track"
   ]
  },
  {
   "cell_type": "code",
   "execution_count": 23,
   "metadata": {},
   "outputs": [
    {
     "name": "stdout",
     "output_type": "stream",
     "text": [
      "BKPIECEkConfigDefault - 364.211755329 ms\n",
      "KPIECEkConfigDefault - 1111.92541652 ms\n",
      "RRTkConfigDefault - 480.864795049 ms\n"
     ]
    },
    {
     "data": {
      "image/png": "[encoded data removed]",
      "text/plain": [
       "<Figure size 432x288 with 1 Axes>"
      ]
     },
     "metadata": {
      "needs_background": "light"
     },
     "output_type": "display_data"
    }
   ],
   "source": [
    "KEY_LIST = []\n",
    "for k, v in gtimer.timelist_dict.items():\n",
    "    v = sorted(v)[:int(len(v)*0.9)]\n",
    "    plt.plot(np.arange(len(v))+1, sorted(v), 'o')\n",
    "    KEY_LIST.append(k)\n",
    "    print(\"{} - {} ms\".format(k, np.mean(v)))\n",
    "plt.legend(KEY_LIST)\n",
    "plt.grid()"
   ]
  },
  {
   "cell_type": "code",
   "execution_count": 24,
   "metadata": {},
   "outputs": [
    {
     "name": "stdout",
     "output_type": "stream",
     "text": [
      "BKPIECEkConfigDefault - 952.173423767 ms\n",
      "KPIECEkConfigDefault - 4383.23235512 ms\n",
      "RRTkConfigDefault - 2135.04185677 ms\n"
     ]
    },
    {
     "data": {
      "image/png": "[encoded data removed]",
      "text/plain": [
       "<Figure size 432x288 with 1 Axes>"
      ]
     },
     "metadata": {
      "needs_background": "light"
     },
     "output_type": "display_data"
    }
   ],
   "source": [
    "KEY_LIST = []\n",
    "for k, v in gtimer.timelist_dict.items():\n",
    "    v = sorted(v)[int(len(v)*0.9):]\n",
    "    plt.plot(np.arange(len(v))+1, sorted(v), 'o')\n",
    "    KEY_LIST.append(k)\n",
    "    print(\"{} - {} ms\".format(k, np.mean(v)))\n",
    "plt.legend(KEY_LIST)\n",
    "plt.grid()"
   ]
  },
  {
   "cell_type": "markdown",
   "metadata": {},
   "source": [
    "### log - from off position to left floor, near to far, w. panda, collision body 15cm clearance 5mm, floating 50cm track"
   ]
  },
  {
   "cell_type": "code",
   "execution_count": 21,
   "metadata": {},
   "outputs": [
    {
     "name": "stdout",
     "output_type": "stream",
     "text": [
      "BKPIECEkConfigDefault - 951.631975174 ms\n",
      "KPIECEkConfigDefault - 351.74937778 ms\n",
      "RRTkConfigDefault - 73.9153014289 ms\n"
     ]
    },
    {
     "data": {
      "image/png": "[encoded data removed]",
      "text/plain": [
       "<Figure size 432x288 with 1 Axes>"
      ]
     },
     "metadata": {
      "needs_background": "light"
     },
     "output_type": "display_data"
    }
   ],
   "source": [
    "KEY_LIST = []\n",
    "for k, v in gtimer.timelist_dict.items():\n",
    "    v = sorted(v)[:int(len(v)*0.9)]\n",
    "    plt.plot(np.arange(len(v))+1, sorted(v), 'o')\n",
    "    KEY_LIST.append(k)\n",
    "    print(\"{} - {} ms\".format(k, np.mean(v)))\n",
    "plt.legend(KEY_LIST)\n",
    "plt.grid()"
   ]
  },
  {
   "cell_type": "code",
   "execution_count": 22,
   "metadata": {},
   "outputs": [
    {
     "name": "stdout",
     "output_type": "stream",
     "text": [
      "BKPIECEkConfigDefault - 2735.27412415 ms\n",
      "KPIECEkConfigDefault - 1811.55388355 ms\n",
      "RRTkConfigDefault - 1235.98101139 ms\n"
     ]
    },
    {
     "data": {
      "image/png": "[encoded data removed]",
      "text/plain": [
       "<Figure size 432x288 with 1 Axes>"
      ]
     },
     "metadata": {
      "needs_background": "light"
     },
     "output_type": "display_data"
    }
   ],
   "source": [
    "KEY_LIST = []\n",
    "for k, v in gtimer.timelist_dict.items():\n",
    "    v = sorted(v)[int(len(v)*0.9):]\n",
    "    plt.plot(np.arange(len(v))+1, sorted(v), 'o')\n",
    "    KEY_LIST.append(k)\n",
    "    print(\"{} - {} ms\".format(k, np.mean(v)))\n",
    "plt.legend(KEY_LIST)\n",
    "plt.grid()"
   ]
  },
  {
   "cell_type": "markdown",
   "metadata": {},
   "source": [
    "### log - from off position to left floor, near to far, w. panda, collision body 15cm clearance 5mm"
   ]
  },
  {
   "cell_type": "code",
   "execution_count": 24,
   "metadata": {},
   "outputs": [
    {
     "name": "stdout",
     "output_type": "stream",
     "text": [
      "BKPIECEkConfigDefault - 411.180851195 ms\n",
      "KPIECEkConfigDefault - 888.517480426 ms\n",
      "RRTkConfigDefault - 398.357174132 ms\n"
     ]
    },
    {
     "data": {
      "image/png": "[encoded data removed]",
      "text/plain": [
       "<Figure size 432x288 with 1 Axes>"
      ]
     },
     "metadata": {
      "needs_background": "light"
     },
     "output_type": "display_data"
    }
   ],
   "source": [
    "KEY_LIST = []\n",
    "for k, v in gtimer.timelist_dict.items():\n",
    "    v = sorted(v)[:int(len(v)*0.9)]\n",
    "    plt.plot(np.arange(len(v))+1, sorted(v), 'o')\n",
    "    KEY_LIST.append(k)\n",
    "    print(\"{} - {} ms\".format(k, np.mean(v)))\n",
    "plt.legend(KEY_LIST)\n",
    "plt.grid()"
   ]
  },
  {
   "cell_type": "code",
   "execution_count": 25,
   "metadata": {},
   "outputs": [
    {
     "name": "stdout",
     "output_type": "stream",
     "text": [
      "BKPIECEkConfigDefault - 1258.0697298 ms\n",
      "KPIECEkConfigDefault - 4873.78735542 ms\n",
      "RRTkConfigDefault - 2249.45073128 ms\n"
     ]
    },
    {
     "data": {
      "image/png": "[encoded data removed]",
      "text/plain": [
       "<Figure size 432x288 with 1 Axes>"
      ]
     },
     "metadata": {
      "needs_background": "light"
     },
     "output_type": "display_data"
    }
   ],
   "source": [
    "KEY_LIST = []\n",
    "for k, v in gtimer.timelist_dict.items():\n",
    "    v = sorted(v)[int(len(v)*0.9):]\n",
    "    plt.plot(np.arange(len(v))+1, sorted(v), 'o')\n",
    "    KEY_LIST.append(k)\n",
    "    print(\"{} - {} ms\".format(k, np.mean(v)))\n",
    "plt.legend(KEY_LIST)\n",
    "plt.grid()"
   ]
  },
  {
   "cell_type": "markdown",
   "metadata": {},
   "source": [
    "### log - from off position to left floor, near to far, w. panda, collision body 10cm clearance 5mm"
   ]
  },
  {
   "cell_type": "code",
   "execution_count": 21,
   "metadata": {},
   "outputs": [
    {
     "name": "stdout",
     "output_type": "stream",
     "text": [
      "BKPIECEkConfigDefault - 378.663039207 ms\n",
      "KPIECEkConfigDefault - 1293.35561593 ms\n",
      "RRTkConfigDefault - 348.713739713 ms\n"
     ]
    },
    {
     "data": {
      "image/png": "[encoded data removed]",
      "text/plain": [
       "<Figure size 432x288 with 1 Axes>"
      ]
     },
     "metadata": {
      "needs_background": "light"
     },
     "output_type": "display_data"
    }
   ],
   "source": [
    "KEY_LIST = []\n",
    "for k, v in gtimer.timelist_dict.items():\n",
    "    v = sorted(v)[:int(len(v)*0.9)]\n",
    "    plt.plot(np.arange(len(v))+1, sorted(v), 'o')\n",
    "    KEY_LIST.append(k)\n",
    "    print(\"{} - {} ms\".format(k, np.mean(v)))\n",
    "plt.legend(KEY_LIST)\n",
    "plt.grid()"
   ]
  },
  {
   "cell_type": "code",
   "execution_count": 22,
   "metadata": {},
   "outputs": [
    {
     "name": "stdout",
     "output_type": "stream",
     "text": [
      "BKPIECEkConfigDefault - 1222.16172218 ms\n",
      "KPIECEkConfigDefault - 4766.97676182 ms\n",
      "RRTkConfigDefault - 1499.29749966 ms\n"
     ]
    },
    {
     "data": {
      "image/png": "[encoded data removed]",
      "text/plain": [
       "<Figure size 432x288 with 1 Axes>"
      ]
     },
     "metadata": {
      "needs_background": "light"
     },
     "output_type": "display_data"
    }
   ],
   "source": [
    "KEY_LIST = []\n",
    "for k, v in gtimer.timelist_dict.items():\n",
    "    v = sorted(v)[int(len(v)*0.9):]\n",
    "    plt.plot(np.arange(len(v))+1, sorted(v), 'o')\n",
    "    KEY_LIST.append(k)\n",
    "    print(\"{} - {} ms\".format(k, np.mean(v)))\n",
    "plt.legend(KEY_LIST)\n",
    "plt.grid()"
   ]
  },
  {
   "cell_type": "markdown",
   "metadata": {},
   "source": [
    "### log - from off position to left floor, near to far, w. panda"
   ]
  },
  {
   "cell_type": "code",
   "execution_count": 20,
   "metadata": {},
   "outputs": [
    {
     "name": "stdout",
     "output_type": "stream",
     "text": [
      "BKPIECEkConfigDefault - 426.150796149 ms\n",
      "KPIECEkConfigDefault - 1050.62039958 ms\n",
      "RRTkConfigDefault - 321.086035834 ms\n"
     ]
    },
    {
     "data": {
      "image/png": "[encoded data removed]",
      "text/plain": [
       "<Figure size 432x288 with 1 Axes>"
      ]
     },
     "metadata": {
      "needs_background": "light"
     },
     "output_type": "display_data"
    }
   ],
   "source": [
    "KEY_LIST = []\n",
    "for k, v in gtimer.timelist_dict.items():\n",
    "    v = sorted(v)[:int(len(v)*0.9)]\n",
    "    plt.plot(np.arange(len(v))+1, sorted(v), 'o')\n",
    "    KEY_LIST.append(k)\n",
    "    print(\"{} - {} ms\".format(k, np.mean(v)))\n",
    "plt.legend(KEY_LIST)\n",
    "plt.grid()"
   ]
  },
  {
   "cell_type": "code",
   "execution_count": 21,
   "metadata": {},
   "outputs": [
    {
     "name": "stdout",
     "output_type": "stream",
     "text": [
      "BKPIECEkConfigDefault - 1149.94819164 ms\n",
      "KPIECEkConfigDefault - 5498.2560873 ms\n",
      "RRTkConfigDefault - 2982.3018074 ms\n"
     ]
    },
    {
     "data": {
      "image/png": "[encoded data removed]",
      "text/plain": [
       "<Figure size 432x288 with 1 Axes>"
      ]
     },
     "metadata": {
      "needs_background": "light"
     },
     "output_type": "display_data"
    }
   ],
   "source": [
    "KEY_LIST = []\n",
    "for k, v in gtimer.timelist_dict.items():\n",
    "    v = sorted(v)[int(len(v)*0.9):]\n",
    "    plt.plot(np.arange(len(v))+1, sorted(v), 'o')\n",
    "    KEY_LIST.append(k)\n",
    "    print(\"{} - {} ms\".format(k, np.mean(v)))\n",
    "plt.legend(KEY_LIST)\n",
    "plt.grid()"
   ]
  },
  {
   "cell_type": "markdown",
   "metadata": {},
   "source": [
    "### log - from off position to left floor, near to far"
   ]
  },
  {
   "cell_type": "code",
   "execution_count": 24,
   "metadata": {},
   "outputs": [
    {
     "name": "stdout",
     "output_type": "stream",
     "text": [
      "BKPIECEkConfigDefault - 303.382174174 ms\n",
      "KPIECEkConfigDefault - 818.667078018 ms\n",
      "RRTkConfigDefault - 299.026881324 ms\n"
     ]
    },
    {
     "data": {
      "image/png": "[encoded data removed]",
      "text/plain": [
       "<Figure size 432x288 with 1 Axes>"
      ]
     },
     "metadata": {
      "needs_background": "light"
     },
     "output_type": "display_data"
    }
   ],
   "source": [
    "KEY_LIST = []\n",
    "for k, v in gtimer.timelist_dict.items():\n",
    "    v = sorted(v)[:int(len(v)*0.9)]\n",
    "    plt.plot(np.arange(len(v))+1, sorted(v), 'o')\n",
    "    KEY_LIST.append(k)\n",
    "    print(\"{} - {} ms\".format(k, np.mean(v)))\n",
    "plt.legend(KEY_LIST)\n",
    "plt.grid()"
   ]
  },
  {
   "cell_type": "code",
   "execution_count": 25,
   "metadata": {},
   "outputs": [
    {
     "name": "stdout",
     "output_type": "stream",
     "text": [
      "BKPIECEkConfigDefault - 959.244418144 ms\n",
      "KPIECEkConfigDefault - 3557.51888752 ms\n",
      "RRTkConfigDefault - 1816.56241417 ms\n"
     ]
    },
    {
     "data": {
      "image/png": "[encoded data removed]",
      "text/plain": [
       "<Figure size 432x288 with 1 Axes>"
      ]
     },
     "metadata": {
      "needs_background": "light"
     },
     "output_type": "display_data"
    }
   ],
   "source": [
    "KEY_LIST = []\n",
    "for k, v in gtimer.timelist_dict.items():\n",
    "    v = sorted(v)[int(len(v)*0.9):]\n",
    "    plt.plot(np.arange(len(v))+1, sorted(v), 'o')\n",
    "    KEY_LIST.append(k)\n",
    "    print(\"{} - {} ms\".format(k, np.mean(v)))\n",
    "plt.legend(KEY_LIST)\n",
    "plt.grid()"
   ]
  },
  {
   "cell_type": "markdown",
   "metadata": {},
   "source": [
    "### log - from off position to left floor, far to near"
   ]
  },
  {
   "cell_type": "code",
   "execution_count": 34,
   "metadata": {},
   "outputs": [
    {
     "name": "stdout",
     "output_type": "stream",
     "text": [
      "BKPIECEkConfigDefault - 339.733921157 ms\n",
      "KPIECEkConfigDefault - 805.74444135 ms\n",
      "RRTkConfigDefault - 545.071381993 ms\n"
     ]
    },
    {
     "data": {
      "image/png": "[encoded data removed]",
      "text/plain": [
       "<Figure size 432x288 with 1 Axes>"
      ]
     },
     "metadata": {
      "needs_background": "light"
     },
     "output_type": "display_data"
    }
   ],
   "source": [
    "KEY_LIST = []\n",
    "for k, v in gtimer.timelist_dict.items():\n",
    "    v = sorted(v)[:int(len(v)*0.9)]\n",
    "    plt.plot(np.arange(len(v))+1, sorted(v), 'o')\n",
    "    KEY_LIST.append(k)\n",
    "    print(\"{} - {} ms\".format(k, np.mean(v)))\n",
    "plt.legend(KEY_LIST)\n",
    "plt.grid()"
   ]
  },
  {
   "cell_type": "code",
   "execution_count": 35,
   "metadata": {},
   "outputs": [
    {
     "name": "stdout",
     "output_type": "stream",
     "text": [
      "BKPIECEkConfigDefault - 1094.71886158 ms\n",
      "KPIECEkConfigDefault - 3799.35190678 ms\n",
      "RRTkConfigDefault - 2274.76451397 ms\n"
     ]
    },
    {
     "data": {
      "image/png": "[encoded data removed]",
      "text/plain": [
       "<Figure size 432x288 with 1 Axes>"
      ]
     },
     "metadata": {
      "needs_background": "light"
     },
     "output_type": "display_data"
    }
   ],
   "source": [
    "KEY_LIST = []\n",
    "for k, v in gtimer.timelist_dict.items():\n",
    "    v = sorted(v)[int(len(v)*0.9):]\n",
    "    plt.plot(np.arange(len(v))+1, sorted(v), 'o')\n",
    "    KEY_LIST.append(k)\n",
    "    print(\"{} - {} ms\".format(k, np.mean(v)))\n",
    "plt.legend(KEY_LIST)\n",
    "plt.grid()"
   ]
  },
  {
   "cell_type": "markdown",
   "metadata": {},
   "source": [
    "### log - from origin to right floor, far to near"
   ]
  },
  {
   "cell_type": "code",
   "execution_count": 31,
   "metadata": {},
   "outputs": [
    {
     "name": "stdout",
     "output_type": "stream",
     "text": [
      "BKPIECEkConfigDefault - 362.981335081 ms\n",
      "KPIECEkConfigDefault - 431.381147076 ms\n",
      "RRTkConfigDefault - 396.254396679 ms\n"
     ]
    },
    {
     "data": {
      "image/png": "[encoded data removed]",
      "text/plain": [
       "<Figure size 432x288 with 1 Axes>"
      ]
     },
     "metadata": {
      "needs_background": "light"
     },
     "output_type": "display_data"
    }
   ],
   "source": [
    "KEY_LIST = []\n",
    "for k, v in gtimer.timelist_dict.items():\n",
    "    v = sorted(v)[:990]\n",
    "    plt.plot(np.arange(len(v))+1, sorted(v), 'o')\n",
    "    KEY_LIST.append(k)\n",
    "    print(\"{} - {} ms\".format(k, np.mean(v)))\n",
    "plt.legend(KEY_LIST)\n",
    "plt.grid()"
   ]
  },
  {
   "cell_type": "code",
   "execution_count": 32,
   "metadata": {},
   "outputs": [
    {
     "name": "stdout",
     "output_type": "stream",
     "text": [
      "BKPIECEkConfigDefault - 1717.57669449 ms\n",
      "KPIECEkConfigDefault - 2274.61001873 ms\n",
      "RRTkConfigDefault - 3942.07875729 ms\n"
     ]
    },
    {
     "data": {
      "image/png": "[encoded data removed]",
      "text/plain": [
       "<Figure size 432x288 with 1 Axes>"
      ]
     },
     "metadata": {
      "needs_background": "light"
     },
     "output_type": "display_data"
    }
   ],
   "source": [
    "KEY_LIST = []\n",
    "for k, v in gtimer.timelist_dict.items():\n",
    "    v = sorted(v)[990:]\n",
    "    plt.plot(np.arange(len(v))+1, sorted(v), 'o')\n",
    "    KEY_LIST.append(k)\n",
    "    print(\"{} - {} ms\".format(k, np.mean(v)))\n",
    "plt.legend(KEY_LIST)\n",
    "plt.grid()"
   ]
  },
  {
   "cell_type": "code",
   "execution_count": null,
   "metadata": {},
   "outputs": [],
   "source": []
  },
  {
   "cell_type": "markdown",
   "metadata": {},
   "source": [
    "#### constrained motion times\n",
    "```\n",
    "BKPIECEkConfigDefault: \t30617.1 ms/100 = 306.2 ms (45.038/900.671)\n",
    "KPIECEkConfigDefault: \t40873.6 ms/100 = 408.7 ms (19.622/1969.107)\n",
    "RRTkConfigDefault: \t43292.3 ms/100 = 432.9 ms (18.505/2624.852)\n",
    "RRTConnectkConfigDefault: \t27144.7 ms/5 = 5428.9 ms (251.446/7565.886)\n",
    "LBKPIECEkConfigDefault: \t43063.5 ms/5 = 8612.7 ms (5521.325/10175.108)\n",
    "```"
   ]
  },
  {
   "cell_type": "markdown",
   "metadata": {},
   "source": [
    "### visualize trajectory"
   ]
  },
  {
   "cell_type": "code",
   "execution_count": 23,
   "metadata": {
    "scrolled": true
   },
   "outputs": [
    {
     "name": "stdout",
     "output_type": "stream",
     "text": [
      "try constrained motion\n",
      "constrained motion tried: True\n"
     ]
    },
    {
     "data": {
      "text/plain": [
       "[array([[ 9.99999632e-01,  3.33836420e-04, -7.90827277e-04,\n",
       "          6.00245614e-01],\n",
       "        [-3.34316828e-04,  9.99999773e-01, -6.16745465e-04,\n",
       "         -2.99787686e-01],\n",
       "        [ 7.90625248e-04,  6.17008879e-04,  9.99999484e-01,\n",
       "          4.78774466e-03],\n",
       "        [ 0.00000000e+00,  0.00000000e+00,  0.00000000e+00,\n",
       "          1.00000000e+00]]),\n",
       " array([[ 9.99999632e-01,  3.33836420e-04, -7.90827277e-04,\n",
       "          6.00245614e-01],\n",
       "        [-3.34316828e-04,  9.99999773e-01, -6.16745465e-04,\n",
       "         -2.99787686e-01],\n",
       "        [ 7.90625248e-04,  6.17008879e-04,  9.99999484e-01,\n",
       "          4.78774466e-03],\n",
       "        [ 0.00000000e+00,  0.00000000e+00,  0.00000000e+00,\n",
       "          1.00000000e+00]]),\n",
       " array([[ 9.99999726e-01,  2.70935763e-08,  7.96994360e-04,\n",
       "          5.93760380e-01],\n",
       "        [ 1.49433995e-06,  9.99998161e-01, -1.92427492e-03,\n",
       "         -3.00000833e-01],\n",
       "        [-7.96980064e-04,  1.92427323e-03,  9.99997889e-01,\n",
       "          5.00095742e-03],\n",
       "        [ 0.00000000e+00,  0.00000000e+00,  0.00000000e+00,\n",
       "          1.00000000e+00]]),\n",
       " array([[ 9.99996958e-01, -3.46302262e-06, -2.46810874e-03,\n",
       "          5.90104356e-01],\n",
       "        [-1.70440214e-06,  9.99997839e-01, -2.10009272e-03,\n",
       "         -2.99993975e-01],\n",
       "        [ 2.46813299e-03,  2.10008629e-03,  9.99994746e-01,\n",
       "          5.00215187e-03],\n",
       "        [ 0.00000000e+00,  0.00000000e+00,  0.00000000e+00,\n",
       "          1.00000000e+00]]),\n",
       " array([[ 9.99999701e-01, -1.84954674e-08,  8.10738301e-04,\n",
       "          5.82750077e-01],\n",
       "        [ 2.80617010e-06,  9.99993973e-01, -3.46487719e-03,\n",
       "         -3.00002503e-01],\n",
       "        [-8.10727200e-04,  3.46487724e-03,  9.99993737e-01,\n",
       "          5.00289727e-03],\n",
       "        [ 0.00000000e+00,  0.00000000e+00,  0.00000000e+00,\n",
       "          1.00000000e+00]]),\n",
       " array([[ 9.99996957e-01, -8.22704451e-06, -2.46382545e-03,\n",
       "          5.79429420e-01],\n",
       "        [ 2.45509937e-06,  9.99997248e-01, -2.34251382e-03,\n",
       "         -2.99989654e-01],\n",
       "        [ 2.46382997e-03,  2.34250204e-03,  9.99994208e-01,\n",
       "          5.00226965e-03],\n",
       "        [ 0.00000000e+00,  0.00000000e+00,  0.00000000e+00,\n",
       "          1.00000000e+00]]),\n",
       " array([[ 9.99999427e-01,  1.10711720e-06,  1.07832457e-03,\n",
       "          5.71828083e-01],\n",
       "        [ 2.77221047e-06,  9.99993465e-01, -3.60908038e-03,\n",
       "         -3.00002894e-01],\n",
       "        [-1.07834670e-03,  3.60908617e-03,  9.99992897e-01,\n",
       "          5.00325642e-03],\n",
       "        [ 0.00000000e+00,  0.00000000e+00,  0.00000000e+00,\n",
       "          1.00000000e+00]]),\n",
       " array([[ 9.99995600e-01, -9.50562656e-06, -2.96060692e-03,\n",
       "          5.68642067e-01],\n",
       "        [ 1.27440423e-06,  9.99996130e-01, -2.78301689e-03,\n",
       "         -2.99989382e-01],\n",
       "        [ 2.96061892e-03,  2.78300130e-03,  9.99991718e-01,\n",
       "          5.00335450e-03],\n",
       "        [ 0.00000000e+00,  0.00000000e+00,  0.00000000e+00,\n",
       "          1.00000000e+00]]),\n",
       " array([[ 9.99999517e-01,  9.15494471e-07,  9.67336865e-04,\n",
       "          5.60724171e-01],\n",
       "        [ 2.93737028e-06,  9.99992015e-01, -3.98886024e-03,\n",
       "         -3.00003382e-01],\n",
       "        [-9.67331824e-04,  3.98886107e-03,  9.99991593e-01,\n",
       "          5.00386517e-03],\n",
       "        [ 0.00000000e+00,  0.00000000e+00,  0.00000000e+00,\n",
       "          1.00000000e+00]]),\n",
       " array([[ 9.99995615e-01, -1.10564561e-05, -2.96602521e-03,\n",
       "          5.57512882e-01],\n",
       "        [ 2.86828973e-06,  9.99996196e-01, -2.75896065e-03,\n",
       "         -2.99987794e-01],\n",
       "        [ 2.96605859e-03,  2.75893730e-03,  9.99991830e-01,\n",
       "          5.00325116e-03],\n",
       "        [ 0.00000000e+00,  0.00000000e+00,  0.00000000e+00,\n",
       "          1.00000000e+00]]),\n",
       " array([[ 9.99999552e-01,  7.86239835e-07,  9.43681171e-04,\n",
       "          5.49452183e-01],\n",
       "        [ 2.96159067e-06,  9.99992045e-01, -3.98206586e-03,\n",
       "         -3.00003329e-01],\n",
       "        [-9.43691022e-04,  3.98206982e-03,  9.99991630e-01,\n",
       "          5.00382997e-03],\n",
       "        [ 0.00000000e+00,  0.00000000e+00,  0.00000000e+00,\n",
       "          1.00000000e+00]]),\n",
       " array([[ 9.99995294e-01, -1.13024047e-05, -3.07976404e-03,\n",
       "          5.46161465e-01],\n",
       "        [ 2.80458711e-06,  9.99996223e-01, -2.75755555e-03,\n",
       "         -2.99987590e-01],\n",
       "        [ 3.07980352e-03,  2.75752983e-03,  9.99991498e-01,\n",
       "          5.00342987e-03],\n",
       "        [ 0.00000000e+00,  0.00000000e+00,  0.00000000e+00,\n",
       "          1.00000000e+00]]),\n",
       " array([[ 9.99999667e-01,  2.41267841e-07,  8.20888528e-04,\n",
       "          5.37953339e-01],\n",
       "        [ 3.05411919e-06,  9.99991991e-01, -4.00678847e-03,\n",
       "         -3.00003273e-01],\n",
       "        [-8.20859780e-04,  4.00678490e-03,  9.99991654e-01,\n",
       "          5.00381828e-03],\n",
       "        [ 0.00000000e+00,  0.00000000e+00,  0.00000000e+00,\n",
       "          1.00000000e+00]]),\n",
       " array([[ 9.99995442e-01, -1.13323341e-05, -3.02113001e-03,\n",
       "          5.34515124e-01],\n",
       "        [ 3.38820815e-06,  9.99996545e-01, -2.62865569e-03,\n",
       "         -2.99987163e-01],\n",
       "        [ 3.02113443e-03,  2.62863643e-03,  9.99991966e-01,\n",
       "          5.00323579e-03],\n",
       "        [ 0.00000000e+00,  0.00000000e+00,  0.00000000e+00,\n",
       "          1.00000000e+00]]),\n",
       " array([[ 9.99999680e-01, -7.95119709e-08,  7.55114416e-04,\n",
       "          5.26216389e-01],\n",
       "        [ 3.04651474e-06,  9.99992341e-01, -3.91214606e-03,\n",
       "         -3.00003059e-01],\n",
       "        [-7.55081695e-04,  3.91214170e-03,  9.99992068e-01,\n",
       "          5.00365872e-03],\n",
       "        [ 0.00000000e+00,  0.00000000e+00,  0.00000000e+00,\n",
       "          1.00000000e+00]]),\n",
       " array([[ 9.99995359e-01, -1.10966162e-05, -3.05110812e-03,\n",
       "          5.22642870e-01],\n",
       "        [ 3.34429570e-06,  9.99996772e-01, -2.53769832e-03,\n",
       "         -2.99987207e-01],\n",
       "        [ 3.05110699e-03,  2.53768028e-03,  9.99992122e-01,\n",
       "          5.00318154e-03],\n",
       "        [ 0.00000000e+00,  0.00000000e+00,  0.00000000e+00,\n",
       "          1.00000000e+00]]),\n",
       " array([[ 9.99999724e-01, -6.34048977e-07,  6.27022254e-04,\n",
       "          5.14245077e-01],\n",
       "        [ 3.06158324e-06,  9.99992535e-01, -3.85075067e-03,\n",
       "         -3.00002863e-01],\n",
       "        [-6.27018148e-04,  3.85075238e-03,  9.99992354e-01,\n",
       "          5.00353896e-03],\n",
       "        [ 0.00000000e+00,  0.00000000e+00,  0.00000000e+00,\n",
       "          1.00000000e+00]]),\n",
       " array([[ 9.99995812e-01, -1.05756206e-05, -2.90499609e-03,\n",
       "          5.10467036e-01],\n",
       "        [ 3.70295588e-06,  9.99997239e-01, -2.36732838e-03,\n",
       "         -2.99987208e-01],\n",
       "        [ 2.90503676e-03,  2.36730222e-03,  9.99992999e-01,\n",
       "          5.00280599e-03],\n",
       "        [ 0.00000000e+00,  0.00000000e+00,  0.00000000e+00,\n",
       "          1.00000000e+00]]),\n",
       " array([[ 9.99999846e-01, -7.43249735e-07,  6.01489222e-04,\n",
       "          5.02012479e-01],\n",
       "        [ 2.98044805e-06,  9.99993192e-01, -3.70317875e-03,\n",
       "         -3.00002642e-01],\n",
       "        [-6.01458995e-04,  3.70317483e-03,  9.99992969e-01,\n",
       "          5.00327176e-03],\n",
       "        [ 0.00000000e+00,  0.00000000e+00,  0.00000000e+00,\n",
       "          1.00000000e+00]]),\n",
       " array([[ 9.99995504e-01, -1.02373032e-05, -3.01296253e-03,\n",
       "          4.98126504e-01],\n",
       "        [ 3.27977023e-06,  9.99997359e-01, -2.30486146e-03,\n",
       "         -2.99987451e-01],\n",
       "        [ 3.01297929e-03,  2.30484100e-03,  9.99992837e-01,\n",
       "          5.00290755e-03],\n",
       "        [ 0.00000000e+00,  0.00000000e+00,  0.00000000e+00,\n",
       "          1.00000000e+00]]),\n",
       " array([[ 9.99999869e-01, -1.44583224e-06,  4.13240329e-04,\n",
       "          4.89574534e-01],\n",
       "        [ 2.96373703e-06,  9.99993278e-01, -3.65786814e-03,\n",
       "         -3.00002471e-01],\n",
       "        [-4.13237621e-04,  3.65787029e-03,  9.99993203e-01,\n",
       "          5.00315018e-03],\n",
       "        [ 0.00000000e+00,  0.00000000e+00,  0.00000000e+00,\n",
       "          1.00000000e+00]]),\n",
       " array([[ 9.99996778e-01, -9.17166817e-06, -2.54435147e-03,\n",
       "          4.85341514e-01],\n",
       "        [ 3.95696680e-06,  9.99997929e-01, -2.05390760e-03,\n",
       "         -2.99987836e-01],\n",
       "        [ 2.54439238e-03,  2.05388444e-03,  9.99994661e-01,\n",
       "          5.00212281e-03],\n",
       "        [ 0.00000000e+00,  0.00000000e+00,  0.00000000e+00,\n",
       "          1.00000000e+00]]),\n",
       " array([[ 9.99999881e-01, -5.86194281e-07,  6.36988762e-04,\n",
       "          4.76786105e-01],\n",
       "        [ 2.74306215e-06,  9.99994266e-01, -3.40418156e-03,\n",
       "         -3.00002231e-01],\n",
       "        [-6.36966362e-04,  3.40417882e-03,  9.99994049e-01,\n",
       "          5.00277809e-03],\n",
       "        [ 0.00000000e+00,  0.00000000e+00,  0.00000000e+00,\n",
       "          1.00000000e+00]]),\n",
       " array([[ 9.99994278e-01, -9.79003012e-06, -3.40433027e-03,\n",
       "          4.72755286e-01],\n",
       "        [ 1.93261235e-06,  9.99997397e-01, -2.30546579e-03,\n",
       "         -2.99988306e-01],\n",
       "        [ 3.40435717e-03,  2.30544268e-03,  9.99991583e-01,\n",
       "          5.00349611e-03],\n",
       "        [ 0.00000000e+00,  0.00000000e+00,  0.00000000e+00,\n",
       "          1.00000000e+00]]),\n",
       " array([[ 1.00000002e+00, -2.94839690e-06,  6.95019376e-06,\n",
       "          4.63960010e-01],\n",
       "        [ 2.95357511e-06,  9.99993295e-01, -3.65628954e-03,\n",
       "         -3.00002320e-01],\n",
       "        [-6.93227870e-06,  3.65628774e-03,  9.99993369e-01,\n",
       "          5.00307385e-03],\n",
       "        [ 0.00000000e+00,  0.00000000e+00,  0.00000000e+00,\n",
       "          1.00000000e+00]]),\n",
       " array([[ 9.99999832e-01, -4.78267192e-06, -6.03244507e-04,\n",
       "          4.58489737e-01],\n",
       "        [ 3.69724627e-06,  9.99998426e-01, -1.74638555e-03,\n",
       "         -2.99992234e-01],\n",
       "        [ 6.03244929e-04,  1.74638470e-03,  9.99998356e-01,\n",
       "          5.00049905e-03],\n",
       "        [ 0.00000000e+00,  0.00000000e+00,  0.00000000e+00,\n",
       "          1.00000000e+00]]),\n",
       " array([[ 9.99994293e-01,  6.43855006e-06,  3.37847075e-03,\n",
       "          4.49701645e-01],\n",
       "        [ 9.56112752e-07,  9.99997556e-01, -2.19429205e-03,\n",
       "         -3.00004951e-01],\n",
       "        [-3.37848600e-03,  2.19428507e-03,  9.99991916e-01,\n",
       "          5.00368032e-03],\n",
       "        [ 0.00000000e+00,  0.00000000e+00,  0.00000000e+00,\n",
       "          1.00000000e+00]]),\n",
       " array([[ 9.99999976e-01,  4.10523441e-06,  2.13330643e-04,\n",
       "          4.44090650e-01],\n",
       "        [-3.41870912e-06,  9.99994829e-01, -3.21556544e-03,\n",
       "         -2.99997833e-01],\n",
       "        [-2.13367588e-04,  3.21557104e-03,  9.99994779e-01,\n",
       "          5.00214577e-03],\n",
       "        [ 0.00000000e+00,  0.00000000e+00,  0.00000000e+00,\n",
       "          1.00000000e+00]]),\n",
       " array([[ 9.99997623e-01, -7.12686582e-06, -2.20447534e-03,\n",
       "          4.39182078e-01],\n",
       "        [ 3.44446632e-06,  9.99998648e-01, -1.66634679e-03,\n",
       "         -2.99989567e-01],\n",
       "        [ 2.20447681e-03,  1.66633696e-03,  9.99996193e-01,\n",
       "          5.00153832e-03],\n",
       "        [ 0.00000000e+00,  0.00000000e+00,  0.00000000e+00,\n",
       "          1.00000000e+00]]),\n",
       " array([[ 9.99999883e-01, -8.23632323e-07,  5.00291258e-04,\n",
       "          4.30457386e-01],\n",
       "        [ 2.31446428e-06,  9.99995563e-01, -2.98122625e-03,\n",
       "         -3.00001638e-01],\n",
       "        [-5.00289880e-04,  2.98122801e-03,  9.99995429e-01,\n",
       "          5.00214963e-03],\n",
       "        [ 0.00000000e+00,  0.00000000e+00,  0.00000000e+00,\n",
       "          1.00000000e+00]]),\n",
       " array([[ 9.99993777e-01, -8.18324047e-06, -3.50751905e-03,\n",
       "          4.25953537e-01],\n",
       "        [ 1.14100489e-06,  9.99997927e-01, -2.01105135e-03,\n",
       "         -2.99989741e-01],\n",
       "        [ 3.50751757e-03,  2.01103772e-03,  9.99991791e-01,\n",
       "          5.00347381e-03],\n",
       "        [ 0.00000000e+00,  0.00000000e+00,  0.00000000e+00,\n",
       "          1.00000000e+00]]),\n",
       " array([[ 9.99999938e-01, -3.93611323e-06, -4.12501146e-04,\n",
       "          4.16928742e-01],\n",
       "        [ 2.59408944e-06,  9.99994595e-01, -3.30682533e-03,\n",
       "         -3.00001809e-01],\n",
       "        [ 4.12538673e-04,  3.30681703e-03,  9.99994430e-01,\n",
       "          5.00259638e-03],\n",
       "        [ 0.00000000e+00,  0.00000000e+00,  0.00000000e+00,\n",
       "          1.00000000e+00]]),\n",
       " array([[ 9.99997072e-01,  4.14851381e-06,  2.40623742e-03,\n",
       "          4.09176861e-01],\n",
       "        [ 4.71414551e-07,  9.99998124e-01, -1.91995587e-03,\n",
       "         -3.00003004e-01],\n",
       "        [-2.40624643e-03,  1.91995288e-03,  9.99995256e-01,\n",
       "          5.00189044e-03],\n",
       "        [ 0.00000000e+00,  0.00000000e+00,  0.00000000e+00,\n",
       "          1.00000000e+00]]),\n",
       " array([[ 9.99999884e-01,  1.65951173e-06, -3.42580544e-04,\n",
       "          4.03085829e-01],\n",
       "        [-2.58671764e-06,  9.99996157e-01, -2.76354428e-03,\n",
       "         -2.99998282e-01],\n",
       "        [ 3.42581015e-04,  2.76354337e-03,  9.99996090e-01,\n",
       "          5.00160281e-03],\n",
       "        [ 0.00000000e+00,  0.00000000e+00,  0.00000000e+00,\n",
       "          1.00000000e+00]]),\n",
       " array([[ 9.99997377e-01,  3.26143550e-06,  2.26750711e-03,\n",
       "          3.95213812e-01],\n",
       "        [ 4.57813034e-07,  9.99998609e-01, -1.63907395e-03,\n",
       "         -3.00002885e-01],\n",
       "        [-2.26752903e-03,  1.63907605e-03,  9.99996062e-01,\n",
       "          5.00161191e-03],\n",
       "        [ 0.00000000e+00,  0.00000000e+00,  0.00000000e+00,\n",
       "          1.00000000e+00]]),\n",
       " array([[ 9.99999985e-01,  1.75438159e-06, -1.69192542e-04,\n",
       "          3.88859984e-01],\n",
       "        [-2.17808695e-06,  9.99996909e-01, -2.48369094e-03,\n",
       "         -2.99998617e-01],\n",
       "        [ 1.69182072e-04,  2.48369284e-03,  9.99996903e-01,\n",
       "          5.00127013e-03],\n",
       "        [ 0.00000000e+00,  0.00000000e+00,  0.00000000e+00,\n",
       "          1.00000000e+00]]),\n",
       " array([[ 9.99999723e-01, -5.54339060e-07,  7.66212228e-04,\n",
       "          3.81745045e-01],\n",
       "        [ 1.51588985e-06,  9.99999281e-01, -1.23434501e-03,\n",
       "         -2.99998882e-01],\n",
       "        [-7.66199160e-04,  1.23434245e-03,  9.99998925e-01,\n",
       "          5.00043950e-03],\n",
       "        [ 0.00000000e+00,  0.00000000e+00,  0.00000000e+00,\n",
       "          1.00000000e+00]]),\n",
       " array([[ 9.99998495e-01, -1.12432005e-06, -1.70974233e-03,\n",
       "          3.75414545e-01],\n",
       "        [-1.97274667e-06,  9.99998323e-01, -1.81938886e-03,\n",
       "         -2.99998292e-01],\n",
       "        [ 1.70974131e-03,  1.81938974e-03,  9.99996857e-01,\n",
       "          5.00132277e-03],\n",
       "        [ 0.00000000e+00,  0.00000000e+00,  0.00000000e+00,\n",
       "          1.00000000e+00]]),\n",
       " array([[ 9.99998656e-01,  4.73641177e-05, -1.67562057e-03,\n",
       "          3.67506654e-01],\n",
       "        [-5.01597060e-05,  9.99998662e-01, -1.66213817e-03,\n",
       "         -3.01198310e-01],\n",
       "        [ 1.67553699e-03,  1.66222068e-03,  9.99997232e-01,\n",
       "          5.18784905e-03],\n",
       "        [ 0.00000000e+00,  0.00000000e+00,  0.00000000e+00,\n",
       "          1.00000000e+00]]),\n",
       " array([[ 9.99997883e-01,  2.62944848e-06,  2.06748927e-03,\n",
       "          3.57946297e-01],\n",
       "        [ 5.37701470e-06,  9.99992449e-01, -3.88293601e-03,\n",
       "         -3.00003654e-01],\n",
       "        [-2.06749051e-03,  3.88294097e-03,  9.99990357e-01,\n",
       "          5.00458050e-03],\n",
       "        [ 0.00000000e+00,  0.00000000e+00,  0.00000000e+00,\n",
       "          1.00000000e+00]]),\n",
       " array([[ 9.99998172e-01,  5.97276142e-05,  1.90334042e-03,\n",
       "          3.50119427e-01],\n",
       "        [-5.28175171e-05,  9.99993408e-01, -3.62804778e-03,\n",
       "         -3.01095955e-01],\n",
       "        [-1.90355451e-03,  3.62794378e-03,  9.99991591e-01,\n",
       "          5.17026970e-03],\n",
       "        [ 0.00000000e+00,  0.00000000e+00,  0.00000000e+00,\n",
       "          1.00000000e+00]]),\n",
       " array([[ 9.99992565e-01, -8.79569523e-06, -3.85991419e-03,\n",
       "          3.45647697e-01],\n",
       "        [-7.20277618e-06,  9.99991425e-01, -4.14393929e-03,\n",
       "         -2.99992294e-01],\n",
       "        [ 3.85991815e-03,  4.14393603e-03,  9.99983970e-01,\n",
       "          5.00662995e-03],\n",
       "        [ 0.00000000e+00,  0.00000000e+00,  0.00000000e+00,\n",
       "          1.00000000e+00]]),\n",
       " array([[ 9.99993116e-01,  6.67363633e-05, -3.70440528e-03,\n",
       "          3.37636062e-01],\n",
       "        [-8.07834216e-05,  9.99992784e-01, -3.78960458e-03,\n",
       "         -3.01028754e-01],\n",
       "        [ 3.70411790e-03,  3.78988023e-03,  9.99985966e-01,\n",
       "          5.15210580e-03],\n",
       "        [ 0.00000000e+00,  0.00000000e+00,  0.00000000e+00,\n",
       "          1.00000000e+00]]),\n",
       " array([[ 9.99997962e-01,  4.90805076e-06,  2.01082926e-03,\n",
       "          3.27000570e-01],\n",
       "        [ 6.34769762e-06,  9.99984276e-01, -5.60250891e-03,\n",
       "         -3.00005672e-01],\n",
       "        [-2.01082513e-03,  5.60251006e-03,  9.99982301e-01,\n",
       "          5.00797093e-03],\n",
       "        [ 0.00000000e+00,  0.00000000e+00,  0.00000000e+00,\n",
       "          1.00000000e+00]]),\n",
       " array([[ 9.99998330e-01,  7.91559320e-05,  1.80965173e-03,\n",
       "          3.19164066e-01],\n",
       "        [-6.97971957e-05,  9.99986619e-01, -5.16832052e-03,\n",
       "         -3.00915626e-01],\n",
       "        [-1.81004264e-03,  5.16818779e-03,  9.99984994e-01,\n",
       "          5.13067524e-03],\n",
       "        [ 0.00000000e+00,  0.00000000e+00,  0.00000000e+00,\n",
       "          1.00000000e+00]]),\n",
       " array([[ 9.99984952e-01, -1.95047799e-05, -5.48892951e-03,\n",
       "          3.15501851e-01],\n",
       "        [-5.37201737e-06,  9.99989750e-01, -4.53341949e-03,\n",
       "         -2.99988524e-01],\n",
       "        [ 5.48898379e-03,  4.53337257e-03,  9.99974666e-01,\n",
       "          5.01060766e-03],\n",
       "        [ 0.00000000e+00,  0.00000000e+00,  0.00000000e+00,\n",
       "          1.00000000e+00]]),\n",
       " array([[ 9.99986557e-01,  7.10053424e-05, -5.17009392e-03,\n",
       "          3.07384922e-01],\n",
       "        [-9.19457222e-05,  9.99991729e-01, -4.05419456e-03,\n",
       "         -3.00848362e-01],\n",
       "        [ 5.16974379e-03,  4.05462263e-03,  9.99978367e-01,\n",
       "          5.11067626e-03],\n",
       "        [ 0.00000000e+00,  0.00000000e+00,  0.00000000e+00,\n",
       "          1.00000000e+00]]),\n",
       " array([[ 9.99999898e-01, -3.17866356e-06,  3.65669264e-04,\n",
       "          2.96707166e-01],\n",
       "        [ 5.22641556e-06,  9.99984587e-01, -5.55004828e-03,\n",
       "         -3.00004038e-01],\n",
       "        [-3.65643149e-04,  5.55004839e-03,  9.99984504e-01,\n",
       "          5.00684940e-03],\n",
       "        [ 0.00000000e+00,  0.00000000e+00,  0.00000000e+00,\n",
       "          1.00000000e+00]]),\n",
       " array([[ 9.99999968e-01,  8.43734693e-05,  2.48314277e-04,\n",
       "          2.88824016e-01],\n",
       "        [-8.31320866e-05,  9.99987620e-01, -4.97672069e-03,\n",
       "         -3.00728766e-01],\n",
       "        [-2.48742955e-04,  4.97670415e-03,  9.99987569e-01,\n",
       "          5.08211063e-03],\n",
       "        [ 0.00000000e+00,  0.00000000e+00,  0.00000000e+00,\n",
       "          1.00000000e+00]]),\n",
       " array([[ 9.99982564e-01, -1.92512591e-05, -5.91323790e-03,\n",
       "          2.84875060e-01],\n",
       "        [ 4.85630496e-06,  9.99997062e-01, -2.42944661e-03,\n",
       "         -2.99981036e-01],\n",
       "        [ 5.91324968e-03,  2.42938188e-03,  9.99979597e-01,\n",
       "          5.00884784e-03],\n",
       "        [ 0.00000000e+00,  0.00000000e+00,  0.00000000e+00,\n",
       "          1.00000000e+00]]),\n",
       " array([[ 9.99985250e-01,  7.21303156e-05, -5.41621022e-03,\n",
       "          2.76629266e-01],\n",
       "        [-8.30542622e-05,  9.99997902e-01, -2.02136714e-03,\n",
       "         -3.00653448e-01],\n",
       "        [ 5.41604597e-03,  2.02179011e-03,  9.99983245e-01,\n",
       "          5.05682518e-03],\n",
       "        [ 0.00000000e+00,  0.00000000e+00,  0.00000000e+00,\n",
       "          1.00000000e+00]]),\n",
       " array([[ 9.99987892e-01,  1.56097324e-04, -4.91610357e-03,\n",
       "          2.68375174e-01],\n",
       "        [-1.64112386e-04,  9.99998650e-01, -1.63084388e-03,\n",
       "         -3.01191483e-01],\n",
       "        [ 4.91586336e-03,  1.63162276e-03,  9.99986595e-01,\n",
       "          5.08552451e-03],\n",
       "        [ 0.00000000e+00,  0.00000000e+00,  0.00000000e+00,\n",
       "          1.00000000e+00]]),\n",
       " array([[ 9.99998964e-01, -8.30017539e-06, -1.47517641e-03,\n",
       "          2.58605636e-01],\n",
       "        [ 3.58914400e-06,  9.99994966e-01, -3.18549256e-03,\n",
       "         -3.00001867e-01],\n",
       "        [ 1.47521261e-03,  3.18547687e-03,  9.99993868e-01,\n",
       "          5.00256532e-03],\n",
       "        [ 0.00000000e+00,  0.00000000e+00,  0.00000000e+00,\n",
       "          1.00000000e+00]]),\n",
       " array([[ 9.99998961e-01,  9.82105881e-05, -1.38815743e-03,\n",
       "          2.50630371e-01],\n",
       "        [-1.01753211e-04,  9.99996630e-01, -2.58498547e-03,\n",
       "         -3.00485316e-01],\n",
       "        [ 1.38789076e-03,  2.58512754e-03,  9.99995624e-01,\n",
       "          5.00428579e-03],\n",
       "        [ 0.00000000e+00,  0.00000000e+00,  0.00000000e+00,\n",
       "          1.00000000e+00]]),\n",
       " array([[ 9.99999116e-01,  1.96371632e-04, -1.29537637e-03,\n",
       "          2.42651758e-01],\n",
       "        [-1.98922689e-04,  9.99997996e-01, -1.99709441e-03,\n",
       "         -3.00836962e-01],\n",
       "        [ 1.29496314e-03,  1.99735800e-03,  9.99997103e-01,\n",
       "          4.98731751e-03],\n",
       "        [ 0.00000000e+00,  0.00000000e+00,  0.00000000e+00,\n",
       "          1.00000000e+00]]),\n",
       " array([[ 9.99999221e-01,  2.86389229e-04, -1.19716579e-03,\n",
       "          2.34671932e-01],\n",
       "        [-2.88091420e-04,  9.99998927e-01, -1.42191957e-03,\n",
       "         -3.01056709e-01],\n",
       "        [ 1.19674342e-03,  1.42226926e-03,  9.99998263e-01,\n",
       "          4.95163164e-03],\n",
       "        [ 0.00000000e+00,  0.00000000e+00,  0.00000000e+00,\n",
       "          1.00000000e+00]]),\n",
       " array([[ 9.99999351e-01,  3.68380804e-04, -1.09389467e-03,\n",
       "          2.26693092e-01],\n",
       "        [-3.69321679e-04,  9.99999579e-01, -8.59539234e-04,\n",
       "         -3.01144563e-01],\n",
       "        [ 1.09358263e-03,  8.59940431e-04,  9.99999037e-01,\n",
       "          4.89722207e-03],\n",
       "        [ 0.00000000e+00,  0.00000000e+00,  0.00000000e+00,\n",
       "          1.00000000e+00]]),\n",
       " array([[ 9.99999376e-01,  4.42505572e-04, -9.85910181e-04,\n",
       "          2.18717444e-01],\n",
       "        [-4.42784929e-04,  9.99999838e-01, -3.10033497e-04,\n",
       "         -3.01100507e-01],\n",
       "        [ 9.85761713e-04,  3.10474858e-04,  9.99999423e-01,\n",
       "          4.82406625e-03],\n",
       "        [ 0.00000000e+00,  0.00000000e+00,  0.00000000e+00,\n",
       "          1.00000000e+00]]),\n",
       " array([[ 9.99999441e-01,  5.08796814e-04, -8.73494519e-04,\n",
       "          2.10747158e-01],\n",
       "        [-5.08587549e-04,  9.99999807e-01,  2.26494981e-04,\n",
       "         -3.00924618e-01],\n",
       "        [ 8.73596706e-04, -2.26044727e-04,  9.99999569e-01,\n",
       "          4.73201976e-03],\n",
       "        [ 0.00000000e+00,  0.00000000e+00,  0.00000000e+00,\n",
       "          1.00000000e+00]]),\n",
       " array([[ 9.99999542e-01,  5.67494246e-04, -7.57020939e-04,\n",
       "          2.02784373e-01],\n",
       "        [-5.66923082e-04,  9.99999550e-01,  7.49990603e-04,\n",
       "         -3.00616955e-01],\n",
       "        [ 7.57445658e-04, -7.49560857e-04,  9.99999427e-01,\n",
       "          4.62112189e-03],\n",
       "        [ 0.00000000e+00,  0.00000000e+00,  0.00000000e+00,\n",
       "          1.00000000e+00]]),\n",
       " array([[ 9.99999543e-01,  5.84779304e-04, -7.18729410e-04,\n",
       "          2.00220868e-01],\n",
       "        [-5.84107726e-04,  9.99999393e-01,  9.15887807e-04,\n",
       "         -3.00489790e-01],\n",
       "        [ 7.19240937e-04, -9.15456520e-04,  9.99999289e-01,\n",
       "          4.58140363e-03],\n",
       "        [ 0.00000000e+00,  0.00000000e+00,  0.00000000e+00,\n",
       "          1.00000000e+00]])]"
      ]
     },
     "execution_count": 23,
     "metadata": {},
     "output_type": "execute_result"
    }
   ],
   "source": [
    "with gtimer.block(\"BKPIECEkConfigDefault\"):\n",
    "    Traj, LastQ, error, success, binding_list = mplan.plan_transition(\n",
    "        from_state, to_state, redundancy_dict, timeout=10, \n",
    "        plannerconfig=PlannerConfig.BKPIECEkConfigDefault, \n",
    "        cs_type=ConstrainedSpaceType.PROJECTED)\n",
    "gscene.clear_highlight()\n",
    "gscene.show_motion(Traj, period=0.05)\n",
    "sweep_face.draw_traj_coords(Traj, \"traj_{}\".format(sweep_face.name))"
   ]
  },
  {
   "cell_type": "code",
   "execution_count": null,
   "metadata": {},
   "outputs": [],
   "source": []
  }
 ],
 "metadata": {
  "kernelspec": {
   "display_name": "Python 2",
   "language": "python",
   "name": "python2"
  },
  "language_info": {
   "codemirror_mode": {
    "name": "ipython",
    "version": 2
   },
   "file_extension": ".py",
   "mimetype": "text/x-python",
   "name": "python",
   "nbconvert_exporter": "python",
   "pygments_lexer": "ipython2",
   "version": "2.7.17"
  }
 },
 "nbformat": 4,
 "nbformat_minor": 2
}
