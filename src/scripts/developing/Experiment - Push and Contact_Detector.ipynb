{
 "cells": [
  {
   "cell_type": "code",
   "execution_count": 1,
   "metadata": {},
   "outputs": [
    {
     "name": "stdout",
     "output_type": "stream",
     "text": [
      "Current PC IP: 192.168.0.10\n",
      "Mobile ROB IP: 192.168.0.102\n"
     ]
    }
   ],
   "source": [
    "import os\n",
    "import sys\n",
    "sys.path.append(os.path.join(os.path.join(\n",
    "    os.environ[\"RNB_PLANNING_DIR\"], 'src')))\n",
    "sys.path.append(os.path.join(\n",
    "    os.environ[\"RNB_PLANNING_DIR\"], 'src/scripts/demo_202107'))\n",
    "\n",
    "CONNECT_INDY = False\n",
    "CONNECT_MOBILE = False\n",
    "USE_SDK = True\n",
    "\n",
    "IP_CUR = \"192.168.0.10\"# get_ip_address()\n",
    "MOBILE_IP = \"192.168.0.102\"\n",
    "INDY_IP = \"192.168.0.3\"\n",
    "\n",
    "print(\"Current PC IP: {}\".format(IP_CUR))\n",
    "print(\"Mobile ROB IP: {}\".format(MOBILE_IP))"
   ]
  },
  {
   "cell_type": "code",
   "execution_count": 2,
   "metadata": {},
   "outputs": [],
   "source": [
    "# add camera geometry\n",
    "def add_cam(gscene, tool_link=\"indy0_tcp\"):\n",
    "    gscene.create_safe(gtype=GEOTYPE.CYLINDER, name=\"cam\", link_name=tool_link,\n",
    "                       dims=(0.061, 0.061, 0.026), center=(-0.0785, 0, 0.013), rpy=(0, 0, 0),\n",
    "                       color=(0.8, 0.8, 0.8, 0.5), display=True, fixed=True, collision=False)\n",
    "\n",
    "    gscene.create_safe(gtype=GEOTYPE.CYLINDER, name=\"cam_col\", link_name=tool_link,\n",
    "                       dims=(0.081, 0.081, 0.046), center=(-0.0785, 0, 0.013), rpy=(0, 0, 0),\n",
    "                       color=(0.8, 0.8, 0.8, 0.2), display=True, fixed=True, collision=True)\n",
    "\n",
    "    viewpoint = gscene.create_safe(gtype=GEOTYPE.SPHERE, name=\"viewpoint\", link_name=tool_link,\n",
    "                                   dims=(0.01, 0.01, 0.01), center=(-0.013, 0, 0), rpy=(0, 0, -np.pi / 2),\n",
    "                                   color=(1, 0, 0, 0.3), display=True, fixed=True, collision=False, parent=\"cam\")\n",
    "\n",
    "    gscene.create_safe(gtype=GEOTYPE.CYLINDER, name=\"body\", link_name=tool_link,\n",
    "                       dims=(0.067, 0.067, 0.0335), center=(-0.0785, 0, -0.01675), rpy=(0, 0, 0),\n",
    "                       color=(0.8, 0.8, 0.8, 1), display=True, fixed=True, collision=False)\n",
    "\n",
    "    gscene.create_safe(gtype=GEOTYPE.CYLINDER, name=\"body_col\", link_name=tool_link,\n",
    "                       dims=(0.087, 0.087, 0.0535), center=(-0.0785, 0, -0.01675), rpy=(0, 0, 0),\n",
    "                       color=(0.8, 0.8, 0.8, 0.2), display=True, fixed=True, collision=True)\n",
    "\n",
    "    gscene.create_safe(gtype=GEOTYPE.SPHERE, name=\"backhead\", link_name=tool_link,\n",
    "                       dims=(0.067, 0.067, 0.067), center=(-0.0785, 0, -0.0335), rpy=(0, 0, 0),\n",
    "                       color=(0.8, 0.8, 0.8, 1), display=True, fixed=True, collision=False)\n",
    "\n",
    "    gscene.create_safe(gtype=GEOTYPE.SPHERE, name=\"backhead_col\", link_name=tool_link,\n",
    "                       dims=(0.087, 0.087, 0.087), center=(-0.0785, 0, -0.0335), rpy=(0, 0, 0),\n",
    "                       color=(0.8, 0.8, 0.8, 0.2), display=True, fixed=True, collision=True)\n",
    "    return viewpoint"
   ]
  },
  {
   "cell_type": "code",
   "execution_count": 3,
   "metadata": {},
   "outputs": [
    {
     "name": "stdout",
     "output_type": "stream",
     "text": [
      "connection command:\n",
      "kmb0: True\n",
      "indy1: False\n"
     ]
    }
   ],
   "source": [
    "INDY_BASE_OFFSET = (0.172,0,0.439)\n",
    "INDY_BASE_RPY = (0,0,0)\n",
    "TOOL_NAME = \"brush_face\"\n",
    "WALL_THICKNESS = 0.01\n",
    "CLEARANCE = 0.001\n",
    "WS_HEIGHT = 1.6\n",
    "COL_COLOR = (1,1,1,0.2)\n",
    "    \n",
    "# if EXP_SCENARIO == ExpType.REMOVE_OBS: ## Obstacle removing\n",
    "#     BAG_COUNT = 5\n",
    "#     CLOCK_COUNT = 0\n",
    "#     TARGET_COUNT = 5\n",
    "#     LOG_FORCE = False\n",
    "# else: ## Contact \n",
    "#     BAG_COUNT = 3\n",
    "#     CLOCK_COUNT = 3\n",
    "#     TARGET_COUNT = 5\n",
    "#     LOG_FORCE = True\n",
    "\n",
    "from pkg.controller.combined_robot import *\n",
    "from pkg.project_config import *\n",
    "\n",
    "if not CONNECT_INDY:\n",
    "    indy_7dof_client.kiro_tool.OFFLINE_MODE = True\n",
    "kiro_udp_client.KIRO_UDP_OFFLINE_DEBUG = not CONNECT_MOBILE\n",
    "\n",
    "mobile_config = RobotConfig(0, RobotType.kmb, ((0,0,0), (0,0,0)),\n",
    "                \"{}/{}\".format(MOBILE_IP, IP_CUR))\n",
    "robot_config = RobotConfig(1, RobotType.indy7, \n",
    "                           (INDY_BASE_OFFSET, INDY_BASE_RPY),\n",
    "                INDY_IP, root_on=\"kmb0_platform\", \n",
    "                           specs={\"no_sdk\":True} if not USE_SDK else {})\n",
    "\n",
    "ROBOT_TYPE = robot_config.type\n",
    "MOBILE_NAME = mobile_config.get_indexed_name()\n",
    "ROBOT_NAME = robot_config.get_indexed_name()\n",
    "crob = CombinedRobot(robots_on_scene=[mobile_config, robot_config]\n",
    "              , connection_list=[True, CONNECT_INDY])"
   ]
  },
  {
   "cell_type": "code",
   "execution_count": 4,
   "metadata": {},
   "outputs": [
    {
     "name": "stdout",
     "output_type": "stream",
     "text": [
      "Unable to register with master node [http://localhost:11311]: master may not be running yet. Will keep trying.\n",
      "Please create a subscriber to the marker\n",
      "publication OK\n",
      "published: [0, 0, 0, 0, 0, 0, 0, 0, 0, 0, 0, 0]\n",
      "Please create a subscriber to the marker\n"
     ]
    }
   ],
   "source": [
    "from pkg.geometry.builder.scene_builder import SceneBuilder\n",
    "from pkg.planning.scene import PlanningScene\n",
    "from pkg.geometry.geometry import GeometryItem\n",
    "from pkg.geometry.geotype import GEOTYPE\n",
    "\n",
    "s_builder = SceneBuilder(None)\n",
    "gscene = s_builder.create_gscene(crob)\n",
    "gtems = s_builder.add_robot_geometries(\n",
    "    color=COL_COLOR, display=True, collision=True)\n",
    "\n",
    "gscene.set_workspace_boundary(\n",
    "    -1, 4, -2.5, 2.5, -CLEARANCE, WS_HEIGHT, thickness=WALL_THICKNESS)\n",
    "\n",
    "viewpoint = add_cam(gscene, tool_link=\"indy1_tcp\")"
   ]
  },
  {
   "cell_type": "code",
   "execution_count": null,
   "metadata": {},
   "outputs": [],
   "source": []
  },
  {
   "cell_type": "code",
   "execution_count": null,
   "metadata": {},
   "outputs": [],
   "source": []
  },
  {
   "cell_type": "markdown",
   "metadata": {},
   "source": [
    "### MultiICP detector"
   ]
  },
  {
   "cell_type": "code",
   "execution_count": 5,
   "metadata": {},
   "outputs": [],
   "source": [
    "from pkg.detector.multiICP.multiICP import MultiICP, MultiICP_Obj\n",
    "from pkg.detector.multiICP.config import *\n",
    "from pkg.detector.camera.realsense import RealSense\n",
    "from pkg.detector.detector_interface import DetectionLevel\n",
    "\n",
    "import open3d as o3d\n",
    "import numpy as np\n",
    "\n",
    "CONNECT_CAM = True"
   ]
  },
  {
   "cell_type": "code",
   "execution_count": 6,
   "metadata": {},
   "outputs": [
    {
     "name": "stdout",
     "output_type": "stream",
     "text": [
      "Start streaming\n",
      "Initialize Done\n"
     ]
    }
   ],
   "source": [
    "realsense = RealSense()\n",
    "\n",
    "# from demo_utils.data_reconstructed_camera import DataRecontructedCamera\n",
    "# dcam = DataRecontructedCamera(crob, viewpoint)\n",
    "# if not CONNECT_CAM:\n",
    "#     dcam.initialize()\n",
    "    \n",
    "if CONNECT_CAM:\n",
    "    micp = MultiICP(realsense)\n",
    "    micp.initialize()\n",
    "#     dcam.ready_saving(*realsense.get_config())\n",
    "#     cam_pose = viewpoint.get_tf(VIEW_POSE_EXT)\n",
    "else:\n",
    "    # use manually given camera configs\n",
    "    config_list, img_dim = load_pickle(RNB_PLANNING_DIR+\"release/multiICP_data/cam_configs.pkl\")\n",
    "    micp.initialize(config_list, img_dim)\n",
    "    micp = MultiICP(dcam)\n",
    "    micp.initialize()"
   ]
  },
  {
   "cell_type": "code",
   "execution_count": null,
   "metadata": {},
   "outputs": [],
   "source": []
  },
  {
   "cell_type": "markdown",
   "metadata": {},
   "source": [
    "### Shared Detector"
   ]
  },
  {
   "cell_type": "code",
   "execution_count": 7,
   "metadata": {},
   "outputs": [],
   "source": [
    "from pkg.detector.multiICP.shared_detector import SharedDetectorGen\n",
    "sd = SharedDetectorGen(tuple(reversed(micp.dsize))+(3,))()\n",
    "sd.init()"
   ]
  },
  {
   "cell_type": "code",
   "execution_count": null,
   "metadata": {},
   "outputs": [],
   "source": []
  },
  {
   "cell_type": "markdown",
   "metadata": {},
   "source": [
    "### set ICP config"
   ]
  },
  {
   "cell_type": "code",
   "execution_count": 8,
   "metadata": {},
   "outputs": [],
   "source": [
    "# Load config file of object information\n",
    "obj_info_dict = get_obj_info()"
   ]
  },
  {
   "cell_type": "code",
   "execution_count": 9,
   "metadata": {},
   "outputs": [],
   "source": [
    "# initial guess는 실험하는거 보면서 수정?\n",
    "micp_suitcase = MultiICP_Obj(obj_info_dict[\"suitcase\"], None,\n",
    "                        OffsetOnModelCoord(\"suitcase\", R=np.identity(3), offset=(0.,0.,0.)))\n",
    "\n",
    "\n",
    "micp_clock = MultiICP_Obj(obj_info_dict[\"clock\"], None,\n",
    "                        OffsetOnModelCoord(\"clock\", R=np.identity(3), offset=(0.,0.,0.)))\n",
    "\n",
    "\n",
    "micp_table = MultiICP_Obj(obj_info_dict[\"dining table\"], None,\n",
    "                        OffsetOnModelCoord(\"dining table\", R=np.identity(3), offset=(0.,0.,0.)))"
   ]
  },
  {
   "cell_type": "code",
   "execution_count": 10,
   "metadata": {},
   "outputs": [],
   "source": [
    "micp_dict = {\"suitcase\": micp_suitcase, \"clock\": micp_clock, \"dining table\": micp_table}\n",
    "# micp_dict = {\"clock\": micp_clock}\n",
    "# micp_dict = {\"dining table\": micp_table}\n",
    "# micp_dict = {\"suitcase\": micp_suitcase}"
   ]
  },
  {
   "cell_type": "code",
   "execution_count": 11,
   "metadata": {},
   "outputs": [],
   "source": [
    "# set config information for micp\n",
    "micp.set_config(micp_dict, sd, crob, viewpoint)"
   ]
  },
  {
   "cell_type": "code",
   "execution_count": null,
   "metadata": {},
   "outputs": [],
   "source": []
  },
  {
   "cell_type": "markdown",
   "metadata": {},
   "source": [
    "### Detect"
   ]
  },
  {
   "cell_type": "code",
   "execution_count": null,
   "metadata": {},
   "outputs": [],
   "source": [
    "pose_dict = micp.detect(visualize=True)"
   ]
  },
  {
   "cell_type": "code",
   "execution_count": 17,
   "metadata": {},
   "outputs": [
    {
     "name": "stdout",
     "output_type": "stream",
     "text": [
      "name_mask is ['suitcase', 'clock', 'dining table']\n",
      "suitcase not detected\n",
      "dining table not detected\n",
      "clock not detected\n"
     ]
    }
   ],
   "source": [
    "pose_dict = micp.detect(name_mask=[\"suitcase\", \"clock\", \"dining table\"])"
   ]
  },
  {
   "cell_type": "code",
   "execution_count": null,
   "metadata": {},
   "outputs": [],
   "source": []
  },
  {
   "cell_type": "markdown",
   "metadata": {},
   "source": [
    "### Update Object to scene"
   ]
  },
  {
   "cell_type": "code",
   "execution_count": 5,
   "metadata": {},
   "outputs": [],
   "source": [
    "SEP_DISTANCE = 0.4\n",
    "TABLE_HEIGHT = 0.734"
   ]
  },
  {
   "cell_type": "code",
   "execution_count": 6,
   "metadata": {},
   "outputs": [],
   "source": [
    "# add object\n",
    "def add_carrier(gscene, name, carrier_center, carrier_rpy):\n",
    "    obj_vis = gscene.create_safe(GEOTYPE.MESH, name, link_name=\"base_link\",\n",
    "                                 dims=(0.1,0.1,0.1), center=carrier_center, rpy=carrier_rpy,\n",
    "                                 color=(0.8,0.8,0.8,1), display=True, fixed=False, collision=True,\n",
    "                                 uri=\"package://my_mesh/meshes/stl/carrier.STL\", scale=(1e-3,1e-3,1e-3))\n",
    "    return obj_vis\n",
    "\n",
    "def add_clock(gscene, name, clock_center, clock_rpy):\n",
    "    obj_vis = gscene.create_safe(GEOTYPE.MESH, name, link_name=\"base_link\",\n",
    "                                 dims=(0.1,0.1,0.1), center=clock_center, rpy=clock_rpy,\n",
    "                                 color=(0.8,0.8,0.8,1), display=True, fixed=False, collision=True,\n",
    "                                 uri=\"package://my_mesh/meshes/stl/tableclock.STL\", scale=(1e-3,1e-3,1e-3))\n",
    "    return obj_vis\n",
    "\n",
    "def add_table(gscene, name, clock_center, clock_rpy):\n",
    "    obj_vis = gscene.create_safe(GEOTYPE.MESH, name, link_name=\"base_link\",\n",
    "                                 dims=(0.1,0.1,0.1), center=clock_center, rpy=clock_rpy,\n",
    "                                 color=(0.8,0.8,0.8,1), display=True, fixed=True, collision=True,\n",
    "                                 uri=\"package://my_mesh/meshes/stl/table.STL\", scale=(1e-3,1e-3,1e-3))\n",
    "    return obj_vis\n",
    "\n",
    "\n",
    "# move object(pose update)\n",
    "def move_carrier(gscene, name, carrier_center, carrier_rpy):\n",
    "    obj_vis = gscene.NAME_DICT[name]\n",
    "    obj_vis.set_offset_tf(center=carrier_center, orientation_mat=Rot_rpy(carrier_rpy))\n",
    "    gscene.update_markers_all()\n",
    "    \n",
    "def move_clock(gscene, name, clock_center, clock_rpy):\n",
    "    obj_vis = gscene.NAME_DICT[name]\n",
    "    obj_vis.set_offset_tf(center=clock_center, orientation_mat=Rot_rpy(clock_rpy))\n",
    "    gscene.update_markers_all()\n",
    "    \n",
    "def move_table(gscene, name, table_center, table_rpy):\n",
    "    obj_vis = gscene.NAME_DICT[name]\n",
    "    obj_vis.set_offset_tf(center=table_center, orientation_mat=Rot_rpy(table_rpy))\n",
    "    gscene.update_markers_all()\n",
    "    \n",
    "\n",
    "def pose_refine(obj_type, T, table_height = 0.734):\n",
    "    T_new = align_z(T)\n",
    "    \n",
    "    center = T_new[:3,3]\n",
    "    if obj_type == \"suitcase\" or \"dining table\":\n",
    "        center[2] = 0\n",
    "    elif obj_type == \"clock\":\n",
    "        center[2] = TABLE_HEIGHT\n",
    "    rpy = Rot2rpy(T_new[:3,:3])\n",
    "    \n",
    "    return center, rpy"
   ]
  },
  {
   "cell_type": "code",
   "execution_count": 7,
   "metadata": {},
   "outputs": [],
   "source": [
    "# add & update for suitcase, clock\n",
    "def add_update_object(gscene, obj_type, pose_dict, separte_dist = 0.5):\n",
    "    # check num of object in the scene\n",
    "    obj_count = 0\n",
    "    for i in range(10):\n",
    "        name = \"{}_{:01}\".format(obj_type, i)\n",
    "        if name in gscene.NAME_DICT.keys():\n",
    "            obj_count += 1\n",
    "    print(\"Total {} {} in the scene\".format(obj_count, obj_type))\n",
    "\n",
    "    if obj_count > 0: # If there are objects, add and update objects from detected result\n",
    "        not_update_list = []\n",
    "        for name in pose_dict.keys():\n",
    "            if \"_\" in name:\n",
    "                name_cat = name.split(\"_\")[0]\n",
    "            else:\n",
    "                name_cat = name\n",
    "            if name_cat != \"suitcase\" and name_cat !=\"clock\":\n",
    "                pass\n",
    "            else:\n",
    "                T = pose_dict[name]\n",
    "                center, rpy = pose_refine(obj_type, T)\n",
    "\n",
    "                check_update = False\n",
    "                for i in range(obj_count):\n",
    "                    obj_name = \"{}_{:01}\".format(obj_type, i)\n",
    "                    T_ = gscene.NAME_DICT[obj_name].get_tf(crob.get_real_robot_pose())\n",
    "                    center_, rpy_ = pose_refine(obj_type, T_)\n",
    "\n",
    "                    if np.linalg.norm(center-center_) < separte_dist: # consider same object\n",
    "                        move_carrier(gscene, obj_name, center, rpy)\n",
    "                        print(\"Update existing {} in the scene\".format(obj_type))\n",
    "                        check_update = True\n",
    "                if not check_update:\n",
    "                    not_update_list.append(name)\n",
    "\n",
    "        # treat new object\n",
    "        for name in not_update_list:\n",
    "            T = pose_dict[name]\n",
    "            center, rpy = pose_refine(obj_type, T)\n",
    "            new_obj_name = \"{}_{:01}\".format(obj_type, obj_count)\n",
    "            add_carrier(gscene, new_obj_name, center, rpy)\n",
    "            print(\"Add new {} in the scene\".format(obj_type)) \n",
    "\n",
    "    else: # At first, there is no object, add all detected object in the scene\n",
    "        count_tmp = 0\n",
    "        for name in pose_dict.keys():\n",
    "            if \"_\" in name:\n",
    "                name_cat = name.split(\"_\")[0]\n",
    "            else:\n",
    "                name_cat = name\n",
    "            if name_cat != \"suitcase\" and name_cat !=\"clock\":\n",
    "                pass\n",
    "            else:\n",
    "                T = pose_dict[name]\n",
    "                center, rpy = pose_refine(obj_type, T)\n",
    "\n",
    "            new_obj_name = \"{}_{:01}\".format(obj_type, count_tmp)\n",
    "            add_carrier(gscene, new_obj_name, center, rpy)\n",
    "            count_tmp += 1\n",
    "            print(\"Add new {} in the scene\".format(obj_type))"
   ]
  },
  {
   "cell_type": "code",
   "execution_count": null,
   "metadata": {},
   "outputs": [],
   "source": [
    "# add table\n",
    "center, rpy = pose_refine(\"dining table\", pose_dict[\"dining table\"])\n",
    "add_table(gscene, \"table\", center, rpy)"
   ]
  },
  {
   "cell_type": "code",
   "execution_count": null,
   "metadata": {},
   "outputs": [],
   "source": [
    "# add or update suitcase\n",
    "add_update_object(gscene, \"suitcase\", pose_dict)"
   ]
  },
  {
   "cell_type": "code",
   "execution_count": null,
   "metadata": {},
   "outputs": [],
   "source": [
    "# add or update clock\n",
    "add_update_object(gscene, \"clock\", pose_dict)"
   ]
  },
  {
   "cell_type": "code",
   "execution_count": null,
   "metadata": {},
   "outputs": [],
   "source": []
  },
  {
   "cell_type": "code",
   "execution_count": null,
   "metadata": {},
   "outputs": [],
   "source": []
  },
  {
   "cell_type": "code",
   "execution_count": null,
   "metadata": {},
   "outputs": [],
   "source": []
  },
  {
   "cell_type": "markdown",
   "metadata": {},
   "source": [
    "### Test code for multiple instance detection\n",
    "* MultiICP Detector 이전까지 실행시키고 아래의 코드 실행\n",
    "* Separte distance는 수동으로 조절"
   ]
  },
  {
   "cell_type": "code",
   "execution_count": 8,
   "metadata": {},
   "outputs": [],
   "source": [
    "# Origianlly, 4 suitcases are existed in scene\n",
    "c10 = add_carrier(gscene, \"suitcase_0\", (1.,1.,0), (0,0,0))\n",
    "c11 = add_carrier(gscene, \"suitcase_1\", (1.,2.,0), (0,0,0))\n",
    "c12 = add_carrier(gscene, \"suitcase_2\", (2.,1.,0), (0,0,0))\n",
    "c13 = add_carrier(gscene, \"suitcase_3\", (2.,2.,0), (0,0,0))"
   ]
  },
  {
   "cell_type": "code",
   "execution_count": 17,
   "metadata": {},
   "outputs": [],
   "source": [
    "# Detection result, but T1, T2 are already detected objects so, these are in the scene\n",
    "# T3 is newly detected object so this is not in the scene\n",
    "# Therefore, 1 and 2 should be updated, but 3 should be added\n",
    "\n",
    "T1 = SE3(Rot_axis(3, np.pi/10), (1.1,1.18,0.3))\n",
    "T2 = SE3(np.identity(3), (2.1,1.88,-0.1))\n",
    "T3 = SE3(Rot_axis(1, -np.pi/5) , (3.1,1.9,-0.2))\n",
    "pose_dict = {\"suitcase_0\":T1, \"suitcase_1\":T2, \"suitcase_2\":T3}"
   ]
  },
  {
   "cell_type": "code",
   "execution_count": 18,
   "metadata": {},
   "outputs": [
    {
     "name": "stdout",
     "output_type": "stream",
     "text": [
      "Total 5 suitcase in the scene\n",
      "Update existing suitcase in the scene\n",
      "Update existing suitcase in the scene\n",
      "Update existing suitcase in the scene\n"
     ]
    }
   ],
   "source": [
    "add_update_object(gscene, \"suitcase\", pose_dict)"
   ]
  },
  {
   "cell_type": "code",
   "execution_count": null,
   "metadata": {},
   "outputs": [],
   "source": []
  }
 ],
 "metadata": {
  "kernelspec": {
   "display_name": "Python 2",
   "language": "python",
   "name": "python2"
  },
  "language_info": {
   "codemirror_mode": {
    "name": "ipython",
    "version": 2
   },
   "file_extension": ".py",
   "mimetype": "text/x-python",
   "name": "python",
   "nbconvert_exporter": "python",
   "pygments_lexer": "ipython2",
   "version": "2.7.17"
  }
 },
 "nbformat": 4,
 "nbformat_minor": 2
}
