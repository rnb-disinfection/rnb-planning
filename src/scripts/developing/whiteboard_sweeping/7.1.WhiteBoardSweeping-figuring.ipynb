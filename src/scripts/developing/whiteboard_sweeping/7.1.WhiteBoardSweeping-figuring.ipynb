{
 "cells": [
  {
   "cell_type": "markdown",
   "metadata": {},
   "source": [
    "## Check List 7.1. Demo - White board sweeping\n",
    "* In this demo file, we will use two robots (Indy7, Panda) to sweep a white board, removing obstacles\n",
    "\n",
    "* You need trained model to use ReachChecker\n",
    "  - model/reach_svm/indy7.json\n",
    "  - model/reach_svm/panda.json\n",
    "  - 백업: 개인 이동식 하드디스크, 강준수"
   ]
  },
  {
   "cell_type": "markdown",
   "metadata": {},
   "source": [
    "### Prepare the task scene\n",
    "* Prepare Indy7 and panda, and install sweeping tool to indy. (Check release/Figs/7.1.WhiteBoardSweeping.jpg)\n",
    "* Prepare \"floor\", \"track\", \"box1\", \"box2\" objects as defined in pkg.detector.aruco.marker_config.py\n",
    "* The robots and \"track\" are installed on \"floor\".\n",
    "* \"box1\" and \"box2\" are on \"track\"\n",
    "<img src=\"../Figs/7.1.WhiteBoardSweeping.jpg\" width=\"80%\">"
   ]
  },
  {
   "cell_type": "markdown",
   "metadata": {},
   "source": [
    "## set running directory to project source"
   ]
  },
  {
   "cell_type": "code",
   "execution_count": null,
   "metadata": {},
   "outputs": [],
   "source": [
    "import os\n",
    "os.chdir(os.path.join(os.environ[\"RNB_PLANNING_DIR\"], 'src'))\n",
    "from pkg.utils.code_scraps import add_indy_sweep_tool, use_current_place_point_only, use_current_sub_binders_only, finish_L_shape, set_l_shape_object, ModeSwitcher"
   ]
  },
  {
   "cell_type": "code",
   "execution_count": null,
   "metadata": {},
   "outputs": [],
   "source": []
  },
  {
   "cell_type": "markdown",
   "metadata": {},
   "source": [
    "## init combined robot config"
   ]
  },
  {
   "cell_type": "code",
   "execution_count": null,
   "metadata": {},
   "outputs": [],
   "source": [
    "from pkg.controller.combined_robot import *\n",
    "from pkg.project_config import *\n",
    "\n",
    "crob = CombinedRobot(robots_on_scene=[\n",
    "    RobotConfig(0, RobotType.indy7, ((0.3,-0.4,0), (0,0,np.pi/2)),\n",
    "                INDY_IP),\n",
    "    RobotConfig(1, RobotType.panda, ((-0.3,-0.4,0), (0,0,np.pi/2)),\n",
    "                \"{}/{}\".format(PANDA_REPEATER_IP, PANDA_ROBOT_IP))]\n",
    "              , connection_list=[False, False])"
   ]
  },
  {
   "cell_type": "code",
   "execution_count": null,
   "metadata": {},
   "outputs": [],
   "source": [
    "from pkg.detector.aruco.marker_config import *\n",
    "from pkg.detector.aruco.stereo import ArucoStereo\n",
    "from pkg.detector.camera.realsense import RealSense\n",
    "from pkg.detector.camera.kinect import Kinect\n",
    "aruco_map = get_aruco_map()\n",
    "stereo = ArucoStereo(aruco_map, [Kinect(), RealSense()])\n",
    "stereo.initialize()\n",
    "stereo.calibrate()"
   ]
  },
  {
   "cell_type": "code",
   "execution_count": null,
   "metadata": {},
   "outputs": [],
   "source": []
  },
  {
   "cell_type": "markdown",
   "metadata": {},
   "source": [
    "## create scene builder"
   ]
  },
  {
   "cell_type": "code",
   "execution_count": null,
   "metadata": {},
   "outputs": [],
   "source": [
    "from pkg.geometry.builder.scene_builder import SceneBuilder\n",
    "s_builder = SceneBuilder(stereo)\n",
    "# deprecated: s_builder.reset_reference_coord(ref_name=\"floor\")"
   ]
  },
  {
   "cell_type": "code",
   "execution_count": null,
   "metadata": {},
   "outputs": [],
   "source": []
  },
  {
   "cell_type": "markdown",
   "metadata": {},
   "source": [
    "## detect robot and make geometry scene"
   ]
  },
  {
   "cell_type": "code",
   "execution_count": null,
   "metadata": {},
   "outputs": [],
   "source": [
    "# xyz_rpy_robots = s_builder.detect_items(level_mask=[DetectionLevel.ROBOT])\n",
    "# save_pickle(\"xyz_rpy_robots.pkl\", xyz_rpy_robots)\n",
    "xyz_rpy_robots = load_pickle(\"xyz_rpy_robots.pkl\")\n",
    "crob.update_robot_pos_dict(xyz_rpy_robots=xyz_rpy_robots)\n",
    "gscene = s_builder.create_gscene(crob)"
   ]
  },
  {
   "cell_type": "code",
   "execution_count": null,
   "metadata": {},
   "outputs": [],
   "source": []
  },
  {
   "cell_type": "markdown",
   "metadata": {},
   "source": [
    "## init planning pipeline"
   ]
  },
  {
   "cell_type": "code",
   "execution_count": null,
   "metadata": {},
   "outputs": [],
   "source": [
    "from pkg.planning.scene import PlanningScene\n",
    "pscene = PlanningScene(gscene, combined_robot=crob)\n",
    "\n",
    "from pkg.planning.pipeline import PlanningPipeline\n",
    "ppline = PlanningPipeline(pscene)\n",
    "\n",
    "from pkg.ui.ui_broker import *\n",
    "\n",
    "# start UI\n",
    "ui_broker = UIBroker.instance()\n",
    "ui_broker.initialize(ppline, s_builder)\n",
    "ui_broker.start_server()\n",
    "\n",
    "ui_broker.set_tables()"
   ]
  },
  {
   "cell_type": "markdown",
   "metadata": {},
   "source": [
    "```\n",
    "open web ui on <your ip>:8050\n",
    "click geometry items / Handles / Binders to highlight geometry on RVIZ\n",
    "other functions may be buggy.. please report\n",
    "```"
   ]
  },
  {
   "cell_type": "code",
   "execution_count": null,
   "metadata": {},
   "outputs": [],
   "source": []
  },
  {
   "cell_type": "markdown",
   "metadata": {},
   "source": [
    "## add environment"
   ]
  },
  {
   "cell_type": "code",
   "execution_count": null,
   "metadata": {},
   "outputs": [],
   "source": [
    "# gtem_dict = s_builder.detect_and_register(level_mask=[DetectionLevel.ENVIRONMENT])"
   ]
  },
  {
   "cell_type": "code",
   "execution_count": null,
   "metadata": {},
   "outputs": [],
   "source": [
    "self=s_builder\n",
    "item_names=None\n",
    "level_mask=[DetectionLevel.ENVIRONMENT]\n",
    "color=(0.6,0.6,0.6,1)\n",
    "collision=True\n",
    "gscene=gscene\n",
    "visualize=False\n",
    "    \n",
    "# xyz_rpy_dict = self.detect_items(item_names=item_names, level_mask=level_mask, visualize=visualize)\n",
    "# save_pickle(\"env_dict.pkl\", xyz_rpy_dict)\n",
    "xyz_rpy_dict = load_pickle(\"env_dict.pkl\")\n",
    "gtem_dict = {}\n",
    "for ename, xyzrpy in xyz_rpy_dict.items():\n",
    "    kwargs = dict(name=ename, center=xyzrpy[0], rpy=xyzrpy[1], color=color,\n",
    "                  link_name=self.base_link, collision=collision)\n",
    "    kwargs.update(self.detector.get_geometry_kwargs(ename))\n",
    "    gtem_dict[ename] = gscene.create_safe(**kwargs)"
   ]
  },
  {
   "cell_type": "code",
   "execution_count": null,
   "metadata": {},
   "outputs": [],
   "source": [
    "# add cam poles\n",
    "ptems = s_builder.add_poles({\"cam0\": s_builder.ref_coord_inv[:3,3], \"cam1\":np.matmul(s_builder.ref_coord_inv, stereo.T_c12)[:3,3]},\n",
    "                            color=(0.6,0.6,0.6,0.0))\n",
    "gtems = s_builder.add_robot_geometries(color=(0,1,0,0.5), display=True, collision=True)\n",
    "gscene.NAME_DICT[\"floor\"].dims = (2,1,0.01)\n",
    "gscene.set_workspace_boundary( -1, 1, -0.5, 0.5, -0.1, 1.05)"
   ]
  },
  {
   "cell_type": "code",
   "execution_count": null,
   "metadata": {},
   "outputs": [],
   "source": []
  },
  {
   "cell_type": "markdown",
   "metadata": {},
   "source": [
    "## add indy tool"
   ]
  },
  {
   "cell_type": "code",
   "execution_count": null,
   "metadata": {},
   "outputs": [],
   "source": [
    "add_indy_sweep_tool(gscene, \"indy0\", face_name=\"brush_face\")"
   ]
  },
  {
   "cell_type": "code",
   "execution_count": null,
   "metadata": {},
   "outputs": [],
   "source": []
  },
  {
   "cell_type": "markdown",
   "metadata": {},
   "source": [
    "## add sweep face"
   ]
  },
  {
   "cell_type": "code",
   "execution_count": null,
   "metadata": {},
   "outputs": [],
   "source": [
    "# track = s_builder.detect_and_register(item_names=[\"track\"], level_mask=[DetectionLevel.ENVIRONMENT])[\"track\"]"
   ]
  },
  {
   "cell_type": "code",
   "execution_count": null,
   "metadata": {},
   "outputs": [],
   "source": [
    "track = gtem_dict[\"track\"]"
   ]
  },
  {
   "cell_type": "code",
   "execution_count": null,
   "metadata": {},
   "outputs": [],
   "source": [
    "track_face = gscene.copy_from(track, new_name=\"track_face\", collision=False)\n",
    "track_face.dims = (track.dims[0]-0.22, track.dims[1]-0.12, track.dims[2])\n",
    "# track.dims = (track.dims[0]-0.32, track.dims[1]-0.12, track.dims[2])"
   ]
  },
  {
   "cell_type": "code",
   "execution_count": null,
   "metadata": {},
   "outputs": [],
   "source": [
    "gscene.update_markers_all()"
   ]
  },
  {
   "cell_type": "code",
   "execution_count": null,
   "metadata": {},
   "outputs": [],
   "source": []
  },
  {
   "cell_type": "markdown",
   "metadata": {},
   "source": [
    "## add wp"
   ]
  },
  {
   "cell_type": "code",
   "execution_count": null,
   "metadata": {},
   "outputs": [],
   "source": [
    "TOOL_DIM = [0.06, 0.10]\n",
    "TACK_WIDTH = 0.17\n",
    "TRACK_DIM = track_face.dims\n",
    "TRACK_NUM = np.ceil(np.divide(TRACK_DIM[1]-TOOL_DIM[1], TOOL_DIM[1])).astype(np.int)+1\n",
    "TRACK_STEP = (TRACK_DIM[1]-TOOL_DIM[1])/(TRACK_NUM-1)\n",
    "WP_REF_A = -np.subtract(TRACK_DIM[:2], TOOL_DIM[:2])/2\n",
    "WP_REF_B = np.array([-WP_REF_A[0], WP_REF_A[1]])\n",
    "WP_REF_M = np.array([0, WP_REF_A[1]])\n",
    "TRC_THIC = TRACK_DIM[2]\n",
    "track_list = []\n",
    "for i_trc in range(TRACK_NUM):\n",
    "    wp1 = gscene.create_safe(GEOTYPE.BOX, \"wp{}a\".format(i_trc+1), \"base_link\", (TOOL_DIM[0]/2,TOOL_DIM[1]/2,TRC_THIC), \n",
    "                             tuple(WP_REF_A+[0,TRACK_STEP*i_trc])+(0,),rpy=(0,0,0), \n",
    "                             color=(0.8,0.2,0.2,0.2), display=True, fixed=True, collision=False, parent=\"track_face\")\n",
    "    wp2 = gscene.create_safe(GEOTYPE.BOX, \"wp{}b\".format(i_trc+1), \"base_link\", (TOOL_DIM[0]/2,TOOL_DIM[1]/2,TRC_THIC), \n",
    "                             tuple(WP_REF_B+[0,TRACK_STEP*i_trc])+(0,),rpy=(0,0,0), \n",
    "                             color=(0.8,0.2,0.2,0.2), display=True, fixed=True, collision=False, parent=\"track_face\")\n",
    "    face = gscene.create_safe(GEOTYPE.BOX, \"face{}\".format(i_trc+1), \"base_link\", \n",
    "                              (TRACK_DIM[0] - TOOL_DIM[0]/2,TACK_WIDTH,TRC_THIC), \n",
    "                             center=tuple(WP_REF_M+[0,TRACK_STEP*i_trc])+(1e-2,),rpy=(0,0,0), \n",
    "                             color=(0.8,0.2,0.2,0.2), display=True, fixed=True, collision=False, parent=\"track_face\")\n",
    "    track_list.append((wp1, wp2, face))"
   ]
  },
  {
   "cell_type": "code",
   "execution_count": null,
   "metadata": {},
   "outputs": [],
   "source": [
    "gscene.update_markers_all()"
   ]
  },
  {
   "cell_type": "code",
   "execution_count": null,
   "metadata": {},
   "outputs": [],
   "source": []
  },
  {
   "cell_type": "markdown",
   "metadata": {},
   "source": [
    "## add blocking structure on table"
   ]
  },
  {
   "cell_type": "code",
   "execution_count": null,
   "metadata": {},
   "outputs": [],
   "source": [
    "# gscene.create_safe(gtype=GEOTYPE.BOX, name=\"blocker\", link_name=\"base_link\",\n",
    "#                             center=(-0.27,-0.2,0.15), dims=(0.1,0.3, 0.4), rpy=(0,0,0), color=(0.0,0.8,0.0,0.5),\n",
    "#                             collision=True, fixed=True)"
   ]
  },
  {
   "cell_type": "code",
   "execution_count": null,
   "metadata": {},
   "outputs": [],
   "source": []
  },
  {
   "cell_type": "markdown",
   "metadata": {},
   "source": [
    "## add box"
   ]
  },
  {
   "cell_type": "code",
   "execution_count": null,
   "metadata": {},
   "outputs": [],
   "source": [
    "# gtem_dict = s_builder.detect_and_register(level_mask=[DetectionLevel.MOVABLE])"
   ]
  },
  {
   "cell_type": "code",
   "execution_count": null,
   "metadata": {},
   "outputs": [],
   "source": [
    "self=s_builder\n",
    "item_names=None\n",
    "level_mask=[DetectionLevel.MOVABLE]\n",
    "color=(0.6,0.6,0.6,1)\n",
    "collision=True\n",
    "gscene=gscene\n",
    "visualize=False\n",
    "    \n",
    "# xyz_rpy_dict = self.detect_items(item_names=item_names, level_mask=level_mask, visualize=visualize)\n",
    "# save_pickle(\"obj_dict.pkl\", xyz_rpy_dict)\n",
    "xyz_rpy_dict = load_pickle(\"obj_dict.pkl\")\n",
    "gtem_dict = {}\n",
    "for ename, xyzrpy in xyz_rpy_dict.items():\n",
    "    kwargs = dict(name=ename, center=xyzrpy[0], rpy=xyzrpy[1], color=color,\n",
    "                  link_name=self.base_link, collision=collision)\n",
    "    kwargs.update(self.detector.get_geometry_kwargs(ename))\n",
    "    gtem_dict[ename] = gscene.create_safe(**kwargs)"
   ]
  },
  {
   "cell_type": "code",
   "execution_count": null,
   "metadata": {},
   "outputs": [],
   "source": [
    "gscene.update_markers_all()"
   ]
  },
  {
   "cell_type": "code",
   "execution_count": null,
   "metadata": {},
   "outputs": [],
   "source": []
  },
  {
   "cell_type": "markdown",
   "metadata": {},
   "source": [
    "## Register binders"
   ]
  },
  {
   "cell_type": "code",
   "execution_count": null,
   "metadata": {},
   "outputs": [],
   "source": [
    "from pkg.planning.constraint.constraint_actor import Gripper2Tool, PlacePlane, SweepFramer, FixtureSlot"
   ]
  },
  {
   "cell_type": "code",
   "execution_count": null,
   "metadata": {},
   "outputs": [],
   "source": [
    "gscene.create_safe(gtype=GEOTYPE.SPHERE, name=\"grip1\", link_name=\"panda1_hand\", \n",
    "                 dims=(0.01,)*3, center=(0,0,0.112), rpy=(-np.pi/2,0,0), color=(1,0,0,1), display=True, collision=False, fixed=True)\n",
    "\n",
    "pscene.create_binder(bname=\"grip1\", gname=\"grip1\", _type=Gripper2Tool, point=(0,0,0), rpy=(0,0,0))\n",
    "pscene.create_binder(bname=\"brush_face\", gname=\"brush_face\", _type=SweepFramer, point=(0,0,gscene.NAME_DICT['brush_face'].dims[2]/2), \n",
    "                     rpy=(0,np.pi,0))\n",
    "pscene.create_binder(bname=\"track_face\", gname=\"track_face\", _type=PlacePlane)"
   ]
  },
  {
   "cell_type": "code",
   "execution_count": null,
   "metadata": {},
   "outputs": [],
   "source": []
  },
  {
   "cell_type": "markdown",
   "metadata": {},
   "source": [
    "## add objects"
   ]
  },
  {
   "cell_type": "code",
   "execution_count": null,
   "metadata": {},
   "outputs": [],
   "source": [
    "from pkg.planning.constraint.constraint_subject import \\\n",
    "        CustomObject, Grasp2Point, PlacePoint, SweepFrame, SweepTask, BoxObject, FixturePoint, AbstractObject"
   ]
  },
  {
   "cell_type": "code",
   "execution_count": null,
   "metadata": {},
   "outputs": [],
   "source": [
    "for gname in sorted(gtem_dict.keys()):\n",
    "    pscene.create_subject(oname=gname, gname=gname, _type=BoxObject, hexahedral=True)\n",
    "# box3= pscene.create_subject(oname=\"box3\", gname=\"box3\", _type=BoxObject, hexahedral=True)"
   ]
  },
  {
   "cell_type": "code",
   "execution_count": null,
   "metadata": {},
   "outputs": [],
   "source": [
    "from pkg.planning.constraint.constraint_common import MotionConstraint\n",
    "from pkg.planning.constraint.constraint_subject import AbstractTask\n",
    "from pkg.planning.constraint.constraint_subject import SweepLineTask"
   ]
  },
  {
   "cell_type": "code",
   "execution_count": null,
   "metadata": {},
   "outputs": [],
   "source": [
    "sweep_list = []\n",
    "for i_t, track_tem in enumerate(track_list):\n",
    "    wp1, wp2, face = track_tem\n",
    "    sweep_ = pscene.create_subject(oname=\"sweep{}\".format(i_t+1), gname=\"track_face\", _type=SweepLineTask, \n",
    "                                   action_points_dict = {wp1.name: SweepFrame(wp1.name, wp1, [0,0,0.005], [0,0,0]),\n",
    "                                                       wp2.name: SweepFrame(wp2.name, wp2, [0,0,0.005], [0,0,0])}, \n",
    "                                   clearance=[face])\n",
    "    sweep_list.append(sweep_)"
   ]
  },
  {
   "cell_type": "code",
   "execution_count": null,
   "metadata": {},
   "outputs": [],
   "source": []
  },
  {
   "cell_type": "markdown",
   "metadata": {},
   "source": [
    "### planners"
   ]
  },
  {
   "cell_type": "code",
   "execution_count": null,
   "metadata": {
    "scrolled": false
   },
   "outputs": [],
   "source": [
    "from pkg.planning.motion.moveit.moveit_planner import MoveitPlanner\n",
    "mplan = MoveitPlanner(pscene)\n",
    "mplan.update_gscene()\n",
    "from pkg.planning.task.rrt import TaskRRT\n",
    "tplan = TaskRRT(pscene)\n",
    "tplan.prepare()\n",
    "ppline.set_motion_planner(mplan)\n",
    "ppline.set_task_planner(tplan)"
   ]
  },
  {
   "cell_type": "code",
   "execution_count": null,
   "metadata": {},
   "outputs": [],
   "source": []
  },
  {
   "cell_type": "markdown",
   "metadata": {},
   "source": [
    "## motion filters"
   ]
  },
  {
   "cell_type": "code",
   "execution_count": null,
   "metadata": {},
   "outputs": [],
   "source": [
    "from pkg.planning.filtering.grasp_filter import GraspChecker\n",
    "from pkg.planning.filtering.reach_filter import ReachChecker\n",
    "from pkg.planning.filtering.latticized_filter import LatticedChecker\n",
    "from pkg.planning.filtering.task_clearance_filter import TaskClearanceChecker\n",
    "\n",
    "gcheck = GraspChecker(pscene)\n",
    "rcheck = ReachChecker(pscene)\n",
    "# checkers_all = [rcheck, gcheck]\n",
    "tcheck = TaskClearanceChecker(pscene, gcheck)\n",
    "checkers_all = [tcheck, rcheck, gcheck]\n",
    "# lcheck = LatticedChecker(pscene, gcheck)\n",
    "# checkers_all.append(lcheck)"
   ]
  },
  {
   "cell_type": "code",
   "execution_count": null,
   "metadata": {},
   "outputs": [],
   "source": [
    "mplan.motion_filters = checkers_all"
   ]
  },
  {
   "cell_type": "code",
   "execution_count": null,
   "metadata": {},
   "outputs": [],
   "source": [
    "gscene.show_pose(crob.home_pose)"
   ]
  },
  {
   "cell_type": "code",
   "execution_count": null,
   "metadata": {},
   "outputs": [],
   "source": []
  },
  {
   "cell_type": "markdown",
   "metadata": {},
   "source": [
    "## Set initial condition"
   ]
  },
  {
   "cell_type": "code",
   "execution_count": null,
   "metadata": {},
   "outputs": [],
   "source": [
    "from pkg.planning.constraint.constraint_common \\\n",
    "            import sample_redundancy, combine_redundancy\n",
    "gtimer = GlobalTimer.instance()\n",
    "initial_state = pscene.initialize_state(crob.home_pose)\n",
    "print(initial_state.node)\n",
    "\n",
    "# remove place points except for the current one\n",
    "use_current_place_point_only(pscene, initial_state)"
   ]
  },
  {
   "cell_type": "code",
   "execution_count": null,
   "metadata": {},
   "outputs": [],
   "source": [
    "pscene.subject_name_list"
   ]
  },
  {
   "cell_type": "code",
   "execution_count": null,
   "metadata": {},
   "outputs": [],
   "source": []
  },
  {
   "cell_type": "markdown",
   "metadata": {},
   "source": [
    "# Node Sampler"
   ]
  },
  {
   "cell_type": "code",
   "execution_count": null,
   "metadata": {},
   "outputs": [],
   "source": [
    "# from pkg.planning.sampling.node_sampling import make_state_param_hashable, UniformNodeSampler, PenaltyNodeSampler, GrowingSampler\n",
    "\n",
    "# tplan.new_node_sampler = PenaltyNodeSampler(3, 1)\n",
    "# tplan.parent_node_sampler = UniformNodeSampler(3)\n",
    "# # tplan.parent_snode_sampler = GrowingSampler(3)"
   ]
  },
  {
   "cell_type": "code",
   "execution_count": null,
   "metadata": {},
   "outputs": [],
   "source": []
  },
  {
   "cell_type": "markdown",
   "metadata": {},
   "source": [
    "# CustomRule"
   ]
  },
  {
   "cell_type": "code",
   "execution_count": null,
   "metadata": {},
   "outputs": [],
   "source": [
    "# from pkg.planning.task.custom_rules.sweep_entrance_control import SweepEntranceControlRule\n",
    "# tplan.custom_rule = SweepEntranceControlRule(pscene)"
   ]
  },
  {
   "cell_type": "code",
   "execution_count": null,
   "metadata": {},
   "outputs": [],
   "source": [
    "# from copy import deepcopy\n",
    "# from ....utils.utils import *\n",
    "# from ...constraint.constraint_subject import AbstractObject, SweepLineTask, SubjectType\n",
    "from pkg.planning.task.custom_rules.interface import CustomRuleInterface\n",
    "\n",
    "\n",
    "##\n",
    "# @class SweepEntranceControlRule\n",
    "# @brief Strictly control entrance to sweep tasks, as they are fully defined and no need to be sampled multiple times\n",
    "class SweepEntranceControlRule(CustomRuleInterface):\n",
    "    def __init__(self, pscene):\n",
    "        self.pscene = pscene\n",
    "        self.chain_dict = pscene.robot_chain_dict\n",
    "        self.NUM_WP_TRIALS = 1\n",
    "        self.refoliate_flag = True\n",
    "\n",
    "    def init(self, tplan, multiprocess_manager):\n",
    "        self.multiprocess_manager = multiprocess_manager\n",
    "\n",
    "        no_enter_sidxes = [stype == SweepLineTask for stype in enumerate(self.pscene.subject_type_list)]\n",
    "        no_enter_initials = [tplan.initial_state.node[sidx] for sidx in no_enter_sidxes]\n",
    "        self.sorted_unstop_keys = sorted(tplan.unstoppable_terminals.keys())\n",
    "\n",
    "        self.node_dict = {}\n",
    "        self.enter_dict = {}\n",
    "        for node, leafs in tplan.node_dict.items():\n",
    "            self.node_dict[node] = deepcopy(leafs)\n",
    "            if not all([node[k] in terms for k, terms in tplan.unstoppable_terminals.items()]):\n",
    "                tplan.node_dict[node] = set([])  ## unstoppable node change will be reserved by this custom rule\n",
    "            else:\n",
    "                # entering to unstoppable terminal is controlled by this rule\n",
    "                self.enter_dict[node] = set([leaf for leaf in leafs\n",
    "                                             if any(\n",
    "                        [leaf[k] not in terms for k, terms in tplan.unstoppable_terminals.items()])\n",
    "                                             and all(\n",
    "                        [leaf[k] >= leaf[k + 1] for k in self.sorted_unstop_keys[:-1]])])  # the task is done in order\n",
    "                tplan.node_dict[node] = set([leaf for leaf in leafs\n",
    "                                             if\n",
    "                                             all([leaf[k] in terms for k, terms in tplan.unstoppable_terminals.items()])\n",
    "                                             ])\n",
    "\n",
    "        self.node_parent_dict = {}\n",
    "        for node, parents in tplan.node_parent_dict.items():\n",
    "            self.node_parent_dict[node] = deepcopy(parents)\n",
    "            tplan.node_parent_dict[node] = set(\n",
    "                [parent for parent in parents  ## unstoppable node change will be reserved by this custom rule\n",
    "                 if all([parent[k] in terms for k, terms in tplan.unstoppable_terminals.items()])])\n",
    "\n",
    "    ##\n",
    "    # @brief    re-foliate for some defined cases\n",
    "    # @remark   case 1: meaningless homing - stayed on same node for two turns and do action of same kind \\n\n",
    "    #           case 2: already-moved object\n",
    "    def refoliate(self, tplan, new_node, parent_sidx):\n",
    "        if not self.refoliate_flag:\n",
    "            return new_node, parent_sidx, False\n",
    "        else:\n",
    "            reject = False\n",
    "            parent_snode = tplan.snode_dict[parent_sidx]\n",
    "            parent_node = parent_snode.state.node\n",
    "            anc_nodes = [tplan.snode_dict[pidx].state.node for pidx in parent_snode.parents]\n",
    "            if new_node != parent_node:  # this is not homing motion\n",
    "                # subject_gname_list = [obj.geometry.name for obj in self.pscene.subject_dict.values()\n",
    "                #                       if obj.stype == SubjectType.OBJECT]\n",
    "                active_binder_geo = [b for a, b in zip(parent_node, new_node) if a != b][0]\n",
    "                if any([active_binder_geo in subject.geometry.get_family()\n",
    "                        for subject in self.pscene.subject_dict.values() if isinstance(subject, AbstractObject)]):     # don't put on other object\n",
    "                    reject = True\n",
    "                    return new_node, parent_sidx, reject\n",
    "\n",
    "                if len(anc_nodes) > 1 and anc_nodes[-1] == parent_node:  # previous motion was homing\n",
    "                    if ([a for a, b in zip(anc_nodes[-2], parent_node) if a != b][0]\n",
    "                            == [b for a, b in zip(parent_node, new_node) if a != b][0]):  # use same binder after homing\n",
    "                        parent_sidx = parent_snode.parents[-1]\n",
    "                        parent_snode = tplan.snode_dict[parent_sidx]\n",
    "                        parent_node = parent_snode.state.node\n",
    "                        anc_nodes = anc_nodes[:-1]\n",
    "                if len(anc_nodes) > 0 and new_node in anc_nodes:  # already-moved object\n",
    "                    active_binder_geo = [b for a, b in zip(parent_node, new_node) if a != b][0]\n",
    "                    if ((active_binder_geo not in self.pscene.geometry_actor_dict)  # active binder is doing Task\n",
    "                            or\n",
    "                            (self.pscene.actor_robot_dict[self.pscene.geometry_actor_dict[active_binder_geo][0]]\n",
    "                             is not None)  # active binder is controllable actor\n",
    "                    ):\n",
    "                        first_access_idx = anc_nodes.index(new_node)\n",
    "                        if first_access_idx == 0:  # this is returning to initial state\n",
    "                            reject = True\n",
    "                        else:  # foliate from before first move of this object\n",
    "                            parent_sidx = parent_snode.parents[first_access_idx - 1]\n",
    "                            parent_snode = tplan.snode_dict[parent_sidx]\n",
    "                            parent_node = parent_snode.state.node\n",
    "                            anc_nodes = anc_nodes[:first_access_idx - 1]\n",
    "            return new_node, parent_sidx, reject\n",
    "\n",
    "    def __call__(self, tplan, snode_src, snode_new, connection_result):\n",
    "        #         print(\"CustomRule call\")\n",
    "        stack_res = False\n",
    "        stack_items = []\n",
    "        if connection_result and snode_new.state.node in self.enter_dict:\n",
    "            with tplan.snode_dict_lock:\n",
    "                nb_nodes = list(tplan.neighbor_nodes.keys())\n",
    "                for nb_node in nb_nodes:\n",
    "                    for ukey in self.sorted_unstop_keys:\n",
    "                        if nb_node[ukey] < snode_new.state.node[ukey]:\n",
    "                            del tplan.neighbor_nodes[nb_node]\n",
    "                            break  # task is done in order\n",
    "\n",
    "        if connection_result and snode_new.state.node in self.enter_dict:\n",
    "            stack_res, stack_items = True, list(self.enter_dict[snode_new.state.node])\n",
    "\n",
    "        if snode_src is not None:\n",
    "\n",
    "            node_src = snode_src.state.node\n",
    "            node_new = snode_new.state.node\n",
    "            diff_sidxes = np.where([ntem_s != ntem_g for ntem_s, ntem_g in zip(node_src, node_new)])[0]\n",
    "            #             print(\"{}->{} , diff: {}\".format(node_src, node_new, diff_sidxes))\n",
    "            if len(diff_sidxes) == 0:\n",
    "                return stack_res, stack_items\n",
    "            diff_sidx = diff_sidxes[0]\n",
    "            diff_sname = self.pscene.subject_name_list[diff_sidx]\n",
    "            diff_subject = self.pscene.subject_dict[diff_sname]\n",
    "\n",
    "            if isinstance(diff_subject, SweepLineTask): # Sweep entrance control rule\n",
    "                #                 print(\"Rule for SweepLineTask\")\n",
    "                with tplan.snode_dict_lock:\n",
    "                    if node_src[diff_sidx] not in tplan.unstoppable_terminals[diff_sidx]:\n",
    "                        # from intermediate wp -> remove access to them\n",
    "                        snode_list = tplan.node_snode_dict[node_src]\n",
    "                        if snode_src.idx in snode_list:\n",
    "                            # print(\"Removing {} from {}: {} not in {}\".format(\n",
    "                            #     snode_src.idx, snode_list,\n",
    "                            #     node_src[diff_sidx], tplan.unstoppable_terminals[diff_sidx]))\n",
    "                            # print(snode_list)\n",
    "                            snode_list.remove(snode_src.idx)\n",
    "                            tplan.node_snode_dict[node_src] = snode_list\n",
    "                            print(tplan.node_snode_dict[node_src])\n",
    "                        if len(snode_list) == 0 and node_new in tplan.neighbor_nodes:\n",
    "                            del tplan.neighbor_nodes[node_new]\n",
    "                    if connection_result:\n",
    "                        if node_new[diff_sidx] in tplan.unstoppable_terminals[diff_sidx]:  ## in terminal condition\n",
    "                            # print(\"Check home: {} in {}\".format(\n",
    "                            #     node_new[diff_sidx], tplan.unstoppable_terminals[diff_sidx]))\n",
    "                            link_name = self.pscene.gscene.NAME_DICT[\n",
    "                                snode_new.state.binding_state[diff_sidx][-1]].link_name\n",
    "                            rname_candis = [rname for rname, chain_vals in self.chain_dict.items() if\n",
    "                                            link_name in chain_vals['link_names']]\n",
    "                            if len(rname_candis) == 0:\n",
    "                                print(\"no robot candis\")\n",
    "                            else:\n",
    "                                #                                 print(\"reserve homing = {}\".format(snode_new.idx))\n",
    "                                newstate = snode_new.state.copy(self.pscene)\n",
    "                                jidxes = self.pscene.combined_robot.idx_dict[rname_candis[0]]\n",
    "                                newstate.Q[jidxes] = self.pscene.combined_robot.home_pose[jidxes]\n",
    "                                return True, [newstate] + stack_items\n",
    "                        else:  ## not in terminal condition\n",
    "                            # print(\"Reserve next wp from {}\".format(snode_new.idx))\n",
    "                            snode_list = tplan.node_snode_dict[node_new]\n",
    "                            if snode_new.idx in snode_list:\n",
    "                                # print(\"Removing {} from {} as next wp is reserved\".format(snode_new.idx, snode_list))\n",
    "                                snode_list.remove(snode_new.idx)\n",
    "                                tplan.node_snode_dict[node_new] = snode_list\n",
    "                            next_node_candis = list(self.node_dict[node_new])\n",
    "                            assert len(\n",
    "                                next_node_candis) == 1, \"non-terminal sweep task should have only 1 leaf ({}) {}-{}\".format(\n",
    "                                diff_sidx, node_new, next_node_candis)\n",
    "                            return True, next_node_candis * self.NUM_WP_TRIALS + stack_items\n",
    "                return stack_res, stack_items\n",
    "\n",
    "            if isinstance(diff_subject, AbstractObject):\n",
    "                #                 print(\"Rule for AbstractObject\")\n",
    "                if connection_result:\n",
    "                    link_name1 = snode_src.state.state_param[diff_sname][0]\n",
    "                    link_name2 = snode_new.state.state_param[diff_sname][0]\n",
    "                    rname_candis = [rname for rname, chain_vals in self.chain_dict.items() if\n",
    "                                    link_name1 in chain_vals['link_names'] or link_name2 in chain_vals['link_names']]\n",
    "                    if len(rname_candis) == 0:\n",
    "                        print(\"no robot candis\")\n",
    "                        return stack_res, stack_items\n",
    "                    else:\n",
    "                        #                         print(\"try homing\")\n",
    "                        newstate = snode_new.state.copy(self.pscene)\n",
    "                        jidxes = self.pscene.combined_robot.idx_dict[rname_candis[0]]\n",
    "                        newstate.Q[jidxes] = self.pscene.combined_robot.home_pose[jidxes]\n",
    "                        return True, [newstate] + stack_items\n",
    "        return stack_res, stack_items"
   ]
  },
  {
   "cell_type": "code",
   "execution_count": null,
   "metadata": {},
   "outputs": [],
   "source": [
    "tplan.custom_rule = SweepEntranceControlRule(pscene)"
   ]
  },
  {
   "cell_type": "code",
   "execution_count": null,
   "metadata": {},
   "outputs": [],
   "source": []
  },
  {
   "cell_type": "code",
   "execution_count": null,
   "metadata": {},
   "outputs": [],
   "source": []
  },
  {
   "cell_type": "markdown",
   "metadata": {},
   "source": [
    "## Plan & show"
   ]
  },
  {
   "cell_type": "code",
   "execution_count": null,
   "metadata": {},
   "outputs": [],
   "source": [
    "from pkg.planning.motion.moveit.moveit_py import ConstrainedSpaceType\n",
    "from pkg.planning.constraint.constraint_common import get_binding_margins, fit_binding\n",
    "from pkg.utils.traj_utils import simplify_schedule, mix_schedule\n",
    "mplan.reset_log(False)\n",
    "gtimer.reset()"
   ]
  },
  {
   "cell_type": "code",
   "execution_count": null,
   "metadata": {},
   "outputs": [],
   "source": [
    "mplan.reset_log(False)\n",
    "gtimer.reset()\n",
    "\n",
    "with gtimer.block(\"detect\"):\n",
    "    for sname in pscene.subject_name_list:\n",
    "        if isinstance(pscene.subject_dict[sname], AbstractObject):\n",
    "            pscene.remove_subject(sname)\n",
    "            \n",
    "#     gscene.clear_non_fixed()\n",
    "    \n",
    "#     ## detect again\n",
    "#     gtem_dict = s_builder.detect_and_register(level_mask=[DetectionLevel.MOVABLE])\n",
    "\n",
    "    ## create boxes\n",
    "    box_list =  [] \n",
    "    for gname in sorted(gtem_dict.keys()):\n",
    "        with gtimer.block(gname):\n",
    "            box_new = pscene.create_subject(oname=gname, gname=gname, _type=BoxObject, hexahedral=True)\n",
    "            box_new.register_binders(pscene, PlacePlane)\n",
    "            box_list.append(box_new)\n",
    "            \n",
    "initial_state = pscene.initialize_state(crob.home_pose, force_fit_binding=True)\n",
    "gscene.update_markers_all()\n",
    "\n",
    "# remove place points and sub-binders except for the current ones\n",
    "use_current_place_point_only(pscene, initial_state)\n",
    "use_current_sub_binders_only(pscene, initial_state)\n",
    "tplan.prepare()\n",
    "mplan.update_gscene()"
   ]
  },
  {
   "cell_type": "code",
   "execution_count": null,
   "metadata": {},
   "outputs": [],
   "source": [
    "print(gtimer)"
   ]
  },
  {
   "cell_type": "code",
   "execution_count": null,
   "metadata": {},
   "outputs": [],
   "source": []
  },
  {
   "cell_type": "markdown",
   "metadata": {},
   "source": [
    "## w/o redundant motions"
   ]
  },
  {
   "cell_type": "code",
   "execution_count": null,
   "metadata": {
    "scrolled": true
   },
   "outputs": [],
   "source": [
    "mplan.reset_log(False)\n",
    "gtimer.reset()\n",
    "tplan.custom_rule.refoliate_flag = True\n",
    "\n",
    "# with gtimer.block(\"detect\"):\n",
    "#     for sname in pscene.subject_name_list:\n",
    "#         if isinstance(pscene.subject_dict[sname], AbstractObject):\n",
    "#             pscene.remove_subject(sname)\n",
    "            \n",
    "#     gscene.clear_non_fixed()\n",
    "    \n",
    "#     ## detect again\n",
    "#     gtem_dict = s_builder.detect_and_register(level_mask=[DetectionLevel.MOVABLE])\n",
    "\n",
    "#     ## create boxes\n",
    "#     box_list =  [] \n",
    "#     for gname in sorted(gtem_dict.keys()):\n",
    "#         box_new = pscene.create_subject(oname=gname, gname=gname, _type=BoxObject, hexahedral=True)\n",
    "#         box_new.register_binders(pscene, PlacePlane)\n",
    "#         box_list.append(box_new)\n",
    "    \n",
    "#     initial_state = pscene.initialize_state(crob.home_pose, force_fit_binding=True)\n",
    "#     gscene.update_markers_all()\n",
    "\n",
    "#     # remove place points and sub-binders except for the current ones\n",
    "#     use_current_place_point_only(pscene, initial_state)\n",
    "#     use_current_sub_binders_only(pscene, initial_state)\n",
    "#     tplan.prepare()\n",
    "#     mplan.update_gscene()\n",
    "    \n",
    "print(initial_state.node)\n",
    "\n",
    "result_list = []\n",
    "traj_list = []\n",
    "trans_list = []\n",
    "snode_schedule_all_stack = []\n",
    "for _ in range(10):\n",
    "    with gtimer.block(\"one_plan\", stack=True):\n",
    "        gtimer.tic(\"firstmove\")\n",
    "        obj_num = len(gtem_dict)\n",
    "        sweep_num = len(sweep_list)\n",
    "        from_state = initial_state\n",
    "        t_exe = None\n",
    "        snode_schedule_all = []\n",
    "        traj_len = 0\n",
    "        for sweep_idx in range(sweep_num):\n",
    "            gcheck.put_banned = [track_list[sweep_idx][2]]\n",
    "            sweep_goal = tuple([int(i_s<=sweep_idx)*2 for i_s in range(sweep_num)])\n",
    "        #     sweep_goal = tuple([int(i_s<=sweep_idx)*2 for i_s in range(2)])+(0,)\n",
    "            goal_nodes = [(\"track_face\",)*obj_num+sweep_goal]\n",
    "            if sweep_idx < sweep_num-1:\n",
    "                for i_s in range(obj_num):\n",
    "                    obj_goal = [\"track_face\"]*obj_num\n",
    "                    obj_goal[i_s] = \"grip1\"\n",
    "                    goal_nodes += [tuple(obj_goal)+sweep_goal]\n",
    "            gtimer.tic(\"plan{}\".format(sweep_idx))\n",
    "            ppline.search(from_state, goal_nodes, verbose=True, display=False, dt_vis=0.01, \n",
    "                          timeout_loop=200, multiprocess=True, timeout=10,\n",
    "                          plannerconfig=PlannerConfig.RRTConnectkConfigDefault, cs_type=ConstrainedSpaceType.TANGENTBUNDLE, post_projection=True)\n",
    "            gtimer.toc(\"plan{}\".format(sweep_idx), stack=True)\n",
    "            schedules = ppline.tplan.find_schedules()\n",
    "            if len(schedules)==0:\n",
    "                break\n",
    "            schedules_sorted = ppline.tplan.sort_schedule(schedules)\n",
    "            snode_schedule = ppline.tplan.idxSchedule2SnodeScedule(schedules_sorted[0])\n",
    "            snode_schedule_simple = simplify_schedule(pscene, snode_schedule)\n",
    "            snode_schedule_safe = calculate_safe_schedule(pscene, snode_schedule_simple, 0.5, 1)\n",
    "#             snode_schedule = snode_schedule_safe\n",
    "            snode_schedule = mix_schedule(mplan, snode_schedule_safe)\n",
    "            from_state = snode_schedule[-1].state\n",
    "            if t_exe:\n",
    "                t_exe.join()\n",
    "            else:\n",
    "                if len(snode_schedule_all)==0:\n",
    "                    gtimer.toc(\"firstmove\")\n",
    "            snode_schedule_all.append(snode_schedule)\n",
    "        result_list.append(len(schedules)!=0)\n",
    "        if len(schedules)!=0:\n",
    "            traj_list.append([snode_schedule[-1].traj_tot for snode_schedule in snode_schedule_all])\n",
    "            trans_list.append([len(snode_schedule[-1].parents) for snode_schedule in snode_schedule_all])\n",
    "            snode_schedule_all_stack.append(snode_schedule_all)\n",
    "        #     t_exe = Thread(target=ppline.play_schedule, args = (snode_schedule,), kwargs=dict( period=0.01))\n",
    "        #     t_exe.start()\n",
    "        # t_exe.join()"
   ]
  },
  {
   "cell_type": "code",
   "execution_count": null,
   "metadata": {
    "scrolled": true
   },
   "outputs": [],
   "source": [
    "print(\"{} % : {} / {} / {} / {}\".format(np.mean(result_list)*100,\n",
    "    np.min(np.sum(traj_list, axis=-1)), np.mean(np.sum(traj_list, axis=-1)), \n",
    "    np.median(np.sum(traj_list, axis=-1)), np.max(np.sum(traj_list, axis=-1))))"
   ]
  },
  {
   "cell_type": "code",
   "execution_count": null,
   "metadata": {},
   "outputs": [],
   "source": [
    "print(\"{} % : {} / {} / {} / {}\".format(np.mean(result_list)*100,\n",
    "    np.min(np.sum(trans_list, axis=-1)), np.mean(np.sum(trans_list, axis=-1)), \n",
    "    np.median(np.sum(trans_list, axis=-1)), np.max(np.sum(trans_list, axis=-1))))"
   ]
  },
  {
   "cell_type": "code",
   "execution_count": null,
   "metadata": {},
   "outputs": [],
   "source": [
    "snode_schedule_all_stack_1 = snode_schedule_all_stack"
   ]
  },
  {
   "cell_type": "code",
   "execution_count": null,
   "metadata": {},
   "outputs": [],
   "source": [
    "print(\"total : {} / {} / {} / {}\".format(\n",
    "                                        np.min(np.array(gtimer.timelist_dict['one_plan'])[np.where(result_list)[0]])/1000,\n",
    "                                        np.mean(np.array(gtimer.timelist_dict['one_plan'])[np.where(result_list)[0]])/1000,\n",
    "                                        np.median(np.array(gtimer.timelist_dict['one_plan'])[np.where(result_list)[0]])/1000,\n",
    "                                        np.max(np.array(gtimer.timelist_dict['one_plan'])[np.where(result_list)[0]])/1000))\n",
    "\n",
    "print(\"plan0 : {} / {} / {} / {}\".format(\n",
    "                                        np.min(np.array(gtimer.timelist_dict['plan0'])[np.where(result_list)[0]])/1000,\n",
    "                                        np.mean(np.array(gtimer.timelist_dict['plan0'])[np.where(result_list)[0]])/1000,\n",
    "                                        np.median(np.array(gtimer.timelist_dict['plan0'])[np.where(result_list)[0]])/1000,\n",
    "                                        np.max(np.array(gtimer.timelist_dict['plan0'])[np.where(result_list)[0]])/1000))\n",
    "print(\"plan1 : {} / {} / {} / {}\".format(\n",
    "                                        np.min(np.array(gtimer.timelist_dict['plan1'])[np.where(result_list)[0]])/1000,\n",
    "                                        np.mean(np.array(gtimer.timelist_dict['plan1'])[np.where(result_list)[0]])/1000,\n",
    "                                        np.median(np.array(gtimer.timelist_dict['plan1'])[np.where(result_list)[0]])/1000,\n",
    "                                        np.max(np.array(gtimer.timelist_dict['plan1'])[np.where(result_list)[0]])/1000))\n",
    "print(\"plan2 : {} / {} / {} / {}\".format(\n",
    "                                        np.min(np.array(gtimer.timelist_dict['plan2'])[np.where(result_list)[0]])/1000,\n",
    "                                        np.mean(np.array(gtimer.timelist_dict['plan2'])[np.where(result_list)[0]])/1000,\n",
    "                                        np.median(np.array(gtimer.timelist_dict['plan2'])[np.where(result_list)[0]])/1000,\n",
    "                                        np.max(np.array(gtimer.timelist_dict['plan2'])[np.where(result_list)[0]])/1000))"
   ]
  },
  {
   "cell_type": "code",
   "execution_count": null,
   "metadata": {},
   "outputs": [],
   "source": [
    "print(gtimer)"
   ]
  },
  {
   "cell_type": "code",
   "execution_count": null,
   "metadata": {},
   "outputs": [],
   "source": []
  },
  {
   "cell_type": "code",
   "execution_count": null,
   "metadata": {},
   "outputs": [],
   "source": [
    "play_schedule_clearance_highlight_full(ppline, snode_schedule_all_stack_1[0], tcheck)"
   ]
  },
  {
   "cell_type": "code",
   "execution_count": null,
   "metadata": {},
   "outputs": [],
   "source": []
  },
  {
   "cell_type": "code",
   "execution_count": null,
   "metadata": {},
   "outputs": [],
   "source": []
  },
  {
   "cell_type": "code",
   "execution_count": null,
   "metadata": {},
   "outputs": [],
   "source": []
  },
  {
   "cell_type": "code",
   "execution_count": null,
   "metadata": {},
   "outputs": [],
   "source": []
  },
  {
   "cell_type": "code",
   "execution_count": null,
   "metadata": {},
   "outputs": [],
   "source": [
    "self = ppline\n",
    "snode_schedule = snode_schedule_all_stack_1[0][0]\n",
    "period = 0.001\n",
    "tcheck = tcheck"
   ]
  },
  {
   "cell_type": "code",
   "execution_count": null,
   "metadata": {},
   "outputs": [],
   "source": [
    "play_schedule_clearance_highlight(ppline, snode_schedule, tcheck=tcheck, period=0.001)"
   ]
  },
  {
   "cell_type": "code",
   "execution_count": null,
   "metadata": {},
   "outputs": [],
   "source": []
  },
  {
   "cell_type": "code",
   "execution_count": null,
   "metadata": {},
   "outputs": [],
   "source": []
  },
  {
   "cell_type": "markdown",
   "metadata": {},
   "source": [
    "## w. redundant motion"
   ]
  },
  {
   "cell_type": "code",
   "execution_count": null,
   "metadata": {
    "scrolled": true
   },
   "outputs": [],
   "source": [
    "mplan.reset_log(False)\n",
    "gtimer.reset()\n",
    "tplan.custom_rule.refoliate_flag = False\n",
    "\n",
    "# with gtimer.block(\"detect\"):\n",
    "#     for sname in pscene.subject_name_list:\n",
    "#         if isinstance(pscene.subject_dict[sname], AbstractObject):\n",
    "#             pscene.remove_subject(sname)\n",
    "            \n",
    "#     gscene.clear_non_fixed()\n",
    "    \n",
    "#     ## detect again\n",
    "#     gtem_dict = s_builder.detect_and_register(level_mask=[DetectionLevel.MOVABLE])\n",
    "\n",
    "#     ## create boxes\n",
    "#     box_list =  [] \n",
    "#     for gname in sorted(gtem_dict.keys()):\n",
    "#         box_new = pscene.create_subject(oname=gname, gname=gname, _type=BoxObject, hexahedral=True)\n",
    "#         box_new.register_binders(pscene, PlacePlane)\n",
    "#         box_list.append(box_new)\n",
    "    \n",
    "#     initial_state = pscene.initialize_state(crob.home_pose, force_fit_binding=True)\n",
    "#     gscene.update_markers_all()\n",
    "\n",
    "#     # remove place points and sub-binders except for the current ones\n",
    "#     use_current_place_point_only(pscene, initial_state)\n",
    "#     use_current_sub_binders_only(pscene, initial_state)\n",
    "#     tplan.prepare()\n",
    "#     mplan.update_gscene()\n",
    "    \n",
    "print(initial_state.node)\n",
    "\n",
    "result_list = []\n",
    "traj_list = []\n",
    "trans_list = []\n",
    "snode_schedule_all_stack = []\n",
    "for _ in range(10):\n",
    "    with gtimer.block(\"one_plan\", stack=True):\n",
    "        gtimer.tic(\"firstmove\")\n",
    "        obj_num = len(gtem_dict)\n",
    "        sweep_num = len(sweep_list)\n",
    "        from_state = initial_state\n",
    "        t_exe = None\n",
    "        snode_schedule_all = []\n",
    "        traj_len = 0\n",
    "        for sweep_idx in range(sweep_num):\n",
    "            gcheck.put_banned = [track_list[sweep_idx][2]]\n",
    "            sweep_goal = tuple([int(i_s<=sweep_idx)*2 for i_s in range(sweep_num)])\n",
    "        #     sweep_goal = tuple([int(i_s<=sweep_idx)*2 for i_s in range(2)])+(0,)\n",
    "            goal_nodes = [(\"track_face\",)*obj_num+sweep_goal]\n",
    "            if sweep_idx < sweep_num-1:\n",
    "                for i_s in range(obj_num):\n",
    "                    obj_goal = [\"track_face\"]*obj_num\n",
    "                    obj_goal[i_s] = \"grip1\"\n",
    "                    goal_nodes += [tuple(obj_goal)+sweep_goal]\n",
    "            gtimer.tic(\"plan{}\".format(sweep_idx))\n",
    "            ppline.search(from_state, goal_nodes, verbose=True, display=False, dt_vis=0.01, \n",
    "                          timeout_loop=200, multiprocess=True, timeout=10,\n",
    "                          plannerconfig=PlannerConfig.RRTConnectkConfigDefault, cs_type=ConstrainedSpaceType.TANGENTBUNDLE, post_projection=True)\n",
    "            gtimer.toc(\"plan{}\".format(sweep_idx), stack=True)\n",
    "            schedules = ppline.tplan.find_schedules()\n",
    "            if len(schedules)==0:\n",
    "                break\n",
    "            schedules_sorted = ppline.tplan.sort_schedule(schedules)\n",
    "            snode_schedule = ppline.tplan.idxSchedule2SnodeScedule(schedules_sorted[0])\n",
    "            snode_schedule_simple = simplify_schedule(pscene, snode_schedule)\n",
    "            snode_schedule_safe = calculate_safe_schedule(pscene, snode_schedule_simple, 0.5, 1)\n",
    "#             snode_schedule = snode_schedule_safe\n",
    "            snode_schedule = mix_schedule(mplan, snode_schedule_safe)\n",
    "            from_state = snode_schedule[-1].state\n",
    "            if t_exe:\n",
    "                t_exe.join()\n",
    "            else:\n",
    "                if len(snode_schedule_all)==0:\n",
    "                    gtimer.toc(\"firstmove\")\n",
    "            snode_schedule_all.append(snode_schedule)\n",
    "        result_list.append(len(schedules)!=0)\n",
    "        if len(schedules)!=0:\n",
    "            traj_list.append([snode_schedule[-1].traj_tot for snode_schedule in snode_schedule_all])\n",
    "            trans_list.append([len(snode_schedule[-1].parents) for snode_schedule in snode_schedule_all])\n",
    "            snode_schedule_all_stack.append(snode_schedule_all)\n",
    "        #     t_exe = Thread(target=ppline.play_schedule, args = (snode_schedule,), kwargs=dict( period=0.01))\n",
    "        #     t_exe.start()\n",
    "        # t_exe.join()"
   ]
  },
  {
   "cell_type": "code",
   "execution_count": null,
   "metadata": {
    "scrolled": true
   },
   "outputs": [],
   "source": [
    "print(\"{} % : {} / {} / {} / {}\".format(np.mean(result_list)*100,\n",
    "    np.min(np.sum(traj_list, axis=-1)), np.mean(np.sum(traj_list, axis=-1)), \n",
    "    np.median(np.sum(traj_list, axis=-1)), np.max(np.sum(traj_list, axis=-1))))"
   ]
  },
  {
   "cell_type": "code",
   "execution_count": null,
   "metadata": {},
   "outputs": [],
   "source": [
    "print(\"{} % : {} / {} / {} / {}\".format(np.mean(result_list)*100,\n",
    "    np.min(np.sum(trans_list, axis=-1)), np.mean(np.sum(trans_list, axis=-1)), \n",
    "    np.median(np.sum(trans_list, axis=-1)), np.max(np.sum(trans_list, axis=-1))))"
   ]
  },
  {
   "cell_type": "code",
   "execution_count": null,
   "metadata": {},
   "outputs": [],
   "source": [
    "snode_schedule_all_stack_2 = snode_schedule_all_stack"
   ]
  },
  {
   "cell_type": "code",
   "execution_count": null,
   "metadata": {},
   "outputs": [],
   "source": []
  },
  {
   "cell_type": "code",
   "execution_count": null,
   "metadata": {},
   "outputs": [],
   "source": [
    "print(\"total : {} / {} / {} / {}\".format(\n",
    "                                        np.min(np.array(gtimer.timelist_dict['one_plan'])[np.where(result_list)[0]])/1000,\n",
    "                                        np.mean(np.array(gtimer.timelist_dict['one_plan'])[np.where(result_list)[0]])/1000,\n",
    "                                        np.median(np.array(gtimer.timelist_dict['one_plan'])[np.where(result_list)[0]])/1000,\n",
    "                                        np.max(np.array(gtimer.timelist_dict['one_plan'])[np.where(result_list)[0]])/1000))\n",
    "\n",
    "print(\"plan0 : {} / {} / {} / {}\".format(\n",
    "                                        np.min(np.array(gtimer.timelist_dict['plan0'])[np.where(result_list)[0]])/1000,\n",
    "                                        np.mean(np.array(gtimer.timelist_dict['plan0'])[np.where(result_list)[0]])/1000,\n",
    "                                        np.median(np.array(gtimer.timelist_dict['plan0'])[np.where(result_list)[0]])/1000,\n",
    "                                        np.max(np.array(gtimer.timelist_dict['plan0'])[np.where(result_list)[0]])/1000))\n",
    "print(\"plan1 : {} / {} / {} / {}\".format(\n",
    "                                        np.min(np.array(gtimer.timelist_dict['plan1'])[np.where(result_list)[0]])/1000,\n",
    "                                        np.mean(np.array(gtimer.timelist_dict['plan1'])[np.where(result_list)[0]])/1000,\n",
    "                                        np.median(np.array(gtimer.timelist_dict['plan1'])[np.where(result_list)[0]])/1000,\n",
    "                                        np.max(np.array(gtimer.timelist_dict['plan1'])[np.where(result_list)[0]])/1000))\n",
    "print(\"plan2 : {} / {} / {} / {}\".format(\n",
    "                                        np.min(np.array(gtimer.timelist_dict['plan2'])[np.where(result_list)[0]])/1000,\n",
    "                                        np.mean(np.array(gtimer.timelist_dict['plan2'])[np.where(result_list)[0]])/1000,\n",
    "                                        np.median(np.array(gtimer.timelist_dict['plan2'])[np.where(result_list)[0]])/1000,\n",
    "                                        np.max(np.array(gtimer.timelist_dict['plan2'])[np.where(result_list)[0]])/1000))"
   ]
  },
  {
   "cell_type": "code",
   "execution_count": null,
   "metadata": {},
   "outputs": [],
   "source": []
  },
  {
   "cell_type": "code",
   "execution_count": null,
   "metadata": {},
   "outputs": [],
   "source": [
    "for snode_schedule_all in snode_schedule_all_stack_1:\n",
    "    for snode_schedule in snode_schedule_all:\n",
    "        ppline.play_schedule(snode_schedule, period=0.001)"
   ]
  },
  {
   "cell_type": "code",
   "execution_count": null,
   "metadata": {},
   "outputs": [],
   "source": [
    "ppline.play_schedule(snode_schedule_all_stack_2[2][0], period=0.001)"
   ]
  },
  {
   "cell_type": "code",
   "execution_count": null,
   "metadata": {},
   "outputs": [],
   "source": [
    "ppline.play_schedule(snode_schedule_all_stack_2[2][2], period=0.001)"
   ]
  },
  {
   "cell_type": "code",
   "execution_count": null,
   "metadata": {},
   "outputs": [],
   "source": []
  },
  {
   "cell_type": "code",
   "execution_count": null,
   "metadata": {
    "scrolled": true
   },
   "outputs": [],
   "source": [
    "print(gtimer)"
   ]
  },
  {
   "cell_type": "code",
   "execution_count": null,
   "metadata": {},
   "outputs": [],
   "source": [
    "gtimer.timelist_dict['one_plan']"
   ]
  },
  {
   "cell_type": "code",
   "execution_count": null,
   "metadata": {},
   "outputs": [],
   "source": [
    "print(\"{} % : {} / {} / {} / {}\".format(np.mean(result_list),\n",
    "                                        np.min(np.array(gtimer.timelist_dict['one_plan'])[np.where(result_list)[0]])/1000,\n",
    "                                        np.mean(np.array(gtimer.timelist_dict['one_plan'])[np.where(result_list)[0]])/1000,\n",
    "                                        np.median(np.array(gtimer.timelist_dict['one_plan'])[np.where(result_list)[0]])/1000,\n",
    "                                        np.max(np.array(gtimer.timelist_dict['one_plan'])[np.where(result_list)[0]])/1000))"
   ]
  },
  {
   "cell_type": "code",
   "execution_count": null,
   "metadata": {},
   "outputs": [],
   "source": []
  },
  {
   "cell_type": "code",
   "execution_count": null,
   "metadata": {},
   "outputs": [],
   "source": []
  },
  {
   "cell_type": "code",
   "execution_count": null,
   "metadata": {},
   "outputs": [],
   "source": []
  },
  {
   "cell_type": "code",
   "execution_count": null,
   "metadata": {},
   "outputs": [],
   "source": []
  },
  {
   "cell_type": "markdown",
   "metadata": {},
   "source": [
    "## rule + Projected"
   ]
  },
  {
   "cell_type": "code",
   "execution_count": null,
   "metadata": {
    "scrolled": false
   },
   "outputs": [],
   "source": [
    "print(gtimer)"
   ]
  },
  {
   "cell_type": "code",
   "execution_count": null,
   "metadata": {},
   "outputs": [],
   "source": [
    "gtimer.timelist_dict['one_plan']"
   ]
  },
  {
   "cell_type": "code",
   "execution_count": null,
   "metadata": {},
   "outputs": [],
   "source": [
    "np.mean(result_list)"
   ]
  },
  {
   "cell_type": "code",
   "execution_count": null,
   "metadata": {},
   "outputs": [],
   "source": [
    "np.min(np.array(gtimer.timelist_dict['one_plan'])[np.where(result_list)[0]])/1000"
   ]
  },
  {
   "cell_type": "code",
   "execution_count": null,
   "metadata": {},
   "outputs": [],
   "source": [
    "np.mean(np.array(gtimer.timelist_dict['one_plan'])[np.where(result_list)[0]])/1000"
   ]
  },
  {
   "cell_type": "code",
   "execution_count": null,
   "metadata": {},
   "outputs": [],
   "source": [
    "np.median(np.array(gtimer.timelist_dict['one_plan'])[np.where(result_list)[0]])/1000"
   ]
  },
  {
   "cell_type": "code",
   "execution_count": null,
   "metadata": {},
   "outputs": [],
   "source": [
    "np.max(np.array(gtimer.timelist_dict['one_plan'])[np.where(result_list)[0]])/1000"
   ]
  },
  {
   "cell_type": "markdown",
   "metadata": {},
   "source": [
    "## no rule"
   ]
  },
  {
   "cell_type": "code",
   "execution_count": null,
   "metadata": {},
   "outputs": [],
   "source": [
    "np.mean(result_list)"
   ]
  },
  {
   "cell_type": "code",
   "execution_count": null,
   "metadata": {},
   "outputs": [],
   "source": [
    "np.min(np.array(gtimer.timelist_dict['one_plan'])[np.where(result_list)[0]])/1000"
   ]
  },
  {
   "cell_type": "code",
   "execution_count": null,
   "metadata": {},
   "outputs": [],
   "source": [
    "np.mean(np.array(gtimer.timelist_dict['one_plan'])[np.where(result_list)[0]])/1000"
   ]
  },
  {
   "cell_type": "code",
   "execution_count": null,
   "metadata": {},
   "outputs": [],
   "source": [
    "np.median(np.array(gtimer.timelist_dict['one_plan'])[np.where(result_list)[0]])/1000"
   ]
  },
  {
   "cell_type": "code",
   "execution_count": null,
   "metadata": {},
   "outputs": [],
   "source": [
    "np.max(np.array(gtimer.timelist_dict['one_plan'])[np.where(result_list)[0]])/1000"
   ]
  },
  {
   "cell_type": "code",
   "execution_count": null,
   "metadata": {
    "scrolled": true
   },
   "outputs": [],
   "source": [
    "print(gtimer)"
   ]
  },
  {
   "cell_type": "code",
   "execution_count": null,
   "metadata": {},
   "outputs": [],
   "source": [
    "gtimer.timelist_dict['one_plan']"
   ]
  },
  {
   "cell_type": "code",
   "execution_count": null,
   "metadata": {},
   "outputs": [],
   "source": [
    "result_list"
   ]
  },
  {
   "cell_type": "code",
   "execution_count": null,
   "metadata": {},
   "outputs": [],
   "source": [
    "np.min(np.array(gtimer.timelist_dict['one_plan'])[np.where(result_list)[0]])/1000"
   ]
  },
  {
   "cell_type": "code",
   "execution_count": null,
   "metadata": {},
   "outputs": [],
   "source": [
    "np.mean(np.array(gtimer.timelist_dict['one_plan'])[np.where(result_list)[0]])/1000"
   ]
  },
  {
   "cell_type": "code",
   "execution_count": null,
   "metadata": {},
   "outputs": [],
   "source": [
    "np.median(np.array(gtimer.timelist_dict['one_plan'])[np.where(result_list)[0]])/1000"
   ]
  },
  {
   "cell_type": "code",
   "execution_count": null,
   "metadata": {},
   "outputs": [],
   "source": [
    "np.max(np.array(gtimer.timelist_dict['one_plan'])[np.where(result_list)[0]])/1000"
   ]
  },
  {
   "cell_type": "code",
   "execution_count": null,
   "metadata": {},
   "outputs": [],
   "source": []
  },
  {
   "cell_type": "markdown",
   "metadata": {},
   "source": [
    "## mix full schedule"
   ]
  },
  {
   "cell_type": "code",
   "execution_count": null,
   "metadata": {},
   "outputs": [],
   "source": [
    "gtimer.reset()\n",
    "snode_schedule_cat = [snode_schedule_all[0][0]]\n",
    "for snode_schedule in snode_schedule_all:\n",
    "    snode_schedule_cat += snode_schedule[1:]\n",
    "\n",
    "with gtimer.block(\"mix_schedule_safe\"):\n",
    "    safe_mixed = mix_schedule(mplan, snode_schedule_cat)\n",
    "\n",
    "print(gtimer)"
   ]
  },
  {
   "cell_type": "markdown",
   "metadata": {},
   "source": [
    "### play schedule"
   ]
  },
  {
   "cell_type": "code",
   "execution_count": null,
   "metadata": {},
   "outputs": [],
   "source": [
    "ppline.play_schedule(safe_mixed, period=0.001)"
   ]
  },
  {
   "cell_type": "code",
   "execution_count": null,
   "metadata": {},
   "outputs": [],
   "source": []
  },
  {
   "cell_type": "markdown",
   "metadata": {},
   "source": [
    "### Run fully mixed schedule"
   ]
  },
  {
   "cell_type": "code",
   "execution_count": null,
   "metadata": {},
   "outputs": [],
   "source": [
    "from pkg.planning.motion.moveit.moveit_py import ConstrainedSpaceType\n",
    "from pkg.planning.constraint.constraint_common import get_binding_margins, fit_binding\n",
    "crob.reset_connection(True,False)\n",
    "time.sleep(1)\n",
    "crob.grasp(True, True)\n",
    "time.sleep(2)\n",
    "crob.grasp(False, False)\n",
    "crob.joint_move_make_sure(crob.home_pose+0.05)\n",
    "crob.joint_move_make_sure(crob.home_pose)"
   ]
  },
  {
   "cell_type": "code",
   "execution_count": null,
   "metadata": {},
   "outputs": [],
   "source": [
    "ppline.execute_schedule(safe_mixed, mode_switcher=ModeSwitcher(pscene))"
   ]
  },
  {
   "cell_type": "code",
   "execution_count": null,
   "metadata": {},
   "outputs": [],
   "source": []
  },
  {
   "cell_type": "markdown",
   "metadata": {},
   "source": [
    "## Plan & execute"
   ]
  },
  {
   "cell_type": "code",
   "execution_count": null,
   "metadata": {},
   "outputs": [],
   "source": [
    "from pkg.planning.motion.moveit.moveit_py import ConstrainedSpaceType\n",
    "from pkg.planning.constraint.constraint_common import get_binding_margins, fit_binding\n",
    "crob.reset_connection(False,True)\n",
    "time.sleep(1)\n",
    "crob.grasp(True, True)\n",
    "time.sleep(1)\n",
    "crob.grasp(False, False)\n",
    "crob.joint_move_make_sure(crob.home_pose+0.05)\n",
    "crob.joint_move_make_sure(crob.home_pose)"
   ]
  },
  {
   "cell_type": "code",
   "execution_count": null,
   "metadata": {},
   "outputs": [],
   "source": [
    "mplan.reset_log(False)\n",
    "gtimer.reset()\n",
    "\n",
    "with gtimer.block(\"detect\"):\n",
    "    for sname in pscene.subject_name_list:\n",
    "        if isinstance(pscene.subject_dict[sname], AbstractObject):\n",
    "            pscene.remove_subject(sname)\n",
    "\n",
    "    gscene.clear_non_fixed()\n",
    "\n",
    "    ## detect again\n",
    "    gtem_dict = s_builder.detect_and_register(level_mask=[DetectionLevel.MOVABLE])\n",
    "\n",
    "    ## create boxes\n",
    "    box_list =  [] \n",
    "    for gname in sorted(gtem_dict.keys()):\n",
    "        box_new = pscene.create_subject(oname=gname, gname=gname, _type=BoxObject, hexahedral=True)\n",
    "        box_new.register_binders(pscene, PlacePlane)\n",
    "        box_list.append(box_new)\n",
    "\n",
    "    initial_state = pscene.initialize_state(crob.home_pose, force_fit_binding=True)\n",
    "    gscene.update_markers_all()\n",
    "\n",
    "    # remove place points and sub-binders except for the current ones\n",
    "    use_current_place_point_only(pscene, initial_state)\n",
    "    use_current_sub_binders_only(pscene, initial_state)\n",
    "    tplan.prepare()\n",
    "    mplan.update_gscene()\n",
    "\n",
    "print(initial_state.node)\n",
    "\n",
    "gtimer.tic(\"firstmove\")\n",
    "obj_num = len(gtem_dict)\n",
    "sweep_num = len(sweep_list)\n",
    "from_state = initial_state\n",
    "t_exe = None\n",
    "snode_schedule_all = []\n",
    "for sweep_idx in range(sweep_num):\n",
    "    gcheck.put_banned = [track_list[sweep_idx][2]]\n",
    "    sweep_goal = tuple([int(i_s<=sweep_idx)*2 for i_s in range(sweep_num)])\n",
    "#     sweep_goal = tuple([int(i_s<=sweep_idx)*2 for i_s in range(2)])+(0,)\n",
    "    goal_nodes = [(\"track_face\",)*obj_num+sweep_goal]\n",
    "    if sweep_idx < sweep_num-1:\n",
    "        for i_s in range(obj_num):\n",
    "            obj_goal = [\"track_face\"]*obj_num\n",
    "            obj_goal[i_s] = \"grip1\"\n",
    "            goal_nodes += [tuple(obj_goal)+sweep_goal]\n",
    "    gtimer.tic(\"plan{}\".format(sweep_idx))\n",
    "    ppline.search(from_state, goal_nodes, verbose=True, display=False, dt_vis=0.01, \n",
    "                  timeout_loop=100, multiprocess=True, timeout=5,\n",
    "                  plannerconfig=PlannerConfig.RRTConnectkConfigDefault, cs_type=ConstrainedSpaceType.TANGENTBUNDLE, post_projection=True)\n",
    "    gtimer.toc(\"plan{}\".format(sweep_idx))\n",
    "    schedules = ppline.tplan.find_schedules()\n",
    "    schedules_sorted = ppline.tplan.sort_schedule(schedules)\n",
    "    snode_schedule = ppline.tplan.idxSchedule2SnodeScedule(schedules_sorted[0])\n",
    "    snode_schedule_simple = simplify_schedule(pscene, snode_schedule)\n",
    "    snode_schedule_safe = calculate_safe_schedule(pscene, snode_schedule_simple, 0.5, 1)\n",
    "    snode_schedule = mix_schedule(mplan, snode_schedule_safe)\n",
    "    from_state = snode_schedule[-1].state\n",
    "    if t_exe:\n",
    "        t_exe.join()\n",
    "    else:\n",
    "        gtimer.toc(\"firstmove\")\n",
    "    t_exe = Thread(target=ppline.execute_schedule, args = (snode_schedule,), kwargs=dict(auto_stop=False, mode_switcher=ModeSwitcher(pscene)))\n",
    "    t_exe.start()\n",
    "    snode_schedule_all.append(snode_schedule)\n",
    "t_exe.join()\n",
    "crob.stop_tracking()"
   ]
  },
  {
   "cell_type": "code",
   "execution_count": null,
   "metadata": {},
   "outputs": [],
   "source": [
    "print(gtimer)"
   ]
  },
  {
   "cell_type": "code",
   "execution_count": null,
   "metadata": {},
   "outputs": [],
   "source": [
    "for _ in range(3):\n",
    "    indy = crob.robot_dict['indy0']\n",
    "    with indy:\n",
    "        indy.wait_di(16)\n",
    "\n",
    "    mplan.reset_log(False)\n",
    "    gtimer.reset()\n",
    "\n",
    "    with gtimer.block(\"detect\"):\n",
    "        for sname in pscene.subject_name_list:\n",
    "            if isinstance(pscene.subject_dict[sname], AbstractObject):\n",
    "                pscene.remove_subject(sname)\n",
    "            \n",
    "        gscene.clear_non_fixed()\n",
    "\n",
    "        ## detect again\n",
    "        gtem_dict = s_builder.detect_and_register(level_mask=[DetectionLevel.MOVABLE])\n",
    "    \n",
    "        ## create boxes\n",
    "        box_list =  [] \n",
    "        for gname in sorted(gtem_dict.keys()):\n",
    "            box_new = pscene.create_subject(oname=gname, gname=gname, _type=BoxObject, hexahedral=True)\n",
    "            box_new.register_binders(pscene, PlacePlane)\n",
    "            box_list.append(box_new)\n",
    "\n",
    "        initial_state = pscene.initialize_state(crob.home_pose, force_fit_binding=True)\n",
    "        gscene.update_markers_all()\n",
    "\n",
    "        # remove place points and sub-binders except for the current ones\n",
    "        use_current_place_point_only(pscene, initial_state)\n",
    "        use_current_sub_binders_only(pscene, initial_state)\n",
    "        tplan.prepare()\n",
    "        mplan.update_gscene()\n",
    "\n",
    "    print(initial_state.node)\n",
    "\n",
    "    gtimer.tic(\"firstmove\")\n",
    "    obj_num = len(gtem_dict)\n",
    "    sweep_num = len(sweep_list)\n",
    "    from_state = initial_state\n",
    "    t_exe = None\n",
    "    snode_schedule_all = []\n",
    "    for sweep_idx in range(sweep_num):\n",
    "        gcheck.put_banned = [track_list[sweep_idx][2]]\n",
    "        sweep_goal = tuple([int(i_s<=sweep_idx)*2 for i_s in range(sweep_num)])\n",
    "    #     sweep_goal = tuple([int(i_s<=sweep_idx)*2 for i_s in range(2)])+(0,)\n",
    "        goal_nodes = [(\"track_face\",)*obj_num+sweep_goal]\n",
    "        if sweep_idx < sweep_num-1:\n",
    "            for i_s in range(obj_num):\n",
    "                obj_goal = [\"track_face\"]*obj_num\n",
    "                obj_goal[i_s] = \"grip1\"\n",
    "                goal_nodes += [tuple(obj_goal)+sweep_goal]\n",
    "        gtimer.tic(\"plan{}\".format(sweep_idx))\n",
    "        ppline.search(from_state, goal_nodes, verbose=True, display=False, dt_vis=0.01, \n",
    "                      timeout_loop=20, multiprocess=True, timeout=5,\n",
    "                      plannerconfig=PlannerConfig.RRTConnectkConfigDefault, cs_type=ConstrainedSpaceType.TANGENTBUNDLE, post_projection=True)\n",
    "        gtimer.toc(\"plan{}\".format(sweep_idx))\n",
    "        schedules = ppline.tplan.find_schedules()\n",
    "        schedules_sorted = ppline.tplan.sort_schedule(schedules)\n",
    "        snode_schedule = ppline.tplan.idxSchedule2SnodeScedule(schedules_sorted[0])\n",
    "        snode_schedule_simple = simplify_schedule(pscene, snode_schedule)\n",
    "        snode_schedule_safe = calculate_safe_schedule(pscene, snode_schedule_simple, 0.5, 1)\n",
    "        snode_schedule = mix_schedule(mplan, snode_schedule_safe)\n",
    "        from_state = snode_schedule[-1].state\n",
    "        if t_exe:\n",
    "            t_exe.join()\n",
    "        else:\n",
    "            gtimer.toc(\"firstmove\")\n",
    "        t_exe = Thread(target=ppline.execute_schedule, args = (snode_schedule,), kwargs=dict(auto_stop=False, mode_switcher=ModeSwitcher(pscene)))\n",
    "        t_exe.start()\n",
    "        snode_schedule_all.append(snode_schedule)\n",
    "    t_exe.join()\n",
    "    crob.stop_tracking()"
   ]
  },
  {
   "cell_type": "code",
   "execution_count": null,
   "metadata": {},
   "outputs": [],
   "source": [
    "print(gtimer)"
   ]
  },
  {
   "cell_type": "code",
   "execution_count": null,
   "metadata": {},
   "outputs": [],
   "source": []
  },
  {
   "cell_type": "code",
   "execution_count": null,
   "metadata": {},
   "outputs": [],
   "source": [
    "traj_dur_list_list = []\n",
    "for snode_schedule_all in snode_schedule_all_stack:\n",
    "    traj_dur_list = []\n",
    "    for snode_schedule in snode_schedule_all:\n",
    "        traj_dur = 0\n",
    "        for snode in snode_schedule:\n",
    "            if snode.traj is not None:\n",
    "                traj_dur += len(snode.traj)\n",
    "        traj_dur_list.append(traj_dur)\n",
    "    traj_dur_list_list.append(traj_dur_list)"
   ]
  },
  {
   "cell_type": "code",
   "execution_count": null,
   "metadata": {},
   "outputs": [],
   "source": [
    "traj_freq = 50"
   ]
  },
  {
   "cell_type": "code",
   "execution_count": null,
   "metadata": {},
   "outputs": [],
   "source": []
  },
  {
   "cell_type": "code",
   "execution_count": null,
   "metadata": {},
   "outputs": [],
   "source": []
  },
  {
   "cell_type": "code",
   "execution_count": null,
   "metadata": {},
   "outputs": [],
   "source": [
    "import matplotlib.pyplot as plt\n",
    "\n",
    "plt.figure(figsize=(8,4))\n",
    " \n",
    "plan0T=np.mean(np.array(gtimer.timelist_dict['plan0'])[np.where(result_list)[0]])/1000\n",
    "plan1T=np.mean(np.array(gtimer.timelist_dict['plan1'])[np.where(result_list)[0]])/1000\n",
    "plan2T=np.mean(np.array(gtimer.timelist_dict['plan2'])[np.where(result_list)[0]])/1000\n",
    "# Rainfall data - 2nd day of the month for plotting broken horizontal bar chart\n",
    "\n",
    "yrange = (5,1)\n",
    "xranges = [(0,plan0T)]\n",
    "plt.broken_barh(xranges, yrange, facecolors='red')\n",
    "yrange = (4,1)\n",
    "xranges = [(plan0T,plan1T)]\n",
    "plt.broken_barh(xranges, yrange, facecolors='red')\n",
    "yrange = (3,1)\n",
    "xranges = [(plan0T+plan1T,plan2T)]\n",
    "plt.broken_barh(xranges, yrange, facecolors='red')\n",
    "\n",
    "\n",
    "plan_full = plan0T+plan1T+plan2T\n",
    "exe0, exe1, exe2 = np.mean(np.divide(np.array(traj_dur_list_list, dtype=np.float), traj_freq), axis=0)\n",
    "\n",
    "xranges = [(plan_full,exe0)]\n",
    "yrange = (2,1)\n",
    "plt.broken_barh(xranges, yrange, facecolors='blue')\n",
    "\n",
    "xranges = [(plan_full+exe0,exe1)]\n",
    "yrange = (1,1)\n",
    "plt.broken_barh(xranges, yrange, facecolors='blue')\n",
    "xranges = [(plan_full+exe0+exe1,exe2)]\n",
    "yrange = (0,1)\n",
    "plt.broken_barh(xranges, yrange, facecolors='blue')\n",
    "\n",
    " \n",
    "\n",
    "# Give the title for the broken horizontal bar chart\n",
    "\n",
    " \n",
    "\n",
    "# Give x axis label for the broken horizontal bar chart\n",
    "\n",
    "plt.xlabel('time (s)')\n",
    "\n",
    " \n",
    "\n",
    "# Give y axis label for for the broken horizontal bar chart\n",
    "\n",
    "plt.ylabel('Date')\n",
    "\n",
    " \n",
    "plt.grid()\n",
    "\n",
    "plt.show()"
   ]
  },
  {
   "cell_type": "code",
   "execution_count": null,
   "metadata": {},
   "outputs": [],
   "source": [
    "plan_full"
   ]
  },
  {
   "cell_type": "code",
   "execution_count": null,
   "metadata": {},
   "outputs": [],
   "source": [
    "import matplotlib.pyplot as plt\n",
    "\n",
    "plt.figure(figsize=(8,4))\n",
    " \n",
    "plan0T=np.mean(np.array(gtimer.timelist_dict['plan0'])[np.where(result_list)[0]])/1000\n",
    "plan1T=np.mean(np.array(gtimer.timelist_dict['plan1'])[np.where(result_list)[0]])/1000\n",
    "plan2T=np.mean(np.array(gtimer.timelist_dict['plan2'])[np.where(result_list)[0]])/1000\n",
    "# Rainfall data - 2nd day of the month for plotting broken horizontal bar chart\n",
    "\n",
    "exe0, exe1, exe2 = np.mean(np.divide(np.array(traj_dur_list_list, dtype=np.float), traj_freq), axis=0)\n",
    "\n",
    "yrange = (5,1)\n",
    "xranges = [(0,plan0T)]\n",
    "plt.broken_barh(xranges, yrange, facecolors='red')\n",
    "yrange = (3,1)\n",
    "xranges = [(plan0T,plan1T)]\n",
    "plt.broken_barh(xranges, yrange, facecolors='red')\n",
    "yrange = (1,1)\n",
    "xranges = [(plan0T+exe0,plan2T)]\n",
    "plt.broken_barh(xranges, yrange, facecolors='red')\n",
    "\n",
    "\n",
    "\n",
    "xranges = [(plan0T,exe0)]\n",
    "yrange = (4,1)\n",
    "plt.broken_barh(xranges, yrange, facecolors='blue')\n",
    "\n",
    "xranges = [(plan0T+exe0,exe1)]\n",
    "yrange = (2,1)\n",
    "plt.broken_barh(xranges, yrange, facecolors='blue')\n",
    "xranges = [(plan0T+exe0+exe1,exe2)]\n",
    "yrange = (0,1)\n",
    "plt.broken_barh(xranges, yrange, facecolors='blue')\n",
    "\n",
    " \n",
    "\n",
    "# Give the title for the broken horizontal bar chart\n",
    "\n",
    " \n",
    "\n",
    "# Give x axis label for the broken horizontal bar chart\n",
    "\n",
    "plt.xlabel('time (s)')\n",
    "\n",
    " \n",
    "\n",
    "# Give y axis label for for the broken horizontal bar chart\n",
    "\n",
    "plt.ylabel('Date')\n",
    "\n",
    " \n",
    "plt.grid()\n",
    "\n",
    "plt.show()"
   ]
  },
  {
   "cell_type": "code",
   "execution_count": null,
   "metadata": {},
   "outputs": [],
   "source": [
    "plan0T"
   ]
  },
  {
   "cell_type": "code",
   "execution_count": null,
   "metadata": {},
   "outputs": [],
   "source": []
  },
  {
   "cell_type": "code",
   "execution_count": null,
   "metadata": {},
   "outputs": [],
   "source": []
  },
  {
   "cell_type": "code",
   "execution_count": null,
   "metadata": {},
   "outputs": [],
   "source": [
    "print(\"total : {} / {} / {} / {}\".format(\n",
    "                                        np.min(np.array(gtimer.timelist_dict['one_plan'])[np.where(result_list)[0]])/1000,\n",
    "                                        np.mean(np.array(gtimer.timelist_dict['one_plan'])[np.where(result_list)[0]])/1000,\n",
    "                                        np.median(np.array(gtimer.timelist_dict['one_plan'])[np.where(result_list)[0]])/1000,\n",
    "                                        np.max(np.array(gtimer.timelist_dict['one_plan'])[np.where(result_list)[0]])/1000))\n",
    "\n",
    "print(\"plan0 : {} / {} / {} / {}\".format(\n",
    "                                        np.min(np.array(gtimer.timelist_dict['plan0'])[np.where(result_list)[0]])/1000,\n",
    "                                        np.mean(np.array(gtimer.timelist_dict['plan0'])[np.where(result_list)[0]])/1000,\n",
    "                                        np.median(np.array(gtimer.timelist_dict['plan0'])[np.where(result_list)[0]])/1000,\n",
    "                                        np.max(np.array(gtimer.timelist_dict['plan0'])[np.where(result_list)[0]])/1000))\n",
    "print(\"plan1 : {} / {} / {} / {}\".format(\n",
    "                                        np.min(np.array(gtimer.timelist_dict['plan1'])[np.where(result_list)[0]])/1000,\n",
    "                                        np.mean(np.array(gtimer.timelist_dict['plan1'])[np.where(result_list)[0]])/1000,\n",
    "                                        np.median(np.array(gtimer.timelist_dict['plan1'])[np.where(result_list)[0]])/1000,\n",
    "                                        np.max(np.array(gtimer.timelist_dict['plan1'])[np.where(result_list)[0]])/1000))\n",
    "print(\"plan2 : {} / {} / {} / {}\".format(\n",
    "                                        np.min(np.array(gtimer.timelist_dict['plan2'])[np.where(result_list)[0]])/1000,\n",
    "                                        np.mean(np.array(gtimer.timelist_dict['plan2'])[np.where(result_list)[0]])/1000,\n",
    "                                        np.median(np.array(gtimer.timelist_dict['plan2'])[np.where(result_list)[0]])/1000,\n",
    "                                        np.max(np.array(gtimer.timelist_dict['plan2'])[np.where(result_list)[0]])/1000))"
   ]
  },
  {
   "cell_type": "code",
   "execution_count": null,
   "metadata": {},
   "outputs": [],
   "source": []
  },
  {
   "cell_type": "code",
   "execution_count": null,
   "metadata": {},
   "outputs": [],
   "source": []
  },
  {
   "cell_type": "code",
   "execution_count": null,
   "metadata": {},
   "outputs": [],
   "source": []
  },
  {
   "cell_type": "code",
   "execution_count": null,
   "metadata": {},
   "outputs": [],
   "source": []
  },
  {
   "cell_type": "code",
   "execution_count": null,
   "metadata": {},
   "outputs": [],
   "source": []
  }
 ],
 "metadata": {
  "kernelspec": {
   "display_name": "Python 2",
   "language": "python",
   "name": "python2"
  },
  "language_info": {
   "codemirror_mode": {
    "name": "ipython",
    "version": 2
   },
   "file_extension": ".py",
   "mimetype": "text/x-python",
   "name": "python",
   "nbconvert_exporter": "python",
   "pygments_lexer": "ipython2",
   "version": "2.7.17"
  }
 },
 "nbformat": 4,
 "nbformat_minor": 2
}
