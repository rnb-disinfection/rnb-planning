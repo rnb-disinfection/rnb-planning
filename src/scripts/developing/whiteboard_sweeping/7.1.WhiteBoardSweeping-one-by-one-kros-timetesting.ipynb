{
 "cells": [
  {
   "cell_type": "markdown",
   "metadata": {},
   "source": [
    "## Check List 7.1. Demo - White board sweeping\n",
    "* In this demo file, we will use two robots (Indy7, Panda) to sweep a white board, removing obstacles\n",
    "\n",
    "* You need trained model to use ReachChecker\n",
    "  - model/reach_svm/indy7.json\n",
    "  - model/reach_svm/panda.json\n",
    "  - 백업: 개인 이동식 하드디스크, 강준수"
   ]
  },
  {
   "cell_type": "markdown",
   "metadata": {},
   "source": [
    "### Prepare the task scene\n",
    "* Prepare Indy7 and panda, and install sweeping tool to indy. (Check release/Figs/7.1.WhiteBoardSweeping.jpg)\n",
    "* Prepare \"floor\", \"track\", \"box1\", \"box2\" objects as defined in pkg.detector.aruco.marker_config.py\n",
    "* The robots and \"track\" are installed on \"floor\".\n",
    "* \"box1\" and \"box2\" are on \"track\"\n",
    "<img src=\"../Figs/7.1.WhiteBoardSweeping.jpg\" width=\"80%\">"
   ]
  },
  {
   "cell_type": "code",
   "execution_count": null,
   "metadata": {},
   "outputs": [],
   "source": []
  },
  {
   "cell_type": "markdown",
   "metadata": {},
   "source": [
    "## set running directory to project source"
   ]
  },
  {
   "cell_type": "code",
   "execution_count": null,
   "metadata": {},
   "outputs": [],
   "source": [
    "import os\n",
    "os.chdir(os.path.join(os.environ[\"RNB_PLANNING_DIR\"], 'src'))\n",
    "from pkg.utils.code_scraps import add_indy_sweep_tool, \\\n",
    "        use_current_place_point_only, use_current_sub_binders_only, \\\n",
    "        finish_L_shape, set_l_shape_object, ModeSwitcher, double_sweep_motions"
   ]
  },
  {
   "cell_type": "code",
   "execution_count": null,
   "metadata": {},
   "outputs": [],
   "source": []
  },
  {
   "cell_type": "markdown",
   "metadata": {},
   "source": [
    "## init combined robot config"
   ]
  },
  {
   "cell_type": "code",
   "execution_count": null,
   "metadata": {},
   "outputs": [],
   "source": [
    "from pkg.controller.combined_robot import *\n",
    "from pkg.project_config import *\n",
    "\n",
    "crob = CombinedRobot(robots_on_scene=[\n",
    "    RobotConfig(0, RobotType.indy7, ((0.3,-0.4,0), (0,0,np.pi/2)),\n",
    "                INDY_IP),\n",
    "    RobotConfig(1, RobotType.panda, ((-0.3,-0.4,0), (0,0,np.pi/2)),\n",
    "                \"{}/{}\".format(PANDA_REPEATER_IP, PANDA_ROBOT_IP))]\n",
    "              , connection_list=[False, False])"
   ]
  },
  {
   "cell_type": "code",
   "execution_count": null,
   "metadata": {},
   "outputs": [],
   "source": [
    "from pkg.detector.aruco.marker_config import *\n",
    "from pkg.detector.aruco.stereo import ArucoStereo\n",
    "from pkg.detector.camera.realsense import RealSense\n",
    "from pkg.detector.camera.kinect import Kinect\n",
    "aruco_map = get_aruco_map()\n",
    "stereo = ArucoStereo(aruco_map, [Kinect(), RealSense()])\n",
    "stereo.initialize()\n",
    "stereo.calibrate()"
   ]
  },
  {
   "cell_type": "code",
   "execution_count": null,
   "metadata": {},
   "outputs": [],
   "source": []
  },
  {
   "cell_type": "markdown",
   "metadata": {},
   "source": [
    "## create scene builder"
   ]
  },
  {
   "cell_type": "code",
   "execution_count": null,
   "metadata": {},
   "outputs": [],
   "source": [
    "from pkg.geometry.builder.scene_builder import SceneBuilder\n",
    "s_builder = SceneBuilder(stereo)\n",
    "# deprecated: s_builder.reset_reference_coord(ref_name=\"floor\")"
   ]
  },
  {
   "cell_type": "code",
   "execution_count": null,
   "metadata": {},
   "outputs": [],
   "source": []
  },
  {
   "cell_type": "markdown",
   "metadata": {},
   "source": [
    "## detect robot and make geometry scene"
   ]
  },
  {
   "cell_type": "code",
   "execution_count": null,
   "metadata": {},
   "outputs": [],
   "source": [
    "# xyz_rpy_robots = s_builder.detect_items(level_mask=[DetectionLevel.ROBOT])\n",
    "xyz_rpy_robots = {\n",
    "    'indy0': (\n",
    "        [-0.333421528339386, 0.24772846698760986, 0.014830708503723145],\n",
    "        [-0.0022495811513239244, 0.009386494600278107, -1.5798803714430598]),\n",
    "    'panda1': (\n",
    "        [0.5241100788116455, 0.17634934186935425, 0.0176389217376709],\n",
    "        [-0.00026396008394682035, 0.005587422053576676, -1.593019468410638])}"
   ]
  },
  {
   "cell_type": "code",
   "execution_count": null,
   "metadata": {},
   "outputs": [],
   "source": [
    "crob.update_robot_pos_dict(xyz_rpy_robots=xyz_rpy_robots)\n",
    "gscene = s_builder.create_gscene(crob)"
   ]
  },
  {
   "cell_type": "code",
   "execution_count": null,
   "metadata": {},
   "outputs": [],
   "source": []
  },
  {
   "cell_type": "markdown",
   "metadata": {},
   "source": [
    "## init planning pipeline"
   ]
  },
  {
   "cell_type": "code",
   "execution_count": null,
   "metadata": {},
   "outputs": [],
   "source": [
    "from pkg.planning.scene import PlanningScene\n",
    "pscene = PlanningScene(gscene, combined_robot=crob)\n",
    "\n",
    "from pkg.planning.pipeline import PlanningPipeline\n",
    "ppline = PlanningPipeline(pscene)\n",
    "\n",
    "from pkg.ui.ui_broker import *\n",
    "\n",
    "# start UI\n",
    "ui_broker = UIBroker.instance()\n",
    "ui_broker.initialize(ppline, s_builder)\n",
    "ui_broker.start_server()\n",
    "\n",
    "ui_broker.set_tables()"
   ]
  },
  {
   "cell_type": "markdown",
   "metadata": {},
   "source": [
    "```\n",
    "open web ui on <your ip>:8050\n",
    "click geometry items / Handles / Binders to highlight geometry on RVIZ\n",
    "other functions may be buggy.. please report\n",
    "```"
   ]
  },
  {
   "cell_type": "code",
   "execution_count": null,
   "metadata": {},
   "outputs": [],
   "source": []
  },
  {
   "cell_type": "markdown",
   "metadata": {},
   "source": [
    "## add environment"
   ]
  },
  {
   "cell_type": "code",
   "execution_count": null,
   "metadata": {},
   "outputs": [],
   "source": [
    "gtem_dict = s_builder.detect_and_register(level_mask=[DetectionLevel.ENVIRONMENT])\n",
    "\n",
    "# add cam poles\n",
    "ptems = s_builder.add_poles({\"cam0\": s_builder.ref_coord_inv[:3,3], \"cam1\":np.matmul(s_builder.ref_coord_inv, stereo.T_c12)[:3,3]},\n",
    "                            color=(0.6,0.6,0.6,0.0))\n",
    "gtems = s_builder.add_robot_geometries(color=(0,1,0,0.5), display=True, collision=True)\n",
    "gscene.NAME_DICT[\"floor\"].dims = (2,1,0.01)\n",
    "gscene.set_workspace_boundary( -1, 1, -0.5, 0.5, -0.1, 1.05)"
   ]
  },
  {
   "cell_type": "code",
   "execution_count": null,
   "metadata": {},
   "outputs": [],
   "source": []
  },
  {
   "cell_type": "markdown",
   "metadata": {},
   "source": [
    "## add indy tool"
   ]
  },
  {
   "cell_type": "code",
   "execution_count": null,
   "metadata": {},
   "outputs": [],
   "source": [
    "add_indy_sweep_tool(gscene, \"indy0\", face_name=\"brush_face\")"
   ]
  },
  {
   "cell_type": "code",
   "execution_count": null,
   "metadata": {},
   "outputs": [],
   "source": []
  },
  {
   "cell_type": "markdown",
   "metadata": {},
   "source": [
    "## add sweep face"
   ]
  },
  {
   "cell_type": "code",
   "execution_count": null,
   "metadata": {},
   "outputs": [],
   "source": [
    "track = s_builder.detect_and_register(item_names=[\"track\"], level_mask=[DetectionLevel.ENVIRONMENT])[\"track\"]\n",
    "track_face = gscene.copy_from(track, new_name=\"track_face\", collision=False)\n",
    "track_face.dims = (track.dims[0]-0.1, track.dims[1]-0.1, track.dims[2])\n",
    "# track.dims = (track.dims[0]-0.32, track.dims[1]-0.12, track.dims[2])\n",
    "gscene.update_markers_all()"
   ]
  },
  {
   "cell_type": "markdown",
   "metadata": {},
   "source": [
    "## add wp"
   ]
  },
  {
   "cell_type": "code",
   "execution_count": null,
   "metadata": {},
   "outputs": [],
   "source": [
    "TOOL_DIM = [0.06, 0.1]\n",
    "TACK_WIDTH = 0.17\n",
    "TRACK_DIM = track_face.dims\n",
    "TRACK_NUM = np.ceil(np.divide(TRACK_DIM[1]-TOOL_DIM[1], TOOL_DIM[1]+1e-6)).astype(np.int)+1\n",
    "TRACK_STEP = (TRACK_DIM[1]-TOOL_DIM[1])/(TRACK_NUM-1)\n",
    "WP_REF_A = -np.subtract(TRACK_DIM[:2], TOOL_DIM[:2])/2\n",
    "WP_REF_B = np.array([-WP_REF_A[0], WP_REF_A[1]])\n",
    "WP_REF_M = np.array([0, WP_REF_A[1]])\n",
    "TRC_THIC = TRACK_DIM[2]\n",
    "COL_HEIGHT = 0.05\n",
    "track_list = []\n",
    "for i_trc in range(TRACK_NUM):\n",
    "    wp1 = gscene.create_safe(GEOTYPE.BOX, \"wp{}a\".format(i_trc+1), \"base_link\", (TOOL_DIM[0]/2,TOOL_DIM[1]/2,TRC_THIC), \n",
    "                             tuple(WP_REF_A+[0,TRACK_STEP*i_trc])+(0,),rpy=(0,0,0), \n",
    "                             color=(0.8,0.2,0.2,0.2), display=True, fixed=True, collision=False, parent=\"track_face\")\n",
    "    wp2 = gscene.create_safe(GEOTYPE.BOX, \"wp{}b\".format(i_trc+1), \"base_link\", (TOOL_DIM[0]/2,TOOL_DIM[1]/2,TRC_THIC), \n",
    "                             tuple(WP_REF_B+[0,TRACK_STEP*i_trc])+(0,),rpy=(0,0,0), \n",
    "                             color=(0.8,0.2,0.2,0.2), display=True, fixed=True, collision=False, parent=\"track_face\")\n",
    "    face = gscene.create_safe(GEOTYPE.BOX, \"face{}\".format(i_trc+1), \"base_link\", \n",
    "                              (TRACK_DIM[0] - TOOL_DIM[0]/2,TACK_WIDTH,COL_HEIGHT), \n",
    "                             center=tuple(WP_REF_M+[0,TRACK_STEP*i_trc])+(COL_HEIGHT/2,),rpy=(0,0,0), \n",
    "                             color=(0.8,0.2,0.2,0.2), display=True, fixed=True, collision=False, parent=\"track_face\")\n",
    "    track_list.append((wp1, wp2, face))"
   ]
  },
  {
   "cell_type": "code",
   "execution_count": null,
   "metadata": {},
   "outputs": [],
   "source": [
    "gscene.update_markers_all()"
   ]
  },
  {
   "cell_type": "code",
   "execution_count": null,
   "metadata": {},
   "outputs": [],
   "source": []
  },
  {
   "cell_type": "markdown",
   "metadata": {},
   "source": [
    "## add blocking structure on table"
   ]
  },
  {
   "cell_type": "code",
   "execution_count": null,
   "metadata": {},
   "outputs": [],
   "source": [
    "# gscene.create_safe(gtype=GEOTYPE.BOX, name=\"blocker\", link_name=\"base_link\",\n",
    "#                             center=(-0.27,-0.2,0.15), dims=(0.1,0.3, 0.4), rpy=(0,0,0), color=(0.0,0.8,0.0,0.5),\n",
    "#                             collision=True, fixed=True)"
   ]
  },
  {
   "cell_type": "code",
   "execution_count": null,
   "metadata": {},
   "outputs": [],
   "source": []
  },
  {
   "cell_type": "markdown",
   "metadata": {},
   "source": [
    "## add box"
   ]
  },
  {
   "cell_type": "code",
   "execution_count": null,
   "metadata": {},
   "outputs": [],
   "source": [
    "gtem_dict = s_builder.detect_and_register(level_mask=[DetectionLevel.MOVABLE])"
   ]
  },
  {
   "cell_type": "code",
   "execution_count": null,
   "metadata": {},
   "outputs": [],
   "source": [
    "gscene.update_markers_all()"
   ]
  },
  {
   "cell_type": "code",
   "execution_count": null,
   "metadata": {},
   "outputs": [],
   "source": []
  },
  {
   "cell_type": "markdown",
   "metadata": {},
   "source": [
    "## Register binders"
   ]
  },
  {
   "cell_type": "code",
   "execution_count": null,
   "metadata": {},
   "outputs": [],
   "source": [
    "from pkg.planning.constraint.constraint_actor import Gripper2Tool, PlacePlane, SweepFramer, FixtureSlot"
   ]
  },
  {
   "cell_type": "code",
   "execution_count": null,
   "metadata": {},
   "outputs": [],
   "source": [
    "gscene.create_safe(gtype=GEOTYPE.SPHERE, name=\"grip1\", link_name=\"panda1_hand\", \n",
    "                 dims=(0.01,)*3, center=(0,0,0.112), rpy=(-np.pi/2,0,0), color=(1,0,0,1), display=True, collision=False, fixed=True)\n",
    "\n",
    "pscene.create_binder(bname=\"grip1\", gname=\"grip1\", _type=Gripper2Tool, point=(0,0,0), rpy=(0,0,0))\n",
    "pscene.create_binder(bname=\"brush_face\", gname=\"brush_face\", _type=SweepFramer, point=(0,0,gscene.NAME_DICT['brush_face'].dims[2]/2), \n",
    "                     rpy=(0,np.pi,0))\n",
    "pscene.create_binder(bname=\"track_face\", gname=\"track_face\", _type=PlacePlane)"
   ]
  },
  {
   "cell_type": "code",
   "execution_count": null,
   "metadata": {},
   "outputs": [],
   "source": []
  },
  {
   "cell_type": "markdown",
   "metadata": {},
   "source": [
    "## add objects"
   ]
  },
  {
   "cell_type": "code",
   "execution_count": null,
   "metadata": {},
   "outputs": [],
   "source": [
    "from pkg.planning.constraint.constraint_subject import \\\n",
    "        CustomObject, Grasp2Point, PlacePoint, SweepFrame, SweepTask, BoxObject, FixturePoint, AbstractObject"
   ]
  },
  {
   "cell_type": "code",
   "execution_count": null,
   "metadata": {},
   "outputs": [],
   "source": [
    "for gname in sorted(gtem_dict.keys()):\n",
    "    pscene.create_subject(oname=gname, gname=gname, _type=BoxObject, hexahedral=True)\n",
    "# box3= pscene.create_subject(oname=\"box3\", gname=\"box3\", _type=BoxObject, hexahedral=True)"
   ]
  },
  {
   "cell_type": "code",
   "execution_count": null,
   "metadata": {},
   "outputs": [],
   "source": [
    "from pkg.planning.constraint.constraint_common import MotionConstraint\n",
    "from pkg.planning.constraint.constraint_subject import AbstractTask\n",
    "from pkg.planning.constraint.constraint_subject import SweepLineTask"
   ]
  },
  {
   "cell_type": "code",
   "execution_count": null,
   "metadata": {},
   "outputs": [],
   "source": [
    "# sweep_list = []\n",
    "# for i_t, track_tem in enumerate(track_list):\n",
    "#     wp1, wp2, face = track_tem\n",
    "#     sweep_ = pscene.create_subject(oname=\"sweep{}\".format(i_t+1), gname=\"track_face\", _type=SweepLineTask, \n",
    "#                                    action_points_dict = {wp1.name: SweepFrame(wp1.name, wp1, [0,0,0.005], [0,0,0]),\n",
    "#                                                        wp2.name: SweepFrame(wp2.name, wp2, [0,0,0.005], [0,0,0])}, \n",
    "#                                    clearance=[face])\n",
    "#     sweep_list.append(sweep_)"
   ]
  },
  {
   "cell_type": "code",
   "execution_count": null,
   "metadata": {},
   "outputs": [],
   "source": []
  },
  {
   "cell_type": "markdown",
   "metadata": {},
   "source": [
    "### planners"
   ]
  },
  {
   "cell_type": "code",
   "execution_count": null,
   "metadata": {
    "scrolled": false
   },
   "outputs": [],
   "source": [
    "from pkg.planning.motion.moveit.moveit_planner import MoveitPlanner\n",
    "mplan = MoveitPlanner(pscene)\n",
    "mplan.update_gscene()\n",
    "from pkg.planning.task.rrt import TaskRRT\n",
    "tplan = TaskRRT(pscene)\n",
    "tplan.prepare()\n",
    "ppline.set_motion_planner(mplan)\n",
    "ppline.set_task_planner(tplan)"
   ]
  },
  {
   "cell_type": "code",
   "execution_count": null,
   "metadata": {},
   "outputs": [],
   "source": []
  },
  {
   "cell_type": "markdown",
   "metadata": {},
   "source": [
    "## motion filters"
   ]
  },
  {
   "cell_type": "code",
   "execution_count": null,
   "metadata": {},
   "outputs": [],
   "source": [
    "from pkg.planning.filtering.grasp_filter import GraspChecker\n",
    "from pkg.planning.filtering.reach_filter import ReachChecker\n",
    "from pkg.planning.filtering.latticized_filter import LatticedChecker\n",
    "from pkg.planning.filtering.task_clearance_filter import TaskClearanceChecker\n",
    "\n",
    "gcheck = GraspChecker(pscene)\n",
    "rcheck = ReachChecker(pscene)\n",
    "tcheck = TaskClearanceChecker(pscene, gcheck)\n",
    "# lcheck = LatticedChecker(pscene, gcheck)\n",
    "# checkers_all.append(lcheck)"
   ]
  },
  {
   "cell_type": "code",
   "execution_count": null,
   "metadata": {},
   "outputs": [],
   "source": [
    "checkers_all = [tcheck, rcheck, gcheck]\n",
    "mplan.motion_filters = checkers_all"
   ]
  },
  {
   "cell_type": "code",
   "execution_count": null,
   "metadata": {},
   "outputs": [],
   "source": [
    "gscene.show_pose(crob.home_pose)"
   ]
  },
  {
   "cell_type": "code",
   "execution_count": null,
   "metadata": {},
   "outputs": [],
   "source": []
  },
  {
   "cell_type": "markdown",
   "metadata": {},
   "source": [
    "## Set initial condition"
   ]
  },
  {
   "cell_type": "code",
   "execution_count": null,
   "metadata": {},
   "outputs": [],
   "source": [
    "from pkg.planning.constraint.constraint_common \\\n",
    "            import sample_redundancy, combine_redundancy\n",
    "gtimer = GlobalTimer.instance()\n",
    "initial_state = pscene.initialize_state(crob.home_pose)\n",
    "print(initial_state.node)\n",
    "\n",
    "# remove place points except for the current one\n",
    "use_current_place_point_only(pscene, initial_state)"
   ]
  },
  {
   "cell_type": "code",
   "execution_count": null,
   "metadata": {},
   "outputs": [],
   "source": [
    "pscene.subject_name_list"
   ]
  },
  {
   "cell_type": "code",
   "execution_count": null,
   "metadata": {},
   "outputs": [],
   "source": []
  },
  {
   "cell_type": "code",
   "execution_count": null,
   "metadata": {},
   "outputs": [],
   "source": [
    "N_repeat = 10"
   ]
  },
  {
   "cell_type": "markdown",
   "metadata": {},
   "source": [
    "## Plan & show"
   ]
  },
  {
   "cell_type": "code",
   "execution_count": null,
   "metadata": {},
   "outputs": [],
   "source": [
    "from pkg.utils.code_scraps import clear_tasks, set_single_sweep_line, calc_schedule_time, disperse_on\n",
    "from pkg.planning.constraint.constraint_common import get_binding_margins, fit_binding\n",
    "from pkg.utils.traj_utils import simplify_schedule, mix_schedule\n",
    "mplan.reset_log(False)\n",
    "gtimer.reset()"
   ]
  },
  {
   "cell_type": "code",
   "execution_count": null,
   "metadata": {},
   "outputs": [],
   "source": []
  },
  {
   "cell_type": "markdown",
   "metadata": {},
   "source": [
    "# filters on"
   ]
  },
  {
   "cell_type": "code",
   "execution_count": null,
   "metadata": {},
   "outputs": [],
   "source": [
    "checkers_all = [tcheck, rcheck, gcheck]\n",
    "mplan.motion_filters = checkers_all"
   ]
  },
  {
   "cell_type": "code",
   "execution_count": null,
   "metadata": {},
   "outputs": [],
   "source": []
  },
  {
   "cell_type": "markdown",
   "metadata": {},
   "source": [
    "## define obstacles - 3"
   ]
  },
  {
   "cell_type": "code",
   "execution_count": null,
   "metadata": {},
   "outputs": [],
   "source": [
    "time_full_list_3_O = []\n",
    "gscene.clear_non_fixed()\n",
    "obstacles = [\n",
    "    gscene.create_safe(GEOTYPE.BOX, \"obstacle_a_1\", \"base_link\", (0.05,0.05,0.05), (0.5,0.4,0.031), \n",
    "                       rpy=(0,0,0), color=(0.8,0.2,0.2,1), display=True, fixed=False, collision=True),\n",
    "    gscene.create_safe(GEOTYPE.BOX, \"obstacle_a_2\", \"base_link\", (0.05,0.05,0.05), (0.5,0.4,0.031), \n",
    "                       rpy=(0,0,0), color=(0.2,0.8,0.2,1), display=True, fixed=False, collision=True),\n",
    "    gscene.create_safe(GEOTYPE.BOX, \"obstacle_b_1\", \"base_link\", (0.10,0.05,0.05), (0.5,0.4,0.031), \n",
    "                       rpy=(0,0,0), color=(0.2,0.2,0.8,1), display=True, fixed=False, collision=True)\n",
    "]\n",
    "obstacle_names = [obs.name for obs in obstacles]\n",
    "gtem_dict = disperse_on(pscene, gcheck, track_face, obstacle_names)"
   ]
  },
  {
   "cell_type": "code",
   "execution_count": null,
   "metadata": {
    "scrolled": true
   },
   "outputs": [],
   "source": [
    "for i_repeat in range(N_repeat):\n",
    "    mplan.reset_log(False)\n",
    "    gtimer.reset(1, timeunit=\"s\")\n",
    "\n",
    "    for sname in pscene.subject_name_list:\n",
    "        if isinstance(pscene.subject_dict[sname], AbstractObject):\n",
    "            pscene.remove_subject(sname)\n",
    "\n",
    "        ## disperse obstacles\n",
    "        gtem_dict = disperse_on(pscene, gcheck, track_face, obstacle_names)\n",
    "\n",
    "        ## create boxes\n",
    "        box_list =  [] \n",
    "        for gname in sorted(gtem_dict.keys()):\n",
    "            box_new = pscene.create_subject(oname=gname, gname=gname, _type=BoxObject, hexahedral=True)\n",
    "            box_new.register_binders(pscene, PlacePlane)\n",
    "            box_list.append(box_new)\n",
    "\n",
    "    with gtimer.block(\"scene_init\"):\n",
    "        clear_tasks(pscene)\n",
    "        initial_state = pscene.initialize_state(crob.home_pose, force_fit_binding=True)\n",
    "        gscene.update_markers_all()\n",
    "\n",
    "        # remove place points and sub-binders except for the current ones\n",
    "        use_current_place_point_only(pscene, initial_state)\n",
    "        use_current_sub_binders_only(pscene, initial_state)\n",
    "\n",
    "    print(initial_state.node)\n",
    "\n",
    "    gtimer.tic(\"firstmove\")\n",
    "    obj_num = len(gtem_dict)\n",
    "    sweep_num = len(track_list)\n",
    "    current_state = initial_state\n",
    "    t_exe = None\n",
    "    dt_step = 2e-2\n",
    "    snode_schedule_all = []\n",
    "    for sweep_idx in range(3):\n",
    "        # set current track\n",
    "        set_single_sweep_line(pscene, sweep_idx, *track_list[sweep_idx])\n",
    "        # ban current putting on current track's clearance area\n",
    "        gcheck.put_banned = [track_list[sweep_idx][2]]\n",
    "\n",
    "        tplan.prepare(random_homing=True)\n",
    "        mplan.update_gscene()\n",
    "        from_state = pscene.initialize_state(current_state.Q, force_fit_binding=True)\n",
    "        sweep_goal = (2,)\n",
    "    #     sweep_goal = tuple([int(i_s<=sweep_idx)*2 for i_s in range(2)])+(0,)\n",
    "        goal_nodes = [(\"track_face\",)*obj_num+sweep_goal]\n",
    "        if sweep_idx < sweep_num-1:\n",
    "            for i_s in range(obj_num):\n",
    "                obj_goal = [\"track_face\"]*obj_num\n",
    "                obj_goal[i_s] = \"grip1\"\n",
    "                goal_nodes += [tuple(obj_goal)+sweep_goal]\n",
    "        gtimer.tic(\"plan{}\".format(sweep_idx))\n",
    "        ppline.search(from_state, goal_nodes, verbose=False, display=False, dt_vis=0.01, \n",
    "                      timeout_loop=300, multiprocess=False, timeout=1, timeout_constrained=2, add_homing=True, post_optimize=False)\n",
    "        gtimer.toc(\"plan{}\".format(sweep_idx))\n",
    "        schedules = ppline.tplan.find_schedules(False)\n",
    "        schedules_sorted = ppline.tplan.sort_schedule(schedules)\n",
    "        snode_schedule = ppline.tplan.idxSchedule2SnodeScedule(schedules_sorted[0])\n",
    "        snode_schedule_ori = snode_schedule\n",
    "        snode_schedule_simple = simplify_schedule(pscene, snode_schedule)\n",
    "        snode_schedule_safe = calculate_safe_schedule(pscene, snode_schedule_simple, 0.5, 1, dt_step=dt_step)\n",
    "    #     double_sweep_motions(snode_schedule_safe)\n",
    "        snode_schedule = snode_schedule_safe # no mix\n",
    "    #     snode_schedule = mix_schedule(mplan, snode_schedule_safe) # mix\n",
    "        current_state = snode_schedule[-1].state\n",
    "        if t_exe:\n",
    "            t_exe.join()\n",
    "        else:\n",
    "            if len(snode_schedule_all)==0:\n",
    "                gtimer.toc(\"firstmove\")\n",
    "        snode_schedule_all.append(snode_schedule)\n",
    "    #     ppline.play_schedule(snode_schedule, period=0.001)\n",
    "    #     t_exe = Thread(target=ppline.play_schedule, args = (snode_schedule,), kwargs=dict( period=0.01))\n",
    "    #     t_exe.start()\n",
    "    # t_exe.join()\n",
    "    time_full = gtimer.time_dict[\"plan0\"] + gtimer.time_dict[\"plan1\"] + gtimer.time_dict[\"plan2\"]\n",
    "    time_full_list_3_O.append(time_full)\n",
    "    print(\"=====================================================\")\n",
    "    print(\"================= LOOP COUNT: {} / {} ==================\".format(i_repeat, N_repeat))\n",
    "    print(\"=====================================================\")"
   ]
  },
  {
   "cell_type": "code",
   "execution_count": null,
   "metadata": {},
   "outputs": [],
   "source": [
    "np.round((np.min(time_full_list_3_O), np.mean(time_full_list_3_O), np.max(time_full_list_3_O)), 2)"
   ]
  },
  {
   "cell_type": "code",
   "execution_count": null,
   "metadata": {},
   "outputs": [],
   "source": []
  },
  {
   "cell_type": "markdown",
   "metadata": {},
   "source": [
    "## define obstacles - 2"
   ]
  },
  {
   "cell_type": "code",
   "execution_count": null,
   "metadata": {},
   "outputs": [],
   "source": [
    "time_full_list_2_O = []\n",
    "gscene.clear_non_fixed()\n",
    "obstacles = [\n",
    "    gscene.create_safe(GEOTYPE.BOX, \"obstacle_a_1\", \"base_link\", (0.05,0.05,0.05), (0.5,0.4,0.031), \n",
    "                       rpy=(0,0,0), color=(0.8,0.2,0.2,1), display=True, fixed=False, collision=True),\n",
    "    gscene.create_safe(GEOTYPE.BOX, \"obstacle_b_1\", \"base_link\", (0.10,0.05,0.05), (0.5,0.4,0.031), \n",
    "                       rpy=(0,0,0), color=(0.2,0.2,0.8,1), display=True, fixed=False, collision=True)\n",
    "]\n",
    "obstacle_names = [obs.name for obs in obstacles]\n",
    "gtem_dict = disperse_on(pscene, gcheck, track_face, obstacle_names)"
   ]
  },
  {
   "cell_type": "code",
   "execution_count": null,
   "metadata": {
    "scrolled": true
   },
   "outputs": [],
   "source": [
    "for i_repeat in range(N_repeat):\n",
    "    mplan.reset_log(False)\n",
    "    gtimer.reset(1, timeunit=\"s\")\n",
    "\n",
    "    for sname in pscene.subject_name_list:\n",
    "        if isinstance(pscene.subject_dict[sname], AbstractObject):\n",
    "            pscene.remove_subject(sname)\n",
    "\n",
    "        ## disperse obstacles\n",
    "        gtem_dict = disperse_on(pscene, gcheck, track_face, obstacle_names)\n",
    "\n",
    "        ## create boxes\n",
    "        box_list =  [] \n",
    "        for gname in sorted(gtem_dict.keys()):\n",
    "            box_new = pscene.create_subject(oname=gname, gname=gname, _type=BoxObject, hexahedral=True)\n",
    "            box_new.register_binders(pscene, PlacePlane)\n",
    "            box_list.append(box_new)\n",
    "\n",
    "    with gtimer.block(\"scene_init\"):\n",
    "        clear_tasks(pscene)\n",
    "        initial_state = pscene.initialize_state(crob.home_pose, force_fit_binding=True)\n",
    "        gscene.update_markers_all()\n",
    "\n",
    "        # remove place points and sub-binders except for the current ones\n",
    "        use_current_place_point_only(pscene, initial_state)\n",
    "        use_current_sub_binders_only(pscene, initial_state)\n",
    "\n",
    "    print(initial_state.node)\n",
    "\n",
    "    gtimer.tic(\"firstmove\")\n",
    "    obj_num = len(gtem_dict)\n",
    "    sweep_num = len(track_list)\n",
    "    current_state = initial_state\n",
    "    t_exe = None\n",
    "    dt_step = 2e-2\n",
    "    snode_schedule_all = []\n",
    "    for sweep_idx in range(3):\n",
    "        # set current track\n",
    "        set_single_sweep_line(pscene, sweep_idx, *track_list[sweep_idx])\n",
    "        # ban current putting on current track's clearance area\n",
    "        gcheck.put_banned = [track_list[sweep_idx][2]]\n",
    "\n",
    "        tplan.prepare(random_homing=True)\n",
    "        mplan.update_gscene()\n",
    "        from_state = pscene.initialize_state(current_state.Q, force_fit_binding=True)\n",
    "        sweep_goal = (2,)\n",
    "    #     sweep_goal = tuple([int(i_s<=sweep_idx)*2 for i_s in range(2)])+(0,)\n",
    "        goal_nodes = [(\"track_face\",)*obj_num+sweep_goal]\n",
    "        if sweep_idx < sweep_num-1:\n",
    "            for i_s in range(obj_num):\n",
    "                obj_goal = [\"track_face\"]*obj_num\n",
    "                obj_goal[i_s] = \"grip1\"\n",
    "                goal_nodes += [tuple(obj_goal)+sweep_goal]\n",
    "        gtimer.tic(\"plan{}\".format(sweep_idx))\n",
    "        ppline.search(from_state, goal_nodes, verbose=False, display=False, dt_vis=0.01, \n",
    "                      timeout_loop=300, multiprocess=False, timeout=1, timeout_constrained=2, add_homing=True, post_optimize=False)\n",
    "        gtimer.toc(\"plan{}\".format(sweep_idx))\n",
    "        schedules = ppline.tplan.find_schedules(False)\n",
    "        schedules_sorted = ppline.tplan.sort_schedule(schedules)\n",
    "        snode_schedule = ppline.tplan.idxSchedule2SnodeScedule(schedules_sorted[0])\n",
    "        snode_schedule_ori = snode_schedule\n",
    "        snode_schedule_simple = simplify_schedule(pscene, snode_schedule)\n",
    "        snode_schedule_safe = calculate_safe_schedule(pscene, snode_schedule_simple, 0.5, 1, dt_step=dt_step)\n",
    "    #     double_sweep_motions(snode_schedule_safe)\n",
    "        snode_schedule = snode_schedule_safe # no mix\n",
    "    #     snode_schedule = mix_schedule(mplan, snode_schedule_safe) # mix\n",
    "        current_state = snode_schedule[-1].state\n",
    "        if t_exe:\n",
    "            t_exe.join()\n",
    "        else:\n",
    "            if len(snode_schedule_all)==0:\n",
    "                gtimer.toc(\"firstmove\")\n",
    "        snode_schedule_all.append(snode_schedule)\n",
    "    #     ppline.play_schedule(snode_schedule, period=0.001)\n",
    "    #     t_exe = Thread(target=ppline.play_schedule, args = (snode_schedule,), kwargs=dict( period=0.01))\n",
    "    #     t_exe.start()\n",
    "    # t_exe.join()\n",
    "    time_full = gtimer.time_dict[\"plan0\"] + gtimer.time_dict[\"plan1\"] + gtimer.time_dict[\"plan2\"]\n",
    "    time_full_list_2_O.append(time_full)\n",
    "    print(\"=====================================================\")\n",
    "    print(\"================= LOOP COUNT: {} / {} ==================\".format(i_repeat, N_repeat))\n",
    "    print(\"=====================================================\")"
   ]
  },
  {
   "cell_type": "code",
   "execution_count": null,
   "metadata": {},
   "outputs": [],
   "source": [
    "np.round((np.min(time_full_list_2_O), np.mean(time_full_list_2_O), np.max(time_full_list_2_O)), 2)"
   ]
  },
  {
   "cell_type": "code",
   "execution_count": null,
   "metadata": {},
   "outputs": [],
   "source": []
  },
  {
   "cell_type": "markdown",
   "metadata": {},
   "source": [
    "## define obstacles - 1"
   ]
  },
  {
   "cell_type": "code",
   "execution_count": null,
   "metadata": {},
   "outputs": [],
   "source": [
    "time_full_list_1_O = []\n",
    "gscene.clear_non_fixed()\n",
    "obstacles = [\n",
    "    gscene.create_safe(GEOTYPE.BOX, \"obstacle_a_1\", \"base_link\", (0.05,0.05,0.05), (0.5,0.4,0.031), \n",
    "                       rpy=(0,0,0), color=(0.8,0.2,0.2,1), display=True, fixed=False, collision=True)\n",
    "]\n",
    "obstacle_names = [obs.name for obs in obstacles]\n",
    "gtem_dict = disperse_on(pscene, gcheck, track_face, obstacle_names)"
   ]
  },
  {
   "cell_type": "code",
   "execution_count": null,
   "metadata": {
    "scrolled": true
   },
   "outputs": [],
   "source": [
    "for i_repeat in range(N_repeat):\n",
    "    mplan.reset_log(False)\n",
    "    gtimer.reset(1, timeunit=\"s\")\n",
    "\n",
    "    for sname in pscene.subject_name_list:\n",
    "        if isinstance(pscene.subject_dict[sname], AbstractObject):\n",
    "            pscene.remove_subject(sname)\n",
    "\n",
    "        ## disperse obstacles\n",
    "        gtem_dict = disperse_on(pscene, gcheck, track_face, obstacle_names)\n",
    "\n",
    "        ## create boxes\n",
    "        box_list =  [] \n",
    "        for gname in sorted(gtem_dict.keys()):\n",
    "            box_new = pscene.create_subject(oname=gname, gname=gname, _type=BoxObject, hexahedral=True)\n",
    "            box_new.register_binders(pscene, PlacePlane)\n",
    "            box_list.append(box_new)\n",
    "\n",
    "    with gtimer.block(\"scene_init\"):\n",
    "        clear_tasks(pscene)\n",
    "        initial_state = pscene.initialize_state(crob.home_pose, force_fit_binding=True)\n",
    "        gscene.update_markers_all()\n",
    "\n",
    "        # remove place points and sub-binders except for the current ones\n",
    "        use_current_place_point_only(pscene, initial_state)\n",
    "        use_current_sub_binders_only(pscene, initial_state)\n",
    "\n",
    "    print(initial_state.node)\n",
    "\n",
    "    gtimer.tic(\"firstmove\")\n",
    "    obj_num = len(gtem_dict)\n",
    "    sweep_num = len(track_list)\n",
    "    current_state = initial_state\n",
    "    t_exe = None\n",
    "    dt_step = 2e-2\n",
    "    snode_schedule_all = []\n",
    "    for sweep_idx in range(3):\n",
    "        # set current track\n",
    "        set_single_sweep_line(pscene, sweep_idx, *track_list[sweep_idx])\n",
    "        # ban current putting on current track's clearance area\n",
    "        gcheck.put_banned = [track_list[sweep_idx][2]]\n",
    "\n",
    "        tplan.prepare(random_homing=True)\n",
    "        mplan.update_gscene()\n",
    "        from_state = pscene.initialize_state(current_state.Q, force_fit_binding=True)\n",
    "        sweep_goal = (2,)\n",
    "    #     sweep_goal = tuple([int(i_s<=sweep_idx)*2 for i_s in range(2)])+(0,)\n",
    "        goal_nodes = [(\"track_face\",)*obj_num+sweep_goal]\n",
    "        if sweep_idx < sweep_num-1:\n",
    "            for i_s in range(obj_num):\n",
    "                obj_goal = [\"track_face\"]*obj_num\n",
    "                obj_goal[i_s] = \"grip1\"\n",
    "                goal_nodes += [tuple(obj_goal)+sweep_goal]\n",
    "        gtimer.tic(\"plan{}\".format(sweep_idx))\n",
    "        ppline.search(from_state, goal_nodes, verbose=False, display=False, dt_vis=0.01, \n",
    "                      timeout_loop=300, multiprocess=False, timeout=1, timeout_constrained=2, add_homing=True, post_optimize=False)\n",
    "        gtimer.toc(\"plan{}\".format(sweep_idx))\n",
    "        schedules = ppline.tplan.find_schedules(False)\n",
    "        schedules_sorted = ppline.tplan.sort_schedule(schedules)\n",
    "        snode_schedule = ppline.tplan.idxSchedule2SnodeScedule(schedules_sorted[0])\n",
    "        snode_schedule_ori = snode_schedule\n",
    "        snode_schedule_simple = simplify_schedule(pscene, snode_schedule)\n",
    "        snode_schedule_safe = calculate_safe_schedule(pscene, snode_schedule_simple, 0.5, 1, dt_step=dt_step)\n",
    "    #     double_sweep_motions(snode_schedule_safe)\n",
    "        snode_schedule = snode_schedule_safe # no mix\n",
    "    #     snode_schedule = mix_schedule(mplan, snode_schedule_safe) # mix\n",
    "        current_state = snode_schedule[-1].state\n",
    "        if t_exe:\n",
    "            t_exe.join()\n",
    "        else:\n",
    "            if len(snode_schedule_all)==0:\n",
    "                gtimer.toc(\"firstmove\")\n",
    "        snode_schedule_all.append(snode_schedule)\n",
    "    #     ppline.play_schedule(snode_schedule, period=0.001)\n",
    "    #     t_exe = Thread(target=ppline.play_schedule, args = (snode_schedule,), kwargs=dict( period=0.01))\n",
    "    #     t_exe.start()\n",
    "    # t_exe.join()\n",
    "    time_full = gtimer.time_dict[\"plan0\"] + gtimer.time_dict[\"plan1\"] + gtimer.time_dict[\"plan2\"]\n",
    "    time_full_list_1_O.append(time_full)\n",
    "    print(\"=====================================================\")\n",
    "    print(\"================= LOOP COUNT: {} / {} ==================\".format(i_repeat, N_repeat))\n",
    "    print(\"=====================================================\")"
   ]
  },
  {
   "cell_type": "code",
   "execution_count": null,
   "metadata": {},
   "outputs": [],
   "source": [
    "np.round((np.min(time_full_list_1_O), np.mean(time_full_list_1_O), np.max(time_full_list_1_O)), 2)"
   ]
  },
  {
   "cell_type": "code",
   "execution_count": null,
   "metadata": {},
   "outputs": [],
   "source": []
  },
  {
   "cell_type": "markdown",
   "metadata": {},
   "source": [
    "## define obstacles - 0"
   ]
  },
  {
   "cell_type": "code",
   "execution_count": null,
   "metadata": {},
   "outputs": [],
   "source": [
    "time_full_list_0_O = []\n",
    "gscene.clear_non_fixed()\n",
    "obstacles = []\n",
    "obstacle_names = [obs.name for obs in obstacles]\n",
    "gtem_dict = disperse_on(pscene, gcheck, track_face, obstacle_names)"
   ]
  },
  {
   "cell_type": "code",
   "execution_count": null,
   "metadata": {
    "scrolled": true
   },
   "outputs": [],
   "source": [
    "for i_repeat in range(N_repeat):\n",
    "    mplan.reset_log(False)\n",
    "    gtimer.reset(1, timeunit=\"s\")\n",
    "\n",
    "    for sname in pscene.subject_name_list:\n",
    "        if isinstance(pscene.subject_dict[sname], AbstractObject):\n",
    "            pscene.remove_subject(sname)\n",
    "\n",
    "        ## disperse obstacles\n",
    "        gtem_dict = disperse_on(pscene, gcheck, track_face, obstacle_names)\n",
    "\n",
    "        ## create boxes\n",
    "        box_list =  [] \n",
    "        for gname in sorted(gtem_dict.keys()):\n",
    "            box_new = pscene.create_subject(oname=gname, gname=gname, _type=BoxObject, hexahedral=True)\n",
    "            box_new.register_binders(pscene, PlacePlane)\n",
    "            box_list.append(box_new)\n",
    "\n",
    "    with gtimer.block(\"scene_init\"):\n",
    "        clear_tasks(pscene)\n",
    "        initial_state = pscene.initialize_state(crob.home_pose, force_fit_binding=True)\n",
    "        gscene.update_markers_all()\n",
    "\n",
    "        # remove place points and sub-binders except for the current ones\n",
    "        use_current_place_point_only(pscene, initial_state)\n",
    "        use_current_sub_binders_only(pscene, initial_state)\n",
    "\n",
    "    print(initial_state.node)\n",
    "\n",
    "    gtimer.tic(\"firstmove\")\n",
    "    obj_num = len(gtem_dict)\n",
    "    sweep_num = len(track_list)\n",
    "    current_state = initial_state\n",
    "    t_exe = None\n",
    "    dt_step = 2e-2\n",
    "    snode_schedule_all = []\n",
    "    for sweep_idx in range(3):\n",
    "        # set current track\n",
    "        set_single_sweep_line(pscene, sweep_idx, *track_list[sweep_idx])\n",
    "        # ban current putting on current track's clearance area\n",
    "        gcheck.put_banned = [track_list[sweep_idx][2]]\n",
    "\n",
    "        tplan.prepare(random_homing=True)\n",
    "        mplan.update_gscene()\n",
    "        from_state = pscene.initialize_state(current_state.Q, force_fit_binding=True)\n",
    "        sweep_goal = (2,)\n",
    "    #     sweep_goal = tuple([int(i_s<=sweep_idx)*2 for i_s in range(2)])+(0,)\n",
    "        goal_nodes = [(\"track_face\",)*obj_num+sweep_goal]\n",
    "        if sweep_idx < sweep_num-1:\n",
    "            for i_s in range(obj_num):\n",
    "                obj_goal = [\"track_face\"]*obj_num\n",
    "                obj_goal[i_s] = \"grip1\"\n",
    "                goal_nodes += [tuple(obj_goal)+sweep_goal]\n",
    "        gtimer.tic(\"plan{}\".format(sweep_idx))\n",
    "        ppline.search(from_state, goal_nodes, verbose=False, display=False, dt_vis=0.01, \n",
    "                      timeout_loop=300, multiprocess=False, timeout=1, timeout_constrained=2, add_homing=True, post_optimize=False)\n",
    "        gtimer.toc(\"plan{}\".format(sweep_idx))\n",
    "        schedules = ppline.tplan.find_schedules(False)\n",
    "        schedules_sorted = ppline.tplan.sort_schedule(schedules)\n",
    "        snode_schedule = ppline.tplan.idxSchedule2SnodeScedule(schedules_sorted[0])\n",
    "        snode_schedule_ori = snode_schedule\n",
    "        snode_schedule_simple = simplify_schedule(pscene, snode_schedule)\n",
    "        snode_schedule_safe = calculate_safe_schedule(pscene, snode_schedule_simple, 0.5, 1, dt_step=dt_step)\n",
    "    #     double_sweep_motions(snode_schedule_safe)\n",
    "        snode_schedule = snode_schedule_safe # no mix\n",
    "    #     snode_schedule = mix_schedule(mplan, snode_schedule_safe) # mix\n",
    "        current_state = snode_schedule[-1].state\n",
    "        if t_exe:\n",
    "            t_exe.join()\n",
    "        else:\n",
    "            if len(snode_schedule_all)==0:\n",
    "                gtimer.toc(\"firstmove\")\n",
    "        snode_schedule_all.append(snode_schedule)\n",
    "    #     ppline.play_schedule(snode_schedule, period=0.001)\n",
    "    #     t_exe = Thread(target=ppline.play_schedule, args = (snode_schedule,), kwargs=dict( period=0.01))\n",
    "    #     t_exe.start()\n",
    "    # t_exe.join()\n",
    "    time_full = gtimer.time_dict[\"plan0\"] + gtimer.time_dict[\"plan1\"] + gtimer.time_dict[\"plan2\"]\n",
    "    time_full_list_0_O.append(time_full)\n",
    "    print(\"=====================================================\")\n",
    "    print(\"================= LOOP COUNT: {} / {} ==================\".format(i_repeat, N_repeat))\n",
    "    print(\"=====================================================\")"
   ]
  },
  {
   "cell_type": "code",
   "execution_count": null,
   "metadata": {},
   "outputs": [],
   "source": [
    "np.round((np.min(time_full_list_0_O), np.mean(time_full_list_0_O), np.max(time_full_list_0_O)), 2)"
   ]
  },
  {
   "cell_type": "code",
   "execution_count": null,
   "metadata": {},
   "outputs": [],
   "source": []
  },
  {
   "cell_type": "code",
   "execution_count": null,
   "metadata": {},
   "outputs": [],
   "source": []
  },
  {
   "cell_type": "code",
   "execution_count": null,
   "metadata": {},
   "outputs": [],
   "source": []
  },
  {
   "cell_type": "markdown",
   "metadata": {},
   "source": [
    "# Filter off"
   ]
  },
  {
   "cell_type": "code",
   "execution_count": null,
   "metadata": {},
   "outputs": [],
   "source": [
    "# checkers_all = [tcheck, rcheck, gcheck]\n",
    "checkers_all = []\n",
    "mplan.motion_filters = checkers_all"
   ]
  },
  {
   "cell_type": "markdown",
   "metadata": {},
   "source": [
    "## define obstacles - 0"
   ]
  },
  {
   "cell_type": "code",
   "execution_count": null,
   "metadata": {},
   "outputs": [],
   "source": [
    "time_full_list_0_X = []\n",
    "gscene.clear_non_fixed()\n",
    "obstacles = []\n",
    "obstacle_names = [obs.name for obs in obstacles]\n",
    "gtem_dict = disperse_on(pscene, gcheck, track_face, obstacle_names)"
   ]
  },
  {
   "cell_type": "code",
   "execution_count": null,
   "metadata": {
    "scrolled": true
   },
   "outputs": [],
   "source": [
    "for i_repeat in range(N_repeat):\n",
    "    mplan.reset_log(False)\n",
    "    gtimer.reset(1, timeunit=\"s\")\n",
    "\n",
    "    for sname in pscene.subject_name_list:\n",
    "        if isinstance(pscene.subject_dict[sname], AbstractObject):\n",
    "            pscene.remove_subject(sname)\n",
    "\n",
    "        ## disperse obstacles\n",
    "        gtem_dict = disperse_on(pscene, gcheck, track_face, obstacle_names)\n",
    "\n",
    "        ## create boxes\n",
    "        box_list =  [] \n",
    "        for gname in sorted(gtem_dict.keys()):\n",
    "            box_new = pscene.create_subject(oname=gname, gname=gname, _type=BoxObject, hexahedral=True)\n",
    "            box_new.register_binders(pscene, PlacePlane)\n",
    "            box_list.append(box_new)\n",
    "\n",
    "    with gtimer.block(\"scene_init\"):\n",
    "        clear_tasks(pscene)\n",
    "        initial_state = pscene.initialize_state(crob.home_pose, force_fit_binding=True)\n",
    "        gscene.update_markers_all()\n",
    "\n",
    "        # remove place points and sub-binders except for the current ones\n",
    "        use_current_place_point_only(pscene, initial_state)\n",
    "        use_current_sub_binders_only(pscene, initial_state)\n",
    "\n",
    "    print(initial_state.node)\n",
    "\n",
    "    gtimer.tic(\"firstmove\")\n",
    "    obj_num = len(gtem_dict)\n",
    "    sweep_num = len(track_list)\n",
    "    current_state = initial_state\n",
    "    t_exe = None\n",
    "    dt_step = 2e-2\n",
    "    snode_schedule_all = []\n",
    "    for sweep_idx in range(3):\n",
    "        # set current track\n",
    "        set_single_sweep_line(pscene, sweep_idx, *track_list[sweep_idx])\n",
    "        # ban current putting on current track's clearance area\n",
    "        gcheck.put_banned = [track_list[sweep_idx][2]]\n",
    "\n",
    "        tplan.prepare(random_homing=True)\n",
    "        mplan.update_gscene()\n",
    "        from_state = pscene.initialize_state(current_state.Q, force_fit_binding=True)\n",
    "        sweep_goal = (2,)\n",
    "    #     sweep_goal = tuple([int(i_s<=sweep_idx)*2 for i_s in range(2)])+(0,)\n",
    "        goal_nodes = [(\"track_face\",)*obj_num+sweep_goal]\n",
    "        if sweep_idx < sweep_num-1:\n",
    "            for i_s in range(obj_num):\n",
    "                obj_goal = [\"track_face\"]*obj_num\n",
    "                obj_goal[i_s] = \"grip1\"\n",
    "                goal_nodes += [tuple(obj_goal)+sweep_goal]\n",
    "        gtimer.tic(\"plan{}\".format(sweep_idx))\n",
    "        ppline.search(from_state, goal_nodes, verbose=False, display=False, dt_vis=0.01, \n",
    "                      timeout_loop=300, multiprocess=False, timeout=1, timeout_constrained=2, add_homing=True, post_optimize=False)\n",
    "        gtimer.toc(\"plan{}\".format(sweep_idx))\n",
    "        schedules = ppline.tplan.find_schedules(False)\n",
    "        schedules_sorted = ppline.tplan.sort_schedule(schedules)\n",
    "        snode_schedule = ppline.tplan.idxSchedule2SnodeScedule(schedules_sorted[0])\n",
    "        snode_schedule_ori = snode_schedule\n",
    "        snode_schedule_simple = simplify_schedule(pscene, snode_schedule)\n",
    "        snode_schedule_safe = calculate_safe_schedule(pscene, snode_schedule_simple, 0.5, 1, dt_step=dt_step)\n",
    "    #     double_sweep_motions(snode_schedule_safe)\n",
    "        snode_schedule = snode_schedule_safe # no mix\n",
    "    #     snode_schedule = mix_schedule(mplan, snode_schedule_safe) # mix\n",
    "        current_state = snode_schedule[-1].state\n",
    "        if t_exe:\n",
    "            t_exe.join()\n",
    "        else:\n",
    "            if len(snode_schedule_all)==0:\n",
    "                gtimer.toc(\"firstmove\")\n",
    "        snode_schedule_all.append(snode_schedule)\n",
    "    #     ppline.play_schedule(snode_schedule, period=0.001)\n",
    "    #     t_exe = Thread(target=ppline.play_schedule, args = (snode_schedule,), kwargs=dict( period=0.01))\n",
    "    #     t_exe.start()\n",
    "    # t_exe.join()\n",
    "    time_full = gtimer.time_dict[\"plan0\"] + gtimer.time_dict[\"plan1\"] + gtimer.time_dict[\"plan2\"]\n",
    "    time_full_list_0_X.append(time_full)\n",
    "    print(\"=====================================================\")\n",
    "    print(\"================= LOOP COUNT: {} / {} ==================\".format(i_repeat, N_repeat))\n",
    "    print(\"=====================================================\")"
   ]
  },
  {
   "cell_type": "code",
   "execution_count": null,
   "metadata": {},
   "outputs": [],
   "source": [
    "np.round((np.min(time_full_list_0_X), np.mean(time_full_list_0_X), np.max(time_full_list_0_X)), 2)"
   ]
  },
  {
   "cell_type": "code",
   "execution_count": null,
   "metadata": {},
   "outputs": [],
   "source": []
  },
  {
   "cell_type": "code",
   "execution_count": null,
   "metadata": {},
   "outputs": [],
   "source": []
  },
  {
   "cell_type": "markdown",
   "metadata": {},
   "source": [
    "## define obstacles - 1"
   ]
  },
  {
   "cell_type": "code",
   "execution_count": null,
   "metadata": {},
   "outputs": [],
   "source": [
    "time_full_list_1_X = []\n",
    "gscene.clear_non_fixed()\n",
    "obstacles = [\n",
    "    gscene.create_safe(GEOTYPE.BOX, \"obstacle_a_1\", \"base_link\", (0.05,0.05,0.05), (0.5,0.4,0.031), \n",
    "                       rpy=(0,0,0), color=(0.8,0.2,0.2,1), display=True, fixed=False, collision=True)\n",
    "]\n",
    "obstacle_names = [obs.name for obs in obstacles]\n",
    "gtem_dict = disperse_on(pscene, gcheck, track_face, obstacle_names)"
   ]
  },
  {
   "cell_type": "code",
   "execution_count": null,
   "metadata": {
    "scrolled": true
   },
   "outputs": [],
   "source": [
    "for i_repeat in range(N_repeat):\n",
    "    mplan.reset_log(False)\n",
    "    gtimer.reset(1, timeunit=\"s\")\n",
    "\n",
    "    for sname in pscene.subject_name_list:\n",
    "        if isinstance(pscene.subject_dict[sname], AbstractObject):\n",
    "            pscene.remove_subject(sname)\n",
    "\n",
    "        ## disperse obstacles\n",
    "        gtem_dict = disperse_on(pscene, gcheck, track_face, obstacle_names)\n",
    "\n",
    "        ## create boxes\n",
    "        box_list =  [] \n",
    "        for gname in sorted(gtem_dict.keys()):\n",
    "            box_new = pscene.create_subject(oname=gname, gname=gname, _type=BoxObject, hexahedral=True)\n",
    "            box_new.register_binders(pscene, PlacePlane)\n",
    "            box_list.append(box_new)\n",
    "\n",
    "    with gtimer.block(\"scene_init\"):\n",
    "        clear_tasks(pscene)\n",
    "        initial_state = pscene.initialize_state(crob.home_pose, force_fit_binding=True)\n",
    "        gscene.update_markers_all()\n",
    "\n",
    "        # remove place points and sub-binders except for the current ones\n",
    "        use_current_place_point_only(pscene, initial_state)\n",
    "        use_current_sub_binders_only(pscene, initial_state)\n",
    "\n",
    "    print(initial_state.node)\n",
    "\n",
    "    gtimer.tic(\"firstmove\")\n",
    "    obj_num = len(gtem_dict)\n",
    "    sweep_num = len(track_list)\n",
    "    current_state = initial_state\n",
    "    t_exe = None\n",
    "    dt_step = 2e-2\n",
    "    snode_schedule_all = []\n",
    "    for sweep_idx in range(3):\n",
    "        # set current track\n",
    "        set_single_sweep_line(pscene, sweep_idx, *track_list[sweep_idx])\n",
    "        # ban current putting on current track's clearance area\n",
    "        gcheck.put_banned = [track_list[sweep_idx][2]]\n",
    "\n",
    "        tplan.prepare(random_homing=True)\n",
    "        mplan.update_gscene()\n",
    "        from_state = pscene.initialize_state(current_state.Q, force_fit_binding=True)\n",
    "        sweep_goal = (2,)\n",
    "    #     sweep_goal = tuple([int(i_s<=sweep_idx)*2 for i_s in range(2)])+(0,)\n",
    "        goal_nodes = [(\"track_face\",)*obj_num+sweep_goal]\n",
    "        if sweep_idx < sweep_num-1:\n",
    "            for i_s in range(obj_num):\n",
    "                obj_goal = [\"track_face\"]*obj_num\n",
    "                obj_goal[i_s] = \"grip1\"\n",
    "                goal_nodes += [tuple(obj_goal)+sweep_goal]\n",
    "        gtimer.tic(\"plan{}\".format(sweep_idx))\n",
    "        ppline.search(from_state, goal_nodes, verbose=False, display=False, dt_vis=0.01, \n",
    "                      timeout_loop=300, multiprocess=False, timeout=1, timeout_constrained=2, add_homing=True, post_optimize=False)\n",
    "        gtimer.toc(\"plan{}\".format(sweep_idx))\n",
    "        schedules = ppline.tplan.find_schedules(False)\n",
    "        schedules_sorted = ppline.tplan.sort_schedule(schedules)\n",
    "        snode_schedule = ppline.tplan.idxSchedule2SnodeScedule(schedules_sorted[0])\n",
    "        snode_schedule_ori = snode_schedule\n",
    "        snode_schedule_simple = simplify_schedule(pscene, snode_schedule)\n",
    "        snode_schedule_safe = calculate_safe_schedule(pscene, snode_schedule_simple, 0.5, 1, dt_step=dt_step)\n",
    "    #     double_sweep_motions(snode_schedule_safe)\n",
    "        snode_schedule = snode_schedule_safe # no mix\n",
    "    #     snode_schedule = mix_schedule(mplan, snode_schedule_safe) # mix\n",
    "        current_state = snode_schedule[-1].state\n",
    "        if t_exe:\n",
    "            t_exe.join()\n",
    "        else:\n",
    "            if len(snode_schedule_all)==0:\n",
    "                gtimer.toc(\"firstmove\")\n",
    "        snode_schedule_all.append(snode_schedule)\n",
    "    #     ppline.play_schedule(snode_schedule, period=0.001)\n",
    "    #     t_exe = Thread(target=ppline.play_schedule, args = (snode_schedule,), kwargs=dict( period=0.01))\n",
    "    #     t_exe.start()\n",
    "    # t_exe.join()\n",
    "    time_full = gtimer.time_dict[\"plan0\"] + gtimer.time_dict[\"plan1\"] + gtimer.time_dict[\"plan2\"]\n",
    "    time_full_list_1_X.append(time_full)\n",
    "    print(\"=====================================================\")\n",
    "    print(\"================= LOOP COUNT: {} / {} ==================\".format(i_repeat, N_repeat))\n",
    "    print(\"=====================================================\")"
   ]
  },
  {
   "cell_type": "code",
   "execution_count": null,
   "metadata": {},
   "outputs": [],
   "source": [
    "np.round((np.min(time_full_list_1_X), np.mean(time_full_list_1_X), np.max(time_full_list_1_X)), 2)"
   ]
  },
  {
   "cell_type": "code",
   "execution_count": null,
   "metadata": {},
   "outputs": [],
   "source": []
  },
  {
   "cell_type": "code",
   "execution_count": null,
   "metadata": {},
   "outputs": [],
   "source": []
  },
  {
   "cell_type": "markdown",
   "metadata": {},
   "source": [
    "## define obstacles - 2"
   ]
  },
  {
   "cell_type": "code",
   "execution_count": null,
   "metadata": {},
   "outputs": [],
   "source": [
    "time_full_list_2_X = []\n",
    "gscene.clear_non_fixed()\n",
    "obstacles = [\n",
    "    gscene.create_safe(GEOTYPE.BOX, \"obstacle_a_1\", \"base_link\", (0.05,0.05,0.05), (0.5,0.4,0.031), \n",
    "                       rpy=(0,0,0), color=(0.8,0.2,0.2,1), display=True, fixed=False, collision=True),\n",
    "    gscene.create_safe(GEOTYPE.BOX, \"obstacle_b_1\", \"base_link\", (0.10,0.05,0.05), (0.5,0.4,0.031), \n",
    "                       rpy=(0,0,0), color=(0.2,0.2,0.8,1), display=True, fixed=False, collision=True)\n",
    "]\n",
    "obstacle_names = [obs.name for obs in obstacles]\n",
    "gtem_dict = disperse_on(pscene, gcheck, track_face, obstacle_names)"
   ]
  },
  {
   "cell_type": "code",
   "execution_count": null,
   "metadata": {
    "scrolled": true
   },
   "outputs": [],
   "source": [
    "for i_repeat in range(N_repeat):\n",
    "    try:\n",
    "        mplan.reset_log(False)\n",
    "        gtimer.reset(1, timeunit=\"s\")\n",
    "\n",
    "        for sname in pscene.subject_name_list:\n",
    "            if isinstance(pscene.subject_dict[sname], AbstractObject):\n",
    "                pscene.remove_subject(sname)\n",
    "\n",
    "            ## disperse obstacles\n",
    "            gtem_dict = disperse_on(pscene, gcheck, track_face, obstacle_names)\n",
    "\n",
    "            ## create boxes\n",
    "            box_list =  [] \n",
    "            for gname in sorted(gtem_dict.keys()):\n",
    "                box_new = pscene.create_subject(oname=gname, gname=gname, _type=BoxObject, hexahedral=True)\n",
    "                box_new.register_binders(pscene, PlacePlane)\n",
    "                box_list.append(box_new)\n",
    "\n",
    "        with gtimer.block(\"scene_init\"):\n",
    "            clear_tasks(pscene)\n",
    "            initial_state = pscene.initialize_state(crob.home_pose, force_fit_binding=True)\n",
    "            gscene.update_markers_all()\n",
    "\n",
    "            # remove place points and sub-binders except for the current ones\n",
    "            use_current_place_point_only(pscene, initial_state)\n",
    "            use_current_sub_binders_only(pscene, initial_state)\n",
    "\n",
    "        print(initial_state.node)\n",
    "\n",
    "        gtimer.tic(\"firstmove\")\n",
    "        obj_num = len(gtem_dict)\n",
    "        sweep_num = len(track_list)\n",
    "        current_state = initial_state\n",
    "        t_exe = None\n",
    "        dt_step = 2e-2\n",
    "        snode_schedule_all = []\n",
    "        for sweep_idx in range(3):\n",
    "            # set current track\n",
    "            set_single_sweep_line(pscene, sweep_idx, *track_list[sweep_idx])\n",
    "            # ban current putting on current track's clearance area\n",
    "            gcheck.put_banned = [track_list[sweep_idx][2]]\n",
    "\n",
    "            tplan.prepare(random_homing=True)\n",
    "            mplan.update_gscene()\n",
    "            from_state = pscene.initialize_state(current_state.Q, force_fit_binding=True)\n",
    "            sweep_goal = (2,)\n",
    "        #     sweep_goal = tuple([int(i_s<=sweep_idx)*2 for i_s in range(2)])+(0,)\n",
    "            goal_nodes = [(\"track_face\",)*obj_num+sweep_goal]\n",
    "            if sweep_idx < sweep_num-1:\n",
    "                for i_s in range(obj_num):\n",
    "                    obj_goal = [\"track_face\"]*obj_num\n",
    "                    obj_goal[i_s] = \"grip1\"\n",
    "                    goal_nodes += [tuple(obj_goal)+sweep_goal]\n",
    "            gtimer.tic(\"plan{}\".format(sweep_idx))\n",
    "            ppline.search(from_state, goal_nodes, verbose=False, display=False, dt_vis=0.01, \n",
    "                          timeout_loop=300, multiprocess=False, timeout=1, timeout_constrained=2, add_homing=True, post_optimize=False)\n",
    "            gtimer.toc(\"plan{}\".format(sweep_idx))\n",
    "            schedules = ppline.tplan.find_schedules(False)\n",
    "            schedules_sorted = ppline.tplan.sort_schedule(schedules)\n",
    "            snode_schedule = ppline.tplan.idxSchedule2SnodeScedule(schedules_sorted[0])\n",
    "            snode_schedule_ori = snode_schedule\n",
    "            snode_schedule_simple = simplify_schedule(pscene, snode_schedule)\n",
    "            snode_schedule_safe = calculate_safe_schedule(pscene, snode_schedule_simple, 0.5, 1, dt_step=dt_step)\n",
    "        #     double_sweep_motions(snode_schedule_safe)\n",
    "            snode_schedule = snode_schedule_safe # no mix\n",
    "        #     snode_schedule = mix_schedule(mplan, snode_schedule_safe) # mix\n",
    "            current_state = snode_schedule[-1].state\n",
    "            if t_exe:\n",
    "                t_exe.join()\n",
    "            else:\n",
    "                if len(snode_schedule_all)==0:\n",
    "                    gtimer.toc(\"firstmove\")\n",
    "            snode_schedule_all.append(snode_schedule)\n",
    "        #     ppline.play_schedule(snode_schedule, period=0.001)\n",
    "        #     t_exe = Thread(target=ppline.play_schedule, args = (snode_schedule,), kwargs=dict( period=0.01))\n",
    "        #     t_exe.start()\n",
    "        # t_exe.join()\n",
    "        time_full = gtimer.time_dict[\"plan0\"] + gtimer.time_dict[\"plan1\"] + gtimer.time_dict[\"plan2\"]\n",
    "        time_full_list_2_X.append(time_full)\n",
    "    except:\n",
    "        gscene.clear_non_fixed()\n",
    "        obstacles = [\n",
    "            gscene.create_safe(GEOTYPE.BOX, \"obstacle_a_1\", \"base_link\", (0.05,0.05,0.05), (0.5,0.4,0.031), \n",
    "                               rpy=(0,0,0), color=(0.8,0.2,0.2,1), display=True, fixed=False, collision=True),\n",
    "            gscene.create_safe(GEOTYPE.BOX, \"obstacle_b_1\", \"base_link\", (0.10,0.05,0.05), (0.5,0.4,0.031), \n",
    "                               rpy=(0,0,0), color=(0.2,0.2,0.8,1), display=True, fixed=False, collision=True)\n",
    "        ]\n",
    "        pass\n",
    "    print(\"=====================================================\")\n",
    "    print(\"================= LOOP COUNT: {} / {} ==================\".format(i_repeat, N_repeat))\n",
    "    print(\"=====================================================\")"
   ]
  },
  {
   "cell_type": "code",
   "execution_count": null,
   "metadata": {},
   "outputs": [],
   "source": [
    "np.round((np.min(time_full_list_2_X), np.mean(time_full_list_2_X), np.max(time_full_list_2_X)), 2)"
   ]
  },
  {
   "cell_type": "code",
   "execution_count": null,
   "metadata": {},
   "outputs": [],
   "source": [
    "len(time_full_list_2_X)"
   ]
  },
  {
   "cell_type": "code",
   "execution_count": null,
   "metadata": {},
   "outputs": [],
   "source": []
  },
  {
   "cell_type": "code",
   "execution_count": null,
   "metadata": {},
   "outputs": [],
   "source": []
  },
  {
   "cell_type": "code",
   "execution_count": null,
   "metadata": {},
   "outputs": [],
   "source": []
  },
  {
   "cell_type": "code",
   "execution_count": null,
   "metadata": {},
   "outputs": [],
   "source": []
  },
  {
   "cell_type": "code",
   "execution_count": null,
   "metadata": {},
   "outputs": [],
   "source": []
  },
  {
   "cell_type": "code",
   "execution_count": null,
   "metadata": {},
   "outputs": [],
   "source": []
  },
  {
   "cell_type": "markdown",
   "metadata": {},
   "source": [
    "# only gcheck"
   ]
  },
  {
   "cell_type": "code",
   "execution_count": null,
   "metadata": {},
   "outputs": [],
   "source": [
    "checkers_all = [tcheck, gcheck]\n",
    "# checkers_all = []\n",
    "mplan.motion_filters = checkers_all"
   ]
  },
  {
   "cell_type": "markdown",
   "metadata": {},
   "source": [
    "## define obstacles - 1"
   ]
  },
  {
   "cell_type": "code",
   "execution_count": null,
   "metadata": {},
   "outputs": [],
   "source": [
    "time_full_list_1_G = []\n",
    "gscene.clear_non_fixed()\n",
    "obstacles = [\n",
    "    gscene.create_safe(GEOTYPE.BOX, \"obstacle_a_1\", \"base_link\", (0.05,0.05,0.05), (0.5,0.4,0.031), \n",
    "                       rpy=(0,0,0), color=(0.8,0.2,0.2,1), display=True, fixed=False, collision=True)\n",
    "]\n",
    "obstacle_names = [obs.name for obs in obstacles]\n",
    "gtem_dict = disperse_on(pscene, gcheck, track_face, obstacle_names)"
   ]
  },
  {
   "cell_type": "code",
   "execution_count": null,
   "metadata": {
    "scrolled": true
   },
   "outputs": [],
   "source": [
    "for i_repeat in range(N_repeat):\n",
    "    mplan.reset_log(False)\n",
    "    gtimer.reset(1, timeunit=\"s\")\n",
    "\n",
    "    for sname in pscene.subject_name_list:\n",
    "        if isinstance(pscene.subject_dict[sname], AbstractObject):\n",
    "            pscene.remove_subject(sname)\n",
    "\n",
    "        ## disperse obstacles\n",
    "        gtem_dict = disperse_on(pscene, gcheck, track_face, obstacle_names)\n",
    "\n",
    "        ## create boxes\n",
    "        box_list =  [] \n",
    "        for gname in sorted(gtem_dict.keys()):\n",
    "            box_new = pscene.create_subject(oname=gname, gname=gname, _type=BoxObject, hexahedral=True)\n",
    "            box_new.register_binders(pscene, PlacePlane)\n",
    "            box_list.append(box_new)\n",
    "\n",
    "    with gtimer.block(\"scene_init\"):\n",
    "        clear_tasks(pscene)\n",
    "        initial_state = pscene.initialize_state(crob.home_pose, force_fit_binding=True)\n",
    "        gscene.update_markers_all()\n",
    "\n",
    "        # remove place points and sub-binders except for the current ones\n",
    "        use_current_place_point_only(pscene, initial_state)\n",
    "        use_current_sub_binders_only(pscene, initial_state)\n",
    "\n",
    "    print(initial_state.node)\n",
    "\n",
    "    gtimer.tic(\"firstmove\")\n",
    "    obj_num = len(gtem_dict)\n",
    "    sweep_num = len(track_list)\n",
    "    current_state = initial_state\n",
    "    t_exe = None\n",
    "    dt_step = 2e-2\n",
    "    snode_schedule_all = []\n",
    "    for sweep_idx in range(3):\n",
    "        # set current track\n",
    "        set_single_sweep_line(pscene, sweep_idx, *track_list[sweep_idx])\n",
    "        # ban current putting on current track's clearance area\n",
    "        gcheck.put_banned = [track_list[sweep_idx][2]]\n",
    "\n",
    "        tplan.prepare(random_homing=True)\n",
    "        mplan.update_gscene()\n",
    "        from_state = pscene.initialize_state(current_state.Q, force_fit_binding=True)\n",
    "        sweep_goal = (2,)\n",
    "    #     sweep_goal = tuple([int(i_s<=sweep_idx)*2 for i_s in range(2)])+(0,)\n",
    "        goal_nodes = [(\"track_face\",)*obj_num+sweep_goal]\n",
    "        if sweep_idx < sweep_num-1:\n",
    "            for i_s in range(obj_num):\n",
    "                obj_goal = [\"track_face\"]*obj_num\n",
    "                obj_goal[i_s] = \"grip1\"\n",
    "                goal_nodes += [tuple(obj_goal)+sweep_goal]\n",
    "        gtimer.tic(\"plan{}\".format(sweep_idx))\n",
    "        ppline.search(from_state, goal_nodes, verbose=False, display=False, dt_vis=0.01, \n",
    "                      timeout_loop=300, multiprocess=False, timeout=1, timeout_constrained=2, add_homing=True, post_optimize=False)\n",
    "        gtimer.toc(\"plan{}\".format(sweep_idx))\n",
    "        schedules = ppline.tplan.find_schedules(False)\n",
    "        schedules_sorted = ppline.tplan.sort_schedule(schedules)\n",
    "        snode_schedule = ppline.tplan.idxSchedule2SnodeScedule(schedules_sorted[0])\n",
    "        snode_schedule_ori = snode_schedule\n",
    "        snode_schedule_simple = simplify_schedule(pscene, snode_schedule)\n",
    "        snode_schedule_safe = calculate_safe_schedule(pscene, snode_schedule_simple, 0.5, 1, dt_step=dt_step)\n",
    "    #     double_sweep_motions(snode_schedule_safe)\n",
    "        snode_schedule = snode_schedule_safe # no mix\n",
    "    #     snode_schedule = mix_schedule(mplan, snode_schedule_safe) # mix\n",
    "        current_state = snode_schedule[-1].state\n",
    "        if t_exe:\n",
    "            t_exe.join()\n",
    "        else:\n",
    "            if len(snode_schedule_all)==0:\n",
    "                gtimer.toc(\"firstmove\")\n",
    "        snode_schedule_all.append(snode_schedule)\n",
    "    #     ppline.play_schedule(snode_schedule, period=0.001)\n",
    "    #     t_exe = Thread(target=ppline.play_schedule, args = (snode_schedule,), kwargs=dict( period=0.01))\n",
    "    #     t_exe.start()\n",
    "    # t_exe.join()\n",
    "    time_full = gtimer.time_dict[\"plan0\"] + gtimer.time_dict[\"plan1\"] + gtimer.time_dict[\"plan2\"]\n",
    "    time_full_list_1_G.append(time_full)\n",
    "    print(\"=====================================================\")\n",
    "    print(\"================= LOOP COUNT: {} / {} ==================\".format(i_repeat, N_repeat))\n",
    "    print(\"=====================================================\")"
   ]
  },
  {
   "cell_type": "code",
   "execution_count": null,
   "metadata": {
    "scrolled": true
   },
   "outputs": [],
   "source": [
    "np.round((np.min(time_full_list_1_G), np.mean(time_full_list_1_G), np.max(time_full_list_1_G)), 2)"
   ]
  },
  {
   "cell_type": "code",
   "execution_count": null,
   "metadata": {},
   "outputs": [],
   "source": [
    "len(time_full_list_1_G)"
   ]
  },
  {
   "cell_type": "code",
   "execution_count": null,
   "metadata": {},
   "outputs": [],
   "source": []
  },
  {
   "cell_type": "markdown",
   "metadata": {},
   "source": [
    "## define obstacles - 2"
   ]
  },
  {
   "cell_type": "code",
   "execution_count": null,
   "metadata": {},
   "outputs": [],
   "source": [
    "time_full_list_2_G = []\n",
    "gscene.clear_non_fixed()\n",
    "obstacles = [\n",
    "    gscene.create_safe(GEOTYPE.BOX, \"obstacle_a_1\", \"base_link\", (0.05,0.05,0.05), (0.5,0.4,0.031), \n",
    "                       rpy=(0,0,0), color=(0.8,0.2,0.2,1), display=True, fixed=False, collision=True),\n",
    "    gscene.create_safe(GEOTYPE.BOX, \"obstacle_b_1\", \"base_link\", (0.10,0.05,0.05), (0.5,0.4,0.031), \n",
    "                       rpy=(0,0,0), color=(0.2,0.2,0.8,1), display=True, fixed=False, collision=True)\n",
    "]\n",
    "obstacle_names = [obs.name for obs in obstacles]\n",
    "gtem_dict = disperse_on(pscene, gcheck, track_face, obstacle_names)"
   ]
  },
  {
   "cell_type": "code",
   "execution_count": null,
   "metadata": {
    "scrolled": true
   },
   "outputs": [],
   "source": [
    "for i_repeat in range(N_repeat):\n",
    "    mplan.reset_log(False)\n",
    "    gtimer.reset(1, timeunit=\"s\")\n",
    "\n",
    "    for sname in pscene.subject_name_list:\n",
    "        if isinstance(pscene.subject_dict[sname], AbstractObject):\n",
    "            pscene.remove_subject(sname)\n",
    "\n",
    "        ## disperse obstacles\n",
    "        gtem_dict = disperse_on(pscene, gcheck, track_face, obstacle_names)\n",
    "\n",
    "        ## create boxes\n",
    "        box_list =  [] \n",
    "        for gname in sorted(gtem_dict.keys()):\n",
    "            box_new = pscene.create_subject(oname=gname, gname=gname, _type=BoxObject, hexahedral=True)\n",
    "            box_new.register_binders(pscene, PlacePlane)\n",
    "            box_list.append(box_new)\n",
    "\n",
    "    with gtimer.block(\"scene_init\"):\n",
    "        clear_tasks(pscene)\n",
    "        initial_state = pscene.initialize_state(crob.home_pose, force_fit_binding=True)\n",
    "        gscene.update_markers_all()\n",
    "\n",
    "        # remove place points and sub-binders except for the current ones\n",
    "        use_current_place_point_only(pscene, initial_state)\n",
    "        use_current_sub_binders_only(pscene, initial_state)\n",
    "\n",
    "    print(initial_state.node)\n",
    "\n",
    "    gtimer.tic(\"firstmove\")\n",
    "    obj_num = len(gtem_dict)\n",
    "    sweep_num = len(track_list)\n",
    "    current_state = initial_state\n",
    "    t_exe = None\n",
    "    dt_step = 2e-2\n",
    "    snode_schedule_all = []\n",
    "    for sweep_idx in range(3):\n",
    "        # set current track\n",
    "        set_single_sweep_line(pscene, sweep_idx, *track_list[sweep_idx])\n",
    "        # ban current putting on current track's clearance area\n",
    "        gcheck.put_banned = [track_list[sweep_idx][2]]\n",
    "\n",
    "        tplan.prepare(random_homing=True)\n",
    "        mplan.update_gscene()\n",
    "        from_state = pscene.initialize_state(current_state.Q, force_fit_binding=True)\n",
    "        sweep_goal = (2,)\n",
    "    #     sweep_goal = tuple([int(i_s<=sweep_idx)*2 for i_s in range(2)])+(0,)\n",
    "        goal_nodes = [(\"track_face\",)*obj_num+sweep_goal]\n",
    "        if sweep_idx < sweep_num-1:\n",
    "            for i_s in range(obj_num):\n",
    "                obj_goal = [\"track_face\"]*obj_num\n",
    "                obj_goal[i_s] = \"grip1\"\n",
    "                goal_nodes += [tuple(obj_goal)+sweep_goal]\n",
    "        gtimer.tic(\"plan{}\".format(sweep_idx))\n",
    "        ppline.search(from_state, goal_nodes, verbose=False, display=False, dt_vis=0.01, \n",
    "                      timeout_loop=300, multiprocess=False, timeout=1, timeout_constrained=2, add_homing=True, post_optimize=False)\n",
    "        gtimer.toc(\"plan{}\".format(sweep_idx))\n",
    "        schedules = ppline.tplan.find_schedules(False)\n",
    "        schedules_sorted = ppline.tplan.sort_schedule(schedules)\n",
    "        snode_schedule = ppline.tplan.idxSchedule2SnodeScedule(schedules_sorted[0])\n",
    "        snode_schedule_ori = snode_schedule\n",
    "        snode_schedule_simple = simplify_schedule(pscene, snode_schedule)\n",
    "        snode_schedule_safe = calculate_safe_schedule(pscene, snode_schedule_simple, 0.5, 1, dt_step=dt_step)\n",
    "    #     double_sweep_motions(snode_schedule_safe)\n",
    "        snode_schedule = snode_schedule_safe # no mix\n",
    "    #     snode_schedule = mix_schedule(mplan, snode_schedule_safe) # mix\n",
    "        current_state = snode_schedule[-1].state\n",
    "        if t_exe:\n",
    "            t_exe.join()\n",
    "        else:\n",
    "            if len(snode_schedule_all)==0:\n",
    "                gtimer.toc(\"firstmove\")\n",
    "        snode_schedule_all.append(snode_schedule)\n",
    "    #     ppline.play_schedule(snode_schedule, period=0.001)\n",
    "    #     t_exe = Thread(target=ppline.play_schedule, args = (snode_schedule,), kwargs=dict( period=0.01))\n",
    "    #     t_exe.start()\n",
    "    # t_exe.join()\n",
    "    time_full = gtimer.time_dict[\"plan0\"] + gtimer.time_dict[\"plan1\"] + gtimer.time_dict[\"plan2\"]\n",
    "    time_full_list_2_G.append(time_full)\n",
    "    print(\"=====================================================\")\n",
    "    print(\"================= LOOP COUNT: {} / {} ==================\".format(i_repeat, N_repeat))\n",
    "    print(\"=====================================================\")"
   ]
  },
  {
   "cell_type": "code",
   "execution_count": null,
   "metadata": {},
   "outputs": [],
   "source": [
    "np.round((np.min(time_full_list_2_G), np.mean(time_full_list_2_G), np.max(time_full_list_2_G)), 2)"
   ]
  },
  {
   "cell_type": "code",
   "execution_count": null,
   "metadata": {},
   "outputs": [],
   "source": [
    "len(time_full_list_2_G)"
   ]
  },
  {
   "cell_type": "code",
   "execution_count": null,
   "metadata": {},
   "outputs": [],
   "source": []
  },
  {
   "cell_type": "markdown",
   "metadata": {},
   "source": [
    "# only rcheck"
   ]
  },
  {
   "cell_type": "code",
   "execution_count": null,
   "metadata": {},
   "outputs": [],
   "source": [
    "checkers_all = [rcheck]\n",
    "# checkers_all = []\n",
    "mplan.motion_filters = checkers_all"
   ]
  },
  {
   "cell_type": "markdown",
   "metadata": {},
   "source": [
    "## define obstacles - 1"
   ]
  },
  {
   "cell_type": "code",
   "execution_count": null,
   "metadata": {},
   "outputs": [],
   "source": [
    "time_full_list_1_R = []\n",
    "gscene.clear_non_fixed()\n",
    "obstacles = [\n",
    "    gscene.create_safe(GEOTYPE.BOX, \"obstacle_a_1\", \"base_link\", (0.05,0.05,0.05), (0.5,0.4,0.031), \n",
    "                       rpy=(0,0,0), color=(0.8,0.2,0.2,1), display=True, fixed=False, collision=True)\n",
    "]\n",
    "obstacle_names = [obs.name for obs in obstacles]\n",
    "gtem_dict = disperse_on(pscene, gcheck, track_face, obstacle_names)"
   ]
  },
  {
   "cell_type": "code",
   "execution_count": null,
   "metadata": {
    "scrolled": true
   },
   "outputs": [],
   "source": [
    "for i_repeat in range(N_repeat):\n",
    "    mplan.reset_log(False)\n",
    "    gtimer.reset(1, timeunit=\"s\")\n",
    "\n",
    "    for sname in pscene.subject_name_list:\n",
    "        if isinstance(pscene.subject_dict[sname], AbstractObject):\n",
    "            pscene.remove_subject(sname)\n",
    "\n",
    "        ## disperse obstacles\n",
    "        gtem_dict = disperse_on(pscene, gcheck, track_face, obstacle_names)\n",
    "\n",
    "        ## create boxes\n",
    "        box_list =  [] \n",
    "        for gname in sorted(gtem_dict.keys()):\n",
    "            box_new = pscene.create_subject(oname=gname, gname=gname, _type=BoxObject, hexahedral=True)\n",
    "            box_new.register_binders(pscene, PlacePlane)\n",
    "            box_list.append(box_new)\n",
    "\n",
    "    with gtimer.block(\"scene_init\"):\n",
    "        clear_tasks(pscene)\n",
    "        initial_state = pscene.initialize_state(crob.home_pose, force_fit_binding=True)\n",
    "        gscene.update_markers_all()\n",
    "\n",
    "        # remove place points and sub-binders except for the current ones\n",
    "        use_current_place_point_only(pscene, initial_state)\n",
    "        use_current_sub_binders_only(pscene, initial_state)\n",
    "\n",
    "    print(initial_state.node)\n",
    "\n",
    "    gtimer.tic(\"firstmove\")\n",
    "    obj_num = len(gtem_dict)\n",
    "    sweep_num = len(track_list)\n",
    "    current_state = initial_state\n",
    "    t_exe = None\n",
    "    dt_step = 2e-2\n",
    "    snode_schedule_all = []\n",
    "    for sweep_idx in range(3):\n",
    "        # set current track\n",
    "        set_single_sweep_line(pscene, sweep_idx, *track_list[sweep_idx])\n",
    "        # ban current putting on current track's clearance area\n",
    "        gcheck.put_banned = [track_list[sweep_idx][2]]\n",
    "\n",
    "        tplan.prepare(random_homing=True)\n",
    "        mplan.update_gscene()\n",
    "        from_state = pscene.initialize_state(current_state.Q, force_fit_binding=True)\n",
    "        sweep_goal = (2,)\n",
    "    #     sweep_goal = tuple([int(i_s<=sweep_idx)*2 for i_s in range(2)])+(0,)\n",
    "        goal_nodes = [(\"track_face\",)*obj_num+sweep_goal]\n",
    "        if sweep_idx < sweep_num-1:\n",
    "            for i_s in range(obj_num):\n",
    "                obj_goal = [\"track_face\"]*obj_num\n",
    "                obj_goal[i_s] = \"grip1\"\n",
    "                goal_nodes += [tuple(obj_goal)+sweep_goal]\n",
    "        gtimer.tic(\"plan{}\".format(sweep_idx))\n",
    "        ppline.search(from_state, goal_nodes, verbose=False, display=False, dt_vis=0.01, \n",
    "                      timeout_loop=300, multiprocess=False, timeout=1, timeout_constrained=2, add_homing=True, post_optimize=False)\n",
    "        gtimer.toc(\"plan{}\".format(sweep_idx))\n",
    "        schedules = ppline.tplan.find_schedules(False)\n",
    "        schedules_sorted = ppline.tplan.sort_schedule(schedules)\n",
    "        snode_schedule = ppline.tplan.idxSchedule2SnodeScedule(schedules_sorted[0])\n",
    "        snode_schedule_ori = snode_schedule\n",
    "        snode_schedule_simple = simplify_schedule(pscene, snode_schedule)\n",
    "        snode_schedule_safe = calculate_safe_schedule(pscene, snode_schedule_simple, 0.5, 1, dt_step=dt_step)\n",
    "    #     double_sweep_motions(snode_schedule_safe)\n",
    "        snode_schedule = snode_schedule_safe # no mix\n",
    "    #     snode_schedule = mix_schedule(mplan, snode_schedule_safe) # mix\n",
    "        current_state = snode_schedule[-1].state\n",
    "        if t_exe:\n",
    "            t_exe.join()\n",
    "        else:\n",
    "            if len(snode_schedule_all)==0:\n",
    "                gtimer.toc(\"firstmove\")\n",
    "        snode_schedule_all.append(snode_schedule)\n",
    "    #     ppline.play_schedule(snode_schedule, period=0.001)\n",
    "    #     t_exe = Thread(target=ppline.play_schedule, args = (snode_schedule,), kwargs=dict( period=0.01))\n",
    "    #     t_exe.start()\n",
    "    # t_exe.join()\n",
    "    time_full = gtimer.time_dict[\"plan0\"] + gtimer.time_dict[\"plan1\"] + gtimer.time_dict[\"plan2\"]\n",
    "    time_full_list_1_R.append(time_full)\n",
    "    print(\"=====================================================\")\n",
    "    print(\"================= LOOP COUNT: {} / {} ==================\".format(i_repeat, N_repeat))\n",
    "    print(\"=====================================================\")"
   ]
  },
  {
   "cell_type": "code",
   "execution_count": null,
   "metadata": {
    "scrolled": true
   },
   "outputs": [],
   "source": [
    "np.round((np.min(time_full_list_1_R), np.mean(time_full_list_1_R), np.max(time_full_list_1_R)), 2)"
   ]
  },
  {
   "cell_type": "code",
   "execution_count": null,
   "metadata": {},
   "outputs": [],
   "source": [
    "len(time_full_list_1_R)"
   ]
  },
  {
   "cell_type": "code",
   "execution_count": null,
   "metadata": {},
   "outputs": [],
   "source": []
  }
 ],
 "metadata": {
  "kernelspec": {
   "display_name": "Python 2",
   "language": "python",
   "name": "python2"
  },
  "language_info": {
   "codemirror_mode": {
    "name": "ipython",
    "version": 2
   },
   "file_extension": ".py",
   "mimetype": "text/x-python",
   "name": "python",
   "nbconvert_exporter": "python",
   "pygments_lexer": "ipython2",
   "version": "2.7.17"
  }
 },
 "nbformat": 4,
 "nbformat_minor": 2
}
