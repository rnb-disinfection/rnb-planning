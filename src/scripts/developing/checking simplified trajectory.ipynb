{
 "cells": [
  {
   "cell_type": "markdown",
   "metadata": {},
   "source": [
    "## Check simplified safe trajectory"
   ]
  },
  {
   "cell_type": "code",
   "execution_count": null,
   "metadata": {},
   "outputs": [],
   "source": [
    "traj = snode_schedule[2].traj"
   ]
  },
  {
   "cell_type": "code",
   "execution_count": null,
   "metadata": {},
   "outputs": [],
   "source": [
    "traj_new = simplify_traj(traj)\n",
    "t_all, trajectory = calc_safe_trajectory(0.02, traj_new, 0.5, 1)\n",
    "\n",
    "idx_list = []\n",
    "err_list = []\n",
    "for Q in traj:\n",
    "    i_Q = np.argmin(np.max(np.abs(trajectory - Q), axis=-1))\n",
    "    idx_list.append(i_Q)\n",
    "    err_list.append(np.max(np.abs(trajectory[i_Q]-Q)))\n",
    "\n",
    "idx_new_list = []\n",
    "for Q in traj_new:\n",
    "    i_Q = np.argmin(np.max(np.abs(trajectory - Q), axis=-1))\n",
    "    idx_new_list.append(i_Q)\n",
    "    \n",
    "plt.figure(figsize=(15,10))\n",
    "_ = plt.plot(t_all, trajectory) # trajectory\n",
    "_ = plt.plot(np.array(t_all)[idx_list], traj, '+') # original traj\n",
    "_ = plt.plot(np.array(t_all)[idx_new_list], traj_new, 's', markerfacecolor='none') # simplified traj"
   ]
  },
  {
   "cell_type": "code",
   "execution_count": null,
   "metadata": {},
   "outputs": [],
   "source": [
    "plt.figure(figsize=(15,10))\n",
    "_ = plt.plot(np.array(t_all)[idx_list], trajectory[idx_list] - traj, '--+')  # error from original traj\n",
    "_ = plt.plot(np.array(t_all)[idx_new_list], trajectory[idx_new_list] - traj_new, 's') # error from simplified traj"
   ]
  },
  {
   "cell_type": "code",
   "execution_count": null,
   "metadata": {},
   "outputs": [],
   "source": []
  },
  {
   "cell_type": "code",
   "execution_count": null,
   "metadata": {},
   "outputs": [],
   "source": []
  }
 ],
 "metadata": {
  "kernelspec": {
   "display_name": "Python 2",
   "language": "python",
   "name": "python2"
  },
  "language_info": {
   "codemirror_mode": {
    "name": "ipython",
    "version": 2
   },
   "file_extension": ".py",
   "mimetype": "text/x-python",
   "name": "python",
   "nbconvert_exporter": "python",
   "pygments_lexer": "ipython2",
   "version": "2.7.17"
  }
 },
 "nbformat": 4,
 "nbformat_minor": 2
}
