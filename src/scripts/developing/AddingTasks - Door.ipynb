{
 "cells": [
  {
   "cell_type": "code",
   "execution_count": null,
   "metadata": {},
   "outputs": [],
   "source": [
    "import os\n",
    "os.chdir(os.path.join(os.environ[\"RNB_PLANNING_DIR\"], 'src'))"
   ]
  },
  {
   "cell_type": "markdown",
   "metadata": {},
   "source": [
    "### Make scene"
   ]
  },
  {
   "cell_type": "code",
   "execution_count": null,
   "metadata": {},
   "outputs": [],
   "source": [
    "from pkg.controller.combined_robot import *\n",
    "from pkg.project_config import *\n",
    "\n",
    "crob = CombinedRobot(robots_on_scene=[\n",
    "    RobotConfig(0, RobotType.panda, None,\n",
    "                INDY_IP)]\n",
    "              , connection_list=[False])\n",
    "from pkg.geometry.builder.scene_builder import SceneBuilder\n",
    "s_builder = SceneBuilder(None)\n",
    "# # deprecated: s_builder.reset_reference_coord(ref_name=\"floor\")\n",
    "# xyz_rpy_robots = s_builder.detect_items(level_mask=[DetectionLevel.ROBOT])\n",
    "xyz_rpy_robots = {\"panda0\": ((0,0,0), (0,0,0))}\n",
    "crob.update_robot_pos_dict(xyz_rpy_robots=xyz_rpy_robots)\n",
    "gscene = s_builder.create_gscene(crob)\n",
    "from pkg.planning.scene import PlanningScene\n",
    "pscene = PlanningScene(gscene, combined_robot=crob)"
   ]
  },
  {
   "cell_type": "markdown",
   "metadata": {},
   "source": [
    "## Preapare background"
   ]
  },
  {
   "cell_type": "code",
   "execution_count": null,
   "metadata": {},
   "outputs": [],
   "source": [
    "from pkg.geometry.geometry import *\n",
    "from pkg.planning.constraint.constraint_actor import Gripper2Tool, PlacePlane\n",
    "\n",
    "floor = gscene.create_safe(GEOTYPE.BOX, \"floor\", \"base_link\", (3,3,0.01), (0,0,0), \n",
    "                           rpy=(0,0,0), color=(0.8,0.8,0.8,0.5), display=True, fixed=True, collision=True)\n",
    "# wall = gscene.create_safe(GEOTYPE.BOX, \"wall\", \"base_link\", (3,3,0.01), (-0.3,0,0), \n",
    "#                            rpy=(0,np.pi/2,0), color=(0.8,0.8,0.8,0.5), display=True, fixed=True, collision=True)\n",
    "\n",
    "gtems = s_builder.add_robot_geometries(color=(0,1,0,0.5), display=True, collision=True)\n",
    "\n",
    "gscene.create_safe(gtype=GEOTYPE.SPHERE, name=\"grip0\", link_name=\"panda0_hand\", \n",
    "                 dims=(0.01,)*3, center=(0,0,0.112), rpy=(-np.pi/2,0,0), color=(1,0,0,1), display=True, collision=False, fixed=True)\n",
    "grip0 = pscene.create_binder(bname=\"grip0\", gname=\"grip0\", _type=Gripper2Tool, point=(0,0,0), rpy=(0,0,0))\n",
    "gscene.show_pose(crob.home_pose)"
   ]
  },
  {
   "cell_type": "code",
   "execution_count": null,
   "metadata": {},
   "outputs": [],
   "source": []
  },
  {
   "cell_type": "markdown",
   "metadata": {},
   "source": [
    "## Door"
   ]
  },
  {
   "cell_type": "code",
   "execution_count": null,
   "metadata": {},
   "outputs": [],
   "source": [
    "from pkg.utils.code_scraps import *\n",
    "from pkg.planning.constraint.constraint_subject import *\n",
    "from pkg.planning.constraint.constraint_actor import *"
   ]
  },
  {
   "cell_type": "code",
   "execution_count": null,
   "metadata": {},
   "outputs": [],
   "source": []
  },
  {
   "cell_type": "code",
   "execution_count": null,
   "metadata": {},
   "outputs": [],
   "source": [
    "door_s, hinge_s = add_door(pscene, center=(0.7,-0.2,0.5), color=(0.8,0.4,0.2,1))\n",
    "knob = gscene.create_safe(GEOTYPE.BOX, 'knob', link_name=\"base_link\",\n",
    "                          center=(-door_s.geometry.dims[0]/2-0.01-0.001,-door_s.geometry.dims[1]/2+0.05,0), \n",
    "                          rpy=(0,-np.pi/2,0), dims=(0.02,0.02,0.02),\n",
    "                          fixed=False, collision=True, color=(0.8,0.8,0.8,1), parent=\"door\")\n",
    "\n",
    "lever_s, knob_s = add_lever(pscene, knob, door_s, dims=(0.02,0.1,0.02), knob_offset=0.04)"
   ]
  },
  {
   "cell_type": "code",
   "execution_count": null,
   "metadata": {},
   "outputs": [],
   "source": []
  },
  {
   "cell_type": "markdown",
   "metadata": {},
   "source": [
    "### prepare planner"
   ]
  },
  {
   "cell_type": "code",
   "execution_count": null,
   "metadata": {},
   "outputs": [],
   "source": [
    "from pkg.planning.pipeline import PlanningPipeline\n",
    "ppline = PlanningPipeline(pscene)\n",
    "\n",
    "from pkg.ui.ui_broker import *\n",
    "# start UI\n",
    "ui_broker = UIBroker.instance()\n",
    "ui_broker.initialize(ppline, s_builder)\n",
    "ui_broker.start_server()\n",
    "\n",
    "ui_broker.set_tables()"
   ]
  },
  {
   "cell_type": "code",
   "execution_count": null,
   "metadata": {
    "scrolled": true
   },
   "outputs": [],
   "source": [
    "from pkg.planning.motion.moveit.moveit_planner import MoveitPlanner\n",
    "mplan = MoveitPlanner(pscene, enable_dual=False)\n",
    "mplan.update_gscene()\n",
    "\n",
    "from pkg.planning.task.rrt import TaskRRT\n",
    "tplan = TaskRRT(pscene, node_trial_max=30)\n",
    "tplan.prepare()\n",
    "\n",
    "ppline.set_motion_planner(mplan)\n",
    "ppline.set_task_planner(tplan)"
   ]
  },
  {
   "cell_type": "code",
   "execution_count": null,
   "metadata": {},
   "outputs": [],
   "source": [
    "from pkg.planning.filtering.grasp_filter import GraspChecker\n",
    "from pkg.planning.filtering.reach_filter import ReachChecker\n",
    "mplan.motion_filters = [GraspChecker(pscene), ReachChecker(pscene)]\n",
    "mplan.incremental_constraint_motion = True\n",
    "def explicit_rule(pscene, node, leaf):\n",
    "    if node[-2:] == (\"r2\", \"knob\"):\n",
    "            return False\n",
    "    if node[-2] != leaf[-2] and node[-1] != \"grip0\":\n",
    "            return False\n",
    "    if node[-1]==\"grip0\" and leaf[-1]==\"knob\" and node[-2]!=\"r1\":\n",
    "            return False\n",
    "    if node[1] != leaf[1] and node[0] != \"lever\":\n",
    "            return False\n",
    "    if node[0] == \"lever\" and node[-2] != leaf[-2]:\n",
    "            return False\n",
    "    if node[:2] != leaf[:2] and node[-2]!=\"r2\":\n",
    "            return False\n",
    "    return True\n",
    "tplan.explicit_rule = explicit_rule"
   ]
  },
  {
   "cell_type": "code",
   "execution_count": null,
   "metadata": {},
   "outputs": [],
   "source": []
  },
  {
   "cell_type": "markdown",
   "metadata": {},
   "source": [
    "### Plan"
   ]
  },
  {
   "cell_type": "code",
   "execution_count": null,
   "metadata": {},
   "outputs": [],
   "source": [
    "gscene.show_pose(crob.home_pose)\n",
    "initial_state = pscene.initialize_state(crob.home_pose)\n",
    "print(pscene.subject_name_list)\n",
    "print(initial_state.node)"
   ]
  },
  {
   "cell_type": "code",
   "execution_count": null,
   "metadata": {
    "scrolled": true
   },
   "outputs": [],
   "source": [
    "goal_nodes = [('door_frame', 'h1', 'r1', 'knob')]\n",
    "ppline.search(initial_state, goal_nodes, max_solution_count=1,\n",
    "              verbose=True, display=False, dt_vis=0.01, \n",
    "              timeout=0.5, timeout_loop=100, \n",
    "              multiprocess=True, add_homing=True)"
   ]
  },
  {
   "cell_type": "code",
   "execution_count": null,
   "metadata": {},
   "outputs": [],
   "source": [
    "pscene.set_object_state(initial_state)\n",
    "gscene.show_pose(initial_state.Q)"
   ]
  },
  {
   "cell_type": "code",
   "execution_count": null,
   "metadata": {
    "scrolled": false
   },
   "outputs": [],
   "source": [
    "snode_schedule = tplan.get_best_schedule(at_home=True)\n",
    "ppline.play_schedule(snode_schedule)"
   ]
  },
  {
   "cell_type": "code",
   "execution_count": null,
   "metadata": {},
   "outputs": [],
   "source": []
  },
  {
   "cell_type": "markdown",
   "metadata": {},
   "source": [
    "### push back"
   ]
  },
  {
   "cell_type": "code",
   "execution_count": null,
   "metadata": {},
   "outputs": [],
   "source": [
    "term_state = snode_schedule[-1].state\n",
    "pscene.set_object_state(term_state)\n",
    "gscene.show_pose(term_state.Q)\n",
    "print(pscene.subject_name_list)\n",
    "print(term_state.node)"
   ]
  },
  {
   "cell_type": "code",
   "execution_count": null,
   "metadata": {
    "scrolled": true
   },
   "outputs": [],
   "source": [
    "goal_nodes = [('door_frame', 'h0', 'r1', 'knob')]\n",
    "ppline.search(term_state, goal_nodes, max_solution_count=1,\n",
    "              verbose=True, display=False, dt_vis=0.01, \n",
    "              timeout=0.5, timeout_loop=30, \n",
    "              multiprocess=True)"
   ]
  },
  {
   "cell_type": "code",
   "execution_count": null,
   "metadata": {},
   "outputs": [],
   "source": [
    "pscene.set_object_state(term_state)\n",
    "gscene.show_pose(term_state.Q)"
   ]
  },
  {
   "cell_type": "code",
   "execution_count": null,
   "metadata": {
    "scrolled": false
   },
   "outputs": [],
   "source": [
    "snode_schedule = tplan.get_best_schedule(at_home=True)\n",
    "ppline.play_schedule(snode_schedule)"
   ]
  },
  {
   "cell_type": "code",
   "execution_count": null,
   "metadata": {},
   "outputs": [],
   "source": []
  },
  {
   "cell_type": "code",
   "execution_count": null,
   "metadata": {},
   "outputs": [],
   "source": []
  }
 ],
 "metadata": {
  "kernelspec": {
   "display_name": "Python 2",
   "language": "python",
   "name": "python2"
  },
  "language_info": {
   "codemirror_mode": {
    "name": "ipython",
    "version": 2
   },
   "file_extension": ".py",
   "mimetype": "text/x-python",
   "name": "python",
   "nbconvert_exporter": "python",
   "pygments_lexer": "ipython2",
   "version": "2.7.17"
  }
 },
 "nbformat": 4,
 "nbformat_minor": 2
}
