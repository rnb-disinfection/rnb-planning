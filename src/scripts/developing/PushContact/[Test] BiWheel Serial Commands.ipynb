{
 "cells": [
  {
   "cell_type": "code",
   "execution_count": 98,
   "metadata": {},
   "outputs": [],
   "source": [
    "SOP_BYTE, EOP_BYTE = 0x55, 0xAA\n",
    "CMD_DISABLE   = 0\n",
    "CMD_ENABLE    = 1\n",
    "CMD_VEL_LIM   = 2\n",
    "CMD_VEL_TAR   = 3\n",
    "CMD_DEBUG     = 100\n",
    "PACKET_LEN    = 8"
   ]
  },
  {
   "cell_type": "code",
   "execution_count": 99,
   "metadata": {},
   "outputs": [],
   "source": [
    "import numpy as np"
   ]
  },
  {
   "cell_type": "code",
   "execution_count": 160,
   "metadata": {},
   "outputs": [],
   "source": [
    "\n",
    "##\n",
    "# @brief convert ascii int list to string text\n",
    "def ascii2str(ascii):\n",
    "    return \"\".join(map(chr, ascii))\n",
    "\n",
    "##\n",
    "# @brief convert string text to ascii int list\n",
    "def str2ascii(text):\n",
    "    return map(ord, text)\n",
    "\n",
    "def hex_num_only(val):\n",
    "    hex_str = hex(val)\n",
    "    i_x = hex_str.index('x')\n",
    "    hex_str = hex_str[i_x+1:]\n",
    "    hex_str = \"0\"*(2-len(hex_str))+hex_str\n",
    "    return hex_str\n",
    "\n",
    "def divide_bytes(num):\n",
    "    return num / 0x100 % 0x100, num % 0x100\n",
    "\n",
    "def combine_bytes(up_byte, lo_byte):\n",
    "    int_val = up_byte*0x100 + lo_byte\n",
    "    return int_val%0x8000-(int_val/0x8000)*0x8000"
   ]
  },
  {
   "cell_type": "markdown",
   "metadata": {},
   "source": [
    "### Disable"
   ]
  },
  {
   "cell_type": "code",
   "execution_count": 130,
   "metadata": {},
   "outputs": [
    {
     "data": {
      "text/plain": [
       "[85, 0, 0, 0, 0, 0, 0, 170]"
      ]
     },
     "execution_count": 130,
     "metadata": {},
     "output_type": "execute_result"
    }
   ],
   "source": [
    "command = [CMD_DISABLE, 0,0,0,0]\n",
    "checksum = int(np.sum(command)%0x100)\n",
    "[SOP_BYTE]+command+[checksum, EOP_BYTE]"
   ]
  },
  {
   "cell_type": "code",
   "execution_count": 131,
   "metadata": {},
   "outputs": [
    {
     "name": "stdout",
     "output_type": "stream",
     "text": [
      "55 00 00 00 00 00 00 aa\n"
     ]
    }
   ],
   "source": [
    "print(\" \".join(map(hex_num_only, [SOP_BYTE]+command+[checksum, EOP_BYTE])))"
   ]
  },
  {
   "cell_type": "markdown",
   "metadata": {},
   "source": [
    "### Enable"
   ]
  },
  {
   "cell_type": "code",
   "execution_count": 132,
   "metadata": {},
   "outputs": [
    {
     "data": {
      "text/plain": [
       "[85, 1, 0, 0, 0, 0, 1, 170]"
      ]
     },
     "execution_count": 132,
     "metadata": {},
     "output_type": "execute_result"
    }
   ],
   "source": [
    "command = [CMD_ENABLE, 0,0,0,0]\n",
    "checksum = int(np.sum(command)%0x100)\n",
    "[SOP_BYTE]+command+[checksum, EOP_BYTE]"
   ]
  },
  {
   "cell_type": "code",
   "execution_count": 133,
   "metadata": {},
   "outputs": [
    {
     "name": "stdout",
     "output_type": "stream",
     "text": [
      "55 01 00 00 00 00 01 aa\n"
     ]
    }
   ],
   "source": [
    "print(\" \".join(map(hex_num_only, [SOP_BYTE]+command+[checksum, EOP_BYTE])))"
   ]
  },
  {
   "cell_type": "markdown",
   "metadata": {},
   "source": [
    "### Velocity Limit"
   ]
  },
  {
   "cell_type": "code",
   "execution_count": 136,
   "metadata": {},
   "outputs": [
    {
     "data": {
      "text/plain": [
       "[85, 2, 1, 244, 0, 0, 247, 170]"
      ]
     },
     "execution_count": 136,
     "metadata": {},
     "output_type": "execute_result"
    }
   ],
   "source": [
    "command = [CMD_VEL_LIM]+list(divide_bytes(500))+[0,0]\n",
    "checksum = int(np.sum(command)%0x100)\n",
    "[SOP_BYTE]+command+[checksum, EOP_BYTE]"
   ]
  },
  {
   "cell_type": "code",
   "execution_count": 137,
   "metadata": {},
   "outputs": [
    {
     "name": "stdout",
     "output_type": "stream",
     "text": [
      "55 02 01 f4 00 00 f7 aa\n"
     ]
    }
   ],
   "source": [
    "print(\" \".join(map(hex_num_only, [SOP_BYTE]+command+[checksum, EOP_BYTE])))"
   ]
  },
  {
   "cell_type": "markdown",
   "metadata": {},
   "source": [
    "### Velocity 100"
   ]
  },
  {
   "cell_type": "code",
   "execution_count": 145,
   "metadata": {},
   "outputs": [
    {
     "data": {
      "text/plain": [
       "[85, 3, 0, 100, 0, 100, 203, 170]"
      ]
     },
     "execution_count": 145,
     "metadata": {},
     "output_type": "execute_result"
    }
   ],
   "source": [
    "command = [CMD_VEL_TAR]+list(divide_bytes(100))+list(divide_bytes(100))\n",
    "checksum = int(np.sum(command)%0x100)\n",
    "[SOP_BYTE]+command+[checksum, EOP_BYTE]"
   ]
  },
  {
   "cell_type": "code",
   "execution_count": 146,
   "metadata": {},
   "outputs": [
    {
     "name": "stdout",
     "output_type": "stream",
     "text": [
      "55 03 00 64 00 64 cb aa\n"
     ]
    }
   ],
   "source": [
    "print(\" \".join(map(hex_num_only, [SOP_BYTE]+command+[checksum, EOP_BYTE])))"
   ]
  },
  {
   "cell_type": "markdown",
   "metadata": {},
   "source": [
    "### Velocity -100"
   ]
  },
  {
   "cell_type": "code",
   "execution_count": 164,
   "metadata": {},
   "outputs": [
    {
     "data": {
      "text/plain": [
       "[85, 3, 255, 156, 255, 156, 57, 170]"
      ]
     },
     "execution_count": 164,
     "metadata": {},
     "output_type": "execute_result"
    }
   ],
   "source": [
    "command = [CMD_VEL_TAR]+list(divide_bytes(-100))+list(divide_bytes(-100))\n",
    "checksum = int(np.sum(command)%0x100)\n",
    "[SOP_BYTE]+command+[checksum, EOP_BYTE]"
   ]
  },
  {
   "cell_type": "code",
   "execution_count": 165,
   "metadata": {},
   "outputs": [
    {
     "name": "stdout",
     "output_type": "stream",
     "text": [
      "55 03 ff 9c ff 9c 39 aa\n"
     ]
    }
   ],
   "source": [
    "print(\" \".join(map(hex_num_only, [SOP_BYTE]+command+[checksum, EOP_BYTE])))"
   ]
  },
  {
   "cell_type": "markdown",
   "metadata": {},
   "source": [
    "### Velocity 0"
   ]
  },
  {
   "cell_type": "code",
   "execution_count": 143,
   "metadata": {
    "scrolled": true
   },
   "outputs": [
    {
     "data": {
      "text/plain": [
       "[85, 3, 0, 0, 0, 0, 3, 170]"
      ]
     },
     "execution_count": 143,
     "metadata": {},
     "output_type": "execute_result"
    }
   ],
   "source": [
    "command = [CMD_VEL_TAR, 0,0,0,0]\n",
    "checksum = int(np.sum(command)%0x100)\n",
    "[SOP_BYTE]+command+[checksum, EOP_BYTE]"
   ]
  },
  {
   "cell_type": "code",
   "execution_count": 144,
   "metadata": {},
   "outputs": [
    {
     "name": "stdout",
     "output_type": "stream",
     "text": [
      "55 03 00 00 00 00 03 aa\n"
     ]
    }
   ],
   "source": [
    "print(\" \".join(map(hex_num_only, [SOP_BYTE]+command+[checksum, EOP_BYTE])))"
   ]
  },
  {
   "cell_type": "markdown",
   "metadata": {},
   "source": [
    "### Debug mode on"
   ]
  },
  {
   "cell_type": "code",
   "execution_count": 124,
   "metadata": {
    "scrolled": true
   },
   "outputs": [
    {
     "data": {
      "text/plain": [
       "[85, 100, 0, 1, 0, 0, 101, 170]"
      ]
     },
     "execution_count": 124,
     "metadata": {},
     "output_type": "execute_result"
    }
   ],
   "source": [
    "command = [CMD_DEBUG, 0,1,0,0]\n",
    "checksum = int(np.sum(command)%0x100)\n",
    "[SOP_BYTE]+command+[checksum, EOP_BYTE]"
   ]
  },
  {
   "cell_type": "code",
   "execution_count": 125,
   "metadata": {},
   "outputs": [
    {
     "name": "stdout",
     "output_type": "stream",
     "text": [
      "55 64 00 01 00 00 65 aa\n"
     ]
    }
   ],
   "source": [
    "print(\" \".join(map(hex_num_only, [SOP_BYTE]+command+[checksum, EOP_BYTE])))"
   ]
  },
  {
   "cell_type": "markdown",
   "metadata": {},
   "source": [
    "### Debug mode off"
   ]
  },
  {
   "cell_type": "code",
   "execution_count": 114,
   "metadata": {
    "scrolled": true
   },
   "outputs": [
    {
     "data": {
      "text/plain": [
       "[85, 100, 0, 0, 0, 0, 100, 170]"
      ]
     },
     "execution_count": 114,
     "metadata": {},
     "output_type": "execute_result"
    }
   ],
   "source": [
    "command = [CMD_DEBUG, 0,0,0,0]\n",
    "checksum = int(np.sum(command)%0x100)\n",
    "[SOP_BYTE]+command+[checksum, EOP_BYTE]"
   ]
  },
  {
   "cell_type": "code",
   "execution_count": 115,
   "metadata": {},
   "outputs": [
    {
     "name": "stdout",
     "output_type": "stream",
     "text": [
      "55 64 00 00 00 00 64 aa\n"
     ]
    }
   ],
   "source": [
    "print(\" \".join(map(hex_num_only, [SOP_BYTE]+command+[checksum, EOP_BYTE])))"
   ]
  },
  {
   "cell_type": "code",
   "execution_count": null,
   "metadata": {},
   "outputs": [],
   "source": []
  }
 ],
 "metadata": {
  "kernelspec": {
   "display_name": "Python 2",
   "language": "python",
   "name": "python2"
  },
  "language_info": {
   "codemirror_mode": {
    "name": "ipython",
    "version": 2
   },
   "file_extension": ".py",
   "mimetype": "text/x-python",
   "name": "python",
   "nbconvert_exporter": "python",
   "pygments_lexer": "ipython2",
   "version": "2.7.17"
  }
 },
 "nbformat": 4,
 "nbformat_minor": 2
}
