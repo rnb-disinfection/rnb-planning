{
 "cells": [
  {
   "cell_type": "code",
   "execution_count": 1,
   "metadata": {},
   "outputs": [
    {
     "name": "stdout",
     "output_type": "stream",
     "text": [
      "Mobile IP: 192.168.17.2\n",
      "ROBOT  IP: 192.168.17.2\n",
      "PANDA  IP: 192.168.17.3\n"
     ]
    }
   ],
   "source": [
    "import os\n",
    "import sys\n",
    "sys.path.append(os.path.join(os.path.join(\n",
    "    os.environ[\"RNB_PLANNING_DIR\"], 'src')))\n",
    "sys.path.append(os.path.join(\n",
    "    os.environ[\"RNB_PLANNING_DIR\"], 'src/scripts/demo_202107'))\n",
    "\n",
    "CONNECT_MOBILE = False\n",
    "CONNECT_ROBOT = True\n",
    "SAVE_DATA = False\n",
    "\n",
    "MOBILE_IP = \"192.168.17.2\"\n",
    "ROBOT_IP = \"192.168.17.2\"\n",
    "PANDA_IP = \"192.168.17.3\"\n",
    "\n",
    "print(\"Mobile IP: {}\".format(MOBILE_IP))\n",
    "print(\"ROBOT  IP: {}\".format(ROBOT_IP))\n",
    "print(\"PANDA  IP: {}\".format(PANDA_IP))\n",
    "\n",
    "sys.path.append(os.path.join(\n",
    "    os.environ[\"RNB_PLANNING_DIR\"], 'src/scripts/developing/multiobject'))\n",
    "\n",
    "from concurrent import futures\n",
    "import logging\n",
    "import math\n",
    "import time\n",
    "import cv2\n",
    "import numpy as np\n",
    "import grpc\n",
    "import RemoteCam_pb2\n",
    "import RemoteCam_pb2_grpc\n",
    "\n",
    "MAX_MESSAGE_LENGTH = 10000000\n",
    "PORT_CAM = 10509"
   ]
  },
  {
   "cell_type": "code",
   "execution_count": 2,
   "metadata": {},
   "outputs": [],
   "source": [
    "from enum import Enum\n",
    "class ExpType(Enum):\n",
    "    REMOVE_OBS=0\n",
    "    CONTACT_TAR=1\n",
    "\n",
    "EXP_SCENARIO = ExpType.CONTACT_TAR"
   ]
  },
  {
   "cell_type": "code",
   "execution_count": 3,
   "metadata": {},
   "outputs": [
    {
     "name": "stdout",
     "output_type": "stream",
     "text": [
      "connection command:\n",
      "pmb0: False\n",
      "panda_arm1: True\n"
     ]
    }
   ],
   "source": [
    "ROBOT_BASE_OFFSET = (0.008,0,0.592)\n",
    "ROBOT_BASE_RPY = (0,0,0)\n",
    "TOOL_NAME = \"brush_face\"\n",
    "WALL_THICKNESS = 0.01\n",
    "CLEARANCE = 0.001\n",
    "WS_HEIGHT = 1.7\n",
    "COL_COLOR = (1,1,1,0.2)\n",
    "    \n",
    "if EXP_SCENARIO == ExpType.REMOVE_OBS: ## Obstacle removing\n",
    "    BAG_COUNT = 5\n",
    "    CLOCK_COUNT = 0\n",
    "    TARGET_COUNT = 5\n",
    "    LOG_FORCE = False\n",
    "else: ## Contact \n",
    "    BAG_COUNT = 3\n",
    "    CLOCK_COUNT = 3\n",
    "    TARGET_COUNT = 5\n",
    "    LOG_FORCE = True\n",
    "\n",
    "from pkg.controller.combined_robot import *\n",
    "from pkg.project_config import *\n",
    "\n",
    "kiro_udp_client.KIRO_UDP_OFFLINE_DEBUG = not CONNECT_MOBILE\n",
    "\n",
    "mobile_config = RobotConfig(0, RobotType.pmb, ((0,0,0), (0,0,0)), MOBILE_IP)\n",
    "robot_config = RobotConfig(1, RobotType.panda_arm, \n",
    "                           (ROBOT_BASE_OFFSET, ROBOT_BASE_RPY),\n",
    "                           \"{}/{}\".format(ROBOT_IP, PANDA_IP), root_on=\"pmb0_platform\")\n",
    "\n",
    "ROBOT_TYPE = robot_config.type\n",
    "MOBILE_NAME = mobile_config.get_indexed_name()\n",
    "ROBOT_NAME = robot_config.get_indexed_name()\n",
    "crob = CombinedRobot(robots_on_scene=[mobile_config, robot_config],\n",
    "                     connection_list=[CONNECT_MOBILE, CONNECT_ROBOT])"
   ]
  },
  {
   "cell_type": "code",
   "execution_count": null,
   "metadata": {},
   "outputs": [],
   "source": []
  },
  {
   "cell_type": "markdown",
   "metadata": {},
   "source": [
    "### Make scene"
   ]
  },
  {
   "cell_type": "code",
   "execution_count": 4,
   "metadata": {
    "scrolled": true
   },
   "outputs": [
    {
     "name": "stdout",
     "output_type": "stream",
     "text": [
      "Unable to register with master node [http://localhost:11311]: master may not be running yet. Will keep trying.\n",
      "Please create a subscriber to the marker\n",
      "publication OK\n",
      "published: [0, 0, 0, 0, 0, 0, 0, 0, 0, 0, 0, 0, 0]\n",
      "Please create a subscriber to the marker\n"
     ]
    }
   ],
   "source": [
    "from pkg.geometry.builder.scene_builder import SceneBuilder\n",
    "from pkg.planning.scene import PlanningScene\n",
    "\n",
    "s_builder = SceneBuilder(None)\n",
    "gscene = s_builder.create_gscene(crob)\n",
    "gtems = s_builder.add_robot_geometries(\n",
    "    color=COL_COLOR, display=True, collision=True)\n",
    "\n",
    "gscene.set_workspace_boundary(\n",
    "    -1, 4, -2.5, 2.5, -CLEARANCE, WS_HEIGHT, thickness=WALL_THICKNESS)\n",
    "\n",
    "HOME_POSE_DEFAULT = np.copy(crob.home_pose)\n",
    "gscene.show_pose(crob.home_pose)\n",
    "crob.simulator.gscene=gscene"
   ]
  },
  {
   "cell_type": "code",
   "execution_count": null,
   "metadata": {},
   "outputs": [],
   "source": []
  },
  {
   "cell_type": "markdown",
   "metadata": {},
   "source": [
    "### Planning scene"
   ]
  },
  {
   "cell_type": "code",
   "execution_count": 5,
   "metadata": {},
   "outputs": [],
   "source": [
    "from pkg.geometry.geometry import *\n",
    "from pkg.utils.code_scraps import *\n",
    "from pkg.planning.constraint.constraint_subject import *\n",
    "from pkg.planning.constraint.constraint_actor import *\n",
    "from exp_config import *\n",
    "\n",
    "pscene = PlanningScene(gscene, combined_robot=crob)"
   ]
  },
  {
   "cell_type": "code",
   "execution_count": 6,
   "metadata": {},
   "outputs": [],
   "source": [
    "ROBOT_BASE = pscene.robot_chain_dict[ROBOT_NAME]['link_names'][0]\n",
    "TIP_LINK = pscene.robot_chain_dict[ROBOT_NAME][\"tip_link\"]\n",
    "MOBILE_BASE = pscene.robot_chain_dict[MOBILE_NAME][\"tip_link\"]\n",
    "HOLD_LINK = MOBILE_BASE\n",
    "BRUSH_NAME = \"brush_face\"\n",
    "theta = -np.pi*3/4\n",
    "viewpoint  = add_panda_cam(gscene, tool_link=TIP_LINK, theta=theta)\n",
    "brush_face = add_panda_brush(gscene, tool_link=TIP_LINK, theta=theta, brush_name=BRUSH_NAME)\n",
    "\n",
    "point_brush, rpy_brush = (0,0,-brush_face.dims[2]/2), (0,0,0)\n",
    "brush_b = pscene.create_binder(BRUSH_NAME, BRUSH_NAME, WayFramer, point=point_brush, rpy=rpy_brush)\n",
    "gscene.show_pose(HOME_POSE_DEFAULT)\n",
    "\n",
    "MOBILE_PUSH_NAME = \"mpush\"\n",
    "MOBILE_PUSH_HEIGHT = 0.4\n",
    "MOBILE_PUSH_KEY = 1\n",
    "MOBILE_SLIDE_KEY = 2\n",
    "front_dist = 0.31\n",
    "mpush_g = gscene.create_safe(GEOTYPE.SPHERE, MOBILE_PUSH_NAME, link_name=HOLD_LINK,dims=(0.01,0.01,0.01),\n",
    "                           center=(front_dist, 0, MOBILE_PUSH_HEIGHT), rpy=(0,np.pi/2,0),\n",
    "                           fixed=True, collision=False, color=(1,0,0,0.5))\n",
    "mpush_b = pscene.create_binder(MOBILE_PUSH_NAME, MOBILE_PUSH_NAME, FramedTool, point=(0,0,0), rpy=(0,0,0), key=MOBILE_PUSH_KEY)\n",
    "\n",
    "floor_b = pscene.create_binder(\"floor_ws\", \"floor_ws\", PlaceFrame, point=(0,0,WALL_THICKNESS/2), key=MOBILE_SLIDE_KEY)\n",
    "\n",
    "TOOL_PUSH_NAME = \"tpush\"\n",
    "TOOL_PUSH_HEIGHT = 0.03\n",
    "TOOL_PUSH_KEY = 10\n",
    "TOOL_SLIDE_KEY = 11\n",
    "brush_col = gscene.NAME_DICT[BRUSH_NAME+\"_col\"]\n",
    "TOOL_DIM = brush_col.dims\n",
    "\n",
    "center_push, rpy_push = (TOOL_DIM[0]/2+CLEARANCE, 0, 0), (0,np.pi/2,0)    \n",
    "tpush_g = gscene.create_safe(GEOTYPE.SPHERE, TOOL_PUSH_NAME, link_name=TIP_LINK,dims=(0.01,0.01,0.01),\n",
    "                           center=center_push, rpy=rpy_push,\n",
    "                           fixed=True, collision=False, color=(1,0,0,0.5), parent=BRUSH_NAME)\n",
    "tpush_b = pscene.create_binder(TOOL_PUSH_NAME, TOOL_PUSH_NAME, FramedTool, point=(0,0,0), rpy=(0,0,0), key=TOOL_PUSH_KEY)"
   ]
  },
  {
   "cell_type": "code",
   "execution_count": null,
   "metadata": {},
   "outputs": [],
   "source": []
  },
  {
   "cell_type": "markdown",
   "metadata": {},
   "source": [
    "### MultiICP Detector"
   ]
  },
  {
   "cell_type": "code",
   "execution_count": 7,
   "metadata": {},
   "outputs": [],
   "source": [
    "from pkg.detector.multiICP.multiICP import MultiICP, MultiICP_Obj\n",
    "from pkg.detector.multiICP.config import *\n",
    "from pkg.detector.camera.realsense import RealSense\n",
    "from pkg.detector.detector_interface import DetectionLevel\n",
    "\n",
    "import open3d as o3d\n",
    "import numpy as np\n",
    "\n",
    "CONNECT_CAM = False\n",
    "REMOTE_CAM = True\n",
    "\n",
    "CARRIER_DIM = (0.4, 0.29, 0.635)\n",
    "CLOCK_DIM = (0.138, 0.05, 0.078)\n",
    "TABLE_DIM = (1.6, 0.8, 0.725)"
   ]
  },
  {
   "cell_type": "code",
   "execution_count": 8,
   "metadata": {},
   "outputs": [
    {
     "name": "stdout",
     "output_type": "stream",
     "text": [
      "Camera is not set - skip initialization, use remote camera\n",
      "request 0 -> response 0\n",
      "==== Received camera config from remote camera ====\n"
     ]
    }
   ],
   "source": [
    "from demo_utils.data_reconstructed_camera import DataRecontructedCamera\n",
    "dcam = DataRecontructedCamera(crob, viewpoint)\n",
    "# if not CONNECT_CAM and not REMOTE_CAM:\n",
    "#     dcam.initialize()\n",
    "\n",
    "if CONNECT_CAM:\n",
    "    realsense = RealSense()\n",
    "    micp = MultiICP(realsense)\n",
    "    micp.initialize()\n",
    "else:\n",
    "    if REMOTE_CAM:\n",
    "        # use remote camera\n",
    "        micp = MultiICP(None)\n",
    "        micp.initialize(remote_cam=REMOTE_CAM)\n",
    "#         dcam.ready_saving(*micp.get_camera_config())\n",
    "#         cam_pose = viewpoint.get_tf(VIEW_POSE_EXT)\n",
    "    else:\n",
    "        # use manually given camera configs\n",
    "        micp = MultiICP(None)\n",
    "        config_list, img_dim = load_pickle(RNB_PLANNING_DIR+\"release/multiICP_data/cam_configs.pkl\")\n",
    "        micp.initialize(config_list, img_dim)\n",
    "#         micp = MultiICP(dcam)\n",
    "#         micp.initialize()"
   ]
  },
  {
   "cell_type": "markdown",
   "metadata": {},
   "source": [
    "### Shared Detector"
   ]
  },
  {
   "cell_type": "code",
   "execution_count": 9,
   "metadata": {},
   "outputs": [],
   "source": [
    "from pkg.utils.shared_function import clear_channels_on, sa\n",
    "clear_channels_on(\"SharedDetector\")\n",
    "\n",
    "from pkg.detector.multiICP.shared_detector import SharedDetectorGen\n",
    "sd = SharedDetectorGen(tuple(reversed(micp.dsize))+(3,))()\n",
    "sd.init()"
   ]
  },
  {
   "cell_type": "code",
   "execution_count": null,
   "metadata": {},
   "outputs": [],
   "source": []
  },
  {
   "cell_type": "markdown",
   "metadata": {},
   "source": [
    "### Set ICP Config"
   ]
  },
  {
   "cell_type": "code",
   "execution_count": 10,
   "metadata": {},
   "outputs": [],
   "source": [
    "# Load config file of object information\n",
    "obj_info_dict = get_obj_info()"
   ]
  },
  {
   "cell_type": "code",
   "execution_count": 11,
   "metadata": {},
   "outputs": [],
   "source": [
    "micp_suitcase = MultiICP_Obj(obj_info_dict[\"suitcase\"], None,\n",
    "                        OffsetOnModelCoord(\"suitcase\", R=np.matmul(Rot_axis(1, 2*np.pi/3), Rot_axis(3, np.pi/2)), offset=(0.,0.,0.2)))\n",
    "\n",
    "\n",
    "micp_clock = MultiICP_Obj(obj_info_dict[\"clock\"], None,\n",
    "                        OffsetOnModelCoord(\"clock\", R=Rot_axis(1, np.pi/4), offset=(-0.04,-0.03,0.04)))\n",
    "\n",
    "\n",
    "micp_table = MultiICP_Obj(obj_info_dict[\"dining table\"], None,\n",
    "                        OffsetOnModelCoord(\"dining table\", R=Rot_axis(1, 3*np.pi/4), offset=(0.,0.35,0.6)))\n",
    "\n",
    "micp_chair = MultiICP_Obj(obj_info_dict[\"chair\"], None,\n",
    "                        OffsetOnModelCoord(\"chair\", R=Rot_axis(1, 3*np.pi/4), offset=(0.1, 0.1,0.)))"
   ]
  },
  {
   "cell_type": "code",
   "execution_count": 12,
   "metadata": {},
   "outputs": [],
   "source": [
    "micp_dict = {\"suitcase\": micp_suitcase, \"clock\": micp_clock,\n",
    "             \"dining table\": micp_table, \"chair\": micp_chair}\n",
    "micp.set_config(micp_dict, sd, crob, viewpoint)"
   ]
  },
  {
   "cell_type": "code",
   "execution_count": null,
   "metadata": {},
   "outputs": [],
   "source": []
  },
  {
   "cell_type": "markdown",
   "metadata": {},
   "source": [
    "## Table"
   ]
  },
  {
   "cell_type": "code",
   "execution_count": 13,
   "metadata": {},
   "outputs": [],
   "source": [
    "VIEW_LOC = crob.get_real_robot_pose()[:6]\n",
    "VIEW_ARM = HOME_POSE_DEFAULT[6:] + np.deg2rad([0,0,0,0,0,45,-45])\n",
    "VIEW_TABLE = list(VIEW_LOC) + list(VIEW_ARM)\n",
    "crob.joint_move_make_sure(np.array(VIEW_TABLE), ref_speed=np.pi/8)"
   ]
  },
  {
   "cell_type": "code",
   "execution_count": 14,
   "metadata": {},
   "outputs": [],
   "source": [
    "TABLE_DIM = (1.6, 0.8, 0.725)\n",
    "TABLE_NAME = \"table\"\n",
    "TABLE_LOC = (3, 0, TABLE_DIM[2]/2)\n",
    "TABLE_RPY = (0,0,0)"
   ]
  },
  {
   "cell_type": "code",
   "execution_count": 16,
   "metadata": {
    "scrolled": true
   },
   "outputs": [
    {
     "name": "stdout",
     "output_type": "stream",
     "text": [
      "name_mask is ['dining table']\n",
      "request 0 -> response 0\n",
      "==== Received color, depth image from remote camera ====\n",
      "Maximun num of object for detection : 1\n",
      "===== Detected : dining table, 1 object(s) =====\n",
      "[NOTICE] You choose merge option for mask. Detected masks would be merged.\n",
      "\n",
      "'dining table' is not in gscene. Use manual input for initial guess\n",
      "\n",
      "Apply point-to-point ICP\n",
      "registration::RegistrationResult with fitness=9.833541e-01, inlier_rmse=1.861722e-01, and correspondence_set size of 2363\n",
      "Access transformation to get result.\n",
      "Transformation is:\n",
      "[[ 0.84025404  0.50203524 -0.20477733  0.76759925]\n",
      " [ 0.13032685 -0.55362304 -0.82250618  0.189242  ]\n",
      " [-0.52629656  0.66442615 -0.53061266  3.39694507]\n",
      " [ 0.          0.          0.          1.        ]]\n",
      "Total ICP Transformation is:\n",
      "[[ 0.84025404  0.50203524 -0.20477733  0.76759925]\n",
      " [ 0.13032685 -0.55362304 -0.82250618  0.189242  ]\n",
      " [-0.52629656  0.66442615 -0.53061266  3.39694507]\n",
      " [ 0.          0.          0.          1.        ]]\n",
      "initial: \n",
      "[[ 0.84  0.5  -0.2   0.77]\n",
      " [ 0.13 -0.55 -0.82  0.19]\n",
      " [-0.53  0.66 -0.53  3.4 ]\n",
      " [ 0.    0.    0.    1.  ]]\n",
      "Apply point-to-point ICP\n",
      "registration::RegistrationResult with fitness=7.943038e-01, inlier_rmse=8.288068e-02, and correspondence_set size of 753\n",
      "Access transformation to get result.\n",
      "Transformation is:\n",
      "[[ 0.83383516  0.54863027 -0.06102249  0.73726814]\n",
      " [ 0.1650355  -0.35325305 -0.92085587  0.32551907]\n",
      " [-0.5267658   0.75777113 -0.38509828  3.34590975]\n",
      " [ 0.          0.          0.          1.        ]]\n",
      "Total ICP Transformation is:\n",
      "[[ 0.83383516  0.54863027 -0.06102249  0.73726814]\n",
      " [ 0.1650355  -0.35325305 -0.92085587  0.32551907]\n",
      " [-0.5267658   0.75777113 -0.38509828  3.34590975]\n",
      " [ 0.          0.          0.          1.        ]]\n",
      "result: \n",
      "[[ 0.83  0.55 -0.06  0.74]\n",
      " [ 0.17 -0.35 -0.92  0.33]\n",
      " [-0.53  0.76 -0.39  3.35]\n",
      " [ 0.    0.    0.    1.  ]]\n",
      "Found 6DoF pose of dining table_1\n"
     ]
    }
   ],
   "source": [
    "# for dining table\n",
    "micp.set_ICP_thres(thres_ICP=0.6, thres_front_ICP=0.18)\n",
    "# micp.set_multiobject_num(num = 1)\n",
    "micp.set_merge_mask(merge=True)\n",
    "pose_dict = micp.detect(name_mask=[\"dining table\"], visualize=True)"
   ]
  },
  {
   "cell_type": "code",
   "execution_count": 17,
   "metadata": {},
   "outputs": [],
   "source": [
    "# add table\n",
    "center, rpy = pose_refine(\"dining table\", pose_dict[\"dining table_1\"])\n",
    "table_vis, table_g = add_table(gscene, TABLE_NAME, center, rpy)"
   ]
  },
  {
   "cell_type": "code",
   "execution_count": 18,
   "metadata": {},
   "outputs": [],
   "source": [
    "# table_g = gscene.create_safe(GEOTYPE.BOX, TABLE_NAME, link_name=\"base_link\", dims=TABLE_DIM,\n",
    "#                              center=TABLE_LOC, rpy=TABLE_RPY,\n",
    "#                              fixed=True, collision=True, color=(0.8,0.8,0.8,1))\n",
    "table_b = pscene.create_binder(TABLE_NAME, TABLE_NAME, PlaceFrame, point=(0,0,TABLE_DIM[2]/2), key=TOOL_SLIDE_KEY)\n",
    "gscene.add_virtual_guardrail(table_g, HEIGHT=0.01, axis=\"xy\")"
   ]
  },
  {
   "cell_type": "markdown",
   "metadata": {},
   "source": [
    "### update workspace"
   ]
  },
  {
   "cell_type": "code",
   "execution_count": 19,
   "metadata": {},
   "outputs": [],
   "source": [
    "Tbt = table_g.get_tf(HOME_POSE_DEFAULT)\n",
    "Tbm = gscene.get_tf(MOBILE_BASE, HOME_POSE_DEFAULT)\n",
    "Ttm = np.matmul(np.linalg.inv(Tbt), Tbm)\n",
    "\n",
    "Ymax = table_g.dims[1]/2\n",
    "Ymin = Ttm[1,3]-1.0\n",
    "Xmax = Ttm[0,3]+1.0\n",
    "Xmin = -table_g.dims[0]/2-1.0\n",
    "Xtc = np.mean([Xmax, Xmin])\n",
    "Ytc = np.mean([Ymax, Ymin])\n",
    "dX = Xmax - Xmin\n",
    "dY = Ymax - Ymin\n",
    "Xbc, Ybc, _, _ = np.matmul(Tbt, [Xtc, Ytc, 0, 1])\n",
    "Xmax, Xmin = Xbc + dX/2, Xbc - dX/2\n",
    "Ymax, Ymin = Ybc + dY/2, Ybc - dY/2\n",
    "\n",
    "gscene.set_workspace_boundary(\n",
    "    Xmin, Xmax, Ymin, Ymax, -CLEARANCE, WS_HEIGHT, thickness=WALL_THICKNESS, \n",
    "    RPY=Rot2rpy(Tbt[:3,:3]))"
   ]
  },
  {
   "cell_type": "markdown",
   "metadata": {},
   "source": [
    "#### [SAVE DATA]"
   ]
  },
  {
   "cell_type": "code",
   "execution_count": 20,
   "metadata": {},
   "outputs": [
    {
     "name": "stdout",
     "output_type": "stream",
     "text": [
      "request 0 -> response 0\n",
      "==== Received color, depth image from remote camera ====\n"
     ]
    }
   ],
   "source": [
    "if SAVE_DATA:\n",
    "    color, depth, Qcur = micp.get_image()\n",
    "    cam_pose = viewpoint.get_tf(Qcur)\n",
    "    dcam.ready_saving(*micp.get_camera_config())\n",
    "    dcam.save_scene(color, depth, cam_pose)"
   ]
  },
  {
   "cell_type": "code",
   "execution_count": null,
   "metadata": {},
   "outputs": [],
   "source": []
  },
  {
   "cell_type": "markdown",
   "metadata": {},
   "source": [
    "### Chair"
   ]
  },
  {
   "cell_type": "code",
   "execution_count": null,
   "metadata": {},
   "outputs": [],
   "source": [
    "panda_arm1 = crob.robot_dict[\"panda_arm1\"]\n",
    "for theta0 in [-30, 0, 30]:\n",
    "    VIEW_LOC = crob.get_real_robot_pose()[:6]\n",
    "#     VIEW_ARM = HOME_POSE_DEFAULT[6:] + np.deg2rad([theta0,-45,0,-70,0,70,-45])\n",
    "    VIEW_ARM = HOME_POSE_DEFAULT[6:] + np.deg2rad([theta0,-50,0,-60,0,55,-45])\n",
    "    VIEW_CHAIR = list(VIEW_LOC) + list(VIEW_ARM)\n",
    "    \n",
    "    crob.joint_move_make_sure(np.array(VIEW_CHAIR), ref_speed=np.pi/8)\n",
    "    \n",
    "    # for chair\n",
    "    micp.set_ICP_thres(thres_ICP=0.3, thres_front_ICP=0.08)\n",
    "    micp.set_multiobject_num(num = 5)\n",
    "    # micp.set_merge_mask(merge=True)\n",
    "    pose_dict = micp.detect(name_mask=[\"chair\"], visualize=True)\n",
    "    \n",
    "    # add or update suitcase\n",
    "    add_update_object(gscene, crob, \"chair\", pose_dict, separate_dist=0.28, height = 0)\n",
    "    # save data\n",
    "    if SAVE_DATA:\n",
    "        color, depth, Qcur = micp.get_image()\n",
    "        cam_pose = viewpoint.get_tf(Qcur)\n",
    "        dcam.ready_saving(*micp.get_camera_config())\n",
    "        dcam.save_scene(color, depth, cam_pose)"
   ]
  },
  {
   "cell_type": "code",
   "execution_count": 142,
   "metadata": {},
   "outputs": [],
   "source": [
    "for i in range(4):\n",
    "    gscene.remove(gscene.NAME_DICT[\"chair_{}\".format(i)])"
   ]
  },
  {
   "cell_type": "code",
   "execution_count": 123,
   "metadata": {},
   "outputs": [],
   "source": [
    "VIEW_LOC = crob.get_real_robot_pose()[:6]\n",
    "#     VIEW_ARM = HOME_POSE_DEFAULT[6:] + np.deg2rad([theta0,-45,0,-70,0,70,-45])\n",
    "VIEW_ARM = HOME_POSE_DEFAULT[6:] + np.deg2rad([0,-55,0,-65,0,55,-45])\n",
    "VIEW_CHAIR = list(VIEW_LOC) + list(VIEW_ARM)\n",
    "\n",
    "crob.joint_move_make_sure(np.array(VIEW_CHAIR), ref_speed=np.pi/8)"
   ]
  },
  {
   "cell_type": "code",
   "execution_count": 143,
   "metadata": {},
   "outputs": [
    {
     "name": "stdout",
     "output_type": "stream",
     "text": [
      "request 0 -> response 0\n",
      "==== Received color, depth image from remote camera ====\n"
     ]
    },
    {
     "data": {
      "text/plain": [
       "<matplotlib.image.AxesImage at 0x7f40740ed450>"
      ]
     },
     "execution_count": 143,
     "metadata": {},
     "output_type": "execute_result"
    },
    {
     "data": {
      "image/png": "[encoded data removed]",
      "text/plain": [
       "<Figure size 432x288 with 1 Axes>"
      ]
     },
     "metadata": {
      "needs_background": "light"
     },
     "output_type": "display_data"
    }
   ],
   "source": [
    "color, depth, Q = micp.get_image()\n",
    "mask_list = micp.inference(color)\n",
    "plt.imshow(mask_list[56])"
   ]
  },
  {
   "cell_type": "code",
   "execution_count": 144,
   "metadata": {},
   "outputs": [
    {
     "data": {
      "text/plain": [
       "<matplotlib.image.AxesImage at 0x7f407406b090>"
      ]
     },
     "execution_count": 144,
     "metadata": {},
     "output_type": "execute_result"
    },
    {
     "data": {
      "image/png": "[encoded data removed]",
      "text/plain": [
       "<Figure size 432x288 with 1 Axes>"
      ]
     },
     "metadata": {
      "needs_background": "light"
     },
     "output_type": "display_data"
    }
   ],
   "source": [
    "plt.imshow(color[:,:,[2,1,0]])"
   ]
  },
  {
   "cell_type": "code",
   "execution_count": 145,
   "metadata": {},
   "outputs": [
    {
     "data": {
      "text/plain": [
       "<matplotlib.image.AxesImage at 0x7f4073fd9c10>"
      ]
     },
     "execution_count": 145,
     "metadata": {},
     "output_type": "execute_result"
    },
    {
     "data": {
      "image/png": "[encoded data removed]",
      "text/plain": [
       "<Figure size 432x288 with 1 Axes>"
      ]
     },
     "metadata": {
      "needs_background": "light"
     },
     "output_type": "display_data"
    }
   ],
   "source": [
    "plt.imshow(depth)"
   ]
  },
  {
   "cell_type": "code",
   "execution_count": 146,
   "metadata": {
    "scrolled": true
   },
   "outputs": [
    {
     "name": "stdout",
     "output_type": "stream",
     "text": [
      "name_mask is ['chair']\n",
      "request 0 -> response 0\n",
      "==== Received color, depth image from remote camera ====\n",
      "Maximun num of object for detection : 5\n",
      "===== Detected : chair, 5 object(s) =====\n",
      "\n",
      "'chair' is not in gscene. Use manual input for initial guess\n",
      "\n",
      "Apply point-to-point ICP\n",
      "registration::RegistrationResult with fitness=1.000000e+00, inlier_rmse=1.046392e-01, and correspondence_set size of 1054\n",
      "Access transformation to get result.\n",
      "Transformation is:\n",
      "[[ 0.86705371 -0.47986569 -0.13396554  1.01419897]\n",
      " [-0.44625136 -0.62845399 -0.63710696 -0.100376  ]\n",
      " [ 0.22153461  0.61218826 -0.75904408  3.32764112]\n",
      " [ 0.          0.          0.          1.        ]]\n",
      "Total ICP Transformation is:\n",
      "[[ 0.86705371 -0.47986569 -0.13396554  1.01419897]\n",
      " [-0.44625136 -0.62845399 -0.63710696 -0.100376  ]\n",
      " [ 0.22153461  0.61218826 -0.75904408  3.32764112]\n",
      " [ 0.          0.          0.          1.        ]]\n",
      "initial: \n",
      "[[ 0.87 -0.48 -0.13  1.01]\n",
      " [-0.45 -0.63 -0.64 -0.1 ]\n",
      " [ 0.22  0.61 -0.76  3.33]\n",
      " [ 0.    0.    0.    1.  ]]\n",
      "Apply point-to-point ICP\n",
      "registration::RegistrationResult with fitness=4.771084e-01, inlier_rmse=4.687796e-02, and correspondence_set size of 198\n",
      "Access transformation to get result.\n",
      "Transformation is:\n",
      "[[ 0.82488542 -0.5420249  -0.16053985  0.97532776]\n",
      " [-0.53407957 -0.65416964 -0.53555679 -0.15978595]\n",
      " [ 0.18526482  0.52751404 -0.82909942  3.36984482]\n",
      " [ 0.          0.          0.          1.        ]]\n",
      "Total ICP Transformation is:\n",
      "[[ 0.82488542 -0.5420249  -0.16053985  0.97532776]\n",
      " [-0.53407957 -0.65416964 -0.53555679 -0.15978595]\n",
      " [ 0.18526482  0.52751404 -0.82909942  3.36984482]\n",
      " [ 0.          0.          0.          1.        ]]\n",
      "result: \n",
      "[[ 0.82 -0.54 -0.16  0.98]\n",
      " [-0.53 -0.65 -0.54 -0.16]\n",
      " [ 0.19  0.53 -0.83  3.37]\n",
      " [ 0.    0.    0.    1.  ]]\n",
      "Found 6DoF pose of chair_1\n",
      "[WARN] Not obtained point cloud of object\n",
      "\n",
      "'chair' is not in gscene. Use manual input for initial guess\n",
      "\n",
      "Apply point-to-point ICP\n",
      "registration::RegistrationResult with fitness=1.000000e+00, inlier_rmse=5.924441e-02, and correspondence_set size of 16266\n",
      "Access transformation to get result.\n",
      "Transformation is:\n",
      "[[ 0.5436001  -0.83285136 -0.10419937  0.75768984]\n",
      " [-0.44854557 -0.18332237 -0.87475697  0.6358644 ]\n",
      " [ 0.70944048  0.52225615 -0.47322585  1.89564923]\n",
      " [ 0.          0.          0.          1.        ]]\n",
      "Total ICP Transformation is:\n",
      "[[ 0.5436001  -0.83285136 -0.10419937  0.75768984]\n",
      " [-0.44854557 -0.18332237 -0.87475697  0.6358644 ]\n",
      " [ 0.70944048  0.52225615 -0.47322585  1.89564923]\n",
      " [ 0.          0.          0.          1.        ]]\n",
      "initial: \n",
      "[[ 0.54 -0.83 -0.1   0.76]\n",
      " [-0.45 -0.18 -0.87  0.64]\n",
      " [ 0.71  0.52 -0.47  1.9 ]\n",
      " [ 0.    0.    0.    1.  ]]\n",
      "Apply point-to-point ICP\n",
      "registration::RegistrationResult with fitness=8.921846e-01, inlier_rmse=2.450148e-02, and correspondence_set size of 5354\n",
      "Access transformation to get result.\n",
      "Transformation is:\n",
      "[[ 0.56609888 -0.82140283 -0.06949407  0.7513626 ]\n",
      " [-0.39835328 -0.19878194 -0.89543307  0.62311504]\n",
      " [ 0.72169711  0.53458684 -0.43973875  1.88471726]\n",
      " [ 0.          0.          0.          1.        ]]\n",
      "Total ICP Transformation is:\n",
      "[[ 0.56609888 -0.82140283 -0.06949407  0.7513626 ]\n",
      " [-0.39835328 -0.19878194 -0.89543307  0.62311504]\n",
      " [ 0.72169711  0.53458684 -0.43973875  1.88471726]\n",
      " [ 0.          0.          0.          1.        ]]\n",
      "result: \n",
      "[[ 0.57 -0.82 -0.07  0.75]\n",
      " [-0.4  -0.2  -0.9   0.62]\n",
      " [ 0.72  0.53 -0.44  1.88]\n",
      " [ 0.    0.    0.    1.  ]]\n",
      "Found 6DoF pose of chair_3\n",
      "\n",
      "'chair' is not in gscene. Use manual input for initial guess\n",
      "\n",
      "Apply point-to-point ICP\n",
      "registration::RegistrationResult with fitness=1.000000e+00, inlier_rmse=9.257593e-02, and correspondence_set size of 1597\n",
      "Access transformation to get result.\n",
      "Transformation is:\n",
      "[[ 0.86827977 -0.49581168  0.01615583 -0.3845292 ]\n",
      " [-0.26825539 -0.49667329 -0.8254421   0.06192406]\n",
      " [ 0.41728802  0.71238078 -0.56425553  3.22686222]\n",
      " [ 0.          0.          0.          1.        ]]\n",
      "Total ICP Transformation is:\n",
      "[[ 0.86827977 -0.49581168  0.01615583 -0.3845292 ]\n",
      " [-0.26825539 -0.49667329 -0.8254421   0.06192406]\n",
      " [ 0.41728802  0.71238078 -0.56425553  3.22686222]\n",
      " [ 0.          0.          0.          1.        ]]\n",
      "initial: \n",
      "[[ 0.87 -0.5   0.02 -0.38]\n",
      " [-0.27 -0.5  -0.83  0.06]\n",
      " [ 0.42  0.71 -0.56  3.23]\n",
      " [ 0.    0.    0.    1.  ]]\n",
      "Apply point-to-point ICP\n",
      "registration::RegistrationResult with fitness=6.759124e-01, inlier_rmse=4.275314e-02, and correspondence_set size of 463\n",
      "Access transformation to get result.\n",
      "Transformation is:\n",
      "[[ 0.92601582 -0.37079883  0.07073141 -0.43200741]\n",
      " [-0.18393447 -0.60684848 -0.77324187  0.01696866]\n",
      " [ 0.32964044  0.70302426 -0.63015398  3.31885166]\n",
      " [ 0.          0.          0.          1.        ]]\n",
      "Total ICP Transformation is:\n",
      "[[ 0.92601582 -0.37079883  0.07073141 -0.43200741]\n",
      " [-0.18393447 -0.60684848 -0.77324187  0.01696866]\n",
      " [ 0.32964044  0.70302426 -0.63015398  3.31885166]\n",
      " [ 0.          0.          0.          1.        ]]\n",
      "result: \n",
      "[[ 0.93 -0.37  0.07 -0.43]\n",
      " [-0.18 -0.61 -0.77  0.02]\n",
      " [ 0.33  0.7  -0.63  3.32]\n",
      " [ 0.    0.    0.    1.  ]]\n",
      "Found 6DoF pose of chair_4\n",
      "\n",
      "'chair' is not in gscene. Use manual input for initial guess\n",
      "\n",
      "Apply point-to-point ICP\n",
      "registration::RegistrationResult with fitness=1.000000e+00, inlier_rmse=4.320458e-02, and correspondence_set size of 10056\n",
      "Access transformation to get result.\n",
      "Transformation is:\n",
      "[[ 0.9911921  -0.12150978 -0.0526649   0.24798209]\n",
      " [-0.11362468 -0.57601501 -0.80950362  0.23283373]\n",
      " [ 0.06802683  0.80835762 -0.58474804  2.76466452]\n",
      " [ 0.          0.          0.          1.        ]]\n",
      "Total ICP Transformation is:\n",
      "[[ 0.9911921  -0.12150978 -0.0526649   0.24798209]\n",
      " [-0.11362468 -0.57601501 -0.80950362  0.23283373]\n",
      " [ 0.06802683  0.80835762 -0.58474804  2.76466452]\n",
      " [ 0.          0.          0.          1.        ]]\n",
      "initial: \n",
      "[[ 0.99 -0.12 -0.05  0.25]\n",
      " [-0.11 -0.58 -0.81  0.23]\n",
      " [ 0.07  0.81 -0.58  2.76]\n",
      " [ 0.    0.    0.    1.  ]]\n",
      "Apply point-to-point ICP\n",
      "registration::RegistrationResult with fitness=9.762746e-01, inlier_rmse=2.778524e-02, and correspondence_set size of 3868\n",
      "Access transformation to get result.\n",
      "Transformation is:\n",
      "[[ 0.99599658 -0.06219195 -0.06421046  0.2626682 ]\n",
      " [-0.08830382 -0.5728027  -0.81492298  0.23224238]\n",
      " [ 0.01390172  0.81733053 -0.57600131  2.76317806]\n",
      " [ 0.          0.          0.          1.        ]]\n",
      "Total ICP Transformation is:\n",
      "[[ 0.99599658 -0.06219195 -0.06421046  0.2626682 ]\n",
      " [-0.08830382 -0.5728027  -0.81492298  0.23224238]\n",
      " [ 0.01390172  0.81733053 -0.57600131  2.76317806]\n",
      " [ 0.          0.          0.          1.        ]]\n",
      "result: \n",
      "[[ 1.   -0.06 -0.06  0.26]\n",
      " [-0.09 -0.57 -0.81  0.23]\n",
      " [ 0.01  0.82 -0.58  2.76]\n",
      " [ 0.    0.    0.    1.  ]]\n",
      "Found 6DoF pose of chair_5\n"
     ]
    }
   ],
   "source": [
    "# for chair\n",
    "micp.set_ICP_thres(thres_ICP=0.3, thres_front_ICP=0.08)\n",
    "micp.set_pcd_ratio(ratio=1)\n",
    "micp.set_multiobject_num(num = 5)\n",
    "micp.set_outlier_removal(nb_points=18, radius=0.05)\n",
    "# micp.set_merge_mask(merge=True)\n",
    "pose_dict = micp.detect(name_mask=[\"chair\"], visualize=True)"
   ]
  },
  {
   "cell_type": "code",
   "execution_count": 147,
   "metadata": {},
   "outputs": [
    {
     "name": "stdout",
     "output_type": "stream",
     "text": [
      "Total 0 chair in the scene\n",
      "Add new chair in the scene\n",
      "Add new chair in the scene\n",
      "Add new chair in the scene\n",
      "Add new chair in the scene\n"
     ]
    }
   ],
   "source": [
    "add_update_object(gscene, crob, \"chair\", pose_dict, separate_dist=0.28, height = 0)"
   ]
  },
  {
   "cell_type": "code",
   "execution_count": null,
   "metadata": {},
   "outputs": [],
   "source": []
  },
  {
   "cell_type": "markdown",
   "metadata": {},
   "source": [
    "## Bag"
   ]
  },
  {
   "cell_type": "code",
   "execution_count": 22,
   "metadata": {
    "scrolled": true
   },
   "outputs": [
    {
     "name": "stdout",
     "output_type": "stream",
     "text": [
      "name_mask is ['suitcase']\n",
      "request 0 -> response 0\n",
      "==== Received color, depth image from remote camera ====\n",
      "Maximun num of object for detection : 5\n",
      "===== Detected : suitcase, 1 object(s) =====\n",
      "\n",
      "'suitcase' is not in gscene. Use manual input for initial guess\n",
      "\n",
      "Apply point-to-point ICP\n",
      "registration::RegistrationResult with fitness=9.126059e-01, inlier_rmse=6.396882e-02, and correspondence_set size of 5169\n",
      "Access transformation to get result.\n",
      "Transformation is:\n",
      "[[-0.40725662 -0.90416711 -0.12893362  0.21923259]\n",
      " [-0.28363992  0.25940228 -0.92317867  0.34496284]\n",
      " [ 0.86815346 -0.3393999  -0.36210119  1.73774559]\n",
      " [ 0.          0.          0.          1.        ]]\n",
      "Total ICP Transformation is:\n",
      "[[-0.40725662 -0.90416711 -0.12893362  0.21923259]\n",
      " [-0.28363992  0.25940228 -0.92317867  0.34496284]\n",
      " [ 0.86815346 -0.3393999  -0.36210119  1.73774559]\n",
      " [ 0.          0.          0.          1.        ]]\n",
      "initial: \n",
      "[[-0.41 -0.9  -0.13  0.22]\n",
      " [-0.28  0.26 -0.92  0.34]\n",
      " [ 0.87 -0.34 -0.36  1.74]\n",
      " [ 0.    0.    0.    1.  ]]\n",
      "Apply point-to-point ICP\n",
      "registration::RegistrationResult with fitness=9.804860e-01, inlier_rmse=1.133262e-02, and correspondence_set size of 2663\n",
      "Access transformation to get result.\n",
      "Transformation is:\n",
      "[[-0.21163278 -0.97154929 -0.10631816  0.24369722]\n",
      " [-0.4103368   0.18705617 -0.89254339  0.35325815]\n",
      " [ 0.88703736 -0.14526518 -0.43824965  1.80734034]\n",
      " [ 0.          0.          0.          1.        ]]\n",
      "Total ICP Transformation is:\n",
      "[[-0.21163278 -0.97154929 -0.10631816  0.24369722]\n",
      " [-0.4103368   0.18705617 -0.89254339  0.35325815]\n",
      " [ 0.88703736 -0.14526518 -0.43824965  1.80734034]\n",
      " [ 0.          0.          0.          1.        ]]\n",
      "result: \n",
      "[[-0.21 -0.97 -0.11  0.24]\n",
      " [-0.41  0.19 -0.89  0.35]\n",
      " [ 0.89 -0.15 -0.44  1.81]\n",
      " [ 0.    0.    0.    1.  ]]\n",
      "Found 6DoF pose of suitcase_1\n",
      "Total 0 suitcase in the scene\n",
      "Add new suitcase in the scene\n",
      "request 0 -> response 0\n",
      "==== Received color, depth image from remote camera ====\n",
      "name_mask is ['suitcase']\n",
      "request 0 -> response 0\n",
      "==== Received color, depth image from remote camera ====\n",
      "Maximun num of object for detection : 5\n",
      "===== Detected : suitcase, 3 object(s) =====\n",
      "\n",
      "'suitcase' is not in gscene. Use manual input for initial guess\n",
      "\n",
      "Apply point-to-point ICP\n",
      "registration::RegistrationResult with fitness=9.146067e-01, inlier_rmse=9.558437e-02, and correspondence_set size of 1628\n",
      "Access transformation to get result.\n",
      "Transformation is:\n",
      "[[ 0.99944843  0.02111471  0.02563194 -0.36075343]\n",
      " [ 0.03152527 -0.36061248 -0.93218281 -0.04075076]\n",
      " [-0.01043958  0.93247671 -0.36107922  2.69353534]\n",
      " [ 0.          0.          0.          1.        ]]\n",
      "Total ICP Transformation is:\n",
      "[[ 0.99944843  0.02111471  0.02563194 -0.36075343]\n",
      " [ 0.03152527 -0.36061248 -0.93218281 -0.04075076]\n",
      " [-0.01043958  0.93247671 -0.36107922  2.69353534]\n",
      " [ 0.          0.          0.          1.        ]]\n",
      "initial: \n",
      "[[ 1.    0.02  0.03 -0.36]\n",
      " [ 0.03 -0.36 -0.93 -0.04]\n",
      " [-0.01  0.93 -0.36  2.69]\n",
      " [ 0.    0.    0.    1.  ]]\n",
      "Apply point-to-point ICP\n",
      "registration::RegistrationResult with fitness=6.701389e-01, inlier_rmse=2.268994e-02, and correspondence_set size of 579\n",
      "Access transformation to get result.\n",
      "Transformation is:\n",
      "[[ 0.90153394  0.42406021 -0.0860784  -0.36101977]\n",
      " [ 0.09305576 -0.3842786  -0.91851542 -0.07271613]\n",
      " [-0.42258393  0.82006274 -0.38590145  2.78612322]\n",
      " [ 0.          0.          0.          1.        ]]\n",
      "Total ICP Transformation is:\n",
      "[[ 0.90153394  0.42406021 -0.0860784  -0.36101977]\n",
      " [ 0.09305576 -0.3842786  -0.91851542 -0.07271613]\n",
      " [-0.42258393  0.82006274 -0.38590145  2.78612322]\n",
      " [ 0.          0.          0.          1.        ]]\n",
      "result: \n",
      "[[ 0.9   0.42 -0.09 -0.36]\n",
      " [ 0.09 -0.38 -0.92 -0.07]\n",
      " [-0.42  0.82 -0.39  2.79]\n",
      " [ 0.    0.    0.    1.  ]]\n",
      "Found 6DoF pose of suitcase_1\n",
      "\n",
      "'suitcase' is not in gscene. Use manual input for initial guess\n",
      "\n",
      "Apply point-to-point ICP\n",
      "registration::RegistrationResult with fitness=9.255536e-01, inlier_rmse=6.662910e-02, and correspondence_set size of 6353\n",
      "Access transformation to get result.\n",
      "Transformation is:\n",
      "[[-0.91310922 -0.39493513 -0.10128075 -0.03560595]\n",
      " [-0.04712606  0.34897986 -0.93594455  0.38065283]\n",
      " [ 0.40498232 -0.84984663 -0.33726846  1.70099282]\n",
      " [ 0.          0.          0.          1.        ]]\n",
      "Total ICP Transformation is:\n",
      "[[-0.91310922 -0.39493513 -0.10128075 -0.03560595]\n",
      " [-0.04712606  0.34897986 -0.93594455  0.38065283]\n",
      " [ 0.40498232 -0.84984663 -0.33726846  1.70099282]\n",
      " [ 0.          0.          0.          1.        ]]\n",
      "initial: \n",
      "[[-0.91 -0.39 -0.1  -0.04]\n",
      " [-0.05  0.35 -0.94  0.38]\n",
      " [ 0.4  -0.85 -0.34  1.7 ]\n",
      " [ 0.    0.    0.    1.  ]]\n",
      "Apply point-to-point ICP\n",
      "registration::RegistrationResult with fitness=9.816861e-01, inlier_rmse=1.111963e-02, and correspondence_set size of 3109\n",
      "Access transformation to get result.\n",
      "Transformation is:\n",
      "[[-0.79422971 -0.60114568 -0.08844794 -0.03883592]\n",
      " [-0.20116428  0.39750145 -0.89527958  0.39034655]\n",
      " [ 0.57335164 -0.69326508 -0.43663649  1.78130122]\n",
      " [ 0.          0.          0.          1.        ]]\n",
      "Total ICP Transformation is:\n",
      "[[-0.79422971 -0.60114568 -0.08844794 -0.03883592]\n",
      " [-0.20116428  0.39750145 -0.89527958  0.39034655]\n",
      " [ 0.57335164 -0.69326508 -0.43663649  1.78130122]\n",
      " [ 0.          0.          0.          1.        ]]\n",
      "result: \n",
      "[[-0.79 -0.6  -0.09 -0.04]\n",
      " [-0.2   0.4  -0.9   0.39]\n",
      " [ 0.57 -0.69 -0.44  1.78]\n",
      " [ 0.    0.    0.    1.  ]]\n",
      "Found 6DoF pose of suitcase_2\n",
      "\n",
      "'suitcase' is not in gscene. Use manual input for initial guess\n",
      "\n",
      "Apply point-to-point ICP\n",
      "registration::RegistrationResult with fitness=9.978382e-01, inlier_rmse=8.793221e-02, and correspondence_set size of 3231\n",
      "Access transformation to get result.\n",
      "Transformation is:\n",
      "[[ 0.93096525 -0.35031917 -0.10286003 -1.18900096]\n",
      " [-0.227213   -0.3353648  -0.91427824  0.13693128]\n",
      " [ 0.28579356  0.87453241 -0.39181004  2.58627243]\n",
      " [ 0.          0.          0.          1.        ]]\n",
      "Total ICP Transformation is:\n",
      "[[ 0.93096525 -0.35031917 -0.10286003 -1.18900096]\n",
      " [-0.227213   -0.3353648  -0.91427824  0.13693128]\n",
      " [ 0.28579356  0.87453241 -0.39181004  2.58627243]\n",
      " [ 0.          0.          0.          1.        ]]\n",
      "initial: \n",
      "[[ 0.93 -0.35 -0.1  -1.19]\n",
      " [-0.23 -0.34 -0.91  0.14]\n",
      " [ 0.29  0.87 -0.39  2.59]\n",
      " [ 0.    0.    0.    1.  ]]\n",
      "Apply point-to-point ICP\n",
      "registration::RegistrationResult with fitness=9.104762e-01, inlier_rmse=2.215997e-02, and correspondence_set size of 1434\n",
      "Access transformation to get result.\n",
      "Transformation is:\n",
      "[[ 0.99641941 -0.03424424 -0.07730263 -1.23868401]\n",
      " [-0.08441574 -0.45406778 -0.88695909  0.13632111]\n",
      " [-0.00472739  0.89030881 -0.4553327   2.68544008]\n",
      " [ 0.          0.          0.          1.        ]]\n",
      "Total ICP Transformation is:\n",
      "[[ 0.99641941 -0.03424424 -0.07730263 -1.23868401]\n",
      " [-0.08441574 -0.45406778 -0.88695909  0.13632111]\n",
      " [-0.00472739  0.89030881 -0.4553327   2.68544008]\n",
      " [ 0.          0.          0.          1.        ]]\n",
      "result: \n",
      "[[ 1.   -0.03 -0.08 -1.24]\n",
      " [-0.08 -0.45 -0.89  0.14]\n",
      " [-0.    0.89 -0.46  2.69]\n",
      " [ 0.    0.    0.    1.  ]]\n",
      "Found 6DoF pose of suitcase_3\n",
      "Total 1 suitcase in the scene\n",
      "Add new suitcase in the scene\n",
      "Add new suitcase in the scene\n",
      "Add new suitcase in the scene\n",
      "request 0 -> response 0\n",
      "==== Received color, depth image from remote camera ====\n",
      "name_mask is ['suitcase']\n",
      "request 0 -> response 0\n",
      "==== Received color, depth image from remote camera ====\n",
      "Maximun num of object for detection : 5\n",
      "===== Detected : suitcase, 3 object(s) =====\n",
      "\n",
      "'suitcase' is not in gscene. Use manual input for initial guess\n",
      "\n",
      "Apply point-to-point ICP\n",
      "registration::RegistrationResult with fitness=9.774035e-01, inlier_rmse=8.181946e-02, and correspondence_set size of 2379\n",
      "Access transformation to get result.\n",
      "Transformation is:\n",
      "[[-0.97474422 -0.18389332 -0.12671604  0.30160495]\n",
      " [ 0.05308943  0.36033596 -0.93131064 -0.099522  ]\n",
      " [ 0.21692215 -0.91451695 -0.3414726   2.79432421]\n",
      " [ 0.          0.          0.          1.        ]]\n",
      "Total ICP Transformation is:\n",
      "[[-0.97474422 -0.18389332 -0.12671604  0.30160495]\n",
      " [ 0.05308943  0.36033596 -0.93131064 -0.099522  ]\n",
      " [ 0.21692215 -0.91451695 -0.3414726   2.79432421]\n",
      " [ 0.          0.          0.          1.        ]]\n",
      "initial: \n",
      "[[-0.97 -0.18 -0.13  0.3 ]\n",
      " [ 0.05  0.36 -0.93 -0.1 ]\n",
      " [ 0.22 -0.91 -0.34  2.79]\n",
      " [ 0.    0.    0.    1.  ]]\n",
      "Apply point-to-point ICP\n",
      "registration::RegistrationResult with fitness=9.500423e-01, inlier_rmse=1.944604e-02, and correspondence_set size of 1122\n",
      "Access transformation to get result.\n",
      "Transformation is:\n",
      "[[-0.88371145 -0.45377163 -0.11465332  0.29550141]\n",
      " [-0.10389406  0.42904699 -0.89728742 -0.1116761 ]\n",
      " [ 0.45635524 -0.78103136 -0.42629791  2.89252227]\n",
      " [ 0.          0.          0.          1.        ]]\n",
      "Total ICP Transformation is:\n",
      "[[-0.88371145 -0.45377163 -0.11465332  0.29550141]\n",
      " [-0.10389406  0.42904699 -0.89728742 -0.1116761 ]\n",
      " [ 0.45635524 -0.78103136 -0.42629791  2.89252227]\n",
      " [ 0.          0.          0.          1.        ]]\n",
      "result: \n",
      "[[-0.88 -0.45 -0.11  0.3 ]\n",
      " [-0.1   0.43 -0.9  -0.11]\n",
      " [ 0.46 -0.78 -0.43  2.89]\n",
      " [ 0.    0.    0.    1.  ]]\n"
     ]
    },
    {
     "name": "stdout",
     "output_type": "stream",
     "text": [
      "Found 6DoF pose of suitcase_1\n",
      "\n",
      "'suitcase' is not in gscene. Use manual input for initial guess\n",
      "\n",
      "Apply point-to-point ICP\n",
      "registration::RegistrationResult with fitness=9.171927e-01, inlier_rmse=6.224134e-02, and correspondence_set size of 4940\n",
      "Access transformation to get result.\n",
      "Transformation is:\n",
      "[[-0.59486104 -0.802213   -0.05093768 -0.09498328]\n",
      " [-0.25502412  0.24844247 -0.9344726   0.34701811]\n",
      " [ 0.76230115 -0.54289101 -0.35237241  1.81104217]\n",
      " [ 0.          0.          0.          1.        ]]\n",
      "Total ICP Transformation is:\n",
      "[[-0.59486104 -0.802213   -0.05093768 -0.09498328]\n",
      " [-0.25502412  0.24844247 -0.9344726   0.34701811]\n",
      " [ 0.76230115 -0.54289101 -0.35237241  1.81104217]\n",
      " [ 0.          0.          0.          1.        ]]\n",
      "initial: \n",
      "[[-0.59 -0.8  -0.05 -0.09]\n",
      " [-0.26  0.25 -0.93  0.35]\n",
      " [ 0.76 -0.54 -0.35  1.81]\n",
      " [ 0.    0.    0.    1.  ]]\n",
      "Apply point-to-point ICP\n",
      "registration::RegistrationResult with fitness=9.984785e-01, inlier_rmse=1.004378e-02, and correspondence_set size of 2625\n",
      "Access transformation to get result.\n",
      "Transformation is:\n",
      "[[-0.50020199 -0.86023507 -0.09896259 -0.08645209]\n",
      " [-0.34989452  0.30533782 -0.88563121  0.35347692]\n",
      " [ 0.79206805 -0.40836803 -0.45372212  1.88463152]\n",
      " [ 0.          0.          0.          1.        ]]\n",
      "Total ICP Transformation is:\n",
      "[[-0.50020199 -0.86023507 -0.09896259 -0.08645209]\n",
      " [-0.34989452  0.30533782 -0.88563121  0.35347692]\n",
      " [ 0.79206805 -0.40836803 -0.45372212  1.88463152]\n",
      " [ 0.          0.          0.          1.        ]]\n",
      "result: \n",
      "[[-0.5  -0.86 -0.1  -0.09]\n",
      " [-0.35  0.31 -0.89  0.35]\n",
      " [ 0.79 -0.41 -0.45  1.88]\n",
      " [ 0.    0.    0.    1.  ]]\n",
      "Found 6DoF pose of suitcase_2\n",
      "\n",
      "'suitcase' is not in gscene. Use manual input for initial guess\n",
      "\n",
      "Apply point-to-point ICP\n",
      "registration::RegistrationResult with fitness=9.520985e-01, inlier_rmse=9.159630e-02, and correspondence_set size of 2087\n",
      "Access transformation to get result.\n",
      "Transformation is:\n",
      "[[-0.87778593 -0.47901385  0.0061312   1.07762616]\n",
      " [-0.2278361   0.40617951 -0.88493441 -0.09067078]\n",
      " [ 0.42140547 -0.77817989 -0.4656753   2.50251001]\n",
      " [ 0.          0.          0.          1.        ]]\n",
      "Total ICP Transformation is:\n",
      "[[-0.87778593 -0.47901385  0.0061312   1.07762616]\n",
      " [-0.2278361   0.40617951 -0.88493441 -0.09067078]\n",
      " [ 0.42140547 -0.77817989 -0.4656753   2.50251001]\n",
      " [ 0.          0.          0.          1.        ]]\n",
      "initial: \n",
      "[[-0.88 -0.48  0.01  1.08]\n",
      " [-0.23  0.41 -0.88 -0.09]\n",
      " [ 0.42 -0.78 -0.47  2.5 ]\n",
      " [ 0.    0.    0.    1.  ]]\n",
      "Apply point-to-point ICP\n",
      "registration::RegistrationResult with fitness=8.128400e-01, inlier_rmse=2.060376e-02, and correspondence_set size of 747\n",
      "Access transformation to get result.\n",
      "Transformation is:\n",
      "[[-0.66684326 -0.73547217 -0.12000312  1.13934822]\n",
      " [-0.27950676  0.39613192 -0.87461733 -0.07502255]\n",
      " [ 0.69079377 -0.54969099 -0.46972735  2.60732501]\n",
      " [ 0.          0.          0.          1.        ]]\n",
      "Total ICP Transformation is:\n",
      "[[-0.66684326 -0.73547217 -0.12000312  1.13934822]\n",
      " [-0.27950676  0.39613192 -0.87461733 -0.07502255]\n",
      " [ 0.69079377 -0.54969099 -0.46972735  2.60732501]\n",
      " [ 0.          0.          0.          1.        ]]\n",
      "result: \n",
      "[[-0.67 -0.74 -0.12  1.14]\n",
      " [-0.28  0.4  -0.87 -0.08]\n",
      " [ 0.69 -0.55 -0.47  2.61]\n",
      " [ 0.    0.    0.    1.  ]]\n",
      "Found 6DoF pose of suitcase_3\n",
      "Total 4 suitcase in the scene\n",
      "Update existing suitcase in the scene\n",
      "Update existing suitcase in the scene\n",
      "Add new suitcase in the scene\n",
      "request 0 -> response 0\n",
      "==== Received color, depth image from remote camera ====\n"
     ]
    }
   ],
   "source": [
    "panda_arm1 = crob.robot_dict[\"panda_arm1\"]\n",
    "for theta0 in [-30, 0, 30]:\n",
    "    VIEW_LOC = crob.get_real_robot_pose()[:6]\n",
    "    VIEW_ARM = HOME_POSE_DEFAULT[6:] + np.deg2rad([theta0,-45,0,-70,0,70,-45])\n",
    "    VIEW_BAG = list(VIEW_LOC) + list(VIEW_ARM)\n",
    "    \n",
    "    crob.joint_move_make_sure(np.array(VIEW_BAG), ref_speed=np.pi/8)\n",
    "    \n",
    "    # for suitcase\n",
    "    micp.set_ICP_thres(thres_ICP=0.15, thres_front_ICP=0.06)\n",
    "    micp.set_multiobject_num(num=5)\n",
    "    pose_dict = micp.detect(name_mask=[\"suitcase\"], visualize=True)\n",
    "    \n",
    "    # add or update suitcase\n",
    "    add_update_object(gscene, crob, \"suitcase\", pose_dict, separate_dist=0.28,\n",
    "                      height = CARRIER_DIM[2]/2)\n",
    "    # save data\n",
    "    if SAVE_DATA:\n",
    "        color, depth, Qcur = micp.get_image()\n",
    "        cam_pose = viewpoint.get_tf(Qcur)\n",
    "        dcam.ready_saving(*micp.get_camera_config())\n",
    "        dcam.save_scene(color, depth, cam_pose)"
   ]
  },
  {
   "cell_type": "code",
   "execution_count": 23,
   "metadata": {},
   "outputs": [],
   "source": [
    "gcol_names = sorted([gname for gname in gscene.NAME_DICT.keys() \n",
    "                 if \"suitcase\" in gname and \"col\" in gname])\n",
    "bag_names = []\n",
    "\n",
    "for gcol_name in gcol_names:\n",
    "    bag_col_g = gscene.NAME_DICT[gcol_name]\n",
    "    bag_g = gscene.NAME_DICT[bag_col_g.parent]\n",
    "    bag_dim = bag_col_g.dims\n",
    "    bag_name = bag_g.name\n",
    "    bag_names.append(bag_name)\n",
    "    push_point_list = []\n",
    "    for i in range(4):\n",
    "        R = Rot_axis_series([3, 2], [np.pi/2*i, np.pi/2])\n",
    "        point = np.round(np.multiply(bag_dim, -R[:,2])/2, 4)\n",
    "        point[2] = -bag_dim[2]/2 + MOBILE_PUSH_HEIGHT\n",
    "        ap_name = \"side{}\".format(i)\n",
    "        push_point_list.append(FramePoint(ap_name, bag_g, point=point, rpy=Rot2rpy(R), key=MOBILE_PUSH_KEY))\n",
    "\n",
    "    slide_point = SlidePoint(\"bottom_p\", bag_g, point=(0,0,-bag_dim[2]/2-CLEARANCE), rpy=(0,0,0), \n",
    "                                               binded_on=floor_b, dist_push_min=0.1, dist_push_max=1.0, key=MOBILE_SLIDE_KEY)\n",
    "\n",
    "    bag_s = pscene.create_subject(oname=bag_name, gname=bag_name, _type=PushObject, \n",
    "                                  push_point_list=push_point_list, slide_point=slide_point)"
   ]
  },
  {
   "cell_type": "code",
   "execution_count": null,
   "metadata": {},
   "outputs": [],
   "source": []
  },
  {
   "cell_type": "markdown",
   "metadata": {},
   "source": [
    "## Add  ref waypoint"
   ]
  },
  {
   "cell_type": "code",
   "execution_count": 24,
   "metadata": {},
   "outputs": [],
   "source": [
    "table_body = gscene.NAME_DICT[TABLE_NAME]\n",
    "\n",
    "WP_NAME = \"wp_0\"\n",
    "WP_DIM = (0.1,0.1,0.01)\n",
    "WP_LOC = (0, -0.2, table_body.dims[2]/2)\n",
    "WP_RPY = (0,0,np.pi/2)\n",
    "\n",
    "wp_g = gscene.create_safe(GEOTYPE.BOX, WP_NAME, link_name=\"base_link\", \n",
    "                          dims=WP_DIM,\n",
    "                          center=(WP_LOC[0], WP_LOC[1], WP_LOC[2]), rpy=WP_RPY,\n",
    "                          fixed=True, collision=True, color=(0.0,0.0,0.8,1), parent=TABLE_NAME)\n",
    "\n",
    "waypoint_s = pscene.create_subject(oname=\"waypoints\", gname=TABLE_NAME, _type=WaypointTask,\n",
    "                                 action_points_dict={\n",
    "                                     wp_g.name: WayFrame(\n",
    "                                         wp_g.name, wp_g, [0, 0, wp_g.dims[2] / 2], [0, 0, 0])\n",
    "                                 })"
   ]
  },
  {
   "cell_type": "code",
   "execution_count": null,
   "metadata": {},
   "outputs": [],
   "source": []
  },
  {
   "cell_type": "markdown",
   "metadata": {},
   "source": [
    "### prepare planner"
   ]
  },
  {
   "cell_type": "code",
   "execution_count": 25,
   "metadata": {},
   "outputs": [
    {
     "name": "stdout",
     "output_type": "stream",
     "text": [
      "\u001b[91m[WARN] reach data is not ready for pmb. Ignoring this robot...\u001b[0m\n",
      "\u001b[91m[WARN] reach data is not ready for panda_arm. Ignoring this robot...\u001b[0m\n",
      "Dash is running on http://0.0.0.0:8050/\n",
      "\n",
      " * Serving Flask app \"pkg.ui.dash_launcher\" (lazy loading)\n",
      " * Environment: production\n",
      "   WARNING: This is a development server. Do not use it in a production deployment.\n",
      "   Use a production WSGI server instead.\n",
      " * Debug mode: off\n"
     ]
    }
   ],
   "source": [
    "from pkg.planning.filtering.grasp_filter import GraspChecker\n",
    "from pkg.planning.filtering.reach_filter import ReachChecker\n",
    "gcheck = GraspChecker(pscene)\n",
    "rcheck = ReachChecker(pscene)\n",
    "\n",
    "from pkg.planning.motion.moveit.moveit_planner import MoveitPlanner\n",
    "mplan = MoveitPlanner(pscene, enable_dual=False)\n",
    "mplan.update_gscene()\n",
    "mplan.incremental_constraint_motion = True\n",
    "\n",
    "from pkg.planning.incremental_search import *\n",
    "# joint motion is not allowed when pusing object with holder\n",
    "idc_push = np.where([stype == PushObject for stype in pscene.subject_type_list])[0]\n",
    "inc = IncrementalSearch(pscene, gcheck, rcheck, \n",
    "                        explicit_rule= lambda pscene, node, leaf: not any([node[idx]==leaf[idx] and \"push\" in node[idx] for idx in idc_push]))\n",
    "inc.prepare()\n",
    "inc.set_motion_planner(mplan)\n",
    "inc.prepare()\n",
    "\n",
    "cresv = CollisionResolver(inc, gcheck)\n",
    "rresv = ReachResolver(inc, rcheck, mplan, floor=floor_b.geometry)\n",
    "mresv = MotionResolver(inc, mplan)\n",
    "inc.resolver_stack = [cresv, rresv, mresv]\n",
    "\n",
    "from pkg.ui.ui_broker import *\n",
    "# start UI\n",
    "ui_broker = UIBroker.instance()\n",
    "ui_broker.initialize(inc, s_builder)\n",
    "ui_broker.start_server()\n",
    "\n",
    "ui_broker.set_tables()"
   ]
  },
  {
   "cell_type": "code",
   "execution_count": null,
   "metadata": {},
   "outputs": [],
   "source": []
  },
  {
   "cell_type": "markdown",
   "metadata": {},
   "source": [
    "### Plan"
   ]
  },
  {
   "cell_type": "code",
   "execution_count": 26,
   "metadata": {},
   "outputs": [
    {
     "name": "stdout",
     "output_type": "stream",
     "text": [
      "['suitcase_0', 'suitcase_1', 'suitcase_2', 'suitcase_3', 'suitcase_4', 'waypoints']\n",
      "('floor_ws', 'floor_ws', 'floor_ws', 'floor_ws', 'floor_ws', 0)\n"
     ]
    }
   ],
   "source": [
    "gscene.show_pose(VIEW_TABLE)\n",
    "chain_list = \\\n",
    "    [BindingChain(bag_name, \"bottom_p\", \"floor_ws\", \"floor_ws\") for bag_name in bag_names] \\\n",
    "    + [BindingChain(\"waypoints\", None, None, None)]\n",
    "# chain_list = \\\n",
    "#     [BindingChain(bag_name, \"bottom_p\", \"floor_ws\", \"floor_ws\") for bag_name in bag_names] \\\n",
    "#     + [BindingChain(clock_name, \"bottom_p\", \"table\", \"table\") for clock_name in clock_names] \\\n",
    "#     + [BindingChain(\"waypoints\", None, None, None)]\n",
    "initial_state = pscene.initialize_state(VIEW_TABLE, chain_list=chain_list)\n",
    "gscene.update_markers_all()\n",
    "print(pscene.subject_name_list)\n",
    "print(initial_state.node)"
   ]
  },
  {
   "cell_type": "code",
   "execution_count": null,
   "metadata": {},
   "outputs": [],
   "source": []
  },
  {
   "cell_type": "code",
   "execution_count": 27,
   "metadata": {},
   "outputs": [],
   "source": [
    "crob.joint_move_make_sure(initial_state.Q)"
   ]
  },
  {
   "cell_type": "markdown",
   "metadata": {},
   "source": [
    "## DEV planner"
   ]
  },
  {
   "cell_type": "code",
   "execution_count": 28,
   "metadata": {},
   "outputs": [],
   "source": [
    "from nonholonomic_planner import *\n",
    "\n",
    "nhp = NonHolonomicPlanner(mplan, MOBILE_NAME)\n",
    "def custom_planner(group_name, tool_link, goal_pose, target_link, from_Q,\n",
    "                   timeout=1, **kwargs):\n",
    "    if group_name == MOBILE_NAME:\n",
    "        Tbm = np.matmul(gscene.get_tf(target_link, from_Q), \n",
    "                        T_xyzquat((goal_pose[:3], goal_pose[3:])))\n",
    "        to_Q = Tbm[:2, 3].tolist()+[Rot2axis(Tbm[:3,:3], 3)]\n",
    "        traj = nhp.search(from_Q, to_Q, timeout=timeout, update_gscene=False)\n",
    "        return traj, traj is not None\n",
    "    else:\n",
    "        return mplan.planner.plan_py(group_name, tool_link, goal_pose, target_link, from_Q,\n",
    "                       timeout=1, **kwargs)\n",
    "    \n",
    "def custom_planner_joint(group_name, goal_state, Q_init, timeout=1, **kwargs):\n",
    "    if group_name == MOBILE_NAME:\n",
    "        traj = nhp.search(Q_init, goal_state[:3], timeout=timeout, update_gscene=False)\n",
    "        return traj, traj is not None\n",
    "    else:\n",
    "        return mplan.planner.plan_joint_motion_py(group_name, goal_state, Q_init, timeout=1, **kwargs)\n",
    "    \n",
    "mplan.custom_planner = custom_planner\n",
    "mplan.custom_planner_joint = custom_planner_joint"
   ]
  },
  {
   "cell_type": "code",
   "execution_count": null,
   "metadata": {},
   "outputs": [],
   "source": []
  },
  {
   "cell_type": "code",
   "execution_count": 29,
   "metadata": {},
   "outputs": [],
   "source": [
    "crob.home_pose = initial_state.Q\n",
    "crob.home_dict = list2dict(crob.home_pose, crob.joint_names)"
   ]
  },
  {
   "cell_type": "code",
   "execution_count": 30,
   "metadata": {
    "scrolled": true
   },
   "outputs": [
    {
     "name": "stdout",
     "output_type": "stream",
     "text": [
      "Use 10/20 agents\n",
      "\u001b[91m[WARN] Transition Queue Empty\u001b[0m\n",
      "\u001b[91m[WARN] Transition Queue Empty\u001b[0m\n",
      "\u001b[91m[WARN] Transition Queue Empty\u001b[0m\n",
      "\u001b[91m[WARN] Transition Queue Empty\u001b[0m\n",
      "\u001b[91m[WARN] Transition Queue Empty\u001b[0m\n",
      "\u001b[91m[WARN] Transition Queue Empty\u001b[0m\n",
      "\u001b[91m[WARN] Transition Queue Empty\u001b[0m\n",
      "=========================================================================================================\n",
      "======================= terminated 7: required answers acquired  (10.3/200.0) ===============================\n",
      "=========================================================================================================\n",
      "=========================================================================================================\n",
      "=========================================================================================================\n",
      "======================= terminated 5: Stop called from other agent  (10.4/200.0) ===============================\n",
      "=========================================================================================================\n",
      "======================= terminated 8: Stop called from other agent  (10.4/200.0) ===============================\n",
      "=========================================================================================================\n",
      "=========================================================================================================\n",
      "======================= terminated 4: Stop called from other agent  (10.6/200.0) ===============================\n",
      "=========================================================================================================\n",
      "=========================================================================================================\n",
      "======================= terminated 2: Stop called from other agent  (10.9/200.0) ===============================\n",
      "=========================================================================================================\n",
      "=========================================================================================================\n",
      "======================= terminated 3: Stop called from other agent  (11.4/200.0) ===============================\n",
      "=========================================================================================================\n",
      "\u001b[91m[ERROR] Non-joined subprocesses: [9, 0, 1, 6]\u001b[0m\n",
      "========================== FINISHED (11.7 / 200.0 s) ==============================]\n"
     ]
    }
   ],
   "source": [
    "from_state = initial_state.copy(pscene)\n",
    "goal_nodes = [initial_state.node[:-1]+(1,)]\n",
    "\n",
    "inc.search(from_state, goal_nodes, max_solution_count=1,\n",
    "           verbose=False, display=False, dt_vis=0.001, \n",
    "           timeout=1.0, timeout_loop=200, \n",
    "           multiprocess=True, add_homing=False)"
   ]
  },
  {
   "cell_type": "code",
   "execution_count": null,
   "metadata": {},
   "outputs": [],
   "source": []
  },
  {
   "cell_type": "markdown",
   "metadata": {},
   "source": [
    "### Get snode schedule"
   ]
  },
  {
   "cell_type": "code",
   "execution_count": 31,
   "metadata": {},
   "outputs": [
    {
     "name": "stdout",
     "output_type": "stream",
     "text": [
      "Goal reached\n",
      "Goal reached\n"
     ]
    }
   ],
   "source": [
    "snode_schedule = inc.get_best_schedule(at_home=False)\n",
    "snode_schedule += inc.add_return_motion(snode_schedule[-1], initial_state=initial_state) + snode_schedule"
   ]
  },
  {
   "cell_type": "markdown",
   "metadata": {},
   "source": [
    "### play schedule"
   ]
  },
  {
   "cell_type": "code",
   "execution_count": 32,
   "metadata": {},
   "outputs": [],
   "source": [
    "snode_schedule_move = []\n",
    "for snode in snode_schedule:\n",
    "    if snode.state.node[-1] != 0:\n",
    "        break\n",
    "    snode_schedule_move.append(snode)"
   ]
  },
  {
   "cell_type": "code",
   "execution_count": 33,
   "metadata": {
    "scrolled": true
   },
   "outputs": [
    {
     "name": "stdout",
     "output_type": "stream",
     "text": [
      "('floor_ws', 'floor_ws', 'floor_ws', 'floor_ws', 'floor_ws', 0)->('floor_ws', 'floor_ws', 'mpush', 'floor_ws', 'floor_ws', 0)\n",
      "('floor_ws', 'floor_ws', 'mpush', 'floor_ws', 'floor_ws', 0)->('floor_ws', 'floor_ws', 'floor_ws', 'floor_ws', 'floor_ws', 0)\n",
      "('floor_ws', 'floor_ws', 'floor_ws', 'floor_ws', 'floor_ws', 0)->('floor_ws', 'floor_ws', 'mpush', 'floor_ws', 'floor_ws', 0)\n",
      "('floor_ws', 'floor_ws', 'mpush', 'floor_ws', 'floor_ws', 0)->('floor_ws', 'floor_ws', 'floor_ws', 'floor_ws', 'floor_ws', 0)\n"
     ]
    }
   ],
   "source": [
    "inc.play_schedule(snode_schedule_move)\n",
    "# inc.play_schedule(snode_schedule, period=0.001)"
   ]
  },
  {
   "cell_type": "code",
   "execution_count": 43,
   "metadata": {},
   "outputs": [],
   "source": [
    "vel_lims, acc_lims, dt_step = 0.5, 0.5, 0.02\n",
    "snode_schedule_safe = [snode_schedule_move[0]]\n",
    "for snode, snode_pre in zip(snode_schedule_move[1:], snode_schedule_move[:-1]):\n",
    "    snames, _ = pscene.get_changing_subjects(snode.state, snode_pre.state)\n",
    "    if len(snames) !=1:\n",
    "        raise(RuntimeError(\"Invalid subject number\"))\n",
    "    subject = pscene.subject_dict[snames[0]]\n",
    "    if isinstance(subject, PushObject):\n",
    "        snode_schedule_safe.append(snode)\n",
    "    else:\n",
    "        snode_cp = snode.copy(pscene)\n",
    "        traj_simp = simplify_traj(snode.traj)\n",
    "        snode_cp.set_traj(\n",
    "            calc_safe_trajectory(\n",
    "                dt_step, traj_simp, vel_lims=vel_lims, acc_lims=acc_lims)[1])\n",
    "        snode_schedule_safe.append(snode_cp)"
   ]
  },
  {
   "cell_type": "code",
   "execution_count": 49,
   "metadata": {},
   "outputs": [
    {
     "name": "stdout",
     "output_type": "stream",
     "text": [
      "[Errno 104] Connection reset by peer\n"
     ]
    },
    {
     "ename": "KeyError",
     "evalue": "'qcount'",
     "output_type": "error",
     "traceback": [
      "\u001b[0;31m---------------------------------------------------------------------------\u001b[0m",
      "\u001b[0;31mKeyError\u001b[0m                                  Traceback (most recent call last)",
      "\u001b[0;32m<ipython-input-49-279a9ad9fea9>\u001b[0m in \u001b[0;36m<module>\u001b[0;34m()\u001b[0m\n\u001b[0;32m----> 1\u001b[0;31m \u001b[0minc\u001b[0m\u001b[0;34m.\u001b[0m\u001b[0mexecute_schedule\u001b[0m\u001b[0;34m(\u001b[0m\u001b[0msnode_schedule\u001b[0m\u001b[0;34m,\u001b[0m \u001b[0mone_by_one\u001b[0m\u001b[0;34m=\u001b[0m\u001b[0mTrue\u001b[0m\u001b[0;34m)\u001b[0m\u001b[0;34m\u001b[0m\u001b[0m\n\u001b[0m",
      "\u001b[0;32m/home/rnb/Projects/rnb-planning/src/pkg/planning/pipeline.pyc\u001b[0m in \u001b[0;36mexecute_schedule\u001b[0;34m(self, snode_schedule, auto_stop, mode_switcher, one_by_one, multiproc, error_stop_deg, auto_sync_robot_pose)\u001b[0m\n\u001b[1;32m    503\u001b[0m                 \u001b[0mt_exe\u001b[0m\u001b[0;34m.\u001b[0m\u001b[0mjoin\u001b[0m\u001b[0;34m(\u001b[0m\u001b[0;34m)\u001b[0m\u001b[0;34m\u001b[0m\u001b[0m\n\u001b[1;32m    504\u001b[0m             \u001b[0;32melse\u001b[0m\u001b[0;34m:\u001b[0m\u001b[0;34m\u001b[0m\u001b[0m\n\u001b[0;32m--> 505\u001b[0;31m                 \u001b[0mself\u001b[0m\u001b[0;34m.\u001b[0m\u001b[0mpscene\u001b[0m\u001b[0;34m.\u001b[0m\u001b[0mcombined_robot\u001b[0m\u001b[0;34m.\u001b[0m\u001b[0mmove_joint_traj\u001b[0m\u001b[0;34m(\u001b[0m\u001b[0msnode\u001b[0m\u001b[0;34m.\u001b[0m\u001b[0mtraj\u001b[0m\u001b[0;34m,\u001b[0m \u001b[0mauto_stop\u001b[0m\u001b[0;34m=\u001b[0m\u001b[0mFalse\u001b[0m\u001b[0;34m,\u001b[0m \u001b[0mone_by_one\u001b[0m\u001b[0;34m=\u001b[0m\u001b[0mone_by_one\u001b[0m\u001b[0;34m)\u001b[0m\u001b[0;34m\u001b[0m\u001b[0m\n\u001b[0m\u001b[1;32m    506\u001b[0m                 \u001b[0;32mif\u001b[0m \u001b[0mlen\u001b[0m\u001b[0;34m(\u001b[0m\u001b[0mself\u001b[0m\u001b[0;34m.\u001b[0m\u001b[0mpscene\u001b[0m\u001b[0;34m.\u001b[0m\u001b[0mcombined_robot\u001b[0m\u001b[0;34m.\u001b[0m\u001b[0mget_robots_in_act\u001b[0m\u001b[0;34m(\u001b[0m\u001b[0msnode\u001b[0m\u001b[0;34m.\u001b[0m\u001b[0mtraj\u001b[0m\u001b[0;34m)\u001b[0m\u001b[0;34m)\u001b[0m \u001b[0;34m==\u001b[0m \u001b[0;36m0\u001b[0m\u001b[0;34m:\u001b[0m\u001b[0;34m\u001b[0m\u001b[0m\n\u001b[1;32m    507\u001b[0m                     \u001b[0;32mprint\u001b[0m\u001b[0;34m(\u001b[0m\u001b[0;34m\"No motion for connected robot - playing motion in RVIZ\"\u001b[0m\u001b[0;34m)\u001b[0m\u001b[0;34m\u001b[0m\u001b[0m\n",
      "\u001b[0;32m/home/rnb/Projects/rnb-planning/src/pkg/controller/combined_robot.pyc\u001b[0m in \u001b[0;36mmove_joint_traj\u001b[0;34m(self, trajectory, auto_stop, wait_motion, one_by_one, error_stop)\u001b[0m\n\u001b[1;32m    279\u001b[0m                     \u001b[0mrobot\u001b[0m\u001b[0;34m.\u001b[0m\u001b[0mjoint_move_make_sure\u001b[0m\u001b[0;34m(\u001b[0m\u001b[0mQ_init\u001b[0m\u001b[0;34m)\u001b[0m\u001b[0;34m\u001b[0m\u001b[0m\n\u001b[1;32m    280\u001b[0m                     \u001b[0;32mprint\u001b[0m\u001b[0;34m(\u001b[0m\u001b[0;34m\"joint_move_make_sure done\"\u001b[0m\u001b[0;34m)\u001b[0m\u001b[0;34m\u001b[0m\u001b[0m\n\u001b[0;32m--> 281\u001b[0;31m                 \u001b[0mrobot\u001b[0m\u001b[0;34m.\u001b[0m\u001b[0mmove_joint_traj\u001b[0m\u001b[0;34m(\u001b[0m\u001b[0mtrajectory\u001b[0m\u001b[0;34m[\u001b[0m\u001b[0;34m:\u001b[0m\u001b[0;34m,\u001b[0m \u001b[0mself\u001b[0m\u001b[0;34m.\u001b[0m\u001b[0midx_dict\u001b[0m\u001b[0;34m[\u001b[0m\u001b[0mrname\u001b[0m\u001b[0;34m]\u001b[0m\u001b[0;34m]\u001b[0m\u001b[0;34m,\u001b[0m \u001b[0mauto_stop\u001b[0m\u001b[0;34m=\u001b[0m\u001b[0mauto_stop\u001b[0m\u001b[0;34m,\u001b[0m \u001b[0mwait_motion\u001b[0m\u001b[0;34m=\u001b[0m\u001b[0mwait_motion\u001b[0m\u001b[0;34m)\u001b[0m\u001b[0;34m\u001b[0m\u001b[0m\n\u001b[0m\u001b[1;32m    282\u001b[0m                 \u001b[0;32mif\u001b[0m \u001b[0merror_stop\u001b[0m \u001b[0;32mis\u001b[0m \u001b[0;32mnot\u001b[0m \u001b[0mNone\u001b[0m\u001b[0;34m:\u001b[0m\u001b[0;34m\u001b[0m\u001b[0m\n\u001b[1;32m    283\u001b[0m                     \u001b[0;32mif\u001b[0m \u001b[0mnp\u001b[0m\u001b[0;34m.\u001b[0m\u001b[0msum\u001b[0m\u001b[0;34m(\u001b[0m\u001b[0mnp\u001b[0m\u001b[0;34m.\u001b[0m\u001b[0mabs\u001b[0m\u001b[0;34m(\u001b[0m\u001b[0mnp\u001b[0m\u001b[0;34m.\u001b[0m\u001b[0msubtract\u001b[0m\u001b[0;34m(\u001b[0m\u001b[0mtrajectory\u001b[0m\u001b[0;34m[\u001b[0m\u001b[0;34m-\u001b[0m\u001b[0;36m1\u001b[0m\u001b[0;34m,\u001b[0m \u001b[0mself\u001b[0m\u001b[0;34m.\u001b[0m\u001b[0midx_dict\u001b[0m\u001b[0;34m[\u001b[0m\u001b[0mrname\u001b[0m\u001b[0;34m]\u001b[0m\u001b[0;34m]\u001b[0m\u001b[0;34m,\u001b[0m \u001b[0mrobot\u001b[0m\u001b[0;34m.\u001b[0m\u001b[0mget_qcur\u001b[0m\u001b[0;34m(\u001b[0m\u001b[0;34m)\u001b[0m\u001b[0;34m)\u001b[0m\u001b[0;34m)\u001b[0m\u001b[0;34m)\u001b[0m\u001b[0;31m\\\u001b[0m\u001b[0;34m\u001b[0m\u001b[0m\n",
      "\u001b[0;32m/home/rnb/Projects/rnb-planning/src/pkg/controller/trajectory_client/trajectory_client.pyc\u001b[0m in \u001b[0;36mmove_joint_traj\u001b[0;34m(self, trajectory, auto_stop, wait_motion)\u001b[0m\n\u001b[1;32m    198\u001b[0m \u001b[0;34m\u001b[0m\u001b[0m\n\u001b[1;32m    199\u001b[0m         \u001b[0;32mif\u001b[0m \u001b[0mwait_motion\u001b[0m\u001b[0;34m:\u001b[0m\u001b[0;34m\u001b[0m\u001b[0m\n\u001b[0;32m--> 200\u001b[0;31m             \u001b[0mself\u001b[0m\u001b[0;34m.\u001b[0m\u001b[0mwait_queue_empty\u001b[0m\u001b[0;34m(\u001b[0m\u001b[0;34m)\u001b[0m\u001b[0;34m\u001b[0m\u001b[0m\n\u001b[0m\u001b[1;32m    201\u001b[0m \u001b[0;34m\u001b[0m\u001b[0m\n\u001b[1;32m    202\u001b[0m             \u001b[0;32mif\u001b[0m \u001b[0mauto_stop\u001b[0m\u001b[0;34m:\u001b[0m\u001b[0;34m\u001b[0m\u001b[0m\n",
      "\u001b[0;32m/home/rnb/Projects/rnb-planning/src/pkg/controller/trajectory_client/trajectory_client.pyc\u001b[0m in \u001b[0;36mwait_queue_empty\u001b[0;34m(self, max_dur)\u001b[0m\n\u001b[1;32m     64\u001b[0m     \u001b[0;32mdef\u001b[0m \u001b[0mwait_queue_empty\u001b[0m\u001b[0;34m(\u001b[0m\u001b[0mself\u001b[0m\u001b[0;34m,\u001b[0m \u001b[0mmax_dur\u001b[0m\u001b[0;34m=\u001b[0m\u001b[0;36m1000\u001b[0m\u001b[0;34m)\u001b[0m\u001b[0;34m:\u001b[0m\u001b[0;34m\u001b[0m\u001b[0m\n\u001b[1;32m     65\u001b[0m         \u001b[0mtime_start\u001b[0m \u001b[0;34m=\u001b[0m \u001b[0mtime\u001b[0m\u001b[0;34m.\u001b[0m\u001b[0mtime\u001b[0m\u001b[0;34m(\u001b[0m\u001b[0;34m)\u001b[0m\u001b[0;34m\u001b[0m\u001b[0m\n\u001b[0;32m---> 66\u001b[0;31m         \u001b[0;32mwhile\u001b[0m \u001b[0mself\u001b[0m\u001b[0;34m.\u001b[0m\u001b[0mget_qcount\u001b[0m\u001b[0;34m(\u001b[0m\u001b[0;34m)\u001b[0m\u001b[0;34m>\u001b[0m\u001b[0;36m0\u001b[0m\u001b[0;34m:\u001b[0m\u001b[0;34m\u001b[0m\u001b[0m\n\u001b[0m\u001b[1;32m     67\u001b[0m             \u001b[0mself\u001b[0m\u001b[0;34m.\u001b[0m\u001b[0mperiodic\u001b[0m\u001b[0;34m.\u001b[0m\u001b[0mwait\u001b[0m\u001b[0;34m(\u001b[0m\u001b[0;34m)\u001b[0m\u001b[0;34m\u001b[0m\u001b[0m\n\u001b[1;32m     68\u001b[0m             \u001b[0;32mif\u001b[0m \u001b[0;34m(\u001b[0m\u001b[0mtime\u001b[0m\u001b[0;34m.\u001b[0m\u001b[0mtime\u001b[0m\u001b[0;34m(\u001b[0m\u001b[0;34m)\u001b[0m \u001b[0;34m-\u001b[0m \u001b[0mtime_start\u001b[0m\u001b[0;34m)\u001b[0m \u001b[0;34m>\u001b[0m \u001b[0mmax_dur\u001b[0m\u001b[0;34m:\u001b[0m\u001b[0;34m\u001b[0m\u001b[0m\n",
      "\u001b[0;32m/home/rnb/Projects/rnb-planning/src/pkg/controller/combined_robot.pyc\u001b[0m in \u001b[0;36mget_qcount\u001b[0;34m()\u001b[0m\n\u001b[1;32m    399\u001b[0m         \u001b[0;32mdef\u001b[0m \u001b[0mget_qcount\u001b[0m\u001b[0;34m(\u001b[0m\u001b[0;34m)\u001b[0m\u001b[0;34m:\u001b[0m\u001b[0;34m\u001b[0m\u001b[0m\n\u001b[1;32m    400\u001b[0m             \u001b[0;32mif\u001b[0m \u001b[0mconnected\u001b[0m\u001b[0;34m:\u001b[0m\u001b[0;34m\u001b[0m\u001b[0m\n\u001b[0;32m--> 401\u001b[0;31m                 \u001b[0mqcount\u001b[0m \u001b[0;34m=\u001b[0m \u001b[0mtype\u001b[0m\u001b[0;34m(\u001b[0m\u001b[0mrobot\u001b[0m\u001b[0;34m)\u001b[0m\u001b[0;34m.\u001b[0m\u001b[0mget_qcount\u001b[0m\u001b[0;34m(\u001b[0m\u001b[0mrobot\u001b[0m\u001b[0;34m)\u001b[0m\u001b[0;34m\u001b[0m\u001b[0m\n\u001b[0m\u001b[1;32m    402\u001b[0m             \u001b[0;32melse\u001b[0m\u001b[0;34m:\u001b[0m\u001b[0;34m\u001b[0m\u001b[0m\n\u001b[1;32m    403\u001b[0m                 \u001b[0mqcount\u001b[0m \u001b[0;34m=\u001b[0m \u001b[0mmax\u001b[0m\u001b[0;34m(\u001b[0m\u001b[0mlen\u001b[0m\u001b[0;34m(\u001b[0m\u001b[0mqstack\u001b[0m\u001b[0;34m)\u001b[0m \u001b[0;34m-\u001b[0m \u001b[0mself\u001b[0m\u001b[0;34m.\u001b[0m\u001b[0msimul_speed\u001b[0m\u001b[0;34m,\u001b[0m \u001b[0;36m0\u001b[0m\u001b[0;34m)\u001b[0m\u001b[0;34m\u001b[0m\u001b[0m\n",
      "\u001b[0;32m/home/rnb/Projects/rnb-planning/src/pkg/controller/trajectory_client/trajectory_client.pyc\u001b[0m in \u001b[0;36mget_qcount\u001b[0;34m(self)\u001b[0m\n\u001b[1;32m     34\u001b[0m \u001b[0;34m\u001b[0m\u001b[0m\n\u001b[1;32m     35\u001b[0m     \u001b[0;32mdef\u001b[0m \u001b[0mget_qcount\u001b[0m\u001b[0;34m(\u001b[0m\u001b[0mself\u001b[0m\u001b[0;34m)\u001b[0m\u001b[0;34m:\u001b[0m\u001b[0;34m\u001b[0m\u001b[0m\n\u001b[0;32m---> 36\u001b[0;31m         \u001b[0;32mreturn\u001b[0m \u001b[0msend_recv\u001b[0m\u001b[0;34m(\u001b[0m\u001b[0;34m{\u001b[0m\u001b[0;34m'qcount'\u001b[0m\u001b[0;34m:\u001b[0m \u001b[0;36m0\u001b[0m\u001b[0;34m}\u001b[0m\u001b[0;34m,\u001b[0m \u001b[0mself\u001b[0m\u001b[0;34m.\u001b[0m\u001b[0mserver_ip\u001b[0m\u001b[0;34m,\u001b[0m \u001b[0mself\u001b[0m\u001b[0;34m.\u001b[0m\u001b[0mserver_port\u001b[0m\u001b[0;34m)\u001b[0m\u001b[0;34m[\u001b[0m\u001b[0;34m'qcount'\u001b[0m\u001b[0;34m]\u001b[0m\u001b[0;34m\u001b[0m\u001b[0m\n\u001b[0m\u001b[1;32m     37\u001b[0m \u001b[0;34m\u001b[0m\u001b[0m\n\u001b[1;32m     38\u001b[0m     \u001b[0;32mdef\u001b[0m \u001b[0mget_qcur\u001b[0m\u001b[0;34m(\u001b[0m\u001b[0mself\u001b[0m\u001b[0;34m)\u001b[0m\u001b[0;34m:\u001b[0m\u001b[0;34m\u001b[0m\u001b[0m\n",
      "\u001b[0;31mKeyError\u001b[0m: 'qcount'"
     ]
    }
   ],
   "source": [
    "inc.execute_schedule(snode_schedule, one_by_one=True)"
   ]
  },
  {
   "cell_type": "code",
   "execution_count": null,
   "metadata": {},
   "outputs": [],
   "source": []
  },
  {
   "cell_type": "markdown",
   "metadata": {},
   "source": [
    "## Clock"
   ]
  },
  {
   "cell_type": "code",
   "execution_count": 179,
   "metadata": {},
   "outputs": [],
   "source": [
    "for i in range(3):\n",
    "    gscene.remove(gscene.NAME_DICT[\"clock_{}\".format(i)])"
   ]
  },
  {
   "cell_type": "code",
   "execution_count": 56,
   "metadata": {},
   "outputs": [
    {
     "ename": "NameError",
     "evalue": "name 'name' is not defined",
     "output_type": "error",
     "traceback": [
      "\u001b[0;31m---------------------------------------------------------------------------\u001b[0m",
      "\u001b[0;31mNameError\u001b[0m                                 Traceback (most recent call last)",
      "\u001b[0;32m<ipython-input-56-b5c0ad46e50d>\u001b[0m in \u001b[0;36m<module>\u001b[0;34m()\u001b[0m\n\u001b[0;32m----> 1\u001b[0;31m \u001b[0mcrob\u001b[0m\u001b[0;34m.\u001b[0m\u001b[0mconnection_list\u001b[0m\u001b[0;34m[\u001b[0m\u001b[0mcrob\u001b[0m\u001b[0;34m.\u001b[0m\u001b[0mrobot_names\u001b[0m\u001b[0;34m.\u001b[0m\u001b[0mindex\u001b[0m\u001b[0;34m(\u001b[0m\u001b[0mname\u001b[0m\u001b[0;34m)\u001b[0m\u001b[0;34m]\u001b[0m\u001b[0;34m\u001b[0m\u001b[0m\n\u001b[0m",
      "\u001b[0;31mNameError\u001b[0m: name 'name' is not defined"
     ]
    }
   ],
   "source": [
    "crob.connection_list[crob.robot_names.index(name)]"
   ]
  },
  {
   "cell_type": "code",
   "execution_count": 61,
   "metadata": {},
   "outputs": [
    {
     "data": {
      "text/plain": [
       "([False, True],)"
      ]
     },
     "execution_count": 61,
     "metadata": {},
     "output_type": "execute_result"
    }
   ],
   "source": [
    "crob.connection_list"
   ]
  },
  {
   "cell_type": "code",
   "execution_count": 103,
   "metadata": {},
   "outputs": [],
   "source": [
    "pmb0 = crob.robot_dict['pmb0']\n",
    "panda_arm1 = crob.robot_dict[\"panda_arm1\"]\n",
    "pmb0.joint_move_make_sure([2.5,-0.7,0,0,0,0])"
   ]
  },
  {
   "cell_type": "code",
   "execution_count": 171,
   "metadata": {},
   "outputs": [],
   "source": [
    "VIEW_LOC = crob.get_real_robot_pose()[:6]\n",
    "# VIEW_ARM = HOME_POSE_DEFAULT[6:] + np.deg2rad([0,-10,0, -40,0,50,-45])\n",
    "VIEW_ARM = HOME_POSE_DEFAULT[6:] + np.deg2rad([0,0,0,0,0,10,-45])\n",
    "VIEW_CLOCK = list(VIEW_LOC) + list(VIEW_ARM)"
   ]
  },
  {
   "cell_type": "code",
   "execution_count": 172,
   "metadata": {},
   "outputs": [],
   "source": [
    "gscene.show_pose(VIEW_CLOCK)"
   ]
  },
  {
   "cell_type": "code",
   "execution_count": 173,
   "metadata": {},
   "outputs": [],
   "source": [
    "t, traj = calc_safe_trajectory(0.02, [crob.get_real_robot_pose(), VIEW_CLOCK], 0.5, 0.5)\n",
    "gscene.show_motion(traj)"
   ]
  },
  {
   "cell_type": "code",
   "execution_count": 174,
   "metadata": {},
   "outputs": [],
   "source": [
    "crob.joint_move_make_sure(np.array(VIEW_CLOCK), ref_speed = np.pi/10)"
   ]
  },
  {
   "cell_type": "code",
   "execution_count": 113,
   "metadata": {},
   "outputs": [],
   "source": [
    "CLOCK_NAME = \"clock_{}\"\n",
    "CLOCK_DIM = (0.14,0.05,0.076)\n",
    "clock_center = np.add(wp_g.center[:2]+(0,), (0,0.1,TABLE_DIM[2]+CLOCK_DIM[2]/2+CLEARANCE))"
   ]
  },
  {
   "cell_type": "code",
   "execution_count": 114,
   "metadata": {},
   "outputs": [],
   "source": [
    "# for i_c in range(CLOCK_COUNT):\n",
    "#     CLOCK_NAME_I = CLOCK_NAME.format(i_c)\n",
    "#     clock_g = gscene.create_safe(GEOTYPE.BOX, CLOCK_NAME_I, link_name=\"base_link\",dims=CLOCK_DIM,\n",
    "#                                center=(clock_center[0], clock_center[1]-i_c*0.4, clock_center[2]), rpy=(0,0,0),\n",
    "#                                fixed=False, collision=True, color=(0.8,0.5,0.3,1))\n",
    "\n",
    "#     push_point_list = []\n",
    "#     for i in range(4):\n",
    "#         R = Rot_axis_series([3, 2], [np.pi/2*i, np.pi/2])\n",
    "#         point = np.round(np.multiply(CLOCK_DIM, -R[:,2])/2, 4)\n",
    "#         point[2] = -CLOCK_DIM[2]/2 + TOOL_PUSH_HEIGHT\n",
    "#         ap_name = \"side{}\".format(i)\n",
    "#         push_point_list.append(FramePoint(ap_name, clock_g, point=point, rpy=Rot2rpy(R), key=TOOL_PUSH_KEY))\n",
    "\n",
    "#     dir_push = [0,0,1]\n",
    "#     slide_point = SlidePoint(\"bottom_p\", clock_g, point=(0,0,-CLOCK_DIM[2]/2-CLEARANCE), rpy=(0,0,0), \n",
    "#                              binded_on=table_b, dist_push_min=0.1, dist_push_max=0.3, dir_push=dir_push, key=TOOL_SLIDE_KEY)\n",
    "\n",
    "#     clock_s = pscene.create_subject(oname=CLOCK_NAME_I, gname=CLOCK_NAME_I, _type=PushObject, \n",
    "#                                   push_point_list=push_point_list, slide_point=slide_point)"
   ]
  },
  {
   "cell_type": "code",
   "execution_count": 180,
   "metadata": {
    "scrolled": true
   },
   "outputs": [
    {
     "name": "stdout",
     "output_type": "stream",
     "text": [
      "name_mask is ['clock']\n",
      "request 0 -> response 0\n",
      "==== Received color, depth image from remote camera ====\n",
      "Maximun num of object for detection : 3\n",
      "===== Detected : clock, 3 object(s) =====\n",
      "\n",
      "'clock' is not in gscene. Use manual input for initial guess\n",
      "\n",
      "Apply point-to-point ICP\n",
      "registration::RegistrationResult with fitness=1.000000e+00, inlier_rmse=1.132445e-02, and correspondence_set size of 1550\n",
      "Access transformation to get result.\n",
      "Transformation is:\n",
      "[[ 0.95310223  0.07609841 -0.2929252  -0.11172503]\n",
      " [-0.29804943  0.40409896 -0.86479508  0.13853895]\n",
      " [ 0.05256124  0.91154431  0.40782871  0.79187548]\n",
      " [ 0.          0.          0.          1.        ]]\n",
      "Total ICP Transformation is:\n",
      "[[ 0.95310223  0.07609841 -0.2929252  -0.11172503]\n",
      " [-0.29804943  0.40409896 -0.86479508  0.13853895]\n",
      " [ 0.05256124  0.91154431  0.40782871  0.79187548]\n",
      " [ 0.          0.          0.          1.        ]]\n",
      "initial: \n",
      "[[ 0.95  0.08 -0.29 -0.11]\n",
      " [-0.3   0.4  -0.86  0.14]\n",
      " [ 0.05  0.91  0.41  0.79]\n",
      " [ 0.    0.    0.    1.  ]]\n",
      "Apply point-to-point ICP\n",
      "registration::RegistrationResult with fitness=1.000000e+00, inlier_rmse=6.516590e-03, and correspondence_set size of 740\n",
      "Access transformation to get result.\n",
      "Transformation is:\n",
      "[[ 0.92856455  0.24738562 -0.27670965 -0.11483161]\n",
      " [-0.36358356  0.45627112 -0.81217217  0.14681   ]\n",
      " [-0.07466509  0.85476136  0.51362253  0.80803971]\n",
      " [ 0.          0.          0.          1.        ]]\n",
      "Total ICP Transformation is:\n",
      "[[ 0.92856455  0.24738562 -0.27670965 -0.11483161]\n",
      " [-0.36358356  0.45627112 -0.81217217  0.14681   ]\n",
      " [-0.07466509  0.85476136  0.51362253  0.80803971]\n",
      " [ 0.          0.          0.          1.        ]]\n",
      "result: \n",
      "[[ 0.93  0.25 -0.28 -0.11]\n",
      " [-0.36  0.46 -0.81  0.15]\n",
      " [-0.07  0.85  0.51  0.81]\n",
      " [ 0.    0.    0.    1.  ]]\n",
      "Found 6DoF pose of clock_1\n",
      "\n",
      "'clock' is not in gscene. Use manual input for initial guess\n",
      "\n",
      "Apply point-to-point ICP\n",
      "registration::RegistrationResult with fitness=1.000000e+00, inlier_rmse=1.471594e-02, and correspondence_set size of 817\n",
      "Access transformation to get result.\n",
      "Transformation is:\n",
      "[[ 0.97199735  0.12552191  0.198659   -0.3928219 ]\n",
      " [ 0.09601855  0.5594489  -0.82328448 -0.06178497]\n",
      " [-0.21447981  0.81930528  0.53173042  0.93612346]\n",
      " [ 0.          0.          0.          1.        ]]\n",
      "Total ICP Transformation is:\n",
      "[[ 0.97199735  0.12552191  0.198659   -0.3928219 ]\n",
      " [ 0.09601855  0.5594489  -0.82328448 -0.06178497]\n",
      " [-0.21447981  0.81930528  0.53173042  0.93612346]\n",
      " [ 0.          0.          0.          1.        ]]\n",
      "initial: \n",
      "[[ 0.97  0.13  0.2  -0.39]\n",
      " [ 0.1   0.56 -0.82 -0.06]\n",
      " [-0.21  0.82  0.53  0.94]\n",
      " [ 0.    0.    0.    1.  ]]\n",
      "Apply point-to-point ICP\n",
      "registration::RegistrationResult with fitness=9.974555e-01, inlier_rmse=9.615573e-03, and correspondence_set size of 392\n",
      "Access transformation to get result.\n",
      "Transformation is:\n",
      "[[ 0.95684002  0.12982778  0.2600037  -0.39451682]\n",
      " [ 0.07849543  0.74595814 -0.6613508  -0.05301935]\n",
      " [-0.27981359  0.65321602  0.70357171  0.9474599 ]\n",
      " [ 0.          0.          0.          1.        ]]\n",
      "Total ICP Transformation is:\n",
      "[[ 0.95684002  0.12982778  0.2600037  -0.39451682]\n",
      " [ 0.07849543  0.74595814 -0.6613508  -0.05301935]\n",
      " [-0.27981359  0.65321602  0.70357171  0.9474599 ]\n",
      " [ 0.          0.          0.          1.        ]]\n",
      "result: \n",
      "[[ 0.96  0.13  0.26 -0.39]\n",
      " [ 0.08  0.75 -0.66 -0.05]\n",
      " [-0.28  0.65  0.7   0.95]\n",
      " [ 0.    0.    0.    1.  ]]\n",
      "Found 6DoF pose of clock_2\n",
      "\n",
      "'clock' is not in gscene. Use manual input for initial guess\n",
      "\n",
      "Apply point-to-point ICP\n",
      "registration::RegistrationResult with fitness=1.000000e+00, inlier_rmse=1.333701e-02, and correspondence_set size of 1137\n",
      "Access transformation to get result.\n",
      "Transformation is:\n",
      "[[ 0.93993883  0.05347282  0.33712854  0.24008873]\n",
      " [ 0.26505173  0.50800566 -0.81955952  0.05675784]\n",
      " [-0.21508738  0.85969231  0.46332118  0.8045522 ]\n",
      " [ 0.          0.          0.          1.        ]]\n",
      "Total ICP Transformation is:\n",
      "[[ 0.93993883  0.05347282  0.33712854  0.24008873]\n",
      " [ 0.26505173  0.50800566 -0.81955952  0.05675784]\n",
      " [-0.21508738  0.85969231  0.46332118  0.8045522 ]\n",
      " [ 0.          0.          0.          1.        ]]\n",
      "initial: \n",
      "[[ 0.94  0.05  0.34  0.24]\n",
      " [ 0.27  0.51 -0.82  0.06]\n",
      " [-0.22  0.86  0.46  0.8 ]\n",
      " [ 0.    0.    0.    1.  ]]\n",
      "Apply point-to-point ICP\n",
      "registration::RegistrationResult with fitness=1.000000e+00, inlier_rmse=8.439498e-03, and correspondence_set size of 505\n",
      "Access transformation to get result.\n",
      "Transformation is:\n",
      "[[ 0.94028055 -0.06179714  0.33474407  0.24270188]\n",
      " [ 0.2620664   0.75900646 -0.59601205  0.06571926]\n",
      " [-0.21724108  0.64814371  0.72987397  0.81817275]\n",
      " [ 0.          0.          0.          1.        ]]\n",
      "Total ICP Transformation is:\n",
      "[[ 0.94028055 -0.06179714  0.33474407  0.24270188]\n",
      " [ 0.2620664   0.75900646 -0.59601205  0.06571926]\n",
      " [-0.21724108  0.64814371  0.72987397  0.81817275]\n",
      " [ 0.          0.          0.          1.        ]]\n",
      "result: \n",
      "[[ 0.94 -0.06  0.33  0.24]\n",
      " [ 0.26  0.76 -0.6   0.07]\n",
      " [-0.22  0.65  0.73  0.82]\n",
      " [ 0.    0.    0.    1.  ]]\n",
      "Found 6DoF pose of clock_3\n"
     ]
    }
   ],
   "source": [
    "# for clock\n",
    "micp.set_ICP_thres(thres_ICP=0.09, thres_front_ICP=0.03)\n",
    "micp.set_outlier_removal(nb_points=20, radius=0.03)\n",
    "micp.set_multiobject_num(num=3)\n",
    "pose_dict = micp.detect(name_mask=[\"clock\"], visualize=True)"
   ]
  },
  {
   "cell_type": "code",
   "execution_count": 181,
   "metadata": {},
   "outputs": [
    {
     "name": "stdout",
     "output_type": "stream",
     "text": [
      "Total 0 clock in the scene\n",
      "Add new clock in the scene\n",
      "Add new clock in the scene\n",
      "Add new clock in the scene\n"
     ]
    }
   ],
   "source": [
    "# add or update clock\n",
    "add_update_object(gscene, crob, \"clock\", pose_dict, separate_dist=0.2, height = TABLE_DIM[2]+CLOCK_DIM[1]/2)"
   ]
  },
  {
   "cell_type": "markdown",
   "metadata": {},
   "source": [
    "#### [SAVE DATA]"
   ]
  },
  {
   "cell_type": "code",
   "execution_count": null,
   "metadata": {},
   "outputs": [],
   "source": [
    "# if SAVE_DATA:\n",
    "#     color, depth, Qcur = micp.get_image()\n",
    "#     cam_pose = viewpoint.get_tf(Qcur)\n",
    "#     dcam.ready_saving(*micp.get_camera_config())\n",
    "#     dcam.save_scene(color, depth, cam_pose)"
   ]
  },
  {
   "cell_type": "code",
   "execution_count": null,
   "metadata": {},
   "outputs": [],
   "source": []
  },
  {
   "cell_type": "markdown",
   "metadata": {},
   "source": [
    "## Marker set"
   ]
  },
  {
   "cell_type": "code",
   "execution_count": 186,
   "metadata": {},
   "outputs": [
    {
     "name": "stdout",
     "output_type": "stream",
     "text": [
      "request 0 -> response 0\n",
      "==== Received color, depth image from remote camera ====\n"
     ]
    }
   ],
   "source": [
    "from pkg.detector.aruco.marker_config import *\n",
    "\n",
    "aruco_map = get_aruco_map()\n",
    "\n",
    "cameraMatrix, distCoeffs, _ = micp.get_camera_config()\n",
    "color_img, _, Q_cur = micp.get_image()\n",
    "color_img = color_img.astype(np.uint8)\n",
    "obj_dict, corner_dict = aruco_map.get_object_pose_dict(color_img, cameraMatrix, distCoeffs)\n",
    "img_out = aruco_map.draw_objects(color_img, obj_dict, corner_dict, cameraMatrix, distCoeffs)"
   ]
  },
  {
   "cell_type": "markdown",
   "metadata": {},
   "source": [
    "## Waypoints"
   ]
  },
  {
   "cell_type": "code",
   "execution_count": 198,
   "metadata": {},
   "outputs": [],
   "source": [
    "pscene.remove_subject(\"waypoints\")\n",
    "gscene.remove(gscene.NAME_DICT[\"wp_0\"])"
   ]
  },
  {
   "cell_type": "code",
   "execution_count": 199,
   "metadata": {},
   "outputs": [],
   "source": [
    "WP_NAME = \"wp_{}\"\n",
    "WP_DIM = (0.1,0.1,0.01)\n",
    "Tbc = viewpoint.get_tf(crob.get_real_robot_pose())\n",
    "\n",
    "wp_g_list = []\n",
    "for i_t in range(3,4):    \n",
    "    Tco = obj_dict[\"target{}\".format(i_t)]\n",
    "    Tbo = np.matmul(Tbc, Tco)\n",
    "    wp_g = gscene.create_safe(GEOTYPE.BOX, WP_NAME.format(i_t), link_name=\"base_link\", dims=WP_DIM,\n",
    "                              center=Tbo[:3,3], rpy=Rot2rpy(Tbo[:3,:3]),\n",
    "                              fixed=True, collision=True, color=(0.0,0.0,0.8,1))\n",
    "    wp_g_list.append(wp_g)\n",
    "waypoint_s = pscene.create_subject(oname=\"waypoints\", gname=TABLE_NAME, _type=WaypointTask,\n",
    "                                 action_points_dict={\n",
    "                                     wp_g.name: WayFrame(\n",
    "                                         wp_g.name, wp_g, [0, 0, wp_g.dims[2] / 2], [0, 0, 0])\n",
    "                                     for wp_g in wp_g_list\n",
    "                                 })"
   ]
  },
  {
   "cell_type": "markdown",
   "metadata": {},
   "source": [
    "#### [SAVE DATA]"
   ]
  },
  {
   "cell_type": "code",
   "execution_count": null,
   "metadata": {},
   "outputs": [],
   "source": [
    "if SAVE_DATA:\n",
    "    color, depth, Qcur = micp.get_image()\n",
    "    cam_pose = viewpoint.get_tf(Qcur)\n",
    "    dcam.ready_saving(*micp.get_camera_config())\n",
    "    dcam.save_scene(color, depth, cam_pose)"
   ]
  },
  {
   "cell_type": "code",
   "execution_count": null,
   "metadata": {},
   "outputs": [],
   "source": []
  },
  {
   "cell_type": "code",
   "execution_count": null,
   "metadata": {},
   "outputs": [],
   "source": []
  },
  {
   "cell_type": "code",
   "execution_count": 62,
   "metadata": {},
   "outputs": [
    {
     "name": "stdout",
     "output_type": "stream",
     "text": [
      "connection command:\n",
      "pmb0: False\n",
      "panda_arm1: True\n"
     ]
    }
   ],
   "source": [
    "crob.reset_connection(False, True)"
   ]
  },
  {
   "cell_type": "markdown",
   "metadata": {},
   "source": [
    "### Drawing node graph"
   ]
  },
  {
   "cell_type": "code",
   "execution_count": 20,
   "metadata": {},
   "outputs": [
    {
     "data": {
      "image/svg+xml": [
       "<?xml version=\"1.0\" encoding=\"UTF-8\" standalone=\"no\"?>\n",
       "<!DOCTYPE svg PUBLIC \"-//W3C//DTD SVG 1.1//EN\"\n",
       " \"http://www.w3.org/Graphics/SVG/1.1/DTD/svg11.dtd\">\n",
       "<!-- Generated by graphviz version 2.40.1 (20161225.0304)\n",
       " -->\n",
       "<!-- Title: G Pages: 1 -->\n",
       "<svg width=\"2109pt\" height=\"404pt\"\n",
       " viewBox=\"0.00 0.00 2108.59 404.00\" xmlns=\"http://www.w3.org/2000/svg\" xmlns:xlink=\"http://www.w3.org/1999/xlink\">\n",
       "<g id=\"graph0\" class=\"graph\" transform=\"scale(1 1) rotate(0) translate(4 400)\">\n",
       "<title>G</title>\n",
       "<polygon fill=\"#ffffff\" stroke=\"transparent\" points=\"-4,4 -4,-400 2104.5859,-400 2104.5859,4 -4,4\"/>\n",
       "<!-- (&#39;f&#39;, &#39;f&#39;, &#39;m&#39;, &#39;f&#39;, &#39;f&#39;, 3) -->\n",
       "<g id=\"node1\" class=\"node\">\n",
       "<title>(&#39;f&#39;, &#39;f&#39;, &#39;m&#39;, &#39;f&#39;, &#39;f&#39;, 3)</title>\n",
       "<ellipse fill=\"none\" stroke=\"#000000\" cx=\"782.293\" cy=\"-234\" rx=\"79.0865\" ry=\"18\"/>\n",
       "<text text-anchor=\"middle\" x=\"782.293\" y=\"-230.3\" font-family=\"Times,serif\" font-size=\"14.00\" fill=\"#000000\">(&#39;f&#39;, &#39;f&#39;, &#39;m&#39;, &#39;f&#39;, &#39;f&#39;, 3)</text>\n",
       "</g>\n",
       "<!-- (&#39;f&#39;, &#39;f&#39;, &#39;f&#39;, &#39;f&#39;, &#39;f&#39;, 3) -->\n",
       "<g id=\"node2\" class=\"node\">\n",
       "<title>(&#39;f&#39;, &#39;f&#39;, &#39;f&#39;, &#39;f&#39;, &#39;f&#39;, 3)</title>\n",
       "<ellipse fill=\"none\" stroke=\"#000000\" cx=\"782.293\" cy=\"-162\" rx=\"74.9875\" ry=\"18\"/>\n",
       "<text text-anchor=\"middle\" x=\"782.293\" y=\"-158.3\" font-family=\"Times,serif\" font-size=\"14.00\" fill=\"#000000\">(&#39;f&#39;, &#39;f&#39;, &#39;f&#39;, &#39;f&#39;, &#39;f&#39;, 3)</text>\n",
       "</g>\n",
       "<!-- (&#39;f&#39;, &#39;f&#39;, &#39;m&#39;, &#39;f&#39;, &#39;f&#39;, 3)&#45;&gt;(&#39;f&#39;, &#39;f&#39;, &#39;f&#39;, &#39;f&#39;, &#39;f&#39;, 3) -->\n",
       "<g id=\"edge1\" class=\"edge\">\n",
       "<title>(&#39;f&#39;, &#39;f&#39;, &#39;m&#39;, &#39;f&#39;, &#39;f&#39;, 3)&#45;&gt;(&#39;f&#39;, &#39;f&#39;, &#39;f&#39;, &#39;f&#39;, &#39;f&#39;, 3)</title>\n",
       "<path fill=\"none\" stroke=\"#000000\" d=\"M776.3406,-215.8314C775.5901,-208.131 775.3692,-198.9743 775.6779,-190.4166\"/>\n",
       "<polygon fill=\"#000000\" stroke=\"#000000\" points=\"779.1722,-190.6161 776.317,-180.4133 772.1864,-190.1697 779.1722,-190.6161\"/>\n",
       "</g>\n",
       "<!-- (&#39;f&#39;, &#39;f&#39;, &#39;f&#39;, &#39;f&#39;, &#39;f&#39;, 3)&#45;&gt;(&#39;f&#39;, &#39;f&#39;, &#39;m&#39;, &#39;f&#39;, &#39;f&#39;, 3) -->\n",
       "<g id=\"edge11\" class=\"edge\">\n",
       "<title>(&#39;f&#39;, &#39;f&#39;, &#39;f&#39;, &#39;f&#39;, &#39;f&#39;, 3)&#45;&gt;(&#39;f&#39;, &#39;f&#39;, &#39;m&#39;, &#39;f&#39;, &#39;f&#39;, 3)</title>\n",
       "<path fill=\"none\" stroke=\"#000000\" d=\"M788.269,-180.4133C789.0001,-188.0593 789.2132,-197.1084 788.9084,-205.5726\"/>\n",
       "<polygon fill=\"#000000\" stroke=\"#000000\" points=\"785.3977,-205.6264 788.2454,-215.8314 792.3832,-206.078 785.3977,-205.6264\"/>\n",
       "</g>\n",
       "<!-- (&#39;f&#39;, &#39;f&#39;, &#39;f&#39;, &#39;f&#39;, &#39;f&#39;, 4) -->\n",
       "<g id=\"node4\" class=\"node\">\n",
       "<title>(&#39;f&#39;, &#39;f&#39;, &#39;f&#39;, &#39;f&#39;, &#39;f&#39;, 4)</title>\n",
       "<ellipse fill=\"none\" stroke=\"#000000\" cx=\"433.293\" cy=\"-90\" rx=\"74.9875\" ry=\"18\"/>\n",
       "<text text-anchor=\"middle\" x=\"433.293\" y=\"-86.3\" font-family=\"Times,serif\" font-size=\"14.00\" fill=\"#000000\">(&#39;f&#39;, &#39;f&#39;, &#39;f&#39;, &#39;f&#39;, &#39;f&#39;, 4)</text>\n",
       "</g>\n",
       "<!-- (&#39;f&#39;, &#39;f&#39;, &#39;f&#39;, &#39;f&#39;, &#39;f&#39;, 3)&#45;&gt;(&#39;f&#39;, &#39;f&#39;, &#39;f&#39;, &#39;f&#39;, &#39;f&#39;, 4) -->\n",
       "<g id=\"edge7\" class=\"edge\">\n",
       "<title>(&#39;f&#39;, &#39;f&#39;, &#39;f&#39;, &#39;f&#39;, &#39;f&#39;, 3)&#45;&gt;(&#39;f&#39;, &#39;f&#39;, &#39;f&#39;, &#39;f&#39;, &#39;f&#39;, 4)</title>\n",
       "<path fill=\"none\" stroke=\"#000000\" d=\"M724.8789,-150.474C671.1801,-139.6527 588.7594,-122.9382 517.293,-108 511.4945,-106.788 505.4732,-105.5187 499.4379,-104.2392\"/>\n",
       "<polygon fill=\"#000000\" stroke=\"#000000\" points=\"499.8138,-100.741 489.3045,-102.0845 498.3579,-107.5879 499.8138,-100.741\"/>\n",
       "</g>\n",
       "<!-- (&#39;f&#39;, &#39;f&#39;, &#39;f&#39;, &#39;m&#39;, &#39;f&#39;, 3) -->\n",
       "<g id=\"node8\" class=\"node\">\n",
       "<title>(&#39;f&#39;, &#39;f&#39;, &#39;f&#39;, &#39;m&#39;, &#39;f&#39;, 3)</title>\n",
       "<ellipse fill=\"none\" stroke=\"#000000\" cx=\"605.293\" cy=\"-90\" rx=\"79.0865\" ry=\"18\"/>\n",
       "<text text-anchor=\"middle\" x=\"605.293\" y=\"-86.3\" font-family=\"Times,serif\" font-size=\"14.00\" fill=\"#000000\">(&#39;f&#39;, &#39;f&#39;, &#39;f&#39;, &#39;m&#39;, &#39;f&#39;, 3)</text>\n",
       "</g>\n",
       "<!-- (&#39;f&#39;, &#39;f&#39;, &#39;f&#39;, &#39;f&#39;, &#39;f&#39;, 3)&#45;&gt;(&#39;f&#39;, &#39;f&#39;, &#39;f&#39;, &#39;m&#39;, &#39;f&#39;, 3) -->\n",
       "<g id=\"edge9\" class=\"edge\">\n",
       "<title>(&#39;f&#39;, &#39;f&#39;, &#39;f&#39;, &#39;f&#39;, &#39;f&#39;, 3)&#45;&gt;(&#39;f&#39;, &#39;f&#39;, &#39;f&#39;, &#39;m&#39;, &#39;f&#39;, 3)</title>\n",
       "<path fill=\"none\" stroke=\"#000000\" d=\"M740.0257,-147.0816C712.518,-136.4332 676.817,-121.9853 649.0287,-110.2896\"/>\n",
       "<polygon fill=\"#000000\" stroke=\"#000000\" points=\"650.1293,-106.9548 639.556,-106.2782 647.3996,-113.4006 650.1293,-106.9548\"/>\n",
       "</g>\n",
       "<!-- (&#39;f&#39;, &#39;m&#39;, &#39;f&#39;, &#39;f&#39;, &#39;f&#39;, 3) -->\n",
       "<g id=\"node9\" class=\"node\">\n",
       "<title>(&#39;f&#39;, &#39;m&#39;, &#39;f&#39;, &#39;f&#39;, &#39;f&#39;, 3)</title>\n",
       "<ellipse fill=\"none\" stroke=\"#000000\" cx=\"782.293\" cy=\"-90\" rx=\"79.0865\" ry=\"18\"/>\n",
       "<text text-anchor=\"middle\" x=\"782.293\" y=\"-86.3\" font-family=\"Times,serif\" font-size=\"14.00\" fill=\"#000000\">(&#39;f&#39;, &#39;m&#39;, &#39;f&#39;, &#39;f&#39;, &#39;f&#39;, 3)</text>\n",
       "</g>\n",
       "<!-- (&#39;f&#39;, &#39;f&#39;, &#39;f&#39;, &#39;f&#39;, &#39;f&#39;, 3)&#45;&gt;(&#39;f&#39;, &#39;m&#39;, &#39;f&#39;, &#39;f&#39;, &#39;f&#39;, 3) -->\n",
       "<g id=\"edge6\" class=\"edge\">\n",
       "<title>(&#39;f&#39;, &#39;f&#39;, &#39;f&#39;, &#39;f&#39;, &#39;f&#39;, 3)&#45;&gt;(&#39;f&#39;, &#39;m&#39;, &#39;f&#39;, &#39;f&#39;, &#39;f&#39;, 3)</title>\n",
       "<path fill=\"none\" stroke=\"#000000\" d=\"M776.3406,-143.8314C775.5901,-136.131 775.3692,-126.9743 775.6779,-118.4166\"/>\n",
       "<polygon fill=\"#000000\" stroke=\"#000000\" points=\"779.1722,-118.6161 776.317,-108.4133 772.1864,-118.1697 779.1722,-118.6161\"/>\n",
       "</g>\n",
       "<!-- (&#39;f&#39;, &#39;f&#39;, &#39;f&#39;, &#39;f&#39;, &#39;m&#39;, 3) -->\n",
       "<g id=\"node10\" class=\"node\">\n",
       "<title>(&#39;f&#39;, &#39;f&#39;, &#39;f&#39;, &#39;f&#39;, &#39;m&#39;, 3)</title>\n",
       "<ellipse fill=\"none\" stroke=\"#000000\" cx=\"959.293\" cy=\"-90\" rx=\"79.0865\" ry=\"18\"/>\n",
       "<text text-anchor=\"middle\" x=\"959.293\" y=\"-86.3\" font-family=\"Times,serif\" font-size=\"14.00\" fill=\"#000000\">(&#39;f&#39;, &#39;f&#39;, &#39;f&#39;, &#39;f&#39;, &#39;m&#39;, 3)</text>\n",
       "</g>\n",
       "<!-- (&#39;f&#39;, &#39;f&#39;, &#39;f&#39;, &#39;f&#39;, &#39;f&#39;, 3)&#45;&gt;(&#39;f&#39;, &#39;f&#39;, &#39;f&#39;, &#39;f&#39;, &#39;m&#39;, 3) -->\n",
       "<g id=\"edge8\" class=\"edge\">\n",
       "<title>(&#39;f&#39;, &#39;f&#39;, &#39;f&#39;, &#39;f&#39;, &#39;f&#39;, 3)&#45;&gt;(&#39;f&#39;, &#39;f&#39;, &#39;f&#39;, &#39;f&#39;, &#39;m&#39;, 3)</title>\n",
       "<path fill=\"none\" stroke=\"#000000\" d=\"M816.2747,-145.8418C841.8649,-134.9275 877.2975,-120.4748 906.5352,-109.0073\"/>\n",
       "<polygon fill=\"#000000\" stroke=\"#000000\" points=\"908.145,-112.1363 916.1899,-105.2422 905.6016,-105.6147 908.145,-112.1363\"/>\n",
       "</g>\n",
       "<!-- (&#39;m&#39;, &#39;f&#39;, &#39;f&#39;, &#39;f&#39;, &#39;f&#39;, 3) -->\n",
       "<g id=\"node11\" class=\"node\">\n",
       "<title>(&#39;m&#39;, &#39;f&#39;, &#39;f&#39;, &#39;f&#39;, &#39;f&#39;, 3)</title>\n",
       "<ellipse fill=\"none\" stroke=\"#000000\" cx=\"1136.293\" cy=\"-90\" rx=\"79.0865\" ry=\"18\"/>\n",
       "<text text-anchor=\"middle\" x=\"1136.293\" y=\"-86.3\" font-family=\"Times,serif\" font-size=\"14.00\" fill=\"#000000\">(&#39;m&#39;, &#39;f&#39;, &#39;f&#39;, &#39;f&#39;, &#39;f&#39;, 3)</text>\n",
       "</g>\n",
       "<!-- (&#39;f&#39;, &#39;f&#39;, &#39;f&#39;, &#39;f&#39;, &#39;f&#39;, 3)&#45;&gt;(&#39;m&#39;, &#39;f&#39;, &#39;f&#39;, &#39;f&#39;, &#39;f&#39;, 3) -->\n",
       "<g id=\"edge10\" class=\"edge\">\n",
       "<title>(&#39;f&#39;, &#39;f&#39;, &#39;f&#39;, &#39;f&#39;, &#39;f&#39;, 3)&#45;&gt;(&#39;m&#39;, &#39;f&#39;, &#39;f&#39;, &#39;f&#39;, &#39;f&#39;, 3)</title>\n",
       "<path fill=\"none\" stroke=\"#000000\" d=\"M833.91,-148.9153C841.7224,-147.2433 849.6978,-145.569 857.293,-144 937.6171,-127.4067 957.8744,-124.1296 1038.293,-108 1046.4027,-106.3734 1054.9269,-104.6575 1063.4323,-102.9571\"/>\n",
       "<polygon fill=\"#000000\" stroke=\"#000000\" points=\"1064.2591,-106.3612 1073.3823,-100.9745 1062.8912,-99.4962 1064.2591,-106.3612\"/>\n",
       "</g>\n",
       "<!-- (&#39;f&#39;, &#39;f&#39;, &#39;f&#39;, &#39;m&#39;, &#39;f&#39;, 4) -->\n",
       "<g id=\"node3\" class=\"node\">\n",
       "<title>(&#39;f&#39;, &#39;f&#39;, &#39;f&#39;, &#39;m&#39;, &#39;f&#39;, 4)</title>\n",
       "<ellipse fill=\"none\" stroke=\"#000000\" cx=\"79.293\" cy=\"-18\" rx=\"79.0865\" ry=\"18\"/>\n",
       "<text text-anchor=\"middle\" x=\"79.293\" y=\"-14.3\" font-family=\"Times,serif\" font-size=\"14.00\" fill=\"#000000\">(&#39;f&#39;, &#39;f&#39;, &#39;f&#39;, &#39;m&#39;, &#39;f&#39;, 4)</text>\n",
       "</g>\n",
       "<!-- (&#39;f&#39;, &#39;f&#39;, &#39;f&#39;, &#39;m&#39;, &#39;f&#39;, 4)&#45;&gt;(&#39;f&#39;, &#39;f&#39;, &#39;f&#39;, &#39;f&#39;, &#39;f&#39;, 4) -->\n",
       "<g id=\"edge2\" class=\"edge\">\n",
       "<title>(&#39;f&#39;, &#39;f&#39;, &#39;f&#39;, &#39;m&#39;, &#39;f&#39;, 4)&#45;&gt;(&#39;f&#39;, &#39;f&#39;, &#39;f&#39;, &#39;f&#39;, &#39;f&#39;, 4)</title>\n",
       "<path fill=\"none\" stroke=\"#000000\" d=\"M140.7951,-29.4718C204.3451,-41.9808 303.0304,-62.0233 367.951,-75.5857\"/>\n",
       "<polygon fill=\"#000000\" stroke=\"#000000\" points=\"367.5649,-79.0807 378.07,-77.7046 368.9996,-72.2292 367.5649,-79.0807\"/>\n",
       "</g>\n",
       "<!-- (&#39;f&#39;, &#39;f&#39;, &#39;f&#39;, &#39;f&#39;, &#39;f&#39;, 4)&#45;&gt;(&#39;f&#39;, &#39;f&#39;, &#39;f&#39;, &#39;m&#39;, &#39;f&#39;, 4) -->\n",
       "<g id=\"edge32\" class=\"edge\">\n",
       "<title>(&#39;f&#39;, &#39;f&#39;, &#39;f&#39;, &#39;f&#39;, &#39;f&#39;, 4)&#45;&gt;(&#39;f&#39;, &#39;f&#39;, &#39;f&#39;, &#39;m&#39;, &#39;f&#39;, 4)</title>\n",
       "<path fill=\"none\" stroke=\"#000000\" d=\"M374.1199,-78.9864C311.1284,-66.6026 211.79,-46.4351 146.053,-32.7105\"/>\n",
       "<polygon fill=\"#000000\" stroke=\"#000000\" points=\"146.7092,-29.2721 136.2043,-30.6497 145.2755,-36.1237 146.7092,-29.2721\"/>\n",
       "</g>\n",
       "<!-- (&#39;f&#39;, &#39;f&#39;, &#39;f&#39;, &#39;f&#39;, &#39;f&#39;, 5) -->\n",
       "<g id=\"node6\" class=\"node\">\n",
       "<title>(&#39;f&#39;, &#39;f&#39;, &#39;f&#39;, &#39;f&#39;, &#39;f&#39;, 5)</title>\n",
       "<ellipse fill=\"none\" stroke=\"#000000\" cx=\"1578.293\" cy=\"-18\" rx=\"74.9875\" ry=\"18\"/>\n",
       "<text text-anchor=\"middle\" x=\"1578.293\" y=\"-14.3\" font-family=\"Times,serif\" font-size=\"14.00\" fill=\"#000000\">(&#39;f&#39;, &#39;f&#39;, &#39;f&#39;, &#39;f&#39;, &#39;f&#39;, 5)</text>\n",
       "</g>\n",
       "<!-- (&#39;f&#39;, &#39;f&#39;, &#39;f&#39;, &#39;f&#39;, &#39;f&#39;, 4)&#45;&gt;(&#39;f&#39;, &#39;f&#39;, &#39;f&#39;, &#39;f&#39;, &#39;f&#39;, 5) -->\n",
       "<g id=\"edge34\" class=\"edge\">\n",
       "<title>(&#39;f&#39;, &#39;f&#39;, &#39;f&#39;, &#39;f&#39;, &#39;f&#39;, 4)&#45;&gt;(&#39;f&#39;, &#39;f&#39;, &#39;f&#39;, &#39;f&#39;, &#39;f&#39;, 5)</title>\n",
       "<path fill=\"none\" stroke=\"#000000\" d=\"M486.3932,-77.2783C496.598,-75.2154 507.238,-73.3245 517.293,-72 705.5086,-47.207 1277.0945,-27.3698 1493.786,-20.55\"/>\n",
       "<polygon fill=\"#000000\" stroke=\"#000000\" points=\"1493.9481,-24.0467 1503.8335,-20.2351 1493.7287,-17.0502 1493.9481,-24.0467\"/>\n",
       "</g>\n",
       "<!-- (&#39;f&#39;, &#39;m&#39;, &#39;f&#39;, &#39;f&#39;, &#39;f&#39;, 4) -->\n",
       "<g id=\"node7\" class=\"node\">\n",
       "<title>(&#39;f&#39;, &#39;m&#39;, &#39;f&#39;, &#39;f&#39;, &#39;f&#39;, 4)</title>\n",
       "<ellipse fill=\"none\" stroke=\"#000000\" cx=\"256.293\" cy=\"-18\" rx=\"79.0865\" ry=\"18\"/>\n",
       "<text text-anchor=\"middle\" x=\"256.293\" y=\"-14.3\" font-family=\"Times,serif\" font-size=\"14.00\" fill=\"#000000\">(&#39;f&#39;, &#39;m&#39;, &#39;f&#39;, &#39;f&#39;, &#39;f&#39;, 4)</text>\n",
       "</g>\n",
       "<!-- (&#39;f&#39;, &#39;f&#39;, &#39;f&#39;, &#39;f&#39;, &#39;f&#39;, 4)&#45;&gt;(&#39;f&#39;, &#39;m&#39;, &#39;f&#39;, &#39;f&#39;, &#39;f&#39;, 4) -->\n",
       "<g id=\"edge29\" class=\"edge\">\n",
       "<title>(&#39;f&#39;, &#39;f&#39;, &#39;f&#39;, &#39;f&#39;, &#39;f&#39;, 4)&#45;&gt;(&#39;f&#39;, &#39;m&#39;, &#39;f&#39;, &#39;f&#39;, &#39;f&#39;, 4)</title>\n",
       "<path fill=\"none\" stroke=\"#000000\" d=\"M391.0257,-75.0816C363.518,-64.4332 327.817,-49.9853 300.0287,-38.2896\"/>\n",
       "<polygon fill=\"#000000\" stroke=\"#000000\" points=\"301.1293,-34.9548 290.556,-34.2782 298.3996,-41.4006 301.1293,-34.9548\"/>\n",
       "</g>\n",
       "<!-- (&#39;f&#39;, &#39;f&#39;, &#39;f&#39;, &#39;f&#39;, &#39;m&#39;, 4) -->\n",
       "<g id=\"node24\" class=\"node\">\n",
       "<title>(&#39;f&#39;, &#39;f&#39;, &#39;f&#39;, &#39;f&#39;, &#39;m&#39;, 4)</title>\n",
       "<ellipse fill=\"none\" stroke=\"#000000\" cx=\"433.293\" cy=\"-18\" rx=\"79.0865\" ry=\"18\"/>\n",
       "<text text-anchor=\"middle\" x=\"433.293\" y=\"-14.3\" font-family=\"Times,serif\" font-size=\"14.00\" fill=\"#000000\">(&#39;f&#39;, &#39;f&#39;, &#39;f&#39;, &#39;f&#39;, &#39;m&#39;, 4)</text>\n",
       "</g>\n",
       "<!-- (&#39;f&#39;, &#39;f&#39;, &#39;f&#39;, &#39;f&#39;, &#39;f&#39;, 4)&#45;&gt;(&#39;f&#39;, &#39;f&#39;, &#39;f&#39;, &#39;f&#39;, &#39;m&#39;, 4) -->\n",
       "<g id=\"edge33\" class=\"edge\">\n",
       "<title>(&#39;f&#39;, &#39;f&#39;, &#39;f&#39;, &#39;f&#39;, &#39;f&#39;, 4)&#45;&gt;(&#39;f&#39;, &#39;f&#39;, &#39;f&#39;, &#39;f&#39;, &#39;m&#39;, 4)</title>\n",
       "<path fill=\"none\" stroke=\"#000000\" d=\"M427.3406,-71.8314C426.5901,-64.131 426.3692,-54.9743 426.6779,-46.4166\"/>\n",
       "<polygon fill=\"#000000\" stroke=\"#000000\" points=\"430.1722,-46.6161 427.317,-36.4133 423.1864,-46.1697 430.1722,-46.6161\"/>\n",
       "</g>\n",
       "<!-- (&#39;f&#39;, &#39;f&#39;, &#39;m&#39;, &#39;f&#39;, &#39;f&#39;, 4) -->\n",
       "<g id=\"node28\" class=\"node\">\n",
       "<title>(&#39;f&#39;, &#39;f&#39;, &#39;m&#39;, &#39;f&#39;, &#39;f&#39;, 4)</title>\n",
       "<ellipse fill=\"none\" stroke=\"#000000\" cx=\"610.293\" cy=\"-18\" rx=\"79.0865\" ry=\"18\"/>\n",
       "<text text-anchor=\"middle\" x=\"610.293\" y=\"-14.3\" font-family=\"Times,serif\" font-size=\"14.00\" fill=\"#000000\">(&#39;f&#39;, &#39;f&#39;, &#39;m&#39;, &#39;f&#39;, &#39;f&#39;, 4)</text>\n",
       "</g>\n",
       "<!-- (&#39;f&#39;, &#39;f&#39;, &#39;f&#39;, &#39;f&#39;, &#39;f&#39;, 4)&#45;&gt;(&#39;f&#39;, &#39;f&#39;, &#39;m&#39;, &#39;f&#39;, &#39;f&#39;, 4) -->\n",
       "<g id=\"edge30\" class=\"edge\">\n",
       "<title>(&#39;f&#39;, &#39;f&#39;, &#39;f&#39;, &#39;f&#39;, &#39;f&#39;, 4)&#45;&gt;(&#39;f&#39;, &#39;f&#39;, &#39;m&#39;, &#39;f&#39;, &#39;f&#39;, 4)</title>\n",
       "<path fill=\"none\" stroke=\"#000000\" d=\"M467.2747,-73.8418C492.8649,-62.9275 528.2975,-48.4748 557.5352,-37.0073\"/>\n",
       "<polygon fill=\"#000000\" stroke=\"#000000\" points=\"559.145,-40.1363 567.1899,-33.2422 556.6016,-33.6147 559.145,-40.1363\"/>\n",
       "</g>\n",
       "<!-- (&#39;m&#39;, &#39;f&#39;, &#39;f&#39;, &#39;f&#39;, &#39;f&#39;, 4) -->\n",
       "<g id=\"node29\" class=\"node\">\n",
       "<title>(&#39;m&#39;, &#39;f&#39;, &#39;f&#39;, &#39;f&#39;, &#39;f&#39;, 4)</title>\n",
       "<ellipse fill=\"none\" stroke=\"#000000\" cx=\"787.293\" cy=\"-18\" rx=\"79.0865\" ry=\"18\"/>\n",
       "<text text-anchor=\"middle\" x=\"787.293\" y=\"-14.3\" font-family=\"Times,serif\" font-size=\"14.00\" fill=\"#000000\">(&#39;m&#39;, &#39;f&#39;, &#39;f&#39;, &#39;f&#39;, &#39;f&#39;, 4)</text>\n",
       "</g>\n",
       "<!-- (&#39;f&#39;, &#39;f&#39;, &#39;f&#39;, &#39;f&#39;, &#39;f&#39;, 4)&#45;&gt;(&#39;m&#39;, &#39;f&#39;, &#39;f&#39;, &#39;f&#39;, &#39;f&#39;, 4) -->\n",
       "<g id=\"edge31\" class=\"edge\">\n",
       "<title>(&#39;f&#39;, &#39;f&#39;, &#39;f&#39;, &#39;f&#39;, &#39;f&#39;, 4)&#45;&gt;(&#39;m&#39;, &#39;f&#39;, &#39;f&#39;, &#39;f&#39;, &#39;f&#39;, 4)</title>\n",
       "<path fill=\"none\" stroke=\"#000000\" d=\"M484.91,-76.9153C492.7224,-75.2433 500.6978,-73.569 508.293,-72 588.6171,-55.4067 608.8744,-52.1296 689.293,-36 697.4027,-34.3734 705.9269,-32.6575 714.4323,-30.9571\"/>\n",
       "<polygon fill=\"#000000\" stroke=\"#000000\" points=\"715.2591,-34.3612 724.3823,-28.9745 713.8912,-27.4962 715.2591,-34.3612\"/>\n",
       "</g>\n",
       "<!-- (&#39;m&#39;, &#39;f&#39;, &#39;f&#39;, &#39;f&#39;, &#39;f&#39;, 5) -->\n",
       "<g id=\"node5\" class=\"node\">\n",
       "<title>(&#39;m&#39;, &#39;f&#39;, &#39;f&#39;, &#39;f&#39;, &#39;f&#39;, 5)</title>\n",
       "<ellipse fill=\"none\" stroke=\"#000000\" cx=\"1313.293\" cy=\"-90\" rx=\"79.0865\" ry=\"18\"/>\n",
       "<text text-anchor=\"middle\" x=\"1313.293\" y=\"-86.3\" font-family=\"Times,serif\" font-size=\"14.00\" fill=\"#000000\">(&#39;m&#39;, &#39;f&#39;, &#39;f&#39;, &#39;f&#39;, &#39;f&#39;, 5)</text>\n",
       "</g>\n",
       "<!-- (&#39;m&#39;, &#39;f&#39;, &#39;f&#39;, &#39;f&#39;, &#39;f&#39;, 5)&#45;&gt;(&#39;f&#39;, &#39;f&#39;, &#39;f&#39;, &#39;f&#39;, &#39;f&#39;, 5) -->\n",
       "<g id=\"edge3\" class=\"edge\">\n",
       "<title>(&#39;m&#39;, &#39;f&#39;, &#39;f&#39;, &#39;f&#39;, &#39;f&#39;, 5)&#45;&gt;(&#39;f&#39;, &#39;f&#39;, &#39;f&#39;, &#39;f&#39;, &#39;f&#39;, 5)</title>\n",
       "<path fill=\"none\" stroke=\"#000000\" d=\"M1364.3876,-76.1177C1408.5257,-64.1255 1472.3407,-46.787 1518.7751,-34.1709\"/>\n",
       "<polygon fill=\"#000000\" stroke=\"#000000\" points=\"1519.9687,-37.4736 1528.7011,-31.474 1518.1333,-30.7185 1519.9687,-37.4736\"/>\n",
       "</g>\n",
       "<!-- (&#39;f&#39;, &#39;m&#39;, &#39;f&#39;, &#39;f&#39;, &#39;f&#39;, 4)&#45;&gt;(&#39;f&#39;, &#39;f&#39;, &#39;f&#39;, &#39;f&#39;, &#39;f&#39;, 4) -->\n",
       "<g id=\"edge4\" class=\"edge\">\n",
       "<title>(&#39;f&#39;, &#39;m&#39;, &#39;f&#39;, &#39;f&#39;, &#39;f&#39;, 4)&#45;&gt;(&#39;f&#39;, &#39;f&#39;, &#39;f&#39;, &#39;f&#39;, &#39;f&#39;, 4)</title>\n",
       "<path fill=\"none\" stroke=\"#000000\" d=\"M299.396,-33.2422C326.908,-43.9048 362.3584,-58.2579 389.9181,-69.8623\"/>\n",
       "<polygon fill=\"#000000\" stroke=\"#000000\" points=\"388.7381,-73.1635 399.3112,-73.8418 391.4688,-66.7181 388.7381,-73.1635\"/>\n",
       "</g>\n",
       "<!-- (&#39;f&#39;, &#39;f&#39;, &#39;f&#39;, &#39;m&#39;, &#39;f&#39;, 3)&#45;&gt;(&#39;f&#39;, &#39;f&#39;, &#39;f&#39;, &#39;f&#39;, &#39;f&#39;, 3) -->\n",
       "<g id=\"edge5\" class=\"edge\">\n",
       "<title>(&#39;f&#39;, &#39;f&#39;, &#39;f&#39;, &#39;m&#39;, &#39;f&#39;, 3)&#45;&gt;(&#39;f&#39;, &#39;f&#39;, &#39;f&#39;, &#39;f&#39;, &#39;f&#39;, 3)</title>\n",
       "<path fill=\"none\" stroke=\"#000000\" d=\"M648.396,-105.2422C675.908,-115.9048 711.3584,-130.2579 738.9181,-141.8623\"/>\n",
       "<polygon fill=\"#000000\" stroke=\"#000000\" points=\"737.7381,-145.1635 748.3112,-145.8418 740.4688,-138.7181 737.7381,-145.1635\"/>\n",
       "</g>\n",
       "<!-- (&#39;f&#39;, &#39;m&#39;, &#39;f&#39;, &#39;f&#39;, &#39;f&#39;, 3)&#45;&gt;(&#39;f&#39;, &#39;f&#39;, &#39;f&#39;, &#39;f&#39;, &#39;f&#39;, 3) -->\n",
       "<g id=\"edge58\" class=\"edge\">\n",
       "<title>(&#39;f&#39;, &#39;m&#39;, &#39;f&#39;, &#39;f&#39;, &#39;f&#39;, 3)&#45;&gt;(&#39;f&#39;, &#39;f&#39;, &#39;f&#39;, &#39;f&#39;, &#39;f&#39;, 3)</title>\n",
       "<path fill=\"none\" stroke=\"#000000\" d=\"M788.269,-108.4133C789.0001,-116.0593 789.2132,-125.1084 788.9084,-133.5726\"/>\n",
       "<polygon fill=\"#000000\" stroke=\"#000000\" points=\"785.3977,-133.6264 788.2454,-143.8314 792.3832,-134.078 785.3977,-133.6264\"/>\n",
       "</g>\n",
       "<!-- (&#39;f&#39;, &#39;f&#39;, &#39;f&#39;, &#39;f&#39;, &#39;m&#39;, 3)&#45;&gt;(&#39;f&#39;, &#39;f&#39;, &#39;f&#39;, &#39;f&#39;, &#39;f&#39;, 3) -->\n",
       "<g id=\"edge53\" class=\"edge\">\n",
       "<title>(&#39;f&#39;, &#39;f&#39;, &#39;f&#39;, &#39;f&#39;, &#39;m&#39;, 3)&#45;&gt;(&#39;f&#39;, &#39;f&#39;, &#39;f&#39;, &#39;f&#39;, &#39;f&#39;, 3)</title>\n",
       "<path fill=\"none\" stroke=\"#000000\" d=\"M925.0299,-106.2782C899.2191,-117.2817 863.5108,-131.8406 834.2229,-143.3172\"/>\n",
       "<polygon fill=\"#000000\" stroke=\"#000000\" points=\"832.6076,-140.1902 824.5602,-147.0816 835.1486,-146.7128 832.6076,-140.1902\"/>\n",
       "</g>\n",
       "<!-- (&#39;m&#39;, &#39;f&#39;, &#39;f&#39;, &#39;f&#39;, &#39;f&#39;, 3)&#45;&gt;(&#39;f&#39;, &#39;f&#39;, &#39;f&#39;, &#39;f&#39;, &#39;f&#39;, 3) -->\n",
       "<g id=\"edge27\" class=\"edge\">\n",
       "<title>(&#39;m&#39;, &#39;f&#39;, &#39;f&#39;, &#39;f&#39;, &#39;f&#39;, 3)&#45;&gt;(&#39;f&#39;, &#39;f&#39;, &#39;f&#39;, &#39;f&#39;, &#39;f&#39;, 3)</title>\n",
       "<path fill=\"none\" stroke=\"#000000\" d=\"M1081.0534,-103.0027C1072.7746,-104.6881 1064.3303,-106.3879 1056.293,-108 975.8744,-124.1296 955.6171,-127.4067 875.293,-144 867.6088,-145.5874 859.5354,-147.2825 851.4792,-148.9741\"/>\n",
       "<polygon fill=\"#000000\" stroke=\"#000000\" points=\"850.7564,-145.5494 841.6881,-151.0281 852.1937,-152.4003 850.7564,-145.5494\"/>\n",
       "</g>\n",
       "<!-- (&#39;f&#39;, &#39;f&#39;, &#39;f&#39;, &#39;m&#39;, &#39;f&#39;, 5) -->\n",
       "<g id=\"node12\" class=\"node\">\n",
       "<title>(&#39;f&#39;, &#39;f&#39;, &#39;f&#39;, &#39;m&#39;, &#39;f&#39;, 5)</title>\n",
       "<ellipse fill=\"none\" stroke=\"#000000\" cx=\"1490.293\" cy=\"-90\" rx=\"79.0865\" ry=\"18\"/>\n",
       "<text text-anchor=\"middle\" x=\"1490.293\" y=\"-86.3\" font-family=\"Times,serif\" font-size=\"14.00\" fill=\"#000000\">(&#39;f&#39;, &#39;f&#39;, &#39;f&#39;, &#39;m&#39;, &#39;f&#39;, 5)</text>\n",
       "</g>\n",
       "<!-- (&#39;f&#39;, &#39;f&#39;, &#39;f&#39;, &#39;m&#39;, &#39;f&#39;, 5)&#45;&gt;(&#39;f&#39;, &#39;f&#39;, &#39;f&#39;, &#39;f&#39;, &#39;f&#39;, 5) -->\n",
       "<g id=\"edge12\" class=\"edge\">\n",
       "<title>(&#39;f&#39;, &#39;f&#39;, &#39;f&#39;, &#39;m&#39;, &#39;f&#39;, 5)&#45;&gt;(&#39;f&#39;, &#39;f&#39;, &#39;f&#39;, &#39;f&#39;, &#39;f&#39;, 5)</title>\n",
       "<path fill=\"none\" stroke=\"#000000\" d=\"M1511.5953,-72.5708C1522.945,-63.2847 1537.0693,-51.7285 1549.3945,-41.6442\"/>\n",
       "<polygon fill=\"#000000\" stroke=\"#000000\" points=\"1551.6635,-44.31 1557.1868,-35.2687 1547.2309,-38.8922 1551.6635,-44.31\"/>\n",
       "</g>\n",
       "<!-- (&#39;f&#39;, &#39;f&#39;, &#39;f&#39;, &#39;m&#39;, &#39;f&#39;, 0) -->\n",
       "<g id=\"node13\" class=\"node\">\n",
       "<title>(&#39;f&#39;, &#39;f&#39;, &#39;f&#39;, &#39;m&#39;, &#39;f&#39;, 0)</title>\n",
       "<ellipse fill=\"none\" stroke=\"#000000\" cx=\"1131.293\" cy=\"-306\" rx=\"79.0865\" ry=\"18\"/>\n",
       "<text text-anchor=\"middle\" x=\"1131.293\" y=\"-302.3\" font-family=\"Times,serif\" font-size=\"14.00\" fill=\"#000000\">(&#39;f&#39;, &#39;f&#39;, &#39;f&#39;, &#39;m&#39;, &#39;f&#39;, 0)</text>\n",
       "</g>\n",
       "<!-- (&#39;f&#39;, &#39;f&#39;, &#39;f&#39;, &#39;f&#39;, &#39;f&#39;, 0) -->\n",
       "<g id=\"node14\" class=\"node\">\n",
       "<title>(&#39;f&#39;, &#39;f&#39;, &#39;f&#39;, &#39;f&#39;, &#39;f&#39;, 0)</title>\n",
       "<ellipse fill=\"none\" stroke=\"#000000\" cx=\"1485.293\" cy=\"-378\" rx=\"74.9875\" ry=\"18\"/>\n",
       "<text text-anchor=\"middle\" x=\"1485.293\" y=\"-374.3\" font-family=\"Times,serif\" font-size=\"14.00\" fill=\"#000000\">(&#39;f&#39;, &#39;f&#39;, &#39;f&#39;, &#39;f&#39;, &#39;f&#39;, 0)</text>\n",
       "</g>\n",
       "<!-- (&#39;f&#39;, &#39;f&#39;, &#39;f&#39;, &#39;m&#39;, &#39;f&#39;, 0)&#45;&gt;(&#39;f&#39;, &#39;f&#39;, &#39;f&#39;, &#39;f&#39;, &#39;f&#39;, 0) -->\n",
       "<g id=\"edge13\" class=\"edge\">\n",
       "<title>(&#39;f&#39;, &#39;f&#39;, &#39;f&#39;, &#39;m&#39;, &#39;f&#39;, 0)&#45;&gt;(&#39;f&#39;, &#39;f&#39;, &#39;f&#39;, &#39;f&#39;, &#39;f&#39;, 0)</title>\n",
       "<path fill=\"none\" stroke=\"#000000\" d=\"M1192.7951,-317.4718C1256.3451,-329.9808 1355.0304,-350.0233 1419.951,-363.5857\"/>\n",
       "<polygon fill=\"#000000\" stroke=\"#000000\" points=\"1419.5649,-367.0807 1430.07,-365.7046 1420.9996,-360.2292 1419.5649,-367.0807\"/>\n",
       "</g>\n",
       "<!-- (&#39;f&#39;, &#39;f&#39;, &#39;f&#39;, &#39;f&#39;, &#39;f&#39;, 0)&#45;&gt;(&#39;f&#39;, &#39;f&#39;, &#39;f&#39;, &#39;m&#39;, &#39;f&#39;, 0) -->\n",
       "<g id=\"edge48\" class=\"edge\">\n",
       "<title>(&#39;f&#39;, &#39;f&#39;, &#39;f&#39;, &#39;f&#39;, &#39;f&#39;, 0)&#45;&gt;(&#39;f&#39;, &#39;f&#39;, &#39;f&#39;, &#39;m&#39;, &#39;f&#39;, 0)</title>\n",
       "<path fill=\"none\" stroke=\"#000000\" d=\"M1426.1199,-366.9864C1363.1284,-354.6026 1263.79,-334.4351 1198.053,-320.7105\"/>\n",
       "<polygon fill=\"#000000\" stroke=\"#000000\" points=\"1198.7092,-317.2721 1188.2043,-318.6497 1197.2755,-324.1237 1198.7092,-317.2721\"/>\n",
       "</g>\n",
       "<!-- (&#39;f&#39;, &#39;m&#39;, &#39;f&#39;, &#39;f&#39;, &#39;f&#39;, 0) -->\n",
       "<g id=\"node18\" class=\"node\">\n",
       "<title>(&#39;f&#39;, &#39;m&#39;, &#39;f&#39;, &#39;f&#39;, &#39;f&#39;, 0)</title>\n",
       "<ellipse fill=\"none\" stroke=\"#000000\" cx=\"1308.293\" cy=\"-306\" rx=\"79.0865\" ry=\"18\"/>\n",
       "<text text-anchor=\"middle\" x=\"1308.293\" y=\"-302.3\" font-family=\"Times,serif\" font-size=\"14.00\" fill=\"#000000\">(&#39;f&#39;, &#39;m&#39;, &#39;f&#39;, &#39;f&#39;, &#39;f&#39;, 0)</text>\n",
       "</g>\n",
       "<!-- (&#39;f&#39;, &#39;f&#39;, &#39;f&#39;, &#39;f&#39;, &#39;f&#39;, 0)&#45;&gt;(&#39;f&#39;, &#39;m&#39;, &#39;f&#39;, &#39;f&#39;, &#39;f&#39;, 0) -->\n",
       "<g id=\"edge47\" class=\"edge\">\n",
       "<title>(&#39;f&#39;, &#39;f&#39;, &#39;f&#39;, &#39;f&#39;, &#39;f&#39;, 0)&#45;&gt;(&#39;f&#39;, &#39;m&#39;, &#39;f&#39;, &#39;f&#39;, &#39;f&#39;, 0)</title>\n",
       "<path fill=\"none\" stroke=\"#000000\" d=\"M1443.0257,-363.0816C1415.518,-352.4332 1379.817,-337.9853 1352.0287,-326.2896\"/>\n",
       "<polygon fill=\"#000000\" stroke=\"#000000\" points=\"1353.1293,-322.9548 1342.556,-322.2782 1350.3996,-329.4006 1353.1293,-322.9548\"/>\n",
       "</g>\n",
       "<!-- (&#39;f&#39;, &#39;f&#39;, &#39;m&#39;, &#39;f&#39;, &#39;f&#39;, 0) -->\n",
       "<g id=\"node23\" class=\"node\">\n",
       "<title>(&#39;f&#39;, &#39;f&#39;, &#39;m&#39;, &#39;f&#39;, &#39;f&#39;, 0)</title>\n",
       "<ellipse fill=\"none\" stroke=\"#000000\" cx=\"1485.293\" cy=\"-306\" rx=\"79.0865\" ry=\"18\"/>\n",
       "<text text-anchor=\"middle\" x=\"1485.293\" y=\"-302.3\" font-family=\"Times,serif\" font-size=\"14.00\" fill=\"#000000\">(&#39;f&#39;, &#39;f&#39;, &#39;m&#39;, &#39;f&#39;, &#39;f&#39;, 0)</text>\n",
       "</g>\n",
       "<!-- (&#39;f&#39;, &#39;f&#39;, &#39;f&#39;, &#39;f&#39;, &#39;f&#39;, 0)&#45;&gt;(&#39;f&#39;, &#39;f&#39;, &#39;m&#39;, &#39;f&#39;, &#39;f&#39;, 0) -->\n",
       "<g id=\"edge50\" class=\"edge\">\n",
       "<title>(&#39;f&#39;, &#39;f&#39;, &#39;f&#39;, &#39;f&#39;, &#39;f&#39;, 0)&#45;&gt;(&#39;f&#39;, &#39;f&#39;, &#39;m&#39;, &#39;f&#39;, &#39;f&#39;, 0)</title>\n",
       "<path fill=\"none\" stroke=\"#000000\" d=\"M1479.3406,-359.8314C1478.5901,-352.131 1478.3692,-342.9743 1478.6779,-334.4166\"/>\n",
       "<polygon fill=\"#000000\" stroke=\"#000000\" points=\"1482.1722,-334.6161 1479.317,-324.4133 1475.1864,-334.1697 1482.1722,-334.6161\"/>\n",
       "</g>\n",
       "<!-- (&#39;f&#39;, &#39;f&#39;, &#39;f&#39;, &#39;f&#39;, &#39;f&#39;, 1) -->\n",
       "<g id=\"node26\" class=\"node\">\n",
       "<title>(&#39;f&#39;, &#39;f&#39;, &#39;f&#39;, &#39;f&#39;, &#39;f&#39;, 1)</title>\n",
       "<ellipse fill=\"none\" stroke=\"#000000\" cx=\"1657.293\" cy=\"-306\" rx=\"74.9875\" ry=\"18\"/>\n",
       "<text text-anchor=\"middle\" x=\"1657.293\" y=\"-302.3\" font-family=\"Times,serif\" font-size=\"14.00\" fill=\"#000000\">(&#39;f&#39;, &#39;f&#39;, &#39;f&#39;, &#39;f&#39;, &#39;f&#39;, 1)</text>\n",
       "</g>\n",
       "<!-- (&#39;f&#39;, &#39;f&#39;, &#39;f&#39;, &#39;f&#39;, &#39;f&#39;, 0)&#45;&gt;(&#39;f&#39;, &#39;f&#39;, &#39;f&#39;, &#39;f&#39;, &#39;f&#39;, 1) -->\n",
       "<g id=\"edge52\" class=\"edge\">\n",
       "<title>(&#39;f&#39;, &#39;f&#39;, &#39;f&#39;, &#39;f&#39;, &#39;f&#39;, 0)&#45;&gt;(&#39;f&#39;, &#39;f&#39;, &#39;f&#39;, &#39;f&#39;, &#39;f&#39;, 1)</title>\n",
       "<path fill=\"none\" stroke=\"#000000\" d=\"M1522.6144,-362.3771C1548.3334,-351.611 1582.7131,-337.2195 1610.299,-325.6719\"/>\n",
       "<polygon fill=\"#000000\" stroke=\"#000000\" points=\"1611.8748,-328.8066 1619.7478,-321.7166 1609.1718,-322.3495 1611.8748,-328.8066\"/>\n",
       "</g>\n",
       "<!-- (&#39;m&#39;, &#39;f&#39;, &#39;f&#39;, &#39;f&#39;, &#39;f&#39;, 0) -->\n",
       "<g id=\"node34\" class=\"node\">\n",
       "<title>(&#39;m&#39;, &#39;f&#39;, &#39;f&#39;, &#39;f&#39;, &#39;f&#39;, 0)</title>\n",
       "<ellipse fill=\"none\" stroke=\"#000000\" cx=\"1829.293\" cy=\"-306\" rx=\"79.0865\" ry=\"18\"/>\n",
       "<text text-anchor=\"middle\" x=\"1829.293\" y=\"-302.3\" font-family=\"Times,serif\" font-size=\"14.00\" fill=\"#000000\">(&#39;m&#39;, &#39;f&#39;, &#39;f&#39;, &#39;f&#39;, &#39;f&#39;, 0)</text>\n",
       "</g>\n",
       "<!-- (&#39;f&#39;, &#39;f&#39;, &#39;f&#39;, &#39;f&#39;, &#39;f&#39;, 0)&#45;&gt;(&#39;m&#39;, &#39;f&#39;, &#39;f&#39;, &#39;f&#39;, &#39;f&#39;, 0) -->\n",
       "<g id=\"edge51\" class=\"edge\">\n",
       "<title>(&#39;f&#39;, &#39;f&#39;, &#39;f&#39;, &#39;f&#39;, &#39;f&#39;, 0)&#45;&gt;(&#39;m&#39;, &#39;f&#39;, &#39;f&#39;, &#39;f&#39;, &#39;f&#39;, 0)</title>\n",
       "<path fill=\"none\" stroke=\"#000000\" d=\"M1539.566,-365.5408C1598.6918,-352.7612 1693.3621,-332.9339 1758.3314,-319.7148\"/>\n",
       "<polygon fill=\"#000000\" stroke=\"#000000\" points=\"1759.3897,-323.0715 1768.4936,-317.6521 1757.9972,-316.2114 1759.3897,-323.0715\"/>\n",
       "</g>\n",
       "<!-- (&#39;f&#39;, &#39;f&#39;, &#39;f&#39;, &#39;f&#39;, &#39;m&#39;, 0) -->\n",
       "<g id=\"node35\" class=\"node\">\n",
       "<title>(&#39;f&#39;, &#39;f&#39;, &#39;f&#39;, &#39;f&#39;, &#39;m&#39;, 0)</title>\n",
       "<ellipse fill=\"none\" stroke=\"#000000\" cx=\"2006.293\" cy=\"-306\" rx=\"79.0865\" ry=\"18\"/>\n",
       "<text text-anchor=\"middle\" x=\"2006.293\" y=\"-302.3\" font-family=\"Times,serif\" font-size=\"14.00\" fill=\"#000000\">(&#39;f&#39;, &#39;f&#39;, &#39;f&#39;, &#39;f&#39;, &#39;m&#39;, 0)</text>\n",
       "</g>\n",
       "<!-- (&#39;f&#39;, &#39;f&#39;, &#39;f&#39;, &#39;f&#39;, &#39;f&#39;, 0)&#45;&gt;(&#39;f&#39;, &#39;f&#39;, &#39;f&#39;, &#39;f&#39;, &#39;m&#39;, 0) -->\n",
       "<g id=\"edge49\" class=\"edge\">\n",
       "<title>(&#39;f&#39;, &#39;f&#39;, &#39;f&#39;, &#39;f&#39;, &#39;f&#39;, 0)&#45;&gt;(&#39;f&#39;, &#39;f&#39;, &#39;f&#39;, &#39;f&#39;, &#39;m&#39;, 0)</title>\n",
       "<path fill=\"none\" stroke=\"#000000\" d=\"M1553.2063,-370.4205C1636.9635,-361.2323 1783.3471,-344.4144 1908.293,-324 1916.7708,-322.6148 1925.672,-321.0038 1934.519,-319.3258\"/>\n",
       "<polygon fill=\"#000000\" stroke=\"#000000\" points=\"1935.3015,-322.7395 1944.4591,-317.4113 1933.9776,-315.8658 1935.3015,-322.7395\"/>\n",
       "</g>\n",
       "<!-- (&#39;m&#39;, &#39;f&#39;, &#39;f&#39;, &#39;f&#39;, &#39;f&#39;, 2) -->\n",
       "<g id=\"node15\" class=\"node\">\n",
       "<title>(&#39;m&#39;, &#39;f&#39;, &#39;f&#39;, &#39;f&#39;, &#39;f&#39;, 2)</title>\n",
       "<ellipse fill=\"none\" stroke=\"#000000\" cx=\"954.293\" cy=\"-162\" rx=\"79.0865\" ry=\"18\"/>\n",
       "<text text-anchor=\"middle\" x=\"954.293\" y=\"-158.3\" font-family=\"Times,serif\" font-size=\"14.00\" fill=\"#000000\">(&#39;m&#39;, &#39;f&#39;, &#39;f&#39;, &#39;f&#39;, &#39;f&#39;, 2)</text>\n",
       "</g>\n",
       "<!-- (&#39;f&#39;, &#39;f&#39;, &#39;f&#39;, &#39;f&#39;, &#39;f&#39;, 2) -->\n",
       "<g id=\"node16\" class=\"node\">\n",
       "<title>(&#39;f&#39;, &#39;f&#39;, &#39;f&#39;, &#39;f&#39;, &#39;f&#39;, 2)</title>\n",
       "<ellipse fill=\"none\" stroke=\"#000000\" cx=\"1308.293\" cy=\"-234\" rx=\"74.9875\" ry=\"18\"/>\n",
       "<text text-anchor=\"middle\" x=\"1308.293\" y=\"-230.3\" font-family=\"Times,serif\" font-size=\"14.00\" fill=\"#000000\">(&#39;f&#39;, &#39;f&#39;, &#39;f&#39;, &#39;f&#39;, &#39;f&#39;, 2)</text>\n",
       "</g>\n",
       "<!-- (&#39;m&#39;, &#39;f&#39;, &#39;f&#39;, &#39;f&#39;, &#39;f&#39;, 2)&#45;&gt;(&#39;f&#39;, &#39;f&#39;, &#39;f&#39;, &#39;f&#39;, &#39;f&#39;, 2) -->\n",
       "<g id=\"edge14\" class=\"edge\">\n",
       "<title>(&#39;m&#39;, &#39;f&#39;, &#39;f&#39;, &#39;f&#39;, &#39;f&#39;, 2)&#45;&gt;(&#39;f&#39;, &#39;f&#39;, &#39;f&#39;, &#39;f&#39;, &#39;f&#39;, 2)</title>\n",
       "<path fill=\"none\" stroke=\"#000000\" d=\"M1017.2036,-172.9745C1028.9246,-175.3009 1041.0098,-177.7369 1052.293,-180 1132.7115,-196.1296 1152.9688,-199.4067 1233.293,-216 1237.6839,-216.9071 1242.2019,-217.8493 1246.7421,-218.806\"/>\n",
       "<polygon fill=\"#000000\" stroke=\"#000000\" points=\"1246.167,-222.2619 1256.6759,-220.9153 1247.621,-215.4145 1246.167,-222.2619\"/>\n",
       "</g>\n",
       "<!-- (&#39;f&#39;, &#39;f&#39;, &#39;f&#39;, &#39;f&#39;, &#39;f&#39;, 2)&#45;&gt;(&#39;f&#39;, &#39;f&#39;, &#39;f&#39;, &#39;f&#39;, &#39;f&#39;, 3) -->\n",
       "<g id=\"edge19\" class=\"edge\">\n",
       "<title>(&#39;f&#39;, &#39;f&#39;, &#39;f&#39;, &#39;f&#39;, &#39;f&#39;, 2)&#45;&gt;(&#39;f&#39;, &#39;f&#39;, &#39;f&#39;, &#39;f&#39;, &#39;f&#39;, 3)</title>\n",
       "<path fill=\"none\" stroke=\"#000000\" d=\"M1254.2338,-221.4941C1244.311,-219.4616 1234.0175,-217.526 1224.293,-216 1066.3128,-191.2086 1024.2731,-204.7914 866.293,-180 859.7593,-178.9747 852.9688,-177.7645 846.2064,-176.4643\"/>\n",
       "<polygon fill=\"#000000\" stroke=\"#000000\" points=\"846.8425,-173.0223 836.3521,-174.5059 845.478,-179.888 846.8425,-173.0223\"/>\n",
       "</g>\n",
       "<!-- (&#39;f&#39;, &#39;f&#39;, &#39;f&#39;, &#39;f&#39;, &#39;f&#39;, 2)&#45;&gt;(&#39;m&#39;, &#39;f&#39;, &#39;f&#39;, &#39;f&#39;, &#39;f&#39;, 2) -->\n",
       "<g id=\"edge23\" class=\"edge\">\n",
       "<title>(&#39;f&#39;, &#39;f&#39;, &#39;f&#39;, &#39;f&#39;, &#39;f&#39;, 2)&#45;&gt;(&#39;m&#39;, &#39;f&#39;, &#39;f&#39;, &#39;f&#39;, &#39;f&#39;, 2)</title>\n",
       "<path fill=\"none\" stroke=\"#000000\" d=\"M1248.8978,-223.0281C1237.68,-220.6788 1226.1014,-218.2328 1215.293,-216 1134.9688,-199.4067 1114.7115,-196.1296 1034.293,-180 1029.5208,-179.0428 1024.6052,-178.0547 1019.6659,-177.0571\"/>\n",
       "<polygon fill=\"#000000\" stroke=\"#000000\" points=\"1020.0286,-173.5595 1009.5325,-175.0027 1018.6376,-180.4199 1020.0286,-173.5595\"/>\n",
       "</g>\n",
       "<!-- (&#39;f&#39;, &#39;f&#39;, &#39;f&#39;, &#39;f&#39;, &#39;m&#39;, 2) -->\n",
       "<g id=\"node19\" class=\"node\">\n",
       "<title>(&#39;f&#39;, &#39;f&#39;, &#39;f&#39;, &#39;f&#39;, &#39;m&#39;, 2)</title>\n",
       "<ellipse fill=\"none\" stroke=\"#000000\" cx=\"1131.293\" cy=\"-162\" rx=\"79.0865\" ry=\"18\"/>\n",
       "<text text-anchor=\"middle\" x=\"1131.293\" y=\"-158.3\" font-family=\"Times,serif\" font-size=\"14.00\" fill=\"#000000\">(&#39;f&#39;, &#39;f&#39;, &#39;f&#39;, &#39;f&#39;, &#39;m&#39;, 2)</text>\n",
       "</g>\n",
       "<!-- (&#39;f&#39;, &#39;f&#39;, &#39;f&#39;, &#39;f&#39;, &#39;f&#39;, 2)&#45;&gt;(&#39;f&#39;, &#39;f&#39;, &#39;f&#39;, &#39;f&#39;, &#39;m&#39;, 2) -->\n",
       "<g id=\"edge21\" class=\"edge\">\n",
       "<title>(&#39;f&#39;, &#39;f&#39;, &#39;f&#39;, &#39;f&#39;, &#39;f&#39;, 2)&#45;&gt;(&#39;f&#39;, &#39;f&#39;, &#39;f&#39;, &#39;f&#39;, &#39;m&#39;, 2)</title>\n",
       "<path fill=\"none\" stroke=\"#000000\" d=\"M1266.0257,-219.0816C1238.518,-208.4332 1202.817,-193.9853 1175.0287,-182.2896\"/>\n",
       "<polygon fill=\"#000000\" stroke=\"#000000\" points=\"1176.1293,-178.9548 1165.556,-178.2782 1173.3996,-185.4006 1176.1293,-178.9548\"/>\n",
       "</g>\n",
       "<!-- (&#39;f&#39;, &#39;f&#39;, &#39;m&#39;, &#39;f&#39;, &#39;f&#39;, 2) -->\n",
       "<g id=\"node20\" class=\"node\">\n",
       "<title>(&#39;f&#39;, &#39;f&#39;, &#39;m&#39;, &#39;f&#39;, &#39;f&#39;, 2)</title>\n",
       "<ellipse fill=\"none\" stroke=\"#000000\" cx=\"1308.293\" cy=\"-162\" rx=\"79.0865\" ry=\"18\"/>\n",
       "<text text-anchor=\"middle\" x=\"1308.293\" y=\"-158.3\" font-family=\"Times,serif\" font-size=\"14.00\" fill=\"#000000\">(&#39;f&#39;, &#39;f&#39;, &#39;m&#39;, &#39;f&#39;, &#39;f&#39;, 2)</text>\n",
       "</g>\n",
       "<!-- (&#39;f&#39;, &#39;f&#39;, &#39;f&#39;, &#39;f&#39;, &#39;f&#39;, 2)&#45;&gt;(&#39;f&#39;, &#39;f&#39;, &#39;m&#39;, &#39;f&#39;, &#39;f&#39;, 2) -->\n",
       "<g id=\"edge18\" class=\"edge\">\n",
       "<title>(&#39;f&#39;, &#39;f&#39;, &#39;f&#39;, &#39;f&#39;, &#39;f&#39;, 2)&#45;&gt;(&#39;f&#39;, &#39;f&#39;, &#39;m&#39;, &#39;f&#39;, &#39;f&#39;, 2)</title>\n",
       "<path fill=\"none\" stroke=\"#000000\" d=\"M1302.3406,-215.8314C1301.5901,-208.131 1301.3692,-198.9743 1301.6779,-190.4166\"/>\n",
       "<polygon fill=\"#000000\" stroke=\"#000000\" points=\"1305.1722,-190.6161 1302.317,-180.4133 1298.1864,-190.1697 1305.1722,-190.6161\"/>\n",
       "</g>\n",
       "<!-- (&#39;f&#39;, &#39;m&#39;, &#39;f&#39;, &#39;f&#39;, &#39;f&#39;, 2) -->\n",
       "<g id=\"node21\" class=\"node\">\n",
       "<title>(&#39;f&#39;, &#39;m&#39;, &#39;f&#39;, &#39;f&#39;, &#39;f&#39;, 2)</title>\n",
       "<ellipse fill=\"none\" stroke=\"#000000\" cx=\"1485.293\" cy=\"-162\" rx=\"79.0865\" ry=\"18\"/>\n",
       "<text text-anchor=\"middle\" x=\"1485.293\" y=\"-158.3\" font-family=\"Times,serif\" font-size=\"14.00\" fill=\"#000000\">(&#39;f&#39;, &#39;m&#39;, &#39;f&#39;, &#39;f&#39;, &#39;f&#39;, 2)</text>\n",
       "</g>\n",
       "<!-- (&#39;f&#39;, &#39;f&#39;, &#39;f&#39;, &#39;f&#39;, &#39;f&#39;, 2)&#45;&gt;(&#39;f&#39;, &#39;m&#39;, &#39;f&#39;, &#39;f&#39;, &#39;f&#39;, 2) -->\n",
       "<g id=\"edge20\" class=\"edge\">\n",
       "<title>(&#39;f&#39;, &#39;f&#39;, &#39;f&#39;, &#39;f&#39;, &#39;f&#39;, 2)&#45;&gt;(&#39;f&#39;, &#39;m&#39;, &#39;f&#39;, &#39;f&#39;, &#39;f&#39;, 2)</title>\n",
       "<path fill=\"none\" stroke=\"#000000\" d=\"M1342.2747,-217.8418C1367.8649,-206.9275 1403.2975,-192.4748 1432.5352,-181.0073\"/>\n",
       "<polygon fill=\"#000000\" stroke=\"#000000\" points=\"1434.145,-184.1363 1442.1899,-177.2422 1431.6016,-177.6147 1434.145,-184.1363\"/>\n",
       "</g>\n",
       "<!-- (&#39;f&#39;, &#39;f&#39;, &#39;f&#39;, &#39;m&#39;, &#39;f&#39;, 2) -->\n",
       "<g id=\"node22\" class=\"node\">\n",
       "<title>(&#39;f&#39;, &#39;f&#39;, &#39;f&#39;, &#39;m&#39;, &#39;f&#39;, 2)</title>\n",
       "<ellipse fill=\"none\" stroke=\"#000000\" cx=\"1662.293\" cy=\"-162\" rx=\"79.0865\" ry=\"18\"/>\n",
       "<text text-anchor=\"middle\" x=\"1662.293\" y=\"-158.3\" font-family=\"Times,serif\" font-size=\"14.00\" fill=\"#000000\">(&#39;f&#39;, &#39;f&#39;, &#39;f&#39;, &#39;m&#39;, &#39;f&#39;, 2)</text>\n",
       "</g>\n",
       "<!-- (&#39;f&#39;, &#39;f&#39;, &#39;f&#39;, &#39;f&#39;, &#39;f&#39;, 2)&#45;&gt;(&#39;f&#39;, &#39;f&#39;, &#39;f&#39;, &#39;m&#39;, &#39;f&#39;, 2) -->\n",
       "<g id=\"edge22\" class=\"edge\">\n",
       "<title>(&#39;f&#39;, &#39;f&#39;, &#39;f&#39;, &#39;f&#39;, &#39;f&#39;, 2)&#45;&gt;(&#39;f&#39;, &#39;f&#39;, &#39;f&#39;, &#39;m&#39;, &#39;f&#39;, 2)</title>\n",
       "<path fill=\"none\" stroke=\"#000000\" d=\"M1359.91,-220.9153C1367.7224,-219.2433 1375.6978,-217.569 1383.293,-216 1463.6171,-199.4067 1483.8744,-196.1296 1564.293,-180 1572.4027,-178.3734 1580.9269,-176.6575 1589.4323,-174.9571\"/>\n",
       "<polygon fill=\"#000000\" stroke=\"#000000\" points=\"1590.2591,-178.3612 1599.3823,-172.9745 1588.8912,-171.4962 1590.2591,-178.3612\"/>\n",
       "</g>\n",
       "<!-- (&#39;f&#39;, &#39;m&#39;, &#39;f&#39;, &#39;f&#39;, &#39;f&#39;, 5) -->\n",
       "<g id=\"node17\" class=\"node\">\n",
       "<title>(&#39;f&#39;, &#39;m&#39;, &#39;f&#39;, &#39;f&#39;, &#39;f&#39;, 5)</title>\n",
       "<ellipse fill=\"none\" stroke=\"#000000\" cx=\"1667.293\" cy=\"-90\" rx=\"79.0865\" ry=\"18\"/>\n",
       "<text text-anchor=\"middle\" x=\"1667.293\" y=\"-86.3\" font-family=\"Times,serif\" font-size=\"14.00\" fill=\"#000000\">(&#39;f&#39;, &#39;m&#39;, &#39;f&#39;, &#39;f&#39;, &#39;f&#39;, 5)</text>\n",
       "</g>\n",
       "<!-- (&#39;f&#39;, &#39;m&#39;, &#39;f&#39;, &#39;f&#39;, &#39;f&#39;, 5)&#45;&gt;(&#39;f&#39;, &#39;f&#39;, &#39;f&#39;, &#39;f&#39;, &#39;f&#39;, 5) -->\n",
       "<g id=\"edge15\" class=\"edge\">\n",
       "<title>(&#39;f&#39;, &#39;m&#39;, &#39;f&#39;, &#39;f&#39;, &#39;f&#39;, 5)&#45;&gt;(&#39;f&#39;, &#39;f&#39;, &#39;f&#39;, &#39;f&#39;, &#39;f&#39;, 5)</title>\n",
       "<path fill=\"none\" stroke=\"#000000\" d=\"M1645.7485,-72.5708C1634.2699,-63.2847 1619.9851,-51.7285 1607.5199,-41.6442\"/>\n",
       "<polygon fill=\"#000000\" stroke=\"#000000\" points=\"1609.6148,-38.8371 1599.639,-35.2687 1605.2122,-44.2793 1609.6148,-38.8371\"/>\n",
       "</g>\n",
       "<!-- (&#39;f&#39;, &#39;m&#39;, &#39;f&#39;, &#39;f&#39;, &#39;f&#39;, 0)&#45;&gt;(&#39;f&#39;, &#39;f&#39;, &#39;f&#39;, &#39;f&#39;, &#39;f&#39;, 0) -->\n",
       "<g id=\"edge16\" class=\"edge\">\n",
       "<title>(&#39;f&#39;, &#39;m&#39;, &#39;f&#39;, &#39;f&#39;, &#39;f&#39;, 0)&#45;&gt;(&#39;f&#39;, &#39;f&#39;, &#39;f&#39;, &#39;f&#39;, &#39;f&#39;, 0)</title>\n",
       "<path fill=\"none\" stroke=\"#000000\" d=\"M1351.396,-321.2422C1378.908,-331.9048 1414.3584,-346.2579 1441.9181,-357.8623\"/>\n",
       "<polygon fill=\"#000000\" stroke=\"#000000\" points=\"1440.7381,-361.1635 1451.3112,-361.8418 1443.4688,-354.7181 1440.7381,-361.1635\"/>\n",
       "</g>\n",
       "<!-- (&#39;f&#39;, &#39;f&#39;, &#39;f&#39;, &#39;f&#39;, &#39;m&#39;, 2)&#45;&gt;(&#39;f&#39;, &#39;f&#39;, &#39;f&#39;, &#39;f&#39;, &#39;f&#39;, 2) -->\n",
       "<g id=\"edge17\" class=\"edge\">\n",
       "<title>(&#39;f&#39;, &#39;f&#39;, &#39;f&#39;, &#39;f&#39;, &#39;m&#39;, 2)&#45;&gt;(&#39;f&#39;, &#39;f&#39;, &#39;f&#39;, &#39;f&#39;, &#39;f&#39;, 2)</title>\n",
       "<path fill=\"none\" stroke=\"#000000\" d=\"M1174.396,-177.2422C1201.908,-187.9048 1237.3584,-202.2579 1264.9181,-213.8623\"/>\n",
       "<polygon fill=\"#000000\" stroke=\"#000000\" points=\"1263.7381,-217.1635 1274.3112,-217.8418 1266.4688,-210.7181 1263.7381,-217.1635\"/>\n",
       "</g>\n",
       "<!-- (&#39;f&#39;, &#39;f&#39;, &#39;m&#39;, &#39;f&#39;, &#39;f&#39;, 2)&#45;&gt;(&#39;f&#39;, &#39;f&#39;, &#39;f&#39;, &#39;f&#39;, &#39;f&#39;, 2) -->\n",
       "<g id=\"edge59\" class=\"edge\">\n",
       "<title>(&#39;f&#39;, &#39;f&#39;, &#39;m&#39;, &#39;f&#39;, &#39;f&#39;, 2)&#45;&gt;(&#39;f&#39;, &#39;f&#39;, &#39;f&#39;, &#39;f&#39;, &#39;f&#39;, 2)</title>\n",
       "<path fill=\"none\" stroke=\"#000000\" d=\"M1314.269,-180.4133C1315.0001,-188.0593 1315.2132,-197.1084 1314.9084,-205.5726\"/>\n",
       "<polygon fill=\"#000000\" stroke=\"#000000\" points=\"1311.3977,-205.6264 1314.2454,-215.8314 1318.3832,-206.078 1311.3977,-205.6264\"/>\n",
       "</g>\n",
       "<!-- (&#39;f&#39;, &#39;m&#39;, &#39;f&#39;, &#39;f&#39;, &#39;f&#39;, 2)&#45;&gt;(&#39;f&#39;, &#39;f&#39;, &#39;f&#39;, &#39;f&#39;, &#39;f&#39;, 2) -->\n",
       "<g id=\"edge46\" class=\"edge\">\n",
       "<title>(&#39;f&#39;, &#39;m&#39;, &#39;f&#39;, &#39;f&#39;, &#39;f&#39;, 2)&#45;&gt;(&#39;f&#39;, &#39;f&#39;, &#39;f&#39;, &#39;f&#39;, &#39;f&#39;, 2)</title>\n",
       "<path fill=\"none\" stroke=\"#000000\" d=\"M1451.0299,-178.2782C1425.2191,-189.2817 1389.5108,-203.8406 1360.2229,-215.3172\"/>\n",
       "<polygon fill=\"#000000\" stroke=\"#000000\" points=\"1358.6076,-212.1902 1350.5602,-219.0816 1361.1486,-218.7128 1358.6076,-212.1902\"/>\n",
       "</g>\n",
       "<!-- (&#39;f&#39;, &#39;f&#39;, &#39;f&#39;, &#39;m&#39;, &#39;f&#39;, 2)&#45;&gt;(&#39;f&#39;, &#39;f&#39;, &#39;f&#39;, &#39;f&#39;, &#39;f&#39;, 2) -->\n",
       "<g id=\"edge44\" class=\"edge\">\n",
       "<title>(&#39;f&#39;, &#39;f&#39;, &#39;f&#39;, &#39;m&#39;, &#39;f&#39;, 2)&#45;&gt;(&#39;f&#39;, &#39;f&#39;, &#39;f&#39;, &#39;f&#39;, &#39;f&#39;, 2)</title>\n",
       "<path fill=\"none\" stroke=\"#000000\" d=\"M1607.0534,-175.0027C1598.7746,-176.6881 1590.3303,-178.3879 1582.293,-180 1501.8744,-196.1296 1481.6171,-199.4067 1401.293,-216 1393.6088,-217.5874 1385.5354,-219.2825 1377.4792,-220.9741\"/>\n",
       "<polygon fill=\"#000000\" stroke=\"#000000\" points=\"1376.7564,-217.5494 1367.6881,-223.0281 1378.1937,-224.4003 1376.7564,-217.5494\"/>\n",
       "</g>\n",
       "<!-- (&#39;f&#39;, &#39;f&#39;, &#39;m&#39;, &#39;f&#39;, &#39;f&#39;, 0)&#45;&gt;(&#39;f&#39;, &#39;f&#39;, &#39;f&#39;, &#39;f&#39;, &#39;f&#39;, 0) -->\n",
       "<g id=\"edge24\" class=\"edge\">\n",
       "<title>(&#39;f&#39;, &#39;f&#39;, &#39;m&#39;, &#39;f&#39;, &#39;f&#39;, 0)&#45;&gt;(&#39;f&#39;, &#39;f&#39;, &#39;f&#39;, &#39;f&#39;, &#39;f&#39;, 0)</title>\n",
       "<path fill=\"none\" stroke=\"#000000\" d=\"M1491.269,-324.4133C1492.0001,-332.0593 1492.2132,-341.1084 1491.9084,-349.5726\"/>\n",
       "<polygon fill=\"#000000\" stroke=\"#000000\" points=\"1488.3977,-349.6264 1491.2454,-359.8314 1495.3832,-350.078 1488.3977,-349.6264\"/>\n",
       "</g>\n",
       "<!-- (&#39;f&#39;, &#39;f&#39;, &#39;f&#39;, &#39;f&#39;, &#39;m&#39;, 4)&#45;&gt;(&#39;f&#39;, &#39;f&#39;, &#39;f&#39;, &#39;f&#39;, &#39;f&#39;, 4) -->\n",
       "<g id=\"edge25\" class=\"edge\">\n",
       "<title>(&#39;f&#39;, &#39;f&#39;, &#39;f&#39;, &#39;f&#39;, &#39;m&#39;, 4)&#45;&gt;(&#39;f&#39;, &#39;f&#39;, &#39;f&#39;, &#39;f&#39;, &#39;f&#39;, 4)</title>\n",
       "<path fill=\"none\" stroke=\"#000000\" d=\"M439.269,-36.4133C440.0001,-44.0593 440.2132,-53.1084 439.9084,-61.5726\"/>\n",
       "<polygon fill=\"#000000\" stroke=\"#000000\" points=\"436.3977,-61.6264 439.2454,-71.8314 443.3832,-62.078 436.3977,-61.6264\"/>\n",
       "</g>\n",
       "<!-- (&#39;f&#39;, &#39;f&#39;, &#39;f&#39;, &#39;m&#39;, &#39;f&#39;, 1) -->\n",
       "<g id=\"node25\" class=\"node\">\n",
       "<title>(&#39;f&#39;, &#39;f&#39;, &#39;f&#39;, &#39;m&#39;, &#39;f&#39;, 1)</title>\n",
       "<ellipse fill=\"none\" stroke=\"#000000\" cx=\"1136.293\" cy=\"-234\" rx=\"79.0865\" ry=\"18\"/>\n",
       "<text text-anchor=\"middle\" x=\"1136.293\" y=\"-230.3\" font-family=\"Times,serif\" font-size=\"14.00\" fill=\"#000000\">(&#39;f&#39;, &#39;f&#39;, &#39;f&#39;, &#39;m&#39;, &#39;f&#39;, 1)</text>\n",
       "</g>\n",
       "<!-- (&#39;f&#39;, &#39;f&#39;, &#39;f&#39;, &#39;m&#39;, &#39;f&#39;, 1)&#45;&gt;(&#39;f&#39;, &#39;f&#39;, &#39;f&#39;, &#39;f&#39;, &#39;f&#39;, 1) -->\n",
       "<g id=\"edge26\" class=\"edge\">\n",
       "<title>(&#39;f&#39;, &#39;f&#39;, &#39;f&#39;, &#39;m&#39;, &#39;f&#39;, 1)&#45;&gt;(&#39;f&#39;, &#39;f&#39;, &#39;f&#39;, &#39;f&#39;, &#39;f&#39;, 1)</title>\n",
       "<path fill=\"none\" stroke=\"#000000\" d=\"M1197.4963,-245.6098C1209.393,-247.9464 1221.7327,-250.2259 1233.293,-252 1387.4227,-275.6533 1428.2752,-263.6279 1582.293,-288 1587.1036,-288.7612 1592.0538,-289.6212 1597.011,-290.5422\"/>\n",
       "<polygon fill=\"#000000\" stroke=\"#000000\" points=\"1596.6705,-294.0413 1607.1536,-292.5066 1598.0016,-287.169 1596.6705,-294.0413\"/>\n",
       "</g>\n",
       "<!-- (&#39;f&#39;, &#39;f&#39;, &#39;f&#39;, &#39;f&#39;, &#39;f&#39;, 1)&#45;&gt;(&#39;f&#39;, &#39;f&#39;, &#39;f&#39;, &#39;f&#39;, &#39;f&#39;, 2) -->\n",
       "<g id=\"edge38\" class=\"edge\">\n",
       "<title>(&#39;f&#39;, &#39;f&#39;, &#39;f&#39;, &#39;f&#39;, &#39;f&#39;, 1)&#45;&gt;(&#39;f&#39;, &#39;f&#39;, &#39;f&#39;, &#39;f&#39;, &#39;f&#39;, 2)</title>\n",
       "<path fill=\"none\" stroke=\"#000000\" d=\"M1601.289,-293.8789C1591.945,-291.8911 1582.3487,-289.8707 1573.293,-288 1492.9688,-271.4067 1472.6171,-268.5933 1392.293,-252 1386.4916,-250.8016 1380.4684,-249.5417 1374.4319,-248.2684\"/>\n",
       "<polygon fill=\"#000000\" stroke=\"#000000\" points=\"1374.8052,-244.7698 1364.2969,-246.1211 1373.3543,-251.6178 1374.8052,-244.7698\"/>\n",
       "</g>\n",
       "<!-- (&#39;f&#39;, &#39;f&#39;, &#39;f&#39;, &#39;f&#39;, &#39;f&#39;, 1)&#45;&gt;(&#39;f&#39;, &#39;f&#39;, &#39;f&#39;, &#39;m&#39;, &#39;f&#39;, 1) -->\n",
       "<g id=\"edge35\" class=\"edge\">\n",
       "<title>(&#39;f&#39;, &#39;f&#39;, &#39;f&#39;, &#39;f&#39;, &#39;f&#39;, 1)&#45;&gt;(&#39;f&#39;, &#39;f&#39;, &#39;f&#39;, &#39;m&#39;, &#39;f&#39;, 1)</title>\n",
       "<path fill=\"none\" stroke=\"#000000\" d=\"M1599.4016,-294.5384C1587.7548,-292.1385 1575.6359,-289.7949 1564.293,-288 1410.2752,-263.6279 1369.4227,-275.6533 1215.293,-252 1210.127,-251.2072 1204.8053,-250.3135 1199.4775,-249.3588\"/>\n",
       "<polygon fill=\"#000000\" stroke=\"#000000\" points=\"1199.735,-245.8468 1189.2635,-247.4584 1198.4545,-252.7286 1199.735,-245.8468\"/>\n",
       "</g>\n",
       "<!-- (&#39;f&#39;, &#39;m&#39;, &#39;f&#39;, &#39;f&#39;, &#39;f&#39;, 1) -->\n",
       "<g id=\"node27\" class=\"node\">\n",
       "<title>(&#39;f&#39;, &#39;m&#39;, &#39;f&#39;, &#39;f&#39;, &#39;f&#39;, 1)</title>\n",
       "<ellipse fill=\"none\" stroke=\"#000000\" cx=\"1480.293\" cy=\"-234\" rx=\"79.0865\" ry=\"18\"/>\n",
       "<text text-anchor=\"middle\" x=\"1480.293\" y=\"-230.3\" font-family=\"Times,serif\" font-size=\"14.00\" fill=\"#000000\">(&#39;f&#39;, &#39;m&#39;, &#39;f&#39;, &#39;f&#39;, &#39;f&#39;, 1)</text>\n",
       "</g>\n",
       "<!-- (&#39;f&#39;, &#39;f&#39;, &#39;f&#39;, &#39;f&#39;, &#39;f&#39;, 1)&#45;&gt;(&#39;f&#39;, &#39;m&#39;, &#39;f&#39;, &#39;f&#39;, &#39;f&#39;, 1) -->\n",
       "<g id=\"edge40\" class=\"edge\">\n",
       "<title>(&#39;f&#39;, &#39;f&#39;, &#39;f&#39;, &#39;f&#39;, &#39;f&#39;, 1)&#45;&gt;(&#39;f&#39;, &#39;m&#39;, &#39;f&#39;, &#39;f&#39;, &#39;f&#39;, 1)</title>\n",
       "<path fill=\"none\" stroke=\"#000000\" d=\"M1615.0257,-291.0816C1587.518,-280.4332 1551.817,-265.9853 1524.0287,-254.2896\"/>\n",
       "<polygon fill=\"#000000\" stroke=\"#000000\" points=\"1525.1293,-250.9548 1514.556,-250.2782 1522.3996,-257.4006 1525.1293,-250.9548\"/>\n",
       "</g>\n",
       "<!-- (&#39;f&#39;, &#39;f&#39;, &#39;f&#39;, &#39;f&#39;, &#39;m&#39;, 1) -->\n",
       "<g id=\"node30\" class=\"node\">\n",
       "<title>(&#39;f&#39;, &#39;f&#39;, &#39;f&#39;, &#39;f&#39;, &#39;m&#39;, 1)</title>\n",
       "<ellipse fill=\"none\" stroke=\"#000000\" cx=\"1657.293\" cy=\"-234\" rx=\"79.0865\" ry=\"18\"/>\n",
       "<text text-anchor=\"middle\" x=\"1657.293\" y=\"-230.3\" font-family=\"Times,serif\" font-size=\"14.00\" fill=\"#000000\">(&#39;f&#39;, &#39;f&#39;, &#39;f&#39;, &#39;f&#39;, &#39;m&#39;, 1)</text>\n",
       "</g>\n",
       "<!-- (&#39;f&#39;, &#39;f&#39;, &#39;f&#39;, &#39;f&#39;, &#39;f&#39;, 1)&#45;&gt;(&#39;f&#39;, &#39;f&#39;, &#39;f&#39;, &#39;f&#39;, &#39;m&#39;, 1) -->\n",
       "<g id=\"edge36\" class=\"edge\">\n",
       "<title>(&#39;f&#39;, &#39;f&#39;, &#39;f&#39;, &#39;f&#39;, &#39;f&#39;, 1)&#45;&gt;(&#39;f&#39;, &#39;f&#39;, &#39;f&#39;, &#39;f&#39;, &#39;m&#39;, 1)</title>\n",
       "<path fill=\"none\" stroke=\"#000000\" d=\"M1651.3406,-287.8314C1650.5901,-280.131 1650.3692,-270.9743 1650.6779,-262.4166\"/>\n",
       "<polygon fill=\"#000000\" stroke=\"#000000\" points=\"1654.1722,-262.6161 1651.317,-252.4133 1647.1864,-262.1697 1654.1722,-262.6161\"/>\n",
       "</g>\n",
       "<!-- (&#39;f&#39;, &#39;f&#39;, &#39;m&#39;, &#39;f&#39;, &#39;f&#39;, 1) -->\n",
       "<g id=\"node31\" class=\"node\">\n",
       "<title>(&#39;f&#39;, &#39;f&#39;, &#39;m&#39;, &#39;f&#39;, &#39;f&#39;, 1)</title>\n",
       "<ellipse fill=\"none\" stroke=\"#000000\" cx=\"1834.293\" cy=\"-234\" rx=\"79.0865\" ry=\"18\"/>\n",
       "<text text-anchor=\"middle\" x=\"1834.293\" y=\"-230.3\" font-family=\"Times,serif\" font-size=\"14.00\" fill=\"#000000\">(&#39;f&#39;, &#39;f&#39;, &#39;m&#39;, &#39;f&#39;, &#39;f&#39;, 1)</text>\n",
       "</g>\n",
       "<!-- (&#39;f&#39;, &#39;f&#39;, &#39;f&#39;, &#39;f&#39;, &#39;f&#39;, 1)&#45;&gt;(&#39;f&#39;, &#39;f&#39;, &#39;m&#39;, &#39;f&#39;, &#39;f&#39;, 1) -->\n",
       "<g id=\"edge37\" class=\"edge\">\n",
       "<title>(&#39;f&#39;, &#39;f&#39;, &#39;f&#39;, &#39;f&#39;, &#39;f&#39;, 1)&#45;&gt;(&#39;f&#39;, &#39;f&#39;, &#39;m&#39;, &#39;f&#39;, &#39;f&#39;, 1)</title>\n",
       "<path fill=\"none\" stroke=\"#000000\" d=\"M1691.2747,-289.8418C1716.8649,-278.9275 1752.2975,-264.4748 1781.5352,-253.0073\"/>\n",
       "<polygon fill=\"#000000\" stroke=\"#000000\" points=\"1783.145,-256.1363 1791.1899,-249.2422 1780.6016,-249.6147 1783.145,-256.1363\"/>\n",
       "</g>\n",
       "<!-- (&#39;m&#39;, &#39;f&#39;, &#39;f&#39;, &#39;f&#39;, &#39;f&#39;, 1) -->\n",
       "<g id=\"node32\" class=\"node\">\n",
       "<title>(&#39;m&#39;, &#39;f&#39;, &#39;f&#39;, &#39;f&#39;, &#39;f&#39;, 1)</title>\n",
       "<ellipse fill=\"none\" stroke=\"#000000\" cx=\"2011.293\" cy=\"-234\" rx=\"79.0865\" ry=\"18\"/>\n",
       "<text text-anchor=\"middle\" x=\"2011.293\" y=\"-230.3\" font-family=\"Times,serif\" font-size=\"14.00\" fill=\"#000000\">(&#39;m&#39;, &#39;f&#39;, &#39;f&#39;, &#39;f&#39;, &#39;f&#39;, 1)</text>\n",
       "</g>\n",
       "<!-- (&#39;f&#39;, &#39;f&#39;, &#39;f&#39;, &#39;f&#39;, &#39;f&#39;, 1)&#45;&gt;(&#39;m&#39;, &#39;f&#39;, &#39;f&#39;, &#39;f&#39;, &#39;f&#39;, 1) -->\n",
       "<g id=\"edge39\" class=\"edge\">\n",
       "<title>(&#39;f&#39;, &#39;f&#39;, &#39;f&#39;, &#39;f&#39;, &#39;f&#39;, 1)&#45;&gt;(&#39;m&#39;, &#39;f&#39;, &#39;f&#39;, &#39;f&#39;, &#39;f&#39;, 1)</title>\n",
       "<path fill=\"none\" stroke=\"#000000\" d=\"M1708.91,-292.9153C1716.7224,-291.2433 1724.6978,-289.569 1732.293,-288 1812.6171,-271.4067 1832.8744,-268.1296 1913.293,-252 1921.4027,-250.3734 1929.9269,-248.6575 1938.4323,-246.9571\"/>\n",
       "<polygon fill=\"#000000\" stroke=\"#000000\" points=\"1939.2591,-250.3612 1948.3823,-244.9745 1937.8912,-243.4962 1939.2591,-250.3612\"/>\n",
       "</g>\n",
       "<!-- (&#39;f&#39;, &#39;m&#39;, &#39;f&#39;, &#39;f&#39;, &#39;f&#39;, 1)&#45;&gt;(&#39;f&#39;, &#39;f&#39;, &#39;f&#39;, &#39;f&#39;, &#39;f&#39;, 1) -->\n",
       "<g id=\"edge28\" class=\"edge\">\n",
       "<title>(&#39;f&#39;, &#39;m&#39;, &#39;f&#39;, &#39;f&#39;, &#39;f&#39;, 1)&#45;&gt;(&#39;f&#39;, &#39;f&#39;, &#39;f&#39;, &#39;f&#39;, &#39;f&#39;, 1)</title>\n",
       "<path fill=\"none\" stroke=\"#000000\" d=\"M1523.396,-249.2422C1550.908,-259.9048 1586.3584,-274.2579 1613.9181,-285.8623\"/>\n",
       "<polygon fill=\"#000000\" stroke=\"#000000\" points=\"1612.7381,-289.1635 1623.3112,-289.8418 1615.4688,-282.7181 1612.7381,-289.1635\"/>\n",
       "</g>\n",
       "<!-- (&#39;f&#39;, &#39;f&#39;, &#39;m&#39;, &#39;f&#39;, &#39;f&#39;, 4)&#45;&gt;(&#39;f&#39;, &#39;f&#39;, &#39;f&#39;, &#39;f&#39;, &#39;f&#39;, 4) -->\n",
       "<g id=\"edge43\" class=\"edge\">\n",
       "<title>(&#39;f&#39;, &#39;f&#39;, &#39;m&#39;, &#39;f&#39;, &#39;f&#39;, 4)&#45;&gt;(&#39;f&#39;, &#39;f&#39;, &#39;f&#39;, &#39;f&#39;, &#39;f&#39;, 4)</title>\n",
       "<path fill=\"none\" stroke=\"#000000\" d=\"M576.0299,-34.2782C550.2191,-45.2817 514.5108,-59.8406 485.2229,-71.3172\"/>\n",
       "<polygon fill=\"#000000\" stroke=\"#000000\" points=\"483.6076,-68.1902 475.5602,-75.0816 486.1486,-74.7128 483.6076,-68.1902\"/>\n",
       "</g>\n",
       "<!-- (&#39;m&#39;, &#39;f&#39;, &#39;f&#39;, &#39;f&#39;, &#39;f&#39;, 4)&#45;&gt;(&#39;f&#39;, &#39;f&#39;, &#39;f&#39;, &#39;f&#39;, &#39;f&#39;, 4) -->\n",
       "<g id=\"edge57\" class=\"edge\">\n",
       "<title>(&#39;m&#39;, &#39;f&#39;, &#39;f&#39;, &#39;f&#39;, &#39;f&#39;, 4)&#45;&gt;(&#39;f&#39;, &#39;f&#39;, &#39;f&#39;, &#39;f&#39;, &#39;f&#39;, 4)</title>\n",
       "<path fill=\"none\" stroke=\"#000000\" d=\"M732.0534,-31.0027C723.7746,-32.6881 715.3303,-34.3879 707.293,-36 626.8744,-52.1296 606.6171,-55.4067 526.293,-72 518.6088,-73.5874 510.5354,-75.2825 502.4792,-76.9741\"/>\n",
       "<polygon fill=\"#000000\" stroke=\"#000000\" points=\"501.7564,-73.5494 492.6881,-79.0281 503.1937,-80.4003 501.7564,-73.5494\"/>\n",
       "</g>\n",
       "<!-- (&#39;f&#39;, &#39;f&#39;, &#39;f&#39;, &#39;f&#39;, &#39;m&#39;, 1)&#45;&gt;(&#39;f&#39;, &#39;f&#39;, &#39;f&#39;, &#39;f&#39;, &#39;f&#39;, 1) -->\n",
       "<g id=\"edge55\" class=\"edge\">\n",
       "<title>(&#39;f&#39;, &#39;f&#39;, &#39;f&#39;, &#39;f&#39;, &#39;m&#39;, 1)&#45;&gt;(&#39;f&#39;, &#39;f&#39;, &#39;f&#39;, &#39;f&#39;, &#39;f&#39;, 1)</title>\n",
       "<path fill=\"none\" stroke=\"#000000\" d=\"M1663.269,-252.4133C1664.0001,-260.0593 1664.2132,-269.1084 1663.9084,-277.5726\"/>\n",
       "<polygon fill=\"#000000\" stroke=\"#000000\" points=\"1660.3977,-277.6264 1663.2454,-287.8314 1667.3832,-278.078 1660.3977,-277.6264\"/>\n",
       "</g>\n",
       "<!-- (&#39;f&#39;, &#39;f&#39;, &#39;m&#39;, &#39;f&#39;, &#39;f&#39;, 1)&#45;&gt;(&#39;f&#39;, &#39;f&#39;, &#39;f&#39;, &#39;f&#39;, &#39;f&#39;, 1) -->\n",
       "<g id=\"edge41\" class=\"edge\">\n",
       "<title>(&#39;f&#39;, &#39;f&#39;, &#39;m&#39;, &#39;f&#39;, &#39;f&#39;, 1)&#45;&gt;(&#39;f&#39;, &#39;f&#39;, &#39;f&#39;, &#39;f&#39;, &#39;f&#39;, 1)</title>\n",
       "<path fill=\"none\" stroke=\"#000000\" d=\"M1800.0299,-250.2782C1774.2191,-261.2817 1738.5108,-275.8406 1709.2229,-287.3172\"/>\n",
       "<polygon fill=\"#000000\" stroke=\"#000000\" points=\"1707.6076,-284.1902 1699.5602,-291.0816 1710.1486,-290.7128 1707.6076,-284.1902\"/>\n",
       "</g>\n",
       "<!-- (&#39;m&#39;, &#39;f&#39;, &#39;f&#39;, &#39;f&#39;, &#39;f&#39;, 1)&#45;&gt;(&#39;f&#39;, &#39;f&#39;, &#39;f&#39;, &#39;f&#39;, &#39;f&#39;, 1) -->\n",
       "<g id=\"edge56\" class=\"edge\">\n",
       "<title>(&#39;m&#39;, &#39;f&#39;, &#39;f&#39;, &#39;f&#39;, &#39;f&#39;, 1)&#45;&gt;(&#39;f&#39;, &#39;f&#39;, &#39;f&#39;, &#39;f&#39;, &#39;f&#39;, 1)</title>\n",
       "<path fill=\"none\" stroke=\"#000000\" d=\"M1956.0534,-247.0027C1947.7746,-248.6881 1939.3303,-250.3879 1931.293,-252 1850.8744,-268.1296 1830.6171,-271.4067 1750.293,-288 1742.6088,-289.5874 1734.5354,-291.2825 1726.4792,-292.9741\"/>\n",
       "<polygon fill=\"#000000\" stroke=\"#000000\" points=\"1725.7564,-289.5494 1716.6881,-295.0281 1727.1937,-296.4003 1725.7564,-289.5494\"/>\n",
       "</g>\n",
       "<!-- (&#39;f&#39;, &#39;f&#39;, &#39;f&#39;, &#39;f&#39;, &#39;m&#39;, 5) -->\n",
       "<g id=\"node33\" class=\"node\">\n",
       "<title>(&#39;f&#39;, &#39;f&#39;, &#39;f&#39;, &#39;f&#39;, &#39;m&#39;, 5)</title>\n",
       "<ellipse fill=\"none\" stroke=\"#000000\" cx=\"1844.293\" cy=\"-90\" rx=\"79.0865\" ry=\"18\"/>\n",
       "<text text-anchor=\"middle\" x=\"1844.293\" y=\"-86.3\" font-family=\"Times,serif\" font-size=\"14.00\" fill=\"#000000\">(&#39;f&#39;, &#39;f&#39;, &#39;f&#39;, &#39;f&#39;, &#39;m&#39;, 5)</text>\n",
       "</g>\n",
       "<!-- (&#39;f&#39;, &#39;f&#39;, &#39;f&#39;, &#39;f&#39;, &#39;m&#39;, 5)&#45;&gt;(&#39;f&#39;, &#39;f&#39;, &#39;f&#39;, &#39;f&#39;, &#39;f&#39;, 5) -->\n",
       "<g id=\"edge42\" class=\"edge\">\n",
       "<title>(&#39;f&#39;, &#39;f&#39;, &#39;f&#39;, &#39;f&#39;, &#39;m&#39;, 5)&#45;&gt;(&#39;f&#39;, &#39;f&#39;, &#39;f&#39;, &#39;f&#39;, &#39;f&#39;, 5)</title>\n",
       "<path fill=\"none\" stroke=\"#000000\" d=\"M1793.3202,-76.2029C1748.9566,-64.1947 1684.6161,-46.7792 1637.8834,-34.1298\"/>\n",
       "<polygon fill=\"#000000\" stroke=\"#000000\" points=\"1638.7591,-30.7409 1628.192,-31.5065 1636.9301,-37.4977 1638.7591,-30.7409\"/>\n",
       "</g>\n",
       "<!-- (&#39;m&#39;, &#39;f&#39;, &#39;f&#39;, &#39;f&#39;, &#39;f&#39;, 0)&#45;&gt;(&#39;f&#39;, &#39;f&#39;, &#39;f&#39;, &#39;f&#39;, &#39;f&#39;, 0) -->\n",
       "<g id=\"edge45\" class=\"edge\">\n",
       "<title>(&#39;m&#39;, &#39;f&#39;, &#39;f&#39;, &#39;f&#39;, &#39;f&#39;, 0)&#45;&gt;(&#39;f&#39;, &#39;f&#39;, &#39;f&#39;, &#39;f&#39;, &#39;f&#39;, 0)</title>\n",
       "<path fill=\"none\" stroke=\"#000000\" d=\"M1773.3968,-318.8099C1713.5322,-331.7376 1618.6032,-351.6113 1554.174,-364.7083\"/>\n",
       "<polygon fill=\"#000000\" stroke=\"#000000\" points=\"1553.2104,-361.3324 1544.1055,-366.75 1554.6016,-368.1928 1553.2104,-361.3324\"/>\n",
       "</g>\n",
       "<!-- (&#39;f&#39;, &#39;f&#39;, &#39;f&#39;, &#39;f&#39;, &#39;m&#39;, 0)&#45;&gt;(&#39;f&#39;, &#39;f&#39;, &#39;f&#39;, &#39;f&#39;, &#39;f&#39;, 0) -->\n",
       "<g id=\"edge60\" class=\"edge\">\n",
       "<title>(&#39;f&#39;, &#39;f&#39;, &#39;f&#39;, &#39;f&#39;, &#39;m&#39;, 0)&#45;&gt;(&#39;f&#39;, &#39;f&#39;, &#39;f&#39;, &#39;f&#39;, &#39;f&#39;, 0)</title>\n",
       "<path fill=\"none\" stroke=\"#000000\" d=\"M1952.5878,-319.2789C1943.838,-320.9737 1934.8498,-322.6019 1926.293,-324 1800.9559,-344.4784 1654.0467,-361.3376 1565.332,-370.5066\"/>\n",
       "<polygon fill=\"#000000\" stroke=\"#000000\" points=\"1564.9292,-367.0295 1555.3388,-371.5322 1565.6439,-373.9929 1564.9292,-367.0295\"/>\n",
       "</g>\n",
       "<!-- (&#39;f&#39;, &#39;f&#39;, &#39;m&#39;, &#39;f&#39;, &#39;f&#39;, 5) -->\n",
       "<g id=\"node36\" class=\"node\">\n",
       "<title>(&#39;f&#39;, &#39;f&#39;, &#39;m&#39;, &#39;f&#39;, &#39;f&#39;, 5)</title>\n",
       "<ellipse fill=\"none\" stroke=\"#000000\" cx=\"2021.293\" cy=\"-90\" rx=\"79.0865\" ry=\"18\"/>\n",
       "<text text-anchor=\"middle\" x=\"2021.293\" y=\"-86.3\" font-family=\"Times,serif\" font-size=\"14.00\" fill=\"#000000\">(&#39;f&#39;, &#39;f&#39;, &#39;m&#39;, &#39;f&#39;, &#39;f&#39;, 5)</text>\n",
       "</g>\n",
       "<!-- (&#39;f&#39;, &#39;f&#39;, &#39;m&#39;, &#39;f&#39;, &#39;f&#39;, 5)&#45;&gt;(&#39;f&#39;, &#39;f&#39;, &#39;f&#39;, &#39;f&#39;, &#39;f&#39;, 5) -->\n",
       "<g id=\"edge54\" class=\"edge\">\n",
       "<title>(&#39;f&#39;, &#39;f&#39;, &#39;m&#39;, &#39;f&#39;, &#39;f&#39;, 5)&#45;&gt;(&#39;f&#39;, &#39;f&#39;, &#39;f&#39;, &#39;f&#39;, &#39;f&#39;, 5)</title>\n",
       "<path fill=\"none\" stroke=\"#000000\" d=\"M1962.9632,-77.7846C1952.7568,-75.7668 1942.2272,-73.7612 1932.293,-72 1836.4609,-55.0101 1725.453,-38.6056 1653.668,-28.4242\"/>\n",
       "<polygon fill=\"#000000\" stroke=\"#000000\" points=\"1653.7594,-24.9024 1643.3678,-26.9679 1652.7793,-31.8335 1653.7594,-24.9024\"/>\n",
       "</g>\n",
       "</g>\n",
       "</svg>\n"
      ],
      "text/plain": [
       "<graphviz.dot.Digraph at 0x7f81a3ab9dd0>"
      ]
     },
     "execution_count": 20,
     "metadata": {},
     "output_type": "execute_result"
    }
   ],
   "source": [
    "from pkg.utils.graph_visualize import *\n",
    "\n",
    "vg = VisualGraph()\n",
    "\n",
    "def simplify_node(node):\n",
    "    return tuple([ntem[0] if isinstance(ntem, str) else ntem for ntem in node])\n",
    "\n",
    "for node, leafs in inc.node_dict.items():\n",
    "    vg.add_node(simplify_node(node), [simplify_node(leaf) for leaf in leafs])\n",
    "    \n",
    "gv = vg.draw()\n",
    "# gv.save()\n",
    "gv"
   ]
  },
  {
   "cell_type": "code",
   "execution_count": null,
   "metadata": {},
   "outputs": [],
   "source": []
  },
  {
   "cell_type": "markdown",
   "metadata": {},
   "source": [
    "## TODO 02.06\n",
    "\n",
    "### Detector\n",
    "* 마커, 시계 현장 인식 테스트 v\n",
    "* point cloud visualization 에서 0 포인트 에러 발생\n",
    "* 90도 돌아간 인식\n",
    "\n",
    "### HW\n",
    "* 바퀴 높이 맞춤 90x40x6mm L shape w. profile hole x 2 뽑기\n",
    "* 대형 장애물 마련하기\n",
    "  - 가방? 앞뒤만 밀 수 있게 전제, 가이드레일 및 앞 범퍼 만들기\n",
    "  - 의자? 방에서 미니 의자 가져와서 테스트, 다른의자 구해보기\n",
    "\n",
    "### Planner\n",
    "* 전2륜 전제로 모바일 경로 트래킹 알고리즘 보강 (늦어짐)\n",
    "  - 현장 실제어주기 확인 ~15 ms\n",
    "* 테이블 커버하는 view 자세/모션들 만들기"
   ]
  },
  {
   "cell_type": "code",
   "execution_count": null,
   "metadata": {},
   "outputs": [],
   "source": []
  },
  {
   "cell_type": "markdown",
   "metadata": {},
   "source": [
    "## TODO 01.31\n",
    "### data\n",
    "* 인식 결과 샘플 저장\n",
    "\n",
    "### Detector\n",
    "* 첫 인식에서 캐리어 4개만 인식됨 (다시 인식하면 5개 나옴)\n",
    "* 마커 인식 추가\n",
    "\n",
    "### Planner\n",
    "* 바퀴가 자꾸 멈춤 - 강제로 정지되면 다이나믹셀이 셧다운 됨 - 펌웨어 수정 필요\n",
    "* 플래닝 성능 개선\n",
    "\n",
    "### Anydesk 자동 연결 설정 (소형 모니터 연결?)\n",
    "\n"
   ]
  },
  {
   "cell_type": "code",
   "execution_count": null,
   "metadata": {},
   "outputs": [],
   "source": []
  },
  {
   "cell_type": "code",
   "execution_count": null,
   "metadata": {},
   "outputs": [],
   "source": []
  }
 ],
 "metadata": {
  "kernelspec": {
   "display_name": "Python 2",
   "language": "python",
   "name": "python2"
  },
  "language_info": {
   "codemirror_mode": {
    "name": "ipython",
    "version": 2
   },
   "file_extension": ".py",
   "mimetype": "text/x-python",
   "name": "python",
   "nbconvert_exporter": "python",
   "pygments_lexer": "ipython2",
   "version": "2.7.17"
  }
 },
 "nbformat": 4,
 "nbformat_minor": 2
}
