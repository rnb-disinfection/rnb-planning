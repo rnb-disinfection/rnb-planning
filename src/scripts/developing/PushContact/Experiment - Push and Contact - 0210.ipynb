{
 "cells": [
  {
   "cell_type": "markdown",
   "metadata": {},
   "source": [
    "# Experiment Process\n",
    "## Prepare HW\n",
    "1. Switch supply power to mobile robot system\n",
    "2. Turn on panda controller and mobile computer on the mobile system\n",
    "3. Connect to Mobile WiFi (RNB-MOBILE, PW: robot!!!1)\n",
    "4. Connect to Franka Desk (192.168.17.3) and unlock panda joints, make sure blue LED is on.\n",
    "\n",
    "## Prepare Mobile Panda\n",
    "1. Connect to mobile computer with AnyDesk (349 336 873)\n",
    "    - Proceed this section in connected mobile computer.\n",
    "2. Prepare SteamVR\n",
    "    - Make sure Each Vive Base Station have unique ID (should be set in advance in Windows SteamVR)\n",
    "    - Make sure Vive Base Stations are placed properly (facing each other)\n",
    "    - Turn on vrmonitor\n",
    "    - Connect Vive Tracker (Menu-Devices-Pair Controller)\n",
    "    - Make sure All Base Station and Tracker icons are active\n",
    "3. Start camera server\n",
    "```bash\n",
    "cd ~/Projects/grpc_cam/\n",
    "python3 cam_grpc_server.py\n",
    "```\n",
    "    - If any error is raised, disconnect and reconnect camera \n",
    "4. Start panda control program\n",
    "```bash\n",
    "roslaunch panda_control joint_control_rnb.launch robot_ip:=192.168.17.3 load_gripper:=false\n",
    "```\n",
    "5. Start mobile robot server\n",
    "```bash\n",
    "~/run_mobile_server.sh\n",
    "```\n",
    "\n",
    "\n",
    "## Proceed Experiment\n",
    "* Place table, chair, clocks and target markers and run scripts below\n",
    "\n",
    "\n",
    "## Trouble shooting\n",
    "* Panda stop: panda controller can stop due to excessive  torque or network loss\n",
    "    - push and turn panda activation button to reset state, and restart panda control program"
   ]
  },
  {
   "cell_type": "code",
   "execution_count": null,
   "metadata": {},
   "outputs": [],
   "source": []
  },
  {
   "cell_type": "code",
   "execution_count": 1,
   "metadata": {},
   "outputs": [
    {
     "name": "stdout",
     "output_type": "stream",
     "text": [
      "Mobile IP: 192.168.17.2\n",
      "ROBOT  IP: 192.168.17.2\n",
      "PANDA  IP: 192.168.17.3\n"
     ]
    }
   ],
   "source": [
    "import os\n",
    "import sys\n",
    "sys.path.append(os.path.join(os.path.join(\n",
    "    os.environ[\"RNB_PLANNING_DIR\"], 'src')))\n",
    "sys.path.append(os.path.join(\n",
    "    os.environ[\"RNB_PLANNING_DIR\"], 'src/scripts/demo_202107'))\n",
    "\n",
    "CONNECT_MOBILE = True\n",
    "CONNECT_ROBOT = True\n",
    "SAVE_DATA = False\n",
    "\n",
    "MOBILE_IP = \"192.168.17.2\"\n",
    "ROBOT_IP = \"192.168.17.2\"\n",
    "PANDA_IP = \"192.168.17.3\"\n",
    "\n",
    "print(\"Mobile IP: {}\".format(MOBILE_IP))\n",
    "print(\"ROBOT  IP: {}\".format(ROBOT_IP))\n",
    "print(\"PANDA  IP: {}\".format(PANDA_IP))\n",
    "\n",
    "sys.path.append(os.path.join(\n",
    "    os.environ[\"RNB_PLANNING_DIR\"], 'src/scripts/developing/multiobject'))\n",
    "\n",
    "from concurrent import futures\n",
    "import logging\n",
    "import math\n",
    "import time\n",
    "import cv2\n",
    "import numpy as np\n",
    "import grpc\n",
    "import RemoteCam_pb2\n",
    "import RemoteCam_pb2_grpc\n",
    "\n",
    "MAX_MESSAGE_LENGTH = 10000000\n",
    "PORT_CAM = 10509"
   ]
  },
  {
   "cell_type": "code",
   "execution_count": 2,
   "metadata": {},
   "outputs": [
    {
     "name": "stdout",
     "output_type": "stream",
     "text": [
      "connection command:\n",
      "pmb0: True\n",
      "panda_arm1: True\n"
     ]
    }
   ],
   "source": [
    "ROBOT_BASE_OFFSET = (-0.28+0.008,0,0.592)\n",
    "ROBOT_BASE_RPY = (0,0,0)\n",
    "TOOL_NAME = \"brush_face\"\n",
    "WALL_THICKNESS = 0.01\n",
    "CLEARANCE = 0.001\n",
    "WS_HEIGHT = 1.7\n",
    "COL_COLOR = (1,1,1,0.2)\n",
    "    \n",
    "LOG_FORCE = False\n",
    "\n",
    "from pkg.controller.combined_robot import *\n",
    "from pkg.project_config import *\n",
    "\n",
    "kiro_udp_client.KIRO_UDP_OFFLINE_DEBUG = not CONNECT_MOBILE\n",
    "\n",
    "mobile_config = RobotConfig(0, RobotType.pmb, ((0,0,0), (0,0,0)), MOBILE_IP)\n",
    "robot_config = RobotConfig(1, RobotType.panda_arm, \n",
    "                           (ROBOT_BASE_OFFSET, ROBOT_BASE_RPY),\n",
    "                           \"{}/{}\".format(ROBOT_IP, PANDA_IP), root_on=\"pmb0_platform\")\n",
    "\n",
    "ROBOT_TYPE = robot_config.type\n",
    "MOBILE_NAME = mobile_config.get_indexed_name()\n",
    "ROBOT_NAME = robot_config.get_indexed_name()\n",
    "crob = CombinedRobot(robots_on_scene=[mobile_config, robot_config],\n",
    "                     connection_list=[CONNECT_MOBILE, CONNECT_ROBOT])"
   ]
  },
  {
   "cell_type": "code",
   "execution_count": null,
   "metadata": {},
   "outputs": [],
   "source": []
  },
  {
   "cell_type": "markdown",
   "metadata": {},
   "source": [
    "### Make scene"
   ]
  },
  {
   "cell_type": "code",
   "execution_count": 3,
   "metadata": {
    "scrolled": true
   },
   "outputs": [
    {
     "name": "stdout",
     "output_type": "stream",
     "text": [
      "Unable to register with master node [http://localhost:11311]: master may not be running yet. Will keep trying.\n",
      "Please create a subscriber to the marker\n",
      "publication OK\n",
      "published: [0, 0, 0, 0, 0, 0, 0, 0, 0, 0, 0, 0, 0]\n",
      "Please create a subscriber to the marker\n"
     ]
    }
   ],
   "source": [
    "from pkg.geometry.builder.scene_builder import SceneBuilder\n",
    "from pkg.planning.scene import PlanningScene\n",
    "\n",
    "s_builder = SceneBuilder(None)\n",
    "gscene = s_builder.create_gscene(crob)\n",
    "gtems = s_builder.add_robot_geometries(\n",
    "    color=COL_COLOR, display=True, collision=True)\n",
    "\n",
    "gscene.set_workspace_boundary(\n",
    "    -1, 4, -2.5, 2.5, -CLEARANCE, WS_HEIGHT, thickness=WALL_THICKNESS)\n",
    "\n",
    "HOME_POSE_DEFAULT = np.copy(crob.home_pose)\n",
    "gscene.show_pose(crob.home_pose)\n",
    "crob.simulator.gscene=gscene"
   ]
  },
  {
   "cell_type": "code",
   "execution_count": null,
   "metadata": {},
   "outputs": [],
   "source": []
  },
  {
   "cell_type": "markdown",
   "metadata": {},
   "source": [
    "### Planning scene"
   ]
  },
  {
   "cell_type": "code",
   "execution_count": 4,
   "metadata": {},
   "outputs": [],
   "source": [
    "from pkg.geometry.geometry import *\n",
    "from pkg.utils.code_scraps import *\n",
    "from pkg.planning.constraint.constraint_subject import *\n",
    "from pkg.planning.constraint.constraint_actor import *\n",
    "from exp_config import *\n",
    "\n",
    "pscene = PlanningScene(gscene, combined_robot=crob)"
   ]
  },
  {
   "cell_type": "code",
   "execution_count": 5,
   "metadata": {},
   "outputs": [],
   "source": [
    "ROBOT_BASE = pscene.robot_chain_dict[ROBOT_NAME]['link_names'][0]\n",
    "TIP_LINK = pscene.robot_chain_dict[ROBOT_NAME][\"tip_link\"]\n",
    "MOBILE_BASE = pscene.robot_chain_dict[MOBILE_NAME][\"tip_link\"]\n",
    "HOLD_LINK = MOBILE_BASE\n",
    "BRUSH_NAME = \"brush_face\"\n",
    "theta = -np.pi*3/4\n",
    "viewpoint  = add_panda_cam(gscene, tool_link=TIP_LINK, theta=theta)\n",
    "brush_face = add_panda_brush(gscene, tool_link=TIP_LINK, theta=theta, brush_name=BRUSH_NAME)\n",
    "\n",
    "point_brush, rpy_brush = (0,0,-brush_face.dims[2]/2), (0,0,0)\n",
    "brush_b = pscene.create_binder(BRUSH_NAME, BRUSH_NAME, WayFramer, point=point_brush, rpy=rpy_brush)\n",
    "gscene.show_pose(HOME_POSE_DEFAULT)\n",
    "\n",
    "MOBILE_PUSH_NAME = \"mpush\"\n",
    "MOBILE_PUSH_HEIGHT = 0.4\n",
    "MOBILE_PUSH_KEY = 1\n",
    "MOBILE_SLIDE_KEY = 2\n",
    "front_dist = 0.03\n",
    "mpush_g = gscene.create_safe(GEOTYPE.SPHERE, MOBILE_PUSH_NAME, link_name=HOLD_LINK,dims=(0.01,0.01,0.01),\n",
    "                           center=(front_dist, 0, MOBILE_PUSH_HEIGHT), rpy=(0,np.pi/2,0),\n",
    "                           fixed=True, collision=False, color=(1,0,0,0.5))\n",
    "mpush_b = pscene.create_binder(MOBILE_PUSH_NAME, MOBILE_PUSH_NAME, FramedTool, point=(0,0,0), rpy=(0,0,0), key=MOBILE_PUSH_KEY)\n",
    "\n",
    "floor_b = pscene.create_binder(\"floor_ws\", \"floor_ws\", PlaceFrame, point=(0,0,WALL_THICKNESS/2), key=MOBILE_SLIDE_KEY)\n",
    "\n",
    "TOOL_PUSH_NAME = \"tpush\"\n",
    "TOOL_PUSH_HEIGHT = 0.03\n",
    "TOOL_PUSH_KEY = 10\n",
    "TOOL_SLIDE_KEY = 11\n",
    "brush_col = gscene.NAME_DICT[BRUSH_NAME+\"_col\"]\n",
    "TOOL_DIM = brush_col.dims\n",
    "\n",
    "center_push, rpy_push = (TOOL_DIM[0]/2+CLEARANCE, 0, 0), (0,np.pi/2,0)    \n",
    "tpush_g = gscene.create_safe(GEOTYPE.SPHERE, TOOL_PUSH_NAME, link_name=TIP_LINK,dims=(0.01,0.01,0.01),\n",
    "                           center=center_push, rpy=rpy_push,\n",
    "                           fixed=True, collision=False, color=(1,0,0,0.5), parent=BRUSH_NAME)\n",
    "tpush_b = pscene.create_binder(TOOL_PUSH_NAME, TOOL_PUSH_NAME, FramedTool, point=(0,0,0), rpy=(0,0,0), key=TOOL_PUSH_KEY)"
   ]
  },
  {
   "cell_type": "code",
   "execution_count": null,
   "metadata": {},
   "outputs": [],
   "source": []
  },
  {
   "cell_type": "markdown",
   "metadata": {},
   "source": [
    "### MultiICP Detector"
   ]
  },
  {
   "cell_type": "code",
   "execution_count": 6,
   "metadata": {},
   "outputs": [],
   "source": [
    "from pkg.detector.multiICP.multiICP import MultiICP, MultiICP_Obj\n",
    "from pkg.detector.multiICP.config import *\n",
    "from pkg.detector.camera.realsense import RealSense\n",
    "from pkg.detector.detector_interface import DetectionLevel\n",
    "\n",
    "import open3d as o3d\n",
    "import numpy as np\n",
    "\n",
    "CONNECT_CAM = False\n",
    "REMOTE_CAM = True\n",
    "\n",
    "CARRIER_DIM = (0.4, 0.29, 0.635)\n",
    "CLOCK_DIM = (0.138, 0.05, 0.078)"
   ]
  },
  {
   "cell_type": "code",
   "execution_count": 7,
   "metadata": {},
   "outputs": [
    {
     "name": "stdout",
     "output_type": "stream",
     "text": [
      "Camera is not set - skip initialization, use remote camera\n",
      "request 0 -> response 0\n",
      "==== Received camera config from remote camera ====\n"
     ]
    }
   ],
   "source": [
    "from demo_utils.data_reconstructed_camera import DataRecontructedCamera\n",
    "dcam = DataRecontructedCamera(crob, viewpoint)\n",
    "# if not CONNECT_CAM and not REMOTE_CAM:\n",
    "#     dcam.initialize()\n",
    "\n",
    "if CONNECT_CAM:\n",
    "    realsense = RealSense()\n",
    "    micp = MultiICP(realsense)\n",
    "    micp.initialize()\n",
    "else:\n",
    "    if REMOTE_CAM:\n",
    "        # use remote camera\n",
    "        micp = MultiICP(None)\n",
    "        micp.initialize(remote_cam=REMOTE_CAM)\n",
    "#         dcam.ready_saving(*micp.get_camera_config())\n",
    "#         cam_pose = viewpoint.get_tf(VIEW_POSE_EXT)\n",
    "    else:\n",
    "        # use manually given camera configs\n",
    "        micp = MultiICP(None)\n",
    "        config_list, img_dim = load_pickle(RNB_PLANNING_DIR+\"release/multiICP_data/cam_configs.pkl\")\n",
    "        micp.initialize(config_list, img_dim)\n",
    "#         micp = MultiICP(dcam)\n",
    "#         micp.initialize()"
   ]
  },
  {
   "cell_type": "markdown",
   "metadata": {},
   "source": [
    "### Shared Detector"
   ]
  },
  {
   "cell_type": "code",
   "execution_count": 8,
   "metadata": {},
   "outputs": [],
   "source": [
    "from pkg.utils.shared_function import clear_channels_on, sa\n",
    "clear_channels_on(\"SharedDetector\")\n",
    "\n",
    "from pkg.detector.multiICP.shared_detector import SharedDetectorGen\n",
    "sd = SharedDetectorGen(tuple(reversed(micp.dsize))+(3,))()\n",
    "sd.init()"
   ]
  },
  {
   "cell_type": "code",
   "execution_count": null,
   "metadata": {},
   "outputs": [],
   "source": []
  },
  {
   "cell_type": "markdown",
   "metadata": {},
   "source": [
    "### Set ICP Config"
   ]
  },
  {
   "cell_type": "code",
   "execution_count": 9,
   "metadata": {},
   "outputs": [],
   "source": [
    "# Load config file of object information\n",
    "obj_info_dict = get_obj_info()"
   ]
  },
  {
   "cell_type": "code",
   "execution_count": 10,
   "metadata": {},
   "outputs": [],
   "source": [
    "micp_suitcase = MultiICP_Obj(obj_info_dict[\"suitcase\"], None,\n",
    "                        OffsetOnModelCoord(\"suitcase\", R=np.matmul(Rot_axis(1, 2*np.pi/3), Rot_axis(3, np.pi/2)), offset=(0.,0.,0.2)))\n",
    "\n",
    "\n",
    "micp_clock = MultiICP_Obj(obj_info_dict[\"clock\"], None,\n",
    "                        OffsetOnModelCoord(\"clock\", R=Rot_axis(1, np.pi/4), offset=(-0.04,-0.03,0.04)))\n",
    "\n",
    "\n",
    "micp_table = MultiICP_Obj(obj_info_dict[\"dining table\"], None,\n",
    "                        OffsetOnModelCoord(\"dining table\", R=Rot_axis(1, 3*np.pi/4), offset=(0.,0.35,0.6)))\n",
    "\n",
    "micp_chair = MultiICP_Obj(obj_info_dict[\"chair\"], None,\n",
    "                        OffsetOnModelCoord(\"chair\", R=Rot_axis(1, 3*np.pi/4), offset=(0.1, 0.1,0.)))"
   ]
  },
  {
   "cell_type": "code",
   "execution_count": 11,
   "metadata": {},
   "outputs": [],
   "source": [
    "micp_dict = {\"suitcase\": micp_suitcase, \"clock\": micp_clock,\n",
    "             \"dining table\": micp_table, \"chair\": micp_chair}\n",
    "micp.set_config(micp_dict, sd, crob, viewpoint)"
   ]
  },
  {
   "cell_type": "code",
   "execution_count": null,
   "metadata": {},
   "outputs": [],
   "source": []
  },
  {
   "cell_type": "markdown",
   "metadata": {},
   "source": [
    "## Table"
   ]
  },
  {
   "cell_type": "code",
   "execution_count": 12,
   "metadata": {},
   "outputs": [],
   "source": [
    "VIEW_LOC = crob.get_real_robot_pose()[:6]\n",
    "VIEW_ARM = HOME_POSE_DEFAULT[6:] + np.deg2rad([0,0,0,0,0,45,-45])\n",
    "VIEW_TABLE = list(VIEW_LOC) + list(VIEW_ARM)\n",
    "crob.joint_move_make_sure(np.array(VIEW_TABLE), ref_speed=np.pi/8)"
   ]
  },
  {
   "cell_type": "code",
   "execution_count": 13,
   "metadata": {},
   "outputs": [],
   "source": [
    "TABLE_NAME = \"table\""
   ]
  },
  {
   "cell_type": "code",
   "execution_count": 14,
   "metadata": {
    "scrolled": true
   },
   "outputs": [
    {
     "name": "stdout",
     "output_type": "stream",
     "text": [
      "name_mask is ['dining table']\n",
      "request 0 -> response 0\n",
      "==== Received color, depth image from remote camera ====\n",
      "Maximun num of object for detection : 1\n",
      "===== Detected : dining table, 1 object(s) =====\n",
      "[NOTICE] You choose merge option for mask. Detected masks would be merged.\n",
      "\n",
      "'dining table' is not in gscene. Use manual input for initial guess\n",
      "\n",
      "Apply point-to-point ICP\n",
      "registration::RegistrationResult with fitness=1.000000e+00, inlier_rmse=1.599027e-01, and correspondence_set size of 4081\n",
      "Access transformation to get result.\n",
      "Transformation is:\n",
      "[[ 0.87651686  0.4728214  -0.09032228  0.37285039]\n",
      " [ 0.24464832 -0.59915729 -0.76233701  0.22626707]\n",
      " [-0.41456651  0.64610405 -0.64084642  3.56352842]\n",
      " [ 0.          0.          0.          1.        ]]\n",
      "Total ICP Transformation is:\n",
      "[[ 0.87651686  0.4728214  -0.09032228  0.37285039]\n",
      " [ 0.24464832 -0.59915729 -0.76233701  0.22626707]\n",
      " [-0.41456651  0.64610405 -0.64084642  3.56352842]\n",
      " [ 0.          0.          0.          1.        ]]\n",
      "Inlier ratio: 0.0922466734903\n",
      "initial: \n",
      "[[ 0.88  0.47 -0.09  0.37]\n",
      " [ 0.24 -0.6  -0.76  0.23]\n",
      " [-0.41  0.65 -0.64  3.56]\n",
      " [ 0.    0.    0.    1.  ]]\n",
      "Apply point-to-point ICP\n",
      "registration::RegistrationResult with fitness=8.230198e-01, inlier_rmse=7.715284e-02, and correspondence_set size of 1330\n",
      "Access transformation to get result.\n",
      "Transformation is:\n",
      "[[ 0.8680871   0.49624339 -0.01293358  0.28787891]\n",
      " [ 0.200435   -0.37422229 -0.90541894  0.34294541]\n",
      " [-0.45414821  0.78339016 -0.42432209  3.47933222]\n",
      " [ 0.          0.          0.          1.        ]]\n",
      "Total ICP Transformation is:\n",
      "[[ 0.8680871   0.49624339 -0.01293358  0.28787891]\n",
      " [ 0.200435   -0.37422229 -0.90541894  0.34294541]\n",
      " [-0.45414821  0.78339016 -0.42432209  3.47933222]\n",
      " [ 0.          0.          0.          1.        ]]\n",
      "result: \n",
      "[[ 0.87  0.5  -0.01  0.29]\n",
      " [ 0.2  -0.37 -0.91  0.34]\n",
      " [-0.45  0.78 -0.42  3.48]\n",
      " [ 0.    0.    0.    1.  ]]\n",
      "Inlier ratio: 0.0670178877726\n",
      "Found 6DoF pose of dining table_1\n"
     ]
    }
   ],
   "source": [
    "# for dining table\n",
    "micp.set_ICP_thres(thres_ICP=0.6, thres_front_ICP=0.18)\n",
    "micp.set_pcd_ratio(ratio=0.5)\n",
    "micp.set_inlier_ratio(ratio=0.02)\n",
    "# micp.set_multiobject_num(num = 1)\n",
    "micp.set_merge_mask(merge=True)\n",
    "pose_dict = micp.detect(name_mask=[\"dining table\"], visualize=True)"
   ]
  },
  {
   "cell_type": "code",
   "execution_count": 15,
   "metadata": {},
   "outputs": [],
   "source": [
    "# add table\n",
    "center, rpy = pose_refine(\"dining table\", pose_dict[\"dining table_1\"])\n",
    "table_vis, table_g = add_table(gscene, TABLE_NAME, center, rpy)\n",
    "TABLE_HEIGHT = table_g.center[2] + table_g.dims[2]/2"
   ]
  },
  {
   "cell_type": "code",
   "execution_count": 16,
   "metadata": {},
   "outputs": [],
   "source": [
    "table_b = pscene.create_binder(TABLE_NAME, TABLE_NAME, PlaceFrame, point=(0,0,table_g.dims[2]/2), key=TOOL_SLIDE_KEY)\n",
    "gscene.add_virtual_guardrail(table_g, HEIGHT=0.01, axis=\"xy\")"
   ]
  },
  {
   "cell_type": "markdown",
   "metadata": {},
   "source": [
    "### update workspace"
   ]
  },
  {
   "cell_type": "code",
   "execution_count": 17,
   "metadata": {},
   "outputs": [],
   "source": [
    "Tbt = table_g.get_tf(HOME_POSE_DEFAULT)\n",
    "Tbm = gscene.get_tf(MOBILE_BASE, HOME_POSE_DEFAULT)\n",
    "Ttm = np.matmul(np.linalg.inv(Tbt), Tbm)\n",
    "\n",
    "Ymax = table_g.dims[1]/2\n",
    "Ymin = Ttm[1,3]-0.9\n",
    "Xmax = Ttm[0,3]+0.7\n",
    "Xmin = -table_g.dims[0]/2-0.3\n",
    "Xtc = np.mean([Xmax, Xmin])\n",
    "Ytc = np.mean([Ymax, Ymin])\n",
    "dX = Xmax - Xmin\n",
    "dY = Ymax - Ymin\n",
    "Xbc, Ybc, _, _ = np.matmul(Tbt, [Xtc, Ytc, 0, 1])\n",
    "Xmax, Xmin = Xbc + dX/2, Xbc - dX/2\n",
    "Ymax, Ymin = Ybc + dY/2, Ybc - dY/2\n",
    "\n",
    "gscene.set_workspace_boundary(\n",
    "    Xmin, Xmax, Ymin, Ymax, -CLEARANCE, WS_HEIGHT, thickness=WALL_THICKNESS, \n",
    "    RPY=Rot2rpy(Tbt[:3,:3]))"
   ]
  },
  {
   "cell_type": "code",
   "execution_count": 18,
   "metadata": {},
   "outputs": [
    {
     "data": {
      "text/plain": [
       "<pkg.geometry.geometry.GeometryItem at 0x7f1c481375d0>"
      ]
     },
     "execution_count": 18,
     "metadata": {},
     "output_type": "execute_result"
    }
   ],
   "source": [
    "floor_ws = gscene.NAME_DICT[\"floor_ws\"]\n",
    "gscene.create_safe(GEOTYPE.BOX, \"obstacle_corner\", link_name=\"base_link\",\n",
    "                   dims = (0.5,0.5,1), \n",
    "                   center=(floor_ws.dims[0]/2-0.3, floor_ws.dims[1]/2-0.3, 0.5), \n",
    "                  display=True, collision=True, parent=\"floor_ws\",\n",
    "                  color=(1,1,0,0.2))"
   ]
  },
  {
   "cell_type": "code",
   "execution_count": null,
   "metadata": {},
   "outputs": [],
   "source": []
  },
  {
   "cell_type": "markdown",
   "metadata": {},
   "source": [
    "#### [SAVE DATA]"
   ]
  },
  {
   "cell_type": "code",
   "execution_count": 19,
   "metadata": {},
   "outputs": [],
   "source": [
    "if SAVE_DATA:\n",
    "    color, depth, Qcur = micp.get_image()\n",
    "    cam_pose = viewpoint.get_tf(Qcur)\n",
    "    dcam.ready_saving(*micp.get_camera_config())\n",
    "    dcam.save_scene(color, depth, cam_pose)"
   ]
  },
  {
   "cell_type": "code",
   "execution_count": null,
   "metadata": {},
   "outputs": [],
   "source": []
  },
  {
   "cell_type": "markdown",
   "metadata": {},
   "source": [
    "### Chair"
   ]
  },
  {
   "cell_type": "code",
   "execution_count": 20,
   "metadata": {},
   "outputs": [],
   "source": [
    "for i in range(10):\n",
    "    try:\n",
    "        gscene.remove(gscene.NAME_DICT[\"chair_{}\".format(i)])\n",
    "    except:\n",
    "        pass"
   ]
  },
  {
   "cell_type": "code",
   "execution_count": 21,
   "metadata": {
    "scrolled": true
   },
   "outputs": [
    {
     "name": "stdout",
     "output_type": "stream",
     "text": [
      "name_mask is ['chair']\n",
      "request 0 -> response 0\n",
      "==== Received color, depth image from remote camera ====\n",
      "Maximun num of object for detection : 5\n",
      "===== Detected : chair, 1 object(s) =====\n",
      "\n",
      "'chair' is not in gscene. Use manual input for initial guess\n",
      "\n",
      "Apply point-to-point ICP\n",
      "registration::RegistrationResult with fitness=1.000000e+00, inlier_rmse=3.117020e-02, and correspondence_set size of 30002\n",
      "Access transformation to get result.\n",
      "Transformation is:\n",
      "[[ 0.99595005  0.08319534  0.03408864 -0.3208391 ]\n",
      " [ 0.0774894  -0.60201389 -0.7947167   0.29821189]\n",
      " [-0.04559489  0.79413965 -0.60602252  2.12256294]\n",
      " [ 0.          0.          0.          1.        ]]\n",
      "Total ICP Transformation is:\n",
      "[[ 0.99595005  0.08319534  0.03408864 -0.3208391 ]\n",
      " [ 0.0774894  -0.60201389 -0.7947167   0.29821189]\n",
      " [-0.04559489  0.79413965 -0.60602252  2.12256294]\n",
      " [ 0.          0.          0.          1.        ]]\n",
      "Inlier ratio: 0.185258100037\n",
      "initial: \n",
      "[[ 1.    0.08  0.03 -0.32]\n",
      " [ 0.08 -0.6  -0.79  0.3 ]\n",
      " [-0.05  0.79 -0.61  2.12]\n",
      " [ 0.    0.    0.    1.  ]]\n",
      "Apply point-to-point ICP\n",
      "registration::RegistrationResult with fitness=1.000000e+00, inlier_rmse=1.745305e-02, and correspondence_set size of 12191\n",
      "Access transformation to get result.\n",
      "Transformation is:\n",
      "[[ 0.99719378  0.06949996  0.02782645 -0.32489142]\n",
      " [ 0.06433556 -0.60549431 -0.79324494  0.28868075]\n",
      " [-0.03828174  0.79280916 -0.60826648  2.12885037]\n",
      " [ 0.          0.          0.          1.        ]]\n",
      "Total ICP Transformation is:\n",
      "[[ 0.99719378  0.06949996  0.02782645 -0.32489142]\n",
      " [ 0.06433556 -0.60549431 -0.79324494  0.28868075]\n",
      " [-0.03828174  0.79280916 -0.60826648  2.12885037]\n",
      " [ 0.          0.          0.          1.        ]]\n",
      "result: \n",
      "[[ 1.    0.07  0.03 -0.32]\n",
      " [ 0.06 -0.61 -0.79  0.29]\n",
      " [-0.04  0.79 -0.61  2.13]\n",
      " [ 0.    0.    0.    1.  ]]\n",
      "Inlier ratio: 0.131757882808\n",
      "Found 6DoF pose of chair_1\n",
      "Total 0 chair in the scene\n",
      "Add new chair in the scene\n",
      "name_mask is ['chair']\n",
      "request 0 -> response 0\n",
      "==== Received color, depth image from remote camera ====\n",
      "Maximun num of object for detection : 5\n",
      "===== Detected : chair, 5 object(s) =====\n",
      "\n",
      "'chair' is not in gscene. Use manual input for initial guess\n",
      "\n",
      "Apply point-to-point ICP\n",
      "registration::RegistrationResult with fitness=1.000000e+00, inlier_rmse=6.069617e-02, and correspondence_set size of 9020\n",
      "Access transformation to get result.\n",
      "Transformation is:\n",
      "[[ 0.95965494  0.27751398  0.04525897 -1.09698299]\n",
      " [ 0.21190252 -0.60798143 -0.76515088 -0.17851701]\n",
      " [-0.18482346  0.74387132 -0.6422583   2.92021182]\n",
      " [ 0.          0.          0.          1.        ]]\n",
      "Total ICP Transformation is:\n",
      "[[ 0.95965494  0.27751398  0.04525897 -1.09698299]\n",
      " [ 0.21190252 -0.60798143 -0.76515088 -0.17851701]\n",
      " [-0.18482346  0.74387132 -0.6422583   2.92021182]\n",
      " [ 0.          0.          0.          1.        ]]\n",
      "Inlier ratio: 0.132859364586\n",
      "initial: \n",
      "[[ 0.96  0.28  0.05 -1.1 ]\n",
      " [ 0.21 -0.61 -0.77 -0.18]\n",
      " [-0.18  0.74 -0.64  2.92]\n",
      " [ 0.    0.    0.    1.  ]]\n",
      "Apply point-to-point ICP\n",
      "registration::RegistrationResult with fitness=9.261620e-01, inlier_rmse=2.743854e-02, and correspondence_set size of 3487\n",
      "Access transformation to get result.\n",
      "Transformation is:\n",
      "[[ 0.84947059  0.52359635  0.06516576 -1.08783171]\n",
      " [ 0.3669671  -0.49753507 -0.78599871 -0.19548809]\n",
      " [-0.37912382  0.69159648 -0.61478404  2.9469372 ]\n",
      " [ 0.          0.          0.          1.        ]]\n",
      "Total ICP Transformation is:\n",
      "[[ 0.84947059  0.52359635  0.06516576 -1.08783171]\n",
      " [ 0.3669671  -0.49753507 -0.78599871 -0.19548809]\n",
      " [-0.37912382  0.69159648 -0.61478404  2.9469372 ]\n",
      " [ 0.          0.          0.          1.        ]]\n",
      "result: \n",
      "[[ 0.85  0.52  0.07 -1.09]\n",
      " [ 0.37 -0.5  -0.79 -0.2 ]\n",
      " [-0.38  0.69 -0.61  2.95]\n",
      " [ 0.    0.    0.    1.  ]]\n",
      "Inlier ratio: 0.118403547672\n",
      "Found 6DoF pose of chair_1\n",
      "\n",
      "'chair' is not in gscene. Use manual input for initial guess\n",
      "\n",
      "Apply point-to-point ICP\n",
      "registration::RegistrationResult with fitness=1.000000e+00, inlier_rmse=3.376239e-02, and correspondence_set size of 54674\n",
      "Access transformation to get result.\n",
      "Transformation is:\n",
      "[[ 0.99946455 -0.0294987   0.01415795 -0.79777383]\n",
      " [-0.00472706 -0.55833071 -0.82960499  0.54561936]\n",
      " [ 0.03237708  0.82909385 -0.55817119  1.74726073]\n",
      " [ 0.          0.          0.          1.        ]]\n",
      "Total ICP Transformation is:\n",
      "[[ 0.99946455 -0.0294987   0.01415795 -0.79777383]\n",
      " [-0.00472706 -0.55833071 -0.82960499  0.54561936]\n",
      " [ 0.03237708  0.82909385 -0.55817119  1.74726073]\n",
      " [ 0.          0.          0.          1.        ]]\n",
      "Inlier ratio: 0.154780858267\n",
      "initial: \n",
      "[[ 1.   -0.03  0.01 -0.8 ]\n",
      " [-0.   -0.56 -0.83  0.55]\n",
      " [ 0.03  0.83 -0.56  1.75]\n",
      " [ 0.    0.    0.    1.  ]]\n",
      "Apply point-to-point ICP\n",
      "registration::RegistrationResult with fitness=1.000000e+00, inlier_rmse=1.474308e-02, and correspondence_set size of 22601\n",
      "Access transformation to get result.\n",
      "Transformation is:\n",
      "[[ 0.99884999  0.04503402  0.01645078 -0.80606526]\n",
      " [ 0.03917313 -0.56873202 -0.82158951  0.53610737]\n",
      " [-0.02764339  0.82128911 -0.56984209  1.76251684]\n",
      " [ 0.          0.          0.          1.        ]]\n",
      "Total ICP Transformation is:\n",
      "[[ 0.99884999  0.04503402  0.01645078 -0.80606526]\n",
      " [ 0.03917313 -0.56873202 -0.82158951  0.53610737]\n",
      " [-0.02764339  0.82128911 -0.56984209  1.76251684]\n",
      " [ 0.          0.          0.          1.        ]]\n",
      "result: \n",
      "[[ 1.    0.05  0.02 -0.81]\n",
      " [ 0.04 -0.57 -0.82  0.54]\n",
      " [-0.03  0.82 -0.57  1.76]\n",
      " [ 0.    0.    0.    1.  ]]\n",
      "Inlier ratio: 0.115100413359\n",
      "Found 6DoF pose of chair_2\n",
      "\n",
      "'chair' is not in gscene. Use manual input for initial guess\n",
      "\n",
      "Apply point-to-point ICP\n",
      "registration::RegistrationResult with fitness=1.000000e+00, inlier_rmse=3.439229e-02, and correspondence_set size of 31440\n",
      "Access transformation to get result.\n",
      "Transformation is:\n",
      "[[ 0.82743199  0.55713072 -0.07043892  0.68375344]\n",
      " [ 0.29633834 -0.53973402 -0.78795352  0.33879156]\n",
      " [-0.47701141  0.6311042  -0.61169239  2.0270693 ]\n",
      " [ 0.          0.          0.          1.        ]]\n",
      "Total ICP Transformation is:\n",
      "[[ 0.82743199  0.55713072 -0.07043892  0.68375344]\n",
      " [ 0.29633834 -0.53973402 -0.78795352  0.33879156]\n",
      " [-0.47701141  0.6311042  -0.61169239  2.0270693 ]\n",
      " [ 0.          0.          0.          1.        ]]\n",
      "Inlier ratio: 0.147635414678\n",
      "initial: \n",
      "[[ 0.83  0.56 -0.07  0.68]\n",
      " [ 0.3  -0.54 -0.79  0.34]\n",
      " [-0.48  0.63 -0.61  2.03]\n",
      " [ 0.    0.    0.    1.  ]]\n",
      "Apply point-to-point ICP\n",
      "registration::RegistrationResult with fitness=9.987791e-01, inlier_rmse=2.018077e-02, and correspondence_set size of 12271\n",
      "Access transformation to get result.\n",
      "Transformation is:\n",
      "[[ 0.84553755  0.53014718 -0.06332619  0.67960152]\n",
      " [ 0.27798201 -0.5383829  -0.79553116  0.33336557]\n",
      " [-0.45584236  0.65504793 -0.60259434  2.03680496]\n",
      " [ 0.          0.          0.          1.        ]]\n",
      "Total ICP Transformation is:\n",
      "[[ 0.84553755  0.53014718 -0.06332619  0.67960152]\n",
      " [ 0.27798201 -0.5383829  -0.79553116  0.33336557]\n",
      " [-0.45584236  0.65504793 -0.60259434  2.03680496]\n",
      " [ 0.          0.          0.          1.        ]]\n",
      "result: \n",
      "[[ 0.85  0.53 -0.06  0.68]\n",
      " [ 0.28 -0.54 -0.8   0.33]\n",
      " [-0.46  0.66 -0.6   2.04]\n",
      " [ 0.    0.    0.    1.  ]]\n",
      "Inlier ratio: 0.108492366412\n",
      "Found 6DoF pose of chair_3\n",
      "\n",
      "'chair' is not in gscene. Use manual input for initial guess\n",
      "\n",
      "Apply point-to-point ICP\n",
      "registration::RegistrationResult with fitness=1.000000e+00, inlier_rmse=8.679787e-02, and correspondence_set size of 43129\n",
      "Access transformation to get result.\n",
      "Transformation is:\n",
      "[[ 0.91578414  0.39694358  0.06144271  1.50897547]\n",
      " [ 0.32996871 -0.65622845 -0.67859033 -0.68172121]\n",
      " [-0.22904162  0.64171643 -0.73194257  3.04589415]\n",
      " [ 0.          0.          0.          1.        ]]\n",
      "Total ICP Transformation is:\n",
      "[[ 0.91578414  0.39694358  0.06144271  1.50897547]\n",
      " [ 0.32996871 -0.65622845 -0.67859033 -0.68172121]\n",
      " [-0.22904162  0.64171643 -0.73194257  3.04589415]\n",
      " [ 0.          0.          0.          1.        ]]\n",
      "Inlier ratio: 0.0196396688849\n",
      "\n",
      "'chair' is not in gscene. Use manual input for initial guess\n",
      "\n",
      "Apply point-to-point ICP\n",
      "registration::RegistrationResult with fitness=1.000000e+00, inlier_rmse=2.659028e-02, and correspondence_set size of 22237\n",
      "Access transformation to get result.\n",
      "Transformation is:\n",
      "[[ 8.59517819e-01  5.11103690e-01  1.45866658e-03 -1.29877869e-01]\n",
      " [ 2.95012029e-01 -4.93784107e-01 -8.18012914e-01  7.47542097e-02]\n",
      " [-4.17369167e-01  7.03527000e-01 -5.75197976e-01  2.46633940e+00]\n",
      " [ 0.00000000e+00  0.00000000e+00  0.00000000e+00  1.00000000e+00]]\n",
      "Total ICP Transformation is:\n",
      "[[ 8.59517819e-01  5.11103690e-01  1.45866658e-03 -1.29877869e-01]\n",
      " [ 2.95012029e-01 -4.93784107e-01 -8.18012914e-01  7.47542097e-02]\n",
      " [-4.17369167e-01  7.03527000e-01 -5.75197976e-01  2.46633940e+00]\n",
      " [ 0.00000000e+00  0.00000000e+00  0.00000000e+00  1.00000000e+00]]\n",
      "Inlier ratio: 0.250067476383\n",
      "initial: \n",
      "[[ 0.86  0.51  0.   -0.13]\n",
      " [ 0.3  -0.49 -0.82  0.07]\n",
      " [-0.42  0.7  -0.58  2.47]\n",
      " [ 0.    0.    0.    1.  ]]\n",
      "Apply point-to-point ICP\n"
     ]
    },
    {
     "name": "stdout",
     "output_type": "stream",
     "text": [
      "registration::RegistrationResult with fitness=1.000000e+00, inlier_rmse=1.459836e-02, and correspondence_set size of 9445\n",
      "Access transformation to get result.\n",
      "Transformation is:\n",
      "[[ 0.83979194  0.54283678  0.00881597 -0.12884074]\n",
      " [ 0.31589929 -0.4753745  -0.82111308  0.07148833]\n",
      " [-0.4415395   0.69234911 -0.57069743  2.47327862]\n",
      " [ 0.          0.          0.          1.        ]]\n",
      "Total ICP Transformation is:\n",
      "[[ 0.83979194  0.54283678  0.00881597 -0.12884074]\n",
      " [ 0.31589929 -0.4753745  -0.82111308  0.07148833]\n",
      " [-0.4415395   0.69234911 -0.57069743  2.47327862]\n",
      " [ 0.          0.          0.          1.        ]]\n",
      "result: \n",
      "[[ 0.84  0.54  0.01 -0.13]\n",
      " [ 0.32 -0.48 -0.82  0.07]\n",
      " [-0.44  0.69 -0.57  2.47]\n",
      " [ 0.    0.    0.    1.  ]]\n",
      "Inlier ratio: 0.179475648694\n",
      "Found 6DoF pose of chair_4\n",
      "Total 1 chair in the scene\n",
      "Update existing chair in the scene\n",
      "Add new chair in the scene\n",
      "Add new chair in the scene\n",
      "Add new chair in the scene\n",
      "name_mask is ['chair']\n",
      "request 0 -> response 0\n",
      "==== Received color, depth image from remote camera ====\n",
      "Maximun num of object for detection : 5\n",
      "===== Detected : chair, 4 object(s) =====\n",
      "\n",
      "'chair' is not in gscene. Use manual input for initial guess\n",
      "\n",
      "Apply point-to-point ICP\n",
      "registration::RegistrationResult with fitness=1.000000e+00, inlier_rmse=4.736633e-02, and correspondence_set size of 8895\n",
      "Access transformation to get result.\n",
      "Transformation is:\n",
      "[[ 0.74756549 -0.66406928 -0.01256202  0.47289681]\n",
      " [-0.42840182 -0.4676408  -0.77316488 -0.28681205]\n",
      " [ 0.50756055  0.58337298 -0.63408061  3.0535182 ]\n",
      " [ 0.          0.          0.          1.        ]]\n",
      "Total ICP Transformation is:\n",
      "[[ 0.74756549 -0.66406928 -0.01256202  0.47289681]\n",
      " [-0.42840182 -0.4676408  -0.77316488 -0.28681205]\n",
      " [ 0.50756055  0.58337298 -0.63408061  3.0535182 ]\n",
      " [ 0.          0.          0.          1.        ]]\n",
      "Inlier ratio: 0.160837577816\n",
      "initial: \n",
      "[[ 0.75 -0.66 -0.01  0.47]\n",
      " [-0.43 -0.47 -0.77 -0.29]\n",
      " [ 0.51  0.58 -0.63  3.05]\n",
      " [ 0.    0.    0.    1.  ]]\n",
      "Apply point-to-point ICP\n",
      "registration::RegistrationResult with fitness=9.731688e-01, inlier_rmse=2.559781e-02, and correspondence_set size of 3627\n",
      "Access transformation to get result.\n",
      "Transformation is:\n",
      "[[ 0.83188575 -0.55304946 -0.0458517   0.49656572]\n",
      " [-0.38109137 -0.50925548 -0.77163994 -0.29392115]\n",
      " [ 0.40340484  0.65938996 -0.63440475  3.07398923]\n",
      " [ 0.          0.          0.          1.        ]]\n",
      "Total ICP Transformation is:\n",
      "[[ 0.83188575 -0.55304946 -0.0458517   0.49656572]\n",
      " [-0.38109137 -0.50925548 -0.77163994 -0.29392115]\n",
      " [ 0.40340484  0.65938996 -0.63440475  3.07398923]\n",
      " [ 0.          0.          0.          1.        ]]\n",
      "result: \n",
      "[[ 0.83 -0.55 -0.05  0.5 ]\n",
      " [-0.38 -0.51 -0.77 -0.29]\n",
      " [ 0.4   0.66 -0.63  3.07]\n",
      " [ 0.    0.    0.    1.  ]]\n",
      "Inlier ratio: 0.138729623384\n",
      "Found 6DoF pose of chair_1\n",
      "\n",
      "'chair' is not in gscene. Use manual input for initial guess\n",
      "\n",
      "Apply point-to-point ICP\n",
      "registration::RegistrationResult with fitness=1.000000e+00, inlier_rmse=3.682842e-02, and correspondence_set size of 44351\n",
      "Access transformation to get result.\n",
      "Transformation is:\n",
      "[[ 0.82114833  0.57068499 -0.00583517  0.05115309]\n",
      " [ 0.305081   -0.44757053 -0.8405987   0.42934281]\n",
      " [-0.48232873  0.68847601 -0.54162695  1.90909595]\n",
      " [ 0.          0.          0.          1.        ]]\n",
      "Total ICP Transformation is:\n",
      "[[ 0.82114833  0.57068499 -0.00583517  0.05115309]\n",
      " [ 0.305081   -0.44757053 -0.8405987   0.42934281]\n",
      " [-0.48232873  0.68847601 -0.54162695  1.90909595]\n",
      " [ 0.          0.          0.          1.        ]]\n",
      "Inlier ratio: 0.207357784093\n",
      "initial: \n",
      "[[ 0.82  0.57 -0.01  0.05]\n",
      " [ 0.31 -0.45 -0.84  0.43]\n",
      " [-0.48  0.69 -0.54  1.91]\n",
      " [ 0.    0.    0.    1.  ]]\n",
      "Apply point-to-point ICP\n",
      "registration::RegistrationResult with fitness=1.000000e+00, inlier_rmse=1.359910e-02, and correspondence_set size of 18475\n",
      "Access transformation to get result.\n",
      "Transformation is:\n",
      "[[ 0.83857773  0.54447161 -0.01838632  0.04966491]\n",
      " [ 0.29595216 -0.48363226 -0.82371847  0.42104887]\n",
      " [-0.45738355  0.68531049 -0.56670079  1.92199285]\n",
      " [ 0.          0.          0.          1.        ]]\n",
      "Total ICP Transformation is:\n",
      "[[ 0.83857773  0.54447161 -0.01838632  0.04966491]\n",
      " [ 0.29595216 -0.48363226 -0.82371847  0.42104887]\n",
      " [-0.45738355  0.68531049 -0.56670079  1.92199285]\n",
      " [ 0.          0.          0.          1.        ]]\n",
      "result: \n",
      "[[ 0.84  0.54 -0.02  0.05]\n",
      " [ 0.3  -0.48 -0.82  0.42]\n",
      " [-0.46  0.69 -0.57  1.92]\n",
      " [ 0.    0.    0.    1.  ]]\n",
      "Inlier ratio: 0.147956077653\n",
      "Found 6DoF pose of chair_2\n",
      "\n",
      "'chair' is not in gscene. Use manual input for initial guess\n",
      "\n",
      "Apply point-to-point ICP\n",
      "registration::RegistrationResult with fitness=1.000000e+00, inlier_rmse=2.536499e-02, and correspondence_set size of 27365\n",
      "Access transformation to get result.\n",
      "Transformation is:\n",
      "[[ 0.86994658 -0.49000403 -0.05557864  1.05391668]\n",
      " [-0.32644571 -0.48773163 -0.80966105  0.19659521]\n",
      " [ 0.36962973  0.72250527 -0.58426018  2.25094701]\n",
      " [ 0.          0.          0.          1.        ]]\n",
      "Total ICP Transformation is:\n",
      "[[ 0.86994658 -0.49000403 -0.05557864  1.05391668]\n",
      " [-0.32644571 -0.48773163 -0.80966105  0.19659521]\n",
      " [ 0.36962973  0.72250527 -0.58426018  2.25094701]\n",
      " [ 0.          0.          0.          1.        ]]\n",
      "Inlier ratio: 0.225548245614\n",
      "initial: \n",
      "[[ 0.87 -0.49 -0.06  1.05]\n",
      " [-0.33 -0.49 -0.81  0.2 ]\n",
      " [ 0.37  0.72 -0.58  2.25]\n",
      " [ 0.    0.    0.    1.  ]]\n",
      "Apply point-to-point ICP\n",
      "registration::RegistrationResult with fitness=1.000000e+00, inlier_rmse=1.475389e-02, and correspondence_set size of 11649\n",
      "Access transformation to get result.\n",
      "Transformation is:\n",
      "[[ 0.86282416 -0.50145803 -0.06383035  1.05688987]\n",
      " [-0.33961816 -0.48151213 -0.80796383  0.19589556]\n",
      " [ 0.37442487  0.71880865 -0.58576455  2.25820003]\n",
      " [ 0.          0.          0.          1.        ]]\n",
      "Total ICP Transformation is:\n",
      "[[ 0.86282416 -0.50145803 -0.06383035  1.05688987]\n",
      " [-0.33961816 -0.48151213 -0.80796383  0.19589556]\n",
      " [ 0.37442487  0.71880865 -0.58576455  2.25820003]\n",
      " [ 0.          0.          0.          1.        ]]\n",
      "result: \n",
      "[[ 0.86 -0.5  -0.06  1.06]\n",
      " [-0.34 -0.48 -0.81  0.2 ]\n",
      " [ 0.37  0.72 -0.59  2.26]\n",
      " [ 0.    0.    0.    1.  ]]\n",
      "Inlier ratio: 0.151470856934\n",
      "Found 6DoF pose of chair_3\n",
      "\n",
      "'chair' is not in gscene. Use manual input for initial guess\n",
      "\n",
      "Apply point-to-point ICP\n",
      "registration::RegistrationResult with fitness=1.000000e+00, inlier_rmse=2.811814e-02, and correspondence_set size of 21352\n",
      "Access transformation to get result.\n",
      "Transformation is:\n",
      "[[ 7.01833892e-01 -7.12340046e-01 -9.10891492e-04 -3.63081462e-01]\n",
      " [-4.25119072e-01 -4.17822332e-01 -8.02931034e-01  4.57911784e-02]\n",
      " [ 5.71579358e-01  5.63911450e-01 -5.96071213e-01  2.52498390e+00]\n",
      " [ 0.00000000e+00  0.00000000e+00  0.00000000e+00  1.00000000e+00]]\n",
      "Total ICP Transformation is:\n",
      "[[ 7.01833892e-01 -7.12340046e-01 -9.10891492e-04 -3.63081462e-01]\n",
      " [-4.25119072e-01 -4.17822332e-01 -8.02931034e-01  4.57911784e-02]\n",
      " [ 5.71579358e-01  5.63911450e-01 -5.96071213e-01  2.52498390e+00]\n",
      " [ 0.00000000e+00  0.00000000e+00  0.00000000e+00  1.00000000e+00]]\n",
      "Inlier ratio: 0.246978356601\n",
      "initial: \n",
      "[[ 0.7  -0.71 -0.   -0.36]\n",
      " [-0.43 -0.42 -0.8   0.05]\n",
      " [ 0.57  0.56 -0.6   2.52]\n",
      " [ 0.    0.    0.    1.  ]]\n",
      "Apply point-to-point ICP\n",
      "registration::RegistrationResult with fitness=1.000000e+00, inlier_rmse=1.576852e-02, and correspondence_set size of 9022\n",
      "Access transformation to get result.\n",
      "Transformation is:\n",
      "[[ 0.68726332 -0.72640278 -0.0028484  -0.36512254]\n",
      " [-0.4328459  -0.40636829 -0.80467957  0.0458433 ]\n",
      " [ 0.583364    0.55425967 -0.59370249  2.53140003]\n",
      " [ 0.          0.          0.          1.        ]]\n",
      "Total ICP Transformation is:\n",
      "[[ 0.68726332 -0.72640278 -0.0028484  -0.36512254]\n",
      " [-0.4328459  -0.40636829 -0.80467957  0.0458433 ]\n",
      " [ 0.583364    0.55425967 -0.59370249  2.53140003]\n",
      " [ 0.          0.          0.          1.        ]]\n",
      "result: \n",
      "[[ 0.69 -0.73 -0.   -0.37]\n",
      " [-0.43 -0.41 -0.8   0.05]\n",
      " [ 0.58  0.55 -0.59  2.53]\n",
      " [ 0.    0.    0.    1.  ]]\n",
      "Inlier ratio: 0.17141251405\n",
      "Found 6DoF pose of chair_4\n",
      "Total 4 chair in the scene\n",
      "Update existing chair in the scene\n",
      "Update existing chair in the scene\n",
      "Update existing chair in the scene\n",
      "Add new chair in the scene\n"
     ]
    }
   ],
   "source": [
    "panda_arm1 = crob.robot_dict[\"panda_arm1\"]\n",
    "img_list = []\n",
    "for theta0 in [-30, 0, 30]:\n",
    "    VIEW_LOC = crob.get_real_robot_pose()[:6]\n",
    "#     VIEW_ARM = HOME_POSE_DEFAULT[6:] + np.deg2rad([theta0,-45,0,-70,0,70,-45])\n",
    "    VIEW_ARM = HOME_POSE_DEFAULT[6:] + np.deg2rad([theta0,-55,0,-65,0,45,-45])\n",
    "    VIEW_CHAIR = list(VIEW_LOC) + list(VIEW_ARM)\n",
    "    \n",
    "    crob.joint_move_make_sure(np.array(VIEW_CHAIR), ref_speed=np.pi/8)\n",
    "    \n",
    "    # for chair\n",
    "    micp.set_ICP_thres(thres_ICP=0.3, thres_front_ICP=0.08)\n",
    "    micp.set_pcd_ratio(ratio=1)\n",
    "    micp.set_inlier_ratio(ratio=0.05)\n",
    "    micp.set_multiobject_num(num = 5)\n",
    "    micp.set_outlier_removal(nb_points=18, radius=0.05)\n",
    "    # micp.set_merge_mask(merge=True)\n",
    "    pose_dict = micp.detect(name_mask=[\"chair\"], visualize=True)\n",
    "    \n",
    "    # add or update suitcase\n",
    "    add_update_object(gscene, crob, \"chair\", pose_dict, separate_dist=0.28, height = 0)\n",
    "    \n",
    "    color, depth = micp.last_input[:2]\n",
    "    Qcur = crob.get_real_robot_pose()\n",
    "    \n",
    "    img_list.append((color, depth))\n",
    "    \n",
    "    # save data\n",
    "    if SAVE_DATA:\n",
    "        cam_pose = viewpoint.get_tf(Qcur)\n",
    "        dcam.ready_saving(*micp.get_camera_config())\n",
    "        dcam.save_scene(color, depth, cam_pose)"
   ]
  },
  {
   "cell_type": "code",
   "execution_count": 22,
   "metadata": {},
   "outputs": [],
   "source": [
    "gcol_names = sorted([gname for gname in gscene.NAME_DICT.keys() \n",
    "                 if \"chair\" in gname and \"col\" in gname])\n",
    "chair_names = []\n",
    "\n",
    "for gcol_name in gcol_names:\n",
    "    chair_col_g = gscene.NAME_DICT[gcol_name]\n",
    "    chair_g = gscene.NAME_DICT[chair_col_g.parent]\n",
    "    chair_dim = chair_col_g.dims\n",
    "    chair_name = chair_g.name\n",
    "    chair_names.append(chair_name)\n",
    "    push_point_list = []\n",
    "    for i in range(4):\n",
    "        R = Rot_axis_series([3, 2], [np.pi/2*i, np.pi/2])\n",
    "        point = np.round(np.multiply(chair_dim, -R[:,2])/2, 4)\n",
    "        point[2] = MOBILE_PUSH_HEIGHT\n",
    "        ap_name = \"side{}\".format(i)\n",
    "        push_point_list.append(FramePoint(ap_name, chair_g, point=point, rpy=Rot2rpy(R), key=MOBILE_PUSH_KEY))\n",
    "\n",
    "    slide_point = SlidePoint(\"bottom_p\", chair_g, point=(0,0,-CLEARANCE), rpy=(0,0,0), \n",
    "                                               binded_on=floor_b, dist_push_min=0.1, dist_push_max=1.0, key=MOBILE_SLIDE_KEY)\n",
    "\n",
    "    chair_s = pscene.create_subject(oname=chair_name, gname=chair_name, _type=PushObject, \n",
    "                                  push_point_list=push_point_list, slide_point=slide_point)"
   ]
  },
  {
   "cell_type": "code",
   "execution_count": null,
   "metadata": {},
   "outputs": [],
   "source": []
  },
  {
   "cell_type": "markdown",
   "metadata": {},
   "source": [
    "## Add  ref waypoint"
   ]
  },
  {
   "cell_type": "code",
   "execution_count": 23,
   "metadata": {},
   "outputs": [],
   "source": [
    "table_body = gscene.NAME_DICT[TABLE_NAME]\n",
    "\n",
    "WP_NAME = \"wp_0\"\n",
    "WP_DIM = (0.1,0.1,0.01)\n",
    "WP_LOC = (0, -0.2, table_body.dims[2]/2)\n",
    "WP_RPY = (0,0,np.pi/2)\n",
    "\n",
    "wp_g = gscene.create_safe(GEOTYPE.BOX, WP_NAME, link_name=\"base_link\", \n",
    "                          dims=WP_DIM,\n",
    "                          center=(WP_LOC[0], WP_LOC[1], WP_LOC[2]), rpy=WP_RPY,\n",
    "                          fixed=True, collision=True, color=(0.0,0.0,0.8,1), parent=TABLE_NAME)\n",
    "\n",
    "waypoint_s = pscene.create_subject(oname=\"waypoints\", gname=TABLE_NAME, _type=WaypointTask,\n",
    "                                 action_points_dict={\n",
    "                                     wp_g.name: WayFrame(\n",
    "                                         wp_g.name, wp_g, [0, 0, wp_g.dims[2] / 2], [0, 0, 0])\n",
    "                                 })"
   ]
  },
  {
   "cell_type": "code",
   "execution_count": null,
   "metadata": {},
   "outputs": [],
   "source": []
  },
  {
   "cell_type": "markdown",
   "metadata": {},
   "source": [
    "### prepare planner"
   ]
  },
  {
   "cell_type": "code",
   "execution_count": 24,
   "metadata": {},
   "outputs": [
    {
     "name": "stdout",
     "output_type": "stream",
     "text": [
      "\u001b[91m[WARN] reach data is not ready for pmb. Ignoring this robot...\u001b[0m\n",
      "Dash is running on http://0.0.0.0:8050/\n",
      "\n",
      " * Serving Flask app \"pkg.ui.dash_launcher\" (lazy loading)\n"
     ]
    }
   ],
   "source": [
    "from pkg.planning.filtering.grasp_filter import GraspChecker\n",
    "from pkg.planning.filtering.reach_filter import ReachChecker\n",
    "gcheck = GraspChecker(pscene)\n",
    "rcheck = ReachChecker(pscene)\n",
    "\n",
    "from pkg.planning.motion.moveit.moveit_planner import MoveitPlanner\n",
    "mplan = MoveitPlanner(pscene, enable_dual=False)\n",
    "mplan.update_gscene()\n",
    "mplan.incremental_constraint_motion = True\n",
    "\n",
    "from pkg.planning.incremental_search import *\n",
    "# joint motion is not allowed when pusing object with holder\n",
    "idc_push = np.where([stype == PushObject for stype in pscene.subject_type_list])[0]\n",
    "inc = IncrementalSearch(pscene, gcheck, rcheck, \n",
    "                        explicit_rule= lambda pscene, node, leaf: not any([node[idx]==leaf[idx] and \"push\" in node[idx] for idx in idc_push]))\n",
    "inc.prepare()\n",
    "inc.set_motion_planner(mplan)\n",
    "\n",
    "cresv = CollisionResolver(inc, gcheck)\n",
    "rresv = ReachResolver(inc, rcheck, mplan, floor=floor_b.geometry)\n",
    "mresv = MotionResolver(inc, mplan)\n",
    "inc.resolver_stack = [cresv, rresv, mresv]\n",
    "\n",
    "from pkg.ui.ui_broker import *\n",
    "# start UI\n",
    "ui_broker = UIBroker.instance()\n",
    "ui_broker.initialize(inc, s_builder)\n",
    "ui_broker.start_server()\n",
    "\n",
    "ui_broker.set_tables()"
   ]
  },
  {
   "cell_type": "code",
   "execution_count": null,
   "metadata": {},
   "outputs": [],
   "source": []
  },
  {
   "cell_type": "markdown",
   "metadata": {},
   "source": [
    "### Plan"
   ]
  },
  {
   "cell_type": "code",
   "execution_count": 25,
   "metadata": {},
   "outputs": [
    {
     "name": "stdout",
     "output_type": "stream",
     "text": [
      " * Environment: production\n",
      "   WARNING: This is a development server. Do not use it in a production deployment.\n",
      "   Use a production WSGI server instead.\n",
      " * Debug mode: off\n",
      "['chair_0', 'chair_1', 'chair_2', 'chair_3', 'chair_4', 'waypoints']\n",
      "('floor_ws', 'floor_ws', 'floor_ws', 'floor_ws', 'floor_ws', 0)\n"
     ]
    }
   ],
   "source": [
    "gscene.show_pose(VIEW_TABLE)\n",
    "chain_list = \\\n",
    "    [BindingChain(chair_name, \"bottom_p\", \"floor_ws\", \"floor_ws\") for chair_name in chair_names] \\\n",
    "    + [BindingChain(\"waypoints\", None, None, None)]\n",
    "# chain_list = \\\n",
    "#     [BindingChain(bag_name, \"bottom_p\", \"floor_ws\", \"floor_ws\") for chair_name in chair_names] \\\n",
    "#     + [BindingChain(clock_name, \"bottom_p\", \"table\", \"table\") for clock_name in clock_names] \\\n",
    "#     + [BindingChain(\"waypoints\", None, None, None)]\n",
    "initial_state = pscene.initialize_state(VIEW_TABLE, chain_list=chain_list)\n",
    "gscene.update_markers_all()\n",
    "print(pscene.subject_name_list)\n",
    "print(initial_state.node)"
   ]
  },
  {
   "cell_type": "code",
   "execution_count": null,
   "metadata": {},
   "outputs": [],
   "source": []
  },
  {
   "cell_type": "code",
   "execution_count": 26,
   "metadata": {},
   "outputs": [],
   "source": [
    "crob.joint_move_make_sure(initial_state.Q)"
   ]
  },
  {
   "cell_type": "markdown",
   "metadata": {},
   "source": [
    "## DEV planner"
   ]
  },
  {
   "cell_type": "code",
   "execution_count": 27,
   "metadata": {},
   "outputs": [],
   "source": [
    "from nonholonomic_planner import *\n",
    "\n",
    "nhp = NonHolonomicPlanner(mplan, MOBILE_NAME)\n",
    "def custom_planner(group_name, tool_link, goal_pose, target_link, from_Q,\n",
    "                   timeout=1, **kwargs):\n",
    "    if group_name == MOBILE_NAME:\n",
    "        Tbm = np.matmul(gscene.get_tf(target_link, from_Q), \n",
    "                        T_xyzquat((goal_pose[:3], goal_pose[3:])))\n",
    "        to_Q = Tbm[:2, 3].tolist()+[Rot2axis(Tbm[:3,:3], 3)]\n",
    "        traj = nhp.search(from_Q, to_Q, timeout=timeout, update_gscene=False)\n",
    "        return traj, traj is not None\n",
    "    else:\n",
    "        return mplan.planner.plan_py(group_name, tool_link, goal_pose, target_link, from_Q,\n",
    "                       timeout=1, **kwargs)\n",
    "    \n",
    "def custom_planner_joint(group_name, goal_state, Q_init, timeout=1, **kwargs):\n",
    "    if group_name == MOBILE_NAME:\n",
    "        traj = nhp.search(Q_init, goal_state[:3], timeout=timeout, update_gscene=False)\n",
    "        return traj, traj is not None\n",
    "    else:\n",
    "        return mplan.planner.plan_joint_motion_py(group_name, goal_state, Q_init, timeout=1, **kwargs)\n",
    "    \n",
    "mplan.custom_planner = custom_planner\n",
    "mplan.custom_planner_joint = custom_planner_joint"
   ]
  },
  {
   "cell_type": "code",
   "execution_count": null,
   "metadata": {},
   "outputs": [],
   "source": []
  },
  {
   "cell_type": "code",
   "execution_count": 28,
   "metadata": {},
   "outputs": [],
   "source": [
    "crob.home_pose = initial_state.Q\n",
    "crob.home_dict = list2dict(crob.home_pose, crob.joint_names)"
   ]
  },
  {
   "cell_type": "code",
   "execution_count": 29,
   "metadata": {
    "scrolled": true
   },
   "outputs": [
    {
     "name": "stdout",
     "output_type": "stream",
     "text": [
      "Use 10/20 agents\n",
      "\u001b[91m[WARN] Transition Queue Empty\u001b[0m\n",
      "\u001b[91m[WARN] Transition Queue Empty\u001b[0m\n",
      "\u001b[91m[WARN] Transition Queue Empty\u001b[0m\n",
      "\u001b[91m[WARN] Transition Queue Empty\u001b[0m\n",
      "\u001b[91m[WARN] Transition Queue Empty\u001b[0m\n",
      "\u001b[91m[WARN] Transition Queue Empty\u001b[0m\n",
      "=========================================================================================================\n",
      "======================= terminated 9: required answers acquired  (33.5/200.0) ===============================\n",
      "=========================================================================================================\n",
      "=========================================================================================================\n",
      "======================= terminated 4: Stop called from other agent  (33.5/200.0) ===============================\n",
      "=========================================================================================================\n",
      "=========================================================================================================\n",
      "======================= terminated 3: Stop called from other agent  (33.6/200.0) ===============================\n",
      "=========================================================================================================\n",
      "=========================================================================================================\n",
      "======================= terminated 7: required answers acquired  (33.7/200.0) ===============================\n",
      "=========================================================================================================\n",
      "=========================================================================================================\n",
      "======================= terminated 1: Stop called from other agent  (33.9/200.0) ===============================\n",
      "=========================================================================================================\n",
      "=========================================================================================================\n",
      "======================= terminated 0: Stop called from other agent  (34.2/200.0) ===============================\n",
      "=========================================================================================================\n",
      "=========================================================================================================\n",
      "======================= terminated 6: Stop called from other agent  (34.4/200.0) ===============================\n",
      "=========================================================================================================\n",
      "=========================================================================================================\n",
      "======================= terminated 5: Stop called from other agent  (34.4/200.0) ===============================\n",
      "=========================================================================================================\n",
      "=========================================================================================================\n",
      "======================= terminated 8: Stop called from other agent  (34.6/200.0) ===============================\n",
      "=========================================================================================================\n",
      "\u001b[91m[ERROR] Non-joined subprocesses: [2]\u001b[0m\n",
      "========================== FINISHED (34.7 / 200.0 s) ==============================]\n"
     ]
    }
   ],
   "source": [
    "inc.prepare()\n",
    "from_state = initial_state.copy(pscene)\n",
    "goal_nodes = [initial_state.node[:-1]+(1,)]\n",
    "\n",
    "inc.search(from_state, goal_nodes, max_solution_count=1,\n",
    "           verbose=False, display=False, dt_vis=0.001, \n",
    "           timeout=1.0, timeout_loop=200, \n",
    "           multiprocess=True, add_homing=False)"
   ]
  },
  {
   "cell_type": "code",
   "execution_count": null,
   "metadata": {},
   "outputs": [],
   "source": []
  },
  {
   "cell_type": "markdown",
   "metadata": {},
   "source": [
    "### Get snode schedule"
   ]
  },
  {
   "cell_type": "code",
   "execution_count": 30,
   "metadata": {},
   "outputs": [],
   "source": [
    "snode_schedule = inc.get_best_schedule(at_home=False)\n",
    "snode_schedule += inc.add_return_motion(snode_schedule[-1], initial_state=initial_state)"
   ]
  },
  {
   "cell_type": "markdown",
   "metadata": {},
   "source": [
    "### play schedule"
   ]
  },
  {
   "cell_type": "code",
   "execution_count": 31,
   "metadata": {},
   "outputs": [],
   "source": [
    "snode_schedule_move = []\n",
    "for snode in snode_schedule:\n",
    "    if snode.state.node[-1] != 0:\n",
    "        break\n",
    "    snode_schedule_move.append(snode)"
   ]
  },
  {
   "cell_type": "code",
   "execution_count": 32,
   "metadata": {},
   "outputs": [],
   "source": [
    "pscene.set_object_state(initial_state)\n",
    "gscene.show_pose(initial_state.Q)"
   ]
  },
  {
   "cell_type": "code",
   "execution_count": 33,
   "metadata": {},
   "outputs": [
    {
     "data": {
      "text/plain": [
       "10"
      ]
     },
     "execution_count": 33,
     "metadata": {},
     "output_type": "execute_result"
    }
   ],
   "source": [
    "len(snode_schedule_move)"
   ]
  },
  {
   "cell_type": "code",
   "execution_count": 34,
   "metadata": {
    "scrolled": true
   },
   "outputs": [
    {
     "name": "stdout",
     "output_type": "stream",
     "text": [
      "('floor_ws', 'floor_ws', 'floor_ws', 'floor_ws', 'floor_ws', 0)->('floor_ws', 'floor_ws', 'mpush', 'floor_ws', 'floor_ws', 0)\n",
      "('floor_ws', 'floor_ws', 'mpush', 'floor_ws', 'floor_ws', 0)->('floor_ws', 'floor_ws', 'floor_ws', 'floor_ws', 'floor_ws', 0)\n",
      "('floor_ws', 'floor_ws', 'floor_ws', 'floor_ws', 'floor_ws', 0)->('mpush', 'floor_ws', 'floor_ws', 'floor_ws', 'floor_ws', 0)\n",
      "('mpush', 'floor_ws', 'floor_ws', 'floor_ws', 'floor_ws', 0)->('floor_ws', 'floor_ws', 'floor_ws', 'floor_ws', 'floor_ws', 0)\n",
      "('floor_ws', 'floor_ws', 'floor_ws', 'floor_ws', 'floor_ws', 0)->('mpush', 'floor_ws', 'floor_ws', 'floor_ws', 'floor_ws', 0)\n",
      "('mpush', 'floor_ws', 'floor_ws', 'floor_ws', 'floor_ws', 0)->('floor_ws', 'floor_ws', 'floor_ws', 'floor_ws', 'floor_ws', 0)\n",
      "('floor_ws', 'floor_ws', 'floor_ws', 'floor_ws', 'floor_ws', 0)->('floor_ws', 'floor_ws', 'floor_ws', 'mpush', 'floor_ws', 0)\n",
      "('floor_ws', 'floor_ws', 'floor_ws', 'mpush', 'floor_ws', 0)->('floor_ws', 'floor_ws', 'floor_ws', 'floor_ws', 'floor_ws', 0)\n",
      "('floor_ws', 'floor_ws', 'floor_ws', 'floor_ws', 'floor_ws', 0)->('floor_ws', 'floor_ws', 'floor_ws', 'floor_ws', 'floor_ws', 0)\n"
     ]
    }
   ],
   "source": [
    "inc.play_schedule(snode_schedule_move, period=0.002)\n",
    "# inc.play_schedule(snode_schedule[2:], period=0.01)\n",
    "pscene.set_object_state(snode_schedule_move[-1].state)"
   ]
  },
  {
   "cell_type": "code",
   "execution_count": 35,
   "metadata": {},
   "outputs": [],
   "source": [
    "vel_lims, acc_lims, dt_step = 0.5, 0.5, 0.02\n",
    "snode_schedule_safe = [snode_schedule_move[0].copy(pscene)]\n",
    "for snode, snode_pre in zip(snode_schedule_move[1:], snode_schedule_move[:-1]):\n",
    "    snames, _ = pscene.get_changing_subjects(snode.state, snode_pre.state)\n",
    "    if len(snames) > 1:\n",
    "        raise(RuntimeError(\"More than 1 subject change - {}\".format(snames)))\n",
    "    if len(snames) == 1:\n",
    "        subject = pscene.subject_dict[snames[0]]\n",
    "    else:\n",
    "        subject = None\n",
    "    if isinstance(subject, PushObject):\n",
    "        snode_cp = snode.copy(pscene)\n",
    "        snode_schedule_safe.append(snode_cp)\n",
    "    else:\n",
    "        snode_cp = snode.copy(pscene)\n",
    "        traj_simp = simplify_traj(snode.traj)\n",
    "        snode_cp.set_traj(\n",
    "            calc_safe_trajectory(\n",
    "                dt_step, traj_simp, vel_lims=vel_lims, acc_lims=acc_lims)[1])\n",
    "        snode_schedule_safe.append(snode_cp)"
   ]
  },
  {
   "cell_type": "code",
   "execution_count": 36,
   "metadata": {
    "scrolled": true
   },
   "outputs": [
    {
     "name": "stdout",
     "output_type": "stream",
     "text": [
      "No motion for connected robot - playing motion in RVIZ\n",
      "\u001b[91m[WARN] ROBOT MOTION TIMEOUT\u001b[0m\n"
     ]
    },
    {
     "data": {
      "text/plain": [
       "True"
      ]
     },
     "execution_count": 36,
     "metadata": {},
     "output_type": "execute_result"
    }
   ],
   "source": [
    "inc.execute_schedule(snode_schedule_safe, one_by_one=True)"
   ]
  },
  {
   "cell_type": "code",
   "execution_count": null,
   "metadata": {},
   "outputs": [],
   "source": []
  },
  {
   "cell_type": "markdown",
   "metadata": {},
   "source": [
    "## Remove default waypoint"
   ]
  },
  {
   "cell_type": "code",
   "execution_count": 39,
   "metadata": {},
   "outputs": [
    {
     "name": "stdout",
     "output_type": "stream",
     "text": [
      "'WayFrame' object has no attribute 'children'\n"
     ]
    }
   ],
   "source": [
    "try:\n",
    "    pscene.remove_subject(waypoint_s)\n",
    "    for wname, wp in waypoint_s.action_points_dict.items():\n",
    "        gscene.remove(wp)\n",
    "except Exception as e:\n",
    "    print(e)"
   ]
  },
  {
   "cell_type": "code",
   "execution_count": null,
   "metadata": {},
   "outputs": [],
   "source": []
  },
  {
   "cell_type": "markdown",
   "metadata": {},
   "source": [
    "## Clock and Markers"
   ]
  },
  {
   "cell_type": "code",
   "execution_count": 40,
   "metadata": {},
   "outputs": [],
   "source": [
    "from pkg.detector.aruco.marker_config import *\n",
    "aruco_map = get_aruco_map()\n",
    "cameraMatrix, distCoeffs, _ = micp.get_camera_config()"
   ]
  },
  {
   "cell_type": "code",
   "execution_count": 41,
   "metadata": {},
   "outputs": [],
   "source": [
    "for i in range(5):\n",
    "    try:\n",
    "        gscene.remove(gscene.NAME_DICT[\"clock_{}\".format(i)])\n",
    "    except:\n",
    "        pass"
   ]
  },
  {
   "cell_type": "code",
   "execution_count": 42,
   "metadata": {},
   "outputs": [],
   "source": [
    "\n",
    "# VIEW_REF_POSE = [3.5,0,0,0,0,0]+list(crob.home_pose[6:]+[0,0,0,0,0,np.pi/4,-np.pi/4])\n",
    "# gscene.show_pose(VIEW_REF_POSE)"
   ]
  },
  {
   "cell_type": "markdown",
   "metadata": {},
   "source": [
    "## get initial pose toward table"
   ]
  },
  {
   "cell_type": "code",
   "execution_count": 43,
   "metadata": {},
   "outputs": [],
   "source": [
    "pscene.set_object_state(snode_schedule_move[-1].state)"
   ]
  },
  {
   "cell_type": "code",
   "execution_count": 44,
   "metadata": {},
   "outputs": [],
   "source": [
    "Qcur = crob.get_real_robot_pose()\n",
    "Tbt = table_body.get_tf(Qcur)\n",
    "Tbr = gscene.get_tf(ROBOT_BASE, Qcur)\n",
    "Trt = np.matmul(np.linalg.inv(Tbr), Tbt)\n",
    "Qcur[6] = np.arctan2(Trt[1,3], Trt[0,3])\n",
    "gscene.show_pose(Qcur)"
   ]
  },
  {
   "cell_type": "markdown",
   "metadata": {},
   "source": [
    "## get look motions"
   ]
  },
  {
   "cell_type": "code",
   "execution_count": 45,
   "metadata": {},
   "outputs": [],
   "source": [
    "viewpoint = gscene.NAME_DICT[\"viewpoint\"]\n",
    "\n",
    "Qview_init =np.copy(Qcur)\n",
    "Qview_init[6:] = Qview_init[6:] + [0,0,0,0,0,np.deg2rad(-20),0]\n",
    "gscene.show_pose(Qview_init)\n",
    "traj_list = get_scan_motions(mplan, viewpoint, table_g, Qview_init)"
   ]
  },
  {
   "cell_type": "code",
   "execution_count": 46,
   "metadata": {},
   "outputs": [
    {
     "data": {
      "text/plain": [
       "5"
      ]
     },
     "execution_count": 46,
     "metadata": {},
     "output_type": "execute_result"
    }
   ],
   "source": [
    "Qview_list = []\n",
    "for traj in traj_list:\n",
    "    gscene.show_pose(traj[-1])\n",
    "    Qview_list.append(np.copy(traj[-1]))\n",
    "    time.sleep(1)\n",
    "crob.joint_move_make_sure(Qview_init)\n",
    "len(Qview_list)"
   ]
  },
  {
   "cell_type": "markdown",
   "metadata": {},
   "source": [
    "## Gaze and detect"
   ]
  },
  {
   "cell_type": "code",
   "execution_count": 48,
   "metadata": {
    "scrolled": true
   },
   "outputs": [
    {
     "name": "stdout",
     "output_type": "stream",
     "text": [
      "name_mask is ['clock']\n",
      "request 0 -> response 0\n",
      "==== Received color, depth image from remote camera ====\n",
      "Maximun num of object for detection : 3\n",
      "===== Detected : clock, 1 object(s) =====\n",
      "\n",
      "'clock' is not in gscene. Use manual input for initial guess\n",
      "\n",
      "Apply point-to-point ICP\n",
      "registration::RegistrationResult with fitness=1.000000e+00, inlier_rmse=1.169662e-02, and correspondence_set size of 15301\n",
      "Access transformation to get result.\n",
      "Transformation is:\n",
      "[[ 0.66551072 -0.16315081  0.72833871 -0.09072306]\n",
      " [ 0.74459236  0.07746933 -0.66300883 -0.04864539]\n",
      " [ 0.05174652  0.98355492  0.17303752  0.75421554]\n",
      " [ 0.          0.          0.          1.        ]]\n",
      "Total ICP Transformation is:\n",
      "[[ 0.66551072 -0.16315081  0.72833871 -0.09072306]\n",
      " [ 0.74459236  0.07746933 -0.66300883 -0.04864539]\n",
      " [ 0.05174652  0.98355492  0.17303752  0.75421554]\n",
      " [ 0.          0.          0.          1.        ]]\n",
      "Inlier ratio: 0.194627802104\n",
      "initial: \n",
      "[[ 0.67 -0.16  0.73 -0.09]\n",
      " [ 0.74  0.08 -0.66 -0.05]\n",
      " [ 0.05  0.98  0.17  0.75]\n",
      " [ 0.    0.    0.    1.  ]]\n",
      "Apply point-to-point ICP\n",
      "registration::RegistrationResult with fitness=1.000000e+00, inlier_rmse=4.336559e-03, and correspondence_set size of 6380\n",
      "Access transformation to get result.\n",
      "Transformation is:\n",
      "[[ 0.68126323 -0.21794009  0.69884369 -0.08829578]\n",
      " [ 0.73078679  0.1466725  -0.66666171 -0.04804261]\n",
      " [ 0.04279116  0.96487785  0.25919032  0.77397464]\n",
      " [ 0.          0.          0.          1.        ]]\n",
      "Total ICP Transformation is:\n",
      "[[ 0.68126323 -0.21794009  0.69884369 -0.08829578]\n",
      " [ 0.73078679  0.1466725  -0.66666171 -0.04804261]\n",
      " [ 0.04279116  0.96487785  0.25919032  0.77397464]\n",
      " [ 0.          0.          0.          1.        ]]\n",
      "result: \n",
      "[[ 0.68 -0.22  0.7  -0.09]\n",
      " [ 0.73  0.15 -0.67 -0.05]\n",
      " [ 0.04  0.96  0.26  0.77]\n",
      " [ 0.    0.    0.    1.  ]]\n",
      "Inlier ratio: 0.161035226456\n",
      "Found 6DoF pose of clock_1\n",
      "Total 1 clock in the scene\n",
      "Update existing clock in the scene\n",
      "name_mask is ['clock']\n",
      "request 0 -> response 0\n",
      "==== Received color, depth image from remote camera ====\n",
      "Maximun num of object for detection : 3\n",
      "===== Detected : clock, 1 object(s) =====\n",
      "\n",
      "'clock' is not in gscene. Use manual input for initial guess\n",
      "\n",
      "Apply point-to-point ICP\n",
      "registration::RegistrationResult with fitness=1.000000e+00, inlier_rmse=1.143215e-02, and correspondence_set size of 19570\n",
      "Access transformation to get result.\n",
      "Transformation is:\n",
      "[[ 0.75344522 -0.40846432  0.51524478 -0.32521411]\n",
      " [ 0.65239605  0.36686877 -0.66316415  0.18244961]\n",
      " [ 0.08185168  0.83580151  0.54289603  0.71807782]\n",
      " [ 0.          0.          0.          1.        ]]\n",
      "Total ICP Transformation is:\n",
      "[[ 0.75344522 -0.40846432  0.51524478 -0.32521411]\n",
      " [ 0.65239605  0.36686877 -0.66316415  0.18244961]\n",
      " [ 0.08185168  0.83580151  0.54289603  0.71807782]\n",
      " [ 0.          0.          0.          1.        ]]\n",
      "Inlier ratio: 0.160347470618\n",
      "initial: \n",
      "[[ 0.75 -0.41  0.52 -0.33]\n",
      " [ 0.65  0.37 -0.66  0.18]\n",
      " [ 0.08  0.84  0.54  0.72]\n",
      " [ 0.    0.    0.    1.  ]]\n",
      "Apply point-to-point ICP\n",
      "registration::RegistrationResult with fitness=1.000000e+00, inlier_rmse=6.618947e-03, and correspondence_set size of 9173\n",
      "Access transformation to get result.\n",
      "Transformation is:\n",
      "[[ 0.81896735 -0.33133513  0.4685184  -0.33380918]\n",
      " [ 0.57329837  0.50789413 -0.64294052  0.18365952]\n",
      " [-0.02492897  0.79514813  0.6059026   0.73532772]\n",
      " [ 0.          0.          0.          1.        ]]\n",
      "Total ICP Transformation is:\n",
      "[[ 0.81896735 -0.33133513  0.4685184  -0.33380918]\n",
      " [ 0.57329837  0.50789413 -0.64294052  0.18365952]\n",
      " [-0.02492897  0.79514813  0.6059026   0.73532772]\n",
      " [ 0.          0.          0.          1.        ]]\n",
      "result: \n",
      "[[ 0.82 -0.33  0.47 -0.33]\n",
      " [ 0.57  0.51 -0.64  0.18]\n",
      " [-0.02  0.8   0.61  0.74]\n",
      " [ 0.    0.    0.    1.  ]]\n",
      "Inlier ratio: 0.140470107307\n",
      "Found 6DoF pose of clock_1\n",
      "Total 1 clock in the scene\n",
      "Update existing clock in the scene\n",
      "name_mask is ['clock']\n",
      "request 0 -> response 0\n",
      "==== Received color, depth image from remote camera ====\n",
      "Maximun num of object for detection : 3\n",
      "===== Detected : clock, 3 object(s) =====\n",
      "\n",
      "'clock' is not in gscene. Use manual input for initial guess\n",
      "\n",
      "Apply point-to-point ICP\n",
      "registration::RegistrationResult with fitness=1.000000e+00, inlier_rmse=1.068229e-02, and correspondence_set size of 10145\n",
      "Access transformation to get result.\n",
      "Transformation is:\n",
      "[[ 0.62765211  0.2492974   0.73749822  0.09883335]\n",
      " [ 0.66536591  0.32002529 -0.674442   -0.17798853]\n",
      " [-0.40415473  0.91402111  0.03499056  0.93670528]\n",
      " [ 0.          0.          0.          1.        ]]\n",
      "Total ICP Transformation is:\n",
      "[[ 0.62765211  0.2492974   0.73749822  0.09883335]\n",
      " [ 0.66536591  0.32002529 -0.674442   -0.17798853]\n",
      " [-0.40415473  0.91402111  0.03499056  0.93670528]\n",
      " [ 0.          0.          0.          1.        ]]\n",
      "Inlier ratio: 0.240413997043\n",
      "initial: \n",
      "[[ 0.63  0.25  0.74  0.1 ]\n",
      " [ 0.67  0.32 -0.67 -0.18]\n",
      " [-0.4   0.91  0.03  0.94]\n",
      " [ 0.    0.    0.    1.  ]]\n",
      "Apply point-to-point ICP\n",
      "registration::RegistrationResult with fitness=1.000000e+00, inlier_rmse=3.386491e-03, and correspondence_set size of 4892\n",
      "Access transformation to get result.\n",
      "Transformation is:\n",
      "[[ 0.61013607  0.15699333  0.77658679  0.10152753]\n",
      " [ 0.64263499  0.47524329 -0.60096927 -0.17568769]\n",
      " [-0.46341585  0.86573487  0.18907367  0.95054792]\n",
      " [ 0.          0.          0.          1.        ]]\n",
      "Total ICP Transformation is:\n",
      "[[ 0.61013607  0.15699333  0.77658679  0.10152753]\n",
      " [ 0.64263499  0.47524329 -0.60096927 -0.17568769]\n",
      " [-0.46341585  0.86573487  0.18907367  0.95054792]\n",
      " [ 0.          0.          0.          1.        ]]\n",
      "result: \n",
      "[[ 0.61  0.16  0.78  0.1 ]\n",
      " [ 0.64  0.48 -0.6  -0.18]\n",
      " [-0.46  0.87  0.19  0.95]\n",
      " [ 0.    0.    0.    1.  ]]\n",
      "Inlier ratio: 0.227698373583\n",
      "Found 6DoF pose of clock_1\n",
      "\n",
      "'clock' is not in gscene. Use manual input for initial guess\n",
      "\n",
      "Apply point-to-point ICP\n",
      "registration::RegistrationResult with fitness=1.000000e+00, inlier_rmse=1.066485e-02, and correspondence_set size of 19458\n",
      "Access transformation to get result.\n",
      "Transformation is:\n",
      "[[ 0.52441472  0.2421284   0.81631061  0.33634594]\n",
      " [ 0.75039406  0.32162323 -0.57746622  0.1914856 ]\n",
      " [-0.40236544  0.91538642 -0.01302776  0.70643386]\n",
      " [ 0.          0.          0.          1.        ]]\n",
      "Total ICP Transformation is:\n",
      "[[ 0.52441472  0.2421284   0.81631061  0.33634594]\n",
      " [ 0.75039406  0.32162323 -0.57746622  0.1914856 ]\n",
      " [-0.40236544  0.91538642 -0.01302776  0.70643386]\n",
      " [ 0.          0.          0.          1.        ]]\n",
      "Inlier ratio: 0.16779730702\n",
      "initial: \n",
      "[[ 0.52  0.24  0.82  0.34]\n",
      " [ 0.75  0.32 -0.58  0.19]\n",
      " [-0.4   0.92 -0.01  0.71]\n",
      " [ 0.    0.    0.    1.  ]]\n",
      "Apply point-to-point ICP\n",
      "registration::RegistrationResult with fitness=1.000000e+00, inlier_rmse=4.275682e-03, and correspondence_set size of 8196\n",
      "Access transformation to get result.\n",
      "Transformation is:\n",
      "[[ 0.54350171  0.04681066  0.8381018   0.34105217]\n",
      " [ 0.74737307  0.42756811 -0.50854595  0.19532748]\n",
      " [-0.38215099  0.90277031  0.19739898  0.72432056]\n",
      " [ 0.          0.          0.          1.        ]]\n",
      "Total ICP Transformation is:\n",
      "[[ 0.54350171  0.04681066  0.8381018   0.34105217]\n",
      " [ 0.74737307  0.42756811 -0.50854595  0.19532748]\n",
      " [-0.38215099  0.90277031  0.19739898  0.72432056]\n",
      " [ 0.          0.          0.          1.        ]]\n",
      "result: \n",
      "[[ 0.54  0.05  0.84  0.34]\n",
      " [ 0.75  0.43 -0.51  0.2 ]\n",
      " [-0.38  0.9   0.2   0.72]\n",
      " [ 0.    0.    0.    1.  ]]\n",
      "Inlier ratio: 0.1355226642\n",
      "Found 6DoF pose of clock_2\n",
      "\n",
      "'clock' is not in gscene. Use manual input for initial guess\n",
      "\n",
      "Apply point-to-point ICP\n",
      "registration::RegistrationResult with fitness=1.000000e+00, inlier_rmse=1.187457e-02, and correspondence_set size of 7366\n",
      "Access transformation to get result.\n",
      "Transformation is:\n",
      "[[ 0.7424783   0.23620942  0.62684215 -0.2761644 ]\n",
      " [ 0.54303041  0.33568167 -0.76969849 -0.28637787]\n",
      " [-0.39222947  0.91187877  0.12096746  1.0687293 ]\n",
      " [ 0.          0.          0.          1.        ]]\n",
      "Total ICP Transformation is:\n",
      "[[ 0.7424783   0.23620942  0.62684215 -0.2761644 ]\n",
      " [ 0.54303041  0.33568167 -0.76969849 -0.28637787]\n",
      " [-0.39222947  0.91187877  0.12096746  1.0687293 ]\n",
      " [ 0.          0.          0.          1.        ]]\n",
      "Inlier ratio: 0.221694270975\n",
      "initial: \n",
      "[[ 0.74  0.24  0.63 -0.28]\n",
      " [ 0.54  0.34 -0.77 -0.29]\n",
      " [-0.39  0.91  0.12  1.07]\n",
      " [ 0.    0.    0.    1.  ]]\n",
      "Apply point-to-point ICP\n",
      "registration::RegistrationResult with fitness=1.000000e+00, inlier_rmse=4.683941e-03, and correspondence_set size of 3586\n",
      "Access transformation to get result.\n"
     ]
    },
    {
     "name": "stdout",
     "output_type": "stream",
     "text": [
      "Transformation is:\n",
      "[[ 0.736305    0.17789484  0.65284635 -0.27429134]\n",
      " [ 0.51426573  0.47991694 -0.71078159 -0.2845072 ]\n",
      " [-0.43975641  0.85908854  0.26188003  1.0814843 ]\n",
      " [ 0.          0.          0.          1.        ]]\n",
      "Total ICP Transformation is:\n",
      "[[ 0.736305    0.17789484  0.65284635 -0.27429134]\n",
      " [ 0.51426573  0.47991694 -0.71078159 -0.2845072 ]\n",
      " [-0.43975641  0.85908854  0.26188003  1.0814843 ]\n",
      " [ 0.          0.          0.          1.        ]]\n",
      "result: \n",
      "[[ 0.74  0.18  0.65 -0.27]\n",
      " [ 0.51  0.48 -0.71 -0.28]\n",
      " [-0.44  0.86  0.26  1.08]\n",
      " [ 0.    0.    0.    1.  ]]\n",
      "Inlier ratio: 0.235813195764\n",
      "Found 6DoF pose of clock_3\n",
      "Total 1 clock in the scene\n",
      "Update existing clock in the scene\n",
      "Add new clock in the scene\n",
      "Add new clock in the scene\n",
      "name_mask is ['clock']\n",
      "request 0 -> response 0\n",
      "==== Received color, depth image from remote camera ====\n",
      "Maximun num of object for detection : 3\n",
      "===== Detected : clock, 1 object(s) =====\n",
      "\n",
      "'clock' is not in gscene. Use manual input for initial guess\n",
      "\n",
      "Apply point-to-point ICP\n",
      "registration::RegistrationResult with fitness=1.000000e+00, inlier_rmse=1.165415e-02, and correspondence_set size of 10839\n",
      "Access transformation to get result.\n",
      "Transformation is:\n",
      "[[ 0.78673718 -0.08929006  0.6107961  -0.28356816]\n",
      " [ 0.52115948  0.62635648 -0.57971574  0.14768194]\n",
      " [-0.33081325  0.77440611  0.53931229  0.96018049]\n",
      " [ 0.          0.          0.          1.        ]]\n",
      "Total ICP Transformation is:\n",
      "[[ 0.78673718 -0.08929006  0.6107961  -0.28356816]\n",
      " [ 0.52115948  0.62635648 -0.57971574  0.14768194]\n",
      " [-0.33081325  0.77440611  0.53931229  0.96018049]\n",
      " [ 0.          0.          0.          1.        ]]\n",
      "Inlier ratio: 0.202232678291\n",
      "initial: \n",
      "[[ 0.79 -0.09  0.61 -0.28]\n",
      " [ 0.52  0.63 -0.58  0.15]\n",
      " [-0.33  0.77  0.54  0.96]\n",
      " [ 0.    0.    0.    1.  ]]\n",
      "Apply point-to-point ICP\n",
      "registration::RegistrationResult with fitness=1.000000e+00, inlier_rmse=3.857574e-03, and correspondence_set size of 5213\n",
      "Access transformation to get result.\n",
      "Transformation is:\n",
      "[[ 0.77820352 -0.0592099   0.62521473 -0.28363196]\n",
      " [ 0.49096056  0.6781488  -0.54687467  0.15153576]\n",
      " [-0.39160824  0.73253557  0.55680751  0.97569365]\n",
      " [ 0.          0.          0.          1.        ]]\n",
      "Total ICP Transformation is:\n",
      "[[ 0.77820352 -0.0592099   0.62521473 -0.28363196]\n",
      " [ 0.49096056  0.6781488  -0.54687467  0.15153576]\n",
      " [-0.39160824  0.73253557  0.55680751  0.97569365]\n",
      " [ 0.          0.          0.          1.        ]]\n",
      "result: \n",
      "[[ 0.78 -0.06  0.63 -0.28]\n",
      " [ 0.49  0.68 -0.55  0.15]\n",
      " [-0.39  0.73  0.56  0.98]\n",
      " [ 0.    0.    0.    1.  ]]\n",
      "Inlier ratio: 0.218562598026\n",
      "Found 6DoF pose of clock_1\n",
      "Total 3 clock in the scene\n",
      "Update existing clock in the scene\n",
      "name_mask is ['clock']\n",
      "request 0 -> response 0\n",
      "==== Received color, depth image from remote camera ====\n",
      "Maximun num of object for detection : 3\n",
      "===== Detected : clock, 2 object(s) =====\n",
      "\n",
      "'clock' is not in gscene. Use manual input for initial guess\n",
      "\n",
      "Apply point-to-point ICP\n",
      "registration::RegistrationResult with fitness=1.000000e+00, inlier_rmse=1.175494e-02, and correspondence_set size of 10749\n",
      "Access transformation to get result.\n",
      "Transformation is:\n",
      "[[ 0.55786138  0.34831428  0.7533046   0.25001561]\n",
      " [ 0.44720153  0.63846931 -0.62639261  0.25525589]\n",
      " [-0.69914338  0.68631922  0.20041069  0.95768809]\n",
      " [ 0.          0.          0.          1.        ]]\n",
      "Total ICP Transformation is:\n",
      "[[ 0.55786138  0.34831428  0.7533046   0.25001561]\n",
      " [ 0.44720153  0.63846931 -0.62639261  0.25525589]\n",
      " [-0.69914338  0.68631922  0.20041069  0.95768809]\n",
      " [ 0.          0.          0.          1.        ]]\n",
      "Inlier ratio: 0.191924830217\n",
      "initial: \n",
      "[[ 0.56  0.35  0.75  0.25]\n",
      " [ 0.45  0.64 -0.63  0.26]\n",
      " [-0.7   0.69  0.2   0.96]\n",
      " [ 0.    0.    0.    1.  ]]\n",
      "Apply point-to-point ICP\n",
      "registration::RegistrationResult with fitness=1.000000e+00, inlier_rmse=2.931842e-03, and correspondence_set size of 5313\n",
      "Access transformation to get result.\n",
      "Transformation is:\n",
      "[[ 0.49224055  0.26679577  0.82856456  0.25547424]\n",
      " [ 0.42206858  0.75933274 -0.49524931  0.26126428]\n",
      " [-0.76128664  0.59349286  0.26116825  0.97283322]\n",
      " [ 0.          0.          0.          1.        ]]\n",
      "Total ICP Transformation is:\n",
      "[[ 0.49224055  0.26679577  0.82856456  0.25547424]\n",
      " [ 0.42206858  0.75933274 -0.49524931  0.26126428]\n",
      " [-0.76128664  0.59349286  0.26116825  0.97283322]\n",
      " [ 0.          0.          0.          1.        ]]\n",
      "result: \n",
      "[[ 0.49  0.27  0.83  0.26]\n",
      " [ 0.42  0.76 -0.5   0.26]\n",
      " [-0.76  0.59  0.26  0.97]\n",
      " [ 0.    0.    0.    1.  ]]\n",
      "Inlier ratio: 0.246162433715\n",
      "Found 6DoF pose of clock_1\n",
      "\n",
      "'clock' is not in gscene. Use manual input for initial guess\n",
      "\n",
      "Apply point-to-point ICP\n",
      "registration::RegistrationResult with fitness=1.000000e+00, inlier_rmse=1.343022e-02, and correspondence_set size of 3960\n",
      "Access transformation to get result.\n",
      "Transformation is:\n",
      "[[ 0.62789382  0.37297918  0.68310751 -0.10775358]\n",
      " [ 0.2607408   0.72616779 -0.63615607  0.19309275]\n",
      " [-0.73332366  0.57755246  0.35870538  1.19589616]\n",
      " [ 0.          0.          0.          1.        ]]\n",
      "Total ICP Transformation is:\n",
      "[[ 0.62789382  0.37297918  0.68310751 -0.10775358]\n",
      " [ 0.2607408   0.72616779 -0.63615607  0.19309275]\n",
      " [-0.73332366  0.57755246  0.35870538  1.19589616]\n",
      " [ 0.          0.          0.          1.        ]]\n",
      "Inlier ratio: 0.197727272727\n",
      "initial: \n",
      "[[ 0.63  0.37  0.68 -0.11]\n",
      " [ 0.26  0.73 -0.64  0.19]\n",
      " [-0.73  0.58  0.36  1.2 ]\n",
      " [ 0.    0.    0.    1.  ]]\n",
      "Apply point-to-point ICP\n",
      "registration::RegistrationResult with fitness=1.000000e+00, inlier_rmse=8.390729e-03, and correspondence_set size of 1869\n",
      "Access transformation to get result.\n",
      "Transformation is:\n",
      "[[ 0.54231503  0.37429679  0.75219432 -0.11063637]\n",
      " [ 0.17986475  0.82280469 -0.53911137  0.19528301]\n",
      " [-0.8206967   0.42766145  0.37889656  1.21975356]\n",
      " [ 0.          0.          0.          1.        ]]\n",
      "Total ICP Transformation is:\n",
      "[[ 0.54231503  0.37429679  0.75219432 -0.11063637]\n",
      " [ 0.17986475  0.82280469 -0.53911137  0.19528301]\n",
      " [-0.8206967   0.42766145  0.37889656  1.21975356]\n",
      " [ 0.          0.          0.          1.        ]]\n",
      "result: \n",
      "[[ 0.54  0.37  0.75 -0.11]\n",
      " [ 0.18  0.82 -0.54  0.2 ]\n",
      " [-0.82  0.43  0.38  1.22]\n",
      " [ 0.    0.    0.    1.  ]]\n",
      "Inlier ratio: 0.170202020202\n",
      "Found 6DoF pose of clock_2\n",
      "Total 3 clock in the scene\n",
      "Update existing clock in the scene\n",
      "Update existing clock in the scene\n"
     ]
    }
   ],
   "source": [
    "target_dict = {}\n",
    "for Qview in Qview_list:\n",
    "    t, traj = calc_safe_trajectory(0.02, [crob.get_real_robot_pose(), Qview], 0.5, 0.5)\n",
    "    # gscene.show_motion(traj)\n",
    "    crob.joint_move_make_sure(np.array(Qview), ref_speed = np.pi/10)\n",
    "\n",
    "    #### Detect clocks\n",
    "    # for clock\n",
    "    micp.set_ICP_thres(thres_ICP=0.09, thres_front_ICP=0.03)\n",
    "    micp.set_outlier_removal(nb_points=20, radius=0.03)\n",
    "    micp.set_inlier_ratio(0.05)\n",
    "    micp.set_multiobject_num(num=3)\n",
    "    pose_dict = micp.detect(name_mask=[\"clock\"], visualize=True)\n",
    "\n",
    "    # add or update clock\n",
    "    add_update_object(gscene, crob, \"clock\", pose_dict, separate_dist=0.3, height = TABLE_HEIGHT+CLOCK_DIM[1]/2+CLEARANCE)\n",
    "\n",
    "    #### Detect markers\n",
    "    color_img = micp.last_input[0].astype(np.uint8)\n",
    "    obj_dict, corner_dict = aruco_map.get_object_pose_dict(color_img, cameraMatrix, distCoeffs)\n",
    "    img_out = aruco_map.draw_objects(color_img, obj_dict, corner_dict, cameraMatrix, distCoeffs)\n",
    "\n",
    "    Tbc = viewpoint.get_tf(crob.get_real_robot_pose())\n",
    "    Tbt = table_g.get_tf(crob.home_pose)\n",
    "    Ttc = np.matmul(np.linalg.inv(Tbt), Tbc)\n",
    "    for tname, Ttar in obj_dict.items():\n",
    "        Tcw = matmul_series(np.linalg.inv(Tbc), Tbt, SE3(np.identity(3), (0,0,table_g.dims[2]/2)))\n",
    "\n",
    "        kwargs = aruco_map[tname].get_geometry_kwargs()\n",
    "        Ttar = fit_floor(Ttar, minz=-kwargs['dims'][2]/2, Tcw=Tcw)\n",
    "        Ttx = np.matmul(Ttc, Ttar)\n",
    "        kwargs.update(dict(name=tname, center=Ttx[:3,3], rpy=Rot2rpy(Ttx[:3,:3]), color=(0.8,0.8,0.8,1),\n",
    "                      link_name=\"base_link\", collision=True, parent=TABLE_NAME))\n",
    "        target_dict[tname] =gscene.create_safe(**kwargs)"
   ]
  },
  {
   "cell_type": "code",
   "execution_count": null,
   "metadata": {},
   "outputs": [],
   "source": []
  },
  {
   "cell_type": "markdown",
   "metadata": {},
   "source": [
    "## Clock subjects"
   ]
  },
  {
   "cell_type": "code",
   "execution_count": 49,
   "metadata": {},
   "outputs": [],
   "source": [
    "gcol_names = sorted([gname for gname in gscene.NAME_DICT.keys() \n",
    "                 if \"clock\" in gname and \"col\" in gname])\n",
    "clock_names = []\n",
    "\n",
    "for gcol_name in gcol_names:\n",
    "    clock_col_g = gscene.NAME_DICT[gcol_name]\n",
    "    clock_g = gscene.NAME_DICT[clock_col_g.parent]\n",
    "    clock_dim = clock_col_g.dims\n",
    "    clock_name = clock_g.name\n",
    "    clock_names.append(clock_name)\n",
    "    push_point_list = []\n",
    "    for i in range(4):\n",
    "        R = Rot_axis_series([2, 3], [np.pi/2*i, np.pi/2])\n",
    "        point = np.round(np.multiply(clock_dim, -R[:,2])/2, 4)\n",
    "        point[1] = -clock_dim[1]/2 + TOOL_PUSH_HEIGHT\n",
    "        ap_name = \"side{}\".format(i)\n",
    "        push_point_list.append(FramePoint(ap_name, clock_g, point=point, rpy=Rot2rpy(R), key=TOOL_PUSH_KEY))\n",
    "\n",
    "    dir_push = [0,0,1]\n",
    "    slide_point = SlidePoint(\"bottom_p\", clock_g, point=(0,clock_dim[1]/2-CLEARANCE,0), rpy=(np.pi/2,0,0), \n",
    "                             binded_on=table_b, dist_push_min=0.1, dist_push_max=0.3, dir_push=dir_push, key=TOOL_SLIDE_KEY)\n",
    "\n",
    "    clock_s = pscene.create_subject(oname=clock_name, gname=clock_name, _type=PushObject, \n",
    "                                  push_point_list=push_point_list, slide_point=slide_point)"
   ]
  },
  {
   "cell_type": "code",
   "execution_count": null,
   "metadata": {},
   "outputs": [],
   "source": []
  },
  {
   "cell_type": "markdown",
   "metadata": {},
   "source": [
    "## Waypoints"
   ]
  },
  {
   "cell_type": "code",
   "execution_count": 50,
   "metadata": {},
   "outputs": [],
   "source": [
    "waypoint_s = pscene.create_subject(oname=\"waypoints\", gname=TABLE_NAME, _type=WaypointTask,\n",
    "                                 action_points_dict={\n",
    "                                     tname: WayPoint(\n",
    "                                         tname, target, [0, 0, wp_g.dims[2] / 2], [0, 0, 0])\n",
    "                                     for tname, target in sorted(target_dict.items())\n",
    "                                 })\n",
    "\n",
    "point_brush, rpy_brush = (0,0,-brush_face.dims[2]/2), (0,0,0)\n",
    "brush_b = pscene.create_binder(BRUSH_NAME, BRUSH_NAME, WayAgent, point=point_brush, rpy=rpy_brush)"
   ]
  },
  {
   "cell_type": "code",
   "execution_count": null,
   "metadata": {},
   "outputs": [],
   "source": []
  },
  {
   "cell_type": "markdown",
   "metadata": {},
   "source": [
    "#### [SAVE DATA]"
   ]
  },
  {
   "cell_type": "code",
   "execution_count": 51,
   "metadata": {},
   "outputs": [],
   "source": [
    "if SAVE_DATA:\n",
    "    color, depth, Qcur = micp.get_image()\n",
    "    cam_pose = viewpoint.get_tf(Qcur)\n",
    "    dcam.ready_saving(*micp.get_camera_config())\n",
    "    dcam.save_scene(color, depth, cam_pose)"
   ]
  },
  {
   "cell_type": "code",
   "execution_count": null,
   "metadata": {},
   "outputs": [],
   "source": []
  },
  {
   "cell_type": "markdown",
   "metadata": {},
   "source": [
    "## get initial state"
   ]
  },
  {
   "cell_type": "code",
   "execution_count": 52,
   "metadata": {},
   "outputs": [
    {
     "name": "stdout",
     "output_type": "stream",
     "text": [
      "['chair_0', 'chair_1', 'chair_2', 'chair_3', 'chair_4', 'clock_0', 'clock_1', 'clock_2', 'waypoints']\n",
      "('floor_ws', 'floor_ws', 'floor_ws', 'floor_ws', 'floor_ws', 'table', 'table', 'table', 0)\n"
     ]
    }
   ],
   "source": [
    "chain_list = \\\n",
    "    [BindingChain(chair_name, \"bottom_p\", \"floor_ws\", \"floor_ws\") for chair_name in chair_names] \\\n",
    "    + [BindingChain(clock_name, \"bottom_p\", \"table\", \"table\") for clock_name in clock_names] \\\n",
    "    + [BindingChain(\"waypoints\", None, None, None)]\n",
    "initial_state = pscene.initialize_state(crob.get_real_robot_pose(), chain_list=chain_list)\n",
    "gscene.update_markers_all()\n",
    "print(pscene.subject_name_list)\n",
    "print(initial_state.node)"
   ]
  },
  {
   "cell_type": "code",
   "execution_count": null,
   "metadata": {},
   "outputs": [],
   "source": []
  },
  {
   "cell_type": "markdown",
   "metadata": {},
   "source": [
    "## Make Plan"
   ]
  },
  {
   "cell_type": "code",
   "execution_count": 55,
   "metadata": {},
   "outputs": [
    {
     "name": "stdout",
     "output_type": "stream",
     "text": [
      "resolve reach from [ 2.01 -0.57 -2.39  0.    0.    0.    2.6  -0.4  -0.12 -1.59  0.35  2.03\n",
      "  0.63]\n",
      "home robot ('floor_ws', 'floor_ws', 'floor_ws', 'floor_ws', 'floor_ws', 'table', 'table', 'table', 0)\n",
      "move base ('floor_ws', 'floor_ws', 'floor_ws', 'floor_ws', 'floor_ws', 'table', 'table', 'table', 0)\n",
      "error: 2.6\n",
      "try transition motion\n",
      "transition motion tried: False\n",
      "resolve reach from [ 2.01 -0.57 -2.39  0.    0.    0.    2.6  -0.4  -0.12 -1.59  0.35  2.03\n",
      "  0.63]\n",
      "home robot ('floor_ws', 'floor_ws', 'floor_ws', 'floor_ws', 'floor_ws', 'table', 'table', 'table', 0)\n",
      "move base ('floor_ws', 'floor_ws', 'floor_ws', 'floor_ws', 'floor_ws', 'table', 'table', 'table', 0)\n",
      "error: 1.9\n",
      "try transition motion\n",
      "transition motion tried: False\n",
      "resolve reach from [ 2.01 -0.57 -2.39  0.    0.    0.    2.6  -0.4  -0.12 -1.59  0.35  2.03\n",
      "  0.63]\n",
      "home robot ('floor_ws', 'floor_ws', 'floor_ws', 'floor_ws', 'floor_ws', 'table', 'table', 'table', 0)\n",
      "move base ('floor_ws', 'floor_ws', 'floor_ws', 'floor_ws', 'floor_ws', 'table', 'table', 'table', 0)\n",
      "error: 2.9\n",
      "try transition motion\n",
      "transition motion tried: False\n",
      "try joint motion\n",
      "joint motion tried: True\n",
      "valid transition found: ('floor_ws', 'floor_ws', 'floor_ws', 'floor_ws', 'floor_ws', 'table', 'table', 'table', 0) - ('floor_ws', 'floor_ws', 'floor_ws', 'floor_ws', 'floor_ws', 'table', 'table', 'table', 0)\n",
      "try joint motion\n",
      "joint motion tried: False\n",
      "try joint motion\n",
      "joint motion tried: True\n",
      "valid transition found: ('floor_ws', 'floor_ws', 'floor_ws', 'floor_ws', 'floor_ws', 'table', 'table', 'table', 0) - ('floor_ws', 'floor_ws', 'floor_ws', 'floor_ws', 'floor_ws', 'table', 'table', 'table', 0)\n",
      "try joint motion\n",
      "joint motion tried: False\n",
      "resolve reach from [ 2.01 -0.57 -2.39  0.    0.    0.    2.6  -0.4  -0.12 -1.59  0.35  2.03\n",
      "  0.63]\n",
      "home robot ('floor_ws', 'floor_ws', 'floor_ws', 'floor_ws', 'floor_ws', 'table', 'table', 'table', 0)\n",
      "move base ('floor_ws', 'floor_ws', 'floor_ws', 'floor_ws', 'floor_ws', 'table', 'table', 'table', 0)\n",
      "error: 2.4\n",
      "try transition motion\n",
      "transition motion tried: False\n",
      "try joint motion\n",
      "joint motion tried: True\n",
      "valid transition found: ('floor_ws', 'floor_ws', 'floor_ws', 'floor_ws', 'floor_ws', 'table', 'table', 'table', 0) - ('floor_ws', 'floor_ws', 'floor_ws', 'floor_ws', 'floor_ws', 'table', 'table', 'table', 0)\n",
      "try joint motion\n",
      "joint motion tried: False\n",
      "error: 1.2\n",
      "try transition motion\n",
      "transition motion tried: False\n",
      "error: 1.2\n",
      "try transition motion\n",
      "transition motion tried: False\n",
      "try joint motion\n",
      "joint motion tried: True\n",
      "valid transition found: ('floor_ws', 'floor_ws', 'floor_ws', 'floor_ws', 'floor_ws', 'table', 'table', 'table', 0) - ('floor_ws', 'floor_ws', 'floor_ws', 'floor_ws', 'floor_ws', 'table', 'table', 'table', 0)\n",
      "try joint motion\n",
      "joint motion tried: False\n",
      "resolve reach from [ 2.01 -0.57 -2.39  0.    0.    0.    2.6  -0.4  -0.12 -1.59  0.35  2.03\n",
      "  0.63]\n",
      "home robot ('floor_ws', 'floor_ws', 'floor_ws', 'floor_ws', 'floor_ws', 'table', 'table', 'table', 0)\n",
      "move base ('floor_ws', 'floor_ws', 'floor_ws', 'floor_ws', 'floor_ws', 'table', 'table', 'table', 0)\n",
      "error: 2.8\n",
      "try transition motion\n",
      "transition motion tried: False\n",
      "error: 1.6\n",
      "try transition motion\n",
      "transition motion tried: True\n",
      "valid transition found: ('floor_ws', 'floor_ws', 'floor_ws', 'floor_ws', 'floor_ws', 'table', 'table', 'table', 0) - ('floor_ws', 'floor_ws', 'floor_ws', 'floor_ws', 'floor_ws', 'table', 'table', 'table', 1)\n",
      "resolve reach from [ 2.01 -0.57 -2.39  0.    0.    0.    2.74  0.88 -0.45 -1.07  1.93  1.74\n",
      " -1.12]\n",
      "home robot ('floor_ws', 'floor_ws', 'floor_ws', 'floor_ws', 'floor_ws', 'table', 'table', 'table', 1)\n",
      "move base ('floor_ws', 'floor_ws', 'floor_ws', 'floor_ws', 'floor_ws', 'table', 'table', 'table', 1)\n",
      "error: 0.31\n",
      "try transition motion\n",
      "transition motion tried: False\n",
      "resolve reach from [ 2.01 -0.57 -2.39  0.    0.    0.    2.74  0.88 -0.45 -1.07  1.93  1.74\n",
      " -1.12]\n",
      "home robot ('floor_ws', 'floor_ws', 'floor_ws', 'floor_ws', 'floor_ws', 'table', 'table', 'table', 1)\n",
      "move base ('floor_ws', 'floor_ws', 'floor_ws', 'floor_ws', 'floor_ws', 'table', 'table', 'table', 1)\n",
      "error: 0.62\n",
      "try transition motion\n",
      "transition motion tried: False\n",
      "resolve reach from [ 2.01 -0.57 -2.39  0.    0.    0.    2.74  0.88 -0.45 -1.07  1.93  1.74\n",
      " -1.12]\n",
      "home robot ('floor_ws', 'floor_ws', 'floor_ws', 'floor_ws', 'floor_ws', 'table', 'table', 'table', 1)\n",
      "move base ('floor_ws', 'floor_ws', 'floor_ws', 'floor_ws', 'floor_ws', 'table', 'table', 'table', 1)\n",
      "error: 2.6\n",
      "try transition motion\n",
      "transition motion tried: False\n",
      "try joint motion\n",
      "joint motion tried: True\n",
      "valid transition found: ('floor_ws', 'floor_ws', 'floor_ws', 'floor_ws', 'floor_ws', 'table', 'table', 'table', 1) - ('floor_ws', 'floor_ws', 'floor_ws', 'floor_ws', 'floor_ws', 'table', 'table', 'table', 1)\n",
      "try joint motion\n",
      "joint motion tried: False\n",
      "resolve reach from [ 2.01 -0.57 -2.39  0.    0.    0.    2.74  0.88 -0.45 -1.07  1.93  1.74\n",
      " -1.12]\n",
      "home robot ('floor_ws', 'floor_ws', 'floor_ws', 'floor_ws', 'floor_ws', 'table', 'table', 'table', 1)\n",
      "move base ('floor_ws', 'floor_ws', 'floor_ws', 'floor_ws', 'floor_ws', 'table', 'table', 'table', 1)\n",
      "error: 0.99\n",
      "try transition motion\n",
      "transition motion tried: False\n",
      "try joint motion\n",
      "joint motion tried: True\n",
      "valid transition found: ('floor_ws', 'floor_ws', 'floor_ws', 'floor_ws', 'floor_ws', 'table', 'table', 'table', 1) - ('floor_ws', 'floor_ws', 'floor_ws', 'floor_ws', 'floor_ws', 'table', 'table', 'table', 1)\n",
      "try joint motion\n",
      "joint motion tried: False\n",
      "try joint motion\n",
      "joint motion tried: True\n",
      "valid transition found: ('floor_ws', 'floor_ws', 'floor_ws', 'floor_ws', 'floor_ws', 'table', 'table', 'table', 1) - ('floor_ws', 'floor_ws', 'floor_ws', 'floor_ws', 'floor_ws', 'table', 'table', 'table', 1)\n",
      "try joint motion\n",
      "joint motion tried: False\n",
      "resolve reach from [ 2.01 -0.57 -2.39  0.    0.    0.    2.74  0.88 -0.45 -1.07  1.93  1.74\n",
      " -1.12]\n",
      "home robot ('floor_ws', 'floor_ws', 'floor_ws', 'floor_ws', 'floor_ws', 'table', 'table', 'table', 1)\n",
      "move base ('floor_ws', 'floor_ws', 'floor_ws', 'floor_ws', 'floor_ws', 'table', 'table', 'table', 1)\n",
      "error: 2.5\n",
      "try transition motion\n",
      "transition motion tried: False\n",
      "try joint motion\n",
      "joint motion tried: True\n",
      "valid transition found: ('floor_ws', 'floor_ws', 'floor_ws', 'floor_ws', 'floor_ws', 'table', 'table', 'table', 1) - ('floor_ws', 'floor_ws', 'floor_ws', 'floor_ws', 'floor_ws', 'table', 'table', 'table', 1)\n",
      "try joint motion\n",
      "joint motion tried: False\n",
      "resolve reach from [ 2.01 -0.57 -2.39  0.    0.    0.    2.74  0.88 -0.45 -1.07  1.93  1.74\n",
      " -1.12]\n",
      "home robot ('floor_ws', 'floor_ws', 'floor_ws', 'floor_ws', 'floor_ws', 'table', 'table', 'table', 1)\n",
      "move base ('floor_ws', 'floor_ws', 'floor_ws', 'floor_ws', 'floor_ws', 'table', 'table', 'table', 1)\n",
      "error: 2.8\n",
      "try transition motion\n",
      "transition motion tried: False\n",
      "resolve reach from [ 2.01 -0.57 -2.39  0.    0.    0.    2.74  0.88 -0.45 -1.07  1.93  1.74\n",
      " -1.12]\n",
      "home robot ('floor_ws', 'floor_ws', 'floor_ws', 'floor_ws', 'floor_ws', 'table', 'table', 'table', 1)\n",
      "move base ('floor_ws', 'floor_ws', 'floor_ws', 'floor_ws', 'floor_ws', 'table', 'table', 'table', 1)\n",
      "error: 0.93\n",
      "try transition motion\n",
      "transition motion tried: False\n",
      "try joint motion\n",
      "joint motion tried: True\n",
      "valid transition found: ('floor_ws', 'floor_ws', 'floor_ws', 'floor_ws', 'floor_ws', 'table', 'table', 'table', 1) - ('floor_ws', 'floor_ws', 'floor_ws', 'floor_ws', 'floor_ws', 'table', 'table', 'table', 1)\n",
      "try joint motion\n",
      "joint motion tried: False\n",
      "resolve reach from [ 2.01 -0.57 -2.39  0.    0.    0.    2.74  0.88 -0.45 -1.07  1.93  1.74\n",
      " -1.12]\n",
      "home robot ('floor_ws', 'floor_ws', 'floor_ws', 'floor_ws', 'floor_ws', 'table', 'table', 'table', 1)\n",
      "move base ('floor_ws', 'floor_ws', 'floor_ws', 'floor_ws', 'floor_ws', 'table', 'table', 'table', 1)\n",
      "error: 0.31\n",
      "try transition motion\n",
      "transition motion tried: False\n",
      "try joint motion\n",
      "joint motion tried: True\n",
      "valid transition found: ('floor_ws', 'floor_ws', 'floor_ws', 'floor_ws', 'floor_ws', 'table', 'table', 'table', 1) - ('floor_ws', 'floor_ws', 'floor_ws', 'floor_ws', 'floor_ws', 'table', 'table', 'table', 1)\n",
      "try joint motion\n",
      "joint motion tried: False\n",
      "resolve reach from [ 2.01 -0.57 -2.39  0.    0.    0.    2.74  0.88 -0.45 -1.07  1.93  1.74\n",
      " -1.12]\n",
      "home robot ('floor_ws', 'floor_ws', 'floor_ws', 'floor_ws', 'floor_ws', 'table', 'table', 'table', 1)\n"
     ]
    },
    {
     "name": "stdout",
     "output_type": "stream",
     "text": [
      "move base ('floor_ws', 'floor_ws', 'floor_ws', 'floor_ws', 'floor_ws', 'table', 'table', 'table', 1)\n",
      "error: 2.8\n",
      "try transition motion\n",
      "transition motion tried: False\n",
      "try joint motion\n",
      "joint motion tried: True\n",
      "valid transition found: ('floor_ws', 'floor_ws', 'floor_ws', 'floor_ws', 'floor_ws', 'table', 'table', 'table', 1) - ('floor_ws', 'floor_ws', 'floor_ws', 'floor_ws', 'floor_ws', 'table', 'table', 'table', 1)\n",
      "try joint motion\n",
      "joint motion tried: False\n",
      "try joint motion\n",
      "joint motion tried: True\n",
      "valid transition found: ('floor_ws', 'floor_ws', 'floor_ws', 'floor_ws', 'floor_ws', 'table', 'table', 'table', 0) - ('floor_ws', 'floor_ws', 'floor_ws', 'floor_ws', 'floor_ws', 'table', 'table', 'table', 0)\n",
      "try joint motion\n",
      "joint motion tried: True\n",
      "try joint motion\n",
      "joint motion tried: False\n",
      "resolve reach from [ 2.01 -0.57 -2.39  0.    0.    0.    2.6  -0.4  -0.12 -1.59  0.35  2.03\n",
      "  0.63]\n",
      "home robot ('floor_ws', 'floor_ws', 'floor_ws', 'floor_ws', 'floor_ws', 'table', 'table', 'table', 0)\n",
      "move base ('floor_ws', 'floor_ws', 'floor_ws', 'floor_ws', 'floor_ws', 'table', 'table', 'table', 0)\n",
      "error: 2.8\n",
      "try transition motion\n",
      "transition motion tried: False\n",
      "resolve reach from [ 2.01 -0.57 -2.39  0.    0.    0.    2.74  0.88 -0.45 -1.07  1.93  1.74\n",
      " -1.12]\n",
      "home robot ('floor_ws', 'floor_ws', 'floor_ws', 'floor_ws', 'floor_ws', 'table', 'table', 'table', 1)\n",
      "move base ('floor_ws', 'floor_ws', 'floor_ws', 'floor_ws', 'floor_ws', 'table', 'table', 'table', 1)\n",
      "error: 1.8\n",
      "try transition motion\n",
      "transition motion tried: False\n",
      "try joint motion\n",
      "joint motion tried: True\n",
      "valid transition found: ('floor_ws', 'floor_ws', 'floor_ws', 'floor_ws', 'floor_ws', 'table', 'table', 'table', 1) - ('floor_ws', 'floor_ws', 'floor_ws', 'floor_ws', 'floor_ws', 'table', 'table', 'table', 1)\n",
      "try joint motion\n",
      "joint motion tried: False\n",
      "resolve reach from [ 2.01 -0.57 -2.39  0.    0.    0.    2.6  -0.4  -0.12 -1.59  0.35  2.03\n",
      "  0.63]\n",
      "home robot ('floor_ws', 'floor_ws', 'floor_ws', 'floor_ws', 'floor_ws', 'table', 'table', 'table', 0)\n",
      "move base ('floor_ws', 'floor_ws', 'floor_ws', 'floor_ws', 'floor_ws', 'table', 'table', 'table', 0)\n",
      "error: 1.9\n",
      "try transition motion\n",
      "transition motion tried: False\n",
      "try joint motion\n",
      "joint motion tried: True\n",
      "valid transition found: ('floor_ws', 'floor_ws', 'floor_ws', 'floor_ws', 'floor_ws', 'table', 'table', 'table', 1) - ('floor_ws', 'floor_ws', 'floor_ws', 'floor_ws', 'floor_ws', 'table', 'table', 'table', 1)\n",
      "try joint motion\n",
      "joint motion tried: False\n",
      "resolve reach from [ 2.01 -0.57 -2.39  0.    0.    0.    2.74  0.88 -0.45 -1.07  1.93  1.74\n",
      " -1.12]\n",
      "home robot ('floor_ws', 'floor_ws', 'floor_ws', 'floor_ws', 'floor_ws', 'table', 'table', 'table', 1)\n",
      "move base ('floor_ws', 'floor_ws', 'floor_ws', 'floor_ws', 'floor_ws', 'table', 'table', 'table', 1)\n",
      "error: 2.9\n",
      "try transition motion\n",
      "transition motion tried: False\n",
      "error: 2.1\n",
      "try transition motion\n",
      "transition motion tried: False\n",
      "error: 2.9\n",
      "try transition motion\n",
      "transition motion tried: False\n",
      "try joint motion\n",
      "joint motion tried: True\n",
      "valid transition found: ('floor_ws', 'floor_ws', 'floor_ws', 'floor_ws', 'floor_ws', 'table', 'table', 'table', 0) - ('floor_ws', 'floor_ws', 'floor_ws', 'floor_ws', 'floor_ws', 'table', 'table', 'table', 0)\n",
      "try joint motion\n",
      "joint motion tried: False\n",
      "resolve reach from [ 2.01 -0.57 -2.39  0.    0.    0.    2.6  -0.4  -0.12 -1.59  0.35  2.03\n",
      "  0.63]\n",
      "home robot ('floor_ws', 'floor_ws', 'floor_ws', 'floor_ws', 'floor_ws', 'table', 'table', 'table', 0)\n",
      "move base ('floor_ws', 'floor_ws', 'floor_ws', 'floor_ws', 'floor_ws', 'table', 'table', 'table', 0)\n",
      "error: 2.1\n",
      "try transition motion\n",
      "transition motion tried: False\n",
      "resolve reach from [ 2.01 -0.57 -2.39  0.    0.    0.    2.74  0.88 -0.45 -1.07  1.93  1.74\n",
      " -1.12]\n",
      "home robot ('floor_ws', 'floor_ws', 'floor_ws', 'floor_ws', 'floor_ws', 'table', 'table', 'table', 1)\n",
      "move base ('floor_ws', 'floor_ws', 'floor_ws', 'floor_ws', 'floor_ws', 'table', 'table', 'table', 1)\n",
      "error: 1.5\n",
      "try transition motion\n",
      "transition motion tried: False\n",
      "try joint motion\n",
      "joint motion tried: True\n",
      "valid transition found: ('floor_ws', 'floor_ws', 'floor_ws', 'floor_ws', 'floor_ws', 'table', 'table', 'table', 1) - ('floor_ws', 'floor_ws', 'floor_ws', 'floor_ws', 'floor_ws', 'table', 'table', 'table', 1)\n",
      "try joint motion\n",
      "joint motion tried: False\n",
      "error: 2.0\n",
      "try transition motion\n",
      "transition motion tried: False\n",
      "error: 3.0\n",
      "try transition motion\n",
      "transition motion tried: True\n",
      "error: 3.0\n",
      "try transition motion\n",
      "transition motion tried: False\n",
      "resolve reach from [ 2.01 -0.57 -2.39  0.    0.    0.    2.6  -0.4  -0.12 -1.59  0.35  2.03\n",
      "  0.63]\n",
      "home robot ('floor_ws', 'floor_ws', 'floor_ws', 'floor_ws', 'floor_ws', 'table', 'table', 'table', 0)\n",
      "move base ('floor_ws', 'floor_ws', 'floor_ws', 'floor_ws', 'floor_ws', 'table', 'table', 'table', 0)\n",
      "error: 2.0\n",
      "try transition motion\n",
      "transition motion tried: False\n",
      "try joint motion\n",
      "joint motion tried: True\n",
      "valid transition found: ('floor_ws', 'floor_ws', 'floor_ws', 'floor_ws', 'floor_ws', 'table', 'table', 'table', 0) - ('floor_ws', 'floor_ws', 'floor_ws', 'floor_ws', 'floor_ws', 'table', 'table', 'table', 0)\n",
      "try joint motion\n",
      "joint motion tried: False\n",
      "resolve reach from [ 2.01 -0.57 -2.39  0.    0.    0.    2.74  0.88 -0.45 -1.07  1.93  1.74\n",
      " -1.12]\n",
      "home robot ('floor_ws', 'floor_ws', 'floor_ws', 'floor_ws', 'floor_ws', 'table', 'table', 'table', 1)\n",
      "move base ('floor_ws', 'floor_ws', 'floor_ws', 'floor_ws', 'floor_ws', 'table', 'table', 'table', 1)\n",
      "error: 2.5\n",
      "try transition motion\n",
      "transition motion tried: False\n",
      "try joint motion\n",
      "joint motion tried: True\n",
      "valid transition found: ('floor_ws', 'floor_ws', 'floor_ws', 'floor_ws', 'floor_ws', 'table', 'table', 'table', 1) - ('floor_ws', 'floor_ws', 'floor_ws', 'floor_ws', 'floor_ws', 'table', 'table', 'table', 1)\n",
      "try joint motion\n",
      "joint motion tried: False\n",
      "error: 2.0\n",
      "try transition motion\n",
      "transition motion tried: False\n",
      "error: 2.6\n",
      "try transition motion\n",
      "transition motion tried: True\n",
      "error: 2.6\n",
      "try transition motion\n",
      "transition motion tried: False\n",
      "resolve reach from [ 2.01 -0.57 -2.39  0.    0.    0.    2.6  -0.4  -0.12 -1.59  0.35  2.03\n",
      "  0.63]\n",
      "home robot ('floor_ws', 'floor_ws', 'floor_ws', 'floor_ws', 'floor_ws', 'table', 'table', 'table', 0)\n",
      "move base ('floor_ws', 'floor_ws', 'floor_ws', 'floor_ws', 'floor_ws', 'table', 'table', 'table', 0)\n",
      "error: 2.1\n",
      "try transition motion\n",
      "transition motion tried: False\n",
      "try joint motion\n",
      "joint motion tried: True\n",
      "valid transition found: ('floor_ws', 'floor_ws', 'floor_ws', 'floor_ws', 'floor_ws', 'table', 'table', 'table', 0) - ('floor_ws', 'floor_ws', 'floor_ws', 'floor_ws', 'floor_ws', 'table', 'table', 'table', 0)\n",
      "try joint motion\n",
      "joint motion tried: True\n",
      "valid transition found: ('floor_ws', 'floor_ws', 'floor_ws', 'floor_ws', 'floor_ws', 'table', 'table', 'table', 0) - ('floor_ws', 'floor_ws', 'floor_ws', 'floor_ws', 'floor_ws', 'table', 'table', 'table', 0)\n",
      "error: 2.2\n",
      "try transition motion\n",
      "transition motion tried: True\n",
      "valid transition found: ('floor_ws', 'floor_ws', 'floor_ws', 'floor_ws', 'floor_ws', 'table', 'table', 'table', 0) - ('floor_ws', 'floor_ws', 'floor_ws', 'floor_ws', 'floor_ws', 'table', 'table', 'table', 1)\n",
      "resolve reach from [ 2.4  -0.09 -2.83  0.    0.    0.   -2.09 -0.93 -1.7  -1.93  0.41  1.28\n",
      " -1.13]\n",
      "home robot ('floor_ws', 'floor_ws', 'floor_ws', 'floor_ws', 'floor_ws', 'table', 'table', 'table', 1)\n",
      "move base ('floor_ws', 'floor_ws', 'floor_ws', 'floor_ws', 'floor_ws', 'table', 'table', 'table', 1)\n",
      "error: 1.2\n",
      "try transition motion\n",
      "transition motion tried: False\n",
      "error: 2.6\n",
      "try transition motion\n",
      "transition motion tried: True\n",
      "valid transition found: ('floor_ws', 'floor_ws', 'floor_ws', 'floor_ws', 'floor_ws', 'table', 'table', 'table', 1) - ('floor_ws', 'floor_ws', 'floor_ws', 'floor_ws', 'floor_ws', 'table', 'table', 'table', 2)\n",
      "resolve reach from [ 2.4  -0.09 -2.83  0.    0.    0.   -0.94 -1.04 -1.36 -2.53 -2.39  0.9\n",
      "  2.75]\n",
      "home robot ('floor_ws', 'floor_ws', 'floor_ws', 'floor_ws', 'floor_ws', 'table', 'table', 'table', 2)\n",
      "move base ('floor_ws', 'floor_ws', 'floor_ws', 'floor_ws', 'floor_ws', 'table', 'table', 'table', 2)\n",
      "error: 2.9\n",
      "try transition motion\n",
      "transition motion tried: False\n",
      "resolve reach from [ 2.4  -0.09 -2.83  0.    0.    0.   -0.94 -1.04 -1.36 -2.53 -2.39  0.9\n",
      "  2.75]\n",
      "home robot ('floor_ws', 'floor_ws', 'floor_ws', 'floor_ws', 'floor_ws', 'table', 'table', 'table', 2)\n"
     ]
    },
    {
     "name": "stdout",
     "output_type": "stream",
     "text": [
      "move base ('floor_ws', 'floor_ws', 'floor_ws', 'floor_ws', 'floor_ws', 'table', 'table', 'table', 2)\n",
      "error: 2.9\n",
      "try transition motion\n",
      "transition motion tried: False\n",
      "error: 1.7\n",
      "try transition motion\n",
      "transition motion tried: True\n",
      "error: 1.7\n",
      "try transition motion\n",
      "transition motion tried: True\n",
      "error: 1.7\n",
      "try transition motion\n",
      "transition motion tried: True\n",
      "valid transition found: ('floor_ws', 'floor_ws', 'floor_ws', 'floor_ws', 'floor_ws', 'table', 'table', 'table', 2) - ('floor_ws', 'floor_ws', 'floor_ws', 'floor_ws', 'floor_ws', 'table', 'table', 'table', 3)\n",
      "error: 2.1\n",
      "try transition motion\n",
      "transition motion tried: False\n",
      "error: 1.7\n",
      "try transition motion\n",
      "transition motion tried: True\n",
      "valid transition found: ('floor_ws', 'floor_ws', 'floor_ws', 'floor_ws', 'floor_ws', 'table', 'table', 'table', 3) - ('floor_ws', 'floor_ws', 'floor_ws', 'floor_ws', 'floor_ws', 'table', 'table', 'table', 4)\n",
      "error: 2.8\n",
      "try transition motion\n",
      "transition motion tried: False\n",
      "resolve reach from [ 2.4  -0.09 -2.83  0.    0.    0.    2.21  0.13 -0.43 -2.16  2.32  2.18\n",
      " -1.74]\n",
      "home robot ('floor_ws', 'floor_ws', 'floor_ws', 'floor_ws', 'floor_ws', 'table', 'table', 'table', 4)\n",
      "move base ('floor_ws', 'floor_ws', 'floor_ws', 'floor_ws', 'floor_ws', 'table', 'table', 'table', 4)\n",
      "error: 2.8\n",
      "try transition motion\n",
      "transition motion tried: False\n",
      "error: 1.7\n",
      "try transition motion\n",
      "transition motion tried: True\n",
      "error: 1.7\n",
      "try transition motion\n",
      "transition motion tried: True\n",
      "error: 1.7\n",
      "try transition motion\n",
      "transition motion tried: True\n",
      "valid transition found: ('floor_ws', 'floor_ws', 'floor_ws', 'floor_ws', 'floor_ws', 'table', 'table', 'table', 4) - ('floor_ws', 'floor_ws', 'floor_ws', 'floor_ws', 'floor_ws', 'table', 'table', 'table', 5)\n",
      "resolve reach from [ 2.4  -0.09 -2.83  0.    0.    0.    2.68  0.43 -0.16 -1.72  1.9   1.97\n",
      " -1.4 ]\n",
      "home robot ('floor_ws', 'floor_ws', 'floor_ws', 'floor_ws', 'floor_ws', 'table', 'table', 'table', 3)\n",
      "move base ('floor_ws', 'floor_ws', 'floor_ws', 'floor_ws', 'floor_ws', 'table', 'table', 'table', 3)\n",
      "error: 1.7\n",
      "try transition motion\n",
      "transition motion tried: False\n",
      "try joint motion\n",
      "joint motion tried: True\n",
      "valid transition found: ('floor_ws', 'floor_ws', 'floor_ws', 'floor_ws', 'floor_ws', 'table', 'table', 'table', 4) - ('floor_ws', 'floor_ws', 'floor_ws', 'floor_ws', 'floor_ws', 'table', 'table', 'table', 4)\n",
      "try joint motion\n",
      "joint motion tried: False\n",
      "resolve reach from [ 2.4  -0.09 -2.83  0.    0.    0.    2.21  0.13 -0.43 -2.16  2.32  2.18\n",
      " -1.74]\n",
      "home robot ('floor_ws', 'floor_ws', 'floor_ws', 'floor_ws', 'floor_ws', 'table', 'table', 'table', 4)\n",
      "move base ('floor_ws', 'floor_ws', 'floor_ws', 'floor_ws', 'floor_ws', 'table', 'table', 'table', 4)\n",
      "error: 2.8\n",
      "try transition motion\n",
      "transition motion tried: False\n",
      "try joint motion\n",
      "joint motion tried: True\n",
      "valid transition found: ('floor_ws', 'floor_ws', 'floor_ws', 'floor_ws', 'floor_ws', 'table', 'table', 'table', 2) - ('floor_ws', 'floor_ws', 'floor_ws', 'floor_ws', 'floor_ws', 'table', 'table', 'table', 2)\n",
      "try joint motion\n",
      "joint motion tried: False\n",
      "resolve reach from [ 2.4  -0.09 -2.83  0.    0.    0.    2.68  0.43 -0.16 -1.72  1.9   1.97\n",
      " -1.4 ]\n",
      "home robot ('floor_ws', 'floor_ws', 'floor_ws', 'floor_ws', 'floor_ws', 'table', 'table', 'table', 3)\n",
      "move base ('floor_ws', 'floor_ws', 'floor_ws', 'floor_ws', 'floor_ws', 'table', 'table', 'table', 3)\n",
      "error: 2.7\n",
      "try transition motion\n",
      "transition motion tried: False\n",
      "resolve reach from [ 2.4  -0.09 -2.83  0.    0.    0.    2.21  0.13 -0.43 -2.16  2.32  2.18\n",
      " -1.74]\n",
      "home robot ('floor_ws', 'floor_ws', 'floor_ws', 'floor_ws', 'floor_ws', 'table', 'table', 'table', 4)\n",
      "move base ('floor_ws', 'floor_ws', 'floor_ws', 'floor_ws', 'floor_ws', 'table', 'table', 'table', 4)\n",
      "error: 2.8\n",
      "try transition motion\n",
      "transition motion tried: False\n",
      "error: 1.1\n",
      "try transition motion\n",
      "transition motion tried: True\n",
      "valid transition found: ('floor_ws', 'floor_ws', 'floor_ws', 'floor_ws', 'floor_ws', 'table', 'table', 'table', 4) - ('floor_ws', 'floor_ws', 'floor_ws', 'floor_ws', 'floor_ws', 'table', 'table', 'table', 5)\n",
      "=========================================================================================================\n",
      "======================= terminated 0: required answers acquired  (142.8/200.0) ===============================\n",
      "=========================================================================================================\n",
      "========================== FINISHED (142.8 / 200.0 s) ==============================]\n"
     ]
    }
   ],
   "source": [
    "inc.prepare()\n",
    "from_state = initial_state.copy(pscene)\n",
    "goal_nodes = [initial_state.node[:-1]+(waypoint_s.action_point_len,)]\n",
    "\n",
    "inc.search(from_state, goal_nodes, max_solution_count=1,\n",
    "           verbose=True, display=True, dt_vis=0.001, \n",
    "           timeout=1.0, timeout_loop=200, \n",
    "           multiprocess=False, add_homing=False)"
   ]
  },
  {
   "cell_type": "code",
   "execution_count": null,
   "metadata": {},
   "outputs": [],
   "source": []
  },
  {
   "cell_type": "markdown",
   "metadata": {},
   "source": [
    "### Get snode schedule"
   ]
  },
  {
   "cell_type": "code",
   "execution_count": 72,
   "metadata": {},
   "outputs": [
    {
     "name": "stdout",
     "output_type": "stream",
     "text": [
      "Goal reached\n"
     ]
    }
   ],
   "source": [
    "return_state = initial_state.copy(pscene)\n",
    "return_state.Q = np.array(list(snode_schedule[-1].state.Q[:6]) + list(crob.home_pose[6:]))\n",
    "snode_schedule = inc.get_best_schedule(at_home=False)\n",
    "snode_schedule += inc.add_return_motion(snode_schedule[-1], initial_state=return_state)"
   ]
  },
  {
   "cell_type": "code",
   "execution_count": null,
   "metadata": {},
   "outputs": [],
   "source": []
  },
  {
   "cell_type": "markdown",
   "metadata": {},
   "source": [
    "### play schedule"
   ]
  },
  {
   "cell_type": "code",
   "execution_count": 73,
   "metadata": {},
   "outputs": [],
   "source": [
    "pscene.set_object_state(initial_state)\n",
    "gscene.show_pose(initial_state.Q)"
   ]
  },
  {
   "cell_type": "code",
   "execution_count": 74,
   "metadata": {},
   "outputs": [
    {
     "data": {
      "text/plain": [
       "9"
      ]
     },
     "execution_count": 74,
     "metadata": {},
     "output_type": "execute_result"
    }
   ],
   "source": [
    "len(snode_schedule)"
   ]
  },
  {
   "cell_type": "code",
   "execution_count": 75,
   "metadata": {
    "scrolled": true
   },
   "outputs": [
    {
     "name": "stdout",
     "output_type": "stream",
     "text": [
      "('floor_ws', 'floor_ws', 'floor_ws', 'floor_ws', 'floor_ws', 'table', 'table', 'table', 0)->('floor_ws', 'floor_ws', 'floor_ws', 'floor_ws', 'floor_ws', 'table', 'table', 'table', 0)\n",
      "('floor_ws', 'floor_ws', 'floor_ws', 'floor_ws', 'floor_ws', 'table', 'table', 'table', 0)->('floor_ws', 'floor_ws', 'floor_ws', 'floor_ws', 'floor_ws', 'table', 'table', 'table', 0)\n",
      "('floor_ws', 'floor_ws', 'floor_ws', 'floor_ws', 'floor_ws', 'table', 'table', 'table', 0)->('floor_ws', 'floor_ws', 'floor_ws', 'floor_ws', 'floor_ws', 'table', 'table', 'table', 1)\n",
      "('floor_ws', 'floor_ws', 'floor_ws', 'floor_ws', 'floor_ws', 'table', 'table', 'table', 1)->('floor_ws', 'floor_ws', 'floor_ws', 'floor_ws', 'floor_ws', 'table', 'table', 'table', 2)\n",
      "('floor_ws', 'floor_ws', 'floor_ws', 'floor_ws', 'floor_ws', 'table', 'table', 'table', 2)->('floor_ws', 'floor_ws', 'floor_ws', 'floor_ws', 'floor_ws', 'table', 'table', 'table', 3)\n",
      "('floor_ws', 'floor_ws', 'floor_ws', 'floor_ws', 'floor_ws', 'table', 'table', 'table', 3)->('floor_ws', 'floor_ws', 'floor_ws', 'floor_ws', 'floor_ws', 'table', 'table', 'table', 4)\n",
      "('floor_ws', 'floor_ws', 'floor_ws', 'floor_ws', 'floor_ws', 'table', 'table', 'table', 4)->('floor_ws', 'floor_ws', 'floor_ws', 'floor_ws', 'floor_ws', 'table', 'table', 'table', 5)\n",
      "('floor_ws', 'floor_ws', 'floor_ws', 'floor_ws', 'floor_ws', 'table', 'table', 'table', 5)->('floor_ws', 'floor_ws', 'floor_ws', 'floor_ws', 'floor_ws', 'table', 'table', 'table', 5)\n"
     ]
    }
   ],
   "source": [
    "inc.play_schedule(snode_schedule, period=0.005)\n",
    "pscene.set_object_state(snode_schedule[-1].state)"
   ]
  },
  {
   "cell_type": "code",
   "execution_count": 81,
   "metadata": {},
   "outputs": [],
   "source": [
    "vel_lims, acc_lims, dt_step = 0.5, 0.5, 0.02\n",
    "snode_schedule_safe = [snode_schedule[0].copy(pscene)]\n",
    "for snode, snode_pre in zip(snode_schedule[1:], snode_schedule[:-1]):\n",
    "    snames, _ = pscene.get_changing_subjects(snode.state, snode_pre.state)\n",
    "    if len(snames) > 1:\n",
    "        raise(RuntimeError(\"More than 1 subject change - {}\".format(snames)))\n",
    "    if len(snames) == 1:\n",
    "        subject = pscene.subject_dict[snames[0]]\n",
    "    else:\n",
    "        subject = None\n",
    "    if isinstance(subject, PushObject):\n",
    "        snode_cp = snode.copy(pscene)\n",
    "        snode_schedule_safe.append(snode_cp)\n",
    "    else:\n",
    "        snode_cp = snode.copy(pscene)\n",
    "        traj_simp = simplify_traj(snode.traj)\n",
    "        snode_cp.set_traj(\n",
    "            calc_safe_trajectory(\n",
    "                dt_step, traj_simp, vel_lims=vel_lims, acc_lims=acc_lims)[1])\n",
    "        snode_schedule_safe.append(snode_cp)"
   ]
  },
  {
   "cell_type": "code",
   "execution_count": 83,
   "metadata": {
    "scrolled": true
   },
   "outputs": [
    {
     "data": {
      "text/plain": [
       "True"
      ]
     },
     "execution_count": 83,
     "metadata": {},
     "output_type": "execute_result"
    }
   ],
   "source": [
    "inc.execute_schedule(snode_schedule_safe, one_by_one=True)"
   ]
  },
  {
   "cell_type": "code",
   "execution_count": null,
   "metadata": {},
   "outputs": [],
   "source": []
  },
  {
   "cell_type": "code",
   "execution_count": 86,
   "metadata": {},
   "outputs": [
    {
     "name": "stdout",
     "output_type": "stream",
     "text": [
      "\n"
     ]
    },
    {
     "data": {
      "text/plain": [
       "''"
      ]
     },
     "execution_count": 86,
     "metadata": {},
     "output_type": "execute_result"
    }
   ],
   "source": [
    "raw_input()"
   ]
  },
  {
   "cell_type": "code",
   "execution_count": 84,
   "metadata": {},
   "outputs": [],
   "source": [
    "pmb0 = crob.robot_dict[\"pmb0\"]"
   ]
  },
  {
   "cell_type": "code",
   "execution_count": 85,
   "metadata": {},
   "outputs": [],
   "source": [
    "pmb0.joint_move_make_sure([0]*6)"
   ]
  },
  {
   "cell_type": "code",
   "execution_count": null,
   "metadata": {},
   "outputs": [],
   "source": [
    "crob.joint_move_make_sure(crob.home_pose)"
   ]
  },
  {
   "cell_type": "markdown",
   "metadata": {},
   "source": [
    "### Drawing node graph"
   ]
  },
  {
   "cell_type": "code",
   "execution_count": 302,
   "metadata": {},
   "outputs": [
    {
     "data": {
      "image/svg+xml": [
       "<?xml version=\"1.0\" encoding=\"UTF-8\" standalone=\"no\"?>\n",
       "<!DOCTYPE svg PUBLIC \"-//W3C//DTD SVG 1.1//EN\"\n",
       " \"http://www.w3.org/Graphics/SVG/1.1/DTD/svg11.dtd\">\n",
       "<!-- Generated by graphviz version 2.40.1 (20161225.0304)\n",
       " -->\n",
       "<!-- Title: G Pages: 1 -->\n",
       "<svg width=\"1312pt\" height=\"188pt\"\n",
       " viewBox=\"0.00 0.00 1311.59 188.00\" xmlns=\"http://www.w3.org/2000/svg\" xmlns:xlink=\"http://www.w3.org/1999/xlink\">\n",
       "<g id=\"graph0\" class=\"graph\" transform=\"scale(1 1) rotate(0) translate(4 184)\">\n",
       "<title>G</title>\n",
       "<polygon fill=\"#ffffff\" stroke=\"transparent\" points=\"-4,4 -4,-184 1307.5859,-184 1307.5859,4 -4,4\"/>\n",
       "<!-- (&#39;f&#39;, &#39;f&#39;, &#39;f&#39;, &#39;m&#39;, &#39;f&#39;, 0) -->\n",
       "<g id=\"node1\" class=\"node\">\n",
       "<title>(&#39;f&#39;, &#39;f&#39;, &#39;f&#39;, &#39;m&#39;, &#39;f&#39;, 0)</title>\n",
       "<ellipse fill=\"none\" stroke=\"#000000\" cx=\"959.293\" cy=\"-162\" rx=\"79.0865\" ry=\"18\"/>\n",
       "<text text-anchor=\"middle\" x=\"959.293\" y=\"-158.3\" font-family=\"Times,serif\" font-size=\"14.00\" fill=\"#000000\">(&#39;f&#39;, &#39;f&#39;, &#39;f&#39;, &#39;m&#39;, &#39;f&#39;, 0)</text>\n",
       "</g>\n",
       "<!-- (&#39;f&#39;, &#39;f&#39;, &#39;f&#39;, &#39;f&#39;, &#39;f&#39;, 0) -->\n",
       "<g id=\"node2\" class=\"node\">\n",
       "<title>(&#39;f&#39;, &#39;f&#39;, &#39;f&#39;, &#39;f&#39;, &#39;f&#39;, 0)</title>\n",
       "<ellipse fill=\"none\" stroke=\"#000000\" cx=\"959.293\" cy=\"-90\" rx=\"74.9875\" ry=\"18\"/>\n",
       "<text text-anchor=\"middle\" x=\"959.293\" y=\"-86.3\" font-family=\"Times,serif\" font-size=\"14.00\" fill=\"#000000\">(&#39;f&#39;, &#39;f&#39;, &#39;f&#39;, &#39;f&#39;, &#39;f&#39;, 0)</text>\n",
       "</g>\n",
       "<!-- (&#39;f&#39;, &#39;f&#39;, &#39;f&#39;, &#39;m&#39;, &#39;f&#39;, 0)&#45;&gt;(&#39;f&#39;, &#39;f&#39;, &#39;f&#39;, &#39;f&#39;, &#39;f&#39;, 0) -->\n",
       "<g id=\"edge1\" class=\"edge\">\n",
       "<title>(&#39;f&#39;, &#39;f&#39;, &#39;f&#39;, &#39;m&#39;, &#39;f&#39;, 0)&#45;&gt;(&#39;f&#39;, &#39;f&#39;, &#39;f&#39;, &#39;f&#39;, &#39;f&#39;, 0)</title>\n",
       "<path fill=\"none\" stroke=\"#000000\" d=\"M953.3406,-143.8314C952.5901,-136.131 952.3692,-126.9743 952.6779,-118.4166\"/>\n",
       "<polygon fill=\"#000000\" stroke=\"#000000\" points=\"956.1722,-118.6161 953.317,-108.4133 949.1864,-118.1697 956.1722,-118.6161\"/>\n",
       "</g>\n",
       "<!-- (&#39;f&#39;, &#39;f&#39;, &#39;f&#39;, &#39;f&#39;, &#39;f&#39;, 0)&#45;&gt;(&#39;f&#39;, &#39;f&#39;, &#39;f&#39;, &#39;m&#39;, &#39;f&#39;, 0) -->\n",
       "<g id=\"edge4\" class=\"edge\">\n",
       "<title>(&#39;f&#39;, &#39;f&#39;, &#39;f&#39;, &#39;f&#39;, &#39;f&#39;, 0)&#45;&gt;(&#39;f&#39;, &#39;f&#39;, &#39;f&#39;, &#39;m&#39;, &#39;f&#39;, 0)</title>\n",
       "<path fill=\"none\" stroke=\"#000000\" d=\"M965.269,-108.4133C966.0001,-116.0593 966.2132,-125.1084 965.9084,-133.5726\"/>\n",
       "<polygon fill=\"#000000\" stroke=\"#000000\" points=\"962.3977,-133.6264 965.2454,-143.8314 969.3832,-134.078 962.3977,-133.6264\"/>\n",
       "</g>\n",
       "<!-- (&#39;f&#39;, &#39;f&#39;, &#39;f&#39;, &#39;f&#39;, &#39;f&#39;, 1) -->\n",
       "<g id=\"node4\" class=\"node\">\n",
       "<title>(&#39;f&#39;, &#39;f&#39;, &#39;f&#39;, &#39;f&#39;, &#39;f&#39;, 1)</title>\n",
       "<ellipse fill=\"none\" stroke=\"#000000\" cx=\"521.293\" cy=\"-18\" rx=\"74.9875\" ry=\"18\"/>\n",
       "<text text-anchor=\"middle\" x=\"521.293\" y=\"-14.3\" font-family=\"Times,serif\" font-size=\"14.00\" fill=\"#000000\">(&#39;f&#39;, &#39;f&#39;, &#39;f&#39;, &#39;f&#39;, &#39;f&#39;, 1)</text>\n",
       "</g>\n",
       "<!-- (&#39;f&#39;, &#39;f&#39;, &#39;f&#39;, &#39;f&#39;, &#39;f&#39;, 0)&#45;&gt;(&#39;f&#39;, &#39;f&#39;, &#39;f&#39;, &#39;f&#39;, &#39;f&#39;, 1) -->\n",
       "<g id=\"edge8\" class=\"edge\">\n",
       "<title>(&#39;f&#39;, &#39;f&#39;, &#39;f&#39;, &#39;f&#39;, &#39;f&#39;, 0)&#45;&gt;(&#39;f&#39;, &#39;f&#39;, &#39;f&#39;, &#39;f&#39;, &#39;f&#39;, 1)</title>\n",
       "<path fill=\"none\" stroke=\"#000000\" d=\"M904.7399,-77.66C894.9611,-75.6338 884.8446,-73.6575 875.293,-72 756.0137,-51.301 724.5723,-56.699 605.293,-36 599.0247,-34.9122 592.5132,-33.6872 586.0135,-32.4009\"/>\n",
       "<polygon fill=\"#000000\" stroke=\"#000000\" points=\"586.3421,-28.8964 575.846,-30.34 584.9514,-35.7569 586.3421,-28.8964\"/>\n",
       "</g>\n",
       "<!-- (&#39;f&#39;, &#39;m&#39;, &#39;f&#39;, &#39;f&#39;, &#39;f&#39;, 0) -->\n",
       "<g id=\"node5\" class=\"node\">\n",
       "<title>(&#39;f&#39;, &#39;m&#39;, &#39;f&#39;, &#39;f&#39;, &#39;f&#39;, 0)</title>\n",
       "<ellipse fill=\"none\" stroke=\"#000000\" cx=\"693.293\" cy=\"-18\" rx=\"79.0865\" ry=\"18\"/>\n",
       "<text text-anchor=\"middle\" x=\"693.293\" y=\"-14.3\" font-family=\"Times,serif\" font-size=\"14.00\" fill=\"#000000\">(&#39;f&#39;, &#39;m&#39;, &#39;f&#39;, &#39;f&#39;, &#39;f&#39;, 0)</text>\n",
       "</g>\n",
       "<!-- (&#39;f&#39;, &#39;f&#39;, &#39;f&#39;, &#39;f&#39;, &#39;f&#39;, 0)&#45;&gt;(&#39;f&#39;, &#39;m&#39;, &#39;f&#39;, &#39;f&#39;, &#39;f&#39;, 0) -->\n",
       "<g id=\"edge3\" class=\"edge\">\n",
       "<title>(&#39;f&#39;, &#39;f&#39;, &#39;f&#39;, &#39;f&#39;, &#39;f&#39;, 0)&#45;&gt;(&#39;f&#39;, &#39;m&#39;, &#39;f&#39;, &#39;f&#39;, &#39;f&#39;, 0)</title>\n",
       "<path fill=\"none\" stroke=\"#000000\" d=\"M906.4216,-77.1278C861.554,-65.4459 797.3979,-48.1294 751.17,-35.2521\"/>\n",
       "<polygon fill=\"#000000\" stroke=\"#000000\" points=\"751.8714,-31.814 741.2983,-32.4931 749.9871,-38.5557 751.8714,-31.814\"/>\n",
       "</g>\n",
       "<!-- (&#39;f&#39;, &#39;f&#39;, &#39;f&#39;, &#39;f&#39;, &#39;m&#39;, 0) -->\n",
       "<g id=\"node6\" class=\"node\">\n",
       "<title>(&#39;f&#39;, &#39;f&#39;, &#39;f&#39;, &#39;f&#39;, &#39;m&#39;, 0)</title>\n",
       "<ellipse fill=\"none\" stroke=\"#000000\" cx=\"870.293\" cy=\"-18\" rx=\"79.0865\" ry=\"18\"/>\n",
       "<text text-anchor=\"middle\" x=\"870.293\" y=\"-14.3\" font-family=\"Times,serif\" font-size=\"14.00\" fill=\"#000000\">(&#39;f&#39;, &#39;f&#39;, &#39;f&#39;, &#39;f&#39;, &#39;m&#39;, 0)</text>\n",
       "</g>\n",
       "<!-- (&#39;f&#39;, &#39;f&#39;, &#39;f&#39;, &#39;f&#39;, &#39;f&#39;, 0)&#45;&gt;(&#39;f&#39;, &#39;f&#39;, &#39;f&#39;, &#39;f&#39;, &#39;m&#39;, 0) -->\n",
       "<g id=\"edge5\" class=\"edge\">\n",
       "<title>(&#39;f&#39;, &#39;f&#39;, &#39;f&#39;, &#39;f&#39;, &#39;f&#39;, 0)&#45;&gt;(&#39;f&#39;, &#39;f&#39;, &#39;f&#39;, &#39;f&#39;, &#39;m&#39;, 0)</title>\n",
       "<path fill=\"none\" stroke=\"#000000\" d=\"M932.3613,-72.937C920.1167,-63.8144 905.8408,-52.4237 894.006,-42.3833\"/>\n",
       "<polygon fill=\"#000000\" stroke=\"#000000\" points=\"896.1138,-39.5791 886.2576,-35.6924 891.5388,-44.8772 896.1138,-39.5791\"/>\n",
       "</g>\n",
       "<!-- (&#39;f&#39;, &#39;f&#39;, &#39;m&#39;, &#39;f&#39;, &#39;f&#39;, 0) -->\n",
       "<g id=\"node7\" class=\"node\">\n",
       "<title>(&#39;f&#39;, &#39;f&#39;, &#39;m&#39;, &#39;f&#39;, &#39;f&#39;, 0)</title>\n",
       "<ellipse fill=\"none\" stroke=\"#000000\" cx=\"1047.293\" cy=\"-18\" rx=\"79.0865\" ry=\"18\"/>\n",
       "<text text-anchor=\"middle\" x=\"1047.293\" y=\"-14.3\" font-family=\"Times,serif\" font-size=\"14.00\" fill=\"#000000\">(&#39;f&#39;, &#39;f&#39;, &#39;m&#39;, &#39;f&#39;, &#39;f&#39;, 0)</text>\n",
       "</g>\n",
       "<!-- (&#39;f&#39;, &#39;f&#39;, &#39;f&#39;, &#39;f&#39;, &#39;f&#39;, 0)&#45;&gt;(&#39;f&#39;, &#39;f&#39;, &#39;m&#39;, &#39;f&#39;, &#39;f&#39;, 0) -->\n",
       "<g id=\"edge6\" class=\"edge\">\n",
       "<title>(&#39;f&#39;, &#39;f&#39;, &#39;f&#39;, &#39;f&#39;, &#39;f&#39;, 0)&#45;&gt;(&#39;f&#39;, &#39;f&#39;, &#39;m&#39;, &#39;f&#39;, &#39;f&#39;, 0)</title>\n",
       "<path fill=\"none\" stroke=\"#000000\" d=\"M975.1301,-72.2022C985.5547,-62.9106 999.443,-51.4237 1012.2998,-41.4194\"/>\n",
       "<polygon fill=\"#000000\" stroke=\"#000000\" points=\"1014.7428,-43.9569 1020.5528,-35.0972 1010.4859,-38.4 1014.7428,-43.9569\"/>\n",
       "</g>\n",
       "<!-- (&#39;m&#39;, &#39;f&#39;, &#39;f&#39;, &#39;f&#39;, &#39;f&#39;, 0) -->\n",
       "<g id=\"node8\" class=\"node\">\n",
       "<title>(&#39;m&#39;, &#39;f&#39;, &#39;f&#39;, &#39;f&#39;, &#39;f&#39;, 0)</title>\n",
       "<ellipse fill=\"none\" stroke=\"#000000\" cx=\"1224.293\" cy=\"-18\" rx=\"79.0865\" ry=\"18\"/>\n",
       "<text text-anchor=\"middle\" x=\"1224.293\" y=\"-14.3\" font-family=\"Times,serif\" font-size=\"14.00\" fill=\"#000000\">(&#39;m&#39;, &#39;f&#39;, &#39;f&#39;, &#39;f&#39;, &#39;f&#39;, 0)</text>\n",
       "</g>\n",
       "<!-- (&#39;f&#39;, &#39;f&#39;, &#39;f&#39;, &#39;f&#39;, &#39;f&#39;, 0)&#45;&gt;(&#39;m&#39;, &#39;f&#39;, &#39;f&#39;, &#39;f&#39;, &#39;f&#39;, 0) -->\n",
       "<g id=\"edge7\" class=\"edge\">\n",
       "<title>(&#39;f&#39;, &#39;f&#39;, &#39;f&#39;, &#39;f&#39;, &#39;f&#39;, 0)&#45;&gt;(&#39;m&#39;, &#39;f&#39;, &#39;f&#39;, &#39;f&#39;, &#39;f&#39;, 0)</title>\n",
       "<path fill=\"none\" stroke=\"#000000\" d=\"M1005.8399,-75.861C1048.706,-63.779 1112.5625,-46.41 1160.2205,-33.8581\"/>\n",
       "<polygon fill=\"#000000\" stroke=\"#000000\" points=\"1161.3474,-37.1809 1170.1309,-31.2564 1159.5699,-30.4103 1161.3474,-37.1809\"/>\n",
       "</g>\n",
       "<!-- (&#39;f&#39;, &#39;m&#39;, &#39;f&#39;, &#39;f&#39;, &#39;f&#39;, 1) -->\n",
       "<g id=\"node3\" class=\"node\">\n",
       "<title>(&#39;f&#39;, &#39;m&#39;, &#39;f&#39;, &#39;f&#39;, &#39;f&#39;, 1)</title>\n",
       "<ellipse fill=\"none\" stroke=\"#000000\" cx=\"79.293\" cy=\"-90\" rx=\"79.0865\" ry=\"18\"/>\n",
       "<text text-anchor=\"middle\" x=\"79.293\" y=\"-86.3\" font-family=\"Times,serif\" font-size=\"14.00\" fill=\"#000000\">(&#39;f&#39;, &#39;m&#39;, &#39;f&#39;, &#39;f&#39;, &#39;f&#39;, 1)</text>\n",
       "</g>\n",
       "<!-- (&#39;f&#39;, &#39;m&#39;, &#39;f&#39;, &#39;f&#39;, &#39;f&#39;, 1)&#45;&gt;(&#39;f&#39;, &#39;f&#39;, &#39;f&#39;, &#39;f&#39;, &#39;f&#39;, 1) -->\n",
       "<g id=\"edge2\" class=\"edge\">\n",
       "<title>(&#39;f&#39;, &#39;m&#39;, &#39;f&#39;, &#39;f&#39;, &#39;f&#39;, 1)&#45;&gt;(&#39;f&#39;, &#39;f&#39;, &#39;f&#39;, &#39;f&#39;, &#39;f&#39;, 1)</title>\n",
       "<path fill=\"none\" stroke=\"#000000\" d=\"M137.6234,-77.7881C147.8297,-75.77 158.3591,-73.7633 168.293,-72 263.8569,-55.0368 374.5506,-38.6264 446.132,-28.4363\"/>\n",
       "<polygon fill=\"#000000\" stroke=\"#000000\" points=\"446.994,-31.8492 456.403,-26.9787 446.0104,-24.9186 446.994,-31.8492\"/>\n",
       "</g>\n",
       "<!-- (&#39;f&#39;, &#39;m&#39;, &#39;f&#39;, &#39;f&#39;, &#39;f&#39;, 0)&#45;&gt;(&#39;f&#39;, &#39;f&#39;, &#39;f&#39;, &#39;f&#39;, &#39;f&#39;, 0) -->\n",
       "<g id=\"edge9\" class=\"edge\">\n",
       "<title>(&#39;f&#39;, &#39;m&#39;, &#39;f&#39;, &#39;f&#39;, &#39;f&#39;, 0)&#45;&gt;(&#39;f&#39;, &#39;f&#39;, &#39;f&#39;, &#39;f&#39;, &#39;f&#39;, 0)</title>\n",
       "<path fill=\"none\" stroke=\"#000000\" d=\"M747.6391,-31.2564C792.8738,-43.0472 856.9501,-60.3507 902.7725,-73.126\"/>\n",
       "<polygon fill=\"#000000\" stroke=\"#000000\" points=\"901.9765,-76.5376 912.5497,-75.861 903.8623,-69.7964 901.9765,-76.5376\"/>\n",
       "</g>\n",
       "<!-- (&#39;f&#39;, &#39;f&#39;, &#39;f&#39;, &#39;f&#39;, &#39;m&#39;, 0)&#45;&gt;(&#39;f&#39;, &#39;f&#39;, &#39;f&#39;, &#39;f&#39;, &#39;f&#39;, 0) -->\n",
       "<g id=\"edge13\" class=\"edge\">\n",
       "<title>(&#39;f&#39;, &#39;f&#39;, &#39;f&#39;, &#39;f&#39;, &#39;m&#39;, 0)&#45;&gt;(&#39;f&#39;, &#39;f&#39;, &#39;f&#39;, &#39;f&#39;, &#39;f&#39;, 0)</title>\n",
       "<path fill=\"none\" stroke=\"#000000\" d=\"M897.2706,-35.0972C909.4699,-44.1881 923.6785,-55.5239 935.4785,-65.5307\"/>\n",
       "<polygon fill=\"#000000\" stroke=\"#000000\" points=\"933.3515,-68.3182 943.2087,-72.2022 937.925,-63.0189 933.3515,-68.3182\"/>\n",
       "</g>\n",
       "<!-- (&#39;f&#39;, &#39;f&#39;, &#39;m&#39;, &#39;f&#39;, &#39;f&#39;, 0)&#45;&gt;(&#39;f&#39;, &#39;f&#39;, &#39;f&#39;, &#39;f&#39;, &#39;f&#39;, 0) -->\n",
       "<g id=\"edge14\" class=\"edge\">\n",
       "<title>(&#39;f&#39;, &#39;f&#39;, &#39;m&#39;, &#39;f&#39;, &#39;f&#39;, 0)&#45;&gt;(&#39;f&#39;, &#39;f&#39;, &#39;f&#39;, &#39;f&#39;, &#39;f&#39;, 0)</title>\n",
       "<path fill=\"none\" stroke=\"#000000\" d=\"M1031.574,-35.6924C1021.1328,-45.0056 1007.1821,-56.5463 994.273,-66.5908\"/>\n",
       "<polygon fill=\"#000000\" stroke=\"#000000\" points=\"991.7982,-64.0776 985.9877,-72.937 996.0547,-69.6348 991.7982,-64.0776\"/>\n",
       "</g>\n",
       "<!-- (&#39;m&#39;, &#39;f&#39;, &#39;f&#39;, &#39;f&#39;, &#39;f&#39;, 0)&#45;&gt;(&#39;f&#39;, &#39;f&#39;, &#39;f&#39;, &#39;f&#39;, &#39;f&#39;, 0) -->\n",
       "<g id=\"edge15\" class=\"edge\">\n",
       "<title>(&#39;m&#39;, &#39;f&#39;, &#39;f&#39;, &#39;f&#39;, &#39;f&#39;, 0)&#45;&gt;(&#39;f&#39;, &#39;f&#39;, &#39;f&#39;, &#39;f&#39;, &#39;f&#39;, 0)</title>\n",
       "<path fill=\"none\" stroke=\"#000000\" d=\"M1176.4889,-32.4931C1133.1708,-44.6903 1069.1792,-62.0875 1021.8245,-74.5476\"/>\n",
       "<polygon fill=\"#000000\" stroke=\"#000000\" points=\"1020.7706,-71.2056 1011.9855,-77.1278 1022.5463,-77.9766 1020.7706,-71.2056\"/>\n",
       "</g>\n",
       "<!-- (&#39;f&#39;, &#39;f&#39;, &#39;f&#39;, &#39;f&#39;, &#39;m&#39;, 1) -->\n",
       "<g id=\"node9\" class=\"node\">\n",
       "<title>(&#39;f&#39;, &#39;f&#39;, &#39;f&#39;, &#39;f&#39;, &#39;m&#39;, 1)</title>\n",
       "<ellipse fill=\"none\" stroke=\"#000000\" cx=\"256.293\" cy=\"-90\" rx=\"79.0865\" ry=\"18\"/>\n",
       "<text text-anchor=\"middle\" x=\"256.293\" y=\"-86.3\" font-family=\"Times,serif\" font-size=\"14.00\" fill=\"#000000\">(&#39;f&#39;, &#39;f&#39;, &#39;f&#39;, &#39;f&#39;, &#39;m&#39;, 1)</text>\n",
       "</g>\n",
       "<!-- (&#39;f&#39;, &#39;f&#39;, &#39;f&#39;, &#39;f&#39;, &#39;m&#39;, 1)&#45;&gt;(&#39;f&#39;, &#39;f&#39;, &#39;f&#39;, &#39;f&#39;, &#39;f&#39;, 1) -->\n",
       "<g id=\"edge10\" class=\"edge\">\n",
       "<title>(&#39;f&#39;, &#39;f&#39;, &#39;f&#39;, &#39;f&#39;, &#39;m&#39;, 1)&#45;&gt;(&#39;f&#39;, &#39;f&#39;, &#39;f&#39;, &#39;f&#39;, &#39;f&#39;, 1)</title>\n",
       "<path fill=\"none\" stroke=\"#000000\" d=\"M307.3876,-76.1177C351.5257,-64.1255 415.3407,-46.787 461.7751,-34.1709\"/>\n",
       "<polygon fill=\"#000000\" stroke=\"#000000\" points=\"462.9687,-37.4736 471.7011,-31.474 461.1333,-30.7185 462.9687,-37.4736\"/>\n",
       "</g>\n",
       "<!-- (&#39;f&#39;, &#39;f&#39;, &#39;m&#39;, &#39;f&#39;, &#39;f&#39;, 1) -->\n",
       "<g id=\"node10\" class=\"node\">\n",
       "<title>(&#39;f&#39;, &#39;f&#39;, &#39;m&#39;, &#39;f&#39;, &#39;f&#39;, 1)</title>\n",
       "<ellipse fill=\"none\" stroke=\"#000000\" cx=\"433.293\" cy=\"-90\" rx=\"79.0865\" ry=\"18\"/>\n",
       "<text text-anchor=\"middle\" x=\"433.293\" y=\"-86.3\" font-family=\"Times,serif\" font-size=\"14.00\" fill=\"#000000\">(&#39;f&#39;, &#39;f&#39;, &#39;m&#39;, &#39;f&#39;, &#39;f&#39;, 1)</text>\n",
       "</g>\n",
       "<!-- (&#39;f&#39;, &#39;f&#39;, &#39;m&#39;, &#39;f&#39;, &#39;f&#39;, 1)&#45;&gt;(&#39;f&#39;, &#39;f&#39;, &#39;f&#39;, &#39;f&#39;, &#39;f&#39;, 1) -->\n",
       "<g id=\"edge11\" class=\"edge\">\n",
       "<title>(&#39;f&#39;, &#39;f&#39;, &#39;m&#39;, &#39;f&#39;, &#39;f&#39;, 1)&#45;&gt;(&#39;f&#39;, &#39;f&#39;, &#39;f&#39;, &#39;f&#39;, &#39;f&#39;, 1)</title>\n",
       "<path fill=\"none\" stroke=\"#000000\" d=\"M454.5953,-72.5708C465.945,-63.2847 480.0693,-51.7285 492.3945,-41.6442\"/>\n",
       "<polygon fill=\"#000000\" stroke=\"#000000\" points=\"494.6635,-44.31 500.1868,-35.2687 490.2309,-38.8922 494.6635,-44.31\"/>\n",
       "</g>\n",
       "<!-- (&#39;m&#39;, &#39;f&#39;, &#39;f&#39;, &#39;f&#39;, &#39;f&#39;, 1) -->\n",
       "<g id=\"node11\" class=\"node\">\n",
       "<title>(&#39;m&#39;, &#39;f&#39;, &#39;f&#39;, &#39;f&#39;, &#39;f&#39;, 1)</title>\n",
       "<ellipse fill=\"none\" stroke=\"#000000\" cx=\"610.293\" cy=\"-90\" rx=\"79.0865\" ry=\"18\"/>\n",
       "<text text-anchor=\"middle\" x=\"610.293\" y=\"-86.3\" font-family=\"Times,serif\" font-size=\"14.00\" fill=\"#000000\">(&#39;m&#39;, &#39;f&#39;, &#39;f&#39;, &#39;f&#39;, &#39;f&#39;, 1)</text>\n",
       "</g>\n",
       "<!-- (&#39;m&#39;, &#39;f&#39;, &#39;f&#39;, &#39;f&#39;, &#39;f&#39;, 1)&#45;&gt;(&#39;f&#39;, &#39;f&#39;, &#39;f&#39;, &#39;f&#39;, &#39;f&#39;, 1) -->\n",
       "<g id=\"edge12\" class=\"edge\">\n",
       "<title>(&#39;m&#39;, &#39;f&#39;, &#39;f&#39;, &#39;f&#39;, &#39;f&#39;, 1)&#45;&gt;(&#39;f&#39;, &#39;f&#39;, &#39;f&#39;, &#39;f&#39;, &#39;f&#39;, 1)</title>\n",
       "<path fill=\"none\" stroke=\"#000000\" d=\"M588.7485,-72.5708C577.2699,-63.2847 562.9851,-51.7285 550.5199,-41.6442\"/>\n",
       "<polygon fill=\"#000000\" stroke=\"#000000\" points=\"552.6148,-38.8371 542.639,-35.2687 548.2122,-44.2793 552.6148,-38.8371\"/>\n",
       "</g>\n",
       "<!-- (&#39;f&#39;, &#39;f&#39;, &#39;f&#39;, &#39;m&#39;, &#39;f&#39;, 1) -->\n",
       "<g id=\"node12\" class=\"node\">\n",
       "<title>(&#39;f&#39;, &#39;f&#39;, &#39;f&#39;, &#39;m&#39;, &#39;f&#39;, 1)</title>\n",
       "<ellipse fill=\"none\" stroke=\"#000000\" cx=\"787.293\" cy=\"-90\" rx=\"79.0865\" ry=\"18\"/>\n",
       "<text text-anchor=\"middle\" x=\"787.293\" y=\"-86.3\" font-family=\"Times,serif\" font-size=\"14.00\" fill=\"#000000\">(&#39;f&#39;, &#39;f&#39;, &#39;f&#39;, &#39;m&#39;, &#39;f&#39;, 1)</text>\n",
       "</g>\n",
       "<!-- (&#39;f&#39;, &#39;f&#39;, &#39;f&#39;, &#39;m&#39;, &#39;f&#39;, 1)&#45;&gt;(&#39;f&#39;, &#39;f&#39;, &#39;f&#39;, &#39;f&#39;, &#39;f&#39;, 1) -->\n",
       "<g id=\"edge16\" class=\"edge\">\n",
       "<title>(&#39;f&#39;, &#39;f&#39;, &#39;f&#39;, &#39;m&#39;, &#39;f&#39;, 1)&#45;&gt;(&#39;f&#39;, &#39;f&#39;, &#39;f&#39;, &#39;f&#39;, &#39;f&#39;, 1)</title>\n",
       "<path fill=\"none\" stroke=\"#000000\" d=\"M736.3202,-76.2029C691.9566,-64.1947 627.6161,-46.7792 580.8834,-34.1298\"/>\n",
       "<polygon fill=\"#000000\" stroke=\"#000000\" points=\"581.7591,-30.7409 571.192,-31.5065 579.9301,-37.4977 581.7591,-30.7409\"/>\n",
       "</g>\n",
       "</g>\n",
       "</svg>\n"
      ],
      "text/plain": [
       "<graphviz.dot.Digraph at 0x7fb624c86b50>"
      ]
     },
     "execution_count": 302,
     "metadata": {},
     "output_type": "execute_result"
    }
   ],
   "source": [
    "from pkg.utils.graph_visualize import *\n",
    "\n",
    "vg = VisualGraph()\n",
    "\n",
    "def simplify_node(node):\n",
    "    return tuple([ntem[0] if isinstance(ntem, str) else ntem for ntem in node])\n",
    "\n",
    "for node, leafs in inc.node_dict.items():\n",
    "    vg.add_node(simplify_node(node), [simplify_node(leaf) for leaf in leafs])\n",
    "    \n",
    "gv = vg.draw()\n",
    "# gv.save()\n",
    "gv"
   ]
  },
  {
   "cell_type": "code",
   "execution_count": null,
   "metadata": {},
   "outputs": [],
   "source": []
  },
  {
   "cell_type": "markdown",
   "metadata": {},
   "source": [
    "## TODO 02.06\n",
    "\n",
    "### Detector\n",
    "* 마커, 시계 현장 인식 테스트 v\n",
    "* point cloud visualization 에서 0 포인트 에러 발생\n",
    "* 90도 돌아간 인식\n",
    "\n",
    "### HW\n",
    "* 바퀴 높이 맞춤 90x40x6mm L shape w. profile hole x 2 뽑기\n",
    "* 대형 장애물 마련하기\n",
    "  - 가방? 앞뒤만 밀 수 있게 전제, 가이드레일 및 앞 범퍼 만들기\n",
    "  - 의자? 방에서 미니 의자 가져와서 테스트, 다른의자 구해보기\n",
    "\n",
    "### Planner\n",
    "* 전2륜 전제로 모바일 경로 트래킹 알고리즘 보강 (늦어짐)\n",
    "  - 현장 실제어주기 확인 ~15 ms\n",
    "* 테이블 커버하는 view 자세/모션들 만들기"
   ]
  },
  {
   "cell_type": "code",
   "execution_count": null,
   "metadata": {},
   "outputs": [],
   "source": []
  },
  {
   "cell_type": "markdown",
   "metadata": {},
   "source": [
    "## TODO 01.31\n",
    "### data\n",
    "* 인식 결과 샘플 저장\n",
    "\n",
    "### Detector\n",
    "* 첫 인식에서 캐리어 4개만 인식됨 (다시 인식하면 5개 나옴)\n",
    "* 마커 인식 추가\n",
    "\n",
    "### Planner\n",
    "* 바퀴가 자꾸 멈춤 - 강제로 정지되면 다이나믹셀이 셧다운 됨 - 펌웨어 수정 필요\n",
    "* 플래닝 성능 개선\n",
    "\n",
    "### Anydesk 자동 연결 설정 (소형 모니터 연결?)\n",
    "\n"
   ]
  },
  {
   "cell_type": "code",
   "execution_count": null,
   "metadata": {},
   "outputs": [],
   "source": []
  },
  {
   "cell_type": "markdown",
   "metadata": {},
   "source": [
    "## Testing detection "
   ]
  },
  {
   "cell_type": "code",
   "execution_count": 25,
   "metadata": {},
   "outputs": [],
   "source": [
    "T_bt = table_g.get_tf(crob.home_pose)"
   ]
  },
  {
   "cell_type": "code",
   "execution_count": 21,
   "metadata": {},
   "outputs": [],
   "source": [
    "T_bc = viewpoint.get_tf(crob.get_real_robot_pose())"
   ]
  },
  {
   "cell_type": "code",
   "execution_count": 22,
   "metadata": {},
   "outputs": [],
   "source": [
    "T_ct = np.matmul(np.linalg.inv(T_bc), T_bt)"
   ]
  },
  {
   "cell_type": "code",
   "execution_count": 27,
   "metadata": {},
   "outputs": [],
   "source": [
    "T_tx = SE3(np.identity(3), (np.divide(table_g.dims, 2)-0.06)*[1,-1,0])\n",
    "T_bx =  np.matmul(T_bt, T_tx)"
   ]
  },
  {
   "cell_type": "code",
   "execution_count": 30,
   "metadata": {},
   "outputs": [],
   "source": [
    "T_bm = gscene.get_tf(MOBILE_BASE, crob.get_real_robot_pose())"
   ]
  },
  {
   "cell_type": "code",
   "execution_count": 31,
   "metadata": {},
   "outputs": [],
   "source": [
    "T_mx = np.matmul(np.linalg.inv(T_bm), T_bx)"
   ]
  },
  {
   "cell_type": "code",
   "execution_count": 39,
   "metadata": {},
   "outputs": [],
   "source": [
    "gscene.add_highlight_axis(\"hl\", \"tbm\", T=T_bm)"
   ]
  },
  {
   "cell_type": "code",
   "execution_count": 40,
   "metadata": {},
   "outputs": [],
   "source": [
    "gscene.add_highlight_axis(\"hl\", \"tmx\", T=T_mx, link_name=MOBILE_BASE)"
   ]
  },
  {
   "cell_type": "code",
   "execution_count": 38,
   "metadata": {},
   "outputs": [],
   "source": [
    "gscene.clear_highlight()"
   ]
  },
  {
   "cell_type": "code",
   "execution_count": null,
   "metadata": {},
   "outputs": [],
   "source": []
  },
  {
   "cell_type": "code",
   "execution_count": 23,
   "metadata": {},
   "outputs": [
    {
     "data": {
      "text/plain": [
       "3.4767112570197787"
      ]
     },
     "execution_count": 23,
     "metadata": {},
     "output_type": "execute_result"
    }
   ],
   "source": [
    "np.linalg.norm(T_ct[:3,3])"
   ]
  },
  {
   "cell_type": "code",
   "execution_count": 25,
   "metadata": {},
   "outputs": [],
   "source": [
    "color_img = micp.last_input[0]"
   ]
  },
  {
   "cell_type": "code",
   "execution_count": 41,
   "metadata": {},
   "outputs": [
    {
     "data": {
      "text/plain": [
       "array([-1.57079633, -0.        ,  0.        ])"
      ]
     },
     "execution_count": 41,
     "metadata": {},
     "output_type": "execute_result"
    }
   ],
   "source": [
    "Rot2rpy(Rot_axis(1, -np.pi/2))"
   ]
  },
  {
   "cell_type": "code",
   "execution_count": 50,
   "metadata": {},
   "outputs": [],
   "source": [
    " def get_aruco_map_table():\n",
    "    dictionary = aruco.getPredefinedDictionary(aruco.DICT_6X6_250)\n",
    "    #     params = aruco.DetectorParameters_create()\n",
    "    aruco_map = ArucoMap(dictionary=dictionary, _dict={\n",
    "        'table1':MarkerSet('table1', dlevel=DetectionLevel.ENVIRONMENT, gtype=GEOTYPE.BOX, dims=(0.4,0.3,0.01),\n",
    "                          color=(0.9,0.9,0.9,0.2),\n",
    "                          _list=[\n",
    "                              ObjectMarker('table1', 231, 0.15, [0, 0., 0.0], (0, -0., 0.)),\n",
    "#                               ObjectMarker('table', 231, 0.15, [0.7, -0.4, 0.0], (0,0,0)),\n",
    "#                               ObjectMarker('table', 233, 0.15, [0.7+0.075, -0.4, 0.075], (-1.57079633, -0.,  0.))\n",
    "                          ]),\n",
    "        'table2':MarkerSet('table2', dlevel=DetectionLevel.ENVIRONMENT, gtype=GEOTYPE.BOX, dims=(0.4,0.3,0.01),\n",
    "                          color=(0.9,0.9,0.9,0.2),\n",
    "                          _list=[\n",
    "                              ObjectMarker('table2', 232, 0.15, [0.0, 0.0, 0.0], (0,0,0)),\n",
    "#                               ObjectMarker('table', 233, 0.15, [0.7+0.075, -0.4, 0.075], (-1.57079633, -0.,  0.))\n",
    "                          ]),\n",
    "        'table3':MarkerSet('table3', dlevel=DetectionLevel.ENVIRONMENT, gtype=GEOTYPE.BOX, dims=(0.4,0.3,0.01),\n",
    "                          color=(0.9,0.9,0.9,0.2),\n",
    "                          _list=[\n",
    "                              ObjectMarker('table3', 233, 0.15, [0.0, 0.0, 0.0], (0,0,0)),\n",
    "#                               ObjectMarker('table', 233, 0.15, [0.7+0.075, -0.4, 0.075], (-1.57079633, -0.,  0.))\n",
    "                          ])})\n",
    "    return aruco_map"
   ]
  },
  {
   "cell_type": "code",
   "execution_count": 55,
   "metadata": {},
   "outputs": [
    {
     "name": "stdout",
     "output_type": "stream",
     "text": [
      "request 0 -> response 0\n",
      "==== Received color, depth image from remote camera ====\n"
     ]
    }
   ],
   "source": [
    "from pkg.detector.aruco.marker_config import *\n",
    "\n",
    "aruco_map = get_aruco_map_table()\n",
    "\n",
    "cameraMatrix, distCoeffs, _ = micp.get_camera_config()\n",
    "color_img, _, Q_cur = micp.get_image()\n",
    "\n",
    "color_img = color_img.astype(np.uint8)\n",
    "obj_dict, corner_dict = aruco_map.get_object_pose_dict(color_img, cameraMatrix, distCoeffs)\n",
    "img_out = aruco_map.draw_objects(color_img, obj_dict, corner_dict, cameraMatrix, distCoeffs)"
   ]
  },
  {
   "cell_type": "code",
   "execution_count": 58,
   "metadata": {},
   "outputs": [],
   "source": [
    "# Tcm1 = obj_dict[\"table1\"]\n",
    "Tcm2 = obj_dict[\"table2\"]\n",
    "Tcm3 = obj_dict[\"table3\"]"
   ]
  },
  {
   "cell_type": "code",
   "execution_count": 60,
   "metadata": {},
   "outputs": [],
   "source": [
    "T_bc = viewpoint.get_tf(crob.get_real_robot_pose())"
   ]
  },
  {
   "cell_type": "code",
   "execution_count": 61,
   "metadata": {},
   "outputs": [],
   "source": [
    "# Tbm1 = np.matmul(T_bc, Tcm1)\n",
    "Tbm2 = np.matmul(T_bc, Tcm2)\n",
    "Tbm3 = np.matmul(T_bc, Tcm3)"
   ]
  },
  {
   "cell_type": "code",
   "execution_count": 62,
   "metadata": {},
   "outputs": [],
   "source": [
    "gscene.add_highlight_axis(\"hl\", \"tbm2\", T=Tbm2)\n",
    "gscene.add_highlight_axis(\"hl\", \"tbm3\", T=Tbm3)"
   ]
  },
  {
   "cell_type": "code",
   "execution_count": 66,
   "metadata": {},
   "outputs": [],
   "source": [
    "pmb0 = crob.robot_dict[\"pmb0\"]"
   ]
  },
  {
   "cell_type": "code",
   "execution_count": 68,
   "metadata": {},
   "outputs": [],
   "source": [
    "Tbm0 = gscene.get_tf(MOBILE_BASE, crob.get_real_robot_pose())"
   ]
  },
  {
   "cell_type": "code",
   "execution_count": 131,
   "metadata": {},
   "outputs": [],
   "source": [
    "pmb0.joint_move_make_sure([-1.0,0,0,0,0,0])"
   ]
  },
  {
   "cell_type": "code",
   "execution_count": 112,
   "metadata": {},
   "outputs": [
    {
     "data": {
      "text/plain": [
       "array([ 0., -0., -0.,  0.,  0.,  0.])"
      ]
     },
     "execution_count": 112,
     "metadata": {},
     "output_type": "execute_result"
    }
   ],
   "source": [
    "np.round(crob.get_real_robot_pose()[:6], 3)"
   ]
  },
  {
   "cell_type": "code",
   "execution_count": 93,
   "metadata": {},
   "outputs": [],
   "source": [
    "gscene.show_pose(crob.get_real_robot_pose())"
   ]
  },
  {
   "cell_type": "code",
   "execution_count": 63,
   "metadata": {
    "scrolled": true
   },
   "outputs": [
    {
     "data": {
      "text/plain": [
       "<matplotlib.image.AxesImage at 0x7f15202360d0>"
      ]
     },
     "execution_count": 63,
     "metadata": {},
     "output_type": "execute_result"
    },
    {
     "data": {
      "image/png": "[encoded data removed]",
      "text/plain": [
       "<Figure size 432x288 with 1 Axes>"
      ]
     },
     "metadata": {
      "needs_background": "light"
     },
     "output_type": "display_data"
    }
   ],
   "source": [
    "plt.imshow(img_out[:,:,[2,1,0]])"
   ]
  },
  {
   "cell_type": "code",
   "execution_count": 18,
   "metadata": {
    "scrolled": false
   },
   "outputs": [
    {
     "data": {
      "text/plain": [
       "<matplotlib.image.AxesImage at 0x7f157c1d3d10>"
      ]
     },
     "execution_count": 18,
     "metadata": {},
     "output_type": "execute_result"
    },
    {
     "data": {
      "image/png": "[encoded data removed]",
      "text/plain": [
       "<Figure size 432x288 with 1 Axes>"
      ]
     },
     "metadata": {
      "needs_background": "light"
     },
     "output_type": "display_data"
    }
   ],
   "source": [
    "plt.imshow(micp.last_input[0])"
   ]
  },
  {
   "cell_type": "code",
   "execution_count": null,
   "metadata": {},
   "outputs": [],
   "source": []
  },
  {
   "cell_type": "code",
   "execution_count": null,
   "metadata": {},
   "outputs": [],
   "source": []
  },
  {
   "cell_type": "markdown",
   "metadata": {},
   "source": [
    "### temporary - robot base detection for accuracy check"
   ]
  },
  {
   "cell_type": "code",
   "execution_count": 25,
   "metadata": {},
   "outputs": [],
   "source": [
    "from pkg.detector.aruco.marker_config import *\n",
    "aruco_map = get_aruco_map()\n",
    "cameraMatrix, distCoeffs, _ = micp.get_camera_config()"
   ]
  },
  {
   "cell_type": "code",
   "execution_count": 182,
   "metadata": {},
   "outputs": [],
   "source": [
    "res_dict = {}\n",
    "Qref = crob.get_real_robot_pose()\n",
    "gscene.show_pose(Qref)"
   ]
  },
  {
   "cell_type": "markdown",
   "metadata": {},
   "source": [
    "#### repeat changing Qdiff"
   ]
  },
  {
   "cell_type": "code",
   "execution_count": 199,
   "metadata": {},
   "outputs": [],
   "source": [
    "Qdiff = 0\n",
    "Qnow = np.copy(Qref)\n",
    "Qnow[-1] = Qref[-1] + np.deg2rad(Qdiff)\n",
    "gscene.show_pose(Qnow)"
   ]
  },
  {
   "cell_type": "code",
   "execution_count": 200,
   "metadata": {},
   "outputs": [],
   "source": [
    "T = viewpoint.get_tf(Qnow)\n",
    "crob.joint_move_make_sure(Qnow)\n",
    "time.sleep(1)"
   ]
  },
  {
   "cell_type": "code",
   "execution_count": 197,
   "metadata": {},
   "outputs": [
    {
     "name": "stdout",
     "output_type": "stream",
     "text": [
      "request 0 -> response 0\n",
      "==== Received color, depth image from remote camera ====\n"
     ]
    }
   ],
   "source": [
    "color_img, _, Q_cur = micp.get_image()\n",
    "color_img = color_img.astype(np.uint8)\n",
    "obj_dict, corner_dict = aruco_map.get_object_pose_dict(color_img, cameraMatrix, distCoeffs)\n",
    "img_out = aruco_map.draw_objects(color_img, obj_dict, corner_dict, cameraMatrix, distCoeffs)\n",
    "T_cp = obj_dict[\"panda1\"]\n",
    "T_pc = viewpoint.get_tf(crob.get_real_robot_pose(), from_link=ROBOT_BASE)\n",
    "T_pp = np.matmul(T_pc, T_cp)\n",
    "np.round(T_pp, 3)\n",
    "res_dict[Qnow[-1]] = T_pp"
   ]
  },
  {
   "cell_type": "code",
   "execution_count": 73,
   "metadata": {
    "scrolled": true
   },
   "outputs": [
    {
     "data": {
      "text/plain": [
       "<matplotlib.legend.Legend at 0x7f34f017d4d0>"
      ]
     },
     "execution_count": 73,
     "metadata": {},
     "output_type": "execute_result"
    },
    {
     "data": {
      "image/png": "[encoded data removed]",
      "text/plain": [
       "<Figure size 432x288 with 1 Axes>"
      ]
     },
     "metadata": {
      "needs_background": "light"
     },
     "output_type": "display_data"
    }
   ],
   "source": [
    "qxyz = np.array([(q, T_pp[0,3], T_pp[1,3], T_pp[2,3])  for q, T_pp in sorted(res_dict.items())])\n",
    "plt.plot(np.rad2deg(qxyz[:,0]), qxyz[:,1], '-o')\n",
    "plt.plot(np.rad2deg(qxyz[:,0]), qxyz[:,2], '-o')\n",
    "plt.plot(np.rad2deg(qxyz[:,0]), qxyz[:,3], '-o')\n",
    "plt.legend(\"xyz\")"
   ]
  },
  {
   "cell_type": "markdown",
   "metadata": {},
   "source": [
    "### temporary - robot base detection for accuracy check"
   ]
  },
  {
   "cell_type": "code",
   "execution_count": null,
   "metadata": {},
   "outputs": [],
   "source": []
  }
 ],
 "metadata": {
  "kernelspec": {
   "display_name": "Python 2",
   "language": "python",
   "name": "python2"
  },
  "language_info": {
   "codemirror_mode": {
    "name": "ipython",
    "version": 2
   },
   "file_extension": ".py",
   "mimetype": "text/x-python",
   "name": "python",
   "nbconvert_exporter": "python",
   "pygments_lexer": "ipython2",
   "version": "2.7.17"
  }
 },
 "nbformat": 4,
 "nbformat_minor": 2
}
