{
 "cells": [
  {
   "cell_type": "markdown",
   "metadata": {},
   "source": [
    "# Experiment Process\n",
    "## Prepare HW\n",
    "1. Switch supply power to mobile robot system\n",
    "2. Turn on panda controller and mobile computer on the mobile system\n",
    "3. Connect to Mobile WiFi (RNB-MOBILE, PW: robot!!!1)\n",
    "4. Connect to Franka Desk (192.168.17.3) and unlock panda joints, make sure blue LED is on.\n",
    "\n",
    "## Prepare Mobile Panda\n",
    "1. Connect to mobile computer with AnyDesk (349 336 873)\n",
    "    - Proceed this section in connected mobile computer.\n",
    "2. Prepare SteamVR\n",
    "    - Make sure Each Vive Base Station have unique ID (should be set in advance in Windows SteamVR)\n",
    "    - Make sure Vive Base Stations are placed properly (facing each other)\n",
    "    - Turn on vrmonitor\n",
    "    - Connect Vive Tracker (Menu-Devices-Pair Controller)\n",
    "    - Make sure All Base Station and Tracker icons are active\n",
    "3. Start camera server\n",
    "```bash\n",
    "cd ~/Projects/grpc_cam/\n",
    "python3 cam_grpc_server.py\n",
    "```\n",
    "    - If any error is raised, disconnect and reconnect camera \n",
    "4. Start panda control program\n",
    "```bash\n",
    "roslaunch panda_control joint_control_rnb.launch robot_ip:=192.168.17.3 load_gripper:=false\n",
    "```\n",
    "    - **[IMPORTANT]** enable data plot on web UI\n",
    "5. Start mobile robot server\n",
    "```bash\n",
    "~/run_mobile_server.sh\n",
    "```\n",
    "\n",
    "\n",
    "## Proceed Experiment\n",
    "* Place table, chair, clocks and target markers and run scripts below\n",
    "\n",
    "\n",
    "## Trouble shooting\n",
    "* **Panda stop**: panda controller can stop due to excessive  torque or network loss\n",
    "    - push and turn panda activation button to reset state, and restart panda control program\n",
    "* **Mobile robot stop**: mobile robot can raise error due to heavy load\n",
    "    - ***TO BE DONE***\n",
    "    \n",
    "## NOTE\n",
    "* Panda joint offset value backup:\n",
    " - [-0.01, -0.009, -0.022, 0.0, 0.007, -0.012, 0.0]"
   ]
  },
  {
   "cell_type": "markdown",
   "metadata": {},
   "source": [
    "# 이슈\n",
    "* 테이블이 왼쪽으로 치우쳐 찍히는 경향"
   ]
  },
  {
   "cell_type": "markdown",
   "metadata": {},
   "source": [
    "# 테스트 기준\n",
    "* 로봇의 제한된 자유도 고려, 원천적으로 해결 불가능한 문제는 아래의 조건 등을 통해 배제하였음.\n",
    "  - 의자 간 중심 거리는 1m 이상\n",
    "  - 시계 중심 거리는 20cm 이상\n",
    "  - 각 마커와 시계 사이에는 2cm 이상의 공백을 둠\n",
    "* 위의 경우를 포함, 로봇이 해결할 수 없는 상황은 사람 작업자의 개입 요청으로 해결될 예정\n",
    "* 사각 테두리 안쪽에 툴이 접촉하면 성공\n",
    "* 각 플래닝은 최대 300초\n",
    "* 동작 도중 환경 및 장애물에 충돌이 발생하면 실패"
   ]
  },
  {
   "cell_type": "markdown",
   "metadata": {},
   "source": [
    "# 판다 플롯 시작!"
   ]
  },
  {
   "cell_type": "markdown",
   "metadata": {},
   "source": [
    "# 실험 시작 - 사진 촬영!"
   ]
  },
  {
   "cell_type": "code",
   "execution_count": 1,
   "metadata": {},
   "outputs": [],
   "source": [
    "# QOFF_PANDA = [-0.01, -0.009, -0.022, 0.0, 0.007, -0.012, 0.0] # old\n",
    "QOFF_PANDA = [-0.01, -0.009, -0.022, -0.0262, 0.007, -0.012, 0.0] # new"
   ]
  },
  {
   "cell_type": "code",
   "execution_count": 2,
   "metadata": {},
   "outputs": [
    {
     "name": "stdout",
     "output_type": "stream",
     "text": [
      "Mobile IP: 192.168.17.2\n",
      "ROBOT  IP: 192.168.17.2\n",
      "PANDA  IP: 192.168.17.3\n"
     ]
    }
   ],
   "source": [
    "import os\n",
    "import sys\n",
    "sys.path.append(os.path.join(os.path.join(\n",
    "    os.environ[\"RNB_PLANNING_DIR\"], 'src')))\n",
    "sys.path.append(os.path.join(\n",
    "    os.environ[\"RNB_PLANNING_DIR\"], 'src/scripts/demo_202107'))\n",
    "\n",
    "CONNECT_MOBILE = True\n",
    "CONNECT_ROBOT = True\n",
    "SAVE_DATA = False\n",
    "\n",
    "MOBILE_IP = \"192.168.17.2\"\n",
    "ROBOT_IP = \"192.168.17.2\"\n",
    "PANDA_IP = \"192.168.17.3\"\n",
    "\n",
    "print(\"Mobile IP: {}\".format(MOBILE_IP))\n",
    "print(\"ROBOT  IP: {}\".format(ROBOT_IP))\n",
    "print(\"PANDA  IP: {}\".format(PANDA_IP))\n",
    "\n",
    "sys.path.append(os.path.join(\n",
    "    os.environ[\"RNB_PLANNING_DIR\"], 'src/scripts/developing/multiobject'))\n",
    "\n",
    "from concurrent import futures\n",
    "import logging\n",
    "import math\n",
    "import time\n",
    "import cv2\n",
    "import numpy as np\n",
    "import grpc\n",
    "import RemoteCam_pb2\n",
    "import RemoteCam_pb2_grpc\n",
    "\n",
    "MAX_MESSAGE_LENGTH = 10000000\n",
    "PORT_CAM = 10509"
   ]
  },
  {
   "cell_type": "code",
   "execution_count": 3,
   "metadata": {},
   "outputs": [
    {
     "name": "stdout",
     "output_type": "stream",
     "text": [
      "connection command:\n",
      "pmb0: True\n",
      "panda_arm1: True\n"
     ]
    }
   ],
   "source": [
    "ROBOT_BASE_OFFSET = (+0.02-0.035-0.15+0.008,0,0.592)\n",
    "ROBOT_BASE_RPY = (0,0,0)\n",
    "TOOL_NAME = \"brush_face\"\n",
    "WALL_THICKNESS = 0.01\n",
    "CLEARANCE = 0.001\n",
    "WS_HEIGHT = 1.7\n",
    "COL_COLOR = (1,1,1,0.2)\n",
    "    \n",
    "LOG_FORCE = False\n",
    "\n",
    "from pkg.controller.combined_robot import *\n",
    "from pkg.project_config import *\n",
    "\n",
    "kiro_udp_client.KIRO_UDP_OFFLINE_DEBUG = not CONNECT_MOBILE\n",
    "\n",
    "mobile_config = RobotConfig(0, RobotType.pmb, ((0,0,0), (0,0,0)), MOBILE_IP)\n",
    "robot_config = RobotConfig(1, RobotType.panda_arm, \n",
    "                           (ROBOT_BASE_OFFSET, ROBOT_BASE_RPY),\n",
    "                           \"{}/{}\".format(ROBOT_IP, PANDA_IP), root_on=\"pmb0_platform\")\n",
    "\n",
    "ROBOT_TYPE = robot_config.type\n",
    "MOBILE_NAME = mobile_config.get_indexed_name()\n",
    "ROBOT_NAME = robot_config.get_indexed_name()\n",
    "crob = CombinedRobot(robots_on_scene=[mobile_config, robot_config],\n",
    "                     connection_list=[CONNECT_MOBILE, CONNECT_ROBOT])"
   ]
  },
  {
   "cell_type": "code",
   "execution_count": null,
   "metadata": {},
   "outputs": [],
   "source": []
  },
  {
   "cell_type": "markdown",
   "metadata": {},
   "source": [
    "### Make scene"
   ]
  },
  {
   "cell_type": "code",
   "execution_count": 4,
   "metadata": {
    "scrolled": true
   },
   "outputs": [
    {
     "name": "stdout",
     "output_type": "stream",
     "text": [
      "Please create a subscriber to the marker\n",
      "publication OK\n",
      "published: [0, 0, 0, 0, 0, 0, 0, 0, 0, 0, 0, 0, 0]\n",
      "Please create a subscriber to the marker\n"
     ]
    }
   ],
   "source": [
    "from pkg.geometry.builder.scene_builder import SceneBuilder\n",
    "from pkg.planning.scene import PlanningScene\n",
    "\n",
    "s_builder = SceneBuilder(None)\n",
    "gscene = s_builder.create_gscene(crob)\n",
    "gtems = s_builder.add_robot_geometries(\n",
    "    color=COL_COLOR, display=True, collision=True)\n",
    "\n",
    "gscene.set_workspace_boundary(\n",
    "    -1, 4, -2.5, 2.5, -CLEARANCE, WS_HEIGHT, thickness=WALL_THICKNESS)\n",
    "\n",
    "HOME_POSE_DEFAULT = np.copy(crob.home_pose)\n",
    "gscene.show_pose(crob.home_pose)\n",
    "crob.simulator.gscene=gscene"
   ]
  },
  {
   "cell_type": "code",
   "execution_count": null,
   "metadata": {},
   "outputs": [],
   "source": []
  },
  {
   "cell_type": "markdown",
   "metadata": {},
   "source": [
    "### Planning scene"
   ]
  },
  {
   "cell_type": "code",
   "execution_count": 5,
   "metadata": {},
   "outputs": [],
   "source": [
    "from pkg.geometry.geometry import *\n",
    "from pkg.utils.code_scraps import *\n",
    "from pkg.planning.constraint.constraint_subject import *\n",
    "from pkg.planning.constraint.constraint_actor import *\n",
    "from exp_config import *\n",
    "\n",
    "pscene = PlanningScene(gscene, combined_robot=crob)"
   ]
  },
  {
   "cell_type": "code",
   "execution_count": 6,
   "metadata": {},
   "outputs": [],
   "source": [
    "ROBOT_BASE = pscene.robot_chain_dict[ROBOT_NAME]['link_names'][0]\n",
    "TIP_LINK = pscene.robot_chain_dict[ROBOT_NAME][\"tip_link\"]\n",
    "MOBILE_BASE = pscene.robot_chain_dict[MOBILE_NAME][\"tip_link\"]\n",
    "HOLD_LINK = MOBILE_BASE\n",
    "BRUSH_NAME = \"brush_face\"\n",
    "theta = -np.pi*3/4\n",
    "viewpoint  = add_panda_cam(gscene, tool_link=TIP_LINK, theta=theta)\n",
    "brush_face = add_panda_brush(gscene, tool_link=TIP_LINK, theta=theta, \n",
    "                             brush_name=BRUSH_NAME)\n",
    "\n",
    "point_brush, rpy_brush = (0,0,-brush_face.dims[2]/2), (0,0,0)\n",
    "brush_b = pscene.create_binder(BRUSH_NAME, BRUSH_NAME, WayFramer, point=point_brush, rpy=rpy_brush)\n",
    "gscene.show_pose(HOME_POSE_DEFAULT)\n",
    "\n",
    "MOBILE_PUSH_NAME = \"mpush\"\n",
    "MOBILE_PUSH_HEIGHT = 0.4\n",
    "MOBILE_PUSH_KEY = 1\n",
    "MOBILE_SLIDE_KEY = 2\n",
    "front_dist = 0.03\n",
    "mpush_g = gscene.create_safe(GEOTYPE.SPHERE, MOBILE_PUSH_NAME, link_name=HOLD_LINK,dims=(0.01,0.01,0.01),\n",
    "                           center=(front_dist, 0, MOBILE_PUSH_HEIGHT), rpy=(0,np.pi/2,0),\n",
    "                           fixed=True, collision=False, color=(1,0,0,0.5))\n",
    "mpush_b = pscene.create_binder(MOBILE_PUSH_NAME, MOBILE_PUSH_NAME, FramedTool, point=(0,0,0), rpy=(0,0,0), key=MOBILE_PUSH_KEY)\n",
    "\n",
    "floor_b = pscene.create_binder(\"floor_ws\", \"floor_ws\", PlaceFrame, point=(0,0,WALL_THICKNESS/2), key=MOBILE_SLIDE_KEY)\n",
    "\n",
    "TOOL_PUSH_NAME = \"tpush\"\n",
    "TOOL_PUSH_KEY = 10\n",
    "TOOL_SLIDE_KEY = 11\n",
    "brush_col = gscene.NAME_DICT[BRUSH_NAME+\"_col\"]\n",
    "TOOL_DIM = brush_col.dims\n",
    "\n",
    "center_push, rpy_push = (TOOL_DIM[0]/2+CLEARANCE, 0, 0), (0,np.pi/2,0)    \n",
    "tpush_g = gscene.create_safe(GEOTYPE.SPHERE, TOOL_PUSH_NAME, link_name=TIP_LINK,dims=(0.01,0.01,0.01),\n",
    "                           center=center_push, rpy=rpy_push,\n",
    "                           fixed=True, collision=False, color=(1,0,0,0.5), parent=BRUSH_NAME)\n",
    "tpush_b = pscene.create_binder(TOOL_PUSH_NAME, TOOL_PUSH_NAME, FramedTool, point=(0,0,0), rpy=(0,0,0), key=TOOL_PUSH_KEY)"
   ]
  },
  {
   "cell_type": "code",
   "execution_count": null,
   "metadata": {},
   "outputs": [],
   "source": []
  },
  {
   "cell_type": "markdown",
   "metadata": {},
   "source": [
    "# Start detecting - set joint offset"
   ]
  },
  {
   "cell_type": "code",
   "execution_count": 7,
   "metadata": {},
   "outputs": [],
   "source": [
    "from pkg.controller.trajectory_client.web_client import *\n",
    "wc = WebClient(ip='192.168.17.2', port=9990)"
   ]
  },
  {
   "cell_type": "markdown",
   "metadata": {},
   "source": [
    "### MultiICP Detector"
   ]
  },
  {
   "cell_type": "code",
   "execution_count": 8,
   "metadata": {},
   "outputs": [],
   "source": [
    "from pkg.detector.multiICP.multiICP import MultiICP, MultiICP_Obj\n",
    "from pkg.detector.multiICP.config import *\n",
    "from pkg.detector.camera.realsense import RealSense\n",
    "from pkg.detector.detector_interface import DetectionLevel\n",
    "\n",
    "import open3d as o3d\n",
    "import numpy as np\n",
    "\n",
    "CONNECT_CAM = False\n",
    "REMOTE_CAM = True\n",
    "\n",
    "CARRIER_DIM = (0.4, 0.29, 0.635)\n",
    "CLOCK_DIM = (0.138, 0.05, 0.078)"
   ]
  },
  {
   "cell_type": "code",
   "execution_count": 9,
   "metadata": {},
   "outputs": [
    {
     "name": "stdout",
     "output_type": "stream",
     "text": [
      "Camera is not set - skip initialization, use remote camera\n",
      "request 0 -> response 0\n",
      "==== Received camera config from remote camera ====\n"
     ]
    }
   ],
   "source": [
    "from demo_utils.data_reconstructed_camera import DataRecontructedCamera\n",
    "dcam = DataRecontructedCamera(crob, viewpoint)\n",
    "# if not CONNECT_CAM and not REMOTE_CAM:\n",
    "#     dcam.initialize()\n",
    "\n",
    "if CONNECT_CAM:\n",
    "    realsense = RealSense()\n",
    "    micp = MultiICP(realsense)\n",
    "    micp.initialize()\n",
    "else:\n",
    "    if REMOTE_CAM:\n",
    "        # use remote camera\n",
    "        micp = MultiICP(None)\n",
    "        micp.initialize(remote_cam=REMOTE_CAM)\n",
    "#         dcam.ready_saving(*micp.get_camera_config())\n",
    "#         cam_pose = viewpoint.get_tf(VIEW_POSE_EXT)\n",
    "    else:\n",
    "        # use manually given camera configs\n",
    "        micp = MultiICP(None)\n",
    "        config_list, img_dim = load_pickle(RNB_PLANNING_DIR+\"release/multiICP_data/cam_configs.pkl\")\n",
    "        micp.initialize(config_list, img_dim)\n",
    "#         micp = MultiICP(dcam)\n",
    "#         micp.initialize()"
   ]
  },
  {
   "cell_type": "markdown",
   "metadata": {},
   "source": [
    "### Shared Detector"
   ]
  },
  {
   "cell_type": "code",
   "execution_count": 10,
   "metadata": {},
   "outputs": [],
   "source": [
    "from pkg.utils.shared_function import clear_channels_on, sa\n",
    "clear_channels_on(\"SharedDetector\")\n",
    "\n",
    "from pkg.detector.multiICP.shared_detector import SharedDetectorGen\n",
    "sd = SharedDetectorGen(tuple(reversed(micp.dsize))+(3,))()\n",
    "sd.init()"
   ]
  },
  {
   "cell_type": "code",
   "execution_count": null,
   "metadata": {},
   "outputs": [],
   "source": []
  },
  {
   "cell_type": "markdown",
   "metadata": {},
   "source": [
    "### Set ICP Config"
   ]
  },
  {
   "cell_type": "code",
   "execution_count": 11,
   "metadata": {},
   "outputs": [],
   "source": [
    "# Load config file of object information\n",
    "obj_info_dict = get_obj_info()"
   ]
  },
  {
   "cell_type": "code",
   "execution_count": 12,
   "metadata": {},
   "outputs": [],
   "source": [
    "micp_suitcase = MultiICP_Obj(obj_info_dict[\"suitcase\"], None,\n",
    "                        OffsetOnModelCoord(\"suitcase\", R=np.matmul(Rot_axis(1, 2*np.pi/3), Rot_axis(3, np.pi/2)), offset=(0.,0.,0.2)))\n",
    "\n",
    "\n",
    "micp_clock = MultiICP_Obj(obj_info_dict[\"clock\"], None,\n",
    "                        OffsetOnModelCoord(\"clock\", R=Rot_axis(1, np.pi/4), offset=(-0.04,-0.03,0.04)))\n",
    "\n",
    "\n",
    "micp_table = MultiICP_Obj(obj_info_dict[\"dining table\"], None,\n",
    "                        OffsetOnModelCoord(\"dining table\", R=Rot_axis(1, 3*np.pi/4), offset=(0.,0.35,0.6)))\n",
    "\n",
    "micp_chair = MultiICP_Obj(obj_info_dict[\"chair\"], None,\n",
    "                        OffsetOnModelCoord(\"chair\", R=Rot_axis(1, 3*np.pi/4), offset=(0.1, 0.1,0.)))"
   ]
  },
  {
   "cell_type": "code",
   "execution_count": 13,
   "metadata": {},
   "outputs": [],
   "source": [
    "micp_dict = {\"suitcase\": micp_suitcase, \"clock\": micp_clock,\n",
    "             \"dining table\": micp_table, \"chair\": micp_chair}\n",
    "micp.set_config(micp_dict, sd, crob, viewpoint)"
   ]
  },
  {
   "cell_type": "code",
   "execution_count": null,
   "metadata": {},
   "outputs": [],
   "source": []
  },
  {
   "cell_type": "markdown",
   "metadata": {},
   "source": [
    "## Table"
   ]
  },
  {
   "cell_type": "code",
   "execution_count": 14,
   "metadata": {},
   "outputs": [],
   "source": [
    "VIEW_LOC = crob.get_real_robot_pose()[:6]\n",
    "VIEW_ARM = HOME_POSE_DEFAULT[6:] + np.deg2rad([0,0,0,0,0,45,-45])\n",
    "VIEW_TABLE = list(VIEW_LOC) + list(VIEW_ARM)\n",
    "crob.joint_move_make_sure(np.array(VIEW_TABLE), ref_speed=np.pi/8)"
   ]
  },
  {
   "cell_type": "code",
   "execution_count": 15,
   "metadata": {},
   "outputs": [],
   "source": [
    "TABLE_NAME = \"table\""
   ]
  },
  {
   "cell_type": "code",
   "execution_count": 16,
   "metadata": {
    "scrolled": true
   },
   "outputs": [
    {
     "name": "stdout",
     "output_type": "stream",
     "text": [
      "name_mask is ['dining table']\n",
      "request 0 -> response 0\n",
      "==== Received color, depth image from remote camera ====\n",
      "Maximun num of object for detection : 1\n",
      "===== Detected : dining table, 2 object(s) =====\n",
      "[NOTICE] You choose merge option for mask. Detected masks would be merged.\n",
      "\n",
      "'dining table' is not in gscene. Use manual input for initial guess\n",
      "\n",
      "Apply point-to-point ICP\n",
      "registration::RegistrationResult with fitness=9.920904e-01, inlier_rmse=1.899071e-01, and correspondence_set size of 3512\n",
      "Access transformation to get result.\n",
      "Transformation is:\n",
      "[[ 0.95855728  0.2844212   0.01650835  0.07104949]\n",
      " [ 0.20019423 -0.63120229 -0.74933698  0.03572089]\n",
      " [-0.20270722  0.72158729 -0.66198303  3.48980126]\n",
      " [ 0.          0.          0.          1.        ]]\n",
      "Total ICP Transformation is:\n",
      "[[ 0.95855728  0.2844212   0.01650835  0.07104949]\n",
      " [ 0.20019423 -0.63120229 -0.74933698  0.03572089]\n",
      " [-0.20270722  0.72158729 -0.66198303  3.48980126]\n",
      " [ 0.          0.          0.          1.        ]]\n",
      "Inlier ratio: 0.0985583995293\n",
      "initial: \n",
      "[[ 0.96  0.28  0.02  0.07]\n",
      " [ 0.2  -0.63 -0.75  0.04]\n",
      " [-0.2   0.72 -0.66  3.49]\n",
      " [ 0.    0.    0.    1.  ]]\n",
      "Apply point-to-point ICP\n",
      "registration::RegistrationResult with fitness=7.509294e-01, inlier_rmse=8.096073e-02, and correspondence_set size of 1010\n",
      "Access transformation to get result.\n",
      "Transformation is:\n",
      "[[ 0.93048212  0.36368568 -0.04399708  0.02109318]\n",
      " [ 0.13751568 -0.45807328 -0.87821311  0.14617549]\n",
      " [-0.33954743  0.81111131 -0.47624149  3.4502273 ]\n",
      " [ 0.          0.          0.          1.        ]]\n",
      "Total ICP Transformation is:\n",
      "[[ 0.93048212  0.36368568 -0.04399708  0.02109318]\n",
      " [ 0.13751568 -0.45807328 -0.87821311  0.14617549]\n",
      " [-0.33954743  0.81111131 -0.47624149  3.4502273 ]\n",
      " [ 0.          0.          0.          1.        ]]\n",
      "result: \n",
      "[[ 0.93  0.36 -0.04  0.02]\n",
      " [ 0.14 -0.46 -0.88  0.15]\n",
      " [-0.34  0.81 -0.48  3.45]\n",
      " [ 0.    0.    0.    1.  ]]\n",
      "Inlier ratio: 0.0639830508475\n",
      "Found 6DoF pose of dining table_1\n"
     ]
    }
   ],
   "source": [
    "# for dining table\n",
    "micp.set_ICP_thres(thres_ICP=0.6, thres_front_ICP=0.18)\n",
    "micp.set_pcd_ratio(ratio=0.5)\n",
    "micp.set_inlier_ratio(ratio=0.02)\n",
    "# micp.set_multiobject_num(num = 1)\n",
    "micp.set_merge_mask(merge=True)\n",
    "pose_dict = micp.detect(name_mask=[\"dining table\"], visualize=True)"
   ]
  },
  {
   "cell_type": "code",
   "execution_count": 17,
   "metadata": {},
   "outputs": [],
   "source": [
    "# add table\n",
    "center, rpy = pose_refine(\"dining table\", pose_dict[\"dining table_1\"])\n",
    "table_vis, table_g = add_table(gscene, TABLE_NAME, center, rpy)\n",
    "TABLE_HEIGHT = table_g.center[2] + table_g.dims[2]/2"
   ]
  },
  {
   "cell_type": "code",
   "execution_count": 18,
   "metadata": {},
   "outputs": [],
   "source": [
    "table_g.dims = (1.8, 1.0,  0.02)"
   ]
  },
  {
   "cell_type": "code",
   "execution_count": 19,
   "metadata": {},
   "outputs": [],
   "source": [
    "table_b = pscene.create_binder(TABLE_NAME, TABLE_NAME, PlaceFrame, point=(0,0,table_g.dims[2]/2), key=TOOL_SLIDE_KEY)\n",
    "# gscene.add_virtual_guardrail(table_g, HEIGHT=0.01, axis=\"xy\")"
   ]
  },
  {
   "cell_type": "markdown",
   "metadata": {},
   "source": [
    "### update workspace"
   ]
  },
  {
   "cell_type": "code",
   "execution_count": 20,
   "metadata": {},
   "outputs": [],
   "source": [
    "Tbt = table_g.get_tf(HOME_POSE_DEFAULT)\n",
    "Tbm = gscene.get_tf(MOBILE_BASE, VIEW_TABLE)\n",
    "Ttm = np.matmul(np.linalg.inv(Tbt), Tbm)\n",
    "\n",
    "Ymax = table_g.dims[1]/2\n",
    "Ymin = Ttm[1,3]-0.9\n",
    "Xmax = Ttm[0,3]+0.8\n",
    "Xmin = -table_g.dims[0]/2-0.3\n",
    "Xtc = np.mean([Xmax, Xmin])\n",
    "Ytc = np.mean([Ymax, Ymin])\n",
    "dX = Xmax - Xmin\n",
    "dY = Ymax - Ymin\n",
    "Xbc, Ybc, _, _ = np.matmul(Tbt, [Xtc, Ytc, 0, 1])\n",
    "Xmax, Xmin = Xbc + dX/2, Xbc - dX/2\n",
    "Ymax, Ymin = Ybc + dY/2, Ybc - dY/2\n",
    "\n",
    "gscene.set_workspace_boundary(\n",
    "    Xmin, Xmax, Ymin, Ymax, -CLEARANCE, WS_HEIGHT, thickness=WALL_THICKNESS, \n",
    "    RPY=Rot2rpy(Tbt[:3,:3]))"
   ]
  },
  {
   "cell_type": "code",
   "execution_count": 21,
   "metadata": {},
   "outputs": [
    {
     "data": {
      "text/plain": [
       "<pkg.geometry.geometry.GeometryItem at 0x7f40a4013750>"
      ]
     },
     "execution_count": 21,
     "metadata": {},
     "output_type": "execute_result"
    }
   ],
   "source": [
    "floor_ws = gscene.NAME_DICT[\"floor_ws\"]\n",
    "gscene.create_safe(GEOTYPE.BOX, \"obstacle_corner\", link_name=\"base_link\",\n",
    "                   dims = (0.5,0.5,1), \n",
    "                   center=(floor_ws.dims[0]/2-0.3, floor_ws.dims[1]/2-0.3, 0.5), \n",
    "                  display=True, collision=True, parent=\"floor_ws\",\n",
    "                  color=(1,1,0,0.2))"
   ]
  },
  {
   "cell_type": "code",
   "execution_count": null,
   "metadata": {},
   "outputs": [],
   "source": []
  },
  {
   "cell_type": "markdown",
   "metadata": {},
   "source": [
    "#### [SAVE DATA]"
   ]
  },
  {
   "cell_type": "code",
   "execution_count": 22,
   "metadata": {},
   "outputs": [],
   "source": [
    "if SAVE_DATA:\n",
    "    color, depth, Qcur = micp.get_image()\n",
    "    cam_pose = viewpoint.get_tf(Qcur)\n",
    "    dcam.ready_saving(*micp.get_camera_config())\n",
    "    dcam.save_scene(color, depth, cam_pose)"
   ]
  },
  {
   "cell_type": "code",
   "execution_count": null,
   "metadata": {},
   "outputs": [],
   "source": []
  },
  {
   "cell_type": "markdown",
   "metadata": {},
   "source": [
    "### Chair"
   ]
  },
  {
   "cell_type": "code",
   "execution_count": 23,
   "metadata": {},
   "outputs": [],
   "source": [
    "for i in range(10):\n",
    "    try:\n",
    "        gscene.remove(gscene.NAME_DICT[\"chair_{}\".format(i)])\n",
    "    except:\n",
    "        pass"
   ]
  },
  {
   "cell_type": "code",
   "execution_count": 24,
   "metadata": {
    "scrolled": true
   },
   "outputs": [
    {
     "name": "stdout",
     "output_type": "stream",
     "text": [
      "name_mask is ['chair']\n",
      "request 0 -> response 0\n",
      "==== Received color, depth image from remote camera ====\n",
      "Maximun num of object for detection : 5\n",
      "===== Detected : chair, 2 object(s) =====\n",
      "\n",
      "'chair' is not in gscene. Use manual input for initial guess\n",
      "\n",
      "Apply point-to-point ICP\n",
      "registration::RegistrationResult with fitness=1.000000e+00, inlier_rmse=4.261861e-02, and correspondence_set size of 15154\n",
      "Access transformation to get result.\n",
      "Transformation is:\n",
      "[[ 0.95047564 -0.31018496  0.01952813 -0.33670492]\n",
      " [-0.18023607 -0.60129095 -0.77843698 -0.18383501]\n",
      " [ 0.25320154  0.73636571 -0.62741891  2.64013944]\n",
      " [ 0.          0.          0.          1.        ]]\n",
      "Total ICP Transformation is:\n",
      "[[ 0.95047564 -0.31018496  0.01952813 -0.33670492]\n",
      " [-0.18023607 -0.60129095 -0.77843698 -0.18383501]\n",
      " [ 0.25320154  0.73636571 -0.62741891  2.64013944]\n",
      " [ 0.          0.          0.          1.        ]]\n",
      "Inlier ratio: 0.206912503304\n",
      "initial: \n",
      "[[ 0.95 -0.31  0.02 -0.34]\n",
      " [-0.18 -0.6  -0.78 -0.18]\n",
      " [ 0.25  0.74 -0.63  2.64]\n",
      " [ 0.    0.    0.    1.  ]]\n",
      "Apply point-to-point ICP\n",
      "registration::RegistrationResult with fitness=9.563679e-01, inlier_rmse=2.316748e-02, and correspondence_set size of 5677\n",
      "Access transformation to get result.\n",
      "Transformation is:\n",
      "[[ 0.96309969 -0.26730177 -0.03144441 -0.31847242]\n",
      " [-0.18850926 -0.58654816 -0.78767092 -0.17967577]\n",
      " [ 0.19210217  0.76453318 -0.61529321  2.64613887]\n",
      " [ 0.          0.          0.          1.        ]]\n",
      "Total ICP Transformation is:\n",
      "[[ 0.96309969 -0.26730177 -0.03144441 -0.31847242]\n",
      " [-0.18850926 -0.58654816 -0.78767092 -0.17967577]\n",
      " [ 0.19210217  0.76453318 -0.61529321  2.64613887]\n",
      " [ 0.          0.          0.          1.        ]]\n",
      "result: \n",
      "[[ 0.96 -0.27 -0.03 -0.32]\n",
      " [-0.19 -0.59 -0.79 -0.18]\n",
      " [ 0.19  0.76 -0.62  2.65]\n",
      " [ 0.    0.    0.    1.  ]]\n",
      "Inlier ratio: 0.14530816946\n",
      "Found 6DoF pose of chair_1\n",
      "\n",
      "'chair' is not in gscene. Use manual input for initial guess\n",
      "\n",
      "Apply point-to-point ICP\n",
      "registration::RegistrationResult with fitness=1.000000e+00, inlier_rmse=4.070392e-02, and correspondence_set size of 53533\n",
      "Access transformation to get result.\n",
      "Transformation is:\n",
      "[[ 0.99884718 -0.0128486  -0.04625186 -0.25752076]\n",
      " [-0.0446628  -0.60189393 -0.79732609  0.42847161]\n",
      " [-0.01759419  0.79847265 -0.60177391  1.77189372]\n",
      " [ 0.          0.          0.          1.        ]]\n",
      "Total ICP Transformation is:\n",
      "[[ 0.99884718 -0.0128486  -0.04625186 -0.25752076]\n",
      " [-0.0446628  -0.60189393 -0.79732609  0.42847161]\n",
      " [-0.01759419  0.79847265 -0.60177391  1.77189372]\n",
      " [ 0.          0.          0.          1.        ]]\n",
      "Inlier ratio: 0.208040651622\n",
      "initial: \n",
      "[[ 1.   -0.01 -0.05 -0.26]\n",
      " [-0.04 -0.6  -0.8   0.43]\n",
      " [-0.02  0.8  -0.6   1.77]\n",
      " [ 0.    0.    0.    1.  ]]\n",
      "Apply point-to-point ICP\n",
      "registration::RegistrationResult with fitness=9.941838e-01, inlier_rmse=1.549208e-02, and correspondence_set size of 21025\n",
      "Access transformation to get result.\n",
      "Transformation is:\n",
      "[[ 0.99888769 -0.03959704 -0.02560184 -0.26739758]\n",
      " [-0.0445988  -0.61712816 -0.7855977   0.41814935]\n",
      " [ 0.01530773  0.78586568 -0.6182077   1.77592245]\n",
      " [ 0.          0.          0.          1.        ]]\n",
      "Total ICP Transformation is:\n",
      "[[ 0.99888769 -0.03959704 -0.02560184 -0.26739758]\n",
      " [-0.0445988  -0.61712816 -0.7855977   0.41814935]\n",
      " [ 0.01530773  0.78586568 -0.6182077   1.77592245]\n",
      " [ 0.          0.          0.          1.        ]]\n",
      "result: \n",
      "[[ 1.   -0.04 -0.03 -0.27]\n",
      " [-0.04 -0.62 -0.79  0.42]\n",
      " [ 0.02  0.79 -0.62  1.78]\n",
      " [ 0.    0.    0.    1.  ]]\n",
      "Inlier ratio: 0.151850260587\n",
      "Found 6DoF pose of chair_2\n",
      "Total 0 chair in the scene\n",
      "Add new chair in the scene\n",
      "Add new chair in the scene\n",
      "name_mask is ['chair']\n",
      "request 0 -> response 0\n",
      "==== Received color, depth image from remote camera ====\n",
      "Maximun num of object for detection : 5\n",
      "===== Detected : chair, 4 object(s) =====\n",
      "\n",
      "'chair' is not in gscene. Use manual input for initial guess\n",
      "\n",
      "Apply point-to-point ICP\n",
      "registration::RegistrationResult with fitness=1.000000e+00, inlier_rmse=4.407816e-02, and correspondence_set size of 57670\n",
      "Access transformation to get result.\n",
      "Transformation is:\n",
      "[[ 0.84573054  0.52674516 -0.0853193   0.54579409]\n",
      " [ 0.25612725 -0.54098714 -0.80108159  0.43272568]\n",
      " [-0.46812251  0.65564656 -0.59244313  1.7005804 ]\n",
      " [ 0.          0.          0.          1.        ]]\n",
      "Total ICP Transformation is:\n",
      "[[ 0.84573054  0.52674516 -0.0853193   0.54579409]\n",
      " [ 0.25612725 -0.54098714 -0.80108159  0.43272568]\n",
      " [-0.46812251  0.65564656 -0.59244313  1.7005804 ]\n",
      " [ 0.          0.          0.          1.        ]]\n",
      "Inlier ratio: 0.158331021088\n",
      "initial: \n",
      "[[ 0.85  0.53 -0.09  0.55]\n",
      " [ 0.26 -0.54 -0.8   0.43]\n",
      " [-0.47  0.66 -0.59  1.7 ]\n",
      " [ 0.    0.    0.    1.  ]]\n",
      "Apply point-to-point ICP\n",
      "registration::RegistrationResult with fitness=9.969848e-01, inlier_rmse=1.946841e-02, and correspondence_set size of 21823\n",
      "Access transformation to get result.\n",
      "Transformation is:\n",
      "[[ 0.87885633  0.47330207 -0.05997252  0.53314999]\n",
      " [ 0.25048347 -0.56474969 -0.78633059  0.42154684]\n",
      " [-0.40604137  0.67604949 -0.61488818  1.70679468]\n",
      " [ 0.          0.          0.          1.        ]]\n",
      "Total ICP Transformation is:\n",
      "[[ 0.87885633  0.47330207 -0.05997252  0.53314999]\n",
      " [ 0.25048347 -0.56474969 -0.78633059  0.42154684]\n",
      " [-0.40604137  0.67604949 -0.61488818  1.70679468]\n",
      " [ 0.          0.          0.          1.        ]]\n",
      "result: \n",
      "[[ 0.88  0.47 -0.06  0.53]\n",
      " [ 0.25 -0.56 -0.79  0.42]\n",
      " [-0.41  0.68 -0.61  1.71]\n",
      " [ 0.    0.    0.    1.  ]]\n",
      "Inlier ratio: 0.118657881047\n",
      "Found 6DoF pose of chair_1\n",
      "\n",
      "'chair' is not in gscene. Use manual input for initial guess\n",
      "\n",
      "Apply point-to-point ICP\n",
      "registration::RegistrationResult with fitness=1.000000e+00, inlier_rmse=5.334762e-02, and correspondence_set size of 8418\n",
      "Access transformation to get result.\n",
      "Transformation is:\n",
      "[[ 0.81745454  0.57435911 -0.04335535 -1.14112433]\n",
      " [ 0.33740667 -0.53849653 -0.77212577 -0.27449682]\n",
      " [-0.46682419  0.61654933 -0.63398902  2.86169085]\n",
      " [ 0.          0.          0.          1.        ]]\n",
      "Total ICP Transformation is:\n",
      "[[ 0.81745454  0.57435911 -0.04335535 -1.14112433]\n",
      " [ 0.33740667 -0.53849653 -0.77212577 -0.27449682]\n",
      " [-0.46682419  0.61654933 -0.63398902  2.86169085]\n",
      " [ 0.          0.          0.          1.        ]]\n",
      "Inlier ratio: 0.125641331583\n",
      "initial: \n",
      "[[ 0.82  0.57 -0.04 -1.14]\n",
      " [ 0.34 -0.54 -0.77 -0.27]\n",
      " [-0.47  0.62 -0.63  2.86]\n",
      " [ 0.    0.    0.    1.  ]]\n",
      "Apply point-to-point ICP\n",
      "registration::RegistrationResult with fitness=8.940597e-01, inlier_rmse=2.761878e-02, and correspondence_set size of 3266\n",
      "Access transformation to get result.\n",
      "Transformation is:\n",
      "[[ 0.93196386  0.36193452  0.02113688 -1.19058231]\n",
      " [ 0.25676738 -0.61775689 -0.74326772 -0.28976107]\n",
      " [-0.2559568   0.69812591 -0.66866007  2.89744363]\n",
      " [ 0.          0.          0.          1.        ]]\n",
      "Total ICP Transformation is:\n",
      "[[ 0.93196386  0.36193452  0.02113688 -1.19058231]\n",
      " [ 0.25676738 -0.61775689 -0.74326772 -0.28976107]\n",
      " [-0.2559568   0.69812591 -0.66866007  2.89744363]\n",
      " [ 0.          0.          0.          1.        ]]\n",
      "result: \n",
      "[[ 0.93  0.36  0.02 -1.19]\n",
      " [ 0.26 -0.62 -0.74 -0.29]\n",
      " [-0.26  0.7  -0.67  2.9 ]\n",
      " [ 0.    0.    0.    1.  ]]\n",
      "Inlier ratio: 0.113566167736\n",
      "Found 6DoF pose of chair_2\n",
      "\n",
      "'chair' is not in gscene. Use manual input for initial guess\n",
      "\n",
      "Apply point-to-point ICP\n",
      "registration::RegistrationResult with fitness=1.000000e+00, inlier_rmse=3.673085e-02, and correspondence_set size of 18217\n",
      "Access transformation to get result.\n",
      "Transformation is:\n",
      "[[ 0.96582037  0.23861753 -0.10125557  1.01482377]\n",
      " [ 0.08936783 -0.67320488 -0.73403579 -0.15569131]\n",
      " [-0.24331956  0.69989773 -0.67151972  2.47682945]\n",
      " [ 0.          0.          0.          1.        ]]\n",
      "Total ICP Transformation is:\n",
      "[[ 0.96582037  0.23861753 -0.10125557  1.01482377]\n",
      " [ 0.08936783 -0.67320488 -0.73403579 -0.15569131]\n",
      " [-0.24331956  0.69989773 -0.67151972  2.47682945]\n",
      " [ 0.          0.          0.          1.        ]]\n",
      "Inlier ratio: 0.188289574865\n",
      "initial: \n",
      "[[ 0.97  0.24 -0.1   1.01]\n",
      " [ 0.09 -0.67 -0.73 -0.16]\n",
      " [-0.24  0.7  -0.67  2.48]\n",
      " [ 0.    0.    0.    1.  ]]\n",
      "Apply point-to-point ICP\n",
      "registration::RegistrationResult with fitness=9.771453e-01, inlier_rmse=2.306203e-02, and correspondence_set size of 6969\n",
      "Access transformation to get result.\n",
      "Transformation is:\n",
      "[[ 0.95285256  0.28495226 -0.10427945  1.02546073]\n",
      " [ 0.10609966 -0.63485565 -0.76531113 -0.14733782]\n",
      " [-0.28427954  0.71816466 -0.63515717  2.47372627]\n",
      " [ 0.          0.          0.          1.        ]]\n",
      "Total ICP Transformation is:\n",
      "[[ 0.95285256  0.28495226 -0.10427945  1.02546073]\n",
      " [ 0.10609966 -0.63485565 -0.76531113 -0.14733782]\n",
      " [-0.28427954  0.71816466 -0.63515717  2.47372627]\n",
      " [ 0.          0.          0.          1.        ]]\n",
      "result: \n",
      "[[ 0.95  0.28 -0.1   1.03]\n",
      " [ 0.11 -0.63 -0.77 -0.15]\n",
      " [-0.28  0.72 -0.64  2.47]\n",
      " [ 0.    0.    0.    1.  ]]\n"
     ]
    },
    {
     "name": "stdout",
     "output_type": "stream",
     "text": [
      "Inlier ratio: 0.123840368886\n",
      "Found 6DoF pose of chair_3\n",
      "\n",
      "'chair' is not in gscene. Use manual input for initial guess\n",
      "\n",
      "Apply point-to-point ICP\n",
      "registration::RegistrationResult with fitness=1.000000e+00, inlier_rmse=3.653133e-02, and correspondence_set size of 50453\n",
      "Access transformation to get result.\n",
      "Transformation is:\n",
      "[[ 0.92857539  0.36737881 -0.05273101 -0.58848089]\n",
      " [ 0.18237821 -0.57540851 -0.79727235  0.41004913]\n",
      " [-0.32324285  0.73071049 -0.60131207  1.83031417]\n",
      " [ 0.          0.          0.          1.        ]]\n",
      "Total ICP Transformation is:\n",
      "[[ 0.92857539  0.36737881 -0.05273101 -0.58848089]\n",
      " [ 0.18237821 -0.57540851 -0.79727235  0.41004913]\n",
      " [-0.32324285  0.73071049 -0.60131207  1.83031417]\n",
      " [ 0.          0.          0.          1.        ]]\n",
      "Inlier ratio: 0.160374365482\n",
      "initial: \n",
      "[[ 0.93  0.37 -0.05 -0.59]\n",
      " [ 0.18 -0.58 -0.8   0.41]\n",
      " [-0.32  0.73 -0.6   1.83]\n",
      " [ 0.    0.    0.    1.  ]]\n",
      "Apply point-to-point ICP\n",
      "registration::RegistrationResult with fitness=1.000000e+00, inlier_rmse=1.323901e-02, and correspondence_set size of 20705\n",
      "Access transformation to get result.\n",
      "Transformation is:\n",
      "[[ 0.92964898  0.36775931 -0.02249121 -0.60478501]\n",
      " [ 0.20850839 -0.57544689 -0.79081294  0.40139667]\n",
      " [-0.30377133  0.73048883 -0.61164451  1.84548775]\n",
      " [ 0.          0.          0.          1.        ]]\n",
      "Total ICP Transformation is:\n",
      "[[ 0.92964898  0.36775931 -0.02249121 -0.60478501]\n",
      " [ 0.20850839 -0.57544689 -0.79081294  0.40139667]\n",
      " [-0.30377133  0.73048883 -0.61164451  1.84548775]\n",
      " [ 0.          0.          0.          1.        ]]\n",
      "result: \n",
      "[[ 0.93  0.37 -0.02 -0.6 ]\n",
      " [ 0.21 -0.58 -0.79  0.4 ]\n",
      " [-0.3   0.73 -0.61  1.85]\n",
      " [ 0.    0.    0.    1.  ]]\n",
      "Inlier ratio: 0.126890373219\n",
      "Found 6DoF pose of chair_4\n",
      "Total 2 chair in the scene\n",
      "Update existing chair in the scene\n",
      "Update existing chair in the scene\n",
      "Add new chair in the scene\n",
      "Add new chair in the scene\n",
      "name_mask is ['chair']\n",
      "request 0 -> response 0\n",
      "==== Received color, depth image from remote camera ====\n",
      "Maximun num of object for detection : 5\n",
      "===== Detected : chair, 3 object(s) =====\n",
      "\n",
      "'chair' is not in gscene. Use manual input for initial guess\n",
      "\n",
      "Apply point-to-point ICP\n",
      "registration::RegistrationResult with fitness=1.000000e+00, inlier_rmse=3.425887e-02, and correspondence_set size of 45022\n",
      "Access transformation to get result.\n",
      "Transformation is:\n",
      "[[ 0.68967838 -0.72034102 -0.07384122  0.27077928]\n",
      " [-0.47530977 -0.37341435 -0.79664441  0.3167771 ]\n",
      " [ 0.5462823   0.58452588 -0.59992093  1.89488421]\n",
      " [ 0.          0.          0.          1.        ]]\n",
      "Total ICP Transformation is:\n",
      "[[ 0.68967838 -0.72034102 -0.07384122  0.27077928]\n",
      " [-0.47530977 -0.37341435 -0.79664441  0.3167771 ]\n",
      " [ 0.5462823   0.58452588 -0.59992093  1.89488421]\n",
      " [ 0.          0.          0.          1.        ]]\n",
      "Inlier ratio: 0.185282406069\n",
      "initial: \n",
      "[[ 0.69 -0.72 -0.07  0.27]\n",
      " [-0.48 -0.37 -0.8   0.32]\n",
      " [ 0.55  0.58 -0.6   1.89]\n",
      " [ 0.    0.    0.    1.  ]]\n",
      "Apply point-to-point ICP\n",
      "registration::RegistrationResult with fitness=1.000000e+00, inlier_rmse=1.250730e-02, and correspondence_set size of 18380\n",
      "Access transformation to get result.\n",
      "Transformation is:\n",
      "[[ 0.7399544  -0.66885639 -0.0714045   0.27760614]\n",
      " [-0.44945592 -0.41265135 -0.79228039  0.30695681]\n",
      " [ 0.50045665  0.61834454 -0.60596464  1.9078928 ]\n",
      " [ 0.          0.          0.          1.        ]]\n",
      "Total ICP Transformation is:\n",
      "[[ 0.7399544  -0.66885639 -0.0714045   0.27760614]\n",
      " [-0.44945592 -0.41265135 -0.79228039  0.30695681]\n",
      " [ 0.50045665  0.61834454 -0.60596464  1.9078928 ]\n",
      " [ 0.          0.          0.          1.        ]]\n",
      "result: \n",
      "[[ 0.74 -0.67 -0.07  0.28]\n",
      " [-0.45 -0.41 -0.79  0.31]\n",
      " [ 0.5   0.62 -0.61  1.91]\n",
      " [ 0.    0.    0.    1.  ]]\n",
      "Inlier ratio: 0.142907911688\n",
      "Found 6DoF pose of chair_1\n",
      "\n",
      "'chair' is not in gscene. Use manual input for initial guess\n",
      "\n",
      "Apply point-to-point ICP\n",
      "registration::RegistrationResult with fitness=1.000000e+00, inlier_rmse=5.747843e-02, and correspondence_set size of 8671\n",
      "Access transformation to get result.\n",
      "Transformation is:\n",
      "[[ 0.89427656 -0.43633008 -0.0994258   0.42818712]\n",
      " [-0.35188773 -0.54834465 -0.75861265 -0.44275   ]\n",
      " [ 0.27648592  0.71339622 -0.64391096  3.00472888]\n",
      " [ 0.          0.          0.          1.        ]]\n",
      "Total ICP Transformation is:\n",
      "[[ 0.89427656 -0.43633008 -0.0994258   0.42818712]\n",
      " [-0.35188773 -0.54834465 -0.75861265 -0.44275   ]\n",
      " [ 0.27648592  0.71339622 -0.64391096  3.00472888]\n",
      " [ 0.          0.          0.          1.        ]]\n",
      "Inlier ratio: 0.143569523368\n",
      "initial: \n",
      "[[ 0.89 -0.44 -0.1   0.43]\n",
      " [-0.35 -0.55 -0.76 -0.44]\n",
      " [ 0.28  0.71 -0.64  3.  ]\n",
      " [ 0.    0.    0.    1.  ]]\n",
      "Apply point-to-point ICP\n",
      "registration::RegistrationResult with fitness=9.024520e-01, inlier_rmse=2.541650e-02, and correspondence_set size of 3386\n",
      "Access transformation to get result.\n",
      "Transformation is:\n",
      "[[ 0.77668853 -0.62503964 -0.07797671  0.40434358]\n",
      " [-0.4698612  -0.49246429 -0.7326045  -0.46796861]\n",
      " [ 0.41950612  0.60564374 -0.67617324  3.04297161]\n",
      " [ 0.          0.          0.          1.        ]]\n",
      "Total ICP Transformation is:\n",
      "[[ 0.77668853 -0.62503964 -0.07797671  0.40434358]\n",
      " [-0.4698612  -0.49246429 -0.7326045  -0.46796861]\n",
      " [ 0.41950612  0.60564374 -0.67617324  3.04297161]\n",
      " [ 0.          0.          0.          1.        ]]\n",
      "result: \n",
      "[[ 0.78 -0.63 -0.08  0.4 ]\n",
      " [-0.47 -0.49 -0.73 -0.47]\n",
      " [ 0.42  0.61 -0.68  3.04]\n",
      " [ 0.    0.    0.    1.  ]]\n",
      "Inlier ratio: 0.134009918118\n",
      "Found 6DoF pose of chair_2\n",
      "\n",
      "'chair' is not in gscene. Use manual input for initial guess\n",
      "\n",
      "Apply point-to-point ICP\n",
      "registration::RegistrationResult with fitness=1.000000e+00, inlier_rmse=5.429107e-02, and correspondence_set size of 22007\n",
      "Access transformation to get result.\n",
      "Transformation is:\n",
      "[[ 0.78248094 -0.62235984 -0.01979372 -0.98759613]\n",
      " [-0.38060616 -0.45288663 -0.806246    0.31817204]\n",
      " [ 0.49281085  0.63840574 -0.59124915  2.08020507]\n",
      " [ 0.          0.          0.          1.        ]]\n",
      "Total ICP Transformation is:\n",
      "[[ 0.78248094 -0.62235984 -0.01979372 -0.98759613]\n",
      " [-0.38060616 -0.45288663 -0.806246    0.31817204]\n",
      " [ 0.49281085  0.63840574 -0.59124915  2.08020507]\n",
      " [ 0.          0.          0.          1.        ]]\n",
      "Inlier ratio: 0.127430002276\n",
      "initial: \n",
      "[[ 0.78 -0.62 -0.02 -0.99]\n",
      " [-0.38 -0.45 -0.81  0.32]\n",
      " [ 0.49  0.64 -0.59  2.08]\n",
      " [ 0.    0.    0.    1.  ]]\n",
      "Apply point-to-point ICP\n",
      "registration::RegistrationResult with fitness=9.155758e-01, inlier_rmse=2.357354e-02, and correspondence_set size of 7624\n",
      "Access transformation to get result.\n",
      "Transformation is:\n",
      "[[ 0.74906734 -0.66238428 -0.01204851 -0.9894009 ]\n",
      " [-0.42660117 -0.4683546  -0.77372824  0.30513637]\n",
      " [ 0.50686247  0.58471446 -0.63340304  2.08145891]\n",
      " [ 0.          0.          0.          1.        ]]\n",
      "Total ICP Transformation is:\n",
      "[[ 0.74906734 -0.66238428 -0.01204851 -0.9894009 ]\n",
      " [-0.42660117 -0.4683546  -0.77372824  0.30513637]\n",
      " [ 0.50686247  0.58471446 -0.63340304  2.08145891]\n",
      " [ 0.          0.          0.          1.        ]]\n",
      "result: \n",
      "[[ 0.75 -0.66 -0.01 -0.99]\n",
      " [-0.43 -0.47 -0.77  0.31]\n",
      " [ 0.51  0.58 -0.63  2.08]\n",
      " [ 0.    0.    0.    1.  ]]\n",
      "Inlier ratio: 0.095151542691\n",
      "Found 6DoF pose of chair_3\n",
      "Total 4 chair in the scene\n",
      "Update existing chair in the scene\n",
      "Update existing chair in the scene\n",
      "Add new chair in the scene\n"
     ]
    }
   ],
   "source": [
    "panda_arm1 = crob.robot_dict[\"panda_arm1\"]\n",
    "img_list = []\n",
    "for theta0 in [-30, 0, 30]:\n",
    "    VIEW_LOC = crob.get_real_robot_pose()[:6]\n",
    "#     VIEW_ARM = HOME_POSE_DEFAULT[6:] + np.deg2rad([theta0,-45,0,-70,0,70,-45])\n",
    "    VIEW_ARM = HOME_POSE_DEFAULT[6:] + np.deg2rad([theta0,-55,0,-65,0,45,-45])\n",
    "    VIEW_CHAIR = list(VIEW_LOC) + list(VIEW_ARM)\n",
    "    \n",
    "    crob.joint_move_make_sure(np.array(VIEW_CHAIR), ref_speed=np.pi/8)\n",
    "    \n",
    "    time.sleep(0.5)\n",
    "    \n",
    "    # for chair\n",
    "    micp.set_ICP_thres(thres_ICP=0.3, thres_front_ICP=0.08)\n",
    "    micp.set_pcd_ratio(ratio=1)\n",
    "    micp.set_inlier_ratio(ratio=0.05)\n",
    "    micp.set_multiobject_num(num = 5)\n",
    "    micp.set_outlier_removal(nb_points=18, radius=0.05)\n",
    "    # micp.set_merge_mask(merge=True)\n",
    "    pose_dict = micp.detect(name_mask=[\"chair\"], visualize=True)\n",
    "    \n",
    "    # add or update suitcase\n",
    "    add_update_object(gscene, crob, \"chair\", pose_dict, separate_dist=0.28, height = 0)\n",
    "    \n",
    "    color, depth = micp.last_input[:2]\n",
    "    Qcur = crob.get_real_robot_pose()\n",
    "    \n",
    "    img_list.append((color, depth))\n",
    "    \n",
    "    # save data\n",
    "    if SAVE_DATA:\n",
    "        cam_pose = viewpoint.get_tf(Qcur)\n",
    "        dcam.ready_saving(*micp.get_camera_config())\n",
    "        dcam.save_scene(color, depth, cam_pose)"
   ]
  },
  {
   "cell_type": "code",
   "execution_count": 25,
   "metadata": {},
   "outputs": [],
   "source": [
    "gcol_names = sorted([gname for gname in gscene.NAME_DICT.keys() \n",
    "                 if \"chair\" in gname and \"col\" in gname])\n",
    "chair_names = []\n",
    "\n",
    "for gcol_name in gcol_names:\n",
    "    chair_col_g = gscene.NAME_DICT[gcol_name]\n",
    "    chair_g = gscene.NAME_DICT[chair_col_g.parent]\n",
    "    chair_dim = chair_col_g.dims\n",
    "    chair_name = chair_g.name\n",
    "    chair_names.append(chair_name)\n",
    "    push_point_list = []\n",
    "    for i in range(4):\n",
    "        R = Rot_axis_series([3, 2], [np.pi/2*i, np.pi/2])\n",
    "        point = np.round(np.multiply(chair_dim, -R[:,2])/2, 4)\n",
    "        point[2] = MOBILE_PUSH_HEIGHT\n",
    "        ap_name = \"side{}\".format(i)\n",
    "        push_point_list.append(FramePoint(ap_name, chair_g, point=point, rpy=Rot2rpy(R), key=MOBILE_PUSH_KEY))\n",
    "\n",
    "    slide_point = SlidePoint(\"bottom_p\", chair_g, point=(0,0,-CLEARANCE), rpy=(0,0,0), \n",
    "                                               binded_on=floor_b, dist_push_min=0.1, dist_push_max=1.0, key=MOBILE_SLIDE_KEY)\n",
    "\n",
    "    chair_s = pscene.create_subject(oname=chair_name, gname=chair_name, _type=PushObject, \n",
    "                                  push_point_list=push_point_list, slide_point=slide_point)"
   ]
  },
  {
   "cell_type": "code",
   "execution_count": null,
   "metadata": {},
   "outputs": [],
   "source": []
  },
  {
   "cell_type": "markdown",
   "metadata": {},
   "source": [
    "## Add  ref waypoint"
   ]
  },
  {
   "cell_type": "code",
   "execution_count": 26,
   "metadata": {},
   "outputs": [],
   "source": [
    "table_body = gscene.NAME_DICT[TABLE_NAME]\n",
    "\n",
    "WP_NAME = \"wp_0\"\n",
    "WP_DIM = (0.1,0.1,0.01)\n",
    "WP_LOC = (0, -0.2, table_body.dims[2]/2+WP_DIM[2]/2)\n",
    "WP_RPY = (0,0,np.pi/2)\n",
    "\n",
    "wp_g = gscene.create_safe(GEOTYPE.BOX, WP_NAME, link_name=\"base_link\", \n",
    "                          dims=WP_DIM,\n",
    "                          center=(WP_LOC[0], WP_LOC[1], WP_LOC[2]), rpy=WP_RPY,\n",
    "                          fixed=True, collision=True, color=(0.0,0.0,0.8,1), parent=TABLE_NAME)\n",
    "\n",
    "waypoint_s = pscene.create_subject(oname=\"waypoints\", gname=TABLE_NAME, _type=WaypointTask,\n",
    "                                 action_points_dict={\n",
    "                                     wp_g.name: WayFrame(\n",
    "                                         wp_g.name, wp_g, [0, 0, wp_g.dims[2] / 2], [0, 0, 0])\n",
    "                                 })"
   ]
  },
  {
   "cell_type": "code",
   "execution_count": null,
   "metadata": {},
   "outputs": [],
   "source": []
  },
  {
   "cell_type": "markdown",
   "metadata": {},
   "source": [
    "### prepare planner"
   ]
  },
  {
   "cell_type": "code",
   "execution_count": 27,
   "metadata": {},
   "outputs": [
    {
     "name": "stdout",
     "output_type": "stream",
     "text": [
      "\u001b[91m[WARN] reach data is not ready for pmb. Ignoring this robot...\u001b[0m\n",
      "Dash is running on http://0.0.0.0:8050/\n",
      "\n",
      " * Serving Flask app \"pkg.ui.dash_launcher\" (lazy loading)\n",
      " * Environment: production\n",
      "   WARNING: This is a development server. Do not use it in a production deployment.\n",
      "   Use a production WSGI server instead.\n",
      " * Debug mode: off\n"
     ]
    }
   ],
   "source": [
    "from pkg.planning.filtering.grasp_filter import GraspChecker\n",
    "from pkg.planning.filtering.reach_filter import ReachChecker\n",
    "gcheck = GraspChecker(pscene)\n",
    "rcheck = ReachChecker(pscene)\n",
    "\n",
    "from pkg.planning.motion.moveit.moveit_planner import MoveitPlanner\n",
    "mplan = MoveitPlanner(pscene, enable_dual=False)\n",
    "mplan.update_gscene()\n",
    "mplan.incremental_constraint_motion = True\n",
    "\n",
    "from pkg.planning.incremental_search import *\n",
    "# joint motion is not allowed when pusing object with holder\n",
    "idc_push = np.where([stype == PushObject for stype in pscene.subject_type_list])[0]\n",
    "inc = IncrementalSearch(pscene, gcheck, rcheck, \n",
    "                        explicit_rule= lambda pscene, node, leaf: not any([node[idx]==leaf[idx] and \"push\" in node[idx] for idx in idc_push]))\n",
    "inc.prepare()\n",
    "inc.set_motion_planner(mplan)\n",
    "\n",
    "cresv = CollisionResolver(inc, gcheck)\n",
    "rresv = ReachResolver(inc, rcheck, mplan, floor=floor_b.geometry, N_try_max=100)\n",
    "mresv = MotionResolver(inc, mplan)\n",
    "inc.resolver_stack = [cresv, rresv, mresv]\n",
    "\n",
    "from pkg.ui.ui_broker import *\n",
    "# start UI\n",
    "ui_broker = UIBroker.instance()\n",
    "ui_broker.initialize(inc, s_builder)\n",
    "ui_broker.start_server()\n",
    "\n",
    "ui_broker.set_tables()"
   ]
  },
  {
   "cell_type": "code",
   "execution_count": null,
   "metadata": {},
   "outputs": [],
   "source": []
  },
  {
   "cell_type": "markdown",
   "metadata": {},
   "source": [
    "### Initialize State"
   ]
  },
  {
   "cell_type": "code",
   "execution_count": 28,
   "metadata": {},
   "outputs": [
    {
     "name": "stdout",
     "output_type": "stream",
     "text": [
      "['chair_0', 'chair_1', 'chair_2', 'chair_3', 'chair_4', 'waypoints']\n",
      "('floor_ws', 'floor_ws', 'floor_ws', 'floor_ws', 'floor_ws', 0)\n"
     ]
    }
   ],
   "source": [
    "gscene.show_pose(VIEW_TABLE)\n",
    "chain_list = \\\n",
    "    [BindingChain(chair_name, \"bottom_p\", \"floor_ws\", \"floor_ws\") for chair_name in chair_names] \\\n",
    "    + [BindingChain(\"waypoints\", None, None, None)]\n",
    "# chain_list = \\\n",
    "#     [BindingChain(bag_name, \"bottom_p\", \"floor_ws\", \"floor_ws\") for chair_name in chair_names] \\\n",
    "#     + [BindingChain(clock_name, \"bottom_p\", \"table\", \"table\") for clock_name in clock_names] \\\n",
    "#     + [BindingChain(\"waypoints\", None, None, None)]\n",
    "initial_state = pscene.initialize_state(VIEW_TABLE, chain_list=chain_list)\n",
    "gscene.update_markers_all()\n",
    "print(pscene.subject_name_list)\n",
    "print(initial_state.node)"
   ]
  },
  {
   "cell_type": "code",
   "execution_count": null,
   "metadata": {},
   "outputs": [],
   "source": []
  },
  {
   "cell_type": "markdown",
   "metadata": {},
   "source": [
    "## Custom planner"
   ]
  },
  {
   "cell_type": "code",
   "execution_count": 29,
   "metadata": {},
   "outputs": [],
   "source": [
    "from nonholonomic_planner import *\n",
    "\n",
    "MIN_RADI_EXP = 0.1\n",
    "NH_CONNECTION_DIST = 1\n",
    "\n",
    "nhp = NonHolonomicPlanner(mplan, MOBILE_NAME, min_radi=MIN_RADI_EXP)\n",
    "def custom_planner(group_name, tool_link, goal_pose, target_link, from_Q,\n",
    "                   timeout=1, **kwargs):\n",
    "    if group_name == MOBILE_NAME:\n",
    "        Tbm = np.matmul(gscene.get_tf(target_link, from_Q), \n",
    "                        T_xyzquat((goal_pose[:3], goal_pose[3:])))\n",
    "        to_Q = Tbm[:2, 3].tolist()+[Rot2axis(Tbm[:3,:3], 3)]\n",
    "        traj = nhp.search(from_Q, to_Q, timeout=timeout, update_gscene=False, connect_dist=NH_CONNECTION_DIST)\n",
    "        return traj, traj is not None\n",
    "    else:\n",
    "        return mplan.planner.plan_py(group_name, tool_link, goal_pose, target_link, from_Q,\n",
    "                       timeout=1, **kwargs)\n",
    "    \n",
    "def custom_planner_joint(group_name, goal_state, Q_init, timeout=1, **kwargs):\n",
    "    if group_name == MOBILE_NAME:\n",
    "        custom_planner_joint.args = (group_name, goal_state, Q_init, timeout)\n",
    "        custom_planner_joint.kwargs = kwargs\n",
    "        traj = nhp.search(Q_init, goal_state[:3], timeout=timeout, update_gscene=False, connect_dist=NH_CONNECTION_DIST)\n",
    "#         if traj is None:\n",
    "#             raise(RuntimeError(\"fail\"))\n",
    "        return traj, traj is not None\n",
    "    else:\n",
    "        return mplan.planner.plan_joint_motion_py(group_name, goal_state, Q_init, timeout=1, **kwargs)\n",
    "    \n",
    "mplan.custom_planner = custom_planner\n",
    "mplan.custom_planner_joint = custom_planner_joint"
   ]
  },
  {
   "cell_type": "code",
   "execution_count": 30,
   "metadata": {},
   "outputs": [],
   "source": [
    "crob.home_pose = initial_state.Q\n",
    "crob.home_dict = list2dict(crob.home_pose, crob.joint_names)"
   ]
  },
  {
   "cell_type": "code",
   "execution_count": 31,
   "metadata": {
    "scrolled": true
   },
   "outputs": [
    {
     "name": "stdout",
     "output_type": "stream",
     "text": [
      "Use 10/20 agents\n",
      "\u001b[91m[WARN] Transition Queue Empty\u001b[0m\n",
      "\u001b[91m[WARN] Transition Queue Empty\u001b[0m\n",
      "\u001b[91m[WARN] Transition Queue Empty\u001b[0m\n",
      "\u001b[91m[WARN] Transition Queue Empty\u001b[0m\n",
      "\u001b[91m[WARN] Transition Queue Empty\u001b[0m\n",
      "\u001b[91m[WARN] Transition Queue Empty\u001b[0m\n",
      "\u001b[91m[WARN] Transition Queue Empty\u001b[0m\n",
      "\u001b[91m[WARN] Transition Queue Empty\u001b[0m\n",
      "\u001b[91m[WARN] Transition Queue Empty\u001b[0m\n",
      "\u001b[91m[WARN] Transition Queue Empty\u001b[0m\n",
      "\u001b[91m[WARN] Transition Queue Empty\u001b[0m\n",
      "\u001b[91m[WARN] Transition Queue Empty\u001b[0m\n",
      "\u001b[91m[WARN] Transition Queue Empty\u001b[0m\n",
      "\u001b[91m[WARN] Transition Queue Empty\u001b[0m\n",
      "\u001b[91m[WARN] Transition Queue Empty\u001b[0m\n",
      "\u001b[91m[WARN] Transition Queue Empty\u001b[0m\n",
      "\u001b[91m[WARN] Transition Queue Empty\u001b[0m\n",
      "\u001b[91m[WARN] Transition Queue Empty\u001b[0m\n",
      "\u001b[91m[WARN] Transition Queue Empty\u001b[0m\n",
      "\u001b[91m[WARN] Transition Queue Empty\u001b[0m\n",
      "\u001b[91m[WARN] Transition Queue Empty\u001b[0m\n",
      "\u001b[91m[WARN] Transition Queue Empty\u001b[0m\n",
      "\u001b[91m[WARN] Transition Queue Empty\u001b[0m\n",
      "\u001b[91m[WARN] Transition Queue Empty\u001b[0m\n",
      "\u001b[91m[WARN] Transition Queue Empty\u001b[0m\n",
      "\u001b[91m[WARN] Transition Queue Empty\u001b[0m\n",
      "\u001b[91m[WARN] Transition Queue Empty\u001b[0m\n",
      "\u001b[91m[WARN] Transition Queue Empty\u001b[0m\n",
      "\u001b[91m[WARN] Transition Queue Empty\u001b[0m\n",
      "\u001b[91m[WARN] Transition Queue Empty\u001b[0m\n",
      "=========================================================================================================\n",
      "======================= terminated 8: required answers acquired  (12.5/100.0) ===============================\n",
      "=========================================================================================================\n",
      "=========================================================================================================\n",
      "======================= terminated 4: Stop called from other agent  (12.6/100.0) ===============================\n",
      "=========================================================================================================\n",
      "=========================================================================================================\n",
      "======================= terminated 9: Stop called from other agent  (12.6/100.0) ===============================\n",
      "=========================================================================================================\n",
      "=========================================================================================================\n",
      "=========================================================================================================\n",
      "======================= terminated 5: Stop called from other agent  (12.6/100.0) ===============================\n",
      "======================= terminated 6: Stop called from other agent  (12.6/100.0) ===============================\n",
      "=========================================================================================================\n",
      "=========================================================================================================\n",
      "=========================================================================================================\n",
      "======================= terminated 1: Stop called from other agent  (12.7/100.0) ===============================\n",
      "=========================================================================================================\n",
      "=========================================================================================================\n",
      "======================= terminated 7: Stop called from other agent  (12.7/100.0) ===============================\n",
      "=========================================================================================================\n",
      "=========================================================================================================\n",
      "======================= terminated 3: Stop called from other agent  (12.8/100.0) ===============================\n",
      "=========================================================================================================\n",
      "\u001b[91m[ERROR] Non-joined subprocesses: [2, 0]\u001b[0m\n",
      "========================== FINISHED (13.4 / 100.0 s) ==============================]\n"
     ]
    }
   ],
   "source": [
    "time_start = time.time()\n",
    "DEBUG = False\n",
    "inc.prepare()\n",
    "from_state = initial_state.copy(pscene)\n",
    "goal_nodes = [initial_state.node[:-1]+(1,)]\n",
    "\n",
    "inc.search(from_state, goal_nodes, max_solution_count=1,\n",
    "           verbose=DEBUG, display=DEBUG, dt_vis=0.001, \n",
    "           timeout=0.5, timeout_loop=100, \n",
    "           multiprocess=not DEBUG, add_homing=False)\n",
    "time_approach_planning = time.time() - time_start"
   ]
  },
  {
   "cell_type": "code",
   "execution_count": null,
   "metadata": {},
   "outputs": [],
   "source": []
  },
  {
   "cell_type": "markdown",
   "metadata": {},
   "source": [
    "### Get snode schedule"
   ]
  },
  {
   "cell_type": "code",
   "execution_count": 32,
   "metadata": {},
   "outputs": [
    {
     "data": {
      "text/plain": [
       "8"
      ]
     },
     "execution_count": 32,
     "metadata": {},
     "output_type": "execute_result"
    }
   ],
   "source": [
    "snode_schedule = inc.get_best_schedule(at_home=False)\n",
    "snode_schedule_move = []\n",
    "for snode in snode_schedule:\n",
    "    if snode.state.node[-1] != 0:\n",
    "        break\n",
    "    snode_schedule_move.append(snode)\n",
    "len(snode_schedule_move)"
   ]
  },
  {
   "cell_type": "code",
   "execution_count": null,
   "metadata": {},
   "outputs": [],
   "source": []
  },
  {
   "cell_type": "markdown",
   "metadata": {},
   "source": [
    "### play schedule"
   ]
  },
  {
   "cell_type": "code",
   "execution_count": 33,
   "metadata": {},
   "outputs": [],
   "source": [
    "pscene.set_object_state(initial_state)\n",
    "gscene.show_pose(initial_state.Q)"
   ]
  },
  {
   "cell_type": "code",
   "execution_count": 34,
   "metadata": {
    "scrolled": true
   },
   "outputs": [
    {
     "name": "stdout",
     "output_type": "stream",
     "text": [
      "('floor_ws', 'floor_ws', 'floor_ws', 'floor_ws', 'floor_ws', 0)->('floor_ws', 'floor_ws', 'floor_ws', 'mpush', 'floor_ws', 0)\n",
      "('floor_ws', 'floor_ws', 'floor_ws', 'mpush', 'floor_ws', 0)->('floor_ws', 'floor_ws', 'floor_ws', 'floor_ws', 'floor_ws', 0)\n",
      "('floor_ws', 'floor_ws', 'floor_ws', 'floor_ws', 'floor_ws', 0)->('floor_ws', 'floor_ws', 'floor_ws', 'mpush', 'floor_ws', 0)\n",
      "('floor_ws', 'floor_ws', 'floor_ws', 'mpush', 'floor_ws', 0)->('floor_ws', 'floor_ws', 'floor_ws', 'floor_ws', 'floor_ws', 0)\n",
      "('floor_ws', 'floor_ws', 'floor_ws', 'floor_ws', 'floor_ws', 0)->('floor_ws', 'floor_ws', 'floor_ws', 'mpush', 'floor_ws', 0)\n",
      "('floor_ws', 'floor_ws', 'floor_ws', 'mpush', 'floor_ws', 0)->('floor_ws', 'floor_ws', 'floor_ws', 'floor_ws', 'floor_ws', 0)\n",
      "('floor_ws', 'floor_ws', 'floor_ws', 'floor_ws', 'floor_ws', 0)->('floor_ws', 'floor_ws', 'floor_ws', 'floor_ws', 'floor_ws', 0)\n"
     ]
    }
   ],
   "source": [
    "snode_schedule_cvt = snode_schedule_move\n",
    "inc.play_schedule(snode_schedule_cvt, period=0.002)\n",
    "pscene.set_object_state(snode_schedule_cvt[-1].state)"
   ]
  },
  {
   "cell_type": "markdown",
   "metadata": {},
   "source": [
    "#### make trajectory safe"
   ]
  },
  {
   "cell_type": "code",
   "execution_count": 35,
   "metadata": {},
   "outputs": [],
   "source": [
    "vel_lims, acc_lims, dt_step = 0.5, 0.5, 0.02\n",
    "snode_schedule_safe = [snode_schedule_cvt[0].copy(pscene)]\n",
    "for snode, snode_pre in zip(snode_schedule_cvt[1:], snode_schedule_cvt[:-1]):\n",
    "    snames, _ = pscene.get_changing_subjects(snode.state, snode_pre.state)\n",
    "    if len(snames) > 1:\n",
    "        raise(RuntimeError(\"More than 1 subject change - {}\".format(snames)))\n",
    "    if len(snames) == 1:\n",
    "        subject = pscene.subject_dict[snames[0]]\n",
    "    else:\n",
    "        subject = None\n",
    "        \n",
    "    snode_cp = snode.copy(pscene)\n",
    "    rpairs = crob.get_robots_in_act(snode_cp.traj)\n",
    "    for rname, robot in rpairs:\n",
    "        if rname == ROBOT_NAME:\n",
    "            traj_simp = simplify_traj(snode.traj)\n",
    "            snode_cp.set_traj(calc_safe_trajectory(\n",
    "                dt_step, traj_simp, vel_lims=vel_lims, acc_lims=acc_lims)[1])\n",
    "            break\n",
    "    snode_cp.traj[:,6:] -= QOFF_PANDA\n",
    "    snode_cp.state.Q[6:] -= QOFF_PANDA\n",
    "    snode_schedule_safe.append(snode_cp)"
   ]
  },
  {
   "cell_type": "markdown",
   "metadata": {},
   "source": [
    "## Execute schedule"
   ]
  },
  {
   "cell_type": "markdown",
   "metadata": {},
   "source": [
    "## ForceModeSwitcher"
   ]
  },
  {
   "cell_type": "code",
   "execution_count": 36,
   "metadata": {},
   "outputs": [],
   "source": [
    "def down_custom_log(ip_addr, JOINT_DOF, UI_PORT=9990, DT=1.0 / 2e3):\n",
    "    uri = \"http://{ip_addr}:{UI_PORT}/download_log\".format(ip_addr=ip_addr, UI_PORT=UI_PORT)\n",
    "    print(uri)\n",
    "    log_dat = requests.get(uri)\n",
    "    dat = log_dat.text\n",
    "    lines = dat.split(\"\\n\")\n",
    "    heads = lines[0].split(\",\")[:-1]\n",
    "    data_mat = []\n",
    "    for line in lines[1:]:\n",
    "        data_line = list(map(float, line.split(\",\")[:-1]))\n",
    "        if len(data_line) > 0:\n",
    "            data_mat.append(data_line)\n",
    "    data_mat = np.array(data_mat)\n",
    "    Fext = data_mat[:, JOINT_DOF * 6+6:JOINT_DOF * 7+6]\n",
    "    Fext = Fext[-int(10.0 / DT):]\n",
    "    # idx_peak = np.argmax(Fext[:, 2])\n",
    "    # print(\"peak: {}\".format(np.round(Fext[idx_peak, 2], 1)))\n",
    "    # Fext = Fext[idx_peak + int(1.0 / DT):idx_peak + int(4.0 / DT), 2]\n",
    "    # print(\"force min/max: {} / {} in {}\".format(np.round(np.min(Fext), 1), np.round(np.max(Fext), 1), len(Fext)))\n",
    "    return Fext\n",
    "\n",
    "class SimpleForceModeSwitcher(ModeSwitcherTemplate):\n",
    "    def __init__(self, pscene, rname, crob, web_client, force_delay=5, switch_delay=0.5, log_force=False, DT=1.0 / 1e3):\n",
    "        ModeSwitcherTemplate.__init__(self, pscene, switch_delay=switch_delay)\n",
    "        self.crob = crob\n",
    "        self.web_client = web_client\n",
    "        self.DT = DT\n",
    "        self.log_force = log_force\n",
    "        self.force_log = []\n",
    "        self.rname =rname\n",
    "        self.robot = self.crob.robot_dict[rname]\n",
    "        self.force_delay = force_delay\n",
    "\n",
    "    def switch_in(self, snode_pre, snode_new):\n",
    "        switch_state = False\n",
    "        for stype, n1, n2 in zip(\n",
    "                pscene.subject_type_list, snode_pre.state.node, snode_new.state.node):\n",
    "            if stype==WaypointTask and n2>n1:\n",
    "                switch_state = True\n",
    "                break\n",
    "        return switch_state\n",
    "\n",
    "    def switch_out(self, switch_state, snode_new):\n",
    "        if switch_state:\n",
    "            self.web_client.change_controller(\"Hybrid_Null\")\n",
    "            sleep(self.switch_delay)\n",
    "            self.web_client.change_gain(switch_control0=1)\n",
    "            \n",
    "            sleep(self.force_delay)\n",
    "\n",
    "            self.robot.reset()\n",
    "            sleep(self.switch_delay)\n",
    "            self.web_client.change_gain(switch_control0=0)\n",
    "            sleep(self.switch_delay)\n",
    "            self.web_client.change_controller(\"NRIC_PD\")\n",
    "            \n",
    "            Qrobot = snode_new.state.Q[self.crob.idx_dict[self.rname]]\n",
    "            self.robot.joint_move_make_sure(Qrobot, ref_speed=np.pi / 36)  # return planned trajectory\n",
    "\n",
    "            if self.log_force:\n",
    "                sleep(self.switch_delay)\n",
    "                Fext = down_custom_log(self.robot.server_ip, len(self.crob.idx_dict[self.rname]), DT=self.DT)\n",
    "                self.force_log.append(Fext)"
   ]
  },
  {
   "cell_type": "code",
   "execution_count": 37,
   "metadata": {},
   "outputs": [],
   "source": [
    "mode_switcher = SimpleForceModeSwitcher(pscene, ROBOT_NAME, crob, wc, \n",
    "                                        force_delay=5, switch_delay=1, \n",
    "                                        log_force=False, DT=1.0/1e3)"
   ]
  },
  {
   "cell_type": "markdown",
   "metadata": {},
   "source": [
    "### Start moving - set joint offset 0"
   ]
  },
  {
   "cell_type": "code",
   "execution_count": 38,
   "metadata": {
    "scrolled": true
   },
   "outputs": [
    {
     "name": "stdout",
     "output_type": "stream",
     "text": [
      "URI sent: http://192.168.17.2:9990/param_setting?q_off6=0&q_off5=0&q_off4=0&q_off3=0&q_off2=0&q_off1=0&q_off0=0\n"
     ]
    }
   ],
   "source": [
    "wc.change_gain(**{\"q_off{}\".format(i_q): 0 for i_q, q_off_val in enumerate(QOFF_PANDA)})"
   ]
  },
  {
   "cell_type": "code",
   "execution_count": 39,
   "metadata": {
    "scrolled": true
   },
   "outputs": [
    {
     "name": "stdout",
     "output_type": "stream",
     "text": [
      "No motion for connected robot - playing motion in RVIZ\n",
      "No motion for connected robot - playing motion in RVIZ\n",
      "\u001b[91m[WARN] ROBOT MOTION TIMEOUT\u001b[0m\n"
     ]
    },
    {
     "data": {
      "text/plain": [
       "True"
      ]
     },
     "execution_count": 39,
     "metadata": {},
     "output_type": "execute_result"
    }
   ],
   "source": [
    "crob.joint_move_make_sure(snode_schedule_safe[0].state.Q)\n",
    "inc.execute_schedule(snode_schedule_safe, one_by_one=True, mode_switcher=mode_switcher)"
   ]
  },
  {
   "cell_type": "code",
   "execution_count": 40,
   "metadata": {},
   "outputs": [],
   "source": [
    "gscene.show_pose(crob.get_real_robot_pose())"
   ]
  },
  {
   "cell_type": "code",
   "execution_count": null,
   "metadata": {},
   "outputs": [],
   "source": []
  },
  {
   "cell_type": "markdown",
   "metadata": {},
   "source": [
    "## Remove default waypoint"
   ]
  },
  {
   "cell_type": "code",
   "execution_count": 41,
   "metadata": {},
   "outputs": [],
   "source": [
    "try:\n",
    "    pscene.remove_subject(waypoint_s)\n",
    "    for wname, wp in waypoint_s.action_points_dict.items():\n",
    "        gscene.remove(wp.geometry)\n",
    "except Exception as e:\n",
    "    print(e)"
   ]
  },
  {
   "cell_type": "code",
   "execution_count": null,
   "metadata": {},
   "outputs": [],
   "source": []
  },
  {
   "cell_type": "markdown",
   "metadata": {},
   "source": [
    "## Clock and Markers"
   ]
  },
  {
   "cell_type": "code",
   "execution_count": 42,
   "metadata": {},
   "outputs": [],
   "source": [
    "from pkg.detector.aruco.marker_config import *\n",
    "aruco_map = get_aruco_map()\n",
    "cameraMatrix, distCoeffs, _ = micp.get_camera_config()"
   ]
  },
  {
   "cell_type": "code",
   "execution_count": 74,
   "metadata": {},
   "outputs": [],
   "source": [
    "for i in range(10):\n",
    "    try:           \n",
    "        gscene.remove(gscene.NAME_DICT[\"clock_{}\".format(i)])\n",
    "    except:     pass\n",
    "    try:           \n",
    "        gscene.remove(gscene.NAME_DICT[\"target{}\".format(i)])\n",
    "    except:     pass"
   ]
  },
  {
   "cell_type": "markdown",
   "metadata": {},
   "source": [
    "# Start detecting - set joint offset"
   ]
  },
  {
   "cell_type": "code",
   "execution_count": 66,
   "metadata": {},
   "outputs": [
    {
     "name": "stdout",
     "output_type": "stream",
     "text": [
      "URI sent: http://192.168.17.2:9990/param_setting?q_off6=0.0&q_off5=-0.012&q_off4=0.007&q_off3=-0.0262&q_off2=-0.022&q_off1=-0.009&q_off0=-0.01\n"
     ]
    }
   ],
   "source": [
    "wc.change_gain(**{\"q_off{}\".format(i_q): q_off_val for i_q, q_off_val in enumerate(QOFF_PANDA)})"
   ]
  },
  {
   "cell_type": "markdown",
   "metadata": {},
   "source": [
    "## get initial pose toward table"
   ]
  },
  {
   "cell_type": "code",
   "execution_count": 67,
   "metadata": {},
   "outputs": [],
   "source": [
    "Qcur = crob.get_real_robot_pose()\n",
    "Tbt = table_body.get_tf(Qcur)\n",
    "Tbr = gscene.get_tf(ROBOT_BASE, Qcur)\n",
    "Trt = np.matmul(np.linalg.inv(Tbr), Tbt)\n",
    "Qcur[6] = np.arctan2(Trt[1,3], Trt[0,3])\n",
    "gscene.show_pose(Qcur)"
   ]
  },
  {
   "cell_type": "markdown",
   "metadata": {},
   "source": [
    "## get look motions"
   ]
  },
  {
   "cell_type": "code",
   "execution_count": 68,
   "metadata": {},
   "outputs": [
    {
     "name": "stdout",
     "output_type": "stream",
     "text": [
      "view count: 8\n"
     ]
    }
   ],
   "source": [
    "viewpoint = gscene.NAME_DICT[\"viewpoint\"]\n",
    "\n",
    "Qview_init =np.copy(Qcur)\n",
    "Qview_init[6:] = Qview_init[6:] + [0,np.deg2rad(0),0,np.deg2rad(0),0,np.deg2rad(-20),0]\n",
    "gscene.show_pose(Qview_init)\n",
    "traj_list = get_scan_motions(mplan, viewpoint, table_g, Qview_init, fov_deg=50, N_max=15)\n",
    "print(\"view count: {}\".format(len(traj_list)))"
   ]
  },
  {
   "cell_type": "code",
   "execution_count": 75,
   "metadata": {},
   "outputs": [],
   "source": [
    "Qview_list = []\n",
    "for traj in traj_list:\n",
    "    gscene.show_pose(traj[-1])\n",
    "    Qview_list.append(np.copy(traj[-1]))\n",
    "    time.sleep(1)\n",
    "crob.joint_move_make_sure(Qview_init)"
   ]
  },
  {
   "cell_type": "markdown",
   "metadata": {},
   "source": [
    "## Gaze and detect"
   ]
  },
  {
   "cell_type": "code",
   "execution_count": 76,
   "metadata": {
    "scrolled": true
   },
   "outputs": [
    {
     "name": "stdout",
     "output_type": "stream",
     "text": [
      "==================== VIEW 0 ==============\n",
      "name_mask is ['clock']\n",
      "request 0 -> response 0\n",
      "==== Received color, depth image from remote camera ====\n",
      "Maximun num of object for detection : 3\n",
      "clock not detected\n",
      "Total 0 clock in the scene\n",
      "==================== VIEW 1 ==============\n",
      "No JSON object could be decoded\n",
      "name_mask is ['clock']\n",
      "request 0 -> response 0\n",
      "==== Received color, depth image from remote camera ====\n",
      "Maximun num of object for detection : 3\n",
      "clock not detected\n",
      "Total 0 clock in the scene\n",
      "==================== VIEW 2 ==============\n",
      "name_mask is ['clock']\n",
      "request 0 -> response 0\n",
      "==== Received color, depth image from remote camera ====\n",
      "Maximun num of object for detection : 3\n",
      "clock not detected\n",
      "Total 0 clock in the scene\n",
      "==================== VIEW 3 ==============\n",
      "name_mask is ['clock']\n",
      "request 0 -> response 0\n",
      "==== Received color, depth image from remote camera ====\n",
      "Maximun num of object for detection : 3\n",
      "clock not detected\n",
      "Total 0 clock in the scene\n",
      "==================== VIEW 4 ==============\n",
      "name_mask is ['clock']\n",
      "request 0 -> response 0\n",
      "==== Received color, depth image from remote camera ====\n",
      "Maximun num of object for detection : 3\n",
      "===== Detected : clock, 2 object(s) =====\n",
      "\n",
      "'clock' is not in gscene. Use manual input for initial guess\n",
      "\n",
      "Apply point-to-point ICP\n",
      "registration::RegistrationResult with fitness=1.000000e+00, inlier_rmse=1.137223e-02, and correspondence_set size of 19045\n",
      "Access transformation to get result.\n",
      "Transformation is:\n",
      "[[ 0.9815826  -0.04419025 -0.18585698  0.21909267]\n",
      " [-0.18710865 -0.02607641 -0.98199305 -0.01714857]\n",
      " [ 0.03854804  0.99868274 -0.03386453  0.67254733]\n",
      " [ 0.          0.          0.          1.        ]]\n",
      "Total ICP Transformation is:\n",
      "[[ 0.9815826  -0.04419025 -0.18585698  0.21909267]\n",
      " [-0.18710865 -0.02607641 -0.98199305 -0.01714857]\n",
      " [ 0.03854804  0.99868274 -0.03386453  0.67254733]\n",
      " [ 0.          0.          0.          1.        ]]\n",
      "Inlier ratio: 0.180309792596\n",
      "initial: \n",
      "[[ 0.98 -0.04 -0.19  0.22]\n",
      " [-0.19 -0.03 -0.98 -0.02]\n",
      " [ 0.04  1.   -0.03  0.67]\n",
      " [ 0.    0.    0.    1.  ]]\n",
      "Apply point-to-point ICP\n",
      "registration::RegistrationResult with fitness=1.000000e+00, inlier_rmse=5.846179e-03, and correspondence_set size of 9175\n",
      "Access transformation to get result.\n",
      "Transformation is:\n",
      "[[ 0.97906262 -0.15110697 -0.13639308  0.2215989 ]\n",
      " [-0.17899474 -0.31998856 -0.93035916 -0.0198788 ]\n",
      " [ 0.09693953  0.93529352 -0.34033619  0.69083995]\n",
      " [ 0.          0.          0.          1.        ]]\n",
      "Total ICP Transformation is:\n",
      "[[ 0.97906262 -0.15110697 -0.13639308  0.2215989 ]\n",
      " [-0.17899474 -0.31998856 -0.93035916 -0.0198788 ]\n",
      " [ 0.09693953  0.93529352 -0.34033619  0.69083995]\n",
      " [ 0.          0.          0.          1.        ]]\n",
      "result: \n",
      "[[ 0.98 -0.15 -0.14  0.22]\n",
      " [-0.18 -0.32 -0.93 -0.02]\n",
      " [ 0.1   0.94 -0.34  0.69]\n",
      " [ 0.    0.    0.    1.  ]]\n",
      "Inlier ratio: 0.157941716986\n",
      "Found 6DoF pose of clock_1\n",
      "\n",
      "'clock' is not in gscene. Use manual input for initial guess\n",
      "\n",
      "Apply point-to-point ICP\n",
      "registration::RegistrationResult with fitness=1.000000e+00, inlier_rmse=1.082420e-02, and correspondence_set size of 23751\n",
      "Access transformation to get result.\n",
      "Transformation is:\n",
      "[[ 0.97562048 -0.0690046  -0.20833395 -0.20681498]\n",
      " [-0.21438599 -0.09662399 -0.97195803 -0.1608723 ]\n",
      " [ 0.04693952  0.99292605 -0.10906196  0.63601133]\n",
      " [ 0.          0.          0.          1.        ]]\n",
      "Total ICP Transformation is:\n",
      "[[ 0.97562048 -0.0690046  -0.20833395 -0.20681498]\n",
      " [-0.21438599 -0.09662399 -0.97195803 -0.1608723 ]\n",
      " [ 0.04693952  0.99292605 -0.10906196  0.63601133]\n",
      " [ 0.          0.          0.          1.        ]]\n",
      "Inlier ratio: 0.184623805313\n",
      "initial: \n",
      "[[ 0.98 -0.07 -0.21 -0.21]\n",
      " [-0.21 -0.1  -0.97 -0.16]\n",
      " [ 0.05  0.99 -0.11  0.64]\n",
      " [ 0.    0.    0.    1.  ]]\n",
      "Apply point-to-point ICP\n",
      "registration::RegistrationResult with fitness=1.000000e+00, inlier_rmse=6.795753e-03, and correspondence_set size of 11879\n",
      "Access transformation to get result.\n",
      "Transformation is:\n",
      "[[ 0.97472351  0.09885453 -0.20035433 -0.21263827]\n",
      " [-0.20094263 -0.00407173 -0.97959453 -0.16331682]\n",
      " [-0.09765315  0.99509355  0.01589528  0.65210074]\n",
      " [ 0.          0.          0.          1.        ]]\n",
      "Total ICP Transformation is:\n",
      "[[ 0.97472351  0.09885453 -0.20035433 -0.21263827]\n",
      " [-0.20094263 -0.00407173 -0.97959453 -0.16331682]\n",
      " [-0.09765315  0.99509355  0.01589528  0.65210074]\n",
      " [ 0.          0.          0.          1.        ]]\n",
      "result: \n",
      "[[ 0.97  0.1  -0.2  -0.21]\n",
      " [-0.2  -0.   -0.98 -0.16]\n",
      " [-0.1   1.    0.02  0.65]\n",
      " [ 0.    0.    0.    1.  ]]\n",
      "Inlier ratio: 0.135741652983\n",
      "Found 6DoF pose of clock_2\n",
      "Total 0 clock in the scene\n",
      "Add new clock in the scene\n",
      "Add new clock in the scene\n",
      "==================== VIEW 5 ==============\n",
      "name_mask is ['clock']\n",
      "request 0 -> response 0\n",
      "==== Received color, depth image from remote camera ====\n",
      "Maximun num of object for detection : 3\n",
      "===== Detected : clock, 2 object(s) =====\n",
      "\n",
      "'clock' is not in gscene. Use manual input for initial guess\n",
      "\n",
      "Apply point-to-point ICP\n",
      "registration::RegistrationResult with fitness=1.000000e+00, inlier_rmse=1.074363e-02, and correspondence_set size of 17084\n",
      "Access transformation to get result.\n",
      "Transformation is:\n",
      "[[ 0.97650802  0.15607181 -0.1485721  -0.03907919]\n",
      " [-0.19186919  0.31596691 -0.92916688  0.12540023]\n",
      " [-0.09807289  0.93584532  0.3384896   0.73886241]\n",
      " [ 0.          0.          0.          1.        ]]\n",
      "Total ICP Transformation is:\n",
      "[[ 0.97650802  0.15607181 -0.1485721  -0.03907919]\n",
      " [-0.19186919  0.31596691 -0.92916688  0.12540023]\n",
      " [-0.09807289  0.93584532  0.3384896   0.73886241]\n",
      " [ 0.          0.          0.          1.        ]]\n",
      "Inlier ratio: 0.216635448373\n",
      "initial: \n",
      "[[ 0.98  0.16 -0.15 -0.04]\n",
      " [-0.19  0.32 -0.93  0.13]\n",
      " [-0.1   0.94  0.34  0.74]\n",
      " [ 0.    0.    0.    1.  ]]\n",
      "Apply point-to-point ICP\n",
      "registration::RegistrationResult with fitness=1.000000e+00, inlier_rmse=6.657883e-03, and correspondence_set size of 8496\n",
      "Access transformation to get result.\n",
      "Transformation is:\n",
      "[[ 0.94850045  0.2974356  -0.10899063 -0.0413214 ]\n",
      " [-0.22899511  0.40606944 -0.88468572  0.13162793]\n",
      " [-0.21887927  0.86408312  0.45326834  0.75607013]\n",
      " [ 0.          0.          0.          1.        ]]\n",
      "Total ICP Transformation is:\n",
      "[[ 0.94850045  0.2974356  -0.10899063 -0.0413214 ]\n",
      " [-0.22899511  0.40606944 -0.88468572  0.13162793]\n",
      " [-0.21887927  0.86408312  0.45326834  0.75607013]\n",
      " [ 0.          0.          0.          1.        ]]\n",
      "result: \n",
      "[[ 0.95  0.3  -0.11 -0.04]\n",
      " [-0.23  0.41 -0.88  0.13]\n",
      " [-0.22  0.86  0.45  0.76]\n",
      " [ 0.    0.    0.    1.  ]]\n",
      "Inlier ratio: 0.163076562866\n",
      "Found 6DoF pose of clock_1\n",
      "\n",
      "'clock' is not in gscene. Use manual input for initial guess\n",
      "\n",
      "Apply point-to-point ICP\n",
      "registration::RegistrationResult with fitness=1.000000e+00, inlier_rmse=9.362114e-03, and correspondence_set size of 14357\n",
      "Access transformation to get result.\n",
      "Transformation is:\n",
      "[[ 0.96912409  0.151694   -0.19438989  0.11973964]\n",
      " [-0.23470547  0.32587597 -0.91581557 -0.03344692]\n",
      " [-0.07557674  0.9331633   0.35141766  0.79184289]\n",
      " [ 0.          0.          0.          1.        ]]\n",
      "Total ICP Transformation is:\n",
      "[[ 0.96912409  0.151694   -0.19438989  0.11973964]\n",
      " [-0.23470547  0.32587597 -0.91581557 -0.03344692]\n",
      " [-0.07557674  0.9331633   0.35141766  0.79184289]\n",
      " [ 0.          0.          0.          1.        ]]\n",
      "Inlier ratio: 0.238141673051\n",
      "initial: \n",
      "[[ 0.97  0.15 -0.19  0.12]\n",
      " [-0.23  0.33 -0.92 -0.03]\n",
      " [-0.08  0.93  0.35  0.79]\n",
      " [ 0.    0.    0.    1.  ]]\n",
      "Apply point-to-point ICP\n",
      "registration::RegistrationResult with fitness=1.000000e+00, inlier_rmse=4.965626e-03, and correspondence_set size of 6293\n",
      "Access transformation to get result.\n",
      "Transformation is:\n",
      "[[ 0.97287985  0.17351703 -0.15295961  0.12461904]\n",
      " [-0.22755329  0.59923483 -0.76755266 -0.02638244]\n",
      " [-0.04152473  0.78154298  0.62246786  0.81288749]\n",
      " [ 0.          0.          0.          1.        ]]\n",
      "Total ICP Transformation is:\n",
      "[[ 0.97287985  0.17351703 -0.15295961  0.12461904]\n",
      " [-0.22755329  0.59923483 -0.76755266 -0.02638244]\n",
      " [-0.04152473  0.78154298  0.62246786  0.81288749]\n",
      " [ 0.          0.          0.          1.        ]]\n",
      "result: \n",
      "[[ 0.97  0.17 -0.15  0.12]\n",
      " [-0.23  0.6  -0.77 -0.03]\n",
      " [-0.04  0.78  0.62  0.81]\n",
      " [ 0.    0.    0.    1.  ]]\n",
      "Inlier ratio: 0.145016368322\n",
      "Found 6DoF pose of clock_2\n",
      "Total 2 clock in the scene\n",
      "Update existing clock in the scene\n",
      "Add new clock in the scene\n",
      "==================== VIEW 6 ==============\n"
     ]
    },
    {
     "name": "stdout",
     "output_type": "stream",
     "text": [
      "name_mask is ['clock']\n",
      "request 0 -> response 0\n",
      "==== Received color, depth image from remote camera ====\n",
      "Maximun num of object for detection : 3\n",
      "clock not detected\n",
      "Total 3 clock in the scene\n",
      "==================== VIEW 7 ==============\n",
      "name_mask is ['clock']\n",
      "request 0 -> response 0\n",
      "==== Received color, depth image from remote camera ====\n",
      "Maximun num of object for detection : 3\n",
      "clock not detected\n",
      "Total 3 clock in the scene\n"
     ]
    }
   ],
   "source": [
    "target_dict = {}\n",
    "input_list = []\n",
    "pose_dict_list = []\n",
    "target_dict_list = []\n",
    "for i_view, Qview in enumerate(Qview_list):\n",
    "    print(\"==================== VIEW {} ==============\".format(i_view))\n",
    "    t, traj = calc_safe_trajectory(0.02, [crob.get_real_robot_pose(), Qview], 0.5, 0.5)\n",
    "    # gscene.show_motion(traj)\n",
    "    crob.joint_move_make_sure(np.array(Qview), ref_speed = np.pi/10)\n",
    "\n",
    "    #### Detect clocks\n",
    "    # for clock\n",
    "    micp.set_ICP_thres(thres_ICP=0.09, thres_front_ICP=0.03)\n",
    "    micp.set_outlier_removal(nb_points=20, radius=0.03)\n",
    "    micp.set_inlier_ratio(0.1)\n",
    "    micp.set_multiobject_num(num=3)\n",
    "    pose_dict = micp.detect(name_mask=[\"clock\"], visualize=True)\n",
    "    pose_dict_list.append(pose_dict)\n",
    "    # add or update clock\n",
    "    add_update_object(gscene, crob, \"clock\", pose_dict, separate_dist=0.15, height = TABLE_HEIGHT+CLOCK_DIM[1]/2+CLEARANCE)\n",
    "\n",
    "    input_list.append(micp.last_input)\n",
    "    #### Detect markers\n",
    "    color_img = micp.last_input[0].astype(np.uint8)\n",
    "    obj_dict, corner_dict = aruco_map.get_object_pose_dict(color_img, cameraMatrix, distCoeffs)\n",
    "    img_out = aruco_map.draw_objects(color_img, obj_dict, corner_dict, cameraMatrix, distCoeffs)\n",
    "    target_dict_list.append(obj_dict)\n",
    "\n",
    "    Tbc = viewpoint.get_tf(crob.get_real_robot_pose())\n",
    "    Tbt = table_g.get_tf(crob.home_pose)\n",
    "    Ttc = np.matmul(np.linalg.inv(Tbt), Tbc)\n",
    "    for tname, Ttar in obj_dict.items():\n",
    "        Tcw = matmul_series(np.linalg.inv(Tbc), Tbt, SE3(np.identity(3), (0,0,table_g.dims[2]/2)))\n",
    "\n",
    "        kwargs = aruco_map[tname].get_geometry_kwargs()\n",
    "        Ttar = np.matmul(Tcw, align_z(np.matmul(np.linalg.inv(Tcw), Ttar)))\n",
    "        Ttar = fit_floor(Ttar, minz=-kwargs['dims'][2]/2, Tcw=Tcw)\n",
    "        Ttx = np.matmul(Ttc, Ttar)\n",
    "        kwargs.update(dict(name=tname, center=Ttx[:3,3], rpy=Rot2rpy(Ttx[:3,:3]), color=(0.0,0.0,1.0,1),\n",
    "                      link_name=\"base_link\", collision=True, parent=TABLE_NAME))\n",
    "        gtem = gscene.create_safe(**kwargs)\n",
    "        target_dict[tname] =gtem\n",
    "        gscene.create_safe(GEOTYPE.BOX, name=tname+\"_col\", link_name=gtem.link_name,\n",
    "                           dims=(gtem.dims[0], gtem.dims[1]*2, gtem.dims[2]),\n",
    "                           center = (0, -gtem.dims[1]/2, 0), rpy=(0,0,0), display=True, \n",
    "                           collision=True, color=(0.8,0.8,0.8, 0.5), parent=tname)"
   ]
  },
  {
   "cell_type": "code",
   "execution_count": null,
   "metadata": {},
   "outputs": [],
   "source": []
  },
  {
   "cell_type": "markdown",
   "metadata": {},
   "source": [
    "## Clock subjects"
   ]
  },
  {
   "cell_type": "code",
   "execution_count": 77,
   "metadata": {},
   "outputs": [],
   "source": [
    "gcol_names = sorted([gname for gname in gscene.NAME_DICT.keys() \n",
    "                 if \"clock\" in gname and \"col\" in gname])\n",
    "clock_names = []\n",
    "\n",
    "TOOL_PUSH_HEIGHT = 0.05\n",
    "for gcol_name in gcol_names:\n",
    "    clock_col_g = gscene.NAME_DICT[gcol_name]\n",
    "    clock_g = gscene.NAME_DICT[clock_col_g.parent]\n",
    "    clock_dim = clock_col_g.dims\n",
    "    clock_name = clock_g.name\n",
    "    clock_names.append(clock_name)\n",
    "    push_point_list = []\n",
    "    for i in range(4):\n",
    "        R = Rot_axis_series([2, 3], [np.pi/2*i, np.pi/2])\n",
    "        point = np.round(np.multiply(clock_dim, -R[:,2])/2, 4)\n",
    "        point[1] = clock_dim[1]/2 - TOOL_PUSH_HEIGHT\n",
    "        ap_name = \"side{}\".format(i)\n",
    "        push_point_list.append(FramePoint(ap_name, clock_g, point=point, rpy=Rot2rpy(R), key=TOOL_PUSH_KEY))\n",
    "\n",
    "    dir_push = [0,0,1]\n",
    "    slide_point = SlidePoint(\"bottom_p\", clock_g, point=(0,clock_dim[1]/2-CLEARANCE,0), rpy=(np.pi/2,0,0), \n",
    "                             binded_on=table_b, dist_push_min=0.1, dist_push_max=0.3, dir_push=dir_push, key=TOOL_SLIDE_KEY)\n",
    "\n",
    "    clock_s = pscene.create_subject(oname=clock_name, gname=clock_name, _type=PushObject, \n",
    "                                  push_point_list=push_point_list, slide_point=slide_point)"
   ]
  },
  {
   "cell_type": "code",
   "execution_count": null,
   "metadata": {},
   "outputs": [],
   "source": []
  },
  {
   "cell_type": "markdown",
   "metadata": {},
   "source": [
    "## Waypoints"
   ]
  },
  {
   "cell_type": "code",
   "execution_count": 78,
   "metadata": {},
   "outputs": [],
   "source": [
    "target_dict = {gtem.name: gtem for gtem in gscene if gtem.name.startswith(\"target\") and \"col\" not in gtem.name}"
   ]
  },
  {
   "cell_type": "code",
   "execution_count": 79,
   "metadata": {},
   "outputs": [],
   "source": [
    "waypoint_s = pscene.create_subject(oname=\"waypoints\", gname=TABLE_NAME, _type=WaypointTask,\n",
    "                                 action_points_dict={\n",
    "                                     tname: WayPoint(\n",
    "                                         tname, target, [0, 0, wp_g.dims[2] / 2], [0, 0, 0])\n",
    "                                     for tname, target in sorted(target_dict.items())\n",
    "                                 })\n",
    "\n",
    "point_brush, rpy_brush = (0,0,-brush_face.dims[2]/2), (0,0,0)\n",
    "brush_b = pscene.create_binder(BRUSH_NAME, BRUSH_NAME, WayAgent, point=point_brush, rpy=rpy_brush)"
   ]
  },
  {
   "cell_type": "code",
   "execution_count": null,
   "metadata": {},
   "outputs": [],
   "source": []
  },
  {
   "cell_type": "markdown",
   "metadata": {},
   "source": [
    "#### [SAVE DATA]"
   ]
  },
  {
   "cell_type": "code",
   "execution_count": 80,
   "metadata": {},
   "outputs": [],
   "source": [
    "if SAVE_DATA:\n",
    "    color, depth, Qcur = micp.get_image()\n",
    "    cam_pose = viewpoint.get_tf(Qcur)\n",
    "    dcam.ready_saving(*micp.get_camera_config())\n",
    "    dcam.save_scene(color, depth, cam_pose)"
   ]
  },
  {
   "cell_type": "code",
   "execution_count": null,
   "metadata": {},
   "outputs": [],
   "source": []
  },
  {
   "cell_type": "markdown",
   "metadata": {},
   "source": [
    "## get initial state"
   ]
  },
  {
   "cell_type": "code",
   "execution_count": 81,
   "metadata": {},
   "outputs": [
    {
     "name": "stdout",
     "output_type": "stream",
     "text": [
      "['chair_0', 'chair_1', 'chair_2', 'chair_3', 'chair_4', 'clock_0', 'clock_1', 'clock_2', 'waypoints']\n",
      "('floor_ws', 'floor_ws', 'floor_ws', 'floor_ws', 'floor_ws', 'table', 'table', 'table', 0)\n"
     ]
    }
   ],
   "source": [
    "chain_list = \\\n",
    "    [BindingChain(chair_name, \"bottom_p\", \"floor_ws\", \"floor_ws\") for chair_name in chair_names] \\\n",
    "    + [BindingChain(clock_name, \"bottom_p\", \"table\", \"table\") for clock_name in clock_names] \\\n",
    "    + [BindingChain(\"waypoints\", None, None, None)]\n",
    "initial_state = pscene.initialize_state(crob.get_real_robot_pose(), chain_list=chain_list)\n",
    "gscene.update_markers_all()\n",
    "print(pscene.subject_name_list)\n",
    "print(initial_state.node)"
   ]
  },
  {
   "cell_type": "code",
   "execution_count": null,
   "metadata": {},
   "outputs": [],
   "source": []
  },
  {
   "cell_type": "markdown",
   "metadata": {},
   "source": [
    "## Make Plan"
   ]
  },
  {
   "cell_type": "code",
   "execution_count": 82,
   "metadata": {
    "scrolled": true
   },
   "outputs": [
    {
     "name": "stdout",
     "output_type": "stream",
     "text": [
      "Use 10/20 agents\n",
      "\u001b[91m[WARN] Transition Queue Empty\u001b[0m\n",
      "\u001b[91m[WARN] Transition Queue Empty\u001b[0m\n",
      "\u001b[91m[WARN] Transition Queue Empty\u001b[0m\n",
      "\u001b[91m[WARN] Transition Queue Empty\u001b[0m\n",
      "\u001b[91m[WARN] Transition Queue Empty\u001b[0m\n",
      "\u001b[91m[WARN] Transition Queue Empty\u001b[0m\n",
      "\u001b[91m[WARN] Transition Queue Empty\u001b[0m\n",
      "\u001b[91m[WARN] Transition Queue Empty\u001b[0m\n",
      "\u001b[91m[WARN] Transition Queue Empty\u001b[0m\n",
      "\u001b[91m[WARN] Transition Queue Empty\u001b[0m\n",
      "\u001b[91m[WARN] Transition Queue Empty\u001b[0m\n",
      "\u001b[91m[WARN] Transition Queue Empty\u001b[0m\n",
      "\u001b[91m[WARN] Transition Queue Empty\u001b[0m\n",
      "\u001b[91m[WARN] Transition Queue Empty\u001b[0m\n",
      "=========================================================================================================\n",
      "======================= terminated 5: required answers acquired  (65.8/200.0) ===============================\n",
      "=========================================================================================================\n",
      "=========================================================================================================\n",
      "======================= terminated 4: required answers acquired  (65.9/200.0) ===============================\n",
      "=========================================================================================================\n",
      "=========================================================================================================\n",
      "======================= terminated 0: Stop called from other agent  (65.9/200.0) ===============================\n",
      "=========================================================================================================\n",
      "=========================================================================================================\n",
      "======================= terminated 1: Stop called from other agent  (66.0/200.0) ===============================\n",
      "=========================================================================================================\n",
      "=========================================================================================================\n",
      "======================= terminated 6: Stop called from other agent  (66.2/200.0) ===============================\n",
      "=========================================================================================================\n",
      "=========================================================================================================\n",
      "======================= terminated 9: Stop called from other agent  (66.2/200.0) ===============================\n",
      "=========================================================================================================\n",
      "=========================================================================================================\n",
      "======================= terminated 3: Stop called from other agent  (66.5/200.0) ===============================\n",
      "=========================================================================================================\n",
      "\u001b[91m[ERROR] Non-joined subprocesses: [8, 2, 7]\u001b[0m\n",
      "========================== FINISHED (66.7 / 200.0 s) ==============================]\n"
     ]
    }
   ],
   "source": [
    "time_start = time.time()\n",
    "DEBUG = False\n",
    "inc.prepare()\n",
    "from_state = initial_state.copy(pscene)\n",
    "goal_nodes = [initial_state.node[:-1]+(waypoint_s.action_point_len,)]\n",
    "\n",
    "inc.search(from_state, goal_nodes, max_solution_count=1,\n",
    "           verbose=DEBUG, display=DEBUG, dt_vis=0.001, \n",
    "           timeout=0.5, timeout_loop=200, \n",
    "           multiprocess=not DEBUG, add_homing=False)\n",
    "time_ontable_planning = time.time() - time_start"
   ]
  },
  {
   "cell_type": "code",
   "execution_count": null,
   "metadata": {},
   "outputs": [],
   "source": []
  },
  {
   "cell_type": "markdown",
   "metadata": {},
   "source": [
    "### Get snode schedule"
   ]
  },
  {
   "cell_type": "code",
   "execution_count": 83,
   "metadata": {},
   "outputs": [
    {
     "name": "stdout",
     "output_type": "stream",
     "text": [
      "Goal reached\n"
     ]
    },
    {
     "data": {
      "text/plain": [
       "9"
      ]
     },
     "execution_count": 83,
     "metadata": {},
     "output_type": "execute_result"
    }
   ],
   "source": [
    "snode_schedule = inc.get_best_schedule(at_home=False)\n",
    "return_state = initial_state.copy(pscene)\n",
    "return_state.Q = np.array(list(snode_schedule[-1].state.Q[:6]) + list(crob.home_pose[6:]))\n",
    "snode_schedule += inc.add_return_motion(snode_schedule[-1], initial_state=return_state)\n",
    "len(snode_schedule)"
   ]
  },
  {
   "cell_type": "code",
   "execution_count": null,
   "metadata": {},
   "outputs": [],
   "source": []
  },
  {
   "cell_type": "markdown",
   "metadata": {},
   "source": [
    "### play schedule"
   ]
  },
  {
   "cell_type": "code",
   "execution_count": 84,
   "metadata": {},
   "outputs": [
    {
     "name": "stdout",
     "output_type": "stream",
     "text": [
      "('floor_ws', 'floor_ws', 'floor_ws', 'floor_ws', 'floor_ws', 'table', 'table', 'table', 0)->('floor_ws', 'floor_ws', 'floor_ws', 'floor_ws', 'floor_ws', 'table', 'table', 'table', 1)\n",
      "('floor_ws', 'floor_ws', 'floor_ws', 'floor_ws', 'floor_ws', 'table', 'table', 'table', 1)->('floor_ws', 'floor_ws', 'floor_ws', 'floor_ws', 'floor_ws', 'table', 'table', 'table', 2)\n",
      "('floor_ws', 'floor_ws', 'floor_ws', 'floor_ws', 'floor_ws', 'table', 'table', 'table', 2)->('floor_ws', 'floor_ws', 'floor_ws', 'floor_ws', 'floor_ws', 'table', 'table', 'table', 3)\n",
      "('floor_ws', 'floor_ws', 'floor_ws', 'floor_ws', 'floor_ws', 'table', 'table', 'table', 3)->('floor_ws', 'floor_ws', 'floor_ws', 'floor_ws', 'floor_ws', 'table', 'table', 'table', 4)\n",
      "('floor_ws', 'floor_ws', 'floor_ws', 'floor_ws', 'floor_ws', 'table', 'table', 'table', 4)->('floor_ws', 'floor_ws', 'floor_ws', 'floor_ws', 'floor_ws', 'table', 'table', 'tpush', 4)\n",
      "('floor_ws', 'floor_ws', 'floor_ws', 'floor_ws', 'floor_ws', 'table', 'table', 'tpush', 4)->('floor_ws', 'floor_ws', 'floor_ws', 'floor_ws', 'floor_ws', 'table', 'table', 'table', 4)\n",
      "('floor_ws', 'floor_ws', 'floor_ws', 'floor_ws', 'floor_ws', 'table', 'table', 'table', 4)->('floor_ws', 'floor_ws', 'floor_ws', 'floor_ws', 'floor_ws', 'table', 'table', 'table', 5)\n",
      "('floor_ws', 'floor_ws', 'floor_ws', 'floor_ws', 'floor_ws', 'table', 'table', 'table', 5)->('floor_ws', 'floor_ws', 'floor_ws', 'floor_ws', 'floor_ws', 'table', 'table', 'table', 5)\n"
     ]
    }
   ],
   "source": [
    "pscene.set_object_state(initial_state)\n",
    "gscene.show_pose(initial_state.Q)\n",
    "inc.play_schedule(snode_schedule, period=0.002)\n",
    "pscene.set_object_state(snode_schedule[-1].state)"
   ]
  },
  {
   "cell_type": "code",
   "execution_count": null,
   "metadata": {},
   "outputs": [],
   "source": []
  },
  {
   "cell_type": "markdown",
   "metadata": {},
   "source": [
    "## Execute schedule"
   ]
  },
  {
   "cell_type": "markdown",
   "metadata": {},
   "source": [
    "# Start moving - set joint offset 0"
   ]
  },
  {
   "cell_type": "code",
   "execution_count": 87,
   "metadata": {},
   "outputs": [
    {
     "name": "stdout",
     "output_type": "stream",
     "text": [
      "URI sent: http://192.168.17.2:9990/param_setting?q_off6=0&q_off5=0&q_off4=0&q_off3=0&q_off2=0&q_off1=0&q_off0=0\n"
     ]
    }
   ],
   "source": [
    "wc.change_gain(**{\"q_off{}\".format(i_q): 0 for i_q, q_off_val in enumerate(QOFF_PANDA)})"
   ]
  },
  {
   "cell_type": "markdown",
   "metadata": {},
   "source": [
    "#### make trajectory safe"
   ]
  },
  {
   "cell_type": "code",
   "execution_count": 88,
   "metadata": {},
   "outputs": [],
   "source": [
    "vel_lims, acc_lims, dt_step = 0.5, 0.5, 0.02\n",
    "snode_schedule_safe = [snode_schedule[0].copy(pscene)]\n",
    "for snode, snode_pre in zip(snode_schedule[1:], snode_schedule[:-1]):\n",
    "    snames, _ = pscene.get_changing_subjects(snode.state, snode_pre.state)\n",
    "    if len(snames) > 1:\n",
    "        raise(RuntimeError(\"More than 1 subject change - {}\".format(snames)))\n",
    "    if len(snames) == 1:\n",
    "        subject = pscene.subject_dict[snames[0]]\n",
    "    else:\n",
    "        subject = None\n",
    "        \n",
    "    snode_cp = snode.copy(pscene)\n",
    "    rpairs = crob.get_robots_in_act(snode_cp.traj)\n",
    "    for rname, robot in rpairs:\n",
    "        if rname == ROBOT_NAME:\n",
    "            traj_simp = simplify_traj(snode.traj)\n",
    "            snode_cp.set_traj(calc_safe_trajectory(\n",
    "                dt_step, traj_simp, vel_lims=vel_lims, acc_lims=acc_lims)[1])\n",
    "            break\n",
    "    snode_cp.traj[:,6:] -= QOFF_PANDA\n",
    "    snode_cp.state.Q[6:] -= QOFF_PANDA\n",
    "    snode_schedule_safe.append(snode_cp)"
   ]
  },
  {
   "cell_type": "markdown",
   "metadata": {},
   "source": [
    "## Execute plan"
   ]
  },
  {
   "cell_type": "code",
   "execution_count": 90,
   "metadata": {},
   "outputs": [],
   "source": [
    "wc = WebClient(ip='192.168.17.2', port=9990)\n",
    "\n",
    "mode_switcher = SimpleForceModeSwitcher(pscene, ROBOT_NAME, crob, wc, \n",
    "                                        force_delay=7, switch_delay=1, \n",
    "                                        log_force=True, DT=1.0/1e3)"
   ]
  },
  {
   "cell_type": "code",
   "execution_count": 102,
   "metadata": {},
   "outputs": [],
   "source": [
    "mode_switcher.force_log = []"
   ]
  },
  {
   "cell_type": "code",
   "execution_count": 103,
   "metadata": {},
   "outputs": [],
   "source": [
    "gscene.show_pose(crob.get_real_robot_pose())"
   ]
  },
  {
   "cell_type": "code",
   "execution_count": 104,
   "metadata": {},
   "outputs": [],
   "source": [
    "gscene.show_pose(snode_schedule_safe[1].traj[0])"
   ]
  },
  {
   "cell_type": "code",
   "execution_count": 105,
   "metadata": {},
   "outputs": [],
   "source": [
    "crob.joint_move_make_sure(snode_schedule_safe[1].traj[0])"
   ]
  },
  {
   "cell_type": "code",
   "execution_count": 106,
   "metadata": {
    "scrolled": true
   },
   "outputs": [
    {
     "name": "stdout",
     "output_type": "stream",
     "text": [
      "URI sent: http://192.168.17.2:9990/controller_list?joint_control=Hybrid_Null\n",
      "URI sent: http://192.168.17.2:9990/param_setting?switch_control0=1\n",
      "URI sent: http://192.168.17.2:9990/param_setting?switch_control0=0\n",
      "URI sent: http://192.168.17.2:9990/controller_list?joint_control=NRIC_PD\n",
      "http://192.168.17.2:9990/download_log\n",
      "URI sent: http://192.168.17.2:9990/controller_list?joint_control=Hybrid_Null\n",
      "URI sent: http://192.168.17.2:9990/param_setting?switch_control0=1\n",
      "URI sent: http://192.168.17.2:9990/param_setting?switch_control0=0\n",
      "URI sent: http://192.168.17.2:9990/controller_list?joint_control=NRIC_PD\n",
      "http://192.168.17.2:9990/download_log\n",
      "URI sent: http://192.168.17.2:9990/controller_list?joint_control=Hybrid_Null\n",
      "URI sent: http://192.168.17.2:9990/param_setting?switch_control0=1\n",
      "URI sent: http://192.168.17.2:9990/param_setting?switch_control0=0\n",
      "URI sent: http://192.168.17.2:9990/controller_list?joint_control=NRIC_PD\n",
      "http://192.168.17.2:9990/download_log\n",
      "URI sent: http://192.168.17.2:9990/controller_list?joint_control=Hybrid_Null\n",
      "URI sent: http://192.168.17.2:9990/param_setting?switch_control0=1\n",
      "URI sent: http://192.168.17.2:9990/param_setting?switch_control0=0\n",
      "URI sent: http://192.168.17.2:9990/controller_list?joint_control=NRIC_PD\n",
      "http://192.168.17.2:9990/download_log\n",
      "URI sent: http://192.168.17.2:9990/controller_list?joint_control=Hybrid_Null\n",
      "URI sent: http://192.168.17.2:9990/param_setting?switch_control0=1\n",
      "URI sent: http://192.168.17.2:9990/param_setting?switch_control0=0\n",
      "URI sent: http://192.168.17.2:9990/controller_list?joint_control=NRIC_PD\n",
      "http://192.168.17.2:9990/download_log\n",
      "[SIMUL] pmb0 stop tracking\n"
     ]
    },
    {
     "data": {
      "text/plain": [
       "True"
      ]
     },
     "execution_count": 106,
     "metadata": {},
     "output_type": "execute_result"
    }
   ],
   "source": [
    "inc.execute_schedule(snode_schedule_safe, one_by_one=True, mode_switcher=mode_switcher, error_stop_deg=30)\n",
    "# inc.execute_schedule(snode_schedule_safe, one_by_one=True)"
   ]
  },
  {
   "cell_type": "code",
   "execution_count": null,
   "metadata": {},
   "outputs": [],
   "source": []
  },
  {
   "cell_type": "markdown",
   "metadata": {},
   "source": [
    "## Plot"
   ]
  },
  {
   "cell_type": "code",
   "execution_count": 107,
   "metadata": {},
   "outputs": [
    {
     "name": "stdout",
     "output_type": "stream",
     "text": [
      "5\n"
     ]
    },
    {
     "data": {
      "image/png": "[encoded data removed]",
      "text/plain": [
       "<Figure size 720x1800 with 5 Axes>"
      ]
     },
     "metadata": {
      "needs_background": "light"
     },
     "output_type": "display_data"
    }
   ],
   "source": [
    "len_f = len(mode_switcher.force_log)\n",
    "print(len_f)\n",
    "plt.figure(figsize=(10, 5*len_f))\n",
    "for i in range(len_f):\n",
    "    plt.subplot(len_f, 1, 1+i)\n",
    "    plt.plot(mode_switcher.force_log[i][:, 0], '.')\n",
    "    plt.grid()"
   ]
  },
  {
   "cell_type": "code",
   "execution_count": 108,
   "metadata": {},
   "outputs": [],
   "source": [
    "DAT_DIR = os.path.join(RNB_PLANNING_DIR, \"data/disinf_exp_2Y\")\n",
    "try_mkdir(DAT_DIR)\n",
    "fpath = os.path.join(DAT_DIR, get_now()+\".csv\")\n",
    "np.savetxt(fpath, np.array(mode_switcher.force_log)[:, :,0], delimiter=\",\")\n",
    "save_json(fpath[:-4]+\"-time.json\", \n",
    "          {\"time_approach_planning\": time_approach_planning,\n",
    "          \"time_ontable_planning\": time_ontable_planning})"
   ]
  },
  {
   "cell_type": "code",
   "execution_count": null,
   "metadata": {},
   "outputs": [],
   "source": []
  },
  {
   "cell_type": "markdown",
   "metadata": {},
   "source": [
    "# 사진 촬영!"
   ]
  },
  {
   "cell_type": "code",
   "execution_count": null,
   "metadata": {},
   "outputs": [],
   "source": []
  },
  {
   "cell_type": "markdown",
   "metadata": {},
   "source": [
    "# Move to home"
   ]
  },
  {
   "cell_type": "code",
   "execution_count": null,
   "metadata": {},
   "outputs": [],
   "source": [
    "inp = raw_input(\"Press Enter to move to home\")\n",
    "if inp == \"\":\n",
    "    pmb0 = crob.robot_dict[\"pmb0\"]\n",
    "    panda_arm1 = crob.robot_dict[\"panda_arm1\"]\n",
    "    panda_arm1.joint_move_make_sure(HOME_POSE_DEFAULT[6:])\n",
    "    pmb0.joint_move_make_sure([0]*6)"
   ]
  },
  {
   "cell_type": "code",
   "execution_count": null,
   "metadata": {},
   "outputs": [],
   "source": []
  },
  {
   "cell_type": "markdown",
   "metadata": {},
   "source": [
    "## TODO 02.06\n",
    "\n",
    "### Detector\n",
    "* 마커, 시계 현장 인식 테스트 v\n",
    "* point cloud visualization 에서 0 포인트 에러 발생\n",
    "* 90도 돌아간 인식\n",
    "\n",
    "### HW\n",
    "* 바퀴 높이 맞춤 90x40x6mm L shape w. profile hole x 2 뽑기\n",
    "* 대형 장애물 마련하기\n",
    "  - 가방? 앞뒤만 밀 수 있게 전제, 가이드레일 및 앞 범퍼 만들기\n",
    "  - 의자? 방에서 미니 의자 가져와서 테스트, 다른의자 구해보기\n",
    "\n",
    "### Planner\n",
    "* 전2륜 전제로 모바일 경로 트래킹 알고리즘 보강 (늦어짐)\n",
    "  - 현장 실제어주기 확인 ~15 ms\n",
    "* 테이블 커버하는 view 자세/모션들 만들기"
   ]
  },
  {
   "cell_type": "code",
   "execution_count": null,
   "metadata": {},
   "outputs": [],
   "source": []
  },
  {
   "cell_type": "markdown",
   "metadata": {},
   "source": [
    "## TODO 01.31\n",
    "### data\n",
    "* 인식 결과 샘플 저장\n",
    "\n",
    "### Detector\n",
    "* 첫 인식에서 캐리어 4개만 인식됨 (다시 인식하면 5개 나옴)\n",
    "* 마커 인식 추가\n",
    "\n",
    "### Planner\n",
    "* 바퀴가 자꾸 멈춤 - 강제로 정지되면 다이나믹셀이 셧다운 됨 - 펌웨어 수정 필요\n",
    "* 플래닝 성능 개선\n",
    "\n",
    "### Anydesk 자동 연결 설정 (소형 모니터 연결?)\n",
    "\n"
   ]
  },
  {
   "cell_type": "code",
   "execution_count": null,
   "metadata": {},
   "outputs": [],
   "source": [
    "raise(RuntimeError(\"Testing script below here\"))"
   ]
  },
  {
   "cell_type": "markdown",
   "metadata": {},
   "source": [
    "## Testing detection "
   ]
  },
  {
   "cell_type": "code",
   "execution_count": null,
   "metadata": {},
   "outputs": [],
   "source": [
    "T_bt = table_g.get_tf(crob.home_pose)"
   ]
  },
  {
   "cell_type": "code",
   "execution_count": null,
   "metadata": {},
   "outputs": [],
   "source": [
    "T_bc = viewpoint.get_tf(crob.get_real_robot_pose())"
   ]
  },
  {
   "cell_type": "code",
   "execution_count": null,
   "metadata": {},
   "outputs": [],
   "source": [
    "T_ct = np.matmul(np.linalg.inv(T_bc), T_bt)"
   ]
  },
  {
   "cell_type": "code",
   "execution_count": null,
   "metadata": {},
   "outputs": [],
   "source": [
    "T_tx = SE3(np.identity(3), (np.divide(table_g.dims, 2)-0.06)*[1,-1,0])\n",
    "T_bx =  np.matmul(T_bt, T_tx)"
   ]
  },
  {
   "cell_type": "code",
   "execution_count": null,
   "metadata": {},
   "outputs": [],
   "source": [
    "T_bm = gscene.get_tf(MOBILE_BASE, crob.get_real_robot_pose())"
   ]
  },
  {
   "cell_type": "code",
   "execution_count": null,
   "metadata": {},
   "outputs": [],
   "source": [
    "T_mx = np.matmul(np.linalg.inv(T_bm), T_bx)"
   ]
  },
  {
   "cell_type": "code",
   "execution_count": null,
   "metadata": {},
   "outputs": [],
   "source": [
    "gscene.add_highlight_axis(\"hl\", \"tbm\", T=T_bm)"
   ]
  },
  {
   "cell_type": "code",
   "execution_count": null,
   "metadata": {},
   "outputs": [],
   "source": [
    "gscene.add_highlight_axis(\"hl\", \"tmx\", T=T_mx, link_name=MOBILE_BASE)"
   ]
  },
  {
   "cell_type": "code",
   "execution_count": null,
   "metadata": {},
   "outputs": [],
   "source": [
    "gscene.clear_highlight()"
   ]
  },
  {
   "cell_type": "code",
   "execution_count": null,
   "metadata": {},
   "outputs": [],
   "source": []
  },
  {
   "cell_type": "code",
   "execution_count": null,
   "metadata": {},
   "outputs": [],
   "source": [
    "np.linalg.norm(T_ct[:3,3])"
   ]
  },
  {
   "cell_type": "code",
   "execution_count": null,
   "metadata": {},
   "outputs": [],
   "source": [
    "color_img = micp.last_input[0]"
   ]
  },
  {
   "cell_type": "code",
   "execution_count": null,
   "metadata": {},
   "outputs": [],
   "source": [
    "Rot2rpy(Rot_axis(1, -np.pi/2))"
   ]
  },
  {
   "cell_type": "code",
   "execution_count": null,
   "metadata": {},
   "outputs": [],
   "source": [
    " def get_aruco_map_table():\n",
    "    dictionary = aruco.getPredefinedDictionary(aruco.DICT_6X6_250)\n",
    "    #     params = aruco.DetectorParameters_create()\n",
    "    aruco_map = ArucoMap(dictionary=dictionary, _dict={\n",
    "        'table1':MarkerSet('table1', dlevel=DetectionLevel.ENVIRONMENT, gtype=GEOTYPE.BOX, dims=(0.4,0.3,0.01),\n",
    "                          color=(0.9,0.9,0.9,0.2),\n",
    "                          _list=[\n",
    "                              ObjectMarker('table1', 231, 0.15, [0, 0., 0.0], (0, -0., 0.)),\n",
    "#                               ObjectMarker('table', 231, 0.15, [0.7, -0.4, 0.0], (0,0,0)),\n",
    "#                               ObjectMarker('table', 233, 0.15, [0.7+0.075, -0.4, 0.075], (-1.57079633, -0.,  0.))\n",
    "                          ]),\n",
    "        'table2':MarkerSet('table2', dlevel=DetectionLevel.ENVIRONMENT, gtype=GEOTYPE.BOX, dims=(0.4,0.3,0.01),\n",
    "                          color=(0.9,0.9,0.9,0.2),\n",
    "                          _list=[\n",
    "                              ObjectMarker('table2', 232, 0.15, [0.0, 0.0, 0.0], (0,0,0)),\n",
    "#                               ObjectMarker('table', 233, 0.15, [0.7+0.075, -0.4, 0.075], (-1.57079633, -0.,  0.))\n",
    "                          ]),\n",
    "        'table3':MarkerSet('table3', dlevel=DetectionLevel.ENVIRONMENT, gtype=GEOTYPE.BOX, dims=(0.4,0.3,0.01),\n",
    "                          color=(0.9,0.9,0.9,0.2),\n",
    "                          _list=[\n",
    "                              ObjectMarker('table3', 233, 0.15, [0.0, 0.0, 0.0], (0,0,0)),\n",
    "#                               ObjectMarker('table', 233, 0.15, [0.7+0.075, -0.4, 0.075], (-1.57079633, -0.,  0.))\n",
    "                          ])})\n",
    "    return aruco_map"
   ]
  },
  {
   "cell_type": "code",
   "execution_count": null,
   "metadata": {},
   "outputs": [],
   "source": [
    "from pkg.detector.aruco.marker_config import *\n",
    "\n",
    "aruco_map = get_aruco_map_table()\n",
    "\n",
    "cameraMatrix, distCoeffs, _ = micp.get_camera_config()\n",
    "color_img, _, Q_cur = micp.get_image()\n",
    "\n",
    "color_img = color_img.astype(np.uint8)\n",
    "obj_dict, corner_dict = aruco_map.get_object_pose_dict(color_img, cameraMatrix, distCoeffs)\n",
    "img_out = aruco_map.draw_objects(color_img, obj_dict, corner_dict, cameraMatrix, distCoeffs)"
   ]
  },
  {
   "cell_type": "code",
   "execution_count": null,
   "metadata": {},
   "outputs": [],
   "source": [
    "# Tcm1 = obj_dict[\"table1\"]\n",
    "Tcm2 = obj_dict[\"table2\"]\n",
    "Tcm3 = obj_dict[\"table3\"]"
   ]
  },
  {
   "cell_type": "code",
   "execution_count": null,
   "metadata": {},
   "outputs": [],
   "source": [
    "T_bc = viewpoint.get_tf(crob.get_real_robot_pose())"
   ]
  },
  {
   "cell_type": "code",
   "execution_count": null,
   "metadata": {},
   "outputs": [],
   "source": [
    "# Tbm1 = np.matmul(T_bc, Tcm1)\n",
    "Tbm2 = np.matmul(T_bc, Tcm2)\n",
    "Tbm3 = np.matmul(T_bc, Tcm3)"
   ]
  },
  {
   "cell_type": "code",
   "execution_count": null,
   "metadata": {},
   "outputs": [],
   "source": [
    "gscene.add_highlight_axis(\"hl\", \"tbm2\", T=Tbm2)\n",
    "gscene.add_highlight_axis(\"hl\", \"tbm3\", T=Tbm3)"
   ]
  },
  {
   "cell_type": "code",
   "execution_count": null,
   "metadata": {},
   "outputs": [],
   "source": [
    "pmb0 = crob.robot_dict[\"pmb0\"]"
   ]
  },
  {
   "cell_type": "code",
   "execution_count": null,
   "metadata": {},
   "outputs": [],
   "source": [
    "Tbm0 = gscene.get_tf(MOBILE_BASE, crob.get_real_robot_pose())"
   ]
  },
  {
   "cell_type": "code",
   "execution_count": null,
   "metadata": {},
   "outputs": [],
   "source": [
    "pmb0.joint_move_make_sure([-1.0,0,0,0,0,0])"
   ]
  },
  {
   "cell_type": "code",
   "execution_count": null,
   "metadata": {},
   "outputs": [],
   "source": [
    "np.round(crob.get_real_robot_pose()[:6], 3)"
   ]
  },
  {
   "cell_type": "code",
   "execution_count": null,
   "metadata": {},
   "outputs": [],
   "source": [
    "gscene.show_pose(crob.get_real_robot_pose())"
   ]
  },
  {
   "cell_type": "code",
   "execution_count": null,
   "metadata": {
    "scrolled": true
   },
   "outputs": [],
   "source": [
    "plt.imshow(img_out[:,:,[2,1,0]])"
   ]
  },
  {
   "cell_type": "code",
   "execution_count": null,
   "metadata": {
    "scrolled": false
   },
   "outputs": [],
   "source": [
    "plt.imshow(micp.last_input[0])"
   ]
  },
  {
   "cell_type": "code",
   "execution_count": null,
   "metadata": {},
   "outputs": [],
   "source": []
  },
  {
   "cell_type": "code",
   "execution_count": null,
   "metadata": {},
   "outputs": [],
   "source": []
  },
  {
   "cell_type": "markdown",
   "metadata": {},
   "source": [
    "### temporary - robot base detection for accuracy check"
   ]
  },
  {
   "cell_type": "code",
   "execution_count": null,
   "metadata": {},
   "outputs": [],
   "source": [
    "from pkg.detector.aruco.marker_config import *\n",
    "aruco_map = get_aruco_map()\n",
    "cameraMatrix, distCoeffs, _ = micp.get_camera_config()"
   ]
  },
  {
   "cell_type": "code",
   "execution_count": null,
   "metadata": {},
   "outputs": [],
   "source": [
    "res_dict = {}\n",
    "Qref = crob.get_real_robot_pose()\n",
    "gscene.show_pose(Qref)"
   ]
  },
  {
   "cell_type": "markdown",
   "metadata": {},
   "source": [
    "#### repeat changing Qdiff"
   ]
  },
  {
   "cell_type": "code",
   "execution_count": null,
   "metadata": {},
   "outputs": [],
   "source": [
    "Qdiff = 0\n",
    "Qnow = np.copy(Qref)\n",
    "Qnow[-1] = Qref[-1] + np.deg2rad(Qdiff)\n",
    "gscene.show_pose(Qnow)"
   ]
  },
  {
   "cell_type": "code",
   "execution_count": null,
   "metadata": {},
   "outputs": [],
   "source": [
    "T = viewpoint.get_tf(Qnow)\n",
    "crob.joint_move_make_sure(Qnow)\n",
    "time.sleep(1)"
   ]
  },
  {
   "cell_type": "code",
   "execution_count": null,
   "metadata": {},
   "outputs": [],
   "source": [
    "color_img, _, Q_cur = micp.get_image()\n",
    "color_img = color_img.astype(np.uint8)\n",
    "obj_dict, corner_dict = aruco_map.get_object_pose_dict(color_img, cameraMatrix, distCoeffs)\n",
    "img_out = aruco_map.draw_objects(color_img, obj_dict, corner_dict, cameraMatrix, distCoeffs)\n",
    "T_cp = obj_dict[\"panda1\"]\n",
    "T_pc = viewpoint.get_tf(crob.get_real_robot_pose(), from_link=ROBOT_BASE)\n",
    "T_pp = np.matmul(T_pc, T_cp)\n",
    "np.round(T_pp, 3)\n",
    "res_dict[Qnow[-1]] = T_pp"
   ]
  },
  {
   "cell_type": "code",
   "execution_count": null,
   "metadata": {
    "scrolled": true
   },
   "outputs": [],
   "source": [
    "qxyz = np.array([(q, T_pp[0,3], T_pp[1,3], T_pp[2,3])  for q, T_pp in sorted(res_dict.items())])\n",
    "plt.plot(np.rad2deg(qxyz[:,0]), qxyz[:,1], '-o')\n",
    "plt.plot(np.rad2deg(qxyz[:,0]), qxyz[:,2], '-o')\n",
    "plt.plot(np.rad2deg(qxyz[:,0]), qxyz[:,3], '-o')\n",
    "plt.legend(\"xyz\")"
   ]
  },
  {
   "cell_type": "markdown",
   "metadata": {},
   "source": [
    "### temporary - robot base detection for accuracy check"
   ]
  },
  {
   "cell_type": "markdown",
   "metadata": {},
   "source": [
    "### change controller"
   ]
  },
  {
   "cell_type": "code",
   "execution_count": null,
   "metadata": {},
   "outputs": [],
   "source": [
    "# wc.change_controller(\"Hybrid_Null\")\n",
    "wc.change_controller(\"NRIC_PD\")"
   ]
  },
  {
   "cell_type": "markdown",
   "metadata": {},
   "source": [
    "### backup joint offset"
   ]
  },
  {
   "cell_type": "code",
   "execution_count": null,
   "metadata": {},
   "outputs": [],
   "source": [
    "q_off_bak = wc.gain_listed_dict[\"q_off\"]\n",
    "q_off_bak"
   ]
  },
  {
   "cell_type": "markdown",
   "metadata": {},
   "source": [
    "### set joint offset 0"
   ]
  },
  {
   "cell_type": "code",
   "execution_count": null,
   "metadata": {},
   "outputs": [],
   "source": [
    "wc.change_gain(**{\"q_off{}\".format(i_q):0 for i_q, q_off in enumerate(q_off_bak)})"
   ]
  },
  {
   "cell_type": "markdown",
   "metadata": {},
   "source": [
    "### restore joint offset"
   ]
  },
  {
   "cell_type": "code",
   "execution_count": null,
   "metadata": {},
   "outputs": [],
   "source": [
    "wc.change_gain(**{\"q_off{}\".format(i_q):q_off for i_q, q_off in enumerate(q_off_bak)})"
   ]
  },
  {
   "cell_type": "markdown",
   "metadata": {},
   "source": [
    "### change control mode"
   ]
  },
  {
   "cell_type": "code",
   "execution_count": null,
   "metadata": {},
   "outputs": [],
   "source": [
    "wc.change_gain(switch_control0=0)"
   ]
  },
  {
   "cell_type": "code",
   "execution_count": null,
   "metadata": {},
   "outputs": [],
   "source": []
  }
 ],
 "metadata": {
  "kernelspec": {
   "display_name": "Python 2",
   "language": "python",
   "name": "python2"
  },
  "language_info": {
   "codemirror_mode": {
    "name": "ipython",
    "version": 2
   },
   "file_extension": ".py",
   "mimetype": "text/x-python",
   "name": "python",
   "nbconvert_exporter": "python",
   "pygments_lexer": "ipython2",
   "version": "2.7.17"
  }
 },
 "nbformat": 4,
 "nbformat_minor": 2
}
