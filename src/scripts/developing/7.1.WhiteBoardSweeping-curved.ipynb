{
 "cells": [
  {
   "cell_type": "markdown",
   "metadata": {},
   "source": [
    "## Check List 7.1. Demo - White board sweeping\n",
    "* In this demo file, we will use two robots (Indy7, Panda) to sweep a white board, removing obstacles\n",
    "\n",
    "* You need trained model to use ReachChecker\n",
    "  - model/reach_svm/indy7.json\n",
    "  - model/reach_svm/panda.json\n",
    "  - 백업: 개인 이동식 하드디스크, 강준수"
   ]
  },
  {
   "cell_type": "markdown",
   "metadata": {},
   "source": [
    "### Prepare the task scene\n",
    "* Prepare Indy7 and panda, and install sweeping tool to indy. (Check release/Figs/7.1.WhiteBoardSweeping.jpg)\n",
    "* Prepare \"floor\", \"track\", \"box1\", \"box2\" objects as defined in pkg.detector.aruco.marker_config.py\n",
    "* The robots and \"track\" are installed on \"floor\".\n",
    "* \"box1\" and \"box2\" are on \"track\"\n",
    "<img src=\"../Figs/7.1.WhiteBoardSweeping.jpg\" width=\"80%\">"
   ]
  },
  {
   "cell_type": "markdown",
   "metadata": {},
   "source": [
    "## set running directory to project source"
   ]
  },
  {
   "cell_type": "code",
   "execution_count": 1,
   "metadata": {},
   "outputs": [],
   "source": [
    "import os\n",
    "os.chdir(os.path.join(os.environ[\"RNB_PLANNING_DIR\"], 'src'))\n",
    "from pkg.utils.code_scraps import add_indy_sweep_tool, use_current_place_point_only, use_current_sub_binders_only, finish_L_shape, set_l_shape_object, ModeSwitcher"
   ]
  },
  {
   "cell_type": "code",
   "execution_count": null,
   "metadata": {},
   "outputs": [],
   "source": []
  },
  {
   "cell_type": "markdown",
   "metadata": {},
   "source": [
    "## init combined robot config"
   ]
  },
  {
   "cell_type": "code",
   "execution_count": 2,
   "metadata": {},
   "outputs": [
    {
     "name": "stdout",
     "output_type": "stream",
     "text": [
      "connection command:\n",
      "indy0: False\n",
      "panda1: False\n"
     ]
    }
   ],
   "source": [
    "from pkg.controller.combined_robot import *\n",
    "from pkg.project_config import *\n",
    "\n",
    "crob = CombinedRobot(robots_on_scene=[\n",
    "    RobotConfig(0, RobotType.indy7, ((0.3,-0.4,0), (0,0,np.pi/2)),\n",
    "                INDY_IP),\n",
    "    RobotConfig(1, RobotType.panda, ((-0.3,-0.4,0), (0,0,np.pi/2)),\n",
    "                \"{}/{}\".format(PANDA_REPEATER_IP, PANDA_ROBOT_IP))]\n",
    "              , connection_list=[False, False])"
   ]
  },
  {
   "cell_type": "code",
   "execution_count": 3,
   "metadata": {},
   "outputs": [
    {
     "name": "stdout",
     "output_type": "stream",
     "text": [
      "Device configuration: \n",
      "\tcolor_format: 3 \n",
      "\t(0:JPG, 1:NV12, 2:YUY2, 3:BGRA32)\n",
      "\n",
      "\tcolor_resolution: 5 \n",
      "\t(0:OFF, 1:720p, 2:1080p, 3:1440p, 4:1536p, 5:2160p, 6:3072p)\n",
      "\n",
      "\tdepth_mode: 3 \n",
      "\t(0:OFF, 1:NFOV_2X2BINNED, 2:NFOV_UNBINNED,3:WFOV_2X2BINNED, 4:WFOV_UNBINNED, 5:Passive IR)\n",
      "\n",
      "\tcamera_fps: 2 \n",
      "\t(0:5 FPS, 1:15 FPS, 2:30 FPS)\n",
      "\n",
      "\tsynchronized_images_only: False \n",
      "\t(True of False). Drop images if the color and depth are not synchronized\n",
      "\n",
      "\tdepth_delay_off_color_usec: 0 ms. \n",
      "\tDelay between the color image and the depth image\n",
      "\n",
      "\twired_sync_mode: 0\n",
      "\t(0:Standalone mode, 1:Master mode, 2:Subordinate mode)\n",
      "\n",
      "\tsubordinate_delay_off_master_usec: 0 ms.\n",
      "\tThe external synchronization timing.\n",
      "\n",
      "\tdisable_streaming_indicator: False \n",
      "\t(True or False). Streaming indicator automatically turns on when the color or depth camera's are in use.\n",
      "\n",
      "\n",
      "Start streaming\n"
     ]
    },
    {
     "data": {
      "text/plain": [
       "[(array([[1.82983423e+03, 0.00000000e+00, 1.91572046e+03],\n",
       "         [0.00000000e+00, 1.82983423e+03, 1.09876086e+03],\n",
       "         [0.00000000e+00, 0.00000000e+00, 1.00000000e+00]]),\n",
       "  array([ 7.09966481e-01, -2.73409390e+00,  1.45804870e-03, -3.24774766e-04,\n",
       "          1.44911301e+00,  5.84310412e-01, -2.56374550e+00,  1.38472950e+00])),\n",
       " (array([[1.39560388e+03, 0.00000000e+00, 9.62751587e+02],\n",
       "         [0.00000000e+00, 1.39531934e+03, 5.47687012e+02],\n",
       "         [0.00000000e+00, 0.00000000e+00, 1.00000000e+00]]),\n",
       "  array([0., 0., 0., 0., 0.])),\n",
       " array([[ 0.8249903 , -0.02537787, -0.56457686,  0.6518986 ],\n",
       "        [ 0.17256013,  0.9625954 ,  0.20888528, -0.15673575],\n",
       "        [ 0.53815806, -0.2697518 ,  0.798511  ,  0.09325856],\n",
       "        [ 0.        ,  0.        ,  0.        ,  1.        ]],\n",
       "       dtype=float32)]"
      ]
     },
     "execution_count": 3,
     "metadata": {},
     "output_type": "execute_result"
    }
   ],
   "source": [
    "from pkg.detector.aruco.marker_config import *\n",
    "from pkg.detector.aruco.stereo import ArucoStereo\n",
    "from pkg.detector.camera.realsense import RealSense\n",
    "from pkg.detector.camera.kinect import Kinect\n",
    "aruco_map = get_aruco_map()\n",
    "stereo = ArucoStereo(aruco_map, [Kinect(), RealSense()])\n",
    "stereo.initialize()\n",
    "stereo.calibrate()"
   ]
  },
  {
   "cell_type": "code",
   "execution_count": null,
   "metadata": {},
   "outputs": [],
   "source": []
  },
  {
   "cell_type": "markdown",
   "metadata": {},
   "source": [
    "## create scene builder"
   ]
  },
  {
   "cell_type": "code",
   "execution_count": 4,
   "metadata": {},
   "outputs": [],
   "source": [
    "from pkg.geometry.builder.scene_builder import SceneBuilder\n",
    "s_builder = SceneBuilder(stereo)\n",
    "s_builder.reset_reference_coord(ref_name=\"floor\")"
   ]
  },
  {
   "cell_type": "code",
   "execution_count": null,
   "metadata": {},
   "outputs": [],
   "source": []
  },
  {
   "cell_type": "markdown",
   "metadata": {},
   "source": [
    "## detect robot and make geometry scene"
   ]
  },
  {
   "cell_type": "code",
   "execution_count": 5,
   "metadata": {},
   "outputs": [
    {
     "name": "stderr",
     "output_type": "stream",
     "text": [
      "Unknown tag \"hardwareInterface\" in /robot[@name='custom_robots']/transmission[@name='indy0_tran0']/actuator[@name='indy0_motor0']\n",
      "Unknown tag \"hardwareInterface\" in /robot[@name='custom_robots']/transmission[@name='indy0_tran1']/actuator[@name='indy0_motor1']\n",
      "Unknown tag \"hardwareInterface\" in /robot[@name='custom_robots']/transmission[@name='indy0_tran2']/actuator[@name='indy0_motor2']\n",
      "Unknown tag \"hardwareInterface\" in /robot[@name='custom_robots']/transmission[@name='indy0_tran3']/actuator[@name='indy0_motor3']\n",
      "Unknown tag \"hardwareInterface\" in /robot[@name='custom_robots']/transmission[@name='indy0_tran4']/actuator[@name='indy0_motor4']\n",
      "Unknown tag \"hardwareInterface\" in /robot[@name='custom_robots']/transmission[@name='indy0_tran5']/actuator[@name='indy0_motor5']\n"
     ]
    },
    {
     "name": "stdout",
     "output_type": "stream",
     "text": [
      "Please create a subscriber to the marker\n",
      "publication OK\n",
      "published: [0, 0, 0, 0, 0, 0, 0, 0, 0, 0, 0, 0, 0]\n"
     ]
    }
   ],
   "source": [
    "xyz_rpy_robots = s_builder.detect_items(level_mask=[DetectionLevel.ROBOT])\n",
    "# xyz_rpy_robots = load_json(\"data/xyz_rpy_robots.json\")\n",
    "crob.update_robot_pos_dict(xyz_rpy_robots=xyz_rpy_robots)\n",
    "gscene = s_builder.create_gscene(crob)"
   ]
  },
  {
   "cell_type": "code",
   "execution_count": 6,
   "metadata": {},
   "outputs": [],
   "source": [
    "# save_json(\"data/xyz_rpy_robots.json\", xyz_rpy_robots)"
   ]
  },
  {
   "cell_type": "code",
   "execution_count": null,
   "metadata": {},
   "outputs": [],
   "source": []
  },
  {
   "cell_type": "code",
   "execution_count": null,
   "metadata": {},
   "outputs": [],
   "source": []
  },
  {
   "cell_type": "markdown",
   "metadata": {},
   "source": [
    "## init planning pipeline"
   ]
  },
  {
   "cell_type": "code",
   "execution_count": 7,
   "metadata": {},
   "outputs": [
    {
     "name": "stdout",
     "output_type": "stream",
     "text": [
      "Dash is running on http://0.0.0.0:8050/\n",
      "\n",
      " * Serving Flask app \"pkg.ui.dash_launcher\" (lazy loading)\n",
      " * Environment: production\n"
     ]
    }
   ],
   "source": [
    "from pkg.planning.scene import PlanningScene\n",
    "pscene = PlanningScene(gscene, combined_robot=crob)\n",
    "\n",
    "from pkg.planning.pipeline import PlanningPipeline\n",
    "ppline = PlanningPipeline(pscene)\n",
    "\n",
    "from pkg.ui.ui_broker import *\n",
    "\n",
    "# start UI\n",
    "ui_broker = UIBroker.instance()\n",
    "ui_broker.initialize(ppline, s_builder)\n",
    "ui_broker.start_server()\n",
    "\n",
    "ui_broker.set_tables()"
   ]
  },
  {
   "cell_type": "markdown",
   "metadata": {},
   "source": [
    "```\n",
    "open web ui on <your ip>:8050\n",
    "click geometry items / Handles / Binders to highlight geometry on RVIZ\n",
    "other functions may be buggy.. please report\n",
    "```"
   ]
  },
  {
   "cell_type": "code",
   "execution_count": null,
   "metadata": {},
   "outputs": [],
   "source": []
  },
  {
   "cell_type": "markdown",
   "metadata": {},
   "source": [
    "## add environment"
   ]
  },
  {
   "cell_type": "code",
   "execution_count": 8,
   "metadata": {},
   "outputs": [
    {
     "name": "stdout",
     "output_type": "stream",
     "text": [
      "   WARNING: This is a development server. Do not use it in a production deployment.\n",
      "   Use a production WSGI server instead.\n",
      " * Debug mode: off\n",
      "Please create a subscriber to the marker\n"
     ]
    }
   ],
   "source": [
    "gtem_dict = s_builder.detect_and_register(level_mask=[DetectionLevel.ENVIRONMENT])\n",
    "\n",
    "# add cam poles\n",
    "ptems = s_builder.add_poles({\"cam0\": s_builder.ref_coord_inv[:3,3], \"cam1\":np.matmul(s_builder.ref_coord_inv, stereo.T_c12)[:3,3]},\n",
    "                            color=(0.6,0.6,0.6,0.0))\n",
    "gtems = s_builder.add_robot_geometries(color=(0,1,0,0.5), display=True, collision=True)\n",
    "gscene.NAME_DICT[\"floor\"].dims = (2,1,0.01)\n",
    "gscene.set_workspace_boundary( -1, 1, -0.5, 0.5, -0.1, 1.05)"
   ]
  },
  {
   "cell_type": "code",
   "execution_count": null,
   "metadata": {},
   "outputs": [],
   "source": []
  },
  {
   "cell_type": "markdown",
   "metadata": {},
   "source": [
    "## add indy tool"
   ]
  },
  {
   "cell_type": "code",
   "execution_count": 9,
   "metadata": {},
   "outputs": [],
   "source": [
    "add_indy_sweep_tool(gscene, \"indy0\", face_name=\"brush_face\")"
   ]
  },
  {
   "cell_type": "code",
   "execution_count": null,
   "metadata": {},
   "outputs": [],
   "source": []
  },
  {
   "cell_type": "markdown",
   "metadata": {},
   "source": [
    "## add sweep face"
   ]
  },
  {
   "cell_type": "code",
   "execution_count": 10,
   "metadata": {},
   "outputs": [],
   "source": [
    "R_CURVE = 0.19\n",
    "CURVE_WIDTH = 0.19\n",
    "CURVE_LENGTH = 0.24\n",
    "CURVE_HEIGHT = 0.026\n",
    "curve_base = s_builder.detect_and_register(item_names=[\"curve_base\"], level_mask=[DetectionLevel.ENVIRONMENT])[\"curve_base\"]\n",
    "curve_face = gscene.create_safe(GEOTYPE.CYLINDER, \"curve_face\",\n",
    "                                link_name=curve_base.link_name,\n",
    "                                dims=(R_CURVE*2,R_CURVE*2,CURVE_LENGTH), \n",
    "                                center=(0,0,curve_base.dims[2]/2+CURVE_HEIGHT-R_CURVE), rpy=(0,-np.pi/2,0),\n",
    "                                color=curve_base.color, display=True, fixed=True, collision=True, parent=\"curve_base\")"
   ]
  },
  {
   "cell_type": "code",
   "execution_count": 11,
   "metadata": {},
   "outputs": [],
   "source": [
    "gscene.update_markers_all()"
   ]
  },
  {
   "cell_type": "code",
   "execution_count": null,
   "metadata": {},
   "outputs": [],
   "source": []
  },
  {
   "cell_type": "markdown",
   "metadata": {},
   "source": [
    "## add wp"
   ]
  },
  {
   "cell_type": "code",
   "execution_count": 12,
   "metadata": {},
   "outputs": [],
   "source": [
    "TOOL_DIM = [0.06, 0.13]\n",
    "TACK_WIDTH = 0.17\n",
    "TRC_THIC = 0.01\n",
    "CURVE_ANGLE = np.pi/10\n",
    "TRACK_NUM = np.ceil(np.divide(CURVE_LENGTH-TOOL_DIM[1], TOOL_DIM[1])).astype(np.int)+1\n",
    "TRACK_STEP = (CURVE_LENGTH-TOOL_DIM[1])/(TRACK_NUM-1)\n",
    "WP_REF_A = np.multiply((cos(CURVE_ANGLE), sin(CURVE_ANGLE), 0), R_CURVE-TRC_THIC/2) - (0,0,CURVE_LENGTH/2-TOOL_DIM[1]/2)\n",
    "WP_REF_B = np.array([WP_REF_A[0], -WP_REF_A[1], WP_REF_A[2]])"
   ]
  },
  {
   "cell_type": "code",
   "execution_count": 13,
   "metadata": {},
   "outputs": [],
   "source": [
    "\n",
    "track_list = []\n",
    "for i_trc in range(TRACK_NUM):\n",
    "    wp1 = gscene.create_safe(GEOTYPE.BOX, \"wp{}a\".format(i_trc+1), \"base_link\", (TOOL_DIM[1]/2,TOOL_DIM[0]/2,TRC_THIC), \n",
    "                             tuple(WP_REF_A+[0,0,TRACK_STEP*i_trc]),rpy=(0,np.pi/2,CURVE_ANGLE), \n",
    "                             color=(0.8,0.2,0.2,0.2), display=True, fixed=True, collision=False, parent=\"curve_face\")\n",
    "    wp2 = gscene.create_safe(GEOTYPE.BOX, \"wp{}b\".format(i_trc+1), \"base_link\", (TOOL_DIM[1]/2,TOOL_DIM[0]/2,TRC_THIC), \n",
    "                             tuple(WP_REF_B+[0,0,TRACK_STEP*i_trc]),rpy=(0,np.pi/2,-CURVE_ANGLE), \n",
    "                             color=(0.8,0.2,0.2,0.2), display=True, fixed=True, collision=False, parent=\"curve_face\")\n",
    "    vertical = gscene.create_safe(GEOTYPE.PLANE, \"vertical{}\".format(i_trc+1), \"base_link\", \n",
    "                              (R_CURVE*3,R_CURVE*3,1e-6), \n",
    "                             center=(R_CURVE-CURVE_HEIGHT,0,WP_REF_A[2]+TRACK_STEP*i_trc),rpy=(0,0,0), \n",
    "                             color=(0.8,0.2,0.2,0.2), display=False, fixed=True, collision=False, parent=\"curve_face\")\n",
    "    face = gscene.create_safe(GEOTYPE.CYLINDER, \"face{}\".format(i_trc+1), \"base_link\", \n",
    "                              ((R_CURVE+TRC_THIC)*2,(R_CURVE+TRC_THIC)*2,TACK_WIDTH), \n",
    "                             center=(0,0,WP_REF_A[2]+TRACK_STEP*i_trc),rpy=(0,0,0), \n",
    "                             color=(0.8,0.2,0.2,0.2), display=True, fixed=True, collision=False, parent=\"curve_face\")\n",
    "    track_list.append((wp1, wp2, vertical, face))"
   ]
  },
  {
   "cell_type": "code",
   "execution_count": 14,
   "metadata": {},
   "outputs": [],
   "source": [
    "gscene.update_markers_all()"
   ]
  },
  {
   "cell_type": "code",
   "execution_count": 15,
   "metadata": {},
   "outputs": [],
   "source": [
    "track_block = gscene.create_safe(GEOTYPE.BOX, \"track_block\", \"base_link\", (curve_base.dims[0], curve_base.dims[1]*2, curve_base.dims[1]*2), \n",
    "                             (0,0,-curve_base.dims[1]),rpy=(0,0,0), \n",
    "                             color=(0.8,0.2,0.2,0.2), display=True, fixed=True, collision=True, parent=\"curve_base\")"
   ]
  },
  {
   "cell_type": "markdown",
   "metadata": {},
   "source": [
    "## add box"
   ]
  },
  {
   "cell_type": "code",
   "execution_count": 16,
   "metadata": {},
   "outputs": [],
   "source": [
    "gtem_dict = s_builder.detect_and_register(level_mask=[DetectionLevel.MOVABLE])"
   ]
  },
  {
   "cell_type": "code",
   "execution_count": 17,
   "metadata": {},
   "outputs": [],
   "source": [
    "gscene.update_markers_all()"
   ]
  },
  {
   "cell_type": "code",
   "execution_count": null,
   "metadata": {},
   "outputs": [],
   "source": []
  },
  {
   "cell_type": "markdown",
   "metadata": {},
   "source": [
    "## Register binders"
   ]
  },
  {
   "cell_type": "code",
   "execution_count": 18,
   "metadata": {},
   "outputs": [],
   "source": [
    "from pkg.planning.constraint.constraint_actor import Gripper2Tool, PlacePlane, SweepFramer, FixtureSlot"
   ]
  },
  {
   "cell_type": "code",
   "execution_count": 19,
   "metadata": {},
   "outputs": [
    {
     "data": {
      "text/plain": [
       "<pkg.planning.constraint.constraint_actor.PlacePlane at 0x7fb73e062190>"
      ]
     },
     "execution_count": 19,
     "metadata": {},
     "output_type": "execute_result"
    }
   ],
   "source": [
    "gscene.create_safe(gtype=GEOTYPE.SPHERE, name=\"grip1\", link_name=\"panda1_hand\", \n",
    "                 dims=(0.01,)*3, center=(0,0,0.112), rpy=(-np.pi/2,0,0), color=(1,0,0,1), display=True, collision=False, fixed=True)\n",
    "\n",
    "pscene.create_binder(bname=\"grip1\", gname=\"grip1\", _type=Gripper2Tool, point=(0,0,0), rpy=(0,0,0))\n",
    "pscene.create_binder(bname=\"brush_face\", gname=\"brush_face\", _type=SweepFramer, point=(0,0,gscene.NAME_DICT['brush_face'].dims[2]/2), \n",
    "                     rpy=(0,np.pi,0))\n",
    "pscene.create_binder(bname=\"curve_face\", gname=\"curve_face\", _type=PlacePlane)"
   ]
  },
  {
   "cell_type": "code",
   "execution_count": null,
   "metadata": {},
   "outputs": [],
   "source": []
  },
  {
   "cell_type": "markdown",
   "metadata": {},
   "source": [
    "## add objects"
   ]
  },
  {
   "cell_type": "code",
   "execution_count": 20,
   "metadata": {},
   "outputs": [],
   "source": [
    "from pkg.planning.constraint.constraint_subject import \\\n",
    "        CustomObject, Grasp2Point, PlacePoint, SweepFrame, SweepTask, BoxObject, FixturePoint, AbstractObject"
   ]
  },
  {
   "cell_type": "code",
   "execution_count": 21,
   "metadata": {},
   "outputs": [],
   "source": [
    "for gname in sorted(gtem_dict.keys()):\n",
    "    pscene.create_subject(oname=gname, gname=gname, _type=BoxObject, hexahedral=True)\n",
    "# box3= pscene.create_subject(oname=\"box3\", gname=\"box3\", _type=BoxObject, hexahedral=True)"
   ]
  },
  {
   "cell_type": "code",
   "execution_count": 22,
   "metadata": {},
   "outputs": [],
   "source": [
    "from pkg.planning.constraint.constraint_common import MotionConstraint\n",
    "from pkg.planning.constraint.constraint_subject import AbstractTask\n",
    "from pkg.planning.constraint.constraint_subject import SweepLineTask"
   ]
  },
  {
   "cell_type": "code",
   "execution_count": 23,
   "metadata": {},
   "outputs": [],
   "source": [
    "sweep_list = []\n",
    "for i_t, track_tem in enumerate(track_list):\n",
    "    wp1, wp2, vertical, face = track_tem\n",
    "    sweep_ = pscene.create_subject(oname=\"sweep{}\".format(i_t+1), gname=\"curve_face\", _type=SweepLineTask, \n",
    "                                   action_points_dict = {wp1.name: SweepFrame(wp1.name, wp1, [0,0,TRC_THIC/2], [0,0,-np.pi/2]),\n",
    "                                                       wp2.name: SweepFrame(wp2.name, wp2, [0,0,TRC_THIC/2], [0,0,-np.pi/2])}, \n",
    "                                   geometry_vertical=vertical, clearance=[face])\n",
    "    sweep_list.append(sweep_)"
   ]
  },
  {
   "cell_type": "code",
   "execution_count": null,
   "metadata": {},
   "outputs": [],
   "source": []
  },
  {
   "cell_type": "markdown",
   "metadata": {},
   "source": [
    "### planners"
   ]
  },
  {
   "cell_type": "code",
   "execution_count": 24,
   "metadata": {
    "scrolled": false
   },
   "outputs": [],
   "source": [
    "from pkg.planning.motion.moveit.moveit_planner import MoveitPlanner\n",
    "mplan = MoveitPlanner(pscene)\n",
    "mplan.update_gscene()\n",
    "from pkg.planning.task.rrt import TaskRRT\n",
    "tplan = TaskRRT(pscene)\n",
    "tplan.prepare()\n",
    "ppline.set_motion_planner(mplan)\n",
    "ppline.set_task_planner(tplan)"
   ]
  },
  {
   "cell_type": "code",
   "execution_count": null,
   "metadata": {},
   "outputs": [],
   "source": []
  },
  {
   "cell_type": "markdown",
   "metadata": {},
   "source": [
    "## motion filters"
   ]
  },
  {
   "cell_type": "code",
   "execution_count": 25,
   "metadata": {},
   "outputs": [],
   "source": [
    "from pkg.planning.filtering.grasp_filter import GraspChecker\n",
    "from pkg.planning.filtering.reach_filter import ReachChecker\n",
    "from pkg.planning.filtering.latticized_filter import LatticedChecker\n",
    "from pkg.planning.filtering.task_clearance_filter import TaskClearanceChecker\n",
    "\n",
    "gcheck = GraspChecker(pscene)\n",
    "rcheck = ReachChecker(pscene)\n",
    "tcheck = TaskClearanceChecker(pscene, gcheck)\n",
    "checkers_all = [tcheck, rcheck, gcheck]\n",
    "# lcheck = LatticedChecker(pscene, gcheck)\n",
    "# checkers_all.append(lcheck)"
   ]
  },
  {
   "cell_type": "code",
   "execution_count": 26,
   "metadata": {},
   "outputs": [],
   "source": [
    "mplan.motion_filters = checkers_all"
   ]
  },
  {
   "cell_type": "code",
   "execution_count": 27,
   "metadata": {},
   "outputs": [],
   "source": [
    "gscene.show_pose(crob.home_pose)"
   ]
  },
  {
   "cell_type": "code",
   "execution_count": null,
   "metadata": {},
   "outputs": [],
   "source": []
  },
  {
   "cell_type": "markdown",
   "metadata": {},
   "source": [
    "## Set initial condition"
   ]
  },
  {
   "cell_type": "code",
   "execution_count": 28,
   "metadata": {},
   "outputs": [
    {
     "name": "stdout",
     "output_type": "stream",
     "text": [
      "(0, 0)\n"
     ]
    }
   ],
   "source": [
    "from pkg.planning.constraint.constraint_common \\\n",
    "            import sample_redundancy, combine_redundancy\n",
    "gtimer = GlobalTimer.instance()\n",
    "initial_state = pscene.initialize_state(crob.home_pose)\n",
    "print(initial_state.node)\n",
    "\n",
    "# remove place points except for the current one\n",
    "use_current_place_point_only(pscene, initial_state)"
   ]
  },
  {
   "cell_type": "code",
   "execution_count": 29,
   "metadata": {},
   "outputs": [
    {
     "data": {
      "text/plain": [
       "['sweep1', 'sweep2']"
      ]
     },
     "execution_count": 29,
     "metadata": {},
     "output_type": "execute_result"
    }
   ],
   "source": [
    "pscene.subject_name_list"
   ]
  },
  {
   "cell_type": "code",
   "execution_count": null,
   "metadata": {},
   "outputs": [],
   "source": []
  },
  {
   "cell_type": "markdown",
   "metadata": {},
   "source": [
    "# Node Sampler"
   ]
  },
  {
   "cell_type": "code",
   "execution_count": 30,
   "metadata": {},
   "outputs": [],
   "source": [
    "# from pkg.planning.sampling.node_sampling import make_state_param_hashable, UniformNodeSampler, PenaltyNodeSampler, GrowingSampler\n",
    "\n",
    "# tplan.new_node_sampler = PenaltyNodeSampler(3, 1)\n",
    "# tplan.parent_node_sampler = UniformNodeSampler(3)\n",
    "# # tplan.parent_snode_sampler = GrowingSampler(3)"
   ]
  },
  {
   "cell_type": "code",
   "execution_count": null,
   "metadata": {},
   "outputs": [],
   "source": []
  },
  {
   "cell_type": "markdown",
   "metadata": {},
   "source": [
    "# CustomRule"
   ]
  },
  {
   "cell_type": "code",
   "execution_count": 31,
   "metadata": {},
   "outputs": [],
   "source": [
    "from pkg.planning.task.custom_rules.sweep_entrance_control import SweepEntranceControlRule\n",
    "# tplan.custom_rule = SweepEntranceControlRule(pscene)"
   ]
  },
  {
   "cell_type": "code",
   "execution_count": null,
   "metadata": {},
   "outputs": [],
   "source": []
  },
  {
   "cell_type": "markdown",
   "metadata": {},
   "source": [
    "## Plan & show"
   ]
  },
  {
   "cell_type": "code",
   "execution_count": 32,
   "metadata": {},
   "outputs": [],
   "source": [
    "from pkg.planning.constraint.constraint_common import get_binding_margins, fit_binding\n",
    "from pkg.utils.traj_utils import simplify_schedule, mix_schedule\n",
    "mplan.reset_log(False)\n",
    "gtimer.reset()"
   ]
  },
  {
   "cell_type": "code",
   "execution_count": 33,
   "metadata": {},
   "outputs": [],
   "source": [
    "mplan.reset_log(False)\n",
    "gtimer.reset()\n",
    "\n",
    "with gtimer.block(\"detect\"):\n",
    "    for sname in pscene.subject_name_list:\n",
    "        if isinstance(pscene.subject_dict[sname], AbstractObject):\n",
    "            pscene.remove_subject(sname)\n",
    "            \n",
    "    gscene.clear_non_fixed()\n",
    "    \n",
    "    ## detect again\n",
    "    gtem_dict = s_builder.detect_and_register(level_mask=[DetectionLevel.MOVABLE])\n",
    "\n",
    "    ## create boxes\n",
    "    box_list =  [] \n",
    "    for gname in sorted(gtem_dict.keys()):\n",
    "        with gtimer.block(gname):\n",
    "            box_new = pscene.create_subject(oname=gname, gname=gname, _type=BoxObject, hexahedral=True)\n",
    "            box_new.register_binders(pscene, PlacePlane)\n",
    "            box_list.append(box_new)\n",
    "            \n",
    "initial_state = pscene.initialize_state(crob.home_pose, force_fit_binding=False)\n",
    "gscene.update_markers_all()\n",
    "\n",
    "# remove place points and sub-binders except for the current ones\n",
    "use_current_place_point_only(pscene, initial_state)\n",
    "use_current_sub_binders_only(pscene, initial_state)\n",
    "tplan.prepare()\n",
    "mplan.update_gscene()"
   ]
  },
  {
   "cell_type": "code",
   "execution_count": 34,
   "metadata": {},
   "outputs": [
    {
     "name": "stdout",
     "output_type": "stream",
     "text": [
      "detect: \t200.6 ms/1 = 200.6 ms (200.646/200.646)\n",
      "\n"
     ]
    }
   ],
   "source": [
    "print(gtimer)"
   ]
  },
  {
   "cell_type": "code",
   "execution_count": 35,
   "metadata": {
    "scrolled": true
   },
   "outputs": [
    {
     "name": "stdout",
     "output_type": "stream",
     "text": [
      "(0, 0)\n",
      "Use 36/36 agents\n",
      "try: 0 - (0, 0)->(1, 0)\n",
      "try: 0 - (0, 0)->(1, 0)\n",
      "try transition motion\n",
      "try: 0 - (0, 0)->(1, 0)\n",
      "try transition motion\n",
      "try: 0 - (0, 0)->(0, 1)\n",
      "try transition motion\n",
      "transition motion tried: True\n",
      "=============== try reaching goal from (1, 0) =================\n",
      "result: 0 - (0, 0)->(1, 0) = success\n",
      "branching: 0->1 (0.2/50.0 s, steps/err: 26(102.843999863 ms)/0.00160058501431)\n",
      "======================================================================================================================================================\n",
      "try: 1 - (1, 0)->(2, 0)\n",
      "try: 1 - (1, 0)->(2, 0)\n",
      "transition motion tried: True\n",
      "try transition motion\n",
      "=============== try reaching goal from (1, 0) =================\n",
      "result: 0 - (0, 0)->(1, 0) = success\n",
      "try constrained motion\n",
      "try: 2 - (1, 0)->(2, 0)\n",
      "try constrained motion\n",
      "transition motion tried: True\n",
      "branching: 0->2 (0.27/50.0 s, steps/err: 26(109.944820404 ms)/0.00134029237305)\n",
      "======================================================================================================================================================\n",
      "try: 0 - (0, 0)->(0, 1)\n",
      "=============== try reaching goal from (1, 0) =================\n",
      "try: 3 - (1, 0)->(2, 0)\n",
      "try constrained motion\n",
      "result: 0 - (0, 0)->(1, 0) = success\n",
      "branching: 0->3 (0.32/50.0 s, steps/err: 26(115.867853165 ms)/0.00142777891148)\n",
      "======================================================================================================================================================\n",
      "try transition motion\n",
      "try: 0 - (0, 0)->(0, 1)\n",
      "try: 0 - (0, 0)->(1, 0)\n",
      "try constrained motion\n",
      "transition motion tried: True\n",
      "result: 0 - (0, 0)->(0, 1) = success\n",
      "branching: 0->4 (0.36/50.0 s, steps/err: 27(166.926860809 ms)/0.000915883432417)\n",
      "try: 0 - (0, 0)->(0, 1)\n",
      "try transition motion\n",
      "try transition motion\n",
      "======================================================================================================================================================\n",
      "try: 0 - (0, 0)->(1, 0)\n",
      "try: 0 - (0, 0)->(1, 0)\n",
      "transition motion tried: True\n",
      "try transition motion\n",
      "try transition motion\n",
      "result: 0 - (0, 0)->(0, 1) = success\n",
      "branching: 0->5 (0.45/50.0 s, steps/err: 27(127.45308876 ms)/0.000969372132751)\n",
      "======================================================================================================================================================\n",
      "try: 1 - (1, 0)->(2, 0)\n",
      "try: 0 - (0, 0)->(0, 1)\n",
      "try transition motion\n",
      "transition motion tried: True\n",
      "transition motion tried: True\n",
      "result: 0 - (0, 0)->(0, 1) = success\n",
      "branching: 0->6 (0.49/50.0 s, steps/err: 27(129.796981812 ms)/0.00175779532494)\n",
      "=============== try reaching goal from (1, 0) =================\n",
      "try: 7 - (1, 0)->(2, 0)\n",
      "try transition motion\n",
      "try constrained motion\n",
      "transition motion tried: True\n",
      "======================================================================================================================================================\n",
      "result: 0 - (0, 0)->(1, 0) = success\n",
      "branching: 0->7 (0.53/50.0 s, steps/err: 26(128.709077835 ms)/0.00120687099552)\n",
      "======================================================================================================================================================\n",
      "try: 0 - (0, 0)->(0, 1)\n",
      "=============== try reaching goal from (1, 0) =================\n",
      "try: 8 - (1, 0)->(2, 0)\n",
      "transition motion tried: True\n",
      "try constrained motion\n",
      "result: 0 - (0, 0)->(1, 0) = success\n",
      "try: 4 - (0, 1)->(0, 2)\n",
      "branching: 0->8 (0.58/50.0 s, steps/err: 26(123.14414978 ms)/0.00159014636598)\n",
      "======================================================================================================================================================\n",
      "result: 0 - (0, 0)->(0, 1) = success\n",
      "try: 4 - (0, 1)->(0, 2)\n",
      "transition motion tried: True\n",
      "try: 3 - (1, 0)->(2, 0)\n",
      "try constrained motion\n",
      "try transition motion\n",
      "transition motion tried: True\n",
      "try constrained motion\n",
      "branching: 0->9 (0.61/50.0 s, steps/err: 32(169.420003891 ms)/0.00112221508211)\n",
      "======================================================================================================================================================\n",
      "=============== try reaching goal from (1, 0) =================\n",
      "result: 0 - (0, 0)->(0, 1) = success\n",
      "try: 10 - (1, 0)->(2, 0)\n",
      "try: 1 - (1, 0)->(2, 0)\n",
      "try constrained motion\n",
      "try constrained motion\n",
      "constrained motion tried: True\n",
      "result: 0 - (0, 0)->(1, 0) = success\n",
      "branching: 0->11 (0.64/50.0 s, steps/err: 45(124.019861221 ms)/0.00146704349702)\n",
      "branching: 0->10 (0.64/50.0 s, steps/err: 26(166.568994522 ms)/0.00194008091498)\n",
      "======================================================================================================================================================\n",
      "======================================================================================================================================================\n",
      "result: 1 - (1, 0)->(2, 0) = success\n",
      "branching: 1->12 (0.65/50.0 s, steps/err: 46(412.302017212 ms)/0.00122205443646)\n",
      "======================================================================================================================================================\n",
      "try: 5 - (0, 1)->(0, 2)\n",
      "try: 0 - (0, 0)->(1, 0)\n",
      "try: 6 - (0, 1)->(0, 2)\n",
      "try constrained motion\n",
      "try constrained motion\n",
      "++ adding return motion to acquired answer ++\n",
      "try joint motion\n",
      "try: 0 - (0, 0)->(1, 0)\n",
      "try transition motion\n",
      "try constrained motion\n",
      "try constrained motion\n",
      "transition motion tried: True\n",
      "result: 0 - (0, 0)->(0, 1) = success\n",
      "try: 3 - (1, 0)->(2, 0)\n",
      "try transition motion\n",
      "branching: 0->13 (0.76/50.0 s, steps/err: 58(154.371023178 ms)/0.0021088818848)\n",
      "======================================================================================================================================================\n",
      "try: 0 - (0, 0)->(0, 1)\n",
      "try: 3 - (1, 0)->(2, 0)\n",
      "try constrained motion\n",
      "joint motion tried: True\n",
      "transition motion tried: True\n",
      "constrained motion tried: True\n",
      "=============== try reaching goal from (1, 0) =================\n",
      "result: 2 - (1, 0)->(2, 0) = success\n",
      "result: 0 - (0, 0)->(1, 0) = success\n",
      "try: 15 - (1, 0)->(2, 0)\n",
      "try transition motion\n",
      "try constrained motion\n",
      "transition motion tried: True\n",
      "branching: 0->15 (0.83/50.0 s, steps/err: 26(115.568876266 ms)/0.00165004295046)\n",
      "branching: 2->16 (0.83/50.0 s, steps/err: 24(520.024061203 ms)/0.0017924620155)\n",
      "======================================================================================================================================================\n",
      "======================================================================================================================================================\n",
      "++ adding return motion to acquired answer ++\n",
      "=============== try reaching goal from (1, 0) =================\n",
      "try: 0 - (0, 0)->(0, 1)\n",
      "try joint motion\n",
      "try: 17 - (1, 0)->(2, 0)\n",
      "try constrained motion\n",
      "constrained motion tried: True\n",
      "result: 0 - (0, 0)->(1, 0) = success\n",
      "branching: 0->17 (0.88/50.0 s, steps/err: 26(113.716125488 ms)/0.0011103243976)\n",
      "======================================================================================================================================================\n",
      "result: 1 - (1, 0)->(2, 0) = success\n",
      "branching: 1->18 (0.88/50.0 s, steps/err: 72(645.889043808 ms)/0.00170125751727)\n",
      "try: 4 - (0, 1)->(0, 2)\n",
      "======================================================================================================================================================\n",
      "transition motion tried: True\n",
      "try transition motion\n",
      "try: 2 - (1, 0)->(2, 0)\n",
      "try constrained motion\n",
      "try constrained motion\n",
      "joint motion tried: True\n",
      "constrained motion tried: True\n",
      "++ adding return motion to acquired answer ++\n",
      "result: 0 - (0, 0)->(0, 1) = success\n",
      "try joint motion\n",
      "result: 8 - (1, 0)->(2, 0) = success\n",
      "try: 0 - (0, 0)->(0, 1)\n",
      "try constrained motion\n",
      "branching: 0->20 (0.97/50.0 s, steps/err: 27(138.470888138 ms)/0.00220122135279)\n",
      "branching: 8->21 (0.97/50.0 s, steps/err: 32(356.07790947 ms)/0.00169627558168)\n",
      "======================================================================================================================================================\n",
      "======================================================================================================================================================\n",
      "++ adding return motion to acquired answer ++\n"
     ]
    },
    {
     "name": "stdout",
     "output_type": "stream",
     "text": [
      "try: 1 - (1, 0)->(2, 0)\n",
      "constrained motion tried: True\n",
      "try joint motion\n",
      "try: 2 - (1, 0)->(2, 0)\n",
      "try transition motion\n",
      "=========================================================================================================\n",
      "constrained motion tried: True\n",
      "joint motion tried: True\n",
      "constrained motion tried: True\n",
      "======================= terminated 4: first answer acquired ===============================\n",
      "=========================================================================================================\n",
      "result: 7 - (1, 0)->(2, 0) = success\n",
      "======================================================================================================================================================\n",
      "result: 1 - (1, 0)->(2, 0) = success\n",
      "result: 3 - (1, 0)->(2, 0) = success\n",
      "=========================================================================================================\n",
      "try constrained motion\n",
      "try constrained motion\n",
      "constrained motion tried: True\n",
      "branching: 1->25 (1.06/50.0 s, steps/err: 22(541.615009308 ms)/0.00111486369593)\n",
      "branching: 7->24 (1.06/50.0 s, steps/err: 18(498.336791992 ms)/0.00156928525625)\n",
      "branching: 3->22 (1.06/50.0 s, steps/err: 35(411.904811859 ms)/0.00127304868922)\n",
      "======================================================================================================================================================\n",
      "======================= terminated 24: first answer acquired from other agent ===============================\n",
      "++ adding return motion to acquired answer ++\n",
      "++ adding return motion to acquired answer ++\n",
      "=========================================================================================================\n",
      "result: 6 - (0, 1)->(0, 2) = success\n",
      "branching: 6->26 (1.07/50.0 s, steps/err: 16(382.084846497 ms)/0.00185899971187)\n",
      "try joint motion\n",
      "try joint motion\n",
      "joint motion tried: True\n",
      "======================================================================================================================================================\n",
      "=========================================================================================================\n",
      "transition motion tried: True\n",
      "constrained motion tried: True\n",
      "======================================================================================================================================================\n",
      "++ adding return motion to acquired answer ++\n",
      "======================= terminated 25: first answer acquired from other agent ===============================\n",
      "=========================================================================================================\n",
      "======================= terminated 15: first answer acquired from other agent ===============================\n",
      "result: 10 - (1, 0)->(2, 0) = success\n",
      "=========================================================================================================\n",
      "branching: 10->28 (1.11/50.0 s, steps/err: 52(460.661888123 ms)/0.00137091242488)\n",
      "result: 0 - (0, 0)->(0, 1) = success\n",
      "try joint motion\n",
      "=========================================================================================================\n",
      "=========================================================================================================\n",
      "=========================================================================================================\n",
      "constrained motion tried: True\n",
      "======================================================================================================================================================\n",
      "branching: 0->29 (1.15/50.0 s, steps/err: 27(133.919000626 ms)/0.00163098152688)\n",
      "======================= terminated 5: first answer acquired ===============================\n",
      "joint motion tried: True\n",
      "======================================================================================================================================================\n",
      "++ adding return motion to acquired answer ++\n",
      "=========================================================================================================\n",
      "======================= terminated 26: first answer acquired from other agent ===============================\n",
      "result: 5 - (0, 1)->(0, 2) = success\n",
      "=========================================================================================================\n",
      "=========================================================================================================\n",
      "======================= terminated 22: first answer acquired from other agent ===============================\n",
      "branching: 5->30 (1.15/50.0 s, steps/err: 23(471.574068069 ms)/0.00139555376276)\n",
      "=========================================================================================================\n",
      "======================================================================================================================================================\n",
      "try joint motion\n",
      "=========================================================================================================\n",
      "joint motion tried: True\n",
      "constrained motion tried: True\n",
      "=========================================================================================================\n",
      "constrained motion tried: True\n",
      "======================= terminated 10: first answer acquired from other agent ===============================\n",
      "======================= terminated 27: first answer acquired from other agent ===============================\n",
      "=========================================================================================================\n",
      "=========================================================================================================\n",
      "result: 3 - (1, 0)->(2, 0) = success\n",
      "branching: 3->33 (1.19/50.0 s, steps/err: 50(434.048891068 ms)/0.00155477374608)\n",
      "======================================================================================================================================================\n",
      "result: 4 - (0, 1)->(0, 2) = success\n",
      "++ adding return motion to acquired answer ++\n",
      "branching: 4->34 (1.2/50.0 s, steps/err: 39(582.937002182 ms)/0.00171702869688)\n",
      "constrained motion tried: True\n",
      "joint motion tried: True\n",
      "=========================================================================================================\n",
      "=========================================================================================================\n",
      "joint motion tried: True\n",
      "======================================================================================================================================================\n",
      "======================= terminated 0: first answer acquired ===============================\n",
      "======================= terminated 28: first answer acquired from other agent ===============================\n",
      "=========================================================================================================\n",
      "result: 1 - (1, 0)->(2, 0) = success\n",
      "try joint motion\n",
      "=========================================================================================================\n",
      "=========================================================================================================\n",
      "======================= terminated 3: first answer acquired from other agent ===============================\n",
      "branching: 1->36 (1.24/50.0 s, steps/err: 81(586.520910263 ms)/0.00203222810409)\n",
      "=========================================================================================================\n",
      "======================================================================================================================================================\n",
      "=========================================================================================================\n",
      "joint motion tried: True\n",
      "++ adding return motion to acquired answer ++\n",
      "======================= terminated 29: first answer acquired from other agent ===============================\n",
      "=========================================================================================================\n",
      "try joint motion\n",
      "=========================================================================================================\n",
      "=========================================================================================================\n",
      "======================= terminated 12: first answer acquired ===============================\n",
      "=========================================================================================================\n"
     ]
    },
    {
     "name": "stdout",
     "output_type": "stream",
     "text": [
      "======================= terminated 30: first answer acquired from other agent ===============================\n",
      "=========================================================================================================\n",
      "=========================================================================================================\n",
      "=========================================================================================================\n",
      "======================= terminated 13: first answer acquired ===============================\n",
      "======================= terminated 31: first answer acquired from other agent ===============================\n",
      "=========================================================================================================\n",
      "=========================================================================================================\n",
      "joint motion tried: True\n",
      "=========================================================================================================\n",
      "=========================================================================================================\n",
      "constrained motion tried: True\n",
      "======================= terminated 1: first answer acquired ===============================\n",
      "======================= terminated 32: first answer acquired from other agent ===============================\n",
      "=========================================================================================================\n",
      "=========================================================================================================\n",
      "constrained motion tried: True\n",
      "result: 3 - (1, 0)->(2, 0) = success\n",
      "branching: 3->40 (1.42/50.0 s, steps/err: 40(623.65603447 ms)/0.00174608602177)\n",
      "======================================================================================================================================================\n",
      "result: 1 - (1, 0)->(2, 0) = success\n",
      "++ adding return motion to acquired answer ++\n",
      "branching: 1->41 (1.43/50.0 s, steps/err: 43(402.322053909 ms)/0.00187040809088)\n",
      "=========================================================================================================\n",
      "=========================================================================================================\n",
      "=========================================================================================================\n",
      "======================= terminated 8: first answer acquired ===============================\n",
      "======================= terminated 11: first answer acquired ===============================\n",
      "======================================================================================================================================================\n",
      "=========================================================================================================\n",
      "=========================================================================================================\n",
      "======================= terminated 33: first answer acquired from other agent ===============================\n",
      "++ adding return motion to acquired answer ++\n",
      "=========================================================================================================\n",
      "try joint motion\n",
      "try joint motion\n",
      "=========================================================================================================\n",
      "=========================================================================================================\n",
      "======================= terminated 17: first answer acquired ===============================\n",
      "=========================================================================================================\n",
      "======================= terminated 34: first answer acquired from other agent ===============================\n",
      "=========================================================================================================\n",
      "joint motion tried: True\n",
      "=========================================================================================================\n",
      "======================= terminated 35: first answer acquired from other agent ===============================\n",
      "=========================================================================================================\n",
      "constrained motion tried: True\n",
      "++ adding return motion to acquired answer ++\n",
      "result: 2 - (1, 0)->(2, 0) = success\n",
      "branching: 2->43 (1.55/50.0 s, steps/err: 34(618.535041809 ms)/0.000833058019266)\n",
      "======================================================================================================================================================\n",
      "joint motion tried: True\n",
      "=========================================================================================================\n",
      "try joint motion\n",
      "======================= terminated 14: first answer acquired ===============================\n",
      "constrained motion tried: True\n",
      "result: 4 - (0, 1)->(0, 2) = success\n",
      "branching: 4->45 (1.63/50.0 s, steps/err: 33(742.561101913 ms)/0.00191170070099)\n",
      "======================================================================================================================================================\n",
      "=========================================================================================================\n",
      "=========================================================================================================\n",
      "======================= terminated 16: first answer acquired from other agent ===============================\n",
      "=========================================================================================================\n",
      "joint motion tried: True\n",
      "constrained motion tried: True\n",
      "=========================================================================================================\n",
      "======================= terminated 18: first answer acquired ===============================\n",
      "result: 17 - (1, 0)->(2, 0) = success\n",
      "=========================================================================================================\n",
      "branching: 17->47 (1.73/50.0 s, steps/err: 27(851.79901123 ms)/0.00189430111139)\n",
      "======================================================================================================================================================\n",
      "++ adding return motion to acquired answer ++\n",
      "try joint motion\n",
      "constrained motion tried: True\n",
      "result: 4 - (0, 1)->(0, 2) = success\n",
      "branching: 4->48 (1.74/50.0 s, steps/err: 53(1162.68706322 ms)/0.00132636247445)\n",
      "======================================================================================================================================================\n",
      "=========================================================================================================\n",
      "======================= terminated 7: first answer acquired from other agent ===============================\n",
      "=========================================================================================================\n",
      "constrained motion tried: True\n",
      "result: 2 - (1, 0)->(2, 0) = success\n",
      "branching: 2->49 (1.76/50.0 s, steps/err: 24(731.953859329 ms)/0.00138019753305)\n",
      "======================================================================================================================================================\n",
      "++ adding return motion to acquired answer ++\n",
      "try joint motion\n",
      "=========================================================================================================\n",
      "======================= terminated 2: first answer acquired ===============================\n",
      "=========================================================================================================\n",
      "joint motion tried: True\n",
      "Use 36/36 agents\n",
      "joint motion tried: True\n",
      "constrained motion tried: True\n",
      "try: 0 - (2, 0)->(2, 1)\n",
      "=========================================================================================================\n",
      "result: 3 - (1, 0)->(2, 0) = success\n",
      "======================= terminated 21: first answer acquired ===============================\n",
      "branching: 3->52 (1.85/50.0 s, steps/err: 18(1532.55105019 ms)/0.0019509636724)\n",
      "=========================================================================================================\n",
      "======================================================================================================================================================\n",
      "++ adding return motion to acquired answer ++\n",
      "try: 0 - (2, 0)->(2, 1)\n",
      "try transition motion\n"
     ]
    },
    {
     "name": "stdout",
     "output_type": "stream",
     "text": [
      "try joint motion\n",
      "try: 0 - (2, 0)->(2, 1)\n",
      "try transition motion\n",
      "try: 0 - (2, 0)->(2, 1)\n",
      "try transition motion\n",
      "transition motion tried: True\n",
      "joint motion tried: True\n",
      "=============== try reaching goal from (2, 1) =================\n",
      "result: 0 - (2, 0)->(2, 1) = success\n",
      "branching: 0->1 (0.21/50.0 s, steps/err: 32(110.243082047 ms)/0.00162278839894)\n",
      "======================================================================================================================================================\n",
      "try: 1 - (2, 1)->(2, 2)\n",
      "try: 1 - (2, 1)->(2, 2)\n",
      "try transition motion\n",
      "=========================================================================================================\n",
      "try constrained motion\n",
      "======================= terminated 20: first answer acquired ===============================\n",
      "=========================================================================================================\n",
      "try: 0 - (2, 0)->(2, 1)\n",
      "try constrained motion\n",
      "transition motion tried: True\n",
      "transition motion tried: True\n",
      "=============== try reaching goal from (2, 1) =================\n",
      "result: 0 - (2, 0)->(2, 1) = success\n",
      "=============== try reaching goal from (2, 1) =================\n",
      "branching: 0->2 (0.29/50.0 s, steps/err: 27(121.100902557 ms)/0.00126511283453)\n",
      "result: 0 - (2, 0)->(2, 1) = success\n",
      "=========================================================================================================\n",
      "======================================================================================================================================================\n",
      "branching: 0->3 (0.29/50.0 s, steps/err: 65(163.733959198 ms)/0.00149745578684)\n",
      "======================= terminated 23: first answer acquired ===============================\n",
      "try transition motion\n",
      "try: 2 - (2, 1)->(2, 2)\n",
      "transition motion tried: True\n",
      "======================================================================================================================================================\n",
      "=========================================================================================================\n",
      "try: 3 - (2, 1)->(2, 2)\n",
      "try: 0 - (2, 0)->(2, 1)\n",
      "=============== try reaching goal from (2, 1) =================\n",
      "try: 4 - (2, 1)->(2, 2)\n",
      "try constrained motion\n",
      "try constrained motion\n",
      "try transition motion\n",
      "result: 0 - (2, 0)->(2, 1) = success\n",
      "branching: 0->4 (0.36/50.0 s, steps/err: 27(127.429008484 ms)/0.000757098689004)\n",
      "======================================================================================================================================================\n",
      "try: 0 - (2, 0)->(2, 1)\n",
      "=========================================================================================================\n",
      "=========================================================================================================\n",
      "======================================================================================================================================================\n",
      "branching: 15->54 (2.17/50.0 s, steps/err: 41(1331.99596405 ms)/0.000645737953715)\n",
      "++ adding return motion to acquired answer ++\n",
      "result: 15 - (1, 0)->(2, 0) = success\n",
      "======================= terminated 6: first answer acquired ===============================\n",
      "try transition motion\n",
      "try constrained motion\n",
      "constrained motion tried: True\n",
      "try: 3 - (2, 1)->(2, 2)\n",
      "try joint motion\n",
      "try: 0 - (2, 0)->(2, 1)\n",
      "try constrained motion\n",
      "try: 0 - (2, 0)->(2, 1)\n",
      "try transition motion\n",
      "transition motion tried: True\n",
      "transition motion tried: True\n",
      "=============== try reaching goal from (2, 1) =================\n",
      "=============== try reaching goal from (2, 1) =================\n",
      "result: 0 - (2, 0)->(2, 1) = success\n",
      "result: 0 - (2, 0)->(2, 1) = success\n",
      "branching: 0->5 (0.5/50.0 s, steps/err: 45(164.127826691 ms)/0.00136920515416)\n",
      "branching: 0->6 (0.5/50.0 s, steps/err: 27(129.496097565 ms)/0.00191447935867)\n",
      "======================================================================================================================================================\n",
      "======================================================================================================================================================\n",
      "try: 5 - (2, 1)->(2, 2)\n",
      "try: 6 - (2, 1)->(2, 2)\n",
      "try: 4 - (2, 1)->(2, 2)\n",
      "joint motion tried: True\n",
      "try transition motion\n",
      "try constrained motion\n",
      "try: 0 - (2, 0)->(2, 1)\n",
      "try constrained motion\n",
      "try constrained motion\n",
      "transition motion tried: True\n",
      "=============== try reaching goal from (2, 1) =================\n",
      "try: 7 - (2, 1)->(2, 2)\n",
      "try transition motion\n",
      "transition motion tried: True\n",
      "result: 0 - (2, 0)->(2, 1) = success\n",
      "branching: 0->7 (0.61/50.0 s, steps/err: 27(128.597021103 ms)/0.00167271970339)\n",
      "======================================================================================================================================================\n",
      "=============== try reaching goal from (2, 1) =================\n",
      "result: 0 - (2, 0)->(2, 1) = success\n",
      "try: 8 - (2, 1)->(2, 2)\n",
      "branching: 0->8 (0.61/50.0 s, steps/err: 27(113.8920784 ms)/0.00197264225174)\n",
      "======================================================================================================================================================\n",
      "try: 6 - (2, 1)->(2, 2)\n",
      "try constrained motion\n",
      "try: 1 - (2, 1)->(2, 2)\n",
      "try constrained motion\n",
      "try: 3 - (2, 1)->(2, 2)\n",
      "try constrained motion\n",
      "try constrained motion\n",
      "transition motion tried: True\n",
      "=============== try reaching goal from (2, 1) =================\n",
      "result: 0 - (2, 0)->(2, 1) = success\n",
      "branching: 0->9 (0.7/50.0 s, steps/err: 27(120.057821274 ms)/0.000770220186754)\n",
      "======================================================================================================================================================\n",
      "try constrained motion\n",
      "try: 9 - (2, 1)->(2, 2)\n",
      "=========================================================================================================\n",
      "======================= terminated 19: first answer acquired ===============================\n",
      "=========================================================================================================\n",
      "try: 1 - (2, 1)->(2, 2)\n",
      "try: 1 - (2, 1)->(2, 2)\n",
      "try constrained motion\n",
      "try constrained motion\n",
      "try: 9 - (2, 1)->(2, 2)\n",
      "try constrained motion\n",
      "try: 0 - (2, 0)->(2, 1)\n",
      "try constrained motion\n",
      "try: 9 - (2, 1)->(2, 2)\n",
      "try transition motion\n",
      "try: 9 - (2, 1)->(2, 2)\n",
      "try constrained motion\n",
      "try: 9 - (2, 1)->(2, 2)\n",
      "constrained motion tried: True\n",
      "try constrained motion\n",
      "constrained motion tried: True\n",
      "transition motion tried: True\n",
      "result: 6 - (2, 1)->(2, 2) = success\n",
      "result: 3 - (2, 1)->(2, 2) = success\n",
      "branching: 6->10 (1.02/50.0 s, steps/err: 19(480.935096741 ms)/0.00149453395817)\n",
      "branching: 3->11 (1.02/50.0 s, steps/err: 148(687.082052231 ms)/0.00144543619704)\n",
      "=============== try reaching goal from (2, 1) =================\n",
      "======================================================================================================================================================\n",
      "======================================================================================================================================================\n",
      "result: 0 - (2, 0)->(2, 1) = success\n",
      "++ adding return motion to acquired answer ++\n",
      "branching: 0->12 (1.02/50.0 s, steps/err: 56(140.517950058 ms)/0.00140548450123)\n",
      "++ adding return motion to acquired answer ++\n",
      "try: 12 - (2, 1)->(2, 2)\n",
      "try constrained motion\n",
      "======================================================================================================================================================\n",
      "constrained motion tried: True\n",
      "try joint motion\n",
      "try: 7 - (2, 1)->(2, 2)\n",
      "try joint motion\n",
      "result: 1 - (2, 1)->(2, 2) = success\n",
      "try constrained motion\n",
      "try: 0 - (2, 0)->(2, 1)\n",
      "try constrained motion\n",
      "branching: 1->13 (1.1/50.0 s, steps/err: 66(853.286027908 ms)/0.00101221112474)\n",
      "======================================================================================================================================================\n",
      "constrained motion tried: True\n",
      "++ adding return motion to acquired answer ++\n",
      "result: 4 - (2, 1)->(2, 2) = success\n",
      "try joint motion\n",
      "try: 2 - (2, 1)->(2, 2)\n",
      "try transition motion\n",
      "joint motion tried: True\n",
      "joint motion tried: True\n",
      "branching: 4->14 (1.15/50.0 s, steps/err: 31(743.874073029 ms)/0.00113189653676)\n",
      "======================================================================================================================================================\n"
     ]
    },
    {
     "name": "stdout",
     "output_type": "stream",
     "text": [
      "try constrained motion\n",
      "++ adding return motion to acquired answer ++\n",
      "try: 0 - (2, 0)->(2, 1)\n",
      "try joint motion\n",
      "try: 0 - (2, 0)->(2, 1)\n",
      "try transition motion\n",
      "transition motion tried: True\n",
      "constrained motion tried: True\n",
      "=============== try reaching goal from (2, 1) =================\n",
      "result: 0 - (2, 0)->(2, 1) = success\n",
      "branching: 0->17 (1.25/50.0 s, steps/err: 27(139.147996902 ms)/0.00209856423742)\n",
      "result: 8 - (2, 1)->(2, 2) = success\n",
      "======================================================================================================================================================\n",
      "try transition motion\n",
      "try: 17 - (2, 1)->(2, 2)\n",
      "joint motion tried: True\n",
      "constrained motion tried: True\n",
      "branching: 8->18 (1.28/50.0 s, steps/err: 34(634.32598114 ms)/0.00134848825751)\n",
      "try: 12 - (2, 1)->(2, 2)\n",
      "======================================================================================================================================================\n",
      "result: 7 - (2, 1)->(2, 2) = success\n",
      "++ adding return motion to acquired answer ++\n",
      "joint motion tried: True\n",
      "try joint motion\n",
      "branching: 7->19 (1.29/50.0 s, steps/err: 34(677.664995193 ms)/0.00129854446362)\n",
      "try constrained motion\n",
      "try constrained motion\n",
      "try: 0 - (2, 0)->(2, 1)\n",
      "constrained motion tried: True\n",
      "======================================================================================================================================================\n",
      "result: 5 - (2, 1)->(2, 2) = success\n",
      "++ adding return motion to acquired answer ++\n",
      "try joint motion\n",
      "=========================================================================================================\n",
      "try transition motion\n",
      "branching: 5->22 (1.35/50.0 s, steps/err: 61(807.172060013 ms)/0.00131110592701)\n",
      "=========================================================================================================\n",
      "transition motion tried: True\n",
      "=========================================================================================================\n",
      "joint motion tried: True\n",
      "======================= terminated 3: first answer acquired ===============================\n",
      "======================================================================================================================================================\n",
      "======================= terminated 2: first answer acquired ===============================\n",
      "=========================================================================================================\n",
      "======================= terminated 30: first answer acquired from other agent ===============================\n",
      "++ adding return motion to acquired answer ++\n",
      "=========================================================================================================\n",
      "=========================================================================================================\n",
      "=============== try reaching goal from (2, 1) =================\n",
      "try joint motion\n",
      "=========================================================================================================\n",
      "=========================================================================================================\n",
      "result: 0 - (2, 0)->(2, 1) = success\n",
      "======================= terminated 32: first answer acquired from other agent ===============================\n",
      "branching: 0->23 (1.48/50.0 s, steps/err: 27(151.630878448 ms)/0.00169034762457)\n",
      "joint motion tried: True\n",
      "=========================================================================================================\n",
      "======================================================================================================================================================\n",
      "=========================================================================================================\n",
      "=========================================================================================================\n",
      "======================= terminated 31: first answer acquired from other agent ===============================\n",
      "=========================================================================================================\n",
      "=========================================================================================================\n",
      "======================= terminated 0: first answer acquired ===============================\n",
      "======================= terminated 27: first answer acquired from other agent ===============================\n",
      "======================= terminated 33: first answer acquired from other agent ===============================\n",
      "======================= terminated 7: first answer acquired ===============================\n",
      "=========================================================================================================\n",
      "joint motion tried: True\n",
      "=========================================================================================================\n",
      "=========================================================================================================\n",
      "=========================================================================================================\n",
      "=========================================================================================================\n",
      "=========================================================================================================\n",
      "======================= terminated 34: first answer acquired from other agent ===============================\n",
      "=========================================================================================================\n",
      "=========================================================================================================\n",
      "constrained motion tried: True\n",
      "======================= terminated 9: first answer acquired ===============================\n",
      "=========================================================================================================\n",
      "result: 9 - (2, 1)->(2, 2) = success\n",
      "branching: 9->27 (1.6/50.0 s, steps/err: 34(635.864973068 ms)/0.00148486804421)\n",
      "======================================================================================================================================================\n",
      "++ adding return motion to acquired answer ++\n",
      "try joint motion\n",
      "constrained motion tried: True\n",
      "result: 17 - (2, 1)->(2, 2) = success\n",
      "branching: 17->28 (1.67/50.0 s, steps/err: 41(358.322143555 ms)/0.00220517997118)\n",
      "======================================================================================================================================================\n",
      "constrained motion tried: True\n",
      "++ adding return motion to acquired answer ++\n",
      "constrained motion tried: True\n",
      "constrained motion tried: True\n",
      "constrained motion tried: True\n",
      "try joint motion\n",
      "=========================================================================================================\n",
      "result: 9 - (2, 1)->(2, 2) = success\n",
      "result: 3 - (2, 1)->(2, 2) = success\n",
      "======================= terminated 13: first answer acquired ===============================\n",
      "joint motion tried: True\n",
      "branching: 9->30 (1.7/50.0 s, steps/err: 32(773.73290062 ms)/0.00138712794422)\n",
      "branching: 3->29 (1.7/50.0 s, steps/err: 51(1282.09018707 ms)/0.00190533564437)\n",
      "======================================================================================================================================================\n",
      "======================================================================================================================================================\n",
      "result: 9 - (2, 1)->(2, 2) = success\n",
      "result: 2 - (2, 1)->(2, 2) = success\n",
      "++ adding return motion to acquired answer ++\n",
      "=========================================================================================================\n",
      "++ adding return motion to acquired answer ++\n",
      "branching: 2->31 (1.71/50.0 s, steps/err: 23(1368.08896065 ms)/0.00117146872677)\n",
      "branching: 9->33 (1.72/50.0 s, steps/err: 94(968.942165375 ms)/0.00186683824404)\n",
      "try joint motion\n",
      "======================================================================================================================================================\n",
      "======================================================================================================================================================\n",
      "try joint motion\n",
      "++ adding return motion to acquired answer ++\n",
      "++ adding return motion to acquired answer ++\n",
      "try joint motion\n"
     ]
    },
    {
     "name": "stdout",
     "output_type": "stream",
     "text": [
      "try joint motion\n",
      "constrained motion tried: True\n",
      "constrained motion tried: True\n",
      "result: 1 - (2, 1)->(2, 2) = success\n",
      "=========================================================================================================\n",
      "=========================================================================================================\n",
      "joint motion tried: True\n",
      "result: 4 - (2, 1)->(2, 2) = success\n",
      "joint motion tried: True\n",
      "branching: 1->34 (1.8/50.0 s, steps/err: 74(1043.52593422 ms)/0.00210859229928)\n",
      "======================= terminated 35: first answer acquired from other agent ===============================\n",
      "branching: 4->35 (1.8/50.0 s, steps/err: 29(1249.42994118 ms)/0.00149048280932)\n",
      "=========================================================================================================\n",
      "joint motion tried: True\n",
      "joint motion tried: True\n",
      "======================================================================================================================================================\n",
      "++ adding return motion to acquired answer ++\n",
      "======================================================================================================================================================\n",
      "joint motion tried: True\n",
      "======================= terminated 1: first answer acquired ===============================\n",
      "=========================================================================================================\n",
      "++ adding return motion to acquired answer ++\n",
      "try joint motion\n",
      "try joint motion\n",
      "constrained motion tried: True\n",
      "result: 6 - (2, 1)->(2, 2) = success\n",
      "branching: 6->41 (1.84/50.0 s, steps/err: 39(1188.57097626 ms)/0.00190454088265)\n",
      "======================================================================================================================================================\n",
      "++ adding return motion to acquired answer ++\n",
      "try joint motion\n",
      "joint motion tried: True\n",
      "joint motion tried: True\n",
      "joint motion tried: True\n",
      "=========================================================================================================\n",
      "======================= terminated 21: first answer acquired ===============================\n",
      "=========================================================================================================\n",
      "=========================================================================================================\n",
      "=========================================================================================================\n",
      "======================= terminated 20: first answer acquired ===============================\n",
      "======================= terminated 6: first answer acquired ===============================\n",
      "=========================================================================================================\n",
      "=========================================================================================================\n",
      "=========================================================================================================\n",
      "=========================================================================================================\n",
      "======================= terminated 8: first answer acquired ===============================\n",
      "======================= terminated 16: first answer acquired ===============================\n",
      "=========================================================================================================\n",
      "=========================================================================================================\n",
      "=========================================================================================================\n",
      "======================= terminated 28: first answer acquired ===============================\n",
      "=========================================================================================================\n",
      "=========================================================================================================\n",
      "======================= terminated 11: first answer acquired ===============================\n",
      "=========================================================================================================\n",
      "=========================================================================================================\n",
      "=========================================================================================================\n",
      "======================= terminated 10: first answer acquired ===============================\n",
      "=========================================================================================================\n",
      "======================= terminated 12: first answer acquired ===============================\n",
      "=========================================================================================================\n",
      "constrained motion tried: True\n",
      "result: 7 - (2, 1)->(2, 2) = success\n",
      "branching: 7->45 (2.15/50.0 s, steps/err: 17(1087.17417717 ms)/0.00179211408556)\n",
      "======================================================================================================================================================\n",
      "++ adding return motion to acquired answer ++\n",
      "try joint motion\n",
      "constrained motion tried: True\n",
      "result: 1 - (2, 1)->(2, 2) = success\n",
      "branching: 1->46 (2.19/50.0 s, steps/err: 129(1407.17291832 ms)/0.00147070792286)\n",
      "======================================================================================================================================================\n",
      "++ adding return motion to acquired answer ++\n",
      "joint motion tried: True\n",
      "try joint motion\n",
      "constrained motion tried: True\n",
      "result: 9 - (2, 1)->(2, 2) = success\n",
      "branching: 9->48 (2.25/50.0 s, steps/err: 23(1232.39207268 ms)/0.00151170370941)\n",
      "======================================================================================================================================================\n",
      "++ adding return motion to acquired answer ++\n",
      "try joint motion\n",
      "joint motion tried: True\n",
      "constrained motion tried: True\n",
      "result: 9 - (2, 1)->(2, 2) = success\n",
      "branching: 9->50 (2.34/50.0 s, steps/err: 22(1505.11193275 ms)/0.000701773690788)\n",
      "======================================================================================================================================================\n",
      "++ adding return motion to acquired answer ++\n",
      "try joint motion\n",
      "joint motion tried: True\n",
      "=========================================================================================================\n",
      "======================= terminated 19: first answer acquired ===============================\n",
      "constrained motion tried: True\n",
      "=========================================================================================================\n",
      "result: 2 - (2, 1)->(2, 2) = success\n",
      "branching: 2->52 (2.41/50.0 s, steps/err: 189(1256.980896 ms)/0.0012592682891)\n",
      "======================================================================================================================================================\n",
      "++ adding return motion to acquired answer ++\n",
      "try joint motion\n",
      "joint motion tried: True\n",
      "joint motion tried: True\n",
      "=========================================================================================================\n",
      "======================= terminated 22: first answer acquired ===============================\n",
      "=========================================================================================================\n",
      "=========================================================================================================\n",
      "======================= terminated 18: first answer acquired ===============================\n",
      "=========================================================================================================\n",
      "=========================================================================================================\n",
      "======================= terminated 17: first answer acquired ===============================\n",
      "=========================================================================================================\n",
      "=========================================================================================================\n",
      "======================= terminated 25: first answer acquired ===============================\n",
      "=========================================================================================================\n",
      "transition motion tried: False\n",
      "result: 0 - (0, 0)->(0, 1) = fail\n"
     ]
    },
    {
     "name": "stdout",
     "output_type": "stream",
     "text": [
      "=========================================================================================================\n",
      "======================= terminated 9: first answer acquired from other agent ===============================\n",
      "=========================================================================================================\n",
      "transition motion tried: False\n",
      "result: 0 - (2, 0)->(2, 1) = fail\n",
      "=========================================================================================================\n",
      "======================= terminated 5: first answer acquired from other agent ===============================\n",
      "=========================================================================================================\n",
      "transition motion tried: False\n",
      "result: 0 - (2, 0)->(2, 1) = fail\n",
      "=========================================================================================================\n",
      "=========================================================================================================\n",
      "======================= terminated 26: first answer acquired from other agent ===============================\n",
      "transition motion tried: False\n",
      "result: 0 - (2, 0)->(2, 1) = fail\n",
      "=========================================================================================================\n",
      "======================= terminated 29: first answer acquired from other agent ===============================\n",
      "=========================================================================================================\n",
      "constrained motion tried: False\n",
      "result: 1 - (2, 1)->(2, 2) = fail\n",
      "=========================================================================================================\n",
      "======================= terminated 4: first answer acquired from other agent ===============================\n",
      "=========================================================================================================\n",
      "constrained motion tried: False\n",
      "result: 1 - (2, 1)->(2, 2) = fail\n",
      "=========================================================================================================\n",
      "======================= terminated 14: first answer acquired from other agent ===============================\n",
      "=========================================================================================================\n",
      "constrained motion tried: False\n",
      "result: 3 - (2, 1)->(2, 2) = fail\n",
      "=========================================================================================================\n",
      "======================= terminated 15: first answer acquired from other agent ===============================\n",
      "=========================================================================================================\n",
      "constrained motion tried: False\n",
      "result: 12 - (2, 1)->(2, 2) = fail\n",
      "=========================================================================================================\n",
      "======================= terminated 23: first answer acquired from other agent ===============================\n",
      "=========================================================================================================\n",
      "constrained motion tried: False\n",
      "result: 12 - (2, 1)->(2, 2) = fail\n",
      "=========================================================================================================\n",
      "======================= terminated 24: first answer acquired from other agent ===============================\n",
      "=========================================================================================================\n"
     ]
    }
   ],
   "source": [
    "mplan.reset_log(False)\n",
    "gtimer.reset()\n",
    "\n",
    "with gtimer.block(\"detect\"):\n",
    "    for sname in pscene.subject_name_list:\n",
    "        if isinstance(pscene.subject_dict[sname], AbstractObject):\n",
    "            pscene.remove_subject(sname)\n",
    "            \n",
    "    gscene.clear_non_fixed()\n",
    "    \n",
    "    ## detect again\n",
    "    gtem_dict = s_builder.detect_and_register(level_mask=[DetectionLevel.MOVABLE])\n",
    "\n",
    "    ## create boxes\n",
    "    box_list =  [] \n",
    "    for gname in sorted(gtem_dict.keys()):\n",
    "        box_new = pscene.create_subject(oname=gname, gname=gname, _type=BoxObject, hexahedral=True)\n",
    "        box_new.register_binders(pscene, PlacePlane)\n",
    "        box_list.append(box_new)\n",
    "    \n",
    "    initial_state = pscene.initialize_state(crob.home_pose, force_fit_binding=True)\n",
    "    gscene.update_markers_all()\n",
    "\n",
    "    # remove place points and sub-binders except for the current ones\n",
    "    use_current_place_point_only(pscene, initial_state)\n",
    "    use_current_sub_binders_only(pscene, initial_state)\n",
    "    tplan.prepare()\n",
    "    mplan.update_gscene()\n",
    "    \n",
    "print(initial_state.node)\n",
    "\n",
    "gtimer.tic(\"firstmove\")\n",
    "obj_num = len(gtem_dict)\n",
    "sweep_num = len(sweep_list)\n",
    "from_state = initial_state\n",
    "t_exe = None\n",
    "snode_schedule_all = []\n",
    "for sweep_idx in range(TRACK_NUM):\n",
    "    gcheck.put_banned = [track_list[sweep_idx][2]]\n",
    "    sweep_goal = tuple([int(i_s<=sweep_idx)*2 for i_s in range(sweep_num)])\n",
    "#     sweep_goal = tuple([int(i_s<=sweep_idx)*2 for i_s in range(2)])+(0,)\n",
    "    goal_nodes = [(\"curve_face\",)*obj_num+sweep_goal]\n",
    "    if sweep_idx < sweep_num-1:\n",
    "        for i_s in range(obj_num):\n",
    "            obj_goal = [\"curve_face\"]*obj_num\n",
    "            obj_goal[i_s] = \"grip1\"\n",
    "            goal_nodes += [tuple(obj_goal)+sweep_goal]\n",
    "    gtimer.tic(\"plan{}\".format(sweep_idx))\n",
    "    ppline.search(from_state, goal_nodes, verbose=True, display=False, dt_vis=0.01, \n",
    "                  timeout_loop=50, multiprocess=True, timeout=5, timeout_constrained=10\n",
    "                 )\n",
    "    \n",
    "    gtimer.toc(\"plan{}\".format(sweep_idx))\n",
    "    schedules = ppline.tplan.find_schedules()\n",
    "    schedules_sorted = ppline.tplan.sort_schedule(schedules)\n",
    "    snode_schedule = ppline.tplan.idxSchedule2SnodeScedule(schedules_sorted[0])\n",
    "    snode_schedule_simple = simplify_schedule(pscene, snode_schedule)\n",
    "    snode_schedule_safe = calculate_safe_schedule(pscene, snode_schedule_simple, 0.5, 1)\n",
    "    snode_schedule = mix_schedule(mplan, snode_schedule_safe)\n",
    "    from_state = snode_schedule[-1].state\n",
    "    if t_exe:\n",
    "        t_exe.join()\n",
    "    else:\n",
    "        if len(snode_schedule_all)==0:\n",
    "            gtimer.toc(\"firstmove\")\n",
    "    snode_schedule_all.append(snode_schedule)\n",
    "#     t_exe = Thread(target=ppline.play_schedule, args = (snode_schedule,), kwargs=dict( period=0.01))\n",
    "#     t_exe.start()\n",
    "# t_exe.join()"
   ]
  },
  {
   "cell_type": "code",
   "execution_count": 36,
   "metadata": {},
   "outputs": [
    {
     "name": "stdout",
     "output_type": "stream",
     "text": [
      "detect: \t169.9 ms/1 = 169.9 ms (169.938/169.938)\n",
      "firstmove: \t1762.4 ms/1 = 1762.4 ms (1762.417/1762.417)\n",
      "plan0: \t1513.6 ms/1 = 1513.6 ms (1513.592/1513.592)\n",
      "initialize_memory: \t35.3 ms/2 = 17.7 ms (12.387/22.958)\n",
      "init_search: \t4.3 ms/2 = 2.2 ms (1.369/2.959)\n",
      "start_process: \t3046.3 ms/2 = 1523.1 ms (1490.501/1555.759)\n",
      "plan1: \t1590.3 ms/1 = 1590.3 ms (1590.324/1590.324)\n",
      "\n"
     ]
    }
   ],
   "source": [
    "print(gtimer)"
   ]
  },
  {
   "cell_type": "code",
   "execution_count": null,
   "metadata": {},
   "outputs": [],
   "source": []
  },
  {
   "cell_type": "markdown",
   "metadata": {},
   "source": [
    "## mix full schedule"
   ]
  },
  {
   "cell_type": "code",
   "execution_count": 37,
   "metadata": {},
   "outputs": [
    {
     "name": "stdout",
     "output_type": "stream",
     "text": [
      "mix_schedule_safe: \t4.7 ms/1 = 4.7 ms (4.71/4.71)\n",
      "\n"
     ]
    }
   ],
   "source": [
    "gtimer.reset()\n",
    "snode_schedule_cat = [snode_schedule_all[0][0]]\n",
    "for snode_schedule in snode_schedule_all:\n",
    "    snode_schedule_cat += snode_schedule[1:]\n",
    "\n",
    "with gtimer.block(\"mix_schedule_safe\"):\n",
    "    safe_mixed = mix_schedule(mplan, snode_schedule_cat)\n",
    "\n",
    "print(gtimer)"
   ]
  },
  {
   "cell_type": "markdown",
   "metadata": {},
   "source": [
    "### play schedule"
   ]
  },
  {
   "cell_type": "code",
   "execution_count": 38,
   "metadata": {},
   "outputs": [
    {
     "name": "stdout",
     "output_type": "stream",
     "text": [
      "(0, 0)->(0, 0)\n",
      "(0, 0)->(1, 0)\n",
      "(1, 0)->(2, 0)\n",
      "(2, 0)->(2, 0)\n",
      "(2, 0)->(2, 1)\n",
      "(2, 1)->(2, 2)\n",
      "(2, 2)->(2, 2)\n"
     ]
    }
   ],
   "source": [
    "ppline.play_schedule(safe_mixed, period=0.001)"
   ]
  },
  {
   "cell_type": "code",
   "execution_count": null,
   "metadata": {},
   "outputs": [],
   "source": []
  },
  {
   "cell_type": "code",
   "execution_count": null,
   "metadata": {},
   "outputs": [],
   "source": []
  },
  {
   "cell_type": "code",
   "execution_count": 38,
   "metadata": {},
   "outputs": [],
   "source": [
    "# for i_ss, snode_schedule in enumerate(snode_schedule_all):\n",
    "#     for i_s, snode in enumerate(snode_schedule):\n",
    "#         if snode.traj is not None:\n",
    "#             save_json(\"data/curv_{}_{}.json\".format(i_ss, i_s), snode.traj[:,:6])"
   ]
  },
  {
   "cell_type": "code",
   "execution_count": null,
   "metadata": {},
   "outputs": [],
   "source": []
  },
  {
   "cell_type": "code",
   "execution_count": null,
   "metadata": {},
   "outputs": [],
   "source": [
    "# from pkg.utils.code_scraps import play_schedule_clearance_highlight"
   ]
  },
  {
   "cell_type": "code",
   "execution_count": null,
   "metadata": {},
   "outputs": [],
   "source": [
    "# ppline.play_schedule(safe_mixed[:1], period=0.001)"
   ]
  },
  {
   "cell_type": "code",
   "execution_count": null,
   "metadata": {},
   "outputs": [],
   "source": [
    "# color_off = (0.8,0.2,0.2,0.2)\n",
    "# for obj_name in ppline.pscene.subject_name_list:\n",
    "#     if isinstance(ppline.pscene.subject_dict[obj_name], AbstractTask):\n",
    "#         actor, obj = ppline.pscene.actor_dict['brush_face'], ppline.pscene.subject_dict[obj_name]\n",
    "#         for gtem in obj.clearance:\n",
    "#             gtem.color = color_off\n",
    "#             ppline.pscene.gscene.update_marker(gtem)\n",
    "#             ppline.pscene.set_object_state(snode_schedule_all[0][0].state)\n",
    "# ppline.pscene.gscene.update_markers_all()"
   ]
  },
  {
   "cell_type": "code",
   "execution_count": null,
   "metadata": {},
   "outputs": [],
   "source": []
  },
  {
   "cell_type": "code",
   "execution_count": null,
   "metadata": {},
   "outputs": [],
   "source": [
    "# play_schedule_clearance_highlight(ppline, safe_mixed, tcheck=tcheck, period=0.001)"
   ]
  },
  {
   "cell_type": "code",
   "execution_count": null,
   "metadata": {},
   "outputs": [],
   "source": []
  },
  {
   "cell_type": "markdown",
   "metadata": {},
   "source": [
    "### Run fully mixed schedule"
   ]
  },
  {
   "cell_type": "code",
   "execution_count": 39,
   "metadata": {},
   "outputs": [
    {
     "name": "stdout",
     "output_type": "stream",
     "text": [
      "connection command:\n",
      "indy0: True\n",
      "panda1: True\n",
      "Connect: Server IP (192.168.0.63)\n"
     ]
    }
   ],
   "source": [
    "from pkg.planning.constraint.constraint_common import get_binding_margins, fit_binding\n",
    "crob.reset_connection(True,True)"
   ]
  },
  {
   "cell_type": "code",
   "execution_count": 39,
   "metadata": {},
   "outputs": [
    {
     "name": "stdout",
     "output_type": "stream",
     "text": [
      "Connect: Server IP (192.168.0.63)\n",
      "Connect: Server IP (192.168.0.63)\n"
     ]
    }
   ],
   "source": [
    "crob.grasp(True, True)\n",
    "time.sleep(2)\n",
    "crob.grasp(False, False)"
   ]
  },
  {
   "cell_type": "code",
   "execution_count": 40,
   "metadata": {},
   "outputs": [
    {
     "name": "stdout",
     "output_type": "stream",
     "text": [
      "Connect: Server IP (192.168.0.63)\n",
      "Connect: Server IP (192.168.0.63)\n"
     ]
    }
   ],
   "source": [
    "# crob.joint_move_make_sure(crob.home_pose+0.05)\n",
    "crob.joint_move_make_sure(crob.home_pose)"
   ]
  },
  {
   "cell_type": "code",
   "execution_count": 41,
   "metadata": {},
   "outputs": [
    {
     "name": "stdout",
     "output_type": "stream",
     "text": [
      "binder: brush_face\n",
      "rname: indy0\n",
      "binder: None\n",
      "Connect: Server IP (192.168.0.63)\n",
      "http://192.168.0.63:9990/param_setting?control_force0=1\n",
      "http://192.168.0.63:9990/param_setting?control_force0=0\n",
      "binder: brush_face\n",
      "rname: indy0\n",
      "binder: None\n",
      "Connect: Server IP (192.168.0.63)\n",
      "binder: brush_face\n",
      "rname: indy0\n",
      "binder: None\n",
      "Connect: Server IP (192.168.0.63)\n",
      "binder: brush_face\n",
      "rname: indy0\n",
      "binder: brush_face\n",
      "rname: indy0\n",
      "Connect: Server IP (192.168.0.63)\n",
      "http://192.168.0.63:9990/param_setting?control_force0=1\n",
      "http://192.168.0.63:9990/param_setting?control_force0=0\n",
      "binder: brush_face\n",
      "rname: indy0\n",
      "binder: brush_face\n",
      "rname: indy0\n",
      "Connect: Server IP (192.168.0.63)\n",
      "binder: brush_face\n",
      "rname: indy0\n",
      "binder: brush_face\n",
      "rname: indy0\n",
      "Connect: Server IP (192.168.0.63)\n",
      "Connect: Server IP (192.168.0.63)\n"
     ]
    }
   ],
   "source": [
    "ppline.execute_schedule(safe_mixed, mode_switcher=ModeSwitcher(pscene))"
   ]
  },
  {
   "cell_type": "code",
   "execution_count": null,
   "metadata": {},
   "outputs": [],
   "source": []
  },
  {
   "cell_type": "markdown",
   "metadata": {},
   "source": [
    "## Plan & execute"
   ]
  },
  {
   "cell_type": "code",
   "execution_count": null,
   "metadata": {},
   "outputs": [],
   "source": [
    "from pkg.planning.constraint.constraint_common import get_binding_margins, fit_binding\n",
    "crob.reset_connection(True,True)\n",
    "time.sleep(1)\n",
    "crob.grasp(True, True)\n",
    "time.sleep(2)\n",
    "crob.grasp(False, False)\n",
    "crob.joint_move_make_sure(crob.home_pose+0.05)\n",
    "crob.joint_move_make_sure(crob.home_pose)"
   ]
  },
  {
   "cell_type": "code",
   "execution_count": null,
   "metadata": {},
   "outputs": [],
   "source": [
    "mplan.reset_log(False)\n",
    "gtimer.reset()\n",
    "\n",
    "with gtimer.block(\"detect\"):\n",
    "    for sname in pscene.subject_name_list:\n",
    "        if isinstance(pscene.subject_dict[sname], AbstractObject):\n",
    "            pscene.remove_subject(sname)\n",
    "            \n",
    "    gscene.clear_non_fixed()\n",
    "    \n",
    "    ## detect again\n",
    "    gtem_dict = s_builder.detect_and_register(level_mask=[DetectionLevel.MOVABLE])\n",
    "\n",
    "    ## create boxes\n",
    "    box_list =  [] \n",
    "    for gname in sorted(gtem_dict.keys()):\n",
    "        box_new = pscene.create_subject(oname=gname, gname=gname, _type=BoxObject, hexahedral=True)\n",
    "        box_new.register_binders(pscene, PlacePlane)\n",
    "        box_list.append(box_new)\n",
    "    \n",
    "    initial_state = pscene.initialize_state(crob.home_pose, force_fit_binding=True)\n",
    "    gscene.update_markers_all()\n",
    "\n",
    "    # remove place points and sub-binders except for the current ones\n",
    "    use_current_place_point_only(pscene, initial_state)\n",
    "    use_current_sub_binders_only(pscene, initial_state)\n",
    "    tplan.prepare()\n",
    "    mplan.update_gscene()\n",
    "    \n",
    "print(initial_state.node)\n",
    "\n",
    "gtimer.tic(\"firstmove\")\n",
    "obj_num = len(gtem_dict)\n",
    "sweep_num = len(sweep_list)\n",
    "from_state = initial_state\n",
    "t_exe = None\n",
    "snode_schedule_all = []\n",
    "for sweep_idx in range(sweep_num):\n",
    "    gcheck.put_banned = [track_list[sweep_idx][2]]\n",
    "    sweep_goal = tuple([int(i_s<=sweep_idx)*2 for i_s in range(sweep_num)])\n",
    "#     sweep_goal = tuple([int(i_s<=sweep_idx)*2 for i_s in range(2)])+(0,)\n",
    "    goal_nodes = [(\"curve_face\",)*obj_num+sweep_goal]\n",
    "    if sweep_idx < sweep_num-1:\n",
    "        for i_s in range(obj_num):\n",
    "            obj_goal = [\"curve_face\"]*obj_num\n",
    "            obj_goal[i_s] = \"grip1\"\n",
    "            goal_nodes += [tuple(obj_goal)+sweep_goal]\n",
    "    gtimer.tic(\"plan{}\".format(sweep_idx))\n",
    "    ppline.search(from_state, goal_nodes, verbose=True, display=False, dt_vis=0.01, \n",
    "                  timeout_loop=200, multiprocess=True, timeout=10)\n",
    "    gtimer.toc(\"plan{}\".format(sweep_idx))\n",
    "    schedules = ppline.tplan.find_schedules()\n",
    "    schedules_sorted = ppline.tplan.sort_schedule(schedules)\n",
    "    snode_schedule = ppline.tplan.idxSchedule2SnodeScedule(schedules_sorted[0])\n",
    "    snode_schedule_simple = simplify_schedule(pscene, snode_schedule)\n",
    "    snode_schedule_safe = calculate_safe_schedule(pscene, snode_schedule_simple, 0.5, 1)\n",
    "    snode_schedule = mix_schedule(mplan, snode_schedule_safe)\n",
    "    from_state = snode_schedule[-1].state\n",
    "    if t_exe:\n",
    "        t_exe.join()\n",
    "    else:\n",
    "        gtimer.toc(\"firstmove\")\n",
    "    t_exe = Thread(target=ppline.execute_schedule, args = (snode_schedule,), kwargs=dict(auto_stop=False, mode_switcher=ModeSwitcher(pscene)))\n",
    "    t_exe.start()\n",
    "    snode_schedule_all.append(snode_schedule)\n",
    "t_exe.join()\n",
    "crob.stop_tracking()"
   ]
  },
  {
   "cell_type": "code",
   "execution_count": null,
   "metadata": {},
   "outputs": [],
   "source": [
    "print(gtimer)"
   ]
  },
  {
   "cell_type": "code",
   "execution_count": null,
   "metadata": {},
   "outputs": [],
   "source": [
    "for _ in range(3):\n",
    "    indy = crob.robot_dict['indy0']\n",
    "    with indy:\n",
    "        indy.wait_di(16)\n",
    "\n",
    "    mplan.reset_log(False)\n",
    "    gtimer.reset()\n",
    "\n",
    "    with gtimer.block(\"detect\"):\n",
    "        for sname in pscene.subject_name_list:\n",
    "            if isinstance(pscene.subject_dict[sname], AbstractObject):\n",
    "                pscene.remove_subject(sname)\n",
    "            \n",
    "        gscene.clear_non_fixed()\n",
    "\n",
    "        ## detect again\n",
    "        gtem_dict = s_builder.detect_and_register(level_mask=[DetectionLevel.MOVABLE])\n",
    "    \n",
    "        ## create boxes\n",
    "        box_list =  [] \n",
    "        for gname in sorted(gtem_dict.keys()):\n",
    "            box_new = pscene.create_subject(oname=gname, gname=gname, _type=BoxObject, hexahedral=True)\n",
    "            box_new.register_binders(pscene, PlacePlane)\n",
    "            box_list.append(box_new)\n",
    "\n",
    "        initial_state = pscene.initialize_state(crob.home_pose, force_fit_binding=True)\n",
    "        gscene.update_markers_all()\n",
    "\n",
    "        # remove place points and sub-binders except for the current ones\n",
    "        use_current_place_point_only(pscene, initial_state)\n",
    "        use_current_sub_binders_only(pscene, initial_state)\n",
    "        tplan.prepare()\n",
    "        mplan.update_gscene()\n",
    "\n",
    "    print(initial_state.node)\n",
    "\n",
    "    gtimer.tic(\"firstmove\")\n",
    "    obj_num = len(gtem_dict)\n",
    "    sweep_num = len(sweep_list)\n",
    "    from_state = initial_state\n",
    "    t_exe = None\n",
    "    snode_schedule_all = []\n",
    "    for sweep_idx in range(sweep_num):\n",
    "        gcheck.put_banned = [track_list[sweep_idx][2]]\n",
    "        sweep_goal = tuple([int(i_s<=sweep_idx)*2 for i_s in range(sweep_num)])\n",
    "    #     sweep_goal = tuple([int(i_s<=sweep_idx)*2 for i_s in range(2)])+(0,)\n",
    "        goal_nodes = [(\"curve_face\",)*obj_num+sweep_goal]\n",
    "        if sweep_idx < sweep_num-1:\n",
    "            for i_s in range(obj_num):\n",
    "                obj_goal = [\"curve_face\"]*obj_num\n",
    "                obj_goal[i_s] = \"grip1\"\n",
    "                goal_nodes += [tuple(obj_goal)+sweep_goal]\n",
    "        gtimer.tic(\"plan{}\".format(sweep_idx))\n",
    "        ppline.search(from_state, goal_nodes, verbose=True, display=False, dt_vis=0.01, \n",
    "                      timeout_loop=20, multiprocess=True, timeout=5)\n",
    "        gtimer.toc(\"plan{}\".format(sweep_idx))\n",
    "        schedules = ppline.tplan.find_schedules()\n",
    "        schedules_sorted = ppline.tplan.sort_schedule(schedules)\n",
    "        snode_schedule = ppline.tplan.idxSchedule2SnodeScedule(schedules_sorted[0])\n",
    "        snode_schedule_simple = simplify_schedule(pscene, snode_schedule)\n",
    "        snode_schedule_safe = calculate_safe_schedule(pscene, snode_schedule_simple, 0.5, 1)\n",
    "        snode_schedule = mix_schedule(mplan, snode_schedule_safe)\n",
    "        from_state = snode_schedule[-1].state\n",
    "        if t_exe:\n",
    "            t_exe.join()\n",
    "        else:\n",
    "            gtimer.toc(\"firstmove\")\n",
    "        t_exe = Thread(target=ppline.execute_schedule, args = (snode_schedule,), kwargs=dict(auto_stop=False, mode_switcher=ModeSwitcher(pscene)))\n",
    "        t_exe.start()\n",
    "        snode_schedule_all.append(snode_schedule)\n",
    "    t_exe.join()\n",
    "    crob.stop_tracking()"
   ]
  },
  {
   "cell_type": "code",
   "execution_count": null,
   "metadata": {},
   "outputs": [],
   "source": [
    "print(gtimer)"
   ]
  },
  {
   "cell_type": "code",
   "execution_count": null,
   "metadata": {},
   "outputs": [],
   "source": []
  },
  {
   "cell_type": "code",
   "execution_count": null,
   "metadata": {},
   "outputs": [],
   "source": []
  },
  {
   "cell_type": "code",
   "execution_count": null,
   "metadata": {},
   "outputs": [],
   "source": []
  },
  {
   "cell_type": "code",
   "execution_count": null,
   "metadata": {},
   "outputs": [],
   "source": []
  }
 ],
 "metadata": {
  "kernelspec": {
   "display_name": "Python 2",
   "language": "python",
   "name": "python2"
  },
  "language_info": {
   "codemirror_mode": {
    "name": "ipython",
    "version": 2
   },
   "file_extension": ".py",
   "mimetype": "text/x-python",
   "name": "python",
   "nbconvert_exporter": "python",
   "pygments_lexer": "ipython2",
   "version": "2.7.17"
  }
 },
 "nbformat": 4,
 "nbformat_minor": 2
}
