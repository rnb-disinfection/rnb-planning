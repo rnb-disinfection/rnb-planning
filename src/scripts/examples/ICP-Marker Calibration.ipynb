{
 "cells": [
  {
   "cell_type": "markdown",
   "metadata": {},
   "source": [
    "# Mark-ICP tester"
   ]
  },
  {
   "cell_type": "code",
   "execution_count": 1,
   "metadata": {},
   "outputs": [],
   "source": [
    "import os\n",
    "import sys\n",
    "import cv2\n",
    "sys.path.append(os.path.join(os.path.join(\n",
    "    os.environ[\"RNB_PLANNING_DIR\"], 'src')))\n",
    "sys.path.append(os.path.join(\n",
    "    os.environ[\"RNB_PLANNING_DIR\"], 'src/scripts/demo_202107'))\n",
    "sys.path.append(os.path.join(\n",
    "    os.environ[\"RNB_PLANNING_DIR\"], 'src/scripts/milestone_202110'))\n",
    "\n",
    "from pkg.global_config import RNB_PLANNING_DIR\n",
    "from pkg.utils.utils import *    \n",
    "from pkg.utils.rotation_utils import *\n",
    "from pkg.controller.combined_robot import *\n",
    "from pkg.geometry.builder.scene_builder import SceneBuilder\n",
    "from pkg.geometry.geometry import GeometryItem\n",
    "from pkg.geometry.geotype import GEOTYPE\n",
    "\n",
    "from demo_utils.environment import add_cam, add_bed\n",
    "\n",
    "from utils.detection_util import MultiICP, MODEL_DIR, ColorDepthMap"
   ]
  },
  {
   "cell_type": "code",
   "execution_count": 2,
   "metadata": {},
   "outputs": [
    {
     "name": "stdout",
     "output_type": "stream",
     "text": [
      "connection command:\n",
      "indy0: False\n",
      "Unable to register with master node [http://localhost:11311]: master may not be running yet. Will keep trying.\n",
      "Please create a subscriber to the marker\n",
      "publication OK\n",
      "published: [0, 0, 0, 0, 0, 0]\n",
      "Please create a subscriber to the marker\n"
     ]
    }
   ],
   "source": [
    "crob = CombinedRobot(robots_on_scene=[RobotConfig(0, RobotType.indy7, \n",
    "                           ((0,0,0), (0,0,0)),None)]\n",
    "              , connection_list=[False])\n",
    "\n",
    "s_builder = SceneBuilder(None)\n",
    "gscene = s_builder.create_gscene(crob)\n",
    "viewpoint = add_cam(gscene, tool_link=\"indy0_tcp\")\n",
    "VIEW_POSE = np.deg2rad([  0., 50.,  -70.,  -0.,  -90., 0])\n",
    "gscene.show_pose(VIEW_POSE)\n",
    "Tbc = viewpoint.get_tf(VIEW_POSE)"
   ]
  },
  {
   "cell_type": "code",
   "execution_count": null,
   "metadata": {},
   "outputs": [],
   "source": []
  },
  {
   "cell_type": "markdown",
   "metadata": {},
   "source": [
    "### Get ICP result"
   ]
  },
  {
   "cell_type": "code",
   "execution_count": 3,
   "metadata": {},
   "outputs": [],
   "source": [
    "color_image = cv2.imread(os.path.join(RNB_PLANNING_DIR, \"data/test/color_0.jpg\"), flags=cv2.IMREAD_UNCHANGED)\n",
    "depth_mask = cv2.imread(os.path.join(RNB_PLANNING_DIR, \"data/test/depth_mask_0.png\"), flags=cv2.IMREAD_UNCHANGED)\n",
    "\n",
    "cdp = ColorDepthMap(color_image, depth_mask, \n",
    "                    [1280, 720,\n",
    "                     909.957763671875, 909.90283203125,\n",
    "                     638.3824462890625, 380.0085144042969], \n",
    "                    1 / 3999.999810010204)\n",
    "cameraMatrix = np.array([[cdp.intrins[2], 0, cdp.intrins[4]],\n",
    "                         [0, cdp.intrins[3], cdp.intrins[5]],\n",
    "                         [0, 0, 1]])\n",
    "distCoeffs = np.array([0]*5)\n",
    "\n",
    "icp_bed = MultiICP(model=MODEL_DIR + '/bed/bed.STL', \n",
    "                   Toff=SE3([[0,1,0],[0,0,1],[1,0,0]], [0.455,0,1.02]))\n",
    "\n",
    "icp_bed.clear()\n",
    "pcd = icp_bed.add_image(cdp, Tc=None)\n"
   ]
  },
  {
   "cell_type": "markdown",
   "metadata": {},
   "source": [
    "### Show on RVIZ"
   ]
  },
  {
   "cell_type": "code",
   "execution_count": 4,
   "metadata": {},
   "outputs": [
    {
     "name": "stdout",
     "output_type": "stream",
     "text": [
      "\u001b[93m[WARN] Vertices for mesh should be have center point (0,0,0). Auto adjusting.\u001b[0m\n"
     ]
    },
    {
     "data": {
      "text/plain": [
       "<pkg.geometry.geometry.GeometryItem at 0x7fad286bd550>"
      ]
     },
     "execution_count": 4,
     "metadata": {},
     "output_type": "execute_result"
    }
   ],
   "source": [
    "gscene.create_safe(GEOTYPE.MESH, \"bed_pcd\", \"base_link\", (0.1,0.1,0.1), (0,0,0), rpy=(0,0,0), color=(1,0,0,1), display=True,\n",
    "                   collision=False, fixed=True, scale=(0.01,0.01,1),\n",
    "                   vertices=np.matmul(np.asarray(pcd.points), Tbc[:3,:3].transpose())+Tbc[:3,3])"
   ]
  },
  {
   "cell_type": "markdown",
   "metadata": {},
   "source": [
    "### Compute ICP"
   ]
  },
  {
   "cell_type": "code",
   "execution_count": 5,
   "metadata": {},
   "outputs": [
    {
     "name": "stdout",
     "output_type": "stream",
     "text": [
      "Apply point-to-point ICP\n",
      "registration::RegistrationResult with fitness=4.853144e-01, inlier_rmse=4.227020e-02, and correspondence_set size of 16507\n",
      "Access transformation to get result.\n",
      "Transformation is:\n",
      "[[ 0.90990316 -0.06958906  0.40894205 -0.42510747]\n",
      " [-0.19457271 -0.9422517   0.2725861   0.02932281]\n",
      " [ 0.36635733 -0.32759592 -0.87089794  4.3809776 ]\n",
      " [ 0.          0.          0.          1.        ]]\n"
     ]
    }
   ],
   "source": [
    "ICP_result, fitness = icp_bed.compute_ICP(To=SE3(Rot_axis_series([3, 2],[-np.pi/2, np.pi/2]), (0,0,3)), visualize=True)\n",
    "Tdetect=np.matmul(Tbc, ICP_result)"
   ]
  },
  {
   "cell_type": "markdown",
   "metadata": {},
   "source": [
    "### Visualize and adjust\n",
    "* Adjust Tdetect to get perfect GT"
   ]
  },
  {
   "cell_type": "code",
   "execution_count": 6,
   "metadata": {
    "scrolled": true
   },
   "outputs": [],
   "source": [
    "bed = add_bed(gscene, Tdetect[:3,3], Rot2rpy(Tdetect[:3,:3]), (0,1,0,0.5))"
   ]
  },
  {
   "cell_type": "code",
   "execution_count": null,
   "metadata": {},
   "outputs": [],
   "source": []
  },
  {
   "cell_type": "markdown",
   "metadata": {},
   "source": [
    "# Make ArucoMap for Testing"
   ]
  },
  {
   "cell_type": "markdown",
   "metadata": {},
   "source": [
    "### Testing single marker\n",
    "* Make single-marker aruco map to get one-marker transformation"
   ]
  },
  {
   "cell_type": "code",
   "execution_count": 7,
   "metadata": {},
   "outputs": [],
   "source": [
    "from cv2 import aruco\n",
    "from pkg.detector.aruco.detector import *\n",
    "\n",
    "def get_aruco_map_test(test_name, mk_idx, mk_size, point=[0,0,0], direction=(0,0,0)):\n",
    "    dictionary = aruco.getPredefinedDictionary(aruco.DICT_6X6_250)\n",
    "    #     params = aruco.DetectorParameters_create()\n",
    "\n",
    "    aruco_map = ArucoMap(dictionary=dictionary, _dict={\n",
    "        test_name: MarkerSet(test_name,\n",
    "                         dlevel=DetectionLevel.ENVIRONMENT, gtype=GEOTYPE.BOX, dims=(0.1, 0.1,0.1), color=(0.8,0.0,0.0,1),\n",
    "                         _list=[\n",
    "                             ObjectMarker(test_name, mk_idx, mk_size, point, direction)\n",
    "                         ])\n",
    "    })\n",
    "    return aruco_map"
   ]
  },
  {
   "cell_type": "code",
   "execution_count": 8,
   "metadata": {},
   "outputs": [],
   "source": [
    "mk_idx = 230\n",
    "mk_size = 0.15\n",
    "aruco_map = get_aruco_map_test(\"bed_test\", mk_idx, mk_size)\n",
    "objectPose_dict, corner_dict = aruco_map.get_object_pose_dict(color_image, cameraMatrix, distCoeffs)\n",
    "Tbmark = objectPose_dict['bed_test']\n",
    "Tbmark = np.matmul(Tbc, Tbmark)"
   ]
  },
  {
   "cell_type": "markdown",
   "metadata": {},
   "source": [
    "### Show marker location on RVIZ"
   ]
  },
  {
   "cell_type": "code",
   "execution_count": 9,
   "metadata": {},
   "outputs": [],
   "source": [
    "gscene.add_highlight_axis(\"hl\", \"mark_{}\".format(mk_idx), T=Tbmark)"
   ]
  },
  {
   "cell_type": "markdown",
   "metadata": {},
   "source": [
    "### Get relative marker offset"
   ]
  },
  {
   "cell_type": "code",
   "execution_count": 10,
   "metadata": {},
   "outputs": [
    {
     "name": "stdout",
     "output_type": "stream",
     "text": [
      "point: 1.20029355972, -0.331169991039, 0.173714289576\n",
      "direction: -1.65989209067, 0.0468366767868, 1.59556876223\n"
     ]
    }
   ],
   "source": [
    "Tmark = np.matmul(SE3_inv(Tdetect), Tbmark)\n",
    "\n",
    "point = Tmark[:3,3]\n",
    "direction = Rot2rpy(Tmark[:3,:3])\n",
    "print(\"point: {}, {}, {}\".format(*point))\n",
    "print(\"direction: {}, {}, {}\".format(*direction))"
   ]
  },
  {
   "cell_type": "code",
   "execution_count": null,
   "metadata": {},
   "outputs": [],
   "source": []
  },
  {
   "cell_type": "markdown",
   "metadata": {},
   "source": [
    "### Visualize result"
   ]
  },
  {
   "cell_type": "code",
   "execution_count": 11,
   "metadata": {},
   "outputs": [],
   "source": [
    "aruco_map = get_aruco_map_test(\"bed_test\", mk_idx, mk_size, point=point, direction=direction)\n",
    "objectPose_dict, corner_dict = aruco_map.get_object_pose_dict(color_image, cameraMatrix, distCoeffs)\n",
    "Tbed = objectPose_dict['bed_test']\n",
    "Tbed = np.matmul(Tbc, Tbed)"
   ]
  },
  {
   "cell_type": "code",
   "execution_count": 12,
   "metadata": {
    "scrolled": true
   },
   "outputs": [
    {
     "data": {
      "text/plain": [
       "<pkg.geometry.geometry.GeometryItem at 0x7faccce32310>"
      ]
     },
     "execution_count": 12,
     "metadata": {},
     "output_type": "execute_result"
    }
   ],
   "source": [
    "add_bed(gscene, Tbed[:3,3], Rot2rpy(Tbed[:3,:3]), (0,1,0,0.5))"
   ]
  },
  {
   "cell_type": "code",
   "execution_count": null,
   "metadata": {},
   "outputs": [],
   "source": []
  }
 ],
 "metadata": {
  "kernelspec": {
   "display_name": "Python 2",
   "language": "python",
   "name": "python2"
  },
  "language_info": {
   "codemirror_mode": {
    "name": "ipython",
    "version": 2
   },
   "file_extension": ".py",
   "mimetype": "text/x-python",
   "name": "python",
   "nbconvert_exporter": "python",
   "pygments_lexer": "ipython2",
   "version": "2.7.17"
  }
 },
 "nbformat": 4,
 "nbformat_minor": 2
}
