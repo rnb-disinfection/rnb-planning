{
 "cells": [
  {
   "cell_type": "markdown",
   "metadata": {},
   "source": [
    "# [TUTORIAL] Constrained Task Planning (Sweep)\n",
    "\n",
    "This tutorial is written to instruct basic usage of the task & motion planning pipeline  \n",
    "One Indy7 robot and several environment geometries will be added and floor-wiping task will be conducted.  \n",
    "Here, the wiping task is defined as 1) contact with floor, 2) starting waypoint, 3) goal waypoint.  \n",
    "Thus, any motion that satisfies the constraint will be generated; it may not look like real wiping.  "
   ]
  },
  {
   "cell_type": "code",
   "execution_count": null,
   "metadata": {},
   "outputs": [],
   "source": []
  },
  {
   "cell_type": "markdown",
   "metadata": {},
   "source": [
    "## set running directory to project source"
   ]
  },
  {
   "cell_type": "code",
   "execution_count": null,
   "metadata": {},
   "outputs": [],
   "source": [
    "import os\n",
    "os.chdir(os.path.join(os.environ[\"RNB_PLANNING_DIR\"], 'src'))"
   ]
  },
  {
   "cell_type": "code",
   "execution_count": null,
   "metadata": {},
   "outputs": [],
   "source": []
  },
  {
   "cell_type": "markdown",
   "metadata": {},
   "source": [
    "## init combined robot config"
   ]
  },
  {
   "cell_type": "code",
   "execution_count": null,
   "metadata": {},
   "outputs": [],
   "source": [
    "from pkg.controller.combined_robot import *\n",
    "from pkg.project_config import *\n",
    "\n",
    "crob = CombinedRobot(robots_on_scene=[\n",
    "    RobotConfig(0, RobotType.indy7, ((0,0,0), (0,0,0)),\n",
    "                INDY_IP)]\n",
    "              , connection_list=[False])"
   ]
  },
  {
   "cell_type": "code",
   "execution_count": null,
   "metadata": {},
   "outputs": [],
   "source": []
  },
  {
   "cell_type": "markdown",
   "metadata": {},
   "source": [
    "## create scene builder"
   ]
  },
  {
   "cell_type": "code",
   "execution_count": null,
   "metadata": {},
   "outputs": [],
   "source": [
    "from pkg.geometry.builder.scene_builder import SceneBuilder\n",
    "s_builder = SceneBuilder(None)\n",
    "# # deprecated: s_builder.reset_reference_coord(ref_name=\"floor\")\n",
    "gscene = s_builder.create_gscene(crob)"
   ]
  },
  {
   "cell_type": "code",
   "execution_count": null,
   "metadata": {},
   "outputs": [],
   "source": []
  },
  {
   "cell_type": "markdown",
   "metadata": {},
   "source": [
    "## init planning pipeline"
   ]
  },
  {
   "cell_type": "code",
   "execution_count": null,
   "metadata": {},
   "outputs": [],
   "source": [
    "from pkg.planning.scene import PlanningScene\n",
    "pscene = PlanningScene(gscene, combined_robot=crob)\n",
    "\n",
    "from pkg.planning.pipeline import PlanningPipeline\n",
    "ppline = PlanningPipeline(pscene)\n",
    "\n",
    "from pkg.ui.ui_broker import *\n",
    "\n",
    "# start UI\n",
    "ui_broker = UIBroker.instance()\n",
    "ui_broker.initialize(ppline, s_builder)\n",
    "ui_broker.start_server()\n",
    "\n",
    "ui_broker.set_tables()"
   ]
  },
  {
   "cell_type": "markdown",
   "metadata": {},
   "source": [
    "```\n",
    "open web ui on <your ip>:8050\n",
    "click geometry items / Handles / Binders to highlight geometry on RVIZ\n",
    "other functions may be buggy.. please report\n",
    "```"
   ]
  },
  {
   "cell_type": "code",
   "execution_count": null,
   "metadata": {},
   "outputs": [],
   "source": []
  },
  {
   "cell_type": "markdown",
   "metadata": {},
   "source": [
    "## add environment"
   ]
  },
  {
   "cell_type": "code",
   "execution_count": null,
   "metadata": {},
   "outputs": [],
   "source": [
    "from pkg.geometry.geometry import *\n",
    "\n",
    "floor = gscene.create_safe(GEOTYPE.BOX, \"floor\", \"base_link\", (0.3,0.5,0.01), (0.5,0,-0.005), \n",
    "                           rpy=(0,0,0), color=(0.8,0.8,0.8,0.5), display=True, fixed=True, collision=False)\n",
    "floor_col = gscene.create_safe(GEOTYPE.BOX, \"floor_col\", \"base_link\", (0.3,0.5,0.01), (0.5,0,-0.006), \n",
    "                           rpy=(0,0,0), color=(0.8,0.8,0.8,0.5), display=False, fixed=True, collision=True)\n",
    "wall = gscene.create_safe(GEOTYPE.BOX, \"wall\", \"base_link\", (3,3,0.01), (-0.2,0,0), \n",
    "                           rpy=(0,np.pi/2,), color=(0.8,0.8,0.8,0.5), display=True, fixed=True, collision=True)\n",
    "goal = gscene.create_safe(GEOTYPE.BOX, \"goal\", \"base_link\", (0.1,0.1,0.01), (0.3,-0.4,-0.005), \n",
    "                          rpy=(0,0,0), color=(0.8,0.8,0.2,1), display=True, fixed=True, collision=False)\n",
    "goal_col = gscene.create_safe(GEOTYPE.BOX, \"goal_col\", \"base_link\", (0.1,0.1,0.01), (0.3,-0.4,-0.006), \n",
    "                          rpy=(0,0,0), color=(0.8,0.8,0.2,1), display=False, fixed=True, collision=True)"
   ]
  },
  {
   "cell_type": "code",
   "execution_count": null,
   "metadata": {},
   "outputs": [],
   "source": [
    "gtems = s_builder.add_robot_geometries(color=(0,1,0,0.5), display=True, collision=True, exclude_link=[\"panda1_link7\"])"
   ]
  },
  {
   "cell_type": "code",
   "execution_count": null,
   "metadata": {},
   "outputs": [],
   "source": [
    "from pkg.utils.code_scraps import add_indy_gripper_asm2\n",
    "add_indy_gripper_asm2(gscene, \"indy0\")"
   ]
  },
  {
   "cell_type": "code",
   "execution_count": null,
   "metadata": {},
   "outputs": [],
   "source": []
  },
  {
   "cell_type": "markdown",
   "metadata": {},
   "source": [
    "## add wp"
   ]
  },
  {
   "cell_type": "code",
   "execution_count": null,
   "metadata": {},
   "outputs": [],
   "source": [
    "wp11 = gscene.create_safe(GEOTYPE.BOX, \"wp11\", \"base_link\", (0.08,0.08,0.01), (0.6,0.2,-0.005),rpy=(0,0,0), \n",
    "                         color=(0.8,0.2,0.2,0.2), display=True, fixed=True, collision=False)\n",
    "wp12 = gscene.create_safe(GEOTYPE.BOX, \"wp12\", \"base_link\", (0.08,0.08,0.01), (0.6,-0.2,-0.005), rpy=(0,0,0), \n",
    "                         color=(0.8,0.2,0.2,0.2), display=True, fixed=True, collision=False)\n",
    "line1 = gscene.create_safe(GEOTYPE.BOX, \"wline1\", \"base_link\", (0.01,0.5,1e-6), (0.6,0,0), rpy=(0,np.pi/2,0), \n",
    "                         color=(0.8,0.2,0.2,0.2), display=True, fixed=True, collision=False)\n",
    "\n",
    "wp21 = gscene.create_safe(GEOTYPE.BOX, \"wp21\", \"base_link\", (0.08,0.08,0.01), (0.5,0.2,-0.005),rpy=(0,0,0), \n",
    "                         color=(0.8,0.2,0.2,0.2), display=True, fixed=True, collision=False)\n",
    "wp22 = gscene.create_safe(GEOTYPE.BOX, \"wp22\", \"base_link\", (0.08,0.08,0.01), (0.5,-0.2,-0.005), rpy=(0,0,0), \n",
    "                         color=(0.8,0.2,0.2,0.2), display=True, fixed=True, collision=False)\n",
    "line2 = gscene.create_safe(GEOTYPE.BOX, \"wline2\", \"base_link\", (0.01,0.5,1e-6), (0.5,0,0), rpy=(0,np.pi/2,0), \n",
    "                         color=(0.8,0.2,0.2,0.2), display=True, fixed=True, collision=False)\n",
    "\n",
    "wp31 = gscene.create_safe(GEOTYPE.BOX, \"wp31\", \"base_link\", (0.08,0.08,0.01), (0.4,0.2,-0.005),rpy=(0,0,0), \n",
    "                         color=(0.8,0.2,0.2,0.2), display=True, fixed=True, collision=False)\n",
    "wp32 = gscene.create_safe(GEOTYPE.BOX, \"wp32\", \"base_link\", (0.08,0.08,0.01), (0.4,-0.2,-0.005), rpy=(0,0,0), \n",
    "                         color=(0.8,0.2,0.2,0.2), display=True, fixed=True, collision=False)\n",
    "line3 = gscene.create_safe(GEOTYPE.BOX, \"wline3\", \"base_link\", (0.01,0.5,1e-6), (0.4,0,0), rpy=(0,np.pi/2,0), \n",
    "                         color=(0.8,0.2,0.2,0.2), display=True, fixed=True, collision=False)"
   ]
  },
  {
   "cell_type": "code",
   "execution_count": null,
   "metadata": {},
   "outputs": [],
   "source": []
  },
  {
   "cell_type": "markdown",
   "metadata": {},
   "source": [
    "## add brush"
   ]
  },
  {
   "cell_type": "code",
   "execution_count": null,
   "metadata": {},
   "outputs": [],
   "source": [
    "gscene.create_safe(gtype=GEOTYPE.BOX, name=\"brush_body\", link_name=\"base_link\", dims=(0.1,0.07,0.02), \n",
    "                   center=(0.3,-0.4,0.04), rpy=(0,0,0), color=(0.7,0.7,0.3,1), display=True, collision=True, fixed=False)\n",
    "gscene.create_safe(gtype=GEOTYPE.BOX, name=\"brush_handle\", link_name=\"base_link\", dims=(0.1,0.03,0.05), center=(0,0,0.035), rpy=(0,0,0), \n",
    "                   color=(0.7,0.7,0.3,1), display=True, collision=True, fixed=False, parent=\"brush_body\")\n",
    "gscene.create_safe(gtype=GEOTYPE.BOX, name=\"brush_face_col\", link_name=\"base_link\", dims=(0.1,0.06,0.028), center=(0,0,-0.025), rpy=(0,0,0), \n",
    "                   color=(0.8,0.8,0.8,1), display=True, collision=False, fixed=False, parent=\"brush_body\")\n",
    "gscene.create_safe(gtype=GEOTYPE.BOX, name=\"brush_face\", link_name=\"base_link\", dims=(0.1,0.06,0.03), center=(0,0,-0.025), rpy=(0,0,0), \n",
    "                   color=(0.8,0.8,0.8,1), display=True, collision=False, fixed=False, parent=\"brush_body\")"
   ]
  },
  {
   "cell_type": "code",
   "execution_count": null,
   "metadata": {},
   "outputs": [],
   "source": []
  },
  {
   "cell_type": "markdown",
   "metadata": {},
   "source": [
    "## add box"
   ]
  },
  {
   "cell_type": "code",
   "execution_count": null,
   "metadata": {},
   "outputs": [],
   "source": [
    "gbox1 = gscene.create_safe(gtype=GEOTYPE.BOX, name=\"box1\", link_name=\"base_link\", dims=(0.05,0.05,0.05), \n",
    "                   center=(0.5,0.1,0.025), rpy=(0,0,0), color=(0.7,0.3,0.3,1), display=True, collision=True, fixed=False)\n",
    "\n",
    "gbox2 = gscene.create_safe(gtype=GEOTYPE.BOX, name=\"box2\", link_name=\"base_link\", dims=(0.05,0.05,0.05), \n",
    "                   center=(0.4,-0.1,0.025), rpy=(0,0,0), color=(0.7,0.3,0.3,1), display=True, collision=True, fixed=False)"
   ]
  },
  {
   "cell_type": "code",
   "execution_count": null,
   "metadata": {},
   "outputs": [],
   "source": []
  },
  {
   "cell_type": "markdown",
   "metadata": {},
   "source": [
    "## Register binders"
   ]
  },
  {
   "cell_type": "code",
   "execution_count": null,
   "metadata": {},
   "outputs": [],
   "source": [
    "from pkg.planning.constraint.constraint_actor import Gripper2Tool, PlacePlane, SweepTool"
   ]
  },
  {
   "cell_type": "code",
   "execution_count": null,
   "metadata": {},
   "outputs": [],
   "source": [
    "gscene.create_safe(gtype=GEOTYPE.SPHERE, name=\"grip0\", link_name=\"indy0_tcp\", \n",
    "                 dims=(0.01,)*3, center=(0,0,0.14), rpy=(-np.pi/2,0,0), color=(1,0,0,1), display=True, collision=False, fixed=True)"
   ]
  },
  {
   "cell_type": "code",
   "execution_count": null,
   "metadata": {},
   "outputs": [],
   "source": [
    "pscene.create_binder(bname=\"grip0\", gname=\"grip0\", _type=Gripper2Tool, point=(0,0,0), rpy=(0,0,0))\n",
    "pscene.create_binder(bname=\"floor\", gname=\"floor\", _type=PlacePlane)\n",
    "pscene.create_binder(bname=\"goal_bd\", gname=\"goal\", _type=PlacePlane, point=(0,0,0.005), rpy=(0,0,0))\n",
    "pscene.create_binder(bname=\"brush_face\", gname=\"brush_face\", _type=SweepTool, point=(0,0,-0.015), rpy=(0,0,0))"
   ]
  },
  {
   "cell_type": "code",
   "execution_count": null,
   "metadata": {},
   "outputs": [],
   "source": []
  },
  {
   "cell_type": "markdown",
   "metadata": {},
   "source": [
    "## add objects"
   ]
  },
  {
   "cell_type": "code",
   "execution_count": null,
   "metadata": {},
   "outputs": [],
   "source": [
    "from pkg.planning.constraint.constraint_subject import CustomObject, Grasp2Point, PlacePoint, SweepPoint, SweepTask, BoxObject"
   ]
  },
  {
   "cell_type": "code",
   "execution_count": null,
   "metadata": {},
   "outputs": [],
   "source": [
    "brush_handle = gscene.NAME_DICT[\"brush_handle\"]\n",
    "brush_face = gscene.NAME_DICT[\"brush_face\"]\n",
    "brush = pscene.create_subject(oname=\"brush\", gname=\"brush_body\", _type=CustomObject, \n",
    "                             action_points_dict = {\"handle\": Grasp2Point(\"handle\", brush_handle, [0,0,0], [np.pi/2,0,0]),\n",
    "                                                   \"face\": PlacePoint(\"face\", brush_face, [0,0,-0.015], [0,0,0])})"
   ]
  },
  {
   "cell_type": "code",
   "execution_count": null,
   "metadata": {},
   "outputs": [],
   "source": [
    "box1 = pscene.create_subject(oname=\"box1\", gname=\"box1\", _type=BoxObject, hexahedral=True)\n",
    "box2 = pscene.create_subject(oname=\"box2\", gname=\"box2\", _type=BoxObject, hexahedral=True)"
   ]
  },
  {
   "cell_type": "code",
   "execution_count": null,
   "metadata": {},
   "outputs": [],
   "source": [
    "from pkg.planning.constraint.constraint_common import MotionConstraint\n",
    "from pkg.planning.constraint.constraint_subject import AbstractTask\n",
    "from pkg.planning.constraint.constraint_subject import SweepLineTask"
   ]
  },
  {
   "cell_type": "code",
   "execution_count": null,
   "metadata": {},
   "outputs": [],
   "source": [
    "sweep1 = pscene.create_subject(oname=\"sweep1\", gname=\"floor\", _type=SweepLineTask, \n",
    "                             action_points_dict = {\"wp11\": SweepPoint(\"wp11\", wp11, [0,0,0.005], [0,0,0]),\n",
    "                                                   \"wp12\": SweepPoint(\"wp12\", wp12, [0,0,0.005], [0,0,0])},\n",
    "                            geometry_vertical = line1)\n",
    "sweep2 = pscene.create_subject(oname=\"sweep2\", gname=\"floor\", _type=SweepLineTask, \n",
    "                             action_points_dict = {\"wp21\": SweepPoint(\"wp21\", wp21, [0,0,0.005], [0,0,0]),\n",
    "                                                   \"wp22\": SweepPoint(\"wp22\", wp22, [0,0,0.005], [0,0,0])},\n",
    "                            geometry_vertical = line2)\n",
    "sweep3 = pscene.create_subject(oname=\"sweep3\", gname=\"floor\", _type=SweepLineTask, \n",
    "                             action_points_dict = {\"wp31\": SweepPoint(\"wp31\", wp31, [0,0,0.005], [0,0,0]),\n",
    "                                                   \"wp32\": SweepPoint(\"wp32\", wp32, [0,0,0.005], [0,0,0])},\n",
    "                            geometry_vertical = line3)"
   ]
  },
  {
   "cell_type": "code",
   "execution_count": null,
   "metadata": {},
   "outputs": [],
   "source": []
  },
  {
   "cell_type": "markdown",
   "metadata": {},
   "source": [
    "### planners"
   ]
  },
  {
   "cell_type": "code",
   "execution_count": null,
   "metadata": {
    "scrolled": false
   },
   "outputs": [],
   "source": [
    "from pkg.planning.motion.moveit.moveit_planner import MoveitPlanner\n",
    "mplan = MoveitPlanner(pscene)\n",
    "mplan.update_gscene()\n",
    "from pkg.planning.task.rrt import TaskRRT\n",
    "tplan = TaskRRT(pscene)\n",
    "tplan.prepare()\n",
    "ppline.set_motion_planner(mplan)\n",
    "ppline.set_task_planner(tplan)"
   ]
  },
  {
   "cell_type": "code",
   "execution_count": null,
   "metadata": {},
   "outputs": [],
   "source": []
  },
  {
   "cell_type": "markdown",
   "metadata": {},
   "source": [
    "## motion filters"
   ]
  },
  {
   "cell_type": "code",
   "execution_count": null,
   "metadata": {},
   "outputs": [],
   "source": [
    "from pkg.planning.filtering.grasp_filter import GraspChecker\n",
    "from pkg.planning.filtering.reach_filter import ReachChecker\n",
    "from pkg.planning.filtering.latticized_filter import LatticedChecker\n",
    "TOOL_LINK = \"indy0_tcp\"\n",
    "TOOL_LINK_BUNDLE = [\"indy0_tcp\", \"indy0_link6\"]\n",
    "\n",
    "gcheck = GraspChecker(pscene)\n",
    "rcheck = ReachChecker(pscene)\n",
    "checkers_all = [gcheck, rcheck]\n",
    "# lcheck = LatticedChecker(pscene, gcheck)\n",
    "# checkers_all.append(lcheck)"
   ]
  },
  {
   "cell_type": "code",
   "execution_count": null,
   "metadata": {},
   "outputs": [],
   "source": [
    "mplan.motion_filters = checkers_all"
   ]
  },
  {
   "cell_type": "code",
   "execution_count": null,
   "metadata": {},
   "outputs": [],
   "source": []
  },
  {
   "cell_type": "markdown",
   "metadata": {},
   "source": [
    "## Test plan"
   ]
  },
  {
   "cell_type": "code",
   "execution_count": null,
   "metadata": {},
   "outputs": [],
   "source": [
    "from pkg.planning.constraint.constraint_common \\\n",
    "            import sample_redundancy, combine_redundancy\n",
    "gtimer = GlobalTimer.instance()\n",
    "initial_state = pscene.initialize_state(crob.home_pose)"
   ]
  },
  {
   "cell_type": "code",
   "execution_count": null,
   "metadata": {},
   "outputs": [],
   "source": []
  },
  {
   "cell_type": "markdown",
   "metadata": {},
   "source": [
    "# Node Sampler"
   ]
  },
  {
   "cell_type": "code",
   "execution_count": null,
   "metadata": {},
   "outputs": [],
   "source": [
    "from pkg.planning.sampling.node_sampling import UniformNodeSampler"
   ]
  },
  {
   "cell_type": "code",
   "execution_count": null,
   "metadata": {},
   "outputs": [],
   "source": [
    "tplan.new_node_sampler = UniformNodeSampler(0.5)\n",
    "tplan.parent_node_sampler = UniformNodeSampler(0.5)"
   ]
  },
  {
   "cell_type": "code",
   "execution_count": null,
   "metadata": {},
   "outputs": [],
   "source": []
  },
  {
   "cell_type": "code",
   "execution_count": null,
   "metadata": {
    "scrolled": true
   },
   "outputs": [],
   "source": [
    "gtimer.reset()\n",
    "goal_nodes = [(\"floor\", \"floor\", \"goal\", 2, 2, 2)]\n",
    "gtimer.tic(\"plan\")\n",
    "ppline.search(initial_state, goal_nodes, verbose=True, display=False, dt_vis=0.01, timeout_loop=300, multiprocess=True, timeout=1, timeout_constrained=1)\n",
    "gtimer.toc(\"plan\")\n",
    "schedules = ppline.tplan.find_schedules()\n",
    "schedules_sorted = ppline.tplan.sort_schedule(schedules)\n",
    "snode_schedule = ppline.tplan.idxSchedule2SnodeScedule(schedules_sorted[0])"
   ]
  },
  {
   "cell_type": "code",
   "execution_count": null,
   "metadata": {},
   "outputs": [],
   "source": [
    "print(gtimer)"
   ]
  },
  {
   "cell_type": "code",
   "execution_count": null,
   "metadata": {},
   "outputs": [],
   "source": []
  },
  {
   "cell_type": "markdown",
   "metadata": {},
   "source": [
    "## play searched plan"
   ]
  },
  {
   "cell_type": "code",
   "execution_count": null,
   "metadata": {},
   "outputs": [],
   "source": [
    "ppline.play_schedule(snode_schedule[:2], period=0.01)\n",
    "pscene.set_object_state(initial_state)\n",
    "gscene.show_pose(crob.home_pose)\n",
    "time.sleep(0.5)\n",
    "gscene.show_pose(crob.home_pose)"
   ]
  },
  {
   "cell_type": "code",
   "execution_count": null,
   "metadata": {
    "scrolled": false
   },
   "outputs": [],
   "source": [
    "ppline.play_schedule(snode_schedule, period=0.03)"
   ]
  },
  {
   "cell_type": "code",
   "execution_count": null,
   "metadata": {},
   "outputs": [],
   "source": [
    "len(snode_schedule)"
   ]
  },
  {
   "cell_type": "code",
   "execution_count": null,
   "metadata": {},
   "outputs": [],
   "source": [
    "for i_s,  snode in enumerate(snode_schedule):\n",
    "    print(\"{}: {}\".format(i_s, snode.state.node))"
   ]
  },
  {
   "cell_type": "markdown",
   "metadata": {},
   "source": [
    "## NOTE\n",
    "* 위에 가운데 열 어떻게  0,1,1,1,1,2가 나오지? -> 일방통행 작업 플래그 추가\n",
    "* 균등 샘플링 - 샘플 할때마다 노드별/전환별 확률 조정\n",
    "* goal-directed extension 추가."
   ]
  },
  {
   "cell_type": "code",
   "execution_count": null,
   "metadata": {},
   "outputs": [],
   "source": [
    "tplan.node_dict[('grip0', 'goal', 0, 1, 2)]"
   ]
  },
  {
   "cell_type": "code",
   "execution_count": null,
   "metadata": {},
   "outputs": [],
   "source": []
  },
  {
   "cell_type": "markdown",
   "metadata": {},
   "source": [
    "## extend preserving goal-matching items"
   ]
  },
  {
   "cell_type": "code",
   "execution_count": null,
   "metadata": {
    "scrolled": true
   },
   "outputs": [],
   "source": [
    "print(gtimer)"
   ]
  },
  {
   "cell_type": "code",
   "execution_count": null,
   "metadata": {},
   "outputs": [],
   "source": []
  },
  {
   "cell_type": "markdown",
   "metadata": {},
   "source": [
    "## extend only no reservation"
   ]
  },
  {
   "cell_type": "code",
   "execution_count": null,
   "metadata": {
    "scrolled": true
   },
   "outputs": [],
   "source": [
    "print(gtimer)"
   ]
  },
  {
   "cell_type": "markdown",
   "metadata": {},
   "source": [
    "## no extension"
   ]
  },
  {
   "cell_type": "code",
   "execution_count": null,
   "metadata": {
    "scrolled": true
   },
   "outputs": [],
   "source": [
    "print(gtimer)"
   ]
  },
  {
   "cell_type": "markdown",
   "metadata": {},
   "source": [
    "## extend_toward goal"
   ]
  },
  {
   "cell_type": "code",
   "execution_count": null,
   "metadata": {
    "scrolled": true
   },
   "outputs": [],
   "source": [
    "print(gtimer)"
   ]
  }
 ],
 "metadata": {
  "kernelspec": {
   "display_name": "Python 2",
   "language": "python",
   "name": "python2"
  },
  "language_info": {
   "codemirror_mode": {
    "name": "ipython",
    "version": 2
   },
   "file_extension": ".py",
   "mimetype": "text/x-python",
   "name": "python",
   "nbconvert_exporter": "python",
   "pygments_lexer": "ipython2",
   "version": "2.7.17"
  }
 },
 "nbformat": 4,
 "nbformat_minor": 2
}
