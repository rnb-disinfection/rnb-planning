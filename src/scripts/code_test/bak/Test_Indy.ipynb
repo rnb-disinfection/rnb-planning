{
 "cells": [
  {
   "cell_type": "code",
   "execution_count": 1,
   "metadata": {},
   "outputs": [],
   "source": [
    "from nrmkindy.indy_script import *"
   ]
  },
  {
   "cell_type": "code",
   "execution_count": 2,
   "metadata": {},
   "outputs": [],
   "source": [
    "import time"
   ]
  },
  {
   "cell_type": "code",
   "execution_count": 3,
   "metadata": {},
   "outputs": [
    {
     "ename": "_InactiveRpcError",
     "evalue": "<_InactiveRpcError of RPC that terminated with:\n\tstatus = StatusCode.UNAVAILABLE\n\tdetails = \"failed to connect to all addresses\"\n\tdebug_error_string = \"{\"created\":\"@1600282871.884855032\",\"description\":\"Failed to pick subchannel\",\"file\":\"src/core/ext/filters/client_channel/client_channel.cc\",\"file_line\":4090,\"referenced_errors\":[{\"created\":\"@1600282871.884852282\",\"description\":\"failed to connect to all addresses\",\"file\":\"src/core/ext/filters/client_channel/lb_policy/pick_first/pick_first.cc\",\"file_line\":394,\"grpc_status\":14}]}\"\n>",
     "output_type": "error",
     "traceback": [
      "\u001b[0;31m\u001b[0m",
      "\u001b[0;31m_InactiveRpcError\u001b[0mTraceback (most recent call last)",
      "\u001b[0;32m<ipython-input-3-de592afb2e07>\u001b[0m in \u001b[0;36m<module>\u001b[0;34m()\u001b[0m\n\u001b[1;32m      3\u001b[0m \u001b[0mconfig_script\u001b[0m\u001b[0;34m(\u001b[0m\u001b[0mNAME_INDY_7\u001b[0m\u001b[0;34m)\u001b[0m\u001b[0;34m\u001b[0m\u001b[0m\n\u001b[1;32m      4\u001b[0m \u001b[0mstart_script\u001b[0m\u001b[0;34m(\u001b[0m\u001b[0mhost_ip\u001b[0m\u001b[0;34m)\u001b[0m\u001b[0;34m\u001b[0m\u001b[0m\n\u001b[0;32m----> 5\u001b[0;31m \u001b[0mblending_type\u001b[0m\u001b[0;34m(\u001b[0m\u001b[0mBlendingType\u001b[0m\u001b[0;34m.\u001b[0m\u001b[0mOVERRIDE\u001b[0m\u001b[0;34m)\u001b[0m\u001b[0;34m\u001b[0m\u001b[0m\n\u001b[0m\u001b[1;32m      6\u001b[0m \u001b[0mtask_vel\u001b[0m\u001b[0;34m(\u001b[0m\u001b[0;36m0.1\u001b[0m\u001b[0;34m,\u001b[0m \u001b[0;36m0.2\u001b[0m\u001b[0;34m,\u001b[0m \u001b[0;36m20\u001b[0m\u001b[0;34m,\u001b[0m \u001b[0;36m20\u001b[0m\u001b[0;34m)\u001b[0m\u001b[0;34m\u001b[0m\u001b[0m\n",
      "\u001b[0;32m/home/junsu/Projects/rnb-planning/src/nrmkindy/indy_script.pyc\u001b[0m in \u001b[0;36mblending_type\u001b[0;34m(type)\u001b[0m\n\u001b[1;32m    223\u001b[0m         \u001b[0mget_prop\u001b[0m \u001b[0;34m=\u001b[0m \u001b[0m_remote\u001b[0m\u001b[0;34m.\u001b[0m\u001b[0mget_global_property\u001b[0m\u001b[0;34m(\u001b[0m\u001b[0;34m)\u001b[0m\u001b[0;34m\u001b[0m\u001b[0m\n\u001b[1;32m    224\u001b[0m         \u001b[0;32mreturn\u001b[0m \u001b[0mBlendingType\u001b[0m\u001b[0;34m(\u001b[0m\u001b[0mget_prop\u001b[0m\u001b[0;34m.\u001b[0m\u001b[0mblendingType\u001b[0m\u001b[0;34m)\u001b[0m\u001b[0;34m\u001b[0m\u001b[0m\n\u001b[0;32m--> 225\u001b[0;31m     \u001b[0;32mreturn\u001b[0m \u001b[0m_remote\u001b[0m\u001b[0;34m.\u001b[0m\u001b[0mset_global_blending_type\u001b[0m\u001b[0;34m(\u001b[0m\u001b[0mtype\u001b[0m\u001b[0;34m)\u001b[0m\u001b[0;34m\u001b[0m\u001b[0m\n\u001b[0m\u001b[1;32m    226\u001b[0m \u001b[0;34m\u001b[0m\u001b[0m\n\u001b[1;32m    227\u001b[0m \u001b[0;34m\u001b[0m\u001b[0m\n",
      "\u001b[0;32m/home/junsu/Projects/rnb-planning/src/nrmkindy/indy_remote_ctrl.pyc\u001b[0m in \u001b[0;36mset_global_blending_type\u001b[0;34m(self, type)\u001b[0m\n\u001b[1;32m    147\u001b[0m \u001b[0;34m\u001b[0m\u001b[0m\n\u001b[1;32m    148\u001b[0m         \u001b[0mglob_bt\u001b[0m \u001b[0;34m=\u001b[0m \u001b[0mprop\u001b[0m\u001b[0;34m.\u001b[0m\u001b[0mMotionProperty\u001b[0m\u001b[0;34m(\u001b[0m\u001b[0mblendingType\u001b[0m\u001b[0;34m=\u001b[0m\u001b[0mreq\u001b[0m\u001b[0;34m.\u001b[0m\u001b[0mvalue\u001b[0m\u001b[0;34m)\u001b[0m\u001b[0;34m\u001b[0m\u001b[0m\n\u001b[0;32m--> 149\u001b[0;31m         \u001b[0mself\u001b[0m\u001b[0;34m.\u001b[0m\u001b[0m_stub\u001b[0m\u001b[0;34m.\u001b[0m\u001b[0msetGlobalBlendingType\u001b[0m\u001b[0;34m(\u001b[0m\u001b[0mglob_bt\u001b[0m\u001b[0;34m)\u001b[0m\u001b[0;34m\u001b[0m\u001b[0m\n\u001b[0m\u001b[1;32m    150\u001b[0m \u001b[0;34m\u001b[0m\u001b[0m\n\u001b[1;32m    151\u001b[0m     \u001b[0;32mdef\u001b[0m \u001b[0mset_global_blending_rad\u001b[0m\u001b[0;34m(\u001b[0m\u001b[0mself\u001b[0m\u001b[0;34m,\u001b[0m \u001b[0mrad\u001b[0m\u001b[0;34m)\u001b[0m\u001b[0;34m:\u001b[0m\u001b[0;34m\u001b[0m\u001b[0m\n",
      "\u001b[0;32m/home/junsu/.local/lib/python2.7/site-packages/grpc/_channel.pyc\u001b[0m in \u001b[0;36m__call__\u001b[0;34m(self, request, timeout, metadata, credentials, wait_for_ready, compression)\u001b[0m\n\u001b[1;32m    824\u001b[0m         state, call, = self._blocking(request, timeout, metadata, credentials,\n\u001b[1;32m    825\u001b[0m                                       wait_for_ready, compression)\n\u001b[0;32m--> 826\u001b[0;31m         \u001b[0;32mreturn\u001b[0m \u001b[0m_end_unary_response_blocking\u001b[0m\u001b[0;34m(\u001b[0m\u001b[0mstate\u001b[0m\u001b[0;34m,\u001b[0m \u001b[0mcall\u001b[0m\u001b[0;34m,\u001b[0m \u001b[0mFalse\u001b[0m\u001b[0;34m,\u001b[0m \u001b[0mNone\u001b[0m\u001b[0;34m)\u001b[0m\u001b[0;34m\u001b[0m\u001b[0m\n\u001b[0m\u001b[1;32m    827\u001b[0m \u001b[0;34m\u001b[0m\u001b[0m\n\u001b[1;32m    828\u001b[0m     def with_call(self,\n",
      "\u001b[0;32m/home/junsu/.local/lib/python2.7/site-packages/grpc/_channel.pyc\u001b[0m in \u001b[0;36m_end_unary_response_blocking\u001b[0;34m(state, call, with_call, deadline)\u001b[0m\n\u001b[1;32m    727\u001b[0m             \u001b[0;32mreturn\u001b[0m \u001b[0mstate\u001b[0m\u001b[0;34m.\u001b[0m\u001b[0mresponse\u001b[0m\u001b[0;34m\u001b[0m\u001b[0m\n\u001b[1;32m    728\u001b[0m     \u001b[0;32melse\u001b[0m\u001b[0;34m:\u001b[0m\u001b[0;34m\u001b[0m\u001b[0m\n\u001b[0;32m--> 729\u001b[0;31m         \u001b[0;32mraise\u001b[0m \u001b[0m_InactiveRpcError\u001b[0m\u001b[0;34m(\u001b[0m\u001b[0mstate\u001b[0m\u001b[0;34m)\u001b[0m\u001b[0;34m\u001b[0m\u001b[0m\n\u001b[0m\u001b[1;32m    730\u001b[0m \u001b[0;34m\u001b[0m\u001b[0m\n\u001b[1;32m    731\u001b[0m \u001b[0;34m\u001b[0m\u001b[0m\n",
      "\u001b[0;31m_InactiveRpcError\u001b[0m: <_InactiveRpcError of RPC that terminated with:\n\tstatus = StatusCode.UNAVAILABLE\n\tdetails = \"failed to connect to all addresses\"\n\tdebug_error_string = \"{\"created\":\"@1600282871.884855032\",\"description\":\"Failed to pick subchannel\",\"file\":\"src/core/ext/filters/client_channel/client_channel.cc\",\"file_line\":4090,\"referenced_errors\":[{\"created\":\"@1600282871.884852282\",\"description\":\"failed to connect to all addresses\",\"file\":\"src/core/ext/filters/client_channel/lb_policy/pick_first/pick_first.cc\",\"file_line\":394,\"grpc_status\":14}]}\"\n>"
     ]
    }
   ],
   "source": [
    "host_ip='192.168.0.63'\n",
    "\n",
    "config_script(NAME_INDY_7)\n",
    "start_script(host_ip)\n",
    "blending_type(BlendingType.OVERRIDE)\n",
    "task_vel(0.1, 0.2, 20, 20)"
   ]
  },
  {
   "cell_type": "code",
   "execution_count": 4,
   "metadata": {},
   "outputs": [
    {
     "name": "stdout",
     "output_type": "stream",
     "text": [
      "1\n",
      "2\n"
     ]
    },
    {
     "data": {
      "text/plain": [
       "True"
      ]
     },
     "execution_count": 4,
     "metadata": {},
     "output_type": "execute_result"
    }
   ],
   "source": [
    "MY_WAIT_TIME = 0.5\n",
    "\n",
    "movej(JointPos(-0.114, -11.241, -60.707, 0.004, -108.086, -0.072)) # 모션 시작점\n",
    "\n",
    "# print(blending_type())\n",
    "#     blending_type(BlendingType.DUPLICATE)\n",
    "\n",
    "amovej(JointPos(-60, -11.241, -60.707, 0.004, -108.086, -0.072))\n",
    "print(1)\n",
    "time.sleep(MY_WAIT_TIME)\n",
    "amovej(JointPos(-0.114, -11.241, -60.707, 0.004, -108.086, -0.072))\n",
    "print(2)\n",
    "\n",
    "\n",
    "mwait_done()"
   ]
  },
  {
   "cell_type": "code",
   "execution_count": 5,
   "metadata": {},
   "outputs": [],
   "source": [
    "end_script()"
   ]
  },
  {
   "cell_type": "code",
   "execution_count": null,
   "metadata": {},
   "outputs": [],
   "source": []
  },
  {
   "cell_type": "code",
   "execution_count": 1,
   "metadata": {},
   "outputs": [],
   "source": [
    "from indy_utils import indydcp_client as client\n",
    "\n",
    "import json\n",
    "from time import sleep\n",
    "import threading\n",
    "import numpy as np\n",
    "\n",
    "robot_ip = \"192.168.0.63\"  # Robot (Indy) IP\n",
    "robot_name = \"NRMK-Indy7\"  # Robot name (Indy7)\n",
    "# robot_name = \"NRMK-IndyRP2\"  # Robot name (IndyRP2)\n",
    "\n",
    "# Create class object\n",
    "indy = client.IndyDCPClient(robot_ip, robot_name)"
   ]
  },
  {
   "cell_type": "code",
   "execution_count": 2,
   "metadata": {},
   "outputs": [
    {
     "name": "stdout",
     "output_type": "stream",
     "text": [
      "Connect: Server IP (192.168.0.63)\n",
      "5\n",
      "3\n",
      "3\n",
      "20.0\n",
      "0.2\n"
     ]
    }
   ],
   "source": [
    "indy.connect()\n",
    "indy.set_collision_level(5)\n",
    "indy.set_joint_vel_level(3)\n",
    "indy.set_task_vel_level(3)\n",
    "indy.set_joint_blend_radius(20)\n",
    "indy.set_task_blend_radius(0.2)\n",
    "\n",
    "print(indy.get_collision_level())\n",
    "print(indy.get_joint_vel_level())\n",
    "print(indy.get_task_vel_level())\n",
    "print(indy.get_joint_blend_radius())\n",
    "print(indy.get_task_blend_radius())\n",
    "indy.disconnect()"
   ]
  },
  {
   "cell_type": "code",
   "execution_count": 3,
   "metadata": {},
   "outputs": [],
   "source": [
    "from pkg.utils import *\n",
    "gtimer = GlobalTimer.instance()"
   ]
  },
  {
   "cell_type": "code",
   "execution_count": 4,
   "metadata": {},
   "outputs": [
    {
     "name": "stdout",
     "output_type": "stream",
     "text": [
      "Connect: Server IP (192.168.0.63)\n"
     ]
    },
    {
     "data": {
      "text/plain": [
       "True"
      ]
     },
     "execution_count": 4,
     "metadata": {},
     "output_type": "execute_result"
    }
   ],
   "source": [
    "indy.connect()"
   ]
  },
  {
   "cell_type": "code",
   "execution_count": 5,
   "metadata": {},
   "outputs": [],
   "source": [
    "gtimer.reset()"
   ]
  },
  {
   "cell_type": "code",
   "execution_count": 6,
   "metadata": {},
   "outputs": [],
   "source": [
    "indy.stop_motion()"
   ]
  },
  {
   "cell_type": "code",
   "execution_count": 7,
   "metadata": {},
   "outputs": [],
   "source": [
    "import matplotlib.pyplot as plt"
   ]
  },
  {
   "cell_type": "code",
   "execution_count": 8,
   "metadata": {},
   "outputs": [],
   "source": [
    "import rospy\n",
    "rospy.init_node('indy_test', anonymous=True)\n",
    "rate = rospy.Rate(100)"
   ]
  },
  {
   "cell_type": "code",
   "execution_count": 9,
   "metadata": {},
   "outputs": [],
   "source": [
    "N_t = 1000\n",
    "PORT_REPEATER = 1189\n",
    "# e_POS = e_POS_list[0]\n",
    "# e_POS = np.pad(e_POS, [[50,50],[0,0]],'edge')\n",
    "\n",
    "MAG = 1#np.deg2rad(5)\n",
    "e_POS = np.deg2rad([[0, -15, -90, 0, -75, 0]])*np.transpose([MAG*((np.sin(np.pi*(np.arange(N_t+1)*2-N_t/2)/N_t)+1)/2)])\n",
    "e_POS = np.pad(e_POS, [[50,50],[0,0]],'edge')\n"
   ]
  },
  {
   "cell_type": "code",
   "execution_count": 10,
   "metadata": {},
   "outputs": [
    {
     "data": {
      "text/plain": [
       "[<matplotlib.lines.Line2D at 0x7f47fd09c490>,\n",
       " <matplotlib.lines.Line2D at 0x7f47fd09c590>,\n",
       " <matplotlib.lines.Line2D at 0x7f47fd09c5d0>,\n",
       " <matplotlib.lines.Line2D at 0x7f47fd09c690>,\n",
       " <matplotlib.lines.Line2D at 0x7f47fd09c750>,\n",
       " <matplotlib.lines.Line2D at 0x7f47fd09c810>]"
      ]
     },
     "execution_count": 10,
     "metadata": {},
     "output_type": "execute_result"
    },
    {
     "data": {
      "image/png": "[encoded data removed]",
      "text/plain": [
       "<Figure size 432x288 with 1 Axes>"
      ]
     },
     "metadata": {
      "needs_background": "light"
     },
     "output_type": "display_data"
    }
   ],
   "source": [
    "plt.plot(e_POS)"
   ]
  },
  {
   "cell_type": "code",
   "execution_count": 11,
   "metadata": {},
   "outputs": [],
   "source": [
    "indy.joint_move_to(e_POS[0])\n",
    "while not indy.get_robot_status()['movedone']:\n",
    "    time.sleep(1e-1)\n",
    "indy.joint_move_to(e_POS[0])\n",
    "while not indy.get_robot_status()['movedone']:\n",
    "    time.sleep(1e-1)\n",
    "indy.joint_move_to(e_POS[0])\n",
    "while not indy.get_robot_status()['movedone']:\n",
    "    time.sleep(1e-1)\n",
    "indy.joint_move_to(e_POS[0])\n",
    "while not indy.get_robot_status()['movedone']:\n",
    "    time.sleep(1e-1)"
   ]
  },
  {
   "cell_type": "code",
   "execution_count": 12,
   "metadata": {},
   "outputs": [
    {
     "data": {
      "text/plain": [
       "{'step_c': 40}"
      ]
     },
     "execution_count": 12,
     "metadata": {},
     "output_type": "execute_result"
    }
   ],
   "source": [
    "gtimer.reset()\n",
    "traj_type=1\n",
    "traj_freq=4000\n",
    "dat_size=6\n",
    "traj_data_list = [0]*18\n",
    "indy.move_ext_traj_txt(traj_type=traj_type, traj_freq=traj_freq, dat_size=dat_size, \n",
    "                             traj_data=traj_data_list)\n",
    "send_recv({'reset': True, 'period_s': 1.0/100, 'qcur': [0]*6},\n",
    "                         indy.server_ip, PORT_REPEATER)"
   ]
  },
  {
   "cell_type": "code",
   "execution_count": 13,
   "metadata": {},
   "outputs": [],
   "source": [
    "send_recv({'stop': True}, indy.server_ip, PORT_REPEATER)\n",
    "indy.stop_motion()"
   ]
  },
  {
   "cell_type": "code",
   "execution_count": 14,
   "metadata": {},
   "outputs": [],
   "source": [
    "indy.move_ext_traj_txt(traj_type=traj_type, traj_freq=traj_freq, dat_size=dat_size, \n",
    "                             traj_data=traj_data_list)\n",
    "send_recv({'reset': True, 'period_s': 1.0/100, 'qcur': [0]*6},\n",
    "                         indy.server_ip, PORT_REPEATER)\n",
    "\n",
    "qcount = 0\n",
    "qcount_indy_list = []\n",
    "looptime_list = []\n",
    "for Q in e_POS:\n",
    "    gtimer.tic(\"loop\")\n",
    "    Q_indy = Q#[0]*6\n",
    "    while(qcount>=3):\n",
    "        qcount -= 1\n",
    "        rate.sleep()\n",
    "    gtimer.tic(\"send_recv\")\n",
    "    qcount_indy = send_recv({'qval': Q_indy}, indy.server_ip, PORT_REPEATER)['qcount']\n",
    "    qcount = qcount_indy\n",
    "    qcount_indy_list.append(qcount_indy)\n",
    "    gtimer.toc(\"send_recv\")\n",
    "    looptime_list.append(gtimer.toc(\"loop\"))\n",
    "send_recv({'stop': True}, indy.server_ip, PORT_REPEATER)\n",
    "indy.stop_motion()"
   ]
  },
  {
   "cell_type": "code",
   "execution_count": 15,
   "metadata": {},
   "outputs": [
    {
     "name": "stdout",
     "output_type": "stream",
     "text": [
      "loop: \t10977.0 ms/1101 = 9.97 ms (1.261/20.146)\n",
      "send_recv: \t1510.0 ms/1101 = 1.371 ms (0.872/2.116)\n",
      "\n"
     ]
    }
   ],
   "source": [
    "print(gtimer)"
   ]
  },
  {
   "cell_type": "code",
   "execution_count": 16,
   "metadata": {},
   "outputs": [],
   "source": [
    "import matplotlib.pyplot as plt"
   ]
  },
  {
   "cell_type": "code",
   "execution_count": 17,
   "metadata": {},
   "outputs": [
    {
     "data": {
      "image/png": "[encoded data removed]",
      "text/plain": [
       "<Figure size 432x288 with 1 Axes>"
      ]
     },
     "metadata": {
      "needs_background": "light"
     },
     "output_type": "display_data"
    }
   ],
   "source": [
    "ax = plt.plot(qcount_indy_list)"
   ]
  },
  {
   "cell_type": "code",
   "execution_count": 18,
   "metadata": {},
   "outputs": [
    {
     "data": {
      "image/png": "[encoded data removed]",
      "text/plain": [
       "<Figure size 432x288 with 1 Axes>"
      ]
     },
     "metadata": {
      "needs_background": "light"
     },
     "output_type": "display_data"
    }
   ],
   "source": [
    "ax = plt.plot(looptime_list)"
   ]
  },
  {
   "cell_type": "code",
   "execution_count": null,
   "metadata": {},
   "outputs": [],
   "source": []
  },
  {
   "cell_type": "code",
   "execution_count": null,
   "metadata": {},
   "outputs": [],
   "source": []
  },
  {
   "cell_type": "code",
   "execution_count": 7,
   "metadata": {},
   "outputs": [
    {
     "name": "stdout",
     "output_type": "stream",
     "text": [
      "get_joint_pos: \t14.0 ms/2 = 6.99 ms (3.654/10.326)\n",
      "get_task_pos: \t10.0 ms/1 = 10.37 ms (10.37/10.37)\n",
      "\n",
      "[-0.00013619415030992633, 4.539805010330878e-05, 4.539805010330878e-05, -0.0, 5.438776299505309e-05, -0.00010877552599010618]\n",
      "[-1.949028592596782e-06, -0.18649999999525144, 1.327999999998587, -1.1195879631430287e-09, -0.00019957162617946657, 0.00019912214054021557]\n"
     ]
    }
   ],
   "source": [
    "gtimer.tic(\"get_joint_pos\")\n",
    "j_pos = indy.get_joint_pos()\n",
    "gtimer.toc(\"get_joint_pos\")\n",
    "time.sleep(0.1)\n",
    "gtimer.tic(\"get_joint_pos\")\n",
    "j_pos = indy.get_joint_pos()\n",
    "gtimer.toc(\"get_joint_pos\")\n",
    "time.sleep(0.1)\n",
    "gtimer.tic(\"get_task_pos\")\n",
    "t_pos = indy.get_task_pos()\n",
    "gtimer.toc(\"get_task_pos\")\n",
    "print(gtimer)\n",
    "\n",
    "print(j_pos)\n",
    "print(t_pos)"
   ]
  },
  {
   "cell_type": "code",
   "execution_count": 8,
   "metadata": {},
   "outputs": [],
   "source": [
    "from pkg.utils import *"
   ]
  },
  {
   "cell_type": "code",
   "execution_count": 12,
   "metadata": {},
   "outputs": [
    {
     "name": "stdout",
     "output_type": "stream",
     "text": [
      "{'qval': [0.0, 0.0, 0.0, 0.0, 0.0, 0.0]}\n",
      "qval: \t93.0 ms/100 = 0.929 ms (0.846/1.195)\n",
      "\n"
     ]
    }
   ],
   "source": [
    "gtimer.reset()\n",
    "for _ in range(100):\n",
    "    gtimer.tic('qval')\n",
    "    ret=send_recv({'qval': [0,0,0,0,0,0]}, '192.168.0.63', 1189)\n",
    "    gtimer.toc('qval')\n",
    "    time.sleep(10e-3)\n",
    "print(ret)\n",
    "print(gtimer)"
   ]
  },
  {
   "cell_type": "code",
   "execution_count": 15,
   "metadata": {},
   "outputs": [],
   "source": [
    "send_recv({'terminate': True}, '192.168.0.63', 1189)"
   ]
  },
  {
   "cell_type": "code",
   "execution_count": 71,
   "metadata": {},
   "outputs": [],
   "source": [
    "indy.stop_motion()"
   ]
  },
  {
   "cell_type": "code",
   "execution_count": 69,
   "metadata": {},
   "outputs": [],
   "source": [
    "indy.disconnect()"
   ]
  },
  {
   "cell_type": "code",
   "execution_count": null,
   "metadata": {},
   "outputs": [],
   "source": []
  },
  {
   "cell_type": "code",
   "execution_count": 18,
   "metadata": {},
   "outputs": [],
   "source": [
    "dt = 0.00025"
   ]
  },
  {
   "cell_type": "code",
   "execution_count": 19,
   "metadata": {},
   "outputs": [],
   "source": [
    "Mat = np.array([[dt**3, dt**2],[8*dt**3, 4*dt**2]])"
   ]
  },
  {
   "cell_type": "code",
   "execution_count": 21,
   "metadata": {},
   "outputs": [
    {
     "data": {
      "text/plain": [
       "array([[-6.4e+10,  1.6e+10],\n",
       "       [ 3.2e+07, -4.0e+06]])"
      ]
     },
     "execution_count": 21,
     "metadata": {},
     "output_type": "execute_result"
    }
   ],
   "source": [
    "np.linalg.inv(Mat)"
   ]
  },
  {
   "cell_type": "code",
   "execution_count": 5,
   "metadata": {},
   "outputs": [
    {
     "name": "stdout",
     "output_type": "stream",
     "text": [
      "Connect: Server IP (192.168.0.63)\n"
     ]
    },
    {
     "data": {
      "text/plain": [
       "True"
      ]
     },
     "execution_count": 5,
     "metadata": {},
     "output_type": "execute_result"
    }
   ],
   "source": [
    "indy.connect()"
   ]
  },
  {
   "cell_type": "code",
   "execution_count": 25,
   "metadata": {},
   "outputs": [],
   "source": [
    "gtimer.reset()"
   ]
  },
  {
   "cell_type": "code",
   "execution_count": 26,
   "metadata": {},
   "outputs": [],
   "source": [
    "DOF = 6\n",
    "for _ in range(100):\n",
    "    gtimer.tic(\"get_joint_pos\")\n",
    "    j_pos = indy.get_joint_pos()\n",
    "    gtimer.toc(\"get_joint_pos\")\n",
    "    time.sleep(0.1)\n",
    "    gtimer.tic(\"write_direct_variables\")\n",
    "    indy.write_direct_variables(dv_type=client.DIRECT_VAR_TYPE_DFLOAT, \n",
    "                                dv_addr=0, dv_len=DOF, \n",
    "                                val=[1.0]*DOF)\n",
    "\n",
    "    gtimer.toc(\"write_direct_variables\")\n",
    "    time.sleep(0.1)"
   ]
  },
  {
   "cell_type": "code",
   "execution_count": 27,
   "metadata": {
    "scrolled": true
   },
   "outputs": [
    {
     "name": "stdout",
     "output_type": "stream",
     "text": [
      "get_joint_pos: \t3479.0 ms/100 = 34.792 ms (9.953/844.693)\n",
      "write_direct_variables: \t8086.0 ms/100 = 80.858 ms (9.834/887.383)\n",
      "\n"
     ]
    }
   ],
   "source": [
    "print(gtimer)"
   ]
  },
  {
   "cell_type": "code",
   "execution_count": 9,
   "metadata": {},
   "outputs": [],
   "source": [
    "val = indy.read_direct_variables(dv_type=client.DIRECT_VAR_TYPE_DFLOAT, dv_addr=0, dv_len=DOF*3)"
   ]
  },
  {
   "cell_type": "code",
   "execution_count": 24,
   "metadata": {},
   "outputs": [
    {
     "ename": "NameError",
     "evalue": "name 'val' is not defined",
     "output_type": "error",
     "traceback": [
      "\u001b[0;31m\u001b[0m",
      "\u001b[0;31mNameError\u001b[0mTraceback (most recent call last)",
      "\u001b[0;32m<ipython-input-24-54a7d177c749>\u001b[0m in \u001b[0;36m<module>\u001b[0;34m()\u001b[0m\n\u001b[0;32m----> 1\u001b[0;31m \u001b[0;32mprint\u001b[0m\u001b[0;34m(\u001b[0m\u001b[0mval\u001b[0m\u001b[0;34m)\u001b[0m\u001b[0;34m\u001b[0m\u001b[0m\n\u001b[0m",
      "\u001b[0;31mNameError\u001b[0m: name 'val' is not defined"
     ]
    }
   ],
   "source": [
    "print(val)"
   ]
  },
  {
   "cell_type": "code",
   "execution_count": null,
   "metadata": {},
   "outputs": [],
   "source": []
  },
  {
   "cell_type": "code",
   "execution_count": 7,
   "metadata": {},
   "outputs": [],
   "source": [
    "indy.disconnect()"
   ]
  },
  {
   "cell_type": "code",
   "execution_count": 6,
   "metadata": {},
   "outputs": [],
   "source": [
    "gtimer.tic()\n",
    "\n",
    "gtimer.toc()"
   ]
  },
  {
   "cell_type": "code",
   "execution_count": null,
   "metadata": {},
   "outputs": [],
   "source": []
  },
  {
   "cell_type": "code",
   "execution_count": null,
   "metadata": {},
   "outputs": [],
   "source": []
  },
  {
   "cell_type": "code",
   "execution_count": null,
   "metadata": {},
   "outputs": [],
   "source": []
  },
  {
   "cell_type": "code",
   "execution_count": 4,
   "metadata": {},
   "outputs": [
    {
     "name": "stdout",
     "output_type": "stream",
     "text": [
      "Connect: Server IP (192.168.0.63)\n"
     ]
    },
    {
     "data": {
      "text/plain": [
       "True"
      ]
     },
     "execution_count": 4,
     "metadata": {},
     "output_type": "execute_result"
    }
   ],
   "source": [
    "indy.connect()"
   ]
  },
  {
   "cell_type": "code",
   "execution_count": null,
   "metadata": {},
   "outputs": [],
   "source": [
    "# indy.go_home()"
   ]
  },
  {
   "cell_type": "code",
   "execution_count": null,
   "metadata": {},
   "outputs": [],
   "source": [
    "indy.go_zero()"
   ]
  },
  {
   "cell_type": "code",
   "execution_count": null,
   "metadata": {},
   "outputs": [],
   "source": [
    "indy.stop_motion()"
   ]
  },
  {
   "cell_type": "code",
   "execution_count": 6,
   "metadata": {},
   "outputs": [
    {
     "name": "stdout",
     "output_type": "stream",
     "text": [
      "('j_pos1', [0.03314057657541541, -0.022018054300104756, 0.004358212809917643, -0.001903571704826858, -5.438776299505309e-05, 10.002997370050164])\n",
      "('t_pos1', [0.00045366589022335485, -0.1864997686650188, 1.3279999408703247, 0.0030653022475870886, 0.01738264913311591, 10.034017288851595])\n"
     ]
    }
   ],
   "source": [
    "j_pos1 = indy.get_joint_pos()\n",
    "t_pos1 = indy.get_task_pos()\n",
    "print(\"j_pos1\", j_pos1)\n",
    "print(\"t_pos1\", t_pos1)"
   ]
  },
  {
   "cell_type": "code",
   "execution_count": 7,
   "metadata": {},
   "outputs": [],
   "source": [
    "j_pos1[5] += 10  # move for Indy7\n",
    "# j_pos1[6] += 20  # move for IndyRP2\n",
    "indy.joint_move_to(j_pos1)  # Move 6th joint"
   ]
  },
  {
   "cell_type": "code",
   "execution_count": 8,
   "metadata": {
    "scrolled": true
   },
   "outputs": [],
   "source": [
    "j_pos1[5] += 10  # move for Indy7\n",
    "# j_pos1[6] += 20  # move for IndyRP2\n",
    "indy.joint_move_to(j_pos1)  # Move 6th joint"
   ]
  },
  {
   "cell_type": "code",
   "execution_count": 15,
   "metadata": {},
   "outputs": [],
   "source": [
    "import time as timer"
   ]
  },
  {
   "cell_type": "code",
   "execution_count": 42,
   "metadata": {},
   "outputs": [
    {
     "name": "stdout",
     "output_type": "stream",
     "text": [
      "[0.008572101593017578, 0.005154132843017578, 0.005110025405883789, 0.005195140838623047, 0.00516510009765625, 0.0053730010986328125, 0.005080223083496094, 0.005185127258300781, 0.00518798828125, 0.005001068115234375, 0.00510096549987793, 0.0051860809326171875, 0.005009889602661133, 0.0051310062408447266, 0.005303859710693359, 0.005153179168701172, 0.0048770904541015625, 0.005026817321777344, 0.0051729679107666016, 0.005303144454956055, 0.0050280094146728516, 0.0051310062408447266, 0.004983186721801758, 0.0051000118255615234, 0.005097866058349609, 0.004990100860595703, 0.005151033401489258, 0.0051441192626953125, 0.005120038986206055, 0.005156993865966797, 0.005217075347900391, 0.0054340362548828125, 0.005015134811401367, 0.005135059356689453, 0.00507807731628418, 0.005136013031005859, 0.005330085754394531, 0.0051538944244384766, 0.005005836486816406, 0.004979848861694336, 0.0049779415130615234, 0.005280017852783203, 0.0050928592681884766, 0.004877805709838867, 0.005116939544677734, 0.0052530765533447266, 0.005092144012451172, 0.004842042922973633, 0.004770040512084961, 0.005105018615722656, 0.005139827728271484, 0.005154848098754883, 0.005202054977416992, 0.005073070526123047, 0.005244016647338867, 0.005059957504272461, 0.0051381587982177734, 0.005195140838623047, 0.005153179168701172, 0.005320072174072266, 0.004931926727294922, 0.005216121673583984, 0.005175113677978516, 0.005387067794799805, 0.004951000213623047, 0.005136013031005859, 0.005288124084472656, 0.0050089359283447266, 0.0050220489501953125, 0.00498509407043457, 0.005018949508666992, 0.00497889518737793, 0.005073070526123047, 0.005106925964355469, 0.005124092102050781, 0.005315065383911133, 0.005236148834228516, 0.004900932312011719, 0.005110979080200195, 0.0051081180572509766, 0.005106925964355469, 0.005397796630859375, 0.0049440860748291016, 0.005112886428833008, 0.005185127258300781, 0.0054149627685546875, 0.005117893218994141, 0.005046844482421875, 0.551886796951294, 0.005228996276855469, 0.005270957946777344, 0.005049943923950195, 0.005133867263793945, 0.005206108093261719, 0.0051648616790771484, 0.005218029022216797, 0.005251169204711914, 0.005435943603515625, 0.0049839019775390625, 0.005170106887817383, 0.005159854888916016, 0.005254030227661133, 0.005234956741333008, 0.005118131637573242, 0.00528717041015625, 0.005314826965332031, 0.0051839351654052734, 0.005313873291015625, 0.005072116851806641, 0.005185842514038086, 0.005145072937011719, 0.005249977111816406, 0.005380868911743164, 0.005150794982910156, 0.005223989486694336, 0.005142927169799805, 0.005216121673583984, 0.005238056182861328, 0.005174160003662109, 0.005432844161987305, 0.005136013031005859, 0.005390167236328125, 0.005101919174194336, 0.0051381587982177734, 0.00513005256652832, 0.005267143249511719, 0.0051119327545166016, 0.005174875259399414, 0.0050699710845947266, 0.00533294677734375, 0.005281925201416016, 0.005079984664916992, 0.0049169063568115234, 0.005140066146850586, 0.005098104476928711, 0.005357980728149414, 0.004910945892333984, 0.0051250457763671875, 0.005427122116088867, 0.004930973052978516, 0.005106925964355469, 0.005118131637573242, 0.005004167556762695, 0.005224943161010742, 0.005113124847412109, 0.005067110061645508, 0.00512385368347168, 0.005144834518432617, 0.005099058151245117, 0.005265951156616211, 0.0051081180572509766, 0.005223989486694336, 0.0051021575927734375, 0.005136966705322266, 0.005079030990600586, 0.0051441192626953125, 0.005120992660522461, 0.005148172378540039, 0.005029916763305664, 0.005143880844116211, 0.0051250457763671875, 0.005090951919555664, 0.005027055740356445, 0.005173921585083008, 0.005114078521728516, 0.00505518913269043, 0.005163908004760742, 0.0050890445709228516, 0.0050201416015625, 0.005259037017822266, 0.004990100860595703, 0.005163908004760742, 0.005158901214599609, 0.005282878875732422, 0.005228996276855469, 0.005036830902099609, 0.0052030086517333984, 0.005134105682373047, 0.005136013031005859, 0.005132913589477539, 0.005098104476928711, 0.005176067352294922, 0.0051729679107666016, 0.005057096481323242, 0.0054929256439208984, 0.004940986633300781, 0.005076169967651367, 0.005274057388305664, 0.00491786003112793, 0.00510096549987793, 0.005394935607910156, 0.005013942718505859, 0.005003929138183594, 0.00512385368347168, 0.005278825759887695, 0.004869937896728516, 0.0052700042724609375, 0.005117893218994141, 0.0050029754638671875, 0.0052912235260009766, 0.0050830841064453125, 0.005361080169677734, 0.00506591796875, 0.0048961639404296875, 0.0051119327545166016, 0.005173921585083008, 0.0052912235260009766, 0.004927873611450195, 0.005324125289916992, 0.005071878433227539, 0.005083799362182617, 0.005036830902099609, 0.00501704216003418, 0.00506281852722168, 0.005116939544677734, 0.005137920379638672, 0.005266904830932617, 0.004973888397216797, 0.005156993865966797, 0.005084037780761719, 0.005146026611328125, 0.005159854888916016, 0.00522303581237793, 0.0050890445709228516, 0.005134105682373047, 0.005131959915161133, 0.005043983459472656, 0.005179882049560547, 0.005177974700927734, 0.005198955535888672, 0.005121946334838867, 0.005281925201416016, 0.00498199462890625, 0.005350828170776367, 0.004879951477050781, 0.0051419734954833984, 0.005207061767578125, 0.005026817321777344, 0.005115985870361328, 0.005247831344604492, 0.005010128021240234, 0.005296230316162109, 0.004817962646484375, 0.005141019821166992, 0.005196094512939453, 0.005203962326049805, 0.005106925964355469, 0.005171060562133789, 0.00512385368347168, 0.00506281852722168, 0.005068063735961914, 0.00520014762878418, 0.005241870880126953, 0.005119800567626953, 0.005181074142456055, 0.005280017852783203, 0.005120992660522461, 0.005174160003662109, 0.0049779415130615234, 0.005280017852783203, 0.004904985427856445, 0.005140066146850586, 0.005081892013549805, 0.005071163177490234, 0.005014896392822266, 0.0053670406341552734, 0.0049250125885009766, 0.005326032638549805, 0.004982948303222656, 0.005112886428833008, 0.0051801204681396484, 0.0052280426025390625, 0.005063056945800781, 0.005124092102050781, 0.005221843719482422, 0.005155086517333984, 0.0051190853118896484, 0.005007028579711914, 0.005135059356689453, 0.0049190521240234375, 0.005138874053955078, 0.0051670074462890625, 0.0051898956298828125, 0.005125999450683594, 0.005146980285644531, 0.005135059356689453, 0.005162954330444336, 0.0051119327545166016, 0.005140066146850586, 0.005360841751098633, 0.004823207855224609, 0.005179166793823242, 0.004956960678100586, 0.005370140075683594, 0.004903078079223633, 0.0050890445709228516, 0.005384922027587891, 0.005027055740356445, 0.005182027816772461, 0.005136966705322266, 0.005074977874755859, 0.0051958560943603516, 0.004949092864990234, 0.005188941955566406, 0.0053250789642333984, 0.005136013031005859, 0.004925966262817383, 0.005223989486694336, 0.004893064498901367, 0.005115985870361328, 0.005066871643066406, 0.005181074142456055, 0.005033016204833984, 0.005112171173095703, 0.005131959915161133, 0.005146026611328125, 0.005294084548950195, 0.005019187927246094, 0.005007028579711914, 0.005075931549072266, 0.0051729679107666016, 0.00522923469543457, 0.004994869232177734, 0.005290031433105469, 0.0049970149993896484, 0.005272865295410156, 0.005117177963256836, 0.005095005035400391, 0.005185127258300781, 0.0049250125885009766, 0.005237102508544922, 0.004884958267211914, 0.005281925201416016, 0.005155086517333984, 0.004920005798339844, 0.00510716438293457, 0.0051271915435791016, 0.005067110061645508, 0.005037069320678711, 0.004942893981933594, 0.005220174789428711, 0.005113840103149414, 0.0052950382232666016, 0.00504302978515625, 0.0049860477447509766, 0.005148172378540039, 0.005182027816772461, 0.004984140396118164, 0.005047798156738281, 0.00506901741027832, 0.005159854888916016, 0.0051310062408447266, 0.005160093307495117, 0.00526881217956543, 0.0049631595611572266, 0.005180835723876953, 0.005181074142456055, 0.005079984664916992, 0.004972934722900391, 0.00515294075012207, 0.004994869232177734, 0.0050580501556396484, 0.00516200065612793, 0.005198001861572266, 0.005096912384033203, 0.005280017852783203, 0.004803180694580078, 0.0051479339599609375, 0.005132913589477539, 0.0052089691162109375, 0.0050051212310791016, 0.005157947540283203, 0.005057096481323242, 0.0052030086517333984, 0.005254983901977539, 0.005126953125, 0.0049588680267333984, 0.005240917205810547, 0.0052490234375, 0.0049169063568115234, 0.005118131637573242, 0.005036830902099609, 0.005146980285644531, 0.005167961120605469, 0.005369901657104492, 0.00506901741027832, 0.005007028579711914, 0.00506901741027832, 0.004976987838745117, 0.005225181579589844, 0.005053043365478516, 0.005281925201416016, 0.004976034164428711, 0.005084037780761719, 0.005259037017822266, 0.005002021789550781, 0.004927873611450195, 0.005160093307495117, 0.005157947540283203, 0.005249977111816406, 0.00516200065612793, 0.00512385368347168, 0.00509190559387207, 0.004991054534912109, 0.005294084548950195, 0.0050699710845947266, 0.005084991455078125, 0.00499415397644043, 0.005015134811401367, 0.005175113677978516, 0.005094051361083984, 0.0051729679107666016, 0.004903078079223633, 0.0053980350494384766, 0.0050890445709228516, 0.5506079196929932, 0.005052804946899414, 0.005173921585083008, 0.0052759647369384766, 0.005074024200439453, 0.00527501106262207, 0.005243062973022461, 0.0052340030670166016, 0.005075931549072266, 0.005217075347900391, 0.0054018497467041016, 0.005099058151245117, 0.005198001861572266, 0.005091190338134766, 0.005178213119506836, 0.005176067352294922, 0.005288124084472656, 0.005071878433227539, 0.005326032638549805, 0.004996061325073242, 0.0054149627685546875, 0.004958152770996094, 0.0053369998931884766, 0.005148887634277344, 0.005170106887817383, 0.005118131637573242, 0.00551295280456543, 0.005082845687866211, 0.0052509307861328125, 0.005237102508544922, 0.005351066589355469, 0.00516819953918457, 0.0055179595947265625, 0.005109071731567383, 0.0049898624420166016, 0.005239963531494141, 0.004817962646484375, 0.005079984664916992, 0.005149126052856445, 0.005023956298828125, 0.0050618648529052734, 0.005114078521728516, 0.005414009094238281, 0.005139827728271484, 0.005218982696533203, 0.005012989044189453, 0.0050470829010009766, 0.0050661563873291016, 0.00506281852722168, 0.005061149597167969, 0.005153179168701172, 0.005242824554443359, 0.005087137222290039, 0.005157947540283203, 0.005129098892211914, 0.0052220821380615234, 0.005045890808105469, 0.005177974700927734, 0.005226850509643555, 0.005007028579711914, 0.005134105682373047, 0.005137920379638672, 0.005148887634277344, 0.0051419734954833984, 0.005278825759887695, 0.0053179264068603516, 0.00500798225402832, 0.005129814147949219, 0.0051670074462890625, 0.005094051361083984, 0.005101919174194336, 0.0051059722900390625, 0.005158185958862305, 0.005239963531494141, 0.0051441192626953125, 0.005318880081176758, 0.005120038986206055, 0.004948854446411133, 0.00528717041015625, 0.00515294075012207, 0.005239009857177734, 0.004873991012573242, 0.004952907562255859, 0.005088090896606445, 0.005134105682373047, 0.005064964294433594, 0.005267143249511719, 0.005026102066040039, 0.005029916763305664, 0.005160093307495117, 0.005079030990600586, 0.005317211151123047, 0.005208015441894531, 0.005136966705322266, 0.005114078521728516, 0.005301952362060547, 0.004908084869384766, 0.005072116851806641, 0.005027055740356445, 0.005095958709716797, 0.005035877227783203, 0.005321979522705078, 0.005053043365478516, 0.005258083343505859, 0.0050601959228515625, 0.005120992660522461, 0.0052640438079833984, 0.004904031753540039, 0.005123138427734375, 0.005105018615722656, 0.005059003829956055, 0.0050640106201171875, 0.005227804183959961, 0.0050868988037109375, 0.0053060054779052734, 0.004992961883544922, 0.005106925964355469, 0.005361080169677734, 0.0049839019775390625, 0.005141019821166992, 0.0051670074462890625, 0.005105018615722656, 0.005153179168701172, 0.005140066146850586, 0.005352973937988281, 0.005021095275878906, 0.005204916000366211, 0.00528407096862793, 0.005181074142456055, 0.004877805709838867, 0.005372047424316406, 0.0048711299896240234, 0.005079030990600586, 0.0049479007720947266, 0.0050470829010009766, 0.005068063735961914, 0.005207061767578125, 0.0050508975982666016, 0.0051021575927734375, 0.005095005035400391, 0.0052089691162109375, 0.005129098892211914, 0.005173921585083008, 0.005238056182861328, 0.005129098892211914, 0.005302906036376953, 0.0050928592681884766, 0.005202770233154297, 0.005005836486816406, 0.00539088249206543, 0.0050048828125, 0.004976034164428711, 0.005249977111816406, 0.0050048828125, 0.005091190338134766, 0.004899024963378906, 0.005052804946899414, 0.005092144012451172, 0.005259990692138672, 0.004981040954589844, 0.005096912384033203, 0.00516200065612793, 0.0050470829010009766, 0.0051348209381103516, 0.005033016204833984, 0.005053043365478516, 0.005775928497314453, 0.0045011043548583984, 0.0051119327545166016, 0.005126953125, 0.005229949951171875, 0.004962921142578125, 0.005307912826538086, 0.005357980728149414, 0.0051708221435546875, 0.0049228668212890625, 0.005084037780761719, 0.005096912384033203, 0.004925966262817383, 0.00518798828125, 0.005196094512939453, 0.00517582893371582, 0.004929065704345703, 0.005122184753417969, 0.005074977874755859, 0.005132913589477539, 0.0051348209381103516, 0.005024909973144531, 0.005285024642944336, 0.005003929138183594, 0.005282163619995117, 0.005320072174072266, 0.004962921142578125, 0.005059957504272461, 0.005109071731567383, 0.005300045013427734, 0.004956960678100586, 0.005168914794921875, 0.005160093307495117, 0.005158185958862305, 0.00517582893371582, 0.005413055419921875, 0.004915952682495117, 0.005064964294433594, 0.0051059722900390625, 0.005175113677978516, 0.005136966705322266, 0.005051136016845703, 0.0051610469818115234, 0.005114078521728516, 0.005235910415649414, 0.005326986312866211, 0.0049190521240234375, 0.005073070526123047, 0.005175113677978516, 0.005135059356689453, 0.005196809768676758, 0.005120038986206055, 0.005174160003662109, 0.005201101303100586, 0.004875898361206055, 0.005182027816772461, 0.005251169204711914, 0.005048036575317383, 0.0052340030670166016, 0.005043983459472656, 0.0051860809326171875, 0.0051229000091552734, 0.005110025405883789, 0.0050580501556396484, 0.00512385368347168, 0.005138874053955078, 0.005452156066894531, 0.004642963409423828, 0.005357027053833008, 0.0049591064453125, 0.0053598880767822266, 0.005015850067138672, 0.005298137664794922, 0.005117893218994141, 0.004911899566650391, 0.005070924758911133, 0.0052378177642822266, 0.0050830841064453125, 0.005142927169799805, 0.0051038265228271484, 0.005117177963256836, 0.005007028579711914, 0.005101919174194336, 0.005173921585083008, 0.005316019058227539, 0.004909992218017578, 0.0050470829010009766, 0.005155801773071289, 0.00513005256652832, 0.005146980285644531, 0.005243062973022461, 0.005299091339111328, 0.004974842071533203, 0.005198001861572266, 0.005219936370849609, 0.005079984664916992, 0.005140066146850586, 0.004869937896728516, 0.005024909973144531, 0.004945039749145508, 0.005270957946777344, 0.004925966262817383, 0.00521397590637207, 0.004930973052978516, 0.0050809383392333984, 0.005177021026611328, 0.0050258636474609375, 0.00516510009765625, 0.0051860809326171875, 0.005075931549072266, 0.00509190559387207, 0.0051081180572509766, 0.005074024200439453, 0.005405902862548828, 0.004802227020263672, 0.0052530765533447266, 0.00513911247253418, 0.005107879638671875, 0.005163908004760742, 0.00513005256652832, 0.005095958709716797, 0.00513005256652832, 0.004912137985229492, 0.005277156829833984, 0.005006074905395508, 0.0049932003021240234, 0.005192995071411133, 0.0048902034759521484, 0.005033016204833984, 0.0050699710845947266, 0.0051250457763671875, 0.005011081695556641, 0.005173921585083008, 0.005097150802612305, 0.005155086517333984, 0.005122184753417969, 0.00518798828125, 0.005179882049560547, 0.0051419734954833984, 0.005155086517333984, 0.0053789615631103516, 0.005098104476928711, 0.0050048828125, 0.004806995391845703, 0.005112886428833008, 0.0051000118255615234, 0.005127906799316406, 0.004889011383056641, 0.005151033401489258, 0.005259037017822266, 0.005064964294433594, 0.005158901214599609, 0.0051729679107666016, 0.005355119705200195, 0.0050220489501953125, 0.005312919616699219, 0.004939079284667969, 0.005165815353393555, 0.005040884017944336, 0.005127906799316406, 0.5596251487731934, 0.005071878433227539, 0.005215883255004883, 0.005198001861572266, 0.005201816558837891, 0.005330085754394531, 0.005167961120605469, 0.0051348209381103516, 0.005258083343505859, 0.005095958709716797, 0.005185127258300781, 0.005423069000244141, 0.0049970149993896484, 0.005403995513916016, 0.005182981491088867, 0.005115032196044922, 0.005215167999267578, 0.0050601959228515625, 0.005279064178466797, 0.005228996276855469, 0.005154132843017578, 0.005255937576293945, 0.0050699710845947266, 0.005174875259399414, 0.00519108772277832, 0.0053980350494384766, 0.0052928924560546875, 0.005213022232055664, 0.005095005035400391, 0.005461931228637695, 0.004909992218017578, 0.0053119659423828125, 0.005170106887817383, 0.00521087646484375, 0.005290031433105469, 0.0051500797271728516, 0.0049250125885009766, 0.0051419734954833984, 0.005365848541259766, 0.005063056945800781, 0.0050470829010009766, 0.00510406494140625, 0.005096912384033203, 0.00521397590637207, 0.005138874053955078, 0.004930019378662109, 0.0048542022705078125, 0.0052530765533447266, 0.005015850067138672, 0.0050830841064453125, 0.005173921585083008, 0.005249977111816406, 0.005066871643066406, 0.00510096549987793, 0.00516510009765625, 0.0052030086517333984, 0.005274057388305664, 0.005072116851806641, 0.0052340030670166016, 0.004992008209228516, 0.005348920822143555, 0.005024909973144531, 0.004917144775390625, 0.005149126052856445, 0.005413055419921875, 0.005015134811401367, 0.005143165588378906, 0.005132198333740234, 0.0047149658203125, 0.00527501106262207, 0.005059003829956055, 0.004940032958984375, 0.005121946334838867, 0.005167961120605469, 0.005315065383911133, 0.004876136779785156, 0.005364179611206055, 0.005007028579711914, 0.005002021789550781, 0.005085945129394531, 0.00506591796875, 0.005134105682373047, 0.0050699710845947266, 0.005222797393798828, 0.005129814147949219, 0.005048036575317383, 0.005175113677978516, 0.005154848098754883, 0.005293846130371094, 0.004936933517456055, 0.005071163177490234, 0.0051229000091552734, 0.0051190853118896484, 0.005095005035400391, 0.004858970642089844, 0.005042076110839844, 0.005121946334838867, 0.005109071731567383, 0.0051419734954833984, 0.005118846893310547, 0.005190849304199219, 0.005269050598144531, 0.0050089359283447266, 0.005072116851806641, 0.005114078521728516, 0.005103111267089844, 0.0051610469818115234, 0.00510406494140625, 0.0051097869873046875, 0.005156993865966797, 0.005154132843017578, 0.0051419734954833984, 0.005256175994873047, 0.0052759647369384766, 0.0050580501556396484, 0.005137920379638672, 0.0050160884857177734, 0.0050928592681884766, 0.005112886428833008, 0.005087137222290039, 0.005074024200439453, 0.005175113677978516, 0.00533294677734375, 0.005090951919555664, 0.005242824554443359, 0.005115032196044922, 0.00537419319152832, 0.004971027374267578, 0.005012035369873047, 0.005085945129394531, 0.0051801204681396484, 0.004982948303222656, 0.0051920413970947266, 0.0051441192626953125, 0.0051081180572509766, 0.005189180374145508, 0.005081892013549805, 0.005156993865966797, 0.005167961120605469, 0.0051419734954833984, 0.005126953125, 0.005239963531494141, 0.005265951156616211, 0.004915952682495117, 0.005071878433227539, 0.005160093307495117, 0.005174875259399414, 0.005018949508666992, 0.005036115646362305, 0.0052530765533447266, 0.005025148391723633, 0.0049669742584228516, 0.005174160003662109, 0.005088090896606445, 0.005234956741333008, 0.005014181137084961, 0.00510406494140625, 0.00522303581237793, 0.00504612922668457, 0.005422115325927734, 0.004889011383056641, 0.0053098201751708984, 0.004911184310913086, 0.005099058151245117, 0.005095958709716797, 0.005094051361083984, 0.005101919174194336, 0.0051670074462890625, 0.0049839019775390625, 0.005136013031005859, 0.0052258968353271484, 0.005163908004760742, 0.005138874053955078, 0.0053369998931884766, 0.0052700042724609375, 0.005059957504272461, 0.004888057708740234, 0.005012035369873047, 0.005110979080200195, 0.005291938781738281, 0.0050089359283447266, 0.004906177520751953, 0.005342960357666016, 0.005023956298828125, 0.005319833755493164, 0.005023002624511719, 0.005281925201416016, 0.004923820495605469, 0.005295991897583008, 0.004961967468261719, 0.005112171173095703, 0.005244016647338867, 0.004939079284667969, 0.005057096481323242, 0.005114078521728516, 0.005072116851806641, 0.005291938781738281, 0.0052149295806884766, 0.005254030227661133, 0.004998922348022461, 0.005480051040649414, 0.00477290153503418, 0.005120038986206055, 0.00505518913269043, 0.005017995834350586, 0.0050928592681884766, 0.005365848541259766, 0.004930973052978516, 0.005144834518432617, 0.005282163619995117, 0.005110979080200195, 0.004945993423461914, 0.005034923553466797, 0.005334138870239258, 0.004949092864990234, 0.005099058151245117, 0.005154848098754883, 0.005099058151245117, 0.005106210708618164, 0.00505518913269043, 0.005132913589477539, 0.00512385368347168, 0.005085945129394531, 0.005177974700927734, 0.005110025405883789, 0.0050318241119384766, 0.0050928592681884766, 0.005198001861572266, 0.00520014762878418, 0.00500798225402832, 0.005120992660522461, 0.005115032196044922, 0.005418062210083008, 0.005137920379638672, 0.005124092102050781, 0.004945993423461914, 0.004917144775390625, 0.005263805389404297, 0.005109071731567383, 0.00510406494140625, 0.004884958267211914, 0.005202054977416992, 0.005056858062744141, 0.005143880844116211, 0.005151987075805664, 0.005181789398193359, 0.005115985870361328, 0.005160093307495117, 0.0052890777587890625, 0.004889011383056641, 0.005156040191650391, 0.00545811653137207, 0.004957914352416992, 0.00527501106262207, 0.005064964294433594, 0.00504302978515625, 0.0053060054779052734, 0.0050737857818603516, 0.005136013031005859]\n"
     ]
    }
   ],
   "source": [
    "t_elapse = []\n",
    "for _ in range(1000):\n",
    "    t1 = timer.time()\n",
    "    indy.get_robot_status()\n",
    "    t2 = timer.time()\n",
    "    t_elapse += [t2-t1]\n",
    "    timer.sleep(0.005)\n",
    "print(t_elapse)"
   ]
  },
  {
   "cell_type": "code",
   "execution_count": 43,
   "metadata": {},
   "outputs": [],
   "source": [
    "import numpy as np"
   ]
  },
  {
   "cell_type": "code",
   "execution_count": 44,
   "metadata": {},
   "outputs": [
    {
     "name": "stdout",
     "output_type": "stream",
     "text": [
      "0.006779864311218262\n",
      "0.005129098892211914\n",
      "0.030020996715173366\n"
     ]
    }
   ],
   "source": [
    "print(np.mean(t_elapse))\n",
    "print(np.median(t_elapse))\n",
    "print(np.std(t_elapse))"
   ]
  },
  {
   "cell_type": "code",
   "execution_count": 45,
   "metadata": {},
   "outputs": [],
   "source": [
    "import matplotlib.pyplot as plt"
   ]
  },
  {
   "cell_type": "code",
   "execution_count": 47,
   "metadata": {},
   "outputs": [
    {
     "data": {
      "text/plain": [
       "[<matplotlib.lines.Line2D at 0x7fd253d86650>]"
      ]
     },
     "execution_count": 47,
     "metadata": {},
     "output_type": "execute_result"
    },
    {
     "data": {
      "image/png": "[encoded data removed]",
      "text/plain": [
       "<Figure size 432x288 with 1 Axes>"
      ]
     },
     "metadata": {
      "needs_background": "light"
     },
     "output_type": "display_data"
    }
   ],
   "source": [
    "plt.plot(t_elapse[:50])"
   ]
  },
  {
   "cell_type": "code",
   "execution_count": null,
   "metadata": {},
   "outputs": [],
   "source": []
  },
  {
   "cell_type": "code",
   "execution_count": null,
   "metadata": {},
   "outputs": [],
   "source": [
    "j_pos_rel = [0, 0, 0, 0, 0, -20]  # move for Indy7\n",
    "# j_pos_rel = [0, 0, 0, 0, 0, 0, -20]  # move for IndyRP2\n",
    "indy.joint_move_by(j_pos_rel)"
   ]
  },
  {
   "cell_type": "code",
   "execution_count": null,
   "metadata": {},
   "outputs": [],
   "source": [
    "t_pos1[2] += 0.1\n",
    "indy.task_move_to(t_pos1)  # Move along z-axis"
   ]
  },
  {
   "cell_type": "code",
   "execution_count": null,
   "metadata": {},
   "outputs": [],
   "source": [
    "t_pos_rel = [0, 0, -0.1, 0, 0, 0]\n",
    "indy.task_move_by(t_pos_rel)"
   ]
  },
  {
   "cell_type": "code",
   "execution_count": 14,
   "metadata": {},
   "outputs": [],
   "source": [
    "idx = 16\n",
    "\n",
    "indy.set_do(idx, True)\n",
    "sleep(1)\n",
    "indy.set_do(idx, False)"
   ]
  },
  {
   "cell_type": "code",
   "execution_count": 48,
   "metadata": {},
   "outputs": [],
   "source": [
    "indy.disconnect()"
   ]
  },
  {
   "cell_type": "code",
   "execution_count": null,
   "metadata": {},
   "outputs": [],
   "source": []
  },
  {
   "cell_type": "code",
   "execution_count": null,
   "metadata": {},
   "outputs": [],
   "source": []
  }
 ],
 "metadata": {
  "kernelspec": {
   "display_name": "Python 2",
   "language": "python",
   "name": "python2"
  },
  "language_info": {
   "codemirror_mode": {
    "name": "ipython",
    "version": 2
   },
   "file_extension": ".py",
   "mimetype": "text/x-python",
   "name": "python",
   "nbconvert_exporter": "python",
   "pygments_lexer": "ipython2",
   "version": "2.7.17"
  }
 },
 "nbformat": 4,
 "nbformat_minor": 2
}
