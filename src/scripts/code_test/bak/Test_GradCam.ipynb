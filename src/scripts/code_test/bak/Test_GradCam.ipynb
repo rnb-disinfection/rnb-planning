{
 "cells": [
  {
   "cell_type": "code",
   "execution_count": 1,
   "metadata": {},
   "outputs": [
    {
     "data": {
      "text/html": [
       "<style>.container { width:90% !important; } </style>"
      ],
      "text/plain": [
       "<IPython.core.display.HTML object>"
      ]
     },
     "metadata": {},
     "output_type": "display_data"
    }
   ],
   "source": [
    "#!/usr/bin/env python\n",
    "# coding: utf-8\n",
    "\n",
    "# In[1]:\n",
    "\n",
    "\n",
    "from __future__ import print_function\n",
    "from IPython.core.display import display, HTML\n",
    "\n",
    "display(HTML(\"<style>.container { width:90% !important; } </style>\"))\n",
    "import matplotlib.pyplot as plt\n",
    "from pkg.marker_config import *\n",
    "from pkg.tmp_framework import *\n",
    "from pkg.constraint.constraint_action import *\n",
    "from pkg.constraint.constraint_object import *\n",
    "from pkg.constants import *\n",
    "from pkg.utils.plot_utils import *\n",
    "from pkg.utils.utils import *\n",
    "from pkg.environment_builder import *\n",
    "from pkg.ui.ui_broker import *\n",
    "from pkg.controller.combined_robot import *\n",
    "from pkg.controller.combined_robot import CombinedRobot, XYZ_RPY_ROBOTS_DEFAULT\n",
    "from pkg.data_collecting.sampling import *"
   ]
  },
  {
   "cell_type": "code",
   "execution_count": 2,
   "metadata": {},
   "outputs": [],
   "source": [
    "def load_dat(test_path, file_name):\n",
    "    loaded_data = load_json(os.path.join(test_path, file_name))\n",
    "    scene_tuple = loaded_data['scene_tuple']\n",
    "    heatmap = np.array(loaded_data['heatmap'], dtype=np.float)\n",
    "    heatmap_color = np.array(loaded_data['heatmap_color'], dtype=np.float)/255\n",
    "    label = loaded_data['label']\n",
    "    prediction = loaded_data['prediction']\n",
    "    return scene_tuple, heatmap, heatmap_color, label, prediction\n",
    "\n",
    "def get_all_cells(ghnd):\n",
    "    cells = []\n",
    "    for gname in ghnd.NAME_DICT.keys():\n",
    "        if \"cell_\" in gname:\n",
    "            cells.append(ghnd.NAME_DICT[gname])\n",
    "    return cells\n",
    "\n",
    "def sample_over_median(X):\n",
    "    return X[np.where(X>np.median(X))]\n",
    "\n",
    "def show_heatmap(graph, heatmap, heatmap_color, Ndwh, L_CELL, half_times=3):\n",
    "    over_median = heatmap\n",
    "    for _ in range(half_times-1):\n",
    "        over_median = sample_over_median(over_median)\n",
    "    intensity_cut = np.median(over_median)\n",
    "    cells = []\n",
    "    ghnd = graph.ghnd\n",
    "    Nd, Nw, Nh = Ndwh\n",
    "    for i in range(Nw):\n",
    "        for j in range(Nd):\n",
    "            for k in range(Nh):\n",
    "                alpha = heatmap[i,j,k]/2\n",
    "                if alpha<intensity_cut:\n",
    "                    continue\n",
    "                if heatmap_color is None:\n",
    "                    color = (1,0,0)\n",
    "                else:\n",
    "                    color = tuple(heatmap_color[i,j,k])\n",
    "                name = \"cell_{}_{}_{}\".format(i,j,k)\n",
    "                pos = (np.array((i,j,k))+0.5)*L_CELL\n",
    "                cell = ghnd.create_safe(name=name, link_name=\"base_link\", gtype=GEOTYPE.BOX,\n",
    "                                        center=pos, rpy=(0, 0, 0), dims=(L_CELL, L_CELL, L_CELL), color=color+(alpha,), display=True, collision=False, fixed=True)\n",
    "                graph.add_marker(cell)\n",
    "                cells.append(cell)\n",
    "    return cells"
   ]
  },
  {
   "cell_type": "code",
   "execution_count": 3,
   "metadata": {},
   "outputs": [],
   "source": [
    "MODEL_NAME = \"20201224-122148/model_15\"\n",
    "test_path = os.path.join('logs','gradient_tape',MODEL_NAME, \"test\")\n",
    "scene_tuple, heatmap, heatmap_color, label, prediction = load_dat(test_path, \"20201212-232318/WORLD-20201212-232318/SCENE-20201212-232320/6276_heatmap_C1_0.json\")"
   ]
  },
  {
   "cell_type": "code",
   "execution_count": 4,
   "metadata": {},
   "outputs": [],
   "source": [
    "VISUALIZE = True\n",
    "graph = None\n",
    "SAMPLED_DATA = defaultdict(dict)\n",
    "UPDATE_DAT = True\n",
    "\n",
    "GLOBAL_FILENAME = \"global.json\"\n",
    "WORLD_FILENAME = \"world.json\"\n",
    "SCENE_FILENAME = \"scene.json\"\n",
    "DATA_PATH = \"./data\"\n",
    "N_retry_test = 1\n",
    "LOG_DATA_PATH = \"./logs/gradient_tape/\"+MODEL_NAME+\"/test\"\n",
    "TESTSET_LIST = ['20201208-121454', '20201212-232318', '20201213-061207']"
   ]
  },
  {
   "cell_type": "code",
   "execution_count": 5,
   "metadata": {},
   "outputs": [
    {
     "name": "stdout",
     "output_type": "stream",
     "text": [
      "connection_list\n",
      "(False, False)\n"
     ]
    }
   ],
   "source": [
    "gtimer = GlobalTimer.instance()\n",
    "elog = Logger()\n",
    "crob = CombinedRobot(connection_list=(False, False))\n",
    "false_fail_accum = 0\n",
    "false_succ_accum = 0\n",
    "succ_accum = 0\n",
    "fail_accum = 0\n",
    "\n",
    "CHECK_DICT = {}"
   ]
  },
  {
   "cell_type": "code",
   "execution_count": 6,
   "metadata": {},
   "outputs": [
    {
     "name": "stdout",
     "output_type": "stream",
     "text": [
      "scene size: 3375 (15,15,15)\n"
     ]
    }
   ],
   "source": [
    "\n",
    "\n",
    "DATASET = TESTSET_LIST[0]\n",
    "CHECK_DICT[DATASET] = {}\n",
    "CURRENT_PATH = os.path.join(DATA_PATH, DATASET)\n",
    "\n",
    "## Load global params\n",
    "GLOBAL_PARAMS = load_json(os.path.join(CURRENT_PATH, GLOBAL_FILENAME))\n",
    "WDH = GLOBAL_PARAMS[\"WDH\"]\n",
    "L_CELL = GLOBAL_PARAMS[\"L_CELL\"]\n",
    "RATIO_DIMS = GLOBAL_PARAMS[\"RATIO_DIMS\"]\n",
    "REACH_OFFSET_DICT = GLOBAL_PARAMS[\"REACH_OFFSET_DICT\"]\n",
    "GRIPPER_REFS = GLOBAL_PARAMS[\"GRIPPER_REFS\"]\n",
    "BASE_LINK = GLOBAL_PARAMS[\"BASE_LINK\"]\n",
    "S_F_RATIO = GLOBAL_PARAMS[\"S_F_RATIO\"]\n",
    "TIMEOUT = GLOBAL_PARAMS[\"TIMEOUT\"]\n",
    "\n",
    "CENTER = tuple(np.divide(WDH, 2, dtype=np.float))\n",
    "Ws, Ds, Hs = WDH\n",
    "Nw, Nd, Nh = Nwdh = int(Ws / L_CELL), int(Ds / L_CELL), int(Hs / L_CELL)\n",
    "L_MAX = L_CELL * RATIO_DIMS\n",
    "print(\"scene size: {} ({},{},{})\".format(Nw * Nd * Nh, Nw, Nd, Nh))\n",
    "\n",
    "WORLD_LIST = sorted(filter(lambda x: not x.endswith(\".json\"), os.listdir(CURRENT_PATH)))"
   ]
  },
  {
   "cell_type": "code",
   "execution_count": 7,
   "metadata": {},
   "outputs": [
    {
     "name": "stdout",
     "output_type": "stream",
     "text": [
      "Unable to register with master node [http://localhost:11311]: master may not be running yet. Will keep trying.\n"
     ]
    },
    {
     "name": "stderr",
     "output_type": "stream",
     "text": [
      "Unknown tag \"hardwareInterface\" in /robot[@name='custom_robots']/transmission[@name='indy0_tran0']/actuator[@name='indy0_motor0']\n",
      "Unknown tag \"hardwareInterface\" in /robot[@name='custom_robots']/transmission[@name='indy0_tran1']/actuator[@name='indy0_motor1']\n",
      "Unknown tag \"hardwareInterface\" in /robot[@name='custom_robots']/transmission[@name='indy0_tran2']/actuator[@name='indy0_motor2']\n",
      "Unknown tag \"hardwareInterface\" in /robot[@name='custom_robots']/transmission[@name='indy0_tran3']/actuator[@name='indy0_motor3']\n",
      "Unknown tag \"hardwareInterface\" in /robot[@name='custom_robots']/transmission[@name='indy0_tran4']/actuator[@name='indy0_motor4']\n",
      "Unknown tag \"hardwareInterface\" in /robot[@name='custom_robots']/transmission[@name='indy0_tran5']/actuator[@name='indy0_motor5']\n"
     ]
    },
    {
     "name": "stdout",
     "output_type": "stream",
     "text": [
      "Please create a subscriber to the marker\n",
      "publication OK\n",
      "published: [0, 0, 0, 0, 0, 0, 0, 0, 0, 0, 0, 0, 0]\n",
      "Please create a subscriber to the marker\n",
      "Dash is running on http://127.0.0.1:8050/\n",
      "\n",
      " * Serving Flask app \"pkg.ui.dash_launcher\" (lazy loading)\n",
      " * Environment: production\n",
      "   WARNING: This is a development server. Do not use it in a production deployment.\n",
      "   Use a production WSGI server instead.\n",
      " * Debug mode: off\n"
     ]
    }
   ],
   "source": [
    "WORLD = WORLD_LIST[0]\n",
    "CHECK_DICT[DATASET][WORLD] = {}\n",
    "WORLD_PATH = os.path.join(CURRENT_PATH, WORLD)\n",
    "SAMPLED_DATA[\"WORLD\"] = load_json(os.path.join(WORLD_PATH, WORLD_FILENAME))\n",
    "Trbt_dict = SAMPLED_DATA[\"WORLD\"][\"Trbt_dict\"]\n",
    "reach_center_dict = {k: tuple(np.add(v[0], REACH_OFFSET_DICT[k])) for k, v in Trbt_dict.items()}\n",
    "\n",
    "cam = None\n",
    "# set urdf\n",
    "xcustom, JOINT_NAMES, LINK_NAMES, urdf_content = reset_ghnd(crob.robots_on_scene, Trbt_dict,\n",
    "                                                                   crob.custom_limits, start_rviz=VISUALIZE)\n",
    "ghnd = GeometryHandle(urdf_content)\n",
    "time.sleep(2)\n",
    "\n",
    "# set graph\n",
    "graph = TMPFramework(ghnd=ghnd, urdf_path=URDF_PATH, joint_names=JOINT_NAMES, link_names=LINK_NAMES,\n",
    "                        urdf_content=urdf_content, combined_robot=crob)\n",
    "graph.set_camera(cam)\n",
    "graph.set_cam_robot_collision(_add_cam_poles=False, color=(1, 1, 0, 0.3))\n",
    "if VISUALIZE: graph.set_rviz()\n",
    "\n",
    "# start UI\n",
    "ui_broker = UIBroker.instance()\n",
    "ui_broker.initialize(graph)\n",
    "ui_broker.start_server()\n",
    "\n",
    "# set rviz\n",
    "if VISUALIZE: graph.set_rviz(crob.home_pose)\n",
    "ui_broker.set_tables()\n",
    "\n",
    "for gripper in GRIPPER_REFS.values():\n",
    "    graph.register_binder(name=gripper['bname'], _type=FramedTool, point=gripper['tcp_ref'], rpy=[0, 0, 0],\n",
    "                          link_name=gripper['link_name'])\n",
    "graph.register_binder(name='base', _type=PlaceFrame, point=[0, 0, 0], rpy=[0, 0, 0], link_name=BASE_LINK)\n",
    "vtem = graph.ghnd.create_safe(name=\"virtual\", gtype=GEOTYPE.SPHERE, link_name=BASE_LINK,\n",
    "                              dims=(0, 0, 0), center=(0, 0, 0), rpy=(0, 0, 0), collision=False, display=False\n",
    "                              )\n",
    "graph.add_object(\"virtual\",\n",
    "                 SingleHandleObject(_object=vtem,\n",
    "                                    action_point=FramePoint(name=\"point\", _object=vtem, point=(0, 0, 0),\n",
    "                                                            rpy=(0, 0, 0), name_full=None)),\n",
    "                 binding=(\"point\", \"base\"))\n",
    "\n",
    "obj_list = []\n",
    "col_obj_list = []\n",
    "SCENE_LIST = sorted(filter(lambda x: not x.endswith(\".json\"), os.listdir(WORLD_PATH)))"
   ]
  },
  {
   "cell_type": "code",
   "execution_count": 8,
   "metadata": {},
   "outputs": [],
   "source": [
    "SCENE = SCENE_LIST[0]\n",
    "CHECK_DICT[DATASET][WORLD][SCENE] = {}\n",
    "SCENE_PATH = os.path.join(WORLD_PATH, SCENE)\n",
    "SAMPLED_DATA[\"SCENE\"] = load_json(os.path.join(SCENE_PATH, SCENE_FILENAME))\n",
    "Q_s = np.array(SAMPLED_DATA[\"SCENE\"][\"Q_s\"])\n",
    "Q_s, links, link_verts, link_ctems, link_rads = sample_joint(graph, Q_s_loaded=Q_s)\n",
    "Q_s_dict = SAMPLED_DATA[\"SCENE\"][\"Q_s_dict\"]\n",
    "obj_dat = SAMPLED_DATA[\"SCENE\"][\"obj_dat\"]\n",
    "\n",
    "if VISUALIZE:\n",
    "    graph.show_pose(Q_s)\n",
    "    time.sleep(1)\n",
    "    graph.show_pose(Q_s)\n",
    "    time.sleep(1)\n",
    "    graph.show_pose(Q_s)\n",
    "for obj in obj_list: graph.remove_geometry(obj)\n",
    "for odat in obj_dat:\n",
    "    nbox, gtype, dims, color, center, rpy = odat[\"nbox\"], getattr(GEOTYPE, odat[\"gtype\"]), odat[\"dims\"], \\\n",
    "                                            odat[\"color\"], odat[\"center\"], odat[\"rpy\"]\n",
    "    obj = graph.ghnd.create_safe(\n",
    "        name=\"{}_{}_{}_{}\".format(gtype.name, *nbox), link_name=BASE_LINK, gtype=gtype,\n",
    "        center=center, rpy=rpy, dims=dims, color=color, display=True, collision=True, fixed=True)\n",
    "    obj_list.append(obj)\n",
    "    graph.add_marker(obj, vis=VISUALIZE)\n",
    "\n",
    "for obj in col_obj_list: graph.remove_geometry(obj)\n",
    "\n",
    "if VISUALIZE: graph.set_rviz()\n",
    "dcol = DataCollector(graph, GRIPPER_REFS, S_F_RATIO=S_F_RATIO)\n",
    "if VISUALIZE: graph.set_rviz()\n",
    "\n",
    "# planners\n",
    "mplan = MoveitPlanner(joint_names=graph.joint_names, link_names=graph.link_names, urdf_path=graph.urdf_path,\n",
    "                      urdf_content=graph.urdf_content,\n",
    "                      robot_names=graph.combined_robot.robot_names,\n",
    "                      binder_links=[v.object.link_name for v in graph.binder_dict.values()],\n",
    "                      ghnd=graph.ghnd)\n",
    "dual_mplan_dict = get_dual_planner_dict(GRIPPER_REFS, graph.ghnd, graph.urdf_content, graph.urdf_path,\n",
    "                                        graph.link_names, graph.combined_robot.robot_names)"
   ]
  },
  {
   "cell_type": "code",
   "execution_count": 9,
   "metadata": {},
   "outputs": [],
   "source": [
    "# ## Load action\n",
    "SCENE_DATA_PATH = os.path.join(LOG_DATA_PATH, DATASET, WORLD, SCENE)\n",
    "DATA_LIST = filter(lambda x: x != SCENE_FILENAME, os.listdir(SCENE_DATA_PATH))\n",
    "DATA_LIST = sorted(DATA_LIST, key=lambda x: int(x.split(\"_\")[0]))\n",
    "if (DATA_LIST):\n",
    "    N_SET = 10\n",
    "    N_dat = int(len(DATA_LIST)/N_SET)\n",
    "    DATA_LIST = [DATA_LIST[i_dat*N_SET:(i_dat+1)*N_SET] for i_dat in range(N_dat)]\n",
    "else:\n",
    "    raise(\"\")"
   ]
  },
  {
   "cell_type": "code",
   "execution_count": 10,
   "metadata": {},
   "outputs": [
    {
     "name": "stdout",
     "output_type": "stream",
     "text": [
      "[BEGIN] 20201208-121454 - WORLD-20201208-121454 - SCENE-20201208-121456 - 20201208-121527.json ===============\n",
      "action_type: PLACE\n",
      "succes: True\n"
     ]
    }
   ],
   "source": [
    "i_dat = 10\n",
    "\n",
    "scene_tuple, _, _, _, _ = load_dat(SCENE_DATA_PATH, DATA_LIST[i_dat][0])\n",
    "ACTION = scene_tuple[4].replace(\".pkl\", \".json\")\n",
    "i_s = scene_tuple[5]\n",
    "print(\"[BEGIN] {} - {} - {} - {} ===============\".format(DATASET, WORLD, SCENE, ACTION))\n",
    "snode_dict_bak = {int(k): v for k, v in load_json(os.path.join(SCENE_PATH, ACTION)).items()}\n",
    "dcol.snode_dict = dcol.manager.dict()\n",
    "for k, v in snode_dict_bak.items():\n",
    "    dcol.snode_dict[k] = deepcopy(v)\n",
    "snode_keys = sorted(snode_dict_bak.keys())\n",
    "\n",
    "snode = dcol.snode_dict[i_s]\n",
    "rname, inhand, obj, tar, dims_bak, color_bak, succ, _ = load_manipulation_from_dict(snode,\n",
    "                                                                                    graph.ghnd)\n",
    "if rname and tar:  # handover case\n",
    "    remove_map, action_type = [[], [0, 1]], \"HANDOVER\"\n",
    "elif inhand.collision:  # place case\n",
    "    remove_map, action_type = [[], [0, 1]], \"PLACE\"\n",
    "elif obj.collision:  # pick case\n",
    "    remove_map,action_type = [[1], [0]], \"PICK\"\n",
    "else:\n",
    "    raise (RuntimeError(\"non-implemented case\"))\n",
    "print(\"action_type: {}\".format(action_type))\n",
    "print(\"succes: {}\".format(succ))"
   ]
  },
  {
   "cell_type": "code",
   "execution_count": 11,
   "metadata": {},
   "outputs": [],
   "source": [
    "if VISUALIZE:\n",
    "    show_manip_coords(graph, GRIPPER_REFS, action_type, rname, inhand, obj, rname2=tar)"
   ]
  },
  {
   "cell_type": "code",
   "execution_count": 12,
   "metadata": {},
   "outputs": [],
   "source": [
    "DATA_STAGES = sorted(DATA_LIST[i_dat])"
   ]
  },
  {
   "cell_type": "code",
   "execution_count": 18,
   "metadata": {},
   "outputs": [
    {
     "name": "stdout",
     "output_type": "stream",
     "text": [
      "Prediction: [0.7097322344779968, -0.3902248740196228] (True)\n",
      "\n"
     ]
    }
   ],
   "source": [
    "stage = 1\n",
    "scene_tuple_, heatmap_0, heatmap_color_0, label_, prediction_ = load_dat(SCENE_DATA_PATH, DATA_STAGES[stage*2-2])\n",
    "scene_tuple_, heatmap_1, heatmap_color_1, label_, prediction_ = load_dat(SCENE_DATA_PATH, DATA_STAGES[stage*2-1])\n",
    "heatmap_ = np.mean([heatmap_0, heatmap_1], axis=0)\n",
    "heatmap_color_ = np.mean([heatmap_color_0, heatmap_color_1], axis=0)\n",
    "print(\"Prediction: {} ({})\".format(prediction_, label_))\n",
    "for cell in get_all_cells(ghnd):\n",
    "    graph.remove_geometry(cell)\n",
    "cells = show_heatmap(graph, heatmap_, None, heatmap_.shape, L_CELL*2**(stage-1), max(0, 4-stage))\n",
    "print()"
   ]
  },
  {
   "cell_type": "code",
   "execution_count": 17,
   "metadata": {},
   "outputs": [
    {
     "data": {
      "text/plain": [
       "array([[[nan]]])"
      ]
     },
     "execution_count": 17,
     "metadata": {},
     "output_type": "execute_result"
    }
   ],
   "source": []
  },
  {
   "cell_type": "code",
   "execution_count": 33,
   "metadata": {},
   "outputs": [],
   "source": [
    "cells = get_all_cells(ghnd)\n",
    "for cell in cells:\n",
    "    graph.remove_geometry(cell)"
   ]
  },
  {
   "cell_type": "code",
   "execution_count": 34,
   "metadata": {},
   "outputs": [],
   "source": [
    "remove1 = [[inhand, obj][iii] for iii in remove_map[0]]\n",
    "remove2 = [[inhand, obj][iii] for iii in remove_map[1]]\n",
    "reset_rendering(graph, action_type, remove1, remove2, dims_bak, color_bak, sleep=True,\n",
    "                vis=VISUALIZE)\n",
    "graph.show_pose(Q_s)"
   ]
  },
  {
   "cell_type": "code",
   "execution_count": null,
   "metadata": {},
   "outputs": [],
   "source": []
  },
  {
   "cell_type": "code",
   "execution_count": 89,
   "metadata": {},
   "outputs": [],
   "source": []
  },
  {
   "cell_type": "code",
   "execution_count": 90,
   "metadata": {},
   "outputs": [
    {
     "data": {
      "text/plain": [
       "[-3.05432619099,\n",
       " -3.05432619099,\n",
       " -3.05432619099,\n",
       " -3.05432619099,\n",
       " -3.05432619099,\n",
       " -3.75245789179,\n",
       " -2.75,\n",
       " -1.7,\n",
       " -2.75,\n",
       " -2.9,\n",
       " -2.75,\n",
       " 0.1,\n",
       " -2.75,\n",
       " 3.05432619099,\n",
       " 3.05432619099,\n",
       " 3.05432619099,\n",
       " 3.05432619099,\n",
       " 3.05432619099,\n",
       " 3.75245789179,\n",
       " 2.75,\n",
       " 1.7,\n",
       " 2.75,\n",
       " -0.1,\n",
       " 2.75,\n",
       " 3.6,\n",
       " 2.75]"
      ]
     },
     "execution_count": 90,
     "metadata": {},
     "output_type": "execute_result"
    }
   ],
   "source": [
    "x"
   ]
  },
  {
   "cell_type": "code",
   "execution_count": null,
   "metadata": {},
   "outputs": [],
   "source": []
  },
  {
   "cell_type": "markdown",
   "metadata": {},
   "source": [
    "## testing motion planning again"
   ]
  },
  {
   "cell_type": "code",
   "execution_count": 45,
   "metadata": {},
   "outputs": [
    {
     "name": "stdout",
     "output_type": "stream",
     "text": [
      "True\n"
     ]
    }
   ],
   "source": [
    "timeout=1\n",
    "if rname and tar:  # handover case\n",
    "    remove_map = [[], [0, 1]]\n",
    "    action_type = \"HANDOVER\"\n",
    "    trajectory, Q_last, error, success_now = test_handover(graph, GRIPPER_REFS, rname, inhand,\n",
    "                                                           obj, tar, Q_s,\n",
    "                                                           dual_mplan_dict[(rname, tar)], timeout=timeout)\n",
    "elif inhand.collision:  # place case\n",
    "    remove_map = [[], [0, 1]]\n",
    "    action_type = \"PLACE\"\n",
    "    trajectory, Q_last, error, success_now = test_place(graph, GRIPPER_REFS, rname, inhand, obj,\n",
    "                                                        tar, Q_s, mplan, timeout=timeout)\n",
    "elif obj.collision:  # pick case\n",
    "    remove_map = [[1], [0]]\n",
    "    action_type = \"PICK\"\n",
    "    trajectory, Q_last, error, success_now = test_pick(graph, GRIPPER_REFS, rname, inhand, obj,\n",
    "                                                       tar, Q_s, mplan, timeout=timeout)\n",
    "else:\n",
    "    remove_map = [[], [0,1]]\n",
    "    action_type = \"None\"\n",
    "    raise (RuntimeError(\"non-implemented case\"))\n",
    "    \n",
    "print(success_now)\n",
    "\n",
    "if VISUALIZE and success_now:\n",
    "    graph.show_motion(trajectory, period=0.1)"
   ]
  },
  {
   "cell_type": "code",
   "execution_count": null,
   "metadata": {},
   "outputs": [],
   "source": []
  },
  {
   "cell_type": "code",
   "execution_count": null,
   "metadata": {},
   "outputs": [],
   "source": []
  },
  {
   "cell_type": "code",
   "execution_count": null,
   "metadata": {},
   "outputs": [],
   "source": []
  }
 ],
 "metadata": {
  "kernelspec": {
   "display_name": "Python 2",
   "language": "python",
   "name": "python2"
  },
  "language_info": {
   "codemirror_mode": {
    "name": "ipython",
    "version": 2
   },
   "file_extension": ".py",
   "mimetype": "text/x-python",
   "name": "python",
   "nbconvert_exporter": "python",
   "pygments_lexer": "ipython2",
   "version": "2.7.17"
  }
 },
 "nbformat": 4,
 "nbformat_minor": 2
}
