{
 "cells": [
  {
   "cell_type": "code",
   "execution_count": 1,
   "metadata": {},
   "outputs": [],
   "source": [
    "import os\n",
    "os.chdir(os.path.dirname(os.getcwd()))"
   ]
  },
  {
   "cell_type": "code",
   "execution_count": null,
   "metadata": {},
   "outputs": [],
   "source": []
  },
  {
   "cell_type": "markdown",
   "metadata": {},
   "source": [
    "## init combined robot config"
   ]
  },
  {
   "cell_type": "code",
   "execution_count": 2,
   "metadata": {},
   "outputs": [
    {
     "name": "stdout",
     "output_type": "stream",
     "text": [
      "connection_list\n",
      "[False, False]\n"
     ]
    }
   ],
   "source": [
    "from pkg.controller.combined_robot import *\n",
    "from pkg.project_config import *\n",
    "\n",
    "crob = CombinedRobot(robots_on_scene=[\n",
    "    RobotConfig(0, RobotType.indy7, None,\n",
    "                INDY_IP),\n",
    "    RobotConfig(1, RobotType.panda, None,\n",
    "                \"{}/{}\".format(PANDA_REPEATER_IP, PANDA_ROBOT_IP))]\n",
    "              , connection_list=[False, False])"
   ]
  },
  {
   "cell_type": "code",
   "execution_count": null,
   "metadata": {},
   "outputs": [],
   "source": []
  },
  {
   "cell_type": "markdown",
   "metadata": {},
   "source": [
    "## init stereo aruco detector"
   ]
  },
  {
   "cell_type": "code",
   "execution_count": 3,
   "metadata": {},
   "outputs": [
    {
     "name": "stdout",
     "output_type": "stream",
     "text": [
      "Device configuration: \n",
      "\tcolor_format: 3 \n",
      "\t(0:JPG, 1:NV12, 2:YUY2, 3:BGRA32)\n",
      "\n",
      "\tcolor_resolution: 5 \n",
      "\t(0:OFF, 1:720p, 2:1080p, 3:1440p, 4:1536p, 5:2160p, 6:3072p)\n",
      "\n",
      "\tdepth_mode: 3 \n",
      "\t(0:OFF, 1:NFOV_2X2BINNED, 2:NFOV_UNBINNED,3:WFOV_2X2BINNED, 4:WFOV_UNBINNED, 5:Passive IR)\n",
      "\n",
      "\tcamera_fps: 2 \n",
      "\t(0:5 FPS, 1:15 FPS, 2:30 FPS)\n",
      "\n",
      "\tsynchronized_images_only: False \n",
      "\t(True of False). Drop images if the color and depth are not synchronized\n",
      "\n",
      "\tdepth_delay_off_color_usec: 0 ms. \n",
      "\tDelay between the color image and the depth image\n",
      "\n",
      "\twired_sync_mode: 0\n",
      "\t(0:Standalone mode, 1:Master mode, 2:Subordinate mode)\n",
      "\n",
      "\tsubordinate_delay_off_master_usec: 0 ms.\n",
      "\tThe external synchronization timing.\n",
      "\n",
      "\tdisable_streaming_indicator: False \n",
      "\t(True or False). Streaming indicator automatically turns on when the color or depth camera's are in use.\n",
      "\n",
      "\n",
      "Start streaming\n"
     ]
    },
    {
     "data": {
      "text/plain": [
       "[(array([[1.82983423e+03, 0.00000000e+00, 1.91572046e+03],\n",
       "         [0.00000000e+00, 1.82983423e+03, 1.09876086e+03],\n",
       "         [0.00000000e+00, 0.00000000e+00, 1.00000000e+00]]),\n",
       "  array([ 7.09966481e-01, -2.73409390e+00,  1.45804870e-03, -3.24774766e-04,\n",
       "          1.44911301e+00,  5.84310412e-01, -2.56374550e+00,  1.38472950e+00])),\n",
       " (array([[1.39560388e+03, 0.00000000e+00, 9.62751587e+02],\n",
       "         [0.00000000e+00, 1.39531934e+03, 5.47687012e+02],\n",
       "         [0.00000000e+00, 0.00000000e+00, 1.00000000e+00]]),\n",
       "  array([0., 0., 0., 0., 0.])),\n",
       " array([[ 0.83015203, -0.03022378, -0.5567173 ,  0.64824885],\n",
       "        [ 0.17376426,  0.9628207 ,  0.2068387 , -0.14275184],\n",
       "        [ 0.52976745, -0.26844513,  0.8045394 ,  0.07201833],\n",
       "        [ 0.        ,  0.        ,  0.        ,  1.        ]],\n",
       "       dtype=float32)]"
      ]
     },
     "execution_count": 3,
     "metadata": {},
     "output_type": "execute_result"
    }
   ],
   "source": [
    "from pkg.marker_config import *\n",
    "from pkg.detector.aruco.stereo import ArucoStereo\n",
    "from pkg.detector.camera.realsense import RealSense\n",
    "from pkg.detector.camera.kinect import Kinect\n",
    "aruco_map = get_aruco_map()\n",
    "stereo = ArucoStereo(aruco_map, [Kinect(), RealSense()])\n",
    "stereo.initialize()\n",
    "stereo.calibrate()"
   ]
  },
  {
   "cell_type": "code",
   "execution_count": null,
   "metadata": {},
   "outputs": [],
   "source": []
  },
  {
   "cell_type": "markdown",
   "metadata": {},
   "source": [
    "## init scene builder"
   ]
  },
  {
   "cell_type": "code",
   "execution_count": 4,
   "metadata": {},
   "outputs": [],
   "source": [
    "from pkg.geometry.builder.scene_builder import SceneBuilder\n",
    "s_builder = SceneBuilder(stereo)\n",
    "s_builder.reset_reference_coord(ref_name=\"floor\")"
   ]
  },
  {
   "cell_type": "code",
   "execution_count": null,
   "metadata": {},
   "outputs": [],
   "source": []
  },
  {
   "cell_type": "markdown",
   "metadata": {},
   "source": [
    "## get ghnd with detected robot config"
   ]
  },
  {
   "cell_type": "code",
   "execution_count": 5,
   "metadata": {
    "scrolled": true
   },
   "outputs": [
    {
     "name": "stderr",
     "output_type": "stream",
     "text": [
      "Unknown tag \"hardwareInterface\" in /robot[@name='custom_robots']/transmission[@name='indy0_tran0']/actuator[@name='indy0_motor0']\n",
      "Unknown tag \"hardwareInterface\" in /robot[@name='custom_robots']/transmission[@name='indy0_tran1']/actuator[@name='indy0_motor1']\n",
      "Unknown tag \"hardwareInterface\" in /robot[@name='custom_robots']/transmission[@name='indy0_tran2']/actuator[@name='indy0_motor2']\n",
      "Unknown tag \"hardwareInterface\" in /robot[@name='custom_robots']/transmission[@name='indy0_tran3']/actuator[@name='indy0_motor3']\n",
      "Unknown tag \"hardwareInterface\" in /robot[@name='custom_robots']/transmission[@name='indy0_tran4']/actuator[@name='indy0_motor4']\n",
      "Unknown tag \"hardwareInterface\" in /robot[@name='custom_robots']/transmission[@name='indy0_tran5']/actuator[@name='indy0_motor5']\n"
     ]
    },
    {
     "name": "stdout",
     "output_type": "stream",
     "text": [
      "Please create a subscriber to the marker\n",
      "publication OK\n",
      "published: [0, 0, 0, 0, 0, 0, 0, 0, 0, 0, 0, 0, 0]\n"
     ]
    }
   ],
   "source": [
    "xyz_rpy_robots = s_builder.detect_items(level_mask=[DetectionLevel.ROBOT])\n",
    "crob.update_robot_pos_dict(xyz_rpy_robots=xyz_rpy_robots)\n",
    "gscene = s_builder.create_gscene(crob)"
   ]
  },
  {
   "cell_type": "code",
   "execution_count": null,
   "metadata": {},
   "outputs": [],
   "source": []
  },
  {
   "cell_type": "markdown",
   "metadata": {},
   "source": [
    "## add environment"
   ]
  },
  {
   "cell_type": "code",
   "execution_count": 6,
   "metadata": {},
   "outputs": [
    {
     "name": "stdout",
     "output_type": "stream",
     "text": [
      "Please create a subscriber to the marker\n"
     ]
    }
   ],
   "source": [
    "gtem_dict = s_builder.detect_and_register(level_mask=[DetectionLevel.ENVIRONMENT])"
   ]
  },
  {
   "cell_type": "code",
   "execution_count": 7,
   "metadata": {},
   "outputs": [],
   "source": [
    "# add cam poles\n",
    "ptems = s_builder.add_poles({\"cam0\": s_builder.ref_coord_inv[:3,3], \"cam1\":np.matmul(s_builder.ref_coord_inv, stereo.T_c12)[:3,3]})"
   ]
  },
  {
   "cell_type": "code",
   "execution_count": 8,
   "metadata": {},
   "outputs": [],
   "source": [
    "gtems = s_builder.add_robot_geometries(color=(0,1,0,0.5), display=True, collision=True, exclude_link=[\"panda1_link7\"])"
   ]
  },
  {
   "cell_type": "code",
   "execution_count": 9,
   "metadata": {},
   "outputs": [],
   "source": [
    "gtem_dict[\"floor\"].set_offset_tf(center=tuple(np.add(gtem_dict[\"floor\"].center, (0,0,-0.002))))\n",
    "gscene.set_rviz()"
   ]
  },
  {
   "cell_type": "markdown",
   "metadata": {},
   "source": [
    "## add movable"
   ]
  },
  {
   "cell_type": "code",
   "execution_count": 10,
   "metadata": {},
   "outputs": [],
   "source": [
    "gtem_dict = s_builder.detect_and_register(level_mask=[DetectionLevel.MOVABLE])"
   ]
  },
  {
   "cell_type": "code",
   "execution_count": null,
   "metadata": {},
   "outputs": [],
   "source": []
  },
  {
   "cell_type": "markdown",
   "metadata": {},
   "source": [
    "## test sub-geometry"
   ]
  },
  {
   "cell_type": "code",
   "execution_count": 11,
   "metadata": {
    "scrolled": true
   },
   "outputs": [
    {
     "data": {
      "text/plain": [
       "<pkg.geometry.geometry.GeometryItem at 0x7fb7494fd050>"
      ]
     },
     "execution_count": 11,
     "metadata": {},
     "output_type": "execute_result"
    }
   ],
   "source": [
    "gscene.create_safe(gtype=GEOTYPE.BOX, name=\"box2_1\", link_name=\"base_link\", dims=(0.03,0.03,0.03), \n",
    "                   center=(0.04,0,0), rpy=(0,0,0), color=(0,1,0,1), display=True,\n",
    "                   collision=True, parent=\"box2\")"
   ]
  },
  {
   "cell_type": "code",
   "execution_count": null,
   "metadata": {},
   "outputs": [],
   "source": []
  },
  {
   "cell_type": "markdown",
   "metadata": {},
   "source": [
    "## init planning scene"
   ]
  },
  {
   "cell_type": "code",
   "execution_count": 12,
   "metadata": {},
   "outputs": [],
   "source": [
    "from pkg.planning.scene import PlanningScene\n",
    "pscene = PlanningScene(gscene, combined_robot=crob)"
   ]
  },
  {
   "cell_type": "code",
   "execution_count": null,
   "metadata": {},
   "outputs": [],
   "source": []
  },
  {
   "cell_type": "markdown",
   "metadata": {},
   "source": [
    "## Register binders"
   ]
  },
  {
   "cell_type": "code",
   "execution_count": 13,
   "metadata": {},
   "outputs": [],
   "source": [
    "from pkg.planning.constraint.constraint_actor import Gripper2Tool, PlacePlane"
   ]
  },
  {
   "cell_type": "code",
   "execution_count": 14,
   "metadata": {},
   "outputs": [
    {
     "data": {
      "text/plain": [
       "<pkg.geometry.geometry.GeometryItem at 0x7fb7494e8910>"
      ]
     },
     "execution_count": 14,
     "metadata": {},
     "output_type": "execute_result"
    }
   ],
   "source": [
    "gscene.create_safe(gtype=GEOTYPE.SPHERE, name=\"grip0\", link_name=\"indy0_tcp\", \n",
    "                 dims=(0.01,)*3, center=(0,0,0.14), rpy=(-np.pi/2,0,0), color=(1,0,0,1), display=True, collision=False, fixed=True)\n",
    "gscene.create_safe(gtype=GEOTYPE.SPHERE, name=\"grip1\", link_name=\"panda1_hand\", \n",
    "                 dims=(0.01,)*3, center=(0,0,0.112), rpy=(-np.pi/2,0,0), color=(1,0,0,1), display=True, collision=False, fixed=True)"
   ]
  },
  {
   "cell_type": "code",
   "execution_count": 15,
   "metadata": {},
   "outputs": [
    {
     "data": {
      "text/plain": [
       "<pkg.planning.constraint.constraint_actor.PlacePlane at 0x7fb748b63810>"
      ]
     },
     "execution_count": 15,
     "metadata": {},
     "output_type": "execute_result"
    }
   ],
   "source": [
    "pscene.create_binder(bname=\"grip0\", gname=\"grip0\", _type=Gripper2Tool, point=(0,0,0), rpy=(0,0,0))\n",
    "pscene.create_binder(bname=\"grip1\", gname=\"grip1\", _type=Gripper2Tool, point=(0,0,0), rpy=(0,0,0))\n",
    "pscene.create_binder(bname=\"floor\", gname=\"floor\", _type=PlacePlane)\n",
    "pscene.create_binder(bname=\"goal_bd\", gname=\"goal\", _type=PlacePlane, point=(0,0,0.02), rpy=(0,0,0))"
   ]
  },
  {
   "cell_type": "code",
   "execution_count": null,
   "metadata": {},
   "outputs": [],
   "source": []
  },
  {
   "cell_type": "markdown",
   "metadata": {},
   "source": [
    "## add objects"
   ]
  },
  {
   "cell_type": "code",
   "execution_count": 16,
   "metadata": {},
   "outputs": [],
   "source": [
    "from pkg.planning.constraint.constraint_subject import BoxObject"
   ]
  },
  {
   "cell_type": "code",
   "execution_count": 17,
   "metadata": {},
   "outputs": [],
   "source": [
    "box1 = pscene.create_object(oname=\"box1\", gname=\"box1\", _type=BoxObject, hexahedral=True)\n",
    "box2= pscene.create_object(oname=\"box2\", gname=\"box2\", _type=BoxObject, hexahedral=True)"
   ]
  },
  {
   "cell_type": "code",
   "execution_count": null,
   "metadata": {},
   "outputs": [],
   "source": []
  },
  {
   "cell_type": "markdown",
   "metadata": {},
   "source": [
    "## Register object binders"
   ]
  },
  {
   "cell_type": "code",
   "execution_count": 18,
   "metadata": {},
   "outputs": [],
   "source": [
    "box1.register_binders(pscene, PlacePlane)\n",
    "box2.register_binders(pscene, PlacePlane)"
   ]
  },
  {
   "cell_type": "code",
   "execution_count": null,
   "metadata": {},
   "outputs": [],
   "source": []
  },
  {
   "cell_type": "markdown",
   "metadata": {},
   "source": [
    "## Motion Planning"
   ]
  },
  {
   "cell_type": "code",
   "execution_count": 19,
   "metadata": {},
   "outputs": [],
   "source": [
    "from pkg.planning.motion.moveit.moveit_planner import MoveitPlanner\n",
    "mplan = MoveitPlanner(pscene)\n",
    "mplan.update_gscene()"
   ]
  },
  {
   "cell_type": "code",
   "execution_count": 20,
   "metadata": {},
   "outputs": [],
   "source": [
    "from pkg.planning.task.object_a_star import ObjectAstar\n",
    "tplan = ObjectAstar(pscene)\n",
    "tplan.prepare()"
   ]
  },
  {
   "cell_type": "code",
   "execution_count": 21,
   "metadata": {},
   "outputs": [],
   "source": [
    "from pkg.planning.pipeline import PlanningPipeline\n",
    "ppline = PlanningPipeline(pscene)\n",
    "ppline.set_motion(mplan)\n",
    "ppline.set_sampler(tplan)"
   ]
  },
  {
   "cell_type": "code",
   "execution_count": null,
   "metadata": {},
   "outputs": [],
   "source": []
  },
  {
   "cell_type": "markdown",
   "metadata": {},
   "source": [
    "## test planning"
   ]
  },
  {
   "cell_type": "code",
   "execution_count": 22,
   "metadata": {},
   "outputs": [],
   "source": [
    "from pkg.planning.constraint.constraint_common \\\n",
    "            import sample_redundancy, combine_redundancy\n",
    "\n",
    "obj, handle, binder = \"box2\", \"left_p\", \"goal_bd\"\n",
    "from_state = pscene.update_state(crob.home_pose)\n",
    "goal_nodes = [(\"floor\", \"goal\")]"
   ]
  },
  {
   "cell_type": "code",
   "execution_count": 23,
   "metadata": {
    "scrolled": true
   },
   "outputs": [
    {
     "name": "stdout",
     "output_type": "stream",
     "text": [
      "__test_transition node: ('floor', 'floor') -> ('floor', 'grip0')\n",
      "node: ('floor', 'floor')->('floor', 'grip0') = fail\n",
      "__test_transition node: ('floor', 'floor') -> ('floor', 'grip0')\n",
      "node: ('floor', 'floor')->('floor', 'grip0') = fail\n",
      "__test_transition node: ('floor', 'floor') -> ('floor', 'grip0')\n",
      "node: ('floor', 'floor')->('floor', 'grip0') = fail\n",
      "__test_transition node: ('floor', 'floor') -> ('floor', 'grip0')\n",
      "node: ('floor', 'floor')->('floor', 'grip0') = fail\n",
      "__test_transition node: ('floor', 'floor') -> ('floor', 'grip0')\n",
      "node: ('floor', 'floor')->('floor', 'grip0') = fail\n",
      "__test_transition node: ('floor', 'floor') -> ('floor', 'grip0')\n",
      "node: ('floor', 'floor')->('floor', 'grip0') = fail\n",
      "__test_transition node: ('floor', 'floor') -> ('floor', 'grip0')\n",
      "node: ('floor', 'floor')->('floor', 'grip0') = fail\n",
      "__test_transition node: ('floor', 'floor') -> ('floor', 'grip0')\n",
      "node: ('floor', 'floor')->('floor', 'grip0') = fail\n",
      "__test_transition node: ('floor', 'floor') -> ('floor', 'grip0')\n",
      "node: ('floor', 'floor')->('floor', 'grip0') = success\n",
      "Remaining:2->1 / branching: 0->1 (1.5/600.0 s, steps/err: 12(405.854225159 ms)/1.80797213711)\n",
      "======================================================================================================================================================\n",
      "__test_transition node: ('floor', 'grip0') -> ('floor', 'goal')\n",
      "node: ('floor', 'grip0')->('floor', 'goal') = fail\n",
      "__test_transition node: ('floor', 'grip0') -> ('floor', 'goal')\n",
      "node: ('floor', 'grip0')->('floor', 'goal') = fail\n",
      "__test_transition node: ('floor', 'grip0') -> ('floor', 'goal')\n",
      "node: ('floor', 'grip0')->('floor', 'goal') = fail\n",
      "__test_transition node: ('floor', 'grip0') -> ('floor', 'goal')\n",
      "node: ('floor', 'grip0')->('floor', 'goal') = fail\n",
      "__test_transition node: ('floor', 'grip0') -> ('floor', 'goal')\n",
      "node: ('floor', 'grip0')->('floor', 'goal') = fail\n",
      "__test_transition node: ('floor', 'grip0') -> ('floor', 'goal')\n",
      "node: ('floor', 'grip0')->('floor', 'goal') = fail\n",
      "__test_transition node: ('floor', 'grip0') -> ('floor', 'goal')\n",
      "node: ('floor', 'grip0')->('floor', 'goal') = fail\n",
      "__test_transition node: ('floor', 'grip0') -> ('floor', 'goal')\n",
      "node: ('floor', 'grip0')->('floor', 'goal') = success\n",
      "Remaining:1->0 / branching: 1->2 (3.03/600.0 s, steps/err: 17(569.427013397 ms)/0.00136931013891)\n",
      "======================================================================================================================================================\n",
      "=========================================================================================================\n",
      "======================= terminated 0: first answer acquired ===============================\n",
      "=========================================================================================================\n"
     ]
    }
   ],
   "source": [
    "ppline.search(from_state, goal_nodes, verbose=True, display=True, dt_vis=0.01)\n",
    "schedules = ppline.find_schedules()\n",
    "schedules_sorted = ppline.sort_schedule(schedules)\n",
    "snode_schedule = ppline.idxSchedule2SnodeScedule(schedules_sorted[0])"
   ]
  },
  {
   "cell_type": "code",
   "execution_count": null,
   "metadata": {},
   "outputs": [],
   "source": []
  },
  {
   "cell_type": "code",
   "execution_count": 24,
   "metadata": {},
   "outputs": [],
   "source": [
    "ppline.play_schedule(snode_schedule, period = 0.1)"
   ]
  },
  {
   "cell_type": "code",
   "execution_count": null,
   "metadata": {},
   "outputs": [],
   "source": []
  },
  {
   "cell_type": "markdown",
   "metadata": {},
   "source": [
    "### multiprocess"
   ]
  },
  {
   "cell_type": "code",
   "execution_count": 24,
   "metadata": {},
   "outputs": [
    {
     "name": "stdout",
     "output_type": "stream",
     "text": [
      "Use 20/20 agents\n",
      "=========================================================================================================\n",
      "======================= terminated 1: first answer acquired ===============================\n",
      "=========================================================================================================\n",
      "=========================================================================================================\n",
      "=========================================================================================================\n",
      "=========================================================================================================\n",
      "=========================================================================================================\n",
      "======================= terminated 6: first answer acquired from other agent ===============================\n",
      "=========================================================================================================\n",
      "=========================================================================================================\n",
      "=========================================================================================================\n",
      "======================= terminated 11: first answer acquired from other agent ===============================\n",
      "======================= terminated 3: first answer acquired ===============================\n",
      "======================= terminated 9: first answer acquired from other agent ===============================\n",
      "=========================================================================================================\n",
      "=========================================================================================================\n",
      "=========================================================================================================\n",
      "======================= terminated 0: first answer acquired from other agent ===============================\n",
      "=========================================================================================================\n",
      "======================= terminated 7: first answer acquired ===============================\n",
      "======================= terminated 2: first answer acquired from other agent ===============================\n",
      "=========================================================================================================\n",
      "=========================================================================================================\n",
      "=========================================================================================================\n",
      "=========================================================================================================\n",
      "======================= terminated 10: first answer acquired from other agent ===============================\n",
      "======================= terminated 13: first answer acquired from other agent ===============================\n",
      "=========================================================================================================\n",
      "=========================================================================================================\n",
      "=========================================================================================================\n",
      "=========================================================================================================\n",
      "=========================================================================================================\n",
      "=========================================================================================================\n",
      "======================= terminated 4: first answer acquired from other agent ===============================\n",
      "=========================================================================================================\n",
      "======================= terminated 5: first answer acquired from other agent ===============================\n",
      "======================= terminated 16: first answer acquired from other agent ===============================\n",
      "=========================================================================================================\n",
      "======================= terminated 12: first answer acquired from other agent ===============================\n",
      "=========================================================================================================\n",
      "=========================================================================================================\n",
      "=========================================================================================================\n",
      "======================= terminated 15: first answer acquired from other agent ===============================\n",
      "=========================================================================================================\n",
      "=========================================================================================================\n",
      "=========================================================================================================\n",
      "======================= terminated 14: first answer acquired from other agent ===============================\n",
      "=========================================================================================================\n",
      "=========================================================================================================\n",
      "======================= terminated 17: first answer acquired from other agent ===============================\n",
      "=========================================================================================================\n",
      "=========================================================================================================\n",
      "======================= terminated 18: first answer acquired from other agent ===============================\n",
      "=========================================================================================================\n",
      "=========================================================================================================\n",
      "======================= terminated 8: first answer acquired from other agent ===============================\n",
      "=========================================================================================================\n",
      "=========================================================================================================\n",
      "======================= terminated 19: first answer acquired from other agent ===============================\n",
      "=========================================================================================================\n"
     ]
    }
   ],
   "source": [
    "ppline.search(from_state, goal_nodes, multiprocess=True, verbose=False)\n",
    "schedules = ppline.find_schedules()\n",
    "schedules_sorted = ppline.sort_schedule(schedules)\n",
    "snode_schedule = ppline.idxSchedule2SnodeScedule(schedules_sorted[0])"
   ]
  },
  {
   "cell_type": "code",
   "execution_count": 25,
   "metadata": {},
   "outputs": [],
   "source": [
    "ppline.play_schedule(snode_schedule, period = 0.03)"
   ]
  },
  {
   "cell_type": "code",
   "execution_count": null,
   "metadata": {},
   "outputs": [],
   "source": []
  },
  {
   "cell_type": "code",
   "execution_count": null,
   "metadata": {},
   "outputs": [],
   "source": []
  }
 ],
 "metadata": {
  "kernelspec": {
   "display_name": "Python 2",
   "language": "python",
   "name": "python2"
  },
  "language_info": {
   "codemirror_mode": {
    "name": "ipython",
    "version": 2
   },
   "file_extension": ".py",
   "mimetype": "text/x-python",
   "name": "python",
   "nbconvert_exporter": "python",
   "pygments_lexer": "ipython2",
   "version": "2.7.17"
  }
 },
 "nbformat": 4,
 "nbformat_minor": 2
}
