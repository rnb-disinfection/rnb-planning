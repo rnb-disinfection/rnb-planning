{
 "cells": [
  {
   "cell_type": "code",
   "execution_count": 1,
   "metadata": {},
   "outputs": [],
   "source": [
    "import os\n",
    "os.chdir(os.path.dirname(os.getcwd()))"
   ]
  },
  {
   "cell_type": "code",
   "execution_count": null,
   "metadata": {},
   "outputs": [],
   "source": []
  },
  {
   "cell_type": "markdown",
   "metadata": {},
   "source": [
    "## test kinect"
   ]
  },
  {
   "cell_type": "code",
   "execution_count": 5,
   "metadata": {},
   "outputs": [],
   "source": [
    "from pkg.detector.camera.kinect import Kinect"
   ]
  },
  {
   "cell_type": "code",
   "execution_count": 6,
   "metadata": {},
   "outputs": [],
   "source": [
    "kinect = Kinect()"
   ]
  },
  {
   "cell_type": "code",
   "execution_count": 7,
   "metadata": {},
   "outputs": [
    {
     "name": "stdout",
     "output_type": "stream",
     "text": [
      "Device configuration: \n",
      "\tcolor_format: 3 \n",
      "\t(0:JPG, 1:NV12, 2:YUY2, 3:BGRA32)\n",
      "\n",
      "\tcolor_resolution: 5 \n",
      "\t(0:OFF, 1:720p, 2:1080p, 3:1440p, 4:1536p, 5:2160p, 6:3072p)\n",
      "\n",
      "\tdepth_mode: 3 \n",
      "\t(0:OFF, 1:NFOV_2X2BINNED, 2:NFOV_UNBINNED,3:WFOV_2X2BINNED, 4:WFOV_UNBINNED, 5:Passive IR)\n",
      "\n",
      "\tcamera_fps: 2 \n",
      "\t(0:5 FPS, 1:15 FPS, 2:30 FPS)\n",
      "\n",
      "\tsynchronized_images_only: False \n",
      "\t(True of False). Drop images if the color and depth are not synchronized\n",
      "\n",
      "\tdepth_delay_off_color_usec: 0 ms. \n",
      "\tDelay between the color image and the depth image\n",
      "\n",
      "\twired_sync_mode: 0\n",
      "\t(0:Standalone mode, 1:Master mode, 2:Subordinate mode)\n",
      "\n",
      "\tsubordinate_delay_off_master_usec: 0 ms.\n",
      "\tThe external synchronization timing.\n",
      "\n",
      "\tdisable_streaming_indicator: False \n",
      "\t(True or False). Streaming indicator automatically turns on when the color or depth camera's are in use.\n",
      "\n",
      "\n"
     ]
    }
   ],
   "source": [
    "kinect.initialize()"
   ]
  },
  {
   "cell_type": "code",
   "execution_count": 8,
   "metadata": {},
   "outputs": [
    {
     "data": {
      "text/plain": [
       "(array([[1.82983423e+03, 0.00000000e+00, 1.91572046e+03],\n",
       "        [0.00000000e+00, 1.82983423e+03, 1.09876086e+03],\n",
       "        [0.00000000e+00, 0.00000000e+00, 1.00000000e+00]]),\n",
       " array([ 7.09966481e-01, -2.73409390e+00,  1.45804870e-03, -3.24774766e-04,\n",
       "         1.44911301e+00,  5.84310412e-01, -2.56374550e+00,  1.38472950e+00]))"
      ]
     },
     "execution_count": 8,
     "metadata": {},
     "output_type": "execute_result"
    }
   ],
   "source": [
    "kinect.get_config()"
   ]
  },
  {
   "cell_type": "code",
   "execution_count": 9,
   "metadata": {},
   "outputs": [
    {
     "data": {
      "text/plain": [
       "array([[[185, 192, 165],\n",
       "        [186, 193, 166],\n",
       "        [187, 194, 167],\n",
       "        ...,\n",
       "        [159, 185, 171],\n",
       "        [157, 186, 171],\n",
       "        [155, 184, 169]],\n",
       "\n",
       "       [[187, 194, 167],\n",
       "        [186, 193, 166],\n",
       "        [185, 192, 165],\n",
       "        ...,\n",
       "        [157, 183, 169],\n",
       "        [158, 184, 170],\n",
       "        [158, 184, 170]],\n",
       "\n",
       "       [[186, 192, 167],\n",
       "        [185, 191, 166],\n",
       "        [184, 190, 165],\n",
       "        ...,\n",
       "        [157, 183, 169],\n",
       "        [158, 184, 170],\n",
       "        [158, 184, 170]],\n",
       "\n",
       "       ...,\n",
       "\n",
       "       [[ 78,  95,  82],\n",
       "        [ 78,  95,  82],\n",
       "        [ 77,  94,  80],\n",
       "        ...,\n",
       "        [142, 152, 129],\n",
       "        [142, 152, 129],\n",
       "        [142, 152, 129]],\n",
       "\n",
       "       [[ 78,  95,  82],\n",
       "        [ 78,  95,  82],\n",
       "        [ 77,  94,  81],\n",
       "        ...,\n",
       "        [142, 152, 129],\n",
       "        [142, 152, 129],\n",
       "        [142, 152, 129]],\n",
       "\n",
       "       [[ 77,  94,  81],\n",
       "        [ 78,  95,  82],\n",
       "        [ 77,  94,  81],\n",
       "        ...,\n",
       "        [142, 152, 129],\n",
       "        [142, 152, 129],\n",
       "        [142, 152, 129]]], dtype=uint8)"
      ]
     },
     "execution_count": 9,
     "metadata": {},
     "output_type": "execute_result"
    }
   ],
   "source": [
    "kinect.get_image()"
   ]
  },
  {
   "cell_type": "code",
   "execution_count": 10,
   "metadata": {},
   "outputs": [],
   "source": [
    "kinect.disconnect()"
   ]
  },
  {
   "cell_type": "code",
   "execution_count": null,
   "metadata": {},
   "outputs": [],
   "source": []
  },
  {
   "cell_type": "markdown",
   "metadata": {},
   "source": [
    "# test real sense"
   ]
  },
  {
   "cell_type": "code",
   "execution_count": 11,
   "metadata": {},
   "outputs": [],
   "source": [
    "from pkg.detector.camera.realsense import RealSense"
   ]
  },
  {
   "cell_type": "code",
   "execution_count": 12,
   "metadata": {},
   "outputs": [],
   "source": [
    "rss = RealSense()"
   ]
  },
  {
   "cell_type": "code",
   "execution_count": 16,
   "metadata": {},
   "outputs": [
    {
     "name": "stdout",
     "output_type": "stream",
     "text": [
      "Start streaming\n"
     ]
    },
    {
     "data": {
      "text/plain": [
       "<pyrealsense2.pyrealsense2.pipeline at 0x7f59d3abfe70>"
      ]
     },
     "execution_count": 16,
     "metadata": {},
     "output_type": "execute_result"
    }
   ],
   "source": [
    "rss.initialize()"
   ]
  },
  {
   "cell_type": "code",
   "execution_count": 17,
   "metadata": {},
   "outputs": [
    {
     "data": {
      "text/plain": [
       "(array([[1.39560388e+03, 0.00000000e+00, 9.62751587e+02],\n",
       "        [0.00000000e+00, 1.39531934e+03, 5.47687012e+02],\n",
       "        [0.00000000e+00, 0.00000000e+00, 1.00000000e+00]]),\n",
       " array([0., 0., 0., 0., 0.]))"
      ]
     },
     "execution_count": 17,
     "metadata": {},
     "output_type": "execute_result"
    }
   ],
   "source": [
    "rss.get_config()"
   ]
  },
  {
   "cell_type": "code",
   "execution_count": 18,
   "metadata": {},
   "outputs": [
    {
     "data": {
      "text/plain": [
       "array([[[ 86, 103, 117],\n",
       "        [ 88, 105, 119],\n",
       "        [ 84, 102, 119],\n",
       "        ...,\n",
       "        [134, 143, 154],\n",
       "        [133, 144, 157],\n",
       "        [132, 143, 156]],\n",
       "\n",
       "       [[ 86, 103, 117],\n",
       "        [ 88, 105, 119],\n",
       "        [ 84, 103, 117],\n",
       "        ...,\n",
       "        [134, 143, 154],\n",
       "        [133, 145, 155],\n",
       "        [132, 144, 154]],\n",
       "\n",
       "       [[ 86, 103, 117],\n",
       "        [ 86, 103, 117],\n",
       "        [ 84, 103, 117],\n",
       "        ...,\n",
       "        [135, 144, 155],\n",
       "        [135, 144, 155],\n",
       "        [135, 144, 155]],\n",
       "\n",
       "       ...,\n",
       "\n",
       "       [[ 59,  67,  74],\n",
       "        [ 59,  67,  74],\n",
       "        [ 58,  68,  75],\n",
       "        ...,\n",
       "        [193, 185, 190],\n",
       "        [191, 186, 190],\n",
       "        [190, 185, 189]],\n",
       "\n",
       "       [[ 58,  66,  73],\n",
       "        [ 60,  68,  75],\n",
       "        [ 58,  68,  75],\n",
       "        ...,\n",
       "        [193, 185, 190],\n",
       "        [193, 185, 190],\n",
       "        [192, 184, 189]],\n",
       "\n",
       "       [[ 58,  67,  71],\n",
       "        [ 60,  69,  73],\n",
       "        [ 58,  69,  73],\n",
       "        ...,\n",
       "        [192, 184, 189],\n",
       "        [191, 182, 189],\n",
       "        [191, 182, 189]]], dtype=uint8)"
      ]
     },
     "execution_count": 18,
     "metadata": {},
     "output_type": "execute_result"
    }
   ],
   "source": [
    "rss.get_image()"
   ]
  },
  {
   "cell_type": "code",
   "execution_count": 19,
   "metadata": {},
   "outputs": [],
   "source": [
    "rss.disconnect()"
   ]
  },
  {
   "cell_type": "code",
   "execution_count": null,
   "metadata": {},
   "outputs": [],
   "source": []
  },
  {
   "cell_type": "markdown",
   "metadata": {},
   "source": [
    "# test stereo aruco"
   ]
  },
  {
   "cell_type": "code",
   "execution_count": 2,
   "metadata": {},
   "outputs": [],
   "source": [
    "from pkg.marker_config import *"
   ]
  },
  {
   "cell_type": "code",
   "execution_count": 3,
   "metadata": {},
   "outputs": [],
   "source": [
    "from pkg.detector.aruco.stereo import ArucoStereo\n",
    "from pkg.detector.camera.realsense import RealSense\n",
    "from pkg.detector.camera.kinect import Kinect"
   ]
  },
  {
   "cell_type": "code",
   "execution_count": 4,
   "metadata": {},
   "outputs": [],
   "source": [
    "aruco_map = get_aruco_map()"
   ]
  },
  {
   "cell_type": "code",
   "execution_count": 5,
   "metadata": {},
   "outputs": [],
   "source": [
    "stereo = ArucoStereo(aruco_map, [Kinect(), RealSense()])"
   ]
  },
  {
   "cell_type": "code",
   "execution_count": 6,
   "metadata": {},
   "outputs": [
    {
     "name": "stdout",
     "output_type": "stream",
     "text": [
      "Device configuration: \n",
      "\tcolor_format: 3 \n",
      "\t(0:JPG, 1:NV12, 2:YUY2, 3:BGRA32)\n",
      "\n",
      "\tcolor_resolution: 5 \n",
      "\t(0:OFF, 1:720p, 2:1080p, 3:1440p, 4:1536p, 5:2160p, 6:3072p)\n",
      "\n",
      "\tdepth_mode: 3 \n",
      "\t(0:OFF, 1:NFOV_2X2BINNED, 2:NFOV_UNBINNED,3:WFOV_2X2BINNED, 4:WFOV_UNBINNED, 5:Passive IR)\n",
      "\n",
      "\tcamera_fps: 2 \n",
      "\t(0:5 FPS, 1:15 FPS, 2:30 FPS)\n",
      "\n",
      "\tsynchronized_images_only: False \n",
      "\t(True of False). Drop images if the color and depth are not synchronized\n",
      "\n",
      "\tdepth_delay_off_color_usec: 0 ms. \n",
      "\tDelay between the color image and the depth image\n",
      "\n",
      "\twired_sync_mode: 0\n",
      "\t(0:Standalone mode, 1:Master mode, 2:Subordinate mode)\n",
      "\n",
      "\tsubordinate_delay_off_master_usec: 0 ms.\n",
      "\tThe external synchronization timing.\n",
      "\n",
      "\tdisable_streaming_indicator: False \n",
      "\t(True or False). Streaming indicator automatically turns on when the color or depth camera's are in use.\n",
      "\n",
      "\n",
      "Start streaming\n"
     ]
    }
   ],
   "source": [
    "stereo.initialize()"
   ]
  },
  {
   "cell_type": "code",
   "execution_count": 7,
   "metadata": {},
   "outputs": [
    {
     "data": {
      "text/plain": [
       "[(array([[1.82983423e+03, 0.00000000e+00, 1.91572046e+03],\n",
       "         [0.00000000e+00, 1.82983423e+03, 1.09876086e+03],\n",
       "         [0.00000000e+00, 0.00000000e+00, 1.00000000e+00]]),\n",
       "  array([ 7.09966481e-01, -2.73409390e+00,  1.45804870e-03, -3.24774766e-04,\n",
       "          1.44911301e+00,  5.84310412e-01, -2.56374550e+00,  1.38472950e+00])),\n",
       " (array([[1.39560388e+03, 0.00000000e+00, 9.62751587e+02],\n",
       "         [0.00000000e+00, 1.39531934e+03, 5.47687012e+02],\n",
       "         [0.00000000e+00, 0.00000000e+00, 1.00000000e+00]]),\n",
       "  array([0., 0., 0., 0., 0.])),\n",
       " array([[ 9.9998528e-01,  2.3922087e-04,  5.4210830e-03, -5.1299203e-03],\n",
       "        [-1.9457014e-04,  9.9996608e-01, -8.2355291e-03,  7.4986615e-03],\n",
       "        [-5.4228692e-03,  8.2343528e-03,  9.9995142e-01,  2.2322575e-02],\n",
       "        [ 0.0000000e+00,  0.0000000e+00,  0.0000000e+00,  1.0000000e+00]],\n",
       "       dtype=float32)]"
      ]
     },
     "execution_count": 7,
     "metadata": {},
     "output_type": "execute_result"
    }
   ],
   "source": [
    "stereo.calibrate()"
   ]
  },
  {
   "cell_type": "code",
   "execution_count": 8,
   "metadata": {},
   "outputs": [],
   "source": [
    "object_pose_dict =  stereo.detect()"
   ]
  },
  {
   "cell_type": "code",
   "execution_count": 10,
   "metadata": {},
   "outputs": [],
   "source": [
    "stereo.disconnect()"
   ]
  },
  {
   "cell_type": "code",
   "execution_count": null,
   "metadata": {},
   "outputs": [],
   "source": []
  }
 ],
 "metadata": {
  "kernelspec": {
   "display_name": "Python 2",
   "language": "python",
   "name": "python2"
  },
  "language_info": {
   "codemirror_mode": {
    "name": "ipython",
    "version": 2
   },
   "file_extension": ".py",
   "mimetype": "text/x-python",
   "name": "python",
   "nbconvert_exporter": "python",
   "pygments_lexer": "ipython2",
   "version": "2.7.17"
  }
 },
 "nbformat": 4,
 "nbformat_minor": 2
}
