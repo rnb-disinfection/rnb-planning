{
 "cells": [
  {
   "cell_type": "code",
   "execution_count": 1,
   "metadata": {},
   "outputs": [],
   "source": [
    "import os\n",
    "os.chdir(os.path.join(os.environ[\"RNB_PLANNING_DIR\"], \"src\"))"
   ]
  },
  {
   "cell_type": "code",
   "execution_count": null,
   "metadata": {},
   "outputs": [],
   "source": []
  },
  {
   "cell_type": "markdown",
   "metadata": {},
   "source": [
    "## create scene builder"
   ]
  },
  {
   "cell_type": "code",
   "execution_count": 2,
   "metadata": {},
   "outputs": [],
   "source": [
    "from pkg.geometry.builder.scene_builder import SceneBuilder\n",
    "s_builder = SceneBuilder(None, base_link=\"base_link\")\n",
    "# s_builder.reset_reference_coord(ref_name=\"floor\")"
   ]
  },
  {
   "cell_type": "markdown",
   "metadata": {},
   "source": [
    "## init combined robot config"
   ]
  },
  {
   "cell_type": "code",
   "execution_count": 3,
   "metadata": {},
   "outputs": [
    {
     "name": "stdout",
     "output_type": "stream",
     "text": [
      "connection_list\n",
      "[False]\n",
      "Unable to register with master node [http://localhost:11311]: master may not be running yet. Will keep trying.\n"
     ]
    },
    {
     "name": "stderr",
     "output_type": "stream",
     "text": [
      "Unknown tag \"hardwareInterface\" in /robot[@name='custom_robots']/transmission[@name='indy0_tran0']/actuator[@name='indy0_motor0']\n",
      "Unknown tag \"hardwareInterface\" in /robot[@name='custom_robots']/transmission[@name='indy0_tran1']/actuator[@name='indy0_motor1']\n",
      "Unknown tag \"hardwareInterface\" in /robot[@name='custom_robots']/transmission[@name='indy0_tran2']/actuator[@name='indy0_motor2']\n",
      "Unknown tag \"hardwareInterface\" in /robot[@name='custom_robots']/transmission[@name='indy0_tran3']/actuator[@name='indy0_motor3']\n",
      "Unknown tag \"hardwareInterface\" in /robot[@name='custom_robots']/transmission[@name='indy0_tran4']/actuator[@name='indy0_motor4']\n",
      "Unknown tag \"hardwareInterface\" in /robot[@name='custom_robots']/transmission[@name='indy0_tran5']/actuator[@name='indy0_motor5']\n"
     ]
    },
    {
     "name": "stdout",
     "output_type": "stream",
     "text": [
      "Please create a subscriber to the marker\n",
      "publication OK\n",
      "published: [0, 0, 0, 0, 0, 0]\n"
     ]
    }
   ],
   "source": [
    "from pkg.controller.combined_robot import *\n",
    "from pkg.project_config import *\n",
    "\n",
    "crob = CombinedRobot(robots_on_scene=[\n",
    "    RobotConfig(0, RobotType.indy7,  ((0,0,0), (0,0,0)),\n",
    "                INDY_IP)]\n",
    "              , connection_list=[False])\n",
    "gscene = s_builder.create_gscene(crob)"
   ]
  },
  {
   "cell_type": "markdown",
   "metadata": {},
   "source": [
    "## init planning scene"
   ]
  },
  {
   "cell_type": "code",
   "execution_count": 4,
   "metadata": {},
   "outputs": [],
   "source": [
    "from pkg.planning.scene import PlanningScene\n",
    "pscene = PlanningScene(gscene, combined_robot=crob)"
   ]
  },
  {
   "cell_type": "markdown",
   "metadata": {},
   "source": [
    "### planning pipeline & UI"
   ]
  },
  {
   "cell_type": "code",
   "execution_count": 5,
   "metadata": {
    "scrolled": false
   },
   "outputs": [
    {
     "name": "stdout",
     "output_type": "stream",
     "text": [
      "Dash is running on http://0.0.0.0:8050/\n",
      "\n",
      " * Serving Flask app \"pkg.ui.dash_launcher\" (lazy loading)\n"
     ]
    }
   ],
   "source": [
    "from pkg.planning.pipeline import PlanningPipeline\n",
    "ppline = PlanningPipeline(pscene)\n",
    "\n",
    "from pkg.ui.ui_broker import *\n",
    "\n",
    "# start UI\n",
    "ui_broker = UIBroker.instance()\n",
    "ui_broker.initialize(ppline, s_builder)\n",
    "ui_broker.start_server()\n",
    "\n",
    "ui_broker.set_tables()"
   ]
  },
  {
   "cell_type": "code",
   "execution_count": null,
   "metadata": {},
   "outputs": [],
   "source": []
  },
  {
   "cell_type": "markdown",
   "metadata": {},
   "source": [
    "## add environment"
   ]
  },
  {
   "cell_type": "code",
   "execution_count": 6,
   "metadata": {},
   "outputs": [
    {
     "name": "stdout",
     "output_type": "stream",
     "text": [
      " * Environment: production\n",
      "   WARNING: This is a development server. Do not use it in a production deployment.\n"
     ]
    }
   ],
   "source": [
    "from pkg.geometry.geometry import *"
   ]
  },
  {
   "cell_type": "code",
   "execution_count": 7,
   "metadata": {},
   "outputs": [
    {
     "name": "stdout",
     "output_type": "stream",
     "text": [
      "   Use a production WSGI server instead.\n",
      " * Debug mode: off\n",
      "Please create a subscriber to the marker\n"
     ]
    }
   ],
   "source": [
    "floor = gscene.create_safe(GEOTYPE.BOX, \"floor\", \"base_link\", (0.6,0.6,0.01), (0.4,0,-0.005), \n",
    "                           rpy=(0,0,0), color=(0.8,0.8,0.8,0.5), display=False, fixed=True, collision=False)\n",
    "floor = gscene.create_safe(GEOTYPE.BOX, \"floor_viscol\", \"base_link\", (3,3,0.01), (0,0,-0.006), \n",
    "                           rpy=(0,0,0), color=(0.8,0.8,0.8,0.5), display=True, fixed=True, collision=True)\n",
    "goal = gscene.create_safe(GEOTYPE.BOX, \"goal\", \"base_link\", (0.1,0.1,0.01), (0.4,0.3,-0.005), \n",
    "                          rpy=(0,0,0), color=(0.8,0.8,0.2,1), display=True, fixed=True, collision=False)"
   ]
  },
  {
   "cell_type": "code",
   "execution_count": 8,
   "metadata": {},
   "outputs": [],
   "source": [
    "gtems = s_builder.add_robot_geometries(color=(0,1,0,0.5), display=True, collision=True, exclude_link=[\"panda1_link7\"])"
   ]
  },
  {
   "cell_type": "code",
   "execution_count": null,
   "metadata": {},
   "outputs": [],
   "source": []
  },
  {
   "cell_type": "markdown",
   "metadata": {},
   "source": [
    "## add brush"
   ]
  },
  {
   "cell_type": "code",
   "execution_count": 9,
   "metadata": {},
   "outputs": [],
   "source": [
    "gbox1 = gscene.create_safe(gtype=GEOTYPE.BOX, name=\"box1\", link_name=\"base_link\", \n",
    "                                dims=(0.05,0.05,0.05), center=(0.4,-0.3,0.025), rpy=(0,0,0), \n",
    "                                color=(0.7,0.3,0.3,1), display=True, collision=True, fixed=False)\n",
    "gbox2 = gscene.create_safe(gtype=GEOTYPE.BOX, name=\"box2\", link_name=\"base_link\", \n",
    "                                dims=(0.05,0.05,0.05), center=(0.4,0.0,0.025), rpy=(0,0,0), \n",
    "                                color=(0.3,0.7,0.3,1), display=True, collision=True, fixed=False)\n",
    "gbox3 = gscene.create_safe(gtype=GEOTYPE.BOX, name=\"box3\", link_name=\"base_link\", \n",
    "                                dims=(0.05,0.05,0.05), center=(0.4,0.3,0.025), rpy=(0,0,0), \n",
    "                                color=(0.3,0.3,0.7,1), display=True, collision=True, fixed=False)"
   ]
  },
  {
   "cell_type": "code",
   "execution_count": null,
   "metadata": {},
   "outputs": [],
   "source": []
  },
  {
   "cell_type": "markdown",
   "metadata": {},
   "source": [
    "## Register binders"
   ]
  },
  {
   "cell_type": "code",
   "execution_count": 10,
   "metadata": {},
   "outputs": [],
   "source": [
    "from pkg.planning.constraint.constraint_actor import Gripper2Tool, PlacePlane, SweepTool"
   ]
  },
  {
   "cell_type": "code",
   "execution_count": 11,
   "metadata": {},
   "outputs": [
    {
     "data": {
      "text/plain": [
       "<pkg.geometry.geometry.GeometryItem at 0x7feef253e890>"
      ]
     },
     "execution_count": 11,
     "metadata": {},
     "output_type": "execute_result"
    }
   ],
   "source": [
    "gscene.create_safe(gtype=GEOTYPE.SPHERE, name=\"grip0\", link_name=\"indy0_tcp\", \n",
    "                 dims=(0.01,)*3, center=(0,0,0.14), rpy=(-np.pi/2,0,0), color=(1,0,0,1), display=True, collision=False, fixed=True)"
   ]
  },
  {
   "cell_type": "code",
   "execution_count": 12,
   "metadata": {},
   "outputs": [
    {
     "data": {
      "text/plain": [
       "<pkg.planning.constraint.constraint_actor.PlacePlane at 0x7feef252f4d0>"
      ]
     },
     "execution_count": 12,
     "metadata": {},
     "output_type": "execute_result"
    }
   ],
   "source": [
    "pscene.create_binder(bname=\"grip0\", gname=\"grip0\", rname=\"indy0\", _type=Gripper2Tool, point=(0,0,0), rpy=(0,0,0))\n",
    "pscene.create_binder(bname=\"floor\", gname=\"floor\", _type=PlacePlane)\n",
    "pscene.create_binder(bname=\"goal_bd\", gname=\"goal\", _type=PlacePlane, point=(0,0,0.005), rpy=(0,0,0))"
   ]
  },
  {
   "cell_type": "code",
   "execution_count": null,
   "metadata": {},
   "outputs": [],
   "source": []
  },
  {
   "cell_type": "markdown",
   "metadata": {},
   "source": [
    "## add objects"
   ]
  },
  {
   "cell_type": "code",
   "execution_count": 13,
   "metadata": {},
   "outputs": [],
   "source": [
    "from pkg.planning.constraint.constraint_subject import BoxObject, CustomObject, Grasp2Point, PlacePoint, SweepPoint, SweepTask"
   ]
  },
  {
   "cell_type": "code",
   "execution_count": 14,
   "metadata": {},
   "outputs": [],
   "source": [
    "box1 = pscene.create_object(\"box1\", \"box1\", BoxObject, hexahedral=True)\n",
    "box2 = pscene.create_object(\"box2\", \"box2\", BoxObject, hexahedral=True)\n",
    "box3 = pscene.create_object(\"box3\", \"box3\", BoxObject, hexahedral=True)"
   ]
  },
  {
   "cell_type": "code",
   "execution_count": null,
   "metadata": {},
   "outputs": [],
   "source": []
  },
  {
   "cell_type": "markdown",
   "metadata": {},
   "source": [
    "## Grasp checker"
   ]
  },
  {
   "cell_type": "code",
   "execution_count": 15,
   "metadata": {},
   "outputs": [],
   "source": [
    "from pkg.planning.filtering.grasp_filter import GraspChecker\n",
    "gcheck = GraspChecker(pscene, end_link_couple_dict= {\"indy0_tcp\": [\"indy0_tcp\", \"indy0_link6\"], \"base_link\":[\"base_link\"]})"
   ]
  },
  {
   "cell_type": "code",
   "execution_count": null,
   "metadata": {},
   "outputs": [],
   "source": []
  },
  {
   "cell_type": "markdown",
   "metadata": {},
   "source": [
    "## Reach SVM"
   ]
  },
  {
   "cell_type": "code",
   "execution_count": 16,
   "metadata": {},
   "outputs": [],
   "source": [
    "from pkg.planning.filtering.reach_filter import ReachChecker\n",
    "rcheck = ReachChecker(pscene)"
   ]
  },
  {
   "cell_type": "code",
   "execution_count": null,
   "metadata": {},
   "outputs": [],
   "source": []
  },
  {
   "cell_type": "markdown",
   "metadata": {},
   "source": [
    "## planners"
   ]
  },
  {
   "cell_type": "code",
   "execution_count": 17,
   "metadata": {},
   "outputs": [],
   "source": [
    "from pkg.planning.motion.moveit.moveit_planner import MoveitPlanner\n",
    "mplan = MoveitPlanner(pscene, [gcheck, rcheck])\n",
    "mplan.update_gscene()\n",
    "ppline.set_motion(mplan)\n",
    "\n",
    "# from pkg.planning.task.a_star import TaskAstar\n",
    "# tplan = TaskAstar(pscene)\n",
    "# tplan.prepare()\n",
    "# ppline.set_sampler(tplan)\n",
    "from pkg.planning.task.rrt import TaskRRT\n",
    "tplan = TaskRRT(pscene)\n",
    "tplan.prepare()\n",
    "ppline.set_sampler(tplan)"
   ]
  },
  {
   "cell_type": "code",
   "execution_count": null,
   "metadata": {},
   "outputs": [],
   "source": []
  },
  {
   "cell_type": "markdown",
   "metadata": {},
   "source": [
    "## Test plan"
   ]
  },
  {
   "cell_type": "code",
   "execution_count": 18,
   "metadata": {},
   "outputs": [],
   "source": [
    "from pkg.planning.constraint.constraint_common \\\n",
    "            import sample_redundancy, combine_redundancy\n",
    "\n",
    "initial_state = pscene.update_state(crob.home_pose)"
   ]
  },
  {
   "cell_type": "code",
   "execution_count": 19,
   "metadata": {
    "scrolled": true
   },
   "outputs": [
    {
     "name": "stdout",
     "output_type": "stream",
     "text": [
      "Use 20/20 agents\n",
      "node: ('floor', 'floor', 'floor')->('floor', 'floor', 'grip0') = fail\n",
      "node: ('floor', 'floor', 'floor')->('grip0', 'floor', 'floor') = fail\n",
      "node: ('floor', 'floor', 'floor')->('grip0', 'floor', 'floor') = fail\n",
      "node: ('floor', 'floor', 'floor')->('grip0', 'floor', 'floor') = fail\n",
      "node: ('floor', 'floor', 'floor')->('floor', 'grip0', 'floor') = fail\n",
      "node: ('floor', 'floor', 'floor')->('floor', 'floor', 'grip0') = fail\n",
      "node: ('floor', 'floor', 'floor')->('floor', 'floor', 'grip0') = fail\n",
      "node: ('floor', 'floor', 'floor')->('grip0', 'floor', 'floor') = fail\n",
      "node: ('floor', 'floor', 'floor')->('floor', 'floor', 'grip0') = fail\n",
      "node: ('floor', 'floor', 'floor')->('floor', 'floor', 'grip0') = fail\n",
      "node: ('floor', 'floor', 'floor')->('floor', 'grip0', 'floor') = fail\n",
      "node: ('floor', 'floor', 'floor')->('floor', 'floor', 'grip0') = fail\n",
      "node: ('floor', 'floor', 'floor')->('floor', 'floor', 'grip0') = fail\n",
      "node: ('floor', 'floor', 'floor')->('floor', 'floor', 'grip0') = fail\n",
      "node: ('floor', 'floor', 'floor')->('floor', 'grip0', 'floor') = fail\n",
      "node: ('floor', 'floor', 'floor')->('floor', 'grip0', 'floor') = fail\n",
      "node: ('floor', 'floor', 'floor')->('floor', 'floor', 'grip0') = fail\n",
      "node: ('floor', 'floor', 'floor')->('floor', 'grip0', 'floor') = fail\n",
      "node: ('floor', 'floor', 'floor')->('floor', 'floor', 'grip0') = fail\n",
      "node: ('floor', 'floor', 'floor')->('grip0', 'floor', 'floor') = fail\n",
      "node: ('floor', 'floor', 'floor')->('floor', 'grip0', 'floor') = fail\n",
      "node: ('floor', 'floor', 'floor')->('floor', 'floor', 'grip0') = fail\n",
      "node: ('floor', 'floor', 'floor')->('floor', 'grip0', 'floor') = fail\n",
      "node: ('floor', 'floor', 'floor')->('floor', 'floor', 'grip0') = fail\n",
      "node: ('floor', 'floor', 'floor')->('floor', 'floor', 'grip0') = fail\n",
      "node: ('floor', 'floor', 'floor')->('floor', 'grip0', 'floor') = fail\n",
      "node: ('floor', 'floor', 'floor')->('grip0', 'floor', 'floor') = fail\n",
      "node: ('floor', 'floor', 'floor')->('floor', 'grip0', 'floor') = success\n",
      "node: ('floor', 'floor', 'floor')->('floor', 'grip0', 'floor') = fail\n",
      "branching: 0->1 (0.08/300.0 s, steps/err: 28(46.434879303 ms)/0.00178318768964)\n",
      "node: ('floor', 'grip0', 'floor')->('floor', 'goal', 'floor') = fail\n",
      "node: ('floor', 'floor', 'floor')->('grip0', 'floor', 'floor') = fail\n",
      "node: ('floor', 'floor', 'floor')->('floor', 'floor', 'grip0') = fail\n",
      "node: ('floor', 'floor', 'floor')->('floor', 'grip0', 'floor') = success\n",
      "======================================================================================================================================================\n",
      "branching: 0->2 (0.11/300.0 s, steps/err: 27(41.3219928741 ms)/0.00174210684818)\n",
      "node: ('floor', 'grip0', 'floor')->('floor', 'floor', 'floor') = fail\n",
      "node: ('floor', 'grip0', 'floor')->('floor', 'goal', 'floor') = fail\n",
      "node: ('floor', 'grip0', 'floor')->('floor', 'floor', 'floor') = fail\n",
      "node: ('floor', 'grip0', 'floor')->('floor', 'goal', 'floor') = fail\n",
      "node: ('floor', 'floor', 'floor')->('floor', 'floor', 'grip0') = success\n",
      "======================================================================================================================================================\n",
      "node: ('floor', 'floor', 'floor')->('floor', 'grip0', 'floor') = success\n",
      "=============== try reaching goal =================\n",
      "node: ('floor', 'floor', 'floor')->('floor', 'floor', 'grip0') = success\n",
      "branching: 0->5 (0.16/300.0 s, steps/err: 22(75.6330490112 ms)/0.0017191608012)\n",
      "node: ('floor', 'grip0', 'floor')->('floor', 'floor', 'floor') = fail\n",
      "node: ('floor', 'floor', 'floor')->('floor', 'grip0', 'floor') = success\n",
      "branching: 0->3 (0.18/300.0 s, steps/err: 88(84.5060348511 ms)/0.0021823642911)\n",
      "branching: 0->6 (0.18/300.0 s, steps/err: 18(85.13712883 ms)/0.00113658386573)\n",
      "node: ('floor', 'floor', 'floor')->('grip0', 'floor', 'floor') = fail\n",
      "branching: 0->7 (0.2/300.0 s, steps/err: 16(46.8969345093 ms)/0.00197254694791)\n",
      "node: ('floor', 'floor', 'floor')->('grip0', 'floor', 'floor') = success\n",
      "======================================================================================================================================================\n",
      "======================================================================================================================================================\n",
      "node: ('grip0', 'floor', 'floor')->('goal', 'floor', 'floor') = fail\n",
      "node: ('floor', 'floor', 'floor')->('floor', 'grip0', 'floor') = success\n",
      "======================================================================================================================================================\n",
      "node: ('grip0', 'floor', 'floor')->('floor', 'floor', 'floor') = success\n",
      "node: ('floor', 'floor', 'floor')->('floor', 'floor', 'grip0') = fail\n",
      "node: ('grip0', 'floor', 'floor')->('goal', 'floor', 'floor') = fail\n",
      "node: ('floor', 'floor', 'floor')->('floor', 'floor', 'grip0') = fail\n",
      "branching: 0->9 (0.25/300.0 s, steps/err: 24(134.535074234 ms)/0.000824348078328)\n",
      "branching: 0->4 (0.22/300.0 s, steps/err: 29(86.4379405975 ms)/0.00189381834767)\n",
      "node: ('floor', 'grip0', 'floor')->('floor', 'goal', 'floor') = fail\n",
      "node: ('floor', 'floor', 'grip0')->('floor', 'floor', 'goal') = fail\n",
      "branching: 4->8 (0.24/300.0 s, steps/err: 13(43.8590049744 ms)/0.00104724764548)\n",
      "node: ('grip0', 'floor', 'floor')->('floor', 'floor', 'floor') = fail\n",
      "node: ('floor', 'grip0', 'floor')->('floor', 'floor', 'floor') = fail\n",
      "======================================================================================================================================================\n",
      "======================================================================================================================================================\n",
      "node: ('floor', 'grip0', 'floor')->('floor', 'goal', 'floor') = fail\n",
      "node: ('floor', 'floor', 'grip0')->('floor', 'floor', 'goal') = fail\n",
      "======================================================================================================================================================\n",
      "======================================================================================================================================================\n",
      "node: ('floor', 'floor', 'grip0')->('floor', 'floor', 'goal') = fail\n",
      "node: ('floor', 'floor', 'grip0')->('floor', 'floor', 'goal') = fail\n",
      "node: ('floor', 'floor', 'floor')->('floor', 'floor', 'grip0') = fail\n",
      "node: ('floor', 'floor', 'floor')->('floor', 'floor', 'grip0') = fail\n",
      "node: ('floor', 'floor', 'grip0')->('floor', 'floor', 'floor') = success\n",
      "node: ('floor', 'floor', 'floor')->('grip0', 'floor', 'floor') = fail\n",
      "node: ('floor', 'floor', 'floor')->('floor', 'grip0', 'floor') = fail\n",
      "branching: 6->10 (0.29/300.0 s, steps/err: 30(46.5650558472 ms)/0.00168820888724)\n",
      "======================================================================================================================================================\n",
      "node: ('floor', 'floor', 'floor')->('floor', 'grip0', 'floor') = fail\n",
      "node: ('floor', 'floor', 'floor')->('floor', 'floor', 'grip0') = fail\n",
      "node: ('floor', 'floor', 'floor')->('floor', 'grip0', 'floor') = fail\n",
      "node: ('floor', 'floor', 'grip0')->('floor', 'floor', 'goal') = success\n",
      "node: ('floor', 'floor', 'goal')->('floor', 'floor', 'grip0') = fail\n",
      "node: ('floor', 'floor', 'floor')->('grip0', 'floor', 'floor') = fail\n",
      "branching: 5->11 (0.3/300.0 s, steps/err: 3(21.0168361664 ms)/0.00125770144303)\n",
      "node: ('grip0', 'floor', 'floor')->('goal', 'floor', 'floor') = fail\n",
      "======================================================================================================================================================\n",
      "node: ('floor', 'floor', 'floor')->('floor', 'grip0', 'floor') = fail\n",
      "node: ('floor', 'floor', 'goal')->('grip0', 'floor', 'goal') = fail\n",
      "node: ('grip0', 'floor', 'floor')->('goal', 'floor', 'floor') = fail\n",
      "node: ('floor', 'floor', 'goal')->('floor', 'floor', 'grip0') = fail\n",
      "node: ('floor', 'floor', 'floor')->('grip0', 'floor', 'floor') = fail\n",
      "=============== try reaching goal =================\n",
      "node: ('floor', 'floor', 'floor')->('floor', 'floor', 'grip0') = fail\n",
      "node: ('floor', 'floor', 'floor')->('floor', 'floor', 'grip0') = fail\n",
      "node: ('floor', 'grip0', 'floor')->('floor', 'goal', 'floor') = fail\n",
      "node: ('floor', 'floor', 'floor')->('grip0', 'floor', 'floor') = fail\n"
     ]
    },
    {
     "name": "stdout",
     "output_type": "stream",
     "text": [
      "node: ('floor', 'floor', 'floor')->('floor', 'grip0', 'floor') = fail\n",
      "node: ('grip0', 'floor', 'floor')->('goal', 'floor', 'floor') = fail\n",
      "node: ('floor', 'floor', 'floor')->('grip0', 'floor', 'floor') = success\n",
      "branching: 0->12 (0.31/300.0 s, steps/err: 21(33.0259799957 ms)/0.00170924012085)\n",
      "======================================================================================================================================================\n",
      "node: ('floor', 'floor', 'goal')->('floor', 'grip0', 'goal') = fail\n",
      "node: ('floor', 'floor', 'grip0')->('floor', 'floor', 'floor') = fail\n",
      "node: ('floor', 'grip0', 'floor')->('floor', 'goal', 'floor') = fail\n",
      "node: ('floor', 'grip0', 'floor')->('floor', 'floor', 'floor') = success\n",
      "node: ('floor', 'grip0', 'floor')->('floor', 'goal', 'floor') = fail\n",
      "node: ('floor', 'grip0', 'floor')->('floor', 'goal', 'floor') = fail\n",
      "node: ('floor', 'floor', 'goal')->('floor', 'grip0', 'goal') = fail\n",
      "branching: 1->13 (0.32/300.0 s, steps/err: 41(46.138048172 ms)/0.00168351404184)\n",
      "node: ('floor', 'grip0', 'floor')->('floor', 'goal', 'floor') = fail\n",
      "node: ('floor', 'floor', 'grip0')->('floor', 'floor', 'goal') = fail\n",
      "node: ('floor', 'grip0', 'floor')->('floor', 'goal', 'floor') = fail\n",
      "node: ('floor', 'floor', 'grip0')->('floor', 'floor', 'goal') = fail\n",
      "======================================================================================================================================================\n",
      "node: ('floor', 'floor', 'grip0')->('floor', 'floor', 'goal') = success\n",
      "node: ('floor', 'floor', 'floor')->('floor', 'floor', 'grip0') = success\n",
      "node: ('floor', 'floor', 'grip0')->('floor', 'floor', 'goal') = fail\n",
      "branching: 0->14 (0.34/300.0 s, steps/err: 30(49.3731498718 ms)/0.00195684899601)\n",
      "node: ('floor', 'floor', 'floor')->('floor', 'grip0', 'floor') = fail\n",
      "======================================================================================================================================================\n",
      "branching: 5->15 (0.34/300.0 s, steps/err: 24(26.3409614563 ms)/0.00136494532748)\n",
      "node: ('grip0', 'floor', 'floor')->('floor', 'floor', 'floor') = fail\n",
      "node: ('floor', 'floor', 'goal')->('floor', 'floor', 'grip0') = fail\n",
      "node: ('grip0', 'floor', 'floor')->('goal', 'floor', 'floor') = fail\n",
      "node: ('floor', 'grip0', 'floor')->('floor', 'goal', 'floor') = fail\n",
      "node: ('floor', 'floor', 'goal')->('floor', 'grip0', 'goal') = fail\n",
      "======================================================================================================================================================\n",
      "=============== try reaching goal =================\n",
      "node: ('floor', 'floor', 'floor')->('grip0', 'floor', 'floor') = success\n",
      "node: ('grip0', 'floor', 'floor')->('floor', 'floor', 'floor') = success\n",
      "node: ('floor', 'floor', 'floor')->('floor', 'floor', 'grip0') = success\n",
      "branching: 8->16 (0.38/300.0 s, steps/err: 35(52.4981021881 ms)/0.00190327278668)\n",
      "======================================================================================================================================================\n",
      "branching: 0->17 (0.39/300.0 s, steps/err: 30(39.1311645508 ms)/0.00155468308284)\n",
      "======================================================================================================================================================\n",
      "node: ('grip0', 'floor', 'floor')->('goal', 'floor', 'floor') = fail\n",
      "node: ('floor', 'floor', 'goal')->('grip0', 'floor', 'goal') = success\n",
      "node: ('floor', 'grip0', 'floor')->('floor', 'goal', 'floor') = fail\n",
      "branching: 4->18 (0.4/300.0 s, steps/err: 21(36.6749763489 ms)/0.000968402156245)\n",
      "node: ('floor', 'floor', 'goal')->('floor', 'floor', 'grip0') = success\n",
      "branching: 11->19 (0.41/300.0 s, steps/err: 47(81.8758010864 ms)/0.00152272557816)\n",
      "node: ('floor', 'floor', 'goal')->('grip0', 'floor', 'goal') = success\n",
      "node: ('floor', 'floor', 'grip0')->('floor', 'floor', 'goal') = success\n",
      "branching: 11->20 (0.41/300.0 s, steps/err: 4(36.0147953033 ms)/0.000950498733157)\n",
      "======================================================================================================================================================\n",
      "node: ('floor', 'floor', 'goal')->('floor', 'floor', 'grip0') = success\n",
      "branching: 11->21 (0.42/300.0 s, steps/err: 26(39.0808582306 ms)/0.00124622858562)\n",
      "======================================================================================================================================================\n",
      "======================================================================================================================================================\n",
      "branching: 15->23 (0.43/300.0 s, steps/err: 20(20.6460952759 ms)/0.0014593937126)\n",
      "node: ('floor', 'floor', 'goal')->('grip0', 'floor', 'goal') = fail\n",
      "======================================================================================================================================================\n",
      "======================================================================================================================================================\n",
      "branching: 6->22 (0.43/300.0 s, steps/err: 40(41.3229465485 ms)/0.00122514735788)\n",
      "node: ('floor', 'floor', 'goal')->('floor', 'grip0', 'goal') = fail\n",
      "======================================================================================================================================================\n",
      "node: ('floor', 'floor', 'goal')->('floor', 'floor', 'grip0') = fail\n",
      "node: ('floor', 'floor', 'floor')->('floor', 'floor', 'grip0') = fail\n",
      "node: ('floor', 'floor', 'goal')->('floor', 'grip0', 'goal') = fail\n",
      "node: ('floor', 'floor', 'goal')->('grip0', 'floor', 'goal') = success\n",
      "node: ('grip0', 'floor', 'goal')->('goal', 'floor', 'goal') = fail\n",
      "node: ('grip0', 'floor', 'floor')->('goal', 'floor', 'floor') = fail\n",
      "node: ('grip0', 'floor', 'goal')->('goal', 'floor', 'goal') = fail\n",
      "node: ('grip0', 'floor', 'goal')->('goal', 'floor', 'goal') = fail\n",
      "node: ('grip0', 'floor', 'goal')->('goal', 'floor', 'goal') = fail\n",
      "node: ('floor', 'floor', 'floor')->('floor', 'grip0', 'floor') = fail\n",
      "node: ('grip0', 'floor', 'floor')->('goal', 'floor', 'floor') = fail\n",
      "node: ('grip0', 'floor', 'goal')->('goal', 'floor', 'goal') = fail\n",
      "branching: 15->24 (0.48/300.0 s, steps/err: 33(38.3431911469 ms)/0.000828213297008)\n",
      "node: ('grip0', 'floor', 'floor')->('goal', 'floor', 'floor') = fail\n",
      "======================================================================================================================================================\n",
      "node: ('floor', 'floor', 'floor')->('floor', 'grip0', 'floor') = fail\n",
      "node: ('floor', 'floor', 'goal')->('grip0', 'floor', 'goal') = fail\n",
      "node: ('floor', 'floor', 'goal')->('grip0', 'floor', 'goal') = success\n",
      "node: ('floor', 'floor', 'goal')->('floor', 'grip0', 'goal') = success\n",
      "branching: 22->26 (0.52/300.0 s, steps/err: 40(75.7880210876 ms)/0.00171836475384)\n",
      "branching: 22->25 (0.52/300.0 s, steps/err: 30(66.9939517975 ms)/0.00161691177783)\n",
      "node: ('floor', 'floor', 'floor')->('floor', 'floor', 'grip0') = fail\n",
      "=============== try reaching goal =================\n",
      "node: ('floor', 'floor', 'floor')->('floor', 'grip0', 'floor') = fail\n",
      "======================================================================================================================================================\n",
      "======================================================================================================================================================\n",
      "node: ('grip0', 'floor', 'goal')->('floor', 'floor', 'goal') = success\n",
      "node: ('floor', 'floor', 'floor')->('grip0', 'floor', 'floor') = success\n",
      "node: ('floor', 'grip0', 'floor')->('floor', 'floor', 'floor') = success\n",
      "node: ('floor', 'floor', 'floor')->('grip0', 'floor', 'floor') = fail\n",
      "node: ('grip0', 'floor', 'goal')->('floor', 'floor', 'goal') = fail\n",
      "branching: 18->28 (0.55/300.0 s, steps/err: 21(35.0480079651 ms)/0.00169730737522)\n",
      "branching: 9->29 (0.55/300.0 s, steps/err: 51(103.446960449 ms)/0.000840503731566)\n",
      "node: ('grip0', 'floor', 'floor')->('goal', 'floor', 'floor') = fail\n",
      "branching: 19->27 (0.55/300.0 s, steps/err: 34(31.2530994415 ms)/0.00132965254917)\n",
      "======================================================================================================================================================\n"
     ]
    },
    {
     "name": "stdout",
     "output_type": "stream",
     "text": [
      "======================================================================================================================================================\n",
      "======================================================================================================================================================\n",
      "node: ('floor', 'floor', 'goal')->('grip0', 'floor', 'goal') = fail\n",
      "node: ('floor', 'floor', 'goal')->('grip0', 'floor', 'goal') = fail\n",
      "node: ('grip0', 'floor', 'floor')->('goal', 'floor', 'floor') = fail\n",
      "node: ('floor', 'floor', 'floor')->('floor', 'floor', 'grip0') = fail\n",
      "node: ('floor', 'floor', 'goal')->('floor', 'grip0', 'goal') = fail\n",
      "node: ('floor', 'floor', 'grip0')->('floor', 'floor', 'goal') = fail\n",
      "node: ('floor', 'floor', 'goal')->('floor', 'grip0', 'goal') = fail\n",
      "node: ('floor', 'floor', 'floor')->('floor', 'floor', 'grip0') = fail\n",
      "node: ('grip0', 'floor', 'floor')->('goal', 'floor', 'floor') = fail\n",
      "node: ('floor', 'grip0', 'goal')->('floor', 'goal', 'goal') = fail\n",
      "node: ('floor', 'grip0', 'floor')->('floor', 'goal', 'floor') = fail\n",
      "node: ('floor', 'grip0', 'goal')->('floor', 'goal', 'goal') = fail\n",
      "node: ('floor', 'floor', 'floor')->('grip0', 'floor', 'floor') = fail\n",
      "node: ('grip0', 'floor', 'floor')->('goal', 'floor', 'floor') = fail\n",
      "node: ('floor', 'grip0', 'goal')->('floor', 'floor', 'goal') = fail\n",
      "node: ('floor', 'grip0', 'goal')->('floor', 'floor', 'goal') = fail\n",
      "node: ('floor', 'floor', 'grip0')->('floor', 'floor', 'floor') = fail\n",
      "node: ('grip0', 'floor', 'goal')->('goal', 'floor', 'goal') = fail\n",
      "node: ('floor', 'floor', 'goal')->('floor', 'grip0', 'goal') = fail\n",
      "node: ('grip0', 'floor', 'goal')->('goal', 'floor', 'goal') = fail\n",
      "node: ('grip0', 'floor', 'goal')->('goal', 'floor', 'goal') = fail\n",
      "node: ('floor', 'grip0', 'goal')->('floor', 'goal', 'goal') = fail\n",
      "node: ('floor', 'grip0', 'goal')->('floor', 'goal', 'goal') = fail\n",
      "node: ('floor', 'floor', 'grip0')->('floor', 'floor', 'goal') = fail\n",
      "node: ('grip0', 'floor', 'floor')->('floor', 'floor', 'floor') = fail\n",
      "node: ('grip0', 'floor', 'floor')->('floor', 'floor', 'floor') = fail\n",
      "node: ('floor', 'floor', 'floor')->('floor', 'grip0', 'floor') = fail\n",
      "node: ('floor', 'floor', 'goal')->('floor', 'floor', 'grip0') = fail\n",
      "node: ('floor', 'grip0', 'floor')->('floor', 'goal', 'floor') = fail\n",
      "node: ('floor', 'grip0', 'goal')->('floor', 'goal', 'goal') = fail\n",
      "node: ('grip0', 'floor', 'floor')->('goal', 'floor', 'floor') = fail\n",
      "node: ('floor', 'floor', 'goal')->('grip0', 'floor', 'goal') = fail\n",
      "=============== try reaching goal =================\n",
      "node: ('grip0', 'floor', 'floor')->('goal', 'floor', 'floor') = fail\n",
      "node: ('floor', 'floor', 'floor')->('grip0', 'floor', 'floor') = success\n",
      "branching: 10->30 (0.63/300.0 s, steps/err: 33(39.6120548248 ms)/0.00105967361901)\n",
      "======================================================================================================================================================\n",
      "node: ('floor', 'floor', 'floor')->('floor', 'floor', 'grip0') = fail\n",
      "node: ('floor', 'grip0', 'goal')->('floor', 'goal', 'goal') = fail\n",
      "node: ('grip0', 'floor', 'goal')->('floor', 'floor', 'goal') = fail\n",
      "node: ('floor', 'floor', 'floor')->('floor', 'floor', 'grip0') = success\n",
      "branching: 8->31 (0.64/300.0 s, steps/err: 45(39.498090744 ms)/0.00125630987862)\n",
      "======================================================================================================================================================\n",
      "node: ('floor', 'grip0', 'floor')->('floor', 'goal', 'floor') = fail\n",
      "node: ('floor', 'floor', 'floor')->('floor', 'grip0', 'floor') = fail\n",
      "node: ('floor', 'floor', 'goal')->('grip0', 'floor', 'goal') = fail\n",
      "node: ('floor', 'floor', 'floor')->('grip0', 'floor', 'floor') = fail\n",
      "node: ('floor', 'floor', 'floor')->('grip0', 'floor', 'floor') = fail\n",
      "node: ('floor', 'floor', 'goal')->('grip0', 'floor', 'goal') = fail\n",
      "node: ('floor', 'grip0', 'goal')->('floor', 'goal', 'goal') = fail\n",
      "node: ('floor', 'grip0', 'goal')->('floor', 'goal', 'goal') = fail\n",
      "node: ('grip0', 'floor', 'floor')->('floor', 'floor', 'floor') = fail\n",
      "node: ('grip0', 'floor', 'floor')->('floor', 'floor', 'floor') = fail\n",
      "node: ('floor', 'floor', 'grip0')->('floor', 'floor', 'floor') = fail\n",
      "node: ('grip0', 'floor', 'goal')->('goal', 'floor', 'goal') = fail\n",
      "node: ('floor', 'floor', 'goal')->('floor', 'floor', 'grip0') = success\n",
      "branching: 27->33 (0.67/300.0 s, steps/err: 16(21.8088626862 ms)/0.00206595636291)\n",
      "node: ('grip0', 'floor', 'floor')->('goal', 'floor', 'floor') = success\n",
      "======================================================================================================================================================\n",
      "node: ('floor', 'floor', 'goal')->('grip0', 'floor', 'goal') = success\n",
      "branching: 30->34 (0.68/300.0 s, steps/err: 40(39.8800373077 ms)/0.00179724647761)\n",
      "node: ('floor', 'floor', 'goal')->('floor', 'grip0', 'goal') = fail\n",
      "node: ('floor', 'grip0', 'floor')->('floor', 'floor', 'floor') = success\n",
      "branching: 11->35 (0.69/300.0 s, steps/err: 33(40.6680107117 ms)/0.00164244133412)\n",
      "node: ('floor', 'floor', 'goal')->('grip0', 'floor', 'goal') = success\n",
      "======================================================================================================================================================\n",
      "branching: 11->36 (0.7/300.0 s, steps/err: 40(32.7179431915 ms)/0.00180761290752)\n",
      "======================================================================================================================================================\n",
      "======================================================================================================================================================\n",
      "node: ('floor', 'floor', 'goal')->('floor', 'grip0', 'goal') = success\n",
      "node: ('floor', 'grip0', 'floor')->('floor', 'goal', 'floor') = fail\n",
      "branching: 27->37 (0.71/300.0 s, steps/err: 22(51.5010356903 ms)/0.00121589587736)\n",
      "node: ('floor', 'floor', 'goal')->('floor', 'floor', 'grip0') = fail\n",
      "branching: 7->32 (0.69/300.0 s, steps/err: 38(40.9328937531 ms)/0.000913995604406)\n",
      "node: ('grip0', 'floor', 'floor')->('goal', 'floor', 'floor') = fail\n",
      "=========================================================================================================\n",
      "=========================================================================================================\n",
      "======================================================================================================================================================\n",
      "======================================================================================================================================================\n",
      "=========================================================================================================\n",
      "======================= terminated 8: first answer acquired ===============================\n",
      "======================= terminated 3: first answer acquired from other agent ===============================\n",
      "=========================================================================================================\n",
      "=========================================================================================================\n",
      "=========================================================================================================\n",
      "======================= terminated 4: first answer acquired from other agent ===============================\n",
      "======================= terminated 5: first answer acquired from other agent ===============================\n",
      "=========================================================================================================\n",
      "=========================================================================================================\n",
      "=========================================================================================================\n",
      "======================= terminated 10: first answer acquired from other agent ===============================\n",
      "=========================================================================================================\n",
      "node: ('floor', 'floor', 'goal')->('floor', 'floor', 'grip0') = success\n",
      "branching: 27->38 (0.76/300.0 s, steps/err: 15(37.2722148895 ms)/0.00127944861839)\n",
      "=========================================================================================================\n"
     ]
    },
    {
     "name": "stdout",
     "output_type": "stream",
     "text": [
      "node: ('floor', 'floor', 'floor')->('floor', 'floor', 'grip0') = success\n",
      "======================= terminated 11: first answer acquired from other agent ===============================\n",
      "=============== try reaching goal =================\n",
      "======================================================================================================================================================\n",
      "=========================================================================================================\n",
      "=========================================================================================================\n",
      "branching: 29->39 (0.77/300.0 s, steps/err: 37(52.1461963654 ms)/0.00197535673747)\n",
      "node: ('goal', 'floor', 'floor')->('grip0', 'floor', 'floor') = success\n",
      "branching: 34->40 (0.78/300.0 s, steps/err: 41(63.3170604706 ms)/0.00197611893768)\n",
      "======================================================================================================================================================\n",
      "=========================================================================================================\n",
      "======================================================================================================================================================\n",
      "=========================================================================================================\n",
      "======================= terminated 0: first answer acquired from other agent ===============================\n",
      "======================= terminated 6: first answer acquired from other agent ===============================\n",
      "=========================================================================================================\n",
      "======================= terminated 9: first answer acquired from other agent ===============================\n",
      "=========================================================================================================\n",
      "=========================================================================================================\n",
      "=========================================================================================================\n",
      "======================= terminated 12: first answer acquired from other agent ===============================\n",
      "=========================================================================================================\n",
      "=========================================================================================================\n",
      "======================= terminated 13: first answer acquired from other agent ===============================\n",
      "=========================================================================================================\n",
      "=========================================================================================================\n",
      "=========================================================================================================\n",
      "======================= terminated 15: first answer acquired from other agent ===============================\n",
      "=========================================================================================================\n",
      "======================= terminated 14: first answer acquired from other agent ===============================\n",
      "=========================================================================================================\n",
      "=========================================================================================================\n",
      "======================= terminated 17: first answer acquired from other agent ===============================\n",
      "======================= terminated 19: first answer acquired from other agent ===============================\n",
      "=========================================================================================================\n",
      "======================= terminated 16: first answer acquired from other agent ===============================\n",
      "=========================================================================================================\n",
      "======================= terminated 18: first answer acquired from other agent ===============================\n",
      "=========================================================================================================\n",
      "=========================================================================================================\n",
      "=========================================================================================================\n",
      "=========================================================================================================\n",
      "=========================================================================================================\n"
     ]
    },
    {
     "ename": "NameError",
     "evalue": "name 'add_return_motion' is not defined",
     "output_type": "error",
     "traceback": [
      "\u001b[0;31m\u001b[0m",
      "\u001b[0;31mNameError\u001b[0mTraceback (most recent call last)",
      "\u001b[0;32m<ipython-input-19-8e71cef49197>\u001b[0m in \u001b[0;36m<module>\u001b[0;34m()\u001b[0m\n\u001b[1;32m      6\u001b[0m     \u001b[0mschedules_sorted\u001b[0m \u001b[0;34m=\u001b[0m \u001b[0mppline\u001b[0m\u001b[0;34m.\u001b[0m\u001b[0msort_schedule\u001b[0m\u001b[0;34m(\u001b[0m\u001b[0mschedules\u001b[0m\u001b[0;34m)\u001b[0m\u001b[0;34m\u001b[0m\u001b[0m\n\u001b[1;32m      7\u001b[0m     \u001b[0msnode_schedule\u001b[0m \u001b[0;34m=\u001b[0m \u001b[0mppline\u001b[0m\u001b[0;34m.\u001b[0m\u001b[0midxSchedule2SnodeScedule\u001b[0m\u001b[0;34m(\u001b[0m\u001b[0mschedules_sorted\u001b[0m\u001b[0;34m[\u001b[0m\u001b[0;36m0\u001b[0m\u001b[0;34m]\u001b[0m\u001b[0;34m)\u001b[0m\u001b[0;34m\u001b[0m\u001b[0m\n\u001b[0;32m----> 8\u001b[0;31m     \u001b[0msnode_schedule\u001b[0m \u001b[0;34m=\u001b[0m \u001b[0madd_return_motion\u001b[0m\u001b[0;34m(\u001b[0m\u001b[0msnode_schedule\u001b[0m\u001b[0;34m)\u001b[0m\u001b[0;34m\u001b[0m\u001b[0m\n\u001b[0m",
      "\u001b[0;31mNameError\u001b[0m: name 'add_return_motion' is not defined"
     ]
    },
    {
     "name": "stdout",
     "output_type": "stream",
     "text": [
      "node: ('floor', 'floor', 'grip0')->('floor', 'floor', 'goal') = fail\n",
      "=========================================================================================================\n",
      "======================= terminated 2: first answer acquired from other agent ===============================\n",
      "=========================================================================================================\n",
      "node: ('floor', 'floor', 'goal')->('floor', 'grip0', 'goal') = fail\n",
      "=========================================================================================================\n",
      "======================= terminated 7: first answer acquired from other agent ===============================\n",
      "=========================================================================================================\n"
     ]
    }
   ],
   "source": [
    "mplan.reset_log(True)\n",
    "with GlobalTimer.instance().block(\"full\"):\n",
    "    goal_nodes = [(\"goal\", \"floor\", \"floor\")]\n",
    "    ppline.search(initial_state, goal_nodes, verbose=True, display=False, dt_vis=0.01, timeout_loop=300, multiprocess=True, timeout=1)\n",
    "    schedules = ppline.tplan.find_schedules()\n",
    "    schedules_sorted = ppline.sort_schedule(schedules)\n",
    "    snode_schedule = ppline.idxSchedule2SnodeScedule(schedules_sorted[0])\n",
    "    snode_schedule = add_return_motion(snode_schedule)"
   ]
  },
  {
   "cell_type": "code",
   "execution_count": null,
   "metadata": {},
   "outputs": [],
   "source": [
    "for k,v in mplan.result_log.items():\n",
    "    print(\"{}: {}% ({})\".format(k, np.mean(v)*100, len(v)))"
   ]
  },
  {
   "cell_type": "code",
   "execution_count": null,
   "metadata": {
    "scrolled": false
   },
   "outputs": [],
   "source": [
    "print(GlobalTimer.instance())"
   ]
  },
  {
   "cell_type": "code",
   "execution_count": 28,
   "metadata": {},
   "outputs": [],
   "source": []
  },
  {
   "cell_type": "code",
   "execution_count": 40,
   "metadata": {},
   "outputs": [],
   "source": []
  },
  {
   "cell_type": "code",
   "execution_count": 43,
   "metadata": {},
   "outputs": [],
   "source": []
  },
  {
   "cell_type": "code",
   "execution_count": 47,
   "metadata": {},
   "outputs": [],
   "source": []
  },
  {
   "cell_type": "code",
   "execution_count": 48,
   "metadata": {
    "scrolled": false
   },
   "outputs": [],
   "source": [
    "ppline.play_schedule(snode_schedule, period=0.01)"
   ]
  },
  {
   "cell_type": "code",
   "execution_count": null,
   "metadata": {},
   "outputs": [],
   "source": []
  },
  {
   "cell_type": "markdown",
   "metadata": {},
   "source": [
    "## Text execution"
   ]
  },
  {
   "cell_type": "code",
   "execution_count": 21,
   "metadata": {
    "scrolled": true
   },
   "outputs": [
    {
     "name": "stdout",
     "output_type": "stream",
     "text": [
      "connection_list\n",
      "[True]\n",
      "Connect: Server IP (192.168.0.63)\n"
     ]
    }
   ],
   "source": [
    "# crob.reset_connection([True])"
   ]
  },
  {
   "cell_type": "markdown",
   "metadata": {},
   "source": [
    "## unsynced execution"
   ]
  },
  {
   "cell_type": "code",
   "execution_count": 23,
   "metadata": {
    "scrolled": true
   },
   "outputs": [
    {
     "name": "stdout",
     "output_type": "stream",
     "text": [
      "binder: floor\n",
      "rname: None\n",
      "binder: None\n",
      "grasp_dict\n",
      "{'indy0': False}\n",
      "grasp_seq\n",
      "[('indy0', False)]\n",
      "Connect: Server IP (192.168.0.63)\n",
      "binder: floor\n",
      "rname: None\n",
      "binder: None\n",
      "grasp_dict\n",
      "{'indy0': False}\n",
      "grasp_seq\n",
      "[('indy0', False)]\n",
      "Connect: Server IP (192.168.0.63)\n",
      "go\n",
      "Connect: Server IP (192.168.0.63)\n",
      "binder: grip0\n",
      "rname: indy0\n",
      "binder: None\n",
      "grasp_dict\n",
      "{'indy0': True}\n",
      "grasp_seq\n",
      "[('indy0', True)]\n",
      "Connect: Server IP (192.168.0.63)\n",
      "go\n",
      "Connect: Server IP (192.168.0.63)\n",
      "binder: grip0\n",
      "rname: indy0\n",
      "binder: brush_face\n",
      "rname: None\n",
      "grasp_dict\n",
      "{'indy0': True}\n",
      "grasp_seq\n",
      "[('indy0', True)]\n",
      "Connect: Server IP (192.168.0.63)\n",
      "go\n",
      "Connect: Server IP (192.168.0.63)\n",
      "binder: grip0\n",
      "rname: indy0\n",
      "binder: brush_face\n",
      "rname: None\n",
      "grasp_dict\n",
      "{'indy0': True}\n",
      "grasp_seq\n",
      "[('indy0', True)]\n",
      "Connect: Server IP (192.168.0.63)\n",
      "go\n",
      "Connect: Server IP (192.168.0.63)\n",
      "binder: goal_bd\n",
      "rname: None\n",
      "binder: brush_face\n",
      "rname: None\n",
      "grasp_dict\n",
      "{'indy0': False}\n",
      "grasp_seq\n",
      "[('indy0', False)]\n",
      "Connect: Server IP (192.168.0.63)\n",
      "go\n",
      "Connect: Server IP (192.168.0.63)\n",
      "binder: goal_bd\n",
      "rname: None\n",
      "binder: brush_face\n",
      "rname: None\n",
      "grasp_dict\n",
      "{'indy0': False}\n",
      "grasp_seq\n",
      "[('indy0', False)]\n",
      "Connect: Server IP (192.168.0.63)\n"
     ]
    }
   ],
   "source": [
    "ppline.execute_schedule(snode_schedule, vel_scale=0.5)"
   ]
  },
  {
   "cell_type": "code",
   "execution_count": null,
   "metadata": {},
   "outputs": [],
   "source": []
  },
  {
   "cell_type": "markdown",
   "metadata": {},
   "source": [
    "## synced execution"
   ]
  },
  {
   "cell_type": "code",
   "execution_count": null,
   "metadata": {},
   "outputs": [],
   "source": [
    "## \n",
    "# with RvizPublisher(gscene, []) as rpub:\n",
    "#     ppline.execute_schedule(snode_schedule, rviz_pub=rpub)"
   ]
  },
  {
   "cell_type": "code",
   "execution_count": null,
   "metadata": {},
   "outputs": [],
   "source": []
  },
  {
   "cell_type": "markdown",
   "metadata": {},
   "source": [
    "## Disconnect stereo"
   ]
  },
  {
   "cell_type": "code",
   "execution_count": null,
   "metadata": {},
   "outputs": [],
   "source": [
    "stereo.disconnect()"
   ]
  },
  {
   "cell_type": "code",
   "execution_count": null,
   "metadata": {},
   "outputs": [],
   "source": []
  },
  {
   "cell_type": "code",
   "execution_count": null,
   "metadata": {},
   "outputs": [],
   "source": []
  },
  {
   "cell_type": "code",
   "execution_count": null,
   "metadata": {},
   "outputs": [],
   "source": []
  },
  {
   "cell_type": "code",
   "execution_count": null,
   "metadata": {},
   "outputs": [],
   "source": []
  }
 ],
 "metadata": {
  "kernelspec": {
   "display_name": "Python 2",
   "language": "python",
   "name": "python2"
  },
  "language_info": {
   "codemirror_mode": {
    "name": "ipython",
    "version": 2
   },
   "file_extension": ".py",
   "mimetype": "text/x-python",
   "name": "python",
   "nbconvert_exporter": "python",
   "pygments_lexer": "ipython2",
   "version": "2.7.17"
  }
 },
 "nbformat": 4,
 "nbformat_minor": 2
}
