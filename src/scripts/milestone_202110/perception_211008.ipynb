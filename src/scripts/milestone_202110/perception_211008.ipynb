{
 "cells": [
  {
   "cell_type": "code",
   "execution_count": 1,
   "metadata": {},
   "outputs": [
    {
     "name": "stdout",
     "output_type": "stream",
     "text": [
      "Current PC IP: 192.168.0.40\n",
      "Mobile ROB IP: 192.168.0.102\n",
      "CAM SERVER IP: 192.168.0.10\n"
     ]
    }
   ],
   "source": [
    "import os\n",
    "import sys\n",
    "import open3d as o3d\n",
    "import numpy as np\n",
    "import cv2\n",
    "import copy\n",
    "import matplotlib.pyplot as plt\n",
    "os.chdir(os.path.join(os.environ[\"RNB_PLANNING_DIR\"], 'src'))\n",
    "sys.path.append(os.path.join(os.environ[\"RNB_PLANNING_DIR\"], 'src/scripts/milestone_202110'))\n",
    "\n",
    "from pkg.global_config import RNB_PLANNING_DIR\n",
    "from pkg.utils.utils import *    \n",
    "from pkg.utils.rotation_utils import *\n",
    "from pkg.controller.combined_robot import *\n",
    "from pkg.project_config import *\n",
    "from utils.streaming import *\n",
    "from utils.detection_util import *\n",
    "\n",
    "CONNECT_CAM = False # True\n",
    "ENABLE_DETECT = True\n",
    "CONNECT_INDY = False # True\n",
    "CONNECT_MOBILE = False # True \n",
    "SHOW_MOTION_RVIZ = False\n",
    "\n",
    "ip_cur =  get_ip_address()\n",
    "MOBILE_IP = \"192.168.0.102\"\n",
    "INDY_IP = \"192.168.0.3\"\n",
    "CAM_HOST = '192.168.0.10'\n",
    "\n",
    "print(\"Current PC IP: {}\".format(ip_cur))\n",
    "print(\"Mobile ROB IP: {}\".format(MOBILE_IP))\n",
    "print(\"CAM SERVER IP: {}\".format(CAM_HOST))"
   ]
  },
  {
   "cell_type": "code",
   "execution_count": null,
   "metadata": {},
   "outputs": [],
   "source": []
  },
  {
   "cell_type": "markdown",
   "metadata": {},
   "source": [
    "## Attach to detection server"
   ]
  },
  {
   "cell_type": "code",
   "execution_count": 2,
   "metadata": {},
   "outputs": [],
   "source": [
    "if ENABLE_DETECT:\n",
    "    attacth_to_server()"
   ]
  },
  {
   "cell_type": "markdown",
   "metadata": {},
   "source": [
    "## 침대 인식"
   ]
  },
  {
   "cell_type": "code",
   "execution_count": 3,
   "metadata": {},
   "outputs": [],
   "source": [
    "# Coordinate of stl model importing\n",
    "\n",
    "# bed_model = o3d.io.read_triangle_mesh(MODEL_DIR + '/bed/bed.STL')\n",
    "# # bed_model = o3d.io.read_triangle_mesh(MODEL_DIR + '/bed/bed_floor_centered_m_scale.stl')\n",
    "# bed_model.vertices = o3d.utility.Vector3dVector(\n",
    "#     np.asarray(bed_model.vertices) * np.array([1 / 1000.0, 1 / 1000.0, 1 / 1000.0]))\n",
    "# FOR_origin = o3d.geometry.TriangleMesh.create_coordinate_frame(size=0.2, origin=[0, 0, 0])\n",
    "# o3d.visualization.draw_geometries([bed_model, FOR_origin])"
   ]
  },
  {
   "cell_type": "markdown",
   "metadata": {},
   "source": [
    "## Get image"
   ]
  },
  {
   "cell_type": "code",
   "execution_count": 4,
   "metadata": {},
   "outputs": [],
   "source": [
    "CAM_HOST = '192.168.0.40'"
   ]
  },
  {
   "cell_type": "code",
   "execution_count": 5,
   "metadata": {},
   "outputs": [],
   "source": [
    "if CONNECT_CAM:\n",
    "    # rdict = send_recv_demo_cam({1:1}, host=CAM_HOST)\n",
    "    rdict = stream_capture_image(ImageType.FirstView, 0, host=CAM_HOST)\n",
    "    cam_intrins, d_scale = [rdict[key] for key in [\"intrins\", \"depth_scale\"]]\n",
    "    set_cam_params(cam_intrins, d_scale)\n",
    "else:\n",
    "    cam_intrins = [1280, 720, 899.05322265625,  899.21044921875, 654.8836669921875, 352.9295654296875]\n",
    "    d_scale = 0.0002500000118743628\n",
    "    set_cam_params(cam_intrins, d_scale)"
   ]
  },
  {
   "cell_type": "code",
   "execution_count": 33,
   "metadata": {},
   "outputs": [],
   "source": [
    "if CONNECT_CAM:\n",
    "    bed_color_path = SAVE_DIR + '/bed.jpg'\n",
    "    bed_depth_path = SAVE_DIR + '/bed.png'\n",
    "else:\n",
    "    bed_color_path = EXP_IMG_DIR + '/top_table_check.jpg'\n",
    "    bed_depth_path = EXP_IMG_DIR + '/top_table_check.png'\n",
    "\n",
    "# bed_color_path = \"scripts/milestone_202110/save_img/526.jpg\"\n",
    "# bed_depth_path = \"scripts/milestone_202110/save_img/526.png\"\n",
    "\n",
    "# Read color, depth image file, keep 16bit information\n",
    "color_img_read = cv2.imread(bed_color_path, flags=cv2.IMREAD_UNCHANGED)\n",
    "depth_img_read = cv2.imread(bed_depth_path, flags=cv2.IMREAD_UNCHANGED)\n",
    "\n",
    "\n",
    "# Output of inference(mask for detected table)\n",
    "mask_out = detect_from_server(color_img_read)\n",
    "\n",
    "# If bed is not detected, then pass below detection part\n",
    "test = np.empty((720,1280), dtype=bool)\n",
    "test[:,:] = False\n",
    "if not np.array_equal(mask_out, test):\n",
    "    plt.imshow(mask_out)\n",
    "    \n",
    "    # Crop masking part\n",
    "    vis_mask = (mask_out * 255).astype('uint8')\n",
    "    color_instance = cv2.bitwise_and(color_img_read, color_img_read, mask=vis_mask).astype(np.uint16)\n",
    "    depth_instance = cv2.bitwise_and(depth_img_read, depth_img_read, mask=vis_mask).astype(np.uint16)\n",
    "    cv2.imwrite(CROP_DIR + '/bed_crop.jpg', color_instance)\n",
    "    cv2.imwrite(CROP_DIR + '/bed_crop.png', depth_instance)\n",
    "    \n",
    "#     set_cam_params(cam_intrins, d_scale)\n",
    "    ICP_result_bed = process_bed_detection()"
   ]
  },
  {
   "cell_type": "code",
   "execution_count": 31,
   "metadata": {},
   "outputs": [],
   "source": [
    "test = np.empty((720,1280), dtype=bool)\n",
    "test[:,:] = False\n",
    "if not np.array_equal(mask_out, test):\n",
    "    plt.imshow(mask_out)\n",
    "    \n",
    "    # Crop masking part\n",
    "    vis_mask = (mask_out * 255).astype('uint8')\n",
    "    color_instance = cv2.bitwise_and(color_img_read, color_img_read, mask=vis_mask).astype(np.uint16)\n",
    "    depth_instance = cv2.bitwise_and(depth_img_read, depth_img_read, mask=vis_mask).astype(np.uint16)\n",
    "    cv2.imwrite(CROP_DIR + '/bed_crop.jpg', color_instance)\n",
    "    cv2.imwrite(CROP_DIR + '/bed_crop.png', depth_instance)\n",
    "    \n",
    "#     set_cam_params(cam_intrins, d_scale)\n",
    "    ICP_result_bed = process_bed_detection()"
   ]
  },
  {
   "cell_type": "code",
   "execution_count": 6,
   "metadata": {},
   "outputs": [
    {
     "ename": "NameError",
     "evalue": "name 'viewpoint' is not defined",
     "output_type": "error",
     "traceback": [
      "\u001b[0;31m---------------------------------------------------------------------------\u001b[0m",
      "\u001b[0;31mNameError\u001b[0m                                 Traceback (most recent call last)",
      "\u001b[0;32m<ipython-input-6-596d2d692909>\u001b[0m in \u001b[0;36m<module>\u001b[0;34m()\u001b[0m\n\u001b[1;32m      1\u001b[0m \u001b[0;31m# 인식한 결과를 바탕으로 geometry 추가\u001b[0m\u001b[0;34m\u001b[0m\u001b[0;34m\u001b[0m\u001b[0m\n\u001b[1;32m      2\u001b[0m \u001b[0mT_co\u001b[0m \u001b[0;34m=\u001b[0m \u001b[0mICP_result_bed\u001b[0m\u001b[0;34m\u001b[0m\u001b[0m\n\u001b[0;32m----> 3\u001b[0;31m \u001b[0mT_bc\u001b[0m \u001b[0;34m=\u001b[0m \u001b[0mviewpoint\u001b[0m\u001b[0;34m.\u001b[0m\u001b[0mget_tf\u001b[0m\u001b[0;34m(\u001b[0m\u001b[0mlist2dict\u001b[0m\u001b[0;34m(\u001b[0m\u001b[0mVIEW_POSE\u001b[0m\u001b[0;34m,\u001b[0m \u001b[0mgscene\u001b[0m\u001b[0;34m.\u001b[0m\u001b[0mjoint_names\u001b[0m\u001b[0;34m)\u001b[0m\u001b[0;34m)\u001b[0m\u001b[0;34m\u001b[0m\u001b[0m\n\u001b[0m\u001b[1;32m      4\u001b[0m \u001b[0mT_bo\u001b[0m \u001b[0;34m=\u001b[0m \u001b[0mnp\u001b[0m\u001b[0;34m.\u001b[0m\u001b[0mmatmul\u001b[0m\u001b[0;34m(\u001b[0m\u001b[0mT_bc\u001b[0m\u001b[0;34m,\u001b[0m \u001b[0mT_co\u001b[0m\u001b[0;34m)\u001b[0m\u001b[0;34m\u001b[0m\u001b[0m\n\u001b[1;32m      5\u001b[0m \u001b[0;34m\u001b[0m\u001b[0m\n",
      "\u001b[0;31mNameError\u001b[0m: name 'viewpoint' is not defined"
     ]
    }
   ],
   "source": [
    "# 인식한 결과를 바탕으로 geometry 추가\n",
    "T_co = ICP_result_bed\n",
    "T_bc = viewpoint.get_tf(list2dict(VIEW_POSE, gscene.joint_names))\n",
    "T_bo = np.matmul(T_bc, T_co)\n",
    "\n",
    "# geometry 추가\n",
    "# how to import gemoetry from stl file?"
   ]
  },
  {
   "cell_type": "code",
   "execution_count": null,
   "metadata": {},
   "outputs": [],
   "source": []
  },
  {
   "cell_type": "code",
   "execution_count": null,
   "metadata": {},
   "outputs": [],
   "source": []
  },
  {
   "cell_type": "markdown",
   "metadata": {},
   "source": [
    "## 상두대 인식"
   ]
  },
  {
   "cell_type": "code",
   "execution_count": 15,
   "metadata": {},
   "outputs": [],
   "source": [
    "# Coordinate of stl model importing\n",
    "\n",
    "# top_table_model = o3d.io.read_triangle_mesh(MODEL_DIR + '/top_table/top_table.STL')\n",
    "# top_table_model.vertices = o3d.utility.Vector3dVector(\n",
    "#     np.asarray(top_table_model.vertices) * np.array([1 / 1000.0, 1 / 1000.0, 1 / 1000.0]))\n",
    "# FOR_origin = o3d.geometry.TriangleMesh.create_coordinate_frame(size=0.2, origin=[0, 0, 0])\n",
    "# o3d.visualization.draw_geometries([top_table_model, FOR_origin])"
   ]
  },
  {
   "cell_type": "markdown",
   "metadata": {},
   "source": [
    "## Move and Scan"
   ]
  },
  {
   "cell_type": "code",
   "execution_count": 10,
   "metadata": {},
   "outputs": [],
   "source": [
    "if CONNECT_CAM:\n",
    "    color_path = SAVE_DIR + '/bed.jpg'\n",
    "    depth_path = SAVE_DIR + '/bed.png'\n",
    "else:\n",
    "    color_path = EXP_IMG_DIR + '/513.jpg'\n",
    "    depth_path = EXP_IMG_DIR + '/513.jpg'\n",
    "\n",
    "# Robot이 어느쪽에서 찍었는 지 \"LEFT\" or \"RIGHT\"만 넣어주면 됨\n",
    "TOP_TABLE_LOCATION = check_location_top_table(color_path, depth_path, ROBOT_LOCATION)"
   ]
  },
  {
   "cell_type": "code",
   "execution_count": null,
   "metadata": {},
   "outputs": [],
   "source": [
    "# if CONNECT_CAM:\n",
    "#     rdict = stream_capture_image(ImageType.FirstView, 1, host=CAM_HOST)\n",
    "#     check_color_path = SAVE_DIR + '/top_table_check.jpg'\n",
    "#     check_depth_path = SAVE_DIR + '/top_table_check.png'\n",
    "# else:\n",
    "#     check_color_path = EXP_IMG_DIR + '/top_table_check.jpg'\n",
    "#     check_depth_path = EXP_IMG_DIR + '/top_table_check.png'\n",
    "\n",
    "# # Check whether top table exist or not at scanning location\n",
    "# check_top_table = check_top_table_exist(check_color_path, check_depth_path)"
   ]
  },
  {
   "cell_type": "code",
   "execution_count": 5,
   "metadata": {},
   "outputs": [],
   "source": [
    "# 인식한 침대 결과를 기반으로 대략적인 위치로 모바일 로봇 이동하거나,적당한 위치로 이동한 후 \n",
    "# 스캔 결과를 treat 해서 여기에 상두대가 있는 지 없는지 판단\n",
    "# 인식한 침대 결과 기반으로 이동한 후, 위아래로 이미지 스캔하는 동작 + 스캔하면서 이미지 저장\n",
    "# 이미지 저장 시작 - 모션 시작 - 모션 끝 - 이미지 저장 끝 (위아래 왕복 모션이 필요 loop closure detection 때문)\n",
    "# for문 / while문으로 이미지 연속으로 저장 가능\n",
    "for i in range(50):\n",
    "    time.sleep(0.01)\n",
    "    rdict = stream_capture_image(ImageType.CloseView, i, host=CAM_HOST)"
   ]
  },
  {
   "cell_type": "code",
   "execution_count": 34,
   "metadata": {},
   "outputs": [],
   "source": [
    "if not CONNECT_CAM:\n",
    "    COLOR_PATH = EXP_IMG_DIR + \"/top_table/color\"\n",
    "    DEPTH_PATH = EXP_IMG_DIR + \"/top_table/depth\"\n",
    "    INTRINSIC_PATH = EXP_IMG_DIR + \"/top_table\"\n",
    "\n",
    "save_intrinsic_as_json(INTRINSIC_PATH + \"/intrinsic.json\")\n",
    "INTRINSIC_PATH = INTRINSIC_PATH + \"/intrinsic.json\""
   ]
  },
  {
   "cell_type": "code",
   "execution_count": 12,
   "metadata": {},
   "outputs": [
    {
     "data": {
      "text/plain": [
       "'========= Complete 3D Reconstruction ========='"
      ]
     },
     "execution_count": 12,
     "metadata": {},
     "output_type": "execute_result"
    }
   ],
   "source": [
    "from boost_reconstruction.reconstruction_interface import reconstruction_interface_py as rci\n",
    "rci.getReconstruction(COLOR_PATH, DEPTH_PATH, INTRINSIC_PATH, MILESTONE_DIR)"
   ]
  },
  {
   "cell_type": "code",
   "execution_count": 15,
   "metadata": {},
   "outputs": [],
   "source": [
    "pcd_top_table = o3d.io.read_point_cloud(MILESTONE_DIR + \"/pcd_no.ply\")\n",
    "FOR_origin = o3d.geometry.TriangleMesh.create_coordinate_frame(size=0.2, origin=[0, 0, 0])\n",
    "o3d.visualization.draw_geometries([pcd_top_table, FOR_origin])"
   ]
  },
  {
   "cell_type": "code",
   "execution_count": null,
   "metadata": {},
   "outputs": [],
   "source": [
    "ICP_result_top_table = process_top_table_detection()"
   ]
  },
  {
   "cell_type": "code",
   "execution_count": null,
   "metadata": {},
   "outputs": [],
   "source": [
    "# 인식한 결과를 바탕으로 geometry 추가\n",
    "# 이때 pcd의 coordinate, 즉 카메라 시점은 첫번째 이미지를 찍었을 때의 시점임. 유의 필요\n",
    "T_co = ICP_result_top_table\n",
    "T_bc = viewpoint.get_tf(list2dict(VIEW_POSE, gscene.joint_names))\n",
    "T_bo = np.matmul(T_bc, T_co)\n",
    "\n",
    "# geometry 추가\n",
    "# how to import gemoetry from stl file?"
   ]
  },
  {
   "cell_type": "code",
   "execution_count": null,
   "metadata": {},
   "outputs": [],
   "source": []
  },
  {
   "cell_type": "markdown",
   "metadata": {},
   "source": [
    "### 배게 인식"
   ]
  },
  {
   "cell_type": "code",
   "execution_count": 6,
   "metadata": {},
   "outputs": [],
   "source": [
    "import pickle\n",
    "\n",
    "with open(SAVE_DIR + '/bed_close_shots/bed_close_4.pkl', 'rb') as f:\n",
    "    data = pickle.load(f)\n",
    "\n",
    "Q = data[\"Q\"]\n",
    "T_rb = data[\"T_robot_bed\"]\n",
    "\n",
    "color_instance = data[\"image_dict\"][\"color\"]\n",
    "depth_instance = data[\"image_dict\"][\"depth\"]\n",
    "\n",
    "pcd = make_pcd(color_instance, depth_instance)\n",
    "\n",
    "o3d.visualization.draw_geometries([pcd])"
   ]
  }
 ],
 "metadata": {
  "kernelspec": {
   "display_name": "Python 2",
   "language": "python",
   "name": "python2"
  },
  "language_info": {
   "codemirror_mode": {
    "name": "ipython",
    "version": 2
   },
   "file_extension": ".py",
   "mimetype": "text/x-python",
   "name": "python",
   "nbconvert_exporter": "python",
   "pygments_lexer": "ipython2",
   "version": "2.7.17"
  }
 },
 "nbformat": 4,
 "nbformat_minor": 2
}
