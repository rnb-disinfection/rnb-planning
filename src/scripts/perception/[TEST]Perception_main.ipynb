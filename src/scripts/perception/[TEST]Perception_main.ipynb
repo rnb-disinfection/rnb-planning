{
 "cells": [
  {
   "cell_type": "markdown",
   "metadata": {},
   "source": [
    "# Perception Test\n",
    "    - Take RGBD images through camera\n",
    "    - Total scene reconstruction based on aquired RGBD images\n",
    "    - Segmentation objects of interest using cascade mask rcnn(based on swin-trasformer)\n",
    "    - Get point cloud of object by taking overlapped part between segemtation and total reconstruction result"
   ]
  },
  {
   "cell_type": "code",
   "execution_count": 1,
   "metadata": {},
   "outputs": [],
   "source": [
    "import open3d as o3d\n",
    "import numpy as np\n",
    "import pyrealsense2 as rs\n",
    "import cv2\n",
    "import os\n",
    "import sys\n",
    "import shutil\n",
    "import json"
   ]
  },
  {
   "cell_type": "markdown",
   "metadata": {},
   "source": [
    "## Directory, path setting"
   ]
  },
  {
   "cell_type": "code",
   "execution_count": 2,
   "metadata": {},
   "outputs": [],
   "source": [
    "from utils.perception_config import *\n",
    "os.chdir(os.path.join(os.environ[\"RNB_PLANNING_DIR\"], 'src'))\n",
    "sys.path.append(os.path.join(os.environ[\"RNB_PLANNING_DIR\"], 'src/scripts/perception'))\n",
    "\n",
    "cfg_off = '--src_path='\n",
    "color_off = '--color_path='\n",
    "depth_off = '--depth_path='\n",
    "img_num_off = '--img_num='\n",
    "output_off = '--output_path='"
   ]
  },
  {
   "cell_type": "code",
   "execution_count": 3,
   "metadata": {},
   "outputs": [],
   "source": [
    "from scripts.perception.utils.function_utils import *"
   ]
  },
  {
   "cell_type": "markdown",
   "metadata": {},
   "source": [
    "## Acquire RGBD images"
   ]
  },
  {
   "cell_type": "code",
   "execution_count": 3,
   "metadata": {},
   "outputs": [
    {
     "name": "stdout",
     "output_type": "stream",
     "text": [
      "/home/jhkim/Projects/rnb-planning/src/scripts/perception/dataset not empty. Overwrite? (y/n) : ㅜ'\n"
     ]
    }
   ],
   "source": [
    "streaming(DATASET_DIR)"
   ]
  },
  {
   "cell_type": "code",
   "execution_count": null,
   "metadata": {},
   "outputs": [],
   "source": []
  },
  {
   "cell_type": "markdown",
   "metadata": {},
   "source": [
    "## Scene Reconstruction\n",
    "#### Issue : Not implemented yet. Further development is needed."
   ]
  },
  {
   "cell_type": "code",
   "execution_count": 1,
   "metadata": {},
   "outputs": [],
   "source": [
    "from boost_reconstruction.reconstruction_interface import reconstruction_interface_py as rci"
   ]
  },
  {
   "cell_type": "code",
   "execution_count": 5,
   "metadata": {},
   "outputs": [
    {
     "data": {
      "text/plain": [
       "'========= Complete 3D Reconstruction ========='"
      ]
     },
     "execution_count": 5,
     "metadata": {},
     "output_type": "execute_result"
    }
   ],
   "source": [
    "rci.getReconstruction(COLOR_PATH, DEPTH_PATH, INTRINSIC_PATH, WORKING_DIR)"
   ]
  },
  {
   "cell_type": "code",
   "execution_count": 6,
   "metadata": {},
   "outputs": [],
   "source": [
    "# Construct Camera_parameter Class\n",
    "# It has intrinsic, extrinsic parameter\n",
    "cam_params = Camera_parameter(INTRINSIC_PATH, EXTRINSIC_PATH)"
   ]
  },
  {
   "cell_type": "code",
   "execution_count": 7,
   "metadata": {},
   "outputs": [
    {
     "name": "stdout",
     "output_type": "stream",
     "text": [
      "198\n"
     ]
    }
   ],
   "source": [
    "img_num = len(cam_params.cam_traj)\n",
    "\n",
    "# Check img_num\n",
    "print(img_num)"
   ]
  },
  {
   "cell_type": "code",
   "execution_count": null,
   "metadata": {},
   "outputs": [],
   "source": []
  },
  {
   "cell_type": "markdown",
   "metadata": {},
   "source": [
    "## Segmentation "
   ]
  },
  {
   "cell_type": "code",
   "execution_count": 8,
   "metadata": {},
   "outputs": [],
   "source": [
    "import subprocess"
   ]
  },
  {
   "cell_type": "code",
   "execution_count": 9,
   "metadata": {},
   "outputs": [],
   "source": [
    "cfg_path_arg = cfg_off + WORKING_DIR + \"/utils\"\n",
    "color_path_arg = color_off + COLOR_PATH\n",
    "depth_path_arg = depth_off + DEPTH_PATH\n",
    "img_num_arg = img_num_off + str(img_num)\n",
    "output_path_arg = output_off + DATASET_DIR"
   ]
  },
  {
   "cell_type": "code",
   "execution_count": 10,
   "metadata": {},
   "outputs": [],
   "source": [
    "_ = subprocess.check_output(['python3',\n",
    "                    WORKING_DIR + '/utils' + '/object_detect.py',\n",
    "                    cfg_path_arg, color_path_arg, depth_path_arg, img_num_arg, output_path_arg])"
   ]
  },
  {
   "cell_type": "code",
   "execution_count": 11,
   "metadata": {},
   "outputs": [
    {
     "name": "stdout",
     "output_type": "stream",
     "text": [
      "5\n"
     ]
    }
   ],
   "source": [
    "obj_detected_num = len(os.listdir(DATASET_DIR + '/color_segmented'))\n",
    "\n",
    "# Check obj_detected_num\n",
    "print(obj_detected_num)"
   ]
  },
  {
   "cell_type": "code",
   "execution_count": null,
   "metadata": {},
   "outputs": [],
   "source": []
  },
  {
   "cell_type": "markdown",
   "metadata": {},
   "source": [
    "## Get PCD of each objects\n",
    "#### Issue : Poor pcd result of each object is obtained due to poor total Reconsturction"
   ]
  },
  {
   "cell_type": "code",
   "execution_count": 12,
   "metadata": {},
   "outputs": [],
   "source": [
    "# Extract Overlapping points\n",
    "obj_pcd_num = getPCDAll(img_num, DEPTH_SEG_PATH, RECONST_PCD_PATH, cam_params)"
   ]
  },
  {
   "cell_type": "code",
   "execution_count": 13,
   "metadata": {},
   "outputs": [
    {
     "name": "stdout",
     "output_type": "stream",
     "text": [
      "3\n"
     ]
    }
   ],
   "source": [
    "# Check obj_pcd_num\n",
    "print(obj_pcd_num)"
   ]
  },
  {
   "cell_type": "code",
   "execution_count": null,
   "metadata": {},
   "outputs": [],
   "source": []
  },
  {
   "cell_type": "markdown",
   "metadata": {},
   "source": [
    "## Apply GPD\n",
    "#### To get successful result, input point cloud of object should be dense, clear and sharp"
   ]
  },
  {
   "cell_type": "code",
   "execution_count": 14,
   "metadata": {},
   "outputs": [],
   "source": [
    "import SharedArray as sa"
   ]
  },
  {
   "cell_type": "code",
   "execution_count": 15,
   "metadata": {},
   "outputs": [],
   "source": [
    "from boost_gpd.gpd_interface import grasp_interface_py as gi"
   ]
  },
  {
   "cell_type": "code",
   "execution_count": 16,
   "metadata": {},
   "outputs": [],
   "source": [
    "attacth_to_server()"
   ]
  },
  {
   "cell_type": "code",
   "execution_count": 21,
   "metadata": {},
   "outputs": [
    {
     "name": "stdout",
     "output_type": "stream",
     "text": [
      "3\n"
     ]
    }
   ],
   "source": [
    "grasp_list = getGPDAll(obj_pcd_num)\n",
    "\n",
    "# Check grasp_list\n",
    "print(len(grasp_list))"
   ]
  },
  {
   "cell_type": "code",
   "execution_count": null,
   "metadata": {},
   "outputs": [],
   "source": [
    "grasp_list[0][0][:,:] = np.zeros((4,4))\n",
    "grasp_list[1][0][:,:] = np.zeros((4,4))\n",
    "grasp_list[2][0][:,:] = np.zeros((4,4))"
   ]
  },
  {
   "cell_type": "code",
   "execution_count": 27,
   "metadata": {},
   "outputs": [],
   "source": [
    "# Set y-axis outward to match at gripper0 coordinate\n",
    "for i in range(len(grasp_list)):\n",
    "    for j in range(len(grasp_list[i])):\n",
    "        grasp_list[i][j][:3,:3] = np.matmul(grasp_list[i][j][:3,:3], Rot_axis(3, np.pi/2))"
   ]
  },
  {
   "cell_type": "code",
   "execution_count": 28,
   "metadata": {},
   "outputs": [],
   "source": [
    "# grasp_list[0][0][:,:] = np.zeros((4,4))\n",
    "# grasp_list[1][0][:,:] = np.zeros((4,4))\n",
    "# grasp_list[2][0][:,:] = np.zeros((4,4))\n",
    "grasp_list[0][0][:,:] = np.identity(4)\n",
    "# grasp_list[0][0][:3,:3] = Rot_axis(3, np.pi/4)\n",
    "# grasp_list[0][1][:,:] = np.identity(4)\n",
    "# grasp_list[0][1][:3,:3] = Rot_axis(3, np.pi/4)"
   ]
  },
  {
   "cell_type": "code",
   "execution_count": null,
   "metadata": {},
   "outputs": [],
   "source": []
  },
  {
   "cell_type": "markdown",
   "metadata": {},
   "source": [
    "## Simulate Robot motion"
   ]
  },
  {
   "cell_type": "code",
   "execution_count": 30,
   "metadata": {},
   "outputs": [
    {
     "name": "stdout",
     "output_type": "stream",
     "text": [
      "connection command:\n",
      "indy0: False\n"
     ]
    }
   ],
   "source": [
    "from pkg.controller.combined_robot import *\n",
    "from pkg.project_config import *\n",
    "\n",
    "crob = CombinedRobot(robots_on_scene=[\n",
    "    RobotConfig(0, RobotType.indy7gripper, None,\n",
    "                INDY_IP)]\n",
    "              , connection_list=[False])"
   ]
  },
  {
   "cell_type": "code",
   "execution_count": 31,
   "metadata": {},
   "outputs": [],
   "source": [
    "from pkg.geometry.builder.scene_builder import SceneBuilder\n",
    "s_builder = SceneBuilder(None)\n",
    "# s_builder.reset_reference_coord(ref_name=\"floor\")"
   ]
  },
  {
   "cell_type": "code",
   "execution_count": 32,
   "metadata": {},
   "outputs": [
    {
     "name": "stdout",
     "output_type": "stream",
     "text": [
      "Unable to register with master node [http://localhost:11311]: master may not be running yet. Will keep trying.\n",
      "Please create a subscriber to the marker\n",
      "publication OK\n",
      "published: [0, 0, 0, 0, 0, 0]\n"
     ]
    }
   ],
   "source": [
    "# xyz_rpy_robots = s_builder.detect_items(level_mask=[DetectionLevel.ROBOT])\n",
    "xyz_rpy_robots = {\"indy0\": ((0,0,0), (0,0,-np.pi/2))}\n",
    "crob.update_robot_pos_dict(xyz_rpy_robots=xyz_rpy_robots)\n",
    "gscene = s_builder.create_gscene(crob)"
   ]
  },
  {
   "cell_type": "code",
   "execution_count": 33,
   "metadata": {},
   "outputs": [],
   "source": [
    "# # geometry 추가\n",
    "# from pkg.geometry.geometry import *\n",
    "# mobile_base = gscene.create_safe(gtype=GEOTYPE.BOX, name=\"mobile_base\", link_name=\"base_link\", \n",
    "#                    dims=(0.6,0.4,0.439), center=(0,0,-0.439/2), rpy=(0,0,0), \n",
    "#                    color=(0.8,0.8,0.8,0.5), display=True, fixed=True, collision=False)\n",
    "# floor = gscene.create_safe(gtype=GEOTYPE.BOX, name=\"floor\", link_name=\"base_link\", \n",
    "#                    dims=(10,10,0.01), center=(0,0,-0.439), rpy=(0,0,0), \n",
    "#                    color=(0.8,0.8,0.8,0.5), display=True, fixed=True, collision=False)"
   ]
  },
  {
   "cell_type": "code",
   "execution_count": 34,
   "metadata": {},
   "outputs": [
    {
     "name": "stdout",
     "output_type": "stream",
     "text": [
      "Please create a subscriber to the marker\n"
     ]
    }
   ],
   "source": [
    "gtems = s_builder.add_robot_geometries(color=(0,1,0,0.5), display=True, collision=True)"
   ]
  },
  {
   "cell_type": "code",
   "execution_count": 35,
   "metadata": {},
   "outputs": [],
   "source": [
    "for gtem in gscene:\n",
    "    round_it_str(gtem.dims)\n",
    "    round_it_str(gtem.center)"
   ]
  },
  {
   "cell_type": "code",
   "execution_count": 36,
   "metadata": {},
   "outputs": [
    {
     "data": {
      "text/plain": [
       "<pkg.geometry.geometry.GeometryItem at 0x7efd97f0b390>"
      ]
     },
     "execution_count": 36,
     "metadata": {},
     "output_type": "execute_result"
    }
   ],
   "source": [
    "# Add cam\n",
    "from pkg.geometry.geotype import GEOTYPE\n",
    "gscene.create_safe(gtype=GEOTYPE.CYLINDER, name=\"cam\", link_name=\"indy0_tcp\", \n",
    "                   dims=(0.061,0.061,0.026), center=(-0.0785,0,0.013), rpy=(0,0,0), \n",
    "                   color=(0.8,0.8,0.8,0.5), display=True, fixed=True, collision=False)\n",
    "\n",
    "gscene.create_safe(gtype=GEOTYPE.CYLINDER, name=\"cam_col\", link_name=\"indy0_tcp\", \n",
    "                   dims=(0.081,0.081,0.046), center=(-0.0785,0,0.013), rpy=(0,0,0), \n",
    "                   color=(0.0,1,0,0.3), display=True, fixed=True, collision=True)\n",
    "\n",
    "viewpoint = gscene.create_safe(gtype=GEOTYPE.SPHERE, name=\"viewpoint\", link_name=\"indy0_tcp\", \n",
    "                   dims=(0.01,0.01,0.01), center=(-0.014,0,0), rpy=(0,0,-np.pi/2), \n",
    "                   color=(1,0,0,0.3), display=True, fixed=True, collision=False, parent=\"cam\")\n",
    "\n",
    "gscene.create_safe(gtype=GEOTYPE.CYLINDER, name=\"body\", link_name=\"indy0_tcp\", \n",
    "                   dims=(0.067,0.067,0.0335), center=(-0.0785,0,-0.01675), rpy=(0,0,0), \n",
    "                   color=(0.8,0.8,0.8,1), display=True, fixed=True, collision=False)\n",
    "\n",
    "gscene.create_safe(gtype=GEOTYPE.CYLINDER, name=\"body_col\", link_name=\"indy0_tcp\", \n",
    "                   dims=(0.087,0.087,0.0535), center=(-0.0785,0,-0.01675), rpy=(0,0,0), \n",
    "                   color=(0.0,1,0,0.3), display=True, fixed=True, collision=True)\n",
    "\n",
    "gscene.create_safe(gtype=GEOTYPE.SPHERE, name=\"backhead\", link_name=\"indy0_tcp\", \n",
    "                   dims=(0.067,0.067,0.067), center=(-0.0785,0,-0.0335), rpy=(0,0,0), \n",
    "                   color=(0.8,0.8,0.8,1), display=True, fixed=True, collision=False)\n",
    "\n",
    "gscene.create_safe(gtype=GEOTYPE.SPHERE, name=\"backhead_col\", link_name=\"indy0_tcp\", \n",
    "                   dims=(0.087,0.087,0.087), center=(-0.0785,0,-0.0335), rpy=(0,0,0), \n",
    "                   color=(0.0,1,0,0.3), display=True, fixed=True, collision=True)"
   ]
  },
  {
   "cell_type": "code",
   "execution_count": 37,
   "metadata": {},
   "outputs": [],
   "source": [
    "# INIT_POSE = np.deg2rad([  0., -28.,  85.,  -0.,  57., -180])\n",
    "INIT_POSE = np.deg2rad([  -90., -22.,  70.,  0.,  60., -180.])\n",
    "gscene.show_pose(INIT_POSE)"
   ]
  },
  {
   "cell_type": "code",
   "execution_count": null,
   "metadata": {},
   "outputs": [],
   "source": []
  },
  {
   "cell_type": "markdown",
   "metadata": {},
   "source": [
    "## Convert point cloud to Scene Geometry\n",
    "#### Issue : Quite time consuming.  Complicated shape is difficult to decompose to simple geometry using ransac fitting"
   ]
  },
  {
   "cell_type": "code",
   "execution_count": 4,
   "metadata": {},
   "outputs": [],
   "source": [
    "obj_pcd_num = 1"
   ]
  },
  {
   "cell_type": "code",
   "execution_count": 5,
   "metadata": {},
   "outputs": [],
   "source": [
    "# Test box shape\n",
    "box = o3d.geometry.TriangleMesh.create_box(width=0.06, height=0.06, depth=0.06)\n",
    "R = box.get_rotation_matrix_from_xyz((5*np.pi / 8, 0, np.pi / 2))\n",
    "box.rotate(R)\n",
    "box.translate((0.18,0.42,0.38))\n",
    "pcd = box.sample_points_uniformly(8000)\n",
    "# pcd = pcd.uniform_down_sample(every_k_points=10)\n",
    "pcd = pcd.voxel_down_sample(voxel_size=0.008)\n",
    "# points = np.asarray(pcd.points)\n",
    "# points += np.random.normal(0, 0.005, size=points.shape)\n",
    "# pcd.points = o3d.utility.Vector3dVector(points)"
   ]
  },
  {
   "cell_type": "code",
   "execution_count": 36,
   "metadata": {},
   "outputs": [],
   "source": [
    "# Test sphere shape\n",
    "sphere = o3d.geometry.TriangleMesh.create_sphere(radius=0.05)\n",
    "R = sphere.get_rotation_matrix_from_xyz((np.pi / 4, -np.pi / 4, np.pi / 4))\n",
    "sphere.rotate(R)\n",
    "sphere.translate((0.19,0.42,0.38))\n",
    "pcd = sphere.sample_points_uniformly(6000)\n",
    "# pcd = pcd.uniform_down_sample(every_k_points=10)\n",
    "pcd = pcd.voxel_down_sample(voxel_size=0.01)"
   ]
  },
  {
   "cell_type": "code",
   "execution_count": 15,
   "metadata": {},
   "outputs": [],
   "source": [
    "# Test cylinder shape\n",
    "cyl = o3d.geometry.TriangleMesh.create_cylinder(radius=0.04, height=0.13)\n",
    "R = cyl.get_rotation_matrix_from_xyz((5*np.pi / 8, 0, np.pi / 2))\n",
    "cyl.rotate(R)\n",
    "cyl.translate((0.19,0.395,0.38))\n",
    "pcd = cyl.sample_points_uniformly(2200)\n",
    "# pcd = pcd.uniform_down_sample(every_k_points=10)\n",
    "pcd = pcd.voxel_down_sample(voxel_size=0.01)"
   ]
  },
  {
   "cell_type": "code",
   "execution_count": 16,
   "metadata": {},
   "outputs": [],
   "source": [
    "pcd.paint_uniform_color((0,0,0))\n",
    "o3d.visualization.draw_geometries([pcd])"
   ]
  },
  {
   "cell_type": "code",
   "execution_count": 10,
   "metadata": {},
   "outputs": [],
   "source": [
    "obj_pcd_list = []\n",
    "for i in range(obj_pcd_num):\n",
    "    obj_pcd_list.append(o3d.io.read_point_cloud(WORKING_DIR + \"/object_{}.pcd\".format(i)))"
   ]
  },
  {
   "cell_type": "code",
   "execution_count": 6,
   "metadata": {},
   "outputs": [
    {
     "name": "stdout",
     "output_type": "stream",
     "text": [
      "('Total number :', 580)\n",
      "('Cuboid inlier : ', 290)\n",
      "('Sphere inlier : ', 153)\n",
      "('Cylinder inlier : ', 207)\n",
      "('Outlier ratio : ', 0.0)\n",
      "Cuboid\n",
      "[array([-0.00808687, -0.01841253,  0.08832682]), array([[-0.9989,  0.0196, -0.0417,  0.0152],\n",
      "       [-0.0203, -0.9997,  0.0169,  0.0262],\n",
      "       [-0.0414,  0.0177,  0.999 , -0.1757]]), array([[-9.991e-01,  3.820e-02, -1.670e-02, -2.650e-02],\n",
      "       [ 3.830e-02,  9.993e-01, -2.900e-03,  6.250e-02],\n",
      "       [ 1.660e-02, -3.600e-03, -9.999e-01,  1.000e-04]])]\n"
     ]
    }
   ],
   "source": [
    "for i in range(obj_pcd_num):\n",
    "#     pcd = o3d.io.read_point_cloud(WORKING_DIR + '/krylon.pcd')\n",
    "    pcd = o3d.io.read_point_cloud(WORKING_DIR + '/nontextured.ply')\n",
    "#     pcd = o3d.io.read_point_cloud(WORKING_DIR + '/vase.ply').uniform_down_sample(every_k_points=20)\n",
    "#     pcd = o3d.io.read_point_cloud(WORKING_DIR + '/cube.ply').uniform_down_sample(every_k_points=130)\n",
    "#     pcd = o3d.io.read_point_cloud(WORKING_DIR + '/sphere.ply').uniform_down_sample(every_k_points=130)\n",
    "    pcd = pcd.voxel_down_sample(voxel_size=0.01)\n",
    "    p_inliers = geometry_matching(np.asarray(pcd.points), i, voxel_size=0.01, outliers_ratio_max=0.2,\n",
    "                                  thres_ratioB=0.17, thres_ratioS=0.11, thres_ratioC=0.20)\n",
    "#     p_inliers = geometry_matching(np.asarray(obj_pcd_list[i].uniform_down_sample(every_k_points=11).points),i)\n",
    "    result = o3d.geometry.PointCloud()\n",
    "    pcd.paint_uniform_color((0,0,0))\n",
    "    result.points = o3d.utility.Vector3dVector(p_inliers)\n",
    "    result.paint_uniform_color((1,0,0))\n",
    "    o3d.visualization.draw_geometries([pcd, result])\n",
    "#     o3d.visualization.draw_geometries([obj_pcd_list[i].uniform_down_sample(every_k_points=11), result])"
   ]
  },
  {
   "cell_type": "code",
   "execution_count": 7,
   "metadata": {},
   "outputs": [],
   "source": [
    "def rendering_ransac_result(T_co, dims, geo_type):\n",
    "    if (geo_type == 'Cuboid'):\n",
    "        fitting_model = o3d.geometry.TriangleMesh.create_box(width=dims[0], height=dims[1], depth=dims[2])\n",
    "        fitting_model.translate(T_co[:3,3] - (dims[0]/2.0, dims[1]/2.0, dims[2]/2.0))\n",
    "        fitting_model.rotate(T_co[:3,:3])\n",
    "        return fitting_model\n",
    "    elif (geo_type == 'Sphere'):\n",
    "        fitting_model = o3d.geometry.TriangleMesh.create_sphere(radius=dims[0])\n",
    "        fitting_model.translate(T_co[:3,3])\n",
    "        fitting_model.rotate(T_co[:3,:3])\n",
    "        return fitting_model\n",
    "    elif (geo_type == 'Cylinder'):\n",
    "        fitting_model = o3d.geometry.TriangleMesh.create_cylinder(radius=dims[0], height=dims[2])\n",
    "        fitting_model.translate(T_co[:3,3])\n",
    "        fitting_model.rotate(T_co[:3,:3])\n",
    "        return fitting_model  "
   ]
  },
  {
   "cell_type": "code",
   "execution_count": 8,
   "metadata": {},
   "outputs": [],
   "source": [
    "# load해서 geometry 추가\n",
    "\n",
    "total_geometry = []\n",
    "for i in range(obj_pcd_num):\n",
    "    with open(WORKING_DIR + '/obj_geometry_{}.json'.format(i), 'r') as f:\n",
    "        json_data = json.load(f)\n",
    "    component_num = len(json_data)\n",
    "    fitting_model = []\n",
    "    for j in range(component_num):\n",
    "        # For only visualize inliers with original point cloud\n",
    "        T_co, dims, geo_type = convertGeometry(json_data, j+1)\n",
    "        fitting_model.append(rendering_ransac_result(T_co, dims, geo_type))\n",
    "        pcd.paint_uniform_color((0,0,0))\n",
    "    \n",
    "    visualize_result = [pcd, result]\n",
    "#     visualize_result = [obj_pcd_list[i].uniform_down_sample(every_k_points=11), result]\n",
    "    for k in range(len(fitting_model)):\n",
    "        visualize_result.append(fitting_model[k])\n",
    "    o3d.visualization.draw_geometries(visualize_result)\n",
    "#     o3d.visualization.draw_geometries([pcd, result, fitting_model[0]])\n",
    "\n",
    "\n",
    "#     # Add geometry\n",
    "# #     Qcur = np.deg2rad([  -90., -22.,  70.,  0.,  60., -180.])\n",
    "#     T_bc = viewpoint.get_tf(list2dict(INIT_POSE, gscene.joint_names))\n",
    "#     total_geometry.append(add_geometry(gscene, json_data, T_bc, component_num, i+1, grasp_list))"
   ]
  },
  {
   "cell_type": "code",
   "execution_count": null,
   "metadata": {},
   "outputs": [],
   "source": []
  },
  {
   "cell_type": "markdown",
   "metadata": {},
   "source": [
    "## Planning Scene"
   ]
  },
  {
   "cell_type": "code",
   "execution_count": 44,
   "metadata": {},
   "outputs": [],
   "source": [
    "from pkg.planning.scene import PlanningScene"
   ]
  },
  {
   "cell_type": "code",
   "execution_count": 45,
   "metadata": {},
   "outputs": [],
   "source": [
    "pscene = PlanningScene(combined_robot=crob, gscene=gscene)"
   ]
  },
  {
   "cell_type": "code",
   "execution_count": 46,
   "metadata": {},
   "outputs": [
    {
     "data": {
      "text/plain": [
       "<pkg.geometry.geometry.GeometryItem at 0x7efe77009b10>"
      ]
     },
     "execution_count": 46,
     "metadata": {},
     "output_type": "execute_result"
    }
   ],
   "source": [
    "# Add grip point\n",
    "gscene.create_safe(gtype=GEOTYPE.SPHERE, name=\"grip0\", link_name=\"indy0_tcp\",\n",
    "                   dims=(0.01,)*3, center=(0, 0, 0.14), rpy=(-np.pi/2,0,0), \n",
    "                   color=(1,0,0,1), display=True, collision=False, fixed=True)"
   ]
  },
  {
   "cell_type": "code",
   "execution_count": 47,
   "metadata": {
    "scrolled": true
   },
   "outputs": [
    {
     "data": {
      "text/plain": [
       "<pkg.planning.constraint.constraint_actor.Gripper2Tool at 0x7efe77009e10>"
      ]
     },
     "execution_count": 47,
     "metadata": {},
     "output_type": "execute_result"
    }
   ],
   "source": [
    "from pkg.planning.constraint.constraint_actor import Gripper2Tool, PlacePlane\n",
    "pscene.create_binder(bname=\"grip0\", gname=\"grip0\", _type=Gripper2Tool, point=(0,0,0), rpy=(0,0,0))"
   ]
  },
  {
   "cell_type": "code",
   "execution_count": 48,
   "metadata": {},
   "outputs": [
    {
     "data": {
      "text/plain": [
       "<pkg.planning.constraint.constraint_actor.PlacePlane at 0x7efe7930d890>"
      ]
     },
     "execution_count": 48,
     "metadata": {},
     "output_type": "execute_result"
    }
   ],
   "source": [
    "table = gscene.create_safe(gtype=GEOTYPE.BOX, name=\"table\", link_name=\"base_link\",\n",
    "                           dims=(0.5,0.5,0.4), center=(0.6, 0.2, 0.2), rpy=(0,0,0),\n",
    "                           color=(0.7,0.7,0.7,1), display=True, collision=True, fixed=True)\n",
    "pscene.create_binder(bname=\"table\", gname=\"table\", _type=PlacePlane, point=None)"
   ]
  },
  {
   "cell_type": "code",
   "execution_count": 49,
   "metadata": {},
   "outputs": [
    {
     "data": {
      "text/plain": [
       "<pkg.planning.constraint.constraint_actor.PlacePlane at 0x7efe7a22f450>"
      ]
     },
     "execution_count": 49,
     "metadata": {},
     "output_type": "execute_result"
    }
   ],
   "source": [
    "goal = gscene.create_safe(gtype=GEOTYPE.BOX, name=\"goal\", link_name=\"base_link\",\n",
    "                           dims=(0.1,0.1,0.01), center=(0.5, 0.4, 0.395), rpy=(0,0,0),\n",
    "                           color=(0.7,0.0,0.0,1), display=True, collision=True, fixed=True)\n",
    "pscene.create_binder(bname=\"goal\", gname=\"goal\", _type=PlacePlane, point=None)"
   ]
  },
  {
   "cell_type": "code",
   "execution_count": null,
   "metadata": {},
   "outputs": [],
   "source": []
  },
  {
   "cell_type": "markdown",
   "metadata": {},
   "source": [
    "# Planning pipeline"
   ]
  },
  {
   "cell_type": "code",
   "execution_count": 50,
   "metadata": {},
   "outputs": [
    {
     "name": "stdout",
     "output_type": "stream",
     "text": [
      "Dash is running on http://0.0.0.0:8050/\n",
      "\n",
      " * Serving Flask app \"pkg.ui.dash_launcher\" (lazy loading)\n",
      " * Environment: production\n",
      "   WARNING: This is a development server. Do not use it in a production deployment.\n",
      "   Use a production WSGI server instead.\n",
      " * Debug mode: off\n",
      "generate table - Handle\n",
      "generate table - Bindergenerate table - Geometry\n",
      "\n",
      "generate table - Object\n"
     ]
    }
   ],
   "source": [
    "from pkg.planning.pipeline import PlanningPipeline\n",
    "ppline = PlanningPipeline(pscene)\n",
    "\n",
    "from pkg.ui.ui_broker import *\n",
    "\n",
    "# start UI\n",
    "ui_broker = UIBroker.instance()\n",
    "ui_broker.initialize(ppline, s_builder)\n",
    "ui_broker.start_server()\n",
    "\n",
    "ui_broker.set_tables()"
   ]
  },
  {
   "cell_type": "code",
   "execution_count": null,
   "metadata": {},
   "outputs": [],
   "source": []
  },
  {
   "cell_type": "code",
   "execution_count": 77,
   "metadata": {},
   "outputs": [
    {
     "name": "stdout",
     "output_type": "stream",
     "text": [
      "generate table - Handle\n",
      "generate table - Binder\n",
      "generate table - Geometry\n",
      "generate table - Object\n"
     ]
    }
   ],
   "source": [
    "# # example cup\n",
    "# cup_cyl = gscene.create_safe(gtype=GEOTYPE.CYLINDER, name=\"cup_cyl\", link_name=\"base_link\",\n",
    "#                    dims=(0.05,0.05, 0.07), center=(0.5, 0.2, 0.436), rpy=(0,0,0),\n",
    "#                    color=(0.7,0.7,0.3,1), display=True, collision=True, fixed=False)\n",
    "# cup_handle = gscene.create_safe(gtype=GEOTYPE.BOX, name=\"cup_handle\", link_name=\"base_link\",\n",
    "#                    dims=(0.02,0.02, 0.05), center=(0.035, 0, 0), rpy=(0,0,0),\n",
    "#                    color=(0.7,0.7,0.3,1), display=True, collision=True, fixed=False, parent=\"cup_cyl\")\n",
    "\n",
    "# from pkg.planning.constraint.constraint_subject import CustomObject, PlacePoint, DirectedPoint, ConstraintType\n",
    "# ##\n",
    "# # @class Grasp2PointFixed\n",
    "# # @brief ActionPoint for rnb-planning.src.pkg.planning.constraint.constraint_actor.Gripper2Tool\n",
    "# class Grasp2PointFixed(DirectedPoint):\n",
    "#     ctype=ConstraintType.Grasp2\n",
    "#     def get_redundancy(self):\n",
    "#         return {}\n",
    "# action_points_dict = {\"cup_placement\": PlacePoint(\"cup_placement\", cup_cyl, \n",
    "#                                                         point=[0,0,-cup_cyl.dims[2]/2-0.001], \n",
    "#                                                         rpy=[0,0,0])}\n",
    "# action_points_dict.update({\"cup_grasp\": Grasp2PointFixed(\"cup_grasp\", cup_cyl, \n",
    "#                                                     point=(0,0,0), \n",
    "#                                                     rpy=Rot2rpy(np.matmul(Rot_rpy((0,-np.pi/2,np.pi/2)), Rot_axis(3, -np.pi/4))))})\n",
    "# obj_pscene = pscene.create_subject(oname=\"cup\", gname=\"cup_cyl\", _type=CustomObject, \n",
    "#                              action_points_dict=action_points_dict)"
   ]
  },
  {
   "cell_type": "markdown",
   "metadata": {},
   "source": [
    "## Add Grasping point from result of GPD"
   ]
  },
  {
   "cell_type": "code",
   "execution_count": 51,
   "metadata": {},
   "outputs": [
    {
     "name": "stdout",
     "output_type": "stream",
     "text": [
      "generate table - Handle\n",
      "generate table - Binder\n",
      "generate table - Geometry\n",
      "generate table - Object\n"
     ]
    }
   ],
   "source": [
    "from pkg.planning.constraint.constraint_subject import CustomObject, PlacePoint, DirectedPoint, ConstraintType\n",
    "##\n",
    "# @class Grasp2PointFixed\n",
    "# @brief ActionPoint for rnb-planning.src.pkg.planning.constraint.constraint_actor.Gripper2Tool\n",
    "class Grasp2PointFixed(DirectedPoint):\n",
    "    ctype=ConstraintType.Grasp2\n",
    "    def get_redundancy(self):\n",
    "        return {}\n",
    "\n",
    "for i in range(obj_pcd_num):\n",
    "    action_points_dict = {\"obj_{}_placement\".format(i+1): PlacePoint(\"obj_{}_placement\".format(i+1), total_geometry[i], \n",
    "                                                point=[0,0,-total_geometry[i].dims[2]/2-0.001], rpy=[0,0,0])}\n",
    "    for j in range(len(grasp_list[i])):\n",
    "        if (np.array_equal(grasp_list[i][j], np.zeros((4,4))) == False):\n",
    "            action_points_dict.update({\"obj_{}\".format(i+1) + \"_grasp_{}\".format(j+1): Grasp2PointFixed(\"obj_{}\".format(i+1) + \"_grasp_{}\".format(j+1), total_geometry[i], \n",
    "                                                point=(0,0,0), rpy=Rot2rpy(np.matmul(np.matmul(grasp_list[i][j][:3,:3], Rot_axis(1, np.pi)), Rot_axis(2, -np.pi/2))))})\n",
    "    \n",
    "    obj_pscene = pscene.create_subject(oname=\"obj_pscene_{}\".format(i+1), gname=\"obj_{}\".format(i+1),\n",
    "                                       _type=CustomObject, action_points_dict=action_points_dict)"
   ]
  },
  {
   "cell_type": "code",
   "execution_count": 52,
   "metadata": {},
   "outputs": [],
   "source": [
    "from pkg.planning.motion.moveit.moveit_planner import MoveitPlanner"
   ]
  },
  {
   "cell_type": "code",
   "execution_count": 53,
   "metadata": {},
   "outputs": [],
   "source": [
    "mplan = MoveitPlanner(pscene)\n",
    "ppline.set_motion_planner(mplan=mplan)"
   ]
  },
  {
   "cell_type": "code",
   "execution_count": 54,
   "metadata": {},
   "outputs": [],
   "source": [
    "from pkg.planning.task.rrt import TaskRRT"
   ]
  },
  {
   "cell_type": "code",
   "execution_count": 55,
   "metadata": {},
   "outputs": [],
   "source": [
    "tplan = TaskRRT(pscene)\n",
    "ppline.set_task_planner(tplan)"
   ]
  },
  {
   "cell_type": "code",
   "execution_count": 56,
   "metadata": {},
   "outputs": [],
   "source": [
    "initial_state = pscene.initialize_state(INIT_POSE)\n",
    "# initial_state = pscene.initialize_state(crob.home_pose)"
   ]
  },
  {
   "cell_type": "code",
   "execution_count": 57,
   "metadata": {},
   "outputs": [],
   "source": [
    "goal_nodes = [('goal',)]"
   ]
  },
  {
   "cell_type": "code",
   "execution_count": 58,
   "metadata": {},
   "outputs": [
    {
     "name": "stdout",
     "output_type": "stream",
     "text": [
      "try: 0 - ('table',)->('grip0',)\n",
      "try transition motion\n",
      "transition motion tried: True\n",
      "result: 0 - ('table',)->('grip0',) = success\n",
      "branching: 0->1 (0.08/10.0 s, steps/err: 70(75.0870704651 ms)/0.00221066414226)\n",
      "======================================================================================================================================================\n",
      "try: 1 - ('grip0',)->('goal',)\n",
      "try transition motion\n",
      "transition motion tried: False\n",
      "Motion Plan Failure\n",
      "result: 1 - ('grip0',)->('goal',) = fail\n",
      "try: 1 - ('grip0',)->('table',)\n",
      "try transition motion\n",
      "transition motion tried: False\n",
      "Motion Plan Failure\n",
      "result: 1 - ('grip0',)->('table',) = fail\n",
      "try: 1 - ('grip0',)->('table',)\n",
      "try transition motion\n",
      "transition motion tried: True\n",
      "result: 1 - ('grip0',)->('table',) = success\n",
      "branching: 1->2 (2.19/10.0 s, steps/err: 15(55.5620193481 ms)/0.00170784214308)\n",
      "======================================================================================================================================================\n",
      "try: 0 - ('table',)->('grip0',)\n",
      "try transition motion\n",
      "transition motion tried: True\n",
      "result: 0 - ('table',)->('grip0',) = success\n",
      "branching: 0->3 (2.31/10.0 s, steps/err: 93(114.939928055 ms)/0.00109688785466)\n",
      "======================================================================================================================================================\n",
      "try: 3 - ('grip0',)->('goal',)\n",
      "try transition motion\n",
      "transition motion tried: True\n",
      "result: 3 - ('grip0',)->('goal',) = success\n",
      "branching: 3->4 (2.37/10.0 s, steps/err: 78(59.1850280762 ms)/0.00163672972002)\n",
      "======================================================================================================================================================\n",
      "++ adding return motion to acquired answer ++\n",
      "=========================================================================================================\n",
      "======================= terminated 0: first answer acquired ===============================\n",
      "=========================================================================================================\n"
     ]
    }
   ],
   "source": [
    "ppline.search(initial_state=initial_state, goal_nodes=goal_nodes, \n",
    "              verbose=True, add_homing=True, \n",
    "              timeout=1, timeout_loop=10)"
   ]
  },
  {
   "cell_type": "code",
   "execution_count": 63,
   "metadata": {},
   "outputs": [],
   "source": [
    "pscene.set_object_state(initial_state)"
   ]
  },
  {
   "cell_type": "code",
   "execution_count": 64,
   "metadata": {},
   "outputs": [],
   "source": [
    "schedules = ppline.tplan.find_schedules(False)\n",
    "schedules_sorted = ppline.tplan.sort_schedule(schedules)\n",
    "snode_schedule = ppline.tplan.idxSchedule2SnodeScedule(schedules_sorted[0])"
   ]
  },
  {
   "cell_type": "code",
   "execution_count": 65,
   "metadata": {
    "scrolled": true
   },
   "outputs": [
    {
     "name": "stdout",
     "output_type": "stream",
     "text": [
      "('table',)->('table',)\n",
      "('table',)->('grip0',)\n",
      "('grip0',)->('goal',)\n",
      "('goal',)->('goal',)\n"
     ]
    }
   ],
   "source": [
    "ppline.play_schedule(snode_schedule=snode_schedule, period=0.01)"
   ]
  },
  {
   "cell_type": "code",
   "execution_count": null,
   "metadata": {},
   "outputs": [],
   "source": []
  },
  {
   "cell_type": "code",
   "execution_count": null,
   "metadata": {},
   "outputs": [],
   "source": []
  }
 ],
 "metadata": {
  "kernelspec": {
   "display_name": "Python 2",
   "language": "python",
   "name": "python2"
  },
  "language_info": {
   "codemirror_mode": {
    "name": "ipython",
    "version": 2
   },
   "file_extension": ".py",
   "mimetype": "text/x-python",
   "name": "python",
   "nbconvert_exporter": "python",
   "pygments_lexer": "ipython2",
   "version": "2.7.17"
  }
 },
 "nbformat": 4,
 "nbformat_minor": 2
}
