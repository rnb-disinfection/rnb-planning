{
 "cells": [
  {
   "cell_type": "markdown",
   "metadata": {},
   "source": [
    "# Mark-ICP tester"
   ]
  },
  {
   "cell_type": "code",
   "execution_count": 1,
   "metadata": {},
   "outputs": [],
   "source": [
    "import os\n",
    "import sys\n",
    "import cv2\n",
    "sys.path.append(os.path.join(os.path.join(\n",
    "    os.environ[\"RNB_PLANNING_DIR\"], 'src')))\n",
    "sys.path.append(os.path.join(\n",
    "    os.environ[\"RNB_PLANNING_DIR\"], 'src/scripts/demo_202107'))\n",
    "sys.path.append(os.path.join(\n",
    "    os.environ[\"RNB_PLANNING_DIR\"], 'src/scripts/milestone_202110'))\n",
    "\n",
    "from pkg.global_config import RNB_PLANNING_DIR\n",
    "from pkg.utils.utils import *    \n",
    "from pkg.utils.rotation_utils import *\n",
    "from pkg.controller.combined_robot import *\n",
    "from pkg.geometry.builder.scene_builder import SceneBuilder\n",
    "from pkg.geometry.geometry import GeometryItem\n",
    "from pkg.geometry.geotype import GEOTYPE\n",
    "\n",
    "from demo_utils.environment import add_cam, add_bed, move_bed\n",
    "\n",
    "from utils.detection_util import MultiICP, MODEL_DIR, ColorDepthMap\n",
    "\n",
    "# from util.multiICP import *\n",
    "# from test_util import *"
   ]
  },
  {
   "cell_type": "code",
   "execution_count": 2,
   "metadata": {},
   "outputs": [
    {
     "name": "stdout",
     "output_type": "stream",
     "text": [
      "connection command:\n",
      "indy0: False\n",
      "Unable to register with master node [http://localhost:11311]: master may not be running yet. Will keep trying.\n",
      "Please create a subscriber to the marker\n",
      "publication OK\n",
      "published: [0, 0, 0, 0, 0, 0]\n",
      "Please create a subscriber to the marker\n"
     ]
    }
   ],
   "source": [
    "crob = CombinedRobot(robots_on_scene=[RobotConfig(0, RobotType.indy7, \n",
    "                           ((0,0,0), (0,0,0)),None)]\n",
    "              , connection_list=[False])\n",
    "\n",
    "s_builder = SceneBuilder(None)\n",
    "gscene = s_builder.create_gscene(crob)\n",
    "viewpoint = add_cam(gscene, tool_link=\"indy0_tcp\")\n",
    "VIEW_POSE = np.deg2rad([  0., 50.,  -70.,  -0.,  -90., 0])\n",
    "gscene.show_pose(VIEW_POSE)\n",
    "Tbc = viewpoint.get_tf(VIEW_POSE)"
   ]
  },
  {
   "cell_type": "code",
   "execution_count": null,
   "metadata": {},
   "outputs": [],
   "source": []
  },
  {
   "cell_type": "markdown",
   "metadata": {},
   "source": [
    "### Get ICP result"
   ]
  },
  {
   "cell_type": "code",
   "execution_count": 3,
   "metadata": {},
   "outputs": [
    {
     "data": {
      "text/plain": [
       "'/home/jhkim/Projects/rnb-planning/src/scripts/perception'"
      ]
     },
     "execution_count": 3,
     "metadata": {},
     "output_type": "execute_result"
    }
   ],
   "source": [
    "os.getcwd()"
   ]
  },
  {
   "cell_type": "code",
   "execution_count": 4,
   "metadata": {},
   "outputs": [],
   "source": [
    "color_image = cv2.imread(os.path.join(os.getcwd(), \"save_img/bed/color/color_0.jpg\"), flags=cv2.IMREAD_UNCHANGED)\n",
    "depth_mask = cv2.imread(os.path.join(os.getcwd(), \"save_img/bed/depth_segmented/depth_mask_0.png\"), flags=cv2.IMREAD_UNCHANGED)\n",
    "\n",
    "cdp = ColorDepthMap(color_image, depth_mask, \n",
    "                    [1280, 720,\n",
    "                     899.05322266, 899.21044922,\n",
    "                     654.88366699, 352.92956543], \n",
    "                    0.000250000011874)\n",
    "cameraMatrix = np.array([[cdp.intrins[2], 0, cdp.intrins[4]],\n",
    "                         [0, cdp.intrins[3], cdp.intrins[5]],\n",
    "                         [0, 0, 1]])\n",
    "distCoeffs = np.array([ 0.15870179, -0.46903715, -0.0014261 ,  0.00066797,  0.41631824])\n",
    "\n",
    "icp_bed = MultiICP(model=MODEL_DIR + '/bed/bed.STL', \n",
    "                   Toff=SE3([[0,1,0],[0,0,1],[1,0,0]], [0.455,0,1.02]))\n",
    "\n",
    "icp_bed.clear()\n",
    "pcd = icp_bed.add_image(cdp, Tc=None)\n"
   ]
  },
  {
   "cell_type": "markdown",
   "metadata": {},
   "source": [
    "### Show on RVIZ"
   ]
  },
  {
   "cell_type": "code",
   "execution_count": 5,
   "metadata": {},
   "outputs": [
    {
     "name": "stdout",
     "output_type": "stream",
     "text": [
      "\u001b[93m[WARN] Vertices for mesh should be have center point (0,0,0). Auto adjusting.\u001b[0m\n"
     ]
    },
    {
     "data": {
      "text/plain": [
       "<pkg.geometry.geometry.GeometryItem at 0x7f60a74cce90>"
      ]
     },
     "execution_count": 5,
     "metadata": {},
     "output_type": "execute_result"
    }
   ],
   "source": [
    "gscene.create_safe(GEOTYPE.MESH, \"bed_pcd\", \"base_link\", (0.1,0.1,0.1), (0,0,0), rpy=(0,0,0), color=(1,0,0,1), display=True,\n",
    "                   collision=False, fixed=True, scale=(0.01,0.01,1),\n",
    "                   vertices=np.matmul(np.asarray(pcd.points), Tbc[:3,:3].transpose())+Tbc[:3,3])"
   ]
  },
  {
   "cell_type": "markdown",
   "metadata": {},
   "source": [
    "### Compute ICP"
   ]
  },
  {
   "cell_type": "code",
   "execution_count": 6,
   "metadata": {},
   "outputs": [
    {
     "name": "stdout",
     "output_type": "stream",
     "text": [
      "Apply point-to-point ICP\n",
      "registration::RegistrationResult with fitness=4.863729e-01, inlier_rmse=4.163255e-02, and correspondence_set size of 16543\n",
      "Access transformation to get result.\n",
      "Transformation is:\n",
      "[[ 0.90320448 -0.06870464  0.42367598 -0.49543093]\n",
      " [-0.1909966  -0.94832181  0.25338912  0.14790305]\n",
      " [ 0.38437216 -0.30978286 -0.86965086  4.35771749]\n",
      " [ 0.          0.          0.          1.        ]]\n",
      "Apply point-to-point ICP\n",
      "registration::RegistrationResult with fitness=5.247589e-01, inlier_rmse=3.987199e-02, and correspondence_set size of 8923\n",
      "Access transformation to get result.\n",
      "Transformation is:\n",
      "[[ 0.90677202 -0.06157974  0.41710004 -0.48067304]\n",
      " [-0.16154115 -0.96452674  0.20878848  0.22888415]\n",
      " [ 0.389447   -0.25670237 -0.88455352  4.35373226]\n",
      " [ 0.          0.          0.          1.        ]]\n"
     ]
    }
   ],
   "source": [
    "T_cb = SE3_inv(Tbc)\n",
    "Tguess = icp_bed.get_initial_by_center(R=np.matmul(T_cb[:3,:3], Rot_axis(3,np.pi)), \n",
    "                                               offset=np.matmul(T_cb[:3,:3], (1.1*0.7,0,-0.6)))\n",
    "\n",
    "\n",
    "# ICP_result, fitness = icp_bed.compute_ICP(To=SE3(Rot_axis_series([3, 2],[-np.pi/2, np.pi/2]), (0,0,3)), visualize=True)\n",
    "T_co1, fitness1 = icp_bed.compute_ICP(To=Tguess, thres=0.1, visualize=True)\n",
    "T_co2, fitness2 = icp_bed.compute_front_ICP(Tc_cur=np.identity(4), To=T_co1, thres=0.1, visualize=True)\n",
    "Tdetect=np.matmul(Tbc, T_co2)"
   ]
  },
  {
   "cell_type": "markdown",
   "metadata": {},
   "source": [
    "### Visualize and adjust\n",
    "* Adjust Tdetect to get perfect GT"
   ]
  },
  {
   "cell_type": "code",
   "execution_count": 7,
   "metadata": {
    "scrolled": true
   },
   "outputs": [],
   "source": [
    "bed = add_bed(gscene, Tdetect[:3,3], Rot2rpy(Tdetect[:3,:3]), (0,1,0,0.5))"
   ]
  },
  {
   "cell_type": "code",
   "execution_count": 23,
   "metadata": {},
   "outputs": [],
   "source": [
    "T_bo_gt = matmul_series(Tdetect, \n",
    "                        SE3(np.identity(3), (0.015,0.025,0.05)),\n",
    "                        SE3(Rot_axis(1, -0.0), (0,0.0,0)),\n",
    "                        SE3(Rot_axis(2, 0.04), (0,0.0,0)),\n",
    "                        SE3(Rot_axis(3, 0.01), (0,0.0,0))\n",
    "                       )"
   ]
  },
  {
   "cell_type": "code",
   "execution_count": 24,
   "metadata": {},
   "outputs": [],
   "source": [
    "move_bed(gscene, bed_center=T_bo_gt[:3,3], \n",
    "         bed_rpy=Rot2rpy(T_bo_gt[:3,:3]))"
   ]
  },
  {
   "cell_type": "markdown",
   "metadata": {},
   "source": [
    "# Make ArucoMap for Testing"
   ]
  },
  {
   "cell_type": "markdown",
   "metadata": {},
   "source": [
    "### Testing single marker\n",
    "* Make single-marker aruco map to get one-marker transformation"
   ]
  },
  {
   "cell_type": "code",
   "execution_count": 25,
   "metadata": {},
   "outputs": [],
   "source": [
    "from cv2 import aruco\n",
    "from pkg.detector.aruco.detector import *\n",
    "\n",
    "def get_aruco_map_test(test_name, mk_idx, mk_size, point=[0,0,0], direction=(0,0,0)):\n",
    "    dictionary = aruco.getPredefinedDictionary(aruco.DICT_6X6_250)\n",
    "    #     params = aruco.DetectorParameters_create()\n",
    "\n",
    "    aruco_map = ArucoMap(dictionary=dictionary, _dict={\n",
    "        test_name: MarkerSet(test_name,\n",
    "                         dlevel=DetectionLevel.ENVIRONMENT, gtype=GEOTYPE.BOX, dims=(0.1, 0.1,0.1), color=(0.8,0.0,0.0,1),\n",
    "                         _list=[\n",
    "                             ObjectMarker(test_name, mk_idx, mk_size, point, direction)\n",
    "                         ])\n",
    "    })\n",
    "    return aruco_map"
   ]
  },
  {
   "cell_type": "code",
   "execution_count": 26,
   "metadata": {},
   "outputs": [],
   "source": [
    "mk_idx = 230\n",
    "mk_size = 0.15\n",
    "aruco_map = get_aruco_map_test(\"bed_test\", mk_idx, mk_size)\n",
    "objectPose_dict, corner_dict = aruco_map.get_object_pose_dict(color_image, cameraMatrix, distCoeffs)\n",
    "Tbmark = objectPose_dict['bed_test']\n",
    "Tbmark = np.matmul(Tbc, Tbmark)"
   ]
  },
  {
   "cell_type": "markdown",
   "metadata": {},
   "source": [
    "### Show marker location on RVIZ"
   ]
  },
  {
   "cell_type": "code",
   "execution_count": 27,
   "metadata": {},
   "outputs": [],
   "source": [
    "gscene.add_highlight_axis(\"hl\", \"mark_{}\".format(mk_idx), T=Tbmark)"
   ]
  },
  {
   "cell_type": "markdown",
   "metadata": {},
   "source": [
    "### Get relative marker offset"
   ]
  },
  {
   "cell_type": "code",
   "execution_count": 28,
   "metadata": {},
   "outputs": [
    {
     "name": "stdout",
     "output_type": "stream",
     "text": [
      "point: 1.15971701191, -0.321270790663, 0.14664528474\n",
      "direction: -1.59720036358, 0.0221074130319, 1.59913372711\n"
     ]
    }
   ],
   "source": [
    "Tmark = np.matmul(SE3_inv(Tdetect), Tbmark)\n",
    "\n",
    "point = Tmark[:3,3]\n",
    "direction = Rot2rpy(Tmark[:3,:3])\n",
    "print(\"point: {}, {}, {}\".format(*point))\n",
    "print(\"direction: {}, {}, {}\".format(*direction))"
   ]
  },
  {
   "cell_type": "code",
   "execution_count": null,
   "metadata": {},
   "outputs": [],
   "source": []
  },
  {
   "cell_type": "markdown",
   "metadata": {},
   "source": [
    "### Visualize result"
   ]
  },
  {
   "cell_type": "code",
   "execution_count": 14,
   "metadata": {},
   "outputs": [],
   "source": [
    "aruco_map = get_aruco_map_test(\"bed_test\", mk_idx, mk_size, point=point, direction=direction)\n",
    "objectPose_dict, corner_dict = aruco_map.get_object_pose_dict(color_image, cameraMatrix, distCoeffs)\n",
    "Tbed = objectPose_dict['bed_test']\n",
    "Tbed = np.matmul(Tbc, Tbed)"
   ]
  },
  {
   "cell_type": "code",
   "execution_count": 15,
   "metadata": {
    "scrolled": true
   },
   "outputs": [
    {
     "data": {
      "text/plain": [
       "<pkg.geometry.geometry.GeometryItem at 0x7fe9642787d0>"
      ]
     },
     "execution_count": 15,
     "metadata": {},
     "output_type": "execute_result"
    }
   ],
   "source": [
    "add_bed(gscene, Tbed[:3,3], Rot2rpy(Tbed[:3,:3]), (0,1,0,0.5))"
   ]
  },
  {
   "cell_type": "code",
   "execution_count": null,
   "metadata": {},
   "outputs": [],
   "source": []
  }
 ],
 "metadata": {
  "kernelspec": {
   "display_name": "Python 2",
   "language": "python",
   "name": "python2"
  },
  "language_info": {
   "codemirror_mode": {
    "name": "ipython",
    "version": 2
   },
   "file_extension": ".py",
   "mimetype": "text/x-python",
   "name": "python",
   "nbconvert_exporter": "python",
   "pygments_lexer": "ipython2",
   "version": "2.7.17"
  }
 },
 "nbformat": 4,
 "nbformat_minor": 2
}
