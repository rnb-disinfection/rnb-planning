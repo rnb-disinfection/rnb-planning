{
 "cells": [
  {
   "cell_type": "code",
   "execution_count": 1,
   "metadata": {},
   "outputs": [],
   "source": [
    "import open3d as o3d\n",
    "import numpy as np\n",
    "import copy\n",
    "from utils.pyransac3d import *"
   ]
  },
  {
   "cell_type": "code",
   "execution_count": 2,
   "metadata": {},
   "outputs": [],
   "source": [
    "def extract_outliers(pcd_points, inliers):\n",
    "    temp = []\n",
    "    \n",
    "    for i in range(len(pcd_points)):\n",
    "        idx = i\n",
    "        if not idx in inliers:\n",
    "            temp.append(pcd_points[idx])\n",
    "            \n",
    "    p_outliers = np.zeros((len(temp), 3))\n",
    "    for i in range(len(temp)):\n",
    "        p_outliers[i] = temp[i]\n",
    "    return p_outliers"
   ]
  },
  {
   "cell_type": "code",
   "execution_count": 3,
   "metadata": {},
   "outputs": [],
   "source": [
    "def get_inliers(pcd_points, inliers):\n",
    "    p_inliers = []\n",
    "    for i in range(len(pcd_points)):\n",
    "        idx = i\n",
    "        if idx in inliers:\n",
    "            p_inliers.append(pcd_points[idx])\n",
    "\n",
    "    return p_inliers"
   ]
  },
  {
   "cell_type": "code",
   "execution_count": 10,
   "metadata": {},
   "outputs": [],
   "source": [
    "pcd = o3d.io.read_point_cloud(\"krylon.pcd\")"
   ]
  },
  {
   "cell_type": "code",
   "execution_count": 4,
   "metadata": {},
   "outputs": [],
   "source": [
    "ball = o3d.geometry.TriangleMesh.create_sphere(radius=0.4)\n",
    "# box = o3d.geometry.TriangleMesh.create_box(width=0.3, height=0.4, depth=0.5)"
   ]
  },
  {
   "cell_type": "code",
   "execution_count": 6,
   "metadata": {},
   "outputs": [],
   "source": [
    "pcd = ball.sample_points_uniformly(5000)\n",
    "# pcd = box.sample_points_uniformly(5000)"
   ]
  },
  {
   "cell_type": "code",
   "execution_count": 7,
   "metadata": {},
   "outputs": [],
   "source": [
    "pcd = pcd.uniform_down_sample(every_k_points=5)"
   ]
  },
  {
   "cell_type": "code",
   "execution_count": 6,
   "metadata": {},
   "outputs": [],
   "source": [
    "o3d.visualization.draw_geometries([pcd])"
   ]
  },
  {
   "cell_type": "code",
   "execution_count": 8,
   "metadata": {},
   "outputs": [
    {
     "data": {
      "text/plain": [
       "(1000, 3)"
      ]
     },
     "execution_count": 8,
     "metadata": {},
     "output_type": "execute_result"
    }
   ],
   "source": [
    "points = np.asarray(pcd.points)\n",
    "points.shape"
   ]
  },
  {
   "cell_type": "code",
   "execution_count": 9,
   "metadata": {},
   "outputs": [],
   "source": [
    "geometry_list = [Cuboid(), Sphere(), Cylinder()]"
   ]
  },
  {
   "cell_type": "code",
   "execution_count": 11,
   "metadata": {},
   "outputs": [
    {
     "data": {
      "text/plain": [
       "59"
      ]
     },
     "execution_count": 11,
     "metadata": {},
     "output_type": "execute_result"
    }
   ],
   "source": [
    "eq, inliers = geometry_list[0].fit(points, thresh=0.005, maxIteration=2000)\n",
    "\n",
    "len(inliers)"
   ]
  },
  {
   "cell_type": "code",
   "execution_count": 12,
   "metadata": {},
   "outputs": [
    {
     "data": {
      "text/plain": [
       "array([208, 213, 269, 281, 338, 393, 396, 404, 406, 407, 410, 414, 433,\n",
       "       441, 466, 492, 494, 511, 515, 516, 524, 525, 542, 569, 574, 590,\n",
       "       592, 593, 606, 654, 655, 665, 668, 687, 719, 720, 731, 733, 734,\n",
       "       735, 737, 741, 748, 752, 789, 801, 808, 816, 817, 852, 865, 866,\n",
       "       867, 872, 873, 907, 909, 910, 919])"
      ]
     },
     "execution_count": 12,
     "metadata": {},
     "output_type": "execute_result"
    }
   ],
   "source": [
    "inliers"
   ]
  },
  {
   "cell_type": "code",
   "execution_count": 27,
   "metadata": {},
   "outputs": [],
   "source": [
    "outliers = extract_outliers(points, inliers)"
   ]
  },
  {
   "cell_type": "code",
   "execution_count": 28,
   "metadata": {},
   "outputs": [],
   "source": [
    "pcd_outliers = o3d.geometry.PointCloud()"
   ]
  },
  {
   "cell_type": "code",
   "execution_count": 29,
   "metadata": {},
   "outputs": [],
   "source": [
    "pcd_outliers.points = o3d.utility.Vector3dVector(outliers)"
   ]
  },
  {
   "cell_type": "code",
   "execution_count": 30,
   "metadata": {},
   "outputs": [],
   "source": [
    "o3d.visualization.draw_geometries([pcd_outliers])"
   ]
  },
  {
   "cell_type": "code",
   "execution_count": 31,
   "metadata": {},
   "outputs": [],
   "source": [
    "eq_, inliers_ = geometry_list[0].fit(outliers, thresh=0.005, maxIteration=700)"
   ]
  },
  {
   "cell_type": "code",
   "execution_count": 16,
   "metadata": {},
   "outputs": [
    {
     "data": {
      "text/plain": [
       "197"
      ]
     },
     "execution_count": 16,
     "metadata": {},
     "output_type": "execute_result"
    }
   ],
   "source": [
    "center, radius, inliers = geometry_list[1].fit(points, thresh=0.001, maxIteration=2000)\n",
    "\n",
    "len(inliers)"
   ]
  },
  {
   "cell_type": "code",
   "execution_count": 18,
   "metadata": {},
   "outputs": [
    {
     "data": {
      "text/plain": [
       "197"
      ]
     },
     "execution_count": 18,
     "metadata": {},
     "output_type": "execute_result"
    }
   ],
   "source": [
    "len(get_inliers(points, inliers))"
   ]
  },
  {
   "cell_type": "code",
   "execution_count": 21,
   "metadata": {},
   "outputs": [
    {
     "data": {
      "text/plain": [
       "195"
      ]
     },
     "execution_count": 21,
     "metadata": {},
     "output_type": "execute_result"
    }
   ],
   "source": [
    "center, axis, radius, height, inliers = geometry_list[2].fit(points, thresh=0.005, maxIteration=1000)\n",
    "\n",
    "len(inliers)"
   ]
  },
  {
   "cell_type": "code",
   "execution_count": 34,
   "metadata": {},
   "outputs": [],
   "source": [
    "pcd_inliers = o3d.geometry.PointCloud()\n",
    "p_inliers= []\n",
    "# for i in range(len(inliers)):\n",
    "#     p_inliers.append(points[inliers[i]])\n",
    "# pcd_inliers.points = o3d.utility.Vector3dVector(p_inliers)\n",
    "# pcd_inliers.paint_uniform_color((0,0,0))\n",
    "\n",
    "for i in range(len(inliers_)):\n",
    "    p_inliers.append(np.asarray(pcd_outliers.points)[inliers_[i]])\n",
    "    pcd_inliers.points = o3d.utility.Vector3dVector(p_inliers)\n",
    "    pcd_inliers.paint_uniform_color((0,0,0))"
   ]
  },
  {
   "cell_type": "code",
   "execution_count": 36,
   "metadata": {},
   "outputs": [],
   "source": [
    "# o3d.visualization.draw_geometries([pcd,pcd_inliers])\n",
    "o3d.visualization.draw_geometries([pcd_outliers,pcd_inliers])"
   ]
  },
  {
   "cell_type": "code",
   "execution_count": null,
   "metadata": {},
   "outputs": [],
   "source": []
  }
 ],
 "metadata": {
  "kernelspec": {
   "display_name": "Python 2",
   "language": "python",
   "name": "python2"
  },
  "language_info": {
   "codemirror_mode": {
    "name": "ipython",
    "version": 2
   },
   "file_extension": ".py",
   "mimetype": "text/x-python",
   "name": "python",
   "nbconvert_exporter": "python",
   "pygments_lexer": "ipython2",
   "version": "2.7.17"
  }
 },
 "nbformat": 4,
 "nbformat_minor": 2
}
