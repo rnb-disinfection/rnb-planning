{
 "cells": [
  {
   "cell_type": "code",
   "execution_count": 1,
   "metadata": {},
   "outputs": [],
   "source": [
    "import SharedArray as sa\n",
    "import numpy as np\n",
    "import cv2\n",
    "import time\n",
    "import os\n",
    "import sys\n",
    "\n",
    "# os.chdir(os.path.join(os.environ[\"RNB_PLANNING_DIR\"], 'src'))\n",
    "sys.path.append(os.path.join(os.environ[\"RNB_PLANNING_DIR\"], 'src/scripts/perception'))\n",
    "from utils.perception_config import *\n",
    "from pkg.global_config import RNB_PLANNING_DIR\n",
    "from boost_gpd.gpd_interface import grasp_interface_py as gi"
   ]
  },
  {
   "cell_type": "code",
   "execution_count": 2,
   "metadata": {},
   "outputs": [],
   "source": [
    "CFG_PATH = WORKING_DIR + \"/boost_gpd/cfg/eigen_params.cfg\"\n",
    "PCD_NUM_URI = \"shm://pcd_num\"\n",
    "GPD_LIST_URI = \"shm://gpd_list\"\n",
    "REQ_URI = \"shm://request\"\n",
    "RESP_URI = \"shm://response\""
   ]
  },
  {
   "cell_type": "code",
   "execution_count": 3,
   "metadata": {},
   "outputs": [],
   "source": [
    "class SharedDetector:\n",
    "    def __init__(self):\n",
    "        print(\"=============================================\")\n",
    "\n",
    "\n",
    "    def serve_forever(self):\n",
    "        self.request[:] = 0\n",
    "        self.resp[:] = 0\n",
    "        print(\"===== Ready Grasp Pose Detection Server =====\")\n",
    "        print(\"=============================================\")\n",
    "        while True:\n",
    "            while not self.request[:]:\n",
    "                time.sleep(0.01)\n",
    "            self.request[:] = 0\n",
    "            self.resp[:] = 0\n",
    "            \n",
    "            # Get Grasp Pose\n",
    "            grasp_list = gi.Vec4ListList()\n",
    "            grasp_list = gi.getGPD(CFG_PATH, WORKING_DIR + \"/object_{}.pcd\".format(self.pcd_num[0]))\n",
    "            \n",
    "            # Unpack Vec4ListList\n",
    "            for j in range(len(grasp_list)):\n",
    "                temp_list = grasp_list[j]\n",
    "                for k in range(4):\n",
    "                    temp = temp_list[k]\n",
    "                    if k==0:\n",
    "                        grasp_pose = np.array([temp[0], temp[1], temp[2], temp[3]])\n",
    "                    else :\n",
    "                        grasp_pose = np.vstack([grasp_pose, np.array([temp[0], temp[1], temp[2], temp[3]])])\n",
    "\n",
    "                self.return_gpd_list[j][:,:] = grasp_pose\n",
    "            \n",
    "            print(\"====== Success to Grasp Pose Detection ======\")\n",
    "            print(\"=============================================\")\n",
    "            self.resp[:] = 1\n",
    "\n",
    "            \n",
    "    def __enter__(self):\n",
    "        try:\n",
    "            sa.delete(PCD_NUM_URI)\n",
    "            sa.delete(GPD_LIST_URI)\n",
    "            sa.delete(REQ_URI)\n",
    "            sa.delete(RESP_URI)\n",
    "        except Exception as e:\n",
    "            pass\n",
    "        \n",
    "        self.pcd_num = sa.create(PCD_NUM_URI, (1,), dtype=np.uint8)\n",
    "        self.return_gpd_list = sa.create(GPD_LIST_URI, (10, 4, 4))\n",
    "        self.request = sa.create(REQ_URI, (1,), dtype=np.uint8)\n",
    "        self.resp = sa.create(RESP_URI, (1,), dtype=np.uint8)\n",
    "        self.request[:] = 0\n",
    "        self.resp[:] = 0\n",
    "\n",
    "    def __exit__(self, type, value, traceback):\n",
    "        sa.delete(PCD_NUM_URI)\n",
    "        sa.delete(GPD_LIST_URI)\n",
    "        sa.delete(REQ_URI)\n",
    "        sa.delete(RESP_URI)"
   ]
  },
  {
   "cell_type": "code",
   "execution_count": null,
   "metadata": {},
   "outputs": [
    {
     "name": "stdout",
     "output_type": "stream",
     "text": [
      "=============================================\n",
      "===== Ready Grasp Pose Detection Server =====\n",
      "=============================================\n",
      "====== Success to Grasp Pose Detection ======\n",
      "=============================================\n",
      "====== Success to Grasp Pose Detection ======\n",
      "=============================================\n"
     ]
    },
    {
     "ename": "KeyboardInterrupt",
     "evalue": "",
     "output_type": "error",
     "traceback": [
      "\u001b[0;31m---------------------------------------------------------------------------\u001b[0m",
      "\u001b[0;31mKeyboardInterrupt\u001b[0m                         Traceback (most recent call last)",
      "\u001b[0;32m<ipython-input-4-34a2b33ef698>\u001b[0m in \u001b[0;36m<module>\u001b[0;34m()\u001b[0m\n\u001b[1;32m      2\u001b[0m     \u001b[0msdet\u001b[0m \u001b[0;34m=\u001b[0m \u001b[0mSharedDetector\u001b[0m\u001b[0;34m(\u001b[0m\u001b[0;34m)\u001b[0m\u001b[0;34m\u001b[0m\u001b[0m\n\u001b[1;32m      3\u001b[0m     \u001b[0;32mwith\u001b[0m \u001b[0msdet\u001b[0m\u001b[0;34m:\u001b[0m\u001b[0;34m\u001b[0m\u001b[0m\n\u001b[0;32m----> 4\u001b[0;31m         \u001b[0msdet\u001b[0m\u001b[0;34m.\u001b[0m\u001b[0mserve_forever\u001b[0m\u001b[0;34m(\u001b[0m\u001b[0;34m)\u001b[0m\u001b[0;34m\u001b[0m\u001b[0m\n\u001b[0m",
      "\u001b[0;32m<ipython-input-3-8728142c69f9>\u001b[0m in \u001b[0;36mserve_forever\u001b[0;34m(self)\u001b[0m\n\u001b[1;32m     11\u001b[0m         \u001b[0;32mwhile\u001b[0m \u001b[0mTrue\u001b[0m\u001b[0;34m:\u001b[0m\u001b[0;34m\u001b[0m\u001b[0m\n\u001b[1;32m     12\u001b[0m             \u001b[0;32mwhile\u001b[0m \u001b[0;32mnot\u001b[0m \u001b[0mself\u001b[0m\u001b[0;34m.\u001b[0m\u001b[0mrequest\u001b[0m\u001b[0;34m[\u001b[0m\u001b[0;34m:\u001b[0m\u001b[0;34m]\u001b[0m\u001b[0;34m:\u001b[0m\u001b[0;34m\u001b[0m\u001b[0m\n\u001b[0;32m---> 13\u001b[0;31m                 \u001b[0mtime\u001b[0m\u001b[0;34m.\u001b[0m\u001b[0msleep\u001b[0m\u001b[0;34m(\u001b[0m\u001b[0;36m0.01\u001b[0m\u001b[0;34m)\u001b[0m\u001b[0;34m\u001b[0m\u001b[0m\n\u001b[0m\u001b[1;32m     14\u001b[0m             \u001b[0mself\u001b[0m\u001b[0;34m.\u001b[0m\u001b[0mrequest\u001b[0m\u001b[0;34m[\u001b[0m\u001b[0;34m:\u001b[0m\u001b[0;34m]\u001b[0m \u001b[0;34m=\u001b[0m \u001b[0;36m0\u001b[0m\u001b[0;34m\u001b[0m\u001b[0m\n\u001b[1;32m     15\u001b[0m             \u001b[0mself\u001b[0m\u001b[0;34m.\u001b[0m\u001b[0mresp\u001b[0m\u001b[0;34m[\u001b[0m\u001b[0;34m:\u001b[0m\u001b[0;34m]\u001b[0m \u001b[0;34m=\u001b[0m \u001b[0;36m0\u001b[0m\u001b[0;34m\u001b[0m\u001b[0m\n",
      "\u001b[0;31mKeyboardInterrupt\u001b[0m: "
     ]
    }
   ],
   "source": [
    "if __name__ == \"__main__\":\n",
    "    sdet = SharedDetector()\n",
    "    with sdet:\n",
    "        sdet.serve_forever()"
   ]
  },
  {
   "cell_type": "code",
   "execution_count": null,
   "metadata": {},
   "outputs": [],
   "source": []
  }
 ],
 "metadata": {
  "kernelspec": {
   "display_name": "Python 2",
   "language": "python",
   "name": "python2"
  },
  "language_info": {
   "codemirror_mode": {
    "name": "ipython",
    "version": 2
   },
   "file_extension": ".py",
   "mimetype": "text/x-python",
   "name": "python",
   "nbconvert_exporter": "python",
   "pygments_lexer": "ipython2",
   "version": "2.7.17"
  }
 },
 "nbformat": 4,
 "nbformat_minor": 2
}
