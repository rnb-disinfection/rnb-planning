{
 "cells": [
  {
   "cell_type": "markdown",
   "metadata": {},
   "source": [
    "# [TUTORIAL] Constrained Task Planning (Sweep)\n",
    "\n",
    "This tutorial is written to instruct basic usage of the task & motion planning pipeline  \n",
    "One Indy7 robot and several environment geometries will be added and floor-wiping task will be conducted.  \n",
    "Here, the wiping task is defined as 1) contact with floor, 2) starting waypoint, 3) goal waypoint.  \n",
    "Thus, any motion that satisfies the constraint will be generated; it may not look like real wiping.  "
   ]
  },
  {
   "cell_type": "code",
   "execution_count": null,
   "metadata": {},
   "outputs": [],
   "source": []
  },
  {
   "cell_type": "markdown",
   "metadata": {},
   "source": [
    "## set running directory to project source"
   ]
  },
  {
   "cell_type": "code",
   "execution_count": 1,
   "metadata": {},
   "outputs": [],
   "source": [
    "import os\n",
    "os.chdir(os.path.join(os.environ[\"RNB_PLANNING_DIR\"], 'src'))"
   ]
  },
  {
   "cell_type": "code",
   "execution_count": null,
   "metadata": {},
   "outputs": [],
   "source": []
  },
  {
   "cell_type": "markdown",
   "metadata": {},
   "source": [
    "## init combined robot config"
   ]
  },
  {
   "cell_type": "code",
   "execution_count": 2,
   "metadata": {},
   "outputs": [
    {
     "name": "stdout",
     "output_type": "stream",
     "text": [
      "connection command:\n",
      "indy0: False\n"
     ]
    }
   ],
   "source": [
    "from pkg.controller.combined_robot import *\n",
    "from pkg.project_config import *\n",
    "\n",
    "crob = CombinedRobot(robots_on_scene=[\n",
    "    RobotConfig(0, RobotType.indy7, None,\n",
    "                INDY_IP)]\n",
    "              , connection_list=[False])"
   ]
  },
  {
   "cell_type": "code",
   "execution_count": null,
   "metadata": {},
   "outputs": [],
   "source": []
  },
  {
   "cell_type": "markdown",
   "metadata": {},
   "source": [
    "## create scene builder"
   ]
  },
  {
   "cell_type": "code",
   "execution_count": 3,
   "metadata": {},
   "outputs": [],
   "source": [
    "from pkg.geometry.builder.scene_builder import SceneBuilder\n",
    "s_builder = SceneBuilder(None)\n",
    "# s_builder.reset_reference_coord(ref_name=\"floor\")"
   ]
  },
  {
   "cell_type": "code",
   "execution_count": null,
   "metadata": {},
   "outputs": [],
   "source": []
  },
  {
   "cell_type": "markdown",
   "metadata": {},
   "source": [
    "## get ghnd with detected robot config"
   ]
  },
  {
   "cell_type": "code",
   "execution_count": 4,
   "metadata": {
    "scrolled": true
   },
   "outputs": [
    {
     "name": "stdout",
     "output_type": "stream",
     "text": [
      "Unable to register with master node [http://localhost:11311]: master may not be running yet. Will keep trying.\n",
      "Please create a subscriber to the marker\n",
      "publication OK\n",
      "published: [0, 0, 0, 0, 0, 0]\n"
     ]
    }
   ],
   "source": [
    "# xyz_rpy_robots = s_builder.detect_items(level_mask=[DetectionLevel.ROBOT])\n",
    "xyz_rpy_robots = {\"indy0\": ((0,0,0), (0,0,-np.pi/2))}\n",
    "crob.update_robot_pos_dict(xyz_rpy_robots=xyz_rpy_robots)\n",
    "gscene = s_builder.create_gscene(crob)"
   ]
  },
  {
   "cell_type": "code",
   "execution_count": null,
   "metadata": {},
   "outputs": [],
   "source": []
  },
  {
   "cell_type": "markdown",
   "metadata": {},
   "source": [
    "## add environment"
   ]
  },
  {
   "cell_type": "code",
   "execution_count": 5,
   "metadata": {},
   "outputs": [
    {
     "name": "stdout",
     "output_type": "stream",
     "text": [
      "Please create a subscriber to the marker\n"
     ]
    }
   ],
   "source": [
    "from pkg.geometry.geometry import *\n",
    "\n",
    "floor = gscene.create_safe(GEOTYPE.BOX, \"floor\", \"base_link\", (3,3,0.01), (0,0,0), \n",
    "                           rpy=(0,0,0), color=(0.8,0.8,0.8,0.5), display=True, fixed=True, collision=True)\n",
    "wall = gscene.create_safe(GEOTYPE.BOX, \"wall\", \"base_link\", (3,3,0.01), (0,0.2,0), \n",
    "                           rpy=(np.pi/2,0,0), color=(0.8,0.8,0.8,0.5), display=True, fixed=True, collision=True)\n",
    "wp1 = gscene.create_safe(GEOTYPE.BOX, \"wp1\", \"base_link\", (0.1,0.1,0.01), (0.2,-0.5,0.),rpy=(0,0,np.pi/2), \n",
    "                         color=(0.8,0.2,0.2,1), display=True, fixed=True, collision=False)\n",
    "wp2 = gscene.create_safe(GEOTYPE.BOX, \"wp2\", \"base_link\", (0.1,0.1,0.01), (-0.2,-0.5,0), rpy=(0,0,np.pi/2), \n",
    "                         color=(0.8,0.2,0.2,1), display=True, fixed=True, collision=False)\n",
    "track = gscene.create_safe(GEOTYPE.BOX, \"track\", \"base_link\", (0.1,0.5,0.01), (0,-0.5,0), rpy=(0,0,np.pi/2), \n",
    "                           color=(1,0.7,0.7,0.5), display=True, fixed=True, collision=False)\n",
    "goal = gscene.create_safe(GEOTYPE.BOX, \"goal\", \"base_link\", (0.1,0.1,0.01), (-0.4,-0.3,0), \n",
    "                          rpy=(0,0,0), color=(0.8,0.8,0.2,1), display=True, fixed=True, collision=False)"
   ]
  },
  {
   "cell_type": "code",
   "execution_count": 6,
   "metadata": {},
   "outputs": [],
   "source": [
    "gtems = s_builder.add_robot_geometries(color=(0,1,0,0.5), display=True, collision=True, exclude_link=[\"panda1_link7\"])"
   ]
  },
  {
   "cell_type": "code",
   "execution_count": 7,
   "metadata": {},
   "outputs": [
    {
     "ename": "DeprecationWarning",
     "evalue": "add_indy_gripper_asm2 is deprecated. Set RobotType to indy7gripper instead.",
     "output_type": "error",
     "traceback": [
      "\u001b[0;31m---------------------------------------------------------------------------\u001b[0m",
      "\u001b[0;31mDeprecationWarning\u001b[0m                        Traceback (most recent call last)",
      "\u001b[0;32m<ipython-input-7-8473ed7f6e64>\u001b[0m in \u001b[0;36m<module>\u001b[0;34m()\u001b[0m\n\u001b[1;32m      1\u001b[0m \u001b[0;32mfrom\u001b[0m \u001b[0mpkg\u001b[0m\u001b[0;34m.\u001b[0m\u001b[0mutils\u001b[0m\u001b[0;34m.\u001b[0m\u001b[0mcode_scraps\u001b[0m \u001b[0;32mimport\u001b[0m \u001b[0madd_indy_gripper_asm2\u001b[0m\u001b[0;34m\u001b[0m\u001b[0m\n\u001b[0;32m----> 2\u001b[0;31m \u001b[0madd_indy_gripper_asm2\u001b[0m\u001b[0;34m(\u001b[0m\u001b[0mgscene\u001b[0m\u001b[0;34m,\u001b[0m \u001b[0;34m\"indy0\"\u001b[0m\u001b[0;34m)\u001b[0m\u001b[0;34m\u001b[0m\u001b[0m\n\u001b[0m",
      "\u001b[0;32m/home/jhkim/Projects/rnb-planning/src/pkg/utils/code_scraps.pyc\u001b[0m in \u001b[0;36madd_indy_gripper_asm2\u001b[0;34m(gscene, robot_name)\u001b[0m\n\u001b[1;32m     40\u001b[0m                        \u001b[0mdims\u001b[0m\u001b[0;34m=\u001b[0m\u001b[0;34m(\u001b[0m\u001b[0;36m0.03\u001b[0m\u001b[0;34m,\u001b[0m\u001b[0;36m0.03\u001b[0m\u001b[0;34m,\u001b[0m\u001b[0;36m0.095\u001b[0m\u001b[0;34m)\u001b[0m\u001b[0;34m,\u001b[0m \u001b[0mcenter\u001b[0m\u001b[0;34m=\u001b[0m\u001b[0;34m(\u001b[0m\u001b[0;34m-\u001b[0m\u001b[0;36m0.006\u001b[0m\u001b[0;34m,\u001b[0m\u001b[0;34m-\u001b[0m\u001b[0;36m0.045\u001b[0m\u001b[0;34m,\u001b[0m\u001b[0;36m0.1\u001b[0m\u001b[0;34m)\u001b[0m\u001b[0;34m,\u001b[0m \u001b[0mrpy\u001b[0m\u001b[0;34m=\u001b[0m\u001b[0;34m(\u001b[0m\u001b[0;36m0\u001b[0m\u001b[0;34m,\u001b[0m\u001b[0;36m0\u001b[0m\u001b[0;34m,\u001b[0m\u001b[0;36m0\u001b[0m\u001b[0;34m)\u001b[0m\u001b[0;34m,\u001b[0m\u001b[0;34m\u001b[0m\u001b[0m\n\u001b[1;32m     41\u001b[0m                        color=(0.0,0.8,0.0,0.5), display=True, fixed=True, collision=True)\n\u001b[0;32m---> 42\u001b[0;31m     \u001b[0;32mraise\u001b[0m\u001b[0;34m(\u001b[0m\u001b[0mDeprecationWarning\u001b[0m\u001b[0;34m(\u001b[0m\u001b[0;34m\"add_indy_gripper_asm2 is deprecated. Set RobotType to indy7gripper instead.\"\u001b[0m\u001b[0;34m)\u001b[0m\u001b[0;34m)\u001b[0m\u001b[0;34m\u001b[0m\u001b[0m\n\u001b[0m\u001b[1;32m     43\u001b[0m \u001b[0;34m\u001b[0m\u001b[0m\n\u001b[1;32m     44\u001b[0m \u001b[0;34m\u001b[0m\u001b[0m\n",
      "\u001b[0;31mDeprecationWarning\u001b[0m: add_indy_gripper_asm2 is deprecated. Set RobotType to indy7gripper instead."
     ]
    }
   ],
   "source": [
    "from pkg.utils.code_scraps import add_indy_gripper_asm2\n",
    "add_indy_gripper_asm2(gscene, \"indy0\")"
   ]
  },
  {
   "cell_type": "code",
   "execution_count": null,
   "metadata": {},
   "outputs": [],
   "source": []
  },
  {
   "cell_type": "markdown",
   "metadata": {},
   "source": [
    "## add brush"
   ]
  },
  {
   "cell_type": "code",
   "execution_count": 8,
   "metadata": {},
   "outputs": [
    {
     "data": {
      "text/plain": [
       "<pkg.geometry.geometry.GeometryItem at 0x7f03d9926f50>"
      ]
     },
     "execution_count": 8,
     "metadata": {},
     "output_type": "execute_result"
    }
   ],
   "source": [
    "gscene.create_safe(gtype=GEOTYPE.BOX, name=\"brush_body\", link_name=\"base_link\", dims=(0.2,0.07,0.02), \n",
    "                   center=(0,-0.5,0.045), rpy=(0,0,np.pi/2), color=(0.7,0.7,0.3,1), display=True, collision=True, fixed=False)\n",
    "gscene.create_safe(gtype=GEOTYPE.BOX, name=\"brush_handle\", link_name=\"base_link\", dims=(0.2,0.03,0.05), center=(0,0,0.035), rpy=(0,0,0), \n",
    "                   color=(0.7,0.7,0.3,1), display=True, collision=True, fixed=False, parent=\"brush_body\")\n",
    "gscene.create_safe(gtype=GEOTYPE.BOX, name=\"brush_face\", link_name=\"base_link\", dims=(0.19,0.06,0.03), center=(0,0,-0.025), rpy=(0,0,0), \n",
    "                   color=(0.8,0.8,0.8,1), display=True, collision=False, fixed=False, parent=\"brush_body\")"
   ]
  },
  {
   "cell_type": "code",
   "execution_count": null,
   "metadata": {},
   "outputs": [],
   "source": []
  },
  {
   "cell_type": "markdown",
   "metadata": {},
   "source": [
    "## init planning scene"
   ]
  },
  {
   "cell_type": "code",
   "execution_count": 9,
   "metadata": {},
   "outputs": [],
   "source": [
    "from pkg.planning.scene import PlanningScene\n",
    "pscene = PlanningScene(gscene, combined_robot=crob)"
   ]
  },
  {
   "cell_type": "code",
   "execution_count": null,
   "metadata": {},
   "outputs": [],
   "source": []
  },
  {
   "cell_type": "markdown",
   "metadata": {},
   "source": [
    "## Register binders"
   ]
  },
  {
   "cell_type": "code",
   "execution_count": 10,
   "metadata": {},
   "outputs": [],
   "source": [
    "from pkg.planning.constraint.constraint_actor import Gripper2Tool, PlacePlane, SweepTool"
   ]
  },
  {
   "cell_type": "code",
   "execution_count": 11,
   "metadata": {},
   "outputs": [
    {
     "data": {
      "text/plain": [
       "<pkg.geometry.geometry.GeometryItem at 0x7f03d9833910>"
      ]
     },
     "execution_count": 11,
     "metadata": {},
     "output_type": "execute_result"
    }
   ],
   "source": [
    "gscene.create_safe(gtype=GEOTYPE.SPHERE, name=\"grip0\", link_name=\"indy0_tcp\", \n",
    "                 dims=(0.01,)*3, center=(0,0,0.14), rpy=(-np.pi/2,0,0), color=(1,0,0,1), display=True, collision=False, fixed=True)"
   ]
  },
  {
   "cell_type": "code",
   "execution_count": 12,
   "metadata": {},
   "outputs": [
    {
     "ename": "TypeError",
     "evalue": "create_binder() takes at least 5 arguments (4 given)",
     "output_type": "error",
     "traceback": [
      "\u001b[0;31m---------------------------------------------------------------------------\u001b[0m",
      "\u001b[0;31mTypeError\u001b[0m                                 Traceback (most recent call last)",
      "\u001b[0;32m<ipython-input-12-d577c06c782a>\u001b[0m in \u001b[0;36m<module>\u001b[0;34m()\u001b[0m\n\u001b[1;32m      1\u001b[0m \u001b[0mpscene\u001b[0m\u001b[0;34m.\u001b[0m\u001b[0mcreate_binder\u001b[0m\u001b[0;34m(\u001b[0m\u001b[0mbname\u001b[0m\u001b[0;34m=\u001b[0m\u001b[0;34m\"grip0\"\u001b[0m\u001b[0;34m,\u001b[0m \u001b[0mgname\u001b[0m\u001b[0;34m=\u001b[0m\u001b[0;34m\"grip0\"\u001b[0m\u001b[0;34m,\u001b[0m \u001b[0m_type\u001b[0m\u001b[0;34m=\u001b[0m\u001b[0mGripper2Tool\u001b[0m\u001b[0;34m,\u001b[0m \u001b[0mpoint\u001b[0m\u001b[0;34m=\u001b[0m\u001b[0;34m(\u001b[0m\u001b[0;36m0\u001b[0m\u001b[0;34m,\u001b[0m\u001b[0;36m0\u001b[0m\u001b[0;34m,\u001b[0m\u001b[0;36m0\u001b[0m\u001b[0;34m)\u001b[0m\u001b[0;34m,\u001b[0m \u001b[0mrpy\u001b[0m\u001b[0;34m=\u001b[0m\u001b[0;34m(\u001b[0m\u001b[0;36m0\u001b[0m\u001b[0;34m,\u001b[0m\u001b[0;36m0\u001b[0m\u001b[0;34m,\u001b[0m\u001b[0;36m0\u001b[0m\u001b[0;34m)\u001b[0m\u001b[0;34m)\u001b[0m\u001b[0;34m\u001b[0m\u001b[0m\n\u001b[0;32m----> 2\u001b[0;31m \u001b[0mpscene\u001b[0m\u001b[0;34m.\u001b[0m\u001b[0mcreate_binder\u001b[0m\u001b[0;34m(\u001b[0m\u001b[0mbname\u001b[0m\u001b[0;34m=\u001b[0m\u001b[0;34m\"floor\"\u001b[0m\u001b[0;34m,\u001b[0m \u001b[0mgname\u001b[0m\u001b[0;34m=\u001b[0m\u001b[0;34m\"floor\"\u001b[0m\u001b[0;34m,\u001b[0m \u001b[0m_type\u001b[0m\u001b[0;34m=\u001b[0m\u001b[0mPlacePlane\u001b[0m\u001b[0;34m)\u001b[0m\u001b[0;34m\u001b[0m\u001b[0m\n\u001b[0m\u001b[1;32m      3\u001b[0m \u001b[0mpscene\u001b[0m\u001b[0;34m.\u001b[0m\u001b[0mcreate_binder\u001b[0m\u001b[0;34m(\u001b[0m\u001b[0mbname\u001b[0m\u001b[0;34m=\u001b[0m\u001b[0;34m\"goal_bd\"\u001b[0m\u001b[0;34m,\u001b[0m \u001b[0mgname\u001b[0m\u001b[0;34m=\u001b[0m\u001b[0;34m\"goal\"\u001b[0m\u001b[0;34m,\u001b[0m \u001b[0m_type\u001b[0m\u001b[0;34m=\u001b[0m\u001b[0mPlacePlane\u001b[0m\u001b[0;34m,\u001b[0m \u001b[0mpoint\u001b[0m\u001b[0;34m=\u001b[0m\u001b[0;34m(\u001b[0m\u001b[0;36m0\u001b[0m\u001b[0;34m,\u001b[0m\u001b[0;36m0\u001b[0m\u001b[0;34m,\u001b[0m\u001b[0;36m0.005\u001b[0m\u001b[0;34m)\u001b[0m\u001b[0;34m,\u001b[0m \u001b[0mrpy\u001b[0m\u001b[0;34m=\u001b[0m\u001b[0;34m(\u001b[0m\u001b[0;36m0\u001b[0m\u001b[0;34m,\u001b[0m\u001b[0;36m0\u001b[0m\u001b[0;34m,\u001b[0m\u001b[0;36m0\u001b[0m\u001b[0;34m)\u001b[0m\u001b[0;34m)\u001b[0m\u001b[0;34m\u001b[0m\u001b[0m\n\u001b[1;32m      4\u001b[0m \u001b[0mpscene\u001b[0m\u001b[0;34m.\u001b[0m\u001b[0mcreate_binder\u001b[0m\u001b[0;34m(\u001b[0m\u001b[0mbname\u001b[0m\u001b[0;34m=\u001b[0m\u001b[0;34m\"brush_face\"\u001b[0m\u001b[0;34m,\u001b[0m \u001b[0mgname\u001b[0m\u001b[0;34m=\u001b[0m\u001b[0;34m\"brush_face\"\u001b[0m\u001b[0;34m,\u001b[0m \u001b[0m_type\u001b[0m\u001b[0;34m=\u001b[0m\u001b[0mSweepTool\u001b[0m\u001b[0;34m,\u001b[0m \u001b[0mpoint\u001b[0m\u001b[0;34m=\u001b[0m\u001b[0;34m(\u001b[0m\u001b[0;36m0\u001b[0m\u001b[0;34m,\u001b[0m\u001b[0;36m0\u001b[0m\u001b[0;34m,\u001b[0m\u001b[0;34m-\u001b[0m\u001b[0;36m0.015\u001b[0m\u001b[0;34m)\u001b[0m\u001b[0;34m,\u001b[0m \u001b[0mrpy\u001b[0m\u001b[0;34m=\u001b[0m\u001b[0;34m(\u001b[0m\u001b[0;36m0\u001b[0m\u001b[0;34m,\u001b[0m\u001b[0;36m0\u001b[0m\u001b[0;34m,\u001b[0m\u001b[0;36m0\u001b[0m\u001b[0;34m)\u001b[0m\u001b[0;34m)\u001b[0m\u001b[0;34m\u001b[0m\u001b[0m\n",
      "\u001b[0;31mTypeError\u001b[0m: create_binder() takes at least 5 arguments (4 given)"
     ]
    }
   ],
   "source": [
    "pscene.create_binder(bname=\"grip0\", gname=\"grip0\", _type=Gripper2Tool, point=(0,0,0), rpy=(0,0,0))\n",
    "pscene.create_binder(bname=\"floor\", gname=\"floor\", _type=PlacePlane)\n",
    "pscene.create_binder(bname=\"goal_bd\", gname=\"goal\", _type=PlacePlane, point=(0,0,0.005), rpy=(0,0,0))\n",
    "pscene.create_binder(bname=\"brush_face\", gname=\"brush_face\", _type=SweepTool, point=(0,0,-0.015), rpy=(0,0,0))"
   ]
  },
  {
   "cell_type": "code",
   "execution_count": null,
   "metadata": {},
   "outputs": [],
   "source": []
  },
  {
   "cell_type": "markdown",
   "metadata": {},
   "source": [
    "## add objects"
   ]
  },
  {
   "cell_type": "code",
   "execution_count": 13,
   "metadata": {},
   "outputs": [],
   "source": [
    "from pkg.planning.constraint.constraint_subject import CustomObject, Grasp2Point, PlacePoint, SweepPoint, SweepTask"
   ]
  },
  {
   "cell_type": "code",
   "execution_count": 14,
   "metadata": {},
   "outputs": [],
   "source": [
    "brush_handle = gscene.NAME_DICT[\"brush_handle\"]\n",
    "brush_face = gscene.NAME_DICT[\"brush_face\"]\n",
    "brush = pscene.create_subject(oname=\"brush\", gname=\"brush_body\", _type=CustomObject, \n",
    "                             action_points_dict = {\"handle\": Grasp2Point(\"handle\", brush_handle, [0,0,0], [np.pi/2,0,0]),\n",
    "                                                   \"face\": PlacePoint(\"face\", brush_face, [0,0,-0.015], [0,0,0])})"
   ]
  },
  {
   "cell_type": "code",
   "execution_count": 15,
   "metadata": {},
   "outputs": [],
   "source": [
    "sweep = pscene.create_subject(oname=\"sweep\", gname=\"floor\", _type=SweepTask, \n",
    "                             action_points_dict = {\"wp1\": SweepPoint(\"wp1\", wp1, [0,0,0.005], [0,0,0]),\n",
    "                                                   \"wp2\": SweepPoint(\"wp2\", wp2, [0,0,0.005], [0,0,0])})"
   ]
  },
  {
   "cell_type": "code",
   "execution_count": null,
   "metadata": {},
   "outputs": [],
   "source": []
  },
  {
   "cell_type": "markdown",
   "metadata": {},
   "source": [
    "### planning pipeline"
   ]
  },
  {
   "cell_type": "code",
   "execution_count": 16,
   "metadata": {
    "scrolled": false
   },
   "outputs": [
    {
     "ename": "AssertionError",
     "evalue": "The geometries of action points should be in the family of subject geometry",
     "output_type": "error",
     "traceback": [
      "\u001b[0;31m---------------------------------------------------------------------------\u001b[0m",
      "\u001b[0;31mAssertionError\u001b[0m                            Traceback (most recent call last)",
      "\u001b[0;32m<ipython-input-16-f8899dd57d38>\u001b[0m in \u001b[0;36m<module>\u001b[0;34m()\u001b[0m\n\u001b[1;32m      6\u001b[0m \u001b[0mtplan\u001b[0m\u001b[0;34m.\u001b[0m\u001b[0mprepare\u001b[0m\u001b[0;34m(\u001b[0m\u001b[0;34m)\u001b[0m\u001b[0;34m\u001b[0m\u001b[0m\n\u001b[1;32m      7\u001b[0m \u001b[0;32mfrom\u001b[0m \u001b[0mpkg\u001b[0m\u001b[0;34m.\u001b[0m\u001b[0mplanning\u001b[0m\u001b[0;34m.\u001b[0m\u001b[0mpipeline\u001b[0m \u001b[0;32mimport\u001b[0m \u001b[0mPlanningPipeline\u001b[0m\u001b[0;34m\u001b[0m\u001b[0m\n\u001b[0;32m----> 8\u001b[0;31m \u001b[0mppline\u001b[0m \u001b[0;34m=\u001b[0m \u001b[0mPlanningPipeline\u001b[0m\u001b[0;34m(\u001b[0m\u001b[0mpscene\u001b[0m\u001b[0;34m)\u001b[0m\u001b[0;34m\u001b[0m\u001b[0m\n\u001b[0m\u001b[1;32m      9\u001b[0m \u001b[0mppline\u001b[0m\u001b[0;34m.\u001b[0m\u001b[0mset_motion_planner\u001b[0m\u001b[0;34m(\u001b[0m\u001b[0mmplan\u001b[0m\u001b[0;34m)\u001b[0m\u001b[0;34m\u001b[0m\u001b[0m\n\u001b[1;32m     10\u001b[0m \u001b[0mppline\u001b[0m\u001b[0;34m.\u001b[0m\u001b[0mset_task_planner\u001b[0m\u001b[0;34m(\u001b[0m\u001b[0mtplan\u001b[0m\u001b[0;34m)\u001b[0m\u001b[0;34m\u001b[0m\u001b[0m\n",
      "\u001b[0;32m/home/jhkim/Projects/rnb-planning/src/pkg/planning/pipeline.pyc\u001b[0m in \u001b[0;36m__init__\u001b[0;34m(self, pscene)\u001b[0m\n\u001b[1;32m     28\u001b[0m     \u001b[0;31m# @param pscene rnb-planning.src.pkg.planning.scene.PlanningScene\u001b[0m\u001b[0;34m\u001b[0m\u001b[0;34m\u001b[0m\u001b[0m\n\u001b[1;32m     29\u001b[0m     \u001b[0;32mdef\u001b[0m \u001b[0m__init__\u001b[0m\u001b[0;34m(\u001b[0m\u001b[0mself\u001b[0m\u001b[0;34m,\u001b[0m \u001b[0mpscene\u001b[0m\u001b[0;34m)\u001b[0m\u001b[0;34m:\u001b[0m\u001b[0;34m\u001b[0m\u001b[0m\n\u001b[0;32m---> 30\u001b[0;31m         \u001b[0mpscene\u001b[0m\u001b[0;34m.\u001b[0m\u001b[0mset_object_state\u001b[0m\u001b[0;34m(\u001b[0m\u001b[0mpscene\u001b[0m\u001b[0;34m.\u001b[0m\u001b[0minitialize_state\u001b[0m\u001b[0;34m(\u001b[0m\u001b[0mpscene\u001b[0m\u001b[0;34m.\u001b[0m\u001b[0mcombined_robot\u001b[0m\u001b[0;34m.\u001b[0m\u001b[0mhome_pose\u001b[0m\u001b[0;34m)\u001b[0m\u001b[0;34m)\u001b[0m\u001b[0;34m\u001b[0m\u001b[0m\n\u001b[0m\u001b[1;32m     31\u001b[0m         \u001b[0;31m## @brief rnb-planning.src.pkg.planning.scene.PlanningScene\u001b[0m\u001b[0;34m\u001b[0m\u001b[0;34m\u001b[0m\u001b[0m\n\u001b[1;32m     32\u001b[0m         \u001b[0mself\u001b[0m\u001b[0;34m.\u001b[0m\u001b[0mpscene\u001b[0m \u001b[0;34m=\u001b[0m \u001b[0mpscene\u001b[0m\u001b[0;34m\u001b[0m\u001b[0m\n",
      "\u001b[0;32m/home/jhkim/Projects/rnb-planning/src/pkg/planning/scene.pyc\u001b[0m in \u001b[0;36minitialize_state\u001b[0;34m(self, Q, force_fit_binding, Poffset)\u001b[0m\n\u001b[1;32m    410\u001b[0m                             Poffset=Poffset)\n\u001b[1;32m    411\u001b[0m \u001b[0;34m\u001b[0m\u001b[0m\n\u001b[0;32m--> 412\u001b[0;31m         \u001b[0;32mreturn\u001b[0m \u001b[0mself\u001b[0m\u001b[0;34m.\u001b[0m\u001b[0mrebind_all\u001b[0m\u001b[0;34m(\u001b[0m\u001b[0mbinding_list\u001b[0m\u001b[0;34m=\u001b[0m\u001b[0mbinding_state\u001b[0m\u001b[0;34m,\u001b[0m \u001b[0mQ\u001b[0m\u001b[0;34m=\u001b[0m\u001b[0mQ\u001b[0m\u001b[0;34m)\u001b[0m\u001b[0;34m\u001b[0m\u001b[0m\n\u001b[0m\u001b[1;32m    413\u001b[0m \u001b[0;34m\u001b[0m\u001b[0m\n\u001b[1;32m    414\u001b[0m     \u001b[0;31m##\u001b[0m\u001b[0;34m\u001b[0m\u001b[0;34m\u001b[0m\u001b[0m\n",
      "\u001b[0;32m/home/jhkim/Projects/rnb-planning/src/pkg/planning/scene.pyc\u001b[0m in \u001b[0;36mrebind_all\u001b[0;34m(self, binding_list, Q)\u001b[0m\n\u001b[1;32m    351\u001b[0m     \u001b[0;32mdef\u001b[0m \u001b[0mrebind_all\u001b[0m\u001b[0;34m(\u001b[0m\u001b[0mself\u001b[0m\u001b[0;34m,\u001b[0m \u001b[0mbinding_list\u001b[0m\u001b[0;34m,\u001b[0m \u001b[0mQ\u001b[0m\u001b[0;34m)\u001b[0m\u001b[0;34m:\u001b[0m\u001b[0;34m\u001b[0m\u001b[0m\n\u001b[1;32m    352\u001b[0m         \u001b[0;32mfor\u001b[0m \u001b[0mbd\u001b[0m \u001b[0;32min\u001b[0m \u001b[0mbinding_list\u001b[0m\u001b[0;34m:\u001b[0m\u001b[0;34m\u001b[0m\u001b[0m\n\u001b[0;32m--> 353\u001b[0;31m             \u001b[0mself\u001b[0m\u001b[0;34m.\u001b[0m\u001b[0mrebind\u001b[0m\u001b[0;34m(\u001b[0m\u001b[0mbd\u001b[0m\u001b[0;34m,\u001b[0m \u001b[0mlist2dict\u001b[0m\u001b[0;34m(\u001b[0m\u001b[0mQ\u001b[0m\u001b[0;34m,\u001b[0m \u001b[0mself\u001b[0m\u001b[0;34m.\u001b[0m\u001b[0mgscene\u001b[0m\u001b[0;34m.\u001b[0m\u001b[0mjoint_names\u001b[0m\u001b[0;34m)\u001b[0m\u001b[0;34m)\u001b[0m\u001b[0;34m\u001b[0m\u001b[0m\n\u001b[0m\u001b[1;32m    354\u001b[0m \u001b[0;34m\u001b[0m\u001b[0m\n\u001b[1;32m    355\u001b[0m         \u001b[0mbinding_state\u001b[0m\u001b[0;34m,\u001b[0m \u001b[0mstate_param\u001b[0m \u001b[0;34m=\u001b[0m \u001b[0mself\u001b[0m\u001b[0;34m.\u001b[0m\u001b[0mget_object_state\u001b[0m\u001b[0;34m(\u001b[0m\u001b[0;34m)\u001b[0m\u001b[0;34m\u001b[0m\u001b[0m\n",
      "\u001b[0;32m/home/jhkim/Projects/rnb-planning/src/pkg/planning/scene.pyc\u001b[0m in \u001b[0;36mrebind\u001b[0;34m(self, binding, joint_dict)\u001b[0m\n\u001b[1;32m    334\u001b[0m         \u001b[0mobject_tar\u001b[0m \u001b[0;34m=\u001b[0m \u001b[0mself\u001b[0m\u001b[0;34m.\u001b[0m\u001b[0msubject_dict\u001b[0m\u001b[0;34m[\u001b[0m\u001b[0mbinding\u001b[0m\u001b[0;34m[\u001b[0m\u001b[0;36m0\u001b[0m\u001b[0;34m]\u001b[0m\u001b[0;34m]\u001b[0m\u001b[0;34m\u001b[0m\u001b[0m\n\u001b[1;32m    335\u001b[0m         \u001b[0;32mif\u001b[0m \u001b[0mbinding\u001b[0m\u001b[0;34m[\u001b[0m\u001b[0;36m2\u001b[0m\u001b[0;34m]\u001b[0m \u001b[0;32mis\u001b[0m \u001b[0mNone\u001b[0m\u001b[0;34m:\u001b[0m\u001b[0;34m\u001b[0m\u001b[0m\n\u001b[0;32m--> 336\u001b[0;31m             \u001b[0mobject_tar\u001b[0m\u001b[0;34m.\u001b[0m\u001b[0mset_state\u001b[0m\u001b[0;34m(\u001b[0m\u001b[0mbinding\u001b[0m\u001b[0;34m,\u001b[0m \u001b[0mNone\u001b[0m\u001b[0;34m)\u001b[0m\u001b[0;34m\u001b[0m\u001b[0m\n\u001b[0m\u001b[1;32m    337\u001b[0m         \u001b[0;32melse\u001b[0m\u001b[0;34m:\u001b[0m\u001b[0;34m\u001b[0m\u001b[0m\n\u001b[1;32m    338\u001b[0m             \u001b[0mbinder\u001b[0m \u001b[0;34m=\u001b[0m \u001b[0mself\u001b[0m\u001b[0;34m.\u001b[0m\u001b[0mactor_dict\u001b[0m\u001b[0;34m[\u001b[0m\u001b[0mbinding\u001b[0m\u001b[0;34m[\u001b[0m\u001b[0;36m2\u001b[0m\u001b[0;34m]\u001b[0m\u001b[0;34m]\u001b[0m\u001b[0;34m\u001b[0m\u001b[0m\n",
      "\u001b[0;32m/home/jhkim/Projects/rnb-planning/src/pkg/planning/constraint/constraint_subject.pyc\u001b[0m in \u001b[0;36mset_state\u001b[0;34m(self, binding, state_param)\u001b[0m\n\u001b[1;32m    277\u001b[0m         \u001b[0;32melse\u001b[0m\u001b[0;34m:\u001b[0m\u001b[0;34m\u001b[0m\u001b[0m\n\u001b[1;32m    278\u001b[0m             \u001b[0mself\u001b[0m\u001b[0;34m.\u001b[0m\u001b[0mstate_param\u001b[0m \u001b[0;34m=\u001b[0m \u001b[0mstate_param\u001b[0m\u001b[0;34m.\u001b[0m\u001b[0mcopy\u001b[0m\u001b[0;34m(\u001b[0m\u001b[0;34m)\u001b[0m\u001b[0;34m\u001b[0m\u001b[0m\n\u001b[0;32m--> 279\u001b[0;31m         \u001b[0mself\u001b[0m\u001b[0;34m.\u001b[0m\u001b[0mupdate_sub_points\u001b[0m\u001b[0;34m(\u001b[0m\u001b[0;34m)\u001b[0m\u001b[0;34m\u001b[0m\u001b[0m\n\u001b[0m\u001b[1;32m    280\u001b[0m \u001b[0;34m\u001b[0m\u001b[0m\n\u001b[1;32m    281\u001b[0m     \u001b[0;31m##\u001b[0m\u001b[0;34m\u001b[0m\u001b[0;34m\u001b[0m\u001b[0m\n",
      "\u001b[0;32m/home/jhkim/Projects/rnb-planning/src/pkg/planning/constraint/constraint_subject.pyc\u001b[0m in \u001b[0;36mupdate_sub_points\u001b[0;34m(self)\u001b[0m\n\u001b[1;32m    134\u001b[0m         \u001b[0mgfams\u001b[0m \u001b[0;34m=\u001b[0m \u001b[0mself\u001b[0m\u001b[0;34m.\u001b[0m\u001b[0mgeometry\u001b[0m\u001b[0;34m.\u001b[0m\u001b[0mget_family\u001b[0m\u001b[0;34m(\u001b[0m\u001b[0;34m)\u001b[0m\u001b[0;34m\u001b[0m\u001b[0m\n\u001b[1;32m    135\u001b[0m         \u001b[0;32mfor\u001b[0m \u001b[0map\u001b[0m \u001b[0;32min\u001b[0m \u001b[0mself\u001b[0m\u001b[0;34m.\u001b[0m\u001b[0maction_points_dict\u001b[0m\u001b[0;34m.\u001b[0m\u001b[0mvalues\u001b[0m\u001b[0;34m(\u001b[0m\u001b[0;34m)\u001b[0m\u001b[0;34m:\u001b[0m     \u001b[0;31m# you should update action points here\u001b[0m\u001b[0;34m\u001b[0m\u001b[0m\n\u001b[0;32m--> 136\u001b[0;31m             \u001b[0;32massert\u001b[0m \u001b[0map\u001b[0m\u001b[0;34m.\u001b[0m\u001b[0mgeometry\u001b[0m\u001b[0;34m.\u001b[0m\u001b[0mname\u001b[0m \u001b[0;32min\u001b[0m \u001b[0mgfams\u001b[0m\u001b[0;34m,\u001b[0m \u001b[0;34m\"The geometries of action points should be in the family of subject geometry\"\u001b[0m\u001b[0;34m\u001b[0m\u001b[0m\n\u001b[0m\u001b[1;32m    137\u001b[0m             \u001b[0map\u001b[0m\u001b[0;34m.\u001b[0m\u001b[0mupdate_handle\u001b[0m\u001b[0;34m(\u001b[0m\u001b[0;34m)\u001b[0m\u001b[0;34m\u001b[0m\u001b[0m\n\u001b[1;32m    138\u001b[0m         \u001b[0;32mfor\u001b[0m \u001b[0mbp\u001b[0m \u001b[0;32min\u001b[0m \u001b[0mself\u001b[0m\u001b[0;34m.\u001b[0m\u001b[0msub_binders_dict\u001b[0m\u001b[0;34m.\u001b[0m\u001b[0mvalues\u001b[0m\u001b[0;34m(\u001b[0m\u001b[0;34m)\u001b[0m\u001b[0;34m:\u001b[0m     \u001b[0;31m# you should update action points here\u001b[0m\u001b[0;34m\u001b[0m\u001b[0m\n",
      "\u001b[0;31mAssertionError\u001b[0m: The geometries of action points should be in the family of subject geometry"
     ]
    }
   ],
   "source": [
    "from pkg.planning.motion.moveit.moveit_planner import MoveitPlanner\n",
    "mplan = MoveitPlanner(pscene)\n",
    "mplan.update_gscene()\n",
    "from pkg.planning.task.rrt import TaskRRT\n",
    "tplan = TaskRRT(pscene)\n",
    "tplan.prepare()\n",
    "from pkg.planning.pipeline import PlanningPipeline\n",
    "ppline = PlanningPipeline(pscene)\n",
    "ppline.set_motion_planner(mplan)\n",
    "ppline.set_task_planner(tplan)"
   ]
  },
  {
   "cell_type": "code",
   "execution_count": null,
   "metadata": {},
   "outputs": [],
   "source": []
  },
  {
   "cell_type": "markdown",
   "metadata": {},
   "source": [
    "## ui"
   ]
  },
  {
   "cell_type": "code",
   "execution_count": 17,
   "metadata": {},
   "outputs": [
    {
     "ename": "NameError",
     "evalue": "name 'ppline' is not defined",
     "output_type": "error",
     "traceback": [
      "\u001b[0;31m---------------------------------------------------------------------------\u001b[0m",
      "\u001b[0;31mNameError\u001b[0m                                 Traceback (most recent call last)",
      "\u001b[0;32m<ipython-input-17-4c5b8a1dad46>\u001b[0m in \u001b[0;36m<module>\u001b[0;34m()\u001b[0m\n\u001b[1;32m      3\u001b[0m \u001b[0;31m# start UI\u001b[0m\u001b[0;34m\u001b[0m\u001b[0;34m\u001b[0m\u001b[0m\n\u001b[1;32m      4\u001b[0m \u001b[0mui_broker\u001b[0m \u001b[0;34m=\u001b[0m \u001b[0mUIBroker\u001b[0m\u001b[0;34m.\u001b[0m\u001b[0minstance\u001b[0m\u001b[0;34m(\u001b[0m\u001b[0;34m)\u001b[0m\u001b[0;34m\u001b[0m\u001b[0m\n\u001b[0;32m----> 5\u001b[0;31m \u001b[0mui_broker\u001b[0m\u001b[0;34m.\u001b[0m\u001b[0minitialize\u001b[0m\u001b[0;34m(\u001b[0m\u001b[0mppline\u001b[0m\u001b[0;34m,\u001b[0m \u001b[0ms_builder\u001b[0m\u001b[0;34m)\u001b[0m\u001b[0;34m\u001b[0m\u001b[0m\n\u001b[0m\u001b[1;32m      6\u001b[0m \u001b[0mui_broker\u001b[0m\u001b[0;34m.\u001b[0m\u001b[0mstart_server\u001b[0m\u001b[0;34m(\u001b[0m\u001b[0;34m)\u001b[0m\u001b[0;34m\u001b[0m\u001b[0m\n\u001b[1;32m      7\u001b[0m \u001b[0;34m\u001b[0m\u001b[0m\n",
      "\u001b[0;31mNameError\u001b[0m: name 'ppline' is not defined"
     ]
    }
   ],
   "source": [
    "from pkg.ui.ui_broker import *\n",
    "\n",
    "# start UI\n",
    "ui_broker = UIBroker.instance()\n",
    "ui_broker.initialize(ppline, s_builder)\n",
    "ui_broker.start_server()\n",
    "\n",
    "ui_broker.set_tables()"
   ]
  },
  {
   "cell_type": "markdown",
   "metadata": {},
   "source": [
    "```\n",
    "open web ui on <your ip>:8050\n",
    "click geometry items / Handles / Binders to highlight geometry on RVIZ\n",
    "other functions may be buggy.. please report\n",
    "```"
   ]
  },
  {
   "cell_type": "code",
   "execution_count": null,
   "metadata": {},
   "outputs": [],
   "source": []
  },
  {
   "cell_type": "markdown",
   "metadata": {},
   "source": [
    "## Test plan"
   ]
  },
  {
   "cell_type": "code",
   "execution_count": 18,
   "metadata": {},
   "outputs": [],
   "source": [
    "from pkg.planning.constraint.constraint_common \\\n",
    "            import sample_redundancy, combine_redundancy\n",
    "\n",
    "initial_state = pscene.initialize_state(crob.home_pose)"
   ]
  },
  {
   "cell_type": "code",
   "execution_count": 20,
   "metadata": {
    "scrolled": true
   },
   "outputs": [
    {
     "name": "stdout",
     "output_type": "stream",
     "text": [
      "try: 0 - ('floor', 0)->('grip0', 0)\n",
      "try transition motion\n",
      "transition motion tried: False\n",
      "result: 0 - ('floor', 0)->('grip0', 0) = fail\n",
      "try: 0 - ('floor', 0)->('floor', 1)\n",
      "result: 0 - ('floor', 0)->('floor', 1) = fail\n",
      "try: 0 - ('floor', 0)->('floor', 1)\n",
      "result: 0 - ('floor', 0)->('floor', 1) = fail\n",
      "try: 0 - ('floor', 0)->('grip0', 0)\n",
      "try transition motion\n",
      "transition motion tried: False\n",
      "result: 0 - ('floor', 0)->('grip0', 0) = fail\n",
      "try: 0 - ('floor', 0)->('floor', 1)\n",
      "result: 0 - ('floor', 0)->('floor', 1) = fail\n",
      "try: 0 - ('floor', 0)->('grip0', 0)\n",
      "try transition motion\n",
      "transition motion tried: False\n",
      "result: 0 - ('floor', 0)->('grip0', 0) = fail\n",
      "try: 0 - ('floor', 0)->('floor', 1)\n",
      "result: 0 - ('floor', 0)->('floor', 1) = fail\n",
      "try: 0 - ('floor', 0)->('floor', 1)\n",
      "result: 0 - ('floor', 0)->('floor', 1) = fail\n",
      "try: 0 - ('floor', 0)->('floor', 1)\n",
      "result: 0 - ('floor', 0)->('floor', 1) = fail\n",
      "try: 0 - ('floor', 0)->('grip0', 0)\n",
      "try transition motion\n",
      "transition motion tried: False\n",
      "result: 0 - ('floor', 0)->('grip0', 0) = fail\n",
      "try: 0 - ('floor', 0)->('floor', 1)\n",
      "result: 0 - ('floor', 0)->('floor', 1) = fail\n",
      "try: 0 - ('floor', 0)->('floor', 1)\n",
      "result: 0 - ('floor', 0)->('floor', 1) = fail\n",
      "try: 0 - ('floor', 0)->('grip0', 0)\n",
      "try transition motion\n",
      "transition motion tried: False\n",
      "result: 0 - ('floor', 0)->('grip0', 0) = fail\n",
      "try: 0 - ('floor', 0)->('floor', 1)\n",
      "result: 0 - ('floor', 0)->('floor', 1) = fail\n",
      "try: 0 - ('floor', 0)->('grip0', 0)\n",
      "try transition motion\n",
      "transition motion tried: False\n",
      "result: 0 - ('floor', 0)->('grip0', 0) = fail\n",
      "try: 0 - ('floor', 0)->('grip0', 0)\n",
      "try transition motion\n",
      "transition motion tried: True\n",
      "result: 0 - ('floor', 0)->('grip0', 0) = success\n",
      "branching: 0->1 (6.21/300.0 s, steps/err: 10(17.6711082458 ms)/0.000841552064057)\n",
      "======================================================================================================================================================\n",
      "try: 0 - ('floor', 0)->('grip0', 0)\n",
      "try transition motion\n",
      "transition motion tried: True\n",
      "result: 0 - ('floor', 0)->('grip0', 0) = success\n",
      "branching: 0->2 (6.22/300.0 s, steps/err: 7(16.0140991211 ms)/0.00156496244289)\n",
      "======================================================================================================================================================\n",
      "try: 0 - ('floor', 0)->('grip0', 0)\n",
      "try transition motion\n",
      "transition motion tried: True\n",
      "result: 0 - ('floor', 0)->('grip0', 0) = success\n",
      "branching: 0->3 (6.24/300.0 s, steps/err: 17(18.4259414673 ms)/0.00126673307004)\n",
      "======================================================================================================================================================\n",
      "try: 0 - ('floor', 0)->('grip0', 0)\n",
      "try transition motion\n",
      "transition motion tried: True\n",
      "result: 0 - ('floor', 0)->('grip0', 0) = success\n",
      "branching: 0->4 (6.26/300.0 s, steps/err: 10(19.7100639343 ms)/0.00144251949116)\n",
      "======================================================================================================================================================\n",
      "try: 2 - ('grip0', 0)->('grip0', 1)\n",
      "try transition motion\n",
      "transition motion tried: True\n",
      "result: 2 - ('grip0', 0)->('grip0', 1) = success\n",
      "branching: 2->5 (6.28/300.0 s, steps/err: 3(20.7090377808 ms)/0.00213025627267)\n",
      "======================================================================================================================================================\n",
      "try: 4 - ('grip0', 0)->('grip0', 1)\n",
      "try transition motion\n",
      "transition motion tried: True\n",
      "result: 4 - ('grip0', 0)->('grip0', 1) = success\n",
      "branching: 4->6 (6.3/300.0 s, steps/err: 9(19.0281867981 ms)/0.00156615898895)\n",
      "======================================================================================================================================================\n",
      "try: 0 - ('floor', 0)->('floor', 1)\n",
      "result: 0 - ('floor', 0)->('floor', 1) = fail\n",
      "try: 2 - ('grip0', 0)->('floor', 0)\n",
      "try transition motion\n",
      "transition motion tried: False\n",
      "result: 2 - ('grip0', 0)->('floor', 0) = fail\n",
      "try: 0 - ('floor', 0)->('grip0', 0)\n",
      "try transition motion\n",
      "transition motion tried: False\n",
      "result: 0 - ('floor', 0)->('grip0', 0) = fail\n",
      "try: 5 - ('grip0', 1)->('grip0', 2)\n",
      "try constrained motion\n",
      "constrained motion tried: True\n",
      "=============== try reaching goal from ('grip0', 2) =================\n",
      "result: 5 - ('grip0', 1)->('grip0', 2) = success\n",
      "branching: 5->7 (8.4/300.0 s, steps/err: 74(41.5868759155 ms)/0.00180481029451)\n",
      "======================================================================================================================================================\n",
      "try: 7 - ('grip0', 2)->('goal', 2)\n",
      "try transition motion\n",
      "transition motion tried: True\n",
      "result: 7 - ('grip0', 2)->('goal', 2) = success\n",
      "branching: 7->8 (8.45/300.0 s, steps/err: 41(41.7351722717 ms)/0.00170995877728)\n",
      "======================================================================================================================================================\n",
      "++ adding return motion to acquired answer ++\n",
      "try joint motion\n",
      "joint motion tried: True\n",
      "=========================================================================================================\n",
      "======================= terminated 0: first answer acquired ===============================\n",
      "=========================================================================================================\n"
     ]
    }
   ],
   "source": [
    "# goal_nodes = [(\"goal\",)]\n",
    "goal_nodes = [(\"goal\", 2)]\n",
    "ppline.search(initial_state, goal_nodes, verbose=True, display=False, dt_vis=0.01, timeout_loop=300, multiprocess=False)\n",
    "schedules = ppline.tplan.find_schedules()\n",
    "schedules_sorted = ppline.tplan.sort_schedule(schedules)\n",
    "snode_schedule = ppline.tplan.idxSchedule2SnodeScedule(schedules_sorted[0])"
   ]
  },
  {
   "cell_type": "code",
   "execution_count": null,
   "metadata": {},
   "outputs": [],
   "source": []
  },
  {
   "cell_type": "markdown",
   "metadata": {},
   "source": [
    "## play searched plan"
   ]
  },
  {
   "cell_type": "code",
   "execution_count": 21,
   "metadata": {
    "scrolled": false
   },
   "outputs": [],
   "source": [
    "ppline.play_schedule(snode_schedule, period=0.01)"
   ]
  },
  {
   "cell_type": "code",
   "execution_count": null,
   "metadata": {},
   "outputs": [],
   "source": []
  },
  {
   "cell_type": "code",
   "execution_count": null,
   "metadata": {},
   "outputs": [],
   "source": []
  }
 ],
 "metadata": {
  "kernelspec": {
   "display_name": "Python 2",
   "language": "python",
   "name": "python2"
  },
  "language_info": {
   "codemirror_mode": {
    "name": "ipython",
    "version": 2
   },
   "file_extension": ".py",
   "mimetype": "text/x-python",
   "name": "python",
   "nbconvert_exporter": "python",
   "pygments_lexer": "ipython2",
   "version": "2.7.17"
  }
 },
 "nbformat": 4,
 "nbformat_minor": 2
}
