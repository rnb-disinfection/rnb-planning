{
 "cells": [
  {
   "cell_type": "markdown",
   "metadata": {},
   "source": [
    "## 수정사항\n",
    "#### 2021.06.04\n",
    "* Gripper 자유도 45도로 제한됨에 따라 파지점 방향 수정, 바닥 파지면은 삭제"
   ]
  },
  {
   "cell_type": "markdown",
   "metadata": {},
   "source": [
    "## set running directory"
   ]
  },
  {
   "cell_type": "code",
   "execution_count": 1,
   "metadata": {},
   "outputs": [],
   "source": [
    "from __future__ import print_function\n",
    "import os\n",
    "os.chdir(os.path.join(os.environ[\"RNB_PLANNING_DIR\"], 'src'))"
   ]
  },
  {
   "cell_type": "code",
   "execution_count": 2,
   "metadata": {},
   "outputs": [],
   "source": [
    "from pkg.controller.combined_robot import *\n",
    "from pkg.utils.utils import get_now, try_mkdir\n",
    "\n",
    "\n",
    "DATA_PATH = os.path.join(os.environ['RNB_PLANNING_DIR'], \"data\")\n",
    "try_mkdir(DATA_PATH)\n",
    "\n",
    "TEST_DATA_PATH = os.path.join(DATA_PATH, \"test-hoof\")\n",
    "try_mkdir(TEST_DATA_PATH)"
   ]
  },
  {
   "cell_type": "code",
   "execution_count": null,
   "metadata": {},
   "outputs": [],
   "source": []
  },
  {
   "cell_type": "code",
   "execution_count": 3,
   "metadata": {},
   "outputs": [],
   "source": [
    "VISUALIZE = True\n",
    "TIMEOUT_REACH = 30\n",
    "TIMEOUT_RETRIEVE = 30\n",
    "TIMEOUT_SELF = 3\n",
    "TOOL_RPY = (-np.pi/2,0,0)\n",
    "SHOW_PERIOD = 0.01\n",
    "\n",
    "ROBOT_TYPE = RobotType.panda\n",
    "\n",
    "if ROBOT_TYPE == RobotType.indy7:\n",
    "    ROBOT_NAME = \"indy0\"\n",
    "    TOOL_LINK = \"indy0_tcp\"\n",
    "    TOOL_XYZ = (0,0,0.14)\n",
    "    GRIP_DEPTH = 0.05\n",
    "    HOME_POSE = (0,0,0,0,0,0)\n",
    "elif ROBOT_TYPE == RobotType.panda:\n",
    "    ROBOT_NAME = \"panda0\"\n",
    "    TOOL_LINK = \"panda0_hand\"\n",
    "    TOOL_XYZ = (0,0,0.112)\n",
    "    GRIP_DEPTH = 0.03\n",
    "    HOME_POSE = (0,-0.3,0,-0.5,0,2.5,0)\n",
    "else:\n",
    "    raise(NotImplementedError(\"Unknown robot type\"))\n",
    "    \n",
    "    \n",
    "ROBOT_DATA_ROOT = os.path.join(TEST_DATA_PATH, ROBOT_TYPE.name)\n",
    "try_mkdir(ROBOT_DATA_ROOT)"
   ]
  },
  {
   "cell_type": "code",
   "execution_count": null,
   "metadata": {},
   "outputs": [],
   "source": []
  },
  {
   "cell_type": "markdown",
   "metadata": {},
   "source": [
    "## init combined robot config"
   ]
  },
  {
   "cell_type": "code",
   "execution_count": 4,
   "metadata": {},
   "outputs": [
    {
     "name": "stdout",
     "output_type": "stream",
     "text": [
      "connection command:\n",
      "panda0: False\n"
     ]
    }
   ],
   "source": [
    "\n",
    "from pkg.project_config import *\n",
    "\n",
    "crob = CombinedRobot(robots_on_scene=[\n",
    "    RobotConfig(0, ROBOT_TYPE, None,\n",
    "                INDY_IP)]\n",
    "              , connection_list=[False])\n",
    "\n",
    "from pkg.geometry.builder.scene_builder import SceneBuilder\n",
    "s_builder = SceneBuilder(None)\n",
    "# s_builder.reset_reference_coord(ref_name=\"floor\")"
   ]
  },
  {
   "cell_type": "code",
   "execution_count": null,
   "metadata": {},
   "outputs": [],
   "source": []
  },
  {
   "cell_type": "markdown",
   "metadata": {},
   "source": [
    "## get ghnd with detected robot config"
   ]
  },
  {
   "cell_type": "code",
   "execution_count": 5,
   "metadata": {
    "scrolled": true
   },
   "outputs": [
    {
     "name": "stdout",
     "output_type": "stream",
     "text": [
      "Please create a subscriber to the marker\n",
      "publication OK\n",
      "published: [0, 0, 0, 0, 0, 0, 0]\n"
     ]
    }
   ],
   "source": [
    "# xyz_rpy_robots = s_builder.detect_items(level_mask=[DetectionLevel.ROBOT])\n",
    "xyz_rpy_robots = {ROBOT_NAME: ((0,0,0), (0,0,0))}\n",
    "crob.update_robot_pos_dict(xyz_rpy_robots=xyz_rpy_robots)\n",
    "gscene = s_builder.create_gscene(crob, start_rviz=VISUALIZE)\n",
    "HOME_DICT = list2dict(HOME_POSE, gscene.joint_names)\n"
   ]
  },
  {
   "cell_type": "code",
   "execution_count": 6,
   "metadata": {},
   "outputs": [],
   "source": [
    "from pkg.utils.joint_utils import get_tf\n",
    "shoulder_link = gscene.urdf_content.joint_map[gscene.joint_names[1]].child\n",
    "shoulder_height = get_tf(shoulder_link, HOME_DICT, gscene.urdf_content)[2,3]"
   ]
  },
  {
   "cell_type": "code",
   "execution_count": null,
   "metadata": {},
   "outputs": [],
   "source": []
  },
  {
   "cell_type": "markdown",
   "metadata": {},
   "source": [
    "## add environment"
   ]
  },
  {
   "cell_type": "code",
   "execution_count": 7,
   "metadata": {},
   "outputs": [
    {
     "name": "stdout",
     "output_type": "stream",
     "text": [
      "Please create a subscriber to the marker\n"
     ]
    }
   ],
   "source": [
    "from pkg.geometry.geometry import *\n",
    "gtems_robot = s_builder.add_robot_geometries(color=(0,1,0,0.5), display=True, collision=True)"
   ]
  },
  {
   "cell_type": "code",
   "execution_count": null,
   "metadata": {},
   "outputs": [],
   "source": []
  },
  {
   "cell_type": "markdown",
   "metadata": {},
   "source": [
    "## init planning scene"
   ]
  },
  {
   "cell_type": "code",
   "execution_count": 8,
   "metadata": {},
   "outputs": [],
   "source": [
    "from pkg.planning.scene import PlanningScene\n",
    "pscene = PlanningScene(gscene, combined_robot=crob)\n",
    "\n",
    "from pkg.planning.pipeline import PlanningPipeline\n",
    "ppline = PlanningPipeline(pscene)"
   ]
  },
  {
   "cell_type": "code",
   "execution_count": null,
   "metadata": {},
   "outputs": [],
   "source": []
  },
  {
   "cell_type": "markdown",
   "metadata": {},
   "source": [
    "## Register binders"
   ]
  },
  {
   "cell_type": "code",
   "execution_count": 9,
   "metadata": {},
   "outputs": [],
   "source": [
    "from pkg.planning.constraint.constraint_actor import Gripper2Tool, PlacePlane, SweepTool"
   ]
  },
  {
   "cell_type": "code",
   "execution_count": 10,
   "metadata": {},
   "outputs": [],
   "source": [
    "gscene.create_safe(gtype=GEOTYPE.SPHERE, name=\"grip0\", link_name=TOOL_LINK, \n",
    "                 dims=(0.01,)*3, center=TOOL_XYZ, rpy=TOOL_RPY, color=(1,0,0,1), display=True, collision=False, fixed=True)\n",
    "gripper = pscene.create_binder(bname=\"grip0\", gname=\"grip0\", _type=Gripper2Tool, point=(0,0,0))"
   ]
  },
  {
   "cell_type": "code",
   "execution_count": null,
   "metadata": {},
   "outputs": [],
   "source": []
  },
  {
   "cell_type": "markdown",
   "metadata": {},
   "source": [
    "## planner"
   ]
  },
  {
   "cell_type": "code",
   "execution_count": 11,
   "metadata": {},
   "outputs": [],
   "source": [
    "from pkg.planning.motion.moveit.moveit_planner import MoveitPlanner\n",
    "from pkg.planning.filtering.grasp_filter import GraspChecker\n",
    "mplan = MoveitPlanner(pscene)\n",
    "checker = MoveitPlanner(pscene, motion_filters = [GraspChecker(pscene)])"
   ]
  },
  {
   "cell_type": "code",
   "execution_count": null,
   "metadata": {},
   "outputs": [],
   "source": []
  },
  {
   "cell_type": "markdown",
   "metadata": {},
   "source": [
    "## ui"
   ]
  },
  {
   "cell_type": "code",
   "execution_count": 12,
   "metadata": {},
   "outputs": [
    {
     "name": "stdout",
     "output_type": "stream",
     "text": [
      "Dash is running on http://0.0.0.0:8050/\n",
      "\n",
      " * Serving Flask app \"pkg.ui.dash_launcher\" (lazy loading)\n",
      " * Environment: production\n"
     ]
    }
   ],
   "source": [
    "from pkg.ui.ui_broker import *\n",
    "\n",
    "# start UI\n",
    "ui_broker = UIBroker.instance()\n",
    "ui_broker.initialize(ppline, s_builder)\n",
    "ui_broker.start_server()\n",
    "\n",
    "ui_broker.set_tables()"
   ]
  },
  {
   "cell_type": "code",
   "execution_count": null,
   "metadata": {},
   "outputs": [],
   "source": []
  },
  {
   "cell_type": "markdown",
   "metadata": {},
   "source": [
    "# Object Classes"
   ]
  },
  {
   "cell_type": "code",
   "execution_count": 13,
   "metadata": {},
   "outputs": [
    {
     "name": "stdout",
     "output_type": "stream",
     "text": [
      "   WARNING: This is a development server. Do not use it in a production deployment.\n",
      "   Use a production WSGI server instead.\n",
      " * Debug mode: off\n"
     ]
    }
   ],
   "source": [
    "from pkg.planning.filtering.lattice_model import *\n",
    "from pkg.planning.filtering.lattice_model.scene_building import *\n",
    "        \n",
    "##\n",
    "# @class PlanePan\n",
    "# @brief Obstacles on the workplane\n",
    "class PlaneHoof(PlaneObject):\n",
    "    def __init__(self, gscene, name, workplane, GRIP_DEPTH, CLEARANCE, XYZ_LOC=None, **kwargs):\n",
    "        self.GRIP_DEPTH = GRIP_DEPTH\n",
    "        self.DIM_MIN = (0.02, GRIP_DEPTH, GRIP_DEPTH)\n",
    "        DIM = np.random.uniform(self.DIM_MIN, self.DIM_MAX)\n",
    "#         DIM[2] = GRIP_DEPTH\n",
    "        PlaneObject.__init__(self, gscene=gscene, name=name, workplane=workplane, \n",
    "                             GRIP_DEPTH=GRIP_DEPTH, CLEARANCE=CLEARANCE, DIM=DIM, **kwargs)\n",
    "        HOOF_LEN = 0.05\n",
    "        gparent = self.geometry\n",
    "        gscene.create_safe(GEOTYPE.BOX, gparent.name+\"_cn_a\", link_name=gparent.link_name, \n",
    "                           dims=(DIM[0], HOOF_LEN, DIM[2]), center=(-HOOF_LEN/2/np.sqrt(2),DIM[1]/2+HOOF_LEN/2/np.sqrt(2),0), rpy=(0,0,np.pi/4), \n",
    "                           color=gparent.color, display=True, collision=True, fixed=False,\n",
    "                           parent=gparent.name)\n",
    "        gscene.create_safe(GEOTYPE.BOX, gparent.name+\"_cn_b\", link_name=gparent.link_name, \n",
    "                           dims=(DIM[0], HOOF_LEN, DIM[2]), center=(-HOOF_LEN/2-HOOF_LEN/np.sqrt(2),DIM[1]/2+HOOF_LEN/np.sqrt(2),0), \n",
    "                           rpy=(0,0,np.pi/2), \n",
    "                           color=gparent.color, display=True, collision=True, fixed=False,\n",
    "                           parent=gparent.name)\n",
    "        gscene.create_safe(GEOTYPE.BOX, gparent.name+\"_cn_c\", link_name=gparent.link_name, \n",
    "                           dims=(DIM[0], HOOF_LEN, DIM[2]), center=(-HOOF_LEN-HOOF_LEN/np.sqrt(2)-HOOF_LEN/np.sqrt(2)/2,DIM[1]/2+HOOF_LEN/2/np.sqrt(2),0), \n",
    "                           rpy=(0,0,np.pi*3/4), \n",
    "                           color=gparent.color, display=True, collision=True, fixed=False,\n",
    "                           parent=gparent.name)\n",
    "        gscene.create_safe(GEOTYPE.BOX, gparent.name+\"_cn_d\", link_name=gparent.link_name, \n",
    "                           dims=(DIM[0], DIM[1], DIM[2]), center=(-HOOF_LEN-HOOF_LEN/np.sqrt(2)-HOOF_LEN/np.sqrt(2),0,0), \n",
    "                           rpy=(0,0,0), \n",
    "                           color=gparent.color, display=True, collision=True, fixed=False,\n",
    "                           parent=gparent.name)\n",
    "\n",
    "\n",
    "def add_object(pscene, obj, HANDLE_THICKNESS=1e-6, HANDLE_COLOR = (1,0,0,0.3)):\n",
    "    gscene = pscene.gscene\n",
    "    GRIP_DEPTH = obj.GRIP_DEPTH\n",
    "    handles = []\n",
    "    handles.append(\n",
    "        gscene.create_safe(gtype=GEOTYPE.BOX, name=\"hdl_tp_a\", link_name=\"base_link\", \n",
    "                       dims=(obj.DIM[1], GRIP_DEPTH, HANDLE_THICKNESS), center=(0,0,obj.DIM[2]/2-GRIP_DEPTH/2), rpy=(np.pi/2,0,np.pi/2), \n",
    "                           color=HANDLE_COLOR, display=True, collision=False, fixed=False,\n",
    "                       parent=obj.name)\n",
    "    )\n",
    "\n",
    "    handles.append(\n",
    "        gscene.create_safe(gtype=GEOTYPE.BOX, name=\"hdl_tp_b\", link_name=\"base_link\", \n",
    "                       dims=(obj.DIM[1], GRIP_DEPTH, HANDLE_THICKNESS), center=(0,0,obj.DIM[2]/2-GRIP_DEPTH/2), rpy=(np.pi/2,0,-np.pi/2), \n",
    "                           color=HANDLE_COLOR, display=True, collision=False, fixed=False,\n",
    "                       parent=obj.name)\n",
    "    )\n",
    "\n",
    "    handles.append(\n",
    "        gscene.create_safe(gtype=GEOTYPE.BOX, name=\"hdl_bk_a\", link_name=\"base_link\", \n",
    "                       dims=(obj.DIM[2], GRIP_DEPTH,HANDLE_THICKNESS), center=(0,-obj.DIM[1]/2+GRIP_DEPTH/2,0), rpy=(-np.pi,-np.pi/2,0), \n",
    "                       color=HANDLE_COLOR, display=True, collision=False, fixed=False,\n",
    "                   parent=obj.name)\n",
    "    )\n",
    "\n",
    "    handles.append(\n",
    "        gscene.create_safe(gtype=GEOTYPE.BOX, name=\"hdl_bk_b\", link_name=\"base_link\", \n",
    "                       dims=(obj.DIM[2], GRIP_DEPTH,HANDLE_THICKNESS), center=(0,-obj.DIM[1]/2+GRIP_DEPTH/2,0), rpy=(-np.pi,+np.pi/2,0), \n",
    "                           color=HANDLE_COLOR, display=True, collision=False, fixed=False,\n",
    "                       parent=obj.name)\n",
    "    )\n",
    "\n",
    "    action_points_dict = {\"placement\": PlacePoint(\"placement\", obj.geometry, [0,0,-obj.DIM[2]/2], [0,0,0])}\n",
    "    action_points_dict.update({handle.name: Grasp2Point(handle.name, handle, None, (0,0,0)) for handle in handles})\n",
    "    obj_pscene = pscene.create_subject(oname=obj.name, gname=obj.name, _type=CustomObject, \n",
    "                                 action_points_dict=action_points_dict)\n",
    "    return obj_pscene, handles\n",
    "        \n",
    "Nmax_wall, Nmax_pole, Nmax_bar = 4, 8, 8\n",
    "\n",
    "Nmax_obj = 3\n",
    "\n",
    "N_max_sample = 100\n",
    "N_print = 5\n",
    "N_sample_single_obj = 3"
   ]
  },
  {
   "cell_type": "code",
   "execution_count": null,
   "metadata": {},
   "outputs": [],
   "source": []
  },
  {
   "cell_type": "markdown",
   "metadata": {},
   "source": [
    "### sampling"
   ]
  },
  {
   "cell_type": "code",
   "execution_count": 14,
   "metadata": {
    "scrolled": true
   },
   "outputs": [],
   "source": [
    "# gtimer = GlobalTimer.instance()\n",
    "# gtimer.reset()\n",
    "# i_print = 0\n",
    "\n",
    "# for _ in range(10):\n",
    "\n",
    "#     DATASET_PATH = os.path.join(ROBOT_DATA_ROOT, get_now())\n",
    "#     try_mkdir(DATASET_PATH)\n",
    "#     print(\"\")\n",
    "#     print(\"DATASET_PATH: {}\".format(DATASET_PATH))\n",
    "#     print(\"\")\n",
    "\n",
    "#     gtimer.tic(\"full_loop\")\n",
    "\n",
    "#     i_print = 0\n",
    "#     i_s = 0\n",
    "#     i_file = 0\n",
    "#     reach_list = []\n",
    "#     retrieve_list = []\n",
    "#     while i_s < N_max_sample:\n",
    "#         ## add floor, ceiling\n",
    "#         floor = Floor(gscene, \"floor\")\n",
    "#         # ceiling = Ceiling(gscene, \"ceiling\")\n",
    "\n",
    "#         ## set workplane\n",
    "#         wp = WorkPlane(gscene, \"wp\", floor_height=floor.RTH[2]+floor.DIM[2]/2)\n",
    "#         pscene.create_binder(bname=\"wp\", gname=\"wp\", _type=PlacePlane, point=None)\n",
    "\n",
    "#         ## add walls, poles, bars\n",
    "#         walls = redistribute_class(gscene, Wall, \"wl\", Nmax_wall, workplane_avoid=wp)\n",
    "#         poles = redistribute_class(gscene, Pole, \"po\", Nmax_pole, workplane_avoid=wp)\n",
    "#         bars = redistribute_class(gscene, Bar, \"bar\", Nmax_bar, workplane_avoid=wp)\n",
    "\n",
    "#         ## add object\n",
    "#         obj_list = disperse_objects(gscene, PlaneHoof, \"obj\", Nmax_obj, workplane_on=wp, GRIP_DEPTH=GRIP_DEPTH)\n",
    "        \n",
    "#         gtem_args = []\n",
    "#         samples = []\n",
    "#         for gtem in gscene:\n",
    "#             if gtem.link_name == \"base_link\":\n",
    "#                 gtem_args.append(deepcopy(gtem.get_args()))\n",
    "#         obj_args = {obj.name: {\"GRIP_DEPTH\": obj.GRIP_DEPTH, \"DIM\": obj.DIM, \"gname\": obj.geometry.name} \n",
    "#                     for obj in obj_list}\n",
    "\n",
    "#         for obj in obj_list:\n",
    "#             obj_pscene, handles = add_object(pscene, obj)\n",
    "#             checker.update_gscene(only_self_collision=True)\n",
    "#             mplan.update_gscene()\n",
    "#             initial_state = pscene.initialize_state(HOME_POSE)\n",
    "#             pscene.set_object_state(initial_state)\n",
    "#             from_state = initial_state.copy(pscene)\n",
    "#             to_node = (\"grip0\",)\n",
    "#             available_binding_dict = pscene.get_available_binding_dict(from_state, to_node, HOME_DICT)\n",
    "#             for _ in range(N_sample_single_obj):\n",
    "#                 to_state, redundancy_dict = pscene.sample_leaf_state(from_state, available_binding_dict, to_node)\n",
    "                \n",
    "#                 pscene.set_object_state(from_state)\n",
    "                \n",
    "#                 gtimer.tic(\"kin\")\n",
    "#                 Traj_kin, LastQ, error, success_kin, binding_list = \\\n",
    "#                             checker.plan_transition(from_state=from_state, to_state=to_state, redundancy_dict=redundancy_dict, \n",
    "#                                                     only_self_collision=True, timeout=TIMEOUT_SELF)\n",
    "#                 time_kin = gtimer.toc(\"kin\")\n",
    "\n",
    "#                 success_reach, success_retrieve = False, False\n",
    "#                 time_reach, time_retrieve = TIMEOUT_REACH, TIMEOUT_RETRIEVE\n",
    "#                 Traj_reach, Traj_retrieve = [], []\n",
    "#                 if success_kin:\n",
    "#                     gtimer.tic(\"reach\")\n",
    "#                     Traj_reach, LastQ, error, success_reach, binding_list = mplan.plan_transition(\n",
    "#                         from_state=from_state, to_state=to_state, redundancy_dict=redundancy_dict, timeout=TIMEOUT_REACH)\n",
    "#                     time_reach = gtimer.toc(\"reach\")\n",
    "#         #             print(\"reach: {}\".format(success_reach))\n",
    "#                     if success_reach:\n",
    "#                         if VISUALIZE:\n",
    "#                             gscene.show_motion(Traj_reach, period=SHOW_PERIOD)\n",
    "#                         for bd in binding_list:\n",
    "#                             pscene.rebind(bd, list2dict(LastQ, pscene.gscene.joint_names))\n",
    "#                         binding_state, state_param = pscene.get_object_state()\n",
    "#                         new_state = State(binding_state, state_param, list(LastQ), pscene)\n",
    "#                         end_state = new_state.copy(pscene)\n",
    "#                         end_state.Q = np.array(HOME_POSE)\n",
    "#                         gtimer.tic(\"retrieve\")\n",
    "#                         Traj_retrieve, LastQ, error, success_retrieve, binding_list = mplan.plan_transition(\n",
    "#                             from_state=new_state, to_state=end_state, timeout=TIMEOUT_RETRIEVE)\n",
    "#                         time_retrieve = gtimer.toc(\"retrieve\")\n",
    "#         #                 print(\"retrieve: {}\".format(success_retrieve))\n",
    "#                         if success_retrieve and VISUALIZE:\n",
    "#                             gscene.show_motion(Traj_retrieve, period=SHOW_PERIOD)\n",
    "#                 else:\n",
    "#                     pass # doen't save pre-filtered data\n",
    "                \n",
    "#                 reach_list.append(success_reach)\n",
    "#                 retrieve_list.append(success_retrieve)\n",
    "#                 samples.append((obj.name, from_state, to_state, redundancy_dict, \n",
    "#                                 success_kin, success_reach, success_retrieve, \n",
    "#                                 Traj_kin, Traj_reach, Traj_retrieve, \n",
    "#                                 time_kin, time_reach, time_retrieve))\n",
    "#                 i_s += 1 \n",
    "#             pscene.set_object_state(initial_state)\n",
    "\n",
    "#             pscene.remove_subject(obj_pscene.oname)\n",
    "#             for handle in handles:\n",
    "#                 gscene.remove(handle)    \n",
    "\n",
    "#             gscene.update_markers_all()\n",
    "#             time_elapsed = gtimer.toc(\"full_loop\")/1000\n",
    "#             i_print += 1\n",
    "#             if i_print%N_print == 0:\n",
    "#                 print(\"{} / {} in {} / {} s -- reach,retrieve = ({} %, {} %)                     \".format(\n",
    "#                     i_s, N_max_sample, round(time_elapsed, 2), round(time_elapsed/i_s*N_max_sample, 2), \n",
    "#                     round(np.mean(reach_list)*100, 1), round(np.mean(retrieve_list)*100, 1)), end=\"\\r\")\n",
    "#                 i_print = 0\n",
    "                \n",
    "#         i_file += 1\n",
    "#         save_pickle(os.path.join(DATASET_PATH, \"%05d.pkl\"%i_file), \n",
    "#                     {\"gtem_args\":gtem_args, \"obj_args\": obj_args, \"samples\": samples})\n",
    "\n",
    "\n",
    "#     print(\"\")\n",
    "#     print(\"\")\n",
    "#     print(\"============= Finished {} in {} s -- reach,retrieve = ({} %, {} %) =================\".format(\n",
    "#         i_s, round(time_elapsed, 2), round(np.mean(reach_list)*100, 1), round(np.mean(retrieve_list)*100, 1)))"
   ]
  },
  {
   "cell_type": "code",
   "execution_count": null,
   "metadata": {},
   "outputs": [],
   "source": []
  },
  {
   "cell_type": "markdown",
   "metadata": {},
   "source": [
    "# Load and verify"
   ]
  },
  {
   "cell_type": "code",
   "execution_count": 15,
   "metadata": {},
   "outputs": [],
   "source": [
    "valids = []"
   ]
  },
  {
   "cell_type": "code",
   "execution_count": 16,
   "metadata": {},
   "outputs": [
    {
     "name": "stdout",
     "output_type": "stream",
     "text": [
      "DATASET_LIST: ['20210611-142747', '20210611-143200', '20210611-143507', '20210611-143922', '20210611-144222', '20210611-144701', '20210611-145001', '20210611-145428', '20210611-145955', '20210611-150331', '20210613-150300']\n",
      "DATASET_PATH: /home/rnb/Projects/rnb-planning/data/test-hoof/panda/20210611-142747\n",
      "DATA_LIST: ['00001.pkl', '00002.pkl', '00003.pkl', '00004.pkl', '00005.pkl', '00006.pkl', '00007.pkl', '00008.pkl', '00009.pkl', '00010.pkl', '00011.pkl', '00012.pkl', '00013.pkl', '00014.pkl', '00015.pkl', '00016.pkl', '00017.pkl', '00018.pkl', '00019.pkl', '00020.pkl']\n",
      "DATA_PATH: /home/rnb/Projects/rnb-planning/data/test-hoof/panda/20210611-142747/00001.pkl\n",
      "0\n",
      "1\n",
      "2\n",
      "DATA_PATH: /home/rnb/Projects/rnb-planning/data/test-hoof/panda/20210611-142747/00002.pkl\n",
      "0\n",
      "1\n",
      "2\n",
      "3\n",
      "4\n",
      "5\n",
      "DATA_PATH: /home/rnb/Projects/rnb-planning/data/test-hoof/panda/20210611-142747/00003.pkl\n",
      "0\n",
      "1\n",
      "2\n",
      "3\n",
      "4\n",
      "5\n",
      "DATA_PATH: /home/rnb/Projects/rnb-planning/data/test-hoof/panda/20210611-142747/00004.pkl\n",
      "0\n",
      "1\n",
      "2\n",
      "DATA_PATH: /home/rnb/Projects/rnb-planning/data/test-hoof/panda/20210611-142747/00005.pkl\n",
      "0\n",
      "1\n",
      "2\n",
      "DATA_PATH: /home/rnb/Projects/rnb-planning/data/test-hoof/panda/20210611-142747/00006.pkl\n",
      "0\n",
      "1\n",
      "2\n",
      "3\n",
      "4\n",
      "5\n",
      "6\n",
      "7\n",
      "8\n",
      "DATA_PATH: /home/rnb/Projects/rnb-planning/data/test-hoof/panda/20210611-142747/00007.pkl\n",
      "0\n",
      "1\n",
      "2\n",
      "3\n",
      "4\n",
      "5\n",
      "DATA_PATH: /home/rnb/Projects/rnb-planning/data/test-hoof/panda/20210611-142747/00008.pkl\n",
      "0\n",
      "1\n",
      "2\n",
      "DATA_PATH: /home/rnb/Projects/rnb-planning/data/test-hoof/panda/20210611-142747/00009.pkl\n",
      "0\n",
      "1\n",
      "2\n",
      "3\n",
      "4\n",
      "5\n",
      "DATA_PATH: /home/rnb/Projects/rnb-planning/data/test-hoof/panda/20210611-142747/00010.pkl\n",
      "0\n",
      "1\n",
      "2\n",
      "3\n",
      "4\n",
      "5\n",
      "DATA_PATH: /home/rnb/Projects/rnb-planning/data/test-hoof/panda/20210611-142747/00011.pkl\n",
      "0\n",
      "1\n",
      "2\n",
      "DATA_PATH: /home/rnb/Projects/rnb-planning/data/test-hoof/panda/20210611-142747/00012.pkl\n",
      "0\n",
      "1\n",
      "2\n",
      "3\n",
      "4\n",
      "5\n",
      "DATA_PATH: /home/rnb/Projects/rnb-planning/data/test-hoof/panda/20210611-142747/00013.pkl\n",
      "0\n",
      "1\n",
      "2\n",
      "DATA_PATH: /home/rnb/Projects/rnb-planning/data/test-hoof/panda/20210611-142747/00014.pkl\n",
      "0\n",
      "1\n",
      "2\n",
      "DATA_PATH: /home/rnb/Projects/rnb-planning/data/test-hoof/panda/20210611-142747/00015.pkl\n",
      "0\n",
      "1\n",
      "2\n",
      "3\n",
      "4\n",
      "5\n",
      "DATA_PATH: /home/rnb/Projects/rnb-planning/data/test-hoof/panda/20210611-142747/00016.pkl\n",
      "0\n",
      "1\n",
      "2\n",
      "3\n",
      "4\n",
      "5\n",
      "6\n",
      "7\n",
      "8\n",
      "DATA_PATH: /home/rnb/Projects/rnb-planning/data/test-hoof/panda/20210611-142747/00017.pkl\n",
      "0\n",
      "1\n",
      "2\n",
      "3\n",
      "4\n",
      "5\n",
      "DATA_PATH: /home/rnb/Projects/rnb-planning/data/test-hoof/panda/20210611-142747/00018.pkl\n",
      "0\n",
      "1\n",
      "2\n",
      "DATA_PATH: /home/rnb/Projects/rnb-planning/data/test-hoof/panda/20210611-142747/00019.pkl\n",
      "0\n",
      "1\n",
      "2\n",
      "3\n",
      "4\n",
      "5\n",
      "6\n",
      "7\n",
      "8\n",
      "DATA_PATH: /home/rnb/Projects/rnb-planning/data/test-hoof/panda/20210611-142747/00020.pkl\n",
      "0\n",
      "1\n",
      "2\n",
      "DATASET_PATH: /home/rnb/Projects/rnb-planning/data/test-hoof/panda/20210611-143200\n",
      "DATA_LIST: ['00001.pkl', '00002.pkl', '00003.pkl', '00004.pkl', '00005.pkl', '00006.pkl', '00007.pkl', '00008.pkl', '00009.pkl', '00010.pkl', '00011.pkl', '00012.pkl', '00013.pkl', '00014.pkl', '00015.pkl', '00016.pkl', '00017.pkl', '00018.pkl', '00019.pkl', '00020.pkl', '00021.pkl', '00022.pkl']\n",
      "DATA_PATH: /home/rnb/Projects/rnb-planning/data/test-hoof/panda/20210611-143200/00001.pkl\n",
      "0\n",
      "1\n",
      "2\n",
      "DATA_PATH: /home/rnb/Projects/rnb-planning/data/test-hoof/panda/20210611-143200/00002.pkl\n",
      "0\n",
      "1\n",
      "2\n"
     ]
    },
    {
     "ename": "KeyboardInterrupt",
     "evalue": "",
     "output_type": "error",
     "traceback": [
      "\u001b[0;31m---------------------------------------------------------------------------\u001b[0m",
      "\u001b[0;31mKeyboardInterrupt\u001b[0m                         Traceback (most recent call last)",
      "\u001b[0;32m<ipython-input-16-45052c3829cf>\u001b[0m in \u001b[0;36m<module>\u001b[0;34m()\u001b[0m\n\u001b[1;32m     86\u001b[0m                 \u001b[0;32mif\u001b[0m \u001b[0msuccess_reach\u001b[0m\u001b[0;34m:\u001b[0m\u001b[0;34m\u001b[0m\u001b[0m\n\u001b[1;32m     87\u001b[0m                     \u001b[0;32mif\u001b[0m \u001b[0mVISUALIZE\u001b[0m\u001b[0;34m:\u001b[0m\u001b[0;34m\u001b[0m\u001b[0m\n\u001b[0;32m---> 88\u001b[0;31m                         \u001b[0mgscene\u001b[0m\u001b[0;34m.\u001b[0m\u001b[0mshow_motion\u001b[0m\u001b[0;34m(\u001b[0m\u001b[0mTraj_reach\u001b[0m\u001b[0;34m,\u001b[0m \u001b[0mperiod\u001b[0m\u001b[0;34m=\u001b[0m\u001b[0mSHOW_PERIOD\u001b[0m\u001b[0;34m)\u001b[0m\u001b[0;34m\u001b[0m\u001b[0m\n\u001b[0m\u001b[1;32m     89\u001b[0m                     \u001b[0;32mfor\u001b[0m \u001b[0mbd\u001b[0m \u001b[0;32min\u001b[0m \u001b[0mbinding_list\u001b[0m\u001b[0;34m:\u001b[0m\u001b[0;34m\u001b[0m\u001b[0m\n\u001b[1;32m     90\u001b[0m                         \u001b[0mpscene\u001b[0m\u001b[0;34m.\u001b[0m\u001b[0mrebind\u001b[0m\u001b[0;34m(\u001b[0m\u001b[0mbd\u001b[0m\u001b[0;34m,\u001b[0m \u001b[0mlist2dict\u001b[0m\u001b[0;34m(\u001b[0m\u001b[0mLastQ\u001b[0m\u001b[0;34m,\u001b[0m \u001b[0mpscene\u001b[0m\u001b[0;34m.\u001b[0m\u001b[0mgscene\u001b[0m\u001b[0;34m.\u001b[0m\u001b[0mjoint_names\u001b[0m\u001b[0;34m)\u001b[0m\u001b[0;34m)\u001b[0m\u001b[0;34m\u001b[0m\u001b[0m\n",
      "\u001b[0;32m/home/rnb/Projects/rnb-planning/src/pkg/geometry/geometry.pyc\u001b[0m in \u001b[0;36mshow_motion\u001b[0;34m(self, pose_list, **kwargs)\u001b[0m\n\u001b[1;32m    262\u001b[0m             \u001b[0;32mfor\u001b[0m \u001b[0mmks\u001b[0m \u001b[0;32min\u001b[0m \u001b[0mself\u001b[0m\u001b[0;34m.\u001b[0m\u001b[0mmarker_dict\u001b[0m\u001b[0;34m.\u001b[0m\u001b[0mvalues\u001b[0m\u001b[0;34m(\u001b[0m\u001b[0;34m)\u001b[0m\u001b[0;34m:\u001b[0m\u001b[0;34m\u001b[0m\u001b[0m\n\u001b[1;32m    263\u001b[0m                 \u001b[0mmarker_list\u001b[0m \u001b[0;34m+=\u001b[0m \u001b[0mmks\u001b[0m\u001b[0;34m\u001b[0m\u001b[0m\n\u001b[0;32m--> 264\u001b[0;31m             \u001b[0mshow_motion\u001b[0m\u001b[0;34m(\u001b[0m\u001b[0mpose_list\u001b[0m\u001b[0;34m,\u001b[0m \u001b[0mmarker_list\u001b[0m\u001b[0;34m,\u001b[0m \u001b[0mself\u001b[0m\u001b[0;34m.\u001b[0m\u001b[0mpub\u001b[0m\u001b[0;34m,\u001b[0m \u001b[0mself\u001b[0m\u001b[0;34m.\u001b[0m\u001b[0mjoints\u001b[0m\u001b[0;34m,\u001b[0m \u001b[0mself\u001b[0m\u001b[0;34m.\u001b[0m\u001b[0mjoint_names\u001b[0m\u001b[0;34m,\u001b[0m \u001b[0;34m**\u001b[0m\u001b[0mkwargs\u001b[0m\u001b[0;34m)\u001b[0m\u001b[0;34m\u001b[0m\u001b[0m\n\u001b[0m\u001b[1;32m    265\u001b[0m \u001b[0;34m\u001b[0m\u001b[0m\n\u001b[1;32m    266\u001b[0m     \u001b[0;31m##\u001b[0m\u001b[0;34m\u001b[0m\u001b[0;34m\u001b[0m\u001b[0m\n",
      "\u001b[0;32m/home/rnb/Projects/rnb-planning/src/pkg/geometry/ros_rviz.pyc\u001b[0m in \u001b[0;36mshow_motion\u001b[0;34m(pose_list, marker_list, pub, joints, joint_names, error_skip, period)\u001b[0m\n\u001b[1;32m     46\u001b[0m         \u001b[0mpub\u001b[0m\u001b[0;34m.\u001b[0m\u001b[0mpublish\u001b[0m\u001b[0;34m(\u001b[0m\u001b[0mjoints\u001b[0m\u001b[0;34m)\u001b[0m\u001b[0;34m;\u001b[0m\u001b[0;34m\u001b[0m\u001b[0m\n\u001b[1;32m     47\u001b[0m         \u001b[0;32mfor\u001b[0m \u001b[0mmarker\u001b[0m \u001b[0;32min\u001b[0m \u001b[0mmarker_list\u001b[0m\u001b[0;34m:\u001b[0m\u001b[0;34m\u001b[0m\u001b[0m\n\u001b[0;32m---> 48\u001b[0;31m             \u001b[0mmarker\u001b[0m\u001b[0;34m.\u001b[0m\u001b[0mmove_marker\u001b[0m\u001b[0;34m(\u001b[0m\u001b[0;34m{\u001b[0m\u001b[0mjoints\u001b[0m\u001b[0;34m.\u001b[0m\u001b[0mname\u001b[0m\u001b[0;34m[\u001b[0m\u001b[0mi\u001b[0m\u001b[0;34m]\u001b[0m\u001b[0;34m:\u001b[0m \u001b[0mjoints\u001b[0m\u001b[0;34m.\u001b[0m\u001b[0mposition\u001b[0m\u001b[0;34m[\u001b[0m\u001b[0mi\u001b[0m\u001b[0;34m]\u001b[0m \u001b[0;32mfor\u001b[0m \u001b[0mi\u001b[0m \u001b[0;32min\u001b[0m \u001b[0mrange\u001b[0m\u001b[0;34m(\u001b[0m\u001b[0mlen\u001b[0m\u001b[0;34m(\u001b[0m\u001b[0mjoint_names\u001b[0m\u001b[0;34m)\u001b[0m\u001b[0;34m)\u001b[0m\u001b[0;34m}\u001b[0m\u001b[0;34m)\u001b[0m\u001b[0;34m\u001b[0m\u001b[0m\n\u001b[0m\u001b[1;32m     49\u001b[0m         \u001b[0mtimer\u001b[0m\u001b[0;34m.\u001b[0m\u001b[0msleep\u001b[0m\u001b[0;34m(\u001b[0m\u001b[0mperiod\u001b[0m\u001b[0;34m)\u001b[0m\u001b[0;34m\u001b[0m\u001b[0m\n\u001b[1;32m     50\u001b[0m \u001b[0;34m\u001b[0m\u001b[0m\n",
      "\u001b[0;32m/home/rnb/Projects/rnb-planning/src/pkg/geometry/ros_rviz.pyc\u001b[0m in \u001b[0;36mmove_marker\u001b[0;34m(self, joint_dict)\u001b[0m\n\u001b[1;32m    168\u001b[0m         \u001b[0mself\u001b[0m\u001b[0;34m.\u001b[0m\u001b[0mmarker\u001b[0m\u001b[0;34m.\u001b[0m\u001b[0mheader\u001b[0m\u001b[0;34m.\u001b[0m\u001b[0mstamp\u001b[0m \u001b[0;34m=\u001b[0m \u001b[0mrospy\u001b[0m\u001b[0;34m.\u001b[0m\u001b[0mTime\u001b[0m\u001b[0;34m.\u001b[0m\u001b[0mnow\u001b[0m\u001b[0;34m(\u001b[0m\u001b[0;34m)\u001b[0m\u001b[0;34m\u001b[0m\u001b[0m\n\u001b[1;32m    169\u001b[0m         \u001b[0mself\u001b[0m\u001b[0;34m.\u001b[0m\u001b[0m__set_position\u001b[0m\u001b[0;34m(\u001b[0m\u001b[0mjoint_dict\u001b[0m\u001b[0;34m)\u001b[0m\u001b[0;34m\u001b[0m\u001b[0m\n\u001b[0;32m--> 170\u001b[0;31m         \u001b[0mself\u001b[0m\u001b[0;34m.\u001b[0m\u001b[0mpublish_marker\u001b[0m\u001b[0;34m(\u001b[0m\u001b[0;34m)\u001b[0m\u001b[0;34m\u001b[0m\u001b[0m\n\u001b[0m\u001b[1;32m    171\u001b[0m \u001b[0;34m\u001b[0m\u001b[0m\n\u001b[1;32m    172\u001b[0m     \u001b[0;32mdef\u001b[0m \u001b[0mpublish_marker\u001b[0m\u001b[0;34m(\u001b[0m\u001b[0mself\u001b[0m\u001b[0;34m)\u001b[0m\u001b[0;34m:\u001b[0m\u001b[0;34m\u001b[0m\u001b[0m\n",
      "\u001b[0;32m/home/rnb/Projects/rnb-planning/src/pkg/geometry/ros_rviz.pyc\u001b[0m in \u001b[0;36mpublish_marker\u001b[0;34m(self)\u001b[0m\n\u001b[1;32m    171\u001b[0m \u001b[0;34m\u001b[0m\u001b[0m\n\u001b[1;32m    172\u001b[0m     \u001b[0;32mdef\u001b[0m \u001b[0mpublish_marker\u001b[0m\u001b[0;34m(\u001b[0m\u001b[0mself\u001b[0m\u001b[0;34m)\u001b[0m\u001b[0;34m:\u001b[0m\u001b[0;34m\u001b[0m\u001b[0m\n\u001b[0;32m--> 173\u001b[0;31m         \u001b[0mself\u001b[0m\u001b[0;34m.\u001b[0m\u001b[0mpub\u001b[0m\u001b[0;34m.\u001b[0m\u001b[0mpublish\u001b[0m\u001b[0;34m(\u001b[0m\u001b[0mself\u001b[0m\u001b[0;34m.\u001b[0m\u001b[0mmarker\u001b[0m\u001b[0;34m)\u001b[0m\u001b[0;34m\u001b[0m\u001b[0m\n\u001b[0m\u001b[1;32m    174\u001b[0m         \u001b[0;32mfor\u001b[0m \u001b[0msmk\u001b[0m \u001b[0;32min\u001b[0m \u001b[0mself\u001b[0m\u001b[0;34m.\u001b[0m\u001b[0msubmarkers\u001b[0m\u001b[0;34m:\u001b[0m\u001b[0;34m\u001b[0m\u001b[0m\n\u001b[1;32m    175\u001b[0m             \u001b[0mself\u001b[0m\u001b[0;34m.\u001b[0m\u001b[0mpub\u001b[0m\u001b[0;34m.\u001b[0m\u001b[0mpublish\u001b[0m\u001b[0;34m(\u001b[0m\u001b[0msmk\u001b[0m\u001b[0;34m)\u001b[0m\u001b[0;34m\u001b[0m\u001b[0m\n",
      "\u001b[0;32m/opt/ros/melodic/lib/python2.7/dist-packages/rospy/topics.pyc\u001b[0m in \u001b[0;36mpublish\u001b[0;34m(self, *args, **kwds)\u001b[0m\n\u001b[1;32m    886\u001b[0m             \u001b[0;32mraise\u001b[0m \u001b[0mROSSerializationException\u001b[0m\u001b[0;34m(\u001b[0m\u001b[0mstr\u001b[0m\u001b[0;34m(\u001b[0m\u001b[0me\u001b[0m\u001b[0;34m)\u001b[0m\u001b[0;34m)\u001b[0m\u001b[0;34m\u001b[0m\u001b[0m\n\u001b[1;32m    887\u001b[0m         \u001b[0;32mfinally\u001b[0m\u001b[0;34m:\u001b[0m\u001b[0;34m\u001b[0m\u001b[0m\n\u001b[0;32m--> 888\u001b[0;31m             \u001b[0mself\u001b[0m\u001b[0;34m.\u001b[0m\u001b[0mimpl\u001b[0m\u001b[0;34m.\u001b[0m\u001b[0mrelease\u001b[0m\u001b[0;34m(\u001b[0m\u001b[0;34m)\u001b[0m\u001b[0;34m\u001b[0m\u001b[0m\n\u001b[0m\u001b[1;32m    889\u001b[0m \u001b[0;34m\u001b[0m\u001b[0m\n\u001b[1;32m    890\u001b[0m \u001b[0;32mclass\u001b[0m \u001b[0m_PublisherImpl\u001b[0m\u001b[0;34m(\u001b[0m\u001b[0m_TopicImpl\u001b[0m\u001b[0;34m)\u001b[0m\u001b[0;34m:\u001b[0m\u001b[0;34m\u001b[0m\u001b[0m\n",
      "\u001b[0;32m/opt/ros/melodic/lib/python2.7/dist-packages/rospy/topics.pyc\u001b[0m in \u001b[0;36mrelease\u001b[0;34m(self)\u001b[0m\n\u001b[1;32m    982\u001b[0m         \u001b[0;34m\"\"\"lock for thread-safe publishing to this transport\"\"\"\u001b[0m\u001b[0;34m\u001b[0m\u001b[0m\n\u001b[1;32m    983\u001b[0m         \u001b[0;32mif\u001b[0m \u001b[0mself\u001b[0m\u001b[0;34m.\u001b[0m\u001b[0mpublock\u001b[0m \u001b[0;32mis\u001b[0m \u001b[0;32mnot\u001b[0m \u001b[0mNone\u001b[0m\u001b[0;34m:\u001b[0m\u001b[0;34m\u001b[0m\u001b[0m\n\u001b[0;32m--> 984\u001b[0;31m             \u001b[0mself\u001b[0m\u001b[0;34m.\u001b[0m\u001b[0mpublock\u001b[0m\u001b[0;34m.\u001b[0m\u001b[0mrelease\u001b[0m\u001b[0;34m(\u001b[0m\u001b[0;34m)\u001b[0m\u001b[0;34m\u001b[0m\u001b[0m\n\u001b[0m\u001b[1;32m    985\u001b[0m \u001b[0;34m\u001b[0m\u001b[0m\n\u001b[1;32m    986\u001b[0m     \u001b[0;32mdef\u001b[0m \u001b[0madd_connection\u001b[0m\u001b[0;34m(\u001b[0m\u001b[0mself\u001b[0m\u001b[0;34m,\u001b[0m \u001b[0mc\u001b[0m\u001b[0;34m)\u001b[0m\u001b[0;34m:\u001b[0m\u001b[0;34m\u001b[0m\u001b[0m\n",
      "\u001b[0;32m/usr/lib/python2.7/threading.pyc\u001b[0m in \u001b[0;36mrelease\u001b[0;34m(self)\u001b[0m\n\u001b[1;32m    208\u001b[0m             \u001b[0mself\u001b[0m\u001b[0;34m.\u001b[0m\u001b[0m__block\u001b[0m\u001b[0;34m.\u001b[0m\u001b[0mrelease\u001b[0m\u001b[0;34m(\u001b[0m\u001b[0;34m)\u001b[0m\u001b[0;34m\u001b[0m\u001b[0m\n\u001b[1;32m    209\u001b[0m             \u001b[0;32mif\u001b[0m \u001b[0m__debug__\u001b[0m\u001b[0;34m:\u001b[0m\u001b[0;34m\u001b[0m\u001b[0m\n\u001b[0;32m--> 210\u001b[0;31m                 \u001b[0mself\u001b[0m\u001b[0;34m.\u001b[0m\u001b[0m_note\u001b[0m\u001b[0;34m(\u001b[0m\u001b[0;34m\"%s.release(): final release\"\u001b[0m\u001b[0;34m,\u001b[0m \u001b[0mself\u001b[0m\u001b[0;34m)\u001b[0m\u001b[0;34m\u001b[0m\u001b[0m\n\u001b[0m\u001b[1;32m    211\u001b[0m         \u001b[0;32melse\u001b[0m\u001b[0;34m:\u001b[0m\u001b[0;34m\u001b[0m\u001b[0m\n\u001b[1;32m    212\u001b[0m             \u001b[0;32mif\u001b[0m \u001b[0m__debug__\u001b[0m\u001b[0;34m:\u001b[0m\u001b[0;34m\u001b[0m\u001b[0m\n",
      "\u001b[0;32m/usr/lib/python2.7/threading.pyc\u001b[0m in \u001b[0;36m_note\u001b[0;34m(self, format, *args)\u001b[0m\n\u001b[1;32m     63\u001b[0m \u001b[0;34m\u001b[0m\u001b[0m\n\u001b[1;32m     64\u001b[0m         \u001b[0;32mdef\u001b[0m \u001b[0m_note\u001b[0m\u001b[0;34m(\u001b[0m\u001b[0mself\u001b[0m\u001b[0;34m,\u001b[0m \u001b[0mformat\u001b[0m\u001b[0;34m,\u001b[0m \u001b[0;34m*\u001b[0m\u001b[0margs\u001b[0m\u001b[0;34m)\u001b[0m\u001b[0;34m:\u001b[0m\u001b[0;34m\u001b[0m\u001b[0m\n\u001b[0;32m---> 65\u001b[0;31m             \u001b[0;32mif\u001b[0m \u001b[0mself\u001b[0m\u001b[0;34m.\u001b[0m\u001b[0m__verbose\u001b[0m\u001b[0;34m:\u001b[0m\u001b[0;34m\u001b[0m\u001b[0m\n\u001b[0m\u001b[1;32m     66\u001b[0m                 \u001b[0mformat\u001b[0m \u001b[0;34m=\u001b[0m \u001b[0mformat\u001b[0m \u001b[0;34m%\u001b[0m \u001b[0margs\u001b[0m\u001b[0;34m\u001b[0m\u001b[0m\n\u001b[1;32m     67\u001b[0m                 \u001b[0;31m# Issue #4188: calling current_thread() can incur an infinite\u001b[0m\u001b[0;34m\u001b[0m\u001b[0;34m\u001b[0m\u001b[0m\n",
      "\u001b[0;31mKeyboardInterrupt\u001b[0m: "
     ]
    }
   ],
   "source": [
    "from pkg.planning.constraint.constraint_common import *\n",
    "\n",
    "gtimer = GlobalTimer.instance()\n",
    "gtimer.reset()\n",
    "DATASET_LIST = sorted(os.listdir(ROBOT_DATA_ROOT))\n",
    "ERROR_LIST = []\n",
    "N_tot = 0\n",
    "N_suc = 0\n",
    "print(\"DATASET_LIST: {}\".format(DATASET_LIST))\n",
    "for DATASET_DIR in DATASET_LIST:\n",
    "    DATASET_PATH = os.path.join(ROBOT_DATA_ROOT, DATASET_DIR)\n",
    "    print(\"DATASET_PATH: {}\".format(DATASET_PATH))\n",
    "    DATA_LIST = sorted(os.listdir(DATASET_PATH))\n",
    "    print(\"DATA_LIST: {}\".format(DATA_LIST))\n",
    "    for DATA_FILE in DATA_LIST:\n",
    "        DATA_PATH = os.path.join(DATASET_PATH, DATA_FILE)\n",
    "        print(\"DATA_PATH: {}\".format(DATA_PATH))\n",
    "        data = load_pickle(DATA_PATH)\n",
    "        gtem_args = data[\"gtem_args\"]\n",
    "        obj_args = data[\"obj_args\"]\n",
    "        samples = data[\"samples\"]\n",
    "        gtem_remove = []\n",
    "        for gtem in gscene:\n",
    "            if gtem.link_name == \"base_link\" and gtem.parent is None:\n",
    "                gtem_remove.append(gtem)\n",
    "        for gtem in gtem_remove:\n",
    "            gscene.remove(gtem)\n",
    "                \n",
    "        gid_list = np.arange(len(gtem_args)).tolist()\n",
    "        for gidx in gid_list:\n",
    "            args = gtem_args[gidx]\n",
    "            if args['parent'] is not None:\n",
    "                if args['parent'] not in gscene.NAME_DICT:\n",
    "                    gid_list.append(gidx)\n",
    "                    continue\n",
    "            if 'obj' in args['name']:\n",
    "                args['fixed'] = False\n",
    "            gscene.create_safe(**args)\n",
    "            \n",
    "        pscene.create_binder(bname=\"wp\", gname=\"wp\", _type=PlacePlane, point=None)\n",
    "            \n",
    "        for i_s, sample in enumerate(samples):\n",
    "            print(i_s)\n",
    "            obj_name, from_state, to_state, redundancy_dict, \\\n",
    "                success_kin_, success_reach_, success_retrieve_, \\\n",
    "                Traj_kin_, Traj_reach_, Traj_retrieve_, \\\n",
    "                time_kin_, time_reach_, time_retrieve_ = sample\n",
    "            obj, obj_arg = DummyObject(), obj_args[obj_name]\n",
    "            obj.name = obj_name\n",
    "            obj.GRIP_DEPTH = obj_arg[\"GRIP_DEPTH\"]\n",
    "            obj.DIM = obj_arg[\"DIM\"]\n",
    "            obj.geometry = gscene.NAME_DICT[obj_arg[\"gname\"]]\n",
    "            obj_pscene, handles = add_object(pscene, obj)\n",
    "            checker.update_gscene(only_self_collision=True)\n",
    "            mplan.update_gscene()\n",
    "                            \n",
    "            from_state, to_state = deepcopy(from_state), deepcopy(to_state)\n",
    "            oname, hname, aname, _ = from_state.binding_state[0]\n",
    "            obj_, actor_ = pscene.subject_dict[oname], pscene.actor_dict[aname]\n",
    "            handle_ = obj_.action_points_dict[hname]\n",
    "            btf = BindingTransform(obj_, handle_, actor_, T_lao=from_state.state_param[oname][1])\n",
    "            from_state.set_binding_state(pscene, BindingState(**{oname:btf}), {oname:None})\n",
    "            pscene.set_object_state(from_state)\n",
    "            \n",
    "            oname, hname, aname, _ = to_state.binding_state[0]\n",
    "            obj_, actor_ = pscene.subject_dict[oname], pscene.actor_dict[aname]\n",
    "            handle_ = obj_.action_points_dict[hname]\n",
    "            btf = BindingTransform(obj_, handle_, actor_, redundancy=redundancy_dict[oname])\n",
    "            to_state.set_binding_state(pscene, BindingState(**{oname:btf}), {oname:None})\n",
    "\n",
    "            if not success_retrieve_:\n",
    "                pscene.remove_subject(obj_pscene.oname)\n",
    "                for handle in handles:\n",
    "                    gscene.remove(handle)  \n",
    "                gscene.update_markers_all()  \n",
    "                continue\n",
    "                \n",
    "            with gtimer.block(\"kin\"):\n",
    "                Traj_kin, LastQ, error, success_kin, binding_list = \\\n",
    "                    checker.plan_transition(from_state=from_state, to_state=to_state, \n",
    "                                                only_self_collision=True, timeout=TIMEOUT_SELF)\n",
    "            success_reach, success_retrieve = False, False\n",
    "            time_reach, time_retrieve = TIMEOUT_REACH, TIMEOUT_RETRIEVE\n",
    "            Traj_reach, Traj_retrieve = [], []\n",
    "            if success_kin:\n",
    "                with gtimer.block(\"reach\"):\n",
    "                    Traj_reach, LastQ, error, success_reach, binding_list = mplan.plan_transition(\n",
    "                        from_state=from_state, to_state=to_state, redundancy_dict=redundancy_dict, timeout=TIMEOUT_REACH)\n",
    "                    \n",
    "                if success_reach:\n",
    "                    if VISUALIZE:\n",
    "                        gscene.show_motion(Traj_reach, period=SHOW_PERIOD)\n",
    "                    for bd in binding_list:\n",
    "                        pscene.rebind(bd, list2dict(LastQ, pscene.gscene.joint_names))\n",
    "                    binding_state, state_param = pscene.get_object_state()\n",
    "                    new_state = State(binding_state, state_param, list(LastQ), pscene)\n",
    "                    end_state = new_state.copy(pscene)\n",
    "                    end_state.Q = np.array(HOME_POSE)\n",
    "                    \n",
    "                    with gtimer.block(\"retrieve\"):\n",
    "                        Traj_retrieve, LastQ, error, success_retrieve, binding_list = mplan.plan_transition(\n",
    "                            from_state=new_state, to_state=end_state, timeout=TIMEOUT_RETRIEVE)\n",
    "    #                 print(\"retrieve: {}\".format(success_retrieve))\n",
    "                    if success_retrieve and VISUALIZE:\n",
    "                        gscene.show_motion(Traj_retrieve, period=SHOW_PERIOD)\n",
    "                        valids.append((DATASET_DIR, DATA_FILE, i_s))\n",
    "            else:\n",
    "                pass # doen't save pre-filtered data\n",
    "                \n",
    "            pscene.set_object_state(from_state)\n",
    "            pscene.remove_subject(obj_pscene.oname)\n",
    "            for handle in handles:\n",
    "                gscene.remove(handle)  \n",
    "            gscene.update_markers_all()  \n",
    "            N_tot += 1\n",
    "            N_suc += success_retrieve_\n",
    "            \n",
    "            if success_kin_ != success_kin:\n",
    "                ERROR_LIST.append((DATA_PATH, i_s, \"kinematic result changed {} -> {}\".format(success_kin_,success_kin)))\n",
    "                continue\n",
    "            if success_reach_ != success_reach:\n",
    "                ERROR_LIST.append((DATA_PATH, i_s, \"reach result changed {} -> {}\".format(success_reach_,success_reach)))\n",
    "                continue\n",
    "            if success_retrieve_ != success_retrieve:\n",
    "                ERROR_LIST.append((DATA_PATH, i_s, \"retreive result changed {} -> {}\".format(success_retrieve_,success_retrieve)))\n",
    "                continue\n",
    "\n",
    "                print(\"ERRORS: {} / SUCCESS: {} / TOTAL: {}\".format(len(ERROR_LIST), N_suc, N_tot))"
   ]
  },
  {
   "cell_type": "code",
   "execution_count": null,
   "metadata": {},
   "outputs": [],
   "source": []
  },
  {
   "cell_type": "code",
   "execution_count": null,
   "metadata": {},
   "outputs": [],
   "source": []
  },
  {
   "cell_type": "code",
   "execution_count": 16,
   "metadata": {},
   "outputs": [
    {
     "name": "stdout",
     "output_type": "stream",
     "text": [
      "6\n",
      "('/home/rnb/Projects/rnb-planning/data/test-hoof/panda/20210611-142747/00016.pkl', 2, 'retreive result changed True -> False')\n",
      "('/home/rnb/Projects/rnb-planning/data/test-hoof/panda/20210611-143507/00003.pkl', 1, 'retreive result changed False -> True')\n",
      "('/home/rnb/Projects/rnb-planning/data/test-hoof/panda/20210611-143507/00003.pkl', 2, 'retreive result changed False -> True')\n",
      "('/home/rnb/Projects/rnb-planning/data/test-hoof/panda/20210611-143507/00012.pkl', 2, 'reach result changed False -> True')\n",
      "('/home/rnb/Projects/rnb-planning/data/test-hoof/panda/20210611-145001/00008.pkl', 0, 'reach result changed True -> False')\n",
      "('/home/rnb/Projects/rnb-planning/data/test-hoof/panda/20210611-145001/00008.pkl', 2, 'reach result changed True -> False')\n"
     ]
    }
   ],
   "source": [
    "print(len(ERROR_LIST))\n",
    "for ERROR in ERROR_LIST:\n",
    "    print(ERROR)"
   ]
  },
  {
   "cell_type": "markdown",
   "metadata": {},
   "source": [
    "* 100 개에 1분 수준, 1000개는 10분, 5000개 1시간\n",
    "* 두 로봇 x 1000 개 : 20 분\n",
    "* 이산모드/평면 데이터 : 20 분\n",
    "* 이형 데이터 x 2 : 40 분"
   ]
  },
  {
   "cell_type": "code",
   "execution_count": null,
   "metadata": {},
   "outputs": [],
   "source": []
  },
  {
   "cell_type": "code",
   "execution_count": null,
   "metadata": {},
   "outputs": [],
   "source": []
  },
  {
   "cell_type": "code",
   "execution_count": null,
   "metadata": {},
   "outputs": [],
   "source": []
  },
  {
   "cell_type": "code",
   "execution_count": 16,
   "metadata": {},
   "outputs": [
    {
     "data": {
      "text/plain": [
       "['20210611-050055']"
      ]
     },
     "execution_count": 16,
     "metadata": {},
     "output_type": "execute_result"
    }
   ],
   "source": []
  },
  {
   "cell_type": "markdown",
   "metadata": {},
   "source": [
    "## ====================== deprecated ============================"
   ]
  },
  {
   "cell_type": "markdown",
   "metadata": {},
   "source": [
    "## prepare cells"
   ]
  },
  {
   "cell_type": "code",
   "execution_count": null,
   "metadata": {},
   "outputs": [],
   "source": [
    "gtimer = GlobalTimer.instance()\n",
    "gtimer.reset()\n",
    "with gtimer.block(\"prepare_reference_cells_ltc_full\"):\n",
    "    ltc_full.prepare_reference_cells(gscene)\n",
    "with gtimer.block(\"prepare_reference_cells_ltc_effector\"):\n",
    "    ltc_effector.prepare_reference_cells(gscene)\n",
    "with gtimer.block(\"prepare_reference_cells_ltc_arm_05\"):\n",
    "    ltc_arm_05.prepare_reference_cells(gscene)\n",
    "with gtimer.block(\"prepare_reference_cells_ltc_arm_10\"):\n",
    "    ltc_arm_10.prepare_reference_cells(gscene)\n",
    "print(gtimer)"
   ]
  },
  {
   "cell_type": "code",
   "execution_count": null,
   "metadata": {},
   "outputs": [],
   "source": [
    "gscene.show_motion(Traj_reach)"
   ]
  },
  {
   "cell_type": "code",
   "execution_count": null,
   "metadata": {},
   "outputs": [],
   "source": []
  },
  {
   "cell_type": "markdown",
   "metadata": {},
   "source": [
    "## visualize"
   ]
  },
  {
   "cell_type": "code",
   "execution_count": null,
   "metadata": {},
   "outputs": [],
   "source": [
    "vistem_list = []\n",
    "for col_idx in grasp_dict['tar']:\n",
    "    vistem_list.append(gscene.copy_from(ltc_effector.cell_refs[col_idx], color=(0,0,1,0.3)))\n",
    "\n",
    "for col_idx in grasp_dict['tool']:\n",
    "    vistem_list.append(gscene.copy_from(ltc_effector.cell_refs[col_idx], color=(0,1,0,0.3)))"
   ]
  },
  {
   "cell_type": "code",
   "execution_count": null,
   "metadata": {},
   "outputs": [],
   "source": [
    "for vistem in vistem_list:\n",
    "    if vistem in gscene:\n",
    "        gscene.remove(vistem)"
   ]
  },
  {
   "cell_type": "code",
   "execution_count": null,
   "metadata": {},
   "outputs": [],
   "source": []
  },
  {
   "cell_type": "code",
   "execution_count": null,
   "metadata": {},
   "outputs": [],
   "source": [
    "vistem_list = []\n",
    "for col_idx in arm_10_dict['tar']:\n",
    "    vistem_list.append(gscene.copy_from(ltc_arm_10.cell_refs[col_idx], color=(0,0,1,0.3)))\n",
    "\n",
    "for col_idx in arm_10_dict['tool']:\n",
    "    vistem_list.append(gscene.copy_from(ltc_arm_10.cell_refs[col_idx], color=(0,1,0,0.3)))"
   ]
  },
  {
   "cell_type": "code",
   "execution_count": null,
   "metadata": {},
   "outputs": [],
   "source": [
    "for vistem in vistem_list:\n",
    "    if vistem in gscene:\n",
    "        gscene.remove(vistem)"
   ]
  },
  {
   "cell_type": "code",
   "execution_count": null,
   "metadata": {},
   "outputs": [],
   "source": []
  },
  {
   "cell_type": "code",
   "execution_count": null,
   "metadata": {},
   "outputs": [],
   "source": [
    "vistem_list = []\n",
    "for col_idx in full_scene_dict['tar']:\n",
    "    vistem_list.append(gscene.copy_from(ltc_full.cell_refs[col_idx], color=(0,0,1,0.3)))\n",
    "\n",
    "for col_idx in full_scene_dict['tool']:\n",
    "    vistem_list.append(gscene.copy_from(ltc_full.cell_refs[col_idx], color=(0,1,0,0.3)))"
   ]
  },
  {
   "cell_type": "code",
   "execution_count": null,
   "metadata": {},
   "outputs": [],
   "source": [
    "for vistem in vistem_list:\n",
    "    if vistem in gscene:\n",
    "        gscene.remove(vistem)"
   ]
  },
  {
   "cell_type": "code",
   "execution_count": null,
   "metadata": {},
   "outputs": [],
   "source": []
  },
  {
   "cell_type": "markdown",
   "metadata": {},
   "source": [
    "## grasp conversion"
   ]
  },
  {
   "cell_type": "code",
   "execution_count": null,
   "metadata": {},
   "outputs": [],
   "source": [
    "gtimer.reset()\n",
    "with gtimer.block(\"convert_vertices\"):\n",
    "    ltc_effector.convert_vertices(actor_vertinfo_list, HOME_DICT, Tref=Tref)\n",
    "    ltc_effector.convert_vertices(object_vertinfo_list, HOME_DICT, Tref=Tref)\n",
    "print(gtimer)"
   ]
  },
  {
   "cell_type": "code",
   "execution_count": null,
   "metadata": {},
   "outputs": [],
   "source": [
    "vistem_list = []\n",
    "for coll_idxes in ltc_effector.coll_idx_dict.values():\n",
    "    for col_idx in coll_idxes:\n",
    "        vistem_list.append(gscene.copy_from(ltc_effector.cell_refs[col_idx]))"
   ]
  },
  {
   "cell_type": "code",
   "execution_count": null,
   "metadata": {},
   "outputs": [],
   "source": [
    "for vistem in vistem_list:\n",
    "    if vistem in gscene:\n",
    "        gscene.remove(vistem)"
   ]
  },
  {
   "cell_type": "markdown",
   "metadata": {},
   "source": [
    "## scene conversion"
   ]
  },
  {
   "cell_type": "code",
   "execution_count": null,
   "metadata": {},
   "outputs": [],
   "source": [
    "gtimer.reset()\n",
    "with gtimer.block(\"ltc_arm_10_convert\"):\n",
    "    Tref_base = SE3(Tref[:3,:3], (0, 0, shoulder_height))\n",
    "    ltc_arm_10.convert([gtem for gtem in gscene if gtem.collision and gtem not in gtems_robot], HOME_DICT, Tref=Tref_base)\n",
    "print(gtimer)"
   ]
  },
  {
   "cell_type": "code",
   "execution_count": null,
   "metadata": {},
   "outputs": [],
   "source": [
    "vistem_list = []\n",
    "for coll_idxes in ltc_arm_10.coll_idx_dict.values():\n",
    "    for col_idx in coll_idxes:\n",
    "        vistem_list.append(gscene.copy_from(ltc_arm_10.cell_refs[col_idx]))"
   ]
  },
  {
   "cell_type": "code",
   "execution_count": null,
   "metadata": {},
   "outputs": [],
   "source": [
    "for vistem in vistem_list:\n",
    "    if vistem in gscene:\n",
    "        gscene.remove(vistem)"
   ]
  },
  {
   "cell_type": "code",
   "execution_count": null,
   "metadata": {},
   "outputs": [],
   "source": []
  },
  {
   "cell_type": "markdown",
   "metadata": {},
   "source": [
    "## remove object"
   ]
  },
  {
   "cell_type": "code",
   "execution_count": null,
   "metadata": {},
   "outputs": [],
   "source": [
    "\n",
    "pscene.remove_object(obj_pscene.oname)\n",
    "for handle in handles:\n",
    "    gscene.remove(handle)"
   ]
  },
  {
   "cell_type": "code",
   "execution_count": null,
   "metadata": {},
   "outputs": [],
   "source": []
  },
  {
   "cell_type": "code",
   "execution_count": null,
   "metadata": {},
   "outputs": [],
   "source": [
    "gscene.get_items_on_links(TOOL_LINK_BUNDLE[0]) + gscene.get_items_on_links(TOOL_LINK_BUNDLE[1])"
   ]
  },
  {
   "cell_type": "code",
   "execution_count": null,
   "metadata": {},
   "outputs": [],
   "source": [
    "with gtimer.block(\"convert\"):\n",
    "    ltc_full.convert([gtem for gtem in gscene if gtem not in gtems_robot], crob.home_dict)"
   ]
  },
  {
   "cell_type": "code",
   "execution_count": null,
   "metadata": {
    "scrolled": true
   },
   "outputs": [],
   "source": [
    "print(gtimer)"
   ]
  },
  {
   "cell_type": "code",
   "execution_count": null,
   "metadata": {},
   "outputs": [],
   "source": [
    "gscene.show_pose(crob.home_pose)"
   ]
  },
  {
   "cell_type": "code",
   "execution_count": null,
   "metadata": {},
   "outputs": [],
   "source": [
    "# for coll_idxes in latticizer.coll_idx_dict.values():\n",
    "#     for col_idx in coll_idxes:\n",
    "#         gscene.copy_from(latticizer.cell_refs[col_idx])"
   ]
  },
  {
   "cell_type": "code",
   "execution_count": null,
   "metadata": {},
   "outputs": [],
   "source": []
  },
  {
   "cell_type": "markdown",
   "metadata": {},
   "source": [
    "## deprecated python ver"
   ]
  },
  {
   "cell_type": "code",
   "execution_count": null,
   "metadata": {},
   "outputs": [],
   "source": [
    "from pkg.utils.gjk import make_point3, get_point_list, get_point_list_list, get_point_list_list_from_point_list\n",
    "from pkg.utils.gjk import get_gjk_distance, get_gjk_distance_min, get_gjk_distance_all"
   ]
  },
  {
   "cell_type": "code",
   "execution_count": null,
   "metadata": {},
   "outputs": [],
   "source": [
    "gtimer = GlobalTimer.instance()\n",
    "gtimer.reset()\n",
    "with gtimer.block(\"get_cell_vertices\"):\n",
    "    gscene_ref = GeometryScene(gscene.urdf_content, gscene.urdf_path, gscene.joint_names, gscene.link_names, rviz=False)\n",
    "    centers = get_centers(Nwdh, L_CELL, OFFSET_ZERO).reshape((-1,3))\n",
    "    cell_refs = []\n",
    "    for icell, center in enumerate(centers):\n",
    "        cell_refs.append(gscene_ref.create_safe(GEOTYPE.BOX, str(icell), \"base_link\", dims=(L_CELL,)*3, \n",
    "                                                center=center, rpy=(0,0,0), color=(1,1,1,0.2), \n",
    "                                                display=True, collision=False, fixed=True))\n",
    "    cell_vertices = get_cell_vertices(centers, L_CELL)\n",
    "    cell_vertices_gjk = get_point_list_list(cell_vertices)\n",
    "    center_vertices_gjk = get_point_list_list(np.expand_dims(centers, axis=-2))"
   ]
  },
  {
   "cell_type": "code",
   "execution_count": null,
   "metadata": {},
   "outputs": [],
   "source": [
    "print(gtimer)"
   ]
  },
  {
   "cell_type": "code",
   "execution_count": null,
   "metadata": {},
   "outputs": [],
   "source": [
    "gtimer.reset()\n",
    "sqrt3 = np.sqrt(3)\n",
    "LCmax = L_CELL*sqrt3/2\n",
    "Qdict = crob.home_dict\n",
    "with gtimer.block(\"full\"):\n",
    "    for gtem in gscene:\n",
    "#         if gtem in gtems_robot or not gtem.collision:\n",
    "#             continue\n",
    "        with gtimer.block(\"centers\"):\n",
    "            Tgtem = SE3_inv(gtem.get_tf(Qdict))\n",
    "            centers_loc = np.abs(np.matmul(centers, Tgtem[:3,:3].transpose())+Tgtem[:3,3])\n",
    "        if gtem.gtype == GEOTYPE.BOX and np.sum(np.abs(gtem.rpy))<1e-5:\n",
    "            with gtimer.block(\"right box\"):\n",
    "                dist_list = np.max(centers_loc - np.divide(gtem.dims,2) - L_CELL, axis=-1)\n",
    "                cell_idx_occupy = np.where(dist_list < 1e-3)[0]\n",
    "                continue\n",
    "        with gtimer.block(\"calc_center_dist\"):\n",
    "            dist_list = np.max(centers_loc - np.divide(gtem.dims,2) - LCmax, axis=-1)\n",
    "            idx_candi = np.where(dist_list<0)[0]\n",
    "        with gtimer.block(\"calc_points\"):\n",
    "            gtem_verts, gtem_radius = gtem.get_vertice_radius_from(Qdict)\n",
    "        with gtimer.block(\"get_point_gjk\"):\n",
    "            gtem_verts_gjk = get_point_list(gtem_verts)\n",
    "        with gtimer.block(\"get_distance_gjk\"):\n",
    "            cell_idx_occupy = []\n",
    "            for idx in idx_candi:\n",
    "                cell_candi = cell_vertices_gjk[idx]\n",
    "                center_v_candi = center_vertices_gjk[idx]\n",
    "                if ((get_gjk_distance(cell_candi, gtem_verts_gjk) - gtem_radius < 1e-4)):\n",
    "                    cell_idx_occupy.append(idx)\n",
    "#                 if ((get_gjk_distance(gtem_verts_gjk, center_v_candi) - gtem_radius - L_CELL/2 < 1e-4) or \n",
    "#                     (get_gjk_distance(cell_candi, gtem_verts_gjk) - gtem_radius < 1e-4)):\n",
    "#                     cell_idx_occupy.append(idx)\n",
    "print(gtimer)"
   ]
  }
 ],
 "metadata": {
  "kernelspec": {
   "display_name": "Python 2",
   "language": "python",
   "name": "python2"
  },
  "language_info": {
   "codemirror_mode": {
    "name": "ipython",
    "version": 2
   },
   "file_extension": ".py",
   "mimetype": "text/x-python",
   "name": "python",
   "nbconvert_exporter": "python",
   "pygments_lexer": "ipython2",
   "version": "2.7.17"
  }
 },
 "nbformat": 4,
 "nbformat_minor": 2
}
