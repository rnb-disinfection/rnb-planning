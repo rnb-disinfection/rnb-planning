{
 "cells": [
  {
   "cell_type": "markdown",
   "metadata": {},
   "source": [
    "## 수정사항\n",
    "#### 2021.06.04\n",
    "* Gripper 자유도 45도로 제한됨에 따라 파지점 방향 수정, 바닥 파지면은 삭제"
   ]
  },
  {
   "cell_type": "markdown",
   "metadata": {},
   "source": [
    "## set running directory"
   ]
  },
  {
   "cell_type": "code",
   "execution_count": null,
   "metadata": {},
   "outputs": [],
   "source": [
    "from __future__ import print_function\n",
    "import os\n",
    "os.chdir(os.path.join(os.environ[\"RNB_PLANNING_DIR\"], 'src'))"
   ]
  },
  {
   "cell_type": "code",
   "execution_count": null,
   "metadata": {},
   "outputs": [],
   "source": [
    "from pkg.controller.combined_robot import *\n",
    "from pkg.utils.utils import get_now, try_mkdir\n",
    "\n",
    "\n",
    "DATA_PATH = os.path.join(os.environ['RNB_PLANNING_DIR'], \"data\")\n",
    "try_mkdir(DATA_PATH)\n",
    "\n",
    "ALG_DATA_PATH = os.path.join(DATA_PATH, \"latticized\")\n",
    "try_mkdir(ALG_DATA_PATH)"
   ]
  },
  {
   "cell_type": "code",
   "execution_count": null,
   "metadata": {},
   "outputs": [],
   "source": []
  },
  {
   "cell_type": "code",
   "execution_count": null,
   "metadata": {},
   "outputs": [],
   "source": [
    "VISUALIZE = False\n",
    "TIMEOUT_REACH = 30\n",
    "TIMEOUT_RETRIEVE = 30\n",
    "TIMEOUT_SELF = 1\n",
    "CLEARANCE = 1e-3\n",
    "\n",
    "ROBOT_TYPE = RobotType.indy7gripper\n",
    "ROBOT_NAME = \"indy0\"\n",
    "TOOL_LINK = \"indy0_tcp\"\n",
    "TOOL_XYZ = (0,0,0.14)\n",
    "TOOL_RPY = (-np.pi/2,0,0)\n",
    "GRIP_DEPTH = 0.05\n",
    "HOME_POSE = (0,0,0,0,0,0)\n",
    "\n",
    "# ROBOT_TYPE = RobotType.panda\n",
    "# ROBOT_NAME = \"panda0\"\n",
    "# TOOL_LINK = \"panda0_hand\"\n",
    "# TOOL_XYZ = (0,0,0.112)\n",
    "# TOOL_RPY = (-np.pi/2,0,0)\n",
    "# GRIP_DEPTH = 0.03\n",
    "# HOME_POSE = (0,-0.3,0,-0.5,0,2.5,0)"
   ]
  },
  {
   "cell_type": "code",
   "execution_count": null,
   "metadata": {},
   "outputs": [],
   "source": []
  },
  {
   "cell_type": "markdown",
   "metadata": {},
   "source": [
    "## init combined robot config"
   ]
  },
  {
   "cell_type": "code",
   "execution_count": null,
   "metadata": {},
   "outputs": [],
   "source": [
    "\n",
    "from pkg.project_config import *\n",
    "\n",
    "crob = CombinedRobot(robots_on_scene=[\n",
    "    RobotConfig(0, ROBOT_TYPE, None,\n",
    "                INDY_IP)]\n",
    "              , connection_list=[False])\n",
    "\n",
    "from pkg.geometry.builder.scene_builder import SceneBuilder\n",
    "s_builder = SceneBuilder(None)\n",
    "# # deprecated: s_builder.reset_reference_coord(ref_name=\"floor\")"
   ]
  },
  {
   "cell_type": "code",
   "execution_count": null,
   "metadata": {},
   "outputs": [],
   "source": []
  },
  {
   "cell_type": "markdown",
   "metadata": {},
   "source": [
    "## get ghnd with detected robot config"
   ]
  },
  {
   "cell_type": "code",
   "execution_count": null,
   "metadata": {
    "scrolled": true
   },
   "outputs": [],
   "source": [
    "# xyz_rpy_robots = s_builder.detect_items(level_mask=[DetectionLevel.ROBOT])\n",
    "xyz_rpy_robots = {ROBOT_NAME: ((0,0,0), (0,0,0))}\n",
    "crob.update_robot_pos_dict(xyz_rpy_robots=xyz_rpy_robots)\n",
    "gscene = s_builder.create_gscene(crob, start_rviz=VISUALIZE)\n",
    "HOME_DICT = list2dict(HOME_POSE, gscene.joint_names)\n"
   ]
  },
  {
   "cell_type": "code",
   "execution_count": null,
   "metadata": {},
   "outputs": [],
   "source": [
    "from pkg.utils.joint_utils import get_tf\n",
    "shoulder_link = gscene.urdf_content.joint_map[gscene.joint_names[1]].child\n",
    "shoulder_height = get_tf(shoulder_link, HOME_DICT, gscene.urdf_content)[2,3]"
   ]
  },
  {
   "cell_type": "code",
   "execution_count": null,
   "metadata": {},
   "outputs": [],
   "source": []
  },
  {
   "cell_type": "markdown",
   "metadata": {},
   "source": [
    "## add environment"
   ]
  },
  {
   "cell_type": "code",
   "execution_count": null,
   "metadata": {},
   "outputs": [],
   "source": [
    "from pkg.geometry.geometry import *\n",
    "gtems_robot = s_builder.add_robot_geometries(color=(0,1,0,0.5), display=True, collision=True)"
   ]
  },
  {
   "cell_type": "code",
   "execution_count": null,
   "metadata": {},
   "outputs": [],
   "source": []
  },
  {
   "cell_type": "markdown",
   "metadata": {},
   "source": [
    "## init planning scene"
   ]
  },
  {
   "cell_type": "code",
   "execution_count": null,
   "metadata": {},
   "outputs": [],
   "source": [
    "from pkg.planning.scene import PlanningScene\n",
    "pscene = PlanningScene(gscene, combined_robot=crob)\n",
    "\n",
    "from pkg.planning.pipeline import PlanningPipeline\n",
    "ppline = PlanningPipeline(pscene)"
   ]
  },
  {
   "cell_type": "code",
   "execution_count": null,
   "metadata": {},
   "outputs": [],
   "source": []
  },
  {
   "cell_type": "markdown",
   "metadata": {},
   "source": [
    "## Register binders"
   ]
  },
  {
   "cell_type": "code",
   "execution_count": null,
   "metadata": {},
   "outputs": [],
   "source": [
    "from pkg.planning.constraint.constraint_actor import Gripper2Tool, PlacePlane, SweepTool"
   ]
  },
  {
   "cell_type": "code",
   "execution_count": null,
   "metadata": {},
   "outputs": [],
   "source": [
    "gscene.create_safe(gtype=GEOTYPE.SPHERE, name=\"grip0\", link_name=TOOL_LINK, \n",
    "                 dims=(0.01,)*3, center=TOOL_XYZ, rpy=TOOL_RPY, color=(1,0,0,1), display=True, collision=False, fixed=True)\n",
    "gripper = pscene.create_binder(bname=\"grip0\", gname=\"grip0\", _type=Gripper2Tool, point=(0,0,0))"
   ]
  },
  {
   "cell_type": "code",
   "execution_count": null,
   "metadata": {},
   "outputs": [],
   "source": []
  },
  {
   "cell_type": "markdown",
   "metadata": {},
   "source": [
    "## planner"
   ]
  },
  {
   "cell_type": "code",
   "execution_count": null,
   "metadata": {},
   "outputs": [],
   "source": [
    "from pkg.planning.motion.moveit.moveit_planner import MoveitPlanner\n",
    "from pkg.planning.filtering.grasp_filter import GraspChecker\n",
    "from pkg.planning.filtering.reach_filter import ReachChecker\n",
    "mplan = MoveitPlanner(pscene)\n",
    "checker = MoveitPlanner(pscene)\n",
    "\n",
    "gcheck = GraspChecker(pscene)\n",
    "rcheck = ReachChecker(pscene)\n",
    "checker.motion_filters = [gcheck] # rchecker is not perfect, don't use for data gen"
   ]
  },
  {
   "cell_type": "code",
   "execution_count": null,
   "metadata": {},
   "outputs": [],
   "source": []
  },
  {
   "cell_type": "markdown",
   "metadata": {},
   "source": [
    "## ui"
   ]
  },
  {
   "cell_type": "code",
   "execution_count": null,
   "metadata": {},
   "outputs": [],
   "source": [
    "from pkg.ui.ui_broker import *\n",
    "\n",
    "# start UI\n",
    "ui_broker = UIBroker.instance()\n",
    "ui_broker.initialize(ppline, s_builder)\n",
    "ui_broker.start_server()\n",
    "\n",
    "ui_broker.set_tables()"
   ]
  },
  {
   "cell_type": "code",
   "execution_count": null,
   "metadata": {},
   "outputs": [],
   "source": []
  },
  {
   "cell_type": "markdown",
   "metadata": {},
   "source": [
    "# Object Classes"
   ]
  },
  {
   "cell_type": "code",
   "execution_count": null,
   "metadata": {},
   "outputs": [],
   "source": [
    "from pkg.utils.gjk import get_point_list, get_gjk_distance\n",
    "from pkg.planning.constraint.constraint_subject import CustomObject, Grasp2Point, PlacePoint, SweepPoint, SweepTask\n",
    "from pkg.planning.filtering.lattice_model.scene_building import *\n",
    "        \n",
    "WORKPLANE_TYPES = [WorkPlane, Box, SideBox, TopBox]\n",
    "\n",
    "Nmax_wall, Nmax_pole, Nmax_bar = 4, 8, 8\n",
    "\n",
    "Nmax_obj = 3"
   ]
  },
  {
   "cell_type": "code",
   "execution_count": null,
   "metadata": {},
   "outputs": [],
   "source": [
    "from pkg.planning.filtering.lattice_model.latticizer_py import *\n",
    "import itertools\n",
    "\n",
    "ltc_full = Latticizer_py(WDH=(3, 3, 3), L_CELL=0.05, OFFSET_ZERO=(1.5, 1.5, 1.5))\n",
    "ltc_effector = Latticizer_py(WDH=(1, 1, 1), L_CELL=0.05, OFFSET_ZERO=(0.5, 0.5, 0.5))\n",
    "ltc_arm_05 = Latticizer_py(WDH=(2, 2, 2), L_CELL=0.05, OFFSET_ZERO=(0.5, 1.0, 1.0))\n",
    "ltc_arm_10 = Latticizer_py(WDH=(2, 2, 2), L_CELL=0.10, OFFSET_ZERO=(0.5, 1.0, 1.0))"
   ]
  },
  {
   "cell_type": "markdown",
   "metadata": {},
   "source": [
    "### sampling"
   ]
  },
  {
   "cell_type": "code",
   "execution_count": null,
   "metadata": {},
   "outputs": [],
   "source": [
    "gtimer = GlobalTimer.instance()\n",
    "gtimer.reset()\n",
    "\n",
    "reach_success_list = []\n",
    "reach_time_list = []\n",
    "retrieve_success_list = []\n",
    "retrieve_time_list = []\n",
    "\n",
    "for _ in range(15):\n",
    "    ROBOT_DATA_ROOT = os.path.join(ALG_DATA_PATH, ROBOT_TYPE.name+\"-failmore\")\n",
    "    try_mkdir(ROBOT_DATA_ROOT)\n",
    "\n",
    "    DATASET_PATH = os.path.join(ROBOT_DATA_ROOT, get_now())\n",
    "    try_mkdir(DATASET_PATH)\n",
    "    print(\"\")\n",
    "    print(\"DATASET_PATH: {}\".format(DATASET_PATH))\n",
    "    print(\"\")\n",
    "\n",
    "    GRASP_PATH = os.path.join(DATASET_PATH, \"grasp\")\n",
    "    try_mkdir(GRASP_PATH)\n",
    "\n",
    "    ARM_10_PATH = os.path.join(DATASET_PATH, \"arm_10\")\n",
    "    try_mkdir(ARM_10_PATH)\n",
    "\n",
    "    ARM_05_PATH = os.path.join(DATASET_PATH, \"arm_05\")\n",
    "    try_mkdir(ARM_05_PATH)\n",
    "\n",
    "    FULL_SCENE_PATH = os.path.join(DATASET_PATH, \"full_scene\")\n",
    "    try_mkdir(FULL_SCENE_PATH)\n",
    "\n",
    "    GSCENE_PATH = os.path.join(DATASET_PATH, \"gscene\")\n",
    "    try_mkdir(GSCENE_PATH)\n",
    "\n",
    "    N_max_sample = 1000\n",
    "    N_print = 5\n",
    "\n",
    "    gtimer.tic(\"full_loop\")\n",
    "\n",
    "    i_s = 0\n",
    "    i_print = 0\n",
    "    reach_list = []\n",
    "    retrieve_list = []\n",
    "    while i_s < N_max_sample:\n",
    "        ## add floor, ceiling\n",
    "        floor = Floor(gscene, \"floor\")\n",
    "        # ceiling = Ceiling(gscene, \"ceiling\")\n",
    "\n",
    "        ## set workplane\n",
    "        wp = random.choice(WORKPLANE_TYPES)(gscene, \"wp\", floor_height=floor.RTH[2]+floor.DIM[2]/2)\n",
    "        pscene.create_binder(bname=\"wp\", gname=\"wp\", _type=PlacePlane, point=None)\n",
    "\n",
    "        ## add walls, poles, bars\n",
    "        walls = redistribute_class(gscene, Wall, \"wl\", Nmax_wall, workplane_avoid=wp)\n",
    "        poles = redistribute_class(gscene, Pole, \"po\", Nmax_pole, workplane_avoid=wp)\n",
    "        bars = redistribute_class(gscene, Bar, \"bar\", Nmax_bar, workplane_avoid=wp)\n",
    "\n",
    "        ## add object\n",
    "        obj_list = disperse_objects(gscene, PlaneObject, \"obj\", Nmax_obj, workplane_on=wp, GRIP_DEPTH=GRIP_DEPTH, CLEARANCE=CLEARANCE)\n",
    "\n",
    "        samples = []\n",
    "        for obj in obj_list:\n",
    "            SHOW_PERIOD = 0.01\n",
    "            N_sample_single_obj = 3\n",
    "            N_sample_single_obj_max = 3\n",
    "            obj_pscene, handles = add_object(pscene, obj)\n",
    "            mplan.update_gscene()\n",
    "            initial_state = pscene.initialize_state(HOME_POSE)\n",
    "            pscene.set_object_state(initial_state)\n",
    "            from_state = initial_state.copy(pscene)\n",
    "            to_node = (\"grip0\",)\n",
    "            available_binding_dict = pscene.get_available_binding_dict(from_state, to_node, HOME_DICT)\n",
    "            samples_obj = []\n",
    "            for _ in range(N_sample_single_obj):\n",
    "                to_state = pscene.sample_leaf_state(from_state, available_binding_dict, to_node)\n",
    "                \n",
    "                pscene.set_object_state(from_state)\n",
    "                \n",
    "                Traj_reach, LastQ, error, res, binding_list = \\\n",
    "                            checker.plan_transition(from_state=from_state, to_state=to_state, only_self_collision=True, timeout=TIMEOUT_SELF)\n",
    "\n",
    "                success_reach, success_retrieve = False, False\n",
    "                time_reach, time_retrieve = TIMEOUT_REACH, TIMEOUT_RETRIEVE\n",
    "                if res:\n",
    "                    gtimer.tic(\"reach\")\n",
    "                    Traj_reach, LastQ, error, success_reach, binding_list = mplan.plan_transition(\n",
    "                        from_state=from_state, to_state=to_state, timeout=TIMEOUT_REACH)\n",
    "                    time_reach = gtimer.toc(\"reach\")\n",
    "                    reach_success_list.append(success_reach)\n",
    "                    reach_time_list.append(time_reach)\n",
    "        #             print(\"reach: {}\".format(success_reach))\n",
    "                    Traj_retrieve = []\n",
    "                    if success_reach:\n",
    "                        if VISUALIZE:\n",
    "                            gscene.show_motion(Traj_reach, period=SHOW_PERIOD)\n",
    "                        for bd in binding_list:\n",
    "                            pscene.rebind(bd, list2dict(LastQ, pscene.gscene.joint_names))\n",
    "                        binding_state, state_param = pscene.get_object_state()\n",
    "                        new_state = State(binding_state, state_param, list(LastQ), pscene)\n",
    "                        end_state = new_state.copy(pscene)\n",
    "                        end_state.Q = np.array(HOME_POSE)\n",
    "                        gtimer.tic(\"retrieve\")\n",
    "                        Traj_retrieve, LastQ, error, success_retrieve, binding_list = mplan.plan_transition(\n",
    "                            from_state=new_state, to_state=end_state, timeout=TIMEOUT_RETRIEVE)\n",
    "                        time_retrieve = gtimer.toc(\"retrieve\")\n",
    "                        retrieve_success_list.append(success_retrieve)\n",
    "                        retrieve_time_list.append(time_retrieve)\n",
    "        #                 print(\"retrieve: {}\".format(success_retrieve))\n",
    "                        if success_retrieve and VISUALIZE:\n",
    "                            gscene.show_motion(Traj_retrieve, period=SHOW_PERIOD)\n",
    "                    samples_obj.append((obj.name, from_state, to_state, \n",
    "                                        success_reach, success_retrieve, Traj_reach, Traj_retrieve, time_reach, time_retrieve))\n",
    "                    if len(samples_obj)>=N_sample_single_obj_max:\n",
    "                        pscene.set_object_state(initial_state)\n",
    "                        break\n",
    "                else:\n",
    "                    Traj_reach, Traj_retrieve = [], []\n",
    "                    reach_success_list.append(success_reach)\n",
    "                    reach_time_list.append(time_reach)\n",
    "                    retrieve_success_list.append(success_retrieve)\n",
    "                    retrieve_time_list.append(time_retrieve)\n",
    "                    samples_obj.append((obj.name, from_state, to_state, \n",
    "                                        success_reach, success_retrieve, Traj_reach, Traj_retrieve, time_reach, time_retrieve))\n",
    "#                 if success_retrieve and not res_col:\n",
    "#                     raise(RuntimeError(\"Something's wrong: successful motion but collision checker failed\"))\n",
    "        #             print(\"no save?\")\n",
    "            samples = samples+samples_obj\n",
    "            pscene.set_object_state(initial_state)\n",
    "\n",
    "            pscene.remove_subject(obj_pscene.oname)\n",
    "            for handle in handles:\n",
    "                gscene.remove(handle)    \n",
    "\n",
    "            gscene.update_markers_all()\n",
    "\n",
    "        for sample in samples:\n",
    "            obj_name, from_state, to_state, success_reach, success_retrieve, \\\n",
    "                Traj_reach, Traj_retrieve, time_reach, time_retrieve = sample\n",
    "            obj = [obj for obj in obj_list if obj.name == obj_name][0]\n",
    "            obj_pscene, handles = add_object(pscene, obj)\n",
    "            \n",
    "                    \n",
    "            gtem_args = []\n",
    "            for gtem in gscene:\n",
    "                if gtem.link_name == \"base_link\":\n",
    "                    gtem_args.append(deepcopy(gtem.get_args()))\n",
    "            obj_args = {obj.name: {\"DIM\": obj.DIM, \"gname\": obj.geometry.name} \n",
    "                        for obj in obj_list}\n",
    "        \n",
    "            pscene.set_object_state(from_state)\n",
    "            subject_list, binding_ok = pscene.get_changing_subjects(from_state, to_state)\n",
    "            assert binding_ok, \"no available transition\"\n",
    "            assert len(subject_list) == 1, \"multiple binding transition - only single allowed in training process\"\n",
    "            sname = subject_list[0]\n",
    "\n",
    "            grasp_dict = {}\n",
    "            arm_05_dict = {}\n",
    "            arm_10_dict = {}\n",
    "            full_scene_dict = {}\n",
    "            ltc_effector.clear()\n",
    "            ltc_arm_05.clear()\n",
    "            ltc_arm_10.clear()\n",
    "            ltc_full.clear()\n",
    "\n",
    "            btf = to_state.binding_state[sname]\n",
    "            obj_name, ap_name, binder_name, binder_geometry_name = btf.get_chain()\n",
    "            actor, obj = pscene.actor_dict[binder_name], pscene.subject_dict[obj_name]\n",
    "            handle = obj.action_points_dict[ap_name]\n",
    "            T_loal = btf.T_loal\n",
    "\n",
    "            (object_geo_list, object_T2end_dict), (actor_geo_list, actor_T2end_dict) = \\\n",
    "                            gcheck.get_geolist_tflist_pairs(actor, obj, HOME_DICT)\n",
    "\n",
    "            (object_geo_list, object_T2end_dict), (actor_geo_list, actor_T2end_dict) = \\\n",
    "                            gcheck.get_geolist_tflist_pairs(actor, obj, HOME_DICT)\n",
    "\n",
    "\n",
    "            obj_names = obj.geometry.get_family()\n",
    "\n",
    "            group_name = ROBOT_NAME\n",
    "            T_br = gscene.get_tf(crob.get_robot_base_dict()[group_name], Q=crob.home_dict,\n",
    "                                 from_link=obj.geometry.link_name)\n",
    "            T_re = np.matmul(SE3_inv(T_br), T_loal)\n",
    "            T_tool_to_rob = T_re\n",
    "            tool_geo_list, tool_T2end_dict = actor_geo_list, actor_T2end_dict\n",
    "            T_tar_to_rob = SE3_inv(T_br)\n",
    "            target_geo_list, target_T2end_dict = object_geo_list, object_T2end_dict\n",
    "\n",
    "            grasp_dict = {}\n",
    "            arm_05_dict = {}\n",
    "            arm_10_dict = {}\n",
    "            full_scene_dict = {}\n",
    "            ltc_effector.clear()\n",
    "            ltc_arm_05.clear()\n",
    "            ltc_arm_10.clear()\n",
    "            ltc_full.clear()\n",
    "\n",
    "            r, th, h = cart2cyl(*T_tool_to_rob[:3, 3])\n",
    "            T_rl = SE3(Rot_axis(3, th), T_re[:3, 3])  # in robot base link coordinate\n",
    "            target_names = [gtem.name for gtem in target_geo_list if gtem.name not in obj_names]\n",
    "            tool_names = [gtem.name for gtem in tool_geo_list]\n",
    "\n",
    "            ## Convert effector\n",
    "            T_gl_list = []\n",
    "            gtem_list = target_geo_list + tool_geo_list\n",
    "            for gtem in gtem_list:\n",
    "                if gtem.link_name in tool_T2end_dict:\n",
    "                    T_rg = matmul_series(T_tool_to_rob, tool_T2end_dict[gtem.link_name], gtem.Toff)\n",
    "                else:\n",
    "                    T_rg = matmul_series(T_tar_to_rob, target_T2end_dict[gtem.link_name], gtem.Toff)\n",
    "                T_lg = np.matmul(SE3_inv(T_rl), T_rg)\n",
    "                T_gl = SE3_inv(T_lg)\n",
    "                T_gl_list.append(T_gl)\n",
    "\n",
    "            ltc_effector.convert_vertices_approx(gtem_list, T_gl_list)\n",
    "\n",
    "            ## Convert env\n",
    "            link_env = [lname for lname in gscene.link_names\n",
    "                        if lname not in pscene.robot_chain_dict[group_name][\"link_names\"]]\n",
    "            gtems_env = [gtem for gtem in gscene\n",
    "                         if gtem.collision and gtem.link_name in link_env]\n",
    "            Trl_base = SE3(T_rl[:3, :3], (0, 0, shoulder_height))  # in robot base link coordinate\n",
    "            T_bl = np.matmul(T_br, Trl_base)\n",
    "            T_lb = SE3_inv(T_bl)\n",
    "            Tlist_env = {lname: gscene.get_tf(lname, crob.home_dict) for lname in link_env}\n",
    "            T_gl_list_env = []\n",
    "            for gtem in gtems_env:\n",
    "                T_lg = matmul_series(T_lb, Tlist_env[gtem.link_name], gtem.Toff)\n",
    "                T_gl = SE3_inv(T_lg)\n",
    "                T_gl_list_env.append(T_gl)\n",
    "            ltc_arm_05.convert_vertices_approx(gtems_env, T_gl_list_env)\n",
    "            ltc_arm_10.convert_vertices_approx(gtems_env, T_gl_list_env)\n",
    "\n",
    "            T_gl_list_tool = []\n",
    "            for gtem in tool_geo_list:\n",
    "                T_rg = matmul_series(T_tool_to_rob, tool_T2end_dict[gtem.link_name], gtem.Toff)\n",
    "                T_lg = matmul_series(T_lb, T_br, T_rg)\n",
    "                T_gl = SE3_inv(T_lg)\n",
    "                T_gl_list_tool.append(T_gl)\n",
    "            ltc_full.convert_vertices_approx(gtems_env, T_gl_list_env)\n",
    "            ltc_full.convert_vertices_approx(tool_geo_list, T_gl_list_tool)\n",
    "\n",
    "            grasp_dict[\"tar\"] = sorted(set(itertools.chain(*[ltc_effector.coll_idx_dict[tname] for tname in target_names if tname in ltc_effector.coll_idx_dict])))\n",
    "            grasp_dict[\"tool\"] = sorted(set(itertools.chain(*[ltc_effector.coll_idx_dict[tname] for tname in tool_names if tname in ltc_effector.coll_idx_dict])))\n",
    "            grasp_dict[\"obj\"] = sorted(set(itertools.chain(*[ltc_effector.coll_idx_dict[tname] for tname in obj_names if tname in ltc_effector.coll_idx_dict])))\n",
    "            grasp_dict[\"T_end_effector\"], grasp_dict[\"T_end_joint\"], grasp_dict[\"Tref_base\"]  = T_loal, T_loal, Trl_base\n",
    "            grasp_dict[\"reach\"], grasp_dict[\"retrieve\"] = success_reach, success_retrieve\n",
    "            grasp_dict[\"reach_time\"], grasp_dict[\"retrieve_time\"] = time_reach, success_retrieve\n",
    "\n",
    "            arm_05_dict[\"tar\"] = sorted(set(itertools.chain(*[ltc_arm_05.coll_idx_dict[tname] for tname in target_names if tname in ltc_arm_05.coll_idx_dict])))\n",
    "            arm_05_dict[\"tool\"] = sorted(set(itertools.chain(*[ltc_arm_05.coll_idx_dict[tname] for tname in tool_names if tname in ltc_arm_05.coll_idx_dict])))\n",
    "            arm_05_dict[\"T_end_effector\"], arm_05_dict[\"T_end_joint\"], arm_05_dict[\"Tref_base\"] = T_loal, T_loal, Trl_base\n",
    "            arm_05_dict[\"reach\"], arm_05_dict[\"retrieve\"] = success_reach, success_retrieve\n",
    "\n",
    "            arm_10_dict[\"tar\"] = sorted(set(itertools.chain(*[ltc_arm_10.coll_idx_dict[tname] for tname in target_names if tname in ltc_arm_10.coll_idx_dict])))\n",
    "            arm_10_dict[\"tool\"] = sorted(set(itertools.chain(*[ltc_arm_10.coll_idx_dict[tname] for tname in tool_names if tname in ltc_arm_10.coll_idx_dict])))\n",
    "            arm_10_dict[\"T_end_effector\"], arm_10_dict[\"T_end_joint\"], arm_10_dict[\"Tref_base\"] = T_loal, T_loal, Trl_base\n",
    "            arm_10_dict[\"reach\"], arm_10_dict[\"retrieve\"] = success_reach, success_retrieve\n",
    "\n",
    "            full_scene_dict[\"tar\"] = sorted(set(itertools.chain(*[ltc_full.coll_idx_dict[tname] for tname in target_names if tname in ltc_full.coll_idx_dict])))\n",
    "            full_scene_dict[\"tool\"] = sorted(set(itertools.chain(*[ltc_full.coll_idx_dict[tname] for tname in tool_names if tname in ltc_full.coll_idx_dict])))\n",
    "            full_scene_dict[\"obj\"] = sorted(set(itertools.chain(*[ltc_full.coll_idx_dict[tname] for tname in obj_names if tname in ltc_full.coll_idx_dict])))\n",
    "            full_scene_dict[\"T_end_effector\"], full_scene_dict[\"T_end_joint\"], full_scene_dict[\"Tref_base\"] = T_loal, T_loal, Trl_base\n",
    "            full_scene_dict[\"reach\"], full_scene_dict[\"retrieve\"] = success_reach, success_retrieve\n",
    "\n",
    "            reach_list.append(success_reach)\n",
    "            retrieve_list.append(success_retrieve)\n",
    "\n",
    "            save_pickle(os.path.join(GRASP_PATH, \"%06d.pkl\"%i_s), grasp_dict)\n",
    "            save_pickle(os.path.join(ARM_05_PATH, \"%06d.pkl\"%i_s), arm_05_dict)\n",
    "            save_pickle(os.path.join(ARM_10_PATH, \"%06d.pkl\"%i_s), arm_10_dict)\n",
    "            save_pickle(os.path.join(FULL_SCENE_PATH, \"%06d.pkl\"%i_s), full_scene_dict)\n",
    "            save_pickle(os.path.join(GSCENE_PATH, \"%06d.pkl\"%i_s), \n",
    "                        {\"gtem_args\":gtem_args, \"obj_args\": obj_args, \"T_loal\": T_loal})\n",
    "\n",
    "            i_s += 1\n",
    "\n",
    "            pscene.remove_subject(obj_pscene.oname)\n",
    "            for handle in handles:\n",
    "                gscene.remove(handle)\n",
    "\n",
    "            gscene.update_markers_all()\n",
    "        if i_s > 0 :\n",
    "            if i_s > i_print*N_print:\n",
    "                i_print +=  1\n",
    "                print_end = \"\\n\"\n",
    "            else:\n",
    "                print_end = \"\\r\"\n",
    "            time_elapsed = gtimer.toc(\"full_loop\")/1000\n",
    "            print(\"{} / {} in {} / {} s -- reach,retrieve = ({} %, {} %)                     \".format(\n",
    "                i_s, N_max_sample, round(time_elapsed, 2), round(time_elapsed/i_s*N_max_sample, 2), \n",
    "                round(np.mean(reach_list)*100, 1), round(np.mean(retrieve_list)*100, 1)), end=print_end)\n",
    "\n",
    "\n",
    "    print(\"\")\n",
    "    print(\"\")\n",
    "    print(\"============= Finished {} in {} s -- reach,retrieve = ({} %, {} %) =================\".format(\n",
    "        i_s, round(time_elapsed, 2), round(np.mean(reach_list)*100, 1), round(np.mean(retrieve_list)*100, 1)))"
   ]
  },
  {
   "cell_type": "code",
   "execution_count": null,
   "metadata": {},
   "outputs": [],
   "source": []
  },
  {
   "cell_type": "code",
   "execution_count": null,
   "metadata": {},
   "outputs": [],
   "source": []
  },
  {
   "cell_type": "markdown",
   "metadata": {},
   "source": [
    "## ====================== deprecated ============================"
   ]
  },
  {
   "cell_type": "markdown",
   "metadata": {},
   "source": [
    "## prepare cells"
   ]
  },
  {
   "cell_type": "code",
   "execution_count": null,
   "metadata": {},
   "outputs": [],
   "source": [
    "gtimer = GlobalTimer.instance()\n",
    "gtimer.reset()\n",
    "with gtimer.block(\"prepare_reference_cells_ltc_full\"):\n",
    "    ltc_full.prepare_reference_cells(gscene)\n",
    "with gtimer.block(\"prepare_reference_cells_ltc_effector\"):\n",
    "    ltc_effector.prepare_reference_cells(gscene)\n",
    "with gtimer.block(\"prepare_reference_cells_ltc_arm_05\"):\n",
    "    ltc_arm_05.prepare_reference_cells(gscene)\n",
    "with gtimer.block(\"prepare_reference_cells_ltc_arm_10\"):\n",
    "    ltc_arm_10.prepare_reference_cells(gscene)\n",
    "print(gtimer)"
   ]
  },
  {
   "cell_type": "code",
   "execution_count": null,
   "metadata": {},
   "outputs": [],
   "source": [
    "gscene.show_motion(Traj_reach)"
   ]
  },
  {
   "cell_type": "code",
   "execution_count": null,
   "metadata": {},
   "outputs": [],
   "source": []
  },
  {
   "cell_type": "markdown",
   "metadata": {},
   "source": [
    "## visualize"
   ]
  },
  {
   "cell_type": "code",
   "execution_count": null,
   "metadata": {},
   "outputs": [],
   "source": [
    "vistem_list = []\n",
    "for col_idx in grasp_dict['tar']:\n",
    "    vistem_list.append(gscene.copy_from(ltc_effector.cell_refs[col_idx], color=(0,0,1,0.3)))\n",
    "\n",
    "for col_idx in grasp_dict['tool']:\n",
    "    vistem_list.append(gscene.copy_from(ltc_effector.cell_refs[col_idx], color=(0,1,0,0.3)))"
   ]
  },
  {
   "cell_type": "code",
   "execution_count": null,
   "metadata": {},
   "outputs": [],
   "source": [
    "for vistem in vistem_list:\n",
    "    if vistem in gscene:\n",
    "        gscene.remove(vistem)"
   ]
  },
  {
   "cell_type": "code",
   "execution_count": null,
   "metadata": {},
   "outputs": [],
   "source": []
  },
  {
   "cell_type": "code",
   "execution_count": null,
   "metadata": {},
   "outputs": [],
   "source": [
    "vistem_list = []\n",
    "for col_idx in arm_10_dict['tar']:\n",
    "    vistem_list.append(gscene.copy_from(ltc_arm_10.cell_refs[col_idx], color=(0,0,1,0.3)))\n",
    "\n",
    "for col_idx in arm_10_dict['tool']:\n",
    "    vistem_list.append(gscene.copy_from(ltc_arm_10.cell_refs[col_idx], color=(0,1,0,0.3)))"
   ]
  },
  {
   "cell_type": "code",
   "execution_count": null,
   "metadata": {},
   "outputs": [],
   "source": [
    "for vistem in vistem_list:\n",
    "    if vistem in gscene:\n",
    "        gscene.remove(vistem)"
   ]
  },
  {
   "cell_type": "code",
   "execution_count": null,
   "metadata": {},
   "outputs": [],
   "source": []
  },
  {
   "cell_type": "code",
   "execution_count": null,
   "metadata": {},
   "outputs": [],
   "source": [
    "vistem_list = []\n",
    "for col_idx in full_scene_dict['tar']:\n",
    "    vistem_list.append(gscene.copy_from(ltc_full.cell_refs[col_idx], color=(0,0,1,0.3)))\n",
    "\n",
    "for col_idx in full_scene_dict['tool']:\n",
    "    vistem_list.append(gscene.copy_from(ltc_full.cell_refs[col_idx], color=(0,1,0,0.3)))"
   ]
  },
  {
   "cell_type": "code",
   "execution_count": null,
   "metadata": {},
   "outputs": [],
   "source": [
    "for vistem in vistem_list:\n",
    "    if vistem in gscene:\n",
    "        gscene.remove(vistem)"
   ]
  },
  {
   "cell_type": "code",
   "execution_count": null,
   "metadata": {},
   "outputs": [],
   "source": []
  },
  {
   "cell_type": "markdown",
   "metadata": {},
   "source": [
    "## grasp conversion"
   ]
  },
  {
   "cell_type": "code",
   "execution_count": null,
   "metadata": {},
   "outputs": [],
   "source": [
    "gtimer.reset()\n",
    "with gtimer.block(\"convert_vertices\"):\n",
    "    ltc_effector.convert_vertices(actor_vertinfo_list, HOME_DICT, Tref=Tref)\n",
    "    ltc_effector.convert_vertices(object_vertinfo_list, HOME_DICT, Tref=Tref)\n",
    "print(gtimer)"
   ]
  },
  {
   "cell_type": "code",
   "execution_count": null,
   "metadata": {},
   "outputs": [],
   "source": [
    "vistem_list = []\n",
    "for coll_idxes in ltc_effector.coll_idx_dict.values():\n",
    "    for col_idx in coll_idxes:\n",
    "        vistem_list.append(gscene.copy_from(ltc_effector.cell_refs[col_idx]))"
   ]
  },
  {
   "cell_type": "code",
   "execution_count": null,
   "metadata": {},
   "outputs": [],
   "source": [
    "for vistem in vistem_list:\n",
    "    if vistem in gscene:\n",
    "        gscene.remove(vistem)"
   ]
  },
  {
   "cell_type": "markdown",
   "metadata": {},
   "source": [
    "## scene conversion"
   ]
  },
  {
   "cell_type": "code",
   "execution_count": null,
   "metadata": {},
   "outputs": [],
   "source": [
    "gtimer.reset()\n",
    "with gtimer.block(\"ltc_arm_10_convert\"):\n",
    "    Tref_base = SE3(Tref[:3,:3], (0, 0, shoulder_height))\n",
    "    ltc_arm_10.convert([gtem for gtem in gscene if gtem.collision and gtem not in gtems_robot], HOME_DICT, Tref=Tref_base)\n",
    "print(gtimer)"
   ]
  },
  {
   "cell_type": "code",
   "execution_count": null,
   "metadata": {},
   "outputs": [],
   "source": [
    "vistem_list = []\n",
    "for coll_idxes in ltc_arm_10.coll_idx_dict.values():\n",
    "    for col_idx in coll_idxes:\n",
    "        vistem_list.append(gscene.copy_from(ltc_arm_10.cell_refs[col_idx]))"
   ]
  },
  {
   "cell_type": "code",
   "execution_count": null,
   "metadata": {},
   "outputs": [],
   "source": [
    "for vistem in vistem_list:\n",
    "    if vistem in gscene:\n",
    "        gscene.remove(vistem)"
   ]
  },
  {
   "cell_type": "code",
   "execution_count": null,
   "metadata": {},
   "outputs": [],
   "source": []
  },
  {
   "cell_type": "markdown",
   "metadata": {},
   "source": [
    "## remove object"
   ]
  },
  {
   "cell_type": "code",
   "execution_count": null,
   "metadata": {},
   "outputs": [],
   "source": [
    "\n",
    "pscene.remove_object(obj_pscene.oname)\n",
    "for handle in handles:\n",
    "    gscene.remove(handle)"
   ]
  },
  {
   "cell_type": "code",
   "execution_count": null,
   "metadata": {},
   "outputs": [],
   "source": []
  },
  {
   "cell_type": "code",
   "execution_count": null,
   "metadata": {},
   "outputs": [],
   "source": [
    "gscene.get_items_on_links(TOOL_LINK_BUNDLE[0]) + gscene.get_items_on_links(TOOL_LINK_BUNDLE[1])"
   ]
  },
  {
   "cell_type": "code",
   "execution_count": null,
   "metadata": {},
   "outputs": [],
   "source": [
    "with gtimer.block(\"convert\"):\n",
    "    ltc_full.convert([gtem for gtem in gscene if gtem not in gtems_robot], crob.home_dict)"
   ]
  },
  {
   "cell_type": "code",
   "execution_count": null,
   "metadata": {
    "scrolled": true
   },
   "outputs": [],
   "source": [
    "print(gtimer)"
   ]
  },
  {
   "cell_type": "code",
   "execution_count": null,
   "metadata": {},
   "outputs": [],
   "source": [
    "gscene.show_pose(crob.home_pose)"
   ]
  },
  {
   "cell_type": "code",
   "execution_count": null,
   "metadata": {},
   "outputs": [],
   "source": [
    "# for coll_idxes in latticizer.coll_idx_dict.values():\n",
    "#     for col_idx in coll_idxes:\n",
    "#         gscene.copy_from(latticizer.cell_refs[col_idx])"
   ]
  },
  {
   "cell_type": "code",
   "execution_count": null,
   "metadata": {},
   "outputs": [],
   "source": []
  },
  {
   "cell_type": "markdown",
   "metadata": {},
   "source": [
    "## deprecated python ver"
   ]
  },
  {
   "cell_type": "code",
   "execution_count": null,
   "metadata": {},
   "outputs": [],
   "source": [
    "from pkg.utils.gjk import make_point3, get_point_list, get_point_list_list, get_point_list_list_from_point_list\n",
    "from pkg.utils.gjk import get_gjk_distance, get_gjk_distance_min, get_gjk_distance_all"
   ]
  },
  {
   "cell_type": "code",
   "execution_count": null,
   "metadata": {},
   "outputs": [],
   "source": [
    "gtimer = GlobalTimer.instance()\n",
    "gtimer.reset()\n",
    "with gtimer.block(\"get_cell_vertices\"):\n",
    "    gscene_ref = GeometryScene(gscene.urdf_content, gscene.urdf_path, gscene.joint_names, gscene.link_names, rviz=False)\n",
    "    centers = get_centers(Nwdh, L_CELL, OFFSET_ZERO).reshape((-1,3))\n",
    "    cell_refs = []\n",
    "    for icell, center in enumerate(centers):\n",
    "        cell_refs.append(gscene_ref.create_safe(GEOTYPE.BOX, str(icell), \"base_link\", dims=(L_CELL,)*3, \n",
    "                                                center=center, rpy=(0,0,0), color=(1,1,1,0.2), \n",
    "                                                display=True, collision=False, fixed=True))\n",
    "    cell_vertices = get_cell_vertices(centers, L_CELL)\n",
    "    cell_vertices_gjk = get_point_list_list(cell_vertices)\n",
    "    center_vertices_gjk = get_point_list_list(np.expand_dims(centers, axis=-2))"
   ]
  },
  {
   "cell_type": "code",
   "execution_count": null,
   "metadata": {},
   "outputs": [],
   "source": [
    "print(gtimer)"
   ]
  },
  {
   "cell_type": "code",
   "execution_count": null,
   "metadata": {},
   "outputs": [],
   "source": [
    "gtimer.reset()\n",
    "sqrt3 = np.sqrt(3)\n",
    "LCmax = L_CELL*sqrt3/2\n",
    "Qdict = crob.home_dict\n",
    "with gtimer.block(\"full\"):\n",
    "    for gtem in gscene:\n",
    "#         if gtem in gtems_robot or not gtem.collision:\n",
    "#             continue\n",
    "        with gtimer.block(\"centers\"):\n",
    "            Tgtem = SE3_inv(gtem.get_tf(Qdict))\n",
    "            centers_loc = np.abs(np.matmul(centers, Tgtem[:3,:3].transpose())+Tgtem[:3,3])\n",
    "        if gtem.gtype == GEOTYPE.BOX and np.sum(np.abs(gtem.rpy))<1e-5:\n",
    "            with gtimer.block(\"right box\"):\n",
    "                dist_list = np.max(centers_loc - np.divide(gtem.dims,2) - L_CELL, axis=-1)\n",
    "                cell_idx_occupy = np.where(dist_list < 1e-3)[0]\n",
    "                continue\n",
    "        with gtimer.block(\"calc_center_dist\"):\n",
    "            dist_list = np.max(centers_loc - np.divide(gtem.dims,2) - LCmax, axis=-1)\n",
    "            idx_candi = np.where(dist_list<0)[0]\n",
    "        with gtimer.block(\"calc_points\"):\n",
    "            gtem_verts, gtem_radius = gtem.get_vertice_radius_from(Qdict)\n",
    "        with gtimer.block(\"get_point_gjk\"):\n",
    "            gtem_verts_gjk = get_point_list(gtem_verts)\n",
    "        with gtimer.block(\"get_distance_gjk\"):\n",
    "            cell_idx_occupy = []\n",
    "            for idx in idx_candi:\n",
    "                cell_candi = cell_vertices_gjk[idx]\n",
    "                center_v_candi = center_vertices_gjk[idx]\n",
    "                if ((get_gjk_distance(cell_candi, gtem_verts_gjk) - gtem_radius < 1e-4)):\n",
    "                    cell_idx_occupy.append(idx)\n",
    "#                 if ((get_gjk_distance(gtem_verts_gjk, center_v_candi) - gtem_radius - L_CELL/2 < 1e-4) or \n",
    "#                     (get_gjk_distance(cell_candi, gtem_verts_gjk) - gtem_radius < 1e-4)):\n",
    "#                     cell_idx_occupy.append(idx)\n",
    "print(gtimer)"
   ]
  }
 ],
 "metadata": {
  "kernelspec": {
   "display_name": "Python 2",
   "language": "python",
   "name": "python2"
  },
  "language_info": {
   "codemirror_mode": {
    "name": "ipython",
    "version": 2
   },
   "file_extension": ".py",
   "mimetype": "text/x-python",
   "name": "python",
   "nbconvert_exporter": "python",
   "pygments_lexer": "ipython2",
   "version": "2.7.17"
  }
 },
 "nbformat": 4,
 "nbformat_minor": 2
}
