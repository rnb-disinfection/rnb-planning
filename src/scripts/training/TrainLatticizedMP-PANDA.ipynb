{
 "cells": [
  {
   "cell_type": "markdown",
   "metadata": {},
   "source": [
    "## 수정사항\n",
    "#### 2021.06.06\n",
    "* T_ej는 마지막 조인트 각도에 영향을 받음, 하지만 Q는 unkown이므로 특정하는게 불가능, T_ee로 전부 새로 학습할 것."
   ]
  },
  {
   "cell_type": "code",
   "execution_count": 1,
   "metadata": {},
   "outputs": [],
   "source": [
    "from tensorflow.compat.v1 import ConfigProto\n",
    "from tensorflow.compat.v1 import InteractiveSession\n",
    "\n",
    "config = ConfigProto()\n",
    "config.gpu_options.allow_growth = True\n",
    "session = InteractiveSession(config=config)"
   ]
  },
  {
   "cell_type": "code",
   "execution_count": 2,
   "metadata": {},
   "outputs": [],
   "source": [
    "import os\n",
    "import shutil\n",
    "import random\n",
    "PROJ_DIR = os.environ[\"RNB_PLANNING_DIR\"]\n",
    "os.chdir(os.path.join(PROJ_DIR, \"src\"))\n",
    "\n",
    "from pkg.utils.utils_python3 import *\n",
    "from pkg.planning.filtering.lattice_model.data_utils import *\n",
    "\n",
    "DATA_PATH = os.path.join(PROJ_DIR, \"data\")\n",
    "LAT_DATA_PATH = os.path.join(DATA_PATH, \"latticized\")\n",
    "MODEL_PATH = os.path.join(PROJ_DIR, \"model\")\n",
    "LAT_MODEL_PATH = os.path.join(MODEL_PATH,\"latticized\")\n",
    "try_mkdir(MODEL_PATH)\n",
    "try_mkdir(LAT_MODEL_PATH)\n",
    "GRASP_FOLDER = \"grasp\"\n",
    "ARM10_FOLDER = \"arm_10\"\n",
    "ARM05_FOLDER = \"arm_05\"\n",
    "FULLS_FOLDER = \"full_scene\""
   ]
  },
  {
   "cell_type": "code",
   "execution_count": 3,
   "metadata": {},
   "outputs": [],
   "source": [
    "ROBOT_TYPE_NAME=\"panda\"\n",
    "ROBOT_DATA_ROOT = os.path.join(LAT_DATA_PATH, ROBOT_TYPE_NAME)\n",
    "ROBOT_DATA_ROOT_FAILMORE = ROBOT_DATA_ROOT+\"-failmore\"\n",
    "ROBOT_MODEL_ROOT =  os.path.join(LAT_MODEL_PATH, ROBOT_TYPE_NAME)\n",
    "ARM_FOLDER = ARM10_FOLDER"
   ]
  },
  {
   "cell_type": "code",
   "execution_count": 4,
   "metadata": {},
   "outputs": [
    {
     "name": "stdout",
     "output_type": "stream",
     "text": [
      "['20210920-194311', '20210920-233941', '20210921-032259', '20210921-072543', '20210921-111615', '20210921-150638', '20210921-192001', '20210921-232015', '20210922-033134', '20210922-074138']\n",
      "['20210922-113744', '20210922-153855', '20210922-193840', '20210922-233844', '20210923-040005']\n",
      "['20211003-121041', '20211003-123042', '20211003-124608', '20211003-130439', '20211003-132729', '20211003-134230', '20211003-140040', '20211003-141918', '20211003-144018', '20211003-150523']\n",
      "['20211003-152628', '20211003-154656', '20211003-160916', '20211003-162800', '20211003-164854']\n"
     ]
    }
   ],
   "source": [
    "dataset_list = sorted(os.listdir(ROBOT_DATA_ROOT))\n",
    "DATASET_TRAIN_FILTERED = dataset_list[:10]\n",
    "DATASET_TEST_FILTERED = dataset_list[10:15]\n",
    "print(DATASET_TRAIN_FILTERED)\n",
    "print(DATASET_TEST_FILTERED)\n",
    "\n",
    "dataset_list_fails = sorted([folder for folder \n",
    "                             in os.listdir(ROBOT_DATA_ROOT_FAILMORE) \n",
    "                             if not folder.startswith(\".\")])\n",
    "DATASET_TRAIN_FAILMORE = dataset_list_fails[:10]\n",
    "DATASET_TEST_FAILMORE = dataset_list_fails[10:15]\n",
    "print(DATASET_TRAIN_FAILMORE)\n",
    "print(DATASET_TEST_FAILMORE)"
   ]
  },
  {
   "cell_type": "code",
   "execution_count": 5,
   "metadata": {},
   "outputs": [
    {
     "name": "stdout",
     "output_type": "stream",
     "text": [
      "train set: 10003\n",
      "test set: 5000\n",
      "train fail set: 10026\n",
      "test fail set: 5025\n"
     ]
    }
   ],
   "source": [
    "data_pairs_train_filtered = []\n",
    "for dataset in DATASET_TRAIN_FILTERED:\n",
    "    file_list = sorted(os.listdir(os.path.join(ROBOT_DATA_ROOT, dataset, GRASP_FOLDER)))\n",
    "    for file in file_list:\n",
    "        data_pairs_train_filtered.append((os.path.join(ROBOT_DATA_ROOT, dataset, GRASP_FOLDER, file), \n",
    "                                 os.path.join(ROBOT_DATA_ROOT, dataset, ARM_FOLDER, file)))\n",
    "print(\"train set: {}\".format(len(data_pairs_train_filtered)))        \n",
    "        \n",
    "        \n",
    "data_pairs_test_filtered = []\n",
    "for dataset in DATASET_TEST_FILTERED:\n",
    "    file_list = sorted(os.listdir(os.path.join(ROBOT_DATA_ROOT, dataset, GRASP_FOLDER)))\n",
    "    for file in file_list:\n",
    "        data_pairs_test_filtered.append((os.path.join(ROBOT_DATA_ROOT, dataset, GRASP_FOLDER, file), \n",
    "                                 os.path.join(ROBOT_DATA_ROOT, dataset, ARM_FOLDER, file)))\n",
    "print(\"test set: {}\".format(len(data_pairs_test_filtered)))        \n",
    "\n",
    "data_pairs_train_failmore = []\n",
    "for dataset in DATASET_TRAIN_FAILMORE:\n",
    "    file_list = sorted(os.listdir(os.path.join(ROBOT_DATA_ROOT_FAILMORE, dataset, GRASP_FOLDER)))\n",
    "    for file in file_list:\n",
    "        data_pairs_train_failmore.append((os.path.join(ROBOT_DATA_ROOT_FAILMORE, dataset, GRASP_FOLDER, file), \n",
    "                                 os.path.join(ROBOT_DATA_ROOT_FAILMORE, dataset, ARM_FOLDER, file)))\n",
    "print(\"train fail set: {}\".format(len(data_pairs_train_failmore)))        \n",
    "        \n",
    "        \n",
    "data_pairs_test_failmore = []\n",
    "for dataset in DATASET_TEST_FAILMORE:\n",
    "    file_list = sorted(os.listdir(os.path.join(ROBOT_DATA_ROOT_FAILMORE, dataset, GRASP_FOLDER)))\n",
    "    for file in file_list:\n",
    "        data_pairs_test_failmore.append((os.path.join(ROBOT_DATA_ROOT_FAILMORE, dataset, GRASP_FOLDER, file), \n",
    "                                 os.path.join(ROBOT_DATA_ROOT_FAILMORE, dataset, ARM_FOLDER, file)))\n",
    "print(\"test fail set: {}\".format(len(data_pairs_test_failmore)))        "
   ]
  },
  {
   "cell_type": "code",
   "execution_count": 6,
   "metadata": {},
   "outputs": [
    {
     "name": "stdout",
     "output_type": "stream",
     "text": [
      "=== mix data ===\n",
      "filtered success: 5000\n",
      "success from failmore: 0\n",
      "dataset fails: 5000\n",
      "dataset all: 10000\n",
      "filtered success: 2500\n",
      "success from failmore: 0\n",
      "dataset fails: 2500\n",
      "dataset all: 5000\n",
      "====================\n",
      "filtered data: 10000 / 5000\n",
      "failmore data: 10000 / 5000\n",
      "mixed data: 10000 / 5000\n"
     ]
    }
   ],
   "source": [
    "N_max_train = 10000\n",
    "N_max_test = 5000\n",
    "\n",
    "print(\"=== mix data ===\")\n",
    "data_pairs_train_mixed = mix_data_pairs(\n",
    "    data_pairs_train_filtered, data_pairs_train_failmore, N_max_train)\n",
    "data_pairs_test_mixed = mix_data_pairs(\n",
    "    data_pairs_test_filtered, data_pairs_test_failmore, N_max_test)\n",
    "\n",
    "data_pairs_train_filtered = data_pairs_train_filtered[:N_max_train]\n",
    "data_pairs_test_filtered = data_pairs_test_filtered[:N_max_test]\n",
    "data_pairs_train_failmore = data_pairs_train_failmore[:N_max_train]\n",
    "data_pairs_test_failmore = data_pairs_test_failmore[:N_max_test]\n",
    "\n",
    "print(\"=\"*20)\n",
    "print(\"filtered data: {} / {}\".format(\n",
    "    len(data_pairs_train_filtered), \n",
    "    len(data_pairs_test_filtered)))\n",
    "print(\"failmore data: {} / {}\".format(\n",
    "    len(data_pairs_train_failmore), \n",
    "    len(data_pairs_test_failmore)))\n",
    "print(\"mixed data: {} / {}\".format(\n",
    "    len(data_pairs_train_mixed), \n",
    "    len(data_pairs_test_mixed)))"
   ]
  },
  {
   "cell_type": "code",
   "execution_count": null,
   "metadata": {},
   "outputs": [],
   "source": []
  },
  {
   "cell_type": "markdown",
   "metadata": {},
   "source": [
    "## Train"
   ]
  },
  {
   "cell_type": "code",
   "execution_count": 7,
   "metadata": {},
   "outputs": [],
   "source": [
    "from pkg.planning.filtering.lattice_model.lattice_model import *\n",
    "\n",
    "# Create an instance of the model\n",
    "model = ResNetModelTP()\n",
    "\n",
    "loss_object = tf.keras.losses.BinaryCrossentropy()\n",
    "optimizer = tf.keras.optimizers.Adam()\n",
    "\n",
    "train_loss = tf.keras.metrics.Mean(name='train_loss')\n",
    "train_accuracy = tf.keras.metrics.BinaryAccuracy(name='train_accuracy')\n",
    "@tf.function\n",
    "def train_step(images, labels):\n",
    "    with tf.GradientTape() as tape:\n",
    "        # training=True is only needed if there are layers with different\n",
    "        # behavior during training versus inference (e.g. Dropout).\n",
    "        predictions = model(images, training=True)\n",
    "        loss = loss_object(labels, predictions)\n",
    "    gradients = tape.gradient(loss, model.trainable_variables)\n",
    "    optimizer.apply_gradients(zip(gradients, model.trainable_variables))\n",
    "\n",
    "    train_loss(loss)\n",
    "    train_accuracy(labels, predictions)\n",
    "    \n",
    "\n",
    "test_loss = tf.keras.metrics.Mean(name='test_loss')\n",
    "test_accuracy = tf.keras.metrics.BinaryAccuracy(name='test_accuracy')\n",
    "@tf.function\n",
    "def test_step(images, labels):\n",
    "    # training=False is only needed if there are layers with different\n",
    "    # behavior during training versus inference (e.g. Dropout).\n",
    "    predictions = model(images, training=False)\n",
    "    t_loss = loss_object(labels, predictions)\n",
    "\n",
    "    test_loss(t_loss)\n",
    "    test_accuracy(labels, predictions)\n",
    "\n",
    "    \n",
    "def train_script(data_pairs_train, data_pairs_test, robot_model_root,\n",
    "                 EPOCHS_S=0, EPOCHS_E=15, BATCH_SIZE=16, LOG_STEP=100):\n",
    "    current_time = get_now()\n",
    "    logpath = os.path.join(robot_model_root, current_time)\n",
    "    try_mkdir(logpath)\n",
    "    train_log_dir = os.path.join(logpath, 'train')\n",
    "    test_log_dir = os.path.join(logpath, 'test')\n",
    "    model_log_dir = os.path.join(logpath, 'model_{}/')\n",
    "    train_summary_writer = tf.summary.create_file_writer(train_log_dir)\n",
    "    test_summary_writer = tf.summary.create_file_writer(test_log_dir)\n",
    "    shutil.copy(os.path.join(\n",
    "        PROJ_DIR,'src', 'pkg','planning','filtering','lattice_model','lattice_model.py' ), logpath)\n",
    "    print(f'Log path: {logpath}')\n",
    "    \n",
    "    N_train = len(data_pairs_train)\n",
    "    N_test = len(data_pairs_test)\n",
    "    random.shuffle(data_pairs_test)\n",
    "    res_list = []\n",
    "    \n",
    "    for epoch in range(EPOCHS_S, EPOCHS_E):\n",
    "        # Reset the metrics at the start of the next epoch\n",
    "        train_loss.reset_states()\n",
    "        train_accuracy.reset_states()\n",
    "        test_loss.reset_states()\n",
    "        test_accuracy.reset_states()\n",
    "\n",
    "        random.shuffle(data_pairs_train)\n",
    "        i_step = 0\n",
    "        data_batch, label_batch = [], []\n",
    "        for data_pair in data_pairs_train:\n",
    "            i_step += 1\n",
    "            grasp_img, arm_img, rh_mask, label = load_data(data_pair)\n",
    "            data_batch.append([grasp_img, arm_img, rh_mask])\n",
    "            label_batch.append(label)\n",
    "            if i_step%BATCH_SIZE==0:\n",
    "                grasp_img_batch = np.array([grasp_img for grasp_img, arm_img, rh_mask in data_batch])\n",
    "                arm_img_batch = np.array([arm_img for grasp_img, arm_img, rh_mask in data_batch])\n",
    "                rh_mask_batch = np.array([rh_mask for grasp_img, arm_img, rh_mask in data_batch])\n",
    "                label_batch = np.array(label_batch, dtype=np.int)\n",
    "                train_step([grasp_img_batch, arm_img_batch, rh_mask_batch], label_batch)\n",
    "                data_batch, label_batch = [], []\n",
    "            if i_step%LOG_STEP==0:\n",
    "                print(\"train step - {}/{}        \".format(i_step, N_train), end = '\\r')\n",
    "        with train_summary_writer.as_default():\n",
    "            tf.summary.scalar('loss', train_loss.result(), step=epoch)\n",
    "            tf.summary.scalar('accuracy', train_accuracy.result(), step=epoch)\n",
    "\n",
    "        i_step = 0\n",
    "        data_batch, label_batch = [], []\n",
    "        for data_pair in data_pairs_test:\n",
    "            i_step += 1\n",
    "            grasp_img, arm_img, rh_mask, label = load_data(data_pair)\n",
    "            data_batch.append([grasp_img, arm_img, rh_mask])\n",
    "            label_batch.append(label)\n",
    "            if i_step%BATCH_SIZE==0:\n",
    "                grasp_img_batch = np.array([grasp_img for grasp_img, arm_img, rh_mask in data_batch])\n",
    "                arm_img_batch = np.array([arm_img for grasp_img, arm_img, rh_mask in data_batch])\n",
    "                rh_mask_batch = np.array([rh_mask for grasp_img, arm_img, rh_mask in data_batch])\n",
    "                label_batch = np.array(label_batch, dtype=np.int)\n",
    "                test_step([grasp_img_batch, arm_img_batch, rh_mask_batch], label_batch)\n",
    "                data_batch, label_batch = [], []\n",
    "            if i_step%LOG_STEP==0:\n",
    "                print(\"test step - {}/{}        \".format(i_step, N_test), end = '\\r')\n",
    "        with test_summary_writer.as_default():\n",
    "            tf.summary.scalar('loss', test_loss.result(), step=epoch)\n",
    "            tf.summary.scalar('accuracy', test_accuracy.result(), step=epoch)\n",
    "\n",
    "        model.save(model_log_dir.format(epoch + 1))\n",
    "\n",
    "        print(\"\")\n",
    "        print(\"=================================================================\")\n",
    "        print(\n",
    "            f'Epoch {epoch + 1}, '\n",
    "            f'Loss: {train_loss.result()}, '\n",
    "            f'Accuracy: {train_accuracy.result() * 100}, '\n",
    "            f'Test Loss: {test_loss.result()}, '\n",
    "            f'Test Accuracy: {test_accuracy.result() * 100}'\n",
    "        )\n",
    "        print(\"=================================================================\")\n",
    "        print(\"\")\n",
    "        res_list.append((float(test_accuracy.result())*100, float(test_loss.result())))\n",
    "    return res_list"
   ]
  },
  {
   "cell_type": "markdown",
   "metadata": {},
   "source": [
    "## train filtered data"
   ]
  },
  {
   "cell_type": "code",
   "execution_count": 8,
   "metadata": {
    "scrolled": false
   },
   "outputs": [
    {
     "name": "stdout",
     "output_type": "stream",
     "text": [
      "Log path: /home/rnb/Projects/rnb-planning/model/latticized/panda-filtered/20211004-024301\n",
      "test step - 5000/5000           \r"
     ]
    },
    {
     "name": "stderr",
     "output_type": "stream",
     "text": [
      "WARNING:absl:Found untraced functions such as conv1_layer_call_and_return_conditional_losses, conv1_layer_call_fn, activation_layer_call_and_return_conditional_losses, activation_layer_call_fn, conv_block3d_layer_call_and_return_conditional_losses while saving (showing 5 of 1360). These functions will not be directly callable after loading.\n"
     ]
    },
    {
     "name": "stdout",
     "output_type": "stream",
     "text": [
      "INFO:tensorflow:Assets written to: /home/rnb/Projects/rnb-planning/model/latticized/panda-filtered/20211004-024301/model_1/assets\n"
     ]
    },
    {
     "name": "stderr",
     "output_type": "stream",
     "text": [
      "INFO:tensorflow:Assets written to: /home/rnb/Projects/rnb-planning/model/latticized/panda-filtered/20211004-024301/model_1/assets\n",
      "/home/rnb/.local/lib/python3.6/site-packages/keras/utils/generic_utils.py:497: CustomMaskWarning: Custom mask layers require a config and must override get_config. When loading, the custom mask layer must be passed to the custom_objects argument.\n",
      "  category=CustomMaskWarning)\n"
     ]
    },
    {
     "name": "stdout",
     "output_type": "stream",
     "text": [
      "\n",
      "=================================================================\n",
      "Epoch 1, Loss: 0.4142005443572998, Accuracy: 82.75499725341797, Test Loss: 0.4340701997280121, Test Accuracy: 85.29647827148438\n",
      "=================================================================\n",
      "\n",
      "test step - 5000/5000           \r"
     ]
    },
    {
     "name": "stderr",
     "output_type": "stream",
     "text": [
      "WARNING:absl:Found untraced functions such as conv1_layer_call_and_return_conditional_losses, conv1_layer_call_fn, activation_layer_call_and_return_conditional_losses, activation_layer_call_fn, conv_block3d_layer_call_and_return_conditional_losses while saving (showing 5 of 1360). These functions will not be directly callable after loading.\n"
     ]
    },
    {
     "name": "stdout",
     "output_type": "stream",
     "text": [
      "INFO:tensorflow:Assets written to: /home/rnb/Projects/rnb-planning/model/latticized/panda-filtered/20211004-024301/model_2/assets\n"
     ]
    },
    {
     "name": "stderr",
     "output_type": "stream",
     "text": [
      "INFO:tensorflow:Assets written to: /home/rnb/Projects/rnb-planning/model/latticized/panda-filtered/20211004-024301/model_2/assets\n",
      "/home/rnb/.local/lib/python3.6/site-packages/keras/utils/generic_utils.py:497: CustomMaskWarning: Custom mask layers require a config and must override get_config. When loading, the custom mask layer must be passed to the custom_objects argument.\n",
      "  category=CustomMaskWarning)\n"
     ]
    },
    {
     "name": "stdout",
     "output_type": "stream",
     "text": [
      "\n",
      "=================================================================\n",
      "Epoch 2, Loss: 0.3457460105419159, Accuracy: 85.91500091552734, Test Loss: 0.32546132802963257, Test Accuracy: 86.338134765625\n",
      "=================================================================\n",
      "\n",
      "test step - 5000/5000           \r"
     ]
    },
    {
     "name": "stderr",
     "output_type": "stream",
     "text": [
      "WARNING:absl:Found untraced functions such as conv1_layer_call_and_return_conditional_losses, conv1_layer_call_fn, activation_layer_call_and_return_conditional_losses, activation_layer_call_fn, conv_block3d_layer_call_and_return_conditional_losses while saving (showing 5 of 1360). These functions will not be directly callable after loading.\n"
     ]
    },
    {
     "name": "stdout",
     "output_type": "stream",
     "text": [
      "INFO:tensorflow:Assets written to: /home/rnb/Projects/rnb-planning/model/latticized/panda-filtered/20211004-024301/model_3/assets\n"
     ]
    },
    {
     "name": "stderr",
     "output_type": "stream",
     "text": [
      "INFO:tensorflow:Assets written to: /home/rnb/Projects/rnb-planning/model/latticized/panda-filtered/20211004-024301/model_3/assets\n",
      "/home/rnb/.local/lib/python3.6/site-packages/keras/utils/generic_utils.py:497: CustomMaskWarning: Custom mask layers require a config and must override get_config. When loading, the custom mask layer must be passed to the custom_objects argument.\n",
      "  category=CustomMaskWarning)\n"
     ]
    },
    {
     "name": "stdout",
     "output_type": "stream",
     "text": [
      "\n",
      "=================================================================\n",
      "Epoch 3, Loss: 0.32519984245300293, Accuracy: 87.11500549316406, Test Loss: 0.3347206711769104, Test Accuracy: 86.71875\n",
      "=================================================================\n",
      "\n",
      "test step - 5000/5000           \r"
     ]
    },
    {
     "name": "stderr",
     "output_type": "stream",
     "text": [
      "WARNING:absl:Found untraced functions such as conv1_layer_call_and_return_conditional_losses, conv1_layer_call_fn, activation_layer_call_and_return_conditional_losses, activation_layer_call_fn, conv_block3d_layer_call_and_return_conditional_losses while saving (showing 5 of 1360). These functions will not be directly callable after loading.\n"
     ]
    },
    {
     "name": "stdout",
     "output_type": "stream",
     "text": [
      "INFO:tensorflow:Assets written to: /home/rnb/Projects/rnb-planning/model/latticized/panda-filtered/20211004-024301/model_4/assets\n"
     ]
    },
    {
     "name": "stderr",
     "output_type": "stream",
     "text": [
      "INFO:tensorflow:Assets written to: /home/rnb/Projects/rnb-planning/model/latticized/panda-filtered/20211004-024301/model_4/assets\n",
      "/home/rnb/.local/lib/python3.6/site-packages/keras/utils/generic_utils.py:497: CustomMaskWarning: Custom mask layers require a config and must override get_config. When loading, the custom mask layer must be passed to the custom_objects argument.\n",
      "  category=CustomMaskWarning)\n"
     ]
    },
    {
     "name": "stdout",
     "output_type": "stream",
     "text": [
      "\n",
      "=================================================================\n",
      "Epoch 4, Loss: 0.31254881620407104, Accuracy: 88.02999877929688, Test Loss: 0.3426034450531006, Test Accuracy: 86.89903259277344\n",
      "=================================================================\n",
      "\n",
      "test step - 5000/5000           \r"
     ]
    },
    {
     "name": "stderr",
     "output_type": "stream",
     "text": [
      "WARNING:absl:Found untraced functions such as conv1_layer_call_and_return_conditional_losses, conv1_layer_call_fn, activation_layer_call_and_return_conditional_losses, activation_layer_call_fn, conv_block3d_layer_call_and_return_conditional_losses while saving (showing 5 of 1360). These functions will not be directly callable after loading.\n"
     ]
    },
    {
     "name": "stdout",
     "output_type": "stream",
     "text": [
      "INFO:tensorflow:Assets written to: /home/rnb/Projects/rnb-planning/model/latticized/panda-filtered/20211004-024301/model_5/assets\n"
     ]
    },
    {
     "name": "stderr",
     "output_type": "stream",
     "text": [
      "INFO:tensorflow:Assets written to: /home/rnb/Projects/rnb-planning/model/latticized/panda-filtered/20211004-024301/model_5/assets\n",
      "/home/rnb/.local/lib/python3.6/site-packages/keras/utils/generic_utils.py:497: CustomMaskWarning: Custom mask layers require a config and must override get_config. When loading, the custom mask layer must be passed to the custom_objects argument.\n",
      "  category=CustomMaskWarning)\n"
     ]
    },
    {
     "name": "stdout",
     "output_type": "stream",
     "text": [
      "\n",
      "=================================================================\n",
      "Epoch 5, Loss: 0.2990196645259857, Accuracy: 87.81999969482422, Test Loss: 0.3195456862449646, Test Accuracy: 86.75881958007812\n",
      "=================================================================\n",
      "\n",
      "test step - 5000/5000           \r"
     ]
    },
    {
     "name": "stderr",
     "output_type": "stream",
     "text": [
      "WARNING:absl:Found untraced functions such as conv1_layer_call_and_return_conditional_losses, conv1_layer_call_fn, activation_layer_call_and_return_conditional_losses, activation_layer_call_fn, conv_block3d_layer_call_and_return_conditional_losses while saving (showing 5 of 1360). These functions will not be directly callable after loading.\n"
     ]
    },
    {
     "name": "stdout",
     "output_type": "stream",
     "text": [
      "INFO:tensorflow:Assets written to: /home/rnb/Projects/rnb-planning/model/latticized/panda-filtered/20211004-024301/model_6/assets\n"
     ]
    },
    {
     "name": "stderr",
     "output_type": "stream",
     "text": [
      "INFO:tensorflow:Assets written to: /home/rnb/Projects/rnb-planning/model/latticized/panda-filtered/20211004-024301/model_6/assets\n",
      "/home/rnb/.local/lib/python3.6/site-packages/keras/utils/generic_utils.py:497: CustomMaskWarning: Custom mask layers require a config and must override get_config. When loading, the custom mask layer must be passed to the custom_objects argument.\n",
      "  category=CustomMaskWarning)\n"
     ]
    },
    {
     "name": "stdout",
     "output_type": "stream",
     "text": [
      "\n",
      "=================================================================\n",
      "Epoch 6, Loss: 0.2904602587223053, Accuracy: 88.79000091552734, Test Loss: 0.31013303995132446, Test Accuracy: 86.97917175292969\n",
      "=================================================================\n",
      "\n",
      "test step - 5000/5000           \r"
     ]
    },
    {
     "name": "stderr",
     "output_type": "stream",
     "text": [
      "WARNING:absl:Found untraced functions such as conv1_layer_call_and_return_conditional_losses, conv1_layer_call_fn, activation_layer_call_and_return_conditional_losses, activation_layer_call_fn, conv_block3d_layer_call_and_return_conditional_losses while saving (showing 5 of 1360). These functions will not be directly callable after loading.\n"
     ]
    },
    {
     "name": "stdout",
     "output_type": "stream",
     "text": [
      "INFO:tensorflow:Assets written to: /home/rnb/Projects/rnb-planning/model/latticized/panda-filtered/20211004-024301/model_7/assets\n"
     ]
    },
    {
     "name": "stderr",
     "output_type": "stream",
     "text": [
      "INFO:tensorflow:Assets written to: /home/rnb/Projects/rnb-planning/model/latticized/panda-filtered/20211004-024301/model_7/assets\n",
      "/home/rnb/.local/lib/python3.6/site-packages/keras/utils/generic_utils.py:497: CustomMaskWarning: Custom mask layers require a config and must override get_config. When loading, the custom mask layer must be passed to the custom_objects argument.\n",
      "  category=CustomMaskWarning)\n"
     ]
    },
    {
     "name": "stdout",
     "output_type": "stream",
     "text": [
      "\n",
      "=================================================================\n",
      "Epoch 7, Loss: 0.2778923213481903, Accuracy: 89.00499725341797, Test Loss: 0.32049137353897095, Test Accuracy: 86.56851196289062\n",
      "=================================================================\n",
      "\n",
      "test step - 5000/5000           \r"
     ]
    },
    {
     "name": "stderr",
     "output_type": "stream",
     "text": [
      "WARNING:absl:Found untraced functions such as conv1_layer_call_and_return_conditional_losses, conv1_layer_call_fn, activation_layer_call_and_return_conditional_losses, activation_layer_call_fn, conv_block3d_layer_call_and_return_conditional_losses while saving (showing 5 of 1360). These functions will not be directly callable after loading.\n"
     ]
    },
    {
     "name": "stdout",
     "output_type": "stream",
     "text": [
      "INFO:tensorflow:Assets written to: /home/rnb/Projects/rnb-planning/model/latticized/panda-filtered/20211004-024301/model_8/assets\n"
     ]
    },
    {
     "name": "stderr",
     "output_type": "stream",
     "text": [
      "INFO:tensorflow:Assets written to: /home/rnb/Projects/rnb-planning/model/latticized/panda-filtered/20211004-024301/model_8/assets\n",
      "/home/rnb/.local/lib/python3.6/site-packages/keras/utils/generic_utils.py:497: CustomMaskWarning: Custom mask layers require a config and must override get_config. When loading, the custom mask layer must be passed to the custom_objects argument.\n",
      "  category=CustomMaskWarning)\n"
     ]
    },
    {
     "name": "stdout",
     "output_type": "stream",
     "text": [
      "\n",
      "=================================================================\n",
      "Epoch 8, Loss: 0.2635290324687958, Accuracy: 89.43499755859375, Test Loss: 0.3312426209449768, Test Accuracy: 86.5584945678711\n",
      "=================================================================\n",
      "\n",
      "test step - 5000/5000           \r"
     ]
    },
    {
     "name": "stderr",
     "output_type": "stream",
     "text": [
      "WARNING:absl:Found untraced functions such as conv1_layer_call_and_return_conditional_losses, conv1_layer_call_fn, activation_layer_call_and_return_conditional_losses, activation_layer_call_fn, conv_block3d_layer_call_and_return_conditional_losses while saving (showing 5 of 1360). These functions will not be directly callable after loading.\n"
     ]
    },
    {
     "name": "stdout",
     "output_type": "stream",
     "text": [
      "INFO:tensorflow:Assets written to: /home/rnb/Projects/rnb-planning/model/latticized/panda-filtered/20211004-024301/model_9/assets\n"
     ]
    },
    {
     "name": "stderr",
     "output_type": "stream",
     "text": [
      "INFO:tensorflow:Assets written to: /home/rnb/Projects/rnb-planning/model/latticized/panda-filtered/20211004-024301/model_9/assets\n",
      "/home/rnb/.local/lib/python3.6/site-packages/keras/utils/generic_utils.py:497: CustomMaskWarning: Custom mask layers require a config and must override get_config. When loading, the custom mask layer must be passed to the custom_objects argument.\n",
      "  category=CustomMaskWarning)\n"
     ]
    },
    {
     "name": "stdout",
     "output_type": "stream",
     "text": [
      "\n",
      "=================================================================\n",
      "Epoch 9, Loss: 0.24679867923259735, Accuracy: 90.43000030517578, Test Loss: 0.31558388471603394, Test Accuracy: 87.34976196289062\n",
      "=================================================================\n",
      "\n",
      "test step - 5000/5000           \r"
     ]
    },
    {
     "name": "stderr",
     "output_type": "stream",
     "text": [
      "WARNING:absl:Found untraced functions such as conv1_layer_call_and_return_conditional_losses, conv1_layer_call_fn, activation_layer_call_and_return_conditional_losses, activation_layer_call_fn, conv_block3d_layer_call_and_return_conditional_losses while saving (showing 5 of 1360). These functions will not be directly callable after loading.\n"
     ]
    },
    {
     "name": "stdout",
     "output_type": "stream",
     "text": [
      "INFO:tensorflow:Assets written to: /home/rnb/Projects/rnb-planning/model/latticized/panda-filtered/20211004-024301/model_10/assets\n"
     ]
    },
    {
     "name": "stderr",
     "output_type": "stream",
     "text": [
      "INFO:tensorflow:Assets written to: /home/rnb/Projects/rnb-planning/model/latticized/panda-filtered/20211004-024301/model_10/assets\n",
      "/home/rnb/.local/lib/python3.6/site-packages/keras/utils/generic_utils.py:497: CustomMaskWarning: Custom mask layers require a config and must override get_config. When loading, the custom mask layer must be passed to the custom_objects argument.\n",
      "  category=CustomMaskWarning)\n"
     ]
    },
    {
     "name": "stdout",
     "output_type": "stream",
     "text": [
      "\n",
      "=================================================================\n",
      "Epoch 10, Loss: 0.23009267449378967, Accuracy: 91.0999984741211, Test Loss: 0.3126811385154724, Test Accuracy: 87.46995544433594\n",
      "=================================================================\n",
      "\n",
      "test step - 5000/5000           \r"
     ]
    },
    {
     "name": "stderr",
     "output_type": "stream",
     "text": [
      "WARNING:absl:Found untraced functions such as conv1_layer_call_and_return_conditional_losses, conv1_layer_call_fn, activation_layer_call_and_return_conditional_losses, activation_layer_call_fn, conv_block3d_layer_call_and_return_conditional_losses while saving (showing 5 of 1360). These functions will not be directly callable after loading.\n"
     ]
    },
    {
     "name": "stdout",
     "output_type": "stream",
     "text": [
      "INFO:tensorflow:Assets written to: /home/rnb/Projects/rnb-planning/model/latticized/panda-filtered/20211004-024301/model_11/assets\n"
     ]
    },
    {
     "name": "stderr",
     "output_type": "stream",
     "text": [
      "INFO:tensorflow:Assets written to: /home/rnb/Projects/rnb-planning/model/latticized/panda-filtered/20211004-024301/model_11/assets\n",
      "/home/rnb/.local/lib/python3.6/site-packages/keras/utils/generic_utils.py:497: CustomMaskWarning: Custom mask layers require a config and must override get_config. When loading, the custom mask layer must be passed to the custom_objects argument.\n",
      "  category=CustomMaskWarning)\n"
     ]
    },
    {
     "name": "stdout",
     "output_type": "stream",
     "text": [
      "\n",
      "=================================================================\n",
      "Epoch 11, Loss: 0.21328529715538025, Accuracy: 92.1199951171875, Test Loss: 0.35259485244750977, Test Accuracy: 86.66867065429688\n",
      "=================================================================\n",
      "\n",
      "test step - 5000/5000           \r"
     ]
    },
    {
     "name": "stderr",
     "output_type": "stream",
     "text": [
      "WARNING:absl:Found untraced functions such as conv1_layer_call_and_return_conditional_losses, conv1_layer_call_fn, activation_layer_call_and_return_conditional_losses, activation_layer_call_fn, conv_block3d_layer_call_and_return_conditional_losses while saving (showing 5 of 1360). These functions will not be directly callable after loading.\n"
     ]
    },
    {
     "name": "stdout",
     "output_type": "stream",
     "text": [
      "INFO:tensorflow:Assets written to: /home/rnb/Projects/rnb-planning/model/latticized/panda-filtered/20211004-024301/model_12/assets\n"
     ]
    },
    {
     "name": "stderr",
     "output_type": "stream",
     "text": [
      "INFO:tensorflow:Assets written to: /home/rnb/Projects/rnb-planning/model/latticized/panda-filtered/20211004-024301/model_12/assets\n",
      "/home/rnb/.local/lib/python3.6/site-packages/keras/utils/generic_utils.py:497: CustomMaskWarning: Custom mask layers require a config and must override get_config. When loading, the custom mask layer must be passed to the custom_objects argument.\n",
      "  category=CustomMaskWarning)\n"
     ]
    },
    {
     "name": "stdout",
     "output_type": "stream",
     "text": [
      "\n",
      "=================================================================\n",
      "Epoch 12, Loss: 0.1916835904121399, Accuracy: 92.81500244140625, Test Loss: 0.31820008158683777, Test Accuracy: 86.71875\n",
      "=================================================================\n",
      "\n",
      "test step - 5000/5000           \r"
     ]
    },
    {
     "name": "stderr",
     "output_type": "stream",
     "text": [
      "WARNING:absl:Found untraced functions such as conv1_layer_call_and_return_conditional_losses, conv1_layer_call_fn, activation_layer_call_and_return_conditional_losses, activation_layer_call_fn, conv_block3d_layer_call_and_return_conditional_losses while saving (showing 5 of 1360). These functions will not be directly callable after loading.\n"
     ]
    },
    {
     "name": "stdout",
     "output_type": "stream",
     "text": [
      "INFO:tensorflow:Assets written to: /home/rnb/Projects/rnb-planning/model/latticized/panda-filtered/20211004-024301/model_13/assets\n"
     ]
    },
    {
     "name": "stderr",
     "output_type": "stream",
     "text": [
      "INFO:tensorflow:Assets written to: /home/rnb/Projects/rnb-planning/model/latticized/panda-filtered/20211004-024301/model_13/assets\n",
      "/home/rnb/.local/lib/python3.6/site-packages/keras/utils/generic_utils.py:497: CustomMaskWarning: Custom mask layers require a config and must override get_config. When loading, the custom mask layer must be passed to the custom_objects argument.\n",
      "  category=CustomMaskWarning)\n"
     ]
    },
    {
     "name": "stdout",
     "output_type": "stream",
     "text": [
      "\n",
      "=================================================================\n",
      "Epoch 13, Loss: 0.16457074880599976, Accuracy: 94.00499725341797, Test Loss: 0.32275375723838806, Test Accuracy: 86.86898803710938\n",
      "=================================================================\n",
      "\n",
      "test step - 5000/5000           \r"
     ]
    },
    {
     "name": "stderr",
     "output_type": "stream",
     "text": [
      "WARNING:absl:Found untraced functions such as conv1_layer_call_and_return_conditional_losses, conv1_layer_call_fn, activation_layer_call_and_return_conditional_losses, activation_layer_call_fn, conv_block3d_layer_call_and_return_conditional_losses while saving (showing 5 of 1360). These functions will not be directly callable after loading.\n"
     ]
    },
    {
     "name": "stdout",
     "output_type": "stream",
     "text": [
      "INFO:tensorflow:Assets written to: /home/rnb/Projects/rnb-planning/model/latticized/panda-filtered/20211004-024301/model_14/assets\n"
     ]
    },
    {
     "name": "stderr",
     "output_type": "stream",
     "text": [
      "INFO:tensorflow:Assets written to: /home/rnb/Projects/rnb-planning/model/latticized/panda-filtered/20211004-024301/model_14/assets\n",
      "/home/rnb/.local/lib/python3.6/site-packages/keras/utils/generic_utils.py:497: CustomMaskWarning: Custom mask layers require a config and must override get_config. When loading, the custom mask layer must be passed to the custom_objects argument.\n",
      "  category=CustomMaskWarning)\n"
     ]
    },
    {
     "name": "stdout",
     "output_type": "stream",
     "text": [
      "\n",
      "=================================================================\n",
      "Epoch 14, Loss: 0.14081703126430511, Accuracy: 94.93000030517578, Test Loss: 0.36209410429000854, Test Accuracy: 85.29647827148438\n",
      "=================================================================\n",
      "\n",
      "test step - 5000/5000           \r"
     ]
    },
    {
     "name": "stderr",
     "output_type": "stream",
     "text": [
      "WARNING:absl:Found untraced functions such as conv1_layer_call_and_return_conditional_losses, conv1_layer_call_fn, activation_layer_call_and_return_conditional_losses, activation_layer_call_fn, conv_block3d_layer_call_and_return_conditional_losses while saving (showing 5 of 1360). These functions will not be directly callable after loading.\n"
     ]
    },
    {
     "name": "stdout",
     "output_type": "stream",
     "text": [
      "INFO:tensorflow:Assets written to: /home/rnb/Projects/rnb-planning/model/latticized/panda-filtered/20211004-024301/model_15/assets\n"
     ]
    },
    {
     "name": "stderr",
     "output_type": "stream",
     "text": [
      "INFO:tensorflow:Assets written to: /home/rnb/Projects/rnb-planning/model/latticized/panda-filtered/20211004-024301/model_15/assets\n",
      "/home/rnb/.local/lib/python3.6/site-packages/keras/utils/generic_utils.py:497: CustomMaskWarning: Custom mask layers require a config and must override get_config. When loading, the custom mask layer must be passed to the custom_objects argument.\n",
      "  category=CustomMaskWarning)\n"
     ]
    },
    {
     "name": "stdout",
     "output_type": "stream",
     "text": [
      "\n",
      "=================================================================\n",
      "Epoch 15, Loss: 0.11828561872243881, Accuracy: 95.88999938964844, Test Loss: 0.3579045534133911, Test Accuracy: 86.08773803710938\n",
      "=================================================================\n",
      "\n",
      "test step - 5000/5000           \r"
     ]
    },
    {
     "name": "stderr",
     "output_type": "stream",
     "text": [
      "WARNING:absl:Found untraced functions such as conv1_layer_call_and_return_conditional_losses, conv1_layer_call_fn, activation_layer_call_and_return_conditional_losses, activation_layer_call_fn, conv_block3d_layer_call_and_return_conditional_losses while saving (showing 5 of 1360). These functions will not be directly callable after loading.\n"
     ]
    },
    {
     "name": "stdout",
     "output_type": "stream",
     "text": [
      "INFO:tensorflow:Assets written to: /home/rnb/Projects/rnb-planning/model/latticized/panda-filtered/20211004-024301/model_16/assets\n"
     ]
    },
    {
     "name": "stderr",
     "output_type": "stream",
     "text": [
      "INFO:tensorflow:Assets written to: /home/rnb/Projects/rnb-planning/model/latticized/panda-filtered/20211004-024301/model_16/assets\n",
      "/home/rnb/.local/lib/python3.6/site-packages/keras/utils/generic_utils.py:497: CustomMaskWarning: Custom mask layers require a config and must override get_config. When loading, the custom mask layer must be passed to the custom_objects argument.\n",
      "  category=CustomMaskWarning)\n"
     ]
    },
    {
     "name": "stdout",
     "output_type": "stream",
     "text": [
      "\n",
      "=================================================================\n",
      "Epoch 16, Loss: 0.10768750309944153, Accuracy: 96.10000610351562, Test Loss: 0.4937809109687805, Test Accuracy: 85.37660217285156\n",
      "=================================================================\n",
      "\n",
      "test step - 5000/5000           \r"
     ]
    },
    {
     "name": "stderr",
     "output_type": "stream",
     "text": [
      "WARNING:absl:Found untraced functions such as conv1_layer_call_and_return_conditional_losses, conv1_layer_call_fn, activation_layer_call_and_return_conditional_losses, activation_layer_call_fn, conv_block3d_layer_call_and_return_conditional_losses while saving (showing 5 of 1360). These functions will not be directly callable after loading.\n"
     ]
    },
    {
     "name": "stdout",
     "output_type": "stream",
     "text": [
      "INFO:tensorflow:Assets written to: /home/rnb/Projects/rnb-planning/model/latticized/panda-filtered/20211004-024301/model_17/assets\n"
     ]
    },
    {
     "name": "stderr",
     "output_type": "stream",
     "text": [
      "INFO:tensorflow:Assets written to: /home/rnb/Projects/rnb-planning/model/latticized/panda-filtered/20211004-024301/model_17/assets\n",
      "/home/rnb/.local/lib/python3.6/site-packages/keras/utils/generic_utils.py:497: CustomMaskWarning: Custom mask layers require a config and must override get_config. When loading, the custom mask layer must be passed to the custom_objects argument.\n",
      "  category=CustomMaskWarning)\n"
     ]
    },
    {
     "name": "stdout",
     "output_type": "stream",
     "text": [
      "\n",
      "=================================================================\n",
      "Epoch 17, Loss: 0.08653010427951813, Accuracy: 96.81999969482422, Test Loss: 0.481351763010025, Test Accuracy: 83.89422607421875\n",
      "=================================================================\n",
      "\n",
      "test step - 5000/5000           \r"
     ]
    },
    {
     "name": "stderr",
     "output_type": "stream",
     "text": [
      "WARNING:absl:Found untraced functions such as conv1_layer_call_and_return_conditional_losses, conv1_layer_call_fn, activation_layer_call_and_return_conditional_losses, activation_layer_call_fn, conv_block3d_layer_call_and_return_conditional_losses while saving (showing 5 of 1360). These functions will not be directly callable after loading.\n"
     ]
    },
    {
     "name": "stdout",
     "output_type": "stream",
     "text": [
      "INFO:tensorflow:Assets written to: /home/rnb/Projects/rnb-planning/model/latticized/panda-filtered/20211004-024301/model_18/assets\n"
     ]
    },
    {
     "name": "stderr",
     "output_type": "stream",
     "text": [
      "INFO:tensorflow:Assets written to: /home/rnb/Projects/rnb-planning/model/latticized/panda-filtered/20211004-024301/model_18/assets\n",
      "/home/rnb/.local/lib/python3.6/site-packages/keras/utils/generic_utils.py:497: CustomMaskWarning: Custom mask layers require a config and must override get_config. When loading, the custom mask layer must be passed to the custom_objects argument.\n",
      "  category=CustomMaskWarning)\n"
     ]
    },
    {
     "name": "stdout",
     "output_type": "stream",
     "text": [
      "\n",
      "=================================================================\n",
      "Epoch 18, Loss: 0.08302947133779526, Accuracy: 97.05000305175781, Test Loss: 0.38592296838760376, Test Accuracy: 86.10777282714844\n",
      "=================================================================\n",
      "\n",
      "test step - 5000/5000           \r"
     ]
    },
    {
     "name": "stderr",
     "output_type": "stream",
     "text": [
      "WARNING:absl:Found untraced functions such as conv1_layer_call_and_return_conditional_losses, conv1_layer_call_fn, activation_layer_call_and_return_conditional_losses, activation_layer_call_fn, conv_block3d_layer_call_and_return_conditional_losses while saving (showing 5 of 1360). These functions will not be directly callable after loading.\n"
     ]
    },
    {
     "name": "stdout",
     "output_type": "stream",
     "text": [
      "INFO:tensorflow:Assets written to: /home/rnb/Projects/rnb-planning/model/latticized/panda-filtered/20211004-024301/model_19/assets\n"
     ]
    },
    {
     "name": "stderr",
     "output_type": "stream",
     "text": [
      "INFO:tensorflow:Assets written to: /home/rnb/Projects/rnb-planning/model/latticized/panda-filtered/20211004-024301/model_19/assets\n",
      "/home/rnb/.local/lib/python3.6/site-packages/keras/utils/generic_utils.py:497: CustomMaskWarning: Custom mask layers require a config and must override get_config. When loading, the custom mask layer must be passed to the custom_objects argument.\n",
      "  category=CustomMaskWarning)\n"
     ]
    },
    {
     "name": "stdout",
     "output_type": "stream",
     "text": [
      "\n",
      "=================================================================\n",
      "Epoch 19, Loss: 0.09017126262187958, Accuracy: 96.97000122070312, Test Loss: 0.4752272963523865, Test Accuracy: 86.02764892578125\n",
      "=================================================================\n",
      "\n",
      "test step - 5000/5000           \r"
     ]
    },
    {
     "name": "stderr",
     "output_type": "stream",
     "text": [
      "WARNING:absl:Found untraced functions such as conv1_layer_call_and_return_conditional_losses, conv1_layer_call_fn, activation_layer_call_and_return_conditional_losses, activation_layer_call_fn, conv_block3d_layer_call_and_return_conditional_losses while saving (showing 5 of 1360). These functions will not be directly callable after loading.\n"
     ]
    },
    {
     "name": "stdout",
     "output_type": "stream",
     "text": [
      "INFO:tensorflow:Assets written to: /home/rnb/Projects/rnb-planning/model/latticized/panda-filtered/20211004-024301/model_20/assets\n"
     ]
    },
    {
     "name": "stderr",
     "output_type": "stream",
     "text": [
      "INFO:tensorflow:Assets written to: /home/rnb/Projects/rnb-planning/model/latticized/panda-filtered/20211004-024301/model_20/assets\n",
      "/home/rnb/.local/lib/python3.6/site-packages/keras/utils/generic_utils.py:497: CustomMaskWarning: Custom mask layers require a config and must override get_config. When loading, the custom mask layer must be passed to the custom_objects argument.\n",
      "  category=CustomMaskWarning)\n"
     ]
    },
    {
     "name": "stdout",
     "output_type": "stream",
     "text": [
      "\n",
      "=================================================================\n",
      "Epoch 20, Loss: 0.06805729866027832, Accuracy: 97.65999603271484, Test Loss: 0.45358923077583313, Test Accuracy: 84.16465759277344\n",
      "=================================================================\n",
      "\n",
      "/home/rnb/Projects/rnb-planning/model/latticized/panda-filtered acc/loss list:\n",
      "1: 85.3 %, 0.434 \n",
      "2: 86.34 %, 0.325 \n",
      "3: 86.72 %, 0.335 \n",
      "4: 86.9 %, 0.343 \n",
      "5: 86.76 %, 0.32 \n",
      "6: 86.98 %, 0.31 \n",
      "7: 86.57 %, 0.32 \n",
      "8: 86.56 %, 0.331 \n",
      "9: 87.35 %, 0.316 \n",
      "10: 87.47 %, 0.313 \n",
      "11: 86.67 %, 0.353 \n",
      "12: 86.72 %, 0.318 \n",
      "13: 86.87 %, 0.323 \n",
      "14: 85.3 %, 0.362 \n",
      "15: 86.09 %, 0.358 \n",
      "16: 85.38 %, 0.494 \n",
      "17: 83.89 %, 0.481 \n",
      "18: 86.11 %, 0.386 \n",
      "19: 86.03 %, 0.475 \n",
      "20: 84.16 %, 0.454 \n"
     ]
    }
   ],
   "source": [
    "ROBOT_MODEL_ROOT_DIV = \"{}-filtered\".format(ROBOT_MODEL_ROOT)\n",
    "data_pairs_train_div, data_pairs_test_div = \\\n",
    "        data_pairs_train_filtered, data_pairs_test_filtered\n",
    "\n",
    "res_list = train_script(data_pairs_train_div, data_pairs_test_div, ROBOT_MODEL_ROOT_DIV,\n",
    "                        EPOCHS_S=0, EPOCHS_E=20)\n",
    "print(\"{} acc/loss list:\".format(ROBOT_MODEL_ROOT_DIV))\n",
    "for i_r, res in enumerate(res_list):\n",
    "    print(\"{}: {} %, {} \".format(i_r+1, np.round(res[0],2), np.round(res[1], 3)))"
   ]
  },
  {
   "cell_type": "markdown",
   "metadata": {},
   "source": [
    "```\n",
    "16: 83.57 %, 1.115 \n",
    "17: 87.54 %, 0.303 \n",
    "18: 87.14 %, 0.319 \n",
    "19: 86.62 %, 0.338 \n",
    "20: 86.24 %, 0.373 \n",
    "```"
   ]
  },
  {
   "cell_type": "markdown",
   "metadata": {},
   "source": [
    "## failmore data"
   ]
  },
  {
   "cell_type": "code",
   "execution_count": 9,
   "metadata": {},
   "outputs": [
    {
     "name": "stdout",
     "output_type": "stream",
     "text": [
      "Log path: /home/rnb/Projects/rnb-planning/model/latticized/panda-failmore/20211004-030343\n",
      "test step - 5000/5000           \r"
     ]
    },
    {
     "name": "stderr",
     "output_type": "stream",
     "text": [
      "WARNING:absl:Found untraced functions such as conv1_layer_call_and_return_conditional_losses, conv1_layer_call_fn, activation_layer_call_and_return_conditional_losses, activation_layer_call_fn, conv_block3d_layer_call_and_return_conditional_losses while saving (showing 5 of 1360). These functions will not be directly callable after loading.\n"
     ]
    },
    {
     "name": "stdout",
     "output_type": "stream",
     "text": [
      "INFO:tensorflow:Assets written to: /home/rnb/Projects/rnb-planning/model/latticized/panda-failmore/20211004-030343/model_1/assets\n"
     ]
    },
    {
     "name": "stderr",
     "output_type": "stream",
     "text": [
      "INFO:tensorflow:Assets written to: /home/rnb/Projects/rnb-planning/model/latticized/panda-failmore/20211004-030343/model_1/assets\n",
      "/home/rnb/.local/lib/python3.6/site-packages/keras/utils/generic_utils.py:497: CustomMaskWarning: Custom mask layers require a config and must override get_config. When loading, the custom mask layer must be passed to the custom_objects argument.\n",
      "  category=CustomMaskWarning)\n"
     ]
    },
    {
     "name": "stdout",
     "output_type": "stream",
     "text": [
      "\n",
      "=================================================================\n",
      "Epoch 1, Loss: 0.3022109568119049, Accuracy: 91.28999328613281, Test Loss: 0.16595174372196198, Test Accuracy: 95.91346740722656\n",
      "=================================================================\n",
      "\n",
      "test step - 5000/5000           \r"
     ]
    },
    {
     "name": "stderr",
     "output_type": "stream",
     "text": [
      "WARNING:absl:Found untraced functions such as conv1_layer_call_and_return_conditional_losses, conv1_layer_call_fn, activation_layer_call_and_return_conditional_losses, activation_layer_call_fn, conv_block3d_layer_call_and_return_conditional_losses while saving (showing 5 of 1360). These functions will not be directly callable after loading.\n"
     ]
    },
    {
     "name": "stdout",
     "output_type": "stream",
     "text": [
      "INFO:tensorflow:Assets written to: /home/rnb/Projects/rnb-planning/model/latticized/panda-failmore/20211004-030343/model_2/assets\n"
     ]
    },
    {
     "name": "stderr",
     "output_type": "stream",
     "text": [
      "INFO:tensorflow:Assets written to: /home/rnb/Projects/rnb-planning/model/latticized/panda-failmore/20211004-030343/model_2/assets\n",
      "/home/rnb/.local/lib/python3.6/site-packages/keras/utils/generic_utils.py:497: CustomMaskWarning: Custom mask layers require a config and must override get_config. When loading, the custom mask layer must be passed to the custom_objects argument.\n",
      "  category=CustomMaskWarning)\n"
     ]
    },
    {
     "name": "stdout",
     "output_type": "stream",
     "text": [
      "\n",
      "=================================================================\n",
      "Epoch 2, Loss: 0.1142507940530777, Accuracy: 96.08000183105469, Test Loss: 0.09988482296466827, Test Accuracy: 96.23397827148438\n",
      "=================================================================\n",
      "\n",
      "test step - 5000/5000           \r"
     ]
    },
    {
     "name": "stderr",
     "output_type": "stream",
     "text": [
      "WARNING:absl:Found untraced functions such as conv1_layer_call_and_return_conditional_losses, conv1_layer_call_fn, activation_layer_call_and_return_conditional_losses, activation_layer_call_fn, conv_block3d_layer_call_and_return_conditional_losses while saving (showing 5 of 1360). These functions will not be directly callable after loading.\n"
     ]
    },
    {
     "name": "stdout",
     "output_type": "stream",
     "text": [
      "INFO:tensorflow:Assets written to: /home/rnb/Projects/rnb-planning/model/latticized/panda-failmore/20211004-030343/model_3/assets\n"
     ]
    },
    {
     "name": "stderr",
     "output_type": "stream",
     "text": [
      "INFO:tensorflow:Assets written to: /home/rnb/Projects/rnb-planning/model/latticized/panda-failmore/20211004-030343/model_3/assets\n",
      "/home/rnb/.local/lib/python3.6/site-packages/keras/utils/generic_utils.py:497: CustomMaskWarning: Custom mask layers require a config and must override get_config. When loading, the custom mask layer must be passed to the custom_objects argument.\n",
      "  category=CustomMaskWarning)\n"
     ]
    },
    {
     "name": "stdout",
     "output_type": "stream",
     "text": [
      "\n",
      "=================================================================\n",
      "Epoch 3, Loss: 0.07973586767911911, Accuracy: 96.59500122070312, Test Loss: 0.07597921788692474, Test Accuracy: 97.00520324707031\n",
      "=================================================================\n",
      "\n",
      "test step - 5000/5000           \r"
     ]
    },
    {
     "name": "stderr",
     "output_type": "stream",
     "text": [
      "WARNING:absl:Found untraced functions such as conv1_layer_call_and_return_conditional_losses, conv1_layer_call_fn, activation_layer_call_and_return_conditional_losses, activation_layer_call_fn, conv_block3d_layer_call_and_return_conditional_losses while saving (showing 5 of 1360). These functions will not be directly callable after loading.\n"
     ]
    },
    {
     "name": "stdout",
     "output_type": "stream",
     "text": [
      "INFO:tensorflow:Assets written to: /home/rnb/Projects/rnb-planning/model/latticized/panda-failmore/20211004-030343/model_4/assets\n"
     ]
    },
    {
     "name": "stderr",
     "output_type": "stream",
     "text": [
      "INFO:tensorflow:Assets written to: /home/rnb/Projects/rnb-planning/model/latticized/panda-failmore/20211004-030343/model_4/assets\n",
      "/home/rnb/.local/lib/python3.6/site-packages/keras/utils/generic_utils.py:497: CustomMaskWarning: Custom mask layers require a config and must override get_config. When loading, the custom mask layer must be passed to the custom_objects argument.\n",
      "  category=CustomMaskWarning)\n"
     ]
    },
    {
     "name": "stdout",
     "output_type": "stream",
     "text": [
      "\n",
      "=================================================================\n",
      "Epoch 4, Loss: 0.06816105544567108, Accuracy: 96.70500183105469, Test Loss: 0.07397045940160751, Test Accuracy: 96.79487609863281\n",
      "=================================================================\n",
      "\n",
      "test step - 5000/5000           \r"
     ]
    },
    {
     "name": "stderr",
     "output_type": "stream",
     "text": [
      "WARNING:absl:Found untraced functions such as conv1_layer_call_and_return_conditional_losses, conv1_layer_call_fn, activation_layer_call_and_return_conditional_losses, activation_layer_call_fn, conv_block3d_layer_call_and_return_conditional_losses while saving (showing 5 of 1360). These functions will not be directly callable after loading.\n"
     ]
    },
    {
     "name": "stdout",
     "output_type": "stream",
     "text": [
      "INFO:tensorflow:Assets written to: /home/rnb/Projects/rnb-planning/model/latticized/panda-failmore/20211004-030343/model_5/assets\n"
     ]
    },
    {
     "name": "stderr",
     "output_type": "stream",
     "text": [
      "INFO:tensorflow:Assets written to: /home/rnb/Projects/rnb-planning/model/latticized/panda-failmore/20211004-030343/model_5/assets\n",
      "/home/rnb/.local/lib/python3.6/site-packages/keras/utils/generic_utils.py:497: CustomMaskWarning: Custom mask layers require a config and must override get_config. When loading, the custom mask layer must be passed to the custom_objects argument.\n",
      "  category=CustomMaskWarning)\n"
     ]
    },
    {
     "name": "stdout",
     "output_type": "stream",
     "text": [
      "\n",
      "=================================================================\n",
      "Epoch 5, Loss: 0.06419792771339417, Accuracy: 97.05999755859375, Test Loss: 0.07757904380559921, Test Accuracy: 96.27403259277344\n",
      "=================================================================\n",
      "\n",
      "test step - 5000/5000           \r"
     ]
    },
    {
     "name": "stderr",
     "output_type": "stream",
     "text": [
      "WARNING:absl:Found untraced functions such as conv1_layer_call_and_return_conditional_losses, conv1_layer_call_fn, activation_layer_call_and_return_conditional_losses, activation_layer_call_fn, conv_block3d_layer_call_and_return_conditional_losses while saving (showing 5 of 1360). These functions will not be directly callable after loading.\n"
     ]
    },
    {
     "name": "stdout",
     "output_type": "stream",
     "text": [
      "INFO:tensorflow:Assets written to: /home/rnb/Projects/rnb-planning/model/latticized/panda-failmore/20211004-030343/model_6/assets\n"
     ]
    },
    {
     "name": "stderr",
     "output_type": "stream",
     "text": [
      "INFO:tensorflow:Assets written to: /home/rnb/Projects/rnb-planning/model/latticized/panda-failmore/20211004-030343/model_6/assets\n",
      "/home/rnb/.local/lib/python3.6/site-packages/keras/utils/generic_utils.py:497: CustomMaskWarning: Custom mask layers require a config and must override get_config. When loading, the custom mask layer must be passed to the custom_objects argument.\n",
      "  category=CustomMaskWarning)\n"
     ]
    },
    {
     "name": "stdout",
     "output_type": "stream",
     "text": [
      "\n",
      "=================================================================\n",
      "Epoch 6, Loss: 0.0586400032043457, Accuracy: 97.3499984741211, Test Loss: 0.08078629523515701, Test Accuracy: 96.98517608642578\n",
      "=================================================================\n",
      "\n",
      "test step - 5000/5000           \r"
     ]
    },
    {
     "name": "stderr",
     "output_type": "stream",
     "text": [
      "WARNING:absl:Found untraced functions such as conv1_layer_call_and_return_conditional_losses, conv1_layer_call_fn, activation_layer_call_and_return_conditional_losses, activation_layer_call_fn, conv_block3d_layer_call_and_return_conditional_losses while saving (showing 5 of 1360). These functions will not be directly callable after loading.\n"
     ]
    },
    {
     "name": "stdout",
     "output_type": "stream",
     "text": [
      "INFO:tensorflow:Assets written to: /home/rnb/Projects/rnb-planning/model/latticized/panda-failmore/20211004-030343/model_7/assets\n"
     ]
    },
    {
     "name": "stderr",
     "output_type": "stream",
     "text": [
      "INFO:tensorflow:Assets written to: /home/rnb/Projects/rnb-planning/model/latticized/panda-failmore/20211004-030343/model_7/assets\n",
      "/home/rnb/.local/lib/python3.6/site-packages/keras/utils/generic_utils.py:497: CustomMaskWarning: Custom mask layers require a config and must override get_config. When loading, the custom mask layer must be passed to the custom_objects argument.\n",
      "  category=CustomMaskWarning)\n"
     ]
    },
    {
     "name": "stdout",
     "output_type": "stream",
     "text": [
      "\n",
      "=================================================================\n",
      "Epoch 7, Loss: 0.05454850569367409, Accuracy: 97.68499755859375, Test Loss: 0.07981880009174347, Test Accuracy: 96.35417175292969\n",
      "=================================================================\n",
      "\n",
      "test step - 5000/5000           \r"
     ]
    },
    {
     "name": "stderr",
     "output_type": "stream",
     "text": [
      "WARNING:absl:Found untraced functions such as conv1_layer_call_and_return_conditional_losses, conv1_layer_call_fn, activation_layer_call_and_return_conditional_losses, activation_layer_call_fn, conv_block3d_layer_call_and_return_conditional_losses while saving (showing 5 of 1360). These functions will not be directly callable after loading.\n"
     ]
    },
    {
     "name": "stdout",
     "output_type": "stream",
     "text": [
      "INFO:tensorflow:Assets written to: /home/rnb/Projects/rnb-planning/model/latticized/panda-failmore/20211004-030343/model_8/assets\n"
     ]
    },
    {
     "name": "stderr",
     "output_type": "stream",
     "text": [
      "INFO:tensorflow:Assets written to: /home/rnb/Projects/rnb-planning/model/latticized/panda-failmore/20211004-030343/model_8/assets\n",
      "/home/rnb/.local/lib/python3.6/site-packages/keras/utils/generic_utils.py:497: CustomMaskWarning: Custom mask layers require a config and must override get_config. When loading, the custom mask layer must be passed to the custom_objects argument.\n",
      "  category=CustomMaskWarning)\n"
     ]
    },
    {
     "name": "stdout",
     "output_type": "stream",
     "text": [
      "\n",
      "=================================================================\n",
      "Epoch 8, Loss: 0.05174332112073898, Accuracy: 97.71500396728516, Test Loss: 0.09618480503559113, Test Accuracy: 95.46273803710938\n",
      "=================================================================\n",
      "\n",
      "test step - 5000/5000           \r"
     ]
    },
    {
     "name": "stderr",
     "output_type": "stream",
     "text": [
      "WARNING:absl:Found untraced functions such as conv1_layer_call_and_return_conditional_losses, conv1_layer_call_fn, activation_layer_call_and_return_conditional_losses, activation_layer_call_fn, conv_block3d_layer_call_and_return_conditional_losses while saving (showing 5 of 1360). These functions will not be directly callable after loading.\n"
     ]
    },
    {
     "name": "stdout",
     "output_type": "stream",
     "text": [
      "INFO:tensorflow:Assets written to: /home/rnb/Projects/rnb-planning/model/latticized/panda-failmore/20211004-030343/model_9/assets\n"
     ]
    },
    {
     "name": "stderr",
     "output_type": "stream",
     "text": [
      "INFO:tensorflow:Assets written to: /home/rnb/Projects/rnb-planning/model/latticized/panda-failmore/20211004-030343/model_9/assets\n",
      "/home/rnb/.local/lib/python3.6/site-packages/keras/utils/generic_utils.py:497: CustomMaskWarning: Custom mask layers require a config and must override get_config. When loading, the custom mask layer must be passed to the custom_objects argument.\n",
      "  category=CustomMaskWarning)\n"
     ]
    },
    {
     "name": "stdout",
     "output_type": "stream",
     "text": [
      "\n",
      "=================================================================\n",
      "Epoch 9, Loss: 0.05138126388192177, Accuracy: 97.8550033569336, Test Loss: 0.09216604381799698, Test Accuracy: 95.37259674072266\n",
      "=================================================================\n",
      "\n",
      "test step - 5000/5000           \r"
     ]
    },
    {
     "name": "stderr",
     "output_type": "stream",
     "text": [
      "WARNING:absl:Found untraced functions such as conv1_layer_call_and_return_conditional_losses, conv1_layer_call_fn, activation_layer_call_and_return_conditional_losses, activation_layer_call_fn, conv_block3d_layer_call_and_return_conditional_losses while saving (showing 5 of 1360). These functions will not be directly callable after loading.\n"
     ]
    },
    {
     "name": "stdout",
     "output_type": "stream",
     "text": [
      "INFO:tensorflow:Assets written to: /home/rnb/Projects/rnb-planning/model/latticized/panda-failmore/20211004-030343/model_10/assets\n"
     ]
    },
    {
     "name": "stderr",
     "output_type": "stream",
     "text": [
      "INFO:tensorflow:Assets written to: /home/rnb/Projects/rnb-planning/model/latticized/panda-failmore/20211004-030343/model_10/assets\n",
      "/home/rnb/.local/lib/python3.6/site-packages/keras/utils/generic_utils.py:497: CustomMaskWarning: Custom mask layers require a config and must override get_config. When loading, the custom mask layer must be passed to the custom_objects argument.\n",
      "  category=CustomMaskWarning)\n"
     ]
    },
    {
     "name": "stdout",
     "output_type": "stream",
     "text": [
      "\n",
      "=================================================================\n",
      "Epoch 10, Loss: 0.048259951174259186, Accuracy: 98.0250015258789, Test Loss: 0.08861376345157623, Test Accuracy: 96.15384674072266\n",
      "=================================================================\n",
      "\n",
      "test step - 5000/5000           \r"
     ]
    },
    {
     "name": "stderr",
     "output_type": "stream",
     "text": [
      "WARNING:absl:Found untraced functions such as conv1_layer_call_and_return_conditional_losses, conv1_layer_call_fn, activation_layer_call_and_return_conditional_losses, activation_layer_call_fn, conv_block3d_layer_call_and_return_conditional_losses while saving (showing 5 of 1360). These functions will not be directly callable after loading.\n"
     ]
    },
    {
     "name": "stdout",
     "output_type": "stream",
     "text": [
      "INFO:tensorflow:Assets written to: /home/rnb/Projects/rnb-planning/model/latticized/panda-failmore/20211004-030343/model_11/assets\n"
     ]
    },
    {
     "name": "stderr",
     "output_type": "stream",
     "text": [
      "INFO:tensorflow:Assets written to: /home/rnb/Projects/rnb-planning/model/latticized/panda-failmore/20211004-030343/model_11/assets\n",
      "/home/rnb/.local/lib/python3.6/site-packages/keras/utils/generic_utils.py:497: CustomMaskWarning: Custom mask layers require a config and must override get_config. When loading, the custom mask layer must be passed to the custom_objects argument.\n",
      "  category=CustomMaskWarning)\n"
     ]
    },
    {
     "name": "stdout",
     "output_type": "stream",
     "text": [
      "\n",
      "=================================================================\n",
      "Epoch 11, Loss: 0.044584423303604126, Accuracy: 98.1050033569336, Test Loss: 0.1024451032280922, Test Accuracy: 96.52444458007812\n",
      "=================================================================\n",
      "\n",
      "test step - 5000/5000           \r"
     ]
    },
    {
     "name": "stderr",
     "output_type": "stream",
     "text": [
      "WARNING:absl:Found untraced functions such as conv1_layer_call_and_return_conditional_losses, conv1_layer_call_fn, activation_layer_call_and_return_conditional_losses, activation_layer_call_fn, conv_block3d_layer_call_and_return_conditional_losses while saving (showing 5 of 1360). These functions will not be directly callable after loading.\n"
     ]
    },
    {
     "name": "stdout",
     "output_type": "stream",
     "text": [
      "INFO:tensorflow:Assets written to: /home/rnb/Projects/rnb-planning/model/latticized/panda-failmore/20211004-030343/model_12/assets\n"
     ]
    },
    {
     "name": "stderr",
     "output_type": "stream",
     "text": [
      "INFO:tensorflow:Assets written to: /home/rnb/Projects/rnb-planning/model/latticized/panda-failmore/20211004-030343/model_12/assets\n",
      "/home/rnb/.local/lib/python3.6/site-packages/keras/utils/generic_utils.py:497: CustomMaskWarning: Custom mask layers require a config and must override get_config. When loading, the custom mask layer must be passed to the custom_objects argument.\n",
      "  category=CustomMaskWarning)\n"
     ]
    },
    {
     "name": "stdout",
     "output_type": "stream",
     "text": [
      "\n",
      "=================================================================\n",
      "Epoch 12, Loss: 0.04241864010691643, Accuracy: 98.21500396728516, Test Loss: 0.09498964250087738, Test Accuracy: 96.79487609863281\n",
      "=================================================================\n",
      "\n",
      "test step - 5000/5000           \r"
     ]
    },
    {
     "name": "stderr",
     "output_type": "stream",
     "text": [
      "WARNING:absl:Found untraced functions such as conv1_layer_call_and_return_conditional_losses, conv1_layer_call_fn, activation_layer_call_and_return_conditional_losses, activation_layer_call_fn, conv_block3d_layer_call_and_return_conditional_losses while saving (showing 5 of 1360). These functions will not be directly callable after loading.\n"
     ]
    },
    {
     "name": "stdout",
     "output_type": "stream",
     "text": [
      "INFO:tensorflow:Assets written to: /home/rnb/Projects/rnb-planning/model/latticized/panda-failmore/20211004-030343/model_13/assets\n"
     ]
    },
    {
     "name": "stderr",
     "output_type": "stream",
     "text": [
      "INFO:tensorflow:Assets written to: /home/rnb/Projects/rnb-planning/model/latticized/panda-failmore/20211004-030343/model_13/assets\n",
      "/home/rnb/.local/lib/python3.6/site-packages/keras/utils/generic_utils.py:497: CustomMaskWarning: Custom mask layers require a config and must override get_config. When loading, the custom mask layer must be passed to the custom_objects argument.\n",
      "  category=CustomMaskWarning)\n"
     ]
    },
    {
     "name": "stdout",
     "output_type": "stream",
     "text": [
      "\n",
      "=================================================================\n",
      "Epoch 13, Loss: 0.040533918887376785, Accuracy: 98.39500427246094, Test Loss: 0.0943087711930275, Test Accuracy: 96.34414672851562\n",
      "=================================================================\n",
      "\n",
      "test step - 5000/5000           \r"
     ]
    },
    {
     "name": "stderr",
     "output_type": "stream",
     "text": [
      "WARNING:absl:Found untraced functions such as conv1_layer_call_and_return_conditional_losses, conv1_layer_call_fn, activation_layer_call_and_return_conditional_losses, activation_layer_call_fn, conv_block3d_layer_call_and_return_conditional_losses while saving (showing 5 of 1360). These functions will not be directly callable after loading.\n"
     ]
    },
    {
     "name": "stdout",
     "output_type": "stream",
     "text": [
      "INFO:tensorflow:Assets written to: /home/rnb/Projects/rnb-planning/model/latticized/panda-failmore/20211004-030343/model_14/assets\n"
     ]
    },
    {
     "name": "stderr",
     "output_type": "stream",
     "text": [
      "INFO:tensorflow:Assets written to: /home/rnb/Projects/rnb-planning/model/latticized/panda-failmore/20211004-030343/model_14/assets\n",
      "/home/rnb/.local/lib/python3.6/site-packages/keras/utils/generic_utils.py:497: CustomMaskWarning: Custom mask layers require a config and must override get_config. When loading, the custom mask layer must be passed to the custom_objects argument.\n",
      "  category=CustomMaskWarning)\n"
     ]
    },
    {
     "name": "stdout",
     "output_type": "stream",
     "text": [
      "\n",
      "=================================================================\n",
      "Epoch 14, Loss: 0.03967650607228279, Accuracy: 98.44499969482422, Test Loss: 0.08978459239006042, Test Accuracy: 96.70472717285156\n",
      "=================================================================\n",
      "\n",
      "test step - 5000/5000           \r"
     ]
    },
    {
     "name": "stderr",
     "output_type": "stream",
     "text": [
      "WARNING:absl:Found untraced functions such as conv1_layer_call_and_return_conditional_losses, conv1_layer_call_fn, activation_layer_call_and_return_conditional_losses, activation_layer_call_fn, conv_block3d_layer_call_and_return_conditional_losses while saving (showing 5 of 1360). These functions will not be directly callable after loading.\n"
     ]
    },
    {
     "name": "stdout",
     "output_type": "stream",
     "text": [
      "INFO:tensorflow:Assets written to: /home/rnb/Projects/rnb-planning/model/latticized/panda-failmore/20211004-030343/model_15/assets\n"
     ]
    },
    {
     "name": "stderr",
     "output_type": "stream",
     "text": [
      "INFO:tensorflow:Assets written to: /home/rnb/Projects/rnb-planning/model/latticized/panda-failmore/20211004-030343/model_15/assets\n",
      "/home/rnb/.local/lib/python3.6/site-packages/keras/utils/generic_utils.py:497: CustomMaskWarning: Custom mask layers require a config and must override get_config. When loading, the custom mask layer must be passed to the custom_objects argument.\n",
      "  category=CustomMaskWarning)\n"
     ]
    },
    {
     "name": "stdout",
     "output_type": "stream",
     "text": [
      "\n",
      "=================================================================\n",
      "Epoch 15, Loss: 0.03373090177774429, Accuracy: 98.73500061035156, Test Loss: 0.10578861087560654, Test Accuracy: 97.0352554321289\n",
      "=================================================================\n",
      "\n",
      "test step - 5000/5000           \r"
     ]
    },
    {
     "name": "stderr",
     "output_type": "stream",
     "text": [
      "WARNING:absl:Found untraced functions such as conv1_layer_call_and_return_conditional_losses, conv1_layer_call_fn, activation_layer_call_and_return_conditional_losses, activation_layer_call_fn, conv_block3d_layer_call_and_return_conditional_losses while saving (showing 5 of 1360). These functions will not be directly callable after loading.\n"
     ]
    },
    {
     "name": "stdout",
     "output_type": "stream",
     "text": [
      "INFO:tensorflow:Assets written to: /home/rnb/Projects/rnb-planning/model/latticized/panda-failmore/20211004-030343/model_16/assets\n"
     ]
    },
    {
     "name": "stderr",
     "output_type": "stream",
     "text": [
      "INFO:tensorflow:Assets written to: /home/rnb/Projects/rnb-planning/model/latticized/panda-failmore/20211004-030343/model_16/assets\n",
      "/home/rnb/.local/lib/python3.6/site-packages/keras/utils/generic_utils.py:497: CustomMaskWarning: Custom mask layers require a config and must override get_config. When loading, the custom mask layer must be passed to the custom_objects argument.\n",
      "  category=CustomMaskWarning)\n"
     ]
    },
    {
     "name": "stdout",
     "output_type": "stream",
     "text": [
      "\n",
      "=================================================================\n",
      "Epoch 16, Loss: 0.03242293372750282, Accuracy: 98.84500122070312, Test Loss: 0.10736818611621857, Test Accuracy: 96.89503479003906\n",
      "=================================================================\n",
      "\n",
      "test step - 5000/5000           \r"
     ]
    },
    {
     "name": "stderr",
     "output_type": "stream",
     "text": [
      "WARNING:absl:Found untraced functions such as conv1_layer_call_and_return_conditional_losses, conv1_layer_call_fn, activation_layer_call_and_return_conditional_losses, activation_layer_call_fn, conv_block3d_layer_call_and_return_conditional_losses while saving (showing 5 of 1360). These functions will not be directly callable after loading.\n"
     ]
    },
    {
     "name": "stdout",
     "output_type": "stream",
     "text": [
      "INFO:tensorflow:Assets written to: /home/rnb/Projects/rnb-planning/model/latticized/panda-failmore/20211004-030343/model_17/assets\n"
     ]
    },
    {
     "name": "stderr",
     "output_type": "stream",
     "text": [
      "INFO:tensorflow:Assets written to: /home/rnb/Projects/rnb-planning/model/latticized/panda-failmore/20211004-030343/model_17/assets\n",
      "/home/rnb/.local/lib/python3.6/site-packages/keras/utils/generic_utils.py:497: CustomMaskWarning: Custom mask layers require a config and must override get_config. When loading, the custom mask layer must be passed to the custom_objects argument.\n",
      "  category=CustomMaskWarning)\n"
     ]
    },
    {
     "name": "stdout",
     "output_type": "stream",
     "text": [
      "\n",
      "=================================================================\n",
      "Epoch 17, Loss: 0.03128420561552048, Accuracy: 98.86500549316406, Test Loss: 0.10163779556751251, Test Accuracy: 96.53445434570312\n",
      "=================================================================\n",
      "\n",
      "test step - 5000/5000           \r"
     ]
    },
    {
     "name": "stderr",
     "output_type": "stream",
     "text": [
      "WARNING:absl:Found untraced functions such as conv1_layer_call_and_return_conditional_losses, conv1_layer_call_fn, activation_layer_call_and_return_conditional_losses, activation_layer_call_fn, conv_block3d_layer_call_and_return_conditional_losses while saving (showing 5 of 1360). These functions will not be directly callable after loading.\n"
     ]
    },
    {
     "name": "stdout",
     "output_type": "stream",
     "text": [
      "INFO:tensorflow:Assets written to: /home/rnb/Projects/rnb-planning/model/latticized/panda-failmore/20211004-030343/model_18/assets\n"
     ]
    },
    {
     "name": "stderr",
     "output_type": "stream",
     "text": [
      "INFO:tensorflow:Assets written to: /home/rnb/Projects/rnb-planning/model/latticized/panda-failmore/20211004-030343/model_18/assets\n",
      "/home/rnb/.local/lib/python3.6/site-packages/keras/utils/generic_utils.py:497: CustomMaskWarning: Custom mask layers require a config and must override get_config. When loading, the custom mask layer must be passed to the custom_objects argument.\n",
      "  category=CustomMaskWarning)\n"
     ]
    },
    {
     "name": "stdout",
     "output_type": "stream",
     "text": [
      "\n",
      "=================================================================\n",
      "Epoch 18, Loss: 0.026172170415520668, Accuracy: 99.0999984741211, Test Loss: 0.1068250834941864, Test Accuracy: 97.02523803710938\n",
      "=================================================================\n",
      "\n",
      "test step - 5000/5000           \r"
     ]
    },
    {
     "name": "stderr",
     "output_type": "stream",
     "text": [
      "WARNING:absl:Found untraced functions such as conv1_layer_call_and_return_conditional_losses, conv1_layer_call_fn, activation_layer_call_and_return_conditional_losses, activation_layer_call_fn, conv_block3d_layer_call_and_return_conditional_losses while saving (showing 5 of 1360). These functions will not be directly callable after loading.\n"
     ]
    },
    {
     "name": "stdout",
     "output_type": "stream",
     "text": [
      "INFO:tensorflow:Assets written to: /home/rnb/Projects/rnb-planning/model/latticized/panda-failmore/20211004-030343/model_19/assets\n"
     ]
    },
    {
     "name": "stderr",
     "output_type": "stream",
     "text": [
      "INFO:tensorflow:Assets written to: /home/rnb/Projects/rnb-planning/model/latticized/panda-failmore/20211004-030343/model_19/assets\n",
      "/home/rnb/.local/lib/python3.6/site-packages/keras/utils/generic_utils.py:497: CustomMaskWarning: Custom mask layers require a config and must override get_config. When loading, the custom mask layer must be passed to the custom_objects argument.\n",
      "  category=CustomMaskWarning)\n"
     ]
    },
    {
     "name": "stdout",
     "output_type": "stream",
     "text": [
      "\n",
      "=================================================================\n",
      "Epoch 19, Loss: 0.019637124612927437, Accuracy: 99.4000015258789, Test Loss: 0.10061381012201309, Test Accuracy: 96.45433044433594\n",
      "=================================================================\n",
      "\n",
      "test step - 5000/5000           \r"
     ]
    },
    {
     "name": "stderr",
     "output_type": "stream",
     "text": [
      "WARNING:absl:Found untraced functions such as conv1_layer_call_and_return_conditional_losses, conv1_layer_call_fn, activation_layer_call_and_return_conditional_losses, activation_layer_call_fn, conv_block3d_layer_call_and_return_conditional_losses while saving (showing 5 of 1360). These functions will not be directly callable after loading.\n"
     ]
    },
    {
     "name": "stdout",
     "output_type": "stream",
     "text": [
      "INFO:tensorflow:Assets written to: /home/rnb/Projects/rnb-planning/model/latticized/panda-failmore/20211004-030343/model_20/assets\n"
     ]
    },
    {
     "name": "stderr",
     "output_type": "stream",
     "text": [
      "INFO:tensorflow:Assets written to: /home/rnb/Projects/rnb-planning/model/latticized/panda-failmore/20211004-030343/model_20/assets\n",
      "/home/rnb/.local/lib/python3.6/site-packages/keras/utils/generic_utils.py:497: CustomMaskWarning: Custom mask layers require a config and must override get_config. When loading, the custom mask layer must be passed to the custom_objects argument.\n",
      "  category=CustomMaskWarning)\n"
     ]
    },
    {
     "name": "stdout",
     "output_type": "stream",
     "text": [
      "\n",
      "=================================================================\n",
      "Epoch 20, Loss: 0.01980873942375183, Accuracy: 99.31999969482422, Test Loss: 0.11305000633001328, Test Accuracy: 96.85496520996094\n",
      "=================================================================\n",
      "\n",
      "/home/rnb/Projects/rnb-planning/model/latticized/panda-failmore acc/loss list:\n",
      "1: 95.91 %, 0.166 \n",
      "2: 96.23 %, 0.1 \n",
      "3: 97.01 %, 0.076 \n",
      "4: 96.79 %, 0.074 \n",
      "5: 96.27 %, 0.078 \n",
      "6: 96.99 %, 0.081 \n",
      "7: 96.35 %, 0.08 \n",
      "8: 95.46 %, 0.096 \n",
      "9: 95.37 %, 0.092 \n",
      "10: 96.15 %, 0.089 \n",
      "11: 96.52 %, 0.102 \n",
      "12: 96.79 %, 0.095 \n",
      "13: 96.34 %, 0.094 \n",
      "14: 96.7 %, 0.09 \n",
      "15: 97.04 %, 0.106 \n",
      "16: 96.9 %, 0.107 \n",
      "17: 96.53 %, 0.102 \n",
      "18: 97.03 %, 0.107 \n",
      "19: 96.45 %, 0.101 \n",
      "20: 96.85 %, 0.113 \n"
     ]
    }
   ],
   "source": [
    "ROBOT_MODEL_ROOT_DIV = \"{}-failmore\".format(ROBOT_MODEL_ROOT)\n",
    "data_pairs_train_div, data_pairs_test_div = \\\n",
    "        data_pairs_train_failmore, data_pairs_test_failmore\n",
    "\n",
    "res_list = train_script(data_pairs_train_div, data_pairs_test_div, ROBOT_MODEL_ROOT_DIV,\n",
    "                        EPOCHS_S=0, EPOCHS_E=20)\n",
    "print(\"{} acc/loss list:\".format(ROBOT_MODEL_ROOT_DIV))\n",
    "for i_r, res in enumerate(res_list):\n",
    "    print(\"{}: {} %, {} \".format(i_r+1, np.round(res[0],2), np.round(res[1], 3)))"
   ]
  },
  {
   "cell_type": "markdown",
   "metadata": {},
   "source": [
    "## balanced data"
   ]
  },
  {
   "cell_type": "code",
   "execution_count": 10,
   "metadata": {},
   "outputs": [
    {
     "name": "stdout",
     "output_type": "stream",
     "text": [
      "Log path: /home/rnb/Projects/rnb-planning/model/latticized/panda-balanced/20211004-032424\n",
      "test step - 5000/5000           \r"
     ]
    },
    {
     "name": "stderr",
     "output_type": "stream",
     "text": [
      "WARNING:absl:Found untraced functions such as conv1_layer_call_and_return_conditional_losses, conv1_layer_call_fn, activation_layer_call_and_return_conditional_losses, activation_layer_call_fn, conv_block3d_layer_call_and_return_conditional_losses while saving (showing 5 of 1360). These functions will not be directly callable after loading.\n"
     ]
    },
    {
     "name": "stdout",
     "output_type": "stream",
     "text": [
      "INFO:tensorflow:Assets written to: /home/rnb/Projects/rnb-planning/model/latticized/panda-balanced/20211004-032424/model_1/assets\n"
     ]
    },
    {
     "name": "stderr",
     "output_type": "stream",
     "text": [
      "INFO:tensorflow:Assets written to: /home/rnb/Projects/rnb-planning/model/latticized/panda-balanced/20211004-032424/model_1/assets\n",
      "/home/rnb/.local/lib/python3.6/site-packages/keras/utils/generic_utils.py:497: CustomMaskWarning: Custom mask layers require a config and must override get_config. When loading, the custom mask layer must be passed to the custom_objects argument.\n",
      "  category=CustomMaskWarning)\n"
     ]
    },
    {
     "name": "stdout",
     "output_type": "stream",
     "text": [
      "\n",
      "=================================================================\n",
      "Epoch 1, Loss: 0.1871277093887329, Accuracy: 94.22000122070312, Test Loss: 0.14328347146511078, Test Accuracy: 95.20232391357422\n",
      "=================================================================\n",
      "\n",
      "test step - 5000/5000           \r"
     ]
    },
    {
     "name": "stderr",
     "output_type": "stream",
     "text": [
      "WARNING:absl:Found untraced functions such as conv1_layer_call_and_return_conditional_losses, conv1_layer_call_fn, activation_layer_call_and_return_conditional_losses, activation_layer_call_fn, conv_block3d_layer_call_and_return_conditional_losses while saving (showing 5 of 1360). These functions will not be directly callable after loading.\n"
     ]
    },
    {
     "name": "stdout",
     "output_type": "stream",
     "text": [
      "INFO:tensorflow:Assets written to: /home/rnb/Projects/rnb-planning/model/latticized/panda-balanced/20211004-032424/model_2/assets\n"
     ]
    },
    {
     "name": "stderr",
     "output_type": "stream",
     "text": [
      "INFO:tensorflow:Assets written to: /home/rnb/Projects/rnb-planning/model/latticized/panda-balanced/20211004-032424/model_2/assets\n",
      "/home/rnb/.local/lib/python3.6/site-packages/keras/utils/generic_utils.py:497: CustomMaskWarning: Custom mask layers require a config and must override get_config. When loading, the custom mask layer must be passed to the custom_objects argument.\n",
      "  category=CustomMaskWarning)\n"
     ]
    },
    {
     "name": "stdout",
     "output_type": "stream",
     "text": [
      "\n",
      "=================================================================\n",
      "Epoch 2, Loss: 0.1242368295788765, Accuracy: 95.78499603271484, Test Loss: 0.19141393899917603, Test Accuracy: 94.96194458007812\n",
      "=================================================================\n",
      "\n",
      "test step - 5000/5000           \r"
     ]
    },
    {
     "name": "stderr",
     "output_type": "stream",
     "text": [
      "WARNING:absl:Found untraced functions such as conv1_layer_call_and_return_conditional_losses, conv1_layer_call_fn, activation_layer_call_and_return_conditional_losses, activation_layer_call_fn, conv_block3d_layer_call_and_return_conditional_losses while saving (showing 5 of 1360). These functions will not be directly callable after loading.\n"
     ]
    },
    {
     "name": "stdout",
     "output_type": "stream",
     "text": [
      "INFO:tensorflow:Assets written to: /home/rnb/Projects/rnb-planning/model/latticized/panda-balanced/20211004-032424/model_3/assets\n"
     ]
    },
    {
     "name": "stderr",
     "output_type": "stream",
     "text": [
      "INFO:tensorflow:Assets written to: /home/rnb/Projects/rnb-planning/model/latticized/panda-balanced/20211004-032424/model_3/assets\n",
      "/home/rnb/.local/lib/python3.6/site-packages/keras/utils/generic_utils.py:497: CustomMaskWarning: Custom mask layers require a config and must override get_config. When loading, the custom mask layer must be passed to the custom_objects argument.\n",
      "  category=CustomMaskWarning)\n"
     ]
    },
    {
     "name": "stdout",
     "output_type": "stream",
     "text": [
      "\n",
      "=================================================================\n",
      "Epoch 3, Loss: 0.07977712899446487, Accuracy: 97.38999938964844, Test Loss: 0.16643264889717102, Test Accuracy: 94.7616195678711\n",
      "=================================================================\n",
      "\n",
      "test step - 5000/5000           \r"
     ]
    },
    {
     "name": "stderr",
     "output_type": "stream",
     "text": [
      "WARNING:absl:Found untraced functions such as conv1_layer_call_and_return_conditional_losses, conv1_layer_call_fn, activation_layer_call_and_return_conditional_losses, activation_layer_call_fn, conv_block3d_layer_call_and_return_conditional_losses while saving (showing 5 of 1360). These functions will not be directly callable after loading.\n"
     ]
    },
    {
     "name": "stdout",
     "output_type": "stream",
     "text": [
      "INFO:tensorflow:Assets written to: /home/rnb/Projects/rnb-planning/model/latticized/panda-balanced/20211004-032424/model_4/assets\n"
     ]
    },
    {
     "name": "stderr",
     "output_type": "stream",
     "text": [
      "INFO:tensorflow:Assets written to: /home/rnb/Projects/rnb-planning/model/latticized/panda-balanced/20211004-032424/model_4/assets\n",
      "/home/rnb/.local/lib/python3.6/site-packages/keras/utils/generic_utils.py:497: CustomMaskWarning: Custom mask layers require a config and must override get_config. When loading, the custom mask layer must be passed to the custom_objects argument.\n",
      "  category=CustomMaskWarning)\n"
     ]
    },
    {
     "name": "stdout",
     "output_type": "stream",
     "text": [
      "\n",
      "=================================================================\n",
      "Epoch 4, Loss: 0.06254500895738602, Accuracy: 97.93499755859375, Test Loss: 0.16628840565681458, Test Accuracy: 95.16226196289062\n",
      "=================================================================\n",
      "\n",
      "test step - 5000/5000           \r"
     ]
    },
    {
     "name": "stderr",
     "output_type": "stream",
     "text": [
      "WARNING:absl:Found untraced functions such as conv1_layer_call_and_return_conditional_losses, conv1_layer_call_fn, activation_layer_call_and_return_conditional_losses, activation_layer_call_fn, conv_block3d_layer_call_and_return_conditional_losses while saving (showing 5 of 1360). These functions will not be directly callable after loading.\n"
     ]
    },
    {
     "name": "stdout",
     "output_type": "stream",
     "text": [
      "INFO:tensorflow:Assets written to: /home/rnb/Projects/rnb-planning/model/latticized/panda-balanced/20211004-032424/model_5/assets\n"
     ]
    },
    {
     "name": "stderr",
     "output_type": "stream",
     "text": [
      "INFO:tensorflow:Assets written to: /home/rnb/Projects/rnb-planning/model/latticized/panda-balanced/20211004-032424/model_5/assets\n",
      "/home/rnb/.local/lib/python3.6/site-packages/keras/utils/generic_utils.py:497: CustomMaskWarning: Custom mask layers require a config and must override get_config. When loading, the custom mask layer must be passed to the custom_objects argument.\n",
      "  category=CustomMaskWarning)\n"
     ]
    },
    {
     "name": "stdout",
     "output_type": "stream",
     "text": [
      "\n",
      "=================================================================\n",
      "Epoch 5, Loss: 0.07086410373449326, Accuracy: 97.75, Test Loss: 0.17623312771320343, Test Accuracy: 94.80168151855469\n",
      "=================================================================\n",
      "\n",
      "test step - 5000/5000           \r"
     ]
    },
    {
     "name": "stderr",
     "output_type": "stream",
     "text": [
      "WARNING:absl:Found untraced functions such as conv1_layer_call_and_return_conditional_losses, conv1_layer_call_fn, activation_layer_call_and_return_conditional_losses, activation_layer_call_fn, conv_block3d_layer_call_and_return_conditional_losses while saving (showing 5 of 1360). These functions will not be directly callable after loading.\n"
     ]
    },
    {
     "name": "stdout",
     "output_type": "stream",
     "text": [
      "INFO:tensorflow:Assets written to: /home/rnb/Projects/rnb-planning/model/latticized/panda-balanced/20211004-032424/model_6/assets\n"
     ]
    },
    {
     "name": "stderr",
     "output_type": "stream",
     "text": [
      "INFO:tensorflow:Assets written to: /home/rnb/Projects/rnb-planning/model/latticized/panda-balanced/20211004-032424/model_6/assets\n",
      "/home/rnb/.local/lib/python3.6/site-packages/keras/utils/generic_utils.py:497: CustomMaskWarning: Custom mask layers require a config and must override get_config. When loading, the custom mask layer must be passed to the custom_objects argument.\n",
      "  category=CustomMaskWarning)\n"
     ]
    },
    {
     "name": "stdout",
     "output_type": "stream",
     "text": [
      "\n",
      "=================================================================\n",
      "Epoch 6, Loss: 0.046572137624025345, Accuracy: 98.625, Test Loss: 0.1850869208574295, Test Accuracy: 95.00199890136719\n",
      "=================================================================\n",
      "\n",
      "test step - 5000/5000           \r"
     ]
    },
    {
     "name": "stderr",
     "output_type": "stream",
     "text": [
      "WARNING:absl:Found untraced functions such as conv1_layer_call_and_return_conditional_losses, conv1_layer_call_fn, activation_layer_call_and_return_conditional_losses, activation_layer_call_fn, conv_block3d_layer_call_and_return_conditional_losses while saving (showing 5 of 1360). These functions will not be directly callable after loading.\n"
     ]
    },
    {
     "name": "stdout",
     "output_type": "stream",
     "text": [
      "INFO:tensorflow:Assets written to: /home/rnb/Projects/rnb-planning/model/latticized/panda-balanced/20211004-032424/model_7/assets\n"
     ]
    },
    {
     "name": "stderr",
     "output_type": "stream",
     "text": [
      "INFO:tensorflow:Assets written to: /home/rnb/Projects/rnb-planning/model/latticized/panda-balanced/20211004-032424/model_7/assets\n",
      "/home/rnb/.local/lib/python3.6/site-packages/keras/utils/generic_utils.py:497: CustomMaskWarning: Custom mask layers require a config and must override get_config. When loading, the custom mask layer must be passed to the custom_objects argument.\n",
      "  category=CustomMaskWarning)\n"
     ]
    },
    {
     "name": "stdout",
     "output_type": "stream",
     "text": [
      "\n",
      "=================================================================\n",
      "Epoch 7, Loss: 0.03258815035223961, Accuracy: 99.06999969482422, Test Loss: 0.1817949265241623, Test Accuracy: 94.81169891357422\n",
      "=================================================================\n",
      "\n",
      "test step - 5000/5000           \r"
     ]
    },
    {
     "name": "stderr",
     "output_type": "stream",
     "text": [
      "WARNING:absl:Found untraced functions such as conv1_layer_call_and_return_conditional_losses, conv1_layer_call_fn, activation_layer_call_and_return_conditional_losses, activation_layer_call_fn, conv_block3d_layer_call_and_return_conditional_losses while saving (showing 5 of 1360). These functions will not be directly callable after loading.\n"
     ]
    },
    {
     "name": "stdout",
     "output_type": "stream",
     "text": [
      "INFO:tensorflow:Assets written to: /home/rnb/Projects/rnb-planning/model/latticized/panda-balanced/20211004-032424/model_8/assets\n"
     ]
    },
    {
     "name": "stderr",
     "output_type": "stream",
     "text": [
      "INFO:tensorflow:Assets written to: /home/rnb/Projects/rnb-planning/model/latticized/panda-balanced/20211004-032424/model_8/assets\n",
      "/home/rnb/.local/lib/python3.6/site-packages/keras/utils/generic_utils.py:497: CustomMaskWarning: Custom mask layers require a config and must override get_config. When loading, the custom mask layer must be passed to the custom_objects argument.\n",
      "  category=CustomMaskWarning)\n"
     ]
    },
    {
     "name": "stdout",
     "output_type": "stream",
     "text": [
      "\n",
      "=================================================================\n",
      "Epoch 8, Loss: 0.02024948224425316, Accuracy: 99.47000122070312, Test Loss: 0.22217606008052826, Test Accuracy: 94.921875\n",
      "=================================================================\n",
      "\n",
      "test step - 5000/5000           \r"
     ]
    },
    {
     "name": "stderr",
     "output_type": "stream",
     "text": [
      "WARNING:absl:Found untraced functions such as conv1_layer_call_and_return_conditional_losses, conv1_layer_call_fn, activation_layer_call_and_return_conditional_losses, activation_layer_call_fn, conv_block3d_layer_call_and_return_conditional_losses while saving (showing 5 of 1360). These functions will not be directly callable after loading.\n"
     ]
    },
    {
     "name": "stdout",
     "output_type": "stream",
     "text": [
      "INFO:tensorflow:Assets written to: /home/rnb/Projects/rnb-planning/model/latticized/panda-balanced/20211004-032424/model_9/assets\n"
     ]
    },
    {
     "name": "stderr",
     "output_type": "stream",
     "text": [
      "INFO:tensorflow:Assets written to: /home/rnb/Projects/rnb-planning/model/latticized/panda-balanced/20211004-032424/model_9/assets\n",
      "/home/rnb/.local/lib/python3.6/site-packages/keras/utils/generic_utils.py:497: CustomMaskWarning: Custom mask layers require a config and must override get_config. When loading, the custom mask layer must be passed to the custom_objects argument.\n",
      "  category=CustomMaskWarning)\n"
     ]
    },
    {
     "name": "stdout",
     "output_type": "stream",
     "text": [
      "\n",
      "=================================================================\n",
      "Epoch 9, Loss: 0.02679392695426941, Accuracy: 99.22999572753906, Test Loss: 0.21596600115299225, Test Accuracy: 94.12059020996094\n",
      "=================================================================\n",
      "\n",
      "test step - 5000/5000           \r"
     ]
    },
    {
     "name": "stderr",
     "output_type": "stream",
     "text": [
      "WARNING:absl:Found untraced functions such as conv1_layer_call_and_return_conditional_losses, conv1_layer_call_fn, activation_layer_call_and_return_conditional_losses, activation_layer_call_fn, conv_block3d_layer_call_and_return_conditional_losses while saving (showing 5 of 1360). These functions will not be directly callable after loading.\n"
     ]
    },
    {
     "name": "stdout",
     "output_type": "stream",
     "text": [
      "INFO:tensorflow:Assets written to: /home/rnb/Projects/rnb-planning/model/latticized/panda-balanced/20211004-032424/model_10/assets\n"
     ]
    },
    {
     "name": "stderr",
     "output_type": "stream",
     "text": [
      "INFO:tensorflow:Assets written to: /home/rnb/Projects/rnb-planning/model/latticized/panda-balanced/20211004-032424/model_10/assets\n",
      "/home/rnb/.local/lib/python3.6/site-packages/keras/utils/generic_utils.py:497: CustomMaskWarning: Custom mask layers require a config and must override get_config. When loading, the custom mask layer must be passed to the custom_objects argument.\n",
      "  category=CustomMaskWarning)\n"
     ]
    },
    {
     "name": "stdout",
     "output_type": "stream",
     "text": [
      "\n",
      "=================================================================\n",
      "Epoch 10, Loss: 0.024235466495156288, Accuracy: 99.20999908447266, Test Loss: 0.2213849574327469, Test Accuracy: 94.78164672851562\n",
      "=================================================================\n",
      "\n",
      "test step - 5000/5000           \r"
     ]
    },
    {
     "name": "stderr",
     "output_type": "stream",
     "text": [
      "WARNING:absl:Found untraced functions such as conv1_layer_call_and_return_conditional_losses, conv1_layer_call_fn, activation_layer_call_and_return_conditional_losses, activation_layer_call_fn, conv_block3d_layer_call_and_return_conditional_losses while saving (showing 5 of 1360). These functions will not be directly callable after loading.\n"
     ]
    },
    {
     "name": "stdout",
     "output_type": "stream",
     "text": [
      "INFO:tensorflow:Assets written to: /home/rnb/Projects/rnb-planning/model/latticized/panda-balanced/20211004-032424/model_11/assets\n"
     ]
    },
    {
     "name": "stderr",
     "output_type": "stream",
     "text": [
      "INFO:tensorflow:Assets written to: /home/rnb/Projects/rnb-planning/model/latticized/panda-balanced/20211004-032424/model_11/assets\n",
      "/home/rnb/.local/lib/python3.6/site-packages/keras/utils/generic_utils.py:497: CustomMaskWarning: Custom mask layers require a config and must override get_config. When loading, the custom mask layer must be passed to the custom_objects argument.\n",
      "  category=CustomMaskWarning)\n"
     ]
    },
    {
     "name": "stdout",
     "output_type": "stream",
     "text": [
      "\n",
      "=================================================================\n",
      "Epoch 11, Loss: 0.0411456860601902, Accuracy: 99.04999542236328, Test Loss: 0.22630435228347778, Test Accuracy: 95.04206848144531\n",
      "=================================================================\n",
      "\n",
      "test step - 5000/5000           \r"
     ]
    },
    {
     "name": "stderr",
     "output_type": "stream",
     "text": [
      "WARNING:absl:Found untraced functions such as conv1_layer_call_and_return_conditional_losses, conv1_layer_call_fn, activation_layer_call_and_return_conditional_losses, activation_layer_call_fn, conv_block3d_layer_call_and_return_conditional_losses while saving (showing 5 of 1360). These functions will not be directly callable after loading.\n"
     ]
    },
    {
     "name": "stdout",
     "output_type": "stream",
     "text": [
      "INFO:tensorflow:Assets written to: /home/rnb/Projects/rnb-planning/model/latticized/panda-balanced/20211004-032424/model_12/assets\n"
     ]
    },
    {
     "name": "stderr",
     "output_type": "stream",
     "text": [
      "INFO:tensorflow:Assets written to: /home/rnb/Projects/rnb-planning/model/latticized/panda-balanced/20211004-032424/model_12/assets\n",
      "/home/rnb/.local/lib/python3.6/site-packages/keras/utils/generic_utils.py:497: CustomMaskWarning: Custom mask layers require a config and must override get_config. When loading, the custom mask layer must be passed to the custom_objects argument.\n",
      "  category=CustomMaskWarning)\n"
     ]
    },
    {
     "name": "stdout",
     "output_type": "stream",
     "text": [
      "\n",
      "=================================================================\n",
      "Epoch 12, Loss: 0.013455581851303577, Accuracy: 99.62000274658203, Test Loss: 0.2662268280982971, Test Accuracy: 94.6915054321289\n",
      "=================================================================\n",
      "\n",
      "test step - 5000/5000           \r"
     ]
    },
    {
     "name": "stderr",
     "output_type": "stream",
     "text": [
      "WARNING:absl:Found untraced functions such as conv1_layer_call_and_return_conditional_losses, conv1_layer_call_fn, activation_layer_call_and_return_conditional_losses, activation_layer_call_fn, conv_block3d_layer_call_and_return_conditional_losses while saving (showing 5 of 1360). These functions will not be directly callable after loading.\n"
     ]
    },
    {
     "name": "stdout",
     "output_type": "stream",
     "text": [
      "INFO:tensorflow:Assets written to: /home/rnb/Projects/rnb-planning/model/latticized/panda-balanced/20211004-032424/model_13/assets\n"
     ]
    },
    {
     "name": "stderr",
     "output_type": "stream",
     "text": [
      "INFO:tensorflow:Assets written to: /home/rnb/Projects/rnb-planning/model/latticized/panda-balanced/20211004-032424/model_13/assets\n",
      "/home/rnb/.local/lib/python3.6/site-packages/keras/utils/generic_utils.py:497: CustomMaskWarning: Custom mask layers require a config and must override get_config. When loading, the custom mask layer must be passed to the custom_objects argument.\n",
      "  category=CustomMaskWarning)\n"
     ]
    },
    {
     "name": "stdout",
     "output_type": "stream",
     "text": [
      "\n",
      "=================================================================\n",
      "Epoch 13, Loss: 0.020648080855607986, Accuracy: 99.22500610351562, Test Loss: 0.27032405138015747, Test Accuracy: 94.67147827148438\n",
      "=================================================================\n",
      "\n",
      "test step - 5000/5000           \r"
     ]
    },
    {
     "name": "stderr",
     "output_type": "stream",
     "text": [
      "WARNING:absl:Found untraced functions such as conv1_layer_call_and_return_conditional_losses, conv1_layer_call_fn, activation_layer_call_and_return_conditional_losses, activation_layer_call_fn, conv_block3d_layer_call_and_return_conditional_losses while saving (showing 5 of 1360). These functions will not be directly callable after loading.\n"
     ]
    },
    {
     "name": "stdout",
     "output_type": "stream",
     "text": [
      "INFO:tensorflow:Assets written to: /home/rnb/Projects/rnb-planning/model/latticized/panda-balanced/20211004-032424/model_14/assets\n"
     ]
    },
    {
     "name": "stderr",
     "output_type": "stream",
     "text": [
      "INFO:tensorflow:Assets written to: /home/rnb/Projects/rnb-planning/model/latticized/panda-balanced/20211004-032424/model_14/assets\n",
      "/home/rnb/.local/lib/python3.6/site-packages/keras/utils/generic_utils.py:497: CustomMaskWarning: Custom mask layers require a config and must override get_config. When loading, the custom mask layer must be passed to the custom_objects argument.\n",
      "  category=CustomMaskWarning)\n"
     ]
    },
    {
     "name": "stdout",
     "output_type": "stream",
     "text": [
      "\n",
      "=================================================================\n",
      "Epoch 14, Loss: 0.018725981935858727, Accuracy: 99.37999725341797, Test Loss: 0.23822243511676788, Test Accuracy: 94.7215576171875\n",
      "=================================================================\n",
      "\n",
      "test step - 5000/5000           \r"
     ]
    },
    {
     "name": "stderr",
     "output_type": "stream",
     "text": [
      "WARNING:absl:Found untraced functions such as conv1_layer_call_and_return_conditional_losses, conv1_layer_call_fn, activation_layer_call_and_return_conditional_losses, activation_layer_call_fn, conv_block3d_layer_call_and_return_conditional_losses while saving (showing 5 of 1360). These functions will not be directly callable after loading.\n"
     ]
    },
    {
     "name": "stdout",
     "output_type": "stream",
     "text": [
      "INFO:tensorflow:Assets written to: /home/rnb/Projects/rnb-planning/model/latticized/panda-balanced/20211004-032424/model_15/assets\n"
     ]
    },
    {
     "name": "stderr",
     "output_type": "stream",
     "text": [
      "INFO:tensorflow:Assets written to: /home/rnb/Projects/rnb-planning/model/latticized/panda-balanced/20211004-032424/model_15/assets\n",
      "/home/rnb/.local/lib/python3.6/site-packages/keras/utils/generic_utils.py:497: CustomMaskWarning: Custom mask layers require a config and must override get_config. When loading, the custom mask layer must be passed to the custom_objects argument.\n",
      "  category=CustomMaskWarning)\n"
     ]
    },
    {
     "name": "stdout",
     "output_type": "stream",
     "text": [
      "\n",
      "=================================================================\n",
      "Epoch 15, Loss: 0.022408144548535347, Accuracy: 99.18500518798828, Test Loss: 0.24189136922359467, Test Accuracy: 95.03205108642578\n",
      "=================================================================\n",
      "\n",
      "test step - 5000/5000           \r"
     ]
    },
    {
     "name": "stderr",
     "output_type": "stream",
     "text": [
      "WARNING:absl:Found untraced functions such as conv1_layer_call_and_return_conditional_losses, conv1_layer_call_fn, activation_layer_call_and_return_conditional_losses, activation_layer_call_fn, conv_block3d_layer_call_and_return_conditional_losses while saving (showing 5 of 1360). These functions will not be directly callable after loading.\n"
     ]
    },
    {
     "name": "stdout",
     "output_type": "stream",
     "text": [
      "INFO:tensorflow:Assets written to: /home/rnb/Projects/rnb-planning/model/latticized/panda-balanced/20211004-032424/model_16/assets\n"
     ]
    },
    {
     "name": "stderr",
     "output_type": "stream",
     "text": [
      "INFO:tensorflow:Assets written to: /home/rnb/Projects/rnb-planning/model/latticized/panda-balanced/20211004-032424/model_16/assets\n",
      "/home/rnb/.local/lib/python3.6/site-packages/keras/utils/generic_utils.py:497: CustomMaskWarning: Custom mask layers require a config and must override get_config. When loading, the custom mask layer must be passed to the custom_objects argument.\n",
      "  category=CustomMaskWarning)\n"
     ]
    },
    {
     "name": "stdout",
     "output_type": "stream",
     "text": [
      "\n",
      "=================================================================\n",
      "Epoch 16, Loss: 0.01125220488756895, Accuracy: 99.66999816894531, Test Loss: 0.2249481976032257, Test Accuracy: 95.1522445678711\n",
      "=================================================================\n",
      "\n",
      "test step - 5000/5000           \r"
     ]
    },
    {
     "name": "stderr",
     "output_type": "stream",
     "text": [
      "WARNING:absl:Found untraced functions such as conv1_layer_call_and_return_conditional_losses, conv1_layer_call_fn, activation_layer_call_and_return_conditional_losses, activation_layer_call_fn, conv_block3d_layer_call_and_return_conditional_losses while saving (showing 5 of 1360). These functions will not be directly callable after loading.\n"
     ]
    },
    {
     "name": "stdout",
     "output_type": "stream",
     "text": [
      "INFO:tensorflow:Assets written to: /home/rnb/Projects/rnb-planning/model/latticized/panda-balanced/20211004-032424/model_17/assets\n"
     ]
    },
    {
     "name": "stderr",
     "output_type": "stream",
     "text": [
      "INFO:tensorflow:Assets written to: /home/rnb/Projects/rnb-planning/model/latticized/panda-balanced/20211004-032424/model_17/assets\n",
      "/home/rnb/.local/lib/python3.6/site-packages/keras/utils/generic_utils.py:497: CustomMaskWarning: Custom mask layers require a config and must override get_config. When loading, the custom mask layer must be passed to the custom_objects argument.\n",
      "  category=CustomMaskWarning)\n"
     ]
    },
    {
     "name": "stdout",
     "output_type": "stream",
     "text": [
      "\n",
      "=================================================================\n",
      "Epoch 17, Loss: 0.004484572447836399, Accuracy: 99.8550033569336, Test Loss: 0.2904435694217682, Test Accuracy: 95.07211303710938\n",
      "=================================================================\n",
      "\n",
      "test step - 5000/5000           \r"
     ]
    },
    {
     "name": "stderr",
     "output_type": "stream",
     "text": [
      "WARNING:absl:Found untraced functions such as conv1_layer_call_and_return_conditional_losses, conv1_layer_call_fn, activation_layer_call_and_return_conditional_losses, activation_layer_call_fn, conv_block3d_layer_call_and_return_conditional_losses while saving (showing 5 of 1360). These functions will not be directly callable after loading.\n"
     ]
    },
    {
     "name": "stdout",
     "output_type": "stream",
     "text": [
      "INFO:tensorflow:Assets written to: /home/rnb/Projects/rnb-planning/model/latticized/panda-balanced/20211004-032424/model_18/assets\n"
     ]
    },
    {
     "name": "stderr",
     "output_type": "stream",
     "text": [
      "INFO:tensorflow:Assets written to: /home/rnb/Projects/rnb-planning/model/latticized/panda-balanced/20211004-032424/model_18/assets\n",
      "/home/rnb/.local/lib/python3.6/site-packages/keras/utils/generic_utils.py:497: CustomMaskWarning: Custom mask layers require a config and must override get_config. When loading, the custom mask layer must be passed to the custom_objects argument.\n",
      "  category=CustomMaskWarning)\n"
     ]
    },
    {
     "name": "stdout",
     "output_type": "stream",
     "text": [
      "\n",
      "=================================================================\n",
      "Epoch 18, Loss: 0.017616018652915955, Accuracy: 99.52999877929688, Test Loss: 0.2405431717634201, Test Accuracy: 94.6915054321289\n",
      "=================================================================\n",
      "\n",
      "test step - 5000/5000           \r"
     ]
    },
    {
     "name": "stderr",
     "output_type": "stream",
     "text": [
      "WARNING:absl:Found untraced functions such as conv1_layer_call_and_return_conditional_losses, conv1_layer_call_fn, activation_layer_call_and_return_conditional_losses, activation_layer_call_fn, conv_block3d_layer_call_and_return_conditional_losses while saving (showing 5 of 1360). These functions will not be directly callable after loading.\n"
     ]
    },
    {
     "name": "stdout",
     "output_type": "stream",
     "text": [
      "INFO:tensorflow:Assets written to: /home/rnb/Projects/rnb-planning/model/latticized/panda-balanced/20211004-032424/model_19/assets\n"
     ]
    },
    {
     "name": "stderr",
     "output_type": "stream",
     "text": [
      "INFO:tensorflow:Assets written to: /home/rnb/Projects/rnb-planning/model/latticized/panda-balanced/20211004-032424/model_19/assets\n",
      "/home/rnb/.local/lib/python3.6/site-packages/keras/utils/generic_utils.py:497: CustomMaskWarning: Custom mask layers require a config and must override get_config. When loading, the custom mask layer must be passed to the custom_objects argument.\n",
      "  category=CustomMaskWarning)\n"
     ]
    },
    {
     "name": "stdout",
     "output_type": "stream",
     "text": [
      "\n",
      "=================================================================\n",
      "Epoch 19, Loss: 0.047069523483514786, Accuracy: 98.91500091552734, Test Loss: 0.2041892409324646, Test Accuracy: 94.61137390136719\n",
      "=================================================================\n",
      "\n",
      "test step - 5000/5000           \r"
     ]
    },
    {
     "name": "stderr",
     "output_type": "stream",
     "text": [
      "WARNING:absl:Found untraced functions such as conv1_layer_call_and_return_conditional_losses, conv1_layer_call_fn, activation_layer_call_and_return_conditional_losses, activation_layer_call_fn, conv_block3d_layer_call_and_return_conditional_losses while saving (showing 5 of 1360). These functions will not be directly callable after loading.\n"
     ]
    },
    {
     "name": "stdout",
     "output_type": "stream",
     "text": [
      "INFO:tensorflow:Assets written to: /home/rnb/Projects/rnb-planning/model/latticized/panda-balanced/20211004-032424/model_20/assets\n"
     ]
    },
    {
     "name": "stderr",
     "output_type": "stream",
     "text": [
      "INFO:tensorflow:Assets written to: /home/rnb/Projects/rnb-planning/model/latticized/panda-balanced/20211004-032424/model_20/assets\n",
      "/home/rnb/.local/lib/python3.6/site-packages/keras/utils/generic_utils.py:497: CustomMaskWarning: Custom mask layers require a config and must override get_config. When loading, the custom mask layer must be passed to the custom_objects argument.\n",
      "  category=CustomMaskWarning)\n"
     ]
    },
    {
     "name": "stdout",
     "output_type": "stream",
     "text": [
      "\n",
      "=================================================================\n",
      "Epoch 20, Loss: 0.016879646107554436, Accuracy: 99.48999786376953, Test Loss: 0.22836506366729736, Test Accuracy: 94.85176086425781\n",
      "=================================================================\n",
      "\n",
      "/home/rnb/Projects/rnb-planning/model/latticized/panda-balanced acc/loss list:\n",
      "1: 95.2 %, 0.143 \n",
      "2: 94.96 %, 0.191 \n",
      "3: 94.76 %, 0.166 \n",
      "4: 95.16 %, 0.166 \n",
      "5: 94.8 %, 0.176 \n",
      "6: 95.0 %, 0.185 \n",
      "7: 94.81 %, 0.182 \n",
      "8: 94.92 %, 0.222 \n",
      "9: 94.12 %, 0.216 \n",
      "10: 94.78 %, 0.221 \n",
      "11: 95.04 %, 0.226 \n",
      "12: 94.69 %, 0.266 \n",
      "13: 94.67 %, 0.27 \n",
      "14: 94.72 %, 0.238 \n",
      "15: 95.03 %, 0.242 \n",
      "16: 95.15 %, 0.225 \n",
      "17: 95.07 %, 0.29 \n",
      "18: 94.69 %, 0.241 \n",
      "19: 94.61 %, 0.204 \n",
      "20: 94.85 %, 0.228 \n"
     ]
    }
   ],
   "source": [
    "ROBOT_MODEL_ROOT_DIV = \"{}-balanced\".format(ROBOT_MODEL_ROOT)\n",
    "data_pairs_train_div, data_pairs_test_div = \\\n",
    "        data_pairs_train_mixed, data_pairs_test_mixed\n",
    "\n",
    "res_list = train_script(data_pairs_train_div, data_pairs_test_div, ROBOT_MODEL_ROOT_DIV,\n",
    "                        EPOCHS_S=0, EPOCHS_E=20)\n",
    "print(\"{} acc/loss list:\".format(ROBOT_MODEL_ROOT_DIV))\n",
    "for i_r, res in enumerate(res_list):\n",
    "    print(\"{}: {} %, {} \".format(i_r+1, np.round(res[0],2), np.round(res[1], 3)))"
   ]
  },
  {
   "cell_type": "code",
   "execution_count": null,
   "metadata": {},
   "outputs": [],
   "source": []
  },
  {
   "cell_type": "markdown",
   "metadata": {},
   "source": [
    "# Train results - Panda"
   ]
  },
  {
   "cell_type": "markdown",
   "metadata": {},
   "source": [
    "#### filtered: 20211004-024301\n",
    "```\n",
    "1: 85.3 %, 0.434 \n",
    "2: 86.34 %, 0.325 \n",
    "3: 86.72 %, 0.335 \n",
    "4: 86.9 %, 0.343 \n",
    "5: 86.76 %, 0.32 \n",
    "6: 86.98 %, 0.31 \n",
    "7: 86.57 %, 0.32 \n",
    "8: 86.56 %, 0.331 \n",
    "9: 87.35 %, 0.316 \n",
    "10: 87.47 %, 0.313 \n",
    "11: 86.67 %, 0.353 \n",
    "12: 86.72 %, 0.318 \n",
    "13: 86.87 %, 0.323 \n",
    "14: 85.3 %, 0.362 \n",
    "15: 86.09 %, 0.358 \n",
    "16: 85.38 %, 0.494 \n",
    "17: 83.89 %, 0.481 \n",
    "18: 86.11 %, 0.386 \n",
    "19: 86.03 %, 0.475 \n",
    "20: 84.16 %, 0.454 \n",
    "```\n",
    "\n",
    "#### failmore: 20211004-030343\n",
    "```\n",
    "1: 95.91 %, 0.166 \n",
    "2: 96.23 %, 0.1 \n",
    "3: 97.01 %, 0.076 \n",
    "4: 96.79 %, 0.074 \n",
    "5: 96.27 %, 0.078 \n",
    "6: 96.99 %, 0.081 \n",
    "7: 96.35 %, 0.08 \n",
    "8: 95.46 %, 0.096 \n",
    "9: 95.37 %, 0.092 \n",
    "10: 96.15 %, 0.089 \n",
    "11: 96.52 %, 0.102 \n",
    "12: 96.79 %, 0.095 \n",
    "13: 96.34 %, 0.094 \n",
    "14: 96.7 %, 0.09 \n",
    "15: 97.04 %, 0.106 \n",
    "16: 96.9 %, 0.107 \n",
    "17: 96.53 %, 0.102 \n",
    "18: 97.03 %, 0.107 \n",
    "19: 96.45 %, 0.101 \n",
    "20: 96.85 %, 0.113 \n",
    "```\n",
    "\n",
    "#### 20211004-032424\n",
    "```\n",
    "1: 95.2 %, 0.143 \n",
    "2: 94.96 %, 0.191 \n",
    "3: 94.76 %, 0.166 \n",
    "4: 95.16 %, 0.166 \n",
    "5: 94.8 %, 0.176 \n",
    "6: 95.0 %, 0.185 \n",
    "7: 94.81 %, 0.182 \n",
    "8: 94.92 %, 0.222 \n",
    "9: 94.12 %, 0.216 \n",
    "10: 94.78 %, 0.221 \n",
    "11: 95.04 %, 0.226 \n",
    "12: 94.69 %, 0.266 \n",
    "13: 94.67 %, 0.27 \n",
    "14: 94.72 %, 0.238 \n",
    "15: 95.03 %, 0.242 \n",
    "16: 95.15 %, 0.225 \n",
    "17: 95.07 %, 0.29 \n",
    "18: 94.69 %, 0.241 \n",
    "19: 94.61 %, 0.204 \n",
    "20: 94.85 %, 0.228 \n",
    "```"
   ]
  },
  {
   "cell_type": "code",
   "execution_count": null,
   "metadata": {},
   "outputs": [],
   "source": []
  },
  {
   "cell_type": "markdown",
   "metadata": {},
   "source": [
    "## Load & test"
   ]
  },
  {
   "cell_type": "code",
   "execution_count": 11,
   "metadata": {},
   "outputs": [],
   "source": [
    "def get_tf_functions(model_root, model_folder, epoch_folder):\n",
    "    # last_model = '20210606-204309' # panda\n",
    "    # last_model = '20210610-052216' # indy\n",
    "    # last_model = sorted(os.listdir(ROBOT_MODEL_ROOT))[-1]\n",
    "    logpath = os.path.join(model_root, model_folder)\n",
    "\n",
    "    # epochlist = sorted([item for item in os.listdir(logpath) if item.startswith(\"model\")], key=lambda x: int(x[6:]))\n",
    "    # print(epochlist)\n",
    "    # last_save = epochlist[-1]\n",
    "    model_log_dir = os.path.join(logpath, epoch_folder)\n",
    "\n",
    "    import tensorflow as tf\n",
    "    model = tf.keras.models.load_model(model_log_dir)\n",
    "\n",
    "    @tf.function\n",
    "    def inference(images):\n",
    "        # training=False is only needed if there are layers with different\n",
    "        # behavior during training versus inference (e.g. Dropout).\n",
    "        predictions = model(images, training=False)\n",
    "        return predictions\n",
    "\n",
    "    loss_object = tf.keras.losses.BinaryCrossentropy()\n",
    "\n",
    "    @tf.function\n",
    "    def calc_loss(labels, predictions):\n",
    "        # training=False is only needed if there are layers with different\n",
    "        # behavior during training versus inference (e.g. Dropout).\n",
    "        return loss_object(labels, predictions)\n",
    "    return model, inference, calc_loss\n",
    "\n",
    "def test_script(data_pairs_test, model_root, model_folder, epoch_folder):\n",
    "    BATCH_SIZE = 1\n",
    "    LOG_STEP = 100\n",
    "    N_test = len(data_pairs_test)\n",
    "    gtimer = GlobalTimer.instance()\n",
    "    gtimer.reset()\n",
    "    \n",
    "    model, inference, calc_loss= get_tf_functions(model_root, model_folder, epoch_folder)\n",
    "\n",
    "    grasp_img, arm_img, rh_mask, label = load_data(data_pairs_test[0])\n",
    "    res = inference([np.array([grasp_img]), np.array([arm_img]), np.array([rh_mask])])\n",
    "\n",
    "\n",
    "    i_step = 0\n",
    "    res_list = []\n",
    "    label_list = []\n",
    "    loss_list= []\n",
    "    grasp_img_batch = []\n",
    "    arm_img_batch = []\n",
    "    rh_mask_batch = []\n",
    "    label_batch = [] \n",
    "    for data_pair in data_pairs_test:\n",
    "        i_step += 1\n",
    "        grasp_img, arm_img, rh_mask, label = load_data(data_pair)\n",
    "        grasp_img_batch.append(grasp_img)\n",
    "        arm_img_batch.append(arm_img)\n",
    "        rh_mask_batch.append(rh_mask)\n",
    "        label_batch.append(label)\n",
    "        if len(grasp_img_batch)==BATCH_SIZE:\n",
    "            grasp_img_batch, arm_img_batch, rh_mask_batch = np.array(grasp_img_batch), np.array(arm_img_batch), np.array(rh_mask_batch)\n",
    "            with gtimer.block(\"inference\"):\n",
    "                res = inference([grasp_img_batch, arm_img_batch, rh_mask_batch])\n",
    "            loss = calc_loss(label_batch, res)\n",
    "            res_list = res_list + list(res.numpy()>0.5)\n",
    "            label_list = label_list + label_batch\n",
    "            loss_list.append(loss.numpy())\n",
    "            grasp_img_batch = []\n",
    "            arm_img_batch = []\n",
    "            rh_mask_batch = []\n",
    "            label_batch = [] \n",
    "        if i_step%LOG_STEP==0:\n",
    "            print(\"test step - {}/{}        \".format(i_step, N_test), end = '\\r')\n",
    "\n",
    "    res_list = np.array(res_list)[:,1]\n",
    "    label_list = np.array(label_list)[:,1]\n",
    "    loss_list = np.array(loss_list)[:]\n",
    "\n",
    "    acc = np.mean(np.equal(res_list, label_list)) * 100\n",
    "    mean_loss = np.mean(loss_list)\n",
    "\n",
    "    print(\"\")\n",
    "    print(\"=================================================================\")\n",
    "    print(\n",
    "        f'Test Loss: {mean_loss} \\n'\n",
    "        f'Test Accuracy: {acc} \\n'\n",
    "        f'TP / FN / ACC: {np.sum(np.logical_and(res_list, label_list))}, ' \n",
    "        f'{np.sum(np.logical_and(np.logical_not(res_list), label_list))}, ' \n",
    "        f'{round(np.mean(res_list[np.where(label_list)])*100,2)}\\n'\n",
    "        f'FP / TN / ACC: {np.sum(np.logical_and(res_list, np.logical_not(label_list)))}, '\n",
    "        f'{np.sum(np.logical_and(np.logical_not(res_list), np.logical_not(label_list)))}, '\n",
    "        f'{round(np.mean(np.logical_not(res_list[np.where(np.logical_not(label_list))]))*100,2)}\\n'\n",
    "        f'PACC / NACC / TACC: {round(np.mean(label_list[np.where(res_list)])*100,2)}, '\n",
    "        f'{round(np.mean(np.logical_not(label_list[np.where(np.logical_not(res_list))]))*100,2)}, '\n",
    "        f'{round(np.mean(res_list==label_list)*100,2)}\\n'\n",
    "    )\n",
    "    print(\"=================================================================\")\n",
    "    print(\"\")\n",
    "    print(gtimer)\n",
    "\n",
    "    TP_FN_FP_TN = (np.sum(np.logical_and(res_list, label_list)), np.sum(np.logical_and(np.logical_not(res_list), label_list)), \n",
    "                   np.sum(np.logical_and(res_list, np.logical_not(label_list))), np.sum(np.logical_and(np.logical_not(res_list), np.logical_not(label_list))))\n",
    "        \n",
    "    return label_list, res_list"
   ]
  },
  {
   "cell_type": "markdown",
   "metadata": {},
   "source": [
    "# Test all"
   ]
  },
  {
   "cell_type": "code",
   "execution_count": 12,
   "metadata": {
    "scrolled": true
   },
   "outputs": [
    {
     "name": "stdout",
     "output_type": "stream",
     "text": [
      "========= Filtered =========\n"
     ]
    },
    {
     "name": "stderr",
     "output_type": "stream",
     "text": [
      "WARNING:absl:Importing a function (__inference_dense_bn_layer_call_and_return_conditional_losses_698048) with ops with unsaved custom gradients. Will likely fail if a gradient is requested.\n",
      "WARNING:absl:Importing a function (__inference_res_net_model_tp_layer_call_and_return_conditional_losses_713141) with ops with unsaved custom gradients. Will likely fail if a gradient is requested.\n",
      "WARNING:absl:Importing a function (__inference_res_net_1_layer_call_and_return_conditional_losses_699973) with ops with unsaved custom gradients. Will likely fail if a gradient is requested.\n",
      "WARNING:absl:Importing a function (__inference_res_net_layer_call_and_return_conditional_losses_694216) with ops with unsaved custom gradients. Will likely fail if a gradient is requested.\n",
      "WARNING:absl:Importing a function (__inference_dens1_grasp_layer_call_and_return_conditional_losses_732491) with ops with unsaved custom gradients. Will likely fail if a gradient is requested.\n",
      "WARNING:absl:Importing a function (__inference_dens1_ee_layer_call_and_return_conditional_losses_732358) with ops with unsaved custom gradients. Will likely fail if a gradient is requested.\n",
      "WARNING:absl:Importing a function (__inference_dense_bn_1_layer_call_and_return_conditional_losses_732793) with ops with unsaved custom gradients. Will likely fail if a gradient is requested.\n",
      "WARNING:absl:Importing a function (__inference_res_net_model_tp_layer_call_and_return_conditional_losses_718297) with ops with unsaved custom gradients. Will likely fail if a gradient is requested.\n",
      "WARNING:absl:Importing a function (__inference_res_net_1_layer_call_and_return_conditional_losses_695964) with ops with unsaved custom gradients. Will likely fail if a gradient is requested.\n",
      "WARNING:absl:Importing a function (__inference_res_net_layer_call_and_return_conditional_losses_702260) with ops with unsaved custom gradients. Will likely fail if a gradient is requested.\n",
      "WARNING:absl:Importing a function (__inference_res_net_1_layer_call_and_return_conditional_losses_731272) with ops with unsaved custom gradients. Will likely fail if a gradient is requested.\n",
      "WARNING:absl:Importing a function (__inference_res_net_1_layer_call_and_return_conditional_losses_730056) with ops with unsaved custom gradients. Will likely fail if a gradient is requested.\n",
      "WARNING:absl:Importing a function (__inference_dens1_ee_layer_call_and_return_conditional_losses_696512) with ops with unsaved custom gradients. Will likely fail if a gradient is requested.\n",
      "WARNING:absl:Importing a function (__inference_dens1_arm_layer_call_and_return_conditional_losses_732516) with ops with unsaved custom gradients. Will likely fail if a gradient is requested.\n",
      "WARNING:absl:Importing a function (__inference_dense_bn_layer_call_and_return_conditional_losses_696669) with ops with unsaved custom gradients. Will likely fail if a gradient is requested.\n",
      "WARNING:absl:Importing a function (__inference_dense_bn_1_layer_call_and_return_conditional_losses_697951) with ops with unsaved custom gradients. Will likely fail if a gradient is requested.\n",
      "WARNING:absl:Importing a function (__inference_res_net_layer_call_and_return_conditional_losses_727770) with ops with unsaved custom gradients. Will likely fail if a gradient is requested.\n",
      "WARNING:absl:Importing a function (__inference_res_net_layer_call_and_return_conditional_losses_726554) with ops with unsaved custom gradients. Will likely fail if a gradient is requested.\n",
      "WARNING:absl:Importing a function (__inference_dens1_grasp_layer_call_and_return_conditional_losses_696573) with ops with unsaved custom gradients. Will likely fail if a gradient is requested.\n",
      "WARNING:absl:Importing a function (__inference_res_net_model_tp_layer_call_and_return_conditional_losses_720910) with ops with unsaved custom gradients. Will likely fail if a gradient is requested.\n",
      "WARNING:absl:Importing a function (__inference__wrapped_model_679265) with ops with unsaved custom gradients. Will likely fail if a gradient is requested.\n",
      "WARNING:absl:Importing a function (__inference_dense_bn_layer_call_and_return_conditional_losses_732621) with ops with unsaved custom gradients. Will likely fail if a gradient is requested.\n",
      "WARNING:absl:Importing a function (__inference_dense_bn_1_layer_call_and_return_conditional_losses_732750) with ops with unsaved custom gradients. Will likely fail if a gradient is requested.\n",
      "WARNING:absl:Importing a function (__inference_dens1_arm_layer_call_and_return_conditional_losses_696618) with ops with unsaved custom gradients. Will likely fail if a gradient is requested.\n",
      "WARNING:absl:Importing a function (__inference_dense_bn_layer_call_and_return_conditional_losses_732664) with ops with unsaved custom gradients. Will likely fail if a gradient is requested.\n",
      "WARNING:absl:Importing a function (__inference_dense_bn_1_layer_call_and_return_conditional_losses_696717) with ops with unsaved custom gradients. Will likely fail if a gradient is requested.\n",
      "WARNING:absl:Importing a function (__inference_res_net_model_tp_layer_call_and_return_conditional_losses_715754) with ops with unsaved custom gradients. Will likely fail if a gradient is requested.\n"
     ]
    },
    {
     "name": "stdout",
     "output_type": "stream",
     "text": [
      "WARNING:tensorflow:No training configuration found in save file, so the model was *not* compiled. Compile it manually.\n"
     ]
    },
    {
     "name": "stderr",
     "output_type": "stream",
     "text": [
      "WARNING:tensorflow:No training configuration found in save file, so the model was *not* compiled. Compile it manually.\n"
     ]
    },
    {
     "name": "stdout",
     "output_type": "stream",
     "text": [
      "test step - 5000/5000        \n",
      "=================================================================\n",
      "Test Loss: 0.3125072717666626 \n",
      "Test Accuracy: 87.28 \n",
      "TP / FN / ACC: 2916, 256, 91.93\n",
      "FP / TN / ACC: 380, 1448, 79.21\n",
      "PACC / NACC / TACC: 88.47, 84.98, 87.28\n",
      "\n",
      "=================================================================\n",
      "\n",
      "inference: \t58047.0 ms/5000 = 11.609 ms (10.975/41.927)\n",
      "\n"
     ]
    },
    {
     "name": "stderr",
     "output_type": "stream",
     "text": [
      "WARNING:absl:Importing a function (__inference_dense_bn_layer_call_and_return_conditional_losses_698048) with ops with unsaved custom gradients. Will likely fail if a gradient is requested.\n",
      "WARNING:absl:Importing a function (__inference_res_net_model_tp_layer_call_and_return_conditional_losses_713141) with ops with unsaved custom gradients. Will likely fail if a gradient is requested.\n",
      "WARNING:absl:Importing a function (__inference_res_net_1_layer_call_and_return_conditional_losses_699973) with ops with unsaved custom gradients. Will likely fail if a gradient is requested.\n",
      "WARNING:absl:Importing a function (__inference_res_net_layer_call_and_return_conditional_losses_694216) with ops with unsaved custom gradients. Will likely fail if a gradient is requested.\n",
      "WARNING:absl:Importing a function (__inference_dens1_grasp_layer_call_and_return_conditional_losses_732491) with ops with unsaved custom gradients. Will likely fail if a gradient is requested.\n",
      "WARNING:absl:Importing a function (__inference_dens1_ee_layer_call_and_return_conditional_losses_732358) with ops with unsaved custom gradients. Will likely fail if a gradient is requested.\n",
      "WARNING:absl:Importing a function (__inference_dense_bn_1_layer_call_and_return_conditional_losses_732793) with ops with unsaved custom gradients. Will likely fail if a gradient is requested.\n",
      "WARNING:absl:Importing a function (__inference_res_net_model_tp_layer_call_and_return_conditional_losses_718297) with ops with unsaved custom gradients. Will likely fail if a gradient is requested.\n",
      "WARNING:absl:Importing a function (__inference_res_net_1_layer_call_and_return_conditional_losses_695964) with ops with unsaved custom gradients. Will likely fail if a gradient is requested.\n",
      "WARNING:absl:Importing a function (__inference_res_net_layer_call_and_return_conditional_losses_702260) with ops with unsaved custom gradients. Will likely fail if a gradient is requested.\n",
      "WARNING:absl:Importing a function (__inference_res_net_1_layer_call_and_return_conditional_losses_731272) with ops with unsaved custom gradients. Will likely fail if a gradient is requested.\n",
      "WARNING:absl:Importing a function (__inference_res_net_1_layer_call_and_return_conditional_losses_730056) with ops with unsaved custom gradients. Will likely fail if a gradient is requested.\n",
      "WARNING:absl:Importing a function (__inference_dens1_ee_layer_call_and_return_conditional_losses_696512) with ops with unsaved custom gradients. Will likely fail if a gradient is requested.\n",
      "WARNING:absl:Importing a function (__inference_dens1_arm_layer_call_and_return_conditional_losses_732516) with ops with unsaved custom gradients. Will likely fail if a gradient is requested.\n",
      "WARNING:absl:Importing a function (__inference_dense_bn_layer_call_and_return_conditional_losses_696669) with ops with unsaved custom gradients. Will likely fail if a gradient is requested.\n",
      "WARNING:absl:Importing a function (__inference_dense_bn_1_layer_call_and_return_conditional_losses_697951) with ops with unsaved custom gradients. Will likely fail if a gradient is requested.\n",
      "WARNING:absl:Importing a function (__inference_res_net_layer_call_and_return_conditional_losses_727770) with ops with unsaved custom gradients. Will likely fail if a gradient is requested.\n",
      "WARNING:absl:Importing a function (__inference_res_net_layer_call_and_return_conditional_losses_726554) with ops with unsaved custom gradients. Will likely fail if a gradient is requested.\n",
      "WARNING:absl:Importing a function (__inference_dens1_grasp_layer_call_and_return_conditional_losses_696573) with ops with unsaved custom gradients. Will likely fail if a gradient is requested.\n",
      "WARNING:absl:Importing a function (__inference_res_net_model_tp_layer_call_and_return_conditional_losses_720910) with ops with unsaved custom gradients. Will likely fail if a gradient is requested.\n",
      "WARNING:absl:Importing a function (__inference__wrapped_model_679265) with ops with unsaved custom gradients. Will likely fail if a gradient is requested.\n",
      "WARNING:absl:Importing a function (__inference_dense_bn_layer_call_and_return_conditional_losses_732621) with ops with unsaved custom gradients. Will likely fail if a gradient is requested.\n",
      "WARNING:absl:Importing a function (__inference_dense_bn_1_layer_call_and_return_conditional_losses_732750) with ops with unsaved custom gradients. Will likely fail if a gradient is requested.\n",
      "WARNING:absl:Importing a function (__inference_dens1_arm_layer_call_and_return_conditional_losses_696618) with ops with unsaved custom gradients. Will likely fail if a gradient is requested.\n",
      "WARNING:absl:Importing a function (__inference_dense_bn_layer_call_and_return_conditional_losses_732664) with ops with unsaved custom gradients. Will likely fail if a gradient is requested.\n",
      "WARNING:absl:Importing a function (__inference_dense_bn_1_layer_call_and_return_conditional_losses_696717) with ops with unsaved custom gradients. Will likely fail if a gradient is requested.\n",
      "WARNING:absl:Importing a function (__inference_res_net_model_tp_layer_call_and_return_conditional_losses_715754) with ops with unsaved custom gradients. Will likely fail if a gradient is requested.\n"
     ]
    },
    {
     "name": "stdout",
     "output_type": "stream",
     "text": [
      "WARNING:tensorflow:No training configuration found in save file, so the model was *not* compiled. Compile it manually.\n"
     ]
    },
    {
     "name": "stderr",
     "output_type": "stream",
     "text": [
      "WARNING:tensorflow:No training configuration found in save file, so the model was *not* compiled. Compile it manually.\n"
     ]
    },
    {
     "name": "stdout",
     "output_type": "stream",
     "text": [
      "test step - 5000/5000        \n",
      "=================================================================\n",
      "Test Loss: 0.7413970232009888 \n",
      "Test Accuracy: 69.58 \n",
      "TP / FN / ACC: 183, 21, 89.71\n",
      "FP / TN / ACC: 1500, 3296, 68.72\n",
      "PACC / NACC / TACC: 10.87, 99.37, 69.58\n",
      "\n",
      "=================================================================\n",
      "\n",
      "inference: \t57126.0 ms/5000 = 11.425 ms (10.824/13.939)\n",
      "\n"
     ]
    },
    {
     "name": "stderr",
     "output_type": "stream",
     "text": [
      "WARNING:absl:Importing a function (__inference_dense_bn_layer_call_and_return_conditional_losses_698048) with ops with unsaved custom gradients. Will likely fail if a gradient is requested.\n",
      "WARNING:absl:Importing a function (__inference_res_net_model_tp_layer_call_and_return_conditional_losses_713141) with ops with unsaved custom gradients. Will likely fail if a gradient is requested.\n",
      "WARNING:absl:Importing a function (__inference_res_net_1_layer_call_and_return_conditional_losses_699973) with ops with unsaved custom gradients. Will likely fail if a gradient is requested.\n",
      "WARNING:absl:Importing a function (__inference_res_net_layer_call_and_return_conditional_losses_694216) with ops with unsaved custom gradients. Will likely fail if a gradient is requested.\n",
      "WARNING:absl:Importing a function (__inference_dens1_grasp_layer_call_and_return_conditional_losses_732491) with ops with unsaved custom gradients. Will likely fail if a gradient is requested.\n",
      "WARNING:absl:Importing a function (__inference_dens1_ee_layer_call_and_return_conditional_losses_732358) with ops with unsaved custom gradients. Will likely fail if a gradient is requested.\n",
      "WARNING:absl:Importing a function (__inference_dense_bn_1_layer_call_and_return_conditional_losses_732793) with ops with unsaved custom gradients. Will likely fail if a gradient is requested.\n",
      "WARNING:absl:Importing a function (__inference_res_net_model_tp_layer_call_and_return_conditional_losses_718297) with ops with unsaved custom gradients. Will likely fail if a gradient is requested.\n",
      "WARNING:absl:Importing a function (__inference_res_net_1_layer_call_and_return_conditional_losses_695964) with ops with unsaved custom gradients. Will likely fail if a gradient is requested.\n",
      "WARNING:absl:Importing a function (__inference_res_net_layer_call_and_return_conditional_losses_702260) with ops with unsaved custom gradients. Will likely fail if a gradient is requested.\n",
      "WARNING:absl:Importing a function (__inference_res_net_1_layer_call_and_return_conditional_losses_731272) with ops with unsaved custom gradients. Will likely fail if a gradient is requested.\n",
      "WARNING:absl:Importing a function (__inference_res_net_1_layer_call_and_return_conditional_losses_730056) with ops with unsaved custom gradients. Will likely fail if a gradient is requested.\n",
      "WARNING:absl:Importing a function (__inference_dens1_ee_layer_call_and_return_conditional_losses_696512) with ops with unsaved custom gradients. Will likely fail if a gradient is requested.\n",
      "WARNING:absl:Importing a function (__inference_dens1_arm_layer_call_and_return_conditional_losses_732516) with ops with unsaved custom gradients. Will likely fail if a gradient is requested.\n",
      "WARNING:absl:Importing a function (__inference_dense_bn_layer_call_and_return_conditional_losses_696669) with ops with unsaved custom gradients. Will likely fail if a gradient is requested.\n",
      "WARNING:absl:Importing a function (__inference_dense_bn_1_layer_call_and_return_conditional_losses_697951) with ops with unsaved custom gradients. Will likely fail if a gradient is requested.\n",
      "WARNING:absl:Importing a function (__inference_res_net_layer_call_and_return_conditional_losses_727770) with ops with unsaved custom gradients. Will likely fail if a gradient is requested.\n",
      "WARNING:absl:Importing a function (__inference_res_net_layer_call_and_return_conditional_losses_726554) with ops with unsaved custom gradients. Will likely fail if a gradient is requested.\n",
      "WARNING:absl:Importing a function (__inference_dens1_grasp_layer_call_and_return_conditional_losses_696573) with ops with unsaved custom gradients. Will likely fail if a gradient is requested.\n",
      "WARNING:absl:Importing a function (__inference_res_net_model_tp_layer_call_and_return_conditional_losses_720910) with ops with unsaved custom gradients. Will likely fail if a gradient is requested.\n",
      "WARNING:absl:Importing a function (__inference__wrapped_model_679265) with ops with unsaved custom gradients. Will likely fail if a gradient is requested.\n",
      "WARNING:absl:Importing a function (__inference_dense_bn_layer_call_and_return_conditional_losses_732621) with ops with unsaved custom gradients. Will likely fail if a gradient is requested.\n",
      "WARNING:absl:Importing a function (__inference_dense_bn_1_layer_call_and_return_conditional_losses_732750) with ops with unsaved custom gradients. Will likely fail if a gradient is requested.\n",
      "WARNING:absl:Importing a function (__inference_dens1_arm_layer_call_and_return_conditional_losses_696618) with ops with unsaved custom gradients. Will likely fail if a gradient is requested.\n",
      "WARNING:absl:Importing a function (__inference_dense_bn_layer_call_and_return_conditional_losses_732664) with ops with unsaved custom gradients. Will likely fail if a gradient is requested.\n",
      "WARNING:absl:Importing a function (__inference_dense_bn_1_layer_call_and_return_conditional_losses_696717) with ops with unsaved custom gradients. Will likely fail if a gradient is requested.\n",
      "WARNING:absl:Importing a function (__inference_res_net_model_tp_layer_call_and_return_conditional_losses_715754) with ops with unsaved custom gradients. Will likely fail if a gradient is requested.\n"
     ]
    },
    {
     "name": "stdout",
     "output_type": "stream",
     "text": [
      "WARNING:tensorflow:No training configuration found in save file, so the model was *not* compiled. Compile it manually.\n"
     ]
    },
    {
     "name": "stderr",
     "output_type": "stream",
     "text": [
      "WARNING:tensorflow:No training configuration found in save file, so the model was *not* compiled. Compile it manually.\n"
     ]
    },
    {
     "name": "stdout",
     "output_type": "stream",
     "text": [
      "test step - 5000/5000        \n",
      "=================================================================\n",
      "Test Loss: 0.49009305238723755 \n",
      "Test Accuracy: 80.42 \n",
      "TP / FN / ACC: 2294, 206, 91.76\n",
      "FP / TN / ACC: 773, 1727, 69.08\n",
      "PACC / NACC / TACC: 74.8, 89.34, 80.42\n",
      "\n",
      "=================================================================\n",
      "\n",
      "inference: \t56482.0 ms/5000 = 11.296 ms (10.843/14.05)\n",
      "\n",
      "========= Failmore =========\n"
     ]
    },
    {
     "name": "stderr",
     "output_type": "stream",
     "text": [
      "WARNING:absl:Importing a function (__inference__wrapped_model_2486350) with ops with unsaved custom gradients. Will likely fail if a gradient is requested.\n",
      "WARNING:absl:Importing a function (__inference_dense_bn_1_layer_call_and_return_conditional_losses_2539878) with ops with unsaved custom gradients. Will likely fail if a gradient is requested.\n",
      "WARNING:absl:Importing a function (__inference_res_net_layer_call_and_return_conditional_losses_2533639) with ops with unsaved custom gradients. Will likely fail if a gradient is requested.\n",
      "WARNING:absl:Importing a function (__inference_res_net_model_tp_layer_call_and_return_conditional_losses_2522839) with ops with unsaved custom gradients. Will likely fail if a gradient is requested.\n",
      "WARNING:absl:Importing a function (__inference_res_net_layer_call_and_return_conditional_losses_2509345) with ops with unsaved custom gradients. Will likely fail if a gradient is requested.\n",
      "WARNING:absl:Importing a function (__inference_res_net_layer_call_and_return_conditional_losses_2501301) with ops with unsaved custom gradients. Will likely fail if a gradient is requested.\n",
      "WARNING:absl:Importing a function (__inference_dense_bn_1_layer_call_and_return_conditional_losses_2505036) with ops with unsaved custom gradients. Will likely fail if a gradient is requested.\n",
      "WARNING:absl:Importing a function (__inference_res_net_model_tp_layer_call_and_return_conditional_losses_2527995) with ops with unsaved custom gradients. Will likely fail if a gradient is requested.\n",
      "WARNING:absl:Importing a function (__inference_res_net_layer_call_and_return_conditional_losses_2534855) with ops with unsaved custom gradients. Will likely fail if a gradient is requested.\n",
      "WARNING:absl:Importing a function (__inference_res_net_1_layer_call_and_return_conditional_losses_2503049) with ops with unsaved custom gradients. Will likely fail if a gradient is requested.\n",
      "WARNING:absl:Importing a function (__inference_dense_bn_1_layer_call_and_return_conditional_losses_2503802) with ops with unsaved custom gradients. Will likely fail if a gradient is requested.\n",
      "WARNING:absl:Importing a function (__inference_dense_bn_layer_call_and_return_conditional_losses_2539706) with ops with unsaved custom gradients. Will likely fail if a gradient is requested.\n",
      "WARNING:absl:Importing a function (__inference_dense_bn_1_layer_call_and_return_conditional_losses_2539835) with ops with unsaved custom gradients. Will likely fail if a gradient is requested.\n",
      "WARNING:absl:Importing a function (__inference_res_net_model_tp_layer_call_and_return_conditional_losses_2525382) with ops with unsaved custom gradients. Will likely fail if a gradient is requested.\n",
      "WARNING:absl:Importing a function (__inference_dens1_arm_layer_call_and_return_conditional_losses_2503703) with ops with unsaved custom gradients. Will likely fail if a gradient is requested.\n",
      "WARNING:absl:Importing a function (__inference_dens1_grasp_layer_call_and_return_conditional_losses_2539576) with ops with unsaved custom gradients. Will likely fail if a gradient is requested.\n",
      "WARNING:absl:Importing a function (__inference_res_net_1_layer_call_and_return_conditional_losses_2537141) with ops with unsaved custom gradients. Will likely fail if a gradient is requested.\n",
      "WARNING:absl:Importing a function (__inference_dense_bn_layer_call_and_return_conditional_losses_2505133) with ops with unsaved custom gradients. Will likely fail if a gradient is requested.\n",
      "WARNING:absl:Importing a function (__inference_dens1_ee_layer_call_and_return_conditional_losses_2503597) with ops with unsaved custom gradients. Will likely fail if a gradient is requested.\n",
      "WARNING:absl:Importing a function (__inference_dens1_ee_layer_call_and_return_conditional_losses_2539443) with ops with unsaved custom gradients. Will likely fail if a gradient is requested.\n",
      "WARNING:absl:Importing a function (__inference_dense_bn_layer_call_and_return_conditional_losses_2503754) with ops with unsaved custom gradients. Will likely fail if a gradient is requested.\n",
      "WARNING:absl:Importing a function (__inference_res_net_1_layer_call_and_return_conditional_losses_2507058) with ops with unsaved custom gradients. Will likely fail if a gradient is requested.\n",
      "WARNING:absl:Importing a function (__inference_res_net_1_layer_call_and_return_conditional_losses_2538357) with ops with unsaved custom gradients. Will likely fail if a gradient is requested.\n",
      "WARNING:absl:Importing a function (__inference_dense_bn_layer_call_and_return_conditional_losses_2539749) with ops with unsaved custom gradients. Will likely fail if a gradient is requested.\n",
      "WARNING:absl:Importing a function (__inference_dens1_arm_layer_call_and_return_conditional_losses_2539601) with ops with unsaved custom gradients. Will likely fail if a gradient is requested.\n",
      "WARNING:absl:Importing a function (__inference_dens1_grasp_layer_call_and_return_conditional_losses_2503658) with ops with unsaved custom gradients. Will likely fail if a gradient is requested.\n",
      "WARNING:absl:Importing a function (__inference_res_net_model_tp_layer_call_and_return_conditional_losses_2520226) with ops with unsaved custom gradients. Will likely fail if a gradient is requested.\n"
     ]
    },
    {
     "name": "stdout",
     "output_type": "stream",
     "text": [
      "WARNING:tensorflow:No training configuration found in save file, so the model was *not* compiled. Compile it manually.\n"
     ]
    },
    {
     "name": "stderr",
     "output_type": "stream",
     "text": [
      "WARNING:tensorflow:No training configuration found in save file, so the model was *not* compiled. Compile it manually.\n"
     ]
    },
    {
     "name": "stdout",
     "output_type": "stream",
     "text": [
      "test step - 5000/5000        \n",
      "=================================================================\n",
      "Test Loss: 1.311219334602356 \n",
      "Test Accuracy: 66.84 \n",
      "TP / FN / ACC: 1650, 1522, 52.02\n",
      "FP / TN / ACC: 136, 1692, 92.56\n",
      "PACC / NACC / TACC: 92.39, 52.64, 66.84\n",
      "\n",
      "=================================================================\n",
      "\n",
      "inference: \t56694.0 ms/5000 = 11.339 ms (10.842/15.513)\n",
      "\n"
     ]
    },
    {
     "name": "stderr",
     "output_type": "stream",
     "text": [
      "WARNING:absl:Importing a function (__inference__wrapped_model_2486350) with ops with unsaved custom gradients. Will likely fail if a gradient is requested.\n",
      "WARNING:absl:Importing a function (__inference_dense_bn_1_layer_call_and_return_conditional_losses_2539878) with ops with unsaved custom gradients. Will likely fail if a gradient is requested.\n",
      "WARNING:absl:Importing a function (__inference_res_net_layer_call_and_return_conditional_losses_2533639) with ops with unsaved custom gradients. Will likely fail if a gradient is requested.\n",
      "WARNING:absl:Importing a function (__inference_res_net_model_tp_layer_call_and_return_conditional_losses_2522839) with ops with unsaved custom gradients. Will likely fail if a gradient is requested.\n",
      "WARNING:absl:Importing a function (__inference_res_net_layer_call_and_return_conditional_losses_2509345) with ops with unsaved custom gradients. Will likely fail if a gradient is requested.\n",
      "WARNING:absl:Importing a function (__inference_res_net_layer_call_and_return_conditional_losses_2501301) with ops with unsaved custom gradients. Will likely fail if a gradient is requested.\n",
      "WARNING:absl:Importing a function (__inference_dense_bn_1_layer_call_and_return_conditional_losses_2505036) with ops with unsaved custom gradients. Will likely fail if a gradient is requested.\n",
      "WARNING:absl:Importing a function (__inference_res_net_model_tp_layer_call_and_return_conditional_losses_2527995) with ops with unsaved custom gradients. Will likely fail if a gradient is requested.\n",
      "WARNING:absl:Importing a function (__inference_res_net_layer_call_and_return_conditional_losses_2534855) with ops with unsaved custom gradients. Will likely fail if a gradient is requested.\n",
      "WARNING:absl:Importing a function (__inference_res_net_1_layer_call_and_return_conditional_losses_2503049) with ops with unsaved custom gradients. Will likely fail if a gradient is requested.\n",
      "WARNING:absl:Importing a function (__inference_dense_bn_1_layer_call_and_return_conditional_losses_2503802) with ops with unsaved custom gradients. Will likely fail if a gradient is requested.\n",
      "WARNING:absl:Importing a function (__inference_dense_bn_layer_call_and_return_conditional_losses_2539706) with ops with unsaved custom gradients. Will likely fail if a gradient is requested.\n",
      "WARNING:absl:Importing a function (__inference_dense_bn_1_layer_call_and_return_conditional_losses_2539835) with ops with unsaved custom gradients. Will likely fail if a gradient is requested.\n",
      "WARNING:absl:Importing a function (__inference_res_net_model_tp_layer_call_and_return_conditional_losses_2525382) with ops with unsaved custom gradients. Will likely fail if a gradient is requested.\n",
      "WARNING:absl:Importing a function (__inference_dens1_arm_layer_call_and_return_conditional_losses_2503703) with ops with unsaved custom gradients. Will likely fail if a gradient is requested.\n",
      "WARNING:absl:Importing a function (__inference_dens1_grasp_layer_call_and_return_conditional_losses_2539576) with ops with unsaved custom gradients. Will likely fail if a gradient is requested.\n",
      "WARNING:absl:Importing a function (__inference_res_net_1_layer_call_and_return_conditional_losses_2537141) with ops with unsaved custom gradients. Will likely fail if a gradient is requested.\n",
      "WARNING:absl:Importing a function (__inference_dense_bn_layer_call_and_return_conditional_losses_2505133) with ops with unsaved custom gradients. Will likely fail if a gradient is requested.\n",
      "WARNING:absl:Importing a function (__inference_dens1_ee_layer_call_and_return_conditional_losses_2503597) with ops with unsaved custom gradients. Will likely fail if a gradient is requested.\n",
      "WARNING:absl:Importing a function (__inference_dens1_ee_layer_call_and_return_conditional_losses_2539443) with ops with unsaved custom gradients. Will likely fail if a gradient is requested.\n",
      "WARNING:absl:Importing a function (__inference_dense_bn_layer_call_and_return_conditional_losses_2503754) with ops with unsaved custom gradients. Will likely fail if a gradient is requested.\n",
      "WARNING:absl:Importing a function (__inference_res_net_1_layer_call_and_return_conditional_losses_2507058) with ops with unsaved custom gradients. Will likely fail if a gradient is requested.\n",
      "WARNING:absl:Importing a function (__inference_res_net_1_layer_call_and_return_conditional_losses_2538357) with ops with unsaved custom gradients. Will likely fail if a gradient is requested.\n",
      "WARNING:absl:Importing a function (__inference_dense_bn_layer_call_and_return_conditional_losses_2539749) with ops with unsaved custom gradients. Will likely fail if a gradient is requested.\n",
      "WARNING:absl:Importing a function (__inference_dens1_arm_layer_call_and_return_conditional_losses_2539601) with ops with unsaved custom gradients. Will likely fail if a gradient is requested.\n",
      "WARNING:absl:Importing a function (__inference_dens1_grasp_layer_call_and_return_conditional_losses_2503658) with ops with unsaved custom gradients. Will likely fail if a gradient is requested.\n",
      "WARNING:absl:Importing a function (__inference_res_net_model_tp_layer_call_and_return_conditional_losses_2520226) with ops with unsaved custom gradients. Will likely fail if a gradient is requested.\n"
     ]
    },
    {
     "name": "stdout",
     "output_type": "stream",
     "text": [
      "WARNING:tensorflow:No training configuration found in save file, so the model was *not* compiled. Compile it manually.\n"
     ]
    },
    {
     "name": "stderr",
     "output_type": "stream",
     "text": [
      "WARNING:tensorflow:No training configuration found in save file, so the model was *not* compiled. Compile it manually.\n"
     ]
    },
    {
     "name": "stdout",
     "output_type": "stream",
     "text": [
      "test step - 5000/5000        \n",
      "=================================================================\n",
      "Test Loss: 0.10572824627161026 \n",
      "Test Accuracy: 97.06 \n",
      "TP / FN / ACC: 104, 100, 50.98\n",
      "FP / TN / ACC: 47, 4749, 99.02\n",
      "PACC / NACC / TACC: 68.87, 97.94, 97.06\n",
      "\n",
      "=================================================================\n",
      "\n",
      "inference: \t57510.0 ms/5000 = 11.502 ms (10.947/20.012)\n",
      "\n"
     ]
    },
    {
     "name": "stderr",
     "output_type": "stream",
     "text": [
      "WARNING:absl:Importing a function (__inference__wrapped_model_2486350) with ops with unsaved custom gradients. Will likely fail if a gradient is requested.\n",
      "WARNING:absl:Importing a function (__inference_dense_bn_1_layer_call_and_return_conditional_losses_2539878) with ops with unsaved custom gradients. Will likely fail if a gradient is requested.\n",
      "WARNING:absl:Importing a function (__inference_res_net_layer_call_and_return_conditional_losses_2533639) with ops with unsaved custom gradients. Will likely fail if a gradient is requested.\n",
      "WARNING:absl:Importing a function (__inference_res_net_model_tp_layer_call_and_return_conditional_losses_2522839) with ops with unsaved custom gradients. Will likely fail if a gradient is requested.\n",
      "WARNING:absl:Importing a function (__inference_res_net_layer_call_and_return_conditional_losses_2509345) with ops with unsaved custom gradients. Will likely fail if a gradient is requested.\n",
      "WARNING:absl:Importing a function (__inference_res_net_layer_call_and_return_conditional_losses_2501301) with ops with unsaved custom gradients. Will likely fail if a gradient is requested.\n",
      "WARNING:absl:Importing a function (__inference_dense_bn_1_layer_call_and_return_conditional_losses_2505036) with ops with unsaved custom gradients. Will likely fail if a gradient is requested.\n",
      "WARNING:absl:Importing a function (__inference_res_net_model_tp_layer_call_and_return_conditional_losses_2527995) with ops with unsaved custom gradients. Will likely fail if a gradient is requested.\n",
      "WARNING:absl:Importing a function (__inference_res_net_layer_call_and_return_conditional_losses_2534855) with ops with unsaved custom gradients. Will likely fail if a gradient is requested.\n",
      "WARNING:absl:Importing a function (__inference_res_net_1_layer_call_and_return_conditional_losses_2503049) with ops with unsaved custom gradients. Will likely fail if a gradient is requested.\n",
      "WARNING:absl:Importing a function (__inference_dense_bn_1_layer_call_and_return_conditional_losses_2503802) with ops with unsaved custom gradients. Will likely fail if a gradient is requested.\n",
      "WARNING:absl:Importing a function (__inference_dense_bn_layer_call_and_return_conditional_losses_2539706) with ops with unsaved custom gradients. Will likely fail if a gradient is requested.\n",
      "WARNING:absl:Importing a function (__inference_dense_bn_1_layer_call_and_return_conditional_losses_2539835) with ops with unsaved custom gradients. Will likely fail if a gradient is requested.\n",
      "WARNING:absl:Importing a function (__inference_res_net_model_tp_layer_call_and_return_conditional_losses_2525382) with ops with unsaved custom gradients. Will likely fail if a gradient is requested.\n",
      "WARNING:absl:Importing a function (__inference_dens1_arm_layer_call_and_return_conditional_losses_2503703) with ops with unsaved custom gradients. Will likely fail if a gradient is requested.\n",
      "WARNING:absl:Importing a function (__inference_dens1_grasp_layer_call_and_return_conditional_losses_2539576) with ops with unsaved custom gradients. Will likely fail if a gradient is requested.\n",
      "WARNING:absl:Importing a function (__inference_res_net_1_layer_call_and_return_conditional_losses_2537141) with ops with unsaved custom gradients. Will likely fail if a gradient is requested.\n",
      "WARNING:absl:Importing a function (__inference_dense_bn_layer_call_and_return_conditional_losses_2505133) with ops with unsaved custom gradients. Will likely fail if a gradient is requested.\n",
      "WARNING:absl:Importing a function (__inference_dens1_ee_layer_call_and_return_conditional_losses_2503597) with ops with unsaved custom gradients. Will likely fail if a gradient is requested.\n",
      "WARNING:absl:Importing a function (__inference_dens1_ee_layer_call_and_return_conditional_losses_2539443) with ops with unsaved custom gradients. Will likely fail if a gradient is requested.\n",
      "WARNING:absl:Importing a function (__inference_dense_bn_layer_call_and_return_conditional_losses_2503754) with ops with unsaved custom gradients. Will likely fail if a gradient is requested.\n",
      "WARNING:absl:Importing a function (__inference_res_net_1_layer_call_and_return_conditional_losses_2507058) with ops with unsaved custom gradients. Will likely fail if a gradient is requested.\n",
      "WARNING:absl:Importing a function (__inference_res_net_1_layer_call_and_return_conditional_losses_2538357) with ops with unsaved custom gradients. Will likely fail if a gradient is requested.\n",
      "WARNING:absl:Importing a function (__inference_dense_bn_layer_call_and_return_conditional_losses_2539749) with ops with unsaved custom gradients. Will likely fail if a gradient is requested.\n",
      "WARNING:absl:Importing a function (__inference_dens1_arm_layer_call_and_return_conditional_losses_2539601) with ops with unsaved custom gradients. Will likely fail if a gradient is requested.\n",
      "WARNING:absl:Importing a function (__inference_dens1_grasp_layer_call_and_return_conditional_losses_2503658) with ops with unsaved custom gradients. Will likely fail if a gradient is requested.\n",
      "WARNING:absl:Importing a function (__inference_res_net_model_tp_layer_call_and_return_conditional_losses_2520226) with ops with unsaved custom gradients. Will likely fail if a gradient is requested.\n"
     ]
    },
    {
     "name": "stdout",
     "output_type": "stream",
     "text": [
      "WARNING:tensorflow:No training configuration found in save file, so the model was *not* compiled. Compile it manually.\n"
     ]
    },
    {
     "name": "stderr",
     "output_type": "stream",
     "text": [
      "WARNING:tensorflow:No training configuration found in save file, so the model was *not* compiled. Compile it manually.\n"
     ]
    },
    {
     "name": "stdout",
     "output_type": "stream",
     "text": [
      "test step - 5000/5000        \n",
      "=================================================================\n",
      "Test Loss: 1.00685453414917 \n",
      "Test Accuracy: 75.22 \n",
      "TP / FN / ACC: 1293, 1207, 51.72\n",
      "FP / TN / ACC: 32, 2468, 98.72\n",
      "PACC / NACC / TACC: 97.58, 67.16, 75.22\n",
      "\n",
      "=================================================================\n",
      "\n",
      "inference: \t56743.0 ms/5000 = 11.349 ms (10.859/16.608)\n",
      "\n",
      "========= Balanced =========\n"
     ]
    },
    {
     "name": "stderr",
     "output_type": "stream",
     "text": [
      "WARNING:absl:Importing a function (__inference__wrapped_model_2920058) with ops with unsaved custom gradients. Will likely fail if a gradient is requested.\n",
      "WARNING:absl:Importing a function (__inference_dens1_grasp_layer_call_and_return_conditional_losses_2973284) with ops with unsaved custom gradients. Will likely fail if a gradient is requested.\n",
      "WARNING:absl:Importing a function (__inference_dense_bn_layer_call_and_return_conditional_losses_2937462) with ops with unsaved custom gradients. Will likely fail if a gradient is requested.\n",
      "WARNING:absl:Importing a function (__inference_dens1_arm_layer_call_and_return_conditional_losses_2937411) with ops with unsaved custom gradients. Will likely fail if a gradient is requested.\n",
      "WARNING:absl:Importing a function (__inference_dens1_grasp_layer_call_and_return_conditional_losses_2937366) with ops with unsaved custom gradients. Will likely fail if a gradient is requested.\n",
      "WARNING:absl:Importing a function (__inference_dense_bn_1_layer_call_and_return_conditional_losses_2973543) with ops with unsaved custom gradients. Will likely fail if a gradient is requested.\n",
      "WARNING:absl:Importing a function (__inference_dens1_ee_layer_call_and_return_conditional_losses_2973151) with ops with unsaved custom gradients. Will likely fail if a gradient is requested.\n",
      "WARNING:absl:Importing a function (__inference_dense_bn_1_layer_call_and_return_conditional_losses_2937510) with ops with unsaved custom gradients. Will likely fail if a gradient is requested.\n",
      "WARNING:absl:Importing a function (__inference_res_net_model_tp_layer_call_and_return_conditional_losses_2953934) with ops with unsaved custom gradients. Will likely fail if a gradient is requested.\n",
      "WARNING:absl:Importing a function (__inference_dense_bn_1_layer_call_and_return_conditional_losses_2973586) with ops with unsaved custom gradients. Will likely fail if a gradient is requested.\n",
      "WARNING:absl:Importing a function (__inference_dense_bn_layer_call_and_return_conditional_losses_2938841) with ops with unsaved custom gradients. Will likely fail if a gradient is requested.\n",
      "WARNING:absl:Importing a function (__inference_res_net_layer_call_and_return_conditional_losses_2935009) with ops with unsaved custom gradients. Will likely fail if a gradient is requested.\n",
      "WARNING:absl:Importing a function (__inference_res_net_model_tp_layer_call_and_return_conditional_losses_2961703) with ops with unsaved custom gradients. Will likely fail if a gradient is requested.\n",
      "WARNING:absl:Importing a function (__inference_res_net_layer_call_and_return_conditional_losses_2968563) with ops with unsaved custom gradients. Will likely fail if a gradient is requested.\n",
      "WARNING:absl:Importing a function (__inference_dense_bn_layer_call_and_return_conditional_losses_2973457) with ops with unsaved custom gradients. Will likely fail if a gradient is requested.\n",
      "WARNING:absl:Importing a function (__inference_res_net_layer_call_and_return_conditional_losses_2967347) with ops with unsaved custom gradients. Will likely fail if a gradient is requested.\n",
      "WARNING:absl:Importing a function (__inference_dense_bn_1_layer_call_and_return_conditional_losses_2938744) with ops with unsaved custom gradients. Will likely fail if a gradient is requested.\n",
      "WARNING:absl:Importing a function (__inference_res_net_layer_call_and_return_conditional_losses_2943053) with ops with unsaved custom gradients. Will likely fail if a gradient is requested.\n",
      "WARNING:absl:Importing a function (__inference_dens1_ee_layer_call_and_return_conditional_losses_2937305) with ops with unsaved custom gradients. Will likely fail if a gradient is requested.\n",
      "WARNING:absl:Importing a function (__inference_res_net_model_tp_layer_call_and_return_conditional_losses_2959090) with ops with unsaved custom gradients. Will likely fail if a gradient is requested.\n",
      "WARNING:absl:Importing a function (__inference_res_net_1_layer_call_and_return_conditional_losses_2970849) with ops with unsaved custom gradients. Will likely fail if a gradient is requested.\n",
      "WARNING:absl:Importing a function (__inference_dens1_arm_layer_call_and_return_conditional_losses_2973309) with ops with unsaved custom gradients. Will likely fail if a gradient is requested.\n",
      "WARNING:absl:Importing a function (__inference_res_net_1_layer_call_and_return_conditional_losses_2936757) with ops with unsaved custom gradients. Will likely fail if a gradient is requested.\n",
      "WARNING:absl:Importing a function (__inference_res_net_model_tp_layer_call_and_return_conditional_losses_2956547) with ops with unsaved custom gradients. Will likely fail if a gradient is requested.\n",
      "WARNING:absl:Importing a function (__inference_res_net_1_layer_call_and_return_conditional_losses_2940766) with ops with unsaved custom gradients. Will likely fail if a gradient is requested.\n",
      "WARNING:absl:Importing a function (__inference_res_net_1_layer_call_and_return_conditional_losses_2972065) with ops with unsaved custom gradients. Will likely fail if a gradient is requested.\n",
      "WARNING:absl:Importing a function (__inference_dense_bn_layer_call_and_return_conditional_losses_2973414) with ops with unsaved custom gradients. Will likely fail if a gradient is requested.\n"
     ]
    },
    {
     "name": "stdout",
     "output_type": "stream",
     "text": [
      "WARNING:tensorflow:No training configuration found in save file, so the model was *not* compiled. Compile it manually.\n"
     ]
    },
    {
     "name": "stderr",
     "output_type": "stream",
     "text": [
      "WARNING:tensorflow:No training configuration found in save file, so the model was *not* compiled. Compile it manually.\n"
     ]
    },
    {
     "name": "stdout",
     "output_type": "stream",
     "text": [
      "test step - 5000/5000        \n",
      "=================================================================\n",
      "Test Loss: 0.744101345539093 \n",
      "Test Accuracy: 72.52 \n",
      "TP / FN / ACC: 3133, 39, 98.77\n",
      "FP / TN / ACC: 1335, 493, 26.97\n",
      "PACC / NACC / TACC: 70.12, 92.67, 72.52\n",
      "\n",
      "=================================================================\n",
      "\n",
      "inference: \t56545.0 ms/5000 = 11.309 ms (10.867/15.335)\n",
      "\n"
     ]
    },
    {
     "name": "stderr",
     "output_type": "stream",
     "text": [
      "WARNING:absl:Importing a function (__inference__wrapped_model_2920058) with ops with unsaved custom gradients. Will likely fail if a gradient is requested.\n",
      "WARNING:absl:Importing a function (__inference_dens1_grasp_layer_call_and_return_conditional_losses_2973284) with ops with unsaved custom gradients. Will likely fail if a gradient is requested.\n",
      "WARNING:absl:Importing a function (__inference_dense_bn_layer_call_and_return_conditional_losses_2937462) with ops with unsaved custom gradients. Will likely fail if a gradient is requested.\n",
      "WARNING:absl:Importing a function (__inference_dens1_arm_layer_call_and_return_conditional_losses_2937411) with ops with unsaved custom gradients. Will likely fail if a gradient is requested.\n",
      "WARNING:absl:Importing a function (__inference_dens1_grasp_layer_call_and_return_conditional_losses_2937366) with ops with unsaved custom gradients. Will likely fail if a gradient is requested.\n",
      "WARNING:absl:Importing a function (__inference_dense_bn_1_layer_call_and_return_conditional_losses_2973543) with ops with unsaved custom gradients. Will likely fail if a gradient is requested.\n",
      "WARNING:absl:Importing a function (__inference_dens1_ee_layer_call_and_return_conditional_losses_2973151) with ops with unsaved custom gradients. Will likely fail if a gradient is requested.\n",
      "WARNING:absl:Importing a function (__inference_dense_bn_1_layer_call_and_return_conditional_losses_2937510) with ops with unsaved custom gradients. Will likely fail if a gradient is requested.\n",
      "WARNING:absl:Importing a function (__inference_res_net_model_tp_layer_call_and_return_conditional_losses_2953934) with ops with unsaved custom gradients. Will likely fail if a gradient is requested.\n",
      "WARNING:absl:Importing a function (__inference_dense_bn_1_layer_call_and_return_conditional_losses_2973586) with ops with unsaved custom gradients. Will likely fail if a gradient is requested.\n",
      "WARNING:absl:Importing a function (__inference_dense_bn_layer_call_and_return_conditional_losses_2938841) with ops with unsaved custom gradients. Will likely fail if a gradient is requested.\n",
      "WARNING:absl:Importing a function (__inference_res_net_layer_call_and_return_conditional_losses_2935009) with ops with unsaved custom gradients. Will likely fail if a gradient is requested.\n",
      "WARNING:absl:Importing a function (__inference_res_net_model_tp_layer_call_and_return_conditional_losses_2961703) with ops with unsaved custom gradients. Will likely fail if a gradient is requested.\n",
      "WARNING:absl:Importing a function (__inference_res_net_layer_call_and_return_conditional_losses_2968563) with ops with unsaved custom gradients. Will likely fail if a gradient is requested.\n",
      "WARNING:absl:Importing a function (__inference_dense_bn_layer_call_and_return_conditional_losses_2973457) with ops with unsaved custom gradients. Will likely fail if a gradient is requested.\n",
      "WARNING:absl:Importing a function (__inference_res_net_layer_call_and_return_conditional_losses_2967347) with ops with unsaved custom gradients. Will likely fail if a gradient is requested.\n",
      "WARNING:absl:Importing a function (__inference_dense_bn_1_layer_call_and_return_conditional_losses_2938744) with ops with unsaved custom gradients. Will likely fail if a gradient is requested.\n",
      "WARNING:absl:Importing a function (__inference_res_net_layer_call_and_return_conditional_losses_2943053) with ops with unsaved custom gradients. Will likely fail if a gradient is requested.\n",
      "WARNING:absl:Importing a function (__inference_dens1_ee_layer_call_and_return_conditional_losses_2937305) with ops with unsaved custom gradients. Will likely fail if a gradient is requested.\n",
      "WARNING:absl:Importing a function (__inference_res_net_model_tp_layer_call_and_return_conditional_losses_2959090) with ops with unsaved custom gradients. Will likely fail if a gradient is requested.\n",
      "WARNING:absl:Importing a function (__inference_res_net_1_layer_call_and_return_conditional_losses_2970849) with ops with unsaved custom gradients. Will likely fail if a gradient is requested.\n",
      "WARNING:absl:Importing a function (__inference_dens1_arm_layer_call_and_return_conditional_losses_2973309) with ops with unsaved custom gradients. Will likely fail if a gradient is requested.\n",
      "WARNING:absl:Importing a function (__inference_res_net_1_layer_call_and_return_conditional_losses_2936757) with ops with unsaved custom gradients. Will likely fail if a gradient is requested.\n",
      "WARNING:absl:Importing a function (__inference_res_net_model_tp_layer_call_and_return_conditional_losses_2956547) with ops with unsaved custom gradients. Will likely fail if a gradient is requested.\n",
      "WARNING:absl:Importing a function (__inference_res_net_1_layer_call_and_return_conditional_losses_2940766) with ops with unsaved custom gradients. Will likely fail if a gradient is requested.\n",
      "WARNING:absl:Importing a function (__inference_res_net_1_layer_call_and_return_conditional_losses_2972065) with ops with unsaved custom gradients. Will likely fail if a gradient is requested.\n",
      "WARNING:absl:Importing a function (__inference_dense_bn_layer_call_and_return_conditional_losses_2973414) with ops with unsaved custom gradients. Will likely fail if a gradient is requested.\n"
     ]
    },
    {
     "name": "stdout",
     "output_type": "stream",
     "text": [
      "WARNING:tensorflow:No training configuration found in save file, so the model was *not* compiled. Compile it manually.\n"
     ]
    },
    {
     "name": "stderr",
     "output_type": "stream",
     "text": [
      "WARNING:tensorflow:No training configuration found in save file, so the model was *not* compiled. Compile it manually.\n"
     ]
    },
    {
     "name": "stdout",
     "output_type": "stream",
     "text": [
      "test step - 5000/5000        \n",
      "=================================================================\n",
      "Test Loss: 0.20582441985607147 \n",
      "Test Accuracy: 92.2 \n",
      "TP / FN / ACC: 201, 3, 98.53\n",
      "FP / TN / ACC: 387, 4409, 91.93\n",
      "PACC / NACC / TACC: 34.18, 99.93, 92.2\n",
      "\n",
      "=================================================================\n",
      "\n",
      "inference: \t56743.0 ms/5000 = 11.349 ms (10.777/18.38)\n",
      "\n"
     ]
    },
    {
     "name": "stderr",
     "output_type": "stream",
     "text": [
      "WARNING:absl:Importing a function (__inference__wrapped_model_2920058) with ops with unsaved custom gradients. Will likely fail if a gradient is requested.\n",
      "WARNING:absl:Importing a function (__inference_dens1_grasp_layer_call_and_return_conditional_losses_2973284) with ops with unsaved custom gradients. Will likely fail if a gradient is requested.\n",
      "WARNING:absl:Importing a function (__inference_dense_bn_layer_call_and_return_conditional_losses_2937462) with ops with unsaved custom gradients. Will likely fail if a gradient is requested.\n",
      "WARNING:absl:Importing a function (__inference_dens1_arm_layer_call_and_return_conditional_losses_2937411) with ops with unsaved custom gradients. Will likely fail if a gradient is requested.\n",
      "WARNING:absl:Importing a function (__inference_dens1_grasp_layer_call_and_return_conditional_losses_2937366) with ops with unsaved custom gradients. Will likely fail if a gradient is requested.\n",
      "WARNING:absl:Importing a function (__inference_dense_bn_1_layer_call_and_return_conditional_losses_2973543) with ops with unsaved custom gradients. Will likely fail if a gradient is requested.\n",
      "WARNING:absl:Importing a function (__inference_dens1_ee_layer_call_and_return_conditional_losses_2973151) with ops with unsaved custom gradients. Will likely fail if a gradient is requested.\n",
      "WARNING:absl:Importing a function (__inference_dense_bn_1_layer_call_and_return_conditional_losses_2937510) with ops with unsaved custom gradients. Will likely fail if a gradient is requested.\n",
      "WARNING:absl:Importing a function (__inference_res_net_model_tp_layer_call_and_return_conditional_losses_2953934) with ops with unsaved custom gradients. Will likely fail if a gradient is requested.\n",
      "WARNING:absl:Importing a function (__inference_dense_bn_1_layer_call_and_return_conditional_losses_2973586) with ops with unsaved custom gradients. Will likely fail if a gradient is requested.\n",
      "WARNING:absl:Importing a function (__inference_dense_bn_layer_call_and_return_conditional_losses_2938841) with ops with unsaved custom gradients. Will likely fail if a gradient is requested.\n",
      "WARNING:absl:Importing a function (__inference_res_net_layer_call_and_return_conditional_losses_2935009) with ops with unsaved custom gradients. Will likely fail if a gradient is requested.\n",
      "WARNING:absl:Importing a function (__inference_res_net_model_tp_layer_call_and_return_conditional_losses_2961703) with ops with unsaved custom gradients. Will likely fail if a gradient is requested.\n",
      "WARNING:absl:Importing a function (__inference_res_net_layer_call_and_return_conditional_losses_2968563) with ops with unsaved custom gradients. Will likely fail if a gradient is requested.\n",
      "WARNING:absl:Importing a function (__inference_dense_bn_layer_call_and_return_conditional_losses_2973457) with ops with unsaved custom gradients. Will likely fail if a gradient is requested.\n",
      "WARNING:absl:Importing a function (__inference_res_net_layer_call_and_return_conditional_losses_2967347) with ops with unsaved custom gradients. Will likely fail if a gradient is requested.\n",
      "WARNING:absl:Importing a function (__inference_dense_bn_1_layer_call_and_return_conditional_losses_2938744) with ops with unsaved custom gradients. Will likely fail if a gradient is requested.\n",
      "WARNING:absl:Importing a function (__inference_res_net_layer_call_and_return_conditional_losses_2943053) with ops with unsaved custom gradients. Will likely fail if a gradient is requested.\n",
      "WARNING:absl:Importing a function (__inference_dens1_ee_layer_call_and_return_conditional_losses_2937305) with ops with unsaved custom gradients. Will likely fail if a gradient is requested.\n",
      "WARNING:absl:Importing a function (__inference_res_net_model_tp_layer_call_and_return_conditional_losses_2959090) with ops with unsaved custom gradients. Will likely fail if a gradient is requested.\n",
      "WARNING:absl:Importing a function (__inference_res_net_1_layer_call_and_return_conditional_losses_2970849) with ops with unsaved custom gradients. Will likely fail if a gradient is requested.\n",
      "WARNING:absl:Importing a function (__inference_dens1_arm_layer_call_and_return_conditional_losses_2973309) with ops with unsaved custom gradients. Will likely fail if a gradient is requested.\n",
      "WARNING:absl:Importing a function (__inference_res_net_1_layer_call_and_return_conditional_losses_2936757) with ops with unsaved custom gradients. Will likely fail if a gradient is requested.\n",
      "WARNING:absl:Importing a function (__inference_res_net_model_tp_layer_call_and_return_conditional_losses_2956547) with ops with unsaved custom gradients. Will likely fail if a gradient is requested.\n",
      "WARNING:absl:Importing a function (__inference_res_net_1_layer_call_and_return_conditional_losses_2940766) with ops with unsaved custom gradients. Will likely fail if a gradient is requested.\n",
      "WARNING:absl:Importing a function (__inference_res_net_1_layer_call_and_return_conditional_losses_2972065) with ops with unsaved custom gradients. Will likely fail if a gradient is requested.\n",
      "WARNING:absl:Importing a function (__inference_dense_bn_layer_call_and_return_conditional_losses_2973414) with ops with unsaved custom gradients. Will likely fail if a gradient is requested.\n"
     ]
    },
    {
     "name": "stdout",
     "output_type": "stream",
     "text": [
      "WARNING:tensorflow:No training configuration found in save file, so the model was *not* compiled. Compile it manually.\n"
     ]
    },
    {
     "name": "stderr",
     "output_type": "stream",
     "text": [
      "WARNING:tensorflow:No training configuration found in save file, so the model was *not* compiled. Compile it manually.\n"
     ]
    },
    {
     "name": "stdout",
     "output_type": "stream",
     "text": [
      "test step - 5000/5000        \n",
      "=================================================================\n",
      "Test Loss: 0.14306873083114624 \n",
      "Test Accuracy: 95.19999999999999 \n",
      "TP / FN / ACC: 2469, 31, 98.76\n",
      "FP / TN / ACC: 209, 2291, 91.64\n",
      "PACC / NACC / TACC: 92.2, 98.66, 95.2\n",
      "\n",
      "=================================================================\n",
      "\n",
      "inference: \t57094.0 ms/5000 = 11.419 ms (10.826/40.461)\n",
      "\n",
      "========= Filtered =========\n",
      "filtered:\n",
      "\t PP \t \t PN \t \t 5000\n",
      "GP \t 2916 \t \t 256 \t \t 91.93%\n",
      "GN \t 380 \t \t 1448 \t 79.21%\n",
      "AL \t 88.47% \t 84.98% \t 87.28%\n",
      "failmore:\n",
      "\t PP \t \t PN \t \t 5000\n",
      "GP \t 183 \t \t 21 \t \t 89.71%\n",
      "GN \t 1500 \t \t 3296 \t 68.72%\n",
      "AL \t 10.87% \t 99.37% \t 69.58%\n",
      "balanced:\n",
      "\t PP \t \t PN \t \t 5000\n",
      "GP \t 2294 \t \t 206 \t \t 91.76%\n",
      "GN \t 773 \t \t 1727 \t 69.08%\n",
      "AL \t 74.80% \t 89.34% \t 80.42%\n",
      "========================\n",
      "\n",
      "========= Failmore =========\n",
      "filtered:\n",
      "\t PP \t \t PN \t \t 5000\n",
      "GP \t 1650 \t \t 1522 \t \t 52.02%\n",
      "GN \t 136 \t \t 1692 \t 92.56%\n",
      "AL \t 92.39% \t 52.64% \t 66.84%\n",
      "failmore:\n",
      "\t PP \t \t PN \t \t 5000\n",
      "GP \t 104 \t \t 100 \t \t 50.98%\n",
      "GN \t 47 \t \t 4749 \t 99.02%\n",
      "AL \t 68.87% \t 97.94% \t 97.06%\n",
      "balanced:\n",
      "\t PP \t \t PN \t \t 5000\n",
      "GP \t 1293 \t \t 1207 \t \t 51.72%\n",
      "GN \t 32 \t \t 2468 \t 98.72%\n",
      "AL \t 97.58% \t 67.16% \t 75.22%\n",
      "========================\n",
      "\n",
      "========= Balanced =========\n",
      "filtered:\n",
      "\t PP \t \t PN \t \t 5000\n",
      "GP \t 3133 \t \t 39 \t \t 98.77%\n",
      "GN \t 1335 \t \t 493 \t 26.97%\n",
      "AL \t 70.12% \t 92.67% \t 72.52%\n",
      "failmore:\n",
      "\t PP \t \t PN \t \t 5000\n",
      "GP \t 201 \t \t 3 \t \t 98.53%\n",
      "GN \t 387 \t \t 4409 \t 91.93%\n",
      "AL \t 34.18% \t 99.93% \t 92.20%\n",
      "balanced:\n",
      "\t PP \t \t PN \t \t 5000\n",
      "GP \t 2469 \t \t 31 \t \t 98.76%\n",
      "GN \t 209 \t \t 2291 \t 91.64%\n",
      "AL \t 92.20% \t 98.66% \t 95.20%\n",
      "========================\n",
      "\n"
     ]
    }
   ],
   "source": [
    "print(\"========= Filtered =========\")\n",
    "model_foler, epoch_folder = '20211004-024301', 'model_10'\n",
    "filtered_res = []\n",
    "filtered_res.append(test_script(data_pairs_test_filtered, ROBOT_MODEL_ROOT+\"-filtered\", model_foler, epoch_folder))\n",
    "filtered_res.append(test_script(data_pairs_test_failmore, ROBOT_MODEL_ROOT+\"-filtered\", model_foler, epoch_folder))\n",
    "filtered_res.append(test_script(data_pairs_test_mixed, ROBOT_MODEL_ROOT+\"-filtered\", model_foler, epoch_folder))\n",
    "\n",
    "print(\"========= Failmore =========\")\n",
    "model_foler, epoch_folder = '20211004-030343', 'model_15'\n",
    "failmore_res = []\n",
    "failmore_res.append(test_script(data_pairs_test_filtered, ROBOT_MODEL_ROOT+\"-failmore\", model_foler, epoch_folder))\n",
    "failmore_res.append(test_script(data_pairs_test_failmore, ROBOT_MODEL_ROOT+\"-failmore\", model_foler, epoch_folder))\n",
    "failmore_res.append(test_script(data_pairs_test_mixed, ROBOT_MODEL_ROOT+\"-failmore\", model_foler, epoch_folder))\n",
    "\n",
    "print(\"========= Balanced =========\")\n",
    "model_foler, epoch_folder = '20211004-032424', 'model_1'\n",
    "balanced_res = []\n",
    "balanced_res.append(test_script(data_pairs_test_filtered, ROBOT_MODEL_ROOT+\"-balanced\", model_foler, epoch_folder))\n",
    "balanced_res.append(test_script(data_pairs_test_failmore, ROBOT_MODEL_ROOT+\"-balanced\", model_foler, epoch_folder))\n",
    "balanced_res.append(test_script(data_pairs_test_mixed, ROBOT_MODEL_ROOT+\"-balanced\", model_foler, epoch_folder))\n",
    "\n",
    "print(\"========= Filtered =========\")\n",
    "print(\"filtered:\")\n",
    "print_confusion_mat(*filtered_res[0])\n",
    "print(\"failmore:\")\n",
    "print_confusion_mat(*filtered_res[1])\n",
    "print(\"balanced:\")\n",
    "print_confusion_mat(*filtered_res[2])\n",
    "print(\"========================\\n\")\n",
    "\n",
    "print(\"========= Failmore =========\")\n",
    "print(\"filtered:\")\n",
    "print_confusion_mat(*failmore_res[0])\n",
    "print(\"failmore:\")\n",
    "print_confusion_mat(*failmore_res[1])\n",
    "print(\"balanced:\")\n",
    "print_confusion_mat(*failmore_res[2])\n",
    "print(\"========================\\n\")\n",
    "\n",
    "print(\"========= Balanced =========\")\n",
    "print(\"filtered:\")\n",
    "print_confusion_mat(*balanced_res[0])\n",
    "print(\"failmore:\")\n",
    "print_confusion_mat(*balanced_res[1])\n",
    "print(\"balanced:\")\n",
    "print_confusion_mat(*balanced_res[2])\n",
    "print(\"========================\\n\")"
   ]
  },
  {
   "cell_type": "code",
   "execution_count": null,
   "metadata": {},
   "outputs": [],
   "source": []
  },
  {
   "cell_type": "markdown",
   "metadata": {},
   "source": [
    "### Test result - panda\n",
    "```\n",
    "inference: \t57094.0 ms/5000 = 11.419 ms (10.826/40.461)\n",
    "\n",
    "========= Filtered =========\n",
    "filtered:\n",
    "         PP \t \t      PN \t \t 5000\n",
    "GP \t 2916 \t \t    256 \t \t91.93%\n",
    "GN \t 380 \t \t   1448 \t   79.21%\n",
    "AL \t 88.47% \t84.98%      87.28%\n",
    "failmore:\n",
    "\t PP \t \t PN \t \t 5000\n",
    "GP \t 183 \t \t 21 \t \t 89.71%\n",
    "GN \t 1500 \t \t 3296 \t 68.72%\n",
    "AL \t 10.87% \t 99.37% \t 69.58%\n",
    "balanced:\n",
    "\t PP \t \t PN \t \t 5000\n",
    "GP \t 2294 \t \t 206 \t \t 91.76%\n",
    "GN \t 773 \t \t 1727 \t 69.08%\n",
    "AL \t 74.80% \t 89.34% \t 80.42%\n",
    "========================\n",
    "\n",
    "========= Failmore =========\n",
    "filtered:\n",
    "\t PP \t \t PN \t \t 5000\n",
    "GP \t 1650 \t \t 1522 \t \t 52.02%\n",
    "GN \t 136 \t \t 1692 \t 92.56%\n",
    "AL \t 92.39% \t 52.64% \t 66.84%\n",
    "failmore:\n",
    "\t PP \t \t PN \t \t 5000\n",
    "GP \t 104 \t \t 100 \t \t 50.98%\n",
    "GN \t 47 \t \t 4749 \t 99.02%\n",
    "AL \t 68.87% \t 97.94% \t 97.06%\n",
    "balanced:\n",
    "\t PP \t \t PN \t \t 5000\n",
    "GP \t 1293 \t \t 1207 \t \t 51.72%\n",
    "GN \t 32 \t \t 2468 \t 98.72%\n",
    "AL \t 97.58% \t 67.16% \t 75.22%\n",
    "========================\n",
    "\n",
    "========= Balanced =========\n",
    "filtered:\n",
    "\t PP \t \t PN \t \t 5000\n",
    "GP \t 3133 \t \t 39 \t \t 98.77%\n",
    "GN \t 1335 \t \t 493 \t 26.97%\n",
    "AL \t 70.12% \t 92.67% \t 72.52%\n",
    "failmore:\n",
    "\t PP \t \t PN \t \t 5000\n",
    "GP \t 201 \t \t 3 \t \t 98.53%\n",
    "GN \t 387 \t \t 4409 \t 91.93%\n",
    "AL \t 34.18% \t 99.93% \t 92.20%\n",
    "balanced:\n",
    "\t PP \t \t PN \t \t 5000\n",
    "GP \t 2469 \t \t 31 \t \t 98.76%\n",
    "GN \t 209 \t \t 2291 \t 91.64%\n",
    "AL \t 92.20% \t 98.66% \t 95.20%\n",
    "========================\n",
    "```"
   ]
  },
  {
   "cell_type": "code",
   "execution_count": null,
   "metadata": {},
   "outputs": [],
   "source": []
  },
  {
   "cell_type": "code",
   "execution_count": null,
   "metadata": {},
   "outputs": [],
   "source": []
  },
  {
   "cell_type": "markdown",
   "metadata": {},
   "source": [
    "## Test convergence"
   ]
  },
  {
   "cell_type": "code",
   "execution_count": null,
   "metadata": {},
   "outputs": [],
   "source": [
    "last_model = sorted(os.listdir(ROBOT_MODEL_ROOT))[-1]\n",
    "logpath = os.path.join(ROBOT_MODEL_ROOT, last_model)\n",
    "\n",
    "model_epoch_list = []\n",
    "acc_epoch_list = []\n",
    "loss_epoch_list = []\n",
    "# last_save = sorted([item for item in os.listdir(logpath) if item.startswith(\"model\")])[-1]\n",
    "# last_save = 'model_1'\n",
    "for last_save in sorted([item for item in os.listdir(logpath) if item.startswith(\"model\")], key=lambda x: int(x[6:])):\n",
    "    model_log_dir = os.path.join(logpath, last_save)\n",
    "\n",
    "    import tensorflow as tf\n",
    "    model = tf.keras.models.load_model(model_log_dir)\n",
    "\n",
    "    @tf.function\n",
    "    def inference(images):\n",
    "        # training=False is only needed if there are layers with different\n",
    "        # behavior during training versus inference (e.g. Dropout).\n",
    "        predictions = model(images, training=False)\n",
    "        return predictions\n",
    "\n",
    "    loss_object = tf.keras.losses.BinaryCrossentropy()\n",
    "\n",
    "    @tf.function\n",
    "    def calc_loss(labels, predictions):\n",
    "        # training=False is only needed if there are layers with different\n",
    "        # behavior during training versus inference (e.g. Dropout).\n",
    "        return loss_object(labels, predictions)\n",
    "    \n",
    "    BATCH_SIZE = 50\n",
    "    LOG_STEP = 100\n",
    "    N_test = len(data_pairs_test)\n",
    "    gtimer = GlobalTimer.instance()\n",
    "    gtimer.reset()\n",
    "\n",
    "    i_step = 0\n",
    "    res_list = []\n",
    "    label_list = []\n",
    "    loss_list= []\n",
    "    grasp_img_batch = []\n",
    "    arm_img_batch = []\n",
    "    rh_mask_batch = []\n",
    "    label_batch = [] \n",
    "    for data_pair in data_pairs_test:\n",
    "        i_step += 1\n",
    "        grasp_img, arm_img, rh_mask, label = load_data(data_pair)\n",
    "        grasp_img_batch.append(grasp_img)\n",
    "        arm_img_batch.append(arm_img)\n",
    "        rh_mask_batch.append(rh_mask)\n",
    "        label_batch.append(label)\n",
    "        if len(grasp_img_batch)==BATCH_SIZE:\n",
    "            grasp_img_batch, arm_img_batch, rh_mask_batch = np.array(grasp_img_batch), np.array(arm_img_batch), np.array(rh_mask_batch)\n",
    "            with gtimer.block(\"inference\"):\n",
    "                res = inference([grasp_img_batch, arm_img_batch, rh_mask_batch])\n",
    "            loss = calc_loss(label_batch, res)\n",
    "            res_list = res_list + list(res.numpy()>0.5)\n",
    "            label_list = label_list + label_batch\n",
    "            loss_list.append(loss.numpy())\n",
    "            grasp_img_batch = []\n",
    "            arm_img_batch = []\n",
    "            rh_mask_batch = []\n",
    "            label_batch = [] \n",
    "        if i_step%LOG_STEP==0:\n",
    "            print(\"test step - {}/{}        \".format(i_step, N_test), end = '\\r')\n",
    "\n",
    "    res_list = np.array(res_list)[:5000,1]\n",
    "    label_list = np.array(label_list)[:5000,1]\n",
    "    loss_list = np.array(loss_list)[:5000]\n",
    "    \n",
    "    acc = np.mean(np.equal(res_list, label_list)) * 100\n",
    "    mean_loss = np.mean(loss_list)\n",
    "\n",
    "    print(\"\")\n",
    "    print(\"=================================================================\")\n",
    "    print(\n",
    "        f'Test Loss: {mean_loss} \\n'\n",
    "        f'Test Accuracy: {acc} \\n'\n",
    "        f'TP / FN / ACC: {np.sum(np.logical_and(res_list, label_list))}, ' \n",
    "        f'{np.sum(np.logical_and(np.logical_not(res_list), label_list))}, ' \n",
    "        f'{round(np.mean(res_list[np.where(label_list)])*100,2)}\\n'\n",
    "        f'FP / TN / ACC: {np.sum(np.logical_and(res_list, np.logical_not(label_list)))}, '\n",
    "        f'{np.sum(np.logical_and(np.logical_not(res_list), np.logical_not(label_list)))}, '\n",
    "        f'{round(np.mean(np.logical_not(res_list[np.where(np.logical_not(label_list))]))*100,2)}\\n'\n",
    "        f'PACC / NACC / TACC: {round(np.mean(label_list[np.where(res_list)])*100,2)}, '\n",
    "        f'{round(np.mean(np.logical_not(label_list[np.where(np.logical_not(res_list))]))*100,2)}, '\n",
    "        f'{round(np.mean(res_list==label_list)*100,2)}\\n'\n",
    "    )\n",
    "    print(\"=================================================================\")\n",
    "    print(\"\")\n",
    "    print(gtimer)\n",
    "    model_epoch_list.append(last_save)\n",
    "    acc_epoch_list.append(acc)\n",
    "    loss_epoch_list.append(mean_loss)"
   ]
  },
  {
   "cell_type": "code",
   "execution_count": null,
   "metadata": {
    "scrolled": true
   },
   "outputs": [],
   "source": [
    "import matplotlib.pyplot as plt\n",
    "print(model_epoch_list)\n",
    "plt.figure(figsize=(10,3))\n",
    "plt.subplot(1,2,1)\n",
    "plt.plot(acc_epoch_list)\n",
    "plt.subplot(1,2,2)\n",
    "plt.plot(loss_epoch_list)"
   ]
  },
  {
   "cell_type": "code",
   "execution_count": null,
   "metadata": {},
   "outputs": [],
   "source": [
    "save_json(ROBOT_TYPE_NAME+\".json\", {\"epoch\": np.array(model_epoch_list), \"acc\": np.array(acc_epoch_list), \"loss\": np.array(loss_epoch_list)})"
   ]
  },
  {
   "cell_type": "code",
   "execution_count": null,
   "metadata": {},
   "outputs": [],
   "source": []
  },
  {
   "cell_type": "markdown",
   "metadata": {},
   "source": [
    "## test on shared array"
   ]
  },
  {
   "cell_type": "code",
   "execution_count": null,
   "metadata": {},
   "outputs": [],
   "source": [
    "import SharedArray as sa\n",
    "BATCH_SIZE = 1\n",
    "SERVER_PERIOD = 1e-2\n",
    "# Create an array in shared memory.\n",
    "robot_type_p = sa.attach(\"shm://robot_type\")\n",
    "grasp_img_p = sa.attach(\"shm://grasp_img\")\n",
    "arm_img_p = sa.attach(\"shm://arm_img\")\n",
    "rh_mask_p = sa.attach(\"shm://rh_mask\")\n",
    "result_p = sa.attach(\"shm://result\")\n",
    "query_in = sa.attach(\"shm://query_in\")\n",
    "response_out = sa.attach(\"shm://response_out\")\n",
    "query_quit = sa.attach(\"shm://query_quit\")\n",
    "\n",
    "def query_wait_response(grasp_img_batch, arm_img_batch, rh_mask_batch):\n",
    "    grasp_img_p[:] = grasp_img_batch[:]\n",
    "    arm_img_p[:] = arm_img_batch[:]\n",
    "    rh_mask_p[:] = rh_mask_batch[:]\n",
    "    query_in[0] = True\n",
    "    while not response_out[0]:\n",
    "        time.sleep(SERVER_PERIOD)\n",
    "    response_out[0] = False\n",
    "    return np.copy(result_p)\n",
    "\n",
    "def quit_shared_server():\n",
    "    query_quit[0] = True"
   ]
  },
  {
   "cell_type": "code",
   "execution_count": null,
   "metadata": {},
   "outputs": [],
   "source": [
    "LOG_STEP = 100\n",
    "N_test = len(data_pairs_test)\n",
    "\n",
    "i_step = 0\n",
    "data_batch, label_batch = [], []\n",
    "result_list = []\n",
    "label_list = []\n",
    "for data_pair in data_pairs_test:\n",
    "    i_step += 1\n",
    "    grasp_img, arm_img, rh_mask, label = load_data(data_pair)\n",
    "    data_batch.append([grasp_img, arm_img, rh_mask])\n",
    "    label_batch.append(label)\n",
    "    if i_step%BATCH_SIZE==0:\n",
    "        grasp_img_batch = np.array([grasp_img for grasp_img, arm_img, rh_mask in data_batch])\n",
    "        arm_img_batch = np.array([arm_img for grasp_img, arm_img, rh_mask in data_batch])\n",
    "        rh_mask_batch = np.array([rh_mask for grasp_img, arm_img, rh_mask in data_batch])\n",
    "        label_batch = np.array(label_batch, dtype=np.int)\n",
    "        result = query_wait_response(grasp_img_batch, arm_img_batch, rh_mask_batch)\n",
    "        result_list.append(result)\n",
    "        label_list.append(label_batch)\n",
    "        data_batch, label_batch = [], []\n",
    "    if i_step%LOG_STEP==0:\n",
    "        print(\"test step - {}/{}        \".format(i_step, N_test), end = '\\r')"
   ]
  },
  {
   "cell_type": "code",
   "execution_count": null,
   "metadata": {},
   "outputs": [],
   "source": [
    "result_all = np.array(result_list)\n",
    "label_all = np.array(label_list)"
   ]
  },
  {
   "cell_type": "code",
   "execution_count": null,
   "metadata": {},
   "outputs": [],
   "source": [
    "np.mean(np.round(result_all).astype(np.int) == label_all.astype(np.int), axis=0)"
   ]
  },
  {
   "cell_type": "code",
   "execution_count": null,
   "metadata": {},
   "outputs": [],
   "source": [
    "quit_shared_server()"
   ]
  },
  {
   "cell_type": "code",
   "execution_count": null,
   "metadata": {},
   "outputs": [],
   "source": []
  }
 ],
 "metadata": {
  "kernelspec": {
   "display_name": "Python 3",
   "language": "python",
   "name": "python3"
  },
  "language_info": {
   "codemirror_mode": {
    "name": "ipython",
    "version": 3
   },
   "file_extension": ".py",
   "mimetype": "text/x-python",
   "name": "python",
   "nbconvert_exporter": "python",
   "pygments_lexer": "ipython3",
   "version": "3.6.9"
  }
 },
 "nbformat": 4,
 "nbformat_minor": 2
}
