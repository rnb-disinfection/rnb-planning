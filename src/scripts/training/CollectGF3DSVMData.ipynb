{
 "cells": [
  {
   "cell_type": "markdown",
   "metadata": {},
   "source": [
    "## set running directory"
   ]
  },
  {
   "cell_type": "code",
   "execution_count": 1,
   "metadata": {},
   "outputs": [],
   "source": [
    "from __future__ import print_function\n",
    "import os\n",
    "os.chdir(os.path.join(os.environ[\"RNB_PLANNING_DIR\"], 'src'))"
   ]
  },
  {
   "cell_type": "code",
   "execution_count": 2,
   "metadata": {},
   "outputs": [],
   "source": [
    "from pkg.controller.combined_robot import *\n",
    "from pkg.utils.utils import get_now, try_mkdir\n",
    "\n",
    "\n",
    "DATA_PATH = os.path.join(os.environ['RNB_PLANNING_DIR'], \"data\")\n",
    "try_mkdir(DATA_PATH)\n",
    "\n",
    "GF_DATA_PATH = os.path.join(DATA_PATH, \"gf3d\")\n",
    "try_mkdir(GF_DATA_PATH)"
   ]
  },
  {
   "cell_type": "code",
   "execution_count": null,
   "metadata": {},
   "outputs": [],
   "source": []
  },
  {
   "cell_type": "code",
   "execution_count": 3,
   "metadata": {},
   "outputs": [],
   "source": [
    "VISUALIZE = True\n",
    "\n",
    "# ROBOT_TYPE = RobotType.indy7\n",
    "# ROBOT_NAME = \"indy0\"\n",
    "# TOOL_LINK = \"indy0_tcp\"\n",
    "# TOOL_LINK_BUNDLE = [\"indy0_tcp\", \"indy0_link6\"]\n",
    "# TOOL_XYZ = (0,0,0.14)\n",
    "# GRIP_DEPTH = 0.05\n",
    "HOME_POSE = (0,0,0,0,0,0)\n",
    "\n",
    "ROBOT_TYPE = RobotType.panda\n",
    "ROBOT_NAME = \"panda0\"\n",
    "TOOL_LINK = \"panda0_hand\"\n",
    "TOOL_LINK_BUNDLE = [\"panda0_hand\", \"panda0_link6\"]\n",
    "TOOL_XYZ = (0,0,0.112)\n",
    "GRIP_DEPTH = 0.03\n",
    "HOME_POSE = (0,-0.3,0,-0.5,0,2.5,0)\n",
    "\n",
    "\n",
    "TOOL_RPY = (-np.pi/2,0,0)\n",
    "CLEARANCE = 1e-3\n",
    "TIMEOUT_REACH = 1\n",
    "TIMEOUT_RETRIEVE = 3\n",
    "\n",
    "assert TOOL_LINK_BUNDLE[0] == TOOL_LINK, \"TOOL_LINK_BUNDLE should be in reverse order including actor's link as the first item\""
   ]
  },
  {
   "cell_type": "code",
   "execution_count": null,
   "metadata": {},
   "outputs": [],
   "source": []
  },
  {
   "cell_type": "markdown",
   "metadata": {},
   "source": [
    "## init combined robot config"
   ]
  },
  {
   "cell_type": "code",
   "execution_count": 4,
   "metadata": {},
   "outputs": [
    {
     "name": "stdout",
     "output_type": "stream",
     "text": [
      "connection_list\n",
      "[False]\n"
     ]
    }
   ],
   "source": [
    "\n",
    "from pkg.project_config import *\n",
    "\n",
    "crob = CombinedRobot(robots_on_scene=[\n",
    "    RobotConfig(0, ROBOT_TYPE, None,\n",
    "                None)]\n",
    "              , connection_list=[False])\n",
    "ROBOT_NAME = crob.robot_names[0]"
   ]
  },
  {
   "cell_type": "code",
   "execution_count": 5,
   "metadata": {},
   "outputs": [],
   "source": [
    "from pkg.geometry.builder.scene_builder import SceneBuilder\n",
    "s_builder = SceneBuilder(None, base_link=\"base_link\")\n",
    "# s_builder.reset_reference_coord(ref_name=\"floor\")"
   ]
  },
  {
   "cell_type": "code",
   "execution_count": null,
   "metadata": {},
   "outputs": [],
   "source": []
  },
  {
   "cell_type": "markdown",
   "metadata": {},
   "source": [
    "## get ghnd with detected robot config"
   ]
  },
  {
   "cell_type": "code",
   "execution_count": 6,
   "metadata": {
    "scrolled": true
   },
   "outputs": [
    {
     "name": "stdout",
     "output_type": "stream",
     "text": [
      "Please create a subscriber to the marker\n",
      "publication OK\n",
      "published: [0, 0, 0, 0, 0, 0, 0]\n"
     ]
    }
   ],
   "source": [
    "# xyz_rpy_robots = s_builder.detect_items(level_mask=[DetectionLevel.ROBOT])\n",
    "xyz_rpy_robots = {ROBOT_NAME: ((0,0,0), (0,0,0))}\n",
    "crob.update_robot_pos_dict(xyz_rpy_robots=xyz_rpy_robots)\n",
    "gscene = s_builder.create_gscene(crob, start_rviz=VISUALIZE)\n",
    "HOME_DICT = list2dict(HOME_POSE, gscene.joint_names)\n"
   ]
  },
  {
   "cell_type": "code",
   "execution_count": 7,
   "metadata": {},
   "outputs": [],
   "source": [
    "from pkg.utils.joint_utils import get_tf\n",
    "shoulder_link = gscene.urdf_content.joint_map[gscene.joint_names[1]].child\n",
    "shoulder_height = get_tf(shoulder_link, HOME_DICT, gscene.urdf_content)[2,3]"
   ]
  },
  {
   "cell_type": "code",
   "execution_count": null,
   "metadata": {},
   "outputs": [],
   "source": []
  },
  {
   "cell_type": "markdown",
   "metadata": {},
   "source": [
    "## add environment"
   ]
  },
  {
   "cell_type": "code",
   "execution_count": 8,
   "metadata": {},
   "outputs": [],
   "source": [
    "from pkg.geometry.geometry import *"
   ]
  },
  {
   "cell_type": "code",
   "execution_count": 9,
   "metadata": {},
   "outputs": [
    {
     "name": "stdout",
     "output_type": "stream",
     "text": [
      "Please create a subscriber to the marker\n"
     ]
    }
   ],
   "source": [
    "gtems_robot = s_builder.add_robot_geometries(color=(0,1,0,0.5), display=True, collision=True, exclude_link=[\"panda1_link7\"])"
   ]
  },
  {
   "cell_type": "code",
   "execution_count": null,
   "metadata": {},
   "outputs": [],
   "source": []
  },
  {
   "cell_type": "markdown",
   "metadata": {},
   "source": [
    "## init planning scene"
   ]
  },
  {
   "cell_type": "code",
   "execution_count": 10,
   "metadata": {},
   "outputs": [],
   "source": [
    "from pkg.planning.scene import PlanningScene\n",
    "pscene = PlanningScene(gscene, combined_robot=crob)\n",
    "\n",
    "from pkg.planning.pipeline import PlanningPipeline\n",
    "ppline = PlanningPipeline(pscene)"
   ]
  },
  {
   "cell_type": "code",
   "execution_count": null,
   "metadata": {},
   "outputs": [],
   "source": []
  },
  {
   "cell_type": "markdown",
   "metadata": {},
   "source": [
    "## Register binders"
   ]
  },
  {
   "cell_type": "code",
   "execution_count": 11,
   "metadata": {},
   "outputs": [],
   "source": [
    "from pkg.planning.constraint.constraint_actor import Gripper2Tool, PlacePlane, SweepTool"
   ]
  },
  {
   "cell_type": "code",
   "execution_count": 12,
   "metadata": {},
   "outputs": [],
   "source": [
    "gscene.create_safe(gtype=GEOTYPE.SPHERE, name=\"grip0\", link_name=TOOL_LINK, \n",
    "                 dims=(0.01,)*3, center=TOOL_XYZ, rpy=TOOL_RPY, color=(1,0,0,1), display=True, collision=False, fixed=True)\n",
    "gripper = pscene.create_binder(bname=\"grip0\", gname=\"grip0\", rname=ROBOT_NAME, _type=Gripper2Tool, point=(0,0,0), rpy=(0,0,0))"
   ]
  },
  {
   "cell_type": "code",
   "execution_count": null,
   "metadata": {},
   "outputs": [],
   "source": []
  },
  {
   "cell_type": "markdown",
   "metadata": {},
   "source": [
    "## planner"
   ]
  },
  {
   "cell_type": "code",
   "execution_count": 13,
   "metadata": {},
   "outputs": [],
   "source": [
    "from pkg.planning.motion.moveit.moveit_planner import MoveitPlanner\n",
    "from pkg.planning.filtering.grasp_filter import GraspChecker\n",
    "from pkg.planning.filtering.reach_filter import ReachChecker\n",
    "from pkg.planning.filtering.latticized_filter import LatticedChecker\n",
    "mplan = MoveitPlanner(pscene)\n",
    "\n",
    "checkers=[]\n",
    "gcheck = GraspChecker(pscene, end_link_couple_dict= {TOOL_LINK: TOOL_LINK_BUNDLE, \"base_link\":[\"base_link\"]})\n",
    "checkers.append(gcheck)\n",
    "rcheck = ReachChecker(pscene)\n",
    "checkers.append(rcheck)\n",
    "# lcheck = LatticedChecker(pscene, end_link_couple_dict= {TOOL_LINK: TOOL_LINK_BUNDLE, \"base_link\":[\"base_link\"]})\n",
    "# checkers.append(lcheck)\n"
   ]
  },
  {
   "cell_type": "code",
   "execution_count": null,
   "metadata": {},
   "outputs": [],
   "source": []
  },
  {
   "cell_type": "markdown",
   "metadata": {},
   "source": [
    "## ui"
   ]
  },
  {
   "cell_type": "code",
   "execution_count": 14,
   "metadata": {},
   "outputs": [
    {
     "name": "stdout",
     "output_type": "stream",
     "text": [
      "Dash is running on http://0.0.0.0:8050/\n",
      "\n",
      " * Serving Flask app \"pkg.ui.dash_launcher\" (lazy loading)\n",
      " * Environment: production\n",
      "   WARNING: This is a development server. Do not use it in a production deployment.\n",
      "   Use a production WSGI server instead.\n",
      " * Debug mode: off\n"
     ]
    }
   ],
   "source": [
    "from pkg.ui.ui_broker import *\n",
    "\n",
    "# start UI\n",
    "ui_broker = UIBroker.instance()\n",
    "ui_broker.initialize(ppline, s_builder)\n",
    "ui_broker.start_server()\n",
    "\n",
    "ui_broker.set_tables()"
   ]
  },
  {
   "cell_type": "code",
   "execution_count": null,
   "metadata": {},
   "outputs": [],
   "source": []
  },
  {
   "cell_type": "markdown",
   "metadata": {},
   "source": [
    "# Object Classes"
   ]
  },
  {
   "cell_type": "code",
   "execution_count": 15,
   "metadata": {},
   "outputs": [],
   "source": [
    "from pkg.utils.gjk import get_point_list, get_gjk_distance\n",
    "from pkg.planning.constraint.constraint_subject import CustomObject, Grasp2Point, PlacePoint, SweepPoint, SweepTask\n",
    "\n",
    "##\n",
    "# @class ObstacleBase\n",
    "# @brief base class for obstacle generators\n",
    "class ObstacleBase:\n",
    "    RTH_MIN = None ## R: center ~ nearest point\n",
    "    RTH_MAX = None\n",
    "    RPY_MIN = None\n",
    "    RPY_MAX = None\n",
    "    DIM_MIN = None\n",
    "    DIM_MAX = None\n",
    "    GTYPE = None\n",
    "    COLOR = (0.7,0.7,0.7,1)\n",
    "    \n",
    "    def __init__(self, gscene, name, sampler=np.random.uniform, DIM=None, RTH=None, RPY=None):\n",
    "        self.name = name\n",
    "        self.DIM = sampler(self.DIM_MIN, self.DIM_MAX) if DIM is None else DIM\n",
    "        self.RTH = sampler(self.RTH_MIN, self.RTH_MAX) if RTH is None else RTH\n",
    "        self.RPY = sampler(self.RPY_MIN, self.RPY_MAX) if RPY is None else RPY\n",
    "        self.RPY[2] += self.RTH[1]\n",
    "        self.XYZ = np.array(cyl2cart(*self.RTH))\n",
    "        verts_rotated = np.matmul(Rot_rpy(self.RPY), (DEFAULT_VERT_DICT[self.GTYPE]*self.DIM).transpose())\n",
    "        xy_normed = self.XYZ[:2]/(np.linalg.norm(self.XYZ[:2])+1e-6)\n",
    "        verts_r_compo = np.dot(xy_normed, verts_rotated[:2,:])\n",
    "        self.XYZ[:2] -= xy_normed[:2]*np.min(verts_r_compo)\n",
    "        self.RTH[0] -= np.min(verts_r_compo)\n",
    "        self.geometry = gscene.create_safe(gtype=self.GTYPE, name=self.name, link_name=\"base_link\", \n",
    "                                  dims=self.DIM, center=tuple(self.XYZ), rpy=self.RPY,\n",
    "                                  color=self.COLOR, display=True, collision=True, fixed=True)\n",
    "        self.subgeo_list = []\n",
    "        \n",
    "    def is_overlapped_with(self, gtem):\n",
    "        verts, radii = gtem.get_vertice_radius()\n",
    "        verts_global = np.add(np.matmul(verts, gtem.orientation_mat.transpose()), gtem.center)\n",
    "        verts_me, raddii_me = self.geometry.get_vertice_radius()\n",
    "        verts_me_global = np.add(np.matmul(verts_me, self.geometry.orientation_mat.transpose()), \n",
    "                                 self.geometry.center)\n",
    "        return get_gjk_distance(get_point_list(verts_global), get_point_list(verts_me_global))-radii-raddii_me < 1e-4\n",
    "        \n",
    "##\n",
    "# @class WorkPlane\n",
    "# @brief working plane. target and obstacle objects are generated on this plane\n",
    "class WorkPlane(ObstacleBase):\n",
    "    RTH_MIN = (0.2, 0, -0.05)\n",
    "    RTH_MAX = (0.2, 0, 0.35)\n",
    "    RPY_MIN = (0, 0, 0)\n",
    "    RPY_MAX = (0, 0, 0)\n",
    "    DIM_MIN = (1, 1, 0.1)\n",
    "    DIM_MAX = (1, 1, 0.1)\n",
    "    GTYPE = GEOTYPE.BOX\n",
    "    COLOR=  (0.8,0.8,0.2,0.5)\n",
    "    \n",
    "    def __init__(self, gscene, name, *args, **kwargs):\n",
    "        ObstacleBase.__init__(self, gscene, name, *args, **kwargs)\n",
    "        \n",
    "    def is_overlapped_with(self, gtem):\n",
    "        verts, radii = gtem.get_vertice_radius()\n",
    "        verts_global = np.add(np.matmul(verts, gtem.orientation_mat.transpose()), gtem.center)\n",
    "        verts_wp = np.multiply(DEFAULT_VERT_DICT[self.GTYPE], tuple(self.DIM[:2])+(self.H,))\n",
    "        verts_wp_global = np.add(np.matmul(verts_wp, self.geometry.orientation_mat.transpose()), \n",
    "                                 np.add(self.geometry.center, (0,0,self.H/2)))\n",
    "        return get_gjk_distance(get_point_list(verts_global), get_point_list(verts_wp_global))-radii < 1e-4\n",
    "    \n",
    "##\n",
    "# @class PlaneObstacle\n",
    "# @brief Obstacles on the workplane\n",
    "class PlaneObject(ObstacleBase):\n",
    "    RTH_MIN = (0.2, -np.pi/2, -0.2)\n",
    "    RTH_MAX = (0.8, +np.pi/2, +0.5)\n",
    "    RPY_MIN = (0, 0, 0)\n",
    "    RPY_MAX = (0, 0, 0)\n",
    "    DIM_MIN = (0.02, GRIP_DEPTH, GRIP_DEPTH)\n",
    "    DIM_MAX = (0.1, 0.3, 0.3)\n",
    "    GTYPE = GEOTYPE.BOX\n",
    "    COLOR =  (0.2,0.2,0.8,0.5)\n",
    "    def __init__(self, gscene, name, workplane, XYZ_LOC=None, **kwargs):\n",
    "        ObstacleBase.__init__(self, gscene=gscene, name=name, **kwargs)\n",
    "        verts, radii = self.geometry.get_vertice_radius()\n",
    "        verts_rot = np.matmul(self.geometry.orientation_mat, verts.transpose()) ## verices with global orientaion\n",
    "        verts_rot_loc = np.matmul(workplane.geometry.Toff[:3,:3].transpose(), verts_rot) ## verices with local orientaion\n",
    "        max_verts = np.max(verts_rot_loc, axis=-1)\n",
    "        min_verts = np.min(verts_rot_loc, axis=-1)\n",
    "        if XYZ_LOC is None:\n",
    "            self.XYZ_LOC = np.random.uniform(np.negative(workplane.DIM)/2-min_verts+radii,np.array(workplane.DIM)/2-max_verts-radii)\n",
    "            self.XYZ_LOC[2] = workplane.DIM[2]/2 + self.DIM[2]/2 + CLEARANCE\n",
    "        else:\n",
    "            self.XYZ_LOC = self.XYZ_LOC\n",
    "        self.XYZ = np.matmul(workplane.geometry.Toff[:3,:3], self.XYZ_LOC) + workplane.geometry.Toff[:3,3]\n",
    "        self.RPY = (0,0,0)\n",
    "        self.geometry.set_offset_tf(center = self.XYZ, orientation_mat=Rot_rpy(self.RPY))\n",
    "        self.RTH = cart2cyl(*self.XYZ)\n",
    "        gscene.update_marker(self.geometry)\n",
    "        \n",
    "        \n",
    "def clear_class(gscene, key, Nmax):\n",
    "    for iw in range(Nmax):\n",
    "        gname = \"{}_{}\".format(key, iw)\n",
    "        if gname in gscene.NAME_DICT:\n",
    "            gscene.remove(gscene.NAME_DICT[gname])\n",
    "\n",
    "            \n",
    "def disperse_objects(gscene, object_class, key, Nobj, workplane_on):\n",
    "    clear_class(gscene, key, Nobj)\n",
    "        \n",
    "    obs_list = []\n",
    "    for iw in range(Nobj):\n",
    "        while len(obs_list) != iw+1:\n",
    "            obs = object_class(gscene, \"{}_{}\".format(key, iw), workplane_on)\n",
    "            remove_this = False\n",
    "            for obs_pre in obs_list:\n",
    "                if obs_pre.is_overlapped_with(obs.geometry):\n",
    "                    remove_this = True\n",
    "                    break\n",
    "            if remove_this:\n",
    "                gscene.remove(obs.geometry)\n",
    "            else:\n",
    "                obs_list.append(obs)\n",
    "    return obs_list\n",
    "\n",
    "\n",
    "def add_object(pscene, obj, HANDLE_THICKNESS=1e-6, HANDLE_COLOR = (1,0,0,0.3)):\n",
    "    gscene = pscene.gscene\n",
    "    handles = []\n",
    "    handles.append(\n",
    "        gscene.create_safe(gtype=GEOTYPE.BOX, name=\"hdl_tp_a\", link_name=\"base_link\", \n",
    "                       dims=(GRIP_DEPTH, obj.DIM[1],HANDLE_THICKNESS), center=(0,0,obj.DIM[2]/2-GRIP_DEPTH/2), rpy=(0,np.pi/2,0), \n",
    "                           color=HANDLE_COLOR, display=True, collision=False, fixed=False,\n",
    "                       parent=obj.name)\n",
    "    )\n",
    "\n",
    "    handles.append(\n",
    "        gscene.create_safe(gtype=GEOTYPE.BOX, name=\"hdl_tp_b\", link_name=\"base_link\", \n",
    "                       dims=(GRIP_DEPTH, obj.DIM[1],HANDLE_THICKNESS), center=(0,0,obj.DIM[2]/2-GRIP_DEPTH/2), rpy=(0,-np.pi/2,0), \n",
    "                           color=HANDLE_COLOR, display=True, collision=False, fixed=False,\n",
    "                       parent=obj.name)\n",
    "    )\n",
    "\n",
    "    handles.append(\n",
    "        gscene.create_safe(gtype=GEOTYPE.BOX, name=\"hdl_ft_a\", link_name=\"base_link\", \n",
    "                       dims=(obj.DIM[2], GRIP_DEPTH,HANDLE_THICKNESS), center=(0,obj.DIM[1]/2-GRIP_DEPTH/2,0), rpy=(0,np.pi/2,0), \n",
    "                           color=HANDLE_COLOR, display=True, collision=False, fixed=False,\n",
    "                       parent=obj.name)\n",
    "    )\n",
    "\n",
    "    handles.append(\n",
    "        gscene.create_safe(gtype=GEOTYPE.BOX, name=\"hdl_ft_b\", link_name=\"base_link\", \n",
    "                       dims=(obj.DIM[2], GRIP_DEPTH,HANDLE_THICKNESS), center=(0,obj.DIM[1]/2-GRIP_DEPTH/2,0), rpy=(0,-np.pi/2,0), \n",
    "                           color=HANDLE_COLOR, display=True, collision=False, fixed=False,\n",
    "                       parent=obj.name)\n",
    "    )\n",
    "\n",
    "    handles.append(\n",
    "        gscene.create_safe(gtype=GEOTYPE.BOX, name=\"hdl_bk_a\", link_name=\"base_link\", \n",
    "                       dims=(obj.DIM[2], GRIP_DEPTH,HANDLE_THICKNESS), center=(0,-obj.DIM[1]/2+GRIP_DEPTH/2,0), rpy=(0,np.pi/2,0), \n",
    "                       color=HANDLE_COLOR, display=True, collision=False, fixed=False,\n",
    "                   parent=obj.name)\n",
    "    )\n",
    "\n",
    "    handles.append(\n",
    "        gscene.create_safe(gtype=GEOTYPE.BOX, name=\"hdl_bk_b\", link_name=\"base_link\", \n",
    "                       dims=(obj.DIM[2], GRIP_DEPTH,HANDLE_THICKNESS), center=(0,-obj.DIM[1]/2+GRIP_DEPTH/2,0), rpy=(0,-np.pi/2,0), \n",
    "                           color=HANDLE_COLOR, display=True, collision=False, fixed=False,\n",
    "                       parent=obj.name)\n",
    "    )\n",
    "\n",
    "    action_points_dict = {\"placement\": PlacePoint(\"placement\", obj.geometry, [0,0,-obj.DIM[2]/2], [0,0,0])}\n",
    "    action_points_dict.update({handle.name: Grasp2Point(handle.name, handle, None, (0,0,0)) for handle in handles})\n",
    "    obj_pscene = pscene.create_object(oname=obj.name, gname=obj.name, _type=CustomObject, \n",
    "                                 action_points_dict=action_points_dict)\n",
    "    return obj_pscene, handles\n",
    "\n",
    "def get_geometric_feature(object_geo, obstacle_geo, workplane):\n",
    "    xvec = [1,0,0]\n",
    "    xvec_obj = np.matmul(object_geo.orientation_mat, xvec)\n",
    "    theta_obj = np.arctan2(xvec_obj[1], xvec_obj[0])\n",
    "    theta_obj_loc = (theta_obj+np.pi/4)%(np.pi/2)-np.pi/4\n",
    "    theta_obj_step = theta_obj - theta_obj_loc\n",
    "    xvec_obs = np.matmul(obstacle_geo.orientation_mat, xvec)\n",
    "    theta_obs = np.arctan2(xvec_obs[1], xvec_obs[0])\n",
    "    theta_obs_loc = (theta_obs+np.pi/4)%(np.pi/2)-np.pi/4\n",
    "    theta_obs_step = theta_obs - theta_obs_loc\n",
    "    \n",
    "    delta_cylcoord = cart2cyl(*np.subtract(obstacle_geo.center, object_geo.center))[:2]\n",
    "    delta_cylcoord = list(delta_cylcoord) + [delta_cylcoord[1]**2]\n",
    "    return list(np.matmul(Rot_axis(3, theta_obj_step), object_geo.dims))+\\\n",
    "            list(np.matmul(Rot_axis(3, theta_obs_step), obstacle_geo.dims))+\\\n",
    "            list(cart2cyl(*object_geo.center)[:2])+list(cart2cyl(*obstacle_geo.center)[:2])+delta_cylcoord+\\\n",
    "            [workplane.RTH[2], theta_obj_loc, theta_obs_loc]\n",
    "\n",
    "ROTBINDING_LIST = [(False, 'hdl_tp_a'), (False, 'hdl_tp_b'),\n",
    "                    (False, 'hdl_ft_a'), (False, 'hdl_ft_b'),\n",
    "                    (False, 'hdl_bk_a'), (False, 'hdl_bk_b'),\n",
    "                    (True, 'hdl_tp_a'), (True, 'hdl_tp_b'),\n",
    "                    (True, 'hdl_ft_a'), (True, 'hdl_ft_b'),\n",
    "                    (True, 'hdl_bk_a'), (True, 'hdl_bk_b')\n",
    "                   ]\n",
    "\n",
    "FIXED_REDUNDANCY_DICT = {'hdl_tp_a':-np.pi/2, 'hdl_tp_b':np.pi/2, \n",
    "                         'hdl_ft_a': 0, 'hdl_ft_b': 0, \n",
    "                         'hdl_bk_a': np.pi, 'hdl_bk_b': np.pi}\n",
    "\n",
    "ROBOT_DATA_ROOT = os.path.join(GF_DATA_PATH, ROBOT_TYPE.name)\n",
    "try_mkdir(ROBOT_DATA_ROOT)"
   ]
  },
  {
   "cell_type": "code",
   "execution_count": null,
   "metadata": {},
   "outputs": [],
   "source": []
  },
  {
   "cell_type": "markdown",
   "metadata": {},
   "source": [
    "## collect trainset"
   ]
  },
  {
   "cell_type": "code",
   "execution_count": 16,
   "metadata": {},
   "outputs": [
    {
     "name": "stdout",
     "output_type": "stream",
     "text": [
      "1 / 50 in 12.42 / 620.88 s -- reach,retrieve = (0.0 %, 0.0 %)                     \n",
      "11 / 50 in 127.13 / 577.85 s -- reach,retrieve = (7.6 %, 7.6 %)                     \n",
      "21 / 50 in 221.44 / 527.23 s -- reach,retrieve = (17.5 %, 17.5 %)                     \n",
      "31 / 50 in 326.18 / 526.1 s -- reach,retrieve = (17.7 %, 17.7 %)                      \n",
      "41 / 50 in 419.01 / 510.99 s -- reach,retrieve = (20.9 %, 20.9 %)                     \n",
      "50 / 50 in 519.79 / 519.79 s -- reach,retrieve = (19.2 %, 19.2 %)                     \n",
      "\n",
      "============= Finished 50 in 519.79 s -- reach,retrieve = (19.2 %, 19.2 %) =================\n"
     ]
    }
   ],
   "source": [
    "N_max_sample = 50\n",
    "N_print = 10\n",
    "\n",
    "i_s = 0\n",
    "i_print = 0\n",
    "features_dat_dict = {k: [] for k in ROTBINDING_LIST}\n",
    "reach_list_dict = {k: [] for k in ROTBINDING_LIST}\n",
    "retrieve_list_dict = {k: [] for k in ROTBINDING_LIST}\n",
    "reach_list = []\n",
    "retrieve_list = []\n",
    "gtimer = GlobalTimer.instance()\n",
    "gtimer.reset()\n",
    "gtimer.tic(\"full_loop\")\n",
    "while i_s < N_max_sample:\n",
    "    ## set workplane\n",
    "    wp = WorkPlane(gscene, \"wp\")\n",
    "    pscene.create_binder(bname=\"wp\", gname=\"wp\", _type=PlacePlane)\n",
    "\n",
    "    ## add object\n",
    "    obj_list = disperse_objects(gscene, PlaneObject, \"obj\", 2, workplane_on=wp)\n",
    "\n",
    "    obj = obj_list[0]\n",
    "    SHOW_PERIOD = 0.05\n",
    "    N_sample = 1000\n",
    "    obj_pscene, handles = add_object(pscene, obj)\n",
    "    mplan.update_gscene()\n",
    "    \n",
    "    for rotate_obj in [False, True]:\n",
    "        if rotate_obj:\n",
    "            obj_pscene.geometry.set_offset_tf(orientation_mat=Rot_axis(3,np.pi/2))\n",
    "        else:\n",
    "            obj_pscene.geometry.set_offset_tf(orientation_mat=Rot_axis(3,0))\n",
    "        obj_pscene.geometry.set_offset_tf(orientation_mat=np.matmul(obj_pscene.geometry.orientation_mat, \n",
    "                                                                    Rot_axis(3,np.random.uniform(-np.pi/4, np.pi/4-1e-6))))\n",
    "            \n",
    "        for obj_tmp in obj_list[1:]:\n",
    "            Rot_candis = [Rot_axis(3,np.pi/2), Rot_axis(3,0)]\n",
    "            i_rot = random.choice([0,1])\n",
    "            obj_tmp.geometry.set_offset_tf(orientation_mat=Rot_candis[i_rot])\n",
    "            obj_tmp.geometry.set_offset_tf(orientation_mat=np.matmul(obj_tmp.geometry.orientation_mat, \n",
    "                                                                     Rot_axis(3,np.random.uniform(-np.pi/4, np.pi/4-1e-6))))\n",
    "            if obj_tmp.is_overlapped_with(obj_pscene.geometry):\n",
    "                obj_tmp.geometry.set_offset_tf(orientation_mat=Rot_candis[(i_rot+1)%2])\n",
    "                obj_tmp.geometry.set_offset_tf(orientation_mat=np.matmul(obj_tmp.geometry.orientation_mat, \n",
    "                                                                         Rot_axis(3,np.random.uniform(-np.pi/4, np.pi/4-1e-6))))\n",
    "            while obj_tmp.is_overlapped_with(obj_pscene.geometry):\n",
    "                obs = obj_tmp.__init__(gscene, obj_tmp.name, wp)\n",
    "\n",
    "        initial_state = pscene.update_state(HOME_POSE)\n",
    "        pscene.set_object_state(initial_state)\n",
    "        from_state = initial_state.copy(pscene)\n",
    "        to_node = (\"grip0\",)\n",
    "\n",
    "        bp_list = [rotbd[1] for rotbd in ROTBINDING_LIST if rotbd[0]==rotate_obj]\n",
    "        for bp in bp_list:\n",
    "            to_state, redundancy_dict = pscene.sample_leaf_state(from_state, {'obj_0': [(bp, 'grip0', 'grip0')]}, to_node)\n",
    "            redundancy_dict['obj_0']['grip0']['w'] = FIXED_REDUNDANCY_DICT[bp]\n",
    "            redundancy_dict['obj_0'][bp]['w'] = 0\n",
    "            redundancy_dict['obj_0'][bp]['x'] = 0\n",
    "            redundancy_dict['obj_0'][bp]['y'] = 0\n",
    "\n",
    "            success_reach, success_retrieve = False, False\n",
    "            Traj_reach, LastQ, error, success_reach, binding_list = mplan.plan_transition(\n",
    "                from_state=from_state, to_state=to_state, redundancy_dict=redundancy_dict, timeout=TIMEOUT_REACH)\n",
    "            #             print(\"reach: {}\".format(success_reach))\n",
    "            Traj_retrieve = []\n",
    "            if success_reach:\n",
    "                if VISUALIZE:\n",
    "                    gscene.show_motion(Traj_reach, period=SHOW_PERIOD)\n",
    "                for bd in binding_list:\n",
    "                    pscene.rebind(bd, list2dict(LastQ, pscene.gscene.joint_names))\n",
    "                binding_state, state_param = pscene.get_object_state()\n",
    "                new_state = State(binding_state, state_param, list(LastQ), pscene)\n",
    "                end_state = new_state.copy(pscene)\n",
    "                end_state.Q = np.array(HOME_POSE)\n",
    "                Traj_retrieve, LastQ, error, success_retrieve, binding_list = mplan.plan_transition(\n",
    "                    from_state=new_state, to_state=end_state, timeout=TIMEOUT_RETRIEVE)\n",
    "            #                 print(\"retrieve: {}\".format(success_retrieve))\n",
    "                if success_retrieve and VISUALIZE:\n",
    "                    gscene.show_motion(Traj_retrieve, period=SHOW_PERIOD)\n",
    "            features_dat_dict[(rotate_obj, bp)].append(get_geometric_feature(gscene.NAME_DICT['obj_0'], gscene.NAME_DICT['obj_1'], wp))\n",
    "            reach_list_dict[(rotate_obj, bp)].append(success_reach)\n",
    "            retrieve_list_dict[(rotate_obj, bp)].append(success_retrieve)\n",
    "            reach_list.append(success_reach)\n",
    "            retrieve_list.append(success_retrieve)\n",
    "            pscene.set_object_state(initial_state)\n",
    "            gscene.update_markers_all()\n",
    "    i_s += 1\n",
    "    gscene.update_markers_all()\n",
    "    if i_s > 0 :\n",
    "        if i_s > i_print*N_print:\n",
    "            i_print +=  1\n",
    "            print_end = \"\\n\"\n",
    "        else:\n",
    "            print_end = \"\\r\"\n",
    "        time_elapsed = gtimer.toc(\"full_loop\")/1000\n",
    "        print(\"{} / {} in {} / {} s -- reach,retrieve = ({} %, {} %)                     \".format(\n",
    "            i_s, N_max_sample, round(time_elapsed, 2), round(time_elapsed/i_s*N_max_sample, 2), \n",
    "            round(np.mean(reach_list)*100, 1), round(np.mean(retrieve_list)*100, 1)), end=print_end)\n",
    "\n",
    "time_elapsed = gtimer.toc(\"full_loop\")/1000\n",
    "print(\"\")\n",
    "print(\"\")\n",
    "print(\"============= Finished {} in {} s -- reach,retrieve = ({} %, {} %) =================\".format(\n",
    "    i_s, round(time_elapsed, 2), round(np.mean(reach_list)*100, 1), round(np.mean(retrieve_list)*100, 1)))"
   ]
  },
  {
   "cell_type": "code",
   "execution_count": null,
   "metadata": {},
   "outputs": [],
   "source": []
  },
  {
   "cell_type": "markdown",
   "metadata": {},
   "source": [
    "## save data"
   ]
  },
  {
   "cell_type": "code",
   "execution_count": 17,
   "metadata": {},
   "outputs": [],
   "source": [
    "DATASET_PATH = os.path.join(ROBOT_DATA_ROOT, get_now())\n",
    "try_mkdir(DATASET_PATH)\n",
    "\n",
    "save_pickle(os.path.join(DATASET_PATH, \"train_dat.pkl\"), \n",
    "            {\"features_dat_dict\": features_dat_dict, \"retrieve_list_dict\": retrieve_list_dict})"
   ]
  },
  {
   "cell_type": "markdown",
   "metadata": {},
   "source": [
    "## load data"
   ]
  },
  {
   "cell_type": "code",
   "execution_count": 16,
   "metadata": {},
   "outputs": [],
   "source": [
    "DATASET_PATH = os.path.join(ROBOT_DATA_ROOT, sorted(os.listdir(ROBOT_DATA_ROOT))[-1])\n",
    "\n",
    "train_dat = load_pickle(os.path.join(DATASET_PATH, \"train_dat.pkl\"))\n",
    "features_dat_dict_train = train_dat[\"features_dat_dict\"]\n",
    "retrieve_list_dict_train = train_dat[\"retrieve_list_dict\"]"
   ]
  },
  {
   "cell_type": "code",
   "execution_count": null,
   "metadata": {},
   "outputs": [],
   "source": []
  },
  {
   "cell_type": "markdown",
   "metadata": {},
   "source": [
    "## collect testset"
   ]
  },
  {
   "cell_type": "code",
   "execution_count": 19,
   "metadata": {},
   "outputs": [
    {
     "name": "stdout",
     "output_type": "stream",
     "text": [
      "1 / 20 in 12.25 / 244.99 s -- reach,retrieve = (0.0 %, 0.0 %)                     \n",
      "11 / 20 in 109.23 / 198.59 s -- reach,retrieve = (23.5 %, 23.5 %)                     \n",
      "20 / 20 in 202.27 / 202.27 s -- reach,retrieve = (22.1 %, 22.1 %)                     \n",
      "\n",
      "============= Finished 20 in 202.27 s -- reach,retrieve = (22.1 %, 22.1 %) =================\n"
     ]
    }
   ],
   "source": [
    "N_max_sample = 20\n",
    "N_print = 10\n",
    "\n",
    "i_s = 0\n",
    "i_print = 0\n",
    "features_dat_dict = {k: [] for k in ROTBINDING_LIST}\n",
    "reach_list_dict = {k: [] for k in ROTBINDING_LIST}\n",
    "retrieve_list_dict = {k: [] for k in ROTBINDING_LIST}\n",
    "feature_time_list = []\n",
    "filter_results_dict =  {checker.__class__.__name__: {k: [] for k in ROTBINDING_LIST} for checker in checkers}\n",
    "filter_time_dict = {checker.__class__.__name__: [] for checker in checkers}\n",
    "reach_list = []\n",
    "retrieve_list = []\n",
    "gtimer = GlobalTimer.instance()\n",
    "gtimer.reset()\n",
    "gtimer.tic(\"full_loop\")\n",
    "while i_s < N_max_sample:\n",
    "    ## set workplane\n",
    "    wp = WorkPlane(gscene, \"wp\")\n",
    "    pscene.create_binder(bname=\"wp\", gname=\"wp\", _type=PlacePlane)\n",
    "\n",
    "    ## add object\n",
    "    obj_list = disperse_objects(gscene, PlaneObject, \"obj\", 2, workplane_on=wp)\n",
    "\n",
    "    obj = obj_list[0]\n",
    "    SHOW_PERIOD = 0.05\n",
    "    N_sample = 1000\n",
    "    obj_pscene, handles = add_object(pscene, obj)\n",
    "    mplan.update_gscene()\n",
    "    for rotate_obj in [False, True]:\n",
    "        if rotate_obj:\n",
    "            obj_pscene.geometry.set_offset_tf(orientation_mat=Rot_axis(3,np.pi/2))\n",
    "        else:\n",
    "            obj_pscene.geometry.set_offset_tf(orientation_mat=Rot_axis(3,0))\n",
    "        obj_pscene.geometry.set_offset_tf(orientation_mat=np.matmul(obj_pscene.geometry.orientation_mat, \n",
    "                                                                    Rot_axis(3,np.random.uniform(-np.pi/4, np.pi/4-1e-6))))\n",
    "            \n",
    "        for obj_tmp in obj_list[1:]:\n",
    "            Rot_candis = [Rot_axis(3,np.pi/2), Rot_axis(3,0)]\n",
    "            i_rot = random.choice([0,1])\n",
    "            obj_tmp.geometry.set_offset_tf(orientation_mat=Rot_candis[i_rot])\n",
    "            obj_tmp.geometry.set_offset_tf(orientation_mat=np.matmul(obj_tmp.geometry.orientation_mat, \n",
    "                                                                     Rot_axis(3,np.random.uniform(-np.pi/4, np.pi/4-1e-6))))\n",
    "            if obj_tmp.is_overlapped_with(obj_pscene.geometry):\n",
    "                obj_tmp.geometry.set_offset_tf(orientation_mat=Rot_candis[(i_rot+1)%2])\n",
    "                obj_tmp.geometry.set_offset_tf(orientation_mat=np.matmul(obj_tmp.geometry.orientation_mat, \n",
    "                                                                         Rot_axis(3,np.random.uniform(-np.pi/4, np.pi/4-1e-6))))\n",
    "            while obj_tmp.is_overlapped_with(obj_pscene.geometry):\n",
    "                obs = obj_tmp.__init__(gscene, obj_tmp.name, wp)\n",
    "            \n",
    "        initial_state = pscene.update_state(HOME_POSE)\n",
    "        pscene.set_object_state(initial_state)\n",
    "        from_state = initial_state.copy(pscene)\n",
    "        to_node = (\"grip0\",)\n",
    "\n",
    "        bp_list = [rotbd[1] for rotbd in ROTBINDING_LIST if rotbd[0]==rotate_obj]\n",
    "        for bp in bp_list:\n",
    "            to_state, redundancy_dict = pscene.sample_leaf_state(from_state, {'obj_0': [(bp, 'grip0', 'grip0')]}, to_node)\n",
    "            redundancy_dict['obj_0']['grip0']['w'] = FIXED_REDUNDANCY_DICT[bp]\n",
    "            redundancy_dict['obj_0'][bp]['w'] = 0\n",
    "            redundancy_dict['obj_0'][bp]['x'] = 0\n",
    "            redundancy_dict['obj_0'][bp]['y'] = 0\n",
    "            \n",
    "            for checker in checkers:\n",
    "                fname = checker.__class__.__name__\n",
    "                gtimer.tic(fname)\n",
    "                res = checker.check(gripper, obj_pscene, obj_pscene.action_points_dict[to_state.binding_state[0][1]], redundancy_dict[obj.name], HOME_DICT)\n",
    "                etime = gtimer.toc(fname)\n",
    "                if fname == \"GraspChecker\":\n",
    "                    res_col = res\n",
    "                filter_time_dict[fname].append(etime)\n",
    "                filter_results_dict[fname][(rotate_obj, bp)].append(res)\n",
    "\n",
    "            success_reach, success_retrieve = False, False\n",
    "            Traj_reach, LastQ, error, success_reach, binding_list = mplan.plan_transition(\n",
    "                from_state=from_state, to_state=to_state, redundancy_dict=redundancy_dict, timeout=TIMEOUT_REACH)\n",
    "            #             print(\"reach: {}\".format(success_reach))\n",
    "            Traj_retrieve = []\n",
    "            if success_reach:\n",
    "                if VISUALIZE:\n",
    "                    gscene.show_motion(Traj_reach, period=SHOW_PERIOD)\n",
    "                for bd in binding_list:\n",
    "                    pscene.rebind(bd, list2dict(LastQ, pscene.gscene.joint_names))\n",
    "                binding_state, state_param = pscene.get_object_state()\n",
    "                new_state = State(binding_state, state_param, list(LastQ), pscene)\n",
    "                end_state = new_state.copy(pscene)\n",
    "                end_state.Q = np.array(HOME_POSE)\n",
    "                Traj_retrieve, LastQ, error, success_retrieve, binding_list = mplan.plan_transition(\n",
    "                    from_state=new_state, to_state=end_state, timeout=TIMEOUT_RETRIEVE)\n",
    "            #                 print(\"retrieve: {}\".format(success_retrieve))\n",
    "                if success_retrieve and VISUALIZE:\n",
    "                    gscene.show_motion(Traj_retrieve, period=SHOW_PERIOD)\n",
    "            if success_retrieve and not res_col:\n",
    "                raise(RuntimeError(\"Something's wrong: successful motion but collision checker failed\"))\n",
    "            obj_geo, obs_go = gscene.NAME_DICT['obj_0'], gscene.NAME_DICT['obj_1']\n",
    "            gtimer.tic(\"get_geometric_feature\")\n",
    "            feature = get_geometric_feature(obj_geo, obs_go, wp)\n",
    "            feature_time_list.append(gtimer.toc(\"get_geometric_feature\"))\n",
    "            features_dat_dict[(rotate_obj, bp)].append(feature)\n",
    "            reach_list_dict[(rotate_obj, bp)].append(success_reach)\n",
    "            retrieve_list_dict[(rotate_obj, bp)].append(success_retrieve)\n",
    "            reach_list.append(success_reach)\n",
    "            retrieve_list.append(success_retrieve)\n",
    "            pscene.set_object_state(initial_state)\n",
    "            gscene.update_markers_all()\n",
    "    i_s += 1\n",
    "    gscene.update_markers_all()\n",
    "    if i_s > 0 :\n",
    "        if i_s > i_print*N_print:\n",
    "            i_print +=  1\n",
    "            print_end = \"\\n\"\n",
    "        else:\n",
    "            print_end = \"\\r\"\n",
    "        time_elapsed = gtimer.toc(\"full_loop\")/1000\n",
    "        print(\"{} / {} in {} / {} s -- reach,retrieve = ({} %, {} %)                     \".format(\n",
    "            i_s, N_max_sample, round(time_elapsed, 2), round(time_elapsed/i_s*N_max_sample, 2), \n",
    "            round(np.mean(reach_list)*100, 1), round(np.mean(retrieve_list)*100, 1)), end=print_end)\n",
    "\n",
    "time_elapsed = gtimer.toc(\"full_loop\")/1000\n",
    "print(\"\")\n",
    "print(\"\")\n",
    "print(\"============= Finished {} in {} s -- reach,retrieve = ({} %, {} %) =================\".format(\n",
    "    i_s, round(time_elapsed, 2), round(np.mean(reach_list)*100, 1), round(np.mean(retrieve_list)*100, 1)))"
   ]
  },
  {
   "cell_type": "code",
   "execution_count": null,
   "metadata": {},
   "outputs": [],
   "source": []
  },
  {
   "cell_type": "markdown",
   "metadata": {},
   "source": [
    "## save data"
   ]
  },
  {
   "cell_type": "code",
   "execution_count": 20,
   "metadata": {},
   "outputs": [],
   "source": [
    "DATASET_PATH = os.path.join(ROBOT_DATA_ROOT, sorted(os.listdir(ROBOT_DATA_ROOT))[-1])\n",
    "\n",
    "save_pickle(os.path.join(DATASET_PATH, \"test_dat.pkl\"), \n",
    "            {\"features_dat_dict\": features_dat_dict, \"retrieve_list_dict\": retrieve_list_dict,\n",
    "             \"filter_results_dict\": filter_results_dict,\n",
    "             \"filter_time_dict\": filter_time_dict, \n",
    "             \"feature_time_list\": feature_time_list})"
   ]
  },
  {
   "cell_type": "markdown",
   "metadata": {},
   "source": [
    "## load data"
   ]
  },
  {
   "cell_type": "code",
   "execution_count": 17,
   "metadata": {},
   "outputs": [],
   "source": [
    "DATASET_PATH = os.path.join(ROBOT_DATA_ROOT, sorted(os.listdir(ROBOT_DATA_ROOT))[-1])\n",
    "\n",
    "test_dat = load_pickle(os.path.join(DATASET_PATH, \"test_dat.pkl\"))\n",
    "features_dat_dict_test = test_dat[\"features_dat_dict\"]\n",
    "retrieve_list_dict_test = test_dat[\"retrieve_list_dict\"]\n",
    "filter_results_dict = test_dat[\"filter_results_dict\"]\n",
    "filter_time_dict = test_dat[\"filter_time_dict\"]\n",
    "feature_time_list = test_dat[\"feature_time_list\"]"
   ]
  },
  {
   "cell_type": "code",
   "execution_count": null,
   "metadata": {},
   "outputs": [],
   "source": []
  },
  {
   "cell_type": "markdown",
   "metadata": {},
   "source": [
    "## train model"
   ]
  },
  {
   "cell_type": "code",
   "execution_count": 18,
   "metadata": {},
   "outputs": [],
   "source": [
    "from sklearn import svm\n",
    "gtimer = GlobalTimer.instance()"
   ]
  },
  {
   "cell_type": "code",
   "execution_count": 19,
   "metadata": {},
   "outputs": [
    {
     "name": "stdout",
     "output_type": "stream",
     "text": [
      "================================================================================\n",
      "trainning accuracy = 99.67 %\n",
      "trainning success accuracy = 100.0 %\n",
      "trainning failure accuracy = 99.59 %\n",
      "================================================================================\n",
      "test accuracy = 99.58 %\n",
      "test success accuracy = 98.11 %\n",
      "test failure accuracy = 100.0 %\n",
      "--------------------------------------------------------------------------------\n",
      "feature time = 0.193 (0.062/0.711)ms\n",
      "inference time = 0.037 (0.034/0.094)ms\n",
      "================================================================================\n"
     ]
    },
    {
     "name": "stderr",
     "output_type": "stream",
     "text": [
      "/home/rnb/.local/lib/python2.7/site-packages/sklearn/svm/base.py:196: FutureWarning:\n",
      "\n",
      "The default value of gamma will change from 'auto' to 'scale' in version 0.22 to account better for unscaled features. Set gamma explicitly to 'auto' or 'scale' to avoid this warning.\n",
      "\n"
     ]
    }
   ],
   "source": [
    "C_svm = 10\n",
    "\n",
    "train_res_all = []\n",
    "success_list_all = []\n",
    "clf_dict = {}\n",
    "for rotbd in ROTBINDING_LIST:\n",
    "    feature_mat_train = np.array(features_dat_dict_train[rotbd])\n",
    "    label_array = np.array(retrieve_list_dict_train[rotbd])\n",
    "    clf_dict[rotbd] = svm.SVC(kernel='rbf', C=C_svm)\n",
    "    clf_dict[rotbd].fit(feature_mat_train, label_array)\n",
    "    train_res_all = train_res_all + list(np.equal(clf_dict[rotbd].predict(feature_mat_train), label_array))\n",
    "    success_list_all = success_list_all + list(label_array)\n",
    "train_res_all = np.array(train_res_all)\n",
    "\n",
    "test_res_all = []\n",
    "success_list_all_test = []\n",
    "test_time_all = []\n",
    "for rotbd in ROTBINDING_LIST:\n",
    "    feature_mat_test = np.array(features_dat_dict_test[rotbd])\n",
    "    label_array_test = np.array(retrieve_list_dict_test[rotbd])\n",
    "    for features, label in zip(feature_mat_test, label_array_test):\n",
    "        clf = clf_dict[rotbd]\n",
    "        gtimer.tic(\"predict\")\n",
    "        res = clf.predict(np.array([features]))\n",
    "        test_time_all.append(gtimer.toc(\"predict\"))\n",
    "        test_res_all.append(np.equal(res[0], label))\n",
    "    success_list_all_test = success_list_all_test + list(label_array_test)\n",
    "test_res_all = np.array(test_res_all)\n",
    "\n",
    "\n",
    "print(\"=\" * 80)\n",
    "print(\"trainning accuracy = {} %\".format(round(np.mean(train_res_all) * 100, 2)))\n",
    "print(\"trainning success accuracy = {} %\".format(\n",
    "    round(np.mean(train_res_all[np.where(success_list_all)]) * 100, 2)))\n",
    "print(\"trainning failure accuracy = {} %\".format(\n",
    "    round(np.mean(train_res_all[np.where(np.logical_not(success_list_all))]) * 100, 2)))\n",
    "print(\"=\" * 80)\n",
    "print(\"test accuracy = {} %\".format(round(np.mean(test_res_all) * 100, 2)))\n",
    "print(\"test success accuracy = {} %\".format(\n",
    "    round(np.mean(test_res_all[np.where(success_list_all_test)]) * 100, 2)))\n",
    "print(\"test failure accuracy = {} %\".format(\n",
    "    round(np.mean(test_res_all[np.where(np.logical_not(success_list_all_test))]) * 100, 2)))\n",
    "print(\"-\" * 80)\n",
    "print(\"feature time = {} ({}/{})ms\".format(round(np.mean(feature_time_list), 3), \n",
    "                                      round(np.min(feature_time_list), 3), round(np.max(feature_time_list), 3)))\n",
    "print(\"inference time = {} ({}/{})ms\".format(round(np.mean(test_time_all), 3), \n",
    "                                      round(np.min(test_time_all), 3), round(np.max(test_time_all), 3)))\n",
    "print(\"=\" * 80)"
   ]
  },
  {
   "cell_type": "code",
   "execution_count": null,
   "metadata": {},
   "outputs": [],
   "source": []
  },
  {
   "cell_type": "markdown",
   "metadata": {},
   "source": [
    "## test filter results"
   ]
  },
  {
   "cell_type": "code",
   "execution_count": 20,
   "metadata": {},
   "outputs": [
    {
     "name": "stdout",
     "output_type": "stream",
     "text": [
      "================================================================================\n",
      "GraspChecker accuracy = 71.67 %\n",
      "GraspChecker success accuracy = 100.0 %\n",
      "GraspChecker failure accuracy = 63.64 %\n",
      "--------------------------------------------------------------------------------\n",
      "GraspChecker time = 1.53 (1.171/2.288)ms\n",
      "================================================================================\n",
      "================================================================================\n",
      "ReachChecker accuracy = 93.33 %\n",
      "ReachChecker success accuracy = 94.34 %\n",
      "ReachChecker failure accuracy = 93.05 %\n",
      "--------------------------------------------------------------------------------\n",
      "ReachChecker time = 1.842 (1.406/2.76)ms\n",
      "================================================================================\n"
     ]
    }
   ],
   "source": [
    "fname_accumm = []\n",
    "for checker in checkers:\n",
    "    fname_cur = checker.__class__.__name__\n",
    "    fname_accumm.append(fname_cur)\n",
    "    test_res_all = []\n",
    "    success_list_all_test = []\n",
    "    for rotbd in ROTBINDING_LIST:\n",
    "        filter_results = np.all([filter_results_dict[fname][rotbd] for fname in fname_accumm], axis=0)\n",
    "        label_array_test = np.array(retrieve_list_dict_test[rotbd])\n",
    "        test_res_all = test_res_all + list(np.equal(filter_results, label_array_test))\n",
    "        success_list_all_test = success_list_all_test + list(label_array_test)\n",
    "    test_res_all = np.array(test_res_all)\n",
    "    filter_times = np.sum([filter_time_dict[fname] for fname in fname_accumm], axis=0)\n",
    "    print(\"=\" * 80)\n",
    "    print(\"{} accuracy = {} %\".format(fname_cur, round(np.mean(test_res_all) * 100, 2)))\n",
    "    print(\"{} success accuracy = {} %\".format(fname_cur,\n",
    "        round(np.mean(test_res_all[np.where(success_list_all_test)]) * 100, 2)))\n",
    "    print(\"{} failure accuracy = {} %\".format(fname_cur,\n",
    "        round(np.mean(test_res_all[np.where(np.logical_not(success_list_all_test))]) * 100, 2)))\n",
    "    print(\"-\" * 80)\n",
    "    print(\"{} time = {} ({}/{})ms\".format(fname_cur, round(np.mean(filter_times), 3), \n",
    "                                          round(np.min(filter_times), 3), round(np.max(filter_times), 3)))\n",
    "    print(\"=\" * 80)"
   ]
  },
  {
   "cell_type": "code",
   "execution_count": null,
   "metadata": {},
   "outputs": [],
   "source": []
  },
  {
   "cell_type": "markdown",
   "metadata": {},
   "source": [
    "## test multi object"
   ]
  },
  {
   "cell_type": "code",
   "execution_count": 33,
   "metadata": {},
   "outputs": [
    {
     "name": "stdout",
     "output_type": "stream",
     "text": [
      "1 / 20 in 12.65 / 252.98 s -- reach,retrieve = (0.0 %, 0.0 %)                     \n",
      "11 / 20 in 148.11 / 269.29 s -- reach,retrieve = (16.7 %, 16.7 %)                     \n",
      "20 / 20 in 266.58 / 266.58 s -- reach,retrieve = (13.3 %, 13.3 %)                     \n",
      "\n",
      "============= Finished 20 in 266.58 s -- reach,retrieve = (13.3 %, 13.3 %) =================\n"
     ]
    },
    {
     "data": {
      "text/plain": [
       "[<matplotlib.lines.Line2D at 0x7fbaec1bf7d0>]"
      ]
     },
     "execution_count": 33,
     "metadata": {},
     "output_type": "execute_result"
    },
    {
     "data": {
      "image/png": "[encoded data removed]",
      "text/plain": [
       "<Figure size 432x288 with 1 Axes>"
      ]
     },
     "metadata": {
      "needs_background": "light"
     },
     "output_type": "display_data"
    }
   ],
   "source": [
    "N_obj = 10\n",
    "N_max_sample = 20\n",
    "N_print = 10\n",
    "SHOW_PERIOD = 0.01\n",
    "\n",
    "i_s = 0\n",
    "i_print = 0\n",
    "features_dat_dict = {k: {} for k in ROTBINDING_LIST}\n",
    "reach_list_dict = {k: [] for k in ROTBINDING_LIST}\n",
    "retrieve_list_dict = {k: [] for k in ROTBINDING_LIST}\n",
    "filter_results_dict =  {checker.__class__.__name__: {k: [] for k in ROTBINDING_LIST} for checker in checkers}\n",
    "filter_time_dict = {checker.__class__.__name__: [] for checker in checkers}\n",
    "feature_time_list = []\n",
    "reach_list = []\n",
    "retrieve_list = []\n",
    "gtimer = GlobalTimer.instance()\n",
    "gtimer.reset()\n",
    "gtimer.tic(\"full_loop\")\n",
    "reach_time_log = []\n",
    "retrieve_time_log = []\n",
    "while i_s < N_max_sample:\n",
    "    ## set workplane\n",
    "    wp = WorkPlane(gscene, \"wp\")\n",
    "    pscene.create_binder(bname=\"wp\", gname=\"wp\", _type=PlacePlane)\n",
    "\n",
    "    ## add object\n",
    "    obj_list = disperse_objects(gscene, PlaneObject, \"obj\", N_obj, workplane_on=wp)\n",
    "    obj_names = [obj_tmp.name for obj_tmp in obj_list]\n",
    "\n",
    "    obj = obj_list[0]\n",
    "    N_sample = 1000\n",
    "    obj_pscene, handles = add_object(pscene, obj)\n",
    "    mplan.update_gscene()\n",
    "    for rotate_obj in [False, True]:\n",
    "        if rotate_obj:\n",
    "            obj_pscene.geometry.set_offset_tf(orientation_mat=Rot_axis(3,np.pi/2))\n",
    "        else:\n",
    "            obj_pscene.geometry.set_offset_tf(orientation_mat=Rot_axis(3,0))\n",
    "        obj_pscene.geometry.set_offset_tf(orientation_mat=np.matmul(obj_pscene.geometry.orientation_mat, \n",
    "                                                                    Rot_axis(3,np.random.uniform(-np.pi/4, np.pi/4-1e-6))))\n",
    "            \n",
    "        for obj_tmp in obj_list[1:]:\n",
    "            Rot_candis = [Rot_axis(3,np.pi/2), Rot_axis(3,0)]\n",
    "            i_rot = random.choice([0,1])\n",
    "            obj_tmp.geometry.set_offset_tf(orientation_mat=Rot_candis[i_rot])\n",
    "            obj_tmp.geometry.set_offset_tf(orientation_mat=np.matmul(obj_tmp.geometry.orientation_mat, \n",
    "                                                                     Rot_axis(3,np.random.uniform(-np.pi/4, np.pi/4-1e-6))))\n",
    "            if obj_tmp.is_overlapped_with(obj_pscene.geometry):\n",
    "                obj_tmp.geometry.set_offset_tf(orientation_mat=Rot_candis[(i_rot+1)%2])\n",
    "                obj_tmp.geometry.set_offset_tf(orientation_mat=np.matmul(obj_tmp.geometry.orientation_mat, \n",
    "                                                                         Rot_axis(3,np.random.uniform(-np.pi/4, np.pi/4-1e-6))))\n",
    "            while obj_tmp.is_overlapped_with(obj_pscene.geometry):\n",
    "                obs = obj_tmp.__init__(gscene, obj_tmp.name, wp)\n",
    "\n",
    "        initial_state = pscene.update_state(HOME_POSE)\n",
    "        pscene.set_object_state(initial_state)\n",
    "        from_state = initial_state.copy(pscene)\n",
    "        to_node = (\"grip0\",)\n",
    "\n",
    "        bp_list = [rotbd[1] for rotbd in ROTBINDING_LIST if rotbd[0]==rotate_obj]\n",
    "        for bp in bp_list:\n",
    "            to_state, redundancy_dict = pscene.sample_leaf_state(from_state, {'obj_0': [(bp, 'grip0', 'grip0')]}, to_node)\n",
    "            redundancy_dict['obj_0']['grip0']['w'] = FIXED_REDUNDANCY_DICT[bp]\n",
    "            redundancy_dict['obj_0'][bp]['w'] = 0\n",
    "            redundancy_dict['obj_0'][bp]['x'] = 0\n",
    "            redundancy_dict['obj_0'][bp]['y'] = 0\n",
    "            \n",
    "            for checker in checkers:\n",
    "                fname = checker.__class__.__name__\n",
    "                gtimer.tic(fname)\n",
    "                res = checker.check(gripper, obj_pscene, obj_pscene.action_points_dict[to_state.binding_state[0][1]], redundancy_dict[obj.name], HOME_DICT)\n",
    "                etime = gtimer.toc(fname)\n",
    "                if fname == \"GraspChecker\":\n",
    "                    res_col = res\n",
    "                filter_time_dict[fname].append(etime)\n",
    "                filter_results_dict[fname][(rotate_obj, bp)].append(res)\n",
    "                \n",
    "            gtimer.tic(\"reach\")\n",
    "            success_reach, success_retrieve = False, False\n",
    "            Traj_reach, LastQ, error, success_reach, binding_list = mplan.plan_transition(\n",
    "                from_state=from_state, to_state=to_state, redundancy_dict=redundancy_dict, timeout=TIMEOUT_REACH)\n",
    "            reach_time_log.append(gtimer.toc(\"reach\"))\n",
    "            \n",
    "            Traj_retrieve = []\n",
    "            if success_reach:\n",
    "                if VISUALIZE:\n",
    "                    gscene.show_motion(Traj_reach, period=SHOW_PERIOD)\n",
    "                for bd in binding_list:\n",
    "                    pscene.rebind(bd, list2dict(LastQ, pscene.gscene.joint_names))\n",
    "                binding_state, state_param = pscene.get_object_state()\n",
    "                new_state = State(binding_state, state_param, list(LastQ), pscene)\n",
    "                end_state = new_state.copy(pscene)\n",
    "                end_state.Q = np.array(HOME_POSE)\n",
    "                gtimer.tic(\"retrieve\")\n",
    "                Traj_retrieve, LastQ, error, success_retrieve, binding_list = mplan.plan_transition(\n",
    "                    from_state=new_state, to_state=end_state, timeout=TIMEOUT_RETRIEVE)\n",
    "                retrieve_time_log.append(gtimer.toc(\"retrieve\"))\n",
    "                \n",
    "                if success_retrieve and VISUALIZE:\n",
    "                    gscene.show_motion(Traj_retrieve, period=SHOW_PERIOD)\n",
    "            gtimer.tic(\"get_geometric_feature\")\n",
    "            for obs_name in obj_names[1:]:\n",
    "                if obs_name not in features_dat_dict[(rotate_obj, bp)]:\n",
    "                    features_dat_dict[(rotate_obj, bp)][obs_name] = []\n",
    "                features_dat_dict[(rotate_obj, bp)][obs_name].append(\n",
    "                    get_geometric_feature(gscene.NAME_DICT['obj_0'], gscene.NAME_DICT[obs_name], wp))\n",
    "            if success_retrieve and not res_col:\n",
    "                raise(RuntimeError(\"Something's wrong: successful motion but collision checker failed\"))\n",
    "            feature_time_list.append(gtimer.toc(\"get_geometric_feature\"))\n",
    "            reach_list_dict[(rotate_obj, bp)].append(success_reach)\n",
    "            retrieve_list_dict[(rotate_obj, bp)].append(success_retrieve)\n",
    "            reach_list.append(success_reach)\n",
    "            retrieve_list.append(success_retrieve)\n",
    "            pscene.set_object_state(initial_state)\n",
    "            gscene.update_markers_all()\n",
    "    i_s += 1\n",
    "    gscene.update_markers_all()\n",
    "    if i_s > 0 :\n",
    "        if i_s > i_print*N_print:\n",
    "            i_print +=  1\n",
    "            print_end = \"\\n\"\n",
    "        else:\n",
    "            print_end = \"\\r\"\n",
    "        time_elapsed = gtimer.toc(\"full_loop\")/1000\n",
    "        print(\"{} / {} in {} / {} s -- reach,retrieve = ({} %, {} %)                     \".format(\n",
    "            i_s, N_max_sample, round(time_elapsed, 2), round(time_elapsed/i_s*N_max_sample, 2), \n",
    "            round(np.mean(reach_list)*100, 1), round(np.mean(retrieve_list)*100, 1)), end=print_end)\n",
    "\n",
    "time_elapsed = gtimer.toc(\"full_loop\")/1000\n",
    "print(\"\")\n",
    "print(\"\")\n",
    "print(\"============= Finished {} in {} s -- reach,retrieve = ({} %, {} %) =================\".format(\n",
    "    i_s, round(time_elapsed, 2), round(np.mean(reach_list)*100, 1), round(np.mean(retrieve_list)*100, 1)))\n",
    "\n",
    "import matplotlib.pyplot as plt\n",
    "plt.plot(reach_time_log, '.')\n",
    "plt.plot(retrieve_time_log, '.')"
   ]
  },
  {
   "cell_type": "code",
   "execution_count": null,
   "metadata": {},
   "outputs": [],
   "source": []
  },
  {
   "cell_type": "markdown",
   "metadata": {},
   "source": [
    "## save data"
   ]
  },
  {
   "cell_type": "code",
   "execution_count": 34,
   "metadata": {},
   "outputs": [],
   "source": [
    "DATASET_PATH = os.path.join(ROBOT_DATA_ROOT, sorted(os.listdir(ROBOT_DATA_ROOT))[-1])\n",
    "\n",
    "save_pickle(os.path.join(DATASET_PATH, \"multiobj_dat.pkl\"), \n",
    "            {\"features_dat_dict\": features_dat_dict, \"retrieve_list_dict\": retrieve_list_dict,\n",
    "             \"filter_results_dict\": filter_results_dict, \"feature_time_list\": feature_time_list})"
   ]
  },
  {
   "cell_type": "code",
   "execution_count": null,
   "metadata": {},
   "outputs": [],
   "source": []
  },
  {
   "cell_type": "markdown",
   "metadata": {},
   "source": [
    "## load data"
   ]
  },
  {
   "cell_type": "code",
   "execution_count": 35,
   "metadata": {},
   "outputs": [],
   "source": [
    "DATASET_PATH = os.path.join(ROBOT_DATA_ROOT, sorted(os.listdir(ROBOT_DATA_ROOT))[-1])\n",
    "\n",
    "multiobj_dat = load_pickle(os.path.join(DATASET_PATH, \"multiobj_dat.pkl\"))\n",
    "features_dat_dict_mul = multiobj_dat[\"features_dat_dict\"]\n",
    "retrieve_list_dict_mul = multiobj_dat[\"retrieve_list_dict\"]\n",
    "filter_results_mul = multiobj_dat[\"filter_results_dict\"]\n",
    "feature_time_list = multiobj_dat[\"feature_time_list\"]"
   ]
  },
  {
   "cell_type": "code",
   "execution_count": null,
   "metadata": {},
   "outputs": [],
   "source": []
  },
  {
   "cell_type": "markdown",
   "metadata": {},
   "source": [
    "## test svm results"
   ]
  },
  {
   "cell_type": "code",
   "execution_count": 36,
   "metadata": {},
   "outputs": [
    {
     "name": "stdout",
     "output_type": "stream",
     "text": [
      "================================================================================\n",
      "test accuracy = 98.33 %\n",
      "================================================================================\n",
      "test success accuracy (32) = 90.63 %\n",
      "test failure accuracy (208) = 99.52 %\n",
      "--------------------------------------------------------------------------------\n",
      "feature time = 0.687 (0.405/1.252)ms\n",
      "inference time = 0.134 (0.034/1.057)ms\n",
      "================================================================================\n"
     ]
    }
   ],
   "source": [
    "test_res_all = []\n",
    "success_list_all_test = []\n",
    "for rotbd in ROTBINDING_LIST:\n",
    "    feature_dict_test = features_dat_dict_mul[rotbd]\n",
    "    label_array_test = np.array(retrieve_list_dict_mul[rotbd])\n",
    "    prediction_stack = []\n",
    "    gtimer.tic(\"predict\")\n",
    "    for feature_dat in feature_dict_test.values():\n",
    "        prediction_stack.append(clf_dict[rotbd].predict(np.array(feature_dat)))\n",
    "    prediction = np.all(prediction_stack, axis=0)\n",
    "    test_time_all.append(gtimer.toc(\"predict\"))\n",
    "    test_res_all = test_res_all + list(np.equal(prediction, label_array_test))\n",
    "    success_list_all_test = success_list_all_test + list(label_array_test)\n",
    "test_res_all = np.array(test_res_all)\n",
    "\n",
    "print(\"=\" * 80)\n",
    "print(\"test accuracy = {} %\".format(round(np.mean(test_res_all) * 100, 2)))\n",
    "print(\"=\" * 80)\n",
    "print(\"test success accuracy ({}) = {} %\".format(np.sum(success_list_all_test).astype(np.int),\n",
    "    round(np.mean(test_res_all[np.where(success_list_all_test)]) * 100, 2)))\n",
    "print(\"test failure accuracy ({}) = {} %\".format(np.sum(np.logical_not(success_list_all_test)).astype(np.int),\n",
    "    round(np.mean(test_res_all[np.where(np.logical_not(success_list_all_test))]) * 100, 2)))\n",
    "print(\"-\" * 80)\n",
    "print(\"feature time = {} ({}/{})ms\".format(round(np.mean(feature_time_list), 3), \n",
    "                                      round(np.min(feature_time_list), 3), round(np.max(feature_time_list), 3)))\n",
    "print(\"inference time = {} ({}/{})ms\".format(round(np.mean(test_time_all), 3), \n",
    "                                      round(np.min(test_time_all), 3), round(np.max(test_time_all), 3)))\n",
    "print(\"=\" * 80)"
   ]
  },
  {
   "cell_type": "code",
   "execution_count": null,
   "metadata": {},
   "outputs": [],
   "source": []
  },
  {
   "cell_type": "markdown",
   "metadata": {},
   "source": [
    "## test filter results"
   ]
  },
  {
   "cell_type": "code",
   "execution_count": 37,
   "metadata": {},
   "outputs": [
    {
     "name": "stdout",
     "output_type": "stream",
     "text": [
      "================================================================================\n",
      "GraspChecker accuracy = 86.67 %\n",
      "GraspChecker success accuracy = 100.0 %\n",
      "GraspChecker failure accuracy = 84.62 %\n",
      "--------------------------------------------------------------------------------\n",
      "GraspChecker time = 2.195 (1.846/3.862)ms\n",
      "================================================================================\n",
      "================================================================================\n",
      "ReachChecker accuracy = 97.5 %\n",
      "ReachChecker success accuracy = 93.75 %\n",
      "ReachChecker failure accuracy = 98.08 %\n",
      "--------------------------------------------------------------------------------\n",
      "ReachChecker time = 2.438 (2.101/4.197)ms\n",
      "================================================================================\n"
     ]
    }
   ],
   "source": [
    "fname_accumm = []\n",
    "for checker in checkers:\n",
    "    fname_cur = checker.__class__.__name__\n",
    "    fname_accumm.append(fname_cur)\n",
    "    test_res_all = []\n",
    "    success_list_all_test = []\n",
    "    for rotbd in ROTBINDING_LIST:\n",
    "        filter_results = np.all([filter_results_mul[fname][rotbd] for fname in fname_accumm], axis=0)\n",
    "        label_array_test = np.array(retrieve_list_dict_mul[rotbd])\n",
    "        test_res_all = test_res_all + list(np.equal(filter_results, label_array_test))\n",
    "        success_list_all_test = success_list_all_test + list(label_array_test)\n",
    "    test_res_all = np.array(test_res_all)\n",
    "    filter_times = np.sum([filter_time_dict[fname] for fname in fname_accumm], axis=0)\n",
    "    print(\"=\" * 80)\n",
    "    print(\"{} accuracy = {} %\".format(fname_cur, round(np.mean(test_res_all) * 100, 2)))\n",
    "    print(\"{} success accuracy = {} %\".format(fname_cur,\n",
    "        round(np.mean(test_res_all[np.where(success_list_all_test)]) * 100, 2)))\n",
    "    print(\"{} failure accuracy = {} %\".format(fname_cur,\n",
    "        round(np.mean(test_res_all[np.where(np.logical_not(success_list_all_test))]) * 100, 2)))\n",
    "    print(\"-\" * 80)\n",
    "    print(\"{} time = {} ({}/{})ms\".format(fname_cur, round(np.mean(filter_times), 3), \n",
    "                                          round(np.min(filter_times), 3), round(np.max(filter_times), 3)))\n",
    "    print(\"=\" * 80)"
   ]
  },
  {
   "cell_type": "code",
   "execution_count": null,
   "metadata": {},
   "outputs": [],
   "source": []
  },
  {
   "cell_type": "code",
   "execution_count": null,
   "metadata": {},
   "outputs": [],
   "source": []
  }
 ],
 "metadata": {
  "kernelspec": {
   "display_name": "Python 2",
   "language": "python",
   "name": "python2"
  },
  "language_info": {
   "codemirror_mode": {
    "name": "ipython",
    "version": 2
   },
   "file_extension": ".py",
   "mimetype": "text/x-python",
   "name": "python",
   "nbconvert_exporter": "python",
   "pygments_lexer": "ipython2",
   "version": "2.7.17"
  }
 },
 "nbformat": 4,
 "nbformat_minor": 2
}
