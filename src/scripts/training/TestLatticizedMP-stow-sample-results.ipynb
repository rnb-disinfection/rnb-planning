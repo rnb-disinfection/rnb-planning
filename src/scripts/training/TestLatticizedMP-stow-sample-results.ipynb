{
 "cells": [
  {
   "cell_type": "code",
   "execution_count": 90,
   "metadata": {},
   "outputs": [
    {
     "name": "stdout",
     "output_type": "stream",
     "text": [
      "============================== 3_pole     ==============================\n",
      "Checker   : Time       Actions    MPs        MP fails   Failures   Total     \n",
      "Tool      : 37.76      4.88       18.94      6.82       33         50        \n",
      "ToolReach : 42.05      5.33       43.28      6.28       18         50        \n",
      "Full      : 30.51      5.33       43.5       3.56       22         50        \n",
      "============================== 3_pole-hard ==============================\n",
      "Checker   : Time       Actions    MPs        MP fails   Failures   Total     \n",
      "Tool      : 95.98      0.92       41.31      18.0       33         45        \n",
      "ToolReach : 47.9       5.62       47.77      7.15       18         45        \n",
      "Full      : 33.9       5.62       48.15      3.85       22         45        \n"
     ]
    }
   ],
   "source": [
    "from __future__ import print_function\n",
    "import os\n",
    "RNB_PLANNING_DIR = os.environ[\"RNB_PLANNING_DIR\"]\n",
    "os.chdir(os.path.join(RNB_PLANNING_DIR, 'src'))\n",
    "from pkg.controller.combined_robot import *\n",
    "from pkg.utils.utils import get_now, try_mkdir\n",
    "import subprocess\n",
    "\n",
    "DATA_PATH = os.path.join(RNB_PLANNING_DIR, \"data\")\n",
    "try_mkdir(DATA_PATH)\n",
    "\n",
    "TEST_DATA_PATH = os.path.join(DATA_PATH, \"filters\")\n",
    "try_mkdir(TEST_DATA_PATH)\n",
    "\n",
    "HEADS = [\"plan_time\", \"length\", \"MP_tot\", \"MP_count\", \"failed_MPs\", \"IK_tot\", \"IK_count\", \"failed_IKs\", \"success\"]\n",
    "DISPS = [\"Time\", \"Actions\", \"MP_tot\", \"MPs\", \"MP fails\", \"IK_tot\", \"IKs\", \"IK fails\", \"Failures\", \"Total\"]\n",
    "H2D = {}\n",
    "D2H = {}\n",
    "for head, disp in zip(HEADS, DISPS):\n",
    "    H2D[head] = disp\n",
    "    D2H[disp] = head\n",
    "\n",
    "RTYPE = \"indy7gripper\"\n",
    "DAT_DIR = '20210708-064926'\n",
    "\n",
    "# RTYPE = \"panda\"\n",
    "# DAT_DIR = '20210705-182244'\n",
    "# FILE_OPTION = \"obj_1\"\n",
    "# # DAT_DIR, FILE_OPTION = \"20210613-022832\", \"obj_1\"\n",
    "# # # DAT_DIR, FILE_OPTION = \"20210612-221934\", \"obj_1\"\n",
    "\n",
    "CNAME_LIST = ['None','Tool','ToolReach','Full'] #,'Pairwise']\n",
    "GRASP_SAMPLE = 100\n",
    "VISUALIZE = True\n",
    "PLAY_RESULT = False\n",
    "SHOW_STATE = False\n",
    "\n",
    "TIMEOUT_MOTION = 5\n",
    "MAX_TIME = 100\n",
    "MAX_ITER = 100\n",
    "\n",
    "ROBOT_DATA_ROOT = os.path.join(TEST_DATA_PATH, RTYPE)\n",
    "DATASET_PATH = os.path.join(ROBOT_DATA_ROOT, DAT_DIR)\n",
    "file_list = sorted(os.listdir(DATASET_PATH))\n",
    "\n",
    "res_dict_all = defaultdict(lambda: defaultdict(list))\n",
    "resfile_list = sorted(os.listdir(os.path.join(DATASET_PATH)))\n",
    "for resfile in resfile_list:\n",
    "    args = resfile[:-4].split(\"_\")[1:]\n",
    "    f_option = \"_\".join(args[:-2])\n",
    "    fid, cname = args[-2:]\n",
    "    resdat = load_pickle(os.path.join(DATASET_PATH, resfile))\n",
    "    res_dict_all[f_option][cname].append([resdat[head] if head in resdat else None for head in HEADS])\n",
    "    \n",
    "exp_list = ['1_plane', '3_plane', '3_shelf', '3_pole']\n",
    "for ekey in exp_list:\n",
    "    if ekey not in res_dict_all:\n",
    "        continue\n",
    "    res_dict = res_dict_all[ekey]\n",
    "    \n",
    "    succ_vec_list = []\n",
    "    len_list = []\n",
    "    None_cols = []\n",
    "    CNAME_LIST_CUR = [cname for cname in CNAME_LIST if cname in res_dict]\n",
    "    for cname in CNAME_LIST_CUR:\n",
    "        vv = np.array(res_dict[cname])\n",
    "        if len(vv)>0:\n",
    "            None_cols.append(np.any(np.equal(vv, None), axis=0))\n",
    "            succ_vec = vv[:,-1]\n",
    "            succ_vec_list.append(succ_vec)\n",
    "            len_list.append(len(succ_vec))\n",
    "            if cname == CNAME_LIST_CUR[0]:\n",
    "                fail_vec = np.logical_not(succ_vec)\n",
    "                idc_fail_none = np.where(fail_vec)[0]\n",
    "    print(\"=\"*30 + \" {:<10} \".format(ekey) + \"=\"*30)\n",
    "    if len(len_list)>1:\n",
    "        None_cols = np.any(None_cols, 0)\n",
    "        good_cols = np.where(np.logical_not(None_cols))[0]\n",
    "        print((\"{:<10}:\"+ \" {:<10}\"*len(good_cols)).format(\n",
    "            \"Checker\", *[DISPS[gidx] for gidx in good_cols])+\" {:<10}\".format(DISPS[-1]))\n",
    "        min_len = np.min(len_list[1:])\n",
    "        succ_vec_all = np.all([svec[:min_len] for svec in succ_vec_list[1:]], axis=0)\n",
    "        idc_succ_all = np.where(succ_vec_all)[0]\n",
    "\n",
    "        hard_vec_list = []\n",
    "        for cname in CNAME_LIST_CUR:\n",
    "            vv = np.array(res_dict[cname])[:, good_cols]\n",
    "            if len(vv)>0:\n",
    "                succ_vec = vv[:,-1]\n",
    "                fail_vec = np.logical_not(succ_vec)\n",
    "                hard_vec_list.append(vv[:min_len, 0] > np.mean(vv[:min_len, 0])*1.0)\n",
    "                if cname == CNAME_LIST_CUR[0]:\n",
    "                    idc_succ_now = np.where(succ_vec)[0]\n",
    "                    idc_fail_none = np.where(fail_vec)[0]\n",
    "                else:\n",
    "                    idc_succ_now = idc_succ_all\n",
    "                print(\n",
    "                    \"{:<10}:\".format(cname) \n",
    "                    + (\" {:<10}\"*len(good_cols)+\" {:<10}\").format(\n",
    "                        *(list(np.round(np.mean(vv[idc_succ_now, :-1], axis=0).astype(np.float), 2)) \\\n",
    "                          +[np.sum(fail_vec), len(vv)])))\n",
    "\n",
    "        print(\"=\"*30 + \" {:<10} \".format(ekey+\"-hard\") + \"=\"*30)\n",
    "        print((\"{:<10}:\"+ \" {:<10}\"*len(good_cols)).format(\n",
    "            \"Checker\", *[DISPS[gidx] for gidx in good_cols])+\" {:<10}\".format(DISPS[-1]))\n",
    "        hard_vec_all = np.sum(hard_vec_list, axis=0)>=1\n",
    "        idc_hard_all = np.where(hard_vec_all)[0]\n",
    "        idc_hard = np.where(np.logical_and(succ_vec_all, hard_vec_all))[0]\n",
    "        for cname in CNAME_LIST[1:]:\n",
    "            if cname in res_dict:\n",
    "                vv = np.array(res_dict[cname])[:, good_cols]\n",
    "                if len(vv)>0:\n",
    "                    succ_vec = vv[:,-1]\n",
    "                    fail_vec = np.logical_not(succ_vec)[idc_hard_all]\n",
    "                    idc_succ_now = idc_hard\n",
    "                    print(\n",
    "                        \"{:<10}:\".format(cname) \n",
    "                        + (\" {:<10}\"*len(good_cols)+\" {:<10}\").format(\n",
    "                            *(list(np.round(np.mean(vv[idc_succ_now, :-1], axis=0).astype(np.float), 2)) \\\n",
    "                              +[np.sum(fail_vec), len(idc_hard_all)])))"
   ]
  },
  {
   "cell_type": "code",
   "execution_count": 94,
   "metadata": {},
   "outputs": [
    {
     "name": "stdout",
     "output_type": "stream",
     "text": [
      "Tool:\n",
      " [103.23 104.69   1.52 102.71 104.83  38.67   1.48 104.05 103.57 103.4\n",
      " 104.63  92.07 104.68  63.44  17.71 100.84 101.37   8.06  51.93 101.42\n",
      " 101.88 102.05  62.92  72.47 103.68  28.85 104.14 103.55 100.02  82.72\n",
      " 101.6  102.24 103.27 103.45 103.28 102.66 100.36  43.44 100.06 102.81\n",
      " 101.56 103.21 100.18 103.14   1.7   27.5  101.85   5.92  41.59 104.  ]\n",
      "Full:\n",
      " [  7.04 100.33 100.   103.12  25.91 101.74   2.55 104.34  31.85  35.01\n",
      "   5.01  25.83  15.43  79.63 101.88 104.65  39.13 103.41  45.48 103.28\n",
      "  22.71   9.    51.3    6.68 100.01   2.51 104.73  46.02  58.49  45.82\n",
      "  38.17 103.66  26.07  99.57 100.03  56.72 101.79  20.82  27.31 104.7\n",
      " 100.04 101.67 100.14  87.12  42.39   9.59 104.73 103.94 100.28 100.47]\n",
      "ToolReach:\n",
      " [101.93  51.66  11.65   7.79 100.22  77.82  24.19  48.1   37.4   54.3\n",
      "  39.74  19.05 102.26 104.19   8.44   7.76 100.92   4.05  32.09 101.34\n",
      "  11.3   26.12  52.69   4.65 100.25  20.6   39.22  80.29   2.02 101.98\n",
      " 100.09 104.66  90.19 100.12 103.34  91.16  78.63 101.48   6.73 101.55\n",
      "  48.4   14.17  61.51  93.41  68.54  71.05  26.86 101.18 100.75 101.61]\n"
     ]
    }
   ],
   "source": [
    "for k, v in res_dict.items():\n",
    "    print(\"{}:\\n {}\".format(k, np.round(np.array(v)[:,0].astype(np.float),2)))"
   ]
  },
  {
   "cell_type": "code",
   "execution_count": 96,
   "metadata": {},
   "outputs": [],
   "source": [
    "import matplotlib.pyplot as plt"
   ]
  },
  {
   "cell_type": "code",
   "execution_count": 101,
   "metadata": {},
   "outputs": [
    {
     "data": {
      "text/plain": [
       "[<matplotlib.lines.Line2D at 0x7f49804e8690>]"
      ]
     },
     "execution_count": 101,
     "metadata": {},
     "output_type": "execute_result"
    },
    {
     "data": {
      "image/png": "[encoded data removed]",
      "text/plain": [
       "<Figure size 432x288 with 1 Axes>"
      ]
     },
     "metadata": {
      "needs_background": "light"
     },
     "output_type": "display_data"
    }
   ],
   "source": [
    "plt.plot(np.array(res_dict[\"Full\"])[:,0], '.')"
   ]
  },
  {
   "cell_type": "code",
   "execution_count": 106,
   "metadata": {},
   "outputs": [
    {
     "data": {
      "text/plain": [
       "<matplotlib.image.AxesImage at 0x7f49804979d0>"
      ]
     },
     "execution_count": 106,
     "metadata": {},
     "output_type": "execute_result"
    },
    {
     "data": {
      "image/png": "[encoded data removed]",
      "text/plain": [
       "<Figure size 432x288 with 1 Axes>"
      ]
     },
     "metadata": {
      "needs_background": "light"
     },
     "output_type": "display_data"
    }
   ],
   "source": [
    "plt.imshow(np.array(res_dict[\"Full\"])[:,-1:].astype(np.uint8).transpose())"
   ]
  },
  {
   "cell_type": "code",
   "execution_count": 92,
   "metadata": {},
   "outputs": [
    {
     "name": "stdout",
     "output_type": "stream",
     "text": [
      "Tool:\n",
      " [False False True False False True True False False False False True False\n",
      " True True False False True True False False False True True False True\n",
      " False False False True False False False False False False False True\n",
      " False False False False False False True True False True True False]\n",
      "Full:\n",
      " [True False False False True False True False True True True True True\n",
      " True False False True False True False True True True True False True\n",
      " False True True True True False True True False True False True True\n",
      " False False False False True True True False False False False]\n",
      "ToolReach:\n",
      " [False True True True False True True True True True True True False False\n",
      " True True False True True False True True True True False True True True\n",
      " True False False False True False False True True False True False True\n",
      " True True True False True True False False False]\n"
     ]
    }
   ],
   "source": [
    "for k, v in res_dict.items():\n",
    "    print(\"{}:\\n {}\".format(k, np.array(v)[:,-1]))"
   ]
  },
  {
   "cell_type": "code",
   "execution_count": 93,
   "metadata": {},
   "outputs": [
    {
     "data": {
      "text/plain": [
       "array([ 6,  8,  9, 10, 11, 18, 20, 21, 22, 23, 25, 27, 28, 32, 35, 38, 43,\n",
       "       45])"
      ]
     },
     "execution_count": 93,
     "metadata": {},
     "output_type": "execute_result"
    }
   ],
   "source": [
    "idc_succ_all"
   ]
  },
  {
   "cell_type": "code",
   "execution_count": null,
   "metadata": {},
   "outputs": [],
   "source": []
  }
 ],
 "metadata": {
  "kernelspec": {
   "display_name": "Python 2",
   "language": "python",
   "name": "python2"
  },
  "language_info": {
   "codemirror_mode": {
    "name": "ipython",
    "version": 2
   },
   "file_extension": ".py",
   "mimetype": "text/x-python",
   "name": "python",
   "nbconvert_exporter": "python",
   "pygments_lexer": "ipython2",
   "version": "2.7.17"
  }
 },
 "nbformat": 4,
 "nbformat_minor": 2
}
