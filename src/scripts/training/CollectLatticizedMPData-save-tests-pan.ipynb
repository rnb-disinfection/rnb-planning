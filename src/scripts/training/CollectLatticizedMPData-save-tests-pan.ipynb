{
 "cells": [
  {
   "cell_type": "markdown",
   "metadata": {},
   "source": [
    "## 수정사항\n",
    "#### 2021.06.04\n",
    "* Gripper 자유도 45도로 제한됨에 따라 파지점 방향 수정, 바닥 파지면은 삭제"
   ]
  },
  {
   "cell_type": "markdown",
   "metadata": {},
   "source": [
    "## set running directory"
   ]
  },
  {
   "cell_type": "code",
   "execution_count": 1,
   "metadata": {},
   "outputs": [],
   "source": [
    "from __future__ import print_function\n",
    "import os\n",
    "os.chdir(os.path.join(os.environ[\"RNB_PLANNING_DIR\"], 'src'))"
   ]
  },
  {
   "cell_type": "code",
   "execution_count": 2,
   "metadata": {},
   "outputs": [],
   "source": [
    "from pkg.controller.combined_robot import *\n",
    "from pkg.utils.utils import get_now, try_mkdir\n",
    "\n",
    "\n",
    "DATA_PATH = os.path.join(os.environ['RNB_PLANNING_DIR'], \"data\")\n",
    "try_mkdir(DATA_PATH)\n",
    "\n",
    "TEST_DATA_PATH = os.path.join(DATA_PATH, \"test-pan\")\n",
    "try_mkdir(TEST_DATA_PATH)"
   ]
  },
  {
   "cell_type": "code",
   "execution_count": null,
   "metadata": {},
   "outputs": [],
   "source": []
  },
  {
   "cell_type": "code",
   "execution_count": 3,
   "metadata": {},
   "outputs": [],
   "source": [
    "VISUALIZE = True\n",
    "TIMEOUT_REACH = 30\n",
    "TIMEOUT_RETRIEVE = 30\n",
    "TIMEOUT_SELF = 3\n",
    "TOOL_RPY = (-np.pi/2,0,0)\n",
    "SHOW_PERIOD = 0.01\n",
    "\n",
    "ROBOT_TYPE = RobotType.panda\n",
    "\n",
    "if ROBOT_TYPE == RobotType.indy7:\n",
    "    ROBOT_NAME = \"indy0\"\n",
    "    TOOL_LINK = \"indy0_tcp\"\n",
    "    TOOL_XYZ = (0,0,0.14)\n",
    "    GRIP_DEPTH = 0.05\n",
    "    HOME_POSE = (0,0,0,0,0,0)\n",
    "elif ROBOT_TYPE == RobotType.panda:\n",
    "    ROBOT_NAME = \"panda0\"\n",
    "    TOOL_LINK = \"panda0_hand\"\n",
    "    TOOL_XYZ = (0,0,0.112)\n",
    "    GRIP_DEPTH = 0.03\n",
    "    HOME_POSE = (0,-0.3,0,-0.5,0,2.5,0)\n",
    "else:\n",
    "    raise(NotImplementedError(\"Unknown robot type\"))\n",
    "    \n",
    "    \n",
    "ROBOT_DATA_ROOT = os.path.join(TEST_DATA_PATH, ROBOT_TYPE.name)\n",
    "try_mkdir(ROBOT_DATA_ROOT)"
   ]
  },
  {
   "cell_type": "code",
   "execution_count": null,
   "metadata": {},
   "outputs": [],
   "source": []
  },
  {
   "cell_type": "markdown",
   "metadata": {},
   "source": [
    "## init combined robot config"
   ]
  },
  {
   "cell_type": "code",
   "execution_count": 4,
   "metadata": {},
   "outputs": [
    {
     "name": "stdout",
     "output_type": "stream",
     "text": [
      "connection command:\n",
      "panda0: False\n"
     ]
    }
   ],
   "source": [
    "\n",
    "from pkg.project_config import *\n",
    "\n",
    "crob = CombinedRobot(robots_on_scene=[\n",
    "    RobotConfig(0, ROBOT_TYPE, None,\n",
    "                INDY_IP)]\n",
    "              , connection_list=[False])\n",
    "\n",
    "from pkg.geometry.builder.scene_builder import SceneBuilder\n",
    "s_builder = SceneBuilder(None)\n",
    "# s_builder.reset_reference_coord(ref_name=\"floor\")"
   ]
  },
  {
   "cell_type": "code",
   "execution_count": null,
   "metadata": {},
   "outputs": [],
   "source": []
  },
  {
   "cell_type": "markdown",
   "metadata": {},
   "source": [
    "## get ghnd with detected robot config"
   ]
  },
  {
   "cell_type": "code",
   "execution_count": 5,
   "metadata": {
    "scrolled": true
   },
   "outputs": [
    {
     "name": "stdout",
     "output_type": "stream",
     "text": [
      "Please create a subscriber to the marker\n",
      "publication OK\n",
      "published: [0, 0, 0, 0, 0, 0, 0]\n"
     ]
    }
   ],
   "source": [
    "# xyz_rpy_robots = s_builder.detect_items(level_mask=[DetectionLevel.ROBOT])\n",
    "xyz_rpy_robots = {ROBOT_NAME: ((0,0,0), (0,0,0))}\n",
    "crob.update_robot_pos_dict(xyz_rpy_robots=xyz_rpy_robots)\n",
    "gscene = s_builder.create_gscene(crob, start_rviz=VISUALIZE)\n",
    "HOME_DICT = list2dict(HOME_POSE, gscene.joint_names)\n"
   ]
  },
  {
   "cell_type": "code",
   "execution_count": 6,
   "metadata": {},
   "outputs": [],
   "source": [
    "from pkg.utils.joint_utils import get_tf\n",
    "shoulder_link = gscene.urdf_content.joint_map[gscene.joint_names[1]].child\n",
    "shoulder_height = get_tf(shoulder_link, HOME_DICT, gscene.urdf_content)[2,3]"
   ]
  },
  {
   "cell_type": "code",
   "execution_count": null,
   "metadata": {},
   "outputs": [],
   "source": []
  },
  {
   "cell_type": "markdown",
   "metadata": {},
   "source": [
    "## add environment"
   ]
  },
  {
   "cell_type": "code",
   "execution_count": 7,
   "metadata": {},
   "outputs": [
    {
     "name": "stdout",
     "output_type": "stream",
     "text": [
      "Please create a subscriber to the marker\n"
     ]
    }
   ],
   "source": [
    "from pkg.geometry.geometry import *\n",
    "gtems_robot = s_builder.add_robot_geometries(color=(0,1,0,0.5), display=True, collision=True)"
   ]
  },
  {
   "cell_type": "code",
   "execution_count": null,
   "metadata": {},
   "outputs": [],
   "source": []
  },
  {
   "cell_type": "markdown",
   "metadata": {},
   "source": [
    "## init planning scene"
   ]
  },
  {
   "cell_type": "code",
   "execution_count": 8,
   "metadata": {},
   "outputs": [],
   "source": [
    "from pkg.planning.scene import PlanningScene\n",
    "pscene = PlanningScene(gscene, combined_robot=crob)\n",
    "\n",
    "from pkg.planning.pipeline import PlanningPipeline\n",
    "ppline = PlanningPipeline(pscene)"
   ]
  },
  {
   "cell_type": "code",
   "execution_count": null,
   "metadata": {},
   "outputs": [],
   "source": []
  },
  {
   "cell_type": "markdown",
   "metadata": {},
   "source": [
    "## Register binders"
   ]
  },
  {
   "cell_type": "code",
   "execution_count": 9,
   "metadata": {},
   "outputs": [],
   "source": [
    "from pkg.planning.constraint.constraint_actor import Gripper2Tool, PlacePlane, SweepTool"
   ]
  },
  {
   "cell_type": "code",
   "execution_count": 10,
   "metadata": {},
   "outputs": [],
   "source": [
    "gscene.create_safe(gtype=GEOTYPE.SPHERE, name=\"grip0\", link_name=TOOL_LINK, \n",
    "                 dims=(0.01,)*3, center=TOOL_XYZ, rpy=TOOL_RPY, color=(1,0,0,1), display=True, collision=False, fixed=True)\n",
    "gripper = pscene.create_binder(bname=\"grip0\", gname=\"grip0\", _type=Gripper2Tool, point=(0,0,0))"
   ]
  },
  {
   "cell_type": "code",
   "execution_count": null,
   "metadata": {},
   "outputs": [],
   "source": []
  },
  {
   "cell_type": "markdown",
   "metadata": {},
   "source": [
    "## planner"
   ]
  },
  {
   "cell_type": "code",
   "execution_count": 11,
   "metadata": {},
   "outputs": [],
   "source": [
    "from pkg.planning.motion.moveit.moveit_planner import MoveitPlanner\n",
    "from pkg.planning.filtering.grasp_filter import GraspChecker\n",
    "mplan = MoveitPlanner(pscene)\n",
    "checker = MoveitPlanner(pscene, motion_filters = [GraspChecker(pscene)])"
   ]
  },
  {
   "cell_type": "code",
   "execution_count": null,
   "metadata": {},
   "outputs": [],
   "source": []
  },
  {
   "cell_type": "markdown",
   "metadata": {},
   "source": [
    "## ui"
   ]
  },
  {
   "cell_type": "code",
   "execution_count": 12,
   "metadata": {},
   "outputs": [
    {
     "name": "stdout",
     "output_type": "stream",
     "text": [
      "Dash is running on http://0.0.0.0:8050/\n",
      "\n",
      " * Serving Flask app \"pkg.ui.dash_launcher\" (lazy loading)\n",
      " * Environment: production\n"
     ]
    }
   ],
   "source": [
    "from pkg.ui.ui_broker import *\n",
    "\n",
    "# start UI\n",
    "ui_broker = UIBroker.instance()\n",
    "ui_broker.initialize(ppline, s_builder)\n",
    "ui_broker.start_server()\n",
    "\n",
    "ui_broker.set_tables()"
   ]
  },
  {
   "cell_type": "code",
   "execution_count": null,
   "metadata": {},
   "outputs": [],
   "source": []
  },
  {
   "cell_type": "markdown",
   "metadata": {},
   "source": [
    "# Object Classes"
   ]
  },
  {
   "cell_type": "code",
   "execution_count": 13,
   "metadata": {},
   "outputs": [
    {
     "name": "stdout",
     "output_type": "stream",
     "text": [
      "   WARNING: This is a development server. Do not use it in a production deployment.\n",
      "   Use a production WSGI server instead.\n",
      " * Debug mode: off\n"
     ]
    }
   ],
   "source": [
    "from pkg.planning.filtering.lattice_model import *\n",
    "from pkg.planning.filtering.lattice_model.scene_building import *\n",
    "        \n",
    "##\n",
    "# @class PlanePan\n",
    "# @brief Obstacles on the workplane\n",
    "class PlanePan(PlaneObject):\n",
    "    def __init__(self, gscene, name, workplane, GRIP_DEPTH, CLEARANCE, XYZ_LOC=None, **kwargs):\n",
    "        self.GRIP_DEPTH = GRIP_DEPTH\n",
    "        self.DIM_MIN = (0.02, GRIP_DEPTH, GRIP_DEPTH)\n",
    "        DIM = np.random.uniform(self.DIM_MIN, self.DIM_MAX)\n",
    "        DIM[2] = GRIP_DEPTH\n",
    "        PlaneObject.__init__(self, gscene=gscene, name=name, workplane=workplane, \n",
    "                             GRIP_DEPTH=GRIP_DEPTH, CLEARANCE=CLEARANCE, DIM=DIM, **kwargs)\n",
    "        self.pan = gscene.create_safe(GEOTYPE.CYLINDER, name+\"_pan\", self.geometry.link_name, \n",
    "                                      dims=(DIM[1], DIM[1], DIM[2]), center=(0,DIM[1],0), rpy=(0,0,0), \n",
    "                                      color=self.geometry.color, display=True, collision=True, fixed=False,\n",
    "                                      parent=self.geometry.name)\n",
    "\n",
    "\n",
    "\n",
    "def add_object(pscene, obj, HANDLE_THICKNESS=1e-6, HANDLE_COLOR = (1,0,0,0.3)):\n",
    "    gscene = pscene.gscene\n",
    "    GRIP_DEPTH = obj.GRIP_DEPTH\n",
    "    handles = []\n",
    "    handles.append(\n",
    "        gscene.create_safe(gtype=GEOTYPE.BOX, name=\"hdl_tp_a\", link_name=\"base_link\", \n",
    "                       dims=(obj.DIM[1], GRIP_DEPTH, HANDLE_THICKNESS), center=(0,0,obj.DIM[2]/2-GRIP_DEPTH/2), rpy=(np.pi/2,0,np.pi/2), \n",
    "                           color=HANDLE_COLOR, display=True, collision=False, fixed=False,\n",
    "                       parent=obj.name)\n",
    "    )\n",
    "\n",
    "    handles.append(\n",
    "        gscene.create_safe(gtype=GEOTYPE.BOX, name=\"hdl_tp_b\", link_name=\"base_link\", \n",
    "                       dims=(obj.DIM[1], GRIP_DEPTH, HANDLE_THICKNESS), center=(0,0,obj.DIM[2]/2-GRIP_DEPTH/2), rpy=(np.pi/2,0,-np.pi/2), \n",
    "                           color=HANDLE_COLOR, display=True, collision=False, fixed=False,\n",
    "                       parent=obj.name)\n",
    "    )\n",
    "\n",
    "    handles.append(\n",
    "        gscene.create_safe(gtype=GEOTYPE.BOX, name=\"hdl_bk_a\", link_name=\"base_link\", \n",
    "                       dims=(obj.DIM[2], GRIP_DEPTH,HANDLE_THICKNESS), center=(0,-obj.DIM[1]/2+GRIP_DEPTH/2,0), rpy=(-np.pi,-np.pi/2,0), \n",
    "                       color=HANDLE_COLOR, display=True, collision=False, fixed=False,\n",
    "                   parent=obj.name)\n",
    "    )\n",
    "\n",
    "    handles.append(\n",
    "        gscene.create_safe(gtype=GEOTYPE.BOX, name=\"hdl_bk_b\", link_name=\"base_link\", \n",
    "                       dims=(obj.DIM[2], GRIP_DEPTH,HANDLE_THICKNESS), center=(0,-obj.DIM[1]/2+GRIP_DEPTH/2,0), rpy=(-np.pi,+np.pi/2,0), \n",
    "                           color=HANDLE_COLOR, display=True, collision=False, fixed=False,\n",
    "                       parent=obj.name)\n",
    "    )\n",
    "\n",
    "    action_points_dict = {\"placement\": PlacePoint(\"placement\", obj.geometry, [0,0,-obj.DIM[2]/2], [0,0,0])}\n",
    "    action_points_dict.update({handle.name: Grasp2Point(handle.name, handle, None, (0,0,0)) for handle in handles})\n",
    "    obj_pscene = pscene.create_subject(oname=obj.name, gname=obj.name, _type=CustomObject, \n",
    "                                 action_points_dict=action_points_dict)\n",
    "    return obj_pscene, handles\n",
    "        \n",
    "Nmax_wall, Nmax_pole, Nmax_bar = 4, 8, 8\n",
    "\n",
    "Nmax_obj = 3\n",
    "\n",
    "N_max_sample = 100\n",
    "N_print = 5\n",
    "N_sample_single_obj = 3"
   ]
  },
  {
   "cell_type": "code",
   "execution_count": null,
   "metadata": {},
   "outputs": [],
   "source": []
  },
  {
   "cell_type": "markdown",
   "metadata": {},
   "source": [
    "### sampling"
   ]
  },
  {
   "cell_type": "code",
   "execution_count": null,
   "metadata": {
    "scrolled": true
   },
   "outputs": [
    {
     "name": "stdout",
     "output_type": "stream",
     "text": [
      "\n",
      "DATASET_PATH: /home/rnb/Projects/rnb-planning/data/test-pan/panda/20210613-150734\n",
      "\n",
      "30 / 100 in 36.4 / 121.35 s -- reach,retrieve = (3.3 %, 3.3 %)                      \r"
     ]
    }
   ],
   "source": [
    "gtimer = GlobalTimer.instance()\n",
    "gtimer.reset()\n",
    "i_print = 0\n",
    "\n",
    "for _ in range(10):\n",
    "\n",
    "    DATASET_PATH = os.path.join(ROBOT_DATA_ROOT, get_now())\n",
    "    try_mkdir(DATASET_PATH)\n",
    "    print(\"\")\n",
    "    print(\"DATASET_PATH: {}\".format(DATASET_PATH))\n",
    "    print(\"\")\n",
    "\n",
    "    gtimer.tic(\"full_loop\")\n",
    "\n",
    "    i_print = 0\n",
    "    i_s = 0\n",
    "    i_file = 0\n",
    "    reach_list = []\n",
    "    retrieve_list = []\n",
    "    while i_s < N_max_sample:\n",
    "        ## add floor, ceiling\n",
    "        floor = Floor(gscene, \"floor\")\n",
    "        # ceiling = Ceiling(gscene, \"ceiling\")\n",
    "\n",
    "        ## set workplane\n",
    "        wp = WorkPlane(gscene, \"wp\", floor_height=floor.RTH[2]+floor.DIM[2]/2)\n",
    "        pscene.create_binder(bname=\"wp\", gname=\"wp\", _type=PlacePlane, point=None)\n",
    "\n",
    "        ## add walls, poles, bars\n",
    "        walls = redistribute_class(gscene, Wall, \"wl\", Nmax_wall, workplane_avoid=wp)\n",
    "        poles = redistribute_class(gscene, Pole, \"po\", Nmax_pole, workplane_avoid=wp)\n",
    "        bars = redistribute_class(gscene, Bar, \"bar\", Nmax_bar, workplane_avoid=wp)\n",
    "\n",
    "        ## add object\n",
    "        obj_list = disperse_objects(gscene, PlanePan, \"obj\", Nmax_obj, workplane_on=wp, GRIP_DEPTH=GRIP_DEPTH)\n",
    "        \n",
    "        gtem_args = []\n",
    "        samples = []\n",
    "        for gtem in gscene:\n",
    "            if gtem.link_name == \"base_link\":\n",
    "                gtem_args.append(deepcopy(gtem.get_args()))\n",
    "        obj_args = {obj.name: {\"GRIP_DEPTH\": obj.GRIP_DEPTH, \"DIM\": obj.DIM, \"gname\": obj.geometry.name} \n",
    "                    for obj in obj_list}\n",
    "\n",
    "        for obj in obj_list:\n",
    "            obj_pscene, handles = add_object(pscene, obj)\n",
    "            checker.update_gscene(only_self_collision=True)\n",
    "            mplan.update_gscene()\n",
    "            initial_state = pscene.initialize_state(HOME_POSE)\n",
    "            pscene.set_object_state(initial_state)\n",
    "            from_state = initial_state.copy(pscene)\n",
    "            to_node = (\"grip0\",)\n",
    "            available_binding_dict = pscene.get_available_binding_dict(from_state, to_node, HOME_DICT)\n",
    "            for _ in range(N_sample_single_obj):\n",
    "                to_state, redundancy_dict = pscene.sample_leaf_state(from_state, available_binding_dict, to_node)\n",
    "                \n",
    "                pscene.set_object_state(from_state)\n",
    "                \n",
    "                gtimer.tic(\"kin\")\n",
    "                Traj_kin, LastQ, error, success_kin, binding_list = \\\n",
    "                            checker.plan_transition(from_state=from_state, to_state=to_state, redundancy_dict=redundancy_dict, \n",
    "                                                    only_self_collision=True, timeout=TIMEOUT_SELF)\n",
    "                time_kin = gtimer.toc(\"kin\")\n",
    "\n",
    "                success_reach, success_retrieve = False, False\n",
    "                time_reach, time_retrieve = TIMEOUT_REACH, TIMEOUT_RETRIEVE\n",
    "                Traj_reach, Traj_retrieve = [], []\n",
    "                if success_kin:\n",
    "                    gtimer.tic(\"reach\")\n",
    "                    Traj_reach, LastQ, error, success_reach, binding_list = mplan.plan_transition(\n",
    "                        from_state=from_state, to_state=to_state, redundancy_dict=redundancy_dict, timeout=TIMEOUT_REACH)\n",
    "                    time_reach = gtimer.toc(\"reach\")\n",
    "        #             print(\"reach: {}\".format(success_reach))\n",
    "                    if success_reach:\n",
    "                        if VISUALIZE:\n",
    "                            gscene.show_motion(Traj_reach, period=SHOW_PERIOD)\n",
    "                        for bd in binding_list:\n",
    "                            pscene.rebind(bd, list2dict(LastQ, pscene.gscene.joint_names))\n",
    "                        binding_state, state_param = pscene.get_object_state()\n",
    "                        new_state = State(binding_state, state_param, list(LastQ), pscene)\n",
    "                        end_state = new_state.copy(pscene)\n",
    "                        end_state.Q = np.array(HOME_POSE)\n",
    "                        gtimer.tic(\"retrieve\")\n",
    "                        Traj_retrieve, LastQ, error, success_retrieve, binding_list = mplan.plan_transition(\n",
    "                            from_state=new_state, to_state=end_state, timeout=TIMEOUT_RETRIEVE)\n",
    "                        time_retrieve = gtimer.toc(\"retrieve\")\n",
    "        #                 print(\"retrieve: {}\".format(success_retrieve))\n",
    "                        if success_retrieve and VISUALIZE:\n",
    "                            gscene.show_motion(Traj_retrieve, period=SHOW_PERIOD)\n",
    "                else:\n",
    "                    pass # doen't save pre-filtered data\n",
    "                \n",
    "                reach_list.append(success_reach)\n",
    "                retrieve_list.append(success_retrieve)\n",
    "                samples.append((obj.name, from_state, to_state, redundancy_dict, \n",
    "                                success_kin, success_reach, success_retrieve, \n",
    "                                Traj_kin, Traj_reach, Traj_retrieve, \n",
    "                                time_kin, time_reach, time_retrieve))\n",
    "                i_s += 1 \n",
    "            pscene.set_object_state(initial_state)\n",
    "\n",
    "            pscene.remove_subject(obj_pscene.oname)\n",
    "            for handle in handles:\n",
    "                gscene.remove(handle)    \n",
    "\n",
    "            gscene.update_markers_all()\n",
    "            time_elapsed = gtimer.toc(\"full_loop\")/1000\n",
    "            i_print += 1\n",
    "            if i_print%N_print == 0:\n",
    "                print(\"{} / {} in {} / {} s -- reach,retrieve = ({} %, {} %)                     \".format(\n",
    "                    i_s, N_max_sample, round(time_elapsed, 2), round(time_elapsed/i_s*N_max_sample, 2), \n",
    "                    round(np.mean(reach_list)*100, 1), round(np.mean(retrieve_list)*100, 1)), end=\"\\r\")\n",
    "                i_print = 0\n",
    "                \n",
    "        i_file += 1\n",
    "        save_pickle(os.path.join(DATASET_PATH, \"%05d.pkl\"%i_file), \n",
    "                    {\"gtem_args\":gtem_args, \"obj_args\": obj_args, \"samples\": samples})\n",
    "\n",
    "\n",
    "    print(\"\")\n",
    "    print(\"\")\n",
    "    print(\"============= Finished {} in {} s -- reach,retrieve = ({} %, {} %) =================\".format(\n",
    "        i_s, round(time_elapsed, 2), round(np.mean(reach_list)*100, 1), round(np.mean(retrieve_list)*100, 1)))"
   ]
  },
  {
   "cell_type": "code",
   "execution_count": null,
   "metadata": {},
   "outputs": [],
   "source": []
  },
  {
   "cell_type": "markdown",
   "metadata": {},
   "source": [
    "# Load and verify"
   ]
  },
  {
   "cell_type": "code",
   "execution_count": 14,
   "metadata": {},
   "outputs": [
    {
     "name": "stdout",
     "output_type": "stream",
     "text": [
      "DATASET_LIST: ['20210611-124100', '20210611-124430', '20210611-124552', '20210611-124837', '20210611-125031', '20210611-125148', '20210611-125352', '20210611-125542', '20210611-125809', '20210611-130118']\n",
      "DATASET_PATH: /home/rnb/Projects/rnb-planning/data/test-pan/panda/20210611-124100\n",
      "DATA_LIST: ['00001.pkl', '00002.pkl', '00003.pkl', '00004.pkl', '00005.pkl', '00006.pkl', '00007.pkl', '00008.pkl', '00009.pkl', '00010.pkl', '00011.pkl', '00012.pkl', '00013.pkl', '00014.pkl', '00015.pkl', '00016.pkl', '00017.pkl', '00018.pkl', '00019.pkl', '00020.pkl', '00021.pkl']\n",
      "DATA_PATH: /home/rnb/Projects/rnb-planning/data/test-pan/panda/20210611-124100/00001.pkl\n",
      "ERRORS: 0 / SUCCESS: 0 / TOTAL: 3\n",
      "DATA_PATH: /home/rnb/Projects/rnb-planning/data/test-pan/panda/20210611-124100/00002.pkl\n",
      "ERRORS: 0 / SUCCESS: 0 / TOTAL: 9\n",
      "DATA_PATH: /home/rnb/Projects/rnb-planning/data/test-pan/panda/20210611-124100/00003.pkl\n",
      "ERRORS: 0 / SUCCESS: 0 / TOTAL: 12\n",
      "DATA_PATH: /home/rnb/Projects/rnb-planning/data/test-pan/panda/20210611-124100/00004.pkl\n",
      "ERRORS: 0 / SUCCESS: 0 / TOTAL: 18\n",
      "DATA_PATH: /home/rnb/Projects/rnb-planning/data/test-pan/panda/20210611-124100/00005.pkl\n",
      "ERRORS: 0 / SUCCESS: 0 / TOTAL: 24\n",
      "DATA_PATH: /home/rnb/Projects/rnb-planning/data/test-pan/panda/20210611-124100/00006.pkl\n",
      "ERRORS: 0 / SUCCESS: 0 / TOTAL: 33\n",
      "DATA_PATH: /home/rnb/Projects/rnb-planning/data/test-pan/panda/20210611-124100/00007.pkl\n",
      "ERRORS: 0 / SUCCESS: 0 / TOTAL: 39\n",
      "DATA_PATH: /home/rnb/Projects/rnb-planning/data/test-pan/panda/20210611-124100/00008.pkl\n",
      "ERRORS: 0 / SUCCESS: 0 / TOTAL: 42\n",
      "DATA_PATH: /home/rnb/Projects/rnb-planning/data/test-pan/panda/20210611-124100/00009.pkl\n",
      "ERRORS: 0 / SUCCESS: 0 / TOTAL: 45\n",
      "DATA_PATH: /home/rnb/Projects/rnb-planning/data/test-pan/panda/20210611-124100/00010.pkl\n",
      "ERRORS: 0 / SUCCESS: 0 / TOTAL: 48\n",
      "DATA_PATH: /home/rnb/Projects/rnb-planning/data/test-pan/panda/20210611-124100/00011.pkl\n",
      "ERRORS: 0 / SUCCESS: 0 / TOTAL: 54\n",
      "DATA_PATH: /home/rnb/Projects/rnb-planning/data/test-pan/panda/20210611-124100/00012.pkl\n",
      "ERRORS: 0 / SUCCESS: 0 / TOTAL: 60\n",
      "DATA_PATH: /home/rnb/Projects/rnb-planning/data/test-pan/panda/20210611-124100/00013.pkl\n",
      "ERRORS: 0 / SUCCESS: 0 / TOTAL: 66\n",
      "DATA_PATH: /home/rnb/Projects/rnb-planning/data/test-pan/panda/20210611-124100/00014.pkl\n",
      "ERRORS: 0 / SUCCESS: 0 / TOTAL: 72\n",
      "DATA_PATH: /home/rnb/Projects/rnb-planning/data/test-pan/panda/20210611-124100/00015.pkl\n",
      "ERRORS: 0 / SUCCESS: 0 / TOTAL: 78\n",
      "DATA_PATH: /home/rnb/Projects/rnb-planning/data/test-pan/panda/20210611-124100/00016.pkl\n",
      "ERRORS: 0 / SUCCESS: 0 / TOTAL: 81\n",
      "DATA_PATH: /home/rnb/Projects/rnb-planning/data/test-pan/panda/20210611-124100/00017.pkl\n",
      "ERRORS: 0 / SUCCESS: 0 / TOTAL: 84\n",
      "DATA_PATH: /home/rnb/Projects/rnb-planning/data/test-pan/panda/20210611-124100/00018.pkl\n",
      "ERRORS: 0 / SUCCESS: 0 / TOTAL: 87\n",
      "DATA_PATH: /home/rnb/Projects/rnb-planning/data/test-pan/panda/20210611-124100/00019.pkl\n",
      "ERRORS: 0 / SUCCESS: 0 / TOTAL: 90\n",
      "DATA_PATH: /home/rnb/Projects/rnb-planning/data/test-pan/panda/20210611-124100/00020.pkl\n",
      "ERRORS: 0 / SUCCESS: 0 / TOTAL: 96\n",
      "DATA_PATH: /home/rnb/Projects/rnb-planning/data/test-pan/panda/20210611-124100/00021.pkl\n",
      "ERRORS: 0 / SUCCESS: 0 / TOTAL: 102\n",
      "DATASET_PATH: /home/rnb/Projects/rnb-planning/data/test-pan/panda/20210611-124430\n",
      "DATA_LIST: ['00001.pkl', '00002.pkl', '00003.pkl', '00004.pkl', '00005.pkl', '00006.pkl', '00007.pkl', '00008.pkl', '00009.pkl', '00010.pkl', '00011.pkl', '00012.pkl', '00013.pkl', '00014.pkl', '00015.pkl', '00016.pkl', '00017.pkl', '00018.pkl', '00019.pkl', '00020.pkl']\n",
      "DATA_PATH: /home/rnb/Projects/rnb-planning/data/test-pan/panda/20210611-124430/00001.pkl\n",
      "ERRORS: 0 / SUCCESS: 0 / TOTAL: 108\n",
      "DATA_PATH: /home/rnb/Projects/rnb-planning/data/test-pan/panda/20210611-124430/00002.pkl\n",
      "ERRORS: 0 / SUCCESS: 0 / TOTAL: 117\n",
      "DATA_PATH: /home/rnb/Projects/rnb-planning/data/test-pan/panda/20210611-124430/00003.pkl\n",
      "ERRORS: 0 / SUCCESS: 0 / TOTAL: 126\n",
      "DATA_PATH: /home/rnb/Projects/rnb-planning/data/test-pan/panda/20210611-124430/00004.pkl\n",
      "ERRORS: 0 / SUCCESS: 0 / TOTAL: 135\n",
      "DATA_PATH: /home/rnb/Projects/rnb-planning/data/test-pan/panda/20210611-124430/00005.pkl\n",
      "ERRORS: 0 / SUCCESS: 0 / TOTAL: 141\n",
      "DATA_PATH: /home/rnb/Projects/rnb-planning/data/test-pan/panda/20210611-124430/00006.pkl\n",
      "ERRORS: 0 / SUCCESS: 0 / TOTAL: 144\n",
      "DATA_PATH: /home/rnb/Projects/rnb-planning/data/test-pan/panda/20210611-124430/00007.pkl\n",
      "ERRORS: 0 / SUCCESS: 0 / TOTAL: 147\n",
      "DATA_PATH: /home/rnb/Projects/rnb-planning/data/test-pan/panda/20210611-124430/00008.pkl\n",
      "ERRORS: 0 / SUCCESS: 0 / TOTAL: 150\n",
      "DATA_PATH: /home/rnb/Projects/rnb-planning/data/test-pan/panda/20210611-124430/00009.pkl\n",
      "ERRORS: 0 / SUCCESS: 0 / TOTAL: 153\n",
      "DATA_PATH: /home/rnb/Projects/rnb-planning/data/test-pan/panda/20210611-124430/00010.pkl\n",
      "ERRORS: 0 / SUCCESS: 0 / TOTAL: 159\n",
      "DATA_PATH: /home/rnb/Projects/rnb-planning/data/test-pan/panda/20210611-124430/00011.pkl\n",
      "ERRORS: 0 / SUCCESS: 0 / TOTAL: 165\n",
      "DATA_PATH: /home/rnb/Projects/rnb-planning/data/test-pan/panda/20210611-124430/00012.pkl\n",
      "ERRORS: 0 / SUCCESS: 0 / TOTAL: 171\n",
      "DATA_PATH: /home/rnb/Projects/rnb-planning/data/test-pan/panda/20210611-124430/00013.pkl\n",
      "ERRORS: 0 / SUCCESS: 0 / TOTAL: 174\n",
      "DATA_PATH: /home/rnb/Projects/rnb-planning/data/test-pan/panda/20210611-124430/00014.pkl\n",
      "ERRORS: 0 / SUCCESS: 0 / TOTAL: 183\n",
      "DATA_PATH: /home/rnb/Projects/rnb-planning/data/test-pan/panda/20210611-124430/00015.pkl\n",
      "ERRORS: 0 / SUCCESS: 0 / TOTAL: 186\n",
      "DATA_PATH: /home/rnb/Projects/rnb-planning/data/test-pan/panda/20210611-124430/00016.pkl\n",
      "ERRORS: 0 / SUCCESS: 0 / TOTAL: 189\n",
      "DATA_PATH: /home/rnb/Projects/rnb-planning/data/test-pan/panda/20210611-124430/00017.pkl\n",
      "ERRORS: 0 / SUCCESS: 0 / TOTAL: 192\n",
      "DATA_PATH: /home/rnb/Projects/rnb-planning/data/test-pan/panda/20210611-124430/00018.pkl\n",
      "ERRORS: 0 / SUCCESS: 0 / TOTAL: 198\n",
      "DATA_PATH: /home/rnb/Projects/rnb-planning/data/test-pan/panda/20210611-124430/00019.pkl\n",
      "ERRORS: 0 / SUCCESS: 0 / TOTAL: 201\n",
      "DATA_PATH: /home/rnb/Projects/rnb-planning/data/test-pan/panda/20210611-124430/00020.pkl\n",
      "ERRORS: 0 / SUCCESS: 0 / TOTAL: 204\n",
      "DATASET_PATH: /home/rnb/Projects/rnb-planning/data/test-pan/panda/20210611-124552\n",
      "DATA_LIST: ['00001.pkl', '00002.pkl', '00003.pkl', '00004.pkl', '00005.pkl', '00006.pkl', '00007.pkl', '00008.pkl', '00009.pkl', '00010.pkl', '00011.pkl', '00012.pkl', '00013.pkl', '00014.pkl', '00015.pkl', '00016.pkl', '00017.pkl', '00018.pkl', '00019.pkl', '00020.pkl', '00021.pkl']\n",
      "DATA_PATH: /home/rnb/Projects/rnb-planning/data/test-pan/panda/20210611-124552/00001.pkl\n",
      "ERRORS: 0 / SUCCESS: 0 / TOTAL: 207\n",
      "DATA_PATH: /home/rnb/Projects/rnb-planning/data/test-pan/panda/20210611-124552/00002.pkl\n",
      "ERRORS: 0 / SUCCESS: 0 / TOTAL: 216\n",
      "DATA_PATH: /home/rnb/Projects/rnb-planning/data/test-pan/panda/20210611-124552/00003.pkl\n",
      "ERRORS: 0 / SUCCESS: 0 / TOTAL: 219\n",
      "DATA_PATH: /home/rnb/Projects/rnb-planning/data/test-pan/panda/20210611-124552/00004.pkl\n",
      "ERRORS: 0 / SUCCESS: 0 / TOTAL: 222\n",
      "DATA_PATH: /home/rnb/Projects/rnb-planning/data/test-pan/panda/20210611-124552/00005.pkl\n",
      "ERRORS: 0 / SUCCESS: 0 / TOTAL: 228\n",
      "DATA_PATH: /home/rnb/Projects/rnb-planning/data/test-pan/panda/20210611-124552/00006.pkl\n",
      "ERRORS: 0 / SUCCESS: 0 / TOTAL: 231\n",
      "DATA_PATH: /home/rnb/Projects/rnb-planning/data/test-pan/panda/20210611-124552/00007.pkl\n",
      "ERRORS: 0 / SUCCESS: 0 / TOTAL: 237\n",
      "DATA_PATH: /home/rnb/Projects/rnb-planning/data/test-pan/panda/20210611-124552/00008.pkl\n",
      "ERRORS: 0 / SUCCESS: 0 / TOTAL: 243\n",
      "DATA_PATH: /home/rnb/Projects/rnb-planning/data/test-pan/panda/20210611-124552/00009.pkl\n",
      "ERRORS: 0 / SUCCESS: 0 / TOTAL: 252\n",
      "DATA_PATH: /home/rnb/Projects/rnb-planning/data/test-pan/panda/20210611-124552/00010.pkl\n",
      "ERRORS: 0 / SUCCESS: 0 / TOTAL: 258\n",
      "DATA_PATH: /home/rnb/Projects/rnb-planning/data/test-pan/panda/20210611-124552/00011.pkl\n",
      "ERRORS: 0 / SUCCESS: 0 / TOTAL: 261\n",
      "DATA_PATH: /home/rnb/Projects/rnb-planning/data/test-pan/panda/20210611-124552/00012.pkl\n",
      "ERRORS: 0 / SUCCESS: 0 / TOTAL: 264\n",
      "DATA_PATH: /home/rnb/Projects/rnb-planning/data/test-pan/panda/20210611-124552/00013.pkl\n",
      "ERRORS: 0 / SUCCESS: 0 / TOTAL: 270\n",
      "DATA_PATH: /home/rnb/Projects/rnb-planning/data/test-pan/panda/20210611-124552/00014.pkl\n",
      "ERRORS: 0 / SUCCESS: 0 / TOTAL: 273\n",
      "DATA_PATH: /home/rnb/Projects/rnb-planning/data/test-pan/panda/20210611-124552/00015.pkl\n",
      "ERRORS: 0 / SUCCESS: 0 / TOTAL: 276\n",
      "DATA_PATH: /home/rnb/Projects/rnb-planning/data/test-pan/panda/20210611-124552/00016.pkl\n",
      "ERRORS: 0 / SUCCESS: 0 / TOTAL: 279\n",
      "DATA_PATH: /home/rnb/Projects/rnb-planning/data/test-pan/panda/20210611-124552/00017.pkl\n",
      "ERRORS: 0 / SUCCESS: 0 / TOTAL: 282\n",
      "DATA_PATH: /home/rnb/Projects/rnb-planning/data/test-pan/panda/20210611-124552/00018.pkl\n",
      "ERRORS: 0 / SUCCESS: 0 / TOTAL: 285\n",
      "DATA_PATH: /home/rnb/Projects/rnb-planning/data/test-pan/panda/20210611-124552/00019.pkl\n",
      "ERRORS: 0 / SUCCESS: 0 / TOTAL: 291\n",
      "DATA_PATH: /home/rnb/Projects/rnb-planning/data/test-pan/panda/20210611-124552/00020.pkl\n",
      "ERRORS: 0 / SUCCESS: 0 / TOTAL: 300\n",
      "DATA_PATH: /home/rnb/Projects/rnb-planning/data/test-pan/panda/20210611-124552/00021.pkl\n",
      "ERRORS: 0 / SUCCESS: 0 / TOTAL: 306\n",
      "DATASET_PATH: /home/rnb/Projects/rnb-planning/data/test-pan/panda/20210611-124837\n",
      "DATA_LIST: ['00001.pkl', '00002.pkl', '00003.pkl', '00004.pkl', '00005.pkl', '00006.pkl', '00007.pkl', '00008.pkl', '00009.pkl', '00010.pkl', '00011.pkl', '00012.pkl', '00013.pkl', '00014.pkl', '00015.pkl', '00016.pkl', '00017.pkl', '00018.pkl', '00019.pkl']\n",
      "DATA_PATH: /home/rnb/Projects/rnb-planning/data/test-pan/panda/20210611-124837/00001.pkl\n",
      "ERRORS: 0 / SUCCESS: 0 / TOTAL: 312\n",
      "DATA_PATH: /home/rnb/Projects/rnb-planning/data/test-pan/panda/20210611-124837/00002.pkl\n",
      "ERRORS: 0 / SUCCESS: 0 / TOTAL: 318\n",
      "DATA_PATH: /home/rnb/Projects/rnb-planning/data/test-pan/panda/20210611-124837/00003.pkl\n",
      "ERRORS: 0 / SUCCESS: 0 / TOTAL: 321\n",
      "DATA_PATH: /home/rnb/Projects/rnb-planning/data/test-pan/panda/20210611-124837/00004.pkl\n",
      "ERRORS: 0 / SUCCESS: 0 / TOTAL: 327\n",
      "DATA_PATH: /home/rnb/Projects/rnb-planning/data/test-pan/panda/20210611-124837/00005.pkl\n",
      "ERRORS: 0 / SUCCESS: 0 / TOTAL: 333\n",
      "DATA_PATH: /home/rnb/Projects/rnb-planning/data/test-pan/panda/20210611-124837/00006.pkl\n",
      "ERRORS: 0 / SUCCESS: 0 / TOTAL: 339\n",
      "DATA_PATH: /home/rnb/Projects/rnb-planning/data/test-pan/panda/20210611-124837/00007.pkl\n",
      "ERRORS: 0 / SUCCESS: 0 / TOTAL: 345\n",
      "DATA_PATH: /home/rnb/Projects/rnb-planning/data/test-pan/panda/20210611-124837/00008.pkl\n",
      "ERRORS: 0 / SUCCESS: 0 / TOTAL: 348\n",
      "DATA_PATH: /home/rnb/Projects/rnb-planning/data/test-pan/panda/20210611-124837/00009.pkl\n",
      "ERRORS: 0 / SUCCESS: 0 / TOTAL: 357\n",
      "DATA_PATH: /home/rnb/Projects/rnb-planning/data/test-pan/panda/20210611-124837/00010.pkl\n",
      "ERRORS: 0 / SUCCESS: 0 / TOTAL: 360\n",
      "DATA_PATH: /home/rnb/Projects/rnb-planning/data/test-pan/panda/20210611-124837/00011.pkl\n",
      "ERRORS: 0 / SUCCESS: 0 / TOTAL: 363\n",
      "DATA_PATH: /home/rnb/Projects/rnb-planning/data/test-pan/panda/20210611-124837/00012.pkl\n",
      "ERRORS: 0 / SUCCESS: 0 / TOTAL: 369\n",
      "DATA_PATH: /home/rnb/Projects/rnb-planning/data/test-pan/panda/20210611-124837/00013.pkl\n",
      "ERRORS: 0 / SUCCESS: 0 / TOTAL: 372\n",
      "DATA_PATH: /home/rnb/Projects/rnb-planning/data/test-pan/panda/20210611-124837/00014.pkl\n",
      "ERRORS: 0 / SUCCESS: 0 / TOTAL: 378\n",
      "DATA_PATH: /home/rnb/Projects/rnb-planning/data/test-pan/panda/20210611-124837/00015.pkl\n",
      "ERRORS: 0 / SUCCESS: 0 / TOTAL: 384\n",
      "DATA_PATH: /home/rnb/Projects/rnb-planning/data/test-pan/panda/20210611-124837/00016.pkl\n",
      "ERRORS: 0 / SUCCESS: 0 / TOTAL: 390\n",
      "DATA_PATH: /home/rnb/Projects/rnb-planning/data/test-pan/panda/20210611-124837/00017.pkl\n",
      "ERRORS: 0 / SUCCESS: 0 / TOTAL: 396\n",
      "DATA_PATH: /home/rnb/Projects/rnb-planning/data/test-pan/panda/20210611-124837/00018.pkl\n",
      "ERRORS: 0 / SUCCESS: 0 / TOTAL: 402\n",
      "DATA_PATH: /home/rnb/Projects/rnb-planning/data/test-pan/panda/20210611-124837/00019.pkl\n"
     ]
    },
    {
     "name": "stdout",
     "output_type": "stream",
     "text": [
      "ERRORS: 0 / SUCCESS: 0 / TOTAL: 408\n",
      "DATASET_PATH: /home/rnb/Projects/rnb-planning/data/test-pan/panda/20210611-125031\n",
      "DATA_LIST: ['00001.pkl', '00002.pkl', '00003.pkl', '00004.pkl', '00005.pkl', '00006.pkl', '00007.pkl', '00008.pkl', '00009.pkl', '00010.pkl', '00011.pkl', '00012.pkl', '00013.pkl', '00014.pkl', '00015.pkl', '00016.pkl', '00017.pkl', '00018.pkl', '00019.pkl', '00020.pkl', '00021.pkl']\n",
      "DATA_PATH: /home/rnb/Projects/rnb-planning/data/test-pan/panda/20210611-125031/00001.pkl\n",
      "ERRORS: 0 / SUCCESS: 0 / TOTAL: 411\n",
      "DATA_PATH: /home/rnb/Projects/rnb-planning/data/test-pan/panda/20210611-125031/00002.pkl\n",
      "ERRORS: 0 / SUCCESS: 0 / TOTAL: 414\n",
      "DATA_PATH: /home/rnb/Projects/rnb-planning/data/test-pan/panda/20210611-125031/00003.pkl\n",
      "ERRORS: 0 / SUCCESS: 0 / TOTAL: 420\n",
      "DATA_PATH: /home/rnb/Projects/rnb-planning/data/test-pan/panda/20210611-125031/00004.pkl\n",
      "ERRORS: 0 / SUCCESS: 0 / TOTAL: 426\n",
      "DATA_PATH: /home/rnb/Projects/rnb-planning/data/test-pan/panda/20210611-125031/00005.pkl\n",
      "ERRORS: 0 / SUCCESS: 0 / TOTAL: 432\n",
      "DATA_PATH: /home/rnb/Projects/rnb-planning/data/test-pan/panda/20210611-125031/00006.pkl\n",
      "ERRORS: 0 / SUCCESS: 0 / TOTAL: 435\n",
      "DATA_PATH: /home/rnb/Projects/rnb-planning/data/test-pan/panda/20210611-125031/00007.pkl\n",
      "ERRORS: 0 / SUCCESS: 0 / TOTAL: 444\n",
      "DATA_PATH: /home/rnb/Projects/rnb-planning/data/test-pan/panda/20210611-125031/00008.pkl\n",
      "ERRORS: 0 / SUCCESS: 0 / TOTAL: 450\n",
      "DATA_PATH: /home/rnb/Projects/rnb-planning/data/test-pan/panda/20210611-125031/00009.pkl\n",
      "ERRORS: 0 / SUCCESS: 0 / TOTAL: 453\n",
      "DATA_PATH: /home/rnb/Projects/rnb-planning/data/test-pan/panda/20210611-125031/00010.pkl\n",
      "ERRORS: 0 / SUCCESS: 0 / TOTAL: 456\n",
      "DATA_PATH: /home/rnb/Projects/rnb-planning/data/test-pan/panda/20210611-125031/00011.pkl\n",
      "ERRORS: 0 / SUCCESS: 0 / TOTAL: 465\n",
      "DATA_PATH: /home/rnb/Projects/rnb-planning/data/test-pan/panda/20210611-125031/00012.pkl\n",
      "ERRORS: 0 / SUCCESS: 0 / TOTAL: 471\n",
      "DATA_PATH: /home/rnb/Projects/rnb-planning/data/test-pan/panda/20210611-125031/00013.pkl\n",
      "ERRORS: 0 / SUCCESS: 0 / TOTAL: 477\n",
      "DATA_PATH: /home/rnb/Projects/rnb-planning/data/test-pan/panda/20210611-125031/00014.pkl\n",
      "ERRORS: 0 / SUCCESS: 0 / TOTAL: 480\n",
      "DATA_PATH: /home/rnb/Projects/rnb-planning/data/test-pan/panda/20210611-125031/00015.pkl\n",
      "ERRORS: 0 / SUCCESS: 0 / TOTAL: 483\n",
      "DATA_PATH: /home/rnb/Projects/rnb-planning/data/test-pan/panda/20210611-125031/00016.pkl\n",
      "ERRORS: 0 / SUCCESS: 0 / TOTAL: 486\n",
      "DATA_PATH: /home/rnb/Projects/rnb-planning/data/test-pan/panda/20210611-125031/00017.pkl\n",
      "ERRORS: 0 / SUCCESS: 0 / TOTAL: 492\n",
      "DATA_PATH: /home/rnb/Projects/rnb-planning/data/test-pan/panda/20210611-125031/00018.pkl\n",
      "ERRORS: 0 / SUCCESS: 0 / TOTAL: 495\n",
      "DATA_PATH: /home/rnb/Projects/rnb-planning/data/test-pan/panda/20210611-125031/00019.pkl\n",
      "ERRORS: 0 / SUCCESS: 0 / TOTAL: 501\n",
      "DATA_PATH: /home/rnb/Projects/rnb-planning/data/test-pan/panda/20210611-125031/00020.pkl\n",
      "ERRORS: 0 / SUCCESS: 0 / TOTAL: 507\n",
      "DATA_PATH: /home/rnb/Projects/rnb-planning/data/test-pan/panda/20210611-125031/00021.pkl\n",
      "ERRORS: 0 / SUCCESS: 0 / TOTAL: 513\n",
      "DATASET_PATH: /home/rnb/Projects/rnb-planning/data/test-pan/panda/20210611-125148\n",
      "DATA_LIST: ['00001.pkl', '00002.pkl', '00003.pkl', '00004.pkl', '00005.pkl', '00006.pkl', '00007.pkl', '00008.pkl', '00009.pkl', '00010.pkl', '00011.pkl', '00012.pkl', '00013.pkl', '00014.pkl', '00015.pkl', '00016.pkl', '00017.pkl', '00018.pkl', '00019.pkl', '00020.pkl', '00021.pkl', '00022.pkl', '00023.pkl']\n",
      "DATA_PATH: /home/rnb/Projects/rnb-planning/data/test-pan/panda/20210611-125148/00001.pkl\n",
      "ERRORS: 0 / SUCCESS: 0 / TOTAL: 519\n",
      "DATA_PATH: /home/rnb/Projects/rnb-planning/data/test-pan/panda/20210611-125148/00002.pkl\n",
      "ERRORS: 0 / SUCCESS: 0 / TOTAL: 522\n",
      "DATA_PATH: /home/rnb/Projects/rnb-planning/data/test-pan/panda/20210611-125148/00003.pkl\n",
      "ERRORS: 0 / SUCCESS: 0 / TOTAL: 525\n",
      "DATA_PATH: /home/rnb/Projects/rnb-planning/data/test-pan/panda/20210611-125148/00004.pkl\n",
      "ERRORS: 0 / SUCCESS: 0 / TOTAL: 531\n",
      "DATA_PATH: /home/rnb/Projects/rnb-planning/data/test-pan/panda/20210611-125148/00005.pkl\n",
      "ERRORS: 0 / SUCCESS: 0 / TOTAL: 534\n",
      "DATA_PATH: /home/rnb/Projects/rnb-planning/data/test-pan/panda/20210611-125148/00006.pkl\n",
      "ERRORS: 0 / SUCCESS: 0 / TOTAL: 537\n",
      "DATA_PATH: /home/rnb/Projects/rnb-planning/data/test-pan/panda/20210611-125148/00007.pkl\n",
      "ERRORS: 0 / SUCCESS: 0 / TOTAL: 546\n",
      "DATA_PATH: /home/rnb/Projects/rnb-planning/data/test-pan/panda/20210611-125148/00008.pkl\n",
      "ERRORS: 0 / SUCCESS: 0 / TOTAL: 552\n",
      "DATA_PATH: /home/rnb/Projects/rnb-planning/data/test-pan/panda/20210611-125148/00009.pkl\n",
      "ERRORS: 0 / SUCCESS: 0 / TOTAL: 555\n",
      "DATA_PATH: /home/rnb/Projects/rnb-planning/data/test-pan/panda/20210611-125148/00010.pkl\n",
      "ERRORS: 0 / SUCCESS: 0 / TOTAL: 558\n",
      "DATA_PATH: /home/rnb/Projects/rnb-planning/data/test-pan/panda/20210611-125148/00011.pkl\n",
      "ERRORS: 0 / SUCCESS: 0 / TOTAL: 561\n",
      "DATA_PATH: /home/rnb/Projects/rnb-planning/data/test-pan/panda/20210611-125148/00012.pkl\n",
      "ERRORS: 0 / SUCCESS: 0 / TOTAL: 564\n",
      "DATA_PATH: /home/rnb/Projects/rnb-planning/data/test-pan/panda/20210611-125148/00013.pkl\n",
      "ERRORS: 0 / SUCCESS: 0 / TOTAL: 567\n",
      "DATA_PATH: /home/rnb/Projects/rnb-planning/data/test-pan/panda/20210611-125148/00014.pkl\n",
      "ERRORS: 0 / SUCCESS: 0 / TOTAL: 570\n",
      "DATA_PATH: /home/rnb/Projects/rnb-planning/data/test-pan/panda/20210611-125148/00015.pkl\n",
      "ERRORS: 0 / SUCCESS: 0 / TOTAL: 576\n",
      "DATA_PATH: /home/rnb/Projects/rnb-planning/data/test-pan/panda/20210611-125148/00016.pkl\n",
      "ERRORS: 0 / SUCCESS: 0 / TOTAL: 582\n",
      "DATA_PATH: /home/rnb/Projects/rnb-planning/data/test-pan/panda/20210611-125148/00017.pkl\n",
      "ERRORS: 0 / SUCCESS: 0 / TOTAL: 588\n",
      "DATA_PATH: /home/rnb/Projects/rnb-planning/data/test-pan/panda/20210611-125148/00018.pkl\n",
      "ERRORS: 0 / SUCCESS: 0 / TOTAL: 591\n",
      "DATA_PATH: /home/rnb/Projects/rnb-planning/data/test-pan/panda/20210611-125148/00019.pkl\n",
      "ERRORS: 0 / SUCCESS: 0 / TOTAL: 597\n",
      "DATA_PATH: /home/rnb/Projects/rnb-planning/data/test-pan/panda/20210611-125148/00020.pkl\n",
      "ERRORS: 0 / SUCCESS: 0 / TOTAL: 606\n",
      "DATA_PATH: /home/rnb/Projects/rnb-planning/data/test-pan/panda/20210611-125148/00021.pkl\n",
      "ERRORS: 0 / SUCCESS: 0 / TOTAL: 609\n",
      "DATA_PATH: /home/rnb/Projects/rnb-planning/data/test-pan/panda/20210611-125148/00022.pkl\n",
      "ERRORS: 0 / SUCCESS: 0 / TOTAL: 612\n",
      "DATA_PATH: /home/rnb/Projects/rnb-planning/data/test-pan/panda/20210611-125148/00023.pkl\n",
      "ERRORS: 0 / SUCCESS: 0 / TOTAL: 615\n",
      "DATASET_PATH: /home/rnb/Projects/rnb-planning/data/test-pan/panda/20210611-125352\n",
      "DATA_LIST: ['00001.pkl', '00002.pkl', '00003.pkl', '00004.pkl', '00005.pkl', '00006.pkl', '00007.pkl', '00008.pkl', '00009.pkl', '00010.pkl', '00011.pkl', '00012.pkl', '00013.pkl', '00014.pkl', '00015.pkl', '00016.pkl', '00017.pkl', '00018.pkl']\n",
      "DATA_PATH: /home/rnb/Projects/rnb-planning/data/test-pan/panda/20210611-125352/00001.pkl\n",
      "ERRORS: 0 / SUCCESS: 0 / TOTAL: 618\n",
      "DATA_PATH: /home/rnb/Projects/rnb-planning/data/test-pan/panda/20210611-125352/00002.pkl\n",
      "ERRORS: 0 / SUCCESS: 0 / TOTAL: 627\n",
      "DATA_PATH: /home/rnb/Projects/rnb-planning/data/test-pan/panda/20210611-125352/00003.pkl\n",
      "ERRORS: 0 / SUCCESS: 0 / TOTAL: 630\n",
      "DATA_PATH: /home/rnb/Projects/rnb-planning/data/test-pan/panda/20210611-125352/00004.pkl\n",
      "ERRORS: 0 / SUCCESS: 0 / TOTAL: 636\n",
      "DATA_PATH: /home/rnb/Projects/rnb-planning/data/test-pan/panda/20210611-125352/00005.pkl\n",
      "ERRORS: 0 / SUCCESS: 0 / TOTAL: 645\n",
      "DATA_PATH: /home/rnb/Projects/rnb-planning/data/test-pan/panda/20210611-125352/00006.pkl\n",
      "ERRORS: 0 / SUCCESS: 0 / TOTAL: 654\n",
      "DATA_PATH: /home/rnb/Projects/rnb-planning/data/test-pan/panda/20210611-125352/00007.pkl\n",
      "ERRORS: 0 / SUCCESS: 0 / TOTAL: 660\n",
      "DATA_PATH: /home/rnb/Projects/rnb-planning/data/test-pan/panda/20210611-125352/00008.pkl\n",
      "ERRORS: 0 / SUCCESS: 0 / TOTAL: 666\n",
      "DATA_PATH: /home/rnb/Projects/rnb-planning/data/test-pan/panda/20210611-125352/00009.pkl\n",
      "ERRORS: 0 / SUCCESS: 0 / TOTAL: 669\n",
      "DATA_PATH: /home/rnb/Projects/rnb-planning/data/test-pan/panda/20210611-125352/00010.pkl\n",
      "ERRORS: 0 / SUCCESS: 0 / TOTAL: 672\n",
      "DATA_PATH: /home/rnb/Projects/rnb-planning/data/test-pan/panda/20210611-125352/00011.pkl\n",
      "ERRORS: 0 / SUCCESS: 0 / TOTAL: 681\n",
      "DATA_PATH: /home/rnb/Projects/rnb-planning/data/test-pan/panda/20210611-125352/00012.pkl\n",
      "ERRORS: 0 / SUCCESS: 0 / TOTAL: 684\n",
      "DATA_PATH: /home/rnb/Projects/rnb-planning/data/test-pan/panda/20210611-125352/00013.pkl\n",
      "ERRORS: 0 / SUCCESS: 0 / TOTAL: 687\n",
      "DATA_PATH: /home/rnb/Projects/rnb-planning/data/test-pan/panda/20210611-125352/00014.pkl\n",
      "ERRORS: 0 / SUCCESS: 0 / TOTAL: 690\n",
      "DATA_PATH: /home/rnb/Projects/rnb-planning/data/test-pan/panda/20210611-125352/00015.pkl\n",
      "ERRORS: 0 / SUCCESS: 0 / TOTAL: 696\n",
      "DATA_PATH: /home/rnb/Projects/rnb-planning/data/test-pan/panda/20210611-125352/00016.pkl\n",
      "ERRORS: 0 / SUCCESS: 0 / TOTAL: 705\n",
      "DATA_PATH: /home/rnb/Projects/rnb-planning/data/test-pan/panda/20210611-125352/00017.pkl\n",
      "ERRORS: 0 / SUCCESS: 0 / TOTAL: 711\n",
      "DATA_PATH: /home/rnb/Projects/rnb-planning/data/test-pan/panda/20210611-125352/00018.pkl\n",
      "ERRORS: 0 / SUCCESS: 0 / TOTAL: 720\n",
      "DATASET_PATH: /home/rnb/Projects/rnb-planning/data/test-pan/panda/20210611-125542\n",
      "DATA_LIST: ['00001.pkl', '00002.pkl', '00003.pkl', '00004.pkl', '00005.pkl', '00006.pkl', '00007.pkl', '00008.pkl', '00009.pkl', '00010.pkl', '00011.pkl', '00012.pkl', '00013.pkl', '00014.pkl', '00015.pkl', '00016.pkl', '00017.pkl', '00018.pkl', '00019.pkl', '00020.pkl', '00021.pkl']\n",
      "DATA_PATH: /home/rnb/Projects/rnb-planning/data/test-pan/panda/20210611-125542/00001.pkl\n",
      "ERRORS: 0 / SUCCESS: 0 / TOTAL: 723\n",
      "DATA_PATH: /home/rnb/Projects/rnb-planning/data/test-pan/panda/20210611-125542/00002.pkl\n",
      "ERRORS: 0 / SUCCESS: 0 / TOTAL: 726\n",
      "DATA_PATH: /home/rnb/Projects/rnb-planning/data/test-pan/panda/20210611-125542/00003.pkl\n",
      "ERRORS: 0 / SUCCESS: 0 / TOTAL: 729\n",
      "DATA_PATH: /home/rnb/Projects/rnb-planning/data/test-pan/panda/20210611-125542/00004.pkl\n",
      "ERRORS: 0 / SUCCESS: 0 / TOTAL: 735\n",
      "DATA_PATH: /home/rnb/Projects/rnb-planning/data/test-pan/panda/20210611-125542/00005.pkl\n",
      "ERRORS: 0 / SUCCESS: 0 / TOTAL: 741\n",
      "DATA_PATH: /home/rnb/Projects/rnb-planning/data/test-pan/panda/20210611-125542/00006.pkl\n",
      "ERRORS: 0 / SUCCESS: 0 / TOTAL: 750\n",
      "DATA_PATH: /home/rnb/Projects/rnb-planning/data/test-pan/panda/20210611-125542/00007.pkl\n",
      "ERRORS: 0 / SUCCESS: 0 / TOTAL: 753\n",
      "DATA_PATH: /home/rnb/Projects/rnb-planning/data/test-pan/panda/20210611-125542/00008.pkl\n",
      "ERRORS: 0 / SUCCESS: 0 / TOTAL: 756\n",
      "DATA_PATH: /home/rnb/Projects/rnb-planning/data/test-pan/panda/20210611-125542/00009.pkl\n",
      "ERRORS: 0 / SUCCESS: 0 / TOTAL: 762\n",
      "DATA_PATH: /home/rnb/Projects/rnb-planning/data/test-pan/panda/20210611-125542/00010.pkl\n",
      "ERRORS: 0 / SUCCESS: 0 / TOTAL: 771\n",
      "DATA_PATH: /home/rnb/Projects/rnb-planning/data/test-pan/panda/20210611-125542/00011.pkl\n",
      "ERRORS: 0 / SUCCESS: 0 / TOTAL: 777\n",
      "DATA_PATH: /home/rnb/Projects/rnb-planning/data/test-pan/panda/20210611-125542/00012.pkl\n",
      "ERRORS: 0 / SUCCESS: 0 / TOTAL: 780\n",
      "DATA_PATH: /home/rnb/Projects/rnb-planning/data/test-pan/panda/20210611-125542/00013.pkl\n",
      "ERRORS: 0 / SUCCESS: 0 / TOTAL: 783\n",
      "DATA_PATH: /home/rnb/Projects/rnb-planning/data/test-pan/panda/20210611-125542/00014.pkl\n",
      "ERRORS: 0 / SUCCESS: 0 / TOTAL: 786\n",
      "DATA_PATH: /home/rnb/Projects/rnb-planning/data/test-pan/panda/20210611-125542/00015.pkl\n",
      "ERRORS: 0 / SUCCESS: 0 / TOTAL: 792\n",
      "DATA_PATH: /home/rnb/Projects/rnb-planning/data/test-pan/panda/20210611-125542/00016.pkl\n",
      "ERRORS: 0 / SUCCESS: 0 / TOTAL: 795\n",
      "DATA_PATH: /home/rnb/Projects/rnb-planning/data/test-pan/panda/20210611-125542/00017.pkl\n",
      "ERRORS: 0 / SUCCESS: 0 / TOTAL: 801\n",
      "DATA_PATH: /home/rnb/Projects/rnb-planning/data/test-pan/panda/20210611-125542/00018.pkl\n",
      "ERRORS: 0 / SUCCESS: 0 / TOTAL: 807\n",
      "DATA_PATH: /home/rnb/Projects/rnb-planning/data/test-pan/panda/20210611-125542/00019.pkl\n",
      "ERRORS: 0 / SUCCESS: 0 / TOTAL: 813\n",
      "DATA_PATH: /home/rnb/Projects/rnb-planning/data/test-pan/panda/20210611-125542/00020.pkl\n",
      "ERRORS: 0 / SUCCESS: 0 / TOTAL: 819\n",
      "DATA_PATH: /home/rnb/Projects/rnb-planning/data/test-pan/panda/20210611-125542/00021.pkl\n",
      "ERRORS: 0 / SUCCESS: 0 / TOTAL: 828\n",
      "DATASET_PATH: /home/rnb/Projects/rnb-planning/data/test-pan/panda/20210611-125809\n",
      "DATA_LIST: ['00001.pkl', '00002.pkl', '00003.pkl', '00004.pkl', '00005.pkl', '00006.pkl', '00007.pkl', '00008.pkl', '00009.pkl', '00010.pkl', '00011.pkl', '00012.pkl', '00013.pkl', '00014.pkl', '00015.pkl', '00016.pkl', '00017.pkl', '00018.pkl', '00019.pkl', '00020.pkl', '00021.pkl', '00022.pkl']\n",
      "DATA_PATH: /home/rnb/Projects/rnb-planning/data/test-pan/panda/20210611-125809/00001.pkl\n",
      "ERRORS: 0 / SUCCESS: 0 / TOTAL: 834\n",
      "DATA_PATH: /home/rnb/Projects/rnb-planning/data/test-pan/panda/20210611-125809/00002.pkl\n",
      "ERRORS: 0 / SUCCESS: 0 / TOTAL: 837\n",
      "DATA_PATH: /home/rnb/Projects/rnb-planning/data/test-pan/panda/20210611-125809/00003.pkl\n",
      "ERRORS: 0 / SUCCESS: 0 / TOTAL: 840\n",
      "DATA_PATH: /home/rnb/Projects/rnb-planning/data/test-pan/panda/20210611-125809/00004.pkl\n",
      "ERRORS: 0 / SUCCESS: 0 / TOTAL: 846\n",
      "DATA_PATH: /home/rnb/Projects/rnb-planning/data/test-pan/panda/20210611-125809/00005.pkl\n",
      "ERRORS: 0 / SUCCESS: 0 / TOTAL: 849\n",
      "DATA_PATH: /home/rnb/Projects/rnb-planning/data/test-pan/panda/20210611-125809/00006.pkl\n",
      "ERRORS: 0 / SUCCESS: 0 / TOTAL: 852\n",
      "DATA_PATH: /home/rnb/Projects/rnb-planning/data/test-pan/panda/20210611-125809/00007.pkl\n",
      "ERRORS: 0 / SUCCESS: 0 / TOTAL: 855\n",
      "DATA_PATH: /home/rnb/Projects/rnb-planning/data/test-pan/panda/20210611-125809/00008.pkl\n",
      "ERRORS: 0 / SUCCESS: 0 / TOTAL: 858\n",
      "DATA_PATH: /home/rnb/Projects/rnb-planning/data/test-pan/panda/20210611-125809/00009.pkl\n",
      "ERRORS: 0 / SUCCESS: 0 / TOTAL: 861\n",
      "DATA_PATH: /home/rnb/Projects/rnb-planning/data/test-pan/panda/20210611-125809/00010.pkl\n",
      "ERRORS: 0 / SUCCESS: 0 / TOTAL: 864\n",
      "DATA_PATH: /home/rnb/Projects/rnb-planning/data/test-pan/panda/20210611-125809/00011.pkl\n",
      "ERRORS: 0 / SUCCESS: 0 / TOTAL: 870\n",
      "DATA_PATH: /home/rnb/Projects/rnb-planning/data/test-pan/panda/20210611-125809/00012.pkl\n",
      "ERRORS: 0 / SUCCESS: 0 / TOTAL: 879\n",
      "DATA_PATH: /home/rnb/Projects/rnb-planning/data/test-pan/panda/20210611-125809/00013.pkl\n",
      "ERRORS: 0 / SUCCESS: 0 / TOTAL: 885\n",
      "DATA_PATH: /home/rnb/Projects/rnb-planning/data/test-pan/panda/20210611-125809/00014.pkl\n",
      "ERRORS: 0 / SUCCESS: 0 / TOTAL: 891\n",
      "DATA_PATH: /home/rnb/Projects/rnb-planning/data/test-pan/panda/20210611-125809/00015.pkl\n",
      "ERRORS: 0 / SUCCESS: 0 / TOTAL: 894\n",
      "DATA_PATH: /home/rnb/Projects/rnb-planning/data/test-pan/panda/20210611-125809/00016.pkl\n",
      "ERRORS: 0 / SUCCESS: 0 / TOTAL: 900\n",
      "DATA_PATH: /home/rnb/Projects/rnb-planning/data/test-pan/panda/20210611-125809/00017.pkl\n"
     ]
    },
    {
     "name": "stdout",
     "output_type": "stream",
     "text": [
      "ERRORS: 0 / SUCCESS: 0 / TOTAL: 903\n",
      "DATA_PATH: /home/rnb/Projects/rnb-planning/data/test-pan/panda/20210611-125809/00018.pkl\n",
      "ERRORS: 0 / SUCCESS: 0 / TOTAL: 906\n",
      "DATA_PATH: /home/rnb/Projects/rnb-planning/data/test-pan/panda/20210611-125809/00019.pkl\n",
      "ERRORS: 0 / SUCCESS: 0 / TOTAL: 909\n",
      "DATA_PATH: /home/rnb/Projects/rnb-planning/data/test-pan/panda/20210611-125809/00020.pkl\n",
      "ERRORS: 0 / SUCCESS: 0 / TOTAL: 915\n",
      "DATA_PATH: /home/rnb/Projects/rnb-planning/data/test-pan/panda/20210611-125809/00021.pkl\n",
      "ERRORS: 0 / SUCCESS: 0 / TOTAL: 924\n",
      "DATA_PATH: /home/rnb/Projects/rnb-planning/data/test-pan/panda/20210611-125809/00022.pkl\n",
      "ERRORS: 0 / SUCCESS: 0 / TOTAL: 933\n",
      "DATASET_PATH: /home/rnb/Projects/rnb-planning/data/test-pan/panda/20210611-130118\n",
      "DATA_LIST: ['00001.pkl', '00002.pkl', '00003.pkl', '00004.pkl', '00005.pkl', '00006.pkl', '00007.pkl', '00008.pkl', '00009.pkl', '00010.pkl', '00011.pkl', '00012.pkl', '00013.pkl', '00014.pkl', '00015.pkl', '00016.pkl', '00017.pkl', '00018.pkl', '00019.pkl', '00020.pkl', '00021.pkl']\n",
      "DATA_PATH: /home/rnb/Projects/rnb-planning/data/test-pan/panda/20210611-130118/00001.pkl\n",
      "ERRORS: 0 / SUCCESS: 0 / TOTAL: 939\n",
      "DATA_PATH: /home/rnb/Projects/rnb-planning/data/test-pan/panda/20210611-130118/00002.pkl\n",
      "ERRORS: 0 / SUCCESS: 0 / TOTAL: 945\n",
      "DATA_PATH: /home/rnb/Projects/rnb-planning/data/test-pan/panda/20210611-130118/00003.pkl\n",
      "ERRORS: 0 / SUCCESS: 0 / TOTAL: 954\n",
      "DATA_PATH: /home/rnb/Projects/rnb-planning/data/test-pan/panda/20210611-130118/00004.pkl\n",
      "ERRORS: 0 / SUCCESS: 0 / TOTAL: 963\n",
      "DATA_PATH: /home/rnb/Projects/rnb-planning/data/test-pan/panda/20210611-130118/00005.pkl\n",
      "ERRORS: 0 / SUCCESS: 0 / TOTAL: 966\n",
      "DATA_PATH: /home/rnb/Projects/rnb-planning/data/test-pan/panda/20210611-130118/00006.pkl\n",
      "ERRORS: 0 / SUCCESS: 0 / TOTAL: 969\n",
      "DATA_PATH: /home/rnb/Projects/rnb-planning/data/test-pan/panda/20210611-130118/00007.pkl\n",
      "ERRORS: 0 / SUCCESS: 0 / TOTAL: 975\n",
      "DATA_PATH: /home/rnb/Projects/rnb-planning/data/test-pan/panda/20210611-130118/00008.pkl\n",
      "ERRORS: 0 / SUCCESS: 0 / TOTAL: 981\n",
      "DATA_PATH: /home/rnb/Projects/rnb-planning/data/test-pan/panda/20210611-130118/00009.pkl\n",
      "ERRORS: 0 / SUCCESS: 0 / TOTAL: 984\n",
      "DATA_PATH: /home/rnb/Projects/rnb-planning/data/test-pan/panda/20210611-130118/00010.pkl\n",
      "ERRORS: 0 / SUCCESS: 0 / TOTAL: 987\n",
      "DATA_PATH: /home/rnb/Projects/rnb-planning/data/test-pan/panda/20210611-130118/00011.pkl\n",
      "ERRORS: 0 / SUCCESS: 0 / TOTAL: 993\n",
      "DATA_PATH: /home/rnb/Projects/rnb-planning/data/test-pan/panda/20210611-130118/00012.pkl\n",
      "ERRORS: 0 / SUCCESS: 0 / TOTAL: 999\n",
      "DATA_PATH: /home/rnb/Projects/rnb-planning/data/test-pan/panda/20210611-130118/00013.pkl\n",
      "ERRORS: 0 / SUCCESS: 0 / TOTAL: 1005\n",
      "DATA_PATH: /home/rnb/Projects/rnb-planning/data/test-pan/panda/20210611-130118/00014.pkl\n",
      "ERRORS: 0 / SUCCESS: 0 / TOTAL: 1011\n",
      "DATA_PATH: /home/rnb/Projects/rnb-planning/data/test-pan/panda/20210611-130118/00015.pkl\n",
      "ERRORS: 0 / SUCCESS: 0 / TOTAL: 1017\n",
      "DATA_PATH: /home/rnb/Projects/rnb-planning/data/test-pan/panda/20210611-130118/00016.pkl\n",
      "ERRORS: 0 / SUCCESS: 0 / TOTAL: 1020\n",
      "DATA_PATH: /home/rnb/Projects/rnb-planning/data/test-pan/panda/20210611-130118/00017.pkl\n",
      "ERRORS: 0 / SUCCESS: 0 / TOTAL: 1023\n",
      "DATA_PATH: /home/rnb/Projects/rnb-planning/data/test-pan/panda/20210611-130118/00018.pkl\n",
      "ERRORS: 0 / SUCCESS: 0 / TOTAL: 1026\n",
      "DATA_PATH: /home/rnb/Projects/rnb-planning/data/test-pan/panda/20210611-130118/00019.pkl\n",
      "ERRORS: 0 / SUCCESS: 0 / TOTAL: 1029\n",
      "DATA_PATH: /home/rnb/Projects/rnb-planning/data/test-pan/panda/20210611-130118/00020.pkl\n",
      "ERRORS: 0 / SUCCESS: 0 / TOTAL: 1032\n",
      "DATA_PATH: /home/rnb/Projects/rnb-planning/data/test-pan/panda/20210611-130118/00021.pkl\n",
      "ERRORS: 0 / SUCCESS: 0 / TOTAL: 1038\n"
     ]
    }
   ],
   "source": [
    "gtimer = GlobalTimer.instance()\n",
    "gtimer.reset()\n",
    "DATASET_LIST = sorted(os.listdir(ROBOT_DATA_ROOT))\n",
    "ERROR_LIST = []\n",
    "N_tot = 0\n",
    "N_suc = 0\n",
    "print(\"DATASET_LIST: {}\".format(DATASET_LIST))\n",
    "for DATASET_DIR in DATASET_LIST:\n",
    "    DATASET_PATH = os.path.join(ROBOT_DATA_ROOT, DATASET_DIR)\n",
    "    print(\"DATASET_PATH: {}\".format(DATASET_PATH))\n",
    "    DATA_LIST = sorted(os.listdir(DATASET_PATH))\n",
    "    print(\"DATA_LIST: {}\".format(DATA_LIST))\n",
    "    for DATA_FILE in DATA_LIST:\n",
    "        DATA_PATH = os.path.join(DATASET_PATH, DATA_FILE)\n",
    "        print(\"DATA_PATH: {}\".format(DATA_PATH))\n",
    "        data = load_pickle(DATA_PATH)\n",
    "        gtem_args = data[\"gtem_args\"]\n",
    "        obj_args = data[\"obj_args\"]\n",
    "        samples = data[\"samples\"]\n",
    "        gtem_remove = []\n",
    "        for gtem in gscene:\n",
    "            if gtem.link_name == \"base_link\" and gtem.parent is None:\n",
    "                gtem_remove.append(gtem)\n",
    "        for gtem in gtem_remove:\n",
    "            gscene.remove(gtem)\n",
    "                \n",
    "        gid_list = np.arange(len(gtem_args)).tolist()\n",
    "        for gidx in gid_list:\n",
    "            args = gtem_args[gidx]\n",
    "            if args['parent'] is not None:\n",
    "                if args['parent'] not in gscene.NAME_DICT:\n",
    "                    gid_list.append(gidx)\n",
    "                    continue\n",
    "            gscene.create_safe(**args)\n",
    "            \n",
    "        pscene.create_binder(bname=\"wp\", gname=\"wp\", _type=PlacePlane, point=None)\n",
    "            \n",
    "        for i_s, sample in enumerate(samples):\n",
    "            obj_name, from_state, to_state, redundancy_dict, \\\n",
    "                success_kin_, success_reach_, success_retrieve_, \\\n",
    "                Traj_kin_, Traj_reach_, Traj_retrieve_, \\\n",
    "                time_kin_, time_reach_, time_retrieve_ = sample\n",
    "            obj, obj_arg = DummyObject(), obj_args[obj_name]\n",
    "            obj.name = obj_name\n",
    "            obj.GRIP_DEPTH = obj_arg[\"GRIP_DEPTH\"]\n",
    "            obj.DIM = obj_arg[\"DIM\"]\n",
    "            obj.geometry = gscene.NAME_DICT[obj_arg[\"gname\"]]\n",
    "            obj_pscene, handles = add_object(pscene, obj)\n",
    "            checker.update_gscene(only_self_collision=True)\n",
    "            mplan.update_gscene()\n",
    "                            \n",
    "            pscene.set_object_state(from_state)\n",
    "\n",
    "            with gtimer.block(\"kin\"):\n",
    "                Traj_kin, LastQ, error, success_kin, binding_list = \\\n",
    "                    checker.plan_transition(from_state=from_state, to_state=to_state, redundancy_dict=redundancy_dict, \n",
    "                                                only_self_collision=True, timeout=TIMEOUT_SELF)\n",
    "\n",
    "            success_reach, success_retrieve = False, False\n",
    "            time_reach, time_retrieve = TIMEOUT_REACH, TIMEOUT_RETRIEVE\n",
    "            Traj_reach, Traj_retrieve = [], []\n",
    "            if success_kin:\n",
    "                with gtimer.block(\"reach\"):\n",
    "                    Traj_reach, LastQ, error, success_reach, binding_list = mplan.plan_transition(\n",
    "                        from_state=from_state, to_state=to_state, redundancy_dict=redundancy_dict, timeout=TIMEOUT_REACH)\n",
    "                    \n",
    "                if success_reach:\n",
    "                    if VISUALIZE:\n",
    "                        gscene.show_motion(Traj_reach, period=SHOW_PERIOD)\n",
    "                    for bd in binding_list:\n",
    "                        pscene.rebind(bd, list2dict(LastQ, pscene.gscene.joint_names))\n",
    "                    binding_state, state_param = pscene.get_object_state()\n",
    "                    new_state = State(binding_state, state_param, list(LastQ), pscene)\n",
    "                    end_state = new_state.copy(pscene)\n",
    "                    end_state.Q = np.array(HOME_POSE)\n",
    "                    \n",
    "                    with gtimer.block(\"retrieve\"):\n",
    "                        Traj_retrieve, LastQ, error, success_retrieve, binding_list = mplan.plan_transition(\n",
    "                            from_state=new_state, to_state=end_state, timeout=TIMEOUT_RETRIEVE)\n",
    "    #                 print(\"retrieve: {}\".format(success_retrieve))\n",
    "                    if success_retrieve and VISUALIZE:\n",
    "                        gscene.show_motion(Traj_retrieve, period=SHOW_PERIOD)\n",
    "            else:\n",
    "                pass # doen't save pre-filtered data\n",
    "                \n",
    "            pscene.set_object_state(from_state)\n",
    "            pscene.remove_subject(obj_pscene.oname)\n",
    "            for handle in handles:\n",
    "                gscene.remove(handle)  \n",
    "            gscene.update_markers_all()  \n",
    "            N_tot += 1\n",
    "            N_suc += success_retrieve_\n",
    "            \n",
    "            if success_kin_ != success_kin:\n",
    "                ERROR_LIST.append((DATA_PATH, i_s, \"kinematic result changed {} -> {}\".format(success_kin_,success_kin)))\n",
    "                continue\n",
    "            if success_reach_ != success_reach:\n",
    "                ERROR_LIST.append((DATA_PATH, i_s, \"reach result changed {} -> {}\".format(success_reach_,success_reach)))\n",
    "                continue\n",
    "            if success_retrieve_ != success_retrieve:\n",
    "                ERROR_LIST.append((DATA_PATH, i_s, \"retreive result changed {} -> {}\".format(success_retrieve_,success_retrieve)))\n",
    "                continue\n",
    "        print(\"ERRORS: {} / SUCCESS: {} / TOTAL: {}\".format(len(ERROR_LIST), N_suc, N_tot))"
   ]
  },
  {
   "cell_type": "code",
   "execution_count": 16,
   "metadata": {},
   "outputs": [
    {
     "name": "stdout",
     "output_type": "stream",
     "text": [
      "1\n",
      "('/home/rnb/Projects/rnb-planning/data/test-pan/panda/20210611-125031/00012.pkl', 0, 'kinematic result changed False -> True')\n"
     ]
    }
   ],
   "source": [
    "print(len(ERROR_LIST))\n",
    "for ERROR in ERROR_LIST:\n",
    "    print(ERROR)"
   ]
  },
  {
   "cell_type": "markdown",
   "metadata": {},
   "source": [
    "* 100 개에 1분 수준, 1000개는 10분, 5000개 1시간\n",
    "* 두 로봇 x 1000 개 : 20 분\n",
    "* 이산모드/평면 데이터 : 20 분\n",
    "* 이형 데이터 x 2 : 40 분"
   ]
  },
  {
   "cell_type": "code",
   "execution_count": null,
   "metadata": {},
   "outputs": [],
   "source": []
  },
  {
   "cell_type": "code",
   "execution_count": null,
   "metadata": {},
   "outputs": [],
   "source": []
  },
  {
   "cell_type": "code",
   "execution_count": null,
   "metadata": {},
   "outputs": [],
   "source": []
  },
  {
   "cell_type": "code",
   "execution_count": 16,
   "metadata": {},
   "outputs": [
    {
     "data": {
      "text/plain": [
       "['20210611-050055']"
      ]
     },
     "execution_count": 16,
     "metadata": {},
     "output_type": "execute_result"
    }
   ],
   "source": []
  },
  {
   "cell_type": "markdown",
   "metadata": {},
   "source": [
    "## ====================== deprecated ============================"
   ]
  },
  {
   "cell_type": "markdown",
   "metadata": {},
   "source": [
    "## prepare cells"
   ]
  },
  {
   "cell_type": "code",
   "execution_count": null,
   "metadata": {},
   "outputs": [],
   "source": [
    "gtimer = GlobalTimer.instance()\n",
    "gtimer.reset()\n",
    "with gtimer.block(\"prepare_reference_cells_ltc_full\"):\n",
    "    ltc_full.prepare_reference_cells(gscene)\n",
    "with gtimer.block(\"prepare_reference_cells_ltc_effector\"):\n",
    "    ltc_effector.prepare_reference_cells(gscene)\n",
    "with gtimer.block(\"prepare_reference_cells_ltc_arm_05\"):\n",
    "    ltc_arm_05.prepare_reference_cells(gscene)\n",
    "with gtimer.block(\"prepare_reference_cells_ltc_arm_10\"):\n",
    "    ltc_arm_10.prepare_reference_cells(gscene)\n",
    "print(gtimer)"
   ]
  },
  {
   "cell_type": "code",
   "execution_count": null,
   "metadata": {},
   "outputs": [],
   "source": [
    "gscene.show_motion(Traj_reach)"
   ]
  },
  {
   "cell_type": "code",
   "execution_count": null,
   "metadata": {},
   "outputs": [],
   "source": []
  },
  {
   "cell_type": "markdown",
   "metadata": {},
   "source": [
    "## visualize"
   ]
  },
  {
   "cell_type": "code",
   "execution_count": null,
   "metadata": {},
   "outputs": [],
   "source": [
    "vistem_list = []\n",
    "for col_idx in grasp_dict['tar']:\n",
    "    vistem_list.append(gscene.copy_from(ltc_effector.cell_refs[col_idx], color=(0,0,1,0.3)))\n",
    "\n",
    "for col_idx in grasp_dict['tool']:\n",
    "    vistem_list.append(gscene.copy_from(ltc_effector.cell_refs[col_idx], color=(0,1,0,0.3)))"
   ]
  },
  {
   "cell_type": "code",
   "execution_count": null,
   "metadata": {},
   "outputs": [],
   "source": [
    "for vistem in vistem_list:\n",
    "    if vistem in gscene:\n",
    "        gscene.remove(vistem)"
   ]
  },
  {
   "cell_type": "code",
   "execution_count": null,
   "metadata": {},
   "outputs": [],
   "source": []
  },
  {
   "cell_type": "code",
   "execution_count": null,
   "metadata": {},
   "outputs": [],
   "source": [
    "vistem_list = []\n",
    "for col_idx in arm_10_dict['tar']:\n",
    "    vistem_list.append(gscene.copy_from(ltc_arm_10.cell_refs[col_idx], color=(0,0,1,0.3)))\n",
    "\n",
    "for col_idx in arm_10_dict['tool']:\n",
    "    vistem_list.append(gscene.copy_from(ltc_arm_10.cell_refs[col_idx], color=(0,1,0,0.3)))"
   ]
  },
  {
   "cell_type": "code",
   "execution_count": null,
   "metadata": {},
   "outputs": [],
   "source": [
    "for vistem in vistem_list:\n",
    "    if vistem in gscene:\n",
    "        gscene.remove(vistem)"
   ]
  },
  {
   "cell_type": "code",
   "execution_count": null,
   "metadata": {},
   "outputs": [],
   "source": []
  },
  {
   "cell_type": "code",
   "execution_count": null,
   "metadata": {},
   "outputs": [],
   "source": [
    "vistem_list = []\n",
    "for col_idx in full_scene_dict['tar']:\n",
    "    vistem_list.append(gscene.copy_from(ltc_full.cell_refs[col_idx], color=(0,0,1,0.3)))\n",
    "\n",
    "for col_idx in full_scene_dict['tool']:\n",
    "    vistem_list.append(gscene.copy_from(ltc_full.cell_refs[col_idx], color=(0,1,0,0.3)))"
   ]
  },
  {
   "cell_type": "code",
   "execution_count": null,
   "metadata": {},
   "outputs": [],
   "source": [
    "for vistem in vistem_list:\n",
    "    if vistem in gscene:\n",
    "        gscene.remove(vistem)"
   ]
  },
  {
   "cell_type": "code",
   "execution_count": null,
   "metadata": {},
   "outputs": [],
   "source": []
  },
  {
   "cell_type": "markdown",
   "metadata": {},
   "source": [
    "## grasp conversion"
   ]
  },
  {
   "cell_type": "code",
   "execution_count": null,
   "metadata": {},
   "outputs": [],
   "source": [
    "gtimer.reset()\n",
    "with gtimer.block(\"convert_vertices\"):\n",
    "    ltc_effector.convert_vertices(actor_vertinfo_list, HOME_DICT, Tref=Tref)\n",
    "    ltc_effector.convert_vertices(object_vertinfo_list, HOME_DICT, Tref=Tref)\n",
    "print(gtimer)"
   ]
  },
  {
   "cell_type": "code",
   "execution_count": null,
   "metadata": {},
   "outputs": [],
   "source": [
    "vistem_list = []\n",
    "for coll_idxes in ltc_effector.coll_idx_dict.values():\n",
    "    for col_idx in coll_idxes:\n",
    "        vistem_list.append(gscene.copy_from(ltc_effector.cell_refs[col_idx]))"
   ]
  },
  {
   "cell_type": "code",
   "execution_count": null,
   "metadata": {},
   "outputs": [],
   "source": [
    "for vistem in vistem_list:\n",
    "    if vistem in gscene:\n",
    "        gscene.remove(vistem)"
   ]
  },
  {
   "cell_type": "markdown",
   "metadata": {},
   "source": [
    "## scene conversion"
   ]
  },
  {
   "cell_type": "code",
   "execution_count": null,
   "metadata": {},
   "outputs": [],
   "source": [
    "gtimer.reset()\n",
    "with gtimer.block(\"ltc_arm_10_convert\"):\n",
    "    Tref_base = SE3(Tref[:3,:3], (0, 0, shoulder_height))\n",
    "    ltc_arm_10.convert([gtem for gtem in gscene if gtem.collision and gtem not in gtems_robot], HOME_DICT, Tref=Tref_base)\n",
    "print(gtimer)"
   ]
  },
  {
   "cell_type": "code",
   "execution_count": null,
   "metadata": {},
   "outputs": [],
   "source": [
    "vistem_list = []\n",
    "for coll_idxes in ltc_arm_10.coll_idx_dict.values():\n",
    "    for col_idx in coll_idxes:\n",
    "        vistem_list.append(gscene.copy_from(ltc_arm_10.cell_refs[col_idx]))"
   ]
  },
  {
   "cell_type": "code",
   "execution_count": null,
   "metadata": {},
   "outputs": [],
   "source": [
    "for vistem in vistem_list:\n",
    "    if vistem in gscene:\n",
    "        gscene.remove(vistem)"
   ]
  },
  {
   "cell_type": "code",
   "execution_count": null,
   "metadata": {},
   "outputs": [],
   "source": []
  },
  {
   "cell_type": "markdown",
   "metadata": {},
   "source": [
    "## remove object"
   ]
  },
  {
   "cell_type": "code",
   "execution_count": null,
   "metadata": {},
   "outputs": [],
   "source": [
    "\n",
    "pscene.remove_object(obj_pscene.oname)\n",
    "for handle in handles:\n",
    "    gscene.remove(handle)"
   ]
  },
  {
   "cell_type": "code",
   "execution_count": null,
   "metadata": {},
   "outputs": [],
   "source": []
  },
  {
   "cell_type": "code",
   "execution_count": null,
   "metadata": {},
   "outputs": [],
   "source": [
    "gscene.get_items_on_links(TOOL_LINK_BUNDLE[0]) + gscene.get_items_on_links(TOOL_LINK_BUNDLE[1])"
   ]
  },
  {
   "cell_type": "code",
   "execution_count": null,
   "metadata": {},
   "outputs": [],
   "source": [
    "with gtimer.block(\"convert\"):\n",
    "    ltc_full.convert([gtem for gtem in gscene if gtem not in gtems_robot], crob.home_dict)"
   ]
  },
  {
   "cell_type": "code",
   "execution_count": null,
   "metadata": {
    "scrolled": true
   },
   "outputs": [],
   "source": [
    "print(gtimer)"
   ]
  },
  {
   "cell_type": "code",
   "execution_count": null,
   "metadata": {},
   "outputs": [],
   "source": [
    "gscene.show_pose(crob.home_pose)"
   ]
  },
  {
   "cell_type": "code",
   "execution_count": null,
   "metadata": {},
   "outputs": [],
   "source": [
    "# for coll_idxes in latticizer.coll_idx_dict.values():\n",
    "#     for col_idx in coll_idxes:\n",
    "#         gscene.copy_from(latticizer.cell_refs[col_idx])"
   ]
  },
  {
   "cell_type": "code",
   "execution_count": null,
   "metadata": {},
   "outputs": [],
   "source": []
  },
  {
   "cell_type": "markdown",
   "metadata": {},
   "source": [
    "## deprecated python ver"
   ]
  },
  {
   "cell_type": "code",
   "execution_count": null,
   "metadata": {},
   "outputs": [],
   "source": [
    "from pkg.utils.gjk import make_point3, get_point_list, get_point_list_list, get_point_list_list_from_point_list\n",
    "from pkg.utils.gjk import get_gjk_distance, get_gjk_distance_min, get_gjk_distance_all"
   ]
  },
  {
   "cell_type": "code",
   "execution_count": null,
   "metadata": {},
   "outputs": [],
   "source": [
    "gtimer = GlobalTimer.instance()\n",
    "gtimer.reset()\n",
    "with gtimer.block(\"get_cell_vertices\"):\n",
    "    gscene_ref = GeometryScene(gscene.urdf_content, gscene.urdf_path, gscene.joint_names, gscene.link_names, rviz=False)\n",
    "    centers = get_centers(Nwdh, L_CELL, OFFSET_ZERO).reshape((-1,3))\n",
    "    cell_refs = []\n",
    "    for icell, center in enumerate(centers):\n",
    "        cell_refs.append(gscene_ref.create_safe(GEOTYPE.BOX, str(icell), \"base_link\", dims=(L_CELL,)*3, \n",
    "                                                center=center, rpy=(0,0,0), color=(1,1,1,0.2), \n",
    "                                                display=True, collision=False, fixed=True))\n",
    "    cell_vertices = get_cell_vertices(centers, L_CELL)\n",
    "    cell_vertices_gjk = get_point_list_list(cell_vertices)\n",
    "    center_vertices_gjk = get_point_list_list(np.expand_dims(centers, axis=-2))"
   ]
  },
  {
   "cell_type": "code",
   "execution_count": null,
   "metadata": {},
   "outputs": [],
   "source": [
    "print(gtimer)"
   ]
  },
  {
   "cell_type": "code",
   "execution_count": null,
   "metadata": {},
   "outputs": [],
   "source": [
    "gtimer.reset()\n",
    "sqrt3 = np.sqrt(3)\n",
    "LCmax = L_CELL*sqrt3/2\n",
    "Qdict = crob.home_dict\n",
    "with gtimer.block(\"full\"):\n",
    "    for gtem in gscene:\n",
    "#         if gtem in gtems_robot or not gtem.collision:\n",
    "#             continue\n",
    "        with gtimer.block(\"centers\"):\n",
    "            Tgtem = SE3_inv(gtem.get_tf(Qdict))\n",
    "            centers_loc = np.abs(np.matmul(centers, Tgtem[:3,:3].transpose())+Tgtem[:3,3])\n",
    "        if gtem.gtype == GEOTYPE.BOX and np.sum(np.abs(gtem.rpy))<1e-5:\n",
    "            with gtimer.block(\"right box\"):\n",
    "                dist_list = np.max(centers_loc - np.divide(gtem.dims,2) - L_CELL, axis=-1)\n",
    "                cell_idx_occupy = np.where(dist_list < 1e-3)[0]\n",
    "                continue\n",
    "        with gtimer.block(\"calc_center_dist\"):\n",
    "            dist_list = np.max(centers_loc - np.divide(gtem.dims,2) - LCmax, axis=-1)\n",
    "            idx_candi = np.where(dist_list<0)[0]\n",
    "        with gtimer.block(\"calc_points\"):\n",
    "            gtem_verts, gtem_radius = gtem.get_vertice_radius_from(Qdict)\n",
    "        with gtimer.block(\"get_point_gjk\"):\n",
    "            gtem_verts_gjk = get_point_list(gtem_verts)\n",
    "        with gtimer.block(\"get_distance_gjk\"):\n",
    "            cell_idx_occupy = []\n",
    "            for idx in idx_candi:\n",
    "                cell_candi = cell_vertices_gjk[idx]\n",
    "                center_v_candi = center_vertices_gjk[idx]\n",
    "                if ((get_gjk_distance(cell_candi, gtem_verts_gjk) - gtem_radius < 1e-4)):\n",
    "                    cell_idx_occupy.append(idx)\n",
    "#                 if ((get_gjk_distance(gtem_verts_gjk, center_v_candi) - gtem_radius - L_CELL/2 < 1e-4) or \n",
    "#                     (get_gjk_distance(cell_candi, gtem_verts_gjk) - gtem_radius < 1e-4)):\n",
    "#                     cell_idx_occupy.append(idx)\n",
    "print(gtimer)"
   ]
  }
 ],
 "metadata": {
  "kernelspec": {
   "display_name": "Python 2",
   "language": "python",
   "name": "python2"
  },
  "language_info": {
   "codemirror_mode": {
    "name": "ipython",
    "version": 2
   },
   "file_extension": ".py",
   "mimetype": "text/x-python",
   "name": "python",
   "nbconvert_exporter": "python",
   "pygments_lexer": "ipython2",
   "version": "2.7.17"
  }
 },
 "nbformat": 4,
 "nbformat_minor": 2
}
