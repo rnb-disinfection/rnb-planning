{
 "cells": [
  {
   "cell_type": "markdown",
   "metadata": {},
   "source": [
    "## 수정사항\n",
    "#### 2021.06.04\n",
    "* Gripper 자유도 45도로 제한됨에 따라 파지점 방향 수정, 바닥 파지면은 삭제"
   ]
  },
  {
   "cell_type": "markdown",
   "metadata": {},
   "source": [
    "## set running directory"
   ]
  },
  {
   "cell_type": "code",
   "execution_count": 1,
   "metadata": {},
   "outputs": [],
   "source": [
    "from __future__ import print_function\n",
    "import os\n",
    "os.chdir(os.path.join(os.environ[\"RNB_PLANNING_DIR\"], 'src'))"
   ]
  },
  {
   "cell_type": "code",
   "execution_count": 2,
   "metadata": {},
   "outputs": [],
   "source": [
    "from pkg.controller.combined_robot import *\n",
    "from pkg.utils.utils import get_now, try_mkdir\n",
    "\n",
    "\n",
    "DATA_PATH = os.path.join(os.environ['RNB_PLANNING_DIR'], \"data\")\n",
    "try_mkdir(DATA_PATH)\n",
    "\n",
    "TEST_DATA_PATH = os.path.join(DATA_PATH, \"test\")\n",
    "try_mkdir(TEST_DATA_PATH)"
   ]
  },
  {
   "cell_type": "code",
   "execution_count": null,
   "metadata": {},
   "outputs": [],
   "source": []
  },
  {
   "cell_type": "code",
   "execution_count": 3,
   "metadata": {},
   "outputs": [],
   "source": [
    "VISUALIZE = False\n",
    "TIMEOUT_REACH = 30\n",
    "TIMEOUT_RETRIEVE = 30\n",
    "TIMEOUT_SELF = 1\n",
    "CLEARANCE = 1e-3\n",
    "\n",
    "ROBOT_TYPE = RobotType.indy7\n",
    "ROBOT_NAME = \"indy0\"\n",
    "TOOL_LINK = \"indy0_tcp\"\n",
    "TOOL_XYZ = (0,0,0.14)\n",
    "TOOL_RPY = (-np.pi/2,0,0)\n",
    "GRIP_DEPTH = 0.05\n",
    "HOME_POSE = (0,0,0,0,0,0)\n",
    "\n",
    "# ROBOT_TYPE = RobotType.panda\n",
    "# ROBOT_NAME = \"panda0\"\n",
    "# TOOL_LINK = \"panda0_hand\"\n",
    "# TOOL_XYZ = (0,0,0.112)\n",
    "# TOOL_RPY = (-np.pi/2,0,0)\n",
    "# GRIP_DEPTH = 0.03\n",
    "# HOME_POSE = (0,-0.3,0,-0.5,0,2.5,0)"
   ]
  },
  {
   "cell_type": "code",
   "execution_count": null,
   "metadata": {},
   "outputs": [],
   "source": []
  },
  {
   "cell_type": "markdown",
   "metadata": {},
   "source": [
    "## init combined robot config"
   ]
  },
  {
   "cell_type": "code",
   "execution_count": 4,
   "metadata": {},
   "outputs": [
    {
     "name": "stdout",
     "output_type": "stream",
     "text": [
      "connection command:\n",
      "indy0: False\n"
     ]
    }
   ],
   "source": [
    "\n",
    "from pkg.project_config import *\n",
    "\n",
    "crob = CombinedRobot(robots_on_scene=[\n",
    "    RobotConfig(0, ROBOT_TYPE, None,\n",
    "                INDY_IP)]\n",
    "              , connection_list=[False])\n",
    "\n",
    "from pkg.geometry.builder.scene_builder import SceneBuilder\n",
    "s_builder = SceneBuilder(None)\n",
    "# s_builder.reset_reference_coord(ref_name=\"floor\")"
   ]
  },
  {
   "cell_type": "code",
   "execution_count": null,
   "metadata": {},
   "outputs": [],
   "source": []
  },
  {
   "cell_type": "markdown",
   "metadata": {},
   "source": [
    "## get ghnd with detected robot config"
   ]
  },
  {
   "cell_type": "code",
   "execution_count": 5,
   "metadata": {
    "scrolled": true
   },
   "outputs": [
    {
     "name": "stderr",
     "output_type": "stream",
     "text": [
      "Unknown tag \"hardwareInterface\" in /robot[@name='custom_robots']/transmission[@name='indy0_tran0']/actuator[@name='indy0_motor0']\n",
      "Unknown tag \"hardwareInterface\" in /robot[@name='custom_robots']/transmission[@name='indy0_tran1']/actuator[@name='indy0_motor1']\n",
      "Unknown tag \"hardwareInterface\" in /robot[@name='custom_robots']/transmission[@name='indy0_tran2']/actuator[@name='indy0_motor2']\n",
      "Unknown tag \"hardwareInterface\" in /robot[@name='custom_robots']/transmission[@name='indy0_tran3']/actuator[@name='indy0_motor3']\n",
      "Unknown tag \"hardwareInterface\" in /robot[@name='custom_robots']/transmission[@name='indy0_tran4']/actuator[@name='indy0_motor4']\n",
      "Unknown tag \"hardwareInterface\" in /robot[@name='custom_robots']/transmission[@name='indy0_tran5']/actuator[@name='indy0_motor5']\n"
     ]
    }
   ],
   "source": [
    "# xyz_rpy_robots = s_builder.detect_items(level_mask=[DetectionLevel.ROBOT])\n",
    "xyz_rpy_robots = {ROBOT_NAME: ((0,0,0), (0,0,0))}\n",
    "crob.update_robot_pos_dict(xyz_rpy_robots=xyz_rpy_robots)\n",
    "gscene = s_builder.create_gscene(crob, start_rviz=VISUALIZE)\n",
    "HOME_DICT = list2dict(HOME_POSE, gscene.joint_names)\n"
   ]
  },
  {
   "cell_type": "code",
   "execution_count": 6,
   "metadata": {},
   "outputs": [],
   "source": [
    "from pkg.utils.joint_utils import get_tf\n",
    "shoulder_link = gscene.urdf_content.joint_map[gscene.joint_names[1]].child\n",
    "shoulder_height = get_tf(shoulder_link, HOME_DICT, gscene.urdf_content)[2,3]"
   ]
  },
  {
   "cell_type": "code",
   "execution_count": null,
   "metadata": {},
   "outputs": [],
   "source": []
  },
  {
   "cell_type": "markdown",
   "metadata": {},
   "source": [
    "## add environment"
   ]
  },
  {
   "cell_type": "code",
   "execution_count": 7,
   "metadata": {},
   "outputs": [],
   "source": [
    "from pkg.geometry.geometry import *\n",
    "gtems_robot = s_builder.add_robot_geometries(color=(0,1,0,0.5), display=True, collision=True)"
   ]
  },
  {
   "cell_type": "code",
   "execution_count": null,
   "metadata": {},
   "outputs": [],
   "source": []
  },
  {
   "cell_type": "markdown",
   "metadata": {},
   "source": [
    "## init planning scene"
   ]
  },
  {
   "cell_type": "code",
   "execution_count": 8,
   "metadata": {},
   "outputs": [],
   "source": [
    "from pkg.planning.scene import PlanningScene\n",
    "pscene = PlanningScene(gscene, combined_robot=crob)\n",
    "\n",
    "from pkg.planning.pipeline import PlanningPipeline\n",
    "ppline = PlanningPipeline(pscene)"
   ]
  },
  {
   "cell_type": "code",
   "execution_count": null,
   "metadata": {},
   "outputs": [],
   "source": []
  },
  {
   "cell_type": "markdown",
   "metadata": {},
   "source": [
    "## Register binders"
   ]
  },
  {
   "cell_type": "code",
   "execution_count": 9,
   "metadata": {},
   "outputs": [],
   "source": [
    "from pkg.planning.constraint.constraint_actor import Gripper2Tool, PlacePlane, SweepTool"
   ]
  },
  {
   "cell_type": "code",
   "execution_count": 10,
   "metadata": {},
   "outputs": [],
   "source": [
    "gscene.create_safe(gtype=GEOTYPE.SPHERE, name=\"grip0\", link_name=TOOL_LINK, \n",
    "                 dims=(0.01,)*3, center=TOOL_XYZ, rpy=TOOL_RPY, color=(1,0,0,1), display=True, collision=False, fixed=True)\n",
    "gripper = pscene.create_binder(bname=\"grip0\", gname=\"grip0\", _type=Gripper2Tool)"
   ]
  },
  {
   "cell_type": "code",
   "execution_count": null,
   "metadata": {},
   "outputs": [],
   "source": []
  },
  {
   "cell_type": "markdown",
   "metadata": {},
   "source": [
    "## planner"
   ]
  },
  {
   "cell_type": "code",
   "execution_count": 11,
   "metadata": {},
   "outputs": [],
   "source": [
    "from pkg.planning.motion.moveit.moveit_planner import MoveitPlanner\n",
    "from pkg.planning.filtering.grasp_filter import GraspChecker\n",
    "from pkg.planning.filtering.reach_filter import ReachChecker\n",
    "mplan = MoveitPlanner(pscene)\n",
    "checker = MoveitPlanner(pscene)\n",
    "\n",
    "gcheck = GraspChecker(pscene)\n",
    "rcheck = ReachChecker(pscene)\n",
    "checker.motion_filters = [gcheck] # rchecker is not perfect, don't use for data gen"
   ]
  },
  {
   "cell_type": "code",
   "execution_count": null,
   "metadata": {},
   "outputs": [],
   "source": []
  },
  {
   "cell_type": "markdown",
   "metadata": {},
   "source": [
    "## ui"
   ]
  },
  {
   "cell_type": "code",
   "execution_count": 12,
   "metadata": {},
   "outputs": [
    {
     "name": "stdout",
     "output_type": "stream",
     "text": [
      "Dash is running on http://0.0.0.0:8050/\n",
      "\n",
      " * Serving Flask app \"pkg.ui.dash_launcher\" (lazy loading)\n",
      " * Environment: production\n",
      "   WARNING: This is a development server. Do not use it in a production deployment.\n",
      "   Use a production WSGI server instead.\n",
      " * Debug mode: off\n"
     ]
    }
   ],
   "source": [
    "from pkg.ui.ui_broker import *\n",
    "\n",
    "# start UI\n",
    "ui_broker = UIBroker.instance()\n",
    "ui_broker.initialize(ppline, s_builder)\n",
    "ui_broker.start_server()\n",
    "\n",
    "ui_broker.set_tables()"
   ]
  },
  {
   "cell_type": "code",
   "execution_count": null,
   "metadata": {},
   "outputs": [],
   "source": []
  },
  {
   "cell_type": "markdown",
   "metadata": {},
   "source": [
    "# Object Classes"
   ]
  },
  {
   "cell_type": "code",
   "execution_count": 13,
   "metadata": {},
   "outputs": [],
   "source": [
    "from pkg.planning.filtering.lattice_model import *\n",
    "        \n",
    "WORKPLANE_TYPES = [WorkPlane, Box, SideBox, TopBox]\n",
    "\n",
    "Nmax_wall, Nmax_pole, Nmax_bar = 4, 8, 8\n",
    "\n",
    "Nmax_obj = 3\n",
    "\n",
    "N_max_sample = 1000\n",
    "N_print = 5"
   ]
  },
  {
   "cell_type": "code",
   "execution_count": null,
   "metadata": {},
   "outputs": [],
   "source": []
  },
  {
   "cell_type": "markdown",
   "metadata": {},
   "source": [
    "### sampling"
   ]
  },
  {
   "cell_type": "code",
   "execution_count": 15,
   "metadata": {
    "scrolled": true
   },
   "outputs": [
    {
     "name": "stdout",
     "output_type": "stream",
     "text": [
      "\n",
      "DATASET_PATH: /home/rnb/Projects/rnb-planning/data/latticized/indy7/20210608-194120\n",
      "\n",
      "1 / 1000 in 7.05 / 7051.7 s -- reach,retrieve = (100.0 %, 100.0 %)                     \n",
      "6 / 1000 in 156.06 / 26010.18 s -- reach,retrieve = (33.3 %, 33.3 %)                     \n",
      "11 / 1000 in 222.58 / 20234.38 s -- reach,retrieve = (54.5 %, 54.5 %)                     \n",
      "17 / 1000 in 346.52 / 20383.74 s -- reach,retrieve = (52.9 %, 52.9 %)                     \n",
      "21 / 1000 in 352.05 / 16764.44 s -- reach,retrieve = (61.9 %, 61.9 %)                     \n",
      "26 / 1000 in 420.16 / 16159.91 s -- reach,retrieve = (57.7 %, 53.8 %)                     \n",
      "31 / 1000 in 468.6 / 15115.98 s -- reach,retrieve = (61.3 %, 58.1 %)                      \n",
      "36 / 1000 in 498.73 / 13853.65 s -- reach,retrieve = (66.7 %, 63.9 %)                     \n",
      "41 / 1000 in 604.14 / 14735.15 s -- reach,retrieve = (63.4 %, 61.0 %)                     \n",
      "46 / 1000 in 614.6 / 13360.85 s -- reach,retrieve = (67.4 %, 65.2 %)                      \n",
      "51 / 1000 in 636.81 / 12486.56 s -- reach,retrieve = (70.6 %, 68.6 %)                     \n",
      "57 / 1000 in 754.59 / 13238.42 s -- reach,retrieve = (70.2 %, 68.4 %)                     \n",
      "61 / 1000 in 817.67 / 13404.42 s -- reach,retrieve = (70.5 %, 68.9 %)                     \n",
      "66 / 1000 in 907.56 / 13750.89 s -- reach,retrieve = (69.7 %, 68.2 %)                     \n",
      "72 / 1000 in 960.11 / 13334.83 s -- reach,retrieve = (70.8 %, 69.4 %)                     \n",
      "77 / 1000 in 1016.83 / 13205.63 s -- reach,retrieve = (71.4 %, 70.1 %)                     \n",
      "81 / 1000 in 1087.38 / 13424.48 s -- reach,retrieve = (70.4 %, 69.1 %)                     \n",
      "86 / 1000 in 1123.39 / 13062.72 s -- reach,retrieve = (70.9 %, 69.8 %)                     \n",
      "91 / 1000 in 1145.64 / 12589.41 s -- reach,retrieve = (72.5 %, 71.4 %)                     \n",
      "96 / 1000 in 1220.95 / 12718.23 s -- reach,retrieve = (71.9 %, 70.8 %)                     \n",
      "102 / 1000 in 1246.75 / 12223.03 s -- reach,retrieve = (73.5 %, 72.5 %)                     \n",
      "106 / 1000 in 1283.68 / 12110.23 s -- reach,retrieve = (73.6 %, 72.6 %)                     \n",
      "111 / 1000 in 1356.57 / 12221.36 s -- reach,retrieve = (73.0 %, 72.1 %)                     \n",
      "117 / 1000 in 1431.69 / 12236.68 s -- reach,retrieve = (72.6 %, 71.8 %)                     \n",
      "122 / 1000 in 1501.01 / 12303.35 s -- reach,retrieve = (73.0 %, 72.1 %)                     \n",
      "126 / 1000 in 1515.37 / 12026.78 s -- reach,retrieve = (73.8 %, 73.0 %)                     \n",
      "131 / 1000 in 1579.95 / 12060.71 s -- reach,retrieve = (74.0 %, 73.3 %)                     \n",
      "136 / 1000 in 1656.36 / 12179.12 s -- reach,retrieve = (73.5 %, 72.8 %)                     \n",
      "142 / 1000 in 1682.47 / 11848.4 s -- reach,retrieve = (74.6 %, 73.9 %)                      \n",
      "146 / 1000 in 1717.79 / 11765.7 s -- reach,retrieve = (75.3 %, 74.7 %)                      \n",
      "151 / 1000 in 1788.29 / 11842.99 s -- reach,retrieve = (74.8 %, 74.2 %)                     \n",
      "156 / 1000 in 1845.06 / 11827.29 s -- reach,retrieve = (75.0 %, 74.4 %)                     \n",
      "161 / 1000 in 1887.69 / 11724.77 s -- reach,retrieve = (75.2 %, 74.5 %)                     \n",
      "166 / 1000 in 1929.86 / 11625.65 s -- reach,retrieve = (75.3 %, 74.7 %)                     \n",
      "175 / 1000 in 1984.09 / 11337.69 s -- reach,retrieve = (76.0 %, 75.4 %)                     \n",
      "176 / 1000 in 1986.96 / 11289.57 s -- reach,retrieve = (76.1 %, 75.6 %)                     \n",
      "181 / 1000 in 2049.67 / 11324.13 s -- reach,retrieve = (75.7 %, 75.1 %)                     \n",
      "186 / 1000 in 2125.61 / 11427.99 s -- reach,retrieve = (75.8 %, 74.7 %)                     \n",
      "191 / 1000 in 2244.89 / 11753.35 s -- reach,retrieve = (74.9 %, 73.8 %)                     \n",
      "196 / 1000 in 2302.03 / 11745.07 s -- reach,retrieve = (75.0 %, 74.0 %)                     \n",
      "201 / 1000 in 2336.94 / 11626.54 s -- reach,retrieve = (75.1 %, 74.1 %)                     \n",
      "206 / 1000 in 2385.06 / 11577.94 s -- reach,retrieve = (75.2 %, 74.3 %)                     \n",
      "211 / 1000 in 2397.67 / 11363.34 s -- reach,retrieve = (75.8 %, 74.9 %)                     \n",
      "217 / 1000 in 2413.67 / 11122.88 s -- reach,retrieve = (76.5 %, 75.6 %)                     \n",
      "221 / 1000 in 2447.76 / 11075.86 s -- reach,retrieve = (76.9 %, 76.0 %)                     \n",
      "226 / 1000 in 2495.11 / 11040.31 s -- reach,retrieve = (77.0 %, 76.1 %)                     \n",
      "231 / 1000 in 2507.02 / 10852.89 s -- reach,retrieve = (77.5 %, 76.6 %)                     \n",
      "236 / 1000 in 2590.3 / 10975.83 s -- reach,retrieve = (77.1 %, 76.3 %)                      \n",
      "242 / 1000 in 2665.3 / 11013.64 s -- reach,retrieve = (76.9 %, 76.0 %)                      \n",
      "248 / 1000 in 2739.08 / 11044.66 s -- reach,retrieve = (76.6 %, 75.8 %)                     \n",
      "252 / 1000 in 2781.03 / 11035.83 s -- reach,retrieve = (76.6 %, 75.8 %)                     \n",
      "256 / 1000 in 2820.77 / 11018.64 s -- reach,retrieve = (76.6 %, 75.8 %)                     \n",
      "259 / 1000 in 2886.75 / 11145.76 s -- reach,retrieve = (76.1 %, 75.3 %)                     \r"
     ]
    },
    {
     "ename": "KeyboardInterrupt",
     "evalue": "",
     "output_type": "error",
     "traceback": [
      "\u001b[0;31m---------------------------------------------------------------------------\u001b[0m",
      "\u001b[0;31mKeyboardInterrupt\u001b[0m                         Traceback (most recent call last)",
      "\u001b[0;32m<ipython-input-15-28ea0fcddb4a>\u001b[0m in \u001b[0;36m<module>\u001b[0;34m()\u001b[0m\n\u001b[1;32m     98\u001b[0m                         \u001b[0mgtimer\u001b[0m\u001b[0;34m.\u001b[0m\u001b[0mtic\u001b[0m\u001b[0;34m(\u001b[0m\u001b[0;34m\"retrieve\"\u001b[0m\u001b[0;34m)\u001b[0m\u001b[0;34m\u001b[0m\u001b[0m\n\u001b[1;32m     99\u001b[0m                         Traj_retrieve, LastQ, error, success_retrieve, binding_list = mplan.plan_transition(\n\u001b[0;32m--> 100\u001b[0;31m                             from_state=new_state, to_state=end_state, timeout=TIMEOUT_RETRIEVE)\n\u001b[0m\u001b[1;32m    101\u001b[0m                         \u001b[0mtime_retrieve\u001b[0m \u001b[0;34m=\u001b[0m \u001b[0mgtimer\u001b[0m\u001b[0;34m.\u001b[0m\u001b[0mtoc\u001b[0m\u001b[0;34m(\u001b[0m\u001b[0;34m\"retrieve\"\u001b[0m\u001b[0;34m)\u001b[0m\u001b[0;34m\u001b[0m\u001b[0m\n\u001b[1;32m    102\u001b[0m                         \u001b[0mretrieve_success_list\u001b[0m\u001b[0;34m.\u001b[0m\u001b[0mappend\u001b[0m\u001b[0;34m(\u001b[0m\u001b[0msuccess_retrieve\u001b[0m\u001b[0;34m)\u001b[0m\u001b[0;34m\u001b[0m\u001b[0m\n",
      "\u001b[0;32m/home/rnb/Projects/rnb-planning/src/pkg/planning/motion/interface.pyc\u001b[0m in \u001b[0;36mplan_transition\u001b[0;34m(self, from_state, to_state, redundancy_dict, verbose, test_filters_only, **kwargs)\u001b[0m\n\u001b[1;32m    102\u001b[0m             Traj, LastQ, error, success = self.plan_algorithm(from_state, to_state, binding_list,\n\u001b[1;32m    103\u001b[0m                                                               \u001b[0mredundancy_values\u001b[0m\u001b[0;34m=\u001b[0m\u001b[0mredundancy_values\u001b[0m\u001b[0;34m,\u001b[0m\u001b[0;34m\u001b[0m\u001b[0m\n\u001b[0;32m--> 104\u001b[0;31m                                                               verbose=verbose, **kwargs)\n\u001b[0m\u001b[1;32m    105\u001b[0m             \u001b[0;32mif\u001b[0m \u001b[0mself\u001b[0m\u001b[0;34m.\u001b[0m\u001b[0mflag_log\u001b[0m\u001b[0;34m:\u001b[0m\u001b[0;34m\u001b[0m\u001b[0m\n\u001b[1;32m    106\u001b[0m                 \u001b[0mself\u001b[0m\u001b[0;34m.\u001b[0m\u001b[0mgtimer\u001b[0m\u001b[0;34m.\u001b[0m\u001b[0mtoc\u001b[0m\u001b[0;34m(\u001b[0m\u001b[0;34m'planning'\u001b[0m\u001b[0;34m)\u001b[0m\u001b[0;34m\u001b[0m\u001b[0m\n",
      "\u001b[0;32m/home/rnb/Projects/rnb-planning/src/pkg/planning/motion/moveit/moveit_planner.pyc\u001b[0m in \u001b[0;36mplan_algorithm\u001b[0;34m(self, from_state, to_state, binding_list, redundancy_values, timeout, timeout_joint, timeout_constrained, verbose, only_self_collision, **kwargs)\u001b[0m\n\u001b[1;32m    169\u001b[0m                 \u001b[0;32mprint\u001b[0m\u001b[0;34m(\u001b[0m\u001b[0;34m\"try joint motion\"\u001b[0m\u001b[0;34m)\u001b[0m \u001b[0;31m## <- DO NOT REMOVE THIS: helps multi-process issue with boost python-cpp\u001b[0m\u001b[0;34m\u001b[0m\u001b[0m\n\u001b[1;32m    170\u001b[0m             trajectory, success = planner.plan_joint_motion_py(\n\u001b[0;32m--> 171\u001b[0;31m                 group_name, tuple(to_Q), tuple(from_Q), timeout=timeout_joint, **kwargs)\n\u001b[0m\u001b[1;32m    172\u001b[0m             \u001b[0;32mif\u001b[0m \u001b[0mverbose\u001b[0m\u001b[0;34m:\u001b[0m\u001b[0;34m\u001b[0m\u001b[0m\n\u001b[1;32m    173\u001b[0m                 \u001b[0;32mprint\u001b[0m\u001b[0;34m(\u001b[0m\u001b[0;34m\"joint motion tried: {}\"\u001b[0m\u001b[0;34m.\u001b[0m\u001b[0mformat\u001b[0m\u001b[0;34m(\u001b[0m\u001b[0msuccess\u001b[0m\u001b[0;34m)\u001b[0m\u001b[0;34m)\u001b[0m \u001b[0;31m## <- DO NOT REMOVE THIS: helps multi-process issue with boost python-cpp\u001b[0m\u001b[0;34m\u001b[0m\u001b[0m\n",
      "\u001b[0;32m/home/rnb/Projects/rnb-planning/src/pkg/planning/motion/moveit/moveit_py.pyc\u001b[0m in \u001b[0;36mplan_joint_motion_py\u001b[0;34m(self, robot_name, goal_state, Q_init, plannerconfig, timeout, vel_scale, acc_scale, post_opt, **kwargs)\u001b[0m\n\u001b[1;32m    160\u001b[0m         plan = self.plan_joint_motion(robot_name, JointState(len(goal_state), *goal_state),\n\u001b[1;32m    161\u001b[0m                                            \u001b[0mJointState\u001b[0m\u001b[0;34m(\u001b[0m\u001b[0mself\u001b[0m\u001b[0;34m.\u001b[0m\u001b[0mjoint_num\u001b[0m\u001b[0;34m,\u001b[0m \u001b[0;34m*\u001b[0m\u001b[0mQ_init\u001b[0m\u001b[0;34m)\u001b[0m\u001b[0;34m,\u001b[0m \u001b[0mplannerconfig\u001b[0m\u001b[0;34m,\u001b[0m \u001b[0mtimeout\u001b[0m\u001b[0;34m,\u001b[0m\u001b[0;34m\u001b[0m\u001b[0m\n\u001b[0;32m--> 162\u001b[0;31m                                       vel_scale, acc_scale, post_opt)\n\u001b[0m\u001b[1;32m    163\u001b[0m         return np.array(\n\u001b[1;32m    164\u001b[0m             [spread(Q, self.joint_num) for Q in spread(plan.trajectory, len(plan.trajectory))]), plan.success\n",
      "\u001b[0;31mKeyboardInterrupt\u001b[0m: "
     ]
    }
   ],
   "source": [
    "gtimer = GlobalTimer.instance()\n",
    "gtimer.reset()\n",
    "\n",
    "reach_success_list = []\n",
    "reach_time_list = []\n",
    "retrieve_success_list = []\n",
    "retrieve_time_list = []\n",
    "\n",
    "for _ in range(10):\n",
    "\n",
    "    DATASET_PATH = os.path.join(ROBOT_DATA_ROOT, get_now())\n",
    "    try_mkdir(DATASET_PATH)\n",
    "    print(\"\")\n",
    "    print(\"DATASET_PATH: {}\".format(DATASET_PATH))\n",
    "    print(\"\")\n",
    "\n",
    "    GRASP_PATH = os.path.join(DATASET_PATH, \"grasp\")\n",
    "    try_mkdir(GRASP_PATH)\n",
    "\n",
    "    ARM_10_PATH = os.path.join(DATASET_PATH, \"arm_10\")\n",
    "    try_mkdir(ARM_10_PATH)\n",
    "\n",
    "    ARM_05_PATH = os.path.join(DATASET_PATH, \"arm_05\")\n",
    "    try_mkdir(ARM_05_PATH)\n",
    "\n",
    "    FULL_SCENE_PATH = os.path.join(DATASET_PATH, \"full_scene\")\n",
    "    try_mkdir(FULL_SCENE_PATH)\n",
    "\n",
    "    gtimer.tic(\"full_loop\")\n",
    "\n",
    "    i_s = 0\n",
    "    i_print = 0\n",
    "    reach_list = []\n",
    "    retrieve_list = []\n",
    "    while i_s < N_max_sample:\n",
    "        ## add floor, ceiling\n",
    "        floor = Floor(gscene, \"floor\")\n",
    "        # ceiling = Ceiling(gscene, \"ceiling\")\n",
    "\n",
    "        ## set workplane\n",
    "        wp = random.choice(WORKPLANE_TYPES)(gscene, \"wp\", floor_height=floor.RTH[2]+floor.DIM[2]/2)\n",
    "        pscene.create_binder(bname=\"wp\", gname=\"wp\", _type=PlacePlane)\n",
    "\n",
    "        ## add walls, poles, bars\n",
    "        walls = redistribute_class(gscene, Wall, \"wl\", Nmax_wall, workplane_avoid=wp)\n",
    "        poles = redistribute_class(gscene, Pole, \"po\", Nmax_pole, workplane_avoid=wp)\n",
    "        bars = redistribute_class(gscene, Bar, \"bar\", Nmax_bar, workplane_avoid=wp)\n",
    "\n",
    "        ## add object\n",
    "        obj_list = disperse_objects(gscene, PlaneObject, \"obj\", Nmax_obj, workplane_on=wp)\n",
    "\n",
    "        samples = []\n",
    "        for obj in obj_list:\n",
    "            SHOW_PERIOD = 0.01\n",
    "            N_sample_single_obj = 3\n",
    "            N_sample_single_obj_max = 3\n",
    "            obj_pscene, handles = add_object(pscene, obj)\n",
    "            mplan.update_gscene()\n",
    "            initial_state = pscene.initialize_state(HOME_POSE)\n",
    "            pscene.set_object_state(initial_state)\n",
    "            from_state = initial_state.copy(pscene)\n",
    "            to_node = (\"grip0\",)\n",
    "            available_binding_dict = pscene.get_available_binding_dict(from_state, to_node, HOME_DICT)\n",
    "            samples_obj = []\n",
    "            for _ in range(N_sample_single_obj):\n",
    "                to_state, redundancy_dict = pscene.sample_leaf_state(from_state, available_binding_dict, to_node)\n",
    "                \n",
    "                pscene.set_object_state(from_state)\n",
    "                \n",
    "                Traj_reach, LastQ, error, res, binding_list = \\\n",
    "                            checker.plan_transition(from_state=from_state, to_state=to_state, redundancy_dict=redundancy_dict, \n",
    "                                                    only_self_collision=True, timeout=TIMEOUT_SELF)\n",
    "\n",
    "                success_reach, success_retrieve = False, False\n",
    "                time_reach, time_retrieve = TIMEOUT_REACH, TIMEOUT_RETRIEVE\n",
    "                if res:\n",
    "                    gtimer.tic(\"reach\")\n",
    "                    Traj_reach, LastQ, error, success_reach, binding_list = mplan.plan_transition(\n",
    "                        from_state=from_state, to_state=to_state, redundancy_dict=redundancy_dict, timeout=TIMEOUT_REACH)\n",
    "                    time_reach = gtimer.toc(\"reach\")\n",
    "                    reach_success_list.append(success_reach)\n",
    "                    reach_time_list.append(time_reach)\n",
    "        #             print(\"reach: {}\".format(success_reach))\n",
    "                    Traj_retrieve = []\n",
    "                    if success_reach:\n",
    "                        if VISUALIZE:\n",
    "                            gscene.show_motion(Traj_reach, period=SHOW_PERIOD)\n",
    "                        for bd in binding_list:\n",
    "                            pscene.rebind(bd, list2dict(LastQ, pscene.gscene.joint_names))\n",
    "                        binding_state, state_param = pscene.get_object_state()\n",
    "                        new_state = State(binding_state, state_param, list(LastQ), pscene)\n",
    "                        end_state = new_state.copy(pscene)\n",
    "                        end_state.Q = np.array(HOME_POSE)\n",
    "                        gtimer.tic(\"retrieve\")\n",
    "                        Traj_retrieve, LastQ, error, success_retrieve, binding_list = mplan.plan_transition(\n",
    "                            from_state=new_state, to_state=end_state, timeout=TIMEOUT_RETRIEVE)\n",
    "                        time_retrieve = gtimer.toc(\"retrieve\")\n",
    "                        retrieve_success_list.append(success_retrieve)\n",
    "                        retrieve_time_list.append(time_retrieve)\n",
    "        #                 print(\"retrieve: {}\".format(success_retrieve))\n",
    "                        if success_retrieve and VISUALIZE:\n",
    "                            gscene.show_motion(Traj_retrieve, period=SHOW_PERIOD)\n",
    "                    samples_obj.append((obj.name, from_state, to_state, redundancy_dict, \n",
    "                                        success_reach, success_retrieve, Traj_reach, Traj_retrieve, time_reach, time_retrieve))\n",
    "                    if len(samples_obj)>=N_sample_single_obj_max:\n",
    "                        pscene.set_object_state(initial_state)\n",
    "                        break\n",
    "                else:\n",
    "                    pass # doen't save pre-filtered data\n",
    "#                     Traj_reach, Traj_retrieve = [], []\n",
    "#                     reach_success_list.append(success_reach)\n",
    "#                     reach_time_list.append(time_reach)\n",
    "#                     retrieve_success_list.append(success_retrieve)\n",
    "#                     retrieve_time_list.append(time_retrieve)\n",
    "#                     samples_obj.append((obj.name, from_state, to_state, redundancy_dict, \n",
    "#                                         success_reach, success_retrieve, Traj_reach, Traj_retrieve, time_reach, time_retrieve))\n",
    "#                 if success_retrieve and not res_col:\n",
    "#                     raise(RuntimeError(\"Something's wrong: successful motion but collision checker failed\"))\n",
    "        #             print(\"no save?\")\n",
    "            samples = samples+samples_obj\n",
    "            pscene.set_object_state(initial_state)\n",
    "\n",
    "            pscene.remove_subject(obj_pscene.oname)\n",
    "            for handle in handles:\n",
    "                gscene.remove(handle)    \n",
    "\n",
    "            gscene.update_markers_all()\n",
    "\n",
    "        for sample in samples:\n",
    "            obj_name, from_state, to_state, redundancy_dict, success_reach, success_retrieve, \\\n",
    "                Traj_reach, Traj_retrieve, time_reach, time_retrieve = sample\n",
    "            obj = [obj for obj in obj_list if obj.name == obj_name][0]\n",
    "            obj_pscene, handles = add_object(pscene, obj)\n",
    "            pscene.set_object_state(from_state)\n",
    "            binding_list, binding_ok = pscene.get_slack_bindings(from_state, to_state)\n",
    "            assert binding_ok, \"no available transition\"\n",
    "            assert len(binding_list) == 1, \"multiple binding transition - only single allowed in training process\"\n",
    "            binding = binding_list[0]\n",
    "\n",
    "            grasp_dict = {}\n",
    "            arm_05_dict = {}\n",
    "            arm_10_dict = {}\n",
    "            full_scene_dict = {}\n",
    "            ltc_effector.clear()\n",
    "            ltc_arm_05.clear()\n",
    "            ltc_arm_10.clear()\n",
    "            ltc_full.clear()\n",
    "\n",
    "            obj_name, ap_name, binder_name, binder_geometry_name = binding\n",
    "            actor, obj = pscene.actor_dict[binder_name], pscene.subject_dict[obj_name]\n",
    "            handle = obj.action_points_dict[ap_name]\n",
    "            redundancy, Q_dict = redundancy_dict[obj_name], list2dict(from_state.Q, gscene.joint_names)\n",
    "            redundancy = redundancy_dict[obj_name]\n",
    "            point_add_handle, rpy_add_handle = calc_redundancy(redundancy[ap_name], handle)\n",
    "            point_add_actor, rpy_add_actor = calc_redundancy(redundancy[binder_name], actor)\n",
    "            \n",
    "            T_handle_lh = np.matmul(handle.Toff_lh, SE3(Rot_rpy(rpy_add_handle), point_add_handle))\n",
    "            T_actor_lh = np.matmul(actor.Toff_lh, SE3(Rot_rpy(rpy_add_actor), point_add_actor))\n",
    "            T_loal = np.matmul(T_handle_lh, SE3_inv(T_actor_lh))\n",
    "            actor_vertinfo_list, object_vertinfo_list, actor_Tinv_dict, object_Tinv_dict = \\\n",
    "                                                gcheck.get_grasping_vert_infos(actor, obj, T_loal, HOME_DICT)\n",
    "\n",
    "            if all([ROBOT_NAME in lname for lname in actor_Tinv_dict.keys()]):\n",
    "                tool_Tinv_dict = actor_Tinv_dict\n",
    "                tool_vertinfo_list = actor_vertinfo_list\n",
    "                target_vertinfo_list = object_vertinfo_list\n",
    "                T_end_effector = T_loal\n",
    "            elif all([ROBOT_NAME in lname for lname in object_Tinv_dict.keys()]):\n",
    "                tool_Tinv_dict = object_Tinv_dict\n",
    "                tool_vertinfo_list = object_vertinfo_list\n",
    "                target_vertinfo_list = actor_vertinfo_list\n",
    "                T_end_effector = SE3_inv(T_loal)\n",
    "            else:\n",
    "                raise(\"Invaild TOOL_LINK_BUNDLE\")\n",
    "            T_end_joint = T_end_effector\n",
    "#             for lname in TOOL_LINK_BUNDLE:\n",
    "#                 T_end_joint = np.matmul(T_end_joint, tool_Tinv_dict[lname])\n",
    "#             raise\n",
    "\n",
    "            r, th, h = cart2cyl(*T_end_effector[:3,3])\n",
    "            Tref = SE3(Rot_axis(3, th), T_end_effector[:3,3])\n",
    "            obj_names = [obj.geometry.name] + obj.geometry.children\n",
    "            target_names= [item[0] for item in target_vertinfo_list if item[0] not in obj_names]\n",
    "            tool_names = [item[0] for item in tool_vertinfo_list]\n",
    "\n",
    "            ltc_effector.convert_vertices(tool_vertinfo_list, Tref=Tref)\n",
    "            ltc_effector.convert_vertices(target_vertinfo_list, Tref=Tref)\n",
    "\n",
    "            Tref_base = SE3(Tref[:3,:3], (0, 0, shoulder_height))\n",
    "            ltc_arm_05.convert([gtem for gtem in gscene if gtem.collision and gtem not in gtems_robot], HOME_DICT, Tref=Tref_base)\n",
    "            ltc_arm_10.convert([gtem for gtem in gscene if gtem.collision and gtem not in gtems_robot], HOME_DICT, Tref=Tref_base)\n",
    "            ltc_full.convert([gtem for gtem in gscene if gtem.collision and gtem not in gtems_robot], HOME_DICT, Tref=Tref_base)\n",
    "            ltc_full.convert_vertices(actor_vertinfo_list, Tref=Tref_base)\n",
    "\n",
    "            grasp_dict[\"tar\"] = sorted(set(itertools.chain(*[ltc_effector.coll_idx_dict[tname] for tname in target_names if tname in ltc_effector.coll_idx_dict])))\n",
    "            grasp_dict[\"tool\"] = sorted(set(itertools.chain(*[ltc_effector.coll_idx_dict[tname] for tname in tool_names if tname in ltc_effector.coll_idx_dict])))\n",
    "            grasp_dict[\"obj\"] = sorted(set(itertools.chain(*[ltc_effector.coll_idx_dict[tname] for tname in obj_names if tname in ltc_effector.coll_idx_dict])))\n",
    "            grasp_dict[\"T_end_effector\"], grasp_dict[\"T_end_joint\"], grasp_dict[\"Tref_base\"]  = T_end_effector, T_end_joint, Tref_base\n",
    "            grasp_dict[\"reach\"], grasp_dict[\"retrieve\"] = success_reach, success_retrieve\n",
    "            grasp_dict[\"reach_time\"], grasp_dict[\"retrieve_time\"] = time_reach, success_retrieve\n",
    "\n",
    "            arm_05_dict[\"tar\"] = sorted(set(itertools.chain(*[ltc_arm_05.coll_idx_dict[tname] for tname in target_names if tname in ltc_arm_05.coll_idx_dict])))\n",
    "            arm_05_dict[\"tool\"] = sorted(set(itertools.chain(*[ltc_arm_05.coll_idx_dict[tname] for tname in tool_names if tname in ltc_arm_05.coll_idx_dict])))\n",
    "            arm_05_dict[\"T_end_effector\"], arm_05_dict[\"T_end_joint\"], arm_05_dict[\"Tref_base\"] = T_end_effector, T_end_joint, Tref_base\n",
    "            arm_05_dict[\"reach\"], arm_05_dict[\"retrieve\"] = success_reach, success_retrieve\n",
    "\n",
    "            arm_10_dict[\"tar\"] = sorted(set(itertools.chain(*[ltc_arm_10.coll_idx_dict[tname] for tname in target_names if tname in ltc_arm_10.coll_idx_dict])))\n",
    "            arm_10_dict[\"tool\"] = sorted(set(itertools.chain(*[ltc_arm_10.coll_idx_dict[tname] for tname in tool_names if tname in ltc_arm_10.coll_idx_dict])))\n",
    "            arm_10_dict[\"T_end_effector\"], arm_10_dict[\"T_end_joint\"], arm_10_dict[\"Tref_base\"] = T_end_effector, T_end_joint, Tref_base\n",
    "            arm_10_dict[\"reach\"], arm_10_dict[\"retrieve\"] = success_reach, success_retrieve\n",
    "\n",
    "            full_scene_dict[\"tar\"] = sorted(set(itertools.chain(*[ltc_full.coll_idx_dict[tname] for tname in target_names if tname in ltc_full.coll_idx_dict])))\n",
    "            full_scene_dict[\"tool\"] = sorted(set(itertools.chain(*[ltc_full.coll_idx_dict[tname] for tname in tool_names if tname in ltc_full.coll_idx_dict])))\n",
    "            full_scene_dict[\"obj\"] = sorted(set(itertools.chain(*[ltc_full.coll_idx_dict[tname] for tname in obj_names if tname in ltc_full.coll_idx_dict])))\n",
    "            full_scene_dict[\"T_end_effector\"], full_scene_dict[\"T_end_joint\"], full_scene_dict[\"Tref_base\"] = T_end_effector, T_end_joint, Tref_base\n",
    "            full_scene_dict[\"reach\"], full_scene_dict[\"retrieve\"] = success_reach, success_retrieve\n",
    "\n",
    "            reach_list.append(success_reach)\n",
    "            retrieve_list.append(success_retrieve)\n",
    "\n",
    "            save_pickle(os.path.join(GRASP_PATH, \"%06d.pkl\"%i_s), grasp_dict)\n",
    "            save_pickle(os.path.join(ARM_05_PATH, \"%06d.pkl\"%i_s), arm_05_dict)\n",
    "            save_pickle(os.path.join(ARM_10_PATH, \"%06d.pkl\"%i_s), arm_10_dict)\n",
    "            save_pickle(os.path.join(FULL_SCENE_PATH, \"%06d.pkl\"%i_s), full_scene_dict)\n",
    "\n",
    "            i_s += 1\n",
    "\n",
    "            pscene.remove_subject(obj_pscene.oname)\n",
    "            for handle in handles:\n",
    "                gscene.remove(handle)\n",
    "\n",
    "            gscene.update_markers_all()\n",
    "        if i_s > 0 :\n",
    "            if i_s > i_print*N_print:\n",
    "                i_print +=  1\n",
    "                print_end = \"\\n\"\n",
    "            else:\n",
    "                print_end = \"\\r\"\n",
    "            time_elapsed = gtimer.toc(\"full_loop\")/1000\n",
    "            print(\"{} / {} in {} / {} s -- reach,retrieve = ({} %, {} %)                     \".format(\n",
    "                i_s, N_max_sample, round(time_elapsed, 2), round(time_elapsed/i_s*N_max_sample, 2), \n",
    "                round(np.mean(reach_list)*100, 1), round(np.mean(retrieve_list)*100, 1)), end=print_end)\n",
    "\n",
    "\n",
    "    print(\"\")\n",
    "    print(\"\")\n",
    "    print(\"============= Finished {} in {} s -- reach,retrieve = ({} %, {} %) =================\".format(\n",
    "        i_s, round(time_elapsed, 2), round(np.mean(reach_list)*100, 1), round(np.mean(retrieve_list)*100, 1)))"
   ]
  },
  {
   "cell_type": "code",
   "execution_count": null,
   "metadata": {},
   "outputs": [],
   "source": []
  },
  {
   "cell_type": "code",
   "execution_count": null,
   "metadata": {},
   "outputs": [],
   "source": []
  },
  {
   "cell_type": "code",
   "execution_count": null,
   "metadata": {},
   "outputs": [],
   "source": []
  },
  {
   "cell_type": "markdown",
   "metadata": {},
   "source": [
    "## ====================== deprecated ============================"
   ]
  },
  {
   "cell_type": "markdown",
   "metadata": {},
   "source": [
    "## prepare cells"
   ]
  },
  {
   "cell_type": "code",
   "execution_count": null,
   "metadata": {},
   "outputs": [],
   "source": [
    "gtimer = GlobalTimer.instance()\n",
    "gtimer.reset()\n",
    "with gtimer.block(\"prepare_reference_cells_ltc_full\"):\n",
    "    ltc_full.prepare_reference_cells(gscene)\n",
    "with gtimer.block(\"prepare_reference_cells_ltc_effector\"):\n",
    "    ltc_effector.prepare_reference_cells(gscene)\n",
    "with gtimer.block(\"prepare_reference_cells_ltc_arm_05\"):\n",
    "    ltc_arm_05.prepare_reference_cells(gscene)\n",
    "with gtimer.block(\"prepare_reference_cells_ltc_arm_10\"):\n",
    "    ltc_arm_10.prepare_reference_cells(gscene)\n",
    "print(gtimer)"
   ]
  },
  {
   "cell_type": "code",
   "execution_count": null,
   "metadata": {},
   "outputs": [],
   "source": [
    "gscene.show_motion(Traj_reach)"
   ]
  },
  {
   "cell_type": "code",
   "execution_count": null,
   "metadata": {},
   "outputs": [],
   "source": []
  },
  {
   "cell_type": "markdown",
   "metadata": {},
   "source": [
    "## visualize"
   ]
  },
  {
   "cell_type": "code",
   "execution_count": null,
   "metadata": {},
   "outputs": [],
   "source": [
    "vistem_list = []\n",
    "for col_idx in grasp_dict['tar']:\n",
    "    vistem_list.append(gscene.copy_from(ltc_effector.cell_refs[col_idx], color=(0,0,1,0.3)))\n",
    "\n",
    "for col_idx in grasp_dict['tool']:\n",
    "    vistem_list.append(gscene.copy_from(ltc_effector.cell_refs[col_idx], color=(0,1,0,0.3)))"
   ]
  },
  {
   "cell_type": "code",
   "execution_count": null,
   "metadata": {},
   "outputs": [],
   "source": [
    "for vistem in vistem_list:\n",
    "    if vistem in gscene:\n",
    "        gscene.remove(vistem)"
   ]
  },
  {
   "cell_type": "code",
   "execution_count": null,
   "metadata": {},
   "outputs": [],
   "source": []
  },
  {
   "cell_type": "code",
   "execution_count": null,
   "metadata": {},
   "outputs": [],
   "source": [
    "vistem_list = []\n",
    "for col_idx in arm_10_dict['tar']:\n",
    "    vistem_list.append(gscene.copy_from(ltc_arm_10.cell_refs[col_idx], color=(0,0,1,0.3)))\n",
    "\n",
    "for col_idx in arm_10_dict['tool']:\n",
    "    vistem_list.append(gscene.copy_from(ltc_arm_10.cell_refs[col_idx], color=(0,1,0,0.3)))"
   ]
  },
  {
   "cell_type": "code",
   "execution_count": null,
   "metadata": {},
   "outputs": [],
   "source": [
    "for vistem in vistem_list:\n",
    "    if vistem in gscene:\n",
    "        gscene.remove(vistem)"
   ]
  },
  {
   "cell_type": "code",
   "execution_count": null,
   "metadata": {},
   "outputs": [],
   "source": []
  },
  {
   "cell_type": "code",
   "execution_count": null,
   "metadata": {},
   "outputs": [],
   "source": [
    "vistem_list = []\n",
    "for col_idx in full_scene_dict['tar']:\n",
    "    vistem_list.append(gscene.copy_from(ltc_full.cell_refs[col_idx], color=(0,0,1,0.3)))\n",
    "\n",
    "for col_idx in full_scene_dict['tool']:\n",
    "    vistem_list.append(gscene.copy_from(ltc_full.cell_refs[col_idx], color=(0,1,0,0.3)))"
   ]
  },
  {
   "cell_type": "code",
   "execution_count": null,
   "metadata": {},
   "outputs": [],
   "source": [
    "for vistem in vistem_list:\n",
    "    if vistem in gscene:\n",
    "        gscene.remove(vistem)"
   ]
  },
  {
   "cell_type": "code",
   "execution_count": null,
   "metadata": {},
   "outputs": [],
   "source": []
  },
  {
   "cell_type": "markdown",
   "metadata": {},
   "source": [
    "## grasp conversion"
   ]
  },
  {
   "cell_type": "code",
   "execution_count": null,
   "metadata": {},
   "outputs": [],
   "source": [
    "gtimer.reset()\n",
    "with gtimer.block(\"convert_vertices\"):\n",
    "    ltc_effector.convert_vertices(actor_vertinfo_list, HOME_DICT, Tref=Tref)\n",
    "    ltc_effector.convert_vertices(object_vertinfo_list, HOME_DICT, Tref=Tref)\n",
    "print(gtimer)"
   ]
  },
  {
   "cell_type": "code",
   "execution_count": null,
   "metadata": {},
   "outputs": [],
   "source": [
    "vistem_list = []\n",
    "for coll_idxes in ltc_effector.coll_idx_dict.values():\n",
    "    for col_idx in coll_idxes:\n",
    "        vistem_list.append(gscene.copy_from(ltc_effector.cell_refs[col_idx]))"
   ]
  },
  {
   "cell_type": "code",
   "execution_count": null,
   "metadata": {},
   "outputs": [],
   "source": [
    "for vistem in vistem_list:\n",
    "    if vistem in gscene:\n",
    "        gscene.remove(vistem)"
   ]
  },
  {
   "cell_type": "markdown",
   "metadata": {},
   "source": [
    "## scene conversion"
   ]
  },
  {
   "cell_type": "code",
   "execution_count": null,
   "metadata": {},
   "outputs": [],
   "source": [
    "gtimer.reset()\n",
    "with gtimer.block(\"ltc_arm_10_convert\"):\n",
    "    Tref_base = SE3(Tref[:3,:3], (0, 0, shoulder_height))\n",
    "    ltc_arm_10.convert([gtem for gtem in gscene if gtem.collision and gtem not in gtems_robot], HOME_DICT, Tref=Tref_base)\n",
    "print(gtimer)"
   ]
  },
  {
   "cell_type": "code",
   "execution_count": null,
   "metadata": {},
   "outputs": [],
   "source": [
    "vistem_list = []\n",
    "for coll_idxes in ltc_arm_10.coll_idx_dict.values():\n",
    "    for col_idx in coll_idxes:\n",
    "        vistem_list.append(gscene.copy_from(ltc_arm_10.cell_refs[col_idx]))"
   ]
  },
  {
   "cell_type": "code",
   "execution_count": null,
   "metadata": {},
   "outputs": [],
   "source": [
    "for vistem in vistem_list:\n",
    "    if vistem in gscene:\n",
    "        gscene.remove(vistem)"
   ]
  },
  {
   "cell_type": "code",
   "execution_count": null,
   "metadata": {},
   "outputs": [],
   "source": []
  },
  {
   "cell_type": "markdown",
   "metadata": {},
   "source": [
    "## remove object"
   ]
  },
  {
   "cell_type": "code",
   "execution_count": null,
   "metadata": {},
   "outputs": [],
   "source": [
    "\n",
    "pscene.remove_object(obj_pscene.oname)\n",
    "for handle in handles:\n",
    "    gscene.remove(handle)"
   ]
  },
  {
   "cell_type": "code",
   "execution_count": null,
   "metadata": {},
   "outputs": [],
   "source": []
  },
  {
   "cell_type": "code",
   "execution_count": null,
   "metadata": {},
   "outputs": [],
   "source": [
    "gscene.get_items_on_links(TOOL_LINK_BUNDLE[0]) + gscene.get_items_on_links(TOOL_LINK_BUNDLE[1])"
   ]
  },
  {
   "cell_type": "code",
   "execution_count": null,
   "metadata": {},
   "outputs": [],
   "source": [
    "with gtimer.block(\"convert\"):\n",
    "    ltc_full.convert([gtem for gtem in gscene if gtem not in gtems_robot], crob.home_dict)"
   ]
  },
  {
   "cell_type": "code",
   "execution_count": null,
   "metadata": {
    "scrolled": true
   },
   "outputs": [],
   "source": [
    "print(gtimer)"
   ]
  },
  {
   "cell_type": "code",
   "execution_count": null,
   "metadata": {},
   "outputs": [],
   "source": [
    "gscene.show_pose(crob.home_pose)"
   ]
  },
  {
   "cell_type": "code",
   "execution_count": null,
   "metadata": {},
   "outputs": [],
   "source": [
    "# for coll_idxes in latticizer.coll_idx_dict.values():\n",
    "#     for col_idx in coll_idxes:\n",
    "#         gscene.copy_from(latticizer.cell_refs[col_idx])"
   ]
  },
  {
   "cell_type": "code",
   "execution_count": null,
   "metadata": {},
   "outputs": [],
   "source": []
  },
  {
   "cell_type": "markdown",
   "metadata": {},
   "source": [
    "## deprecated python ver"
   ]
  },
  {
   "cell_type": "code",
   "execution_count": null,
   "metadata": {},
   "outputs": [],
   "source": [
    "from pkg.utils.gjk import make_point3, get_point_list, get_point_list_list, get_point_list_list_from_point_list\n",
    "from pkg.utils.gjk import get_gjk_distance, get_gjk_distance_min, get_gjk_distance_all"
   ]
  },
  {
   "cell_type": "code",
   "execution_count": null,
   "metadata": {},
   "outputs": [],
   "source": [
    "gtimer = GlobalTimer.instance()\n",
    "gtimer.reset()\n",
    "with gtimer.block(\"get_cell_vertices\"):\n",
    "    gscene_ref = GeometryScene(gscene.urdf_content, gscene.urdf_path, gscene.joint_names, gscene.link_names, rviz=False)\n",
    "    centers = get_centers(Nwdh, L_CELL, OFFSET_ZERO).reshape((-1,3))\n",
    "    cell_refs = []\n",
    "    for icell, center in enumerate(centers):\n",
    "        cell_refs.append(gscene_ref.create_safe(GEOTYPE.BOX, str(icell), \"base_link\", dims=(L_CELL,)*3, \n",
    "                                                center=center, rpy=(0,0,0), color=(1,1,1,0.2), \n",
    "                                                display=True, collision=False, fixed=True))\n",
    "    cell_vertices = get_cell_vertices(centers, L_CELL)\n",
    "    cell_vertices_gjk = get_point_list_list(cell_vertices)\n",
    "    center_vertices_gjk = get_point_list_list(np.expand_dims(centers, axis=-2))"
   ]
  },
  {
   "cell_type": "code",
   "execution_count": null,
   "metadata": {},
   "outputs": [],
   "source": [
    "print(gtimer)"
   ]
  },
  {
   "cell_type": "code",
   "execution_count": null,
   "metadata": {},
   "outputs": [],
   "source": [
    "gtimer.reset()\n",
    "sqrt3 = np.sqrt(3)\n",
    "LCmax = L_CELL*sqrt3/2\n",
    "Qdict = crob.home_dict\n",
    "with gtimer.block(\"full\"):\n",
    "    for gtem in gscene:\n",
    "#         if gtem in gtems_robot or not gtem.collision:\n",
    "#             continue\n",
    "        with gtimer.block(\"centers\"):\n",
    "            Tgtem = SE3_inv(gtem.get_tf(Qdict))\n",
    "            centers_loc = np.abs(np.matmul(centers, Tgtem[:3,:3].transpose())+Tgtem[:3,3])\n",
    "        if gtem.gtype == GEOTYPE.BOX and np.sum(np.abs(gtem.rpy))<1e-5:\n",
    "            with gtimer.block(\"right box\"):\n",
    "                dist_list = np.max(centers_loc - np.divide(gtem.dims,2) - L_CELL, axis=-1)\n",
    "                cell_idx_occupy = np.where(dist_list < 1e-3)[0]\n",
    "                continue\n",
    "        with gtimer.block(\"calc_center_dist\"):\n",
    "            dist_list = np.max(centers_loc - np.divide(gtem.dims,2) - LCmax, axis=-1)\n",
    "            idx_candi = np.where(dist_list<0)[0]\n",
    "        with gtimer.block(\"calc_points\"):\n",
    "            gtem_verts, gtem_radius = gtem.get_vertice_radius_from(Qdict)\n",
    "        with gtimer.block(\"get_point_gjk\"):\n",
    "            gtem_verts_gjk = get_point_list(gtem_verts)\n",
    "        with gtimer.block(\"get_distance_gjk\"):\n",
    "            cell_idx_occupy = []\n",
    "            for idx in idx_candi:\n",
    "                cell_candi = cell_vertices_gjk[idx]\n",
    "                center_v_candi = center_vertices_gjk[idx]\n",
    "                if ((get_gjk_distance(cell_candi, gtem_verts_gjk) - gtem_radius < 1e-4)):\n",
    "                    cell_idx_occupy.append(idx)\n",
    "#                 if ((get_gjk_distance(gtem_verts_gjk, center_v_candi) - gtem_radius - L_CELL/2 < 1e-4) or \n",
    "#                     (get_gjk_distance(cell_candi, gtem_verts_gjk) - gtem_radius < 1e-4)):\n",
    "#                     cell_idx_occupy.append(idx)\n",
    "print(gtimer)"
   ]
  }
 ],
 "metadata": {
  "kernelspec": {
   "display_name": "Python 2",
   "language": "python",
   "name": "python2"
  },
  "language_info": {
   "codemirror_mode": {
    "name": "ipython",
    "version": 2
   },
   "file_extension": ".py",
   "mimetype": "text/x-python",
   "name": "python",
   "nbconvert_exporter": "python",
   "pygments_lexer": "ipython2",
   "version": "2.7.17"
  }
 },
 "nbformat": 4,
 "nbformat_minor": 2
}
