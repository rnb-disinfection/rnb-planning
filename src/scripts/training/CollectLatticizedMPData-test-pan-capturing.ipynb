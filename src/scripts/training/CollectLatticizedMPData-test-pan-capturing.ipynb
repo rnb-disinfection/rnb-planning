{
 "cells": [
  {
   "cell_type": "markdown",
   "metadata": {},
   "source": [
    "## 수정사항\n",
    "#### 2021.06.04\n",
    "* Gripper 자유도 45도로 제한됨에 따라 파지점 방향 수정, 바닥 파지면은 삭제"
   ]
  },
  {
   "cell_type": "markdown",
   "metadata": {},
   "source": [
    "## set running directory"
   ]
  },
  {
   "cell_type": "code",
   "execution_count": 1,
   "metadata": {},
   "outputs": [],
   "source": [
    "from __future__ import print_function\n",
    "import os\n",
    "os.chdir(os.path.join(os.environ[\"RNB_PLANNING_DIR\"], 'src'))"
   ]
  },
  {
   "cell_type": "code",
   "execution_count": 2,
   "metadata": {},
   "outputs": [],
   "source": [
    "from pkg.controller.combined_robot import *\n",
    "from pkg.utils.utils import get_now, try_mkdir\n",
    "\n",
    "\n",
    "DATA_PATH = os.path.join(os.environ['RNB_PLANNING_DIR'], \"data\")\n",
    "try_mkdir(DATA_PATH)\n",
    "\n",
    "TEST_DATA_PATH = os.path.join(DATA_PATH, \"test-pan\")\n",
    "try_mkdir(TEST_DATA_PATH)"
   ]
  },
  {
   "cell_type": "code",
   "execution_count": null,
   "metadata": {},
   "outputs": [],
   "source": []
  },
  {
   "cell_type": "code",
   "execution_count": 3,
   "metadata": {},
   "outputs": [],
   "source": [
    "VISUALIZE = True\n",
    "TIMEOUT_REACH = 30\n",
    "TIMEOUT_RETRIEVE = 30\n",
    "TIMEOUT_SELF = 3\n",
    "TOOL_RPY = (-np.pi/2,0,0)\n",
    "SHOW_PERIOD = 0.01\n",
    "\n",
    "ROBOT_TYPE = RobotType.panda\n",
    "\n",
    "if ROBOT_TYPE == RobotType.indy7:\n",
    "    ROBOT_NAME = \"indy0\"\n",
    "    TOOL_LINK = \"indy0_tcp\"\n",
    "    TOOL_XYZ = (0,0,0.14)\n",
    "    GRIP_DEPTH = 0.05\n",
    "    HOME_POSE = (0,0,0,0,0,0)\n",
    "elif ROBOT_TYPE == RobotType.panda:\n",
    "    ROBOT_NAME = \"panda0\"\n",
    "    TOOL_LINK = \"panda0_hand\"\n",
    "    TOOL_XYZ = (0,0,0.112)\n",
    "    GRIP_DEPTH = 0.03\n",
    "    HOME_POSE = (0,-0.3,0,-0.5,0,2.5,0)\n",
    "else:\n",
    "    raise(NotImplementedError(\"Unknown robot type\"))\n",
    "    \n",
    "    \n",
    "ROBOT_DATA_ROOT = os.path.join(TEST_DATA_PATH, ROBOT_TYPE.name)\n",
    "try_mkdir(ROBOT_DATA_ROOT)"
   ]
  },
  {
   "cell_type": "code",
   "execution_count": null,
   "metadata": {},
   "outputs": [],
   "source": []
  },
  {
   "cell_type": "markdown",
   "metadata": {},
   "source": [
    "## init combined robot config"
   ]
  },
  {
   "cell_type": "code",
   "execution_count": 4,
   "metadata": {},
   "outputs": [
    {
     "name": "stdout",
     "output_type": "stream",
     "text": [
      "connection command:\n",
      "panda0: False\n"
     ]
    }
   ],
   "source": [
    "\n",
    "from pkg.project_config import *\n",
    "\n",
    "crob = CombinedRobot(robots_on_scene=[\n",
    "    RobotConfig(0, ROBOT_TYPE, None,\n",
    "                INDY_IP)]\n",
    "              , connection_list=[False])\n",
    "\n",
    "from pkg.geometry.builder.scene_builder import SceneBuilder\n",
    "s_builder = SceneBuilder(None)\n",
    "# s_builder.reset_reference_coord(ref_name=\"floor\")"
   ]
  },
  {
   "cell_type": "code",
   "execution_count": null,
   "metadata": {},
   "outputs": [],
   "source": []
  },
  {
   "cell_type": "markdown",
   "metadata": {},
   "source": [
    "## get ghnd with detected robot config"
   ]
  },
  {
   "cell_type": "code",
   "execution_count": 5,
   "metadata": {
    "scrolled": true
   },
   "outputs": [
    {
     "name": "stdout",
     "output_type": "stream",
     "text": [
      "Unable to register with master node [http://localhost:11311]: master may not be running yet. Will keep trying.\n",
      "Please create a subscriber to the marker\n",
      "publication OK\n",
      "published: [0, 0, 0, 0, 0, 0, 0]\n"
     ]
    }
   ],
   "source": [
    "# xyz_rpy_robots = s_builder.detect_items(level_mask=[DetectionLevel.ROBOT])\n",
    "xyz_rpy_robots = {ROBOT_NAME: ((0,0,0), (0,0,0))}\n",
    "crob.update_robot_pos_dict(xyz_rpy_robots=xyz_rpy_robots)\n",
    "gscene = s_builder.create_gscene(crob, start_rviz=VISUALIZE)\n",
    "HOME_DICT = list2dict(HOME_POSE, gscene.joint_names)\n"
   ]
  },
  {
   "cell_type": "code",
   "execution_count": 6,
   "metadata": {},
   "outputs": [],
   "source": [
    "from pkg.utils.joint_utils import get_tf\n",
    "shoulder_link = gscene.urdf_content.joint_map[gscene.joint_names[1]].child\n",
    "shoulder_height = get_tf(shoulder_link, HOME_DICT, gscene.urdf_content)[2,3]"
   ]
  },
  {
   "cell_type": "code",
   "execution_count": null,
   "metadata": {},
   "outputs": [],
   "source": []
  },
  {
   "cell_type": "markdown",
   "metadata": {},
   "source": [
    "## add environment"
   ]
  },
  {
   "cell_type": "code",
   "execution_count": 7,
   "metadata": {},
   "outputs": [
    {
     "name": "stdout",
     "output_type": "stream",
     "text": [
      "Please create a subscriber to the marker\n"
     ]
    }
   ],
   "source": [
    "from pkg.geometry.geometry import *\n",
    "gtems_robot = s_builder.add_robot_geometries(color=(0,1,0,0.5), display=True, collision=True)"
   ]
  },
  {
   "cell_type": "code",
   "execution_count": null,
   "metadata": {},
   "outputs": [],
   "source": []
  },
  {
   "cell_type": "markdown",
   "metadata": {},
   "source": [
    "## init planning scene"
   ]
  },
  {
   "cell_type": "code",
   "execution_count": 8,
   "metadata": {},
   "outputs": [],
   "source": [
    "from pkg.planning.scene import PlanningScene\n",
    "pscene = PlanningScene(gscene, combined_robot=crob)\n",
    "\n",
    "from pkg.planning.pipeline import PlanningPipeline\n",
    "ppline = PlanningPipeline(pscene)"
   ]
  },
  {
   "cell_type": "code",
   "execution_count": null,
   "metadata": {},
   "outputs": [],
   "source": []
  },
  {
   "cell_type": "markdown",
   "metadata": {},
   "source": [
    "## Register binders"
   ]
  },
  {
   "cell_type": "code",
   "execution_count": 9,
   "metadata": {},
   "outputs": [],
   "source": [
    "from pkg.planning.constraint.constraint_actor import Gripper2Tool, PlacePlane, SweepTool"
   ]
  },
  {
   "cell_type": "code",
   "execution_count": 10,
   "metadata": {},
   "outputs": [],
   "source": [
    "gscene.create_safe(gtype=GEOTYPE.SPHERE, name=\"grip0\", link_name=TOOL_LINK, \n",
    "                 dims=(0.01,)*3, center=TOOL_XYZ, rpy=TOOL_RPY, color=(1,0,0,1), display=True, collision=False, fixed=True)\n",
    "gripper = pscene.create_binder(bname=\"grip0\", gname=\"grip0\", _type=Gripper2Tool, point=(0,0,0))"
   ]
  },
  {
   "cell_type": "code",
   "execution_count": null,
   "metadata": {},
   "outputs": [],
   "source": []
  },
  {
   "cell_type": "markdown",
   "metadata": {},
   "source": [
    "## planner"
   ]
  },
  {
   "cell_type": "code",
   "execution_count": 11,
   "metadata": {},
   "outputs": [],
   "source": [
    "from pkg.planning.motion.moveit.moveit_planner import MoveitPlanner\n",
    "from pkg.planning.filtering.grasp_filter import GraspChecker\n",
    "from pkg.planning.filtering.reach_filter import ReachChecker\n",
    "from pkg.planning.filtering.latticized_filter import LatticedChecker\n",
    "\n",
    "\n",
    "gcheck = GraspChecker(pscene)\n",
    "rcheck = ReachChecker(pscene)\n",
    "# lcheck = LatticedChecker(pscene, gcheck)\n",
    "\n",
    "g_checker = MoveitPlanner(pscene, motion_filters = [gcheck])\n",
    "gr_checker = MoveitPlanner(pscene, motion_filters = [gcheck, rcheck])\n",
    "# grl_checker = MoveitPlanner(pscene, motion_filters = [gcheck, rcheck, lcheck])"
   ]
  },
  {
   "cell_type": "code",
   "execution_count": null,
   "metadata": {},
   "outputs": [],
   "source": []
  },
  {
   "cell_type": "markdown",
   "metadata": {},
   "source": [
    "## ui"
   ]
  },
  {
   "cell_type": "code",
   "execution_count": 12,
   "metadata": {},
   "outputs": [
    {
     "name": "stdout",
     "output_type": "stream",
     "text": [
      "Dash is running on http://0.0.0.0:8050/\n",
      "\n",
      " * Serving Flask app \"pkg.ui.dash_launcher\" (lazy loading)\n",
      " * Environment: production\n"
     ]
    }
   ],
   "source": [
    "from pkg.ui.ui_broker import *\n",
    "\n",
    "# start UI\n",
    "ui_broker = UIBroker.instance()\n",
    "ui_broker.initialize(ppline, s_builder)\n",
    "ui_broker.start_server()\n",
    "\n",
    "ui_broker.set_tables()"
   ]
  },
  {
   "cell_type": "code",
   "execution_count": null,
   "metadata": {},
   "outputs": [],
   "source": []
  },
  {
   "cell_type": "markdown",
   "metadata": {},
   "source": [
    "# Object Classes"
   ]
  },
  {
   "cell_type": "code",
   "execution_count": 13,
   "metadata": {},
   "outputs": [
    {
     "name": "stdout",
     "output_type": "stream",
     "text": [
      "   WARNING: This is a development server. Do not use it in a production deployment.\n",
      "   Use a production WSGI server instead.\n",
      " * Debug mode: off\n"
     ]
    }
   ],
   "source": [
    "from pkg.planning.filtering.lattice_model import *\n",
    "from pkg.planning.filtering.lattice_model.scene_building import *\n",
    "        \n",
    "##\n",
    "# @class PlanePan\n",
    "# @brief Obstacles on the workplane\n",
    "class PlanePan(PlaneObject):\n",
    "    def __init__(self, gscene, name, workplane, GRIP_DEPTH, CLEARANCE, XYZ_LOC=None, **kwargs):\n",
    "        self.GRIP_DEPTH = GRIP_DEPTH\n",
    "        self.DIM_MIN = (0.02, GRIP_DEPTH, GRIP_DEPTH)\n",
    "        DIM = np.random.uniform(self.DIM_MIN, self.DIM_MAX)\n",
    "        DIM[2] = GRIP_DEPTH\n",
    "        PlaneObject.__init__(self, gscene=gscene, name=name, workplane=workplane, \n",
    "                             GRIP_DEPTH=GRIP_DEPTH, CLEARANCE=CLEARANCE, DIM=DIM, **kwargs)\n",
    "        self.pan = gscene.create_safe(GEOTYPE.CYLINDER, name+\"_pan\", self.geometry.link_name, \n",
    "                                      dims=(DIM[1], DIM[1], DIM[2]), center=(0,DIM[1],0), rpy=(0,0,0), \n",
    "                                      color=self.geometry.color, display=True, collision=True, fixed=False,\n",
    "                                      parent=self.geometry.name)\n",
    "\n",
    "\n",
    "\n",
    "def add_object(pscene, obj, HANDLE_THICKNESS=1e-6, HANDLE_COLOR = (1,0,0,0.3)):\n",
    "    gscene = pscene.gscene\n",
    "    GRIP_DEPTH = obj.GRIP_DEPTH\n",
    "    handles = []\n",
    "    handles.append(\n",
    "        gscene.create_safe(gtype=GEOTYPE.BOX, name=\"hdl_tp_a\", link_name=\"base_link\", \n",
    "                       dims=(obj.DIM[1], GRIP_DEPTH, HANDLE_THICKNESS), center=(0,0,obj.DIM[2]/2-GRIP_DEPTH/2), rpy=(np.pi/2,0,np.pi/2), \n",
    "                           color=HANDLE_COLOR, display=True, collision=False, fixed=False,\n",
    "                       parent=obj.name)\n",
    "    )\n",
    "\n",
    "    handles.append(\n",
    "        gscene.create_safe(gtype=GEOTYPE.BOX, name=\"hdl_tp_b\", link_name=\"base_link\", \n",
    "                       dims=(obj.DIM[1], GRIP_DEPTH, HANDLE_THICKNESS), center=(0,0,obj.DIM[2]/2-GRIP_DEPTH/2), rpy=(np.pi/2,0,-np.pi/2), \n",
    "                           color=HANDLE_COLOR, display=True, collision=False, fixed=False,\n",
    "                       parent=obj.name)\n",
    "    )\n",
    "\n",
    "    handles.append(\n",
    "        gscene.create_safe(gtype=GEOTYPE.BOX, name=\"hdl_bk_a\", link_name=\"base_link\", \n",
    "                       dims=(obj.DIM[2], GRIP_DEPTH,HANDLE_THICKNESS), center=(0,-obj.DIM[1]/2+GRIP_DEPTH/2,0), rpy=(-np.pi,-np.pi/2,0), \n",
    "                       color=HANDLE_COLOR, display=True, collision=False, fixed=False,\n",
    "                   parent=obj.name)\n",
    "    )\n",
    "\n",
    "    handles.append(\n",
    "        gscene.create_safe(gtype=GEOTYPE.BOX, name=\"hdl_bk_b\", link_name=\"base_link\", \n",
    "                       dims=(obj.DIM[2], GRIP_DEPTH,HANDLE_THICKNESS), center=(0,-obj.DIM[1]/2+GRIP_DEPTH/2,0), rpy=(-np.pi,+np.pi/2,0), \n",
    "                           color=HANDLE_COLOR, display=True, collision=False, fixed=False,\n",
    "                       parent=obj.name)\n",
    "    )\n",
    "\n",
    "    action_points_dict = {\"placement\": PlacePoint(\"placement\", obj.geometry, [0,0,-obj.DIM[2]/2], [0,0,0])}\n",
    "    action_points_dict.update({handle.name: Grasp2Point(handle.name, handle, None, (0,0,0)) for handle in handles})\n",
    "    obj_pscene = pscene.create_subject(oname=obj.name, gname=obj.name, _type=CustomObject, \n",
    "                                 action_points_dict=action_points_dict)\n",
    "    return obj_pscene, handles\n",
    "        \n",
    "Nmax_wall, Nmax_pole, Nmax_bar = 4, 8, 8\n",
    "\n",
    "Nmax_obj = 3\n",
    "\n",
    "N_max_sample = 100\n",
    "N_print = 5\n",
    "N_sample_single_obj = 3"
   ]
  },
  {
   "cell_type": "code",
   "execution_count": null,
   "metadata": {},
   "outputs": [],
   "source": []
  },
  {
   "cell_type": "markdown",
   "metadata": {},
   "source": [
    "# Load and verify"
   ]
  },
  {
   "cell_type": "code",
   "execution_count": 14,
   "metadata": {},
   "outputs": [
    {
     "name": "stdout",
     "output_type": "stream",
     "text": [
      "DATASET_LIST: ['20210611-124100', '20210611-124430', '20210611-124552', '20210611-124837', '20210611-125031', '20210611-125148', '20210611-125352', '20210611-125542', '20210611-125809', '20210611-130118', '20210613-150734']\n"
     ]
    }
   ],
   "source": [
    "N_MAX = 1000\n",
    "\n",
    "\n",
    "gtimer = GlobalTimer.instance()\n",
    "gtimer.reset(stack=True)\n",
    "DATASET_LIST = sorted(os.listdir(ROBOT_DATA_ROOT))\n",
    "N_tot = 0\n",
    "N_suc = 0\n",
    "labels = []\n",
    "g_results = []\n",
    "gr_results = []\n",
    "grl_results = []\n",
    "print(\"DATASET_LIST: {}\".format(DATASET_LIST))\n",
    "gtimer.tic(\"full_loop\")\n",
    "DATASET_LIST = iter(DATASET_LIST)"
   ]
  },
  {
   "cell_type": "code",
   "execution_count": 15,
   "metadata": {},
   "outputs": [
    {
     "name": "stdout",
     "output_type": "stream",
     "text": [
      "DATASET_PATH: /home/rnb/Projects/rnb-planning/data/test-pan/panda/20210611-124100\n",
      "DATA_LIST: ['00001.pkl', '00002.pkl', '00003.pkl', '00004.pkl', '00005.pkl', '00006.pkl', '00007.pkl', '00008.pkl', '00009.pkl', '00010.pkl', '00011.pkl', '00012.pkl', '00013.pkl', '00014.pkl', '00015.pkl', '00016.pkl', '00017.pkl', '00018.pkl', '00019.pkl', '00020.pkl', '00021.pkl']\n"
     ]
    }
   ],
   "source": [
    "DATASET_DIR = next(DATASET_LIST)\n",
    "DATASET_PATH = os.path.join(ROBOT_DATA_ROOT, DATASET_DIR)\n",
    "print(\"DATASET_PATH: {}\".format(DATASET_PATH))\n",
    "DATA_LIST = sorted(os.listdir(DATASET_PATH))\n",
    "print(\"DATA_LIST: {}\".format(DATA_LIST))\n",
    "DATA_LIST = iter(DATA_LIST)"
   ]
  },
  {
   "cell_type": "code",
   "execution_count": 22,
   "metadata": {},
   "outputs": [],
   "source": [
    "DATA_FILE = next(DATA_LIST)"
   ]
  },
  {
   "cell_type": "code",
   "execution_count": 23,
   "metadata": {},
   "outputs": [
    {
     "name": "stdout",
     "output_type": "stream",
     "text": [
      "DATA_PATH: /home/rnb/Projects/rnb-planning/data/test-pan/panda/20210611-124100/00004.pkl\n"
     ]
    },
    {
     "data": {
      "text/plain": [
       "<pkg.planning.constraint.constraint_actor.PlacePlane at 0x7f1185086fd0>"
      ]
     },
     "execution_count": 23,
     "metadata": {},
     "output_type": "execute_result"
    }
   ],
   "source": [
    "\n",
    "DATA_PATH = os.path.join(DATASET_PATH, DATA_FILE)\n",
    "print(\"DATA_PATH: {}\".format(DATA_PATH))\n",
    "data = load_pickle(DATA_PATH)\n",
    "gtem_args = data[\"gtem_args\"]\n",
    "obj_args = data[\"obj_args\"]\n",
    "samples = data[\"samples\"]\n",
    "gtem_remove = []\n",
    "for gtem in gscene:\n",
    "    if gtem.link_name == \"base_link\" and gtem.parent is None:\n",
    "        gtem_remove.append(gtem)\n",
    "for gtem in gtem_remove:\n",
    "    gscene.remove(gtem)\n",
    "\n",
    "gid_list = np.arange(len(gtem_args)).tolist()\n",
    "for gidx in gid_list:\n",
    "    args = gtem_args[gidx]\n",
    "    if args['parent'] is not None:\n",
    "        if args['parent'] not in gscene.NAME_DICT:\n",
    "            gid_list.append(gidx)\n",
    "            continue\n",
    "    gscene.create_safe(**args)\n",
    "\n",
    "pscene.create_binder(bname=\"wp\", gname=\"wp\", _type=PlacePlane, point=None)"
   ]
  },
  {
   "cell_type": "code",
   "execution_count": 14,
   "metadata": {},
   "outputs": [
    {
     "name": "stdout",
     "output_type": "stream",
     "text": [
      "   Use a production WSGI server instead.\n",
      "DATASET_LIST: ['20210611-124100', '20210611-124430', '20210611-124552', '20210611-124837', '20210611-125031', '20210611-125148', '20210611-125352', '20210611-125542', '20210611-125809', '20210611-130118']\n",
      "DATASET_PATH: /home/rnb/Projects/rnb-planning/data/test-pan/panda/20210611-124100\n",
      "DATA_LIST: ['00001.pkl', '00002.pkl', '00003.pkl', '00004.pkl', '00005.pkl', '00006.pkl', '00007.pkl', '00008.pkl', '00009.pkl', '00010.pkl', '00011.pkl', '00012.pkl', '00013.pkl', '00014.pkl', '00015.pkl', '00016.pkl', '00017.pkl', '00018.pkl', '00019.pkl', '00020.pkl', '00021.pkl']\n",
      "DATA_PATH: /home/rnb/Projects/rnb-planning/data/test-pan/panda/20210611-124100/00001.pkl\n",
      " * Debug mode: off\n",
      "GRL: 0 / SUCCESS: 0 / TOTAL: 3 / ELAPSED TIME: 0.0 s / ETA: 6.9 s\n",
      "DATA_PATH: /home/rnb/Projects/rnb-planning/data/test-pan/panda/20210611-124100/00002.pkl\n",
      "GRL: 0 / SUCCESS: 0 / TOTAL: 9 / ELAPSED TIME: 0.1 s / ETA: 6.1 s\n",
      "DATA_PATH: /home/rnb/Projects/rnb-planning/data/test-pan/panda/20210611-124100/00003.pkl\n",
      "GRL: 0 / SUCCESS: 0 / TOTAL: 12 / ELAPSED TIME: 0.1 s / ETA: 5.7 s\n",
      "DATA_PATH: /home/rnb/Projects/rnb-planning/data/test-pan/panda/20210611-124100/00004.pkl\n",
      "GRL: 0 / SUCCESS: 0 / TOTAL: 18 / ELAPSED TIME: 0.1 s / ETA: 5.9 s\n",
      "DATA_PATH: /home/rnb/Projects/rnb-planning/data/test-pan/panda/20210611-124100/00005.pkl\n",
      "GRL: 2 / SUCCESS: 2 / TOTAL: 24 / ELAPSED TIME: 0.3 s / ETA: 12.4 s\n",
      "DATA_PATH: /home/rnb/Projects/rnb-planning/data/test-pan/panda/20210611-124100/00006.pkl\n",
      "GRL: 2 / SUCCESS: 2 / TOTAL: 33 / ELAPSED TIME: 0.4 s / ETA: 13.0 s\n",
      "DATA_PATH: /home/rnb/Projects/rnb-planning/data/test-pan/panda/20210611-124100/00007.pkl\n",
      "GRL: 2 / SUCCESS: 2 / TOTAL: 39 / ELAPSED TIME: 0.5 s / ETA: 12.2 s\n",
      "DATA_PATH: /home/rnb/Projects/rnb-planning/data/test-pan/panda/20210611-124100/00008.pkl\n",
      "GRL: 2 / SUCCESS: 2 / TOTAL: 42 / ELAPSED TIME: 0.5 s / ETA: 11.6 s\n",
      "DATA_PATH: /home/rnb/Projects/rnb-planning/data/test-pan/panda/20210611-124100/00009.pkl\n",
      "GRL: 4 / SUCCESS: 4 / TOTAL: 45 / ELAPSED TIME: 0.6 s / ETA: 13.4 s\n",
      "DATA_PATH: /home/rnb/Projects/rnb-planning/data/test-pan/panda/20210611-124100/00010.pkl\n",
      "GRL: 4 / SUCCESS: 4 / TOTAL: 48 / ELAPSED TIME: 0.6 s / ETA: 13.3 s\n",
      "DATA_PATH: /home/rnb/Projects/rnb-planning/data/test-pan/panda/20210611-124100/00011.pkl\n",
      "GRL: 7 / SUCCESS: 8 / TOTAL: 54 / ELAPSED TIME: 0.9 s / ETA: 16.3 s\n",
      "DATA_PATH: /home/rnb/Projects/rnb-planning/data/test-pan/panda/20210611-124100/00012.pkl\n",
      "GRL: 7 / SUCCESS: 8 / TOTAL: 60 / ELAPSED TIME: 0.9 s / ETA: 15.3 s\n",
      "DATA_PATH: /home/rnb/Projects/rnb-planning/data/test-pan/panda/20210611-124100/00013.pkl\n",
      "GRL: 7 / SUCCESS: 8 / TOTAL: 66 / ELAPSED TIME: 1.0 s / ETA: 15.3 s\n",
      "DATA_PATH: /home/rnb/Projects/rnb-planning/data/test-pan/panda/20210611-124100/00014.pkl\n",
      "GRL: 7 / SUCCESS: 8 / TOTAL: 72 / ELAPSED TIME: 1.0 s / ETA: 14.5 s\n",
      "DATA_PATH: /home/rnb/Projects/rnb-planning/data/test-pan/panda/20210611-124100/00015.pkl\n",
      "GRL: 7 / SUCCESS: 8 / TOTAL: 78 / ELAPSED TIME: 1.1 s / ETA: 13.8 s\n",
      "DATA_PATH: /home/rnb/Projects/rnb-planning/data/test-pan/panda/20210611-124100/00016.pkl\n",
      "GRL: 7 / SUCCESS: 8 / TOTAL: 81 / ELAPSED TIME: 1.1 s / ETA: 14.1 s\n",
      "DATA_PATH: /home/rnb/Projects/rnb-planning/data/test-pan/panda/20210611-124100/00017.pkl\n",
      "GRL: 7 / SUCCESS: 8 / TOTAL: 84 / ELAPSED TIME: 1.2 s / ETA: 13.9 s\n",
      "DATA_PATH: /home/rnb/Projects/rnb-planning/data/test-pan/panda/20210611-124100/00018.pkl\n",
      "GRL: 7 / SUCCESS: 8 / TOTAL: 87 / ELAPSED TIME: 1.2 s / ETA: 13.6 s\n",
      "DATA_PATH: /home/rnb/Projects/rnb-planning/data/test-pan/panda/20210611-124100/00019.pkl\n",
      "GRL: 7 / SUCCESS: 8 / TOTAL: 90 / ELAPSED TIME: 1.2 s / ETA: 13.3 s\n",
      "DATA_PATH: /home/rnb/Projects/rnb-planning/data/test-pan/panda/20210611-124100/00020.pkl\n",
      "GRL: 7 / SUCCESS: 8 / TOTAL: 96 / ELAPSED TIME: 1.2 s / ETA: 12.8 s\n",
      "DATA_PATH: /home/rnb/Projects/rnb-planning/data/test-pan/panda/20210611-124100/00021.pkl\n",
      "GRL: 8 / SUCCESS: 9 / TOTAL: 102 / ELAPSED TIME: 1.3 s / ETA: 12.8 s\n",
      "DATASET_PATH: /home/rnb/Projects/rnb-planning/data/test-pan/panda/20210611-124430\n",
      "DATA_LIST: ['00001.pkl', '00002.pkl', '00003.pkl', '00004.pkl', '00005.pkl', '00006.pkl', '00007.pkl', '00008.pkl', '00009.pkl', '00010.pkl', '00011.pkl', '00012.pkl', '00013.pkl', '00014.pkl', '00015.pkl', '00016.pkl', '00017.pkl', '00018.pkl', '00019.pkl', '00020.pkl']\n",
      "DATA_PATH: /home/rnb/Projects/rnb-planning/data/test-pan/panda/20210611-124430/00001.pkl\n",
      "GRL: 9 / SUCCESS: 10 / TOTAL: 108 / ELAPSED TIME: 1.4 s / ETA: 12.8 s\n",
      "DATA_PATH: /home/rnb/Projects/rnb-planning/data/test-pan/panda/20210611-124430/00002.pkl\n",
      "GRL: 9 / SUCCESS: 11 / TOTAL: 117 / ELAPSED TIME: 1.5 s / ETA: 13.1 s\n",
      "DATA_PATH: /home/rnb/Projects/rnb-planning/data/test-pan/panda/20210611-124430/00003.pkl\n",
      "GRL: 9 / SUCCESS: 11 / TOTAL: 126 / ELAPSED TIME: 1.6 s / ETA: 12.5 s\n",
      "DATA_PATH: /home/rnb/Projects/rnb-planning/data/test-pan/panda/20210611-124430/00004.pkl\n",
      "GRL: 9 / SUCCESS: 11 / TOTAL: 135 / ELAPSED TIME: 1.7 s / ETA: 12.3 s\n",
      "DATA_PATH: /home/rnb/Projects/rnb-planning/data/test-pan/panda/20210611-124430/00005.pkl\n",
      "GRL: 9 / SUCCESS: 11 / TOTAL: 141 / ELAPSED TIME: 1.7 s / ETA: 12.0 s\n",
      "DATA_PATH: /home/rnb/Projects/rnb-planning/data/test-pan/panda/20210611-124430/00006.pkl\n",
      "GRL: 10 / SUCCESS: 12 / TOTAL: 144 / ELAPSED TIME: 1.8 s / ETA: 12.3 s\n",
      "DATA_PATH: /home/rnb/Projects/rnb-planning/data/test-pan/panda/20210611-124430/00007.pkl\n",
      "GRL: 10 / SUCCESS: 12 / TOTAL: 147 / ELAPSED TIME: 1.8 s / ETA: 12.1 s\n",
      "DATA_PATH: /home/rnb/Projects/rnb-planning/data/test-pan/panda/20210611-124430/00008.pkl\n",
      "GRL: 11 / SUCCESS: 13 / TOTAL: 150 / ELAPSED TIME: 1.8 s / ETA: 12.3 s\n",
      "DATA_PATH: /home/rnb/Projects/rnb-planning/data/test-pan/panda/20210611-124430/00009.pkl\n",
      "GRL: 11 / SUCCESS: 13 / TOTAL: 153 / ELAPSED TIME: 1.9 s / ETA: 12.2 s\n",
      "DATA_PATH: /home/rnb/Projects/rnb-planning/data/test-pan/panda/20210611-124430/00010.pkl\n",
      "GRL: 11 / SUCCESS: 13 / TOTAL: 159 / ELAPSED TIME: 1.9 s / ETA: 11.9 s\n",
      "DATA_PATH: /home/rnb/Projects/rnb-planning/data/test-pan/panda/20210611-124430/00011.pkl\n",
      "GRL: 11 / SUCCESS: 13 / TOTAL: 165 / ELAPSED TIME: 1.9 s / ETA: 11.7 s\n",
      "DATA_PATH: /home/rnb/Projects/rnb-planning/data/test-pan/panda/20210611-124430/00012.pkl\n",
      "GRL: 12 / SUCCESS: 14 / TOTAL: 171 / ELAPSED TIME: 2.0 s / ETA: 11.7 s\n",
      "DATA_PATH: /home/rnb/Projects/rnb-planning/data/test-pan/panda/20210611-124430/00013.pkl\n",
      "GRL: 12 / SUCCESS: 14 / TOTAL: 174 / ELAPSED TIME: 2.0 s / ETA: 11.7 s\n",
      "DATA_PATH: /home/rnb/Projects/rnb-planning/data/test-pan/panda/20210611-124430/00014.pkl\n",
      "GRL: 12 / SUCCESS: 14 / TOTAL: 183 / ELAPSED TIME: 2.1 s / ETA: 11.4 s\n",
      "DATA_PATH: /home/rnb/Projects/rnb-planning/data/test-pan/panda/20210611-124430/00015.pkl\n",
      "GRL: 12 / SUCCESS: 14 / TOTAL: 186 / ELAPSED TIME: 2.1 s / ETA: 11.3 s\n",
      "DATA_PATH: /home/rnb/Projects/rnb-planning/data/test-pan/panda/20210611-124430/00016.pkl\n",
      "GRL: 12 / SUCCESS: 14 / TOTAL: 189 / ELAPSED TIME: 2.1 s / ETA: 11.2 s\n",
      "DATA_PATH: /home/rnb/Projects/rnb-planning/data/test-pan/panda/20210611-124430/00017.pkl\n",
      "GRL: 12 / SUCCESS: 14 / TOTAL: 192 / ELAPSED TIME: 2.1 s / ETA: 11.1 s\n",
      "DATA_PATH: /home/rnb/Projects/rnb-planning/data/test-pan/panda/20210611-124430/00018.pkl\n",
      "GRL: 12 / SUCCESS: 14 / TOTAL: 198 / ELAPSED TIME: 2.2 s / ETA: 10.9 s\n",
      "DATA_PATH: /home/rnb/Projects/rnb-planning/data/test-pan/panda/20210611-124430/00019.pkl\n",
      "GRL: 12 / SUCCESS: 14 / TOTAL: 201 / ELAPSED TIME: 2.2 s / ETA: 10.9 s\n",
      "DATA_PATH: /home/rnb/Projects/rnb-planning/data/test-pan/panda/20210611-124430/00020.pkl\n",
      "GRL: 13 / SUCCESS: 15 / TOTAL: 204 / ELAPSED TIME: 2.2 s / ETA: 11.0 s\n",
      "DATASET_PATH: /home/rnb/Projects/rnb-planning/data/test-pan/panda/20210611-124552\n",
      "DATA_LIST: ['00001.pkl', '00002.pkl', '00003.pkl', '00004.pkl', '00005.pkl', '00006.pkl', '00007.pkl', '00008.pkl', '00009.pkl', '00010.pkl', '00011.pkl', '00012.pkl', '00013.pkl', '00014.pkl', '00015.pkl', '00016.pkl', '00017.pkl', '00018.pkl', '00019.pkl', '00020.pkl', '00021.pkl']\n",
      "DATA_PATH: /home/rnb/Projects/rnb-planning/data/test-pan/panda/20210611-124552/00001.pkl\n",
      "GRL: 13 / SUCCESS: 15 / TOTAL: 207 / ELAPSED TIME: 2.3 s / ETA: 11.0 s\n",
      "DATA_PATH: /home/rnb/Projects/rnb-planning/data/test-pan/panda/20210611-124552/00002.pkl\n",
      "GRL: 16 / SUCCESS: 18 / TOTAL: 216 / ELAPSED TIME: 2.5 s / ETA: 11.4 s\n",
      "DATA_PATH: /home/rnb/Projects/rnb-planning/data/test-pan/panda/20210611-124552/00003.pkl\n",
      "GRL: 16 / SUCCESS: 18 / TOTAL: 219 / ELAPSED TIME: 2.5 s / ETA: 11.3 s\n",
      "DATA_PATH: /home/rnb/Projects/rnb-planning/data/test-pan/panda/20210611-124552/00004.pkl\n",
      "GRL: 16 / SUCCESS: 18 / TOTAL: 222 / ELAPSED TIME: 2.5 s / ETA: 11.2 s\n",
      "DATA_PATH: /home/rnb/Projects/rnb-planning/data/test-pan/panda/20210611-124552/00005.pkl\n",
      "GRL: 16 / SUCCESS: 18 / TOTAL: 228 / ELAPSED TIME: 2.5 s / ETA: 11.1 s\n",
      "DATA_PATH: /home/rnb/Projects/rnb-planning/data/test-pan/panda/20210611-124552/00006.pkl\n",
      "GRL: 16 / SUCCESS: 18 / TOTAL: 231 / ELAPSED TIME: 2.5 s / ETA: 11.0 s\n",
      "DATA_PATH: /home/rnb/Projects/rnb-planning/data/test-pan/panda/20210611-124552/00007.pkl\n",
      "GRL: 16 / SUCCESS: 18 / TOTAL: 237 / ELAPSED TIME: 2.6 s / ETA: 10.8 s\n",
      "DATA_PATH: /home/rnb/Projects/rnb-planning/data/test-pan/panda/20210611-124552/00008.pkl\n",
      "GRL: 16 / SUCCESS: 18 / TOTAL: 243 / ELAPSED TIME: 2.6 s / ETA: 10.7 s\n",
      "DATA_PATH: /home/rnb/Projects/rnb-planning/data/test-pan/panda/20210611-124552/00009.pkl\n",
      "GRL: 16 / SUCCESS: 18 / TOTAL: 252 / ELAPSED TIME: 2.6 s / ETA: 10.5 s\n",
      "DATA_PATH: /home/rnb/Projects/rnb-planning/data/test-pan/panda/20210611-124552/00010.pkl\n"
     ]
    },
    {
     "name": "stdout",
     "output_type": "stream",
     "text": [
      "GRL: 20 / SUCCESS: 21 / TOTAL: 258 / ELAPSED TIME: 2.9 s / ETA: 11.3 s\n",
      "DATA_PATH: /home/rnb/Projects/rnb-planning/data/test-pan/panda/20210611-124552/00011.pkl\n",
      "GRL: 20 / SUCCESS: 21 / TOTAL: 261 / ELAPSED TIME: 2.9 s / ETA: 11.3 s\n",
      "DATA_PATH: /home/rnb/Projects/rnb-planning/data/test-pan/panda/20210611-124552/00012.pkl\n",
      "GRL: 20 / SUCCESS: 21 / TOTAL: 264 / ELAPSED TIME: 3.0 s / ETA: 11.2 s\n",
      "DATA_PATH: /home/rnb/Projects/rnb-planning/data/test-pan/panda/20210611-124552/00013.pkl\n",
      "GRL: 20 / SUCCESS: 21 / TOTAL: 270 / ELAPSED TIME: 3.0 s / ETA: 11.1 s\n",
      "DATA_PATH: /home/rnb/Projects/rnb-planning/data/test-pan/panda/20210611-124552/00014.pkl\n",
      "GRL: 20 / SUCCESS: 21 / TOTAL: 273 / ELAPSED TIME: 3.0 s / ETA: 11.0 s\n",
      "DATA_PATH: /home/rnb/Projects/rnb-planning/data/test-pan/panda/20210611-124552/00015.pkl\n",
      "GRL: 20 / SUCCESS: 21 / TOTAL: 276 / ELAPSED TIME: 3.0 s / ETA: 11.0 s\n",
      "DATA_PATH: /home/rnb/Projects/rnb-planning/data/test-pan/panda/20210611-124552/00016.pkl\n",
      "GRL: 20 / SUCCESS: 21 / TOTAL: 279 / ELAPSED TIME: 3.0 s / ETA: 10.9 s\n",
      "DATA_PATH: /home/rnb/Projects/rnb-planning/data/test-pan/panda/20210611-124552/00017.pkl\n",
      "GRL: 20 / SUCCESS: 21 / TOTAL: 282 / ELAPSED TIME: 3.1 s / ETA: 10.8 s\n",
      "DATA_PATH: /home/rnb/Projects/rnb-planning/data/test-pan/panda/20210611-124552/00018.pkl\n",
      "GRL: 20 / SUCCESS: 21 / TOTAL: 285 / ELAPSED TIME: 3.1 s / ETA: 10.8 s\n",
      "DATA_PATH: /home/rnb/Projects/rnb-planning/data/test-pan/panda/20210611-124552/00019.pkl\n",
      "GRL: 20 / SUCCESS: 21 / TOTAL: 291 / ELAPSED TIME: 3.2 s / ETA: 10.9 s\n",
      "DATA_PATH: /home/rnb/Projects/rnb-planning/data/test-pan/panda/20210611-124552/00020.pkl\n",
      "GRL: 20 / SUCCESS: 21 / TOTAL: 300 / ELAPSED TIME: 3.2 s / ETA: 10.7 s\n",
      "DATA_PATH: /home/rnb/Projects/rnb-planning/data/test-pan/panda/20210611-124552/00021.pkl\n",
      "GRL: 20 / SUCCESS: 21 / TOTAL: 306 / ELAPSED TIME: 3.2 s / ETA: 10.6 s\n",
      "DATASET_PATH: /home/rnb/Projects/rnb-planning/data/test-pan/panda/20210611-124837\n",
      "DATA_LIST: ['00001.pkl', '00002.pkl', '00003.pkl', '00004.pkl', '00005.pkl', '00006.pkl', '00007.pkl', '00008.pkl', '00009.pkl', '00010.pkl', '00011.pkl', '00012.pkl', '00013.pkl', '00014.pkl', '00015.pkl', '00016.pkl', '00017.pkl', '00018.pkl', '00019.pkl']\n",
      "DATA_PATH: /home/rnb/Projects/rnb-planning/data/test-pan/panda/20210611-124837/00001.pkl\n",
      "GRL: 20 / SUCCESS: 21 / TOTAL: 312 / ELAPSED TIME: 3.3 s / ETA: 10.5 s\n",
      "DATA_PATH: /home/rnb/Projects/rnb-planning/data/test-pan/panda/20210611-124837/00002.pkl\n",
      "GRL: 23 / SUCCESS: 24 / TOTAL: 318 / ELAPSED TIME: 3.4 s / ETA: 10.8 s\n",
      "DATA_PATH: /home/rnb/Projects/rnb-planning/data/test-pan/panda/20210611-124837/00003.pkl\n",
      "GRL: 23 / SUCCESS: 24 / TOTAL: 321 / ELAPSED TIME: 3.5 s / ETA: 10.8 s\n",
      "DATA_PATH: /home/rnb/Projects/rnb-planning/data/test-pan/panda/20210611-124837/00004.pkl\n",
      "GRL: 25 / SUCCESS: 26 / TOTAL: 327 / ELAPSED TIME: 3.6 s / ETA: 10.9 s\n",
      "DATA_PATH: /home/rnb/Projects/rnb-planning/data/test-pan/panda/20210611-124837/00005.pkl\n",
      "GRL: 25 / SUCCESS: 26 / TOTAL: 333 / ELAPSED TIME: 3.6 s / ETA: 11.0 s\n",
      "DATA_PATH: /home/rnb/Projects/rnb-planning/data/test-pan/panda/20210611-124837/00006.pkl\n",
      "GRL: 25 / SUCCESS: 26 / TOTAL: 339 / ELAPSED TIME: 3.7 s / ETA: 10.9 s\n",
      "DATA_PATH: /home/rnb/Projects/rnb-planning/data/test-pan/panda/20210611-124837/00007.pkl\n",
      "GRL: 25 / SUCCESS: 26 / TOTAL: 345 / ELAPSED TIME: 3.7 s / ETA: 10.8 s\n",
      "DATA_PATH: /home/rnb/Projects/rnb-planning/data/test-pan/panda/20210611-124837/00008.pkl\n",
      "GRL: 25 / SUCCESS: 26 / TOTAL: 348 / ELAPSED TIME: 3.7 s / ETA: 10.7 s\n",
      "DATA_PATH: /home/rnb/Projects/rnb-planning/data/test-pan/panda/20210611-124837/00009.pkl\n",
      "GRL: 27 / SUCCESS: 28 / TOTAL: 357 / ELAPSED TIME: 3.9 s / ETA: 10.9 s\n",
      "DATA_PATH: /home/rnb/Projects/rnb-planning/data/test-pan/panda/20210611-124837/00010.pkl\n",
      "GRL: 27 / SUCCESS: 28 / TOTAL: 360 / ELAPSED TIME: 3.9 s / ETA: 10.9 s\n",
      "DATA_PATH: /home/rnb/Projects/rnb-planning/data/test-pan/panda/20210611-124837/00011.pkl\n",
      "GRL: 27 / SUCCESS: 28 / TOTAL: 363 / ELAPSED TIME: 3.9 s / ETA: 10.8 s\n",
      "DATA_PATH: /home/rnb/Projects/rnb-planning/data/test-pan/panda/20210611-124837/00012.pkl\n",
      "GRL: 27 / SUCCESS: 28 / TOTAL: 369 / ELAPSED TIME: 4.0 s / ETA: 10.7 s\n",
      "DATA_PATH: /home/rnb/Projects/rnb-planning/data/test-pan/panda/20210611-124837/00013.pkl\n",
      "GRL: 27 / SUCCESS: 28 / TOTAL: 372 / ELAPSED TIME: 4.0 s / ETA: 10.7 s\n",
      "DATA_PATH: /home/rnb/Projects/rnb-planning/data/test-pan/panda/20210611-124837/00014.pkl\n",
      "GRL: 27 / SUCCESS: 28 / TOTAL: 378 / ELAPSED TIME: 4.0 s / ETA: 10.6 s\n",
      "DATA_PATH: /home/rnb/Projects/rnb-planning/data/test-pan/panda/20210611-124837/00015.pkl\n",
      "GRL: 27 / SUCCESS: 28 / TOTAL: 384 / ELAPSED TIME: 4.0 s / ETA: 10.5 s\n",
      "DATA_PATH: /home/rnb/Projects/rnb-planning/data/test-pan/panda/20210611-124837/00016.pkl\n",
      "GRL: 29 / SUCCESS: 30 / TOTAL: 390 / ELAPSED TIME: 4.1 s / ETA: 10.6 s\n",
      "DATA_PATH: /home/rnb/Projects/rnb-planning/data/test-pan/panda/20210611-124837/00017.pkl\n",
      "GRL: 31 / SUCCESS: 32 / TOTAL: 396 / ELAPSED TIME: 4.3 s / ETA: 10.9 s\n",
      "DATA_PATH: /home/rnb/Projects/rnb-planning/data/test-pan/panda/20210611-124837/00018.pkl\n",
      "GRL: 31 / SUCCESS: 32 / TOTAL: 402 / ELAPSED TIME: 4.3 s / ETA: 10.8 s\n",
      "DATA_PATH: /home/rnb/Projects/rnb-planning/data/test-pan/panda/20210611-124837/00019.pkl\n",
      "GRL: 31 / SUCCESS: 32 / TOTAL: 408 / ELAPSED TIME: 4.4 s / ETA: 10.7 s\n",
      "DATASET_PATH: /home/rnb/Projects/rnb-planning/data/test-pan/panda/20210611-125031\n",
      "DATA_LIST: ['00001.pkl', '00002.pkl', '00003.pkl', '00004.pkl', '00005.pkl', '00006.pkl', '00007.pkl', '00008.pkl', '00009.pkl', '00010.pkl', '00011.pkl', '00012.pkl', '00013.pkl', '00014.pkl', '00015.pkl', '00016.pkl', '00017.pkl', '00018.pkl', '00019.pkl', '00020.pkl', '00021.pkl']\n",
      "DATA_PATH: /home/rnb/Projects/rnb-planning/data/test-pan/panda/20210611-125031/00001.pkl\n",
      "GRL: 32 / SUCCESS: 33 / TOTAL: 411 / ELAPSED TIME: 4.4 s / ETA: 10.8 s\n",
      "DATA_PATH: /home/rnb/Projects/rnb-planning/data/test-pan/panda/20210611-125031/00002.pkl\n",
      "GRL: 32 / SUCCESS: 33 / TOTAL: 414 / ELAPSED TIME: 4.5 s / ETA: 10.8 s\n",
      "DATA_PATH: /home/rnb/Projects/rnb-planning/data/test-pan/panda/20210611-125031/00003.pkl\n",
      "GRL: 36 / SUCCESS: 37 / TOTAL: 420 / ELAPSED TIME: 4.7 s / ETA: 11.2 s\n",
      "DATA_PATH: /home/rnb/Projects/rnb-planning/data/test-pan/panda/20210611-125031/00004.pkl\n",
      "GRL: 37 / SUCCESS: 38 / TOTAL: 426 / ELAPSED TIME: 4.9 s / ETA: 11.4 s\n",
      "DATA_PATH: /home/rnb/Projects/rnb-planning/data/test-pan/panda/20210611-125031/00005.pkl\n",
      "GRL: 37 / SUCCESS: 38 / TOTAL: 432 / ELAPSED TIME: 4.9 s / ETA: 11.3 s\n",
      "DATA_PATH: /home/rnb/Projects/rnb-planning/data/test-pan/panda/20210611-125031/00006.pkl\n",
      "GRL: 37 / SUCCESS: 38 / TOTAL: 435 / ELAPSED TIME: 4.9 s / ETA: 11.3 s\n",
      "DATA_PATH: /home/rnb/Projects/rnb-planning/data/test-pan/panda/20210611-125031/00007.pkl\n",
      "GRL: 37 / SUCCESS: 38 / TOTAL: 444 / ELAPSED TIME: 5.0 s / ETA: 11.2 s\n",
      "DATA_PATH: /home/rnb/Projects/rnb-planning/data/test-pan/panda/20210611-125031/00008.pkl\n",
      "GRL: 37 / SUCCESS: 38 / TOTAL: 450 / ELAPSED TIME: 5.0 s / ETA: 11.1 s\n",
      "DATA_PATH: /home/rnb/Projects/rnb-planning/data/test-pan/panda/20210611-125031/00009.pkl\n",
      "GRL: 37 / SUCCESS: 38 / TOTAL: 453 / ELAPSED TIME: 5.0 s / ETA: 11.1 s\n",
      "DATA_PATH: /home/rnb/Projects/rnb-planning/data/test-pan/panda/20210611-125031/00010.pkl\n",
      "GRL: 37 / SUCCESS: 38 / TOTAL: 456 / ELAPSED TIME: 5.0 s / ETA: 11.0 s\n",
      "DATA_PATH: /home/rnb/Projects/rnb-planning/data/test-pan/panda/20210611-125031/00011.pkl\n",
      "GRL: 37 / SUCCESS: 38 / TOTAL: 465 / ELAPSED TIME: 5.1 s / ETA: 10.9 s\n",
      "DATA_PATH: /home/rnb/Projects/rnb-planning/data/test-pan/panda/20210611-125031/00012.pkl\n",
      "GRL: 39 / SUCCESS: 39 / TOTAL: 471 / ELAPSED TIME: 5.2 s / ETA: 11.1 s\n",
      "DATA_PATH: /home/rnb/Projects/rnb-planning/data/test-pan/panda/20210611-125031/00013.pkl\n",
      "GRL: 40 / SUCCESS: 40 / TOTAL: 477 / ELAPSED TIME: 5.3 s / ETA: 11.1 s\n",
      "DATA_PATH: /home/rnb/Projects/rnb-planning/data/test-pan/panda/20210611-125031/00014.pkl\n",
      "GRL: 42 / SUCCESS: 42 / TOTAL: 480 / ELAPSED TIME: 5.4 s / ETA: 11.3 s\n",
      "DATA_PATH: /home/rnb/Projects/rnb-planning/data/test-pan/panda/20210611-125031/00015.pkl\n",
      "GRL: 42 / SUCCESS: 42 / TOTAL: 483 / ELAPSED TIME: 5.4 s / ETA: 11.2 s\n",
      "DATA_PATH: /home/rnb/Projects/rnb-planning/data/test-pan/panda/20210611-125031/00016.pkl\n",
      "GRL: 42 / SUCCESS: 42 / TOTAL: 486 / ELAPSED TIME: 5.4 s / ETA: 11.2 s\n",
      "DATA_PATH: /home/rnb/Projects/rnb-planning/data/test-pan/panda/20210611-125031/00017.pkl\n",
      "GRL: 42 / SUCCESS: 42 / TOTAL: 492 / ELAPSED TIME: 5.5 s / ETA: 11.1 s\n",
      "DATA_PATH: /home/rnb/Projects/rnb-planning/data/test-pan/panda/20210611-125031/00018.pkl\n",
      "GRL: 42 / SUCCESS: 42 / TOTAL: 495 / ELAPSED TIME: 5.5 s / ETA: 11.1 s\n",
      "DATA_PATH: /home/rnb/Projects/rnb-planning/data/test-pan/panda/20210611-125031/00019.pkl\n",
      "GRL: 44 / SUCCESS: 44 / TOTAL: 501 / ELAPSED TIME: 5.6 s / ETA: 11.2 s\n",
      "DATA_PATH: /home/rnb/Projects/rnb-planning/data/test-pan/panda/20210611-125031/00020.pkl\n"
     ]
    },
    {
     "name": "stdout",
     "output_type": "stream",
     "text": [
      "GRL: 47 / SUCCESS: 47 / TOTAL: 507 / ELAPSED TIME: 5.8 s / ETA: 11.5 s\n",
      "DATA_PATH: /home/rnb/Projects/rnb-planning/data/test-pan/panda/20210611-125031/00021.pkl\n",
      "GRL: 48 / SUCCESS: 48 / TOTAL: 513 / ELAPSED TIME: 5.9 s / ETA: 11.5 s\n",
      "DATASET_PATH: /home/rnb/Projects/rnb-planning/data/test-pan/panda/20210611-125148\n",
      "DATA_LIST: ['00001.pkl', '00002.pkl', '00003.pkl', '00004.pkl', '00005.pkl', '00006.pkl', '00007.pkl', '00008.pkl', '00009.pkl', '00010.pkl', '00011.pkl', '00012.pkl', '00013.pkl', '00014.pkl', '00015.pkl', '00016.pkl', '00017.pkl', '00018.pkl', '00019.pkl', '00020.pkl', '00021.pkl', '00022.pkl', '00023.pkl']\n",
      "DATA_PATH: /home/rnb/Projects/rnb-planning/data/test-pan/panda/20210611-125148/00001.pkl\n",
      "GRL: 48 / SUCCESS: 48 / TOTAL: 519 / ELAPSED TIME: 5.9 s / ETA: 11.5 s\n",
      "DATA_PATH: /home/rnb/Projects/rnb-planning/data/test-pan/panda/20210611-125148/00002.pkl\n",
      "GRL: 49 / SUCCESS: 49 / TOTAL: 522 / ELAPSED TIME: 6.0 s / ETA: 11.5 s\n",
      "DATA_PATH: /home/rnb/Projects/rnb-planning/data/test-pan/panda/20210611-125148/00003.pkl\n",
      "GRL: 49 / SUCCESS: 49 / TOTAL: 525 / ELAPSED TIME: 6.0 s / ETA: 11.5 s\n",
      "DATA_PATH: /home/rnb/Projects/rnb-planning/data/test-pan/panda/20210611-125148/00004.pkl\n",
      "GRL: 49 / SUCCESS: 49 / TOTAL: 531 / ELAPSED TIME: 6.1 s / ETA: 11.4 s\n",
      "DATA_PATH: /home/rnb/Projects/rnb-planning/data/test-pan/panda/20210611-125148/00005.pkl\n",
      "GRL: 50 / SUCCESS: 50 / TOTAL: 534 / ELAPSED TIME: 6.1 s / ETA: 11.5 s\n",
      "DATA_PATH: /home/rnb/Projects/rnb-planning/data/test-pan/panda/20210611-125148/00006.pkl\n",
      "GRL: 50 / SUCCESS: 50 / TOTAL: 537 / ELAPSED TIME: 6.1 s / ETA: 11.4 s\n",
      "DATA_PATH: /home/rnb/Projects/rnb-planning/data/test-pan/panda/20210611-125148/00007.pkl\n",
      "GRL: 50 / SUCCESS: 50 / TOTAL: 546 / ELAPSED TIME: 6.2 s / ETA: 11.3 s\n",
      "DATA_PATH: /home/rnb/Projects/rnb-planning/data/test-pan/panda/20210611-125148/00008.pkl\n",
      "GRL: 50 / SUCCESS: 50 / TOTAL: 552 / ELAPSED TIME: 6.2 s / ETA: 11.3 s\n",
      "DATA_PATH: /home/rnb/Projects/rnb-planning/data/test-pan/panda/20210611-125148/00009.pkl\n",
      "GRL: 50 / SUCCESS: 50 / TOTAL: 555 / ELAPSED TIME: 6.2 s / ETA: 11.2 s\n",
      "DATA_PATH: /home/rnb/Projects/rnb-planning/data/test-pan/panda/20210611-125148/00010.pkl\n",
      "GRL: 50 / SUCCESS: 50 / TOTAL: 558 / ELAPSED TIME: 6.3 s / ETA: 11.2 s\n",
      "DATA_PATH: /home/rnb/Projects/rnb-planning/data/test-pan/panda/20210611-125148/00011.pkl\n",
      "GRL: 50 / SUCCESS: 50 / TOTAL: 561 / ELAPSED TIME: 6.3 s / ETA: 11.2 s\n",
      "DATA_PATH: /home/rnb/Projects/rnb-planning/data/test-pan/panda/20210611-125148/00012.pkl\n",
      "GRL: 50 / SUCCESS: 50 / TOTAL: 564 / ELAPSED TIME: 6.3 s / ETA: 11.1 s\n",
      "DATA_PATH: /home/rnb/Projects/rnb-planning/data/test-pan/panda/20210611-125148/00013.pkl\n",
      "GRL: 51 / SUCCESS: 51 / TOTAL: 567 / ELAPSED TIME: 6.3 s / ETA: 11.2 s\n",
      "DATA_PATH: /home/rnb/Projects/rnb-planning/data/test-pan/panda/20210611-125148/00014.pkl\n",
      "GRL: 51 / SUCCESS: 51 / TOTAL: 570 / ELAPSED TIME: 6.4 s / ETA: 11.2 s\n",
      "DATA_PATH: /home/rnb/Projects/rnb-planning/data/test-pan/panda/20210611-125148/00015.pkl\n",
      "GRL: 52 / SUCCESS: 52 / TOTAL: 576 / ELAPSED TIME: 6.4 s / ETA: 11.2 s\n",
      "DATA_PATH: /home/rnb/Projects/rnb-planning/data/test-pan/panda/20210611-125148/00016.pkl\n",
      "GRL: 52 / SUCCESS: 52 / TOTAL: 582 / ELAPSED TIME: 6.5 s / ETA: 11.1 s\n",
      "DATA_PATH: /home/rnb/Projects/rnb-planning/data/test-pan/panda/20210611-125148/00017.pkl\n",
      "GRL: 52 / SUCCESS: 52 / TOTAL: 588 / ELAPSED TIME: 6.5 s / ETA: 11.1 s\n",
      "DATA_PATH: /home/rnb/Projects/rnb-planning/data/test-pan/panda/20210611-125148/00018.pkl\n",
      "GRL: 53 / SUCCESS: 53 / TOTAL: 591 / ELAPSED TIME: 6.6 s / ETA: 11.1 s\n",
      "DATA_PATH: /home/rnb/Projects/rnb-planning/data/test-pan/panda/20210611-125148/00019.pkl\n",
      "GRL: 53 / SUCCESS: 53 / TOTAL: 597 / ELAPSED TIME: 6.6 s / ETA: 11.1 s\n",
      "DATA_PATH: /home/rnb/Projects/rnb-planning/data/test-pan/panda/20210611-125148/00020.pkl\n",
      "GRL: 53 / SUCCESS: 53 / TOTAL: 606 / ELAPSED TIME: 6.7 s / ETA: 11.0 s\n",
      "DATA_PATH: /home/rnb/Projects/rnb-planning/data/test-pan/panda/20210611-125148/00021.pkl\n",
      "GRL: 53 / SUCCESS: 53 / TOTAL: 609 / ELAPSED TIME: 6.7 s / ETA: 11.1 s\n",
      "DATA_PATH: /home/rnb/Projects/rnb-planning/data/test-pan/panda/20210611-125148/00022.pkl\n",
      "GRL: 53 / SUCCESS: 53 / TOTAL: 612 / ELAPSED TIME: 6.8 s / ETA: 11.0 s\n",
      "DATA_PATH: /home/rnb/Projects/rnb-planning/data/test-pan/panda/20210611-125148/00023.pkl\n",
      "GRL: 54 / SUCCESS: 54 / TOTAL: 615 / ELAPSED TIME: 6.8 s / ETA: 11.1 s\n",
      "DATASET_PATH: /home/rnb/Projects/rnb-planning/data/test-pan/panda/20210611-125352\n",
      "DATA_LIST: ['00001.pkl', '00002.pkl', '00003.pkl', '00004.pkl', '00005.pkl', '00006.pkl', '00007.pkl', '00008.pkl', '00009.pkl', '00010.pkl', '00011.pkl', '00012.pkl', '00013.pkl', '00014.pkl', '00015.pkl', '00016.pkl', '00017.pkl', '00018.pkl']\n",
      "DATA_PATH: /home/rnb/Projects/rnb-planning/data/test-pan/panda/20210611-125352/00001.pkl\n",
      "GRL: 54 / SUCCESS: 54 / TOTAL: 618 / ELAPSED TIME: 6.9 s / ETA: 11.1 s\n",
      "DATA_PATH: /home/rnb/Projects/rnb-planning/data/test-pan/panda/20210611-125352/00002.pkl\n",
      "GRL: 54 / SUCCESS: 54 / TOTAL: 627 / ELAPSED TIME: 6.9 s / ETA: 11.0 s\n",
      "DATA_PATH: /home/rnb/Projects/rnb-planning/data/test-pan/panda/20210611-125352/00003.pkl\n",
      "GRL: 54 / SUCCESS: 54 / TOTAL: 630 / ELAPSED TIME: 6.9 s / ETA: 11.0 s\n",
      "DATA_PATH: /home/rnb/Projects/rnb-planning/data/test-pan/panda/20210611-125352/00004.pkl\n",
      "GRL: 55 / SUCCESS: 54 / TOTAL: 636 / ELAPSED TIME: 7.0 s / ETA: 11.0 s\n",
      "DATA_PATH: /home/rnb/Projects/rnb-planning/data/test-pan/panda/20210611-125352/00005.pkl\n",
      "GRL: 55 / SUCCESS: 54 / TOTAL: 645 / ELAPSED TIME: 7.1 s / ETA: 11.0 s\n",
      "DATA_PATH: /home/rnb/Projects/rnb-planning/data/test-pan/panda/20210611-125352/00006.pkl\n",
      "GRL: 55 / SUCCESS: 54 / TOTAL: 654 / ELAPSED TIME: 7.1 s / ETA: 10.9 s\n",
      "DATA_PATH: /home/rnb/Projects/rnb-planning/data/test-pan/panda/20210611-125352/00007.pkl\n",
      "GRL: 57 / SUCCESS: 56 / TOTAL: 660 / ELAPSED TIME: 7.2 s / ETA: 11.0 s\n",
      "DATA_PATH: /home/rnb/Projects/rnb-planning/data/test-pan/panda/20210611-125352/00008.pkl\n",
      "GRL: 57 / SUCCESS: 56 / TOTAL: 666 / ELAPSED TIME: 7.3 s / ETA: 10.9 s\n",
      "DATA_PATH: /home/rnb/Projects/rnb-planning/data/test-pan/panda/20210611-125352/00009.pkl\n",
      "GRL: 57 / SUCCESS: 56 / TOTAL: 669 / ELAPSED TIME: 7.3 s / ETA: 10.9 s\n",
      "DATA_PATH: /home/rnb/Projects/rnb-planning/data/test-pan/panda/20210611-125352/00010.pkl\n",
      "GRL: 57 / SUCCESS: 56 / TOTAL: 672 / ELAPSED TIME: 7.3 s / ETA: 10.9 s\n",
      "DATA_PATH: /home/rnb/Projects/rnb-planning/data/test-pan/panda/20210611-125352/00011.pkl\n",
      "GRL: 58 / SUCCESS: 56 / TOTAL: 681 / ELAPSED TIME: 7.4 s / ETA: 10.9 s\n",
      "DATA_PATH: /home/rnb/Projects/rnb-planning/data/test-pan/panda/20210611-125352/00012.pkl\n",
      "GRL: 58 / SUCCESS: 56 / TOTAL: 684 / ELAPSED TIME: 7.4 s / ETA: 10.9 s\n",
      "DATA_PATH: /home/rnb/Projects/rnb-planning/data/test-pan/panda/20210611-125352/00013.pkl\n",
      "GRL: 58 / SUCCESS: 56 / TOTAL: 687 / ELAPSED TIME: 7.4 s / ETA: 10.8 s\n",
      "DATA_PATH: /home/rnb/Projects/rnb-planning/data/test-pan/panda/20210611-125352/00014.pkl\n",
      "GRL: 60 / SUCCESS: 58 / TOTAL: 690 / ELAPSED TIME: 7.6 s / ETA: 11.0 s\n",
      "DATA_PATH: /home/rnb/Projects/rnb-planning/data/test-pan/panda/20210611-125352/00015.pkl\n",
      "GRL: 62 / SUCCESS: 60 / TOTAL: 696 / ELAPSED TIME: 7.7 s / ETA: 11.1 s\n",
      "DATA_PATH: /home/rnb/Projects/rnb-planning/data/test-pan/panda/20210611-125352/00016.pkl\n",
      "GRL: 62 / SUCCESS: 60 / TOTAL: 705 / ELAPSED TIME: 7.7 s / ETA: 11.0 s\n",
      "DATA_PATH: /home/rnb/Projects/rnb-planning/data/test-pan/panda/20210611-125352/00017.pkl\n",
      "GRL: 62 / SUCCESS: 60 / TOTAL: 711 / ELAPSED TIME: 7.8 s / ETA: 10.9 s\n",
      "DATA_PATH: /home/rnb/Projects/rnb-planning/data/test-pan/panda/20210611-125352/00018.pkl\n",
      "GRL: 62 / SUCCESS: 60 / TOTAL: 720 / ELAPSED TIME: 7.8 s / ETA: 10.9 s\n",
      "DATASET_PATH: /home/rnb/Projects/rnb-planning/data/test-pan/panda/20210611-125542\n",
      "DATA_LIST: ['00001.pkl', '00002.pkl', '00003.pkl', '00004.pkl', '00005.pkl', '00006.pkl', '00007.pkl', '00008.pkl', '00009.pkl', '00010.pkl', '00011.pkl', '00012.pkl', '00013.pkl', '00014.pkl', '00015.pkl', '00016.pkl', '00017.pkl', '00018.pkl', '00019.pkl', '00020.pkl', '00021.pkl']\n",
      "DATA_PATH: /home/rnb/Projects/rnb-planning/data/test-pan/panda/20210611-125542/00001.pkl\n",
      "GRL: 62 / SUCCESS: 60 / TOTAL: 723 / ELAPSED TIME: 7.8 s / ETA: 10.9 s\n",
      "DATA_PATH: /home/rnb/Projects/rnb-planning/data/test-pan/panda/20210611-125542/00002.pkl\n",
      "GRL: 62 / SUCCESS: 60 / TOTAL: 726 / ELAPSED TIME: 7.9 s / ETA: 10.8 s\n",
      "DATA_PATH: /home/rnb/Projects/rnb-planning/data/test-pan/panda/20210611-125542/00003.pkl\n",
      "GRL: 62 / SUCCESS: 60 / TOTAL: 729 / ELAPSED TIME: 7.9 s / ETA: 10.8 s\n",
      "DATA_PATH: /home/rnb/Projects/rnb-planning/data/test-pan/panda/20210611-125542/00004.pkl\n",
      "GRL: 62 / SUCCESS: 60 / TOTAL: 735 / ELAPSED TIME: 7.9 s / ETA: 10.8 s\n",
      "DATA_PATH: /home/rnb/Projects/rnb-planning/data/test-pan/panda/20210611-125542/00005.pkl\n",
      "GRL: 62 / SUCCESS: 60 / TOTAL: 741 / ELAPSED TIME: 7.9 s / ETA: 10.7 s\n",
      "DATA_PATH: /home/rnb/Projects/rnb-planning/data/test-pan/panda/20210611-125542/00006.pkl\n"
     ]
    },
    {
     "name": "stdout",
     "output_type": "stream",
     "text": [
      "GRL: 63 / SUCCESS: 61 / TOTAL: 750 / ELAPSED TIME: 8.0 s / ETA: 10.7 s\n",
      "DATA_PATH: /home/rnb/Projects/rnb-planning/data/test-pan/panda/20210611-125542/00007.pkl\n",
      "GRL: 63 / SUCCESS: 61 / TOTAL: 753 / ELAPSED TIME: 8.1 s / ETA: 10.7 s\n",
      "DATA_PATH: /home/rnb/Projects/rnb-planning/data/test-pan/panda/20210611-125542/00008.pkl\n",
      "GRL: 63 / SUCCESS: 61 / TOTAL: 756 / ELAPSED TIME: 8.1 s / ETA: 10.7 s\n",
      "DATA_PATH: /home/rnb/Projects/rnb-planning/data/test-pan/panda/20210611-125542/00009.pkl\n",
      "GRL: 63 / SUCCESS: 61 / TOTAL: 762 / ELAPSED TIME: 8.1 s / ETA: 10.7 s\n",
      "DATA_PATH: /home/rnb/Projects/rnb-planning/data/test-pan/panda/20210611-125542/00010.pkl\n",
      "GRL: 63 / SUCCESS: 61 / TOTAL: 771 / ELAPSED TIME: 8.2 s / ETA: 10.6 s\n",
      "DATA_PATH: /home/rnb/Projects/rnb-planning/data/test-pan/panda/20210611-125542/00011.pkl\n",
      "GRL: 65 / SUCCESS: 61 / TOTAL: 777 / ELAPSED TIME: 8.3 s / ETA: 10.7 s\n",
      "DATA_PATH: /home/rnb/Projects/rnb-planning/data/test-pan/panda/20210611-125542/00012.pkl\n",
      "GRL: 67 / SUCCESS: 63 / TOTAL: 780 / ELAPSED TIME: 8.4 s / ETA: 10.8 s\n",
      "DATA_PATH: /home/rnb/Projects/rnb-planning/data/test-pan/panda/20210611-125542/00013.pkl\n",
      "GRL: 67 / SUCCESS: 63 / TOTAL: 783 / ELAPSED TIME: 8.5 s / ETA: 10.8 s\n",
      "DATA_PATH: /home/rnb/Projects/rnb-planning/data/test-pan/panda/20210611-125542/00014.pkl\n",
      "GRL: 67 / SUCCESS: 63 / TOTAL: 786 / ELAPSED TIME: 8.5 s / ETA: 10.8 s\n",
      "DATA_PATH: /home/rnb/Projects/rnb-planning/data/test-pan/panda/20210611-125542/00015.pkl\n",
      "GRL: 67 / SUCCESS: 63 / TOTAL: 792 / ELAPSED TIME: 8.6 s / ETA: 10.8 s\n",
      "DATA_PATH: /home/rnb/Projects/rnb-planning/data/test-pan/panda/20210611-125542/00016.pkl\n",
      "GRL: 67 / SUCCESS: 63 / TOTAL: 795 / ELAPSED TIME: 8.6 s / ETA: 10.8 s\n",
      "DATA_PATH: /home/rnb/Projects/rnb-planning/data/test-pan/panda/20210611-125542/00017.pkl\n",
      "GRL: 68 / SUCCESS: 64 / TOTAL: 801 / ELAPSED TIME: 8.6 s / ETA: 10.8 s\n",
      "DATA_PATH: /home/rnb/Projects/rnb-planning/data/test-pan/panda/20210611-125542/00018.pkl\n",
      "GRL: 68 / SUCCESS: 64 / TOTAL: 807 / ELAPSED TIME: 8.7 s / ETA: 10.8 s\n",
      "DATA_PATH: /home/rnb/Projects/rnb-planning/data/test-pan/panda/20210611-125542/00019.pkl\n",
      "GRL: 68 / SUCCESS: 64 / TOTAL: 813 / ELAPSED TIME: 8.7 s / ETA: 10.7 s\n",
      "DATA_PATH: /home/rnb/Projects/rnb-planning/data/test-pan/panda/20210611-125542/00020.pkl\n",
      "GRL: 69 / SUCCESS: 65 / TOTAL: 819 / ELAPSED TIME: 8.8 s / ETA: 10.8 s\n",
      "DATA_PATH: /home/rnb/Projects/rnb-planning/data/test-pan/panda/20210611-125542/00021.pkl\n",
      "GRL: 70 / SUCCESS: 66 / TOTAL: 828 / ELAPSED TIME: 8.9 s / ETA: 10.8 s\n",
      "DATASET_PATH: /home/rnb/Projects/rnb-planning/data/test-pan/panda/20210611-125809\n",
      "DATA_LIST: ['00001.pkl', '00002.pkl', '00003.pkl', '00004.pkl', '00005.pkl', '00006.pkl', '00007.pkl', '00008.pkl', '00009.pkl', '00010.pkl', '00011.pkl', '00012.pkl', '00013.pkl', '00014.pkl', '00015.pkl', '00016.pkl', '00017.pkl', '00018.pkl', '00019.pkl', '00020.pkl', '00021.pkl', '00022.pkl']\n",
      "DATA_PATH: /home/rnb/Projects/rnb-planning/data/test-pan/panda/20210611-125809/00001.pkl\n",
      "GRL: 70 / SUCCESS: 66 / TOTAL: 834 / ELAPSED TIME: 9.0 s / ETA: 10.7 s\n",
      "DATA_PATH: /home/rnb/Projects/rnb-planning/data/test-pan/panda/20210611-125809/00002.pkl\n",
      "GRL: 70 / SUCCESS: 66 / TOTAL: 837 / ELAPSED TIME: 9.0 s / ETA: 10.7 s\n",
      "DATA_PATH: /home/rnb/Projects/rnb-planning/data/test-pan/panda/20210611-125809/00003.pkl\n",
      "GRL: 70 / SUCCESS: 66 / TOTAL: 840 / ELAPSED TIME: 9.0 s / ETA: 10.7 s\n",
      "DATA_PATH: /home/rnb/Projects/rnb-planning/data/test-pan/panda/20210611-125809/00004.pkl\n",
      "GRL: 70 / SUCCESS: 66 / TOTAL: 846 / ELAPSED TIME: 9.1 s / ETA: 10.7 s\n",
      "DATA_PATH: /home/rnb/Projects/rnb-planning/data/test-pan/panda/20210611-125809/00005.pkl\n",
      "GRL: 71 / SUCCESS: 67 / TOTAL: 849 / ELAPSED TIME: 9.1 s / ETA: 10.7 s\n",
      "DATA_PATH: /home/rnb/Projects/rnb-planning/data/test-pan/panda/20210611-125809/00006.pkl\n",
      "GRL: 71 / SUCCESS: 67 / TOTAL: 852 / ELAPSED TIME: 9.2 s / ETA: 10.7 s\n",
      "DATA_PATH: /home/rnb/Projects/rnb-planning/data/test-pan/panda/20210611-125809/00007.pkl\n",
      "GRL: 71 / SUCCESS: 67 / TOTAL: 855 / ELAPSED TIME: 9.2 s / ETA: 10.8 s\n",
      "DATA_PATH: /home/rnb/Projects/rnb-planning/data/test-pan/panda/20210611-125809/00008.pkl\n",
      "GRL: 72 / SUCCESS: 67 / TOTAL: 858 / ELAPSED TIME: 9.3 s / ETA: 10.8 s\n",
      "DATA_PATH: /home/rnb/Projects/rnb-planning/data/test-pan/panda/20210611-125809/00009.pkl\n",
      "GRL: 72 / SUCCESS: 67 / TOTAL: 861 / ELAPSED TIME: 9.3 s / ETA: 10.8 s\n",
      "DATA_PATH: /home/rnb/Projects/rnb-planning/data/test-pan/panda/20210611-125809/00010.pkl\n",
      "GRL: 73 / SUCCESS: 67 / TOTAL: 864 / ELAPSED TIME: 9.4 s / ETA: 10.9 s\n",
      "DATA_PATH: /home/rnb/Projects/rnb-planning/data/test-pan/panda/20210611-125809/00011.pkl\n",
      "GRL: 73 / SUCCESS: 67 / TOTAL: 870 / ELAPSED TIME: 9.4 s / ETA: 10.8 s\n",
      "DATA_PATH: /home/rnb/Projects/rnb-planning/data/test-pan/panda/20210611-125809/00012.pkl\n",
      "GRL: 74 / SUCCESS: 68 / TOTAL: 879 / ELAPSED TIME: 9.6 s / ETA: 10.9 s\n",
      "DATA_PATH: /home/rnb/Projects/rnb-planning/data/test-pan/panda/20210611-125809/00013.pkl\n",
      "GRL: 74 / SUCCESS: 68 / TOTAL: 885 / ELAPSED TIME: 9.6 s / ETA: 10.8 s\n",
      "DATA_PATH: /home/rnb/Projects/rnb-planning/data/test-pan/panda/20210611-125809/00014.pkl\n",
      "GRL: 74 / SUCCESS: 68 / TOTAL: 891 / ELAPSED TIME: 9.6 s / ETA: 10.8 s\n",
      "DATA_PATH: /home/rnb/Projects/rnb-planning/data/test-pan/panda/20210611-125809/00015.pkl\n",
      "GRL: 75 / SUCCESS: 69 / TOTAL: 894 / ELAPSED TIME: 9.7 s / ETA: 10.8 s\n",
      "DATA_PATH: /home/rnb/Projects/rnb-planning/data/test-pan/panda/20210611-125809/00016.pkl\n",
      "GRL: 75 / SUCCESS: 69 / TOTAL: 900 / ELAPSED TIME: 9.7 s / ETA: 10.8 s\n",
      "DATA_PATH: /home/rnb/Projects/rnb-planning/data/test-pan/panda/20210611-125809/00017.pkl\n",
      "GRL: 75 / SUCCESS: 69 / TOTAL: 903 / ELAPSED TIME: 9.8 s / ETA: 10.8 s\n",
      "DATA_PATH: /home/rnb/Projects/rnb-planning/data/test-pan/panda/20210611-125809/00018.pkl\n",
      "GRL: 75 / SUCCESS: 69 / TOTAL: 906 / ELAPSED TIME: 9.8 s / ETA: 10.8 s\n",
      "DATA_PATH: /home/rnb/Projects/rnb-planning/data/test-pan/panda/20210611-125809/00019.pkl\n",
      "GRL: 75 / SUCCESS: 69 / TOTAL: 909 / ELAPSED TIME: 9.8 s / ETA: 10.8 s\n",
      "DATA_PATH: /home/rnb/Projects/rnb-planning/data/test-pan/panda/20210611-125809/00020.pkl\n",
      "GRL: 75 / SUCCESS: 69 / TOTAL: 915 / ELAPSED TIME: 9.8 s / ETA: 10.8 s\n",
      "DATA_PATH: /home/rnb/Projects/rnb-planning/data/test-pan/panda/20210611-125809/00021.pkl\n",
      "GRL: 77 / SUCCESS: 70 / TOTAL: 924 / ELAPSED TIME: 10.0 s / ETA: 10.8 s\n",
      "DATA_PATH: /home/rnb/Projects/rnb-planning/data/test-pan/panda/20210611-125809/00022.pkl\n",
      "GRL: 77 / SUCCESS: 70 / TOTAL: 933 / ELAPSED TIME: 10.0 s / ETA: 10.8 s\n",
      "DATASET_PATH: /home/rnb/Projects/rnb-planning/data/test-pan/panda/20210611-130118\n",
      "DATA_LIST: ['00001.pkl', '00002.pkl', '00003.pkl', '00004.pkl', '00005.pkl', '00006.pkl', '00007.pkl', '00008.pkl', '00009.pkl', '00010.pkl', '00011.pkl', '00012.pkl', '00013.pkl', '00014.pkl', '00015.pkl', '00016.pkl', '00017.pkl', '00018.pkl', '00019.pkl', '00020.pkl', '00021.pkl']\n",
      "DATA_PATH: /home/rnb/Projects/rnb-planning/data/test-pan/panda/20210611-130118/00001.pkl\n",
      "GRL: 78 / SUCCESS: 71 / TOTAL: 939 / ELAPSED TIME: 10.1 s / ETA: 10.8 s\n",
      "DATA_PATH: /home/rnb/Projects/rnb-planning/data/test-pan/panda/20210611-130118/00002.pkl\n",
      "GRL: 78 / SUCCESS: 71 / TOTAL: 945 / ELAPSED TIME: 10.1 s / ETA: 10.7 s\n",
      "DATA_PATH: /home/rnb/Projects/rnb-planning/data/test-pan/panda/20210611-130118/00003.pkl\n",
      "GRL: 78 / SUCCESS: 71 / TOTAL: 954 / ELAPSED TIME: 10.2 s / ETA: 10.7 s\n",
      "DATA_PATH: /home/rnb/Projects/rnb-planning/data/test-pan/panda/20210611-130118/00004.pkl\n",
      "GRL: 80 / SUCCESS: 73 / TOTAL: 963 / ELAPSED TIME: 10.4 s / ETA: 10.8 s\n",
      "DATA_PATH: /home/rnb/Projects/rnb-planning/data/test-pan/panda/20210611-130118/00005.pkl\n",
      "GRL: 80 / SUCCESS: 73 / TOTAL: 966 / ELAPSED TIME: 10.4 s / ETA: 10.8 s\n",
      "DATA_PATH: /home/rnb/Projects/rnb-planning/data/test-pan/panda/20210611-130118/00006.pkl\n",
      "GRL: 80 / SUCCESS: 73 / TOTAL: 969 / ELAPSED TIME: 10.4 s / ETA: 10.7 s\n",
      "DATA_PATH: /home/rnb/Projects/rnb-planning/data/test-pan/panda/20210611-130118/00007.pkl\n",
      "GRL: 81 / SUCCESS: 74 / TOTAL: 975 / ELAPSED TIME: 10.5 s / ETA: 10.8 s\n",
      "DATA_PATH: /home/rnb/Projects/rnb-planning/data/test-pan/panda/20210611-130118/00008.pkl\n",
      "GRL: 82 / SUCCESS: 75 / TOTAL: 981 / ELAPSED TIME: 10.6 s / ETA: 10.8 s\n",
      "DATA_PATH: /home/rnb/Projects/rnb-planning/data/test-pan/panda/20210611-130118/00009.pkl\n",
      "GRL: 82 / SUCCESS: 75 / TOTAL: 984 / ELAPSED TIME: 10.6 s / ETA: 10.8 s\n",
      "DATA_PATH: /home/rnb/Projects/rnb-planning/data/test-pan/panda/20210611-130118/00010.pkl\n",
      "GRL: 82 / SUCCESS: 75 / TOTAL: 987 / ELAPSED TIME: 10.6 s / ETA: 10.8 s\n",
      "DATA_PATH: /home/rnb/Projects/rnb-planning/data/test-pan/panda/20210611-130118/00011.pkl\n",
      "GRL: 83 / SUCCESS: 76 / TOTAL: 993 / ELAPSED TIME: 10.7 s / ETA: 10.8 s\n",
      "DATA_PATH: /home/rnb/Projects/rnb-planning/data/test-pan/panda/20210611-130118/00012.pkl\n",
      "GRL: 83 / SUCCESS: 76 / TOTAL: 999 / ELAPSED TIME: 10.7 s / ETA: 10.7 s\n",
      "DATA_PATH: /home/rnb/Projects/rnb-planning/data/test-pan/panda/20210611-130118/00013.pkl\n",
      "GRL: 83 / SUCCESS: 76 / TOTAL: 1000 / ELAPSED TIME: 10.7 s / ETA: 10.7 s\n"
     ]
    }
   ],
   "source": [
    "\n",
    "            \n",
    "        for i_s, sample in enumerate(samples):\n",
    "            obj_name, from_state, to_state, redundancy_dict, \\\n",
    "                success_kin_, success_reach_, success_retrieve_, \\\n",
    "                Traj_kin_, Traj_reach_, Traj_retrieve_, \\\n",
    "                time_kin_, time_reach_, time_retrieve_ = sample\n",
    "            \n",
    "            obj, obj_arg = DummyObject(), obj_args[obj_name]\n",
    "            obj.name = obj_name\n",
    "            obj.GRIP_DEPTH = obj_arg[\"GRIP_DEPTH\"]\n",
    "            obj.DIM = obj_arg[\"DIM\"]\n",
    "            obj.geometry = gscene.NAME_DICT[obj_arg[\"gname\"]]\n",
    "            obj_pscene, handles = add_object(pscene, obj)\n",
    "            \n",
    "            gscene.update()\n",
    "#             g_checker.update_gscene(only_self_collision=True)\n",
    "#             gr_checker.update_gscene(only_self_collision=True)\n",
    "#             grl_checker.update_gscene(only_self_collision=True)\n",
    "                            \n",
    "            pscene.set_object_state(from_state)\n",
    "\n",
    "            with gtimer.block(\"Grasp\"):\n",
    "                success_g = \\\n",
    "                    g_checker.plan_transition(from_state=from_state, to_state=to_state, redundancy_dict=redundancy_dict, \n",
    "                                               test_filters_only=True, timeout=TIMEOUT_SELF)\n",
    "\n",
    "            with gtimer.block(\"GraspReach\"):\n",
    "                success_gr = \\\n",
    "                    gr_checker.plan_transition(from_state=from_state, to_state=to_state, redundancy_dict=redundancy_dict, \n",
    "                                               test_filters_only=True, timeout=TIMEOUT_SELF)\n",
    "\n",
    "            with gtimer.block(\"GRL\"):\n",
    "                success_grl = \\\n",
    "                    grl_checker.plan_transition(from_state=from_state, to_state=to_state, redundancy_dict=redundancy_dict, \n",
    "                                               test_filters_only=True, timeout=TIMEOUT_SELF)\n",
    "\n",
    "            labels.append(success_retrieve_)\n",
    "            g_results.append(success_g)\n",
    "            gr_results.append(success_gr)\n",
    "            grl_results.append(success_grl)\n",
    "                \n",
    "            pscene.set_object_state(from_state)\n",
    "            pscene.remove_subject(obj_pscene.oname)\n",
    "            for handle in handles:\n",
    "                gscene.remove(handle)  \n",
    "            gscene.update_markers_all()  \n",
    "            N_tot += 1\n",
    "            N_suc += success_retrieve_\n",
    "            if N_tot>=N_MAX:\n",
    "                break\n",
    "        print(\"GRL: {} / SUCCESS: {} / TOTAL: {} / ELAPSED TIME: {} s / ETA: {} s\".format(\n",
    "            np.sum(grl_results), N_suc, N_tot, *np.round(np.array(gtimer.eta(\"full_loop\", N_tot, N_MAX))/1000, 1)))\n",
    "        if N_tot>=N_MAX:\n",
    "            break\n",
    "    if N_tot>=N_MAX:\n",
    "        break"
   ]
  },
  {
   "cell_type": "code",
   "execution_count": 15,
   "metadata": {},
   "outputs": [
    {
     "name": "stdout",
     "output_type": "stream",
     "text": [
      "full_loop: \t1091538.5 ms/199 = 5485.1 ms (20.723/10741.166)\n",
      "Grasp: \t1721.1 ms/1000 = 1.7 ms (0.79/5.412)\n",
      "GraspReach: \t1846.7 ms/1000 = 1.8 ms (0.859/6.152)\n",
      "GRL: \t5609.6 ms/1000 = 5.6 ms (0.848/77.978)\n",
      "\n",
      "\n",
      "=========== GraspChecker ==============\n",
      "\t PP \t \t PN \t \t 1000\n",
      "GP \t 76 \t \t 0 \t \t 100.00%\n",
      "GN \t 304 \t \t 620 \t 67.10%\n",
      "AL \t 20.00% \t 100.00% \t 69.60%\n",
      "\n",
      "=========== GraspReacher ==============\n",
      "\t PP \t \t PN \t \t 1000\n",
      "GP \t 76 \t \t 0 \t \t 100.00%\n",
      "GN \t 17 \t \t 907 \t 98.16%\n",
      "AL \t 81.72% \t 100.00% \t 98.30%\n",
      "\n",
      "=========== TotalChecker ==============\n",
      "\t PP \t \t PN \t \t 1000\n",
      "GP \t 74 \t \t 2 \t \t 97.37%\n",
      "GN \t 9 \t \t 915 \t 99.03%\n",
      "AL \t 89.16% \t 99.78% \t 98.90%\n"
     ]
    }
   ],
   "source": [
    "print(gtimer)\n",
    "print(\"\")\n",
    "print(\"=========== GraspChecker ==============\")\n",
    "print_confusion_mat(GT=labels, Res=g_results)\n",
    "print(\"\")\n",
    "print(\"=========== GraspReacher ==============\")\n",
    "print_confusion_mat(GT=labels, Res=gr_results)\n",
    "print(\"\")\n",
    "print(\"=========== TotalChecker ==============\")\n",
    "print_confusion_mat(GT=labels, Res=grl_results)"
   ]
  },
  {
   "cell_type": "code",
   "execution_count": null,
   "metadata": {},
   "outputs": [],
   "source": []
  },
  {
   "cell_type": "markdown",
   "metadata": {},
   "source": [
    "# Panda\n",
    "```\n",
    "=========== GraspChecker ==============\n",
    "\t PP \t \t PN \t \t 1000\n",
    "GP \t 76 \t \t 0 \t \t 100.00%\n",
    "GN \t 304 \t \t 620 \t 67.10%\n",
    "AL \t 20.00% \t 100.00% \t 69.60%\n",
    "\n",
    "=========== GraspReacher ==============\n",
    "\t PP \t \t PN \t \t 1000\n",
    "GP \t 76 \t \t 0 \t \t 100.00%\n",
    "GN \t 17 \t \t 907 \t 98.16%\n",
    "AL \t 81.72% \t 100.00% \t 98.30%\n",
    "\n",
    "=========== TotalChecker ==============\n",
    "\t PP \t \t PN \t \t 1000\n",
    "GP \t 74 \t \t 2 \t \t 97.37%\n",
    "GN \t 9 \t \t 915 \t 99.03%\n",
    "AL \t 89.16% \t 99.78% \t 98.90%\n",
    "```"
   ]
  },
  {
   "cell_type": "code",
   "execution_count": null,
   "metadata": {},
   "outputs": [],
   "source": []
  }
 ],
 "metadata": {
  "kernelspec": {
   "display_name": "Python 2",
   "language": "python",
   "name": "python2"
  },
  "language_info": {
   "codemirror_mode": {
    "name": "ipython",
    "version": 2
   },
   "file_extension": ".py",
   "mimetype": "text/x-python",
   "name": "python",
   "nbconvert_exporter": "python",
   "pygments_lexer": "ipython2",
   "version": "2.7.17"
  }
 },
 "nbformat": 4,
 "nbformat_minor": 2
}
