{
 "cells": [
  {
   "cell_type": "markdown",
   "metadata": {},
   "source": [
    "## 수정사항\n",
    "#### 2021.06.04\n",
    "* Gripper 자유도 45도로 제한됨에 따라 파지점 방향 수정, 바닥 파지면은 삭제"
   ]
  },
  {
   "cell_type": "markdown",
   "metadata": {},
   "source": [
    "## set running directory"
   ]
  },
  {
   "cell_type": "code",
   "execution_count": 1,
   "metadata": {},
   "outputs": [],
   "source": [
    "from __future__ import print_function\n",
    "import os\n",
    "os.chdir(os.path.join(os.environ[\"RNB_PLANNING_DIR\"], 'src'))"
   ]
  },
  {
   "cell_type": "code",
   "execution_count": 2,
   "metadata": {},
   "outputs": [],
   "source": [
    "from pkg.controller.combined_robot import *\n",
    "from pkg.utils.utils import get_now, try_mkdir\n",
    "\n",
    "\n",
    "DATA_PATH = os.path.join(os.environ['RNB_PLANNING_DIR'], \"data\")\n",
    "try_mkdir(DATA_PATH)\n",
    "\n",
    "TEST_DATA_PATH = os.path.join(DATA_PATH, \"test-hoof\")\n",
    "try_mkdir(TEST_DATA_PATH)"
   ]
  },
  {
   "cell_type": "code",
   "execution_count": null,
   "metadata": {},
   "outputs": [],
   "source": []
  },
  {
   "cell_type": "code",
   "execution_count": 3,
   "metadata": {},
   "outputs": [],
   "source": [
    "VISUALIZE = True\n",
    "TIMEOUT_REACH = 30\n",
    "TIMEOUT_RETRIEVE = 30\n",
    "TIMEOUT_SELF = 3\n",
    "TOOL_RPY = (-np.pi/2,0,0)\n",
    "SHOW_PERIOD = 0.01\n",
    "\n",
    "ROBOT_TYPE = RobotType.panda\n",
    "\n",
    "if ROBOT_TYPE == RobotType.indy7:\n",
    "    ROBOT_NAME = \"indy0\"\n",
    "    TOOL_LINK = \"indy0_tcp\"\n",
    "    TOOL_XYZ = (0,0,0.14)\n",
    "    GRIP_DEPTH = 0.05\n",
    "    HOME_POSE = (0,0,0,0,0,0)\n",
    "elif ROBOT_TYPE == RobotType.panda:\n",
    "    ROBOT_NAME = \"panda0\"\n",
    "    TOOL_LINK = \"panda0_hand\"\n",
    "    TOOL_XYZ = (0,0,0.112)\n",
    "    GRIP_DEPTH = 0.03\n",
    "    HOME_POSE = (0,-0.3,0,-0.5,0,2.5,0)\n",
    "else:\n",
    "    raise(NotImplementedError(\"Unknown robot type\"))\n",
    "    \n",
    "    \n",
    "ROBOT_DATA_ROOT = os.path.join(TEST_DATA_PATH, ROBOT_TYPE.name)\n",
    "try_mkdir(ROBOT_DATA_ROOT)"
   ]
  },
  {
   "cell_type": "code",
   "execution_count": null,
   "metadata": {},
   "outputs": [],
   "source": []
  },
  {
   "cell_type": "markdown",
   "metadata": {},
   "source": [
    "## init combined robot config"
   ]
  },
  {
   "cell_type": "code",
   "execution_count": 4,
   "metadata": {},
   "outputs": [
    {
     "name": "stdout",
     "output_type": "stream",
     "text": [
      "connection command:\n",
      "panda0: False\n"
     ]
    }
   ],
   "source": [
    "\n",
    "from pkg.project_config import *\n",
    "\n",
    "crob = CombinedRobot(robots_on_scene=[\n",
    "    RobotConfig(0, ROBOT_TYPE, None,\n",
    "                INDY_IP)]\n",
    "              , connection_list=[False])\n",
    "\n",
    "from pkg.geometry.builder.scene_builder import SceneBuilder\n",
    "s_builder = SceneBuilder(None)\n",
    "# # deprecated: s_builder.reset_reference_coord(ref_name=\"floor\")"
   ]
  },
  {
   "cell_type": "code",
   "execution_count": null,
   "metadata": {},
   "outputs": [],
   "source": []
  },
  {
   "cell_type": "markdown",
   "metadata": {},
   "source": [
    "## get ghnd with detected robot config"
   ]
  },
  {
   "cell_type": "code",
   "execution_count": 5,
   "metadata": {
    "scrolled": true
   },
   "outputs": [
    {
     "name": "stdout",
     "output_type": "stream",
     "text": [
      "Unable to register with master node [http://localhost:11311]: master may not be running yet. Will keep trying.\n",
      "Please create a subscriber to the marker\n",
      "publication OK\n",
      "published: [0, 0, 0, 0, 0, 0, 0]\n"
     ]
    }
   ],
   "source": [
    "# xyz_rpy_robots = s_builder.detect_items(level_mask=[DetectionLevel.ROBOT])\n",
    "xyz_rpy_robots = {ROBOT_NAME: ((0,0,0), (0,0,0))}\n",
    "crob.update_robot_pos_dict(xyz_rpy_robots=xyz_rpy_robots)\n",
    "gscene = s_builder.create_gscene(crob, start_rviz=VISUALIZE)\n",
    "HOME_DICT = list2dict(HOME_POSE, gscene.joint_names)\n"
   ]
  },
  {
   "cell_type": "code",
   "execution_count": 6,
   "metadata": {},
   "outputs": [],
   "source": [
    "from pkg.utils.joint_utils import get_tf\n",
    "shoulder_link = gscene.urdf_content.joint_map[gscene.joint_names[1]].child\n",
    "shoulder_height = get_tf(shoulder_link, HOME_DICT, gscene.urdf_content)[2,3]"
   ]
  },
  {
   "cell_type": "code",
   "execution_count": null,
   "metadata": {},
   "outputs": [],
   "source": []
  },
  {
   "cell_type": "markdown",
   "metadata": {},
   "source": [
    "## add environment"
   ]
  },
  {
   "cell_type": "code",
   "execution_count": 7,
   "metadata": {},
   "outputs": [
    {
     "name": "stdout",
     "output_type": "stream",
     "text": [
      "Please create a subscriber to the marker\n"
     ]
    }
   ],
   "source": [
    "from pkg.geometry.geometry import *\n",
    "gtems_robot = s_builder.add_robot_geometries(color=(0,1,0,0.5), display=True, collision=True)"
   ]
  },
  {
   "cell_type": "code",
   "execution_count": null,
   "metadata": {},
   "outputs": [],
   "source": []
  },
  {
   "cell_type": "markdown",
   "metadata": {},
   "source": [
    "## init planning scene"
   ]
  },
  {
   "cell_type": "code",
   "execution_count": 8,
   "metadata": {},
   "outputs": [],
   "source": [
    "from pkg.planning.scene import PlanningScene\n",
    "pscene = PlanningScene(gscene, combined_robot=crob)\n",
    "\n",
    "from pkg.planning.pipeline import PlanningPipeline\n",
    "ppline = PlanningPipeline(pscene)"
   ]
  },
  {
   "cell_type": "code",
   "execution_count": null,
   "metadata": {},
   "outputs": [],
   "source": []
  },
  {
   "cell_type": "markdown",
   "metadata": {},
   "source": [
    "## Register binders"
   ]
  },
  {
   "cell_type": "code",
   "execution_count": 9,
   "metadata": {},
   "outputs": [],
   "source": [
    "from pkg.planning.constraint.constraint_actor import Gripper2Tool, PlacePlane, SweepTool"
   ]
  },
  {
   "cell_type": "code",
   "execution_count": 10,
   "metadata": {},
   "outputs": [],
   "source": [
    "gscene.create_safe(gtype=GEOTYPE.SPHERE, name=\"grip0\", link_name=TOOL_LINK, \n",
    "                 dims=(0.01,)*3, center=TOOL_XYZ, rpy=TOOL_RPY, color=(1,0,0,1), display=True, collision=False, fixed=True)\n",
    "gripper = pscene.create_binder(bname=\"grip0\", gname=\"grip0\", _type=Gripper2Tool, point=(0,0,0))"
   ]
  },
  {
   "cell_type": "code",
   "execution_count": null,
   "metadata": {},
   "outputs": [],
   "source": []
  },
  {
   "cell_type": "markdown",
   "metadata": {},
   "source": [
    "## planner"
   ]
  },
  {
   "cell_type": "code",
   "execution_count": 11,
   "metadata": {},
   "outputs": [],
   "source": [
    "from pkg.planning.motion.moveit.moveit_planner import MoveitPlanner\n",
    "from pkg.planning.filtering.grasp_filter import GraspChecker\n",
    "from pkg.planning.filtering.reach_filter import ReachChecker\n",
    "from pkg.planning.filtering.latticized_filter import LatticedChecker\n",
    "\n",
    "\n",
    "gcheck = GraspChecker(pscene)\n",
    "rcheck = ReachChecker(pscene)\n",
    "# lcheck = LatticedChecker(pscene, gcheck)\n",
    "\n",
    "g_checker = MoveitPlanner(pscene, motion_filters = [gcheck])\n",
    "gr_checker = MoveitPlanner(pscene, motion_filters = [gcheck, rcheck])\n",
    "# grl_checker = MoveitPlanner(pscene, motion_filters = [gcheck, rcheck, lcheck])"
   ]
  },
  {
   "cell_type": "code",
   "execution_count": null,
   "metadata": {},
   "outputs": [],
   "source": []
  },
  {
   "cell_type": "markdown",
   "metadata": {},
   "source": [
    "## ui"
   ]
  },
  {
   "cell_type": "code",
   "execution_count": 12,
   "metadata": {},
   "outputs": [
    {
     "name": "stdout",
     "output_type": "stream",
     "text": [
      "Dash is running on http://0.0.0.0:8050/\n",
      "\n",
      " * Serving Flask app \"pkg.ui.dash_launcher\" (lazy loading)\n",
      " * Environment: production\n"
     ]
    }
   ],
   "source": [
    "from pkg.ui.ui_broker import *\n",
    "\n",
    "# start UI\n",
    "ui_broker = UIBroker.instance()\n",
    "ui_broker.initialize(ppline, s_builder)\n",
    "ui_broker.start_server()\n",
    "\n",
    "ui_broker.set_tables()"
   ]
  },
  {
   "cell_type": "code",
   "execution_count": null,
   "metadata": {},
   "outputs": [],
   "source": []
  },
  {
   "cell_type": "markdown",
   "metadata": {},
   "source": [
    "# Object Classes"
   ]
  },
  {
   "cell_type": "code",
   "execution_count": 13,
   "metadata": {},
   "outputs": [
    {
     "name": "stdout",
     "output_type": "stream",
     "text": [
      "   WARNING: This is a development server. Do not use it in a production deployment.\n",
      "   Use a production WSGI server instead.\n",
      " * Debug mode: off\n"
     ]
    }
   ],
   "source": [
    "from pkg.planning.filtering.lattice_model import *\n",
    "from pkg.planning.filtering.lattice_model.scene_building import *\n",
    "        \n",
    "##\n",
    "# @class PlanePan\n",
    "# @brief Obstacles on the workplane\n",
    "class PlaneHoof(PlaneObject):\n",
    "    def __init__(self, gscene, name, workplane, GRIP_DEPTH, CLEARANCE, XYZ_LOC=None, **kwargs):\n",
    "        self.GRIP_DEPTH = GRIP_DEPTH\n",
    "        self.DIM_MIN = (0.02, GRIP_DEPTH, GRIP_DEPTH)\n",
    "        DIM = np.random.uniform(self.DIM_MIN, self.DIM_MAX)\n",
    "#         DIM[2] = GRIP_DEPTH\n",
    "        PlaneObject.__init__(self, gscene=gscene, name=name, workplane=workplane, \n",
    "                             GRIP_DEPTH=GRIP_DEPTH, CLEARANCE=CLEARANCE, DIM=DIM, **kwargs)\n",
    "        HOOF_LEN = 0.05\n",
    "        gparent = self.geometry\n",
    "        gscene.create_safe(GEOTYPE.BOX, gparent.name+\"_cn_a\", link_name=gparent.link_name, \n",
    "                           dims=(DIM[0], HOOF_LEN, DIM[2]), center=(-HOOF_LEN/2/np.sqrt(2),DIM[1]/2+HOOF_LEN/2/np.sqrt(2),0), rpy=(0,0,np.pi/4), \n",
    "                           color=gparent.color, display=True, collision=True, fixed=False,\n",
    "                           parent=gparent.name)\n",
    "        gscene.create_safe(GEOTYPE.BOX, gparent.name+\"_cn_b\", link_name=gparent.link_name, \n",
    "                           dims=(DIM[0], HOOF_LEN, DIM[2]), center=(-HOOF_LEN/2-HOOF_LEN/np.sqrt(2),DIM[1]/2+HOOF_LEN/np.sqrt(2),0), \n",
    "                           rpy=(0,0,np.pi/2), \n",
    "                           color=gparent.color, display=True, collision=True, fixed=False,\n",
    "                           parent=gparent.name)\n",
    "        gscene.create_safe(GEOTYPE.BOX, gparent.name+\"_cn_c\", link_name=gparent.link_name, \n",
    "                           dims=(DIM[0], HOOF_LEN, DIM[2]), center=(-HOOF_LEN-HOOF_LEN/np.sqrt(2)-HOOF_LEN/np.sqrt(2)/2,DIM[1]/2+HOOF_LEN/2/np.sqrt(2),0), \n",
    "                           rpy=(0,0,np.pi*3/4), \n",
    "                           color=gparent.color, display=True, collision=True, fixed=False,\n",
    "                           parent=gparent.name)\n",
    "        gscene.create_safe(GEOTYPE.BOX, gparent.name+\"_cn_d\", link_name=gparent.link_name, \n",
    "                           dims=(DIM[0], DIM[1], DIM[2]), center=(-HOOF_LEN-HOOF_LEN/np.sqrt(2)-HOOF_LEN/np.sqrt(2),0,0), \n",
    "                           rpy=(0,0,0), \n",
    "                           color=gparent.color, display=True, collision=True, fixed=False,\n",
    "                           parent=gparent.name)\n",
    "\n",
    "\n",
    "def add_object(pscene, obj, HANDLE_THICKNESS=1e-6, HANDLE_COLOR = (1,0,0,0.3)):\n",
    "    gscene = pscene.gscene\n",
    "    GRIP_DEPTH = obj.GRIP_DEPTH\n",
    "    handles = []\n",
    "    handles.append(\n",
    "        gscene.create_safe(gtype=GEOTYPE.BOX, name=\"hdl_tp_a\", link_name=\"base_link\", \n",
    "                       dims=(obj.DIM[1], GRIP_DEPTH, HANDLE_THICKNESS), center=(0,0,obj.DIM[2]/2-GRIP_DEPTH/2), rpy=(np.pi/2,0,np.pi/2), \n",
    "                           color=HANDLE_COLOR, display=True, collision=False, fixed=False,\n",
    "                       parent=obj.name)\n",
    "    )\n",
    "\n",
    "    handles.append(\n",
    "        gscene.create_safe(gtype=GEOTYPE.BOX, name=\"hdl_tp_b\", link_name=\"base_link\", \n",
    "                       dims=(obj.DIM[1], GRIP_DEPTH, HANDLE_THICKNESS), center=(0,0,obj.DIM[2]/2-GRIP_DEPTH/2), rpy=(np.pi/2,0,-np.pi/2), \n",
    "                           color=HANDLE_COLOR, display=True, collision=False, fixed=False,\n",
    "                       parent=obj.name)\n",
    "    )\n",
    "\n",
    "    handles.append(\n",
    "        gscene.create_safe(gtype=GEOTYPE.BOX, name=\"hdl_bk_a\", link_name=\"base_link\", \n",
    "                       dims=(obj.DIM[2], GRIP_DEPTH,HANDLE_THICKNESS), center=(0,-obj.DIM[1]/2+GRIP_DEPTH/2,0), rpy=(-np.pi,-np.pi/2,0), \n",
    "                       color=HANDLE_COLOR, display=True, collision=False, fixed=False,\n",
    "                   parent=obj.name)\n",
    "    )\n",
    "\n",
    "    handles.append(\n",
    "        gscene.create_safe(gtype=GEOTYPE.BOX, name=\"hdl_bk_b\", link_name=\"base_link\", \n",
    "                       dims=(obj.DIM[2], GRIP_DEPTH,HANDLE_THICKNESS), center=(0,-obj.DIM[1]/2+GRIP_DEPTH/2,0), rpy=(-np.pi,+np.pi/2,0), \n",
    "                           color=HANDLE_COLOR, display=True, collision=False, fixed=False,\n",
    "                       parent=obj.name)\n",
    "    )\n",
    "\n",
    "    action_points_dict = {\"placement\": PlacePoint(\"placement\", obj.geometry, [0,0,-obj.DIM[2]/2], [0,0,0])}\n",
    "    action_points_dict.update({handle.name: Grasp2Point(handle.name, handle, None, (0,0,0)) for handle in handles})\n",
    "    obj_pscene = pscene.create_subject(oname=obj.name, gname=obj.name, _type=CustomObject, \n",
    "                                 action_points_dict=action_points_dict)\n",
    "    return obj_pscene, handles\n",
    "        \n",
    "Nmax_wall, Nmax_pole, Nmax_bar = 4, 8, 8\n",
    "\n",
    "Nmax_obj = 3\n",
    "\n",
    "N_max_sample = 100\n",
    "N_print = 5\n",
    "N_sample_single_obj = 3"
   ]
  },
  {
   "cell_type": "code",
   "execution_count": null,
   "metadata": {},
   "outputs": [],
   "source": []
  },
  {
   "cell_type": "markdown",
   "metadata": {},
   "source": [
    "# Load and verify"
   ]
  },
  {
   "cell_type": "code",
   "execution_count": 14,
   "metadata": {},
   "outputs": [
    {
     "name": "stdout",
     "output_type": "stream",
     "text": [
      "DATASET_LIST: ['20210611-142747', '20210611-143200', '20210611-143507', '20210611-143922', '20210611-144222', '20210611-144701', '20210611-145001', '20210611-145428', '20210611-145955', '20210611-150331', '20210613-150300']\n"
     ]
    }
   ],
   "source": [
    "N_MAX = 1000\n",
    "\n",
    "\n",
    "gtimer = GlobalTimer.instance()\n",
    "gtimer.reset(stack=True)\n",
    "DATASET_LIST = sorted(os.listdir(ROBOT_DATA_ROOT))\n",
    "N_tot = 0\n",
    "N_suc = 0\n",
    "labels = []\n",
    "g_results = []\n",
    "gr_results = []\n",
    "grl_results = []\n",
    "print(\"DATASET_LIST: {}\".format(DATASET_LIST))\n",
    "gtimer.tic(\"full_loop\")\n",
    "DATASET_LIST = iter(DATASET_LIST)"
   ]
  },
  {
   "cell_type": "code",
   "execution_count": 15,
   "metadata": {},
   "outputs": [
    {
     "name": "stdout",
     "output_type": "stream",
     "text": [
      "DATASET_PATH: /home/rnb/Projects/rnb-planning/data/test-hoof/panda/20210611-142747\n",
      "DATA_LIST: ['00001.pkl', '00002.pkl', '00003.pkl', '00004.pkl', '00005.pkl', '00006.pkl', '00007.pkl', '00008.pkl', '00009.pkl', '00010.pkl', '00011.pkl', '00012.pkl', '00013.pkl', '00014.pkl', '00015.pkl', '00016.pkl', '00017.pkl', '00018.pkl', '00019.pkl', '00020.pkl']\n"
     ]
    }
   ],
   "source": [
    "DATASET_DIR = next(DATASET_LIST)\n",
    "\n",
    "DATASET_PATH = os.path.join(ROBOT_DATA_ROOT, DATASET_DIR)\n",
    "print(\"DATASET_PATH: {}\".format(DATASET_PATH))\n",
    "DATA_LIST = sorted(os.listdir(DATASET_PATH))\n",
    "print(\"DATA_LIST: {}\".format(DATA_LIST))\n",
    "DATA_LIST = iter(DATA_LIST)"
   ]
  },
  {
   "cell_type": "code",
   "execution_count": 27,
   "metadata": {},
   "outputs": [],
   "source": [
    "DATA_FILE = next(DATA_LIST)"
   ]
  },
  {
   "cell_type": "code",
   "execution_count": 28,
   "metadata": {},
   "outputs": [
    {
     "name": "stdout",
     "output_type": "stream",
     "text": [
      "DATA_PATH: /home/rnb/Projects/rnb-planning/data/test-hoof/panda/20210611-142747/00006.pkl\n"
     ]
    },
    {
     "data": {
      "text/plain": [
       "<pkg.planning.constraint.constraint_actor.PlacePlane at 0x7f54e71a8990>"
      ]
     },
     "execution_count": 28,
     "metadata": {},
     "output_type": "execute_result"
    }
   ],
   "source": [
    "\n",
    "DATA_PATH = os.path.join(DATASET_PATH, DATA_FILE)\n",
    "print(\"DATA_PATH: {}\".format(DATA_PATH))\n",
    "data = load_pickle(DATA_PATH)\n",
    "gtem_args = data[\"gtem_args\"]\n",
    "obj_args = data[\"obj_args\"]\n",
    "samples = data[\"samples\"]\n",
    "gtem_remove = []\n",
    "for gtem in gscene:\n",
    "    if gtem.link_name == \"base_link\" and gtem.parent is None:\n",
    "        gtem_remove.append(gtem)\n",
    "for gtem in gtem_remove:\n",
    "    gscene.remove(gtem)\n",
    "\n",
    "gid_list = np.arange(len(gtem_args)).tolist()\n",
    "for gidx in gid_list:\n",
    "    args = gtem_args[gidx]\n",
    "    if args['parent'] is not None:\n",
    "        if args['parent'] not in gscene.NAME_DICT:\n",
    "            gid_list.append(gidx)\n",
    "            continue\n",
    "    gscene.create_safe(**args)\n",
    "\n",
    "pscene.create_binder(bname=\"wp\", gname=\"wp\", _type=PlacePlane, point=None)"
   ]
  },
  {
   "cell_type": "code",
   "execution_count": null,
   "metadata": {},
   "outputs": [],
   "source": []
  },
  {
   "cell_type": "code",
   "execution_count": 14,
   "metadata": {},
   "outputs": [
    {
     "name": "stdout",
     "output_type": "stream",
     "text": [
      "DATASET_LIST: ['20210611-142747', '20210611-143200', '20210611-143507', '20210611-143922', '20210611-144222', '20210611-144701', '20210611-145001', '20210611-145428', '20210611-145955', '20210611-150331']\n",
      "DATASET_PATH: /home/rnb/Projects/rnb-planning/data/test-hoof/panda/20210611-142747\n",
      "DATA_LIST: ['00001.pkl', '00002.pkl', '00003.pkl', '00004.pkl', '00005.pkl', '00006.pkl', '00007.pkl', '00008.pkl', '00009.pkl', '00010.pkl', '00011.pkl', '00012.pkl', '00013.pkl', '00014.pkl', '00015.pkl', '00016.pkl', '00017.pkl', '00018.pkl', '00019.pkl', '00020.pkl']\n",
      "DATA_PATH: /home/rnb/Projects/rnb-planning/data/test-hoof/panda/20210611-142747/00001.pkl\n",
      "GRL: 0 / SUCCESS: 0 / TOTAL: 3 / ELAPSED TIME: 0.0 s / ETA: 6.8 s\n",
      "DATA_PATH: /home/rnb/Projects/rnb-planning/data/test-hoof/panda/20210611-142747/00002.pkl\n",
      "GRL: 0 / SUCCESS: 0 / TOTAL: 9 / ELAPSED TIME: 0.1 s / ETA: 9.7 s\n",
      "DATA_PATH: /home/rnb/Projects/rnb-planning/data/test-hoof/panda/20210611-142747/00003.pkl\n",
      "GRL: 0 / SUCCESS: 0 / TOTAL: 15 / ELAPSED TIME: 0.1 s / ETA: 8.6 s\n",
      "DATA_PATH: /home/rnb/Projects/rnb-planning/data/test-hoof/panda/20210611-142747/00004.pkl\n",
      "GRL: 2 / SUCCESS: 2 / TOTAL: 18 / ELAPSED TIME: 0.3 s / ETA: 15.1 s\n",
      "DATA_PATH: /home/rnb/Projects/rnb-planning/data/test-hoof/panda/20210611-142747/00005.pkl\n",
      "GRL: 2 / SUCCESS: 2 / TOTAL: 21 / ELAPSED TIME: 0.3 s / ETA: 14.2 s\n",
      "DATA_PATH: /home/rnb/Projects/rnb-planning/data/test-hoof/panda/20210611-142747/00006.pkl\n",
      "GRL: 2 / SUCCESS: 2 / TOTAL: 30 / ELAPSED TIME: 0.4 s / ETA: 11.7 s\n",
      "DATA_PATH: /home/rnb/Projects/rnb-planning/data/test-hoof/panda/20210611-142747/00007.pkl\n",
      "GRL: 2 / SUCCESS: 2 / TOTAL: 36 / ELAPSED TIME: 0.4 s / ETA: 10.8 s\n",
      "DATA_PATH: /home/rnb/Projects/rnb-planning/data/test-hoof/panda/20210611-142747/00008.pkl\n",
      "GRL: 2 / SUCCESS: 2 / TOTAL: 39 / ELAPSED TIME: 0.4 s / ETA: 10.4 s\n",
      "DATA_PATH: /home/rnb/Projects/rnb-planning/data/test-hoof/panda/20210611-142747/00009.pkl\n",
      "GRL: 4 / SUCCESS: 4 / TOTAL: 45 / ELAPSED TIME: 0.6 s / ETA: 13.1 s\n",
      "DATA_PATH: /home/rnb/Projects/rnb-planning/data/test-hoof/panda/20210611-142747/00010.pkl\n",
      "GRL: 4 / SUCCESS: 4 / TOTAL: 51 / ELAPSED TIME: 0.6 s / ETA: 12.3 s\n",
      "DATA_PATH: /home/rnb/Projects/rnb-planning/data/test-hoof/panda/20210611-142747/00011.pkl\n",
      "GRL: 6 / SUCCESS: 6 / TOTAL: 54 / ELAPSED TIME: 0.8 s / ETA: 14.5 s\n",
      "DATA_PATH: /home/rnb/Projects/rnb-planning/data/test-hoof/panda/20210611-142747/00012.pkl\n",
      "GRL: 6 / SUCCESS: 6 / TOTAL: 60 / ELAPSED TIME: 0.8 s / ETA: 13.8 s\n",
      "DATA_PATH: /home/rnb/Projects/rnb-planning/data/test-hoof/panda/20210611-142747/00013.pkl\n",
      "GRL: 6 / SUCCESS: 6 / TOTAL: 63 / ELAPSED TIME: 0.8 s / ETA: 13.5 s\n",
      "DATA_PATH: /home/rnb/Projects/rnb-planning/data/test-hoof/panda/20210611-142747/00014.pkl\n",
      "GRL: 6 / SUCCESS: 6 / TOTAL: 66 / ELAPSED TIME: 0.9 s / ETA: 13.2 s\n",
      "DATA_PATH: /home/rnb/Projects/rnb-planning/data/test-hoof/panda/20210611-142747/00015.pkl\n",
      "GRL: 6 / SUCCESS: 6 / TOTAL: 72 / ELAPSED TIME: 0.9 s / ETA: 12.6 s\n",
      "DATA_PATH: /home/rnb/Projects/rnb-planning/data/test-hoof/panda/20210611-142747/00016.pkl\n",
      "GRL: 8 / SUCCESS: 7 / TOTAL: 81 / ELAPSED TIME: 1.2 s / ETA: 14.7 s\n",
      "DATA_PATH: /home/rnb/Projects/rnb-planning/data/test-hoof/panda/20210611-142747/00017.pkl\n",
      "GRL: 8 / SUCCESS: 7 / TOTAL: 87 / ELAPSED TIME: 1.2 s / ETA: 14.2 s\n",
      "DATA_PATH: /home/rnb/Projects/rnb-planning/data/test-hoof/panda/20210611-142747/00018.pkl\n",
      "GRL: 8 / SUCCESS: 7 / TOTAL: 90 / ELAPSED TIME: 1.2 s / ETA: 13.9 s\n",
      "DATA_PATH: /home/rnb/Projects/rnb-planning/data/test-hoof/panda/20210611-142747/00019.pkl\n",
      "GRL: 8 / SUCCESS: 7 / TOTAL: 99 / ELAPSED TIME: 1.3 s / ETA: 13.2 s\n",
      "DATA_PATH: /home/rnb/Projects/rnb-planning/data/test-hoof/panda/20210611-142747/00020.pkl\n",
      "GRL: 8 / SUCCESS: 7 / TOTAL: 102 / ELAPSED TIME: 1.3 s / ETA: 13.0 s\n",
      "DATASET_PATH: /home/rnb/Projects/rnb-planning/data/test-hoof/panda/20210611-143200\n",
      "DATA_LIST: ['00001.pkl', '00002.pkl', '00003.pkl', '00004.pkl', '00005.pkl', '00006.pkl', '00007.pkl', '00008.pkl', '00009.pkl', '00010.pkl', '00011.pkl', '00012.pkl', '00013.pkl', '00014.pkl', '00015.pkl', '00016.pkl', '00017.pkl', '00018.pkl', '00019.pkl', '00020.pkl', '00021.pkl', '00022.pkl']\n",
      "DATA_PATH: /home/rnb/Projects/rnb-planning/data/test-hoof/panda/20210611-143200/00001.pkl\n",
      "GRL: 9 / SUCCESS: 8 / TOTAL: 105 / ELAPSED TIME: 1.4 s / ETA: 13.4 s\n",
      "DATA_PATH: /home/rnb/Projects/rnb-planning/data/test-hoof/panda/20210611-143200/00002.pkl\n",
      "GRL: 11 / SUCCESS: 10 / TOTAL: 114 / ELAPSED TIME: 1.6 s / ETA: 13.9 s\n",
      "DATA_PATH: /home/rnb/Projects/rnb-planning/data/test-hoof/panda/20210611-143200/00003.pkl\n",
      "GRL: 14 / SUCCESS: 13 / TOTAL: 120 / ELAPSED TIME: 1.8 s / ETA: 14.7 s\n",
      "DATA_PATH: /home/rnb/Projects/rnb-planning/data/test-hoof/panda/20210611-143200/00004.pkl\n",
      "GRL: 14 / SUCCESS: 13 / TOTAL: 123 / ELAPSED TIME: 1.8 s / ETA: 14.6 s\n",
      "DATA_PATH: /home/rnb/Projects/rnb-planning/data/test-hoof/panda/20210611-143200/00005.pkl\n",
      "GRL: 17 / SUCCESS: 15 / TOTAL: 126 / ELAPSED TIME: 2.0 s / ETA: 16.0 s\n",
      "DATA_PATH: /home/rnb/Projects/rnb-planning/data/test-hoof/panda/20210611-143200/00006.pkl\n",
      "GRL: 17 / SUCCESS: 15 / TOTAL: 129 / ELAPSED TIME: 2.0 s / ETA: 15.9 s\n",
      "DATA_PATH: /home/rnb/Projects/rnb-planning/data/test-hoof/panda/20210611-143200/00007.pkl\n",
      "GRL: 17 / SUCCESS: 15 / TOTAL: 132 / ELAPSED TIME: 2.1 s / ETA: 15.6 s\n",
      "DATA_PATH: /home/rnb/Projects/rnb-planning/data/test-hoof/panda/20210611-143200/00008.pkl\n",
      "GRL: 18 / SUCCESS: 16 / TOTAL: 135 / ELAPSED TIME: 2.1 s / ETA: 15.7 s\n",
      "DATA_PATH: /home/rnb/Projects/rnb-planning/data/test-hoof/panda/20210611-143200/00009.pkl\n",
      "GRL: 20 / SUCCESS: 18 / TOTAL: 138 / ELAPSED TIME: 2.3 s / ETA: 16.4 s\n",
      "DATA_PATH: /home/rnb/Projects/rnb-planning/data/test-hoof/panda/20210611-143200/00010.pkl\n",
      "GRL: 22 / SUCCESS: 20 / TOTAL: 141 / ELAPSED TIME: 2.4 s / ETA: 17.2 s\n",
      "DATA_PATH: /home/rnb/Projects/rnb-planning/data/test-hoof/panda/20210611-143200/00011.pkl\n",
      "GRL: 22 / SUCCESS: 20 / TOTAL: 144 / ELAPSED TIME: 2.5 s / ETA: 17.2 s\n",
      "DATA_PATH: /home/rnb/Projects/rnb-planning/data/test-hoof/panda/20210611-143200/00012.pkl\n",
      "GRL: 22 / SUCCESS: 20 / TOTAL: 147 / ELAPSED TIME: 2.5 s / ETA: 17.0 s\n",
      "DATA_PATH: /home/rnb/Projects/rnb-planning/data/test-hoof/panda/20210611-143200/00013.pkl\n",
      "GRL: 22 / SUCCESS: 20 / TOTAL: 153 / ELAPSED TIME: 2.5 s / ETA: 16.6 s\n",
      "DATA_PATH: /home/rnb/Projects/rnb-planning/data/test-hoof/panda/20210611-143200/00014.pkl\n",
      "GRL: 22 / SUCCESS: 20 / TOTAL: 159 / ELAPSED TIME: 2.6 s / ETA: 16.2 s\n",
      "DATA_PATH: /home/rnb/Projects/rnb-planning/data/test-hoof/panda/20210611-143200/00015.pkl\n",
      "GRL: 22 / SUCCESS: 20 / TOTAL: 168 / ELAPSED TIME: 2.6 s / ETA: 15.6 s\n",
      "DATA_PATH: /home/rnb/Projects/rnb-planning/data/test-hoof/panda/20210611-143200/00016.pkl\n",
      "GRL: 23 / SUCCESS: 21 / TOTAL: 174 / ELAPSED TIME: 2.7 s / ETA: 15.6 s\n",
      "DATA_PATH: /home/rnb/Projects/rnb-planning/data/test-hoof/panda/20210611-143200/00017.pkl\n",
      "GRL: 26 / SUCCESS: 24 / TOTAL: 177 / ELAPSED TIME: 2.9 s / ETA: 16.4 s\n",
      "DATA_PATH: /home/rnb/Projects/rnb-planning/data/test-hoof/panda/20210611-143200/00018.pkl\n",
      "GRL: 29 / SUCCESS: 27 / TOTAL: 186 / ELAPSED TIME: 3.1 s / ETA: 16.9 s\n",
      "DATA_PATH: /home/rnb/Projects/rnb-planning/data/test-hoof/panda/20210611-143200/00019.pkl\n",
      "GRL: 29 / SUCCESS: 27 / TOTAL: 189 / ELAPSED TIME: 3.2 s / ETA: 16.7 s\n",
      "DATA_PATH: /home/rnb/Projects/rnb-planning/data/test-hoof/panda/20210611-143200/00020.pkl\n",
      "GRL: 30 / SUCCESS: 28 / TOTAL: 192 / ELAPSED TIME: 3.2 s / ETA: 16.8 s\n",
      "DATA_PATH: /home/rnb/Projects/rnb-planning/data/test-hoof/panda/20210611-143200/00021.pkl\n",
      "GRL: 33 / SUCCESS: 31 / TOTAL: 198 / ELAPSED TIME: 3.4 s / ETA: 17.2 s\n",
      "DATA_PATH: /home/rnb/Projects/rnb-planning/data/test-hoof/panda/20210611-143200/00022.pkl\n",
      "GRL: 33 / SUCCESS: 31 / TOTAL: 204 / ELAPSED TIME: 3.5 s / ETA: 17.0 s\n",
      "DATASET_PATH: /home/rnb/Projects/rnb-planning/data/test-hoof/panda/20210611-143507\n",
      "DATA_LIST: ['00001.pkl', '00002.pkl', '00003.pkl', '00004.pkl', '00005.pkl', '00006.pkl', '00007.pkl', '00008.pkl', '00009.pkl', '00010.pkl', '00011.pkl', '00012.pkl', '00013.pkl', '00014.pkl', '00015.pkl', '00016.pkl', '00017.pkl', '00018.pkl', '00019.pkl', '00020.pkl', '00021.pkl', '00022.pkl']\n",
      "DATA_PATH: /home/rnb/Projects/rnb-planning/data/test-hoof/panda/20210611-143507/00001.pkl\n",
      "GRL: 33 / SUCCESS: 31 / TOTAL: 210 / ELAPSED TIME: 3.5 s / ETA: 16.7 s\n",
      "DATA_PATH: /home/rnb/Projects/rnb-planning/data/test-hoof/panda/20210611-143507/00002.pkl\n",
      "GRL: 33 / SUCCESS: 31 / TOTAL: 213 / ELAPSED TIME: 3.5 s / ETA: 16.6 s\n",
      "DATA_PATH: /home/rnb/Projects/rnb-planning/data/test-hoof/panda/20210611-143507/00003.pkl\n",
      "GRL: 33 / SUCCESS: 31 / TOTAL: 216 / ELAPSED TIME: 3.6 s / ETA: 16.7 s\n",
      "DATA_PATH: /home/rnb/Projects/rnb-planning/data/test-hoof/panda/20210611-143507/00004.pkl\n"
     ]
    },
    {
     "name": "stdout",
     "output_type": "stream",
     "text": [
      "GRL: 33 / SUCCESS: 31 / TOTAL: 222 / ELAPSED TIME: 3.7 s / ETA: 16.6 s\n",
      "DATA_PATH: /home/rnb/Projects/rnb-planning/data/test-hoof/panda/20210611-143507/00005.pkl\n",
      "GRL: 33 / SUCCESS: 31 / TOTAL: 225 / ELAPSED TIME: 3.7 s / ETA: 16.5 s\n",
      "DATA_PATH: /home/rnb/Projects/rnb-planning/data/test-hoof/panda/20210611-143507/00006.pkl\n",
      "GRL: 34 / SUCCESS: 32 / TOTAL: 228 / ELAPSED TIME: 3.8 s / ETA: 16.5 s\n",
      "DATA_PATH: /home/rnb/Projects/rnb-planning/data/test-hoof/panda/20210611-143507/00007.pkl\n",
      "GRL: 34 / SUCCESS: 32 / TOTAL: 231 / ELAPSED TIME: 3.8 s / ETA: 16.5 s\n",
      "DATA_PATH: /home/rnb/Projects/rnb-planning/data/test-hoof/panda/20210611-143507/00008.pkl\n",
      "GRL: 34 / SUCCESS: 32 / TOTAL: 237 / ELAPSED TIME: 3.9 s / ETA: 16.2 s\n",
      "DATA_PATH: /home/rnb/Projects/rnb-planning/data/test-hoof/panda/20210611-143507/00009.pkl\n",
      "GRL: 39 / SUCCESS: 37 / TOTAL: 243 / ELAPSED TIME: 4.2 s / ETA: 17.1 s\n",
      "DATA_PATH: /home/rnb/Projects/rnb-planning/data/test-hoof/panda/20210611-143507/00010.pkl\n",
      "GRL: 39 / SUCCESS: 37 / TOTAL: 252 / ELAPSED TIME: 4.2 s / ETA: 16.8 s\n",
      "DATA_PATH: /home/rnb/Projects/rnb-planning/data/test-hoof/panda/20210611-143507/00011.pkl\n",
      "GRL: 39 / SUCCESS: 37 / TOTAL: 255 / ELAPSED TIME: 4.2 s / ETA: 16.7 s\n",
      "DATA_PATH: /home/rnb/Projects/rnb-planning/data/test-hoof/panda/20210611-143507/00012.pkl\n",
      "GRL: 42 / SUCCESS: 39 / TOTAL: 261 / ELAPSED TIME: 4.5 s / ETA: 17.2 s\n",
      "DATA_PATH: /home/rnb/Projects/rnb-planning/data/test-hoof/panda/20210611-143507/00013.pkl\n",
      "GRL: 42 / SUCCESS: 39 / TOTAL: 264 / ELAPSED TIME: 4.5 s / ETA: 17.1 s\n",
      "DATA_PATH: /home/rnb/Projects/rnb-planning/data/test-hoof/panda/20210611-143507/00014.pkl\n",
      "GRL: 42 / SUCCESS: 39 / TOTAL: 267 / ELAPSED TIME: 4.5 s / ETA: 17.0 s\n",
      "DATA_PATH: /home/rnb/Projects/rnb-planning/data/test-hoof/panda/20210611-143507/00015.pkl\n",
      "GRL: 42 / SUCCESS: 39 / TOTAL: 273 / ELAPSED TIME: 4.6 s / ETA: 16.7 s\n",
      "DATA_PATH: /home/rnb/Projects/rnb-planning/data/test-hoof/panda/20210611-143507/00016.pkl\n",
      "GRL: 42 / SUCCESS: 39 / TOTAL: 276 / ELAPSED TIME: 4.6 s / ETA: 16.6 s\n",
      "DATA_PATH: /home/rnb/Projects/rnb-planning/data/test-hoof/panda/20210611-143507/00017.pkl\n",
      "GRL: 42 / SUCCESS: 39 / TOTAL: 282 / ELAPSED TIME: 4.6 s / ETA: 16.4 s\n",
      "DATA_PATH: /home/rnb/Projects/rnb-planning/data/test-hoof/panda/20210611-143507/00018.pkl\n",
      "GRL: 46 / SUCCESS: 43 / TOTAL: 291 / ELAPSED TIME: 4.9 s / ETA: 16.9 s\n",
      "DATA_PATH: /home/rnb/Projects/rnb-planning/data/test-hoof/panda/20210611-143507/00019.pkl\n",
      "GRL: 46 / SUCCESS: 43 / TOTAL: 294 / ELAPSED TIME: 4.9 s / ETA: 16.8 s\n",
      "DATA_PATH: /home/rnb/Projects/rnb-planning/data/test-hoof/panda/20210611-143507/00020.pkl\n",
      "GRL: 46 / SUCCESS: 43 / TOTAL: 297 / ELAPSED TIME: 5.0 s / ETA: 16.7 s\n",
      "DATA_PATH: /home/rnb/Projects/rnb-planning/data/test-hoof/panda/20210611-143507/00021.pkl\n",
      "GRL: 46 / SUCCESS: 43 / TOTAL: 303 / ELAPSED TIME: 5.0 s / ETA: 16.5 s\n",
      "DATA_PATH: /home/rnb/Projects/rnb-planning/data/test-hoof/panda/20210611-143507/00022.pkl\n",
      "GRL: 46 / SUCCESS: 43 / TOTAL: 306 / ELAPSED TIME: 5.0 s / ETA: 16.4 s\n",
      "DATASET_PATH: /home/rnb/Projects/rnb-planning/data/test-hoof/panda/20210611-143922\n",
      "DATA_LIST: ['00001.pkl', '00002.pkl', '00003.pkl', '00004.pkl', '00005.pkl', '00006.pkl', '00007.pkl', '00008.pkl', '00009.pkl', '00010.pkl', '00011.pkl', '00012.pkl', '00013.pkl', '00014.pkl', '00015.pkl', '00016.pkl', '00017.pkl', '00018.pkl', '00019.pkl']\n",
      "DATA_PATH: /home/rnb/Projects/rnb-planning/data/test-hoof/panda/20210611-143922/00001.pkl\n",
      "GRL: 46 / SUCCESS: 43 / TOTAL: 315 / ELAPSED TIME: 5.1 s / ETA: 16.1 s\n",
      "DATA_PATH: /home/rnb/Projects/rnb-planning/data/test-hoof/panda/20210611-143922/00002.pkl\n",
      "GRL: 46 / SUCCESS: 43 / TOTAL: 318 / ELAPSED TIME: 5.1 s / ETA: 16.0 s\n",
      "DATA_PATH: /home/rnb/Projects/rnb-planning/data/test-hoof/panda/20210611-143922/00003.pkl\n",
      "GRL: 46 / SUCCESS: 43 / TOTAL: 321 / ELAPSED TIME: 5.1 s / ETA: 15.9 s\n",
      "DATA_PATH: /home/rnb/Projects/rnb-planning/data/test-hoof/panda/20210611-143922/00004.pkl\n",
      "GRL: 48 / SUCCESS: 45 / TOTAL: 327 / ELAPSED TIME: 5.3 s / ETA: 16.1 s\n",
      "DATA_PATH: /home/rnb/Projects/rnb-planning/data/test-hoof/panda/20210611-143922/00005.pkl\n",
      "GRL: 48 / SUCCESS: 45 / TOTAL: 333 / ELAPSED TIME: 5.3 s / ETA: 16.0 s\n",
      "DATA_PATH: /home/rnb/Projects/rnb-planning/data/test-hoof/panda/20210611-143922/00006.pkl\n",
      "GRL: 48 / SUCCESS: 45 / TOTAL: 339 / ELAPSED TIME: 5.4 s / ETA: 15.8 s\n",
      "DATA_PATH: /home/rnb/Projects/rnb-planning/data/test-hoof/panda/20210611-143922/00007.pkl\n",
      "GRL: 51 / SUCCESS: 48 / TOTAL: 345 / ELAPSED TIME: 5.6 s / ETA: 16.2 s\n",
      "DATA_PATH: /home/rnb/Projects/rnb-planning/data/test-hoof/panda/20210611-143922/00008.pkl\n",
      "GRL: 51 / SUCCESS: 48 / TOTAL: 348 / ELAPSED TIME: 5.6 s / ETA: 16.1 s\n",
      "DATA_PATH: /home/rnb/Projects/rnb-planning/data/test-hoof/panda/20210611-143922/00009.pkl\n",
      "GRL: 51 / SUCCESS: 48 / TOTAL: 357 / ELAPSED TIME: 5.7 s / ETA: 15.9 s\n",
      "DATA_PATH: /home/rnb/Projects/rnb-planning/data/test-hoof/panda/20210611-143922/00010.pkl\n",
      "GRL: 52 / SUCCESS: 49 / TOTAL: 363 / ELAPSED TIME: 5.8 s / ETA: 15.9 s\n",
      "DATA_PATH: /home/rnb/Projects/rnb-planning/data/test-hoof/panda/20210611-143922/00011.pkl\n",
      "GRL: 52 / SUCCESS: 49 / TOTAL: 369 / ELAPSED TIME: 5.8 s / ETA: 15.7 s\n",
      "DATA_PATH: /home/rnb/Projects/rnb-planning/data/test-hoof/panda/20210611-143922/00012.pkl\n",
      "GRL: 52 / SUCCESS: 49 / TOTAL: 372 / ELAPSED TIME: 5.8 s / ETA: 15.6 s\n",
      "DATA_PATH: /home/rnb/Projects/rnb-planning/data/test-hoof/panda/20210611-143922/00013.pkl\n",
      "GRL: 54 / SUCCESS: 51 / TOTAL: 378 / ELAPSED TIME: 5.9 s / ETA: 15.7 s\n",
      "DATA_PATH: /home/rnb/Projects/rnb-planning/data/test-hoof/panda/20210611-143922/00014.pkl\n",
      "GRL: 54 / SUCCESS: 51 / TOTAL: 381 / ELAPSED TIME: 6.0 s / ETA: 15.6 s\n",
      "DATA_PATH: /home/rnb/Projects/rnb-planning/data/test-hoof/panda/20210611-143922/00015.pkl\n",
      "GRL: 55 / SUCCESS: 52 / TOTAL: 384 / ELAPSED TIME: 6.0 s / ETA: 15.6 s\n",
      "DATA_PATH: /home/rnb/Projects/rnb-planning/data/test-hoof/panda/20210611-143922/00016.pkl\n",
      "GRL: 55 / SUCCESS: 52 / TOTAL: 390 / ELAPSED TIME: 6.0 s / ETA: 15.5 s\n",
      "DATA_PATH: /home/rnb/Projects/rnb-planning/data/test-hoof/panda/20210611-143922/00017.pkl\n",
      "GRL: 55 / SUCCESS: 52 / TOTAL: 396 / ELAPSED TIME: 6.1 s / ETA: 15.3 s\n",
      "DATA_PATH: /home/rnb/Projects/rnb-planning/data/test-hoof/panda/20210611-143922/00018.pkl\n",
      "GRL: 58 / SUCCESS: 55 / TOTAL: 405 / ELAPSED TIME: 6.3 s / ETA: 15.5 s\n",
      "DATA_PATH: /home/rnb/Projects/rnb-planning/data/test-hoof/panda/20210611-143922/00019.pkl\n",
      "GRL: 58 / SUCCESS: 55 / TOTAL: 411 / ELAPSED TIME: 6.3 s / ETA: 15.4 s\n",
      "DATASET_PATH: /home/rnb/Projects/rnb-planning/data/test-hoof/panda/20210611-144222\n",
      "DATA_LIST: ['00001.pkl', '00002.pkl', '00003.pkl', '00004.pkl', '00005.pkl', '00006.pkl', '00007.pkl', '00008.pkl', '00009.pkl', '00010.pkl', '00011.pkl', '00012.pkl', '00013.pkl', '00014.pkl', '00015.pkl', '00016.pkl', '00017.pkl', '00018.pkl', '00019.pkl', '00020.pkl', '00021.pkl', '00022.pkl']\n",
      "DATA_PATH: /home/rnb/Projects/rnb-planning/data/test-hoof/panda/20210611-144222/00001.pkl\n",
      "GRL: 58 / SUCCESS: 55 / TOTAL: 414 / ELAPSED TIME: 6.3 s / ETA: 15.3 s\n",
      "DATA_PATH: /home/rnb/Projects/rnb-planning/data/test-hoof/panda/20210611-144222/00002.pkl\n",
      "GRL: 58 / SUCCESS: 55 / TOTAL: 420 / ELAPSED TIME: 6.4 s / ETA: 15.2 s\n",
      "DATA_PATH: /home/rnb/Projects/rnb-planning/data/test-hoof/panda/20210611-144222/00003.pkl\n",
      "GRL: 58 / SUCCESS: 55 / TOTAL: 423 / ELAPSED TIME: 6.4 s / ETA: 15.1 s\n",
      "DATA_PATH: /home/rnb/Projects/rnb-planning/data/test-hoof/panda/20210611-144222/00004.pkl\n",
      "GRL: 60 / SUCCESS: 56 / TOTAL: 429 / ELAPSED TIME: 6.5 s / ETA: 15.2 s\n",
      "DATA_PATH: /home/rnb/Projects/rnb-planning/data/test-hoof/panda/20210611-144222/00005.pkl\n",
      "GRL: 60 / SUCCESS: 56 / TOTAL: 432 / ELAPSED TIME: 6.6 s / ETA: 15.2 s\n",
      "DATA_PATH: /home/rnb/Projects/rnb-planning/data/test-hoof/panda/20210611-144222/00006.pkl\n",
      "GRL: 60 / SUCCESS: 56 / TOTAL: 435 / ELAPSED TIME: 6.6 s / ETA: 15.1 s\n",
      "DATA_PATH: /home/rnb/Projects/rnb-planning/data/test-hoof/panda/20210611-144222/00007.pkl\n",
      "GRL: 61 / SUCCESS: 56 / TOTAL: 438 / ELAPSED TIME: 6.6 s / ETA: 15.2 s\n",
      "DATA_PATH: /home/rnb/Projects/rnb-planning/data/test-hoof/panda/20210611-144222/00008.pkl\n",
      "GRL: 61 / SUCCESS: 56 / TOTAL: 447 / ELAPSED TIME: 6.7 s / ETA: 15.0 s\n",
      "DATA_PATH: /home/rnb/Projects/rnb-planning/data/test-hoof/panda/20210611-144222/00009.pkl\n",
      "GRL: 61 / SUCCESS: 56 / TOTAL: 453 / ELAPSED TIME: 6.8 s / ETA: 14.9 s\n",
      "DATA_PATH: /home/rnb/Projects/rnb-planning/data/test-hoof/panda/20210611-144222/00010.pkl\n",
      "GRL: 63 / SUCCESS: 58 / TOTAL: 456 / ELAPSED TIME: 6.9 s / ETA: 15.1 s\n",
      "DATA_PATH: /home/rnb/Projects/rnb-planning/data/test-hoof/panda/20210611-144222/00011.pkl\n",
      "GRL: 63 / SUCCESS: 58 / TOTAL: 459 / ELAPSED TIME: 6.9 s / ETA: 15.1 s\n",
      "DATA_PATH: /home/rnb/Projects/rnb-planning/data/test-hoof/panda/20210611-144222/00012.pkl\n"
     ]
    },
    {
     "name": "stdout",
     "output_type": "stream",
     "text": [
      "GRL: 64 / SUCCESS: 58 / TOTAL: 462 / ELAPSED TIME: 7.0 s / ETA: 15.2 s\n",
      "DATA_PATH: /home/rnb/Projects/rnb-planning/data/test-hoof/panda/20210611-144222/00013.pkl\n",
      "GRL: 64 / SUCCESS: 58 / TOTAL: 468 / ELAPSED TIME: 7.1 s / ETA: 15.1 s\n",
      "DATA_PATH: /home/rnb/Projects/rnb-planning/data/test-hoof/panda/20210611-144222/00014.pkl\n",
      "GRL: 64 / SUCCESS: 58 / TOTAL: 471 / ELAPSED TIME: 7.1 s / ETA: 15.0 s\n",
      "DATA_PATH: /home/rnb/Projects/rnb-planning/data/test-hoof/panda/20210611-144222/00015.pkl\n",
      "GRL: 64 / SUCCESS: 58 / TOTAL: 477 / ELAPSED TIME: 7.1 s / ETA: 14.9 s\n",
      "DATA_PATH: /home/rnb/Projects/rnb-planning/data/test-hoof/panda/20210611-144222/00016.pkl\n",
      "GRL: 64 / SUCCESS: 58 / TOTAL: 480 / ELAPSED TIME: 7.1 s / ETA: 14.9 s\n",
      "DATA_PATH: /home/rnb/Projects/rnb-planning/data/test-hoof/panda/20210611-144222/00017.pkl\n",
      "GRL: 64 / SUCCESS: 58 / TOTAL: 486 / ELAPSED TIME: 7.2 s / ETA: 14.8 s\n",
      "DATA_PATH: /home/rnb/Projects/rnb-planning/data/test-hoof/panda/20210611-144222/00018.pkl\n",
      "GRL: 64 / SUCCESS: 58 / TOTAL: 489 / ELAPSED TIME: 7.2 s / ETA: 14.7 s\n",
      "DATA_PATH: /home/rnb/Projects/rnb-planning/data/test-hoof/panda/20210611-144222/00019.pkl\n",
      "GRL: 64 / SUCCESS: 58 / TOTAL: 492 / ELAPSED TIME: 7.2 s / ETA: 14.7 s\n",
      "DATA_PATH: /home/rnb/Projects/rnb-planning/data/test-hoof/panda/20210611-144222/00020.pkl\n",
      "GRL: 66 / SUCCESS: 59 / TOTAL: 501 / ELAPSED TIME: 7.4 s / ETA: 14.7 s\n",
      "DATA_PATH: /home/rnb/Projects/rnb-planning/data/test-hoof/panda/20210611-144222/00021.pkl\n",
      "GRL: 67 / SUCCESS: 59 / TOTAL: 507 / ELAPSED TIME: 7.5 s / ETA: 14.7 s\n",
      "DATA_PATH: /home/rnb/Projects/rnb-planning/data/test-hoof/panda/20210611-144222/00022.pkl\n",
      "GRL: 67 / SUCCESS: 59 / TOTAL: 513 / ELAPSED TIME: 7.5 s / ETA: 14.6 s\n",
      "DATASET_PATH: /home/rnb/Projects/rnb-planning/data/test-hoof/panda/20210611-144701\n",
      "DATA_LIST: ['00001.pkl', '00002.pkl', '00003.pkl', '00004.pkl', '00005.pkl', '00006.pkl', '00007.pkl', '00008.pkl', '00009.pkl', '00010.pkl', '00011.pkl', '00012.pkl', '00013.pkl', '00014.pkl', '00015.pkl', '00016.pkl', '00017.pkl', '00018.pkl', '00019.pkl', '00020.pkl', '00021.pkl', '00022.pkl']\n",
      "DATA_PATH: /home/rnb/Projects/rnb-planning/data/test-hoof/panda/20210611-144701/00001.pkl\n",
      "GRL: 67 / SUCCESS: 59 / TOTAL: 516 / ELAPSED TIME: 7.5 s / ETA: 14.6 s\n",
      "DATA_PATH: /home/rnb/Projects/rnb-planning/data/test-hoof/panda/20210611-144701/00002.pkl\n",
      "GRL: 67 / SUCCESS: 59 / TOTAL: 519 / ELAPSED TIME: 7.5 s / ETA: 14.5 s\n",
      "DATA_PATH: /home/rnb/Projects/rnb-planning/data/test-hoof/panda/20210611-144701/00003.pkl\n",
      "GRL: 67 / SUCCESS: 59 / TOTAL: 525 / ELAPSED TIME: 7.6 s / ETA: 14.4 s\n",
      "DATA_PATH: /home/rnb/Projects/rnb-planning/data/test-hoof/panda/20210611-144701/00004.pkl\n",
      "GRL: 67 / SUCCESS: 59 / TOTAL: 528 / ELAPSED TIME: 7.7 s / ETA: 14.5 s\n",
      "DATA_PATH: /home/rnb/Projects/rnb-planning/data/test-hoof/panda/20210611-144701/00005.pkl\n",
      "GRL: 67 / SUCCESS: 59 / TOTAL: 531 / ELAPSED TIME: 7.7 s / ETA: 14.5 s\n",
      "DATA_PATH: /home/rnb/Projects/rnb-planning/data/test-hoof/panda/20210611-144701/00006.pkl\n",
      "GRL: 70 / SUCCESS: 62 / TOTAL: 537 / ELAPSED TIME: 7.9 s / ETA: 14.7 s\n",
      "DATA_PATH: /home/rnb/Projects/rnb-planning/data/test-hoof/panda/20210611-144701/00007.pkl\n",
      "GRL: 73 / SUCCESS: 65 / TOTAL: 540 / ELAPSED TIME: 8.0 s / ETA: 14.9 s\n",
      "DATA_PATH: /home/rnb/Projects/rnb-planning/data/test-hoof/panda/20210611-144701/00008.pkl\n",
      "GRL: 75 / SUCCESS: 67 / TOTAL: 543 / ELAPSED TIME: 8.2 s / ETA: 15.0 s\n",
      "DATA_PATH: /home/rnb/Projects/rnb-planning/data/test-hoof/panda/20210611-144701/00009.pkl\n",
      "GRL: 75 / SUCCESS: 67 / TOTAL: 546 / ELAPSED TIME: 8.2 s / ETA: 15.0 s\n",
      "DATA_PATH: /home/rnb/Projects/rnb-planning/data/test-hoof/panda/20210611-144701/00010.pkl\n",
      "GRL: 75 / SUCCESS: 67 / TOTAL: 552 / ELAPSED TIME: 8.2 s / ETA: 14.9 s\n",
      "DATA_PATH: /home/rnb/Projects/rnb-planning/data/test-hoof/panda/20210611-144701/00011.pkl\n",
      "GRL: 75 / SUCCESS: 67 / TOTAL: 558 / ELAPSED TIME: 8.3 s / ETA: 14.8 s\n",
      "DATA_PATH: /home/rnb/Projects/rnb-planning/data/test-hoof/panda/20210611-144701/00012.pkl\n",
      "GRL: 78 / SUCCESS: 69 / TOTAL: 561 / ELAPSED TIME: 8.5 s / ETA: 15.1 s\n",
      "DATA_PATH: /home/rnb/Projects/rnb-planning/data/test-hoof/panda/20210611-144701/00013.pkl\n",
      "GRL: 78 / SUCCESS: 69 / TOTAL: 570 / ELAPSED TIME: 8.5 s / ETA: 14.9 s\n",
      "DATA_PATH: /home/rnb/Projects/rnb-planning/data/test-hoof/panda/20210611-144701/00014.pkl\n",
      "GRL: 82 / SUCCESS: 73 / TOTAL: 579 / ELAPSED TIME: 8.8 s / ETA: 15.2 s\n",
      "DATA_PATH: /home/rnb/Projects/rnb-planning/data/test-hoof/panda/20210611-144701/00015.pkl\n",
      "GRL: 82 / SUCCESS: 73 / TOTAL: 582 / ELAPSED TIME: 8.8 s / ETA: 15.2 s\n",
      "DATA_PATH: /home/rnb/Projects/rnb-planning/data/test-hoof/panda/20210611-144701/00016.pkl\n",
      "GRL: 82 / SUCCESS: 73 / TOTAL: 588 / ELAPSED TIME: 8.9 s / ETA: 15.1 s\n",
      "DATA_PATH: /home/rnb/Projects/rnb-planning/data/test-hoof/panda/20210611-144701/00017.pkl\n",
      "GRL: 82 / SUCCESS: 73 / TOTAL: 591 / ELAPSED TIME: 8.9 s / ETA: 15.0 s\n",
      "DATA_PATH: /home/rnb/Projects/rnb-planning/data/test-hoof/panda/20210611-144701/00018.pkl\n",
      "GRL: 82 / SUCCESS: 73 / TOTAL: 594 / ELAPSED TIME: 8.9 s / ETA: 15.0 s\n",
      "DATA_PATH: /home/rnb/Projects/rnb-planning/data/test-hoof/panda/20210611-144701/00019.pkl\n",
      "GRL: 82 / SUCCESS: 73 / TOTAL: 597 / ELAPSED TIME: 9.0 s / ETA: 15.0 s\n",
      "DATA_PATH: /home/rnb/Projects/rnb-planning/data/test-hoof/panda/20210611-144701/00020.pkl\n",
      "GRL: 85 / SUCCESS: 76 / TOTAL: 603 / ELAPSED TIME: 9.2 s / ETA: 15.2 s\n",
      "DATA_PATH: /home/rnb/Projects/rnb-planning/data/test-hoof/panda/20210611-144701/00021.pkl\n",
      "GRL: 86 / SUCCESS: 78 / TOTAL: 609 / ELAPSED TIME: 9.4 s / ETA: 15.4 s\n",
      "DATA_PATH: /home/rnb/Projects/rnb-planning/data/test-hoof/panda/20210611-144701/00022.pkl\n",
      "GRL: 87 / SUCCESS: 79 / TOTAL: 615 / ELAPSED TIME: 9.4 s / ETA: 15.4 s\n",
      "DATASET_PATH: /home/rnb/Projects/rnb-planning/data/test-hoof/panda/20210611-145001\n",
      "DATA_LIST: ['00001.pkl', '00002.pkl', '00003.pkl', '00004.pkl', '00005.pkl', '00006.pkl', '00007.pkl', '00008.pkl', '00009.pkl', '00010.pkl', '00011.pkl', '00012.pkl', '00013.pkl', '00014.pkl', '00015.pkl', '00016.pkl', '00017.pkl', '00018.pkl', '00019.pkl', '00020.pkl']\n",
      "DATA_PATH: /home/rnb/Projects/rnb-planning/data/test-hoof/panda/20210611-145001/00001.pkl\n",
      "GRL: 90 / SUCCESS: 81 / TOTAL: 621 / ELAPSED TIME: 9.7 s / ETA: 15.6 s\n",
      "DATA_PATH: /home/rnb/Projects/rnb-planning/data/test-hoof/panda/20210611-145001/00002.pkl\n",
      "GRL: 90 / SUCCESS: 81 / TOTAL: 627 / ELAPSED TIME: 9.7 s / ETA: 15.5 s\n",
      "DATA_PATH: /home/rnb/Projects/rnb-planning/data/test-hoof/panda/20210611-145001/00003.pkl\n",
      "GRL: 90 / SUCCESS: 81 / TOTAL: 630 / ELAPSED TIME: 9.7 s / ETA: 15.4 s\n",
      "DATA_PATH: /home/rnb/Projects/rnb-planning/data/test-hoof/panda/20210611-145001/00004.pkl\n",
      "GRL: 92 / SUCCESS: 83 / TOTAL: 639 / ELAPSED TIME: 9.9 s / ETA: 15.5 s\n",
      "DATA_PATH: /home/rnb/Projects/rnb-planning/data/test-hoof/panda/20210611-145001/00005.pkl\n",
      "GRL: 92 / SUCCESS: 83 / TOTAL: 642 / ELAPSED TIME: 9.9 s / ETA: 15.5 s\n",
      "DATA_PATH: /home/rnb/Projects/rnb-planning/data/test-hoof/panda/20210611-145001/00006.pkl\n",
      "GRL: 93 / SUCCESS: 84 / TOTAL: 645 / ELAPSED TIME: 10.0 s / ETA: 15.5 s\n",
      "DATA_PATH: /home/rnb/Projects/rnb-planning/data/test-hoof/panda/20210611-145001/00007.pkl\n",
      "GRL: 94 / SUCCESS: 84 / TOTAL: 651 / ELAPSED TIME: 10.1 s / ETA: 15.6 s\n",
      "DATA_PATH: /home/rnb/Projects/rnb-planning/data/test-hoof/panda/20210611-145001/00008.pkl\n",
      "GRL: 96 / SUCCESS: 86 / TOTAL: 657 / ELAPSED TIME: 10.3 s / ETA: 15.7 s\n",
      "DATA_PATH: /home/rnb/Projects/rnb-planning/data/test-hoof/panda/20210611-145001/00009.pkl\n",
      "GRL: 96 / SUCCESS: 86 / TOTAL: 660 / ELAPSED TIME: 10.3 s / ETA: 15.6 s\n",
      "DATA_PATH: /home/rnb/Projects/rnb-planning/data/test-hoof/panda/20210611-145001/00010.pkl\n",
      "GRL: 96 / SUCCESS: 86 / TOTAL: 666 / ELAPSED TIME: 10.4 s / ETA: 15.6 s\n",
      "DATA_PATH: /home/rnb/Projects/rnb-planning/data/test-hoof/panda/20210611-145001/00011.pkl\n",
      "GRL: 96 / SUCCESS: 86 / TOTAL: 669 / ELAPSED TIME: 10.4 s / ETA: 15.5 s\n",
      "DATA_PATH: /home/rnb/Projects/rnb-planning/data/test-hoof/panda/20210611-145001/00012.pkl\n",
      "GRL: 98 / SUCCESS: 88 / TOTAL: 678 / ELAPSED TIME: 10.6 s / ETA: 15.6 s\n",
      "DATA_PATH: /home/rnb/Projects/rnb-planning/data/test-hoof/panda/20210611-145001/00013.pkl\n",
      "GRL: 98 / SUCCESS: 88 / TOTAL: 681 / ELAPSED TIME: 10.6 s / ETA: 15.6 s\n",
      "DATA_PATH: /home/rnb/Projects/rnb-planning/data/test-hoof/panda/20210611-145001/00014.pkl\n",
      "GRL: 98 / SUCCESS: 88 / TOTAL: 687 / ELAPSED TIME: 10.7 s / ETA: 15.5 s\n",
      "DATA_PATH: /home/rnb/Projects/rnb-planning/data/test-hoof/panda/20210611-145001/00015.pkl\n",
      "GRL: 98 / SUCCESS: 88 / TOTAL: 690 / ELAPSED TIME: 10.7 s / ETA: 15.5 s\n",
      "DATA_PATH: /home/rnb/Projects/rnb-planning/data/test-hoof/panda/20210611-145001/00016.pkl\n",
      "GRL: 98 / SUCCESS: 88 / TOTAL: 699 / ELAPSED TIME: 10.7 s / ETA: 15.4 s\n",
      "DATA_PATH: /home/rnb/Projects/rnb-planning/data/test-hoof/panda/20210611-145001/00017.pkl\n"
     ]
    },
    {
     "name": "stdout",
     "output_type": "stream",
     "text": [
      "GRL: 101 / SUCCESS: 89 / TOTAL: 702 / ELAPSED TIME: 10.9 s / ETA: 15.5 s\n",
      "DATA_PATH: /home/rnb/Projects/rnb-planning/data/test-hoof/panda/20210611-145001/00018.pkl\n",
      "GRL: 101 / SUCCESS: 89 / TOTAL: 708 / ELAPSED TIME: 11.0 s / ETA: 15.5 s\n",
      "DATA_PATH: /home/rnb/Projects/rnb-planning/data/test-hoof/panda/20210611-145001/00019.pkl\n",
      "GRL: 101 / SUCCESS: 89 / TOTAL: 714 / ELAPSED TIME: 11.0 s / ETA: 15.4 s\n",
      "DATA_PATH: /home/rnb/Projects/rnb-planning/data/test-hoof/panda/20210611-145001/00020.pkl\n",
      "GRL: 103 / SUCCESS: 91 / TOTAL: 723 / ELAPSED TIME: 11.2 s / ETA: 15.5 s\n",
      "DATASET_PATH: /home/rnb/Projects/rnb-planning/data/test-hoof/panda/20210611-145428\n",
      "DATA_LIST: ['00001.pkl', '00002.pkl', '00003.pkl', '00004.pkl', '00005.pkl', '00006.pkl', '00007.pkl', '00008.pkl', '00009.pkl', '00010.pkl', '00011.pkl', '00012.pkl', '00013.pkl', '00014.pkl', '00015.pkl', '00016.pkl', '00017.pkl', '00018.pkl', '00019.pkl']\n",
      "DATA_PATH: /home/rnb/Projects/rnb-planning/data/test-hoof/panda/20210611-145428/00001.pkl\n",
      "GRL: 106 / SUCCESS: 94 / TOTAL: 729 / ELAPSED TIME: 11.4 s / ETA: 15.7 s\n",
      "DATA_PATH: /home/rnb/Projects/rnb-planning/data/test-hoof/panda/20210611-145428/00002.pkl\n",
      "GRL: 106 / SUCCESS: 94 / TOTAL: 732 / ELAPSED TIME: 11.5 s / ETA: 15.7 s\n",
      "DATA_PATH: /home/rnb/Projects/rnb-planning/data/test-hoof/panda/20210611-145428/00003.pkl\n",
      "GRL: 110 / SUCCESS: 94 / TOTAL: 741 / ELAPSED TIME: 11.8 s / ETA: 15.9 s\n",
      "DATA_PATH: /home/rnb/Projects/rnb-planning/data/test-hoof/panda/20210611-145428/00004.pkl\n",
      "GRL: 112 / SUCCESS: 95 / TOTAL: 750 / ELAPSED TIME: 12.0 s / ETA: 16.0 s\n",
      "DATA_PATH: /home/rnb/Projects/rnb-planning/data/test-hoof/panda/20210611-145428/00005.pkl\n",
      "GRL: 112 / SUCCESS: 95 / TOTAL: 756 / ELAPSED TIME: 12.0 s / ETA: 15.9 s\n",
      "DATA_PATH: /home/rnb/Projects/rnb-planning/data/test-hoof/panda/20210611-145428/00006.pkl\n",
      "GRL: 114 / SUCCESS: 97 / TOTAL: 759 / ELAPSED TIME: 12.2 s / ETA: 16.0 s\n",
      "DATA_PATH: /home/rnb/Projects/rnb-planning/data/test-hoof/panda/20210611-145428/00007.pkl\n",
      "GRL: 114 / SUCCESS: 97 / TOTAL: 765 / ELAPSED TIME: 12.2 s / ETA: 16.0 s\n",
      "DATA_PATH: /home/rnb/Projects/rnb-planning/data/test-hoof/panda/20210611-145428/00008.pkl\n",
      "GRL: 114 / SUCCESS: 97 / TOTAL: 774 / ELAPSED TIME: 12.4 s / ETA: 16.1 s\n",
      "DATA_PATH: /home/rnb/Projects/rnb-planning/data/test-hoof/panda/20210611-145428/00009.pkl\n",
      "GRL: 116 / SUCCESS: 97 / TOTAL: 777 / ELAPSED TIME: 12.5 s / ETA: 16.1 s\n",
      "DATA_PATH: /home/rnb/Projects/rnb-planning/data/test-hoof/panda/20210611-145428/00010.pkl\n",
      "GRL: 117 / SUCCESS: 97 / TOTAL: 780 / ELAPSED TIME: 12.6 s / ETA: 16.2 s\n",
      "DATA_PATH: /home/rnb/Projects/rnb-planning/data/test-hoof/panda/20210611-145428/00011.pkl\n",
      "GRL: 117 / SUCCESS: 97 / TOTAL: 783 / ELAPSED TIME: 12.7 s / ETA: 16.2 s\n",
      "DATA_PATH: /home/rnb/Projects/rnb-planning/data/test-hoof/panda/20210611-145428/00012.pkl\n",
      "GRL: 117 / SUCCESS: 97 / TOTAL: 786 / ELAPSED TIME: 12.7 s / ETA: 16.1 s\n",
      "DATA_PATH: /home/rnb/Projects/rnb-planning/data/test-hoof/panda/20210611-145428/00013.pkl\n",
      "GRL: 117 / SUCCESS: 97 / TOTAL: 795 / ELAPSED TIME: 12.7 s / ETA: 16.0 s\n",
      "DATA_PATH: /home/rnb/Projects/rnb-planning/data/test-hoof/panda/20210611-145428/00014.pkl\n",
      "GRL: 119 / SUCCESS: 99 / TOTAL: 801 / ELAPSED TIME: 12.9 s / ETA: 16.1 s\n",
      "DATA_PATH: /home/rnb/Projects/rnb-planning/data/test-hoof/panda/20210611-145428/00015.pkl\n",
      "GRL: 119 / SUCCESS: 99 / TOTAL: 804 / ELAPSED TIME: 12.9 s / ETA: 16.1 s\n",
      "DATA_PATH: /home/rnb/Projects/rnb-planning/data/test-hoof/panda/20210611-145428/00016.pkl\n",
      "GRL: 119 / SUCCESS: 99 / TOTAL: 807 / ELAPSED TIME: 12.9 s / ETA: 16.0 s\n",
      "DATA_PATH: /home/rnb/Projects/rnb-planning/data/test-hoof/panda/20210611-145428/00017.pkl\n",
      "GRL: 119 / SUCCESS: 99 / TOTAL: 810 / ELAPSED TIME: 13.0 s / ETA: 16.0 s\n",
      "DATA_PATH: /home/rnb/Projects/rnb-planning/data/test-hoof/panda/20210611-145428/00018.pkl\n",
      "GRL: 119 / SUCCESS: 99 / TOTAL: 819 / ELAPSED TIME: 13.0 s / ETA: 15.9 s\n",
      "DATA_PATH: /home/rnb/Projects/rnb-planning/data/test-hoof/panda/20210611-145428/00019.pkl\n",
      "GRL: 119 / SUCCESS: 99 / TOTAL: 828 / ELAPSED TIME: 13.1 s / ETA: 15.8 s\n",
      "DATASET_PATH: /home/rnb/Projects/rnb-planning/data/test-hoof/panda/20210611-145955\n",
      "DATA_LIST: ['00001.pkl', '00002.pkl', '00003.pkl', '00004.pkl', '00005.pkl', '00006.pkl', '00007.pkl', '00008.pkl', '00009.pkl', '00010.pkl', '00011.pkl', '00012.pkl', '00013.pkl', '00014.pkl', '00015.pkl', '00016.pkl', '00017.pkl', '00018.pkl', '00019.pkl']\n",
      "DATA_PATH: /home/rnb/Projects/rnb-planning/data/test-hoof/panda/20210611-145955/00001.pkl\n",
      "GRL: 119 / SUCCESS: 99 / TOTAL: 831 / ELAPSED TIME: 13.1 s / ETA: 15.8 s\n",
      "DATA_PATH: /home/rnb/Projects/rnb-planning/data/test-hoof/panda/20210611-145955/00002.pkl\n",
      "GRL: 119 / SUCCESS: 99 / TOTAL: 834 / ELAPSED TIME: 13.1 s / ETA: 15.7 s\n",
      "DATA_PATH: /home/rnb/Projects/rnb-planning/data/test-hoof/panda/20210611-145955/00003.pkl\n",
      "GRL: 121 / SUCCESS: 100 / TOTAL: 843 / ELAPSED TIME: 13.3 s / ETA: 15.8 s\n",
      "DATA_PATH: /home/rnb/Projects/rnb-planning/data/test-hoof/panda/20210611-145955/00004.pkl\n",
      "GRL: 121 / SUCCESS: 100 / TOTAL: 846 / ELAPSED TIME: 13.3 s / ETA: 15.7 s\n",
      "DATA_PATH: /home/rnb/Projects/rnb-planning/data/test-hoof/panda/20210611-145955/00005.pkl\n",
      "GRL: 121 / SUCCESS: 100 / TOTAL: 852 / ELAPSED TIME: 13.3 s / ETA: 15.7 s\n",
      "DATA_PATH: /home/rnb/Projects/rnb-planning/data/test-hoof/panda/20210611-145955/00006.pkl\n",
      "GRL: 122 / SUCCESS: 101 / TOTAL: 858 / ELAPSED TIME: 13.5 s / ETA: 15.7 s\n",
      "DATA_PATH: /home/rnb/Projects/rnb-planning/data/test-hoof/panda/20210611-145955/00007.pkl\n",
      "GRL: 122 / SUCCESS: 101 / TOTAL: 864 / ELAPSED TIME: 13.5 s / ETA: 15.6 s\n",
      "DATA_PATH: /home/rnb/Projects/rnb-planning/data/test-hoof/panda/20210611-145955/00008.pkl\n",
      "GRL: 122 / SUCCESS: 101 / TOTAL: 870 / ELAPSED TIME: 13.5 s / ETA: 15.6 s\n",
      "DATA_PATH: /home/rnb/Projects/rnb-planning/data/test-hoof/panda/20210611-145955/00009.pkl\n",
      "GRL: 124 / SUCCESS: 103 / TOTAL: 876 / ELAPSED TIME: 13.7 s / ETA: 15.7 s\n",
      "DATA_PATH: /home/rnb/Projects/rnb-planning/data/test-hoof/panda/20210611-145955/00010.pkl\n",
      "GRL: 125 / SUCCESS: 104 / TOTAL: 879 / ELAPSED TIME: 13.8 s / ETA: 15.7 s\n",
      "DATA_PATH: /home/rnb/Projects/rnb-planning/data/test-hoof/panda/20210611-145955/00011.pkl\n",
      "GRL: 127 / SUCCESS: 106 / TOTAL: 882 / ELAPSED TIME: 13.9 s / ETA: 15.7 s\n",
      "DATA_PATH: /home/rnb/Projects/rnb-planning/data/test-hoof/panda/20210611-145955/00012.pkl\n",
      "GRL: 127 / SUCCESS: 106 / TOTAL: 888 / ELAPSED TIME: 13.9 s / ETA: 15.7 s\n",
      "DATA_PATH: /home/rnb/Projects/rnb-planning/data/test-hoof/panda/20210611-145955/00013.pkl\n",
      "GRL: 127 / SUCCESS: 106 / TOTAL: 897 / ELAPSED TIME: 14.0 s / ETA: 15.6 s\n",
      "DATA_PATH: /home/rnb/Projects/rnb-planning/data/test-hoof/panda/20210611-145955/00014.pkl\n",
      "GRL: 127 / SUCCESS: 106 / TOTAL: 900 / ELAPSED TIME: 14.0 s / ETA: 15.6 s\n",
      "DATA_PATH: /home/rnb/Projects/rnb-planning/data/test-hoof/panda/20210611-145955/00015.pkl\n",
      "GRL: 130 / SUCCESS: 109 / TOTAL: 906 / ELAPSED TIME: 14.2 s / ETA: 15.7 s\n",
      "DATA_PATH: /home/rnb/Projects/rnb-planning/data/test-hoof/panda/20210611-145955/00016.pkl\n",
      "GRL: 131 / SUCCESS: 110 / TOTAL: 909 / ELAPSED TIME: 14.3 s / ETA: 15.7 s\n",
      "DATA_PATH: /home/rnb/Projects/rnb-planning/data/test-hoof/panda/20210611-145955/00017.pkl\n",
      "GRL: 133 / SUCCESS: 112 / TOTAL: 918 / ELAPSED TIME: 14.4 s / ETA: 15.7 s\n",
      "DATA_PATH: /home/rnb/Projects/rnb-planning/data/test-hoof/panda/20210611-145955/00018.pkl\n",
      "GRL: 134 / SUCCESS: 112 / TOTAL: 924 / ELAPSED TIME: 14.5 s / ETA: 15.7 s\n",
      "DATA_PATH: /home/rnb/Projects/rnb-planning/data/test-hoof/panda/20210611-145955/00019.pkl\n",
      "GRL: 136 / SUCCESS: 114 / TOTAL: 930 / ELAPSED TIME: 14.6 s / ETA: 15.7 s\n",
      "DATASET_PATH: /home/rnb/Projects/rnb-planning/data/test-hoof/panda/20210611-150331\n",
      "DATA_LIST: ['00001.pkl', '00002.pkl', '00003.pkl', '00004.pkl', '00005.pkl', '00006.pkl', '00007.pkl', '00008.pkl', '00009.pkl', '00010.pkl', '00011.pkl', '00012.pkl', '00013.pkl', '00014.pkl', '00015.pkl', '00016.pkl', '00017.pkl', '00018.pkl', '00019.pkl', '00020.pkl', '00021.pkl']\n",
      "DATA_PATH: /home/rnb/Projects/rnb-planning/data/test-hoof/panda/20210611-150331/00001.pkl\n",
      "GRL: 137 / SUCCESS: 115 / TOTAL: 936 / ELAPSED TIME: 14.7 s / ETA: 15.7 s\n",
      "DATA_PATH: /home/rnb/Projects/rnb-planning/data/test-hoof/panda/20210611-150331/00002.pkl\n",
      "GRL: 138 / SUCCESS: 117 / TOTAL: 942 / ELAPSED TIME: 14.8 s / ETA: 15.8 s\n",
      "DATA_PATH: /home/rnb/Projects/rnb-planning/data/test-hoof/panda/20210611-150331/00003.pkl\n"
     ]
    },
    {
     "name": "stdout",
     "output_type": "stream",
     "text": [
      "GRL: 141 / SUCCESS: 119 / TOTAL: 951 / ELAPSED TIME: 15.1 s / ETA: 15.9 s\n",
      "DATA_PATH: /home/rnb/Projects/rnb-planning/data/test-hoof/panda/20210611-150331/00004.pkl\n",
      "GRL: 143 / SUCCESS: 122 / TOTAL: 954 / ELAPSED TIME: 15.3 s / ETA: 16.0 s\n",
      "DATA_PATH: /home/rnb/Projects/rnb-planning/data/test-hoof/panda/20210611-150331/00005.pkl\n",
      "GRL: 144 / SUCCESS: 123 / TOTAL: 960 / ELAPSED TIME: 15.4 s / ETA: 16.1 s\n",
      "DATA_PATH: /home/rnb/Projects/rnb-planning/data/test-hoof/panda/20210611-150331/00006.pkl\n",
      "GRL: 144 / SUCCESS: 123 / TOTAL: 963 / ELAPSED TIME: 15.6 s / ETA: 16.2 s\n",
      "DATA_PATH: /home/rnb/Projects/rnb-planning/data/test-hoof/panda/20210611-150331/00007.pkl\n",
      "GRL: 144 / SUCCESS: 123 / TOTAL: 966 / ELAPSED TIME: 15.6 s / ETA: 16.2 s\n",
      "DATA_PATH: /home/rnb/Projects/rnb-planning/data/test-hoof/panda/20210611-150331/00008.pkl\n",
      "GRL: 144 / SUCCESS: 123 / TOTAL: 969 / ELAPSED TIME: 15.7 s / ETA: 16.2 s\n",
      "DATA_PATH: /home/rnb/Projects/rnb-planning/data/test-hoof/panda/20210611-150331/00009.pkl\n",
      "GRL: 146 / SUCCESS: 125 / TOTAL: 972 / ELAPSED TIME: 15.8 s / ETA: 16.3 s\n",
      "DATA_PATH: /home/rnb/Projects/rnb-planning/data/test-hoof/panda/20210611-150331/00010.pkl\n",
      "GRL: 146 / SUCCESS: 125 / TOTAL: 978 / ELAPSED TIME: 15.9 s / ETA: 16.3 s\n",
      "DATA_PATH: /home/rnb/Projects/rnb-planning/data/test-hoof/panda/20210611-150331/00011.pkl\n",
      "GRL: 146 / SUCCESS: 125 / TOTAL: 981 / ELAPSED TIME: 16.0 s / ETA: 16.3 s\n",
      "DATA_PATH: /home/rnb/Projects/rnb-planning/data/test-hoof/panda/20210611-150331/00012.pkl\n",
      "GRL: 150 / SUCCESS: 129 / TOTAL: 990 / ELAPSED TIME: 16.2 s / ETA: 16.4 s\n",
      "DATA_PATH: /home/rnb/Projects/rnb-planning/data/test-hoof/panda/20210611-150331/00013.pkl\n",
      "GRL: 150 / SUCCESS: 129 / TOTAL: 996 / ELAPSED TIME: 16.3 s / ETA: 16.4 s\n",
      "DATA_PATH: /home/rnb/Projects/rnb-planning/data/test-hoof/panda/20210611-150331/00014.pkl\n",
      "GRL: 150 / SUCCESS: 129 / TOTAL: 999 / ELAPSED TIME: 16.3 s / ETA: 16.3 s\n",
      "DATA_PATH: /home/rnb/Projects/rnb-planning/data/test-hoof/panda/20210611-150331/00015.pkl\n",
      "GRL: 150 / SUCCESS: 129 / TOTAL: 1000 / ELAPSED TIME: 16.3 s / ETA: 16.3 s\n"
     ]
    }
   ],
   "source": [
    "\n",
    "            \n",
    "        for i_s, sample in enumerate(samples):\n",
    "            obj_name, from_state, to_state, redundancy_dict, \\\n",
    "                success_kin_, success_reach_, success_retrieve_, \\\n",
    "                Traj_kin_, Traj_reach_, Traj_retrieve_, \\\n",
    "                time_kin_, time_reach_, time_retrieve_ = sample\n",
    "            \n",
    "            obj, obj_arg = DummyObject(), obj_args[obj_name]\n",
    "            obj.name = obj_name\n",
    "            obj.GRIP_DEPTH = obj_arg[\"GRIP_DEPTH\"]\n",
    "            obj.DIM = obj_arg[\"DIM\"]\n",
    "            obj.geometry = gscene.NAME_DICT[obj_arg[\"gname\"]]\n",
    "            obj_pscene, handles = add_object(pscene, obj)\n",
    "            \n",
    "            gscene.update()\n",
    "#             g_checker.update_gscene(only_self_collision=True)\n",
    "#             gr_checker.update_gscene(only_self_collision=True)\n",
    "#             grl_checker.update_gscene(only_self_collision=True)\n",
    "                            \n",
    "            pscene.set_object_state(from_state)\n",
    "\n",
    "            with gtimer.block(\"Grasp\"):\n",
    "                success_g = \\\n",
    "                    g_checker.plan_transition(from_state=from_state, to_state=to_state, redundancy_dict=redundancy_dict, \n",
    "                                               test_filters_only=True, timeout=TIMEOUT_SELF)\n",
    "\n",
    "            with gtimer.block(\"GraspReach\"):\n",
    "                success_gr = \\\n",
    "                    gr_checker.plan_transition(from_state=from_state, to_state=to_state, redundancy_dict=redundancy_dict, \n",
    "                                               test_filters_only=True, timeout=TIMEOUT_SELF)\n",
    "\n",
    "            with gtimer.block(\"GRL\"):\n",
    "                success_grl = \\\n",
    "                    grl_checker.plan_transition(from_state=from_state, to_state=to_state, redundancy_dict=redundancy_dict, \n",
    "                                               test_filters_only=True, timeout=TIMEOUT_SELF)\n",
    "\n",
    "            labels.append(success_retrieve_)\n",
    "            g_results.append(success_g)\n",
    "            gr_results.append(success_gr)\n",
    "            grl_results.append(success_grl)\n",
    "                \n",
    "            pscene.set_object_state(from_state)\n",
    "            pscene.remove_subject(obj_pscene.oname)\n",
    "            for handle in handles:\n",
    "                gscene.remove(handle)  \n",
    "            gscene.update_markers_all()  \n",
    "            N_tot += 1\n",
    "            N_suc += success_retrieve_\n",
    "            if N_tot>=N_MAX:\n",
    "                break\n",
    "        print(\"GRL: {} / SUCCESS: {} / TOTAL: {} / ELAPSED TIME: {} s / ETA: {} s\".format(\n",
    "            np.sum(grl_results), N_suc, N_tot, *np.round(np.array(gtimer.eta(\"full_loop\", N_tot, N_MAX))/1000, 1)))\n",
    "        if N_tot>=N_MAX:\n",
    "            break\n",
    "    if N_tot>=N_MAX:\n",
    "        break"
   ]
  },
  {
   "cell_type": "code",
   "execution_count": 15,
   "metadata": {
    "scrolled": true
   },
   "outputs": [
    {
     "name": "stdout",
     "output_type": "stream",
     "text": [
      "full_loop: \t1548893.5 ms/200 = 7744.5 ms (20.464/16322.285)\n",
      "Grasp: \t2218.4 ms/1000 = 2.2 ms (0.972/7.676)\n",
      "GraspReach: \t2433.6 ms/1000 = 2.4 ms (1.075/8.063)\n",
      "GRL: \t9532.3 ms/1000 = 9.5 ms (1.059/84.022)\n",
      "\n",
      "\n",
      "=========== GraspChecker ==============\n",
      "\t PP \t \t PN \t \t 1000\n",
      "GP \t 129 \t \t 0 \t \t 100.00%\n",
      "GN \t 506 \t \t 365 \t 41.91%\n",
      "AL \t 20.31% \t 100.00% \t 49.40%\n",
      "\n",
      "=========== GraspReacher ==============\n",
      "\t PP \t \t PN \t \t 1000\n",
      "GP \t 127 \t \t 2 \t \t 98.45%\n",
      "GN \t 33 \t \t 838 \t 96.21%\n",
      "AL \t 79.38% \t 99.76% \t 96.50%\n",
      "\n",
      "=========== TotalChecker ==============\n",
      "\t PP \t \t PN \t \t 1000\n",
      "GP \t 125 \t \t 4 \t \t 96.90%\n",
      "GN \t 25 \t \t 846 \t 97.13%\n",
      "AL \t 83.33% \t 99.53% \t 97.10%\n"
     ]
    }
   ],
   "source": [
    "print(gtimer)\n",
    "print(\"\")\n",
    "print(\"=========== GraspChecker ==============\")\n",
    "print_confusion_mat(GT=labels, Res=g_results)\n",
    "print(\"\")\n",
    "print(\"=========== GraspReacher ==============\")\n",
    "print_confusion_mat(GT=labels, Res=gr_results)\n",
    "print(\"\")\n",
    "print(\"=========== TotalChecker ==============\")\n",
    "print_confusion_mat(GT=labels, Res=grl_results)"
   ]
  },
  {
   "cell_type": "code",
   "execution_count": null,
   "metadata": {},
   "outputs": [],
   "source": []
  },
  {
   "cell_type": "markdown",
   "metadata": {},
   "source": [
    "# Panda\n",
    "```\n",
    "=========== GraspChecker ==============\n",
    "\t PP \t \t PN \t \t 1000\n",
    "GP \t 129 \t \t 0 \t \t 100.00%\n",
    "GN \t 506 \t \t 365 \t 41.91%\n",
    "AL \t 20.31% \t 100.00% \t 49.40%\n",
    "\n",
    "=========== GraspReacher ==============\n",
    "\t PP \t \t PN \t \t 1000\n",
    "GP \t 127 \t \t 2 \t \t 98.45%\n",
    "GN \t 33 \t \t 838 \t 96.21%\n",
    "AL \t 79.38% \t 99.76% \t 96.50%\n",
    "\n",
    "=========== TotalChecker ==============\n",
    "\t PP \t \t PN \t \t 1000\n",
    "GP \t 125 \t \t 4 \t \t 96.90%\n",
    "GN \t 25 \t \t 846 \t 97.13%\n",
    "AL \t 83.33% \t 99.53% \t 97.10%\n",
    "```"
   ]
  },
  {
   "cell_type": "code",
   "execution_count": null,
   "metadata": {},
   "outputs": [],
   "source": []
  },
  {
   "cell_type": "code",
   "execution_count": null,
   "metadata": {},
   "outputs": [],
   "source": []
  }
 ],
 "metadata": {
  "kernelspec": {
   "display_name": "Python 2",
   "language": "python",
   "name": "python2"
  },
  "language_info": {
   "codemirror_mode": {
    "name": "ipython",
    "version": 2
   },
   "file_extension": ".py",
   "mimetype": "text/x-python",
   "name": "python",
   "nbconvert_exporter": "python",
   "pygments_lexer": "ipython2",
   "version": "2.7.17"
  }
 },
 "nbformat": 4,
 "nbformat_minor": 2
}
