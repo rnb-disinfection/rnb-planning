{
 "cells": [
  {
   "cell_type": "code",
   "execution_count": null,
   "metadata": {},
   "outputs": [],
   "source": [
    "import os\n",
    "import shutil\n",
    "import random\n",
    "PROJ_DIR = os.environ[\"RNB_PLANNING_DIR\"]\n",
    "os.chdir(os.path.join(PROJ_DIR, \"src\"))\n",
    "\n",
    "from pkg.utils.utils import *\n",
    "from pkg.planning.filtering.lattice_model.data_utils import *\n",
    "\n",
    "DATA_PATH = os.path.join(PROJ_DIR, \"data\")\n",
    "LAT_DATA_PATH = os.path.join(DATA_PATH, \"latticized\")\n",
    "MODEL_PATH = os.path.join(PROJ_DIR, \"model\")\n",
    "LAT_MODEL_PATH = os.path.join(MODEL_PATH,\"latticized\")\n",
    "try_mkdir(MODEL_PATH)\n",
    "try_mkdir(LAT_MODEL_PATH)\n",
    "GRASP_FOLDER = \"grasp\"\n",
    "ARM10_FOLDER = \"arm_10\"\n",
    "ARM05_FOLDER = \"arm_05\"\n",
    "FULLS_FOLDER = \"full_scene\"\n",
    "GSCENE_FOLDER = \"gscene\"\n",
    "\n",
    "VISUALIZE = False"
   ]
  },
  {
   "cell_type": "code",
   "execution_count": null,
   "metadata": {},
   "outputs": [],
   "source": [
    "ROBOT_TYPE_NAME=\"indy7gripper\"\n",
    "ROBOT_DATA_ROOT = os.path.join(LAT_DATA_PATH, ROBOT_TYPE_NAME)\n",
    "ROBOT_DATA_ROOT_FAILMORE = ROBOT_DATA_ROOT+\"-failmore\"\n",
    "ROBOT_MODEL_ROOT =  os.path.join(LAT_MODEL_PATH, ROBOT_TYPE_NAME)"
   ]
  },
  {
   "cell_type": "code",
   "execution_count": null,
   "metadata": {},
   "outputs": [],
   "source": [
    "dataset_list = sorted(os.listdir(ROBOT_DATA_ROOT))\n",
    "DATASET_TRAIN_FILTERED = dataset_list[:10]\n",
    "DATASET_TEST_FILTERED = dataset_list[10:15]\n",
    "print(DATASET_TRAIN_FILTERED)\n",
    "print(DATASET_TEST_FILTERED)\n",
    "\n",
    "dataset_list_fails = sorted([folder for folder \n",
    "                             in os.listdir(ROBOT_DATA_ROOT_FAILMORE) \n",
    "                             if not folder.startswith(\".\")])\n",
    "DATASET_TRAIN_FAILMORE = dataset_list_fails[:10]\n",
    "DATASET_TEST_FAILMORE = dataset_list_fails[10:15]\n",
    "print(DATASET_TRAIN_FAILMORE)\n",
    "print(DATASET_TEST_FAILMORE)"
   ]
  },
  {
   "cell_type": "code",
   "execution_count": null,
   "metadata": {},
   "outputs": [],
   "source": [
    "DATA_ROOT = ROBOT_DATA_ROOT\n",
    "DATASET = DATASET_TRAIN_FILTERED\n",
    "\n",
    "def get_data_pairs(data_root, datasets):\n",
    "    data_pairs = []\n",
    "    for dataset in datasets:\n",
    "        file_list = sorted(os.listdir(os.path.join(data_root, dataset, GRASP_FOLDER)))\n",
    "        for file in file_list:\n",
    "            data_pairs.append(\n",
    "                (os.path.join(data_root, dataset, GRASP_FOLDER, file), \n",
    "                 os.path.join(data_root, dataset, ARM10_FOLDER, file), \n",
    "                 os.path.join(data_root, dataset, ARM05_FOLDER, file), \n",
    "                 os.path.join(data_root, dataset, FULLS_FOLDER, file), \n",
    "                 os.path.join(data_root, dataset, GSCENE_FOLDER, file)))\n",
    "    return data_pairs"
   ]
  },
  {
   "cell_type": "code",
   "execution_count": null,
   "metadata": {},
   "outputs": [],
   "source": [
    "data_pairs_train_filtered = get_data_pairs(ROBOT_DATA_ROOT, DATASET_TRAIN_FILTERED)\n",
    "print(\"train set: {}\".format(len(data_pairs_train_filtered)))\n",
    "\n",
    "data_pairs_test_filtered = get_data_pairs(ROBOT_DATA_ROOT, DATASET_TEST_FILTERED)\n",
    "print(\"test set: {}\".format(len(data_pairs_test_filtered)))\n",
    "\n",
    "data_pairs_train_failmore = get_data_pairs(ROBOT_DATA_ROOT_FAILMORE, DATASET_TRAIN_FAILMORE)\n",
    "print(\"train fail set: {}\".format(len(data_pairs_train_failmore)))\n",
    "\n",
    "data_pairs_test_failmore = get_data_pairs(ROBOT_DATA_ROOT_FAILMORE, DATASET_TEST_FAILMORE)\n",
    "print(\"test fail set: {}\".format(len(data_pairs_test_failmore)))"
   ]
  },
  {
   "cell_type": "code",
   "execution_count": null,
   "metadata": {},
   "outputs": [],
   "source": []
  },
  {
   "cell_type": "code",
   "execution_count": null,
   "metadata": {},
   "outputs": [],
   "source": [
    "from pkg.planning.filtering.lattice_model.latticizer_py import *\n",
    "from pkg.planning.constraint.constraint_common import *\n",
    "import itertools\n",
    "\n",
    "ltc_full = Latticizer_py(WDH=(3, 3, 3), L_CELL=0.05, OFFSET_ZERO=(1.5, 1.5, 1.5))\n",
    "ltc_effector = Latticizer_py(WDH=(1, 1, 1), L_CELL=0.05, OFFSET_ZERO=(0.5, 0.5, 0.5))\n",
    "ltc_arm_05 = Latticizer_py(WDH=(2, 2, 2), L_CELL=0.05, OFFSET_ZERO=(0.5, 1.0, 1.0))\n",
    "ltc_arm_10 = Latticizer_py(WDH=(2, 2, 2), L_CELL=0.10, OFFSET_ZERO=(0.5, 1.0, 1.0))\n"
   ]
  },
  {
   "cell_type": "code",
   "execution_count": null,
   "metadata": {
    "scrolled": true
   },
   "outputs": [],
   "source": [
    "from pkg.utils.test_scripts import *\n",
    "\n",
    "ROBOT_TYPE = {e.name: e for e in RobotType}[ROBOT_TYPE_NAME]\n",
    "ROBOT_NAME, TOOL_LINK, TOOL_XYZ, TOOL_RPY, HOME_POSE, GRIP_DEPTH = get_single_robot_params(ROBOT_TYPE)\n",
    "s_builder, pscene = prepare_single_robot_scene(ROBOT_TYPE, ROBOT_NAME, TOOL_LINK, TOOL_XYZ, TOOL_RPY, VISUALIZE=VISUALIZE)\n",
    "crob, gscene = pscene.combined_robot, pscene.gscene\n",
    "crob.home_pose = HOME_POSE\n",
    "crob.home_dict = list2dict(HOME_POSE, gscene.joint_names)\n",
    "HOME_DICT = crob.home_dict\n",
    "shoulder_link = gscene.urdf_content.joint_map[gscene.joint_names[1]].child\n",
    "shoulder_height = get_tf(shoulder_link, HOME_DICT, gscene.urdf_content)[2,3]\n",
    "gtems_robot = s_builder.add_robot_geometries(color=(0,1,0,0.5), display=True, collision=True)\n",
    "\n",
    "\n",
    "from pkg.planning.filtering.grasp_filter import GraspChecker\n",
    "gcheck = GraspChecker(pscene)"
   ]
  },
  {
   "cell_type": "code",
   "execution_count": null,
   "metadata": {},
   "outputs": [],
   "source": [
    "for data_pairs in [data_pairs_train_filtered, data_pairs_test_filtered, data_pairs_train_failmore, data_pairs_test_failmore]:\n",
    "    for data_pair in data_pairs:\n",
    "        grasp_file, arm10_file, arm5_file, fscene_file, gscene_file =data_pair\n",
    "        print(\"======== {} ========\".format(gscene_file))\n",
    "        grasp_dict_load = load_pickle(grasp_file)\n",
    "        arm10_dict_load = load_pickle(arm10_file)\n",
    "        arm05_dict_load = load_pickle(arm5_file)\n",
    "        fscene_dict_load = load_pickle(fscene_file)\n",
    "        scene_dat = load_pickle(gscene_file)\n",
    "        T_loal = scene_dat[\"T_loal\"]\n",
    "        pscene.clear_subjects()\n",
    "        gscene.clear_non_fixed()\n",
    "        gscene.clear_link(\"base_link\")\n",
    "        initial_state = load_saved_scene(pscene, gscene_file, VISUALIZE=VISUALIZE, \n",
    "                                         GRIP_DEPTH=GRIP_DEPTH, CLEARANCE = 1e-3)\n",
    "\n",
    "        success_reach, success_retrieve = grasp_dict_load[\"reach\"], grasp_dict_load[\"retrieve\"]\n",
    "        time_reach, success_retrieve = grasp_dict_load[\"reach_time\"], grasp_dict_load[\"retrieve_time\"]\n",
    "\n",
    "        grasp_dict = {}\n",
    "        arm_05_dict = {}\n",
    "        arm_10_dict = {}\n",
    "        full_scene_dict = {}\n",
    "        ltc_effector.clear()\n",
    "        ltc_arm_05.clear()\n",
    "        ltc_arm_10.clear()\n",
    "        ltc_full.clear()\n",
    "\n",
    "        ##################################################\n",
    "        ################ CHECK REGENERATION ################\n",
    "\n",
    "        actor = pscene.actor_dict['grip0']\n",
    "        actor.redundancy['w'] = (-np.deg2rad(45), np.deg2rad(45))# default redundancy changed\n",
    "        T_ba = np.matmul(T_loal, actor.Toff_lh)\n",
    "        obj, handle = find_match(pscene, actor, T_ba, crob.home_dict)\n",
    "\n",
    "        actor_vertinfo_list, object_vertinfo_list, actor_Tinv_dict, object_Tinv_dict = \\\n",
    "                                            gcheck.get_grasping_vert_infos(actor, obj, T_loal, HOME_DICT)\n",
    "\n",
    "        if all([ROBOT_NAME in lname for lname in actor_Tinv_dict.keys()]):\n",
    "            tool_Tinv_dict = actor_Tinv_dict\n",
    "            tool_vertinfo_list = actor_vertinfo_list\n",
    "            target_vertinfo_list = object_vertinfo_list\n",
    "            T_end_effector = T_loal\n",
    "        elif all([ROBOT_NAME in lname for lname in object_Tinv_dict.keys()]):\n",
    "            tool_Tinv_dict = object_Tinv_dict\n",
    "            tool_vertinfo_list = object_vertinfo_list\n",
    "            target_vertinfo_list = actor_vertinfo_list\n",
    "            T_end_effector = SE3_inv(T_loal)\n",
    "        else:\n",
    "            raise(\"Invaild TOOL_LINK_BUNDLE\")\n",
    "        T_end_joint = T_end_effector\n",
    "\n",
    "        r, th, h = cart2cyl(*T_end_effector[:3,3])\n",
    "        Tref = SE3(Rot_axis(3, th), T_end_effector[:3,3])\n",
    "        Tref_base = SE3(Tref[:3,:3], (0, 0, shoulder_height))\n",
    "        \n",
    "#         obj_names = [obj.geometry.name] + obj.geometry.children\n",
    "#         target_names= [item[0] for item in target_vertinfo_list if item[0] not in obj_names]\n",
    "#         tool_names = [item[0] for item in tool_vertinfo_list]\n",
    "\n",
    "#         ltc_effector.convert_vertices(tool_vertinfo_list, Tref=Tref)\n",
    "#         ltc_effector.convert_vertices(target_vertinfo_list, Tref=Tref)\n",
    "#         ltc_arm_05.convert([gtem for gtem in gscene if gtem.collision and gtem not in gtems_robot], HOME_DICT, Tref=Tref_base)\n",
    "#         ltc_arm_10.convert([gtem for gtem in gscene if gtem.collision and gtem not in gtems_robot], HOME_DICT, Tref=Tref_base)\n",
    "#         ltc_full.convert([gtem for gtem in gscene if gtem.collision and gtem not in gtems_robot], HOME_DICT, Tref=Tref_base)\n",
    "#         ltc_full.convert_vertices(actor_vertinfo_list, Tref=Tref_base)\n",
    "\n",
    "#         grasp_dict[\"tar\"] = sorted(set(itertools.chain(*[ltc_effector.coll_idx_dict[tname] for tname in target_names if tname in ltc_effector.coll_idx_dict])))\n",
    "#         grasp_dict[\"tool\"] = sorted(set(itertools.chain(*[ltc_effector.coll_idx_dict[tname] for tname in tool_names if tname in ltc_effector.coll_idx_dict])))\n",
    "#         grasp_dict[\"obj\"] = sorted(set(itertools.chain(*[ltc_effector.coll_idx_dict[tname] for tname in obj_names if tname in ltc_effector.coll_idx_dict])))\n",
    "#         grasp_dict[\"T_end_effector\"], grasp_dict[\"T_end_joint\"], grasp_dict[\"Tref_base\"]  = T_end_effector, T_end_joint, Tref_base\n",
    "#         grasp_dict[\"reach\"], grasp_dict[\"retrieve\"] = success_reach, success_retrieve\n",
    "#         grasp_dict[\"reach_time\"], grasp_dict[\"retrieve_time\"] = time_reach, success_retrieve\n",
    "\n",
    "#         arm_05_dict[\"tar\"] = sorted(set(itertools.chain(*[ltc_arm_05.coll_idx_dict[tname] for tname in target_names if tname in ltc_arm_05.coll_idx_dict])))\n",
    "#         arm_05_dict[\"tool\"] = sorted(set(itertools.chain(*[ltc_arm_05.coll_idx_dict[tname] for tname in tool_names if tname in ltc_arm_05.coll_idx_dict])))\n",
    "#         arm_05_dict[\"T_end_effector\"], arm_05_dict[\"T_end_joint\"], arm_05_dict[\"Tref_base\"] = T_end_effector, T_end_joint, Tref_base\n",
    "#         arm_05_dict[\"reach\"], arm_05_dict[\"retrieve\"] = success_reach, success_retrieve\n",
    "\n",
    "#         arm_10_dict[\"tar\"] = sorted(set(itertools.chain(*[ltc_arm_10.coll_idx_dict[tname] for tname in target_names if tname in ltc_arm_10.coll_idx_dict])))\n",
    "#         arm_10_dict[\"tool\"] = sorted(set(itertools.chain(*[ltc_arm_10.coll_idx_dict[tname] for tname in tool_names if tname in ltc_arm_10.coll_idx_dict])))\n",
    "#         arm_10_dict[\"T_end_effector\"], arm_10_dict[\"T_end_joint\"], arm_10_dict[\"Tref_base\"] = T_end_effector, T_end_joint, Tref_base\n",
    "#         arm_10_dict[\"reach\"], arm_10_dict[\"retrieve\"] = success_reach, success_retrieve\n",
    "\n",
    "#         full_scene_dict[\"tar\"] = sorted(set(itertools.chain(*[ltc_full.coll_idx_dict[tname] for tname in target_names if tname in ltc_full.coll_idx_dict])))\n",
    "#         full_scene_dict[\"tool\"] = sorted(set(itertools.chain(*[ltc_full.coll_idx_dict[tname] for tname in tool_names if tname in ltc_full.coll_idx_dict])))\n",
    "#         full_scene_dict[\"obj\"] = sorted(set(itertools.chain(*[ltc_full.coll_idx_dict[tname] for tname in obj_names if tname in ltc_full.coll_idx_dict])))\n",
    "#         full_scene_dict[\"T_end_effector\"], full_scene_dict[\"T_end_joint\"], full_scene_dict[\"Tref_base\"] = T_end_effector, T_end_joint, Tref_base\n",
    "#         full_scene_dict[\"reach\"], full_scene_dict[\"retrieve\"] = success_reach, success_retrieve\n",
    "\n",
    "#         assert compare_dict(grasp_dict_load,grasp_dict)\n",
    "#         assert compare_dict(arm05_dict_load,arm_05_dict)\n",
    "#         assert compare_dict(arm10_dict_load,arm_10_dict)\n",
    "#         assert compare_dict(fscene_dict_load,full_scene_dict)\n",
    "\n",
    "        ################ CHECK REGENERATION ################\n",
    "        ##################################################\n",
    "\n",
    "        ##################################################\n",
    "        ################## MAKE NEW DATA ##################\n",
    "\n",
    "        (object_geo_list, object_T2end_dict), (actor_geo_list, actor_T2end_dict) = \\\n",
    "                        gcheck.get_geolist_tflist_pairs(actor, obj, HOME_DICT)\n",
    "\n",
    "        (object_geo_list, object_T2end_dict), (actor_geo_list, actor_T2end_dict) = \\\n",
    "                        gcheck.get_geolist_tflist_pairs(actor, obj, HOME_DICT)\n",
    "\n",
    "\n",
    "        obj_names = obj.geometry.get_family()\n",
    "\n",
    "        group_name = ROBOT_NAME\n",
    "        T_br = gscene.get_tf(crob.get_robot_base_dict()[group_name], Q=crob.home_dict,\n",
    "                             from_link=obj.geometry.link_name)\n",
    "        T_re = np.matmul(SE3_inv(T_br), T_loal)\n",
    "        T_tool_to_rob = T_re\n",
    "        tool_geo_list, tool_T2end_dict = actor_geo_list, actor_T2end_dict\n",
    "        T_tar_to_rob = SE3_inv(T_br)\n",
    "        target_geo_list, target_T2end_dict = object_geo_list, object_T2end_dict\n",
    "\n",
    "        grasp_dict = {}\n",
    "        arm_05_dict = {}\n",
    "        arm_10_dict = {}\n",
    "        full_scene_dict = {}\n",
    "        ltc_effector.clear()\n",
    "        ltc_arm_05.clear()\n",
    "        ltc_arm_10.clear()\n",
    "        ltc_full.clear()\n",
    "\n",
    "        r, th, h = cart2cyl(*T_tool_to_rob[:3, 3])\n",
    "        T_rl = SE3(Rot_axis(3, th), T_re[:3, 3])  # in robot base link coordinate\n",
    "        target_names = [gtem.name for gtem in target_geo_list if gtem.name not in obj_names]\n",
    "        tool_names = [gtem.name for gtem in tool_geo_list]\n",
    "\n",
    "        ## Convert effector\n",
    "        T_gl_list = []\n",
    "        gtem_list = target_geo_list + tool_geo_list\n",
    "        for gtem in gtem_list:\n",
    "            if gtem.link_name in tool_T2end_dict:\n",
    "                T_rg = matmul_series(T_tool_to_rob, tool_T2end_dict[gtem.link_name], gtem.Toff)\n",
    "            else:\n",
    "                T_rg = matmul_series(T_tar_to_rob, target_T2end_dict[gtem.link_name], gtem.Toff)\n",
    "            T_lg = np.matmul(SE3_inv(T_rl), T_rg)\n",
    "            T_gl = SE3_inv(T_lg)\n",
    "            T_gl_list.append(T_gl)\n",
    "\n",
    "        ltc_effector.convert_vertices_approx(gtem_list, T_gl_list)\n",
    "\n",
    "        ## Convert env\n",
    "        link_env = [lname for lname in gscene.link_names\n",
    "                    if lname not in pscene.robot_chain_dict[group_name][\"link_names\"]]\n",
    "        gtems_env = [gtem for gtem in gscene\n",
    "                     if gtem.collision and gtem.link_name in link_env]\n",
    "        Trl_base = SE3(T_rl[:3, :3], (0, 0, shoulder_height))  # in robot base link coordinate\n",
    "        T_bl = np.matmul(T_br, Trl_base)\n",
    "        T_lb = SE3_inv(T_bl)\n",
    "        Tlist_env = {lname: gscene.get_tf(lname, crob.home_dict) for lname in link_env}\n",
    "        T_gl_list_env = []\n",
    "        for gtem in gtems_env:\n",
    "            T_lg = matmul_series(T_lb, Tlist_env[gtem.link_name], gtem.Toff)\n",
    "            T_gl = SE3_inv(T_lg)\n",
    "            T_gl_list_env.append(T_gl)\n",
    "        ltc_arm_05.convert_vertices_approx(gtems_env, T_gl_list_env)\n",
    "        ltc_arm_10.convert_vertices_approx(gtems_env, T_gl_list_env)\n",
    "\n",
    "        T_gl_list_tool = []\n",
    "        for gtem in tool_geo_list:\n",
    "            T_rg = matmul_series(T_tool_to_rob, tool_T2end_dict[gtem.link_name], gtem.Toff)\n",
    "            T_lg = matmul_series(T_lb, T_br, T_rg)\n",
    "            T_gl = SE3_inv(T_lg)\n",
    "            T_gl_list_tool.append(T_gl)\n",
    "        ltc_full.convert_vertices_approx(gtems_env, T_gl_list_env)\n",
    "        ltc_full.convert_vertices_approx(tool_geo_list, T_gl_list_tool)\n",
    "\n",
    "        grasp_dict[\"tar\"] = sorted(set(itertools.chain(*[ltc_effector.coll_idx_dict[tname] for tname in target_names if tname in ltc_effector.coll_idx_dict])))\n",
    "        grasp_dict[\"tool\"] = sorted(set(itertools.chain(*[ltc_effector.coll_idx_dict[tname] for tname in tool_names if tname in ltc_effector.coll_idx_dict])))\n",
    "        grasp_dict[\"obj\"] = sorted(set(itertools.chain(*[ltc_effector.coll_idx_dict[tname] for tname in obj_names if tname in ltc_effector.coll_idx_dict])))\n",
    "        grasp_dict[\"T_end_effector\"], grasp_dict[\"T_end_joint\"], grasp_dict[\"Tref_base\"]  = T_loal, T_end_joint, Tref_base\n",
    "        grasp_dict[\"reach\"], grasp_dict[\"retrieve\"] = success_reach, success_retrieve\n",
    "        grasp_dict[\"reach_time\"], grasp_dict[\"retrieve_time\"] = time_reach, success_retrieve\n",
    "\n",
    "        arm_05_dict[\"tar\"] = sorted(set(itertools.chain(*[ltc_arm_05.coll_idx_dict[tname] for tname in target_names if tname in ltc_arm_05.coll_idx_dict])))\n",
    "        arm_05_dict[\"tool\"] = sorted(set(itertools.chain(*[ltc_arm_05.coll_idx_dict[tname] for tname in tool_names if tname in ltc_arm_05.coll_idx_dict])))\n",
    "        arm_05_dict[\"T_end_effector\"], arm_05_dict[\"T_end_joint\"], arm_05_dict[\"Tref_base\"] = T_loal, T_end_joint, Tref_base\n",
    "        arm_05_dict[\"reach\"], arm_05_dict[\"retrieve\"] = success_reach, success_retrieve\n",
    "\n",
    "        arm_10_dict[\"tar\"] = sorted(set(itertools.chain(*[ltc_arm_10.coll_idx_dict[tname] for tname in target_names if tname in ltc_arm_10.coll_idx_dict])))\n",
    "        arm_10_dict[\"tool\"] = sorted(set(itertools.chain(*[ltc_arm_10.coll_idx_dict[tname] for tname in tool_names if tname in ltc_arm_10.coll_idx_dict])))\n",
    "        arm_10_dict[\"T_end_effector\"], arm_10_dict[\"T_end_joint\"], arm_10_dict[\"Tref_base\"] = T_loal, T_end_joint, Tref_base\n",
    "        arm_10_dict[\"reach\"], arm_10_dict[\"retrieve\"] = success_reach, success_retrieve\n",
    "\n",
    "        full_scene_dict[\"tar\"] = sorted(set(itertools.chain(*[ltc_full.coll_idx_dict[tname] for tname in target_names if tname in ltc_full.coll_idx_dict])))\n",
    "        full_scene_dict[\"tool\"] = sorted(set(itertools.chain(*[ltc_full.coll_idx_dict[tname] for tname in tool_names if tname in ltc_full.coll_idx_dict])))\n",
    "        full_scene_dict[\"obj\"] = sorted(set(itertools.chain(*[ltc_full.coll_idx_dict[tname] for tname in obj_names if tname in ltc_full.coll_idx_dict])))\n",
    "        full_scene_dict[\"T_end_effector\"], full_scene_dict[\"T_end_joint\"], full_scene_dict[\"Tref_base\"] = T_loal, T_end_joint, Tref_base\n",
    "        full_scene_dict[\"reach\"], full_scene_dict[\"retrieve\"] = success_reach, success_retrieve\n",
    "\n",
    "        save_pickle(grasp_file, grasp_dict)\n",
    "        save_pickle(arm5_file, arm_05_dict)\n",
    "        save_pickle(arm10_file, arm_10_dict)\n",
    "        save_pickle(fscene_file, full_scene_dict)\n",
    "        ################## MAKE NEW DATA ##################\n",
    "        ##################################################"
   ]
  },
  {
   "cell_type": "code",
   "execution_count": null,
   "metadata": {},
   "outputs": [],
   "source": []
  },
  {
   "cell_type": "markdown",
   "metadata": {},
   "source": [
    "### debugging"
   ]
  },
  {
   "cell_type": "code",
   "execution_count": null,
   "metadata": {},
   "outputs": [],
   "source": [
    "find_match(pscene, actor, T_ba, crob.home_dict)"
   ]
  },
  {
   "cell_type": "code",
   "execution_count": null,
   "metadata": {},
   "outputs": [],
   "source": [
    "gscene.clear_highlight()"
   ]
  },
  {
   "cell_type": "code",
   "execution_count": null,
   "metadata": {
    "scrolled": true
   },
   "outputs": [],
   "source": [
    "gscene.add_highlight_axis(\"actor\", \"point\", link_name=\"base_link\", center=T_ba[:3,3], orientation_mat=T_ba[:3,:3])"
   ]
  },
  {
   "cell_type": "code",
   "execution_count": null,
   "metadata": {},
   "outputs": [],
   "source": [
    "obj_0 = pscene.subject_dict['obj_0']\n",
    "handle = obj_0.action_points_dict['obj_0_hdl_tp_a']\n",
    "pscene.add_handle_axis(\"handle\", handle)"
   ]
  },
  {
   "cell_type": "code",
   "execution_count": null,
   "metadata": {},
   "outputs": [],
   "source": [
    "actor.check_type(handle)\n",
    "binder_redundancy = actor.get_redundancy()\n",
    "binder_T = T_ba\n",
    "handle_T = handle.get_tf_handle(crob.home_dict)\n",
    "handle_redundancy = handle.get_redundancy()\n",
    "margin_mat = get_binding_margins(handle_T, binder_T, handle_redundancy, binder_redundancy)"
   ]
  },
  {
   "cell_type": "code",
   "execution_count": null,
   "metadata": {},
   "outputs": [],
   "source": [
    "np.min(margin_mat)"
   ]
  },
  {
   "cell_type": "code",
   "execution_count": null,
   "metadata": {},
   "outputs": [],
   "source": []
  },
  {
   "cell_type": "code",
   "execution_count": null,
   "metadata": {},
   "outputs": [],
   "source": [
    "### Comparing errors"
   ]
  },
  {
   "cell_type": "code",
   "execution_count": null,
   "metadata": {},
   "outputs": [],
   "source": [
    "def compare_idc(name, idc_strict, idc_approx, raise_error=False, allow_ratio=0.1):\n",
    "    diff_inv = list(set(idc_approx) - set(idc_strict))\n",
    "    if len(diff_inv) > 0: \n",
    "        msg = name + \" cell over {} / {}\".format(len(diff_inv), len(idc_strict))\n",
    "        if raise_error:\n",
    "            raise(RuntimeError(msg))\n",
    "        else:\n",
    "            print(msg)\n",
    "            return list(diff_inv)\n",
    "    if len(idc_strict)==0:\n",
    "        return\n",
    "    diff = tuple(np.transpose(sorted(set(idc_strict) - set(idc_approx))))\n",
    "\n",
    "    if float(len(diff))/len(idc_strict) > allow_ratio: \n",
    "        msg =name + \" diff too much {}\".format(round(\n",
    "            float(len(diff))/len(idc_strict), 3))\n",
    "        if raise_error:\n",
    "            raise(RuntimeError(msg))\n",
    "        else:\n",
    "            print(msg)      \n",
    "            return list(diff  )"
   ]
  },
  {
   "cell_type": "code",
   "execution_count": null,
   "metadata": {},
   "outputs": [],
   "source": [
    "compare_idc(\"grasp_tar\", grasp_dict_load['tar'], grasp_dict['tar'])\n",
    "compare_idc(\"grasp_tool\", grasp_dict_load['tool'], grasp_dict['tool'])\n",
    "compare_idc(\"grasp_obj\", grasp_dict_load['obj'], grasp_dict['obj'])\n",
    "\n",
    "diff_idc = compare_idc(\"arm05_tar\", arm05_dict_load['tar'], arm_05_dict['tar'], allow_ratio=0.0)\n",
    "compare_idc(\"arm05_tool\", arm05_dict_load['tool'], arm_05_dict['tool'])\n",
    "\n",
    "diff_idc = compare_idc(\"arm10_tar\", arm10_dict_load['tar'], arm_10_dict['tar'], allow_ratio=0.0)\n",
    "compare_idc(\"arm05_tool\", arm10_dict_load['tool'], arm_10_dict['tool'])\n",
    "\n",
    "diff_idc = compare_idc(\"fscene_tar\", fscene_dict_load['tar'], full_scene_dict['tar'], allow_ratio=0.0)\n",
    "diff_idc = compare_idc(\"fscene_tool\", fscene_dict_load['tool'], full_scene_dict['tool'])\n",
    "compare_idc(\"fscene_obj\", fscene_dict_load['obj'], full_scene_dict['obj'])"
   ]
  },
  {
   "cell_type": "code",
   "execution_count": null,
   "metadata": {},
   "outputs": [],
   "source": [
    "T_loal"
   ]
  },
  {
   "cell_type": "code",
   "execution_count": null,
   "metadata": {},
   "outputs": [],
   "source": [
    "scene_dat = load_pickle(gscene_file)\n",
    "T_loal = scene_dat[\"T_loal\"]\n",
    "        \n",
    "diff_idc = grasp_dict_load['tar']\n",
    "r, th, h = cart2cyl(*T_loal[:3, 3])\n",
    "T_rl = SE3(Rot_axis(3, th), T_re[:3, 3])  # in robot base link coordinate"
   ]
  },
  {
   "cell_type": "code",
   "execution_count": null,
   "metadata": {},
   "outputs": [],
   "source": [
    "ltc_centers = ltc_effector.get_centers().reshape((-1,3))\n",
    "diff_centers = np.matmul(Trl_base[:3,:3], ltc_centers[diff_idc].transpose()).transpose() + Trl_base[:3,3]"
   ]
  },
  {
   "cell_type": "code",
   "execution_count": null,
   "metadata": {},
   "outputs": [],
   "source": [
    "gscene.clear_highlight()"
   ]
  },
  {
   "cell_type": "code",
   "execution_count": null,
   "metadata": {},
   "outputs": [],
   "source": [
    "for i_c, center in enumerate(diff_centers):\n",
    "    gscene.add_highlight_axis(\"diff\", \"{:05}\".format(i_c), link_name=crob.get_robot_base_dict()[ROBOT_NAME], \n",
    "                              center=center, orientation_mat=np.identity(3), axis=None)"
   ]
  },
  {
   "cell_type": "code",
   "execution_count": null,
   "metadata": {},
   "outputs": [],
   "source": []
  },
  {
   "cell_type": "code",
   "execution_count": null,
   "metadata": {},
   "outputs": [],
   "source": []
  },
  {
   "cell_type": "code",
   "execution_count": null,
   "metadata": {},
   "outputs": [],
   "source": []
  }
 ],
 "metadata": {
  "kernelspec": {
   "display_name": "Python 2",
   "language": "python",
   "name": "python2"
  },
  "language_info": {
   "codemirror_mode": {
    "name": "ipython",
    "version": 2
   },
   "file_extension": ".py",
   "mimetype": "text/x-python",
   "name": "python",
   "nbconvert_exporter": "python",
   "pygments_lexer": "ipython2",
   "version": "2.7.17"
  }
 },
 "nbformat": 4,
 "nbformat_minor": 2
}
