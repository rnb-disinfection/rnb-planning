{
 "cells": [
  {
   "cell_type": "code",
   "execution_count": 1,
   "metadata": {},
   "outputs": [],
   "source": [
    "from __future__ import print_function\n",
    "import os\n",
    "os.chdir(os.path.join(os.environ[\"RNB_PLANNING_DIR\"], 'src'))"
   ]
  },
  {
   "cell_type": "code",
   "execution_count": null,
   "metadata": {},
   "outputs": [],
   "source": []
  },
  {
   "cell_type": "markdown",
   "metadata": {},
   "source": [
    "## Reach Trainer"
   ]
  },
  {
   "cell_type": "code",
   "execution_count": 4,
   "metadata": {
    "scrolled": true
   },
   "outputs": [],
   "source": [
    "from pkg.detector.aruco.marker_config import *\n",
    "from pkg.detector.aruco.stereo import ArucoStereo\n",
    "from pkg.detector.camera.realsense import RealSense\n",
    "from pkg.detector.camera.kinect import Kinect\n",
    "from pkg.geometry.builder.scene_builder import SceneBuilder\n",
    "from pkg.planning.filtering.reach_filter import ReachTrainer\n",
    "from pkg.controller.combined_robot import *\n",
    "from pkg.utils.plot_utils import *\n",
    "\n",
    "s_builder = SceneBuilder(None)\n",
    "rtrain = ReachTrainer(scene_builder=s_builder)"
   ]
  },
  {
   "cell_type": "code",
   "execution_count": null,
   "metadata": {},
   "outputs": [],
   "source": []
  },
  {
   "cell_type": "markdown",
   "metadata": {},
   "source": [
    "## Feature Function Candidates"
   ]
  },
  {
   "cell_type": "code",
   "execution_count": 5,
   "metadata": {},
   "outputs": [],
   "source": [
    "def fn_rpy(radius,theta, height, azimuth_loc, zenith, ee_dist, rot_z):\n",
    "    R = np.matmul(hori2mat(theta=0, azimuth_loc=azimuth_loc, zenith=zenith), Rot_axis(3, rot_z))\n",
    "    r,p,y = Rot2rpy(R)\n",
    "    return (radius, theta, height, r,p,y, radius**2, ee_dist, ee_dist**2)\n",
    "\n",
    "def fn_quat(radius,theta, height, azimuth_loc, zenith, ee_dist, rot_z):\n",
    "    R = np.matmul(hori2mat(theta=0, azimuth_loc=azimuth_loc, zenith=zenith), Rot_axis(3, rot_z))\n",
    "    x,y,z,w = Rotation.from_dcm(R).as_quat()\n",
    "    return (radius, theta, height, x,y,z,w, radius**2, ee_dist, ee_dist**2)\n",
    "\n",
    "def fn_rmat(radius,theta, height, azimuth_loc, zenith, ee_dist, rot_z):\n",
    "    R = np.matmul(hori2mat(theta=0, azimuth_loc=azimuth_loc, zenith=zenith), Rot_axis(3, rot_z))\n",
    "    r11, r12, r13, r21, r22, r23, r31, r32, r33 = R.flatten()\n",
    "    return (radius, theta, height, r11, r12, r13, r21, r22, r23, r31, r32, r33, radius**2, ee_dist, ee_dist**2)\n",
    "\n",
    "def fn_zxvec(radius,theta, height, azimuth_loc, zenith, ee_dist, rot_z):\n",
    "    R = np.matmul(hori2mat(theta=0, azimuth_loc=azimuth_loc, zenith=zenith), Rot_axis(3, rot_z))\n",
    "    z1, z2, z3 = R[:,2]\n",
    "    x1, x2, x3 = R[:,0]\n",
    "    return (radius, theta, height, z1, z2, z3, x1, x2, x3, radius**2, ee_dist, ee_dist**2)\n",
    "\n",
    "def fn_pure(radius,theta, height, azimuth_loc, zenith, ee_dist, rot_z):\n",
    "    return (radius, theta, height, azimuth_loc, zenith, ee_dist, rot_z)\n",
    "\n",
    "def fn_re_sq(radius,theta, height, azimuth_loc, zenith, ee_dist, rot_z):\n",
    "    return (radius, theta, height, azimuth_loc, zenith, radius**2, ee_dist, ee_dist**2, rot_z)\n",
    "\n",
    "def fn_re_sq_norot(radius,theta, height, azimuth_loc, zenith, ee_dist, rot_z):\n",
    "    return (radius, theta, height, azimuth_loc, zenith, radius**2, ee_dist, ee_dist**2)\n",
    "\n",
    "def fn_re_sq_xvec(radius,theta, height, azimuth_loc, zenith, ee_dist, rot_z):\n",
    "    R = np.matmul(hori2mat(theta=0, azimuth_loc=azimuth_loc, zenith=zenith), Rot_axis(3, rot_z))\n",
    "    x1, x2, x3 = R[:,0]\n",
    "    return (radius, theta, height, azimuth_loc, zenith, radius**2, ee_dist, ee_dist**2, x1, x2, x3)\n",
    "\n",
    "fn_list = [fn_rpy, fn_quat, fn_rmat, fn_zxvec, fn_pure, fn_re_sq, fn_re_sq_norot, fn_re_sq_xvec]\n"
   ]
  },
  {
   "cell_type": "code",
   "execution_count": 48,
   "metadata": {},
   "outputs": [],
   "source": [
    "from pkg.planning.filtering.reach_filter import T2features, features2T"
   ]
  },
  {
   "cell_type": "code",
   "execution_count": null,
   "metadata": {},
   "outputs": [],
   "source": []
  },
  {
   "cell_type": "code",
   "execution_count": 96,
   "metadata": {},
   "outputs": [
    {
     "data": {
      "text/plain": [
       "7.613049199941332e-08"
      ]
     },
     "execution_count": 96,
     "metadata": {},
     "output_type": "execute_result"
    }
   ],
   "source": [
    "# fn_rpy test\n",
    "for _ in range(100):\n",
    "    Tbe = SE3(Rot_zyx(*np.random.uniform(-np.pi, np.pi, 3)), np.random.uniform(-1,1,3))\n",
    "    ft = T2features(Tbe, 0.3)\n",
    "    radius, theta, height, r,p,y, _, _, _ = fn_rpy(*ft)\n",
    "\n",
    "    pos = cyl2cart(radius, theta, height)\n",
    "    R = np.matmul(Rot_axis(3, theta), Rot_rpy((r,p,y)))\n",
    "    Tn = SE3(R, pos)\n",
    "    \n",
    "    assert np.linalg.norm(np.matmul(SE3_inv(Tbe), Tn) - np.identity(4)) < 1e-5, \"feature not perfect\"\n",
    "np.linalg.norm(np.matmul(SE3_inv(Tbe), Tn) - np.identity(4))"
   ]
  },
  {
   "cell_type": "code",
   "execution_count": 40,
   "metadata": {},
   "outputs": [
    {
     "data": {
      "text/plain": [
       "7.048597766801884e-08"
      ]
     },
     "execution_count": 40,
     "metadata": {},
     "output_type": "execute_result"
    }
   ],
   "source": [
    "# fn_quat test\n",
    "for _ in range(100):\n",
    "    Tbe = SE3(Rot_zyx(*np.random.uniform(-np.pi, np.pi, 3)), np.random.uniform(-1,1,3))\n",
    "    ft = T2features(Tbe, 0.3)\n",
    "    radius, theta, height, x,y,z,w, _, _, _ = fn_quat(*ft)\n",
    "\n",
    "    pos = cyl2cart(radius, theta, height)\n",
    "    R = np.matmul(Rot_axis(3, theta), Rotation.from_quat([x,y,z,w]).as_dcm())\n",
    "    Tn = SE3(R, pos)\n",
    "    \n",
    "    assert np.linalg.norm(np.matmul(SE3_inv(Tbe), Tn) - np.identity(4)) < 1e-5, \"feature not perfect\"\n",
    "np.linalg.norm(np.matmul(SE3_inv(Tbe), Tn) - np.identity(4))"
   ]
  },
  {
   "cell_type": "code",
   "execution_count": 45,
   "metadata": {},
   "outputs": [
    {
     "data": {
      "text/plain": [
       "2.2460229553322733e-07"
      ]
     },
     "execution_count": 45,
     "metadata": {},
     "output_type": "execute_result"
    }
   ],
   "source": [
    "# fn_rmat test\n",
    "for _ in range(100):\n",
    "    Tbe = SE3(Rot_zyx(*np.random.uniform(-np.pi, np.pi, 3)), np.random.uniform(-1,1,3))\n",
    "    ft = T2features(Tbe, 0.3)\n",
    "    radius, theta, height, r11, r12, r13, r21, r22, r23, r31, r32, r33, _, _, _ = fn_rmat(*ft)\n",
    "\n",
    "    pos = cyl2cart(radius, theta, height)\n",
    "    R = np.matmul(Rot_axis(3, theta), np.reshape([r11, r12, r13, r21, r22, r23, r31, r32, r33],(3,3)))\n",
    "    Tn = SE3(R, pos)\n",
    "    \n",
    "    assert np.linalg.norm(np.matmul(SE3_inv(Tbe), Tn) - np.identity(4)) < 1e-5, \"feature not perfect\"\n",
    "np.linalg.norm(np.matmul(SE3_inv(Tbe), Tn) - np.identity(4))"
   ]
  },
  {
   "cell_type": "code",
   "execution_count": 49,
   "metadata": {},
   "outputs": [
    {
     "data": {
      "text/plain": [
       "6.444047535513929e-08"
      ]
     },
     "execution_count": 49,
     "metadata": {},
     "output_type": "execute_result"
    }
   ],
   "source": [
    "# fn_pure test\n",
    "for _ in range(100):\n",
    "    Tbe = SE3(Rot_zyx(*np.random.uniform(-np.pi, np.pi, 3)), np.random.uniform(-1,1,3))\n",
    "    ft = T2features(Tbe, 0.3)\n",
    "    radius, theta, height, azimuth_loc, zenith, ee_dist, rot_z = fn_pure(*ft)\n",
    "\n",
    "    Tn = features2T(radius, theta, height, azimuth_loc, zenith, ee_dist, rot_z)\n",
    "    \n",
    "    assert np.linalg.norm(np.matmul(SE3_inv(Tbe), Tn) - np.identity(4)) < 1e-5, \"feature not perfect\"\n",
    "np.linalg.norm(np.matmul(SE3_inv(Tbe), Tn) - np.identity(4))"
   ]
  },
  {
   "cell_type": "code",
   "execution_count": 51,
   "metadata": {},
   "outputs": [
    {
     "data": {
      "text/plain": [
       "8.549028538815462e-08"
      ]
     },
     "execution_count": 51,
     "metadata": {},
     "output_type": "execute_result"
    }
   ],
   "source": [
    "# fn_re_sq test\n",
    "for _ in range(100):\n",
    "    Tbe = SE3(Rot_zyx(*np.random.uniform(-np.pi, np.pi, 3)), np.random.uniform(-1,1,3))\n",
    "    ft = T2features(Tbe, 0.3)\n",
    "    radius, theta, height, azimuth_loc, zenith, radius_2, ee_dist, ee_dist_2, rot_z = fn_re_sq(*ft)\n",
    "\n",
    "    Tn = features2T(radius, theta, height, azimuth_loc, zenith, ee_dist, rot_z)\n",
    "    \n",
    "    assert np.linalg.norm(np.matmul(SE3_inv(Tbe), Tn) - np.identity(4)) < 1e-5, \"feature not perfect\"\n",
    "np.linalg.norm(np.matmul(SE3_inv(Tbe), Tn) - np.identity(4))"
   ]
  },
  {
   "cell_type": "code",
   "execution_count": 99,
   "metadata": {},
   "outputs": [
    {
     "ename": "AssertionError",
     "evalue": "feature not perfect",
     "output_type": "error",
     "traceback": [
      "\u001b[0;31m---------------------------------------------------------------------------\u001b[0m",
      "\u001b[0;31mAssertionError\u001b[0m                            Traceback (most recent call last)",
      "\u001b[0;32m<ipython-input-99-a4cc98a9d557>\u001b[0m in \u001b[0;36m<module>\u001b[0;34m()\u001b[0m\n\u001b[1;32m      7\u001b[0m     \u001b[0mTn\u001b[0m \u001b[0;34m=\u001b[0m \u001b[0mfeatures2T\u001b[0m\u001b[0;34m(\u001b[0m\u001b[0mradius\u001b[0m\u001b[0;34m,\u001b[0m \u001b[0mtheta\u001b[0m\u001b[0;34m,\u001b[0m \u001b[0mheight\u001b[0m\u001b[0;34m,\u001b[0m \u001b[0mazimuth_loc\u001b[0m\u001b[0;34m,\u001b[0m \u001b[0mzenith\u001b[0m\u001b[0;34m,\u001b[0m \u001b[0mee_dist\u001b[0m\u001b[0;34m,\u001b[0m \u001b[0;36m0\u001b[0m\u001b[0;34m)\u001b[0m\u001b[0;34m\u001b[0m\u001b[0m\n\u001b[1;32m      8\u001b[0m \u001b[0;34m\u001b[0m\u001b[0m\n\u001b[0;32m----> 9\u001b[0;31m     \u001b[0;32massert\u001b[0m \u001b[0mnp\u001b[0m\u001b[0;34m.\u001b[0m\u001b[0mlinalg\u001b[0m\u001b[0;34m.\u001b[0m\u001b[0mnorm\u001b[0m\u001b[0;34m(\u001b[0m\u001b[0mnp\u001b[0m\u001b[0;34m.\u001b[0m\u001b[0mmatmul\u001b[0m\u001b[0;34m(\u001b[0m\u001b[0mSE3_inv\u001b[0m\u001b[0;34m(\u001b[0m\u001b[0mTbe\u001b[0m\u001b[0;34m)\u001b[0m\u001b[0;34m,\u001b[0m \u001b[0mTn\u001b[0m\u001b[0;34m)\u001b[0m \u001b[0;34m-\u001b[0m \u001b[0mnp\u001b[0m\u001b[0;34m.\u001b[0m\u001b[0midentity\u001b[0m\u001b[0;34m(\u001b[0m\u001b[0;36m4\u001b[0m\u001b[0;34m)\u001b[0m\u001b[0;34m)\u001b[0m \u001b[0;34m<\u001b[0m \u001b[0;36m1e-5\u001b[0m\u001b[0;34m,\u001b[0m \u001b[0;34m\"feature not perfect\"\u001b[0m\u001b[0;34m\u001b[0m\u001b[0m\n\u001b[0m\u001b[1;32m     10\u001b[0m \u001b[0mnp\u001b[0m\u001b[0;34m.\u001b[0m\u001b[0mlinalg\u001b[0m\u001b[0;34m.\u001b[0m\u001b[0mnorm\u001b[0m\u001b[0;34m(\u001b[0m\u001b[0mnp\u001b[0m\u001b[0;34m.\u001b[0m\u001b[0mmatmul\u001b[0m\u001b[0;34m(\u001b[0m\u001b[0mSE3_inv\u001b[0m\u001b[0;34m(\u001b[0m\u001b[0mTbe\u001b[0m\u001b[0;34m)\u001b[0m\u001b[0;34m,\u001b[0m \u001b[0mTn\u001b[0m\u001b[0;34m)\u001b[0m \u001b[0;34m-\u001b[0m \u001b[0mnp\u001b[0m\u001b[0;34m.\u001b[0m\u001b[0midentity\u001b[0m\u001b[0;34m(\u001b[0m\u001b[0;36m4\u001b[0m\u001b[0;34m)\u001b[0m\u001b[0;34m)\u001b[0m\u001b[0;34m\u001b[0m\u001b[0m\n",
      "\u001b[0;31mAssertionError\u001b[0m: feature not perfect"
     ]
    }
   ],
   "source": [
    "# fn_re_sq_norot test\n",
    "for _ in range(100):\n",
    "    Tbe = SE3(Rot_zyx(*np.random.uniform(-np.pi, np.pi, 3)), np.random.uniform(-1,1,3))\n",
    "    ft = T2features(Tbe, 0.3)\n",
    "    radius, theta, height, azimuth_loc, zenith, radius_2, ee_dist, ee_dist_2 = fn_re_sq_norot(*ft)\n",
    "\n",
    "    Tn = features2T(radius, theta, height, azimuth_loc, zenith, ee_dist, 0)\n",
    "    \n",
    "    assert np.linalg.norm(np.matmul(SE3_inv(Tbe), Tn) - np.identity(4)) < 1e-5, \"feature not perfect\"\n",
    "np.linalg.norm(np.matmul(SE3_inv(Tbe), Tn) - np.identity(4))"
   ]
  },
  {
   "cell_type": "code",
   "execution_count": null,
   "metadata": {},
   "outputs": [],
   "source": []
  },
  {
   "cell_type": "markdown",
   "metadata": {},
   "source": [
    "## Load previous result or initialize dict"
   ]
  },
  {
   "cell_type": "code",
   "execution_count": 68,
   "metadata": {},
   "outputs": [],
   "source": [
    "ROBOT_TYPE = RobotType.panda\n",
    "SAVE_DIR = os.path.join(os.environ[\"RNB_PLANNING_DIR\"], \"data\", \"reach_svm_ft_analysis\")"
   ]
  },
  {
   "cell_type": "code",
   "execution_count": 69,
   "metadata": {},
   "outputs": [
    {
     "name": "stdout",
     "output_type": "stream",
     "text": [
      "=== DATA LOADED ===\n",
      "funcions: ['fn_rpy', 'fn_quat', 'fn_rmat', 'fn_zxvec', 'fn_pure', 'fn_re_sq', 'fn_re_sq_norot', 'fn_re_sq_xvec']\n",
      "C_svm:    [500, 700, 1000, 2000, 4000, 6000, 8000]\n"
     ]
    }
   ],
   "source": [
    "try: \n",
    "    resdat = load_pickle(os.path.join(SAVE_DIR, \"{}.pkl\".format(ROBOT_TYPE.name)))\n",
    "    test_panda_set_dict = resdat[\"test_panda_set_dict\"]\n",
    "    fn_names = resdat[\"fn_names\"]\n",
    "    C_svm_list = resdat[\"C_svm_list\"]\n",
    "    print(\"=== DATA LOADED ===\")\n",
    "    print(\"funcions: {}\".format(fn_names))\n",
    "    print(\"C_svm:    {}\".format(C_svm_list))\n",
    "except:\n",
    "    test_panda_set_dict = {}"
   ]
  },
  {
   "cell_type": "code",
   "execution_count": 70,
   "metadata": {},
   "outputs": [
    {
     "name": "stdout",
     "output_type": "stream",
     "text": [
      "function ok: fn_rpy\n",
      "function ok: fn_quat\n",
      "function ok: fn_rmat\n",
      "function ok: fn_zxvec\n",
      "function ok: fn_pure\n",
      "function ok: fn_re_sq\n",
      "function ok: fn_re_sq_norot\n",
      "function ok: fn_re_sq_xvec\n",
      "function all sane\n"
     ]
    }
   ],
   "source": [
    "samplevec_list_test, success_list_test = rtrain.load_data(ROBOT_TYPE, \"test\")\n",
    "for fn in fn_list:\n",
    "    fn(*samplevec_list_test[0])\n",
    "    print(\"function ok: {}\".format(fn.__name__))\n",
    "print(\"function all sane\")\n",
    "\n",
    "C_svm_list = [500, 700, 1000, 2000, 4000, 6000, 8000]"
   ]
  },
  {
   "cell_type": "code",
   "execution_count": 71,
   "metadata": {
    "scrolled": true
   },
   "outputs": [
    {
     "name": "stdout",
     "output_type": "stream",
     "text": [
      "ALREADY LOADED: fn_rpy - 500\n",
      "ALREADY LOADED: fn_rpy - 700\n",
      "ALREADY LOADED: fn_rpy - 1000\n",
      "ALREADY LOADED: fn_rpy - 2000\n",
      "ALREADY LOADED: fn_rpy - 4000\n",
      "ALREADY LOADED: fn_rpy - 6000\n",
      "ALREADY LOADED: fn_rpy - 8000\n",
      "ALREADY LOADED: fn_quat - 500\n",
      "ALREADY LOADED: fn_quat - 700\n",
      "ALREADY LOADED: fn_quat - 1000\n",
      "ALREADY LOADED: fn_quat - 2000\n",
      "ALREADY LOADED: fn_quat - 4000\n",
      "ALREADY LOADED: fn_quat - 6000\n",
      "ALREADY LOADED: fn_quat - 8000\n",
      "ALREADY LOADED: fn_rmat - 500\n",
      "ALREADY LOADED: fn_rmat - 700\n",
      "ALREADY LOADED: fn_rmat - 1000\n",
      "ALREADY LOADED: fn_rmat - 2000\n",
      "ALREADY LOADED: fn_rmat - 4000\n",
      "ALREADY LOADED: fn_rmat - 6000\n",
      "ALREADY LOADED: fn_rmat - 8000\n",
      "ALREADY LOADED: fn_zxvec - 500\n",
      "ALREADY LOADED: fn_zxvec - 700\n",
      "ALREADY LOADED: fn_zxvec - 1000\n",
      "ALREADY LOADED: fn_zxvec - 2000\n",
      "ALREADY LOADED: fn_zxvec - 4000\n",
      "ALREADY LOADED: fn_zxvec - 6000\n",
      "ALREADY LOADED: fn_zxvec - 8000\n",
      "ALREADY LOADED: fn_pure - 500\n",
      "ALREADY LOADED: fn_pure - 700\n",
      "ALREADY LOADED: fn_pure - 1000\n",
      "ALREADY LOADED: fn_pure - 2000\n",
      "ALREADY LOADED: fn_pure - 4000\n",
      "ALREADY LOADED: fn_pure - 6000\n",
      "ALREADY LOADED: fn_pure - 8000\n",
      "ALREADY LOADED: fn_re_sq - 500\n",
      "ALREADY LOADED: fn_re_sq - 700\n",
      "ALREADY LOADED: fn_re_sq - 1000\n",
      "ALREADY LOADED: fn_re_sq - 2000\n",
      "ALREADY LOADED: fn_re_sq - 4000\n",
      "ALREADY LOADED: fn_re_sq - 6000\n",
      "ALREADY LOADED: fn_re_sq - 8000\n",
      "ALREADY LOADED: fn_re_sq_norot - 500\n",
      "ALREADY LOADED: fn_re_sq_norot - 700\n",
      "ALREADY LOADED: fn_re_sq_norot - 1000\n",
      "ALREADY LOADED: fn_re_sq_norot - 2000\n",
      "ALREADY LOADED: fn_re_sq_norot - 4000\n",
      "ALREADY LOADED: fn_re_sq_norot - 6000\n",
      "ALREADY LOADED: fn_re_sq_norot - 8000\n",
      "ALREADY LOADED: fn_re_sq_xvec - 500\n",
      "ALREADY LOADED: fn_re_sq_xvec - 700\n",
      "ALREADY LOADED: fn_re_sq_xvec - 1000\n",
      "ALREADY LOADED: fn_re_sq_xvec - 2000\n",
      "ALREADY LOADED: fn_re_sq_xvec - 4000\n",
      "ALREADY LOADED: fn_re_sq_xvec - 6000\n",
      "ALREADY LOADED: fn_re_sq_xvec - 8000\n"
     ]
    }
   ],
   "source": [
    "for fn in fn_list:\n",
    "    if fn.__name__ in test_panda_set_dict:\n",
    "        test_panda_set = test_panda_set_dict[fn.__name__]\n",
    "    else:\n",
    "        test_panda_set = {}\n",
    "    for C_svm in C_svm_list:\n",
    "        if str(C_svm) in test_panda_set:\n",
    "            print(\"ALREADY LOADED: {} - {}\".format(fn.__name__, C_svm))\n",
    "            continue\n",
    "        print(\"LEARNING: {} - {}\".format(fn.__name__, C_svm))\n",
    "        test_panda = rtrain.load_and_learn(ROBOT_TYPE, C_svm=C_svm, feature_fn=fn)\n",
    "        test_panda_set[str(C_svm)] = test_panda\n",
    "    test_panda_set_dict[fn.__name__] = test_panda_set"
   ]
  },
  {
   "cell_type": "code",
   "execution_count": 73,
   "metadata": {},
   "outputs": [],
   "source": [
    "fn_names = map(lambda x:x.__name__, fn_list)"
   ]
  },
  {
   "cell_type": "code",
   "execution_count": 80,
   "metadata": {},
   "outputs": [],
   "source": [
    "name_dict = {\"fn_rpy\": \"rpy\", \"fn_quat\": \"quat\", \"fn_rmat\": \"mat\", \"fn_zxvec\": \"zx_vec\", \n",
    "             \"fn_pure\": \"no_square\", \"fn_re_sq\": \"roll\", \"fn_re_sq_norot\": \"proposed\", \"fn_re_sq_xvec\":None}"
   ]
  },
  {
   "cell_type": "code",
   "execution_count": 81,
   "metadata": {},
   "outputs": [],
   "source": [
    "plot_names = []\n",
    "plot_dict = {}\n",
    "for fn_name in fn_names:\n",
    "    plot_name = name_dict[fn_name]\n",
    "    if plot_name is not None:\n",
    "        plot_names.append(plot_name)\n",
    "        plot_dict[plot_name] = test_panda_set_dict[fn_name]\n",
    "        \n",
    "plot_names = [\"no_square\", \"rpy\", \"quat\", \"mat\", \"zx_vec\", \"roll\", \"proposed\"]"
   ]
  },
  {
   "cell_type": "code",
   "execution_count": 83,
   "metadata": {},
   "outputs": [
    {
     "name": "stdout",
     "output_type": "stream",
     "text": [
      "fn:    no_square       rpy      quat       mat    zx_vec      roll  proposed\n",
      "vals:       93.6     93.06     93.98     93.44     94.02      93.9     94.76\n",
      "max: 94.76 - ['proposed']\n"
     ]
    },
    {
     "data": {
      "image/png": "[encoded data removed]",
      "text/plain": [
       "<Figure size 1080x360 with 2 Axes>"
      ]
     },
     "metadata": {
      "needs_background": "light"
     },
     "output_type": "display_data"
    }
   ],
   "source": [
    "\n",
    "plot_maxvals = [max(plot_dict[plot_name].values()) for plot_name in plot_names]\n",
    "plt.figure(figsize=(15,5))\n",
    "plt.subplot(1,3,(1,2))\n",
    "grouped_bar(plot_dict, groups=plot_names, options=map(str,C_svm_list))\n",
    "plt.subplot(1,3,3)\n",
    "plt.bar(plot_names, plot_maxvals)\n",
    "plt.axis([-1, len(plot_names), 92, 95])\n",
    "plt.grid()\n",
    "maxval = np.max(plot_maxvals)\n",
    "idc_max = np.where(np.array(plot_maxvals)==maxval)[0]\n",
    "print(\"fn:   \"+\"\".join([\"{:>10}\".format(fname) for fname in plot_names]))\n",
    "print(\"vals: \"+\"\".join([\"{:10}\".format(val) for val in plot_maxvals]))\n",
    "print(\"max: {} - {}\".format(maxval, [plot_names[idx] for idx in idc_max]))"
   ]
  },
  {
   "cell_type": "code",
   "execution_count": 93,
   "metadata": {},
   "outputs": [],
   "source": [
    "plt.rcParams['font.size'] = 18\n",
    "plt.rcParams[\"font.family\"] = \"Times New Roman\"\n",
    "plt.rcParams['lines.linewidth'] = 2\n"
   ]
  },
  {
   "cell_type": "code",
   "execution_count": 95,
   "metadata": {},
   "outputs": [
    {
     "data": {
      "text/plain": [
       "<matplotlib.legend.Legend at 0x7fc51f551cd0>"
      ]
     },
     "execution_count": 95,
     "metadata": {},
     "output_type": "execute_result"
    },
    {
     "data": {
      "image/png": "[encoded data removed]",
      "text/plain": [
       "<Figure size 1080x360 with 1 Axes>"
      ]
     },
     "metadata": {
      "needs_background": "light"
     },
     "output_type": "display_data"
    }
   ],
   "source": [
    "plot_maxvals = [max(plot_dict[plot_name].values()) for plot_name in plot_names]\n",
    "plt.figure(figsize=(15,5))\n",
    "grouped_bar(plot_dict, groups=plot_names, options=map(str,C_svm_list))\n",
    "plt.legend(map(str,C_svm_list), title=\"C=\", ncol=len(C_svm_list))"
   ]
  },
  {
   "cell_type": "code",
   "execution_count": null,
   "metadata": {},
   "outputs": [],
   "source": []
  },
  {
   "cell_type": "markdown",
   "metadata": {},
   "source": [
    "## Save result"
   ]
  },
  {
   "cell_type": "code",
   "execution_count": 15,
   "metadata": {},
   "outputs": [],
   "source": [
    "try_mkdir(SAVE_DIR)\n",
    "save_pickle(os.path.join(SAVE_DIR, \"{}.pkl\".format(rtrain.robot_type.name)),\n",
    "            {\"test_panda_set_dict\":test_panda_set_dict, \"fn_names\":fn_names, \"C_svm_list\":C_svm_list})"
   ]
  },
  {
   "cell_type": "code",
   "execution_count": null,
   "metadata": {},
   "outputs": [],
   "source": []
  },
  {
   "cell_type": "markdown",
   "metadata": {},
   "source": [
    "## Validate train result"
   ]
  },
  {
   "cell_type": "code",
   "execution_count": 41,
   "metadata": {},
   "outputs": [],
   "source": [
    "fn_best = fn_zxvec\n",
    "fine_Clist = []\n",
    "fine_results = []"
   ]
  },
  {
   "cell_type": "code",
   "execution_count": 42,
   "metadata": {},
   "outputs": [
    {
     "name": "stdout",
     "output_type": "stream",
     "text": [
      "connection command:\n",
      "panda0: False\n",
      "================================================================================\n",
      "trainset: \t1538.0 ms/1 = 1538.0 ms (1538.0/1538.0)\n",
      "testset: \t382.1 ms/1 = 382.1 ms (382.067/382.067)\n",
      "\n",
      "================================================================================\n",
      "trainning accuracy = 96.77 %\n",
      "test accuracy = 93.98 %\n",
      "================================================================================\n",
      "trainning success accuracy = 98.35 %\n",
      "trainning failure accuracy = 94.39 %\n",
      "================================================================================\n",
      "test success accuracy = 95.46 %\n",
      "test failure accuracy = 91.6 %\n",
      "================================================================================\n"
     ]
    }
   ],
   "source": [
    "for C_svm in [600, 700, 750, 800, 900]:\n",
    "    test_panda = rtrain.load_and_learn(RobotType.panda, C_svm=C_svm, feature_fn=fn_best)\n",
    "    fine_Clist.append(C_svm)\n",
    "    fine_results.append(test_panda)"
   ]
  },
  {
   "cell_type": "code",
   "execution_count": 47,
   "metadata": {},
   "outputs": [
    {
     "data": {
      "image/png": "[encoded data removed]",
      "text/plain": [
       "<Figure size 432x288 with 1 Axes>"
      ]
     },
     "metadata": {
      "needs_background": "light"
     },
     "output_type": "display_data"
    }
   ],
   "source": [
    "plt.plot(fine_Clist, fine_results)\n",
    "plt.grid()"
   ]
  },
  {
   "cell_type": "code",
   "execution_count": null,
   "metadata": {},
   "outputs": [],
   "source": []
  }
 ],
 "metadata": {
  "kernelspec": {
   "display_name": "Python 2",
   "language": "python",
   "name": "python2"
  },
  "language_info": {
   "codemirror_mode": {
    "name": "ipython",
    "version": 2
   },
   "file_extension": ".py",
   "mimetype": "text/x-python",
   "name": "python",
   "nbconvert_exporter": "python",
   "pygments_lexer": "ipython2",
   "version": "2.7.17"
  }
 },
 "nbformat": 4,
 "nbformat_minor": 2
}
