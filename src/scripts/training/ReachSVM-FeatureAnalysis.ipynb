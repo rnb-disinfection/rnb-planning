{
 "cells": [
  {
   "cell_type": "code",
   "execution_count": 1,
   "metadata": {},
   "outputs": [],
   "source": [
    "from __future__ import print_function\n",
    "import os\n",
    "os.chdir(os.path.join(os.environ[\"RNB_PLANNING_DIR\"], 'src'))"
   ]
  },
  {
   "cell_type": "code",
   "execution_count": null,
   "metadata": {},
   "outputs": [],
   "source": []
  },
  {
   "cell_type": "markdown",
   "metadata": {},
   "source": [
    "## Reach Trainer"
   ]
  },
  {
   "cell_type": "code",
   "execution_count": 2,
   "metadata": {
    "scrolled": true
   },
   "outputs": [],
   "source": [
    "from pkg.detector.aruco.marker_config import *\n",
    "from pkg.detector.aruco.stereo import ArucoStereo\n",
    "from pkg.detector.camera.realsense import RealSense\n",
    "from pkg.detector.camera.kinect import Kinect\n",
    "from pkg.geometry.builder.scene_builder import SceneBuilder\n",
    "from pkg.planning.filtering.reach_filter import ReachTrainer\n",
    "from pkg.controller.combined_robot import *\n",
    "from pkg.utils.plot_utils import *\n",
    "\n",
    "s_builder = SceneBuilder(None)\n",
    "rtrain = ReachTrainer(scene_builder=s_builder)"
   ]
  },
  {
   "cell_type": "code",
   "execution_count": null,
   "metadata": {},
   "outputs": [],
   "source": []
  },
  {
   "cell_type": "markdown",
   "metadata": {},
   "source": [
    "## Feature Function Candidates"
   ]
  },
  {
   "cell_type": "code",
   "execution_count": 9,
   "metadata": {},
   "outputs": [],
   "source": [
    "def fn_rpy(radius,theta, height, azimuth_loc, zenith, ee_dist, rot_z):\n",
    "    R = np.matmul(hori2mat(theta=0, azimuth_loc=azimuth_loc, zenith=zenith), Rot_axis(3, rot_z))\n",
    "    r,p,y = Rot2rpy(R)\n",
    "    return (radius, theta, height, r,p,y, radius**2, ee_dist, ee_dist**2)\n",
    "\n",
    "def fn_quat(radius,theta, height, azimuth_loc, zenith, ee_dist, rot_z):\n",
    "    R = np.matmul(hori2mat(theta=0, azimuth_loc=azimuth_loc, zenith=zenith), Rot_axis(3, rot_z))\n",
    "    x,y,z,w = Rotation.from_dcm(R).as_quat()\n",
    "    return (radius, theta, height, x,y,z,w, radius**2, ee_dist, ee_dist**2)\n",
    "\n",
    "def fn_rmat(radius,theta, height, azimuth_loc, zenith, ee_dist, rot_z):\n",
    "    R = np.matmul(hori2mat(theta=0, azimuth_loc=azimuth_loc, zenith=zenith), Rot_axis(3, rot_z))\n",
    "    r11, r12, r13, r21, r22, r23, r31, r32, r33 = R.flatten()\n",
    "    return (radius, theta, height, r11, r12, r13, r21, r22, r23, r31, r32, r33, radius**2, ee_dist, ee_dist**2)\n",
    "\n",
    "def fn_zxvec(radius,theta, height, azimuth_loc, zenith, ee_dist, rot_z):\n",
    "    R = np.matmul(hori2mat(theta=0, azimuth_loc=azimuth_loc, zenith=zenith), Rot_axis(3, rot_z))\n",
    "    z1, z2, z3 = R[:,2]\n",
    "    x1, x2, x3 = R[:,0]\n",
    "    return (radius, theta, height, z1, z2, z3, x1, x2, x3, radius**2, ee_dist, ee_dist**2)\n",
    "\n",
    "def fn_pure(radius,theta, height, azimuth_loc, zenith, ee_dist, rot_z):\n",
    "    return (radius, theta, height, azimuth_loc, zenith, ee_dist, rot_z)\n",
    "\n",
    "def fn_re_sq(radius,theta, height, azimuth_loc, zenith, ee_dist, rot_z):\n",
    "    return (radius, theta, height, azimuth_loc, zenith, radius**2, ee_dist, ee_dist**2, rot_z)\n",
    "\n",
    "def fn_re_sq_norot(radius,theta, height, azimuth_loc, zenith, ee_dist, rot_z):\n",
    "    return (radius, theta, height, azimuth_loc, zenith, radius**2, ee_dist, ee_dist**2)\n",
    "\n",
    "def fn_re_sq_xvec(radius,theta, height, azimuth_loc, zenith, ee_dist, rot_z):\n",
    "    R = np.matmul(hori2mat(theta=0, azimuth_loc=azimuth_loc, zenith=zenith), Rot_axis(3, rot_z))\n",
    "    x1, x2, x3 = R[:,0]\n",
    "    return (radius, theta, height, azimuth_loc, zenith, radius**2, ee_dist, ee_dist**2, x1, x2, x3)\n",
    "\n",
    "fn_list = [fn_rpy, fn_quat, fn_rmat, fn_zxvec, fn_pure, fn_re_sq, fn_re_sq_norot, fn_re_sq_xvec]\n"
   ]
  },
  {
   "cell_type": "code",
   "execution_count": null,
   "metadata": {},
   "outputs": [],
   "source": []
  },
  {
   "cell_type": "markdown",
   "metadata": {},
   "source": [
    "## Load previous result or initialize dict"
   ]
  },
  {
   "cell_type": "code",
   "execution_count": 10,
   "metadata": {},
   "outputs": [],
   "source": [
    "ROBOT_TYPE = RobotType.panda\n",
    "SAVE_DIR = os.path.join(os.environ[\"RNB_PLANNING_DIR\"], \"data\", \"reach_svm_ft_analysis\")"
   ]
  },
  {
   "cell_type": "code",
   "execution_count": 11,
   "metadata": {},
   "outputs": [
    {
     "name": "stdout",
     "output_type": "stream",
     "text": [
      "=== DATA LOADED ===\n",
      "funcions: ['fn_rpy', 'fn_quat', 'fn_rmat', 'fn_zxvec', 'fn_pure', 'fn_re_sq']\n",
      "C_svm:    [500, 700, 1000, 2000, 4000, 6000, 8000]\n"
     ]
    }
   ],
   "source": [
    "try: \n",
    "    resdat = load_pickle(os.path.join(SAVE_DIR, \"{}.pkl\".format(ROBOT_TYPE.name)))\n",
    "    test_panda_set_dict = resdat[\"test_panda_set_dict\"]\n",
    "    fn_names = resdat[\"fn_names\"]\n",
    "    C_svm_list = resdat[\"C_svm_list\"]\n",
    "    print(\"=== DATA LOADED ===\")\n",
    "    print(\"funcions: {}\".format(fn_names))\n",
    "    print(\"C_svm:    {}\".format(C_svm_list))\n",
    "except:\n",
    "    test_panda_set_dict = {}"
   ]
  },
  {
   "cell_type": "code",
   "execution_count": 12,
   "metadata": {},
   "outputs": [
    {
     "name": "stdout",
     "output_type": "stream",
     "text": [
      "function ok: fn_rpy\n",
      "function ok: fn_quat\n",
      "function ok: fn_rmat\n",
      "function ok: fn_zxvec\n",
      "function ok: fn_pure\n",
      "function ok: fn_re_sq\n",
      "function ok: fn_re_sq_norot\n",
      "function ok: fn_re_sq_xvec\n",
      "function all sane\n"
     ]
    }
   ],
   "source": [
    "samplevec_list_test, success_list_test = rtrain.load_data(ROBOT_TYPE, \"test\")\n",
    "for fn in fn_list:\n",
    "    fn(*samplevec_list_test[0])\n",
    "    print(\"function ok: {}\".format(fn.__name__))\n",
    "print(\"function all sane\")\n",
    "\n",
    "C_svm_list = [500, 700, 1000, 2000, 4000, 6000, 8000]"
   ]
  },
  {
   "cell_type": "code",
   "execution_count": 13,
   "metadata": {
    "scrolled": true
   },
   "outputs": [
    {
     "name": "stdout",
     "output_type": "stream",
     "text": [
      "ALREADY LOADED: fn_rpy - 500\n",
      "ALREADY LOADED: fn_rpy - 700\n",
      "ALREADY LOADED: fn_rpy - 1000\n",
      "ALREADY LOADED: fn_rpy - 2000\n",
      "ALREADY LOADED: fn_rpy - 4000\n",
      "ALREADY LOADED: fn_rpy - 6000\n",
      "ALREADY LOADED: fn_rpy - 8000\n",
      "ALREADY LOADED: fn_quat - 500\n",
      "ALREADY LOADED: fn_quat - 700\n",
      "ALREADY LOADED: fn_quat - 1000\n",
      "ALREADY LOADED: fn_quat - 2000\n",
      "ALREADY LOADED: fn_quat - 4000\n",
      "ALREADY LOADED: fn_quat - 6000\n",
      "ALREADY LOADED: fn_quat - 8000\n",
      "ALREADY LOADED: fn_rmat - 500\n",
      "ALREADY LOADED: fn_rmat - 700\n",
      "ALREADY LOADED: fn_rmat - 1000\n",
      "ALREADY LOADED: fn_rmat - 2000\n",
      "ALREADY LOADED: fn_rmat - 4000\n",
      "ALREADY LOADED: fn_rmat - 6000\n",
      "ALREADY LOADED: fn_rmat - 8000\n",
      "ALREADY LOADED: fn_zxvec - 500\n",
      "ALREADY LOADED: fn_zxvec - 700\n",
      "ALREADY LOADED: fn_zxvec - 1000\n",
      "ALREADY LOADED: fn_zxvec - 2000\n",
      "ALREADY LOADED: fn_zxvec - 4000\n",
      "ALREADY LOADED: fn_zxvec - 6000\n",
      "ALREADY LOADED: fn_zxvec - 8000\n",
      "ALREADY LOADED: fn_pure - 500\n",
      "ALREADY LOADED: fn_pure - 700\n",
      "ALREADY LOADED: fn_pure - 1000\n",
      "ALREADY LOADED: fn_pure - 2000\n",
      "ALREADY LOADED: fn_pure - 4000\n",
      "ALREADY LOADED: fn_pure - 6000\n",
      "ALREADY LOADED: fn_pure - 8000\n",
      "ALREADY LOADED: fn_re_sq - 500\n",
      "ALREADY LOADED: fn_re_sq - 700\n",
      "ALREADY LOADED: fn_re_sq - 1000\n",
      "ALREADY LOADED: fn_re_sq - 2000\n",
      "ALREADY LOADED: fn_re_sq - 4000\n",
      "ALREADY LOADED: fn_re_sq - 6000\n",
      "ALREADY LOADED: fn_re_sq - 8000\n",
      "LEARNING: fn_re_sq_norot - 500\n",
      "connection command:\n",
      "panda0: False\n",
      "================================================================================\n",
      "trainset: \t1494.3 ms/1 = 1494.3 ms (1494.318/1494.318)\n",
      "testset: \t372.8 ms/1 = 372.8 ms (372.788/372.788)\n",
      "\n",
      "================================================================================\n",
      "trainning accuracy = 94.78 %\n",
      "test accuracy = 94.36 %\n",
      "================================================================================\n",
      "trainning success accuracy = 97.3 %\n",
      "trainning failure accuracy = 91.0 %\n",
      "================================================================================\n",
      "test success accuracy = 96.69 %\n",
      "test failure accuracy = 90.61 %\n",
      "================================================================================\n",
      "LEARNING: fn_re_sq_norot - 700\n",
      "connection command:\n",
      "panda0: False\n",
      "================================================================================\n",
      "trainset: \t1462.2 ms/1 = 1462.2 ms (1462.167/1462.167)\n",
      "testset: \t364.4 ms/1 = 364.4 ms (364.353/364.353)\n",
      "\n",
      "================================================================================\n",
      "trainning accuracy = 94.83 %\n",
      "test accuracy = 94.34 %\n",
      "================================================================================\n",
      "trainning success accuracy = 97.34 %\n",
      "trainning failure accuracy = 91.04 %\n",
      "================================================================================\n",
      "test success accuracy = 96.6 %\n",
      "test failure accuracy = 90.71 %\n",
      "================================================================================\n",
      "LEARNING: fn_re_sq_norot - 1000\n",
      "connection command:\n",
      "panda0: False\n",
      "================================================================================\n",
      "trainset: \t1425.5 ms/1 = 1425.5 ms (1425.542/1425.542)\n",
      "testset: \t355.1 ms/1 = 355.1 ms (355.086/355.086)\n",
      "\n",
      "================================================================================\n",
      "trainning accuracy = 95.06 %\n",
      "test accuracy = 94.44 %\n",
      "================================================================================\n",
      "trainning success accuracy = 97.43 %\n",
      "trainning failure accuracy = 91.51 %\n",
      "================================================================================\n",
      "test success accuracy = 96.69 %\n",
      "test failure accuracy = 90.81 %\n",
      "================================================================================\n",
      "LEARNING: fn_re_sq_norot - 2000\n",
      "connection command:\n",
      "panda0: False\n",
      "================================================================================\n",
      "trainset: \t1362.9 ms/1 = 1362.9 ms (1362.94/1362.94)\n",
      "testset: \t339.0 ms/1 = 339.0 ms (339.008/339.008)\n",
      "\n",
      "================================================================================\n",
      "trainning accuracy = 95.17 %\n",
      "test accuracy = 94.4 %\n",
      "================================================================================\n",
      "trainning success accuracy = 97.5 %\n",
      "trainning failure accuracy = 91.67 %\n",
      "================================================================================\n",
      "test success accuracy = 96.66 %\n",
      "test failure accuracy = 90.76 %\n",
      "================================================================================\n",
      "LEARNING: fn_re_sq_norot - 4000\n",
      "connection command:\n",
      "panda0: False\n",
      "================================================================================\n",
      "trainset: \t1299.8 ms/1 = 1299.8 ms (1299.831/1299.831)\n",
      "testset: \t323.8 ms/1 = 323.8 ms (323.788/323.788)\n",
      "\n",
      "================================================================================\n",
      "trainning accuracy = 95.34 %\n",
      "test accuracy = 94.64 %\n",
      "================================================================================\n",
      "trainning success accuracy = 97.62 %\n",
      "trainning failure accuracy = 91.91 %\n",
      "================================================================================\n",
      "test success accuracy = 96.76 %\n",
      "test failure accuracy = 91.23 %\n",
      "================================================================================\n",
      "LEARNING: fn_re_sq_norot - 6000\n",
      "connection command:\n",
      "panda0: False\n",
      "================================================================================\n",
      "trainset: \t1248.0 ms/1 = 1248.0 ms (1247.976/1247.976)\n",
      "testset: \t311.1 ms/1 = 311.1 ms (311.126/311.126)\n",
      "\n",
      "================================================================================\n",
      "trainning accuracy = 95.48 %\n",
      "test accuracy = 94.66 %\n",
      "================================================================================\n",
      "trainning success accuracy = 97.72 %\n",
      "trainning failure accuracy = 92.12 %\n",
      "================================================================================\n",
      "test success accuracy = 96.66 %\n",
      "test failure accuracy = 91.44 %\n",
      "================================================================================\n",
      "LEARNING: fn_re_sq_norot - 8000\n",
      "connection command:\n",
      "panda0: False\n",
      "================================================================================\n",
      "trainset: \t1228.9 ms/1 = 1228.9 ms (1228.866/1228.866)\n",
      "testset: \t306.5 ms/1 = 306.5 ms (306.451/306.451)\n",
      "\n",
      "================================================================================\n",
      "trainning accuracy = 95.63 %\n",
      "test accuracy = 94.76 %\n",
      "================================================================================\n",
      "trainning success accuracy = 97.82 %\n",
      "trainning failure accuracy = 92.32 %\n",
      "================================================================================\n",
      "test success accuracy = 96.73 %\n",
      "test failure accuracy = 91.6 %\n",
      "================================================================================\n",
      "LEARNING: fn_re_sq_xvec - 500\n",
      "connection command:\n",
      "panda0: False\n",
      "================================================================================\n",
      "trainset: \t1686.1 ms/1 = 1686.1 ms (1686.094/1686.094)\n",
      "testset: \t420.2 ms/1 = 420.2 ms (420.171/420.171)\n",
      "\n",
      "================================================================================\n",
      "trainning accuracy = 95.44 %\n",
      "test accuracy = 93.8 %\n",
      "================================================================================\n",
      "trainning success accuracy = 97.54 %\n",
      "trainning failure accuracy = 92.27 %\n",
      "================================================================================\n",
      "test success accuracy = 95.65 %\n",
      "test failure accuracy = 90.81 %\n",
      "================================================================================\n",
      "LEARNING: fn_re_sq_xvec - 700\n",
      "connection command:\n",
      "panda0: False\n",
      "================================================================================\n",
      "trainset: \t1650.0 ms/1 = 1650.0 ms (1650.017/1650.017)\n",
      "testset: \t411.3 ms/1 = 411.3 ms (411.264/411.264)\n",
      "\n",
      "================================================================================\n",
      "trainning accuracy = 95.53 %\n",
      "test accuracy = 93.7 %\n",
      "================================================================================\n",
      "trainning success accuracy = 97.56 %\n",
      "trainning failure accuracy = 92.47 %\n",
      "================================================================================\n",
      "test success accuracy = 95.53 %\n",
      "test failure accuracy = 90.76 %\n",
      "================================================================================\n",
      "LEARNING: fn_re_sq_xvec - 1000\n",
      "connection command:\n",
      "panda0: False\n"
     ]
    },
    {
     "name": "stdout",
     "output_type": "stream",
     "text": [
      "================================================================================\n",
      "trainset: \t1615.6 ms/1 = 1615.6 ms (1615.598/1615.598)\n",
      "testset: \t402.2 ms/1 = 402.2 ms (402.171/402.171)\n",
      "\n",
      "================================================================================\n",
      "trainning accuracy = 95.79 %\n",
      "test accuracy = 93.66 %\n",
      "================================================================================\n",
      "trainning success accuracy = 97.73 %\n",
      "trainning failure accuracy = 92.87 %\n",
      "================================================================================\n",
      "test success accuracy = 95.53 %\n",
      "test failure accuracy = 90.66 %\n",
      "================================================================================\n",
      "LEARNING: fn_re_sq_xvec - 2000\n",
      "connection command:\n",
      "panda0: False\n",
      "================================================================================\n",
      "trainset: \t1534.7 ms/1 = 1534.7 ms (1534.69/1534.69)\n",
      "testset: \t382.5 ms/1 = 382.5 ms (382.501/382.501)\n",
      "\n",
      "================================================================================\n",
      "trainning accuracy = 96.08 %\n",
      "test accuracy = 93.44 %\n",
      "================================================================================\n",
      "trainning success accuracy = 97.94 %\n",
      "trainning failure accuracy = 93.3 %\n",
      "================================================================================\n",
      "test success accuracy = 95.33 %\n",
      "test failure accuracy = 90.4 %\n",
      "================================================================================\n",
      "LEARNING: fn_re_sq_xvec - 4000\n",
      "connection command:\n",
      "panda0: False\n",
      "================================================================================\n",
      "trainset: \t1465.9 ms/1 = 1465.9 ms (1465.944/1465.944)\n",
      "testset: \t364.8 ms/1 = 364.8 ms (364.803/364.803)\n",
      "\n",
      "================================================================================\n",
      "trainning accuracy = 96.64 %\n",
      "test accuracy = 93.58 %\n",
      "================================================================================\n",
      "trainning success accuracy = 98.37 %\n",
      "trainning failure accuracy = 94.02 %\n",
      "================================================================================\n",
      "test success accuracy = 95.53 %\n",
      "test failure accuracy = 90.45 %\n",
      "================================================================================\n",
      "LEARNING: fn_re_sq_xvec - 6000\n",
      "connection command:\n",
      "panda0: False\n",
      "================================================================================\n",
      "trainset: \t1424.6 ms/1 = 1424.6 ms (1424.59/1424.59)\n",
      "testset: \t354.4 ms/1 = 354.4 ms (354.386/354.386)\n",
      "\n",
      "================================================================================\n",
      "trainning accuracy = 96.89 %\n",
      "test accuracy = 93.6 %\n",
      "================================================================================\n",
      "trainning success accuracy = 98.53 %\n",
      "trainning failure accuracy = 94.41 %\n",
      "================================================================================\n",
      "test success accuracy = 95.23 %\n",
      "test failure accuracy = 90.97 %\n",
      "================================================================================\n",
      "LEARNING: fn_re_sq_xvec - 8000\n",
      "connection command:\n",
      "panda0: False\n",
      "================================================================================\n",
      "trainset: \t1401.8 ms/1 = 1401.8 ms (1401.769/1401.769)\n",
      "testset: \t347.7 ms/1 = 347.7 ms (347.664/347.664)\n",
      "\n",
      "================================================================================\n",
      "trainning accuracy = 97.07 %\n",
      "test accuracy = 93.46 %\n",
      "================================================================================\n",
      "trainning success accuracy = 98.64 %\n",
      "trainning failure accuracy = 94.71 %\n",
      "================================================================================\n",
      "test success accuracy = 95.14 %\n",
      "test failure accuracy = 90.76 %\n",
      "================================================================================\n"
     ]
    }
   ],
   "source": [
    "for fn in fn_list:\n",
    "    if fn.__name__ in test_panda_set_dict:\n",
    "        test_panda_set = test_panda_set_dict[fn.__name__]\n",
    "    else:\n",
    "        test_panda_set = {}\n",
    "    for C_svm in C_svm_list:\n",
    "        if str(C_svm) in test_panda_set:\n",
    "            print(\"ALREADY LOADED: {} - {}\".format(fn.__name__, C_svm))\n",
    "            continue\n",
    "        print(\"LEARNING: {} - {}\".format(fn.__name__, C_svm))\n",
    "        test_panda = rtrain.load_and_learn(ROBOT_TYPE, C_svm=C_svm, feature_fn=fn)\n",
    "        test_panda_set[str(C_svm)] = test_panda\n",
    "    test_panda_set_dict[fn.__name__] = test_panda_set"
   ]
  },
  {
   "cell_type": "code",
   "execution_count": 14,
   "metadata": {},
   "outputs": [
    {
     "name": "stdout",
     "output_type": "stream",
     "text": [
      "fn:       fn_rpy   fn_quat   fn_rmat  fn_zxvec   fn_pure  fn_re_sqfn_re_sq_norotfn_re_sq_xvec\n",
      "vals:      93.06     93.98     93.44     94.02      93.6      93.9     94.76      93.8\n",
      "max: 94.76 - ['fn_re_sq_norot']\n"
     ]
    },
    {
     "data": {
      "image/png": "[encoded data removed]",
      "text/plain": [
       "<Figure size 1080x360 with 2 Axes>"
      ]
     },
     "metadata": {
      "needs_background": "light"
     },
     "output_type": "display_data"
    }
   ],
   "source": [
    "fn_names = map(lambda x:x.__name__, fn_list)\n",
    "fn_maxvals = [max(test_panda_set_dict[fname].values()) for fname in fn_names]\n",
    "plt.figure(figsize=(15,5))\n",
    "plt.subplot(1,3,(1,2))\n",
    "grouped_bar(test_panda_set_dict, groups=fn_names, options=map(str,C_svm_list))\n",
    "plt.subplot(1,3,3)\n",
    "plt.bar(fn_names, fn_maxvals)\n",
    "plt.axis([-1, len(fn_names), 92, 95])\n",
    "plt.grid()\n",
    "maxval = np.max(fn_maxvals)\n",
    "idc_max = np.where(np.array(fn_maxvals)==maxval)[0]\n",
    "print(\"fn:   \"+\"\".join([\"{:>10}\".format(fname) for fname in fn_names]))\n",
    "print(\"vals: \"+\"\".join([\"{:10}\".format(val) for val in fn_maxvals]))\n",
    "print(\"max: {} - {}\".format(maxval, [fn_names[idx] for idx in idc_max]))"
   ]
  },
  {
   "cell_type": "code",
   "execution_count": null,
   "metadata": {},
   "outputs": [],
   "source": []
  },
  {
   "cell_type": "markdown",
   "metadata": {},
   "source": [
    "## Save result"
   ]
  },
  {
   "cell_type": "code",
   "execution_count": 15,
   "metadata": {},
   "outputs": [],
   "source": [
    "try_mkdir(SAVE_DIR)\n",
    "save_pickle(os.path.join(SAVE_DIR, \"{}.pkl\".format(rtrain.robot_type.name)),\n",
    "            {\"test_panda_set_dict\":test_panda_set_dict, \"fn_names\":fn_names, \"C_svm_list\":C_svm_list})"
   ]
  },
  {
   "cell_type": "code",
   "execution_count": null,
   "metadata": {},
   "outputs": [],
   "source": []
  },
  {
   "cell_type": "markdown",
   "metadata": {},
   "source": [
    "## Validate train result"
   ]
  },
  {
   "cell_type": "code",
   "execution_count": 41,
   "metadata": {},
   "outputs": [],
   "source": [
    "fn_best = fn_zxvec\n",
    "fine_Clist = []\n",
    "fine_results = []"
   ]
  },
  {
   "cell_type": "code",
   "execution_count": 42,
   "metadata": {},
   "outputs": [
    {
     "name": "stdout",
     "output_type": "stream",
     "text": [
      "connection command:\n",
      "panda0: False\n",
      "================================================================================\n",
      "trainset: \t1538.0 ms/1 = 1538.0 ms (1538.0/1538.0)\n",
      "testset: \t382.1 ms/1 = 382.1 ms (382.067/382.067)\n",
      "\n",
      "================================================================================\n",
      "trainning accuracy = 96.77 %\n",
      "test accuracy = 93.98 %\n",
      "================================================================================\n",
      "trainning success accuracy = 98.35 %\n",
      "trainning failure accuracy = 94.39 %\n",
      "================================================================================\n",
      "test success accuracy = 95.46 %\n",
      "test failure accuracy = 91.6 %\n",
      "================================================================================\n"
     ]
    }
   ],
   "source": [
    "for C_svm in [600, 700, 750, 800, 900]:\n",
    "    test_panda = rtrain.load_and_learn(RobotType.panda, C_svm=C_svm, feature_fn=fn_best)\n",
    "    fine_Clist.append(C_svm)\n",
    "    fine_results.append(test_panda)"
   ]
  },
  {
   "cell_type": "code",
   "execution_count": 47,
   "metadata": {},
   "outputs": [
    {
     "data": {
      "image/png": "[encoded data removed]",
      "text/plain": [
       "<Figure size 432x288 with 1 Axes>"
      ]
     },
     "metadata": {
      "needs_background": "light"
     },
     "output_type": "display_data"
    }
   ],
   "source": [
    "plt.plot(fine_Clist, fine_results)\n",
    "plt.grid()"
   ]
  },
  {
   "cell_type": "code",
   "execution_count": null,
   "metadata": {},
   "outputs": [],
   "source": []
  }
 ],
 "metadata": {
  "kernelspec": {
   "display_name": "Python 2",
   "language": "python",
   "name": "python2"
  },
  "language_info": {
   "codemirror_mode": {
    "name": "ipython",
    "version": 2
   },
   "file_extension": ".py",
   "mimetype": "text/x-python",
   "name": "python",
   "nbconvert_exporter": "python",
   "pygments_lexer": "ipython2",
   "version": "2.7.17"
  }
 },
 "nbformat": 4,
 "nbformat_minor": 2
}
