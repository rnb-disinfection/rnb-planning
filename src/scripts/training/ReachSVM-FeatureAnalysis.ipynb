{
 "cells": [
  {
   "cell_type": "code",
   "execution_count": null,
   "metadata": {},
   "outputs": [],
   "source": [
    "from __future__ import print_function\n",
    "import os\n",
    "os.chdir(os.path.join(os.environ[\"RNB_PLANNING_DIR\"], 'src'))"
   ]
  },
  {
   "cell_type": "code",
   "execution_count": null,
   "metadata": {},
   "outputs": [],
   "source": []
  },
  {
   "cell_type": "markdown",
   "metadata": {},
   "source": [
    "## init stereo aruco detector scene builder"
   ]
  },
  {
   "cell_type": "code",
   "execution_count": null,
   "metadata": {
    "scrolled": true
   },
   "outputs": [],
   "source": [
    "from pkg.detector.aruco.marker_config import *\n",
    "from pkg.detector.aruco.stereo import ArucoStereo\n",
    "from pkg.detector.camera.realsense import RealSense\n",
    "from pkg.detector.camera.kinect import Kinect\n",
    "from pkg.geometry.builder.scene_builder import SceneBuilder\n",
    "\n",
    "s_builder = SceneBuilder(None)\n",
    "# s_builder.reset_reference_coord(ref_name=\"floor\")"
   ]
  },
  {
   "cell_type": "code",
   "execution_count": null,
   "metadata": {},
   "outputs": [],
   "source": []
  },
  {
   "cell_type": "code",
   "execution_count": null,
   "metadata": {},
   "outputs": [],
   "source": [
    "from pkg.planning.filtering.reach_filter import ReachTrainer\n",
    "from pkg.controller.combined_robot import *"
   ]
  },
  {
   "cell_type": "code",
   "execution_count": null,
   "metadata": {},
   "outputs": [],
   "source": [
    "rtrain = ReachTrainer(scene_builder=s_builder)"
   ]
  },
  {
   "cell_type": "code",
   "execution_count": null,
   "metadata": {},
   "outputs": [],
   "source": [
    "def fn_rpy(radius,theta, height, azimuth_loc, zenith, ee_dist, rot_z):\n",
    "    R = np.matmul(hori2mat(theta=0, azimuth_loc=azimuth_loc, zenith=zenith), Rot_axis(3, rot_z))\n",
    "    r,p,y = Rot2rpy(R)\n",
    "    return (radius, theta, height, r,p,y, radius**2, ee_dist, ee_dist**2)\n",
    "\n",
    "def fn_quat(radius,theta, height, azimuth_loc, zenith, ee_dist, rot_z):\n",
    "    R = np.matmul(hori2mat(theta=0, azimuth_loc=azimuth_loc, zenith=zenith), Rot_axis(3, rot_z))\n",
    "    x,y,z,w = Rotation.from_dcm(R).as_quat()\n",
    "    return (radius, theta, height, x,y,z,w, radius**2, ee_dist, ee_dist**2)\n",
    "\n",
    "def fn_rmat(radius,theta, height, azimuth_loc, zenith, ee_dist, rot_z):\n",
    "    R = np.matmul(hori2mat(theta=0, azimuth_loc=azimuth_loc, zenith=zenith), Rot_axis(3, rot_z))\n",
    "    r11, r12, r13, r21, r22, r23, r31, r32, r33 = R.flatten()\n",
    "    return (radius, theta, height, r11, r12, r13, r21, r22, r23, r31, r32, r33, radius**2, ee_dist, ee_dist**2)\n",
    "\n",
    "def fn_zxvec(radius,theta, height, azimuth_loc, zenith, ee_dist, rot_z):\n",
    "    R = np.matmul(hori2mat(theta=0, azimuth_loc=azimuth_loc, zenith=zenith), Rot_axis(3, rot_z))\n",
    "    z1, z2, z3 = R[:,2]\n",
    "    x1, x2, x3 = R[:,0]\n",
    "    return (radius, theta, height, z1, z2, z3, x1, x2, x3, radius**2, ee_dist, ee_dist**2)\n",
    "\n",
    "def fn_pure(radius,theta, height, azimuth_loc, zenith, ee_dist, rot_z):\n",
    "    return (radius, theta, height, azimuth_loc, zenith, ee_dist, rot_z)\n",
    "\n",
    "def fn_re_sq(radius,theta, height, azimuth_loc, zenith, ee_dist, rot_z):\n",
    "    return (radius, theta, height, azimuth_loc, zenith, radius**2, ee_dist, ee_dist**2, rot_z)\n",
    "\n",
    "fn_list = [fn_rpy, fn_quat, fn_rmat, fn_zxvec, fn_pure, fn_re_sq]\n",
    "for fn in fn_list:\n",
    "    fn(*rtrain.samplevec_list_test[0])\n",
    "print(\"function all sane\")"
   ]
  },
  {
   "cell_type": "code",
   "execution_count": null,
   "metadata": {
    "scrolled": true
   },
   "outputs": [],
   "source": [
    "C_svm_list = [1000, 2000, 4000, 8000]\n",
    "test_panda_set_dict = {}\n",
    "for fn in fn_list:\n",
    "    test_panda_set = {}\n",
    "    for C_svm in C_svm_list:\n",
    "        test_panda = rtrain.load_and_learn(RobotType.panda, C_svm=C_svm, feature_fn=fn)\n",
    "        test_panda_set[str(C_svm)] = test_panda\n",
    "    test_panda_set_dict[fn.__name__] = test_panda_set"
   ]
  },
  {
   "cell_type": "code",
   "execution_count": null,
   "metadata": {},
   "outputs": [],
   "source": [
    "from pkg.utils.plot_utils import *\n",
    "fn_names = map(lambda x:x.__name__, fn_list)\n",
    "fn_maxvals = [max(test_panda_set_dict[fname].values()) for fname in fn_names]\n",
    "plt.figure(figsize=(15,5))\n",
    "plt.subplot(1,3,(1,2))\n",
    "grouped_bar(test_panda_set_dict, groups=fn_names, options=map(str,C_svm_list))\n",
    "plt.subplot(1,3,3)\n",
    "plt.bar(fn_names, fn_maxvals)\n",
    "plt.grid()\n",
    "maxval = np.max(fn_maxvals)\n",
    "idc_max = np.where(np.array(fn_maxvals)==maxval)[0]\n",
    "print(\"fn:   \"+\"\".join([\"{:>10}\".format(fname) for fname in fn_names]))\n",
    "print(\"vals: \"+\"\".join([\"{:10}\".format(val) for val in fn_maxvals]))\n",
    "print(\"max: {} - {}\".format(maxval, idc_max))"
   ]
  },
  {
   "cell_type": "code",
   "execution_count": null,
   "metadata": {},
   "outputs": [],
   "source": [
    "import matplotlib.pyplot as plt\n",
    "# plt.plot(C_svm_list, test_indy_list)\n",
    "plt.plot(C_svm_list, test_panda_list)\n",
    "plt.grid()"
   ]
  },
  {
   "cell_type": "code",
   "execution_count": null,
   "metadata": {},
   "outputs": [],
   "source": []
  },
  {
   "cell_type": "markdown",
   "metadata": {},
   "source": [
    "## load and test"
   ]
  },
  {
   "cell_type": "code",
   "execution_count": null,
   "metadata": {
    "scrolled": false
   },
   "outputs": [],
   "source": [
    "rtrain.load_and_test(RobotType.indy7gripper)"
   ]
  },
  {
   "cell_type": "code",
   "execution_count": null,
   "metadata": {
    "scrolled": false
   },
   "outputs": [],
   "source": [
    "rtrain.load_and_test(RobotType.panda)"
   ]
  },
  {
   "cell_type": "code",
   "execution_count": null,
   "metadata": {},
   "outputs": [],
   "source": []
  },
  {
   "cell_type": "markdown",
   "metadata": {},
   "source": [
    "## Update label"
   ]
  },
  {
   "cell_type": "code",
   "execution_count": null,
   "metadata": {},
   "outputs": [],
   "source": [
    "from pkg.planning.filtering.reach_filter import *"
   ]
  },
  {
   "cell_type": "code",
   "execution_count": null,
   "metadata": {},
   "outputs": [],
   "source": [
    "ROBOT_TYPE = RobotType.indy7\n",
    "TIP_LINK = \"indy0_tcp\"\n",
    "TIMEOUT = 0.3\n",
    "DATA_DIVS = [\"train\", \"test\"]\n",
    "UPDATE_LABELS = [True] # to reduce feasible ones, as joint limit is reduced"
   ]
  },
  {
   "cell_type": "code",
   "execution_count": null,
   "metadata": {},
   "outputs": [],
   "source": [
    "time_lists = []\n",
    "for DATA_DIV in DATA_DIVS:\n",
    "    rtrain.update_label(robot_type=ROBOT_TYPE, tip_link=TIP_LINK, data_div=DATA_DIV, update_labels=UPDATE_LABELS, timeout=TIMEOUT)\n",
    "    time_lists.append(deepcopy(rtrain.time_list))\n",
    "import matplotlib.pyplot as plt\n",
    "plt.subplot(1,2,1)\n",
    "plt.plot(sorted(time_lists[0]), '.')\n",
    "plt.subplot(1,2,2)\n",
    "plt.plot(sorted(time_lists[0]), '.')"
   ]
  },
  {
   "cell_type": "code",
   "execution_count": null,
   "metadata": {},
   "outputs": [],
   "source": []
  },
  {
   "cell_type": "code",
   "execution_count": null,
   "metadata": {},
   "outputs": [],
   "source": []
  },
  {
   "cell_type": "markdown",
   "metadata": {},
   "source": [
    "## Load and visualize"
   ]
  },
  {
   "cell_type": "code",
   "execution_count": null,
   "metadata": {},
   "outputs": [],
   "source": [
    "ROBOT_TYPE = RobotType.panda\n",
    "TIP_LINK = \"panda0_hand\"\n",
    "TIMEOUT = 0.5\n",
    "DATA_DIV = \"test\""
   ]
  },
  {
   "cell_type": "code",
   "execution_count": null,
   "metadata": {},
   "outputs": [],
   "source": [
    "rtrain.load_and_visualize(robot_type=ROBOT_TYPE, tip_link=TIP_LINK, data_div=DATA_DIV, timeout=TIMEOUT)"
   ]
  },
  {
   "cell_type": "code",
   "execution_count": null,
   "metadata": {},
   "outputs": [],
   "source": []
  }
 ],
 "metadata": {
  "kernelspec": {
   "display_name": "Python 2",
   "language": "python",
   "name": "python2"
  },
  "language_info": {
   "codemirror_mode": {
    "name": "ipython",
    "version": 2
   },
   "file_extension": ".py",
   "mimetype": "text/x-python",
   "name": "python",
   "nbconvert_exporter": "python",
   "pygments_lexer": "ipython2",
   "version": "2.7.17"
  }
 },
 "nbformat": 4,
 "nbformat_minor": 2
}
