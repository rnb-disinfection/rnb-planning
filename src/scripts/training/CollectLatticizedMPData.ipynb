{
 "cells": [
  {
   "cell_type": "markdown",
   "metadata": {},
   "source": [
    "## set running directory"
   ]
  },
  {
   "cell_type": "code",
   "execution_count": 1,
   "metadata": {},
   "outputs": [],
   "source": [
    "from __future__ import print_function\n",
    "import os\n",
    "os.chdir(os.path.join(os.environ[\"RNB_PLANNING_DIR\"], 'src'))"
   ]
  },
  {
   "cell_type": "code",
   "execution_count": 2,
   "metadata": {},
   "outputs": [],
   "source": [
    "from pkg.controller.combined_robot import *\n",
    "from pkg.utils.utils import get_now, try_mkdir\n",
    "\n",
    "\n",
    "DATA_PATH = os.path.join(os.environ['RNB_PLANNING_DIR'], \"data\")\n",
    "try_mkdir(DATA_PATH)\n",
    "\n",
    "ALG_DATA_PATH = os.path.join(DATA_PATH, \"latticized\")\n",
    "try_mkdir(ALG_DATA_PATH)"
   ]
  },
  {
   "cell_type": "code",
   "execution_count": null,
   "metadata": {},
   "outputs": [],
   "source": []
  },
  {
   "cell_type": "code",
   "execution_count": 3,
   "metadata": {},
   "outputs": [],
   "source": [
    "VISUALIZE = False\n",
    "TIMEOUT_REACH = 30\n",
    "TIMEOUT_RETRIEVE = 30\n",
    "CLEARANCE = 1e-3\n",
    "\n",
    "# ROBOT_TYPE = RobotType.indy7\n",
    "# ROBOT_NAME = \"indy0\"\n",
    "# TOOL_LINK = \"indy0_tcp\"\n",
    "# TOOL_LINK_BUNDLE = [\"indy0_tcp\", \"indy0_link6\"]\n",
    "# TOOL_XYZ = (0,0,0.14)\n",
    "# TOOL_RPY = (-np.pi/2,0,0)\n",
    "# GRIP_DEPTH = 0.05\n",
    "# HOME_POSE = (0,0,0,0,0,0)\n",
    "\n",
    "ROBOT_TYPE = RobotType.panda\n",
    "ROBOT_NAME = \"panda0\"\n",
    "TOOL_LINK = \"panda0_hand\"\n",
    "TOOL_LINK_BUNDLE = [\"panda0_hand\", \"panda0_link6\"]\n",
    "TOOL_XYZ = (0,0,0.112)\n",
    "TOOL_RPY = (-np.pi/2,0,0)\n",
    "GRIP_DEPTH = 0.03\n",
    "HOME_POSE = (0,-0.3,0,-0.5,0,2.5,0)\n",
    "\n",
    "\n",
    "assert TOOL_LINK_BUNDLE[0] == TOOL_LINK, \"TOOL_LINK_BUNDLE should be in reverse order including actor's link as the first item\""
   ]
  },
  {
   "cell_type": "code",
   "execution_count": null,
   "metadata": {},
   "outputs": [],
   "source": []
  },
  {
   "cell_type": "markdown",
   "metadata": {},
   "source": [
    "## init combined robot config"
   ]
  },
  {
   "cell_type": "code",
   "execution_count": 4,
   "metadata": {},
   "outputs": [
    {
     "name": "stdout",
     "output_type": "stream",
     "text": [
      "connection_list\n",
      "[False]\n"
     ]
    }
   ],
   "source": [
    "\n",
    "from pkg.project_config import *\n",
    "\n",
    "crob = CombinedRobot(robots_on_scene=[\n",
    "    RobotConfig(0, ROBOT_TYPE, None,\n",
    "                INDY_IP)]\n",
    "              , connection_list=[False])"
   ]
  },
  {
   "cell_type": "code",
   "execution_count": 5,
   "metadata": {},
   "outputs": [],
   "source": [
    "from pkg.geometry.builder.scene_builder import SceneBuilder\n",
    "s_builder = SceneBuilder(None, base_link=\"base_link\")\n",
    "# s_builder.reset_reference_coord(ref_name=\"floor\")"
   ]
  },
  {
   "cell_type": "code",
   "execution_count": null,
   "metadata": {},
   "outputs": [],
   "source": []
  },
  {
   "cell_type": "markdown",
   "metadata": {},
   "source": [
    "## get ghnd with detected robot config"
   ]
  },
  {
   "cell_type": "code",
   "execution_count": 6,
   "metadata": {
    "scrolled": true
   },
   "outputs": [],
   "source": [
    "# xyz_rpy_robots = s_builder.detect_items(level_mask=[DetectionLevel.ROBOT])\n",
    "xyz_rpy_robots = {ROBOT_NAME: ((0,0,0), (0,0,0))}\n",
    "crob.update_robot_pos_dict(xyz_rpy_robots=xyz_rpy_robots)\n",
    "gscene = s_builder.create_gscene(crob, start_rviz=VISUALIZE)\n",
    "HOME_DICT = list2dict(HOME_POSE, gscene.joint_names)\n"
   ]
  },
  {
   "cell_type": "code",
   "execution_count": 7,
   "metadata": {},
   "outputs": [],
   "source": [
    "from pkg.utils.joint_utils import get_tf\n",
    "shoulder_link = gscene.urdf_content.joint_map[gscene.joint_names[1]].child\n",
    "shoulder_height = get_tf(shoulder_link, HOME_DICT, gscene.urdf_content)[2,3]"
   ]
  },
  {
   "cell_type": "code",
   "execution_count": null,
   "metadata": {},
   "outputs": [],
   "source": []
  },
  {
   "cell_type": "markdown",
   "metadata": {},
   "source": [
    "## add environment"
   ]
  },
  {
   "cell_type": "code",
   "execution_count": 8,
   "metadata": {},
   "outputs": [],
   "source": [
    "from pkg.geometry.geometry import *"
   ]
  },
  {
   "cell_type": "code",
   "execution_count": 9,
   "metadata": {},
   "outputs": [],
   "source": [
    "gtems_robot = s_builder.add_robot_geometries(color=(0,1,0,0.5), display=True, collision=True)"
   ]
  },
  {
   "cell_type": "code",
   "execution_count": null,
   "metadata": {},
   "outputs": [],
   "source": []
  },
  {
   "cell_type": "markdown",
   "metadata": {},
   "source": [
    "## init planning scene"
   ]
  },
  {
   "cell_type": "code",
   "execution_count": 10,
   "metadata": {},
   "outputs": [],
   "source": [
    "from pkg.planning.scene import PlanningScene\n",
    "pscene = PlanningScene(gscene, combined_robot=crob)\n",
    "\n",
    "from pkg.planning.pipeline import PlanningPipeline\n",
    "ppline = PlanningPipeline(pscene)"
   ]
  },
  {
   "cell_type": "code",
   "execution_count": null,
   "metadata": {},
   "outputs": [],
   "source": []
  },
  {
   "cell_type": "markdown",
   "metadata": {},
   "source": [
    "## Register binders"
   ]
  },
  {
   "cell_type": "code",
   "execution_count": 11,
   "metadata": {},
   "outputs": [],
   "source": [
    "from pkg.planning.constraint.constraint_actor import Gripper2Tool, PlacePlane, SweepTool"
   ]
  },
  {
   "cell_type": "code",
   "execution_count": 12,
   "metadata": {},
   "outputs": [],
   "source": [
    "gscene.create_safe(gtype=GEOTYPE.SPHERE, name=\"grip0\", link_name=TOOL_LINK, \n",
    "                 dims=(0.01,)*3, center=TOOL_XYZ, rpy=TOOL_RPY, color=(1,0,0,1), display=True, collision=False, fixed=True)\n",
    "gripper = pscene.create_binder(bname=\"grip0\", gname=\"grip0\", rname=ROBOT_NAME, _type=Gripper2Tool, point=(0,0,0), rpy=(0,0,0))"
   ]
  },
  {
   "cell_type": "code",
   "execution_count": null,
   "metadata": {},
   "outputs": [],
   "source": []
  },
  {
   "cell_type": "markdown",
   "metadata": {},
   "source": [
    "## planner"
   ]
  },
  {
   "cell_type": "code",
   "execution_count": 13,
   "metadata": {},
   "outputs": [],
   "source": [
    "from pkg.planning.motion.moveit.moveit_planner import MoveitPlanner\n",
    "from pkg.planning.filtering.grasp_filter import GraspChecker\n",
    "from pkg.planning.filtering.reach_filter import ReachChecker\n",
    "mplan = MoveitPlanner(pscene)\n",
    "gcheck = GraspChecker(pscene, end_link_couple_dict= {TOOL_LINK: TOOL_LINK_BUNDLE, \"base_link\":[\"base_link\"]})\n",
    "rcheck = ReachChecker(pscene)\n",
    "checkers = [gcheck, rcheck]"
   ]
  },
  {
   "cell_type": "code",
   "execution_count": null,
   "metadata": {},
   "outputs": [],
   "source": []
  },
  {
   "cell_type": "markdown",
   "metadata": {},
   "source": [
    "## ui"
   ]
  },
  {
   "cell_type": "code",
   "execution_count": 14,
   "metadata": {},
   "outputs": [
    {
     "name": "stdout",
     "output_type": "stream",
     "text": [
      "Dash is running on http://0.0.0.0:8050/\n",
      "\n",
      " * Serving Flask app \"pkg.ui.dash_launcher\" (lazy loading)\n",
      " * Environment: production\n",
      "   WARNING: This is a development server. Do not use it in a production deployment.\n",
      "   Use a production WSGI server instead.\n",
      " * Debug mode: off\n"
     ]
    }
   ],
   "source": [
    "from pkg.ui.ui_broker import *\n",
    "\n",
    "# start UI\n",
    "ui_broker = UIBroker.instance()\n",
    "ui_broker.initialize(ppline, s_builder)\n",
    "ui_broker.start_server()\n",
    "\n",
    "ui_broker.set_tables()"
   ]
  },
  {
   "cell_type": "code",
   "execution_count": null,
   "metadata": {},
   "outputs": [],
   "source": []
  },
  {
   "cell_type": "markdown",
   "metadata": {},
   "source": [
    "# Object Classes"
   ]
  },
  {
   "cell_type": "code",
   "execution_count": 15,
   "metadata": {},
   "outputs": [],
   "source": [
    "from pkg.utils.gjk import get_point_list, get_gjk_distance\n",
    "from pkg.planning.constraint.constraint_subject import CustomObject, Grasp2Point, PlacePoint, SweepPoint, SweepTask\n",
    "\n",
    "##\n",
    "# @class ObstacleBase\n",
    "# @brief base class for obstacle generators\n",
    "class ObstacleBase:\n",
    "    RTH_MIN = None ## R: center ~ nearest point\n",
    "    RTH_MAX = None\n",
    "    RPY_MIN = None\n",
    "    RPY_MAX = None\n",
    "    DIM_MIN = None\n",
    "    DIM_MAX = None\n",
    "    GTYPE = None\n",
    "    COLOR = (0.7,0.7,0.7,1)\n",
    "    \n",
    "    def __init__(self, gscene, name, sampler=np.random.uniform, DIM=None, RTH=None, RPY=None):\n",
    "        self.name = name\n",
    "        self.DIM = sampler(self.DIM_MIN, self.DIM_MAX) if DIM is None else DIM\n",
    "        self.RTH = sampler(self.RTH_MIN, self.RTH_MAX) if RTH is None else RTH\n",
    "        self.RPY = sampler(self.RPY_MIN, self.RPY_MAX) if RPY is None else RPY\n",
    "        self.RPY[2] += self.RTH[1]\n",
    "        self.XYZ = np.array(cyl2cart(*self.RTH))\n",
    "        verts_rotated = np.matmul(Rot_rpy(self.RPY), (DEFAULT_VERT_DICT[self.GTYPE]*self.DIM).transpose())\n",
    "        xy_normed = self.XYZ[:2]/(np.linalg.norm(self.XYZ[:2])+1e-6)\n",
    "        verts_r_compo = np.dot(xy_normed, verts_rotated[:2,:])\n",
    "        self.XYZ[:2] -= xy_normed[:2]*np.min(verts_r_compo)\n",
    "        self.RTH[0] -= np.min(verts_r_compo)\n",
    "        self.geometry = gscene.create_safe(gtype=self.GTYPE, name=self.name, link_name=\"base_link\", \n",
    "                                  dims=self.DIM, center=tuple(self.XYZ), rpy=self.RPY, \n",
    "                                  color=self.COLOR, display=True, collision=True, fixed=True)\n",
    "        self.subgeo_list = []\n",
    "        \n",
    "    def is_overlapped_with(self, gtem):\n",
    "        verts, radii = gtem.get_vertice_radius()\n",
    "        verts_global = np.add(np.matmul(verts, gtem.orientation_mat.transpose()), gtem.center)\n",
    "        verts_me, raddii_me = self.geometry.get_vertice_radius()\n",
    "        verts_me_global = np.add(np.matmul(verts_me, self.geometry.orientation_mat.transpose()), \n",
    "                                 self.geometry.center)\n",
    "        return get_gjk_distance(get_point_list(verts_global), get_point_list(verts_me_global))-radii-raddii_me < 1e-4\n",
    "        \n",
    "##\n",
    "# @class WorkPlane\n",
    "# @brief working plane. target and obstacle objects are generated on this plane\n",
    "class WorkPlane(ObstacleBase):\n",
    "    RTH_MIN = (0.3, -np.pi/2, -0.2)\n",
    "    RTH_MAX = (0.8, +np.pi/2, +0.5)\n",
    "    RPY_MIN = (0, 0, -np.pi/6)\n",
    "    RPY_MAX = (0, 0, +np.pi/6)\n",
    "    DIM_MIN = (0.3, 0.3, 0.05)\n",
    "    DIM_MAX = (0.8, 1.5, 0.1)\n",
    "    GTYPE = GEOTYPE.BOX\n",
    "    COLOR=  (0.8,0.8,0.2,0.5)\n",
    "    \n",
    "    def __init__(self, gscene, name, floor_height=None, *args, **kwargs):\n",
    "        assert floor_height is not None, \"floor_height needed\"\n",
    "        self.RTH_MIN = self.RTH_MIN[:2]+(floor_height,)\n",
    "        self.H = 0.3\n",
    "        ObstacleBase.__init__(self, gscene, name, *args, **kwargs)\n",
    "        \n",
    "    def is_overlapped_with(self, gtem):\n",
    "        verts, radii = gtem.get_vertice_radius()\n",
    "        verts_global = np.add(np.matmul(verts, gtem.orientation_mat.transpose()), gtem.center)\n",
    "        verts_wp = np.multiply(DEFAULT_VERT_DICT[self.GTYPE], tuple(self.DIM[:2])+(self.H,))\n",
    "        verts_wp_global = np.add(np.matmul(verts_wp, self.geometry.orientation_mat.transpose()), \n",
    "                                 np.add(self.geometry.center, (0,0,self.H/2)))\n",
    "        return get_gjk_distance(get_point_list(verts_global), get_point_list(verts_wp_global))-radii < 1e-4\n",
    "        \n",
    "    \n",
    "##\n",
    "# @class Box\n",
    "# @brief box with the top and the front side open\n",
    "class Box(WorkPlane):\n",
    "    RPY_MIN = (0, 0, -np.pi/2)\n",
    "    RPY_MAX = (0, 0, +np.pi/2)\n",
    "    DIM_MIN = (0.3, 0.3, 0.05)\n",
    "    DIM_MAX = (0.6, 0.6, 0.05)\n",
    "    COLOR =  (0.8,0.8,0.2,0.5)\n",
    "    H_RANGE = (0.3, 0.6)\n",
    "    THICKNESS = 0.05\n",
    "    def __init__(self, gscene, name, H=None, **kwargs):\n",
    "        WorkPlane.__init__(self, gscene=gscene, name=name, **kwargs)\n",
    "        self.H = np.random.uniform(*self.H_RANGE) if H is None else H\n",
    "\n",
    "        ## back wall\n",
    "        self.subgeo_list.append(gscene.create_safe(\n",
    "            gtype=self.GTYPE, name=self.name+\"_bw\", link_name=\"base_link\", \n",
    "            dims=(self.THICKNESS, self.DIM[1], self.H), center=(self.DIM[0]/2+self.THICKNESS/2, 0,self.H/2), rpy=(0,0,0),\n",
    "            color=self.COLOR, display=True, collision=True, fixed=True,\n",
    "            parent=self.name))\n",
    "\n",
    "        ## left wall\n",
    "        self.subgeo_list.append(gscene.create_safe(\n",
    "            gtype=self.GTYPE, name=self.name+\"_lw\", link_name=\"base_link\", \n",
    "            dims=(self.DIM[0], self.THICKNESS, self.H), center=(0, -self.DIM[1]/2-self.THICKNESS/2, self.H/2), rpy=(0,0,0),\n",
    "            color=self.COLOR, display=True, collision=True, fixed=True,\n",
    "            parent=self.name))\n",
    "\n",
    "        ## right wall\n",
    "        self.subgeo_list.append(gscene.create_safe(\n",
    "            gtype=self.GTYPE, name=self.name+\"_rw\", link_name=\"base_link\", \n",
    "            dims=(self.DIM[0], self.THICKNESS, self.H), center=(0, self.DIM[1]/2+self.THICKNESS/2, self.H/2), rpy=(0,0,0),\n",
    "            color=self.COLOR, display=True, collision=True, fixed=True,\n",
    "            parent=self.name))\n",
    "\n",
    "        \n",
    "##\n",
    "# @class SideBox\n",
    "# @brief box with a side face open\n",
    "class SideBox(Box):\n",
    "    H_RANGE = (0.3, 0.6)\n",
    "    def __init__(self, gscene, name, **kwargs):\n",
    "        Box.__init__(self, gscene=gscene, name=name, **kwargs)\n",
    "\n",
    "        ## top\n",
    "        self.subgeo_list.append(gscene.create_safe(\n",
    "            gtype=self.GTYPE, name=self.name+\"_tp\", link_name=\"base_link\", \n",
    "            dims=(self.DIM[0], self.DIM[1], self.THICKNESS), center=(0, 0, self.H+self.THICKNESS/2), rpy=(0,0,0),\n",
    "            color=self.COLOR, display=True, collision=True, fixed=True,\n",
    "            parent=self.name))\n",
    "\n",
    "##\n",
    "# @class TopBox\n",
    "# @brief box with the top face open\n",
    "class TopBox(Box):\n",
    "    DIM_MIN = (0.3, 0.3, 0.05)\n",
    "    DIM_MAX = (0.6, 0.6, 0.05)\n",
    "    H_RANGE = (0.3, 0.6)\n",
    "    def __init__(self, gscene, name, **kwargs):\n",
    "        Box.__init__(self, gscene=gscene, name=name, **kwargs)\n",
    "\n",
    "        ## front wall\n",
    "        self.subgeo_list.append(gscene.create_safe(\n",
    "            gtype=self.GTYPE, name=self.name+\"_fw\", link_name=\"base_link\", \n",
    "            dims=(self.THICKNESS, self.DIM[1], self.H), center=(-self.DIM[0]/2-self.THICKNESS/2, 0,self.H/2), rpy=(0,0,0),\n",
    "            color=self.COLOR, display=True, collision=True, fixed=True,\n",
    "            parent=self.name))\n",
    "        \n",
    "##\n",
    "# @class Floor\n",
    "# @brief Floor - lowerbound of the workspace\n",
    "class Floor(ObstacleBase):\n",
    "    RTH_MIN = (0.0, 0, -0.5)\n",
    "    RTH_MAX = (0.0, 0, +0.0)\n",
    "    RPY_MIN = (0, 0, 0)\n",
    "    RPY_MAX = (0, 0, 0)\n",
    "    DIM_MIN = (3, 3, 0.1)\n",
    "    DIM_MAX = (3, 3, 0.1)\n",
    "    GTYPE = GEOTYPE.BOX\n",
    "    \n",
    "##\n",
    "# @class Ceiling\n",
    "# @brief Ceiling - upperbound of the workspace\n",
    "class Ceiling(ObstacleBase):\n",
    "    RTH_MIN = (0.0, 0, 1.0)\n",
    "    RTH_MAX = (0.0, 0, 2)\n",
    "    RPY_MIN = (0, 0, 0)\n",
    "    RPY_MAX = (0, 0, 0)\n",
    "    DIM_MIN = (3, 3, 0.1)\n",
    "    DIM_MAX = (3, 3, 0.1)\n",
    "    GTYPE = GEOTYPE.BOX\n",
    "    COLOR=  (0.7,0.7,0.7,0.5)\n",
    "    \n",
    "##\n",
    "# @class Wall\n",
    "# @brief define horizontal boundary of the workspace\n",
    "class Wall(ObstacleBase):\n",
    "    RTH_MIN = (0.3, -np.pi, 0)\n",
    "    RTH_MAX = (2.0, np.pi, 0)\n",
    "    RPY_MIN = (0, 0, 0)\n",
    "    RPY_MAX = (0, 0, 0)\n",
    "    DIM_MIN = (0.1, 6, 3)\n",
    "    DIM_MAX = (0.1, 6, 3)\n",
    "    GTYPE = GEOTYPE.BOX\n",
    "    COLOR=  (0.7,0.7,0.7,0.5)\n",
    "    \n",
    "##\n",
    "# @class Pole\n",
    "# @brief occasional poles that obstruct robot motion\n",
    "class Pole(ObstacleBase):\n",
    "    RTH_MIN = (0.3, -np.pi, 0)\n",
    "    RTH_MAX = (0.8, +np.pi, 0)\n",
    "    RPY_MIN = (0, 0, -np.pi/6)\n",
    "    RPY_MAX = (0, 0, +np.pi/6)\n",
    "    DIM_MIN = (0.1, 0.1, 4)\n",
    "    DIM_MAX = (0.3, 0.3, 4)\n",
    "    GTYPE = GEOTYPE.BOX\n",
    "    COLOR = (0.7,0.7,0.7,0.3)\n",
    "    \n",
    "##\n",
    "# @class Bar\n",
    "# @brief occasional poles that obstruct robot motion\n",
    "class Bar(ObstacleBase):\n",
    "    RTH_MIN = (0.3, -np.pi, 0)\n",
    "    RTH_MAX = (0.8, +np.pi, 1.5)\n",
    "    RPY_MIN = (0, 0, 0)\n",
    "    RPY_MAX = (0, 0, 0)\n",
    "    DIM_MIN = (0.1, 4, 0.1)\n",
    "    DIM_MAX = (0.3, 4, 0.3)\n",
    "    GTYPE = GEOTYPE.BOX\n",
    "    COLOR = (0.7,0.7,0.7,0.3)\n",
    "    \n",
    "##\n",
    "# @class PlaneObstacle\n",
    "# @brief Obstacles on the workplane\n",
    "class PlaneObject(ObstacleBase):\n",
    "    RTH_MIN = (0.3, -np.pi/2, -0.2)\n",
    "    RTH_MAX = (0.8, +np.pi/2, +0.5)\n",
    "    RPY_MIN = (0, 0, -np.pi)\n",
    "    RPY_MAX = (0, 0, +np.pi)\n",
    "    DIM_MIN = (0.02, GRIP_DEPTH, GRIP_DEPTH)\n",
    "    DIM_MAX = (0.06, 0.3, 0.3)\n",
    "    GTYPE = GEOTYPE.BOX\n",
    "    COLOR =  (0.2,0.2,0.8,0.5)\n",
    "    def __init__(self, gscene, name, workplane, XYZ_LOC=None, **kwargs):\n",
    "        ObstacleBase.__init__(self, gscene=gscene, name=name, **kwargs)\n",
    "        verts, radii = self.geometry.get_vertice_radius()\n",
    "        verts_rot = np.matmul(self.geometry.orientation_mat, verts.transpose()) ## verices with global orientaion\n",
    "        verts_rot_loc = np.matmul(workplane.geometry.Toff[:3,:3].transpose(), verts_rot) ## verices with local orientaion\n",
    "        max_verts = np.max(verts_rot_loc, axis=-1)\n",
    "        min_verts = np.min(verts_rot_loc, axis=-1)\n",
    "        if XYZ_LOC is None:\n",
    "            self.XYZ_LOC = np.random.uniform(np.negative(workplane.DIM)/2-min_verts+radii,np.array(workplane.DIM)/2-max_verts-radii)\n",
    "            self.XYZ_LOC[2] = workplane.DIM[2]/2 + self.DIM[2]/2 + CLEARANCE\n",
    "        else:\n",
    "            self.XYZ_LOC = self.XYZ_LOC\n",
    "        self.XYZ = np.matmul(workplane.geometry.Toff[:3,:3], self.XYZ_LOC) + workplane.geometry.Toff[:3,3]\n",
    "        self.geometry.set_offset_tf(center = self.XYZ)\n",
    "        self.RTH = cart2cyl(*self.XYZ)\n",
    "        gscene.update_marker(self.geometry)\n",
    "        \n",
    "        \n",
    "def clear_class(gscene, key, Nmax):\n",
    "    for iw in range(Nmax):\n",
    "        gname = \"{}_{}\".format(key, iw)\n",
    "        if gname in gscene.NAME_DICT:\n",
    "            gscene.remove(gscene.NAME_DICT[gname])\n",
    "\n",
    "            \n",
    "def redistribute_class(gscene, obstacle_class, key, Nmax, workplane_avoid=None):\n",
    "    clear_class(gscene, key, Nmax)\n",
    "        \n",
    "    obs_list = []\n",
    "    for iw in range(np.random.choice(Nmax)):\n",
    "        obs = obstacle_class(gscene, \"{}_{}\".format(key, iw))\n",
    "        while workplane_avoid is not None and workplane_avoid.is_overlapped_with(obs.geometry):\n",
    "            obs = obstacle_class(gscene, \"{}_{}\".format(key, iw))\n",
    "        obs_list.append(obs)\n",
    "    return obs_list\n",
    "\n",
    "            \n",
    "def disperse_objects(gscene, object_class, key, Nmax, workplane_on):\n",
    "    clear_class(gscene, key, Nmax)\n",
    "        \n",
    "    obs_list = []\n",
    "    for iw in range(np.random.choice(Nmax)+1):\n",
    "        obs = object_class(gscene, \"{}_{}\".format(key, iw), workplane_on)\n",
    "        remove_this = False\n",
    "        for obs_pre in obs_list:\n",
    "            if obs_pre.is_overlapped_with(obs.geometry):\n",
    "                remove_this = True\n",
    "                break\n",
    "        if remove_this:\n",
    "            gscene.remove(obs.geometry)\n",
    "        else:\n",
    "            obs_list.append(obs)\n",
    "    return obs_list\n",
    "\n",
    "\n",
    "def add_object(pscene, obj, HANDLE_THICKNESS=1e-6, HANDLE_COLOR = (1,0,0,0.3)):\n",
    "    gscene = pscene.gscene\n",
    "    handles = []\n",
    "    handles.append(\n",
    "        gscene.create_safe(gtype=GEOTYPE.BOX, name=\"hdl_tp_a\", link_name=\"base_link\", \n",
    "                       dims=(GRIP_DEPTH, obj.DIM[1],HANDLE_THICKNESS), center=(0,0,obj.DIM[2]/2-GRIP_DEPTH/2), rpy=(0,np.pi/2,0), \n",
    "                           color=HANDLE_COLOR, display=True, collision=False, fixed=False,\n",
    "                       parent=obj.name)\n",
    "    )\n",
    "\n",
    "    handles.append(\n",
    "        gscene.create_safe(gtype=GEOTYPE.BOX, name=\"hdl_tp_b\", link_name=\"base_link\", \n",
    "                       dims=(GRIP_DEPTH, obj.DIM[1],HANDLE_THICKNESS), center=(0,0,obj.DIM[2]/2-GRIP_DEPTH/2), rpy=(0,-np.pi/2,0), \n",
    "                           color=HANDLE_COLOR, display=True, collision=False, fixed=False,\n",
    "                       parent=obj.name)\n",
    "    )\n",
    "\n",
    "    handles.append(\n",
    "        gscene.create_safe(gtype=GEOTYPE.BOX, name=\"hdl_bt_a\", link_name=\"base_link\", \n",
    "                       dims=(GRIP_DEPTH, obj.DIM[1],HANDLE_THICKNESS), center=(0,0,-obj.DIM[2]/2+GRIP_DEPTH/2), rpy=(0,np.pi/2,0), \n",
    "                           color=HANDLE_COLOR, display=True, collision=False, fixed=False,\n",
    "                       parent=obj.name)\n",
    "    )\n",
    "\n",
    "    handles.append(\n",
    "        gscene.create_safe(gtype=GEOTYPE.BOX, name=\"hdl_bt_b\", link_name=\"base_link\", \n",
    "                       dims=(GRIP_DEPTH, obj.DIM[1],HANDLE_THICKNESS), center=(0,0,-obj.DIM[2]/2+GRIP_DEPTH/2), rpy=(0,-np.pi/2,0), \n",
    "                           color=HANDLE_COLOR, display=True, collision=False, fixed=False,\n",
    "                       parent=obj.name)\n",
    "    )\n",
    "\n",
    "    handles.append(\n",
    "        gscene.create_safe(gtype=GEOTYPE.BOX, name=\"hdl_ft_a\", link_name=\"base_link\", \n",
    "                       dims=(obj.DIM[2], GRIP_DEPTH,HANDLE_THICKNESS), center=(0,obj.DIM[1]/2-GRIP_DEPTH/2,0), rpy=(0,np.pi/2,0), \n",
    "                           color=HANDLE_COLOR, display=True, collision=False, fixed=False,\n",
    "                       parent=obj.name)\n",
    "    )\n",
    "\n",
    "    handles.append(\n",
    "        gscene.create_safe(gtype=GEOTYPE.BOX, name=\"hdl_ft_b\", link_name=\"base_link\", \n",
    "                       dims=(obj.DIM[2], GRIP_DEPTH,HANDLE_THICKNESS), center=(0,obj.DIM[1]/2-GRIP_DEPTH/2,0), rpy=(0,-np.pi/2,0), \n",
    "                           color=HANDLE_COLOR, display=True, collision=False, fixed=False,\n",
    "                       parent=obj.name)\n",
    "    )\n",
    "\n",
    "    handles.append(\n",
    "        gscene.create_safe(gtype=GEOTYPE.BOX, name=\"hdl_bk_a\", link_name=\"base_link\", \n",
    "                       dims=(obj.DIM[2], GRIP_DEPTH,HANDLE_THICKNESS), center=(0,-obj.DIM[1]/2+GRIP_DEPTH/2,0), rpy=(0,np.pi/2,0), \n",
    "                       color=HANDLE_COLOR, display=True, collision=False, fixed=False,\n",
    "                   parent=obj.name)\n",
    "    )\n",
    "\n",
    "    handles.append(\n",
    "        gscene.create_safe(gtype=GEOTYPE.BOX, name=\"hdl_bk_b\", link_name=\"base_link\", \n",
    "                       dims=(obj.DIM[2], GRIP_DEPTH,HANDLE_THICKNESS), center=(0,-obj.DIM[1]/2+GRIP_DEPTH/2,0), rpy=(0,-np.pi/2,0), \n",
    "                           color=HANDLE_COLOR, display=True, collision=False, fixed=False,\n",
    "                       parent=obj.name)\n",
    "    )\n",
    "\n",
    "    action_points_dict = {\"placement\": PlacePoint(\"placement\", obj.geometry, [0,0,-obj.DIM[2]/2], [0,0,0])}\n",
    "    action_points_dict.update({handle.name: Grasp2Point(handle.name, handle, None, (0,0,0)) for handle in handles})\n",
    "    obj_pscene = pscene.create_object(oname=obj.name, gname=obj.name, _type=CustomObject, \n",
    "                                 action_points_dict=action_points_dict)\n",
    "    return obj_pscene, handles\n",
    "        \n",
    "WORKPLANE_TYPES = [WorkPlane, Box, SideBox, TopBox]\n",
    "\n",
    "Nmax_wall, Nmax_pole, Nmax_bar = 4, 8, 8\n",
    "\n",
    "Nmax_obj = 3"
   ]
  },
  {
   "cell_type": "code",
   "execution_count": 16,
   "metadata": {},
   "outputs": [],
   "source": [
    "from pkg.planning.filtering.lattice_model.latticizer_py import *\n",
    "import itertools\n",
    "\n",
    "ltc_full = Latticizer_py(WDH=(3, 3, 3), L_CELL=0.05, OFFSET_ZERO=(1.5, 1.5, 1.5))\n",
    "ltc_effector = Latticizer_py(WDH=(1, 1, 1), L_CELL=0.05, OFFSET_ZERO=(0.5, 0.5, 0.5))\n",
    "ltc_arm_05 = Latticizer_py(WDH=(2, 2, 2), L_CELL=0.05, OFFSET_ZERO=(0.5, 1.0, 1.0))\n",
    "ltc_arm_10 = Latticizer_py(WDH=(2, 2, 2), L_CELL=0.10, OFFSET_ZERO=(0.5, 1.0, 1.0))"
   ]
  },
  {
   "cell_type": "code",
   "execution_count": 17,
   "metadata": {
    "scrolled": true
   },
   "outputs": [
    {
     "name": "stdout",
     "output_type": "stream",
     "text": [
      "\n",
      "DATASET_PATH: /home/rnb/Projects/rnb-planning/data/latticized/panda/20210218-161020\n",
      "\n",
      "3 / 1000 in 92.18 / 30726.83 s -- reach,retrieve = (0.0 %, 0.0 %)                     \n",
      "8 / 1000 in 193.11 / 24138.7 s -- reach,retrieve = (25.0 %, 25.0 %)                      \n",
      "14 / 1000 in 346.83 / 24773.28 s -- reach,retrieve = (21.4 %, 21.4 %)                     \n",
      "16 / 1000 in 379.39 / 23711.9 s -- reach,retrieve = (25.0 %, 25.0 %)                      \n",
      "21 / 1000 in 533.74 / 25416.2 s -- reach,retrieve = (19.0 %, 19.0 %)                      \n",
      "26 / 1000 in 605.21 / 23277.47 s -- reach,retrieve = (26.9 %, 26.9 %)                     \n",
      "31 / 1000 in 758.9 / 24480.56 s -- reach,retrieve = (22.6 %, 22.6 %)                      \n",
      "38 / 1000 in 829.78 / 21836.23 s -- reach,retrieve = (31.6 %, 31.6 %)                     \n",
      "41 / 1000 in 866.78 / 21141.01 s -- reach,retrieve = (34.1 %, 34.1 %)                     \n",
      "46 / 1000 in 966.07 / 21001.62 s -- reach,retrieve = (34.8 %, 34.8 %)                     \n",
      "59 / 1000 in 1334.77 / 22623.24 s -- reach,retrieve = (28.8 %, 28.8 %)                     \n",
      "59 / 1000 in 1335.32 / 22632.53 s -- reach,retrieve = (28.8 %, 28.8 %)                     \n",
      "66 / 1000 in 1460.31 / 22125.96 s -- reach,retrieve = (30.3 %, 30.3 %)                     \n",
      "66 / 1000 in 1460.48 / 22128.49 s -- reach,retrieve = (30.3 %, 30.3 %)                     \n",
      "71 / 1000 in 1614.3 / 22736.58 s -- reach,retrieve = (28.2 %, 28.2 %)                     \n",
      "76 / 1000 in 1768.23 / 23266.15 s -- reach,retrieve = (26.3 %, 26.3 %)                     \n",
      "89 / 1000 in 2108.9 / 23695.54 s -- reach,retrieve = (24.7 %, 24.7 %)                      \n",
      "90 / 1000 in 2109.64 / 23440.49 s -- reach,retrieve = (25.6 %, 25.6 %)                     \n",
      "91 / 1000 in 2111.4 / 23202.23 s -- reach,retrieve = (26.4 %, 26.4 %)                     \n",
      "99 / 1000 in 2272.54 / 22954.97 s -- reach,retrieve = (27.3 %, 27.3 %)                     \n",
      "101 / 1000 in 2276.66 / 22541.18 s -- reach,retrieve = (28.7 %, 28.7 %)                     \n",
      "106 / 1000 in 2343.9 / 22112.26 s -- reach,retrieve = (30.2 %, 30.2 %)                      \n",
      "111 / 1000 in 2439.4 / 21976.59 s -- reach,retrieve = (30.6 %, 30.6 %)                      \n",
      "116 / 1000 in 2506.51 / 21607.81 s -- reach,retrieve = (31.9 %, 31.9 %)                     \n",
      "121 / 1000 in 2608.37 / 21556.78 s -- reach,retrieve = (32.2 %, 32.2 %)                     \n",
      "127 / 1000 in 2736.37 / 21546.18 s -- reach,retrieve = (33.1 %, 32.3 %)                     \n",
      "137 / 1000 in 2985.86 / 21794.6 s -- reach,retrieve = (32.1 %, 31.4 %)                      \n",
      "137 / 1000 in 2986.32 / 21797.97 s -- reach,retrieve = (32.1 %, 31.4 %)                     \n",
      "147 / 1000 in 3291.86 / 22393.58 s -- reach,retrieve = (29.9 %, 29.3 %)                     \n",
      "150 / 1000 in 3324.12 / 22160.8 s -- reach,retrieve = (30.7 %, 30.0 %)                     \n",
      "151 / 1000 in 3356.77 / 22230.26 s -- reach,retrieve = (31.1 %, 29.8 %)                     \n",
      "157 / 1000 in 3512.72 / 22374.04 s -- reach,retrieve = (30.6 %, 29.3 %)                     \n",
      "165 / 1000 in 3668.93 / 22235.97 s -- reach,retrieve = (30.9 %, 29.7 %)                     \n",
      "168 / 1000 in 3748.01 / 22309.61 s -- reach,retrieve = (31.0 %, 29.8 %)                     \n",
      "171 / 1000 in 3788.51 / 22155.04 s -- reach,retrieve = (31.6 %, 30.4 %)                     \n",
      "182 / 1000 in 4063.2 / 22325.27 s -- reach,retrieve = (30.8 %, 29.7 %)                     \n",
      "182 / 1000 in 4063.44 / 22326.61 s -- reach,retrieve = (30.8 %, 29.7 %)                     \n",
      "187 / 1000 in 4188.51 / 22398.45 s -- reach,retrieve = (30.5 %, 29.4 %)                     \n",
      "193 / 1000 in 4256.84 / 22056.17 s -- reach,retrieve = (31.6 %, 30.6 %)                     \n",
      "197 / 1000 in 4379.75 / 22232.21 s -- reach,retrieve = (31.0 %, 29.9 %)                     \n",
      "203 / 1000 in 4535.01 / 22339.94 s -- reach,retrieve = (30.5 %, 29.6 %)                     \n",
      "209 / 1000 in 4720.82 / 22587.65 s -- reach,retrieve = (29.7 %, 28.7 %)                     \n",
      "213 / 1000 in 4754.96 / 22323.75 s -- reach,retrieve = (30.5 %, 29.6 %)                     \n",
      "217 / 1000 in 4877.5 / 22476.94 s -- reach,retrieve = (30.0 %, 29.0 %)                      \n",
      "221 / 1000 in 4892.06 / 22136.01 s -- reach,retrieve = (31.2 %, 30.3 %)                     \n",
      "229 / 1000 in 5051.86 / 22060.53 s -- reach,retrieve = (31.4 %, 30.6 %)                     \n",
      "234 / 1000 in 5206.43 / 22249.68 s -- reach,retrieve = (30.8 %, 29.9 %)                     \n",
      "239 / 1000 in 5360.3 / 22428.03 s -- reach,retrieve = (30.1 %, 29.3 %)                      \n",
      "241 / 1000 in 5364.87 / 22260.87 s -- reach,retrieve = (30.7 %, 29.9 %)                     \n",
      "246 / 1000 in 5490.51 / 22319.15 s -- reach,retrieve = (30.5 %, 29.7 %)                     \n",
      "252 / 1000 in 5557.33 / 22052.91 s -- reach,retrieve = (31.3 %, 30.6 %)                     \n",
      "256 / 1000 in 5627.57 / 21982.69 s -- reach,retrieve = (32.0 %, 30.9 %)                     \n",
      "263 / 1000 in 5786.12 / 22000.45 s -- reach,retrieve = (31.9 %, 30.8 %)                     \n",
      "268 / 1000 in 5915.12 / 22071.33 s -- reach,retrieve = (31.7 %, 30.6 %)                     \n",
      "271 / 1000 in 5977.86 / 22058.53 s -- reach,retrieve = (31.7 %, 30.6 %)                     \n",
      "276 / 1000 in 6130.69 / 22212.65 s -- reach,retrieve = (31.2 %, 30.1 %)                     \n",
      "282 / 1000 in 6256.71 / 22186.91 s -- reach,retrieve = (31.2 %, 29.8 %)                     \n",
      "295 / 1000 in 6612.59 / 22415.56 s -- reach,retrieve = (30.8 %, 29.5 %)                     \n",
      "295 / 1000 in 6613.17 / 22417.54 s -- reach,retrieve = (30.8 %, 29.5 %)                     \n",
      "296 / 1000 in 6615.4 / 22349.34 s -- reach,retrieve = (31.1 %, 29.7 %)                      \n",
      "302 / 1000 in 6740.65 / 22320.04 s -- reach,retrieve = (31.1 %, 29.8 %)                     \n",
      "309 / 1000 in 6900.29 / 22331.03 s -- reach,retrieve = (31.1 %, 29.8 %)                     \n",
      "315 / 1000 in 7057.51 / 22404.78 s -- reach,retrieve = (30.8 %, 29.5 %)                     \n",
      "316 / 1000 in 7058.73 / 22337.76 s -- reach,retrieve = (31.0 %, 29.7 %)                     \n",
      "323 / 1000 in 7253.98 / 22458.14 s -- reach,retrieve = (30.7 %, 29.4 %)                     \n",
      "328 / 1000 in 7378.52 / 22495.47 s -- reach,retrieve = (30.5 %, 29.3 %)                     \n",
      "333 / 1000 in 7531.3 / 22616.52 s -- reach,retrieve = (30.0 %, 28.8 %)                     \n",
      "339 / 1000 in 7685.61 / 22671.43 s -- reach,retrieve = (29.8 %, 28.6 %)                     \n",
      "341 / 1000 in 7687.53 / 22544.06 s -- reach,retrieve = (30.2 %, 29.0 %)                     \n",
      "346 / 1000 in 7783.15 / 22494.65 s -- reach,retrieve = (30.3 %, 29.2 %)                     \n",
      "353 / 1000 in 7945.87 / 22509.54 s -- reach,retrieve = (30.3 %, 29.2 %)                     \n",
      "360 / 1000 in 8160.49 / 22668.03 s -- reach,retrieve = (29.7 %, 28.6 %)                     \n",
      "362 / 1000 in 8223.41 / 22716.6 s -- reach,retrieve = (29.6 %, 28.5 %)                      \n",
      "366 / 1000 in 8337.1 / 22778.96 s -- reach,retrieve = (29.8 %, 28.7 %)                      \n",
      "372 / 1000 in 8480.7 / 22797.58 s -- reach,retrieve = (29.8 %, 28.8 %)                      \n",
      "376 / 1000 in 8515.73 / 22648.23 s -- reach,retrieve = (30.3 %, 29.3 %)                     \n",
      "381 / 1000 in 8594.79 / 22558.49 s -- reach,retrieve = (31.0 %, 29.7 %)                     \n",
      "386 / 1000 in 8633.33 / 22366.13 s -- reach,retrieve = (31.6 %, 30.3 %)                     \n",
      "393 / 1000 in 8819.9 / 22442.49 s -- reach,retrieve = (31.3 %, 30.0 %)                      \n",
      "399 / 1000 in 8948.04 / 22426.17 s -- reach,retrieve = (31.3 %, 29.8 %)                     \n",
      "402 / 1000 in 9002.99 / 22395.5 s -- reach,retrieve = (31.8 %, 30.1 %)                      \n",
      "406 / 1000 in 9038.6 / 22262.57 s -- reach,retrieve = (32.3 %, 30.5 %)                      \n",
      "411 / 1000 in 9190.43 / 22361.15 s -- reach,retrieve = (31.9 %, 30.2 %)                     \n",
      "417 / 1000 in 9377.6 / 22488.24 s -- reach,retrieve = (31.7 %, 29.7 %)                      \n",
      "424 / 1000 in 9531.38 / 22479.68 s -- reach,retrieve = (31.8 %, 30.0 %)                     \n",
      "430 / 1000 in 9714.49 / 22591.84 s -- reach,retrieve = (31.4 %, 29.5 %)                     \n",
      "432 / 1000 in 9716.71 / 22492.37 s -- reach,retrieve = (31.7 %, 29.9 %)                     \n"
     ]
    },
    {
     "name": "stdout",
     "output_type": "stream",
     "text": [
      "436 / 1000 in 9753.17 / 22369.65 s -- reach,retrieve = (32.1 %, 30.3 %)                     \n",
      "441 / 1000 in 9876.77 / 22396.3 s -- reach,retrieve = (32.0 %, 30.2 %)                      \n",
      "449 / 1000 in 10032.28 / 22343.6 s -- reach,retrieve = (32.1 %, 30.3 %)                     \n",
      "452 / 1000 in 10095.54 / 22335.26 s -- reach,retrieve = (32.1 %, 30.3 %)                     \n",
      "464 / 1000 in 10433.49 / 22485.96 s -- reach,retrieve = (31.5 %, 29.7 %)                     \n",
      "464 / 1000 in 10433.66 / 22486.33 s -- reach,retrieve = (31.5 %, 29.7 %)                     \n",
      "466 / 1000 in 10437.05 / 22397.09 s -- reach,retrieve = (31.8 %, 30.0 %)                     \n",
      "474 / 1000 in 10628.59 / 22423.18 s -- reach,retrieve = (31.6 %, 30.0 %)                     \n",
      "478 / 1000 in 10723.28 / 22433.65 s -- reach,retrieve = (31.6 %, 29.9 %)                     \n",
      "481 / 1000 in 10729.8 / 22307.28 s -- reach,retrieve = (32.0 %, 30.4 %)                      \n",
      "489 / 1000 in 10975.47 / 22444.72 s -- reach,retrieve = (31.5 %, 29.9 %)                     \n",
      "491 / 1000 in 10981.04 / 22364.64 s -- reach,retrieve = (31.8 %, 30.1 %)                     \n",
      "504 / 1000 in 11293.82 / 22408.37 s -- reach,retrieve = (31.5 %, 30.0 %)                     \n",
      "504 / 1000 in 11294.02 / 22408.78 s -- reach,retrieve = (31.5 %, 30.0 %)                     \n",
      "507 / 1000 in 11299.43 / 22286.85 s -- reach,retrieve = (32.0 %, 30.4 %)                     \n",
      "518 / 1000 in 11665.1 / 22519.5 s -- reach,retrieve = (31.7 %, 29.7 %)                     \n",
      "518 / 1000 in 11665.37 / 22520.02 s -- reach,retrieve = (31.7 %, 29.7 %)                     \n",
      "525 / 1000 in 11880.51 / 22629.54 s -- reach,retrieve = (31.2 %, 29.3 %)                     \n",
      "530 / 1000 in 12003.3 / 22647.74 s -- reach,retrieve = (31.1 %, 29.2 %)                     \n",
      "531 / 1000 in 12004.14 / 22606.67 s -- reach,retrieve = (31.3 %, 29.4 %)                     \n",
      "537 / 1000 in 12130.85 / 22590.05 s -- reach,retrieve = (31.3 %, 29.4 %)                     \n",
      "542 / 1000 in 12136.67 / 22392.38 s -- reach,retrieve = (31.9 %, 30.1 %)                     \n",
      "550 / 1000 in 12334.72 / 22426.76 s -- reach,retrieve = (31.8 %, 30.0 %)                     \n",
      "553 / 1000 in 12426.89 / 22471.77 s -- reach,retrieve = (31.6 %, 29.8 %)                     \n",
      "557 / 1000 in 12520.33 / 22478.16 s -- reach,retrieve = (31.6 %, 29.8 %)                     \n",
      "566 / 1000 in 12787.82 / 22593.33 s -- reach,retrieve = (31.3 %, 29.5 %)                     \n",
      "568 / 1000 in 12819.52 / 22569.57 s -- reach,retrieve = (31.3 %, 29.6 %)                     \n",
      "572 / 1000 in 12825.5 / 22422.2 s -- reach,retrieve = (31.8 %, 30.1 %)                       \n",
      "579 / 1000 in 13012.58 / 22474.23 s -- reach,retrieve = (31.6 %, 29.9 %)                     \n",
      "581 / 1000 in 13015.02 / 22401.07 s -- reach,retrieve = (31.8 %, 30.1 %)                     \n",
      "587 / 1000 in 13197.07 / 22482.24 s -- reach,retrieve = (31.5 %, 29.8 %)                     \n",
      "591 / 1000 in 13234.31 / 22393.07 s -- reach,retrieve = (31.8 %, 30.1 %)                     \n",
      "597 / 1000 in 13300.55 / 22278.97 s -- reach,retrieve = (32.2 %, 30.5 %)                     \n",
      "601 / 1000 in 13393.18 / 22284.83 s -- reach,retrieve = (32.3 %, 30.6 %)                     \n",
      "607 / 1000 in 13549.9 / 22322.73 s -- reach,retrieve = (32.1 %, 30.5 %)                      \n",
      "611 / 1000 in 13683.73 / 22395.63 s -- reach,retrieve = (32.1 %, 30.3 %)                     \n",
      "620 / 1000 in 13940.69 / 22484.98 s -- reach,retrieve = (31.8 %, 30.0 %)                     \n",
      "623 / 1000 in 13974.48 / 22430.94 s -- reach,retrieve = (31.9 %, 30.2 %)                     \n",
      "628 / 1000 in 14126.96 / 22495.16 s -- reach,retrieve = (31.7 %, 29.9 %)                     \n",
      "633 / 1000 in 14280.73 / 22560.4 s -- reach,retrieve = (31.4 %, 29.7 %)                     \n",
      "637 / 1000 in 14374.94 / 22566.62 s -- reach,retrieve = (31.4 %, 29.7 %)                     \n",
      "642 / 1000 in 14426.21 / 22470.73 s -- reach,retrieve = (31.8 %, 30.1 %)                     \n",
      "648 / 1000 in 14557.58 / 22465.4 s -- reach,retrieve = (31.8 %, 30.1 %)                      \n",
      "651 / 1000 in 14575.78 / 22389.83 s -- reach,retrieve = (32.1 %, 30.4 %)                     \n",
      "656 / 1000 in 14729.23 / 22453.1 s -- reach,retrieve = (31.9 %, 30.2 %)                      \n",
      "661 / 1000 in 14739.91 / 22299.41 s -- reach,retrieve = (32.4 %, 30.7 %)                     \n",
      "667 / 1000 in 14835.77 / 22242.53 s -- reach,retrieve = (32.5 %, 30.9 %)                     \n",
      "671 / 1000 in 14902.39 / 22209.23 s -- reach,retrieve = (32.6 %, 31.0 %)                     \n",
      "676 / 1000 in 15056.43 / 22272.83 s -- reach,retrieve = (32.4 %, 30.8 %)                     \n",
      "681 / 1000 in 15209.38 / 22333.89 s -- reach,retrieve = (32.2 %, 30.5 %)                     \n",
      "686 / 1000 in 15225.74 / 22194.95 s -- reach,retrieve = (32.7 %, 31.0 %)                     \n",
      "699 / 1000 in 15538.11 / 22229.06 s -- reach,retrieve = (32.5 %, 30.9 %)                     \n",
      "700 / 1000 in 15539.51 / 22199.3 s -- reach,retrieve = (32.6 %, 31.0 %)                     \n",
      "701 / 1000 in 15541.91 / 22171.05 s -- reach,retrieve = (32.7 %, 31.1 %)                     \n",
      "711 / 1000 in 15821.14 / 22251.96 s -- reach,retrieve = (32.3 %, 30.8 %)                     \n",
      "713 / 1000 in 15822.59 / 22191.57 s -- reach,retrieve = (32.5 %, 31.0 %)                     \n",
      "716 / 1000 in 15827.45 / 22105.37 s -- reach,retrieve = (32.8 %, 31.3 %)                     \n",
      "721 / 1000 in 15835.13 / 21962.73 s -- reach,retrieve = (33.3 %, 31.8 %)                     \n",
      "726 / 1000 in 15987.92 / 22021.92 s -- reach,retrieve = (33.1 %, 31.5 %)                     \n",
      "731 / 1000 in 16086.65 / 22006.35 s -- reach,retrieve = (33.1 %, 31.6 %)                     \n",
      "736 / 1000 in 16240.91 / 22066.45 s -- reach,retrieve = (32.9 %, 31.4 %)                     \n",
      "742 / 1000 in 16369.28 / 22061.02 s -- reach,retrieve = (32.9 %, 31.4 %)                     \n",
      "746 / 1000 in 16407.06 / 21993.38 s -- reach,retrieve = (33.1 %, 31.6 %)                     \n",
      "751 / 1000 in 16418.18 / 21861.76 s -- reach,retrieve = (33.6 %, 32.1 %)                     \n",
      "759 / 1000 in 16620.44 / 21897.81 s -- reach,retrieve = (33.5 %, 32.0 %)                     \n",
      "761 / 1000 in 16627.02 / 21848.9 s -- reach,retrieve = (33.6 %, 32.2 %)                      \n",
      "769 / 1000 in 16786.58 / 21829.1 s -- reach,retrieve = (33.7 %, 32.2 %)                      \n",
      "773 / 1000 in 16910.04 / 21875.86 s -- reach,retrieve = (33.5 %, 32.1 %)                     \n",
      "778 / 1000 in 16948.99 / 21785.34 s -- reach,retrieve = (33.8 %, 32.4 %)                     \n",
      "781 / 1000 in 16983.05 / 21745.27 s -- reach,retrieve = (33.9 %, 32.5 %)                     \n",
      "787 / 1000 in 16992.07 / 21590.94 s -- reach,retrieve = (34.4 %, 33.0 %)                     \n",
      "794 / 1000 in 17139.41 / 21586.16 s -- reach,retrieve = (34.5 %, 33.1 %)                     \n",
      "797 / 1000 in 17143.94 / 21510.59 s -- reach,retrieve = (34.8 %, 33.4 %)                     \n",
      "802 / 1000 in 17154.18 / 21389.25 s -- reach,retrieve = (35.2 %, 33.8 %)                     \n",
      "809 / 1000 in 17370.04 / 21471.0 s -- reach,retrieve = (34.9 %, 33.5 %)                     \n",
      "812 / 1000 in 17431.35 / 21467.18 s -- reach,retrieve = (34.9 %, 33.5 %)                     \n",
      "816 / 1000 in 17553.82 / 21512.03 s -- reach,retrieve = (34.7 %, 33.3 %)                     \n",
      "824 / 1000 in 17770.61 / 21566.27 s -- reach,retrieve = (34.5 %, 33.1 %)                     \n",
      "826 / 1000 in 17832.28 / 21588.72 s -- reach,retrieve = (34.4 %, 33.1 %)                     \n",
      "832 / 1000 in 18017.37 / 21655.49 s -- reach,retrieve = (34.3 %, 32.8 %)                     \n",
      "838 / 1000 in 18173.99 / 21687.33 s -- reach,retrieve = (34.1 %, 32.7 %)                     \n",
      "841 / 1000 in 18207.82 / 21650.2 s -- reach,retrieve = (34.2 %, 32.8 %)                      \n",
      "847 / 1000 in 18305.42 / 21612.06 s -- reach,retrieve = (34.4 %, 32.9 %)                     \n",
      "856 / 1000 in 18554.9 / 21676.29 s -- reach,retrieve = (34.1 %, 32.7 %)                      \n",
      "857 / 1000 in 18563.9 / 21661.5 s -- reach,retrieve = (34.2 %, 32.8 %)                     \n",
      "862 / 1000 in 18660.7 / 21648.15 s -- reach,retrieve = (34.2 %, 32.8 %)                      \n",
      "866 / 1000 in 18697.02 / 21590.09 s -- reach,retrieve = (34.4 %, 33.0 %)                     \n"
     ]
    },
    {
     "name": "stdout",
     "output_type": "stream",
     "text": [
      "873 / 1000 in 18852.67 / 21595.27 s -- reach,retrieve = (34.4 %, 33.0 %)                     \n",
      "876 / 1000 in 18856.19 / 21525.33 s -- reach,retrieve = (34.6 %, 33.2 %)                     \n",
      "881 / 1000 in 18955.86 / 21516.3 s -- reach,retrieve = (34.6 %, 33.3 %)                      \n",
      "887 / 1000 in 18994.12 / 21413.89 s -- reach,retrieve = (34.9 %, 33.6 %)                     \n",
      "891 / 1000 in 19068.55 / 21401.29 s -- reach,retrieve = (35.0 %, 33.7 %)                     \n",
      "899 / 1000 in 19320.8 / 21491.44 s -- reach,retrieve = (34.8 %, 33.4 %)                      \n",
      "904 / 1000 in 19475.71 / 21543.92 s -- reach,retrieve = (34.6 %, 33.2 %)                     \n",
      "906 / 1000 in 19479.36 / 21500.4 s -- reach,retrieve = (34.8 %, 33.3 %)                      \n",
      "913 / 1000 in 19666.36 / 21540.37 s -- reach,retrieve = (34.6 %, 33.2 %)                     \n",
      "918 / 1000 in 19763.72 / 21529.11 s -- reach,retrieve = (34.6 %, 33.2 %)                     \n",
      "922 / 1000 in 19857.79 / 21537.73 s -- reach,retrieve = (34.7 %, 33.2 %)                     \n",
      "926 / 1000 in 19922.52 / 21514.6 s -- reach,retrieve = (34.8 %, 33.2 %)                      \n",
      "931 / 1000 in 20022.02 / 21505.93 s -- reach,retrieve = (34.8 %, 33.2 %)                     \n",
      "939 / 1000 in 20218.58 / 21532.03 s -- reach,retrieve = (34.7 %, 33.0 %)                     \n",
      "941 / 1000 in 20220.22 / 21488.01 s -- reach,retrieve = (34.9 %, 33.2 %)                     \n",
      "947 / 1000 in 20325.17 / 21462.69 s -- reach,retrieve = (35.0 %, 33.3 %)                     \n",
      "954 / 1000 in 20543.56 / 21534.13 s -- reach,retrieve = (34.7 %, 33.0 %)                     \n",
      "960 / 1000 in 20699.45 / 21561.93 s -- reach,retrieve = (34.6 %, 32.9 %)                     \n",
      "969 / 1000 in 20979.39 / 21650.56 s -- reach,retrieve = (34.3 %, 32.6 %)                     \n",
      "973 / 1000 in 21072.21 / 21656.94 s -- reach,retrieve = (34.2 %, 32.6 %)                     \n",
      "978 / 1000 in 21223.88 / 21701.31 s -- reach,retrieve = (34.0 %, 32.4 %)                     \n",
      "979 / 1000 in 21224.82 / 21680.1 s -- reach,retrieve = (34.1 %, 32.5 %)                     \n",
      "982 / 1000 in 21227.71 / 21616.81 s -- reach,retrieve = (34.3 %, 32.7 %)                     \n",
      "987 / 1000 in 21326.18 / 21607.07 s -- reach,retrieve = (34.3 %, 32.7 %)                     \n",
      "994 / 1000 in 21510.24 / 21640.08 s -- reach,retrieve = (34.2 %, 32.6 %)                     \n",
      "999 / 1000 in 21663.44 / 21685.13 s -- reach,retrieve = (34.0 %, 32.4 %)                     \n",
      "1001 / 1000 in 21726.84 / 21705.13 s -- reach,retrieve = (34.0 %, 32.4 %)                     \n",
      "\n",
      "\n",
      "============= Finished 1001 in 21726.84 s -- reach,retrieve = (34.0 %, 32.4 %) =================\n",
      "\n",
      "DATASET_PATH: /home/rnb/Projects/rnb-planning/data/latticized/panda/20210218-221226\n",
      "\n",
      "2 / 1000 in 62.18 / 31089.05 s -- reach,retrieve = (0.0 %, 0.0 %)                     \n",
      "7 / 1000 in 214.87 / 30695.79 s -- reach,retrieve = (0.0 %, 0.0 %)                     \n",
      "13 / 1000 in 378.73 / 29132.87 s -- reach,retrieve = (7.7 %, 7.7 %)                     \n",
      "16 / 1000 in 383.14 / 23946.18 s -- reach,retrieve = (25.0 %, 25.0 %)                     \n",
      "24 / 1000 in 542.05 / 22585.33 s -- reach,retrieve = (29.2 %, 29.2 %)                     \n",
      "26 / 1000 in 551.43 / 21208.99 s -- reach,retrieve = (34.6 %, 34.6 %)                     \n",
      "31 / 1000 in 618.67 / 19957.01 s -- reach,retrieve = (38.7 %, 35.5 %)                     \n",
      "36 / 1000 in 690.28 / 19174.56 s -- reach,retrieve = (41.7 %, 38.9 %)                     \n",
      "45 / 1000 in 860.77 / 19128.14 s -- reach,retrieve = (42.2 %, 40.0 %)                     \n",
      "45 / 1000 in 862.16 / 19159.05 s -- reach,retrieve = (42.2 %, 40.0 %)                     \r"
     ]
    },
    {
     "ename": "KeyboardInterrupt",
     "evalue": "",
     "output_type": "error",
     "traceback": [
      "\u001b[0;31m---------------------------------------------------------------------------\u001b[0m",
      "\u001b[0;31mKeyboardInterrupt\u001b[0m                         Traceback (most recent call last)",
      "\u001b[0;32m<ipython-input-17-3e3539f8c60a>\u001b[0m in \u001b[0;36m<module>\u001b[0;34m()\u001b[0m\n\u001b[1;32m     83\u001b[0m                     \u001b[0mgtimer\u001b[0m\u001b[0;34m.\u001b[0m\u001b[0mtic\u001b[0m\u001b[0;34m(\u001b[0m\u001b[0;34m\"reach\"\u001b[0m\u001b[0;34m)\u001b[0m\u001b[0;34m\u001b[0m\u001b[0m\n\u001b[1;32m     84\u001b[0m                     Traj_reach, LastQ, error, success_reach, binding_list = mplan.plan_transition(\n\u001b[0;32m---> 85\u001b[0;31m                         from_state=from_state, to_state=to_state, redundancy_dict=redundancy_dict, timeout=TIMEOUT_REACH)\n\u001b[0m\u001b[1;32m     86\u001b[0m                     \u001b[0mtime_reach\u001b[0m \u001b[0;34m=\u001b[0m \u001b[0mgtimer\u001b[0m\u001b[0;34m.\u001b[0m\u001b[0mtoc\u001b[0m\u001b[0;34m(\u001b[0m\u001b[0;34m\"reach\"\u001b[0m\u001b[0;34m)\u001b[0m\u001b[0;34m\u001b[0m\u001b[0m\n\u001b[1;32m     87\u001b[0m                     \u001b[0mreach_success_list\u001b[0m\u001b[0;34m.\u001b[0m\u001b[0mappend\u001b[0m\u001b[0;34m(\u001b[0m\u001b[0msuccess_reach\u001b[0m\u001b[0;34m)\u001b[0m\u001b[0;34m\u001b[0m\u001b[0m\n",
      "\u001b[0;32m/home/rnb/Projects/rnb-planning/src/pkg/planning/motion/interface.pyc\u001b[0m in \u001b[0;36mplan_transition\u001b[0;34m(self, from_state, to_state, redundancy_dict, **kwargs)\u001b[0m\n\u001b[1;32m     90\u001b[0m                 \u001b[0mself\u001b[0m\u001b[0;34m.\u001b[0m\u001b[0mgtimer\u001b[0m\u001b[0;34m.\u001b[0m\u001b[0mtic\u001b[0m\u001b[0;34m(\u001b[0m\u001b[0;34m'planning'\u001b[0m\u001b[0;34m)\u001b[0m\u001b[0;34m\u001b[0m\u001b[0m\n\u001b[1;32m     91\u001b[0m             Traj, LastQ, error, success = self.plan_algorithm(from_state, to_state, binding_list,\n\u001b[0;32m---> 92\u001b[0;31m                                                               redundancy_dict=redundancy_dict, **kwargs)\n\u001b[0m\u001b[1;32m     93\u001b[0m             \u001b[0;32mif\u001b[0m \u001b[0mself\u001b[0m\u001b[0;34m.\u001b[0m\u001b[0mflag_log\u001b[0m\u001b[0;34m:\u001b[0m\u001b[0;34m\u001b[0m\u001b[0m\n\u001b[1;32m     94\u001b[0m                 \u001b[0mself\u001b[0m\u001b[0;34m.\u001b[0m\u001b[0mgtimer\u001b[0m\u001b[0;34m.\u001b[0m\u001b[0mtoc\u001b[0m\u001b[0;34m(\u001b[0m\u001b[0;34m'planning'\u001b[0m\u001b[0;34m)\u001b[0m\u001b[0;34m\u001b[0m\u001b[0m\n",
      "\u001b[0;32m/home/rnb/Projects/rnb-planning/src/pkg/planning/motion/moveit/moveit_planner.pyc\u001b[0m in \u001b[0;36mplan_algorithm\u001b[0;34m(self, from_state, to_state, binding_list, redundancy_dict, timeout, **kwargs)\u001b[0m\n\u001b[1;32m    234\u001b[0m             \u001b[0;32melse\u001b[0m\u001b[0;34m:\u001b[0m\u001b[0;34m\u001b[0m\u001b[0m\n\u001b[1;32m    235\u001b[0m                 trajectory, success = planner.plan_py(\n\u001b[0;32m--> 236\u001b[0;31m                     group_name, tool.geometry.link_name, goal_pose, target.geometry.link_name, tuple(from_Q), timeout=timeout)\n\u001b[0m\u001b[1;32m    237\u001b[0m \u001b[0;34m\u001b[0m\u001b[0m\n\u001b[1;32m    238\u001b[0m         \u001b[0;32mif\u001b[0m \u001b[0msuccess\u001b[0m\u001b[0;34m:\u001b[0m\u001b[0;34m\u001b[0m\u001b[0m\n",
      "\u001b[0;32m/home/rnb/Projects/rnb-planning/src/pkg/planning/motion/moveit/moveit_py.pyc\u001b[0m in \u001b[0;36mplan_py\u001b[0;34m(self, robot_name, tool_link, goal_pose, goal_link, Q_init, plannerconfig, timeout)\u001b[0m\n\u001b[1;32m    111\u001b[0m         \u001b[0mself\u001b[0m\u001b[0;34m.\u001b[0m\u001b[0mclear_context_cache\u001b[0m\u001b[0;34m(\u001b[0m\u001b[0;34m)\u001b[0m\u001b[0;34m\u001b[0m\u001b[0m\n\u001b[1;32m    112\u001b[0m         plan = self.plan(robot_name, str(tool_link), CartPose(*goal_pose), str(goal_link),\n\u001b[0;32m--> 113\u001b[0;31m                          JointState(self.joint_num, *Q_init), plannerconfig, timeout)\n\u001b[0m\u001b[1;32m    114\u001b[0m         return np.array(\n\u001b[1;32m    115\u001b[0m             [spread(Q, self.joint_num) for Q in spread(plan.trajectory, len(plan.trajectory))]), plan.success\n",
      "\u001b[0;31mKeyboardInterrupt\u001b[0m: "
     ]
    }
   ],
   "source": [
    "gtimer = GlobalTimer.instance()\n",
    "gtimer.reset()\n",
    "\n",
    "reach_success_list = []\n",
    "reach_time_list = []\n",
    "retrieve_success_list = []\n",
    "retrieve_time_list = []\n",
    "\n",
    "for _ in range(10):\n",
    "    ROBOT_DATA_ROOT = os.path.join(ALG_DATA_PATH, ROBOT_TYPE.name)\n",
    "    try_mkdir(ROBOT_DATA_ROOT)\n",
    "\n",
    "    DATASET_PATH = os.path.join(ROBOT_DATA_ROOT, get_now())\n",
    "    try_mkdir(DATASET_PATH)\n",
    "    print(\"\")\n",
    "    print(\"DATASET_PATH: {}\".format(DATASET_PATH))\n",
    "    print(\"\")\n",
    "\n",
    "    GRASP_PATH = os.path.join(DATASET_PATH, \"grasp\")\n",
    "    try_mkdir(GRASP_PATH)\n",
    "\n",
    "    ARM_10_PATH = os.path.join(DATASET_PATH, \"arm_10\")\n",
    "    try_mkdir(ARM_10_PATH)\n",
    "\n",
    "    ARM_05_PATH = os.path.join(DATASET_PATH, \"arm_05\")\n",
    "    try_mkdir(ARM_05_PATH)\n",
    "\n",
    "    FULL_SCENE_PATH = os.path.join(DATASET_PATH, \"full_scene\")\n",
    "    try_mkdir(FULL_SCENE_PATH)\n",
    "\n",
    "    N_max_sample = 1000\n",
    "    N_print = 5\n",
    "\n",
    "    gtimer.tic(\"full_loop\")\n",
    "\n",
    "    i_s = 0\n",
    "    i_print = 0\n",
    "    reach_list = []\n",
    "    retrieve_list = []\n",
    "    while i_s < N_max_sample:\n",
    "        ## add floor, ceiling\n",
    "        floor = Floor(gscene, \"floor\")\n",
    "        # ceiling = Ceiling(gscene, \"ceiling\")\n",
    "\n",
    "        ## set workplane\n",
    "        wp = random.choice(WORKPLANE_TYPES)(gscene, \"wp\", floor_height=floor.RTH[2]+floor.DIM[2]/2)\n",
    "        pscene.create_binder(bname=\"wp\", gname=\"wp\", _type=PlacePlane)\n",
    "\n",
    "        ## add walls, poles, bars\n",
    "        walls = redistribute_class(gscene, Wall, \"wl\", Nmax_wall, workplane_avoid=wp)\n",
    "        poles = redistribute_class(gscene, Pole, \"po\", Nmax_pole, workplane_avoid=wp)\n",
    "        bars = redistribute_class(gscene, Bar, \"bar\", Nmax_bar, workplane_avoid=wp)\n",
    "\n",
    "        ## add object\n",
    "        obj_list = disperse_objects(gscene, PlaneObject, \"obj\", Nmax_obj, workplane_on=wp)\n",
    "\n",
    "        samples = []\n",
    "        for obj in obj_list:\n",
    "            SHOW_PERIOD = 0.01\n",
    "            N_sample_single_obj = 100\n",
    "            N_sample_single_obj_max = 5\n",
    "            obj_pscene, handles = add_object(pscene, obj)\n",
    "            mplan.update_gscene()\n",
    "            initial_state = pscene.update_state(HOME_POSE)\n",
    "            pscene.set_object_state(initial_state)\n",
    "            from_state = initial_state.copy(pscene)\n",
    "            to_node = (\"grip0\",)\n",
    "            available_binding_dict = pscene.get_available_binding_dict(from_state, to_node, HOME_DICT)\n",
    "            samples_obj = []\n",
    "            for _ in range(N_sample_single_obj):\n",
    "                to_state, redundancy_dict = pscene.sample_leaf_state(from_state, available_binding_dict, to_node)\n",
    "                res = True\n",
    "                for checker in checkers:\n",
    "                    res = checker.check(gripper, obj_pscene, obj_pscene.action_points_dict[to_state.binding_state[0][1]], redundancy_dict[obj.name], HOME_DICT)\n",
    "                    if checker.__class__.__name__ == \"GraspChecker\":\n",
    "                        res_col = res\n",
    "                    if not res:\n",
    "                        break\n",
    "\n",
    "                success_reach, success_retrieve = False, False\n",
    "                time_reach, time_retrieve = TIMEOUT_REACH, TIMEOUT_RETRIEVE\n",
    "                if res:\n",
    "                    gtimer.tic(\"reach\")\n",
    "                    Traj_reach, LastQ, error, success_reach, binding_list = mplan.plan_transition(\n",
    "                        from_state=from_state, to_state=to_state, redundancy_dict=redundancy_dict, timeout=TIMEOUT_REACH)\n",
    "                    time_reach = gtimer.toc(\"reach\")\n",
    "                    reach_success_list.append(success_reach)\n",
    "                    reach_time_list.append(time_reach)\n",
    "        #             print(\"reach: {}\".format(success_reach))\n",
    "                    Traj_retrieve = []\n",
    "                    if success_reach:\n",
    "                        if VISUALIZE:\n",
    "                            gscene.show_motion(Traj_reach, period=SHOW_PERIOD)\n",
    "                        for bd in binding_list:\n",
    "                            pscene.rebind(bd, list2dict(LastQ, pscene.gscene.joint_names))\n",
    "                        binding_state, state_param = pscene.get_object_state()\n",
    "                        new_state = State(binding_state, state_param, list(LastQ), pscene)\n",
    "                        end_state = new_state.copy(pscene)\n",
    "                        end_state.Q = np.array(HOME_POSE)\n",
    "                        gtimer.tic(\"retrieve\")\n",
    "                        Traj_retrieve, LastQ, error, success_retrieve, binding_list = mplan.plan_transition(\n",
    "                            from_state=new_state, to_state=end_state, timeout=TIMEOUT_RETRIEVE)\n",
    "                        time_retrieve = gtimer.toc(\"retrieve\")\n",
    "                        retrieve_success_list.append(success_retrieve)\n",
    "                        retrieve_time_list.append(time_retrieve)\n",
    "        #                 print(\"retrieve: {}\".format(success_retrieve))\n",
    "                        if success_retrieve and VISUALIZE:\n",
    "                            gscene.show_motion(Traj_retrieve, period=SHOW_PERIOD)\n",
    "                    samples_obj.append((obj.name, from_state, to_state, redundancy_dict, \n",
    "                                        success_reach, success_retrieve, Traj_reach, Traj_retrieve, time_reach, time_retrieve))\n",
    "                    if len(samples_obj)>=N_sample_single_obj_max:\n",
    "                        pscene.set_object_state(initial_state)\n",
    "                        break\n",
    "                else:\n",
    "                    pass\n",
    "                if success_retrieve and not res_col:\n",
    "                    raise(RuntimeError(\"Something's wrong: successful motion but collision checker failed\"))\n",
    "        #             print(\"no save?\")\n",
    "            samples = samples+samples_obj\n",
    "            pscene.set_object_state(initial_state)\n",
    "\n",
    "            pscene.remove_object(obj_pscene.oname)\n",
    "            for handle in handles:\n",
    "                gscene.remove(handle)    \n",
    "\n",
    "            gscene.update_markers_all()\n",
    "\n",
    "        for sample in samples:\n",
    "            obj_name, from_state, to_state, redundancy_dict, success_reach, success_retrieve, \\\n",
    "                Traj_reach, Traj_retrieve, time_reach, time_retrieve = sample\n",
    "            obj = [obj for obj in obj_list if obj.name == obj_name][0]\n",
    "            obj_pscene, handles = add_object(pscene, obj)\n",
    "            pscene.set_object_state(from_state)\n",
    "            binding_list, binding_ok = pscene.get_slack_bindings(from_state, to_state)\n",
    "            assert binding_ok, \"no available transition\"\n",
    "            assert len(binding_list) == 1, \"multiple binding transition - only single allowed in training process\"\n",
    "            binding = binding_list[0]\n",
    "\n",
    "            grasp_dict = {}\n",
    "            arm_05_dict = {}\n",
    "            arm_10_dict = {}\n",
    "            full_scene_dict = {}\n",
    "            ltc_effector.clear()\n",
    "            ltc_arm_05.clear()\n",
    "            ltc_arm_10.clear()\n",
    "            ltc_full.clear()\n",
    "\n",
    "            obj_name, ap_name, binder_name, binder_geometry_name = binding\n",
    "            actor, obj = pscene.actor_dict[binder_name], pscene.subject_dict[obj_name]\n",
    "            handle = obj.action_points_dict[ap_name]\n",
    "            redundancy, Q_dict = redundancy_dict[obj_name], list2dict(from_state.Q, gscene.joint_names)\n",
    "            actor_vertinfo_list, object_vertinfo_list, \\\n",
    "            T_link_handle_actor_link, actor_Tinv_dict, object_Tinv_dict = \\\n",
    "                gcheck.get_grasping_vert_infos(actor, obj, handle, redundancy, HOME_DICT)\n",
    "\n",
    "            if all([lname in actor_Tinv_dict for lname in TOOL_LINK_BUNDLE]):\n",
    "                tool_Tinv_dict = actor_Tinv_dict\n",
    "                tool_vertinfo_list = actor_vertinfo_list\n",
    "                target_vertinfo_list = object_vertinfo_list\n",
    "                T_end_effector = T_link_handle_actor_link\n",
    "            elif all([lname in object_Tinv_dict for lname in TOOL_LINK_BUNDLE]):\n",
    "                tool_Tinv_dict = object_Tinv_dict\n",
    "                tool_vertinfo_list = object_vertinfo_list\n",
    "                target_vertinfo_list = actor_vertinfo_list\n",
    "                T_end_effector = SE3_inv(T_link_handle_actor_link)\n",
    "            else:\n",
    "                raise(\"Invaild TOOL_LINK_BUNDLE\")\n",
    "            T_end_joint = T_end_effector\n",
    "            for lname in TOOL_LINK_BUNDLE:\n",
    "                T_end_joint = np.matmul(T_end_joint, tool_Tinv_dict[lname])\n",
    "\n",
    "            r, th, h = cart2cyl(*T_end_effector[:3,3])\n",
    "            Tref = SE3(Rot_axis(3, th), T_end_effector[:3,3])\n",
    "            obj_names = [obj.geometry.name] + obj.geometry.children\n",
    "            target_names= [item[0] for item in target_vertinfo_list if item[0] not in obj_names]\n",
    "            tool_names = [item[0] for item in tool_vertinfo_list]\n",
    "\n",
    "            ltc_effector.convert_vertices(tool_vertinfo_list, HOME_DICT, Tref=Tref)\n",
    "            ltc_effector.convert_vertices(target_vertinfo_list, HOME_DICT, Tref=Tref)\n",
    "\n",
    "            Tref_base = SE3(Tref[:3,:3], (0, 0, shoulder_height))\n",
    "            ltc_arm_05.convert([gtem for gtem in gscene if gtem.collision and gtem not in gtems_robot], HOME_DICT, Tref=Tref_base)\n",
    "            ltc_arm_10.convert([gtem for gtem in gscene if gtem.collision and gtem not in gtems_robot], HOME_DICT, Tref=Tref_base)\n",
    "            ltc_full.convert([gtem for gtem in gscene if gtem.collision and gtem not in gtems_robot], HOME_DICT, Tref=Tref_base)\n",
    "            ltc_full.convert_vertices(actor_vertinfo_list, HOME_DICT, Tref=Tref_base)\n",
    "\n",
    "            grasp_dict[\"tar\"] = sorted(set(itertools.chain(*[ltc_effector.coll_idx_dict[tname] for tname in target_names if tname in ltc_effector.coll_idx_dict])))\n",
    "            grasp_dict[\"tool\"] = sorted(set(itertools.chain(*[ltc_effector.coll_idx_dict[tname] for tname in tool_names if tname in ltc_effector.coll_idx_dict])))\n",
    "            grasp_dict[\"obj\"] = sorted(set(itertools.chain(*[ltc_effector.coll_idx_dict[tname] for tname in obj_names if tname in ltc_effector.coll_idx_dict])))\n",
    "            grasp_dict[\"T_end_effector\"], grasp_dict[\"T_end_joint\"], grasp_dict[\"Tref_base\"]  = T_end_effector, T_end_joint, Tref_base\n",
    "            grasp_dict[\"reach\"], grasp_dict[\"retrieve\"] = success_reach, success_retrieve\n",
    "            grasp_dict[\"reach_time\"], grasp_dict[\"retrieve_time\"] = time_reach, success_retrieve\n",
    "\n",
    "            arm_05_dict[\"tar\"] = sorted(set(itertools.chain(*[ltc_arm_05.coll_idx_dict[tname] for tname in target_names if tname in ltc_arm_05.coll_idx_dict])))\n",
    "            arm_05_dict[\"tool\"] = sorted(set(itertools.chain(*[ltc_arm_05.coll_idx_dict[tname] for tname in tool_names if tname in ltc_arm_05.coll_idx_dict])))\n",
    "            arm_05_dict[\"T_end_effector\"], arm_05_dict[\"T_end_joint\"], arm_05_dict[\"Tref_base\"] = T_end_effector, T_end_joint, Tref_base\n",
    "            arm_05_dict[\"reach\"], arm_05_dict[\"retrieve\"] = success_reach, success_retrieve\n",
    "\n",
    "            arm_10_dict[\"tar\"] = sorted(set(itertools.chain(*[ltc_arm_10.coll_idx_dict[tname] for tname in target_names if tname in ltc_arm_10.coll_idx_dict])))\n",
    "            arm_10_dict[\"tool\"] = sorted(set(itertools.chain(*[ltc_arm_10.coll_idx_dict[tname] for tname in tool_names if tname in ltc_arm_10.coll_idx_dict])))\n",
    "            arm_10_dict[\"T_end_effector\"], arm_10_dict[\"T_end_joint\"], arm_10_dict[\"Tref_base\"] = T_end_effector, T_end_joint, Tref_base\n",
    "            arm_10_dict[\"reach\"], arm_10_dict[\"retrieve\"] = success_reach, success_retrieve\n",
    "\n",
    "            full_scene_dict[\"tar\"] = sorted(set(itertools.chain(*[ltc_full.coll_idx_dict[tname] for tname in target_names if tname in ltc_full.coll_idx_dict])))\n",
    "            full_scene_dict[\"tool\"] = sorted(set(itertools.chain(*[ltc_full.coll_idx_dict[tname] for tname in tool_names if tname in ltc_full.coll_idx_dict])))\n",
    "            full_scene_dict[\"obj\"] = sorted(set(itertools.chain(*[ltc_full.coll_idx_dict[tname] for tname in obj_names if tname in ltc_full.coll_idx_dict])))\n",
    "            full_scene_dict[\"T_end_effector\"], full_scene_dict[\"T_end_joint\"], full_scene_dict[\"Tref_base\"] = T_end_effector, T_end_joint, Tref_base\n",
    "            full_scene_dict[\"reach\"], full_scene_dict[\"retrieve\"] = success_reach, success_retrieve\n",
    "\n",
    "            reach_list.append(success_reach)\n",
    "            retrieve_list.append(success_retrieve)\n",
    "\n",
    "            save_pickle(os.path.join(GRASP_PATH, \"%06d.pkl\"%i_s), grasp_dict)\n",
    "            save_pickle(os.path.join(ARM_05_PATH, \"%06d.pkl\"%i_s), arm_05_dict)\n",
    "            save_pickle(os.path.join(ARM_10_PATH, \"%06d.pkl\"%i_s), arm_10_dict)\n",
    "            save_pickle(os.path.join(FULL_SCENE_PATH, \"%06d.pkl\"%i_s), full_scene_dict)\n",
    "\n",
    "            i_s += 1\n",
    "\n",
    "            pscene.remove_object(obj_pscene.oname)\n",
    "            for handle in handles:\n",
    "                gscene.remove(handle)\n",
    "\n",
    "            gscene.update_markers_all()\n",
    "        if i_s > 0 :\n",
    "            if i_s > i_print*N_print:\n",
    "                i_print +=  1\n",
    "                print_end = \"\\n\"\n",
    "            else:\n",
    "                print_end = \"\\r\"\n",
    "            time_elapsed = gtimer.toc(\"full_loop\")/1000\n",
    "            print(\"{} / {} in {} / {} s -- reach,retrieve = ({} %, {} %)                     \".format(\n",
    "                i_s, N_max_sample, round(time_elapsed, 2), round(time_elapsed/i_s*N_max_sample, 2), \n",
    "                round(np.mean(reach_list)*100, 1), round(np.mean(retrieve_list)*100, 1)), end=print_end)\n",
    "\n",
    "\n",
    "    print(\"\")\n",
    "    print(\"\")\n",
    "    print(\"============= Finished {} in {} s -- reach,retrieve = ({} %, {} %) =================\".format(\n",
    "        i_s, round(time_elapsed, 2), round(np.mean(reach_list)*100, 1), round(np.mean(retrieve_list)*100, 1)))"
   ]
  },
  {
   "cell_type": "code",
   "execution_count": null,
   "metadata": {},
   "outputs": [],
   "source": []
  },
  {
   "cell_type": "code",
   "execution_count": null,
   "metadata": {},
   "outputs": [],
   "source": [
    "import matplotlib.pyplot as plt\n",
    "plt.plot(np.array(reach_time_list)[np.where(reach_success_list)], '.')\n",
    "plt.plot(np.array(retrieve_time_list)[np.where(retrieve_success_list)], '.')\n",
    "# plt.axis([0, 400, 0, 30000])"
   ]
  },
  {
   "cell_type": "code",
   "execution_count": null,
   "metadata": {},
   "outputs": [],
   "source": [
    "idx_succ = np.where(retrieve_success_list)[0]\n",
    "retrieve_success_only=np.array(retrieve_time_list)[idx_succ]"
   ]
  },
  {
   "cell_type": "code",
   "execution_count": null,
   "metadata": {},
   "outputs": [],
   "source": [
    "np.sqrt(np.sum(np.square(retrieve_success_only))/len(retrieve_success_only))"
   ]
  },
  {
   "cell_type": "code",
   "execution_count": null,
   "metadata": {},
   "outputs": [],
   "source": [
    "pp = plt.hist(retrieve_success_only, bins=10)"
   ]
  },
  {
   "cell_type": "code",
   "execution_count": 34,
   "metadata": {},
   "outputs": [
    {
     "data": {
      "text/plain": [
       "13"
      ]
     },
     "execution_count": 34,
     "metadata": {},
     "output_type": "execute_result"
    }
   ],
   "source": [
    "len(np.where(retrieve_success_only>20000)[0])"
   ]
  },
  {
   "cell_type": "code",
   "execution_count": 35,
   "metadata": {},
   "outputs": [
    {
     "data": {
      "text/plain": [
       "3426"
      ]
     },
     "execution_count": 35,
     "metadata": {},
     "output_type": "execute_result"
    }
   ],
   "source": [
    "len(retrieve_success_only)"
   ]
  },
  {
   "cell_type": "code",
   "execution_count": null,
   "metadata": {},
   "outputs": [],
   "source": []
  },
  {
   "cell_type": "markdown",
   "metadata": {},
   "source": [
    "## ====================== deprecated ============================"
   ]
  },
  {
   "cell_type": "markdown",
   "metadata": {},
   "source": [
    "## prepare cells"
   ]
  },
  {
   "cell_type": "code",
   "execution_count": null,
   "metadata": {},
   "outputs": [],
   "source": [
    "gtimer = GlobalTimer.instance()\n",
    "gtimer.reset()\n",
    "with gtimer.block(\"prepare_reference_cells_ltc_full\"):\n",
    "    ltc_full.prepare_reference_cells(gscene)\n",
    "with gtimer.block(\"prepare_reference_cells_ltc_effector\"):\n",
    "    ltc_effector.prepare_reference_cells(gscene)\n",
    "with gtimer.block(\"prepare_reference_cells_ltc_arm_05\"):\n",
    "    ltc_arm_05.prepare_reference_cells(gscene)\n",
    "with gtimer.block(\"prepare_reference_cells_ltc_arm_10\"):\n",
    "    ltc_arm_10.prepare_reference_cells(gscene)\n",
    "print(gtimer)"
   ]
  },
  {
   "cell_type": "code",
   "execution_count": null,
   "metadata": {},
   "outputs": [],
   "source": [
    "gscene.show_motion(Traj_reach)"
   ]
  },
  {
   "cell_type": "code",
   "execution_count": null,
   "metadata": {},
   "outputs": [],
   "source": []
  },
  {
   "cell_type": "markdown",
   "metadata": {},
   "source": [
    "## visualize"
   ]
  },
  {
   "cell_type": "code",
   "execution_count": null,
   "metadata": {},
   "outputs": [],
   "source": [
    "vistem_list = []\n",
    "for col_idx in grasp_dict['tar']:\n",
    "    vistem_list.append(gscene.copy_from(ltc_effector.cell_refs[col_idx], color=(0,0,1,0.3)))\n",
    "\n",
    "for col_idx in grasp_dict['tool']:\n",
    "    vistem_list.append(gscene.copy_from(ltc_effector.cell_refs[col_idx], color=(0,1,0,0.3)))"
   ]
  },
  {
   "cell_type": "code",
   "execution_count": null,
   "metadata": {},
   "outputs": [],
   "source": [
    "for vistem in vistem_list:\n",
    "    if vistem in gscene:\n",
    "        gscene.remove(vistem)"
   ]
  },
  {
   "cell_type": "code",
   "execution_count": null,
   "metadata": {},
   "outputs": [],
   "source": []
  },
  {
   "cell_type": "code",
   "execution_count": null,
   "metadata": {},
   "outputs": [],
   "source": [
    "vistem_list = []\n",
    "for col_idx in arm_10_dict['tar']:\n",
    "    vistem_list.append(gscene.copy_from(ltc_arm_10.cell_refs[col_idx], color=(0,0,1,0.3)))\n",
    "\n",
    "for col_idx in arm_10_dict['tool']:\n",
    "    vistem_list.append(gscene.copy_from(ltc_arm_10.cell_refs[col_idx], color=(0,1,0,0.3)))"
   ]
  },
  {
   "cell_type": "code",
   "execution_count": null,
   "metadata": {},
   "outputs": [],
   "source": [
    "for vistem in vistem_list:\n",
    "    if vistem in gscene:\n",
    "        gscene.remove(vistem)"
   ]
  },
  {
   "cell_type": "code",
   "execution_count": null,
   "metadata": {},
   "outputs": [],
   "source": []
  },
  {
   "cell_type": "code",
   "execution_count": null,
   "metadata": {},
   "outputs": [],
   "source": [
    "vistem_list = []\n",
    "for col_idx in full_scene_dict['tar']:\n",
    "    vistem_list.append(gscene.copy_from(ltc_full.cell_refs[col_idx], color=(0,0,1,0.3)))\n",
    "\n",
    "for col_idx in full_scene_dict['tool']:\n",
    "    vistem_list.append(gscene.copy_from(ltc_full.cell_refs[col_idx], color=(0,1,0,0.3)))"
   ]
  },
  {
   "cell_type": "code",
   "execution_count": null,
   "metadata": {},
   "outputs": [],
   "source": [
    "for vistem in vistem_list:\n",
    "    if vistem in gscene:\n",
    "        gscene.remove(vistem)"
   ]
  },
  {
   "cell_type": "code",
   "execution_count": null,
   "metadata": {},
   "outputs": [],
   "source": []
  },
  {
   "cell_type": "markdown",
   "metadata": {},
   "source": [
    "## grasp conversion"
   ]
  },
  {
   "cell_type": "code",
   "execution_count": null,
   "metadata": {},
   "outputs": [],
   "source": [
    "gtimer.reset()\n",
    "with gtimer.block(\"convert_vertices\"):\n",
    "    ltc_effector.convert_vertices(actor_vertinfo_list, HOME_DICT, Tref=Tref)\n",
    "    ltc_effector.convert_vertices(object_vertinfo_list, HOME_DICT, Tref=Tref)\n",
    "print(gtimer)"
   ]
  },
  {
   "cell_type": "code",
   "execution_count": null,
   "metadata": {},
   "outputs": [],
   "source": [
    "vistem_list = []\n",
    "for coll_idxes in ltc_effector.coll_idx_dict.values():\n",
    "    for col_idx in coll_idxes:\n",
    "        vistem_list.append(gscene.copy_from(ltc_effector.cell_refs[col_idx]))"
   ]
  },
  {
   "cell_type": "code",
   "execution_count": null,
   "metadata": {},
   "outputs": [],
   "source": [
    "for vistem in vistem_list:\n",
    "    if vistem in gscene:\n",
    "        gscene.remove(vistem)"
   ]
  },
  {
   "cell_type": "markdown",
   "metadata": {},
   "source": [
    "## scene conversion"
   ]
  },
  {
   "cell_type": "code",
   "execution_count": null,
   "metadata": {},
   "outputs": [],
   "source": [
    "gtimer.reset()\n",
    "with gtimer.block(\"ltc_arm_10_convert\"):\n",
    "    Tref_base = SE3(Tref[:3,:3], (0, 0, shoulder_height))\n",
    "    ltc_arm_10.convert([gtem for gtem in gscene if gtem.collision and gtem not in gtems_robot], HOME_DICT, Tref=Tref_base)\n",
    "print(gtimer)"
   ]
  },
  {
   "cell_type": "code",
   "execution_count": null,
   "metadata": {},
   "outputs": [],
   "source": [
    "vistem_list = []\n",
    "for coll_idxes in ltc_arm_10.coll_idx_dict.values():\n",
    "    for col_idx in coll_idxes:\n",
    "        vistem_list.append(gscene.copy_from(ltc_arm_10.cell_refs[col_idx]))"
   ]
  },
  {
   "cell_type": "code",
   "execution_count": null,
   "metadata": {},
   "outputs": [],
   "source": [
    "for vistem in vistem_list:\n",
    "    if vistem in gscene:\n",
    "        gscene.remove(vistem)"
   ]
  },
  {
   "cell_type": "code",
   "execution_count": null,
   "metadata": {},
   "outputs": [],
   "source": []
  },
  {
   "cell_type": "markdown",
   "metadata": {},
   "source": [
    "## remove object"
   ]
  },
  {
   "cell_type": "code",
   "execution_count": null,
   "metadata": {},
   "outputs": [],
   "source": [
    "\n",
    "pscene.remove_object(obj_pscene.oname)\n",
    "for handle in handles:\n",
    "    gscene.remove(handle)"
   ]
  },
  {
   "cell_type": "code",
   "execution_count": null,
   "metadata": {},
   "outputs": [],
   "source": []
  },
  {
   "cell_type": "code",
   "execution_count": null,
   "metadata": {},
   "outputs": [],
   "source": [
    "gscene.get_items_on_links(TOOL_LINK_BUNDLE[0]) + gscene.get_items_on_links(TOOL_LINK_BUNDLE[1])"
   ]
  },
  {
   "cell_type": "code",
   "execution_count": null,
   "metadata": {},
   "outputs": [],
   "source": [
    "with gtimer.block(\"convert\"):\n",
    "    ltc_full.convert([gtem for gtem in gscene if gtem not in gtems_robot], crob.home_dict)"
   ]
  },
  {
   "cell_type": "code",
   "execution_count": null,
   "metadata": {
    "scrolled": true
   },
   "outputs": [],
   "source": [
    "print(gtimer)"
   ]
  },
  {
   "cell_type": "code",
   "execution_count": null,
   "metadata": {},
   "outputs": [],
   "source": [
    "gscene.show_pose(crob.home_pose)"
   ]
  },
  {
   "cell_type": "code",
   "execution_count": null,
   "metadata": {},
   "outputs": [],
   "source": [
    "# for coll_idxes in latticizer.coll_idx_dict.values():\n",
    "#     for col_idx in coll_idxes:\n",
    "#         gscene.copy_from(latticizer.cell_refs[col_idx])"
   ]
  },
  {
   "cell_type": "code",
   "execution_count": null,
   "metadata": {},
   "outputs": [],
   "source": []
  },
  {
   "cell_type": "markdown",
   "metadata": {},
   "source": [
    "## deprecated python ver"
   ]
  },
  {
   "cell_type": "code",
   "execution_count": null,
   "metadata": {},
   "outputs": [],
   "source": [
    "from pkg.utils.gjk import make_point3, get_point_list, get_point_list_list, get_point_list_list_from_point_list\n",
    "from pkg.utils.gjk import get_gjk_distance, get_gjk_distance_min, get_gjk_distance_all"
   ]
  },
  {
   "cell_type": "code",
   "execution_count": null,
   "metadata": {},
   "outputs": [],
   "source": [
    "gtimer = GlobalTimer.instance()\n",
    "gtimer.reset()\n",
    "with gtimer.block(\"get_cell_vertices\"):\n",
    "    gscene_ref = GeometryScene(gscene.urdf_content, gscene.urdf_path, gscene.joint_names, gscene.link_names, rviz=False)\n",
    "    centers = get_centers(Nwdh, L_CELL, OFFSET_ZERO).reshape((-1,3))\n",
    "    cell_refs = []\n",
    "    for icell, center in enumerate(centers):\n",
    "        cell_refs.append(gscene_ref.create_safe(GEOTYPE.BOX, str(icell), \"base_link\", dims=(L_CELL,)*3, \n",
    "                                                center=center, rpy=(0,0,0), color=(1,1,1,0.2), \n",
    "                                                display=True, collision=False, fixed=True))\n",
    "    cell_vertices = get_cell_vertices(centers, L_CELL)\n",
    "    cell_vertices_gjk = get_point_list_list(cell_vertices)\n",
    "    center_vertices_gjk = get_point_list_list(np.expand_dims(centers, axis=-2))"
   ]
  },
  {
   "cell_type": "code",
   "execution_count": null,
   "metadata": {},
   "outputs": [],
   "source": [
    "print(gtimer)"
   ]
  },
  {
   "cell_type": "code",
   "execution_count": null,
   "metadata": {},
   "outputs": [],
   "source": [
    "gtimer.reset()\n",
    "sqrt3 = np.sqrt(3)\n",
    "LCmax = L_CELL*sqrt3/2\n",
    "Qdict = crob.home_dict\n",
    "with gtimer.block(\"full\"):\n",
    "    for gtem in gscene:\n",
    "#         if gtem in gtems_robot or not gtem.collision:\n",
    "#             continue\n",
    "        with gtimer.block(\"centers\"):\n",
    "            Tgtem = SE3_inv(gtem.get_tf(Qdict))\n",
    "            centers_loc = np.abs(np.matmul(centers, Tgtem[:3,:3].transpose())+Tgtem[:3,3])\n",
    "        if gtem.gtype == GEOTYPE.BOX and np.sum(np.abs(gtem.rpy))<1e-5:\n",
    "            with gtimer.block(\"right box\"):\n",
    "                dist_list = np.max(centers_loc - np.divide(gtem.dims,2) - L_CELL, axis=-1)\n",
    "                cell_idx_occupy = np.where(dist_list < 1e-3)[0]\n",
    "                continue\n",
    "        with gtimer.block(\"calc_center_dist\"):\n",
    "            dist_list = np.max(centers_loc - np.divide(gtem.dims,2) - LCmax, axis=-1)\n",
    "            idx_candi = np.where(dist_list<0)[0]\n",
    "        with gtimer.block(\"calc_points\"):\n",
    "            gtem_verts, gtem_radius = gtem.get_vertice_radius_from(Qdict)\n",
    "        with gtimer.block(\"get_point_gjk\"):\n",
    "            gtem_verts_gjk = get_point_list(gtem_verts)\n",
    "        with gtimer.block(\"get_distance_gjk\"):\n",
    "            cell_idx_occupy = []\n",
    "            for idx in idx_candi:\n",
    "                cell_candi = cell_vertices_gjk[idx]\n",
    "                center_v_candi = center_vertices_gjk[idx]\n",
    "                if ((get_gjk_distance(cell_candi, gtem_verts_gjk) - gtem_radius < 1e-4)):\n",
    "                    cell_idx_occupy.append(idx)\n",
    "#                 if ((get_gjk_distance(gtem_verts_gjk, center_v_candi) - gtem_radius - L_CELL/2 < 1e-4) or \n",
    "#                     (get_gjk_distance(cell_candi, gtem_verts_gjk) - gtem_radius < 1e-4)):\n",
    "#                     cell_idx_occupy.append(idx)\n",
    "print(gtimer)"
   ]
  }
 ],
 "metadata": {
  "kernelspec": {
   "display_name": "Python 2",
   "language": "python",
   "name": "python2"
  },
  "language_info": {
   "codemirror_mode": {
    "name": "ipython",
    "version": 2
   },
   "file_extension": ".py",
   "mimetype": "text/x-python",
   "name": "python",
   "nbconvert_exporter": "python",
   "pygments_lexer": "ipython2",
   "version": "2.7.17"
  }
 },
 "nbformat": 4,
 "nbformat_minor": 2
}
