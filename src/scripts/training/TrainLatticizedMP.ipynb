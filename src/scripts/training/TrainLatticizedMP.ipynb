{
 "cells": [
  {
   "cell_type": "code",
   "execution_count": 1,
   "metadata": {},
   "outputs": [],
   "source": [
    "from tensorflow.compat.v1 import ConfigProto\n",
    "from tensorflow.compat.v1 import InteractiveSession\n",
    "\n",
    "config = ConfigProto()\n",
    "config.gpu_options.allow_growth = True\n",
    "session = InteractiveSession(config=config)"
   ]
  },
  {
   "cell_type": "code",
   "execution_count": 2,
   "metadata": {},
   "outputs": [],
   "source": [
    "import os\n",
    "import shutil\n",
    "import random\n",
    "PROJ_DIR = os.environ[\"RNB_PLANNING_DIR\"]\n",
    "os.chdir(os.path.join(PROJ_DIR, \"src\"))\n",
    "\n",
    "from pkg.utils.utils_python3 import *\n",
    "DATA_PATH = os.path.join(PROJ_DIR, \"data\")\n",
    "MODEL_PATH = os.path.join(PROJ_DIR, \"model\")\n",
    "LAT_MODEL_PATH = os.path.join(MODEL_PATH,\"latticized\")\n",
    "try_mkdir(MODEL_PATH)\n",
    "try_mkdir(LAT_MODEL_PATH)\n",
    "GRASP_FOLDER = \"grasp\"\n",
    "ARM10_FOLDER = \"arm_10\"\n",
    "ARM05_FOLDER = \"arm_05\"\n",
    "FULLS_FOLDER = \"full_scene\""
   ]
  },
  {
   "cell_type": "code",
   "execution_count": 3,
   "metadata": {},
   "outputs": [],
   "source": [
    "ROBOT_TYPE_NAME=\"indy7\"\n",
    "DATASET_TRAIN = ['20210209-193147', '20210209-213935', '20210209-224826', '20210210-000355', '20210210-011407',\n",
    "                 '20210210-033046', '20210210-044301', '20210210-055500', '20210210-070835', '20210210-081755']\n",
    "DATASET_TEST = [ '20210210-093105', '20210210-104143', '20210210-115728', '20210210-131106', '20210210-142129']\n",
    "ARM_FOLDER = ARM10_FOLDER\n",
    "GRASP_SHAPE = (20,20,20)\n",
    "ARM_SHAPE = (20,20,20)\n",
    "RH_MASK_SIZE = 512\n",
    "RH_MASK_STEP = 64\n",
    "\n",
    "ROBOT_DATA_ROOT = os.path.join(DATA_PATH, ROBOT_TYPE_NAME)\n",
    "data_pairs_train = []\n",
    "for dataset in DATASET_TRAIN:\n",
    "    file_list = sorted(os.listdir(os.path.join(ROBOT_DATA_ROOT, dataset, GRASP_FOLDER)))\n",
    "    for file in file_list:\n",
    "        data_pairs_train.append((os.path.join(ROBOT_DATA_ROOT, dataset, GRASP_FOLDER, file), \n",
    "                                 os.path.join(ROBOT_DATA_ROOT, dataset, ARM_FOLDER, file)))\n",
    "        \n",
    "data_pairs_test = []\n",
    "for dataset in DATASET_TEST:\n",
    "    file_list = sorted(os.listdir(os.path.join(ROBOT_DATA_ROOT, dataset, GRASP_FOLDER)))\n",
    "    for file in file_list:\n",
    "        data_pairs_test.append((os.path.join(ROBOT_DATA_ROOT, dataset, GRASP_FOLDER, file), \n",
    "                                 os.path.join(ROBOT_DATA_ROOT, dataset, ARM_FOLDER, file)))"
   ]
  },
  {
   "cell_type": "code",
   "execution_count": 5,
   "metadata": {},
   "outputs": [
    {
     "name": "stdout",
     "output_type": "stream",
     "text": [
      "['20210209-193147', '20210209-213935', '20210209-224826', '20210210-000355', '20210210-011407', '20210210-033046', '20210210-044301', '20210210-055500', '20210210-070835', '20210210-081755', '20210210-093105', '20210210-104143', '20210210-115728', '20210210-131106', '20210210-142129', 'test', 'train']\n"
     ]
    }
   ],
   "source": [
    "print(sorted(os.listdir(ROBOT_DATA_ROOT)))"
   ]
  },
  {
   "cell_type": "code",
   "execution_count": 6,
   "metadata": {},
   "outputs": [],
   "source": [
    "def div_r(r):\n",
    "    return floor(sigmoid((r)/0.1-8)*8)\n",
    "\n",
    "def div_h(h):\n",
    "    return floor(sigmoid((h+0.6)/0.2-4.5)*8)\n",
    "\n",
    "def load_data(data_pair):\n",
    "    grasp_data = load_pickle(data_pair[0])\n",
    "    arm_data = load_pickle(data_pair[1])\n",
    "    grasp_tar_idx = grasp_data[b'tar']\n",
    "    grasp_tool_idx = grasp_data[b'tool']\n",
    "    arm_tar_idx = arm_data[b'tar']\n",
    "    Tee = grasp_data[b'T_end_effector']\n",
    "    Tej = grasp_data[b'T_end_joint']\n",
    "    Tref_base = grasp_data[b'Tref_base']\n",
    "    reach_lb = grasp_data[b'reach']\n",
    "    retrieve_lb = grasp_data[b'retrieve']\n",
    "    r, th, h = cart2cyl(*Tee[:3,3])\n",
    "    r_ej, th, h_ej = cart2cyl(*Tej[:3,3])\n",
    "    r_class = div_r(r_ej)\n",
    "    h_class = div_h(h_ej)\n",
    "    r_mask = np.zeros(RH_MASK_SIZE)\n",
    "    r_mask[r_class*RH_MASK_STEP:r_class*RH_MASK_STEP+RH_MASK_STEP] = 1\n",
    "    h_mask = np.zeros(RH_MASK_SIZE)\n",
    "    h_mask[h_class*RH_MASK_STEP:h_class*RH_MASK_STEP+RH_MASK_STEP] = 1\n",
    "    rh_mask = np.concatenate([r_mask, h_mask])\n",
    "    # r_ej_list.append(r_ej)\n",
    "    # h_ej_list.append(h_ej)\n",
    "    # reach_lb_list.append(reach_lb)\n",
    "    Tref = SE3(Rot_axis(3, th), Tee[:3,3])\n",
    "    grasp_tool_img = np.zeros(GRASP_SHAPE)\n",
    "    grasp_tar_img = np.zeros(GRASP_SHAPE)\n",
    "    grasp_tool_img[np.unravel_index(grasp_tool_idx, shape=GRASP_SHAPE)] = 1\n",
    "    grasp_tar_img[np.unravel_index(grasp_tar_idx, shape=GRASP_SHAPE)] = 1\n",
    "    arm_img = np.zeros(ARM_SHAPE+(1,))\n",
    "    arm_img[np.unravel_index(arm_tar_idx, shape=ARM_SHAPE)] = 1\n",
    "    grasp_img = np.stack([grasp_tool_img, grasp_tar_img], axis=-1)\n",
    "    label = np.array([reach_lb, retrieve_lb])\n",
    "    return grasp_img, arm_img, rh_mask, label"
   ]
  },
  {
   "cell_type": "markdown",
   "metadata": {},
   "source": [
    "## Train"
   ]
  },
  {
   "cell_type": "code",
   "execution_count": 7,
   "metadata": {},
   "outputs": [],
   "source": [
    "from pkg.planning.filtering.lattice_model import *\n",
    "\n",
    "# Create an instance of the model\n",
    "model = ResNetModelTP()\n",
    "\n",
    "loss_object = tf.keras.losses.BinaryCrossentropy()\n",
    "optimizer = tf.keras.optimizers.Adam()\n",
    "\n",
    "train_loss = tf.keras.metrics.Mean(name='train_loss')\n",
    "train_accuracy = tf.keras.metrics.BinaryAccuracy(name='train_accuracy')\n",
    "@tf.function\n",
    "def train_step(images, labels):\n",
    "    with tf.GradientTape() as tape:\n",
    "        # training=True is only needed if there are layers with different\n",
    "        # behavior during training versus inference (e.g. Dropout).\n",
    "        predictions = model(images, training=True)\n",
    "        loss = loss_object(labels, predictions)\n",
    "    gradients = tape.gradient(loss, model.trainable_variables)\n",
    "    optimizer.apply_gradients(zip(gradients, model.trainable_variables))\n",
    "\n",
    "    train_loss(loss)\n",
    "    train_accuracy(labels, predictions)\n",
    "    \n",
    "\n",
    "test_loss = tf.keras.metrics.Mean(name='test_loss')\n",
    "test_accuracy = tf.keras.metrics.BinaryAccuracy(name='test_accuracy')\n",
    "@tf.function\n",
    "def test_step(images, labels):\n",
    "    # training=False is only needed if there are layers with different\n",
    "    # behavior during training versus inference (e.g. Dropout).\n",
    "    predictions = model(images, training=False)\n",
    "    t_loss = loss_object(labels, predictions)\n",
    "\n",
    "    test_loss(t_loss)\n",
    "    test_accuracy(labels, predictions)"
   ]
  },
  {
   "cell_type": "code",
   "execution_count": 8,
   "metadata": {},
   "outputs": [
    {
     "name": "stdout",
     "output_type": "stream",
     "text": [
      "Log path: /home/rnb/Projects/rnb-planning/model/latticized/20210210-123738\n"
     ]
    }
   ],
   "source": [
    "current_time = get_now()\n",
    "logpath = os.path.join(LAT_MODEL_PATH, current_time)\n",
    "try_mkdir(logpath)\n",
    "train_log_dir = os.path.join(logpath, 'train')\n",
    "test_log_dir = os.path.join(logpath, 'test')\n",
    "model_log_dir = os.path.join(logpath, 'model_{}/')\n",
    "train_summary_writer = tf.summary.create_file_writer(train_log_dir)\n",
    "test_summary_writer = tf.summary.create_file_writer(test_log_dir)\n",
    "shutil.copy(os.path.join(PROJ_DIR,'src', 'pkg','planning','filtering','lattice_model.py' ), logpath)\n",
    "print(f'Log path: {logpath}')"
   ]
  },
  {
   "cell_type": "code",
   "execution_count": 9,
   "metadata": {},
   "outputs": [
    {
     "name": "stdout",
     "output_type": "stream",
     "text": [
      "test step - 2000/2007           \r"
     ]
    },
    {
     "name": "stderr",
     "output_type": "stream",
     "text": [
      "WARNING:absl:Found untraced functions such as conv1_layer_call_and_return_conditional_losses, conv1_layer_call_fn, activation_layer_call_and_return_conditional_losses, activation_layer_call_fn, conv_block3d_layer_call_and_return_conditional_losses while saving (showing 5 of 1360). These functions will not be directly callable after loading.\n",
      "WARNING:absl:Found untraced functions such as conv1_layer_call_and_return_conditional_losses, conv1_layer_call_fn, activation_layer_call_and_return_conditional_losses, activation_layer_call_fn, conv_block3d_layer_call_and_return_conditional_losses while saving (showing 5 of 1360). These functions will not be directly callable after loading.\n"
     ]
    },
    {
     "name": "stdout",
     "output_type": "stream",
     "text": [
      "INFO:tensorflow:Assets written to: /home/rnb/Projects/rnb-planning/model/latticized/20210210-123738/model_1/assets\n"
     ]
    },
    {
     "name": "stderr",
     "output_type": "stream",
     "text": [
      "INFO:tensorflow:Assets written to: /home/rnb/Projects/rnb-planning/model/latticized/20210210-123738/model_1/assets\n"
     ]
    },
    {
     "name": "stdout",
     "output_type": "stream",
     "text": [
      "\n",
      "=================================================================\n",
      "Epoch 1, Loss: 0.4199007749557495, Accuracy: 80.6259994506836, Test Loss: 0.41110458970069885, Test Accuracy: 85.54999542236328\n",
      "=================================================================\n",
      "\n",
      "test step - 2000/2007           \r"
     ]
    },
    {
     "name": "stderr",
     "output_type": "stream",
     "text": [
      "WARNING:absl:Found untraced functions such as conv1_layer_call_and_return_conditional_losses, conv1_layer_call_fn, activation_layer_call_and_return_conditional_losses, activation_layer_call_fn, conv_block3d_layer_call_and_return_conditional_losses while saving (showing 5 of 1360). These functions will not be directly callable after loading.\n",
      "WARNING:absl:Found untraced functions such as conv1_layer_call_and_return_conditional_losses, conv1_layer_call_fn, activation_layer_call_and_return_conditional_losses, activation_layer_call_fn, conv_block3d_layer_call_and_return_conditional_losses while saving (showing 5 of 1360). These functions will not be directly callable after loading.\n"
     ]
    },
    {
     "name": "stdout",
     "output_type": "stream",
     "text": [
      "INFO:tensorflow:Assets written to: /home/rnb/Projects/rnb-planning/model/latticized/20210210-123738/model_2/assets\n"
     ]
    },
    {
     "name": "stderr",
     "output_type": "stream",
     "text": [
      "INFO:tensorflow:Assets written to: /home/rnb/Projects/rnb-planning/model/latticized/20210210-123738/model_2/assets\n"
     ]
    },
    {
     "name": "stdout",
     "output_type": "stream",
     "text": [
      "\n",
      "=================================================================\n",
      "Epoch 2, Loss: 0.33962830901145935, Accuracy: 85.75279998779297, Test Loss: 0.4180997908115387, Test Accuracy: 85.32500457763672\n",
      "=================================================================\n",
      "\n",
      "test step - 2000/2007           \r"
     ]
    },
    {
     "name": "stderr",
     "output_type": "stream",
     "text": [
      "WARNING:absl:Found untraced functions such as conv1_layer_call_and_return_conditional_losses, conv1_layer_call_fn, activation_layer_call_and_return_conditional_losses, activation_layer_call_fn, conv_block3d_layer_call_and_return_conditional_losses while saving (showing 5 of 1360). These functions will not be directly callable after loading.\n",
      "WARNING:absl:Found untraced functions such as conv1_layer_call_and_return_conditional_losses, conv1_layer_call_fn, activation_layer_call_and_return_conditional_losses, activation_layer_call_fn, conv_block3d_layer_call_and_return_conditional_losses while saving (showing 5 of 1360). These functions will not be directly callable after loading.\n"
     ]
    },
    {
     "name": "stdout",
     "output_type": "stream",
     "text": [
      "INFO:tensorflow:Assets written to: /home/rnb/Projects/rnb-planning/model/latticized/20210210-123738/model_3/assets\n"
     ]
    },
    {
     "name": "stderr",
     "output_type": "stream",
     "text": [
      "INFO:tensorflow:Assets written to: /home/rnb/Projects/rnb-planning/model/latticized/20210210-123738/model_3/assets\n"
     ]
    },
    {
     "name": "stdout",
     "output_type": "stream",
     "text": [
      "\n",
      "=================================================================\n",
      "Epoch 3, Loss: 0.3228091299533844, Accuracy: 86.3718032836914, Test Loss: 0.3325221538543701, Test Accuracy: 86.625\n",
      "=================================================================\n",
      "\n",
      "test step - 2000/2007           \r"
     ]
    },
    {
     "name": "stderr",
     "output_type": "stream",
     "text": [
      "WARNING:absl:Found untraced functions such as conv1_layer_call_and_return_conditional_losses, conv1_layer_call_fn, activation_layer_call_and_return_conditional_losses, activation_layer_call_fn, conv_block3d_layer_call_and_return_conditional_losses while saving (showing 5 of 1360). These functions will not be directly callable after loading.\n",
      "WARNING:absl:Found untraced functions such as conv1_layer_call_and_return_conditional_losses, conv1_layer_call_fn, activation_layer_call_and_return_conditional_losses, activation_layer_call_fn, conv_block3d_layer_call_and_return_conditional_losses while saving (showing 5 of 1360). These functions will not be directly callable after loading.\n"
     ]
    },
    {
     "name": "stdout",
     "output_type": "stream",
     "text": [
      "INFO:tensorflow:Assets written to: /home/rnb/Projects/rnb-planning/model/latticized/20210210-123738/model_4/assets\n"
     ]
    },
    {
     "name": "stderr",
     "output_type": "stream",
     "text": [
      "INFO:tensorflow:Assets written to: /home/rnb/Projects/rnb-planning/model/latticized/20210210-123738/model_4/assets\n"
     ]
    },
    {
     "name": "stdout",
     "output_type": "stream",
     "text": [
      "\n",
      "=================================================================\n",
      "Epoch 4, Loss: 0.2850199341773987, Accuracy: 88.66812896728516, Test Loss: 0.3293866217136383, Test Accuracy: 86.625\n",
      "=================================================================\n",
      "\n",
      "test step - 2000/2007           \r"
     ]
    },
    {
     "name": "stderr",
     "output_type": "stream",
     "text": [
      "WARNING:absl:Found untraced functions such as conv1_layer_call_and_return_conditional_losses, conv1_layer_call_fn, activation_layer_call_and_return_conditional_losses, activation_layer_call_fn, conv_block3d_layer_call_and_return_conditional_losses while saving (showing 5 of 1360). These functions will not be directly callable after loading.\n",
      "WARNING:absl:Found untraced functions such as conv1_layer_call_and_return_conditional_losses, conv1_layer_call_fn, activation_layer_call_and_return_conditional_losses, activation_layer_call_fn, conv_block3d_layer_call_and_return_conditional_losses while saving (showing 5 of 1360). These functions will not be directly callable after loading.\n"
     ]
    },
    {
     "name": "stdout",
     "output_type": "stream",
     "text": [
      "INFO:tensorflow:Assets written to: /home/rnb/Projects/rnb-planning/model/latticized/20210210-123738/model_5/assets\n"
     ]
    },
    {
     "name": "stderr",
     "output_type": "stream",
     "text": [
      "INFO:tensorflow:Assets written to: /home/rnb/Projects/rnb-planning/model/latticized/20210210-123738/model_5/assets\n"
     ]
    },
    {
     "name": "stdout",
     "output_type": "stream",
     "text": [
      "\n",
      "=================================================================\n",
      "Epoch 5, Loss: 0.268641859292984, Accuracy: 89.18230438232422, Test Loss: 0.36812445521354675, Test Accuracy: 86.92500305175781\n",
      "=================================================================\n",
      "\n",
      "test step - 2000/2007           \r"
     ]
    },
    {
     "name": "stderr",
     "output_type": "stream",
     "text": [
      "WARNING:absl:Found untraced functions such as conv1_layer_call_and_return_conditional_losses, conv1_layer_call_fn, activation_layer_call_and_return_conditional_losses, activation_layer_call_fn, conv_block3d_layer_call_and_return_conditional_losses while saving (showing 5 of 1360). These functions will not be directly callable after loading.\n",
      "WARNING:absl:Found untraced functions such as conv1_layer_call_and_return_conditional_losses, conv1_layer_call_fn, activation_layer_call_and_return_conditional_losses, activation_layer_call_fn, conv_block3d_layer_call_and_return_conditional_losses while saving (showing 5 of 1360). These functions will not be directly callable after loading.\n"
     ]
    },
    {
     "name": "stdout",
     "output_type": "stream",
     "text": [
      "INFO:tensorflow:Assets written to: /home/rnb/Projects/rnb-planning/model/latticized/20210210-123738/model_6/assets\n"
     ]
    },
    {
     "name": "stderr",
     "output_type": "stream",
     "text": [
      "INFO:tensorflow:Assets written to: /home/rnb/Projects/rnb-planning/model/latticized/20210210-123738/model_6/assets\n"
     ]
    },
    {
     "name": "stdout",
     "output_type": "stream",
     "text": [
      "\n",
      "=================================================================\n",
      "Epoch 6, Loss: 0.26039353013038635, Accuracy: 89.9710464477539, Test Loss: 0.41308829188346863, Test Accuracy: 85.7750015258789\n",
      "=================================================================\n",
      "\n",
      "test step - 2000/2007           \r"
     ]
    },
    {
     "name": "stderr",
     "output_type": "stream",
     "text": [
      "WARNING:absl:Found untraced functions such as conv1_layer_call_and_return_conditional_losses, conv1_layer_call_fn, activation_layer_call_and_return_conditional_losses, activation_layer_call_fn, conv_block3d_layer_call_and_return_conditional_losses while saving (showing 5 of 1360). These functions will not be directly callable after loading.\n",
      "WARNING:absl:Found untraced functions such as conv1_layer_call_and_return_conditional_losses, conv1_layer_call_fn, activation_layer_call_and_return_conditional_losses, activation_layer_call_fn, conv_block3d_layer_call_and_return_conditional_losses while saving (showing 5 of 1360). These functions will not be directly callable after loading.\n"
     ]
    },
    {
     "name": "stdout",
     "output_type": "stream",
     "text": [
      "INFO:tensorflow:Assets written to: /home/rnb/Projects/rnb-planning/model/latticized/20210210-123738/model_7/assets\n"
     ]
    },
    {
     "name": "stderr",
     "output_type": "stream",
     "text": [
      "INFO:tensorflow:Assets written to: /home/rnb/Projects/rnb-planning/model/latticized/20210210-123738/model_7/assets\n"
     ]
    },
    {
     "name": "stdout",
     "output_type": "stream",
     "text": [
      "\n",
      "=================================================================\n",
      "Epoch 7, Loss: 0.24378065764904022, Accuracy: 90.78973388671875, Test Loss: 0.5166634917259216, Test Accuracy: 83.625\n",
      "=================================================================\n",
      "\n",
      "test step - 2000/2007           \r"
     ]
    },
    {
     "name": "stderr",
     "output_type": "stream",
     "text": [
      "WARNING:absl:Found untraced functions such as conv1_layer_call_and_return_conditional_losses, conv1_layer_call_fn, activation_layer_call_and_return_conditional_losses, activation_layer_call_fn, conv_block3d_layer_call_and_return_conditional_losses while saving (showing 5 of 1360). These functions will not be directly callable after loading.\n",
      "WARNING:absl:Found untraced functions such as conv1_layer_call_and_return_conditional_losses, conv1_layer_call_fn, activation_layer_call_and_return_conditional_losses, activation_layer_call_fn, conv_block3d_layer_call_and_return_conditional_losses while saving (showing 5 of 1360). These functions will not be directly callable after loading.\n"
     ]
    },
    {
     "name": "stdout",
     "output_type": "stream",
     "text": [
      "INFO:tensorflow:Assets written to: /home/rnb/Projects/rnb-planning/model/latticized/20210210-123738/model_8/assets\n"
     ]
    },
    {
     "name": "stderr",
     "output_type": "stream",
     "text": [
      "INFO:tensorflow:Assets written to: /home/rnb/Projects/rnb-planning/model/latticized/20210210-123738/model_8/assets\n"
     ]
    },
    {
     "name": "stdout",
     "output_type": "stream",
     "text": [
      "\n",
      "=================================================================\n",
      "Epoch 8, Loss: 0.2261732816696167, Accuracy: 91.0593032836914, Test Loss: 0.540703296661377, Test Accuracy: 84.0999984741211\n",
      "=================================================================\n",
      "\n",
      "test step - 2000/2007           \r"
     ]
    },
    {
     "name": "stderr",
     "output_type": "stream",
     "text": [
      "WARNING:absl:Found untraced functions such as conv1_layer_call_and_return_conditional_losses, conv1_layer_call_fn, activation_layer_call_and_return_conditional_losses, activation_layer_call_fn, conv_block3d_layer_call_and_return_conditional_losses while saving (showing 5 of 1360). These functions will not be directly callable after loading.\n",
      "WARNING:absl:Found untraced functions such as conv1_layer_call_and_return_conditional_losses, conv1_layer_call_fn, activation_layer_call_and_return_conditional_losses, activation_layer_call_fn, conv_block3d_layer_call_and_return_conditional_losses while saving (showing 5 of 1360). These functions will not be directly callable after loading.\n"
     ]
    },
    {
     "name": "stdout",
     "output_type": "stream",
     "text": [
      "INFO:tensorflow:Assets written to: /home/rnb/Projects/rnb-planning/model/latticized/20210210-123738/model_9/assets\n"
     ]
    },
    {
     "name": "stderr",
     "output_type": "stream",
     "text": [
      "INFO:tensorflow:Assets written to: /home/rnb/Projects/rnb-planning/model/latticized/20210210-123738/model_9/assets\n"
     ]
    },
    {
     "name": "stdout",
     "output_type": "stream",
     "text": [
      "\n",
      "=================================================================\n",
      "Epoch 9, Loss: 0.20690783858299255, Accuracy: 92.18250274658203, Test Loss: 0.5930432677268982, Test Accuracy: 85.0999984741211\n",
      "=================================================================\n",
      "\n",
      "test step - 2000/2007           \r"
     ]
    },
    {
     "name": "stderr",
     "output_type": "stream",
     "text": [
      "WARNING:absl:Found untraced functions such as conv1_layer_call_and_return_conditional_losses, conv1_layer_call_fn, activation_layer_call_and_return_conditional_losses, activation_layer_call_fn, conv_block3d_layer_call_and_return_conditional_losses while saving (showing 5 of 1360). These functions will not be directly callable after loading.\n",
      "WARNING:absl:Found untraced functions such as conv1_layer_call_and_return_conditional_losses, conv1_layer_call_fn, activation_layer_call_and_return_conditional_losses, activation_layer_call_fn, conv_block3d_layer_call_and_return_conditional_losses while saving (showing 5 of 1360). These functions will not be directly callable after loading.\n"
     ]
    },
    {
     "name": "stdout",
     "output_type": "stream",
     "text": [
      "INFO:tensorflow:Assets written to: /home/rnb/Projects/rnb-planning/model/latticized/20210210-123738/model_10/assets\n"
     ]
    },
    {
     "name": "stderr",
     "output_type": "stream",
     "text": [
      "INFO:tensorflow:Assets written to: /home/rnb/Projects/rnb-planning/model/latticized/20210210-123738/model_10/assets\n"
     ]
    },
    {
     "name": "stdout",
     "output_type": "stream",
     "text": [
      "\n",
      "=================================================================\n",
      "Epoch 10, Loss: 0.20389586687088013, Accuracy: 92.2923355102539, Test Loss: 0.4060371518135071, Test Accuracy: 85.5999984741211\n",
      "=================================================================\n",
      "\n",
      "test step - 2000/2007           \r"
     ]
    },
    {
     "name": "stderr",
     "output_type": "stream",
     "text": [
      "WARNING:absl:Found untraced functions such as conv1_layer_call_and_return_conditional_losses, conv1_layer_call_fn, activation_layer_call_and_return_conditional_losses, activation_layer_call_fn, conv_block3d_layer_call_and_return_conditional_losses while saving (showing 5 of 1360). These functions will not be directly callable after loading.\n",
      "WARNING:absl:Found untraced functions such as conv1_layer_call_and_return_conditional_losses, conv1_layer_call_fn, activation_layer_call_and_return_conditional_losses, activation_layer_call_fn, conv_block3d_layer_call_and_return_conditional_losses while saving (showing 5 of 1360). These functions will not be directly callable after loading.\n"
     ]
    },
    {
     "name": "stdout",
     "output_type": "stream",
     "text": [
      "INFO:tensorflow:Assets written to: /home/rnb/Projects/rnb-planning/model/latticized/20210210-123738/model_11/assets\n"
     ]
    },
    {
     "name": "stderr",
     "output_type": "stream",
     "text": [
      "INFO:tensorflow:Assets written to: /home/rnb/Projects/rnb-planning/model/latticized/20210210-123738/model_11/assets\n"
     ]
    },
    {
     "name": "stdout",
     "output_type": "stream",
     "text": [
      "\n",
      "=================================================================\n",
      "Epoch 11, Loss: 0.18866926431655884, Accuracy: 92.87140655517578, Test Loss: 0.4232761561870575, Test Accuracy: 85.0\n",
      "=================================================================\n",
      "\n",
      "test step - 2000/2007           \r"
     ]
    },
    {
     "name": "stderr",
     "output_type": "stream",
     "text": [
      "WARNING:absl:Found untraced functions such as conv1_layer_call_and_return_conditional_losses, conv1_layer_call_fn, activation_layer_call_and_return_conditional_losses, activation_layer_call_fn, conv_block3d_layer_call_and_return_conditional_losses while saving (showing 5 of 1360). These functions will not be directly callable after loading.\n",
      "WARNING:absl:Found untraced functions such as conv1_layer_call_and_return_conditional_losses, conv1_layer_call_fn, activation_layer_call_and_return_conditional_losses, activation_layer_call_fn, conv_block3d_layer_call_and_return_conditional_losses while saving (showing 5 of 1360). These functions will not be directly callable after loading.\n"
     ]
    },
    {
     "name": "stdout",
     "output_type": "stream",
     "text": [
      "INFO:tensorflow:Assets written to: /home/rnb/Projects/rnb-planning/model/latticized/20210210-123738/model_12/assets\n"
     ]
    },
    {
     "name": "stderr",
     "output_type": "stream",
     "text": [
      "INFO:tensorflow:Assets written to: /home/rnb/Projects/rnb-planning/model/latticized/20210210-123738/model_12/assets\n"
     ]
    },
    {
     "name": "stdout",
     "output_type": "stream",
     "text": [
      "\n",
      "=================================================================\n",
      "Epoch 12, Loss: 0.16782787442207336, Accuracy: 93.73003387451172, Test Loss: 0.44768908619880676, Test Accuracy: 86.32500457763672\n",
      "=================================================================\n",
      "\n",
      "test step - 2000/2007           \r"
     ]
    },
    {
     "name": "stderr",
     "output_type": "stream",
     "text": [
      "WARNING:absl:Found untraced functions such as conv1_layer_call_and_return_conditional_losses, conv1_layer_call_fn, activation_layer_call_and_return_conditional_losses, activation_layer_call_fn, conv_block3d_layer_call_and_return_conditional_losses while saving (showing 5 of 1360). These functions will not be directly callable after loading.\n",
      "WARNING:absl:Found untraced functions such as conv1_layer_call_and_return_conditional_losses, conv1_layer_call_fn, activation_layer_call_and_return_conditional_losses, activation_layer_call_fn, conv_block3d_layer_call_and_return_conditional_losses while saving (showing 5 of 1360). These functions will not be directly callable after loading.\n"
     ]
    },
    {
     "name": "stdout",
     "output_type": "stream",
     "text": [
      "INFO:tensorflow:Assets written to: /home/rnb/Projects/rnb-planning/model/latticized/20210210-123738/model_13/assets\n"
     ]
    },
    {
     "name": "stderr",
     "output_type": "stream",
     "text": [
      "INFO:tensorflow:Assets written to: /home/rnb/Projects/rnb-planning/model/latticized/20210210-123738/model_13/assets\n"
     ]
    },
    {
     "name": "stdout",
     "output_type": "stream",
     "text": [
      "\n",
      "=================================================================\n",
      "Epoch 13, Loss: 0.15282176434993744, Accuracy: 94.16932678222656, Test Loss: 0.5801591277122498, Test Accuracy: 84.30000305175781\n",
      "=================================================================\n",
      "\n",
      "test step - 2000/2007           \r"
     ]
    },
    {
     "name": "stderr",
     "output_type": "stream",
     "text": [
      "WARNING:absl:Found untraced functions such as conv1_layer_call_and_return_conditional_losses, conv1_layer_call_fn, activation_layer_call_and_return_conditional_losses, activation_layer_call_fn, conv_block3d_layer_call_and_return_conditional_losses while saving (showing 5 of 1360). These functions will not be directly callable after loading.\n",
      "WARNING:absl:Found untraced functions such as conv1_layer_call_and_return_conditional_losses, conv1_layer_call_fn, activation_layer_call_and_return_conditional_losses, activation_layer_call_fn, conv_block3d_layer_call_and_return_conditional_losses while saving (showing 5 of 1360). These functions will not be directly callable after loading.\n"
     ]
    },
    {
     "name": "stdout",
     "output_type": "stream",
     "text": [
      "INFO:tensorflow:Assets written to: /home/rnb/Projects/rnb-planning/model/latticized/20210210-123738/model_14/assets\n"
     ]
    },
    {
     "name": "stderr",
     "output_type": "stream",
     "text": [
      "INFO:tensorflow:Assets written to: /home/rnb/Projects/rnb-planning/model/latticized/20210210-123738/model_14/assets\n"
     ]
    },
    {
     "name": "stdout",
     "output_type": "stream",
     "text": [
      "\n",
      "=================================================================\n",
      "Epoch 14, Loss: 0.1415930837392807, Accuracy: 94.66353607177734, Test Loss: 0.48648956418037415, Test Accuracy: 85.82500457763672\n",
      "=================================================================\n",
      "\n",
      "test step - 2000/2007           \r"
     ]
    },
    {
     "name": "stderr",
     "output_type": "stream",
     "text": [
      "WARNING:absl:Found untraced functions such as conv1_layer_call_and_return_conditional_losses, conv1_layer_call_fn, activation_layer_call_and_return_conditional_losses, activation_layer_call_fn, conv_block3d_layer_call_and_return_conditional_losses while saving (showing 5 of 1360). These functions will not be directly callable after loading.\n",
      "WARNING:absl:Found untraced functions such as conv1_layer_call_and_return_conditional_losses, conv1_layer_call_fn, activation_layer_call_and_return_conditional_losses, activation_layer_call_fn, conv_block3d_layer_call_and_return_conditional_losses while saving (showing 5 of 1360). These functions will not be directly callable after loading.\n"
     ]
    },
    {
     "name": "stdout",
     "output_type": "stream",
     "text": [
      "INFO:tensorflow:Assets written to: /home/rnb/Projects/rnb-planning/model/latticized/20210210-123738/model_15/assets\n"
     ]
    },
    {
     "name": "stderr",
     "output_type": "stream",
     "text": [
      "INFO:tensorflow:Assets written to: /home/rnb/Projects/rnb-planning/model/latticized/20210210-123738/model_15/assets\n"
     ]
    },
    {
     "name": "stdout",
     "output_type": "stream",
     "text": [
      "\n",
      "=================================================================\n",
      "Epoch 15, Loss: 0.13413314521312714, Accuracy: 94.93810272216797, Test Loss: 0.5968512892723083, Test Accuracy: 85.3499984741211\n",
      "=================================================================\n",
      "\n",
      "test step - 2000/2007           \r"
     ]
    },
    {
     "name": "stderr",
     "output_type": "stream",
     "text": [
      "WARNING:absl:Found untraced functions such as conv1_layer_call_and_return_conditional_losses, conv1_layer_call_fn, activation_layer_call_and_return_conditional_losses, activation_layer_call_fn, conv_block3d_layer_call_and_return_conditional_losses while saving (showing 5 of 1360). These functions will not be directly callable after loading.\n",
      "WARNING:absl:Found untraced functions such as conv1_layer_call_and_return_conditional_losses, conv1_layer_call_fn, activation_layer_call_and_return_conditional_losses, activation_layer_call_fn, conv_block3d_layer_call_and_return_conditional_losses while saving (showing 5 of 1360). These functions will not be directly callable after loading.\n"
     ]
    },
    {
     "name": "stdout",
     "output_type": "stream",
     "text": [
      "INFO:tensorflow:Assets written to: /home/rnb/Projects/rnb-planning/model/latticized/20210210-123738/model_16/assets\n"
     ]
    },
    {
     "name": "stderr",
     "output_type": "stream",
     "text": [
      "INFO:tensorflow:Assets written to: /home/rnb/Projects/rnb-planning/model/latticized/20210210-123738/model_16/assets\n"
     ]
    },
    {
     "name": "stdout",
     "output_type": "stream",
     "text": [
      "\n",
      "=================================================================\n",
      "Epoch 16, Loss: 0.13134370744228363, Accuracy: 95.1128158569336, Test Loss: 0.4572460353374481, Test Accuracy: 84.6500015258789\n",
      "=================================================================\n",
      "\n",
      "test step - 2000/2007           \r"
     ]
    },
    {
     "name": "stderr",
     "output_type": "stream",
     "text": [
      "WARNING:absl:Found untraced functions such as conv1_layer_call_and_return_conditional_losses, conv1_layer_call_fn, activation_layer_call_and_return_conditional_losses, activation_layer_call_fn, conv_block3d_layer_call_and_return_conditional_losses while saving (showing 5 of 1360). These functions will not be directly callable after loading.\n",
      "WARNING:absl:Found untraced functions such as conv1_layer_call_and_return_conditional_losses, conv1_layer_call_fn, activation_layer_call_and_return_conditional_losses, activation_layer_call_fn, conv_block3d_layer_call_and_return_conditional_losses while saving (showing 5 of 1360). These functions will not be directly callable after loading.\n"
     ]
    },
    {
     "name": "stdout",
     "output_type": "stream",
     "text": [
      "INFO:tensorflow:Assets written to: /home/rnb/Projects/rnb-planning/model/latticized/20210210-123738/model_17/assets\n"
     ]
    },
    {
     "name": "stderr",
     "output_type": "stream",
     "text": [
      "INFO:tensorflow:Assets written to: /home/rnb/Projects/rnb-planning/model/latticized/20210210-123738/model_17/assets\n"
     ]
    },
    {
     "name": "stdout",
     "output_type": "stream",
     "text": [
      "\n",
      "=================================================================\n",
      "Epoch 17, Loss: 0.10275788605213165, Accuracy: 96.13618469238281, Test Loss: 0.5110011696815491, Test Accuracy: 85.32500457763672\n",
      "=================================================================\n",
      "\n",
      "test step - 2000/2007           \r"
     ]
    },
    {
     "name": "stderr",
     "output_type": "stream",
     "text": [
      "WARNING:absl:Found untraced functions such as conv1_layer_call_and_return_conditional_losses, conv1_layer_call_fn, activation_layer_call_and_return_conditional_losses, activation_layer_call_fn, conv_block3d_layer_call_and_return_conditional_losses while saving (showing 5 of 1360). These functions will not be directly callable after loading.\n",
      "WARNING:absl:Found untraced functions such as conv1_layer_call_and_return_conditional_losses, conv1_layer_call_fn, activation_layer_call_and_return_conditional_losses, activation_layer_call_fn, conv_block3d_layer_call_and_return_conditional_losses while saving (showing 5 of 1360). These functions will not be directly callable after loading.\n"
     ]
    },
    {
     "name": "stdout",
     "output_type": "stream",
     "text": [
      "INFO:tensorflow:Assets written to: /home/rnb/Projects/rnb-planning/model/latticized/20210210-123738/model_18/assets\n"
     ]
    },
    {
     "name": "stderr",
     "output_type": "stream",
     "text": [
      "INFO:tensorflow:Assets written to: /home/rnb/Projects/rnb-planning/model/latticized/20210210-123738/model_18/assets\n"
     ]
    },
    {
     "name": "stdout",
     "output_type": "stream",
     "text": [
      "\n",
      "=================================================================\n",
      "Epoch 18, Loss: 0.09502436220645905, Accuracy: 96.41573333740234, Test Loss: 0.7781414985656738, Test Accuracy: 82.9749984741211\n",
      "=================================================================\n",
      "\n",
      "test step - 2000/2007           \r"
     ]
    },
    {
     "name": "stderr",
     "output_type": "stream",
     "text": [
      "WARNING:absl:Found untraced functions such as conv1_layer_call_and_return_conditional_losses, conv1_layer_call_fn, activation_layer_call_and_return_conditional_losses, activation_layer_call_fn, conv_block3d_layer_call_and_return_conditional_losses while saving (showing 5 of 1360). These functions will not be directly callable after loading.\n",
      "WARNING:absl:Found untraced functions such as conv1_layer_call_and_return_conditional_losses, conv1_layer_call_fn, activation_layer_call_and_return_conditional_losses, activation_layer_call_fn, conv_block3d_layer_call_and_return_conditional_losses while saving (showing 5 of 1360). These functions will not be directly callable after loading.\n"
     ]
    },
    {
     "name": "stdout",
     "output_type": "stream",
     "text": [
      "INFO:tensorflow:Assets written to: /home/rnb/Projects/rnb-planning/model/latticized/20210210-123738/model_19/assets\n"
     ]
    },
    {
     "name": "stderr",
     "output_type": "stream",
     "text": [
      "INFO:tensorflow:Assets written to: /home/rnb/Projects/rnb-planning/model/latticized/20210210-123738/model_19/assets\n"
     ]
    },
    {
     "name": "stdout",
     "output_type": "stream",
     "text": [
      "\n",
      "=================================================================\n",
      "Epoch 19, Loss: 0.07765428721904755, Accuracy: 97.1695327758789, Test Loss: 0.592262327671051, Test Accuracy: 84.375\n",
      "=================================================================\n",
      "\n",
      "test step - 2000/2007           \r"
     ]
    },
    {
     "name": "stderr",
     "output_type": "stream",
     "text": [
      "WARNING:absl:Found untraced functions such as conv1_layer_call_and_return_conditional_losses, conv1_layer_call_fn, activation_layer_call_and_return_conditional_losses, activation_layer_call_fn, conv_block3d_layer_call_and_return_conditional_losses while saving (showing 5 of 1360). These functions will not be directly callable after loading.\n",
      "WARNING:absl:Found untraced functions such as conv1_layer_call_and_return_conditional_losses, conv1_layer_call_fn, activation_layer_call_and_return_conditional_losses, activation_layer_call_fn, conv_block3d_layer_call_and_return_conditional_losses while saving (showing 5 of 1360). These functions will not be directly callable after loading.\n"
     ]
    },
    {
     "name": "stdout",
     "output_type": "stream",
     "text": [
      "INFO:tensorflow:Assets written to: /home/rnb/Projects/rnb-planning/model/latticized/20210210-123738/model_20/assets\n"
     ]
    },
    {
     "name": "stderr",
     "output_type": "stream",
     "text": [
      "INFO:tensorflow:Assets written to: /home/rnb/Projects/rnb-planning/model/latticized/20210210-123738/model_20/assets\n"
     ]
    },
    {
     "name": "stdout",
     "output_type": "stream",
     "text": [
      "\n",
      "=================================================================\n",
      "Epoch 20, Loss: 0.0859416276216507, Accuracy: 96.85503387451172, Test Loss: 0.763374924659729, Test Accuracy: 85.25\n",
      "=================================================================\n",
      "\n",
      "test step - 2000/2007           \r"
     ]
    },
    {
     "name": "stderr",
     "output_type": "stream",
     "text": [
      "WARNING:absl:Found untraced functions such as conv1_layer_call_and_return_conditional_losses, conv1_layer_call_fn, activation_layer_call_and_return_conditional_losses, activation_layer_call_fn, conv_block3d_layer_call_and_return_conditional_losses while saving (showing 5 of 1360). These functions will not be directly callable after loading.\n",
      "WARNING:absl:Found untraced functions such as conv1_layer_call_and_return_conditional_losses, conv1_layer_call_fn, activation_layer_call_and_return_conditional_losses, activation_layer_call_fn, conv_block3d_layer_call_and_return_conditional_losses while saving (showing 5 of 1360). These functions will not be directly callable after loading.\n"
     ]
    },
    {
     "name": "stdout",
     "output_type": "stream",
     "text": [
      "INFO:tensorflow:Assets written to: /home/rnb/Projects/rnb-planning/model/latticized/20210210-123738/model_21/assets\n"
     ]
    },
    {
     "name": "stderr",
     "output_type": "stream",
     "text": [
      "INFO:tensorflow:Assets written to: /home/rnb/Projects/rnb-planning/model/latticized/20210210-123738/model_21/assets\n"
     ]
    },
    {
     "name": "stdout",
     "output_type": "stream",
     "text": [
      "\n",
      "=================================================================\n",
      "Epoch 21, Loss: 0.06910138577222824, Accuracy: 97.51397705078125, Test Loss: 0.6765573620796204, Test Accuracy: 84.375\n",
      "=================================================================\n",
      "\n",
      "test step - 2000/2007           \r"
     ]
    },
    {
     "name": "stderr",
     "output_type": "stream",
     "text": [
      "WARNING:absl:Found untraced functions such as conv1_layer_call_and_return_conditional_losses, conv1_layer_call_fn, activation_layer_call_and_return_conditional_losses, activation_layer_call_fn, conv_block3d_layer_call_and_return_conditional_losses while saving (showing 5 of 1360). These functions will not be directly callable after loading.\n",
      "WARNING:absl:Found untraced functions such as conv1_layer_call_and_return_conditional_losses, conv1_layer_call_fn, activation_layer_call_and_return_conditional_losses, activation_layer_call_fn, conv_block3d_layer_call_and_return_conditional_losses while saving (showing 5 of 1360). These functions will not be directly callable after loading.\n"
     ]
    },
    {
     "name": "stdout",
     "output_type": "stream",
     "text": [
      "INFO:tensorflow:Assets written to: /home/rnb/Projects/rnb-planning/model/latticized/20210210-123738/model_22/assets\n"
     ]
    },
    {
     "name": "stderr",
     "output_type": "stream",
     "text": [
      "INFO:tensorflow:Assets written to: /home/rnb/Projects/rnb-planning/model/latticized/20210210-123738/model_22/assets\n"
     ]
    },
    {
     "name": "stdout",
     "output_type": "stream",
     "text": [
      "\n",
      "=================================================================\n",
      "Epoch 22, Loss: 0.0640556737780571, Accuracy: 97.83346557617188, Test Loss: 1.5149633884429932, Test Accuracy: 80.625\n",
      "=================================================================\n",
      "\n",
      "test step - 2000/2007           \r"
     ]
    },
    {
     "name": "stderr",
     "output_type": "stream",
     "text": [
      "WARNING:absl:Found untraced functions such as conv1_layer_call_and_return_conditional_losses, conv1_layer_call_fn, activation_layer_call_and_return_conditional_losses, activation_layer_call_fn, conv_block3d_layer_call_and_return_conditional_losses while saving (showing 5 of 1360). These functions will not be directly callable after loading.\n",
      "WARNING:absl:Found untraced functions such as conv1_layer_call_and_return_conditional_losses, conv1_layer_call_fn, activation_layer_call_and_return_conditional_losses, activation_layer_call_fn, conv_block3d_layer_call_and_return_conditional_losses while saving (showing 5 of 1360). These functions will not be directly callable after loading.\n"
     ]
    },
    {
     "name": "stdout",
     "output_type": "stream",
     "text": [
      "INFO:tensorflow:Assets written to: /home/rnb/Projects/rnb-planning/model/latticized/20210210-123738/model_23/assets\n"
     ]
    },
    {
     "name": "stderr",
     "output_type": "stream",
     "text": [
      "INFO:tensorflow:Assets written to: /home/rnb/Projects/rnb-planning/model/latticized/20210210-123738/model_23/assets\n"
     ]
    },
    {
     "name": "stdout",
     "output_type": "stream",
     "text": [
      "\n",
      "=================================================================\n",
      "Epoch 23, Loss: 0.06128211319446564, Accuracy: 97.69868469238281, Test Loss: 0.7338658571243286, Test Accuracy: 84.55000305175781\n",
      "=================================================================\n",
      "\n",
      "test step - 2000/2007           \r"
     ]
    },
    {
     "name": "stderr",
     "output_type": "stream",
     "text": [
      "WARNING:absl:Found untraced functions such as conv1_layer_call_and_return_conditional_losses, conv1_layer_call_fn, activation_layer_call_and_return_conditional_losses, activation_layer_call_fn, conv_block3d_layer_call_and_return_conditional_losses while saving (showing 5 of 1360). These functions will not be directly callable after loading.\n",
      "WARNING:absl:Found untraced functions such as conv1_layer_call_and_return_conditional_losses, conv1_layer_call_fn, activation_layer_call_and_return_conditional_losses, activation_layer_call_fn, conv_block3d_layer_call_and_return_conditional_losses while saving (showing 5 of 1360). These functions will not be directly callable after loading.\n"
     ]
    },
    {
     "name": "stdout",
     "output_type": "stream",
     "text": [
      "INFO:tensorflow:Assets written to: /home/rnb/Projects/rnb-planning/model/latticized/20210210-123738/model_24/assets\n"
     ]
    },
    {
     "name": "stderr",
     "output_type": "stream",
     "text": [
      "INFO:tensorflow:Assets written to: /home/rnb/Projects/rnb-planning/model/latticized/20210210-123738/model_24/assets\n"
     ]
    },
    {
     "name": "stdout",
     "output_type": "stream",
     "text": [
      "\n",
      "=================================================================\n",
      "Epoch 24, Loss: 0.060338761657476425, Accuracy: 97.89836120605469, Test Loss: 0.6757811903953552, Test Accuracy: 84.2249984741211\n",
      "=================================================================\n",
      "\n",
      "test step - 2000/2007           \r"
     ]
    },
    {
     "name": "stderr",
     "output_type": "stream",
     "text": [
      "WARNING:absl:Found untraced functions such as conv1_layer_call_and_return_conditional_losses, conv1_layer_call_fn, activation_layer_call_and_return_conditional_losses, activation_layer_call_fn, conv_block3d_layer_call_and_return_conditional_losses while saving (showing 5 of 1360). These functions will not be directly callable after loading.\n",
      "WARNING:absl:Found untraced functions such as conv1_layer_call_and_return_conditional_losses, conv1_layer_call_fn, activation_layer_call_and_return_conditional_losses, activation_layer_call_fn, conv_block3d_layer_call_and_return_conditional_losses while saving (showing 5 of 1360). These functions will not be directly callable after loading.\n"
     ]
    },
    {
     "name": "stdout",
     "output_type": "stream",
     "text": [
      "INFO:tensorflow:Assets written to: /home/rnb/Projects/rnb-planning/model/latticized/20210210-123738/model_25/assets\n"
     ]
    },
    {
     "name": "stderr",
     "output_type": "stream",
     "text": [
      "INFO:tensorflow:Assets written to: /home/rnb/Projects/rnb-planning/model/latticized/20210210-123738/model_25/assets\n"
     ]
    },
    {
     "name": "stdout",
     "output_type": "stream",
     "text": [
      "\n",
      "=================================================================\n",
      "Epoch 25, Loss: 0.058382727205753326, Accuracy: 97.8783950805664, Test Loss: 0.6629369854927063, Test Accuracy: 84.25\n",
      "=================================================================\n",
      "\n",
      "test step - 2000/2007           \r"
     ]
    },
    {
     "name": "stderr",
     "output_type": "stream",
     "text": [
      "WARNING:absl:Found untraced functions such as conv1_layer_call_and_return_conditional_losses, conv1_layer_call_fn, activation_layer_call_and_return_conditional_losses, activation_layer_call_fn, conv_block3d_layer_call_and_return_conditional_losses while saving (showing 5 of 1360). These functions will not be directly callable after loading.\n",
      "WARNING:absl:Found untraced functions such as conv1_layer_call_and_return_conditional_losses, conv1_layer_call_fn, activation_layer_call_and_return_conditional_losses, activation_layer_call_fn, conv_block3d_layer_call_and_return_conditional_losses while saving (showing 5 of 1360). These functions will not be directly callable after loading.\n"
     ]
    },
    {
     "name": "stdout",
     "output_type": "stream",
     "text": [
      "INFO:tensorflow:Assets written to: /home/rnb/Projects/rnb-planning/model/latticized/20210210-123738/model_26/assets\n"
     ]
    },
    {
     "name": "stderr",
     "output_type": "stream",
     "text": [
      "INFO:tensorflow:Assets written to: /home/rnb/Projects/rnb-planning/model/latticized/20210210-123738/model_26/assets\n"
     ]
    },
    {
     "name": "stdout",
     "output_type": "stream",
     "text": [
      "\n",
      "=================================================================\n",
      "Epoch 26, Loss: 0.054042644798755646, Accuracy: 98.08306884765625, Test Loss: 0.6798408031463623, Test Accuracy: 85.39999389648438\n",
      "=================================================================\n",
      "\n",
      "test step - 2000/2007           \r"
     ]
    },
    {
     "name": "stderr",
     "output_type": "stream",
     "text": [
      "WARNING:absl:Found untraced functions such as conv1_layer_call_and_return_conditional_losses, conv1_layer_call_fn, activation_layer_call_and_return_conditional_losses, activation_layer_call_fn, conv_block3d_layer_call_and_return_conditional_losses while saving (showing 5 of 1360). These functions will not be directly callable after loading.\n",
      "WARNING:absl:Found untraced functions such as conv1_layer_call_and_return_conditional_losses, conv1_layer_call_fn, activation_layer_call_and_return_conditional_losses, activation_layer_call_fn, conv_block3d_layer_call_and_return_conditional_losses while saving (showing 5 of 1360). These functions will not be directly callable after loading.\n"
     ]
    },
    {
     "name": "stdout",
     "output_type": "stream",
     "text": [
      "INFO:tensorflow:Assets written to: /home/rnb/Projects/rnb-planning/model/latticized/20210210-123738/model_27/assets\n"
     ]
    },
    {
     "name": "stderr",
     "output_type": "stream",
     "text": [
      "INFO:tensorflow:Assets written to: /home/rnb/Projects/rnb-planning/model/latticized/20210210-123738/model_27/assets\n"
     ]
    },
    {
     "name": "stdout",
     "output_type": "stream",
     "text": [
      "\n",
      "=================================================================\n",
      "Epoch 27, Loss: 0.05247167870402336, Accuracy: 98.1080322265625, Test Loss: 0.5821656584739685, Test Accuracy: 83.9000015258789\n",
      "=================================================================\n",
      "\n",
      "test step - 2000/2007           \r"
     ]
    },
    {
     "name": "stderr",
     "output_type": "stream",
     "text": [
      "WARNING:absl:Found untraced functions such as conv1_layer_call_and_return_conditional_losses, conv1_layer_call_fn, activation_layer_call_and_return_conditional_losses, activation_layer_call_fn, conv_block3d_layer_call_and_return_conditional_losses while saving (showing 5 of 1360). These functions will not be directly callable after loading.\n",
      "WARNING:absl:Found untraced functions such as conv1_layer_call_and_return_conditional_losses, conv1_layer_call_fn, activation_layer_call_and_return_conditional_losses, activation_layer_call_fn, conv_block3d_layer_call_and_return_conditional_losses while saving (showing 5 of 1360). These functions will not be directly callable after loading.\n"
     ]
    },
    {
     "name": "stdout",
     "output_type": "stream",
     "text": [
      "INFO:tensorflow:Assets written to: /home/rnb/Projects/rnb-planning/model/latticized/20210210-123738/model_28/assets\n"
     ]
    },
    {
     "name": "stderr",
     "output_type": "stream",
     "text": [
      "INFO:tensorflow:Assets written to: /home/rnb/Projects/rnb-planning/model/latticized/20210210-123738/model_28/assets\n"
     ]
    },
    {
     "name": "stdout",
     "output_type": "stream",
     "text": [
      "\n",
      "=================================================================\n",
      "Epoch 28, Loss: 0.044894710183143616, Accuracy: 98.3426513671875, Test Loss: 0.7597544193267822, Test Accuracy: 83.32499694824219\n",
      "=================================================================\n",
      "\n",
      "test step - 2000/2007           \r"
     ]
    },
    {
     "name": "stderr",
     "output_type": "stream",
     "text": [
      "WARNING:absl:Found untraced functions such as conv1_layer_call_and_return_conditional_losses, conv1_layer_call_fn, activation_layer_call_and_return_conditional_losses, activation_layer_call_fn, conv_block3d_layer_call_and_return_conditional_losses while saving (showing 5 of 1360). These functions will not be directly callable after loading.\n",
      "WARNING:absl:Found untraced functions such as conv1_layer_call_and_return_conditional_losses, conv1_layer_call_fn, activation_layer_call_and_return_conditional_losses, activation_layer_call_fn, conv_block3d_layer_call_and_return_conditional_losses while saving (showing 5 of 1360). These functions will not be directly callable after loading.\n"
     ]
    },
    {
     "name": "stdout",
     "output_type": "stream",
     "text": [
      "INFO:tensorflow:Assets written to: /home/rnb/Projects/rnb-planning/model/latticized/20210210-123738/model_29/assets\n"
     ]
    },
    {
     "name": "stderr",
     "output_type": "stream",
     "text": [
      "INFO:tensorflow:Assets written to: /home/rnb/Projects/rnb-planning/model/latticized/20210210-123738/model_29/assets\n"
     ]
    },
    {
     "name": "stdout",
     "output_type": "stream",
     "text": [
      "\n",
      "=================================================================\n",
      "Epoch 29, Loss: 0.04762832447886467, Accuracy: 98.33766174316406, Test Loss: 0.6555876135826111, Test Accuracy: 85.32500457763672\n",
      "=================================================================\n",
      "\n",
      "test step - 2000/2007           \r"
     ]
    },
    {
     "name": "stderr",
     "output_type": "stream",
     "text": [
      "WARNING:absl:Found untraced functions such as conv1_layer_call_and_return_conditional_losses, conv1_layer_call_fn, activation_layer_call_and_return_conditional_losses, activation_layer_call_fn, conv_block3d_layer_call_and_return_conditional_losses while saving (showing 5 of 1360). These functions will not be directly callable after loading.\n",
      "WARNING:absl:Found untraced functions such as conv1_layer_call_and_return_conditional_losses, conv1_layer_call_fn, activation_layer_call_and_return_conditional_losses, activation_layer_call_fn, conv_block3d_layer_call_and_return_conditional_losses while saving (showing 5 of 1360). These functions will not be directly callable after loading.\n"
     ]
    },
    {
     "name": "stdout",
     "output_type": "stream",
     "text": [
      "INFO:tensorflow:Assets written to: /home/rnb/Projects/rnb-planning/model/latticized/20210210-123738/model_30/assets\n"
     ]
    },
    {
     "name": "stderr",
     "output_type": "stream",
     "text": [
      "INFO:tensorflow:Assets written to: /home/rnb/Projects/rnb-planning/model/latticized/20210210-123738/model_30/assets\n"
     ]
    },
    {
     "name": "stdout",
     "output_type": "stream",
     "text": [
      "\n",
      "=================================================================\n",
      "Epoch 30, Loss: 0.04083244502544403, Accuracy: 98.61222076416016, Test Loss: 0.5977253913879395, Test Accuracy: 86.25\n",
      "=================================================================\n",
      "\n"
     ]
    }
   ],
   "source": [
    "EPOCHS_S = 0\n",
    "EPOCHS_E = 30\n",
    "BATCH_SIZE = 16\n",
    "LOG_STEP = 100\n",
    "N_train = len(data_pairs_train)\n",
    "N_test = len(data_pairs_test)\n",
    "\n",
    "for epoch in range(EPOCHS_S, EPOCHS_E):\n",
    "    # Reset the metrics at the start of the next epoch\n",
    "    train_loss.reset_states()\n",
    "    train_accuracy.reset_states()\n",
    "    test_loss.reset_states()\n",
    "    test_accuracy.reset_states()\n",
    "    \n",
    "    random.shuffle(data_pairs_train)\n",
    "    i_step = 0\n",
    "    data_batch, label_batch = [], []\n",
    "    for data_pair in data_pairs_train:\n",
    "        i_step += 1\n",
    "        grasp_img, arm_img, rh_mask, label = load_data(data_pair)\n",
    "        data_batch.append([grasp_img, arm_img, rh_mask])\n",
    "        label_batch.append(label)\n",
    "        if i_step%BATCH_SIZE==0:\n",
    "            grasp_img_batch = np.array([grasp_img for grasp_img, arm_img, rh_mask in data_batch])\n",
    "            arm_img_batch = np.array([arm_img for grasp_img, arm_img, rh_mask in data_batch])\n",
    "            rh_mask_batch = np.array([rh_mask for grasp_img, arm_img, rh_mask in data_batch])\n",
    "            label_batch = np.array(label_batch, dtype=np.int)\n",
    "            train_step([grasp_img_batch, arm_img_batch, rh_mask_batch], label_batch)\n",
    "            data_batch, label_batch = [], []\n",
    "        if i_step%LOG_STEP==0:\n",
    "            print(\"train step - {}/{}        \".format(i_step, N_train), end = '\\r')\n",
    "    with train_summary_writer.as_default():\n",
    "        tf.summary.scalar('loss', train_loss.result(), step=epoch)\n",
    "        tf.summary.scalar('accuracy', train_accuracy.result(), step=epoch)\n",
    "\n",
    "    i_step = 0\n",
    "    data_batch, label_batch = [], []\n",
    "    for data_pair in data_pairs_test:\n",
    "        i_step += 1\n",
    "        grasp_img, arm_img, rh_mask, label = load_data(data_pair)\n",
    "        data_batch.append([grasp_img, arm_img, rh_mask])\n",
    "        label_batch.append(label)\n",
    "        if i_step%BATCH_SIZE==0:\n",
    "            grasp_img_batch = np.array([grasp_img for grasp_img, arm_img, rh_mask in data_batch])\n",
    "            arm_img_batch = np.array([arm_img for grasp_img, arm_img, rh_mask in data_batch])\n",
    "            rh_mask_batch = np.array([rh_mask for grasp_img, arm_img, rh_mask in data_batch])\n",
    "            label_batch = np.array(label_batch, dtype=np.int)\n",
    "            test_step([grasp_img_batch, arm_img_batch, rh_mask_batch], label_batch)\n",
    "            data_batch, label_batch = [], []\n",
    "        if i_step%LOG_STEP==0:\n",
    "            print(\"test step - {}/{}        \".format(i_step, N_test), end = '\\r')\n",
    "    with test_summary_writer.as_default():\n",
    "        tf.summary.scalar('loss', test_loss.result(), step=epoch)\n",
    "        tf.summary.scalar('accuracy', test_accuracy.result(), step=epoch)\n",
    "            \n",
    "    model.save(model_log_dir.format(epoch + 1))\n",
    "\n",
    "    print(\"\")\n",
    "    print(\"=================================================================\")\n",
    "    print(\n",
    "        f'Epoch {epoch + 1}, '\n",
    "        f'Loss: {train_loss.result()}, '\n",
    "        f'Accuracy: {train_accuracy.result() * 100}, '\n",
    "        f'Test Loss: {test_loss.result()}, '\n",
    "        f'Test Accuracy: {test_accuracy.result() * 100}'\n",
    "    )\n",
    "    print(\"=================================================================\")\n",
    "    print(\"\")"
   ]
  },
  {
   "cell_type": "code",
   "execution_count": null,
   "metadata": {},
   "outputs": [],
   "source": []
  },
  {
   "cell_type": "markdown",
   "metadata": {},
   "source": [
    "## Load & test"
   ]
  },
  {
   "cell_type": "code",
   "execution_count": 6,
   "metadata": {},
   "outputs": [],
   "source": [
    "last_model = sorted(os.listdir(LAT_MODEL_PATH))[-1]"
   ]
  },
  {
   "cell_type": "code",
   "execution_count": 7,
   "metadata": {},
   "outputs": [],
   "source": [
    "logpath = os.path.join(LAT_MODEL_PATH, last_model)\n",
    "# last_save = sorted([item for item in os.listdir(logpath) if item.startswith(\"model\")])[-1]\n",
    "last_save = \"model_5\"\n",
    "model_log_dir = os.path.join(logpath, last_save)"
   ]
  },
  {
   "cell_type": "code",
   "execution_count": 8,
   "metadata": {},
   "outputs": [
    {
     "name": "stderr",
     "output_type": "stream",
     "text": [
      "WARNING:absl:Importing a function (__inference_dense_bn_1_layer_call_and_return_conditional_losses_424277) with ops with custom gradients. Will likely fail if a gradient is requested.\n",
      "WARNING:absl:Importing a function (__inference_dens1_grasp_layer_call_and_return_conditional_losses_388868) with ops with custom gradients. Will likely fail if a gradient is requested.\n",
      "WARNING:absl:Importing a function (__inference_res_net_model_tp_layer_call_and_return_conditional_losses_403206) with ops with custom gradients. Will likely fail if a gradient is requested.\n",
      "WARNING:absl:Importing a function (__inference_res_net_model_tp_layer_call_and_return_conditional_losses_403206) with ops with custom gradients. Will likely fail if a gradient is requested.\n",
      "WARNING:absl:Importing a function (__inference_res_net_model_tp_layer_call_and_return_conditional_losses_403206) with ops with custom gradients. Will likely fail if a gradient is requested.\n",
      "WARNING:absl:Importing a function (__inference_res_net_model_tp_layer_call_and_return_conditional_losses_403206) with ops with custom gradients. Will likely fail if a gradient is requested.\n",
      "WARNING:absl:Importing a function (__inference_res_net_model_tp_layer_call_and_return_conditional_losses_403206) with ops with custom gradients. Will likely fail if a gradient is requested.\n",
      "WARNING:absl:Importing a function (__inference_res_net_model_tp_layer_call_and_return_conditional_losses_403206) with ops with custom gradients. Will likely fail if a gradient is requested.\n",
      "WARNING:absl:Importing a function (__inference_res_net_model_tp_layer_call_and_return_conditional_losses_403206) with ops with custom gradients. Will likely fail if a gradient is requested.\n",
      "WARNING:absl:Importing a function (__inference_res_net_model_tp_layer_call_and_return_conditional_losses_403206) with ops with custom gradients. Will likely fail if a gradient is requested.\n",
      "WARNING:absl:Importing a function (__inference_res_net_model_tp_layer_call_and_return_conditional_losses_403206) with ops with custom gradients. Will likely fail if a gradient is requested.\n",
      "WARNING:absl:Importing a function (__inference_res_net_model_tp_layer_call_and_return_conditional_losses_403206) with ops with custom gradients. Will likely fail if a gradient is requested.\n",
      "WARNING:absl:Importing a function (__inference_res_net_model_tp_layer_call_and_return_conditional_losses_403206) with ops with custom gradients. Will likely fail if a gradient is requested.\n",
      "WARNING:absl:Importing a function (__inference_res_net_model_tp_layer_call_and_return_conditional_losses_403206) with ops with custom gradients. Will likely fail if a gradient is requested.\n",
      "WARNING:absl:Importing a function (__inference_res_net_model_tp_layer_call_and_return_conditional_losses_403206) with ops with custom gradients. Will likely fail if a gradient is requested.\n",
      "WARNING:absl:Importing a function (__inference_res_net_model_tp_layer_call_and_return_conditional_losses_403206) with ops with custom gradients. Will likely fail if a gradient is requested.\n",
      "WARNING:absl:Importing a function (__inference_res_net_model_tp_layer_call_and_return_conditional_losses_403206) with ops with custom gradients. Will likely fail if a gradient is requested.\n",
      "WARNING:absl:Importing a function (__inference_res_net_model_tp_layer_call_and_return_conditional_losses_403206) with ops with custom gradients. Will likely fail if a gradient is requested.\n",
      "WARNING:absl:Importing a function (__inference_res_net_model_tp_layer_call_and_return_conditional_losses_403206) with ops with custom gradients. Will likely fail if a gradient is requested.\n",
      "WARNING:absl:Importing a function (__inference_res_net_model_tp_layer_call_and_return_conditional_losses_403206) with ops with custom gradients. Will likely fail if a gradient is requested.\n",
      "WARNING:absl:Importing a function (__inference_res_net_model_tp_layer_call_and_return_conditional_losses_403206) with ops with custom gradients. Will likely fail if a gradient is requested.\n",
      "WARNING:absl:Importing a function (__inference_res_net_model_tp_layer_call_and_return_conditional_losses_403206) with ops with custom gradients. Will likely fail if a gradient is requested.\n",
      "WARNING:absl:Importing a function (__inference_res_net_model_tp_layer_call_and_return_conditional_losses_403206) with ops with custom gradients. Will likely fail if a gradient is requested.\n",
      "WARNING:absl:Importing a function (__inference_res_net_model_tp_layer_call_and_return_conditional_losses_403206) with ops with custom gradients. Will likely fail if a gradient is requested.\n",
      "WARNING:absl:Importing a function (__inference_res_net_model_tp_layer_call_and_return_conditional_losses_403206) with ops with custom gradients. Will likely fail if a gradient is requested.\n",
      "WARNING:absl:Importing a function (__inference_res_net_model_tp_layer_call_and_return_conditional_losses_403206) with ops with custom gradients. Will likely fail if a gradient is requested.\n",
      "WARNING:absl:Importing a function (__inference_res_net_model_tp_layer_call_and_return_conditional_losses_403206) with ops with custom gradients. Will likely fail if a gradient is requested.\n",
      "WARNING:absl:Importing a function (__inference_res_net_model_tp_layer_call_and_return_conditional_losses_403206) with ops with custom gradients. Will likely fail if a gradient is requested.\n",
      "WARNING:absl:Importing a function (__inference_res_net_model_tp_layer_call_and_return_conditional_losses_403206) with ops with custom gradients. Will likely fail if a gradient is requested.\n",
      "WARNING:absl:Importing a function (__inference_res_net_model_tp_layer_call_and_return_conditional_losses_403206) with ops with custom gradients. Will likely fail if a gradient is requested.\n",
      "WARNING:absl:Importing a function (__inference_res_net_model_tp_layer_call_and_return_conditional_losses_403206) with ops with custom gradients. Will likely fail if a gradient is requested.\n",
      "WARNING:absl:Importing a function (__inference_res_net_model_tp_layer_call_and_return_conditional_losses_403206) with ops with custom gradients. Will likely fail if a gradient is requested.\n",
      "WARNING:absl:Importing a function (__inference_res_net_model_tp_layer_call_and_return_conditional_losses_403206) with ops with custom gradients. Will likely fail if a gradient is requested.\n",
      "WARNING:absl:Importing a function (__inference_res_net_model_tp_layer_call_and_return_conditional_losses_403206) with ops with custom gradients. Will likely fail if a gradient is requested.\n",
      "WARNING:absl:Importing a function (__inference_res_net_model_tp_layer_call_and_return_conditional_losses_403206) with ops with custom gradients. Will likely fail if a gradient is requested.\n",
      "WARNING:absl:Importing a function (__inference_res_net_model_tp_layer_call_and_return_conditional_losses_403206) with ops with custom gradients. Will likely fail if a gradient is requested.\n",
      "WARNING:absl:Importing a function (__inference_res_net_model_tp_layer_call_and_return_conditional_losses_403206) with ops with custom gradients. Will likely fail if a gradient is requested.\n",
      "WARNING:absl:Importing a function (__inference_res_net_model_tp_layer_call_and_return_conditional_losses_403206) with ops with custom gradients. Will likely fail if a gradient is requested.\n",
      "WARNING:absl:Importing a function (__inference_res_net_model_tp_layer_call_and_return_conditional_losses_403206) with ops with custom gradients. Will likely fail if a gradient is requested.\n",
      "WARNING:absl:Importing a function (__inference_res_net_model_tp_layer_call_and_return_conditional_losses_403206) with ops with custom gradients. Will likely fail if a gradient is requested.\n",
      "WARNING:absl:Importing a function (__inference_res_net_model_tp_layer_call_and_return_conditional_losses_403206) with ops with custom gradients. Will likely fail if a gradient is requested.\n",
      "WARNING:absl:Importing a function (__inference_res_net_model_tp_layer_call_and_return_conditional_losses_403206) with ops with custom gradients. Will likely fail if a gradient is requested.\n",
      "WARNING:absl:Importing a function (__inference_res_net_model_tp_layer_call_and_return_conditional_losses_403206) with ops with custom gradients. Will likely fail if a gradient is requested.\n",
      "WARNING:absl:Importing a function (__inference_res_net_model_tp_layer_call_and_return_conditional_losses_403206) with ops with custom gradients. Will likely fail if a gradient is requested.\n"
     ]
    },
    {
     "name": "stderr",
     "output_type": "stream",
     "text": [
      "WARNING:absl:Importing a function (__inference_res_net_model_tp_layer_call_and_return_conditional_losses_403206) with ops with custom gradients. Will likely fail if a gradient is requested.\n",
      "WARNING:absl:Importing a function (__inference_res_net_model_tp_layer_call_and_return_conditional_losses_403206) with ops with custom gradients. Will likely fail if a gradient is requested.\n",
      "WARNING:absl:Importing a function (__inference_res_net_model_tp_layer_call_and_return_conditional_losses_403206) with ops with custom gradients. Will likely fail if a gradient is requested.\n",
      "WARNING:absl:Importing a function (__inference_res_net_model_tp_layer_call_and_return_conditional_losses_403206) with ops with custom gradients. Will likely fail if a gradient is requested.\n",
      "WARNING:absl:Importing a function (__inference_res_net_model_tp_layer_call_and_return_conditional_losses_403206) with ops with custom gradients. Will likely fail if a gradient is requested.\n",
      "WARNING:absl:Importing a function (__inference_res_net_model_tp_layer_call_and_return_conditional_losses_403206) with ops with custom gradients. Will likely fail if a gradient is requested.\n",
      "WARNING:absl:Importing a function (__inference_res_net_model_tp_layer_call_and_return_conditional_losses_403206) with ops with custom gradients. Will likely fail if a gradient is requested.\n",
      "WARNING:absl:Importing a function (__inference_res_net_model_tp_layer_call_and_return_conditional_losses_403206) with ops with custom gradients. Will likely fail if a gradient is requested.\n",
      "WARNING:absl:Importing a function (__inference_res_net_model_tp_layer_call_and_return_conditional_losses_403206) with ops with custom gradients. Will likely fail if a gradient is requested.\n",
      "WARNING:absl:Importing a function (__inference_res_net_model_tp_layer_call_and_return_conditional_losses_403206) with ops with custom gradients. Will likely fail if a gradient is requested.\n",
      "WARNING:absl:Importing a function (__inference_res_net_model_tp_layer_call_and_return_conditional_losses_403206) with ops with custom gradients. Will likely fail if a gradient is requested.\n",
      "WARNING:absl:Importing a function (__inference_res_net_model_tp_layer_call_and_return_conditional_losses_403206) with ops with custom gradients. Will likely fail if a gradient is requested.\n",
      "WARNING:absl:Importing a function (__inference_res_net_model_tp_layer_call_and_return_conditional_losses_403206) with ops with custom gradients. Will likely fail if a gradient is requested.\n",
      "WARNING:absl:Importing a function (__inference_res_net_model_tp_layer_call_and_return_conditional_losses_403206) with ops with custom gradients. Will likely fail if a gradient is requested.\n",
      "WARNING:absl:Importing a function (__inference_res_net_model_tp_layer_call_and_return_conditional_losses_403206) with ops with custom gradients. Will likely fail if a gradient is requested.\n",
      "WARNING:absl:Importing a function (__inference_res_net_model_tp_layer_call_and_return_conditional_losses_403206) with ops with custom gradients. Will likely fail if a gradient is requested.\n",
      "WARNING:absl:Importing a function (__inference_res_net_model_tp_layer_call_and_return_conditional_losses_403206) with ops with custom gradients. Will likely fail if a gradient is requested.\n",
      "WARNING:absl:Importing a function (__inference_res_net_model_tp_layer_call_and_return_conditional_losses_403206) with ops with custom gradients. Will likely fail if a gradient is requested.\n",
      "WARNING:absl:Importing a function (__inference_res_net_model_tp_layer_call_and_return_conditional_losses_403206) with ops with custom gradients. Will likely fail if a gradient is requested.\n",
      "WARNING:absl:Importing a function (__inference_res_net_model_tp_layer_call_and_return_conditional_losses_403206) with ops with custom gradients. Will likely fail if a gradient is requested.\n",
      "WARNING:absl:Importing a function (__inference_res_net_model_tp_layer_call_and_return_conditional_losses_403206) with ops with custom gradients. Will likely fail if a gradient is requested.\n",
      "WARNING:absl:Importing a function (__inference_res_net_model_tp_layer_call_and_return_conditional_losses_403206) with ops with custom gradients. Will likely fail if a gradient is requested.\n",
      "WARNING:absl:Importing a function (__inference_res_net_model_tp_layer_call_and_return_conditional_losses_403206) with ops with custom gradients. Will likely fail if a gradient is requested.\n",
      "WARNING:absl:Importing a function (__inference_res_net_model_tp_layer_call_and_return_conditional_losses_403206) with ops with custom gradients. Will likely fail if a gradient is requested.\n",
      "WARNING:absl:Importing a function (__inference_res_net_model_tp_layer_call_and_return_conditional_losses_403206) with ops with custom gradients. Will likely fail if a gradient is requested.\n",
      "WARNING:absl:Importing a function (__inference_res_net_model_tp_layer_call_and_return_conditional_losses_403206) with ops with custom gradients. Will likely fail if a gradient is requested.\n",
      "WARNING:absl:Importing a function (__inference_res_net_model_tp_layer_call_and_return_conditional_losses_403206) with ops with custom gradients. Will likely fail if a gradient is requested.\n",
      "WARNING:absl:Importing a function (__inference_res_net_model_tp_layer_call_and_return_conditional_losses_403206) with ops with custom gradients. Will likely fail if a gradient is requested.\n",
      "WARNING:absl:Importing a function (__inference_res_net_model_tp_layer_call_and_return_conditional_losses_403206) with ops with custom gradients. Will likely fail if a gradient is requested.\n",
      "WARNING:absl:Importing a function (__inference_res_net_model_tp_layer_call_and_return_conditional_losses_403206) with ops with custom gradients. Will likely fail if a gradient is requested.\n",
      "WARNING:absl:Importing a function (__inference_res_net_model_tp_layer_call_and_return_conditional_losses_403206) with ops with custom gradients. Will likely fail if a gradient is requested.\n",
      "WARNING:absl:Importing a function (__inference_res_net_model_tp_layer_call_and_return_conditional_losses_403206) with ops with custom gradients. Will likely fail if a gradient is requested.\n",
      "WARNING:absl:Importing a function (__inference_res_net_model_tp_layer_call_and_return_conditional_losses_403206) with ops with custom gradients. Will likely fail if a gradient is requested.\n",
      "WARNING:absl:Importing a function (__inference_res_net_model_tp_layer_call_and_return_conditional_losses_403206) with ops with custom gradients. Will likely fail if a gradient is requested.\n",
      "WARNING:absl:Importing a function (__inference_res_net_model_tp_layer_call_and_return_conditional_losses_403206) with ops with custom gradients. Will likely fail if a gradient is requested.\n",
      "WARNING:absl:Importing a function (__inference_res_net_model_tp_layer_call_and_return_conditional_losses_403206) with ops with custom gradients. Will likely fail if a gradient is requested.\n",
      "WARNING:absl:Importing a function (__inference_res_net_model_tp_layer_call_and_return_conditional_losses_403206) with ops with custom gradients. Will likely fail if a gradient is requested.\n",
      "WARNING:absl:Importing a function (__inference_res_net_model_tp_layer_call_and_return_conditional_losses_403206) with ops with custom gradients. Will likely fail if a gradient is requested.\n",
      "WARNING:absl:Importing a function (__inference_res_net_model_tp_layer_call_and_return_conditional_losses_403206) with ops with custom gradients. Will likely fail if a gradient is requested.\n",
      "WARNING:absl:Importing a function (__inference_res_net_model_tp_layer_call_and_return_conditional_losses_403206) with ops with custom gradients. Will likely fail if a gradient is requested.\n",
      "WARNING:absl:Importing a function (__inference_res_net_model_tp_layer_call_and_return_conditional_losses_403206) with ops with custom gradients. Will likely fail if a gradient is requested.\n",
      "WARNING:absl:Importing a function (__inference_res_net_model_tp_layer_call_and_return_conditional_losses_403206) with ops with custom gradients. Will likely fail if a gradient is requested.\n",
      "WARNING:absl:Importing a function (__inference_res_net_model_tp_layer_call_and_return_conditional_losses_403206) with ops with custom gradients. Will likely fail if a gradient is requested.\n",
      "WARNING:absl:Importing a function (__inference_res_net_model_tp_layer_call_and_return_conditional_losses_403206) with ops with custom gradients. Will likely fail if a gradient is requested.\n"
     ]
    },
    {
     "name": "stderr",
     "output_type": "stream",
     "text": [
      "WARNING:absl:Importing a function (__inference_res_net_model_tp_layer_call_and_return_conditional_losses_403206) with ops with custom gradients. Will likely fail if a gradient is requested.\n",
      "WARNING:absl:Importing a function (__inference_res_net_model_tp_layer_call_and_return_conditional_losses_403206) with ops with custom gradients. Will likely fail if a gradient is requested.\n",
      "WARNING:absl:Importing a function (__inference_res_net_model_tp_layer_call_and_return_conditional_losses_403206) with ops with custom gradients. Will likely fail if a gradient is requested.\n",
      "WARNING:absl:Importing a function (__inference_res_net_model_tp_layer_call_and_return_conditional_losses_403206) with ops with custom gradients. Will likely fail if a gradient is requested.\n",
      "WARNING:absl:Importing a function (__inference_res_net_model_tp_layer_call_and_return_conditional_losses_403206) with ops with custom gradients. Will likely fail if a gradient is requested.\n",
      "WARNING:absl:Importing a function (__inference_res_net_model_tp_layer_call_and_return_conditional_losses_403206) with ops with custom gradients. Will likely fail if a gradient is requested.\n",
      "WARNING:absl:Importing a function (__inference_res_net_model_tp_layer_call_and_return_conditional_losses_403206) with ops with custom gradients. Will likely fail if a gradient is requested.\n",
      "WARNING:absl:Importing a function (__inference_res_net_model_tp_layer_call_and_return_conditional_losses_403206) with ops with custom gradients. Will likely fail if a gradient is requested.\n",
      "WARNING:absl:Importing a function (__inference_res_net_model_tp_layer_call_and_return_conditional_losses_403206) with ops with custom gradients. Will likely fail if a gradient is requested.\n",
      "WARNING:absl:Importing a function (__inference_res_net_model_tp_layer_call_and_return_conditional_losses_403206) with ops with custom gradients. Will likely fail if a gradient is requested.\n",
      "WARNING:absl:Importing a function (__inference_res_net_model_tp_layer_call_and_return_conditional_losses_403206) with ops with custom gradients. Will likely fail if a gradient is requested.\n",
      "WARNING:absl:Importing a function (__inference_res_net_model_tp_layer_call_and_return_conditional_losses_403206) with ops with custom gradients. Will likely fail if a gradient is requested.\n",
      "WARNING:absl:Importing a function (__inference_res_net_model_tp_layer_call_and_return_conditional_losses_403206) with ops with custom gradients. Will likely fail if a gradient is requested.\n",
      "WARNING:absl:Importing a function (__inference_res_net_model_tp_layer_call_and_return_conditional_losses_403206) with ops with custom gradients. Will likely fail if a gradient is requested.\n",
      "WARNING:absl:Importing a function (__inference_res_net_model_tp_layer_call_and_return_conditional_losses_403206) with ops with custom gradients. Will likely fail if a gradient is requested.\n",
      "WARNING:absl:Importing a function (__inference_res_net_model_tp_layer_call_and_return_conditional_losses_403206) with ops with custom gradients. Will likely fail if a gradient is requested.\n",
      "WARNING:absl:Importing a function (__inference_res_net_model_tp_layer_call_and_return_conditional_losses_409894) with ops with custom gradients. Will likely fail if a gradient is requested.\n",
      "WARNING:absl:Importing a function (__inference_res_net_model_tp_layer_call_and_return_conditional_losses_409894) with ops with custom gradients. Will likely fail if a gradient is requested.\n",
      "WARNING:absl:Importing a function (__inference_res_net_model_tp_layer_call_and_return_conditional_losses_409894) with ops with custom gradients. Will likely fail if a gradient is requested.\n",
      "WARNING:absl:Importing a function (__inference_res_net_model_tp_layer_call_and_return_conditional_losses_409894) with ops with custom gradients. Will likely fail if a gradient is requested.\n",
      "WARNING:absl:Importing a function (__inference_res_net_model_tp_layer_call_and_return_conditional_losses_409894) with ops with custom gradients. Will likely fail if a gradient is requested.\n",
      "WARNING:absl:Importing a function (__inference_res_net_model_tp_layer_call_and_return_conditional_losses_409894) with ops with custom gradients. Will likely fail if a gradient is requested.\n",
      "WARNING:absl:Importing a function (__inference_res_net_model_tp_layer_call_and_return_conditional_losses_409894) with ops with custom gradients. Will likely fail if a gradient is requested.\n",
      "WARNING:absl:Importing a function (__inference_res_net_model_tp_layer_call_and_return_conditional_losses_409894) with ops with custom gradients. Will likely fail if a gradient is requested.\n",
      "WARNING:absl:Importing a function (__inference_res_net_model_tp_layer_call_and_return_conditional_losses_409894) with ops with custom gradients. Will likely fail if a gradient is requested.\n",
      "WARNING:absl:Importing a function (__inference_res_net_model_tp_layer_call_and_return_conditional_losses_409894) with ops with custom gradients. Will likely fail if a gradient is requested.\n",
      "WARNING:absl:Importing a function (__inference_res_net_model_tp_layer_call_and_return_conditional_losses_409894) with ops with custom gradients. Will likely fail if a gradient is requested.\n",
      "WARNING:absl:Importing a function (__inference_res_net_model_tp_layer_call_and_return_conditional_losses_409894) with ops with custom gradients. Will likely fail if a gradient is requested.\n",
      "WARNING:absl:Importing a function (__inference_res_net_model_tp_layer_call_and_return_conditional_losses_409894) with ops with custom gradients. Will likely fail if a gradient is requested.\n",
      "WARNING:absl:Importing a function (__inference_res_net_model_tp_layer_call_and_return_conditional_losses_409894) with ops with custom gradients. Will likely fail if a gradient is requested.\n",
      "WARNING:absl:Importing a function (__inference_res_net_model_tp_layer_call_and_return_conditional_losses_409894) with ops with custom gradients. Will likely fail if a gradient is requested.\n",
      "WARNING:absl:Importing a function (__inference_res_net_model_tp_layer_call_and_return_conditional_losses_409894) with ops with custom gradients. Will likely fail if a gradient is requested.\n",
      "WARNING:absl:Importing a function (__inference_res_net_model_tp_layer_call_and_return_conditional_losses_409894) with ops with custom gradients. Will likely fail if a gradient is requested.\n",
      "WARNING:absl:Importing a function (__inference_res_net_model_tp_layer_call_and_return_conditional_losses_409894) with ops with custom gradients. Will likely fail if a gradient is requested.\n",
      "WARNING:absl:Importing a function (__inference_res_net_model_tp_layer_call_and_return_conditional_losses_409894) with ops with custom gradients. Will likely fail if a gradient is requested.\n",
      "WARNING:absl:Importing a function (__inference_res_net_model_tp_layer_call_and_return_conditional_losses_409894) with ops with custom gradients. Will likely fail if a gradient is requested.\n",
      "WARNING:absl:Importing a function (__inference_res_net_model_tp_layer_call_and_return_conditional_losses_409894) with ops with custom gradients. Will likely fail if a gradient is requested.\n",
      "WARNING:absl:Importing a function (__inference_res_net_model_tp_layer_call_and_return_conditional_losses_409894) with ops with custom gradients. Will likely fail if a gradient is requested.\n",
      "WARNING:absl:Importing a function (__inference_res_net_model_tp_layer_call_and_return_conditional_losses_409894) with ops with custom gradients. Will likely fail if a gradient is requested.\n",
      "WARNING:absl:Importing a function (__inference_res_net_model_tp_layer_call_and_return_conditional_losses_409894) with ops with custom gradients. Will likely fail if a gradient is requested.\n",
      "WARNING:absl:Importing a function (__inference_res_net_model_tp_layer_call_and_return_conditional_losses_409894) with ops with custom gradients. Will likely fail if a gradient is requested.\n",
      "WARNING:absl:Importing a function (__inference_res_net_model_tp_layer_call_and_return_conditional_losses_409894) with ops with custom gradients. Will likely fail if a gradient is requested.\n",
      "WARNING:absl:Importing a function (__inference_res_net_model_tp_layer_call_and_return_conditional_losses_409894) with ops with custom gradients. Will likely fail if a gradient is requested.\n",
      "WARNING:absl:Importing a function (__inference_res_net_model_tp_layer_call_and_return_conditional_losses_409894) with ops with custom gradients. Will likely fail if a gradient is requested.\n"
     ]
    },
    {
     "name": "stderr",
     "output_type": "stream",
     "text": [
      "WARNING:absl:Importing a function (__inference_res_net_model_tp_layer_call_and_return_conditional_losses_409894) with ops with custom gradients. Will likely fail if a gradient is requested.\n",
      "WARNING:absl:Importing a function (__inference_res_net_model_tp_layer_call_and_return_conditional_losses_409894) with ops with custom gradients. Will likely fail if a gradient is requested.\n",
      "WARNING:absl:Importing a function (__inference_res_net_model_tp_layer_call_and_return_conditional_losses_409894) with ops with custom gradients. Will likely fail if a gradient is requested.\n",
      "WARNING:absl:Importing a function (__inference_res_net_model_tp_layer_call_and_return_conditional_losses_409894) with ops with custom gradients. Will likely fail if a gradient is requested.\n",
      "WARNING:absl:Importing a function (__inference_res_net_model_tp_layer_call_and_return_conditional_losses_409894) with ops with custom gradients. Will likely fail if a gradient is requested.\n",
      "WARNING:absl:Importing a function (__inference_res_net_model_tp_layer_call_and_return_conditional_losses_409894) with ops with custom gradients. Will likely fail if a gradient is requested.\n",
      "WARNING:absl:Importing a function (__inference_res_net_model_tp_layer_call_and_return_conditional_losses_409894) with ops with custom gradients. Will likely fail if a gradient is requested.\n",
      "WARNING:absl:Importing a function (__inference_res_net_model_tp_layer_call_and_return_conditional_losses_409894) with ops with custom gradients. Will likely fail if a gradient is requested.\n",
      "WARNING:absl:Importing a function (__inference_res_net_model_tp_layer_call_and_return_conditional_losses_409894) with ops with custom gradients. Will likely fail if a gradient is requested.\n",
      "WARNING:absl:Importing a function (__inference_res_net_model_tp_layer_call_and_return_conditional_losses_409894) with ops with custom gradients. Will likely fail if a gradient is requested.\n",
      "WARNING:absl:Importing a function (__inference_res_net_model_tp_layer_call_and_return_conditional_losses_409894) with ops with custom gradients. Will likely fail if a gradient is requested.\n",
      "WARNING:absl:Importing a function (__inference_res_net_model_tp_layer_call_and_return_conditional_losses_409894) with ops with custom gradients. Will likely fail if a gradient is requested.\n",
      "WARNING:absl:Importing a function (__inference_res_net_model_tp_layer_call_and_return_conditional_losses_409894) with ops with custom gradients. Will likely fail if a gradient is requested.\n",
      "WARNING:absl:Importing a function (__inference_res_net_model_tp_layer_call_and_return_conditional_losses_409894) with ops with custom gradients. Will likely fail if a gradient is requested.\n",
      "WARNING:absl:Importing a function (__inference_res_net_model_tp_layer_call_and_return_conditional_losses_409894) with ops with custom gradients. Will likely fail if a gradient is requested.\n",
      "WARNING:absl:Importing a function (__inference_res_net_model_tp_layer_call_and_return_conditional_losses_409894) with ops with custom gradients. Will likely fail if a gradient is requested.\n",
      "WARNING:absl:Importing a function (__inference_res_net_model_tp_layer_call_and_return_conditional_losses_409894) with ops with custom gradients. Will likely fail if a gradient is requested.\n",
      "WARNING:absl:Importing a function (__inference_res_net_model_tp_layer_call_and_return_conditional_losses_409894) with ops with custom gradients. Will likely fail if a gradient is requested.\n",
      "WARNING:absl:Importing a function (__inference_res_net_model_tp_layer_call_and_return_conditional_losses_409894) with ops with custom gradients. Will likely fail if a gradient is requested.\n",
      "WARNING:absl:Importing a function (__inference_res_net_model_tp_layer_call_and_return_conditional_losses_409894) with ops with custom gradients. Will likely fail if a gradient is requested.\n",
      "WARNING:absl:Importing a function (__inference_res_net_model_tp_layer_call_and_return_conditional_losses_409894) with ops with custom gradients. Will likely fail if a gradient is requested.\n",
      "WARNING:absl:Importing a function (__inference_res_net_model_tp_layer_call_and_return_conditional_losses_409894) with ops with custom gradients. Will likely fail if a gradient is requested.\n",
      "WARNING:absl:Importing a function (__inference_res_net_model_tp_layer_call_and_return_conditional_losses_409894) with ops with custom gradients. Will likely fail if a gradient is requested.\n",
      "WARNING:absl:Importing a function (__inference_res_net_model_tp_layer_call_and_return_conditional_losses_409894) with ops with custom gradients. Will likely fail if a gradient is requested.\n",
      "WARNING:absl:Importing a function (__inference_res_net_model_tp_layer_call_and_return_conditional_losses_409894) with ops with custom gradients. Will likely fail if a gradient is requested.\n",
      "WARNING:absl:Importing a function (__inference_res_net_model_tp_layer_call_and_return_conditional_losses_409894) with ops with custom gradients. Will likely fail if a gradient is requested.\n",
      "WARNING:absl:Importing a function (__inference_res_net_model_tp_layer_call_and_return_conditional_losses_409894) with ops with custom gradients. Will likely fail if a gradient is requested.\n",
      "WARNING:absl:Importing a function (__inference_res_net_model_tp_layer_call_and_return_conditional_losses_409894) with ops with custom gradients. Will likely fail if a gradient is requested.\n",
      "WARNING:absl:Importing a function (__inference_res_net_model_tp_layer_call_and_return_conditional_losses_409894) with ops with custom gradients. Will likely fail if a gradient is requested.\n",
      "WARNING:absl:Importing a function (__inference_res_net_model_tp_layer_call_and_return_conditional_losses_409894) with ops with custom gradients. Will likely fail if a gradient is requested.\n",
      "WARNING:absl:Importing a function (__inference_res_net_model_tp_layer_call_and_return_conditional_losses_409894) with ops with custom gradients. Will likely fail if a gradient is requested.\n",
      "WARNING:absl:Importing a function (__inference_res_net_model_tp_layer_call_and_return_conditional_losses_409894) with ops with custom gradients. Will likely fail if a gradient is requested.\n",
      "WARNING:absl:Importing a function (__inference_res_net_model_tp_layer_call_and_return_conditional_losses_409894) with ops with custom gradients. Will likely fail if a gradient is requested.\n",
      "WARNING:absl:Importing a function (__inference_res_net_model_tp_layer_call_and_return_conditional_losses_409894) with ops with custom gradients. Will likely fail if a gradient is requested.\n",
      "WARNING:absl:Importing a function (__inference_res_net_model_tp_layer_call_and_return_conditional_losses_409894) with ops with custom gradients. Will likely fail if a gradient is requested.\n",
      "WARNING:absl:Importing a function (__inference_res_net_model_tp_layer_call_and_return_conditional_losses_409894) with ops with custom gradients. Will likely fail if a gradient is requested.\n",
      "WARNING:absl:Importing a function (__inference_res_net_model_tp_layer_call_and_return_conditional_losses_409894) with ops with custom gradients. Will likely fail if a gradient is requested.\n",
      "WARNING:absl:Importing a function (__inference_res_net_model_tp_layer_call_and_return_conditional_losses_409894) with ops with custom gradients. Will likely fail if a gradient is requested.\n",
      "WARNING:absl:Importing a function (__inference_res_net_model_tp_layer_call_and_return_conditional_losses_409894) with ops with custom gradients. Will likely fail if a gradient is requested.\n",
      "WARNING:absl:Importing a function (__inference_res_net_model_tp_layer_call_and_return_conditional_losses_409894) with ops with custom gradients. Will likely fail if a gradient is requested.\n",
      "WARNING:absl:Importing a function (__inference_res_net_model_tp_layer_call_and_return_conditional_losses_409894) with ops with custom gradients. Will likely fail if a gradient is requested.\n",
      "WARNING:absl:Importing a function (__inference_res_net_model_tp_layer_call_and_return_conditional_losses_409894) with ops with custom gradients. Will likely fail if a gradient is requested.\n",
      "WARNING:absl:Importing a function (__inference_res_net_model_tp_layer_call_and_return_conditional_losses_409894) with ops with custom gradients. Will likely fail if a gradient is requested.\n",
      "WARNING:absl:Importing a function (__inference_res_net_model_tp_layer_call_and_return_conditional_losses_409894) with ops with custom gradients. Will likely fail if a gradient is requested.\n"
     ]
    },
    {
     "name": "stderr",
     "output_type": "stream",
     "text": [
      "WARNING:absl:Importing a function (__inference_res_net_model_tp_layer_call_and_return_conditional_losses_409894) with ops with custom gradients. Will likely fail if a gradient is requested.\n",
      "WARNING:absl:Importing a function (__inference_res_net_model_tp_layer_call_and_return_conditional_losses_409894) with ops with custom gradients. Will likely fail if a gradient is requested.\n",
      "WARNING:absl:Importing a function (__inference_res_net_model_tp_layer_call_and_return_conditional_losses_409894) with ops with custom gradients. Will likely fail if a gradient is requested.\n",
      "WARNING:absl:Importing a function (__inference_res_net_model_tp_layer_call_and_return_conditional_losses_409894) with ops with custom gradients. Will likely fail if a gradient is requested.\n",
      "WARNING:absl:Importing a function (__inference_res_net_model_tp_layer_call_and_return_conditional_losses_409894) with ops with custom gradients. Will likely fail if a gradient is requested.\n",
      "WARNING:absl:Importing a function (__inference_res_net_model_tp_layer_call_and_return_conditional_losses_409894) with ops with custom gradients. Will likely fail if a gradient is requested.\n",
      "WARNING:absl:Importing a function (__inference_res_net_model_tp_layer_call_and_return_conditional_losses_409894) with ops with custom gradients. Will likely fail if a gradient is requested.\n",
      "WARNING:absl:Importing a function (__inference_res_net_model_tp_layer_call_and_return_conditional_losses_409894) with ops with custom gradients. Will likely fail if a gradient is requested.\n",
      "WARNING:absl:Importing a function (__inference_res_net_model_tp_layer_call_and_return_conditional_losses_409894) with ops with custom gradients. Will likely fail if a gradient is requested.\n",
      "WARNING:absl:Importing a function (__inference_res_net_model_tp_layer_call_and_return_conditional_losses_409894) with ops with custom gradients. Will likely fail if a gradient is requested.\n",
      "WARNING:absl:Importing a function (__inference_res_net_model_tp_layer_call_and_return_conditional_losses_409894) with ops with custom gradients. Will likely fail if a gradient is requested.\n",
      "WARNING:absl:Importing a function (__inference_res_net_model_tp_layer_call_and_return_conditional_losses_409894) with ops with custom gradients. Will likely fail if a gradient is requested.\n",
      "WARNING:absl:Importing a function (__inference_res_net_model_tp_layer_call_and_return_conditional_losses_409894) with ops with custom gradients. Will likely fail if a gradient is requested.\n",
      "WARNING:absl:Importing a function (__inference_res_net_model_tp_layer_call_and_return_conditional_losses_409894) with ops with custom gradients. Will likely fail if a gradient is requested.\n",
      "WARNING:absl:Importing a function (__inference_res_net_model_tp_layer_call_and_return_conditional_losses_409894) with ops with custom gradients. Will likely fail if a gradient is requested.\n",
      "WARNING:absl:Importing a function (__inference_res_net_model_tp_layer_call_and_return_conditional_losses_409894) with ops with custom gradients. Will likely fail if a gradient is requested.\n",
      "WARNING:absl:Importing a function (__inference_res_net_model_tp_layer_call_and_return_conditional_losses_409894) with ops with custom gradients. Will likely fail if a gradient is requested.\n",
      "WARNING:absl:Importing a function (__inference_res_net_model_tp_layer_call_and_return_conditional_losses_409894) with ops with custom gradients. Will likely fail if a gradient is requested.\n",
      "WARNING:absl:Importing a function (__inference_res_net_model_tp_layer_call_and_return_conditional_losses_409894) with ops with custom gradients. Will likely fail if a gradient is requested.\n",
      "WARNING:absl:Importing a function (__inference_res_net_model_tp_layer_call_and_return_conditional_losses_409894) with ops with custom gradients. Will likely fail if a gradient is requested.\n",
      "WARNING:absl:Importing a function (__inference_res_net_model_tp_layer_call_and_return_conditional_losses_409894) with ops with custom gradients. Will likely fail if a gradient is requested.\n",
      "WARNING:absl:Importing a function (__inference_res_net_model_tp_layer_call_and_return_conditional_losses_409894) with ops with custom gradients. Will likely fail if a gradient is requested.\n",
      "WARNING:absl:Importing a function (__inference_res_net_model_tp_layer_call_and_return_conditional_losses_409894) with ops with custom gradients. Will likely fail if a gradient is requested.\n",
      "WARNING:absl:Importing a function (__inference_res_net_model_tp_layer_call_and_return_conditional_losses_409894) with ops with custom gradients. Will likely fail if a gradient is requested.\n",
      "WARNING:absl:Importing a function (__inference_res_net_model_tp_layer_call_and_return_conditional_losses_409894) with ops with custom gradients. Will likely fail if a gradient is requested.\n",
      "WARNING:absl:Importing a function (__inference_res_net_model_tp_layer_call_and_return_conditional_losses_409894) with ops with custom gradients. Will likely fail if a gradient is requested.\n",
      "WARNING:absl:Importing a function (__inference_res_net_model_tp_layer_call_and_return_conditional_losses_409894) with ops with custom gradients. Will likely fail if a gradient is requested.\n",
      "WARNING:absl:Importing a function (__inference_res_net_model_tp_layer_call_and_return_conditional_losses_409894) with ops with custom gradients. Will likely fail if a gradient is requested.\n",
      "WARNING:absl:Importing a function (__inference_res_net_model_tp_layer_call_and_return_conditional_losses_409894) with ops with custom gradients. Will likely fail if a gradient is requested.\n",
      "WARNING:absl:Importing a function (__inference_res_net_model_tp_layer_call_and_return_conditional_losses_409894) with ops with custom gradients. Will likely fail if a gradient is requested.\n",
      "WARNING:absl:Importing a function (__inference_res_net_1_layer_call_and_return_conditional_losses_385913) with ops with custom gradients. Will likely fail if a gradient is requested.\n",
      "WARNING:absl:Importing a function (__inference_res_net_1_layer_call_and_return_conditional_losses_385913) with ops with custom gradients. Will likely fail if a gradient is requested.\n",
      "WARNING:absl:Importing a function (__inference_res_net_1_layer_call_and_return_conditional_losses_385913) with ops with custom gradients. Will likely fail if a gradient is requested.\n",
      "WARNING:absl:Importing a function (__inference_res_net_1_layer_call_and_return_conditional_losses_385913) with ops with custom gradients. Will likely fail if a gradient is requested.\n",
      "WARNING:absl:Importing a function (__inference_res_net_1_layer_call_and_return_conditional_losses_385913) with ops with custom gradients. Will likely fail if a gradient is requested.\n",
      "WARNING:absl:Importing a function (__inference_res_net_1_layer_call_and_return_conditional_losses_385913) with ops with custom gradients. Will likely fail if a gradient is requested.\n",
      "WARNING:absl:Importing a function (__inference_res_net_1_layer_call_and_return_conditional_losses_385913) with ops with custom gradients. Will likely fail if a gradient is requested.\n",
      "WARNING:absl:Importing a function (__inference_res_net_1_layer_call_and_return_conditional_losses_385913) with ops with custom gradients. Will likely fail if a gradient is requested.\n",
      "WARNING:absl:Importing a function (__inference_res_net_1_layer_call_and_return_conditional_losses_385913) with ops with custom gradients. Will likely fail if a gradient is requested.\n",
      "WARNING:absl:Importing a function (__inference_res_net_1_layer_call_and_return_conditional_losses_385913) with ops with custom gradients. Will likely fail if a gradient is requested.\n",
      "WARNING:absl:Importing a function (__inference_res_net_1_layer_call_and_return_conditional_losses_385913) with ops with custom gradients. Will likely fail if a gradient is requested.\n",
      "WARNING:absl:Importing a function (__inference_res_net_1_layer_call_and_return_conditional_losses_385913) with ops with custom gradients. Will likely fail if a gradient is requested.\n",
      "WARNING:absl:Importing a function (__inference_res_net_1_layer_call_and_return_conditional_losses_385913) with ops with custom gradients. Will likely fail if a gradient is requested.\n",
      "WARNING:absl:Importing a function (__inference_res_net_1_layer_call_and_return_conditional_losses_385913) with ops with custom gradients. Will likely fail if a gradient is requested.\n"
     ]
    },
    {
     "name": "stderr",
     "output_type": "stream",
     "text": [
      "WARNING:absl:Importing a function (__inference_res_net_1_layer_call_and_return_conditional_losses_385913) with ops with custom gradients. Will likely fail if a gradient is requested.\n",
      "WARNING:absl:Importing a function (__inference_res_net_1_layer_call_and_return_conditional_losses_385913) with ops with custom gradients. Will likely fail if a gradient is requested.\n",
      "WARNING:absl:Importing a function (__inference_res_net_1_layer_call_and_return_conditional_losses_385913) with ops with custom gradients. Will likely fail if a gradient is requested.\n",
      "WARNING:absl:Importing a function (__inference_res_net_1_layer_call_and_return_conditional_losses_385913) with ops with custom gradients. Will likely fail if a gradient is requested.\n",
      "WARNING:absl:Importing a function (__inference_res_net_1_layer_call_and_return_conditional_losses_385913) with ops with custom gradients. Will likely fail if a gradient is requested.\n",
      "WARNING:absl:Importing a function (__inference_res_net_1_layer_call_and_return_conditional_losses_385913) with ops with custom gradients. Will likely fail if a gradient is requested.\n",
      "WARNING:absl:Importing a function (__inference_res_net_1_layer_call_and_return_conditional_losses_385913) with ops with custom gradients. Will likely fail if a gradient is requested.\n",
      "WARNING:absl:Importing a function (__inference_res_net_1_layer_call_and_return_conditional_losses_385913) with ops with custom gradients. Will likely fail if a gradient is requested.\n",
      "WARNING:absl:Importing a function (__inference_res_net_1_layer_call_and_return_conditional_losses_385913) with ops with custom gradients. Will likely fail if a gradient is requested.\n",
      "WARNING:absl:Importing a function (__inference_res_net_1_layer_call_and_return_conditional_losses_385913) with ops with custom gradients. Will likely fail if a gradient is requested.\n",
      "WARNING:absl:Importing a function (__inference_res_net_1_layer_call_and_return_conditional_losses_385913) with ops with custom gradients. Will likely fail if a gradient is requested.\n",
      "WARNING:absl:Importing a function (__inference_res_net_1_layer_call_and_return_conditional_losses_385913) with ops with custom gradients. Will likely fail if a gradient is requested.\n",
      "WARNING:absl:Importing a function (__inference_res_net_1_layer_call_and_return_conditional_losses_385913) with ops with custom gradients. Will likely fail if a gradient is requested.\n",
      "WARNING:absl:Importing a function (__inference_res_net_1_layer_call_and_return_conditional_losses_385913) with ops with custom gradients. Will likely fail if a gradient is requested.\n",
      "WARNING:absl:Importing a function (__inference_res_net_1_layer_call_and_return_conditional_losses_385913) with ops with custom gradients. Will likely fail if a gradient is requested.\n",
      "WARNING:absl:Importing a function (__inference_res_net_1_layer_call_and_return_conditional_losses_385913) with ops with custom gradients. Will likely fail if a gradient is requested.\n",
      "WARNING:absl:Importing a function (__inference_res_net_1_layer_call_and_return_conditional_losses_385913) with ops with custom gradients. Will likely fail if a gradient is requested.\n",
      "WARNING:absl:Importing a function (__inference_res_net_1_layer_call_and_return_conditional_losses_385913) with ops with custom gradients. Will likely fail if a gradient is requested.\n",
      "WARNING:absl:Importing a function (__inference_res_net_1_layer_call_and_return_conditional_losses_385913) with ops with custom gradients. Will likely fail if a gradient is requested.\n",
      "WARNING:absl:Importing a function (__inference_res_net_1_layer_call_and_return_conditional_losses_385913) with ops with custom gradients. Will likely fail if a gradient is requested.\n",
      "WARNING:absl:Importing a function (__inference_res_net_1_layer_call_and_return_conditional_losses_385913) with ops with custom gradients. Will likely fail if a gradient is requested.\n",
      "WARNING:absl:Importing a function (__inference_res_net_1_layer_call_and_return_conditional_losses_385913) with ops with custom gradients. Will likely fail if a gradient is requested.\n",
      "WARNING:absl:Importing a function (__inference_res_net_1_layer_call_and_return_conditional_losses_385913) with ops with custom gradients. Will likely fail if a gradient is requested.\n",
      "WARNING:absl:Importing a function (__inference_res_net_1_layer_call_and_return_conditional_losses_385913) with ops with custom gradients. Will likely fail if a gradient is requested.\n",
      "WARNING:absl:Importing a function (__inference_res_net_1_layer_call_and_return_conditional_losses_385913) with ops with custom gradients. Will likely fail if a gradient is requested.\n",
      "WARNING:absl:Importing a function (__inference_res_net_1_layer_call_and_return_conditional_losses_385913) with ops with custom gradients. Will likely fail if a gradient is requested.\n",
      "WARNING:absl:Importing a function (__inference_res_net_1_layer_call_and_return_conditional_losses_385913) with ops with custom gradients. Will likely fail if a gradient is requested.\n",
      "WARNING:absl:Importing a function (__inference_res_net_1_layer_call_and_return_conditional_losses_385913) with ops with custom gradients. Will likely fail if a gradient is requested.\n",
      "WARNING:absl:Importing a function (__inference_res_net_1_layer_call_and_return_conditional_losses_385913) with ops with custom gradients. Will likely fail if a gradient is requested.\n",
      "WARNING:absl:Importing a function (__inference_res_net_1_layer_call_and_return_conditional_losses_385913) with ops with custom gradients. Will likely fail if a gradient is requested.\n",
      "WARNING:absl:Importing a function (__inference_res_net_1_layer_call_and_return_conditional_losses_385913) with ops with custom gradients. Will likely fail if a gradient is requested.\n",
      "WARNING:absl:Importing a function (__inference_res_net_1_layer_call_and_return_conditional_losses_385913) with ops with custom gradients. Will likely fail if a gradient is requested.\n",
      "WARNING:absl:Importing a function (__inference_res_net_1_layer_call_and_return_conditional_losses_385913) with ops with custom gradients. Will likely fail if a gradient is requested.\n",
      "WARNING:absl:Importing a function (__inference_res_net_1_layer_call_and_return_conditional_losses_385913) with ops with custom gradients. Will likely fail if a gradient is requested.\n",
      "WARNING:absl:Importing a function (__inference_res_net_1_layer_call_and_return_conditional_losses_385913) with ops with custom gradients. Will likely fail if a gradient is requested.\n",
      "WARNING:absl:Importing a function (__inference_res_net_layer_call_and_return_conditional_losses_380818) with ops with custom gradients. Will likely fail if a gradient is requested.\n",
      "WARNING:absl:Importing a function (__inference_res_net_layer_call_and_return_conditional_losses_380818) with ops with custom gradients. Will likely fail if a gradient is requested.\n",
      "WARNING:absl:Importing a function (__inference_res_net_layer_call_and_return_conditional_losses_380818) with ops with custom gradients. Will likely fail if a gradient is requested.\n",
      "WARNING:absl:Importing a function (__inference_res_net_layer_call_and_return_conditional_losses_380818) with ops with custom gradients. Will likely fail if a gradient is requested.\n",
      "WARNING:absl:Importing a function (__inference_res_net_layer_call_and_return_conditional_losses_380818) with ops with custom gradients. Will likely fail if a gradient is requested.\n",
      "WARNING:absl:Importing a function (__inference_res_net_layer_call_and_return_conditional_losses_380818) with ops with custom gradients. Will likely fail if a gradient is requested.\n",
      "WARNING:absl:Importing a function (__inference_res_net_layer_call_and_return_conditional_losses_380818) with ops with custom gradients. Will likely fail if a gradient is requested.\n",
      "WARNING:absl:Importing a function (__inference_res_net_layer_call_and_return_conditional_losses_380818) with ops with custom gradients. Will likely fail if a gradient is requested.\n",
      "WARNING:absl:Importing a function (__inference_res_net_layer_call_and_return_conditional_losses_380818) with ops with custom gradients. Will likely fail if a gradient is requested.\n",
      "WARNING:absl:Importing a function (__inference_res_net_layer_call_and_return_conditional_losses_380818) with ops with custom gradients. Will likely fail if a gradient is requested.\n"
     ]
    },
    {
     "name": "stderr",
     "output_type": "stream",
     "text": [
      "WARNING:absl:Importing a function (__inference_res_net_layer_call_and_return_conditional_losses_380818) with ops with custom gradients. Will likely fail if a gradient is requested.\n",
      "WARNING:absl:Importing a function (__inference_res_net_layer_call_and_return_conditional_losses_380818) with ops with custom gradients. Will likely fail if a gradient is requested.\n",
      "WARNING:absl:Importing a function (__inference_res_net_layer_call_and_return_conditional_losses_380818) with ops with custom gradients. Will likely fail if a gradient is requested.\n",
      "WARNING:absl:Importing a function (__inference_res_net_layer_call_and_return_conditional_losses_380818) with ops with custom gradients. Will likely fail if a gradient is requested.\n",
      "WARNING:absl:Importing a function (__inference_res_net_layer_call_and_return_conditional_losses_380818) with ops with custom gradients. Will likely fail if a gradient is requested.\n",
      "WARNING:absl:Importing a function (__inference_res_net_layer_call_and_return_conditional_losses_380818) with ops with custom gradients. Will likely fail if a gradient is requested.\n",
      "WARNING:absl:Importing a function (__inference_res_net_layer_call_and_return_conditional_losses_380818) with ops with custom gradients. Will likely fail if a gradient is requested.\n",
      "WARNING:absl:Importing a function (__inference_res_net_layer_call_and_return_conditional_losses_380818) with ops with custom gradients. Will likely fail if a gradient is requested.\n",
      "WARNING:absl:Importing a function (__inference_res_net_layer_call_and_return_conditional_losses_380818) with ops with custom gradients. Will likely fail if a gradient is requested.\n",
      "WARNING:absl:Importing a function (__inference_res_net_layer_call_and_return_conditional_losses_380818) with ops with custom gradients. Will likely fail if a gradient is requested.\n",
      "WARNING:absl:Importing a function (__inference_res_net_layer_call_and_return_conditional_losses_380818) with ops with custom gradients. Will likely fail if a gradient is requested.\n",
      "WARNING:absl:Importing a function (__inference_res_net_layer_call_and_return_conditional_losses_380818) with ops with custom gradients. Will likely fail if a gradient is requested.\n",
      "WARNING:absl:Importing a function (__inference_res_net_layer_call_and_return_conditional_losses_380818) with ops with custom gradients. Will likely fail if a gradient is requested.\n",
      "WARNING:absl:Importing a function (__inference_res_net_layer_call_and_return_conditional_losses_380818) with ops with custom gradients. Will likely fail if a gradient is requested.\n",
      "WARNING:absl:Importing a function (__inference_res_net_layer_call_and_return_conditional_losses_380818) with ops with custom gradients. Will likely fail if a gradient is requested.\n",
      "WARNING:absl:Importing a function (__inference_res_net_layer_call_and_return_conditional_losses_380818) with ops with custom gradients. Will likely fail if a gradient is requested.\n",
      "WARNING:absl:Importing a function (__inference_res_net_layer_call_and_return_conditional_losses_380818) with ops with custom gradients. Will likely fail if a gradient is requested.\n",
      "WARNING:absl:Importing a function (__inference_res_net_layer_call_and_return_conditional_losses_380818) with ops with custom gradients. Will likely fail if a gradient is requested.\n",
      "WARNING:absl:Importing a function (__inference_res_net_layer_call_and_return_conditional_losses_380818) with ops with custom gradients. Will likely fail if a gradient is requested.\n",
      "WARNING:absl:Importing a function (__inference_res_net_layer_call_and_return_conditional_losses_380818) with ops with custom gradients. Will likely fail if a gradient is requested.\n",
      "WARNING:absl:Importing a function (__inference_res_net_layer_call_and_return_conditional_losses_380818) with ops with custom gradients. Will likely fail if a gradient is requested.\n",
      "WARNING:absl:Importing a function (__inference_res_net_layer_call_and_return_conditional_losses_380818) with ops with custom gradients. Will likely fail if a gradient is requested.\n",
      "WARNING:absl:Importing a function (__inference_res_net_layer_call_and_return_conditional_losses_380818) with ops with custom gradients. Will likely fail if a gradient is requested.\n",
      "WARNING:absl:Importing a function (__inference_res_net_layer_call_and_return_conditional_losses_380818) with ops with custom gradients. Will likely fail if a gradient is requested.\n",
      "WARNING:absl:Importing a function (__inference_res_net_layer_call_and_return_conditional_losses_380818) with ops with custom gradients. Will likely fail if a gradient is requested.\n",
      "WARNING:absl:Importing a function (__inference_res_net_layer_call_and_return_conditional_losses_380818) with ops with custom gradients. Will likely fail if a gradient is requested.\n",
      "WARNING:absl:Importing a function (__inference_res_net_layer_call_and_return_conditional_losses_380818) with ops with custom gradients. Will likely fail if a gradient is requested.\n",
      "WARNING:absl:Importing a function (__inference_res_net_layer_call_and_return_conditional_losses_380818) with ops with custom gradients. Will likely fail if a gradient is requested.\n",
      "WARNING:absl:Importing a function (__inference_res_net_layer_call_and_return_conditional_losses_380818) with ops with custom gradients. Will likely fail if a gradient is requested.\n",
      "WARNING:absl:Importing a function (__inference_res_net_layer_call_and_return_conditional_losses_380818) with ops with custom gradients. Will likely fail if a gradient is requested.\n",
      "WARNING:absl:Importing a function (__inference_res_net_layer_call_and_return_conditional_losses_380818) with ops with custom gradients. Will likely fail if a gradient is requested.\n",
      "WARNING:absl:Importing a function (__inference_res_net_layer_call_and_return_conditional_losses_380818) with ops with custom gradients. Will likely fail if a gradient is requested.\n",
      "WARNING:absl:Importing a function (__inference_res_net_layer_call_and_return_conditional_losses_380818) with ops with custom gradients. Will likely fail if a gradient is requested.\n",
      "WARNING:absl:Importing a function (__inference_res_net_layer_call_and_return_conditional_losses_380818) with ops with custom gradients. Will likely fail if a gradient is requested.\n",
      "WARNING:absl:Importing a function (__inference_res_net_layer_call_and_return_conditional_losses_380818) with ops with custom gradients. Will likely fail if a gradient is requested.\n",
      "WARNING:absl:Importing a function (__inference_res_net_layer_call_and_return_conditional_losses_380818) with ops with custom gradients. Will likely fail if a gradient is requested.\n",
      "WARNING:absl:Importing a function (__inference_res_net_layer_call_and_return_conditional_losses_380818) with ops with custom gradients. Will likely fail if a gradient is requested.\n",
      "WARNING:absl:Importing a function (__inference_res_net_layer_call_and_return_conditional_losses_380818) with ops with custom gradients. Will likely fail if a gradient is requested.\n",
      "WARNING:absl:Importing a function (__inference_res_net_layer_call_and_return_conditional_losses_380818) with ops with custom gradients. Will likely fail if a gradient is requested.\n",
      "WARNING:absl:Importing a function (__inference_dense_bn_layer_call_and_return_conditional_losses_389095) with ops with custom gradients. Will likely fail if a gradient is requested.\n",
      "WARNING:absl:Importing a function (__inference_res_net_1_layer_call_and_return_conditional_losses_421558) with ops with custom gradients. Will likely fail if a gradient is requested.\n",
      "WARNING:absl:Importing a function (__inference_res_net_1_layer_call_and_return_conditional_losses_421558) with ops with custom gradients. Will likely fail if a gradient is requested.\n",
      "WARNING:absl:Importing a function (__inference_res_net_1_layer_call_and_return_conditional_losses_421558) with ops with custom gradients. Will likely fail if a gradient is requested.\n",
      "WARNING:absl:Importing a function (__inference_res_net_1_layer_call_and_return_conditional_losses_421558) with ops with custom gradients. Will likely fail if a gradient is requested.\n",
      "WARNING:absl:Importing a function (__inference_res_net_1_layer_call_and_return_conditional_losses_421558) with ops with custom gradients. Will likely fail if a gradient is requested.\n",
      "WARNING:absl:Importing a function (__inference_res_net_1_layer_call_and_return_conditional_losses_421558) with ops with custom gradients. Will likely fail if a gradient is requested.\n"
     ]
    },
    {
     "name": "stderr",
     "output_type": "stream",
     "text": [
      "WARNING:absl:Importing a function (__inference_res_net_1_layer_call_and_return_conditional_losses_421558) with ops with custom gradients. Will likely fail if a gradient is requested.\n",
      "WARNING:absl:Importing a function (__inference_res_net_1_layer_call_and_return_conditional_losses_421558) with ops with custom gradients. Will likely fail if a gradient is requested.\n",
      "WARNING:absl:Importing a function (__inference_res_net_1_layer_call_and_return_conditional_losses_421558) with ops with custom gradients. Will likely fail if a gradient is requested.\n",
      "WARNING:absl:Importing a function (__inference_res_net_1_layer_call_and_return_conditional_losses_421558) with ops with custom gradients. Will likely fail if a gradient is requested.\n",
      "WARNING:absl:Importing a function (__inference_res_net_1_layer_call_and_return_conditional_losses_421558) with ops with custom gradients. Will likely fail if a gradient is requested.\n",
      "WARNING:absl:Importing a function (__inference_res_net_1_layer_call_and_return_conditional_losses_421558) with ops with custom gradients. Will likely fail if a gradient is requested.\n",
      "WARNING:absl:Importing a function (__inference_res_net_1_layer_call_and_return_conditional_losses_421558) with ops with custom gradients. Will likely fail if a gradient is requested.\n",
      "WARNING:absl:Importing a function (__inference_res_net_1_layer_call_and_return_conditional_losses_421558) with ops with custom gradients. Will likely fail if a gradient is requested.\n",
      "WARNING:absl:Importing a function (__inference_res_net_1_layer_call_and_return_conditional_losses_421558) with ops with custom gradients. Will likely fail if a gradient is requested.\n",
      "WARNING:absl:Importing a function (__inference_res_net_1_layer_call_and_return_conditional_losses_421558) with ops with custom gradients. Will likely fail if a gradient is requested.\n",
      "WARNING:absl:Importing a function (__inference_res_net_1_layer_call_and_return_conditional_losses_421558) with ops with custom gradients. Will likely fail if a gradient is requested.\n",
      "WARNING:absl:Importing a function (__inference_res_net_1_layer_call_and_return_conditional_losses_421558) with ops with custom gradients. Will likely fail if a gradient is requested.\n",
      "WARNING:absl:Importing a function (__inference_res_net_1_layer_call_and_return_conditional_losses_421558) with ops with custom gradients. Will likely fail if a gradient is requested.\n",
      "WARNING:absl:Importing a function (__inference_res_net_1_layer_call_and_return_conditional_losses_421558) with ops with custom gradients. Will likely fail if a gradient is requested.\n",
      "WARNING:absl:Importing a function (__inference_res_net_1_layer_call_and_return_conditional_losses_421558) with ops with custom gradients. Will likely fail if a gradient is requested.\n",
      "WARNING:absl:Importing a function (__inference_res_net_1_layer_call_and_return_conditional_losses_421558) with ops with custom gradients. Will likely fail if a gradient is requested.\n",
      "WARNING:absl:Importing a function (__inference_res_net_1_layer_call_and_return_conditional_losses_421558) with ops with custom gradients. Will likely fail if a gradient is requested.\n",
      "WARNING:absl:Importing a function (__inference_res_net_1_layer_call_and_return_conditional_losses_421558) with ops with custom gradients. Will likely fail if a gradient is requested.\n",
      "WARNING:absl:Importing a function (__inference_res_net_1_layer_call_and_return_conditional_losses_421558) with ops with custom gradients. Will likely fail if a gradient is requested.\n",
      "WARNING:absl:Importing a function (__inference_res_net_1_layer_call_and_return_conditional_losses_421558) with ops with custom gradients. Will likely fail if a gradient is requested.\n",
      "WARNING:absl:Importing a function (__inference_res_net_1_layer_call_and_return_conditional_losses_421558) with ops with custom gradients. Will likely fail if a gradient is requested.\n",
      "WARNING:absl:Importing a function (__inference_res_net_1_layer_call_and_return_conditional_losses_421558) with ops with custom gradients. Will likely fail if a gradient is requested.\n",
      "WARNING:absl:Importing a function (__inference_res_net_1_layer_call_and_return_conditional_losses_421558) with ops with custom gradients. Will likely fail if a gradient is requested.\n",
      "WARNING:absl:Importing a function (__inference_res_net_1_layer_call_and_return_conditional_losses_421558) with ops with custom gradients. Will likely fail if a gradient is requested.\n",
      "WARNING:absl:Importing a function (__inference_res_net_1_layer_call_and_return_conditional_losses_421558) with ops with custom gradients. Will likely fail if a gradient is requested.\n",
      "WARNING:absl:Importing a function (__inference_res_net_1_layer_call_and_return_conditional_losses_421558) with ops with custom gradients. Will likely fail if a gradient is requested.\n",
      "WARNING:absl:Importing a function (__inference_res_net_1_layer_call_and_return_conditional_losses_421558) with ops with custom gradients. Will likely fail if a gradient is requested.\n",
      "WARNING:absl:Importing a function (__inference_res_net_1_layer_call_and_return_conditional_losses_421558) with ops with custom gradients. Will likely fail if a gradient is requested.\n",
      "WARNING:absl:Importing a function (__inference_res_net_1_layer_call_and_return_conditional_losses_421558) with ops with custom gradients. Will likely fail if a gradient is requested.\n",
      "WARNING:absl:Importing a function (__inference_res_net_1_layer_call_and_return_conditional_losses_421558) with ops with custom gradients. Will likely fail if a gradient is requested.\n",
      "WARNING:absl:Importing a function (__inference_res_net_1_layer_call_and_return_conditional_losses_421558) with ops with custom gradients. Will likely fail if a gradient is requested.\n",
      "WARNING:absl:Importing a function (__inference_res_net_1_layer_call_and_return_conditional_losses_421558) with ops with custom gradients. Will likely fail if a gradient is requested.\n",
      "WARNING:absl:Importing a function (__inference_res_net_1_layer_call_and_return_conditional_losses_421558) with ops with custom gradients. Will likely fail if a gradient is requested.\n",
      "WARNING:absl:Importing a function (__inference_res_net_1_layer_call_and_return_conditional_losses_421558) with ops with custom gradients. Will likely fail if a gradient is requested.\n",
      "WARNING:absl:Importing a function (__inference_res_net_1_layer_call_and_return_conditional_losses_421558) with ops with custom gradients. Will likely fail if a gradient is requested.\n",
      "WARNING:absl:Importing a function (__inference_res_net_1_layer_call_and_return_conditional_losses_421558) with ops with custom gradients. Will likely fail if a gradient is requested.\n",
      "WARNING:absl:Importing a function (__inference_res_net_1_layer_call_and_return_conditional_losses_421558) with ops with custom gradients. Will likely fail if a gradient is requested.\n",
      "WARNING:absl:Importing a function (__inference_res_net_1_layer_call_and_return_conditional_losses_421558) with ops with custom gradients. Will likely fail if a gradient is requested.\n",
      "WARNING:absl:Importing a function (__inference_res_net_1_layer_call_and_return_conditional_losses_421558) with ops with custom gradients. Will likely fail if a gradient is requested.\n",
      "WARNING:absl:Importing a function (__inference_res_net_1_layer_call_and_return_conditional_losses_421558) with ops with custom gradients. Will likely fail if a gradient is requested.\n",
      "WARNING:absl:Importing a function (__inference_res_net_1_layer_call_and_return_conditional_losses_421558) with ops with custom gradients. Will likely fail if a gradient is requested.\n",
      "WARNING:absl:Importing a function (__inference_res_net_1_layer_call_and_return_conditional_losses_421558) with ops with custom gradients. Will likely fail if a gradient is requested.\n",
      "WARNING:absl:Importing a function (__inference_res_net_1_layer_call_and_return_conditional_losses_421558) with ops with custom gradients. Will likely fail if a gradient is requested.\n",
      "WARNING:absl:Importing a function (__inference_res_net_1_layer_call_and_return_conditional_losses_422880) with ops with custom gradients. Will likely fail if a gradient is requested.\n",
      "WARNING:absl:Importing a function (__inference_res_net_1_layer_call_and_return_conditional_losses_422880) with ops with custom gradients. Will likely fail if a gradient is requested.\n"
     ]
    },
    {
     "name": "stderr",
     "output_type": "stream",
     "text": [
      "WARNING:absl:Importing a function (__inference_res_net_1_layer_call_and_return_conditional_losses_422880) with ops with custom gradients. Will likely fail if a gradient is requested.\n",
      "WARNING:absl:Importing a function (__inference_res_net_1_layer_call_and_return_conditional_losses_422880) with ops with custom gradients. Will likely fail if a gradient is requested.\n",
      "WARNING:absl:Importing a function (__inference_res_net_1_layer_call_and_return_conditional_losses_422880) with ops with custom gradients. Will likely fail if a gradient is requested.\n",
      "WARNING:absl:Importing a function (__inference_res_net_1_layer_call_and_return_conditional_losses_422880) with ops with custom gradients. Will likely fail if a gradient is requested.\n",
      "WARNING:absl:Importing a function (__inference_res_net_1_layer_call_and_return_conditional_losses_422880) with ops with custom gradients. Will likely fail if a gradient is requested.\n",
      "WARNING:absl:Importing a function (__inference_res_net_1_layer_call_and_return_conditional_losses_422880) with ops with custom gradients. Will likely fail if a gradient is requested.\n",
      "WARNING:absl:Importing a function (__inference_res_net_1_layer_call_and_return_conditional_losses_422880) with ops with custom gradients. Will likely fail if a gradient is requested.\n",
      "WARNING:absl:Importing a function (__inference_res_net_1_layer_call_and_return_conditional_losses_422880) with ops with custom gradients. Will likely fail if a gradient is requested.\n",
      "WARNING:absl:Importing a function (__inference_res_net_1_layer_call_and_return_conditional_losses_422880) with ops with custom gradients. Will likely fail if a gradient is requested.\n",
      "WARNING:absl:Importing a function (__inference_res_net_1_layer_call_and_return_conditional_losses_422880) with ops with custom gradients. Will likely fail if a gradient is requested.\n",
      "WARNING:absl:Importing a function (__inference_res_net_1_layer_call_and_return_conditional_losses_422880) with ops with custom gradients. Will likely fail if a gradient is requested.\n",
      "WARNING:absl:Importing a function (__inference_res_net_1_layer_call_and_return_conditional_losses_422880) with ops with custom gradients. Will likely fail if a gradient is requested.\n",
      "WARNING:absl:Importing a function (__inference_res_net_1_layer_call_and_return_conditional_losses_422880) with ops with custom gradients. Will likely fail if a gradient is requested.\n",
      "WARNING:absl:Importing a function (__inference_res_net_1_layer_call_and_return_conditional_losses_422880) with ops with custom gradients. Will likely fail if a gradient is requested.\n",
      "WARNING:absl:Importing a function (__inference_res_net_1_layer_call_and_return_conditional_losses_422880) with ops with custom gradients. Will likely fail if a gradient is requested.\n",
      "WARNING:absl:Importing a function (__inference_res_net_1_layer_call_and_return_conditional_losses_422880) with ops with custom gradients. Will likely fail if a gradient is requested.\n",
      "WARNING:absl:Importing a function (__inference_res_net_1_layer_call_and_return_conditional_losses_422880) with ops with custom gradients. Will likely fail if a gradient is requested.\n",
      "WARNING:absl:Importing a function (__inference_res_net_1_layer_call_and_return_conditional_losses_422880) with ops with custom gradients. Will likely fail if a gradient is requested.\n",
      "WARNING:absl:Importing a function (__inference_res_net_1_layer_call_and_return_conditional_losses_422880) with ops with custom gradients. Will likely fail if a gradient is requested.\n",
      "WARNING:absl:Importing a function (__inference_res_net_1_layer_call_and_return_conditional_losses_422880) with ops with custom gradients. Will likely fail if a gradient is requested.\n",
      "WARNING:absl:Importing a function (__inference_res_net_1_layer_call_and_return_conditional_losses_422880) with ops with custom gradients. Will likely fail if a gradient is requested.\n",
      "WARNING:absl:Importing a function (__inference_res_net_1_layer_call_and_return_conditional_losses_422880) with ops with custom gradients. Will likely fail if a gradient is requested.\n",
      "WARNING:absl:Importing a function (__inference_res_net_1_layer_call_and_return_conditional_losses_422880) with ops with custom gradients. Will likely fail if a gradient is requested.\n",
      "WARNING:absl:Importing a function (__inference_res_net_1_layer_call_and_return_conditional_losses_422880) with ops with custom gradients. Will likely fail if a gradient is requested.\n",
      "WARNING:absl:Importing a function (__inference_res_net_1_layer_call_and_return_conditional_losses_422880) with ops with custom gradients. Will likely fail if a gradient is requested.\n",
      "WARNING:absl:Importing a function (__inference_res_net_1_layer_call_and_return_conditional_losses_422880) with ops with custom gradients. Will likely fail if a gradient is requested.\n",
      "WARNING:absl:Importing a function (__inference_res_net_1_layer_call_and_return_conditional_losses_422880) with ops with custom gradients. Will likely fail if a gradient is requested.\n",
      "WARNING:absl:Importing a function (__inference_res_net_1_layer_call_and_return_conditional_losses_422880) with ops with custom gradients. Will likely fail if a gradient is requested.\n",
      "WARNING:absl:Importing a function (__inference_res_net_1_layer_call_and_return_conditional_losses_422880) with ops with custom gradients. Will likely fail if a gradient is requested.\n",
      "WARNING:absl:Importing a function (__inference_res_net_1_layer_call_and_return_conditional_losses_422880) with ops with custom gradients. Will likely fail if a gradient is requested.\n",
      "WARNING:absl:Importing a function (__inference_res_net_1_layer_call_and_return_conditional_losses_422880) with ops with custom gradients. Will likely fail if a gradient is requested.\n",
      "WARNING:absl:Importing a function (__inference_res_net_1_layer_call_and_return_conditional_losses_422880) with ops with custom gradients. Will likely fail if a gradient is requested.\n",
      "WARNING:absl:Importing a function (__inference_res_net_1_layer_call_and_return_conditional_losses_422880) with ops with custom gradients. Will likely fail if a gradient is requested.\n",
      "WARNING:absl:Importing a function (__inference_res_net_1_layer_call_and_return_conditional_losses_422880) with ops with custom gradients. Will likely fail if a gradient is requested.\n",
      "WARNING:absl:Importing a function (__inference_res_net_1_layer_call_and_return_conditional_losses_422880) with ops with custom gradients. Will likely fail if a gradient is requested.\n",
      "WARNING:absl:Importing a function (__inference_res_net_1_layer_call_and_return_conditional_losses_422880) with ops with custom gradients. Will likely fail if a gradient is requested.\n",
      "WARNING:absl:Importing a function (__inference_res_net_1_layer_call_and_return_conditional_losses_422880) with ops with custom gradients. Will likely fail if a gradient is requested.\n",
      "WARNING:absl:Importing a function (__inference_res_net_1_layer_call_and_return_conditional_losses_422880) with ops with custom gradients. Will likely fail if a gradient is requested.\n",
      "WARNING:absl:Importing a function (__inference_res_net_1_layer_call_and_return_conditional_losses_422880) with ops with custom gradients. Will likely fail if a gradient is requested.\n",
      "WARNING:absl:Importing a function (__inference_res_net_1_layer_call_and_return_conditional_losses_422880) with ops with custom gradients. Will likely fail if a gradient is requested.\n",
      "WARNING:absl:Importing a function (__inference_res_net_1_layer_call_and_return_conditional_losses_422880) with ops with custom gradients. Will likely fail if a gradient is requested.\n",
      "WARNING:absl:Importing a function (__inference_res_net_1_layer_call_and_return_conditional_losses_422880) with ops with custom gradients. Will likely fail if a gradient is requested.\n",
      "WARNING:absl:Importing a function (__inference_res_net_1_layer_call_and_return_conditional_losses_422880) with ops with custom gradients. Will likely fail if a gradient is requested.\n",
      "WARNING:absl:Importing a function (__inference_res_net_1_layer_call_and_return_conditional_losses_422880) with ops with custom gradients. Will likely fail if a gradient is requested.\n",
      "WARNING:absl:Importing a function (__inference_res_net_1_layer_call_and_return_conditional_losses_422880) with ops with custom gradients. Will likely fail if a gradient is requested.\n"
     ]
    },
    {
     "name": "stderr",
     "output_type": "stream",
     "text": [
      "WARNING:absl:Importing a function (__inference_res_net_1_layer_call_and_return_conditional_losses_422880) with ops with custom gradients. Will likely fail if a gradient is requested.\n",
      "WARNING:absl:Importing a function (__inference_res_net_1_layer_call_and_return_conditional_losses_422880) with ops with custom gradients. Will likely fail if a gradient is requested.\n",
      "WARNING:absl:Importing a function (__inference_res_net_model_tp_layer_call_and_return_conditional_losses_400472) with ops with custom gradients. Will likely fail if a gradient is requested.\n",
      "WARNING:absl:Importing a function (__inference_res_net_model_tp_layer_call_and_return_conditional_losses_400472) with ops with custom gradients. Will likely fail if a gradient is requested.\n",
      "WARNING:absl:Importing a function (__inference_res_net_model_tp_layer_call_and_return_conditional_losses_400472) with ops with custom gradients. Will likely fail if a gradient is requested.\n",
      "WARNING:absl:Importing a function (__inference_res_net_model_tp_layer_call_and_return_conditional_losses_400472) with ops with custom gradients. Will likely fail if a gradient is requested.\n",
      "WARNING:absl:Importing a function (__inference_res_net_model_tp_layer_call_and_return_conditional_losses_400472) with ops with custom gradients. Will likely fail if a gradient is requested.\n",
      "WARNING:absl:Importing a function (__inference_res_net_model_tp_layer_call_and_return_conditional_losses_400472) with ops with custom gradients. Will likely fail if a gradient is requested.\n",
      "WARNING:absl:Importing a function (__inference_res_net_model_tp_layer_call_and_return_conditional_losses_400472) with ops with custom gradients. Will likely fail if a gradient is requested.\n",
      "WARNING:absl:Importing a function (__inference_res_net_model_tp_layer_call_and_return_conditional_losses_400472) with ops with custom gradients. Will likely fail if a gradient is requested.\n",
      "WARNING:absl:Importing a function (__inference_res_net_model_tp_layer_call_and_return_conditional_losses_400472) with ops with custom gradients. Will likely fail if a gradient is requested.\n",
      "WARNING:absl:Importing a function (__inference_res_net_model_tp_layer_call_and_return_conditional_losses_400472) with ops with custom gradients. Will likely fail if a gradient is requested.\n",
      "WARNING:absl:Importing a function (__inference_res_net_model_tp_layer_call_and_return_conditional_losses_400472) with ops with custom gradients. Will likely fail if a gradient is requested.\n",
      "WARNING:absl:Importing a function (__inference_res_net_model_tp_layer_call_and_return_conditional_losses_400472) with ops with custom gradients. Will likely fail if a gradient is requested.\n",
      "WARNING:absl:Importing a function (__inference_res_net_model_tp_layer_call_and_return_conditional_losses_400472) with ops with custom gradients. Will likely fail if a gradient is requested.\n",
      "WARNING:absl:Importing a function (__inference_res_net_model_tp_layer_call_and_return_conditional_losses_400472) with ops with custom gradients. Will likely fail if a gradient is requested.\n",
      "WARNING:absl:Importing a function (__inference_res_net_model_tp_layer_call_and_return_conditional_losses_400472) with ops with custom gradients. Will likely fail if a gradient is requested.\n",
      "WARNING:absl:Importing a function (__inference_res_net_model_tp_layer_call_and_return_conditional_losses_400472) with ops with custom gradients. Will likely fail if a gradient is requested.\n",
      "WARNING:absl:Importing a function (__inference_res_net_model_tp_layer_call_and_return_conditional_losses_400472) with ops with custom gradients. Will likely fail if a gradient is requested.\n",
      "WARNING:absl:Importing a function (__inference_res_net_model_tp_layer_call_and_return_conditional_losses_400472) with ops with custom gradients. Will likely fail if a gradient is requested.\n",
      "WARNING:absl:Importing a function (__inference_res_net_model_tp_layer_call_and_return_conditional_losses_400472) with ops with custom gradients. Will likely fail if a gradient is requested.\n",
      "WARNING:absl:Importing a function (__inference_res_net_model_tp_layer_call_and_return_conditional_losses_400472) with ops with custom gradients. Will likely fail if a gradient is requested.\n",
      "WARNING:absl:Importing a function (__inference_res_net_model_tp_layer_call_and_return_conditional_losses_400472) with ops with custom gradients. Will likely fail if a gradient is requested.\n",
      "WARNING:absl:Importing a function (__inference_res_net_model_tp_layer_call_and_return_conditional_losses_400472) with ops with custom gradients. Will likely fail if a gradient is requested.\n",
      "WARNING:absl:Importing a function (__inference_res_net_model_tp_layer_call_and_return_conditional_losses_400472) with ops with custom gradients. Will likely fail if a gradient is requested.\n",
      "WARNING:absl:Importing a function (__inference_res_net_model_tp_layer_call_and_return_conditional_losses_400472) with ops with custom gradients. Will likely fail if a gradient is requested.\n",
      "WARNING:absl:Importing a function (__inference_res_net_model_tp_layer_call_and_return_conditional_losses_400472) with ops with custom gradients. Will likely fail if a gradient is requested.\n",
      "WARNING:absl:Importing a function (__inference_res_net_model_tp_layer_call_and_return_conditional_losses_400472) with ops with custom gradients. Will likely fail if a gradient is requested.\n",
      "WARNING:absl:Importing a function (__inference_res_net_model_tp_layer_call_and_return_conditional_losses_400472) with ops with custom gradients. Will likely fail if a gradient is requested.\n",
      "WARNING:absl:Importing a function (__inference_res_net_model_tp_layer_call_and_return_conditional_losses_400472) with ops with custom gradients. Will likely fail if a gradient is requested.\n",
      "WARNING:absl:Importing a function (__inference_res_net_model_tp_layer_call_and_return_conditional_losses_400472) with ops with custom gradients. Will likely fail if a gradient is requested.\n",
      "WARNING:absl:Importing a function (__inference_res_net_model_tp_layer_call_and_return_conditional_losses_400472) with ops with custom gradients. Will likely fail if a gradient is requested.\n",
      "WARNING:absl:Importing a function (__inference_res_net_model_tp_layer_call_and_return_conditional_losses_400472) with ops with custom gradients. Will likely fail if a gradient is requested.\n",
      "WARNING:absl:Importing a function (__inference_res_net_model_tp_layer_call_and_return_conditional_losses_400472) with ops with custom gradients. Will likely fail if a gradient is requested.\n",
      "WARNING:absl:Importing a function (__inference_res_net_model_tp_layer_call_and_return_conditional_losses_400472) with ops with custom gradients. Will likely fail if a gradient is requested.\n",
      "WARNING:absl:Importing a function (__inference_res_net_model_tp_layer_call_and_return_conditional_losses_400472) with ops with custom gradients. Will likely fail if a gradient is requested.\n",
      "WARNING:absl:Importing a function (__inference_res_net_model_tp_layer_call_and_return_conditional_losses_400472) with ops with custom gradients. Will likely fail if a gradient is requested.\n",
      "WARNING:absl:Importing a function (__inference_res_net_model_tp_layer_call_and_return_conditional_losses_400472) with ops with custom gradients. Will likely fail if a gradient is requested.\n",
      "WARNING:absl:Importing a function (__inference_res_net_model_tp_layer_call_and_return_conditional_losses_400472) with ops with custom gradients. Will likely fail if a gradient is requested.\n",
      "WARNING:absl:Importing a function (__inference_res_net_model_tp_layer_call_and_return_conditional_losses_400472) with ops with custom gradients. Will likely fail if a gradient is requested.\n",
      "WARNING:absl:Importing a function (__inference_res_net_model_tp_layer_call_and_return_conditional_losses_400472) with ops with custom gradients. Will likely fail if a gradient is requested.\n",
      "WARNING:absl:Importing a function (__inference_res_net_model_tp_layer_call_and_return_conditional_losses_400472) with ops with custom gradients. Will likely fail if a gradient is requested.\n",
      "WARNING:absl:Importing a function (__inference_res_net_model_tp_layer_call_and_return_conditional_losses_400472) with ops with custom gradients. Will likely fail if a gradient is requested.\n",
      "WARNING:absl:Importing a function (__inference_res_net_model_tp_layer_call_and_return_conditional_losses_400472) with ops with custom gradients. Will likely fail if a gradient is requested.\n"
     ]
    },
    {
     "name": "stderr",
     "output_type": "stream",
     "text": [
      "WARNING:absl:Importing a function (__inference_res_net_model_tp_layer_call_and_return_conditional_losses_400472) with ops with custom gradients. Will likely fail if a gradient is requested.\n",
      "WARNING:absl:Importing a function (__inference_res_net_model_tp_layer_call_and_return_conditional_losses_400472) with ops with custom gradients. Will likely fail if a gradient is requested.\n",
      "WARNING:absl:Importing a function (__inference_res_net_model_tp_layer_call_and_return_conditional_losses_400472) with ops with custom gradients. Will likely fail if a gradient is requested.\n",
      "WARNING:absl:Importing a function (__inference_res_net_model_tp_layer_call_and_return_conditional_losses_400472) with ops with custom gradients. Will likely fail if a gradient is requested.\n",
      "WARNING:absl:Importing a function (__inference_res_net_model_tp_layer_call_and_return_conditional_losses_400472) with ops with custom gradients. Will likely fail if a gradient is requested.\n",
      "WARNING:absl:Importing a function (__inference_res_net_model_tp_layer_call_and_return_conditional_losses_400472) with ops with custom gradients. Will likely fail if a gradient is requested.\n",
      "WARNING:absl:Importing a function (__inference_res_net_model_tp_layer_call_and_return_conditional_losses_400472) with ops with custom gradients. Will likely fail if a gradient is requested.\n",
      "WARNING:absl:Importing a function (__inference_res_net_model_tp_layer_call_and_return_conditional_losses_400472) with ops with custom gradients. Will likely fail if a gradient is requested.\n",
      "WARNING:absl:Importing a function (__inference_res_net_model_tp_layer_call_and_return_conditional_losses_400472) with ops with custom gradients. Will likely fail if a gradient is requested.\n",
      "WARNING:absl:Importing a function (__inference_res_net_model_tp_layer_call_and_return_conditional_losses_400472) with ops with custom gradients. Will likely fail if a gradient is requested.\n",
      "WARNING:absl:Importing a function (__inference_res_net_model_tp_layer_call_and_return_conditional_losses_400472) with ops with custom gradients. Will likely fail if a gradient is requested.\n",
      "WARNING:absl:Importing a function (__inference_res_net_model_tp_layer_call_and_return_conditional_losses_400472) with ops with custom gradients. Will likely fail if a gradient is requested.\n",
      "WARNING:absl:Importing a function (__inference_res_net_model_tp_layer_call_and_return_conditional_losses_400472) with ops with custom gradients. Will likely fail if a gradient is requested.\n",
      "WARNING:absl:Importing a function (__inference_res_net_model_tp_layer_call_and_return_conditional_losses_400472) with ops with custom gradients. Will likely fail if a gradient is requested.\n",
      "WARNING:absl:Importing a function (__inference_res_net_model_tp_layer_call_and_return_conditional_losses_400472) with ops with custom gradients. Will likely fail if a gradient is requested.\n",
      "WARNING:absl:Importing a function (__inference_res_net_model_tp_layer_call_and_return_conditional_losses_400472) with ops with custom gradients. Will likely fail if a gradient is requested.\n",
      "WARNING:absl:Importing a function (__inference_res_net_model_tp_layer_call_and_return_conditional_losses_400472) with ops with custom gradients. Will likely fail if a gradient is requested.\n",
      "WARNING:absl:Importing a function (__inference_res_net_model_tp_layer_call_and_return_conditional_losses_400472) with ops with custom gradients. Will likely fail if a gradient is requested.\n",
      "WARNING:absl:Importing a function (__inference_res_net_model_tp_layer_call_and_return_conditional_losses_400472) with ops with custom gradients. Will likely fail if a gradient is requested.\n",
      "WARNING:absl:Importing a function (__inference_res_net_model_tp_layer_call_and_return_conditional_losses_400472) with ops with custom gradients. Will likely fail if a gradient is requested.\n",
      "WARNING:absl:Importing a function (__inference_res_net_model_tp_layer_call_and_return_conditional_losses_400472) with ops with custom gradients. Will likely fail if a gradient is requested.\n",
      "WARNING:absl:Importing a function (__inference_res_net_model_tp_layer_call_and_return_conditional_losses_400472) with ops with custom gradients. Will likely fail if a gradient is requested.\n",
      "WARNING:absl:Importing a function (__inference_res_net_model_tp_layer_call_and_return_conditional_losses_400472) with ops with custom gradients. Will likely fail if a gradient is requested.\n",
      "WARNING:absl:Importing a function (__inference_res_net_model_tp_layer_call_and_return_conditional_losses_400472) with ops with custom gradients. Will likely fail if a gradient is requested.\n",
      "WARNING:absl:Importing a function (__inference_res_net_model_tp_layer_call_and_return_conditional_losses_400472) with ops with custom gradients. Will likely fail if a gradient is requested.\n",
      "WARNING:absl:Importing a function (__inference_res_net_model_tp_layer_call_and_return_conditional_losses_400472) with ops with custom gradients. Will likely fail if a gradient is requested.\n",
      "WARNING:absl:Importing a function (__inference_res_net_model_tp_layer_call_and_return_conditional_losses_400472) with ops with custom gradients. Will likely fail if a gradient is requested.\n",
      "WARNING:absl:Importing a function (__inference_res_net_model_tp_layer_call_and_return_conditional_losses_400472) with ops with custom gradients. Will likely fail if a gradient is requested.\n",
      "WARNING:absl:Importing a function (__inference_res_net_model_tp_layer_call_and_return_conditional_losses_400472) with ops with custom gradients. Will likely fail if a gradient is requested.\n",
      "WARNING:absl:Importing a function (__inference_res_net_model_tp_layer_call_and_return_conditional_losses_400472) with ops with custom gradients. Will likely fail if a gradient is requested.\n",
      "WARNING:absl:Importing a function (__inference_res_net_model_tp_layer_call_and_return_conditional_losses_400472) with ops with custom gradients. Will likely fail if a gradient is requested.\n",
      "WARNING:absl:Importing a function (__inference_res_net_model_tp_layer_call_and_return_conditional_losses_400472) with ops with custom gradients. Will likely fail if a gradient is requested.\n",
      "WARNING:absl:Importing a function (__inference_res_net_model_tp_layer_call_and_return_conditional_losses_400472) with ops with custom gradients. Will likely fail if a gradient is requested.\n",
      "WARNING:absl:Importing a function (__inference_res_net_model_tp_layer_call_and_return_conditional_losses_400472) with ops with custom gradients. Will likely fail if a gradient is requested.\n",
      "WARNING:absl:Importing a function (__inference_res_net_model_tp_layer_call_and_return_conditional_losses_400472) with ops with custom gradients. Will likely fail if a gradient is requested.\n",
      "WARNING:absl:Importing a function (__inference_res_net_model_tp_layer_call_and_return_conditional_losses_400472) with ops with custom gradients. Will likely fail if a gradient is requested.\n",
      "WARNING:absl:Importing a function (__inference_res_net_model_tp_layer_call_and_return_conditional_losses_400472) with ops with custom gradients. Will likely fail if a gradient is requested.\n",
      "WARNING:absl:Importing a function (__inference_res_net_model_tp_layer_call_and_return_conditional_losses_400472) with ops with custom gradients. Will likely fail if a gradient is requested.\n",
      "WARNING:absl:Importing a function (__inference_res_net_model_tp_layer_call_and_return_conditional_losses_400472) with ops with custom gradients. Will likely fail if a gradient is requested.\n",
      "WARNING:absl:Importing a function (__inference_res_net_model_tp_layer_call_and_return_conditional_losses_400472) with ops with custom gradients. Will likely fail if a gradient is requested.\n",
      "WARNING:absl:Importing a function (__inference_res_net_model_tp_layer_call_and_return_conditional_losses_400472) with ops with custom gradients. Will likely fail if a gradient is requested.\n",
      "WARNING:absl:Importing a function (__inference_res_net_model_tp_layer_call_and_return_conditional_losses_400472) with ops with custom gradients. Will likely fail if a gradient is requested.\n",
      "WARNING:absl:Importing a function (__inference_res_net_model_tp_layer_call_and_return_conditional_losses_400472) with ops with custom gradients. Will likely fail if a gradient is requested.\n",
      "WARNING:absl:Importing a function (__inference_res_net_model_tp_layer_call_and_return_conditional_losses_400472) with ops with custom gradients. Will likely fail if a gradient is requested.\n"
     ]
    },
    {
     "name": "stderr",
     "output_type": "stream",
     "text": [
      "WARNING:absl:Importing a function (__inference_res_net_model_tp_layer_call_and_return_conditional_losses_400472) with ops with custom gradients. Will likely fail if a gradient is requested.\n",
      "WARNING:absl:Importing a function (__inference_res_net_model_tp_layer_call_and_return_conditional_losses_400472) with ops with custom gradients. Will likely fail if a gradient is requested.\n",
      "WARNING:absl:Importing a function (__inference_res_net_model_tp_layer_call_and_return_conditional_losses_400472) with ops with custom gradients. Will likely fail if a gradient is requested.\n",
      "WARNING:absl:Importing a function (__inference_res_net_model_tp_layer_call_and_return_conditional_losses_400472) with ops with custom gradients. Will likely fail if a gradient is requested.\n",
      "WARNING:absl:Importing a function (__inference_res_net_model_tp_layer_call_and_return_conditional_losses_400472) with ops with custom gradients. Will likely fail if a gradient is requested.\n",
      "WARNING:absl:Importing a function (__inference_res_net_model_tp_layer_call_and_return_conditional_losses_400472) with ops with custom gradients. Will likely fail if a gradient is requested.\n",
      "WARNING:absl:Importing a function (__inference_res_net_model_tp_layer_call_and_return_conditional_losses_400472) with ops with custom gradients. Will likely fail if a gradient is requested.\n",
      "WARNING:absl:Importing a function (__inference_res_net_model_tp_layer_call_and_return_conditional_losses_400472) with ops with custom gradients. Will likely fail if a gradient is requested.\n",
      "WARNING:absl:Importing a function (__inference_res_net_model_tp_layer_call_and_return_conditional_losses_400472) with ops with custom gradients. Will likely fail if a gradient is requested.\n",
      "WARNING:absl:Importing a function (__inference_res_net_model_tp_layer_call_and_return_conditional_losses_400472) with ops with custom gradients. Will likely fail if a gradient is requested.\n",
      "WARNING:absl:Importing a function (__inference_res_net_model_tp_layer_call_and_return_conditional_losses_400472) with ops with custom gradients. Will likely fail if a gradient is requested.\n",
      "WARNING:absl:Importing a function (__inference_res_net_model_tp_layer_call_and_return_conditional_losses_400472) with ops with custom gradients. Will likely fail if a gradient is requested.\n",
      "WARNING:absl:Importing a function (__inference_res_net_model_tp_layer_call_and_return_conditional_losses_400472) with ops with custom gradients. Will likely fail if a gradient is requested.\n",
      "WARNING:absl:Importing a function (__inference_res_net_model_tp_layer_call_and_return_conditional_losses_400472) with ops with custom gradients. Will likely fail if a gradient is requested.\n",
      "WARNING:absl:Importing a function (__inference_res_net_model_tp_layer_call_and_return_conditional_losses_400472) with ops with custom gradients. Will likely fail if a gradient is requested.\n",
      "WARNING:absl:Importing a function (__inference_res_net_model_tp_layer_call_and_return_conditional_losses_400472) with ops with custom gradients. Will likely fail if a gradient is requested.\n",
      "WARNING:absl:Importing a function (__inference_dens1_arm_layer_call_and_return_conditional_losses_388959) with ops with custom gradients. Will likely fail if a gradient is requested.\n",
      "WARNING:absl:Importing a function (__inference_dense_bn_layer_call_and_return_conditional_losses_389066) with ops with custom gradients. Will likely fail if a gradient is requested.\n",
      "WARNING:absl:Importing a function (__inference_dense_bn_1_layer_call_and_return_conditional_losses_424306) with ops with custom gradients. Will likely fail if a gradient is requested.\n",
      "WARNING:absl:Importing a function (__inference_dense_bn_1_layer_call_and_return_conditional_losses_389213) with ops with custom gradients. Will likely fail if a gradient is requested.\n",
      "WARNING:absl:Importing a function (__inference_res_net_layer_call_and_return_conditional_losses_418318) with ops with custom gradients. Will likely fail if a gradient is requested.\n",
      "WARNING:absl:Importing a function (__inference_res_net_layer_call_and_return_conditional_losses_418318) with ops with custom gradients. Will likely fail if a gradient is requested.\n",
      "WARNING:absl:Importing a function (__inference_res_net_layer_call_and_return_conditional_losses_418318) with ops with custom gradients. Will likely fail if a gradient is requested.\n",
      "WARNING:absl:Importing a function (__inference_res_net_layer_call_and_return_conditional_losses_418318) with ops with custom gradients. Will likely fail if a gradient is requested.\n",
      "WARNING:absl:Importing a function (__inference_res_net_layer_call_and_return_conditional_losses_418318) with ops with custom gradients. Will likely fail if a gradient is requested.\n",
      "WARNING:absl:Importing a function (__inference_res_net_layer_call_and_return_conditional_losses_418318) with ops with custom gradients. Will likely fail if a gradient is requested.\n",
      "WARNING:absl:Importing a function (__inference_res_net_layer_call_and_return_conditional_losses_418318) with ops with custom gradients. Will likely fail if a gradient is requested.\n",
      "WARNING:absl:Importing a function (__inference_res_net_layer_call_and_return_conditional_losses_418318) with ops with custom gradients. Will likely fail if a gradient is requested.\n",
      "WARNING:absl:Importing a function (__inference_res_net_layer_call_and_return_conditional_losses_418318) with ops with custom gradients. Will likely fail if a gradient is requested.\n",
      "WARNING:absl:Importing a function (__inference_res_net_layer_call_and_return_conditional_losses_418318) with ops with custom gradients. Will likely fail if a gradient is requested.\n",
      "WARNING:absl:Importing a function (__inference_res_net_layer_call_and_return_conditional_losses_418318) with ops with custom gradients. Will likely fail if a gradient is requested.\n",
      "WARNING:absl:Importing a function (__inference_res_net_layer_call_and_return_conditional_losses_418318) with ops with custom gradients. Will likely fail if a gradient is requested.\n",
      "WARNING:absl:Importing a function (__inference_res_net_layer_call_and_return_conditional_losses_418318) with ops with custom gradients. Will likely fail if a gradient is requested.\n",
      "WARNING:absl:Importing a function (__inference_res_net_layer_call_and_return_conditional_losses_418318) with ops with custom gradients. Will likely fail if a gradient is requested.\n",
      "WARNING:absl:Importing a function (__inference_res_net_layer_call_and_return_conditional_losses_418318) with ops with custom gradients. Will likely fail if a gradient is requested.\n",
      "WARNING:absl:Importing a function (__inference_res_net_layer_call_and_return_conditional_losses_418318) with ops with custom gradients. Will likely fail if a gradient is requested.\n",
      "WARNING:absl:Importing a function (__inference_res_net_layer_call_and_return_conditional_losses_418318) with ops with custom gradients. Will likely fail if a gradient is requested.\n",
      "WARNING:absl:Importing a function (__inference_res_net_layer_call_and_return_conditional_losses_418318) with ops with custom gradients. Will likely fail if a gradient is requested.\n",
      "WARNING:absl:Importing a function (__inference_res_net_layer_call_and_return_conditional_losses_418318) with ops with custom gradients. Will likely fail if a gradient is requested.\n",
      "WARNING:absl:Importing a function (__inference_res_net_layer_call_and_return_conditional_losses_418318) with ops with custom gradients. Will likely fail if a gradient is requested.\n",
      "WARNING:absl:Importing a function (__inference_res_net_layer_call_and_return_conditional_losses_418318) with ops with custom gradients. Will likely fail if a gradient is requested.\n",
      "WARNING:absl:Importing a function (__inference_res_net_layer_call_and_return_conditional_losses_418318) with ops with custom gradients. Will likely fail if a gradient is requested.\n",
      "WARNING:absl:Importing a function (__inference_res_net_layer_call_and_return_conditional_losses_418318) with ops with custom gradients. Will likely fail if a gradient is requested.\n",
      "WARNING:absl:Importing a function (__inference_res_net_layer_call_and_return_conditional_losses_418318) with ops with custom gradients. Will likely fail if a gradient is requested.\n",
      "WARNING:absl:Importing a function (__inference_res_net_layer_call_and_return_conditional_losses_418318) with ops with custom gradients. Will likely fail if a gradient is requested.\n"
     ]
    },
    {
     "name": "stderr",
     "output_type": "stream",
     "text": [
      "WARNING:absl:Importing a function (__inference_res_net_layer_call_and_return_conditional_losses_418318) with ops with custom gradients. Will likely fail if a gradient is requested.\n",
      "WARNING:absl:Importing a function (__inference_res_net_layer_call_and_return_conditional_losses_418318) with ops with custom gradients. Will likely fail if a gradient is requested.\n",
      "WARNING:absl:Importing a function (__inference_res_net_layer_call_and_return_conditional_losses_418318) with ops with custom gradients. Will likely fail if a gradient is requested.\n",
      "WARNING:absl:Importing a function (__inference_res_net_layer_call_and_return_conditional_losses_418318) with ops with custom gradients. Will likely fail if a gradient is requested.\n",
      "WARNING:absl:Importing a function (__inference_res_net_layer_call_and_return_conditional_losses_418318) with ops with custom gradients. Will likely fail if a gradient is requested.\n",
      "WARNING:absl:Importing a function (__inference_res_net_layer_call_and_return_conditional_losses_418318) with ops with custom gradients. Will likely fail if a gradient is requested.\n",
      "WARNING:absl:Importing a function (__inference_res_net_layer_call_and_return_conditional_losses_418318) with ops with custom gradients. Will likely fail if a gradient is requested.\n",
      "WARNING:absl:Importing a function (__inference_res_net_layer_call_and_return_conditional_losses_418318) with ops with custom gradients. Will likely fail if a gradient is requested.\n",
      "WARNING:absl:Importing a function (__inference_res_net_layer_call_and_return_conditional_losses_418318) with ops with custom gradients. Will likely fail if a gradient is requested.\n",
      "WARNING:absl:Importing a function (__inference_res_net_layer_call_and_return_conditional_losses_418318) with ops with custom gradients. Will likely fail if a gradient is requested.\n",
      "WARNING:absl:Importing a function (__inference_res_net_layer_call_and_return_conditional_losses_418318) with ops with custom gradients. Will likely fail if a gradient is requested.\n",
      "WARNING:absl:Importing a function (__inference_res_net_layer_call_and_return_conditional_losses_418318) with ops with custom gradients. Will likely fail if a gradient is requested.\n",
      "WARNING:absl:Importing a function (__inference_res_net_layer_call_and_return_conditional_losses_418318) with ops with custom gradients. Will likely fail if a gradient is requested.\n",
      "WARNING:absl:Importing a function (__inference_res_net_layer_call_and_return_conditional_losses_418318) with ops with custom gradients. Will likely fail if a gradient is requested.\n",
      "WARNING:absl:Importing a function (__inference_res_net_layer_call_and_return_conditional_losses_418318) with ops with custom gradients. Will likely fail if a gradient is requested.\n",
      "WARNING:absl:Importing a function (__inference_res_net_layer_call_and_return_conditional_losses_418318) with ops with custom gradients. Will likely fail if a gradient is requested.\n",
      "WARNING:absl:Importing a function (__inference_res_net_layer_call_and_return_conditional_losses_418318) with ops with custom gradients. Will likely fail if a gradient is requested.\n",
      "WARNING:absl:Importing a function (__inference_res_net_layer_call_and_return_conditional_losses_418318) with ops with custom gradients. Will likely fail if a gradient is requested.\n",
      "WARNING:absl:Importing a function (__inference_res_net_layer_call_and_return_conditional_losses_418318) with ops with custom gradients. Will likely fail if a gradient is requested.\n",
      "WARNING:absl:Importing a function (__inference_res_net_layer_call_and_return_conditional_losses_418318) with ops with custom gradients. Will likely fail if a gradient is requested.\n",
      "WARNING:absl:Importing a function (__inference_res_net_layer_call_and_return_conditional_losses_418318) with ops with custom gradients. Will likely fail if a gradient is requested.\n",
      "WARNING:absl:Importing a function (__inference_res_net_layer_call_and_return_conditional_losses_418318) with ops with custom gradients. Will likely fail if a gradient is requested.\n",
      "WARNING:absl:Importing a function (__inference_res_net_layer_call_and_return_conditional_losses_418318) with ops with custom gradients. Will likely fail if a gradient is requested.\n",
      "WARNING:absl:Importing a function (__inference_res_net_layer_call_and_return_conditional_losses_418318) with ops with custom gradients. Will likely fail if a gradient is requested.\n",
      "WARNING:absl:Importing a function (__inference_dens1_arm_layer_call_and_return_conditional_losses_424025) with ops with custom gradients. Will likely fail if a gradient is requested.\n",
      "WARNING:absl:Importing a function (__inference__wrapped_model_363498) with ops with custom gradients. Will likely fail if a gradient is requested.\n",
      "WARNING:absl:Importing a function (__inference__wrapped_model_363498) with ops with custom gradients. Will likely fail if a gradient is requested.\n",
      "WARNING:absl:Importing a function (__inference__wrapped_model_363498) with ops with custom gradients. Will likely fail if a gradient is requested.\n",
      "WARNING:absl:Importing a function (__inference__wrapped_model_363498) with ops with custom gradients. Will likely fail if a gradient is requested.\n",
      "WARNING:absl:Importing a function (__inference__wrapped_model_363498) with ops with custom gradients. Will likely fail if a gradient is requested.\n",
      "WARNING:absl:Importing a function (__inference__wrapped_model_363498) with ops with custom gradients. Will likely fail if a gradient is requested.\n",
      "WARNING:absl:Importing a function (__inference__wrapped_model_363498) with ops with custom gradients. Will likely fail if a gradient is requested.\n",
      "WARNING:absl:Importing a function (__inference__wrapped_model_363498) with ops with custom gradients. Will likely fail if a gradient is requested.\n",
      "WARNING:absl:Importing a function (__inference__wrapped_model_363498) with ops with custom gradients. Will likely fail if a gradient is requested.\n",
      "WARNING:absl:Importing a function (__inference__wrapped_model_363498) with ops with custom gradients. Will likely fail if a gradient is requested.\n",
      "WARNING:absl:Importing a function (__inference__wrapped_model_363498) with ops with custom gradients. Will likely fail if a gradient is requested.\n",
      "WARNING:absl:Importing a function (__inference__wrapped_model_363498) with ops with custom gradients. Will likely fail if a gradient is requested.\n",
      "WARNING:absl:Importing a function (__inference__wrapped_model_363498) with ops with custom gradients. Will likely fail if a gradient is requested.\n",
      "WARNING:absl:Importing a function (__inference__wrapped_model_363498) with ops with custom gradients. Will likely fail if a gradient is requested.\n",
      "WARNING:absl:Importing a function (__inference__wrapped_model_363498) with ops with custom gradients. Will likely fail if a gradient is requested.\n",
      "WARNING:absl:Importing a function (__inference__wrapped_model_363498) with ops with custom gradients. Will likely fail if a gradient is requested.\n",
      "WARNING:absl:Importing a function (__inference__wrapped_model_363498) with ops with custom gradients. Will likely fail if a gradient is requested.\n",
      "WARNING:absl:Importing a function (__inference__wrapped_model_363498) with ops with custom gradients. Will likely fail if a gradient is requested.\n",
      "WARNING:absl:Importing a function (__inference__wrapped_model_363498) with ops with custom gradients. Will likely fail if a gradient is requested.\n",
      "WARNING:absl:Importing a function (__inference__wrapped_model_363498) with ops with custom gradients. Will likely fail if a gradient is requested.\n",
      "WARNING:absl:Importing a function (__inference__wrapped_model_363498) with ops with custom gradients. Will likely fail if a gradient is requested.\n",
      "WARNING:absl:Importing a function (__inference__wrapped_model_363498) with ops with custom gradients. Will likely fail if a gradient is requested.\n",
      "WARNING:absl:Importing a function (__inference__wrapped_model_363498) with ops with custom gradients. Will likely fail if a gradient is requested.\n",
      "WARNING:absl:Importing a function (__inference__wrapped_model_363498) with ops with custom gradients. Will likely fail if a gradient is requested.\n",
      "WARNING:absl:Importing a function (__inference__wrapped_model_363498) with ops with custom gradients. Will likely fail if a gradient is requested.\n"
     ]
    },
    {
     "name": "stderr",
     "output_type": "stream",
     "text": [
      "WARNING:absl:Importing a function (__inference__wrapped_model_363498) with ops with custom gradients. Will likely fail if a gradient is requested.\n",
      "WARNING:absl:Importing a function (__inference__wrapped_model_363498) with ops with custom gradients. Will likely fail if a gradient is requested.\n",
      "WARNING:absl:Importing a function (__inference__wrapped_model_363498) with ops with custom gradients. Will likely fail if a gradient is requested.\n",
      "WARNING:absl:Importing a function (__inference__wrapped_model_363498) with ops with custom gradients. Will likely fail if a gradient is requested.\n",
      "WARNING:absl:Importing a function (__inference__wrapped_model_363498) with ops with custom gradients. Will likely fail if a gradient is requested.\n",
      "WARNING:absl:Importing a function (__inference__wrapped_model_363498) with ops with custom gradients. Will likely fail if a gradient is requested.\n",
      "WARNING:absl:Importing a function (__inference__wrapped_model_363498) with ops with custom gradients. Will likely fail if a gradient is requested.\n",
      "WARNING:absl:Importing a function (__inference__wrapped_model_363498) with ops with custom gradients. Will likely fail if a gradient is requested.\n",
      "WARNING:absl:Importing a function (__inference__wrapped_model_363498) with ops with custom gradients. Will likely fail if a gradient is requested.\n",
      "WARNING:absl:Importing a function (__inference__wrapped_model_363498) with ops with custom gradients. Will likely fail if a gradient is requested.\n",
      "WARNING:absl:Importing a function (__inference__wrapped_model_363498) with ops with custom gradients. Will likely fail if a gradient is requested.\n",
      "WARNING:absl:Importing a function (__inference__wrapped_model_363498) with ops with custom gradients. Will likely fail if a gradient is requested.\n",
      "WARNING:absl:Importing a function (__inference__wrapped_model_363498) with ops with custom gradients. Will likely fail if a gradient is requested.\n",
      "WARNING:absl:Importing a function (__inference__wrapped_model_363498) with ops with custom gradients. Will likely fail if a gradient is requested.\n",
      "WARNING:absl:Importing a function (__inference__wrapped_model_363498) with ops with custom gradients. Will likely fail if a gradient is requested.\n",
      "WARNING:absl:Importing a function (__inference__wrapped_model_363498) with ops with custom gradients. Will likely fail if a gradient is requested.\n",
      "WARNING:absl:Importing a function (__inference__wrapped_model_363498) with ops with custom gradients. Will likely fail if a gradient is requested.\n",
      "WARNING:absl:Importing a function (__inference__wrapped_model_363498) with ops with custom gradients. Will likely fail if a gradient is requested.\n",
      "WARNING:absl:Importing a function (__inference__wrapped_model_363498) with ops with custom gradients. Will likely fail if a gradient is requested.\n",
      "WARNING:absl:Importing a function (__inference__wrapped_model_363498) with ops with custom gradients. Will likely fail if a gradient is requested.\n",
      "WARNING:absl:Importing a function (__inference__wrapped_model_363498) with ops with custom gradients. Will likely fail if a gradient is requested.\n",
      "WARNING:absl:Importing a function (__inference__wrapped_model_363498) with ops with custom gradients. Will likely fail if a gradient is requested.\n",
      "WARNING:absl:Importing a function (__inference__wrapped_model_363498) with ops with custom gradients. Will likely fail if a gradient is requested.\n",
      "WARNING:absl:Importing a function (__inference__wrapped_model_363498) with ops with custom gradients. Will likely fail if a gradient is requested.\n",
      "WARNING:absl:Importing a function (__inference__wrapped_model_363498) with ops with custom gradients. Will likely fail if a gradient is requested.\n",
      "WARNING:absl:Importing a function (__inference__wrapped_model_363498) with ops with custom gradients. Will likely fail if a gradient is requested.\n",
      "WARNING:absl:Importing a function (__inference__wrapped_model_363498) with ops with custom gradients. Will likely fail if a gradient is requested.\n",
      "WARNING:absl:Importing a function (__inference__wrapped_model_363498) with ops with custom gradients. Will likely fail if a gradient is requested.\n",
      "WARNING:absl:Importing a function (__inference__wrapped_model_363498) with ops with custom gradients. Will likely fail if a gradient is requested.\n",
      "WARNING:absl:Importing a function (__inference__wrapped_model_363498) with ops with custom gradients. Will likely fail if a gradient is requested.\n",
      "WARNING:absl:Importing a function (__inference__wrapped_model_363498) with ops with custom gradients. Will likely fail if a gradient is requested.\n",
      "WARNING:absl:Importing a function (__inference__wrapped_model_363498) with ops with custom gradients. Will likely fail if a gradient is requested.\n",
      "WARNING:absl:Importing a function (__inference__wrapped_model_363498) with ops with custom gradients. Will likely fail if a gradient is requested.\n",
      "WARNING:absl:Importing a function (__inference__wrapped_model_363498) with ops with custom gradients. Will likely fail if a gradient is requested.\n",
      "WARNING:absl:Importing a function (__inference__wrapped_model_363498) with ops with custom gradients. Will likely fail if a gradient is requested.\n",
      "WARNING:absl:Importing a function (__inference__wrapped_model_363498) with ops with custom gradients. Will likely fail if a gradient is requested.\n",
      "WARNING:absl:Importing a function (__inference__wrapped_model_363498) with ops with custom gradients. Will likely fail if a gradient is requested.\n",
      "WARNING:absl:Importing a function (__inference__wrapped_model_363498) with ops with custom gradients. Will likely fail if a gradient is requested.\n",
      "WARNING:absl:Importing a function (__inference__wrapped_model_363498) with ops with custom gradients. Will likely fail if a gradient is requested.\n",
      "WARNING:absl:Importing a function (__inference__wrapped_model_363498) with ops with custom gradients. Will likely fail if a gradient is requested.\n",
      "WARNING:absl:Importing a function (__inference__wrapped_model_363498) with ops with custom gradients. Will likely fail if a gradient is requested.\n",
      "WARNING:absl:Importing a function (__inference__wrapped_model_363498) with ops with custom gradients. Will likely fail if a gradient is requested.\n",
      "WARNING:absl:Importing a function (__inference__wrapped_model_363498) with ops with custom gradients. Will likely fail if a gradient is requested.\n",
      "WARNING:absl:Importing a function (__inference__wrapped_model_363498) with ops with custom gradients. Will likely fail if a gradient is requested.\n",
      "WARNING:absl:Importing a function (__inference__wrapped_model_363498) with ops with custom gradients. Will likely fail if a gradient is requested.\n",
      "WARNING:absl:Importing a function (__inference__wrapped_model_363498) with ops with custom gradients. Will likely fail if a gradient is requested.\n",
      "WARNING:absl:Importing a function (__inference__wrapped_model_363498) with ops with custom gradients. Will likely fail if a gradient is requested.\n",
      "WARNING:absl:Importing a function (__inference__wrapped_model_363498) with ops with custom gradients. Will likely fail if a gradient is requested.\n",
      "WARNING:absl:Importing a function (__inference__wrapped_model_363498) with ops with custom gradients. Will likely fail if a gradient is requested.\n",
      "WARNING:absl:Importing a function (__inference__wrapped_model_363498) with ops with custom gradients. Will likely fail if a gradient is requested.\n",
      "WARNING:absl:Importing a function (__inference__wrapped_model_363498) with ops with custom gradients. Will likely fail if a gradient is requested.\n",
      "WARNING:absl:Importing a function (__inference__wrapped_model_363498) with ops with custom gradients. Will likely fail if a gradient is requested.\n",
      "WARNING:absl:Importing a function (__inference__wrapped_model_363498) with ops with custom gradients. Will likely fail if a gradient is requested.\n",
      "WARNING:absl:Importing a function (__inference__wrapped_model_363498) with ops with custom gradients. Will likely fail if a gradient is requested.\n",
      "WARNING:absl:Importing a function (__inference__wrapped_model_363498) with ops with custom gradients. Will likely fail if a gradient is requested.\n",
      "WARNING:absl:Importing a function (__inference__wrapped_model_363498) with ops with custom gradients. Will likely fail if a gradient is requested.\n"
     ]
    },
    {
     "name": "stderr",
     "output_type": "stream",
     "text": [
      "WARNING:absl:Importing a function (__inference__wrapped_model_363498) with ops with custom gradients. Will likely fail if a gradient is requested.\n",
      "WARNING:absl:Importing a function (__inference__wrapped_model_363498) with ops with custom gradients. Will likely fail if a gradient is requested.\n",
      "WARNING:absl:Importing a function (__inference__wrapped_model_363498) with ops with custom gradients. Will likely fail if a gradient is requested.\n",
      "WARNING:absl:Importing a function (__inference__wrapped_model_363498) with ops with custom gradients. Will likely fail if a gradient is requested.\n",
      "WARNING:absl:Importing a function (__inference__wrapped_model_363498) with ops with custom gradients. Will likely fail if a gradient is requested.\n",
      "WARNING:absl:Importing a function (__inference__wrapped_model_363498) with ops with custom gradients. Will likely fail if a gradient is requested.\n",
      "WARNING:absl:Importing a function (__inference__wrapped_model_363498) with ops with custom gradients. Will likely fail if a gradient is requested.\n",
      "WARNING:absl:Importing a function (__inference__wrapped_model_363498) with ops with custom gradients. Will likely fail if a gradient is requested.\n",
      "WARNING:absl:Importing a function (__inference__wrapped_model_363498) with ops with custom gradients. Will likely fail if a gradient is requested.\n",
      "WARNING:absl:Importing a function (__inference__wrapped_model_363498) with ops with custom gradients. Will likely fail if a gradient is requested.\n",
      "WARNING:absl:Importing a function (__inference__wrapped_model_363498) with ops with custom gradients. Will likely fail if a gradient is requested.\n",
      "WARNING:absl:Importing a function (__inference__wrapped_model_363498) with ops with custom gradients. Will likely fail if a gradient is requested.\n",
      "WARNING:absl:Importing a function (__inference__wrapped_model_363498) with ops with custom gradients. Will likely fail if a gradient is requested.\n",
      "WARNING:absl:Importing a function (__inference__wrapped_model_363498) with ops with custom gradients. Will likely fail if a gradient is requested.\n",
      "WARNING:absl:Importing a function (__inference__wrapped_model_363498) with ops with custom gradients. Will likely fail if a gradient is requested.\n",
      "WARNING:absl:Importing a function (__inference__wrapped_model_363498) with ops with custom gradients. Will likely fail if a gradient is requested.\n",
      "WARNING:absl:Importing a function (__inference__wrapped_model_363498) with ops with custom gradients. Will likely fail if a gradient is requested.\n",
      "WARNING:absl:Importing a function (__inference__wrapped_model_363498) with ops with custom gradients. Will likely fail if a gradient is requested.\n",
      "WARNING:absl:Importing a function (__inference__wrapped_model_363498) with ops with custom gradients. Will likely fail if a gradient is requested.\n",
      "WARNING:absl:Importing a function (__inference__wrapped_model_363498) with ops with custom gradients. Will likely fail if a gradient is requested.\n",
      "WARNING:absl:Importing a function (__inference__wrapped_model_363498) with ops with custom gradients. Will likely fail if a gradient is requested.\n",
      "WARNING:absl:Importing a function (__inference_res_net_layer_call_and_return_conditional_losses_382140) with ops with custom gradients. Will likely fail if a gradient is requested.\n",
      "WARNING:absl:Importing a function (__inference_res_net_layer_call_and_return_conditional_losses_382140) with ops with custom gradients. Will likely fail if a gradient is requested.\n",
      "WARNING:absl:Importing a function (__inference_res_net_layer_call_and_return_conditional_losses_382140) with ops with custom gradients. Will likely fail if a gradient is requested.\n",
      "WARNING:absl:Importing a function (__inference_res_net_layer_call_and_return_conditional_losses_382140) with ops with custom gradients. Will likely fail if a gradient is requested.\n",
      "WARNING:absl:Importing a function (__inference_res_net_layer_call_and_return_conditional_losses_382140) with ops with custom gradients. Will likely fail if a gradient is requested.\n",
      "WARNING:absl:Importing a function (__inference_res_net_layer_call_and_return_conditional_losses_382140) with ops with custom gradients. Will likely fail if a gradient is requested.\n",
      "WARNING:absl:Importing a function (__inference_res_net_layer_call_and_return_conditional_losses_382140) with ops with custom gradients. Will likely fail if a gradient is requested.\n",
      "WARNING:absl:Importing a function (__inference_res_net_layer_call_and_return_conditional_losses_382140) with ops with custom gradients. Will likely fail if a gradient is requested.\n",
      "WARNING:absl:Importing a function (__inference_res_net_layer_call_and_return_conditional_losses_382140) with ops with custom gradients. Will likely fail if a gradient is requested.\n",
      "WARNING:absl:Importing a function (__inference_res_net_layer_call_and_return_conditional_losses_382140) with ops with custom gradients. Will likely fail if a gradient is requested.\n",
      "WARNING:absl:Importing a function (__inference_res_net_layer_call_and_return_conditional_losses_382140) with ops with custom gradients. Will likely fail if a gradient is requested.\n",
      "WARNING:absl:Importing a function (__inference_res_net_layer_call_and_return_conditional_losses_382140) with ops with custom gradients. Will likely fail if a gradient is requested.\n",
      "WARNING:absl:Importing a function (__inference_res_net_layer_call_and_return_conditional_losses_382140) with ops with custom gradients. Will likely fail if a gradient is requested.\n",
      "WARNING:absl:Importing a function (__inference_res_net_layer_call_and_return_conditional_losses_382140) with ops with custom gradients. Will likely fail if a gradient is requested.\n",
      "WARNING:absl:Importing a function (__inference_res_net_layer_call_and_return_conditional_losses_382140) with ops with custom gradients. Will likely fail if a gradient is requested.\n",
      "WARNING:absl:Importing a function (__inference_res_net_layer_call_and_return_conditional_losses_382140) with ops with custom gradients. Will likely fail if a gradient is requested.\n",
      "WARNING:absl:Importing a function (__inference_res_net_layer_call_and_return_conditional_losses_382140) with ops with custom gradients. Will likely fail if a gradient is requested.\n",
      "WARNING:absl:Importing a function (__inference_res_net_layer_call_and_return_conditional_losses_382140) with ops with custom gradients. Will likely fail if a gradient is requested.\n",
      "WARNING:absl:Importing a function (__inference_res_net_layer_call_and_return_conditional_losses_382140) with ops with custom gradients. Will likely fail if a gradient is requested.\n",
      "WARNING:absl:Importing a function (__inference_res_net_layer_call_and_return_conditional_losses_382140) with ops with custom gradients. Will likely fail if a gradient is requested.\n",
      "WARNING:absl:Importing a function (__inference_res_net_layer_call_and_return_conditional_losses_382140) with ops with custom gradients. Will likely fail if a gradient is requested.\n",
      "WARNING:absl:Importing a function (__inference_res_net_layer_call_and_return_conditional_losses_382140) with ops with custom gradients. Will likely fail if a gradient is requested.\n",
      "WARNING:absl:Importing a function (__inference_res_net_layer_call_and_return_conditional_losses_382140) with ops with custom gradients. Will likely fail if a gradient is requested.\n",
      "WARNING:absl:Importing a function (__inference_res_net_layer_call_and_return_conditional_losses_382140) with ops with custom gradients. Will likely fail if a gradient is requested.\n",
      "WARNING:absl:Importing a function (__inference_res_net_layer_call_and_return_conditional_losses_382140) with ops with custom gradients. Will likely fail if a gradient is requested.\n",
      "WARNING:absl:Importing a function (__inference_res_net_layer_call_and_return_conditional_losses_382140) with ops with custom gradients. Will likely fail if a gradient is requested.\n",
      "WARNING:absl:Importing a function (__inference_res_net_layer_call_and_return_conditional_losses_382140) with ops with custom gradients. Will likely fail if a gradient is requested.\n",
      "WARNING:absl:Importing a function (__inference_res_net_layer_call_and_return_conditional_losses_382140) with ops with custom gradients. Will likely fail if a gradient is requested.\n",
      "WARNING:absl:Importing a function (__inference_res_net_layer_call_and_return_conditional_losses_382140) with ops with custom gradients. Will likely fail if a gradient is requested.\n"
     ]
    },
    {
     "name": "stderr",
     "output_type": "stream",
     "text": [
      "WARNING:absl:Importing a function (__inference_res_net_layer_call_and_return_conditional_losses_382140) with ops with custom gradients. Will likely fail if a gradient is requested.\n",
      "WARNING:absl:Importing a function (__inference_res_net_layer_call_and_return_conditional_losses_382140) with ops with custom gradients. Will likely fail if a gradient is requested.\n",
      "WARNING:absl:Importing a function (__inference_res_net_layer_call_and_return_conditional_losses_382140) with ops with custom gradients. Will likely fail if a gradient is requested.\n",
      "WARNING:absl:Importing a function (__inference_res_net_layer_call_and_return_conditional_losses_382140) with ops with custom gradients. Will likely fail if a gradient is requested.\n",
      "WARNING:absl:Importing a function (__inference_res_net_layer_call_and_return_conditional_losses_382140) with ops with custom gradients. Will likely fail if a gradient is requested.\n",
      "WARNING:absl:Importing a function (__inference_res_net_layer_call_and_return_conditional_losses_382140) with ops with custom gradients. Will likely fail if a gradient is requested.\n",
      "WARNING:absl:Importing a function (__inference_res_net_layer_call_and_return_conditional_losses_382140) with ops with custom gradients. Will likely fail if a gradient is requested.\n",
      "WARNING:absl:Importing a function (__inference_res_net_layer_call_and_return_conditional_losses_382140) with ops with custom gradients. Will likely fail if a gradient is requested.\n",
      "WARNING:absl:Importing a function (__inference_res_net_layer_call_and_return_conditional_losses_382140) with ops with custom gradients. Will likely fail if a gradient is requested.\n",
      "WARNING:absl:Importing a function (__inference_res_net_layer_call_and_return_conditional_losses_382140) with ops with custom gradients. Will likely fail if a gradient is requested.\n",
      "WARNING:absl:Importing a function (__inference_res_net_layer_call_and_return_conditional_losses_382140) with ops with custom gradients. Will likely fail if a gradient is requested.\n",
      "WARNING:absl:Importing a function (__inference_res_net_layer_call_and_return_conditional_losses_382140) with ops with custom gradients. Will likely fail if a gradient is requested.\n",
      "WARNING:absl:Importing a function (__inference_res_net_layer_call_and_return_conditional_losses_382140) with ops with custom gradients. Will likely fail if a gradient is requested.\n",
      "WARNING:absl:Importing a function (__inference_res_net_layer_call_and_return_conditional_losses_382140) with ops with custom gradients. Will likely fail if a gradient is requested.\n",
      "WARNING:absl:Importing a function (__inference_res_net_layer_call_and_return_conditional_losses_382140) with ops with custom gradients. Will likely fail if a gradient is requested.\n",
      "WARNING:absl:Importing a function (__inference_res_net_layer_call_and_return_conditional_losses_382140) with ops with custom gradients. Will likely fail if a gradient is requested.\n",
      "WARNING:absl:Importing a function (__inference_res_net_layer_call_and_return_conditional_losses_382140) with ops with custom gradients. Will likely fail if a gradient is requested.\n",
      "WARNING:absl:Importing a function (__inference_res_net_layer_call_and_return_conditional_losses_382140) with ops with custom gradients. Will likely fail if a gradient is requested.\n",
      "WARNING:absl:Importing a function (__inference_res_net_layer_call_and_return_conditional_losses_382140) with ops with custom gradients. Will likely fail if a gradient is requested.\n",
      "WARNING:absl:Importing a function (__inference_res_net_layer_call_and_return_conditional_losses_382140) with ops with custom gradients. Will likely fail if a gradient is requested.\n",
      "WARNING:absl:Importing a function (__inference_dense_bn_layer_call_and_return_conditional_losses_424146) with ops with custom gradients. Will likely fail if a gradient is requested.\n",
      "WARNING:absl:Importing a function (__inference_dense_bn_layer_call_and_return_conditional_losses_424175) with ops with custom gradients. Will likely fail if a gradient is requested.\n",
      "WARNING:absl:Importing a function (__inference_dense_bn_1_layer_call_and_return_conditional_losses_389242) with ops with custom gradients. Will likely fail if a gradient is requested.\n",
      "WARNING:absl:Importing a function (__inference_res_net_1_layer_call_and_return_conditional_losses_387235) with ops with custom gradients. Will likely fail if a gradient is requested.\n",
      "WARNING:absl:Importing a function (__inference_res_net_1_layer_call_and_return_conditional_losses_387235) with ops with custom gradients. Will likely fail if a gradient is requested.\n",
      "WARNING:absl:Importing a function (__inference_res_net_1_layer_call_and_return_conditional_losses_387235) with ops with custom gradients. Will likely fail if a gradient is requested.\n",
      "WARNING:absl:Importing a function (__inference_res_net_1_layer_call_and_return_conditional_losses_387235) with ops with custom gradients. Will likely fail if a gradient is requested.\n",
      "WARNING:absl:Importing a function (__inference_res_net_1_layer_call_and_return_conditional_losses_387235) with ops with custom gradients. Will likely fail if a gradient is requested.\n",
      "WARNING:absl:Importing a function (__inference_res_net_1_layer_call_and_return_conditional_losses_387235) with ops with custom gradients. Will likely fail if a gradient is requested.\n",
      "WARNING:absl:Importing a function (__inference_res_net_1_layer_call_and_return_conditional_losses_387235) with ops with custom gradients. Will likely fail if a gradient is requested.\n",
      "WARNING:absl:Importing a function (__inference_res_net_1_layer_call_and_return_conditional_losses_387235) with ops with custom gradients. Will likely fail if a gradient is requested.\n",
      "WARNING:absl:Importing a function (__inference_res_net_1_layer_call_and_return_conditional_losses_387235) with ops with custom gradients. Will likely fail if a gradient is requested.\n",
      "WARNING:absl:Importing a function (__inference_res_net_1_layer_call_and_return_conditional_losses_387235) with ops with custom gradients. Will likely fail if a gradient is requested.\n",
      "WARNING:absl:Importing a function (__inference_res_net_1_layer_call_and_return_conditional_losses_387235) with ops with custom gradients. Will likely fail if a gradient is requested.\n",
      "WARNING:absl:Importing a function (__inference_res_net_1_layer_call_and_return_conditional_losses_387235) with ops with custom gradients. Will likely fail if a gradient is requested.\n",
      "WARNING:absl:Importing a function (__inference_res_net_1_layer_call_and_return_conditional_losses_387235) with ops with custom gradients. Will likely fail if a gradient is requested.\n",
      "WARNING:absl:Importing a function (__inference_res_net_1_layer_call_and_return_conditional_losses_387235) with ops with custom gradients. Will likely fail if a gradient is requested.\n",
      "WARNING:absl:Importing a function (__inference_res_net_1_layer_call_and_return_conditional_losses_387235) with ops with custom gradients. Will likely fail if a gradient is requested.\n",
      "WARNING:absl:Importing a function (__inference_res_net_1_layer_call_and_return_conditional_losses_387235) with ops with custom gradients. Will likely fail if a gradient is requested.\n",
      "WARNING:absl:Importing a function (__inference_res_net_1_layer_call_and_return_conditional_losses_387235) with ops with custom gradients. Will likely fail if a gradient is requested.\n",
      "WARNING:absl:Importing a function (__inference_res_net_1_layer_call_and_return_conditional_losses_387235) with ops with custom gradients. Will likely fail if a gradient is requested.\n",
      "WARNING:absl:Importing a function (__inference_res_net_1_layer_call_and_return_conditional_losses_387235) with ops with custom gradients. Will likely fail if a gradient is requested.\n",
      "WARNING:absl:Importing a function (__inference_res_net_1_layer_call_and_return_conditional_losses_387235) with ops with custom gradients. Will likely fail if a gradient is requested.\n",
      "WARNING:absl:Importing a function (__inference_res_net_1_layer_call_and_return_conditional_losses_387235) with ops with custom gradients. Will likely fail if a gradient is requested.\n",
      "WARNING:absl:Importing a function (__inference_res_net_1_layer_call_and_return_conditional_losses_387235) with ops with custom gradients. Will likely fail if a gradient is requested.\n"
     ]
    },
    {
     "name": "stderr",
     "output_type": "stream",
     "text": [
      "WARNING:absl:Importing a function (__inference_res_net_1_layer_call_and_return_conditional_losses_387235) with ops with custom gradients. Will likely fail if a gradient is requested.\n",
      "WARNING:absl:Importing a function (__inference_res_net_1_layer_call_and_return_conditional_losses_387235) with ops with custom gradients. Will likely fail if a gradient is requested.\n",
      "WARNING:absl:Importing a function (__inference_res_net_1_layer_call_and_return_conditional_losses_387235) with ops with custom gradients. Will likely fail if a gradient is requested.\n",
      "WARNING:absl:Importing a function (__inference_res_net_1_layer_call_and_return_conditional_losses_387235) with ops with custom gradients. Will likely fail if a gradient is requested.\n",
      "WARNING:absl:Importing a function (__inference_res_net_1_layer_call_and_return_conditional_losses_387235) with ops with custom gradients. Will likely fail if a gradient is requested.\n",
      "WARNING:absl:Importing a function (__inference_res_net_1_layer_call_and_return_conditional_losses_387235) with ops with custom gradients. Will likely fail if a gradient is requested.\n",
      "WARNING:absl:Importing a function (__inference_res_net_1_layer_call_and_return_conditional_losses_387235) with ops with custom gradients. Will likely fail if a gradient is requested.\n",
      "WARNING:absl:Importing a function (__inference_res_net_1_layer_call_and_return_conditional_losses_387235) with ops with custom gradients. Will likely fail if a gradient is requested.\n",
      "WARNING:absl:Importing a function (__inference_res_net_1_layer_call_and_return_conditional_losses_387235) with ops with custom gradients. Will likely fail if a gradient is requested.\n",
      "WARNING:absl:Importing a function (__inference_res_net_1_layer_call_and_return_conditional_losses_387235) with ops with custom gradients. Will likely fail if a gradient is requested.\n",
      "WARNING:absl:Importing a function (__inference_res_net_1_layer_call_and_return_conditional_losses_387235) with ops with custom gradients. Will likely fail if a gradient is requested.\n",
      "WARNING:absl:Importing a function (__inference_res_net_1_layer_call_and_return_conditional_losses_387235) with ops with custom gradients. Will likely fail if a gradient is requested.\n",
      "WARNING:absl:Importing a function (__inference_res_net_1_layer_call_and_return_conditional_losses_387235) with ops with custom gradients. Will likely fail if a gradient is requested.\n",
      "WARNING:absl:Importing a function (__inference_res_net_1_layer_call_and_return_conditional_losses_387235) with ops with custom gradients. Will likely fail if a gradient is requested.\n",
      "WARNING:absl:Importing a function (__inference_res_net_1_layer_call_and_return_conditional_losses_387235) with ops with custom gradients. Will likely fail if a gradient is requested.\n",
      "WARNING:absl:Importing a function (__inference_res_net_1_layer_call_and_return_conditional_losses_387235) with ops with custom gradients. Will likely fail if a gradient is requested.\n",
      "WARNING:absl:Importing a function (__inference_res_net_1_layer_call_and_return_conditional_losses_387235) with ops with custom gradients. Will likely fail if a gradient is requested.\n",
      "WARNING:absl:Importing a function (__inference_res_net_1_layer_call_and_return_conditional_losses_387235) with ops with custom gradients. Will likely fail if a gradient is requested.\n",
      "WARNING:absl:Importing a function (__inference_res_net_1_layer_call_and_return_conditional_losses_387235) with ops with custom gradients. Will likely fail if a gradient is requested.\n",
      "WARNING:absl:Importing a function (__inference_res_net_1_layer_call_and_return_conditional_losses_387235) with ops with custom gradients. Will likely fail if a gradient is requested.\n",
      "WARNING:absl:Importing a function (__inference_res_net_1_layer_call_and_return_conditional_losses_387235) with ops with custom gradients. Will likely fail if a gradient is requested.\n",
      "WARNING:absl:Importing a function (__inference_res_net_1_layer_call_and_return_conditional_losses_387235) with ops with custom gradients. Will likely fail if a gradient is requested.\n",
      "WARNING:absl:Importing a function (__inference_res_net_1_layer_call_and_return_conditional_losses_387235) with ops with custom gradients. Will likely fail if a gradient is requested.\n",
      "WARNING:absl:Importing a function (__inference_res_net_1_layer_call_and_return_conditional_losses_387235) with ops with custom gradients. Will likely fail if a gradient is requested.\n",
      "WARNING:absl:Importing a function (__inference_res_net_1_layer_call_and_return_conditional_losses_387235) with ops with custom gradients. Will likely fail if a gradient is requested.\n",
      "WARNING:absl:Importing a function (__inference_res_net_1_layer_call_and_return_conditional_losses_387235) with ops with custom gradients. Will likely fail if a gradient is requested.\n",
      "WARNING:absl:Importing a function (__inference_res_net_1_layer_call_and_return_conditional_losses_387235) with ops with custom gradients. Will likely fail if a gradient is requested.\n",
      "WARNING:absl:Importing a function (__inference_res_net_layer_call_and_return_conditional_losses_416996) with ops with custom gradients. Will likely fail if a gradient is requested.\n",
      "WARNING:absl:Importing a function (__inference_res_net_layer_call_and_return_conditional_losses_416996) with ops with custom gradients. Will likely fail if a gradient is requested.\n",
      "WARNING:absl:Importing a function (__inference_res_net_layer_call_and_return_conditional_losses_416996) with ops with custom gradients. Will likely fail if a gradient is requested.\n",
      "WARNING:absl:Importing a function (__inference_res_net_layer_call_and_return_conditional_losses_416996) with ops with custom gradients. Will likely fail if a gradient is requested.\n",
      "WARNING:absl:Importing a function (__inference_res_net_layer_call_and_return_conditional_losses_416996) with ops with custom gradients. Will likely fail if a gradient is requested.\n",
      "WARNING:absl:Importing a function (__inference_res_net_layer_call_and_return_conditional_losses_416996) with ops with custom gradients. Will likely fail if a gradient is requested.\n",
      "WARNING:absl:Importing a function (__inference_res_net_layer_call_and_return_conditional_losses_416996) with ops with custom gradients. Will likely fail if a gradient is requested.\n",
      "WARNING:absl:Importing a function (__inference_res_net_layer_call_and_return_conditional_losses_416996) with ops with custom gradients. Will likely fail if a gradient is requested.\n",
      "WARNING:absl:Importing a function (__inference_res_net_layer_call_and_return_conditional_losses_416996) with ops with custom gradients. Will likely fail if a gradient is requested.\n",
      "WARNING:absl:Importing a function (__inference_res_net_layer_call_and_return_conditional_losses_416996) with ops with custom gradients. Will likely fail if a gradient is requested.\n",
      "WARNING:absl:Importing a function (__inference_res_net_layer_call_and_return_conditional_losses_416996) with ops with custom gradients. Will likely fail if a gradient is requested.\n",
      "WARNING:absl:Importing a function (__inference_res_net_layer_call_and_return_conditional_losses_416996) with ops with custom gradients. Will likely fail if a gradient is requested.\n",
      "WARNING:absl:Importing a function (__inference_res_net_layer_call_and_return_conditional_losses_416996) with ops with custom gradients. Will likely fail if a gradient is requested.\n",
      "WARNING:absl:Importing a function (__inference_res_net_layer_call_and_return_conditional_losses_416996) with ops with custom gradients. Will likely fail if a gradient is requested.\n",
      "WARNING:absl:Importing a function (__inference_res_net_layer_call_and_return_conditional_losses_416996) with ops with custom gradients. Will likely fail if a gradient is requested.\n",
      "WARNING:absl:Importing a function (__inference_res_net_layer_call_and_return_conditional_losses_416996) with ops with custom gradients. Will likely fail if a gradient is requested.\n",
      "WARNING:absl:Importing a function (__inference_res_net_layer_call_and_return_conditional_losses_416996) with ops with custom gradients. Will likely fail if a gradient is requested.\n",
      "WARNING:absl:Importing a function (__inference_res_net_layer_call_and_return_conditional_losses_416996) with ops with custom gradients. Will likely fail if a gradient is requested.\n"
     ]
    },
    {
     "name": "stderr",
     "output_type": "stream",
     "text": [
      "WARNING:absl:Importing a function (__inference_res_net_layer_call_and_return_conditional_losses_416996) with ops with custom gradients. Will likely fail if a gradient is requested.\n",
      "WARNING:absl:Importing a function (__inference_res_net_layer_call_and_return_conditional_losses_416996) with ops with custom gradients. Will likely fail if a gradient is requested.\n",
      "WARNING:absl:Importing a function (__inference_res_net_layer_call_and_return_conditional_losses_416996) with ops with custom gradients. Will likely fail if a gradient is requested.\n",
      "WARNING:absl:Importing a function (__inference_res_net_layer_call_and_return_conditional_losses_416996) with ops with custom gradients. Will likely fail if a gradient is requested.\n",
      "WARNING:absl:Importing a function (__inference_res_net_layer_call_and_return_conditional_losses_416996) with ops with custom gradients. Will likely fail if a gradient is requested.\n",
      "WARNING:absl:Importing a function (__inference_res_net_layer_call_and_return_conditional_losses_416996) with ops with custom gradients. Will likely fail if a gradient is requested.\n",
      "WARNING:absl:Importing a function (__inference_res_net_layer_call_and_return_conditional_losses_416996) with ops with custom gradients. Will likely fail if a gradient is requested.\n",
      "WARNING:absl:Importing a function (__inference_res_net_layer_call_and_return_conditional_losses_416996) with ops with custom gradients. Will likely fail if a gradient is requested.\n",
      "WARNING:absl:Importing a function (__inference_res_net_layer_call_and_return_conditional_losses_416996) with ops with custom gradients. Will likely fail if a gradient is requested.\n",
      "WARNING:absl:Importing a function (__inference_res_net_layer_call_and_return_conditional_losses_416996) with ops with custom gradients. Will likely fail if a gradient is requested.\n",
      "WARNING:absl:Importing a function (__inference_res_net_layer_call_and_return_conditional_losses_416996) with ops with custom gradients. Will likely fail if a gradient is requested.\n",
      "WARNING:absl:Importing a function (__inference_res_net_layer_call_and_return_conditional_losses_416996) with ops with custom gradients. Will likely fail if a gradient is requested.\n",
      "WARNING:absl:Importing a function (__inference_res_net_layer_call_and_return_conditional_losses_416996) with ops with custom gradients. Will likely fail if a gradient is requested.\n",
      "WARNING:absl:Importing a function (__inference_res_net_layer_call_and_return_conditional_losses_416996) with ops with custom gradients. Will likely fail if a gradient is requested.\n",
      "WARNING:absl:Importing a function (__inference_res_net_layer_call_and_return_conditional_losses_416996) with ops with custom gradients. Will likely fail if a gradient is requested.\n",
      "WARNING:absl:Importing a function (__inference_res_net_layer_call_and_return_conditional_losses_416996) with ops with custom gradients. Will likely fail if a gradient is requested.\n",
      "WARNING:absl:Importing a function (__inference_res_net_layer_call_and_return_conditional_losses_416996) with ops with custom gradients. Will likely fail if a gradient is requested.\n",
      "WARNING:absl:Importing a function (__inference_res_net_layer_call_and_return_conditional_losses_416996) with ops with custom gradients. Will likely fail if a gradient is requested.\n",
      "WARNING:absl:Importing a function (__inference_res_net_layer_call_and_return_conditional_losses_416996) with ops with custom gradients. Will likely fail if a gradient is requested.\n",
      "WARNING:absl:Importing a function (__inference_res_net_layer_call_and_return_conditional_losses_416996) with ops with custom gradients. Will likely fail if a gradient is requested.\n",
      "WARNING:absl:Importing a function (__inference_res_net_layer_call_and_return_conditional_losses_416996) with ops with custom gradients. Will likely fail if a gradient is requested.\n",
      "WARNING:absl:Importing a function (__inference_res_net_layer_call_and_return_conditional_losses_416996) with ops with custom gradients. Will likely fail if a gradient is requested.\n",
      "WARNING:absl:Importing a function (__inference_res_net_layer_call_and_return_conditional_losses_416996) with ops with custom gradients. Will likely fail if a gradient is requested.\n",
      "WARNING:absl:Importing a function (__inference_res_net_layer_call_and_return_conditional_losses_416996) with ops with custom gradients. Will likely fail if a gradient is requested.\n",
      "WARNING:absl:Importing a function (__inference_res_net_layer_call_and_return_conditional_losses_416996) with ops with custom gradients. Will likely fail if a gradient is requested.\n",
      "WARNING:absl:Importing a function (__inference_res_net_layer_call_and_return_conditional_losses_416996) with ops with custom gradients. Will likely fail if a gradient is requested.\n",
      "WARNING:absl:Importing a function (__inference_res_net_layer_call_and_return_conditional_losses_416996) with ops with custom gradients. Will likely fail if a gradient is requested.\n",
      "WARNING:absl:Importing a function (__inference_res_net_layer_call_and_return_conditional_losses_416996) with ops with custom gradients. Will likely fail if a gradient is requested.\n",
      "WARNING:absl:Importing a function (__inference_res_net_layer_call_and_return_conditional_losses_416996) with ops with custom gradients. Will likely fail if a gradient is requested.\n",
      "WARNING:absl:Importing a function (__inference_res_net_layer_call_and_return_conditional_losses_416996) with ops with custom gradients. Will likely fail if a gradient is requested.\n",
      "WARNING:absl:Importing a function (__inference_res_net_layer_call_and_return_conditional_losses_416996) with ops with custom gradients. Will likely fail if a gradient is requested.\n",
      "WARNING:absl:Importing a function (__inference_dens1_grasp_layer_call_and_return_conditional_losses_424000) with ops with custom gradients. Will likely fail if a gradient is requested.\n",
      "WARNING:absl:Importing a function (__inference_res_net_model_tp_layer_call_and_return_conditional_losses_412628) with ops with custom gradients. Will likely fail if a gradient is requested.\n",
      "WARNING:absl:Importing a function (__inference_res_net_model_tp_layer_call_and_return_conditional_losses_412628) with ops with custom gradients. Will likely fail if a gradient is requested.\n",
      "WARNING:absl:Importing a function (__inference_res_net_model_tp_layer_call_and_return_conditional_losses_412628) with ops with custom gradients. Will likely fail if a gradient is requested.\n",
      "WARNING:absl:Importing a function (__inference_res_net_model_tp_layer_call_and_return_conditional_losses_412628) with ops with custom gradients. Will likely fail if a gradient is requested.\n",
      "WARNING:absl:Importing a function (__inference_res_net_model_tp_layer_call_and_return_conditional_losses_412628) with ops with custom gradients. Will likely fail if a gradient is requested.\n",
      "WARNING:absl:Importing a function (__inference_res_net_model_tp_layer_call_and_return_conditional_losses_412628) with ops with custom gradients. Will likely fail if a gradient is requested.\n",
      "WARNING:absl:Importing a function (__inference_res_net_model_tp_layer_call_and_return_conditional_losses_412628) with ops with custom gradients. Will likely fail if a gradient is requested.\n",
      "WARNING:absl:Importing a function (__inference_res_net_model_tp_layer_call_and_return_conditional_losses_412628) with ops with custom gradients. Will likely fail if a gradient is requested.\n",
      "WARNING:absl:Importing a function (__inference_res_net_model_tp_layer_call_and_return_conditional_losses_412628) with ops with custom gradients. Will likely fail if a gradient is requested.\n",
      "WARNING:absl:Importing a function (__inference_res_net_model_tp_layer_call_and_return_conditional_losses_412628) with ops with custom gradients. Will likely fail if a gradient is requested.\n",
      "WARNING:absl:Importing a function (__inference_res_net_model_tp_layer_call_and_return_conditional_losses_412628) with ops with custom gradients. Will likely fail if a gradient is requested.\n",
      "WARNING:absl:Importing a function (__inference_res_net_model_tp_layer_call_and_return_conditional_losses_412628) with ops with custom gradients. Will likely fail if a gradient is requested.\n",
      "WARNING:absl:Importing a function (__inference_res_net_model_tp_layer_call_and_return_conditional_losses_412628) with ops with custom gradients. Will likely fail if a gradient is requested.\n"
     ]
    },
    {
     "name": "stderr",
     "output_type": "stream",
     "text": [
      "WARNING:absl:Importing a function (__inference_res_net_model_tp_layer_call_and_return_conditional_losses_412628) with ops with custom gradients. Will likely fail if a gradient is requested.\n",
      "WARNING:absl:Importing a function (__inference_res_net_model_tp_layer_call_and_return_conditional_losses_412628) with ops with custom gradients. Will likely fail if a gradient is requested.\n",
      "WARNING:absl:Importing a function (__inference_res_net_model_tp_layer_call_and_return_conditional_losses_412628) with ops with custom gradients. Will likely fail if a gradient is requested.\n",
      "WARNING:absl:Importing a function (__inference_res_net_model_tp_layer_call_and_return_conditional_losses_412628) with ops with custom gradients. Will likely fail if a gradient is requested.\n",
      "WARNING:absl:Importing a function (__inference_res_net_model_tp_layer_call_and_return_conditional_losses_412628) with ops with custom gradients. Will likely fail if a gradient is requested.\n",
      "WARNING:absl:Importing a function (__inference_res_net_model_tp_layer_call_and_return_conditional_losses_412628) with ops with custom gradients. Will likely fail if a gradient is requested.\n",
      "WARNING:absl:Importing a function (__inference_res_net_model_tp_layer_call_and_return_conditional_losses_412628) with ops with custom gradients. Will likely fail if a gradient is requested.\n",
      "WARNING:absl:Importing a function (__inference_res_net_model_tp_layer_call_and_return_conditional_losses_412628) with ops with custom gradients. Will likely fail if a gradient is requested.\n",
      "WARNING:absl:Importing a function (__inference_res_net_model_tp_layer_call_and_return_conditional_losses_412628) with ops with custom gradients. Will likely fail if a gradient is requested.\n",
      "WARNING:absl:Importing a function (__inference_res_net_model_tp_layer_call_and_return_conditional_losses_412628) with ops with custom gradients. Will likely fail if a gradient is requested.\n",
      "WARNING:absl:Importing a function (__inference_res_net_model_tp_layer_call_and_return_conditional_losses_412628) with ops with custom gradients. Will likely fail if a gradient is requested.\n",
      "WARNING:absl:Importing a function (__inference_res_net_model_tp_layer_call_and_return_conditional_losses_412628) with ops with custom gradients. Will likely fail if a gradient is requested.\n",
      "WARNING:absl:Importing a function (__inference_res_net_model_tp_layer_call_and_return_conditional_losses_412628) with ops with custom gradients. Will likely fail if a gradient is requested.\n",
      "WARNING:absl:Importing a function (__inference_res_net_model_tp_layer_call_and_return_conditional_losses_412628) with ops with custom gradients. Will likely fail if a gradient is requested.\n",
      "WARNING:absl:Importing a function (__inference_res_net_model_tp_layer_call_and_return_conditional_losses_412628) with ops with custom gradients. Will likely fail if a gradient is requested.\n",
      "WARNING:absl:Importing a function (__inference_res_net_model_tp_layer_call_and_return_conditional_losses_412628) with ops with custom gradients. Will likely fail if a gradient is requested.\n",
      "WARNING:absl:Importing a function (__inference_res_net_model_tp_layer_call_and_return_conditional_losses_412628) with ops with custom gradients. Will likely fail if a gradient is requested.\n",
      "WARNING:absl:Importing a function (__inference_res_net_model_tp_layer_call_and_return_conditional_losses_412628) with ops with custom gradients. Will likely fail if a gradient is requested.\n",
      "WARNING:absl:Importing a function (__inference_res_net_model_tp_layer_call_and_return_conditional_losses_412628) with ops with custom gradients. Will likely fail if a gradient is requested.\n",
      "WARNING:absl:Importing a function (__inference_res_net_model_tp_layer_call_and_return_conditional_losses_412628) with ops with custom gradients. Will likely fail if a gradient is requested.\n",
      "WARNING:absl:Importing a function (__inference_res_net_model_tp_layer_call_and_return_conditional_losses_412628) with ops with custom gradients. Will likely fail if a gradient is requested.\n",
      "WARNING:absl:Importing a function (__inference_res_net_model_tp_layer_call_and_return_conditional_losses_412628) with ops with custom gradients. Will likely fail if a gradient is requested.\n",
      "WARNING:absl:Importing a function (__inference_res_net_model_tp_layer_call_and_return_conditional_losses_412628) with ops with custom gradients. Will likely fail if a gradient is requested.\n",
      "WARNING:absl:Importing a function (__inference_res_net_model_tp_layer_call_and_return_conditional_losses_412628) with ops with custom gradients. Will likely fail if a gradient is requested.\n",
      "WARNING:absl:Importing a function (__inference_res_net_model_tp_layer_call_and_return_conditional_losses_412628) with ops with custom gradients. Will likely fail if a gradient is requested.\n",
      "WARNING:absl:Importing a function (__inference_res_net_model_tp_layer_call_and_return_conditional_losses_412628) with ops with custom gradients. Will likely fail if a gradient is requested.\n",
      "WARNING:absl:Importing a function (__inference_res_net_model_tp_layer_call_and_return_conditional_losses_412628) with ops with custom gradients. Will likely fail if a gradient is requested.\n",
      "WARNING:absl:Importing a function (__inference_res_net_model_tp_layer_call_and_return_conditional_losses_412628) with ops with custom gradients. Will likely fail if a gradient is requested.\n",
      "WARNING:absl:Importing a function (__inference_res_net_model_tp_layer_call_and_return_conditional_losses_412628) with ops with custom gradients. Will likely fail if a gradient is requested.\n",
      "WARNING:absl:Importing a function (__inference_res_net_model_tp_layer_call_and_return_conditional_losses_412628) with ops with custom gradients. Will likely fail if a gradient is requested.\n",
      "WARNING:absl:Importing a function (__inference_res_net_model_tp_layer_call_and_return_conditional_losses_412628) with ops with custom gradients. Will likely fail if a gradient is requested.\n",
      "WARNING:absl:Importing a function (__inference_res_net_model_tp_layer_call_and_return_conditional_losses_412628) with ops with custom gradients. Will likely fail if a gradient is requested.\n",
      "WARNING:absl:Importing a function (__inference_res_net_model_tp_layer_call_and_return_conditional_losses_412628) with ops with custom gradients. Will likely fail if a gradient is requested.\n",
      "WARNING:absl:Importing a function (__inference_res_net_model_tp_layer_call_and_return_conditional_losses_412628) with ops with custom gradients. Will likely fail if a gradient is requested.\n",
      "WARNING:absl:Importing a function (__inference_res_net_model_tp_layer_call_and_return_conditional_losses_412628) with ops with custom gradients. Will likely fail if a gradient is requested.\n",
      "WARNING:absl:Importing a function (__inference_res_net_model_tp_layer_call_and_return_conditional_losses_412628) with ops with custom gradients. Will likely fail if a gradient is requested.\n",
      "WARNING:absl:Importing a function (__inference_res_net_model_tp_layer_call_and_return_conditional_losses_412628) with ops with custom gradients. Will likely fail if a gradient is requested.\n",
      "WARNING:absl:Importing a function (__inference_res_net_model_tp_layer_call_and_return_conditional_losses_412628) with ops with custom gradients. Will likely fail if a gradient is requested.\n",
      "WARNING:absl:Importing a function (__inference_res_net_model_tp_layer_call_and_return_conditional_losses_412628) with ops with custom gradients. Will likely fail if a gradient is requested.\n",
      "WARNING:absl:Importing a function (__inference_res_net_model_tp_layer_call_and_return_conditional_losses_412628) with ops with custom gradients. Will likely fail if a gradient is requested.\n",
      "WARNING:absl:Importing a function (__inference_res_net_model_tp_layer_call_and_return_conditional_losses_412628) with ops with custom gradients. Will likely fail if a gradient is requested.\n",
      "WARNING:absl:Importing a function (__inference_res_net_model_tp_layer_call_and_return_conditional_losses_412628) with ops with custom gradients. Will likely fail if a gradient is requested.\n",
      "WARNING:absl:Importing a function (__inference_res_net_model_tp_layer_call_and_return_conditional_losses_412628) with ops with custom gradients. Will likely fail if a gradient is requested.\n",
      "WARNING:absl:Importing a function (__inference_res_net_model_tp_layer_call_and_return_conditional_losses_412628) with ops with custom gradients. Will likely fail if a gradient is requested.\n"
     ]
    },
    {
     "name": "stderr",
     "output_type": "stream",
     "text": [
      "WARNING:absl:Importing a function (__inference_res_net_model_tp_layer_call_and_return_conditional_losses_412628) with ops with custom gradients. Will likely fail if a gradient is requested.\n",
      "WARNING:absl:Importing a function (__inference_res_net_model_tp_layer_call_and_return_conditional_losses_412628) with ops with custom gradients. Will likely fail if a gradient is requested.\n",
      "WARNING:absl:Importing a function (__inference_res_net_model_tp_layer_call_and_return_conditional_losses_412628) with ops with custom gradients. Will likely fail if a gradient is requested.\n",
      "WARNING:absl:Importing a function (__inference_res_net_model_tp_layer_call_and_return_conditional_losses_412628) with ops with custom gradients. Will likely fail if a gradient is requested.\n",
      "WARNING:absl:Importing a function (__inference_res_net_model_tp_layer_call_and_return_conditional_losses_412628) with ops with custom gradients. Will likely fail if a gradient is requested.\n",
      "WARNING:absl:Importing a function (__inference_res_net_model_tp_layer_call_and_return_conditional_losses_412628) with ops with custom gradients. Will likely fail if a gradient is requested.\n",
      "WARNING:absl:Importing a function (__inference_res_net_model_tp_layer_call_and_return_conditional_losses_412628) with ops with custom gradients. Will likely fail if a gradient is requested.\n",
      "WARNING:absl:Importing a function (__inference_res_net_model_tp_layer_call_and_return_conditional_losses_412628) with ops with custom gradients. Will likely fail if a gradient is requested.\n",
      "WARNING:absl:Importing a function (__inference_res_net_model_tp_layer_call_and_return_conditional_losses_412628) with ops with custom gradients. Will likely fail if a gradient is requested.\n",
      "WARNING:absl:Importing a function (__inference_res_net_model_tp_layer_call_and_return_conditional_losses_412628) with ops with custom gradients. Will likely fail if a gradient is requested.\n",
      "WARNING:absl:Importing a function (__inference_res_net_model_tp_layer_call_and_return_conditional_losses_412628) with ops with custom gradients. Will likely fail if a gradient is requested.\n",
      "WARNING:absl:Importing a function (__inference_res_net_model_tp_layer_call_and_return_conditional_losses_412628) with ops with custom gradients. Will likely fail if a gradient is requested.\n",
      "WARNING:absl:Importing a function (__inference_res_net_model_tp_layer_call_and_return_conditional_losses_412628) with ops with custom gradients. Will likely fail if a gradient is requested.\n",
      "WARNING:absl:Importing a function (__inference_res_net_model_tp_layer_call_and_return_conditional_losses_412628) with ops with custom gradients. Will likely fail if a gradient is requested.\n",
      "WARNING:absl:Importing a function (__inference_res_net_model_tp_layer_call_and_return_conditional_losses_412628) with ops with custom gradients. Will likely fail if a gradient is requested.\n",
      "WARNING:absl:Importing a function (__inference_res_net_model_tp_layer_call_and_return_conditional_losses_412628) with ops with custom gradients. Will likely fail if a gradient is requested.\n",
      "WARNING:absl:Importing a function (__inference_res_net_model_tp_layer_call_and_return_conditional_losses_412628) with ops with custom gradients. Will likely fail if a gradient is requested.\n",
      "WARNING:absl:Importing a function (__inference_res_net_model_tp_layer_call_and_return_conditional_losses_412628) with ops with custom gradients. Will likely fail if a gradient is requested.\n",
      "WARNING:absl:Importing a function (__inference_res_net_model_tp_layer_call_and_return_conditional_losses_412628) with ops with custom gradients. Will likely fail if a gradient is requested.\n",
      "WARNING:absl:Importing a function (__inference_res_net_model_tp_layer_call_and_return_conditional_losses_412628) with ops with custom gradients. Will likely fail if a gradient is requested.\n",
      "WARNING:absl:Importing a function (__inference_res_net_model_tp_layer_call_and_return_conditional_losses_412628) with ops with custom gradients. Will likely fail if a gradient is requested.\n",
      "WARNING:absl:Importing a function (__inference_res_net_model_tp_layer_call_and_return_conditional_losses_412628) with ops with custom gradients. Will likely fail if a gradient is requested.\n",
      "WARNING:absl:Importing a function (__inference_res_net_model_tp_layer_call_and_return_conditional_losses_412628) with ops with custom gradients. Will likely fail if a gradient is requested.\n",
      "WARNING:absl:Importing a function (__inference_res_net_model_tp_layer_call_and_return_conditional_losses_412628) with ops with custom gradients. Will likely fail if a gradient is requested.\n",
      "WARNING:absl:Importing a function (__inference_res_net_model_tp_layer_call_and_return_conditional_losses_412628) with ops with custom gradients. Will likely fail if a gradient is requested.\n",
      "WARNING:absl:Importing a function (__inference_res_net_model_tp_layer_call_and_return_conditional_losses_412628) with ops with custom gradients. Will likely fail if a gradient is requested.\n",
      "WARNING:absl:Importing a function (__inference_res_net_model_tp_layer_call_and_return_conditional_losses_412628) with ops with custom gradients. Will likely fail if a gradient is requested.\n",
      "WARNING:absl:Importing a function (__inference_res_net_model_tp_layer_call_and_return_conditional_losses_412628) with ops with custom gradients. Will likely fail if a gradient is requested.\n",
      "WARNING:absl:Importing a function (__inference_res_net_model_tp_layer_call_and_return_conditional_losses_412628) with ops with custom gradients. Will likely fail if a gradient is requested.\n",
      "WARNING:absl:Importing a function (__inference_res_net_model_tp_layer_call_and_return_conditional_losses_412628) with ops with custom gradients. Will likely fail if a gradient is requested.\n",
      "WARNING:absl:Importing a function (__inference_res_net_model_tp_layer_call_and_return_conditional_losses_412628) with ops with custom gradients. Will likely fail if a gradient is requested.\n",
      "WARNING:absl:Importing a function (__inference_res_net_model_tp_layer_call_and_return_conditional_losses_412628) with ops with custom gradients. Will likely fail if a gradient is requested.\n",
      "WARNING:absl:Importing a function (__inference_res_net_model_tp_layer_call_and_return_conditional_losses_412628) with ops with custom gradients. Will likely fail if a gradient is requested.\n",
      "WARNING:absl:Importing a function (__inference_res_net_model_tp_layer_call_and_return_conditional_losses_412628) with ops with custom gradients. Will likely fail if a gradient is requested.\n",
      "WARNING:absl:Importing a function (__inference_res_net_model_tp_layer_call_and_return_conditional_losses_412628) with ops with custom gradients. Will likely fail if a gradient is requested.\n",
      "WARNING:absl:Importing a function (__inference_res_net_model_tp_layer_call_and_return_conditional_losses_412628) with ops with custom gradients. Will likely fail if a gradient is requested.\n",
      "WARNING:absl:Importing a function (__inference_res_net_model_tp_layer_call_and_return_conditional_losses_412628) with ops with custom gradients. Will likely fail if a gradient is requested.\n",
      "WARNING:absl:Importing a function (__inference_res_net_model_tp_layer_call_and_return_conditional_losses_412628) with ops with custom gradients. Will likely fail if a gradient is requested.\n",
      "WARNING:absl:Importing a function (__inference_res_net_model_tp_layer_call_and_return_conditional_losses_412628) with ops with custom gradients. Will likely fail if a gradient is requested.\n",
      "WARNING:absl:Importing a function (__inference_res_net_model_tp_layer_call_and_return_conditional_losses_412628) with ops with custom gradients. Will likely fail if a gradient is requested.\n",
      "WARNING:absl:Importing a function (__inference_res_net_model_tp_layer_call_and_return_conditional_losses_412628) with ops with custom gradients. Will likely fail if a gradient is requested.\n",
      "WARNING:absl:Importing a function (__inference_res_net_model_tp_layer_call_and_return_conditional_losses_412628) with ops with custom gradients. Will likely fail if a gradient is requested.\n",
      "WARNING:absl:Importing a function (__inference_res_net_model_tp_layer_call_and_return_conditional_losses_412628) with ops with custom gradients. Will likely fail if a gradient is requested.\n",
      "WARNING:absl:Importing a function (__inference_res_net_model_tp_layer_call_and_return_conditional_losses_412628) with ops with custom gradients. Will likely fail if a gradient is requested.\n"
     ]
    },
    {
     "name": "stderr",
     "output_type": "stream",
     "text": [
      "WARNING:absl:Importing a function (__inference_res_net_model_tp_layer_call_and_return_conditional_losses_412628) with ops with custom gradients. Will likely fail if a gradient is requested.\n"
     ]
    },
    {
     "name": "stdout",
     "output_type": "stream",
     "text": [
      "WARNING:tensorflow:No training configuration found in save file, so the model was *not* compiled. Compile it manually.\n"
     ]
    },
    {
     "name": "stderr",
     "output_type": "stream",
     "text": [
      "WARNING:tensorflow:No training configuration found in save file, so the model was *not* compiled. Compile it manually.\n"
     ]
    }
   ],
   "source": [
    "import tensorflow as tf\n",
    "model = tf.keras.models.load_model(model_log_dir)"
   ]
  },
  {
   "cell_type": "code",
   "execution_count": 9,
   "metadata": {},
   "outputs": [],
   "source": [
    "test_loss = tf.keras.metrics.Mean(name='test_loss')\n",
    "test_accuracy = tf.keras.metrics.BinaryAccuracy(name='test_accuracy')\n",
    "loss_object = tf.keras.losses.BinaryCrossentropy()\n",
    "@tf.function\n",
    "def test_step(images, labels):\n",
    "    # training=False is only needed if there are layers with different\n",
    "    # behavior during training versus inference (e.g. Dropout).\n",
    "    predictions = model(images, training=False)\n",
    "    t_loss = loss_object(labels, predictions)\n",
    "\n",
    "    test_loss(t_loss)\n",
    "    test_accuracy(labels, predictions)"
   ]
  },
  {
   "cell_type": "code",
   "execution_count": 10,
   "metadata": {},
   "outputs": [
    {
     "name": "stdout",
     "output_type": "stream",
     "text": [
      "test step - 4000/4007        \n",
      "=================================================================\n",
      "Test Loss: 0.3462647497653961, Test Accuracy: 87.7125015258789\n",
      "=================================================================\n",
      "\n"
     ]
    }
   ],
   "source": [
    "BATCH_SIZE = 16\n",
    "LOG_STEP = 100\n",
    "N_test = len(data_pairs_test)\n",
    "# Reset the metrics at the start of the next epoch\n",
    "test_loss.reset_states()\n",
    "test_accuracy.reset_states()\n",
    "\n",
    "i_step = 0\n",
    "data_batch, label_batch = [], []\n",
    "for data_pair in data_pairs_test:\n",
    "    i_step += 1\n",
    "    grasp_img, arm_img, rh_mask, label = load_data(data_pair)\n",
    "    data_batch.append([grasp_img, arm_img, rh_mask])\n",
    "    label_batch.append(label)\n",
    "    if i_step%BATCH_SIZE==0:\n",
    "        grasp_img_batch = np.array([grasp_img for grasp_img, arm_img, rh_mask in data_batch])\n",
    "        arm_img_batch = np.array([arm_img for grasp_img, arm_img, rh_mask in data_batch])\n",
    "        rh_mask_batch = np.array([rh_mask for grasp_img, arm_img, rh_mask in data_batch])\n",
    "        label_batch = np.array(label_batch, dtype=np.int)\n",
    "        test_step([grasp_img_batch, arm_img_batch, rh_mask_batch], label_batch)\n",
    "        data_batch, label_batch = [], []\n",
    "    if i_step%LOG_STEP==0:\n",
    "        print(\"test step - {}/{}        \".format(i_step, N_test), end = '\\r')\n",
    "\n",
    "print(\"\")\n",
    "print(\"=================================================================\")\n",
    "print(\n",
    "    f'Test Loss: {test_loss.result()}, '\n",
    "    f'Test Accuracy: {test_accuracy.result() * 100}'\n",
    ")\n",
    "print(\"=================================================================\")\n",
    "print(\"\")"
   ]
  },
  {
   "cell_type": "code",
   "execution_count": 11,
   "metadata": {},
   "outputs": [
    {
     "name": "stdout",
     "output_type": "stream",
     "text": [
      "test step - 1700/4007        \n",
      "=================================================================\n",
      "True Test Loss: 0.23901958763599396, True Test Accuracy: 92.37385559082031\n",
      "=================================================================\n",
      "\n"
     ]
    }
   ],
   "source": [
    "BATCH_SIZE = 16\n",
    "LOG_STEP = 100\n",
    "N_test = len(data_pairs_test)\n",
    "# Reset the metrics at the start of the next epoch\n",
    "test_loss.reset_states()\n",
    "test_accuracy.reset_states()\n",
    "\n",
    "i_step = 0\n",
    "data_batch, label_batch = [], []\n",
    "for data_pair in data_pairs_test:\n",
    "    grasp_img, arm_img, rh_mask, label = load_data(data_pair)\n",
    "    if not label[-1]:\n",
    "        continue\n",
    "    i_step += 1\n",
    "    data_batch.append([grasp_img, arm_img, rh_mask])\n",
    "    label_batch.append(label)\n",
    "    if i_step%BATCH_SIZE==0:\n",
    "        grasp_img_batch = np.array([grasp_img for grasp_img, arm_img, rh_mask in data_batch])\n",
    "        arm_img_batch = np.array([arm_img for grasp_img, arm_img, rh_mask in data_batch])\n",
    "        rh_mask_batch = np.array([rh_mask for grasp_img, arm_img, rh_mask in data_batch])\n",
    "        label_batch = np.array(label_batch, dtype=np.int)\n",
    "        test_step([grasp_img_batch, arm_img_batch, rh_mask_batch], label_batch)\n",
    "        data_batch, label_batch = [], []\n",
    "    if i_step%LOG_STEP==0:\n",
    "        print(\"test step - {}/{}        \".format(i_step, N_test), end = '\\r')\n",
    "\n",
    "print(\"\")\n",
    "print(\"=================================================================\")\n",
    "print(\n",
    "    f'True Test Loss: {test_loss.result()}, '\n",
    "    f'True Test Accuracy: {test_accuracy.result() * 100}'\n",
    ")\n",
    "print(\"=================================================================\")\n",
    "print(\"\")"
   ]
  },
  {
   "cell_type": "code",
   "execution_count": 12,
   "metadata": {},
   "outputs": [
    {
     "name": "stdout",
     "output_type": "stream",
     "text": [
      "test step - 2200/4007        \n",
      "=================================================================\n",
      "False Test Loss: 0.4292084872722626, False Test Accuracy: 84.10904693603516\n",
      "=================================================================\n",
      "\n"
     ]
    }
   ],
   "source": [
    "BATCH_SIZE = 16\n",
    "LOG_STEP = 100\n",
    "N_test = len(data_pairs_test)\n",
    "# Reset the metrics at the start of the next epoch\n",
    "test_loss.reset_states()\n",
    "test_accuracy.reset_states()\n",
    "\n",
    "i_step = 0\n",
    "data_batch, label_batch = [], []\n",
    "for data_pair in data_pairs_test:\n",
    "    grasp_img, arm_img, rh_mask, label = load_data(data_pair)\n",
    "    if label[-1]:\n",
    "        continue\n",
    "    i_step += 1\n",
    "    data_batch.append([grasp_img, arm_img, rh_mask])\n",
    "    label_batch.append(label)\n",
    "    if i_step%BATCH_SIZE==0:\n",
    "        grasp_img_batch = np.array([grasp_img for grasp_img, arm_img, rh_mask in data_batch])\n",
    "        arm_img_batch = np.array([arm_img for grasp_img, arm_img, rh_mask in data_batch])\n",
    "        rh_mask_batch = np.array([rh_mask for grasp_img, arm_img, rh_mask in data_batch])\n",
    "        label_batch = np.array(label_batch, dtype=np.int)\n",
    "        test_step([grasp_img_batch, arm_img_batch, rh_mask_batch], label_batch)\n",
    "        data_batch, label_batch = [], []\n",
    "    if i_step%LOG_STEP==0:\n",
    "        print(\"test step - {}/{}        \".format(i_step, N_test), end = '\\r')\n",
    "\n",
    "print(\"\")\n",
    "print(\"=================================================================\")\n",
    "print(\n",
    "    f'False Test Loss: {test_loss.result()}, '\n",
    "    f'False Test Accuracy: {test_accuracy.result() * 100}'\n",
    ")\n",
    "print(\"=================================================================\")\n",
    "print(\"\")"
   ]
  },
  {
   "cell_type": "code",
   "execution_count": null,
   "metadata": {},
   "outputs": [],
   "source": []
  },
  {
   "cell_type": "code",
   "execution_count": null,
   "metadata": {},
   "outputs": [],
   "source": []
  },
  {
   "cell_type": "code",
   "execution_count": null,
   "metadata": {},
   "outputs": [],
   "source": []
  },
  {
   "cell_type": "markdown",
   "metadata": {},
   "source": [
    "## test on shared array"
   ]
  },
  {
   "cell_type": "code",
   "execution_count": 18,
   "metadata": {},
   "outputs": [],
   "source": [
    "import SharedArray as sa\n",
    "BATCH_SIZE = 1\n",
    "SERVER_PERIOD = 1e-2\n",
    "# Create an array in shared memory.\n",
    "robot_type_p = sa.attach(\"shm://robot_type\")\n",
    "grasp_img_p = sa.attach(\"shm://grasp_img\")\n",
    "arm_img_p = sa.attach(\"shm://arm_img\")\n",
    "rh_mask_p = sa.attach(\"shm://rh_mask\")\n",
    "result_p = sa.attach(\"shm://result\")\n",
    "query_in = sa.attach(\"shm://query_in\")\n",
    "response_out = sa.attach(\"shm://response_out\")\n",
    "query_quit = sa.attach(\"shm://query_quit\")\n",
    "\n",
    "def query_wait_response(grasp_img_batch, arm_img_batch, rh_mask_batch):\n",
    "    grasp_img_p[:] = grasp_img_batch[:]\n",
    "    arm_img_p[:] = arm_img_batch[:]\n",
    "    rh_mask_p[:] = rh_mask_batch[:]\n",
    "    query_in[0] = True\n",
    "    while not response_out[0]:\n",
    "        time.sleep(SERVER_PERIOD)\n",
    "    response_out[0] = False\n",
    "    return np.copy(result_p)\n",
    "\n",
    "def quit_shared_server():\n",
    "    query_quit[0] = True"
   ]
  },
  {
   "cell_type": "code",
   "execution_count": 39,
   "metadata": {},
   "outputs": [
    {
     "name": "stdout",
     "output_type": "stream",
     "text": [
      "test step - 1000/1004        \r"
     ]
    }
   ],
   "source": [
    "LOG_STEP = 100\n",
    "N_test = len(data_pairs_test)\n",
    "\n",
    "i_step = 0\n",
    "data_batch, label_batch = [], []\n",
    "result_list = []\n",
    "label_list = []\n",
    "for data_pair in data_pairs_test:\n",
    "    i_step += 1\n",
    "    grasp_img, arm_img, rh_mask, label = load_data(data_pair)\n",
    "    data_batch.append([grasp_img, arm_img, rh_mask])\n",
    "    label_batch.append(label)\n",
    "    if i_step%BATCH_SIZE==0:\n",
    "        grasp_img_batch = np.array([grasp_img for grasp_img, arm_img, rh_mask in data_batch])\n",
    "        arm_img_batch = np.array([arm_img for grasp_img, arm_img, rh_mask in data_batch])\n",
    "        rh_mask_batch = np.array([rh_mask for grasp_img, arm_img, rh_mask in data_batch])\n",
    "        label_batch = np.array(label_batch, dtype=np.int)\n",
    "        result = query_wait_response(grasp_img_batch, arm_img_batch, rh_mask_batch)\n",
    "        result_list.append(result)\n",
    "        label_list.append(label_batch)\n",
    "        data_batch, label_batch = [], []\n",
    "    if i_step%LOG_STEP==0:\n",
    "        print(\"test step - {}/{}        \".format(i_step, N_test), end = '\\r')"
   ]
  },
  {
   "cell_type": "code",
   "execution_count": 40,
   "metadata": {},
   "outputs": [],
   "source": [
    "result_all = np.array(result_list)\n",
    "label_all = np.array(label_list)"
   ]
  },
  {
   "cell_type": "code",
   "execution_count": 44,
   "metadata": {},
   "outputs": [
    {
     "data": {
      "text/plain": [
       "array([[0.85458167, 0.84960159]])"
      ]
     },
     "execution_count": 44,
     "metadata": {},
     "output_type": "execute_result"
    }
   ],
   "source": [
    "np.mean(np.round(result_all).astype(np.int) == label_all.astype(np.int), axis=0)"
   ]
  },
  {
   "cell_type": "code",
   "execution_count": 45,
   "metadata": {},
   "outputs": [],
   "source": [
    "quit_shared_server()"
   ]
  },
  {
   "cell_type": "code",
   "execution_count": null,
   "metadata": {},
   "outputs": [],
   "source": []
  },
  {
   "cell_type": "code",
   "execution_count": null,
   "metadata": {},
   "outputs": [],
   "source": []
  },
  {
   "cell_type": "markdown",
   "metadata": {},
   "source": [
    "## save gridded data"
   ]
  },
  {
   "cell_type": "code",
   "execution_count": 7,
   "metadata": {},
   "outputs": [],
   "source": [
    "data_pair = data_pairs_test[0]\n",
    "grasp_data = load_pickle(data_pair[0])\n",
    "arm_data = load_pickle(data_pair[1])\n",
    "grasp_tar_idx = grasp_data[b'tar']\n",
    "grasp_tool_idx = grasp_data[b'tool']\n",
    "arm_tar_idx = arm_data[b'tar']\n",
    "Tee = grasp_data[b'T_end_effector']\n",
    "Tej = grasp_data[b'T_end_joint']\n",
    "Tref_base = grasp_data[b'Tref_base']\n",
    "reach_lb = grasp_data[b'reach']\n",
    "retrieve_lb = grasp_data[b'retrieve']\n",
    "r, th, h = cart2cyl(*Tee[:3,3])\n",
    "r_ej, th, h_ej = cart2cyl(*Tej[:3,3])\n",
    "r_class = div_r(r_ej)\n",
    "h_class = div_h(h_ej)\n",
    "r_mask = np.zeros(RH_MASK_SIZE)\n",
    "r_mask[r_class*RH_MASK_STEP:r_class*RH_MASK_STEP+RH_MASK_STEP] = 1\n",
    "h_mask = np.zeros(RH_MASK_SIZE)\n",
    "h_mask[h_class*RH_MASK_STEP:h_class*RH_MASK_STEP+RH_MASK_STEP] = 1\n",
    "rh_mask = np.concatenate([r_mask, h_mask])\n",
    "# r_ej_list.append(r_ej)\n",
    "# h_ej_list.append(h_ej)\n",
    "# reach_lb_list.append(reach_lb)\n",
    "Tref = SE3(Rot_axis(3, th), Tee[:3,3])\n",
    "grasp_tool_img = np.zeros(GRASP_SHAPE)\n",
    "grasp_tar_img = np.zeros(GRASP_SHAPE)\n",
    "grasp_tool_img[np.unravel_index(grasp_tool_idx, shape=GRASP_SHAPE)] = 1\n",
    "grasp_tar_img[np.unravel_index(grasp_tar_idx, shape=GRASP_SHAPE)] = 1\n",
    "arm_img = np.zeros(ARM_SHAPE+(1,))\n",
    "arm_img[np.unravel_index(arm_tar_idx, shape=ARM_SHAPE)] = 1\n",
    "grasp_img = np.stack([grasp_tool_img, grasp_tar_img], axis=-1)"
   ]
  },
  {
   "cell_type": "code",
   "execution_count": 10,
   "metadata": {},
   "outputs": [],
   "source": [
    "# save_json(\"tar_arm.json\", np.array(np.unravel_index(arm_tar_idx, shape=ARM_SHAPE)).transpose())"
   ]
  },
  {
   "cell_type": "code",
   "execution_count": 8,
   "metadata": {},
   "outputs": [],
   "source": [
    "# save_json(\"tool_effector.json\", np.array(np.unravel_index(grasp_tool_idx, shape=GRASP_SHAPE)).transpose())\n",
    "# save_json(\"tar_effector.json\", np.array(np.unravel_index(grasp_tar_idx, shape=GRASP_SHAPE)).transpose())"
   ]
  },
  {
   "cell_type": "code",
   "execution_count": null,
   "metadata": {},
   "outputs": [],
   "source": []
  },
  {
   "cell_type": "markdown",
   "metadata": {},
   "source": [
    "## visualize r, h class distribution"
   ]
  },
  {
   "cell_type": "code",
   "execution_count": 102,
   "metadata": {
    "scrolled": true
   },
   "outputs": [
    {
     "data": {
      "text/plain": [
       "[<matplotlib.lines.Line2D at 0x7f28ec304d30>]"
      ]
     },
     "execution_count": 102,
     "metadata": {},
     "output_type": "execute_result"
    },
    {
     "data": {
      "image/png": "[encoded data removed]",
      "text/plain": [
       "<Figure size 432x288 with 1 Axes>"
      ]
     },
     "metadata": {},
     "output_type": "display_data"
    }
   ],
   "source": [
    "import matplotlib.pyplot as plt\n",
    "plt.plot(sorted([div_r(r_ej_) for r_ej_ in r_ej_list]), '.')\n",
    "plt.plot(sorted([div_h(h_ej_) for h_ej_ in h_ej_list]), '.')"
   ]
  },
  {
   "cell_type": "code",
   "execution_count": null,
   "metadata": {},
   "outputs": [],
   "source": []
  }
 ],
 "metadata": {
  "kernelspec": {
   "display_name": "Python 3",
   "language": "python",
   "name": "python3"
  },
  "language_info": {
   "codemirror_mode": {
    "name": "ipython",
    "version": 3
   },
   "file_extension": ".py",
   "mimetype": "text/x-python",
   "name": "python",
   "nbconvert_exporter": "python",
   "pygments_lexer": "ipython3",
   "version": "3.6.9"
  }
 },
 "nbformat": 4,
 "nbformat_minor": 2
}
