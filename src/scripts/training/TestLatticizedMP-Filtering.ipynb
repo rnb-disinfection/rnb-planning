{
 "cells": [
  {
   "cell_type": "markdown",
   "metadata": {},
   "source": [
    "## 수정사항\n",
    "#### 2021.06.04\n",
    "* Gripper 자유도 45도로 제한됨에 따라 파지점 방향 수정, 바닥 파지면은 삭제"
   ]
  },
  {
   "cell_type": "markdown",
   "metadata": {},
   "source": [
    "## set running directory"
   ]
  },
  {
   "cell_type": "code",
   "execution_count": 1,
   "metadata": {},
   "outputs": [],
   "source": [
    "from __future__ import print_function\n",
    "import os\n",
    "os.chdir(os.path.join(os.environ[\"RNB_PLANNING_DIR\"], 'src'))"
   ]
  },
  {
   "cell_type": "code",
   "execution_count": 2,
   "metadata": {},
   "outputs": [],
   "source": [
    "from pkg.controller.combined_robot import *\n",
    "from pkg.utils.utils import get_now, try_mkdir\n",
    "\n",
    "\n",
    "DATA_PATH = os.path.join(os.environ['RNB_PLANNING_DIR'], \"data\")\n",
    "try_mkdir(DATA_PATH)\n",
    "\n",
    "ALG_DATA_PATH = os.path.join(DATA_PATH, \"latticized\")\n",
    "try_mkdir(ALG_DATA_PATH)"
   ]
  },
  {
   "cell_type": "code",
   "execution_count": null,
   "metadata": {},
   "outputs": [],
   "source": []
  },
  {
   "cell_type": "code",
   "execution_count": 3,
   "metadata": {},
   "outputs": [],
   "source": [
    "VISUALIZE = False\n",
    "TIMEOUT_REACH = 30\n",
    "TIMEOUT_RETRIEVE = 30\n",
    "TIMEOUT_SELF = 1\n",
    "CLEARANCE = 1e-3\n",
    "\n",
    "ROBOT_TYPE = RobotType.indy7\n",
    "ROBOT_NAME = \"indy0\"\n",
    "TOOL_LINK = \"indy0_tcp\"\n",
    "TOOL_XYZ = (0,0,0.14)\n",
    "TOOL_RPY = (-np.pi/2,0,0)\n",
    "GRIP_DEPTH = 0.05\n",
    "HOME_POSE = (0,0,0,0,0,0)\n",
    "\n",
    "# ROBOT_TYPE = RobotType.panda\n",
    "# ROBOT_NAME = \"panda0\"\n",
    "# TOOL_LINK = \"panda0_hand\"\n",
    "# TOOL_XYZ = (0,0,0.112)\n",
    "# TOOL_RPY = (-np.pi/2,0,0)\n",
    "# GRIP_DEPTH = 0.03\n",
    "# HOME_POSE = (0,-0.3,0,-0.5,0,2.5,0)"
   ]
  },
  {
   "cell_type": "code",
   "execution_count": null,
   "metadata": {},
   "outputs": [],
   "source": []
  },
  {
   "cell_type": "markdown",
   "metadata": {},
   "source": [
    "## init combined robot config"
   ]
  },
  {
   "cell_type": "code",
   "execution_count": 4,
   "metadata": {},
   "outputs": [
    {
     "name": "stdout",
     "output_type": "stream",
     "text": [
      "connection command:\n",
      "indy0: False\n"
     ]
    }
   ],
   "source": [
    "\n",
    "from pkg.project_config import *\n",
    "\n",
    "crob = CombinedRobot(robots_on_scene=[\n",
    "    RobotConfig(0, ROBOT_TYPE, None,\n",
    "                INDY_IP)]\n",
    "              , connection_list=[False])\n",
    "\n",
    "from pkg.geometry.builder.scene_builder import SceneBuilder\n",
    "s_builder = SceneBuilder(None)\n",
    "# s_builder.reset_reference_coord(ref_name=\"floor\")"
   ]
  },
  {
   "cell_type": "code",
   "execution_count": null,
   "metadata": {},
   "outputs": [],
   "source": []
  },
  {
   "cell_type": "markdown",
   "metadata": {},
   "source": [
    "## get ghnd with detected robot config"
   ]
  },
  {
   "cell_type": "code",
   "execution_count": 5,
   "metadata": {
    "scrolled": true
   },
   "outputs": [
    {
     "name": "stderr",
     "output_type": "stream",
     "text": [
      "Unknown tag \"hardwareInterface\" in /robot[@name='custom_robots']/transmission[@name='indy0_tran0']/actuator[@name='indy0_motor0']\n",
      "Unknown tag \"hardwareInterface\" in /robot[@name='custom_robots']/transmission[@name='indy0_tran1']/actuator[@name='indy0_motor1']\n",
      "Unknown tag \"hardwareInterface\" in /robot[@name='custom_robots']/transmission[@name='indy0_tran2']/actuator[@name='indy0_motor2']\n",
      "Unknown tag \"hardwareInterface\" in /robot[@name='custom_robots']/transmission[@name='indy0_tran3']/actuator[@name='indy0_motor3']\n",
      "Unknown tag \"hardwareInterface\" in /robot[@name='custom_robots']/transmission[@name='indy0_tran4']/actuator[@name='indy0_motor4']\n",
      "Unknown tag \"hardwareInterface\" in /robot[@name='custom_robots']/transmission[@name='indy0_tran5']/actuator[@name='indy0_motor5']\n"
     ]
    }
   ],
   "source": [
    "# xyz_rpy_robots = s_builder.detect_items(level_mask=[DetectionLevel.ROBOT])\n",
    "xyz_rpy_robots = {ROBOT_NAME: ((0,0,0), (0,0,0))}\n",
    "crob.update_robot_pos_dict(xyz_rpy_robots=xyz_rpy_robots)\n",
    "gscene = s_builder.create_gscene(crob, start_rviz=VISUALIZE)\n",
    "HOME_DICT = list2dict(HOME_POSE, gscene.joint_names)\n"
   ]
  },
  {
   "cell_type": "code",
   "execution_count": 6,
   "metadata": {},
   "outputs": [],
   "source": [
    "from pkg.utils.joint_utils import get_tf\n",
    "shoulder_link = gscene.urdf_content.joint_map[gscene.joint_names[1]].child\n",
    "shoulder_height = get_tf(shoulder_link, HOME_DICT, gscene.urdf_content)[2,3]"
   ]
  },
  {
   "cell_type": "code",
   "execution_count": null,
   "metadata": {},
   "outputs": [],
   "source": []
  },
  {
   "cell_type": "markdown",
   "metadata": {},
   "source": [
    "## add environment"
   ]
  },
  {
   "cell_type": "code",
   "execution_count": 7,
   "metadata": {},
   "outputs": [],
   "source": [
    "from pkg.geometry.geometry import *\n",
    "gtems_robot = s_builder.add_robot_geometries(color=(0,1,0,0.5), display=True, collision=True)"
   ]
  },
  {
   "cell_type": "code",
   "execution_count": null,
   "metadata": {},
   "outputs": [],
   "source": []
  },
  {
   "cell_type": "markdown",
   "metadata": {},
   "source": [
    "## init planning scene"
   ]
  },
  {
   "cell_type": "code",
   "execution_count": 8,
   "metadata": {},
   "outputs": [],
   "source": [
    "from pkg.planning.scene import PlanningScene\n",
    "pscene = PlanningScene(gscene, combined_robot=crob)\n",
    "\n",
    "from pkg.planning.pipeline import PlanningPipeline\n",
    "ppline = PlanningPipeline(pscene)"
   ]
  },
  {
   "cell_type": "code",
   "execution_count": null,
   "metadata": {},
   "outputs": [],
   "source": []
  },
  {
   "cell_type": "markdown",
   "metadata": {},
   "source": [
    "## Register binders"
   ]
  },
  {
   "cell_type": "code",
   "execution_count": 9,
   "metadata": {},
   "outputs": [],
   "source": [
    "from pkg.planning.constraint.constraint_actor import Gripper2Tool, PlacePlane, SweepTool"
   ]
  },
  {
   "cell_type": "code",
   "execution_count": 10,
   "metadata": {},
   "outputs": [],
   "source": [
    "gscene.create_safe(gtype=GEOTYPE.SPHERE, name=\"grip0\", link_name=TOOL_LINK, \n",
    "                 dims=(0.01,)*3, center=TOOL_XYZ, rpy=TOOL_RPY, color=(1,0,0,1), display=True, collision=False, fixed=True)\n",
    "gripper = pscene.create_binder(bname=\"grip0\", gname=\"grip0\", _type=Gripper2Tool)"
   ]
  },
  {
   "cell_type": "code",
   "execution_count": null,
   "metadata": {},
   "outputs": [],
   "source": []
  },
  {
   "cell_type": "markdown",
   "metadata": {},
   "source": [
    "## ui"
   ]
  },
  {
   "cell_type": "code",
   "execution_count": 11,
   "metadata": {},
   "outputs": [
    {
     "name": "stdout",
     "output_type": "stream",
     "text": [
      "Dash is running on http://0.0.0.0:8050/\n",
      "\n",
      " * Serving Flask app \"pkg.ui.dash_launcher\" (lazy loading)\n",
      " * Environment: production\n",
      "   WARNING: This is a development server. Do not use it in a production deployment.\n",
      "   Use a production WSGI server instead.\n",
      " * Debug mode: off\n"
     ]
    }
   ],
   "source": [
    "from pkg.ui.ui_broker import *\n",
    "\n",
    "# start UI\n",
    "ui_broker = UIBroker.instance()\n",
    "ui_broker.initialize(ppline, s_builder)\n",
    "ui_broker.start_server()\n",
    "\n",
    "ui_broker.set_tables()"
   ]
  },
  {
   "cell_type": "code",
   "execution_count": null,
   "metadata": {},
   "outputs": [],
   "source": []
  },
  {
   "cell_type": "markdown",
   "metadata": {},
   "source": [
    "# Object Classes"
   ]
  },
  {
   "cell_type": "code",
   "execution_count": 12,
   "metadata": {},
   "outputs": [],
   "source": [
    "from pkg.utils.gjk import get_point_list, get_gjk_distance\n",
    "from pkg.planning.constraint.constraint_subject import CustomObject, Grasp2Point, PlacePoint, SweepPoint, SweepTask\n",
    "\n",
    "##\n",
    "# @class ObstacleBase\n",
    "# @brief base class for obstacle generators\n",
    "class ObstacleBase:\n",
    "    RTH_MIN = None ## R: center ~ nearest point\n",
    "    RTH_MAX = None\n",
    "    RPY_MIN = None\n",
    "    RPY_MAX = None\n",
    "    DIM_MIN = None\n",
    "    DIM_MAX = None\n",
    "    GTYPE = None\n",
    "    COLOR = (0.7,0.7,0.7,1)\n",
    "    \n",
    "    def __init__(self, gscene, name, sampler=np.random.uniform, DIM=None, RTH=None, RPY=None):\n",
    "        self.name = name\n",
    "        self.DIM = sampler(self.DIM_MIN, self.DIM_MAX) if DIM is None else DIM\n",
    "        self.RTH = sampler(self.RTH_MIN, self.RTH_MAX) if RTH is None else RTH\n",
    "        self.RPY = sampler(self.RPY_MIN, self.RPY_MAX) if RPY is None else RPY\n",
    "        self.RPY[2] += self.RTH[1]\n",
    "        self.XYZ = np.array(cyl2cart(*self.RTH))\n",
    "        verts_rotated = np.matmul(Rot_rpy(self.RPY), (DEFAULT_VERT_DICT[self.GTYPE]*self.DIM).transpose())\n",
    "        xy_normed = self.XYZ[:2]/(np.linalg.norm(self.XYZ[:2])+1e-6)\n",
    "        verts_r_compo = np.dot(xy_normed, verts_rotated[:2,:])\n",
    "        self.XYZ[:2] -= xy_normed[:2]*np.min(verts_r_compo)\n",
    "        self.RTH[0] -= np.min(verts_r_compo)\n",
    "        self.geometry = gscene.create_safe(gtype=self.GTYPE, name=self.name, link_name=\"base_link\", \n",
    "                                  dims=self.DIM, center=tuple(self.XYZ), rpy=self.RPY, \n",
    "                                  color=self.COLOR, display=True, collision=True, fixed=True)\n",
    "        self.subgeo_list = []\n",
    "        \n",
    "    def is_overlapped_with(self, gtem):\n",
    "        verts, radii = gtem.get_vertice_radius()\n",
    "        verts_global = np.add(np.matmul(verts, gtem.orientation_mat.transpose()), gtem.center)\n",
    "        verts_me, raddii_me = self.geometry.get_vertice_radius()\n",
    "        verts_me_global = np.add(np.matmul(verts_me, self.geometry.orientation_mat.transpose()), \n",
    "                                 self.geometry.center)\n",
    "        return get_gjk_distance(get_point_list(verts_global), get_point_list(verts_me_global))-radii-raddii_me < 1e-4\n",
    "        \n",
    "##\n",
    "# @class WorkPlane\n",
    "# @brief working plane. target and obstacle objects are generated on this plane\n",
    "class WorkPlane(ObstacleBase):\n",
    "    RTH_MIN = (0.3, -np.pi/2, -0.2)\n",
    "    RTH_MAX = (0.8, +np.pi/2, +0.5)\n",
    "    RPY_MIN = (0, 0, -np.pi/6)\n",
    "    RPY_MAX = (0, 0, +np.pi/6)\n",
    "    DIM_MIN = (0.3, 0.3, 0.05)\n",
    "    DIM_MAX = (0.8, 1.5, 0.1)\n",
    "    GTYPE = GEOTYPE.BOX\n",
    "    COLOR=  (0.8,0.8,0.2,0.5)\n",
    "    \n",
    "    def __init__(self, gscene, name, floor_height=None, *args, **kwargs):\n",
    "        assert floor_height is not None, \"floor_height needed\"\n",
    "        self.RTH_MIN = self.RTH_MIN[:2]+(floor_height,)\n",
    "        self.H = 0.3\n",
    "        ObstacleBase.__init__(self, gscene, name, *args, **kwargs)\n",
    "        \n",
    "    def is_overlapped_with(self, gtem):\n",
    "        verts, radii = gtem.get_vertice_radius()\n",
    "        verts_global = np.add(np.matmul(verts, gtem.orientation_mat.transpose()), gtem.center)\n",
    "        verts_wp = np.multiply(DEFAULT_VERT_DICT[self.GTYPE], tuple(self.DIM[:2])+(self.H,))\n",
    "        verts_wp_global = np.add(np.matmul(verts_wp, self.geometry.orientation_mat.transpose()), \n",
    "                                 np.add(self.geometry.center, (0,0,self.H/2)))\n",
    "        return get_gjk_distance(get_point_list(verts_global), get_point_list(verts_wp_global))-radii < 1e-4\n",
    "        \n",
    "    \n",
    "##\n",
    "# @class Box\n",
    "# @brief box with the top and the front side open\n",
    "class Box(WorkPlane):\n",
    "    RPY_MIN = (0, 0, -np.pi/2)\n",
    "    RPY_MAX = (0, 0, +np.pi/2)\n",
    "    DIM_MIN = (0.3, 0.3, 0.05)\n",
    "    DIM_MAX = (0.6, 0.6, 0.05)\n",
    "    COLOR =  (0.8,0.8,0.2,0.5)\n",
    "    H_RANGE = (0.3, 0.6)\n",
    "    THICKNESS = 0.05\n",
    "    def __init__(self, gscene, name, H=None, **kwargs):\n",
    "        WorkPlane.__init__(self, gscene=gscene, name=name, **kwargs)\n",
    "        self.H = np.random.uniform(*self.H_RANGE) if H is None else H\n",
    "\n",
    "        ## back wall\n",
    "        self.subgeo_list.append(gscene.create_safe(\n",
    "            gtype=self.GTYPE, name=self.name+\"_bw\", link_name=\"base_link\", \n",
    "            dims=(self.THICKNESS, self.DIM[1], self.H), center=(self.DIM[0]/2+self.THICKNESS/2, 0,self.H/2), rpy=(0,0,0),\n",
    "            color=self.COLOR, display=True, collision=True, fixed=True,\n",
    "            parent=self.name))\n",
    "\n",
    "        ## left wall\n",
    "        self.subgeo_list.append(gscene.create_safe(\n",
    "            gtype=self.GTYPE, name=self.name+\"_lw\", link_name=\"base_link\", \n",
    "            dims=(self.DIM[0], self.THICKNESS, self.H), center=(0, -self.DIM[1]/2-self.THICKNESS/2, self.H/2), rpy=(0,0,0),\n",
    "            color=self.COLOR, display=True, collision=True, fixed=True,\n",
    "            parent=self.name))\n",
    "\n",
    "        ## right wall\n",
    "        self.subgeo_list.append(gscene.create_safe(\n",
    "            gtype=self.GTYPE, name=self.name+\"_rw\", link_name=\"base_link\", \n",
    "            dims=(self.DIM[0], self.THICKNESS, self.H), center=(0, self.DIM[1]/2+self.THICKNESS/2, self.H/2), rpy=(0,0,0),\n",
    "            color=self.COLOR, display=True, collision=True, fixed=True,\n",
    "            parent=self.name))\n",
    "\n",
    "        \n",
    "##\n",
    "# @class SideBox\n",
    "# @brief box with a side face open\n",
    "class SideBox(Box):\n",
    "    H_RANGE = (0.3, 0.6)\n",
    "    def __init__(self, gscene, name, **kwargs):\n",
    "        Box.__init__(self, gscene=gscene, name=name, **kwargs)\n",
    "\n",
    "        ## top\n",
    "        self.subgeo_list.append(gscene.create_safe(\n",
    "            gtype=self.GTYPE, name=self.name+\"_tp\", link_name=\"base_link\", \n",
    "            dims=(self.DIM[0], self.DIM[1], self.THICKNESS), center=(0, 0, self.H+self.THICKNESS/2), rpy=(0,0,0),\n",
    "            color=self.COLOR, display=True, collision=True, fixed=True,\n",
    "            parent=self.name))\n",
    "\n",
    "##\n",
    "# @class TopBox\n",
    "# @brief box with the top face open\n",
    "class TopBox(Box):\n",
    "    DIM_MIN = (0.3, 0.3, 0.05)\n",
    "    DIM_MAX = (0.6, 0.6, 0.05)\n",
    "    H_RANGE = (0.3, 0.6)\n",
    "    def __init__(self, gscene, name, **kwargs):\n",
    "        Box.__init__(self, gscene=gscene, name=name, **kwargs)\n",
    "\n",
    "        ## front wall\n",
    "        self.subgeo_list.append(gscene.create_safe(\n",
    "            gtype=self.GTYPE, name=self.name+\"_fw\", link_name=\"base_link\", \n",
    "            dims=(self.THICKNESS, self.DIM[1], self.H), center=(-self.DIM[0]/2-self.THICKNESS/2, 0,self.H/2), rpy=(0,0,0),\n",
    "            color=self.COLOR, display=True, collision=True, fixed=True,\n",
    "            parent=self.name))\n",
    "        \n",
    "##\n",
    "# @class Floor\n",
    "# @brief Floor - lowerbound of the workspace\n",
    "class Floor(ObstacleBase):\n",
    "    RTH_MIN = (0.0, 0, -0.5)\n",
    "    RTH_MAX = (0.0, 0, +0.0)\n",
    "    RPY_MIN = (0, 0, 0)\n",
    "    RPY_MAX = (0, 0, 0)\n",
    "    DIM_MIN = (3, 3, 0.1)\n",
    "    DIM_MAX = (3, 3, 0.1)\n",
    "    GTYPE = GEOTYPE.BOX\n",
    "    \n",
    "##\n",
    "# @class Ceiling\n",
    "# @brief Ceiling - upperbound of the workspace\n",
    "class Ceiling(ObstacleBase):\n",
    "    RTH_MIN = (0.0, 0, 1.0)\n",
    "    RTH_MAX = (0.0, 0, 2)\n",
    "    RPY_MIN = (0, 0, 0)\n",
    "    RPY_MAX = (0, 0, 0)\n",
    "    DIM_MIN = (3, 3, 0.1)\n",
    "    DIM_MAX = (3, 3, 0.1)\n",
    "    GTYPE = GEOTYPE.BOX\n",
    "    COLOR=  (0.7,0.7,0.7,0.5)\n",
    "    \n",
    "##\n",
    "# @class Wall\n",
    "# @brief define horizontal boundary of the workspace\n",
    "class Wall(ObstacleBase):\n",
    "    RTH_MIN = (0.3, -np.pi, 0)\n",
    "    RTH_MAX = (2.0, np.pi, 0)\n",
    "    RPY_MIN = (0, 0, 0)\n",
    "    RPY_MAX = (0, 0, 0)\n",
    "    DIM_MIN = (0.1, 6, 3)\n",
    "    DIM_MAX = (0.1, 6, 3)\n",
    "    GTYPE = GEOTYPE.BOX\n",
    "    COLOR=  (0.7,0.7,0.7,0.5)\n",
    "    \n",
    "##\n",
    "# @class Pole\n",
    "# @brief occasional poles that obstruct robot motion\n",
    "class Pole(ObstacleBase):\n",
    "    RTH_MIN = (0.3, -np.pi, 0)\n",
    "    RTH_MAX = (0.8, +np.pi, 0)\n",
    "    RPY_MIN = (0, 0, -np.pi/6)\n",
    "    RPY_MAX = (0, 0, +np.pi/6)\n",
    "    DIM_MIN = (0.1, 0.1, 4)\n",
    "    DIM_MAX = (0.3, 0.3, 4)\n",
    "    GTYPE = GEOTYPE.BOX\n",
    "    COLOR = (0.7,0.7,0.7,0.3)\n",
    "    \n",
    "##\n",
    "# @class Bar\n",
    "# @brief occasional poles that obstruct robot motion\n",
    "class Bar(ObstacleBase):\n",
    "    RTH_MIN = (0.3, -np.pi, 0)\n",
    "    RTH_MAX = (0.8, +np.pi, 1.5)\n",
    "    RPY_MIN = (0, 0, 0)\n",
    "    RPY_MAX = (0, 0, 0)\n",
    "    DIM_MIN = (0.1, 4, 0.1)\n",
    "    DIM_MAX = (0.3, 4, 0.3)\n",
    "    GTYPE = GEOTYPE.BOX\n",
    "    COLOR = (0.7,0.7,0.7,0.3)\n",
    "    \n",
    "##\n",
    "# @class PlaneObstacle\n",
    "# @brief Obstacles on the workplane\n",
    "class PlaneObject(ObstacleBase):\n",
    "    RTH_MIN = (0.3, -np.pi/2, -0.2)\n",
    "    RTH_MAX = (0.8, +np.pi/2, +0.5)\n",
    "    RPY_MIN = (0, 0, -np.pi)\n",
    "    RPY_MAX = (0, 0, +np.pi)\n",
    "    DIM_MIN = (0.02, GRIP_DEPTH, GRIP_DEPTH)\n",
    "    DIM_MAX = (0.06, 0.3, 0.3)\n",
    "    GTYPE = GEOTYPE.BOX\n",
    "    COLOR =  (0.2,0.2,0.8,0.5)\n",
    "    def __init__(self, gscene, name, workplane, XYZ_LOC=None, **kwargs):\n",
    "        ObstacleBase.__init__(self, gscene=gscene, name=name, **kwargs)\n",
    "        verts, radii = self.geometry.get_vertice_radius()\n",
    "        verts_rot = np.matmul(self.geometry.orientation_mat, verts.transpose()) ## verices with global orientaion\n",
    "        verts_rot_loc = np.matmul(workplane.geometry.Toff[:3,:3].transpose(), verts_rot) ## verices with local orientaion\n",
    "        max_verts = np.max(verts_rot_loc, axis=-1)\n",
    "        min_verts = np.min(verts_rot_loc, axis=-1)\n",
    "        if XYZ_LOC is None:\n",
    "            self.XYZ_LOC = np.random.uniform(np.negative(workplane.DIM)/2-min_verts+radii,np.array(workplane.DIM)/2-max_verts-radii)\n",
    "            self.XYZ_LOC[2] = workplane.DIM[2]/2 + self.DIM[2]/2 + CLEARANCE\n",
    "        else:\n",
    "            self.XYZ_LOC = self.XYZ_LOC\n",
    "        self.XYZ = np.matmul(workplane.geometry.Toff[:3,:3], self.XYZ_LOC) + workplane.geometry.Toff[:3,3]\n",
    "        self.geometry.set_offset_tf(center = self.XYZ)\n",
    "        self.RTH = cart2cyl(*self.XYZ)\n",
    "        gscene.update_marker(self.geometry)\n",
    "        \n",
    "        \n",
    "def clear_class(gscene, key, Nmax):\n",
    "    for iw in range(Nmax):\n",
    "        gname = \"{}_{}\".format(key, iw)\n",
    "        if gname in gscene.NAME_DICT:\n",
    "            gscene.remove(gscene.NAME_DICT[gname])\n",
    "\n",
    "            \n",
    "def redistribute_class(gscene, obstacle_class, key, Nmax, workplane_avoid=None):\n",
    "    clear_class(gscene, key, Nmax)\n",
    "        \n",
    "    obs_list = []\n",
    "    for iw in range(np.random.choice(Nmax)):\n",
    "        obs = obstacle_class(gscene, \"{}_{}\".format(key, iw))\n",
    "        while workplane_avoid is not None and workplane_avoid.is_overlapped_with(obs.geometry):\n",
    "            obs = obstacle_class(gscene, \"{}_{}\".format(key, iw))\n",
    "        obs_list.append(obs)\n",
    "    return obs_list\n",
    "\n",
    "            \n",
    "def disperse_objects(gscene, object_class, key, Nmax, workplane_on):\n",
    "    clear_class(gscene, key, Nmax)\n",
    "        \n",
    "    obs_list = []\n",
    "    for iw in range(np.random.choice(Nmax)+1):\n",
    "        obs = object_class(gscene, \"{}_{}\".format(key, iw), workplane_on)\n",
    "        remove_this = False\n",
    "        for obs_pre in obs_list:\n",
    "            if obs_pre.is_overlapped_with(obs.geometry):\n",
    "                remove_this = True\n",
    "                break\n",
    "        if remove_this:\n",
    "            gscene.remove(obs.geometry)\n",
    "        else:\n",
    "            obs_list.append(obs)\n",
    "    return obs_list\n",
    "\n",
    "\n",
    "def add_object(pscene, obj, HANDLE_THICKNESS=1e-6, HANDLE_COLOR = (1,0,0,0.3)):\n",
    "    gscene = pscene.gscene\n",
    "    handles = []\n",
    "    handles.append(\n",
    "        gscene.create_safe(gtype=GEOTYPE.BOX, name=\"hdl_tp_a\", link_name=\"base_link\", \n",
    "                       dims=(obj.DIM[1], GRIP_DEPTH, HANDLE_THICKNESS), center=(0,0,obj.DIM[2]/2-GRIP_DEPTH/2), rpy=(np.pi/2,0,np.pi/2), \n",
    "                           color=HANDLE_COLOR, display=True, collision=False, fixed=False,\n",
    "                       parent=obj.name)\n",
    "    )\n",
    "\n",
    "    handles.append(\n",
    "        gscene.create_safe(gtype=GEOTYPE.BOX, name=\"hdl_tp_b\", link_name=\"base_link\", \n",
    "                       dims=(obj.DIM[1], GRIP_DEPTH, HANDLE_THICKNESS), center=(0,0,obj.DIM[2]/2-GRIP_DEPTH/2), rpy=(np.pi/2,0,-np.pi/2), \n",
    "                           color=HANDLE_COLOR, display=True, collision=False, fixed=False,\n",
    "                       parent=obj.name)\n",
    "    )\n",
    "\n",
    "    handles.append(\n",
    "        gscene.create_safe(gtype=GEOTYPE.BOX, name=\"hdl_ft_a\", link_name=\"base_link\", \n",
    "                       dims=(obj.DIM[2], GRIP_DEPTH,HANDLE_THICKNESS), center=(0,obj.DIM[1]/2-GRIP_DEPTH/2,0), rpy=(0,np.pi/2,0), \n",
    "                           color=HANDLE_COLOR, display=True, collision=False, fixed=False,\n",
    "                       parent=obj.name)\n",
    "    )\n",
    "\n",
    "    handles.append(\n",
    "        gscene.create_safe(gtype=GEOTYPE.BOX, name=\"hdl_ft_b\", link_name=\"base_link\", \n",
    "                       dims=(obj.DIM[2], GRIP_DEPTH,HANDLE_THICKNESS), center=(0,obj.DIM[1]/2-GRIP_DEPTH/2,0), rpy=(0,-np.pi/2,0), \n",
    "                           color=HANDLE_COLOR, display=True, collision=False, fixed=False,\n",
    "                       parent=obj.name)\n",
    "    )\n",
    "\n",
    "    handles.append(\n",
    "        gscene.create_safe(gtype=GEOTYPE.BOX, name=\"hdl_bk_a\", link_name=\"base_link\", \n",
    "                       dims=(obj.DIM[2], GRIP_DEPTH,HANDLE_THICKNESS), center=(0,-obj.DIM[1]/2+GRIP_DEPTH/2,0), rpy=(-np.pi,-np.pi/2,0), \n",
    "                       color=HANDLE_COLOR, display=True, collision=False, fixed=False,\n",
    "                   parent=obj.name)\n",
    "    )\n",
    "\n",
    "    handles.append(\n",
    "        gscene.create_safe(gtype=GEOTYPE.BOX, name=\"hdl_bk_b\", link_name=\"base_link\", \n",
    "                       dims=(obj.DIM[2], GRIP_DEPTH,HANDLE_THICKNESS), center=(0,-obj.DIM[1]/2+GRIP_DEPTH/2,0), rpy=(-np.pi,+np.pi/2,0), \n",
    "                           color=HANDLE_COLOR, display=True, collision=False, fixed=False,\n",
    "                       parent=obj.name)\n",
    "    )\n",
    "\n",
    "    action_points_dict = {\"placement\": PlacePoint(\"placement\", obj.geometry, [0,0,-obj.DIM[2]/2], [0,0,0])}\n",
    "    action_points_dict.update({handle.name: Grasp2Point(handle.name, handle, None, (0,0,0)) for handle in handles})\n",
    "    obj_pscene = pscene.create_subject(oname=obj.name, gname=obj.name, _type=CustomObject, \n",
    "                                 action_points_dict=action_points_dict)\n",
    "    return obj_pscene, handles\n",
    "        \n",
    "WORKPLANE_TYPES = [WorkPlane, Box, SideBox, TopBox]\n",
    "\n",
    "Nmax_wall, Nmax_pole, Nmax_bar = 4, 8, 8\n",
    "\n",
    "Nmax_obj = 3"
   ]
  },
  {
   "cell_type": "code",
   "execution_count": null,
   "metadata": {},
   "outputs": [],
   "source": []
  },
  {
   "cell_type": "markdown",
   "metadata": {},
   "source": [
    "### counting step-wise"
   ]
  },
  {
   "cell_type": "code",
   "execution_count": 13,
   "metadata": {},
   "outputs": [],
   "source": [
    "from pkg.planning.motion.moveit.moveit_planner import MoveitPlanner\n",
    "from pkg.planning.filtering.grasp_filter import GraspChecker\n",
    "from pkg.planning.filtering.reach_filter import ReachChecker\n",
    "from pkg.planning.filtering.latticized_filter import LatticedChecker\n",
    "gcheck = GraspChecker(pscene)\n",
    "rcheck = ReachChecker(pscene)\n",
    "lcheck = LatticedChecker(pscene, gcheck=gcheck)\n",
    "gchecker = MoveitPlanner(pscene, motion_filters=[gcheck])\n",
    "rchecker = MoveitPlanner(pscene, motion_filters=[rcheck])\n",
    "lchecker = MoveitPlanner(pscene, motion_filters=[lcheck])\n",
    "checkers = [(\"GraspChecker\", gchecker), (\"ReachChecker\", rchecker), (\"LatticedChecker\", lchecker)]\n",
    "\n",
    "kchecker = MoveitPlanner(pscene)\n",
    "mplan = MoveitPlanner(pscene)"
   ]
  },
  {
   "cell_type": "code",
   "execution_count": null,
   "metadata": {
    "scrolled": true
   },
   "outputs": [
    {
     "name": "stdout",
     "output_type": "stream",
     "text": [
      " ====================\n",
      " count: 50 / 5000\n",
      " ----------------------------------------\n",
      " LatticedChecker :    \t 4 / 4\n",
      " GraspChecker :       \t 11 / 50\n",
      " planning :           \t 3 / 4\n",
      " inv_kin :            \t 4 / 11\n",
      " ReachChecker :       \t 4 / 11\n",
      " ----------------------------------------\n",
      " ====================\n",
      " ====================\n",
      " count: 100 / 5000\n",
      " ----------------------------------------\n",
      " LatticedChecker :    \t 9 / 10\n",
      " GraspChecker :       \t 27 / 100\n",
      " planning :           \t 7 / 10\n",
      " inv_kin :            \t 10 / 27\n",
      " ReachChecker :       \t 10 / 27\n",
      " ----------------------------------------\n",
      " ====================\n",
      " ====================\n",
      " count: 150 / 5000\n",
      " ----------------------------------------\n",
      " LatticedChecker :    \t 10 / 13\n",
      " GraspChecker :       \t 37 / 150\n",
      " planning :           \t 7 / 13\n",
      " inv_kin :            \t 13 / 37\n",
      " ReachChecker :       \t 13 / 37\n",
      " ----------------------------------------\n",
      " ====================\n",
      " ====================\n",
      " count: 200 / 5000\n",
      " ----------------------------------------\n",
      " LatticedChecker :    \t 10 / 13\n",
      " GraspChecker :       \t 46 / 200\n",
      " planning :           \t 7 / 13\n",
      " inv_kin :            \t 13 / 46\n",
      " ReachChecker :       \t 13 / 46\n",
      " ----------------------------------------\n",
      " ====================\n",
      " ====================\n",
      " count: 250 / 5000\n",
      " ----------------------------------------\n",
      " LatticedChecker :    \t 14 / 17\n",
      " GraspChecker :       \t 64 / 250\n",
      " planning :           \t 10 / 17\n",
      " inv_kin :            \t 17 / 64\n",
      " ReachChecker :       \t 17 / 64\n",
      " ----------------------------------------\n",
      " ====================\n",
      " ====================\n",
      " count: 300 / 5000\n",
      " ----------------------------------------\n",
      " LatticedChecker :    \t 21 / 26\n",
      " GraspChecker :       \t 76 / 300\n",
      " planning :           \t 17 / 26\n",
      " inv_kin :            \t 26 / 76\n",
      " ReachChecker :       \t 26 / 76\n",
      " ----------------------------------------\n",
      " ====================\n",
      " ====================\n",
      " count: 350 / 5000\n",
      " ----------------------------------------\n",
      " LatticedChecker :    \t 27 / 33\n",
      " GraspChecker :       \t 87 / 350\n",
      " planning :           \t 23 / 33\n",
      " inv_kin :            \t 33 / 87\n",
      " ReachChecker :       \t 33 / 87\n",
      " ----------------------------------------\n",
      " ====================\n",
      " ====================\n",
      " count: 400 / 5000\n",
      " ----------------------------------------\n",
      " LatticedChecker :    \t 30 / 37\n",
      " GraspChecker :       \t 98 / 400\n",
      " planning :           \t 26 / 37\n",
      " inv_kin :            \t 37 / 98\n",
      " ReachChecker :       \t 37 / 98\n",
      " ----------------------------------------\n",
      " ====================\n",
      " ====================\n",
      " count: 450 / 5000\n",
      " ----------------------------------------\n",
      " LatticedChecker :    \t 35 / 44\n",
      " GraspChecker :       \t 114 / 450\n",
      " planning :           \t 30 / 44\n",
      " inv_kin :            \t 44 / 114\n",
      " ReachChecker :       \t 44 / 114\n",
      " ----------------------------------------\n",
      " ====================\n",
      " ====================\n",
      " count: 500 / 5000\n",
      " ----------------------------------------\n",
      " LatticedChecker :    \t 43 / 52\n",
      " GraspChecker :       \t 128 / 500\n",
      " planning :           \t 35 / 52\n",
      " inv_kin :            \t 52 / 128\n",
      " ReachChecker :       \t 52 / 128\n",
      " ----------------------------------------\n",
      " ====================\n",
      " ====================\n",
      " count: 550 / 5000\n",
      " ----------------------------------------\n",
      " LatticedChecker :    \t 45 / 54\n",
      " GraspChecker :       \t 133 / 550\n",
      " planning :           \t 37 / 54\n",
      " inv_kin :            \t 54 / 133\n",
      " ReachChecker :       \t 54 / 133\n",
      " ----------------------------------------\n",
      " ====================\n",
      " ====================\n",
      " count: 600 / 5000\n",
      " ----------------------------------------\n",
      " LatticedChecker :    \t 47 / 56\n",
      " GraspChecker :       \t 139 / 600\n",
      " planning :           \t 39 / 56\n",
      " inv_kin :            \t 56 / 139\n",
      " ReachChecker :       \t 56 / 139\n",
      " ----------------------------------------\n",
      " ====================\n",
      " ====================\n",
      " count: 650 / 5000\n",
      " ----------------------------------------\n",
      " LatticedChecker :    \t 51 / 61\n",
      " GraspChecker :       \t 149 / 650\n",
      " planning :           \t 42 / 61\n",
      " inv_kin :            \t 60 / 149\n",
      " ReachChecker :       \t 61 / 149\n",
      " ----------------------------------------\n",
      " ====================\n",
      " ====================\n",
      " count: 700 / 5000\n",
      " ----------------------------------------\n",
      " LatticedChecker :    \t 54 / 64\n",
      " GraspChecker :       \t 159 / 700\n",
      " planning :           \t 44 / 64\n",
      " inv_kin :            \t 63 / 159\n",
      " ReachChecker :       \t 64 / 159\n",
      " ----------------------------------------\n",
      " ====================\n",
      " ====================\n",
      " count: 750 / 5000\n",
      " ----------------------------------------\n",
      " LatticedChecker :    \t 55 / 66\n",
      " GraspChecker :       \t 163 / 750\n",
      " planning :           \t 45 / 66\n",
      " inv_kin :            \t 65 / 163\n",
      " ReachChecker :       \t 66 / 163\n",
      " ----------------------------------------\n",
      " ====================\n",
      " ====================\n",
      " count: 800 / 5000\n",
      " ----------------------------------------\n",
      " LatticedChecker :    \t 56 / 68\n",
      " GraspChecker :       \t 171 / 800\n",
      " planning :           \t 45 / 68\n",
      " inv_kin :            \t 67 / 171\n",
      " ReachChecker :       \t 68 / 171\n",
      " ----------------------------------------\n",
      " ====================\n"
     ]
    }
   ],
   "source": [
    "gtimer = GlobalTimer.instance()\n",
    "gtimer.reset()\n",
    "mplan.reset_log(True)\n",
    "\n",
    "reach_success_list = []\n",
    "retrieve_success_list = []\n",
    "reach_time_list = []\n",
    "retrieve_time_list = []\n",
    "ik_time_list = []\n",
    "\n",
    "sample_count = 0\n",
    "count_max = 5000\n",
    "\n",
    "N_print = 50\n",
    "\n",
    "gtimer.tic(\"full_loop\")\n",
    "\n",
    "i_print = 0\n",
    "check_dict = defaultdict(list)\n",
    "check_time_dict = defaultdict(list)\n",
    "while sample_count < count_max:\n",
    "    ## add floor, ceiling\n",
    "    floor = Floor(gscene, \"floor\")\n",
    "    # ceiling = Ceiling(gscene, \"ceiling\")\n",
    "\n",
    "    ## set workplane\n",
    "    wp = random.choice(WORKPLANE_TYPES)(gscene, \"wp\", floor_height=floor.RTH[2]+floor.DIM[2]/2)\n",
    "    pscene.create_binder(bname=\"wp\", gname=\"wp\", _type=PlacePlane)\n",
    "\n",
    "    ## add walls, poles, bars\n",
    "    walls = redistribute_class(gscene, Wall, \"wl\", Nmax_wall, workplane_avoid=wp)\n",
    "    poles = redistribute_class(gscene, Pole, \"po\", Nmax_pole, workplane_avoid=wp)\n",
    "    bars = redistribute_class(gscene, Bar, \"bar\", Nmax_bar, workplane_avoid=wp)\n",
    "\n",
    "    ## add object\n",
    "    obj_list = disperse_objects(gscene, PlaneObject, \"obj\", Nmax_obj, workplane_on=wp)\n",
    "\n",
    "    samples = []\n",
    "    for obj in obj_list:\n",
    "        SHOW_PERIOD = 0.01\n",
    "        N_sample_single_obj = 3\n",
    "        obj_pscene, handles = add_object(pscene, obj)\n",
    "        mplan.update_gscene()\n",
    "        initial_state = pscene.initialize_state(HOME_POSE)\n",
    "        pscene.set_object_state(initial_state)\n",
    "        to_node = (\"grip0\",)\n",
    "        available_binding_dict = pscene.get_available_binding_dict(initial_state, to_node, HOME_DICT)\n",
    "        samples_obj = []\n",
    "        for _ in range(N_sample_single_obj):\n",
    "            from_state = initial_state.copy(pscene)\n",
    "            to_state, redundancy_dict = pscene.sample_leaf_state(from_state, available_binding_dict, to_node)\n",
    "            pscene.set_object_state(from_state)\n",
    "            res = True\n",
    "            res_col = False\n",
    "            res_reach = False\n",
    "            for cname, checker in checkers:\n",
    "                gtimer.tic(cname)\n",
    "                res = checker.plan_transition(\n",
    "                    from_state=from_state, to_state=to_state, redundancy_dict=redundancy_dict, test_filters_only=True)\n",
    "                ctime = gtimer.toc(cname)\n",
    "                check_dict[cname].append(res)\n",
    "                check_time_dict[cname].append(ctime)\n",
    "                if cname == \"GraspChecker\":\n",
    "                    res_col = res\n",
    "                if cname == \"ReachChecker\":\n",
    "                    res_reach = res\n",
    "                if not res:\n",
    "                    break\n",
    "                   \n",
    "            if res_col:\n",
    "                gtimer.tic(\"ik\")\n",
    "                Traj_kin, LastQ, error, success_kin, binding_list = kchecker.plan_transition(\n",
    "                    from_state=from_state, to_state=to_state, redundancy_dict=redundancy_dict, \n",
    "                    only_self_collision=True, timeout=TIMEOUT_SELF)\n",
    "                time_ik = gtimer.toc(\"ik\")\n",
    "                check_dict[\"inv_kin\"].append(success_kin)\n",
    "                if success_kin:\n",
    "                    ik_time_list.append(time_ik)\n",
    "            else:\n",
    "                success_kin = False\n",
    "\n",
    "            success_reach, success_retrieve = False, False\n",
    "            time_reach, time_retrieve = TIMEOUT_REACH, TIMEOUT_RETRIEVE\n",
    "            if res_reach or success_kin:\n",
    "                if success_kin and not res_reach:\n",
    "                    post_fix = \"_ffkin\"\n",
    "                else:\n",
    "                    post_fix = \"\"\n",
    "                \n",
    "                gtimer.tic(\"reach\")\n",
    "                Traj_reach, LastQ, error, success_reach, binding_list = mplan.plan_transition(\n",
    "                    from_state=from_state, to_state=to_state, redundancy_dict=redundancy_dict, timeout=TIMEOUT_REACH)\n",
    "                time_reach = gtimer.toc(\"reach\")\n",
    "                reach_success_list.append(success_reach)\n",
    "    #             print(\"reach: {}\".format(success_reach))\n",
    "                Traj_retrieve = []\n",
    "                if success_reach:\n",
    "                    reach_time_list.append(time_reach)\n",
    "                    if VISUALIZE:\n",
    "                        gscene.show_motion(Traj_reach, period=SHOW_PERIOD)\n",
    "                    for bd in binding_list:\n",
    "                        pscene.rebind(bd, list2dict(LastQ, pscene.gscene.joint_names))\n",
    "                    binding_state, state_param = pscene.get_object_state()\n",
    "                    new_state = State(binding_state, state_param, list(LastQ), pscene)\n",
    "                    end_state = new_state.copy(pscene)\n",
    "                    end_state.Q = np.array(HOME_POSE)\n",
    "                    gtimer.tic(\"retrieve\")\n",
    "                    Traj_retrieve, LastQ, error, success_retrieve, binding_list = mplan.plan_transition(\n",
    "                        from_state=new_state, to_state=end_state, timeout=TIMEOUT_RETRIEVE)\n",
    "                    time_retrieve = gtimer.toc(\"retrieve\")\n",
    "                    retrieve_success_list.append(success_retrieve)\n",
    "                    if success_retrieve:\n",
    "                        retrieve_time_list.append(time_retrieve)\n",
    "    #                 print(\"retrieve: {}\".format(success_retrieve))\n",
    "                    if success_retrieve and VISUALIZE:\n",
    "                        gscene.show_motion(Traj_retrieve, period=SHOW_PERIOD)\n",
    "                samples_obj.append((obj.name, from_state, to_state, redundancy_dict, \n",
    "                                    success_reach, success_retrieve, Traj_reach, Traj_retrieve, time_reach, time_retrieve))\n",
    "                check_dict[\"planning\"+post_fix].append(success_retrieve)\n",
    "            else:\n",
    "                pass\n",
    "            \n",
    "            if success_retrieve and not res_col:\n",
    "                raise(RuntimeError(\"Something's wrong: successful motion but collision checker failed\"))\n",
    "    #             print(\"no save?\")\n",
    "            sample_count += 1\n",
    "                    \n",
    "            if sample_count % N_print == 0:\n",
    "                print(\" \"+\"=\"*20)\n",
    "                print(\" count: {} / {}\".format(sample_count, count_max))\n",
    "                print(\" \"+\"-\"*40)\n",
    "                for k, v in check_dict.items():\n",
    "                    print(\"                      \\t {} / {}\".format(np.sum(v), len(v)), end=\"\\r\")\n",
    "                    print(\" {} :\".format(k))\n",
    "                print(\" \"+\"-\"*40)\n",
    "                print(\" \"+\"=\"*20)\n",
    "                \n",
    "            if sample_count >= count_max:\n",
    "                break\n",
    "                \n",
    "        samples = samples+samples_obj\n",
    "        pscene.set_object_state(initial_state)\n",
    "\n",
    "        pscene.remove_subject(obj_pscene.oname)\n",
    "        for handle in handles:\n",
    "            gscene.remove(handle)    \n",
    "\n",
    "        gscene.update_markers_all()\n",
    "        if sample_count >= count_max:\n",
    "            break\n",
    "    if sample_count >= count_max:\n",
    "        break\n",
    "\n",
    "\n",
    "print(\"\")\n",
    "print(\"\")\n",
    "print(\"============= Finished =================\")\n",
    "print(\" \"+\"=\"*20)\n",
    "print(\" count: {} / {}\".format(sample_count, count_max))\n",
    "print(\" \"+\"-\"*40)\n",
    "for k, v in check_dict.items():\n",
    "    print(\"                      \\t {} / {}\".format(np.sum(v), len(v)), end=\"\\r\")\n",
    "    print(\" {} :\".format(k))\n",
    "print(\" \"+\"-\"*40)\n",
    "print(\" \"+\"=\"*20)"
   ]
  },
  {
   "cell_type": "code",
   "execution_count": 15,
   "metadata": {},
   "outputs": [
    {
     "name": "stdout",
     "output_type": "stream",
     "text": [
      "name \t \t \t min   \t median \t mean \t max (ms)\n",
      "GraspChecker   : \t 0.82  \t 1.4 \t 1.79 \t 6.66\n",
      "ReachChecker   : \t 0.47  \t 0.55 \t 0.74 \t 1.96\n",
      "LatticedChecker   : \t 30.51  \t 47.18 \t 47.49 \t 86.89\n"
     ]
    },
    {
     "data": {
      "image/png": "[encoded data removed]",
      "text/plain": [
       "<Figure size 1080x360 with 3 Axes>"
      ]
     },
     "metadata": {
      "needs_background": "light"
     },
     "output_type": "display_data"
    }
   ],
   "source": [
    "import matplotlib.pyplot as plt\n",
    "plt.figure(figsize=(15,5))\n",
    "print(\"name \\t \\t \\t min   \\t median \\t mean \\t max (ms)\")\n",
    "for i_c, (cname, checker) in enumerate(checkers):\n",
    "    plt.subplot(1,len(checkers), i_c+1)\n",
    "    times =check_time_dict[cname]\n",
    "    plt.plot(sorted(times), '.')\n",
    "    plt.title(cname)\n",
    "    print(\"{}   : \\t {}  \\t {} \\t {} \\t {}\".format(cname, \n",
    "                                          np.round(np.min(times), 2), \n",
    "                                          np.round(np.median(times), 2), \n",
    "                                          np.round(np.mean(times), 2), \n",
    "                                          np.round(np.max(times), 2)))"
   ]
  },
  {
   "cell_type": "code",
   "execution_count": 16,
   "metadata": {},
   "outputs": [
    {
     "name": "stdout",
     "output_type": "stream",
     "text": [
      "name \t \t min   \t median \t mean \t max (ms)\n",
      "Inv. Kin.  \t : \t 24.59  \t 46.56 \t 47.02 \t 71.74\n",
      "Reach  \t : \t 45.62  \t 125.1 \t 230.94 \t 1209.24\n",
      "Retrieve  \t : \t 45.62  \t 125.1 \t 230.94 \t 1209.24\n"
     ]
    },
    {
     "data": {
      "image/png": "[encoded data removed]",
      "text/plain": [
       "<Figure size 1080x360 with 3 Axes>"
      ]
     },
     "metadata": {
      "needs_background": "light"
     },
     "output_type": "display_data"
    }
   ],
   "source": [
    "import matplotlib.pyplot as plt\n",
    "plt.figure(figsize=(15,5))\n",
    "print(\"name \\t \\t min   \\t median \\t mean \\t max (ms)\")\n",
    "for i_c, (tname, timelist) in enumerate(\n",
    "                                                        zip(\n",
    "                                                            [\"Inv. Kin.\", \"Reach\", \"Retrieve\"], \n",
    "                                                            [ik_time_list, retrieve_time_list, retrieve_time_list]\n",
    "                                                        )):\n",
    "    plt.subplot(1,3, i_c+1)\n",
    "    plt.plot(sorted(timelist), '.')\n",
    "    plt.title(tname)\n",
    "    print(\"{}  \\t : \\t {}  \\t {} \\t {} \\t {}\".format(tname, \n",
    "                                          np.round(np.min(timelist), 2), \n",
    "                                          np.round(np.median(timelist), 2), \n",
    "                                          np.round(np.mean(timelist), 2), \n",
    "                                          np.round(np.max(timelist), 2)))"
   ]
  },
  {
   "cell_type": "code",
   "execution_count": null,
   "metadata": {},
   "outputs": [],
   "source": [
    "def print_confusion_mat(GT, Res):\n",
    "    TP = np.sum(np.logical_and(GT, Res))\n",
    "    FN = np.sum(np.logical_and(GT, np.logical_not(Res)))\n",
    "    FP = np.sum(np.logical_and(np.logical_not(GT), Res))\n",
    "    TN = np.sum(np.logical_and(np.logical_not(GT), np.logical_not(Res)))\n",
    "    N = TP+FN+FP+TN\n",
    "    print(\"\\t PP \\t \\t PN \\t \\t {}\".format(N))\n",
    "    print(\"GP \\t {} \\t \\t {} \\t \\t {:.2%}\".format(TP, FN, float(TP)/(TP+FN)))\n",
    "    print(\"GN \\t {} \\t \\t {} \\t {:.2%}\".format(FP, TN, float(TN)/(FP+TN)))\n",
    "    print(\"AL \\t {:.2%} \\t {:.2%} \\t {:.2%}\".format(float(TP)/(TP+FP), float(TN)/(TN+FN), float(TP+TN)/N))"
   ]
  },
  {
   "cell_type": "code",
   "execution_count": 44,
   "metadata": {},
   "outputs": [
    {
     "name": "stdout",
     "output_type": "stream",
     "text": [
      "========== ReachChecker ==========\n",
      "\t PP \t \t PN \t \t 207\n",
      "GP \t 51 \t \t 0 \t \t 100.00%\n",
      "GN \t 9 \t \t 147 \t 94.23%\n",
      "AL \t 85.00% \t 100.00% \t 95.65%\n",
      "==============================\n",
      "========== LatticedChecker ==========\n",
      "\t PP \t \t PN \t \t 60\n",
      "GP \t 37 \t \t 1 \t \t 97.37%\n",
      "GN \t 12 \t \t 10 \t  \t 45.45%\n",
      "AL \t 75.51% \t 90.91% \t 78.33%\n",
      "==============================\n",
      "========== GraspReach ==========\n",
      "\t PP \t \t PN \t \t 1000\n",
      "GP \t 51 \t \t 0 \t \t 100.00%\n",
      "GN \t 9 \t \t 940 \t 99.05%\n",
      "AL \t 85.00% \t 100.00% \t 99.10%\n",
      "==============================\n",
      "========== ReachTotal ==========\n",
      "\t PP \t \t PN \t \t 1000\n",
      "GP \t 38 \t \t 0 \t \t 100.00%\n",
      "GN \t 22 \t \t 940 \t 97.71%\n",
      "AL \t 63.33% \t 100.00% \t 97.80%\n",
      "==============================\n",
      "========== Total ==========\n",
      "\t PP \t \t PN \t \t 1000\n",
      "GP \t 37 \t \t 1 \t \t 97.37%\n",
      "GN \t 12 \t \t 950 \t 98.75%\n",
      "AL \t 75.51% \t 99.89% \t 98.70%\n",
      "==============================\n"
     ]
    }
   ],
   "source": [
    "TOT = len(check_dict['GraspChecker'])\n",
    "\n",
    "Gres = np.copy(check_dict['GraspChecker'])\n",
    "\n",
    "Rres = np.copy(Gres)\n",
    "Rres[np.where(Gres)] = check_dict['ReachChecker']\n",
    "Rgt = np.copy(Gres)\n",
    "Rgt[np.where(Gres)] = check_dict['inv_kin']\n",
    "\n",
    "Lres = np.copy(Rres)\n",
    "Lres[np.where(Rres)] = check_dict['LatticedChecker']\n",
    "Lgt = np.logical_or(Rres, Rgt)\n",
    "Lgt[np.where(Lgt)] = check_dict['planning']\n",
    "\n",
    "print(\"=\"*10+\" ReachChecker \"+\"=\"*10)\n",
    "print_confusion_mat(GT=Rgt[np.where(Gres)], Res=Rres[np.where(Gres)])\n",
    "print(\"=\"*30)\n",
    "      \n",
    "print(\"=\"*10+\" LatticedChecker \"+\"=\"*10)\n",
    "print_confusion_mat(GT=Lgt[np.where(Rres)], Res=Lres[np.where(Rres)])\n",
    "print(\"=\"*30)\n",
    "      \n",
    "print(\"=\"*10+\" GraspReach \"+\"=\"*10)\n",
    "print_confusion_mat(GT=Rgt, Res=Rres)\n",
    "print(\"=\"*30)\n",
    "      \n",
    "print(\"=\"*10+\" ReachTotal \"+\"=\"*10)\n",
    "print_confusion_mat(GT=Lgt, Res=Rres)\n",
    "print(\"=\"*30)\n",
    "      \n",
    "print(\"=\"*10+\" Total \"+\"=\"*10)\n",
    "print_confusion_mat(GT=Lgt, Res=Lres)\n",
    "print(\"=\"*30)"
   ]
  },
  {
   "cell_type": "markdown",
   "metadata": {},
   "source": [
    "### Indy7\n",
    "```\n",
    "    ========== ReachChecker ==========\n",
    "         PP \t \t PN \t \t 207\n",
    "    GP \t 51 \t \t 0 \t \t 100.00%\n",
    "    GN \t 9 \t \t 147 \t 94.23%\n",
    "    AL \t 85.00% \t 100.00% \t 95.65%\n",
    "    ==============================\n",
    "    ========== LatticedChecker ==========\n",
    "         PP \t \t PN \t \t 60\n",
    "    GP \t 37 \t \t 1 \t \t 97.37%\n",
    "    GN \t 12 \t \t 10 \t  \t 45.45%\n",
    "    AL \t 75.51% \t 90.91% \t 78.33%\n",
    "    ==============================\n",
    "    ========== GraspReach ==========\n",
    "         PP \t \t PN \t \t 1000\n",
    "    GP \t 51 \t \t 0 \t \t 100.00%\n",
    "    GN \t 9 \t \t 940 \t 99.05%\n",
    "    AL \t 85.00% \t 100.00% \t 99.10%\n",
    "    ==============================\n",
    "    ========== ReachTotal ==========\n",
    "         PP \t \t PN \t \t 1000\n",
    "    GP \t 38 \t \t 0 \t \t 100.00%\n",
    "    GN \t 22 \t \t 940 \t 97.71%\n",
    "    AL \t 63.33% \t 100.00% \t 97.80%\n",
    "    ==============================\n",
    "    ========== Total ==========\n",
    "         PP \t \t PN \t \t 1000\n",
    "    GP \t 37 \t \t 1 \t \t 97.37%\n",
    "    GN \t 12 \t \t 950 \t 98.75%\n",
    "    AL \t 75.51% \t 99.89% \t 98.70%\n",
    "    ==============================\n",
    "```"
   ]
  },
  {
   "cell_type": "code",
   "execution_count": 43,
   "metadata": {},
   "outputs": [
    {
     "name": "stdout",
     "output_type": "stream",
     "text": [
      " ====================\n",
      " count: 1000 / 1000\n",
      " ----------------------------------------\n",
      "                      \t 49 / 60\r",
      " LatticedChecker :\n",
      "                      \t 207 / 1000\r",
      " GraspChecker :\n",
      "                      \t 38 / 60\r",
      " planning :\n",
      "                      \t 51 / 207\r",
      " inv_kin :\n",
      "                      \t 60 / 207\r",
      " ReachChecker :\n",
      " ----------------------------------------\n",
      " ====================\n"
     ]
    }
   ],
   "source": [
    "print(\" \"+\"=\"*20)\n",
    "print(\" count: {} / {}\".format(sample_count, count_max))\n",
    "print(\" \"+\"-\"*40)\n",
    "for k, v in check_dict.items():\n",
    "    print(\"                      \\t {} / {}\".format(np.sum(v), len(v)), end=\"\\r\")\n",
    "    print(\" {} :\".format(k))\n",
    "print(\" \"+\"-\"*40)\n",
    "print(\" \"+\"=\"*20)"
   ]
  },
  {
   "cell_type": "code",
   "execution_count": null,
   "metadata": {},
   "outputs": [],
   "source": []
  },
  {
   "cell_type": "markdown",
   "metadata": {},
   "source": [
    "#### filter counts\n",
    "* Indy7\n",
    "```\n",
    " ====================\n",
    " count: 1000/ 1000\n",
    " ----------------------------------------\n",
    " GraspChecker: 226/1002\n",
    " planning: 47/73\n",
    " ReachChecker: 73/226\n",
    " ik_gt: 63/226\n",
    " ====================\n",
    "```"
   ]
  },
  {
   "cell_type": "code",
   "execution_count": null,
   "metadata": {},
   "outputs": [],
   "source": []
  },
  {
   "cell_type": "code",
   "execution_count": null,
   "metadata": {},
   "outputs": [],
   "source": []
  },
  {
   "cell_type": "code",
   "execution_count": null,
   "metadata": {},
   "outputs": [],
   "source": [
    "import matplotlib.pyplot as plt\n",
    "plt.plot(np.array(reach_time_list)[np.where(reach_success_list)], '.')\n",
    "plt.plot(np.array(retrieve_time_list)[np.where(retrieve_success_list)], '.')\n",
    "# plt.axis([0, 400, 0, 30000])"
   ]
  },
  {
   "cell_type": "code",
   "execution_count": null,
   "metadata": {},
   "outputs": [],
   "source": [
    "idx_succ = np.where(retrieve_success_list)[0]\n",
    "retrieve_success_only=np.array(retrieve_time_list)[idx_succ]"
   ]
  },
  {
   "cell_type": "code",
   "execution_count": null,
   "metadata": {},
   "outputs": [],
   "source": [
    "np.sqrt(np.sum(np.square(retrieve_success_only))/len(retrieve_success_only))"
   ]
  },
  {
   "cell_type": "code",
   "execution_count": null,
   "metadata": {},
   "outputs": [],
   "source": [
    "pp = plt.hist(retrieve_success_only, bins=10)"
   ]
  },
  {
   "cell_type": "code",
   "execution_count": 34,
   "metadata": {},
   "outputs": [
    {
     "data": {
      "text/plain": [
       "13"
      ]
     },
     "execution_count": 34,
     "metadata": {},
     "output_type": "execute_result"
    }
   ],
   "source": [
    "len(np.where(retrieve_success_only>20000)[0])"
   ]
  },
  {
   "cell_type": "code",
   "execution_count": 35,
   "metadata": {},
   "outputs": [
    {
     "data": {
      "text/plain": [
       "3426"
      ]
     },
     "execution_count": 35,
     "metadata": {},
     "output_type": "execute_result"
    }
   ],
   "source": [
    "len(retrieve_success_only)"
   ]
  },
  {
   "cell_type": "code",
   "execution_count": null,
   "metadata": {},
   "outputs": [],
   "source": []
  },
  {
   "cell_type": "markdown",
   "metadata": {},
   "source": [
    "### Resetting SharedArray"
   ]
  },
  {
   "cell_type": "code",
   "execution_count": 5,
   "metadata": {},
   "outputs": [],
   "source": [
    "import SharedArray as sa\n",
    "import numpy as np\n",
    "import time\n",
    "robot_type_name = 'indy7'\n",
    "sa.delete(\"shm://{}.grasp_img\".format(robot_type_name))\n",
    "sa.delete(\"shm://{}.arm_img\".format(robot_type_name))\n",
    "sa.delete(\"shm://{}.rh_vals\".format(robot_type_name))\n",
    "sa.delete(\"shm://{}.result\".format(robot_type_name))\n",
    "sa.delete(\"shm://{}.query_in\".format(robot_type_name))\n",
    "sa.delete(\"shm://{}.response_out\".format(robot_type_name))\n",
    "sa.delete(\"shm://{}.query_quit\".format(robot_type_name))"
   ]
  },
  {
   "cell_type": "code",
   "execution_count": null,
   "metadata": {},
   "outputs": [],
   "source": []
  },
  {
   "cell_type": "code",
   "execution_count": null,
   "metadata": {},
   "outputs": [],
   "source": []
  },
  {
   "cell_type": "markdown",
   "metadata": {},
   "source": [
    "## ====================== deprecated ============================"
   ]
  },
  {
   "cell_type": "markdown",
   "metadata": {},
   "source": [
    "## prepare cells"
   ]
  },
  {
   "cell_type": "code",
   "execution_count": null,
   "metadata": {},
   "outputs": [],
   "source": [
    "gtimer = GlobalTimer.instance()\n",
    "gtimer.reset()\n",
    "with gtimer.block(\"prepare_reference_cells_ltc_full\"):\n",
    "    ltc_full.prepare_reference_cells(gscene)\n",
    "with gtimer.block(\"prepare_reference_cells_ltc_effector\"):\n",
    "    ltc_effector.prepare_reference_cells(gscene)\n",
    "with gtimer.block(\"prepare_reference_cells_ltc_arm_05\"):\n",
    "    ltc_arm_05.prepare_reference_cells(gscene)\n",
    "with gtimer.block(\"prepare_reference_cells_ltc_arm_10\"):\n",
    "    ltc_arm_10.prepare_reference_cells(gscene)\n",
    "print(gtimer)"
   ]
  },
  {
   "cell_type": "code",
   "execution_count": null,
   "metadata": {},
   "outputs": [],
   "source": [
    "gscene.show_motion(Traj_reach)"
   ]
  },
  {
   "cell_type": "code",
   "execution_count": null,
   "metadata": {},
   "outputs": [],
   "source": []
  },
  {
   "cell_type": "markdown",
   "metadata": {},
   "source": [
    "## visualize"
   ]
  },
  {
   "cell_type": "code",
   "execution_count": null,
   "metadata": {},
   "outputs": [],
   "source": [
    "vistem_list = []\n",
    "for col_idx in grasp_dict['tar']:\n",
    "    vistem_list.append(gscene.copy_from(ltc_effector.cell_refs[col_idx], color=(0,0,1,0.3)))\n",
    "\n",
    "for col_idx in grasp_dict['tool']:\n",
    "    vistem_list.append(gscene.copy_from(ltc_effector.cell_refs[col_idx], color=(0,1,0,0.3)))"
   ]
  },
  {
   "cell_type": "code",
   "execution_count": null,
   "metadata": {},
   "outputs": [],
   "source": [
    "for vistem in vistem_list:\n",
    "    if vistem in gscene:\n",
    "        gscene.remove(vistem)"
   ]
  },
  {
   "cell_type": "code",
   "execution_count": null,
   "metadata": {},
   "outputs": [],
   "source": []
  },
  {
   "cell_type": "code",
   "execution_count": null,
   "metadata": {},
   "outputs": [],
   "source": [
    "vistem_list = []\n",
    "for col_idx in arm_10_dict['tar']:\n",
    "    vistem_list.append(gscene.copy_from(ltc_arm_10.cell_refs[col_idx], color=(0,0,1,0.3)))\n",
    "\n",
    "for col_idx in arm_10_dict['tool']:\n",
    "    vistem_list.append(gscene.copy_from(ltc_arm_10.cell_refs[col_idx], color=(0,1,0,0.3)))"
   ]
  },
  {
   "cell_type": "code",
   "execution_count": null,
   "metadata": {},
   "outputs": [],
   "source": [
    "for vistem in vistem_list:\n",
    "    if vistem in gscene:\n",
    "        gscene.remove(vistem)"
   ]
  },
  {
   "cell_type": "code",
   "execution_count": null,
   "metadata": {},
   "outputs": [],
   "source": []
  },
  {
   "cell_type": "code",
   "execution_count": null,
   "metadata": {},
   "outputs": [],
   "source": [
    "vistem_list = []\n",
    "for col_idx in full_scene_dict['tar']:\n",
    "    vistem_list.append(gscene.copy_from(ltc_full.cell_refs[col_idx], color=(0,0,1,0.3)))\n",
    "\n",
    "for col_idx in full_scene_dict['tool']:\n",
    "    vistem_list.append(gscene.copy_from(ltc_full.cell_refs[col_idx], color=(0,1,0,0.3)))"
   ]
  },
  {
   "cell_type": "code",
   "execution_count": null,
   "metadata": {},
   "outputs": [],
   "source": [
    "for vistem in vistem_list:\n",
    "    if vistem in gscene:\n",
    "        gscene.remove(vistem)"
   ]
  },
  {
   "cell_type": "code",
   "execution_count": null,
   "metadata": {},
   "outputs": [],
   "source": []
  },
  {
   "cell_type": "markdown",
   "metadata": {},
   "source": [
    "## grasp conversion"
   ]
  },
  {
   "cell_type": "code",
   "execution_count": null,
   "metadata": {},
   "outputs": [],
   "source": [
    "gtimer.reset()\n",
    "with gtimer.block(\"convert_vertices\"):\n",
    "    ltc_effector.convert_vertices(actor_vertinfo_list, HOME_DICT, Tref=Tref)\n",
    "    ltc_effector.convert_vertices(object_vertinfo_list, HOME_DICT, Tref=Tref)\n",
    "print(gtimer)"
   ]
  },
  {
   "cell_type": "code",
   "execution_count": null,
   "metadata": {},
   "outputs": [],
   "source": [
    "vistem_list = []\n",
    "for coll_idxes in ltc_effector.coll_idx_dict.values():\n",
    "    for col_idx in coll_idxes:\n",
    "        vistem_list.append(gscene.copy_from(ltc_effector.cell_refs[col_idx]))"
   ]
  },
  {
   "cell_type": "code",
   "execution_count": null,
   "metadata": {},
   "outputs": [],
   "source": [
    "for vistem in vistem_list:\n",
    "    if vistem in gscene:\n",
    "        gscene.remove(vistem)"
   ]
  },
  {
   "cell_type": "markdown",
   "metadata": {},
   "source": [
    "## scene conversion"
   ]
  },
  {
   "cell_type": "code",
   "execution_count": null,
   "metadata": {},
   "outputs": [],
   "source": [
    "gtimer.reset()\n",
    "with gtimer.block(\"ltc_arm_10_convert\"):\n",
    "    Tref_base = SE3(Tref[:3,:3], (0, 0, shoulder_height))\n",
    "    ltc_arm_10.convert([gtem for gtem in gscene if gtem.collision and gtem not in gtems_robot], HOME_DICT, Tref=Tref_base)\n",
    "print(gtimer)"
   ]
  },
  {
   "cell_type": "code",
   "execution_count": null,
   "metadata": {},
   "outputs": [],
   "source": [
    "vistem_list = []\n",
    "for coll_idxes in ltc_arm_10.coll_idx_dict.values():\n",
    "    for col_idx in coll_idxes:\n",
    "        vistem_list.append(gscene.copy_from(ltc_arm_10.cell_refs[col_idx]))"
   ]
  },
  {
   "cell_type": "code",
   "execution_count": null,
   "metadata": {},
   "outputs": [],
   "source": [
    "for vistem in vistem_list:\n",
    "    if vistem in gscene:\n",
    "        gscene.remove(vistem)"
   ]
  },
  {
   "cell_type": "code",
   "execution_count": null,
   "metadata": {},
   "outputs": [],
   "source": []
  },
  {
   "cell_type": "markdown",
   "metadata": {},
   "source": [
    "## remove object"
   ]
  },
  {
   "cell_type": "code",
   "execution_count": null,
   "metadata": {},
   "outputs": [],
   "source": [
    "\n",
    "pscene.remove_object(obj_pscene.oname)\n",
    "for handle in handles:\n",
    "    gscene.remove(handle)"
   ]
  },
  {
   "cell_type": "code",
   "execution_count": null,
   "metadata": {},
   "outputs": [],
   "source": []
  },
  {
   "cell_type": "code",
   "execution_count": null,
   "metadata": {},
   "outputs": [],
   "source": [
    "gscene.get_items_on_links(TOOL_LINK_BUNDLE[0]) + gscene.get_items_on_links(TOOL_LINK_BUNDLE[1])"
   ]
  },
  {
   "cell_type": "code",
   "execution_count": null,
   "metadata": {},
   "outputs": [],
   "source": [
    "with gtimer.block(\"convert\"):\n",
    "    ltc_full.convert([gtem for gtem in gscene if gtem not in gtems_robot], crob.home_dict)"
   ]
  },
  {
   "cell_type": "code",
   "execution_count": null,
   "metadata": {
    "scrolled": true
   },
   "outputs": [],
   "source": [
    "print(gtimer)"
   ]
  },
  {
   "cell_type": "code",
   "execution_count": null,
   "metadata": {},
   "outputs": [],
   "source": [
    "gscene.show_pose(crob.home_pose)"
   ]
  },
  {
   "cell_type": "code",
   "execution_count": null,
   "metadata": {},
   "outputs": [],
   "source": [
    "# for coll_idxes in latticizer.coll_idx_dict.values():\n",
    "#     for col_idx in coll_idxes:\n",
    "#         gscene.copy_from(latticizer.cell_refs[col_idx])"
   ]
  },
  {
   "cell_type": "code",
   "execution_count": null,
   "metadata": {},
   "outputs": [],
   "source": []
  },
  {
   "cell_type": "markdown",
   "metadata": {},
   "source": [
    "## deprecated python ver"
   ]
  },
  {
   "cell_type": "code",
   "execution_count": null,
   "metadata": {},
   "outputs": [],
   "source": [
    "from pkg.utils.gjk import make_point3, get_point_list, get_point_list_list, get_point_list_list_from_point_list\n",
    "from pkg.utils.gjk import get_gjk_distance, get_gjk_distance_min, get_gjk_distance_all"
   ]
  },
  {
   "cell_type": "code",
   "execution_count": null,
   "metadata": {},
   "outputs": [],
   "source": [
    "gtimer = GlobalTimer.instance()\n",
    "gtimer.reset()\n",
    "with gtimer.block(\"get_cell_vertices\"):\n",
    "    gscene_ref = GeometryScene(gscene.urdf_content, gscene.urdf_path, gscene.joint_names, gscene.link_names, rviz=False)\n",
    "    centers = get_centers(Nwdh, L_CELL, OFFSET_ZERO).reshape((-1,3))\n",
    "    cell_refs = []\n",
    "    for icell, center in enumerate(centers):\n",
    "        cell_refs.append(gscene_ref.create_safe(GEOTYPE.BOX, str(icell), \"base_link\", dims=(L_CELL,)*3, \n",
    "                                                center=center, rpy=(0,0,0), color=(1,1,1,0.2), \n",
    "                                                display=True, collision=False, fixed=True))\n",
    "    cell_vertices = get_cell_vertices(centers, L_CELL)\n",
    "    cell_vertices_gjk = get_point_list_list(cell_vertices)\n",
    "    center_vertices_gjk = get_point_list_list(np.expand_dims(centers, axis=-2))"
   ]
  },
  {
   "cell_type": "code",
   "execution_count": null,
   "metadata": {},
   "outputs": [],
   "source": [
    "print(gtimer)"
   ]
  },
  {
   "cell_type": "code",
   "execution_count": null,
   "metadata": {},
   "outputs": [],
   "source": [
    "gtimer.reset()\n",
    "sqrt3 = np.sqrt(3)\n",
    "LCmax = L_CELL*sqrt3/2\n",
    "Qdict = crob.home_dict\n",
    "with gtimer.block(\"full\"):\n",
    "    for gtem in gscene:\n",
    "#         if gtem in gtems_robot or not gtem.collision:\n",
    "#             continue\n",
    "        with gtimer.block(\"centers\"):\n",
    "            Tgtem = SE3_inv(gtem.get_tf(Qdict))\n",
    "            centers_loc = np.abs(np.matmul(centers, Tgtem[:3,:3].transpose())+Tgtem[:3,3])\n",
    "        if gtem.gtype == GEOTYPE.BOX and np.sum(np.abs(gtem.rpy))<1e-5:\n",
    "            with gtimer.block(\"right box\"):\n",
    "                dist_list = np.max(centers_loc - np.divide(gtem.dims,2) - L_CELL, axis=-1)\n",
    "                cell_idx_occupy = np.where(dist_list < 1e-3)[0]\n",
    "                continue\n",
    "        with gtimer.block(\"calc_center_dist\"):\n",
    "            dist_list = np.max(centers_loc - np.divide(gtem.dims,2) - LCmax, axis=-1)\n",
    "            idx_candi = np.where(dist_list<0)[0]\n",
    "        with gtimer.block(\"calc_points\"):\n",
    "            gtem_verts, gtem_radius = gtem.get_vertice_radius_from(Qdict)\n",
    "        with gtimer.block(\"get_point_gjk\"):\n",
    "            gtem_verts_gjk = get_point_list(gtem_verts)\n",
    "        with gtimer.block(\"get_distance_gjk\"):\n",
    "            cell_idx_occupy = []\n",
    "            for idx in idx_candi:\n",
    "                cell_candi = cell_vertices_gjk[idx]\n",
    "                center_v_candi = center_vertices_gjk[idx]\n",
    "                if ((get_gjk_distance(cell_candi, gtem_verts_gjk) - gtem_radius < 1e-4)):\n",
    "                    cell_idx_occupy.append(idx)\n",
    "#                 if ((get_gjk_distance(gtem_verts_gjk, center_v_candi) - gtem_radius - L_CELL/2 < 1e-4) or \n",
    "#                     (get_gjk_distance(cell_candi, gtem_verts_gjk) - gtem_radius < 1e-4)):\n",
    "#                     cell_idx_occupy.append(idx)\n",
    "print(gtimer)"
   ]
  }
 ],
 "metadata": {
  "kernelspec": {
   "display_name": "Python 2",
   "language": "python",
   "name": "python2"
  },
  "language_info": {
   "codemirror_mode": {
    "name": "ipython",
    "version": 2
   },
   "file_extension": ".py",
   "mimetype": "text/x-python",
   "name": "python",
   "nbconvert_exporter": "python",
   "pygments_lexer": "ipython2",
   "version": "2.7.17"
  }
 },
 "nbformat": 4,
 "nbformat_minor": 2
}
