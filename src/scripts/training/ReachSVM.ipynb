{
 "cells": [
  {
   "cell_type": "code",
   "execution_count": 1,
   "metadata": {},
   "outputs": [],
   "source": [
    "from __future__ import print_function\n",
    "import os\n",
    "os.chdir(os.path.join(os.environ[\"RNB_PLANNING_DIR\"], 'src'))"
   ]
  },
  {
   "cell_type": "code",
   "execution_count": null,
   "metadata": {},
   "outputs": [],
   "source": []
  },
  {
   "cell_type": "markdown",
   "metadata": {},
   "source": [
    "## init stereo aruco detector scene builder"
   ]
  },
  {
   "cell_type": "code",
   "execution_count": 2,
   "metadata": {
    "scrolled": true
   },
   "outputs": [],
   "source": [
    "from pkg.detector.aruco.marker_config import *\n",
    "from pkg.detector.aruco.stereo import ArucoStereo\n",
    "from pkg.detector.camera.realsense import RealSense\n",
    "from pkg.detector.camera.kinect import Kinect\n",
    "from pkg.geometry.builder.scene_builder import SceneBuilder\n",
    "\n",
    "s_builder = SceneBuilder(None)\n",
    "# s_builder.reset_reference_coord(ref_name=\"floor\")"
   ]
  },
  {
   "cell_type": "code",
   "execution_count": null,
   "metadata": {},
   "outputs": [],
   "source": []
  },
  {
   "cell_type": "code",
   "execution_count": 3,
   "metadata": {},
   "outputs": [],
   "source": [
    "from pkg.planning.filtering.reach_filter import ReachTrainer\n",
    "from pkg.controller.combined_robot import *"
   ]
  },
  {
   "cell_type": "code",
   "execution_count": 4,
   "metadata": {},
   "outputs": [],
   "source": [
    "rtrain = ReachTrainer(scene_builder=s_builder)"
   ]
  },
  {
   "cell_type": "code",
   "execution_count": null,
   "metadata": {},
   "outputs": [],
   "source": []
  },
  {
   "cell_type": "markdown",
   "metadata": {},
   "source": [
    "## collect and train"
   ]
  },
  {
   "cell_type": "code",
   "execution_count": 5,
   "metadata": {
    "scrolled": true
   },
   "outputs": [
    {
     "name": "stdout",
     "output_type": "stream",
     "text": [
      "connection command:\n",
      "indy0: False\n",
      "Unable to register with master node [http://localhost:11311]: master may not be running yet. Will keep trying.\n",
      "added robot collision boundaries\n",
      "0 / 20000 (0 / 10757341 s): current success ratio = 0.0\n",
      "100 / 20000 (29 / 5885 s): current success ratio = 0.49504950495\n",
      "200 / 20000 (56 / 5604 s): current success ratio = 0.522388059701\n",
      "300 / 20000 (86 / 5766 s): current success ratio = 0.504983388704\n",
      "400 / 20000 (113 / 5680 s): current success ratio = 0.513715710723\n",
      "500 / 20000 (141 / 5650 s): current success ratio = 0.516966067864\n",
      "600 / 20000 (165 / 5517 s): current success ratio = 0.53078202995\n",
      "700 / 20000 (196 / 5605 s): current success ratio = 0.522111269615\n",
      "800 / 20000 (227 / 5696 s): current success ratio = 0.513108614232\n",
      "900 / 20000 (257 / 5713 s): current success ratio = 0.511653718091\n",
      "1000 / 20000 (284 / 5696 s): current success ratio = 0.513486513487\n",
      "1100 / 20000 (316 / 5745 s): current success ratio = 0.508628519528\n",
      "1200 / 20000 (348 / 5800 s): current success ratio = 0.502914238135\n",
      "1300 / 20000 (377 / 5808 s): current success ratio = 0.502690238278\n",
      "1400 / 20000 (404 / 5775 s): current success ratio = 0.506067094932\n",
      "1500 / 20000 (430 / 5744 s): current success ratio = 0.508994003997\n",
      "1600 / 20000 (462 / 5779 s): current success ratio = 0.505309181761\n",
      "1700 / 20000 (491 / 5777 s): current success ratio = 0.505584950029\n",
      "1800 / 20000 (520 / 5785 s): current success ratio = 0.504719600222\n",
      "1900 / 20000 (548 / 5777 s): current success ratio = 0.505523408732\n",
      "2000 / 20000 (577 / 5779 s): current success ratio = 0.505247376312\n",
      "2100 / 20000 (606 / 5771 s): current success ratio = 0.505949547834\n",
      "2200 / 20000 (635 / 5775 s): current success ratio = 0.505679236711\n",
      "2300 / 20000 (662 / 5760 s): current success ratio = 0.507170795306\n",
      "2400 / 20000 (690 / 5750 s): current success ratio = 0.508121615993\n",
      "2500 / 20000 (719 / 5756 s): current success ratio = 0.507397041184\n",
      "2600 / 20000 (749 / 5761 s): current success ratio = 0.506728181469\n",
      "2700 / 20000 (774 / 5734 s): current success ratio = 0.509440947797\n",
      "2800 / 20000 (801 / 5726 s): current success ratio = 0.510174937522\n",
      "2900 / 20000 (831 / 5733 s): current success ratio = 0.509479489831\n",
      "3000 / 20000 (863 / 5755 s): current success ratio = 0.507164278574\n",
      "3100 / 20000 (888 / 5733 s): current success ratio = 0.509190583683\n",
      "3200 / 20000 (917 / 5733 s): current success ratio = 0.509215870041\n",
      "3300 / 20000 (948 / 5746 s): current success ratio = 0.508027870342\n",
      "3400 / 20000 (980 / 5765 s): current success ratio = 0.50602763893\n",
      "3500 / 20000 (1009 / 5767 s): current success ratio = 0.505855469866\n",
      "3600 / 20000 (1039 / 5774 s): current success ratio = 0.505137461816\n",
      "3700 / 20000 (1072 / 5798 s): current success ratio = 0.502566873818\n",
      "3800 / 20000 (1103 / 5809 s): current success ratio = 0.501446987635\n",
      "3900 / 20000 (1130 / 5795 s): current success ratio = 0.502947962061\n",
      "4000 / 20000 (1159 / 5796 s): current success ratio = 0.50287428143\n",
      "4100 / 20000 (1193 / 5823 s): current success ratio = 0.500121921483\n",
      "4200 / 20000 (1224 / 5831 s): current success ratio = 0.499404903594\n",
      "4300 / 20000 (1255 / 5840 s): current success ratio = 0.498488723553\n",
      "4400 / 20000 (1284 / 5837 s): current success ratio = 0.498750284026\n",
      "4500 / 20000 (1311 / 5830 s): current success ratio = 0.499444567874\n",
      "4600 / 20000 (1341 / 5834 s): current success ratio = 0.49902195175\n",
      "4700 / 20000 (1368 / 5824 s): current success ratio = 0.500106360349\n",
      "4800 / 20000 (1397 / 5822 s): current success ratio = 0.500312434909\n",
      "4900 / 20000 (1429 / 5834 s): current success ratio = 0.499081820037\n",
      "5000 / 20000 (1460 / 5841 s): current success ratio = 0.498300339932\n",
      "5100 / 20000 (1489 / 5841 s): current success ratio = 0.498333660067\n",
      "5200 / 20000 (1518 / 5841 s): current success ratio = 0.498365698904\n",
      "5300 / 20000 (1546 / 5836 s): current success ratio = 0.498773816261\n",
      "5400 / 20000 (1576 / 5838 s): current success ratio = 0.498611368265\n",
      "5500 / 20000 (1605 / 5836 s): current success ratio = 0.498818396655\n",
      "5600 / 20000 (1636 / 5845 s): current success ratio = 0.497946795215\n",
      "5700 / 20000 (1665 / 5845 s): current success ratio = 0.497982810033\n",
      "5800 / 20000 (1692 / 5836 s): current success ratio = 0.498879503534\n",
      "5900 / 20000 (1721 / 5836 s): current success ratio = 0.498898491781\n",
      "6000 / 20000 (1748 / 5829 s): current success ratio = 0.499583402766\n",
      "6100 / 20000 (1776 / 5824 s): current success ratio = 0.500081953778\n",
      "6200 / 20000 (1809 / 5837 s): current success ratio = 0.498629253346\n",
      "6300 / 20000 (1836 / 5829 s): current success ratio = 0.499444532614\n",
      "6400 / 20000 (1864 / 5827 s): current success ratio = 0.499609436026\n",
      "6500 / 20000 (1892 / 5821 s): current success ratio = 0.500230733733\n",
      "6600 / 20000 (1920 / 5819 s): current success ratio = 0.500530222694\n",
      "6700 / 20000 (1945 / 5808 s): current success ratio = 0.501566930309\n",
      "6800 / 20000 (1974 / 5806 s): current success ratio = 0.501837965005\n",
      "6900 / 20000 (2001 / 5800 s): current success ratio = 0.502390957832\n",
      "7000 / 20000 (2030 / 5802 s): current success ratio = 0.502213969433\n",
      "7100 / 20000 (2055 / 5789 s): current success ratio = 0.503450218279\n",
      "7200 / 20000 (2082 / 5785 s): current success ratio = 0.503957783641\n",
      "7300 / 20000 (2111 / 5784 s): current success ratio = 0.504040542391\n",
      "7400 / 20000 (2139 / 5781 s): current success ratio = 0.504391298473\n",
      "7500 / 20000 (2167 / 5779 s): current success ratio = 0.504599386748\n",
      "7600 / 20000 (2197 / 5781 s): current success ratio = 0.504407314827\n",
      "7700 / 20000 (2225 / 5779 s): current success ratio = 0.504609790936\n",
      "7800 / 20000 (2252 / 5776 s): current success ratio = 0.50493526471\n",
      "7900 / 20000 (2280 / 5774 s): current success ratio = 0.505125933426\n",
      "8000 / 20000 (2309 / 5774 s): current success ratio = 0.505061867267\n",
      "8100 / 20000 (2339 / 5776 s): current success ratio = 0.504875941242\n",
      "8200 / 20000 (2369 / 5778 s): current success ratio = 0.504694549445\n",
      "8300 / 20000 (2402 / 5788 s): current success ratio = 0.503674256114\n",
      "8400 / 20000 (2432 / 5792 s): current success ratio = 0.503273419831\n",
      "8500 / 20000 (2463 / 5795 s): current success ratio = 0.502882013881\n",
      "8600 / 20000 (2489 / 5790 s): current success ratio = 0.50342983374\n",
      "8700 / 20000 (2520 / 5793 s): current success ratio = 0.503045626939\n",
      "8800 / 20000 (2552 / 5800 s): current success ratio = 0.502329280764\n",
      "8900 / 20000 (2582 / 5803 s): current success ratio = 0.502078418155\n",
      "9000 / 20000 (2612 / 5805 s): current success ratio = 0.501833129652\n",
      "9100 / 20000 (2637 / 5796 s): current success ratio = 0.502801889902\n",
      "9200 / 20000 (2668 / 5801 s): current success ratio = 0.502228018694\n",
      "9300 / 20000 (2700 / 5806 s): current success ratio = 0.501666487474\n",
      "9400 / 20000 (2731 / 5811 s): current success ratio = 0.50122327412\n",
      "9500 / 20000 (2755 / 5801 s): current success ratio = 0.502157667614\n",
      "9600 / 20000 (2789 / 5811 s): current success ratio = 0.501197791897\n",
      "9700 / 20000 (2821 / 5817 s): current success ratio = 0.500566951861\n",
      "9800 / 20000 (2850 / 5817 s): current success ratio = 0.500561167228\n",
      "9900 / 20000 (2878 / 5815 s): current success ratio = 0.500858499142\n",
      "10000 / 20000 (2911 / 5822 s): current success ratio = 0.500049995\n",
      "10100 / 20000 (2939 / 5820 s): current success ratio = 0.500346500347\n",
      "10200 / 20000 (2971 / 5827 s): current success ratio = 0.499656896383\n",
      "10300 / 20000 (3004 / 5833 s): current success ratio = 0.499077759441\n",
      "10400 / 20000 (3036 / 5838 s): current success ratio = 0.498509758677\n",
      "10500 / 20000 (3064 / 5836 s): current success ratio = 0.498714408152\n",
      "10600 / 20000 (3093 / 5837 s): current success ratio = 0.498632204509\n",
      "10700 / 20000 (3124 / 5840 s): current success ratio = 0.498364638819\n",
      "10800 / 20000 (3150 / 5834 s): current success ratio = 0.49893528377\n",
      "10900 / 20000 (3178 / 5831 s): current success ratio = 0.499220255022\n",
      "11000 / 20000 (3207 / 5831 s): current success ratio = 0.499227342969\n",
      "11100 / 20000 (3240 / 5839 s): current success ratio = 0.498423565445\n",
      "11200 / 20000 (3266 / 5832 s): current success ratio = 0.499062583698\n",
      "11300 / 20000 (3296 / 5833 s): current success ratio = 0.498982390939\n",
      "11400 / 20000 (3325 / 5834 s): current success ratio = 0.498903604947\n",
      "11500 / 20000 (3357 / 5839 s): current success ratio = 0.498391444222\n",
      "11600 / 20000 (3388 / 5842 s): current success ratio = 0.49814671149\n"
     ]
    },
    {
     "name": "stdout",
     "output_type": "stream",
     "text": [
      "11700 / 20000 (3415 / 5837 s): current success ratio = 0.498675326895\n",
      "11800 / 20000 (3441 / 5833 s): current success ratio = 0.499110244895\n",
      "11900 / 20000 (3474 / 5839 s): current success ratio = 0.498445508781\n",
      "12000 / 20000 (3505 / 5842 s): current success ratio = 0.498208482626\n",
      "12100 / 20000 (3531 / 5837 s): current success ratio = 0.498636476324\n",
      "12200 / 20000 (3561 / 5837 s): current success ratio = 0.498647651832\n",
      "12300 / 20000 (3593 / 5843 s): current success ratio = 0.498089586213\n",
      "12400 / 20000 (3628 / 5851 s): current success ratio = 0.497217966293\n",
      "12500 / 20000 (3657 / 5851 s): current success ratio = 0.497240220782\n",
      "12600 / 20000 (3689 / 5856 s): current success ratio = 0.496785969368\n",
      "12700 / 20000 (3719 / 5856 s): current success ratio = 0.496732540745\n",
      "12800 / 20000 (3750 / 5859 s): current success ratio = 0.496445590188\n",
      "12900 / 20000 (3779 / 5859 s): current success ratio = 0.496395628246\n",
      "13000 / 20000 (3809 / 5860 s): current success ratio = 0.49634643489\n",
      "13100 / 20000 (3837 / 5859 s): current success ratio = 0.496450652622\n",
      "13200 / 20000 (3864 / 5855 s): current success ratio = 0.496780546928\n",
      "13300 / 20000 (3894 / 5856 s): current success ratio = 0.496729569205\n",
      "13400 / 20000 (3925 / 5858 s): current success ratio = 0.496530109693\n",
      "13500 / 20000 (3955 / 5859 s): current success ratio = 0.496407673506\n",
      "13600 / 20000 (3984 / 5859 s): current success ratio = 0.496434085729\n",
      "13700 / 20000 (4016 / 5863 s): current success ratio = 0.496022188161\n",
      "13800 / 20000 (4044 / 5861 s): current success ratio = 0.496195927831\n",
      "13900 / 20000 (4076 / 5865 s): current success ratio = 0.495791669664\n",
      "14000 / 20000 (4105 / 5864 s): current success ratio = 0.495893150489\n",
      "14100 / 20000 (4139 / 5871 s): current success ratio = 0.495213105454\n",
      "14200 / 20000 (4169 / 5872 s): current success ratio = 0.495105978452\n",
      "14300 / 20000 (4197 / 5870 s): current success ratio = 0.495349975526\n",
      "14400 / 20000 (4224 / 5867 s): current success ratio = 0.495660023609\n",
      "14500 / 20000 (4251 / 5863 s): current success ratio = 0.495965795462\n",
      "14600 / 20000 (4281 / 5864 s): current success ratio = 0.495924936648\n",
      "14700 / 20000 (4312 / 5866 s): current success ratio = 0.495680565948\n",
      "14800 / 20000 (4341 / 5867 s): current success ratio = 0.495642186339\n",
      "14900 / 20000 (4371 / 5867 s): current success ratio = 0.495604321858\n",
      "15000 / 20000 (4398 / 5865 s): current success ratio = 0.495900273315\n",
      "15100 / 20000 (4427 / 5864 s): current success ratio = 0.495993642805\n",
      "15200 / 20000 (4460 / 5869 s): current success ratio = 0.495493717519\n",
      "15300 / 20000 (4491 / 5871 s): current success ratio = 0.495261747598\n",
      "15400 / 20000 (4523 / 5874 s): current success ratio = 0.49496785923\n",
      "15500 / 20000 (4552 / 5873 s): current success ratio = 0.49500032256\n",
      "15600 / 20000 (4587 / 5881 s): current success ratio = 0.494199089802\n",
      "15700 / 20000 (4615 / 5879 s): current success ratio = 0.494427106554\n",
      "15800 / 20000 (4645 / 5880 s): current success ratio = 0.494272514398\n",
      "15900 / 20000 (4679 / 5885 s): current success ratio = 0.493742531916\n",
      "16000 / 20000 (4706 / 5883 s): current success ratio = 0.494031623024\n",
      "16100 / 20000 (4735 / 5883 s): current success ratio = 0.494068691386\n",
      "16200 / 20000 (4763 / 5880 s): current success ratio = 0.494290475897\n",
      "16300 / 20000 (4789 / 5876 s): current success ratio = 0.494754923011\n",
      "16400 / 20000 (4822 / 5880 s): current success ratio = 0.494299128102\n",
      "16500 / 20000 (4851 / 5880 s): current success ratio = 0.494333676747\n",
      "16600 / 20000 (4881 / 5881 s): current success ratio = 0.494247334498\n",
      "16700 / 20000 (4915 / 5886 s): current success ratio = 0.493742889647\n",
      "16800 / 20000 (4943 / 5884 s): current success ratio = 0.493899172668\n",
      "16900 / 20000 (4973 / 5885 s): current success ratio = 0.493816933909\n",
      "17000 / 20000 (5003 / 5885 s): current success ratio = 0.493794482677\n",
      "17100 / 20000 (5033 / 5887 s): current success ratio = 0.493655341793\n",
      "17200 / 20000 (5064 / 5888 s): current success ratio = 0.493517818731\n",
      "17300 / 20000 (5094 / 5889 s): current success ratio = 0.493439685567\n",
      "17400 / 20000 (5123 / 5889 s): current success ratio = 0.493419918395\n",
      "17500 / 20000 (5152 / 5888 s): current success ratio = 0.493514656305\n",
      "17600 / 20000 (5181 / 5887 s): current success ratio = 0.493608317709\n",
      "17700 / 20000 (5212 / 5889 s): current success ratio = 0.493361956952\n",
      "17800 / 20000 (5239 / 5886 s): current success ratio = 0.49368013033\n",
      "17900 / 20000 (5269 / 5887 s): current success ratio = 0.493659572091\n",
      "18000 / 20000 (5295 / 5883 s): current success ratio = 0.494028109549\n",
      "18100 / 20000 (5328 / 5887 s): current success ratio = 0.493619137064\n",
      "18200 / 20000 (5353 / 5883 s): current success ratio = 0.494038789078\n",
      "18300 / 20000 (5386 / 5886 s): current success ratio = 0.493688869461\n",
      "18400 / 20000 (5413 / 5884 s): current success ratio = 0.493940546709\n",
      "18500 / 20000 (5438 / 5879 s): current success ratio = 0.4944057078\n",
      "18600 / 20000 (5469 / 5881 s): current success ratio = 0.49422074082\n",
      "18700 / 20000 (5502 / 5885 s): current success ratio = 0.493877332763\n",
      "18800 / 20000 (5536 / 5889 s): current success ratio = 0.493431200468\n",
      "18900 / 20000 (5562 / 5886 s): current success ratio = 0.49373049045\n",
      "19000 / 20000 (5590 / 5884 s): current success ratio = 0.49386874375\n",
      "19100 / 20000 (5620 / 5885 s): current success ratio = 0.493848489608\n",
      "19200 / 20000 (5651 / 5887 s): current success ratio = 0.493620123952\n",
      "19300 / 20000 (5677 / 5883 s): current success ratio = 0.494015854101\n",
      "19400 / 20000 (5709 / 5885 s): current success ratio = 0.493788979949\n",
      "19500 / 20000 (5735 / 5882 s): current success ratio = 0.49412850623\n",
      "19600 / 20000 (5759 / 5877 s): current success ratio = 0.49461762155\n",
      "19700 / 20000 (5785 / 5873 s): current success ratio = 0.494949494949\n",
      "19800 / 20000 (5817 / 5876 s): current success ratio = 0.494671986263\n",
      "19900 / 20000 (5843 / 5872 s): current success ratio = 0.495050499975\n",
      "connection command:\n",
      "indy0: False\n",
      "added robot collision boundaries\n",
      "0 / 5000 (0 / 2696344 s): current success ratio = 0.0\n",
      "100 / 5000 (27 / 1355 s): current success ratio = 0.544554455446\n",
      "200 / 5000 (55 / 1377 s): current success ratio = 0.532338308458\n",
      "300 / 5000 (85 / 1428 s): current success ratio = 0.511627906977\n",
      "400 / 5000 (114 / 1434 s): current success ratio = 0.508728179551\n",
      "500 / 5000 (144 / 1448 s): current success ratio = 0.502994011976\n",
      "600 / 5000 (173 / 1445 s): current success ratio = 0.504159733777\n",
      "700 / 5000 (210 / 1500 s): current success ratio = 0.482168330956\n",
      "800 / 5000 (241 / 1507 s): current success ratio = 0.479400749064\n",
      "900 / 5000 (272 / 1515 s): current success ratio = 0.476137624861\n",
      "1000 / 5000 (303 / 1518 s): current success ratio = 0.474525474525\n",
      "1100 / 5000 (332 / 1512 s): current success ratio = 0.476839237057\n",
      "1200 / 5000 (358 / 1495 s): current success ratio = 0.483763530391\n",
      "1300 / 5000 (389 / 1497 s): current success ratio = 0.482705611068\n",
      "1400 / 5000 (416 / 1487 s): current success ratio = 0.486795146324\n",
      "1500 / 5000 (444 / 1482 s): current success ratio = 0.489007328448\n",
      "1600 / 5000 (473 / 1479 s): current success ratio = 0.490318550906\n",
      "1700 / 5000 (497 / 1461 s): current success ratio = 0.497354497354\n",
      "1800 / 5000 (527 / 1465 s): current success ratio = 0.495835646863\n",
      "1900 / 5000 (555 / 1462 s): current success ratio = 0.497106785902\n",
      "2000 / 5000 (587 / 1468 s): current success ratio = 0.494752623688\n",
      "2100 / 5000 (615 / 1466 s): current success ratio = 0.495954307473\n",
      "2200 / 5000 (641 / 1457 s): current success ratio = 0.499318491595\n",
      "2300 / 5000 (670 / 1458 s): current success ratio = 0.498913515863\n",
      "2400 / 5000 (696 / 1450 s): current success ratio = 0.501874219075\n",
      "2500 / 5000 (724 / 1448 s): current success ratio = 0.50299880048\n",
      "2600 / 5000 (754 / 1451 s): current success ratio = 0.501730103806\n",
      "2700 / 5000 (781 / 1447 s): current success ratio = 0.503146982599\n",
      "2800 / 5000 (808 / 1442 s): current success ratio = 0.505176722599\n",
      "2900 / 5000 (834 / 1438 s): current success ratio = 0.507066528783\n",
      "3000 / 5000 (861 / 1435 s): current success ratio = 0.508163945352\n",
      "3100 / 5000 (886 / 1429 s): current success ratio = 0.510480490164\n",
      "3200 / 5000 (918 / 1435 s): current success ratio = 0.507966260544\n",
      "3300 / 5000 (948 / 1436 s): current success ratio = 0.507421993335\n",
      "3400 / 5000 (980 / 1441 s): current success ratio = 0.505733607762\n",
      "3500 / 5000 (1008 / 1440 s): current success ratio = 0.506141102542\n"
     ]
    },
    {
     "name": "stdout",
     "output_type": "stream",
     "text": [
      "3600 / 5000 (1036 / 1440 s): current success ratio = 0.506248264371\n",
      "3700 / 5000 (1063 / 1437 s): current success ratio = 0.50743042421\n",
      "3800 / 5000 (1095 / 1440 s): current success ratio = 0.50591949487\n",
      "3900 / 5000 (1125 / 1442 s): current success ratio = 0.505255062804\n",
      "4000 / 5000 (1156 / 1445 s): current success ratio = 0.503874031492\n",
      "4100 / 5000 (1185 / 1445 s): current success ratio = 0.504023408925\n",
      "4200 / 5000 (1215 / 1447 s): current success ratio = 0.50321352059\n",
      "4300 / 5000 (1247 / 1450 s): current success ratio = 0.501976284585\n",
      "4400 / 5000 (1275 / 1449 s): current success ratio = 0.502385821404\n",
      "4500 / 5000 (1304 / 1448 s): current success ratio = 0.50255498778\n",
      "4600 / 5000 (1336 / 1452 s): current success ratio = 0.501195392306\n",
      "4700 / 5000 (1366 / 1453 s): current success ratio = 0.500744522442\n",
      "4800 / 5000 (1392 / 1450 s): current success ratio = 0.501978754426\n",
      "4900 / 5000 (1423 / 1452 s): current success ratio = 0.501122219955\n",
      "================================================================================\n",
      "trainset: \t606.1 ms/1 = 606.1 ms (606.104/606.104)\n",
      "testset: \t151.4 ms/1 = 151.4 ms (151.426/151.426)\n",
      "\n",
      "================================================================================\n",
      "trainning accuracy = 99.13 %\n",
      "test accuracy = 97.7 %\n",
      "================================================================================\n",
      "trainning success accuracy = 99.34 %\n",
      "trainning failure accuracy = 98.92 %\n",
      "================================================================================\n",
      "test success accuracy = 97.88 %\n",
      "test failure accuracy = 97.52 %\n",
      "================================================================================\n"
     ]
    },
    {
     "data": {
      "text/plain": [
       "[<matplotlib.lines.Line2D at 0x7f6d5b62a0d0>]"
      ]
     },
     "execution_count": 5,
     "metadata": {},
     "output_type": "execute_result"
    },
    {
     "data": {
      "image/png": "[encoded data removed]",
      "text/plain": [
       "<Figure size 432x288 with 1 Axes>"
      ]
     },
     "metadata": {
      "needs_background": "light"
     },
     "output_type": "display_data"
    }
   ],
   "source": [
    "rtrain.collect_and_learn(RobotType.indy7gripper, \"indy0_tcp\", \n",
    "                         TRAIN_COUNT=20000, TEST_COUNT=5000, save_data=True, save_model=True, timeout=0.5)\n",
    "import matplotlib.pyplot as plt\n",
    "plt.plot(rtrain.time_plan, '.')"
   ]
  },
  {
   "cell_type": "code",
   "execution_count": null,
   "metadata": {
    "scrolled": true
   },
   "outputs": [],
   "source": [
    "rtrain.collect_and_learn(RobotType.panda, \"panda0_hand\", \n",
    "                         TRAIN_COUNT=20000, TEST_COUNT=5000, save_data=True, save_model=True, timeout=1)\n",
    "import matplotlib.pyplot as plt\n",
    "plt.plot(rtrain.time_plan, '.')"
   ]
  },
  {
   "cell_type": "code",
   "execution_count": null,
   "metadata": {},
   "outputs": [],
   "source": []
  },
  {
   "cell_type": "markdown",
   "metadata": {},
   "source": [
    "## load and train"
   ]
  },
  {
   "cell_type": "code",
   "execution_count": 6,
   "metadata": {
    "scrolled": true
   },
   "outputs": [
    {
     "name": "stdout",
     "output_type": "stream",
     "text": [
      "================================================================================\n",
      "trainset: \t1045.8 ms/1 = 1045.8 ms (1045.793/1045.793)\n",
      "testset: \t261.5 ms/1 = 261.5 ms (261.452/261.452)\n",
      "\n",
      "================================================================================\n",
      "trainning accuracy = 98.23 %\n",
      "test accuracy = 97.58 %\n",
      "================================================================================\n",
      "trainning success accuracy = 98.75 %\n",
      "trainning failure accuracy = 97.73 %\n",
      "================================================================================\n",
      "test success accuracy = 98.24 %\n",
      "test failure accuracy = 96.92 %\n",
      "================================================================================\n",
      "================================================================================\n",
      "trainset: \t901.6 ms/1 = 901.6 ms (901.6/901.6)\n",
      "testset: \t225.8 ms/1 = 225.8 ms (225.828/225.828)\n",
      "\n",
      "================================================================================\n",
      "trainning accuracy = 98.46 %\n",
      "test accuracy = 97.58 %\n",
      "================================================================================\n",
      "trainning success accuracy = 98.9 %\n",
      "trainning failure accuracy = 98.03 %\n",
      "================================================================================\n",
      "test success accuracy = 98.0 %\n",
      "test failure accuracy = 97.16 %\n",
      "================================================================================\n",
      "================================================================================\n",
      "trainset: \t784.6 ms/1 = 784.6 ms (784.554/784.554)\n",
      "testset: \t196.6 ms/1 = 196.6 ms (196.645/196.645)\n",
      "\n",
      "================================================================================\n",
      "trainning accuracy = 98.65 %\n",
      "test accuracy = 97.56 %\n",
      "================================================================================\n",
      "trainning success accuracy = 98.96 %\n",
      "trainning failure accuracy = 98.35 %\n",
      "================================================================================\n",
      "test success accuracy = 97.8 %\n",
      "test failure accuracy = 97.32 %\n",
      "================================================================================\n",
      "================================================================================\n",
      "trainset: \t686.4 ms/1 = 686.4 ms (686.374/686.374)\n",
      "testset: \t171.7 ms/1 = 171.7 ms (171.719/171.719)\n",
      "\n",
      "================================================================================\n",
      "trainning accuracy = 98.91 %\n",
      "test accuracy = 97.5 %\n",
      "================================================================================\n",
      "trainning success accuracy = 99.15 %\n",
      "trainning failure accuracy = 98.68 %\n",
      "================================================================================\n",
      "test success accuracy = 97.6 %\n",
      "test failure accuracy = 97.4 %\n",
      "================================================================================\n",
      "================================================================================\n",
      "trainset: \t604.5 ms/1 = 604.5 ms (604.481/604.481)\n",
      "testset: \t150.9 ms/1 = 150.9 ms (150.85/150.85)\n",
      "\n",
      "================================================================================\n",
      "trainning accuracy = 99.15 %\n",
      "test accuracy = 97.7 %\n",
      "================================================================================\n",
      "trainning success accuracy = 99.35 %\n",
      "trainning failure accuracy = 98.94 %\n",
      "================================================================================\n",
      "test success accuracy = 97.92 %\n",
      "test failure accuracy = 97.48 %\n",
      "================================================================================\n",
      "================================================================================\n",
      "trainset: \t536.5 ms/1 = 536.5 ms (536.462/536.462)\n",
      "testset: \t134.6 ms/1 = 134.6 ms (134.568/134.568)\n",
      "\n",
      "================================================================================\n",
      "trainning accuracy = 99.3 %\n",
      "test accuracy = 97.64 %\n",
      "================================================================================\n",
      "trainning success accuracy = 99.46 %\n",
      "trainning failure accuracy = 99.15 %\n",
      "================================================================================\n",
      "test success accuracy = 97.76 %\n",
      "test failure accuracy = 97.52 %\n",
      "================================================================================\n",
      "================================================================================\n",
      "trainset: \t478.7 ms/1 = 478.7 ms (478.722/478.722)\n",
      "testset: \t120.0 ms/1 = 120.0 ms (119.982/119.982)\n",
      "\n",
      "================================================================================\n",
      "trainning accuracy = 99.52 %\n",
      "test accuracy = 97.72 %\n",
      "================================================================================\n",
      "trainning success accuracy = 99.62 %\n",
      "trainning failure accuracy = 99.43 %\n",
      "================================================================================\n",
      "test success accuracy = 97.8 %\n",
      "test failure accuracy = 97.64 %\n",
      "================================================================================\n",
      "================================================================================\n",
      "trainset: \t429.4 ms/1 = 429.4 ms (429.429/429.429)\n",
      "testset: \t107.5 ms/1 = 107.5 ms (107.466/107.466)\n",
      "\n",
      "================================================================================\n",
      "trainning accuracy = 99.7 %\n",
      "test accuracy = 97.44 %\n",
      "================================================================================\n",
      "trainning success accuracy = 99.72 %\n",
      "trainning failure accuracy = 99.68 %\n",
      "================================================================================\n",
      "test success accuracy = 97.6 %\n",
      "test failure accuracy = 97.28 %\n",
      "================================================================================\n",
      "================================================================================\n",
      "trainset: \t395.6 ms/1 = 395.6 ms (395.55/395.55)\n",
      "testset: \t99.0 ms/1 = 99.0 ms (99.003/99.003)\n",
      "\n",
      "================================================================================\n",
      "trainning accuracy = 99.81 %\n",
      "test accuracy = 97.4 %\n",
      "================================================================================\n",
      "trainning success accuracy = 99.84 %\n",
      "trainning failure accuracy = 99.78 %\n",
      "================================================================================\n",
      "test success accuracy = 97.56 %\n",
      "test failure accuracy = 97.24 %\n",
      "================================================================================\n"
     ]
    }
   ],
   "source": [
    "C_svm_list = [64, 128, 256, 512, 1024, 2048, 4096, 8192, 16384]\n",
    "test_indy_list = []\n",
    "# test_panda_list = []\n",
    "for C_svm in C_svm_list:\n",
    "    test_indy = rtrain.load_and_learn(RobotType.indy7gripper, C_svm=C_svm)\n",
    "#     test_panda = rtrain.load_and_learn(RobotType.panda, C_svm=C_svm)\n",
    "    test_indy_list.append(test_indy)\n",
    "#     test_panda_list.append(test_panda)"
   ]
  },
  {
   "cell_type": "code",
   "execution_count": 7,
   "metadata": {},
   "outputs": [
    {
     "data": {
      "image/png": "[encoded data removed]",
      "text/plain": [
       "<Figure size 432x288 with 1 Axes>"
      ]
     },
     "metadata": {
      "needs_background": "light"
     },
     "output_type": "display_data"
    }
   ],
   "source": [
    "import matplotlib.pyplot as plt\n",
    "plt.plot(C_svm_list, test_indy_list)\n",
    "# plt.plot(C_svm_list, test_panda_list)\n",
    "plt.grid()"
   ]
  },
  {
   "cell_type": "code",
   "execution_count": 8,
   "metadata": {
    "scrolled": true
   },
   "outputs": [
    {
     "name": "stdout",
     "output_type": "stream",
     "text": [
      "================================================================================\n",
      "trainset: \t478.2 ms/1 = 478.2 ms (478.206/478.206)\n",
      "testset: \t119.7 ms/1 = 119.7 ms (119.657/119.657)\n",
      "\n",
      "================================================================================\n",
      "trainning accuracy = 99.52 %\n",
      "test accuracy = 97.72 %\n",
      "================================================================================\n",
      "trainning success accuracy = 99.62 %\n",
      "trainning failure accuracy = 99.43 %\n",
      "================================================================================\n",
      "test success accuracy = 97.8 %\n",
      "test failure accuracy = 97.64 %\n",
      "================================================================================\n"
     ]
    },
    {
     "data": {
      "text/plain": [
       "97.72"
      ]
     },
     "execution_count": 8,
     "metadata": {},
     "output_type": "execute_result"
    }
   ],
   "source": [
    "rtrain.load_and_learn(RobotType.indy7gripper, C_svm=4000)\n",
    "# rtrain.load_and_learn(RobotType.panda, C_svm=1000)"
   ]
  },
  {
   "cell_type": "code",
   "execution_count": null,
   "metadata": {},
   "outputs": [],
   "source": []
  },
  {
   "cell_type": "markdown",
   "metadata": {},
   "source": [
    "## load and test"
   ]
  },
  {
   "cell_type": "code",
   "execution_count": 9,
   "metadata": {
    "scrolled": false
   },
   "outputs": [
    {
     "name": "stdout",
     "output_type": "stream",
     "text": [
      "================================================================================\n",
      "trainset: \t478.6 ms/1 = 478.6 ms (478.609/478.609)\n",
      "testset: \t119.9 ms/1 = 119.9 ms (119.922/119.922)\n",
      "\n",
      "================================================================================\n",
      "trainning accuracy = 99.52 %\n",
      "test accuracy = 97.72 %\n",
      "================================================================================\n",
      "trainning success accuracy = 99.62 %\n",
      "trainning failure accuracy = 99.43 %\n",
      "================================================================================\n",
      "test success accuracy = 97.8 % (2443/2498)\n",
      "test failure accuracy = 97.64 % (2443/2502)\n",
      "================================================================================\n"
     ]
    },
    {
     "data": {
      "text/plain": [
       "97.72"
      ]
     },
     "execution_count": 9,
     "metadata": {},
     "output_type": "execute_result"
    }
   ],
   "source": [
    "rtrain.load_and_test(RobotType.indy7gripper)"
   ]
  },
  {
   "cell_type": "code",
   "execution_count": null,
   "metadata": {
    "scrolled": false
   },
   "outputs": [],
   "source": [
    "rtrain.load_and_test(RobotType.panda)"
   ]
  },
  {
   "cell_type": "code",
   "execution_count": null,
   "metadata": {},
   "outputs": [],
   "source": []
  },
  {
   "cell_type": "markdown",
   "metadata": {},
   "source": [
    "## Update label"
   ]
  },
  {
   "cell_type": "code",
   "execution_count": null,
   "metadata": {},
   "outputs": [],
   "source": [
    "from pkg.planning.filtering.reach_filter import *"
   ]
  },
  {
   "cell_type": "code",
   "execution_count": null,
   "metadata": {},
   "outputs": [],
   "source": [
    "ROBOT_TYPE = RobotType.indy7\n",
    "TIP_LINK = \"indy0_tcp\"\n",
    "TIMEOUT = 0.3\n",
    "DATA_DIVS = [\"train\", \"test\"]\n",
    "UPDATE_LABELS = [True] # to reduce feasible ones, as joint limit is reduced"
   ]
  },
  {
   "cell_type": "code",
   "execution_count": null,
   "metadata": {},
   "outputs": [],
   "source": [
    "time_lists = []\n",
    "for DATA_DIV in DATA_DIVS:\n",
    "    rtrain.update_label(robot_type=ROBOT_TYPE, tip_link=TIP_LINK, data_div=DATA_DIV, update_labels=UPDATE_LABELS, timeout=TIMEOUT)\n",
    "    time_lists.append(deepcopy(rtrain.time_list))\n",
    "import matplotlib.pyplot as plt\n",
    "plt.subplot(1,2,1)\n",
    "plt.plot(sorted(time_lists[0]), '.')\n",
    "plt.subplot(1,2,2)\n",
    "plt.plot(sorted(time_lists[0]), '.')"
   ]
  },
  {
   "cell_type": "code",
   "execution_count": null,
   "metadata": {},
   "outputs": [],
   "source": []
  },
  {
   "cell_type": "code",
   "execution_count": null,
   "metadata": {},
   "outputs": [],
   "source": []
  },
  {
   "cell_type": "markdown",
   "metadata": {},
   "source": [
    "## Load and visualize"
   ]
  },
  {
   "cell_type": "code",
   "execution_count": null,
   "metadata": {},
   "outputs": [],
   "source": [
    "ROBOT_TYPE = RobotType.panda\n",
    "TIP_LINK = \"panda0_hand\"\n",
    "TIMEOUT = 0.5\n",
    "DATA_DIV = \"test\""
   ]
  },
  {
   "cell_type": "code",
   "execution_count": null,
   "metadata": {},
   "outputs": [],
   "source": [
    "rtrain.load_and_visualize(robot_type=ROBOT_TYPE, tip_link=TIP_LINK, data_div=DATA_DIV, timeout=TIMEOUT)"
   ]
  },
  {
   "cell_type": "code",
   "execution_count": null,
   "metadata": {},
   "outputs": [],
   "source": []
  }
 ],
 "metadata": {
  "kernelspec": {
   "display_name": "Python 2",
   "language": "python",
   "name": "python2"
  },
  "language_info": {
   "codemirror_mode": {
    "name": "ipython",
    "version": 2
   },
   "file_extension": ".py",
   "mimetype": "text/x-python",
   "name": "python",
   "nbconvert_exporter": "python",
   "pygments_lexer": "ipython2",
   "version": "2.7.17"
  }
 },
 "nbformat": 4,
 "nbformat_minor": 2
}
