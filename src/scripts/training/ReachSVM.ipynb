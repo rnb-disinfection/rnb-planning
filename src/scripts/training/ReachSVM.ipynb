{
 "cells": [
  {
   "cell_type": "code",
   "execution_count": 1,
   "metadata": {},
   "outputs": [],
   "source": [
    "from __future__ import print_function\n",
    "import os\n",
    "os.chdir(os.path.join(os.environ[\"RNB_PLANNING_DIR\"], 'src'))"
   ]
  },
  {
   "cell_type": "code",
   "execution_count": null,
   "metadata": {},
   "outputs": [],
   "source": []
  },
  {
   "cell_type": "markdown",
   "metadata": {},
   "source": [
    "## init stereo aruco detector scene builder"
   ]
  },
  {
   "cell_type": "code",
   "execution_count": 2,
   "metadata": {
    "scrolled": true
   },
   "outputs": [],
   "source": [
    "from pkg.marker_config import *\n",
    "from pkg.detector.aruco.stereo import ArucoStereo\n",
    "from pkg.detector.camera.realsense import RealSense\n",
    "from pkg.detector.camera.kinect import Kinect\n",
    "from pkg.geometry.builder.scene_builder import SceneBuilder\n",
    "\n",
    "s_builder = SceneBuilder(None, base_link=\"base_link\")\n",
    "# s_builder.reset_reference_coord(ref_name=\"floor\")"
   ]
  },
  {
   "cell_type": "code",
   "execution_count": null,
   "metadata": {},
   "outputs": [],
   "source": []
  },
  {
   "cell_type": "code",
   "execution_count": 3,
   "metadata": {},
   "outputs": [],
   "source": [
    "from pkg.planning.filtering.reach_filter import ReachTrainer\n",
    "from pkg.controller.combined_robot import *"
   ]
  },
  {
   "cell_type": "code",
   "execution_count": 4,
   "metadata": {},
   "outputs": [],
   "source": [
    "rtrain = ReachTrainer(scene_builder=s_builder)"
   ]
  },
  {
   "cell_type": "code",
   "execution_count": null,
   "metadata": {},
   "outputs": [],
   "source": []
  },
  {
   "cell_type": "markdown",
   "metadata": {},
   "source": [
    "## collect and train"
   ]
  },
  {
   "cell_type": "code",
   "execution_count": 5,
   "metadata": {},
   "outputs": [
    {
     "name": "stdout",
     "output_type": "stream",
     "text": [
      "connection_list\n",
      "[False]\n"
     ]
    },
    {
     "name": "stderr",
     "output_type": "stream",
     "text": [
      "Unknown tag \"hardwareInterface\" in /robot[@name='custom_robots']/transmission[@name='indy0_tran0']/actuator[@name='indy0_motor0']\n",
      "Unknown tag \"hardwareInterface\" in /robot[@name='custom_robots']/transmission[@name='indy0_tran1']/actuator[@name='indy0_motor1']\n",
      "Unknown tag \"hardwareInterface\" in /robot[@name='custom_robots']/transmission[@name='indy0_tran2']/actuator[@name='indy0_motor2']\n",
      "Unknown tag \"hardwareInterface\" in /robot[@name='custom_robots']/transmission[@name='indy0_tran3']/actuator[@name='indy0_motor3']\n",
      "Unknown tag \"hardwareInterface\" in /robot[@name='custom_robots']/transmission[@name='indy0_tran4']/actuator[@name='indy0_motor4']\n",
      "Unknown tag \"hardwareInterface\" in /robot[@name='custom_robots']/transmission[@name='indy0_tran5']/actuator[@name='indy0_motor5']\n"
     ]
    },
    {
     "name": "stdout",
     "output_type": "stream",
     "text": [
      "added robot collision boundaries\n",
      "0 / 1000 (0 / 332923 s): current success ratio = 0.0\n",
      "100 / 1000 (24 / 248 s): current success ratio = 0.277227722772\n",
      "200 / 1000 (51 / 256 s): current success ratio = 0.248756218905\n",
      "300 / 1000 (78 / 261 s): current success ratio = 0.232558139535\n",
      "400 / 1000 (105 / 262 s): current success ratio = 0.226932668329\n",
      "500 / 1000 (129 / 259 s): current success ratio = 0.235528942116\n",
      "600 / 1000 (151 / 253 s): current success ratio = 0.256239600666\n",
      "700 / 1000 (176 / 252 s): current success ratio = 0.261055634807\n",
      "800 / 1000 (202 / 252 s): current success ratio = 0.259675405743\n",
      "900 / 1000 (226 / 251 s): current success ratio = 0.261931187569\n",
      "connection_list\n",
      "[False]\n",
      "added robot collision boundaries\n"
     ]
    },
    {
     "name": "stderr",
     "output_type": "stream",
     "text": [
      "Unknown tag \"hardwareInterface\" in /robot[@name='custom_robots']/transmission[@name='indy0_tran0']/actuator[@name='indy0_motor0']\n",
      "Unknown tag \"hardwareInterface\" in /robot[@name='custom_robots']/transmission[@name='indy0_tran1']/actuator[@name='indy0_motor1']\n",
      "Unknown tag \"hardwareInterface\" in /robot[@name='custom_robots']/transmission[@name='indy0_tran2']/actuator[@name='indy0_motor2']\n",
      "Unknown tag \"hardwareInterface\" in /robot[@name='custom_robots']/transmission[@name='indy0_tran3']/actuator[@name='indy0_motor3']\n",
      "Unknown tag \"hardwareInterface\" in /robot[@name='custom_robots']/transmission[@name='indy0_tran4']/actuator[@name='indy0_motor4']\n",
      "Unknown tag \"hardwareInterface\" in /robot[@name='custom_robots']/transmission[@name='indy0_tran5']/actuator[@name='indy0_motor5']\n"
     ]
    },
    {
     "name": "stdout",
     "output_type": "stream",
     "text": [
      "0 / 500 (0 / 166429 s): current success ratio = 0.0\n",
      "100 / 500 (24 / 123 s): current success ratio = 0.287128712871\n",
      "200 / 500 (51 / 127 s): current success ratio = 0.253731343284\n",
      "300 / 500 (75 / 125 s): current success ratio = 0.265780730897\n",
      "400 / 500 (101 / 126 s): current success ratio = 0.259351620948\n",
      "================================================================================\n",
      "trainset: \t2.0 ms/1 = 2.029 ms (2.029/2.029)\n",
      "testset: \t1.0 ms/1 = 0.987 ms (0.987/0.987)\n",
      "\n",
      "================================================================================\n",
      "trainning accuracy = 99.8 %\n",
      "test accuracy = 96.2 %\n",
      "================================================================================\n",
      "trainning success accuracy = 99.25 %\n",
      "trainning failure accuracy = 100.0 %\n",
      "================================================================================\n",
      "test success accuracy = 93.13 %\n",
      "test failure accuracy = 97.29 %\n",
      "================================================================================\n"
     ]
    },
    {
     "name": "stderr",
     "output_type": "stream",
     "text": [
      "/home/rnb/.local/lib/python2.7/site-packages/sklearn/svm/base.py:196: FutureWarning: The default value of gamma will change from 'auto' to 'scale' in version 0.22 to account better for unscaled features. Set gamma explicitly to 'auto' or 'scale' to avoid this warning.\n",
      "  \"avoid this warning.\", FutureWarning)\n"
     ]
    },
    {
     "data": {
      "text/plain": [
       "[<matplotlib.lines.Line2D at 0x7ff33e8bee90>]"
      ]
     },
     "execution_count": 5,
     "metadata": {},
     "output_type": "execute_result"
    },
    {
     "data": {
      "image/png": "[encoded data removed]",
      "text/plain": [
       "<Figure size 432x288 with 1 Axes>"
      ]
     },
     "metadata": {
      "needs_background": "light"
     },
     "output_type": "display_data"
    }
   ],
   "source": [
    "rtrain.collect_and_learn(RobotType.indy7, \"indy0_tcp\", \n",
    "                         TRAIN_COUNT=1000, TEST_COUNT=500, save_data=True, save_model=True, timeout=0.3)\n",
    "import matplotlib.pyplot as plt\n",
    "plt.plot(rtrain.time_plan, '.')"
   ]
  },
  {
   "cell_type": "code",
   "execution_count": 6,
   "metadata": {},
   "outputs": [
    {
     "name": "stdout",
     "output_type": "stream",
     "text": [
      "connection_list\n",
      "[False]\n",
      "added robot collision boundaries\n",
      "0 / 1000 (0 / 534075 s): current success ratio = 0.0\n",
      "100 / 1000 (45 / 456 s): current success ratio = 0.207920792079\n",
      "200 / 1000 (93 / 465 s): current success ratio = 0.174129353234\n",
      "300 / 1000 (137 / 456 s): current success ratio = 0.186046511628\n",
      "400 / 1000 (185 / 464 s): current success ratio = 0.167082294264\n",
      "500 / 1000 (231 / 462 s): current success ratio = 0.171656686627\n",
      "600 / 1000 (278 / 464 s): current success ratio = 0.164725457571\n",
      "700 / 1000 (326 / 466 s): current success ratio = 0.159771754636\n",
      "800 / 1000 (372 / 466 s): current success ratio = 0.161048689139\n",
      "900 / 1000 (418 / 465 s): current success ratio = 0.163152053274\n",
      "connection_list\n",
      "[False]\n",
      "added robot collision boundaries\n",
      "0 / 500 (0 / 266880 s): current success ratio = 0.0\n",
      "100 / 500 (46 / 234 s): current success ratio = 0.148514851485\n",
      "200 / 500 (94 / 236 s): current success ratio = 0.144278606965\n",
      "300 / 500 (136 / 227 s): current success ratio = 0.182724252492\n",
      "400 / 500 (183 / 229 s): current success ratio = 0.177057356608\n",
      "================================================================================\n",
      "trainset: \t2.0 ms/1 = 2.257 ms (2.257/2.257)\n",
      "testset: \t1.0 ms/1 = 1.133 ms (1.133/1.133)\n",
      "\n",
      "================================================================================\n",
      "trainning accuracy = 99.1 %\n",
      "test accuracy = 95.0 %\n",
      "================================================================================\n",
      "trainning success accuracy = 99.4 %\n",
      "trainning failure accuracy = 99.04 %\n",
      "================================================================================\n",
      "test success accuracy = 89.01 %\n",
      "test failure accuracy = 96.33 %\n",
      "================================================================================\n"
     ]
    },
    {
     "data": {
      "text/plain": [
       "[<matplotlib.lines.Line2D at 0x7ff354680590>]"
      ]
     },
     "execution_count": 6,
     "metadata": {},
     "output_type": "execute_result"
    },
    {
     "data": {
      "image/png": "[encoded data removed]",
      "text/plain": [
       "<Figure size 432x288 with 1 Axes>"
      ]
     },
     "metadata": {
      "needs_background": "light"
     },
     "output_type": "display_data"
    }
   ],
   "source": [
    "rtrain.collect_and_learn(RobotType.panda, \"panda0_hand\", \n",
    "                         TRAIN_COUNT=1000, TEST_COUNT=500, save_data=True, save_model=True, timeout=0.5)\n",
    "import matplotlib.pyplot as plt\n",
    "plt.plot(rtrain.time_plan, '.')"
   ]
  },
  {
   "cell_type": "code",
   "execution_count": null,
   "metadata": {},
   "outputs": [],
   "source": []
  },
  {
   "cell_type": "markdown",
   "metadata": {},
   "source": [
    "## load and train"
   ]
  },
  {
   "cell_type": "code",
   "execution_count": 16,
   "metadata": {},
   "outputs": [
    {
     "name": "stdout",
     "output_type": "stream",
     "text": [
      "================================================================================\n",
      "trainset: \t2.0 ms/1 = 1.85 ms (1.85/1.85)\n",
      "testset: \t1.0 ms/1 = 1.019 ms (1.019/1.019)\n",
      "\n",
      "================================================================================\n",
      "trainning accuracy = 99.8 %\n",
      "test accuracy = 96.6 %\n",
      "================================================================================\n",
      "trainning success accuracy = 99.25 %\n",
      "trainning failure accuracy = 100.0 %\n",
      "================================================================================\n",
      "test success accuracy = 93.89 %\n",
      "test failure accuracy = 97.56 %\n",
      "================================================================================\n",
      "================================================================================\n",
      "trainset: \t3.0 ms/1 = 2.506 ms (2.506/2.506)\n",
      "testset: \t1.0 ms/1 = 1.313 ms (1.313/1.313)\n",
      "\n",
      "================================================================================\n",
      "trainning accuracy = 98.2 %\n",
      "test accuracy = 95.4 %\n",
      "================================================================================\n",
      "trainning success accuracy = 96.39 %\n",
      "trainning failure accuracy = 98.56 %\n",
      "================================================================================\n",
      "test success accuracy = 89.01 %\n",
      "test failure accuracy = 96.82 %\n",
      "================================================================================\n"
     ]
    }
   ],
   "source": [
    "rtrain.load_and_learn(RobotType.indy7) # , C_svm=100)\n",
    "rtrain.load_and_learn(RobotType.panda) # , C_svm=50)"
   ]
  },
  {
   "cell_type": "code",
   "execution_count": null,
   "metadata": {},
   "outputs": [],
   "source": []
  },
  {
   "cell_type": "markdown",
   "metadata": {},
   "source": [
    "## load and test"
   ]
  },
  {
   "cell_type": "code",
   "execution_count": 10,
   "metadata": {},
   "outputs": [
    {
     "name": "stdout",
     "output_type": "stream",
     "text": [
      "================================================================================\n",
      "trainset: \t2.0 ms/1 = 1.887 ms (1.887/1.887)\n",
      "testset: \t1.0 ms/1 = 1.025 ms (1.025/1.025)\n",
      "\n",
      "================================================================================\n",
      "trainning accuracy = 99.8 %\n",
      "test accuracy = 96.6 %\n",
      "================================================================================\n",
      "trainning success accuracy = 99.25 %\n",
      "trainning failure accuracy = 100.0 %\n",
      "================================================================================\n",
      "test success accuracy = 93.89 %\n",
      "test failure accuracy = 97.56 %\n",
      "================================================================================\n",
      "================================================================================\n",
      "trainset: \t2.0 ms/1 = 2.337 ms (2.337/2.337)\n",
      "testset: \t1.0 ms/1 = 1.177 ms (1.177/1.177)\n",
      "\n",
      "================================================================================\n",
      "trainning accuracy = 99.1 %\n",
      "test accuracy = 95.2 %\n",
      "================================================================================\n",
      "trainning success accuracy = 99.4 %\n",
      "trainning failure accuracy = 99.04 %\n",
      "================================================================================\n",
      "test success accuracy = 90.11 %\n",
      "test failure accuracy = 96.33 %\n",
      "================================================================================\n"
     ]
    }
   ],
   "source": [
    "rtrain.load_and_test(RobotType.indy7)\n",
    "rtrain.load_and_test(RobotType.panda)"
   ]
  },
  {
   "cell_type": "code",
   "execution_count": null,
   "metadata": {},
   "outputs": [],
   "source": []
  },
  {
   "cell_type": "code",
   "execution_count": null,
   "metadata": {},
   "outputs": [],
   "source": []
  },
  {
   "cell_type": "markdown",
   "metadata": {},
   "source": [
    "## Disconnect stereo"
   ]
  },
  {
   "cell_type": "code",
   "execution_count": null,
   "metadata": {},
   "outputs": [],
   "source": [
    "stereo.disconnnect()"
   ]
  },
  {
   "cell_type": "code",
   "execution_count": null,
   "metadata": {},
   "outputs": [],
   "source": []
  },
  {
   "cell_type": "code",
   "execution_count": null,
   "metadata": {},
   "outputs": [],
   "source": []
  }
 ],
 "metadata": {
  "kernelspec": {
   "display_name": "Python 2",
   "language": "python",
   "name": "python2"
  },
  "language_info": {
   "codemirror_mode": {
    "name": "ipython",
    "version": 2
   },
   "file_extension": ".py",
   "mimetype": "text/x-python",
   "name": "python",
   "nbconvert_exporter": "python",
   "pygments_lexer": "ipython2",
   "version": "2.7.17"
  }
 },
 "nbformat": 4,
 "nbformat_minor": 2
}
