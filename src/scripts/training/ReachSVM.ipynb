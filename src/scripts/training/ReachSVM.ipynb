{
 "cells": [
  {
   "cell_type": "code",
   "execution_count": 1,
   "metadata": {},
   "outputs": [],
   "source": [
    "from __future__ import print_function\n",
    "import os\n",
    "os.chdir(os.path.join(os.environ[\"RNB_PLANNING_DIR\"], 'src'))"
   ]
  },
  {
   "cell_type": "code",
   "execution_count": null,
   "metadata": {},
   "outputs": [],
   "source": []
  },
  {
   "cell_type": "markdown",
   "metadata": {},
   "source": [
    "## init stereo aruco detector scene builder"
   ]
  },
  {
   "cell_type": "code",
   "execution_count": 2,
   "metadata": {
    "scrolled": true
   },
   "outputs": [],
   "source": [
    "from pkg.detector.aruco.marker_config import *\n",
    "from pkg.detector.aruco.stereo import ArucoStereo\n",
    "from pkg.detector.camera.realsense import RealSense\n",
    "from pkg.detector.camera.kinect import Kinect\n",
    "from pkg.geometry.builder.scene_builder import SceneBuilder\n",
    "\n",
    "s_builder = SceneBuilder(None)\n",
    "# s_builder.reset_reference_coord(ref_name=\"floor\")"
   ]
  },
  {
   "cell_type": "code",
   "execution_count": null,
   "metadata": {},
   "outputs": [],
   "source": []
  },
  {
   "cell_type": "code",
   "execution_count": 3,
   "metadata": {},
   "outputs": [],
   "source": [
    "from pkg.planning.filtering.reach_filter import ReachTrainer\n",
    "from pkg.controller.combined_robot import *"
   ]
  },
  {
   "cell_type": "code",
   "execution_count": 4,
   "metadata": {},
   "outputs": [],
   "source": [
    "rtrain = ReachTrainer(scene_builder=s_builder)"
   ]
  },
  {
   "cell_type": "code",
   "execution_count": null,
   "metadata": {},
   "outputs": [],
   "source": []
  },
  {
   "cell_type": "markdown",
   "metadata": {},
   "source": [
    "## collect and train"
   ]
  },
  {
   "cell_type": "code",
   "execution_count": null,
   "metadata": {},
   "outputs": [],
   "source": [
    "rtrain.collect_and_learn(RobotType.indy7, \"indy0_tcp\", \n",
    "                         TRAIN_COUNT=20000, TEST_COUNT=5000, save_data=True, save_model=True, timeout=0.3)\n",
    "import matplotlib.pyplot as plt\n",
    "plt.plot(rtrain.time_plan, '.')"
   ]
  },
  {
   "cell_type": "code",
   "execution_count": null,
   "metadata": {
    "scrolled": true
   },
   "outputs": [],
   "source": [
    "rtrain.collect_and_learn(RobotType.panda, \"panda0_hand\", \n",
    "                         TRAIN_COUNT=20000, TEST_COUNT=5000, save_data=True, save_model=True, timeout=1)\n",
    "import matplotlib.pyplot as plt\n",
    "plt.plot(rtrain.time_plan, '.')"
   ]
  },
  {
   "cell_type": "code",
   "execution_count": null,
   "metadata": {},
   "outputs": [],
   "source": []
  },
  {
   "cell_type": "markdown",
   "metadata": {},
   "source": [
    "## load and train"
   ]
  },
  {
   "cell_type": "code",
   "execution_count": 5,
   "metadata": {
    "scrolled": true
   },
   "outputs": [
    {
     "name": "stdout",
     "output_type": "stream",
     "text": [
      "================================================================================\n",
      "trainset: \t581.5 ms/1 = 581.5 ms (581.465/581.465)\n",
      "testset: \t142.8 ms/1 = 142.8 ms (142.844/142.844)\n",
      "\n",
      "================================================================================\n",
      "trainning accuracy = 98.76 %\n",
      "test accuracy = 97.96 %\n",
      "================================================================================\n",
      "trainning success accuracy = 98.69 %\n",
      "trainning failure accuracy = 98.78 %\n",
      "================================================================================\n",
      "test success accuracy = 97.56 %\n",
      "test failure accuracy = 98.1 %\n",
      "================================================================================\n",
      "================================================================================\n",
      "trainset: \t508.7 ms/1 = 508.7 ms (508.652/508.652)\n",
      "testset: \t124.6 ms/1 = 124.6 ms (124.633/124.633)\n",
      "\n",
      "================================================================================\n",
      "trainning accuracy = 98.98 %\n",
      "test accuracy = 98.24 %\n",
      "================================================================================\n",
      "trainning success accuracy = 99.02 %\n",
      "trainning failure accuracy = 98.96 %\n",
      "================================================================================\n",
      "test success accuracy = 97.94 %\n",
      "test failure accuracy = 98.35 %\n",
      "================================================================================\n",
      "================================================================================\n",
      "trainset: \t463.0 ms/1 = 463.0 ms (462.989/462.989)\n",
      "testset: \t113.4 ms/1 = 113.4 ms (113.358/113.358)\n",
      "\n",
      "================================================================================\n",
      "trainning accuracy = 99.0 %\n",
      "test accuracy = 98.24 %\n",
      "================================================================================\n",
      "trainning success accuracy = 98.95 %\n",
      "trainning failure accuracy = 99.02 %\n",
      "================================================================================\n",
      "test success accuracy = 97.94 %\n",
      "test failure accuracy = 98.35 %\n",
      "================================================================================\n",
      "================================================================================\n",
      "trainset: \t402.5 ms/1 = 402.5 ms (402.513/402.513)\n",
      "testset: \t98.5 ms/1 = 98.5 ms (98.453/98.453)\n",
      "\n",
      "================================================================================\n",
      "trainning accuracy = 99.22 %\n",
      "test accuracy = 98.32 %\n",
      "================================================================================\n",
      "trainning success accuracy = 99.1 %\n",
      "trainning failure accuracy = 99.25 %\n",
      "================================================================================\n",
      "test success accuracy = 97.87 %\n",
      "test failure accuracy = 98.48 %\n",
      "================================================================================\n",
      "================================================================================\n",
      "trainset: \t366.7 ms/1 = 366.7 ms (366.744/366.744)\n",
      "testset: \t90.7 ms/1 = 90.7 ms (90.695/90.695)\n",
      "\n",
      "================================================================================\n",
      "trainning accuracy = 99.37 %\n",
      "test accuracy = 98.48 %\n",
      "================================================================================\n",
      "trainning success accuracy = 99.24 %\n",
      "trainning failure accuracy = 99.41 %\n",
      "================================================================================\n",
      "test success accuracy = 97.94 %\n",
      "test failure accuracy = 98.67 %\n",
      "================================================================================\n",
      "================================================================================\n",
      "trainset: \t332.6 ms/1 = 332.6 ms (332.643/332.643)\n",
      "testset: \t83.8 ms/1 = 83.8 ms (83.803/83.803)\n",
      "\n",
      "================================================================================\n",
      "trainning accuracy = 99.48 %\n",
      "test accuracy = 98.48 %\n",
      "================================================================================\n",
      "trainning success accuracy = 99.32 %\n",
      "trainning failure accuracy = 99.53 %\n",
      "================================================================================\n",
      "test success accuracy = 97.71 %\n",
      "test failure accuracy = 98.75 %\n",
      "================================================================================\n",
      "================================================================================\n",
      "trainset: \t276.2 ms/1 = 276.2 ms (276.186/276.186)\n",
      "testset: \t68.5 ms/1 = 68.5 ms (68.477/68.477)\n",
      "\n",
      "================================================================================\n",
      "trainning accuracy = 99.54 %\n",
      "test accuracy = 98.34 %\n",
      "================================================================================\n",
      "trainning success accuracy = 99.51 %\n",
      "trainning failure accuracy = 99.55 %\n",
      "================================================================================\n",
      "test success accuracy = 97.48 %\n",
      "test failure accuracy = 98.64 %\n",
      "================================================================================\n"
     ]
    }
   ],
   "source": [
    "C_svm_list = [64, 128, 256, 512, 1024, 2048, 4096]\n",
    "test_indy_list = []\n",
    "# test_panda_list = []\n",
    "for C_svm in C_svm_list:\n",
    "    test_indy = rtrain.load_and_learn(RobotType.indy7, C_svm=C_svm)\n",
    "#     test_panda = rtrain.load_and_learn(RobotType.panda, C_svm=C_svm)\n",
    "    test_indy_list.append(test_indy)\n",
    "#     test_panda_list.append(test_panda)"
   ]
  },
  {
   "cell_type": "code",
   "execution_count": 8,
   "metadata": {},
   "outputs": [
    {
     "data": {
      "text/plain": [
       "[<matplotlib.lines.Line2D at 0x7f5e6d201450>]"
      ]
     },
     "execution_count": 8,
     "metadata": {},
     "output_type": "execute_result"
    },
    {
     "data": {
      "image/png": "[encoded data removed]",
      "text/plain": [
       "<Figure size 432x288 with 1 Axes>"
      ]
     },
     "metadata": {
      "needs_background": "light"
     },
     "output_type": "display_data"
    }
   ],
   "source": [
    "import matplotlib.pyplot as plt\n",
    "plt.plot(C_svm_list, test_indy_list)\n",
    "# plt.plot(C_svm_list, test_panda_list)"
   ]
  },
  {
   "cell_type": "code",
   "execution_count": 9,
   "metadata": {
    "scrolled": true
   },
   "outputs": [
    {
     "name": "stdout",
     "output_type": "stream",
     "text": [
      "================================================================================\n",
      "trainset: \t362.9 ms/1 = 362.9 ms (362.889/362.889)\n",
      "testset: \t89.7 ms/1 = 89.7 ms (89.697/89.697)\n",
      "\n",
      "================================================================================\n",
      "trainning accuracy = 99.36 %\n",
      "test accuracy = 98.48 %\n",
      "================================================================================\n",
      "trainning success accuracy = 99.24 %\n",
      "trainning failure accuracy = 99.4 %\n",
      "================================================================================\n",
      "test success accuracy = 97.94 %\n",
      "test failure accuracy = 98.67 %\n",
      "================================================================================\n"
     ]
    },
    {
     "data": {
      "text/plain": [
       "98.48"
      ]
     },
     "execution_count": 9,
     "metadata": {},
     "output_type": "execute_result"
    }
   ],
   "source": [
    "rtrain.load_and_learn(RobotType.indy7, C_svm=1000)\n",
    "# rtrain.load_and_learn(RobotType.panda, C_svm=1000)"
   ]
  },
  {
   "cell_type": "code",
   "execution_count": null,
   "metadata": {},
   "outputs": [],
   "source": []
  },
  {
   "cell_type": "markdown",
   "metadata": {},
   "source": [
    "## load and test"
   ]
  },
  {
   "cell_type": "code",
   "execution_count": 10,
   "metadata": {
    "scrolled": true
   },
   "outputs": [
    {
     "name": "stdout",
     "output_type": "stream",
     "text": [
      "================================================================================\n",
      "trainset: \t362.3 ms/1 = 362.3 ms (362.345/362.345)\n",
      "testset: \t90.3 ms/1 = 90.3 ms (90.339/90.339)\n",
      "\n",
      "================================================================================\n",
      "trainning accuracy = 99.36 %\n",
      "test accuracy = 98.48 %\n",
      "================================================================================\n",
      "trainning success accuracy = 99.24 %\n",
      "trainning failure accuracy = 99.4 %\n",
      "================================================================================\n",
      "test success accuracy = 97.94 % (1285/1312)\n",
      "test failure accuracy = 98.67 % (3639/3688)\n",
      "================================================================================\n",
      "================================================================================\n",
      "trainset: \t433.1 ms/1 = 433.1 ms (433.096/433.096)\n",
      "testset: \t113.5 ms/1 = 113.5 ms (113.549/113.549)\n",
      "\n",
      "================================================================================\n",
      "trainning accuracy = 98.85 %\n",
      "test accuracy = 98.26 %\n",
      "================================================================================\n",
      "trainning success accuracy = 97.57 %\n",
      "trainning failure accuracy = 99.13 %\n",
      "================================================================================\n",
      "test success accuracy = 95.29 % (829/870)\n",
      "test failure accuracy = 98.89 % (4084/4130)\n",
      "================================================================================\n"
     ]
    },
    {
     "data": {
      "text/plain": [
       "98.26"
      ]
     },
     "execution_count": 10,
     "metadata": {},
     "output_type": "execute_result"
    }
   ],
   "source": [
    "rtrain.load_and_test(RobotType.indy7)\n",
    "rtrain.load_and_test(RobotType.panda)"
   ]
  },
  {
   "cell_type": "code",
   "execution_count": 8,
   "metadata": {
    "scrolled": true
   },
   "outputs": [
    {
     "name": "stdout",
     "output_type": "stream",
     "text": [
      "================================================================================\n",
      "trainset: \t345.9 ms/1 = 345.9 ms (345.906/345.906)\n",
      "testset: \t86.3 ms/1 = 86.3 ms (86.256/86.256)\n",
      "\n",
      "================================================================================\n",
      "trainning accuracy = 99.36 %\n",
      "test accuracy = 98.48 %\n",
      "================================================================================\n",
      "trainning success accuracy = 99.24 %\n",
      "trainning failure accuracy = 99.4 %\n",
      "================================================================================\n",
      "test success accuracy = 97.94 % (1285/1312)\n",
      "test failure accuracy = 98.67 % (3639/3688)\n",
      "================================================================================\n",
      "================================================================================\n",
      "trainset: \t417.2 ms/1 = 417.2 ms (417.198/417.198)\n",
      "testset: \t103.8 ms/1 = 103.8 ms (103.765/103.765)\n",
      "\n",
      "================================================================================\n",
      "trainning accuracy = 98.85 %\n",
      "test accuracy = 98.26 %\n",
      "================================================================================\n",
      "trainning success accuracy = 97.57 %\n",
      "trainning failure accuracy = 99.13 %\n",
      "================================================================================\n",
      "test success accuracy = 95.29 % (829/870)\n",
      "test failure accuracy = 98.89 % (4084/4130)\n",
      "================================================================================\n"
     ]
    },
    {
     "data": {
      "text/plain": [
       "98.26"
      ]
     },
     "execution_count": 8,
     "metadata": {},
     "output_type": "execute_result"
    }
   ],
   "source": [
    "rtrain.load_and_test(RobotType.indy7)\n",
    "rtrain.load_and_test(RobotType.panda)"
   ]
  },
  {
   "cell_type": "code",
   "execution_count": null,
   "metadata": {},
   "outputs": [],
   "source": []
  },
  {
   "cell_type": "code",
   "execution_count": null,
   "metadata": {},
   "outputs": [],
   "source": []
  },
  {
   "cell_type": "markdown",
   "metadata": {},
   "source": [
    "## Update label"
   ]
  },
  {
   "cell_type": "code",
   "execution_count": 5,
   "metadata": {},
   "outputs": [],
   "source": [
    "from pkg.planning.filtering.reach_filter import *"
   ]
  },
  {
   "cell_type": "code",
   "execution_count": 7,
   "metadata": {},
   "outputs": [],
   "source": [
    "ROBOT_TYPE = RobotType.indy7\n",
    "TIP_LINK = \"indy0_tcp\"\n",
    "TIMEOUT = 0.3\n",
    "DATA_DIVS = [\"train\", \"test\"]\n",
    "UPDATE_LABELS = [True] # to reduce feasible ones, as joint limit is reduced"
   ]
  },
  {
   "cell_type": "code",
   "execution_count": 8,
   "metadata": {},
   "outputs": [
    {
     "name": "stdout",
     "output_type": "stream",
     "text": [
      "connection command:\n",
      "indy0: False\n"
     ]
    },
    {
     "name": "stderr",
     "output_type": "stream",
     "text": [
      "Unknown tag \"hardwareInterface\" in /robot[@name='custom_robots']/transmission[@name='indy0_tran0']/actuator[@name='indy0_motor0']\n",
      "Unknown tag \"hardwareInterface\" in /robot[@name='custom_robots']/transmission[@name='indy0_tran1']/actuator[@name='indy0_motor1']\n",
      "Unknown tag \"hardwareInterface\" in /robot[@name='custom_robots']/transmission[@name='indy0_tran2']/actuator[@name='indy0_motor2']\n",
      "Unknown tag \"hardwareInterface\" in /robot[@name='custom_robots']/transmission[@name='indy0_tran3']/actuator[@name='indy0_motor3']\n",
      "Unknown tag \"hardwareInterface\" in /robot[@name='custom_robots']/transmission[@name='indy0_tran4']/actuator[@name='indy0_motor4']\n",
      "Unknown tag \"hardwareInterface\" in /robot[@name='custom_robots']/transmission[@name='indy0_tran5']/actuator[@name='indy0_motor5']\n"
     ]
    },
    {
     "name": "stdout",
     "output_type": "stream",
     "text": [
      "added robot collision boundaries\n",
      "600 / 20000 (20 / 667 s): current success ratio = 0.25425\n",
      "700 / 20000 (22 / 635 s): current success ratio = 0.254\n",
      "1100 / 20000 (34 / 624 s): current success ratio = 0.2527\n",
      "1200 / 20000 (37 / 618 s): current success ratio = 0.2525\n",
      "2200 / 20000 (67 / 610 s): current success ratio = 0.2492\n",
      "2500 / 20000 (77 / 623 s): current success ratio = 0.24805\n",
      "3000 / 20000 (94 / 631 s): current success ratio = 0.2461\n",
      "3300 / 20000 (105 / 641 s): current success ratio = 0.2448\n",
      "3500 / 20000 (112 / 645 s): current success ratio = 0.24405\n",
      "3700 / 20000 (118 / 641 s): current success ratio = 0.24345\n",
      "4000 / 20000 (130 / 650 s): current success ratio = 0.24215\n",
      "5000 / 20000 (163 / 655 s): current success ratio = 0.23845\n",
      "5300 / 20000 (172 / 652 s): current success ratio = 0.2375\n",
      "5500 / 20000 (181 / 661 s): current success ratio = 0.23635\n",
      "6000 / 20000 (196 / 654 s): current success ratio = 0.2348\n",
      "6400 / 20000 (209 / 653 s): current success ratio = 0.2334\n",
      "6700 / 20000 (222 / 664 s): current success ratio = 0.23175\n",
      "7600 / 20000 (250 / 659 s): current success ratio = 0.22875\n",
      "8900 / 20000 (292 / 657 s): current success ratio = 0.2241\n",
      "9200 / 20000 (301 / 654 s): current success ratio = 0.2232\n",
      "9500 / 20000 (310 / 654 s): current success ratio = 0.2222\n",
      "10300 / 20000 (337 / 655 s): current success ratio = 0.21935\n",
      "10700 / 20000 (352 / 658 s): current success ratio = 0.2176\n",
      "10800 / 20000 (354 / 656 s): current success ratio = 0.2174\n",
      "12100 / 20000 (397 / 656 s): current success ratio = 0.2127\n",
      "12900 / 20000 (422 / 654 s): current success ratio = 0.21\n",
      "14000 / 20000 (461 / 659 s): current success ratio = 0.2055\n",
      "14200 / 20000 (467 / 658 s): current success ratio = 0.20485\n",
      "14300 / 20000 (471 / 658 s): current success ratio = 0.20445\n",
      "14400 / 20000 (474 / 658 s): current success ratio = 0.20415\n",
      "14500 / 20000 (478 / 660 s): current success ratio = 0.20365\n",
      "14600 / 20000 (482 / 661 s): current success ratio = 0.20315\n",
      "15500 / 20000 (508 / 655 s): current success ratio = 0.20045\n",
      "15700 / 20000 (514 / 655 s): current success ratio = 0.1998\n",
      "15800 / 20000 (517 / 654 s): current success ratio = 0.1995\n",
      "15900 / 20000 (521 / 655 s): current success ratio = 0.199\n",
      "16400 / 20000 (539 / 658 s): current success ratio = 0.19685\n",
      "16600 / 20000 (549 / 662 s): current success ratio = 0.1956\n",
      "16800 / 20000 (557 / 663 s): current success ratio = 0.19475\n",
      "16900 / 20000 (560 / 663 s): current success ratio = 0.19445\n",
      "17000 / 20000 (563 / 662 s): current success ratio = 0.1941\n",
      "17400 / 20000 (575 / 661 s): current success ratio = 0.1928\n",
      "17700 / 20000 (585 / 661 s): current success ratio = 0.1918\n",
      "17900 / 20000 (592 / 661 s): current success ratio = 0.191\n",
      "18200 / 20000 (603 / 662 s): current success ratio = 0.1899\n",
      "19500 / 20000 (640 / 656 s): current success ratio = 0.18585\n",
      "connection command:\n",
      "indy0: False\n"
     ]
    },
    {
     "name": "stderr",
     "output_type": "stream",
     "text": [
      "Unknown tag \"hardwareInterface\" in /robot[@name='custom_robots']/transmission[@name='indy0_tran0']/actuator[@name='indy0_motor0']\n",
      "Unknown tag \"hardwareInterface\" in /robot[@name='custom_robots']/transmission[@name='indy0_tran1']/actuator[@name='indy0_motor1']\n",
      "Unknown tag \"hardwareInterface\" in /robot[@name='custom_robots']/transmission[@name='indy0_tran2']/actuator[@name='indy0_motor2']\n",
      "Unknown tag \"hardwareInterface\" in /robot[@name='custom_robots']/transmission[@name='indy0_tran3']/actuator[@name='indy0_motor3']\n",
      "Unknown tag \"hardwareInterface\" in /robot[@name='custom_robots']/transmission[@name='indy0_tran4']/actuator[@name='indy0_motor4']\n",
      "Unknown tag \"hardwareInterface\" in /robot[@name='custom_robots']/transmission[@name='indy0_tran5']/actuator[@name='indy0_motor5']\n"
     ]
    },
    {
     "name": "stdout",
     "output_type": "stream",
     "text": [
      "added robot collision boundaries\n",
      "0 / 5000 (0 / 181059 s): current success ratio = 0.2624\n",
      "200 / 5000 (7 / 183 s): current success ratio = 0.2592\n",
      "300 / 5000 (10 / 183 s): current success ratio = 0.2574\n",
      "800 / 5000 (28 / 177 s): current success ratio = 0.2492\n",
      "1200 / 5000 (42 / 175 s): current success ratio = 0.243\n",
      "1500 / 5000 (51 / 171 s): current success ratio = 0.239\n",
      "2000 / 5000 (68 / 172 s): current success ratio = 0.2318\n",
      "2100 / 5000 (71 / 171 s): current success ratio = 0.2306\n",
      "3000 / 5000 (101 / 168 s): current success ratio = 0.2178\n",
      "3100 / 5000 (104 / 168 s): current success ratio = 0.2164\n",
      "3200 / 5000 (109 / 170 s): current success ratio = 0.2142\n",
      "3500 / 5000 (117 / 167 s): current success ratio = 0.2112\n",
      "4200 / 5000 (147 / 175 s): current success ratio = 0.1966\n"
     ]
    },
    {
     "data": {
      "text/plain": [
       "[<matplotlib.lines.Line2D at 0x7fad30622310>]"
      ]
     },
     "execution_count": 8,
     "metadata": {},
     "output_type": "execute_result"
    },
    {
     "data": {
      "image/png": "[encoded data removed]",
      "text/plain": [
       "<Figure size 432x288 with 2 Axes>"
      ]
     },
     "metadata": {
      "needs_background": "light"
     },
     "output_type": "display_data"
    }
   ],
   "source": [
    "time_lists = []\n",
    "for DATA_DIV in DATA_DIVS:\n",
    "    rtrain.update_label(robot_type=ROBOT_TYPE, tip_link=TIP_LINK, data_div=DATA_DIV, update_labels=UPDATE_LABELS, timeout=TIMEOUT)\n",
    "    time_lists.append(deepcopy(rtrain.time_list))\n",
    "import matplotlib.pyplot as plt\n",
    "plt.subplot(1,2,1)\n",
    "plt.plot(sorted(time_lists[0]), '.')\n",
    "plt.subplot(1,2,2)\n",
    "plt.plot(sorted(time_lists[0]), '.')"
   ]
  },
  {
   "cell_type": "code",
   "execution_count": null,
   "metadata": {},
   "outputs": [],
   "source": []
  }
 ],
 "metadata": {
  "kernelspec": {
   "display_name": "Python 2",
   "language": "python",
   "name": "python2"
  },
  "language_info": {
   "codemirror_mode": {
    "name": "ipython",
    "version": 2
   },
   "file_extension": ".py",
   "mimetype": "text/x-python",
   "name": "python",
   "nbconvert_exporter": "python",
   "pygments_lexer": "ipython2",
   "version": "2.7.17"
  }
 },
 "nbformat": 4,
 "nbformat_minor": 2
}
