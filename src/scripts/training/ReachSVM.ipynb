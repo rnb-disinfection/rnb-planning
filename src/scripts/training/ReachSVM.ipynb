{
 "cells": [
  {
   "cell_type": "code",
   "execution_count": 1,
   "metadata": {},
   "outputs": [],
   "source": [
    "from __future__ import print_function\n",
    "import os\n",
    "os.chdir(os.path.join(os.environ[\"RNB_PLANNING_DIR\"], 'src'))"
   ]
  },
  {
   "cell_type": "code",
   "execution_count": null,
   "metadata": {},
   "outputs": [],
   "source": []
  },
  {
   "cell_type": "markdown",
   "metadata": {},
   "source": [
    "## init stereo aruco detector scene builder"
   ]
  },
  {
   "cell_type": "code",
   "execution_count": 2,
   "metadata": {
    "scrolled": true
   },
   "outputs": [],
   "source": [
    "from pkg.marker_config import *\n",
    "from pkg.detector.aruco.stereo import ArucoStereo\n",
    "from pkg.detector.camera.realsense import RealSense\n",
    "from pkg.detector.camera.kinect import Kinect\n",
    "from pkg.geometry.builder.scene_builder import SceneBuilder\n",
    "\n",
    "s_builder = SceneBuilder(None, base_link=\"base_link\")\n",
    "# s_builder.reset_reference_coord(ref_name=\"floor\")"
   ]
  },
  {
   "cell_type": "code",
   "execution_count": null,
   "metadata": {},
   "outputs": [],
   "source": []
  },
  {
   "cell_type": "code",
   "execution_count": 3,
   "metadata": {},
   "outputs": [],
   "source": [
    "from pkg.planning.filtering.reach_filter import ReachTrainer\n",
    "from pkg.controller.combined_robot import *"
   ]
  },
  {
   "cell_type": "code",
   "execution_count": 4,
   "metadata": {},
   "outputs": [],
   "source": [
    "rtrain = ReachTrainer(scene_builder=s_builder)"
   ]
  },
  {
   "cell_type": "code",
   "execution_count": null,
   "metadata": {},
   "outputs": [],
   "source": []
  },
  {
   "cell_type": "markdown",
   "metadata": {},
   "source": [
    "## collect and train"
   ]
  },
  {
   "cell_type": "code",
   "execution_count": null,
   "metadata": {},
   "outputs": [
    {
     "name": "stdout",
     "output_type": "stream",
     "text": [
      "connection_list\n",
      "[False]\n"
     ]
    },
    {
     "name": "stderr",
     "output_type": "stream",
     "text": [
      "Unknown tag \"hardwareInterface\" in /robot[@name='custom_robots']/transmission[@name='indy0_tran0']/actuator[@name='indy0_motor0']\n",
      "Unknown tag \"hardwareInterface\" in /robot[@name='custom_robots']/transmission[@name='indy0_tran1']/actuator[@name='indy0_motor1']\n",
      "Unknown tag \"hardwareInterface\" in /robot[@name='custom_robots']/transmission[@name='indy0_tran2']/actuator[@name='indy0_motor2']\n",
      "Unknown tag \"hardwareInterface\" in /robot[@name='custom_robots']/transmission[@name='indy0_tran3']/actuator[@name='indy0_motor3']\n",
      "Unknown tag \"hardwareInterface\" in /robot[@name='custom_robots']/transmission[@name='indy0_tran4']/actuator[@name='indy0_motor4']\n",
      "Unknown tag \"hardwareInterface\" in /robot[@name='custom_robots']/transmission[@name='indy0_tran5']/actuator[@name='indy0_motor5']\n"
     ]
    },
    {
     "name": "stdout",
     "output_type": "stream",
     "text": [
      "added robot collision boundaries\n",
      "0 / 20000 (0 / 6673159 s): current success ratio = 0.0\n",
      "100 / 20000 (26 / 5212 s): current success ratio = 0.237623762376\n"
     ]
    }
   ],
   "source": [
    "rtrain.collect_and_learn(RobotType.indy7, \"indy0_tcp\", \n",
    "                         TRAIN_COUNT=20000, TEST_COUNT=5000, save_data=True, save_model=True, timeout=0.3)\n",
    "import matplotlib.pyplot as plt\n",
    "plt.plot(rtrain.time_plan, '.')"
   ]
  },
  {
   "cell_type": "code",
   "execution_count": null,
   "metadata": {
    "scrolled": true
   },
   "outputs": [],
   "source": [
    "rtrain.collect_and_learn(RobotType.panda, \"panda0_hand\", \n",
    "                         TRAIN_COUNT=20000, TEST_COUNT=5000, save_data=True, save_model=True, timeout=1)\n",
    "import matplotlib.pyplot as plt\n",
    "plt.plot(rtrain.time_plan, '.')"
   ]
  },
  {
   "cell_type": "code",
   "execution_count": null,
   "metadata": {},
   "outputs": [],
   "source": []
  },
  {
   "cell_type": "markdown",
   "metadata": {},
   "source": [
    "## load and train"
   ]
  },
  {
   "cell_type": "code",
   "execution_count": 5,
   "metadata": {
    "scrolled": true
   },
   "outputs": [
    {
     "name": "stderr",
     "output_type": "stream",
     "text": [
      "/home/rnb/.local/lib/python2.7/site-packages/sklearn/svm/base.py:196: FutureWarning: The default value of gamma will change from 'auto' to 'scale' in version 0.22 to account better for unscaled features. Set gamma explicitly to 'auto' or 'scale' to avoid this warning.\n",
      "  \"avoid this warning.\", FutureWarning)\n"
     ]
    },
    {
     "name": "stdout",
     "output_type": "stream",
     "text": [
      "================================================================================\n",
      "trainset: \t317.0 ms/1 = 316.597 ms (316.597/316.597)\n",
      "testset: \t78.0 ms/1 = 78.225 ms (78.225/78.225)\n",
      "\n",
      "================================================================================\n",
      "trainning accuracy = 99.44 %\n",
      "test accuracy = 98.44 %\n",
      "================================================================================\n",
      "trainning success accuracy = 99.38 %\n",
      "trainning failure accuracy = 99.46 %\n",
      "================================================================================\n",
      "test success accuracy = 98.02 %\n",
      "test failure accuracy = 98.59 %\n",
      "================================================================================\n",
      "================================================================================\n",
      "trainset: \t390.0 ms/1 = 390.258 ms (390.258/390.258)\n",
      "testset: \t97.0 ms/1 = 97.452 ms (97.452/97.452)\n",
      "\n",
      "================================================================================\n",
      "trainning accuracy = 98.9 %\n",
      "test accuracy = 98.16 %\n",
      "================================================================================\n",
      "trainning success accuracy = 97.94 %\n",
      "trainning failure accuracy = 99.11 %\n",
      "================================================================================\n",
      "test success accuracy = 95.29 %\n",
      "test failure accuracy = 98.77 %\n",
      "================================================================================\n"
     ]
    }
   ],
   "source": [
    "rtrain.load_and_learn(RobotType.indy7)\n",
    "rtrain.load_and_learn(RobotType.panda)"
   ]
  },
  {
   "cell_type": "code",
   "execution_count": null,
   "metadata": {},
   "outputs": [],
   "source": []
  },
  {
   "cell_type": "markdown",
   "metadata": {},
   "source": [
    "## load and test"
   ]
  },
  {
   "cell_type": "code",
   "execution_count": 6,
   "metadata": {
    "scrolled": true
   },
   "outputs": [
    {
     "name": "stdout",
     "output_type": "stream",
     "text": [
      "================================================================================\n",
      "trainset: \t318.0 ms/1 = 318.007 ms (318.007/318.007)\n",
      "testset: \t79.0 ms/1 = 79.133 ms (79.133/79.133)\n",
      "\n",
      "================================================================================\n",
      "trainning accuracy = 99.44 %\n",
      "test accuracy = 98.44 %\n",
      "================================================================================\n",
      "trainning success accuracy = 99.38 %\n",
      "trainning failure accuracy = 99.46 %\n",
      "================================================================================\n",
      "test success accuracy = 98.02 % (1286/1312)\n",
      "test failure accuracy = 98.59 % (3636/3688)\n",
      "================================================================================\n",
      "================================================================================\n",
      "trainset: \t392.0 ms/1 = 392.411 ms (392.411/392.411)\n",
      "testset: \t98.0 ms/1 = 98.381 ms (98.381/98.381)\n",
      "\n",
      "================================================================================\n",
      "trainning accuracy = 98.9 %\n",
      "test accuracy = 98.16 %\n",
      "================================================================================\n",
      "trainning success accuracy = 97.94 %\n",
      "trainning failure accuracy = 99.11 %\n",
      "================================================================================\n",
      "test success accuracy = 95.29 % (829/870)\n",
      "test failure accuracy = 98.77 % (4079/4130)\n",
      "================================================================================\n"
     ]
    }
   ],
   "source": [
    "rtrain.load_and_test(RobotType.indy7)\n",
    "rtrain.load_and_test(RobotType.panda)"
   ]
  },
  {
   "cell_type": "code",
   "execution_count": null,
   "metadata": {},
   "outputs": [],
   "source": [
    "np.where(self.success_list_test)"
   ]
  },
  {
   "cell_type": "code",
   "execution_count": null,
   "metadata": {},
   "outputs": [],
   "source": []
  },
  {
   "cell_type": "code",
   "execution_count": null,
   "metadata": {},
   "outputs": [],
   "source": []
  }
 ],
 "metadata": {
  "kernelspec": {
   "display_name": "Python 2",
   "language": "python",
   "name": "python2"
  },
  "language_info": {
   "codemirror_mode": {
    "name": "ipython",
    "version": 2
   },
   "file_extension": ".py",
   "mimetype": "text/x-python",
   "name": "python",
   "nbconvert_exporter": "python",
   "pygments_lexer": "ipython2",
   "version": "2.7.17"
  }
 },
 "nbformat": 4,
 "nbformat_minor": 2
}
