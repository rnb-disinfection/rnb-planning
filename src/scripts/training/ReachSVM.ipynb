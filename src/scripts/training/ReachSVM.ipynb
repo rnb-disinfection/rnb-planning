{
 "cells": [
  {
   "cell_type": "code",
   "execution_count": 1,
   "metadata": {},
   "outputs": [],
   "source": [
    "from __future__ import print_function\n",
    "import os\n",
    "os.chdir(os.path.join(os.environ[\"RNB_PLANNING_DIR\"], 'src'))"
   ]
  },
  {
   "cell_type": "code",
   "execution_count": null,
   "metadata": {},
   "outputs": [],
   "source": []
  },
  {
   "cell_type": "markdown",
   "metadata": {},
   "source": [
    "## init stereo aruco detector scene builder"
   ]
  },
  {
   "cell_type": "code",
   "execution_count": 2,
   "metadata": {
    "scrolled": true
   },
   "outputs": [],
   "source": [
    "from pkg.detector.aruco.marker_config import *\n",
    "from pkg.detector.aruco.stereo import ArucoStereo\n",
    "from pkg.detector.camera.realsense import RealSense\n",
    "from pkg.detector.camera.kinect import Kinect\n",
    "from pkg.geometry.builder.scene_builder import SceneBuilder\n",
    "\n",
    "s_builder = SceneBuilder(None)\n",
    "# # deprecated: s_builder.reset_reference_coord(ref_name=\"floor\")"
   ]
  },
  {
   "cell_type": "code",
   "execution_count": null,
   "metadata": {},
   "outputs": [],
   "source": []
  },
  {
   "cell_type": "code",
   "execution_count": 3,
   "metadata": {},
   "outputs": [],
   "source": [
    "from pkg.planning.filtering.reach_filter import ReachTrainer\n",
    "from pkg.controller.combined_robot import *"
   ]
  },
  {
   "cell_type": "code",
   "execution_count": 4,
   "metadata": {},
   "outputs": [],
   "source": [
    "rtrain = ReachTrainer(scene_builder=s_builder)"
   ]
  },
  {
   "cell_type": "code",
   "execution_count": null,
   "metadata": {},
   "outputs": [],
   "source": []
  },
  {
   "cell_type": "markdown",
   "metadata": {},
   "source": [
    "## collect and train"
   ]
  },
  {
   "cell_type": "code",
   "execution_count": null,
   "metadata": {
    "scrolled": true
   },
   "outputs": [],
   "source": [
    "rtrain.collect_and_learn(RobotType.indy7gripper, \"indy0_tcp\", \n",
    "                         TRAIN_COUNT=20000, TEST_COUNT=5000, save_data=True, save_model=True, timeout=0.5)\n",
    "import matplotlib.pyplot as plt\n",
    "plt.plot(rtrain.time_plan, '.')"
   ]
  },
  {
   "cell_type": "code",
   "execution_count": null,
   "metadata": {
    "scrolled": true
   },
   "outputs": [],
   "source": [
    "rtrain.collect_and_learn(RobotType.panda, \"panda0_hand\", \n",
    "                         TRAIN_COUNT=20000, TEST_COUNT=5000, save_data=True, save_model=True, timeout=1)\n",
    "import matplotlib.pyplot as plt\n",
    "plt.plot(rtrain.time_plan, '.')"
   ]
  },
  {
   "cell_type": "code",
   "execution_count": null,
   "metadata": {},
   "outputs": [],
   "source": []
  },
  {
   "cell_type": "markdown",
   "metadata": {},
   "source": [
    "## load and train"
   ]
  },
  {
   "cell_type": "code",
   "execution_count": 7,
   "metadata": {
    "scrolled": true
   },
   "outputs": [
    {
     "name": "stdout",
     "output_type": "stream",
     "text": [
      "C_svm: 500\n",
      "connection command:\n",
      "indy0: False\n",
      "================================================================================\n",
      "trainset: \t555.9 ms/1 = 555.9 ms (555.945/555.945)\n",
      "testset: \t138.1 ms/1 = 138.1 ms (138.125/138.125)\n",
      "\n",
      "================================================================================\n",
      "trainning accuracy = 98.97 %\n",
      "test accuracy = 98.3 %\n",
      "================================================================================\n",
      "trainning success accuracy = 99.26 %\n",
      "trainning failure accuracy = 98.67 %\n",
      "================================================================================\n",
      "test success accuracy = 98.68 %\n",
      "test failure accuracy = 97.92 %\n",
      "================================================================================\n",
      "connection command:\n",
      "panda0: False\n",
      "================================================================================\n",
      "trainset: \t1489.8 ms/1 = 1489.8 ms (1489.834/1489.834)\n",
      "testset: \t371.8 ms/1 = 371.8 ms (371.824/371.824)\n",
      "\n",
      "================================================================================\n",
      "trainning accuracy = 94.78 %\n",
      "test accuracy = 94.36 %\n",
      "================================================================================\n",
      "trainning success accuracy = 97.3 %\n",
      "trainning failure accuracy = 91.0 %\n",
      "================================================================================\n",
      "test success accuracy = 96.69 %\n",
      "test failure accuracy = 90.61 %\n",
      "================================================================================\n",
      "C_svm: 1000\n",
      "connection command:\n",
      "indy0: False\n",
      "================================================================================\n",
      "trainset: \t473.4 ms/1 = 473.4 ms (473.397/473.397)\n",
      "testset: \t117.2 ms/1 = 117.2 ms (117.233/117.233)\n",
      "\n",
      "================================================================================\n",
      "trainning accuracy = 99.16 %\n",
      "test accuracy = 98.44 %\n",
      "================================================================================\n",
      "trainning success accuracy = 99.37 %\n",
      "trainning failure accuracy = 98.94 %\n",
      "================================================================================\n",
      "test success accuracy = 98.76 %\n",
      "test failure accuracy = 98.12 %\n",
      "================================================================================\n",
      "connection command:\n",
      "panda0: False\n",
      "================================================================================\n",
      "trainset: \t1422.8 ms/1 = 1422.8 ms (1422.819/1422.819)\n",
      "testset: \t355.0 ms/1 = 355.0 ms (354.973/354.973)\n",
      "\n",
      "================================================================================\n",
      "trainning accuracy = 95.06 %\n",
      "test accuracy = 94.44 %\n",
      "================================================================================\n",
      "trainning success accuracy = 97.43 %\n",
      "trainning failure accuracy = 91.51 %\n",
      "================================================================================\n",
      "test success accuracy = 96.69 %\n",
      "test failure accuracy = 90.81 %\n",
      "================================================================================\n",
      "C_svm: 2000\n",
      "connection command:\n",
      "indy0: False\n",
      "================================================================================\n",
      "trainset: \t410.2 ms/1 = 410.2 ms (410.239/410.239)\n",
      "testset: \t101.5 ms/1 = 101.5 ms (101.477/101.477)\n",
      "\n",
      "================================================================================\n",
      "trainning accuracy = 99.27 %\n",
      "test accuracy = 98.3 %\n",
      "================================================================================\n",
      "trainning success accuracy = 99.49 %\n",
      "trainning failure accuracy = 99.06 %\n",
      "================================================================================\n",
      "test success accuracy = 98.6 %\n",
      "test failure accuracy = 98.0 %\n",
      "================================================================================\n",
      "connection command:\n",
      "panda0: False\n",
      "================================================================================\n",
      "trainset: \t1359.9 ms/1 = 1359.9 ms (1359.95/1359.95)\n",
      "testset: \t338.7 ms/1 = 338.7 ms (338.659/338.659)\n",
      "\n",
      "================================================================================\n",
      "trainning accuracy = 95.17 %\n",
      "test accuracy = 94.4 %\n",
      "================================================================================\n",
      "trainning success accuracy = 97.5 %\n",
      "trainning failure accuracy = 91.67 %\n",
      "================================================================================\n",
      "test success accuracy = 96.66 %\n",
      "test failure accuracy = 90.76 %\n",
      "================================================================================\n",
      "C_svm: 4000\n",
      "connection command:\n",
      "indy0: False\n",
      "================================================================================\n",
      "trainset: \t360.2 ms/1 = 360.2 ms (360.2/360.2)\n",
      "testset: \t88.7 ms/1 = 88.7 ms (88.685/88.685)\n",
      "\n",
      "================================================================================\n",
      "trainning accuracy = 99.39 %\n",
      "test accuracy = 98.38 %\n",
      "================================================================================\n",
      "trainning success accuracy = 99.57 %\n",
      "trainning failure accuracy = 99.21 %\n",
      "================================================================================\n",
      "test success accuracy = 98.64 %\n",
      "test failure accuracy = 98.12 %\n",
      "================================================================================\n",
      "connection command:\n",
      "panda0: False\n",
      "================================================================================\n",
      "trainset: \t1294.6 ms/1 = 1294.6 ms (1294.642/1294.642)\n",
      "testset: \t321.3 ms/1 = 321.3 ms (321.336/321.336)\n",
      "\n",
      "================================================================================\n",
      "trainning accuracy = 95.34 %\n",
      "test accuracy = 94.64 %\n",
      "================================================================================\n",
      "trainning success accuracy = 97.62 %\n",
      "trainning failure accuracy = 91.91 %\n",
      "================================================================================\n",
      "test success accuracy = 96.76 %\n",
      "test failure accuracy = 91.23 %\n",
      "================================================================================\n",
      "C_svm: 8000\n",
      "connection command:\n",
      "indy0: False\n",
      "================================================================================\n",
      "trainset: \t323.2 ms/1 = 323.2 ms (323.205/323.205)\n",
      "testset: \t79.6 ms/1 = 79.6 ms (79.624/79.624)\n",
      "\n",
      "================================================================================\n",
      "trainning accuracy = 99.52 %\n",
      "test accuracy = 98.4 %\n",
      "================================================================================\n",
      "trainning success accuracy = 99.67 %\n",
      "trainning failure accuracy = 99.38 %\n",
      "================================================================================\n",
      "test success accuracy = 98.56 %\n",
      "test failure accuracy = 98.24 %\n",
      "================================================================================\n",
      "connection command:\n",
      "panda0: False\n",
      "================================================================================\n",
      "trainset: \t1225.9 ms/1 = 1225.9 ms (1225.947/1225.947)\n",
      "testset: \t305.2 ms/1 = 305.2 ms (305.16/305.16)\n",
      "\n",
      "================================================================================\n",
      "trainning accuracy = 95.63 %\n",
      "test accuracy = 94.76 %\n",
      "================================================================================\n",
      "trainning success accuracy = 97.82 %\n",
      "trainning failure accuracy = 92.32 %\n",
      "================================================================================\n",
      "test success accuracy = 96.73 %\n",
      "test failure accuracy = 91.6 %\n",
      "================================================================================\n"
     ]
    }
   ],
   "source": [
    "# C_svm_list = [64, 128, 256, 512, 1024, 2048, 4096, 8192, 16384]\n",
    "C_svm_list = [500, 1000, 2000, 4000, 8000, 12000, 16000]\n",
    "test_indy_list = []\n",
    "test_panda_list = []\n",
    "for C_svm in C_svm_list:\n",
    "    print(\"C_svm: {}\".format(C_svm))\n",
    "    test_indy = rtrain.load_and_learn(RobotType.indy7gripper, C_svm=C_svm)\n",
    "    test_panda = rtrain.load_and_learn(RobotType.panda, C_svm=C_svm)\n",
    "    test_indy_list.append(test_indy)\n",
    "    test_panda_list.append(test_panda)"
   ]
  },
  {
   "cell_type": "code",
   "execution_count": 12,
   "metadata": {},
   "outputs": [
    {
     "data": {
      "image/png": "[encoded data removed]",
      "text/plain": [
       "<Figure size 1080x360 with 2 Axes>"
      ]
     },
     "metadata": {
      "needs_background": "light"
     },
     "output_type": "display_data"
    }
   ],
   "source": [
    "import matplotlib.pyplot as plt\n",
    "plt.figure(figsize=(15,5))\n",
    "plt.subplot(1,2,1)\n",
    "plt.plot(C_svm_list, test_indy_list, '-o')\n",
    "plt.title(\"indy\")\n",
    "plt.grid()\n",
    "plt.subplot(1,2,2)\n",
    "plt.plot(C_svm_list, test_panda_list, '-o')\n",
    "plt.title(\"panda\")\n",
    "plt.grid()"
   ]
  },
  {
   "cell_type": "code",
   "execution_count": 5,
   "metadata": {
    "scrolled": true
   },
   "outputs": [
    {
     "name": "stdout",
     "output_type": "stream",
     "text": [
      "connection command:\n",
      "indy0: False\n",
      "================================================================================\n",
      "trainset: \t323.6 ms/1 = 323.6 ms (323.58/323.58)\n",
      "testset: \t79.7 ms/1 = 79.7 ms (79.696/79.696)\n",
      "\n",
      "================================================================================\n",
      "trainning accuracy = 99.52 %\n",
      "test accuracy = 98.4 %\n",
      "================================================================================\n",
      "trainning success accuracy = 99.67 %\n",
      "trainning failure accuracy = 99.38 %\n",
      "================================================================================\n",
      "test success accuracy = 98.56 %\n",
      "test failure accuracy = 98.24 %\n",
      "================================================================================\n",
      "connection command:\n",
      "panda0: False\n",
      "================================================================================\n",
      "trainset: \t1226.7 ms/1 = 1226.7 ms (1226.681/1226.681)\n",
      "testset: \t306.2 ms/1 = 306.2 ms (306.169/306.169)\n",
      "\n",
      "================================================================================\n",
      "trainning accuracy = 95.63 %\n",
      "test accuracy = 94.76 %\n",
      "================================================================================\n",
      "trainning success accuracy = 97.82 %\n",
      "trainning failure accuracy = 92.32 %\n",
      "================================================================================\n",
      "test success accuracy = 96.73 %\n",
      "test failure accuracy = 91.6 %\n",
      "================================================================================\n"
     ]
    },
    {
     "data": {
      "text/plain": [
       "94.76"
      ]
     },
     "execution_count": 5,
     "metadata": {},
     "output_type": "execute_result"
    }
   ],
   "source": [
    "rtrain.load_and_learn(RobotType.indy7gripper, C_svm=8000)\n",
    "rtrain.load_and_learn(RobotType.panda, C_svm=8000)"
   ]
  },
  {
   "cell_type": "code",
   "execution_count": null,
   "metadata": {},
   "outputs": [],
   "source": []
  },
  {
   "cell_type": "markdown",
   "metadata": {},
   "source": [
    "## load and test"
   ]
  },
  {
   "cell_type": "code",
   "execution_count": 6,
   "metadata": {
    "scrolled": true
   },
   "outputs": [
    {
     "name": "stdout",
     "output_type": "stream",
     "text": [
      "connection command:\n",
      "indy0: False\n",
      "================================================================================\n",
      "trainset: \t319.4 ms/1 = 319.4 ms (319.419/319.419)\n",
      "testset: \t79.4 ms/1 = 79.4 ms (79.403/79.403)\n",
      "\n",
      "================================================================================\n",
      "trainning accuracy = 99.52 %\n",
      "test accuracy = 98.4 %\n",
      "================================================================================\n",
      "trainning success accuracy = 99.67 %\n",
      "trainning failure accuracy = 99.38 %\n",
      "================================================================================\n",
      "test success accuracy = 98.56 % (2462/2498)\n",
      "test failure accuracy = 98.24 % (2458/2502)\n",
      "================================================================================\n"
     ]
    },
    {
     "data": {
      "text/plain": [
       "98.4"
      ]
     },
     "execution_count": 6,
     "metadata": {},
     "output_type": "execute_result"
    }
   ],
   "source": [
    "rtrain.load_and_test(RobotType.indy7gripper)"
   ]
  },
  {
   "cell_type": "code",
   "execution_count": 7,
   "metadata": {
    "scrolled": false
   },
   "outputs": [
    {
     "name": "stdout",
     "output_type": "stream",
     "text": [
      "connection command:\n",
      "panda0: False\n",
      "================================================================================\n",
      "trainset: \t1221.9 ms/1 = 1221.9 ms (1221.875/1221.875)\n",
      "testset: \t305.6 ms/1 = 305.6 ms (305.583/305.583)\n",
      "\n",
      "================================================================================\n",
      "trainning accuracy = 95.63 %\n",
      "test accuracy = 94.76 %\n",
      "================================================================================\n",
      "trainning success accuracy = 97.82 %\n",
      "trainning failure accuracy = 92.32 %\n",
      "================================================================================\n",
      "test success accuracy = 96.73 % (2983/3084)\n",
      "test failure accuracy = 91.6 % (1755/1916)\n",
      "================================================================================\n"
     ]
    },
    {
     "data": {
      "text/plain": [
       "94.76"
      ]
     },
     "execution_count": 7,
     "metadata": {},
     "output_type": "execute_result"
    }
   ],
   "source": [
    "rtrain.load_and_test(RobotType.panda)"
   ]
  },
  {
   "cell_type": "code",
   "execution_count": null,
   "metadata": {},
   "outputs": [],
   "source": []
  },
  {
   "cell_type": "markdown",
   "metadata": {},
   "source": [
    "## Update label"
   ]
  },
  {
   "cell_type": "code",
   "execution_count": null,
   "metadata": {},
   "outputs": [],
   "source": [
    "from pkg.planning.filtering.reach_filter import *"
   ]
  },
  {
   "cell_type": "code",
   "execution_count": null,
   "metadata": {},
   "outputs": [],
   "source": [
    "ROBOT_TYPE = RobotType.indy7\n",
    "TIP_LINK = \"indy0_tcp\"\n",
    "TIMEOUT = 0.3\n",
    "DATA_DIVS = [\"train\", \"test\"]\n",
    "UPDATE_LABELS = [True] # to reduce feasible ones, as joint limit is reduced"
   ]
  },
  {
   "cell_type": "code",
   "execution_count": null,
   "metadata": {},
   "outputs": [],
   "source": [
    "time_lists = []\n",
    "for DATA_DIV in DATA_DIVS:\n",
    "    rtrain.update_label(robot_type=ROBOT_TYPE, tip_link=TIP_LINK, data_div=DATA_DIV, update_labels=UPDATE_LABELS, timeout=TIMEOUT)\n",
    "    time_lists.append(deepcopy(rtrain.time_list))\n",
    "import matplotlib.pyplot as plt\n",
    "plt.subplot(1,2,1)\n",
    "plt.plot(sorted(time_lists[0]), '.')\n",
    "plt.subplot(1,2,2)\n",
    "plt.plot(sorted(time_lists[0]), '.')"
   ]
  },
  {
   "cell_type": "code",
   "execution_count": null,
   "metadata": {},
   "outputs": [],
   "source": []
  },
  {
   "cell_type": "markdown",
   "metadata": {},
   "source": [
    "## Load and visualize"
   ]
  },
  {
   "cell_type": "code",
   "execution_count": null,
   "metadata": {},
   "outputs": [],
   "source": [
    "ROBOT_TYPE = RobotType.panda\n",
    "TIP_LINK = \"panda0_hand\"\n",
    "TIMEOUT = 0.5\n",
    "DATA_DIV = \"test\""
   ]
  },
  {
   "cell_type": "code",
   "execution_count": null,
   "metadata": {},
   "outputs": [],
   "source": [
    "rtrain.load_and_visualize(robot_type=ROBOT_TYPE, tip_link=TIP_LINK, data_div=DATA_DIV, timeout=TIMEOUT)"
   ]
  },
  {
   "cell_type": "code",
   "execution_count": null,
   "metadata": {},
   "outputs": [],
   "source": []
  }
 ],
 "metadata": {
  "kernelspec": {
   "display_name": "Python 2",
   "language": "python",
   "name": "python2"
  },
  "language_info": {
   "codemirror_mode": {
    "name": "ipython",
    "version": 2
   },
   "file_extension": ".py",
   "mimetype": "text/x-python",
   "name": "python",
   "nbconvert_exporter": "python",
   "pygments_lexer": "ipython2",
   "version": "2.7.17"
  }
 },
 "nbformat": 4,
 "nbformat_minor": 2
}
