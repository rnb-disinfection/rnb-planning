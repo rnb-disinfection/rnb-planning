{
 "cells": [
  {
   "cell_type": "code",
   "execution_count": 1,
   "metadata": {},
   "outputs": [],
   "source": [
    "from __future__ import print_function\n",
    "import os\n",
    "os.chdir(os.path.join(os.environ[\"RNB_PLANNING_DIR\"], 'src'))"
   ]
  },
  {
   "cell_type": "code",
   "execution_count": null,
   "metadata": {},
   "outputs": [],
   "source": []
  },
  {
   "cell_type": "markdown",
   "metadata": {},
   "source": [
    "## init stereo aruco detector scene builder"
   ]
  },
  {
   "cell_type": "code",
   "execution_count": 2,
   "metadata": {
    "scrolled": true
   },
   "outputs": [],
   "source": [
    "from pkg.detector.aruco.marker_config import *\n",
    "from pkg.detector.aruco.stereo import ArucoStereo\n",
    "from pkg.detector.camera.realsense import RealSense\n",
    "from pkg.detector.camera.kinect import Kinect\n",
    "from pkg.geometry.builder.scene_builder import SceneBuilder\n",
    "\n",
    "s_builder = SceneBuilder(None)\n",
    "# s_builder.reset_reference_coord(ref_name=\"floor\")"
   ]
  },
  {
   "cell_type": "code",
   "execution_count": null,
   "metadata": {},
   "outputs": [],
   "source": []
  },
  {
   "cell_type": "code",
   "execution_count": 3,
   "metadata": {},
   "outputs": [],
   "source": [
    "from pkg.planning.filtering.reach_filter import ReachTrainer\n",
    "from pkg.controller.combined_robot import *"
   ]
  },
  {
   "cell_type": "code",
   "execution_count": 4,
   "metadata": {},
   "outputs": [],
   "source": [
    "rtrain = ReachTrainer(scene_builder=s_builder)"
   ]
  },
  {
   "cell_type": "code",
   "execution_count": null,
   "metadata": {},
   "outputs": [],
   "source": []
  },
  {
   "cell_type": "markdown",
   "metadata": {},
   "source": [
    "## collect and train"
   ]
  },
  {
   "cell_type": "code",
   "execution_count": 1,
   "metadata": {},
   "outputs": [],
   "source": [
    "rtrain.collect_and_learn(RobotType.indy7, \"indy0_tcp\", \n",
    "                         TRAIN_COUNT=20000, TEST_COUNT=5000, save_data=True, save_model=True, timeout=0.3)\n",
    "import matplotlib.pyplot as plt\n",
    "plt.plot(rtrain.time_plan, '.')"
   ]
  },
  {
   "cell_type": "code",
   "execution_count": null,
   "metadata": {
    "scrolled": true
   },
   "outputs": [],
   "source": [
    "rtrain.collect_and_learn(RobotType.panda, \"panda0_hand\", \n",
    "                         TRAIN_COUNT=20000, TEST_COUNT=5000, save_data=True, save_model=True, timeout=1)\n",
    "import matplotlib.pyplot as plt\n",
    "plt.plot(rtrain.time_plan, '.')"
   ]
  },
  {
   "cell_type": "code",
   "execution_count": null,
   "metadata": {},
   "outputs": [],
   "source": []
  },
  {
   "cell_type": "markdown",
   "metadata": {},
   "source": [
    "## load and train"
   ]
  },
  {
   "cell_type": "code",
   "execution_count": 5,
   "metadata": {
    "scrolled": true
   },
   "outputs": [
    {
     "name": "stdout",
     "output_type": "stream",
     "text": [
      "================================================================================\n",
      "trainset: \t563.6 ms/1 = 563.6 ms (563.578/563.578)\n",
      "testset: \t139.4 ms/1 = 139.4 ms (139.436/139.436)\n",
      "\n",
      "================================================================================\n",
      "trainning accuracy = 98.76 %\n",
      "test accuracy = 97.96 %\n",
      "================================================================================\n",
      "trainning success accuracy = 98.69 %\n",
      "trainning failure accuracy = 98.78 %\n",
      "================================================================================\n",
      "test success accuracy = 97.56 %\n",
      "test failure accuracy = 98.1 %\n",
      "================================================================================\n",
      "================================================================================\n",
      "trainset: \t595.0 ms/1 = 595.0 ms (595.039/595.039)\n",
      "testset: \t146.4 ms/1 = 146.4 ms (146.429/146.429)\n",
      "\n",
      "================================================================================\n",
      "trainning accuracy = 98.25 %\n",
      "test accuracy = 97.74 %\n",
      "================================================================================\n",
      "trainning success accuracy = 96.44 %\n",
      "trainning failure accuracy = 98.64 %\n",
      "================================================================================\n",
      "test success accuracy = 93.91 %\n",
      "test failure accuracy = 98.55 %\n",
      "================================================================================\n",
      "================================================================================\n",
      "trainset: \t500.5 ms/1 = 500.5 ms (500.47/500.47)\n",
      "testset: \t123.2 ms/1 = 123.2 ms (123.236/123.236)\n",
      "\n",
      "================================================================================\n",
      "trainning accuracy = 98.98 %\n",
      "test accuracy = 98.24 %\n",
      "================================================================================\n",
      "trainning success accuracy = 99.02 %\n",
      "trainning failure accuracy = 98.96 %\n",
      "================================================================================\n",
      "test success accuracy = 97.94 %\n",
      "test failure accuracy = 98.35 %\n",
      "================================================================================\n",
      "================================================================================\n",
      "trainset: \t539.1 ms/1 = 539.1 ms (539.069/539.069)\n",
      "testset: \t133.6 ms/1 = 133.6 ms (133.633/133.633)\n",
      "\n",
      "================================================================================\n",
      "trainning accuracy = 98.43 %\n",
      "test accuracy = 97.76 %\n",
      "================================================================================\n",
      "trainning success accuracy = 96.98 %\n",
      "trainning failure accuracy = 98.75 %\n",
      "================================================================================\n",
      "test success accuracy = 93.91 %\n",
      "test failure accuracy = 98.57 %\n",
      "================================================================================\n",
      "================================================================================\n",
      "trainset: \t442.6 ms/1 = 442.6 ms (442.609/442.609)\n",
      "testset: \t112.4 ms/1 = 112.4 ms (112.371/112.371)\n",
      "\n",
      "================================================================================\n",
      "trainning accuracy = 99.0 %\n",
      "test accuracy = 98.24 %\n",
      "================================================================================\n",
      "trainning success accuracy = 98.95 %\n",
      "trainning failure accuracy = 99.02 %\n",
      "================================================================================\n",
      "test success accuracy = 97.94 %\n",
      "test failure accuracy = 98.35 %\n",
      "================================================================================\n",
      "================================================================================\n",
      "trainset: \t492.7 ms/1 = 492.7 ms (492.697/492.697)\n",
      "testset: \t120.7 ms/1 = 120.7 ms (120.656/120.656)\n",
      "\n",
      "================================================================================\n",
      "trainning accuracy = 98.55 %\n",
      "test accuracy = 97.98 %\n",
      "================================================================================\n",
      "trainning success accuracy = 97.15 %\n",
      "trainning failure accuracy = 98.85 %\n",
      "================================================================================\n",
      "test success accuracy = 94.25 %\n",
      "test failure accuracy = 98.77 %\n",
      "================================================================================\n",
      "================================================================================\n",
      "trainset: \t394.6 ms/1 = 394.6 ms (394.591/394.591)\n",
      "testset: \t97.3 ms/1 = 97.3 ms (97.308/97.308)\n",
      "\n",
      "================================================================================\n",
      "trainning accuracy = 99.22 %\n",
      "test accuracy = 98.32 %\n",
      "================================================================================\n",
      "trainning success accuracy = 99.1 %\n",
      "trainning failure accuracy = 99.25 %\n",
      "================================================================================\n",
      "test success accuracy = 97.87 %\n",
      "test failure accuracy = 98.48 %\n",
      "================================================================================\n",
      "================================================================================\n",
      "trainset: \t452.5 ms/1 = 452.5 ms (452.475/452.475)\n",
      "testset: \t110.5 ms/1 = 110.5 ms (110.547/110.547)\n",
      "\n",
      "================================================================================\n",
      "trainning accuracy = 98.67 %\n",
      "test accuracy = 98.1 %\n",
      "================================================================================\n",
      "trainning success accuracy = 97.32 %\n",
      "trainning failure accuracy = 98.97 %\n",
      "================================================================================\n",
      "test success accuracy = 94.71 %\n",
      "test failure accuracy = 98.81 %\n",
      "================================================================================\n",
      "================================================================================\n",
      "trainset: \t356.5 ms/1 = 356.5 ms (356.532/356.532)\n",
      "testset: \t88.0 ms/1 = 88.0 ms (87.983/87.983)\n",
      "\n",
      "================================================================================\n",
      "trainning accuracy = 99.37 %\n",
      "test accuracy = 98.48 %\n",
      "================================================================================\n",
      "trainning success accuracy = 99.24 %\n",
      "trainning failure accuracy = 99.41 %\n",
      "================================================================================\n",
      "test success accuracy = 97.94 %\n",
      "test failure accuracy = 98.67 %\n",
      "================================================================================\n",
      "================================================================================\n",
      "trainset: \t419.0 ms/1 = 419.0 ms (418.976/418.976)\n",
      "testset: \t103.2 ms/1 = 103.2 ms (103.19/103.19)\n",
      "\n",
      "================================================================================\n",
      "trainning accuracy = 98.86 %\n",
      "test accuracy = 98.28 %\n",
      "================================================================================\n",
      "trainning success accuracy = 97.6 %\n",
      "trainning failure accuracy = 99.13 %\n",
      "================================================================================\n",
      "test success accuracy = 95.29 %\n",
      "test failure accuracy = 98.91 %\n",
      "================================================================================\n",
      "================================================================================\n",
      "trainset: \t325.9 ms/1 = 325.9 ms (325.899/325.899)\n",
      "testset: \t77.0 ms/1 = 77.0 ms (77.05/77.05)\n",
      "\n",
      "================================================================================\n",
      "trainning accuracy = 99.48 %\n",
      "test accuracy = 98.48 %\n",
      "================================================================================\n",
      "trainning success accuracy = 99.32 %\n",
      "trainning failure accuracy = 99.53 %\n",
      "================================================================================\n",
      "test success accuracy = 97.71 %\n",
      "test failure accuracy = 98.75 %\n",
      "================================================================================\n",
      "================================================================================\n",
      "trainset: \t389.1 ms/1 = 389.1 ms (389.138/389.138)\n",
      "testset: \t95.6 ms/1 = 95.6 ms (95.644/95.644)\n",
      "\n",
      "================================================================================\n",
      "trainning accuracy = 98.98 %\n",
      "test accuracy = 98.22 %\n",
      "================================================================================\n",
      "trainning success accuracy = 97.97 %\n",
      "trainning failure accuracy = 99.2 %\n",
      "================================================================================\n",
      "test success accuracy = 95.4 %\n",
      "test failure accuracy = 98.81 %\n",
      "================================================================================\n"
     ]
    },
    {
     "name": "stdout",
     "output_type": "stream",
     "text": [
      "================================================================================\n",
      "trainset: \t274.6 ms/1 = 274.6 ms (274.574/274.574)\n",
      "testset: \t66.3 ms/1 = 66.3 ms (66.302/66.302)\n",
      "\n",
      "================================================================================\n",
      "trainning accuracy = 99.54 %\n",
      "test accuracy = 98.34 %\n",
      "================================================================================\n",
      "trainning success accuracy = 99.51 %\n",
      "trainning failure accuracy = 99.55 %\n",
      "================================================================================\n",
      "test success accuracy = 97.48 %\n",
      "test failure accuracy = 98.64 %\n",
      "================================================================================\n",
      "================================================================================\n",
      "trainset: \t365.8 ms/1 = 365.8 ms (365.814/365.814)\n",
      "testset: \t90.2 ms/1 = 90.2 ms (90.223/90.223)\n",
      "\n",
      "================================================================================\n",
      "trainning accuracy = 99.11 %\n",
      "test accuracy = 98.16 %\n",
      "================================================================================\n",
      "trainning success accuracy = 98.31 %\n",
      "trainning failure accuracy = 99.28 %\n",
      "================================================================================\n",
      "test success accuracy = 95.4 %\n",
      "test failure accuracy = 98.74 %\n",
      "================================================================================\n"
     ]
    }
   ],
   "source": [
    "C_svm_list = [64, 128, 256, 512, 1024, 2048, 4096]\n",
    "test_indy_list = []\n",
    "test_panda_list = []\n",
    "for C_svm in C_svm_list:\n",
    "    test_indy = rtrain.load_and_learn(RobotType.indy7, C_svm=C_svm)\n",
    "    test_panda = rtrain.load_and_learn(RobotType.panda, C_svm=C_svm)\n",
    "    test_indy_list.append(test_indy)\n",
    "    test_panda_list.append(test_panda)"
   ]
  },
  {
   "cell_type": "code",
   "execution_count": 6,
   "metadata": {},
   "outputs": [
    {
     "data": {
      "text/plain": [
       "[<matplotlib.lines.Line2D at 0x7f33cc164910>]"
      ]
     },
     "execution_count": 6,
     "metadata": {},
     "output_type": "execute_result"
    },
    {
     "data": {
      "image/png": "[encoded data removed]",
      "text/plain": [
       "<Figure size 432x288 with 1 Axes>"
      ]
     },
     "metadata": {
      "needs_background": "light"
     },
     "output_type": "display_data"
    }
   ],
   "source": [
    "import matplotlib.pyplot as plt\n",
    "plt.plot(C_svm_list, test_indy_list)\n",
    "plt.plot(C_svm_list, test_panda_list)"
   ]
  },
  {
   "cell_type": "code",
   "execution_count": 7,
   "metadata": {
    "scrolled": true
   },
   "outputs": [
    {
     "name": "stdout",
     "output_type": "stream",
     "text": [
      "================================================================================\n",
      "trainset: \t346.3 ms/1 = 346.3 ms (346.312/346.312)\n",
      "testset: \t87.0 ms/1 = 87.0 ms (86.981/86.981)\n",
      "\n",
      "================================================================================\n",
      "trainning accuracy = 99.36 %\n",
      "test accuracy = 98.48 %\n",
      "================================================================================\n",
      "trainning success accuracy = 99.24 %\n",
      "trainning failure accuracy = 99.4 %\n",
      "================================================================================\n",
      "test success accuracy = 97.94 %\n",
      "test failure accuracy = 98.67 %\n",
      "================================================================================\n",
      "================================================================================\n",
      "trainset: \t420.0 ms/1 = 420.0 ms (419.995/419.995)\n",
      "testset: \t104.6 ms/1 = 104.6 ms (104.629/104.629)\n",
      "\n",
      "================================================================================\n",
      "trainning accuracy = 98.85 %\n",
      "test accuracy = 98.26 %\n",
      "================================================================================\n",
      "trainning success accuracy = 97.57 %\n",
      "trainning failure accuracy = 99.13 %\n",
      "================================================================================\n",
      "test success accuracy = 95.29 %\n",
      "test failure accuracy = 98.89 %\n",
      "================================================================================\n"
     ]
    },
    {
     "data": {
      "text/plain": [
       "98.26"
      ]
     },
     "execution_count": 7,
     "metadata": {},
     "output_type": "execute_result"
    }
   ],
   "source": [
    "rtrain.load_and_learn(RobotType.indy7, C_svm=1000)\n",
    "rtrain.load_and_learn(RobotType.panda, C_svm=1000)"
   ]
  },
  {
   "cell_type": "code",
   "execution_count": null,
   "metadata": {},
   "outputs": [],
   "source": []
  },
  {
   "cell_type": "markdown",
   "metadata": {},
   "source": [
    "## load and test"
   ]
  },
  {
   "cell_type": "code",
   "execution_count": 6,
   "metadata": {
    "scrolled": true
   },
   "outputs": [
    {
     "name": "stdout",
     "output_type": "stream",
     "text": [
      "================================================================================\n",
      "trainset: \t318.0 ms/1 = 318.007 ms (318.007/318.007)\n",
      "testset: \t79.0 ms/1 = 79.133 ms (79.133/79.133)\n",
      "\n",
      "================================================================================\n",
      "trainning accuracy = 99.44 %\n",
      "test accuracy = 98.44 %\n",
      "================================================================================\n",
      "trainning success accuracy = 99.38 %\n",
      "trainning failure accuracy = 99.46 %\n",
      "================================================================================\n",
      "test success accuracy = 98.02 % (1286/1312)\n",
      "test failure accuracy = 98.59 % (3636/3688)\n",
      "================================================================================\n",
      "================================================================================\n",
      "trainset: \t392.0 ms/1 = 392.411 ms (392.411/392.411)\n",
      "testset: \t98.0 ms/1 = 98.381 ms (98.381/98.381)\n",
      "\n",
      "================================================================================\n",
      "trainning accuracy = 98.9 %\n",
      "test accuracy = 98.16 %\n",
      "================================================================================\n",
      "trainning success accuracy = 97.94 %\n",
      "trainning failure accuracy = 99.11 %\n",
      "================================================================================\n",
      "test success accuracy = 95.29 % (829/870)\n",
      "test failure accuracy = 98.77 % (4079/4130)\n",
      "================================================================================\n"
     ]
    }
   ],
   "source": [
    "rtrain.load_and_test(RobotType.indy7)\n",
    "rtrain.load_and_test(RobotType.panda)"
   ]
  },
  {
   "cell_type": "code",
   "execution_count": 8,
   "metadata": {
    "scrolled": true
   },
   "outputs": [
    {
     "name": "stdout",
     "output_type": "stream",
     "text": [
      "================================================================================\n",
      "trainset: \t345.9 ms/1 = 345.9 ms (345.906/345.906)\n",
      "testset: \t86.3 ms/1 = 86.3 ms (86.256/86.256)\n",
      "\n",
      "================================================================================\n",
      "trainning accuracy = 99.36 %\n",
      "test accuracy = 98.48 %\n",
      "================================================================================\n",
      "trainning success accuracy = 99.24 %\n",
      "trainning failure accuracy = 99.4 %\n",
      "================================================================================\n",
      "test success accuracy = 97.94 % (1285/1312)\n",
      "test failure accuracy = 98.67 % (3639/3688)\n",
      "================================================================================\n",
      "================================================================================\n",
      "trainset: \t417.2 ms/1 = 417.2 ms (417.198/417.198)\n",
      "testset: \t103.8 ms/1 = 103.8 ms (103.765/103.765)\n",
      "\n",
      "================================================================================\n",
      "trainning accuracy = 98.85 %\n",
      "test accuracy = 98.26 %\n",
      "================================================================================\n",
      "trainning success accuracy = 97.57 %\n",
      "trainning failure accuracy = 99.13 %\n",
      "================================================================================\n",
      "test success accuracy = 95.29 % (829/870)\n",
      "test failure accuracy = 98.89 % (4084/4130)\n",
      "================================================================================\n"
     ]
    },
    {
     "data": {
      "text/plain": [
       "98.26"
      ]
     },
     "execution_count": 8,
     "metadata": {},
     "output_type": "execute_result"
    }
   ],
   "source": [
    "rtrain.load_and_test(RobotType.indy7)\n",
    "rtrain.load_and_test(RobotType.panda)"
   ]
  },
  {
   "cell_type": "code",
   "execution_count": null,
   "metadata": {},
   "outputs": [],
   "source": []
  },
  {
   "cell_type": "code",
   "execution_count": null,
   "metadata": {},
   "outputs": [],
   "source": []
  }
 ],
 "metadata": {
  "kernelspec": {
   "display_name": "Python 2",
   "language": "python",
   "name": "python2"
  },
  "language_info": {
   "codemirror_mode": {
    "name": "ipython",
    "version": 2
   },
   "file_extension": ".py",
   "mimetype": "text/x-python",
   "name": "python",
   "nbconvert_exporter": "python",
   "pygments_lexer": "ipython2",
   "version": "2.7.17"
  }
 },
 "nbformat": 4,
 "nbformat_minor": 2
}
