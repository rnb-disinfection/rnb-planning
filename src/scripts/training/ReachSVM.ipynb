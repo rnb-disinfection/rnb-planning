{
 "cells": [
  {
   "cell_type": "code",
   "execution_count": 1,
   "metadata": {},
   "outputs": [],
   "source": [
    "from __future__ import print_function\n",
    "import os\n",
    "os.chdir(os.path.join(os.environ[\"RNB_PLANNING_DIR\"], 'src'))"
   ]
  },
  {
   "cell_type": "code",
   "execution_count": null,
   "metadata": {},
   "outputs": [],
   "source": []
  },
  {
   "cell_type": "markdown",
   "metadata": {},
   "source": [
    "## init stereo aruco detector scene builder"
   ]
  },
  {
   "cell_type": "code",
   "execution_count": 2,
   "metadata": {
    "scrolled": true
   },
   "outputs": [],
   "source": [
    "from pkg.marker_config import *\n",
    "from pkg.detector.aruco.stereo import ArucoStereo\n",
    "from pkg.detector.camera.realsense import RealSense\n",
    "from pkg.detector.camera.kinect import Kinect\n",
    "from pkg.geometry.builder.scene_builder import SceneBuilder\n",
    "\n",
    "s_builder = SceneBuilder(None, base_link=\"base_link\")\n",
    "# s_builder.reset_reference_coord(ref_name=\"floor\")"
   ]
  },
  {
   "cell_type": "code",
   "execution_count": null,
   "metadata": {},
   "outputs": [],
   "source": []
  },
  {
   "cell_type": "code",
   "execution_count": 3,
   "metadata": {},
   "outputs": [],
   "source": [
    "from pkg.planning.filtering.reach_filter import ReachTrainer\n",
    "from pkg.controller.combined_robot import *"
   ]
  },
  {
   "cell_type": "code",
   "execution_count": 4,
   "metadata": {},
   "outputs": [],
   "source": [
    "rtrain = ReachTrainer(scene_builder=s_builder)"
   ]
  },
  {
   "cell_type": "code",
   "execution_count": null,
   "metadata": {},
   "outputs": [],
   "source": []
  },
  {
   "cell_type": "markdown",
   "metadata": {},
   "source": [
    "## collect and train"
   ]
  },
  {
   "cell_type": "code",
   "execution_count": 5,
   "metadata": {},
   "outputs": [
    {
     "name": "stdout",
     "output_type": "stream",
     "text": [
      "connection_list\n",
      "[False]\n"
     ]
    },
    {
     "name": "stderr",
     "output_type": "stream",
     "text": [
      "Unknown tag \"hardwareInterface\" in /robot[@name='custom_robots']/transmission[@name='indy0_tran0']/actuator[@name='indy0_motor0']\n",
      "Unknown tag \"hardwareInterface\" in /robot[@name='custom_robots']/transmission[@name='indy0_tran1']/actuator[@name='indy0_motor1']\n",
      "Unknown tag \"hardwareInterface\" in /robot[@name='custom_robots']/transmission[@name='indy0_tran2']/actuator[@name='indy0_motor2']\n",
      "Unknown tag \"hardwareInterface\" in /robot[@name='custom_robots']/transmission[@name='indy0_tran3']/actuator[@name='indy0_motor3']\n",
      "Unknown tag \"hardwareInterface\" in /robot[@name='custom_robots']/transmission[@name='indy0_tran4']/actuator[@name='indy0_motor4']\n",
      "Unknown tag \"hardwareInterface\" in /robot[@name='custom_robots']/transmission[@name='indy0_tran5']/actuator[@name='indy0_motor5']\n"
     ]
    },
    {
     "name": "stdout",
     "output_type": "stream",
     "text": [
      "added robot collision boundaries\n",
      "0 / 100 (0 / 33388 s): current success ratio = 0.0\n",
      "connection_list\n",
      "[False]\n",
      "added robot collision boundaries\n"
     ]
    },
    {
     "name": "stderr",
     "output_type": "stream",
     "text": [
      "Unknown tag \"hardwareInterface\" in /robot[@name='custom_robots']/transmission[@name='indy0_tran0']/actuator[@name='indy0_motor0']\n",
      "Unknown tag \"hardwareInterface\" in /robot[@name='custom_robots']/transmission[@name='indy0_tran1']/actuator[@name='indy0_motor1']\n",
      "Unknown tag \"hardwareInterface\" in /robot[@name='custom_robots']/transmission[@name='indy0_tran2']/actuator[@name='indy0_motor2']\n",
      "Unknown tag \"hardwareInterface\" in /robot[@name='custom_robots']/transmission[@name='indy0_tran3']/actuator[@name='indy0_motor3']\n",
      "Unknown tag \"hardwareInterface\" in /robot[@name='custom_robots']/transmission[@name='indy0_tran4']/actuator[@name='indy0_motor4']\n",
      "Unknown tag \"hardwareInterface\" in /robot[@name='custom_robots']/transmission[@name='indy0_tran5']/actuator[@name='indy0_motor5']\n"
     ]
    },
    {
     "name": "stdout",
     "output_type": "stream",
     "text": [
      "0 / 5000 (0 / 131369 s): current success ratio = 1.0\n",
      "100 / 5000 (23 / 1164 s): current success ratio = 0.326732673267\n",
      "200 / 5000 (48 / 1201 s): current success ratio = 0.298507462687\n",
      "300 / 5000 (73 / 1225 s): current success ratio = 0.282392026578\n",
      "400 / 5000 (99 / 1245 s): current success ratio = 0.269326683292\n",
      "500 / 5000 (125 / 1254 s): current success ratio = 0.263473053892\n",
      "600 / 5000 (150 / 1252 s): current success ratio = 0.26455906822\n",
      "700 / 5000 (177 / 1269 s): current success ratio = 0.25392296719\n",
      "800 / 5000 (202 / 1266 s): current success ratio = 0.255930087391\n",
      "900 / 5000 (229 / 1272 s): current success ratio = 0.251942286349\n",
      "1000 / 5000 (253 / 1267 s): current success ratio = 0.254745254745\n",
      "1100 / 5000 (277 / 1259 s): current success ratio = 0.259763851045\n",
      "1200 / 5000 (303 / 1266 s): current success ratio = 0.255620316403\n",
      "1300 / 5000 (329 / 1268 s): current success ratio = 0.254419677171\n",
      "1400 / 5000 (354 / 1267 s): current success ratio = 0.254817987152\n",
      "1500 / 5000 (379 / 1265 s): current success ratio = 0.256495669554\n",
      "1600 / 5000 (402 / 1258 s): current success ratio = 0.261086820737\n",
      "1700 / 5000 (427 / 1258 s): current success ratio = 0.26102292769\n",
      "1800 / 5000 (450 / 1251 s): current success ratio = 0.265408106607\n",
      "1900 / 5000 (475 / 1250 s): current success ratio = 0.265649658075\n",
      "2000 / 5000 (499 / 1249 s): current success ratio = 0.266366816592\n",
      "2100 / 5000 (524 / 1247 s): current success ratio = 0.267491670633\n",
      "2200 / 5000 (548 / 1246 s): current success ratio = 0.268514311677\n",
      "2300 / 5000 (574 / 1249 s): current success ratio = 0.266840504129\n",
      "2400 / 5000 (600 / 1250 s): current success ratio = 0.266139108705\n",
      "2500 / 5000 (625 / 1251 s): current success ratio = 0.265093962415\n",
      "2600 / 5000 (650 / 1250 s): current success ratio = 0.266051518647\n",
      "2700 / 5000 (674 / 1249 s): current success ratio = 0.266938171048\n",
      "2800 / 5000 (699 / 1249 s): current success ratio = 0.266333452338\n",
      "2900 / 5000 (724 / 1248 s): current success ratio = 0.267149258876\n",
      "3000 / 5000 (750 / 1250 s): current success ratio = 0.265911362879\n",
      "3100 / 5000 (774 / 1248 s): current success ratio = 0.267010641728\n",
      "3200 / 5000 (797 / 1245 s): current success ratio = 0.268978444236\n",
      "3300 / 5000 (823 / 1247 s): current success ratio = 0.26779763708\n",
      "3400 / 5000 (847 / 1247 s): current success ratio = 0.268156424581\n",
      "3500 / 5000 (874 / 1249 s): current success ratio = 0.266495287061\n",
      "3600 / 5000 (900 / 1250 s): current success ratio = 0.265759511247\n",
      "3700 / 5000 (926 / 1251 s): current success ratio = 0.265333693596\n",
      "3800 / 5000 (950 / 1250 s): current success ratio = 0.266245724809\n",
      "3900 / 5000 (975 / 1251 s): current success ratio = 0.265572930018\n",
      "4000 / 5000 (998 / 1248 s): current success ratio = 0.267183204199\n",
      "4100 / 5000 (1024 / 1249 s): current success ratio = 0.266764203853\n",
      "4200 / 5000 (1048 / 1247 s): current success ratio = 0.267793382528\n",
      "4300 / 5000 (1075 / 1251 s): current success ratio = 0.265519646594\n",
      "4400 / 5000 (1100 / 1251 s): current success ratio = 0.265621449671\n",
      "4500 / 5000 (1128 / 1253 s): current success ratio = 0.263719173517\n",
      "4600 / 5000 (1154 / 1255 s): current success ratio = 0.262986307324\n",
      "4700 / 5000 (1177 / 1252 s): current success ratio = 0.264624547969\n",
      "4800 / 5000 (1202 / 1252 s): current success ratio = 0.264319933347\n",
      "4900 / 5000 (1231 / 1256 s): current success ratio = 0.262191389512\n",
      "================================================================================\n",
      "trainset: \t0.0 ms/1 = 0.13 ms (0.13/0.13)\n",
      "testset: \t3.0 ms/1 = 2.935 ms (2.935/2.935)\n",
      "\n",
      "================================================================================\n",
      "trainning accuracy = 100.0 %\n",
      "test accuracy = 87.46 %\n",
      "================================================================================\n",
      "trainning success accuracy = 100.0 %\n",
      "trainning failure accuracy = 100.0 %\n",
      "================================================================================\n",
      "test success accuracy = 74.01 %\n",
      "test failure accuracy = 92.25 %\n",
      "================================================================================\n"
     ]
    },
    {
     "name": "stderr",
     "output_type": "stream",
     "text": [
      "/home/rnb/.local/lib/python2.7/site-packages/sklearn/svm/base.py:196: FutureWarning: The default value of gamma will change from 'auto' to 'scale' in version 0.22 to account better for unscaled features. Set gamma explicitly to 'auto' or 'scale' to avoid this warning.\n",
      "  \"avoid this warning.\", FutureWarning)\n"
     ]
    },
    {
     "data": {
      "text/plain": [
       "[<matplotlib.lines.Line2D at 0x7fb476960b10>]"
      ]
     },
     "execution_count": 5,
     "metadata": {},
     "output_type": "execute_result"
    },
    {
     "data": {
      "image/png": "[encoded data removed]",
      "text/plain": [
       "<Figure size 432x288 with 1 Axes>"
      ]
     },
     "metadata": {
      "needs_background": "light"
     },
     "output_type": "display_data"
    }
   ],
   "source": [
    "rtrain.collect_and_learn(RobotType.indy7, \"indy0_tcp\", \n",
    "                         TRAIN_COUNT=20000, TEST_COUNT=5000, save_data=True, save_model=True, timeout=0.3)\n",
    "import matplotlib.pyplot as plt\n",
    "plt.plot(rtrain.time_plan, '.')"
   ]
  },
  {
   "cell_type": "code",
   "execution_count": 6,
   "metadata": {
    "scrolled": true
   },
   "outputs": [
    {
     "name": "stdout",
     "output_type": "stream",
     "text": [
      "connection_list\n",
      "[False]\n",
      "added robot collision boundaries\n",
      "0 / 100 (0 / 53359 s): current success ratio = 0.0\n",
      "connection_list\n",
      "[False]\n",
      "added robot collision boundaries\n",
      "0 / 5000 (0 / 605084 s): current success ratio = 1.0\n",
      "100 / 5000 (41 / 2090 s): current success ratio = 0.287128712871\n",
      "200 / 5000 (85 / 2138 s): current success ratio = 0.253731343284\n",
      "300 / 5000 (129 / 2166 s): current success ratio = 0.235880398671\n",
      "400 / 5000 (176 / 2207 s): current success ratio = 0.214463840399\n",
      "500 / 5000 (223 / 2232 s): current success ratio = 0.201596806387\n",
      "600 / 5000 (270 / 2251 s): current success ratio = 0.191347753744\n",
      "700 / 5000 (317 / 2269 s): current success ratio = 0.184022824536\n",
      "800 / 5000 (364 / 2278 s): current success ratio = 0.179775280899\n",
      "900 / 5000 (413 / 2299 s): current success ratio = 0.169811320755\n",
      "1000 / 5000 (459 / 2296 s): current success ratio = 0.171828171828\n",
      "1100 / 5000 (506 / 2303 s): current success ratio = 0.1689373297\n",
      "1200 / 5000 (553 / 2305 s): current success ratio = 0.167360532889\n",
      "1300 / 5000 (597 / 2296 s): current success ratio = 0.172175249808\n",
      "1400 / 5000 (642 / 2295 s): current success ratio = 0.172019985724\n",
      "1500 / 5000 (688 / 2296 s): current success ratio = 0.171885409727\n",
      "1600 / 5000 (734 / 2296 s): current success ratio = 0.171143035603\n",
      "1700 / 5000 (780 / 2294 s): current success ratio = 0.171663727219\n",
      "1800 / 5000 (825 / 2291 s): current success ratio = 0.17268184342\n",
      "1900 / 5000 (871 / 2294 s): current success ratio = 0.171488690163\n",
      "2000 / 5000 (920 / 2301 s): current success ratio = 0.168415792104\n",
      "2100 / 5000 (968 / 2305 s): current success ratio = 0.166587339362\n",
      "2200 / 5000 (1016 / 2310 s): current success ratio = 0.164470695139\n",
      "2300 / 5000 (1063 / 2311 s): current success ratio = 0.16384180791\n",
      "2400 / 5000 (1110 / 2313 s): current success ratio = 0.162432319867\n",
      "2500 / 5000 (1158 / 2316 s): current success ratio = 0.161135545782\n",
      "2600 / 5000 (1205 / 2318 s): current success ratio = 0.16032295271\n",
      "2700 / 5000 (1249 / 2312 s): current success ratio = 0.163272861903\n",
      "2800 / 5000 (1294 / 2311 s): current success ratio = 0.163870046412\n",
      "2900 / 5000 (1340 / 2311 s): current success ratio = 0.164081351258\n",
      "3000 / 5000 (1383 / 2305 s): current success ratio = 0.166277907364\n",
      "3100 / 5000 (1427 / 2302 s): current success ratio = 0.168010319252\n",
      "3200 / 5000 (1474 / 2304 s): current success ratio = 0.167135270228\n",
      "3300 / 5000 (1519 / 2302 s): current success ratio = 0.168433807937\n",
      "3400 / 5000 (1566 / 2303 s): current success ratio = 0.16789179653\n",
      "3500 / 5000 (1609 / 2299 s): current success ratio = 0.169951442445\n",
      "3600 / 5000 (1654 / 2297 s): current success ratio = 0.170508192169\n",
      "3700 / 5000 (1699 / 2297 s): current success ratio = 0.171034855444\n",
      "3800 / 5000 (1746 / 2297 s): current success ratio = 0.17074454091\n",
      "3900 / 5000 (1792 / 2298 s): current success ratio = 0.170469110484\n",
      "4000 / 5000 (1838 / 2297 s): current success ratio = 0.170457385654\n",
      "4100 / 5000 (1883 / 2297 s): current success ratio = 0.170446232626\n",
      "4200 / 5000 (1926 / 2293 s): current success ratio = 0.172101880505\n",
      "4300 / 5000 (1973 / 2294 s): current success ratio = 0.171820506859\n",
      "4400 / 5000 (2017 / 2292 s): current success ratio = 0.172915246535\n",
      "4500 / 5000 (2062 / 2292 s): current success ratio = 0.173294823373\n",
      "4600 / 5000 (2109 / 2292 s): current success ratio = 0.173223212345\n",
      "4700 / 5000 (2152 / 2289 s): current success ratio = 0.174430972134\n",
      "4800 / 5000 (2202 / 2293 s): current success ratio = 0.172464069985\n",
      "4900 / 5000 (2247 / 2293 s): current success ratio = 0.172821873087\n",
      "================================================================================\n",
      "trainset: \t0.0 ms/1 = 0.134 ms (0.134/0.134)\n",
      "testset: \t3.0 ms/1 = 3.053 ms (3.053/3.053)\n",
      "\n",
      "================================================================================\n",
      "trainning accuracy = 100.0 %\n",
      "test accuracy = 85.96 %\n",
      "================================================================================\n",
      "trainning success accuracy = 100.0 %\n",
      "trainning failure accuracy = 100.0 %\n",
      "================================================================================\n",
      "test success accuracy = 74.02 %\n",
      "test failure accuracy = 88.47 %\n",
      "================================================================================\n"
     ]
    },
    {
     "data": {
      "text/plain": [
       "[<matplotlib.lines.Line2D at 0x7fb457a29710>]"
      ]
     },
     "execution_count": 6,
     "metadata": {},
     "output_type": "execute_result"
    },
    {
     "data": {
      "image/png": "[encoded data removed]",
      "text/plain": [
       "<Figure size 432x288 with 1 Axes>"
      ]
     },
     "metadata": {
      "needs_background": "light"
     },
     "output_type": "display_data"
    }
   ],
   "source": [
    "rtrain.collect_and_learn(RobotType.panda, \"panda0_hand\", \n",
    "                         TRAIN_COUNT=20000, TEST_COUNT=5000, save_data=True, save_model=True, timeout=1)\n",
    "import matplotlib.pyplot as plt\n",
    "plt.plot(rtrain.time_plan, '.')"
   ]
  },
  {
   "cell_type": "code",
   "execution_count": null,
   "metadata": {},
   "outputs": [],
   "source": []
  },
  {
   "cell_type": "markdown",
   "metadata": {},
   "source": [
    "## load and train"
   ]
  },
  {
   "cell_type": "code",
   "execution_count": 5,
   "metadata": {
    "scrolled": true
   },
   "outputs": [
    {
     "name": "stderr",
     "output_type": "stream",
     "text": [
      "/home/rnb/.local/lib/python2.7/site-packages/sklearn/svm/base.py:196: FutureWarning: The default value of gamma will change from 'auto' to 'scale' in version 0.22 to account better for unscaled features. Set gamma explicitly to 'auto' or 'scale' to avoid this warning.\n",
      "  \"avoid this warning.\", FutureWarning)\n"
     ]
    },
    {
     "name": "stdout",
     "output_type": "stream",
     "text": [
      "================================================================================\n",
      "trainset: \t333.0 ms/1 = 332.803 ms (332.803/332.803)\n",
      "testset: \t85.0 ms/1 = 84.98 ms (84.98/84.98)\n",
      "\n",
      "================================================================================\n",
      "trainning accuracy = 99.44 %\n",
      "test accuracy = 98.44 %\n",
      "================================================================================\n",
      "trainning success accuracy = 99.38 %\n",
      "trainning failure accuracy = 99.46 %\n",
      "================================================================================\n",
      "test success accuracy = 98.02 %\n",
      "test failure accuracy = 98.59 %\n",
      "================================================================================\n",
      "================================================================================\n",
      "trainset: \t437.0 ms/1 = 436.884 ms (436.884/436.884)\n",
      "testset: \t102.0 ms/1 = 102.171 ms (102.171/102.171)\n",
      "\n",
      "================================================================================\n",
      "trainning accuracy = 98.9 %\n",
      "test accuracy = 98.16 %\n",
      "================================================================================\n",
      "trainning success accuracy = 97.94 %\n",
      "trainning failure accuracy = 99.11 %\n",
      "================================================================================\n",
      "test success accuracy = 95.29 %\n",
      "test failure accuracy = 98.77 %\n",
      "================================================================================\n"
     ]
    }
   ],
   "source": [
    "rtrain.load_and_learn(RobotType.indy7)\n",
    "rtrain.load_and_learn(RobotType.panda)"
   ]
  },
  {
   "cell_type": "code",
   "execution_count": null,
   "metadata": {},
   "outputs": [],
   "source": []
  },
  {
   "cell_type": "markdown",
   "metadata": {},
   "source": [
    "## load and test"
   ]
  },
  {
   "cell_type": "code",
   "execution_count": 5,
   "metadata": {
    "scrolled": true
   },
   "outputs": [
    {
     "name": "stdout",
     "output_type": "stream",
     "text": [
      "================================================================================\n",
      "trainset: \t340.0 ms/1 = 340.071 ms (340.071/340.071)\n",
      "testset: \t84.0 ms/1 = 83.748 ms (83.748/83.748)\n",
      "\n",
      "================================================================================\n",
      "trainning accuracy = 99.44 %\n",
      "test accuracy = 98.44 %\n",
      "================================================================================\n",
      "trainning success accuracy = 99.38 %\n",
      "trainning failure accuracy = 99.46 %\n",
      "================================================================================\n",
      "test success accuracy = 98.02 %\n",
      "test failure accuracy = 98.59 %\n",
      "================================================================================\n",
      "================================================================================\n",
      "trainset: \t410.0 ms/1 = 409.869 ms (409.869/409.869)\n",
      "testset: \t105.0 ms/1 = 104.966 ms (104.966/104.966)\n",
      "\n",
      "================================================================================\n",
      "trainning accuracy = 98.9 %\n",
      "test accuracy = 98.16 %\n",
      "================================================================================\n",
      "trainning success accuracy = 97.94 %\n",
      "trainning failure accuracy = 99.11 %\n",
      "================================================================================\n",
      "test success accuracy = 95.29 %\n",
      "test failure accuracy = 98.77 %\n",
      "================================================================================\n"
     ]
    }
   ],
   "source": [
    "rtrain.load_and_test(RobotType.indy7)\n",
    "rtrain.load_and_test(RobotType.panda)"
   ]
  },
  {
   "cell_type": "code",
   "execution_count": null,
   "metadata": {},
   "outputs": [],
   "source": []
  },
  {
   "cell_type": "code",
   "execution_count": null,
   "metadata": {},
   "outputs": [],
   "source": []
  },
  {
   "cell_type": "code",
   "execution_count": null,
   "metadata": {},
   "outputs": [],
   "source": []
  }
 ],
 "metadata": {
  "kernelspec": {
   "display_name": "Python 2",
   "language": "python",
   "name": "python2"
  },
  "language_info": {
   "codemirror_mode": {
    "name": "ipython",
    "version": 2
   },
   "file_extension": ".py",
   "mimetype": "text/x-python",
   "name": "python",
   "nbconvert_exporter": "python",
   "pygments_lexer": "ipython2",
   "version": "2.7.17"
  }
 },
 "nbformat": 4,
 "nbformat_minor": 2
}
