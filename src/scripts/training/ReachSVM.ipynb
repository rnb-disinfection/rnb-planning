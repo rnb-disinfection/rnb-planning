{
 "cells": [
  {
   "cell_type": "code",
   "execution_count": 1,
   "metadata": {},
   "outputs": [],
   "source": [
    "from __future__ import print_function\n",
    "import os\n",
    "os.chdir(os.path.dirname(os.getcwd()))"
   ]
  },
  {
   "cell_type": "code",
   "execution_count": null,
   "metadata": {},
   "outputs": [],
   "source": []
  },
  {
   "cell_type": "markdown",
   "metadata": {},
   "source": [
    "## init stereo aruco detector scene builder"
   ]
  },
  {
   "cell_type": "code",
   "execution_count": 2,
   "metadata": {
    "scrolled": true
   },
   "outputs": [],
   "source": [
    "from pkg.marker_config import *\n",
    "from pkg.detector.aruco.stereo import ArucoStereo\n",
    "from pkg.detector.camera.realsense import RealSense\n",
    "from pkg.detector.camera.kinect import Kinect\n",
    "from pkg.geometry.builder.scene_builder import SceneBuilder\n",
    "\n",
    "s_builder = SceneBuilder(None, base_link=\"base_link\")\n",
    "# s_builder.reset_reference_coord(ref_name=\"floor\")"
   ]
  },
  {
   "cell_type": "code",
   "execution_count": null,
   "metadata": {},
   "outputs": [],
   "source": []
  },
  {
   "cell_type": "code",
   "execution_count": 3,
   "metadata": {},
   "outputs": [],
   "source": [
    "from pkg.planning.filtering.reach_filter import ReachTrainer\n",
    "from pkg.controller.combined_robot import *"
   ]
  },
  {
   "cell_type": "code",
   "execution_count": 4,
   "metadata": {},
   "outputs": [],
   "source": [
    "rtrain = ReachTrainer(scene_builder=s_builder)"
   ]
  },
  {
   "cell_type": "code",
   "execution_count": null,
   "metadata": {},
   "outputs": [],
   "source": []
  },
  {
   "cell_type": "markdown",
   "metadata": {},
   "source": [
    "## load and train"
   ]
  },
  {
   "cell_type": "code",
   "execution_count": 6,
   "metadata": {},
   "outputs": [
    {
     "name": "stdout",
     "output_type": "stream",
     "text": [
      "================================================================================\n",
      "trainset: \t1020.0 ms/1 = 1019.586 ms (1019.586/1019.586)\n",
      "testset: \t512.0 ms/1 = 511.631 ms (511.631/511.631)\n",
      "\n",
      "================================================================================\n",
      "trainning accuracy = 96.98 %\n",
      "test accuracy = 96.53 %\n",
      "================================================================================\n",
      "trainning success accuracy = 94.55 %\n",
      "trainning failure accuracy = 97.72 %\n",
      "================================================================================\n",
      "test success accuracy = 93.4 %\n",
      "test failure accuracy = 97.48 %\n",
      "================================================================================\n"
     ]
    }
   ],
   "source": [
    "rtrain.load_and_learn(RobotType.panda)"
   ]
  },
  {
   "cell_type": "code",
   "execution_count": null,
   "metadata": {},
   "outputs": [],
   "source": []
  },
  {
   "cell_type": "markdown",
   "metadata": {},
   "source": [
    "## collect and train"
   ]
  },
  {
   "cell_type": "code",
   "execution_count": null,
   "metadata": {},
   "outputs": [],
   "source": [
    "rtrain.collect_and_learn(RobotType.indy7, \"indy0_tcp\", TRAIN_COUNT=200, TEST_COUNT=100, save_data=False, save_model=False)"
   ]
  },
  {
   "cell_type": "code",
   "execution_count": 5,
   "metadata": {},
   "outputs": [
    {
     "name": "stdout",
     "output_type": "stream",
     "text": [
      "connection_list\n",
      "[False]\n",
      "added robot collision boundaries\n",
      "0 / 20000 (0 / 2636961 s): current success ratio = 0.0\n",
      "100 / 20000 (11 / 2223 s): current success ratio = 0.336633663366\n",
      "200 / 20000 (22 / 2296 s): current success ratio = 0.268656716418\n",
      "300 / 20000 (34 / 2302 s): current success ratio = 0.269102990033\n",
      "400 / 20000 (46 / 2313 s): current success ratio = 0.25187032419\n",
      "500 / 20000 (58 / 2325 s): current success ratio = 0.243512974052\n",
      "600 / 20000 (69 / 2315 s): current success ratio = 0.249584026622\n",
      "700 / 20000 (80 / 2313 s): current success ratio = 0.252496433666\n",
      "800 / 20000 (92 / 2316 s): current success ratio = 0.253433208489\n",
      "900 / 20000 (104 / 2321 s): current success ratio = 0.247502774695\n",
      "1000 / 20000 (115 / 2309 s): current success ratio = 0.252747252747\n",
      "1100 / 20000 (127 / 2312 s): current success ratio = 0.24795640327\n",
      "1200 / 20000 (138 / 2313 s): current success ratio = 0.249791840133\n",
      "1300 / 20000 (150 / 2318 s): current success ratio = 0.245964642583\n",
      "1400 / 20000 (162 / 2328 s): current success ratio = 0.23982869379\n",
      "1500 / 20000 (175 / 2334 s): current success ratio = 0.235842771486\n",
      "1600 / 20000 (187 / 2342 s): current success ratio = 0.227357901312\n",
      "1700 / 20000 (198 / 2339 s): current success ratio = 0.228689006467\n",
      "1800 / 20000 (210 / 2340 s): current success ratio = 0.227651304831\n",
      "1900 / 20000 (222 / 2344 s): current success ratio = 0.225144660705\n",
      "2000 / 20000 (234 / 2342 s): current success ratio = 0.227386306847\n",
      "2100 / 20000 (246 / 2344 s): current success ratio = 0.226082817706\n",
      "2200 / 20000 (258 / 2348 s): current success ratio = 0.224443434802\n",
      "2300 / 20000 (269 / 2347 s): current success ratio = 0.225119513255\n",
      "2400 / 20000 (280 / 2337 s): current success ratio = 0.230737192836\n",
      "2500 / 20000 (291 / 2334 s): current success ratio = 0.231107556977\n",
      "2600 / 20000 (303 / 2335 s): current success ratio = 0.230296039985\n",
      "2700 / 20000 (314 / 2330 s): current success ratio = 0.233246945576\n",
      "2800 / 20000 (325 / 2327 s): current success ratio = 0.234916101392\n",
      "2900 / 20000 (338 / 2332 s): current success ratio = 0.2316442606\n",
      "3000 / 20000 (350 / 2333 s): current success ratio = 0.231589470177\n",
      "3100 / 20000 (361 / 2330 s): current success ratio = 0.233150596582\n",
      "3200 / 20000 (372 / 2326 s): current success ratio = 0.235238987816\n",
      "3300 / 20000 (383 / 2325 s): current success ratio = 0.236292032717\n",
      "3400 / 20000 (395 / 2324 s): current success ratio = 0.236401058512\n",
      "3500 / 20000 (407 / 2327 s): current success ratio = 0.234790059983\n",
      "3600 / 20000 (418 / 2325 s): current success ratio = 0.235490141627\n",
      "3700 / 20000 (430 / 2326 s): current success ratio = 0.235611996758\n",
      "3800 / 20000 (441 / 2325 s): current success ratio = 0.235464351486\n",
      "3900 / 20000 (453 / 2324 s): current success ratio = 0.235580620354\n",
      "4000 / 20000 (464 / 2324 s): current success ratio = 0.235941014746\n",
      "4100 / 20000 (476 / 2326 s): current success ratio = 0.23433308949\n",
      "4200 / 20000 (488 / 2326 s): current success ratio = 0.233515829564\n",
      "4300 / 20000 (499 / 2325 s): current success ratio = 0.234131597303\n",
      "4400 / 20000 (511 / 2324 s): current success ratio = 0.234946603045\n",
      "4500 / 20000 (523 / 2326 s): current success ratio = 0.233725838703\n",
      "4600 / 20000 (535 / 2327 s): current success ratio = 0.233210171702\n",
      "4700 / 20000 (546 / 2325 s): current success ratio = 0.233354605403\n",
      "4800 / 20000 (557 / 2324 s): current success ratio = 0.234117892106\n",
      "4900 / 20000 (569 / 2324 s): current success ratio = 0.233625790655\n",
      "5000 / 20000 (580 / 2322 s): current success ratio = 0.235152969406\n",
      "5100 / 20000 (592 / 2321 s): current success ratio = 0.235640070574\n",
      "5200 / 20000 (603 / 2322 s): current success ratio = 0.235531628533\n",
      "5300 / 20000 (615 / 2321 s): current success ratio = 0.236181852481\n",
      "5400 / 20000 (626 / 2322 s): current success ratio = 0.235326791335\n",
      "5500 / 20000 (638 / 2320 s): current success ratio = 0.236320668969\n",
      "5600 / 20000 (649 / 2321 s): current success ratio = 0.235672201393\n",
      "5700 / 20000 (662 / 2323 s): current success ratio = 0.234695667427\n",
      "5800 / 20000 (673 / 2322 s): current success ratio = 0.234442337528\n",
      "5900 / 20000 (685 / 2322 s): current success ratio = 0.234028130825\n",
      "6000 / 20000 (696 / 2321 s): current success ratio = 0.23496083986\n",
      "6100 / 20000 (708 / 2323 s): current success ratio = 0.234387805278\n",
      "6200 / 20000 (719 / 2321 s): current success ratio = 0.235284631511\n",
      "6300 / 20000 (731 / 2323 s): current success ratio = 0.233931122044\n",
      "6400 / 20000 (743 / 2323 s): current success ratio = 0.233713482268\n",
      "6500 / 20000 (754 / 2322 s): current success ratio = 0.234733117982\n",
      "6600 / 20000 (765 / 2320 s): current success ratio = 0.235721860324\n",
      "6700 / 20000 (777 / 2321 s): current success ratio = 0.235039546336\n",
      "6800 / 20000 (789 / 2322 s): current success ratio = 0.233936185855\n",
      "6900 / 20000 (801 / 2321 s): current success ratio = 0.23416896102\n",
      "7000 / 20000 (812 / 2322 s): current success ratio = 0.234109412941\n",
      "7100 / 20000 (824 / 2322 s): current success ratio = 0.2339107168\n",
      "7200 / 20000 (835 / 2321 s): current success ratio = 0.233717539231\n",
      "7300 / 20000 (847 / 2321 s): current success ratio = 0.23380358855\n",
      "7400 / 20000 (859 / 2322 s): current success ratio = 0.233076611269\n",
      "7500 / 20000 (871 / 2323 s): current success ratio = 0.232235701906\n",
      "7600 / 20000 (883 / 2323 s): current success ratio = 0.232337850283\n",
      "7700 / 20000 (894 / 2323 s): current success ratio = 0.232437345799\n",
      "7800 / 20000 (906 / 2324 s): current success ratio = 0.232021535701\n",
      "7900 / 20000 (918 / 2325 s): current success ratio = 0.23148968485\n",
      "8000 / 20000 (930 / 2325 s): current success ratio = 0.230971128609\n",
      "8100 / 20000 (941 / 2324 s): current success ratio = 0.23194667325\n",
      "8200 / 20000 (952 / 2323 s): current success ratio = 0.232410681624\n",
      "8300 / 20000 (964 / 2324 s): current success ratio = 0.231538368871\n",
      "8400 / 20000 (976 / 2324 s): current success ratio = 0.231520057136\n",
      "8500 / 20000 (988 / 2324 s): current success ratio = 0.231031643336\n",
      "8600 / 20000 (1000 / 2325 s): current success ratio = 0.230205790024\n",
      "8700 / 20000 (1011 / 2326 s): current success ratio = 0.229628778301\n",
      "8800 / 20000 (1023 / 2327 s): current success ratio = 0.229064878991\n",
      "8900 / 20000 (1035 / 2326 s): current success ratio = 0.229187731716\n",
      "9000 / 20000 (1047 / 2327 s): current success ratio = 0.229196755916\n",
      "9100 / 20000 (1058 / 2326 s): current success ratio = 0.229645093946\n",
      "9200 / 20000 (1069 / 2326 s): current success ratio = 0.22975763504\n",
      "9300 / 20000 (1081 / 2325 s): current success ratio = 0.230297817439\n",
      "9400 / 20000 (1093 / 2326 s): current success ratio = 0.229869162855\n",
      "9500 / 20000 (1104 / 2325 s): current success ratio = 0.230396800337\n",
      "9600 / 20000 (1115 / 2324 s): current success ratio = 0.230913446516\n",
      "9700 / 20000 (1127 / 2324 s): current success ratio = 0.231007112669\n",
      "9800 / 20000 (1138 / 2323 s): current success ratio = 0.231609019488\n",
      "9900 / 20000 (1150 / 2323 s): current success ratio = 0.231491768508\n",
      "10000 / 20000 (1162 / 2324 s): current success ratio = 0.231076892311\n",
      "10100 / 20000 (1173 / 2324 s): current success ratio = 0.23067023067\n",
      "10200 / 20000 (1185 / 2324 s): current success ratio = 0.230663660425\n",
      "10300 / 20000 (1196 / 2324 s): current success ratio = 0.230657217746\n",
      "10400 / 20000 (1208 / 2324 s): current success ratio = 0.230266320546\n",
      "10500 / 20000 (1221 / 2325 s): current success ratio = 0.229597181221\n",
      "10600 / 20000 (1232 / 2325 s): current success ratio = 0.229695311763\n",
      "10700 / 20000 (1244 / 2325 s): current success ratio = 0.229324362209\n",
      "10800 / 20000 (1256 / 2326 s): current success ratio = 0.228960281455\n",
      "10900 / 20000 (1268 / 2326 s): current success ratio = 0.228786349876\n",
      "11000 / 20000 (1279 / 2326 s): current success ratio = 0.228979183711\n",
      "11100 / 20000 (1290 / 2325 s): current success ratio = 0.229348707324\n",
      "11200 / 20000 (1302 / 2325 s): current success ratio = 0.229622355147\n",
      "11300 / 20000 (1313 / 2324 s): current success ratio = 0.229891160074\n",
      "11400 / 20000 (1325 / 2325 s): current success ratio = 0.229453556706\n",
      "11500 / 20000 (1336 / 2324 s): current success ratio = 0.229806103817\n",
      "11600 / 20000 (1348 / 2325 s): current success ratio = 0.229204378933\n",
      "11700 / 20000 (1360 / 2325 s): current success ratio = 0.229211178532\n",
      "11800 / 20000 (1372 / 2325 s): current success ratio = 0.229133124311\n",
      "11900 / 20000 (1383 / 2325 s): current success ratio = 0.229140408369\n"
     ]
    },
    {
     "name": "stdout",
     "output_type": "stream",
     "text": [
      "12000 / 20000 (1395 / 2326 s): current success ratio = 0.228564286309\n",
      "12100 / 20000 (1407 / 2325 s): current success ratio = 0.228906701925\n",
      "12200 / 20000 (1418 / 2325 s): current success ratio = 0.229325465126\n",
      "12300 / 20000 (1429 / 2325 s): current success ratio = 0.229330948703\n",
      "12400 / 20000 (1441 / 2324 s): current success ratio = 0.22949762116\n",
      "12500 / 20000 (1453 / 2325 s): current success ratio = 0.229581633469\n",
      "12600 / 20000 (1465 / 2325 s): current success ratio = 0.229346877232\n",
      "12700 / 20000 (1476 / 2325 s): current success ratio = 0.229352019526\n",
      "12800 / 20000 (1488 / 2326 s): current success ratio = 0.228966486993\n",
      "12900 / 20000 (1500 / 2326 s): current success ratio = 0.228741957988\n",
      "13000 / 20000 (1511 / 2325 s): current success ratio = 0.229136220291\n",
      "13100 / 20000 (1522 / 2324 s): current success ratio = 0.229677123884\n",
      "13200 / 20000 (1534 / 2324 s): current success ratio = 0.229982577077\n",
      "13300 / 20000 (1545 / 2324 s): current success ratio = 0.230283437336\n",
      "13400 / 20000 (1557 / 2324 s): current success ratio = 0.230132079696\n",
      "13500 / 20000 (1569 / 2324 s): current success ratio = 0.229982964225\n",
      "13600 / 20000 (1580 / 2324 s): current success ratio = 0.229983089479\n",
      "13700 / 20000 (1592 / 2324 s): current success ratio = 0.229910225531\n",
      "13800 / 20000 (1603 / 2324 s): current success ratio = 0.230128251576\n",
      "13900 / 20000 (1615 / 2324 s): current success ratio = 0.230271203511\n",
      "14000 / 20000 (1627 / 2324 s): current success ratio = 0.230340689951\n",
      "14100 / 20000 (1638 / 2324 s): current success ratio = 0.230196439969\n",
      "14200 / 20000 (1650 / 2325 s): current success ratio = 0.229983803957\n",
      "14300 / 20000 (1662 / 2325 s): current success ratio = 0.229634291308\n",
      "14400 / 20000 (1674 / 2325 s): current success ratio = 0.229636830776\n",
      "14500 / 20000 (1685 / 2324 s): current success ratio = 0.23025998207\n",
      "14600 / 20000 (1696 / 2324 s): current success ratio = 0.230600643792\n",
      "14700 / 20000 (1707 / 2323 s): current success ratio = 0.230732603224\n",
      "14800 / 20000 (1719 / 2324 s): current success ratio = 0.230389838524\n",
      "14900 / 20000 (1731 / 2324 s): current success ratio = 0.230320112744\n",
      "15000 / 20000 (1743 / 2324 s): current success ratio = 0.230251316579\n",
      "15100 / 20000 (1754 / 2324 s): current success ratio = 0.230448314681\n",
      "15200 / 20000 (1766 / 2324 s): current success ratio = 0.230116439708\n",
      "15300 / 20000 (1778 / 2324 s): current success ratio = 0.230115678714\n",
      "15400 / 20000 (1789 / 2324 s): current success ratio = 0.230309720148\n",
      "15500 / 20000 (1801 / 2324 s): current success ratio = 0.230049674215\n",
      "15600 / 20000 (1813 / 2324 s): current success ratio = 0.229985257355\n",
      "15700 / 20000 (1824 / 2324 s): current success ratio = 0.229794280619\n",
      "15800 / 20000 (1836 / 2324 s): current success ratio = 0.229605721157\n",
      "15900 / 20000 (1848 / 2324 s): current success ratio = 0.229608200742\n",
      "16000 / 20000 (1859 / 2324 s): current success ratio = 0.229485657146\n",
      "16100 / 20000 (1871 / 2325 s): current success ratio = 0.229302527793\n",
      "16200 / 20000 (1883 / 2325 s): current success ratio = 0.228936485402\n",
      "16300 / 20000 (1895 / 2325 s): current success ratio = 0.229065701491\n",
      "16400 / 20000 (1906 / 2325 s): current success ratio = 0.229132369977\n",
      "16500 / 20000 (1918 / 2325 s): current success ratio = 0.229137628023\n",
      "16600 / 20000 (1929 / 2324 s): current success ratio = 0.229986145413\n",
      "16700 / 20000 (1940 / 2324 s): current success ratio = 0.230046105024\n",
      "16800 / 20000 (1952 / 2323 s): current success ratio = 0.230402952205\n",
      "16900 / 20000 (1963 / 2324 s): current success ratio = 0.230045559434\n",
      "17000 / 20000 (1975 / 2323 s): current success ratio = 0.230280571731\n",
      "17100 / 20000 (1986 / 2323 s): current success ratio = 0.230454359394\n",
      "17200 / 20000 (1997 / 2323 s): current success ratio = 0.230800534853\n",
      "17300 / 20000 (2009 / 2323 s): current success ratio = 0.230506907115\n",
      "17400 / 20000 (2021 / 2323 s): current success ratio = 0.230331590138\n",
      "17500 / 20000 (2032 / 2323 s): current success ratio = 0.230501114222\n",
      "17600 / 20000 (2044 / 2323 s): current success ratio = 0.230271007329\n",
      "17700 / 20000 (2056 / 2323 s): current success ratio = 0.230156488334\n",
      "17800 / 20000 (2067 / 2323 s): current success ratio = 0.230155609235\n",
      "17900 / 20000 (2079 / 2323 s): current success ratio = 0.230266465561\n",
      "18000 / 20000 (2091 / 2323 s): current success ratio = 0.230320537748\n",
      "18100 / 20000 (2102 / 2322 s): current success ratio = 0.230815977018\n",
      "18200 / 20000 (2114 / 2323 s): current success ratio = 0.230646667766\n",
      "18300 / 20000 (2125 / 2322 s): current success ratio = 0.230970985192\n",
      "18400 / 20000 (2136 / 2322 s): current success ratio = 0.230965708385\n",
      "18500 / 20000 (2148 / 2322 s): current success ratio = 0.231014539755\n",
      "18600 / 20000 (2159 / 2322 s): current success ratio = 0.231170367185\n",
      "18700 / 20000 (2171 / 2322 s): current success ratio = 0.231003689642\n",
      "18800 / 20000 (2183 / 2322 s): current success ratio = 0.230945162491\n",
      "18900 / 20000 (2194 / 2322 s): current success ratio = 0.231098883657\n",
      "19000 / 20000 (2206 / 2323 s): current success ratio = 0.230829956318\n",
      "19100 / 20000 (2218 / 2323 s): current success ratio = 0.230668551385\n",
      "19200 / 20000 (2230 / 2322 s): current success ratio = 0.231029633873\n",
      "19300 / 20000 (2242 / 2323 s): current success ratio = 0.23066162375\n",
      "19400 / 20000 (2253 / 2323 s): current success ratio = 0.230915932168\n",
      "19500 / 20000 (2265 / 2323 s): current success ratio = 0.230654838213\n",
      "19600 / 20000 (2276 / 2323 s): current success ratio = 0.230804550788\n",
      "19700 / 20000 (2288 / 2323 s): current success ratio = 0.23100350236\n",
      "19800 / 20000 (2300 / 2323 s): current success ratio = 0.230897429423\n",
      "19900 / 20000 (2311 / 2323 s): current success ratio = 0.230993417416\n",
      "connection_list\n",
      "[False]\n",
      "added robot collision boundaries\n",
      "0 / 10000 (0 / 1320860 s): current success ratio = 0.0\n",
      "100 / 10000 (12 / 1211 s): current success ratio = 0.217821782178\n",
      "200 / 10000 (23 / 1195 s): current success ratio = 0.213930348259\n",
      "300 / 10000 (35 / 1173 s): current success ratio = 0.225913621262\n",
      "400 / 10000 (46 / 1166 s): current success ratio = 0.229426433915\n",
      "500 / 10000 (58 / 1164 s): current success ratio = 0.22754491018\n",
      "600 / 10000 (69 / 1164 s): current success ratio = 0.229617304493\n",
      "700 / 10000 (81 / 1160 s): current success ratio = 0.236804564907\n",
      "800 / 10000 (93 / 1163 s): current success ratio = 0.230961298377\n",
      "900 / 10000 (104 / 1160 s): current success ratio = 0.23307436182\n",
      "1000 / 10000 (115 / 1156 s): current success ratio = 0.236763236763\n",
      "1100 / 10000 (126 / 1152 s): current success ratio = 0.242506811989\n",
      "1200 / 10000 (138 / 1157 s): current success ratio = 0.237302248127\n",
      "1300 / 10000 (151 / 1161 s): current success ratio = 0.229054573405\n",
      "1400 / 10000 (163 / 1165 s): current success ratio = 0.224839400428\n",
      "1500 / 10000 (174 / 1163 s): current success ratio = 0.227848101266\n",
      "1600 / 10000 (186 / 1163 s): current success ratio = 0.227982510931\n",
      "1700 / 10000 (197 / 1162 s): current success ratio = 0.226925338036\n",
      "1800 / 10000 (209 / 1161 s): current success ratio = 0.228206551916\n",
      "1900 / 10000 (220 / 1160 s): current success ratio = 0.228826933193\n",
      "2000 / 10000 (232 / 1161 s): current success ratio = 0.227386306847\n",
      "2100 / 10000 (243 / 1159 s): current success ratio = 0.230366492147\n",
      "2200 / 10000 (254 / 1157 s): current success ratio = 0.232621535666\n",
      "2300 / 10000 (265 / 1156 s): current success ratio = 0.232073011734\n",
      "2400 / 10000 (277 / 1155 s): current success ratio = 0.233236151603\n",
      "2500 / 10000 (289 / 1156 s): current success ratio = 0.231507397041\n",
      "2600 / 10000 (300 / 1156 s): current success ratio = 0.233371780085\n",
      "2700 / 10000 (312 / 1156 s): current success ratio = 0.23398741207\n",
      "2800 / 10000 (323 / 1155 s): current success ratio = 0.234202070689\n",
      "2900 / 10000 (335 / 1156 s): current success ratio = 0.233367804205\n",
      "3000 / 10000 (347 / 1158 s): current success ratio = 0.232589136954\n",
      "3100 / 10000 (359 / 1159 s): current success ratio = 0.231215736859\n",
      "3200 / 10000 (371 / 1160 s): current success ratio = 0.22961574508\n",
      "3300 / 10000 (383 / 1162 s): current success ratio = 0.228112693123\n",
      "3400 / 10000 (394 / 1161 s): current success ratio = 0.228462216995\n",
      "3500 / 10000 (407 / 1163 s): current success ratio = 0.226792345044\n",
      "3600 / 10000 (418 / 1163 s): current success ratio = 0.22632602055\n",
      "3700 / 10000 (430 / 1162 s): current success ratio = 0.227506079438\n"
     ]
    },
    {
     "name": "stdout",
     "output_type": "stream",
     "text": [
      "3800 / 10000 (441 / 1162 s): current success ratio = 0.229413312286\n",
      "3900 / 10000 (453 / 1162 s): current success ratio = 0.228146629069\n",
      "4000 / 10000 (465 / 1162 s): current success ratio = 0.227443139215\n",
      "4100 / 10000 (476 / 1162 s): current success ratio = 0.228237015362\n",
      "4200 / 10000 (488 / 1162 s): current success ratio = 0.228993096882\n",
      "4300 / 10000 (499 / 1161 s): current success ratio = 0.229249011858\n",
      "4400 / 10000 (511 / 1162 s): current success ratio = 0.228584412633\n",
      "4500 / 10000 (522 / 1161 s): current success ratio = 0.229060208842\n",
      "4600 / 10000 (534 / 1161 s): current success ratio = 0.228211258422\n",
      "4700 / 10000 (545 / 1161 s): current success ratio = 0.229525632844\n",
      "4800 / 10000 (557 / 1162 s): current success ratio = 0.227869193918\n",
      "4900 / 10000 (568 / 1161 s): current success ratio = 0.228728830851\n",
      "5000 / 10000 (580 / 1161 s): current success ratio = 0.227954409118\n",
      "5100 / 10000 (592 / 1161 s): current success ratio = 0.228582630857\n",
      "5200 / 10000 (604 / 1161 s): current success ratio = 0.227648529129\n",
      "5300 / 10000 (616 / 1162 s): current success ratio = 0.226372382569\n",
      "5400 / 10000 (627 / 1162 s): current success ratio = 0.226995000926\n",
      "5500 / 10000 (639 / 1162 s): current success ratio = 0.22704962734\n",
      "5600 / 10000 (650 / 1161 s): current success ratio = 0.2276379218\n",
      "5700 / 10000 (661 / 1160 s): current success ratio = 0.229082617085\n",
      "5800 / 10000 (673 / 1160 s): current success ratio = 0.229787967592\n",
      "5900 / 10000 (684 / 1160 s): current success ratio = 0.230299949161\n",
      "6000 / 10000 (695 / 1159 s): current success ratio = 0.230961506416\n",
      "6100 / 10000 (707 / 1159 s): current success ratio = 0.231273561711\n",
      "6200 / 10000 (719 / 1160 s): current success ratio = 0.23157555233\n",
      "6300 / 10000 (730 / 1159 s): current success ratio = 0.232185367402\n",
      "6400 / 10000 (742 / 1159 s): current success ratio = 0.232151226371\n",
      "6500 / 10000 (753 / 1159 s): current success ratio = 0.232579603138\n",
      "6600 / 10000 (765 / 1159 s): current success ratio = 0.232692016361\n",
      "6700 / 10000 (776 / 1158 s): current success ratio = 0.233696463214\n",
      "6800 / 10000 (787 / 1158 s): current success ratio = 0.233936185855\n",
      "6900 / 10000 (798 / 1157 s): current success ratio = 0.234313867555\n",
      "7000 / 10000 (810 / 1158 s): current success ratio = 0.234395086416\n",
      "7100 / 10000 (822 / 1158 s): current success ratio = 0.23461484298\n",
      "7200 / 10000 (833 / 1157 s): current success ratio = 0.235106235245\n",
      "7300 / 10000 (844 / 1157 s): current success ratio = 0.235721134091\n",
      "7400 / 10000 (856 / 1157 s): current success ratio = 0.235508715039\n",
      "7500 / 10000 (868 / 1157 s): current success ratio = 0.235035328623\n",
      "7600 / 10000 (880 / 1157 s): current success ratio = 0.234705959742\n",
      "7700 / 10000 (892 / 1158 s): current success ratio = 0.233995584989\n",
      "7800 / 10000 (904 / 1159 s): current success ratio = 0.233047045251\n",
      "7900 / 10000 (915 / 1159 s): current success ratio = 0.233008479939\n",
      "8000 / 10000 (926 / 1158 s): current success ratio = 0.23422072241\n",
      "8100 / 10000 (938 / 1158 s): current success ratio = 0.234292062708\n",
      "8200 / 10000 (949 / 1158 s): current success ratio = 0.234483599561\n",
      "8300 / 10000 (961 / 1158 s): current success ratio = 0.234670521624\n",
      "8400 / 10000 (972 / 1158 s): current success ratio = 0.234733960243\n",
      "8500 / 10000 (984 / 1158 s): current success ratio = 0.234795906364\n",
      "8600 / 10000 (996 / 1158 s): current success ratio = 0.234507615394\n",
      "8700 / 10000 (1008 / 1158 s): current success ratio = 0.234111021722\n",
      "8800 / 10000 (1019 / 1158 s): current success ratio = 0.234291557778\n",
      "8900 / 10000 (1031 / 1159 s): current success ratio = 0.233793955735\n",
      "9000 / 10000 (1042 / 1158 s): current success ratio = 0.234640595489\n",
      "9100 / 10000 (1054 / 1158 s): current success ratio = 0.234589605538\n",
      "9200 / 10000 (1066 / 1159 s): current success ratio = 0.233344201717\n",
      "9300 / 10000 (1078 / 1160 s): current success ratio = 0.232448123858\n",
      "9400 / 10000 (1090 / 1159 s): current success ratio = 0.232847569408\n",
      "9500 / 10000 (1101 / 1159 s): current success ratio = 0.232712346069\n",
      "9600 / 10000 (1113 / 1159 s): current success ratio = 0.232371627955\n",
      "9700 / 10000 (1124 / 1159 s): current success ratio = 0.232656427172\n",
      "9800 / 10000 (1136 / 1159 s): current success ratio = 0.232527293133\n",
      "9900 / 10000 (1147 / 1159 s): current success ratio = 0.23330976669\n"
     ]
    },
    {
     "name": "stderr",
     "output_type": "stream",
     "text": [
      "/home/rnb/.local/lib/python2.7/site-packages/sklearn/svm/base.py:196: FutureWarning: The default value of gamma will change from 'auto' to 'scale' in version 0.22 to account better for unscaled features. Set gamma explicitly to 'auto' or 'scale' to avoid this warning.\n",
      "  \"avoid this warning.\", FutureWarning)\n"
     ]
    },
    {
     "name": "stdout",
     "output_type": "stream",
     "text": [
      "================================================================================\n",
      "trainset: \t1023.0 ms/1 = 1023.305 ms (1023.305/1023.305)\n",
      "testset: \t510.0 ms/1 = 510.217 ms (510.217/510.217)\n",
      "\n",
      "================================================================================\n",
      "trainning accuracy = 96.98 %\n",
      "test accuracy = 96.53 %\n",
      "================================================================================\n",
      "trainning success accuracy = 94.55 %\n",
      "trainning failure accuracy = 97.72 %\n",
      "================================================================================\n",
      "test success accuracy = 93.4 %\n",
      "test failure accuracy = 97.48 %\n",
      "================================================================================\n"
     ]
    }
   ],
   "source": [
    "rtrain.collect_and_learn(RobotType.panda, \"panda0_hand\", TRAIN_COUNT=200, TEST_COUNT=100, save_data=False, save_model=False)"
   ]
  },
  {
   "cell_type": "code",
   "execution_count": null,
   "metadata": {},
   "outputs": [],
   "source": []
  },
  {
   "cell_type": "markdown",
   "metadata": {},
   "source": [
    "## load and test"
   ]
  },
  {
   "cell_type": "code",
   "execution_count": 16,
   "metadata": {},
   "outputs": [
    {
     "name": "stdout",
     "output_type": "stream",
     "text": [
      "================================================================================\n",
      "trainset: \t268.0 ms/1 = 268.499 ms (268.499/268.499)\n",
      "testset: \t268.0 ms/1 = 267.801 ms (267.801/267.801)\n",
      "\n",
      "================================================================================\n",
      "trainning accuracy = 97.99 %\n",
      "test accuracy = 97.01 %\n",
      "================================================================================\n",
      "trainning success accuracy = 97.15 %\n",
      "trainning failure accuracy = 98.35 %\n",
      "================================================================================\n",
      "test success accuracy = 95.71 %\n",
      "test failure accuracy = 97.58 %\n",
      "================================================================================\n"
     ]
    }
   ],
   "source": [
    "rtrain.load_and_test(RobotType.indy7)"
   ]
  },
  {
   "cell_type": "code",
   "execution_count": null,
   "metadata": {},
   "outputs": [],
   "source": []
  },
  {
   "cell_type": "markdown",
   "metadata": {},
   "source": [
    "## Disconnect stereo"
   ]
  },
  {
   "cell_type": "code",
   "execution_count": null,
   "metadata": {},
   "outputs": [],
   "source": [
    "stereo.disconnnect()"
   ]
  },
  {
   "cell_type": "code",
   "execution_count": null,
   "metadata": {},
   "outputs": [],
   "source": []
  },
  {
   "cell_type": "code",
   "execution_count": null,
   "metadata": {},
   "outputs": [],
   "source": []
  }
 ],
 "metadata": {
  "kernelspec": {
   "display_name": "Python 2",
   "language": "python",
   "name": "python2"
  },
  "language_info": {
   "codemirror_mode": {
    "name": "ipython",
    "version": 2
   },
   "file_extension": ".py",
   "mimetype": "text/x-python",
   "name": "python",
   "nbconvert_exporter": "python",
   "pygments_lexer": "ipython2",
   "version": "2.7.17"
  }
 },
 "nbformat": 4,
 "nbformat_minor": 2
}
