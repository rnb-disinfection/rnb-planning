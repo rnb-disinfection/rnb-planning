{
 "cells": [
  {
   "cell_type": "code",
   "execution_count": 1,
   "metadata": {},
   "outputs": [],
   "source": [
    "from __future__ import print_function\n",
    "import os\n",
    "os.chdir(os.path.join(os.environ[\"RNB_PLANNING_DIR\"], 'src'))"
   ]
  },
  {
   "cell_type": "code",
   "execution_count": 2,
   "metadata": {
    "scrolled": true
   },
   "outputs": [
    {
     "data": {
      "text/plain": [
       "['20210223-081105',\n",
       " '20210223-183000',\n",
       " '20210224-001848',\n",
       " '20210224-044457',\n",
       " '20210224-071243',\n",
       " '20210224-071422',\n",
       " '20210224-082226',\n",
       " '20210224-104110',\n",
       " '20210224-135109',\n",
       " '20210224-155057',\n",
       " '20210224-174243',\n",
       " '20210224-200138',\n",
       " '20210224-215520',\n",
       " '20210225-035030',\n",
       " '20210225-050109',\n",
       " '20210225-070527']"
      ]
     },
     "execution_count": 2,
     "metadata": {},
     "output_type": "execute_result"
    }
   ],
   "source": [
    "from pkg.controller.combined_robot import *\n",
    "from pkg.utils.utils import get_now, try_mkdir\n",
    "\n",
    "DATA_PATH = os.path.join(os.environ['RNB_PLANNING_DIR'], \"data\")\n",
    "TEST_DATA_PATH = os.path.join(DATA_PATH, \"filters\")\n",
    "\n",
    "ROBOT_TYPE = RobotType.indy7\n",
    "ROBOT_DATA_ROOT = os.path.join(TEST_DATA_PATH, ROBOT_TYPE.name) # +\"_bak\")\n",
    "sorted(os.listdir(ROBOT_DATA_ROOT))"
   ]
  },
  {
   "cell_type": "code",
   "execution_count": 3,
   "metadata": {},
   "outputs": [
    {
     "name": "stdout",
     "output_type": "stream",
     "text": [
      "results_dict_3_plane\n",
      "0: 159.2 \t 2.8 \t 41.8 \t 31.5 \t 8.0 \t 50.0\n",
      "1: 59.5 \t 3.2 \t 32.5 \t 11.5 \t 1.0 \t 50.0\n",
      "2: 22.8 \t 3.2 \t 24.1 \t 4.3 \t 1.0 \t 50.0\n",
      "3: 28.0 \t 3.8 \t 37.9 \t 5.0 \t 1.0 \t 50.0\n",
      "results_dict_3_shelf\n",
      "0: 215.7 \t 2.6 \t 51.0 \t 42.7 \t 23.0 \t 50.0\n",
      "1: 101.1 \t 4.1 \t 54.8 \t 18.9 \t 1.0 \t 50.0\n",
      "2: 43.9 \t 4.3 \t 40.6 \t 7.9 \t 1.0 \t 50.0\n",
      "3: 22.3 \t 5.2 \t 41.4 \t 3.0 \t 1.0 \t 50.0\n",
      "results_dict_5_plane\n",
      "1: 73.8 \t 3.5 \t 53.3 \t 14.0 \t 6.0 \t 50.0\n",
      "2: 51.3 \t 4.2 \t 61.2 \t 9.4 \t 1.0 \t 50.0\n",
      "3: 46.2 \t 3.8 \t 86.6 \t 7.4 \t 1.0 \t 50.0\n",
      "results_dict_3_pole\n",
      "1: 184.8 \t 4.5 \t 87.1 \t 34.9 \t 4.0 \t 50.0\n",
      "2: 92.7 \t 4.5 \t 70.7 \t 17.0 \t 2.0 \t 50.0\n",
      "3: 51.1 \t 5.4 \t 73.0 \t 7.7 \t 3.0 \t 50.0\n"
     ]
    }
   ],
   "source": [
    "data_all = defaultdict(dict)\n",
    "data_accum = defaultdict(lambda: defaultdict(list))\n",
    "for dataset in sorted(os.listdir(ROBOT_DATA_ROOT)):\n",
    "    DATASET_PATH = os.path.join(ROBOT_DATA_ROOT, dataset)\n",
    "    for filename in os.listdir(DATASET_PATH):\n",
    "        key = filename[:-5]\n",
    "        data_all[dataset][key] = {int(k): v for k, v in load_json(os.path.join(DATASET_PATH, filename)).items()}\n",
    "        for k, v in data_all[dataset][key].items():\n",
    "            data_accum[key][k] = data_accum[key][k] + v\n",
    "#     {int(k): v for k, v in load_json(os.path.join(DATASET_PATH, \"results_dict_3_pole.json\")).items()}\n",
    "\n",
    "for exptype,content in data_accum.items():\n",
    "    print(exptype)\n",
    "    for k, v in content.items():\n",
    "        vv = np.array(v)\n",
    "        if len(vv)>0:\n",
    "            with np.printoptions(precision=1, suppress=True):\n",
    "                print(\"{}: {} \\t {} \\t {} \\t {} \\t {} \\t {}\".format(k, \n",
    "                                                                    *(np.round(list(np.mean(vv[np.where(vv[:,-1])[0], :-1], axis=0))\n",
    "                                                                               +[np.sum(np.logical_not(vv[:,-1])), len(vv)], 1))))"
   ]
  },
  {
   "cell_type": "code",
   "execution_count": 4,
   "metadata": {},
   "outputs": [],
   "source": [
    "for exptype,content in data_accum.items():\n",
    "    print(exptype)\n",
    "    for k, v in content.items():\n",
    "        if len(v)>0:\n",
    "            print(\"{}: {}\".format(k, np.max(v, axis=0)))"
   ]
  },
  {
   "cell_type": "code",
   "execution_count": 24,
   "metadata": {},
   "outputs": [
    {
     "name": "stdout",
     "output_type": "stream",
     "text": [
      "results_dict_3_plane\n",
      "0: [0.06693196 0.         2.         0.         0.        ]\n",
      "1: [0.06968212 0.         2.         0.         0.        ]\n",
      "2: [0.12242985 0.         3.         0.         0.        ]\n",
      "3: [0.12763405 0.         2.         0.         0.        ]\n",
      "results_dict_5_plane\n",
      "1: [0.08194995 0.         2.         0.         0.        ]\n",
      "2: [0.06442499 2.         2.         0.         1.        ]\n",
      "3: [0.46124291 2.         2.         0.         1.        ]\n",
      "results_dict_3_pole\n",
      "1: [12.14228702  2.         11.          2.          1.        ]\n",
      "2: [0.41893196 2.         5.         0.         1.        ]\n",
      "3: [13.09853292  2.         22.          2.          1.        ]\n"
     ]
    }
   ],
   "source": [
    "for exptype,content in data_accum.items():\n",
    "    print(exptype)\n",
    "    for k, v in content.items():\n",
    "        if len(v)>0:\n",
    "            print(\"{}: {}\".format(k, np.min(v, axis=0)))"
   ]
  },
  {
   "cell_type": "code",
   "execution_count": null,
   "metadata": {},
   "outputs": [],
   "source": []
  }
 ],
 "metadata": {
  "kernelspec": {
   "display_name": "Python 2",
   "language": "python",
   "name": "python2"
  },
  "language_info": {
   "codemirror_mode": {
    "name": "ipython",
    "version": 2
   },
   "file_extension": ".py",
   "mimetype": "text/x-python",
   "name": "python",
   "nbconvert_exporter": "python",
   "pygments_lexer": "ipython2",
   "version": "2.7.17"
  }
 },
 "nbformat": 4,
 "nbformat_minor": 2
}
