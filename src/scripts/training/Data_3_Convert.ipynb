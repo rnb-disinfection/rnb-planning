{
 "cells": [
  {
   "cell_type": "code",
   "execution_count": 1,
   "metadata": {},
   "outputs": [
    {
     "data": {
      "text/html": [
       "<style>.container { width:90% !important; } </style>"
      ],
      "text/plain": [
       "<IPython.core.display.HTML object>"
      ]
     },
     "metadata": {},
     "output_type": "display_data"
    },
    {
     "name": "stdout",
     "output_type": "stream",
     "text": [
      "connection_list\n",
      "(False, False)\n"
     ]
    }
   ],
   "source": [
    "#!/usr/bin/env python\n",
    "# coding: utf-8\n",
    "\n",
    "# In[1]:\n",
    "\n",
    "\n",
    "from __future__ import print_function\n",
    "from IPython.core.display import display, HTML\n",
    "\n",
    "display(HTML(\"<style>.container { width:90% !important; } </style>\"))\n",
    "import matplotlib.pyplot as plt\n",
    "from pkg.marker_config import *\n",
    "from pkg.constraint_graph import *\n",
    "from pkg.constraint.constraint_action import *\n",
    "from pkg.constraint.constraint_object import *\n",
    "from pkg.constants import *\n",
    "from pkg.utils.plot_utils import *\n",
    "from pkg.utils.utils import *\n",
    "from pkg.environment_builder import *\n",
    "from pkg.ui.ui_broker import *\n",
    "from pkg.controller.combined_robot import *\n",
    "from pkg.controller.combined_robot import CombinedRobot, XYZ_RPY_ROBOTS_DEFAULT\n",
    "from pkg.data_collecting.sampling import *\n",
    "\n",
    "VISUALIZE = False\n",
    "graph = None\n",
    "SAMPLED_DATA = defaultdict(dict)\n",
    "UPDATE_DAT = True\n",
    "\n",
    "# custom_xacro = '{}src/robots/dataset_2012/custom_robots.urdf.xacro'.format(RNB_PLANNING_DIR)\n",
    "custom_xacro = None\n",
    "\n",
    "GLOBAL_FILENAME = \"global.json\"\n",
    "WORLD_FILENAME = \"world.json\"\n",
    "SCENE_FILENAME = \"scene.json\"\n",
    "DATA_PATH = \"./data\"\n",
    "CONVERTED_PATH = \"./data/converted\"\n",
    "try_mkdir(CONVERTED_PATH)\n",
    "\n",
    "gtimer = GlobalTimer.instance()\n",
    "elog = Logger()\n",
    "\n",
    "crob = CombinedRobot(connection_list=(False, False))\n",
    "CHECK_DICT = {}\n",
    "# ## Load Global params\n",
    "# DATASET_LIST = sorted(filter(lambda x: x not in [\"backup\", \"converted\", \"converted_bak\"], os.listdir(DATA_PATH)))\n",
    "DATASET_LIST = ['20201214-165211', '20201216-021416', '20201218-024611',\n",
    "                '20201208-121454', '20201212-232318', '20201213-061207']\n",
    "# DATASET_LIST = [ '20201212-232318']"
   ]
  },
  {
   "cell_type": "markdown",
   "metadata": {},
   "source": [
    "## dataset"
   ]
  },
  {
   "cell_type": "code",
   "execution_count": 2,
   "metadata": {},
   "outputs": [],
   "source": [
    "data_list = []\n",
    "N_data = 0\n",
    "# ## Load Global params\n",
    "for DATASET in DATASET_LIST:\n",
    "    CURRENT_PATH = os.path.join(DATA_PATH, DATASET)\n",
    "    # ## Load world\n",
    "    WORLD_LIST = sorted(filter(lambda x: not x.endswith(\".json\"), os.listdir(CURRENT_PATH)))\n",
    "    for WORLD in WORLD_LIST:\n",
    "            WORLD_PATH = os.path.join(CURRENT_PATH, WORLD)\n",
    "            # ## Load scene\n",
    "            SCENE_LIST = sorted(filter(lambda x: not x.endswith(\".json\"), os.listdir(WORLD_PATH)))\n",
    "            for SCENE in SCENE_LIST:\n",
    "                SCENE_PATH = os.path.join(WORLD_PATH, SCENE)\n",
    "                # ## Load action\n",
    "                ACTION_LIST = sorted(filter(lambda x: x != SCENE_FILENAME, os.listdir(SCENE_PATH)))\n",
    "                for ACTION in ACTION_LIST:\n",
    "                    N_action = len(load_json(os.path.join(SCENE_PATH, ACTION)))\n",
    "                    N_data += N_action\n",
    "                    for i_act in range(N_action):\n",
    "                        data_list.append((DATASET, WORLD, SCENE, ACTION, i_act))"
   ]
  },
  {
   "cell_type": "code",
   "execution_count": 3,
   "metadata": {},
   "outputs": [
    {
     "name": "stdout",
     "output_type": "stream",
     "text": [
      "scene size: 3375 (15,15,15)\n",
      "[WORLD] -\n",
      "{u'indy0': [[1.8796917395085697, 2.1800983463013788, 0.5885073346085734], [0, 0, 4.747721242625231]], u'panda1': [[2.093054805839833, 0.9446336318941142, 0.5409397859253333], [0, 0, 3.9230058692960204]]}\n",
      "Dash is running on http://127.0.0.1:8050/\n",
      "\n"
     ]
    },
    {
     "name": "stderr",
     "output_type": "stream",
     "text": [
      "Unknown tag \"hardwareInterface\" in /robot[@name='custom_robots']/transmission[@name='indy0_tran0']/actuator[@name='indy0_motor0']\n",
      "Unknown tag \"hardwareInterface\" in /robot[@name='custom_robots']/transmission[@name='indy0_tran1']/actuator[@name='indy0_motor1']\n",
      "Unknown tag \"hardwareInterface\" in /robot[@name='custom_robots']/transmission[@name='indy0_tran2']/actuator[@name='indy0_motor2']\n",
      "Unknown tag \"hardwareInterface\" in /robot[@name='custom_robots']/transmission[@name='indy0_tran3']/actuator[@name='indy0_motor3']\n",
      "Unknown tag \"hardwareInterface\" in /robot[@name='custom_robots']/transmission[@name='indy0_tran4']/actuator[@name='indy0_motor4']\n",
      "Unknown tag \"hardwareInterface\" in /robot[@name='custom_robots']/transmission[@name='indy0_tran5']/actuator[@name='indy0_motor5']\n"
     ]
    },
    {
     "name": "stdout",
     "output_type": "stream",
     "text": [
      " * Serving Flask app \"pkg.ui.dash_launcher\" (lazy loading)\n",
      " * Environment: production\n",
      "   WARNING: This is a development server. Do not use it in a production deployment.\n",
      "   Use a production WSGI server instead.\n",
      " * Debug mode: off\n"
     ]
    },
    {
     "name": "stderr",
     "output_type": "stream",
     "text": [
      "Exception in thread Thread-9:\n",
      "Traceback (most recent call last):\n",
      "  File \"/usr/lib/python2.7/threading.py\", line 801, in __bootstrap_inner\n",
      "    self.run()\n",
      "  File \"/usr/lib/python2.7/threading.py\", line 754, in run\n",
      "    self.__target(*self.__args, **self.__kwargs)\n",
      "  File \"/home/tamp/.local/lib/python2.7/site-packages/dash/dash.py\", line 1716, in run_server\n",
      "    self.server.run(host=host, port=port, debug=debug, **flask_run_options)\n",
      "  File \"/home/tamp/.local/lib/python2.7/site-packages/flask/app.py\", line 990, in run\n",
      "    run_simple(host, port, self, **options)\n",
      "  File \"/home/tamp/.local/lib/python2.7/site-packages/werkzeug/serving.py\", line 1052, in run_simple\n",
      "    inner()\n",
      "  File \"/home/tamp/.local/lib/python2.7/site-packages/werkzeug/serving.py\", line 1005, in inner\n",
      "    fd=fd,\n",
      "  File \"/home/tamp/.local/lib/python2.7/site-packages/werkzeug/serving.py\", line 848, in make_server\n",
      "    host, port, app, request_handler, passthrough_errors, ssl_context, fd=fd\n",
      "  File \"/home/tamp/.local/lib/python2.7/site-packages/werkzeug/serving.py\", line 740, in __init__\n",
      "    HTTPServer.__init__(self, server_address, handler)\n",
      "  File \"/usr/lib/python2.7/SocketServer.py\", line 420, in __init__\n",
      "    self.server_bind()\n",
      "  File \"/usr/lib/python2.7/BaseHTTPServer.py\", line 108, in server_bind\n",
      "    SocketServer.TCPServer.server_bind(self)\n",
      "  File \"/usr/lib/python2.7/SocketServer.py\", line 434, in server_bind\n",
      "    self.socket.bind(self.server_address)\n",
      "  File \"/usr/lib/python2.7/socket.py\", line 228, in meth\n",
      "    return getattr(self._sock,name)(*args)\n",
      "error: [Errno 98] Address already in use\n",
      "\n"
     ]
    },
    {
     "name": "stdout",
     "output_type": "stream",
     "text": [
      "[BEGIN] 20201212-232318 - WORLD-20201212-232318 - SCENE-20201212-232320 - 20201212-232333.json ===============\n",
      "DONE: 0/6119\n",
      "scene size: 3375 (15,15,15)\n",
      "[WORLD] -\n",
      "{u'indy0': [[1.8796917395085697, 2.1800983463013788, 0.5885073346085734], [0, 0, 4.747721242625231]], u'panda1': [[2.093054805839833, 0.9446336318941142, 0.5409397859253333], [0, 0, 3.9230058692960204]]}\n"
     ]
    },
    {
     "name": "stderr",
     "output_type": "stream",
     "text": [
      "Unknown tag \"hardwareInterface\" in /robot[@name='custom_robots']/transmission[@name='indy0_tran0']/actuator[@name='indy0_motor0']\n",
      "Unknown tag \"hardwareInterface\" in /robot[@name='custom_robots']/transmission[@name='indy0_tran1']/actuator[@name='indy0_motor1']\n",
      "Unknown tag \"hardwareInterface\" in /robot[@name='custom_robots']/transmission[@name='indy0_tran2']/actuator[@name='indy0_motor2']\n",
      "Unknown tag \"hardwareInterface\" in /robot[@name='custom_robots']/transmission[@name='indy0_tran3']/actuator[@name='indy0_motor3']\n",
      "Unknown tag \"hardwareInterface\" in /robot[@name='custom_robots']/transmission[@name='indy0_tran4']/actuator[@name='indy0_motor4']\n",
      "Unknown tag \"hardwareInterface\" in /robot[@name='custom_robots']/transmission[@name='indy0_tran5']/actuator[@name='indy0_motor5']\n"
     ]
    },
    {
     "name": "stdout",
     "output_type": "stream",
     "text": [
      "[BEGIN] 20201212-232318 - WORLD-20201212-232318 - SCENE-20201212-232320 - 20201212-232333.json ===============\n",
      "DONE: 1/6119\n",
      "scene size: 3375 (15,15,15)\n",
      "[WORLD] -\n",
      "{u'indy0': [[1.8796917395085697, 2.1800983463013788, 0.5885073346085734], [0, 0, 4.747721242625231]], u'panda1': [[2.093054805839833, 0.9446336318941142, 0.5409397859253333], [0, 0, 3.9230058692960204]]}\n"
     ]
    },
    {
     "name": "stderr",
     "output_type": "stream",
     "text": [
      "Unknown tag \"hardwareInterface\" in /robot[@name='custom_robots']/transmission[@name='indy0_tran0']/actuator[@name='indy0_motor0']\n",
      "Unknown tag \"hardwareInterface\" in /robot[@name='custom_robots']/transmission[@name='indy0_tran1']/actuator[@name='indy0_motor1']\n",
      "Unknown tag \"hardwareInterface\" in /robot[@name='custom_robots']/transmission[@name='indy0_tran2']/actuator[@name='indy0_motor2']\n",
      "Unknown tag \"hardwareInterface\" in /robot[@name='custom_robots']/transmission[@name='indy0_tran3']/actuator[@name='indy0_motor3']\n",
      "Unknown tag \"hardwareInterface\" in /robot[@name='custom_robots']/transmission[@name='indy0_tran4']/actuator[@name='indy0_motor4']\n",
      "Unknown tag \"hardwareInterface\" in /robot[@name='custom_robots']/transmission[@name='indy0_tran5']/actuator[@name='indy0_motor5']\n"
     ]
    },
    {
     "name": "stdout",
     "output_type": "stream",
     "text": [
      "[BEGIN] 20201212-232318 - WORLD-20201212-232318 - SCENE-20201212-232320 - 20201212-232333.json ===============\n",
      "DONE: 2/6119\n",
      "scene size: 3375 (15,15,15)\n",
      "[WORLD] -\n",
      "{u'indy0': [[1.8796917395085697, 2.1800983463013788, 0.5885073346085734], [0, 0, 4.747721242625231]], u'panda1': [[2.093054805839833, 0.9446336318941142, 0.5409397859253333], [0, 0, 3.9230058692960204]]}\n"
     ]
    },
    {
     "name": "stderr",
     "output_type": "stream",
     "text": [
      "Unknown tag \"hardwareInterface\" in /robot[@name='custom_robots']/transmission[@name='indy0_tran0']/actuator[@name='indy0_motor0']\n",
      "Unknown tag \"hardwareInterface\" in /robot[@name='custom_robots']/transmission[@name='indy0_tran1']/actuator[@name='indy0_motor1']\n",
      "Unknown tag \"hardwareInterface\" in /robot[@name='custom_robots']/transmission[@name='indy0_tran2']/actuator[@name='indy0_motor2']\n",
      "Unknown tag \"hardwareInterface\" in /robot[@name='custom_robots']/transmission[@name='indy0_tran3']/actuator[@name='indy0_motor3']\n",
      "Unknown tag \"hardwareInterface\" in /robot[@name='custom_robots']/transmission[@name='indy0_tran4']/actuator[@name='indy0_motor4']\n",
      "Unknown tag \"hardwareInterface\" in /robot[@name='custom_robots']/transmission[@name='indy0_tran5']/actuator[@name='indy0_motor5']\n"
     ]
    },
    {
     "name": "stdout",
     "output_type": "stream",
     "text": [
      "[BEGIN] 20201212-232318 - WORLD-20201212-232318 - SCENE-20201212-232320 - 20201212-232333.json ===============\n",
      "DONE: 3/6119\n",
      "scene size: 3375 (15,15,15)\n",
      "[WORLD] -\n",
      "{u'indy0': [[1.8796917395085697, 2.1800983463013788, 0.5885073346085734], [0, 0, 4.747721242625231]], u'panda1': [[2.093054805839833, 0.9446336318941142, 0.5409397859253333], [0, 0, 3.9230058692960204]]}\n"
     ]
    },
    {
     "name": "stderr",
     "output_type": "stream",
     "text": [
      "Unknown tag \"hardwareInterface\" in /robot[@name='custom_robots']/transmission[@name='indy0_tran0']/actuator[@name='indy0_motor0']\n",
      "Unknown tag \"hardwareInterface\" in /robot[@name='custom_robots']/transmission[@name='indy0_tran1']/actuator[@name='indy0_motor1']\n",
      "Unknown tag \"hardwareInterface\" in /robot[@name='custom_robots']/transmission[@name='indy0_tran2']/actuator[@name='indy0_motor2']\n",
      "Unknown tag \"hardwareInterface\" in /robot[@name='custom_robots']/transmission[@name='indy0_tran3']/actuator[@name='indy0_motor3']\n",
      "Unknown tag \"hardwareInterface\" in /robot[@name='custom_robots']/transmission[@name='indy0_tran4']/actuator[@name='indy0_motor4']\n",
      "Unknown tag \"hardwareInterface\" in /robot[@name='custom_robots']/transmission[@name='indy0_tran5']/actuator[@name='indy0_motor5']\n"
     ]
    },
    {
     "name": "stdout",
     "output_type": "stream",
     "text": [
      "[BEGIN] 20201212-232318 - WORLD-20201212-232318 - SCENE-20201212-232320 - 20201212-232333.json ===============\n",
      "DONE: 4/6119\n",
      "scene size: 3375 (15,15,15)\n",
      "[WORLD] -\n",
      "{u'indy0': [[1.8796917395085697, 2.1800983463013788, 0.5885073346085734], [0, 0, 4.747721242625231]], u'panda1': [[2.093054805839833, 0.9446336318941142, 0.5409397859253333], [0, 0, 3.9230058692960204]]}\n"
     ]
    },
    {
     "name": "stderr",
     "output_type": "stream",
     "text": [
      "Unknown tag \"hardwareInterface\" in /robot[@name='custom_robots']/transmission[@name='indy0_tran0']/actuator[@name='indy0_motor0']\n",
      "Unknown tag \"hardwareInterface\" in /robot[@name='custom_robots']/transmission[@name='indy0_tran1']/actuator[@name='indy0_motor1']\n",
      "Unknown tag \"hardwareInterface\" in /robot[@name='custom_robots']/transmission[@name='indy0_tran2']/actuator[@name='indy0_motor2']\n",
      "Unknown tag \"hardwareInterface\" in /robot[@name='custom_robots']/transmission[@name='indy0_tran3']/actuator[@name='indy0_motor3']\n",
      "Unknown tag \"hardwareInterface\" in /robot[@name='custom_robots']/transmission[@name='indy0_tran4']/actuator[@name='indy0_motor4']\n",
      "Unknown tag \"hardwareInterface\" in /robot[@name='custom_robots']/transmission[@name='indy0_tran5']/actuator[@name='indy0_motor5']\n"
     ]
    },
    {
     "name": "stdout",
     "output_type": "stream",
     "text": [
      "[BEGIN] 20201212-232318 - WORLD-20201212-232318 - SCENE-20201212-232320 - 20201212-232333.json ===============\n",
      "DONE: 5/6119\n",
      "scene size: 3375 (15,15,15)\n",
      "[WORLD] -\n",
      "{u'indy0': [[1.8796917395085697, 2.1800983463013788, 0.5885073346085734], [0, 0, 4.747721242625231]], u'panda1': [[2.093054805839833, 0.9446336318941142, 0.5409397859253333], [0, 0, 3.9230058692960204]]}\n"
     ]
    },
    {
     "name": "stderr",
     "output_type": "stream",
     "text": [
      "Unknown tag \"hardwareInterface\" in /robot[@name='custom_robots']/transmission[@name='indy0_tran0']/actuator[@name='indy0_motor0']\n",
      "Unknown tag \"hardwareInterface\" in /robot[@name='custom_robots']/transmission[@name='indy0_tran1']/actuator[@name='indy0_motor1']\n",
      "Unknown tag \"hardwareInterface\" in /robot[@name='custom_robots']/transmission[@name='indy0_tran2']/actuator[@name='indy0_motor2']\n",
      "Unknown tag \"hardwareInterface\" in /robot[@name='custom_robots']/transmission[@name='indy0_tran3']/actuator[@name='indy0_motor3']\n",
      "Unknown tag \"hardwareInterface\" in /robot[@name='custom_robots']/transmission[@name='indy0_tran4']/actuator[@name='indy0_motor4']\n",
      "Unknown tag \"hardwareInterface\" in /robot[@name='custom_robots']/transmission[@name='indy0_tran5']/actuator[@name='indy0_motor5']\n"
     ]
    },
    {
     "name": "stdout",
     "output_type": "stream",
     "text": [
      "[BEGIN] 20201212-232318 - WORLD-20201212-232318 - SCENE-20201212-232320 - 20201212-232333.json ===============\n",
      "DONE: 6/6119\n",
      "scene size: 3375 (15,15,15)\n",
      "[WORLD] -\n",
      "{u'indy0': [[1.8796917395085697, 2.1800983463013788, 0.5885073346085734], [0, 0, 4.747721242625231]], u'panda1': [[2.093054805839833, 0.9446336318941142, 0.5409397859253333], [0, 0, 3.9230058692960204]]}\n"
     ]
    },
    {
     "name": "stderr",
     "output_type": "stream",
     "text": [
      "Unknown tag \"hardwareInterface\" in /robot[@name='custom_robots']/transmission[@name='indy0_tran0']/actuator[@name='indy0_motor0']\n",
      "Unknown tag \"hardwareInterface\" in /robot[@name='custom_robots']/transmission[@name='indy0_tran1']/actuator[@name='indy0_motor1']\n",
      "Unknown tag \"hardwareInterface\" in /robot[@name='custom_robots']/transmission[@name='indy0_tran2']/actuator[@name='indy0_motor2']\n",
      "Unknown tag \"hardwareInterface\" in /robot[@name='custom_robots']/transmission[@name='indy0_tran3']/actuator[@name='indy0_motor3']\n",
      "Unknown tag \"hardwareInterface\" in /robot[@name='custom_robots']/transmission[@name='indy0_tran4']/actuator[@name='indy0_motor4']\n",
      "Unknown tag \"hardwareInterface\" in /robot[@name='custom_robots']/transmission[@name='indy0_tran5']/actuator[@name='indy0_motor5']\n"
     ]
    },
    {
     "name": "stdout",
     "output_type": "stream",
     "text": [
      "[BEGIN] 20201212-232318 - WORLD-20201212-232318 - SCENE-20201212-232320 - 20201212-232333.json ===============\n",
      "DONE: 7/6119\n",
      "scene size: 3375 (15,15,15)\n",
      "[WORLD] -\n",
      "{u'indy0': [[1.8796917395085697, 2.1800983463013788, 0.5885073346085734], [0, 0, 4.747721242625231]], u'panda1': [[2.093054805839833, 0.9446336318941142, 0.5409397859253333], [0, 0, 3.9230058692960204]]}\n"
     ]
    },
    {
     "name": "stderr",
     "output_type": "stream",
     "text": [
      "Unknown tag \"hardwareInterface\" in /robot[@name='custom_robots']/transmission[@name='indy0_tran0']/actuator[@name='indy0_motor0']\n",
      "Unknown tag \"hardwareInterface\" in /robot[@name='custom_robots']/transmission[@name='indy0_tran1']/actuator[@name='indy0_motor1']\n",
      "Unknown tag \"hardwareInterface\" in /robot[@name='custom_robots']/transmission[@name='indy0_tran2']/actuator[@name='indy0_motor2']\n",
      "Unknown tag \"hardwareInterface\" in /robot[@name='custom_robots']/transmission[@name='indy0_tran3']/actuator[@name='indy0_motor3']\n",
      "Unknown tag \"hardwareInterface\" in /robot[@name='custom_robots']/transmission[@name='indy0_tran4']/actuator[@name='indy0_motor4']\n",
      "Unknown tag \"hardwareInterface\" in /robot[@name='custom_robots']/transmission[@name='indy0_tran5']/actuator[@name='indy0_motor5']\n"
     ]
    },
    {
     "name": "stdout",
     "output_type": "stream",
     "text": [
      "[BEGIN] 20201212-232318 - WORLD-20201212-232318 - SCENE-20201212-232320 - 20201212-232333.json ===============\n",
      "DONE: 8/6119\n",
      "scene size: 3375 (15,15,15)\n",
      "[WORLD] -\n",
      "{u'indy0': [[1.8796917395085697, 2.1800983463013788, 0.5885073346085734], [0, 0, 4.747721242625231]], u'panda1': [[2.093054805839833, 0.9446336318941142, 0.5409397859253333], [0, 0, 3.9230058692960204]]}\n"
     ]
    },
    {
     "name": "stderr",
     "output_type": "stream",
     "text": [
      "Unknown tag \"hardwareInterface\" in /robot[@name='custom_robots']/transmission[@name='indy0_tran0']/actuator[@name='indy0_motor0']\n",
      "Unknown tag \"hardwareInterface\" in /robot[@name='custom_robots']/transmission[@name='indy0_tran1']/actuator[@name='indy0_motor1']\n",
      "Unknown tag \"hardwareInterface\" in /robot[@name='custom_robots']/transmission[@name='indy0_tran2']/actuator[@name='indy0_motor2']\n",
      "Unknown tag \"hardwareInterface\" in /robot[@name='custom_robots']/transmission[@name='indy0_tran3']/actuator[@name='indy0_motor3']\n",
      "Unknown tag \"hardwareInterface\" in /robot[@name='custom_robots']/transmission[@name='indy0_tran4']/actuator[@name='indy0_motor4']\n",
      "Unknown tag \"hardwareInterface\" in /robot[@name='custom_robots']/transmission[@name='indy0_tran5']/actuator[@name='indy0_motor5']\n"
     ]
    },
    {
     "name": "stdout",
     "output_type": "stream",
     "text": [
      "[BEGIN] 20201212-232318 - WORLD-20201212-232318 - SCENE-20201212-232320 - 20201212-232333.json ===============\n",
      "DONE: 9/6119\n",
      "scene size: 3375 (15,15,15)\n",
      "[WORLD] -\n",
      "{u'indy0': [[1.8796917395085697, 2.1800983463013788, 0.5885073346085734], [0, 0, 4.747721242625231]], u'panda1': [[2.093054805839833, 0.9446336318941142, 0.5409397859253333], [0, 0, 3.9230058692960204]]}\n"
     ]
    },
    {
     "name": "stderr",
     "output_type": "stream",
     "text": [
      "Unknown tag \"hardwareInterface\" in /robot[@name='custom_robots']/transmission[@name='indy0_tran0']/actuator[@name='indy0_motor0']\n",
      "Unknown tag \"hardwareInterface\" in /robot[@name='custom_robots']/transmission[@name='indy0_tran1']/actuator[@name='indy0_motor1']\n",
      "Unknown tag \"hardwareInterface\" in /robot[@name='custom_robots']/transmission[@name='indy0_tran2']/actuator[@name='indy0_motor2']\n",
      "Unknown tag \"hardwareInterface\" in /robot[@name='custom_robots']/transmission[@name='indy0_tran3']/actuator[@name='indy0_motor3']\n",
      "Unknown tag \"hardwareInterface\" in /robot[@name='custom_robots']/transmission[@name='indy0_tran4']/actuator[@name='indy0_motor4']\n",
      "Unknown tag \"hardwareInterface\" in /robot[@name='custom_robots']/transmission[@name='indy0_tran5']/actuator[@name='indy0_motor5']\n"
     ]
    },
    {
     "name": "stdout",
     "output_type": "stream",
     "text": [
      "[BEGIN] 20201212-232318 - WORLD-20201212-232318 - SCENE-20201212-232320 - 20201212-232333.json ===============\n",
      "DONE: 10/6119\n",
      "scene size: 3375 (15,15,15)\n",
      "[WORLD] -\n",
      "{u'indy0': [[1.8796917395085697, 2.1800983463013788, 0.5885073346085734], [0, 0, 4.747721242625231]], u'panda1': [[2.093054805839833, 0.9446336318941142, 0.5409397859253333], [0, 0, 3.9230058692960204]]}\n"
     ]
    },
    {
     "name": "stderr",
     "output_type": "stream",
     "text": [
      "Unknown tag \"hardwareInterface\" in /robot[@name='custom_robots']/transmission[@name='indy0_tran0']/actuator[@name='indy0_motor0']\n",
      "Unknown tag \"hardwareInterface\" in /robot[@name='custom_robots']/transmission[@name='indy0_tran1']/actuator[@name='indy0_motor1']\n",
      "Unknown tag \"hardwareInterface\" in /robot[@name='custom_robots']/transmission[@name='indy0_tran2']/actuator[@name='indy0_motor2']\n",
      "Unknown tag \"hardwareInterface\" in /robot[@name='custom_robots']/transmission[@name='indy0_tran3']/actuator[@name='indy0_motor3']\n",
      "Unknown tag \"hardwareInterface\" in /robot[@name='custom_robots']/transmission[@name='indy0_tran4']/actuator[@name='indy0_motor4']\n",
      "Unknown tag \"hardwareInterface\" in /robot[@name='custom_robots']/transmission[@name='indy0_tran5']/actuator[@name='indy0_motor5']\n"
     ]
    },
    {
     "name": "stdout",
     "output_type": "stream",
     "text": [
      "[BEGIN] 20201212-232318 - WORLD-20201212-232318 - SCENE-20201212-232320 - 20201212-232333.json ===============\n",
      "DONE: 11/6119\n",
      "scene size: 3375 (15,15,15)\n",
      "[WORLD] -\n",
      "{u'indy0': [[1.8796917395085697, 2.1800983463013788, 0.5885073346085734], [0, 0, 4.747721242625231]], u'panda1': [[2.093054805839833, 0.9446336318941142, 0.5409397859253333], [0, 0, 3.9230058692960204]]}\n"
     ]
    },
    {
     "name": "stderr",
     "output_type": "stream",
     "text": [
      "Unknown tag \"hardwareInterface\" in /robot[@name='custom_robots']/transmission[@name='indy0_tran0']/actuator[@name='indy0_motor0']\n",
      "Unknown tag \"hardwareInterface\" in /robot[@name='custom_robots']/transmission[@name='indy0_tran1']/actuator[@name='indy0_motor1']\n",
      "Unknown tag \"hardwareInterface\" in /robot[@name='custom_robots']/transmission[@name='indy0_tran2']/actuator[@name='indy0_motor2']\n",
      "Unknown tag \"hardwareInterface\" in /robot[@name='custom_robots']/transmission[@name='indy0_tran3']/actuator[@name='indy0_motor3']\n",
      "Unknown tag \"hardwareInterface\" in /robot[@name='custom_robots']/transmission[@name='indy0_tran4']/actuator[@name='indy0_motor4']\n",
      "Unknown tag \"hardwareInterface\" in /robot[@name='custom_robots']/transmission[@name='indy0_tran5']/actuator[@name='indy0_motor5']\n"
     ]
    },
    {
     "name": "stdout",
     "output_type": "stream",
     "text": [
      "[BEGIN] 20201212-232318 - WORLD-20201212-232318 - SCENE-20201212-232320 - 20201212-232333.json ===============\n",
      "DONE: 12/6119\n",
      "scene size: 3375 (15,15,15)\n",
      "[WORLD] -\n",
      "{u'indy0': [[1.8796917395085697, 2.1800983463013788, 0.5885073346085734], [0, 0, 4.747721242625231]], u'panda1': [[2.093054805839833, 0.9446336318941142, 0.5409397859253333], [0, 0, 3.9230058692960204]]}\n"
     ]
    },
    {
     "name": "stderr",
     "output_type": "stream",
     "text": [
      "Unknown tag \"hardwareInterface\" in /robot[@name='custom_robots']/transmission[@name='indy0_tran0']/actuator[@name='indy0_motor0']\n",
      "Unknown tag \"hardwareInterface\" in /robot[@name='custom_robots']/transmission[@name='indy0_tran1']/actuator[@name='indy0_motor1']\n",
      "Unknown tag \"hardwareInterface\" in /robot[@name='custom_robots']/transmission[@name='indy0_tran2']/actuator[@name='indy0_motor2']\n",
      "Unknown tag \"hardwareInterface\" in /robot[@name='custom_robots']/transmission[@name='indy0_tran3']/actuator[@name='indy0_motor3']\n",
      "Unknown tag \"hardwareInterface\" in /robot[@name='custom_robots']/transmission[@name='indy0_tran4']/actuator[@name='indy0_motor4']\n",
      "Unknown tag \"hardwareInterface\" in /robot[@name='custom_robots']/transmission[@name='indy0_tran5']/actuator[@name='indy0_motor5']\n"
     ]
    },
    {
     "name": "stdout",
     "output_type": "stream",
     "text": [
      "[BEGIN] 20201212-232318 - WORLD-20201212-232318 - SCENE-20201212-232320 - 20201212-232333.json ===============\n",
      "DONE: 13/6119\n",
      "scene size: 3375 (15,15,15)\n",
      "[WORLD] -\n",
      "{u'indy0': [[1.8796917395085697, 2.1800983463013788, 0.5885073346085734], [0, 0, 4.747721242625231]], u'panda1': [[2.093054805839833, 0.9446336318941142, 0.5409397859253333], [0, 0, 3.9230058692960204]]}\n"
     ]
    },
    {
     "name": "stderr",
     "output_type": "stream",
     "text": [
      "Unknown tag \"hardwareInterface\" in /robot[@name='custom_robots']/transmission[@name='indy0_tran0']/actuator[@name='indy0_motor0']\n",
      "Unknown tag \"hardwareInterface\" in /robot[@name='custom_robots']/transmission[@name='indy0_tran1']/actuator[@name='indy0_motor1']\n",
      "Unknown tag \"hardwareInterface\" in /robot[@name='custom_robots']/transmission[@name='indy0_tran2']/actuator[@name='indy0_motor2']\n",
      "Unknown tag \"hardwareInterface\" in /robot[@name='custom_robots']/transmission[@name='indy0_tran3']/actuator[@name='indy0_motor3']\n",
      "Unknown tag \"hardwareInterface\" in /robot[@name='custom_robots']/transmission[@name='indy0_tran4']/actuator[@name='indy0_motor4']\n",
      "Unknown tag \"hardwareInterface\" in /robot[@name='custom_robots']/transmission[@name='indy0_tran5']/actuator[@name='indy0_motor5']\n"
     ]
    },
    {
     "name": "stdout",
     "output_type": "stream",
     "text": [
      "[BEGIN] 20201212-232318 - WORLD-20201212-232318 - SCENE-20201212-232320 - 20201212-232333.json ===============\n",
      "DONE: 14/6119\n",
      "scene size: 3375 (15,15,15)\n",
      "[WORLD] -\n",
      "{u'indy0': [[1.8796917395085697, 2.1800983463013788, 0.5885073346085734], [0, 0, 4.747721242625231]], u'panda1': [[2.093054805839833, 0.9446336318941142, 0.5409397859253333], [0, 0, 3.9230058692960204]]}\n"
     ]
    },
    {
     "name": "stderr",
     "output_type": "stream",
     "text": [
      "Unknown tag \"hardwareInterface\" in /robot[@name='custom_robots']/transmission[@name='indy0_tran0']/actuator[@name='indy0_motor0']\n",
      "Unknown tag \"hardwareInterface\" in /robot[@name='custom_robots']/transmission[@name='indy0_tran1']/actuator[@name='indy0_motor1']\n",
      "Unknown tag \"hardwareInterface\" in /robot[@name='custom_robots']/transmission[@name='indy0_tran2']/actuator[@name='indy0_motor2']\n",
      "Unknown tag \"hardwareInterface\" in /robot[@name='custom_robots']/transmission[@name='indy0_tran3']/actuator[@name='indy0_motor3']\n",
      "Unknown tag \"hardwareInterface\" in /robot[@name='custom_robots']/transmission[@name='indy0_tran4']/actuator[@name='indy0_motor4']\n",
      "Unknown tag \"hardwareInterface\" in /robot[@name='custom_robots']/transmission[@name='indy0_tran5']/actuator[@name='indy0_motor5']\n"
     ]
    },
    {
     "name": "stdout",
     "output_type": "stream",
     "text": [
      "[BEGIN] 20201212-232318 - WORLD-20201212-232318 - SCENE-20201212-232320 - 20201212-232333.json ===============\n",
      "DONE: 15/6119\n",
      "scene size: 3375 (15,15,15)\n",
      "[WORLD] -\n",
      "{u'indy0': [[1.8796917395085697, 2.1800983463013788, 0.5885073346085734], [0, 0, 4.747721242625231]], u'panda1': [[2.093054805839833, 0.9446336318941142, 0.5409397859253333], [0, 0, 3.9230058692960204]]}\n"
     ]
    },
    {
     "name": "stderr",
     "output_type": "stream",
     "text": [
      "Unknown tag \"hardwareInterface\" in /robot[@name='custom_robots']/transmission[@name='indy0_tran0']/actuator[@name='indy0_motor0']\n",
      "Unknown tag \"hardwareInterface\" in /robot[@name='custom_robots']/transmission[@name='indy0_tran1']/actuator[@name='indy0_motor1']\n",
      "Unknown tag \"hardwareInterface\" in /robot[@name='custom_robots']/transmission[@name='indy0_tran2']/actuator[@name='indy0_motor2']\n",
      "Unknown tag \"hardwareInterface\" in /robot[@name='custom_robots']/transmission[@name='indy0_tran3']/actuator[@name='indy0_motor3']\n",
      "Unknown tag \"hardwareInterface\" in /robot[@name='custom_robots']/transmission[@name='indy0_tran4']/actuator[@name='indy0_motor4']\n",
      "Unknown tag \"hardwareInterface\" in /robot[@name='custom_robots']/transmission[@name='indy0_tran5']/actuator[@name='indy0_motor5']\n"
     ]
    },
    {
     "name": "stdout",
     "output_type": "stream",
     "text": [
      "[BEGIN] 20201212-232318 - WORLD-20201212-232318 - SCENE-20201212-232320 - 20201212-232333.json ===============\n",
      "DONE: 16/6119\n",
      "scene size: 3375 (15,15,15)\n",
      "[WORLD] -\n",
      "{u'indy0': [[1.8796917395085697, 2.1800983463013788, 0.5885073346085734], [0, 0, 4.747721242625231]], u'panda1': [[2.093054805839833, 0.9446336318941142, 0.5409397859253333], [0, 0, 3.9230058692960204]]}\n"
     ]
    },
    {
     "name": "stderr",
     "output_type": "stream",
     "text": [
      "Unknown tag \"hardwareInterface\" in /robot[@name='custom_robots']/transmission[@name='indy0_tran0']/actuator[@name='indy0_motor0']\n",
      "Unknown tag \"hardwareInterface\" in /robot[@name='custom_robots']/transmission[@name='indy0_tran1']/actuator[@name='indy0_motor1']\n",
      "Unknown tag \"hardwareInterface\" in /robot[@name='custom_robots']/transmission[@name='indy0_tran2']/actuator[@name='indy0_motor2']\n",
      "Unknown tag \"hardwareInterface\" in /robot[@name='custom_robots']/transmission[@name='indy0_tran3']/actuator[@name='indy0_motor3']\n",
      "Unknown tag \"hardwareInterface\" in /robot[@name='custom_robots']/transmission[@name='indy0_tran4']/actuator[@name='indy0_motor4']\n",
      "Unknown tag \"hardwareInterface\" in /robot[@name='custom_robots']/transmission[@name='indy0_tran5']/actuator[@name='indy0_motor5']\n"
     ]
    },
    {
     "name": "stdout",
     "output_type": "stream",
     "text": [
      "[BEGIN] 20201212-232318 - WORLD-20201212-232318 - SCENE-20201212-232320 - 20201212-232333.json ===============\n",
      "DONE: 17/6119\n",
      "scene size: 3375 (15,15,15)\n",
      "[WORLD] -\n",
      "{u'indy0': [[1.8796917395085697, 2.1800983463013788, 0.5885073346085734], [0, 0, 4.747721242625231]], u'panda1': [[2.093054805839833, 0.9446336318941142, 0.5409397859253333], [0, 0, 3.9230058692960204]]}\n"
     ]
    },
    {
     "name": "stderr",
     "output_type": "stream",
     "text": [
      "Unknown tag \"hardwareInterface\" in /robot[@name='custom_robots']/transmission[@name='indy0_tran0']/actuator[@name='indy0_motor0']\n",
      "Unknown tag \"hardwareInterface\" in /robot[@name='custom_robots']/transmission[@name='indy0_tran1']/actuator[@name='indy0_motor1']\n",
      "Unknown tag \"hardwareInterface\" in /robot[@name='custom_robots']/transmission[@name='indy0_tran2']/actuator[@name='indy0_motor2']\n",
      "Unknown tag \"hardwareInterface\" in /robot[@name='custom_robots']/transmission[@name='indy0_tran3']/actuator[@name='indy0_motor3']\n",
      "Unknown tag \"hardwareInterface\" in /robot[@name='custom_robots']/transmission[@name='indy0_tran4']/actuator[@name='indy0_motor4']\n",
      "Unknown tag \"hardwareInterface\" in /robot[@name='custom_robots']/transmission[@name='indy0_tran5']/actuator[@name='indy0_motor5']\n"
     ]
    },
    {
     "name": "stdout",
     "output_type": "stream",
     "text": [
      "[BEGIN] 20201212-232318 - WORLD-20201212-232318 - SCENE-20201212-232320 - 20201212-232333.json ===============\n",
      "DONE: 18/6119\n",
      "scene size: 3375 (15,15,15)\n",
      "[WORLD] -\n",
      "{u'indy0': [[1.8796917395085697, 2.1800983463013788, 0.5885073346085734], [0, 0, 4.747721242625231]], u'panda1': [[2.093054805839833, 0.9446336318941142, 0.5409397859253333], [0, 0, 3.9230058692960204]]}\n"
     ]
    },
    {
     "name": "stderr",
     "output_type": "stream",
     "text": [
      "Unknown tag \"hardwareInterface\" in /robot[@name='custom_robots']/transmission[@name='indy0_tran0']/actuator[@name='indy0_motor0']\n",
      "Unknown tag \"hardwareInterface\" in /robot[@name='custom_robots']/transmission[@name='indy0_tran1']/actuator[@name='indy0_motor1']\n",
      "Unknown tag \"hardwareInterface\" in /robot[@name='custom_robots']/transmission[@name='indy0_tran2']/actuator[@name='indy0_motor2']\n",
      "Unknown tag \"hardwareInterface\" in /robot[@name='custom_robots']/transmission[@name='indy0_tran3']/actuator[@name='indy0_motor3']\n",
      "Unknown tag \"hardwareInterface\" in /robot[@name='custom_robots']/transmission[@name='indy0_tran4']/actuator[@name='indy0_motor4']\n",
      "Unknown tag \"hardwareInterface\" in /robot[@name='custom_robots']/transmission[@name='indy0_tran5']/actuator[@name='indy0_motor5']\n"
     ]
    },
    {
     "name": "stdout",
     "output_type": "stream",
     "text": [
      "[BEGIN] 20201212-232318 - WORLD-20201212-232318 - SCENE-20201212-232320 - 20201212-232333.json ===============\n",
      "DONE: 19/6119\n",
      "scene size: 3375 (15,15,15)\n",
      "[WORLD] -\n",
      "{u'indy0': [[1.8796917395085697, 2.1800983463013788, 0.5885073346085734], [0, 0, 4.747721242625231]], u'panda1': [[2.093054805839833, 0.9446336318941142, 0.5409397859253333], [0, 0, 3.9230058692960204]]}\n"
     ]
    },
    {
     "name": "stderr",
     "output_type": "stream",
     "text": [
      "Unknown tag \"hardwareInterface\" in /robot[@name='custom_robots']/transmission[@name='indy0_tran0']/actuator[@name='indy0_motor0']\n",
      "Unknown tag \"hardwareInterface\" in /robot[@name='custom_robots']/transmission[@name='indy0_tran1']/actuator[@name='indy0_motor1']\n",
      "Unknown tag \"hardwareInterface\" in /robot[@name='custom_robots']/transmission[@name='indy0_tran2']/actuator[@name='indy0_motor2']\n",
      "Unknown tag \"hardwareInterface\" in /robot[@name='custom_robots']/transmission[@name='indy0_tran3']/actuator[@name='indy0_motor3']\n",
      "Unknown tag \"hardwareInterface\" in /robot[@name='custom_robots']/transmission[@name='indy0_tran4']/actuator[@name='indy0_motor4']\n",
      "Unknown tag \"hardwareInterface\" in /robot[@name='custom_robots']/transmission[@name='indy0_tran5']/actuator[@name='indy0_motor5']\n"
     ]
    },
    {
     "name": "stdout",
     "output_type": "stream",
     "text": [
      "[BEGIN] 20201212-232318 - WORLD-20201212-232318 - SCENE-20201212-232320 - 20201212-232333.json ===============\n",
      "DONE: 20/6119\n",
      "scene size: 3375 (15,15,15)\n",
      "[WORLD] -\n",
      "{u'indy0': [[1.8796917395085697, 2.1800983463013788, 0.5885073346085734], [0, 0, 4.747721242625231]], u'panda1': [[2.093054805839833, 0.9446336318941142, 0.5409397859253333], [0, 0, 3.9230058692960204]]}\n"
     ]
    },
    {
     "name": "stderr",
     "output_type": "stream",
     "text": [
      "Unknown tag \"hardwareInterface\" in /robot[@name='custom_robots']/transmission[@name='indy0_tran0']/actuator[@name='indy0_motor0']\n",
      "Unknown tag \"hardwareInterface\" in /robot[@name='custom_robots']/transmission[@name='indy0_tran1']/actuator[@name='indy0_motor1']\n",
      "Unknown tag \"hardwareInterface\" in /robot[@name='custom_robots']/transmission[@name='indy0_tran2']/actuator[@name='indy0_motor2']\n",
      "Unknown tag \"hardwareInterface\" in /robot[@name='custom_robots']/transmission[@name='indy0_tran3']/actuator[@name='indy0_motor3']\n",
      "Unknown tag \"hardwareInterface\" in /robot[@name='custom_robots']/transmission[@name='indy0_tran4']/actuator[@name='indy0_motor4']\n",
      "Unknown tag \"hardwareInterface\" in /robot[@name='custom_robots']/transmission[@name='indy0_tran5']/actuator[@name='indy0_motor5']\n"
     ]
    },
    {
     "name": "stdout",
     "output_type": "stream",
     "text": [
      "[BEGIN] 20201212-232318 - WORLD-20201212-232318 - SCENE-20201212-232320 - 20201212-232333.json ===============\n",
      "DONE: 21/6119\n",
      "scene size: 3375 (15,15,15)\n",
      "[WORLD] -\n",
      "{u'indy0': [[1.8796917395085697, 2.1800983463013788, 0.5885073346085734], [0, 0, 4.747721242625231]], u'panda1': [[2.093054805839833, 0.9446336318941142, 0.5409397859253333], [0, 0, 3.9230058692960204]]}\n"
     ]
    },
    {
     "name": "stderr",
     "output_type": "stream",
     "text": [
      "Unknown tag \"hardwareInterface\" in /robot[@name='custom_robots']/transmission[@name='indy0_tran0']/actuator[@name='indy0_motor0']\n",
      "Unknown tag \"hardwareInterface\" in /robot[@name='custom_robots']/transmission[@name='indy0_tran1']/actuator[@name='indy0_motor1']\n",
      "Unknown tag \"hardwareInterface\" in /robot[@name='custom_robots']/transmission[@name='indy0_tran2']/actuator[@name='indy0_motor2']\n",
      "Unknown tag \"hardwareInterface\" in /robot[@name='custom_robots']/transmission[@name='indy0_tran3']/actuator[@name='indy0_motor3']\n",
      "Unknown tag \"hardwareInterface\" in /robot[@name='custom_robots']/transmission[@name='indy0_tran4']/actuator[@name='indy0_motor4']\n",
      "Unknown tag \"hardwareInterface\" in /robot[@name='custom_robots']/transmission[@name='indy0_tran5']/actuator[@name='indy0_motor5']\n"
     ]
    },
    {
     "name": "stdout",
     "output_type": "stream",
     "text": [
      "[BEGIN] 20201212-232318 - WORLD-20201212-232318 - SCENE-20201212-232320 - 20201212-232333.json ===============\n",
      "DONE: 22/6119\n",
      "scene size: 3375 (15,15,15)\n",
      "[WORLD] -\n",
      "{u'indy0': [[1.8796917395085697, 2.1800983463013788, 0.5885073346085734], [0, 0, 4.747721242625231]], u'panda1': [[2.093054805839833, 0.9446336318941142, 0.5409397859253333], [0, 0, 3.9230058692960204]]}\n"
     ]
    },
    {
     "name": "stderr",
     "output_type": "stream",
     "text": [
      "Unknown tag \"hardwareInterface\" in /robot[@name='custom_robots']/transmission[@name='indy0_tran0']/actuator[@name='indy0_motor0']\n",
      "Unknown tag \"hardwareInterface\" in /robot[@name='custom_robots']/transmission[@name='indy0_tran1']/actuator[@name='indy0_motor1']\n",
      "Unknown tag \"hardwareInterface\" in /robot[@name='custom_robots']/transmission[@name='indy0_tran2']/actuator[@name='indy0_motor2']\n",
      "Unknown tag \"hardwareInterface\" in /robot[@name='custom_robots']/transmission[@name='indy0_tran3']/actuator[@name='indy0_motor3']\n",
      "Unknown tag \"hardwareInterface\" in /robot[@name='custom_robots']/transmission[@name='indy0_tran4']/actuator[@name='indy0_motor4']\n",
      "Unknown tag \"hardwareInterface\" in /robot[@name='custom_robots']/transmission[@name='indy0_tran5']/actuator[@name='indy0_motor5']\n"
     ]
    },
    {
     "name": "stdout",
     "output_type": "stream",
     "text": [
      "[BEGIN] 20201212-232318 - WORLD-20201212-232318 - SCENE-20201212-232320 - 20201212-232333.json ===============\n",
      "DONE: 23/6119\n",
      "scene size: 3375 (15,15,15)\n",
      "[WORLD] -\n",
      "{u'indy0': [[1.8796917395085697, 2.1800983463013788, 0.5885073346085734], [0, 0, 4.747721242625231]], u'panda1': [[2.093054805839833, 0.9446336318941142, 0.5409397859253333], [0, 0, 3.9230058692960204]]}\n"
     ]
    },
    {
     "name": "stderr",
     "output_type": "stream",
     "text": [
      "Unknown tag \"hardwareInterface\" in /robot[@name='custom_robots']/transmission[@name='indy0_tran0']/actuator[@name='indy0_motor0']\n",
      "Unknown tag \"hardwareInterface\" in /robot[@name='custom_robots']/transmission[@name='indy0_tran1']/actuator[@name='indy0_motor1']\n",
      "Unknown tag \"hardwareInterface\" in /robot[@name='custom_robots']/transmission[@name='indy0_tran2']/actuator[@name='indy0_motor2']\n",
      "Unknown tag \"hardwareInterface\" in /robot[@name='custom_robots']/transmission[@name='indy0_tran3']/actuator[@name='indy0_motor3']\n",
      "Unknown tag \"hardwareInterface\" in /robot[@name='custom_robots']/transmission[@name='indy0_tran4']/actuator[@name='indy0_motor4']\n",
      "Unknown tag \"hardwareInterface\" in /robot[@name='custom_robots']/transmission[@name='indy0_tran5']/actuator[@name='indy0_motor5']\n"
     ]
    },
    {
     "name": "stdout",
     "output_type": "stream",
     "text": [
      "[BEGIN] 20201212-232318 - WORLD-20201212-232318 - SCENE-20201212-232320 - 20201212-232333.json ===============\n",
      "DONE: 24/6119\n",
      "scene size: 3375 (15,15,15)\n",
      "[WORLD] -\n",
      "{u'indy0': [[1.8796917395085697, 2.1800983463013788, 0.5885073346085734], [0, 0, 4.747721242625231]], u'panda1': [[2.093054805839833, 0.9446336318941142, 0.5409397859253333], [0, 0, 3.9230058692960204]]}\n"
     ]
    },
    {
     "name": "stderr",
     "output_type": "stream",
     "text": [
      "Unknown tag \"hardwareInterface\" in /robot[@name='custom_robots']/transmission[@name='indy0_tran0']/actuator[@name='indy0_motor0']\n",
      "Unknown tag \"hardwareInterface\" in /robot[@name='custom_robots']/transmission[@name='indy0_tran1']/actuator[@name='indy0_motor1']\n",
      "Unknown tag \"hardwareInterface\" in /robot[@name='custom_robots']/transmission[@name='indy0_tran2']/actuator[@name='indy0_motor2']\n",
      "Unknown tag \"hardwareInterface\" in /robot[@name='custom_robots']/transmission[@name='indy0_tran3']/actuator[@name='indy0_motor3']\n",
      "Unknown tag \"hardwareInterface\" in /robot[@name='custom_robots']/transmission[@name='indy0_tran4']/actuator[@name='indy0_motor4']\n",
      "Unknown tag \"hardwareInterface\" in /robot[@name='custom_robots']/transmission[@name='indy0_tran5']/actuator[@name='indy0_motor5']\n"
     ]
    },
    {
     "name": "stdout",
     "output_type": "stream",
     "text": [
      "[BEGIN] 20201212-232318 - WORLD-20201212-232318 - SCENE-20201212-232320 - 20201212-232333.json ===============\n",
      "DONE: 25/6119\n",
      "scene size: 3375 (15,15,15)\n",
      "[WORLD] -\n",
      "{u'indy0': [[1.8796917395085697, 2.1800983463013788, 0.5885073346085734], [0, 0, 4.747721242625231]], u'panda1': [[2.093054805839833, 0.9446336318941142, 0.5409397859253333], [0, 0, 3.9230058692960204]]}\n"
     ]
    },
    {
     "name": "stderr",
     "output_type": "stream",
     "text": [
      "Unknown tag \"hardwareInterface\" in /robot[@name='custom_robots']/transmission[@name='indy0_tran0']/actuator[@name='indy0_motor0']\n",
      "Unknown tag \"hardwareInterface\" in /robot[@name='custom_robots']/transmission[@name='indy0_tran1']/actuator[@name='indy0_motor1']\n",
      "Unknown tag \"hardwareInterface\" in /robot[@name='custom_robots']/transmission[@name='indy0_tran2']/actuator[@name='indy0_motor2']\n",
      "Unknown tag \"hardwareInterface\" in /robot[@name='custom_robots']/transmission[@name='indy0_tran3']/actuator[@name='indy0_motor3']\n",
      "Unknown tag \"hardwareInterface\" in /robot[@name='custom_robots']/transmission[@name='indy0_tran4']/actuator[@name='indy0_motor4']\n",
      "Unknown tag \"hardwareInterface\" in /robot[@name='custom_robots']/transmission[@name='indy0_tran5']/actuator[@name='indy0_motor5']\n"
     ]
    },
    {
     "name": "stdout",
     "output_type": "stream",
     "text": [
      "[BEGIN] 20201212-232318 - WORLD-20201212-232318 - SCENE-20201212-232320 - 20201212-232333.json ===============\n",
      "DONE: 26/6119\n",
      "scene size: 3375 (15,15,15)\n",
      "[WORLD] -\n",
      "{u'indy0': [[1.8796917395085697, 2.1800983463013788, 0.5885073346085734], [0, 0, 4.747721242625231]], u'panda1': [[2.093054805839833, 0.9446336318941142, 0.5409397859253333], [0, 0, 3.9230058692960204]]}\n"
     ]
    },
    {
     "name": "stderr",
     "output_type": "stream",
     "text": [
      "Unknown tag \"hardwareInterface\" in /robot[@name='custom_robots']/transmission[@name='indy0_tran0']/actuator[@name='indy0_motor0']\n",
      "Unknown tag \"hardwareInterface\" in /robot[@name='custom_robots']/transmission[@name='indy0_tran1']/actuator[@name='indy0_motor1']\n",
      "Unknown tag \"hardwareInterface\" in /robot[@name='custom_robots']/transmission[@name='indy0_tran2']/actuator[@name='indy0_motor2']\n",
      "Unknown tag \"hardwareInterface\" in /robot[@name='custom_robots']/transmission[@name='indy0_tran3']/actuator[@name='indy0_motor3']\n",
      "Unknown tag \"hardwareInterface\" in /robot[@name='custom_robots']/transmission[@name='indy0_tran4']/actuator[@name='indy0_motor4']\n",
      "Unknown tag \"hardwareInterface\" in /robot[@name='custom_robots']/transmission[@name='indy0_tran5']/actuator[@name='indy0_motor5']\n"
     ]
    },
    {
     "name": "stdout",
     "output_type": "stream",
     "text": [
      "[BEGIN] 20201212-232318 - WORLD-20201212-232318 - SCENE-20201212-232320 - 20201212-232333.json ===============\n",
      "DONE: 27/6119\n",
      "scene size: 3375 (15,15,15)\n",
      "[WORLD] -\n",
      "{u'indy0': [[1.8796917395085697, 2.1800983463013788, 0.5885073346085734], [0, 0, 4.747721242625231]], u'panda1': [[2.093054805839833, 0.9446336318941142, 0.5409397859253333], [0, 0, 3.9230058692960204]]}\n"
     ]
    },
    {
     "name": "stderr",
     "output_type": "stream",
     "text": [
      "Unknown tag \"hardwareInterface\" in /robot[@name='custom_robots']/transmission[@name='indy0_tran0']/actuator[@name='indy0_motor0']\n",
      "Unknown tag \"hardwareInterface\" in /robot[@name='custom_robots']/transmission[@name='indy0_tran1']/actuator[@name='indy0_motor1']\n",
      "Unknown tag \"hardwareInterface\" in /robot[@name='custom_robots']/transmission[@name='indy0_tran2']/actuator[@name='indy0_motor2']\n",
      "Unknown tag \"hardwareInterface\" in /robot[@name='custom_robots']/transmission[@name='indy0_tran3']/actuator[@name='indy0_motor3']\n",
      "Unknown tag \"hardwareInterface\" in /robot[@name='custom_robots']/transmission[@name='indy0_tran4']/actuator[@name='indy0_motor4']\n",
      "Unknown tag \"hardwareInterface\" in /robot[@name='custom_robots']/transmission[@name='indy0_tran5']/actuator[@name='indy0_motor5']\n"
     ]
    },
    {
     "name": "stdout",
     "output_type": "stream",
     "text": [
      "[BEGIN] 20201212-232318 - WORLD-20201212-232318 - SCENE-20201212-232320 - 20201212-232333.json ===============\n",
      "DONE: 28/6119\n",
      "scene size: 3375 (15,15,15)\n",
      "[WORLD] -\n",
      "{u'indy0': [[1.8796917395085697, 2.1800983463013788, 0.5885073346085734], [0, 0, 4.747721242625231]], u'panda1': [[2.093054805839833, 0.9446336318941142, 0.5409397859253333], [0, 0, 3.9230058692960204]]}\n"
     ]
    },
    {
     "name": "stderr",
     "output_type": "stream",
     "text": [
      "Unknown tag \"hardwareInterface\" in /robot[@name='custom_robots']/transmission[@name='indy0_tran0']/actuator[@name='indy0_motor0']\n",
      "Unknown tag \"hardwareInterface\" in /robot[@name='custom_robots']/transmission[@name='indy0_tran1']/actuator[@name='indy0_motor1']\n",
      "Unknown tag \"hardwareInterface\" in /robot[@name='custom_robots']/transmission[@name='indy0_tran2']/actuator[@name='indy0_motor2']\n",
      "Unknown tag \"hardwareInterface\" in /robot[@name='custom_robots']/transmission[@name='indy0_tran3']/actuator[@name='indy0_motor3']\n",
      "Unknown tag \"hardwareInterface\" in /robot[@name='custom_robots']/transmission[@name='indy0_tran4']/actuator[@name='indy0_motor4']\n",
      "Unknown tag \"hardwareInterface\" in /robot[@name='custom_robots']/transmission[@name='indy0_tran5']/actuator[@name='indy0_motor5']\n"
     ]
    },
    {
     "name": "stdout",
     "output_type": "stream",
     "text": [
      "[BEGIN] 20201212-232318 - WORLD-20201212-232318 - SCENE-20201212-232320 - 20201212-232333.json ===============\n",
      "DONE: 29/6119\n",
      "scene size: 3375 (15,15,15)\n",
      "[WORLD] -\n",
      "{u'indy0': [[1.8796917395085697, 2.1800983463013788, 0.5885073346085734], [0, 0, 4.747721242625231]], u'panda1': [[2.093054805839833, 0.9446336318941142, 0.5409397859253333], [0, 0, 3.9230058692960204]]}\n"
     ]
    },
    {
     "name": "stderr",
     "output_type": "stream",
     "text": [
      "Unknown tag \"hardwareInterface\" in /robot[@name='custom_robots']/transmission[@name='indy0_tran0']/actuator[@name='indy0_motor0']\n",
      "Unknown tag \"hardwareInterface\" in /robot[@name='custom_robots']/transmission[@name='indy0_tran1']/actuator[@name='indy0_motor1']\n",
      "Unknown tag \"hardwareInterface\" in /robot[@name='custom_robots']/transmission[@name='indy0_tran2']/actuator[@name='indy0_motor2']\n",
      "Unknown tag \"hardwareInterface\" in /robot[@name='custom_robots']/transmission[@name='indy0_tran3']/actuator[@name='indy0_motor3']\n",
      "Unknown tag \"hardwareInterface\" in /robot[@name='custom_robots']/transmission[@name='indy0_tran4']/actuator[@name='indy0_motor4']\n",
      "Unknown tag \"hardwareInterface\" in /robot[@name='custom_robots']/transmission[@name='indy0_tran5']/actuator[@name='indy0_motor5']\n"
     ]
    },
    {
     "name": "stdout",
     "output_type": "stream",
     "text": [
      "[BEGIN] 20201212-232318 - WORLD-20201212-232318 - SCENE-20201212-232320 - 20201212-232333.json ===============\n",
      "DONE: 30/6119\n",
      "scene size: 3375 (15,15,15)\n",
      "[WORLD] -\n",
      "{u'indy0': [[1.8796917395085697, 2.1800983463013788, 0.5885073346085734], [0, 0, 4.747721242625231]], u'panda1': [[2.093054805839833, 0.9446336318941142, 0.5409397859253333], [0, 0, 3.9230058692960204]]}\n"
     ]
    },
    {
     "name": "stderr",
     "output_type": "stream",
     "text": [
      "Unknown tag \"hardwareInterface\" in /robot[@name='custom_robots']/transmission[@name='indy0_tran0']/actuator[@name='indy0_motor0']\n",
      "Unknown tag \"hardwareInterface\" in /robot[@name='custom_robots']/transmission[@name='indy0_tran1']/actuator[@name='indy0_motor1']\n",
      "Unknown tag \"hardwareInterface\" in /robot[@name='custom_robots']/transmission[@name='indy0_tran2']/actuator[@name='indy0_motor2']\n",
      "Unknown tag \"hardwareInterface\" in /robot[@name='custom_robots']/transmission[@name='indy0_tran3']/actuator[@name='indy0_motor3']\n",
      "Unknown tag \"hardwareInterface\" in /robot[@name='custom_robots']/transmission[@name='indy0_tran4']/actuator[@name='indy0_motor4']\n",
      "Unknown tag \"hardwareInterface\" in /robot[@name='custom_robots']/transmission[@name='indy0_tran5']/actuator[@name='indy0_motor5']\n"
     ]
    },
    {
     "name": "stdout",
     "output_type": "stream",
     "text": [
      "[BEGIN] 20201212-232318 - WORLD-20201212-232318 - SCENE-20201212-232320 - 20201212-232333.json ===============\n",
      "DONE: 31/6119\n",
      "scene size: 3375 (15,15,15)\n",
      "[WORLD] -\n",
      "{u'indy0': [[1.8796917395085697, 2.1800983463013788, 0.5885073346085734], [0, 0, 4.747721242625231]], u'panda1': [[2.093054805839833, 0.9446336318941142, 0.5409397859253333], [0, 0, 3.9230058692960204]]}\n"
     ]
    },
    {
     "name": "stderr",
     "output_type": "stream",
     "text": [
      "Unknown tag \"hardwareInterface\" in /robot[@name='custom_robots']/transmission[@name='indy0_tran0']/actuator[@name='indy0_motor0']\n",
      "Unknown tag \"hardwareInterface\" in /robot[@name='custom_robots']/transmission[@name='indy0_tran1']/actuator[@name='indy0_motor1']\n",
      "Unknown tag \"hardwareInterface\" in /robot[@name='custom_robots']/transmission[@name='indy0_tran2']/actuator[@name='indy0_motor2']\n",
      "Unknown tag \"hardwareInterface\" in /robot[@name='custom_robots']/transmission[@name='indy0_tran3']/actuator[@name='indy0_motor3']\n",
      "Unknown tag \"hardwareInterface\" in /robot[@name='custom_robots']/transmission[@name='indy0_tran4']/actuator[@name='indy0_motor4']\n",
      "Unknown tag \"hardwareInterface\" in /robot[@name='custom_robots']/transmission[@name='indy0_tran5']/actuator[@name='indy0_motor5']\n"
     ]
    },
    {
     "name": "stdout",
     "output_type": "stream",
     "text": [
      "[BEGIN] 20201212-232318 - WORLD-20201212-232318 - SCENE-20201212-232320 - 20201212-232333.json ===============\n",
      "DONE: 32/6119\n",
      "scene size: 3375 (15,15,15)\n",
      "[WORLD] -\n",
      "{u'indy0': [[1.8796917395085697, 2.1800983463013788, 0.5885073346085734], [0, 0, 4.747721242625231]], u'panda1': [[2.093054805839833, 0.9446336318941142, 0.5409397859253333], [0, 0, 3.9230058692960204]]}\n"
     ]
    },
    {
     "name": "stderr",
     "output_type": "stream",
     "text": [
      "Unknown tag \"hardwareInterface\" in /robot[@name='custom_robots']/transmission[@name='indy0_tran0']/actuator[@name='indy0_motor0']\n",
      "Unknown tag \"hardwareInterface\" in /robot[@name='custom_robots']/transmission[@name='indy0_tran1']/actuator[@name='indy0_motor1']\n",
      "Unknown tag \"hardwareInterface\" in /robot[@name='custom_robots']/transmission[@name='indy0_tran2']/actuator[@name='indy0_motor2']\n",
      "Unknown tag \"hardwareInterface\" in /robot[@name='custom_robots']/transmission[@name='indy0_tran3']/actuator[@name='indy0_motor3']\n",
      "Unknown tag \"hardwareInterface\" in /robot[@name='custom_robots']/transmission[@name='indy0_tran4']/actuator[@name='indy0_motor4']\n",
      "Unknown tag \"hardwareInterface\" in /robot[@name='custom_robots']/transmission[@name='indy0_tran5']/actuator[@name='indy0_motor5']\n"
     ]
    },
    {
     "name": "stdout",
     "output_type": "stream",
     "text": [
      "[BEGIN] 20201212-232318 - WORLD-20201212-232318 - SCENE-20201212-232320 - 20201212-232333.json ===============\n",
      "DONE: 33/6119\n",
      "scene size: 3375 (15,15,15)\n",
      "[WORLD] -\n",
      "{u'indy0': [[1.8796917395085697, 2.1800983463013788, 0.5885073346085734], [0, 0, 4.747721242625231]], u'panda1': [[2.093054805839833, 0.9446336318941142, 0.5409397859253333], [0, 0, 3.9230058692960204]]}\n"
     ]
    },
    {
     "name": "stderr",
     "output_type": "stream",
     "text": [
      "Unknown tag \"hardwareInterface\" in /robot[@name='custom_robots']/transmission[@name='indy0_tran0']/actuator[@name='indy0_motor0']\n",
      "Unknown tag \"hardwareInterface\" in /robot[@name='custom_robots']/transmission[@name='indy0_tran1']/actuator[@name='indy0_motor1']\n",
      "Unknown tag \"hardwareInterface\" in /robot[@name='custom_robots']/transmission[@name='indy0_tran2']/actuator[@name='indy0_motor2']\n",
      "Unknown tag \"hardwareInterface\" in /robot[@name='custom_robots']/transmission[@name='indy0_tran3']/actuator[@name='indy0_motor3']\n",
      "Unknown tag \"hardwareInterface\" in /robot[@name='custom_robots']/transmission[@name='indy0_tran4']/actuator[@name='indy0_motor4']\n",
      "Unknown tag \"hardwareInterface\" in /robot[@name='custom_robots']/transmission[@name='indy0_tran5']/actuator[@name='indy0_motor5']\n"
     ]
    },
    {
     "name": "stdout",
     "output_type": "stream",
     "text": [
      "[BEGIN] 20201212-232318 - WORLD-20201212-232318 - SCENE-20201212-232320 - 20201212-232333.json ===============\n",
      "DONE: 34/6119\n",
      "scene size: 3375 (15,15,15)\n",
      "[WORLD] -\n",
      "{u'indy0': [[1.8796917395085697, 2.1800983463013788, 0.5885073346085734], [0, 0, 4.747721242625231]], u'panda1': [[2.093054805839833, 0.9446336318941142, 0.5409397859253333], [0, 0, 3.9230058692960204]]}\n"
     ]
    },
    {
     "name": "stderr",
     "output_type": "stream",
     "text": [
      "Unknown tag \"hardwareInterface\" in /robot[@name='custom_robots']/transmission[@name='indy0_tran0']/actuator[@name='indy0_motor0']\n",
      "Unknown tag \"hardwareInterface\" in /robot[@name='custom_robots']/transmission[@name='indy0_tran1']/actuator[@name='indy0_motor1']\n",
      "Unknown tag \"hardwareInterface\" in /robot[@name='custom_robots']/transmission[@name='indy0_tran2']/actuator[@name='indy0_motor2']\n",
      "Unknown tag \"hardwareInterface\" in /robot[@name='custom_robots']/transmission[@name='indy0_tran3']/actuator[@name='indy0_motor3']\n",
      "Unknown tag \"hardwareInterface\" in /robot[@name='custom_robots']/transmission[@name='indy0_tran4']/actuator[@name='indy0_motor4']\n",
      "Unknown tag \"hardwareInterface\" in /robot[@name='custom_robots']/transmission[@name='indy0_tran5']/actuator[@name='indy0_motor5']\n"
     ]
    },
    {
     "name": "stdout",
     "output_type": "stream",
     "text": [
      "[BEGIN] 20201212-232318 - WORLD-20201212-232318 - SCENE-20201212-232320 - 20201212-232333.json ===============\n",
      "DONE: 35/6119\n",
      "scene size: 3375 (15,15,15)\n",
      "[WORLD] -\n",
      "{u'indy0': [[1.8796917395085697, 2.1800983463013788, 0.5885073346085734], [0, 0, 4.747721242625231]], u'panda1': [[2.093054805839833, 0.9446336318941142, 0.5409397859253333], [0, 0, 3.9230058692960204]]}\n"
     ]
    },
    {
     "name": "stderr",
     "output_type": "stream",
     "text": [
      "Unknown tag \"hardwareInterface\" in /robot[@name='custom_robots']/transmission[@name='indy0_tran0']/actuator[@name='indy0_motor0']\n",
      "Unknown tag \"hardwareInterface\" in /robot[@name='custom_robots']/transmission[@name='indy0_tran1']/actuator[@name='indy0_motor1']\n",
      "Unknown tag \"hardwareInterface\" in /robot[@name='custom_robots']/transmission[@name='indy0_tran2']/actuator[@name='indy0_motor2']\n",
      "Unknown tag \"hardwareInterface\" in /robot[@name='custom_robots']/transmission[@name='indy0_tran3']/actuator[@name='indy0_motor3']\n",
      "Unknown tag \"hardwareInterface\" in /robot[@name='custom_robots']/transmission[@name='indy0_tran4']/actuator[@name='indy0_motor4']\n",
      "Unknown tag \"hardwareInterface\" in /robot[@name='custom_robots']/transmission[@name='indy0_tran5']/actuator[@name='indy0_motor5']\n"
     ]
    },
    {
     "name": "stdout",
     "output_type": "stream",
     "text": [
      "[BEGIN] 20201212-232318 - WORLD-20201212-232318 - SCENE-20201212-232320 - 20201212-232333.json ===============\n",
      "DONE: 36/6119\n",
      "scene size: 3375 (15,15,15)\n",
      "[WORLD] -\n",
      "{u'indy0': [[1.8796917395085697, 2.1800983463013788, 0.5885073346085734], [0, 0, 4.747721242625231]], u'panda1': [[2.093054805839833, 0.9446336318941142, 0.5409397859253333], [0, 0, 3.9230058692960204]]}\n"
     ]
    },
    {
     "name": "stderr",
     "output_type": "stream",
     "text": [
      "Unknown tag \"hardwareInterface\" in /robot[@name='custom_robots']/transmission[@name='indy0_tran0']/actuator[@name='indy0_motor0']\n",
      "Unknown tag \"hardwareInterface\" in /robot[@name='custom_robots']/transmission[@name='indy0_tran1']/actuator[@name='indy0_motor1']\n",
      "Unknown tag \"hardwareInterface\" in /robot[@name='custom_robots']/transmission[@name='indy0_tran2']/actuator[@name='indy0_motor2']\n",
      "Unknown tag \"hardwareInterface\" in /robot[@name='custom_robots']/transmission[@name='indy0_tran3']/actuator[@name='indy0_motor3']\n",
      "Unknown tag \"hardwareInterface\" in /robot[@name='custom_robots']/transmission[@name='indy0_tran4']/actuator[@name='indy0_motor4']\n",
      "Unknown tag \"hardwareInterface\" in /robot[@name='custom_robots']/transmission[@name='indy0_tran5']/actuator[@name='indy0_motor5']\n"
     ]
    },
    {
     "name": "stdout",
     "output_type": "stream",
     "text": [
      "[BEGIN] 20201212-232318 - WORLD-20201212-232318 - SCENE-20201212-232320 - 20201212-232333.json ===============\n",
      "DONE: 37/6119\n",
      "scene size: 3375 (15,15,15)\n",
      "[WORLD] -\n",
      "{u'indy0': [[1.8796917395085697, 2.1800983463013788, 0.5885073346085734], [0, 0, 4.747721242625231]], u'panda1': [[2.093054805839833, 0.9446336318941142, 0.5409397859253333], [0, 0, 3.9230058692960204]]}\n"
     ]
    },
    {
     "name": "stderr",
     "output_type": "stream",
     "text": [
      "Unknown tag \"hardwareInterface\" in /robot[@name='custom_robots']/transmission[@name='indy0_tran0']/actuator[@name='indy0_motor0']\n",
      "Unknown tag \"hardwareInterface\" in /robot[@name='custom_robots']/transmission[@name='indy0_tran1']/actuator[@name='indy0_motor1']\n",
      "Unknown tag \"hardwareInterface\" in /robot[@name='custom_robots']/transmission[@name='indy0_tran2']/actuator[@name='indy0_motor2']\n",
      "Unknown tag \"hardwareInterface\" in /robot[@name='custom_robots']/transmission[@name='indy0_tran3']/actuator[@name='indy0_motor3']\n",
      "Unknown tag \"hardwareInterface\" in /robot[@name='custom_robots']/transmission[@name='indy0_tran4']/actuator[@name='indy0_motor4']\n",
      "Unknown tag \"hardwareInterface\" in /robot[@name='custom_robots']/transmission[@name='indy0_tran5']/actuator[@name='indy0_motor5']\n"
     ]
    },
    {
     "name": "stdout",
     "output_type": "stream",
     "text": [
      "[BEGIN] 20201212-232318 - WORLD-20201212-232318 - SCENE-20201212-232320 - 20201212-232333.json ===============\n",
      "DONE: 38/6119\n",
      "scene size: 3375 (15,15,15)\n",
      "[WORLD] -\n",
      "{u'indy0': [[1.8796917395085697, 2.1800983463013788, 0.5885073346085734], [0, 0, 4.747721242625231]], u'panda1': [[2.093054805839833, 0.9446336318941142, 0.5409397859253333], [0, 0, 3.9230058692960204]]}\n"
     ]
    },
    {
     "name": "stderr",
     "output_type": "stream",
     "text": [
      "Unknown tag \"hardwareInterface\" in /robot[@name='custom_robots']/transmission[@name='indy0_tran0']/actuator[@name='indy0_motor0']\n",
      "Unknown tag \"hardwareInterface\" in /robot[@name='custom_robots']/transmission[@name='indy0_tran1']/actuator[@name='indy0_motor1']\n",
      "Unknown tag \"hardwareInterface\" in /robot[@name='custom_robots']/transmission[@name='indy0_tran2']/actuator[@name='indy0_motor2']\n",
      "Unknown tag \"hardwareInterface\" in /robot[@name='custom_robots']/transmission[@name='indy0_tran3']/actuator[@name='indy0_motor3']\n",
      "Unknown tag \"hardwareInterface\" in /robot[@name='custom_robots']/transmission[@name='indy0_tran4']/actuator[@name='indy0_motor4']\n",
      "Unknown tag \"hardwareInterface\" in /robot[@name='custom_robots']/transmission[@name='indy0_tran5']/actuator[@name='indy0_motor5']\n"
     ]
    },
    {
     "name": "stdout",
     "output_type": "stream",
     "text": [
      "[BEGIN] 20201212-232318 - WORLD-20201212-232318 - SCENE-20201212-232320 - 20201212-232333.json ===============\n",
      "DONE: 39/6119\n",
      "scene size: 3375 (15,15,15)\n",
      "[WORLD] -\n",
      "{u'indy0': [[1.8796917395085697, 2.1800983463013788, 0.5885073346085734], [0, 0, 4.747721242625231]], u'panda1': [[2.093054805839833, 0.9446336318941142, 0.5409397859253333], [0, 0, 3.9230058692960204]]}\n"
     ]
    },
    {
     "name": "stderr",
     "output_type": "stream",
     "text": [
      "Unknown tag \"hardwareInterface\" in /robot[@name='custom_robots']/transmission[@name='indy0_tran0']/actuator[@name='indy0_motor0']\n",
      "Unknown tag \"hardwareInterface\" in /robot[@name='custom_robots']/transmission[@name='indy0_tran1']/actuator[@name='indy0_motor1']\n",
      "Unknown tag \"hardwareInterface\" in /robot[@name='custom_robots']/transmission[@name='indy0_tran2']/actuator[@name='indy0_motor2']\n",
      "Unknown tag \"hardwareInterface\" in /robot[@name='custom_robots']/transmission[@name='indy0_tran3']/actuator[@name='indy0_motor3']\n",
      "Unknown tag \"hardwareInterface\" in /robot[@name='custom_robots']/transmission[@name='indy0_tran4']/actuator[@name='indy0_motor4']\n",
      "Unknown tag \"hardwareInterface\" in /robot[@name='custom_robots']/transmission[@name='indy0_tran5']/actuator[@name='indy0_motor5']\n"
     ]
    },
    {
     "name": "stdout",
     "output_type": "stream",
     "text": [
      "[BEGIN] 20201212-232318 - WORLD-20201212-232318 - SCENE-20201212-232320 - 20201212-232333.json ===============\n",
      "DONE: 40/6119\n",
      "scene size: 3375 (15,15,15)\n",
      "[WORLD] -\n",
      "{u'indy0': [[1.8796917395085697, 2.1800983463013788, 0.5885073346085734], [0, 0, 4.747721242625231]], u'panda1': [[2.093054805839833, 0.9446336318941142, 0.5409397859253333], [0, 0, 3.9230058692960204]]}\n"
     ]
    },
    {
     "name": "stderr",
     "output_type": "stream",
     "text": [
      "Unknown tag \"hardwareInterface\" in /robot[@name='custom_robots']/transmission[@name='indy0_tran0']/actuator[@name='indy0_motor0']\n",
      "Unknown tag \"hardwareInterface\" in /robot[@name='custom_robots']/transmission[@name='indy0_tran1']/actuator[@name='indy0_motor1']\n",
      "Unknown tag \"hardwareInterface\" in /robot[@name='custom_robots']/transmission[@name='indy0_tran2']/actuator[@name='indy0_motor2']\n",
      "Unknown tag \"hardwareInterface\" in /robot[@name='custom_robots']/transmission[@name='indy0_tran3']/actuator[@name='indy0_motor3']\n",
      "Unknown tag \"hardwareInterface\" in /robot[@name='custom_robots']/transmission[@name='indy0_tran4']/actuator[@name='indy0_motor4']\n",
      "Unknown tag \"hardwareInterface\" in /robot[@name='custom_robots']/transmission[@name='indy0_tran5']/actuator[@name='indy0_motor5']\n"
     ]
    },
    {
     "name": "stdout",
     "output_type": "stream",
     "text": [
      "[BEGIN] 20201212-232318 - WORLD-20201212-232318 - SCENE-20201212-232320 - 20201212-232333.json ===============\n",
      "DONE: 41/6119\n",
      "scene size: 3375 (15,15,15)\n",
      "[WORLD] -\n",
      "{u'indy0': [[1.8796917395085697, 2.1800983463013788, 0.5885073346085734], [0, 0, 4.747721242625231]], u'panda1': [[2.093054805839833, 0.9446336318941142, 0.5409397859253333], [0, 0, 3.9230058692960204]]}\n"
     ]
    },
    {
     "name": "stderr",
     "output_type": "stream",
     "text": [
      "Unknown tag \"hardwareInterface\" in /robot[@name='custom_robots']/transmission[@name='indy0_tran0']/actuator[@name='indy0_motor0']\n",
      "Unknown tag \"hardwareInterface\" in /robot[@name='custom_robots']/transmission[@name='indy0_tran1']/actuator[@name='indy0_motor1']\n",
      "Unknown tag \"hardwareInterface\" in /robot[@name='custom_robots']/transmission[@name='indy0_tran2']/actuator[@name='indy0_motor2']\n",
      "Unknown tag \"hardwareInterface\" in /robot[@name='custom_robots']/transmission[@name='indy0_tran3']/actuator[@name='indy0_motor3']\n",
      "Unknown tag \"hardwareInterface\" in /robot[@name='custom_robots']/transmission[@name='indy0_tran4']/actuator[@name='indy0_motor4']\n",
      "Unknown tag \"hardwareInterface\" in /robot[@name='custom_robots']/transmission[@name='indy0_tran5']/actuator[@name='indy0_motor5']\n"
     ]
    },
    {
     "name": "stdout",
     "output_type": "stream",
     "text": [
      "[BEGIN] 20201212-232318 - WORLD-20201212-232318 - SCENE-20201212-232320 - 20201212-232344.json ===============\n",
      "DONE: 42/6119\n",
      "scene size: 3375 (15,15,15)\n",
      "[WORLD] -\n",
      "{u'indy0': [[1.8796917395085697, 2.1800983463013788, 0.5885073346085734], [0, 0, 4.747721242625231]], u'panda1': [[2.093054805839833, 0.9446336318941142, 0.5409397859253333], [0, 0, 3.9230058692960204]]}\n"
     ]
    },
    {
     "name": "stderr",
     "output_type": "stream",
     "text": [
      "Unknown tag \"hardwareInterface\" in /robot[@name='custom_robots']/transmission[@name='indy0_tran0']/actuator[@name='indy0_motor0']\n",
      "Unknown tag \"hardwareInterface\" in /robot[@name='custom_robots']/transmission[@name='indy0_tran1']/actuator[@name='indy0_motor1']\n",
      "Unknown tag \"hardwareInterface\" in /robot[@name='custom_robots']/transmission[@name='indy0_tran2']/actuator[@name='indy0_motor2']\n",
      "Unknown tag \"hardwareInterface\" in /robot[@name='custom_robots']/transmission[@name='indy0_tran3']/actuator[@name='indy0_motor3']\n",
      "Unknown tag \"hardwareInterface\" in /robot[@name='custom_robots']/transmission[@name='indy0_tran4']/actuator[@name='indy0_motor4']\n",
      "Unknown tag \"hardwareInterface\" in /robot[@name='custom_robots']/transmission[@name='indy0_tran5']/actuator[@name='indy0_motor5']\n"
     ]
    },
    {
     "name": "stdout",
     "output_type": "stream",
     "text": [
      "[BEGIN] 20201212-232318 - WORLD-20201212-232318 - SCENE-20201212-232320 - 20201212-232344.json ===============\n",
      "DONE: 43/6119\n",
      "scene size: 3375 (15,15,15)\n",
      "[WORLD] -\n",
      "{u'indy0': [[1.8796917395085697, 2.1800983463013788, 0.5885073346085734], [0, 0, 4.747721242625231]], u'panda1': [[2.093054805839833, 0.9446336318941142, 0.5409397859253333], [0, 0, 3.9230058692960204]]}\n"
     ]
    },
    {
     "name": "stderr",
     "output_type": "stream",
     "text": [
      "Unknown tag \"hardwareInterface\" in /robot[@name='custom_robots']/transmission[@name='indy0_tran0']/actuator[@name='indy0_motor0']\n",
      "Unknown tag \"hardwareInterface\" in /robot[@name='custom_robots']/transmission[@name='indy0_tran1']/actuator[@name='indy0_motor1']\n",
      "Unknown tag \"hardwareInterface\" in /robot[@name='custom_robots']/transmission[@name='indy0_tran2']/actuator[@name='indy0_motor2']\n",
      "Unknown tag \"hardwareInterface\" in /robot[@name='custom_robots']/transmission[@name='indy0_tran3']/actuator[@name='indy0_motor3']\n",
      "Unknown tag \"hardwareInterface\" in /robot[@name='custom_robots']/transmission[@name='indy0_tran4']/actuator[@name='indy0_motor4']\n",
      "Unknown tag \"hardwareInterface\" in /robot[@name='custom_robots']/transmission[@name='indy0_tran5']/actuator[@name='indy0_motor5']\n"
     ]
    },
    {
     "name": "stdout",
     "output_type": "stream",
     "text": [
      "[BEGIN] 20201212-232318 - WORLD-20201212-232318 - SCENE-20201212-232320 - 20201212-232344.json ===============\n",
      "DONE: 44/6119\n",
      "scene size: 3375 (15,15,15)\n",
      "[WORLD] -\n",
      "{u'indy0': [[1.8796917395085697, 2.1800983463013788, 0.5885073346085734], [0, 0, 4.747721242625231]], u'panda1': [[2.093054805839833, 0.9446336318941142, 0.5409397859253333], [0, 0, 3.9230058692960204]]}\n"
     ]
    },
    {
     "name": "stderr",
     "output_type": "stream",
     "text": [
      "Unknown tag \"hardwareInterface\" in /robot[@name='custom_robots']/transmission[@name='indy0_tran0']/actuator[@name='indy0_motor0']\n",
      "Unknown tag \"hardwareInterface\" in /robot[@name='custom_robots']/transmission[@name='indy0_tran1']/actuator[@name='indy0_motor1']\n",
      "Unknown tag \"hardwareInterface\" in /robot[@name='custom_robots']/transmission[@name='indy0_tran2']/actuator[@name='indy0_motor2']\n",
      "Unknown tag \"hardwareInterface\" in /robot[@name='custom_robots']/transmission[@name='indy0_tran3']/actuator[@name='indy0_motor3']\n",
      "Unknown tag \"hardwareInterface\" in /robot[@name='custom_robots']/transmission[@name='indy0_tran4']/actuator[@name='indy0_motor4']\n",
      "Unknown tag \"hardwareInterface\" in /robot[@name='custom_robots']/transmission[@name='indy0_tran5']/actuator[@name='indy0_motor5']\n"
     ]
    },
    {
     "name": "stdout",
     "output_type": "stream",
     "text": [
      "[BEGIN] 20201212-232318 - WORLD-20201212-232318 - SCENE-20201212-232320 - 20201212-232344.json ===============\n",
      "DONE: 45/6119\n",
      "scene size: 3375 (15,15,15)\n",
      "[WORLD] -\n",
      "{u'indy0': [[1.8796917395085697, 2.1800983463013788, 0.5885073346085734], [0, 0, 4.747721242625231]], u'panda1': [[2.093054805839833, 0.9446336318941142, 0.5409397859253333], [0, 0, 3.9230058692960204]]}\n"
     ]
    },
    {
     "name": "stderr",
     "output_type": "stream",
     "text": [
      "Unknown tag \"hardwareInterface\" in /robot[@name='custom_robots']/transmission[@name='indy0_tran0']/actuator[@name='indy0_motor0']\n",
      "Unknown tag \"hardwareInterface\" in /robot[@name='custom_robots']/transmission[@name='indy0_tran1']/actuator[@name='indy0_motor1']\n",
      "Unknown tag \"hardwareInterface\" in /robot[@name='custom_robots']/transmission[@name='indy0_tran2']/actuator[@name='indy0_motor2']\n",
      "Unknown tag \"hardwareInterface\" in /robot[@name='custom_robots']/transmission[@name='indy0_tran3']/actuator[@name='indy0_motor3']\n",
      "Unknown tag \"hardwareInterface\" in /robot[@name='custom_robots']/transmission[@name='indy0_tran4']/actuator[@name='indy0_motor4']\n",
      "Unknown tag \"hardwareInterface\" in /robot[@name='custom_robots']/transmission[@name='indy0_tran5']/actuator[@name='indy0_motor5']\n"
     ]
    },
    {
     "name": "stdout",
     "output_type": "stream",
     "text": [
      "[BEGIN] 20201212-232318 - WORLD-20201212-232318 - SCENE-20201212-232320 - 20201212-232344.json ===============\n",
      "DONE: 46/6119\n",
      "scene size: 3375 (15,15,15)\n",
      "[WORLD] -\n",
      "{u'indy0': [[1.8796917395085697, 2.1800983463013788, 0.5885073346085734], [0, 0, 4.747721242625231]], u'panda1': [[2.093054805839833, 0.9446336318941142, 0.5409397859253333], [0, 0, 3.9230058692960204]]}\n"
     ]
    },
    {
     "name": "stderr",
     "output_type": "stream",
     "text": [
      "Unknown tag \"hardwareInterface\" in /robot[@name='custom_robots']/transmission[@name='indy0_tran0']/actuator[@name='indy0_motor0']\n",
      "Unknown tag \"hardwareInterface\" in /robot[@name='custom_robots']/transmission[@name='indy0_tran1']/actuator[@name='indy0_motor1']\n",
      "Unknown tag \"hardwareInterface\" in /robot[@name='custom_robots']/transmission[@name='indy0_tran2']/actuator[@name='indy0_motor2']\n",
      "Unknown tag \"hardwareInterface\" in /robot[@name='custom_robots']/transmission[@name='indy0_tran3']/actuator[@name='indy0_motor3']\n",
      "Unknown tag \"hardwareInterface\" in /robot[@name='custom_robots']/transmission[@name='indy0_tran4']/actuator[@name='indy0_motor4']\n",
      "Unknown tag \"hardwareInterface\" in /robot[@name='custom_robots']/transmission[@name='indy0_tran5']/actuator[@name='indy0_motor5']\n"
     ]
    },
    {
     "name": "stdout",
     "output_type": "stream",
     "text": [
      "[BEGIN] 20201212-232318 - WORLD-20201212-232318 - SCENE-20201212-232320 - 20201212-232344.json ===============\n",
      "DONE: 47/6119\n",
      "scene size: 3375 (15,15,15)\n",
      "[WORLD] -\n",
      "{u'indy0': [[1.8796917395085697, 2.1800983463013788, 0.5885073346085734], [0, 0, 4.747721242625231]], u'panda1': [[2.093054805839833, 0.9446336318941142, 0.5409397859253333], [0, 0, 3.9230058692960204]]}\n"
     ]
    },
    {
     "name": "stderr",
     "output_type": "stream",
     "text": [
      "Unknown tag \"hardwareInterface\" in /robot[@name='custom_robots']/transmission[@name='indy0_tran0']/actuator[@name='indy0_motor0']\n",
      "Unknown tag \"hardwareInterface\" in /robot[@name='custom_robots']/transmission[@name='indy0_tran1']/actuator[@name='indy0_motor1']\n",
      "Unknown tag \"hardwareInterface\" in /robot[@name='custom_robots']/transmission[@name='indy0_tran2']/actuator[@name='indy0_motor2']\n",
      "Unknown tag \"hardwareInterface\" in /robot[@name='custom_robots']/transmission[@name='indy0_tran3']/actuator[@name='indy0_motor3']\n",
      "Unknown tag \"hardwareInterface\" in /robot[@name='custom_robots']/transmission[@name='indy0_tran4']/actuator[@name='indy0_motor4']\n",
      "Unknown tag \"hardwareInterface\" in /robot[@name='custom_robots']/transmission[@name='indy0_tran5']/actuator[@name='indy0_motor5']\n"
     ]
    },
    {
     "name": "stdout",
     "output_type": "stream",
     "text": [
      "[BEGIN] 20201212-232318 - WORLD-20201212-232318 - SCENE-20201212-232320 - 20201212-232344.json ===============\n",
      "DONE: 48/6119\n",
      "scene size: 3375 (15,15,15)\n",
      "[WORLD] -\n",
      "{u'indy0': [[1.8796917395085697, 2.1800983463013788, 0.5885073346085734], [0, 0, 4.747721242625231]], u'panda1': [[2.093054805839833, 0.9446336318941142, 0.5409397859253333], [0, 0, 3.9230058692960204]]}\n"
     ]
    },
    {
     "name": "stderr",
     "output_type": "stream",
     "text": [
      "Unknown tag \"hardwareInterface\" in /robot[@name='custom_robots']/transmission[@name='indy0_tran0']/actuator[@name='indy0_motor0']\n",
      "Unknown tag \"hardwareInterface\" in /robot[@name='custom_robots']/transmission[@name='indy0_tran1']/actuator[@name='indy0_motor1']\n",
      "Unknown tag \"hardwareInterface\" in /robot[@name='custom_robots']/transmission[@name='indy0_tran2']/actuator[@name='indy0_motor2']\n",
      "Unknown tag \"hardwareInterface\" in /robot[@name='custom_robots']/transmission[@name='indy0_tran3']/actuator[@name='indy0_motor3']\n",
      "Unknown tag \"hardwareInterface\" in /robot[@name='custom_robots']/transmission[@name='indy0_tran4']/actuator[@name='indy0_motor4']\n",
      "Unknown tag \"hardwareInterface\" in /robot[@name='custom_robots']/transmission[@name='indy0_tran5']/actuator[@name='indy0_motor5']\n"
     ]
    },
    {
     "name": "stdout",
     "output_type": "stream",
     "text": [
      "[BEGIN] 20201212-232318 - WORLD-20201212-232318 - SCENE-20201212-232320 - 20201212-232344.json ===============\n",
      "DONE: 49/6119\n",
      "scene size: 3375 (15,15,15)\n",
      "[WORLD] -\n",
      "{u'indy0': [[1.8796917395085697, 2.1800983463013788, 0.5885073346085734], [0, 0, 4.747721242625231]], u'panda1': [[2.093054805839833, 0.9446336318941142, 0.5409397859253333], [0, 0, 3.9230058692960204]]}\n"
     ]
    },
    {
     "name": "stderr",
     "output_type": "stream",
     "text": [
      "Unknown tag \"hardwareInterface\" in /robot[@name='custom_robots']/transmission[@name='indy0_tran0']/actuator[@name='indy0_motor0']\n",
      "Unknown tag \"hardwareInterface\" in /robot[@name='custom_robots']/transmission[@name='indy0_tran1']/actuator[@name='indy0_motor1']\n",
      "Unknown tag \"hardwareInterface\" in /robot[@name='custom_robots']/transmission[@name='indy0_tran2']/actuator[@name='indy0_motor2']\n",
      "Unknown tag \"hardwareInterface\" in /robot[@name='custom_robots']/transmission[@name='indy0_tran3']/actuator[@name='indy0_motor3']\n",
      "Unknown tag \"hardwareInterface\" in /robot[@name='custom_robots']/transmission[@name='indy0_tran4']/actuator[@name='indy0_motor4']\n",
      "Unknown tag \"hardwareInterface\" in /robot[@name='custom_robots']/transmission[@name='indy0_tran5']/actuator[@name='indy0_motor5']\n"
     ]
    },
    {
     "name": "stdout",
     "output_type": "stream",
     "text": [
      "[BEGIN] 20201212-232318 - WORLD-20201212-232318 - SCENE-20201212-232320 - 20201212-232344.json ===============\n",
      "DONE: 50/6119\n",
      "scene size: 3375 (15,15,15)\n",
      "[WORLD] -\n",
      "{u'indy0': [[1.8796917395085697, 2.1800983463013788, 0.5885073346085734], [0, 0, 4.747721242625231]], u'panda1': [[2.093054805839833, 0.9446336318941142, 0.5409397859253333], [0, 0, 3.9230058692960204]]}\n"
     ]
    },
    {
     "name": "stderr",
     "output_type": "stream",
     "text": [
      "Unknown tag \"hardwareInterface\" in /robot[@name='custom_robots']/transmission[@name='indy0_tran0']/actuator[@name='indy0_motor0']\n",
      "Unknown tag \"hardwareInterface\" in /robot[@name='custom_robots']/transmission[@name='indy0_tran1']/actuator[@name='indy0_motor1']\n",
      "Unknown tag \"hardwareInterface\" in /robot[@name='custom_robots']/transmission[@name='indy0_tran2']/actuator[@name='indy0_motor2']\n",
      "Unknown tag \"hardwareInterface\" in /robot[@name='custom_robots']/transmission[@name='indy0_tran3']/actuator[@name='indy0_motor3']\n",
      "Unknown tag \"hardwareInterface\" in /robot[@name='custom_robots']/transmission[@name='indy0_tran4']/actuator[@name='indy0_motor4']\n",
      "Unknown tag \"hardwareInterface\" in /robot[@name='custom_robots']/transmission[@name='indy0_tran5']/actuator[@name='indy0_motor5']\n"
     ]
    },
    {
     "name": "stdout",
     "output_type": "stream",
     "text": [
      "[BEGIN] 20201212-232318 - WORLD-20201212-232318 - SCENE-20201212-232320 - 20201212-232344.json ===============\n",
      "DONE: 51/6119\n",
      "scene size: 3375 (15,15,15)\n",
      "[WORLD] -\n",
      "{u'indy0': [[1.8796917395085697, 2.1800983463013788, 0.5885073346085734], [0, 0, 4.747721242625231]], u'panda1': [[2.093054805839833, 0.9446336318941142, 0.5409397859253333], [0, 0, 3.9230058692960204]]}\n"
     ]
    },
    {
     "name": "stderr",
     "output_type": "stream",
     "text": [
      "Unknown tag \"hardwareInterface\" in /robot[@name='custom_robots']/transmission[@name='indy0_tran0']/actuator[@name='indy0_motor0']\n",
      "Unknown tag \"hardwareInterface\" in /robot[@name='custom_robots']/transmission[@name='indy0_tran1']/actuator[@name='indy0_motor1']\n",
      "Unknown tag \"hardwareInterface\" in /robot[@name='custom_robots']/transmission[@name='indy0_tran2']/actuator[@name='indy0_motor2']\n",
      "Unknown tag \"hardwareInterface\" in /robot[@name='custom_robots']/transmission[@name='indy0_tran3']/actuator[@name='indy0_motor3']\n",
      "Unknown tag \"hardwareInterface\" in /robot[@name='custom_robots']/transmission[@name='indy0_tran4']/actuator[@name='indy0_motor4']\n",
      "Unknown tag \"hardwareInterface\" in /robot[@name='custom_robots']/transmission[@name='indy0_tran5']/actuator[@name='indy0_motor5']\n"
     ]
    },
    {
     "name": "stdout",
     "output_type": "stream",
     "text": [
      "[BEGIN] 20201212-232318 - WORLD-20201212-232318 - SCENE-20201212-232320 - 20201212-232344.json ===============\n",
      "DONE: 52/6119\n",
      "scene size: 3375 (15,15,15)\n",
      "[WORLD] -\n",
      "{u'indy0': [[1.8796917395085697, 2.1800983463013788, 0.5885073346085734], [0, 0, 4.747721242625231]], u'panda1': [[2.093054805839833, 0.9446336318941142, 0.5409397859253333], [0, 0, 3.9230058692960204]]}\n"
     ]
    },
    {
     "name": "stderr",
     "output_type": "stream",
     "text": [
      "Unknown tag \"hardwareInterface\" in /robot[@name='custom_robots']/transmission[@name='indy0_tran0']/actuator[@name='indy0_motor0']\n",
      "Unknown tag \"hardwareInterface\" in /robot[@name='custom_robots']/transmission[@name='indy0_tran1']/actuator[@name='indy0_motor1']\n",
      "Unknown tag \"hardwareInterface\" in /robot[@name='custom_robots']/transmission[@name='indy0_tran2']/actuator[@name='indy0_motor2']\n",
      "Unknown tag \"hardwareInterface\" in /robot[@name='custom_robots']/transmission[@name='indy0_tran3']/actuator[@name='indy0_motor3']\n",
      "Unknown tag \"hardwareInterface\" in /robot[@name='custom_robots']/transmission[@name='indy0_tran4']/actuator[@name='indy0_motor4']\n",
      "Unknown tag \"hardwareInterface\" in /robot[@name='custom_robots']/transmission[@name='indy0_tran5']/actuator[@name='indy0_motor5']\n"
     ]
    },
    {
     "name": "stdout",
     "output_type": "stream",
     "text": [
      "[BEGIN] 20201212-232318 - WORLD-20201212-232318 - SCENE-20201212-232320 - 20201212-232344.json ===============\n",
      "DONE: 53/6119\n",
      "scene size: 3375 (15,15,15)\n",
      "[WORLD] -\n",
      "{u'indy0': [[1.8796917395085697, 2.1800983463013788, 0.5885073346085734], [0, 0, 4.747721242625231]], u'panda1': [[2.093054805839833, 0.9446336318941142, 0.5409397859253333], [0, 0, 3.9230058692960204]]}\n"
     ]
    },
    {
     "name": "stderr",
     "output_type": "stream",
     "text": [
      "Unknown tag \"hardwareInterface\" in /robot[@name='custom_robots']/transmission[@name='indy0_tran0']/actuator[@name='indy0_motor0']\n",
      "Unknown tag \"hardwareInterface\" in /robot[@name='custom_robots']/transmission[@name='indy0_tran1']/actuator[@name='indy0_motor1']\n",
      "Unknown tag \"hardwareInterface\" in /robot[@name='custom_robots']/transmission[@name='indy0_tran2']/actuator[@name='indy0_motor2']\n",
      "Unknown tag \"hardwareInterface\" in /robot[@name='custom_robots']/transmission[@name='indy0_tran3']/actuator[@name='indy0_motor3']\n",
      "Unknown tag \"hardwareInterface\" in /robot[@name='custom_robots']/transmission[@name='indy0_tran4']/actuator[@name='indy0_motor4']\n",
      "Unknown tag \"hardwareInterface\" in /robot[@name='custom_robots']/transmission[@name='indy0_tran5']/actuator[@name='indy0_motor5']\n"
     ]
    },
    {
     "name": "stdout",
     "output_type": "stream",
     "text": [
      "[BEGIN] 20201212-232318 - WORLD-20201212-232318 - SCENE-20201212-232320 - 20201212-232344.json ===============\n",
      "DONE: 54/6119\n",
      "scene size: 3375 (15,15,15)\n",
      "[WORLD] -\n",
      "{u'indy0': [[1.8796917395085697, 2.1800983463013788, 0.5885073346085734], [0, 0, 4.747721242625231]], u'panda1': [[2.093054805839833, 0.9446336318941142, 0.5409397859253333], [0, 0, 3.9230058692960204]]}\n"
     ]
    },
    {
     "name": "stderr",
     "output_type": "stream",
     "text": [
      "Unknown tag \"hardwareInterface\" in /robot[@name='custom_robots']/transmission[@name='indy0_tran0']/actuator[@name='indy0_motor0']\n",
      "Unknown tag \"hardwareInterface\" in /robot[@name='custom_robots']/transmission[@name='indy0_tran1']/actuator[@name='indy0_motor1']\n",
      "Unknown tag \"hardwareInterface\" in /robot[@name='custom_robots']/transmission[@name='indy0_tran2']/actuator[@name='indy0_motor2']\n",
      "Unknown tag \"hardwareInterface\" in /robot[@name='custom_robots']/transmission[@name='indy0_tran3']/actuator[@name='indy0_motor3']\n",
      "Unknown tag \"hardwareInterface\" in /robot[@name='custom_robots']/transmission[@name='indy0_tran4']/actuator[@name='indy0_motor4']\n",
      "Unknown tag \"hardwareInterface\" in /robot[@name='custom_robots']/transmission[@name='indy0_tran5']/actuator[@name='indy0_motor5']\n"
     ]
    },
    {
     "name": "stdout",
     "output_type": "stream",
     "text": [
      "[BEGIN] 20201212-232318 - WORLD-20201212-232318 - SCENE-20201212-232320 - 20201212-232344.json ===============\n",
      "DONE: 55/6119\n",
      "scene size: 3375 (15,15,15)\n",
      "[WORLD] -\n",
      "{u'indy0': [[1.8796917395085697, 2.1800983463013788, 0.5885073346085734], [0, 0, 4.747721242625231]], u'panda1': [[2.093054805839833, 0.9446336318941142, 0.5409397859253333], [0, 0, 3.9230058692960204]]}\n"
     ]
    },
    {
     "name": "stderr",
     "output_type": "stream",
     "text": [
      "Unknown tag \"hardwareInterface\" in /robot[@name='custom_robots']/transmission[@name='indy0_tran0']/actuator[@name='indy0_motor0']\n",
      "Unknown tag \"hardwareInterface\" in /robot[@name='custom_robots']/transmission[@name='indy0_tran1']/actuator[@name='indy0_motor1']\n",
      "Unknown tag \"hardwareInterface\" in /robot[@name='custom_robots']/transmission[@name='indy0_tran2']/actuator[@name='indy0_motor2']\n",
      "Unknown tag \"hardwareInterface\" in /robot[@name='custom_robots']/transmission[@name='indy0_tran3']/actuator[@name='indy0_motor3']\n",
      "Unknown tag \"hardwareInterface\" in /robot[@name='custom_robots']/transmission[@name='indy0_tran4']/actuator[@name='indy0_motor4']\n",
      "Unknown tag \"hardwareInterface\" in /robot[@name='custom_robots']/transmission[@name='indy0_tran5']/actuator[@name='indy0_motor5']\n"
     ]
    },
    {
     "name": "stdout",
     "output_type": "stream",
     "text": [
      "[BEGIN] 20201212-232318 - WORLD-20201212-232318 - SCENE-20201212-232320 - 20201212-232344.json ===============\n",
      "DONE: 56/6119\n",
      "scene size: 3375 (15,15,15)\n",
      "[WORLD] -\n",
      "{u'indy0': [[1.8796917395085697, 2.1800983463013788, 0.5885073346085734], [0, 0, 4.747721242625231]], u'panda1': [[2.093054805839833, 0.9446336318941142, 0.5409397859253333], [0, 0, 3.9230058692960204]]}\n"
     ]
    },
    {
     "name": "stderr",
     "output_type": "stream",
     "text": [
      "Unknown tag \"hardwareInterface\" in /robot[@name='custom_robots']/transmission[@name='indy0_tran0']/actuator[@name='indy0_motor0']\n",
      "Unknown tag \"hardwareInterface\" in /robot[@name='custom_robots']/transmission[@name='indy0_tran1']/actuator[@name='indy0_motor1']\n",
      "Unknown tag \"hardwareInterface\" in /robot[@name='custom_robots']/transmission[@name='indy0_tran2']/actuator[@name='indy0_motor2']\n",
      "Unknown tag \"hardwareInterface\" in /robot[@name='custom_robots']/transmission[@name='indy0_tran3']/actuator[@name='indy0_motor3']\n",
      "Unknown tag \"hardwareInterface\" in /robot[@name='custom_robots']/transmission[@name='indy0_tran4']/actuator[@name='indy0_motor4']\n",
      "Unknown tag \"hardwareInterface\" in /robot[@name='custom_robots']/transmission[@name='indy0_tran5']/actuator[@name='indy0_motor5']\n"
     ]
    },
    {
     "name": "stdout",
     "output_type": "stream",
     "text": [
      "[BEGIN] 20201212-232318 - WORLD-20201212-232318 - SCENE-20201212-232320 - 20201212-232344.json ===============\n",
      "DONE: 57/6119\n",
      "scene size: 3375 (15,15,15)\n",
      "[WORLD] -\n",
      "{u'indy0': [[1.8796917395085697, 2.1800983463013788, 0.5885073346085734], [0, 0, 4.747721242625231]], u'panda1': [[2.093054805839833, 0.9446336318941142, 0.5409397859253333], [0, 0, 3.9230058692960204]]}\n"
     ]
    },
    {
     "name": "stderr",
     "output_type": "stream",
     "text": [
      "Unknown tag \"hardwareInterface\" in /robot[@name='custom_robots']/transmission[@name='indy0_tran0']/actuator[@name='indy0_motor0']\n",
      "Unknown tag \"hardwareInterface\" in /robot[@name='custom_robots']/transmission[@name='indy0_tran1']/actuator[@name='indy0_motor1']\n",
      "Unknown tag \"hardwareInterface\" in /robot[@name='custom_robots']/transmission[@name='indy0_tran2']/actuator[@name='indy0_motor2']\n",
      "Unknown tag \"hardwareInterface\" in /robot[@name='custom_robots']/transmission[@name='indy0_tran3']/actuator[@name='indy0_motor3']\n",
      "Unknown tag \"hardwareInterface\" in /robot[@name='custom_robots']/transmission[@name='indy0_tran4']/actuator[@name='indy0_motor4']\n",
      "Unknown tag \"hardwareInterface\" in /robot[@name='custom_robots']/transmission[@name='indy0_tran5']/actuator[@name='indy0_motor5']\n"
     ]
    },
    {
     "name": "stdout",
     "output_type": "stream",
     "text": [
      "[BEGIN] 20201212-232318 - WORLD-20201212-232318 - SCENE-20201212-232320 - 20201212-232344.json ===============\n",
      "DONE: 58/6119\n",
      "scene size: 3375 (15,15,15)\n",
      "[WORLD] -\n",
      "{u'indy0': [[1.8796917395085697, 2.1800983463013788, 0.5885073346085734], [0, 0, 4.747721242625231]], u'panda1': [[2.093054805839833, 0.9446336318941142, 0.5409397859253333], [0, 0, 3.9230058692960204]]}\n"
     ]
    },
    {
     "name": "stderr",
     "output_type": "stream",
     "text": [
      "Unknown tag \"hardwareInterface\" in /robot[@name='custom_robots']/transmission[@name='indy0_tran0']/actuator[@name='indy0_motor0']\n",
      "Unknown tag \"hardwareInterface\" in /robot[@name='custom_robots']/transmission[@name='indy0_tran1']/actuator[@name='indy0_motor1']\n",
      "Unknown tag \"hardwareInterface\" in /robot[@name='custom_robots']/transmission[@name='indy0_tran2']/actuator[@name='indy0_motor2']\n",
      "Unknown tag \"hardwareInterface\" in /robot[@name='custom_robots']/transmission[@name='indy0_tran3']/actuator[@name='indy0_motor3']\n",
      "Unknown tag \"hardwareInterface\" in /robot[@name='custom_robots']/transmission[@name='indy0_tran4']/actuator[@name='indy0_motor4']\n",
      "Unknown tag \"hardwareInterface\" in /robot[@name='custom_robots']/transmission[@name='indy0_tran5']/actuator[@name='indy0_motor5']\n"
     ]
    },
    {
     "name": "stdout",
     "output_type": "stream",
     "text": [
      "[BEGIN] 20201212-232318 - WORLD-20201212-232318 - SCENE-20201212-232320 - 20201212-232344.json ===============\n",
      "DONE: 59/6119\n",
      "scene size: 3375 (15,15,15)\n",
      "[WORLD] -\n",
      "{u'indy0': [[1.8796917395085697, 2.1800983463013788, 0.5885073346085734], [0, 0, 4.747721242625231]], u'panda1': [[2.093054805839833, 0.9446336318941142, 0.5409397859253333], [0, 0, 3.9230058692960204]]}\n"
     ]
    },
    {
     "name": "stderr",
     "output_type": "stream",
     "text": [
      "Unknown tag \"hardwareInterface\" in /robot[@name='custom_robots']/transmission[@name='indy0_tran0']/actuator[@name='indy0_motor0']\n",
      "Unknown tag \"hardwareInterface\" in /robot[@name='custom_robots']/transmission[@name='indy0_tran1']/actuator[@name='indy0_motor1']\n",
      "Unknown tag \"hardwareInterface\" in /robot[@name='custom_robots']/transmission[@name='indy0_tran2']/actuator[@name='indy0_motor2']\n",
      "Unknown tag \"hardwareInterface\" in /robot[@name='custom_robots']/transmission[@name='indy0_tran3']/actuator[@name='indy0_motor3']\n",
      "Unknown tag \"hardwareInterface\" in /robot[@name='custom_robots']/transmission[@name='indy0_tran4']/actuator[@name='indy0_motor4']\n",
      "Unknown tag \"hardwareInterface\" in /robot[@name='custom_robots']/transmission[@name='indy0_tran5']/actuator[@name='indy0_motor5']\n"
     ]
    },
    {
     "name": "stdout",
     "output_type": "stream",
     "text": [
      "[BEGIN] 20201212-232318 - WORLD-20201212-232318 - SCENE-20201212-232320 - 20201212-232344.json ===============\n",
      "DONE: 60/6119\n",
      "scene size: 3375 (15,15,15)\n",
      "[WORLD] -\n",
      "{u'indy0': [[1.8796917395085697, 2.1800983463013788, 0.5885073346085734], [0, 0, 4.747721242625231]], u'panda1': [[2.093054805839833, 0.9446336318941142, 0.5409397859253333], [0, 0, 3.9230058692960204]]}\n"
     ]
    },
    {
     "name": "stderr",
     "output_type": "stream",
     "text": [
      "Unknown tag \"hardwareInterface\" in /robot[@name='custom_robots']/transmission[@name='indy0_tran0']/actuator[@name='indy0_motor0']\n",
      "Unknown tag \"hardwareInterface\" in /robot[@name='custom_robots']/transmission[@name='indy0_tran1']/actuator[@name='indy0_motor1']\n",
      "Unknown tag \"hardwareInterface\" in /robot[@name='custom_robots']/transmission[@name='indy0_tran2']/actuator[@name='indy0_motor2']\n",
      "Unknown tag \"hardwareInterface\" in /robot[@name='custom_robots']/transmission[@name='indy0_tran3']/actuator[@name='indy0_motor3']\n",
      "Unknown tag \"hardwareInterface\" in /robot[@name='custom_robots']/transmission[@name='indy0_tran4']/actuator[@name='indy0_motor4']\n",
      "Unknown tag \"hardwareInterface\" in /robot[@name='custom_robots']/transmission[@name='indy0_tran5']/actuator[@name='indy0_motor5']\n"
     ]
    },
    {
     "name": "stdout",
     "output_type": "stream",
     "text": [
      "[BEGIN] 20201212-232318 - WORLD-20201212-232318 - SCENE-20201212-232320 - 20201212-232344.json ===============\n",
      "DONE: 61/6119\n",
      "scene size: 3375 (15,15,15)\n",
      "[WORLD] -\n",
      "{u'indy0': [[1.8796917395085697, 2.1800983463013788, 0.5885073346085734], [0, 0, 4.747721242625231]], u'panda1': [[2.093054805839833, 0.9446336318941142, 0.5409397859253333], [0, 0, 3.9230058692960204]]}\n"
     ]
    },
    {
     "name": "stderr",
     "output_type": "stream",
     "text": [
      "Unknown tag \"hardwareInterface\" in /robot[@name='custom_robots']/transmission[@name='indy0_tran0']/actuator[@name='indy0_motor0']\n",
      "Unknown tag \"hardwareInterface\" in /robot[@name='custom_robots']/transmission[@name='indy0_tran1']/actuator[@name='indy0_motor1']\n",
      "Unknown tag \"hardwareInterface\" in /robot[@name='custom_robots']/transmission[@name='indy0_tran2']/actuator[@name='indy0_motor2']\n",
      "Unknown tag \"hardwareInterface\" in /robot[@name='custom_robots']/transmission[@name='indy0_tran3']/actuator[@name='indy0_motor3']\n",
      "Unknown tag \"hardwareInterface\" in /robot[@name='custom_robots']/transmission[@name='indy0_tran4']/actuator[@name='indy0_motor4']\n",
      "Unknown tag \"hardwareInterface\" in /robot[@name='custom_robots']/transmission[@name='indy0_tran5']/actuator[@name='indy0_motor5']\n"
     ]
    },
    {
     "name": "stdout",
     "output_type": "stream",
     "text": [
      "[BEGIN] 20201212-232318 - WORLD-20201212-232318 - SCENE-20201212-232320 - 20201212-232344.json ===============\n",
      "DONE: 62/6119\n",
      "scene size: 3375 (15,15,15)\n",
      "[WORLD] -\n",
      "{u'indy0': [[1.8796917395085697, 2.1800983463013788, 0.5885073346085734], [0, 0, 4.747721242625231]], u'panda1': [[2.093054805839833, 0.9446336318941142, 0.5409397859253333], [0, 0, 3.9230058692960204]]}\n"
     ]
    },
    {
     "name": "stderr",
     "output_type": "stream",
     "text": [
      "Unknown tag \"hardwareInterface\" in /robot[@name='custom_robots']/transmission[@name='indy0_tran0']/actuator[@name='indy0_motor0']\n",
      "Unknown tag \"hardwareInterface\" in /robot[@name='custom_robots']/transmission[@name='indy0_tran1']/actuator[@name='indy0_motor1']\n",
      "Unknown tag \"hardwareInterface\" in /robot[@name='custom_robots']/transmission[@name='indy0_tran2']/actuator[@name='indy0_motor2']\n",
      "Unknown tag \"hardwareInterface\" in /robot[@name='custom_robots']/transmission[@name='indy0_tran3']/actuator[@name='indy0_motor3']\n",
      "Unknown tag \"hardwareInterface\" in /robot[@name='custom_robots']/transmission[@name='indy0_tran4']/actuator[@name='indy0_motor4']\n",
      "Unknown tag \"hardwareInterface\" in /robot[@name='custom_robots']/transmission[@name='indy0_tran5']/actuator[@name='indy0_motor5']\n"
     ]
    },
    {
     "name": "stdout",
     "output_type": "stream",
     "text": [
      "[BEGIN] 20201212-232318 - WORLD-20201212-232318 - SCENE-20201212-232320 - 20201212-232344.json ===============\n",
      "DONE: 63/6119\n",
      "scene size: 3375 (15,15,15)\n",
      "[WORLD] -\n",
      "{u'indy0': [[1.8796917395085697, 2.1800983463013788, 0.5885073346085734], [0, 0, 4.747721242625231]], u'panda1': [[2.093054805839833, 0.9446336318941142, 0.5409397859253333], [0, 0, 3.9230058692960204]]}\n"
     ]
    },
    {
     "name": "stderr",
     "output_type": "stream",
     "text": [
      "Unknown tag \"hardwareInterface\" in /robot[@name='custom_robots']/transmission[@name='indy0_tran0']/actuator[@name='indy0_motor0']\n",
      "Unknown tag \"hardwareInterface\" in /robot[@name='custom_robots']/transmission[@name='indy0_tran1']/actuator[@name='indy0_motor1']\n",
      "Unknown tag \"hardwareInterface\" in /robot[@name='custom_robots']/transmission[@name='indy0_tran2']/actuator[@name='indy0_motor2']\n",
      "Unknown tag \"hardwareInterface\" in /robot[@name='custom_robots']/transmission[@name='indy0_tran3']/actuator[@name='indy0_motor3']\n",
      "Unknown tag \"hardwareInterface\" in /robot[@name='custom_robots']/transmission[@name='indy0_tran4']/actuator[@name='indy0_motor4']\n",
      "Unknown tag \"hardwareInterface\" in /robot[@name='custom_robots']/transmission[@name='indy0_tran5']/actuator[@name='indy0_motor5']\n"
     ]
    },
    {
     "name": "stdout",
     "output_type": "stream",
     "text": [
      "[BEGIN] 20201212-232318 - WORLD-20201212-232318 - SCENE-20201212-232320 - 20201212-232355.json ===============\n",
      "DONE: 64/6119\n",
      "scene size: 3375 (15,15,15)\n",
      "[WORLD] -\n",
      "{u'indy0': [[1.8796917395085697, 2.1800983463013788, 0.5885073346085734], [0, 0, 4.747721242625231]], u'panda1': [[2.093054805839833, 0.9446336318941142, 0.5409397859253333], [0, 0, 3.9230058692960204]]}\n"
     ]
    },
    {
     "name": "stderr",
     "output_type": "stream",
     "text": [
      "Unknown tag \"hardwareInterface\" in /robot[@name='custom_robots']/transmission[@name='indy0_tran0']/actuator[@name='indy0_motor0']\n",
      "Unknown tag \"hardwareInterface\" in /robot[@name='custom_robots']/transmission[@name='indy0_tran1']/actuator[@name='indy0_motor1']\n",
      "Unknown tag \"hardwareInterface\" in /robot[@name='custom_robots']/transmission[@name='indy0_tran2']/actuator[@name='indy0_motor2']\n",
      "Unknown tag \"hardwareInterface\" in /robot[@name='custom_robots']/transmission[@name='indy0_tran3']/actuator[@name='indy0_motor3']\n",
      "Unknown tag \"hardwareInterface\" in /robot[@name='custom_robots']/transmission[@name='indy0_tran4']/actuator[@name='indy0_motor4']\n",
      "Unknown tag \"hardwareInterface\" in /robot[@name='custom_robots']/transmission[@name='indy0_tran5']/actuator[@name='indy0_motor5']\n"
     ]
    },
    {
     "name": "stdout",
     "output_type": "stream",
     "text": [
      "[BEGIN] 20201212-232318 - WORLD-20201212-232318 - SCENE-20201212-232320 - 20201212-232355.json ===============\n",
      "DONE: 65/6119\n",
      "scene size: 3375 (15,15,15)\n",
      "[WORLD] -\n",
      "{u'indy0': [[1.8796917395085697, 2.1800983463013788, 0.5885073346085734], [0, 0, 4.747721242625231]], u'panda1': [[2.093054805839833, 0.9446336318941142, 0.5409397859253333], [0, 0, 3.9230058692960204]]}\n"
     ]
    },
    {
     "name": "stderr",
     "output_type": "stream",
     "text": [
      "Unknown tag \"hardwareInterface\" in /robot[@name='custom_robots']/transmission[@name='indy0_tran0']/actuator[@name='indy0_motor0']\n",
      "Unknown tag \"hardwareInterface\" in /robot[@name='custom_robots']/transmission[@name='indy0_tran1']/actuator[@name='indy0_motor1']\n",
      "Unknown tag \"hardwareInterface\" in /robot[@name='custom_robots']/transmission[@name='indy0_tran2']/actuator[@name='indy0_motor2']\n",
      "Unknown tag \"hardwareInterface\" in /robot[@name='custom_robots']/transmission[@name='indy0_tran3']/actuator[@name='indy0_motor3']\n",
      "Unknown tag \"hardwareInterface\" in /robot[@name='custom_robots']/transmission[@name='indy0_tran4']/actuator[@name='indy0_motor4']\n",
      "Unknown tag \"hardwareInterface\" in /robot[@name='custom_robots']/transmission[@name='indy0_tran5']/actuator[@name='indy0_motor5']\n"
     ]
    },
    {
     "name": "stdout",
     "output_type": "stream",
     "text": [
      "[BEGIN] 20201212-232318 - WORLD-20201212-232318 - SCENE-20201212-232320 - 20201212-232355.json ===============\n",
      "DONE: 66/6119\n",
      "scene size: 3375 (15,15,15)\n",
      "[WORLD] -\n",
      "{u'indy0': [[1.8796917395085697, 2.1800983463013788, 0.5885073346085734], [0, 0, 4.747721242625231]], u'panda1': [[2.093054805839833, 0.9446336318941142, 0.5409397859253333], [0, 0, 3.9230058692960204]]}\n"
     ]
    },
    {
     "name": "stderr",
     "output_type": "stream",
     "text": [
      "Unknown tag \"hardwareInterface\" in /robot[@name='custom_robots']/transmission[@name='indy0_tran0']/actuator[@name='indy0_motor0']\n",
      "Unknown tag \"hardwareInterface\" in /robot[@name='custom_robots']/transmission[@name='indy0_tran1']/actuator[@name='indy0_motor1']\n",
      "Unknown tag \"hardwareInterface\" in /robot[@name='custom_robots']/transmission[@name='indy0_tran2']/actuator[@name='indy0_motor2']\n",
      "Unknown tag \"hardwareInterface\" in /robot[@name='custom_robots']/transmission[@name='indy0_tran3']/actuator[@name='indy0_motor3']\n",
      "Unknown tag \"hardwareInterface\" in /robot[@name='custom_robots']/transmission[@name='indy0_tran4']/actuator[@name='indy0_motor4']\n",
      "Unknown tag \"hardwareInterface\" in /robot[@name='custom_robots']/transmission[@name='indy0_tran5']/actuator[@name='indy0_motor5']\n"
     ]
    },
    {
     "name": "stdout",
     "output_type": "stream",
     "text": [
      "[BEGIN] 20201212-232318 - WORLD-20201212-232318 - SCENE-20201212-232320 - 20201212-232355.json ===============\n",
      "DONE: 67/6119\n",
      "scene size: 3375 (15,15,15)\n",
      "[WORLD] -\n",
      "{u'indy0': [[1.8796917395085697, 2.1800983463013788, 0.5885073346085734], [0, 0, 4.747721242625231]], u'panda1': [[2.093054805839833, 0.9446336318941142, 0.5409397859253333], [0, 0, 3.9230058692960204]]}\n"
     ]
    },
    {
     "name": "stderr",
     "output_type": "stream",
     "text": [
      "Unknown tag \"hardwareInterface\" in /robot[@name='custom_robots']/transmission[@name='indy0_tran0']/actuator[@name='indy0_motor0']\n",
      "Unknown tag \"hardwareInterface\" in /robot[@name='custom_robots']/transmission[@name='indy0_tran1']/actuator[@name='indy0_motor1']\n",
      "Unknown tag \"hardwareInterface\" in /robot[@name='custom_robots']/transmission[@name='indy0_tran2']/actuator[@name='indy0_motor2']\n",
      "Unknown tag \"hardwareInterface\" in /robot[@name='custom_robots']/transmission[@name='indy0_tran3']/actuator[@name='indy0_motor3']\n",
      "Unknown tag \"hardwareInterface\" in /robot[@name='custom_robots']/transmission[@name='indy0_tran4']/actuator[@name='indy0_motor4']\n",
      "Unknown tag \"hardwareInterface\" in /robot[@name='custom_robots']/transmission[@name='indy0_tran5']/actuator[@name='indy0_motor5']\n"
     ]
    },
    {
     "name": "stdout",
     "output_type": "stream",
     "text": [
      "[BEGIN] 20201212-232318 - WORLD-20201212-232318 - SCENE-20201212-232320 - 20201212-232355.json ===============\n",
      "DONE: 68/6119\n",
      "scene size: 3375 (15,15,15)\n",
      "[WORLD] -\n",
      "{u'indy0': [[1.8796917395085697, 2.1800983463013788, 0.5885073346085734], [0, 0, 4.747721242625231]], u'panda1': [[2.093054805839833, 0.9446336318941142, 0.5409397859253333], [0, 0, 3.9230058692960204]]}\n"
     ]
    },
    {
     "name": "stderr",
     "output_type": "stream",
     "text": [
      "Unknown tag \"hardwareInterface\" in /robot[@name='custom_robots']/transmission[@name='indy0_tran0']/actuator[@name='indy0_motor0']\n",
      "Unknown tag \"hardwareInterface\" in /robot[@name='custom_robots']/transmission[@name='indy0_tran1']/actuator[@name='indy0_motor1']\n",
      "Unknown tag \"hardwareInterface\" in /robot[@name='custom_robots']/transmission[@name='indy0_tran2']/actuator[@name='indy0_motor2']\n",
      "Unknown tag \"hardwareInterface\" in /robot[@name='custom_robots']/transmission[@name='indy0_tran3']/actuator[@name='indy0_motor3']\n",
      "Unknown tag \"hardwareInterface\" in /robot[@name='custom_robots']/transmission[@name='indy0_tran4']/actuator[@name='indy0_motor4']\n",
      "Unknown tag \"hardwareInterface\" in /robot[@name='custom_robots']/transmission[@name='indy0_tran5']/actuator[@name='indy0_motor5']\n"
     ]
    },
    {
     "name": "stdout",
     "output_type": "stream",
     "text": [
      "[BEGIN] 20201212-232318 - WORLD-20201212-232318 - SCENE-20201212-232320 - 20201212-232355.json ===============\n",
      "DONE: 69/6119\n",
      "scene size: 3375 (15,15,15)\n",
      "[WORLD] -\n",
      "{u'indy0': [[1.8796917395085697, 2.1800983463013788, 0.5885073346085734], [0, 0, 4.747721242625231]], u'panda1': [[2.093054805839833, 0.9446336318941142, 0.5409397859253333], [0, 0, 3.9230058692960204]]}\n"
     ]
    },
    {
     "name": "stderr",
     "output_type": "stream",
     "text": [
      "Unknown tag \"hardwareInterface\" in /robot[@name='custom_robots']/transmission[@name='indy0_tran0']/actuator[@name='indy0_motor0']\n",
      "Unknown tag \"hardwareInterface\" in /robot[@name='custom_robots']/transmission[@name='indy0_tran1']/actuator[@name='indy0_motor1']\n",
      "Unknown tag \"hardwareInterface\" in /robot[@name='custom_robots']/transmission[@name='indy0_tran2']/actuator[@name='indy0_motor2']\n",
      "Unknown tag \"hardwareInterface\" in /robot[@name='custom_robots']/transmission[@name='indy0_tran3']/actuator[@name='indy0_motor3']\n",
      "Unknown tag \"hardwareInterface\" in /robot[@name='custom_robots']/transmission[@name='indy0_tran4']/actuator[@name='indy0_motor4']\n",
      "Unknown tag \"hardwareInterface\" in /robot[@name='custom_robots']/transmission[@name='indy0_tran5']/actuator[@name='indy0_motor5']\n"
     ]
    },
    {
     "name": "stdout",
     "output_type": "stream",
     "text": [
      "[BEGIN] 20201212-232318 - WORLD-20201212-232318 - SCENE-20201212-232320 - 20201212-232355.json ===============\n",
      "DONE: 70/6119\n",
      "scene size: 3375 (15,15,15)\n",
      "[WORLD] -\n",
      "{u'indy0': [[1.8796917395085697, 2.1800983463013788, 0.5885073346085734], [0, 0, 4.747721242625231]], u'panda1': [[2.093054805839833, 0.9446336318941142, 0.5409397859253333], [0, 0, 3.9230058692960204]]}\n"
     ]
    },
    {
     "name": "stderr",
     "output_type": "stream",
     "text": [
      "Unknown tag \"hardwareInterface\" in /robot[@name='custom_robots']/transmission[@name='indy0_tran0']/actuator[@name='indy0_motor0']\n",
      "Unknown tag \"hardwareInterface\" in /robot[@name='custom_robots']/transmission[@name='indy0_tran1']/actuator[@name='indy0_motor1']\n",
      "Unknown tag \"hardwareInterface\" in /robot[@name='custom_robots']/transmission[@name='indy0_tran2']/actuator[@name='indy0_motor2']\n",
      "Unknown tag \"hardwareInterface\" in /robot[@name='custom_robots']/transmission[@name='indy0_tran3']/actuator[@name='indy0_motor3']\n",
      "Unknown tag \"hardwareInterface\" in /robot[@name='custom_robots']/transmission[@name='indy0_tran4']/actuator[@name='indy0_motor4']\n",
      "Unknown tag \"hardwareInterface\" in /robot[@name='custom_robots']/transmission[@name='indy0_tran5']/actuator[@name='indy0_motor5']\n"
     ]
    },
    {
     "name": "stdout",
     "output_type": "stream",
     "text": [
      "[BEGIN] 20201212-232318 - WORLD-20201212-232318 - SCENE-20201212-232320 - 20201212-232355.json ===============\n",
      "DONE: 71/6119\n",
      "scene size: 3375 (15,15,15)\n",
      "[WORLD] -\n",
      "{u'indy0': [[1.8796917395085697, 2.1800983463013788, 0.5885073346085734], [0, 0, 4.747721242625231]], u'panda1': [[2.093054805839833, 0.9446336318941142, 0.5409397859253333], [0, 0, 3.9230058692960204]]}\n"
     ]
    },
    {
     "name": "stderr",
     "output_type": "stream",
     "text": [
      "Unknown tag \"hardwareInterface\" in /robot[@name='custom_robots']/transmission[@name='indy0_tran0']/actuator[@name='indy0_motor0']\n",
      "Unknown tag \"hardwareInterface\" in /robot[@name='custom_robots']/transmission[@name='indy0_tran1']/actuator[@name='indy0_motor1']\n",
      "Unknown tag \"hardwareInterface\" in /robot[@name='custom_robots']/transmission[@name='indy0_tran2']/actuator[@name='indy0_motor2']\n",
      "Unknown tag \"hardwareInterface\" in /robot[@name='custom_robots']/transmission[@name='indy0_tran3']/actuator[@name='indy0_motor3']\n",
      "Unknown tag \"hardwareInterface\" in /robot[@name='custom_robots']/transmission[@name='indy0_tran4']/actuator[@name='indy0_motor4']\n",
      "Unknown tag \"hardwareInterface\" in /robot[@name='custom_robots']/transmission[@name='indy0_tran5']/actuator[@name='indy0_motor5']\n"
     ]
    },
    {
     "name": "stdout",
     "output_type": "stream",
     "text": [
      "[BEGIN] 20201212-232318 - WORLD-20201212-232318 - SCENE-20201212-232320 - 20201212-232355.json ===============\n",
      "DONE: 72/6119\n",
      "scene size: 3375 (15,15,15)\n",
      "[WORLD] -\n",
      "{u'indy0': [[1.8796917395085697, 2.1800983463013788, 0.5885073346085734], [0, 0, 4.747721242625231]], u'panda1': [[2.093054805839833, 0.9446336318941142, 0.5409397859253333], [0, 0, 3.9230058692960204]]}\n"
     ]
    },
    {
     "name": "stderr",
     "output_type": "stream",
     "text": [
      "Unknown tag \"hardwareInterface\" in /robot[@name='custom_robots']/transmission[@name='indy0_tran0']/actuator[@name='indy0_motor0']\n",
      "Unknown tag \"hardwareInterface\" in /robot[@name='custom_robots']/transmission[@name='indy0_tran1']/actuator[@name='indy0_motor1']\n",
      "Unknown tag \"hardwareInterface\" in /robot[@name='custom_robots']/transmission[@name='indy0_tran2']/actuator[@name='indy0_motor2']\n",
      "Unknown tag \"hardwareInterface\" in /robot[@name='custom_robots']/transmission[@name='indy0_tran3']/actuator[@name='indy0_motor3']\n",
      "Unknown tag \"hardwareInterface\" in /robot[@name='custom_robots']/transmission[@name='indy0_tran4']/actuator[@name='indy0_motor4']\n",
      "Unknown tag \"hardwareInterface\" in /robot[@name='custom_robots']/transmission[@name='indy0_tran5']/actuator[@name='indy0_motor5']\n"
     ]
    },
    {
     "name": "stdout",
     "output_type": "stream",
     "text": [
      "[BEGIN] 20201212-232318 - WORLD-20201212-232318 - SCENE-20201212-232320 - 20201212-232355.json ===============\n",
      "DONE: 73/6119\n",
      "scene size: 3375 (15,15,15)\n",
      "[WORLD] -\n",
      "{u'indy0': [[1.8796917395085697, 2.1800983463013788, 0.5885073346085734], [0, 0, 4.747721242625231]], u'panda1': [[2.093054805839833, 0.9446336318941142, 0.5409397859253333], [0, 0, 3.9230058692960204]]}\n"
     ]
    },
    {
     "name": "stderr",
     "output_type": "stream",
     "text": [
      "Unknown tag \"hardwareInterface\" in /robot[@name='custom_robots']/transmission[@name='indy0_tran0']/actuator[@name='indy0_motor0']\n",
      "Unknown tag \"hardwareInterface\" in /robot[@name='custom_robots']/transmission[@name='indy0_tran1']/actuator[@name='indy0_motor1']\n",
      "Unknown tag \"hardwareInterface\" in /robot[@name='custom_robots']/transmission[@name='indy0_tran2']/actuator[@name='indy0_motor2']\n",
      "Unknown tag \"hardwareInterface\" in /robot[@name='custom_robots']/transmission[@name='indy0_tran3']/actuator[@name='indy0_motor3']\n",
      "Unknown tag \"hardwareInterface\" in /robot[@name='custom_robots']/transmission[@name='indy0_tran4']/actuator[@name='indy0_motor4']\n",
      "Unknown tag \"hardwareInterface\" in /robot[@name='custom_robots']/transmission[@name='indy0_tran5']/actuator[@name='indy0_motor5']\n"
     ]
    },
    {
     "name": "stdout",
     "output_type": "stream",
     "text": [
      "[BEGIN] 20201212-232318 - WORLD-20201212-232318 - SCENE-20201212-232320 - 20201212-232355.json ===============\n",
      "DONE: 74/6119\n",
      "scene size: 3375 (15,15,15)\n",
      "[WORLD] -\n",
      "{u'indy0': [[1.8796917395085697, 2.1800983463013788, 0.5885073346085734], [0, 0, 4.747721242625231]], u'panda1': [[2.093054805839833, 0.9446336318941142, 0.5409397859253333], [0, 0, 3.9230058692960204]]}\n"
     ]
    },
    {
     "name": "stderr",
     "output_type": "stream",
     "text": [
      "Unknown tag \"hardwareInterface\" in /robot[@name='custom_robots']/transmission[@name='indy0_tran0']/actuator[@name='indy0_motor0']\n",
      "Unknown tag \"hardwareInterface\" in /robot[@name='custom_robots']/transmission[@name='indy0_tran1']/actuator[@name='indy0_motor1']\n",
      "Unknown tag \"hardwareInterface\" in /robot[@name='custom_robots']/transmission[@name='indy0_tran2']/actuator[@name='indy0_motor2']\n",
      "Unknown tag \"hardwareInterface\" in /robot[@name='custom_robots']/transmission[@name='indy0_tran3']/actuator[@name='indy0_motor3']\n",
      "Unknown tag \"hardwareInterface\" in /robot[@name='custom_robots']/transmission[@name='indy0_tran4']/actuator[@name='indy0_motor4']\n",
      "Unknown tag \"hardwareInterface\" in /robot[@name='custom_robots']/transmission[@name='indy0_tran5']/actuator[@name='indy0_motor5']\n"
     ]
    },
    {
     "name": "stdout",
     "output_type": "stream",
     "text": [
      "[BEGIN] 20201212-232318 - WORLD-20201212-232318 - SCENE-20201212-232320 - 20201212-232355.json ===============\n",
      "DONE: 75/6119\n",
      "scene size: 3375 (15,15,15)\n",
      "[WORLD] -\n",
      "{u'indy0': [[1.8796917395085697, 2.1800983463013788, 0.5885073346085734], [0, 0, 4.747721242625231]], u'panda1': [[2.093054805839833, 0.9446336318941142, 0.5409397859253333], [0, 0, 3.9230058692960204]]}\n"
     ]
    },
    {
     "name": "stderr",
     "output_type": "stream",
     "text": [
      "Unknown tag \"hardwareInterface\" in /robot[@name='custom_robots']/transmission[@name='indy0_tran0']/actuator[@name='indy0_motor0']\n",
      "Unknown tag \"hardwareInterface\" in /robot[@name='custom_robots']/transmission[@name='indy0_tran1']/actuator[@name='indy0_motor1']\n",
      "Unknown tag \"hardwareInterface\" in /robot[@name='custom_robots']/transmission[@name='indy0_tran2']/actuator[@name='indy0_motor2']\n",
      "Unknown tag \"hardwareInterface\" in /robot[@name='custom_robots']/transmission[@name='indy0_tran3']/actuator[@name='indy0_motor3']\n",
      "Unknown tag \"hardwareInterface\" in /robot[@name='custom_robots']/transmission[@name='indy0_tran4']/actuator[@name='indy0_motor4']\n",
      "Unknown tag \"hardwareInterface\" in /robot[@name='custom_robots']/transmission[@name='indy0_tran5']/actuator[@name='indy0_motor5']\n"
     ]
    },
    {
     "name": "stdout",
     "output_type": "stream",
     "text": [
      "[BEGIN] 20201212-232318 - WORLD-20201212-232318 - SCENE-20201212-232320 - 20201212-232355.json ===============\n",
      "DONE: 76/6119\n",
      "scene size: 3375 (15,15,15)\n",
      "[WORLD] -\n",
      "{u'indy0': [[1.8796917395085697, 2.1800983463013788, 0.5885073346085734], [0, 0, 4.747721242625231]], u'panda1': [[2.093054805839833, 0.9446336318941142, 0.5409397859253333], [0, 0, 3.9230058692960204]]}\n"
     ]
    },
    {
     "name": "stderr",
     "output_type": "stream",
     "text": [
      "Unknown tag \"hardwareInterface\" in /robot[@name='custom_robots']/transmission[@name='indy0_tran0']/actuator[@name='indy0_motor0']\n",
      "Unknown tag \"hardwareInterface\" in /robot[@name='custom_robots']/transmission[@name='indy0_tran1']/actuator[@name='indy0_motor1']\n",
      "Unknown tag \"hardwareInterface\" in /robot[@name='custom_robots']/transmission[@name='indy0_tran2']/actuator[@name='indy0_motor2']\n",
      "Unknown tag \"hardwareInterface\" in /robot[@name='custom_robots']/transmission[@name='indy0_tran3']/actuator[@name='indy0_motor3']\n",
      "Unknown tag \"hardwareInterface\" in /robot[@name='custom_robots']/transmission[@name='indy0_tran4']/actuator[@name='indy0_motor4']\n",
      "Unknown tag \"hardwareInterface\" in /robot[@name='custom_robots']/transmission[@name='indy0_tran5']/actuator[@name='indy0_motor5']\n"
     ]
    },
    {
     "name": "stdout",
     "output_type": "stream",
     "text": [
      "[BEGIN] 20201212-232318 - WORLD-20201212-232318 - SCENE-20201212-232320 - 20201212-232355.json ===============\n",
      "DONE: 77/6119\n",
      "scene size: 3375 (15,15,15)\n",
      "[WORLD] -\n",
      "{u'indy0': [[1.8796917395085697, 2.1800983463013788, 0.5885073346085734], [0, 0, 4.747721242625231]], u'panda1': [[2.093054805839833, 0.9446336318941142, 0.5409397859253333], [0, 0, 3.9230058692960204]]}\n"
     ]
    },
    {
     "name": "stderr",
     "output_type": "stream",
     "text": [
      "Unknown tag \"hardwareInterface\" in /robot[@name='custom_robots']/transmission[@name='indy0_tran0']/actuator[@name='indy0_motor0']\n",
      "Unknown tag \"hardwareInterface\" in /robot[@name='custom_robots']/transmission[@name='indy0_tran1']/actuator[@name='indy0_motor1']\n",
      "Unknown tag \"hardwareInterface\" in /robot[@name='custom_robots']/transmission[@name='indy0_tran2']/actuator[@name='indy0_motor2']\n",
      "Unknown tag \"hardwareInterface\" in /robot[@name='custom_robots']/transmission[@name='indy0_tran3']/actuator[@name='indy0_motor3']\n",
      "Unknown tag \"hardwareInterface\" in /robot[@name='custom_robots']/transmission[@name='indy0_tran4']/actuator[@name='indy0_motor4']\n",
      "Unknown tag \"hardwareInterface\" in /robot[@name='custom_robots']/transmission[@name='indy0_tran5']/actuator[@name='indy0_motor5']\n"
     ]
    },
    {
     "name": "stdout",
     "output_type": "stream",
     "text": [
      "[BEGIN] 20201212-232318 - WORLD-20201212-232318 - SCENE-20201212-232320 - 20201212-232355.json ===============\n",
      "DONE: 78/6119\n",
      "scene size: 3375 (15,15,15)\n",
      "[WORLD] -\n",
      "{u'indy0': [[1.8796917395085697, 2.1800983463013788, 0.5885073346085734], [0, 0, 4.747721242625231]], u'panda1': [[2.093054805839833, 0.9446336318941142, 0.5409397859253333], [0, 0, 3.9230058692960204]]}\n"
     ]
    },
    {
     "name": "stderr",
     "output_type": "stream",
     "text": [
      "Unknown tag \"hardwareInterface\" in /robot[@name='custom_robots']/transmission[@name='indy0_tran0']/actuator[@name='indy0_motor0']\n",
      "Unknown tag \"hardwareInterface\" in /robot[@name='custom_robots']/transmission[@name='indy0_tran1']/actuator[@name='indy0_motor1']\n",
      "Unknown tag \"hardwareInterface\" in /robot[@name='custom_robots']/transmission[@name='indy0_tran2']/actuator[@name='indy0_motor2']\n",
      "Unknown tag \"hardwareInterface\" in /robot[@name='custom_robots']/transmission[@name='indy0_tran3']/actuator[@name='indy0_motor3']\n",
      "Unknown tag \"hardwareInterface\" in /robot[@name='custom_robots']/transmission[@name='indy0_tran4']/actuator[@name='indy0_motor4']\n",
      "Unknown tag \"hardwareInterface\" in /robot[@name='custom_robots']/transmission[@name='indy0_tran5']/actuator[@name='indy0_motor5']\n"
     ]
    },
    {
     "name": "stdout",
     "output_type": "stream",
     "text": [
      "[BEGIN] 20201212-232318 - WORLD-20201212-232318 - SCENE-20201212-232320 - 20201212-232355.json ===============\n",
      "DONE: 79/6119\n",
      "scene size: 3375 (15,15,15)\n",
      "[WORLD] -\n",
      "{u'indy0': [[1.8796917395085697, 2.1800983463013788, 0.5885073346085734], [0, 0, 4.747721242625231]], u'panda1': [[2.093054805839833, 0.9446336318941142, 0.5409397859253333], [0, 0, 3.9230058692960204]]}\n"
     ]
    },
    {
     "name": "stderr",
     "output_type": "stream",
     "text": [
      "Unknown tag \"hardwareInterface\" in /robot[@name='custom_robots']/transmission[@name='indy0_tran0']/actuator[@name='indy0_motor0']\n",
      "Unknown tag \"hardwareInterface\" in /robot[@name='custom_robots']/transmission[@name='indy0_tran1']/actuator[@name='indy0_motor1']\n",
      "Unknown tag \"hardwareInterface\" in /robot[@name='custom_robots']/transmission[@name='indy0_tran2']/actuator[@name='indy0_motor2']\n",
      "Unknown tag \"hardwareInterface\" in /robot[@name='custom_robots']/transmission[@name='indy0_tran3']/actuator[@name='indy0_motor3']\n",
      "Unknown tag \"hardwareInterface\" in /robot[@name='custom_robots']/transmission[@name='indy0_tran4']/actuator[@name='indy0_motor4']\n",
      "Unknown tag \"hardwareInterface\" in /robot[@name='custom_robots']/transmission[@name='indy0_tran5']/actuator[@name='indy0_motor5']\n"
     ]
    },
    {
     "name": "stdout",
     "output_type": "stream",
     "text": [
      "[BEGIN] 20201212-232318 - WORLD-20201212-232318 - SCENE-20201212-232320 - 20201212-232355.json ===============\n",
      "DONE: 80/6119\n",
      "scene size: 3375 (15,15,15)\n",
      "[WORLD] -\n",
      "{u'indy0': [[1.8796917395085697, 2.1800983463013788, 0.5885073346085734], [0, 0, 4.747721242625231]], u'panda1': [[2.093054805839833, 0.9446336318941142, 0.5409397859253333], [0, 0, 3.9230058692960204]]}\n"
     ]
    },
    {
     "name": "stderr",
     "output_type": "stream",
     "text": [
      "Unknown tag \"hardwareInterface\" in /robot[@name='custom_robots']/transmission[@name='indy0_tran0']/actuator[@name='indy0_motor0']\n",
      "Unknown tag \"hardwareInterface\" in /robot[@name='custom_robots']/transmission[@name='indy0_tran1']/actuator[@name='indy0_motor1']\n",
      "Unknown tag \"hardwareInterface\" in /robot[@name='custom_robots']/transmission[@name='indy0_tran2']/actuator[@name='indy0_motor2']\n",
      "Unknown tag \"hardwareInterface\" in /robot[@name='custom_robots']/transmission[@name='indy0_tran3']/actuator[@name='indy0_motor3']\n",
      "Unknown tag \"hardwareInterface\" in /robot[@name='custom_robots']/transmission[@name='indy0_tran4']/actuator[@name='indy0_motor4']\n",
      "Unknown tag \"hardwareInterface\" in /robot[@name='custom_robots']/transmission[@name='indy0_tran5']/actuator[@name='indy0_motor5']\n"
     ]
    },
    {
     "name": "stdout",
     "output_type": "stream",
     "text": [
      "[BEGIN] 20201212-232318 - WORLD-20201212-232318 - SCENE-20201212-232320 - 20201212-232355.json ===============\n",
      "DONE: 81/6119\n",
      "scene size: 3375 (15,15,15)\n",
      "[WORLD] -\n",
      "{u'indy0': [[1.8796917395085697, 2.1800983463013788, 0.5885073346085734], [0, 0, 4.747721242625231]], u'panda1': [[2.093054805839833, 0.9446336318941142, 0.5409397859253333], [0, 0, 3.9230058692960204]]}\n"
     ]
    },
    {
     "name": "stderr",
     "output_type": "stream",
     "text": [
      "Unknown tag \"hardwareInterface\" in /robot[@name='custom_robots']/transmission[@name='indy0_tran0']/actuator[@name='indy0_motor0']\n",
      "Unknown tag \"hardwareInterface\" in /robot[@name='custom_robots']/transmission[@name='indy0_tran1']/actuator[@name='indy0_motor1']\n",
      "Unknown tag \"hardwareInterface\" in /robot[@name='custom_robots']/transmission[@name='indy0_tran2']/actuator[@name='indy0_motor2']\n",
      "Unknown tag \"hardwareInterface\" in /robot[@name='custom_robots']/transmission[@name='indy0_tran3']/actuator[@name='indy0_motor3']\n",
      "Unknown tag \"hardwareInterface\" in /robot[@name='custom_robots']/transmission[@name='indy0_tran4']/actuator[@name='indy0_motor4']\n",
      "Unknown tag \"hardwareInterface\" in /robot[@name='custom_robots']/transmission[@name='indy0_tran5']/actuator[@name='indy0_motor5']\n"
     ]
    },
    {
     "name": "stdout",
     "output_type": "stream",
     "text": [
      "[BEGIN] 20201212-232318 - WORLD-20201212-232318 - SCENE-20201212-232320 - 20201212-232355.json ===============\n",
      "DONE: 82/6119\n",
      "scene size: 3375 (15,15,15)\n",
      "[WORLD] -\n",
      "{u'indy0': [[1.8796917395085697, 2.1800983463013788, 0.5885073346085734], [0, 0, 4.747721242625231]], u'panda1': [[2.093054805839833, 0.9446336318941142, 0.5409397859253333], [0, 0, 3.9230058692960204]]}\n"
     ]
    },
    {
     "name": "stderr",
     "output_type": "stream",
     "text": [
      "Unknown tag \"hardwareInterface\" in /robot[@name='custom_robots']/transmission[@name='indy0_tran0']/actuator[@name='indy0_motor0']\n",
      "Unknown tag \"hardwareInterface\" in /robot[@name='custom_robots']/transmission[@name='indy0_tran1']/actuator[@name='indy0_motor1']\n",
      "Unknown tag \"hardwareInterface\" in /robot[@name='custom_robots']/transmission[@name='indy0_tran2']/actuator[@name='indy0_motor2']\n",
      "Unknown tag \"hardwareInterface\" in /robot[@name='custom_robots']/transmission[@name='indy0_tran3']/actuator[@name='indy0_motor3']\n",
      "Unknown tag \"hardwareInterface\" in /robot[@name='custom_robots']/transmission[@name='indy0_tran4']/actuator[@name='indy0_motor4']\n",
      "Unknown tag \"hardwareInterface\" in /robot[@name='custom_robots']/transmission[@name='indy0_tran5']/actuator[@name='indy0_motor5']\n"
     ]
    },
    {
     "name": "stdout",
     "output_type": "stream",
     "text": [
      "[BEGIN] 20201212-232318 - WORLD-20201212-232318 - SCENE-20201212-232320 - 20201212-232355.json ===============\n",
      "DONE: 83/6119\n",
      "scene size: 3375 (15,15,15)\n",
      "[WORLD] -\n",
      "{u'indy0': [[1.2814872382601095, 1.9791097226812595, 0.5462345023620832], [0, 0, 5.159576269197487]], u'panda1': [[1.305072975565827, 0.8086290461919389, 0.6887670148790954], [0, 0, 1.6339263583933894]]}\n"
     ]
    },
    {
     "name": "stderr",
     "output_type": "stream",
     "text": [
      "Unknown tag \"hardwareInterface\" in /robot[@name='custom_robots']/transmission[@name='indy0_tran0']/actuator[@name='indy0_motor0']\n",
      "Unknown tag \"hardwareInterface\" in /robot[@name='custom_robots']/transmission[@name='indy0_tran1']/actuator[@name='indy0_motor1']\n",
      "Unknown tag \"hardwareInterface\" in /robot[@name='custom_robots']/transmission[@name='indy0_tran2']/actuator[@name='indy0_motor2']\n",
      "Unknown tag \"hardwareInterface\" in /robot[@name='custom_robots']/transmission[@name='indy0_tran3']/actuator[@name='indy0_motor3']\n",
      "Unknown tag \"hardwareInterface\" in /robot[@name='custom_robots']/transmission[@name='indy0_tran4']/actuator[@name='indy0_motor4']\n",
      "Unknown tag \"hardwareInterface\" in /robot[@name='custom_robots']/transmission[@name='indy0_tran5']/actuator[@name='indy0_motor5']\n"
     ]
    },
    {
     "name": "stdout",
     "output_type": "stream",
     "text": [
      "[BEGIN] 20201212-232318 - WORLD-20201212-232416 - SCENE-20201212-232418 - 20201212-232430.json ===============\n",
      "DONE: 84/6119\n",
      "scene size: 3375 (15,15,15)\n",
      "[WORLD] -\n",
      "{u'indy0': [[1.2814872382601095, 1.9791097226812595, 0.5462345023620832], [0, 0, 5.159576269197487]], u'panda1': [[1.305072975565827, 0.8086290461919389, 0.6887670148790954], [0, 0, 1.6339263583933894]]}\n"
     ]
    },
    {
     "name": "stderr",
     "output_type": "stream",
     "text": [
      "Unknown tag \"hardwareInterface\" in /robot[@name='custom_robots']/transmission[@name='indy0_tran0']/actuator[@name='indy0_motor0']\n",
      "Unknown tag \"hardwareInterface\" in /robot[@name='custom_robots']/transmission[@name='indy0_tran1']/actuator[@name='indy0_motor1']\n",
      "Unknown tag \"hardwareInterface\" in /robot[@name='custom_robots']/transmission[@name='indy0_tran2']/actuator[@name='indy0_motor2']\n",
      "Unknown tag \"hardwareInterface\" in /robot[@name='custom_robots']/transmission[@name='indy0_tran3']/actuator[@name='indy0_motor3']\n",
      "Unknown tag \"hardwareInterface\" in /robot[@name='custom_robots']/transmission[@name='indy0_tran4']/actuator[@name='indy0_motor4']\n",
      "Unknown tag \"hardwareInterface\" in /robot[@name='custom_robots']/transmission[@name='indy0_tran5']/actuator[@name='indy0_motor5']\n"
     ]
    },
    {
     "name": "stdout",
     "output_type": "stream",
     "text": [
      "[BEGIN] 20201212-232318 - WORLD-20201212-232416 - SCENE-20201212-232418 - 20201212-232430.json ===============\n",
      "DONE: 85/6119\n",
      "scene size: 3375 (15,15,15)\n",
      "[WORLD] -\n",
      "{u'indy0': [[1.2814872382601095, 1.9791097226812595, 0.5462345023620832], [0, 0, 5.159576269197487]], u'panda1': [[1.305072975565827, 0.8086290461919389, 0.6887670148790954], [0, 0, 1.6339263583933894]]}\n"
     ]
    },
    {
     "name": "stderr",
     "output_type": "stream",
     "text": [
      "Unknown tag \"hardwareInterface\" in /robot[@name='custom_robots']/transmission[@name='indy0_tran0']/actuator[@name='indy0_motor0']\n",
      "Unknown tag \"hardwareInterface\" in /robot[@name='custom_robots']/transmission[@name='indy0_tran1']/actuator[@name='indy0_motor1']\n",
      "Unknown tag \"hardwareInterface\" in /robot[@name='custom_robots']/transmission[@name='indy0_tran2']/actuator[@name='indy0_motor2']\n",
      "Unknown tag \"hardwareInterface\" in /robot[@name='custom_robots']/transmission[@name='indy0_tran3']/actuator[@name='indy0_motor3']\n",
      "Unknown tag \"hardwareInterface\" in /robot[@name='custom_robots']/transmission[@name='indy0_tran4']/actuator[@name='indy0_motor4']\n",
      "Unknown tag \"hardwareInterface\" in /robot[@name='custom_robots']/transmission[@name='indy0_tran5']/actuator[@name='indy0_motor5']\n"
     ]
    },
    {
     "name": "stdout",
     "output_type": "stream",
     "text": [
      "[BEGIN] 20201212-232318 - WORLD-20201212-232416 - SCENE-20201212-232418 - 20201212-232452.json ===============\n",
      "DONE: 86/6119\n",
      "scene size: 3375 (15,15,15)\n",
      "[WORLD] -\n",
      "{u'indy0': [[1.2814872382601095, 1.9791097226812595, 0.5462345023620832], [0, 0, 5.159576269197487]], u'panda1': [[1.305072975565827, 0.8086290461919389, 0.6887670148790954], [0, 0, 1.6339263583933894]]}\n"
     ]
    },
    {
     "name": "stderr",
     "output_type": "stream",
     "text": [
      "Unknown tag \"hardwareInterface\" in /robot[@name='custom_robots']/transmission[@name='indy0_tran0']/actuator[@name='indy0_motor0']\n",
      "Unknown tag \"hardwareInterface\" in /robot[@name='custom_robots']/transmission[@name='indy0_tran1']/actuator[@name='indy0_motor1']\n",
      "Unknown tag \"hardwareInterface\" in /robot[@name='custom_robots']/transmission[@name='indy0_tran2']/actuator[@name='indy0_motor2']\n",
      "Unknown tag \"hardwareInterface\" in /robot[@name='custom_robots']/transmission[@name='indy0_tran3']/actuator[@name='indy0_motor3']\n",
      "Unknown tag \"hardwareInterface\" in /robot[@name='custom_robots']/transmission[@name='indy0_tran4']/actuator[@name='indy0_motor4']\n",
      "Unknown tag \"hardwareInterface\" in /robot[@name='custom_robots']/transmission[@name='indy0_tran5']/actuator[@name='indy0_motor5']\n"
     ]
    },
    {
     "name": "stdout",
     "output_type": "stream",
     "text": [
      "[BEGIN] 20201212-232318 - WORLD-20201212-232416 - SCENE-20201212-232418 - 20201212-232452.json ===============\n",
      "DONE: 87/6119\n",
      "scene size: 3375 (15,15,15)\n",
      "[WORLD] -\n",
      "{u'indy0': [[1.2814872382601095, 1.9791097226812595, 0.5462345023620832], [0, 0, 5.159576269197487]], u'panda1': [[1.305072975565827, 0.8086290461919389, 0.6887670148790954], [0, 0, 1.6339263583933894]]}\n"
     ]
    },
    {
     "name": "stderr",
     "output_type": "stream",
     "text": [
      "Unknown tag \"hardwareInterface\" in /robot[@name='custom_robots']/transmission[@name='indy0_tran0']/actuator[@name='indy0_motor0']\n",
      "Unknown tag \"hardwareInterface\" in /robot[@name='custom_robots']/transmission[@name='indy0_tran1']/actuator[@name='indy0_motor1']\n",
      "Unknown tag \"hardwareInterface\" in /robot[@name='custom_robots']/transmission[@name='indy0_tran2']/actuator[@name='indy0_motor2']\n",
      "Unknown tag \"hardwareInterface\" in /robot[@name='custom_robots']/transmission[@name='indy0_tran3']/actuator[@name='indy0_motor3']\n",
      "Unknown tag \"hardwareInterface\" in /robot[@name='custom_robots']/transmission[@name='indy0_tran4']/actuator[@name='indy0_motor4']\n",
      "Unknown tag \"hardwareInterface\" in /robot[@name='custom_robots']/transmission[@name='indy0_tran5']/actuator[@name='indy0_motor5']\n"
     ]
    },
    {
     "name": "stdout",
     "output_type": "stream",
     "text": [
      "[BEGIN] 20201212-232318 - WORLD-20201212-232416 - SCENE-20201212-232418 - 20201212-232452.json ===============\n",
      "DONE: 88/6119\n",
      "scene size: 3375 (15,15,15)\n",
      "[WORLD] -\n",
      "{u'indy0': [[1.2814872382601095, 1.9791097226812595, 0.5462345023620832], [0, 0, 5.159576269197487]], u'panda1': [[1.305072975565827, 0.8086290461919389, 0.6887670148790954], [0, 0, 1.6339263583933894]]}\n"
     ]
    },
    {
     "name": "stderr",
     "output_type": "stream",
     "text": [
      "Unknown tag \"hardwareInterface\" in /robot[@name='custom_robots']/transmission[@name='indy0_tran0']/actuator[@name='indy0_motor0']\n",
      "Unknown tag \"hardwareInterface\" in /robot[@name='custom_robots']/transmission[@name='indy0_tran1']/actuator[@name='indy0_motor1']\n",
      "Unknown tag \"hardwareInterface\" in /robot[@name='custom_robots']/transmission[@name='indy0_tran2']/actuator[@name='indy0_motor2']\n",
      "Unknown tag \"hardwareInterface\" in /robot[@name='custom_robots']/transmission[@name='indy0_tran3']/actuator[@name='indy0_motor3']\n",
      "Unknown tag \"hardwareInterface\" in /robot[@name='custom_robots']/transmission[@name='indy0_tran4']/actuator[@name='indy0_motor4']\n",
      "Unknown tag \"hardwareInterface\" in /robot[@name='custom_robots']/transmission[@name='indy0_tran5']/actuator[@name='indy0_motor5']\n"
     ]
    },
    {
     "name": "stdout",
     "output_type": "stream",
     "text": [
      "[BEGIN] 20201212-232318 - WORLD-20201212-232416 - SCENE-20201212-232418 - 20201212-232452.json ===============\n",
      "DONE: 89/6119\n",
      "scene size: 3375 (15,15,15)\n",
      "[WORLD] -\n",
      "{u'indy0': [[1.2814872382601095, 1.9791097226812595, 0.5462345023620832], [0, 0, 5.159576269197487]], u'panda1': [[1.305072975565827, 0.8086290461919389, 0.6887670148790954], [0, 0, 1.6339263583933894]]}\n"
     ]
    },
    {
     "name": "stderr",
     "output_type": "stream",
     "text": [
      "Unknown tag \"hardwareInterface\" in /robot[@name='custom_robots']/transmission[@name='indy0_tran0']/actuator[@name='indy0_motor0']\n",
      "Unknown tag \"hardwareInterface\" in /robot[@name='custom_robots']/transmission[@name='indy0_tran1']/actuator[@name='indy0_motor1']\n",
      "Unknown tag \"hardwareInterface\" in /robot[@name='custom_robots']/transmission[@name='indy0_tran2']/actuator[@name='indy0_motor2']\n",
      "Unknown tag \"hardwareInterface\" in /robot[@name='custom_robots']/transmission[@name='indy0_tran3']/actuator[@name='indy0_motor3']\n",
      "Unknown tag \"hardwareInterface\" in /robot[@name='custom_robots']/transmission[@name='indy0_tran4']/actuator[@name='indy0_motor4']\n",
      "Unknown tag \"hardwareInterface\" in /robot[@name='custom_robots']/transmission[@name='indy0_tran5']/actuator[@name='indy0_motor5']\n"
     ]
    },
    {
     "name": "stdout",
     "output_type": "stream",
     "text": [
      "[BEGIN] 20201212-232318 - WORLD-20201212-232416 - SCENE-20201212-232418 - 20201212-232452.json ===============\n",
      "DONE: 90/6119\n",
      "scene size: 3375 (15,15,15)\n",
      "[WORLD] -\n",
      "{u'indy0': [[1.2814872382601095, 1.9791097226812595, 0.5462345023620832], [0, 0, 5.159576269197487]], u'panda1': [[1.305072975565827, 0.8086290461919389, 0.6887670148790954], [0, 0, 1.6339263583933894]]}\n"
     ]
    },
    {
     "name": "stderr",
     "output_type": "stream",
     "text": [
      "Unknown tag \"hardwareInterface\" in /robot[@name='custom_robots']/transmission[@name='indy0_tran0']/actuator[@name='indy0_motor0']\n",
      "Unknown tag \"hardwareInterface\" in /robot[@name='custom_robots']/transmission[@name='indy0_tran1']/actuator[@name='indy0_motor1']\n",
      "Unknown tag \"hardwareInterface\" in /robot[@name='custom_robots']/transmission[@name='indy0_tran2']/actuator[@name='indy0_motor2']\n",
      "Unknown tag \"hardwareInterface\" in /robot[@name='custom_robots']/transmission[@name='indy0_tran3']/actuator[@name='indy0_motor3']\n",
      "Unknown tag \"hardwareInterface\" in /robot[@name='custom_robots']/transmission[@name='indy0_tran4']/actuator[@name='indy0_motor4']\n",
      "Unknown tag \"hardwareInterface\" in /robot[@name='custom_robots']/transmission[@name='indy0_tran5']/actuator[@name='indy0_motor5']\n"
     ]
    },
    {
     "name": "stdout",
     "output_type": "stream",
     "text": [
      "[BEGIN] 20201212-232318 - WORLD-20201212-232416 - SCENE-20201212-232418 - 20201212-232452.json ===============\n",
      "DONE: 91/6119\n",
      "scene size: 3375 (15,15,15)\n",
      "[WORLD] -\n",
      "{u'indy0': [[1.2814872382601095, 1.9791097226812595, 0.5462345023620832], [0, 0, 5.159576269197487]], u'panda1': [[1.305072975565827, 0.8086290461919389, 0.6887670148790954], [0, 0, 1.6339263583933894]]}\n"
     ]
    },
    {
     "name": "stderr",
     "output_type": "stream",
     "text": [
      "Unknown tag \"hardwareInterface\" in /robot[@name='custom_robots']/transmission[@name='indy0_tran0']/actuator[@name='indy0_motor0']\n",
      "Unknown tag \"hardwareInterface\" in /robot[@name='custom_robots']/transmission[@name='indy0_tran1']/actuator[@name='indy0_motor1']\n",
      "Unknown tag \"hardwareInterface\" in /robot[@name='custom_robots']/transmission[@name='indy0_tran2']/actuator[@name='indy0_motor2']\n",
      "Unknown tag \"hardwareInterface\" in /robot[@name='custom_robots']/transmission[@name='indy0_tran3']/actuator[@name='indy0_motor3']\n",
      "Unknown tag \"hardwareInterface\" in /robot[@name='custom_robots']/transmission[@name='indy0_tran4']/actuator[@name='indy0_motor4']\n",
      "Unknown tag \"hardwareInterface\" in /robot[@name='custom_robots']/transmission[@name='indy0_tran5']/actuator[@name='indy0_motor5']\n"
     ]
    },
    {
     "name": "stdout",
     "output_type": "stream",
     "text": [
      "[BEGIN] 20201212-232318 - WORLD-20201212-232416 - SCENE-20201212-232418 - 20201212-232452.json ===============\n",
      "DONE: 92/6119\n",
      "scene size: 3375 (15,15,15)\n",
      "[WORLD] -\n",
      "{u'indy0': [[1.2814872382601095, 1.9791097226812595, 0.5462345023620832], [0, 0, 5.159576269197487]], u'panda1': [[1.305072975565827, 0.8086290461919389, 0.6887670148790954], [0, 0, 1.6339263583933894]]}\n"
     ]
    },
    {
     "name": "stderr",
     "output_type": "stream",
     "text": [
      "Unknown tag \"hardwareInterface\" in /robot[@name='custom_robots']/transmission[@name='indy0_tran0']/actuator[@name='indy0_motor0']\n",
      "Unknown tag \"hardwareInterface\" in /robot[@name='custom_robots']/transmission[@name='indy0_tran1']/actuator[@name='indy0_motor1']\n",
      "Unknown tag \"hardwareInterface\" in /robot[@name='custom_robots']/transmission[@name='indy0_tran2']/actuator[@name='indy0_motor2']\n",
      "Unknown tag \"hardwareInterface\" in /robot[@name='custom_robots']/transmission[@name='indy0_tran3']/actuator[@name='indy0_motor3']\n",
      "Unknown tag \"hardwareInterface\" in /robot[@name='custom_robots']/transmission[@name='indy0_tran4']/actuator[@name='indy0_motor4']\n",
      "Unknown tag \"hardwareInterface\" in /robot[@name='custom_robots']/transmission[@name='indy0_tran5']/actuator[@name='indy0_motor5']\n"
     ]
    },
    {
     "name": "stdout",
     "output_type": "stream",
     "text": [
      "[BEGIN] 20201212-232318 - WORLD-20201212-232416 - SCENE-20201212-232418 - 20201212-232452.json ===============\n",
      "DONE: 93/6119\n",
      "scene size: 3375 (15,15,15)\n",
      "[WORLD] -\n",
      "{u'indy0': [[1.2814872382601095, 1.9791097226812595, 0.5462345023620832], [0, 0, 5.159576269197487]], u'panda1': [[1.305072975565827, 0.8086290461919389, 0.6887670148790954], [0, 0, 1.6339263583933894]]}\n"
     ]
    },
    {
     "name": "stderr",
     "output_type": "stream",
     "text": [
      "Unknown tag \"hardwareInterface\" in /robot[@name='custom_robots']/transmission[@name='indy0_tran0']/actuator[@name='indy0_motor0']\n",
      "Unknown tag \"hardwareInterface\" in /robot[@name='custom_robots']/transmission[@name='indy0_tran1']/actuator[@name='indy0_motor1']\n",
      "Unknown tag \"hardwareInterface\" in /robot[@name='custom_robots']/transmission[@name='indy0_tran2']/actuator[@name='indy0_motor2']\n",
      "Unknown tag \"hardwareInterface\" in /robot[@name='custom_robots']/transmission[@name='indy0_tran3']/actuator[@name='indy0_motor3']\n",
      "Unknown tag \"hardwareInterface\" in /robot[@name='custom_robots']/transmission[@name='indy0_tran4']/actuator[@name='indy0_motor4']\n",
      "Unknown tag \"hardwareInterface\" in /robot[@name='custom_robots']/transmission[@name='indy0_tran5']/actuator[@name='indy0_motor5']\n"
     ]
    },
    {
     "name": "stdout",
     "output_type": "stream",
     "text": [
      "[BEGIN] 20201212-232318 - WORLD-20201212-232416 - SCENE-20201212-232418 - 20201212-232452.json ===============\n",
      "DONE: 94/6119\n",
      "scene size: 3375 (15,15,15)\n",
      "[WORLD] -\n",
      "{u'indy0': [[1.2814872382601095, 1.9791097226812595, 0.5462345023620832], [0, 0, 5.159576269197487]], u'panda1': [[1.305072975565827, 0.8086290461919389, 0.6887670148790954], [0, 0, 1.6339263583933894]]}\n"
     ]
    },
    {
     "name": "stderr",
     "output_type": "stream",
     "text": [
      "Unknown tag \"hardwareInterface\" in /robot[@name='custom_robots']/transmission[@name='indy0_tran0']/actuator[@name='indy0_motor0']\n",
      "Unknown tag \"hardwareInterface\" in /robot[@name='custom_robots']/transmission[@name='indy0_tran1']/actuator[@name='indy0_motor1']\n",
      "Unknown tag \"hardwareInterface\" in /robot[@name='custom_robots']/transmission[@name='indy0_tran2']/actuator[@name='indy0_motor2']\n",
      "Unknown tag \"hardwareInterface\" in /robot[@name='custom_robots']/transmission[@name='indy0_tran3']/actuator[@name='indy0_motor3']\n",
      "Unknown tag \"hardwareInterface\" in /robot[@name='custom_robots']/transmission[@name='indy0_tran4']/actuator[@name='indy0_motor4']\n",
      "Unknown tag \"hardwareInterface\" in /robot[@name='custom_robots']/transmission[@name='indy0_tran5']/actuator[@name='indy0_motor5']\n"
     ]
    },
    {
     "name": "stdout",
     "output_type": "stream",
     "text": [
      "[BEGIN] 20201212-232318 - WORLD-20201212-232416 - SCENE-20201212-232418 - 20201212-232452.json ===============\n",
      "DONE: 95/6119\n",
      "scene size: 3375 (15,15,15)\n",
      "[WORLD] -\n",
      "{u'indy0': [[1.2814872382601095, 1.9791097226812595, 0.5462345023620832], [0, 0, 5.159576269197487]], u'panda1': [[1.305072975565827, 0.8086290461919389, 0.6887670148790954], [0, 0, 1.6339263583933894]]}\n"
     ]
    },
    {
     "name": "stderr",
     "output_type": "stream",
     "text": [
      "Unknown tag \"hardwareInterface\" in /robot[@name='custom_robots']/transmission[@name='indy0_tran0']/actuator[@name='indy0_motor0']\n",
      "Unknown tag \"hardwareInterface\" in /robot[@name='custom_robots']/transmission[@name='indy0_tran1']/actuator[@name='indy0_motor1']\n",
      "Unknown tag \"hardwareInterface\" in /robot[@name='custom_robots']/transmission[@name='indy0_tran2']/actuator[@name='indy0_motor2']\n",
      "Unknown tag \"hardwareInterface\" in /robot[@name='custom_robots']/transmission[@name='indy0_tran3']/actuator[@name='indy0_motor3']\n",
      "Unknown tag \"hardwareInterface\" in /robot[@name='custom_robots']/transmission[@name='indy0_tran4']/actuator[@name='indy0_motor4']\n",
      "Unknown tag \"hardwareInterface\" in /robot[@name='custom_robots']/transmission[@name='indy0_tran5']/actuator[@name='indy0_motor5']\n"
     ]
    },
    {
     "name": "stdout",
     "output_type": "stream",
     "text": [
      "[BEGIN] 20201212-232318 - WORLD-20201212-232416 - SCENE-20201212-232418 - 20201212-232452.json ===============\n",
      "DONE: 96/6119\n",
      "scene size: 3375 (15,15,15)\n",
      "[WORLD] -\n",
      "{u'indy0': [[1.2814872382601095, 1.9791097226812595, 0.5462345023620832], [0, 0, 5.159576269197487]], u'panda1': [[1.305072975565827, 0.8086290461919389, 0.6887670148790954], [0, 0, 1.6339263583933894]]}\n"
     ]
    },
    {
     "name": "stderr",
     "output_type": "stream",
     "text": [
      "Unknown tag \"hardwareInterface\" in /robot[@name='custom_robots']/transmission[@name='indy0_tran0']/actuator[@name='indy0_motor0']\n",
      "Unknown tag \"hardwareInterface\" in /robot[@name='custom_robots']/transmission[@name='indy0_tran1']/actuator[@name='indy0_motor1']\n",
      "Unknown tag \"hardwareInterface\" in /robot[@name='custom_robots']/transmission[@name='indy0_tran2']/actuator[@name='indy0_motor2']\n",
      "Unknown tag \"hardwareInterface\" in /robot[@name='custom_robots']/transmission[@name='indy0_tran3']/actuator[@name='indy0_motor3']\n",
      "Unknown tag \"hardwareInterface\" in /robot[@name='custom_robots']/transmission[@name='indy0_tran4']/actuator[@name='indy0_motor4']\n",
      "Unknown tag \"hardwareInterface\" in /robot[@name='custom_robots']/transmission[@name='indy0_tran5']/actuator[@name='indy0_motor5']\n"
     ]
    },
    {
     "name": "stdout",
     "output_type": "stream",
     "text": [
      "[BEGIN] 20201212-232318 - WORLD-20201212-232416 - SCENE-20201212-232418 - 20201212-232452.json ===============\n",
      "DONE: 97/6119\n",
      "scene size: 3375 (15,15,15)\n",
      "[WORLD] -\n",
      "{u'indy0': [[1.2814872382601095, 1.9791097226812595, 0.5462345023620832], [0, 0, 5.159576269197487]], u'panda1': [[1.305072975565827, 0.8086290461919389, 0.6887670148790954], [0, 0, 1.6339263583933894]]}\n"
     ]
    },
    {
     "name": "stderr",
     "output_type": "stream",
     "text": [
      "Unknown tag \"hardwareInterface\" in /robot[@name='custom_robots']/transmission[@name='indy0_tran0']/actuator[@name='indy0_motor0']\n",
      "Unknown tag \"hardwareInterface\" in /robot[@name='custom_robots']/transmission[@name='indy0_tran1']/actuator[@name='indy0_motor1']\n",
      "Unknown tag \"hardwareInterface\" in /robot[@name='custom_robots']/transmission[@name='indy0_tran2']/actuator[@name='indy0_motor2']\n",
      "Unknown tag \"hardwareInterface\" in /robot[@name='custom_robots']/transmission[@name='indy0_tran3']/actuator[@name='indy0_motor3']\n",
      "Unknown tag \"hardwareInterface\" in /robot[@name='custom_robots']/transmission[@name='indy0_tran4']/actuator[@name='indy0_motor4']\n",
      "Unknown tag \"hardwareInterface\" in /robot[@name='custom_robots']/transmission[@name='indy0_tran5']/actuator[@name='indy0_motor5']\n"
     ]
    },
    {
     "name": "stdout",
     "output_type": "stream",
     "text": [
      "[BEGIN] 20201212-232318 - WORLD-20201212-232416 - SCENE-20201212-232418 - 20201212-232452.json ===============\n",
      "DONE: 98/6119\n",
      "scene size: 3375 (15,15,15)\n",
      "[WORLD] -\n",
      "{u'indy0': [[1.2814872382601095, 1.9791097226812595, 0.5462345023620832], [0, 0, 5.159576269197487]], u'panda1': [[1.305072975565827, 0.8086290461919389, 0.6887670148790954], [0, 0, 1.6339263583933894]]}\n"
     ]
    },
    {
     "name": "stderr",
     "output_type": "stream",
     "text": [
      "Unknown tag \"hardwareInterface\" in /robot[@name='custom_robots']/transmission[@name='indy0_tran0']/actuator[@name='indy0_motor0']\n",
      "Unknown tag \"hardwareInterface\" in /robot[@name='custom_robots']/transmission[@name='indy0_tran1']/actuator[@name='indy0_motor1']\n",
      "Unknown tag \"hardwareInterface\" in /robot[@name='custom_robots']/transmission[@name='indy0_tran2']/actuator[@name='indy0_motor2']\n",
      "Unknown tag \"hardwareInterface\" in /robot[@name='custom_robots']/transmission[@name='indy0_tran3']/actuator[@name='indy0_motor3']\n",
      "Unknown tag \"hardwareInterface\" in /robot[@name='custom_robots']/transmission[@name='indy0_tran4']/actuator[@name='indy0_motor4']\n",
      "Unknown tag \"hardwareInterface\" in /robot[@name='custom_robots']/transmission[@name='indy0_tran5']/actuator[@name='indy0_motor5']\n"
     ]
    },
    {
     "name": "stdout",
     "output_type": "stream",
     "text": [
      "[BEGIN] 20201212-232318 - WORLD-20201212-232416 - SCENE-20201212-232418 - 20201212-232452.json ===============\n",
      "DONE: 99/6119\n",
      "scene size: 3375 (15,15,15)\n",
      "[WORLD] -\n",
      "{u'indy0': [[1.2814872382601095, 1.9791097226812595, 0.5462345023620832], [0, 0, 5.159576269197487]], u'panda1': [[1.305072975565827, 0.8086290461919389, 0.6887670148790954], [0, 0, 1.6339263583933894]]}\n"
     ]
    },
    {
     "name": "stderr",
     "output_type": "stream",
     "text": [
      "Unknown tag \"hardwareInterface\" in /robot[@name='custom_robots']/transmission[@name='indy0_tran0']/actuator[@name='indy0_motor0']\n",
      "Unknown tag \"hardwareInterface\" in /robot[@name='custom_robots']/transmission[@name='indy0_tran1']/actuator[@name='indy0_motor1']\n",
      "Unknown tag \"hardwareInterface\" in /robot[@name='custom_robots']/transmission[@name='indy0_tran2']/actuator[@name='indy0_motor2']\n",
      "Unknown tag \"hardwareInterface\" in /robot[@name='custom_robots']/transmission[@name='indy0_tran3']/actuator[@name='indy0_motor3']\n",
      "Unknown tag \"hardwareInterface\" in /robot[@name='custom_robots']/transmission[@name='indy0_tran4']/actuator[@name='indy0_motor4']\n",
      "Unknown tag \"hardwareInterface\" in /robot[@name='custom_robots']/transmission[@name='indy0_tran5']/actuator[@name='indy0_motor5']\n"
     ]
    },
    {
     "name": "stdout",
     "output_type": "stream",
     "text": [
      "[BEGIN] 20201212-232318 - WORLD-20201212-232416 - SCENE-20201212-232418 - 20201212-232452.json ===============\n",
      "DONE: 100/6119\n",
      "scene size: 3375 (15,15,15)\n",
      "[WORLD] -\n",
      "{u'indy0': [[1.2814872382601095, 1.9791097226812595, 0.5462345023620832], [0, 0, 5.159576269197487]], u'panda1': [[1.305072975565827, 0.8086290461919389, 0.6887670148790954], [0, 0, 1.6339263583933894]]}\n"
     ]
    },
    {
     "name": "stderr",
     "output_type": "stream",
     "text": [
      "Unknown tag \"hardwareInterface\" in /robot[@name='custom_robots']/transmission[@name='indy0_tran0']/actuator[@name='indy0_motor0']\n",
      "Unknown tag \"hardwareInterface\" in /robot[@name='custom_robots']/transmission[@name='indy0_tran1']/actuator[@name='indy0_motor1']\n",
      "Unknown tag \"hardwareInterface\" in /robot[@name='custom_robots']/transmission[@name='indy0_tran2']/actuator[@name='indy0_motor2']\n",
      "Unknown tag \"hardwareInterface\" in /robot[@name='custom_robots']/transmission[@name='indy0_tran3']/actuator[@name='indy0_motor3']\n",
      "Unknown tag \"hardwareInterface\" in /robot[@name='custom_robots']/transmission[@name='indy0_tran4']/actuator[@name='indy0_motor4']\n",
      "Unknown tag \"hardwareInterface\" in /robot[@name='custom_robots']/transmission[@name='indy0_tran5']/actuator[@name='indy0_motor5']\n"
     ]
    },
    {
     "name": "stdout",
     "output_type": "stream",
     "text": [
      "[BEGIN] 20201212-232318 - WORLD-20201212-232416 - SCENE-20201212-232418 - 20201212-232452.json ===============\n",
      "DONE: 101/6119\n",
      "scene size: 3375 (15,15,15)\n",
      "[WORLD] -\n",
      "{u'indy0': [[1.2814872382601095, 1.9791097226812595, 0.5462345023620832], [0, 0, 5.159576269197487]], u'panda1': [[1.305072975565827, 0.8086290461919389, 0.6887670148790954], [0, 0, 1.6339263583933894]]}\n"
     ]
    },
    {
     "name": "stderr",
     "output_type": "stream",
     "text": [
      "Unknown tag \"hardwareInterface\" in /robot[@name='custom_robots']/transmission[@name='indy0_tran0']/actuator[@name='indy0_motor0']\n",
      "Unknown tag \"hardwareInterface\" in /robot[@name='custom_robots']/transmission[@name='indy0_tran1']/actuator[@name='indy0_motor1']\n",
      "Unknown tag \"hardwareInterface\" in /robot[@name='custom_robots']/transmission[@name='indy0_tran2']/actuator[@name='indy0_motor2']\n",
      "Unknown tag \"hardwareInterface\" in /robot[@name='custom_robots']/transmission[@name='indy0_tran3']/actuator[@name='indy0_motor3']\n",
      "Unknown tag \"hardwareInterface\" in /robot[@name='custom_robots']/transmission[@name='indy0_tran4']/actuator[@name='indy0_motor4']\n",
      "Unknown tag \"hardwareInterface\" in /robot[@name='custom_robots']/transmission[@name='indy0_tran5']/actuator[@name='indy0_motor5']\n"
     ]
    },
    {
     "name": "stdout",
     "output_type": "stream",
     "text": [
      "[BEGIN] 20201212-232318 - WORLD-20201212-232416 - SCENE-20201212-232418 - 20201212-232452.json ===============\n",
      "DONE: 102/6119\n",
      "scene size: 3375 (15,15,15)\n",
      "[WORLD] -\n",
      "{u'indy0': [[1.2814872382601095, 1.9791097226812595, 0.5462345023620832], [0, 0, 5.159576269197487]], u'panda1': [[1.305072975565827, 0.8086290461919389, 0.6887670148790954], [0, 0, 1.6339263583933894]]}\n"
     ]
    },
    {
     "name": "stderr",
     "output_type": "stream",
     "text": [
      "Unknown tag \"hardwareInterface\" in /robot[@name='custom_robots']/transmission[@name='indy0_tran0']/actuator[@name='indy0_motor0']\n",
      "Unknown tag \"hardwareInterface\" in /robot[@name='custom_robots']/transmission[@name='indy0_tran1']/actuator[@name='indy0_motor1']\n",
      "Unknown tag \"hardwareInterface\" in /robot[@name='custom_robots']/transmission[@name='indy0_tran2']/actuator[@name='indy0_motor2']\n",
      "Unknown tag \"hardwareInterface\" in /robot[@name='custom_robots']/transmission[@name='indy0_tran3']/actuator[@name='indy0_motor3']\n",
      "Unknown tag \"hardwareInterface\" in /robot[@name='custom_robots']/transmission[@name='indy0_tran4']/actuator[@name='indy0_motor4']\n",
      "Unknown tag \"hardwareInterface\" in /robot[@name='custom_robots']/transmission[@name='indy0_tran5']/actuator[@name='indy0_motor5']\n"
     ]
    },
    {
     "name": "stdout",
     "output_type": "stream",
     "text": [
      "[BEGIN] 20201212-232318 - WORLD-20201212-232416 - SCENE-20201212-232418 - 20201212-232452.json ===============\n",
      "DONE: 103/6119\n",
      "scene size: 3375 (15,15,15)\n",
      "[WORLD] -\n",
      "{u'indy0': [[0.8492614525745168, 2.182704932268421, 0.6658800856059153], [0, 0, 5.632740831659979]], u'panda1': [[1.3969749456457654, 0.8259676449203646, 0.8933784488794703], [0, 0, 4.202271829594209]]}\n"
     ]
    },
    {
     "name": "stderr",
     "output_type": "stream",
     "text": [
      "Unknown tag \"hardwareInterface\" in /robot[@name='custom_robots']/transmission[@name='indy0_tran0']/actuator[@name='indy0_motor0']\n",
      "Unknown tag \"hardwareInterface\" in /robot[@name='custom_robots']/transmission[@name='indy0_tran1']/actuator[@name='indy0_motor1']\n",
      "Unknown tag \"hardwareInterface\" in /robot[@name='custom_robots']/transmission[@name='indy0_tran2']/actuator[@name='indy0_motor2']\n",
      "Unknown tag \"hardwareInterface\" in /robot[@name='custom_robots']/transmission[@name='indy0_tran3']/actuator[@name='indy0_motor3']\n",
      "Unknown tag \"hardwareInterface\" in /robot[@name='custom_robots']/transmission[@name='indy0_tran4']/actuator[@name='indy0_motor4']\n",
      "Unknown tag \"hardwareInterface\" in /robot[@name='custom_robots']/transmission[@name='indy0_tran5']/actuator[@name='indy0_motor5']\n"
     ]
    },
    {
     "name": "stdout",
     "output_type": "stream",
     "text": [
      "[BEGIN] 20201212-232318 - WORLD-20201212-232452 - SCENE-20201212-232454 - 20201212-232504.json ===============\n",
      "DONE: 104/6119\n",
      "scene size: 3375 (15,15,15)\n",
      "[WORLD] -\n",
      "{u'indy0': [[0.8492614525745168, 2.182704932268421, 0.6658800856059153], [0, 0, 5.632740831659979]], u'panda1': [[1.3969749456457654, 0.8259676449203646, 0.8933784488794703], [0, 0, 4.202271829594209]]}\n"
     ]
    },
    {
     "name": "stderr",
     "output_type": "stream",
     "text": [
      "Unknown tag \"hardwareInterface\" in /robot[@name='custom_robots']/transmission[@name='indy0_tran0']/actuator[@name='indy0_motor0']\n",
      "Unknown tag \"hardwareInterface\" in /robot[@name='custom_robots']/transmission[@name='indy0_tran1']/actuator[@name='indy0_motor1']\n",
      "Unknown tag \"hardwareInterface\" in /robot[@name='custom_robots']/transmission[@name='indy0_tran2']/actuator[@name='indy0_motor2']\n",
      "Unknown tag \"hardwareInterface\" in /robot[@name='custom_robots']/transmission[@name='indy0_tran3']/actuator[@name='indy0_motor3']\n",
      "Unknown tag \"hardwareInterface\" in /robot[@name='custom_robots']/transmission[@name='indy0_tran4']/actuator[@name='indy0_motor4']\n",
      "Unknown tag \"hardwareInterface\" in /robot[@name='custom_robots']/transmission[@name='indy0_tran5']/actuator[@name='indy0_motor5']\n"
     ]
    },
    {
     "name": "stdout",
     "output_type": "stream",
     "text": [
      "[BEGIN] 20201212-232318 - WORLD-20201212-232452 - SCENE-20201212-232454 - 20201212-232504.json ===============\n",
      "DONE: 105/6119\n",
      "scene size: 3375 (15,15,15)\n",
      "[WORLD] -\n",
      "{u'indy0': [[0.8492614525745168, 2.182704932268421, 0.6658800856059153], [0, 0, 5.632740831659979]], u'panda1': [[1.3969749456457654, 0.8259676449203646, 0.8933784488794703], [0, 0, 4.202271829594209]]}\n"
     ]
    },
    {
     "name": "stderr",
     "output_type": "stream",
     "text": [
      "Unknown tag \"hardwareInterface\" in /robot[@name='custom_robots']/transmission[@name='indy0_tran0']/actuator[@name='indy0_motor0']\n",
      "Unknown tag \"hardwareInterface\" in /robot[@name='custom_robots']/transmission[@name='indy0_tran1']/actuator[@name='indy0_motor1']\n",
      "Unknown tag \"hardwareInterface\" in /robot[@name='custom_robots']/transmission[@name='indy0_tran2']/actuator[@name='indy0_motor2']\n",
      "Unknown tag \"hardwareInterface\" in /robot[@name='custom_robots']/transmission[@name='indy0_tran3']/actuator[@name='indy0_motor3']\n",
      "Unknown tag \"hardwareInterface\" in /robot[@name='custom_robots']/transmission[@name='indy0_tran4']/actuator[@name='indy0_motor4']\n",
      "Unknown tag \"hardwareInterface\" in /robot[@name='custom_robots']/transmission[@name='indy0_tran5']/actuator[@name='indy0_motor5']\n"
     ]
    },
    {
     "name": "stdout",
     "output_type": "stream",
     "text": [
      "[BEGIN] 20201212-232318 - WORLD-20201212-232452 - SCENE-20201212-232454 - 20201212-232504.json ===============\n",
      "DONE: 106/6119\n",
      "scene size: 3375 (15,15,15)\n",
      "[WORLD] -\n",
      "{u'indy0': [[0.8492614525745168, 2.182704932268421, 0.6658800856059153], [0, 0, 5.632740831659979]], u'panda1': [[1.3969749456457654, 0.8259676449203646, 0.8933784488794703], [0, 0, 4.202271829594209]]}\n"
     ]
    },
    {
     "name": "stderr",
     "output_type": "stream",
     "text": [
      "Unknown tag \"hardwareInterface\" in /robot[@name='custom_robots']/transmission[@name='indy0_tran0']/actuator[@name='indy0_motor0']\n",
      "Unknown tag \"hardwareInterface\" in /robot[@name='custom_robots']/transmission[@name='indy0_tran1']/actuator[@name='indy0_motor1']\n",
      "Unknown tag \"hardwareInterface\" in /robot[@name='custom_robots']/transmission[@name='indy0_tran2']/actuator[@name='indy0_motor2']\n",
      "Unknown tag \"hardwareInterface\" in /robot[@name='custom_robots']/transmission[@name='indy0_tran3']/actuator[@name='indy0_motor3']\n",
      "Unknown tag \"hardwareInterface\" in /robot[@name='custom_robots']/transmission[@name='indy0_tran4']/actuator[@name='indy0_motor4']\n",
      "Unknown tag \"hardwareInterface\" in /robot[@name='custom_robots']/transmission[@name='indy0_tran5']/actuator[@name='indy0_motor5']\n"
     ]
    },
    {
     "name": "stdout",
     "output_type": "stream",
     "text": [
      "[BEGIN] 20201212-232318 - WORLD-20201212-232452 - SCENE-20201212-232454 - 20201212-232504.json ===============\n",
      "DONE: 107/6119\n",
      "scene size: 3375 (15,15,15)\n",
      "[WORLD] -\n",
      "{u'indy0': [[0.8492614525745168, 2.182704932268421, 0.6658800856059153], [0, 0, 5.632740831659979]], u'panda1': [[1.3969749456457654, 0.8259676449203646, 0.8933784488794703], [0, 0, 4.202271829594209]]}\n"
     ]
    },
    {
     "name": "stderr",
     "output_type": "stream",
     "text": [
      "Unknown tag \"hardwareInterface\" in /robot[@name='custom_robots']/transmission[@name='indy0_tran0']/actuator[@name='indy0_motor0']\n",
      "Unknown tag \"hardwareInterface\" in /robot[@name='custom_robots']/transmission[@name='indy0_tran1']/actuator[@name='indy0_motor1']\n",
      "Unknown tag \"hardwareInterface\" in /robot[@name='custom_robots']/transmission[@name='indy0_tran2']/actuator[@name='indy0_motor2']\n",
      "Unknown tag \"hardwareInterface\" in /robot[@name='custom_robots']/transmission[@name='indy0_tran3']/actuator[@name='indy0_motor3']\n",
      "Unknown tag \"hardwareInterface\" in /robot[@name='custom_robots']/transmission[@name='indy0_tran4']/actuator[@name='indy0_motor4']\n",
      "Unknown tag \"hardwareInterface\" in /robot[@name='custom_robots']/transmission[@name='indy0_tran5']/actuator[@name='indy0_motor5']\n"
     ]
    },
    {
     "name": "stdout",
     "output_type": "stream",
     "text": [
      "[BEGIN] 20201212-232318 - WORLD-20201212-232452 - SCENE-20201212-232454 - 20201212-232504.json ===============\n",
      "DONE: 108/6119\n",
      "scene size: 3375 (15,15,15)\n",
      "[WORLD] -\n",
      "{u'indy0': [[0.8492614525745168, 2.182704932268421, 0.6658800856059153], [0, 0, 5.632740831659979]], u'panda1': [[1.3969749456457654, 0.8259676449203646, 0.8933784488794703], [0, 0, 4.202271829594209]]}\n"
     ]
    },
    {
     "name": "stderr",
     "output_type": "stream",
     "text": [
      "Unknown tag \"hardwareInterface\" in /robot[@name='custom_robots']/transmission[@name='indy0_tran0']/actuator[@name='indy0_motor0']\n",
      "Unknown tag \"hardwareInterface\" in /robot[@name='custom_robots']/transmission[@name='indy0_tran1']/actuator[@name='indy0_motor1']\n",
      "Unknown tag \"hardwareInterface\" in /robot[@name='custom_robots']/transmission[@name='indy0_tran2']/actuator[@name='indy0_motor2']\n",
      "Unknown tag \"hardwareInterface\" in /robot[@name='custom_robots']/transmission[@name='indy0_tran3']/actuator[@name='indy0_motor3']\n",
      "Unknown tag \"hardwareInterface\" in /robot[@name='custom_robots']/transmission[@name='indy0_tran4']/actuator[@name='indy0_motor4']\n",
      "Unknown tag \"hardwareInterface\" in /robot[@name='custom_robots']/transmission[@name='indy0_tran5']/actuator[@name='indy0_motor5']\n"
     ]
    },
    {
     "name": "stdout",
     "output_type": "stream",
     "text": [
      "[BEGIN] 20201212-232318 - WORLD-20201212-232452 - SCENE-20201212-232454 - 20201212-232504.json ===============\n",
      "DONE: 109/6119\n",
      "scene size: 3375 (15,15,15)\n",
      "[WORLD] -\n",
      "{u'indy0': [[0.8492614525745168, 2.182704932268421, 0.6658800856059153], [0, 0, 5.632740831659979]], u'panda1': [[1.3969749456457654, 0.8259676449203646, 0.8933784488794703], [0, 0, 4.202271829594209]]}\n"
     ]
    },
    {
     "name": "stderr",
     "output_type": "stream",
     "text": [
      "Unknown tag \"hardwareInterface\" in /robot[@name='custom_robots']/transmission[@name='indy0_tran0']/actuator[@name='indy0_motor0']\n",
      "Unknown tag \"hardwareInterface\" in /robot[@name='custom_robots']/transmission[@name='indy0_tran1']/actuator[@name='indy0_motor1']\n",
      "Unknown tag \"hardwareInterface\" in /robot[@name='custom_robots']/transmission[@name='indy0_tran2']/actuator[@name='indy0_motor2']\n",
      "Unknown tag \"hardwareInterface\" in /robot[@name='custom_robots']/transmission[@name='indy0_tran3']/actuator[@name='indy0_motor3']\n",
      "Unknown tag \"hardwareInterface\" in /robot[@name='custom_robots']/transmission[@name='indy0_tran4']/actuator[@name='indy0_motor4']\n",
      "Unknown tag \"hardwareInterface\" in /robot[@name='custom_robots']/transmission[@name='indy0_tran5']/actuator[@name='indy0_motor5']\n"
     ]
    },
    {
     "name": "stdout",
     "output_type": "stream",
     "text": [
      "[BEGIN] 20201212-232318 - WORLD-20201212-232452 - SCENE-20201212-232454 - 20201212-232504.json ===============\n",
      "DONE: 110/6119\n",
      "scene size: 3375 (15,15,15)\n",
      "[WORLD] -\n",
      "{u'indy0': [[0.8492614525745168, 2.182704932268421, 0.6658800856059153], [0, 0, 5.632740831659979]], u'panda1': [[1.3969749456457654, 0.8259676449203646, 0.8933784488794703], [0, 0, 4.202271829594209]]}\n"
     ]
    },
    {
     "name": "stderr",
     "output_type": "stream",
     "text": [
      "Unknown tag \"hardwareInterface\" in /robot[@name='custom_robots']/transmission[@name='indy0_tran0']/actuator[@name='indy0_motor0']\n",
      "Unknown tag \"hardwareInterface\" in /robot[@name='custom_robots']/transmission[@name='indy0_tran1']/actuator[@name='indy0_motor1']\n",
      "Unknown tag \"hardwareInterface\" in /robot[@name='custom_robots']/transmission[@name='indy0_tran2']/actuator[@name='indy0_motor2']\n",
      "Unknown tag \"hardwareInterface\" in /robot[@name='custom_robots']/transmission[@name='indy0_tran3']/actuator[@name='indy0_motor3']\n",
      "Unknown tag \"hardwareInterface\" in /robot[@name='custom_robots']/transmission[@name='indy0_tran4']/actuator[@name='indy0_motor4']\n",
      "Unknown tag \"hardwareInterface\" in /robot[@name='custom_robots']/transmission[@name='indy0_tran5']/actuator[@name='indy0_motor5']\n"
     ]
    },
    {
     "name": "stdout",
     "output_type": "stream",
     "text": [
      "[BEGIN] 20201212-232318 - WORLD-20201212-232452 - SCENE-20201212-232454 - 20201212-232504.json ===============\n",
      "DONE: 111/6119\n",
      "scene size: 3375 (15,15,15)\n",
      "[WORLD] -\n",
      "{u'indy0': [[0.8492614525745168, 2.182704932268421, 0.6658800856059153], [0, 0, 5.632740831659979]], u'panda1': [[1.3969749456457654, 0.8259676449203646, 0.8933784488794703], [0, 0, 4.202271829594209]]}\n"
     ]
    },
    {
     "name": "stderr",
     "output_type": "stream",
     "text": [
      "Unknown tag \"hardwareInterface\" in /robot[@name='custom_robots']/transmission[@name='indy0_tran0']/actuator[@name='indy0_motor0']\n",
      "Unknown tag \"hardwareInterface\" in /robot[@name='custom_robots']/transmission[@name='indy0_tran1']/actuator[@name='indy0_motor1']\n",
      "Unknown tag \"hardwareInterface\" in /robot[@name='custom_robots']/transmission[@name='indy0_tran2']/actuator[@name='indy0_motor2']\n",
      "Unknown tag \"hardwareInterface\" in /robot[@name='custom_robots']/transmission[@name='indy0_tran3']/actuator[@name='indy0_motor3']\n",
      "Unknown tag \"hardwareInterface\" in /robot[@name='custom_robots']/transmission[@name='indy0_tran4']/actuator[@name='indy0_motor4']\n",
      "Unknown tag \"hardwareInterface\" in /robot[@name='custom_robots']/transmission[@name='indy0_tran5']/actuator[@name='indy0_motor5']\n"
     ]
    },
    {
     "name": "stdout",
     "output_type": "stream",
     "text": [
      "[BEGIN] 20201212-232318 - WORLD-20201212-232452 - SCENE-20201212-232454 - 20201212-232512.json ===============\n",
      "DONE: 112/6119\n",
      "scene size: 3375 (15,15,15)\n",
      "[WORLD] -\n",
      "{u'indy0': [[0.8492614525745168, 2.182704932268421, 0.6658800856059153], [0, 0, 5.632740831659979]], u'panda1': [[1.3969749456457654, 0.8259676449203646, 0.8933784488794703], [0, 0, 4.202271829594209]]}\n"
     ]
    },
    {
     "name": "stderr",
     "output_type": "stream",
     "text": [
      "Unknown tag \"hardwareInterface\" in /robot[@name='custom_robots']/transmission[@name='indy0_tran0']/actuator[@name='indy0_motor0']\n",
      "Unknown tag \"hardwareInterface\" in /robot[@name='custom_robots']/transmission[@name='indy0_tran1']/actuator[@name='indy0_motor1']\n",
      "Unknown tag \"hardwareInterface\" in /robot[@name='custom_robots']/transmission[@name='indy0_tran2']/actuator[@name='indy0_motor2']\n",
      "Unknown tag \"hardwareInterface\" in /robot[@name='custom_robots']/transmission[@name='indy0_tran3']/actuator[@name='indy0_motor3']\n",
      "Unknown tag \"hardwareInterface\" in /robot[@name='custom_robots']/transmission[@name='indy0_tran4']/actuator[@name='indy0_motor4']\n",
      "Unknown tag \"hardwareInterface\" in /robot[@name='custom_robots']/transmission[@name='indy0_tran5']/actuator[@name='indy0_motor5']\n"
     ]
    },
    {
     "name": "stdout",
     "output_type": "stream",
     "text": [
      "[BEGIN] 20201212-232318 - WORLD-20201212-232452 - SCENE-20201212-232454 - 20201212-232512.json ===============\n",
      "DONE: 113/6119\n",
      "scene size: 3375 (15,15,15)\n",
      "[WORLD] -\n",
      "{u'indy0': [[0.8492614525745168, 2.182704932268421, 0.6658800856059153], [0, 0, 5.632740831659979]], u'panda1': [[1.3969749456457654, 0.8259676449203646, 0.8933784488794703], [0, 0, 4.202271829594209]]}\n"
     ]
    },
    {
     "name": "stderr",
     "output_type": "stream",
     "text": [
      "Unknown tag \"hardwareInterface\" in /robot[@name='custom_robots']/transmission[@name='indy0_tran0']/actuator[@name='indy0_motor0']\n",
      "Unknown tag \"hardwareInterface\" in /robot[@name='custom_robots']/transmission[@name='indy0_tran1']/actuator[@name='indy0_motor1']\n",
      "Unknown tag \"hardwareInterface\" in /robot[@name='custom_robots']/transmission[@name='indy0_tran2']/actuator[@name='indy0_motor2']\n",
      "Unknown tag \"hardwareInterface\" in /robot[@name='custom_robots']/transmission[@name='indy0_tran3']/actuator[@name='indy0_motor3']\n",
      "Unknown tag \"hardwareInterface\" in /robot[@name='custom_robots']/transmission[@name='indy0_tran4']/actuator[@name='indy0_motor4']\n",
      "Unknown tag \"hardwareInterface\" in /robot[@name='custom_robots']/transmission[@name='indy0_tran5']/actuator[@name='indy0_motor5']\n"
     ]
    },
    {
     "name": "stdout",
     "output_type": "stream",
     "text": [
      "[BEGIN] 20201212-232318 - WORLD-20201212-232452 - SCENE-20201212-232454 - 20201212-232512.json ===============\n",
      "DONE: 114/6119\n",
      "scene size: 3375 (15,15,15)\n",
      "[WORLD] -\n",
      "{u'indy0': [[0.8492614525745168, 2.182704932268421, 0.6658800856059153], [0, 0, 5.632740831659979]], u'panda1': [[1.3969749456457654, 0.8259676449203646, 0.8933784488794703], [0, 0, 4.202271829594209]]}\n"
     ]
    },
    {
     "name": "stderr",
     "output_type": "stream",
     "text": [
      "Unknown tag \"hardwareInterface\" in /robot[@name='custom_robots']/transmission[@name='indy0_tran0']/actuator[@name='indy0_motor0']\n",
      "Unknown tag \"hardwareInterface\" in /robot[@name='custom_robots']/transmission[@name='indy0_tran1']/actuator[@name='indy0_motor1']\n",
      "Unknown tag \"hardwareInterface\" in /robot[@name='custom_robots']/transmission[@name='indy0_tran2']/actuator[@name='indy0_motor2']\n",
      "Unknown tag \"hardwareInterface\" in /robot[@name='custom_robots']/transmission[@name='indy0_tran3']/actuator[@name='indy0_motor3']\n",
      "Unknown tag \"hardwareInterface\" in /robot[@name='custom_robots']/transmission[@name='indy0_tran4']/actuator[@name='indy0_motor4']\n",
      "Unknown tag \"hardwareInterface\" in /robot[@name='custom_robots']/transmission[@name='indy0_tran5']/actuator[@name='indy0_motor5']\n"
     ]
    },
    {
     "name": "stdout",
     "output_type": "stream",
     "text": [
      "[BEGIN] 20201212-232318 - WORLD-20201212-232452 - SCENE-20201212-232454 - 20201212-232512.json ===============\n",
      "DONE: 115/6119\n",
      "scene size: 3375 (15,15,15)\n",
      "[WORLD] -\n",
      "{u'indy0': [[0.8492614525745168, 2.182704932268421, 0.6658800856059153], [0, 0, 5.632740831659979]], u'panda1': [[1.3969749456457654, 0.8259676449203646, 0.8933784488794703], [0, 0, 4.202271829594209]]}\n"
     ]
    },
    {
     "name": "stderr",
     "output_type": "stream",
     "text": [
      "Unknown tag \"hardwareInterface\" in /robot[@name='custom_robots']/transmission[@name='indy0_tran0']/actuator[@name='indy0_motor0']\n",
      "Unknown tag \"hardwareInterface\" in /robot[@name='custom_robots']/transmission[@name='indy0_tran1']/actuator[@name='indy0_motor1']\n",
      "Unknown tag \"hardwareInterface\" in /robot[@name='custom_robots']/transmission[@name='indy0_tran2']/actuator[@name='indy0_motor2']\n",
      "Unknown tag \"hardwareInterface\" in /robot[@name='custom_robots']/transmission[@name='indy0_tran3']/actuator[@name='indy0_motor3']\n",
      "Unknown tag \"hardwareInterface\" in /robot[@name='custom_robots']/transmission[@name='indy0_tran4']/actuator[@name='indy0_motor4']\n",
      "Unknown tag \"hardwareInterface\" in /robot[@name='custom_robots']/transmission[@name='indy0_tran5']/actuator[@name='indy0_motor5']\n"
     ]
    },
    {
     "name": "stdout",
     "output_type": "stream",
     "text": [
      "[BEGIN] 20201212-232318 - WORLD-20201212-232452 - SCENE-20201212-232454 - 20201212-232512.json ===============\n",
      "DONE: 116/6119\n",
      "scene size: 3375 (15,15,15)\n",
      "[WORLD] -\n",
      "{u'indy0': [[0.8492614525745168, 2.182704932268421, 0.6658800856059153], [0, 0, 5.632740831659979]], u'panda1': [[1.3969749456457654, 0.8259676449203646, 0.8933784488794703], [0, 0, 4.202271829594209]]}\n"
     ]
    },
    {
     "name": "stderr",
     "output_type": "stream",
     "text": [
      "Unknown tag \"hardwareInterface\" in /robot[@name='custom_robots']/transmission[@name='indy0_tran0']/actuator[@name='indy0_motor0']\n",
      "Unknown tag \"hardwareInterface\" in /robot[@name='custom_robots']/transmission[@name='indy0_tran1']/actuator[@name='indy0_motor1']\n",
      "Unknown tag \"hardwareInterface\" in /robot[@name='custom_robots']/transmission[@name='indy0_tran2']/actuator[@name='indy0_motor2']\n",
      "Unknown tag \"hardwareInterface\" in /robot[@name='custom_robots']/transmission[@name='indy0_tran3']/actuator[@name='indy0_motor3']\n",
      "Unknown tag \"hardwareInterface\" in /robot[@name='custom_robots']/transmission[@name='indy0_tran4']/actuator[@name='indy0_motor4']\n",
      "Unknown tag \"hardwareInterface\" in /robot[@name='custom_robots']/transmission[@name='indy0_tran5']/actuator[@name='indy0_motor5']\n"
     ]
    },
    {
     "name": "stdout",
     "output_type": "stream",
     "text": [
      "[BEGIN] 20201212-232318 - WORLD-20201212-232452 - SCENE-20201212-232454 - 20201212-232512.json ===============\n",
      "DONE: 117/6119\n",
      "scene size: 3375 (15,15,15)\n",
      "[WORLD] -\n",
      "{u'indy0': [[0.8492614525745168, 2.182704932268421, 0.6658800856059153], [0, 0, 5.632740831659979]], u'panda1': [[1.3969749456457654, 0.8259676449203646, 0.8933784488794703], [0, 0, 4.202271829594209]]}\n"
     ]
    },
    {
     "name": "stderr",
     "output_type": "stream",
     "text": [
      "Unknown tag \"hardwareInterface\" in /robot[@name='custom_robots']/transmission[@name='indy0_tran0']/actuator[@name='indy0_motor0']\n",
      "Unknown tag \"hardwareInterface\" in /robot[@name='custom_robots']/transmission[@name='indy0_tran1']/actuator[@name='indy0_motor1']\n",
      "Unknown tag \"hardwareInterface\" in /robot[@name='custom_robots']/transmission[@name='indy0_tran2']/actuator[@name='indy0_motor2']\n",
      "Unknown tag \"hardwareInterface\" in /robot[@name='custom_robots']/transmission[@name='indy0_tran3']/actuator[@name='indy0_motor3']\n",
      "Unknown tag \"hardwareInterface\" in /robot[@name='custom_robots']/transmission[@name='indy0_tran4']/actuator[@name='indy0_motor4']\n",
      "Unknown tag \"hardwareInterface\" in /robot[@name='custom_robots']/transmission[@name='indy0_tran5']/actuator[@name='indy0_motor5']\n"
     ]
    },
    {
     "name": "stdout",
     "output_type": "stream",
     "text": [
      "[BEGIN] 20201212-232318 - WORLD-20201212-232452 - SCENE-20201212-232454 - 20201212-232512.json ===============\n",
      "DONE: 118/6119\n",
      "scene size: 3375 (15,15,15)\n",
      "[WORLD] -\n",
      "{u'indy0': [[0.8492614525745168, 2.182704932268421, 0.6658800856059153], [0, 0, 5.632740831659979]], u'panda1': [[1.3969749456457654, 0.8259676449203646, 0.8933784488794703], [0, 0, 4.202271829594209]]}\n"
     ]
    },
    {
     "name": "stderr",
     "output_type": "stream",
     "text": [
      "Unknown tag \"hardwareInterface\" in /robot[@name='custom_robots']/transmission[@name='indy0_tran0']/actuator[@name='indy0_motor0']\n",
      "Unknown tag \"hardwareInterface\" in /robot[@name='custom_robots']/transmission[@name='indy0_tran1']/actuator[@name='indy0_motor1']\n",
      "Unknown tag \"hardwareInterface\" in /robot[@name='custom_robots']/transmission[@name='indy0_tran2']/actuator[@name='indy0_motor2']\n",
      "Unknown tag \"hardwareInterface\" in /robot[@name='custom_robots']/transmission[@name='indy0_tran3']/actuator[@name='indy0_motor3']\n",
      "Unknown tag \"hardwareInterface\" in /robot[@name='custom_robots']/transmission[@name='indy0_tran4']/actuator[@name='indy0_motor4']\n",
      "Unknown tag \"hardwareInterface\" in /robot[@name='custom_robots']/transmission[@name='indy0_tran5']/actuator[@name='indy0_motor5']\n"
     ]
    },
    {
     "name": "stdout",
     "output_type": "stream",
     "text": [
      "[BEGIN] 20201212-232318 - WORLD-20201212-232452 - SCENE-20201212-232454 - 20201212-232512.json ===============\n",
      "DONE: 119/6119\n",
      "scene size: 3375 (15,15,15)\n",
      "[WORLD] -\n",
      "{u'indy0': [[0.8492614525745168, 2.182704932268421, 0.6658800856059153], [0, 0, 5.632740831659979]], u'panda1': [[1.3969749456457654, 0.8259676449203646, 0.8933784488794703], [0, 0, 4.202271829594209]]}\n"
     ]
    },
    {
     "name": "stderr",
     "output_type": "stream",
     "text": [
      "Unknown tag \"hardwareInterface\" in /robot[@name='custom_robots']/transmission[@name='indy0_tran0']/actuator[@name='indy0_motor0']\n",
      "Unknown tag \"hardwareInterface\" in /robot[@name='custom_robots']/transmission[@name='indy0_tran1']/actuator[@name='indy0_motor1']\n",
      "Unknown tag \"hardwareInterface\" in /robot[@name='custom_robots']/transmission[@name='indy0_tran2']/actuator[@name='indy0_motor2']\n",
      "Unknown tag \"hardwareInterface\" in /robot[@name='custom_robots']/transmission[@name='indy0_tran3']/actuator[@name='indy0_motor3']\n",
      "Unknown tag \"hardwareInterface\" in /robot[@name='custom_robots']/transmission[@name='indy0_tran4']/actuator[@name='indy0_motor4']\n",
      "Unknown tag \"hardwareInterface\" in /robot[@name='custom_robots']/transmission[@name='indy0_tran5']/actuator[@name='indy0_motor5']\n"
     ]
    },
    {
     "name": "stdout",
     "output_type": "stream",
     "text": [
      "[BEGIN] 20201212-232318 - WORLD-20201212-232452 - SCENE-20201212-232454 - 20201212-232512.json ===============\n",
      "DONE: 120/6119\n",
      "scene size: 3375 (15,15,15)\n",
      "[WORLD] -\n",
      "{u'indy0': [[0.8492614525745168, 2.182704932268421, 0.6658800856059153], [0, 0, 5.632740831659979]], u'panda1': [[1.3969749456457654, 0.8259676449203646, 0.8933784488794703], [0, 0, 4.202271829594209]]}\n"
     ]
    },
    {
     "name": "stderr",
     "output_type": "stream",
     "text": [
      "Unknown tag \"hardwareInterface\" in /robot[@name='custom_robots']/transmission[@name='indy0_tran0']/actuator[@name='indy0_motor0']\n",
      "Unknown tag \"hardwareInterface\" in /robot[@name='custom_robots']/transmission[@name='indy0_tran1']/actuator[@name='indy0_motor1']\n",
      "Unknown tag \"hardwareInterface\" in /robot[@name='custom_robots']/transmission[@name='indy0_tran2']/actuator[@name='indy0_motor2']\n",
      "Unknown tag \"hardwareInterface\" in /robot[@name='custom_robots']/transmission[@name='indy0_tran3']/actuator[@name='indy0_motor3']\n",
      "Unknown tag \"hardwareInterface\" in /robot[@name='custom_robots']/transmission[@name='indy0_tran4']/actuator[@name='indy0_motor4']\n",
      "Unknown tag \"hardwareInterface\" in /robot[@name='custom_robots']/transmission[@name='indy0_tran5']/actuator[@name='indy0_motor5']\n"
     ]
    },
    {
     "name": "stdout",
     "output_type": "stream",
     "text": [
      "[BEGIN] 20201212-232318 - WORLD-20201212-232452 - SCENE-20201212-232454 - 20201212-232512.json ===============\n",
      "DONE: 121/6119\n",
      "scene size: 3375 (15,15,15)\n",
      "[WORLD] -\n",
      "{u'indy0': [[0.8492614525745168, 2.182704932268421, 0.6658800856059153], [0, 0, 5.632740831659979]], u'panda1': [[1.3969749456457654, 0.8259676449203646, 0.8933784488794703], [0, 0, 4.202271829594209]]}\n"
     ]
    },
    {
     "name": "stderr",
     "output_type": "stream",
     "text": [
      "Unknown tag \"hardwareInterface\" in /robot[@name='custom_robots']/transmission[@name='indy0_tran0']/actuator[@name='indy0_motor0']\n",
      "Unknown tag \"hardwareInterface\" in /robot[@name='custom_robots']/transmission[@name='indy0_tran1']/actuator[@name='indy0_motor1']\n",
      "Unknown tag \"hardwareInterface\" in /robot[@name='custom_robots']/transmission[@name='indy0_tran2']/actuator[@name='indy0_motor2']\n",
      "Unknown tag \"hardwareInterface\" in /robot[@name='custom_robots']/transmission[@name='indy0_tran3']/actuator[@name='indy0_motor3']\n",
      "Unknown tag \"hardwareInterface\" in /robot[@name='custom_robots']/transmission[@name='indy0_tran4']/actuator[@name='indy0_motor4']\n",
      "Unknown tag \"hardwareInterface\" in /robot[@name='custom_robots']/transmission[@name='indy0_tran5']/actuator[@name='indy0_motor5']\n"
     ]
    },
    {
     "name": "stdout",
     "output_type": "stream",
     "text": [
      "[BEGIN] 20201212-232318 - WORLD-20201212-232452 - SCENE-20201212-232454 - 20201212-232512.json ===============\n",
      "DONE: 122/6119\n",
      "scene size: 3375 (15,15,15)\n",
      "[WORLD] -\n",
      "{u'indy0': [[0.8492614525745168, 2.182704932268421, 0.6658800856059153], [0, 0, 5.632740831659979]], u'panda1': [[1.3969749456457654, 0.8259676449203646, 0.8933784488794703], [0, 0, 4.202271829594209]]}\n"
     ]
    },
    {
     "name": "stderr",
     "output_type": "stream",
     "text": [
      "Unknown tag \"hardwareInterface\" in /robot[@name='custom_robots']/transmission[@name='indy0_tran0']/actuator[@name='indy0_motor0']\n",
      "Unknown tag \"hardwareInterface\" in /robot[@name='custom_robots']/transmission[@name='indy0_tran1']/actuator[@name='indy0_motor1']\n",
      "Unknown tag \"hardwareInterface\" in /robot[@name='custom_robots']/transmission[@name='indy0_tran2']/actuator[@name='indy0_motor2']\n",
      "Unknown tag \"hardwareInterface\" in /robot[@name='custom_robots']/transmission[@name='indy0_tran3']/actuator[@name='indy0_motor3']\n",
      "Unknown tag \"hardwareInterface\" in /robot[@name='custom_robots']/transmission[@name='indy0_tran4']/actuator[@name='indy0_motor4']\n",
      "Unknown tag \"hardwareInterface\" in /robot[@name='custom_robots']/transmission[@name='indy0_tran5']/actuator[@name='indy0_motor5']\n"
     ]
    },
    {
     "name": "stdout",
     "output_type": "stream",
     "text": [
      "[BEGIN] 20201212-232318 - WORLD-20201212-232452 - SCENE-20201212-232454 - 20201212-232512.json ===============\n",
      "DONE: 123/6119\n",
      "scene size: 3375 (15,15,15)\n",
      "[WORLD] -\n",
      "{u'indy0': [[1.2978010866890628, 1.7581964595629733, 0.6289078054334509], [0, 0, 2.6427813746503137]], u'panda1': [[1.9189106662711062, 0.9480682758861709, 0.7601123304778195], [0, 0, 2.575363634710389]]}\n"
     ]
    },
    {
     "name": "stderr",
     "output_type": "stream",
     "text": [
      "Unknown tag \"hardwareInterface\" in /robot[@name='custom_robots']/transmission[@name='indy0_tran0']/actuator[@name='indy0_motor0']\n",
      "Unknown tag \"hardwareInterface\" in /robot[@name='custom_robots']/transmission[@name='indy0_tran1']/actuator[@name='indy0_motor1']\n",
      "Unknown tag \"hardwareInterface\" in /robot[@name='custom_robots']/transmission[@name='indy0_tran2']/actuator[@name='indy0_motor2']\n",
      "Unknown tag \"hardwareInterface\" in /robot[@name='custom_robots']/transmission[@name='indy0_tran3']/actuator[@name='indy0_motor3']\n",
      "Unknown tag \"hardwareInterface\" in /robot[@name='custom_robots']/transmission[@name='indy0_tran4']/actuator[@name='indy0_motor4']\n",
      "Unknown tag \"hardwareInterface\" in /robot[@name='custom_robots']/transmission[@name='indy0_tran5']/actuator[@name='indy0_motor5']\n"
     ]
    },
    {
     "name": "stdout",
     "output_type": "stream",
     "text": [
      "[BEGIN] 20201212-232318 - WORLD-20201212-232512 - SCENE-20201212-232514 - 20201212-232527.json ===============\n",
      "DONE: 124/6119\n",
      "scene size: 3375 (15,15,15)\n",
      "[WORLD] -\n",
      "{u'indy0': [[1.2978010866890628, 1.7581964595629733, 0.6289078054334509], [0, 0, 2.6427813746503137]], u'panda1': [[1.9189106662711062, 0.9480682758861709, 0.7601123304778195], [0, 0, 2.575363634710389]]}\n"
     ]
    },
    {
     "name": "stderr",
     "output_type": "stream",
     "text": [
      "Unknown tag \"hardwareInterface\" in /robot[@name='custom_robots']/transmission[@name='indy0_tran0']/actuator[@name='indy0_motor0']\n",
      "Unknown tag \"hardwareInterface\" in /robot[@name='custom_robots']/transmission[@name='indy0_tran1']/actuator[@name='indy0_motor1']\n",
      "Unknown tag \"hardwareInterface\" in /robot[@name='custom_robots']/transmission[@name='indy0_tran2']/actuator[@name='indy0_motor2']\n",
      "Unknown tag \"hardwareInterface\" in /robot[@name='custom_robots']/transmission[@name='indy0_tran3']/actuator[@name='indy0_motor3']\n",
      "Unknown tag \"hardwareInterface\" in /robot[@name='custom_robots']/transmission[@name='indy0_tran4']/actuator[@name='indy0_motor4']\n",
      "Unknown tag \"hardwareInterface\" in /robot[@name='custom_robots']/transmission[@name='indy0_tran5']/actuator[@name='indy0_motor5']\n"
     ]
    },
    {
     "name": "stdout",
     "output_type": "stream",
     "text": [
      "[BEGIN] 20201212-232318 - WORLD-20201212-232512 - SCENE-20201212-232514 - 20201212-232527.json ===============\n",
      "DONE: 125/6119\n",
      "scene size: 3375 (15,15,15)\n",
      "[WORLD] -\n",
      "{u'indy0': [[1.2978010866890628, 1.7581964595629733, 0.6289078054334509], [0, 0, 2.6427813746503137]], u'panda1': [[1.9189106662711062, 0.9480682758861709, 0.7601123304778195], [0, 0, 2.575363634710389]]}\n"
     ]
    },
    {
     "name": "stderr",
     "output_type": "stream",
     "text": [
      "Unknown tag \"hardwareInterface\" in /robot[@name='custom_robots']/transmission[@name='indy0_tran0']/actuator[@name='indy0_motor0']\n",
      "Unknown tag \"hardwareInterface\" in /robot[@name='custom_robots']/transmission[@name='indy0_tran1']/actuator[@name='indy0_motor1']\n",
      "Unknown tag \"hardwareInterface\" in /robot[@name='custom_robots']/transmission[@name='indy0_tran2']/actuator[@name='indy0_motor2']\n",
      "Unknown tag \"hardwareInterface\" in /robot[@name='custom_robots']/transmission[@name='indy0_tran3']/actuator[@name='indy0_motor3']\n",
      "Unknown tag \"hardwareInterface\" in /robot[@name='custom_robots']/transmission[@name='indy0_tran4']/actuator[@name='indy0_motor4']\n",
      "Unknown tag \"hardwareInterface\" in /robot[@name='custom_robots']/transmission[@name='indy0_tran5']/actuator[@name='indy0_motor5']\n"
     ]
    },
    {
     "name": "stdout",
     "output_type": "stream",
     "text": [
      "[BEGIN] 20201212-232318 - WORLD-20201212-232512 - SCENE-20201212-232514 - 20201212-232527.json ===============\n",
      "DONE: 126/6119\n",
      "scene size: 3375 (15,15,15)\n",
      "[WORLD] -\n",
      "{u'indy0': [[1.2978010866890628, 1.7581964595629733, 0.6289078054334509], [0, 0, 2.6427813746503137]], u'panda1': [[1.9189106662711062, 0.9480682758861709, 0.7601123304778195], [0, 0, 2.575363634710389]]}\n"
     ]
    },
    {
     "name": "stderr",
     "output_type": "stream",
     "text": [
      "Unknown tag \"hardwareInterface\" in /robot[@name='custom_robots']/transmission[@name='indy0_tran0']/actuator[@name='indy0_motor0']\n",
      "Unknown tag \"hardwareInterface\" in /robot[@name='custom_robots']/transmission[@name='indy0_tran1']/actuator[@name='indy0_motor1']\n",
      "Unknown tag \"hardwareInterface\" in /robot[@name='custom_robots']/transmission[@name='indy0_tran2']/actuator[@name='indy0_motor2']\n",
      "Unknown tag \"hardwareInterface\" in /robot[@name='custom_robots']/transmission[@name='indy0_tran3']/actuator[@name='indy0_motor3']\n",
      "Unknown tag \"hardwareInterface\" in /robot[@name='custom_robots']/transmission[@name='indy0_tran4']/actuator[@name='indy0_motor4']\n",
      "Unknown tag \"hardwareInterface\" in /robot[@name='custom_robots']/transmission[@name='indy0_tran5']/actuator[@name='indy0_motor5']\n"
     ]
    },
    {
     "name": "stdout",
     "output_type": "stream",
     "text": [
      "[BEGIN] 20201212-232318 - WORLD-20201212-232512 - SCENE-20201212-232514 - 20201212-232527.json ===============\n",
      "DONE: 127/6119\n",
      "scene size: 3375 (15,15,15)\n",
      "[WORLD] -\n",
      "{u'indy0': [[1.2978010866890628, 1.7581964595629733, 0.6289078054334509], [0, 0, 2.6427813746503137]], u'panda1': [[1.9189106662711062, 0.9480682758861709, 0.7601123304778195], [0, 0, 2.575363634710389]]}\n"
     ]
    },
    {
     "name": "stderr",
     "output_type": "stream",
     "text": [
      "Unknown tag \"hardwareInterface\" in /robot[@name='custom_robots']/transmission[@name='indy0_tran0']/actuator[@name='indy0_motor0']\n",
      "Unknown tag \"hardwareInterface\" in /robot[@name='custom_robots']/transmission[@name='indy0_tran1']/actuator[@name='indy0_motor1']\n",
      "Unknown tag \"hardwareInterface\" in /robot[@name='custom_robots']/transmission[@name='indy0_tran2']/actuator[@name='indy0_motor2']\n",
      "Unknown tag \"hardwareInterface\" in /robot[@name='custom_robots']/transmission[@name='indy0_tran3']/actuator[@name='indy0_motor3']\n",
      "Unknown tag \"hardwareInterface\" in /robot[@name='custom_robots']/transmission[@name='indy0_tran4']/actuator[@name='indy0_motor4']\n",
      "Unknown tag \"hardwareInterface\" in /robot[@name='custom_robots']/transmission[@name='indy0_tran5']/actuator[@name='indy0_motor5']\n"
     ]
    },
    {
     "name": "stdout",
     "output_type": "stream",
     "text": [
      "[BEGIN] 20201212-232318 - WORLD-20201212-232512 - SCENE-20201212-232514 - 20201212-232527.json ===============\n",
      "DONE: 128/6119\n",
      "scene size: 3375 (15,15,15)\n",
      "[WORLD] -\n",
      "{u'indy0': [[1.2978010866890628, 1.7581964595629733, 0.6289078054334509], [0, 0, 2.6427813746503137]], u'panda1': [[1.9189106662711062, 0.9480682758861709, 0.7601123304778195], [0, 0, 2.575363634710389]]}\n"
     ]
    },
    {
     "name": "stderr",
     "output_type": "stream",
     "text": [
      "Unknown tag \"hardwareInterface\" in /robot[@name='custom_robots']/transmission[@name='indy0_tran0']/actuator[@name='indy0_motor0']\n",
      "Unknown tag \"hardwareInterface\" in /robot[@name='custom_robots']/transmission[@name='indy0_tran1']/actuator[@name='indy0_motor1']\n",
      "Unknown tag \"hardwareInterface\" in /robot[@name='custom_robots']/transmission[@name='indy0_tran2']/actuator[@name='indy0_motor2']\n",
      "Unknown tag \"hardwareInterface\" in /robot[@name='custom_robots']/transmission[@name='indy0_tran3']/actuator[@name='indy0_motor3']\n",
      "Unknown tag \"hardwareInterface\" in /robot[@name='custom_robots']/transmission[@name='indy0_tran4']/actuator[@name='indy0_motor4']\n",
      "Unknown tag \"hardwareInterface\" in /robot[@name='custom_robots']/transmission[@name='indy0_tran5']/actuator[@name='indy0_motor5']\n"
     ]
    },
    {
     "name": "stdout",
     "output_type": "stream",
     "text": [
      "[BEGIN] 20201212-232318 - WORLD-20201212-232512 - SCENE-20201212-232514 - 20201212-232527.json ===============\n",
      "DONE: 129/6119\n",
      "scene size: 3375 (15,15,15)\n",
      "[WORLD] -\n",
      "{u'indy0': [[1.2978010866890628, 1.7581964595629733, 0.6289078054334509], [0, 0, 2.6427813746503137]], u'panda1': [[1.9189106662711062, 0.9480682758861709, 0.7601123304778195], [0, 0, 2.575363634710389]]}\n"
     ]
    },
    {
     "name": "stderr",
     "output_type": "stream",
     "text": [
      "Unknown tag \"hardwareInterface\" in /robot[@name='custom_robots']/transmission[@name='indy0_tran0']/actuator[@name='indy0_motor0']\n",
      "Unknown tag \"hardwareInterface\" in /robot[@name='custom_robots']/transmission[@name='indy0_tran1']/actuator[@name='indy0_motor1']\n",
      "Unknown tag \"hardwareInterface\" in /robot[@name='custom_robots']/transmission[@name='indy0_tran2']/actuator[@name='indy0_motor2']\n",
      "Unknown tag \"hardwareInterface\" in /robot[@name='custom_robots']/transmission[@name='indy0_tran3']/actuator[@name='indy0_motor3']\n",
      "Unknown tag \"hardwareInterface\" in /robot[@name='custom_robots']/transmission[@name='indy0_tran4']/actuator[@name='indy0_motor4']\n",
      "Unknown tag \"hardwareInterface\" in /robot[@name='custom_robots']/transmission[@name='indy0_tran5']/actuator[@name='indy0_motor5']\n"
     ]
    },
    {
     "name": "stdout",
     "output_type": "stream",
     "text": [
      "[BEGIN] 20201212-232318 - WORLD-20201212-232512 - SCENE-20201212-232514 - 20201212-232527.json ===============\n",
      "DONE: 130/6119\n",
      "scene size: 3375 (15,15,15)\n",
      "[WORLD] -\n",
      "{u'indy0': [[1.2978010866890628, 1.7581964595629733, 0.6289078054334509], [0, 0, 2.6427813746503137]], u'panda1': [[1.9189106662711062, 0.9480682758861709, 0.7601123304778195], [0, 0, 2.575363634710389]]}\n"
     ]
    },
    {
     "name": "stderr",
     "output_type": "stream",
     "text": [
      "Unknown tag \"hardwareInterface\" in /robot[@name='custom_robots']/transmission[@name='indy0_tran0']/actuator[@name='indy0_motor0']\n",
      "Unknown tag \"hardwareInterface\" in /robot[@name='custom_robots']/transmission[@name='indy0_tran1']/actuator[@name='indy0_motor1']\n",
      "Unknown tag \"hardwareInterface\" in /robot[@name='custom_robots']/transmission[@name='indy0_tran2']/actuator[@name='indy0_motor2']\n",
      "Unknown tag \"hardwareInterface\" in /robot[@name='custom_robots']/transmission[@name='indy0_tran3']/actuator[@name='indy0_motor3']\n",
      "Unknown tag \"hardwareInterface\" in /robot[@name='custom_robots']/transmission[@name='indy0_tran4']/actuator[@name='indy0_motor4']\n",
      "Unknown tag \"hardwareInterface\" in /robot[@name='custom_robots']/transmission[@name='indy0_tran5']/actuator[@name='indy0_motor5']\n"
     ]
    },
    {
     "name": "stdout",
     "output_type": "stream",
     "text": [
      "[BEGIN] 20201212-232318 - WORLD-20201212-232512 - SCENE-20201212-232514 - 20201212-232527.json ===============\n",
      "DONE: 131/6119\n",
      "scene size: 3375 (15,15,15)\n",
      "[WORLD] -\n",
      "{u'indy0': [[1.2978010866890628, 1.7581964595629733, 0.6289078054334509], [0, 0, 2.6427813746503137]], u'panda1': [[1.9189106662711062, 0.9480682758861709, 0.7601123304778195], [0, 0, 2.575363634710389]]}\n"
     ]
    },
    {
     "name": "stderr",
     "output_type": "stream",
     "text": [
      "Unknown tag \"hardwareInterface\" in /robot[@name='custom_robots']/transmission[@name='indy0_tran0']/actuator[@name='indy0_motor0']\n",
      "Unknown tag \"hardwareInterface\" in /robot[@name='custom_robots']/transmission[@name='indy0_tran1']/actuator[@name='indy0_motor1']\n",
      "Unknown tag \"hardwareInterface\" in /robot[@name='custom_robots']/transmission[@name='indy0_tran2']/actuator[@name='indy0_motor2']\n",
      "Unknown tag \"hardwareInterface\" in /robot[@name='custom_robots']/transmission[@name='indy0_tran3']/actuator[@name='indy0_motor3']\n",
      "Unknown tag \"hardwareInterface\" in /robot[@name='custom_robots']/transmission[@name='indy0_tran4']/actuator[@name='indy0_motor4']\n",
      "Unknown tag \"hardwareInterface\" in /robot[@name='custom_robots']/transmission[@name='indy0_tran5']/actuator[@name='indy0_motor5']\n"
     ]
    },
    {
     "name": "stdout",
     "output_type": "stream",
     "text": [
      "[BEGIN] 20201212-232318 - WORLD-20201212-232512 - SCENE-20201212-232514 - 20201212-232527.json ===============\n",
      "DONE: 132/6119\n",
      "scene size: 3375 (15,15,15)\n",
      "[WORLD] -\n",
      "{u'indy0': [[1.2978010866890628, 1.7581964595629733, 0.6289078054334509], [0, 0, 2.6427813746503137]], u'panda1': [[1.9189106662711062, 0.9480682758861709, 0.7601123304778195], [0, 0, 2.575363634710389]]}\n"
     ]
    },
    {
     "name": "stderr",
     "output_type": "stream",
     "text": [
      "Unknown tag \"hardwareInterface\" in /robot[@name='custom_robots']/transmission[@name='indy0_tran0']/actuator[@name='indy0_motor0']\n",
      "Unknown tag \"hardwareInterface\" in /robot[@name='custom_robots']/transmission[@name='indy0_tran1']/actuator[@name='indy0_motor1']\n",
      "Unknown tag \"hardwareInterface\" in /robot[@name='custom_robots']/transmission[@name='indy0_tran2']/actuator[@name='indy0_motor2']\n",
      "Unknown tag \"hardwareInterface\" in /robot[@name='custom_robots']/transmission[@name='indy0_tran3']/actuator[@name='indy0_motor3']\n",
      "Unknown tag \"hardwareInterface\" in /robot[@name='custom_robots']/transmission[@name='indy0_tran4']/actuator[@name='indy0_motor4']\n",
      "Unknown tag \"hardwareInterface\" in /robot[@name='custom_robots']/transmission[@name='indy0_tran5']/actuator[@name='indy0_motor5']\n"
     ]
    },
    {
     "name": "stdout",
     "output_type": "stream",
     "text": [
      "[BEGIN] 20201212-232318 - WORLD-20201212-232512 - SCENE-20201212-232514 - 20201212-232539.json ===============\n",
      "DONE: 133/6119\n",
      "scene size: 3375 (15,15,15)\n",
      "[WORLD] -\n",
      "{u'indy0': [[1.2978010866890628, 1.7581964595629733, 0.6289078054334509], [0, 0, 2.6427813746503137]], u'panda1': [[1.9189106662711062, 0.9480682758861709, 0.7601123304778195], [0, 0, 2.575363634710389]]}\n"
     ]
    },
    {
     "name": "stderr",
     "output_type": "stream",
     "text": [
      "Unknown tag \"hardwareInterface\" in /robot[@name='custom_robots']/transmission[@name='indy0_tran0']/actuator[@name='indy0_motor0']\n",
      "Unknown tag \"hardwareInterface\" in /robot[@name='custom_robots']/transmission[@name='indy0_tran1']/actuator[@name='indy0_motor1']\n",
      "Unknown tag \"hardwareInterface\" in /robot[@name='custom_robots']/transmission[@name='indy0_tran2']/actuator[@name='indy0_motor2']\n",
      "Unknown tag \"hardwareInterface\" in /robot[@name='custom_robots']/transmission[@name='indy0_tran3']/actuator[@name='indy0_motor3']\n",
      "Unknown tag \"hardwareInterface\" in /robot[@name='custom_robots']/transmission[@name='indy0_tran4']/actuator[@name='indy0_motor4']\n",
      "Unknown tag \"hardwareInterface\" in /robot[@name='custom_robots']/transmission[@name='indy0_tran5']/actuator[@name='indy0_motor5']\n"
     ]
    },
    {
     "name": "stdout",
     "output_type": "stream",
     "text": [
      "[BEGIN] 20201212-232318 - WORLD-20201212-232512 - SCENE-20201212-232514 - 20201212-232539.json ===============\n",
      "DONE: 134/6119\n",
      "scene size: 3375 (15,15,15)\n",
      "[WORLD] -\n",
      "{u'indy0': [[1.2978010866890628, 1.7581964595629733, 0.6289078054334509], [0, 0, 2.6427813746503137]], u'panda1': [[1.9189106662711062, 0.9480682758861709, 0.7601123304778195], [0, 0, 2.575363634710389]]}\n"
     ]
    },
    {
     "name": "stderr",
     "output_type": "stream",
     "text": [
      "Unknown tag \"hardwareInterface\" in /robot[@name='custom_robots']/transmission[@name='indy0_tran0']/actuator[@name='indy0_motor0']\n",
      "Unknown tag \"hardwareInterface\" in /robot[@name='custom_robots']/transmission[@name='indy0_tran1']/actuator[@name='indy0_motor1']\n",
      "Unknown tag \"hardwareInterface\" in /robot[@name='custom_robots']/transmission[@name='indy0_tran2']/actuator[@name='indy0_motor2']\n",
      "Unknown tag \"hardwareInterface\" in /robot[@name='custom_robots']/transmission[@name='indy0_tran3']/actuator[@name='indy0_motor3']\n",
      "Unknown tag \"hardwareInterface\" in /robot[@name='custom_robots']/transmission[@name='indy0_tran4']/actuator[@name='indy0_motor4']\n",
      "Unknown tag \"hardwareInterface\" in /robot[@name='custom_robots']/transmission[@name='indy0_tran5']/actuator[@name='indy0_motor5']\n"
     ]
    },
    {
     "name": "stdout",
     "output_type": "stream",
     "text": [
      "[BEGIN] 20201212-232318 - WORLD-20201212-232512 - SCENE-20201212-232514 - 20201212-232539.json ===============\n",
      "DONE: 135/6119\n",
      "scene size: 3375 (15,15,15)\n",
      "[WORLD] -\n",
      "{u'indy0': [[1.2978010866890628, 1.7581964595629733, 0.6289078054334509], [0, 0, 2.6427813746503137]], u'panda1': [[1.9189106662711062, 0.9480682758861709, 0.7601123304778195], [0, 0, 2.575363634710389]]}\n"
     ]
    },
    {
     "name": "stderr",
     "output_type": "stream",
     "text": [
      "Unknown tag \"hardwareInterface\" in /robot[@name='custom_robots']/transmission[@name='indy0_tran0']/actuator[@name='indy0_motor0']\n",
      "Unknown tag \"hardwareInterface\" in /robot[@name='custom_robots']/transmission[@name='indy0_tran1']/actuator[@name='indy0_motor1']\n",
      "Unknown tag \"hardwareInterface\" in /robot[@name='custom_robots']/transmission[@name='indy0_tran2']/actuator[@name='indy0_motor2']\n",
      "Unknown tag \"hardwareInterface\" in /robot[@name='custom_robots']/transmission[@name='indy0_tran3']/actuator[@name='indy0_motor3']\n",
      "Unknown tag \"hardwareInterface\" in /robot[@name='custom_robots']/transmission[@name='indy0_tran4']/actuator[@name='indy0_motor4']\n",
      "Unknown tag \"hardwareInterface\" in /robot[@name='custom_robots']/transmission[@name='indy0_tran5']/actuator[@name='indy0_motor5']\n"
     ]
    },
    {
     "name": "stdout",
     "output_type": "stream",
     "text": [
      "[BEGIN] 20201212-232318 - WORLD-20201212-232512 - SCENE-20201212-232514 - 20201212-232539.json ===============\n",
      "DONE: 136/6119\n",
      "scene size: 3375 (15,15,15)\n",
      "[WORLD] -\n",
      "{u'indy0': [[1.2978010866890628, 1.7581964595629733, 0.6289078054334509], [0, 0, 2.6427813746503137]], u'panda1': [[1.9189106662711062, 0.9480682758861709, 0.7601123304778195], [0, 0, 2.575363634710389]]}\n"
     ]
    },
    {
     "name": "stderr",
     "output_type": "stream",
     "text": [
      "Unknown tag \"hardwareInterface\" in /robot[@name='custom_robots']/transmission[@name='indy0_tran0']/actuator[@name='indy0_motor0']\n",
      "Unknown tag \"hardwareInterface\" in /robot[@name='custom_robots']/transmission[@name='indy0_tran1']/actuator[@name='indy0_motor1']\n",
      "Unknown tag \"hardwareInterface\" in /robot[@name='custom_robots']/transmission[@name='indy0_tran2']/actuator[@name='indy0_motor2']\n",
      "Unknown tag \"hardwareInterface\" in /robot[@name='custom_robots']/transmission[@name='indy0_tran3']/actuator[@name='indy0_motor3']\n",
      "Unknown tag \"hardwareInterface\" in /robot[@name='custom_robots']/transmission[@name='indy0_tran4']/actuator[@name='indy0_motor4']\n",
      "Unknown tag \"hardwareInterface\" in /robot[@name='custom_robots']/transmission[@name='indy0_tran5']/actuator[@name='indy0_motor5']\n"
     ]
    },
    {
     "name": "stdout",
     "output_type": "stream",
     "text": [
      "[BEGIN] 20201212-232318 - WORLD-20201212-232512 - SCENE-20201212-232514 - 20201212-232539.json ===============\n",
      "DONE: 137/6119\n",
      "scene size: 3375 (15,15,15)\n",
      "[WORLD] -\n",
      "{u'indy0': [[1.2978010866890628, 1.7581964595629733, 0.6289078054334509], [0, 0, 2.6427813746503137]], u'panda1': [[1.9189106662711062, 0.9480682758861709, 0.7601123304778195], [0, 0, 2.575363634710389]]}\n"
     ]
    },
    {
     "name": "stderr",
     "output_type": "stream",
     "text": [
      "Unknown tag \"hardwareInterface\" in /robot[@name='custom_robots']/transmission[@name='indy0_tran0']/actuator[@name='indy0_motor0']\n",
      "Unknown tag \"hardwareInterface\" in /robot[@name='custom_robots']/transmission[@name='indy0_tran1']/actuator[@name='indy0_motor1']\n",
      "Unknown tag \"hardwareInterface\" in /robot[@name='custom_robots']/transmission[@name='indy0_tran2']/actuator[@name='indy0_motor2']\n",
      "Unknown tag \"hardwareInterface\" in /robot[@name='custom_robots']/transmission[@name='indy0_tran3']/actuator[@name='indy0_motor3']\n",
      "Unknown tag \"hardwareInterface\" in /robot[@name='custom_robots']/transmission[@name='indy0_tran4']/actuator[@name='indy0_motor4']\n",
      "Unknown tag \"hardwareInterface\" in /robot[@name='custom_robots']/transmission[@name='indy0_tran5']/actuator[@name='indy0_motor5']\n"
     ]
    },
    {
     "name": "stdout",
     "output_type": "stream",
     "text": [
      "[BEGIN] 20201212-232318 - WORLD-20201212-232512 - SCENE-20201212-232514 - 20201212-232539.json ===============\n",
      "DONE: 138/6119\n",
      "scene size: 3375 (15,15,15)\n",
      "[WORLD] -\n",
      "{u'indy0': [[1.2978010866890628, 1.7581964595629733, 0.6289078054334509], [0, 0, 2.6427813746503137]], u'panda1': [[1.9189106662711062, 0.9480682758861709, 0.7601123304778195], [0, 0, 2.575363634710389]]}\n"
     ]
    },
    {
     "name": "stderr",
     "output_type": "stream",
     "text": [
      "Unknown tag \"hardwareInterface\" in /robot[@name='custom_robots']/transmission[@name='indy0_tran0']/actuator[@name='indy0_motor0']\n",
      "Unknown tag \"hardwareInterface\" in /robot[@name='custom_robots']/transmission[@name='indy0_tran1']/actuator[@name='indy0_motor1']\n",
      "Unknown tag \"hardwareInterface\" in /robot[@name='custom_robots']/transmission[@name='indy0_tran2']/actuator[@name='indy0_motor2']\n",
      "Unknown tag \"hardwareInterface\" in /robot[@name='custom_robots']/transmission[@name='indy0_tran3']/actuator[@name='indy0_motor3']\n",
      "Unknown tag \"hardwareInterface\" in /robot[@name='custom_robots']/transmission[@name='indy0_tran4']/actuator[@name='indy0_motor4']\n",
      "Unknown tag \"hardwareInterface\" in /robot[@name='custom_robots']/transmission[@name='indy0_tran5']/actuator[@name='indy0_motor5']\n"
     ]
    },
    {
     "name": "stdout",
     "output_type": "stream",
     "text": [
      "[BEGIN] 20201212-232318 - WORLD-20201212-232512 - SCENE-20201212-232514 - 20201212-232539.json ===============\n",
      "DONE: 139/6119\n",
      "scene size: 3375 (15,15,15)\n",
      "[WORLD] -\n",
      "{u'indy0': [[1.2978010866890628, 1.7581964595629733, 0.6289078054334509], [0, 0, 2.6427813746503137]], u'panda1': [[1.9189106662711062, 0.9480682758861709, 0.7601123304778195], [0, 0, 2.575363634710389]]}\n"
     ]
    },
    {
     "name": "stderr",
     "output_type": "stream",
     "text": [
      "Unknown tag \"hardwareInterface\" in /robot[@name='custom_robots']/transmission[@name='indy0_tran0']/actuator[@name='indy0_motor0']\n",
      "Unknown tag \"hardwareInterface\" in /robot[@name='custom_robots']/transmission[@name='indy0_tran1']/actuator[@name='indy0_motor1']\n",
      "Unknown tag \"hardwareInterface\" in /robot[@name='custom_robots']/transmission[@name='indy0_tran2']/actuator[@name='indy0_motor2']\n",
      "Unknown tag \"hardwareInterface\" in /robot[@name='custom_robots']/transmission[@name='indy0_tran3']/actuator[@name='indy0_motor3']\n",
      "Unknown tag \"hardwareInterface\" in /robot[@name='custom_robots']/transmission[@name='indy0_tran4']/actuator[@name='indy0_motor4']\n",
      "Unknown tag \"hardwareInterface\" in /robot[@name='custom_robots']/transmission[@name='indy0_tran5']/actuator[@name='indy0_motor5']\n"
     ]
    },
    {
     "name": "stdout",
     "output_type": "stream",
     "text": [
      "[BEGIN] 20201212-232318 - WORLD-20201212-232512 - SCENE-20201212-232514 - 20201212-232539.json ===============\n",
      "DONE: 140/6119\n",
      "scene size: 3375 (15,15,15)\n",
      "[WORLD] -\n",
      "{u'indy0': [[1.2978010866890628, 1.7581964595629733, 0.6289078054334509], [0, 0, 2.6427813746503137]], u'panda1': [[1.9189106662711062, 0.9480682758861709, 0.7601123304778195], [0, 0, 2.575363634710389]]}\n"
     ]
    },
    {
     "name": "stderr",
     "output_type": "stream",
     "text": [
      "Unknown tag \"hardwareInterface\" in /robot[@name='custom_robots']/transmission[@name='indy0_tran0']/actuator[@name='indy0_motor0']\n",
      "Unknown tag \"hardwareInterface\" in /robot[@name='custom_robots']/transmission[@name='indy0_tran1']/actuator[@name='indy0_motor1']\n",
      "Unknown tag \"hardwareInterface\" in /robot[@name='custom_robots']/transmission[@name='indy0_tran2']/actuator[@name='indy0_motor2']\n",
      "Unknown tag \"hardwareInterface\" in /robot[@name='custom_robots']/transmission[@name='indy0_tran3']/actuator[@name='indy0_motor3']\n",
      "Unknown tag \"hardwareInterface\" in /robot[@name='custom_robots']/transmission[@name='indy0_tran4']/actuator[@name='indy0_motor4']\n",
      "Unknown tag \"hardwareInterface\" in /robot[@name='custom_robots']/transmission[@name='indy0_tran5']/actuator[@name='indy0_motor5']\n"
     ]
    },
    {
     "name": "stdout",
     "output_type": "stream",
     "text": [
      "[BEGIN] 20201212-232318 - WORLD-20201212-232512 - SCENE-20201212-232514 - 20201212-232539.json ===============\n",
      "DONE: 141/6119\n",
      "scene size: 3375 (15,15,15)\n",
      "[WORLD] -\n",
      "{u'indy0': [[1.2978010866890628, 1.7581964595629733, 0.6289078054334509], [0, 0, 2.6427813746503137]], u'panda1': [[1.9189106662711062, 0.9480682758861709, 0.7601123304778195], [0, 0, 2.575363634710389]]}\n"
     ]
    },
    {
     "name": "stderr",
     "output_type": "stream",
     "text": [
      "Unknown tag \"hardwareInterface\" in /robot[@name='custom_robots']/transmission[@name='indy0_tran0']/actuator[@name='indy0_motor0']\n",
      "Unknown tag \"hardwareInterface\" in /robot[@name='custom_robots']/transmission[@name='indy0_tran1']/actuator[@name='indy0_motor1']\n",
      "Unknown tag \"hardwareInterface\" in /robot[@name='custom_robots']/transmission[@name='indy0_tran2']/actuator[@name='indy0_motor2']\n",
      "Unknown tag \"hardwareInterface\" in /robot[@name='custom_robots']/transmission[@name='indy0_tran3']/actuator[@name='indy0_motor3']\n",
      "Unknown tag \"hardwareInterface\" in /robot[@name='custom_robots']/transmission[@name='indy0_tran4']/actuator[@name='indy0_motor4']\n",
      "Unknown tag \"hardwareInterface\" in /robot[@name='custom_robots']/transmission[@name='indy0_tran5']/actuator[@name='indy0_motor5']\n"
     ]
    },
    {
     "name": "stdout",
     "output_type": "stream",
     "text": [
      "[BEGIN] 20201212-232318 - WORLD-20201212-232512 - SCENE-20201212-232514 - 20201212-232539.json ===============\n",
      "DONE: 142/6119\n",
      "scene size: 3375 (15,15,15)\n",
      "[WORLD] -\n",
      "{u'indy0': [[1.2978010866890628, 1.7581964595629733, 0.6289078054334509], [0, 0, 2.6427813746503137]], u'panda1': [[1.9189106662711062, 0.9480682758861709, 0.7601123304778195], [0, 0, 2.575363634710389]]}\n"
     ]
    },
    {
     "name": "stderr",
     "output_type": "stream",
     "text": [
      "Unknown tag \"hardwareInterface\" in /robot[@name='custom_robots']/transmission[@name='indy0_tran0']/actuator[@name='indy0_motor0']\n",
      "Unknown tag \"hardwareInterface\" in /robot[@name='custom_robots']/transmission[@name='indy0_tran1']/actuator[@name='indy0_motor1']\n",
      "Unknown tag \"hardwareInterface\" in /robot[@name='custom_robots']/transmission[@name='indy0_tran2']/actuator[@name='indy0_motor2']\n",
      "Unknown tag \"hardwareInterface\" in /robot[@name='custom_robots']/transmission[@name='indy0_tran3']/actuator[@name='indy0_motor3']\n",
      "Unknown tag \"hardwareInterface\" in /robot[@name='custom_robots']/transmission[@name='indy0_tran4']/actuator[@name='indy0_motor4']\n",
      "Unknown tag \"hardwareInterface\" in /robot[@name='custom_robots']/transmission[@name='indy0_tran5']/actuator[@name='indy0_motor5']\n"
     ]
    },
    {
     "name": "stdout",
     "output_type": "stream",
     "text": [
      "[BEGIN] 20201212-232318 - WORLD-20201212-232512 - SCENE-20201212-232514 - 20201212-232539.json ===============\n",
      "DONE: 143/6119\n",
      "scene size: 3375 (15,15,15)\n",
      "[WORLD] -\n",
      "{u'indy0': [[1.2978010866890628, 1.7581964595629733, 0.6289078054334509], [0, 0, 2.6427813746503137]], u'panda1': [[1.9189106662711062, 0.9480682758861709, 0.7601123304778195], [0, 0, 2.575363634710389]]}\n"
     ]
    },
    {
     "name": "stderr",
     "output_type": "stream",
     "text": [
      "Unknown tag \"hardwareInterface\" in /robot[@name='custom_robots']/transmission[@name='indy0_tran0']/actuator[@name='indy0_motor0']\n",
      "Unknown tag \"hardwareInterface\" in /robot[@name='custom_robots']/transmission[@name='indy0_tran1']/actuator[@name='indy0_motor1']\n",
      "Unknown tag \"hardwareInterface\" in /robot[@name='custom_robots']/transmission[@name='indy0_tran2']/actuator[@name='indy0_motor2']\n",
      "Unknown tag \"hardwareInterface\" in /robot[@name='custom_robots']/transmission[@name='indy0_tran3']/actuator[@name='indy0_motor3']\n",
      "Unknown tag \"hardwareInterface\" in /robot[@name='custom_robots']/transmission[@name='indy0_tran4']/actuator[@name='indy0_motor4']\n",
      "Unknown tag \"hardwareInterface\" in /robot[@name='custom_robots']/transmission[@name='indy0_tran5']/actuator[@name='indy0_motor5']\n"
     ]
    },
    {
     "name": "stdout",
     "output_type": "stream",
     "text": [
      "[BEGIN] 20201212-232318 - WORLD-20201212-232512 - SCENE-20201212-232514 - 20201212-232539.json ===============\n",
      "DONE: 144/6119\n",
      "scene size: 3375 (15,15,15)\n",
      "[WORLD] -\n",
      "{u'indy0': [[1.2978010866890628, 1.7581964595629733, 0.6289078054334509], [0, 0, 2.6427813746503137]], u'panda1': [[1.9189106662711062, 0.9480682758861709, 0.7601123304778195], [0, 0, 2.575363634710389]]}\n"
     ]
    },
    {
     "name": "stderr",
     "output_type": "stream",
     "text": [
      "Unknown tag \"hardwareInterface\" in /robot[@name='custom_robots']/transmission[@name='indy0_tran0']/actuator[@name='indy0_motor0']\n",
      "Unknown tag \"hardwareInterface\" in /robot[@name='custom_robots']/transmission[@name='indy0_tran1']/actuator[@name='indy0_motor1']\n",
      "Unknown tag \"hardwareInterface\" in /robot[@name='custom_robots']/transmission[@name='indy0_tran2']/actuator[@name='indy0_motor2']\n",
      "Unknown tag \"hardwareInterface\" in /robot[@name='custom_robots']/transmission[@name='indy0_tran3']/actuator[@name='indy0_motor3']\n",
      "Unknown tag \"hardwareInterface\" in /robot[@name='custom_robots']/transmission[@name='indy0_tran4']/actuator[@name='indy0_motor4']\n",
      "Unknown tag \"hardwareInterface\" in /robot[@name='custom_robots']/transmission[@name='indy0_tran5']/actuator[@name='indy0_motor5']\n"
     ]
    },
    {
     "name": "stdout",
     "output_type": "stream",
     "text": [
      "[BEGIN] 20201212-232318 - WORLD-20201212-232512 - SCENE-20201212-232514 - 20201212-232539.json ===============\n",
      "DONE: 145/6119\n",
      "scene size: 3375 (15,15,15)\n",
      "[WORLD] -\n",
      "{u'indy0': [[1.2978010866890628, 1.7581964595629733, 0.6289078054334509], [0, 0, 2.6427813746503137]], u'panda1': [[1.9189106662711062, 0.9480682758861709, 0.7601123304778195], [0, 0, 2.575363634710389]]}\n"
     ]
    },
    {
     "name": "stderr",
     "output_type": "stream",
     "text": [
      "Unknown tag \"hardwareInterface\" in /robot[@name='custom_robots']/transmission[@name='indy0_tran0']/actuator[@name='indy0_motor0']\n",
      "Unknown tag \"hardwareInterface\" in /robot[@name='custom_robots']/transmission[@name='indy0_tran1']/actuator[@name='indy0_motor1']\n",
      "Unknown tag \"hardwareInterface\" in /robot[@name='custom_robots']/transmission[@name='indy0_tran2']/actuator[@name='indy0_motor2']\n",
      "Unknown tag \"hardwareInterface\" in /robot[@name='custom_robots']/transmission[@name='indy0_tran3']/actuator[@name='indy0_motor3']\n",
      "Unknown tag \"hardwareInterface\" in /robot[@name='custom_robots']/transmission[@name='indy0_tran4']/actuator[@name='indy0_motor4']\n",
      "Unknown tag \"hardwareInterface\" in /robot[@name='custom_robots']/transmission[@name='indy0_tran5']/actuator[@name='indy0_motor5']\n"
     ]
    },
    {
     "name": "stdout",
     "output_type": "stream",
     "text": [
      "[BEGIN] 20201212-232318 - WORLD-20201212-232512 - SCENE-20201212-232514 - 20201212-232539.json ===============\n",
      "DONE: 146/6119\n",
      "scene size: 3375 (15,15,15)\n",
      "[WORLD] -\n",
      "{u'indy0': [[1.2978010866890628, 1.7581964595629733, 0.6289078054334509], [0, 0, 2.6427813746503137]], u'panda1': [[1.9189106662711062, 0.9480682758861709, 0.7601123304778195], [0, 0, 2.575363634710389]]}\n"
     ]
    },
    {
     "name": "stderr",
     "output_type": "stream",
     "text": [
      "Unknown tag \"hardwareInterface\" in /robot[@name='custom_robots']/transmission[@name='indy0_tran0']/actuator[@name='indy0_motor0']\n",
      "Unknown tag \"hardwareInterface\" in /robot[@name='custom_robots']/transmission[@name='indy0_tran1']/actuator[@name='indy0_motor1']\n",
      "Unknown tag \"hardwareInterface\" in /robot[@name='custom_robots']/transmission[@name='indy0_tran2']/actuator[@name='indy0_motor2']\n",
      "Unknown tag \"hardwareInterface\" in /robot[@name='custom_robots']/transmission[@name='indy0_tran3']/actuator[@name='indy0_motor3']\n",
      "Unknown tag \"hardwareInterface\" in /robot[@name='custom_robots']/transmission[@name='indy0_tran4']/actuator[@name='indy0_motor4']\n",
      "Unknown tag \"hardwareInterface\" in /robot[@name='custom_robots']/transmission[@name='indy0_tran5']/actuator[@name='indy0_motor5']\n"
     ]
    },
    {
     "name": "stdout",
     "output_type": "stream",
     "text": [
      "[BEGIN] 20201212-232318 - WORLD-20201212-232512 - SCENE-20201212-232514 - 20201212-232539.json ===============\n",
      "DONE: 147/6119\n",
      "scene size: 3375 (15,15,15)\n",
      "[WORLD] -\n",
      "{u'indy0': [[1.2978010866890628, 1.7581964595629733, 0.6289078054334509], [0, 0, 2.6427813746503137]], u'panda1': [[1.9189106662711062, 0.9480682758861709, 0.7601123304778195], [0, 0, 2.575363634710389]]}\n"
     ]
    },
    {
     "name": "stderr",
     "output_type": "stream",
     "text": [
      "Unknown tag \"hardwareInterface\" in /robot[@name='custom_robots']/transmission[@name='indy0_tran0']/actuator[@name='indy0_motor0']\n",
      "Unknown tag \"hardwareInterface\" in /robot[@name='custom_robots']/transmission[@name='indy0_tran1']/actuator[@name='indy0_motor1']\n",
      "Unknown tag \"hardwareInterface\" in /robot[@name='custom_robots']/transmission[@name='indy0_tran2']/actuator[@name='indy0_motor2']\n",
      "Unknown tag \"hardwareInterface\" in /robot[@name='custom_robots']/transmission[@name='indy0_tran3']/actuator[@name='indy0_motor3']\n",
      "Unknown tag \"hardwareInterface\" in /robot[@name='custom_robots']/transmission[@name='indy0_tran4']/actuator[@name='indy0_motor4']\n",
      "Unknown tag \"hardwareInterface\" in /robot[@name='custom_robots']/transmission[@name='indy0_tran5']/actuator[@name='indy0_motor5']\n"
     ]
    },
    {
     "name": "stdout",
     "output_type": "stream",
     "text": [
      "[BEGIN] 20201212-232318 - WORLD-20201212-232512 - SCENE-20201212-232514 - 20201212-232539.json ===============\n",
      "DONE: 148/6119\n",
      "scene size: 3375 (15,15,15)\n",
      "[WORLD] -\n",
      "{u'indy0': [[1.2978010866890628, 1.7581964595629733, 0.6289078054334509], [0, 0, 2.6427813746503137]], u'panda1': [[1.9189106662711062, 0.9480682758861709, 0.7601123304778195], [0, 0, 2.575363634710389]]}\n"
     ]
    },
    {
     "name": "stderr",
     "output_type": "stream",
     "text": [
      "Unknown tag \"hardwareInterface\" in /robot[@name='custom_robots']/transmission[@name='indy0_tran0']/actuator[@name='indy0_motor0']\n",
      "Unknown tag \"hardwareInterface\" in /robot[@name='custom_robots']/transmission[@name='indy0_tran1']/actuator[@name='indy0_motor1']\n",
      "Unknown tag \"hardwareInterface\" in /robot[@name='custom_robots']/transmission[@name='indy0_tran2']/actuator[@name='indy0_motor2']\n",
      "Unknown tag \"hardwareInterface\" in /robot[@name='custom_robots']/transmission[@name='indy0_tran3']/actuator[@name='indy0_motor3']\n",
      "Unknown tag \"hardwareInterface\" in /robot[@name='custom_robots']/transmission[@name='indy0_tran4']/actuator[@name='indy0_motor4']\n",
      "Unknown tag \"hardwareInterface\" in /robot[@name='custom_robots']/transmission[@name='indy0_tran5']/actuator[@name='indy0_motor5']\n"
     ]
    },
    {
     "name": "stdout",
     "output_type": "stream",
     "text": [
      "[BEGIN] 20201212-232318 - WORLD-20201212-232512 - SCENE-20201212-232514 - 20201212-232539.json ===============\n",
      "DONE: 149/6119\n",
      "scene size: 3375 (15,15,15)\n",
      "[WORLD] -\n",
      "{u'indy0': [[1.2978010866890628, 1.7581964595629733, 0.6289078054334509], [0, 0, 2.6427813746503137]], u'panda1': [[1.9189106662711062, 0.9480682758861709, 0.7601123304778195], [0, 0, 2.575363634710389]]}\n"
     ]
    },
    {
     "name": "stderr",
     "output_type": "stream",
     "text": [
      "Unknown tag \"hardwareInterface\" in /robot[@name='custom_robots']/transmission[@name='indy0_tran0']/actuator[@name='indy0_motor0']\n",
      "Unknown tag \"hardwareInterface\" in /robot[@name='custom_robots']/transmission[@name='indy0_tran1']/actuator[@name='indy0_motor1']\n",
      "Unknown tag \"hardwareInterface\" in /robot[@name='custom_robots']/transmission[@name='indy0_tran2']/actuator[@name='indy0_motor2']\n",
      "Unknown tag \"hardwareInterface\" in /robot[@name='custom_robots']/transmission[@name='indy0_tran3']/actuator[@name='indy0_motor3']\n",
      "Unknown tag \"hardwareInterface\" in /robot[@name='custom_robots']/transmission[@name='indy0_tran4']/actuator[@name='indy0_motor4']\n",
      "Unknown tag \"hardwareInterface\" in /robot[@name='custom_robots']/transmission[@name='indy0_tran5']/actuator[@name='indy0_motor5']\n"
     ]
    },
    {
     "name": "stdout",
     "output_type": "stream",
     "text": [
      "[BEGIN] 20201212-232318 - WORLD-20201212-232512 - SCENE-20201212-232514 - 20201212-232539.json ===============\n",
      "DONE: 150/6119\n",
      "scene size: 3375 (15,15,15)\n",
      "[WORLD] -\n",
      "{u'indy0': [[1.2978010866890628, 1.7581964595629733, 0.6289078054334509], [0, 0, 2.6427813746503137]], u'panda1': [[1.9189106662711062, 0.9480682758861709, 0.7601123304778195], [0, 0, 2.575363634710389]]}\n"
     ]
    },
    {
     "ename": "CalledProcessError",
     "evalue": "Command '['xacro', '/home/tamp/Projects/rnb-planning/src/robots/custom_robots.urdf.xacro']' returned non-zero exit status 2",
     "output_type": "error",
     "traceback": [
      "\u001b[0;31m---------------------------------------------------------------------------\u001b[0m",
      "\u001b[0;31mCalledProcessError\u001b[0m                        Traceback (most recent call last)",
      "\u001b[0;32m<ipython-input-3-c103dfe4c7d3>\u001b[0m in \u001b[0;36m<module>\u001b[0;34m()\u001b[0m\n\u001b[1;32m     36\u001b[0m     \u001b[0;31m# set urdf\u001b[0m\u001b[0;34m\u001b[0m\u001b[0;34m\u001b[0m\u001b[0m\n\u001b[1;32m     37\u001b[0m     xcustom, JOINT_NAMES, LINK_NAMES, urdf_content = set_custom_robots(crob.robots_on_scene, Trbt_dict,\n\u001b[0;32m---> 38\u001b[0;31m                                                                        crob.custom_limits, start_rviz=VISUALIZE)\n\u001b[0m\u001b[1;32m     39\u001b[0m     \u001b[0mghnd\u001b[0m \u001b[0;34m=\u001b[0m \u001b[0mGeometryHandle\u001b[0m\u001b[0;34m(\u001b[0m\u001b[0murdf_content\u001b[0m\u001b[0;34m)\u001b[0m\u001b[0;34m\u001b[0m\u001b[0m\n\u001b[1;32m     40\u001b[0m     \u001b[0;32mif\u001b[0m \u001b[0mVISUALIZE\u001b[0m\u001b[0;34m:\u001b[0m \u001b[0mtime\u001b[0m\u001b[0;34m.\u001b[0m\u001b[0msleep\u001b[0m\u001b[0;34m(\u001b[0m\u001b[0;36m2\u001b[0m\u001b[0;34m)\u001b[0m\u001b[0;34m\u001b[0m\u001b[0m\n",
      "\u001b[0;32m/home/tamp/Projects/rnb-planning/src/pkg/environment_builder.pyc\u001b[0m in \u001b[0;36mset_custom_robots\u001b[0;34m(ROBOTS_ON_SCENE, xyz_rpy_robots, custom_limits, node_name, start_rviz, custom_xacro)\u001b[0m\n\u001b[1;32m     29\u001b[0m             \u001b[0mjoint_fix_dict\u001b[0m\u001b[0;34m=\u001b[0m\u001b[0;34m{\u001b[0m\u001b[0;34m'finger'\u001b[0m\u001b[0;34m:\u001b[0m \u001b[0;34m'upper'\u001b[0m\u001b[0;34m}\u001b[0m\u001b[0;34m,\u001b[0m\u001b[0;34m\u001b[0m\u001b[0m\n\u001b[1;32m     30\u001b[0m             \u001b[0mjoint_offset_dict\u001b[0m\u001b[0;34m=\u001b[0m\u001b[0;34m{\u001b[0m\u001b[0;34m}\u001b[0m\u001b[0;34m,\u001b[0m\u001b[0;34m\u001b[0m\u001b[0m\n\u001b[0;32m---> 31\u001b[0;31m             joint_limit_dict=custom_limits)\n\u001b[0m\u001b[1;32m     32\u001b[0m \u001b[0;34m\u001b[0m\u001b[0m\n\u001b[1;32m     33\u001b[0m     \u001b[0;32mif\u001b[0m \u001b[0mstart_rviz\u001b[0m\u001b[0;34m:\u001b[0m\u001b[0;34m\u001b[0m\u001b[0m\n",
      "\u001b[0;32m/home/tamp/Projects/rnb-planning/src/pkg/robots_custom.pyc\u001b[0m in \u001b[0;36mconvert_xacro_to_urdf\u001b[0;34m(self, urdf_path, joint_offset_dict, joint_limit_dict, joint_fix_dict)\u001b[0m\n\u001b[1;32m     71\u001b[0m         \u001b[0;32mif\u001b[0m \u001b[0mjoint_fix_dict\u001b[0m \u001b[0;32mis\u001b[0m \u001b[0mNone\u001b[0m\u001b[0;34m:\u001b[0m\u001b[0;34m\u001b[0m\u001b[0m\n\u001b[1;32m     72\u001b[0m             \u001b[0mjoint_fix_dict\u001b[0m\u001b[0;34m=\u001b[0m\u001b[0;34m{\u001b[0m\u001b[0;34m}\u001b[0m\u001b[0;34m\u001b[0m\u001b[0m\n\u001b[0;32m---> 73\u001b[0;31m         \u001b[0murdf_content\u001b[0m \u001b[0;34m=\u001b[0m \u001b[0msubprocess\u001b[0m\u001b[0;34m.\u001b[0m\u001b[0mcheck_output\u001b[0m\u001b[0;34m(\u001b[0m\u001b[0;34m[\u001b[0m\u001b[0;34m'xacro'\u001b[0m\u001b[0;34m,\u001b[0m \u001b[0mself\u001b[0m\u001b[0;34m.\u001b[0m\u001b[0mxacro_path\u001b[0m\u001b[0;34m]\u001b[0m\u001b[0;34m)\u001b[0m\u001b[0;34m\u001b[0m\u001b[0m\n\u001b[0m\u001b[1;32m     74\u001b[0m         \u001b[0mself\u001b[0m\u001b[0;34m.\u001b[0m\u001b[0murdf_content\u001b[0m \u001b[0;34m=\u001b[0m \u001b[0mURDF\u001b[0m\u001b[0;34m.\u001b[0m\u001b[0mfrom_xml_string\u001b[0m\u001b[0;34m(\u001b[0m\u001b[0murdf_content\u001b[0m\u001b[0;34m)\u001b[0m\u001b[0;34m\u001b[0m\u001b[0m\n\u001b[1;32m     75\u001b[0m         \u001b[0;32mfor\u001b[0m \u001b[0mjoint\u001b[0m \u001b[0;32min\u001b[0m \u001b[0mself\u001b[0m\u001b[0;34m.\u001b[0m\u001b[0murdf_content\u001b[0m\u001b[0;34m.\u001b[0m\u001b[0mjoints\u001b[0m\u001b[0;34m:\u001b[0m\u001b[0;34m\u001b[0m\u001b[0m\n",
      "\u001b[0;32m/usr/lib/python2.7/subprocess.pyc\u001b[0m in \u001b[0;36mcheck_output\u001b[0;34m(*popenargs, **kwargs)\u001b[0m\n\u001b[1;32m    221\u001b[0m         \u001b[0;32mif\u001b[0m \u001b[0mcmd\u001b[0m \u001b[0;32mis\u001b[0m \u001b[0mNone\u001b[0m\u001b[0;34m:\u001b[0m\u001b[0;34m\u001b[0m\u001b[0m\n\u001b[1;32m    222\u001b[0m             \u001b[0mcmd\u001b[0m \u001b[0;34m=\u001b[0m \u001b[0mpopenargs\u001b[0m\u001b[0;34m[\u001b[0m\u001b[0;36m0\u001b[0m\u001b[0;34m]\u001b[0m\u001b[0;34m\u001b[0m\u001b[0m\n\u001b[0;32m--> 223\u001b[0;31m         \u001b[0;32mraise\u001b[0m \u001b[0mCalledProcessError\u001b[0m\u001b[0;34m(\u001b[0m\u001b[0mretcode\u001b[0m\u001b[0;34m,\u001b[0m \u001b[0mcmd\u001b[0m\u001b[0;34m,\u001b[0m \u001b[0moutput\u001b[0m\u001b[0;34m=\u001b[0m\u001b[0moutput\u001b[0m\u001b[0;34m)\u001b[0m\u001b[0;34m\u001b[0m\u001b[0m\n\u001b[0m\u001b[1;32m    224\u001b[0m     \u001b[0;32mreturn\u001b[0m \u001b[0moutput\u001b[0m\u001b[0;34m\u001b[0m\u001b[0m\n\u001b[1;32m    225\u001b[0m \u001b[0;34m\u001b[0m\u001b[0m\n",
      "\u001b[0;31mCalledProcessError\u001b[0m: Command '['xacro', '/home/tamp/Projects/rnb-planning/src/robots/custom_robots.urdf.xacro']' returned non-zero exit status 2"
     ]
    }
   ],
   "source": [
    "for i_dat, data_tuple in enumerate(data_list):\n",
    "    DATASET, WORLD, SCENE, ACTION, i_act = data_tuple\n",
    "    try_mkdir(os.path.join(CONVERTED_PATH, DATASET))\n",
    "    try_mkdir(os.path.join(CONVERTED_PATH, DATASET, WORLD))\n",
    "    try_mkdir(os.path.join(CONVERTED_PATH, DATASET, WORLD, SCENE))\n",
    "\n",
    "    #  GLOBAL\n",
    "    CURRENT_PATH = os.path.join(DATA_PATH, DATASET)\n",
    "\n",
    "    ## Load global params\n",
    "    GLOBAL_PARAMS = load_json(os.path.join(CURRENT_PATH, GLOBAL_FILENAME))\n",
    "    WDH = GLOBAL_PARAMS[\"WDH\"]\n",
    "    L_CELL = GLOBAL_PARAMS[\"L_CELL\"]\n",
    "    RATIO_DIMS = GLOBAL_PARAMS[\"RATIO_DIMS\"]\n",
    "    REACH_OFFSET_DICT = GLOBAL_PARAMS[\"REACH_OFFSET_DICT\"]\n",
    "    GRIPPER_REFS = GLOBAL_PARAMS[\"GRIPPER_REFS\"]\n",
    "    BASE_LINK = GLOBAL_PARAMS[\"BASE_LINK\"]\n",
    "    S_F_RATIO = GLOBAL_PARAMS[\"S_F_RATIO\"]\n",
    "    TIMEOUT = GLOBAL_PARAMS[\"TIMEOUT\"]\n",
    "\n",
    "    CENTER = tuple(np.divide(WDH, 2, dtype=np.float))\n",
    "    Ws, Ds, Hs = WDH\n",
    "    Nw, Nd, Nh = Nwdh = int(Ws / L_CELL), int(Ds / L_CELL), int(Hs / L_CELL)\n",
    "    L_MAX = L_CELL * RATIO_DIMS\n",
    "    print(\"scene size: {} ({},{},{})\".format(Nw * Nd * Nh, Nw, Nd, Nh))\n",
    "\n",
    "    # WORLD\n",
    "    WORLD_PATH = os.path.join(CURRENT_PATH, WORLD)\n",
    "    SAMPLED_DATA[\"WORLD\"] = load_json(os.path.join(WORLD_PATH, WORLD_FILENAME))\n",
    "    Trbt_dict = SAMPLED_DATA[\"WORLD\"][\"Trbt_dict\"]\n",
    "    print(\"[WORLD] -\")\n",
    "    print(Trbt_dict)\n",
    "    reach_center_dict = {k: tuple(np.add(v[0], REACH_OFFSET_DICT[k])) for k, v in Trbt_dict.items()}\n",
    "\n",
    "    cam = None\n",
    "    # set urdf\n",
    "    xcustom, JOINT_NAMES, LINK_NAMES, urdf_content = set_custom_robots(crob.robots_on_scene, Trbt_dict,\n",
    "                                                                       crob.custom_limits, start_rviz=VISUALIZE)\n",
    "    ghnd = GeometryHandle(urdf_content)\n",
    "    if VISUALIZE: time.sleep(2)\n",
    "\n",
    "    # set graph\n",
    "    graph = ConstraintGraph(ghnd=ghnd, urdf_path=URDF_PATH, joint_names=JOINT_NAMES, link_names=LINK_NAMES,\n",
    "                            urdf_content=urdf_content, combined_robot=crob)\n",
    "    graph.set_camera(cam)\n",
    "    graph.set_cam_robot_collision(_add_cam_poles=False, color=(1, 1, 0, 0.3))\n",
    "    if VISUALIZE: graph.set_rviz()\n",
    "\n",
    "    # start UI\n",
    "    ui_broker = UIBroker.instance()\n",
    "    ui_broker.initialize(graph)\n",
    "    ui_broker.start_server()\n",
    "\n",
    "    # set rviz\n",
    "    if VISUALIZE: graph.set_rviz(crob.home_pose)\n",
    "    ui_broker.set_tables()\n",
    "\n",
    "    for gripper in GRIPPER_REFS.values():\n",
    "        graph.register_binder(name=gripper['bname'], _type=FramedTool, point=gripper['tcp_ref'], rpy=[0, 0, 0],\n",
    "                              link_name=gripper['link_name'])\n",
    "    graph.register_binder(name='base', _type=PlaceFrame, point=[0, 0, 0], rpy=[0, 0, 0], link_name=BASE_LINK)\n",
    "    vtem = graph.ghnd.create_safe(name=\"virtual\", gtype=GEOTYPE.SPHERE, link_name=BASE_LINK,\n",
    "                                  dims=(0, 0, 0), center=(0, 0, 0), rpy=(0, 0, 0), collision=False, display=False\n",
    "                                  )\n",
    "    graph.add_object(\"virtual\",\n",
    "                     SingleHandleObject(_object=vtem,\n",
    "                                        action_point=FramePoint(name=\"point\", _object=vtem, point=(0, 0, 0),\n",
    "                                                                rpy=(0, 0, 0), name_full=None)),\n",
    "                     binding=(\"point\", \"base\"))\n",
    "\n",
    "    obj_list = []\n",
    "    col_obj_list = []\n",
    "\n",
    "    # SCENE\n",
    "    SCENE_PATH = os.path.join(WORLD_PATH, SCENE)\n",
    "    SAMPLED_DATA[\"SCENE\"] = load_json(os.path.join(SCENE_PATH, SCENE_FILENAME))\n",
    "    Q_s = np.array(SAMPLED_DATA[\"SCENE\"][\"Q_s\"])\n",
    "    Q_s, links, link_verts, link_ctems, link_rads = sample_joint(graph, Q_s_loaded=Q_s)\n",
    "    Q_s_dict = SAMPLED_DATA[\"SCENE\"][\"Q_s_dict\"]\n",
    "    obj_dat = SAMPLED_DATA[\"SCENE\"][\"obj_dat\"]\n",
    "\n",
    "    if VISUALIZE:\n",
    "        graph.show_pose(Q_s)\n",
    "        time.sleep(1)\n",
    "        graph.show_pose(Q_s)\n",
    "        time.sleep(1)\n",
    "        graph.show_pose(Q_s)\n",
    "    for obj in obj_list: graph.remove_geometry(obj)\n",
    "    for odat in obj_dat:\n",
    "        nbox, gtype, dims, color, center, rpy = odat[\"nbox\"], getattr(GEOTYPE, odat[\"gtype\"]), odat[\"dims\"], \\\n",
    "                                                odat[\"color\"], odat[\"center\"], odat[\"rpy\"]\n",
    "        obj = graph.ghnd.create_safe(\n",
    "            name=\"{}_{}_{}_{}\".format(gtype.name, *nbox), link_name=BASE_LINK, gtype=gtype,\n",
    "            center=center, rpy=rpy, dims=dims, color=color, display=True, collision=True, fixed=True)\n",
    "        obj_list.append(obj)\n",
    "        graph.add_marker(obj, vis=VISUALIZE)\n",
    "\n",
    "    for obj in col_obj_list: graph.remove_geometry(obj)\n",
    "\n",
    "    if VISUALIZE: graph.set_rviz()\n",
    "    dcol = DataCollector(graph, GRIPPER_REFS, S_F_RATIO=S_F_RATIO)\n",
    "    if VISUALIZE: graph.set_rviz()\n",
    "\n",
    "#########################################################################\n",
    "    # ## initialize scene params\n",
    "    link_names = graph.link_names\n",
    "    joint_names = crob.joint_names\n",
    "    joint_num = crob.joint_num\n",
    "    IGNORE_CTEMS = [\"panda1_hand_Cylinder_1\", 'panda1_hand_Cylinder_2']\n",
    "    joint_index_dict = {joint.name:None for joint in urdf_content.joints}\n",
    "    joint_index_dict.update({jname:idx for idx, jname in zip(range(joint_num), joint_names)})\n",
    "    centers = get_centers(Nwdh, L_CELL)\n",
    "    merge_pairs = get_merge_pairs(ghnd, BASE_LINK)\n",
    "    merge_paired_ctems(ghnd=graph.ghnd, merge_pairs=merge_pairs, VISUALIZE=VISUALIZE, graph=graph)\n",
    "    for cname in IGNORE_CTEMS:\n",
    "        graph.remove_geometry(graph.ghnd.NAME_DICT[cname])\n",
    "\n",
    "    N_vtx_box = 3*8\n",
    "    N_mask_box = 1\n",
    "    N_joint_box = joint_num\n",
    "    N_label_box = N_vtx_box+N_mask_box+N_joint_box\n",
    "\n",
    "    N_vtx_cyl = 3*2+1\n",
    "    N_mask_cyl = 1\n",
    "    N_joint_cyl = joint_num\n",
    "    N_label_cyl = N_vtx_cyl+N_mask_cyl+N_joint_cyl\n",
    "\n",
    "    N_vtx_init = 3*8\n",
    "    N_mask_init = 1\n",
    "    N_joint_init = joint_num\n",
    "    N_label_init = N_vtx_init+N_mask_init+N_joint_init\n",
    "\n",
    "    N_vtx_goal = 3*8\n",
    "    N_mask_goal = 1\n",
    "    N_joint_goal = joint_num\n",
    "    N_label_goal = N_vtx_goal+N_mask_goal+N_joint_goal\n",
    "\n",
    "    N_joint_label_begin = N_label_box+N_label_cyl+N_label_init+N_label_goal\n",
    "\n",
    "    N_joint_label = 6*joint_num\n",
    "\n",
    "    N_joint_limits = 3*joint_num\n",
    "\n",
    "    N_cell_label = N_joint_label_begin + N_joint_label + N_joint_limits\n",
    "\n",
    "    gtimer.tic(\"test_links\")\n",
    "    Tlink_dict = {}\n",
    "    chain_dict = {}\n",
    "    Tj_arr = np.zeros((joint_num, 4, 4))\n",
    "    Tj_inv_arr = np.zeros((joint_num, 4, 4))\n",
    "    joint_axis_arr = np.zeros((joint_num,3))\n",
    "\n",
    "    gtimer.tic(\"T_chain\")\n",
    "    Tlink_dict = build_T_chain(link_names, Q_s_dict, urdf_content)\n",
    "    gtimer.toc(\"T_chain\")\n",
    "\n",
    "    for lname in link_names:\n",
    "        gtimer.tic(\"get_chain\")\n",
    "        jnames = filter(lambda x: x in joint_names,\n",
    "                        urdf_content.get_chain(root=BASE_LINK, tip=lname, joints=True, links=False))\n",
    "        gtimer.toc(\"get_chain\")\n",
    "        chain_dict[lname] = [1 if pj in jnames else 0 for pj in joint_names]\n",
    "    gtimer.toc(\"test_links\")\n",
    "\n",
    "    gtimer.tic(\"test_joints\")\n",
    "    for i_j, jname in zip(range(joint_num), joint_names):\n",
    "        joint = urdf_content.joint_map[jname]\n",
    "        lname = joint.child\n",
    "        Tj_arr[i_j,:,:] = Tlink_dict[lname]\n",
    "        Tj_inv_arr[i_j,:,:] = SE3_inv(Tlink_dict[lname])\n",
    "        joint_axis_arr[i_j] = joint.axis\n",
    "    gtimer.toc(\"test_joints\")\n",
    "    gtimer.tic(\"calc_cell\")\n",
    "    __p = centers.reshape(Nwdh+(1,3)) - Tj_arr[:,:3,3].reshape((1,1,1,joint_num,3))\n",
    "    __w = np.sum(Tj_arr[:,:3,:3] * joint_axis_arr.reshape(joint_num, 1, 3), axis=-1).reshape((1,1,1,joint_num,3))\n",
    "    __w = np.tile(__w, Nwdh+(1,1))\n",
    "    __v = np.cross(__w, __p)\n",
    "    xi = np.concatenate([__w, __v],axis=-1)\n",
    "    gtimer.toc(\"calc_cell\")\n",
    "    gtimer.tic(\"calc_ctems\")\n",
    "    ctem_names, ctem_TFs, ctem_dims, ctem_cells, ctem_links, ctem_joints, ctem_types =             defaultdict(list), defaultdict(list), defaultdict(list), defaultdict(list), defaultdict(list), defaultdict(list), dict()\n",
    "    for ctem in ghnd:\n",
    "        if not ctem.collision:\n",
    "            continue\n",
    "        key = gtype_to_otype(ctem.gtype).name\n",
    "        ctem_names[key].append(ctem.name)\n",
    "        Ttem = np.matmul(Tlink_dict[ctem.link_name], ctem.Toff)\n",
    "        ctem_TFs[key].append(Ttem)\n",
    "        ctem_dims[key].append(ctem.dims)\n",
    "        ctem_cells[key].append(get_cell(Ttem[:3,3], L_CELL, Nwdh))\n",
    "        ctem_links[key].append(ctem.link_name)\n",
    "        ctem_joints[key].append(chain_dict[ctem.link_name])\n",
    "        ctem_types[key] = ctem.gtype\n",
    "\n",
    "\n",
    "    verts_dict = {}\n",
    "    for key_cur in ctem_cells:\n",
    "        ctem_TFs[key_cur] = np.array(ctem_TFs[key_cur])\n",
    "        cell_array = np.array(ctem_cells[key_cur])\n",
    "        all_rearranged = False\n",
    "        while not all_rearranged:\n",
    "            all_rearranged = True\n",
    "            for cell in cell_array:\n",
    "                idxset = np.where(np.all(cell_array==cell, axis=-1))[0]\n",
    "                if len(idxset)>1:\n",
    "                    all_rearranged = False\n",
    "                    cell_array_bak = cell_array.copy()\n",
    "                    cell_array = rearrange_cell_array(cell_array, idxset, L_CELL, Nwdh, ctem_TFs[key_cur], centers)\n",
    "                    break\n",
    "        ctem_cells[key_cur] = cell_array\n",
    "        gtype = ctem_types[key_cur]\n",
    "        TFs = ctem_TFs[key_cur]\n",
    "        dims = np.array(ctem_dims[key_cur])\n",
    "        default_vert = DEFAULT_VERT_DICT[gtype]\n",
    "        verts_dim = default_vert.reshape((1,-1,3))*dims.reshape((-1,1,3))\n",
    "        cell_array = ctem_cells[key_cur]\n",
    "        verts = np.zeros_like(verts_dim)\n",
    "        for iv in range(verts.shape[1]):\n",
    "            verts[:,iv,:] = matmul_md(TFs[:,:3,:3], verts_dim[:,iv,:,np.newaxis])[:,:,0]+TFs[:,:3,3]\n",
    "        verts_loc = (verts - (cell_array[:,np.newaxis,:]*L_CELL+L_CELL/2))\n",
    "        verts_loc = verts_loc.reshape((verts_loc.shape[0], -1))\n",
    "        if gtype in [GEOTYPE.CAPSULE, GEOTYPE.CYLINDER]:\n",
    "            verts_loc = np.concatenate([verts_loc, dims[:,0:1]], axis=-1)\n",
    "        verts_dict[key_cur] = verts_loc\n",
    "    gtimer.toc(\"calc_ctems\")\n",
    "\n",
    "    ### initialize data volume\n",
    "    scene_data = np.zeros(Nwdh+(N_cell_label,))\n",
    "    ### put cell joint data\n",
    "    scene_data[:,:,:,N_joint_label_begin:N_joint_label_begin+N_joint_label] = xi.reshape(Nwdh+(N_joint_label,))\n",
    "\n",
    "    jtem_list = [graph.urdf_content.joint_map[jname] for jname in graph.joint_names]\n",
    "    joint_limits = [jtem.limit.lower for jtem in jtem_list] + [jtem.limit.upper for jtem in jtem_list]\n",
    "    scene_data[:,:,:,-N_joint_limits:] = Q_s.tolist() + joint_limits\n",
    "    ### put cell item data\n",
    "    for verts, cell, chain in zip(verts_dict[\"BOX\"], ctem_cells[\"BOX\"], ctem_joints[\"BOX\"]):\n",
    "        scene_data[cell[0],cell[1],cell[2],:N_vtx_box] = verts\n",
    "        scene_data[cell[0],cell[1],cell[2],N_vtx_box:N_vtx_box+N_mask_box] = 1\n",
    "        scene_data[cell[0],cell[1],cell[2],N_vtx_box+N_mask_box:N_vtx_box+N_mask_box+N_joint_box] = chain\n",
    "\n",
    "    N_BEGIN_CYL = N_vtx_box+N_mask_box+N_joint_box\n",
    "    for verts, cell, chain in zip(verts_dict[\"CYLINDER\"], ctem_cells[\"CYLINDER\"], ctem_joints[\"CYLINDER\"]):\n",
    "        scene_data[cell[0],cell[1],cell[2],N_BEGIN_CYL:N_BEGIN_CYL+N_vtx_cyl] = verts\n",
    "        scene_data[cell[0],cell[1],cell[2],N_BEGIN_CYL+N_vtx_cyl:N_BEGIN_CYL+N_vtx_cyl+N_mask_cyl] = 1\n",
    "        scene_data[cell[0],cell[1],cell[2],N_BEGIN_CYL+N_vtx_cyl+N_mask_cyl:N_BEGIN_CYL+N_vtx_cyl+N_mask_cyl+N_joint_cyl] = chain\n",
    "    save_pickle(os.path.join(CONVERTED_PATH, DATASET, WORLD, SCENE, \"scene.pkl\"), {\"scene_data\": scene_data, \"ctem_names\": ctem_names, \"ctem_cells\":ctem_cells})            \n",
    "\n",
    "##############################################################\n",
    "\n",
    "    # ACTION\n",
    "    print(\"[BEGIN] {} - {} - {} - {} ===============\".format(DATASET, WORLD, SCENE, ACTION))\n",
    "    snode_dict_bak = {int(k): v for k, v in load_json(os.path.join(SCENE_PATH, ACTION)).items()}\n",
    "    dcol.snode_dict = dcol.manager.dict()\n",
    "    for k, v in snode_dict_bak.items():\n",
    "        dcol.snode_dict[k] = deepcopy(v)\n",
    "    snode_keys = sorted(snode_dict_bak.keys())\n",
    "\n",
    "    if i_act not in snode_keys:\n",
    "        raise(RuntimeError(\"i_act not in snode_keys\"))\n",
    "\n",
    "\n",
    "    # snode\n",
    "    snode = dcol.snode_dict[i_act]\n",
    "    rname, inhand, obj, tar, dims_bak, color_bak, succ, _ = load_manipulation_from_dict(snode,\n",
    "                                                                                        graph.ghnd)\n",
    "\n",
    "\n",
    "    # action type\n",
    "    if rname and tar:  # handover case\n",
    "        action_type = \"HANDOVER\"\n",
    "    elif inhand.collision:  # place case\n",
    "        action_type = \"PLACE\"\n",
    "    elif obj.collision:  # pick case\n",
    "        action_type = \"PICK\"\n",
    "    else:\n",
    "        raise (RuntimeError(\"non-implemented case\"))\n",
    "\n",
    "\n",
    "##############################################################\n",
    "    init_box_dat=get_cell_data(inhand, L_CELL, Nwdh, Tlink_dict, chain_dict, gtype=GEOTYPE.BOX)\n",
    "    goal_box_dat=get_cell_data(obj, L_CELL, Nwdh, Tlink_dict, chain_dict, gtype=GEOTYPE.BOX)\n",
    "\n",
    "    if rname and tar:  # handover case\n",
    "        remove_map = [[], [0, 1]]\n",
    "        col_tem_dats=[(ctem.name, gtype_to_otype(ctem.gtype).name, get_cell_data(ctem, L_CELL, Nwdh, Tlink_dict, chain_dict)) for ctem in [inhand, obj] if ctem.collision]\n",
    "        recover_tems = []\n",
    "        action_type = \"HANDOVER\"\n",
    "    elif inhand.collision:  # place case\n",
    "        remove_map = [[], [0, 1]]\n",
    "        col_tem_dats=[(ctem.name, gtype_to_otype(ctem.gtype).name, get_cell_data(ctem, L_CELL, Nwdh, Tlink_dict, chain_dict)) for ctem in [inhand, obj] if ctem.collision]\n",
    "        recover_tems = []\n",
    "        action_type = \"PLACE\"\n",
    "    elif obj.collision:  # pick case\n",
    "        remove_map = [[1], [0]]\n",
    "        col_tem_dats=[(ctem.name, gtype_to_otype(ctem.gtype).name, get_cell_data(ctem, L_CELL, Nwdh, Tlink_dict, chain_dict,\n",
    "                                                cell=ctem_cells[gtype_to_otype(ctem.gtype).name][ctem_names[gtype_to_otype(ctem.gtype).name].index(ctem.name)])) for ctem in [inhand, obj] if ctem.collision]\n",
    "        recover_tems = [obj]\n",
    "        action_type = \"PICK\"\n",
    "    else:\n",
    "        remove_map = [[], [0,1]]\n",
    "        col_tem_dats = []\n",
    "        recover_tems = []\n",
    "        action_type = \"None\"\n",
    "        raise (RuntimeError(\"non-implemented case\"))\n",
    "    ### put init, goal item data\n",
    "    N_BEGIN_INIT = N_BEGIN_CYL+N_vtx_cyl+N_mask_cyl+N_joint_cyl\n",
    "    cell, verts, chain = init_box_dat\n",
    "\n",
    "    N_BEGIN_GOAL = N_BEGIN_INIT+N_vtx_init+N_mask_init+N_joint_init\n",
    "    cell, verts, chain = goal_box_dat\n",
    "\n",
    "    ### add/replace collilsion object\n",
    "    ctem_dat_list=[]\n",
    "    for cname, ctype, cdat in col_tem_dats:\n",
    "        cell, verts, chain = cdat\n",
    "        if ctype == \"BOX\":\n",
    "            N_BEGIN_REP, N_vtx, N_mask, N_joint = 0, N_vtx_box, N_mask_box, N_joint_box\n",
    "        elif ctype == \"CYLINDER\":\n",
    "            N_BEGIN_REP, N_vtx, N_mask, N_joint = N_BEGIN_CYL, N_vtx_cyl, N_mask_cyl, N_joint_cyl\n",
    "        else:\n",
    "            raise(RuntimeError(\"Non considered shape key\"))\n",
    "        if scene_data[cell[0],cell[1],cell[2],N_BEGIN_REP+N_vtx+N_mask-1]:\n",
    "            if cname not in ctem_names[ctype]:\n",
    "                near_range = np.clip(\n",
    "                    ((cell[0]-1,cell[0]+1),(cell[1]-1,cell[1]+1),(cell[2]-1,cell[2]+1)),\n",
    "                    [[0,0]]*3, np.transpose([Nwdh]*2)-1)\n",
    "                marks_near = scene_data[near_range[0][0]:near_range[0][1]+1,near_range[1][0]:near_range[1][1]+1,near_range[2][0]:near_range[2][1]+1,N_BEGIN_REP+N_vtx+N_mask-1]\n",
    "                marks_flt = marks_near.flatten()\n",
    "                idx_free = np.where(np.logical_not(marks_flt))[0]\n",
    "                near_cell_min = np.subtract(near_range,np.array(cell)[:,np.newaxis])[:,0]\n",
    "                cells_near = get_centers(marks_near.shape, 1)-0.5+near_cell_min\n",
    "                centers_cells = cells_near*L_CELL\n",
    "                centers_flt = centers_cells.reshape((-1,3))[idx_free]\n",
    "\n",
    "                if ctype == \"CYLINDER\":\n",
    "                    verts_res = verts[:-1].reshape((-1,3))\n",
    "                else:\n",
    "                    verts_res = verts.reshape((-1,3))\n",
    "                center_loc = np.mean(verts_res, axis=0)\n",
    "                if len(idx_free)==0:\n",
    "                    raise (RuntimeError(\"No free cell near {}\".format(cname)))\n",
    "                idx_cell = idx_free[np.argmin(np.linalg.norm(centers_flt-center_loc, axis=-1))]\n",
    "                cell_new = cells_near.reshape((-1,3))[idx_cell] + cell\n",
    "                diff = np.subtract(cell, cell_new)*L_CELL\n",
    "                if ctype == \"CYLINDER\":\n",
    "                    verts[:-1] = (verts_res + diff).flatten()\n",
    "                else:\n",
    "                    verts = (verts_res + diff).flatten()\n",
    "                cell_bak = deepcopy(cell)\n",
    "                cell = tuple(cell_new.astype(np.int))\n",
    "                if scene_data[cell[0],cell[1],cell[2],N_BEGIN_REP+N_vtx+N_mask-1]:\n",
    "                    print(\"wrong\")\n",
    "                    raise(RuntimeError(\"collision item cell occupied\"))\n",
    "        ctem_dat_list.append((cname, ctype, cell, verts, chain))\n",
    "    save_pickle(os.path.join(CONVERTED_PATH, DATASET, WORLD, SCENE, ACTION.replace(\".json\", \"-%03d.pkl\"%i_act)), \n",
    "                {\"init_box_dat\":init_box_dat, \"goal_box_dat\":goal_box_dat, \"ctem_dat_list\":ctem_dat_list, \"success\":succ, \"skey\": i_act})\n",
    "    xcustom.clear()\n",
    "    print(\"DONE: {}/{}\".format(i_dat, N_data))"
   ]
  },
  {
   "cell_type": "code",
   "execution_count": null,
   "metadata": {},
   "outputs": [],
   "source": []
  },
  {
   "cell_type": "code",
   "execution_count": null,
   "metadata": {},
   "outputs": [],
   "source": []
  },
  {
   "cell_type": "code",
   "execution_count": null,
   "metadata": {},
   "outputs": [],
   "source": []
  },
  {
   "cell_type": "code",
   "execution_count": null,
   "metadata": {},
   "outputs": [],
   "source": []
  },
  {
   "cell_type": "code",
   "execution_count": null,
   "metadata": {},
   "outputs": [],
   "source": []
  },
  {
   "cell_type": "code",
   "execution_count": null,
   "metadata": {},
   "outputs": [],
   "source": []
  },
  {
   "cell_type": "code",
   "execution_count": null,
   "metadata": {},
   "outputs": [],
   "source": []
  },
  {
   "cell_type": "code",
   "execution_count": null,
   "metadata": {},
   "outputs": [],
   "source": []
  },
  {
   "cell_type": "code",
   "execution_count": null,
   "metadata": {},
   "outputs": [],
   "source": []
  },
  {
   "cell_type": "code",
   "execution_count": null,
   "metadata": {},
   "outputs": [],
   "source": []
  }
 ],
 "metadata": {
  "kernelspec": {
   "display_name": "Python 2",
   "language": "python",
   "name": "python2"
  },
  "language_info": {
   "codemirror_mode": {
    "name": "ipython",
    "version": 2
   },
   "file_extension": ".py",
   "mimetype": "text/x-python",
   "name": "python",
   "nbconvert_exporter": "python",
   "pygments_lexer": "ipython2",
   "version": "2.7.17"
  }
 },
 "nbformat": 4,
 "nbformat_minor": 2
}
