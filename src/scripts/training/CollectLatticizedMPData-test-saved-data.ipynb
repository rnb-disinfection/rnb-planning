{
 "cells": [
  {
   "cell_type": "markdown",
   "metadata": {},
   "source": [
    "## 수정사항\n",
    "#### 2021.06.04\n",
    "* Gripper 자유도 45도로 제한됨에 따라 파지점 방향 수정, 바닥 파지면은 삭제"
   ]
  },
  {
   "cell_type": "markdown",
   "metadata": {},
   "source": [
    "## set running directory"
   ]
  },
  {
   "cell_type": "code",
   "execution_count": 1,
   "metadata": {},
   "outputs": [],
   "source": [
    "from __future__ import print_function\n",
    "import os\n",
    "os.chdir(os.path.join(os.environ[\"RNB_PLANNING_DIR\"], 'src'))"
   ]
  },
  {
   "cell_type": "code",
   "execution_count": 2,
   "metadata": {},
   "outputs": [],
   "source": [
    "from pkg.controller.combined_robot import *\n",
    "from pkg.utils.utils import get_now, try_mkdir\n",
    "\n",
    "\n",
    "DATA_PATH = os.path.join(os.environ['RNB_PLANNING_DIR'], \"data\")\n",
    "try_mkdir(DATA_PATH)\n",
    "\n",
    "TEST_DATA_PATH = os.path.join(DATA_PATH, \"test\")\n",
    "try_mkdir(TEST_DATA_PATH)"
   ]
  },
  {
   "cell_type": "code",
   "execution_count": null,
   "metadata": {},
   "outputs": [],
   "source": []
  },
  {
   "cell_type": "code",
   "execution_count": 3,
   "metadata": {},
   "outputs": [],
   "source": [
    "VISUALIZE = True\n",
    "TIMEOUT_REACH = 30\n",
    "TIMEOUT_RETRIEVE = 30\n",
    "TIMEOUT_SELF = 3\n",
    "TOOL_RPY = (-np.pi/2,0,0)\n",
    "SHOW_PERIOD = 0.01\n",
    "\n",
    "ROBOT_TYPE = RobotType.indy7gripper\n",
    "\n",
    "if ROBOT_TYPE == RobotType.indy7gripper:\n",
    "    ROBOT_TYPE_NAME = \"indy7\"\n",
    "    ROBOT_NAME = \"indy0\"\n",
    "    TOOL_LINK = \"indy0_tcp\"\n",
    "    TOOL_XYZ = (0,0,0.14)\n",
    "    GRIP_DEPTH = 0.05\n",
    "    HOME_POSE = (0,0,0,0,0,0)\n",
    "elif ROBOT_TYPE == RobotType.panda:\n",
    "    ROBOT_TYPE_NAME = \"panda\"\n",
    "    ROBOT_NAME = \"panda0\"\n",
    "    TOOL_LINK = \"panda0_hand\"\n",
    "    TOOL_XYZ = (0,0,0.112)\n",
    "    GRIP_DEPTH = 0.03\n",
    "    HOME_POSE = (0,-0.3,0,-0.5,0,2.5,0)\n",
    "else:\n",
    "    raise(NotImplementedError(\"Unknown robot type\"))\n",
    "    \n",
    "    \n",
    "ROBOT_DATA_ROOT = os.path.join(TEST_DATA_PATH, ROBOT_TYPE.name)\n",
    "try_mkdir(ROBOT_DATA_ROOT)"
   ]
  },
  {
   "cell_type": "code",
   "execution_count": null,
   "metadata": {},
   "outputs": [],
   "source": []
  },
  {
   "cell_type": "markdown",
   "metadata": {},
   "source": [
    "## init combined robot config"
   ]
  },
  {
   "cell_type": "code",
   "execution_count": 4,
   "metadata": {},
   "outputs": [
    {
     "name": "stdout",
     "output_type": "stream",
     "text": [
      "connection command:\n",
      "indy0: False\n"
     ]
    }
   ],
   "source": [
    "\n",
    "from pkg.project_config import *\n",
    "\n",
    "crob = CombinedRobot(robots_on_scene=[\n",
    "    RobotConfig(0, ROBOT_TYPE, None,\n",
    "                INDY_IP)]\n",
    "              , connection_list=[False])\n",
    "\n",
    "from pkg.geometry.builder.scene_builder import SceneBuilder\n",
    "s_builder = SceneBuilder(None)\n",
    "# # deprecated: s_builder.reset_reference_coord(ref_name=\"floor\")"
   ]
  },
  {
   "cell_type": "code",
   "execution_count": null,
   "metadata": {},
   "outputs": [],
   "source": []
  },
  {
   "cell_type": "markdown",
   "metadata": {},
   "source": [
    "## get ghnd with detected robot config"
   ]
  },
  {
   "cell_type": "code",
   "execution_count": 5,
   "metadata": {
    "scrolled": true
   },
   "outputs": [
    {
     "name": "stdout",
     "output_type": "stream",
     "text": [
      "Please create a subscriber to the marker\n",
      "publication OK\n",
      "published: [0, 0, 0, 0, 0, 0]\n"
     ]
    }
   ],
   "source": [
    "# xyz_rpy_robots = s_builder.detect_items(level_mask=[DetectionLevel.ROBOT])\n",
    "xyz_rpy_robots = {ROBOT_NAME: ((0,0,0), (0,0,0))}\n",
    "crob.update_robot_pos_dict(xyz_rpy_robots=xyz_rpy_robots)\n",
    "gscene = s_builder.create_gscene(crob, start_rviz=VISUALIZE)\n",
    "HOME_DICT = list2dict(HOME_POSE, gscene.joint_names)\n"
   ]
  },
  {
   "cell_type": "code",
   "execution_count": 6,
   "metadata": {},
   "outputs": [],
   "source": [
    "from pkg.utils.joint_utils import get_tf\n",
    "shoulder_link = gscene.urdf_content.joint_map[gscene.joint_names[1]].child\n",
    "shoulder_height = get_tf(shoulder_link, HOME_DICT, gscene.urdf_content)[2,3]"
   ]
  },
  {
   "cell_type": "code",
   "execution_count": null,
   "metadata": {},
   "outputs": [],
   "source": []
  },
  {
   "cell_type": "markdown",
   "metadata": {},
   "source": [
    "## add environment"
   ]
  },
  {
   "cell_type": "code",
   "execution_count": 7,
   "metadata": {},
   "outputs": [
    {
     "name": "stdout",
     "output_type": "stream",
     "text": [
      "Please create a subscriber to the marker\n"
     ]
    }
   ],
   "source": [
    "from pkg.geometry.geometry import *\n",
    "gtems_robot = s_builder.add_robot_geometries(color=(0,1,0,0.5), display=True, collision=True)"
   ]
  },
  {
   "cell_type": "code",
   "execution_count": null,
   "metadata": {},
   "outputs": [],
   "source": []
  },
  {
   "cell_type": "markdown",
   "metadata": {},
   "source": [
    "## init planning scene"
   ]
  },
  {
   "cell_type": "code",
   "execution_count": 8,
   "metadata": {},
   "outputs": [],
   "source": [
    "from pkg.planning.scene import PlanningScene\n",
    "pscene = PlanningScene(gscene, combined_robot=crob)\n",
    "\n",
    "from pkg.planning.pipeline import PlanningPipeline\n",
    "ppline = PlanningPipeline(pscene)"
   ]
  },
  {
   "cell_type": "code",
   "execution_count": null,
   "metadata": {},
   "outputs": [],
   "source": []
  },
  {
   "cell_type": "markdown",
   "metadata": {},
   "source": [
    "## Register binders"
   ]
  },
  {
   "cell_type": "code",
   "execution_count": 9,
   "metadata": {},
   "outputs": [],
   "source": [
    "from pkg.planning.constraint.constraint_actor import Gripper2Tool, PlacePlane, SweepTool"
   ]
  },
  {
   "cell_type": "code",
   "execution_count": 10,
   "metadata": {},
   "outputs": [],
   "source": [
    "gscene.create_safe(gtype=GEOTYPE.SPHERE, name=\"grip0\", link_name=TOOL_LINK, \n",
    "                 dims=(0.01,)*3, center=TOOL_XYZ, rpy=TOOL_RPY, color=(1,0,0,1), display=True, collision=False, fixed=True)\n",
    "gripper = pscene.create_binder(bname=\"grip0\", gname=\"grip0\", _type=Gripper2Tool, point=(0,0,0))"
   ]
  },
  {
   "cell_type": "code",
   "execution_count": null,
   "metadata": {},
   "outputs": [],
   "source": []
  },
  {
   "cell_type": "markdown",
   "metadata": {},
   "source": [
    "## planner"
   ]
  },
  {
   "cell_type": "code",
   "execution_count": 11,
   "metadata": {},
   "outputs": [],
   "source": [
    "from pkg.planning.motion.moveit.moveit_planner import MoveitPlanner\n",
    "from pkg.planning.filtering.grasp_filter import GraspChecker\n",
    "from pkg.planning.filtering.reach_filter import ReachChecker\n",
    "from pkg.planning.filtering.latticized_filter import LatticedChecker\n",
    "\n",
    "\n",
    "gcheck = GraspChecker(pscene)\n",
    "rcheck = ReachChecker(pscene)\n",
    "lcheck = LatticedChecker(pscene, gcheck)\n",
    "\n",
    "g_checker = MoveitPlanner(pscene, motion_filters = [gcheck])\n",
    "gr_checker = MoveitPlanner(pscene, motion_filters = [gcheck, rcheck])\n",
    "grl_checker = MoveitPlanner(pscene, motion_filters = [gcheck, rcheck, lcheck])"
   ]
  },
  {
   "cell_type": "code",
   "execution_count": null,
   "metadata": {},
   "outputs": [],
   "source": []
  },
  {
   "cell_type": "markdown",
   "metadata": {},
   "source": [
    "## ui"
   ]
  },
  {
   "cell_type": "code",
   "execution_count": 12,
   "metadata": {},
   "outputs": [
    {
     "name": "stdout",
     "output_type": "stream",
     "text": [
      "Dash is running on http://0.0.0.0:8050/\n",
      "\n",
      " * Serving Flask app \"pkg.ui.dash_launcher\" (lazy loading)\n",
      " * Environment: production\n",
      "   WARNING: This is a development server. Do not use it in a production deployment.\n",
      "   Use a production WSGI server instead.\n",
      " * Debug mode: off\n"
     ]
    }
   ],
   "source": [
    "from pkg.ui.ui_broker import *\n",
    "\n",
    "# start UI\n",
    "ui_broker = UIBroker.instance()\n",
    "ui_broker.initialize(ppline, s_builder)\n",
    "ui_broker.start_server()\n",
    "\n",
    "ui_broker.set_tables()"
   ]
  },
  {
   "cell_type": "code",
   "execution_count": null,
   "metadata": {},
   "outputs": [],
   "source": []
  },
  {
   "cell_type": "markdown",
   "metadata": {},
   "source": [
    "# Object Classes"
   ]
  },
  {
   "cell_type": "code",
   "execution_count": 13,
   "metadata": {},
   "outputs": [],
   "source": [
    "from pkg.planning.filtering.lattice_model import *\n",
    "from pkg.planning.filtering.lattice_model.scene_building import *\n",
    "        \n",
    "WORKPLANE_TYPES = [WorkPlane, Box, SideBox, TopBox]\n",
    "\n",
    "Nmax_wall, Nmax_pole, Nmax_bar = 4, 8, 8\n",
    "\n",
    "Nmax_obj = 3\n",
    "\n",
    "N_max_sample = 100\n",
    "N_print = 5\n",
    "N_sample_single_obj = 3"
   ]
  },
  {
   "cell_type": "code",
   "execution_count": 14,
   "metadata": {},
   "outputs": [],
   "source": [
    "from pkg.planning.constraint.constraint_common import *"
   ]
  },
  {
   "cell_type": "markdown",
   "metadata": {},
   "source": [
    "# Load and verify"
   ]
  },
  {
   "cell_type": "code",
   "execution_count": 15,
   "metadata": {
    "scrolled": true
   },
   "outputs": [
    {
     "name": "stdout",
     "output_type": "stream",
     "text": [
      "DATASET_LIST: []\n"
     ]
    }
   ],
   "source": [
    "N_MAX = 1000\n",
    "\n",
    "\n",
    "gtimer = GlobalTimer.instance()\n",
    "gtimer.reset(stack=True)\n",
    "DATASET_LIST = sorted(os.listdir(ROBOT_DATA_ROOT))\n",
    "N_tot = 0\n",
    "N_suc = 0\n",
    "labels = []\n",
    "g_results = []\n",
    "gr_results = []\n",
    "grl_results = []\n",
    "print(\"DATASET_LIST: {}\".format(DATASET_LIST))\n",
    "gtimer.tic(\"full_loop\")\n",
    "for DATASET_DIR in DATASET_LIST:\n",
    "    DATASET_PATH = os.path.join(ROBOT_DATA_ROOT, DATASET_DIR)\n",
    "    print(\"DATASET_PATH: {}\".format(DATASET_PATH))\n",
    "    DATA_LIST = sorted(os.listdir(DATASET_PATH))\n",
    "    print(\"DATA_LIST: {}\".format(DATA_LIST))\n",
    "    for DATA_FILE in DATA_LIST:\n",
    "        DATA_PATH = os.path.join(DATASET_PATH, DATA_FILE)\n",
    "        print(\"DATA_PATH: {}\".format(DATA_PATH))\n",
    "        data = load_pickle(DATA_PATH)\n",
    "        gtem_args = data[\"gtem_args\"]\n",
    "        obj_args = data[\"obj_args\"]\n",
    "        samples = data[\"samples\"]\n",
    "        gtem_remove = []\n",
    "        for gtem in gscene:\n",
    "            if gtem.link_name == \"base_link\" and gtem.parent is None:\n",
    "                gtem_remove.append(gtem)\n",
    "        for gtem in gtem_remove:\n",
    "            gscene.remove(gtem)\n",
    "                \n",
    "        gid_list = np.arange(len(gtem_args)).tolist()\n",
    "        for gidx in gid_list:\n",
    "            args = gtem_args[gidx]\n",
    "            if args['parent'] is not None:\n",
    "                if args['parent'] not in gscene.NAME_DICT:\n",
    "                    gid_list.append(gidx)\n",
    "                    continue\n",
    "            if 'obj' in args['name']:\n",
    "                args['fixed'] = False\n",
    "            gscene.create_safe(**args)\n",
    "            \n",
    "        pscene.create_binder(bname=\"wp\", gname=\"wp\", _type=PlacePlane, point=None)\n",
    "            \n",
    "        for i_s, sample in enumerate(samples):\n",
    "            obj_name, from_state, to_state, redundancy_dict, \\\n",
    "                success_kin_, success_reach_, success_retrieve_, \\\n",
    "                Traj_kin_, Traj_reach_, Traj_retrieve_, \\\n",
    "                time_kin_, time_reach_, time_retrieve_ = sample\n",
    "            \n",
    "            obj, obj_arg = DummyObject(), obj_args[obj_name]\n",
    "            obj.name = obj_name\n",
    "            obj.GRIP_DEPTH = obj_arg[\"GRIP_DEPTH\"]\n",
    "            obj.DIM = obj_arg[\"DIM\"]\n",
    "            obj.CLEARANCE = 0.001\n",
    "            obj.geometry = gscene.NAME_DICT[obj_arg[\"gname\"]]\n",
    "            obj_pscene, handles = add_object(pscene, obj)\n",
    "            \n",
    "            gscene.update()\n",
    "#             g_checker.update_gscene(only_self_collision=True)\n",
    "#             gr_checker.update_gscene(only_self_collision=True)\n",
    "#             grl_checker.update_gscene(only_self_collision=True)\n",
    "                            \n",
    "                            \n",
    "            from_state, to_state = deepcopy(from_state), deepcopy(to_state)\n",
    "            oname, hname, aname, _ = from_state.binding_state[0]\n",
    "            obj_, actor_ = pscene.subject_dict[oname], pscene.actor_dict[aname]\n",
    "            handle_ = obj_.action_points_dict[oname+\"_\"+hname]\n",
    "            btf = BindingTransform(obj_, handle_, actor_, T_lao=from_state.state_param[oname][1])\n",
    "            from_state.set_binding_state(pscene, BindingState(**{oname:btf}), {oname:None})\n",
    "            pscene.set_object_state(from_state)\n",
    "            \n",
    "            oname, hname, aname, _ = to_state.binding_state[0]\n",
    "            obj_, actor_ = pscene.subject_dict[oname], pscene.actor_dict[aname]\n",
    "            handle_ = obj_.action_points_dict[oname+\"_\"+hname]\n",
    "            redundancy_dict[oname][handle_.name] = redundancy_dict[oname][hname]\n",
    "            btf = BindingTransform(obj_, handle_, actor_, redundancy=redundancy_dict[oname])\n",
    "            to_state.set_binding_state(pscene, BindingState(**{oname:btf}), {oname:None})\n",
    "\n",
    "            with gtimer.block(\"Grasp\"):\n",
    "                success_g = \\\n",
    "                    g_checker.plan_transition(from_state=from_state, to_state=to_state, \n",
    "                                               test_filters_only=True, timeout=TIMEOUT_SELF)\n",
    "\n",
    "            with gtimer.block(\"GraspReach\"):\n",
    "                success_gr = \\\n",
    "                    gr_checker.plan_transition(from_state=from_state, to_state=to_state, \n",
    "                                               test_filters_only=True, timeout=TIMEOUT_SELF)\n",
    "\n",
    "            with gtimer.block(\"GRL\"):\n",
    "                success_grl = \\\n",
    "                    grl_checker.plan_transition(from_state=from_state, to_state=to_state, \n",
    "                                               test_filters_only=True, timeout=TIMEOUT_SELF)\n",
    "\n",
    "            labels.append(success_retrieve_)\n",
    "            g_results.append(success_g)\n",
    "            gr_results.append(success_gr)\n",
    "            grl_results.append(success_grl)\n",
    "                \n",
    "            pscene.set_object_state(from_state)\n",
    "            \n",
    "            \n",
    "\n",
    "            if not success_retrieve_:\n",
    "                pscene.remove_subject(obj_pscene.oname)\n",
    "                for handle in handles:\n",
    "                    gscene.remove(handle)  \n",
    "                gscene.update_markers_all()  \n",
    "                continue\n",
    "                \n",
    "            success_reach, success_retrieve = False, False\n",
    "            time_reach, time_retrieve = TIMEOUT_REACH, TIMEOUT_RETRIEVE\n",
    "            Traj_reach, Traj_retrieve = [], []\n",
    "            with gtimer.block(\"reach\"):\n",
    "                Traj_reach, LastQ, error, success_reach, binding_list = g_checker.plan_transition(\n",
    "                    from_state=from_state, to_state=to_state, redundancy_dict=redundancy_dict, timeout=TIMEOUT_REACH)\n",
    "\n",
    "            if success_reach:\n",
    "                if VISUALIZE:\n",
    "                    gscene.show_motion(Traj_reach, period=SHOW_PERIOD)\n",
    "                for bd in binding_list:\n",
    "                    pscene.rebind(bd, list2dict(LastQ, pscene.gscene.joint_names))\n",
    "                binding_state, state_param = pscene.get_object_state()\n",
    "                new_state = State(binding_state, state_param, list(LastQ), pscene)\n",
    "                end_state = new_state.copy(pscene)\n",
    "                end_state.Q = np.array(HOME_POSE)\n",
    "\n",
    "                with gtimer.block(\"retrieve\"):\n",
    "                    Traj_retrieve, LastQ, error, success_retrieve, binding_list = g_checker.plan_transition(\n",
    "                        from_state=new_state, to_state=end_state, timeout=TIMEOUT_RETRIEVE)\n",
    "#                 print(\"retrieve: {}\".format(success_retrieve))\n",
    "                if success_retrieve and VISUALIZE:\n",
    "                    gscene.show_motion(Traj_retrieve, period=SHOW_PERIOD)\n",
    "                \n",
    "            pscene.set_object_state(from_state)\n",
    "            pscene.remove_subject(obj_pscene.oname)\n",
    "            for handle in handles:\n",
    "                gscene.remove(handle)  \n",
    "            gscene.update_markers_all()  \n",
    "            \n",
    "            \n",
    "            N_tot += 1\n",
    "            N_suc += success_retrieve_\n",
    "            if N_tot>=N_MAX:\n",
    "                break\n",
    "        print(\"GRL: {} / SUCCESS: {} / TOTAL: {} / ELAPSED TIME: {} s / ETA: {} s\".format(\n",
    "            np.sum(grl_results), N_suc, N_tot, *np.round(np.array(gtimer.eta(\"full_loop\", N_tot, N_MAX))/1000, 1)))\n",
    "        if N_tot>=N_MAX:\n",
    "            break\n",
    "    if N_tot>=N_MAX:\n",
    "        break"
   ]
  },
  {
   "cell_type": "code",
   "execution_count": null,
   "metadata": {},
   "outputs": [],
   "source": [
    "N_print = 1000\n",
    "print(gtimer)\n",
    "print(\"\")\n",
    "print(\"=========== GraspChecker ==============\")\n",
    "print_confusion_mat(GT=labels[:N_print], Res=g_results[:N_print])\n",
    "print(\"\")\n",
    "print(\"=========== ReachReacher ==============\")\n",
    "print_confusion_mat(GT=labels[:N_print], Res=gr_results[:N_print])\n",
    "print(\"\")\n",
    "print(\"=========== TotalChecker ==============\")\n",
    "print_confusion_mat(GT=labels[:N_print], Res=grl_results[:N_print])"
   ]
  },
  {
   "cell_type": "markdown",
   "metadata": {},
   "source": [
    "```\n",
    "panda test 1\n",
    "\n",
    "=========== GraspChecker ==============\n",
    "           PP         PN       1000\n",
    "GP         53          0    100.00%\n",
    "GN        200        747     78.88%\n",
    "AL     20.95%    100.00%     80.00%\n",
    "\n",
    "=========== ReachReacher ==============\n",
    "           PP         PN       1000\n",
    "GP         52          1     98.11%\n",
    "GN         22        925     97.68%\n",
    "AL     70.27%     99.89%     97.70%\n",
    "\n",
    "=========== Failmore ==============\n",
    "           PP         PN       1000\n",
    "GP         24         29     45.28%\n",
    "GN          4        943     99.58%\n",
    "AL     85.71%     97.02%     96.70%\n",
    "=========== Balanced ==============\n",
    "           PP         PN       1000\n",
    "GP         52          1     98.11%\n",
    "GN         19        928     97.99%\n",
    "AL     73.24%     99.89%     98.00%\n",
    "=========== Filtered ==============\n",
    "           PP         PN       1000\n",
    "GP         48          5     90.57%\n",
    "GN          6        941     99.37%\n",
    "AL     88.89%     99.47%     98.90%\n",
    "```"
   ]
  },
  {
   "cell_type": "markdown",
   "metadata": {},
   "source": [
    "# Indy7\n",
    "```\n",
    "=========== GraspChecker ==============\n",
    "\t PP \t \t PN \t \t 1000\n",
    "GP \t 51 \t \t 0 \t \t 100.00%\n",
    "GN \t 198 \t \t 751 \t 79.14%\n",
    "AL \t 20.48% \t 100.00% \t 80.20%\n",
    "=========== ReachReacher ==============\n",
    "\t PP \t \t PN \t \t 1000\n",
    "GP \t 51 \t \t 0 \t \t 100.00%\n",
    "GN \t 16 \t \t 933 \t 98.31%\n",
    "AL \t 76.12% \t 100.00% \t 98.40%\n",
    "=========== FailMore ==============\n",
    "\t PP \t \t PN \t \t 1000\n",
    "GP \t 16 \t \t 35 \t \t 31.37%\n",
    "GN \t 2 \t \t 947 \t 99.79%\n",
    "AL \t 88.89% \t 96.44% \t 96.30%\n",
    "=========== Balanced ==============\n",
    "\t PP \t \t PN \t \t 1000\n",
    "GP \t 32 \t \t 19 \t \t 62.75%\n",
    "GN \t 6 \t \t 943 \t 99.37%\n",
    "AL \t 84.21% \t 98.02% \t 97.50%\n",
    "=========== Filtered ==============\n",
    "\t PP \t \t PN \t \t 1000\n",
    "GP \t 47 \t \t 4 \t \t 92.16%\n",
    "GN \t 4 \t \t 945 \t 99.58%\n",
    "AL \t 92.16% \t 99.58% \t 99.20%\n",
    "```"
   ]
  },
  {
   "cell_type": "markdown",
   "metadata": {},
   "source": [
    "# Panda\n",
    "```\n",
    "=========== GraspChecker ==============\n",
    "\t PP \t \t PN \t \t 1000\n",
    "GP \t 53 \t \t 0 \t \t 100.00%\n",
    "GN \t 257 \t \t 690 \t 72.86%\n",
    "AL \t 17.10% \t 100.00% \t 74.30%\n",
    "=========== ReachReacher ==============\n",
    "\t PP \t \t PN \t \t 1000\n",
    "GP \t 53 \t \t 0 \t \t 100.00%\n",
    "GN \t 38 \t \t 909 \t 95.99%\n",
    "AL \t 58.24% \t 100.00% \t 96.20%\n",
    "=========== FailMore ==============\n",
    "\t PP \t \t PN \t \t 1000\n",
    "GP \t 19 \t \t 34 \t \t 35.85%\n",
    "GN \t 2 \t \t 945 \t 99.79%\n",
    "AL \t 90.48% \t 96.53% \t 96.40%\n",
    "=========== Balanced ==============\n",
    "\t PP \t \t PN \t \t 1000\n",
    "GP \t 1 \t \t 52 \t \t 1.89%\n",
    "GN \t 0 \t \t 947 \t 100.00%\n",
    "AL \t 100.00% \t 94.79% \t 94.80%\n",
    "=========== Filtered ==============\n",
    "\t PP \t \t PN \t \t 1000\n",
    "GP \t 51 \t \t 2 \t \t 96.23%\n",
    "GN \t 12 \t \t 935 \t 98.73%\n",
    "AL \t 80.95% \t 99.79% \t 98.60%\n",
    "```"
   ]
  },
  {
   "cell_type": "code",
   "execution_count": null,
   "metadata": {},
   "outputs": [],
   "source": []
  },
  {
   "cell_type": "code",
   "execution_count": null,
   "metadata": {},
   "outputs": [],
   "source": []
  }
 ],
 "metadata": {
  "kernelspec": {
   "display_name": "Python 2",
   "language": "python",
   "name": "python2"
  },
  "language_info": {
   "codemirror_mode": {
    "name": "ipython",
    "version": 2
   },
   "file_extension": ".py",
   "mimetype": "text/x-python",
   "name": "python",
   "nbconvert_exporter": "python",
   "pygments_lexer": "ipython2",
   "version": "2.7.17"
  }
 },
 "nbformat": 4,
 "nbformat_minor": 2
}
