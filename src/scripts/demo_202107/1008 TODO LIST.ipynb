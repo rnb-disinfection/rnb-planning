{
 "cells": [
  {
   "cell_type": "markdown",
   "metadata": {},
   "source": [
    "##  요청 사항\n",
    "* 인디 앞뒤 돌려 설치 요청\n",
    "* IndySDK 설치 요청"
   ]
  },
  {
   "cell_type": "markdown",
   "metadata": {},
   "source": [
    "## 추가구현\n",
    "* 앞뒤 뒤집힌 work range 반영\n",
    "* 옆으로 동작하기\n",
    "* 모션 재생성시 이동 한 뒤에 자세 뒤집는 경우 발생\n",
    "* 침대 인식 부정확 - 전반적으로 홈 위치에 가깝게 인식되는 경향 있음"
   ]
  },
  {
   "cell_type": "code",
   "execution_count": null,
   "metadata": {},
   "outputs": [],
   "source": []
  }
 ],
 "metadata": {
  "kernelspec": {
   "display_name": "Python 2",
   "language": "python",
   "name": "python2"
  },
  "language_info": {
   "codemirror_mode": {
    "name": "ipython",
    "version": 2
   },
   "file_extension": ".py",
   "mimetype": "text/x-python",
   "name": "python",
   "nbconvert_exporter": "python",
   "pygments_lexer": "ipython2",
   "version": "2.7.17"
  }
 },
 "nbformat": 4,
 "nbformat_minor": 2
}
