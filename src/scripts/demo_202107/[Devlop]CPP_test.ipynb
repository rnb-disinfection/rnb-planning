{
 "cells": [
  {
   "cell_type": "markdown",
   "metadata": {},
   "source": [
    "## set running directory to project source"
   ]
  },
  {
   "cell_type": "code",
   "execution_count": 1,
   "metadata": {},
   "outputs": [],
   "source": [
    "import os\n",
    "os.chdir(os.path.join(os.environ[\"RNB_PLANNING_DIR\"], 'src'))\n",
    "from pkg.utils.code_scraps import add_indy_sweep_tool, \\\n",
    "        use_current_place_point_only, use_current_sub_binders_only, \\\n",
    "        finish_L_shape, set_l_shape_object, ModeSwitcher, double_sweep_motions"
   ]
  },
  {
   "cell_type": "code",
   "execution_count": null,
   "metadata": {},
   "outputs": [],
   "source": []
  },
  {
   "cell_type": "markdown",
   "metadata": {},
   "source": [
    "## init combined robot config"
   ]
  },
  {
   "cell_type": "code",
   "execution_count": 2,
   "metadata": {},
   "outputs": [
    {
     "name": "stdout",
     "output_type": "stream",
     "text": [
      "connection command:\n",
      "indy0: False\n"
     ]
    }
   ],
   "source": [
    "from pkg.controller.combined_robot import *\n",
    "from pkg.project_config import *\n",
    "\n",
    "crob = CombinedRobot(robots_on_scene=[\n",
    "    RobotConfig(0, RobotType.indy7, ((0.3,-0.4,0), (0,0,np.pi/2)),\n",
    "                INDY_IP, specs={\"no_sdk\":True})]\n",
    "              , connection_list=[False])"
   ]
  },
  {
   "cell_type": "code",
   "execution_count": null,
   "metadata": {},
   "outputs": [],
   "source": [
    "\n"
   ]
  },
  {
   "cell_type": "markdown",
   "metadata": {},
   "source": [
    "## create scene builder"
   ]
  },
  {
   "cell_type": "code",
   "execution_count": 3,
   "metadata": {},
   "outputs": [],
   "source": [
    "from pkg.geometry.builder.scene_builder import SceneBuilder\n",
    "s_builder = SceneBuilder(None)\n",
    "# # deprecated: s_builder.reset_reference_coord(ref_name=\"floor\")"
   ]
  },
  {
   "cell_type": "code",
   "execution_count": null,
   "metadata": {},
   "outputs": [],
   "source": []
  },
  {
   "cell_type": "markdown",
   "metadata": {},
   "source": [
    "## detect robot and make geometry scene"
   ]
  },
  {
   "cell_type": "code",
   "execution_count": 4,
   "metadata": {},
   "outputs": [
    {
     "name": "stdout",
     "output_type": "stream",
     "text": [
      "Please create a subscriber to the marker\n",
      "publication OK\n",
      "published: [0, 0, 0, 0, 0, 0]\n"
     ]
    }
   ],
   "source": [
    "xyz_rpy_robots = {\"indy0\": ((0,0,0), (0,0,np.pi))}\n",
    "crob.update_robot_pos_dict(xyz_rpy_robots=xyz_rpy_robots)\n",
    "gscene = s_builder.create_gscene(crob)"
   ]
  },
  {
   "cell_type": "code",
   "execution_count": null,
   "metadata": {},
   "outputs": [],
   "source": []
  },
  {
   "cell_type": "markdown",
   "metadata": {},
   "source": [
    "## init planning pipeline"
   ]
  },
  {
   "cell_type": "code",
   "execution_count": 5,
   "metadata": {},
   "outputs": [
    {
     "name": "stdout",
     "output_type": "stream",
     "text": [
      "Dash is running on http://0.0.0.0:8050/\n",
      "\n",
      " * Serving Flask app \"pkg.ui.dash_launcher\" (lazy loading)\n",
      " * Environment: production\n",
      "   WARNING: This is a development server. Do not use it in a production deployment.\n",
      "   Use a production WSGI server instead.\n",
      " * Debug mode: off\n"
     ]
    },
    {
     "name": "stderr",
     "output_type": "stream",
     "text": [
      "Exception in thread Thread-12:\n",
      "Traceback (most recent call last):\n",
      "  File \"/usr/lib/python2.7/threading.py\", line 801, in __bootstrap_inner\n",
      "    self.run()\n",
      "  File \"/usr/lib/python2.7/threading.py\", line 754, in run\n",
      "    self.__target(*self.__args, **self.__kwargs)\n",
      "  File \"/home/ihhwang/.local/lib/python2.7/site-packages/dash/dash.py\", line 1716, in run_server\n",
      "    self.server.run(host=host, port=port, debug=debug, **flask_run_options)\n",
      "  File \"/home/ihhwang/.local/lib/python2.7/site-packages/flask/app.py\", line 990, in run\n",
      "    run_simple(host, port, self, **options)\n",
      "  File \"/home/ihhwang/.local/lib/python2.7/site-packages/werkzeug/serving.py\", line 1052, in run_simple\n",
      "    inner()\n",
      "  File \"/home/ihhwang/.local/lib/python2.7/site-packages/werkzeug/serving.py\", line 1005, in inner\n",
      "    fd=fd,\n",
      "  File \"/home/ihhwang/.local/lib/python2.7/site-packages/werkzeug/serving.py\", line 848, in make_server\n",
      "    host, port, app, request_handler, passthrough_errors, ssl_context, fd=fd\n",
      "  File \"/home/ihhwang/.local/lib/python2.7/site-packages/werkzeug/serving.py\", line 740, in __init__\n",
      "    HTTPServer.__init__(self, server_address, handler)\n",
      "  File \"/usr/lib/python2.7/SocketServer.py\", line 420, in __init__\n",
      "    self.server_bind()\n",
      "  File \"/usr/lib/python2.7/BaseHTTPServer.py\", line 108, in server_bind\n",
      "    SocketServer.TCPServer.server_bind(self)\n",
      "  File \"/usr/lib/python2.7/SocketServer.py\", line 434, in server_bind\n",
      "    self.socket.bind(self.server_address)\n",
      "  File \"/usr/lib/python2.7/socket.py\", line 228, in meth\n",
      "    return getattr(self._sock,name)(*args)\n",
      "error: [Errno 98] Address already in use\n",
      "\n"
     ]
    }
   ],
   "source": [
    "from pkg.planning.scene import PlanningScene\n",
    "pscene = PlanningScene(gscene, combined_robot=crob)\n",
    "\n",
    "from pkg.planning.pipeline import PlanningPipeline\n",
    "ppline = PlanningPipeline(pscene)\n",
    "\n",
    "from pkg.ui.ui_broker import *\n",
    "\n",
    "# start UI\n",
    "ui_broker = UIBroker.instance()\n",
    "ui_broker.initialize(ppline, s_builder)\n",
    "ui_broker.start_server()\n",
    "\n",
    "ui_broker.set_tables()"
   ]
  },
  {
   "cell_type": "markdown",
   "metadata": {},
   "source": [
    "```\n",
    "open web ui on <your ip>:8050\n",
    "click geometry items / Handles / Binders to highlight geometry on RVIZ\n",
    "other functions may be buggy.. please report\n",
    "```"
   ]
  },
  {
   "cell_type": "code",
   "execution_count": null,
   "metadata": {},
   "outputs": [],
   "source": []
  },
  {
   "cell_type": "markdown",
   "metadata": {},
   "source": [
    "## add environment"
   ]
  },
  {
   "cell_type": "code",
   "execution_count": 6,
   "metadata": {},
   "outputs": [
    {
     "name": "stdout",
     "output_type": "stream",
     "text": [
      "Please create a subscriber to the marker\n"
     ]
    }
   ],
   "source": [
    "floor = gscene.create_safe(GEOTYPE.BOX, \"floor\", \"base_link\", (3,3,0.01), (0,0,0), \n",
    "                           rpy=(0,0,0), color=(0.8,0.8,0.8,0.5), display=True, fixed=True, collision=True)"
   ]
  },
  {
   "cell_type": "code",
   "execution_count": 7,
   "metadata": {},
   "outputs": [],
   "source": [
    "gtems = s_builder.add_robot_geometries(color=(0,1,0,0.5), display=True, collision=True)"
   ]
  },
  {
   "cell_type": "code",
   "execution_count": 8,
   "metadata": {},
   "outputs": [],
   "source": [
    "gscene.set_workspace_boundary( -1.5, 1.5, -1, 1, -0.1, 1.75)"
   ]
  },
  {
   "cell_type": "code",
   "execution_count": null,
   "metadata": {},
   "outputs": [],
   "source": []
  },
  {
   "cell_type": "markdown",
   "metadata": {},
   "source": [
    "## add indy tool"
   ]
  },
  {
   "cell_type": "code",
   "execution_count": 9,
   "metadata": {},
   "outputs": [
    {
     "data": {
      "text/plain": [
       "<pkg.geometry.geometry.GeometryItem at 0x7fd040136790>"
      ]
     },
     "execution_count": 9,
     "metadata": {},
     "output_type": "execute_result"
    }
   ],
   "source": [
    "gscene = gscene\n",
    "robot_name=\"indy0\"\n",
    "face_name=\"brush_face\"\n",
    "\n",
    "gscene.create_safe(gtype=GEOTYPE.CYLINDER, name=\"{}_adapter\".format(robot_name),\n",
    "                   link_name=\"{}_tcp\".format(robot_name),\n",
    "                   center=(0, 0, 0.0025), dims=(0.09, 0.09, 0.005), rpy=(0, 0, 0), color=(0.8, 0.8, 0.8, 1),\n",
    "                   collision=False, fixed=True)\n",
    "gscene.create_safe(gtype=GEOTYPE.CYLINDER, name=\"{}_adapter_col\".format(robot_name),\n",
    "                   link_name=\"{}_tcp\".format(robot_name),\n",
    "                   center=(0, 0, 0.0025), dims=(0.13, 0.13, 0.005), rpy=(0, 0, 0), color=(0.0, 0.8, 0.0, 0.5),\n",
    "                   collision=True, fixed=True)\n",
    "\n",
    "gscene.create_safe(gtype=GEOTYPE.BOX, name=\"{}_hindge0\".format(robot_name),\n",
    "                   link_name=\"{}_tcp\".format(robot_name),\n",
    "                   center=(0, 0, 0.0125), dims=(0.022, 0.036, 0.025), rpy=(0, 0, 0), color=(0.8, 0.8, 0.8, 1),\n",
    "                   collision=False, fixed=True)\n",
    "gscene.create_safe(gtype=GEOTYPE.BOX, name=\"{}_hindge0_col\".format(robot_name),\n",
    "                   link_name=\"{}_tcp\".format(robot_name),\n",
    "                   center=(0, 0, 0.0125), dims=(0.062, 0.076, 0.025), rpy=(0, 0, 0), color=(0.0, 0.8, 0.0, 0.5),\n",
    "                   collision=True, fixed=True)\n",
    "\n",
    "gscene.create_safe(gtype=GEOTYPE.BOX, name=\"{}_bar\".format(robot_name),\n",
    "                   link_name=\"{}_tcp\".format(robot_name),\n",
    "                   center=(-0.053, 0, 0.068), dims=(0.011, 0.020, 0.15), rpy=(0, 3*pi/4, 0), color=(0.8, 0.8, 0.8, 1),\n",
    "                   collision=False, fixed=True)\n",
    "gscene.create_safe(gtype=GEOTYPE.BOX, name=\"{}_bar_col\".format(robot_name),\n",
    "                   link_name=\"{}_tcp\".format(robot_name),\n",
    "                   center=(-0.053, 0, 0.068), dims=(0.051, 0.060, 0.15), rpy=(0, 3*pi/4, 0), color=(0.0, 0.8, 0.0, 0.5),\n",
    "                   collision=True, fixed=True)\n",
    "\n",
    "gscene.create_safe(gtype=GEOTYPE.BOX, name=\"{}_hindge1\".format(robot_name),\n",
    "                   link_name=\"{}_tcp\".format(robot_name),\n",
    "                   center=(-0.1085,0,0.121), dims=(0.025, 0.036, 0.022), rpy=(0, 0, 0), color=(0.8, 0.8, 0.8, 1),\n",
    "                   collision=False, fixed=True)\n",
    "gscene.create_safe(gtype=GEOTYPE.BOX, name=\"{}_hindge1_col\".format(robot_name),\n",
    "                   link_name=\"{}_tcp\".format(robot_name),\n",
    "                   center=(-0.1085,0,0.121), dims=(0.025, 0.076, 0.062), rpy=(0, 0, 0), color=(0.0, 0.8, 0.0, 0.5),\n",
    "                   collision=True, fixed=True)\n",
    "\n",
    "gscene.create_safe(gtype=GEOTYPE.CYLINDER, name=\"{}_brushbase\".format(robot_name),\n",
    "                   link_name=\"{}_tcp\".format(robot_name),\n",
    "                   center=(-0.1285,0,0.121), dims=(0.08, 0.08, 0.015), rpy=(0, pi/2, 0), color=(0.8, 0.8, 0.8, 1),\n",
    "                   collision=False, fixed=True)\n",
    "gscene.create_safe(gtype=GEOTYPE.CYLINDER, name=\"{}_brushbase_col\".format(robot_name),\n",
    "                   link_name=\"{}_tcp\".format(robot_name),\n",
    "                   center=(-0.1285,0,0.121), dims=(0.12, 0.12, 0.015), rpy=(0, pi/2, 0), color=(0.0, 0.8, 0.0, 0.5),\n",
    "                   collision=True, fixed=True)\n",
    "gscene.create_safe(gtype=GEOTYPE.BOX, name=face_name, link_name=\"{}_tcp\".format(robot_name),\n",
    "                   center=(-0.147,0,0.121), dims=(0.037, 0.10, 0.34), rpy=(0, 0, pi), color=(1.0, 1.0, 0.94, 1),\n",
    "                   collision=False, fixed=True)\n",
    "gscene.create_safe(gtype=GEOTYPE.BOX, name=\"{}_col\".format(face_name), link_name=\"{}_tcp\".format(robot_name),\n",
    "                   center=(-0.127,0,0.121), dims=(0.057, 0.10, 0.36), rpy=(0, 0, pi), color=(0.0, 0.8, 0.0, 0.5),\n",
    "                   collision=True, fixed=True)"
   ]
  },
  {
   "cell_type": "markdown",
   "metadata": {},
   "source": [
    "## recieve table dimension"
   ]
  },
  {
   "cell_type": "code",
   "execution_count": 10,
   "metadata": {},
   "outputs": [],
   "source": [
    "TABLE_X = 1\n",
    "TABLE_Y = 1\n",
    "TABLE_Z = 1\n",
    "TABLE_R = 0\n",
    "TABLE_P = 0\n",
    "TABLE_Y = 0\n",
    "TABLE_HEIGHT = 0.3\n",
    "TABLE_DEPTH = 1\n",
    "TABLE_WIDTH = 1\n",
    "TOOL_DIM = [0.32, 0.08]"
   ]
  },
  {
   "cell_type": "markdown",
   "metadata": {},
   "source": [
    "## load dataset"
   ]
  },
  {
   "cell_type": "code",
   "execution_count": 12,
   "metadata": {},
   "outputs": [
    {
     "name": "stdout",
     "output_type": "stream",
     "text": [
      "0.15\n",
      "0.2\n",
      "0.25\n",
      "0.3\n"
     ]
    }
   ],
   "source": [
    "import numpy as np\n",
    "dataset = np.load('scripts/demo_202107/dataset.npy', allow_pickle=True)\n",
    "TABLE_HEIGHT = np.round(TABLE_HEIGHT, 3)\n",
    "len_dat = len(dataset)\n",
    "for i in range(len_dat):\n",
    "    print(dataset[i][0])\n",
    "    if ((TABLE_HEIGHT >= dataset[i][0]) and\n",
    "        (TABLE_HEIGHT < dataset[i+1][0] if i < len_dat-1 else TABLE_HEIGHT < dataset[i][0]+0.04)):\n",
    "        data = dataset[i]\n",
    "        break\n",
    "        \n",
    "height_goal, depth_criteria, opt_depth_sort, optimal_list, width_list, area_list = data\n",
    "\n",
    "\n",
    "# reduce areas by sensor error margin\n",
    "SENSOR_MARGIN = 0.1\n",
    "optimal_list = [[pt1, pt2, round(width-SENSOR_MARGIN, 3), round(depth-SENSOR_MARGIN, 3)] for pt1, pt2, width, depth in optimal_list]\n",
    "optimal_dict = {opt_tem[-1] : opt_tem for opt_tem in optimal_list}\n",
    "# width_list = [width-width_list for width in width_list]\n",
    "opt_depth_sort = np.round(np.subtract(opt_depth_sort, SENSOR_MARGIN), 3)"
   ]
  },
  {
   "cell_type": "code",
   "execution_count": 13,
   "metadata": {},
   "outputs": [],
   "source": [
    "# select area depth based on table depth\n",
    "if TABLE_DEPTH <= depth_criteria:\n",
    "    area_depth_obj = TABLE_DEPTH \n",
    "else:\n",
    "    if TABLE_DEPTH > max(opt_depth_sort) *2:\n",
    "        print(\"==========================================================\")\n",
    "        print(\"=========== TOO DEEP TABLE! CAN'T FINISH WIPING TASK =============\")\n",
    "        print(\"==========================================================\")\n",
    "        raise(RuntimeError(\"TOO DEEP TABLE! CAN'T FINISH WIPING TASK\"))\n",
    "    else:\n",
    "        area_depth_obj = TABLE_DEPTH/2\n",
    "\n",
    "# select optimal item for the area depth\n",
    "idx_depth = np.min(np.where(np.subtract(opt_depth_sort, area_depth_obj) > 0)[0])\n",
    "area_depth = opt_depth_sort[idx_depth]\n",
    "area_corner1, area_corner2, area_width, _ = optimal_dict[area_depth]\n",
    "\n",
    "# fit table width to table\n",
    "if TABLE_WIDTH < area_width:\n",
    "    area_width = TABLE_WIDTH"
   ]
  },
  {
   "cell_type": "code",
   "execution_count": 14,
   "metadata": {},
   "outputs": [],
   "source": [
    "# get area parameters\n",
    "corner_center = [(area_corner1[0] + area_corner2[0]) / 2, (area_corner1[1] + area_corner2[1]) / 2]\n",
    "corner_center = np.round(corner_center, 5)\n",
    "area = area_depth * area_width\n",
    "area = np.round(area, 5)"
   ]
  },
  {
   "cell_type": "code",
   "execution_count": 15,
   "metadata": {},
   "outputs": [],
   "source": [
    "\n",
    "\n",
    "if area_depth_obj == depth_criteria:\n",
    "    area_depth = area_depth_obj\n",
    "else:\n",
    "    if len(opt_depth_sort) == 1:\n",
    "        area_depth = opt_depth_sort[0]\n",
    "    else:\n",
    "        for j in range(len(opt_depth_sort)-1):\n",
    "            if (area_depth_obj >= opt_depth_sort[j]) & (area_depth_obj < opt_depth_sort[j+1]):\n",
    "                area_depth = opt_depth_sort[j]\n",
    "                break\n",
    "            else:\n",
    "                area_depth = opt_depth_sort[len(opt_depth_sort)-1]\n",
    "                break\n",
    "#     area_width_obj = TABLE_WIDTH\n",
    "#     if len(width_list) == 1:\n",
    "#         area_width = width_list[0]\n",
    "#     for j in range(len(width_list)-1):\n",
    "#         if (area_width_obj >= width_list[j]) & (area_width_obj < width_list[j+1]):\n",
    "#             area_width = width_list[j]\n",
    "#             break\n",
    "#     for j in range(len(area_list)):\n",
    "#         if (area_list[j][2] == area_width) & (area_list[j][3] == area_depth):\n",
    "#             area_corner1 = area_list[j][0]\n",
    "#             area_corner2 = area_list[j][1]\n",
    "            \n",
    "            \n",
    "            \n",
    "#     for j in range(len(width_list)-1):\n",
    "#         if (area_width_obj >= width_list[j]) & (area_width_obj < width_list[j+1]):\n",
    "#             area_width = width_list[j+1]\n",
    "#             break\n",
    "#     for j in range(len(area_list)):\n",
    "#         if (area_list[j][2] == area_width) & (area_list[j][3] == area_depth):\n",
    "#             area_corner1 = area_list[j][0]\n",
    "#             area_corner2 = area_list[j][1]\n",
    "#             area_width = area_width_obj\n",
    "\n",
    "corner_center = [(area_corner1[0] + area_corner2[0]) / 2, (area_corner1[1] + area_corner2[1]) / 2]\n",
    "corner_center = np.round(corner_center, 5)\n",
    "area = area_depth * area_width\n",
    "area = np.round(area, 5)"
   ]
  },
  {
   "cell_type": "markdown",
   "metadata": {},
   "source": [
    "## decompose wiping area"
   ]
  },
  {
   "cell_type": "code",
   "execution_count": 16,
   "metadata": {},
   "outputs": [],
   "source": [
    "if area_depth < TABLE_DEPTH:\n",
    "    num_depth = 2\n",
    "else:\n",
    "    num_depth = 1\n",
    "\n",
    "num_width, rem = divmod(TABLE_WIDTH, area_width)\n",
    "if not rem == 0:\n",
    "    num_width += 1\n",
    "num_width = int(num_width)\n",
    "\n",
    "num_area = num_width * num_depth"
   ]
  },
  {
   "cell_type": "code",
   "execution_count": null,
   "metadata": {},
   "outputs": [],
   "source": []
  },
  {
   "cell_type": "markdown",
   "metadata": {},
   "source": [
    "## add sweep face"
   ]
  },
  {
   "cell_type": "code",
   "execution_count": 17,
   "metadata": {},
   "outputs": [],
   "source": [
    "from pkg.geometry.geotype import GEOTYPE"
   ]
  },
  {
   "cell_type": "code",
   "execution_count": 18,
   "metadata": {},
   "outputs": [],
   "source": [
    "track = gscene.create_safe(GEOTYPE.BOX, \"track\", \"base_link\", (area_depth,area_width,0.01), (corner_center[0],corner_center[1],height_goal), rpy=(0,0,0), \n",
    "                           color=(0.8,0.8,0.8,0.8), display=True, fixed=True, collision=True)"
   ]
  },
  {
   "cell_type": "code",
   "execution_count": 19,
   "metadata": {},
   "outputs": [],
   "source": [
    "track_face = gscene.copy_from(track, new_name=\"track_face\", collision=False, color=(0.8,0.8,0.8,0.2))\n",
    "TRACK_DIM = np.copy(track_face.dims)\n",
    "track_face.dims = (3, 3, track.dims[2])"
   ]
  },
  {
   "cell_type": "code",
   "execution_count": 20,
   "metadata": {},
   "outputs": [],
   "source": [
    "gscene.update_markers_all()"
   ]
  },
  {
   "cell_type": "code",
   "execution_count": null,
   "metadata": {},
   "outputs": [],
   "source": []
  },
  {
   "cell_type": "markdown",
   "metadata": {},
   "source": [
    "# coverage planning"
   ]
  },
  {
   "cell_type": "code",
   "execution_count": 21,
   "metadata": {},
   "outputs": [],
   "source": [
    "from pkg.planning.task.custom_rules.coverage import *"
   ]
  },
  {
   "cell_type": "code",
   "execution_count": 22,
   "metadata": {},
   "outputs": [],
   "source": [
    "TOOL_DIM = [0.32, 0.08]\n",
    "TACK_WIDTH = 0.36\n",
    "TRACK_NUM = np.ceil(np.divide(TRACK_DIM[0]-TOOL_DIM[0], TOOL_DIM[0])).astype(np.int)+1\n",
    "TRACK_STEP = TRACK_DIM[0]/TRACK_NUM"
   ]
  },
  {
   "cell_type": "code",
   "execution_count": 23,
   "metadata": {},
   "outputs": [],
   "source": [
    "img = grayscale(\"scripts/demo_202107/input.jpg\")\n",
    "\n",
    "table_X = TRACK_DIM[0]\n",
    "table_Y = TRACK_DIM[1]\n",
    "table_x = img.shape[0]\n",
    "table_y = img.shape[1]\n",
    "\n",
    "path_gap_real = TRACK_STEP\n",
    "path_gap_img = int(path_gap_real * (table_x / table_X))\n",
    "wp1_pos_img, wp2_pos_img = make_waypoint(img, path_gap_img)\n",
    "\n",
    "wp1_pos_real = np.empty([TRACK_NUM,3])\n",
    "wp1_pos_real[:,0] = wp1_pos_img[:,0] * (table_X / table_x)\n",
    "wp1_pos_real[:,1] = wp1_pos_img[:,1] * (table_Y / table_y)\n",
    "wp1_pos_real[:,1] = -wp1_pos_real[:,1];\n",
    "wp1_pos_real[:,2] = 0\n",
    "\n",
    "wp2_pos_real = np.empty([TRACK_NUM,3])\n",
    "wp2_pos_real[:,0] = wp2_pos_img[:,0] * (table_X / table_x)\n",
    "wp2_pos_real[:,1] = wp2_pos_img[:,1] * (table_Y / table_y)\n",
    "wp2_pos_real[:,1] = -wp2_pos_real[:,1];\n",
    "wp2_pos_real[:,2] = 0"
   ]
  },
  {
   "cell_type": "code",
   "execution_count": 24,
   "metadata": {},
   "outputs": [],
   "source": [
    "wp1_pos_real[:,0] -= TRACK_DIM[0]/2\n",
    "wp1_pos_real[:,1] +=  TRACK_DIM[1]/2\n",
    "wp2_pos_real[:,0] -= TRACK_DIM[0]/2\n",
    "wp2_pos_real[:,1] += TRACK_DIM[1]/2"
   ]
  },
  {
   "cell_type": "code",
   "execution_count": null,
   "metadata": {},
   "outputs": [],
   "source": []
  },
  {
   "cell_type": "markdown",
   "metadata": {},
   "source": [
    "## add wp"
   ]
  },
  {
   "cell_type": "code",
   "execution_count": 25,
   "metadata": {},
   "outputs": [],
   "source": [
    "TRC_THIC = TRACK_DIM[2]\n",
    "track_list = []\n",
    "\n",
    "wp1_pos_real[:,1] -= TOOL_DIM[1]/2\n",
    "wp2_pos_real[:,1] += TOOL_DIM[1]/2\n",
    "\n",
    "for i_trc in range(TRACK_NUM):\n",
    "    wp1 = gscene.create_safe(GEOTYPE.BOX, \"wp{}a\".format(i_trc+1), \"base_link\", (TOOL_DIM[0]/2,TOOL_DIM[1]/2,TRC_THIC), \n",
    "                             wp1_pos_real[i_trc,:], rpy=(0,0,0), \n",
    "                             color=(0.8,0.2,0.2,0.2), display=True, fixed=True, collision=False, parent=\"track_face\")\n",
    "#     wp1 = gscene.create_safe(GEOTYPE.BOX, \"wp{}a\".format(i_trc+1), \"base_link\", (TOOL_DIM[0]/2,TOOL_DIM[1]/2,TRC_THIC), \n",
    "#                              (0.4, -0.01, height_goal), rpy=(0,0,0), \n",
    "#                              color=(0.8,0.2,0.2,0.2), display=True, fixed=True, collision=False)\n",
    "    wp2 = gscene.create_safe(GEOTYPE.BOX, \"wp{}b\".format(i_trc+1), \"base_link\", (TOOL_DIM[0]/2,TOOL_DIM[1]/2,TRC_THIC), \n",
    "                             wp2_pos_real[i_trc,:], rpy=(0,0,0), \n",
    "                             color=(0.8,0.2,0.2,0.2), display=True, fixed=True, collision=False, parent=\"track_face\")\n",
    "    \n",
    "    face = gscene.create_safe(GEOTYPE.BOX, \"face{}\".format(i_trc+1), \"base_link\", \n",
    "                              (TACK_WIDTH,TRACK_DIM[1],TRC_THIC), \n",
    "                             center=(wp1_pos_real[i_trc,:]+wp2_pos_real[i_trc,:])/2,rpy=(0,0,0), \n",
    "                             color=(0.8,0.2,0.2,0.2), display=True, fixed=True, collision=False, parent=\"track_face\")\n",
    "    track_list.append((wp1, wp2, face))"
   ]
  },
  {
   "cell_type": "code",
   "execution_count": 26,
   "metadata": {},
   "outputs": [],
   "source": [
    "gscene.update_markers_all()"
   ]
  },
  {
   "cell_type": "code",
   "execution_count": null,
   "metadata": {},
   "outputs": [],
   "source": []
  },
  {
   "cell_type": "markdown",
   "metadata": {},
   "source": [
    "## add blocking structure on table"
   ]
  },
  {
   "cell_type": "code",
   "execution_count": 27,
   "metadata": {},
   "outputs": [],
   "source": [
    "# gscene.create_safe(gtype=GEOTYPE.BOX, name=\"blocker\", link_name=\"base_link\",\n",
    "#                             center=(-0.27,-0.2,0.15), dims=(0.1,0.3, 0.4), rpy=(0,0,0), color=(0.0,0.8,0.0,0.5),\n",
    "#                             collision=True, fixed=True)"
   ]
  },
  {
   "cell_type": "code",
   "execution_count": null,
   "metadata": {},
   "outputs": [],
   "source": []
  },
  {
   "cell_type": "markdown",
   "metadata": {},
   "source": [
    "## Register binders"
   ]
  },
  {
   "cell_type": "code",
   "execution_count": 28,
   "metadata": {},
   "outputs": [],
   "source": [
    "from pkg.planning.constraint.constraint_actor import Gripper2Tool, PlacePlane, SweepFramer, FixtureSlot"
   ]
  },
  {
   "cell_type": "code",
   "execution_count": 29,
   "metadata": {},
   "outputs": [
    {
     "data": {
      "text/plain": [
       "<pkg.planning.constraint.constraint_actor.PlacePlane at 0x7fd040119e50>"
      ]
     },
     "execution_count": 29,
     "metadata": {},
     "output_type": "execute_result"
    }
   ],
   "source": [
    "pscene.create_binder(bname=\"brush_face\", gname=\"brush_face\", _type=SweepFramer, point=(gscene.NAME_DICT['brush_face'].dims[0]/2,0,0), \n",
    "                     rpy=(0,np.pi/2*3,0))\n",
    "pscene.create_binder(bname=\"track_face\", gname=\"track_face\", _type=PlacePlane, point=None)"
   ]
  },
  {
   "cell_type": "code",
   "execution_count": null,
   "metadata": {},
   "outputs": [],
   "source": []
  },
  {
   "cell_type": "markdown",
   "metadata": {},
   "source": [
    "## add objects"
   ]
  },
  {
   "cell_type": "code",
   "execution_count": 30,
   "metadata": {},
   "outputs": [],
   "source": [
    "from pkg.planning.constraint.constraint_common import MotionConstraint\n",
    "from pkg.planning.constraint.constraint_subject import AbstractTask, AbstractObject\n",
    "from pkg.planning.constraint.constraint_subject import SweepLineTask\n",
    "from pkg.planning.constraint.constraint_subject import SweepFrame"
   ]
  },
  {
   "cell_type": "code",
   "execution_count": 31,
   "metadata": {},
   "outputs": [],
   "source": [
    "for sname in pscene.subject_name_list:\n",
    "    pscene.remove_subject(sname)"
   ]
  },
  {
   "cell_type": "code",
   "execution_count": 32,
   "metadata": {},
   "outputs": [],
   "source": [
    "sweep_list = []\n",
    "for i_t, track_tem in enumerate(track_list):\n",
    "    wp1, wp2, face = track_tem\n",
    "    sweep_ = pscene.create_subject(oname=\"sweep{}\".format(i_t+1), gname=\"track_face\", _type=SweepLineTask, \n",
    "                                   action_points_dict = {wp1.name: SweepFrame(wp1.name, wp1, [0,0,0.005], [0,0,0]),\n",
    "                                                       wp2.name: SweepFrame(wp2.name, wp2, [0,0,0.005], [0,0,0])}, \n",
    "                                   clearance=[face])\n",
    "    sweep_list.append(sweep_)"
   ]
  },
  {
   "cell_type": "code",
   "execution_count": null,
   "metadata": {},
   "outputs": [],
   "source": []
  },
  {
   "cell_type": "markdown",
   "metadata": {},
   "source": [
    "### planners"
   ]
  },
  {
   "cell_type": "code",
   "execution_count": 33,
   "metadata": {
    "scrolled": false
   },
   "outputs": [],
   "source": [
    "from pkg.planning.motion.moveit.moveit_planner import MoveitPlanner\n",
    "mplan = MoveitPlanner(pscene)\n",
    "mplan.update_gscene()\n",
    "from pkg.planning.task.rrt import TaskRRT\n",
    "tplan = TaskRRT(pscene)\n",
    "tplan.prepare()\n",
    "ppline.set_motion_planner(mplan)\n",
    "ppline.set_task_planner(tplan)"
   ]
  },
  {
   "cell_type": "code",
   "execution_count": null,
   "metadata": {},
   "outputs": [],
   "source": []
  },
  {
   "cell_type": "markdown",
   "metadata": {},
   "source": [
    "## motion filters"
   ]
  },
  {
   "cell_type": "code",
   "execution_count": 34,
   "metadata": {},
   "outputs": [],
   "source": [
    "from pkg.planning.filtering.grasp_filter import GraspChecker\n",
    "from pkg.planning.filtering.reach_filter import ReachChecker\n",
    "from pkg.planning.filtering.latticized_filter import LatticedChecker\n",
    "from pkg.planning.filtering.task_clearance_filter import TaskClearanceChecker\n",
    "\n",
    "gcheck = GraspChecker(pscene)\n",
    "rcheck = ReachChecker(pscene)\n",
    "tcheck = TaskClearanceChecker(pscene, gcheck)\n",
    "checkers_all = [tcheck, rcheck, gcheck]\n",
    "# lcheck = LatticedChecker(pscene, gcheck)\n",
    "# checkers_all.append(lcheck)"
   ]
  },
  {
   "cell_type": "code",
   "execution_count": 35,
   "metadata": {},
   "outputs": [],
   "source": [
    "mplan.motion_filters = checkers_all"
   ]
  },
  {
   "cell_type": "code",
   "execution_count": 36,
   "metadata": {},
   "outputs": [],
   "source": [
    "gscene.show_pose(crob.home_pose)"
   ]
  },
  {
   "cell_type": "code",
   "execution_count": null,
   "metadata": {},
   "outputs": [],
   "source": []
  },
  {
   "cell_type": "markdown",
   "metadata": {},
   "source": [
    "## Set initial condition"
   ]
  },
  {
   "cell_type": "code",
   "execution_count": 37,
   "metadata": {},
   "outputs": [],
   "source": [
    "HOME_POSE = [-0.        , -0.        ,  np.pi*4/6, -0.        ,  -np.pi/6, -0.        ]"
   ]
  },
  {
   "cell_type": "code",
   "execution_count": 38,
   "metadata": {},
   "outputs": [
    {
     "name": "stdout",
     "output_type": "stream",
     "text": [
      "(0, 0)\n"
     ]
    }
   ],
   "source": [
    "from pkg.planning.constraint.constraint_common \\\n",
    "            import sample_redundancy, combine_redundancy\n",
    "gtimer = GlobalTimer.instance()\n",
    "# initial_state = pscene.initialize_state(crob.home_pose)\n",
    "initial_state = pscene.initialize_state(HOME_POSE)\n",
    "print(initial_state.node)\n",
    "\n",
    "# remove place points except for the current one\n",
    "use_current_place_point_only(pscene, initial_state)"
   ]
  },
  {
   "cell_type": "code",
   "execution_count": 39,
   "metadata": {},
   "outputs": [
    {
     "data": {
      "text/plain": [
       "['sweep1', 'sweep2']"
      ]
     },
     "execution_count": 39,
     "metadata": {},
     "output_type": "execute_result"
    }
   ],
   "source": [
    "pscene.subject_name_list"
   ]
  },
  {
   "cell_type": "code",
   "execution_count": null,
   "metadata": {},
   "outputs": [],
   "source": []
  },
  {
   "cell_type": "markdown",
   "metadata": {},
   "source": [
    "# Node Sampler"
   ]
  },
  {
   "cell_type": "code",
   "execution_count": 40,
   "metadata": {},
   "outputs": [],
   "source": [
    "from pkg.planning.sampling.node_sampling import make_state_param_hashable, UniformNodeSampler, PenaltyNodeSampler, GrowingSampler\n",
    "\n",
    "tplan.new_node_sampler = PenaltyNodeSampler(3, 1)\n",
    "tplan.parent_node_sampler = UniformNodeSampler(3)\n",
    "# tplan.parent_snode_sampler = GrowingSampler(3)"
   ]
  },
  {
   "cell_type": "code",
   "execution_count": null,
   "metadata": {},
   "outputs": [],
   "source": []
  },
  {
   "cell_type": "markdown",
   "metadata": {},
   "source": [
    "# CustomRule"
   ]
  },
  {
   "cell_type": "code",
   "execution_count": 41,
   "metadata": {},
   "outputs": [],
   "source": [
    "# from pkg.planning.task.custom_rules.sweep_entrance_control import SweepEntranceControlRule\n",
    "# tplan.custom_rule = SweepEntranceControlRule(pscene)"
   ]
  },
  {
   "cell_type": "code",
   "execution_count": null,
   "metadata": {},
   "outputs": [],
   "source": []
  },
  {
   "cell_type": "markdown",
   "metadata": {},
   "source": [
    "## Make Plan"
   ]
  },
  {
   "cell_type": "code",
   "execution_count": 42,
   "metadata": {
    "scrolled": true
   },
   "outputs": [
    {
     "name": "stdout",
     "output_type": "stream",
     "text": [
      "(0, 0)\n",
      "Use 36/36 agents\n",
      "try: 0 - (0, 0)->(1, 0)\n",
      "try: 0 - (0, 0)->(0, 1)\n",
      "try transition motion\n",
      "try: 0 - (0, 0)->(0, 1)\n",
      "try transition motion\n",
      "try: 0 - (0, 0)->(1, 0)\n",
      "try transition motion\n",
      "try: 0 - (0, 0)->(0, 1)\n",
      "try transition motion\n",
      "try: 0 - (0, 0)->(1, 0)\n",
      "transition motion tried: True\n",
      "try transition motion\n",
      "transition motion tried: True\n",
      "result: 0 - (0, 0)->(1, 0) = success\n",
      "try: 0 - (0, 0)->(0, 1)\n",
      "try transition motion\n",
      "try: 1 - (1, 0)->(2, 0)\n",
      "branching: 0->1 (0.13/10.0 s, steps/err: 24(57.6319694519 ms)/0.000769737924892)\n",
      "transition motion tried: True\n",
      "======================================================================================================================================================\n",
      "result: 0 - (0, 0)->(0, 1) = success\n",
      "try: 1 - (1, 0)->(2, 0)\n",
      "result: 0 - (0, 0)->(0, 1) = success\n",
      "try transition motion\n",
      "branching: 0->2 (0.14/10.0 s, steps/err: 22(61.7580413818 ms)/0.0020837410548)\n",
      "branching: 0->3 (0.14/10.0 s, steps/err: 22(51.3479709625 ms)/0.00163779432836)\n",
      "try: 2 - (0, 1)->(0, 2)\n",
      "======================================================================================================================================================\n",
      "try constrained motion\n",
      "======================================================================================================================================================\n",
      "transition motion tried: True\n",
      "try: 3 - (0, 1)->(0, 2)\n",
      "try constrained motion\n",
      "transition motion tried: True\n",
      "try constrained motion\n",
      "try: 1 - (1, 0)->(2, 0)\n",
      "result: 0 - (0, 0)->(0, 1) = success\n",
      "result: 0 - (0, 0)->(1, 0) = success\n",
      "try: 1 - (1, 0)->(2, 0)\n",
      "try constrained motion\n",
      "branching: 0->5 (0.17/10.0 s, steps/err: 22(52.0939826965 ms)/0.00122357217835)\n",
      "branching: 0->4 (0.17/10.0 s, steps/err: 24(62.2911453247 ms)/0.00124645511522)\n",
      "======================================================================================================================================================\n",
      "try: 4 - (1, 0)->(2, 0)\n",
      "======================================================================================================================================================\n",
      "transition motion tried: True\n",
      "try: 5 - (0, 1)->(0, 2)\n",
      "try constrained motion\n",
      "try constrained motion\n",
      "try: 1 - (1, 0)->(2, 0)\n",
      "transition motion tried: True\n",
      "try: 2 - (0, 1)->(0, 2)\n",
      "result: 0 - (0, 0)->(0, 1) = success\n",
      "result: 0 - (0, 0)->(1, 0) = success\n",
      "branching: 0->7 (0.19/10.0 s, steps/err: 22(54.624080658 ms)/0.00160649326419)\n",
      "branching: 0->6 (0.19/10.0 s, steps/err: 24(69.5118904114 ms)/0.00141096059895)\n",
      "======================================================================================================================================================\n",
      "======================================================================================================================================================\n",
      "try constrained motion\n",
      "try constrained motion\n",
      "try constrained motion\n",
      "try constrained motion\n",
      "try: 0 - (0, 0)->(1, 0)\n",
      "try: 6 - (1, 0)->(2, 0)\n",
      "try: 2 - (0, 1)->(0, 2)\n",
      "try transition motion\n",
      "try: 6 - (1, 0)->(2, 0)\n",
      "try constrained motion\n",
      "try constrained motion\n",
      "try: 4 - (1, 0)->(2, 0)\n",
      "try constrained motion\n",
      "try: 0 - (0, 0)->(1, 0)\n",
      "try constrained motion\n",
      "try transition motion\n",
      "try: 1 - (1, 0)->(2, 0)\n",
      "transition motion tried: True\n",
      "try constrained motion\n",
      "try: 0 - (0, 0)->(0, 1)\n",
      "result: 0 - (0, 0)->(1, 0) = success\n",
      "try transition motion\n",
      "branching: 0->8 (0.28/10.0 s, steps/err: 24(69.0348148346 ms)/0.00209844541838)\n",
      "try: 8 - (1, 0)->(2, 0)\n",
      "======================================================================================================================================================\n",
      "try: 5 - (0, 1)->(0, 2)\n",
      "transition motion tried: True\n",
      "try: 0 - (0, 0)->(1, 0)\n",
      "try constrained motion\n",
      "result: 0 - (0, 0)->(1, 0) = success\n",
      "try transition motion\n",
      "try: 9 - (1, 0)->(2, 0)\n",
      "try constrained motion\n",
      "branching: 0->9 (0.31/10.0 s, steps/err: 24(52.7279376984 ms)/0.00230250127714)\n",
      "======================================================================================================================================================\n",
      "try: 3 - (0, 1)->(0, 2)\n",
      "transition motion tried: True\n",
      "try constrained motion\n",
      "try: 0 - (0, 0)->(0, 1)\n",
      "result: 0 - (0, 0)->(0, 1) = success\n",
      "branching: 0->10 (0.32/10.0 s, steps/err: 22(53.7269115448 ms)/0.00139990100782)\n",
      "try constrained motion\n",
      "try transition motion\n",
      "======================================================================================================================================================\n",
      "try: 6 - (1, 0)->(2, 0)\n",
      "try: 2 - (0, 1)->(0, 2)\n",
      "transition motion tried: True\n",
      "try: 0 - (0, 0)->(0, 1)\n",
      "result: 0 - (0, 0)->(1, 0) = success\n",
      "try constrained motion\n",
      "try constrained motion\n",
      "try: 11 - (1, 0)->(2, 0)\n",
      "try transition motion\n",
      "branching: 0->11 (0.36/10.0 s, steps/err: 24(54.0688037872 ms)/0.0010346496333)\n",
      "======================================================================================================================================================\n",
      "try: 0 - (0, 0)->(1, 0)\n",
      "try constrained motion\n",
      "transition motion tried: True\n",
      "try: 11 - (1, 0)->(2, 0)\n",
      "result: 0 - (0, 0)->(0, 1) = success\n",
      "try transition motion\n",
      "branching: 0->12 (0.38/10.0 s, steps/err: 22(58.9420795441 ms)/0.00140249205014)\n",
      "======================================================================================================================================================\n",
      "try constrained motion\n",
      "transition motion tried: True\n",
      "result: 0 - (0, 0)->(0, 1) = success\n",
      "try: 7 - (0, 1)->(0, 2)\n",
      "try: 1 - (1, 0)->(2, 0)\n",
      "branching: 0->13 (0.41/10.0 s, steps/err: 22(49.2730140686 ms)/0.00147018482054)\n",
      "try: 0 - (0, 0)->(1, 0)\n",
      "======================================================================================================================================================\n",
      "try constrained motion\n",
      "try constrained motion\n",
      "transition motion tried: True\n",
      "result: 0 - (0, 0)->(1, 0) = success\n",
      "branching: 0->14 (0.43/10.0 s, steps/err: 24(55.08685112 ms)/0.00179494432862)\n",
      "try: 2 - (0, 1)->(0, 2)\n",
      "try: 6 - (1, 0)->(2, 0)\n",
      "try transition motion\n",
      "======================================================================================================================================================\n",
      "try constrained motion\n",
      "try: 14 - (1, 0)->(2, 0)\n",
      "try constrained motion\n",
      "try constrained motion\n",
      "try: 0 - (0, 0)->(0, 1)\n",
      "transition motion tried: True\n",
      "result: 0 - (0, 0)->(1, 0) = success\n",
      "try transition motion\n",
      "constrained motion tried: True\n",
      "branching: 0->15 (0.49/10.0 s, steps/err: 24(56.0131072998 ms)/0.00134073601797)\n",
      "======================================================================================================================================================\n",
      "result: 3 - (0, 1)->(0, 2) = success\n",
      "try: 15 - (1, 0)->(2, 0)\n",
      "branching: 3->16 (0.5/10.0 s, steps/err: 193(338.778018951 ms)/0.00194803633522)\n",
      "try constrained motion\n",
      "======================================================================================================================================================\n",
      "try: 9 - (1, 0)->(2, 0)\n",
      "try constrained motion\n",
      "transition motion tried: True\n",
      "result: 0 - (0, 0)->(0, 1) = success\n",
      "branching: 0->17 (0.54/10.0 s, steps/err: 22(59.6420764923 ms)/0.00141232551856)\n",
      "======================================================================================================================================================\n",
      "try: 2 - (0, 1)->(0, 2)\n",
      "try constrained motion\n",
      "try: 0 - (0, 0)->(0, 1)\n",
      "try transition motion\n",
      "try: 0 - (0, 0)->(1, 0)\n",
      "try transition motion\n",
      "transition motion tried: True\n",
      "result: 0 - (0, 0)->(0, 1) = success\n",
      "branching: 0->18 (0.63/10.0 s, steps/err: 22(63.6010169983 ms)/0.00158402710245)\n",
      "======================================================================================================================================================\n",
      "try: 10 - (0, 1)->(0, 2)\n",
      "try constrained motion\n",
      "transition motion tried: True\n",
      "try: 8 - (1, 0)->(2, 0)\n",
      "result: 0 - (0, 0)->(1, 0) = success\n",
      "try constrained motion\n",
      "branching: 0->19 (0.68/10.0 s, steps/err: 24(63.2090568542 ms)/0.00164850487942)\n",
      "======================================================================================================================================================\n",
      "try: 19 - (1, 0)->(2, 0)\n",
      "try: 0 - (0, 0)->(0, 1)\n",
      "try transition motion\n",
      "try: 0 - (0, 0)->(1, 0)\n",
      "try constrained motion\n"
     ]
    },
    {
     "name": "stdout",
     "output_type": "stream",
     "text": [
      "try transition motion\n",
      "try: 0 - (0, 0)->(1, 0)\n",
      "try transition motion\n",
      "transition motion tried: True\n",
      "result: 0 - (0, 0)->(0, 1) = success\n",
      "transition motion tried: True\n",
      "branching: 0->20 (0.8/10.0 s, steps/err: 22(48.614025116 ms)/0.00174609561328)\n",
      "result: 0 - (0, 0)->(1, 0) = success\n",
      "branching: 0->21 (0.8/10.0 s, steps/err: 24(65.3018951416 ms)/0.00183977436813)\n",
      "transition motion tried: True\n",
      "======================================================================================================================================================\n",
      "======================================================================================================================================================\n",
      "try: 21 - (1, 0)->(2, 0)\n",
      "result: 0 - (0, 0)->(1, 0) = success\n",
      "branching: 0->22 (0.81/10.0 s, steps/err: 24(53.3149242401 ms)/0.00198449434374)\n",
      "======================================================================================================================================================\n",
      "try: 22 - (1, 0)->(2, 0)\n",
      "try: 20 - (0, 1)->(0, 2)\n",
      "try constrained motion\n",
      "try constrained motion\n",
      "try constrained motion\n",
      "constrained motion tried: True\n",
      "result: 1 - (1, 0)->(2, 0) = success\n",
      "branching: 1->23 (0.87/10.0 s, steps/err: 271(610.648870468 ms)/0.00156804815515)\n",
      "======================================================================================================================================================\n",
      "++ adding return motion to acquired answer ++\n",
      "constrained motion tried: True\n",
      "result: 10 - (0, 1)->(0, 2) = success\n",
      "branching: 10->25 (1.06/10.0 s, steps/err: 194(391.893863678 ms)/0.00176889934651)\n",
      "======================================================================================================================================================\n",
      "try: 23 - (2, 0)->(2, 1)\n",
      "try transition motion\n",
      "transition motion tried: True\n",
      "=========================================================================================================\n",
      "result: 23 - (2, 0)->(2, 1) = success\n",
      "======================= terminated 16: first answer acquired ===============================\n",
      "branching: 23->26 (1.15/10.0 s, steps/err: 42(43.14494133 ms)/0.00156146112313)\n",
      "======================================================================================================================================================\n",
      "=========================================================================================================\n",
      "=========================================================================================================\n",
      "======================= terminated 30: first answer acquired from other agent ===============================\n",
      "=========================================================================================================\n",
      "constrained motion tried: True\n",
      "result: 5 - (0, 1)->(0, 2) = success\n",
      "branching: 5->27 (1.32/10.0 s, steps/err: 194(1028.26285362 ms)/0.000730831933323)\n",
      "======================================================================================================================================================\n",
      "=========================================================================================================\n",
      "======================= terminated 6: first answer acquired from other agent ===============================\n",
      "=========================================================================================================\n",
      "constrained motion tried: True\n",
      "result: 19 - (1, 0)->(2, 0) = success\n",
      "branching: 19->28 (1.37/10.0 s, steps/err: 271(643.385887146 ms)/0.00189325040589)\n",
      "======================================================================================================================================================\n",
      "++ adding return motion to acquired answer ++\n",
      "constrained motion tried: True\n",
      "result: 2 - (0, 1)->(0, 2) = success\n",
      "branching: 2->30 (1.48/10.0 s, steps/err: 194(1131.44207001 ms)/0.00177792047707)\n",
      "======================================================================================================================================================\n",
      "=========================================================================================================\n",
      "======================= terminated 17: first answer acquired from other agent ===============================\n",
      "constrained motion tried: True\n",
      "result: 8 - (1, 0)->(2, 0) = success\n",
      "branching: 8->31 (1.58/10.0 s, steps/err: 271(1279.39605713 ms)/0.00133974707756)\n",
      "=========================================================================================================\n",
      "======================================================================================================================================================\n",
      "++ adding return motion to acquired answer ++\n",
      "constrained motion tried: True\n",
      "result: 2 - (0, 1)->(0, 2) = success\n",
      "branching: 2->32 (1.61/10.0 s, steps/err: 193(1048.16794395 ms)/0.00119779253239)\n",
      "======================================================================================================================================================\n",
      "=========================================================================================================\n",
      "======================= terminated 29: first answer acquired from other agent ===============================\n",
      "=========================================================================================================\n",
      "=========================================================================================================\n",
      "======================= terminated 31: first answer acquired ===============================\n",
      "=========================================================================================================\n",
      "constrained motion tried: True\n",
      "result: 5 - (0, 1)->(0, 2) = success\n",
      "branching: 5->34 (1.78/10.0 s, steps/err: 194(1598.36506844 ms)/0.00149528282535)\n",
      "======================================================================================================================================================\n",
      "=========================================================================================================\n",
      "======================= terminated 4: first answer acquired from other agent ===============================\n",
      "=========================================================================================================\n",
      "=========================================================================================================\n",
      "======================= terminated 18: first answer acquired ===============================\n",
      "=========================================================================================================\n",
      "constrained motion tried: True\n",
      "result: 6 - (1, 0)->(2, 0) = success\n",
      "branching: 6->35 (1.84/10.0 s, steps/err: 271(1627.86984444 ms)/0.00112765448654)\n",
      "++ adding return motion to acquired answer ++\n",
      "======================================================================================================================================================\n",
      "constrained motion tried: True\n",
      "result: 2 - (0, 1)->(0, 2) = success\n",
      "branching: 2->36 (1.87/10.0 s, steps/err: 193(1653.94496918 ms)/0.00217420888505)\n",
      "======================================================================================================================================================\n",
      "=========================================================================================================\n",
      "=========================================================================================================\n",
      "======================= terminated 5: first answer acquired from other agent ===============================\n",
      "Use 36/36 agents\n",
      "try: 0 - (2, 0)->(2, 1)\n",
      "try: 0 - (2, 0)->(2, 1)\n",
      "try transition motion\n",
      "try transition motion\n",
      "try: 0 - (2, 0)->(2, 1)\n",
      "try transition motion\n",
      "try: 0 - (2, 0)->(2, 1)\n",
      "transition motion tried: True\n",
      "try transition motion\n",
      "=========================================================================================================\n",
      "======================= terminated 12: first answer acquired ===============================\n",
      "result: 0 - (2, 0)->(2, 1) = success\n",
      "try: 1 - (2, 1)->(2, 2)\n",
      "transition motion tried: True\n",
      "=========================================================================================================\n",
      "transition motion tried: True\n",
      "branching: 0->1 (0.11/10.0 s, steps/err: 22(52.0088672638 ms)/0.00127629124846)\n"
     ]
    },
    {
     "name": "stdout",
     "output_type": "stream",
     "text": [
      "result: 0 - (2, 0)->(2, 1) = success\n",
      "======================================================================================================================================================\n",
      "result: 0 - (2, 0)->(2, 1) = success\n",
      "branching: 0->2 (0.12/10.0 s, steps/err: 22(51.8538951874 ms)/0.00157141642783)\n",
      "try: 2 - (2, 1)->(2, 2)\n",
      "transition motion tried: True\n",
      "======================================================================================================================================================\n",
      "branching: 0->3 (0.12/10.0 s, steps/err: 22(40.962934494 ms)/0.00154131820544)\n",
      "result: 0 - (2, 0)->(2, 1) = success\n",
      "try constrained motion\n",
      "try constrained motion\n",
      "try: 3 - (2, 1)->(2, 2)\n",
      "======================================================================================================================================================\n",
      "constrained motion tried: True\n",
      "try: 4 - (2, 1)->(2, 2)\n",
      "branching: 0->4 (0.13/10.0 s, steps/err: 22(38.2990837097 ms)/0.00173988261773)\n",
      "try constrained motion\n",
      "result: 1 - (1, 0)->(2, 0) = success\n",
      "======================================================================================================================================================\n",
      "try constrained motion\n",
      "branching: 1->38 (2.15/10.0 s, steps/err: 271(1974.28011894 ms)/0.00187018761363)\n",
      "======================================================================================================================================================\n",
      "try: 1 - (2, 1)->(2, 2)\n",
      "++ adding return motion to acquired answer ++\n",
      "constrained motion tried: False\n",
      "try constrained motion\n",
      "Motion Plan Failure\n",
      "result: 2 - (0, 1)->(0, 2) = fail\n",
      "=========================================================================================================\n",
      "======================= terminated 8: first answer acquired from other agent ===============================\n",
      "=========================================================================================================\n",
      "constrained motion tried: False\n",
      "constrained motion tried: False\n",
      "Motion Plan Failure\n",
      "Motion Plan Failure\n",
      "result: 4 - (1, 0)->(2, 0) = fail\n",
      "result: 2 - (0, 1)->(0, 2) = fail\n",
      "=========================================================================================================\n",
      "======================= terminated 10: first answer acquired from other agent ===============================\n",
      "=========================================================================================================\n",
      "=========================================================================================================\n",
      "constrained motion tried: False\n",
      "Motion Plan Failure\n",
      "======================= terminated 3: first answer acquired from other agent ===============================\n",
      "=========================================================================================================\n",
      "try: 2 - (2, 1)->(2, 2)\n",
      "constrained motion tried: False\n",
      "Motion Plan Failure\n",
      "result: 1 - (1, 0)->(2, 0) = fail\n",
      "result: 1 - (1, 0)->(2, 0) = fail\n",
      "try constrained motion\n",
      "=========================================================================================================\n",
      "======================= terminated 9: first answer acquired from other agent ===============================\n",
      "=========================================================================================================\n",
      "======================= terminated 11: first answer acquired from other agent ===============================\n",
      "=========================================================================================================\n",
      "=========================================================================================================\n",
      "constrained motion tried: False\n",
      "constrained motion tried: False\n",
      "Motion Plan Failure\n",
      "Motion Plan Failure\n",
      "result: 1 - (1, 0)->(2, 0) = fail\n",
      "result: 1 - (1, 0)->(2, 0) = fail\n",
      "=========================================================================================================\n",
      "======================= terminated 0: first answer acquired from other agent ===============================\n",
      "=========================================================================================================\n",
      "======================= terminated 7: first answer acquired from other agent ===============================\n",
      "try: 2 - (2, 1)->(2, 2)\n",
      "=========================================================================================================\n",
      "=========================================================================================================\n",
      "constrained motion tried: False\n",
      "try constrained motion\n",
      "Motion Plan Failure\n",
      "result: 6 - (1, 0)->(2, 0) = fail\n",
      "try: 0 - (2, 0)->(2, 1)\n",
      "=========================================================================================================\n",
      "try: 4 - (2, 1)->(2, 2)\n",
      "try transition motion\n",
      "======================= terminated 13: first answer acquired from other agent ===============================\n",
      "constrained motion tried: True\n",
      "constrained motion tried: False\n",
      "try constrained motion\n",
      "=========================================================================================================\n",
      "result: 6 - (1, 0)->(2, 0) = success\n",
      "Motion Plan Failure\n",
      "=========================================================================================================\n",
      "branching: 6->40 (2.42/10.0 s, steps/err: 271(2062.90197372 ms)/0.00141232883153)\n",
      "======================= terminated 2: first answer acquired ===============================\n",
      "=========================================================================================================\n",
      "result: 11 - (1, 0)->(2, 0) = fail\n",
      "constrained motion tried: True\n",
      "constrained motion tried: False\n",
      "constrained motion tried: False\n",
      "======================================================================================================================================================\n",
      "transition motion tried: True\n",
      "Motion Plan Failure\n",
      "try: 4 - (2, 1)->(2, 2)\n",
      "Motion Plan Failure\n",
      "=========================================================================================================\n",
      "++ adding return motion to acquired answer ++\n",
      "result: 11 - (1, 0)->(2, 0) = fail\n",
      "result: 3 - (0, 1)->(0, 2) = fail\n",
      "=========================================================================================================\n",
      "result: 0 - (2, 0)->(2, 1) = success\n",
      "======================= terminated 25: first answer acquired from other agent ===============================\n",
      "constrained motion tried: True\n",
      "result: 14 - (1, 0)->(2, 0) = success\n",
      "=========================================================================================================\n",
      "result: 2 - (2, 1)->(2, 2) = success\n",
      "try constrained motion\n",
      "branching: 14->41 (2.44/10.0 s, steps/err: 271(1987.06293106 ms)/0.00106123084458)\n",
      "======================= terminated 24: first answer acquired from other agent ===============================\n",
      "branching: 0->5 (0.44/10.0 s, steps/err: 22(51.3870716095 ms)/0.00149179151625)\n",
      "=========================================================================================================\n",
      "branching: 2->6 (0.45/10.0 s, steps/err: 193(161.453008652 ms)/0.00101070403956)\n",
      "======================= terminated 15: first answer acquired from other agent ===============================\n",
      "======================================================================================================================================================\n",
      "++ adding return motion to acquired answer ++\n",
      "======================================================================================================================================================\n",
      "constrained motion tried: False\n",
      "======================================================================================================================================================\n",
      "=========================================================================================================\n",
      "=========================================================================================================\n",
      "constrained motion tried: False\n",
      "try: 5 - (2, 1)->(2, 2)\n",
      "++ adding return motion to acquired answer ++\n",
      "Motion Plan Failure\n",
      "Motion Plan Failure\n",
      "result: 6 - (1, 0)->(2, 0) = fail\n",
      "result: 7 - (0, 1)->(0, 2) = fail\n",
      "=========================================================================================================\n"
     ]
    },
    {
     "name": "stdout",
     "output_type": "stream",
     "text": [
      "try: 3 - (2, 1)->(2, 2)\n",
      "=========================================================================================================\n",
      "======================= terminated 28: first answer acquired from other agent ===============================\n",
      "======================= terminated 21: first answer acquired from other agent ===============================\n",
      "=========================================================================================================\n",
      "try constrained motion\n",
      "try constrained motion\n",
      "constrained motion tried: False\n",
      "=========================================================================================================\n",
      "Motion Plan Failure\n",
      "result: 9 - (1, 0)->(2, 0) = fail\n",
      "=========================================================================================================\n",
      "constrained motion tried: False\n",
      "======================= terminated 20: first answer acquired from other agent ===============================\n",
      "Motion Plan Failure\n",
      "result: 4 - (1, 0)->(2, 0) = fail\n",
      "=========================================================================================================\n",
      "======================= terminated 14: first answer acquired from other agent ===============================\n",
      "=========================================================================================================\n",
      "=========================================================================================================\n",
      "try: 0 - (2, 0)->(2, 1)\n",
      "try: 0 - (2, 0)->(2, 1)\n",
      "constrained motion tried: False\n",
      "Motion Plan Failure\n",
      "result: 15 - (1, 0)->(2, 0) = fail\n",
      "=========================================================================================================\n",
      "======================= terminated 27: first answer acquired from other agent ===============================\n",
      "try transition motion\n",
      "=========================================================================================================\n",
      "constrained motion tried: False\n",
      "try transition motion\n",
      "Motion Plan Failure\n",
      "constrained motion tried: False\n",
      "result: 9 - (1, 0)->(2, 0) = fail\n",
      "Motion Plan Failure\n",
      "result: 2 - (0, 1)->(0, 2) = fail\n",
      "=========================================================================================================\n",
      "=========================================================================================================\n",
      "======================= terminated 23: first answer acquired from other agent ===============================\n",
      "======================= terminated 1: first answer acquired from other agent ===============================\n",
      "=========================================================================================================\n",
      "=========================================================================================================\n",
      "transition motion tried: True\n",
      "constrained motion tried: True\n",
      "result: 22 - (1, 0)->(2, 0) = success\n",
      "result: 0 - (2, 0)->(2, 1) = success\n",
      "constrained motion tried: False\n",
      "branching: 0->8 (0.56/10.0 s, steps/err: 22(35.0499153137 ms)/0.0018210917057)\n",
      "branching: 22->44 (2.55/10.0 s, steps/err: 271(1732.45692253 ms)/0.00144627833345)\n",
      "Motion Plan Failure\n",
      "======================================================================================================================================================\n",
      "======================================================================================================================================================\n",
      "result: 1 - (1, 0)->(2, 0) = fail\n",
      "=========================================================================================================\n",
      "try: 8 - (2, 1)->(2, 2)\n",
      "======================= terminated 26: first answer acquired from other agent ===============================\n",
      "=========================================================================================================\n",
      "transition motion tried: True\n",
      "++ adding return motion to acquired answer ++\n",
      "try constrained motion\n",
      "result: 0 - (2, 0)->(2, 1) = success\n",
      "branching: 0->9 (0.57/10.0 s, steps/err: 22(46.492099762 ms)/0.001043849704)\n",
      "======================================================================================================================================================\n",
      "try: 1 - (2, 1)->(2, 2)\n",
      "try: 9 - (2, 1)->(2, 2)\n",
      "try constrained motion\n",
      "try constrained motion\n",
      "try: 8 - (2, 1)->(2, 2)\n",
      "try: 0 - (2, 0)->(2, 1)\n",
      "try constrained motion\n",
      "try transition motion\n",
      "try: 2 - (2, 1)->(2, 2)\n",
      "try constrained motion\n",
      "try: 0 - (2, 0)->(2, 1)\n",
      "try transition motion\n",
      "try: 4 - (2, 1)->(2, 2)\n",
      "transition motion tried: True\n",
      "try constrained motion\n",
      "result: 0 - (2, 0)->(2, 1) = success\n",
      "try: 0 - (2, 0)->(2, 1)\n",
      "branching: 0->10 (0.65/10.0 s, steps/err: 22(42.0460700989 ms)/0.00112661585765)\n",
      "======================================================================================================================================================\n",
      "try: 10 - (2, 1)->(2, 2)\n",
      "try transition motion\n",
      "try: 4 - (2, 1)->(2, 2)\n",
      "transition motion tried: True\n",
      "try constrained motion\n",
      "try constrained motion\n",
      "result: 0 - (2, 0)->(2, 1) = success\n",
      "try: 0 - (2, 0)->(2, 1)\n",
      "branching: 0->11 (0.68/10.0 s, steps/err: 22(43.1129932404 ms)/0.00110374069797)\n",
      "======================================================================================================================================================\n",
      "=========================================================================================================\n",
      "======================= terminated 22: first answer acquired ===============================\n",
      "=========================================================================================================\n",
      "try: 11 - (2, 1)->(2, 2)\n",
      "try: 3 - (2, 1)->(2, 2)\n",
      "try transition motion\n",
      "try constrained motion\n",
      "=========================================================================================================\n",
      "try: 0 - (2, 0)->(2, 1)\n",
      "transition motion tried: True\n",
      "======================= terminated 5: first answer acquired ===============================\n",
      "try transition motion\n",
      "=========================================================================================================\n",
      "result: 0 - (2, 0)->(2, 1) = success\n",
      "=========================================================================================================\n",
      "branching: 0->12 (0.71/10.0 s, steps/err: 22(48.2170581818 ms)/0.00225377071405)\n",
      "======================================================================================================================================================\n",
      "=========================================================================================================\n",
      "======================= terminated 19: first answer acquired from other agent ===============================\n",
      "======================= terminated 23: first answer acquired from other agent ===============================\n",
      "=========================================================================================================\n",
      "constrained motion tried: True\n",
      "try constrained motion\n",
      "=========================================================================================================\n",
      "=========================================================================================================\n",
      "======================= terminated 19: first answer acquired ===============================\n",
      "=========================================================================================================\n",
      "result: 8 - (1, 0)->(2, 0) = success\n",
      "transition motion tried: True\n",
      "branching: 8->46 (2.72/10.0 s, steps/err: 271(2043.76387596 ms)/0.000873100504636)\n",
      "======================================================================================================================================================\n",
      "=========================================================================================================\n",
      "++ adding return motion to acquired answer ++\n",
      "result: 0 - (2, 0)->(2, 1) = success\n",
      "======================= terminated 25: first answer acquired from other agent ===============================\n",
      "=========================================================================================================\n",
      "branching: 0->13 (0.73/10.0 s, steps/err: 22(39.8359298706 ms)/0.00141116701757)\n",
      "======================================================================================================================================================\n"
     ]
    },
    {
     "name": "stdout",
     "output_type": "stream",
     "text": [
      "=========================================================================================================\n",
      "======================= terminated 21: first answer acquired from other agent ===============================\n",
      "=========================================================================================================\n",
      "=========================================================================================================\n",
      "======================= terminated 26: first answer acquired from other agent ===============================\n",
      "=========================================================================================================\n",
      "=========================================================================================================\n",
      "======================= terminated 27: first answer acquired from other agent ===============================\n",
      "=========================================================================================================\n",
      "transition motion tried: True\n",
      "result: 0 - (2, 0)->(2, 1) = success\n",
      "branching: 0->14 (0.75/10.0 s, steps/err: 22(46.7829704285 ms)/0.00109845865587)\n",
      "=========================================================================================================\n",
      "======================================================================================================================================================\n",
      "======================= terminated 28: first answer acquired from other agent ===============================\n",
      "=========================================================================================================\n",
      "=========================================================================================================\n",
      "======================= terminated 24: first answer acquired from other agent ===============================\n",
      "=========================================================================================================\n",
      "=========================================================================================================\n",
      "=========================================================================================================\n",
      "======================= terminated 29: first answer acquired from other agent ===============================\n",
      "======================= terminated 31: first answer acquired from other agent ===============================\n",
      "=========================================================================================================\n",
      "=========================================================================================================\n",
      "======================= terminated 30: first answer acquired from other agent ===============================\n",
      "=========================================================================================================\n",
      "=========================================================================================================\n",
      "=========================================================================================================\n",
      "======================= terminated 32: first answer acquired from other agent ===============================\n",
      "=========================================================================================================\n",
      "=========================================================================================================\n",
      "======================= terminated 33: first answer acquired from other agent ===============================\n",
      "=========================================================================================================\n",
      "=========================================================================================================\n",
      "=========================================================================================================\n",
      "=========================================================================================================\n",
      "======================= terminated 33: first answer acquired ===============================\n",
      "=========================================================================================================\n",
      "======================= terminated 34: first answer acquired from other agent ===============================\n",
      "=========================================================================================================\n",
      "=========================================================================================================\n",
      "======================= terminated 35: first answer acquired from other agent ===============================\n",
      "constrained motion tried: False\n",
      "Motion Plan Failure\n",
      "=========================================================================================================\n",
      "result: 20 - (0, 1)->(0, 2) = fail\n",
      "======================= terminated 35: first answer acquired from other agent ===============================\n",
      "=========================================================================================================\n",
      "constrained motion tried: True\n",
      "result: 5 - (2, 1)->(2, 2) = success\n",
      "======================================================================================================================================================\n",
      "branching: 5->15 (0.9/10.0 s, steps/err: 193(428.642988205 ms)/0.00130767678823)\n",
      "++ adding return motion to acquired answer ++\n",
      "constrained motion tried: False\n",
      "=========================================================================================================\n",
      "Motion Plan Failure\n",
      "result: 21 - (1, 0)->(2, 0) = fail\n",
      "constrained motion tried: True\n",
      "=========================================================================================================\n",
      "======================= terminated 32: first answer acquired ===============================\n",
      "=========================================================================================================\n",
      "======================= terminated 34: first answer acquired from other agent ===============================\n",
      "=========================================================================================================\n",
      "result: 2 - (2, 1)->(2, 2) = success\n",
      "branching: 2->17 (1.05/10.0 s, steps/err: 193(901.293039322 ms)/0.00178960551878)\n",
      "======================================================================================================================================================\n",
      "++ adding return motion to acquired answer ++\n",
      "constrained motion tried: True\n",
      "result: 1 - (2, 1)->(2, 2) = success\n",
      "constrained motion tried: True\n",
      "branching: 1->19 (1.11/10.0 s, steps/err: 194(996.844053268 ms)/0.00178536072212)\n",
      "======================================================================================================================================================\n",
      "++ adding return motion to acquired answer ++\n",
      "result: 9 - (2, 1)->(2, 2) = success\n",
      "branching: 9->20 (1.11/10.0 s, steps/err: 194(532.121896744 ms)/0.000983242822664)\n",
      "======================================================================================================================================================\n",
      "++ adding return motion to acquired answer ++\n",
      "=========================================================================================================\n",
      "======================= terminated 10: first answer acquired ===============================\n",
      "=========================================================================================================\n",
      "constrained motion tried: True\n",
      "result: 3 - (2, 1)->(2, 2) = success\n",
      "branching: 3->23 (1.18/10.0 s, steps/err: 194(487.765073776 ms)/0.00154629074805)\n",
      "======================================================================================================================================================\n",
      "++ adding return motion to acquired answer ++\n",
      "=========================================================================================================\n",
      "=========================================================================================================\n",
      "======================= terminated 0: first answer acquired ===============================\n",
      "constrained motion tried: True\n",
      "result: 3 - (2, 1)->(2, 2) = success\n",
      "branching: 3->25 (1.31/10.0 s, steps/err: 194(838.973999023 ms)/0.0017197194033)\n",
      "======================================================================================================================================================\n"
     ]
    },
    {
     "name": "stdout",
     "output_type": "stream",
     "text": [
      "++ adding return motion to acquired answer ++\n",
      "=========================================================================================================\n",
      "======================= terminated 4: first answer acquired ===============================\n",
      "=========================================================================================================\n",
      "=========================================================================================================\n",
      "======================= terminated 11: first answer acquired ===============================\n",
      "=========================================================================================================\n",
      "=========================================================================================================\n",
      "======================= terminated 17: first answer acquired ===============================\n",
      "=========================================================================================================\n",
      "constrained motion tried: True\n",
      "=========================================================================================================\n",
      "======================= terminated 7: first answer acquired ===============================\n",
      "=========================================================================================================\n",
      "result: 8 - (2, 1)->(2, 2) = success\n",
      "branching: 8->27 (1.55/10.0 s, steps/err: 193(987.186908722 ms)/0.00146628267204)\n",
      "======================================================================================================================================================\n",
      "++ adding return motion to acquired answer ++\n",
      "constrained motion tried: True\n",
      "result: 4 - (2, 1)->(2, 2) = success\n",
      "branching: 4->29 (1.63/10.0 s, steps/err: 193(958.0950737 ms)/0.000543185478364)\n",
      "======================================================================================================================================================\n",
      "++ adding return motion to acquired answer ++\n",
      "constrained motion tried: True\n",
      "result: 2 - (2, 1)->(2, 2) = success\n",
      "branching: 2->31 (1.68/10.0 s, steps/err: 194(1327.21495628 ms)/0.00149564838939)\n",
      "======================================================================================================================================================\n",
      "++ adding return motion to acquired answer ++\n",
      "=========================================================================================================\n",
      "======================= terminated 12: first answer acquired ===============================\n",
      "=========================================================================================================\n",
      "=========================================================================================================\n",
      "======================= terminated 20: first answer acquired ===============================\n",
      "=========================================================================================================\n",
      "constrained motion tried: True\n",
      "=========================================================================================================\n",
      "result: 3 - (2, 1)->(2, 2) = success\n",
      "======================= terminated 6: first answer acquired ===============================\n",
      "branching: 3->33 (1.91/10.0 s, steps/err: 194(1771.29101753 ms)/0.00147505789477)\n",
      "======================================================================================================================================================\n",
      "=========================================================================================================\n",
      "++ adding return motion to acquired answer ++\n",
      "=========================================================================================================\n",
      "======================= terminated 1: first answer acquired ===============================\n",
      "=========================================================================================================\n",
      "constrained motion tried: True\n",
      "result: 1 - (2, 1)->(2, 2) = success\n",
      "branching: 1->35 (2.18/10.0 s, steps/err: 194(1604.3510437 ms)/0.00103294439152)\n",
      "======================================================================================================================================================\n",
      "++ adding return motion to acquired answer ++\n",
      "constrained motion tried: False\n",
      "Motion Plan Failure\n",
      "result: 4 - (2, 1)->(2, 2) = fail\n",
      "=========================================================================================================\n",
      "======================= terminated 2: first answer acquired from other agent ===============================\n",
      "=========================================================================================================\n",
      "constrained motion tried: False\n",
      "Motion Plan Failure\n",
      "result: 1 - (2, 1)->(2, 2) = fail\n",
      "=========================================================================================================\n",
      "======================= terminated 3: first answer acquired from other agent ===============================\n",
      "=========================================================================================================\n",
      "constrained motion tried: True\n",
      "result: 4 - (2, 1)->(2, 2) = success\n",
      "branching: 4->37 (2.36/10.0 s, steps/err: 193(1916.15200043 ms)/0.00135139151181)\n",
      "======================================================================================================================================================\n",
      "++ adding return motion to acquired answer ++\n",
      "=========================================================================================================\n",
      "======================= terminated 13: first answer acquired ===============================\n",
      "=========================================================================================================\n",
      "constrained motion tried: False\n",
      "Motion Plan Failure\n",
      "result: 4 - (2, 1)->(2, 2) = fail\n",
      "=========================================================================================================\n",
      "======================= terminated 8: first answer acquired from other agent ===============================\n",
      "=========================================================================================================\n",
      "constrained motion tried: True\n",
      "result: 10 - (2, 1)->(2, 2) = success\n",
      "branching: 10->39 (2.56/10.0 s, steps/err: 194(1893.33105087 ms)/0.00108172115582)\n",
      "======================================================================================================================================================\n",
      "++ adding return motion to acquired answer ++\n",
      "=========================================================================================================\n",
      "======================= terminated 9: first answer acquired ===============================\n",
      "=========================================================================================================\n",
      "constrained motion tried: True\n",
      "result: 8 - (2, 1)->(2, 2) = success\n",
      "branching: 8->40 (2.6/10.0 s, steps/err: 194(1995.35703659 ms)/0.00171137303071)\n",
      "======================================================================================================================================================\n",
      "++ adding return motion to acquired answer ++\n",
      "constrained motion tried: False\n",
      "Motion Plan Failure\n",
      "result: 2 - (2, 1)->(2, 2) = fail\n",
      "=========================================================================================================\n",
      "======================= terminated 16: first answer acquired from other agent ===============================\n",
      "=========================================================================================================\n",
      "constrained motion tried: False\n",
      "Motion Plan Failure\n",
      "result: 11 - (2, 1)->(2, 2) = fail\n",
      "=========================================================================================================\n",
      "======================= terminated 22: first answer acquired from other agent ===============================\n",
      "=========================================================================================================\n",
      "constrained motion tried: False\n",
      "Motion Plan Failure\n",
      "result: 4 - (2, 1)->(2, 2) = fail\n",
      "=========================================================================================================\n",
      "======================= terminated 18: first answer acquired from other agent ===============================\n"
     ]
    },
    {
     "name": "stdout",
     "output_type": "stream",
     "text": [
      "=========================================================================================================\n",
      "=========================================================================================================\n",
      "======================= terminated 15: first answer acquired ===============================\n",
      "=========================================================================================================\n",
      "=========================================================================================================\n",
      "======================= terminated 14: first answer acquired ===============================\n",
      "=========================================================================================================\n"
     ]
    }
   ],
   "source": [
    "from pkg.utils.traj_utils import simplify_schedule, mix_schedule\n",
    "mplan.reset_log(False)\n",
    "gtimer.reset()\n",
    "tplan.prepare()\n",
    "mplan.update_gscene()\n",
    "    \n",
    "print(initial_state.node)\n",
    "\n",
    "gtimer.tic(\"firstmove\")\n",
    "obj_num = 0\n",
    "sweep_num = len(sweep_list)\n",
    "from_state = initial_state\n",
    "t_exe = None\n",
    "snode_schedule_all = []\n",
    "for sweep_idx in range(sweep_num):\n",
    "    gcheck.put_banned = [track_list[sweep_idx][2]]\n",
    "    sweep_goal = tuple([int(i_s<=sweep_idx)*2 for i_s in range(sweep_num)])\n",
    "#     sweep_goal = tuple([int(i_s<=sweep_idx)*2 for i_s in range(2)])+(0,)\n",
    "    goal_nodes = [(\"track_face\",)*obj_num+sweep_goal]\n",
    "    if sweep_idx < sweep_num-1:\n",
    "        for i_s in range(obj_num):\n",
    "            obj_goal = [\"track_face\"]*obj_num\n",
    "            obj_goal[i_s] = \"grip1\"\n",
    "            goal_nodes += [tuple(obj_goal)+sweep_goal]\n",
    "    gtimer.tic(\"plan{}\".format(sweep_idx))\n",
    "    ppline.search(from_state, goal_nodes, verbose=True, display=False, dt_vis=0.01, \n",
    "                  timeout_loop=10, multiprocess=True, timeout=1, timeout_constrained=2, add_homing=True, post_optimize=False)\n",
    "    gtimer.toc(\"plan{}\".format(sweep_idx))\n",
    "    schedules = ppline.tplan.find_schedules(False)\n",
    "    schedules_sorted = ppline.tplan.sort_schedule(schedules)\n",
    "    snode_schedule = ppline.tplan.idxSchedule2SnodeScedule(schedules_sorted[0])\n",
    "    snode_schedule_ori = snode_schedule\n",
    "    snode_schedule_simple = simplify_schedule(pscene, snode_schedule)\n",
    "    snode_schedule_safe = calculate_safe_schedule(pscene, snode_schedule_simple, 5, 1)\n",
    "#     double_sweep_motions(snode_schedule_safe)\n",
    "#     snode_schedule = snode_schedule_safe\n",
    "    snode_schedule = mix_schedule(mplan, snode_schedule_safe)\n",
    "    from_state = snode_schedule[-1].state\n",
    "    if t_exe:\n",
    "        t_exe.join()\n",
    "    else:\n",
    "        if len(snode_schedule_all)==0:\n",
    "            gtimer.toc(\"firstmove\")\n",
    "    snode_schedule_all.append(snode_schedule)\n",
    "#     t_exe = Thread(target=ppline.play_schedule, args = (snode_schedule,), kwargs=dict( period=0.01))\n",
    "#     t_exe.start()\n",
    "# t_exe.join()"
   ]
  },
  {
   "cell_type": "code",
   "execution_count": 43,
   "metadata": {},
   "outputs": [
    {
     "name": "stdout",
     "output_type": "stream",
     "text": [
      "go wipe the surface\n"
     ]
    }
   ],
   "source": [
    "section_success = len(snode_schedule_all) == sweep_num\n",
    "if section_success:\n",
    "    print(\"go wipe the surface\")\n",
    "else:\n",
    "    print(\"try other area\")"
   ]
  },
  {
   "cell_type": "code",
   "execution_count": 44,
   "metadata": {},
   "outputs": [],
   "source": [
    "sweep0 = sweep_list[0]"
   ]
  },
  {
   "cell_type": "code",
   "execution_count": 45,
   "metadata": {},
   "outputs": [
    {
     "data": {
      "text/plain": [
       "(0.68, 0.0, 0.3)"
      ]
     },
     "execution_count": 45,
     "metadata": {},
     "output_type": "execute_result"
    }
   ],
   "source": [
    "sweep0.geometry.center"
   ]
  },
  {
   "cell_type": "code",
   "execution_count": null,
   "metadata": {},
   "outputs": [],
   "source": []
  },
  {
   "cell_type": "code",
   "execution_count": null,
   "metadata": {},
   "outputs": [],
   "source": []
  },
  {
   "cell_type": "markdown",
   "metadata": {},
   "source": [
    "## refine sweep motions "
   ]
  },
  {
   "cell_type": "code",
   "execution_count": 46,
   "metadata": {},
   "outputs": [],
   "source": [
    "\n",
    "    \n",
    "def get_jacobian(gscene, gtem, Q):\n",
    "    Q_dict = list2dict(Q, gscene.joint_names)\n",
    "    Jac = []\n",
    "    for ij, jname in enumerate(gscene.joint_names):    \n",
    "        joint = gscene.urdf_content.joint_map[jname]\n",
    "        Tj = T_xyzrpy((joint.origin.xyz, joint.origin.rpy))\n",
    "        T_link = get_tf(joint.parent, Q_dict, gscene.urdf_content)\n",
    "        T_bj = np.matmul(T_link, Tj)\n",
    "        zi = np.matmul(T_bj[:3,:3], joint.axis)        \n",
    "        T_p = gtem.get_tf(Q_dict)\n",
    "        dpi = T_p[:3,3]-T_bj[:3,3]\n",
    "        zp = np.cross(zi, dpi)\n",
    "        Ji= np.concatenate([zp, zi])\n",
    "        Jac.append(Ji)\n",
    "    Jac = np.array(Jac).transpose()\n",
    "    return Jac\n",
    "    \n",
    "def make_sweep_traj(gscene, mplan, gtem, Traj):\n",
    "    SINGULARITY_CUT = 0.01\n",
    "    Qi = Traj[0]\n",
    "    Qf = Traj[-1]\n",
    "    len_traj = len(Traj)\n",
    "    \n",
    "    Qidict = list2dict(Qi, gscene.joint_names)\n",
    "    Qfdict = list2dict(Qf, gscene.joint_names)\n",
    "    Ti = gtem.get_tf(Qidict)\n",
    "    Tf = gtem.get_tf(Qfdict)\n",
    "    dPabs = np.linalg.norm(Tf[:3,3]-Ti[:3,3])\n",
    "    DP = dPabs/len_traj\n",
    "    DIR = np.concatenate([(Tf[:3,3]-Ti[:3,3])/dPabs, [0]*3])\n",
    "    Q=Qi\n",
    "    singularity = False\n",
    "    Traj_wipe = []\n",
    "    for _ in range(len_traj):\n",
    "        Jac = get_jacobian(gscene, gtem, Q)\n",
    "        if np.min(np.abs(np.real(np.linalg.svd(Jac)[1]))) <= SINGULARITY_CUT:\n",
    "            singularity = True\n",
    "            print(\"singular\")\n",
    "            break\n",
    "        Jinv = np.linalg.inv(Jac)\n",
    "        dQ=np.matmul(Jinv, np.multiply(DIR, DP))\n",
    "        Q = Q+dQ\n",
    "        Traj_wipe.append(Q)\n",
    "        dlim = np.subtract(RobotSpecs.get_joint_limits(RobotType.indy7), Q[:, np.newaxis])\n",
    "        if np.any(dlim[:,0] > 0):\n",
    "            print(\"min lim: {}\".format(np.where(dlim[:,0] > 0)[0]))\n",
    "            break\n",
    "        if np.any(dlim[:,1] < 0):\n",
    "            print(\"max lim: {}\".format(np.where(dlim[:,1] < 0)[0]))\n",
    "            break\n",
    "        if not mplan.validate_trajectory([Q]):\n",
    "            print(\"col\")\n",
    "            break\n",
    "        Tnew = gtem.get_tf(list2dict(Q, gscene.joint_names))\n",
    "        if np.abs(Ti[0,3]-Tnew[0,3])>0.01:\n",
    "            print(\"off\")\n",
    "            break\n",
    "    Traj_wipe.append(Qf)\n",
    "    Traj_wipe = np.array(Traj_wipe)\n",
    "    return Traj_wipe\n",
    "    \n",
    "\n",
    "def refine_sweep(pscene, mplan, snode_schedule):\n",
    "    for snode_pre, snode in zip(snode_schedule[:-1], snode_schedule[1:]):\n",
    "        breaker = False\n",
    "        for i_n, (ntem1, ntem2) in enumerate(zip(snode_pre.state.node, snode.state.node)):\n",
    "            if ntem1 != ntem2 and pscene.subject_type_list[i_n] == SweepLineTask:\n",
    "                if ntem1==1:\n",
    "                    gtem = gscene.NAME_DICT[snode.state.binding_state[i_n][-1]]\n",
    "                    snode.traj = make_sweep_traj(pscene.gscene, mplan, gtem, snode.traj)\n"
   ]
  },
  {
   "cell_type": "code",
   "execution_count": 47,
   "metadata": {},
   "outputs": [],
   "source": [
    "for snode_schedule in snode_schedule_all:\n",
    "    refine_sweep(pscene, mplan, snode_schedule)"
   ]
  },
  {
   "cell_type": "code",
   "execution_count": 48,
   "metadata": {
    "scrolled": true
   },
   "outputs": [
    {
     "name": "stdout",
     "output_type": "stream",
     "text": [
      "(0, 0)->(0, 0)\n",
      "(0, 0)->(1, 0)\n",
      "(1, 0)->(2, 0)\n",
      "(2, 0)->(2, 0)\n",
      "(2, 0)->(2, 0)\n",
      "(2, 0)->(2, 1)\n",
      "(2, 1)->(2, 2)\n",
      "(2, 2)->(2, 2)\n"
     ]
    }
   ],
   "source": [
    "for snode_schedule in snode_schedule_all:\n",
    "    ppline.play_schedule(snode_schedule, period=0.002)"
   ]
  },
  {
   "cell_type": "code",
   "execution_count": null,
   "metadata": {},
   "outputs": [],
   "source": []
  },
  {
   "cell_type": "markdown",
   "metadata": {},
   "source": [
    "### Test task motion"
   ]
  },
  {
   "cell_type": "code",
   "execution_count": 47,
   "metadata": {},
   "outputs": [],
   "source": [
    "Traj = ppline.tplan.snode_dict[15].traj\n",
    "gscene.show_motion(Traj)"
   ]
  },
  {
   "cell_type": "code",
   "execution_count": null,
   "metadata": {},
   "outputs": [],
   "source": []
  },
  {
   "cell_type": "code",
   "execution_count": 92,
   "metadata": {},
   "outputs": [
    {
     "name": "stdout",
     "output_type": "stream",
     "text": [
      "singular\n"
     ]
    }
   ],
   "source": [
    "gtem = gscene.NAME_DICT[\"brush_face\"]\n",
    "SINGULARITY_CUT = 0.01\n",
    "Q0 = np.copy(Traj[-1])\n",
    "Q0dict = list2dict(Q0, gscene.joint_names)\n",
    "T0 = gtem.get_tf(Q0dict)\n",
    "DP = 0.01\n",
    "DIR = [0,1,0,0,0,0]\n",
    "Q=Q0\n",
    "singularity = False\n",
    "Traj_left = []\n",
    "for _ in range(1000):\n",
    "    Jac = get_jacobian(gscene, gtem, Q)\n",
    "    if np.min(np.abs(np.real(np.linalg.svd(Jac)[1]))) <= SINGULARITY_CUT:\n",
    "        singularity = True\n",
    "        print(\"singular\")\n",
    "        break\n",
    "    Jinv = np.linalg.inv(Jac)\n",
    "    dQ=np.matmul(Jinv, np.multiply(DIR, DP))\n",
    "    Q = Q+dQ\n",
    "    Traj_left.append(Q)\n",
    "    dlim = np.subtract(RobotSpecs.get_joint_limits(RobotType.indy7), Q[:, np.newaxis])\n",
    "    if np.any(dlim[:,0] > 0):\n",
    "        print(\"min lim: {}\".format(np.where(dlim[:,0] > 0)[0]))\n",
    "        break\n",
    "    if np.any(dlim[:,1] < 0):\n",
    "        print(\"max lim: {}\".format(np.where(dlim[:,1] < 0)[0]))\n",
    "        break\n",
    "#     if not mplan.validate_trajectory([Q]):\n",
    "#         print(\"col\")\n",
    "#         break\n",
    "#     Tnew = gtem.get_tf(list2dict(Q, gscene.joint_names))\n",
    "#     if np.abs(T0[0,3]-Tnew[0,3])>0.01:\n",
    "#         print(\"off\")\n",
    "#         break"
   ]
  },
  {
   "cell_type": "code",
   "execution_count": 56,
   "metadata": {},
   "outputs": [],
   "source": [
    "gscene.show_motion(np.array(Traj_left)[::1, :])"
   ]
  },
  {
   "cell_type": "code",
   "execution_count": 51,
   "metadata": {},
   "outputs": [
    {
     "data": {
      "text/plain": [
       "(0.44, 0.005)"
      ]
     },
     "execution_count": 51,
     "metadata": {},
     "output_type": "execute_result"
    }
   ],
   "source": [
    "track.center[0], track.center[1]"
   ]
  },
  {
   "cell_type": "code",
   "execution_count": null,
   "metadata": {},
   "outputs": [],
   "source": []
  },
  {
   "cell_type": "code",
   "execution_count": null,
   "metadata": {
    "scrolled": false
   },
   "outputs": [],
   "source": [
    "print(gtimer)"
   ]
  },
  {
   "cell_type": "code",
   "execution_count": null,
   "metadata": {},
   "outputs": [],
   "source": [
    "# for i_ss, snode_schedule in enumerate(snode_schedule_all):\n",
    "#     for i_s, snode in enumerate(snode_schedule):\n",
    "#         if snode.traj is not None:\n",
    "#             save_json(\"data/traj_{}_{}.json\".format(i_ss, i_s), snode.traj[:,:6])"
   ]
  },
  {
   "cell_type": "markdown",
   "metadata": {},
   "source": [
    "### play schedule"
   ]
  },
  {
   "cell_type": "code",
   "execution_count": null,
   "metadata": {},
   "outputs": [],
   "source": [
    "for snode_schedule in snode_schedule_all:\n",
    "    ppline.play_schedule(snode_schedule, period=0.001)"
   ]
  },
  {
   "cell_type": "code",
   "execution_count": null,
   "metadata": {},
   "outputs": [],
   "source": []
  }
 ],
 "metadata": {
  "kernelspec": {
   "display_name": "Python 2",
   "language": "python",
   "name": "python2"
  },
  "language_info": {
   "codemirror_mode": {
    "name": "ipython",
    "version": 2
   },
   "file_extension": ".py",
   "mimetype": "text/x-python",
   "name": "python",
   "nbconvert_exporter": "python",
   "pygments_lexer": "ipython2",
   "version": "2.7.17"
  }
 },
 "nbformat": 4,
 "nbformat_minor": 2
}
