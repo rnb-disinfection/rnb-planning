{
 "cells": [
  {
   "cell_type": "markdown",
   "metadata": {},
   "source": [
    "## set running directory to project source"
   ]
  },
  {
   "cell_type": "code",
   "execution_count": 1,
   "metadata": {},
   "outputs": [],
   "source": [
    "import os\n",
    "os.chdir(os.path.join(os.environ[\"RNB_PLANNING_DIR\"], 'src'))\n",
    "from pkg.utils.code_scraps import add_indy_sweep_tool, \\\n",
    "        use_current_place_point_only, use_current_sub_binders_only, \\\n",
    "        finish_L_shape, set_l_shape_object, ModeSwitcher, double_sweep_motions"
   ]
  },
  {
   "cell_type": "code",
   "execution_count": null,
   "metadata": {},
   "outputs": [],
   "source": []
  },
  {
   "cell_type": "markdown",
   "metadata": {},
   "source": [
    "## init combined robot config"
   ]
  },
  {
   "cell_type": "code",
   "execution_count": 2,
   "metadata": {},
   "outputs": [
    {
     "name": "stdout",
     "output_type": "stream",
     "text": [
      "connection command:\n",
      "indy0: False\n"
     ]
    }
   ],
   "source": [
    "from pkg.controller.combined_robot import *\n",
    "from pkg.project_config import *\n",
    "\n",
    "crob = CombinedRobot(robots_on_scene=[\n",
    "    RobotConfig(0, RobotType.indy7, ((0.3,-0.4,0), (0,0,np.pi/2)),\n",
    "                INDY_IP)]\n",
    "              , connection_list=[False])"
   ]
  },
  {
   "cell_type": "code",
   "execution_count": null,
   "metadata": {},
   "outputs": [],
   "source": []
  },
  {
   "cell_type": "markdown",
   "metadata": {},
   "source": [
    "## create scene builder"
   ]
  },
  {
   "cell_type": "code",
   "execution_count": 3,
   "metadata": {},
   "outputs": [],
   "source": [
    "from pkg.geometry.builder.scene_builder import SceneBuilder\n",
    "s_builder = SceneBuilder(None)\n",
    "# s_builder.reset_reference_coord(ref_name=\"floor\")"
   ]
  },
  {
   "cell_type": "code",
   "execution_count": null,
   "metadata": {},
   "outputs": [],
   "source": []
  },
  {
   "cell_type": "markdown",
   "metadata": {},
   "source": [
    "## detect robot and make geometry scene"
   ]
  },
  {
   "cell_type": "code",
   "execution_count": 4,
   "metadata": {},
   "outputs": [
    {
     "name": "stdout",
     "output_type": "stream",
     "text": [
      "Please create a subscriber to the marker\n",
      "publication OK\n",
      "published: [0, 0, 0, 0, 0, 0]\n"
     ]
    }
   ],
   "source": [
    "xyz_rpy_robots = {\"indy0\": ((0,0,0), (0,0,np.pi))}\n",
    "crob.update_robot_pos_dict(xyz_rpy_robots=xyz_rpy_robots)\n",
    "gscene = s_builder.create_gscene(crob)"
   ]
  },
  {
   "cell_type": "code",
   "execution_count": null,
   "metadata": {},
   "outputs": [],
   "source": []
  },
  {
   "cell_type": "markdown",
   "metadata": {},
   "source": [
    "## init planning pipeline"
   ]
  },
  {
   "cell_type": "code",
   "execution_count": 5,
   "metadata": {},
   "outputs": [
    {
     "ename": "AttributeError",
     "evalue": "'module' object has no attribute 'ConstrainedSpaceType'",
     "output_type": "error",
     "traceback": [
      "\u001b[0;31m---------------------------------------------------------------------------\u001b[0m",
      "\u001b[0;31mAttributeError\u001b[0m                            Traceback (most recent call last)",
      "\u001b[0;32m<ipython-input-5-eb4088f9e339>\u001b[0m in \u001b[0;36m<module>\u001b[0;34m()\u001b[0m\n\u001b[1;32m      5\u001b[0m \u001b[0mppline\u001b[0m \u001b[0;34m=\u001b[0m \u001b[0mPlanningPipeline\u001b[0m\u001b[0;34m(\u001b[0m\u001b[0mpscene\u001b[0m\u001b[0;34m)\u001b[0m\u001b[0;34m\u001b[0m\u001b[0m\n\u001b[1;32m      6\u001b[0m \u001b[0;34m\u001b[0m\u001b[0m\n\u001b[0;32m----> 7\u001b[0;31m \u001b[0;32mfrom\u001b[0m \u001b[0mpkg\u001b[0m\u001b[0;34m.\u001b[0m\u001b[0mui\u001b[0m\u001b[0;34m.\u001b[0m\u001b[0mui_broker\u001b[0m \u001b[0;32mimport\u001b[0m \u001b[0;34m*\u001b[0m\u001b[0;34m\u001b[0m\u001b[0m\n\u001b[0m\u001b[1;32m      8\u001b[0m \u001b[0;34m\u001b[0m\u001b[0m\n\u001b[1;32m      9\u001b[0m \u001b[0;31m# start UI\u001b[0m\u001b[0;34m\u001b[0m\u001b[0;34m\u001b[0m\u001b[0m\n",
      "\u001b[0;32m/home/jhkim/Projects/rnb-planning/src/pkg/ui/ui_broker.py\u001b[0m in \u001b[0;36m<module>\u001b[0;34m()\u001b[0m\n\u001b[1;32m     12\u001b[0m \u001b[0;32mfrom\u001b[0m \u001b[0;34m.\u001b[0m\u001b[0mtable\u001b[0m\u001b[0;34m.\u001b[0m\u001b[0mrobot_table\u001b[0m \u001b[0;32mimport\u001b[0m  \u001b[0;34m*\u001b[0m\u001b[0;34m\u001b[0m\u001b[0m\n\u001b[1;32m     13\u001b[0m \u001b[0;32mfrom\u001b[0m \u001b[0;34m.\u001b[0m\u001b[0mtable\u001b[0m\u001b[0;34m.\u001b[0m\u001b[0mtask_planner_table\u001b[0m \u001b[0;32mimport\u001b[0m \u001b[0;34m*\u001b[0m\u001b[0;34m\u001b[0m\u001b[0m\n\u001b[0;32m---> 14\u001b[0;31m \u001b[0;32mfrom\u001b[0m \u001b[0;34m.\u001b[0m\u001b[0mtable\u001b[0m\u001b[0;34m.\u001b[0m\u001b[0mmotion_planner_table\u001b[0m \u001b[0;32mimport\u001b[0m \u001b[0;34m*\u001b[0m\u001b[0;34m\u001b[0m\u001b[0m\n\u001b[0m\u001b[1;32m     15\u001b[0m \u001b[0;32mfrom\u001b[0m \u001b[0;34m.\u001b[0m\u001b[0mtable\u001b[0m\u001b[0;34m.\u001b[0m\u001b[0mplan_condition_table\u001b[0m \u001b[0;32mimport\u001b[0m  \u001b[0;34m*\u001b[0m\u001b[0;34m\u001b[0m\u001b[0m\n\u001b[1;32m     16\u001b[0m \u001b[0;32mfrom\u001b[0m \u001b[0;34m.\u001b[0m\u001b[0mtable\u001b[0m\u001b[0;34m.\u001b[0m\u001b[0mplan_list_table\u001b[0m \u001b[0;32mimport\u001b[0m \u001b[0;34m*\u001b[0m\u001b[0;34m\u001b[0m\u001b[0m\n",
      "\u001b[0;32m/home/jhkim/Projects/rnb-planning/src/pkg/ui/table/motion_planner_table.py\u001b[0m in \u001b[0;36m<module>\u001b[0;34m()\u001b[0m\n\u001b[1;32m      1\u001b[0m \u001b[0;32mfrom\u001b[0m \u001b[0;34m.\u001b[0m\u001b[0mtable_interface\u001b[0m \u001b[0;32mimport\u001b[0m \u001b[0;34m*\u001b[0m\u001b[0;34m\u001b[0m\u001b[0m\n\u001b[1;32m      2\u001b[0m \u001b[0;32mfrom\u001b[0m \u001b[0;34m.\u001b[0m\u001b[0;34m.\u001b[0m\u001b[0;34m.\u001b[0m\u001b[0mplanning\u001b[0m\u001b[0;34m.\u001b[0m\u001b[0mmotion\u001b[0m\u001b[0;34m.\u001b[0m\u001b[0metasl\u001b[0m\u001b[0;34m.\u001b[0m\u001b[0metasl_planner\u001b[0m \u001b[0;32mimport\u001b[0m \u001b[0;34m*\u001b[0m\u001b[0;34m\u001b[0m\u001b[0m\n\u001b[0;32m----> 3\u001b[0;31m \u001b[0;32mfrom\u001b[0m \u001b[0;34m.\u001b[0m\u001b[0;34m.\u001b[0m\u001b[0;34m.\u001b[0m\u001b[0mplanning\u001b[0m\u001b[0;34m.\u001b[0m\u001b[0mmotion\u001b[0m\u001b[0;34m.\u001b[0m\u001b[0mmoveit\u001b[0m\u001b[0;34m.\u001b[0m\u001b[0mmoveit_planner\u001b[0m \u001b[0;32mimport\u001b[0m \u001b[0;34m*\u001b[0m\u001b[0;34m\u001b[0m\u001b[0m\n\u001b[0m\u001b[1;32m      4\u001b[0m \u001b[0;34m\u001b[0m\u001b[0m\n\u001b[1;32m      5\u001b[0m \u001b[0;32mclass\u001b[0m \u001b[0mMotionPlanTable\u001b[0m\u001b[0;34m(\u001b[0m\u001b[0mTableInterface\u001b[0m\u001b[0;34m)\u001b[0m\u001b[0;34m:\u001b[0m\u001b[0;34m\u001b[0m\u001b[0m\n",
      "\u001b[0;32m/home/jhkim/Projects/rnb-planning/src/pkg/planning/motion/moveit/moveit_planner.py\u001b[0m in \u001b[0;36m<module>\u001b[0;34m()\u001b[0m\n\u001b[0;32m----> 1\u001b[0;31m \u001b[0;32mfrom\u001b[0m \u001b[0mmoveit_py\u001b[0m \u001b[0;32mimport\u001b[0m \u001b[0mMoveitCompactPlanner_BP\u001b[0m\u001b[0;34m,\u001b[0m \u001b[0mObjectType\u001b[0m\u001b[0;34m,\u001b[0m \u001b[0mObjectMPC\u001b[0m\u001b[0;34m,\u001b[0m\u001b[0;31m \u001b[0m\u001b[0;31m\\\u001b[0m\u001b[0;34m\u001b[0m\u001b[0m\n\u001b[0m\u001b[1;32m      2\u001b[0m     \u001b[0mGeometry\u001b[0m\u001b[0;34m,\u001b[0m \u001b[0mGeometryList\u001b[0m\u001b[0;34m,\u001b[0m \u001b[0mCartPose\u001b[0m\u001b[0;34m,\u001b[0m \u001b[0mVec3\u001b[0m\u001b[0;34m,\u001b[0m \u001b[0mmake_assign_arr\u001b[0m\u001b[0;34m,\u001b[0m \u001b[0mJointState\u001b[0m\u001b[0;34m,\u001b[0m \u001b[0mTrajectory\u001b[0m\u001b[0;34m\u001b[0m\u001b[0m\n\u001b[1;32m      3\u001b[0m \u001b[0;32mfrom\u001b[0m \u001b[0;34m.\u001b[0m\u001b[0;34m.\u001b[0m\u001b[0minterface\u001b[0m \u001b[0;32mimport\u001b[0m \u001b[0mMotionInterface\u001b[0m\u001b[0;34m\u001b[0m\u001b[0m\n\u001b[1;32m      4\u001b[0m \u001b[0;32mfrom\u001b[0m \u001b[0;34m.\u001b[0m\u001b[0;34m.\u001b[0m\u001b[0;34m.\u001b[0m\u001b[0;34m.\u001b[0m\u001b[0mutils\u001b[0m\u001b[0;34m.\u001b[0m\u001b[0mutils\u001b[0m \u001b[0;32mimport\u001b[0m \u001b[0mlist2dict\u001b[0m\u001b[0;34m\u001b[0m\u001b[0m\n\u001b[1;32m      5\u001b[0m \u001b[0;32mfrom\u001b[0m \u001b[0;34m.\u001b[0m\u001b[0;34m.\u001b[0m\u001b[0;34m.\u001b[0m\u001b[0;34m.\u001b[0m\u001b[0mutils\u001b[0m\u001b[0;34m.\u001b[0m\u001b[0mrotation_utils\u001b[0m \u001b[0;32mimport\u001b[0m \u001b[0mSE3\u001b[0m\u001b[0;34m,\u001b[0m \u001b[0mSE3_inv\u001b[0m\u001b[0;34m,\u001b[0m \u001b[0mRot_rpy\u001b[0m\u001b[0;34m,\u001b[0m \u001b[0mT2xyzquat\u001b[0m\u001b[0;34m\u001b[0m\u001b[0m\n",
      "\u001b[0;32m/home/jhkim/Projects/rnb-planning/src/pkg/planning/motion/moveit/moveit_py.py\u001b[0m in \u001b[0;36m<module>\u001b[0;34m()\u001b[0m\n\u001b[1;32m     11\u001b[0m \u001b[0mObjectType\u001b[0m \u001b[0;34m=\u001b[0m \u001b[0mmpc\u001b[0m\u001b[0;34m.\u001b[0m\u001b[0mObjectType\u001b[0m\u001b[0;34m\u001b[0m\u001b[0m\n\u001b[1;32m     12\u001b[0m \u001b[0mTrajectory\u001b[0m \u001b[0;34m=\u001b[0m \u001b[0mmpc\u001b[0m\u001b[0;34m.\u001b[0m\u001b[0mTrajectory\u001b[0m\u001b[0;34m\u001b[0m\u001b[0m\n\u001b[0;32m---> 13\u001b[0;31m \u001b[0mConstrainedSpaceType\u001b[0m \u001b[0;34m=\u001b[0m \u001b[0mmpc\u001b[0m\u001b[0;34m.\u001b[0m\u001b[0mConstrainedSpaceType\u001b[0m\u001b[0;34m\u001b[0m\u001b[0m\n\u001b[0m\u001b[1;32m     14\u001b[0m \u001b[0;34m\u001b[0m\u001b[0m\n\u001b[1;32m     15\u001b[0m \u001b[0;34m\u001b[0m\u001b[0m\n",
      "\u001b[0;31mAttributeError\u001b[0m: 'module' object has no attribute 'ConstrainedSpaceType'"
     ]
    }
   ],
   "source": [
    "from pkg.planning.scene import PlanningScene\n",
    "pscene = PlanningScene(gscene, combined_robot=crob)\n",
    "\n",
    "from pkg.planning.pipeline import PlanningPipeline\n",
    "ppline = PlanningPipeline(pscene)\n",
    "\n",
    "from pkg.ui.ui_broker import *\n",
    "\n",
    "# start UI\n",
    "ui_broker = UIBroker.instance()\n",
    "ui_broker.initialize(ppline, s_builder)\n",
    "ui_broker.start_server()\n",
    "\n",
    "ui_broker.set_tables()"
   ]
  },
  {
   "cell_type": "markdown",
   "metadata": {},
   "source": [
    "```\n",
    "open web ui on <your ip>:8050\n",
    "click geometry items / Handles / Binders to highlight geometry on RVIZ\n",
    "other functions may be buggy.. please report\n",
    "```"
   ]
  },
  {
   "cell_type": "code",
   "execution_count": null,
   "metadata": {},
   "outputs": [],
   "source": []
  },
  {
   "cell_type": "markdown",
   "metadata": {},
   "source": [
    "## add environment"
   ]
  },
  {
   "cell_type": "code",
   "execution_count": null,
   "metadata": {},
   "outputs": [],
   "source": [
    "floor = gscene.create_safe(GEOTYPE.BOX, \"floor\", \"base_link\", (3,3,0.01), (0,0,0), \n",
    "                           rpy=(0,0,0), color=(0.8,0.8,0.8,0.5), display=True, fixed=True, collision=True)"
   ]
  },
  {
   "cell_type": "code",
   "execution_count": null,
   "metadata": {},
   "outputs": [],
   "source": [
    "gtems = s_builder.add_robot_geometries(color=(0,1,0,0.5), display=True, collision=True)"
   ]
  },
  {
   "cell_type": "code",
   "execution_count": null,
   "metadata": {},
   "outputs": [],
   "source": [
    "gscene.set_workspace_boundary( -1.5, 1.5, -1, 1, -0.1, 1.75)"
   ]
  },
  {
   "cell_type": "code",
   "execution_count": null,
   "metadata": {},
   "outputs": [],
   "source": []
  },
  {
   "cell_type": "markdown",
   "metadata": {},
   "source": [
    "## add indy tool"
   ]
  },
  {
   "cell_type": "code",
   "execution_count": null,
   "metadata": {},
   "outputs": [],
   "source": [
    "gscene = gscene\n",
    "robot_name=\"indy0\"\n",
    "face_name=\"brush_face\"\n",
    "\n",
    "gscene.create_safe(gtype=GEOTYPE.CYLINDER, name=\"{}_adapter\".format(robot_name),\n",
    "                   link_name=\"{}_tcp\".format(robot_name),\n",
    "                   center=(0, 0, 0.0025), dims=(0.09, 0.09, 0.005), rpy=(0, 0, 0), color=(0.8, 0.8, 0.8, 1),\n",
    "                   collision=False, fixed=True)\n",
    "gscene.create_safe(gtype=GEOTYPE.CYLINDER, name=\"{}_adapter_col\".format(robot_name),\n",
    "                   link_name=\"{}_tcp\".format(robot_name),\n",
    "                   center=(0, 0, 0.0025), dims=(0.13, 0.13, 0.005), rpy=(0, 0, 0), color=(0.0, 0.8, 0.0, 0.5),\n",
    "                   collision=True, fixed=True)\n",
    "\n",
    "gscene.create_safe(gtype=GEOTYPE.BOX, name=\"{}_hindge0\".format(robot_name),\n",
    "                   link_name=\"{}_tcp\".format(robot_name),\n",
    "                   center=(0, 0, 0.0125), dims=(0.022, 0.036, 0.025), rpy=(0, 0, 0), color=(0.8, 0.8, 0.8, 1),\n",
    "                   collision=False, fixed=True)\n",
    "gscene.create_safe(gtype=GEOTYPE.BOX, name=\"{}_hindge0_col\".format(robot_name),\n",
    "                   link_name=\"{}_tcp\".format(robot_name),\n",
    "                   center=(0, 0, 0.0125), dims=(0.062, 0.076, 0.025), rpy=(0, 0, 0), color=(0.0, 0.8, 0.0, 0.5),\n",
    "                   collision=True, fixed=True)\n",
    "\n",
    "gscene.create_safe(gtype=GEOTYPE.BOX, name=\"{}_bar\".format(robot_name),\n",
    "                   link_name=\"{}_tcp\".format(robot_name),\n",
    "                   center=(-0.053, 0, 0.068), dims=(0.011, 0.020, 0.15), rpy=(0, 3*pi/4, 0), color=(0.8, 0.8, 0.8, 1),\n",
    "                   collision=False, fixed=True)\n",
    "gscene.create_safe(gtype=GEOTYPE.BOX, name=\"{}_bar_col\".format(robot_name),\n",
    "                   link_name=\"{}_tcp\".format(robot_name),\n",
    "                   center=(-0.053, 0, 0.068), dims=(0.051, 0.060, 0.15), rpy=(0, 3*pi/4, 0), color=(0.0, 0.8, 0.0, 0.5),\n",
    "                   collision=True, fixed=True)\n",
    "\n",
    "gscene.create_safe(gtype=GEOTYPE.BOX, name=\"{}_hindge1\".format(robot_name),\n",
    "                   link_name=\"{}_tcp\".format(robot_name),\n",
    "                   center=(-0.1085,0,0.121), dims=(0.025, 0.036, 0.022), rpy=(0, 0, 0), color=(0.8, 0.8, 0.8, 1),\n",
    "                   collision=False, fixed=True)\n",
    "gscene.create_safe(gtype=GEOTYPE.BOX, name=\"{}_hindge1_col\".format(robot_name),\n",
    "                   link_name=\"{}_tcp\".format(robot_name),\n",
    "                   center=(-0.1085,0,0.121), dims=(0.025, 0.076, 0.062), rpy=(0, 0, 0), color=(0.0, 0.8, 0.0, 0.5),\n",
    "                   collision=True, fixed=True)\n",
    "\n",
    "gscene.create_safe(gtype=GEOTYPE.CYLINDER, name=\"{}_brushbase\".format(robot_name),\n",
    "                   link_name=\"{}_tcp\".format(robot_name),\n",
    "                   center=(-0.1285,0,0.121), dims=(0.08, 0.08, 0.015), rpy=(0, pi/2, 0), color=(0.8, 0.8, 0.8, 1),\n",
    "                   collision=False, fixed=True)\n",
    "gscene.create_safe(gtype=GEOTYPE.CYLINDER, name=\"{}_brushbase_col\".format(robot_name),\n",
    "                   link_name=\"{}_tcp\".format(robot_name),\n",
    "                   center=(-0.1285,0,0.121), dims=(0.12, 0.12, 0.015), rpy=(0, pi/2, 0), color=(0.0, 0.8, 0.0, 0.5),\n",
    "                   collision=True, fixed=True)\n",
    "gscene.create_safe(gtype=GEOTYPE.BOX, name=face_name, link_name=\"{}_tcp\".format(robot_name),\n",
    "                   center=(-0.147,0,0.121), dims=(0.037, 0.10, 0.34), rpy=(0, 0, pi), color=(1.0, 1.0, 0.94, 1),\n",
    "                   collision=False, fixed=True)\n",
    "gscene.create_safe(gtype=GEOTYPE.BOX, name=\"{}_col\".format(face_name), link_name=\"{}_tcp\".format(robot_name),\n",
    "                   center=(-0.127,0,0.121), dims=(0.057, 0.10, 0.36), rpy=(0, 0, pi), color=(0.0, 0.8, 0.0, 0.5),\n",
    "                   collision=True, fixed=True)"
   ]
  },
  {
   "cell_type": "markdown",
   "metadata": {},
   "source": [
    "## recieve table dimension"
   ]
  },
  {
   "cell_type": "code",
   "execution_count": 8,
   "metadata": {},
   "outputs": [],
   "source": [
    "TABLE_X = 1\n",
    "TABLE_Y = 1\n",
    "TABLE_Z = 1\n",
    "TABLE_R = 0\n",
    "TABLE_P = 0\n",
    "TABLE_Y = 0\n",
    "TABLE_HEIGHT = 0.3\n",
    "TABLE_DEPTH = 1\n",
    "TABLE_WIDTH = 1\n",
    "TOOL_DIM = [0.32, 0.08]"
   ]
  },
  {
   "cell_type": "markdown",
   "metadata": {},
   "source": [
    "## load dataset"
   ]
  },
  {
   "cell_type": "code",
   "execution_count": 11,
   "metadata": {},
   "outputs": [
    {
     "name": "stdout",
     "output_type": "stream",
     "text": [
      "0.15\n",
      "0.2\n",
      "0.25\n",
      "0.3\n"
     ]
    }
   ],
   "source": [
    "import numpy as np\n",
    "dataset = np.load('scripts/demo_202107/dataset.npy', allow_pickle=True)\n",
    "TABLE_HEIGHT = np.round(TABLE_HEIGHT, 3)\n",
    "len_dat = len(dataset)\n",
    "for i in range(len_dat):\n",
    "    print(dataset[i][0])\n",
    "    if ((TABLE_HEIGHT >= dataset[i][0]) and\n",
    "        (TABLE_HEIGHT < dataset[i+1][0] if i < len_dat-1 else TABLE_HEIGHT < dataset[i][0]+0.04)):\n",
    "        data = dataset[i]\n",
    "        break\n",
    "        \n",
    "height_goal, depth_criteria, opt_depth_sort, optimal_list, width_list, area_list = data\n",
    "\n",
    "\n",
    "# reduce areas by sensor error margin\n",
    "SENSOR_MARGIN = 0.1\n",
    "optimal_list = [[pt1, pt2, round(width-SENSOR_MARGIN, 3), round(depth-SENSOR_MARGIN, 3)] for pt1, pt2, width, depth in optimal_list]\n",
    "optimal_dict = {opt_tem[-1] : opt_tem for opt_tem in optimal_list}\n",
    "# width_list = [width-width_list for width in width_list]\n",
    "opt_depth_sort = np.round(np.subtract(opt_depth_sort, SENSOR_MARGIN), 3)"
   ]
  },
  {
   "cell_type": "code",
   "execution_count": 12,
   "metadata": {},
   "outputs": [],
   "source": [
    "# select area depth based on table depth\n",
    "if TABLE_DEPTH <= depth_criteria:\n",
    "    area_depth_obj = TABLE_DEPTH \n",
    "else:\n",
    "    if TABLE_DEPTH > max(opt_depth_sort) *2:\n",
    "        print(\"==========================================================\")\n",
    "        print(\"=========== TOO DEEP TABLE! CAN'T FINISH WIPING TASK =============\")\n",
    "        print(\"==========================================================\")\n",
    "        raise(RuntimeError(\"TOO DEEP TABLE! CAN'T FINISH WIPING TASK\"))\n",
    "    else:\n",
    "        area_depth_obj = TABLE_DEPTH/2\n",
    "\n",
    "# select optimal item for the area depth\n",
    "idx_depth = np.min(np.where(np.subtract(opt_depth_sort, area_depth_obj) > 0)[0])\n",
    "area_depth = opt_depth_sort[idx_depth]\n",
    "area_corner1, area_corner2, area_width, _ = optimal_dict[area_depth]\n",
    "\n",
    "# fit table width to table\n",
    "if TABLE_WIDTH < area_width:\n",
    "    area_width = TABLE_WIDTH"
   ]
  },
  {
   "cell_type": "code",
   "execution_count": 13,
   "metadata": {},
   "outputs": [],
   "source": [
    "# get area parameters\n",
    "corner_center = [(area_corner1[0] + area_corner2[0]) / 2, (area_corner1[1] + area_corner2[1]) / 2]\n",
    "corner_center = np.round(corner_center, 5)\n",
    "area = area_depth * area_width\n",
    "area = np.round(area, 5)"
   ]
  },
  {
   "cell_type": "code",
   "execution_count": 14,
   "metadata": {},
   "outputs": [],
   "source": [
    "\n",
    "\n",
    "if area_depth_obj == depth_criteria:\n",
    "    area_depth = area_depth_obj\n",
    "else:\n",
    "    if len(opt_depth_sort) == 1:\n",
    "        area_depth = opt_depth_sort[0]\n",
    "    else:\n",
    "        for j in range(len(opt_depth_sort)-1):\n",
    "            if (area_depth_obj >= opt_depth_sort[j]) & (area_depth_obj < opt_depth_sort[j+1]):\n",
    "                area_depth = opt_depth_sort[j]\n",
    "                break\n",
    "            else:\n",
    "                area_depth = opt_depth_sort[len(opt_depth_sort)-1]\n",
    "                break\n",
    "#     area_width_obj = TABLE_WIDTH\n",
    "#     if len(width_list) == 1:\n",
    "#         area_width = width_list[0]\n",
    "#     for j in range(len(width_list)-1):\n",
    "#         if (area_width_obj >= width_list[j]) & (area_width_obj < width_list[j+1]):\n",
    "#             area_width = width_list[j]\n",
    "#             break\n",
    "#     for j in range(len(area_list)):\n",
    "#         if (area_list[j][2] == area_width) & (area_list[j][3] == area_depth):\n",
    "#             area_corner1 = area_list[j][0]\n",
    "#             area_corner2 = area_list[j][1]\n",
    "            \n",
    "            \n",
    "            \n",
    "#     for j in range(len(width_list)-1):\n",
    "#         if (area_width_obj >= width_list[j]) & (area_width_obj < width_list[j+1]):\n",
    "#             area_width = width_list[j+1]\n",
    "#             break\n",
    "#     for j in range(len(area_list)):\n",
    "#         if (area_list[j][2] == area_width) & (area_list[j][3] == area_depth):\n",
    "#             area_corner1 = area_list[j][0]\n",
    "#             area_corner2 = area_list[j][1]\n",
    "#             area_width = area_width_obj\n",
    "\n",
    "corner_center = [(area_corner1[0] + area_corner2[0]) / 2, (area_corner1[1] + area_corner2[1]) / 2]\n",
    "corner_center = np.round(corner_center, 5)\n",
    "area = area_depth * area_width\n",
    "area = np.round(area, 5)"
   ]
  },
  {
   "cell_type": "markdown",
   "metadata": {},
   "source": [
    "## decompose wiping area"
   ]
  },
  {
   "cell_type": "code",
   "execution_count": 15,
   "metadata": {},
   "outputs": [],
   "source": [
    "if area_depth < TABLE_DEPTH:\n",
    "    num_depth = 2\n",
    "else:\n",
    "    num_depth = 1\n",
    "\n",
    "num_width, rem = divmod(TABLE_WIDTH, area_width)\n",
    "if not rem == 0:\n",
    "    num_width += 1\n",
    "num_width = int(num_width)\n",
    "\n",
    "num_area = num_width * num_depth"
   ]
  },
  {
   "cell_type": "code",
   "execution_count": null,
   "metadata": {},
   "outputs": [],
   "source": []
  },
  {
   "cell_type": "markdown",
   "metadata": {},
   "source": [
    "## add sweep face"
   ]
  },
  {
   "cell_type": "code",
   "execution_count": 18,
   "metadata": {},
   "outputs": [],
   "source": [
    "from pkg.geometry.geotype import GEOTYPE"
   ]
  },
  {
   "cell_type": "code",
   "execution_count": 19,
   "metadata": {},
   "outputs": [
    {
     "name": "stdout",
     "output_type": "stream",
     "text": [
      "Please create a subscriber to the marker\n"
     ]
    }
   ],
   "source": [
    "track = gscene.create_safe(GEOTYPE.BOX, \"track\", \"base_link\", (area_depth,area_width,0.01), (corner_center[0],corner_center[1],height_goal), rpy=(0,0,0), \n",
    "                           color=(0.8,0.8,0.8,0.8), display=True, fixed=True, collision=True)"
   ]
  },
  {
   "cell_type": "code",
   "execution_count": 20,
   "metadata": {},
   "outputs": [],
   "source": [
    "track_face = gscene.copy_from(track, new_name=\"track_face\", collision=False, color=(0.8,0.8,0.8,0.2))\n",
    "TRACK_DIM = np.copy(track_face.dims)\n",
    "track_face.dims = (3, 3, track.dims[2])"
   ]
  },
  {
   "cell_type": "code",
   "execution_count": 21,
   "metadata": {},
   "outputs": [],
   "source": [
    "gscene.update_markers_all()"
   ]
  },
  {
   "cell_type": "code",
   "execution_count": null,
   "metadata": {},
   "outputs": [],
   "source": []
  },
  {
   "cell_type": "markdown",
   "metadata": {},
   "source": [
    "# coverage planning"
   ]
  },
  {
   "cell_type": "code",
   "execution_count": 23,
   "metadata": {},
   "outputs": [],
   "source": [
    "from pkg.planning.task.custom_rules.coverage import *"
   ]
  },
  {
   "cell_type": "code",
   "execution_count": 24,
   "metadata": {},
   "outputs": [],
   "source": [
    "TOOL_DIM = [0.32, 0.08]\n",
    "TACK_WIDTH = 0.36\n",
    "TRACK_NUM = np.ceil(np.divide(TRACK_DIM[0]-TOOL_DIM[0], TOOL_DIM[0])).astype(np.int)+1\n",
    "TRACK_STEP = TRACK_DIM[0]/TRACK_NUM"
   ]
  },
  {
   "cell_type": "code",
   "execution_count": 25,
   "metadata": {},
   "outputs": [],
   "source": [
    "img = grayscale(\"scripts/demo_202107/input.jpg\")\n",
    "\n",
    "table_X = TRACK_DIM[0]\n",
    "table_Y = TRACK_DIM[1]\n",
    "table_x = img.shape[0]\n",
    "table_y = img.shape[1]\n",
    "\n",
    "path_gap_real = TRACK_STEP\n",
    "path_gap_img = int(path_gap_real * (table_x / table_X))\n",
    "wp1_pos_img, wp2_pos_img = make_waypoint(img, path_gap_img)\n",
    "\n",
    "wp1_pos_real = np.empty([TRACK_NUM,3])\n",
    "wp1_pos_real[:,0] = wp1_pos_img[:,0] * (table_X / table_x)\n",
    "wp1_pos_real[:,1] = wp1_pos_img[:,1] * (table_Y / table_y)\n",
    "wp1_pos_real[:,1] = -wp1_pos_real[:,1];\n",
    "wp1_pos_real[:,2] = 0\n",
    "\n",
    "wp2_pos_real = np.empty([TRACK_NUM,3])\n",
    "wp2_pos_real[:,0] = wp2_pos_img[:,0] * (table_X / table_x)\n",
    "wp2_pos_real[:,1] = wp2_pos_img[:,1] * (table_Y / table_y)\n",
    "wp2_pos_real[:,1] = -wp2_pos_real[:,1];\n",
    "wp2_pos_real[:,2] = 0"
   ]
  },
  {
   "cell_type": "code",
   "execution_count": 26,
   "metadata": {},
   "outputs": [],
   "source": [
    "wp1_pos_real[:,0] -= TRACK_DIM[0]/2\n",
    "wp1_pos_real[:,1] +=  TRACK_DIM[1]/2\n",
    "wp2_pos_real[:,0] -= TRACK_DIM[0]/2\n",
    "wp2_pos_real[:,1] += TRACK_DIM[1]/2"
   ]
  },
  {
   "cell_type": "code",
   "execution_count": null,
   "metadata": {},
   "outputs": [],
   "source": []
  },
  {
   "cell_type": "markdown",
   "metadata": {},
   "source": [
    "## add wp"
   ]
  },
  {
   "cell_type": "code",
   "execution_count": 27,
   "metadata": {},
   "outputs": [],
   "source": [
    "TRC_THIC = TRACK_DIM[2]\n",
    "track_list = []\n",
    "\n",
    "wp1_pos_real[:,1] -= TOOL_DIM[1]/2\n",
    "wp2_pos_real[:,1] += TOOL_DIM[1]/2\n",
    "\n",
    "for i_trc in range(TRACK_NUM):\n",
    "    wp1 = gscene.create_safe(GEOTYPE.BOX, \"wp{}a\".format(i_trc+1), \"base_link\", (TOOL_DIM[0]/2,TOOL_DIM[1]/2,TRC_THIC), \n",
    "                             wp1_pos_real[i_trc,:], rpy=(0,0,0), \n",
    "                             color=(0.8,0.2,0.2,0.2), display=True, fixed=True, collision=False, parent=\"track_face\")\n",
    "#     wp1 = gscene.create_safe(GEOTYPE.BOX, \"wp{}a\".format(i_trc+1), \"base_link\", (TOOL_DIM[0]/2,TOOL_DIM[1]/2,TRC_THIC), \n",
    "#                              (0.4, -0.01, height_goal), rpy=(0,0,0), \n",
    "#                              color=(0.8,0.2,0.2,0.2), display=True, fixed=True, collision=False)\n",
    "    wp2 = gscene.create_safe(GEOTYPE.BOX, \"wp{}b\".format(i_trc+1), \"base_link\", (TOOL_DIM[0]/2,TOOL_DIM[1]/2,TRC_THIC), \n",
    "                             wp2_pos_real[i_trc,:], rpy=(0,0,0), \n",
    "                             color=(0.8,0.2,0.2,0.2), display=True, fixed=True, collision=False, parent=\"track_face\")\n",
    "    \n",
    "    face = gscene.create_safe(GEOTYPE.BOX, \"face{}\".format(i_trc+1), \"base_link\", \n",
    "                              (TACK_WIDTH,TRACK_DIM[1],TRC_THIC), \n",
    "                             center=(wp1_pos_real[i_trc,:]+wp2_pos_real[i_trc,:])/2,rpy=(0,0,0), \n",
    "                             color=(0.8,0.2,0.2,0.2), display=True, fixed=True, collision=False, parent=\"track_face\")\n",
    "    track_list.append((wp1, wp2, face))"
   ]
  },
  {
   "cell_type": "code",
   "execution_count": 28,
   "metadata": {},
   "outputs": [],
   "source": [
    "gscene.update_markers_all()"
   ]
  },
  {
   "cell_type": "code",
   "execution_count": null,
   "metadata": {},
   "outputs": [],
   "source": []
  },
  {
   "cell_type": "markdown",
   "metadata": {},
   "source": [
    "## add blocking structure on table"
   ]
  },
  {
   "cell_type": "code",
   "execution_count": 29,
   "metadata": {},
   "outputs": [],
   "source": [
    "# gscene.create_safe(gtype=GEOTYPE.BOX, name=\"blocker\", link_name=\"base_link\",\n",
    "#                             center=(-0.27,-0.2,0.15), dims=(0.1,0.3, 0.4), rpy=(0,0,0), color=(0.0,0.8,0.0,0.5),\n",
    "#                             collision=True, fixed=True)"
   ]
  },
  {
   "cell_type": "code",
   "execution_count": null,
   "metadata": {},
   "outputs": [],
   "source": []
  },
  {
   "cell_type": "markdown",
   "metadata": {},
   "source": [
    "## Register binders"
   ]
  },
  {
   "cell_type": "code",
   "execution_count": 30,
   "metadata": {},
   "outputs": [],
   "source": [
    "from pkg.planning.constraint.constraint_actor import Gripper2Tool, PlacePlane, SweepFramer, FixtureSlot"
   ]
  },
  {
   "cell_type": "code",
   "execution_count": 31,
   "metadata": {},
   "outputs": [
    {
     "ename": "KeyError",
     "evalue": "'brush_face'",
     "output_type": "error",
     "traceback": [
      "\u001b[0;31m---------------------------------------------------------------------------\u001b[0m",
      "\u001b[0;31mKeyError\u001b[0m                                  Traceback (most recent call last)",
      "\u001b[0;32m<ipython-input-31-180f8c8169fa>\u001b[0m in \u001b[0;36m<module>\u001b[0;34m()\u001b[0m\n\u001b[0;32m----> 1\u001b[0;31m pscene.create_binder(bname=\"brush_face\", gname=\"brush_face\", _type=SweepFramer, point=(gscene.NAME_DICT['brush_face'].dims[0]/2,0,0), \n\u001b[0m\u001b[1;32m      2\u001b[0m                      rpy=(0,np.pi/2*3,0))\n\u001b[1;32m      3\u001b[0m \u001b[0mpscene\u001b[0m\u001b[0;34m.\u001b[0m\u001b[0mcreate_binder\u001b[0m\u001b[0;34m(\u001b[0m\u001b[0mbname\u001b[0m\u001b[0;34m=\u001b[0m\u001b[0;34m\"track_face\"\u001b[0m\u001b[0;34m,\u001b[0m \u001b[0mgname\u001b[0m\u001b[0;34m=\u001b[0m\u001b[0;34m\"track_face\"\u001b[0m\u001b[0;34m,\u001b[0m \u001b[0m_type\u001b[0m\u001b[0;34m=\u001b[0m\u001b[0mPlacePlane\u001b[0m\u001b[0;34m,\u001b[0m \u001b[0mpoint\u001b[0m\u001b[0;34m=\u001b[0m\u001b[0mNone\u001b[0m\u001b[0;34m)\u001b[0m\u001b[0;34m\u001b[0m\u001b[0m\n",
      "\u001b[0;31mKeyError\u001b[0m: 'brush_face'"
     ]
    }
   ],
   "source": [
    "pscene.create_binder(bname=\"brush_face\", gname=\"brush_face\", _type=SweepFramer, point=(gscene.NAME_DICT['brush_face'].dims[0]/2,0,0), \n",
    "                     rpy=(0,np.pi/2*3,0))\n",
    "pscene.create_binder(bname=\"track_face\", gname=\"track_face\", _type=PlacePlane, point=None)"
   ]
  },
  {
   "cell_type": "code",
   "execution_count": null,
   "metadata": {},
   "outputs": [],
   "source": []
  },
  {
   "cell_type": "markdown",
   "metadata": {},
   "source": [
    "## add objects"
   ]
  },
  {
   "cell_type": "code",
   "execution_count": 28,
   "metadata": {},
   "outputs": [],
   "source": [
    "from pkg.planning.constraint.constraint_common import MotionConstraint\n",
    "from pkg.planning.constraint.constraint_subject import AbstractTask, AbstractObject\n",
    "from pkg.planning.constraint.constraint_subject import SweepLineTask\n",
    "from pkg.planning.constraint.constraint_subject import SweepFrame"
   ]
  },
  {
   "cell_type": "code",
   "execution_count": 29,
   "metadata": {},
   "outputs": [],
   "source": [
    "for sname in pscene.subject_name_list:\n",
    "    pscene.remove_subject(sname)"
   ]
  },
  {
   "cell_type": "code",
   "execution_count": 30,
   "metadata": {},
   "outputs": [],
   "source": [
    "sweep_list = []\n",
    "for i_t, track_tem in enumerate(track_list):\n",
    "    wp1, wp2, face = track_tem\n",
    "    sweep_ = pscene.create_subject(oname=\"sweep{}\".format(i_t+1), gname=\"track_face\", _type=SweepLineTask, \n",
    "                                   action_points_dict = {wp1.name: SweepFrame(wp1.name, wp1, [0,0,0.005], [0,0,0]),\n",
    "                                                       wp2.name: SweepFrame(wp2.name, wp2, [0,0,0.005], [0,0,0])}, \n",
    "                                   clearance=[face])\n",
    "    sweep_list.append(sweep_)"
   ]
  },
  {
   "cell_type": "code",
   "execution_count": null,
   "metadata": {},
   "outputs": [],
   "source": []
  },
  {
   "cell_type": "markdown",
   "metadata": {},
   "source": [
    "### planners"
   ]
  },
  {
   "cell_type": "code",
   "execution_count": 31,
   "metadata": {
    "scrolled": false
   },
   "outputs": [],
   "source": [
    "from pkg.planning.motion.moveit.moveit_planner import MoveitPlanner\n",
    "mplan = MoveitPlanner(pscene)\n",
    "mplan.update_gscene()\n",
    "from pkg.planning.task.rrt import TaskRRT\n",
    "tplan = TaskRRT(pscene)\n",
    "tplan.prepare()\n",
    "ppline.set_motion_planner(mplan)\n",
    "ppline.set_task_planner(tplan)"
   ]
  },
  {
   "cell_type": "code",
   "execution_count": null,
   "metadata": {},
   "outputs": [],
   "source": []
  },
  {
   "cell_type": "markdown",
   "metadata": {},
   "source": [
    "## motion filters"
   ]
  },
  {
   "cell_type": "code",
   "execution_count": 32,
   "metadata": {},
   "outputs": [],
   "source": [
    "from pkg.planning.filtering.grasp_filter import GraspChecker\n",
    "from pkg.planning.filtering.reach_filter import ReachChecker\n",
    "from pkg.planning.filtering.latticized_filter import LatticedChecker\n",
    "from pkg.planning.filtering.task_clearance_filter import TaskClearanceChecker\n",
    "\n",
    "gcheck = GraspChecker(pscene)\n",
    "rcheck = ReachChecker(pscene)\n",
    "tcheck = TaskClearanceChecker(pscene, gcheck)\n",
    "checkers_all = [tcheck, rcheck, gcheck]\n",
    "# lcheck = LatticedChecker(pscene, gcheck)\n",
    "# checkers_all.append(lcheck)"
   ]
  },
  {
   "cell_type": "code",
   "execution_count": 33,
   "metadata": {},
   "outputs": [],
   "source": [
    "mplan.motion_filters = checkers_all"
   ]
  },
  {
   "cell_type": "code",
   "execution_count": 34,
   "metadata": {},
   "outputs": [],
   "source": [
    "gscene.show_pose(crob.home_pose)"
   ]
  },
  {
   "cell_type": "code",
   "execution_count": null,
   "metadata": {},
   "outputs": [],
   "source": []
  },
  {
   "cell_type": "markdown",
   "metadata": {},
   "source": [
    "## Set initial condition"
   ]
  },
  {
   "cell_type": "code",
   "execution_count": 35,
   "metadata": {},
   "outputs": [],
   "source": [
    "HOME_POSE = [-0.        , -0.        ,  np.pi*4/6, -0.        ,  -np.pi/6, -0.        ]"
   ]
  },
  {
   "cell_type": "code",
   "execution_count": 36,
   "metadata": {},
   "outputs": [
    {
     "name": "stdout",
     "output_type": "stream",
     "text": [
      "(0, 0)\n"
     ]
    }
   ],
   "source": [
    "from pkg.planning.constraint.constraint_common \\\n",
    "            import sample_redundancy, combine_redundancy\n",
    "gtimer = GlobalTimer.instance()\n",
    "# initial_state = pscene.initialize_state(crob.home_pose)\n",
    "initial_state = pscene.initialize_state(HOME_POSE)\n",
    "print(initial_state.node)\n",
    "\n",
    "# remove place points except for the current one\n",
    "use_current_place_point_only(pscene, initial_state)"
   ]
  },
  {
   "cell_type": "code",
   "execution_count": 37,
   "metadata": {},
   "outputs": [
    {
     "data": {
      "text/plain": [
       "['sweep1', 'sweep2']"
      ]
     },
     "execution_count": 37,
     "metadata": {},
     "output_type": "execute_result"
    }
   ],
   "source": [
    "pscene.subject_name_list"
   ]
  },
  {
   "cell_type": "code",
   "execution_count": null,
   "metadata": {},
   "outputs": [],
   "source": []
  },
  {
   "cell_type": "markdown",
   "metadata": {},
   "source": [
    "# Node Sampler"
   ]
  },
  {
   "cell_type": "code",
   "execution_count": 38,
   "metadata": {},
   "outputs": [],
   "source": [
    "from pkg.planning.sampling.node_sampling import make_state_param_hashable, UniformNodeSampler, PenaltyNodeSampler, GrowingSampler\n",
    "\n",
    "tplan.new_node_sampler = PenaltyNodeSampler(3, 1)\n",
    "tplan.parent_node_sampler = UniformNodeSampler(3)\n",
    "# tplan.parent_snode_sampler = GrowingSampler(3)"
   ]
  },
  {
   "cell_type": "code",
   "execution_count": null,
   "metadata": {},
   "outputs": [],
   "source": []
  },
  {
   "cell_type": "markdown",
   "metadata": {},
   "source": [
    "# CustomRule"
   ]
  },
  {
   "cell_type": "code",
   "execution_count": 39,
   "metadata": {},
   "outputs": [],
   "source": [
    "# from pkg.planning.task.custom_rules.sweep_entrance_control import SweepEntranceControlRule\n",
    "# tplan.custom_rule = SweepEntranceControlRule(pscene)"
   ]
  },
  {
   "cell_type": "code",
   "execution_count": null,
   "metadata": {},
   "outputs": [],
   "source": []
  },
  {
   "cell_type": "markdown",
   "metadata": {},
   "source": [
    "## Make Plan"
   ]
  },
  {
   "cell_type": "code",
   "execution_count": 40,
   "metadata": {
    "scrolled": true
   },
   "outputs": [
    {
     "name": "stdout",
     "output_type": "stream",
     "text": [
      "(0, 0)\n",
      "Use 36/36 agents\n",
      "try: 0 - (0, 0)->(1, 0)\n",
      "try: 0 - (0, 0)->(0, 1)\n",
      "try transition motion\n",
      "try: 0 - (0, 0)->(0, 1)\n",
      "try transition motion\n",
      "try: 0 - (0, 0)->(0, 1)\n",
      "try transition motion\n",
      "try: 0 - (0, 0)->(1, 0)\n",
      "try transition motion\n",
      "transition motion tried: True\n",
      "result: 0 - (0, 0)->(1, 0) = success\n",
      "branching: 0->1 (0.11/10.0 s, steps/err: 22(50.0888824463 ms)/0.00224133975791)\n",
      "try: 0 - (0, 0)->(0, 1)\n",
      "transition motion tried: True\n",
      "try transition motion\n",
      "======================================================================================================================================================\n",
      "try: 1 - (1, 0)->(2, 0)\n",
      "result: 0 - (0, 0)->(0, 1) = success\n",
      "try: 1 - (1, 0)->(2, 0)\n",
      "branching: 0->2 (0.13/10.0 s, steps/err: 21(53.2870292664 ms)/0.00195536136936)\n",
      "try transition motion\n",
      "======================================================================================================================================================\n",
      "transition motion tried: True\n",
      "try: 1 - (1, 0)->(2, 0)\n",
      "try constrained motion\n",
      "try: 2 - (0, 1)->(0, 2)\n",
      "transition motion tried: True\n",
      "try constrained motion\n",
      "try: 1 - (1, 0)->(2, 0)\n",
      "try constrained motion\n",
      "try constrained motion\n",
      "branching: 0->3 (0.16/10.0 s, steps/err: 21(53.1990528107 ms)/0.00178222267755)\n",
      "branching: 0->4 (0.16/10.0 s, steps/err: 21(66.7560100555 ms)/0.0013372208854)\n",
      "result: 0 - (0, 0)->(0, 1) = success\n",
      "result: 0 - (0, 0)->(0, 1) = success\n",
      "transition motion tried: True\n",
      "======================================================================================================================================================\n",
      "======================================================================================================================================================\n",
      "try: 3 - (0, 1)->(0, 2)\n",
      "try: 0 - (0, 0)->(1, 0)\n",
      "result: 0 - (0, 0)->(1, 0) = success\n",
      "try: 3 - (0, 1)->(0, 2)\n",
      "branching: 0->5 (0.17/10.0 s, steps/err: 22(54.2211532593 ms)/0.00162257648041)\n",
      "======================================================================================================================================================\n",
      "try constrained motion\n",
      "try: 5 - (1, 0)->(2, 0)\n",
      "try: 5 - (1, 0)->(2, 0)\n",
      "try transition motion\n",
      "try constrained motion\n",
      "transition motion tried: True\n",
      "result: 0 - (0, 0)->(0, 1) = success\n",
      "try constrained motion\n",
      "try constrained motion\n",
      "try: 5 - (1, 0)->(2, 0)\n",
      "branching: 0->6 (0.19/10.0 s, steps/err: 21(60.0509643555 ms)/0.00188139092841)\n",
      "try constrained motion\n",
      "======================================================================================================================================================\n",
      "try: 6 - (0, 1)->(0, 2)\n",
      "try: 0 - (0, 0)->(1, 0)\n",
      "try constrained motion\n",
      "try: 5 - (1, 0)->(2, 0)\n",
      "transition motion tried: True\n",
      "try constrained motion\n",
      "try: 0 - (0, 0)->(1, 0)\n",
      "try transition motion\n",
      "result: 0 - (0, 0)->(1, 0) = success\n",
      "try transition motion\n",
      "try: 7 - (1, 0)->(2, 0)\n",
      "branching: 0->7 (0.23/10.0 s, steps/err: 23(54.3940067291 ms)/0.00190947275076)\n",
      "======================================================================================================================================================\n",
      "try constrained motion\n",
      "try: 2 - (0, 1)->(0, 2)\n",
      "try constrained motion\n",
      "try: 0 - (0, 0)->(0, 1)\n",
      "constrained motion tried: True\n",
      "transition motion tried: True\n",
      "try: 1 - (1, 0)->(2, 0)\n",
      "try transition motion\n",
      "try constrained motion\n",
      "result: 3 - (0, 1)->(0, 2) = success\n",
      "branching: 3->8 (0.26/10.0 s, steps/err: 193(88.5660648346 ms)/0.00123950240724)\n",
      "result: 0 - (0, 0)->(1, 0) = success\n",
      "try: 9 - (1, 0)->(2, 0)\n",
      "try constrained motion\n",
      "transition motion tried: True\n",
      "======================================================================================================================================================\n",
      "branching: 0->9 (0.27/10.0 s, steps/err: 22(51.6879558563 ms)/0.00222342349446)\n",
      "======================================================================================================================================================\n",
      "try: 4 - (0, 1)->(0, 2)\n",
      "result: 0 - (0, 0)->(1, 0) = success\n",
      "try: 0 - (0, 0)->(0, 1)\n",
      "try constrained motion\n",
      "branching: 0->10 (0.28/10.0 s, steps/err: 23(46.8399524689 ms)/0.00141224224442)\n",
      "try: 10 - (1, 0)->(2, 0)\n",
      "======================================================================================================================================================\n",
      "transition motion tried: True\n",
      "try transition motion\n",
      "try: 0 - (0, 0)->(1, 0)\n",
      "try constrained motion\n",
      "result: 0 - (0, 0)->(0, 1) = success\n",
      "try constrained motion\n",
      "try: 10 - (1, 0)->(2, 0)\n",
      "branching: 0->11 (0.29/10.0 s, steps/err: 21(39.806842804 ms)/0.00202536728525)\n",
      "try transition motion\n",
      "try: 0 - (0, 0)->(1, 0)\n",
      "======================================================================================================================================================\n",
      "try constrained motion\n",
      "try: 6 - (0, 1)->(0, 2)\n",
      "try transition motion\n",
      "try constrained motion\n",
      "try: 0 - (0, 0)->(0, 1)\n",
      "transition motion tried: True\n",
      "try transition motion\n",
      "try: 5 - (1, 0)->(2, 0)\n",
      "result: 0 - (0, 0)->(0, 1) = success\n",
      "branching: 0->12 (0.34/10.0 s, steps/err: 21(53.1899929047 ms)/0.00174544660937)\n",
      "try constrained motion\n",
      "try: 0 - (0, 0)->(1, 0)\n",
      "======================================================================================================================================================\n",
      "transition motion tried: True\n",
      "try: 2 - (0, 1)->(0, 2)\n",
      "try transition motion\n",
      "try: 0 - (0, 0)->(0, 1)\n",
      "result: 0 - (0, 0)->(1, 0) = success\n",
      "try transition motion\n",
      "try constrained motion\n",
      "transition motion tried: True\n",
      "transition motion tried: True\n",
      "branching: 0->13 (0.37/10.0 s, steps/err: 23(63.8580322266 ms)/0.000870596632524)\n",
      "======================================================================================================================================================\n",
      "result: 0 - (0, 0)->(1, 0) = success\n",
      "result: 0 - (0, 0)->(0, 1) = success\n",
      "try: 13 - (1, 0)->(2, 0)\n",
      "branching: 0->15 (0.37/10.0 s, steps/err: 21(51.6359806061 ms)/0.00151262263962)\n",
      "branching: 0->14 (0.37/10.0 s, steps/err: 22(64.2411708832 ms)/0.00149438419698)\n",
      "======================================================================================================================================================\n",
      "try: 14 - (1, 0)->(2, 0)\n",
      "transition motion tried: True\n",
      "try: 12 - (0, 1)->(0, 2)\n",
      "try constrained motion\n",
      "try constrained motion\n",
      "======================================================================================================================================================\n",
      "result: 0 - (0, 0)->(1, 0) = success\n",
      "branching: 0->16 (0.4/10.0 s, steps/err: 23(49.0829944611 ms)/0.00184545326206)\n",
      "try: 7 - (1, 0)->(2, 0)\n",
      "try constrained motion\n",
      "transition motion tried: True\n",
      "try: 16 - (1, 0)->(2, 0)\n",
      "constrained motion tried: True\n",
      "======================================================================================================================================================\n",
      "constrained motion tried: True\n",
      "result: 0 - (0, 0)->(0, 1) = success\n",
      "result: 2 - (0, 1)->(0, 2) = success\n",
      "try constrained motion\n",
      "result: 5 - (1, 0)->(2, 0) = success\n",
      "try: 1 - (1, 0)->(2, 0)\n",
      "try constrained motion\n",
      "branching: 5->19 (0.42/10.0 s, steps/err: 271(218.998908997 ms)/0.00171948425443)\n",
      "======================================================================================================================================================\n",
      "++ adding return motion to acquired answer ++\n",
      "branching: 0->18 (0.42/10.0 s, steps/err: 21(52.6258945465 ms)/0.00198303594977)\n",
      "try constrained motion\n",
      "branching: 2->17 (0.42/10.0 s, steps/err: 193(266.846895218 ms)/0.00128819278153)\n",
      "======================================================================================================================================================\n",
      "======================================================================================================================================================\n",
      "try: 19 - (2, 0)->(2, 1)\n",
      "try: 19 - (2, 0)->(2, 1)\n",
      "try transition motion\n",
      "try transition motion\n",
      "constrained motion tried: True\n",
      "constrained motion tried: True\n",
      "result: 6 - (0, 1)->(0, 2) = success\n",
      "branching: 6->21 (0.47/10.0 s, steps/err: 193(155.41601181 ms)/0.00195588326185)\n",
      "result: 2 - (0, 1)->(0, 2) = success\n",
      "try: 19 - (2, 0)->(2, 1)\n",
      "======================================================================================================================================================\n"
     ]
    },
    {
     "name": "stdout",
     "output_type": "stream",
     "text": [
      "branching: 2->22 (0.48/10.0 s, steps/err: 194(110.972881317 ms)/0.000850827214313)\n",
      "======================================================================================================================================================\n",
      "try: 19 - (2, 0)->(2, 1)\n",
      "try: 20 - (2, 0)->(2, 1)\n",
      "try transition motion\n",
      "try transition motion\n",
      "try transition motion\n",
      "transition motion tried: True\n",
      "result: 19 - (2, 0)->(2, 1) = success\n",
      "branching: 19->23 (0.51/10.0 s, steps/err: 40(53.699016571 ms)/0.00152785200328)\n",
      "transition motion tried: True\n",
      "result: 19 - (2, 0)->(2, 1) = success\n",
      "branching: 19->24 (0.52/10.0 s, steps/err: 50(67.7700042725 ms)/0.000979119464709)\n",
      "======================================================================================================================================================\n",
      "try: 23 - (2, 1)->(2, 2)\n",
      "try: 24 - (2, 1)->(2, 2)\n",
      "======================================================================================================================================================\n",
      "try: 24 - (2, 1)->(2, 2)\n",
      "try constrained motion\n",
      "transition motion tried: True\n",
      "try constrained motion\n",
      "result: 20 - (2, 0)->(2, 1) = success\n",
      "try constrained motion\n",
      "transition motion tried: True\n",
      "branching: 20->25 (0.54/10.0 s, steps/err: 21(44.6770191193 ms)/0.00162508180208)\n",
      "======================================================================================================================================================\n",
      "result: 19 - (2, 0)->(2, 1) = success\n",
      "branching: 19->26 (0.55/10.0 s, steps/err: 40(52.4098873138 ms)/0.0012449412951)\n",
      "try: 25 - (2, 1)->(2, 2)\n",
      "try: 26 - (2, 1)->(2, 2)\n",
      "======================================================================================================================================================\n",
      "try: 23 - (2, 1)->(2, 2)\n",
      "constrained motion tried: True\n",
      "transition motion tried: True\n",
      "result: 19 - (2, 0)->(2, 1) = success\n",
      "try constrained motion\n",
      "try constrained motion\n",
      "result: 4 - (0, 1)->(0, 2) = success\n",
      "try constrained motion\n",
      "branching: 19->28 (0.56/10.0 s, steps/err: 57(74.7728347778 ms)/0.00141741610543)\n",
      "branching: 4->27 (0.56/10.0 s, steps/err: 193(274.882078171 ms)/0.00147747066175)\n",
      "======================================================================================================================================================\n",
      "======================================================================================================================================================\n",
      "try: 28 - (2, 1)->(2, 2)\n",
      "try constrained motion\n",
      "try: 19 - (2, 0)->(2, 1)\n",
      "try: 19 - (2, 0)->(2, 1)\n",
      "try transition motion\n",
      "try transition motion\n",
      "try: 26 - (2, 1)->(2, 2)\n",
      "constrained motion tried: True\n",
      "try: 19 - (2, 0)->(2, 1)\n",
      "try: 20 - (2, 0)->(2, 1)\n",
      "try: 19 - (2, 0)->(2, 1)\n",
      "try constrained motion\n",
      "try transition motion\n",
      "result: 25 - (2, 1)->(2, 2) = success\n",
      "branching: 25->29 (0.62/10.0 s, steps/err: 193(63.9550685883 ms)/0.00176726160136)\n",
      "try transition motion\n",
      "transition motion tried: True\n",
      "======================================================================================================================================================\n",
      "transition motion tried: True\n",
      "result: 19 - (2, 0)->(2, 1) = success\n",
      "try transition motion\n",
      "result: 19 - (2, 0)->(2, 1) = success\n",
      "branching: 19->30 (0.64/10.0 s, steps/err: 40(51.0630607605 ms)/0.00193809126533)\n",
      "branching: 19->31 (0.64/10.0 s, steps/err: 57(53.8308620453 ms)/0.00118092557141)\n",
      "try: 30 - (2, 1)->(2, 2)\n",
      "======================================================================================================================================================\n",
      "try: 30 - (2, 1)->(2, 2)\n",
      "constrained motion tried: True\n",
      "try constrained motion\n",
      "======================================================================================================================================================\n",
      "result: 5 - (1, 0)->(2, 0) = success\n",
      "try: 31 - (2, 1)->(2, 2)\n",
      "try constrained motion\n",
      "transition motion tried: True\n",
      "=========================================================================================================\n",
      "result: 19 - (2, 0)->(2, 1) = success\n",
      "branching: 5->32 (0.67/10.0 s, steps/err: 271(475.079059601 ms)/0.00118797399051)\n",
      "======================= terminated 11: first answer acquired ===============================\n",
      "transition motion tried: True\n",
      "try constrained motion\n",
      "branching: 19->33 (0.67/10.0 s, steps/err: 30(56.499004364 ms)/0.00193127421356)\n",
      "======================================================================================================================================================\n",
      "result: 19 - (2, 0)->(2, 1) = success\n",
      "++ adding return motion to acquired answer ++\n",
      "======================================================================================================================================================\n",
      "branching: 19->34 (0.68/10.0 s, steps/err: 40(56.7378997803 ms)/0.00176994772829)\n",
      "transition motion tried: True\n",
      "=========================================================================================================\n",
      "result: 20 - (2, 0)->(2, 1) = success\n",
      "======================================================================================================================================================\n",
      "branching: 20->35 (0.7/10.0 s, steps/err: 21(78.4451961517 ms)/0.00197779250807)\n",
      "=========================================================================================================\n",
      "======================= terminated 34: first answer acquired from other agent ===============================\n",
      "======================================================================================================================================================\n",
      "=========================================================================================================\n",
      "=========================================================================================================\n",
      "=========================================================================================================\n",
      "constrained motion tried: True\n",
      "result: 6 - (0, 1)->(0, 2) = success\n",
      "======================= terminated 35: first answer acquired from other agent ===============================\n",
      "=========================================================================================================\n",
      "======================= terminated 33: first answer acquired from other agent ===============================\n",
      "=========================================================================================================\n",
      "constrained motion tried: True\n",
      "probability saturated\n",
      "branching: 6->36 (0.76/10.0 s, steps/err: 193(523.228168488 ms)/0.00160832566918)\n",
      "======================================================================================================================================================\n",
      "=========================================================================================================\n",
      "======================= terminated 5: first answer acquired from other agent ===============================\n",
      "=========================================================================================================\n"
     ]
    },
    {
     "name": "stderr",
     "output_type": "stream",
     "text": [
      "Process Process-18:\n",
      "Traceback (most recent call last):\n",
      "  File \"/usr/lib/python2.7/multiprocessing/process.py\", line 267, in _bootstrap\n",
      "    self.run()\n",
      "  File \"/usr/lib/python2.7/multiprocessing/process.py\", line 114, in run\n",
      "    self._target(*self._args, **self._kwargs)\n",
      "  File \"pkg/planning/pipeline.py\", line 164, in __search_loop\n"
     ]
    },
    {
     "name": "stdout",
     "output_type": "stream",
     "text": [
      "constrained motion tried: True\n",
      "result: 30 - (2, 1)->(2, 2) = success\n",
      "branching: 30->39 (0.88/10.0 s, steps/err: 193(222.565174103 ms)/0.00160262496669)\n"
     ]
    },
    {
     "name": "stderr",
     "output_type": "stream",
     "text": [
      "    ret = self.tplan.update(snode, snode_new, succ)\n"
     ]
    },
    {
     "name": "stdout",
     "output_type": "stream",
     "text": [
      "======================================================================================================================================================\n",
      "=========================================================================================================\n",
      "======================= terminated 31: first answer acquired from other agent ===============================\n",
      "=========================================================================================================\n"
     ]
    },
    {
     "name": "stderr",
     "output_type": "stream",
     "text": [
      "  File \"pkg/planning/task/rrt.py\", line 234, in update\n"
     ]
    },
    {
     "name": "stdout",
     "output_type": "stream",
     "text": [
      "constrained motion tried: True\n"
     ]
    },
    {
     "name": "stderr",
     "output_type": "stream",
     "text": [
      "    node_extend = self.new_node_sampler(nodes_candi)\n"
     ]
    },
    {
     "name": "stdout",
     "output_type": "stream",
     "text": [
      "probability saturated\n"
     ]
    },
    {
     "name": "stderr",
     "output_type": "stream",
     "text": [
      "  File \"pkg/planning/sampling/node_sampling.py\", line 144, in __call__\n"
     ]
    },
    {
     "name": "stdout",
     "output_type": "stream",
     "text": [
      "constrained motion tried: True\n"
     ]
    },
    {
     "name": "stderr",
     "output_type": "stream",
     "text": [
      "    i_node = np.random.choice(len(nodes), p=probs)\n",
      "  File \"mtrand.pyx\", line 1119, in mtrand.RandomState.choice\n",
      "ValueError: 'a' must be greater than 0 unless no samples are taken\n"
     ]
    },
    {
     "name": "stdout",
     "output_type": "stream",
     "text": [
      "result: 26 - (2, 1)->(2, 2) = success\n",
      "branching: 26->41 (0.9/10.0 s, steps/err: 194(341.084003448 ms)/0.00103579156105)\n",
      "======================= terminated 30: first answer acquired from other agent ===============================\n",
      "======================================================================================================================================================\n",
      "=========================================================================================================\n"
     ]
    },
    {
     "name": "stderr",
     "output_type": "stream",
     "text": [
      "Process Process-34:\n",
      "Traceback (most recent call last):\n"
     ]
    },
    {
     "name": "stdout",
     "output_type": "stream",
     "text": [
      "=========================================================================================================\n"
     ]
    },
    {
     "name": "stderr",
     "output_type": "stream",
     "text": [
      "  File \"/usr/lib/python2.7/multiprocessing/process.py\", line 267, in _bootstrap\n",
      "  File \"/usr/lib/python2.7/multiprocessing/process.py\", line 114, in run\n",
      "    self.run()\n",
      "    self._target(*self._args, **self._kwargs)\n",
      "  File \"pkg/planning/pipeline.py\", line 164, in __search_loop\n",
      "  File \"mtrand.pyx\", line 1119, in mtrand.RandomState.choice\n",
      "    ret = self.tplan.update(snode, snode_new, succ)\n",
      "  File \"pkg/planning/task/rrt.py\", line 234, in update\n",
      "    node_extend = self.new_node_sampler(nodes_candi)\n",
      "  File \"pkg/planning/sampling/node_sampling.py\", line 144, in __call__\n",
      "    i_node = np.random.choice(len(nodes), p=probs)\n",
      "ValueError: 'a' must be greater than 0 unless no samples are taken\n"
     ]
    },
    {
     "name": "stdout",
     "output_type": "stream",
     "text": [
      "=========================================================================================================\n",
      "======================= terminated 4: first answer acquired ===============================\n",
      "=========================================================================================================\n",
      "constrained motion tried: True\n",
      "result: 12 - (0, 1)->(0, 2) = success\n",
      "branching: 12->42 (1.27/10.0 s, steps/err: 193(872.344017029 ms)/0.00161354329064)\n",
      "======================================================================================================================================================\n",
      "=========================================================================================================\n",
      "======================= terminated 22: first answer acquired from other agent ===============================\n",
      "=========================================================================================================\n",
      "Use 36/36 agents\n",
      "try: 0 - (2, 0)->(2, 1)\n",
      "try transition motion\n",
      "try: 0 - (2, 0)->(2, 1)\n",
      "try transition motion\n",
      "try: 0 - (2, 0)->(2, 1)\n",
      "try transition motion\n",
      "transition motion tried: True\n",
      "try: 0 - (2, 0)->(2, 1)\n",
      "result: 0 - (2, 0)->(2, 1) = success\n",
      "branching: 0->1 (0.1/10.0 s, steps/err: 40(52.1769523621 ms)/0.00122805634953)\n",
      "try transition motion\n",
      "======================================================================================================================================================\n",
      "transition motion tried: True\n",
      "try: 1 - (2, 1)->(2, 2)\n",
      "transition motion tried: True\n",
      "try: 1 - (2, 1)->(2, 2)\n",
      "result: 0 - (2, 0)->(2, 1) = success\n",
      "result: 0 - (2, 0)->(2, 1) = success\n",
      "try constrained motion\n",
      "branching: 0->3 (0.14/10.0 s, steps/err: 48(75.0229358673 ms)/0.00189522650369)\n",
      "branching: 0->2 (0.14/10.0 s, steps/err: 40(61.1078739166 ms)/0.00173692568693)\n",
      "======================================================================================================================================================\n",
      "try constrained motion\n",
      "try: 2 - (2, 1)->(2, 2)\n",
      "======================================================================================================================================================\n",
      "transition motion tried: True\n",
      "try: 3 - (2, 1)->(2, 2)\n",
      "try constrained motion\n",
      "result: 0 - (2, 0)->(2, 1) = success\n",
      "try constrained motion\n",
      "try: 4 - (2, 1)->(2, 2)\n",
      "branching: 0->4 (0.19/10.0 s, steps/err: 38(77.6841640472 ms)/0.00151098253651)\n",
      "======================================================================================================================================================\n",
      "try constrained motion\n",
      "try: 1 - (2, 1)->(2, 2)\n",
      "constrained motion tried: True\n",
      "try constrained motion\n",
      "result: 1 - (2, 1)->(2, 2) = success\n",
      "branching: 1->5 (0.27/10.0 s, steps/err: 193(109.493970871 ms)/0.00186694399405)\n",
      "======================================================================================================================================================\n",
      "try: 2 - (2, 1)->(2, 2)\n",
      "++ adding return motion to acquired answer ++\n",
      "try constrained motion\n",
      "try: 1 - (2, 1)->(2, 2)\n",
      "try constrained motion\n",
      "constrained motion tried: True\n",
      "result: 1 - (2, 1)->(2, 2) = success\n",
      "branching: 1->7 (0.48/10.0 s, steps/err: 194(85.5629444122 ms)/0.00178241388645)\n",
      "constrained motion tried: True\n",
      "======================================================================================================================================================\n",
      "result: 2 - (0, 1)->(0, 2) = success\n",
      "++ adding return motion to acquired answer ++\n",
      "branching: 2->43 (1.83/10.0 s, steps/err: 193(1579.46896553 ms)/0.00177660470963)\n",
      "======================================================================================================================================================\n",
      "=========================================================================================================\n",
      "======================= terminated 3: first answer acquired from other agent ===============================\n",
      "=========================================================================================================\n",
      "try: 4 - (2, 1)->(2, 2)\n",
      "=========================================================================================================\n",
      "======================= terminated 4: first answer acquired ===============================\n",
      "=========================================================================================================\n",
      "try constrained motion\n",
      "=========================================================================================================\n",
      "======================= terminated 9: first answer acquired from other agent ===============================\n",
      "=========================================================================================================\n",
      "=========================================================================================================\n",
      "======================= terminated 7: first answer acquired ===============================\n",
      "constrained motion tried: True\n",
      "result: 1 - (2, 1)->(2, 2) = success\n",
      "=========================================================================================================\n",
      "branching: 1->9 (0.75/10.0 s, steps/err: 193(514.989852905 ms)/0.0010909136205)\n",
      "constrained motion tried: True\n",
      "result: 2 - (2, 1)->(2, 2) = success\n",
      "branching: 2->10 (0.75/10.0 s, steps/err: 194(584.879875183 ms)/0.00226104613018)\n",
      "======================================================================================================================================================\n",
      "======================================================================================================================================================\n",
      "++ adding return motion to acquired answer ++\n",
      "++ adding return motion to acquired answer ++\n",
      "constrained motion tried: True\n",
      "result: 9 - (1, 0)->(2, 0) = success\n",
      "branching: 9->44 (2.17/10.0 s, steps/err: 271(1884.47809219 ms)/0.00113241657235)\n",
      "======================================================================================================================================================\n",
      "constrained motion tried: False\n",
      "++ adding return motion to acquired answer ++\n",
      "Motion Plan Failure\n",
      "=========================================================================================================\n",
      "result: 3 - (0, 1)->(0, 2) = fail\n",
      "=========================================================================================================\n",
      "======================= terminated 11: first answer acquired from other agent ===============================\n",
      "======================= terminated 2: first answer acquired from other agent ===============================\n",
      "=========================================================================================================\n",
      "=========================================================================================================\n",
      "=========================================================================================================\n",
      "======================= terminated 10: first answer acquired from other agent ===============================\n",
      "constrained motion tried: True\n",
      "constrained motion tried: False\n",
      "result: 1 - (2, 1)->(2, 2) = success\n",
      "=========================================================================================================\n",
      "branching: 1->13 (0.91/10.0 s, steps/err: 194(778.674840927 ms)/0.00181929454027)\n",
      "Motion Plan Failure\n",
      "constrained motion tried: False\n",
      "======================================================================================================================================================\n",
      "Motion Plan Failure\n",
      "result: 1 - (1, 0)->(2, 0) = fail\n",
      "result: 1 - (1, 0)->(2, 0) = fail\n",
      "constrained motion tried: False\n",
      "=========================================================================================================\n",
      "++ adding return motion to acquired answer ++\n",
      "=========================================================================================================\n",
      "======================= terminated 0: first answer acquired from other agent ===============================\n",
      "Motion Plan Failure\n",
      "=========================================================================================================\n",
      "======================= terminated 8: first answer acquired from other agent ===============================\n",
      "result: 1 - (1, 0)->(2, 0) = fail\n"
     ]
    },
    {
     "name": "stdout",
     "output_type": "stream",
     "text": [
      "=========================================================================================================\n",
      "======================= terminated 6: first answer acquired from other agent ===============================\n",
      "=========================================================================================================\n",
      "=========================================================================================================\n",
      "=========================================================================================================\n",
      "=========================================================================================================\n",
      "======================= terminated 13: first answer acquired from other agent ===============================\n",
      "constrained motion tried: False\n",
      "======================= terminated 12: first answer acquired from other agent ===============================\n",
      "=========================================================================================================\n",
      "Motion Plan Failure\n",
      "result: 5 - (1, 0)->(2, 0) = fail\n",
      "=========================================================================================================\n",
      "=========================================================================================================\n",
      "======================= terminated 10: first answer acquired from other agent ===============================\n",
      "=========================================================================================================\n",
      "constrained motion tried: False\n",
      "Motion Plan Failure\n",
      "result: 7 - (1, 0)->(2, 0) = fail\n",
      "=========================================================================================================\n",
      "======================= terminated 15: first answer acquired from other agent ===============================\n",
      "=========================================================================================================\n",
      "constrained motion tried: False\n",
      "Motion Plan Failure\n",
      "=========================================================================================================\n",
      "result: 1 - (1, 0)->(2, 0) = fail\n",
      "======================= terminated 3: first answer acquired ===============================\n",
      "=========================================================================================================\n",
      "======================= terminated 7: first answer acquired from other agent ===============================\n",
      "=========================================================================================================\n",
      "=========================================================================================================\n",
      "=========================================================================================================\n",
      "======================= terminated 1: first answer acquired ===============================\n",
      "=========================================================================================================\n",
      "=========================================================================================================\n",
      "======================= terminated 15: first answer acquired from other agent ===============================\n",
      "=========================================================================================================\n",
      "=========================================================================================================\n",
      "======================= terminated 14: first answer acquired from other agent ===============================\n",
      "=========================================================================================================\n",
      "constrained motion tried: False\n",
      "Motion Plan Failure\n",
      "constrained motion tried: False\n",
      "Motion Plan Failure\n",
      "result: 10 - (1, 0)->(2, 0) = fail\n",
      "=========================================================================================================\n",
      "=========================================================================================================\n",
      "result: 5 - (1, 0)->(2, 0) = fail\n",
      "======================= terminated 17: first answer acquired from other agent ===============================\n",
      "======================= terminated 20: first answer acquired from other agent ===============================\n",
      "=========================================================================================================\n",
      "=========================================================================================================\n",
      "======================= terminated 23: first answer acquired from other agent ===============================\n",
      "=========================================================================================================\n",
      "=========================================================================================================\n",
      "=========================================================================================================\n",
      "======================= terminated 16: first answer acquired from other agent ===============================\n",
      "=========================================================================================================\n",
      "constrained motion tried: False\n",
      "Motion Plan Failure\n",
      "result: 5 - (1, 0)->(2, 0) = fail\n",
      "=========================================================================================================\n",
      "=========================================================================================================\n",
      "======================= terminated 13: first answer acquired from other agent ===============================\n",
      "======================= terminated 18: first answer acquired from other agent ===============================\n",
      "=========================================================================================================\n",
      "=========================================================================================================\n",
      "=========================================================================================================\n",
      "======================= terminated 19: first answer acquired from other agent ===============================\n",
      "=========================================================================================================\n",
      "=========================================================================================================\n",
      "======================= terminated 20: first answer acquired from other agent ===============================\n",
      "=========================================================================================================\n",
      "=========================================================================================================\n",
      "======================= terminated 22: first answer acquired from other agent ===============================\n",
      "=========================================================================================================\n",
      "constrained motion tried: False\n",
      "=========================================================================================================\n",
      "Motion Plan Failure\n",
      "======================= terminated 21: first answer acquired from other agent ===============================\n",
      "result: 1 - (1, 0)->(2, 0) = fail\n",
      "=========================================================================================================\n",
      "=========================================================================================================\n",
      "======================= terminated 17: first answer acquired from other agent ===============================\n",
      "=========================================================================================================\n",
      "constrained motion tried: False\n",
      "=========================================================================================================\n",
      "Motion Plan Failure\n",
      "======================= terminated 25: first answer acquired from other agent ===============================\n",
      "result: 14 - (1, 0)->(2, 0) = fail\n",
      "=========================================================================================================\n",
      "=========================================================================================================\n",
      "======================= terminated 26: first answer acquired from other agent ===============================\n",
      "=========================================================================================================\n",
      "=========================================================================================================\n"
     ]
    },
    {
     "name": "stdout",
     "output_type": "stream",
     "text": [
      "======================= terminated 24: first answer acquired from other agent ===============================\n",
      "=========================================================================================================\n",
      "=========================================================================================================\n",
      "======================= terminated 23: first answer acquired from other agent ===============================\n",
      "=========================================================================================================\n",
      "constrained motion tried: False\n",
      "Motion Plan Failure\n",
      "result: 13 - (1, 0)->(2, 0) = fail\n",
      "=========================================================================================================\n",
      "======================= terminated 14: first answer acquired from other agent ===============================\n",
      "=========================================================================================================\n",
      "=========================================================================================================\n",
      "======================= terminated 28: first answer acquired from other agent ===============================\n",
      "=========================================================================================================\n",
      "=========================================================================================================\n",
      "======================= terminated 26: first answer acquired from other agent ===============================\n",
      "=========================================================================================================\n",
      "=========================================================================================================\n",
      "======================= terminated 27: first answer acquired from other agent ===============================\n",
      "=========================================================================================================\n",
      "=========================================================================================================\n",
      "======================= terminated 29: first answer acquired from other agent ===============================\n",
      "=========================================================================================================\n",
      "constrained motion tried: False\n",
      "Motion Plan Failure\n",
      "result: 10 - (1, 0)->(2, 0) = fail\n",
      "=========================================================================================================\n",
      "=========================================================================================================\n",
      "=========================================================================================================\n",
      "======================= terminated 19: first answer acquired from other agent ===============================\n",
      "======================= terminated 30: first answer acquired from other agent ===============================\n",
      "=========================================================================================================\n",
      "=========================================================================================================\n",
      "constrained motion tried: False\n",
      "======================= terminated 32: first answer acquired from other agent ===============================\n",
      "=========================================================================================================\n",
      "=========================================================================================================\n",
      "Motion Plan Failure\n",
      "======================= terminated 18: first answer acquired ===============================\n",
      "=========================================================================================================\n",
      "result: 16 - (1, 0)->(2, 0) = fail\n",
      "=========================================================================================================\n",
      "======================= terminated 27: first answer acquired from other agent ===============================\n",
      "=========================================================================================================\n",
      "=========================================================================================================\n",
      "======================= terminated 33: first answer acquired from other agent ===============================\n",
      "=========================================================================================================\n",
      "=========================================================================================================\n",
      "constrained motion tried: False\n",
      "======================= terminated 31: first answer acquired from other agent ===============================\n",
      "Motion Plan Failure\n",
      "=========================================================================================================\n",
      "result: 7 - (1, 0)->(2, 0) = fail\n",
      "=========================================================================================================\n",
      "======================= terminated 21: first answer acquired from other agent ===============================\n",
      "=========================================================================================================\n",
      "=========================================================================================================\n",
      "======================= terminated 34: first answer acquired from other agent ===============================\n",
      "=========================================================================================================\n",
      "=========================================================================================================\n",
      "======================= terminated 35: first answer acquired from other agent ===============================\n",
      "=========================================================================================================\n",
      "constrained motion tried: False\n",
      "Motion Plan Failure\n",
      "result: 1 - (1, 0)->(2, 0) = fail\n",
      "=========================================================================================================\n",
      "======================= terminated 24: first answer acquired from other agent ===============================\n",
      "=========================================================================================================\n",
      "=========================================================================================================\n",
      "======================= terminated 0: first answer acquired ===============================\n",
      "=========================================================================================================\n",
      "constrained motion tried: False\n",
      "Motion Plan Failure\n",
      "result: 23 - (2, 1)->(2, 2) = fail\n",
      "=========================================================================================================\n",
      "======================= terminated 29: first answer acquired from other agent ===============================\n",
      "=========================================================================================================\n",
      "constrained motion tried: False\n",
      "Motion Plan Failure\n",
      "result: 24 - (2, 1)->(2, 2) = fail\n",
      "=========================================================================================================\n",
      "======================= terminated 25: first answer acquired from other agent ===============================\n",
      "=========================================================================================================\n",
      "constrained motion tried: False\n",
      "result: 28 - (2, 1)->(2, 2) = fail\n",
      "Motion Plan Failure\n",
      "constrained motion tried: False\n",
      "Motion Plan Failure\n",
      "=========================================================================================================\n",
      "======================= terminated 28: first answer acquired from other agent ===============================\n",
      "result: 24 - (2, 1)->(2, 2) = fail\n",
      "=========================================================================================================\n",
      "=========================================================================================================\n",
      "======================= terminated 1: first answer acquired from other agent ===============================\n",
      "=========================================================================================================\n",
      "constrained motion tried: False\n",
      "result: 30 - (2, 1)->(2, 2) = fail\n",
      "Motion Plan Failure\n",
      "=========================================================================================================\n"
     ]
    },
    {
     "name": "stdout",
     "output_type": "stream",
     "text": [
      "======================= terminated 12: first answer acquired from other agent ===============================\n",
      "=========================================================================================================\n",
      "constrained motion tried: False\n",
      "=========================================================================================================\n",
      "Motion Plan Failure\n",
      "result: 31 - (2, 1)->(2, 2) = fail\n",
      "======================= terminated 9: first answer acquired from other agent ===============================\n",
      "=========================================================================================================\n",
      "constrained motion tried: True\n",
      "result: 2 - (2, 1)->(2, 2) = success\n",
      "branching: 2->15 (1.46/10.0 s, steps/err: 193(1165.39001465 ms)/0.00152315030808)\n",
      "======================================================================================================================================================\n",
      "++ adding return motion to acquired answer ++\n",
      "=========================================================================================================\n",
      "======================= terminated 6: first answer acquired ===============================\n",
      "=========================================================================================================\n",
      "constrained motion tried: False\n",
      "Motion Plan Failure\n",
      "result: 3 - (2, 1)->(2, 2) = fail\n",
      "=========================================================================================================\n",
      "======================= terminated 2: first answer acquired from other agent ===============================\n",
      "=========================================================================================================\n",
      "constrained motion tried: False\n",
      "Motion Plan Failure\n",
      "result: 4 - (2, 1)->(2, 2) = fail\n",
      "=========================================================================================================\n",
      "======================= terminated 5: first answer acquired from other agent ===============================\n",
      "=========================================================================================================\n",
      "constrained motion tried: False\n",
      "Motion Plan Failure\n",
      "result: 4 - (2, 1)->(2, 2) = fail\n",
      "=========================================================================================================\n",
      "======================= terminated 8: first answer acquired from other agent ===============================\n",
      "=========================================================================================================\n"
     ]
    }
   ],
   "source": [
    "from pkg.utils.traj_utils import simplify_schedule, mix_schedule\n",
    "mplan.reset_log(False)\n",
    "gtimer.reset()\n",
    "tplan.prepare()\n",
    "mplan.update_gscene()\n",
    "    \n",
    "print(initial_state.node)\n",
    "\n",
    "gtimer.tic(\"firstmove\")\n",
    "obj_num = 0\n",
    "sweep_num = len(sweep_list)\n",
    "from_state = initial_state\n",
    "t_exe = None\n",
    "snode_schedule_all = []\n",
    "for sweep_idx in range(sweep_num):\n",
    "    gcheck.put_banned = [track_list[sweep_idx][2]]\n",
    "    sweep_goal = tuple([int(i_s<=sweep_idx)*2 for i_s in range(sweep_num)])\n",
    "#     sweep_goal = tuple([int(i_s<=sweep_idx)*2 for i_s in range(2)])+(0,)\n",
    "    goal_nodes = [(\"track_face\",)*obj_num+sweep_goal]\n",
    "    if sweep_idx < sweep_num-1:\n",
    "        for i_s in range(obj_num):\n",
    "            obj_goal = [\"track_face\"]*obj_num\n",
    "            obj_goal[i_s] = \"grip1\"\n",
    "            goal_nodes += [tuple(obj_goal)+sweep_goal]\n",
    "    gtimer.tic(\"plan{}\".format(sweep_idx))\n",
    "    ppline.search(from_state, goal_nodes, verbose=True, display=False, dt_vis=0.01, \n",
    "                  timeout_loop=10, multiprocess=True, timeout=1, timeout_constrained=2, add_homing=True, post_optimize=False)\n",
    "    gtimer.toc(\"plan{}\".format(sweep_idx))\n",
    "    schedules = ppline.tplan.find_schedules(False)\n",
    "    schedules_sorted = ppline.tplan.sort_schedule(schedules)\n",
    "    snode_schedule = ppline.tplan.idxSchedule2SnodeScedule(schedules_sorted[0])\n",
    "    snode_schedule_ori = snode_schedule\n",
    "    snode_schedule_simple = simplify_schedule(pscene, snode_schedule)\n",
    "    snode_schedule_safe = calculate_safe_schedule(pscene, snode_schedule_simple, 5, 1)\n",
    "#     double_sweep_motions(snode_schedule_safe)\n",
    "#     snode_schedule = snode_schedule_safe\n",
    "    snode_schedule = mix_schedule(mplan, snode_schedule_safe)\n",
    "    from_state = snode_schedule[-1].state\n",
    "    if t_exe:\n",
    "        t_exe.join()\n",
    "    else:\n",
    "        if len(snode_schedule_all)==0:\n",
    "            gtimer.toc(\"firstmove\")\n",
    "    snode_schedule_all.append(snode_schedule)\n",
    "#     t_exe = Thread(target=ppline.play_schedule, args = (snode_schedule,), kwargs=dict( period=0.01))\n",
    "#     t_exe.start()\n",
    "# t_exe.join()"
   ]
  },
  {
   "cell_type": "code",
   "execution_count": 41,
   "metadata": {},
   "outputs": [
    {
     "name": "stdout",
     "output_type": "stream",
     "text": [
      "go wipe the surface\n"
     ]
    }
   ],
   "source": [
    "section_success = len(snode_schedule_all) == sweep_num\n",
    "if section_success:\n",
    "    print(\"go wipe the surface\")\n",
    "else:\n",
    "    print(\"try other area\")"
   ]
  },
  {
   "cell_type": "code",
   "execution_count": 42,
   "metadata": {},
   "outputs": [],
   "source": [
    "sweep0 = sweep_list[0]"
   ]
  },
  {
   "cell_type": "code",
   "execution_count": 43,
   "metadata": {},
   "outputs": [
    {
     "data": {
      "text/plain": [
       "(0.68, 0.0, 0.3)"
      ]
     },
     "execution_count": 43,
     "metadata": {},
     "output_type": "execute_result"
    }
   ],
   "source": [
    "sweep0.geometry.center"
   ]
  },
  {
   "cell_type": "code",
   "execution_count": null,
   "metadata": {},
   "outputs": [],
   "source": []
  },
  {
   "cell_type": "code",
   "execution_count": null,
   "metadata": {},
   "outputs": [],
   "source": []
  },
  {
   "cell_type": "markdown",
   "metadata": {},
   "source": [
    "## refine sweep motions "
   ]
  },
  {
   "cell_type": "code",
   "execution_count": 44,
   "metadata": {},
   "outputs": [],
   "source": [
    "\n",
    "    \n",
    "def get_jacobian(gscene, gtem, Q):\n",
    "    Q_dict = list2dict(Q, gscene.joint_names)\n",
    "    Jac = []\n",
    "    for ij, jname in enumerate(gscene.joint_names):    \n",
    "        joint = gscene.urdf_content.joint_map[jname]\n",
    "        Tj = T_xyzrpy((joint.origin.xyz, joint.origin.rpy))\n",
    "        T_link = get_tf(joint.parent, Q_dict, gscene.urdf_content)\n",
    "        T_bj = np.matmul(T_link, Tj)\n",
    "        zi = np.matmul(T_bj[:3,:3], joint.axis)        \n",
    "        T_p = gtem.get_tf(Q_dict)\n",
    "        dpi = T_p[:3,3]-T_bj[:3,3]\n",
    "        zp = np.cross(zi, dpi)\n",
    "        Ji= np.concatenate([zp, zi])\n",
    "        Jac.append(Ji)\n",
    "    Jac = np.array(Jac).transpose()\n",
    "    return Jac\n",
    "    \n",
    "def make_sweep_traj(gscene, mplan, gtem, Traj):\n",
    "    SINGULARITY_CUT = 0.01\n",
    "    Qi = Traj[0]\n",
    "    Qf = Traj[-1]\n",
    "    len_traj = len(Traj)\n",
    "    \n",
    "    Qidict = list2dict(Qi, gscene.joint_names)\n",
    "    Qfdict = list2dict(Qf, gscene.joint_names)\n",
    "    Ti = gtem.get_tf(Qidict)\n",
    "    Tf = gtem.get_tf(Qfdict)\n",
    "    dPabs = np.linalg.norm(Tf[:3,3]-Ti[:3,3])\n",
    "    DP = dPabs/len_traj\n",
    "    DIR = np.concatenate([(Tf[:3,3]-Ti[:3,3])/dPabs, [0]*3])\n",
    "    Q=Qi\n",
    "    singularity = False\n",
    "    Traj_wipe = []\n",
    "    for _ in range(len_traj):\n",
    "        Jac = get_jacobian(gscene, gtem, Q)\n",
    "        if np.min(np.abs(np.real(np.linalg.svd(Jac)[1]))) <= SINGULARITY_CUT:\n",
    "            singularity = True\n",
    "            print(\"singular\")\n",
    "            break\n",
    "        Jinv = np.linalg.inv(Jac)\n",
    "        dQ=np.matmul(Jinv, np.multiply(DIR, DP))\n",
    "        Q = Q+dQ\n",
    "        Traj_wipe.append(Q)\n",
    "        dlim = np.subtract(RobotSpecs.get_joint_limits(RobotType.indy7), Q[:, np.newaxis])\n",
    "        if np.any(dlim[:,0] > 0):\n",
    "            print(\"min lim: {}\".format(np.where(dlim[:,0] > 0)[0]))\n",
    "            break\n",
    "        if np.any(dlim[:,1] < 0):\n",
    "            print(\"max lim: {}\".format(np.where(dlim[:,1] < 0)[0]))\n",
    "            break\n",
    "        if not mplan.validate_trajectory([Q]):\n",
    "            print(\"col\")\n",
    "            break\n",
    "        Tnew = gtem.get_tf(list2dict(Q, gscene.joint_names))\n",
    "        if np.abs(Ti[0,3]-Tnew[0,3])>0.01:\n",
    "            print(\"off\")\n",
    "            break\n",
    "    Traj_wipe.append(Qf)\n",
    "    Traj_wipe = np.array(Traj_wipe)\n",
    "    return Traj_wipe\n",
    "    \n",
    "\n",
    "def refine_sweep(pscene, mplan, snode_schedule):\n",
    "    for snode_pre, snode in zip(snode_schedule[:-1], snode_schedule[1:]):\n",
    "        breaker = False\n",
    "        for i_n, (ntem1, ntem2) in enumerate(zip(snode_pre.state.node, snode.state.node)):\n",
    "            if ntem1 != ntem2 and pscene.subject_type_list[i_n] == SweepLineTask:\n",
    "                if ntem1==1:\n",
    "                    gtem = gscene.NAME_DICT[snode.state.binding_state[i_n][-1]]\n",
    "                    snode.traj = make_sweep_traj(pscene.gscene, mplan, gtem, snode.traj)\n"
   ]
  },
  {
   "cell_type": "code",
   "execution_count": 45,
   "metadata": {},
   "outputs": [],
   "source": [
    "for snode_schedule in snode_schedule_all:\n",
    "    refine_sweep(pscene, mplan, snode_schedule)"
   ]
  },
  {
   "cell_type": "code",
   "execution_count": 46,
   "metadata": {
    "scrolled": true
   },
   "outputs": [
    {
     "name": "stdout",
     "output_type": "stream",
     "text": [
      "(0, 0)->(0, 0)\n",
      "(0, 0)->(1, 0)\n",
      "(1, 0)->(2, 0)\n",
      "(2, 0)->(2, 0)\n",
      "(2, 0)->(2, 1)\n",
      "(2, 1)->(2, 2)\n",
      "(2, 2)->(2, 2)\n"
     ]
    }
   ],
   "source": [
    "for snode_schedule in snode_schedule_all:\n",
    "    ppline.play_schedule(snode_schedule, period=0.002)"
   ]
  },
  {
   "cell_type": "code",
   "execution_count": null,
   "metadata": {},
   "outputs": [],
   "source": []
  },
  {
   "cell_type": "markdown",
   "metadata": {},
   "source": [
    "### Test task motion"
   ]
  },
  {
   "cell_type": "code",
   "execution_count": 47,
   "metadata": {},
   "outputs": [],
   "source": [
    "Traj = ppline.tplan.snode_dict[15].traj\n",
    "gscene.show_motion(Traj)"
   ]
  },
  {
   "cell_type": "code",
   "execution_count": null,
   "metadata": {},
   "outputs": [],
   "source": []
  },
  {
   "cell_type": "code",
   "execution_count": 92,
   "metadata": {},
   "outputs": [
    {
     "name": "stdout",
     "output_type": "stream",
     "text": [
      "singular\n"
     ]
    }
   ],
   "source": [
    "gtem = gscene.NAME_DICT[\"brush_face\"]\n",
    "SINGULARITY_CUT = 0.01\n",
    "Q0 = np.copy(Traj[-1])\n",
    "Q0dict = list2dict(Q0, gscene.joint_names)\n",
    "T0 = gtem.get_tf(Q0dict)\n",
    "DP = 0.01\n",
    "DIR = [0,1,0,0,0,0]\n",
    "Q=Q0\n",
    "singularity = False\n",
    "Traj_left = []\n",
    "for _ in range(1000):\n",
    "    Jac = get_jacobian(gscene, gtem, Q)\n",
    "    if np.min(np.abs(np.real(np.linalg.svd(Jac)[1]))) <= SINGULARITY_CUT:\n",
    "        singularity = True\n",
    "        print(\"singular\")\n",
    "        break\n",
    "    Jinv = np.linalg.inv(Jac)\n",
    "    dQ=np.matmul(Jinv, np.multiply(DIR, DP))\n",
    "    Q = Q+dQ\n",
    "    Traj_left.append(Q)\n",
    "    dlim = np.subtract(RobotSpecs.get_joint_limits(RobotType.indy7), Q[:, np.newaxis])\n",
    "    if np.any(dlim[:,0] > 0):\n",
    "        print(\"min lim: {}\".format(np.where(dlim[:,0] > 0)[0]))\n",
    "        break\n",
    "    if np.any(dlim[:,1] < 0):\n",
    "        print(\"max lim: {}\".format(np.where(dlim[:,1] < 0)[0]))\n",
    "        break\n",
    "#     if not mplan.validate_trajectory([Q]):\n",
    "#         print(\"col\")\n",
    "#         break\n",
    "#     Tnew = gtem.get_tf(list2dict(Q, gscene.joint_names))\n",
    "#     if np.abs(T0[0,3]-Tnew[0,3])>0.01:\n",
    "#         print(\"off\")\n",
    "#         break"
   ]
  },
  {
   "cell_type": "code",
   "execution_count": 56,
   "metadata": {},
   "outputs": [],
   "source": [
    "gscene.show_motion(np.array(Traj_left)[::1, :])"
   ]
  },
  {
   "cell_type": "code",
   "execution_count": 51,
   "metadata": {},
   "outputs": [
    {
     "data": {
      "text/plain": [
       "(0.44, 0.005)"
      ]
     },
     "execution_count": 51,
     "metadata": {},
     "output_type": "execute_result"
    }
   ],
   "source": [
    "track.center[0], track.center[1]"
   ]
  },
  {
   "cell_type": "code",
   "execution_count": null,
   "metadata": {},
   "outputs": [],
   "source": []
  },
  {
   "cell_type": "code",
   "execution_count": null,
   "metadata": {
    "scrolled": false
   },
   "outputs": [],
   "source": [
    "print(gtimer)"
   ]
  },
  {
   "cell_type": "code",
   "execution_count": null,
   "metadata": {},
   "outputs": [],
   "source": [
    "# for i_ss, snode_schedule in enumerate(snode_schedule_all):\n",
    "#     for i_s, snode in enumerate(snode_schedule):\n",
    "#         if snode.traj is not None:\n",
    "#             save_json(\"data/traj_{}_{}.json\".format(i_ss, i_s), snode.traj[:,:6])"
   ]
  },
  {
   "cell_type": "markdown",
   "metadata": {},
   "source": [
    "### play schedule"
   ]
  },
  {
   "cell_type": "code",
   "execution_count": null,
   "metadata": {},
   "outputs": [],
   "source": [
    "for snode_schedule in snode_schedule_all:\n",
    "    ppline.play_schedule(snode_schedule, period=0.001)"
   ]
  },
  {
   "cell_type": "code",
   "execution_count": null,
   "metadata": {},
   "outputs": [],
   "source": []
  }
 ],
 "metadata": {
  "kernelspec": {
   "display_name": "Python 2",
   "language": "python",
   "name": "python2"
  },
  "language_info": {
   "codemirror_mode": {
    "name": "ipython",
    "version": 2
   },
   "file_extension": ".py",
   "mimetype": "text/x-python",
   "name": "python",
   "nbconvert_exporter": "python",
   "pygments_lexer": "ipython2",
   "version": "2.7.17"
  }
 },
 "nbformat": 4,
 "nbformat_minor": 2
}
