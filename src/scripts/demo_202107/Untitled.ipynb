{
 "cells": [
  {
   "cell_type": "markdown",
   "metadata": {},
   "source": [
    "# TODO LIST\n",
    "====================="
   ]
  },
  {
   "cell_type": "markdown",
   "metadata": {},
   "source": [
    "#### 중요 사항\n",
    "* 돌면서 침대 찾기\n",
    "* 베개 처리\n",
    "* 글로벌 좌표계 기준으로 현재 위치 반영해 동작하기\n",
    "* 상두대 닦기 동작 구현\n",
    "* 이미지를 서버에서 스트림 저장하고 한번에 받기\n",
    "\n",
    "#### 추가 사항\n",
    "  * Open3D 오프셋 고려한 initial_offset 자동 계산\n",
    "  * plane fitting으로 천장 있을 경우 판단해 제거"
   ]
  },
  {
   "cell_type": "code",
   "execution_count": null,
   "metadata": {},
   "outputs": [],
   "source": []
  }
 ],
 "metadata": {
  "kernelspec": {
   "display_name": "Python 2",
   "language": "python",
   "name": "python2"
  },
  "language_info": {
   "codemirror_mode": {
    "name": "ipython",
    "version": 2
   },
   "file_extension": ".py",
   "mimetype": "text/x-python",
   "name": "python",
   "nbconvert_exporter": "python",
   "pygments_lexer": "ipython2",
   "version": "2.7.17"
  }
 },
 "nbformat": 4,
 "nbformat_minor": 2
}
