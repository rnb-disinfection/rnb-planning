{
 "cells": [
  {
   "cell_type": "markdown",
   "metadata": {},
   "source": [
    "##  요청 사항\n",
    "* IndySDK 설치 요청\n",
    "* 스펀지 더 말랑말랑 하게\n",
    "\n",
    "## Info\n",
    "* 192.168.0.10 pw:kiro0209"
   ]
  },
  {
   "cell_type": "markdown",
   "metadata": {},
   "source": [
    "## 추가구현\n",
    "### TBD\n",
    "#### 동작\n",
    "* local map 적용\n",
    "    * SharedMemoryHost, SharedMemoryClient 구현\n",
    "    * 주기적 맵 리더 구현\n",
    "    * 맵 픽셀들 충돌 안함, 이상\n",
    "    * approach through 발생 안함, 뭔가 이상\n",
    "* 세로 닦기로 전략 변경\n",
    "    * 끝단에서만 위치 보정하기\n",
    "* bed 영역 최대한 맞추기 - 다리쪽 10cm 정도 추가\n",
    "* 추가요소\n",
    "    * ros로 모바일 로봇 제어하기 - KiroMobileClient 구현 - 메시지 타입 요청\n",
    "  \n",
    "#### 인식\n",
    "* full view 인식할 때 벽 피팅\n",
    "* front ICP 체크 필요 - closet 확인\n",
    "* ICP 모듈화 후 느려짐 - 속도 분석 및 최적화"
   ]
  },
  {
   "cell_type": "markdown",
   "metadata": {},
   "source": [
    "### DONE\n",
    "#### 동작\n",
    "* reach data 수집 시 모바일 베이스 위에서 수집, 모바일 앞쪽 충돌 경계랑 베드 높이랑 맞춰서 수집해놓기 v\n",
    "* 닦기 순서 바꾸기 - 옷장 -> 베드 v\n",
    "* 스케줄간 동작 연결 v\n",
    "* 물체 방향 따라 근접샷 자세 잡기 v\n",
    "* 중간 감지 결과 따라 로봇을 움직이기 - 병합/실험 시 적용 v\n",
    "* 현장에서 플래닝시 오래 멈춤 - 멀티프로세스 중단 딜레이, 원인 파악 불가? x\n",
    "* 최대한 안움직이고 닦기 + 동작 간 연결하기 v\n",
    "* KiroMobileRobot 클래스화 v\n",
    "* 침대 닦을때 옷장 보고 닦기 v\n",
    "* view motion 다른 com link 경우 수정 필요 v\n",
    "* 스크립트 정리 v\n",
    "* safe waypoint 구현 v\n",
    "* v tool offset 여유있게 + 모바일 로봇으로 밀어서 닦기\n",
    "* 베이스 조정 전 동작 업데이트 시도 - 각도 빼고 위치만 v\n",
    "* ros로 맵 정보 얻기 - 목표점 충돌 가능성 확인 필요\n",
    "  - master를 ip 통한 방법 숙지 v\n",
    "  - 10/25 현장에서 데이터 받아올 것 v\n",
    "  - 플래닝 프레임워크에 맵 정보 추가 구현하기 (map_data.pkl, cost_data.pkl 참고) v\n",
    "  \n",
    "\n",
    "#### 인식\n",
    "* 정면 인식 불확실성 해결 v\n",
    "  - 제일 가까운 포인트를 침대 다리부분으로 가정, 바닥 각도만 맞춰서 초기화 하고 ICP 시도 + 기본 ICP 해서 더 잘 맞은 쪽 선택하기 시도\n",
    "* 옷장 근접 인식 - 부분 피팅 + 방향 에러 -> 위치 에러\n",
    "  - 찍힌 부분 중심 Transformation v\n",
    "  - 스캔 다 해서 피팅 x\n",
    "* 물체 간 관계 모순 발생 -> full view 추가해서 해결\n",
    "* 추가 요소\n",
    "  * 전체 환경 reconsruction에 촬영 이미지를 추가 + 현재 위치 맞추는 방식 - drop\n",
    "    - 한 요소 이동 방식으로는 두 요소간 위치 관계 반영 안됨 (한개 중심으로 맞추면 다른게 틀어짐)\n",
    "    - 옷장 닦다가 침대 충돌, 해결 필요\n",
    "* multi ICP module v\n",
    "* 지오메트리 기반 point in/out v"
   ]
  },
  {
   "cell_type": "code",
   "execution_count": null,
   "metadata": {},
   "outputs": [],
   "source": []
  },
  {
   "cell_type": "markdown",
   "metadata": {},
   "source": [
    "## ROS TCP/IP 연동 \n",
    "\n",
    "### IP setting\n",
    "#### Master\n",
    "```bash\n",
    "export ROS_IP={master-ip}\n",
    "export ROS_MASTER_URI=http://localhost:11311\n",
    "export ROS_HOSTNAME=$ROS_IP\n",
    "```  \n",
    "#### Slave \n",
    "```bash\n",
    "export ROS_MASTER_URI=http://{master-ip}:11311\n",
    "export ROS_HOSTNAME={slave-ip}\n",
    "```"
   ]
  },
  {
   "cell_type": "code",
   "execution_count": 1,
   "metadata": {},
   "outputs": [],
   "source": [
    "Packet_data=tuple((4.71,  1.72, -0.71,  0.71))+tuple((0,))"
   ]
  },
  {
   "cell_type": "code",
   "execution_count": 11,
   "metadata": {},
   "outputs": [],
   "source": [
    "udp_send_data = struct.pack('>ffffi',*Packet_data)"
   ]
  },
  {
   "cell_type": "code",
   "execution_count": 15,
   "metadata": {},
   "outputs": [],
   "source": [
    "import socket\n",
    "from demo_utils.kiro_udp_send import start_mobile_udp_thread, send_pose_wait, get_xyzw_cur, get_reach_state, UDP_PORT_SEND, struct, UDP_PORT_RECV, RECV_UDP_IP"
   ]
  },
  {
   "cell_type": "code",
   "execution_count": 18,
   "metadata": {},
   "outputs": [],
   "source": [
    "recv_ip = \"192.168.0.8\""
   ]
  },
  {
   "cell_type": "code",
   "execution_count": 19,
   "metadata": {},
   "outputs": [],
   "source": [
    "sock = socket.socket(socket.AF_INET, socket.SOCK_DGRAM) # UDP\n",
    "sock.setsockopt(socket.SOL_SOCKET, socket.SO_REUSEADDR, 1)\n",
    "sock.bind((recv_ip, UDP_PORT_RECV))"
   ]
  },
  {
   "cell_type": "code",
   "execution_count": 20,
   "metadata": {},
   "outputs": [
    {
     "data": {
      "text/plain": [
       "20"
      ]
     },
     "execution_count": 20,
     "metadata": {},
     "output_type": "execute_result"
    }
   ],
   "source": [
    "send_ip = \"192.168.0.102\"\n",
    "\n",
    "sock.sendto(udp_send_data,(send_ip, UDP_PORT_SEND))"
   ]
  },
  {
   "cell_type": "code",
   "execution_count": 7,
   "metadata": {
    "scrolled": true
   },
   "outputs": [
    {
     "ename": "ImportError",
     "evalue": "cannot import name Packet_data",
     "output_type": "error",
     "traceback": [
      "\u001b[0;31m---------------------------------------------------------------------------\u001b[0m",
      "\u001b[0;31mImportError\u001b[0m                               Traceback (most recent call last)",
      "\u001b[0;32m<ipython-input-7-8f2fb70c90e6>\u001b[0m in \u001b[0;36m<module>\u001b[0;34m()\u001b[0m\n\u001b[0;32m----> 1\u001b[0;31m \u001b[0;32mfrom\u001b[0m \u001b[0mdemo_utils\u001b[0m\u001b[0;34m.\u001b[0m\u001b[0mkiro_udp_send\u001b[0m \u001b[0;32mimport\u001b[0m \u001b[0mstart_mobile_udp_thread\u001b[0m\u001b[0;34m,\u001b[0m \u001b[0msend_pose_wait\u001b[0m\u001b[0;34m,\u001b[0m \u001b[0mget_xyzw_cur\u001b[0m\u001b[0;34m,\u001b[0m \u001b[0mget_reach_state\u001b[0m\u001b[0;34m,\u001b[0m \u001b[0mUDP_PORT_SEND\u001b[0m\u001b[0;34m,\u001b[0m \u001b[0mstruct\u001b[0m\u001b[0;34m,\u001b[0m \u001b[0mPacket_data\u001b[0m\u001b[0;34m\u001b[0m\u001b[0m\n\u001b[0m",
      "\u001b[0;31mImportError\u001b[0m: cannot import name Packet_data"
     ]
    }
   ],
   "source": []
  },
  {
   "cell_type": "code",
   "execution_count": null,
   "metadata": {},
   "outputs": [],
   "source": []
  },
  {
   "cell_type": "markdown",
   "metadata": {},
   "source": [
    "### Check topics"
   ]
  },
  {
   "cell_type": "code",
   "execution_count": 1,
   "metadata": {},
   "outputs": [
    {
     "name": "stdout",
     "output_type": "stream",
     "text": [
      "\r\n",
      "Published topics:\r\n",
      " * /map_metadata [nav_msgs/MapMetaData] 1 publisher\r\n",
      " * /move_base/global_costmap/costmap_updates [map_msgs/OccupancyGridUpdate] 1 publisher\r\n",
      " * /amcl_pose [geometry_msgs/PoseWithCovarianceStamped] 1 publisher\r\n",
      " * /move_base/current_goal [geometry_msgs/PoseStamped] 1 publisher\r\n",
      " * /scan2 [sensor_msgs/LaserScan] 1 publisher\r\n",
      " * /velodyne_nodelet_manager_cloud/parameter_descriptions [dynamic_reconfigure/ConfigDescription] 1 publisher\r\n",
      " * /move_base/local_costmap/inflation_layer/parameter_descriptions [dynamic_reconfigure/ConfigDescription] 1 publisher\r\n",
      " * /velodyne_nodelet_manager_driver/parameter_updates [dynamic_reconfigure/Config] 1 publisher\r\n",
      " * /move_base/global_costmap/parameter_updates [dynamic_reconfigure/Config] 1 publisher\r\n",
      " * /rosout_agg [rosgraph_msgs/Log] 1 publisher\r\n",
      " * /clicked_point [geometry_msgs/PointStamped] 1 publisher\r\n",
      " * /move_base/local_costmap/costmap [nav_msgs/OccupancyGrid] 1 publisher\r\n",
      " * /odom [nav_msgs/Odometry] 1 publisher\r\n",
      " * /move_base/global_costmap/static_layer/parameter_updates [dynamic_reconfigure/Config] 1 publisher\r\n",
      " * /scan [sensor_msgs/LaserScan] 1 publisher\r\n",
      " * /move_base/DWAPlannerROS/parameter_descriptions [dynamic_reconfigure/ConfigDescription] 1 publisher\r\n",
      " * /set_position [dynamixel_sdk_examples/SetPosition] 1 publisher\r\n",
      " * /move_base/status [actionlib_msgs/GoalStatusArray] 1 publisher\r\n",
      " * /move_base/local_costmap/inflation_layer/parameter_updates [dynamic_reconfigure/Config] 1 publisher\r\n",
      " * /velodyne_nodelet_manager/bond [bond/Status] 3 publishers\r\n",
      " * /move_base/global_costmap/static_layer/parameter_descriptions [dynamic_reconfigure/ConfigDescription] 1 publisher\r\n",
      " * /move_base/local_costmap/costmap_updates [map_msgs/OccupancyGridUpdate] 1 publisher\r\n",
      " * /move_base/NavfnROS/plan [nav_msgs/Path] 1 publisher\r\n",
      " * /move_base/local_costmap/parameter_descriptions [dynamic_reconfigure/ConfigDescription] 1 publisher\r\n",
      " * /velodyne_packets [velodyne_msgs/VelodyneScan] 1 publisher\r\n",
      " * /move_base/DWAPlannerROS/trajectory_cloud [sensor_msgs/PointCloud2] 1 publisher\r\n",
      " * /move_base/parameter_updates [dynamic_reconfigure/Config] 1 publisher\r\n",
      " * /tf_static [tf2_msgs/TFMessage] 1 publisher\r\n",
      " * /move_base/global_costmap/inflation_layer/parameter_updates [dynamic_reconfigure/Config] 1 publisher\r\n",
      " * /particlecloud [geometry_msgs/PoseArray] 1 publisher\r\n",
      " * /move_base/global_costmap/obstacle_layer/parameter_updates [dynamic_reconfigure/Config] 1 publisher\r\n",
      " * /map [nav_msgs/OccupancyGrid] 1 publisher\r\n",
      " * /diagnostics [diagnostic_msgs/DiagnosticArray] 3 publishers\r\n",
      " * /cmd_vel [geometry_msgs/Twist] 3 publishers\r\n",
      " * /move_base/local_costmap/parameter_updates [dynamic_reconfigure/Config] 1 publisher\r\n",
      " * /move_base/local_costmap/obstacle_layer/parameter_updates [dynamic_reconfigure/Config] 1 publisher\r\n",
      " * /move_base/DWAPlannerROS/cost_cloud [sensor_msgs/PointCloud2] 1 publisher\r\n",
      " * /move_base/global_costmap/footprint [geometry_msgs/PolygonStamped] 1 publisher\r\n",
      " * /velodyne_nodelet_manager_driver/parameter_descriptions [dynamic_reconfigure/ConfigDescription] 1 publisher\r\n",
      " * /joint_states [sensor_msgs/JointState] 1 publisher\r\n",
      " * /rosout [rosgraph_msgs/Log] 17 publishers\r\n",
      " * /velodyne_points [sensor_msgs/PointCloud2] 1 publisher\r\n",
      " * /move_base/local_costmap/obstacle_layer/parameter_descriptions [dynamic_reconfigure/ConfigDescription] 1 publisher\r\n",
      " * /move_base/goal [move_base_msgs/MoveBaseActionGoal] 1 publisher\r\n",
      " * /initialpose [geometry_msgs/PoseWithCovarianceStamped] 1 publisher\r\n",
      " * /move_base_simple/goal [geometry_msgs/PoseStamped] 2 publishers\r\n",
      " * /tf [tf2_msgs/TFMessage] 5 publishers\r\n",
      " * /move_base/local_costmap/footprint [geometry_msgs/PolygonStamped] 1 publisher\r\n",
      " * /move_base/DWAPlannerROS/global_plan [nav_msgs/Path] 1 publisher\r\n",
      " * /move_base/global_costmap/obstacle_layer/parameter_descriptions [dynamic_reconfigure/ConfigDescription] 1 publisher\r\n",
      " * /amcl/parameter_updates [dynamic_reconfigure/Config] 1 publisher\r\n",
      " * /move_base/DWAPlannerROS/local_plan [nav_msgs/Path] 1 publisher\r\n",
      " * /move_base/global_costmap/inflation_layer/parameter_descriptions [dynamic_reconfigure/ConfigDescription] 1 publisher\r\n",
      " * /Kiro_Info/lift_complete [kiro_msgs/kiro_info] 1 publisher\r\n",
      " * /move_base/parameter_descriptions [dynamic_reconfigure/ConfigDescription] 1 publisher\r\n",
      " * /velodyne_nodelet_manager_cloud/parameter_updates [dynamic_reconfigure/Config] 1 publisher\r\n",
      " * /amcl/parameter_descriptions [dynamic_reconfigure/ConfigDescription] 1 publisher\r\n",
      " * /move_base/result [move_base_msgs/MoveBaseActionResult] 1 publisher\r\n",
      " * /joy [sensor_msgs/Joy] 1 publisher\r\n",
      " * /move_base/feedback [move_base_msgs/MoveBaseActionFeedback] 1 publisher\r\n",
      " * /move_base/global_costmap/parameter_descriptions [dynamic_reconfigure/ConfigDescription] 1 publisher\r\n",
      " * /move_base/DWAPlannerROS/parameter_updates [dynamic_reconfigure/Config] 1 publisher\r\n",
      " * /move_base/global_costmap/costmap [nav_msgs/OccupancyGrid] 1 publisher\r\n",
      "\r\n",
      "Subscribed topics:\r\n",
      " * /move_base/global_costmap/costmap_updates [map_msgs/OccupancyGridUpdate] 1 subscriber\r\n",
      " * /scan2 [sensor_msgs/LaserScan] 2 subscribers\r\n",
      " * /move_base/local_costmap/footprint [geometry_msgs/PolygonStamped] 1 subscriber\r\n",
      " * /tf [tf2_msgs/TFMessage] 6 subscribers\r\n",
      " * /Kiro_Info/lift_position [kiro_msgs/kiro_info] 1 subscriber\r\n",
      " * /move_base/local_costmap/costmap [nav_msgs/OccupancyGrid] 1 subscriber\r\n",
      " * /Kiro_Info/approach_point [kiro_msgs/kiro_info] 1 subscriber\r\n",
      " * /odom [nav_msgs/Odometry] 1 subscriber\r\n",
      " * /scan [sensor_msgs/LaserScan] 2 subscribers\r\n",
      " * /set_position [dynamixel_sdk_examples/SetPosition] 1 subscriber\r\n",
      " * /Kiro_Info/move_point [kiro_msgs/kiro_info] 1 subscriber\r\n",
      " * /velodyne_nodelet_manager/bond [bond/Status] 3 subscribers\r\n",
      " * /move_base/local_costmap/costmap_updates [map_msgs/OccupancyGridUpdate] 1 subscriber\r\n",
      " * /move_base/NavfnROS/plan [nav_msgs/Path] 1 subscriber\r\n",
      " * /particlecloud [geometry_msgs/PoseArray] 1 subscriber\r\n",
      " * /tf_static [tf2_msgs/TFMessage] 6 subscribers\r\n",
      " * /velodyne_packets [velodyne_msgs/VelodyneScan] 1 subscriber\r\n",
      " * /move_base/global_costmap/costmap [nav_msgs/OccupancyGrid] 1 subscriber\r\n",
      " * /map_updates [map_msgs/OccupancyGridUpdate] 1 subscriber\r\n",
      " * /map [nav_msgs/OccupancyGrid] 2 subscribers\r\n",
      " * /cmd_vel [geometry_msgs/Twist] 1 subscriber\r\n",
      " * /move_base/global_costmap/footprint [geometry_msgs/PolygonStamped] 2 subscribers\r\n",
      " * /joint_states [sensor_msgs/JointState] 1 subscriber\r\n",
      " * /rosout [rosgraph_msgs/Log] 1 subscriber\r\n",
      " * /velodyne_points [sensor_msgs/PointCloud2] 2 subscribers\r\n",
      " * /joy/set_feedback [sensor_msgs/JoyFeedbackArray] 1 subscriber\r\n",
      " * /initialpose [geometry_msgs/PoseWithCovarianceStamped] 1 subscriber\r\n",
      " * /move_base_simple/goal [geometry_msgs/PoseStamped] 1 subscriber\r\n",
      " * /move_base/goal [move_base_msgs/MoveBaseActionGoal] 1 subscriber\r\n",
      " * /move_base/result [move_base_msgs/MoveBaseActionResult] 1 subscriber\r\n",
      " * /joy [sensor_msgs/Joy] 2 subscribers\r\n",
      " * /move_base/cancel [actionlib_msgs/GoalID] 1 subscriber\r\n",
      " * /move_base/DWAPlannerROS/local_plan [nav_msgs/Path] 1 subscriber\r\n",
      "\r\n"
     ]
    }
   ],
   "source": [
    "!rostopic list -v"
   ]
  },
  {
   "cell_type": "code",
   "execution_count": null,
   "metadata": {},
   "outputs": [],
   "source": []
  },
  {
   "cell_type": "markdown",
   "metadata": {},
   "source": [
    "### Listener script"
   ]
  },
  {
   "cell_type": "code",
   "execution_count": 35,
   "metadata": {},
   "outputs": [],
   "source": [
    "import rospy\n",
    "from sensor_msgs.msg import JointState\n",
    "from std_msgs.msg import String\n",
    "from nav_msgs.msg import OccupancyGrid\n",
    "NODE_NAME = \"listen_tester\"\n",
    "rospy.init_node(NODE_NAME, anonymous=True)\n",
    "    \n",
    "class Listener:\n",
    "    \n",
    "    def __init__(self, topic_name, topic_type):\n",
    "        self.topic_name, self.topic_type = topic_name, topic_type\n",
    "        self.data_stack = []\n",
    "\n",
    "    def callback(self, data):\n",
    "        rospy.loginfo(rospy.get_caller_id() + \"I heard %s\", data.data)\n",
    "        self.data_stack.append(data)\n",
    "        \n",
    "    def get_data(self, timeout=5):\n",
    "        return rospy.wait_for_message(self.topic_name, self.topic_type, \n",
    "                                      timeout=timeout)\n",
    "\n",
    "    ##\n",
    "    # @brief spin() simply keeps python from exiting until this node is stopped\n",
    "    def spin(self):\n",
    "        rospy.Subscriber(self.topic_name, self.topic_type, self.callback)\n",
    "        rospy.spin()    "
   ]
  },
  {
   "cell_type": "code",
   "execution_count": 36,
   "metadata": {},
   "outputs": [],
   "source": [
    "map_listener = Listener(topic_name=\"/map\", topic_type=OccupancyGrid)\n",
    "cost_listener = Listener(topic_name=\"/move_base/global_costmap/costmap\", topic_type=OccupancyGrid)"
   ]
  },
  {
   "cell_type": "code",
   "execution_count": 37,
   "metadata": {},
   "outputs": [],
   "source": [
    "map_data = map_listener.get_data()\n",
    "cost_data = cost_listener.get_data()"
   ]
  },
  {
   "cell_type": "code",
   "execution_count": null,
   "metadata": {},
   "outputs": [],
   "source": []
  },
  {
   "cell_type": "code",
   "execution_count": 44,
   "metadata": {},
   "outputs": [],
   "source": [
    "import numpy as np\n",
    "import cv2"
   ]
  },
  {
   "cell_type": "code",
   "execution_count": 45,
   "metadata": {},
   "outputs": [],
   "source": [
    "import os\n",
    "import sys\n",
    "sys.path.append(os.path.join(os.path.join(os.environ[\"RNB_PLANNING_DIR\"], 'src')))"
   ]
  },
  {
   "cell_type": "code",
   "execution_count": 46,
   "metadata": {},
   "outputs": [],
   "source": [
    "from pkg.utils.utils import *"
   ]
  },
  {
   "cell_type": "code",
   "execution_count": 59,
   "metadata": {},
   "outputs": [],
   "source": [
    "def convert_map_cm(map_data):\n",
    "    map_size = (map_data.info.height, map_data.info.width)\n",
    "    map_im = (np.reshape(map_data.data, map_size)+1).astype(np.uint8)\n",
    "    res_ratio = map_data.info.resolution / 0.01\n",
    "    map_im_cm = cv2.resize(map_im, dsize=None, fx=res_ratio, fy=res_ratio)\n",
    "    return map_im_cm"
   ]
  },
  {
   "cell_type": "code",
   "execution_count": 60,
   "metadata": {},
   "outputs": [],
   "source": [
    "bin_map = convert_map_cm(map_data)"
   ]
  },
  {
   "cell_type": "code",
   "execution_count": 61,
   "metadata": {},
   "outputs": [
    {
     "data": {
      "text/plain": [
       "<matplotlib.image.AxesImage at 0x7f9de80ba2d0>"
      ]
     },
     "execution_count": 61,
     "metadata": {},
     "output_type": "execute_result"
    },
    {
     "data": {
      "image/png": "[encoded data removed]",
      "text/plain": [
       "<Figure size 432x288 with 1 Axes>"
      ]
     },
     "metadata": {
      "needs_background": "light"
     },
     "output_type": "display_data"
    }
   ],
   "source": [
    "plt.imshow(bin_map)"
   ]
  },
  {
   "cell_type": "code",
   "execution_count": 62,
   "metadata": {},
   "outputs": [],
   "source": [
    "cost_map = convert_map_cm(cost_data)"
   ]
  },
  {
   "cell_type": "code",
   "execution_count": 63,
   "metadata": {},
   "outputs": [
    {
     "data": {
      "text/plain": [
       "<matplotlib.image.AxesImage at 0x7f9de802be90>"
      ]
     },
     "execution_count": 63,
     "metadata": {},
     "output_type": "execute_result"
    },
    {
     "data": {
      "image/png": "[encoded data removed]",
      "text/plain": [
       "<Figure size 432x288 with 1 Axes>"
      ]
     },
     "metadata": {
      "needs_background": "light"
     },
     "output_type": "display_data"
    }
   ],
   "source": [
    "plt.imshow(cost_map)"
   ]
  },
  {
   "cell_type": "code",
   "execution_count": 65,
   "metadata": {},
   "outputs": [],
   "source": [
    "save_pickle(os.path.join(os.environ[\"RNB_PLANNING_DIR\"],\"data/map_data.pkl\"), map_data)\n",
    "save_pickle(os.path.join(os.environ[\"RNB_PLANNING_DIR\"],\"data/cost_data.pkl\"), cost_data)"
   ]
  },
  {
   "cell_type": "code",
   "execution_count": null,
   "metadata": {},
   "outputs": [],
   "source": []
  },
  {
   "cell_type": "code",
   "execution_count": null,
   "metadata": {},
   "outputs": [],
   "source": []
  }
 ],
 "metadata": {
  "kernelspec": {
   "display_name": "Python 2",
   "language": "python",
   "name": "python2"
  },
  "language_info": {
   "codemirror_mode": {
    "name": "ipython",
    "version": 2
   },
   "file_extension": ".py",
   "mimetype": "text/x-python",
   "name": "python",
   "nbconvert_exporter": "python",
   "pygments_lexer": "ipython2",
   "version": "2.7.17"
  }
 },
 "nbformat": 4,
 "nbformat_minor": 2
}
