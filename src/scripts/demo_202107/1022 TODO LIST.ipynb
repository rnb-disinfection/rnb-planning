{
 "cells": [
  {
   "cell_type": "markdown",
   "metadata": {},
   "source": [
    "##  요청 사항\n",
    "* IndySDK 설치 요청"
   ]
  },
  {
   "cell_type": "markdown",
   "metadata": {},
   "source": [
    "## 추가구현\n",
    "### 동작\n",
    "* reach data 수집 시 모바일 베이스 위에서 수집, 모바일 앞쪽 충돌 경계랑 베드 높이랑 맞춰서 수집해놓기\n",
    "* 스케줄간 동작 연결\n",
    "* 닦기 순서 바꾸기 - 옷장 -> 베드\n",
    "* 툴 각도 맞추기\n",
    "* 물체 방향 따라 근접샷 자세 잡기\n",
    "* 추가요소\n",
    "  * ros로 맵 정보 얻기 - 목표점 충돌 가능성 확인 필요\n",
    "    - master를 ip 통해서 지정 - 일단 방법 숙지\n",
    "  * 옆으로 동작하기\n",
    "  * 모션 재생성시 이동 한 뒤에 자세 뒤집는 경우 발생\n",
    "### 인식\n",
    "* 정면 인식 불확실성 해결\n",
    "  - 제일 가까운 포인트를 침대 다리부분으로 가정, 바닥 각도만 맞춰서 초기화 하고 ICP 시도 + 기본 ICP 해서 더 잘 맞은 쪽 선택하기 시도\n",
    "* 옷장 근접 인식 - 부분 피팅 + 방향 에러 -> 위치 에러\n",
    "  - 찍힌 부분 중심 Transformation\n",
    "  - 스캔 다 해서 피팅\n",
    "* 침대 인식 부정확 - 전반적으로 홈 위치에 가깝게 인식되는 경향 있음"
   ]
  },
  {
   "cell_type": "code",
   "execution_count": null,
   "metadata": {},
   "outputs": [],
   "source": []
  }
 ],
 "metadata": {
  "kernelspec": {
   "display_name": "Python 2",
   "language": "python",
   "name": "python2"
  },
  "language_info": {
   "codemirror_mode": {
    "name": "ipython",
    "version": 2
   },
   "file_extension": ".py",
   "mimetype": "text/x-python",
   "name": "python",
   "nbconvert_exporter": "python",
   "pygments_lexer": "ipython2",
   "version": "2.7.17"
  }
 },
 "nbformat": 4,
 "nbformat_minor": 2
}
