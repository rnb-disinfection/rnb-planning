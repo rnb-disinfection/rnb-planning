{
 "cells": [
  {
   "cell_type": "markdown",
   "metadata": {},
   "source": [
    "##  요청 사항\n",
    "* IndySDK 설치 요청"
   ]
  },
  {
   "cell_type": "markdown",
   "metadata": {},
   "source": [
    "## 추가구현\n",
    "### 동작\n",
    "#### TBD\n",
    "* 물체 방향 따라 근접샷 자세 잡기\n",
    "* 중간 감지 결과 따라 로봇을 움직이기 - 병합/실험 시 적용\n",
    "* 툴 각도 맞추기 - 요청\n",
    "* 추가요소\n",
    "  * ros로 맵 정보 얻기 - 목표점 충돌 가능성 확인 필요\n",
    "    - master를 ip 통해서 지정 - 일단 방법 숙지\n",
    "  * 옆으로 동작하기\n",
    "\n",
    "#### DONE\n",
    "* reach data 수집 시 모바일 베이스 위에서 수집, 모바일 앞쪽 충돌 경계랑 베드 높이랑 맞춰서 수집해놓기 v\n",
    "* 닦기 순서 바꾸기 - 옷장 -> 베드 v\n",
    "* 스케줄간 동작 연결 v\n",
    "  \n",
    "### 인식\n",
    "* 정면 인식 불확실성 해결\n",
    "  - 제일 가까운 포인트를 침대 다리부분으로 가정, 바닥 각도만 맞춰서 초기화 하고 ICP 시도 + 기본 ICP 해서 더 잘 맞은 쪽 선택하기 시도\n",
    "* 옷장 근접 인식 - 부분 피팅 + 방향 에러 -> 위치 에러\n",
    "  - 찍힌 부분 중심 Transformation\n",
    "  - 스캔 다 해서 피팅\n",
    "* 침대 인식 부정확 - 전반적으로 홈 위치에 가깝게 인식되는 경향 있음\n",
    "* 추가 요소\n",
    "  * 전체 환경 reconsruction에 촬영 이미지를 추가 + 현재 위치 맞추는 방식\n",
    "    - 한 요소 이동 방식으로는 두 요소간 위치 관계 반영 안됨 (한개 중심으로 맞추면 다른게 틀어짐)"
   ]
  },
  {
   "cell_type": "markdown",
   "metadata": {},
   "source": [
    "## ROS TCP/IP 연동 \n",
    "\n",
    "### IP setting\n",
    "#### Master\n",
    "```bash\n",
    "export ROS_IP={master-ip}\n",
    "export ROS_MASTER_URI=http://localhost:11311\n",
    "export ROS_HOSTNAME=$ROS_IP\n",
    "```  \n",
    "#### Slave \n",
    "```bash\n",
    "export ROS_MASTER_URI=http://{master-ip}:11311\n",
    "export ROS_HOSTNAME={slave-ip}\n",
    "```"
   ]
  },
  {
   "cell_type": "markdown",
   "metadata": {},
   "source": [
    "### Check topics"
   ]
  },
  {
   "cell_type": "code",
   "execution_count": 1,
   "metadata": {},
   "outputs": [
    {
     "name": "stdout",
     "output_type": "stream",
     "text": [
      "\r\n",
      "Published topics:\r\n",
      " * /move_base_simple/goal [geometry_msgs/PoseStamped] 1 publisher\r\n",
      " * /joint_states [sensor_msgs/JointState] 1 publisher\r\n",
      " * /rosout [rosgraph_msgs/Log] 5 publishers\r\n",
      " * /tf [tf2_msgs/TFMessage] 1 publisher\r\n",
      " * /clicked_point [geometry_msgs/PointStamped] 1 publisher\r\n",
      " * /tf_static [tf2_msgs/TFMessage] 1 publisher\r\n",
      " * /initialpose [geometry_msgs/PoseWithCovarianceStamped] 1 publisher\r\n",
      " * /visualization_marker [visualization_msgs/Marker] 1 publisher\r\n",
      " * /rosout_agg [rosgraph_msgs/Log] 1 publisher\r\n",
      " * /moveit_interface_py/ompl/parameter_descriptions [dynamic_reconfigure/ConfigDescription] 1 publisher\r\n",
      " * /moveit_interface_py/ompl/parameter_updates [dynamic_reconfigure/Config] 1 publisher\r\n",
      " * /topic_name [std_msgs/String] 1 publisher\r\n",
      "\r\n",
      "Subscribed topics:\r\n",
      " * /visualization_lines [visualization_msgs/Marker] 1 subscriber\r\n",
      " * /visualization_marker_array [visualization_msgs/MarkerArray] 1 subscriber\r\n",
      " * /visualization_lines_array [visualization_msgs/MarkerArray] 1 subscriber\r\n",
      " * /joint_states [sensor_msgs/JointState] 1 subscriber\r\n",
      " * /rosout [rosgraph_msgs/Log] 1 subscriber\r\n",
      " * /tf [tf2_msgs/TFMessage] 1 subscriber\r\n",
      " * /tf_static [tf2_msgs/TFMessage] 1 subscriber\r\n",
      " * /visualization_marker [visualization_msgs/Marker] 1 subscriber\r\n",
      "\r\n"
     ]
    }
   ],
   "source": [
    "!rostopic list -v"
   ]
  },
  {
   "cell_type": "code",
   "execution_count": null,
   "metadata": {},
   "outputs": [],
   "source": []
  },
  {
   "cell_type": "markdown",
   "metadata": {},
   "source": [
    "### Listener script"
   ]
  },
  {
   "cell_type": "code",
   "execution_count": 2,
   "metadata": {},
   "outputs": [],
   "source": [
    "import rospy\n",
    "from sensor_msgs.msg import JointState\n",
    "from std_msgs.msg import String\n",
    "from nav_msgs.msg import OccupancyGrid\n",
    "    \n",
    "class Listener:\n",
    "    NODE_NAME = \"listen_tester\"\n",
    "    TOPIC_NAME = \"/topic_name\"\n",
    "    TOPIC_TYPE = String\n",
    "    \n",
    "    def __init__(self):\n",
    "        self.data_stack = []\n",
    "        self.data_stack = []\n",
    "        rospy.init_node(self.NODE_NAME, anonymous=True)\n",
    "\n",
    "    def callback(self, data):\n",
    "        rospy.loginfo(rospy.get_caller_id() + \"I heard %s\", data.data)\n",
    "        self.data_stack.append(data)\n",
    "        \n",
    "    def get_data(self, timeout=5):\n",
    "        return rospy.wait_for_message(self.TOPIC_NAME, self.TOPIC_TYPE, \n",
    "                                      timeout=timeout)\n",
    "\n",
    "    ##\n",
    "    # @brief spin() simply keeps python from exiting until this node is stopped\n",
    "    def spin(self):\n",
    "        rospy.Subscriber(self.TOPIC_NAME, self.TOPIC_TYPE, self.callback)\n",
    "        rospy.spin()    "
   ]
  },
  {
   "cell_type": "code",
   "execution_count": 3,
   "metadata": {},
   "outputs": [],
   "source": [
    "listener = Listener()"
   ]
  },
  {
   "cell_type": "code",
   "execution_count": 4,
   "metadata": {},
   "outputs": [],
   "source": [
    "data = listener.get_data()"
   ]
  },
  {
   "cell_type": "code",
   "execution_count": 5,
   "metadata": {},
   "outputs": [
    {
     "data": {
      "text/plain": [
       "data: \"hello world\""
      ]
     },
     "execution_count": 5,
     "metadata": {},
     "output_type": "execute_result"
    }
   ],
   "source": [
    "data"
   ]
  },
  {
   "cell_type": "code",
   "execution_count": null,
   "metadata": {},
   "outputs": [],
   "source": []
  }
 ],
 "metadata": {
  "kernelspec": {
   "display_name": "Python 2",
   "language": "python",
   "name": "python2"
  },
  "language_info": {
   "codemirror_mode": {
    "name": "ipython",
    "version": 2
   },
   "file_extension": ".py",
   "mimetype": "text/x-python",
   "name": "python",
   "nbconvert_exporter": "python",
   "pygments_lexer": "ipython2",
   "version": "2.7.17"
  }
 },
 "nbformat": 4,
 "nbformat_minor": 2
}
