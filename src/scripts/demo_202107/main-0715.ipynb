{
 "cells": [
  {
   "cell_type": "markdown",
   "metadata": {},
   "source": [
    "## 문제 사항\n",
    "* 가끔 인식 부정확 - save_img/*_difficult.* 참조 - 거리 threshold 늘려서 다소 개선, 해결은 안됨\n",
    "* 가운데 구획 필요할 수 있음 - 대응 전략\n",
    "\n",
    "* 오른 쪽 view 자꾸 겨드랑이로 - 자세 약간 수정함, 너무 돌지 않도록 수정 v\n",
    "* 툴 형상 변경 - 깊이 5cm 정도만 줄이자 에 따라 데이터 다시 수집 필요 v\n",
    "* 작업 너비 너무 좁음 - 더 확실한 영역 데이터셋 준비 필요 v\n",
    "* 동작 비효율적 - 일단 sweep은 task space 경로로 v\n",
    "* 반대편 이동 정상 동작 안됨 - 해결 v\n",
    "* 이동 후 오프셋에 따라 동작 불가능해지는 상황 발생 - 미묘한 싱귤러리티 등이 원인 - 오프셋에 따른 보정 전략 도입 v\n",
    "* 깊이 방향도 데이터 기반으로 실제 섹션 반영 / 랜덤노이즈 테스트 v\n",
    "* 3 칸 이상 나누기 v\n",
    "* multiprocess lock 문제 ?\n"
   ]
  },
  {
   "cell_type": "code",
   "execution_count": 1,
   "metadata": {},
   "outputs": [
    {
     "name": "stdout",
     "output_type": "stream",
     "text": [
      "Current PC IP: 192.168.0.123\n",
      "Mobile ROB IP: 192.168.0.102\n",
      "CAM SERVER IP: 192.168.0.10\n"
     ]
    }
   ],
   "source": [
    "import os\n",
    "import sys\n",
    "os.chdir(os.path.join(os.environ[\"RNB_PLANNING_DIR\"], 'src'))\n",
    "sys.path.append(os.path.join(os.environ[\"RNB_PLANNING_DIR\"], 'src/scripts/demo_202107'))\n",
    "\n",
    "from pkg.global_config import RNB_PLANNING_DIR\n",
    "from demo_utils.kiro_udp_send import start_mobile_udp_thread, send_pose_wait, get_xyzw_cur, get_reach_state\n",
    "from pkg.utils.utils import *    \n",
    "from pkg.utils.rotation_utils import *\n",
    "from pkg.controller.combined_robot import *\n",
    "from pkg.project_config import *\n",
    "from demo_utils.streaming import *\n",
    "from demo_utils.detect_table import *\n",
    "from demo_utils.area_select import *\n",
    "\n",
    "\n",
    "CONNECT_CAM = False\n",
    "ENABLE_DETECT = False\n",
    "CONNECT_INDY = False\n",
    "CONNECT_MOBILE = False\n",
    "\n",
    "ip_cur =  get_ip_address()\n",
    "MOBILE_IP = \"192.168.0.102\"\n",
    "INDY_IP = \"192.168.0.3\"\n",
    "CAM_HOST = '192.168.0.10'\n",
    "\n",
    "print(\"Current PC IP: {}\".format(ip_cur))\n",
    "print(\"Mobile ROB IP: {}\".format(MOBILE_IP))\n",
    "print(\"CAM SERVER IP: {}\".format(CAM_HOST))"
   ]
  },
  {
   "cell_type": "markdown",
   "metadata": {},
   "source": [
    "## Set table dimension"
   ]
  },
  {
   "cell_type": "code",
   "execution_count": 2,
   "metadata": {},
   "outputs": [],
   "source": [
    "# Table dimension\n",
    "T_Width = 1.8\n",
    "T_Height = 0.785\n",
    "T_Depth = 0.734\n",
    "TOOL_DIM = [0.32, 0.08]\n",
    "ROBOT_Z_ANGLE = np.pi\n",
    "MARGIN = 0\n",
    "TRACK_THICKNESS = 0.001"
   ]
  },
  {
   "cell_type": "markdown",
   "metadata": {},
   "source": [
    "## Prepare robot and pipeline setting"
   ]
  },
  {
   "cell_type": "code",
   "execution_count": 3,
   "metadata": {},
   "outputs": [
    {
     "name": "stdout",
     "output_type": "stream",
     "text": [
      "connection command:\n",
      "indy0: False\n",
      "Please create a subscriber to the marker\n",
      "publication OK\n",
      "published: [0, 0, 0, 0, 0, 0]\n",
      "Please create a subscriber to the marker\n",
      "Dash is running on http://0.0.0.0:8050/\n",
      "\n",
      " * Serving Flask app \"pkg.ui.dash_launcher\" (lazy loading)\n",
      " * Environment: production\n",
      "   WARNING: This is a development server. Do not use it in a production deployment.\n",
      "   Use a production WSGI server instead.\n",
      " * Debug mode: off\n"
     ]
    }
   ],
   "source": [
    "from pkg.geometry.builder.scene_builder import SceneBuilder\n",
    "from demo_utils.environment import *\n",
    "\n",
    "sock_mobile, server_thread = start_mobile_udp_thread(recv_ip=ip_cur)\n",
    "\n",
    "robot_config = RobotConfig(0, RobotType.indy7, None, INDY_IP, specs={\"no_sdk\":True})\n",
    "ROBOT_NAME = robot_config.get_indexed_name()\n",
    "crob = CombinedRobot(robots_on_scene=[robot_config]\n",
    "              , connection_list=[CONNECT_INDY])\n",
    "\n",
    "s_builder = SceneBuilder(None)\n",
    "# s_builder.reset_reference_coord(ref_name=\"floor\")\n",
    "\n",
    "# xyz_rpy_robots = s_builder.detect_items(level_mask=[DetectionLevel.ROBOT])\n",
    "xyz_rpy_robots = {\"indy0\": ((0,0,0), (0,0,ROBOT_Z_ANGLE))}\n",
    "crob.update_robot_pos_dict(xyz_rpy_robots=xyz_rpy_robots)\n",
    "gscene = s_builder.create_gscene(crob)\n",
    "\n",
    "gtems = s_builder.add_robot_geometries(color=(0,1,0,0.5), display=True, collision=True)\n",
    "gscene.set_workspace_boundary( -1.5, 1.5, -1, 1, -0.1, 1.75)\n",
    "\n",
    "add_env(gscene)\n",
    "viewpoint = add_cam(gscene, tool_link=\"indy0_tcp\")\n",
    "add_indy_tool_kiro(gscene, tool_link=\"indy0_tcp\", face_name=\"brush_face\", zoff=-0.04)\n",
    "\n",
    "from pkg.planning.scene import PlanningScene\n",
    "pscene = PlanningScene(gscene, combined_robot=crob)\n",
    "BASE_LINK = \"base_link\"\n",
    "TIP_LINK = pscene.robot_chain_dict[ROBOT_NAME][\"tip_link\"]\n",
    "\n",
    "from pkg.planning.pipeline import PlanningPipeline\n",
    "ppline = PlanningPipeline(pscene)\n",
    "\n",
    "from pkg.ui.ui_broker import *\n",
    "\n",
    "# start UI\n",
    "ui_broker = UIBroker.instance()\n",
    "ui_broker.initialize(ppline, s_builder)\n",
    "ui_broker.start_server()\n",
    "\n",
    "ui_broker.set_tables()\n",
    "\n",
    "# Register binders\n",
    "from pkg.planning.constraint.constraint_actor import Gripper2Tool, PlacePlane, SweepFramer, FixtureSlot\n",
    "brush_face = pscene.create_binder(bname=\"brush_face\", gname=\"brush_face\", _type=SweepFramer, point=(-gscene.NAME_DICT['brush_face'].dims[0]/2,0,0), \n",
    "                     rpy=(0,np.pi/2*1,0))\n",
    "\n",
    "# Set planner\n",
    "from pkg.planning.motion.moveit.moveit_planner import MoveitPlanner\n",
    "mplan = MoveitPlanner(pscene)\n",
    "mplan.update_gscene()\n",
    "from pkg.planning.task.rrt import TaskRRT\n",
    "tplan = TaskRRT(pscene)\n",
    "tplan.prepare()\n",
    "ppline.set_motion_planner(mplan)\n",
    "ppline.set_task_planner(tplan)\n",
    "\n",
    "from pkg.planning.filtering.grasp_filter import GraspChecker\n",
    "from pkg.planning.filtering.reach_filter import ReachChecker\n",
    "from pkg.planning.filtering.latticized_filter import LatticedChecker\n",
    "from pkg.planning.filtering.task_clearance_filter import TaskClearanceChecker\n",
    "\n",
    "# gcheck = GraspChecker(pscene)\n",
    "# rcheck = ReachChecker(pscene)\n",
    "# tcheck = TaskClearanceChecker(pscene, gcheck)\n",
    "# checkers_all = [tcheck, rcheck, gcheck]\n",
    "# # lcheck = LatticedChecker(pscene, gcheck)\n",
    "# # checkers_all.append(lcheck)\n",
    "\n",
    "# mplan.motion_filters = checkers_all\n",
    "\n",
    "indy = crob.robot_dict[\"indy0\"]\n",
    "# if CONNECT_INDY:\n",
    "#     with indy:\n",
    "#         indy.reset_robot()"
   ]
  },
  {
   "cell_type": "markdown",
   "metadata": {},
   "source": [
    "## move indy to viewing pose"
   ]
  },
  {
   "cell_type": "code",
   "execution_count": 4,
   "metadata": {
    "scrolled": false
   },
   "outputs": [],
   "source": [
    "VIEW_POSE = np.deg2rad([  0., -28.,  85.,  -0.,  57., -180])\n",
    "if CONNECT_INDY:\n",
    "    with indy:\n",
    "        indy.joint_move_to(np.rad2deg(VIEW_POSE))\n",
    "        time.sleep(0.5)\n",
    "        indy.wait_for_move_finish()\n",
    "        Qcur = np.deg2rad(indy.get_joint_pos())\n",
    "else:\n",
    "    Qcur = VIEW_POSE\n",
    "gscene.show_pose(Qcur)"
   ]
  },
  {
   "cell_type": "markdown",
   "metadata": {},
   "source": [
    "## Attach to detection server"
   ]
  },
  {
   "cell_type": "code",
   "execution_count": 5,
   "metadata": {},
   "outputs": [],
   "source": [
    "if ENABLE_DETECT:\n",
    "    attacth_to_server()"
   ]
  },
  {
   "cell_type": "markdown",
   "metadata": {},
   "source": [
    "## Get image"
   ]
  },
  {
   "cell_type": "code",
   "execution_count": 6,
   "metadata": {},
   "outputs": [
    {
     "name": "stdout",
     "output_type": "stream",
     "text": [
      "Detect server not attached - call attach_to_server\n"
     ]
    }
   ],
   "source": [
    "if CONNECT_CAM:\n",
    "#     rdict = send_recv_demo_cam({1:1}, host=CAM_HOST)\n",
    "    rdict = stream_capture_image(ImageType.FirstView, host=CAM_HOST)\n",
    "    cam_intrins, d_scale = [rdict[key] for key in [\"intrins\", \"depth_scale\"]]\n",
    "else:\n",
    "    cam_intrins = [1280, 720, 899.05322265625,  899.21044921875, 654.8836669921875, 352.9295654296875]\n",
    "    d_scale = 0.0002500000118743628\n",
    "    # Set color, depth image path\n",
    "    \n",
    "if CONNECT_CAM:\n",
    "    color_img_path = SAVE_DIR + '/color.jpg'\n",
    "    depth_img_path = SAVE_DIR + '/depth.png'\n",
    "else:\n",
    "    color_img_path = DATASET_CAM_DIR + '/color.jpg'\n",
    "    depth_img_path = DATASET_CAM_DIR + '/depth.png'\n",
    "\n",
    "# Read color, depth image file, keep 16bit information\n",
    "color_img_read = cv2.imread(color_img_path, flags=cv2.IMREAD_UNCHANGED)\n",
    "depth_img_read = cv2.imread(depth_img_path, flags=cv2.IMREAD_UNCHANGED)\n",
    "\n",
    "# Output of inference(mask for detected table)\n",
    "mask_out = detect_from_server(color_img_read)\n",
    "ICP_result1 = None\n",
    "if mask_out is not None:\n",
    "    plt.imshow(mask_out)\n",
    "    # Crop masking part\n",
    "    vis_mask = (mask_out * 255).astype('uint8')\n",
    "    color_instance = cv2.bitwise_and(color_img_read, color_img_read, mask=vis_mask).astype(np.uint16)\n",
    "    depth_instance = cv2.bitwise_and(depth_img_read, depth_img_read, mask=vis_mask).astype(np.uint16)\n",
    "    cv2.imwrite(CROP_DIR + '/color_crop.jpg', color_instance)\n",
    "    cv2.imwrite(CROP_DIR + '/depth_crop.png', depth_instance)\n",
    "    \n",
    "    set_cam_params(cam_intrins, d_scale)\n",
    "    model_mesh, pcd_out = preprocessing()\n",
    "    ICP_result1 = compute_ICP(model_mesh, pcd_out, (-T_Height, -T_Depth, 0.0))\n",
    "    #ICP_result2 = compute_ICP(model_mesh, pcd2)\n",
    "    \n",
    "if ICP_result1 is None: # test\n",
    "    ICP_result1 = np.array([[ 0.97952723,  0.00354742,  0.20128047, -0.63449415],\n",
    "                            [ 0.08693341,  0.89435887, -0.43882204, -0.18267728],\n",
    "                            [-0.18157366,  0.44733614,  0.87574048,  1.77040063],\n",
    "                            [ 0.        ,  0.        ,  0.        ,  1.        ]])"
   ]
  },
  {
   "cell_type": "code",
   "execution_count": 8,
   "metadata": {},
   "outputs": [],
   "source": [
    "gscene.show_pose(VIEW_POSE)\n",
    "_ =viewpoint.draw_traj_coords([VIEW_POSE])"
   ]
  },
  {
   "cell_type": "code",
   "execution_count": 9,
   "metadata": {},
   "outputs": [],
   "source": [
    "TABLE_DIMS = np.array((T_Depth,T_Width,T_Height))\n",
    "OFF_DIR = np.array([1,1,-1])\n",
    "# OFF_DIR = np.array([1,1,0])\n",
    "#TABLE_DIMS[[0,1,2]]\n",
    "#np.hstack([TABLE_DIMS[[0,1]], [0]])\n",
    "T_toff = SE3(Rot_axis(3,np.pi), np.divide(TABLE_DIMS[[0,1,2]]*OFF_DIR,2))\n",
    "T_co = np.matmul(np.matmul(ICP_result1, SE3(Rot_axis(1, np.pi/2), [0]*3)), T_toff)\n",
    "T_lo = np.matmul(viewpoint.Toff, T_co)\n",
    "T_bc = viewpoint.get_tf(list2dict(VIEW_POSE, gscene.joint_names))\n",
    "T_bo=np.matmul(T_bc, T_co)\n",
    "\n",
    "# fit to plane\n",
    "floor_g = gscene.NAME_DICT[\"floor\"]\n",
    "floor_height = floor_g.center[2] + floor_g.dims[2]/2\n",
    "\n",
    "# Floor Fitting\n",
    "T_bo[2,3] =  floor_height+TABLE_DIMS[2]/2\n",
    "\n",
    "azimuth, zenith = mat2hori(T_bo[:3,:3])\n",
    "zenith_up = np.pi-zenith\n",
    "Raz = Rot_axis(3, azimuth)\n",
    "Rzn = Rot_axis(2, -zenith_up)\n",
    "Roff = np.matmul(np.matmul(Raz, Rzn), Raz.transpose())\n",
    "T_bo[:3,:3] = np.matmul(Roff, T_bo[:3,:3])\n",
    "\n",
    "gscene.add_highlight_axis(\"table\", \"center\", link_name=\"base_link\", center=T_bo[:3,3], orientation_mat=T_bo[:3,:3])\n",
    "\n",
    "# geometry 추가\n",
    "table_prev = gscene.create_safe(gtype=GEOTYPE.BOX, name=\"table\", link_name=\"base_link\", \n",
    "                   dims=TABLE_DIMS, center=T_bo[:3,3], rpy=Rot2rpy(T_bo[:3,:3]), \n",
    "                   color=(0.8,0.8,0.8,0.5), display=True, fixed=True, collision=False)"
   ]
  },
  {
   "cell_type": "markdown",
   "metadata": {},
   "source": [
    "## select task area"
   ]
  },
  {
   "cell_type": "code",
   "execution_count": 10,
   "metadata": {},
   "outputs": [
    {
     "name": "stdout",
     "output_type": "stream",
     "text": [
      "reference height: 0.536499995947\n",
      "== MOTION_DEPTH: 0.414 ==\n",
      "== WIIPE_DEPTH: 0.414 ==\n",
      "== MOTION_DEPTH: 0.414 ==\n",
      "== WIIPE_DEPTH: 0.207 ==\n",
      "sweep depths: (0.48, 0.7)\n",
      "divisions: (2, 2)\n"
     ]
    }
   ],
   "source": [
    "TABLE_HEIGHT = floor_height + TABLE_DIMS[2]\n",
    "T_e_brush = brush_face.get_tf_handle(crob.home_dict, from_link=TIP_LINK)\n",
    "T_brush_e = SE3_inv(T_e_brush)\n",
    "P_floor_e = T_brush_e[:3, 3] + [0, 0, TABLE_HEIGHT]\n",
    "EE_DEPTH_OFF, _, EE_HEIGHT = P_floor_e\n",
    "sweep_width, (area_width, area_depth), width_range, divisions, div_num, corner_center = select_task_area(\n",
    "    robot_config, TABLE_DIMS, TOOL_DIM, EE_DEPTH_OFF, EE_HEIGHT, ROBOT_Z_ANGLE, \n",
    "    MARGIN=MARGIN, TOOL_DEPTH_MIN=0.6, TOOL_DEPTH_MAX=1.0)"
   ]
  },
  {
   "cell_type": "markdown",
   "metadata": {},
   "source": [
    "# Main Loop"
   ]
  },
  {
   "cell_type": "code",
   "execution_count": 11,
   "metadata": {},
   "outputs": [],
   "source": [
    "# for i_cn in range(4):\n",
    "#     cn_cur = CornerSequence[i_cn]\n",
    "#     if cn_cur == Corners.Right and divisions[0]<2:\n",
    "#         continue\n",
    "i_cn = 3"
   ]
  },
  {
   "cell_type": "code",
   "execution_count": 38,
   "metadata": {
    "scrolled": true
   },
   "outputs": [
    {
     "name": "stdout",
     "output_type": "stream",
     "text": [
      "== Current workspace section: Right\n"
     ]
    }
   ],
   "source": [
    "cn_cur = CornerSequence[i_cn]\n",
    "print(\"== Current workspace section: {}\".format(cn_cur.name))\n",
    "section_size = np.concatenate([np.divide(table_prev.dims[:2],  divisions), [TRACK_THICKNESS]])\n",
    "off_corner = np.divide(table_prev.dims, 2)*corner_point_dirs[cn_cur]\n",
    "off_sect = (np.divide(table_prev.dims, 2) - np.divide(section_size, 2))*corner_point_dirs[cn_cur]\n",
    "T_rot_table = SE3(RotationSequence[i_cn], (0,0,0))\n",
    "T_tf = SE3(np.identity(3), off_sect)\n",
    "T_ft = SE3_inv(T_tf)"
   ]
  },
  {
   "cell_type": "markdown",
   "metadata": {},
   "source": [
    "## Add table on relative target location"
   ]
  },
  {
   "cell_type": "code",
   "execution_count": 39,
   "metadata": {},
   "outputs": [],
   "source": [
    "track, track_face = add_track(table_prev, TABLE_HEIGHT, area_depth, area_width, corner_center)\n",
    "T_bt, T_bb2 = calc_base_target(table_prev, track, T_ft, T_rot_table)\n",
    "gscene.add_highlight_axis(\"target\", \"base\", \"base_link\", T_bb2[:3,3], T_bb2[:3,:3])\n",
    "T_mm2, T_bm2 = base_offet_to_mobile(T_bb2, CONNECT_MOBILE)\n",
    "gscene.add_highlight_axis(\"target\", \"mobile\", \"base_link\", T_bm2[:3,3], T_bm2[:3,:3])"
   ]
  },
  {
   "cell_type": "markdown",
   "metadata": {},
   "source": [
    "## move mobile robot"
   ]
  },
  {
   "cell_type": "code",
   "execution_count": 40,
   "metadata": {},
   "outputs": [
    {
     "name": "stdout",
     "output_type": "stream",
     "text": [
      "curre  xyzw: [0 0 0 1]\n",
      "ready  xyzw: [-0.48 -0.95  0.02  1.  ]\n",
      "target xyzw: [-0.08 -0.94  0.02  1.  ]\n",
      "move to: [-0.04 -0.47  0.01  1.  ]\n",
      "move to: [-0.08 -0.94  0.02  1.  ]\n"
     ]
    },
    {
     "data": {
      "text/plain": [
       "(0, 0, 0, 1)"
      ]
     },
     "execution_count": 40,
     "metadata": {},
     "output_type": "execute_result"
    }
   ],
   "source": [
    "cur_xyzw, tar_xyzw_rd, tar_xyzw = get_relative_mobile_command(T_mm2, CONNECT_MOBILE)\n",
    "move_mobile_robot(cur_xyzw, tar_xyzw_rd, tar_xyzw, CONNECT_MOBILE,\n",
    "                  move_direct=cn_cur == Corners.Right)"
   ]
  },
  {
   "cell_type": "markdown",
   "metadata": {},
   "source": [
    "## update table location"
   ]
  },
  {
   "cell_type": "code",
   "execution_count": 41,
   "metadata": {},
   "outputs": [],
   "source": [
    "## add moved table in front of robot\n",
    "table_front = gscene.create_safe(GEOTYPE.BOX, \"table_front\", \"base_link\", \n",
    "                                 dims=table_prev.dims, \n",
    "                                 center=T_bt[:3,3], \n",
    "                                 rpy=Rot2rpy(T_bt[:3,:3]),\n",
    "                                 color=(0.8,0.8,0.8,0.8), display=True, fixed=True, collision=True)\n",
    "\n",
    "gscene.NAME_DICT[\"table\"].color = (0.8,0.8,0.8,0.0)\n",
    "gscene.update_markers_all()\n",
    "\n",
    "# corner_center_rel = np.abs(np.subtract(tuple(corner_center)+(TABLE_HEIGHT,), table_front.center))"
   ]
  },
  {
   "cell_type": "markdown",
   "metadata": {},
   "source": [
    "### calc gaze pose"
   ]
  },
  {
   "cell_type": "code",
   "execution_count": 42,
   "metadata": {},
   "outputs": [
    {
     "name": "stdout",
     "output_type": "stream",
     "text": [
      "GAZE: True\n"
     ]
    }
   ],
   "source": [
    "gaze_traj, success = calc_gaze_pose(cn_cur, mplan, table_front, viewpoint, CONNECT_INDY, GAZE_DIST=0.5)\n",
    "if success:\n",
    "    gscene.show_motion(gaze_traj)\n",
    "    gaze_pose = gaze_traj[-1]"
   ]
  },
  {
   "cell_type": "markdown",
   "metadata": {},
   "source": [
    "## Move to gaze pose"
   ]
  },
  {
   "cell_type": "code",
   "execution_count": 43,
   "metadata": {
    "scrolled": true
   },
   "outputs": [],
   "source": [
    "if CONNECT_INDY:\n",
    "    indy.move_joint_wp(gaze_traj, None, None, None)\n",
    "    \n",
    "# ## return from gaze pose\n",
    "# if CONNECT_INDY:\n",
    "#     indy.move_joint_wp(np.array(list(reversed(gaze_traj))), None, None, None)"
   ]
  },
  {
   "cell_type": "markdown",
   "metadata": {},
   "source": [
    "## Refine plane"
   ]
  },
  {
   "cell_type": "code",
   "execution_count": 44,
   "metadata": {},
   "outputs": [
    {
     "name": "stdout",
     "output_type": "stream",
     "text": [
      "[Errno 2] No such file or directory: '/home/rnb/Projects/rnb-planning/src/scripts/demo_202107/exp_datasets/tablepose_11.npy'\n"
     ]
    }
   ],
   "source": [
    "if CONNECT_INDY:\n",
    "    with indy:\n",
    "        Qcur = indy.get_qcur()\n",
    "else:\n",
    "    try:\n",
    "        Qcur = np.load(DATASET_CAM_DIR + '/tablepose_11.npy')\n",
    "    except Exception as e:\n",
    "        print(e)\n",
    "\n",
    "T_bo_bak = table_front.Toff\n",
    "table_front = refine_plane(gscene, track, viewpoint, T_ft, Qcur, TABLE_DIMS, cn_cur, CAM_HOST, CONNECT_CAM, CONNECT_INDY, ENABLE_DETECT)\n",
    "table_prev = table_front\n",
    "T_bo = table_front.Toff"
   ]
  },
  {
   "cell_type": "markdown",
   "metadata": {},
   "source": [
    "## adjust track"
   ]
  },
  {
   "cell_type": "code",
   "execution_count": 45,
   "metadata": {},
   "outputs": [],
   "source": [
    "track = gscene.create_safe(GEOTYPE.BOX, \"track\", \"base_link\", section_size, \n",
    "                           center = T_tf[:3,3], #corner_center_rel*corner_point_dirs[cn_cur], \n",
    "                           rpy= Rot2rpy(T_tf[:3,:3]), #Rot2rpy(corner_orientations[cn_cur]), \n",
    "                           color=(0.0,0.8,0.8,0.2), display=True, fixed=True, collision=True,\n",
    "                           parent=\"table_front\")\n",
    "track_face = gscene.copy_from(track, new_name=\"track_face\", collision=False, color=(0.8,0.8,0.8,0.0))\n",
    "TRACK_DIM = np.copy(track_face.dims)\n",
    "track_face.dims = (3, 3, track.dims[2])\n",
    "gscene.update_markers_all()\n",
    "\n",
    "width_range_fit = (np.mean(width_range)-section_size[1]/2, np.mean(width_range)+section_size[1]/2)\n",
    "sweep_list, track_list = make_work_plane(pscene, track, TOOL_DIM, fix_orientation_front=True)"
   ]
  },
  {
   "cell_type": "code",
   "execution_count": null,
   "metadata": {},
   "outputs": [],
   "source": []
  },
  {
   "cell_type": "markdown",
   "metadata": {},
   "source": [
    "# init planning"
   ]
  },
  {
   "cell_type": "code",
   "execution_count": 46,
   "metadata": {},
   "outputs": [
    {
     "name": "stdout",
     "output_type": "stream",
     "text": [
      "(0, 0)\n"
     ]
    }
   ],
   "source": [
    "from pkg.planning.constraint.constraint_common \\\n",
    "            import sample_redundancy, combine_redundancy\n",
    "gtimer = GlobalTimer.instance()\n",
    "# initial_state = pscene.initialize_state(crob.home_pose)\n",
    "initial_state = pscene.initialize_state(VIEW_POSE)\n",
    "print(initial_state.node)\n",
    "\n",
    "# # remove place points except for the current one\n",
    "# use_current_place_point_only(pscene, initial_state)"
   ]
  },
  {
   "cell_type": "markdown",
   "metadata": {},
   "source": [
    "## search"
   ]
  },
  {
   "cell_type": "code",
   "execution_count": 47,
   "metadata": {},
   "outputs": [
    {
     "name": "stdout",
     "output_type": "stream",
     "text": [
      "(0, 0)\n",
      "try: 0 - (0, 0)->(1, 0)\n",
      "try transition motion\n",
      "transition motion tried: True\n",
      "result: 0 - (0, 0)->(1, 0) = success\n",
      "branching: 0->1 (0.05/20.0 s, steps/err: 40(52.7210235596 ms)/0.00161652424727)\n",
      "======================================================================================================================================================\n",
      "try: 1 - (1, 0)->(2, 0)\n",
      "try constrained motion\n",
      "joint min\n",
      "constrained motion tried: False\n",
      "Motion Plan Failure\n",
      "result: 1 - (1, 0)->(2, 0) = fail\n",
      "try: 0 - (0, 0)->(0, 1)\n",
      "try transition motion\n",
      "transition motion tried: True\n",
      "result: 0 - (0, 0)->(0, 1) = success\n",
      "branching: 0->2 (0.4/20.0 s, steps/err: 48(59.6399307251 ms)/0.00113458892819)\n",
      "======================================================================================================================================================\n",
      "try: 0 - (0, 0)->(0, 1)\n",
      "try transition motion\n",
      "transition motion tried: True\n",
      "result: 0 - (0, 0)->(0, 1) = success\n",
      "branching: 0->3 (0.45/20.0 s, steps/err: 37(51.4369010925 ms)/0.00139168133471)\n",
      "======================================================================================================================================================\n",
      "try: 0 - (0, 0)->(0, 1)\n",
      "try transition motion\n",
      "transition motion tried: True\n",
      "result: 0 - (0, 0)->(0, 1) = success\n",
      "branching: 0->4 (0.54/20.0 s, steps/err: 48(86.5800380707 ms)/0.00121920104947)\n",
      "======================================================================================================================================================\n",
      "try: 0 - (0, 0)->(0, 1)\n",
      "try transition motion\n",
      "transition motion tried: True\n",
      "result: 0 - (0, 0)->(0, 1) = success\n",
      "branching: 0->5 (0.62/20.0 s, steps/err: 48(77.8739452362 ms)/0.000736845530944)\n",
      "======================================================================================================================================================\n",
      "try: 0 - (0, 0)->(1, 0)\n",
      "try transition motion\n",
      "transition motion tried: True\n",
      "result: 0 - (0, 0)->(1, 0) = success\n",
      "branching: 0->6 (0.69/20.0 s, steps/err: 46(71.4938640594 ms)/0.00184166293419)\n",
      "======================================================================================================================================================\n",
      "try: 6 - (1, 0)->(2, 0)\n",
      "try constrained motion\n",
      "joint max\n",
      "constrained motion tried: False\n",
      "Motion Plan Failure\n",
      "result: 6 - (1, 0)->(2, 0) = fail\n",
      "try: 0 - (0, 0)->(1, 0)\n",
      "try transition motion\n",
      "transition motion tried: True\n",
      "result: 0 - (0, 0)->(1, 0) = success\n",
      "branching: 0->7 (0.93/20.0 s, steps/err: 46(76.0278701782 ms)/0.00111427417621)\n",
      "======================================================================================================================================================\n",
      "try: 7 - (1, 0)->(2, 0)\n",
      "try constrained motion\n",
      "joint max\n",
      "constrained motion tried: False\n",
      "Motion Plan Failure\n",
      "result: 7 - (1, 0)->(2, 0) = fail\n",
      "try: 6 - (1, 0)->(2, 0)\n",
      "try constrained motion\n",
      "joint max\n",
      "constrained motion tried: False\n",
      "Motion Plan Failure\n",
      "result: 6 - (1, 0)->(2, 0) = fail\n",
      "try: 0 - (0, 0)->(1, 0)\n",
      "try transition motion\n",
      "transition motion tried: True\n",
      "result: 0 - (0, 0)->(1, 0) = success\n",
      "branching: 0->8 (1.3/20.0 s, steps/err: 40(55.123090744 ms)/0.00147212628893)\n",
      "======================================================================================================================================================\n",
      "try: 8 - (1, 0)->(2, 0)\n",
      "try constrained motion\n",
      "joint min\n",
      "constrained motion tried: False\n",
      "Motion Plan Failure\n",
      "result: 8 - (1, 0)->(2, 0) = fail\n",
      "try: 0 - (0, 0)->(0, 1)\n",
      "try transition motion\n",
      "transition motion tried: True\n",
      "result: 0 - (0, 0)->(0, 1) = success\n",
      "branching: 0->9 (1.64/20.0 s, steps/err: 37(74.9711990356 ms)/0.00172424490286)\n",
      "======================================================================================================================================================\n",
      "try: 0 - (0, 0)->(0, 1)\n",
      "try transition motion\n",
      "transition motion tried: True\n",
      "result: 0 - (0, 0)->(0, 1) = success\n",
      "branching: 0->10 (1.69/20.0 s, steps/err: 37(52.227973938 ms)/0.00107624497815)\n",
      "======================================================================================================================================================\n",
      "try: 0 - (0, 0)->(0, 1)\n",
      "try transition motion\n",
      "transition motion tried: True\n",
      "result: 0 - (0, 0)->(0, 1) = success\n",
      "branching: 0->11 (1.76/20.0 s, steps/err: 42(69.3919658661 ms)/0.00124310032035)\n",
      "======================================================================================================================================================\n",
      "try: 2 - (0, 1)->(0, 2)\n",
      "try constrained motion\n",
      "end\n",
      "constrained motion tried: True\n",
      "result: 2 - (0, 1)->(0, 2) = success\n",
      "branching: 2->12 (2.14/20.0 s, steps/err: 83(375.11920929 ms)/0.0468391477133)\n",
      "======================================================================================================================================================\n",
      "try: 4 - (0, 1)->(0, 2)\n",
      "try constrained motion\n",
      "end\n",
      "constrained motion tried: True\n",
      "result: 4 - (0, 1)->(0, 2) = success\n",
      "branching: 4->13 (2.52/20.0 s, steps/err: 83(374.477863312 ms)/0.0468700819843)\n",
      "======================================================================================================================================================\n",
      "try: 7 - (1, 0)->(2, 0)\n",
      "try constrained motion\n",
      "joint max\n",
      "constrained motion tried: False\n",
      "Motion Plan Failure\n",
      "result: 7 - (1, 0)->(2, 0) = fail\n",
      "try: 3 - (0, 1)->(0, 2)\n",
      "try constrained motion\n",
      "joint min\n",
      "constrained motion tried: False\n",
      "Motion Plan Failure\n",
      "result: 3 - (0, 1)->(0, 2) = fail\n",
      "try: 0 - (0, 0)->(1, 0)\n",
      "try transition motion\n",
      "transition motion tried: True\n",
      "result: 0 - (0, 0)->(1, 0) = success\n",
      "branching: 0->14 (2.96/20.0 s, steps/err: 46(53.8909435272 ms)/0.00124994361085)\n",
      "======================================================================================================================================================\n",
      "try: 14 - (1, 0)->(2, 0)\n",
      "try constrained motion\n",
      "joint max\n",
      "constrained motion tried: False\n",
      "Motion Plan Failure\n",
      "result: 14 - (1, 0)->(2, 0) = fail\n",
      "try: 3 - (0, 1)->(0, 2)\n",
      "try constrained motion\n",
      "joint min\n",
      "constrained motion tried: False\n",
      "Motion Plan Failure\n",
      "result: 3 - (0, 1)->(0, 2) = fail\n",
      "try: 0 - (0, 0)->(1, 0)\n",
      "try transition motion\n",
      "transition motion tried: True\n",
      "result: 0 - (0, 0)->(1, 0) = success\n",
      "branching: 0->15 (3.41/20.0 s, steps/err: 40(62.7639293671 ms)/0.00176086877363)\n",
      "======================================================================================================================================================\n",
      "try: 15 - (1, 0)->(2, 0)\n",
      "try constrained motion\n",
      "joint min\n",
      "constrained motion tried: False\n",
      "Motion Plan Failure\n",
      "result: 15 - (1, 0)->(2, 0) = fail\n",
      "try: 14 - (1, 0)->(2, 0)\n",
      "try constrained motion\n",
      "joint max\n",
      "constrained motion tried: False\n",
      "Motion Plan Failure\n",
      "result: 14 - (1, 0)->(2, 0) = fail\n",
      "try: 0 - (0, 0)->(1, 0)\n",
      "try transition motion\n",
      "transition motion tried: True\n",
      "result: 0 - (0, 0)->(1, 0) = success\n",
      "branching: 0->16 (3.86/20.0 s, steps/err: 40(52.9670715332 ms)/0.00141902852485)\n",
      "======================================================================================================================================================\n",
      "try: 16 - (1, 0)->(2, 0)\n",
      "try constrained motion\n",
      "joint min\n",
      "constrained motion tried: False\n",
      "Motion Plan Failure\n",
      "result: 16 - (1, 0)->(2, 0) = fail\n",
      "try: 9 - (0, 1)->(0, 2)\n",
      "try constrained motion\n",
      "joint min\n",
      "constrained motion tried: False\n",
      "Motion Plan Failure\n",
      "result: 9 - (0, 1)->(0, 2) = fail\n",
      "try: 0 - (0, 0)->(0, 1)\n",
      "try transition motion\n",
      "transition motion tried: True\n",
      "result: 0 - (0, 0)->(0, 1) = success\n",
      "branching: 0->17 (4.4/20.0 s, steps/err: 37(51.7539978027 ms)/0.0018417513306)\n",
      "======================================================================================================================================================\n",
      "try: 17 - (0, 1)->(0, 2)\n",
      "try constrained motion\n",
      "joint min\n",
      "constrained motion tried: False\n",
      "Motion Plan Failure\n",
      "result: 17 - (0, 1)->(0, 2) = fail\n",
      "try: 7 - (1, 0)->(2, 0)\n",
      "try constrained motion\n",
      "joint max\n",
      "constrained motion tried: False\n",
      "Motion Plan Failure\n",
      "result: 7 - (1, 0)->(2, 0) = fail\n",
      "try: 0 - (0, 0)->(1, 0)\n",
      "try transition motion\n",
      "transition motion tried: True\n",
      "result: 0 - (0, 0)->(1, 0) = success\n",
      "branching: 0->18 (4.84/20.0 s, steps/err: 40(57.5571060181 ms)/0.000579863426681)\n",
      "======================================================================================================================================================\n",
      "try: 18 - (1, 0)->(2, 0)\n",
      "try constrained motion\n"
     ]
    },
    {
     "name": "stdout",
     "output_type": "stream",
     "text": [
      "joint min\n",
      "constrained motion tried: False\n",
      "Motion Plan Failure\n",
      "result: 18 - (1, 0)->(2, 0) = fail\n",
      "try: 0 - (0, 0)->(1, 0)\n",
      "try transition motion\n",
      "transition motion tried: True\n",
      "result: 0 - (0, 0)->(1, 0) = success\n",
      "branching: 0->19 (5.15/20.0 s, steps/err: 46(72.9620456696 ms)/0.00147570090053)\n",
      "======================================================================================================================================================\n",
      "try: 19 - (1, 0)->(2, 0)\n",
      "try constrained motion\n",
      "joint max\n",
      "constrained motion tried: False\n",
      "Motion Plan Failure\n",
      "result: 19 - (1, 0)->(2, 0) = fail\n",
      "try: 0 - (0, 0)->(0, 1)\n",
      "try transition motion\n",
      "transition motion tried: True\n",
      "result: 0 - (0, 0)->(0, 1) = success\n",
      "branching: 0->20 (5.38/20.0 s, steps/err: 37(71.3000297546 ms)/0.00191983114519)\n",
      "======================================================================================================================================================\n",
      "try: 1 - (1, 0)->(2, 0)\n",
      "try constrained motion\n",
      "joint min\n",
      "constrained motion tried: False\n",
      "Motion Plan Failure\n",
      "result: 1 - (1, 0)->(2, 0) = fail\n",
      "try: 0 - (0, 0)->(1, 0)\n",
      "try transition motion\n",
      "transition motion tried: True\n",
      "result: 0 - (0, 0)->(1, 0) = success\n",
      "branching: 0->21 (5.69/20.0 s, steps/err: 46(68.8729286194 ms)/0.00146730482381)\n",
      "======================================================================================================================================================\n",
      "try: 21 - (1, 0)->(2, 0)\n",
      "try constrained motion\n",
      "joint max\n",
      "constrained motion tried: False\n",
      "Motion Plan Failure\n",
      "result: 21 - (1, 0)->(2, 0) = fail\n",
      "try: 14 - (1, 0)->(2, 0)\n",
      "try constrained motion\n",
      "joint max\n",
      "constrained motion tried: False\n",
      "Motion Plan Failure\n",
      "result: 14 - (1, 0)->(2, 0) = fail\n",
      "try: 0 - (0, 0)->(0, 1)\n",
      "try transition motion\n",
      "transition motion tried: True\n",
      "result: 0 - (0, 0)->(0, 1) = success\n",
      "branching: 0->22 (6.07/20.0 s, steps/err: 48(69.5128440857 ms)/0.00176001520051)\n",
      "======================================================================================================================================================\n",
      "try: 1 - (1, 0)->(2, 0)\n",
      "try constrained motion\n",
      "joint min\n",
      "constrained motion tried: False\n",
      "Motion Plan Failure\n",
      "result: 1 - (1, 0)->(2, 0) = fail\n",
      "try: 5 - (0, 1)->(0, 2)\n",
      "try constrained motion\n",
      "end\n",
      "constrained motion tried: True\n",
      "result: 5 - (0, 1)->(0, 2) = success\n",
      "branching: 5->23 (6.69/20.0 s, steps/err: 83(376.000881195 ms)/0.0468780918054)\n",
      "======================================================================================================================================================\n",
      "try: 16 - (1, 0)->(2, 0)\n",
      "try constrained motion\n",
      "joint min\n",
      "constrained motion tried: False\n",
      "Motion Plan Failure\n",
      "result: 16 - (1, 0)->(2, 0) = fail\n",
      "try: 1 - (1, 0)->(2, 0)\n",
      "try constrained motion\n",
      "joint min\n",
      "constrained motion tried: False\n",
      "Motion Plan Failure\n",
      "result: 1 - (1, 0)->(2, 0) = fail\n",
      "try: 8 - (1, 0)->(2, 0)\n",
      "try constrained motion\n",
      "joint min\n",
      "constrained motion tried: False\n",
      "Motion Plan Failure\n",
      "result: 8 - (1, 0)->(2, 0) = fail\n",
      "try: 0 - (0, 0)->(0, 1)\n",
      "try transition motion\n",
      "transition motion tried: True\n",
      "result: 0 - (0, 0)->(0, 1) = success\n",
      "branching: 0->24 (7.47/20.0 s, steps/err: 37(59.3988895416 ms)/0.00124411719914)\n",
      "======================================================================================================================================================\n",
      "try: 3 - (0, 1)->(0, 2)\n",
      "try constrained motion\n",
      "joint min\n",
      "constrained motion tried: False\n",
      "Motion Plan Failure\n",
      "result: 3 - (0, 1)->(0, 2) = fail\n",
      "try: 0 - (0, 0)->(0, 1)\n",
      "try transition motion\n",
      "transition motion tried: True\n",
      "result: 0 - (0, 0)->(0, 1) = success\n",
      "branching: 0->25 (7.78/20.0 s, steps/err: 42(72.1309185028 ms)/0.00158989385001)\n",
      "======================================================================================================================================================\n",
      "try: 0 - (0, 0)->(0, 1)\n",
      "try transition motion\n",
      "transition motion tried: True\n",
      "result: 0 - (0, 0)->(0, 1) = success\n",
      "branching: 0->26 (7.84/20.0 s, steps/err: 42(55.8431148529 ms)/0.00176974108554)\n",
      "======================================================================================================================================================\n",
      "try: 15 - (1, 0)->(2, 0)\n",
      "try constrained motion\n",
      "joint min\n",
      "constrained motion tried: False\n",
      "Motion Plan Failure\n",
      "result: 15 - (1, 0)->(2, 0) = fail\n",
      "try: 0 - (0, 0)->(0, 1)\n",
      "try transition motion\n",
      "transition motion tried: True\n",
      "result: 0 - (0, 0)->(0, 1) = success\n",
      "branching: 0->27 (8.14/20.0 s, steps/err: 42(52.6559352875 ms)/0.000926129772457)\n",
      "======================================================================================================================================================\n",
      "try: 9 - (0, 1)->(0, 2)\n",
      "try constrained motion\n",
      "joint min\n",
      "constrained motion tried: False\n",
      "Motion Plan Failure\n",
      "result: 9 - (0, 1)->(0, 2) = fail\n",
      "try: 0 - (0, 0)->(1, 0)\n",
      "try transition motion\n",
      "transition motion tried: True\n",
      "result: 0 - (0, 0)->(1, 0) = success\n",
      "branching: 0->28 (8.44/20.0 s, steps/err: 46(63.9779567719 ms)/0.00139307733481)\n",
      "======================================================================================================================================================\n",
      "try: 28 - (1, 0)->(2, 0)\n",
      "try constrained motion\n",
      "joint max\n",
      "constrained motion tried: False\n",
      "Motion Plan Failure\n",
      "result: 28 - (1, 0)->(2, 0) = fail\n",
      "try: 2 - (0, 1)->(0, 2)\n",
      "try constrained motion\n",
      "end\n",
      "constrained motion tried: True\n",
      "result: 2 - (0, 1)->(0, 2) = success\n",
      "branching: 2->29 (9.0/20.0 s, steps/err: 83(384.120941162 ms)/0.0468391477133)\n",
      "======================================================================================================================================================\n",
      "try: 0 - (0, 0)->(0, 1)\n",
      "try transition motion\n",
      "transition motion tried: True\n",
      "result: 0 - (0, 0)->(0, 1) = success\n",
      "branching: 0->30 (9.08/20.0 s, steps/err: 42(79.4551372528 ms)/0.0009502149602)\n",
      "======================================================================================================================================================\n",
      "try: 17 - (0, 1)->(0, 2)\n",
      "try constrained motion\n",
      "joint min\n",
      "constrained motion tried: False\n",
      "Motion Plan Failure\n",
      "result: 17 - (0, 1)->(0, 2) = fail\n",
      "try: 0 - (0, 0)->(0, 1)\n",
      "try transition motion\n",
      "transition motion tried: True\n",
      "result: 0 - (0, 0)->(0, 1) = success\n",
      "branching: 0->31 (9.4/20.0 s, steps/err: 48(85.0169658661 ms)/0.00197690787638)\n",
      "======================================================================================================================================================\n",
      "try: 0 - (0, 0)->(0, 1)\n",
      "try transition motion\n",
      "transition motion tried: True\n",
      "result: 0 - (0, 0)->(0, 1) = success\n",
      "branching: 0->32 (9.48/20.0 s, steps/err: 42(78.9589881897 ms)/0.00181911234532)\n",
      "======================================================================================================================================================\n",
      "try: 0 - (0, 0)->(0, 1)\n",
      "try transition motion\n",
      "transition motion tried: True\n",
      "result: 0 - (0, 0)->(0, 1) = success\n",
      "branching: 0->33 (9.53/20.0 s, steps/err: 42(53.1280040741 ms)/0.000725205751072)\n",
      "======================================================================================================================================================\n",
      "try: 0 - (0, 0)->(1, 0)\n",
      "try transition motion\n",
      "transition motion tried: True\n",
      "result: 0 - (0, 0)->(1, 0) = success\n",
      "branching: 0->34 (9.6/20.0 s, steps/err: 51(61.5568161011 ms)/0.00129065788336)\n",
      "======================================================================================================================================================\n",
      "try: 34 - (1, 0)->(2, 0)\n",
      "try constrained motion\n",
      "end\n",
      "constrained motion tried: True\n",
      "result: 34 - (1, 0)->(2, 0) = success\n",
      "branching: 34->35 (9.99/20.0 s, steps/err: 83(393.236875534 ms)/0.0508325378644)\n",
      "======================================================================================================================================================\n",
      "=========================================================================================================\n",
      "======================= terminated 0: first answer acquired ===============================\n",
      "=========================================================================================================\n",
      "try: 0 - (2, 0)->(2, 1)\n",
      "try transition motion\n",
      "transition motion tried: True\n",
      "result: 0 - (2, 0)->(2, 1) = success\n",
      "branching: 0->1 (0.05/20.0 s, steps/err: 40(49.0109920502 ms)/0.00196450096807)\n",
      "======================================================================================================================================================\n",
      "try: 1 - (2, 1)->(2, 2)\n",
      "try constrained motion\n"
     ]
    },
    {
     "name": "stdout",
     "output_type": "stream",
     "text": [
      "end\n",
      "constrained motion tried: True\n",
      "result: 1 - (2, 1)->(2, 2) = success\n",
      "branching: 1->2 (0.43/20.0 s, steps/err: 83(380.616903305 ms)/0.0450119688078)\n",
      "======================================================================================================================================================\n",
      "=========================================================================================================\n",
      "======================= terminated 0: first answer acquired ===============================\n",
      "=========================================================================================================\n"
     ]
    }
   ],
   "source": [
    "from pkg.utils.traj_utils import simplify_schedule, mix_schedule\n",
    "mplan.reset_log(False)\n",
    "gtimer.reset()\n",
    "tplan.prepare()\n",
    "mplan.update_gscene()\n",
    "    \n",
    "print(initial_state.node)\n",
    "\n",
    "obj_num = 0\n",
    "sweep_num = len(sweep_list)\n",
    "from_state = initial_state.copy(pscene)\n",
    "from_state.Q = np.array([0]*6)\n",
    "# from_state.Q = np.array([ 0.        , -0.48869219,  1.48352986, -0.        ,  0.99483767,\n",
    "#        3.14159265])\n",
    "t_exe = None\n",
    "snode_schedule_all = []\n",
    "for sweep_idx in range(sweep_num):\n",
    "#     gcheck.put_banned = [track_list[sweep_idx][2]]\n",
    "    sweep_goal = tuple([int(i_s<=sweep_idx)*2 for i_s in range(sweep_num)])\n",
    "#     sweep_goal = tuple([int(i_s<=sweep_idx)*2 for i_s in range(2)])+(0,)\n",
    "    goal_nodes = [(\"track_face\",)*obj_num+sweep_goal]\n",
    "    if sweep_idx < sweep_num-1:\n",
    "        for i_s in range(obj_num):\n",
    "            obj_goal = [\"track_face\"]*obj_num\n",
    "            obj_goal[i_s] = \"grip1\"\n",
    "            goal_nodes += [tuple(obj_goal)+sweep_goal]\n",
    "    gtimer.tic(\"plan{}\".format(sweep_idx))\n",
    "    ppline.search(from_state, goal_nodes, verbose=True, display=False, dt_vis=0.01, \n",
    "                  timeout_loop=20, multiprocess=False, timeout=0.5, timeout_constrained=2, \n",
    "                  add_homing=False, post_optimize=False)\n",
    "    gtimer.toc(\"plan{}\".format(sweep_idx))\n",
    "    schedules = ppline.tplan.find_schedules(False)\n",
    "    schedules_sorted = ppline.tplan.sort_schedule(schedules)\n",
    "    snode_schedule = ppline.tplan.idxSchedule2SnodeScedule(schedules_sorted[0])\n",
    "    if sweep_idx == 0:\n",
    "        snode_start = snode_schedule[1]\n",
    "        pscene.set_object_state(snode_schedule[0].state)\n",
    "        trajectory, success = mplan.planner.plan_joint_motion_py(\n",
    "            ROBOT_NAME, tuple(snode_start.traj[-1]), tuple(gaze_pose), timeout=1)\n",
    "        if success:\n",
    "            snode_start.traj = trajectory\n",
    "    if sweep_idx == sweep_num-1:\n",
    "        added_list = ppline.add_return_motion(snode_schedule[-1], initial_state=initial_state, timeout=0.5, try_count=2)\n",
    "        snode_schedule += added_list\n",
    "    snode_schedule_ori = snode_schedule\n",
    "    snode_schedule_simple = simplify_schedule(pscene, snode_schedule)\n",
    "#     snode_schedule_safe = calculate_safe_schedule(pscene, snode_schedule_simple, 5, 1)\n",
    "#     double_sweep_motions(snode_schedule_safe)\n",
    "#     snode_schedule = snode_schedule_safe\n",
    "#     snode_schedule = mix_schedule(mplan, snode_schedule_safe)\n",
    "    snode_schedule = snode_schedule_simple\n",
    "    from_state = snode_schedule[-1].state\n",
    "    snode_schedule_all.append(snode_schedule)"
   ]
  },
  {
   "cell_type": "markdown",
   "metadata": {},
   "source": [
    "## Refine sweep motion"
   ]
  },
  {
   "cell_type": "code",
   "execution_count": 48,
   "metadata": {},
   "outputs": [],
   "source": [
    "from demo_utils.refine_sweep import simplify_sweep\n",
    "for snode_schedule in snode_schedule_all:\n",
    "    simplify_sweep(pscene, mplan, snode_schedule, len_traj=20)"
   ]
  },
  {
   "cell_type": "markdown",
   "metadata": {},
   "source": [
    "## Play plan"
   ]
  },
  {
   "cell_type": "code",
   "execution_count": 49,
   "metadata": {},
   "outputs": [
    {
     "name": "stdout",
     "output_type": "stream",
     "text": [
      "(0, 0)->(0, 0)\n",
      "(0, 0)->(1, 0)\n",
      "(1, 0)->(2, 0)\n",
      "(2, 0)->(2, 0)\n",
      "(2, 0)->(2, 1)\n",
      "(2, 1)->(2, 2)\n",
      "(2, 2)->(2, 2)\n"
     ]
    }
   ],
   "source": [
    "for snode_schedule in snode_schedule_all:\n",
    "    ppline.play_schedule(snode_schedule, period=0.1)\n"
   ]
  },
  {
   "cell_type": "code",
   "execution_count": null,
   "metadata": {},
   "outputs": [],
   "source": []
  },
  {
   "cell_type": "markdown",
   "metadata": {},
   "source": [
    "## Execute plan"
   ]
  },
  {
   "cell_type": "code",
   "execution_count": 50,
   "metadata": {},
   "outputs": [],
   "source": [
    "def fn_move_indy():\n",
    "    print(\"execute one task\")\n",
    "    if CONNECT_INDY:\n",
    "        for snode_schedule in snode_schedule_all:\n",
    "            ppline.execute_schedule(snode_schedule, one_by_one=True)\n",
    "            with indy:\n",
    "                time.sleep(0.5)\n",
    "                indy.wait_for_move_finish()\n",
    "\n",
    "        with indy:\n",
    "            indy.joint_move_to(np.rad2deg(VIEW_POSE))\n",
    "            time.sleep(0.5)\n",
    "            indy.wait_for_move_finish()"
   ]
  },
  {
   "cell_type": "code",
   "execution_count": 51,
   "metadata": {},
   "outputs": [
    {
     "name": "stdout",
     "output_type": "stream",
     "text": [
      "execute one task\n"
     ]
    }
   ],
   "source": [
    "fn_move_indy()\n",
    "if cn_cur == Corners.Left and divisions[0]>=2:\n",
    "    cur_xyzw, tar_xyzw_rd, tar_xyzw = get_relative_mobile_command(SE3(np.identity(3), [0,section_size[1], 0]), CONNECT_MOBILE)\n",
    "    ref_xyzw = cur_xyzw\n",
    "    delta_xyzw = np.subtract(tar_xyzw, ref_xyzw)\n",
    "    for i_hori in range(1,divisions[0]-1):\n",
    "        tar_xyzw = delta_xyzw*i_hori + ref_xyzw\n",
    "        cur_xyzw = move_mobile_robot(cur_xyzw, tar_xyzw, tar_xyzw, CONNECT_MOBILE, move_direct=True)\n",
    "        fn_move_indy()"
   ]
  },
  {
   "cell_type": "code",
   "execution_count": null,
   "metadata": {},
   "outputs": [],
   "source": []
  },
  {
   "cell_type": "code",
   "execution_count": null,
   "metadata": {},
   "outputs": [],
   "source": []
  },
  {
   "cell_type": "markdown",
   "metadata": {},
   "source": [
    "## Re-adjust location"
   ]
  },
  {
   "cell_type": "code",
   "execution_count": 30,
   "metadata": {},
   "outputs": [
    {
     "name": "stdout",
     "output_type": "stream",
     "text": [
      "curre  xyzw: [0 0 0 1]\n",
      "ready  xyzw: [-0.52  0.02 -0.01  1.  ]\n",
      "target xyzw: [-0.12  0.01 -0.01  1.  ]\n"
     ]
    }
   ],
   "source": [
    "# T_bb2 = np.matmul(T_bo, SE3_inv(T_bo_bak))\n",
    "# gscene.add_highlight_axis(\"target\", \"base\", \"base_link\", T_bb2[:3,3], T_bb2[:3,:3])\n",
    "\n",
    "# T_mm2, T_bm2 = base_offet_to_mobile(T_bb2, CONNECT_MOBILE)\n",
    "\n",
    "# cur_xyzw, tar_xyzw_rd, tar_xyzw = get_relative_mobile_command(T_mm2, CONNECT_MOBILE)\n",
    "# cur_xyzw = move_mobile_robot(cur_xyzw, tar_xyzw_rd, tar_xyzw, CONNECT_MOBILE)\n",
    "\n",
    "# T_bo = T_bo_bak\n",
    "# table_front = gscene.create_safe(gtype=GEOTYPE.BOX, name=\"table_front\", link_name=\"base_link\",\n",
    "#                                  dims=TABLE_DIMS, center=T_bo[:3, 3], rpy=Rot2rpy(T_bo[:3, :3]),\n",
    "#                                  color=(0.8, 0.8, 0.8, 0.5), display=True, fixed=True, collision=False)"
   ]
  },
  {
   "cell_type": "markdown",
   "metadata": {},
   "source": [
    "## Test sweep manually"
   ]
  },
  {
   "cell_type": "code",
   "execution_count": null,
   "metadata": {},
   "outputs": [],
   "source": [
    "# from pkg.utils.rotation_utils import *\n",
    "# from pkg.planning.constraint.constraint_subject import SweepLineTask\n",
    "# from pkg.utils.utils import list2dict\n",
    "\n",
    "# def get_jacobian(gscene, gtem, Q):\n",
    "#     Q_dict = list2dict(Q, gscene.joint_names)\n",
    "#     Jac = []\n",
    "#     for ij, jname in enumerate(gscene.joint_names):\n",
    "#         joint = gscene.urdf_content.joint_map[jname]\n",
    "#         Tj = T_xyzrpy((joint.origin.xyz, joint.origin.rpy))\n",
    "#         T_link = get_tf(joint.parent, Q_dict, gscene.urdf_content)\n",
    "#         T_bj = np.matmul(T_link, Tj)\n",
    "#         zi = np.matmul(T_bj[:3, :3], joint.axis)\n",
    "#         T_p = gtem.get_tf(Q_dict)\n",
    "#         dpi = T_p[:3, 3] - T_bj[:3, 3]\n",
    "#         zp = np.cross(zi, dpi)\n",
    "#         Ji = np.concatenate([zp, zi])\n",
    "#         Jac.append(Ji)\n",
    "#     Jac = np.array(Jac).transpose()\n",
    "#     return Jac\n",
    "\n",
    "# for k, v in ppline.tplan.snode_dict.items():\n",
    "#     gscene.show_motion(snode.traj)\n",
    "\n",
    "\n",
    "#     SINGULARITY_CUT = 0.01\n",
    "#     len_traj = 100\n",
    "\n",
    "#     Qi = snode.traj[-1]\n",
    "#     Qidict = list2dict(Qi, gscene.joint_names)\n",
    "#     Ti = gtem.get_tf(Qidict)\n",
    "\n",
    "#     dP = wp2.Toff[:3,3] - wp1.Toff[:3,3]\n",
    "#     dPabs = np.linalg.norm(dP)\n",
    "#     DP = dPabs / len_traj\n",
    "#     DIR = np.concatenate([dP / dPabs, [0] * 3])\n",
    "#     Q = Qi\n",
    "\n",
    "\n",
    "#     singularity = False\n",
    "#     Traj_wipe = [Qi]\n",
    "\n",
    "#     for _ in range(len_traj):\n",
    "#         Jac = get_jacobian(gscene, gtem, Q)\n",
    "#         if np.min(np.abs(np.real(np.linalg.svd(Jac)[1]))) <= SINGULARITY_CUT:\n",
    "#             singularity = True\n",
    "#             print(\"singular\")\n",
    "# #             break\n",
    "#         Jinv = np.linalg.inv(Jac)\n",
    "#         dQ = np.matmul(Jinv, np.multiply(DIR, DP))\n",
    "#         Q = Q + dQ\n",
    "#         Traj_wipe.append(Q)\n",
    "#         dlim = np.subtract(RobotSpecs.get_joint_limits(RobotType.indy7), Q[:, np.newaxis])\n",
    "#         if np.any(dlim[:, 0] > 0):\n",
    "#             print(\"min lim: {}\".format(np.where(dlim[:, 0] > 0)[0]))\n",
    "#             break\n",
    "#         if np.any(dlim[:, 1] < 0):\n",
    "#             print(\"max lim: {}\".format(np.where(dlim[:, 1] < 0)[0]))\n",
    "#             break\n",
    "#     #         if not mplan.validate_trajectory([Q]):\n",
    "#     #             print(\"col\")\n",
    "#     #             break\n",
    "#     #         Tnew = gtem.get_tf(list2dict(Q, gscene.joint_names))\n",
    "#     #         if np.abs(Ti[0,3]-Tnew[0,3])>0.01:\n",
    "#     #             print(\"off\")\n",
    "#     #             break\n",
    "#     gscene.show_motion(Traj_wipe)\n",
    "\n",
    "#     Traj_wipe = np.array(Traj_wipe)"
   ]
  },
  {
   "cell_type": "markdown",
   "metadata": {},
   "source": [
    "## test saved param"
   ]
  },
  {
   "cell_type": "code",
   "execution_count": null,
   "metadata": {},
   "outputs": [],
   "source": [
    "# Tcur = get_tf(mplan.sweep_params[0], mplan.sweep_params[1], mplan.sweep_params[2], mplan.sweep_params[3])\n",
    "# T_tar_tool = mplan.sweep_params[-1]\n",
    "\n",
    "# ee_point = gscene.create_safe(GEOTYPE.SPHERE, \"end_point\", TIP_LINK, (0.01,)*3, \n",
    "#                               center=(0,0,0), rpy=(0,0,0), \n",
    "#                               color=(0.8,0.2,0.2,0.8), display=True, fixed=True, collision=False)\n",
    "\n",
    "# from_Q_dict = mplan.sweep_params[1]\n",
    "# from_Q = dict2list(from_Q_dict, gscene.joint_names)\n",
    "\n",
    "# trajectory = get_sweep_traj(mplan, brush_face.geometry, np.subtract(T_tar_tool[:3,3], Tcur[:3, 3]),\n",
    "#                             from_Q, DP=0.01, ERROR_CUT=0.01, SINGULARITY_CUT = 0.01, VISUALIZE=True, \n",
    "#                             VERBOSE=True)\n",
    "\n",
    "# Tnew = get_tf(mplan.sweep_params[0], list2dict(trajectory[-1], gscene.joint_names), mplan.sweep_params[2], mplan.sweep_params[3])\n",
    "# success = np.sum(np.abs(Tcur[:3,3]-Tnew[:3,3]))<1e-2"
   ]
  },
  {
   "cell_type": "code",
   "execution_count": null,
   "metadata": {},
   "outputs": [],
   "source": []
  }
 ],
 "metadata": {
  "kernelspec": {
   "display_name": "Python 2",
   "language": "python",
   "name": "python2"
  },
  "language_info": {
   "codemirror_mode": {
    "name": "ipython",
    "version": 2
   },
   "file_extension": ".py",
   "mimetype": "text/x-python",
   "name": "python",
   "nbconvert_exporter": "python",
   "pygments_lexer": "ipython2",
   "version": "2.7.17"
  }
 },
 "nbformat": 4,
 "nbformat_minor": 2
}
