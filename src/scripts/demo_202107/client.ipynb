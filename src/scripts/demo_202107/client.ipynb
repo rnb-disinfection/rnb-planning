{
 "cells": [
  {
   "cell_type": "code",
   "execution_count": 7,
   "metadata": {},
   "outputs": [],
   "source": [
    "import os\n",
    "import sys\n",
    "sys.path.append(os.path.join(os.environ[\"RNB_PLANNING_DIR\"], 'src'))\n",
    "\n",
    "from demo_utils.streaming import *\n",
    "from pkg.utils.utils import GlobalTimer\n",
    "\n",
    "HOST = '192.168.0.10'"
   ]
  },
  {
   "cell_type": "code",
   "execution_count": 3,
   "metadata": {},
   "outputs": [],
   "source": [
    "rdict = send_recv_demo_cam({1:1}, host=HOST)"
   ]
  },
  {
   "cell_type": "code",
   "execution_count": 4,
   "metadata": {},
   "outputs": [],
   "source": [
    "gtimer = GlobalTimer.instance()\n",
    "for _ in range(10):\n",
    "    with gtimer.block(\"send_recv_demo_cam\"):\n",
    "        rdict = send_recv_demo_cam({1:1}, host=HOST, port=PORT, buffer_len=1024)\n",
    "    "
   ]
  },
  {
   "cell_type": "code",
   "execution_count": 5,
   "metadata": {},
   "outputs": [
    {
     "name": "stdout",
     "output_type": "stream",
     "text": [
      "send_recv_demo_cam: \t2326.5 ms/10 = 232.6 ms (176.654/305.904)\n",
      "\n"
     ]
    }
   ],
   "source": [
    "print(gtimer)"
   ]
  },
  {
   "cell_type": "code",
   "execution_count": null,
   "metadata": {},
   "outputs": [],
   "source": []
  },
  {
   "cell_type": "code",
   "execution_count": 8,
   "metadata": {},
   "outputs": [],
   "source": [
    "while True: \n",
    "\n",
    "    rdict = send_recv_demo_cam({1:1}, host=HOST, port=PORT, buffer_len=1024)\n",
    "    cv2.imshow('ColorImage',rdict['color'])\n",
    "    cv2.imshow('DepthImage',rdict['depth'])\n",
    "    \n",
    "    key = cv2.waitKey(1)\n",
    "    if (key == 27):\n",
    "        cv2.destroyAllWindows()\n",
    "        break"
   ]
  },
  {
   "cell_type": "code",
   "execution_count": null,
   "metadata": {},
   "outputs": [],
   "source": []
  }
 ],
 "metadata": {
  "kernelspec": {
   "display_name": "Python 2",
   "language": "python",
   "name": "python2"
  },
  "language_info": {
   "codemirror_mode": {
    "name": "ipython",
    "version": 2
   },
   "file_extension": ".py",
   "mimetype": "text/x-python",
   "name": "python",
   "nbconvert_exporter": "python",
   "pygments_lexer": "ipython2",
   "version": "2.7.17"
  }
 },
 "nbformat": 4,
 "nbformat_minor": 2
}
