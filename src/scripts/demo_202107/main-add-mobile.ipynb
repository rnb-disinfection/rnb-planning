{
 "cells": [
  {
   "cell_type": "code",
   "execution_count": 1,
   "metadata": {},
   "outputs": [],
   "source": [
    "import os\n",
    "import sys\n",
    "os.chdir(os.path.join(os.environ[\"RNB_PLANNING_DIR\"], 'src'))\n",
    "sys.path.append(os.path.join(os.environ[\"RNB_PLANNING_DIR\"], 'src/scripts/demo_202107'))"
   ]
  },
  {
   "cell_type": "code",
   "execution_count": 2,
   "metadata": {},
   "outputs": [
    {
     "name": "stdout",
     "output_type": "stream",
     "text": [
      "Current PC IP: 192.168.0.4\n",
      "Mobile ROB IP: 192.168.0.102\n"
     ]
    }
   ],
   "source": [
    "from pkg.global_config import RNB_PLANNING_DIR\n",
    "from demo_utils.kiro_udp_send import start_mobile_udp_thread, send_pose_wait, get_xyzw_cur, get_reach_state\n",
    "from pkg.utils.utils import *    \n",
    "ip_cur =  get_ip_address()\n",
    "MOBILE_IP = \"192.168.0.102\"\n",
    "print(\"Current PC IP: {}\".format(ip_cur))\n",
    "print(\"Mobile ROB IP: {}\".format(MOBILE_IP))"
   ]
  },
  {
   "cell_type": "code",
   "execution_count": 8,
   "metadata": {},
   "outputs": [
    {
     "name": "stdout",
     "output_type": "stream",
     "text": [
      "Current PC IP: 192.168.0.123\n"
     ]
    }
   ],
   "source": [
    "sock, server_thread = start_mobile_udp_thread(recv_ip=ip_cur)\n",
    "# tar_xyzw = (0,0,0,0)\n",
    "# raise(NotImplementedError(\"tar_xyzw: relative? absolute?\"))\n",
    "# cur_xyzw = send_pose_wait(tar_xyzw, send_ip=MOBILE_IP)"
   ]
  },
  {
   "cell_type": "code",
   "execution_count": 3,
   "metadata": {},
   "outputs": [],
   "source": [
    "# Directory setting\n",
    "DEMO_DIR = os.path.join(RNB_PLANNING_DIR, \"src/scripts/demo_202107\")\n",
    "CONFIG_DIR = os.path.join(DEMO_DIR, \"configs\")\n",
    "SAVE_DIR = os.path.join(DEMO_DIR, \"save_img\")\n",
    "CROP_DIR = os.path.join(DEMO_DIR, \"crop_img\")\n",
    "MODEL_DIR = os.path.join(DEMO_DIR, \"model_CAD\")\n",
    "\n",
    "# Table dimension\n",
    "T_Width = 1.8\n",
    "T_Height = 0.785\n",
    "T_Depth = 0.734"
   ]
  },
  {
   "cell_type": "code",
   "execution_count": 4,
   "metadata": {},
   "outputs": [
    {
     "name": "stdout",
     "output_type": "stream",
     "text": [
      "connection command:\n",
      "indy0: False\n"
     ]
    }
   ],
   "source": [
    "from pkg.controller.combined_robot import *\n",
    "from pkg.project_config import *\n",
    "INDY_IP = \"192.168.0.3\"\n",
    "crob = CombinedRobot(robots_on_scene=[\n",
    "    RobotConfig(0, RobotType.indy7, None,\n",
    "                INDY_IP, specs={\"no_sdk\":True})]\n",
    "              , connection_list=[False])"
   ]
  },
  {
   "cell_type": "code",
   "execution_count": 5,
   "metadata": {},
   "outputs": [],
   "source": [
    "from pkg.geometry.builder.scene_builder import SceneBuilder\n",
    "s_builder = SceneBuilder(None)\n",
    "# s_builder.reset_reference_coord(ref_name=\"floor\")"
   ]
  },
  {
   "cell_type": "code",
   "execution_count": 6,
   "metadata": {},
   "outputs": [
    {
     "name": "stdout",
     "output_type": "stream",
     "text": [
      "Please create a subscriber to the marker\n",
      "publication OK\n",
      "published: [0, 0, 0, 0, 0, 0]\n"
     ]
    }
   ],
   "source": [
    "# xyz_rpy_robots = s_builder.detect_items(level_mask=[DetectionLevel.ROBOT])\n",
    "xyz_rpy_robots = {\"indy0\": ((0,0,0), (0,0,np.pi))}\n",
    "crob.update_robot_pos_dict(xyz_rpy_robots=xyz_rpy_robots)\n",
    "gscene = s_builder.create_gscene(crob)"
   ]
  },
  {
   "cell_type": "code",
   "execution_count": 7,
   "metadata": {},
   "outputs": [
    {
     "name": "stdout",
     "output_type": "stream",
     "text": [
      "Dash is running on http://0.0.0.0:8050/\n",
      "\n",
      " * Serving Flask app \"pkg.ui.dash_launcher\" (lazy loading)\n",
      " * Environment: production\n"
     ]
    }
   ],
   "source": [
    "from pkg.planning.scene import PlanningScene\n",
    "pscene = PlanningScene(gscene, combined_robot=crob)\n",
    "\n",
    "from pkg.planning.pipeline import PlanningPipeline\n",
    "ppline = PlanningPipeline(pscene)\n",
    "\n",
    "from pkg.ui.ui_broker import *\n",
    "\n",
    "# start UI\n",
    "ui_broker = UIBroker.instance()\n",
    "ui_broker.initialize(ppline, s_builder)\n",
    "ui_broker.start_server()\n",
    "\n",
    "ui_broker.set_tables()"
   ]
  },
  {
   "cell_type": "code",
   "execution_count": 8,
   "metadata": {},
   "outputs": [
    {
     "name": "stdout",
     "output_type": "stream",
     "text": [
      "Please create a subscriber to the marker\n",
      "   WARNING: This is a development server. Do not use it in a production deployment.\n",
      "   Use a production WSGI server instead.\n",
      " * Debug mode: off\n"
     ]
    }
   ],
   "source": [
    "gtems = s_builder.add_robot_geometries(color=(0,1,0,0.5), display=True, collision=True)\n",
    "gscene.set_workspace_boundary( -1.5, 1.5, -1, 1, -0.1, 1.75)"
   ]
  },
  {
   "cell_type": "markdown",
   "metadata": {},
   "source": [
    "## add env"
   ]
  },
  {
   "cell_type": "code",
   "execution_count": 9,
   "metadata": {},
   "outputs": [],
   "source": [
    "\n",
    "# geometry 추가\n",
    "mobile_base = gscene.create_safe(gtype=GEOTYPE.BOX, name=\"mobile_base\", link_name=\"base_link\", \n",
    "                   dims=(0.6,0.4,0.439), center=(0,0,-0.439/2), rpy=(0,0,0), \n",
    "                   color=(0.8,0.8,0.8,0.5), display=True, fixed=True, collision=False)\n",
    "floor = gscene.create_safe(gtype=GEOTYPE.BOX, name=\"floor\", link_name=\"base_link\", \n",
    "                   dims=(6,6,0.01), center=(0,0,-0.439), rpy=(0,0,0), \n",
    "                   color=(0.8,0.8,0.8,0.5), display=True, fixed=True, collision=False)"
   ]
  },
  {
   "cell_type": "code",
   "execution_count": null,
   "metadata": {},
   "outputs": [],
   "source": []
  },
  {
   "cell_type": "markdown",
   "metadata": {},
   "source": [
    "## add cam"
   ]
  },
  {
   "cell_type": "code",
   "execution_count": 10,
   "metadata": {},
   "outputs": [],
   "source": [
    "for gtem in gscene:\n",
    "    round_it_str(gtem.dims)\n",
    "    round_it_str(gtem.center)"
   ]
  },
  {
   "cell_type": "code",
   "execution_count": 11,
   "metadata": {},
   "outputs": [
    {
     "data": {
      "text/plain": [
       "<pkg.geometry.geometry.GeometryItem at 0x7f3f14ede450>"
      ]
     },
     "execution_count": 11,
     "metadata": {},
     "output_type": "execute_result"
    }
   ],
   "source": [
    "from pkg.geometry.geotype import GEOTYPE\n",
    "gscene.create_safe(gtype=GEOTYPE.CYLINDER, name=\"cam\", link_name=\"indy0_tcp\", \n",
    "                   dims=(0.061,0.061,0.026), center=(-0.0785,0,0.013), rpy=(0,0,0), \n",
    "                   color=(0.8,0.8,0.8,0.5), display=True, fixed=True, collision=False)\n",
    "\n",
    "gscene.create_safe(gtype=GEOTYPE.CYLINDER, name=\"cam_col\", link_name=\"indy0_tcp\", \n",
    "                   dims=(0.081,0.081,0.046), center=(-0.0785,0,0.013), rpy=(0,0,0), \n",
    "                   color=(0.0,1,0,0.3), display=True, fixed=True, collision=True)\n",
    "\n",
    "viewpoint = gscene.create_safe(gtype=GEOTYPE.SPHERE, name=\"viewpoint\", link_name=\"indy0_tcp\", \n",
    "                   dims=(0.01,0.01,0.01), center=(0,0,0), rpy=(0,0,-np.pi/2), \n",
    "                   color=(1,0,0,0.3), display=True, fixed=True, collision=False, parent=\"cam\")\n",
    "\n",
    "gscene.create_safe(gtype=GEOTYPE.CYLINDER, name=\"body\", link_name=\"indy0_tcp\", \n",
    "                   dims=(0.067,0.067,0.0335), center=(-0.0785,0,-0.01675), rpy=(0,0,0), \n",
    "                   color=(0.8,0.8,0.8,1), display=True, fixed=True, collision=False)\n",
    "\n",
    "gscene.create_safe(gtype=GEOTYPE.CYLINDER, name=\"body_col\", link_name=\"indy0_tcp\", \n",
    "                   dims=(0.087,0.087,0.0535), center=(-0.0785,0,-0.01675), rpy=(0,0,0), \n",
    "                   color=(0.0,1,0,0.3), display=True, fixed=True, collision=True)\n",
    "\n",
    "gscene.create_safe(gtype=GEOTYPE.SPHERE, name=\"backhead\", link_name=\"indy0_tcp\", \n",
    "                   dims=(0.067,0.067,0.067), center=(-0.0785,0,-0.0335), rpy=(0,0,0), \n",
    "                   color=(0.8,0.8,0.8,1), display=True, fixed=True, collision=False)\n",
    "\n",
    "gscene.create_safe(gtype=GEOTYPE.SPHERE, name=\"backhead_col\", link_name=\"indy0_tcp\", \n",
    "                   dims=(0.087,0.087,0.087), center=(-0.0785,0,-0.0335), rpy=(0,0,0), \n",
    "                   color=(0.0,1,0,0.3), display=True, fixed=True, collision=True)"
   ]
  },
  {
   "cell_type": "code",
   "execution_count": 12,
   "metadata": {},
   "outputs": [],
   "source": [
    "gscene.update_markers_all()"
   ]
  },
  {
   "cell_type": "markdown",
   "metadata": {},
   "source": [
    "## add indy tool"
   ]
  },
  {
   "cell_type": "code",
   "execution_count": 13,
   "metadata": {},
   "outputs": [
    {
     "data": {
      "text/plain": [
       "<pkg.geometry.geometry.GeometryItem at 0x7f3f10fa9d50>"
      ]
     },
     "execution_count": 13,
     "metadata": {},
     "output_type": "execute_result"
    }
   ],
   "source": [
    "gscene = gscene\n",
    "robot_name=\"indy0\"\n",
    "face_name=\"brush_face\"\n",
    "\n",
    "gscene.create_safe(gtype=GEOTYPE.CYLINDER, name=\"{}_adapter\".format(robot_name),\n",
    "                   link_name=\"{}_tcp\".format(robot_name),\n",
    "                   center=(0, 0, 0.0025), dims=(0.09, 0.09, 0.005), rpy=(0, 0, 0), color=(0.8, 0.8, 0.8, 1),\n",
    "                   collision=False, fixed=True)\n",
    "gscene.create_safe(gtype=GEOTYPE.CYLINDER, name=\"{}_adapter_col\".format(robot_name),\n",
    "                   link_name=\"{}_tcp\".format(robot_name),\n",
    "                   center=(0, 0, 0.0025), dims=(0.13, 0.13, 0.005), rpy=(0, 0, 0), color=(0.0, 0.8, 0.0, 0.5),\n",
    "                   collision=True, fixed=True)\n",
    "\n",
    "gscene.create_safe(gtype=GEOTYPE.BOX, name=\"{}_hindge0\".format(robot_name),\n",
    "                   link_name=\"{}_tcp\".format(robot_name),\n",
    "                   center=(0, 0, 0.0125), dims=(0.022, 0.036, 0.025), rpy=(0, 0, 0), color=(0.8, 0.8, 0.8, 1),\n",
    "                   collision=False, fixed=True)\n",
    "gscene.create_safe(gtype=GEOTYPE.BOX, name=\"{}_hindge0_col\".format(robot_name),\n",
    "                   link_name=\"{}_tcp\".format(robot_name),\n",
    "                   center=(0, 0, 0.0125), dims=(0.062, 0.076, 0.025), rpy=(0, 0, 0), color=(0.0, 0.8, 0.0, 0.5),\n",
    "                   collision=True, fixed=True)\n",
    "\n",
    "gscene.create_safe(gtype=GEOTYPE.BOX, name=\"{}_bar\".format(robot_name),\n",
    "                   link_name=\"{}_tcp\".format(robot_name),\n",
    "                   center=(0.053, 0, 0.068), dims=(0.011, 0.020, 0.15), rpy=(0, 1*pi/4, 0), color=(0.8, 0.8, 0.8, 1),\n",
    "                   collision=False, fixed=True)\n",
    "gscene.create_safe(gtype=GEOTYPE.BOX, name=\"{}_bar_col\".format(robot_name),\n",
    "                   link_name=\"{}_tcp\".format(robot_name),\n",
    "                   center=(0.053, 0, 0.068), dims=(0.051, 0.060, 0.15), rpy=(0, 1*pi/4, 0), color=(0.0, 0.8, 0.0, 0.5),\n",
    "                   collision=True, fixed=True)\n",
    "\n",
    "gscene.create_safe(gtype=GEOTYPE.BOX, name=\"{}_hindge1\".format(robot_name),\n",
    "                   link_name=\"{}_tcp\".format(robot_name),\n",
    "                   center=(0.1085,0,0.121), dims=(0.025, 0.036, 0.022), rpy=(0, 0, 0), color=(0.8, 0.8, 0.8, 1),\n",
    "                   collision=False, fixed=True)\n",
    "gscene.create_safe(gtype=GEOTYPE.BOX, name=\"{}_hindge1_col\".format(robot_name),\n",
    "                   link_name=\"{}_tcp\".format(robot_name),\n",
    "                   center=(0.1085,0,0.121), dims=(0.025, 0.076, 0.062), rpy=(0, 0, 0), color=(0.0, 0.8, 0.0, 0.5),\n",
    "                   collision=True, fixed=True)\n",
    "\n",
    "gscene.create_safe(gtype=GEOTYPE.CYLINDER, name=\"{}_brushbase\".format(robot_name),\n",
    "                   link_name=\"{}_tcp\".format(robot_name),\n",
    "                   center=(0.1285,0,0.121), dims=(0.08, 0.08, 0.015), rpy=(0, pi/2, 0), color=(0.8, 0.8, 0.8, 1),\n",
    "                   collision=False, fixed=True)\n",
    "gscene.create_safe(gtype=GEOTYPE.CYLINDER, name=\"{}_brushbase_col\".format(robot_name),\n",
    "                   link_name=\"{}_tcp\".format(robot_name),\n",
    "                   center=(0.1285,0,0.121), dims=(0.12, 0.12, 0.015), rpy=(0, pi/2, 0), color=(0.0, 0.8, 0.0, 0.5),\n",
    "                   collision=True, fixed=True)\n",
    "gscene.create_safe(gtype=GEOTYPE.BOX, name=face_name, link_name=\"{}_tcp\".format(robot_name),\n",
    "                   center=(0.147,0,0.121), dims=(0.037, 0.10, 0.34), rpy=(np.pi, 0, pi), color=(1.0, 1.0, 0.94, 1),\n",
    "                   collision=False, fixed=True)\n",
    "gscene.create_safe(gtype=GEOTYPE.BOX, name=\"{}_col\".format(face_name), link_name=\"{}_tcp\".format(robot_name),\n",
    "                   center=(0.127,0,0.121), dims=(0.057, 0.10, 0.36), rpy=(np.pi, 0, pi), color=(0.0, 0.8, 0.0, 0.5),\n",
    "                   collision=True, fixed=True)"
   ]
  },
  {
   "cell_type": "markdown",
   "metadata": {},
   "source": [
    "## Register binders"
   ]
  },
  {
   "cell_type": "code",
   "execution_count": 14,
   "metadata": {},
   "outputs": [
    {
     "data": {
      "text/plain": [
       "<pkg.planning.constraint.constraint_actor.SweepFramer at 0x7f3f14ee9f50>"
      ]
     },
     "execution_count": 14,
     "metadata": {},
     "output_type": "execute_result"
    }
   ],
   "source": [
    "from pkg.planning.constraint.constraint_actor import Gripper2Tool, PlacePlane, SweepFramer, FixtureSlot\n",
    "pscene.create_binder(bname=\"brush_face\", gname=\"brush_face\", _type=SweepFramer, point=(-gscene.NAME_DICT['brush_face'].dims[0]/2,0,0), \n",
    "                     rpy=(0,np.pi/2*1,0))"
   ]
  },
  {
   "cell_type": "code",
   "execution_count": null,
   "metadata": {},
   "outputs": [],
   "source": []
  },
  {
   "cell_type": "code",
   "execution_count": 15,
   "metadata": {},
   "outputs": [],
   "source": [
    "# Q = [0]*6\n",
    "# viewpoint.draw_traj_coords([Q])\n",
    "# gscene.show_pose(crob.home_pose)\n",
    "# inspect_arguments(gscene.create_safe)\n",
    "# gscene.add_highlight_axis(\"ax\", \"tcp\", \"indy0_tcp\", center=(0,)*3, orientation_mat=np.identity(3))"
   ]
  },
  {
   "cell_type": "code",
   "execution_count": null,
   "metadata": {},
   "outputs": [],
   "source": []
  },
  {
   "cell_type": "markdown",
   "metadata": {},
   "source": [
    "## move indy to viewing pose"
   ]
  },
  {
   "cell_type": "code",
   "execution_count": 16,
   "metadata": {},
   "outputs": [],
   "source": [
    "indy = crob.robot_dict[\"indy0\"]"
   ]
  },
  {
   "cell_type": "code",
   "execution_count": 19,
   "metadata": {
    "scrolled": true
   },
   "outputs": [],
   "source": [
    "VIEW_POSE = np.deg2rad([  0., -28.,  85.,  -0.,  57., 179.])\n",
    "if indy is not None:\n",
    "    with indy:\n",
    "        indy.joint_move_to(np.rad2deg(VIEW_POSE))\n",
    "        time.sleep(0.5)\n",
    "        indy.wait_for_move_finish()\n",
    "        Qcur = np.deg2rad(indy.get_joint_pos())\n",
    "else:\n",
    "    Qcur = VIEW_POSE\n",
    "gscene.show_pose(Qcur)"
   ]
  },
  {
   "cell_type": "code",
   "execution_count": 20,
   "metadata": {},
   "outputs": [
    {
     "data": {
      "text/plain": [
       "[array([[ 7.09853221e-03, -4.06674659e-01,  9.13545473e-01,\n",
       "          3.34360899e-01],\n",
       "        [-9.99847710e-01, -1.74524058e-02,  1.63322856e-11,\n",
       "          1.87870006e-01],\n",
       "        [ 1.59435663e-02, -9.13406350e-01, -4.06736601e-01,\n",
       "          8.61128940e-01],\n",
       "        [ 0.00000000e+00,  0.00000000e+00,  0.00000000e+00,\n",
       "          1.00000000e+00]])]"
      ]
     },
     "execution_count": 20,
     "metadata": {},
     "output_type": "execute_result"
    }
   ],
   "source": [
    "viewpoint.draw_traj_coords([Qcur])"
   ]
  },
  {
   "cell_type": "code",
   "execution_count": null,
   "metadata": {},
   "outputs": [],
   "source": []
  },
  {
   "cell_type": "code",
   "execution_count": 20,
   "metadata": {},
   "outputs": [
    {
     "name": "stdout",
     "output_type": "stream",
     "text": [
      "Connect: Server IP (192.168.0.3)\n",
      "Connect: Server IP (192.168.0.3)\n",
      "Connect: Server IP (192.168.0.3)\n",
      "Connect: Server IP (192.168.0.3)\n",
      "Connect: Server IP (192.168.0.3)\n",
      "Connect: Server IP (192.168.0.3)\n",
      "Connect: Server IP (192.168.0.3)\n",
      "Connect: Server IP (192.168.0.3)\n",
      "Connect: Server IP (192.168.0.3)\n",
      "Connect: Server IP (192.168.0.3)\n",
      "Connect: Server IP (192.168.0.3)\n",
      "Connect: Server IP (192.168.0.3)\n",
      "Connect: Server IP (192.168.0.3)\n",
      "Connect: Server IP (192.168.0.3)\n",
      "Connect: Server IP (192.168.0.3)\n",
      "Connect: Server IP (192.168.0.3)\n",
      "Connect: Server IP (192.168.0.3)\n",
      "Connect: Server IP (192.168.0.3)\n",
      "Connect: Server IP (192.168.0.3)\n",
      "Connect: Server IP (192.168.0.3)\n",
      "Connect: Server IP (192.168.0.3)\n",
      "Connect: Server IP (192.168.0.3)\n",
      "Connect: Server IP (192.168.0.3)\n",
      "Connect: Server IP (192.168.0.3)\n",
      "Connect: Server IP (192.168.0.3)\n",
      "Connect: Server IP (192.168.0.3)\n",
      "Connect: Server IP (192.168.0.3)\n",
      "Connect: Server IP (192.168.0.3)\n",
      "Connect: Server IP (192.168.0.3)\n",
      "Connect: Server IP (192.168.0.3)\n"
     ]
    }
   ],
   "source": [
    "# Start streaming & Save color, depth image\n",
    "# Return is intrinsic parameter, depth_scale of camera\n",
    "cam_intrins, d_scale = camera_streaming()"
   ]
  },
  {
   "cell_type": "code",
   "execution_count": 33,
   "metadata": {},
   "outputs": [],
   "source": [
    "import SharedArray as sa\n",
    "import numpy as np\n",
    "import cv2\n",
    "import time\n",
    "import matplotlib.pyplot as plt\n",
    "\n",
    "IMG_URI = \"shm://color_img\"\n",
    "MASK_URI = \"shm://mask_img\"\n",
    "REQ_URI = \"shm://request\"\n",
    "RESP_URI = \"shm://response\"\n",
    "\n",
    "color_img_p = sa.attach(IMG_URI)\n",
    "return_img_p = sa.attach(MASK_URI)\n",
    "request_p = sa.attach(REQ_URI)\n",
    "resp_p = sa.attach(RESP_URI)\n",
    "\n",
    "def detect_from_server(image):\n",
    "    color_img_p[:] = image[:]\n",
    "    request_p[:] = 1\n",
    "    while not resp_p[0]:\n",
    "        time.sleep(0.01)\n",
    "    resp_p[:] = 0\n",
    "    return np.copy(return_img_p.astype(np.bool))"
   ]
  },
  {
   "cell_type": "code",
   "execution_count": 34,
   "metadata": {},
   "outputs": [],
   "source": [
    "# Set color, depth image path\n",
    "# color_img_path = SAVE_DIR + '/color.jpg'\n",
    "# depth_img_path = SAVE_DIR + '/depth.png'\n",
    "color_img_path = DATASET_DIR + '/color.jpg'\n",
    "depth_img_path = DATASET_DIR + '/depth.png'\n",
    "\n",
    "# Read color, depth image file, keep 16bit information\n",
    "color_img_read = cv2.imread(color_img_path, flags=cv2.IMREAD_UNCHANGED)\n",
    "depth_img_read = cv2.imread(depth_img_path, flags=cv2.IMREAD_UNCHANGED)"
   ]
  },
  {
   "cell_type": "code",
   "execution_count": 35,
   "metadata": {},
   "outputs": [],
   "source": [
    "# Output of inference(mask for detected table)\n",
    "mask_out = detect_from_server(color_img_read)"
   ]
  },
  {
   "cell_type": "code",
   "execution_count": 36,
   "metadata": {},
   "outputs": [
    {
     "data": {
      "text/plain": [
       "<matplotlib.image.AxesImage at 0x7f5c286f7bd0>"
      ]
     },
     "execution_count": 36,
     "metadata": {},
     "output_type": "execute_result"
    },
    {
     "data": {
      "image/png": "[encoded data removed]",
      "text/plain": [
       "<Figure size 432x288 with 1 Axes>"
      ]
     },
     "metadata": {
      "needs_background": "light"
     },
     "output_type": "display_data"
    }
   ],
   "source": [
    "plt.imshow(mask_out)"
   ]
  },
  {
   "cell_type": "code",
   "execution_count": null,
   "metadata": {},
   "outputs": [],
   "source": []
  },
  {
   "cell_type": "code",
   "execution_count": 37,
   "metadata": {},
   "outputs": [
    {
     "data": {
      "text/plain": [
       "True"
      ]
     },
     "execution_count": 37,
     "metadata": {},
     "output_type": "execute_result"
    }
   ],
   "source": [
    "# Crop masking part\n",
    "vis_mask = (mask_out * 255).astype('uint8')\n",
    "color_instance = cv2.bitwise_and(color_img_read, color_img_read, mask=vis_mask).astype(np.uint16)\n",
    "depth_instance = cv2.bitwise_and(depth_img_read, depth_img_read, mask=vis_mask).astype(np.uint16)\n",
    "cv2.imwrite(CROP_DIR + '/color_crop.jpg', color_instance)\n",
    "cv2.imwrite(CROP_DIR + '/depth_crop.png', depth_instance)"
   ]
  },
  {
   "cell_type": "code",
   "execution_count": 38,
   "metadata": {},
   "outputs": [],
   "source": [
    "import open3d as o3d\n",
    "import numpy as np\n",
    "import cv2\n",
    "import copy\n",
    "import os\n",
    "import sys\n",
    "import matplotlib.pyplot as plt\n",
    "from sklearn.cluster import KMeans\n",
    "#import subprocess\n",
    "#subprocess.call(['python3', 'detection.py'])"
   ]
  },
  {
   "cell_type": "code",
   "execution_count": 39,
   "metadata": {},
   "outputs": [],
   "source": [
    "def preprocessing():\n",
    "    # Load CAD model of table leg\n",
    "    model_mesh = o3d.io.read_triangle_mesh(MODEL_DIR + '/table_leg_scaling.STL')\n",
    "    #model_pcd = model_mesh.sample_points_uniformly(number_of_points=300)\n",
    "\n",
    "    # Load Depth image to make point clouds\n",
    "    depth = o3d.io.read_image(CROP_DIR + '/depth_crop.png')\n",
    "    depth_pcd = o3d.geometry.PointCloud.create_from_depth_image(depth,\n",
    "                                            o3d.camera.PinholeCameraIntrinsic(cam_intrins.width,\n",
    "                                            cam_intrins.height, cam_intrins.fx, cam_intrins.fy,\n",
    "                                            cam_intrins.ppx, cam_intrins.ppy),\n",
    "                                            depth_scale = 1/d_scale)\n",
    "    #depth_pcd = o3d.geometry.PointCloud.create_from_depth_image(depth, o3d.camera.PinholeCameraIntrinsic(640, 480, \n",
    "    #                                                                                                  461.734375, 462.06640625, \n",
    "    #                                                                                                  350.4140625, 244.541015625), depth_scale = 4000.0)\n",
    "\n",
    "    # Remove noise points which put very far from camera\n",
    "    thres = np.linalg.norm(depth_pcd.get_center())\n",
    "    depth_pcd = o3d.geometry.PointCloud.create_from_depth_image(depth,\n",
    "                                            o3d.camera.PinholeCameraIntrinsic(cam_intrins.width,\n",
    "                                            cam_intrins.height, cam_intrins.fx, cam_intrins.fy,\n",
    "                                            cam_intrins.ppx, cam_intrins.ppy),\n",
    "                                            depth_scale = 1/d_scale, depth_trunc = thres * 1.55)\n",
    "    #depth_pcd = o3d.geometry.PointCloud.create_from_depth_image(depth, o3d.camera.PinholeCameraIntrinsic(640, 480, \n",
    "    #                                                                                                  461.734375, 462.06640625, \n",
    "    #                                                                                                  350.4140625, 244.541015625), depth_scale = 4000.0, depth_trunc = thres * 1.5)\n",
    "\n",
    "    #o3d.visualization.draw_geometries([depth_pcd])\n",
    "\n",
    "    # Convert point clouds to numpy array\n",
    "    xyz_points = np.array(depth_pcd.points)\n",
    "\n",
    "    # Kmeans Clustering to classify front, back legs of table\n",
    "    # Ideally, if noise does not exist, then number of cluster is 2\n",
    "    kmeans = KMeans(n_clusters = 2, random_state = 0)\n",
    "    kmeans.fit(xyz_points)\n",
    "\n",
    "    # Re-convert numpy array to point clouds in type of o3d point clouds\n",
    "    pcd1 = o3d.geometry.PointCloud()\n",
    "    pcd2 = o3d.geometry.PointCloud()\n",
    "    #pcd3 = o3d.geometry.PointCloud()\n",
    "    xyz_1 = np.vstack([xyz_points[kmeans.labels_ == 0,0], xyz_points[kmeans.labels_ == 0,1], xyz_points[kmeans.labels_ == 0,2]])\n",
    "    xyz_2 = np.vstack([xyz_points[kmeans.labels_ == 1,0], xyz_points[kmeans.labels_ == 1,1], xyz_points[kmeans.labels_ == 1,2]])\n",
    "    #xyz_3 = np.vstack([xyz_points[kmeans.labels_ == 2,0], xyz_points[kmeans.labels_ == 2,1], xyz_points[kmeans.labels_ == 2,2]])\n",
    "    pcd1.points = o3d.utility.Vector3dVector(xyz_1.T)\n",
    "    pcd2.points = o3d.utility.Vector3dVector(xyz_2.T)\n",
    "    #pcd3.points = o3d.utility.Vector3dVector(xyz_3.T)\n",
    "    FOR_origin = o3d.geometry.TriangleMesh.create_coordinate_frame(size=0.15, origin=[0,0,0])\n",
    "    #o3d.visualization.draw_geometries([pcd1, FOR_origin])\n",
    "    return model_mesh, pcd1, pcd2"
   ]
  },
  {
   "cell_type": "code",
   "execution_count": 40,
   "metadata": {},
   "outputs": [],
   "source": [
    "def draw_registration_result_original_color(source, target, transformation):\n",
    "    source_temp = copy.deepcopy(source)\n",
    "    source_temp.transform(transformation)\n",
    "    FOR_origin = o3d.geometry.TriangleMesh.create_coordinate_frame(size=0.15, origin=[0,0,0])\n",
    "    \n",
    "    FOR_model = o3d.geometry.TriangleMesh.create_coordinate_frame(size=0.15, origin=[0,0,0])\n",
    "    FOR_model.transform(transformation)\n",
    "    FOR_model.translate(source_temp.get_center()-FOR_model.get_center())\n",
    "    \n",
    "    FOR_target = o3d.geometry.TriangleMesh.create_coordinate_frame(size=0.15, origin=target.get_center())\n",
    "    o3d.visualization.draw_geometries([source_temp, target, FOR_origin, FOR_model, FOR_target])"
   ]
  },
  {
   "cell_type": "code",
   "execution_count": 41,
   "metadata": {},
   "outputs": [],
   "source": [
    "model_mesh, pcd1, pcd2 = preprocessing()"
   ]
  },
  {
   "cell_type": "code",
   "execution_count": 42,
   "metadata": {},
   "outputs": [],
   "source": [
    "def compute_ICP(model_mesh, pcd):\n",
    "    # Compute ICP to align model(source) to obtained point clouds(target)\n",
    "    target = copy.deepcopy(pcd)\n",
    "    model_pcd = model_mesh.sample_points_uniformly(number_of_points=int(len(np.array(target.points)*0.8)))\n",
    "    source = copy.deepcopy(model_pcd)\n",
    "    #source.translate((-T_Height/2, -T_Depth/2, 0.0), relative=True)\n",
    "    source_cpy = copy.deepcopy(model_pcd)\n",
    "    source_cpy.translate((-T_Height, -T_Depth, 0.0), relative=True)\n",
    "\n",
    "    # Guess Initial Transformation\n",
    "    center = target.get_center()\n",
    "    trans_init = np.identity(4)\n",
    "    trans_init[0:3,3] = center.T\n",
    "    source_cpy.transform(trans_init)\n",
    "    trans_init[0:3,3] = source_cpy.get_center().T\n",
    "    draw_registration_result_original_color(source, target, trans_init)\n",
    "\n",
    "    print(\"Apply point-to-point ICP\")\n",
    "    threshold = 0.12\n",
    "    reg_p2p = o3d.registration.registration_icp(source, target, threshold, trans_init,\n",
    "            o3d.registration.TransformationEstimationPointToPoint(),\n",
    "            o3d.registration.ICPConvergenceCriteria(max_iteration = 600000))\n",
    "    print(reg_p2p)\n",
    "    print(\"Transformation is:\")\n",
    "    print(reg_p2p.transformation)\n",
    "    draw_registration_result_original_color(source, target, reg_p2p.transformation)\n",
    "    ICP_result = reg_p2p.transformation    \n",
    "    return ICP_result   "
   ]
  },
  {
   "cell_type": "code",
   "execution_count": 43,
   "metadata": {},
   "outputs": [
    {
     "name": "stdout",
     "output_type": "stream",
     "text": [
      "Apply point-to-point ICP\n",
      "registration::RegistrationResult with fitness=6.473878e-01, inlier_rmse=2.967909e-02, and correspondence_set size of 10880\n",
      "Access transformation to get result.\n",
      "Transformation is:\n",
      "[[ 0.87815442 -0.0042274   0.47835859 -0.48321984]\n",
      " [ 0.18776206  0.92276287 -0.33653246 -0.33759987]\n",
      " [-0.43998888  0.38534506  0.81112204  2.34534334]\n",
      " [ 0.          0.          0.          1.        ]]\n",
      "Apply point-to-point ICP\n",
      "registration::RegistrationResult with fitness=3.583101e-01, inlier_rmse=5.094119e-02, and correspondence_set size of 7082\n",
      "Access transformation to get result.\n",
      "Transformation is:\n",
      "[[ 0.99237645  0.11887345  0.03252823 -0.56324732]\n",
      " [-0.09868193  0.92453784 -0.36809192 -0.01968898]\n",
      " [-0.07382993  0.36207581  0.92922024  2.48195064]\n",
      " [ 0.          0.          0.          1.        ]]\n"
     ]
    },
    {
     "data": {
      "text/plain": [
       "geometry::TriangleMesh with 1134 points and 2240 triangles."
      ]
     },
     "execution_count": 43,
     "metadata": {},
     "output_type": "execute_result"
    }
   ],
   "source": [
    "ICP_result1 = compute_ICP(model_mesh, pcd1)\n",
    "ICP_result2 = compute_ICP(model_mesh, pcd2)\n",
    "\n",
    "FOR_1 = o3d.geometry.TriangleMesh.create_coordinate_frame(size=0.15, origin=[0,0,0])\n",
    "#FOR_1.translate((T_Height/2, T_Depth/2, 0.0), relative=True)\n",
    "FOR_1.transform(ICP_result1)\n",
    "#FOR_1.translate(source1.get_center()-FOR_1.get_center(), relative=True)\n",
    "FOR_1.translate((T_Height/2, T_Depth/2, 0.0), relative=True)\n",
    "#source1.transform(reg_p2p.transformation)\n",
    "\n",
    "# FOR_2 = o3d.geometry.TriangleMesh.create_coordinate_frame(size=0.15, origin=[0,0,0])\n",
    "# #FOR_2.translate((T_Height/2, T_Depth/2, 0), relative=True)\n",
    "# FOR_2.transform(ICP_result2)\n",
    "# #FOR_2.translate(source2.get_center()-FOR_2.get_center(), relative=True)\n",
    "# FOR_2.translate((T_Height/2, T_Depth/2, 0), relative=True)\n",
    "# #source2.transform(reg_p2p.transformation)center())"
   ]
  },
  {
   "cell_type": "markdown",
   "metadata": {},
   "source": [
    "# clustering 잘 안되는 문제 있음"
   ]
  },
  {
   "cell_type": "code",
   "execution_count": 44,
   "metadata": {},
   "outputs": [],
   "source": [
    "TABLE_DIMS = np.array((0.785,1.80,0.735))\n",
    "OFF_DIR = np.array([1,1,-1])"
   ]
  },
  {
   "cell_type": "code",
   "execution_count": 45,
   "metadata": {},
   "outputs": [],
   "source": [
    "T_toff = SE3(Rot_axis(3,np.pi), np.divide(TABLE_DIMS[[0,1,2]]*OFF_DIR,2))\n",
    "T_co = np.matmul(np.matmul(ICP_result1, SE3(Rot_axis(1, np.pi/2), [0]*3)), T_toff)\n",
    "T_lo = np.matmul(viewpoint.Toff, T_co)\n",
    "T_bc = viewpoint.get_tf(list2dict(Qcur, gscene.joint_names))\n",
    "T_bo=np.matmul(T_bc, T_co)\n"
   ]
  },
  {
   "cell_type": "markdown",
   "metadata": {},
   "source": [
    "### adjust height"
   ]
  },
  {
   "cell_type": "code",
   "execution_count": 46,
   "metadata": {},
   "outputs": [],
   "source": [
    "T_bo[2,3] = TABLE_DIMS[2]/2"
   ]
  },
  {
   "cell_type": "code",
   "execution_count": 47,
   "metadata": {},
   "outputs": [],
   "source": [
    "gscene.add_highlight_axis(\"table\", \"center\", link_name=\"base_link\", center=T_bo[:3,3], orientation_mat=T_bo[:3,:3])\n",
    "\n",
    "# geometry 추가\n",
    "table = gscene.create_safe(gtype=GEOTYPE.BOX, name=\"table\", link_name=\"base_link\", \n",
    "                   dims=TABLE_DIMS, center=T_bo[:3,3], rpy=Rot2rpy(T_bo[:3,:3]), \n",
    "                   color=(0.8,0.8,0.8,0.5), display=True, fixed=True, collision=False)"
   ]
  },
  {
   "cell_type": "code",
   "execution_count": null,
   "metadata": {},
   "outputs": [],
   "source": []
  },
  {
   "cell_type": "code",
   "execution_count": 48,
   "metadata": {},
   "outputs": [],
   "source": [
    "# def ransac_plane_fitting(img_path):\n",
    "#     # Find plane through ransac plane fitting\n",
    "#     #depth_raw = o3d.io.read_image(\"/home/jhkim/Projects/rnb-planning/src/scripts/demo_202107/save_img/depth.png\")\n",
    "#     depth_raw = o3d.io.read_image(img_path)\n",
    "#     depth_pcd_raw = o3d.geometry.PointCloud.create_from_depth_image(depth_raw,\n",
    "#                                             o3d.camera.PinholeCameraIntrinsic(cam_intrins.width,\n",
    "#                                             cam_intrins.height, cam_intrins.fx, cam_intrins.fy,\n",
    "#                                             cam_intrins.ppx, cam_intrins.ppy), depth_scale = 1/d_scale)\n",
    "#     #depth_pcd_raw = o3d.geometry.PointCloud.create_from_depth_image(depth_raw, o3d.camera.PinholeCameraIntrinsic(640, 480, \n",
    "#     #                                                                                                  461.734375, 462.06640625, \n",
    "#     #                                                                                                  350.4140625, 244.541015625), depth_scale = 4000.0)\n",
    "\n",
    "#     plane_model, inliers = depth_pcd_raw.segment_plane(distance_threshold=0.01,\n",
    "#                                              ransac_n=8,\n",
    "#                                              num_iterations=2000)\n",
    "#     [a, b, c, d] = plane_model\n",
    "#     print(\"Coeffs of eq of fitting plane are :\")\n",
    "#     print(a,b,c,d)\n",
    "#     return plane_model\n",
    "#     #print(f\"Plane equation: {a:.5f}x + {b:.5f}y + {c:.5f}z + {d:.5f} = 0\")"
   ]
  },
  {
   "cell_type": "code",
   "execution_count": 49,
   "metadata": {},
   "outputs": [],
   "source": [
    "# img_path = SAVE_DIR +'/depth.png'\n",
    "# plane_est = ransac_plane_fitting(img_path)"
   ]
  },
  {
   "cell_type": "code",
   "execution_count": 50,
   "metadata": {},
   "outputs": [],
   "source": [
    "# def first_pose_obj(FOR_1, FOR_2, plane_model):\n",
    "#     # Estimated Translation of table from camera coordinate\n",
    "#     model_center = (FOR_1.get_center() + FOR_2.get_center())/2\n",
    "#     FOR_origin = o3d.geometry.TriangleMesh.create_coordinate_frame(size=0.15, origin=[0,0,0])\n",
    "#     FOR_obj = o3d.geometry.TriangleMesh.create_coordinate_frame(size=0.15, origin=[0,0,0])\n",
    "#     FOR_obj.translate(model_center)\n",
    "#     #o3d.visualization.draw_geometries([depth_pcd, FOR_origin, FOR_obj, FOR_1, FOR_2])\n",
    "\n",
    "#     [a, b, c, d] = plane_model\n",
    "    \n",
    "#     # z-axis of model(same to plane normal of ground)\n",
    "#     ax_z = np.array([[a], [b], [c]])\n",
    "#     if (b > 0):\n",
    "#         ax_z = -np.array([[a], [b], [c]])\n",
    "\n",
    "#     #a1 = np.array([[1], [0], [(-d-a)/c]])\n",
    "#     #a2 = np.array([[0], [(-d-c)/b], [1]])\n",
    "#     a1 = np.array([[1], [0], [(-d-a)/c]])\n",
    "#     a2 = np.array([[0], [-1], [(-d+b)/c]])\n",
    "#     A = np.asmatrix(np.hstack([a1, a2]))\n",
    "\n",
    "#     # z1, z2를 내적 했는데, 양수면 그냥 하면 되고, 음수면 하나를 reverse해서 진행\n",
    "#     z_axis = np.array([[0], [0], [1]])\n",
    "#     z1 = np.asmatrix(ICP_result1[0:3, 0:3]) * np.asmatrix(z_axis)\n",
    "#     z2 = np.asmatrix(ICP_result2[0:3, 0:3]) * np.asmatrix(z_axis)\n",
    "\n",
    "#     if (np.dot(z1.T, z2) > 0):\n",
    "#         # Projection to plane\n",
    "#         ax_y1 = A * np.linalg.inv(A.T*A) * A.T * z1\n",
    "#         ax_y2 = A * np.linalg.inv(A.T*A) * A.T * z2\n",
    "#         ax_y = (ax_y1 + ax_y2)/2\n",
    "#     else:\n",
    "#         z2 = -z2\n",
    "#         # Projection to plane\n",
    "#         ax_y1 = A * np.linalg.inv(A.T*A) * A.T * z1\n",
    "#         ax_y2 = A * np.linalg.inv(A.T*A) * A.T * z2\n",
    "#         ax_y = (ax_y1 + ax_y2)/2\n",
    "\n",
    "\n",
    "#     # Find last axis through cross product\n",
    "#     ax_x = np.cross(ax_y.T, ax_z.T).T\n",
    "\n",
    "#     # Normalize\n",
    "#     ax_x = ax_x / np.linalg.norm(ax_x)\n",
    "#     ax_y = ax_y / np.linalg.norm(ax_y)\n",
    "#     ax_z = ax_z / np.linalg.norm(ax_z)\n",
    "#     #ax_y = np.cross(ax_z.T, ax_x.T).T\n",
    "\n",
    "#     # Estimated Orientation of table from camera coordinate\n",
    "#     model_rotation_mtx = np.hstack([ax_x, ax_y, ax_z])\n",
    "#     #print(model_rotation_mtx)\n",
    "#     #print(np.dot(ax_x.T, ax_z))\n",
    "#     #print(np.dot(ax_x.T, ax_y))\n",
    "#     #print(np.dot(ax_y.T, ax_z))\n",
    "\n",
    "#     #trans_z = np.array([0, 0, depth/2])\n",
    "#     FOR_final = o3d.geometry.TriangleMesh.create_coordinate_frame(size=0.15, origin=[0,0,0])\n",
    "#     FOR_final.translate(model_center)\n",
    "#     FOR_final.rotate(model_rotation_mtx)\n",
    "#     #FOR_final.translate(trans_z, relative=True)\n",
    "#     FOR_origin = o3d.geometry.TriangleMesh.create_coordinate_frame(size=0.15, origin=[0,0,0])\n",
    "#     #o3d.visualization.draw_geometries([depth_pcd, FOR_origin, FOR_final])\n",
    "\n",
    "#     print(\"========== Found 6DoF Pose of table ==========\")\n",
    "#     print(\"Rotation matrix is :\")\n",
    "#     print(model_rotation_mtx)\n",
    "#     print(\"\\nTranslation is :\")\n",
    "#     print(model_center)\n",
    "#     T_co = np.identity(4)\n",
    "#     T_co[0:3,0:3] = model_rotation_mtx\n",
    "#     T_co[0:3,3] = model_center.T\n",
    "#     print(\"\\nHomogeneous Transformation(Cam to Table) is :\")\n",
    "#     print(T_co)\n",
    "    \n",
    "#     return T_co"
   ]
  },
  {
   "cell_type": "code",
   "execution_count": 51,
   "metadata": {
    "scrolled": true
   },
   "outputs": [],
   "source": [
    "# from pkg.utils.rotation_utils import *\n",
    "# # T_z90 = SE3(Rot_axis(3, -np.pi/2), [0]*3)\n",
    "# T_co = first_pose_obj(FOR_1, FOR_2, plane_est)\n",
    "# # T_co = np.matmul(T_z90, T_co)"
   ]
  },
  {
   "cell_type": "code",
   "execution_count": 52,
   "metadata": {},
   "outputs": [],
   "source": [
    "# # Transformation from robot base to table\n",
    "# T_bo = np.asmatrix(T_v) * np.asmatrix(T_co)\n",
    "# print(\"Homogeneous Transformation(Base to Table) is :\")\n",
    "# print(T_bo)\n",
    "# center_p = T_bo[0:3,3].T"
   ]
  },
  {
   "cell_type": "code",
   "execution_count": 53,
   "metadata": {},
   "outputs": [
    {
     "name": "stdout",
     "output_type": "stream",
     "text": [
      "Homogeneous Transformation(Mobile Base to Table) is :\n"
     ]
    }
   ],
   "source": [
    "# Transformation from mobile base to robot arm base (coordinate 알려줘야 적을듯)\n",
    "#T_mb = \n",
    "#T_mo = T_mb * T_bo\n",
    "print(\"Homogeneous Transformation(Mobile Base to Table) is :\")\n",
    "#print(T_mo)"
   ]
  },
  {
   "cell_type": "code",
   "execution_count": 54,
   "metadata": {},
   "outputs": [],
   "source": [
    "# # Convert Rotation matrix to roll-pitch-yaw(ZYX Euler angle)\n",
    "# R = T_bo[0:3,0:3]\n",
    "# sy = sqrt(R[0,0]**2 + R[1,0]**2)\n",
    "\n",
    "# if sy > 0.000001:\n",
    "#     x = atan2(R[2,1] , R[2,2])\n",
    "#     y = atan2(-R[2,0], sy)\n",
    "#     z = atan2(R[1,0], R[0,0])\n",
    "# else:\n",
    "#     x = atan2(-R[1,2], R[1,1])\n",
    "#     y = atan2(-R[2,0], sy)\n",
    "#     z = 0\n",
    "# rpy_p = np.asarray(list(reversed(np.asarray([z,y,x]))))"
   ]
  },
  {
   "cell_type": "code",
   "execution_count": 55,
   "metadata": {},
   "outputs": [],
   "source": [
    "\n",
    "# # geometry 추가\n",
    "# table = gscene.create_safe(gtype=GEOTYPE.BOX, name=\"table\", link_name=\"base_link\", \n",
    "#                    dims=TABLE_DIMS, center=np.array(center_p)[0], rpy=rpy_p, \n",
    "#                    color=(0.8,0.8,0.8,0.5), display=True, fixed=True, collision=False)"
   ]
  },
  {
   "cell_type": "code",
   "execution_count": null,
   "metadata": {},
   "outputs": [],
   "source": []
  },
  {
   "cell_type": "markdown",
   "metadata": {},
   "source": [
    "# Table size"
   ]
  },
  {
   "cell_type": "code",
   "execution_count": 56,
   "metadata": {},
   "outputs": [],
   "source": [
    "TABLE_X, TABLE_Y = TABLE_DIMS[:2]\n",
    "TABLE_HEIGHT = 0.3\n",
    "TABLE_DEPTH = 1\n",
    "TABLE_WIDTH = 1\n",
    "TOOL_DIM = [0.32, 0.08]"
   ]
  },
  {
   "cell_type": "markdown",
   "metadata": {},
   "source": [
    "## select task area"
   ]
  },
  {
   "cell_type": "code",
   "execution_count": 57,
   "metadata": {
    "scrolled": true
   },
   "outputs": [
    {
     "name": "stdout",
     "output_type": "stream",
     "text": [
      "0.25\n",
      "0.3\n"
     ]
    }
   ],
   "source": [
    "import numpy as np\n",
    "dataset = np.load('scripts/demo_202107/dataset.npy', allow_pickle=True)\n",
    "TABLE_HEIGHT = np.round(TABLE_HEIGHT, 3)\n",
    "len_dat = len(dataset)\n",
    "for i in range(len_dat):\n",
    "    print(dataset[i][0])\n",
    "    if ((TABLE_HEIGHT >= dataset[i][0]) and\n",
    "        (TABLE_HEIGHT < dataset[i+1][0] if i < len_dat-1 else TABLE_HEIGHT < dataset[i][0]+0.04)):\n",
    "        data = dataset[i]\n",
    "        break\n",
    "        \n",
    "height_goal, depth_criteria, opt_depth_sort, optimal_list, width_list, area_list = data\n",
    "\n",
    "\n",
    "# reduce areas by sensor error margin\n",
    "SENSOR_MARGIN = 0.1\n",
    "optimal_list = [[pt1, pt2, round(width-SENSOR_MARGIN, 3), round(depth-SENSOR_MARGIN, 3)] for pt1, pt2, width, depth in optimal_list]\n",
    "optimal_dict = {opt_tem[-1] : opt_tem for opt_tem in optimal_list}\n",
    "# width_list = [width-width_list for width in width_list]\n",
    "opt_depth_sort = np.round(np.subtract(opt_depth_sort, SENSOR_MARGIN), 3)\n",
    "\n",
    "# select area depth based on table depth\n",
    "if TABLE_DEPTH <= depth_criteria:\n",
    "    area_depth_obj = TABLE_DEPTH \n",
    "else:\n",
    "    if TABLE_DEPTH > max(opt_depth_sort) *2:\n",
    "        print(\"==========================================================\")\n",
    "        print(\"=========== TOO DEEP TABLE! CAN'T FINISH WIPING TASK =============\")\n",
    "        print(\"==========================================================\")\n",
    "        raise(RuntimeError(\"TOO DEEP TABLE! CAN'T FINISH WIPING TASK\"))\n",
    "    else:\n",
    "        area_depth_obj = TABLE_DEPTH/2\n",
    "\n",
    "# select optimal item for the area depth\n",
    "idx_depth = np.min(np.where(np.subtract(opt_depth_sort, area_depth_obj) > 0)[0])\n",
    "area_depth = opt_depth_sort[idx_depth]\n",
    "area_corner1, area_corner2, area_width, _ = optimal_dict[area_depth]\n",
    "\n",
    "# fit table width to table\n",
    "if TABLE_WIDTH < area_width:\n",
    "    area_width = TABLE_WIDTH\n",
    "    \n",
    "# get area parameters\n",
    "corner_center = [(area_corner1[0] + area_corner2[0]) / 2, (area_corner1[1] + area_corner2[1]) / 2]\n",
    "corner_center = np.round(corner_center, 5)\n",
    "area = area_depth * area_width\n",
    "area = np.round(area, 5)\n",
    "\n",
    "if area_depth_obj == depth_criteria:\n",
    "    area_depth = area_depth_obj\n",
    "else:\n",
    "    if len(opt_depth_sort) == 1:\n",
    "        area_depth = opt_depth_sort[0]\n",
    "    else:\n",
    "        for j in range(len(opt_depth_sort)-1):\n",
    "            if (area_depth_obj >= opt_depth_sort[j]) & (area_depth_obj < opt_depth_sort[j+1]):\n",
    "                area_depth = opt_depth_sort[j]\n",
    "                break\n",
    "            else:\n",
    "                area_depth = opt_depth_sort[len(opt_depth_sort)-1]\n",
    "                break\n",
    "corner_center = [(area_corner1[0] + area_corner2[0]) / 2, (area_corner1[1] + area_corner2[1]) / 2]\n",
    "corner_center = np.round(corner_center, 5)\n",
    "area = area_depth * area_width\n",
    "area = np.round(area, 5)\n",
    "\n",
    "if area_depth < TABLE_DEPTH:\n",
    "    num_depth = 2\n",
    "else:\n",
    "    num_depth = 1\n",
    "\n",
    "num_width, rem = divmod(TABLE_WIDTH, area_width)\n",
    "if not rem == 0:\n",
    "    num_width += 1\n",
    "num_width = int(num_width)\n",
    "\n",
    "num_area = num_width * num_depth"
   ]
  },
  {
   "cell_type": "markdown",
   "metadata": {},
   "source": [
    "## Add table on relative target location"
   ]
  },
  {
   "cell_type": "code",
   "execution_count": 58,
   "metadata": {},
   "outputs": [],
   "source": [
    "from pkg.geometry.geotype import GEOTYPE\n",
    "track = gscene.create_safe(GEOTYPE.BOX, \"track\", \"base_link\", (area_depth,area_width,0.01), (corner_center[0],corner_center[1],height_goal), rpy=(0,0,0), \n",
    "                           color=(0.8,0.8,0.8,0.8), display=True, fixed=True, collision=True)\n",
    "track_face = gscene.copy_from(track, new_name=\"track_face\", collision=False, color=(0.8,0.8,0.8,0.2))\n",
    "TRACK_DIM = np.copy(track_face.dims)\n",
    "track_face.dims = (3, 3, track.dims[2])\n",
    "gscene.update_markers_all()"
   ]
  },
  {
   "cell_type": "code",
   "execution_count": null,
   "metadata": {},
   "outputs": [],
   "source": []
  },
  {
   "cell_type": "code",
   "execution_count": 59,
   "metadata": {},
   "outputs": [],
   "source": [
    "t_corner = np.divide(table.dims, 2)\n",
    "f_corner = np.divide(track.dims, 2)\n",
    "T_tc = SE3(np.identity(3), (-t_corner[0], t_corner[1], t_corner[2]))\n",
    "T_fc = SE3(np.identity(3), (-f_corner[0], f_corner[1], f_corner[2]))\n",
    "T_ft = np.matmul(T_fc, SE3_inv(T_tc))\n",
    "T_bf = track.Toff\n",
    "T_bt = np.matmul(T_bf, T_ft)\n",
    "T_tb = SE3_inv(T_bt)"
   ]
  },
  {
   "cell_type": "code",
   "execution_count": 60,
   "metadata": {},
   "outputs": [],
   "source": [
    "## 6 DoF pose to go\n",
    "T_bb2 = np.matmul(table.Toff, T_tb)\n",
    "gscene.add_highlight_axis(\"target\", \"base\", \"base_link\", T_bb2[:3,3], T_bb2[:3,:3])"
   ]
  },
  {
   "cell_type": "code",
   "execution_count": 61,
   "metadata": {},
   "outputs": [],
   "source": [
    "gscene.clear_highlight()"
   ]
  },
  {
   "cell_type": "code",
   "execution_count": null,
   "metadata": {},
   "outputs": [],
   "source": []
  },
  {
   "cell_type": "code",
   "execution_count": 62,
   "metadata": {},
   "outputs": [],
   "source": [
    "## moved table\n",
    "table_front = gscene.create_safe(GEOTYPE.BOX, \"table_front\", \"base_link\", \n",
    "                                 dims=table.dims, \n",
    "                                 center=T_bt[:3,3], \n",
    "                                 rpy=Rot2rpy(T_bt[:3,:3]),\n",
    "                                 color=(0.8,0.8,0.8,0.8), display=True, fixed=True, collision=True)"
   ]
  },
  {
   "cell_type": "code",
   "execution_count": 63,
   "metadata": {},
   "outputs": [],
   "source": [
    "# # remove original table\n",
    "# gscene.remove(gscene.NAME_DICT[\"table\"])T_bb2"
   ]
  },
  {
   "cell_type": "code",
   "execution_count": null,
   "metadata": {},
   "outputs": [],
   "source": []
  },
  {
   "cell_type": "markdown",
   "metadata": {},
   "source": [
    "## Set planner"
   ]
  },
  {
   "cell_type": "code",
   "execution_count": 64,
   "metadata": {},
   "outputs": [],
   "source": [
    "from pkg.planning.motion.moveit.moveit_planner import MoveitPlanner\n",
    "mplan = MoveitPlanner(pscene)\n",
    "mplan.update_gscene()\n",
    "from pkg.planning.task.rrt import TaskRRT\n",
    "tplan = TaskRRT(pscene)\n",
    "tplan.prepare()\n",
    "ppline.set_motion_planner(mplan)\n",
    "ppline.set_task_planner(tplan)\n",
    "\n",
    "from pkg.planning.filtering.grasp_filter import GraspChecker\n",
    "from pkg.planning.filtering.reach_filter import ReachChecker\n",
    "from pkg.planning.filtering.latticized_filter import LatticedChecker\n",
    "from pkg.planning.filtering.task_clearance_filter import TaskClearanceChecker\n",
    "\n",
    "gcheck = GraspChecker(pscene)\n",
    "rcheck = ReachChecker(pscene)\n",
    "tcheck = TaskClearanceChecker(pscene, gcheck)\n",
    "checkers_all = [tcheck, rcheck, gcheck]\n",
    "# lcheck = LatticedChecker(pscene, gcheck)\n",
    "# checkers_all.append(lcheck)\n",
    "\n",
    "mplan.motion_filters = checkers_all"
   ]
  },
  {
   "cell_type": "markdown",
   "metadata": {},
   "source": [
    "### calc gaze pose"
   ]
  },
  {
   "cell_type": "code",
   "execution_count": 65,
   "metadata": {},
   "outputs": [
    {
     "name": "stdout",
     "output_type": "stream",
     "text": [
      "Connect: Server IP (192.168.0.3)\n"
     ]
    }
   ],
   "source": [
    "with indy:\n",
    "    Qcur = np.deg2rad(indy.get_joint_pos())"
   ]
  },
  {
   "cell_type": "code",
   "execution_count": 66,
   "metadata": {},
   "outputs": [
    {
     "name": "stdout",
     "output_type": "stream",
     "text": [
      "GAZE: True\n"
     ]
    }
   ],
   "source": [
    "GAZE_DIST = 0.5\n",
    "\n",
    "T_tc_up = SE3(np.identity(3), (t_corner[0], t_corner[1], t_corner[2]))\n",
    "T_tc_right = SE3(np.identity(3), (-t_corner[0], -t_corner[1], t_corner[2]))\n",
    "T_bc = np.matmul(T_bt, T_tc)\n",
    "T_bc_up = np.matmul(T_bt, T_tc_up)\n",
    "T_bc_right = np.matmul(T_bt, T_tc_right)\n",
    "\n",
    "T_cam_c = SE3(Rot_rpy((0,-np.pi*3/4,np.pi/2)) , (0,0,GAZE_DIST))\n",
    "T_bcam = np.matmul(T_bc, SE3_inv(T_cam_c))\n",
    "T_ecam = viewpoint.Toff\n",
    "T_be = np.matmul(T_bcam, SE3_inv(T_ecam))\n",
    "gscene.add_highlight_axis(\"cam\", \"effector\", \"base_link\", T_be[:3, 3], T_be[:3,:3])\n",
    "gase_traj, success = mplan.planner.plan_py(\"indy0\", \"indy0_tcp\", np.concatenate(T2xyzquat(T_be)), \"base_link\", Qcur)\n",
    "\n",
    "print(\"GAZE: {}\".format(success))\n",
    "if success:\n",
    "    gscene.show_motion(gase_traj)\n",
    "    gase_pose = gase_traj[-1]"
   ]
  },
  {
   "cell_type": "code",
   "execution_count": null,
   "metadata": {},
   "outputs": [],
   "source": []
  },
  {
   "cell_type": "markdown",
   "metadata": {},
   "source": [
    "## Move to gaze pose"
   ]
  },
  {
   "cell_type": "code",
   "execution_count": 79,
   "metadata": {},
   "outputs": [],
   "source": [
    "gscene.show_motion(gase_traj)"
   ]
  },
  {
   "cell_type": "code",
   "execution_count": 78,
   "metadata": {
    "scrolled": true
   },
   "outputs": [
    {
     "name": "stdout",
     "output_type": "stream",
     "text": [
      "Connect: Server IP (192.168.0.3)\n",
      "Connect: Server IP (192.168.0.3)\n",
      "Move finished!\n",
      "Move finished!\n",
      "Move finished!\n",
      "Move finished!\n"
     ]
    },
    {
     "data": {
      "text/plain": [
       "(array([[-7.92345448e-07, -4.88690940e-01,  1.48352898e+00,\n",
       "          9.49245537e-07,  9.94837800e-01,  3.12413698e+00],\n",
       "        [-1.58469090e-06, -4.88690940e-01,  1.48353057e+00,\n",
       "          0.00000000e+00,  9.94839699e-01,  3.12413888e+00],\n",
       "        [ 1.95965247e+00,  1.39332814e+00, -9.31296327e-01,\n",
       "          1.68377720e+00, -2.42225320e+00,  6.74755407e-01]]), 0.06)"
      ]
     },
     "execution_count": 78,
     "metadata": {},
     "output_type": "execute_result"
    }
   ],
   "source": [
    "indy.move_joint_wp(gase_traj, None, None, None)"
   ]
  },
  {
   "cell_type": "code",
   "execution_count": 80,
   "metadata": {},
   "outputs": [],
   "source": [
    "# with indy:\n",
    "#     indy.joint_move_to(np.rad2deg(VIEW_POSE))"
   ]
  },
  {
   "cell_type": "markdown",
   "metadata": {},
   "source": [
    "### get corner points from cam"
   ]
  },
  {
   "cell_type": "code",
   "execution_count": 67,
   "metadata": {},
   "outputs": [],
   "source": [
    "T_cam_c_ = np.matmul(SE3_inv(T_bcam), T_bc)\n",
    "T_cam_c_up = np.matmul(SE3_inv(T_bcam), T_bc_up)\n",
    "T_cam_c_right = np.matmul(SE3_inv(T_bcam), T_bc_right)\n",
    "\n",
    "P_cam_c = T_cam_c_[:3,3]\n",
    "P_cam_c_up = T_cam_c_up[:3,3]\n",
    "P_cam_c_right = T_cam_c_right[:3,3]"
   ]
  },
  {
   "cell_type": "code",
   "execution_count": null,
   "metadata": {},
   "outputs": [],
   "source": []
  },
  {
   "cell_type": "code",
   "execution_count": null,
   "metadata": {},
   "outputs": [],
   "source": []
  },
  {
   "cell_type": "code",
   "execution_count": null,
   "metadata": {},
   "outputs": [],
   "source": []
  },
  {
   "cell_type": "markdown",
   "metadata": {},
   "source": [
    "## make work plane"
   ]
  },
  {
   "cell_type": "code",
   "execution_count": 68,
   "metadata": {},
   "outputs": [],
   "source": [
    "from pkg.planning.task.custom_rules.coverage import *\n",
    "\n",
    "TOOL_DIM = [0.32, 0.08]\n",
    "TACK_WIDTH = 0.36\n",
    "TRACK_NUM = np.ceil(np.divide(TRACK_DIM[0]-TOOL_DIM[0], TOOL_DIM[0])).astype(np.int)+1\n",
    "TRACK_STEP = TRACK_DIM[0]/TRACK_NUM\n",
    "\n",
    "img = grayscale(\"scripts/demo_202107/input.jpg\")\n",
    "\n",
    "table_X = TRACK_DIM[0]\n",
    "table_Y = TRACK_DIM[1]\n",
    "table_x = img.shape[0]\n",
    "table_y = img.shape[1]\n",
    "\n",
    "path_gap_real = TRACK_STEP\n",
    "path_gap_img = int(path_gap_real * (table_x / table_X))\n",
    "wp1_pos_img, wp2_pos_img = make_waypoint(img, path_gap_img)\n",
    "\n",
    "wp1_pos_real = np.empty([TRACK_NUM,3])\n",
    "wp1_pos_real[:,0] = wp1_pos_img[:,0] * (table_X / table_x)\n",
    "wp1_pos_real[:,1] = wp1_pos_img[:,1] * (table_Y / table_y)\n",
    "wp1_pos_real[:,1] = -wp1_pos_real[:,1];\n",
    "wp1_pos_real[:,2] = 0\n",
    "\n",
    "wp2_pos_real = np.empty([TRACK_NUM,3])\n",
    "wp2_pos_real[:,0] = wp2_pos_img[:,0] * (table_X / table_x)\n",
    "wp2_pos_real[:,1] = wp2_pos_img[:,1] * (table_Y / table_y)\n",
    "wp2_pos_real[:,1] = -wp2_pos_real[:,1];\n",
    "wp2_pos_real[:,2] = 0\n",
    "\n",
    "wp1_pos_real[:,0] -= TRACK_DIM[0]/2\n",
    "wp1_pos_real[:,1] +=  TRACK_DIM[1]/2\n",
    "wp2_pos_real[:,0] -= TRACK_DIM[0]/2\n",
    "wp2_pos_real[:,1] += TRACK_DIM[1]/2"
   ]
  },
  {
   "cell_type": "code",
   "execution_count": null,
   "metadata": {},
   "outputs": [],
   "source": []
  },
  {
   "cell_type": "code",
   "execution_count": 69,
   "metadata": {},
   "outputs": [],
   "source": [
    "from pkg.planning.constraint.constraint_actor import Gripper2Tool, PlacePlane, SweepFramer, FixtureSlot\n",
    "from pkg.planning.constraint.constraint_common import MotionConstraint\n",
    "from pkg.planning.constraint.constraint_subject import AbstractTask, AbstractObject\n",
    "from pkg.planning.constraint.constraint_subject import SweepLineTask\n",
    "from pkg.planning.constraint.constraint_subject import SweepFrame\n",
    "\n",
    "pscene.create_binder(bname=\"track_face\", gname=\"track_face\", _type=PlacePlane, point=None)\n",
    "\n",
    "TRC_THIC = TRACK_DIM[2]\n",
    "track_list = []\n",
    "\n",
    "wp1_pos_real[:,1] -= TOOL_DIM[1]/2\n",
    "wp2_pos_real[:,1] += TOOL_DIM[1]/2\n",
    "\n",
    "for i_trc in range(TRACK_NUM):\n",
    "    wp1 = gscene.create_safe(GEOTYPE.BOX, \"wp{}a\".format(i_trc+1), \"base_link\", (TOOL_DIM[0]/2,TOOL_DIM[1]/2,TRC_THIC), \n",
    "                             wp1_pos_real[i_trc,:], rpy=(0,0,0), \n",
    "                             color=(0.8,0.2,0.2,0.2), display=True, fixed=True, collision=False, parent=\"track_face\")\n",
    "#     wp1 = gscene.create_safe(GEOTYPE.BOX, \"wp{}a\".format(i_trc+1), \"base_link\", (TOOL_DIM[0]/2,TOOL_DIM[1]/2,TRC_THIC), \n",
    "#                              (0.4, -0.01, height_goal), rpy=(0,0,0), \n",
    "#                              color=(0.8,0.2,0.2,0.2), display=True, fixed=True, collision=False)\n",
    "    wp2 = gscene.create_safe(GEOTYPE.BOX, \"wp{}b\".format(i_trc+1), \"base_link\", (TOOL_DIM[0]/2,TOOL_DIM[1]/2,TRC_THIC), \n",
    "                             wp2_pos_real[i_trc,:], rpy=(0,0,0), \n",
    "                             color=(0.8,0.2,0.2,0.2), display=True, fixed=True, collision=False, parent=\"track_face\")\n",
    "    \n",
    "    face = gscene.create_safe(GEOTYPE.BOX, \"face{}\".format(i_trc+1), \"base_link\", \n",
    "                              (TACK_WIDTH,TRACK_DIM[1],TRC_THIC), \n",
    "                             center=(wp1_pos_real[i_trc,:]+wp2_pos_real[i_trc,:])/2,rpy=(0,0,0), \n",
    "                             color=(0.8,0.2,0.2,0.2), display=True, fixed=True, collision=False, parent=\"track_face\")\n",
    "    track_list.append((wp1, wp2, face))\n",
    "gscene.update_markers_all()\n",
    "\n",
    "for sname in pscene.subject_name_list:\n",
    "    pscene.remove_subject(sname)\n",
    "    \n",
    "sweep_list = []\n",
    "for i_t, track_tem in enumerate(track_list):\n",
    "    wp1, wp2, face = track_tem\n",
    "    sweep_ = pscene.create_subject(oname=\"sweep{}\".format(i_t+1), gname=\"track_face\", _type=SweepLineTask, \n",
    "                                   action_points_dict = {wp1.name: SweepFrame(wp1.name, wp1, [0,0,0.005], [0,0,0]),\n",
    "                                                       wp2.name: SweepFrame(wp2.name, wp2, [0,0,0.005], [0,0,0])}, \n",
    "                                   clearance=[face])\n",
    "    sweep_list.append(sweep_)"
   ]
  },
  {
   "cell_type": "code",
   "execution_count": null,
   "metadata": {},
   "outputs": [],
   "source": []
  },
  {
   "cell_type": "code",
   "execution_count": 70,
   "metadata": {},
   "outputs": [],
   "source": [
    "HOME_POSE = [0]*6"
   ]
  },
  {
   "cell_type": "code",
   "execution_count": 71,
   "metadata": {},
   "outputs": [
    {
     "name": "stdout",
     "output_type": "stream",
     "text": [
      "(0, 0)\n"
     ]
    }
   ],
   "source": [
    "from pkg.planning.constraint.constraint_common \\\n",
    "            import sample_redundancy, combine_redundancy\n",
    "gtimer = GlobalTimer.instance()\n",
    "# initial_state = pscene.initialize_state(crob.home_pose)\n",
    "initial_state = pscene.initialize_state([0]*6)\n",
    "print(initial_state.node)\n",
    "\n",
    "# # remove place points except for the current one\n",
    "# use_current_place_point_only(pscene, initial_state)"
   ]
  },
  {
   "cell_type": "code",
   "execution_count": 85,
   "metadata": {},
   "outputs": [
    {
     "name": "stdout",
     "output_type": "stream",
     "text": [
      "(0, 0)\n",
      "Use 36/36 agents\n",
      "try: 0 - (0, 0)->(1, 0)\n",
      "try: 0 - (0, 0)->(0, 1)\n",
      "try transition motion\n",
      "try transition motion\n",
      "try: 0 - (0, 0)->(1, 0)\n",
      "try transition motion\n",
      "try: 0 - (0, 0)->(0, 1)\n",
      "try transition motion\n",
      "try: 0 - (0, 0)->(1, 0)\n",
      "transition motion tried: True\n",
      "try: 0 - (0, 0)->(1, 0)\n",
      "try transition motion\n",
      "transition motion tried: True\n",
      "result: 0 - (0, 0)->(1, 0) = success\n",
      "branching: 0->1 (0.14/10.0 s, steps/err: 52(84.0139389038 ms)/0.00145272237856)\n",
      "branching: 0->2 (0.16/10.0 s, steps/err: 39(70.0449943542 ms)/0.00103663877472)\n",
      "result: 0 - (0, 0)->(0, 1) = success\n",
      "======================================================================================================================================================\n",
      "try transition motion\n",
      "try: 1 - (1, 0)->(2, 0)\n",
      "======================================================================================================================================================\n",
      "try: 0 - (0, 0)->(0, 1)\n",
      "transition motion tried: True\n",
      "try constrained motion\n",
      "try: 1 - (1, 0)->(2, 0)\n",
      "try transition motion\n",
      "transition motion tried: True\n",
      "try: 2 - (0, 1)->(0, 2)\n",
      "result: 0 - (0, 0)->(1, 0) = success\n",
      "result: 0 - (0, 0)->(0, 1) = success\n",
      "try constrained motion\n",
      "try constrained motion\n",
      "branching: 0->3 (0.18/10.0 s, steps/err: 52(88.8860225677 ms)/0.00145272237856)\n",
      "transition motion tried: True\n",
      "try: 3 - (1, 0)->(2, 0)\n",
      "======================================================================================================================================================\n",
      "branching: 0->4 (0.2/10.0 s, steps/err: 39(73.657989502 ms)/0.00103663877472)\n",
      "======================================================================================================================================================\n",
      "try: 0 - (0, 0)->(1, 0)\n",
      "result: 0 - (0, 0)->(1, 0) = success\n",
      "try: 5 - (1, 0)->(2, 0)\n",
      "branching: 0->5 (0.2/10.0 s, steps/err: 52(74.4240283966 ms)/0.00145272237856)\n",
      "try: 3 - (1, 0)->(2, 0)\n",
      "try transition motion\n",
      "try constrained motion\n",
      "transition motion tried: True\n",
      "======================================================================================================================================================\n",
      "try: 0 - (0, 0)->(0, 1)\n",
      "result: 0 - (0, 0)->(1, 0) = success\n",
      "branching: 0->6 (0.23/10.0 s, steps/err: 52(81.8660259247 ms)/0.00145272237856)\n",
      "try transition motion\n",
      "try: 6 - (1, 0)->(2, 0)\n",
      "transition motion tried: True\n",
      "try constrained motion\n",
      "try constrained motion\n",
      "======================================================================================================================================================\n",
      "result: 0 - (0, 0)->(0, 1) = success\n",
      "try: 0 - (0, 0)->(0, 1)\n",
      "try constrained motion\n",
      "branching: 0->7 (0.26/10.0 s, steps/err: 48(80.6620121002 ms)/0.001631036154)\n",
      "try: 5 - (1, 0)->(2, 0)\n",
      "======================================================================================================================================================\n",
      "try: 0 - (0, 0)->(0, 1)\n",
      "try: 0 - (0, 0)->(0, 1)\n",
      "try transition motion\n",
      "try constrained motion\n",
      "transition motion tried: True\n",
      "try transition motion\n",
      "try transition motion\n",
      "result: 0 - (0, 0)->(1, 0) = success\n",
      "try: 8 - (1, 0)->(2, 0)\n",
      "branching: 0->8 (0.29/10.0 s, steps/err: 55(75.99401474 ms)/0.00163095504359)\n",
      "======================================================================================================================================================\n",
      "try: 4 - (0, 1)->(0, 2)\n",
      "try: 5 - (1, 0)->(2, 0)\n",
      "try constrained motion\n",
      "try constrained motion\n",
      "try constrained motion\n",
      "try: 6 - (1, 0)->(2, 0)\n",
      "transition motion tried: True\n",
      "result: 0 - (0, 0)->(0, 1) = success\n",
      "try: 9 - (0, 1)->(0, 2)\n",
      "try constrained motion\n",
      "transition motion tried: True\n",
      "branching: 0->9 (0.35/10.0 s, steps/err: 48(71.2108612061 ms)/0.001631036154)\n",
      "======================================================================================================================================================\n",
      "result: 0 - (0, 0)->(0, 1) = success\n",
      "======================================================================================================================================================\n",
      "transition motion tried: True\n",
      "branching: 0->10 (0.35/10.0 s, steps/err: 39(75.001001358 ms)/0.00103663877472)\n",
      "try: 0 - (0, 0)->(0, 1)\n",
      "try constrained motion\n",
      "try: 8 - (1, 0)->(2, 0)\n",
      "result: 0 - (0, 0)->(0, 1) = success\n",
      "try: 6 - (1, 0)->(2, 0)\n",
      "branching: 0->11 (0.36/10.0 s, steps/err: 39(90.3007984161 ms)/0.00185541138563)\n",
      "======================================================================================================================================================\n",
      "try transition motion\n",
      "try constrained motion\n",
      "try constrained motion\n",
      "try: 0 - (0, 0)->(0, 1)\n",
      "try: 1 - (1, 0)->(2, 0)\n",
      "try constrained motion\n",
      "try transition motion\n",
      "try: 7 - (0, 1)->(0, 2)\n",
      "try: 0 - (0, 0)->(0, 1)\n",
      "try constrained motion\n",
      "try transition motion\n",
      "try: 8 - (1, 0)->(2, 0)\n",
      "transition motion tried: True\n",
      "result: 0 - (0, 0)->(0, 1) = success\n",
      "branching: 0->12 (0.44/10.0 s, steps/err: 48(213.943004608 ms)/0.001631036154)\n",
      "======================================================================================================================================================\n",
      "transition motion tried: True\n",
      "transition motion tried: True\n",
      "try: 12 - (0, 1)->(0, 2)\n",
      "try constrained motion\n",
      "try: 12 - (0, 1)->(0, 2)\n",
      "result: 0 - (0, 0)->(0, 1) = success\n",
      "branching: 0->13 (0.46/10.0 s, steps/err: 39(98.140001297 ms)/0.00185541138563)\n",
      "======================================================================================================================================================\n",
      "result: 0 - (0, 0)->(0, 1) = success\n",
      "try constrained motion\n",
      "try: 8 - (1, 0)->(2, 0)\n",
      "try constrained motion\n",
      "branching: 0->14 (0.48/10.0 s, steps/err: 39(79.8470973969 ms)/0.00103663877472)\n",
      "try: 0 - (0, 0)->(1, 0)\n",
      "======================================================================================================================================================\n",
      "try: 0 - (0, 0)->(1, 0)\n",
      "transition motion tried: True\n",
      "try transition motion\n",
      "try constrained motion\n",
      "try: 0 - (0, 0)->(1, 0)\n",
      "result: 0 - (0, 0)->(0, 1) = success\n",
      "branching: 0->15 (0.5/10.0 s, steps/err: 39(79.9078941345 ms)/0.00103663877472)\n",
      "======================================================================================================================================================\n",
      "try: 3 - (1, 0)->(2, 0)\n",
      "try transition motion\n",
      "try transition motion\n",
      "try: 0 - (0, 0)->(0, 1)\n",
      "try transition motion\n",
      "try constrained motion\n",
      "try: 10 - (0, 1)->(0, 2)\n",
      "try: 12 - (0, 1)->(0, 2)\n",
      "try constrained motion\n",
      "transition motion tried: True\n",
      "result: 0 - (0, 0)->(1, 0) = success\n",
      "try constrained motion\n",
      "branching: 0->16 (0.56/10.0 s, steps/err: 48(77.9211521149 ms)/0.0015559246809)\n",
      "transition motion tried: True\n",
      "======================================================================================================================================================\n",
      "try: 16 - (1, 0)->(2, 0)\n",
      "result: 0 - (0, 0)->(1, 0) = success\n",
      "transition motion tried: True\n",
      "transition motion tried: True\n",
      "try: 17 - (1, 0)->(2, 0)\n",
      "branching: 0->17 (0.6/10.0 s, steps/err: 52(77.7699947357 ms)/0.00145272237856)\n",
      "try: 5 - (1, 0)->(2, 0)\n",
      "result: 0 - (0, 0)->(0, 1) = success\n",
      "======================================================================================================================================================\n",
      "result: 0 - (0, 0)->(1, 0) = success\n",
      "try constrained motion\n",
      "try constrained motion\n",
      "try constrained motion\n",
      "branching: 0->18 (0.62/10.0 s, steps/err: 48(78.3557891846 ms)/0.001631036154)\n",
      "try: 0 - (0, 0)->(1, 0)\n",
      "try: 19 - (1, 0)->(2, 0)\n",
      "======================================================================================================================================================\n",
      "try: 3 - (1, 0)->(2, 0)\n",
      "branching: 0->19 (0.62/10.0 s, steps/err: 52(100.165843964 ms)/0.00149167383525)\n",
      "try transition motion\n",
      "======================================================================================================================================================\n",
      "try: 0 - (0, 0)->(1, 0)\n",
      "try: 14 - (0, 1)->(0, 2)\n",
      "try constrained motion\n",
      "try transition motion\n",
      "try constrained motion\n",
      "try constrained motion\n",
      "try: 0 - (0, 0)->(1, 0)\n",
      "try transition motion\n",
      "transition motion tried: True\n",
      "transition motion tried: True\n",
      "result: 0 - (0, 0)->(1, 0) = success\n"
     ]
    },
    {
     "name": "stdout",
     "output_type": "stream",
     "text": [
      "result: 0 - (0, 0)->(1, 0) = success\n",
      "branching: 0->20 (0.71/10.0 s, steps/err: 44(64.3019676208 ms)/0.00146243797942)\n",
      "branching: 0->21 (0.72/10.0 s, steps/err: 55(80.4560184479 ms)/0.00163095504359)\n",
      "======================================================================================================================================================\n",
      "try: 20 - (1, 0)->(2, 0)\n",
      "======================================================================================================================================================\n",
      "constrained motion tried: True\n",
      "result: 12 - (0, 1)->(0, 2) = success\n",
      "branching: 12->22 (0.73/10.0 s, steps/err: 196(269.464015961 ms)/0.00105168457294)\n",
      "transition motion tried: True\n",
      "try constrained motion\n",
      "try: 21 - (1, 0)->(2, 0)\n",
      "try: 9 - (0, 1)->(0, 2)\n",
      "======================================================================================================================================================\n",
      "result: 0 - (0, 0)->(1, 0) = success\n",
      "branching: 0->23 (0.75/10.0 s, steps/err: 52(57.7080249786 ms)/0.00145272237856)\n",
      "try: 23 - (1, 0)->(2, 0)\n",
      "try constrained motion\n",
      "try constrained motion\n",
      "======================================================================================================================================================\n",
      "try: 10 - (0, 1)->(0, 2)\n",
      "try constrained motion\n",
      "try constrained motion\n",
      "try: 0 - (0, 0)->(1, 0)\n",
      "try: 0 - (0, 0)->(1, 0)\n",
      "try transition motion\n",
      "try transition motion\n",
      "transition motion tried: True\n",
      "transition motion tried: True\n",
      "result: 0 - (0, 0)->(1, 0) = success\n",
      "branching: 0->24 (0.89/10.0 s, steps/err: 52(55.0010204315 ms)/0.00145272237856)\n",
      "result: 0 - (0, 0)->(1, 0) = success\n",
      "======================================================================================================================================================\n",
      "try: 24 - (1, 0)->(2, 0)\n",
      "branching: 0->25 (0.91/10.0 s, steps/err: 52(99.5790958405 ms)/0.00145272237856)\n",
      "try constrained motion\n",
      "======================================================================================================================================================\n",
      "try: 25 - (1, 0)->(2, 0)\n",
      "try constrained motion\n",
      "constrained motion tried: False\n",
      "Motion Plan Failure\n",
      "result: 1 - (1, 0)->(2, 0) = fail\n",
      "try: 0 - (0, 0)->(1, 0)\n",
      "try transition motion\n",
      "constrained motion tried: False\n",
      "Motion Plan Failure\n",
      "constrained motion tried: False\n",
      "result: 6 - (1, 0)->(2, 0) = fail\n",
      "Motion Plan Failure\n",
      "result: 5 - (1, 0)->(2, 0) = fail\n",
      "try: 18 - (0, 1)->(0, 2)\n",
      "constrained motion tried: False\n",
      "Motion Plan Failure\n",
      "try constrained motion\n",
      "result: 8 - (1, 0)->(2, 0) = fail\n",
      "try: 17 - (1, 0)->(2, 0)\n",
      "try: 6 - (1, 0)->(2, 0)\n",
      "constrained motion tried: False\n",
      "Motion Plan Failure\n",
      "try constrained motion\n",
      "constrained motion tried: False\n",
      "result: 6 - (1, 0)->(2, 0) = fail\n",
      "try constrained motion\n",
      "Motion Plan Failure\n",
      "try: 12 - (0, 1)->(0, 2)\n",
      "result: 3 - (1, 0)->(2, 0) = fail\n",
      "try: 0 - (0, 0)->(0, 1)\n",
      "constrained motion tried: False\n",
      "try constrained motion\n",
      "constrained motion tried: False\n",
      "Motion Plan Failure\n",
      "try transition motion\n",
      "result: 5 - (1, 0)->(2, 0) = fail\n",
      "transition motion tried: True\n",
      "try: 7 - (0, 1)->(0, 2)\n",
      "Motion Plan Failure\n",
      "result: 0 - (0, 0)->(1, 0) = success\n",
      "constrained motion tried: False\n",
      "result: 8 - (1, 0)->(2, 0) = fail\n",
      "Motion Plan Failure\n",
      "branching: 0->26 (2.43/10.0 s, steps/err: 52(195.302009583 ms)/0.00149167383525)\n",
      "======================================================================================================================================================\n",
      "result: 7 - (0, 1)->(0, 2) = fail\n",
      "try: 26 - (1, 0)->(2, 0)\n",
      "try constrained motion\n",
      "try constrained motion\n",
      "try: 0 - (0, 0)->(0, 1)\n",
      "try: 6 - (1, 0)->(2, 0)\n",
      "constrained motion tried: False\n",
      "try transition motion\n",
      "constrained motion tried: False\n",
      "Motion Plan Failure\n",
      "Motion Plan Failure\n",
      "result: 1 - (1, 0)->(2, 0) = fail\n",
      "transition motion tried: True\n",
      "result: 9 - (0, 1)->(0, 2) = fail\n",
      "try: 10 - (0, 1)->(0, 2)\n",
      "result: 0 - (0, 0)->(0, 1) = success\n",
      "try: 0 - (0, 0)->(1, 0)\n",
      "branching: 0->27 (2.47/10.0 s, steps/err: 48(66.8880939484 ms)/0.001631036154)\n",
      "try constrained motion\n",
      "======================================================================================================================================================\n",
      "constrained motion tried: False\n",
      "try constrained motion\n",
      "try: 6 - (1, 0)->(2, 0)\n",
      "Motion Plan Failure\n",
      "try transition motion\n",
      "result: 8 - (1, 0)->(2, 0) = fail\n",
      "constrained motion tried: False\n",
      "Motion Plan Failure\n",
      "try constrained motion\n",
      "try: 0 - (0, 0)->(0, 1)\n",
      "constrained motion tried: False\n",
      "result: 6 - (1, 0)->(2, 0) = fail\n",
      "transition motion tried: True\n",
      "result: 0 - (0, 0)->(0, 1) = success\n",
      "try transition motion\n",
      "try: 0 - (0, 0)->(1, 0)\n",
      "Motion Plan Failure\n",
      "result: 8 - (1, 0)->(2, 0) = fail\n",
      "branching: 0->28 (2.52/10.0 s, steps/err: 48(68.1369304657 ms)/0.00185592351371)\n",
      "======================================================================================================================================================\n",
      "try transition motion\n",
      "try: 23 - (1, 0)->(2, 0)\n",
      "try: 24 - (1, 0)->(2, 0)\n",
      "transition motion tried: True\n",
      "try constrained motion\n",
      "try constrained motion\n",
      "constrained motion tried: False\n",
      "transition motion tried: True\n",
      "Motion Plan Failure\n",
      "result: 0 - (0, 0)->(1, 0) = success\n",
      "result: 10 - (0, 1)->(0, 2) = fail\n",
      "result: 0 - (0, 0)->(0, 1) = success\n",
      "constrained motion tried: False\n",
      "branching: 0->30 (2.58/10.0 s, steps/err: 39(66.3192272186 ms)/0.00163113162515)\n",
      "try: 29 - (1, 0)->(2, 0)\n",
      "======================================================================================================================================================\n",
      "try: 4 - (0, 1)->(0, 2)\n",
      "branching: 0->29 (2.58/10.0 s, steps/err: 52(91.3059711456 ms)/0.00149167383525)\n",
      "try constrained motion\n",
      "Motion Plan Failure\n",
      "constrained motion tried: False\n",
      "transition motion tried: True\n",
      "======================================================================================================================================================\n",
      "try constrained motion\n",
      "Motion Plan Failure\n",
      "result: 3 - (1, 0)->(2, 0) = fail\n",
      "result: 0 - (0, 0)->(1, 0) = success\n",
      "try: 31 - (1, 0)->(2, 0)\n",
      "result: 3 - (1, 0)->(2, 0) = fail\n",
      "branching: 0->31 (2.61/10.0 s, steps/err: 52(70.6589221954 ms)/0.00201159910159)\n",
      "try: 0 - (0, 0)->(0, 1)\n",
      "======================================================================================================================================================\n",
      "try: 0 - (0, 0)->(0, 1)\n",
      "try constrained motion\n",
      "try: 0 - (0, 0)->(0, 1)\n",
      "constrained motion tried: False\n",
      "try transition motion\n",
      "constrained motion tried: False\n",
      "Motion Plan Failure\n",
      "try transition motion\n",
      "result: 17 - (1, 0)->(2, 0) = fail\n",
      "try transition motion\n",
      "try: 0 - (0, 0)->(1, 0)\n",
      "Motion Plan Failure\n",
      "try transition motion\n",
      "result: 5 - (1, 0)->(2, 0) = fail\n",
      "constrained motion tried: False\n",
      "constrained motion tried: False\n",
      "try: 0 - (0, 0)->(1, 0)\n",
      "Motion Plan Failure\n",
      "Motion Plan Failure\n",
      "result: 3 - (1, 0)->(2, 0) = fail\n",
      "result: 19 - (1, 0)->(2, 0) = fail\n",
      "constrained motion tried: False\n",
      "Motion Plan Failure\n",
      "transition motion tried: True\n",
      "try: 7 - (0, 1)->(0, 2)\n",
      "result: 1 - (1, 0)->(2, 0) = fail\n",
      "transition motion tried: True\n",
      "result: 0 - (0, 0)->(0, 1) = success\n",
      "try: 26 - (1, 0)->(2, 0)\n",
      "try: 0 - (0, 0)->(1, 0)\n",
      "try transition motion\n",
      "branching: 0->32 (2.7/10.0 s, steps/err: 48(66.556930542 ms)/0.001631036154)\n",
      "try constrained motion\n",
      "result: 0 - (0, 0)->(0, 1) = success\n",
      "branching: 0->33 (2.71/10.0 s, steps/err: 48(78.0730247498 ms)/0.001631036154)\n",
      "======================================================================================================================================================\n",
      "======================================================================================================================================================\n",
      "try: 4 - (0, 1)->(0, 2)\n",
      "try constrained motion\n",
      "try transition motion\n",
      "try: 0 - (0, 0)->(1, 0)\n",
      "constrained motion tried: False\n",
      "Motion Plan Failure\n",
      "try constrained motion\n",
      "constrained motion tried: False\n",
      "constrained motion tried: False\n",
      "Motion Plan Failure\n",
      "result: 12 - (0, 1)->(0, 2) = fail\n",
      "try transition motion\n",
      "Motion Plan Failure\n",
      "try: 0 - (0, 0)->(0, 1)\n",
      "result: 16 - (1, 0)->(2, 0) = fail\n",
      "result: 2 - (0, 1)->(0, 2) = fail\n",
      "try: 0 - (0, 0)->(0, 1)\n",
      "try: 0 - (0, 0)->(0, 1)\n",
      "transition motion tried: True\n",
      "try transition motion\n"
     ]
    },
    {
     "name": "stdout",
     "output_type": "stream",
     "text": [
      "try transition motion\n",
      "try transition motion\n",
      "result: 0 - (0, 0)->(1, 0) = success\n",
      "transition motion tried: True\n",
      "branching: 0->34 (2.78/10.0 s, steps/err: 52(64.4040107727 ms)/0.00142930305227)\n",
      "result: 0 - (0, 0)->(1, 0) = success\n",
      "======================================================================================================================================================\n",
      "transition motion tried: True\n",
      "branching: 0->35 (2.79/10.0 s, steps/err: 52(134.629011154 ms)/0.00149167383525)\n",
      "result: 0 - (0, 0)->(0, 1) = success\n",
      "======================================================================================================================================================\n",
      "branching: 0->36 (2.8/10.0 s, steps/err: 48(165.397882462 ms)/0.00190058711102)\n",
      "try: 34 - (1, 0)->(2, 0)\n",
      "try: 35 - (1, 0)->(2, 0)\n",
      "try constrained motion\n",
      "======================================================================================================================================================\n",
      "transition motion tried: True\n",
      "try constrained motion\n",
      "transition motion tried: True\n",
      "try: 0 - (0, 0)->(0, 1)\n",
      "result: 0 - (0, 0)->(1, 0) = success\n",
      "branching: 0->37 (2.84/10.0 s, steps/err: 52(132.661104202 ms)/0.00149167383525)\n",
      "transition motion tried: True\n",
      "result: 0 - (0, 0)->(0, 1) = success\n",
      "result: 0 - (0, 0)->(0, 1) = success\n",
      "try transition motion\n",
      "constrained motion tried: False\n",
      "Motion Plan Failure\n",
      "branching: 0->38 (2.85/10.0 s, steps/err: 48(65.3719902039 ms)/0.001631036154)\n",
      "======================================================================================================================================================\n",
      "result: 4 - (0, 1)->(0, 2) = fail\n",
      "======================================================================================================================================================\n",
      "try: 37 - (1, 0)->(2, 0)\n",
      "try: 0 - (0, 0)->(0, 1)\n",
      "transition motion tried: True\n",
      "try constrained motion\n",
      "branching: 0->39 (2.87/10.0 s, steps/err: 39(88.2019996643 ms)/0.00163113162515)\n",
      "result: 0 - (0, 0)->(1, 0) = success\n",
      "try transition motion\n",
      "try: 40 - (1, 0)->(2, 0)\n",
      "try constrained motion\n",
      "branching: 0->40 (2.88/10.0 s, steps/err: 44(135.782957077 ms)/0.00185530451878)\n",
      "constrained motion tried: False\n",
      "transition motion tried: True\n",
      "======================================================================================================================================================\n",
      "try: 29 - (1, 0)->(2, 0)\n",
      "Motion Plan Failure\n",
      "constrained motion tried: False\n",
      "result: 0 - (0, 0)->(0, 1) = success\n",
      "result: 9 - (0, 1)->(0, 2) = fail\n",
      "======================================================================================================================================================\n",
      "branching: 0->41 (2.9/10.0 s, steps/err: 39(49.0810871124 ms)/0.00128825999993)\n",
      "try: 0 - (0, 0)->(1, 0)\n",
      "Motion Plan Failure\n",
      "======================================================================================================================================================\n",
      "try: 17 - (1, 0)->(2, 0)\n",
      "try constrained motion\n",
      "constrained motion tried: False\n",
      "result: 21 - (1, 0)->(2, 0) = fail\n",
      "Motion Plan Failure\n",
      "constrained motion tried: False\n",
      "try: 25 - (1, 0)->(2, 0)\n",
      "result: 23 - (1, 0)->(2, 0) = fail\n",
      "try: 26 - (1, 0)->(2, 0)\n",
      "try: 35 - (1, 0)->(2, 0)\n",
      "try transition motion\n",
      "Motion Plan Failure\n",
      "try constrained motion\n",
      "result: 20 - (1, 0)->(2, 0) = fail\n",
      "try constrained motion\n",
      "transition motion tried: True\n",
      "try constrained motion\n",
      "try: 10 - (0, 1)->(0, 2)\n",
      "constrained motion tried: False\n",
      "result: 0 - (0, 0)->(0, 1) = success\n",
      "try constrained motion\n",
      "Motion Plan Failure\n",
      "result: 10 - (0, 1)->(0, 2) = fail\n",
      "branching: 0->42 (2.94/10.0 s, steps/err: 39(68.1140422821 ms)/0.00135157674629)\n",
      "try: 12 - (0, 1)->(0, 2)\n",
      "try constrained motion\n",
      "======================================================================================================================================================\n",
      "transition motion tried: True\n",
      "try: 0 - (0, 0)->(1, 0)\n",
      "try transition motion\n",
      "constrained motion tried: False\n",
      "try constrained motion\n",
      "Motion Plan Failure\n",
      "result: 0 - (0, 0)->(1, 0) = success\n",
      "result: 12 - (0, 1)->(0, 2) = fail\n",
      "branching: 0->43 (2.98/10.0 s, steps/err: 52(56.7147731781 ms)/0.00201159910159)\n",
      "constrained motion tried: False\n",
      "try: 43 - (1, 0)->(2, 0)\n",
      "Motion Plan Failure\n",
      "result: 25 - (1, 0)->(2, 0) = fail\n",
      "======================================================================================================================================================\n",
      "try: 0 - (0, 0)->(1, 0)\n",
      "try: 8 - (1, 0)->(2, 0)\n",
      "try transition motion\n",
      "try constrained motion\n",
      "try constrained motion\n",
      "transition motion tried: True\n",
      "result: 0 - (0, 0)->(0, 1) = success\n",
      "branching: 0->44 (3.04/10.0 s, steps/err: 39(260.787010193 ms)/0.00135157674629)\n",
      "======================================================================================================================================================\n",
      "try: 0 - (0, 0)->(1, 0)\n",
      "try transition motion\n",
      "transition motion tried: True\n",
      "result: 0 - (0, 0)->(1, 0) = success\n",
      "branching: 0->45 (3.08/10.0 s, steps/err: 48(111.792802811 ms)/0.00226166150855)\n",
      "======================================================================================================================================================\n",
      "try: 45 - (1, 0)->(2, 0)\n",
      "transition motion tried: True\n",
      "result: 0 - (0, 0)->(1, 0) = success\n",
      "try constrained motion\n",
      "branching: 0->46 (3.14/10.0 s, steps/err: 48(76.2259960175 ms)/0.00226166150855)\n",
      "======================================================================================================================================================\n",
      "try: 46 - (1, 0)->(2, 0)\n",
      "try constrained motion\n",
      "transition motion tried: True\n",
      "result: 0 - (0, 0)->(1, 0) = success\n",
      "branching: 0->47 (3.29/10.0 s, steps/err: 48(271.957874298 ms)/0.00146247919995)\n",
      "======================================================================================================================================================\n",
      "try: 47 - (1, 0)->(2, 0)\n",
      "try constrained motion\n",
      "constrained motion tried: False\n",
      "Motion Plan Failure\n",
      "result: 5 - (1, 0)->(2, 0) = fail\n",
      "try: 5 - (1, 0)->(2, 0)\n",
      "try constrained motion\n",
      "constrained motion tried: True\n",
      "result: 12 - (0, 1)->(0, 2) = success\n",
      "branching: 12->48 (3.94/10.0 s, steps/err: 196(970.167160034 ms)/0.00105168457294)\n",
      "======================================================================================================================================================\n",
      "try: 0 - (0, 0)->(1, 0)\n",
      "try transition motion\n",
      "transition motion tried: True\n",
      "result: 0 - (0, 0)->(1, 0) = success\n",
      "branching: 0->49 (4.03/10.0 s, steps/err: 48(66.666841507 ms)/0.0015559246809)\n",
      "======================================================================================================================================================\n",
      "try: 49 - (1, 0)->(2, 0)\n",
      "try constrained motion\n",
      "constrained motion tried: True\n",
      "result: 12 - (0, 1)->(0, 2) = success\n",
      "branching: 12->50 (4.2/10.0 s, steps/err: 196(1800.00209808 ms)/0.0019788816504)\n",
      "======================================================================================================================================================\n",
      "try: 0 - (0, 0)->(1, 0)\n",
      "try transition motion\n",
      "constrained motion tried: True\n",
      "result: 18 - (0, 1)->(0, 2) = success\n",
      "branching: 18->51 (4.24/10.0 s, steps/err: 196(1891.27707481 ms)/0.0019788816504)\n",
      "======================================================================================================================================================\n",
      "try: 32 - (0, 1)->(0, 2)\n",
      "try constrained motion\n",
      "transition motion tried: True\n",
      "result: 0 - (0, 0)->(1, 0) = success\n",
      "branching: 0->52 (4.32/10.0 s, steps/err: 52(92.8230285645 ms)/0.00201159910159)\n",
      "======================================================================================================================================================\n",
      "try: 52 - (1, 0)->(2, 0)\n",
      "try constrained motion\n",
      "constrained motion tried: False\n",
      "constrained motion tried: False\n",
      "Motion Plan Failure\n",
      "Motion Plan Failure\n",
      "result: 17 - (1, 0)->(2, 0) = fail\n",
      "try: 33 - (0, 1)->(0, 2)\n",
      "result: 6 - (1, 0)->(2, 0) = fail\n",
      "try: 36 - (0, 1)->(0, 2)\n",
      "try constrained motion\n",
      "try constrained motion\n",
      "constrained motion tried: True\n",
      "result: 7 - (0, 1)->(0, 2) = success\n",
      "branching: 7->53 (4.5/10.0 s, steps/err: 196(1797.30296135 ms)/0.0019788816504)\n"
     ]
    },
    {
     "name": "stdout",
     "output_type": "stream",
     "text": [
      "======================================================================================================================================================\n",
      "try: 0 - (0, 0)->(0, 1)\n",
      "constrained motion tried: False\n",
      "Motion Plan Failure\n",
      "try transition motion\n",
      "constrained motion tried: False\n",
      "Motion Plan Failure\n",
      "result: 7 - (0, 1)->(0, 2) = fail\n",
      "result: 26 - (1, 0)->(2, 0) = fail\n",
      "try: 0 - (0, 0)->(0, 1)\n",
      "try: 0 - (0, 0)->(1, 0)\n",
      "transition motion tried: True\n",
      "try transition motion\n",
      "result: 0 - (0, 0)->(0, 1) = success\n",
      "constrained motion tried: False\n",
      "try transition motion\n",
      "constrained motion tried: False\n",
      "branching: 0->54 (4.61/10.0 s, steps/err: 48(70.9381103516 ms)/0.00185592351371)\n",
      "Motion Plan Failure\n",
      "======================================================================================================================================================\n",
      "Motion Plan Failure\n",
      "result: 6 - (1, 0)->(2, 0) = fail\n",
      "result: 24 - (1, 0)->(2, 0) = fail\n",
      "try: 0 - (0, 0)->(1, 0)\n",
      "try: 25 - (1, 0)->(2, 0)\n",
      "constrained motion tried: False\n",
      "try: 0 - (0, 0)->(1, 0)\n",
      "Motion Plan Failure\n",
      "result: 23 - (1, 0)->(2, 0) = fail\n",
      "try transition motion\n",
      "try transition motion\n",
      "try constrained motion\n",
      "try: 4 - (0, 1)->(0, 2)\n",
      "transition motion tried: True\n",
      "try constrained motion\n",
      "result: 0 - (0, 0)->(0, 1) = success\n",
      "branching: 0->55 (4.69/10.0 s, steps/err: 48(96.981048584 ms)/0.00190058711102)\n",
      "======================================================================================================================================================\n",
      "transition motion tried: True\n",
      "result: 0 - (0, 0)->(1, 0) = success\n",
      "try: 52 - (1, 0)->(2, 0)\n",
      "constrained motion tried: False\n",
      "Motion Plan Failure\n",
      "constrained motion tried: False\n",
      "branching: 0->56 (4.71/10.0 s, steps/err: 44(70.1701641083 ms)/0.00136464289451)\n",
      "Motion Plan Failure\n",
      "result: 29 - (1, 0)->(2, 0) = fail\n",
      "======================================================================================================================================================\n",
      "result: 24 - (1, 0)->(2, 0) = fail\n",
      "try: 56 - (1, 0)->(2, 0)\n",
      "try constrained motion\n",
      "try: 0 - (0, 0)->(0, 1)\n",
      "try constrained motion\n",
      "try: 6 - (1, 0)->(2, 0)\n",
      "constrained motion tried: False\n",
      "Motion Plan Failure\n",
      "try transition motion\n",
      "result: 6 - (1, 0)->(2, 0) = fail\n",
      "try constrained motion\n",
      "try: 46 - (1, 0)->(2, 0)\n",
      "transition motion tried: True\n",
      "try constrained motion\n",
      "transition motion tried: True\n",
      "result: 0 - (0, 0)->(1, 0) = success\n",
      "branching: 0->57 (4.79/10.0 s, steps/err: 48(140.196084976 ms)/0.00118434205123)\n",
      "result: 0 - (0, 0)->(1, 0) = success\n",
      "branching: 0->58 (4.8/10.0 s, steps/err: 52(202.982187271 ms)/0.00201159910159)\n",
      "======================================================================================================================================================\n",
      "======================================================================================================================================================\n",
      "try: 57 - (1, 0)->(2, 0)\n",
      "try: 58 - (1, 0)->(2, 0)\n",
      "try constrained motion\n",
      "try constrained motion\n",
      "constrained motion tried: False\n",
      "Motion Plan Failure\n",
      "constrained motion tried: False\n",
      "Motion Plan Failure\n",
      "constrained motion tried: False\n",
      "result: 31 - (1, 0)->(2, 0) = fail\n",
      "result: 26 - (1, 0)->(2, 0) = fail\n",
      "try: 0 - (0, 0)->(1, 0)\n",
      "Motion Plan Failure\n",
      "try: 29 - (1, 0)->(2, 0)\n",
      "result: 35 - (1, 0)->(2, 0) = fail\n",
      "try: 0 - (0, 0)->(0, 1)\n",
      "try transition motion\n",
      "constrained motion tried: False\n",
      "Motion Plan Failure\n",
      "try constrained motion\n",
      "result: 37 - (1, 0)->(2, 0) = fail\n",
      "try: 0 - (0, 0)->(0, 1)\n",
      "try transition motion\n",
      "try transition motion\n",
      "constrained motion tried: False\n",
      "Motion Plan Failure\n",
      "constrained motion tried: False\n",
      "result: 40 - (1, 0)->(2, 0) = fail\n",
      "transition motion tried: True\n",
      "transition motion tried: True\n",
      "Motion Plan Failure\n",
      "transition motion tried: True\n",
      "try: 57 - (1, 0)->(2, 0)\n",
      "result: 0 - (0, 0)->(0, 1) = success\n",
      "result: 0 - (0, 0)->(0, 1) = success\n",
      "branching: 0->59 (4.99/10.0 s, steps/err: 39(70.1849460602 ms)/0.00155602270599)\n",
      "result: 0 - (0, 0)->(1, 0) = success\n",
      "result: 14 - (0, 1)->(0, 2) = fail\n",
      "try constrained motion\n",
      "branching: 0->60 (5.01/10.0 s, steps/err: 39(76.6730308533 ms)/0.00155602270599)\n",
      "constrained motion tried: False\n",
      "======================================================================================================================================================\n",
      "try: 61 - (1, 0)->(2, 0)\n",
      "branching: 0->61 (5.01/10.0 s, steps/err: 48(112.449169159 ms)/0.0015559246809)\n",
      "======================================================================================================================================================\n",
      "Motion Plan Failure\n",
      "try constrained motion\n",
      "try: 0 - (0, 0)->(0, 1)\n",
      "result: 25 - (1, 0)->(2, 0) = fail\n",
      "try: 0 - (0, 0)->(1, 0)\n",
      "try: 29 - (1, 0)->(2, 0)\n",
      "======================================================================================================================================================\n",
      "try transition motion\n",
      "try transition motion\n",
      "try: 17 - (1, 0)->(2, 0)\n",
      "try constrained motion\n",
      "try constrained motion\n",
      "constrained motion tried: False\n",
      "Motion Plan Failure\n",
      "transition motion tried: True\n",
      "transition motion tried: True\n",
      "result: 0 - (0, 0)->(0, 1) = success\n",
      "constrained motion tried: False\n",
      "result: 10 - (0, 1)->(0, 2) = fail\n",
      "Motion Plan Failure\n",
      "result: 0 - (0, 0)->(1, 0) = success\n",
      "branching: 0->62 (5.08/10.0 s, steps/err: 39(335.329055786 ms)/0.00128825999993)\n",
      "constrained motion tried: False\n",
      "try: 52 - (1, 0)->(2, 0)\n",
      "result: 29 - (1, 0)->(2, 0) = fail\n",
      "branching: 0->63 (5.09/10.0 s, steps/err: 48(48.2029914856 ms)/0.00118434205123)\n",
      "try constrained motion\n",
      "======================================================================================================================================================\n",
      "Motion Plan Failure\n",
      "constrained motion tried: False\n",
      "transition motion tried: True\n",
      "result: 8 - (1, 0)->(2, 0) = fail\n",
      "======================================================================================================================================================\n",
      "Motion Plan Failure\n",
      "try: 14 - (0, 1)->(0, 2)\n",
      "result: 10 - (0, 1)->(0, 2) = fail\n",
      "try: 63 - (1, 0)->(2, 0)\n",
      "try: 0 - (0, 0)->(0, 1)\n",
      "result: 0 - (0, 0)->(0, 1) = success\n",
      "try: 0 - (0, 0)->(0, 1)\n",
      "constrained motion tried: False\n",
      "branching: 0->64 (5.12/10.0 s, steps/err: 44(78.0329704285 ms)/0.00142933069294)\n",
      "try transition motion\n",
      "Motion Plan Failure\n",
      "======================================================================================================================================================\n",
      "try constrained motion\n",
      "try: 0 - (0, 0)->(1, 0)\n",
      "try transition motion\n",
      "try constrained motion\n",
      "constrained motion tried: False\n",
      "result: 17 - (1, 0)->(2, 0) = fail\n",
      "Motion Plan Failure\n",
      "try transition motion\n",
      "try: 64 - (0, 1)->(0, 2)\n",
      "result: 4 - (0, 1)->(0, 2) = fail\n",
      "try: 61 - (1, 0)->(2, 0)\n",
      "try: 0 - (0, 0)->(0, 1)\n",
      "try constrained motion\n",
      "try constrained motion\n",
      "try transition motion\n",
      "transition motion tried: True\n",
      "transition motion tried: True\n",
      "result: 0 - (0, 0)->(0, 1) = success\n",
      "result: 0 - (0, 0)->(0, 1) = success\n",
      "branching: 0->65 (5.2/10.0 s, steps/err: 48(68.1080818176 ms)/0.0010249428596)\n",
      "constrained motion tried: False\n",
      "branching: 0->66 (5.2/10.0 s, steps/err: 44(76.1880874634 ms)/0.000861394540341)\n",
      "======================================================================================================================================================\n",
      "Motion Plan Failure\n",
      "try: 0 - (0, 0)->(1, 0)\n",
      "======================================================================================================================================================\n",
      "result: 43 - (1, 0)->(2, 0) = fail\n",
      "try: 0 - (0, 0)->(1, 0)\n",
      "try transition motion\n",
      "transition motion tried: True\n",
      "try transition motion\n",
      "try: 0 - (0, 0)->(0, 1)\n",
      "constrained motion tried: False\n",
      "try transition motion\n",
      "result: 0 - (0, 0)->(0, 1) = success\n",
      "Motion Plan Failure\n",
      "branching: 0->67 (5.26/10.0 s, steps/err: 48(79.4999599457 ms)/0.00185592351371)\n",
      "result: 34 - (1, 0)->(2, 0) = fail\n",
      "======================================================================================================================================================\n",
      "transition motion tried: True\n",
      "try: 58 - (1, 0)->(2, 0)\n",
      "constrained motion tried: True\n",
      "result: 0 - (0, 0)->(1, 0) = success\n",
      "transition motion tried: True\n",
      "result: 32 - (0, 1)->(0, 2) = success\n"
     ]
    },
    {
     "name": "stdout",
     "output_type": "stream",
     "text": [
      "constrained motion tried: False\n",
      "branching: 0->68 (5.3/10.0 s, steps/err: 44(56.5900802612 ms)/0.00184957973236)\n",
      "constrained motion tried: True\n",
      "Motion Plan Failure\n",
      "result: 4 - (0, 1)->(0, 2) = fail\n",
      "try constrained motion\n",
      "try: 0 - (0, 0)->(0, 1)\n",
      "try: 68 - (1, 0)->(2, 0)\n",
      "result: 0 - (0, 0)->(1, 0) = success\n",
      "======================================================================================================================================================\n",
      "result: 36 - (0, 1)->(0, 2) = success\n",
      "branching: 32->69 (5.3/10.0 s, steps/err: 196(1037.05406189 ms)/0.00105168457294)\n",
      "try: 70 - (1, 0)->(2, 0)\n",
      "try transition motion\n",
      "branching: 0->70 (5.31/10.0 s, steps/err: 44(79.708814621 ms)/0.00184957973236)\n",
      "branching: 36->71 (5.32/10.0 s, steps/err: 196(834.097862244 ms)/0.00105168457294)\n",
      "======================================================================================================================================================\n",
      "try constrained motion\n",
      "======================================================================================================================================================\n",
      "======================================================================================================================================================\n",
      "try: 49 - (1, 0)->(2, 0)\n",
      "try: 23 - (1, 0)->(2, 0)\n",
      "try constrained motion\n",
      "try: 15 - (0, 1)->(0, 2)\n",
      "transition motion tried: True\n",
      "try constrained motion\n",
      "try constrained motion\n",
      "constrained motion tried: False\n",
      "result: 0 - (0, 0)->(1, 0) = success\n",
      "Motion Plan Failure\n",
      "try constrained motion\n",
      "result: 26 - (1, 0)->(2, 0) = fail\n",
      "try: 72 - (1, 0)->(2, 0)\n",
      "branching: 0->72 (5.37/10.0 s, steps/err: 48(209.762096405 ms)/0.00118434205123)\n",
      "======================================================================================================================================================\n",
      "transition motion tried: True\n",
      "constrained motion tried: True\n",
      "try: 0 - (0, 0)->(1, 0)\n",
      "constrained motion tried: False\n",
      "result: 33 - (0, 1)->(0, 2) = success\n",
      "branching: 33->74 (5.39/10.0 s, steps/err: 196(919.13485527 ms)/0.00105168457294)\n",
      "result: 0 - (0, 0)->(0, 1) = success\n",
      "try constrained motion\n",
      "try transition motion\n",
      "branching: 0->73 (5.39/10.0 s, steps/err: 39(74.0201473236 ms)/0.00155602270599)\n",
      "transition motion tried: True\n",
      "======================================================================================================================================================\n",
      "result: 0 - (0, 0)->(0, 1) = success\n",
      "Motion Plan Failure\n",
      "branching: 0->75 (5.41/10.0 s, steps/err: 48(163.365125656 ms)/0.00185592351371)\n",
      "try: 0 - (0, 0)->(0, 1)\n",
      "======================================================================================================================================================\n",
      "======================================================================================================================================================\n",
      "result: 46 - (1, 0)->(2, 0) = fail\n",
      "try: 46 - (1, 0)->(2, 0)\n",
      "transition motion tried: True\n",
      "try: 35 - (1, 0)->(2, 0)\n",
      "try transition motion\n",
      "try: 0 - (0, 0)->(0, 1)\n",
      "result: 0 - (0, 0)->(1, 0) = success\n",
      "try constrained motion\n",
      "try constrained motion\n",
      "try transition motion\n",
      "branching: 0->76 (5.44/10.0 s, steps/err: 55(47.7979183197 ms)/0.00101942987569)\n",
      "======================================================================================================================================================\n",
      "try: 76 - (1, 0)->(2, 0)\n",
      "transition motion tried: True\n",
      "result: 0 - (0, 0)->(0, 1) = success\n",
      "try constrained motion\n",
      "constrained motion tried: False\n",
      "transition motion tried: True\n",
      "Motion Plan Failure\n",
      "result: 0 - (0, 0)->(0, 1) = success\n",
      "result: 45 - (1, 0)->(2, 0) = fail\n",
      "branching: 0->78 (5.53/10.0 s, steps/err: 44(110.53109169 ms)/0.00142933069294)\n",
      "======================================================================================================================================================\n",
      "branching: 0->77 (5.53/10.0 s, steps/err: 48(73.8189220428 ms)/0.00190058711102)\n",
      "try: 7 - (0, 1)->(0, 2)\n",
      "try: 26 - (1, 0)->(2, 0)\n",
      "======================================================================================================================================================\n",
      "try constrained motion\n",
      "try: 0 - (0, 0)->(0, 1)\n",
      "try constrained motion\n",
      "try transition motion\n",
      "transition motion tried: True\n",
      "result: 0 - (0, 0)->(0, 1) = success\n",
      "branching: 0->79 (5.64/10.0 s, steps/err: 39(70.897102356 ms)/0.00128825999993)\n",
      "======================================================================================================================================================\n",
      "try: 0 - (0, 0)->(1, 0)\n",
      "try transition motion\n",
      "constrained motion tried: False\n",
      "Motion Plan Failure\n",
      "result: 35 - (1, 0)->(2, 0) = fail\n",
      "try: 0 - (0, 0)->(1, 0)\n",
      "try transition motion\n",
      "transition motion tried: True\n",
      "result: 0 - (0, 0)->(1, 0) = success\n",
      "branching: 0->80 (5.88/10.0 s, steps/err: 44(221.922874451 ms)/0.0020900484946)\n",
      "======================================================================================================================================================\n",
      "try: 80 - (1, 0)->(2, 0)\n",
      "try constrained motion\n",
      "constrained motion tried: False\n",
      "Motion Plan Failure\n",
      "result: 49 - (1, 0)->(2, 0) = fail\n",
      "try: 0 - (0, 0)->(0, 1)\n",
      "try transition motion\n",
      "transition motion tried: True\n",
      "result: 0 - (0, 0)->(0, 1) = success\n",
      "branching: 0->81 (6.23/10.0 s, steps/err: 48(68.04895401 ms)/0.00208995774702)\n",
      "======================================================================================================================================================\n",
      "try: 0 - (0, 0)->(1, 0)\n",
      "try transition motion\n",
      "constrained motion tried: False\n",
      "Motion Plan Failure\n",
      "result: 5 - (1, 0)->(2, 0) = fail\n",
      "try: 80 - (1, 0)->(2, 0)\n",
      "try constrained motion\n",
      "transition motion tried: True\n",
      "result: 0 - (0, 0)->(1, 0) = success\n",
      "branching: 0->82 (6.46/10.0 s, steps/err: 52(635.44511795 ms)/0.00192807971254)\n",
      "======================================================================================================================================================\n",
      "try: 82 - (1, 0)->(2, 0)\n",
      "try constrained motion\n",
      "constrained motion tried: False\n",
      "Motion Plan Failure\n",
      "result: 52 - (1, 0)->(2, 0) = fail\n",
      "try: 0 - (0, 0)->(0, 1)\n",
      "try transition motion\n",
      "constrained motion tried: False\n",
      "constrained motion tried: False\n",
      "Motion Plan Failure\n",
      "Motion Plan Failure\n",
      "transition motion tried: True\n",
      "result: 25 - (1, 0)->(2, 0) = fail\n",
      "try: 0 - (0, 0)->(1, 0)\n",
      "result: 47 - (1, 0)->(2, 0) = fail\n",
      "try: 0 - (0, 0)->(1, 0)\n",
      "result: 0 - (0, 0)->(0, 1) = success\n",
      "try transition motion\n",
      "branching: 0->83 (6.69/10.0 s, steps/err: 39(84.4581127167 ms)/0.00128825999993)\n",
      "======================================================================================================================================================\n",
      "try transition motion\n",
      "try: 0 - (0, 0)->(1, 0)\n",
      "try transition motion\n",
      "transition motion tried: True\n",
      "result: 0 - (0, 0)->(1, 0) = success\n",
      "branching: 0->84 (6.78/10.0 s, steps/err: 44(499.20797348 ms)/0.00190571177648)\n",
      "======================================================================================================================================================\n",
      "try: 84 - (1, 0)->(2, 0)\n",
      "try constrained motion\n",
      "transition motion tried: True\n",
      "result: 0 - (0, 0)->(1, 0) = success\n",
      "transition motion tried: True\n",
      "branching: 0->85 (6.86/10.0 s, steps/err: 52(144.47593689 ms)/0.00142930305227)\n",
      "======================================================================================================================================================\n",
      "try: 85 - (1, 0)->(2, 0)\n",
      "result: 0 - (0, 0)->(1, 0) = success\n",
      "branching: 0->86 (6.88/10.0 s, steps/err: 44(159.83581543 ms)/0.0020900484946)\n",
      "try constrained motion\n",
      "======================================================================================================================================================\n",
      "constrained motion tried: False\n",
      "try: 86 - (1, 0)->(2, 0)\n",
      "try constrained motion\n",
      "Motion Plan Failure\n",
      "result: 6 - (1, 0)->(2, 0) = fail\n",
      "try: 0 - (0, 0)->(1, 0)\n",
      "constrained motion tried: False\n",
      "constrained motion tried: False\n",
      "Motion Plan Failure\n",
      "Motion Plan Failure\n",
      "result: 46 - (1, 0)->(2, 0) = fail\n",
      "try transition motion\n",
      "result: 57 - (1, 0)->(2, 0) = fail\n",
      "try: 0 - (0, 0)->(0, 1)\n",
      "try: 3 - (1, 0)->(2, 0)\n",
      "transition motion tried: True\n"
     ]
    },
    {
     "name": "stdout",
     "output_type": "stream",
     "text": [
      "try transition motion\n",
      "result: 0 - (0, 0)->(1, 0) = success\n",
      "try constrained motion\n",
      "branching: 0->87 (6.98/10.0 s, steps/err: 48(291.081905365 ms)/0.00118434205123)\n",
      "constrained motion tried: False\n",
      "======================================================================================================================================================\n",
      "Motion Plan Failure\n",
      "result: 58 - (1, 0)->(2, 0) = fail\n",
      "try: 64 - (0, 1)->(0, 2)\n",
      "try: 87 - (1, 0)->(2, 0)\n",
      "transition motion tried: True\n",
      "try constrained motion\n",
      "try constrained motion\n",
      "constrained motion tried: False\n",
      "result: 0 - (0, 0)->(1, 0) = success\n",
      "Motion Plan Failure\n",
      "branching: 0->88 (7.04/10.0 s, steps/err: 48(73.2011795044 ms)/0.0015559246809)\n",
      "result: 56 - (1, 0)->(2, 0) = fail\n",
      "======================================================================================================================================================\n",
      "try: 88 - (1, 0)->(2, 0)\n",
      "try: 61 - (1, 0)->(2, 0)\n",
      "try constrained motion\n",
      "try constrained motion\n",
      "constrained motion tried: False\n",
      "Motion Plan Failure\n",
      "result: 14 - (0, 1)->(0, 2) = fail\n",
      "try: 0 - (0, 0)->(0, 1)\n",
      "constrained motion tried: True\n",
      "try transition motion\n",
      "result: 7 - (0, 1)->(0, 2) = success\n",
      "constrained motion tried: False\n",
      "Motion Plan Failure\n",
      "result: 64 - (0, 1)->(0, 2) = fail\n",
      "branching: 7->89 (7.17/10.0 s, steps/err: 196(1626.33705139 ms)/0.00224393549892)\n",
      "transition motion tried: True\n",
      "======================================================================================================================================================\n",
      "try: 60 - (0, 1)->(0, 2)\n",
      "try: 0 - (0, 0)->(1, 0)\n",
      "result: 0 - (0, 0)->(0, 1) = success\n",
      "branching: 0->90 (7.2/10.0 s, steps/err: 48(238.245010376 ms)/0.00190058711102)\n",
      "constrained motion tried: False\n",
      "try transition motion\n",
      "======================================================================================================================================================\n",
      "try constrained motion\n",
      "try: 61 - (1, 0)->(2, 0)\n",
      "Motion Plan Failure\n",
      "result: 63 - (1, 0)->(2, 0) = fail\n",
      "try constrained motion\n",
      "try: 0 - (0, 0)->(0, 1)\n",
      "constrained motion tried: False\n",
      "try transition motion\n",
      "constrained motion tried: False\n",
      "transition motion tried: True\n",
      "Motion Plan Failure\n",
      "constrained motion tried: False\n",
      "result: 29 - (1, 0)->(2, 0) = fail\n",
      "result: 0 - (0, 0)->(0, 1) = success\n",
      "Motion Plan Failure\n",
      "Motion Plan Failure\n",
      "branching: 0->91 (7.25/10.0 s, steps/err: 48(81.0630321503 ms)/0.00102492117459)\n",
      "try: 49 - (1, 0)->(2, 0)\n",
      "result: 29 - (1, 0)->(2, 0) = fail\n",
      "try: 0 - (0, 0)->(0, 1)\n",
      "======================================================================================================================================================\n",
      "try constrained motion\n",
      "result: 57 - (1, 0)->(2, 0) = fail\n",
      "try: 55 - (0, 1)->(0, 2)\n",
      "try: 88 - (1, 0)->(2, 0)\n",
      "try transition motion\n",
      "constrained motion tried: False\n",
      "try constrained motion\n",
      "transition motion tried: True\n",
      "transition motion tried: True\n",
      "try constrained motion\n",
      "result: 0 - (0, 0)->(0, 1) = success\n",
      "Motion Plan Failure\n",
      "result: 0 - (0, 0)->(1, 0) = success\n",
      "result: 61 - (1, 0)->(2, 0) = fail\n",
      "branching: 0->93 (7.31/10.0 s, steps/err: 52(101.51386261 ms)/0.00212343764159)\n",
      "======================================================================================================================================================\n",
      "try: 93 - (1, 0)->(2, 0)\n",
      "branching: 0->92 (7.3/10.0 s, steps/err: 44(63.215970993 ms)/0.00133495743008)\n",
      "constrained motion tried: False\n",
      "======================================================================================================================================================\n",
      "try: 0 - (0, 0)->(0, 1)\n",
      "try: 55 - (0, 1)->(0, 2)\n",
      "try constrained motion\n",
      "transition motion tried: True\n",
      "Motion Plan Failure\n",
      "try transition motion\n",
      "try constrained motion\n",
      "constrained motion tried: False\n",
      "result: 0 - (0, 0)->(0, 1) = success\n",
      "constrained motion tried: False\n",
      "result: 52 - (1, 0)->(2, 0) = fail\n",
      "branching: 0->94 (7.35/10.0 s, steps/err: 48(67.3160552979 ms)/0.000910279664802)\n",
      "Motion Plan Failure\n",
      "======================================================================================================================================================\n",
      "try: 92 - (0, 1)->(0, 2)\n",
      "result: 61 - (1, 0)->(2, 0) = fail\n",
      "try: 58 - (1, 0)->(2, 0)\n",
      "Motion Plan Failure\n",
      "try: 47 - (1, 0)->(2, 0)\n",
      "try constrained motion\n",
      "try constrained motion\n",
      "result: 4 - (0, 1)->(0, 2) = fail\n",
      "try constrained motion\n",
      "constrained motion tried: False\n",
      "transition motion tried: True\n",
      "try: 0 - (0, 0)->(0, 1)\n",
      "Motion Plan Failure\n",
      "try transition motion\n",
      "constrained motion tried: False\n",
      "Motion Plan Failure\n",
      "result: 0 - (0, 0)->(0, 1) = success\n",
      "result: 70 - (1, 0)->(2, 0) = fail\n",
      "constrained motion tried: False\n",
      "branching: 0->95 (7.41/10.0 s, steps/err: 48(68.9499378204 ms)/0.0020231828838)\n",
      "Motion Plan Failure\n",
      "try: 14 - (0, 1)->(0, 2)\n",
      "result: 68 - (1, 0)->(2, 0) = fail\n",
      "======================================================================================================================================================\n",
      "try: 40 - (1, 0)->(2, 0)\n",
      "result: 49 - (1, 0)->(2, 0) = fail\n",
      "try: 10 - (0, 1)->(0, 2)\n",
      "try: 26 - (1, 0)->(2, 0)\n",
      "try constrained motion\n",
      "try constrained motion\n",
      "try constrained motion\n",
      "try constrained motion\n",
      "constrained motion tried: False\n",
      "Motion Plan Failure\n",
      "result: 58 - (1, 0)->(2, 0) = fail\n",
      "try: 93 - (1, 0)->(2, 0)\n",
      "constrained motion tried: False\n",
      "transition motion tried: True\n",
      "Motion Plan Failure\n",
      "result: 23 - (1, 0)->(2, 0) = fail\n",
      "try constrained motion\n",
      "result: 0 - (0, 0)->(0, 1) = success\n",
      "branching: 0->96 (7.52/10.0 s, steps/err: 39(104.94184494 ms)/0.00174195501338)\n",
      "try: 0 - (0, 0)->(1, 0)\n",
      "constrained motion tried: True\n",
      "try transition motion\n",
      "======================================================================================================================================================\n",
      "try: 49 - (1, 0)->(2, 0)\n",
      "result: 76 - (1, 0)->(2, 0) = success\n",
      "try constrained motion\n",
      "branching: 76->97 (7.55/10.0 s, steps/err: 270(2040.78984261 ms)/0.0022593700913)\n",
      "======================================================================================================================================================\n",
      "++ adding return motion to acquired answer ++\n",
      "constrained motion tried: False\n",
      "Motion Plan Failure\n",
      "transition motion tried: True\n",
      "result: 15 - (0, 1)->(0, 2) = fail\n",
      "constrained motion tried: False\n",
      "result: 0 - (0, 0)->(1, 0) = success\n",
      "Motion Plan Failure\n",
      "try: 97 - (2, 0)->(2, 1)\n",
      "branching: 0->98 (7.62/10.0 s, steps/err: 52(86.1361026764 ms)/0.00142930305227)\n",
      "result: 52 - (1, 0)->(2, 0) = fail\n",
      "try: 98 - (1, 0)->(2, 0)\n",
      "constrained motion tried: False\n",
      "try transition motion\n",
      "======================================================================================================================================================\n",
      "Motion Plan Failure\n",
      "result: 35 - (1, 0)->(2, 0) = fail\n",
      "try: 0 - (0, 0)->(0, 1)\n",
      "try: 97 - (2, 0)->(2, 1)\n",
      "try constrained motion\n",
      "try transition motion\n",
      "try transition motion\n",
      "transition motion tried: True\n",
      "result: 97 - (2, 0)->(2, 1) = success\n",
      "branching: 97->99 (7.72/10.0 s, steps/err: 42(86.2131118774 ms)/0.00140903022106)\n",
      "transition motion tried: True\n",
      "======================================================================================================================================================\n",
      "result: 97 - (2, 0)->(2, 1) = success\n",
      "try: 99 - (2, 1)->(2, 2)\n",
      "branching: 97->100 (7.76/10.0 s, steps/err: 42(96.1291790009 ms)/0.000999513314981)\n",
      "try constrained motion\n",
      "======================================================================================================================================================\n",
      "try: 100 - (2, 1)->(2, 2)\n",
      "constrained motion tried: False\n",
      "try constrained motion\n",
      "Motion Plan Failure\n",
      "result: 72 - (1, 0)->(2, 0) = fail\n",
      "try: 97 - (2, 0)->(2, 1)\n",
      "transition motion tried: True\n",
      "result: 0 - (0, 0)->(0, 1) = success\n",
      "branching: 0->101 (7.83/10.0 s, steps/err: 48(177.349805832 ms)/0.00102497555161)\n",
      "constrained motion tried: False\n",
      "======================================================================================================================================================\n",
      "try: 46 - (1, 0)->(2, 0)\n",
      "Motion Plan Failure\n",
      "try transition motion\n",
      "constrained motion tried: False\n",
      "try constrained motion\n",
      "result: 26 - (1, 0)->(2, 0) = fail\n",
      "Motion Plan Failure\n",
      "result: 17 - (1, 0)->(2, 0) = fail\n"
     ]
    },
    {
     "name": "stdout",
     "output_type": "stream",
     "text": [
      "try: 100 - (2, 1)->(2, 2)\n",
      "try: 23 - (1, 0)->(2, 0)\n",
      "try constrained motion\n",
      "transition motion tried: True\n",
      "try constrained motion\n",
      "result: 97 - (2, 0)->(2, 1) = success\n",
      "branching: 97->102 (7.92/10.0 s, steps/err: 57(90.432882309 ms)/0.0020231828838)\n",
      "======================================================================================================================================================\n",
      "try: 102 - (2, 1)->(2, 2)\n",
      "try constrained motion\n",
      "constrained motion tried: False\n",
      "Motion Plan Failure\n",
      "result: 80 - (1, 0)->(2, 0) = fail\n",
      "try: 0 - (0, 0)->(1, 0)\n",
      "try transition motion\n",
      "constrained motion tried: True\n",
      "result: 55 - (0, 1)->(0, 2) = success\n",
      "branching: 55->103 (8.27/10.0 s, steps/err: 196(995.102882385 ms)/0.00224393549892)\n",
      "======================================================================================================================================================\n",
      "try: 61 - (1, 0)->(2, 0)\n",
      "try constrained motion\n",
      "transition motion tried: True\n",
      "result: 0 - (0, 0)->(1, 0) = success\n",
      "constrained motion tried: False\n",
      "branching: 0->104 (8.36/10.0 s, steps/err: 44(314.15605545 ms)/0.00163735362513)\n",
      "Motion Plan Failure\n",
      "======================================================================================================================================================\n",
      "result: 46 - (1, 0)->(2, 0) = fail\n",
      "try: 104 - (1, 0)->(2, 0)\n",
      "try constrained motion\n",
      "try: 25 - (1, 0)->(2, 0)\n",
      "try constrained motion\n",
      "constrained motion tried: False\n",
      "Motion Plan Failure\n",
      "result: 80 - (1, 0)->(2, 0) = fail\n",
      "try: 0 - (0, 0)->(0, 1)\n",
      "try transition motion\n",
      "transition motion tried: True\n",
      "result: 0 - (0, 0)->(0, 1) = success\n",
      "branching: 0->105 (8.63/10.0 s, steps/err: 39(77.5821208954 ms)/0.00110606843401)\n",
      "======================================================================================================================================================\n",
      "try: 16 - (1, 0)->(2, 0)\n",
      "try constrained motion\n",
      "constrained motion tried: False\n",
      "Motion Plan Failure\n",
      "result: 82 - (1, 0)->(2, 0) = fail\n",
      "try: 0 - (0, 0)->(1, 0)\n",
      "try transition motion\n",
      "transition motion tried: True\n",
      "result: 0 - (0, 0)->(1, 0) = success\n",
      "branching: 0->106 (8.86/10.0 s, steps/err: 44(72.8499889374 ms)/0.00163735362513)\n",
      "======================================================================================================================================================\n",
      "try: 106 - (1, 0)->(2, 0)\n",
      "try constrained motion\n",
      "constrained motion tried: False\n",
      "Motion Plan Failure\n",
      "result: 85 - (1, 0)->(2, 0) = fail\n",
      "try: 0 - (0, 0)->(0, 1)\n",
      "try transition motion\n",
      "constrained motion tried: False\n",
      "Motion Plan Failure\n",
      "result: 84 - (1, 0)->(2, 0) = fail\n",
      "try: 77 - (0, 1)->(0, 2)\n",
      "try constrained motion\n",
      "constrained motion tried: False\n",
      "Motion Plan Failure\n",
      "constrained motion tried: False\n",
      "result: 3 - (1, 0)->(2, 0) = fail\n",
      "Motion Plan Failure\n",
      "try: 107 - (2, 0)->(2, 1)\n",
      "result: 64 - (0, 1)->(0, 2) = fail\n",
      "try: 100 - (2, 1)->(2, 2)\n",
      "try transition motion\n",
      "constrained motion tried: False\n",
      "Motion Plan Failure\n",
      "result: 87 - (1, 0)->(2, 0) = fail\n",
      "try constrained motion\n",
      "try: 100 - (2, 1)->(2, 2)\n",
      "try constrained motion\n",
      "transition motion tried: True\n",
      "result: 107 - (2, 0)->(2, 1) = success\n",
      "branching: 107->108 (9.2/10.0 s, steps/err: 48(69.3821907043 ms)/0.00110496673031)\n",
      "======================================================================================================================================================\n",
      "try: 108 - (2, 1)->(2, 2)\n",
      "try constrained motion\n",
      "constrained motion tried: False\n",
      "Motion Plan Failure\n",
      "result: 61 - (1, 0)->(2, 0) = fail\n",
      "constrained motion tried: False\n",
      "try: 0 - (0, 0)->(0, 1)\n",
      "Motion Plan Failure\n",
      "result: 88 - (1, 0)->(2, 0) = fail\n",
      "try transition motion\n",
      "try: 0 - (0, 0)->(0, 1)\n",
      "transition motion tried: True\n",
      "try transition motion\n",
      "result: 0 - (0, 0)->(0, 1) = success\n",
      "=========================================================================================================\n",
      "constrained motion tried: False\n",
      "Motion Plan Failure\n",
      "======================= terminated 24: first answer acquired ===============================\n",
      "result: 61 - (1, 0)->(2, 0) = fail\n",
      "=========================================================================================================\n",
      "=========================================================================================================\n",
      "constrained motion tried: False\n",
      "branching: 0->109 (9.3/10.0 s, steps/err: 48(345.134973526 ms)/0.0020231828838)\n",
      "======================= terminated 19: first answer acquired from other agent ===============================\n",
      "======================================================================================================================================================\n",
      "=========================================================================================================\n",
      "=========================================================================================================\n",
      "constrained motion tried: True\n",
      "Motion Plan Failure\n",
      "result: 55 - (0, 1)->(0, 2) = success\n",
      "======================= terminated 34: first answer acquired from other agent ===============================\n",
      "result: 86 - (1, 0)->(2, 0) = fail\n",
      "branching: 55->110 (9.33/10.0 s, steps/err: 197(1995.83792686 ms)/0.00149062006999)\n",
      "======================================================================================================================================================\n",
      "=========================================================================================================\n",
      "=========================================================================================================\n",
      "======================= terminated 15: first answer acquired from other agent ===============================\n",
      "=========================================================================================================\n",
      "=========================================================================================================\n",
      "constrained motion tried: False\n",
      "======================= terminated 14: first answer acquired from other agent ===============================\n",
      "Motion Plan Failure\n",
      "=========================================================================================================\n",
      "result: 49 - (1, 0)->(2, 0) = fail\n",
      "=========================================================================================================\n",
      "======================= terminated 30: first answer acquired from other agent ===============================\n",
      "=========================================================================================================\n",
      "constrained motion tried: False\n",
      "constrained motion tried: False\n",
      "Motion Plan Failure\n",
      "Motion Plan Failure\n",
      "result: 88 - (1, 0)->(2, 0) = fail\n",
      "=========================================================================================================\n",
      "======================= terminated 27: first answer acquired from other agent ===============================\n",
      "=========================================================================================================\n",
      "result: 92 - (0, 1)->(0, 2) = fail\n",
      "=========================================================================================================\n",
      "======================= terminated 7: first answer acquired from other agent ===============================\n",
      "=========================================================================================================\n",
      "constrained motion tried: False\n",
      "=========================================================================================================\n",
      "Motion Plan Failure\n",
      "result: 47 - (1, 0)->(2, 0) = fail\n",
      "=========================================================================================================\n",
      "======================= terminated 12: first answer acquired from other agent ===============================\n",
      "constrained motion tried: False\n",
      "Motion Plan Failure\n",
      "result: 10 - (0, 1)->(0, 2) = fail\n",
      "=========================================================================================================\n",
      "======================= terminated 25: first answer acquired from other agent ===============================\n",
      "=========================================================================================================\n",
      "constrained motion tried: False\n",
      "Motion Plan Failure\n",
      "result: 40 - (1, 0)->(2, 0) = fail\n",
      "=========================================================================================================\n"
     ]
    },
    {
     "name": "stdout",
     "output_type": "stream",
     "text": [
      "======================= terminated 9: first answer acquired from other agent ===============================\n",
      "=========================================================================================================\n",
      "constrained motion tried: False\n",
      "Motion Plan Failure\n",
      "result: 93 - (1, 0)->(2, 0) = fail\n",
      "=========================================================================================================\n",
      "======================= terminated 0: first answer acquired from other agent ===============================\n",
      "=========================================================================================================\n",
      "constrained motion tried: True\n",
      "result: 100 - (2, 1)->(2, 2) = success\n",
      "branching: 100->111 (9.61/10.0 s, steps/err: 197(1821.57087326 ms)/0.00149062006999)\n",
      "=========================================================================================================\n",
      "======================================================================================================================================================\n",
      "======================= terminated 1: first answer acquired from other agent ===============================\n",
      "=========================================================================================================\n",
      "constrained motion tried: False\n",
      "Motion Plan Failure\n",
      "result: 14 - (0, 1)->(0, 2) = fail\n",
      "constrained motion tried: False\n",
      "=========================================================================================================\n",
      "======================= terminated 29: first answer acquired from other agent ===============================\n",
      "Motion Plan Failure\n",
      "=========================================================================================================\n",
      "result: 98 - (1, 0)->(2, 0) = fail\n",
      "=========================================================================================================\n",
      "======================= terminated 3: first answer acquired from other agent ===============================\n",
      "constrained motion tried: True\n",
      "=========================================================================================================\n"
     ]
    },
    {
     "name": "stderr",
     "output_type": "stream",
     "text": [
      "Process Process-143:\n",
      "Traceback (most recent call last):\n",
      "  File \"/usr/lib/python2.7/multiprocessing/process.py\", line 267, in _bootstrap\n",
      "    self.run()\n",
      "  File \"/usr/lib/python2.7/multiprocessing/process.py\", line 114, in run\n",
      "    self._target(*self._args, **self._kwargs)\n",
      "  File \"pkg/planning/pipeline.py\", line 164, in __search_loop\n",
      "    ret = self.tplan.update(snode, snode_new, succ)\n",
      "  File \"pkg/planning/task/rrt.py\", line 234, in update\n",
      "    node_extend = self.new_node_sampler(nodes_candi)\n",
      "  File \"/usr/lib/python2.7/random.py\", line 277, in choice\n",
      "    return seq[int(self.random() * len(seq))]  # raises IndexError if seq is empty\n",
      "IndexError: list index out of range\n"
     ]
    },
    {
     "name": "stdout",
     "output_type": "stream",
     "text": [
      "constrained motion tried: False\n",
      "Motion Plan Failure\n",
      "result: 49 - (1, 0)->(2, 0) = fail\n",
      "=========================================================================================================\n",
      "======================= terminated 23: first answer acquired from other agent ===============================\n",
      "=========================================================================================================\n",
      "constrained motion tried: False\n",
      "Motion Plan Failure\n",
      "constrained motion tried: False\n",
      "result: 46 - (1, 0)->(2, 0) = fail\n",
      "Motion Plan Failure\n",
      "=========================================================================================================\n",
      "result: 60 - (0, 1)->(0, 2) = fail\n",
      "======================= terminated 13: first answer acquired from other agent ===============================\n",
      "=========================================================================================================\n",
      "=========================================================================================================\n",
      "======================= terminated 28: first answer acquired from other agent ===============================\n",
      "=========================================================================================================\n",
      "constrained motion tried: False\n",
      "Motion Plan Failure\n",
      "result: 99 - (2, 1)->(2, 2) = fail\n",
      "=========================================================================================================\n",
      "======================= terminated 31: first answer acquired from other agent ===============================\n",
      "=========================================================================================================\n",
      "constrained motion tried: False\n",
      "Motion Plan Failure\n",
      "result: 58 - (1, 0)->(2, 0) = fail\n",
      "=========================================================================================================\n",
      "======================= terminated 18: first answer acquired from other agent ===============================\n",
      "=========================================================================================================\n",
      "constrained motion tried: False\n",
      "Motion Plan Failure\n",
      "constrained motion tried: False\n",
      "result: 23 - (1, 0)->(2, 0) = fail\n",
      "Motion Plan Failure\n",
      "=========================================================================================================\n",
      "======================= terminated 16: max iteration time reached (1625812986/1625812976.65 s) ===============================\n",
      "result: 26 - (1, 0)->(2, 0) = fail\n",
      "=========================================================================================================\n",
      "=========================================================================================================\n",
      "======================= terminated 10: max iteration time reached (1625812986/1625812976.65 s) ===============================\n",
      "=========================================================================================================\n",
      "constrained motion tried: False\n",
      "Motion Plan Failure\n",
      "result: 93 - (1, 0)->(2, 0) = fail\n",
      "=========================================================================================================\n",
      "======================= terminated 21: max iteration time reached (1625812986/1625812976.65 s) ===============================\n",
      "=========================================================================================================\n",
      "Use 36/36 agents\n",
      "constrained motion tried: False\n",
      "Motion Plan Failure\n",
      "result: 102 - (2, 1)->(2, 2) = fail\n",
      "=========================================================================================================\n",
      "======================= terminated 20: max iteration time reached (1625812986/1625812976.65 s) ===============================\n",
      "try: 0 - (2, 0)->(2, 1)\n",
      "=========================================================================================================\n",
      "try transition motion\n",
      "try: 0 - (2, 0)->(2, 1)\n",
      "try: 0 - (2, 0)->(2, 1)\n",
      "try transition motion\n",
      "try transition motion\n",
      "try: 0 - (2, 0)->(2, 1)\n",
      "transition motion tried: True\n",
      "try transition motion\n",
      "try: 0 - (2, 0)->(2, 1)\n",
      "result: 0 - (2, 0)->(2, 1) = success\n",
      "branching: 0->1 (0.13/10.0 s, steps/err: 39(78.25922966 ms)/0.00103663877472)\n",
      "======================================================================================================================================================\n",
      "try: 1 - (2, 1)->(2, 2)\n",
      "try transition motion\n",
      "try: 1 - (2, 1)->(2, 2)\n",
      "transition motion tried: True\n",
      "constrained motion tried: True\n",
      "result: 77 - (0, 1)->(0, 2) = success\n",
      "branching: 77->113 (10.25/10.0 s, steps/err: 196(1225.3909111 ms)/0.00149459016069)\n",
      "result: 0 - (2, 0)->(2, 1) = success\n",
      "======================================================================================================================================================\n",
      "branching: 0->2 (0.15/10.0 s, steps/err: 39(76.4820575714 ms)/0.00103663877472)\n",
      "try constrained motion\n",
      "try: 2 - (2, 1)->(2, 2)\n",
      "try constrained motion\n",
      "=========================================================================================================\n",
      "======================================================================================================================================================\n",
      "transition motion tried: True\n",
      "======================= terminated 32: max iteration time reached (1625812986/1625812976.65 s) ===============================\n",
      "=========================================================================================================\n",
      "try: 0 - (2, 0)->(2, 1)\n",
      "result: 0 - (2, 0)->(2, 1) = success\n",
      "try transition motion\n",
      "try constrained motion\n",
      "try: 3 - (2, 1)->(2, 2)\n",
      "transition motion tried: True\n",
      "branching: 0->3 (0.18/10.0 s, steps/err: 39(73.7628936768 ms)/0.00103663877472)\n",
      "======================================================================================================================================================\n",
      "try: 0 - (2, 0)->(2, 1)\n",
      "result: 0 - (2, 0)->(2, 1) = success\n",
      "try: 4 - (2, 1)->(2, 2)\n",
      "transition motion tried: True\n",
      "try constrained motion\n",
      "branching: 0->4 (0.2/10.0 s, steps/err: 39(70.1558589935 ms)/0.00103663877472)\n",
      "======================================================================================================================================================\n",
      "result: 0 - (2, 0)->(2, 1) = success\n",
      "try: 0 - (2, 0)->(2, 1)\n",
      "branching: 0->5 (0.2/10.0 s, steps/err: 39(71.1879730225 ms)/0.00103663877472)\n",
      "======================================================================================================================================================\n",
      "try transition motion\n",
      "try: 5 - (2, 1)->(2, 2)\n",
      "try transition motion\n",
      "try constrained motion\n",
      "try: 1 - (2, 1)->(2, 2)\n",
      "try: 0 - (2, 0)->(2, 1)\n",
      "try constrained motion\n",
      "transition motion tried: True\n",
      "try constrained motion\n",
      "result: 0 - (2, 0)->(2, 1) = success\n",
      "try: 6 - (2, 1)->(2, 2)\n",
      "transition motion tried: True\n",
      "try transition motion\n",
      "branching: 0->6 (0.25/10.0 s, steps/err: 48(74.4950771332 ms)/0.001631036154)\n",
      "======================================================================================================================================================\n",
      "result: 0 - (0, 0)->(0, 1) = success\n",
      "branching: 0->114 (10.36/10.0 s, steps/err: 48(1070.43385506 ms)/0.0010249428596)\n",
      "try: 0 - (2, 0)->(2, 1)\n",
      "======================================================================================================================================================\n",
      "try constrained motion\n",
      "try: 0 - (2, 0)->(2, 1)\n",
      "try transition motion\n",
      "transition motion tried: True\n",
      "=========================================================================================================\n",
      "======================= terminated 35: max iteration time reached (1625812987/1625812976.65 s) ===============================\n",
      "result: 0 - (2, 0)->(2, 1) = success\n",
      "=========================================================================================================\n",
      "branching: 0->7 (0.28/10.0 s, steps/err: 48(75.8271217346 ms)/0.001631036154)\n",
      "try transition motion\n",
      "transition motion tried: True\n",
      "try: 7 - (2, 1)->(2, 2)\n",
      "transition motion tried: True\n",
      "======================================================================================================================================================\n",
      "try: 0 - (2, 0)->(2, 1)\n",
      "result: 0 - (2, 0)->(2, 1) = success\n",
      "branching: 0->8 (0.3/10.0 s, steps/err: 48(99.6210575104 ms)/0.001631036154)\n"
     ]
    },
    {
     "name": "stdout",
     "output_type": "stream",
     "text": [
      "result: 0 - (2, 0)->(2, 1) = success\n",
      "======================================================================================================================================================\n",
      "branching: 0->9 (0.3/10.0 s, steps/err: 39(60.3320598602 ms)/0.00103663877472)\n",
      "try: 8 - (2, 1)->(2, 2)\n",
      "try transition motion\n",
      "try constrained motion\n",
      "try: 9 - (2, 1)->(2, 2)\n",
      "======================================================================================================================================================\n",
      "try: 0 - (2, 0)->(2, 1)\n",
      "transition motion tried: True\n",
      "result: 0 - (0, 0)->(0, 1) = success\n",
      "try constrained motion\n",
      "try transition motion\n",
      "try: 3 - (2, 1)->(2, 2)\n",
      "try constrained motion\n",
      "transition motion tried: True\n",
      "transition motion tried: True\n",
      "branching: 0->115 (10.44/10.0 s, steps/err: 48(1155.18212318 ms)/0.00118419294773)\n",
      "======================================================================================================================================================\n",
      "=========================================================================================================\n",
      "======================= terminated 26: max iteration time reached (1625812987/1625812976.65 s) ===============================\n",
      "result: 0 - (2, 0)->(2, 1) = success\n",
      "=========================================================================================================\n",
      "branching: 0->10 (0.34/10.0 s, steps/err: 39(77.8889656067 ms)/0.00159346983619)\n",
      "result: 0 - (2, 0)->(2, 1) = success\n",
      "try constrained motion\n",
      "try: 10 - (2, 1)->(2, 2)\n",
      "======================================================================================================================================================\n",
      "try: 11 - (2, 1)->(2, 2)\n",
      "branching: 0->11 (0.36/10.0 s, steps/err: 39(61.0570907593 ms)/0.00103663877472)\n",
      "======================================================================================================================================================\n",
      "try: 0 - (2, 0)->(2, 1)\n",
      "try: 0 - (2, 0)->(2, 1)\n",
      "try constrained motion\n",
      "try constrained motion\n",
      "constrained motion tried: False\n",
      "Motion Plan Failure\n",
      "result: 104 - (1, 0)->(2, 0) = fail\n",
      "transition motion tried: True\n",
      "=========================================================================================================\n",
      "======================= terminated 11: max iteration time reached (1625812987/1625812976.65 s) ===============================\n",
      "try transition motion\n",
      "=========================================================================================================\n",
      "result: 0 - (2, 0)->(2, 1) = success\n",
      "try transition motion\n",
      "constrained motion tried: True\n",
      "transition motion tried: True\n",
      "try: 12 - (2, 1)->(2, 2)\n",
      "branching: 0->12 (0.39/10.0 s, steps/err: 39(76.493024826 ms)/0.00159346983619)\n",
      "result: 0 - (2, 0)->(2, 1) = success\n",
      "branching: 0->13 (0.4/10.0 s, steps/err: 48(72.319984436 ms)/0.001631036154)\n",
      "======================================================================================================================================================\n",
      "======================================================================================================================================================\n",
      "try constrained motion\n",
      "constrained motion tried: True\n"
     ]
    },
    {
     "name": "stderr",
     "output_type": "stream",
     "text": [
      "Process Process-118:\n",
      "Traceback (most recent call last):\n"
     ]
    },
    {
     "name": "stdout",
     "output_type": "stream",
     "text": [
      "result: 108 - (2, 1)->(2, 2) = success\n"
     ]
    },
    {
     "name": "stderr",
     "output_type": "stream",
     "text": [
      "  File \"/usr/lib/python2.7/multiprocessing/process.py\", line 267, in _bootstrap\n",
      "    self.run()\n"
     ]
    },
    {
     "name": "stdout",
     "output_type": "stream",
     "text": [
      "try: 0 - (2, 0)->(2, 1)\n",
      "transition motion tried: True\n",
      "try: 13 - (2, 1)->(2, 2)\n",
      "try: 0 - (2, 0)->(2, 1)\n",
      "branching: 108->117 (10.52/10.0 s, steps/err: 196(1295.87316513 ms)/0.00149459016069)\n",
      "try: 7 - (2, 1)->(2, 2)\n"
     ]
    },
    {
     "name": "stderr",
     "output_type": "stream",
     "text": [
      "  File \"/usr/lib/python2.7/multiprocessing/process.py\", line 114, in run\n",
      "    self._target(*self._args, **self._kwargs)\n"
     ]
    },
    {
     "name": "stdout",
     "output_type": "stream",
     "text": [
      "======================================================================================================================================================\n",
      "=========================================================================================================\n",
      "try constrained motion\n",
      "try transition motion\n",
      "result: 0 - (2, 0)->(2, 1) = success\n"
     ]
    },
    {
     "name": "stderr",
     "output_type": "stream",
     "text": [
      "  File \"pkg/planning/pipeline.py\", line 164, in __search_loop\n"
     ]
    },
    {
     "name": "stdout",
     "output_type": "stream",
     "text": [
      "======================= terminated 6: max iteration time reached (1625812987/1625812976.65 s) ===============================\n",
      "try transition motion\n",
      "try constrained motion\n",
      "branching: 0->14 (0.45/10.0 s, steps/err: 39(61.6540908813 ms)/0.00103663877472)\n",
      "=========================================================================================================\n"
     ]
    },
    {
     "name": "stderr",
     "output_type": "stream",
     "text": [
      "    ret = self.tplan.update(snode, snode_new, succ)\n"
     ]
    },
    {
     "name": "stdout",
     "output_type": "stream",
     "text": [
      "======================================================================================================================================================\n",
      "try: 14 - (2, 1)->(2, 2)\n"
     ]
    },
    {
     "name": "stderr",
     "output_type": "stream",
     "text": [
      "  File \"pkg/planning/task/rrt.py\", line 234, in update\n",
      "    node_extend = self.new_node_sampler(nodes_candi)\n",
      "  File \"/usr/lib/python2.7/random.py\", line 277, in choice\n"
     ]
    },
    {
     "name": "stdout",
     "output_type": "stream",
     "text": [
      "try: 0 - (2, 0)->(2, 1)\n"
     ]
    },
    {
     "name": "stderr",
     "output_type": "stream",
     "text": [
      "    return seq[int(self.random() * len(seq))]  # raises IndexError if seq is empty\n",
      "IndexError: list index out of range\n"
     ]
    },
    {
     "name": "stdout",
     "output_type": "stream",
     "text": [
      "try constrained motion\n",
      "try transition motion\n",
      "transition motion tried: True\n",
      "try: 10 - (2, 1)->(2, 2)\n",
      "try: 15 - (2, 1)->(2, 2)\n",
      "result: 0 - (2, 0)->(2, 1) = success\n",
      "branching: 0->15 (0.49/10.0 s, steps/err: 48(104.330778122 ms)/0.001631036154)\n",
      "======================================================================================================================================================\n",
      "try constrained motion\n",
      "try constrained motion\n",
      "transition motion tried: True\n",
      "try: 11 - (2, 1)->(2, 2)\n",
      "try: 4 - (2, 1)->(2, 2)\n",
      "result: 0 - (2, 0)->(2, 1) = success\n",
      "transition motion tried: True\n",
      "try: 16 - (2, 1)->(2, 2)\n",
      "try constrained motion\n",
      "transition motion tried: True\n",
      "branching: 0->16 (0.53/10.0 s, steps/err: 39(77.7759552002 ms)/0.00103663877472)\n",
      "constrained motion tried: True\n",
      "======================================================================================================================================================\n",
      "result: 0 - (2, 0)->(2, 1) = success\n",
      "try constrained motion\n",
      "branching: 0->17 (0.54/10.0 s, steps/err: 48(73.0018615723 ms)/0.001631036154)\n",
      "result: 0 - (2, 0)->(2, 1) = success\n",
      "try: 17 - (2, 1)->(2, 2)\n",
      "result: 8 - (2, 1)->(2, 2) = success\n",
      "try constrained motion\n",
      "======================================================================================================================================================\n",
      "branching: 8->19 (0.55/10.0 s, steps/err: 196(217.72813797 ms)/0.00105168457294)\n",
      "branching: 0->18 (0.55/10.0 s, steps/err: 39(98.9480018616 ms)/0.00159346983619)\n",
      "try constrained motion\n",
      "try: 18 - (2, 1)->(2, 2)\n",
      "constrained motion tried: False\n",
      "try: 0 - (2, 0)->(2, 1)\n",
      "======================================================================================================================================================\n",
      "======================================================================================================================================================\n",
      "Motion Plan Failure\n",
      "try: 17 - (2, 1)->(2, 2)\n",
      "try: 0 - (2, 0)->(2, 1)\n",
      "result: 16 - (1, 0)->(2, 0) = fail\n",
      "try transition motion\n",
      "try constrained motion\n",
      "++ adding return motion to acquired answer ++\n",
      "try constrained motion\n",
      "=========================================================================================================\n",
      "try transition motion\n",
      "transition motion tried: True\n",
      "======================= terminated 5: max iteration time reached (1625812987/1625812976.65 s) ===============================\n",
      "try: 0 - (2, 0)->(2, 1)\n",
      "try: 7 - (2, 1)->(2, 2)\n",
      "=========================================================================================================\n",
      "result: 0 - (2, 0)->(2, 1) = success\n",
      "try: 20 - (2, 1)->(2, 2)\n",
      "try transition motion\n",
      "try constrained motion\n",
      "branching: 0->20 (0.66/10.0 s, steps/err: 39(61.7311000824 ms)/0.00103663877472)\n",
      "try constrained motion\n",
      "======================================================================================================================================================\n",
      "transition motion tried: True\n",
      "transition motion tried: True\n",
      "result: 0 - (2, 0)->(2, 1) = success\n",
      "try: 22 - (2, 1)->(2, 2)\n",
      "try: 11 - (2, 1)->(2, 2)\n",
      "result: 0 - (2, 0)->(2, 1) = success\n",
      "branching: 0->23 (0.7/10.0 s, steps/err: 44(105.412960052 ms)/0.00174567694552)\n",
      "======================================================================================================================================================\n",
      "branching: 0->22 (0.72/10.0 s, steps/err: 39(61.6240501404 ms)/0.00103663877472)\n",
      "try constrained motion\n",
      "======================================================================================================================================================\n",
      "try constrained motion\n",
      "try: 23 - (2, 1)->(2, 2)\n",
      "try: 4 - (2, 1)->(2, 2)\n",
      "try constrained motion\n",
      "try constrained motion\n",
      "constrained motion tried: False\n",
      "Motion Plan Failure\n",
      "result: 25 - (1, 0)->(2, 0) = fail\n",
      "constrained motion tried: True\n",
      "=========================================================================================================\n",
      "constrained motion tried: False\n",
      "=========================================================================================================\n",
      "======================= terminated 22: max iteration time reached (1625812987/1625812976.65 s) ===============================\n",
      "result: 17 - (2, 1)->(2, 2) = success\n",
      "======================= terminated 2: first answer acquired ===============================\n",
      "branching: 17->24 (0.85/10.0 s, steps/err: 196(260.541915894 ms)/0.00105168457294)\n",
      "=========================================================================================================\n",
      "Motion Plan Failure\n",
      "=========================================================================================================\n",
      "=========================================================================================================\n",
      "======================================================================================================================================================\n",
      "=========================================================================================================\n",
      "++ adding return motion to acquired answer ++\n",
      "result: 61 - (1, 0)->(2, 0) = fail\n",
      "======================= terminated 32: first answer acquired from other agent ===============================\n",
      "======================= terminated 33: first answer acquired from other agent ===============================\n",
      "=========================================================================================================\n",
      "=========================================================================================================\n",
      "=========================================================================================================\n",
      "======================= terminated 2: max iteration time reached (1625812987/1625812976.65 s) ===============================\n",
      "=========================================================================================================\n",
      "=========================================================================================================\n",
      "======================= terminated 34: first answer acquired from other agent ===============================\n",
      "=========================================================================================================\n",
      "=========================================================================================================\n",
      "======================= terminated 35: first answer acquired from other agent ===============================\n",
      "=========================================================================================================\n",
      "constrained motion tried: False\n",
      "Motion Plan Failure\n",
      "result: 100 - (2, 1)->(2, 2) = fail\n",
      "=========================================================================================================\n",
      "======================= terminated 17: max iteration time reached (1625812987/1625812976.65 s) ===============================\n",
      "=========================================================================================================\n",
      "=========================================================================================================\n",
      "======================= terminated 17: first answer acquired ===============================\n",
      "=========================================================================================================\n",
      "constrained motion tried: False\n",
      "Motion Plan Failure\n",
      "result: 106 - (1, 0)->(2, 0) = fail\n",
      "=========================================================================================================\n",
      "======================= terminated 4: max iteration time reached (1625812987/1625812976.65 s) ===============================\n",
      "=========================================================================================================\n",
      "constrained motion tried: False\n",
      "Motion Plan Failure\n",
      "result: 1 - (2, 1)->(2, 2) = fail\n",
      "=========================================================================================================\n",
      "======================= terminated 0: first answer acquired from other agent ===============================\n",
      "=========================================================================================================\n",
      "constrained motion tried: False\n",
      "Motion Plan Failure\n",
      "result: 1 - (2, 1)->(2, 2) = fail\n",
      "=========================================================================================================\n"
     ]
    },
    {
     "name": "stdout",
     "output_type": "stream",
     "text": [
      "======================= terminated 5: first answer acquired from other agent ===============================\n",
      "=========================================================================================================\n",
      "constrained motion tried: False\n",
      "Motion Plan Failure\n",
      "result: 2 - (2, 1)->(2, 2) = fail\n",
      "=========================================================================================================\n",
      "======================= terminated 6: first answer acquired from other agent ===============================\n",
      "=========================================================================================================\n",
      "constrained motion tried: False\n",
      "Motion Plan Failure\n",
      "result: 3 - (2, 1)->(2, 2) = fail\n",
      "=========================================================================================================\n",
      "======================= terminated 7: first answer acquired from other agent ===============================\n",
      "=========================================================================================================\n",
      "constrained motion tried: False\n",
      "Motion Plan Failure\n",
      "result: 4 - (2, 1)->(2, 2) = fail\n",
      "=========================================================================================================\n",
      "======================= terminated 8: first answer acquired from other agent ===============================\n",
      "=========================================================================================================\n",
      "constrained motion tried: False\n",
      "Motion Plan Failure\n",
      "result: 1 - (2, 1)->(2, 2) = fail\n",
      "=========================================================================================================\n",
      "======================= terminated 4: first answer acquired from other agent ===============================\n",
      "=========================================================================================================\n",
      "constrained motion tried: False\n",
      "Motion Plan Failure\n",
      "result: 3 - (2, 1)->(2, 2) = fail\n",
      "=========================================================================================================\n",
      "======================= terminated 15: first answer acquired from other agent ===============================\n",
      "=========================================================================================================\n",
      "constrained motion tried: False\n",
      "Motion Plan Failure\n",
      "result: 5 - (2, 1)->(2, 2) = fail\n",
      "=========================================================================================================\n",
      "======================= terminated 9: first answer acquired from other agent ===============================\n",
      "=========================================================================================================\n",
      "constrained motion tried: False\n",
      "Motion Plan Failure\n",
      "result: 13 - (2, 1)->(2, 2) = fail\n",
      "=========================================================================================================\n",
      "======================= terminated 3: first answer acquired from other agent ===============================\n",
      "=========================================================================================================\n",
      "constrained motion tried: False\n",
      "Motion Plan Failure\n",
      "result: 7 - (2, 1)->(2, 2) = fail\n",
      "=========================================================================================================\n",
      "======================= terminated 13: first answer acquired from other agent ===============================\n",
      "=========================================================================================================\n",
      "constrained motion tried: False\n",
      "Motion Plan Failure\n",
      "result: 14 - (2, 1)->(2, 2) = fail\n",
      "=========================================================================================================\n",
      "======================= terminated 21: first answer acquired from other agent ===============================\n",
      "=========================================================================================================\n",
      "constrained motion tried: False\n",
      "Motion Plan Failure\n",
      "result: 9 - (2, 1)->(2, 2) = fail\n",
      "=========================================================================================================\n",
      "======================= terminated 14: first answer acquired from other agent ===============================\n",
      "=========================================================================================================\n",
      "constrained motion tried: False\n",
      "Motion Plan Failure\n",
      "result: 11 - (2, 1)->(2, 2) = fail\n",
      "=========================================================================================================\n",
      "======================= terminated 1: first answer acquired from other agent ===============================\n",
      "=========================================================================================================\n",
      "constrained motion tried: False\n",
      "Motion Plan Failure\n",
      "constrained motion tried: False\n",
      "result: 16 - (2, 1)->(2, 2) = fail\n",
      "Motion Plan Failure\n",
      "=========================================================================================================\n",
      "result: 12 - (2, 1)->(2, 2) = fail\n",
      "======================= terminated 25: first answer acquired from other agent ===============================\n",
      "=========================================================================================================\n",
      "======================= terminated 18: first answer acquired from other agent ===============================\n",
      "=========================================================================================================\n",
      "=========================================================================================================\n",
      "constrained motion tried: False\n",
      "constrained motion tried: False\n",
      "Motion Plan Failure\n",
      "Motion Plan Failure\n",
      "result: 7 - (2, 1)->(2, 2) = fail\n",
      "result: 6 - (2, 1)->(2, 2) = fail\n",
      "=========================================================================================================\n",
      "======================= terminated 20: first answer acquired from other agent ===============================\n",
      "=========================================================================================================\n",
      "=========================================================================================================\n",
      "======================= terminated 11: first answer acquired from other agent ===============================\n",
      "=========================================================================================================\n",
      "constrained motion tried: False\n",
      "constrained motion tried: False\n",
      "Motion Plan Failure\n",
      "Motion Plan Failure\n",
      "result: 15 - (2, 1)->(2, 2) = fail\n",
      "result: 10 - (2, 1)->(2, 2) = fail\n",
      "=========================================================================================================\n",
      "=========================================================================================================\n",
      "======================= terminated 23: first answer acquired from other agent ===============================\n",
      "======================= terminated 16: first answer acquired from other agent ===============================\n",
      "=========================================================================================================\n",
      "=========================================================================================================\n",
      "constrained motion tried: False\n",
      "Motion Plan Failure\n",
      "result: 11 - (2, 1)->(2, 2) = fail\n",
      "=========================================================================================================\n",
      "======================= terminated 24: first answer acquired from other agent ===============================\n",
      "=========================================================================================================\n",
      "constrained motion tried: False\n",
      "Motion Plan Failure\n",
      "constrained motion tried: False\n",
      "result: 10 - (2, 1)->(2, 2) = fail\n",
      "Motion Plan Failure\n",
      "=========================================================================================================\n",
      "result: 7 - (2, 1)->(2, 2) = fail\n",
      "======================= terminated 22: first answer acquired from other agent ===============================\n",
      "=========================================================================================================\n",
      "=========================================================================================================\n",
      "======================= terminated 29: first answer acquired from other agent ===============================\n"
     ]
    },
    {
     "name": "stdout",
     "output_type": "stream",
     "text": [
      "=========================================================================================================\n",
      "constrained motion tried: False\n",
      "Motion Plan Failure\n",
      "result: 18 - (2, 1)->(2, 2) = fail\n",
      "=========================================================================================================\n",
      "======================= terminated 26: first answer acquired from other agent ===============================\n",
      "=========================================================================================================\n",
      "constrained motion tried: False\n",
      "Motion Plan Failure\n",
      "result: 20 - (2, 1)->(2, 2) = fail\n",
      "=========================================================================================================\n",
      "======================= terminated 30: first answer acquired from other agent ===============================\n",
      "constrained motion tried: False\n",
      "=========================================================================================================\n",
      "Motion Plan Failure\n",
      "result: 11 - (2, 1)->(2, 2) = fail\n",
      "=========================================================================================================\n",
      "======================= terminated 27: first answer acquired from other agent ===============================\n",
      "=========================================================================================================\n",
      "constrained motion tried: False\n",
      "Motion Plan Failure\n",
      "result: 4 - (2, 1)->(2, 2) = fail\n",
      "=========================================================================================================\n",
      "======================= terminated 10: first answer acquired from other agent ===============================\n",
      "=========================================================================================================\n",
      "constrained motion tried: False\n",
      "Motion Plan Failure\n",
      "result: 22 - (2, 1)->(2, 2) = fail\n",
      "=========================================================================================================\n",
      "======================= terminated 31: first answer acquired from other agent ===============================\n",
      "=========================================================================================================\n",
      "constrained motion tried: False\n",
      "Motion Plan Failure\n",
      "result: 4 - (2, 1)->(2, 2) = fail\n",
      "=========================================================================================================\n",
      "======================= terminated 12: first answer acquired from other agent ===============================\n",
      "=========================================================================================================\n"
     ]
    },
    {
     "name": "stderr",
     "output_type": "stream",
     "text": [
      "Process Process-174:\n",
      "Traceback (most recent call last):\n",
      "  File \"/usr/lib/python2.7/multiprocessing/process.py\", line 267, in _bootstrap\n",
      "    self.run()\n",
      "  File \"/usr/lib/python2.7/multiprocessing/process.py\", line 114, in run\n",
      "    self._target(*self._args, **self._kwargs)\n",
      "  File \"pkg/planning/pipeline.py\", line 159, in __search_loop\n",
      "    **kwargs)\n",
      "  File \"pkg/planning/pipeline.py\", line 216, in test_connection\n",
      "    self.mplan.plan_transition(from_state, to_state, redundancy_dict=redundancy_dict, verbose=verbose, **kwargs)\n",
      "  File \"pkg/planning/motion/interface.py\", line 116, in plan_transition\n",
      "    verbose=verbose, **kwargs)\n",
      "  File \"pkg/planning/motion/moveit/moveit_planner.py\", line 240, in plan_algorithm\n",
      "    timeout=timeout_constrained, **kwargs)\n",
      "  File \"pkg/planning/motion/moveit/moveit_py.py\", line 178, in plan_constrained_py\n",
      "    cs_type, allow_approximate, post_projection)\n",
      "KeyboardInterrupt\n",
      "Process Process-165:\n",
      "Traceback (most recent call last):\n",
      "  File \"/usr/lib/python2.7/multiprocessing/process.py\", line 267, in _bootstrap\n",
      "    self.run()\n",
      "  File \"/usr/lib/python2.7/multiprocessing/process.py\", line 114, in run\n",
      "    self._target(*self._args, **self._kwargs)\n",
      "  File \"pkg/planning/pipeline.py\", line 159, in __search_loop\n",
      "    **kwargs)\n",
      "  File \"pkg/planning/pipeline.py\", line 216, in test_connection\n",
      "    self.mplan.plan_transition(from_state, to_state, redundancy_dict=redundancy_dict, verbose=verbose, **kwargs)\n",
      "  File \"pkg/planning/motion/interface.py\", line 116, in plan_transition\n",
      "    verbose=verbose, **kwargs)\n",
      "  File \"pkg/planning/motion/moveit/moveit_planner.py\", line 240, in plan_algorithm\n",
      "    timeout=timeout_constrained, **kwargs)\n",
      "  File \"pkg/planning/motion/moveit/moveit_py.py\", line 178, in plan_constrained_py\n",
      "    cs_type, allow_approximate, post_projection)\n",
      "KeyboardInterrupt\n"
     ]
    }
   ],
   "source": [
    "from pkg.utils.traj_utils import simplify_schedule, mix_schedule\n",
    "mplan.reset_log(False)\n",
    "gtimer.reset()\n",
    "tplan.prepare()\n",
    "mplan.update_gscene()\n",
    "    \n",
    "print(initial_state.node)\n",
    "\n",
    "gtimer.tic(\"firstmove\")\n",
    "obj_num = 0\n",
    "sweep_num = len(sweep_list)\n",
    "from_state = initial_state\n",
    "t_exe = None\n",
    "snode_schedule_all = []\n",
    "for sweep_idx in range(sweep_num):\n",
    "    gcheck.put_banned = [track_list[sweep_idx][2]]\n",
    "    sweep_goal = tuple([int(i_s<=sweep_idx)*2 for i_s in range(sweep_num)])\n",
    "#     sweep_goal = tuple([int(i_s<=sweep_idx)*2 for i_s in range(2)])+(0,)\n",
    "    goal_nodes = [(\"track_face\",)*obj_num+sweep_goal]\n",
    "    if sweep_idx < sweep_num-1:\n",
    "        for i_s in range(obj_num):\n",
    "            obj_goal = [\"track_face\"]*obj_num\n",
    "            obj_goal[i_s] = \"grip1\"\n",
    "            goal_nodes += [tuple(obj_goal)+sweep_goal]\n",
    "    gtimer.tic(\"plan{}\".format(sweep_idx))\n",
    "    ppline.search(from_state, goal_nodes, verbose=True, display=False, dt_vis=0.01, \n",
    "                  timeout_loop=10, multiprocess=True, timeout=1, timeout_constrained=2, add_homing=True, post_optimize=False)\n",
    "    gtimer.toc(\"plan{}\".format(sweep_idx))\n",
    "    schedules = ppline.tplan.find_schedules(False)\n",
    "    schedules_sorted = ppline.tplan.sort_schedule(schedules)\n",
    "    snode_schedule = ppline.tplan.idxSchedule2SnodeScedule(schedules_sorted[0])\n",
    "    snode_schedule_ori = snode_schedule\n",
    "    snode_schedule_simple = simplify_schedule(pscene, snode_schedule)\n",
    "    snode_schedule_safe = calculate_safe_schedule(pscene, snode_schedule_simple, 5, 1)\n",
    "#     double_sweep_motions(snode_schedule_safe)\n",
    "#     snode_schedule = snode_schedule_safe\n",
    "    snode_schedule = mix_schedule(mplan, snode_schedule_safe)\n",
    "    from_state = snode_schedule[-1].state\n",
    "    if t_exe:\n",
    "        t_exe.join()\n",
    "    else:\n",
    "        if len(snode_schedule_all)==0:\n",
    "            gtimer.toc(\"firstmove\")\n",
    "    snode_schedule_all.append(snode_schedule)\n",
    "#     t_exe = Thread(target=ppline.play_schedule, args = (snode_schedule,), kwargs=dict( period=0.01))\n",
    "#     t_exe.start()\n",
    "# t_exe.join()"
   ]
  },
  {
   "cell_type": "code",
   "execution_count": null,
   "metadata": {},
   "outputs": [],
   "source": []
  },
  {
   "cell_type": "markdown",
   "metadata": {},
   "source": [
    "## Play plan"
   ]
  },
  {
   "cell_type": "code",
   "execution_count": 86,
   "metadata": {},
   "outputs": [
    {
     "name": "stdout",
     "output_type": "stream",
     "text": [
      "(0, 0)->(0, 0)\n",
      "(0, 0)->(1, 0)\n",
      "(1, 0)->(2, 0)\n",
      "(2, 0)->(2, 0)\n",
      "(2, 0)->(2, 0)\n",
      "(2, 0)->(2, 1)\n",
      "(2, 1)->(2, 2)\n"
     ]
    }
   ],
   "source": [
    "for snode_schedule in snode_schedule_all:\n",
    "    ppline.play_schedule(snode_schedule, period=0.001)"
   ]
  },
  {
   "cell_type": "code",
   "execution_count": null,
   "metadata": {},
   "outputs": [],
   "source": []
  },
  {
   "cell_type": "markdown",
   "metadata": {},
   "source": [
    "## Refine sweep motion"
   ]
  },
  {
   "cell_type": "code",
   "execution_count": 87,
   "metadata": {},
   "outputs": [],
   "source": [
    "def get_jacobian(gscene, gtem, Q):\n",
    "    Q_dict = list2dict(Q, gscene.joint_names)\n",
    "    Jac = []\n",
    "    for ij, jname in enumerate(gscene.joint_names):    \n",
    "        joint = gscene.urdf_content.joint_map[jname]\n",
    "        Tj = T_xyzrpy((joint.origin.xyz, joint.origin.rpy))\n",
    "        T_link = get_tf(joint.parent, Q_dict, gscene.urdf_content)\n",
    "        T_bj = np.matmul(T_link, Tj)\n",
    "        zi = np.matmul(T_bj[:3,:3], joint.axis)        \n",
    "        T_p = gtem.get_tf(Q_dict)\n",
    "        dpi = T_p[:3,3]-T_bj[:3,3]\n",
    "        zp = np.cross(zi, dpi)\n",
    "        Ji= np.concatenate([zp, zi])\n",
    "        Jac.append(Ji)\n",
    "    Jac = np.array(Jac).transpose()\n",
    "    return Jac\n",
    "    \n",
    "def make_sweep_traj(gscene, mplan, gtem, Traj, len_traj=None):\n",
    "    SINGULARITY_CUT = 0.01\n",
    "    Qi = Traj[0]\n",
    "    Qf = Traj[-1]\n",
    "    if len_traj is None:\n",
    "        len_traj = len(Traj)\n",
    "    \n",
    "    Qidict = list2dict(Qi, gscene.joint_names)\n",
    "    Qfdict = list2dict(Qf, gscene.joint_names)\n",
    "    Ti = gtem.get_tf(Qidict)\n",
    "    Tf = gtem.get_tf(Qfdict)\n",
    "    dPabs = np.linalg.norm(Tf[:3,3]-Ti[:3,3])\n",
    "    DP = dPabs/len_traj\n",
    "    DIR = np.concatenate([(Tf[:3,3]-Ti[:3,3])/dPabs, [0]*3])\n",
    "    Q=Qi\n",
    "    singularity = False\n",
    "    Traj_wipe = [Qi]\n",
    "    for _ in range(len_traj):\n",
    "        Jac = get_jacobian(gscene, gtem, Q)\n",
    "        if np.min(np.abs(np.real(np.linalg.svd(Jac)[1]))) <= SINGULARITY_CUT:\n",
    "            singularity = True\n",
    "            print(\"singular\")\n",
    "            break\n",
    "        Jinv = np.linalg.inv(Jac)\n",
    "        dQ=np.matmul(Jinv, np.multiply(DIR, DP))\n",
    "        Q = Q+dQ\n",
    "        Traj_wipe.append(Q)\n",
    "        dlim = np.subtract(RobotSpecs.get_joint_limits(RobotType.indy7), Q[:, np.newaxis])\n",
    "        if np.any(dlim[:,0] > 0):\n",
    "            print(\"min lim: {}\".format(np.where(dlim[:,0] > 0)[0]))\n",
    "            break\n",
    "        if np.any(dlim[:,1] < 0):\n",
    "            print(\"max lim: {}\".format(np.where(dlim[:,1] < 0)[0]))\n",
    "            break\n",
    "#         if not mplan.validate_trajectory([Q]):\n",
    "#             print(\"col\")\n",
    "#             break\n",
    "#         Tnew = gtem.get_tf(list2dict(Q, gscene.joint_names))\n",
    "#         if np.abs(Ti[0,3]-Tnew[0,3])>0.01:\n",
    "#             print(\"off\")\n",
    "#             break\n",
    "    Traj_wipe.append(Qf)\n",
    "    Traj_wipe = np.array(Traj_wipe)\n",
    "    return Traj_wipe\n",
    "    \n",
    "\n",
    "def refine_sweep(pscene, mplan, snode_schedule, len_traj=None):\n",
    "    for snode_pre, snode in zip(snode_schedule[:-1], snode_schedule[1:]):\n",
    "        breaker = False\n",
    "        for i_n, (ntem1, ntem2) in enumerate(zip(snode_pre.state.node, snode.state.node)):\n",
    "            if ntem1 != ntem2 and pscene.subject_type_list[i_n] == SweepLineTask:\n",
    "                if ntem1==1:\n",
    "                    gtem = gscene.NAME_DICT[snode.state.binding_state[i_n][-1]]\n",
    "                    snode.traj = make_sweep_traj(pscene.gscene, mplan, gtem, snode.traj, len_traj=len_traj)\n",
    "\n",
    "                    \n",
    "\n",
    "\n",
    "def simplify_sweep(pscene, mplan, snode_schedule, len_traj=None):\n",
    "    for snode_pre, snode in zip(snode_schedule[:-1], snode_schedule[1:]):\n",
    "        breaker = False\n",
    "        for i_n, (ntem1, ntem2) in enumerate(zip(snode_pre.state.node, snode.state.node)):\n",
    "            if ntem1 != ntem2 and pscene.subject_type_list[i_n] == SweepLineTask:\n",
    "                if ntem1==1:\n",
    "                    gtem = gscene.NAME_DICT[snode.state.binding_state[i_n][-1]]\n",
    "                    step = int(len(snode.traj)/len_traj)\n",
    "                    Qlast = snode.traj[-1]\n",
    "                    snode.traj = snode.traj[::step]\n",
    "                    snode.traj = np.array(\n",
    "                        list(snode.traj)+[Qlast]\n",
    "                    )\n"
   ]
  },
  {
   "cell_type": "code",
   "execution_count": 90,
   "metadata": {},
   "outputs": [],
   "source": [
    "for snode_schedule in snode_schedule_all:\n",
    "    simplify_sweep(pscene, mplan, snode_schedule, len_traj=5)"
   ]
  },
  {
   "cell_type": "code",
   "execution_count": 91,
   "metadata": {},
   "outputs": [
    {
     "name": "stdout",
     "output_type": "stream",
     "text": [
      "(0, 0)->(0, 0)\n",
      "(0, 0)->(1, 0)\n",
      "(1, 0)->(2, 0)\n",
      "(2, 0)->(2, 0)\n",
      "(2, 0)->(2, 0)\n",
      "(2, 0)->(2, 1)\n",
      "(2, 1)->(2, 2)\n"
     ]
    }
   ],
   "source": [
    "for snode_schedule in snode_schedule_all:\n",
    "    ppline.play_schedule(snode_schedule, period=0.001)"
   ]
  },
  {
   "cell_type": "code",
   "execution_count": 92,
   "metadata": {},
   "outputs": [],
   "source": [
    "gscene.show_motion(snode_schedule_all[0][2].traj, period=1)"
   ]
  },
  {
   "cell_type": "code",
   "execution_count": null,
   "metadata": {},
   "outputs": [],
   "source": []
  },
  {
   "cell_type": "code",
   "execution_count": 95,
   "metadata": {},
   "outputs": [],
   "source": [
    "## IndyProgram maker로 Trajectory보내야 함."
   ]
  },
  {
   "cell_type": "markdown",
   "metadata": {},
   "source": [
    "## Execute plan"
   ]
  },
  {
   "cell_type": "code",
   "execution_count": 109,
   "metadata": {},
   "outputs": [
    {
     "name": "stdout",
     "output_type": "stream",
     "text": [
      "Connect: Server IP (192.168.0.3)\n",
      "Move finished!\n"
     ]
    }
   ],
   "source": [
    "with indy:\n",
    "    indy.joint_move_to([0]*6)\n",
    "    time.sleep(0.5)\n",
    "    indy.wait_for_move_finish()"
   ]
  },
  {
   "cell_type": "code",
   "execution_count": 110,
   "metadata": {
    "scrolled": true
   },
   "outputs": [
    {
     "name": "stdout",
     "output_type": "stream",
     "text": [
      "Connect: Server IP (192.168.0.3)\n",
      "Connect: Server IP (192.168.0.3)\n",
      "Move finished!\n",
      "Move finished!\n",
      "Move finished!\n",
      "Connect: Server IP (192.168.0.3)\n",
      "Move finished!\n",
      "binder: brush_face\n",
      "rname: indy0\n",
      "binder: None\n",
      "Connect: Server IP (192.168.0.3)\n",
      "Connect: Server IP (192.168.0.3)\n",
      "Connect: Server IP (192.168.0.3)\n",
      "Move finished!\n",
      "Move finished!\n",
      "Move finished!\n",
      "Move finished!\n",
      "Move finished!\n",
      "Move finished!\n",
      "Move finished!\n",
      "Move finished!\n",
      "Connect: Server IP (192.168.0.3)\n",
      "Move finished!\n",
      "binder: brush_face\n",
      "rname: indy0\n",
      "binder: None\n",
      "Connect: Server IP (192.168.0.3)\n",
      "Connect: Server IP (192.168.0.3)\n",
      "Connect: Server IP (192.168.0.3)\n",
      "Move finished!\n",
      "Move finished!\n",
      "Move finished!\n",
      "Connect: Server IP (192.168.0.3)\n",
      "Move finished!\n",
      "binder: brush_face\n",
      "rname: indy0\n",
      "binder: None\n",
      "Connect: Server IP (192.168.0.3)\n",
      "Connect: Server IP (192.168.0.3)\n",
      "Move finished!\n",
      "Connect: Server IP (192.168.0.3)\n",
      "Connect: Server IP (192.168.0.3)\n",
      "Move finished!\n",
      "Move finished!\n",
      "Move finished!\n",
      "Connect: Server IP (192.168.0.3)\n",
      "Move finished!\n",
      "binder: brush_face\n",
      "rname: indy0\n",
      "binder: brush_face\n",
      "rname: indy0\n",
      "Connect: Server IP (192.168.0.3)\n",
      "Connect: Server IP (192.168.0.3)\n",
      "Connect: Server IP (192.168.0.3)\n",
      "Move finished!\n",
      "Move finished!\n",
      "Move finished!\n",
      "Move finished!\n",
      "Move finished!\n",
      "Move finished!\n",
      "Move finished!\n",
      "Move finished!\n",
      "Connect: Server IP (192.168.0.3)\n",
      "Move finished!\n",
      "binder: brush_face\n",
      "rname: indy0\n",
      "binder: brush_face\n",
      "rname: indy0\n",
      "Connect: Server IP (192.168.0.3)\n",
      "Connect: Server IP (192.168.0.3)\n",
      "Move finished!\n"
     ]
    }
   ],
   "source": [
    "for snode_schedule in snode_schedule_all:\n",
    "    ppline.execute_schedule(snode_schedule, one_by_one=True)\n",
    "    with indy:\n",
    "        time.sleep(0.5)\n",
    "        indy.wait_for_move_finish()"
   ]
  },
  {
   "cell_type": "markdown",
   "metadata": {},
   "source": [
    "### move home"
   ]
  },
  {
   "cell_type": "code",
   "execution_count": 111,
   "metadata": {},
   "outputs": [
    {
     "name": "stdout",
     "output_type": "stream",
     "text": [
      "Connect: Server IP (192.168.0.3)\n",
      "Move finished!\n"
     ]
    }
   ],
   "source": [
    "with indy:\n",
    "    indy.joint_move_to([0]*6)\n",
    "    time.sleep(0.5)\n",
    "    indy.wait_for_move_finish()"
   ]
  },
  {
   "cell_type": "code",
   "execution_count": null,
   "metadata": {},
   "outputs": [],
   "source": []
  },
  {
   "cell_type": "code",
   "execution_count": 97,
   "metadata": {},
   "outputs": [],
   "source": [
    "gscene.show_pose(gase_pose)"
   ]
  },
  {
   "cell_type": "code",
   "execution_count": 98,
   "metadata": {},
   "outputs": [
    {
     "name": "stdout",
     "output_type": "stream",
     "text": [
      "Connect: Server IP (192.168.0.3)\n"
     ]
    }
   ],
   "source": [
    "with indy:\n",
    "    indy.joint_move_to(np.rad2deg(gase_pose))"
   ]
  },
  {
   "cell_type": "code",
   "execution_count": null,
   "metadata": {},
   "outputs": [],
   "source": []
  },
  {
   "cell_type": "code",
   "execution_count": 99,
   "metadata": {},
   "outputs": [
    {
     "name": "stdout",
     "output_type": "stream",
     "text": [
      "(902.2968139648438, 902.0020751953125, 643.1481323242188, 379.3563232421875)\n"
     ]
    }
   ],
   "source": [
    "# 모서리부분 근접 촬영\n",
    "_, _ = camera_streaming()\n",
    "print(cam_intrins.fx, cam_intrins.fy, cam_intrins.ppx, cam_intrins.ppy)"
   ]
  },
  {
   "cell_type": "code",
   "execution_count": 106,
   "metadata": {},
   "outputs": [],
   "source": [
    "def line_detect(img_path):\n",
    "    #Ransac Plane Fitting\n",
    "    #depth_img = cv2.imread('/home/jhkim/Swin-Transformer-Object-Detection/test_table.png',\n",
    "    #                                                               flags=cv2.IMREAD_UNCHANGED)\n",
    "    #depth_raw = o3d.io.read_image('/home/jhkim/Swin-Transformer-Object-Detection/test_table.png')\n",
    "    #depth_img = cv2.imread('/home/jhkim/Projects/rnb-planning/src/scripts/demo_202107/save_img/table.png',\n",
    "    #                                                              flags=cv2.IMREAD_UNCHANGED)\n",
    "    #depth_raw = o3d.io.read_image('/home/jhkim/Projects/rnb-planning/src/scripts/demo_202107/save_img/table.png')\n",
    "    depth_img = cv2.imread(img_path, flags=cv2.IMREAD_UNCHANGED)\n",
    "    depth_raw = o3d.io.read_image(img_path) \n",
    "    depth_pcd_raw= o3d.geometry.PointCloud.create_from_depth_image(depth_raw,\n",
    "                                        o3d.camera.PinholeCameraIntrinsic(cam_intrins.width,\n",
    "                                        cam_intrins.height,cam_intrins.fx, cam_intrins.fy,\n",
    "                                        cam_intrins.ppx, cam_intrins.ppy), depth_scale = 1/d_scale,\n",
    "                                                                                   depth_trunc = 1)\n",
    "    #depth_pcd_raw = o3d.geometry.PointCloud.create_from_depth_image(depth_raw, o3d.camera.PinholeCameraIntrinsic(640, 480, \n",
    "    #                                                                                                  461.734375, 462.06640625, \n",
    "    #                                                                                                  350.4140625, 244.541015625), depth_scale = 4000.0, depth_trunc = 1)\n",
    "\n",
    "\n",
    "    plane_model, inliers = depth_pcd_raw.segment_plane(distance_threshold=0.01,\n",
    "                                             ransac_n=8,\n",
    "                                             num_iterations=1000)\n",
    "    [a, b, c, d] = plane_model\n",
    "    print(\"Coeffs of eq of fitting plane are :\")\n",
    "    print(a,b,c,d)\n",
    "\n",
    "    p_inliers = depth_pcd_raw.points[0]\n",
    "    for i in range(len(inliers)-1):\n",
    "        p_inliers = np.vstack([p_inliers, depth_pcd_raw.points[i+1]])\n",
    "\n",
    "    pcd_inliers = o3d.geometry.PointCloud()\n",
    "    pcd_inliers.points = o3d.utility.Vector3dVector(p_inliers)\n",
    "    #o3d.visualization.draw_geometries([pcd_inliers])\n",
    "\n",
    "    # Generate Binary mask image to detect line and edge of table\n",
    "    depth_make = np.zeros(IMAGE_SIZE, dtype='uint8')\n",
    "    for i in range(len(inliers)):\n",
    "        u = int((p_inliers[i][0]/p_inliers[i][2]) * cam_intrins.fx + cam_intrins.ppx)\n",
    "        v = int((p_inliers[i][1]/p_inliers[i][2]) * cam_intrins.fy + cam_intrins.ppy)\n",
    "        depth_make[v][u] = 255\n",
    "    #plt.imshow(depth_make)\n",
    "    \n",
    "    # Closing image\n",
    "    kernel = np.ones((11,11), np.uint8)\n",
    "    #depth_make_open = cv2.morphologyEx(depth_make, cv2.MORPH_OPEN, kernel)\n",
    "    depth_make_close = cv2.morphologyEx(depth_make, cv2.MORPH_CLOSE, kernel)\n",
    "    plt.imshow(depth_make_close)\n",
    "    \n",
    "    # Canny Edge Detection & Probabilistic Hough Line Detection\n",
    "    # Parameter(threshold value) shoud be tuned for our Demo Environment\n",
    "    tmp = cv2.cvtColor(depth_make_close, cv2.COLOR_GRAY2RGB)\n",
    "    canny = cv2.Canny(depth_make_close, 450, 1000, apertureSize = 5, L2gradient = True)\n",
    "    lines = cv2.HoughLinesP(canny, 1, np.pi/180, 50, minLineLength = 13, maxLineGap = 40)\n",
    "\n",
    "    # Check the line detection result\n",
    "    for i in lines:\n",
    "        cv2.line(tmp, (i[0][0], i[0][1]), (i[0][2], i[0][3]), (0, 0, 255), 2)\n",
    "\n",
    "    cv2.imshow(\"Line Detect\", tmp)\n",
    "    cv2.imshow(\"Canny\", canny)\n",
    "    cv2.waitKey(0)\n",
    "    cv2.destroyAllWindows()\n",
    "    return depth_img, lines, plane_model"
   ]
  },
  {
   "cell_type": "code",
   "execution_count": 107,
   "metadata": {},
   "outputs": [
    {
     "name": "stdout",
     "output_type": "stream",
     "text": [
      "Coeffs of eq of fitting plane are :\n",
      "(0.04913751646683236, 0.7224896206244911, 0.689633418973697, -0.3828111797159229)\n"
     ]
    },
    {
     "data": {
      "image/png": "[encoded data removed]",
      "text/plain": [
       "<Figure size 432x288 with 1 Axes>"
      ]
     },
     "metadata": {
      "needs_background": "light"
     },
     "output_type": "display_data"
    }
   ],
   "source": [
    "img_path = SAVE_DIR + '/table.png'\n",
    "depth_img, lines, plane_est = line_detect(img_path)"
   ]
  },
  {
   "cell_type": "code",
   "execution_count": null,
   "metadata": {},
   "outputs": [],
   "source": []
  },
  {
   "cell_type": "code",
   "execution_count": null,
   "metadata": {},
   "outputs": [],
   "source": []
  },
  {
   "cell_type": "code",
   "execution_count": null,
   "metadata": {},
   "outputs": [],
   "source": []
  },
  {
   "cell_type": "code",
   "execution_count": null,
   "metadata": {},
   "outputs": [],
   "source": []
  },
  {
   "cell_type": "code",
   "execution_count": 88,
   "metadata": {},
   "outputs": [],
   "source": [
    "def similarity2line1(u_j, v_j, u_list, v_list):\n",
    "    u1 = u_list[0]\n",
    "    u2 = u_list[1]\n",
    "    v1 = v_list[0]\n",
    "    v2 = v_list[1]\n",
    "    value = float((v_j-v1)*(u2-u1) - (v2-v1)*(u_j-u1))\n",
    "    print(value)\n",
    "    return abs(value)"
   ]
  },
  {
   "cell_type": "code",
   "execution_count": 89,
   "metadata": {},
   "outputs": [],
   "source": [
    "def similarity2line2(u_j, v_j, u_list, v_list):\n",
    "    u1 = u_list[0]\n",
    "    u3 = u_list[2]\n",
    "    v1 = v_list[0]\n",
    "    v3 = v_list[2]\n",
    "    value = float((v_j-v1)*(u3-u1) - (v3-v1)*(u_j-u1))\n",
    "    print(value)\n",
    "    return abs(value)"
   ]
  },
  {
   "cell_type": "code",
   "execution_count": 90,
   "metadata": {},
   "outputs": [
    {
     "name": "stdout",
     "output_type": "stream",
     "text": [
      "[[ 0.          0.          0.49999997]\n",
      " [ 0.         -0.5550788   1.0550789 ]\n",
      " [ 1.8         0.          0.49999997]]\n"
     ]
    }
   ],
   "source": [
    "# 꼭짓점 4개의 좌표가 온다고 할 때,\n",
    "# 아니다.사진 찍은 위치의 코너를 알고 있으면 좌표 세개로부터 직선 두개 결정\n",
    "# stack하는 순서는 찍은 코너를 첫번째로 stacking\n",
    "# point 3개가 넘어온다 생각하고, pixel 좌표로 변환한 거를 저장하는 u,v list\n",
    "\n",
    "# test\n",
    "# p1 = np.array([0.5,0.5,T_Depth])\n",
    "# p2 = np.array([0.5,0.5+T_Width,T_Depth])\n",
    "# p3 = np.array([0.5+T_Height,0.5,T_Depth])\n",
    "# p = np.vstack([p1, p2, p3])\n",
    "p = np.vstack([P_cam_c, P_cam_c_up, P_cam_c_right])\n",
    "print(p)"
   ]
  },
  {
   "cell_type": "code",
   "execution_count": 91,
   "metadata": {},
   "outputs": [
    {
     "data": {
      "text/plain": [
       "[351, 351, 2024]"
      ]
     },
     "execution_count": 91,
     "metadata": {},
     "output_type": "execute_result"
    }
   ],
   "source": [
    "u_list"
   ]
  },
  {
   "cell_type": "code",
   "execution_count": 80,
   "metadata": {},
   "outputs": [
    {
     "data": {
      "text/plain": [
       "[238, -5, 238]"
      ]
     },
     "execution_count": 80,
     "metadata": {},
     "output_type": "execute_result"
    }
   ],
   "source": [
    "v_list"
   ]
  },
  {
   "cell_type": "code",
   "execution_count": 81,
   "metadata": {},
   "outputs": [],
   "source": [
    "model_depth = np.zeros((480, 640), np.uint8)"
   ]
  },
  {
   "cell_type": "code",
   "execution_count": 82,
   "metadata": {},
   "outputs": [],
   "source": [
    "uvidx = 0\n",
    "model_depth[v_list[uvidx]-10:v_list[uvidx]+10, u_list[uvidx]-10:u_list[uvidx]+10] = 255\n",
    "uvidx = 1\n",
    "model_depth[v_list[uvidx]-10:v_list[uvidx]+10, u_list[uvidx]-10:u_list[uvidx]+10] = 255"
   ]
  },
  {
   "cell_type": "code",
   "execution_count": 83,
   "metadata": {},
   "outputs": [
    {
     "data": {
      "text/plain": [
       "[array([[-5.82929676e-05, -7.07794631e-01,  7.06418279e-01,\n",
       "          7.64002148e-02],\n",
       "        [-1.00000000e+00,  1.62645705e-04,  8.04436940e-05,\n",
       "          5.00030210e-01],\n",
       "        [-1.71830599e-04, -7.06418253e-01, -7.07794604e-01,\n",
       "          6.58541665e-01],\n",
       "        [ 0.00000000e+00,  0.00000000e+00,  0.00000000e+00,\n",
       "          1.00000000e+00]])]"
      ]
     },
     "execution_count": 83,
     "metadata": {},
     "output_type": "execute_result"
    }
   ],
   "source": [
    "viewpoint.draw_traj_coords([gase_pose])"
   ]
  },
  {
   "cell_type": "code",
   "execution_count": 148,
   "metadata": {},
   "outputs": [],
   "source": [
    "x1, y1, x2, y2 = lines[5][0]\n",
    "similarity2line2(x1, y1, u_list, v_list)"
   ]
  },
  {
   "cell_type": "code",
   "execution_count": 151,
   "metadata": {},
   "outputs": [
    {
     "name": "stdout",
     "output_type": "stream",
     "text": [
      "-71939.0\n"
     ]
    },
    {
     "data": {
      "text/plain": [
       "71939.0"
      ]
     },
     "execution_count": 151,
     "metadata": {},
     "output_type": "execute_result"
    }
   ],
   "source": []
  },
  {
   "cell_type": "code",
   "execution_count": 157,
   "metadata": {},
   "outputs": [
    {
     "name": "stdout",
     "output_type": "stream",
     "text": [
      "-235893.0\n"
     ]
    },
    {
     "data": {
      "text/plain": [
       "235893.0"
      ]
     },
     "execution_count": 157,
     "metadata": {},
     "output_type": "execute_result"
    }
   ],
   "source": [
    "similarity2line2(x2, y2, u_list, v_list)"
   ]
  },
  {
   "cell_type": "code",
   "execution_count": 87,
   "metadata": {},
   "outputs": [
    {
     "data": {
      "text/plain": [
       "<function __main__.similarity2line1>"
      ]
     },
     "execution_count": 87,
     "metadata": {},
     "output_type": "execute_result"
    }
   ],
   "source": [
    "similarity2line1"
   ]
  },
  {
   "cell_type": "code",
   "execution_count": 100,
   "metadata": {},
   "outputs": [
    {
     "data": {
      "text/plain": [
       "[351, 351, 2024]"
      ]
     },
     "execution_count": 100,
     "metadata": {},
     "output_type": "execute_result"
    }
   ],
   "source": [
    "u_list"
   ]
  },
  {
   "cell_type": "code",
   "execution_count": 101,
   "metadata": {},
   "outputs": [
    {
     "data": {
      "text/plain": [
       "[238, -5, 238]"
      ]
     },
     "execution_count": 101,
     "metadata": {},
     "output_type": "execute_result"
    }
   ],
   "source": [
    "v_list"
   ]
  },
  {
   "cell_type": "code",
   "execution_count": 102,
   "metadata": {},
   "outputs": [
    {
     "data": {
      "text/plain": [
       "array([[[396, 204, 639, 204]],\n",
       "\n",
       "       [[204, 205, 395, 205]],\n",
       "\n",
       "       [[254,  95, 403, 100]],\n",
       "\n",
       "       [[411, 102, 591, 109]],\n",
       "\n",
       "       [[499, 104, 636, 109]],\n",
       "\n",
       "       [[205, 195, 236,  97]]], dtype=int32)"
      ]
     },
     "execution_count": 102,
     "metadata": {},
     "output_type": "execute_result"
    }
   ],
   "source": [
    "lines"
   ]
  },
  {
   "cell_type": "code",
   "execution_count": 129,
   "metadata": {},
   "outputs": [
    {
     "data": {
      "text/plain": [
       "5"
      ]
     },
     "execution_count": 129,
     "metadata": {},
     "output_type": "execute_result"
    }
   ],
   "source": [
    "index1"
   ]
  },
  {
   "cell_type": "code",
   "execution_count": 130,
   "metadata": {},
   "outputs": [
    {
     "data": {
      "text/plain": [
       "5"
      ]
     },
     "execution_count": 130,
     "metadata": {},
     "output_type": "execute_result"
    }
   ],
   "source": [
    "index2"
   ]
  },
  {
   "cell_type": "code",
   "execution_count": 131,
   "metadata": {},
   "outputs": [
    {
     "data": {
      "text/plain": [
       "array([[205, 195, 236,  97]], dtype=int32)"
      ]
     },
     "execution_count": 131,
     "metadata": {},
     "output_type": "execute_result"
    }
   ],
   "source": [
    "lines[index1]"
   ]
  },
  {
   "cell_type": "code",
   "execution_count": 84,
   "metadata": {
    "scrolled": true
   },
   "outputs": [
    {
     "data": {
      "text/plain": [
       "<matplotlib.image.AxesImage at 0x7fe6edc55190>"
      ]
     },
     "execution_count": 84,
     "metadata": {},
     "output_type": "execute_result"
    },
    {
     "data": {
      "image/png": "[encoded data removed]",
      "text/plain": [
       "<Figure size 432x288 with 1 Axes>"
      ]
     },
     "metadata": {
      "needs_background": "light"
     },
     "output_type": "display_data"
    }
   ],
   "source": [
    "plt.imshow(model_depth)"
   ]
  },
  {
   "cell_type": "code",
   "execution_count": 116,
   "metadata": {},
   "outputs": [
    {
     "data": {
      "text/plain": [
       "121.5"
      ]
     },
     "execution_count": 116,
     "metadata": {},
     "output_type": "execute_result"
    }
   ],
   "source": [
    "np.mean(v_list[:2])+5"
   ]
  },
  {
   "cell_type": "code",
   "execution_count": 98,
   "metadata": {},
   "outputs": [
    {
     "data": {
      "text/plain": [
       "<matplotlib.image.AxesImage at 0x7fe7dd4845d0>"
      ]
     },
     "execution_count": 98,
     "metadata": {},
     "output_type": "execute_result"
    },
    {
     "data": {
      "image/png": "[encoded data removed]",
      "text/plain": [
       "<Figure size 432x288 with 1 Axes>"
      ]
     },
     "metadata": {
      "needs_background": "light"
     },
     "output_type": "display_data"
    }
   ],
   "source": [
    "plt.imshow(depth_img)"
   ]
  },
  {
   "cell_type": "code",
   "execution_count": 238,
   "metadata": {},
   "outputs": [],
   "source": [
    "mask = np.zeros((480,640,3), np.uint8)"
   ]
  },
  {
   "cell_type": "code",
   "execution_count": 239,
   "metadata": {},
   "outputs": [],
   "source": [
    "# for il in range(len(lines)):\n",
    "il = 1\n",
    "masknew = cv2.line(mask, tuple(lines[il][0][:2]), tuple(lines[il][0][-2:]), (0,0,255), 2)"
   ]
  },
  {
   "cell_type": "code",
   "execution_count": 236,
   "metadata": {},
   "outputs": [],
   "source": [
    "masknew = cv2.line(mask, (u_list[0], v_list[0]), (u_list[1], v_list[1]), (255,0,0), 2)"
   ]
  },
  {
   "cell_type": "code",
   "execution_count": 240,
   "metadata": {},
   "outputs": [],
   "source": [
    "masknew = cv2.line(mask, (u_list[0], v_list[0]), (u_list[2], v_list[2]), (255,0,0), 2)"
   ]
  },
  {
   "cell_type": "code",
   "execution_count": 241,
   "metadata": {},
   "outputs": [
    {
     "data": {
      "text/plain": [
       "<matplotlib.image.AxesImage at 0x7fe6af37a310>"
      ]
     },
     "execution_count": 241,
     "metadata": {},
     "output_type": "execute_result"
    },
    {
     "data": {
      "image/png": "[encoded data removed]",
      "text/plain": [
       "<Figure size 432x288 with 1 Axes>"
      ]
     },
     "metadata": {
      "needs_background": "light"
     },
     "output_type": "display_data"
    }
   ],
   "source": [
    "plt.imshow(masknew)"
   ]
  },
  {
   "cell_type": "code",
   "execution_count": null,
   "metadata": {},
   "outputs": [],
   "source": []
  },
  {
   "cell_type": "code",
   "execution_count": null,
   "metadata": {},
   "outputs": [],
   "source": []
  },
  {
   "cell_type": "code",
   "execution_count": 230,
   "metadata": {},
   "outputs": [
    {
     "name": "stdout",
     "output_type": "stream",
     "text": [
      "(396, 204, 639, 204)\n",
      "10935.0\n",
      "69984.0\n",
      "-56882.0\n",
      "-56882.0\n",
      "[10935.0, 69984.0]\n",
      "[56882.0, 56882.0]\n",
      "(204, 205, 395, 205)\n",
      "-35721.0\n",
      "10692.0\n",
      "-55209.0\n",
      "-55209.0\n",
      "[35721.0, 10692.0]\n",
      "[55209.0, 55209.0]\n",
      "(254, 95, 403, 100)\n",
      "-23571.0\n",
      "12636.0\n",
      "-239239.0\n",
      "-230874.0\n",
      "[23571.0, 12636.0]\n",
      "[239239.0, 230874.0]\n",
      "(411, 102, 591, 109)\n",
      "14580.0\n",
      "58320.0\n",
      "-227528.0\n",
      "-215817.0\n",
      "[14580.0, 58320.0]\n",
      "[227528.0, 215817.0]\n",
      "(499, 104, 636, 109)\n",
      "35964.0\n",
      "69255.0\n",
      "-224182.0\n",
      "-215817.0\n",
      "[35964.0, 69255.0]\n",
      "[224182.0, 215817.0]\n",
      "(205, 195, 236, 97)\n",
      "-35478.0\n",
      "-27945.0\n",
      "-71939.0\n",
      "-235893.0\n",
      "[35478.0, 27945.0]\n",
      "[71939.0, 235893.0]\n",
      "[40459.5, 23206.5, 18103.5, 36450.0, 52609.5, 31711.5]\n",
      "[56882.0, 55209.0, 235056.5, 221672.5, 219999.5, 153916.0]\n",
      "(2, 1)\n"
     ]
    }
   ],
   "source": [
    "# def edge_detect(depth_img, p):\n",
    "# Convert points w.r.t pixel coordinate\n",
    "\n",
    "u_list = []\n",
    "v_list = []\n",
    "for i in range(3):\n",
    "    u_list.append(int((p[i][0]/p[i][2]) * cam_intrins.fx + cam_intrins.ppx))\n",
    "    v_list.append(int((p[i][1]/p[i][2]) * cam_intrins.fy + cam_intrins.ppy))\n",
    "\n",
    "# Find similar lines\n",
    "metric1 = []\n",
    "metric2 = []\n",
    "for i in lines:\n",
    "    xe, ye, xs, ys = i[0][0], i[0][1], i[0][2], i[0][3]\n",
    "    print(xe, ye, xs, ys)\n",
    "    result1 = []\n",
    "    result2 = []\n",
    "#     dx = xe - xs \n",
    "#     dx_dir = np.sign(dx)\n",
    "#     for u_j in range(np.abs(dx)):\n",
    "#         v_j = (ye-ys)/(xe-xs) * (dx_dir*u_j-xs) + ys \n",
    "#         #u_j = int((xe-xs)/(ye-ys) * (v_j-ys) + xs)\n",
    "#         print(u_j, v_j)\n",
    "#         print(similarity2line1(u_j, v_j, u_list, v_list))\n",
    "#         print(similarity2line1(u_j, v_j, u_list, v_list))\n",
    "    result1.append(similarity2line1(xe, ye, u_list, v_list))\n",
    "    result1.append(similarity2line1(xs, ys, u_list, v_list))\n",
    "    result2.append(similarity2line2(xe, ye, u_list, v_list))\n",
    "    result2.append(similarity2line2(xs, ys, u_list, v_list))\n",
    "\n",
    "    print(result1)\n",
    "    print(result2)\n",
    "    metric1.append(np.mean(result1))\n",
    "    metric2.append(np.mean(result2))\n",
    "\n",
    "print(metric1)\n",
    "print(metric2)\n",
    "index1 = np.argmin(metric1)\n",
    "index2 = np.argmin(metric2)\n",
    "\n",
    "print(index1, index2)\n",
    "\n",
    "\n",
    "# Start, End Points of lines\n",
    "xe, ye, xs, ys = lines[index1][0]\n",
    "xe_, ye_, xs_, ys_ = lines[index2][0]\n",
    "#print(xe, ye, xs, ys)\n",
    "#print(xe_, ye_, xs_, ys_)\n",
    "\n",
    "# Two vectors which represent the line\n",
    "z1 = (depth_img[ys][xs]/65535.0)/(d_scale*1000)\n",
    "x1 = (xs - cam_intrins.ppx) * z1/cam_intrins.fx\n",
    "y1 = (ys - cam_intrins.ppy) * z1/cam_intrins.fy\n",
    "p1 = np.asmatrix(np.array([[x1],[y1],[z1]]))\n",
    "\n",
    "z2 = (depth_img[ye][xe]/65535.0)/(d_scale*1000)\n",
    "x2 = (xe - cam_intrins.ppx) * z2/cam_intrins.fx\n",
    "y2 = (ye - cam_intrins.ppy) * z2/cam_intrins.fy\n",
    "p2 = np.asmatrix(np.array([[x2],[y2],[z2]]))\n",
    "\n",
    "z1_ = (depth_img[ys_][xs_]/65535.0)/(d_scale*1000)\n",
    "x1_ = (xs_ - cam_intrins.ppx) * z1_/cam_intrins.fx\n",
    "y1_ = (ys_ - cam_intrins.ppy) * z1_/cam_intrins.fy\n",
    "p1_ = np.asmatrix(np.array([[x1_],[y1_],[z1_]]))\n",
    "\n",
    "z2_ = (depth_img[ye_][xe_]/65535.0)/(d_scale*1000)\n",
    "x2_ = (xs_ - cam_intrins.ppx) * z2_/cam_intrins.fx\n",
    "y2_ = (ys_ - cam_intrins.ppy) * z2_/cam_intrins.fy\n",
    "p2_ = np.asmatrix(np.array([[x2_],[y2_],[z2_]]))\n",
    "\n",
    "line_vec1 = p2 - p1\n",
    "line_vec2 = p2_ - p1_\n",
    "ax_x = line_vec1\n",
    "ax_y = line_vec2\n",
    "\n",
    "# Detect Edge point of table\n",
    "edge_cand1 = (p1+p1_)/2\n",
    "edge_cand2 = (p1+p2_)/2\n",
    "edge_cand3 = (p2+p1_)/2\n",
    "edge_cand4 = (p2+p2_)/2\n",
    "\n",
    "dist_cand1 = np.linalg.norm(p1 - p1_)\n",
    "dist_cand2 = np.linalg.norm(p1 - p2_)\n",
    "dist_cand3 = np.linalg.norm(p2 - p1_)\n",
    "dist_cand4 = np.linalg.norm(p2 - p2_)\n",
    "\n",
    "edge_list = [dist_cand1, dist_cand2, dist_cand3, dist_cand4]\n",
    "idx = edge_list.index(min(edge_list)) + 1\n",
    "\n",
    "edge = edge_cand4\n",
    "if (idx == 1):\n",
    "    edge = edge_cand1\n",
    "\n",
    "if (idx == 2):\n",
    "    edge = edge_cand2\n",
    "\n",
    "if (idx == 3):\n",
    "    edge = edge_cand3\n",
    "\n",
    "if (idx == 4):\n",
    "    edge = edge_cand4\n",
    "\n",
    "# return edge, ax_x, ax_y"
   ]
  },
  {
   "cell_type": "code",
   "execution_count": 105,
   "metadata": {},
   "outputs": [
    {
     "data": {
      "text/plain": [
       "matrix([[-0.06066416],\n",
       "        [-0.07450263],\n",
       "        [ 0.24396123]])"
      ]
     },
     "execution_count": 105,
     "metadata": {},
     "output_type": "execute_result"
    }
   ],
   "source": [
    "edge"
   ]
  },
  {
   "cell_type": "code",
   "execution_count": 231,
   "metadata": {},
   "outputs": [
    {
     "data": {
      "text/plain": [
       "2"
      ]
     },
     "execution_count": 231,
     "metadata": {},
     "output_type": "execute_result"
    }
   ],
   "source": [
    "index1"
   ]
  },
  {
   "cell_type": "code",
   "execution_count": 232,
   "metadata": {},
   "outputs": [
    {
     "data": {
      "text/plain": [
       "1"
      ]
     },
     "execution_count": 232,
     "metadata": {},
     "output_type": "execute_result"
    }
   ],
   "source": [
    "index2"
   ]
  },
  {
   "cell_type": "code",
   "execution_count": 96,
   "metadata": {},
   "outputs": [
    {
     "data": {
      "text/plain": [
       "array([[396, 204, 639, 204]], dtype=int32)"
      ]
     },
     "execution_count": 96,
     "metadata": {},
     "output_type": "execute_result"
    }
   ],
   "source": [
    "lines[index1]"
   ]
  },
  {
   "cell_type": "code",
   "execution_count": 97,
   "metadata": {},
   "outputs": [
    {
     "data": {
      "text/plain": [
       "array([[204, 205, 395, 205]], dtype=int32)"
      ]
     },
     "execution_count": 97,
     "metadata": {},
     "output_type": "execute_result"
    }
   ],
   "source": [
    "lines[index2]"
   ]
  },
  {
   "cell_type": "code",
   "execution_count": null,
   "metadata": {},
   "outputs": [],
   "source": [
    "depth_img, lines, plane_est "
   ]
  },
  {
   "cell_type": "code",
   "execution_count": 99,
   "metadata": {},
   "outputs": [
    {
     "data": {
      "text/plain": [
       "array([[[396, 204, 639, 204]],\n",
       "\n",
       "       [[204, 205, 395, 205]],\n",
       "\n",
       "       [[254,  95, 403, 100]],\n",
       "\n",
       "       [[411, 102, 591, 109]],\n",
       "\n",
       "       [[499, 104, 636, 109]],\n",
       "\n",
       "       [[205, 195, 236,  97]]], dtype=int32)"
      ]
     },
     "execution_count": 99,
     "metadata": {},
     "output_type": "execute_result"
    }
   ],
   "source": [
    "lines"
   ]
  },
  {
   "cell_type": "code",
   "execution_count": null,
   "metadata": {},
   "outputs": [],
   "source": []
  },
  {
   "cell_type": "code",
   "execution_count": null,
   "metadata": {},
   "outputs": [],
   "source": []
  },
  {
   "cell_type": "code",
   "execution_count": null,
   "metadata": {},
   "outputs": [],
   "source": []
  },
  {
   "cell_type": "code",
   "execution_count": 102,
   "metadata": {},
   "outputs": [
    {
     "name": "stdout",
     "output_type": "stream",
     "text": [
      "(300, 205, 639, 205)\n",
      "[]\n",
      "[]\n",
      "(246, 95, 403, 100)\n",
      "[]\n",
      "[]\n",
      "(204, 206, 299, 206)\n",
      "[]\n",
      "[]\n",
      "(289, 97, 331, 98)\n",
      "[]\n",
      "[]\n",
      "(449, 104, 639, 108)\n",
      "[]\n",
      "[]\n",
      "(413, 103, 591, 109)\n",
      "[]\n",
      "[]\n",
      "(205, 196, 235, 97)\n",
      "[]\n",
      "[]\n",
      "(204, 204, 236, 97)\n",
      "[]\n",
      "[]\n",
      "[nan, nan, nan, nan, nan, nan, nan, nan]\n",
      "[nan, nan, nan, nan, nan, nan, nan, nan]\n",
      "(0, 0)\n"
     ]
    }
   ],
   "source": [
    "edge, ax_x, ax_y = edge_detect(depth_img, p)"
   ]
  },
  {
   "cell_type": "code",
   "execution_count": 111,
   "metadata": {},
   "outputs": [],
   "source": [
    "##### Testing용 #####\n",
    "T_co_new = np.matmul(SE3_inv(T_bcam), T_bt)\n",
    "######################"
   ]
  },
  {
   "cell_type": "code",
   "execution_count": 112,
   "metadata": {},
   "outputs": [
    {
     "data": {
      "text/plain": [
       "array([[-0.70710677,  0.        , -0.70710677, -0.01767766],\n",
       "       [ 0.        ,  1.        ,  0.        , -0.9       ],\n",
       "       [ 0.70710677,  0.        , -0.70710677,  1.0374011 ],\n",
       "       [ 0.        ,  0.        ,  0.        ,  1.        ]],\n",
       "      dtype=float32)"
      ]
     },
     "execution_count": 112,
     "metadata": {},
     "output_type": "execute_result"
    }
   ],
   "source": [
    "T_co_new"
   ]
  },
  {
   "cell_type": "code",
   "execution_count": 115,
   "metadata": {},
   "outputs": [],
   "source": [
    "def pose_obj(plane_model, edge, ax_x, ax_y, T_co_new):\n",
    "    a, b, c, d = plane_model\n",
    "    surface_normal = np.array([[a], [b], [c]])\n",
    "    #surface_normal = np.cross(line_v1.T, line_v2.T) \n",
    "\n",
    "    # ax_x, ax_y가 line으로부터 땄는데, 반드시 수직하다는 보장 있나..? 근접샷에서 딴 거니까 정확하다고 그냥 생각해야하나\n",
    "    # normalize \n",
    "    if (np.dot(T_co_new[0:3,0].T, ax_x) < 0):\n",
    "        ax_x = -ax_x\n",
    "\n",
    "    if (np.dot(T_co_new[0:3,1].T, ax_y) < 0):\n",
    "        ax_y = -ax_y\n",
    "\n",
    "    ax_z = surface_normal/np.linalg.norm(surface_normal)\n",
    "    ax_x = ax_x/np.linalg.norm(ax_x)\n",
    "    ax_y = ax_y/np.linalg.norm(ax_y)\n",
    "    #print(np.dot(ax_z.T,ax_x))\n",
    "    #print(np.dot(ax_x.T,ax_y))\n",
    "    #print(np.dot(ax_y.T,ax_z))\n",
    "\n",
    "\n",
    "    # Estimated Orientation of table from camera coordinate\n",
    "    model_rotation_mtx = np.hstack([ax_x, ax_y, ax_z])\n",
    "\n",
    "    #estimated_box = o3d.geometry.TriangleMesh.create_box(width=T_Width, height=T_Height, depth=T_Depth)\n",
    "    #estimated_box.translate(edge)\n",
    "    #estimated_box.rotate(model_rotation_mtx)\n",
    "    FOR_box = o3d.geometry.TriangleMesh.create_coordinate_frame(size=0.15, origin=[0,0,0])\n",
    "    FOR_box.translate(edge)\n",
    "    FOR_box.rotate(model_rotation_mtx)\n",
    "    #FOR_box.translate((-T_Height/2, T_Width/2, -T_Depth/2), relative=True)\n",
    "\n",
    "    T_co_result = np.identity(4)\n",
    "    T_co_result[0:3,0:3] = model_rotation_mtx\n",
    "    T_co_result[0:3,3] = FOR_box.get_center().T\n",
    "    #model_new_center = (T_co_new[0:3,3] + FOR_box.get_center())/2\n",
    "\n",
    "    print(\"\\nHomogeneous Transformation(Cam to Table) is :\")\n",
    "    print(T_co_result)\n",
    "    return T_co_result"
   ]
  },
  {
   "cell_type": "code",
   "execution_count": 116,
   "metadata": {},
   "outputs": [
    {
     "name": "stdout",
     "output_type": "stream",
     "text": [
      "\n",
      "Homogeneous Transformation(Cam to Table) is :\n",
      "[[-0.99947515 -0.52518796 -0.02611748 -0.33510759]\n",
      " [ 0.00228667  0.06188641  0.62231477  0.89366705]\n",
      " [-0.03231415 -0.84873298  0.78233127 -0.16320077]\n",
      " [ 0.          0.          0.          1.        ]]\n"
     ]
    }
   ],
   "source": [
    "T_co_result = pose_obj(plane_est, edge, ax_x, ax_y, T_co_new)"
   ]
  },
  {
   "cell_type": "code",
   "execution_count": null,
   "metadata": {},
   "outputs": [],
   "source": []
  }
 ],
 "metadata": {
  "kernelspec": {
   "display_name": "Python 2",
   "language": "python",
   "name": "python2"
  },
  "language_info": {
   "codemirror_mode": {
    "name": "ipython",
    "version": 2
   },
   "file_extension": ".py",
   "mimetype": "text/x-python",
   "name": "python",
   "nbconvert_exporter": "python",
   "pygments_lexer": "ipython2",
   "version": "2.7.17"
  }
 },
 "nbformat": 4,
 "nbformat_minor": 2
}
