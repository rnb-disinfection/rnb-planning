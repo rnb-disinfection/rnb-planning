{
 "cells": [
  {
   "cell_type": "code",
   "execution_count": 1,
   "metadata": {},
   "outputs": [],
   "source": [
    "import os\n",
    "import sys\n",
    "os.chdir(os.path.join(os.environ[\"RNB_PLANNING_DIR\"], 'src'))\n",
    "sys.path.append(os.path.join(os.environ[\"RNB_PLANNING_DIR\"], 'src/scripts/demo_202107'))"
   ]
  },
  {
   "cell_type": "code",
   "execution_count": 2,
   "metadata": {},
   "outputs": [
    {
     "name": "stdout",
     "output_type": "stream",
     "text": [
      "Current PC IP: 192.168.0.4\n",
      "Mobile ROB IP: 192.168.0.102\n",
      "CAM SERVER IP: 192.168.0.102\n"
     ]
    }
   ],
   "source": [
    "from pkg.global_config import RNB_PLANNING_DIR\n",
    "from demo_utils.kiro_udp_send import start_mobile_udp_thread, send_pose_wait, get_xyzw_cur, get_reach_state\n",
    "from pkg.utils.utils import *    \n",
    "from pkg.controller.combined_robot import *\n",
    "from pkg.project_config import *\n",
    "from demo_utils.streaming import *\n",
    "\n",
    "\n",
    "# CONNECT_INDY = True\n",
    "CONNECT_INDY = False\n",
    "\n",
    "ip_cur =  get_ip_address()\n",
    "MOBILE_IP = \"192.168.0.102\"\n",
    "INDY_IP = \"192.168.0.3\"\n",
    "CAM_HOST = '192.168.0.10'\n",
    "\n",
    "print(\"Current PC IP: {}\".format(ip_cur))\n",
    "print(\"Mobile ROB IP: {}\".format(MOBILE_IP))\n",
    "print(\"CAM SERVER IP: {}\".format(MOBILE_IP))"
   ]
  },
  {
   "cell_type": "code",
   "execution_count": 3,
   "metadata": {},
   "outputs": [
    {
     "name": "stdout",
     "output_type": "stream",
     "text": [
      "connection command:\n",
      "indy0: False\n"
     ]
    }
   ],
   "source": [
    "# sock_mobile, server_thread = start_mobile_udp_thread(recv_ip=ip_cur)\n",
    "crob = CombinedRobot(robots_on_scene=[\n",
    "    RobotConfig(0, RobotType.indy7, None,\n",
    "                INDY_IP, specs={\"no_sdk\":True})]\n",
    "              , connection_list=[CONNECT_INDY])"
   ]
  },
  {
   "cell_type": "code",
   "execution_count": 4,
   "metadata": {},
   "outputs": [],
   "source": [
    "# Directory setting\n",
    "DEMO_DIR = os.path.join(RNB_PLANNING_DIR, \"src/scripts/demo_202107\")\n",
    "CONFIG_DIR = os.path.join(DEMO_DIR, \"configs\")\n",
    "SAVE_DIR = os.path.join(DEMO_DIR, \"save_img\")\n",
    "CROP_DIR = os.path.join(DEMO_DIR, \"crop_img\")\n",
    "MODEL_DIR = os.path.join(DEMO_DIR, \"model_CAD\")\n",
    "\n",
    "# Table dimension\n",
    "T_Width = 1.8\n",
    "T_Height = 0.785\n",
    "T_Depth = 0.734"
   ]
  },
  {
   "cell_type": "code",
   "execution_count": 5,
   "metadata": {},
   "outputs": [],
   "source": [
    "from pkg.geometry.builder.scene_builder import SceneBuilder\n",
    "s_builder = SceneBuilder(None)\n",
    "# s_builder.reset_reference_coord(ref_name=\"floor\")"
   ]
  },
  {
   "cell_type": "code",
   "execution_count": 6,
   "metadata": {},
   "outputs": [
    {
     "name": "stdout",
     "output_type": "stream",
     "text": [
      "Unable to register with master node [http://localhost:11311]: master may not be running yet. Will keep trying.\n",
      "Please create a subscriber to the marker\n",
      "publication OK\n",
      "published: [0, 0, 0, 0, 0, 0]\n"
     ]
    }
   ],
   "source": [
    "# xyz_rpy_robots = s_builder.detect_items(level_mask=[DetectionLevel.ROBOT])\n",
    "xyz_rpy_robots = {\"indy0\": ((0,0,0), (0,0,np.pi))}\n",
    "crob.update_robot_pos_dict(xyz_rpy_robots=xyz_rpy_robots)\n",
    "gscene = s_builder.create_gscene(crob)"
   ]
  },
  {
   "cell_type": "code",
   "execution_count": 7,
   "metadata": {},
   "outputs": [
    {
     "name": "stdout",
     "output_type": "stream",
     "text": [
      "Dash is running on http://0.0.0.0:8050/\n",
      "\n",
      " * Serving Flask app \"pkg.ui.dash_launcher\" (lazy loading)\n",
      " * Environment: production\n"
     ]
    }
   ],
   "source": [
    "from pkg.planning.scene import PlanningScene\n",
    "pscene = PlanningScene(gscene, combined_robot=crob)\n",
    "\n",
    "from pkg.planning.pipeline import PlanningPipeline\n",
    "ppline = PlanningPipeline(pscene)\n",
    "\n",
    "from pkg.ui.ui_broker import *\n",
    "\n",
    "# start UI\n",
    "ui_broker = UIBroker.instance()\n",
    "ui_broker.initialize(ppline, s_builder)\n",
    "ui_broker.start_server()\n",
    "\n",
    "ui_broker.set_tables()"
   ]
  },
  {
   "cell_type": "code",
   "execution_count": 8,
   "metadata": {},
   "outputs": [
    {
     "name": "stdout",
     "output_type": "stream",
     "text": [
      "   WARNING: This is a development server. Do not use it in a production deployment.\n",
      "Please create a subscriber to the marker\n",
      "   Use a production WSGI server instead.\n",
      " * Debug mode: off\n"
     ]
    }
   ],
   "source": [
    "gtems = s_builder.add_robot_geometries(color=(0,1,0,0.5), display=True, collision=True)\n",
    "gscene.set_workspace_boundary( -1.5, 1.5, -1, 1, -0.1, 1.75)"
   ]
  },
  {
   "cell_type": "markdown",
   "metadata": {},
   "source": [
    "## add env"
   ]
  },
  {
   "cell_type": "code",
   "execution_count": 9,
   "metadata": {},
   "outputs": [],
   "source": [
    "\n",
    "# geometry 추가\n",
    "mobile_base = gscene.create_safe(gtype=GEOTYPE.BOX, name=\"mobile_base\", link_name=\"base_link\", \n",
    "                   dims=(0.6,0.4,0.439), center=(0,0,-0.439/2), rpy=(0,0,0), \n",
    "                   color=(0.8,0.8,0.8,0.5), display=True, fixed=True, collision=False)\n",
    "floor = gscene.create_safe(gtype=GEOTYPE.BOX, name=\"floor\", link_name=\"base_link\", \n",
    "                   dims=(10,10,0.01), center=(0,0,-0.439), rpy=(0,0,0), \n",
    "                   color=(0.8,0.8,0.8,0.5), display=True, fixed=True, collision=False)"
   ]
  },
  {
   "cell_type": "markdown",
   "metadata": {},
   "source": [
    "## add cam"
   ]
  },
  {
   "cell_type": "code",
   "execution_count": 10,
   "metadata": {},
   "outputs": [],
   "source": [
    "for gtem in gscene:\n",
    "    round_it_str(gtem.dims)\n",
    "    round_it_str(gtem.center)"
   ]
  },
  {
   "cell_type": "code",
   "execution_count": 11,
   "metadata": {},
   "outputs": [
    {
     "data": {
      "text/plain": [
       "<pkg.geometry.geometry.GeometryItem at 0x7f0f0bb1e810>"
      ]
     },
     "execution_count": 11,
     "metadata": {},
     "output_type": "execute_result"
    }
   ],
   "source": [
    "from pkg.geometry.geotype import GEOTYPE\n",
    "gscene.create_safe(gtype=GEOTYPE.CYLINDER, name=\"cam\", link_name=\"indy0_tcp\", \n",
    "                   dims=(0.061,0.061,0.026), center=(-0.0785,0,0.013), rpy=(0,0,0), \n",
    "                   color=(0.8,0.8,0.8,0.5), display=True, fixed=True, collision=False)\n",
    "\n",
    "gscene.create_safe(gtype=GEOTYPE.CYLINDER, name=\"cam_col\", link_name=\"indy0_tcp\", \n",
    "                   dims=(0.081,0.081,0.046), center=(-0.0785,0,0.013), rpy=(0,0,0), \n",
    "                   color=(0.0,1,0,0.3), display=True, fixed=True, collision=True)\n",
    "\n",
    "viewpoint = gscene.create_safe(gtype=GEOTYPE.SPHERE, name=\"viewpoint\", link_name=\"indy0_tcp\", \n",
    "                   dims=(0.01,0.01,0.01), center=(0,0,0), rpy=(0,0,-np.pi/2), \n",
    "                   color=(1,0,0,0.3), display=True, fixed=True, collision=False, parent=\"cam\")\n",
    "\n",
    "gscene.create_safe(gtype=GEOTYPE.CYLINDER, name=\"body\", link_name=\"indy0_tcp\", \n",
    "                   dims=(0.067,0.067,0.0335), center=(-0.0785,0,-0.01675), rpy=(0,0,0), \n",
    "                   color=(0.8,0.8,0.8,1), display=True, fixed=True, collision=False)\n",
    "\n",
    "gscene.create_safe(gtype=GEOTYPE.CYLINDER, name=\"body_col\", link_name=\"indy0_tcp\", \n",
    "                   dims=(0.087,0.087,0.0535), center=(-0.0785,0,-0.01675), rpy=(0,0,0), \n",
    "                   color=(0.0,1,0,0.3), display=True, fixed=True, collision=True)\n",
    "\n",
    "gscene.create_safe(gtype=GEOTYPE.SPHERE, name=\"backhead\", link_name=\"indy0_tcp\", \n",
    "                   dims=(0.067,0.067,0.067), center=(-0.0785,0,-0.0335), rpy=(0,0,0), \n",
    "                   color=(0.8,0.8,0.8,1), display=True, fixed=True, collision=False)\n",
    "\n",
    "gscene.create_safe(gtype=GEOTYPE.SPHERE, name=\"backhead_col\", link_name=\"indy0_tcp\", \n",
    "                   dims=(0.087,0.087,0.087), center=(-0.0785,0,-0.0335), rpy=(0,0,0), \n",
    "                   color=(0.0,1,0,0.3), display=True, fixed=True, collision=True)"
   ]
  },
  {
   "cell_type": "code",
   "execution_count": 12,
   "metadata": {},
   "outputs": [],
   "source": [
    "gscene.update_markers_all()"
   ]
  },
  {
   "cell_type": "markdown",
   "metadata": {},
   "source": [
    "## add indy tool"
   ]
  },
  {
   "cell_type": "code",
   "execution_count": 13,
   "metadata": {},
   "outputs": [
    {
     "data": {
      "text/plain": [
       "<pkg.geometry.geometry.GeometryItem at 0x7f0f0ba63a50>"
      ]
     },
     "execution_count": 13,
     "metadata": {},
     "output_type": "execute_result"
    }
   ],
   "source": [
    "gscene = gscene\n",
    "robot_name=\"indy0\"\n",
    "face_name=\"brush_face\"\n",
    "\n",
    "gscene.create_safe(gtype=GEOTYPE.CYLINDER, name=\"{}_adapter\".format(robot_name),\n",
    "                   link_name=\"{}_tcp\".format(robot_name),\n",
    "                   center=(0, 0, 0.0025), dims=(0.09, 0.09, 0.005), rpy=(0, 0, 0), color=(0.8, 0.8, 0.8, 1),\n",
    "                   collision=False, fixed=True)\n",
    "gscene.create_safe(gtype=GEOTYPE.CYLINDER, name=\"{}_adapter_col\".format(robot_name),\n",
    "                   link_name=\"{}_tcp\".format(robot_name),\n",
    "                   center=(0, 0, 0.0025), dims=(0.13, 0.13, 0.005), rpy=(0, 0, 0), color=(0.0, 0.8, 0.0, 0.5),\n",
    "                   collision=True, fixed=True)\n",
    "\n",
    "gscene.create_safe(gtype=GEOTYPE.BOX, name=\"{}_hindge0\".format(robot_name),\n",
    "                   link_name=\"{}_tcp\".format(robot_name),\n",
    "                   center=(0, 0, 0.0125), dims=(0.022, 0.036, 0.025), rpy=(0, 0, 0), color=(0.8, 0.8, 0.8, 1),\n",
    "                   collision=False, fixed=True)\n",
    "gscene.create_safe(gtype=GEOTYPE.BOX, name=\"{}_hindge0_col\".format(robot_name),\n",
    "                   link_name=\"{}_tcp\".format(robot_name),\n",
    "                   center=(0, 0, 0.0125), dims=(0.062, 0.076, 0.025), rpy=(0, 0, 0), color=(0.0, 0.8, 0.0, 0.5),\n",
    "                   collision=True, fixed=True)\n",
    "\n",
    "gscene.create_safe(gtype=GEOTYPE.BOX, name=\"{}_bar\".format(robot_name),\n",
    "                   link_name=\"{}_tcp\".format(robot_name),\n",
    "                   center=(0.053, 0, 0.068), dims=(0.011, 0.020, 0.15), rpy=(0, 1*pi/4, 0), color=(0.8, 0.8, 0.8, 1),\n",
    "                   collision=False, fixed=True)\n",
    "gscene.create_safe(gtype=GEOTYPE.BOX, name=\"{}_bar_col\".format(robot_name),\n",
    "                   link_name=\"{}_tcp\".format(robot_name),\n",
    "                   center=(0.053, 0, 0.068), dims=(0.051, 0.060, 0.15), rpy=(0, 1*pi/4, 0), color=(0.0, 0.8, 0.0, 0.5),\n",
    "                   collision=True, fixed=True)\n",
    "\n",
    "gscene.create_safe(gtype=GEOTYPE.BOX, name=\"{}_hindge1\".format(robot_name),\n",
    "                   link_name=\"{}_tcp\".format(robot_name),\n",
    "                   center=(0.1085,0,0.121), dims=(0.025, 0.036, 0.022), rpy=(0, 0, 0), color=(0.8, 0.8, 0.8, 1),\n",
    "                   collision=False, fixed=True)\n",
    "gscene.create_safe(gtype=GEOTYPE.BOX, name=\"{}_hindge1_col\".format(robot_name),\n",
    "                   link_name=\"{}_tcp\".format(robot_name),\n",
    "                   center=(0.1085,0,0.121), dims=(0.025, 0.076, 0.062), rpy=(0, 0, 0), color=(0.0, 0.8, 0.0, 0.5),\n",
    "                   collision=True, fixed=True)\n",
    "\n",
    "gscene.create_safe(gtype=GEOTYPE.CYLINDER, name=\"{}_brushbase\".format(robot_name),\n",
    "                   link_name=\"{}_tcp\".format(robot_name),\n",
    "                   center=(0.2085,0,0.121), dims=(0.08, 0.08, 0.015), rpy=(0, pi/2, 0), color=(0.8, 0.8, 0.8, 1),\n",
    "                   collision=False, fixed=True)\n",
    "gscene.create_safe(gtype=GEOTYPE.CYLINDER, name=\"{}_brushbase_col\".format(robot_name),\n",
    "                   link_name=\"{}_tcp\".format(robot_name),\n",
    "                   center=(0.2085,0,0.121), dims=(0.12, 0.12, 0.015), rpy=(0, pi/2, 0), color=(0.0, 0.8, 0.0, 0.5),\n",
    "                   collision=True, fixed=True)\n",
    "gscene.create_safe(gtype=GEOTYPE.BOX, name=face_name, link_name=\"{}_tcp\".format(robot_name),\n",
    "                   center=(0.227,0,0.121), dims=(0.037, 0.10, 0.34), rpy=(np.pi, 0, pi), color=(1.0, 1.0, 0.94, 1),\n",
    "                   collision=False, fixed=True)\n",
    "gscene.create_safe(gtype=GEOTYPE.BOX, name=\"{}_col\".format(face_name), link_name=\"{}_tcp\".format(robot_name),\n",
    "                   center=(0.207,0,0.121), dims=(0.057, 0.10, 0.36), rpy=(np.pi, 0, pi), color=(0.0, 0.8, 0.0, 0.5),\n",
    "                   collision=True, fixed=True)"
   ]
  },
  {
   "cell_type": "markdown",
   "metadata": {},
   "source": [
    "## Register binders"
   ]
  },
  {
   "cell_type": "code",
   "execution_count": 14,
   "metadata": {},
   "outputs": [
    {
     "data": {
      "text/plain": [
       "<pkg.planning.constraint.constraint_actor.SweepFramer at 0x7f0f0bb2cf90>"
      ]
     },
     "execution_count": 14,
     "metadata": {},
     "output_type": "execute_result"
    }
   ],
   "source": [
    "from pkg.planning.constraint.constraint_actor import Gripper2Tool, PlacePlane, SweepFramer, FixtureSlot\n",
    "pscene.create_binder(bname=\"brush_face\", gname=\"brush_face\", _type=SweepFramer, point=(-gscene.NAME_DICT['brush_face'].dims[0]/2,0,0), \n",
    "                     rpy=(0,np.pi/2*1,0))"
   ]
  },
  {
   "cell_type": "markdown",
   "metadata": {},
   "source": [
    "## Set planner"
   ]
  },
  {
   "cell_type": "code",
   "execution_count": 15,
   "metadata": {},
   "outputs": [],
   "source": [
    "from pkg.planning.motion.moveit.moveit_planner import MoveitPlanner\n",
    "mplan = MoveitPlanner(pscene)\n",
    "mplan.update_gscene()\n",
    "from pkg.planning.task.rrt import TaskRRT\n",
    "tplan = TaskRRT(pscene)\n",
    "tplan.prepare()\n",
    "ppline.set_motion_planner(mplan)\n",
    "ppline.set_task_planner(tplan)\n",
    "\n",
    "from pkg.planning.filtering.grasp_filter import GraspChecker\n",
    "from pkg.planning.filtering.reach_filter import ReachChecker\n",
    "from pkg.planning.filtering.latticized_filter import LatticedChecker\n",
    "from pkg.planning.filtering.task_clearance_filter import TaskClearanceChecker\n",
    "\n",
    "gcheck = GraspChecker(pscene)\n",
    "rcheck = ReachChecker(pscene)\n",
    "tcheck = TaskClearanceChecker(pscene, gcheck)\n",
    "checkers_all = [tcheck, rcheck, gcheck]\n",
    "# lcheck = LatticedChecker(pscene, gcheck)\n",
    "# checkers_all.append(lcheck)\n",
    "\n",
    "mplan.motion_filters = checkers_all"
   ]
  },
  {
   "cell_type": "markdown",
   "metadata": {},
   "source": [
    "## move indy to viewing pose"
   ]
  },
  {
   "cell_type": "code",
   "execution_count": 16,
   "metadata": {},
   "outputs": [],
   "source": [
    "indy = crob.robot_dict[\"indy0\"]\n",
    "# if indy is not None:\n",
    "#     with indy:\n",
    "#         indy.reset_robot()"
   ]
  },
  {
   "cell_type": "code",
   "execution_count": 17,
   "metadata": {},
   "outputs": [],
   "source": [
    "VIEW_POSE = np.deg2rad([  0., -28.,  85.,  -0.,  57., -180])\n",
    "if indy is not None:\n",
    "    with indy:\n",
    "        indy.joint_move_to(np.rad2deg(VIEW_POSE))\n",
    "        time.sleep(0.5)\n",
    "        indy.wait_for_move_finish()\n",
    "        Qcur = np.deg2rad(indy.get_joint_pos())\n",
    "else:\n",
    "    Qcur = VIEW_POSE\n",
    "gscene.show_pose(Qcur)"
   ]
  },
  {
   "cell_type": "markdown",
   "metadata": {},
   "source": [
    "## Get image"
   ]
  },
  {
   "cell_type": "code",
   "execution_count": 18,
   "metadata": {},
   "outputs": [],
   "source": [
    "CAM_HOST = '192.168.0.4'"
   ]
  },
  {
   "cell_type": "code",
   "execution_count": 19,
   "metadata": {},
   "outputs": [],
   "source": [
    "rdict = send_recv_demo_cam({1:1}, host=CAM_HOST)"
   ]
  },
  {
   "cell_type": "code",
   "execution_count": 20,
   "metadata": {},
   "outputs": [
    {
     "name": "stdout",
     "output_type": "stream",
     "text": [
      "== press s to save image ==\n"
     ]
    }
   ],
   "source": [
    "rdict = stream_capture_image(ImageType.FirstView, host=CAM_HOST)\n",
    "cam_intrins, d_scale = [rdict[key] for key in [\"intrins\", \"depth_scale\"]]\n"
   ]
  },
  {
   "cell_type": "code",
   "execution_count": null,
   "metadata": {},
   "outputs": [],
   "source": []
  },
  {
   "cell_type": "code",
   "execution_count": 21,
   "metadata": {},
   "outputs": [],
   "source": [
    "import SharedArray as sa\n",
    "import numpy as np\n",
    "import cv2\n",
    "import time\n",
    "import matplotlib.pyplot as plt\n",
    "\n",
    "IMG_URI = \"shm://color_img\"\n",
    "MASK_URI = \"shm://mask_img\"\n",
    "REQ_URI = \"shm://request\"\n",
    "RESP_URI = \"shm://response\"\n",
    "\n",
    "color_img_p = sa.attach(IMG_URI)\n",
    "return_img_p = sa.attach(MASK_URI)\n",
    "request_p = sa.attach(REQ_URI)\n",
    "resp_p = sa.attach(RESP_URI)\n",
    "\n",
    "def detect_from_server(image):\n",
    "    color_img_p[:] = image[:]\n",
    "    request_p[:] = 1\n",
    "    while not resp_p[0]:\n",
    "        time.sleep(0.01)\n",
    "    resp_p[:] = 0\n",
    "    return np.copy(return_img_p.astype(np.bool))"
   ]
  },
  {
   "cell_type": "code",
   "execution_count": 22,
   "metadata": {},
   "outputs": [],
   "source": [
    "# Set color, depth image path\n",
    "if indy is None:\n",
    "    color_img_path = DATASET_DIR + '/color_8.jpg'\n",
    "    depth_img_path = DATASET_DIR + '/depth_8.png'\n",
    "#     color_img_path = SAVE_DIR + '/color_difficult.jpg'\n",
    "#     depth_img_path = SAVE_DIR + '/depth_difficult.png'\n",
    "else:\n",
    "    color_img_path = SAVE_DIR + '/color.jpg'\n",
    "    depth_img_path = SAVE_DIR + '/depth.png'\n",
    "\n",
    "# Read color, depth image file, keep 16bit information\n",
    "color_img_read = cv2.imread(color_img_path, flags=cv2.IMREAD_UNCHANGED)\n",
    "depth_img_read = cv2.imread(depth_img_path, flags=cv2.IMREAD_UNCHANGED)"
   ]
  },
  {
   "cell_type": "code",
   "execution_count": 23,
   "metadata": {},
   "outputs": [
    {
     "data": {
      "text/plain": [
       "<matplotlib.image.AxesImage at 0x7f0e78b7cc90>"
      ]
     },
     "execution_count": 23,
     "metadata": {},
     "output_type": "execute_result"
    },
    {
     "data": {
      "image/png": "[encoded data removed]",
      "text/plain": [
       "<Figure size 432x288 with 1 Axes>"
      ]
     },
     "metadata": {
      "needs_background": "light"
     },
     "output_type": "display_data"
    }
   ],
   "source": [
    "# Output of inference(mask for detected table)\n",
    "mask_out = detect_from_server(color_img_read)\n",
    "plt.imshow(mask_out)"
   ]
  },
  {
   "cell_type": "code",
   "execution_count": 24,
   "metadata": {},
   "outputs": [
    {
     "data": {
      "text/plain": [
       "True"
      ]
     },
     "execution_count": 24,
     "metadata": {},
     "output_type": "execute_result"
    }
   ],
   "source": [
    "# Crop masking part\n",
    "vis_mask = (mask_out * 255).astype('uint8')\n",
    "color_instance = cv2.bitwise_and(color_img_read, color_img_read, mask=vis_mask).astype(np.uint16)\n",
    "depth_instance = cv2.bitwise_and(depth_img_read, depth_img_read, mask=vis_mask).astype(np.uint16)\n",
    "cv2.imwrite(CROP_DIR + '/color_crop.jpg', color_instance)\n",
    "cv2.imwrite(CROP_DIR + '/depth_crop.png', depth_instance)"
   ]
  },
  {
   "cell_type": "code",
   "execution_count": 25,
   "metadata": {},
   "outputs": [],
   "source": [
    "from demo_utils.detect_table import *"
   ]
  },
  {
   "cell_type": "code",
   "execution_count": null,
   "metadata": {},
   "outputs": [],
   "source": []
  },
  {
   "cell_type": "code",
   "execution_count": 26,
   "metadata": {},
   "outputs": [
    {
     "name": "stdout",
     "output_type": "stream",
     "text": [
      "2.7071234701393627\n",
      "Apply point-to-point ICP\n",
      "registration::RegistrationResult with fitness=1.000000e+00, inlier_rmse=7.782645e-03, and correspondence_set size of 22075\n",
      "Access transformation to get result.\n",
      "Transformation is:\n",
      "[[ 0.99852381 -0.03374979 -0.04255767 -1.21099367]\n",
      " [ 0.01423837  0.91876705 -0.39454326 -0.21325686]\n",
      " [ 0.05241634  0.39335488  0.91789131  2.2974154 ]\n",
      " [ 0.          0.          0.          1.        ]]\n"
     ]
    }
   ],
   "source": [
    "set_cam_params(cam_intrins, d_scale)\n",
    "model_mesh, pcd_out = preprocessing()\n",
    "ICP_result1 = compute_ICP(model_mesh, pcd_out, (-T_Height, -T_Depth, 0.0))"
   ]
  },
  {
   "cell_type": "code",
   "execution_count": 27,
   "metadata": {},
   "outputs": [
    {
     "data": {
      "text/plain": [
       "[array([[ 1.63500920e-11, -4.06736601e-01,  9.13545473e-01,\n",
       "          3.34365761e-01],\n",
       "        [-1.00000000e+00, -3.51531197e-12,  1.63322856e-11,\n",
       "          1.86499992e-01],\n",
       "        [-3.43154104e-12, -9.13545473e-01, -4.06736601e-01,\n",
       "          8.61139862e-01],\n",
       "        [ 0.00000000e+00,  0.00000000e+00,  0.00000000e+00,\n",
       "          1.00000000e+00]])]"
      ]
     },
     "execution_count": 27,
     "metadata": {},
     "output_type": "execute_result"
    }
   ],
   "source": [
    "gscene.show_pose(VIEW_POSE)\n",
    "viewpoint.draw_traj_coords([VIEW_POSE])"
   ]
  },
  {
   "cell_type": "code",
   "execution_count": 28,
   "metadata": {},
   "outputs": [],
   "source": [
    "from pkg.utils.rotation_utils import *\n",
    "TABLE_DIMS = np.array((0.785,1.80,0.735))\n",
    "OFF_DIR = np.array([1,1,-1])\n",
    "# OFF_DIR = np.array([1,1,0])\n",
    "#TABLE_DIMS[[0,1,2]]\n",
    "#np.hstack([TABLE_DIMS[[0,1]], [0]])\n",
    "T_toff = SE3(Rot_axis(3,np.pi), np.divide(TABLE_DIMS[[0,1,2]]*OFF_DIR,2))\n",
    "T_co = np.matmul(np.matmul(ICP_result1, SE3(Rot_axis(1, np.pi/2), [0]*3)), T_toff)\n",
    "T_lo = np.matmul(viewpoint.Toff, T_co)\n",
    "T_bc = viewpoint.get_tf(list2dict(VIEW_POSE, gscene.joint_names))\n",
    "T_bo=np.matmul(T_bc, T_co)"
   ]
  },
  {
   "cell_type": "code",
   "execution_count": 29,
   "metadata": {},
   "outputs": [],
   "source": [
    "# fit to plane\n",
    "floor_g = gscene.NAME_DICT[\"floor\"]\n",
    "floor_height = floor_g.center[2] + floor_g.dims[2]/2\n",
    "\n",
    "# Floor Fitting\n",
    "T_bo[2,3] =  floor_height+TABLE_DIMS[2]/2\n",
    "\n",
    "# Depth scaling\n",
    "# T_bfcenter = SE3(np.identity(3), [0,0,floor_height+TABLE_DIMS[2]/2])\n",
    "# T_fc = np.matmul(SE3_inv(T_bfcenter), T_bc)\n",
    "# T_fo = np.matmul(SE3_inv(T_bfcenter), T_bo)\n",
    "# dz_cam = T_fc[2,3]\n",
    "# dz_obj = -T_fo[2,3]\n",
    "# dz_co = dz_cam + dz_obj\n",
    "# depth_newscale = dz_cam/dz_co\n",
    "# T_co_new = T_co.copy()\n",
    "# T_co_new[:3,3] *= depth_newscale\n",
    "# T_bo_new = np.matmul(T_bc, T_co_new)\n",
    "# T_co = T_co_new\n",
    "# T_bo = T_bo_new\n",
    "\n",
    "azimuth, zenith = mat2hori(T_bo[:3,:3])\n",
    "zenith_up = np.pi-zenith\n",
    "Raz = Rot_axis(3, azimuth)\n",
    "Rzn = Rot_axis(2, -zenith_up)\n",
    "Roff = np.matmul(np.matmul(Raz, Rzn), Raz.transpose())\n",
    "T_bo[:3,:3] = np.matmul(Roff, T_bo[:3,:3])\n",
    "\n",
    "gscene.add_highlight_axis(\"table\", \"center\", link_name=\"base_link\", center=T_bo[:3,3], orientation_mat=T_bo[:3,:3])\n",
    "\n",
    "# geometry 추가\n",
    "table = gscene.create_safe(gtype=GEOTYPE.BOX, name=\"table\", link_name=\"base_link\", \n",
    "                   dims=TABLE_DIMS, center=T_bo[:3,3], rpy=Rot2rpy(T_bo[:3,:3]), \n",
    "                   color=(0.8,0.8,0.8,0.5), display=True, fixed=True, collision=False)"
   ]
  },
  {
   "cell_type": "code",
   "execution_count": null,
   "metadata": {},
   "outputs": [],
   "source": []
  },
  {
   "cell_type": "code",
   "execution_count": null,
   "metadata": {},
   "outputs": [],
   "source": []
  },
  {
   "cell_type": "markdown",
   "metadata": {},
   "source": [
    "## Table size"
   ]
  },
  {
   "cell_type": "code",
   "execution_count": 30,
   "metadata": {},
   "outputs": [],
   "source": [
    "TABLE_HEIGHT = floor_height+TABLE_DIMS[2]-0.005\n",
    "TABLE_DEPTH = TABLE_DIMS[0]\n",
    "TABLE_WIDTH = TABLE_DIMS[1]\n",
    "TOOL_DIM = [0.32, 0.08]"
   ]
  },
  {
   "cell_type": "markdown",
   "metadata": {},
   "source": [
    "## select task area"
   ]
  },
  {
   "cell_type": "code",
   "execution_count": 31,
   "metadata": {},
   "outputs": [],
   "source": [
    "from demo_utils.area_select import *"
   ]
  },
  {
   "cell_type": "code",
   "execution_count": 32,
   "metadata": {},
   "outputs": [
    {
     "name": "stdout",
     "output_type": "stream",
     "text": [
      "0.25\n",
      "area_corner1: [0.88, -0.04]\n",
      "area_corner2: [0.68, 0.52]\n"
     ]
    }
   ],
   "source": [
    "corner_center, area_width, area_depth, height_goal, num_width, num_depth = \\\n",
    "    select_area(TABLE_HEIGHT, TABLE_DEPTH, TABLE_WIDTH)"
   ]
  },
  {
   "cell_type": "markdown",
   "metadata": {},
   "source": [
    "## Add table on relative target location"
   ]
  },
  {
   "cell_type": "code",
   "execution_count": 33,
   "metadata": {},
   "outputs": [
    {
     "ename": "NotImplementedError",
     "evalue": "copy loop to here",
     "output_type": "error",
     "traceback": [
      "\u001b[0;31m---------------------------------------------------------------------------\u001b[0m",
      "\u001b[0;31mNotImplementedError\u001b[0m                       Traceback (most recent call last)",
      "\u001b[0;32m<ipython-input-33-6876e1920f14>\u001b[0m in \u001b[0;36m<module>\u001b[0;34m()\u001b[0m\n\u001b[1;32m      1\u001b[0m \u001b[0;32mfor\u001b[0m \u001b[0mi_cn\u001b[0m \u001b[0;32min\u001b[0m \u001b[0mrange\u001b[0m\u001b[0;34m(\u001b[0m\u001b[0;36m4\u001b[0m\u001b[0;34m)\u001b[0m\u001b[0;34m:\u001b[0m\u001b[0;34m\u001b[0m\u001b[0m\n\u001b[1;32m      2\u001b[0m     \u001b[0mcn_cur\u001b[0m \u001b[0;34m=\u001b[0m \u001b[0mCornerRev\u001b[0m\u001b[0;34m[\u001b[0m\u001b[0mi_cn\u001b[0m\u001b[0;34m]\u001b[0m\u001b[0;34m\u001b[0m\u001b[0m\n\u001b[0;32m----> 3\u001b[0;31m     \u001b[0;32mraise\u001b[0m\u001b[0;34m(\u001b[0m\u001b[0mNotImplementedError\u001b[0m\u001b[0;34m(\u001b[0m\u001b[0;34m\"copy loop to here\"\u001b[0m\u001b[0;34m)\u001b[0m\u001b[0;34m)\u001b[0m\u001b[0;34m\u001b[0m\u001b[0m\n\u001b[0m",
      "\u001b[0;31mNotImplementedError\u001b[0m: copy loop to here"
     ]
    }
   ],
   "source": [
    "for i_cn in range(4):\n",
    "    cn_cur = CornerRev[i_cn]\n",
    "    raise(NotImplementedError(\"copy loop to here\"))"
   ]
  },
  {
   "cell_type": "code",
   "execution_count": 34,
   "metadata": {},
   "outputs": [
    {
     "name": "stdout",
     "output_type": "stream",
     "text": [
      "== Current workspace section: FrontRight\n"
     ]
    }
   ],
   "source": [
    "cn_cur = CornerRev[1]\n",
    "print(\"== Current workspace section: {}\".format(cn_cur.name))"
   ]
  },
  {
   "cell_type": "code",
   "execution_count": 35,
   "metadata": {},
   "outputs": [],
   "source": [
    "from pkg.geometry.geotype import GEOTYPE\n",
    "track = gscene.create_safe(GEOTYPE.BOX, \"track\", \"base_link\", (abs(area_depth),(area_width),0.01), \n",
    "                           tuple(corner_center)+(TABLE_HEIGHT,), rpy=(0,0,0), \n",
    "                           color=(0.8,0.8,0.8,0.8), display=True, fixed=True, collision=True)\n",
    "track_face = gscene.copy_from(track, new_name=\"track_face\", collision=False, color=(0.8,0.8,0.8,0.2))\n",
    "TRACK_DIM = np.copy(track_face.dims)\n",
    "track_face.dims = (3, 3, track.dims[2])\n",
    "gscene.update_markers_all()"
   ]
  },
  {
   "cell_type": "code",
   "execution_count": 36,
   "metadata": {},
   "outputs": [],
   "source": [
    "gscene.update_markers_all()"
   ]
  },
  {
   "cell_type": "code",
   "execution_count": 37,
   "metadata": {},
   "outputs": [],
   "source": [
    "t_corner = np.divide(table.dims, 2)\n",
    "f_corner = np.divide(track.dims, 2)"
   ]
  },
  {
   "cell_type": "code",
   "execution_count": 38,
   "metadata": {},
   "outputs": [],
   "source": [
    "T_tc = SE3(corner_orientations[cn_cur], t_corner*corner_point_dirs[cn_cur])\n",
    "T_fc = SE3(corner_orientations[cn_cur], f_corner*corner_point_dirs[cn_cur])\n",
    "T_ft = np.matmul(T_fc, SE3_inv(T_tc))\n",
    "T_bf = track.Toff\n",
    "T_bt = np.matmul(T_bf, T_ft)\n",
    "T_tb = SE3_inv(T_bt)"
   ]
  },
  {
   "cell_type": "code",
   "execution_count": 39,
   "metadata": {},
   "outputs": [],
   "source": [
    "## 6 DoF pose to go\n",
    "T_bb2 = np.matmul(table.Toff, T_tb)\n",
    "gscene.add_highlight_axis(\"target\", \"base\", \"base_link\", T_bb2[:3,3], T_bb2[:3,:3])"
   ]
  },
  {
   "cell_type": "code",
   "execution_count": null,
   "metadata": {},
   "outputs": [],
   "source": []
  },
  {
   "cell_type": "code",
   "execution_count": 40,
   "metadata": {},
   "outputs": [],
   "source": [
    "## add moved table in front of robot\n",
    "table_front = gscene.create_safe(GEOTYPE.BOX, \"table_front\", \"base_link\", \n",
    "                                 dims=table.dims, \n",
    "                                 center=T_bt[:3,3], \n",
    "                                 rpy=Rot2rpy(T_bt[:3,:3]),\n",
    "                                 color=(0.8,0.8,0.8,0.8), display=True, fixed=True, collision=True)\n",
    "\n",
    "table.color = (0.8,0.8,0.8,0.0)\n",
    "gscene.update_markers_all()\n",
    "\n",
    "corner_center_rel = np.abs(np.subtract(tuple(corner_center)+(TABLE_HEIGHT,), table_front.center))"
   ]
  },
  {
   "cell_type": "code",
   "execution_count": 41,
   "metadata": {},
   "outputs": [],
   "source": [
    "# toff = np.array([[0], [0.4], [0]]).T\n",
    "# table_front = gscene.create_safe(GEOTYPE.BOX, \"table_front\", \"base_link\", \n",
    "#                                  dims=table.dims, \n",
    "#                                  center=T_bt[:3,3]+toff, \n",
    "#                                  rpy=Rot2rpy(T_bt[:3,:3]),\n",
    "#                                  color=(0.8,0.8,0.8,0.8), display=True, fixed=True, collision=True)"
   ]
  },
  {
   "cell_type": "code",
   "execution_count": null,
   "metadata": {},
   "outputs": [],
   "source": []
  },
  {
   "cell_type": "markdown",
   "metadata": {},
   "source": [
    "### calc gaze pose"
   ]
  },
  {
   "cell_type": "code",
   "execution_count": 42,
   "metadata": {},
   "outputs": [],
   "source": [
    "if indy is not None:\n",
    "    with indy:\n",
    "        Qcur = np.deg2rad(indy.get_joint_pos())\n",
    "else:\n",
    "    Qcur = VIEW_POSE"
   ]
  },
  {
   "cell_type": "code",
   "execution_count": 43,
   "metadata": {},
   "outputs": [
    {
     "name": "stdout",
     "output_type": "stream",
     "text": [
      "GAZE: True\n"
     ]
    }
   ],
   "source": [
    "GAZE_DIST = 0.5\n",
    "\n",
    "T_bc = np.matmul(T_bt, T_tc)\n",
    "\n",
    "if cn_cur in [Corners.FrontLeft, Corners.BackLeft]:\n",
    "    T_cam_c = SE3(Rot_rpy((0,-np.pi*3/4,np.pi/2)) , (0,0,GAZE_DIST))\n",
    "elif cn_cur in [Corners.FrontRight, Corners.BackRight]:\n",
    "    T_cam_c = SE3(Rot_rpy((0,-np.pi*7/8,np.pi/2)) , (0,0,GAZE_DIST))\n",
    "\n",
    "# T_cam_c = SE3(Rot_rpy((-np.pi*5/8,-np.pi*5/8,np.pi/2)) , (0,0,GAZE_DIST))\n",
    "T_bcam = np.matmul(T_bc, SE3_inv(T_cam_c))\n",
    "T_ecam = viewpoint.Toff\n",
    "T_be = np.matmul(T_bcam, SE3_inv(T_ecam))\n",
    "gscene.add_highlight_axis(\"cam\", \"effector\", \"base_link\", T_be[:3, 3], T_be[:3,:3])\n",
    "gase_traj, success = mplan.planner.plan_py(\"indy0\", \"indy0_tcp\", np.concatenate(T2xyzquat(T_be)), \"base_link\", Qcur)\n",
    "\n",
    "print(\"GAZE: {}\".format(success))\n",
    "if success:\n",
    "    gscene.show_motion(gase_traj)\n",
    "    gase_pose = gase_traj[-1]"
   ]
  },
  {
   "cell_type": "markdown",
   "metadata": {},
   "source": [
    "## Move to gaze pose"
   ]
  },
  {
   "cell_type": "code",
   "execution_count": 44,
   "metadata": {},
   "outputs": [],
   "source": [
    "if indy is not None:\n",
    "    indy.move_joint_wp(gase_traj, None, None, None)"
   ]
  },
  {
   "cell_type": "markdown",
   "metadata": {},
   "source": [
    "## Refine plane"
   ]
  },
  {
   "cell_type": "code",
   "execution_count": 45,
   "metadata": {},
   "outputs": [
    {
     "name": "stdout",
     "output_type": "stream",
     "text": [
      "== press s to save image ==\n"
     ]
    }
   ],
   "source": [
    "# 모서리부분 근접 촬영\n",
    "rdict = stream_capture_image(ImageType.CloseView, host=CAM_HOST)\n",
    "set_cam_params(rdict['intrins'], rdict['depth_scale'])"
   ]
  },
  {
   "cell_type": "code",
   "execution_count": 46,
   "metadata": {},
   "outputs": [],
   "source": [
    "if indy is None:\n",
    "#     img_path = DATASET_DIR + \"/table_7.png\"\n",
    "#     Qcur = np.load(DATASET_DIR + '/tablepose_7.npy')\n",
    "    img_path = SAVE_DIR + '/table_right.png'\n",
    "    Qcur = np.load(SAVE_DIR + '/Qcur_table_right.npy')\n",
    "else:\n",
    "    img_path = SAVE_DIR + '/table.png'\n",
    "    with indy:\n",
    "        Qcur = indy.get_qcur()"
   ]
  },
  {
   "cell_type": "code",
   "execution_count": 47,
   "metadata": {},
   "outputs": [],
   "source": [
    "from demo_utils.detect_table import *"
   ]
  },
  {
   "cell_type": "code",
   "execution_count": 48,
   "metadata": {},
   "outputs": [
    {
     "name": "stdout",
     "output_type": "stream",
     "text": [
      "Coeffs of eq of fitting plane are :\n",
      "(-0.0014775748830957855, 0.3628635581534252, 0.9318411103491306, -0.47862168780701003)\n",
      "0.42777316941761345\n",
      "0.429046828085171\n",
      "0.42777316941761345\n",
      "0.429046828085171\n"
     ]
    },
    {
     "data": {
      "image/png": "[encoded data removed]",
      "text/plain": [
       "<Figure size 432x288 with 1 Axes>"
      ]
     },
     "metadata": {
      "needs_background": "light"
     },
     "output_type": "display_data"
    }
   ],
   "source": [
    "# 가운데에서 보정할거면 get_inliers 함수에 gaze pose에서 코너점 사진을 찍을 때, 카메라 원점부터 찍는 코너점까지의 거리를 같이 넣어줘야할 듯\n",
    "p_inliers = get_inliers(img_path, GAZE_DIST)\n",
    "\n",
    "T_bc = viewpoint.get_tf(list2dict(Qcur, gscene.joint_names))\n",
    "viewpoint.draw_traj_coords([Qcur])\n",
    "x_bo, y_bo = point_proj(T_bc, p_inliers)\n",
    "\n",
    "from pkg.utils.rotation_utils import *\n",
    "if cn_cur in [Corners.BackLeft, Corners.FrontLeft]:\n",
    "    T_bo = left_corner(x_bo, y_bo)\n",
    "elif cn_cur in [Corners.BackRight, Corners.FrontRight]:\n",
    "    T_bo = right_corner(x_bo, y_bo)\n",
    "\n",
    "TABLE_DIMS = np.array((0.785,1.80,0.735))\n",
    "TABLE_DIMS[[0,1,2]]\n",
    "gscene.add_highlight_axis(\"table\", \"center\", link_name=\"base_link\", center=T_bo[:3,3], orientation_mat=T_bo[:3,:3])\n",
    "\n",
    "# geometry\n",
    "table = gscene.create_safe(gtype=GEOTYPE.BOX, name=\"table_front\", link_name=\"base_link\", \n",
    "                   dims=TABLE_DIMS, center=T_bo[:3,3], rpy=Rot2rpy(T_bo[:3,:3]), \n",
    "                   color=(0.8,0.8,0.8,0.5), display=True, fixed=True, collision=False)"
   ]
  },
  {
   "cell_type": "code",
   "execution_count": null,
   "metadata": {},
   "outputs": [],
   "source": []
  },
  {
   "cell_type": "markdown",
   "metadata": {},
   "source": [
    "## move track"
   ]
  },
  {
   "cell_type": "code",
   "execution_count": 109,
   "metadata": {},
   "outputs": [],
   "source": [
    "from pkg.geometry.geotype import GEOTYPE\n",
    "track = gscene.create_safe(GEOTYPE.BOX, \"track\", \"base_link\", (abs(area_depth),abs(area_width),0.01), \n",
    "                           corner_center_rel*corner_point_dirs[cn_cur], \n",
    "                           rpy=Rot2rpy(corner_orientations[cn_cur]), \n",
    "                           color=(0.8,0.8,0.8,0.8), display=True, fixed=True, collision=True,\n",
    "                           parent=\"table_front\")\n",
    "track_face = gscene.copy_from(track, new_name=\"track_face\", collision=False, color=(0.8,0.8,0.8,0.2))\n",
    "TRACK_DIM = np.copy(track_face.dims)\n",
    "track_face.dims = (3, 3, track.dims[2])\n",
    "gscene.update_markers_all()"
   ]
  },
  {
   "cell_type": "markdown",
   "metadata": {},
   "source": [
    "## make work plane"
   ]
  },
  {
   "cell_type": "code",
   "execution_count": 110,
   "metadata": {},
   "outputs": [],
   "source": [
    "from pkg.planning.task.custom_rules.coverage import *\n",
    "\n",
    "TOOL_DIM = [0.32, 0.08]\n",
    "TACK_WIDTH = 0.36\n",
    "TRACK_NUM = np.ceil(np.divide(TRACK_DIM[0]-TOOL_DIM[0], TOOL_DIM[0])).astype(np.int)+1\n",
    "TRACK_STEP = TRACK_DIM[0]/TRACK_NUM\n",
    "\n",
    "img = grayscale(\"scripts/demo_202107/input.jpg\")\n",
    "\n",
    "table_X = TRACK_DIM[0]\n",
    "table_Y = TRACK_DIM[1]\n",
    "table_x = img.shape[0]\n",
    "table_y = img.shape[1]\n",
    "\n",
    "path_gap_real = TRACK_STEP\n",
    "path_gap_img = int(path_gap_real * (table_x / table_X))\n",
    "wp1_pos_img, wp2_pos_img = make_waypoint(img, path_gap_img)\n",
    "\n",
    "wp1_pos_real = np.empty([TRACK_NUM,3])\n",
    "wp1_pos_real[:,0] = wp1_pos_img[:,0] * (table_X / table_x)\n",
    "wp1_pos_real[:,1] = wp1_pos_img[:,1] * (table_Y / table_y)\n",
    "wp1_pos_real[:,1] = -wp1_pos_real[:,1];\n",
    "wp1_pos_real[:,2] = 0\n",
    "\n",
    "wp2_pos_real = np.empty([TRACK_NUM,3])\n",
    "wp2_pos_real[:,0] = wp2_pos_img[:,0] * (table_X / table_x)\n",
    "wp2_pos_real[:,1] = wp2_pos_img[:,1] * (table_Y / table_y)\n",
    "wp2_pos_real[:,1] = -wp2_pos_real[:,1];\n",
    "wp2_pos_real[:,2] = 0\n",
    "\n",
    "wp1_pos_real[:,0] -= TRACK_DIM[0]/2\n",
    "wp1_pos_real[:,1] +=  TRACK_DIM[1]/2\n",
    "wp2_pos_real[:,0] -= TRACK_DIM[0]/2\n",
    "wp2_pos_real[:,1] += TRACK_DIM[1]/2\n",
    "\n",
    "from pkg.planning.constraint.constraint_actor import Gripper2Tool, PlacePlane, SweepFramer, FixtureSlot\n",
    "from pkg.planning.constraint.constraint_common import MotionConstraint\n",
    "from pkg.planning.constraint.constraint_subject import AbstractTask, AbstractObject\n",
    "from pkg.planning.constraint.constraint_subject import SweepLineTask\n",
    "from pkg.planning.constraint.constraint_subject import SweepFrame\n",
    "\n",
    "pscene.create_binder(bname=\"track_face\", gname=\"track_face\", _type=PlacePlane, point=None)\n",
    "\n",
    "TRC_THIC = TRACK_DIM[2]\n",
    "track_list = []\n",
    "\n",
    "wp1_pos_real[:,1] -= TOOL_DIM[1]/2\n",
    "wp2_pos_real[:,1] += TOOL_DIM[1]/2\n",
    "\n",
    "for i_trc in range(TRACK_NUM):\n",
    "    wp1 = gscene.create_safe(GEOTYPE.BOX, \"wp{}a\".format(i_trc+1), \"base_link\", (TOOL_DIM[0]/2,TOOL_DIM[1]/2,TRC_THIC), \n",
    "                             wp1_pos_real[i_trc,:], rpy=(0,0,0), \n",
    "                             color=(0.8,0.2,0.2,0.2), display=True, fixed=True, collision=False, parent=\"track_face\")\n",
    "#     wp1 = gscene.create_safe(GEOTYPE.BOX, \"wp{}a\".format(i_trc+1), \"base_link\", (TOOL_DIM[0]/2,TOOL_DIM[1]/2,TRC_THIC), \n",
    "#                              (0.4, -0.01, height_goal), rpy=(0,0,0), \n",
    "#                              color=(0.8,0.2,0.2,0.2), display=True, fixed=True, collision=False)\n",
    "    wp2 = gscene.create_safe(GEOTYPE.BOX, \"wp{}b\".format(i_trc+1), \"base_link\", (TOOL_DIM[0]/2,TOOL_DIM[1]/2,TRC_THIC), \n",
    "                             wp2_pos_real[i_trc,:], rpy=(0,0,0), \n",
    "                             color=(0.8,0.2,0.2,0.2), display=True, fixed=True, collision=False, parent=\"track_face\")\n",
    "    \n",
    "    face = gscene.create_safe(GEOTYPE.BOX, \"face{}\".format(i_trc+1), \"base_link\", \n",
    "                              (TACK_WIDTH,TRACK_DIM[1],TRC_THIC), \n",
    "                             center=(wp1_pos_real[i_trc,:]+wp2_pos_real[i_trc,:])/2,rpy=(0,0,0), \n",
    "                             color=(0.8,0.2,0.2,0.2), display=True, fixed=True, collision=False, parent=\"track_face\")\n",
    "    track_list.append((wp1, wp2, face))\n",
    "gscene.update_markers_all()\n",
    "\n",
    "for sname in pscene.subject_name_list:\n",
    "    pscene.remove_subject(sname)\n",
    "    \n",
    "sweep_list = []\n",
    "for i_t, track_tem in enumerate(track_list):\n",
    "    wp1, wp2, face = track_tem\n",
    "    sweep_ = pscene.create_subject(oname=\"sweep{}\".format(i_t+1), gname=\"track_face\", _type=SweepLineTask, \n",
    "                                   action_points_dict = {wp1.name: SweepFrame(wp1.name, wp1, [0,0,0.005], [0,0,0]),\n",
    "                                                       wp2.name: SweepFrame(wp2.name, wp2, [0,0,0.005], [0,0,0])}, \n",
    "                                   clearance=[face])\n",
    "    sweep_list.append(sweep_)"
   ]
  },
  {
   "cell_type": "code",
   "execution_count": null,
   "metadata": {},
   "outputs": [],
   "source": []
  },
  {
   "cell_type": "code",
   "execution_count": null,
   "metadata": {},
   "outputs": [],
   "source": []
  }
 ],
 "metadata": {
  "kernelspec": {
   "display_name": "Python 2",
   "language": "python",
   "name": "python2"
  },
  "language_info": {
   "codemirror_mode": {
    "name": "ipython",
    "version": 2
   },
   "file_extension": ".py",
   "mimetype": "text/x-python",
   "name": "python",
   "nbconvert_exporter": "python",
   "pygments_lexer": "ipython2",
   "version": "2.7.17"
  }
 },
 "nbformat": 4,
 "nbformat_minor": 2
}
