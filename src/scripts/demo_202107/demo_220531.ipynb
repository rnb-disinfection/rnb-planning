{
 "cells": [
  {
   "cell_type": "markdown",
   "metadata": {},
   "source": [
    "# Demo Script for testing new platform"
   ]
  },
  {
   "cell_type": "markdown",
   "metadata": {},
   "source": [
    "## Make sweep motion (220531)"
   ]
  },
  {
   "cell_type": "code",
   "execution_count": 1,
   "metadata": {},
   "outputs": [],
   "source": [
    "from indy_utils import indydcp_client as client\n",
    "\n",
    "import json\n",
    "import time\n",
    "import threading\n",
    "import numpy as np\n",
    "\n",
    "robot_ip = \"192.168.1.6\"  # Robot (Indy) IP\n",
    "robot_name = \"NRMK-Indy7\"  # Robot name (Indy7)\n",
    "\n",
    "# Create class object\n",
    "indy = client.IndyDCPClient(robot_ip, robot_name)"
   ]
  },
  {
   "cell_type": "code",
   "execution_count": 2,
   "metadata": {},
   "outputs": [
    {
     "name": "stdout",
     "output_type": "stream",
     "text": [
      "Connect: Server IP (192.168.1.6)\n"
     ]
    },
    {
     "data": {
      "text/plain": [
       "True"
      ]
     },
     "execution_count": 2,
     "metadata": {},
     "output_type": "execute_result"
    }
   ],
   "source": [
    "# Connect to robot\n",
    "indy.connect()"
   ]
  },
  {
   "cell_type": "code",
   "execution_count": 3,
   "metadata": {},
   "outputs": [],
   "source": [
    "def wait_motion(period=1e-1):\n",
    "    while not indy.get_robot_status()['movedone']:\n",
    "        time.sleep(period)\n",
    "        \n",
    "def joint_move_make_sure(Q, N_repeat=2):\n",
    "    for _ in range(N_repeat):\n",
    "        indy.joint_move_to(Q)\n",
    "        wait_motion()"
   ]
  },
  {
   "cell_type": "code",
   "execution_count": 4,
   "metadata": {},
   "outputs": [],
   "source": [
    "pos_home = list(np.array([-1.,  21., -55.,  -3., -89., -88.]))\n",
    "# pos_wp1 = list(np.array([ -0.,  -9., -55.,  -1., -52., -88.]))\n",
    "pos_wp2 = list(np.array([  0., -45., -55.,  -1.,  -4., -88.]))\n",
    "pos_wp3 = list(np.array([  -3.,   15., -126.,   -2.,   -2.,  -89.]))\n",
    "# pos_wp4 = list(np.array([ -2.,  15., -64.,  -2., -54., -89.]))\n",
    "indy.joint_move_to(pos_home)"
   ]
  },
  {
   "cell_type": "code",
   "execution_count": 5,
   "metadata": {},
   "outputs": [],
   "source": [
    "pos_list = []\n",
    "# pos_list.append(pos_wp1)\n",
    "pos_list.append(pos_wp2)\n",
    "pos_list.append(pos_wp3)\n",
    "# pos_list.append(pos_wp4)\n",
    "pos_list.append(pos_home)"
   ]
  },
  {
   "cell_type": "code",
   "execution_count": 6,
   "metadata": {},
   "outputs": [],
   "source": [
    "# j_pos = indy.get_joint_pos()\n",
    "# print(\"j_pos(degree)\", np.round(np.array(j_pos)))\n",
    "# pos_list.append(j_pos)"
   ]
  },
  {
   "cell_type": "code",
   "execution_count": 7,
   "metadata": {
    "scrolled": true
   },
   "outputs": [],
   "source": [
    "# execute bed sweep motion\n",
    "for i in range(len(pos_list)):\n",
    "    joint_move_make_sure(pos_list[i])"
   ]
  },
  {
   "cell_type": "code",
   "execution_count": 3,
   "metadata": {},
   "outputs": [],
   "source": [
    "indy.disconnect()"
   ]
  },
  {
   "cell_type": "code",
   "execution_count": null,
   "metadata": {},
   "outputs": [],
   "source": []
  }
 ],
 "metadata": {
  "kernelspec": {
   "display_name": "Python 2",
   "language": "python",
   "name": "python2"
  },
  "language_info": {
   "codemirror_mode": {
    "name": "ipython",
    "version": 2
   },
   "file_extension": ".py",
   "mimetype": "text/x-python",
   "name": "python",
   "nbconvert_exporter": "python",
   "pygments_lexer": "ipython2",
   "version": "2.7.17"
  }
 },
 "nbformat": 4,
 "nbformat_minor": 2
}
