{
 "cells": [
  {
   "cell_type": "code",
   "execution_count": 1,
   "metadata": {},
   "outputs": [],
   "source": [
    "import os\n",
    "import sys\n",
    "sys.path.append(os.path.join(os.path.join(\n",
    "    os.environ[\"RNB_PLANNING_DIR\"], 'src')))"
   ]
  },
  {
   "cell_type": "code",
   "execution_count": 2,
   "metadata": {},
   "outputs": [],
   "source": [
    "from pkg.controller.trajectory_client.kiro.kiro_tool import *"
   ]
  },
  {
   "cell_type": "code",
   "execution_count": 3,
   "metadata": {
    "scrolled": true
   },
   "outputs": [
    {
     "name": "stdout",
     "output_type": "stream",
     "text": [
      "Connected COM ports: ['/dev/ttyS0', '/dev/ttyUSB0']\n"
     ]
    }
   ],
   "source": [
    "print_com_ports()"
   ]
  },
  {
   "cell_type": "code",
   "execution_count": 4,
   "metadata": {
    "scrolled": true
   },
   "outputs": [
    {
     "name": "stdout",
     "output_type": "stream",
     "text": [
      "==== Kiro Tool connected to /dev/ttyUSB0 (115200) ====\n",
      "[KTOOL] initialize\n",
      "[KTOOL] enable\n",
      "[KTOOL] recv [161, 0, 0, 0]\n",
      "[KTOOL] op_init\n",
      "[KTOOL] recv [163, 255, 0, 0]\n",
      "[KTOOL] led_off\n"
     ]
    }
   ],
   "source": [
    "ktp = KiroToolPort('/dev/ttyUSB0')"
   ]
  },
  {
   "cell_type": "code",
   "execution_count": 7,
   "metadata": {},
   "outputs": [
    {
     "name": "stdout",
     "output_type": "stream",
     "text": [
      "[KTOOL] enable\n",
      "[KTOOL] recv [161, 0, 0, 0]\n"
     ]
    },
    {
     "data": {
      "text/plain": [
       "True"
      ]
     },
     "execution_count": 7,
     "metadata": {},
     "output_type": "execute_result"
    }
   ],
   "source": [
    "ktp.enable()"
   ]
  },
  {
   "cell_type": "code",
   "execution_count": 8,
   "metadata": {},
   "outputs": [
    {
     "name": "stdout",
     "output_type": "stream",
     "text": [
      "[KTOOL] op_init\n",
      "[KTOOL] recv [163, 255, 0, 0]\n"
     ]
    },
    {
     "data": {
      "text/plain": [
       "True"
      ]
     },
     "execution_count": 8,
     "metadata": {},
     "output_type": "execute_result"
    }
   ],
   "source": [
    "ktp.op_init()"
   ]
  },
  {
   "cell_type": "code",
   "execution_count": 7,
   "metadata": {},
   "outputs": [
    {
     "name": "stdout",
     "output_type": "stream",
     "text": [
      "[KTOOL] roll_forward\n",
      "[KTOOL] send (<MOTOR_CMD.OP: 2>, <OP_CMD.FWD: 1>)\n",
      "02:01:00:00:\n",
      "[KTOOL] recv [162, 255, 0, 0]\n"
     ]
    },
    {
     "data": {
      "text/plain": [
       "True"
      ]
     },
     "execution_count": 7,
     "metadata": {},
     "output_type": "execute_result"
    }
   ],
   "source": [
    "ktp.roll_forward()"
   ]
  },
  {
   "cell_type": "code",
   "execution_count": 8,
   "metadata": {},
   "outputs": [],
   "source": [
    "# ktp.roll_back()"
   ]
  },
  {
   "cell_type": "code",
   "execution_count": null,
   "metadata": {},
   "outputs": [],
   "source": []
  },
  {
   "cell_type": "code",
   "execution_count": 6,
   "metadata": {},
   "outputs": [
    {
     "name": "stdout",
     "output_type": "stream",
     "text": [
      "[KTOOL] led_on\n",
      "[KTOOL] recv [162, 5, 0, 0]\n"
     ]
    },
    {
     "data": {
      "text/plain": [
       "True"
      ]
     },
     "execution_count": 6,
     "metadata": {},
     "output_type": "execute_result"
    }
   ],
   "source": [
    "ktp.led_on()"
   ]
  },
  {
   "cell_type": "code",
   "execution_count": 5,
   "metadata": {
    "scrolled": true
   },
   "outputs": [
    {
     "name": "stdout",
     "output_type": "stream",
     "text": [
      "[KTOOL] led_off\n"
     ]
    }
   ],
   "source": [
    "ktp.led_off()"
   ]
  },
  {
   "cell_type": "code",
   "execution_count": null,
   "metadata": {},
   "outputs": [],
   "source": [
    "ktp.send_degree(0)"
   ]
  },
  {
   "cell_type": "code",
   "execution_count": 7,
   "metadata": {
    "scrolled": true
   },
   "outputs": [
    {
     "name": "stdout",
     "output_type": "stream",
     "text": [
      "[KTOOL] led_on\n",
      "[KTOOL] send (<MOTOR_CMD.OP: 2>, <OP_CMD.LED_ON: 4>)\n",
      "[KTOOL] recv \u0002�\u0004\u0000\u0000�\u0003\n",
      "[KTOOL] led_off\n",
      "[KTOOL] send (<MOTOR_CMD.OP: 2>, <OP_CMD.LED_OFF: 5>)\n",
      "[KTOOL] recv \u0002�\u0005\u0000\u0000�\u0003\n",
      "[KTOOL] led_on\n",
      "[KTOOL] send (<MOTOR_CMD.OP: 2>, <OP_CMD.LED_ON: 4>)\n",
      "[KTOOL] recv \u0002�\u0004\u0000\u0000�\u0003\n",
      "[KTOOL] led_off\n",
      "[KTOOL] send (<MOTOR_CMD.OP: 2>, <OP_CMD.LED_OFF: 5>)\n",
      "[KTOOL] recv \u0002�\u0005\u0000\u0000�\u0003\n",
      "[KTOOL] led_on\n",
      "[KTOOL] send (<MOTOR_CMD.OP: 2>, <OP_CMD.LED_ON: 4>)\n",
      "[KTOOL] recv \u0002�\u0004\u0000\u0000�\u0003\n",
      "[KTOOL] led_off\n",
      "[KTOOL] send (<MOTOR_CMD.OP: 2>, <OP_CMD.LED_OFF: 5>)\n",
      "[KTOOL] recv \u0002�\u0005\u0000\u0000�\u0003\n",
      "[KTOOL] led_on\n",
      "[KTOOL] send (<MOTOR_CMD.OP: 2>, <OP_CMD.LED_ON: 4>)\n",
      "[KTOOL] recv \u0002�\u0004\u0000\u0000�\u0003\n",
      "[KTOOL] led_off\n",
      "[KTOOL] send (<MOTOR_CMD.OP: 2>, <OP_CMD.LED_OFF: 5>)\n",
      "[KTOOL] recv \u0002�\u0005\u0000\u0000�\u0003\n",
      "[KTOOL] led_on\n",
      "[KTOOL] send (<MOTOR_CMD.OP: 2>, <OP_CMD.LED_ON: 4>)\n",
      "[KTOOL] recv \u0002�\u0004\u0000\u0000�\u0003\n",
      "[KTOOL] led_off\n",
      "[KTOOL] send (<MOTOR_CMD.OP: 2>, <OP_CMD.LED_OFF: 5>)\n",
      "[KTOOL] recv \u0002�\u0005\u0000\u0000�\u0003\n",
      "[KTOOL] led_on\n",
      "[KTOOL] send (<MOTOR_CMD.OP: 2>, <OP_CMD.LED_ON: 4>)\n",
      "[KTOOL] recv \u0002�\u0004\u0000\u0000�\u0003\n",
      "[KTOOL] led_off\n",
      "[KTOOL] send (<MOTOR_CMD.OP: 2>, <OP_CMD.LED_OFF: 5>)\n",
      "[KTOOL] recv \u0002�\u0005\u0000\u0000�\u0003\n",
      "[KTOOL] led_on\n",
      "[KTOOL] send (<MOTOR_CMD.OP: 2>, <OP_CMD.LED_ON: 4>)\n",
      "[KTOOL] recv \u0002�\u0004\u0000\u0000�\u0003\n",
      "[KTOOL] led_off\n",
      "[KTOOL] send (<MOTOR_CMD.OP: 2>, <OP_CMD.LED_OFF: 5>)\n",
      "[KTOOL] recv \u0002�\u0005\u0000\u0000�\u0003\n",
      "[KTOOL] led_on\n",
      "[KTOOL] send (<MOTOR_CMD.OP: 2>, <OP_CMD.LED_ON: 4>)\n",
      "[KTOOL] recv \u0002�\u0004\u0000\u0000�\u0003\n",
      "[KTOOL] led_off\n",
      "[KTOOL] send (<MOTOR_CMD.OP: 2>, <OP_CMD.LED_OFF: 5>)\n",
      "[KTOOL] recv \u0002�\u0005\u0000\u0000�\u0003\n",
      "[KTOOL] led_on\n",
      "[KTOOL] send (<MOTOR_CMD.OP: 2>, <OP_CMD.LED_ON: 4>)\n",
      "[KTOOL] recv \u0002�\u0004\u0000\u0000�\u0003\n",
      "[KTOOL] led_off\n",
      "[KTOOL] send (<MOTOR_CMD.OP: 2>, <OP_CMD.LED_OFF: 5>)\n",
      "[KTOOL] recv \u0002�\u0005\u0000\u0000�\u0003\n",
      "[KTOOL] led_on\n",
      "[KTOOL] send (<MOTOR_CMD.OP: 2>, <OP_CMD.LED_ON: 4>)\n",
      "[KTOOL] recv \u0002�\u0004\u0000\u0000�\u0003\n",
      "[KTOOL] led_off\n",
      "[KTOOL] send (<MOTOR_CMD.OP: 2>, <OP_CMD.LED_OFF: 5>)\n",
      "[KTOOL] recv \u0002�\u0005\u0000\u0000�\u0003\n",
      "[KTOOL] led_on\n",
      "[KTOOL] send (<MOTOR_CMD.OP: 2>, <OP_CMD.LED_ON: 4>)\n",
      "[KTOOL] recv \u0002�\u0004\u0000\u0000�\u0003\n",
      "[KTOOL] led_off\n",
      "[KTOOL] send (<MOTOR_CMD.OP: 2>, <OP_CMD.LED_OFF: 5>)\n",
      "[KTOOL] recv \u0002�\u0005\u0000\u0000�\u0003\n",
      "[KTOOL] led_on\n",
      "[KTOOL] send (<MOTOR_CMD.OP: 2>, <OP_CMD.LED_ON: 4>)\n",
      "[KTOOL] recv \u0002�\u0004\u0000\u0000�\u0003\n",
      "[KTOOL] led_off\n",
      "[KTOOL] send (<MOTOR_CMD.OP: 2>, <OP_CMD.LED_OFF: 5>)\n",
      "[KTOOL] recv \u0002�\u0005\u0000\u0000�\u0003\n",
      "[KTOOL] led_on\n",
      "[KTOOL] send (<MOTOR_CMD.OP: 2>, <OP_CMD.LED_ON: 4>)\n",
      "[KTOOL] recv \u0002�\u0004\u0000\u0000�\u0003\n",
      "[KTOOL] led_off\n",
      "[KTOOL] send (<MOTOR_CMD.OP: 2>, <OP_CMD.LED_OFF: 5>)\n",
      "[KTOOL] recv \u0002�\u0005\u0000\u0000�\u0003\n",
      "[KTOOL] led_on\n",
      "[KTOOL] send (<MOTOR_CMD.OP: 2>, <OP_CMD.LED_ON: 4>)\n",
      "[KTOOL] recv \u0002�\u0004\u0000\u0000�\u0003\n",
      "[KTOOL] led_off\n",
      "[KTOOL] send (<MOTOR_CMD.OP: 2>, <OP_CMD.LED_OFF: 5>)\n",
      "[KTOOL] recv \u0002�\u0005\u0000\u0000�\u0003\n",
      "[KTOOL] led_on\n",
      "[KTOOL] send (<MOTOR_CMD.OP: 2>, <OP_CMD.LED_ON: 4>)\n",
      "[KTOOL] recv \u0002�\u0004\u0000\u0000�\u0003\n"
     ]
    },
    {
     "ename": "KeyboardInterrupt",
     "evalue": "",
     "output_type": "error",
     "traceback": [
      "\u001b[0;31m---------------------------------------------------------------------------\u001b[0m",
      "\u001b[0;31mKeyboardInterrupt\u001b[0m                         Traceback (most recent call last)",
      "\u001b[0;32m<ipython-input-7-9d6dfeda460c>\u001b[0m in \u001b[0;36m<module>\u001b[0;34m()\u001b[0m\n\u001b[1;32m      1\u001b[0m \u001b[0;32mfor\u001b[0m \u001b[0mi\u001b[0m \u001b[0;32min\u001b[0m \u001b[0mrange\u001b[0m\u001b[0;34m(\u001b[0m\u001b[0;36m1000\u001b[0m\u001b[0;34m)\u001b[0m\u001b[0;34m:\u001b[0m\u001b[0;34m\u001b[0m\u001b[0m\n\u001b[1;32m      2\u001b[0m     \u001b[0mktp\u001b[0m\u001b[0;34m.\u001b[0m\u001b[0mled_on\u001b[0m\u001b[0;34m(\u001b[0m\u001b[0;34m)\u001b[0m\u001b[0;34m\u001b[0m\u001b[0m\n\u001b[0;32m----> 3\u001b[0;31m     \u001b[0mtime\u001b[0m\u001b[0;34m.\u001b[0m\u001b[0msleep\u001b[0m\u001b[0;34m(\u001b[0m\u001b[0;36m0.1\u001b[0m\u001b[0;34m)\u001b[0m\u001b[0;34m\u001b[0m\u001b[0m\n\u001b[0m\u001b[1;32m      4\u001b[0m     \u001b[0mktp\u001b[0m\u001b[0;34m.\u001b[0m\u001b[0mled_off\u001b[0m\u001b[0;34m(\u001b[0m\u001b[0;34m)\u001b[0m\u001b[0;34m\u001b[0m\u001b[0m\n\u001b[1;32m      5\u001b[0m     \u001b[0mtime\u001b[0m\u001b[0;34m.\u001b[0m\u001b[0msleep\u001b[0m\u001b[0;34m(\u001b[0m\u001b[0;36m0.1\u001b[0m\u001b[0;34m)\u001b[0m\u001b[0;34m\u001b[0m\u001b[0m\n",
      "\u001b[0;31mKeyboardInterrupt\u001b[0m: "
     ]
    }
   ],
   "source": [
    "for i in range(1000):\n",
    "    ktp.led_on()\n",
    "    time.sleep(0.1)\n",
    "    ktp.led_off()\n",
    "    time.sleep(0.1)"
   ]
  },
  {
   "cell_type": "code",
   "execution_count": 5,
   "metadata": {},
   "outputs": [
    {
     "name": "stdout",
     "output_type": "stream",
     "text": [
      "[KTOOL] send degree: -20\n",
      "[KTOOL] send (<MOTOR_CMD.OP: 2>, <OP_CMD.DEGREE: 6>, 255, 56)\n",
      "02:06:255:56:\n"
     ]
    }
   ],
   "source": [
    "ktp.send_degree(-20)"
   ]
  },
  {
   "cell_type": "code",
   "execution_count": 7,
   "metadata": {},
   "outputs": [
    {
     "name": "stdout",
     "output_type": "stream",
     "text": [
      "[KTOOL] send degree: -20.0\n",
      "[KTOOL] send (<MOTOR_CMD.OP: 2>, <OP_CMD.DEGREE: 6>, 255, 56)\n",
      "02:06:255:56:\n",
      "[KTOOL] send degree: -19.5\n",
      "[KTOOL] send (<MOTOR_CMD.OP: 2>, <OP_CMD.DEGREE: 6>, 255, 61)\n",
      "02:06:255:61:\n",
      "[KTOOL] send degree: -19.0\n",
      "[KTOOL] send (<MOTOR_CMD.OP: 2>, <OP_CMD.DEGREE: 6>, 255, 66)\n",
      "02:06:255:66:\n",
      "[KTOOL] send degree: -18.5\n",
      "[KTOOL] send (<MOTOR_CMD.OP: 2>, <OP_CMD.DEGREE: 6>, 255, 71)\n",
      "02:06:255:71:\n",
      "[KTOOL] send degree: -18.0\n",
      "[KTOOL] send (<MOTOR_CMD.OP: 2>, <OP_CMD.DEGREE: 6>, 255, 76)\n",
      "02:06:255:76:\n",
      "[KTOOL] send degree: -17.5\n",
      "[KTOOL] send (<MOTOR_CMD.OP: 2>, <OP_CMD.DEGREE: 6>, 255, 81)\n",
      "02:06:255:81:\n",
      "[KTOOL] send degree: -17.0\n",
      "[KTOOL] send (<MOTOR_CMD.OP: 2>, <OP_CMD.DEGREE: 6>, 255, 86)\n",
      "02:06:255:86:\n",
      "[KTOOL] send degree: -16.5\n",
      "[KTOOL] send (<MOTOR_CMD.OP: 2>, <OP_CMD.DEGREE: 6>, 255, 91)\n",
      "02:06:255:91:\n",
      "[KTOOL] send degree: -16.0\n",
      "[KTOOL] send (<MOTOR_CMD.OP: 2>, <OP_CMD.DEGREE: 6>, 255, 96)\n",
      "02:06:255:96:\n",
      "[KTOOL] send degree: -15.5\n",
      "[KTOOL] send (<MOTOR_CMD.OP: 2>, <OP_CMD.DEGREE: 6>, 255, 101)\n",
      "02:06:255:101:\n",
      "[KTOOL] send degree: -15.0\n",
      "[KTOOL] send (<MOTOR_CMD.OP: 2>, <OP_CMD.DEGREE: 6>, 255, 106)\n",
      "02:06:255:106:\n",
      "[KTOOL] send degree: -14.5\n",
      "[KTOOL] send (<MOTOR_CMD.OP: 2>, <OP_CMD.DEGREE: 6>, 255, 111)\n",
      "02:06:255:111:\n",
      "[KTOOL] send degree: -14.0\n",
      "[KTOOL] send (<MOTOR_CMD.OP: 2>, <OP_CMD.DEGREE: 6>, 255, 116)\n",
      "02:06:255:116:\n",
      "[KTOOL] send degree: -13.5\n",
      "[KTOOL] send (<MOTOR_CMD.OP: 2>, <OP_CMD.DEGREE: 6>, 255, 121)\n",
      "02:06:255:121:\n",
      "[KTOOL] send degree: -13.0\n",
      "[KTOOL] send (<MOTOR_CMD.OP: 2>, <OP_CMD.DEGREE: 6>, 255, 126)\n",
      "02:06:255:126:\n",
      "[KTOOL] send degree: -12.5\n",
      "[KTOOL] send (<MOTOR_CMD.OP: 2>, <OP_CMD.DEGREE: 6>, 255, 131)\n",
      "02:06:255:131:\n",
      "[KTOOL] send degree: -12.0\n",
      "[KTOOL] send (<MOTOR_CMD.OP: 2>, <OP_CMD.DEGREE: 6>, 255, 136)\n",
      "02:06:255:136:\n",
      "[KTOOL] send degree: -11.5\n",
      "[KTOOL] send (<MOTOR_CMD.OP: 2>, <OP_CMD.DEGREE: 6>, 255, 141)\n",
      "02:06:255:141:\n",
      "[KTOOL] send degree: -11.0\n",
      "[KTOOL] send (<MOTOR_CMD.OP: 2>, <OP_CMD.DEGREE: 6>, 255, 146)\n",
      "02:06:255:146:\n",
      "[KTOOL] send degree: -10.5\n",
      "[KTOOL] send (<MOTOR_CMD.OP: 2>, <OP_CMD.DEGREE: 6>, 255, 151)\n",
      "02:06:255:151:\n",
      "[KTOOL] send degree: -10.0\n",
      "[KTOOL] send (<MOTOR_CMD.OP: 2>, <OP_CMD.DEGREE: 6>, 255, 156)\n",
      "02:06:255:156:\n",
      "[KTOOL] send degree: -9.5\n",
      "[KTOOL] send (<MOTOR_CMD.OP: 2>, <OP_CMD.DEGREE: 6>, 255, 161)\n",
      "02:06:255:161:\n",
      "[KTOOL] send degree: -9.0\n",
      "[KTOOL] send (<MOTOR_CMD.OP: 2>, <OP_CMD.DEGREE: 6>, 255, 166)\n",
      "02:06:255:166:\n",
      "[KTOOL] send degree: -8.5\n",
      "[KTOOL] send (<MOTOR_CMD.OP: 2>, <OP_CMD.DEGREE: 6>, 255, 171)\n",
      "02:06:255:171:\n",
      "[KTOOL] send degree: -8.0\n",
      "[KTOOL] send (<MOTOR_CMD.OP: 2>, <OP_CMD.DEGREE: 6>, 255, 176)\n",
      "02:06:255:176:\n",
      "[KTOOL] send degree: -7.5\n",
      "[KTOOL] send (<MOTOR_CMD.OP: 2>, <OP_CMD.DEGREE: 6>, 255, 181)\n",
      "02:06:255:181:\n",
      "[KTOOL] send degree: -7.0\n",
      "[KTOOL] send (<MOTOR_CMD.OP: 2>, <OP_CMD.DEGREE: 6>, 255, 186)\n",
      "02:06:255:186:\n",
      "[KTOOL] send degree: -6.5\n",
      "[KTOOL] send (<MOTOR_CMD.OP: 2>, <OP_CMD.DEGREE: 6>, 255, 191)\n",
      "02:06:255:191:\n",
      "[KTOOL] send degree: -6.0\n",
      "[KTOOL] send (<MOTOR_CMD.OP: 2>, <OP_CMD.DEGREE: 6>, 255, 196)\n",
      "02:06:255:196:\n",
      "[KTOOL] send degree: -5.5\n",
      "[KTOOL] send (<MOTOR_CMD.OP: 2>, <OP_CMD.DEGREE: 6>, 255, 201)\n",
      "02:06:255:201:\n",
      "[KTOOL] send degree: -5.0\n",
      "[KTOOL] send (<MOTOR_CMD.OP: 2>, <OP_CMD.DEGREE: 6>, 255, 206)\n",
      "02:06:255:206:\n",
      "[KTOOL] send degree: -4.5\n",
      "[KTOOL] send (<MOTOR_CMD.OP: 2>, <OP_CMD.DEGREE: 6>, 255, 211)\n",
      "02:06:255:211:\n",
      "[KTOOL] send degree: -4.0\n",
      "[KTOOL] send (<MOTOR_CMD.OP: 2>, <OP_CMD.DEGREE: 6>, 255, 216)\n",
      "02:06:255:216:\n",
      "[KTOOL] send degree: -3.5\n",
      "[KTOOL] send (<MOTOR_CMD.OP: 2>, <OP_CMD.DEGREE: 6>, 255, 221)\n",
      "02:06:255:221:\n",
      "[KTOOL] send degree: -3.0\n",
      "[KTOOL] send (<MOTOR_CMD.OP: 2>, <OP_CMD.DEGREE: 6>, 255, 226)\n",
      "02:06:255:226:\n",
      "[KTOOL] send degree: -2.5\n",
      "[KTOOL] send (<MOTOR_CMD.OP: 2>, <OP_CMD.DEGREE: 6>, 255, 231)\n",
      "02:06:255:231:\n",
      "[KTOOL] send degree: -2.0\n",
      "[KTOOL] send (<MOTOR_CMD.OP: 2>, <OP_CMD.DEGREE: 6>, 255, 236)\n",
      "02:06:255:236:\n",
      "[KTOOL] send degree: -1.5\n",
      "[KTOOL] send (<MOTOR_CMD.OP: 2>, <OP_CMD.DEGREE: 6>, 255, 241)\n",
      "02:06:255:241:\n",
      "[KTOOL] send degree: -1.0\n",
      "[KTOOL] send (<MOTOR_CMD.OP: 2>, <OP_CMD.DEGREE: 6>, 255, 246)\n",
      "02:06:255:246:\n",
      "[KTOOL] send degree: -0.5\n",
      "[KTOOL] send (<MOTOR_CMD.OP: 2>, <OP_CMD.DEGREE: 6>, 255, 251)\n",
      "02:06:255:251:\n",
      "[KTOOL] send degree: 0.0\n",
      "[KTOOL] send (<MOTOR_CMD.OP: 2>, <OP_CMD.DEGREE: 6>, 0, 0)\n",
      "02:06:00:00:\n",
      "[KTOOL] send degree: 0.5\n",
      "[KTOOL] send (<MOTOR_CMD.OP: 2>, <OP_CMD.DEGREE: 6>, 0, 5)\n",
      "02:06:00:05:\n",
      "[KTOOL] send degree: 1.0\n",
      "[KTOOL] send (<MOTOR_CMD.OP: 2>, <OP_CMD.DEGREE: 6>, 0, 10)\n",
      "02:06:00:10:\n",
      "[KTOOL] send degree: 1.5\n",
      "[KTOOL] send (<MOTOR_CMD.OP: 2>, <OP_CMD.DEGREE: 6>, 0, 15)\n",
      "02:06:00:15:\n",
      "[KTOOL] send degree: 2.0\n",
      "[KTOOL] send (<MOTOR_CMD.OP: 2>, <OP_CMD.DEGREE: 6>, 0, 20)\n",
      "02:06:00:20:\n",
      "[KTOOL] send degree: 2.5\n",
      "[KTOOL] send (<MOTOR_CMD.OP: 2>, <OP_CMD.DEGREE: 6>, 0, 25)\n",
      "02:06:00:25:\n",
      "[KTOOL] send degree: 3.0\n",
      "[KTOOL] send (<MOTOR_CMD.OP: 2>, <OP_CMD.DEGREE: 6>, 0, 30)\n",
      "02:06:00:30:\n",
      "[KTOOL] send degree: 3.5\n",
      "[KTOOL] send (<MOTOR_CMD.OP: 2>, <OP_CMD.DEGREE: 6>, 0, 35)\n",
      "02:06:00:35:\n",
      "[KTOOL] send degree: 4.0\n",
      "[KTOOL] send (<MOTOR_CMD.OP: 2>, <OP_CMD.DEGREE: 6>, 0, 40)\n",
      "02:06:00:40:\n",
      "[KTOOL] send degree: 4.5\n",
      "[KTOOL] send (<MOTOR_CMD.OP: 2>, <OP_CMD.DEGREE: 6>, 0, 45)\n",
      "02:06:00:45:\n",
      "[KTOOL] send degree: 5.0\n",
      "[KTOOL] send (<MOTOR_CMD.OP: 2>, <OP_CMD.DEGREE: 6>, 0, 50)\n",
      "02:06:00:50:\n",
      "[KTOOL] send degree: 5.5\n",
      "[KTOOL] send (<MOTOR_CMD.OP: 2>, <OP_CMD.DEGREE: 6>, 0, 55)\n",
      "02:06:00:55:\n",
      "[KTOOL] send degree: 6.0\n",
      "[KTOOL] send (<MOTOR_CMD.OP: 2>, <OP_CMD.DEGREE: 6>, 0, 60)\n",
      "02:06:00:60:\n",
      "[KTOOL] send degree: 6.5\n",
      "[KTOOL] send (<MOTOR_CMD.OP: 2>, <OP_CMD.DEGREE: 6>, 0, 65)\n",
      "02:06:00:65:\n",
      "[KTOOL] send degree: 7.0\n",
      "[KTOOL] send (<MOTOR_CMD.OP: 2>, <OP_CMD.DEGREE: 6>, 0, 70)\n",
      "02:06:00:70:\n",
      "[KTOOL] send degree: 7.5\n",
      "[KTOOL] send (<MOTOR_CMD.OP: 2>, <OP_CMD.DEGREE: 6>, 0, 75)\n",
      "02:06:00:75:\n",
      "[KTOOL] send degree: 8.0\n",
      "[KTOOL] send (<MOTOR_CMD.OP: 2>, <OP_CMD.DEGREE: 6>, 0, 80)\n",
      "02:06:00:80:\n",
      "[KTOOL] send degree: 8.5\n",
      "[KTOOL] send (<MOTOR_CMD.OP: 2>, <OP_CMD.DEGREE: 6>, 0, 85)\n",
      "02:06:00:85:\n",
      "[KTOOL] send degree: 9.0\n",
      "[KTOOL] send (<MOTOR_CMD.OP: 2>, <OP_CMD.DEGREE: 6>, 0, 90)\n",
      "02:06:00:90:\n",
      "[KTOOL] send degree: 9.5\n",
      "[KTOOL] send (<MOTOR_CMD.OP: 2>, <OP_CMD.DEGREE: 6>, 0, 95)\n",
      "02:06:00:95:\n",
      "[KTOOL] send degree: 10.0\n",
      "[KTOOL] send (<MOTOR_CMD.OP: 2>, <OP_CMD.DEGREE: 6>, 0, 100)\n",
      "02:06:00:100:\n",
      "[KTOOL] send degree: 10.5\n",
      "[KTOOL] send (<MOTOR_CMD.OP: 2>, <OP_CMD.DEGREE: 6>, 0, 105)\n",
      "02:06:00:105:\n",
      "[KTOOL] send degree: 11.0\n",
      "[KTOOL] send (<MOTOR_CMD.OP: 2>, <OP_CMD.DEGREE: 6>, 0, 110)\n",
      "02:06:00:110:\n",
      "[KTOOL] send degree: 11.5\n",
      "[KTOOL] send (<MOTOR_CMD.OP: 2>, <OP_CMD.DEGREE: 6>, 0, 115)\n",
      "02:06:00:115:\n",
      "[KTOOL] send degree: 12.0\n",
      "[KTOOL] send (<MOTOR_CMD.OP: 2>, <OP_CMD.DEGREE: 6>, 0, 120)\n",
      "02:06:00:120:\n",
      "[KTOOL] send degree: 12.5\n",
      "[KTOOL] send (<MOTOR_CMD.OP: 2>, <OP_CMD.DEGREE: 6>, 0, 125)\n",
      "02:06:00:125:\n",
      "[KTOOL] send degree: 13.0\n",
      "[KTOOL] send (<MOTOR_CMD.OP: 2>, <OP_CMD.DEGREE: 6>, 0, 130)\n",
      "02:06:00:130:\n",
      "[KTOOL] send degree: 13.5\n",
      "[KTOOL] send (<MOTOR_CMD.OP: 2>, <OP_CMD.DEGREE: 6>, 0, 135)\n",
      "02:06:00:135:\n",
      "[KTOOL] send degree: 14.0\n",
      "[KTOOL] send (<MOTOR_CMD.OP: 2>, <OP_CMD.DEGREE: 6>, 0, 140)\n",
      "02:06:00:140:\n",
      "[KTOOL] send degree: 14.5\n",
      "[KTOOL] send (<MOTOR_CMD.OP: 2>, <OP_CMD.DEGREE: 6>, 0, 145)\n",
      "02:06:00:145:\n",
      "[KTOOL] send degree: 15.0\n",
      "[KTOOL] send (<MOTOR_CMD.OP: 2>, <OP_CMD.DEGREE: 6>, 0, 150)\n",
      "02:06:00:150:\n",
      "[KTOOL] send degree: 15.5\n",
      "[KTOOL] send (<MOTOR_CMD.OP: 2>, <OP_CMD.DEGREE: 6>, 0, 155)\n",
      "02:06:00:155:\n",
      "[KTOOL] send degree: 16.0\n",
      "[KTOOL] send (<MOTOR_CMD.OP: 2>, <OP_CMD.DEGREE: 6>, 0, 160)\n",
      "02:06:00:160:\n",
      "[KTOOL] send degree: 16.5\n",
      "[KTOOL] send (<MOTOR_CMD.OP: 2>, <OP_CMD.DEGREE: 6>, 0, 165)\n",
      "02:06:00:165:\n",
      "[KTOOL] send degree: 17.0\n",
      "[KTOOL] send (<MOTOR_CMD.OP: 2>, <OP_CMD.DEGREE: 6>, 0, 170)\n",
      "02:06:00:170:\n",
      "[KTOOL] send degree: 17.5\n",
      "[KTOOL] send (<MOTOR_CMD.OP: 2>, <OP_CMD.DEGREE: 6>, 0, 175)\n",
      "02:06:00:175:\n",
      "[KTOOL] send degree: 18.0\n",
      "[KTOOL] send (<MOTOR_CMD.OP: 2>, <OP_CMD.DEGREE: 6>, 0, 180)\n",
      "02:06:00:180:\n",
      "[KTOOL] send degree: 18.5\n",
      "[KTOOL] send (<MOTOR_CMD.OP: 2>, <OP_CMD.DEGREE: 6>, 0, 185)\n",
      "02:06:00:185:\n",
      "[KTOOL] send degree: 19.0\n",
      "[KTOOL] send (<MOTOR_CMD.OP: 2>, <OP_CMD.DEGREE: 6>, 0, 190)\n",
      "02:06:00:190:\n",
      "[KTOOL] send degree: 19.5\n",
      "[KTOOL] send (<MOTOR_CMD.OP: 2>, <OP_CMD.DEGREE: 6>, 0, 195)\n",
      "02:06:00:195:\n"
     ]
    }
   ],
   "source": [
    "for i in range(80):\n",
    "    ktp.send_degree(float(i)/2-20)\n",
    "    time.sleep(0.01)"
   ]
  },
  {
   "cell_type": "code",
   "execution_count": 10,
   "metadata": {},
   "outputs": [
    {
     "name": "stdout",
     "output_type": "stream",
     "text": [
      "[KTOOL] disable\n",
      "[KTOOL] send (<MOTOR_CMD.DISABLE: 255>, <OP_CMD.NONE: 0>)\n",
      "[KTOOL] recv [162, 5, 0, 0]\n"
     ]
    },
    {
     "data": {
      "text/plain": [
       "'\\xa2\\x05\\x00\\x00'"
      ]
     },
     "execution_count": 10,
     "metadata": {},
     "output_type": "execute_result"
    }
   ],
   "source": [
    "ktp.disable()"
   ]
  },
  {
   "cell_type": "code",
   "execution_count": 5,
   "metadata": {},
   "outputs": [],
   "source": [
    "ktp.close()"
   ]
  },
  {
   "cell_type": "code",
   "execution_count": null,
   "metadata": {},
   "outputs": [],
   "source": []
  },
  {
   "cell_type": "code",
   "execution_count": 7,
   "metadata": {},
   "outputs": [],
   "source": [
    "ktp.send_degree(-20)"
   ]
  },
  {
   "cell_type": "code",
   "execution_count": 8,
   "metadata": {},
   "outputs": [],
   "source": [
    "for i in range(80):\n",
    "    ktp.send_degree(float(i)/2-20)\n",
    "    time.sleep(0.05)"
   ]
  },
  {
   "cell_type": "code",
   "execution_count": null,
   "metadata": {},
   "outputs": [],
   "source": []
  },
  {
   "cell_type": "code",
   "execution_count": null,
   "metadata": {},
   "outputs": [],
   "source": []
  },
  {
   "cell_type": "code",
   "execution_count": 2,
   "metadata": {},
   "outputs": [],
   "source": [
    "import os\n",
    "import sys\n",
    "sys.path.append(os.path.join(os.path.join(\n",
    "    os.environ[\"RNB_PLANNING_DIR\"], 'src')))"
   ]
  },
  {
   "cell_type": "code",
   "execution_count": 3,
   "metadata": {},
   "outputs": [],
   "source": [
    "from pkg.controller.trajectory_client.kiro.kiro_tool import *"
   ]
  },
  {
   "cell_type": "code",
   "execution_count": 4,
   "metadata": {
    "scrolled": true
   },
   "outputs": [
    {
     "name": "stdout",
     "output_type": "stream",
     "text": [
      "Connected COM ports: ['/dev/ttyS0', '/dev/ttyUSB0']\n"
     ]
    }
   ],
   "source": [
    "print_com_ports()"
   ]
  },
  {
   "cell_type": "code",
   "execution_count": 5,
   "metadata": {
    "scrolled": true
   },
   "outputs": [
    {
     "name": "stdout",
     "output_type": "stream",
     "text": [
      "==== Kiro Tool connected to /dev/ttyUSB0 (115200) ====\n",
      "[KTOOL] initialize\n",
      "[KTOOL] enable\n",
      "[KTOOL] recv [161, 0, 0, 0]\n",
      "[KTOOL] op_init\n",
      "[KTOOL] recv [163, 255, 0, 0]\n",
      "[KTOOL] led_off\n"
     ]
    }
   ],
   "source": [
    "ktp = KiroToolPort('/dev/ttyUSB0')"
   ]
  },
  {
   "cell_type": "code",
   "execution_count": 1,
   "metadata": {},
   "outputs": [
    {
     "ename": "NameError",
     "evalue": "name 'ktp' is not defined",
     "output_type": "error",
     "traceback": [
      "\u001b[0;31m---------------------------------------------------------------------------\u001b[0m",
      "\u001b[0;31mNameError\u001b[0m                                 Traceback (most recent call last)",
      "\u001b[0;32m<ipython-input-1-28d921bbc887>\u001b[0m in \u001b[0;36m<module>\u001b[0;34m()\u001b[0m\n\u001b[0;32m----> 1\u001b[0;31m \u001b[0mktp\u001b[0m\u001b[0;34m.\u001b[0m\u001b[0msend_degree\u001b[0m\u001b[0;34m(\u001b[0m\u001b[0;34m-\u001b[0m\u001b[0;36m20\u001b[0m\u001b[0;34m)\u001b[0m\u001b[0;34m\u001b[0m\u001b[0m\n\u001b[0m",
      "\u001b[0;31mNameError\u001b[0m: name 'ktp' is not defined"
     ]
    }
   ],
   "source": [
    "ktp.send_degree(-20)"
   ]
  },
  {
   "cell_type": "code",
   "execution_count": 9,
   "metadata": {},
   "outputs": [
    {
     "name": "stdout",
     "output_type": "stream",
     "text": [
      "[KTOOL] op_init\n",
      "[KTOOL] recv [162, 5, 0, 0]\n",
      "[KTOOL] op_init\n",
      "[KTOOL] recv [162, 6, 0, 0]\n",
      "[KTOOL] op_init\n",
      "[KTOOL] recv [162, 6, 0, 0]\n",
      "[KTOOL] op_init\n",
      "[KTOOL] recv [162, 6, 0, 0]\n",
      "[KTOOL] op_init\n",
      "[KTOOL] recv [162, 6, 0, 0]\n",
      "[KTOOL] op_init\n",
      "[KTOOL] recv [162, 6, 0, 0]\n",
      "[KTOOL] op_init\n",
      "[KTOOL] recv [162, 6, 0, 0]\n",
      "[KTOOL] op_init\n",
      "[KTOOL] recv [162, 6, 0, 0]\n",
      "[KTOOL] op_init\n",
      "[KTOOL] recv [162, 6, 0, 0]\n",
      "[KTOOL] op_init\n",
      "[KTOOL] recv [162, 6, 0, 0]\n",
      "[KTOOL] op_init\n",
      "[KTOOL] recv [162, 6, 0, 0]\n",
      "[KTOOL] op_init\n",
      "[KTOOL] recv [162, 6, 0, 0]\n",
      "[KTOOL] op_init\n",
      "[KTOOL] recv [162, 6, 0, 0]\n",
      "[KTOOL] op_init\n",
      "[KTOOL] recv [162, 6, 0, 0]\n",
      "[KTOOL] op_init\n",
      "[KTOOL] recv [162, 6, 0, 0]\n",
      "[KTOOL] op_init\n",
      "[KTOOL] recv [162, 6, 0, 0]\n",
      "[KTOOL] op_init\n",
      "[KTOOL] recv [162, 6, 0, 0]\n",
      "[KTOOL] op_init\n",
      "[KTOOL] recv [162, 6, 0, 0]\n",
      "[KTOOL] op_init\n",
      "[KTOOL] recv [162, 6, 0, 0]\n",
      "[KTOOL] op_init\n",
      "[KTOOL] recv [162, 6, 0, 0]\n",
      "[KTOOL] op_init\n",
      "[KTOOL] recv [162, 6, 0, 0]\n",
      "[KTOOL] op_init\n",
      "[KTOOL] recv [162, 6, 0, 0]\n",
      "[KTOOL] op_init\n",
      "[KTOOL] recv [162, 6, 0, 0]\n",
      "[KTOOL] op_init\n",
      "[KTOOL] recv [162, 6, 0, 0]\n",
      "[KTOOL] op_init\n",
      "[KTOOL] recv [162, 6, 0, 0]\n",
      "[KTOOL] op_init\n",
      "[KTOOL] recv [162, 6, 0, 0]\n",
      "[KTOOL] op_init\n",
      "[KTOOL] recv [162, 6, 0, 0]\n",
      "[KTOOL] op_init\n",
      "[KTOOL] recv [162, 6, 0, 0]\n",
      "[KTOOL] op_init\n",
      "[KTOOL] recv [162, 6, 0, 0]\n",
      "[KTOOL] op_init\n",
      "[KTOOL] recv [162, 6, 0, 0]\n",
      "[KTOOL] op_init\n",
      "[KTOOL] recv [162, 6, 0, 0]\n"
     ]
    },
    {
     "ename": "KeyboardInterrupt",
     "evalue": "",
     "output_type": "error",
     "traceback": [
      "\u001b[0;31m---------------------------------------------------------------------------\u001b[0m",
      "\u001b[0;31mKeyboardInterrupt\u001b[0m                         Traceback (most recent call last)",
      "\u001b[0;32m<ipython-input-9-c2a995d8fb1d>\u001b[0m in \u001b[0;36m<module>\u001b[0;34m()\u001b[0m\n\u001b[1;32m      3\u001b[0m     \u001b[0;32mfor\u001b[0m \u001b[0mi\u001b[0m \u001b[0;32min\u001b[0m \u001b[0mrange\u001b[0m\u001b[0;34m(\u001b[0m\u001b[0;36m160\u001b[0m\u001b[0;34m)\u001b[0m\u001b[0;34m:\u001b[0m\u001b[0;34m\u001b[0m\u001b[0m\n\u001b[1;32m      4\u001b[0m         \u001b[0mktp\u001b[0m\u001b[0;34m.\u001b[0m\u001b[0msend_degree\u001b[0m\u001b[0;34m(\u001b[0m\u001b[0mfloat\u001b[0m\u001b[0;34m(\u001b[0m\u001b[0mi\u001b[0m\u001b[0;34m)\u001b[0m\u001b[0;34m/\u001b[0m\u001b[0;36m4\u001b[0m\u001b[0;34m-\u001b[0m\u001b[0;36m20\u001b[0m\u001b[0;34m)\u001b[0m\u001b[0;34m\u001b[0m\u001b[0m\n\u001b[0;32m----> 5\u001b[0;31m         \u001b[0mtime\u001b[0m\u001b[0;34m.\u001b[0m\u001b[0msleep\u001b[0m\u001b[0;34m(\u001b[0m\u001b[0;36m0.05\u001b[0m\u001b[0;34m)\u001b[0m\u001b[0;34m\u001b[0m\u001b[0m\n\u001b[0m\u001b[1;32m      6\u001b[0m \u001b[0;34m\u001b[0m\u001b[0m\n\u001b[1;32m      7\u001b[0m     \u001b[0mktp\u001b[0m\u001b[0;34m.\u001b[0m\u001b[0mop_init\u001b[0m\u001b[0;34m(\u001b[0m\u001b[0;34m)\u001b[0m\u001b[0;34m\u001b[0m\u001b[0m\n",
      "\u001b[0;31mKeyboardInterrupt\u001b[0m: "
     ]
    }
   ],
   "source": [
    "while True:\n",
    "    ktp.op_init()\n",
    "    time.sleep(0.5)\n",
    "    for i in range(160):\n",
    "        ktp.send_degree(float(i)/4-20)\n",
    "        time.sleep(0.05)\n",
    "\n",
    "    ktp.op_init()\n",
    "    time.sleep(0.5)\n",
    "    for i in range(160):\n",
    "        ktp.send_degree(-float(i)/4+20)\n",
    "        time.sleep(0.05)"
   ]
  },
  {
   "cell_type": "code",
   "execution_count": 8,
   "metadata": {},
   "outputs": [],
   "source": []
  },
  {
   "cell_type": "code",
   "execution_count": null,
   "metadata": {},
   "outputs": [],
   "source": []
  }
 ],
 "metadata": {
  "kernelspec": {
   "display_name": "Python 2",
   "language": "python",
   "name": "python2"
  },
  "language_info": {
   "codemirror_mode": {
    "name": "ipython",
    "version": 2
   },
   "file_extension": ".py",
   "mimetype": "text/x-python",
   "name": "python",
   "nbconvert_exporter": "python",
   "pygments_lexer": "ipython2",
   "version": "2.7.17"
  }
 },
 "nbformat": 4,
 "nbformat_minor": 2
}
