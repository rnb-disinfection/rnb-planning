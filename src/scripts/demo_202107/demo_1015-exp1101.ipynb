{
 "cells": [
  {
   "cell_type": "markdown",
   "metadata": {},
   "source": [
    "# Demo Script for Milestone 10.15"
   ]
  },
  {
   "cell_type": "markdown",
   "metadata": {},
   "source": [
    "## 0 Prepare task"
   ]
  },
  {
   "cell_type": "markdown",
   "metadata": {},
   "source": [
    "### 0.1 prepare planning scene"
   ]
  },
  {
   "cell_type": "markdown",
   "metadata": {},
   "source": [
    "#### Run camera server on the camera computer (192.168.0.10, use vnc viewer)\n",
    "```bash\n",
    "python stream_server.py --ip='192.168.0.10' # camera pc ip\n",
    "```\n",
    "\n",
    "#### Run shared detector on bash\n",
    "```bash\n",
    "python3 /home/jhkim/Projects/rnb-planning/src/scripts/milestone_202110/utils/shared_detector.py\n",
    "```\n",
    "\n",
    "#### Check and request ip setting from mobile udp client (robot-side)"
   ]
  },
  {
   "cell_type": "markdown",
   "metadata": {},
   "source": [
    "#### 0.1.1 Set parameters and create planning scene"
   ]
  },
  {
   "cell_type": "code",
   "execution_count": 1,
   "metadata": {},
   "outputs": [
    {
     "name": "stdout",
     "output_type": "stream",
     "text": [
      "Current PC IP: 192.168.0.8\n",
      "Mobile ROB IP: 192.168.0.102\n",
      "CAM SERVER IP: 192.168.0.10\n"
     ]
    }
   ],
   "source": [
    "import numpy as np\n",
    "\n",
    "CONNECT_CAM = False\n",
    "ENABLE_DETECT = False\n",
    "\n",
    "CONNECT_INDY = False\n",
    "CONNECT_MOBILE = False\n",
    "\n",
    "VISUALIZE = True\n",
    "PLANNING_MULTIPROC = True\n",
    "\n",
    "ROS_MASTER_ON_MOBILE = False\n",
    "# Tool dimensions\n",
    "TOOL_DIM = [0.08, 0.32]\n",
    "# TOOL_OFFSET = 0.01\n",
    "TOOL_OFFSET = 0.1 # tested one\n",
    "MARGIN = 0\n",
    "TRACK_THICKNESS = 0.001\n",
    "\n",
    "INDY_BASE_OFFSET = (0.172,0,0.439)\n",
    "INDY_BASE_RPY = (0,0,0)\n",
    "TOOL_NAME = \"brush_face\"\n",
    "WALL_THICKNESS = 0.01\n",
    "CLEARANCE = 0.001\n",
    "\n",
    "IP_CUR = \"192.168.0.8\"# get_ip_address()\n",
    "MOBILE_IP = \"192.168.0.102\"\n",
    "INDY_IP = \"192.168.0.3\"\n",
    "CAM_HOST = '192.168.0.10'\n",
    "\n",
    "print(\"Current PC IP: {}\".format(IP_CUR))\n",
    "print(\"Mobile ROB IP: {}\".format(MOBILE_IP))\n",
    "print(\"CAM SERVER IP: {}\".format(CAM_HOST))"
   ]
  },
  {
   "cell_type": "code",
   "execution_count": 2,
   "metadata": {
    "scrolled": false
   },
   "outputs": [
    {
     "name": "stdout",
     "output_type": "stream",
     "text": [
      "connection command:\n",
      "kmb0: True\n",
      "indy1: False\n",
      "Unable to register with master node [http://localhost:11311]: master may not be running yet. Will keep trying.\n",
      "Please create a subscriber to the marker\n",
      "publication OK\n",
      "published: [0, 0, 0, 0, 0, 0, 0, 0, 0, 0, 0, 0]\n",
      "Please create a subscriber to the marker\n",
      "Loaded: indy7-frontZ-PRQ.pkl\n",
      "Loaded: indy7-frontX-PRQ.pkl\n",
      "Loaded: indy7-upZ-PRQ.pkl\n",
      "Loaded: indy7-downZ-PRQ.pkl\n"
     ]
    }
   ],
   "source": [
    "import os\n",
    "import sys\n",
    "sys.path.append(os.path.join(os.path.join(\n",
    "    os.environ[\"RNB_PLANNING_DIR\"], 'src')))\n",
    "sys.path.append(os.path.join(\n",
    "    os.environ[\"RNB_PLANNING_DIR\"], 'src/scripts/milestone_202110'))\n",
    "\n",
    "from pkg.global_config import RNB_PLANNING_DIR\n",
    "from pkg.utils.utils import *    \n",
    "from pkg.utils.rotation_utils import *\n",
    "from pkg.controller.combined_robot import *\n",
    "from demo_utils.streaming import *\n",
    "from demo_utils.detect_table import *\n",
    "from demo_utils.area_select import *\n",
    "from pkg.detector.aruco.marker_config import get_aruco_map\n",
    "aruco_map = get_aruco_map()\n",
    "\n",
    "from pkg.geometry.builder.scene_builder import SceneBuilder\n",
    "from demo_utils.environment import *\n",
    "from demo_utils.area_select import DATASET_DIR, SweepDirections\n",
    "\n",
    "from utils.streaming import *\n",
    "from utils.detection_util import *\n",
    "\n",
    "\n",
    "from pkg.utils.shared_function import *\n",
    "super_clear_shared_memory(\n",
    "    names=['shared_fun.init_node.kiromobilemap.__request__',\n",
    "           'shared_fun.init_node.kiromobilemap.__response__',\n",
    "           'shared_fun.get_maps.kiromobilemap.__request__',\n",
    "           'shared_fun.get_maps.kiromobilemap.__response__',\n",
    "           'shared_fun.get_maps.kiromobilemap.0',\n",
    "           'shared_fun.get_maps.kiromobilemap.1',\n",
    "           'shared_fun.get_maps.kiromobilemap.2',\n",
    "           'shared_fun.server.KiroMobileMap.paired',\n",
    "           'shared_fun.global.error'])\n",
    "\n",
    "mobile_config = RobotConfig(0, RobotType.kmb, ((0,0,0), (0,0,0)),\n",
    "                \"{}/{}\".format(MOBILE_IP, IP_CUR), \n",
    "                            specs={\"dummy\":not CONNECT_MOBILE})\n",
    "robot_config = RobotConfig(1, RobotType.indy7, \n",
    "                           (INDY_BASE_OFFSET, INDY_BASE_RPY),\n",
    "                INDY_IP, root_on=\"kmb0_platform\", \n",
    "                           specs={\"no_sdk\":True})\n",
    "MOBILE_NAME = mobile_config.get_indexed_name()\n",
    "ROBOT_NAME = robot_config.get_indexed_name()\n",
    "crob = CombinedRobot(robots_on_scene=[mobile_config, robot_config]\n",
    "              , connection_list=[True, CONNECT_INDY])\n",
    "\n",
    "s_builder = SceneBuilder(None)\n",
    "SceneBuilder.autostart_roscore = not ROS_MASTER_ON_MOBILE\n",
    "gscene = s_builder.create_gscene(crob)\n",
    "\n",
    "gtems = s_builder.add_robot_geometries(\n",
    "    color=(0,1,0,0.5), display=True, collision=True)\n",
    "gscene.set_workspace_boundary(\n",
    "    -4, 8, -7, 7, -CLEARANCE, 3, thickness=WALL_THICKNESS)\n",
    "\n",
    "\n",
    "from pkg.planning.scene import PlanningScene\n",
    "pscene = PlanningScene(gscene, combined_robot=crob)\n",
    "\n",
    "ROBOT_BASE = pscene.robot_chain_dict[ROBOT_NAME]['link_names'][0]\n",
    "TIP_LINK = pscene.robot_chain_dict[ROBOT_NAME][\"tip_link\"]\n",
    "MOBILE_BASE = pscene.robot_chain_dict[MOBILE_NAME][\"tip_link\"]\n",
    "HOLD_LINK = MOBILE_BASE\n",
    "\n",
    "viewpoint = add_cam(gscene, tool_link=TIP_LINK)\n",
    "# add_indy_tool_kiro(gscene, tool_link=TIP_LINK, \n",
    "# face_name=TOOL_NAME, zoff=TOOL_OFFSET)\n",
    "\n",
    "HOME_POSE = -crob.home_pose\n",
    "HOME_DICT = list2dict(HOME_POSE, gscene.joint_names)\n",
    "\n",
    "from pkg.planning.pipeline import PlanningPipeline\n",
    "ppline = PlanningPipeline(pscene)\n",
    "\n",
    "# Set planner\n",
    "from pkg.planning.motion.moveit.moveit_planner import MoveitPlanner\n",
    "from pkg.planning.filtering.grasp_filter import GraspChecker\n",
    "mplan = MoveitPlanner(pscene, enable_dual=False, \n",
    "                      incremental_constraint_motion=True)\n",
    "mplan.motion_filters = [GraspChecker(pscene)]\n",
    "mplan.update_gscene()\n",
    "gcheck = GraspChecker(pscene)\n",
    "mplan.motion_filters = [gcheck]\n",
    "\n",
    "mplan.reset_PRQdict(enable_PRQ=True, radii=5e-2)\n",
    "for tip_dir, SWEEP_AXIS in [\n",
    "    (SweepDirections.front, \"Z\"), (SweepDirections.front, \"X\"), (SweepDirections.up, \"Z\"), (SweepDirections.down, \"Z\")]:\n",
    "    filename = SweepDirections.get_file_name(RobotType.indy7, tip_dir.name+SWEEP_AXIS)+\"-PRQ.pkl\"\n",
    "    PRQ_PATH = os.path.join(DATASET_DIR, filename)\n",
    "    try:\n",
    "        Pos_Rotvec_Qlist_dict = load_pickle(PRQ_PATH)\n",
    "        mplan.register_PRQ(ROBOT_NAME, Pos_Rotvec_Qlist_dict, decimal=2)\n",
    "        print(\"Loaded: {}\".format(filename))\n",
    "    except:\n",
    "        print(\"File not exist: {}\".format(filename))\n",
    "        continue\n",
    "\n",
    "from pkg.planning.task.rrt import TaskRRT\n",
    "tplan = TaskRRT(pscene)\n",
    "tplan.prepare()\n",
    "ppline.set_motion_planner(mplan)\n",
    "ppline.set_task_planner(tplan)\n",
    "\n",
    "\n",
    "add_kiro_indytool_down(gscene, zoff=TOOL_OFFSET, \n",
    "                       tool_link=TIP_LINK, face_name=TOOL_NAME)\n",
    "\n",
    "# Register binders\n",
    "from pkg.planning.constraint.constraint_actor import VacuumTool, \\\n",
    "    Gripper2Tool, PlacePlane, SweepFramer, WayFramer\n",
    "\n",
    "brush_face = pscene.create_binder(\n",
    "    bname=TOOL_NAME, gname=TOOL_NAME, _type=SweepFramer, \n",
    "    point=(0,0, -gscene.NAME_DICT['brush_face'].dims[2]/2-CLEARANCE), \n",
    "    rpy=(0,0,0))\n",
    "\n",
    "\n",
    "# waypoint\n",
    "WP_DIMS = (0.6,0.4,WALL_THICKNESS)\n",
    "gscene.create_safe(\n",
    "    gtype=GEOTYPE.BOX, name=\"wayframer\", link_name=HOLD_LINK,\n",
    "    dims=WP_DIMS, center=(0,0,WP_DIMS[2]/2), rpy=(0,0,0), \n",
    "    color=(1, 0, 0, 1), display=True,\n",
    "    collision=False, fixed=True)\n",
    "wayframer = pscene.create_binder(\n",
    "    bname=\"wayframer\", gname=\"wayframer\", _type=WayFramer, \n",
    "    point=(0,0,-WP_DIMS[2]/2-CLEARANCE), rpy=(0,0,0))\n",
    "\n",
    "gscene.create_safe(\n",
    "    gtype=GEOTYPE.BOX, name=\"floor_box\", link_name=\"base_link\",\n",
    "    dims=(15,15,0.4), center=(0,0,0), rpy=(0,0,0), \n",
    "    color=(1, 1, 1, 0.1), display=True, collision=False, fixed=True)\n",
    "\n",
    "gscene.add_highlight_axis(\"hl\", \"base_coord\", T=np.identity(4), dims=(0.5,0.1,0.1))\n",
    "\n",
    "kmb = crob.robot_dict[\"kmb0\"]\n",
    "indy = crob.robot_dict[\"indy1\"]\n",
    "mobile_box = gscene.NAME_DICT['kmb0_platform_Box_2']"
   ]
  },
  {
   "cell_type": "code",
   "execution_count": 74,
   "metadata": {},
   "outputs": [],
   "source": [
    "\n",
    "from pkg.ui.ui_broker import *\n",
    "\n",
    "# start UI\n",
    "ui_broker = UIBroker.instance()\n",
    "ui_broker.initialize(ppline, s_builder)\n",
    "ui_broker.start_server()\n",
    "\n",
    "ui_broker.set_tables()"
   ]
  },
  {
   "cell_type": "code",
   "execution_count": null,
   "metadata": {},
   "outputs": [],
   "source": []
  },
  {
   "cell_type": "code",
   "execution_count": null,
   "metadata": {},
   "outputs": [],
   "source": []
  },
  {
   "cell_type": "markdown",
   "metadata": {},
   "source": [
    "#### 0.1.2 Load saved environment map"
   ]
  },
  {
   "cell_type": "code",
   "execution_count": 3,
   "metadata": {},
   "outputs": [],
   "source": [
    "from demo_utils.ros_map_utils import KiroMobileMap\n",
    "kmm = KiroMobileMap(MOBILE_IP, IP_CUR, CONNECT_MOBILE)\n",
    "            \n",
    "VALID_BOX_SCALE = 0.8\n",
    "VALID_SCORE_CUT = 80 \n",
    "kmb.validifier = (lambda Q: \n",
    "                  np.max(\n",
    "                      kmm.get_box_costs(mobile_box, Q, kmm.T_bil, kmm.lcost_im, kmm.lresolution, \n",
    "                                        scale=VALID_BOX_SCALE))<VALID_SCORE_CUT)\n"
   ]
  },
  {
   "cell_type": "code",
   "execution_count": 4,
   "metadata": {},
   "outputs": [],
   "source": [
    "kmm.init_node(timeout=10)"
   ]
  },
  {
   "cell_type": "code",
   "execution_count": 5,
   "metadata": {},
   "outputs": [
    {
     "name": "stdout",
     "output_type": "stream",
     "text": [
      "Connect: Server IP (192.168.0.3)\n"
     ]
    }
   ],
   "source": [
    "def update_map(timeout=5, try_num=5, time_wait=0):\n",
    "    time.sleep(time_wait)\n",
    "    maps = None\n",
    "    for i in range(try_num):\n",
    "        maps = kmm.get_maps(timeout=timeout)\n",
    "        kmm.maps = maps\n",
    "        Q_map = crob.get_real_robot_pose()\n",
    "        if not CONNECT_MOBILE:\n",
    "            Q_map[:6] = kmb.xyzw2joints(load_pickle(os.path.join(os.environ[\"RNB_PLANNING_DIR\"],\"data/cur_xyzw_view.pkl\")))\n",
    "        Tbm_map = gscene.get_tf(MOBILE_BASE, Q_map)\n",
    "        kmm.set_maps(*maps, T_bm=Tbm_map, canny_ksize=10)\n",
    "        \n",
    "        gscene.show_pose(Q_map)    \n",
    "        pt_list, costs = kmm.convert_im2scene(kmm.cost_im>0, kmm.resolution, kmm.T_bi, img_cost=kmm.cost_im)\n",
    "        pt_list = np.subtract(pt_list, (0,0,kmm.resolution))\n",
    "        YlOrRd = plt.get_cmap(\"YlOrRd\")\n",
    "        gcost_mesh = kmm.add_to_scene(\"global_cost\", gscene, pt_list, kmm.resolution/2, costs, \n",
    "                                      colormap=lambda x: YlOrRd(x/2))\n",
    "\n",
    "        lpt_list, lcosts = kmm.convert_im2scene(kmm.lcost_im>0, kmm.lresolution, kmm.T_bil, img_cost=kmm.lcost_im)\n",
    "        lpt_list = np.subtract(lpt_list, (0,0,kmm.resolution*2))\n",
    "#         lcost_mesh = kmm.add_to_scene(\"local_cost\", gscene, lpt_list, kmm.lresolution, lcosts)\n",
    "#         lcost_mesh = kmm.add_to_scene(\"local_cost\", gscene, lpt_list, kmm.lresolution, lcosts)\n",
    "        if  maps is not None:\n",
    "            break\n",
    "# Local transformation 계산 다시 확인 필요\n",
    "# 한번만 가능 - ROSMASTER가 정상 연결된 상태가 아니라서?\n",
    "update_map(timeout=10)"
   ]
  },
  {
   "cell_type": "code",
   "execution_count": null,
   "metadata": {},
   "outputs": [],
   "source": []
  },
  {
   "cell_type": "markdown",
   "metadata": {},
   "source": [
    "## 1. Detect scene"
   ]
  },
  {
   "cell_type": "markdown",
   "metadata": {},
   "source": [
    "### 1.0 Wait task start queue"
   ]
  },
  {
   "cell_type": "markdown",
   "metadata": {},
   "source": [
    "### 1.1 Detect bed"
   ]
  },
  {
   "cell_type": "code",
   "execution_count": 6,
   "metadata": {},
   "outputs": [],
   "source": [
    "from utils.shared_detector import SharedDetector\n",
    "sd = SharedDetector()\n",
    "sd.init()"
   ]
  },
  {
   "cell_type": "markdown",
   "metadata": {},
   "source": [
    "#### 1.1.1 Move to bed-seek pose "
   ]
  },
  {
   "cell_type": "code",
   "execution_count": 7,
   "metadata": {},
   "outputs": [
    {
     "name": "stdout",
     "output_type": "stream",
     "text": [
      "Connect: Server IP (192.168.0.3)\n",
      "Move finished!\n"
     ]
    }
   ],
   "source": [
    "Q_CUR = kmb.get_qcur()\n",
    "\n",
    "VIEW_POSE = np.deg2rad([  0., 50.,  -70.,  -0.,  -90., 0])\n",
    "VIEW_LOC = list(Q_CUR[:6])\n",
    "VIEW_POSE_EXT = np.array(VIEW_LOC + list(VIEW_POSE))\n",
    "if CONNECT_INDY:\n",
    "    with indy:\n",
    "        indy.joint_move_to(np.rad2deg(VIEW_POSE))\n",
    "        time.sleep(0.5)\n",
    "        indy.wait_for_move_finish()\n",
    "        Qcur = np.deg2rad(indy.get_joint_pos())\n",
    "else:\n",
    "    Qcur = VIEW_POSE\n",
    "gscene.show_pose(VIEW_POSE_EXT)"
   ]
  },
  {
   "cell_type": "code",
   "execution_count": 8,
   "metadata": {},
   "outputs": [
    {
     "name": "stdout",
     "output_type": "stream",
     "text": [
      "Connect: Server IP (192.168.0.3)\n"
     ]
    },
    {
     "data": {
      "image/png": "[encoded data removed]",
      "text/plain": [
       "<Figure size 432x288 with 1 Axes>"
      ]
     },
     "metadata": {
      "needs_background": "light"
     },
     "output_type": "display_data"
    }
   ],
   "source": [
    "turn_dir = 1\n",
    "Q0 = np.rad2deg(VIEW_POSE_EXT[6:])\n",
    "dQ = np.zeros(6)\n",
    "while ENABLE_DETECT:\n",
    "    # Take a picture again after rotate\n",
    "    if CONNECT_CAM:\n",
    "        rdict = stream_capture_image(\n",
    "            ImageType.FirstView, obj_type=\"bed\", host=CAM_HOST,\n",
    "            crob=crob)\n",
    "    else:\n",
    "        rdict, VIEW_POSE_EXT = load_rdict(\"bed\")\n",
    "        \n",
    "\n",
    "    cdp = rdict2cdp(rdict)\n",
    "        \n",
    "    \n",
    "    # Output of inference(mask for detected table)\n",
    "    mask_out = sd.inference(color_img=rdict['color'])\n",
    "    if np.any(mask_out):\n",
    "        cdp_masked = apply_mask(cdp, mask_out)\n",
    "        plt.imshow(cdp_masked.color[:,:,[2,1,0]])\n",
    "        break\n",
    "    if CONNECT_INDY:\n",
    "        with indy:\n",
    "            turn_dir *= -1\n",
    "            dQ = np.add(dQ, [5,0,0,0,0,0])\n",
    "            Qto = Q0+turn_dir*dQ\n",
    "            Qto[0] = (Qto[0]+180/2)%180-180/2\n",
    "            indy.joint_move_to(Qto)\n",
    "            indy.wait_motion()\n",
    "            VIEW_POSE_EXT[6:] = np.deg2rad(indy.get_joint_pos())"
   ]
  },
  {
   "cell_type": "markdown",
   "metadata": {},
   "source": [
    "#### 1.1.2  detect bed and add to the scene"
   ]
  },
  {
   "cell_type": "code",
   "execution_count": 9,
   "metadata": {},
   "outputs": [],
   "source": [
    "from pkg.utils.utils import *\n",
    "gtimer = GlobalTimer.instance()"
   ]
  },
  {
   "cell_type": "code",
   "execution_count": 10,
   "metadata": {},
   "outputs": [
    {
     "name": "stdout",
     "output_type": "stream",
     "text": [
      "Apply point-to-point ICP\n",
      "registration::RegistrationResult with fitness=8.467950e-01, inlier_rmse=7.656484e-02, and correspondence_set size of 45616\n",
      "Access transformation to get result.\n",
      "Transformation is:\n",
      "[[ 0.79630815 -0.07330923  0.60043242 -0.04977249]\n",
      " [-0.28671307 -0.91978294  0.26794582 -0.15628164]\n",
      " [ 0.53262461 -0.38551926 -0.75344936  4.54858458]\n",
      " [ 0.          0.          0.          1.        ]]\n",
      ":: Downsample with a voxel size 0.040.\n",
      ":: Estimate normal with search radius 0.080.\n",
      ":: Compute FPFH feature with search radius 0.240.\n",
      ":: Downsample with a voxel size 0.040.\n",
      ":: Estimate normal with search radius 0.080.\n",
      ":: Compute FPFH feature with search radius 0.240.\n",
      "Apply point-to-point ICP\n",
      "registration::RegistrationResult with fitness=0.000000e+00, inlier_rmse=0.000000e+00, and correspondence_set size of 0\n",
      "Access transformation to get result.\n",
      "Transformation is:\n",
      "[[-0.68039488  0.60874955 -0.40802793  2.94290419]\n",
      " [ 0.39200158  0.77274093  0.49920559 -1.10101216]\n",
      " [ 0.61919106  0.17970933 -0.76439976  3.49741802]\n",
      " [ 0.          0.          0.          1.        ]]\n",
      "Time for ICP: 7831.04801178 ms\n"
     ]
    }
   ],
   "source": [
    "VISUALIZE = True\n",
    "T_bc = viewpoint.get_tf(VIEW_POSE_EXT)\n",
    "T_cb = SE3_inv(T_bc)\n",
    "gscene.show_pose(VIEW_POSE_EXT)\n",
    "if ENABLE_DETECT:\n",
    "    icp_bed = MultiICP(model=MODEL_DIR + '/bed/bed.STL', \n",
    "                       Toff=SE3([[0,1,0],[0,0,1],[1,0,0]], [0.455,0,1.02]))\n",
    "    # Try ICP1\n",
    "    if np.any(mask_out):\n",
    "        pcd = icp_bed.add_image(cdp_masked, Tc=None)\n",
    "\n",
    "        Tguess = icp_bed.get_initial_by_center(R=np.matmul(T_cb[:3,:3], Rot_axis(3,np.pi)), \n",
    "                                               offset=np.matmul(T_cb[:3,:3], (1.1*0.7,0,-0.6)))\n",
    "        \n",
    "        gtimer.tic(\"test\")\n",
    "        Tbs1, fitness1 = icp_bed.compute_ICP(To=Tguess, thres=0.15, visualize=VISUALIZE)\n",
    "        Tbs2, fitness2 = icp_bed.compute_ICP(None, thres=0.15, visualize=VISUALIZE)\n",
    "        result = gtimer.toc(\"test\")\n",
    "        print(\"Time for ICP: {} ms\".format(result))\n",
    "        \n",
    "    # Better result is adopted\n",
    "    T_co_bed = Tbs1 if fitness1 > fitness2 else Tbs2\n",
    "    T_bo_bed = np.matmul(T_bc, T_co_bed)\n",
    "\n",
    "    bed_center = T_bo_bed[:3,3]\n",
    "    bed_rpy = Rot2rpy(T_bo_bed[:3,:3])\n",
    "    COLOR_BED_COL = (0,1,0,0.3)\n",
    "    T_bo_new = align_z(T_bo_bed)\n",
    "    bed_rpy = Rot2rpy(T_bo_new[:3,:3])\n",
    "\n",
    "    # adjust\n",
    "    bed_center[2]=0\n",
    "    if Rot_rpy(bed_rpy)[0,0] > 0:\n",
    "        bed_rpy[2] += np.pi\n",
    "\n",
    "    bed_mat = add_bed(gscene, bed_center, bed_rpy, COLOR_BED_COL)\n",
    "    if VISUALIZE: # show final result\n",
    "        icp_bed.draw(np.matmul(T_cb, gscene.NAME_DICT[\"bed_vis\"].get_tf(VIEW_POSE_EXT)))\n",
    "    \n",
    "else:\n",
    "    bed_center = (5.1,-0.1,0)\n",
    "    bed_rpy = (0,0,np.pi)\n",
    "    COLOR_BED_COL = (0,1,0,0.3)\n",
    "    bed_mat = add_bed(gscene, bed_center, bed_rpy, COLOR_BED_COL)\n",
    "\n",
    "bed_vis = gscene.NAME_DICT[\"bed_vis\"]"
   ]
  },
  {
   "cell_type": "code",
   "execution_count": 11,
   "metadata": {},
   "outputs": [
    {
     "name": "stdout",
     "output_type": "stream",
     "text": [
      "Apply point-to-point ICP\n",
      "registration::RegistrationResult with fitness=9.715966e-01, inlier_rmse=3.435410e-02, and correspondence_set size of 14538\n",
      "Access transformation to get result.\n",
      "Transformation is:\n",
      "[[ 0.81235877 -0.05559007  0.58050236  0.02029398]\n",
      " [-0.22627002 -0.94750578  0.22590862 -0.03918172]\n",
      " [ 0.5374711  -0.31486913 -0.78229298  4.5778557 ]\n",
      " [ 0.          0.          0.          1.        ]]\n",
      "Time for ICP: 5119.01593208 ms\n"
     ]
    }
   ],
   "source": [
    "# Front ICP - refine the position of bed\n",
    "VISUALIZE = True\n",
    "if ENABLE_DETECT:  \n",
    "     if np.any(mask_out):\n",
    "        Tguess = np.matmul(T_cb, T_bo_new)\n",
    "                \n",
    "        gtimer.tic(\"test\")\n",
    "        Tbs_f, fitness_f = icp_bed.compute_front_ICP(\"bed\", To=Tguess, thres=0.1, visualize=VISUALIZE)\n",
    "        result = gtimer.toc(\"test\")\n",
    "        print(\"Time for ICP: {} ms\".format(result))\n",
    "        \n",
    "        T_bo_bed = np.matmul(T_bc, Tbs_f)\n",
    "        bed_center = T_bo_bed[:3,3]\n",
    "        bed_rpy = Rot2rpy(T_bo_bed[:3,:3])\n",
    "        COLOR_BED_COL = (0,1,0,0.3)\n",
    "        T_bo_new = align_z(T_bo_bed)\n",
    "        bed_rpy = Rot2rpy(T_bo_new[:3,:3])\n",
    "\n",
    "        # adjust\n",
    "        bed_center[2]=0\n",
    "        if Rot_rpy(bed_rpy)[0,0] > 0:\n",
    "            bed_rpy[2] += np.pi\n",
    "        move_bed(gscene, bed_center, bed_rpy)"
   ]
  },
  {
   "cell_type": "code",
   "execution_count": 170,
   "metadata": {},
   "outputs": [],
   "source": [
    "icp_bed = MultiICP(model=MODEL_DIR + '/bed/bed.STL', \n",
    "                   Toff=SE3([[0,1,0],[0,0,1],[1,0,0]], [0.455,0,1.02]))"
   ]
  },
  {
   "cell_type": "code",
   "execution_count": 171,
   "metadata": {
    "scrolled": true
   },
   "outputs": [
    {
     "data": {
      "text/plain": [
       "True"
      ]
     },
     "execution_count": 171,
     "metadata": {},
     "output_type": "execute_result"
    }
   ],
   "source": [
    "icp_bed.model.has_triangle_normals()"
   ]
  },
  {
   "cell_type": "code",
   "execution_count": 223,
   "metadata": {},
   "outputs": [],
   "source": [
    "pcd_bed = icp_bed.model.sample_points_poisson_disk(number_of_points=5000)"
   ]
  },
  {
   "cell_type": "code",
   "execution_count": 224,
   "metadata": {},
   "outputs": [],
   "source": [
    "points = np.asarray(pcd_bed.points)"
   ]
  },
  {
   "cell_type": "code",
   "execution_count": 225,
   "metadata": {},
   "outputs": [],
   "source": [
    "pt_center = np.mean([np.max(points, axis=0), np.min(points, axis=0)], axis=0)\n",
    "points_ct = points - pt_center"
   ]
  },
  {
   "cell_type": "code",
   "execution_count": 226,
   "metadata": {},
   "outputs": [],
   "source": [
    "gpcd = gscene.create_safe(\n",
    "    gtype=GEOTYPE.MESH, name=\"pcd_bed\", link_name=\"base_link\",\n",
    "    dims=(0.01,) * 3, center=(0,0,5), rpy=(0, 0, 0),\n",
    "    color=(1, 0, 0, 1), display=True,\n",
    "    collision=False, fixed=True, \n",
    "    vertices=points_ct, \n",
    "    scale=(0.01, 0.01, 1),\n",
    "    colors = [(0,0,1)]*len(points)\n",
    ")"
   ]
  },
  {
   "cell_type": "code",
   "execution_count": 230,
   "metadata": {},
   "outputs": [],
   "source": [
    "normals = np.asarray(pcd_bed.normals)"
   ]
  },
  {
   "cell_type": "code",
   "execution_count": 232,
   "metadata": {},
   "outputs": [],
   "source": [
    "for i_p, (pt, nvec) in list(enumerate(zip(points_ct, normals)))[::20]:\n",
    "    pt = pt + (0,0,5)\n",
    "    Rxv = Rotation.from_rotvec(calc_rotvec_vecs([1,0,0], nvec)).as_dcm()\n",
    "    gscene.add_highlight_axis(\"hl\", \"normal_{}\".format(i_p), \n",
    "                              center=pt, orientation_mat=Rxv, axis=\"x\", \n",
    "                              dims=(0.05, 0.01, 0.01))"
   ]
  },
  {
   "cell_type": "code",
   "execution_count": 172,
   "metadata": {},
   "outputs": [],
   "source": []
  },
  {
   "cell_type": "code",
   "execution_count": 173,
   "metadata": {},
   "outputs": [
    {
     "data": {
      "text/plain": [
       "geometry::TriangleMesh with 74136 points and 24712 triangles."
      ]
     },
     "execution_count": 173,
     "metadata": {},
     "output_type": "execute_result"
    }
   ],
   "source": [
    "icp_bed.model.compute_vertex_normals()"
   ]
  },
  {
   "cell_type": "code",
   "execution_count": 174,
   "metadata": {},
   "outputs": [],
   "source": [
    "vertices = np.asarray(icp_bed.model.vertices)\n",
    "normals = np.asarray(icp_bed.model.vertex_normals)"
   ]
  },
  {
   "cell_type": "code",
   "execution_count": 181,
   "metadata": {},
   "outputs": [],
   "source": [
    "triangles = np.asarray(icp_bed.model.triangles)"
   ]
  },
  {
   "cell_type": "code",
   "execution_count": 175,
   "metadata": {
    "scrolled": true
   },
   "outputs": [
    {
     "data": {
      "text/plain": [
       "(74136, 74136)"
      ]
     },
     "execution_count": 175,
     "metadata": {},
     "output_type": "execute_result"
    }
   ],
   "source": [
    "len(vertices), len(normals)"
   ]
  },
  {
   "cell_type": "code",
   "execution_count": null,
   "metadata": {},
   "outputs": [],
   "source": []
  },
  {
   "cell_type": "code",
   "execution_count": 157,
   "metadata": {},
   "outputs": [],
   "source": [
    "N_smp = 10000\n",
    "zip_vn = zip(vertices, normals)\n",
    "random.shuffle(zip_vn)\n",
    "zip_vn = zip_vn[:N_smp]"
   ]
  },
  {
   "cell_type": "code",
   "execution_count": 167,
   "metadata": {},
   "outputs": [],
   "source": [
    "points = [vn[0] for vn in zip_vn]\n",
    "normals = [vn[1] for vn in zip_vn]"
   ]
  },
  {
   "cell_type": "code",
   "execution_count": 176,
   "metadata": {},
   "outputs": [],
   "source": [
    "points = vertices"
   ]
  },
  {
   "cell_type": "code",
   "execution_count": 162,
   "metadata": {},
   "outputs": [],
   "source": [
    "gscene.clear_highlight()"
   ]
  },
  {
   "cell_type": "code",
   "execution_count": 27,
   "metadata": {
    "scrolled": false
   },
   "outputs": [
    {
     "data": {
      "text/plain": [
       "(989, 3)"
      ]
     },
     "execution_count": 27,
     "metadata": {},
     "output_type": "execute_result"
    }
   ],
   "source": [
    "points_ct.shape"
   ]
  },
  {
   "cell_type": "code",
   "execution_count": 11,
   "metadata": {},
   "outputs": [
    {
     "data": {
      "text/plain": [
       "(989, 3)"
      ]
     },
     "execution_count": 11,
     "metadata": {},
     "output_type": "execute_result"
    }
   ],
   "source": [
    "normals.shape"
   ]
  },
  {
   "cell_type": "code",
   "execution_count": null,
   "metadata": {},
   "outputs": [],
   "source": [
    "\n",
    "gscene.create_safe()"
   ]
  },
  {
   "cell_type": "code",
   "execution_count": null,
   "metadata": {},
   "outputs": [],
   "source": []
  },
  {
   "cell_type": "code",
   "execution_count": null,
   "metadata": {},
   "outputs": [],
   "source": []
  },
  {
   "cell_type": "code",
   "execution_count": null,
   "metadata": {},
   "outputs": [],
   "source": []
  },
  {
   "cell_type": "code",
   "execution_count": null,
   "metadata": {},
   "outputs": [],
   "source": [
    "visu"
   ]
  },
  {
   "cell_type": "markdown",
   "metadata": {},
   "source": [
    "### 1.2 Detect Closet"
   ]
  },
  {
   "cell_type": "markdown",
   "metadata": {},
   "source": [
    "#### 1.2.0 set checker"
   ]
  },
  {
   "cell_type": "code",
   "execution_count": 12,
   "metadata": {},
   "outputs": [],
   "source": [
    "wp_task, wp_hdl = add_waypoint_task(\n",
    "    pscene, \"waypoint\", WP_DIMS, (0,0,0), (0,0,0), \n",
    "    parent=\"floor_ws\", color=(0, 0, 1, 1))\n",
    "ccheck = CachedCollisionCheck(gcheck, wp_task, wp_hdl, wayframer)"
   ]
  },
  {
   "cell_type": "markdown",
   "metadata": {},
   "source": [
    "#### 1.2.1  move to full view position"
   ]
  },
  {
   "cell_type": "markdown",
   "metadata": {},
   "source": [
    "##### calc fule view pose"
   ]
  },
  {
   "cell_type": "code",
   "execution_count": 13,
   "metadata": {},
   "outputs": [
    {
     "name": "stdout",
     "output_type": "stream",
     "text": [
      "CLOSET on LEFT\n"
     ]
    }
   ],
   "source": [
    "VIEW_MOVED = np.deg2rad([  0., 50.,  -70.,  -0.,  -80., 0])\n",
    "# VIEW_MOVED = np.deg2rad([  0., -10.,  -0.,  -0.,  -100., 0])\n",
    "VIEW_POSE_EXT[crob.idx_dict[ROBOT_NAME]] = VIEW_MOVED\n",
    "\n",
    "bed_vis = gscene.NAME_DICT[\"bed_vis\"]\n",
    "T_bo = bed_vis.get_tf(list2dict(VIEW_POSE_EXT, gscene.joint_names))\n",
    "\n",
    "if ENABLE_DETECT:\n",
    "    h_fov_hf = np.arctan2(cdp.intrins[0], 2*cdp.intrins[2])\n",
    "    # Determine the location of closet\n",
    "    CLOSET_LOCATION = check_location_top_table(\n",
    "        cdp2pcd(cdp), cdp2pcd(cdp_masked), T_bc, T_bo, \n",
    "        bed_dims=bed_mat.dims, visualize=False)\n",
    "    print(\"CLOSET on {}\".format(CLOSET_LOCATION))\n",
    "else:\n",
    "    h_fov_hf = np.pi/4\n",
    "    CLOSET_LOCATION = \"LEFT\"\n",
    "    \n",
    "if CLOSET_LOCATION == \"LEFT\":\n",
    "    angle_ref = 150\n",
    "elif CLOSET_LOCATION == \"RIGHT\":       \n",
    "    angle_ref = -150\n",
    "    \n",
    "bed_dim = np.linalg.norm(bed_mat.dims)\n",
    "x_z_ratio = np.tan(h_fov_hf)\n",
    "bed_dist = (bed_dim/2) / x_z_ratio * 3 \n",
    "while True:\n",
    "    angle_view = angle_ref + np.random.uniform(-10, 10)\n",
    "    dist_view = bed_dist + np.random.uniform(-1, 1)*bed_dist/8\n",
    "    Tbs = bed_mat.get_tf(VIEW_POSE_EXT)\n",
    "    Tbs = np.matmul(Tbs, \n",
    "                    SE3(np.identity(3), (-bed_mat.dims[0]/2, 0,0)))\n",
    "    Tsc = np.matmul(SE3(Rot_axis(3, np.deg2rad(angle_view)), (0,)*3), \n",
    "                    SE3(np.identity(3), (-dist_view, 0,0)))\n",
    "    Tbc = np.matmul(Tbs, Tsc)\n",
    "    Tmc = viewpoint.get_tf(VIEW_POSE_EXT, from_link=MOBILE_BASE)\n",
    "    Tmc[:3,:3] = np.identity(3)\n",
    "    Tbm = np.matmul(Tbc, SE3_inv(Tmc))\n",
    "    full_view_ext = np.copy(VIEW_POSE_EXT)\n",
    "    full_view_ext[:2] = Tbm[:2,3]\n",
    "    full_view_ext[2] = Rot2axis(Tbm[:3, :3], 3)\n",
    "#     gscene.show_pose(full_view_ext)\n",
    "    ccheck.clear()\n",
    "    res = ccheck(T_loal=Tbm, \n",
    "                 Q_dict=list2dict(full_view_ext, gscene.joint_names))\n",
    "    if res:\n",
    "        VIEW_MOVED_EXT = full_view_ext\n",
    "        break"
   ]
  },
  {
   "cell_type": "markdown",
   "metadata": {},
   "source": [
    "##### move to full view pose"
   ]
  },
  {
   "cell_type": "code",
   "execution_count": 14,
   "metadata": {},
   "outputs": [
    {
     "name": "stdout",
     "output_type": "stream",
     "text": [
      "Connect: Server IP (192.168.0.3)\n",
      "Connect: Server IP (192.168.0.3)\n",
      "real_robot_pose: [ 2.12  3.14 -0.65  0.    0.    0.    0.    0.87 -1.22 -0.   -1.57  0.  ]\n"
     ]
    }
   ],
   "source": [
    "gscene.show_pose(crob.get_real_robot_pose())\n",
    "print(\"real_robot_pose: {}\".format(\n",
    "    np.round(crob.get_real_robot_pose(), 2)))"
   ]
  },
  {
   "cell_type": "code",
   "execution_count": 15,
   "metadata": {},
   "outputs": [],
   "source": [
    "gscene.show_pose(VIEW_MOVED_EXT)"
   ]
  },
  {
   "cell_type": "code",
   "execution_count": 16,
   "metadata": {
    "scrolled": true
   },
   "outputs": [
    {
     "name": "stdout",
     "output_type": "stream",
     "text": [
      "Connect: Server IP (192.168.0.3)\n",
      "[INFO] Approach through: [ 2.10355513  1.75063823 -0.52895061] -> [ 1.90440369  2.07321635 -0.52895061]\n",
      "(2.103555130229494, 1.7506382251622283, -0.2614028521898916, 0.9652297907063322, 0)\n",
      "goal reach: 1 -> 0 (1635754381.21)\n",
      "goal reach: 0 -> 1 (1635754395.14)\n",
      "goal reach signal edge up\n",
      "(1.9044036937667237, 2.0732163531224037, -0.2614028521898916, 0.9652297907063322, 0)\n",
      "goal reach: 1 -> 0 (1635754396.34)\n",
      "goal reach: 0 -> 1 (1635754399.93)\n",
      "goal reach signal edge up\n",
      "Connect: Server IP (192.168.0.3)\n",
      "VIEW_MOVED_EXT: [ 1.92  2.03 -0.5   0.    0.    0.    0.    0.87 -1.22 -0.   -1.4   0.  ]\n"
     ]
    }
   ],
   "source": [
    "if CONNECT_INDY:\n",
    "    with indy:\n",
    "        indy.joint_move_to(np.rad2deg(VIEW_MOVED))\n",
    "kmb.joint_move_make_sure(VIEW_MOVED_EXT[:6])\n",
    "VIEW_MOVED_EXT = crob.get_real_robot_pose()\n",
    "if not CONNECT_INDY:\n",
    "    VIEW_MOVED_EXT[6:] = VIEW_MOVED.copy()\n",
    "gscene.show_pose(VIEW_MOVED_EXT)\n",
    "print(\"VIEW_MOVED_EXT: {}\".format(\n",
    "    np.round(VIEW_MOVED_EXT, 2)))"
   ]
  },
  {
   "cell_type": "markdown",
   "metadata": {},
   "source": [
    "#### 1.2.2 redetect bed"
   ]
  },
  {
   "cell_type": "code",
   "execution_count": 17,
   "metadata": {},
   "outputs": [
    {
     "name": "stdout",
     "output_type": "stream",
     "text": [
      "Connect: Server IP (192.168.0.3)\n",
      "Apply point-to-point ICP\n",
      "registration::RegistrationResult with fitness=8.670087e-01, inlier_rmse=6.576381e-02, and correspondence_set size of 88884\n",
      "Access transformation to get result.\n",
      "Transformation is:\n",
      "[[ 1.32153127e-03  2.66195043e-03 -9.99995602e-01  5.73048486e+00]\n",
      " [-9.97950304e-01  6.39836562e-02 -1.14850626e-03  7.28334322e-01]\n",
      " [ 6.39803175e-02  9.97947396e-01  2.74105064e-03 -6.80720125e-02]\n",
      " [ 0.00000000e+00  0.00000000e+00  0.00000000e+00  1.00000000e+00]]\n"
     ]
    },
    {
     "data": {
      "image/png": "[encoded data removed]",
      "text/plain": [
       "<Figure size 432x288 with 1 Axes>"
      ]
     },
     "metadata": {
      "needs_background": "light"
     },
     "output_type": "display_data"
    }
   ],
   "source": [
    "VISUALIZE = True\n",
    "T_bc = viewpoint.get_tf(VIEW_MOVED_EXT)\n",
    "# capture image of full view\n",
    "if CONNECT_CAM:\n",
    "    rdict = stream_capture_image(\n",
    "        ImageType.FullView, obj_type=\"full_view\", host=CAM_HOST,\n",
    "        crob=crob)\n",
    "    \n",
    "else:\n",
    "    rdict, VIEW_MOVED_EXT = load_rdict(\"full_view\")\n",
    "    T_bc = viewpoint.get_tf(VIEW_MOVED_EXT)\n",
    "    gscene.show_pose(VIEW_MOVED_EXT)\n",
    "    \n",
    "cdp = rdict2cdp(rdict)\n",
    "\n",
    "if ENABLE_DETECT:\n",
    "    # Output of inference(mask for detected table)\n",
    "    mask_out = sd.inference(color_img=cdp.color)\n",
    "    if np.any(mask_out):\n",
    "        cdp_masked = apply_mask(cdp, mask_out)\n",
    "        plt.imshow(cdp_masked.color[:,:,[2,1,0]])\n",
    "\n",
    "        icp_bed.clear()\n",
    "        pcd = icp_bed.add_image(cdp_masked, Tc=T_bc)\n",
    "        T_bs_pre = gscene.NAME_DICT[\"bed_vis\"].get_tf(VIEW_MOVED_EXT)\n",
    "        T_bo_bed, fitness = icp_bed.compute_ICP(To=T_bs_pre, thres=0.15, visualize=VISUALIZE)\n",
    "        #adjust\n",
    "        T_bo_bed[2]=0\n",
    "        T_bo_bed[:3, :3]=Rot_axis(3, Rot2axis(T_bo_bed[:3, :3], 3))\n",
    "        move_bed(gscene, T_bo_bed[:3,3], Rot2rpy(T_bo_bed[:3,:3]))\n",
    "\n",
    "        if VISUALIZE: # show final result\n",
    "            icp_bed.draw(gscene.NAME_DICT[\"bed_vis\"].get_tf(VIEW_MOVED_EXT))\n",
    "    else:\n",
    "        raise(RuntimeError(\"bed not detected\"))"
   ]
  },
  {
   "cell_type": "code",
   "execution_count": null,
   "metadata": {},
   "outputs": [],
   "source": []
  },
  {
   "cell_type": "markdown",
   "metadata": {},
   "source": [
    "#### 1.2.3  detect and add closet"
   ]
  },
  {
   "cell_type": "code",
   "execution_count": 18,
   "metadata": {},
   "outputs": [
    {
     "name": "stdout",
     "output_type": "stream",
     "text": [
      "Connect: Server IP (192.168.0.3)\n",
      "Apply point-to-point ICP\n",
      "registration::RegistrationResult with fitness=5.659474e-01, inlier_rmse=1.791542e-02, and correspondence_set size of 7685\n",
      "Access transformation to get result.\n",
      "Transformation is:\n",
      "[[-9.99988807e-01  4.15753314e-03 -2.26143352e-03  5.82042090e+00]\n",
      " [-2.13701027e-03  2.96918734e-02  9.99556821e-01  8.64625942e-01]\n",
      " [ 4.22283681e-03  9.99550453e-01 -2.96826563e-02  1.98839511e-01]\n",
      " [ 0.00000000e+00  0.00000000e+00  0.00000000e+00  1.00000000e+00]]\n",
      "Time for ICP: 3295.92299461 ms\n"
     ]
    }
   ],
   "source": [
    "VISUALIZE = True\n",
    "if ENABLE_DETECT:\n",
    "    icp_closet = MultiICP(model=MODEL_DIR + '/top_table/top_table.STL', \n",
    "                       Toff=SE3([[1,0,0],[0,0,1],[0,-1,0]], [0.3,0,0.2725]))\n",
    "    \n",
    "    if CONNECT_CAM:\n",
    "        rdict = stream_capture_image(ImageType.FirstView, obj_type=\"top_table\", host=CAM_HOST,\n",
    "                                     crob=crob)\n",
    "    else:\n",
    "        rdict, VIEW_MOVED_EXT = load_rdict(\"top_table\")\n",
    "\n",
    "    T_bc = viewpoint.get_tf(VIEW_MOVED_EXT)\n",
    "    \n",
    "    cdp = rdict2cdp(rdict)\n",
    "    pcd_closet = cdp2pcd(cdp, T_bc)\n",
    "    \n",
    "    \n",
    "    pcd_masked = mask_boxes(pcd_closet, \n",
    "                        boxes=[gscene.NAME_DICT[\"bed_{}_space\".format(CLOSET_LOCATION.lower())]], \n",
    "                        Q=VIEW_MOVED_EXT, inside=True, \n",
    "                        merge_rule=np.all, link_ref=\"base_link\")\n",
    "    pcd_masked = mask_boxes(pcd_masked, \n",
    "                        boxes=[gscene.NAME_DICT[\"bed_box\"], \n",
    "                               gscene.NAME_DICT[\"bed_wall\"], \n",
    "                               gscene.NAME_DICT[\"floor_box\"]], \n",
    "                        Q=VIEW_MOVED_EXT, inside=False, \n",
    "                        merge_rule=np.all, link_ref=\"base_link\")\n",
    "    pcd_masked, ind = pcd_masked.remove_radius_outlier(nb_points=20, radius=0.06)\n",
    "    icp_closet.add_pointcloud(pcd_masked, T_bc)\n",
    "    \n",
    "    Tbs = bed_vis.get_tf(VIEW_MOVED_EXT)\n",
    "    initial_guess = icp_closet.get_initial_by_median(\n",
    "        Tbs[:3, :3], (0.3,0,-1))\n",
    "#     T_bo, fitness = icp_closet.compute_ICP(initial_guess, thres=0.05, visualize=VISUALIZE)\n",
    "    \n",
    "    gtimer.tic(\"test\")\n",
    "    # front_ICP\n",
    "    T_bo, fitness = icp_closet.compute_front_ICP(\"closet\",\n",
    "                                                 initial_guess, thres=0.05, visualize=VISUALIZE)\n",
    "    result = gtimer.toc(\"test\")\n",
    "    print(\"Time for ICP: {} ms\".format(result))\n",
    "    \n",
    "    #adjust\n",
    "    T_bo[2]=0\n",
    "    T_bo[:3, :3]=Rot_axis(3, Rot2axis(T_bo[:3, :3], 3))\n",
    "#     gscene.show_point_cloud(pcd_closet.points, \"allpoints\", color=(0,0,0,0.5), dims=(0.01,0.01,0.01), sample_to=500)\n",
    "#     gscene.show_point_cloud(pcd_masked.points, \"masked\", color=(1,0,0,1), dims=(0.02,0.02,0.02))\n",
    "else:\n",
    "    T_bo = T_xyzrpy((np.matmul(Rot_rpy(bed_rpy), (-0.75,-1.5,0))+bed_center, \n",
    "                     bed_rpy))\n",
    "    \n",
    "closet_leftup, closet_rightup, closet_down = add_closet(\n",
    "    gscene, closet_center=T_bo[:3,3], closet_rpy=Rot2rpy(T_bo[:3,:3]), \n",
    "    COLOR_CLOSET_COL=(0,1,0,0.3))"
   ]
  },
  {
   "cell_type": "code",
   "execution_count": 19,
   "metadata": {},
   "outputs": [],
   "source": [
    "if CONNECT_MOBILE and CONNECT_CAM:\n",
    "    save_pickle(\"gargs_{}.pkl\".format(get_now()), \n",
    "                gscene.get_gtem_args())\n",
    "else:\n",
    "    filelist = sorted([fname for fname in os.listdir(os.getcwd()) if fname.startswith(\"gargs_\")])\n",
    "    gtem_args = load_pickle(filelist[-1])      \n",
    "    for garg in gtem_args:\n",
    "        if garg['parent'] == None and garg['link_name']==\"base_link\":\n",
    "            if garg[\"name\"] in gscene.NAME_DICT:\n",
    "                gscene.NAME_DICT[garg[\"name\"]].set_offset_tf(center=garg[\"center\"], orientation_mat=Rot_rpy(garg[\"rpy\"]))\n",
    "gscene.update_markers_all()  "
   ]
  },
  {
   "cell_type": "code",
   "execution_count": 20,
   "metadata": {},
   "outputs": [],
   "source": [
    "# add back_wall geometry\n",
    "def add_backwall(gscene):\n",
    "    closet_vis = gscene.NAME_DICT[\"closet_vis\"]\n",
    "    gscene.create_safe(GEOTYPE.BOX, \"back_wall\", link_name=\"base_link\",\n",
    "                   dims=(0.2,7.,7), center=(-0.3,0,0), rpy=(0,0,0),\n",
    "                   color=(1, 1, 1, 0.2), fixed=True, collision=True, parent=\"closet_vis\")\n",
    "add_backwall(gscene)"
   ]
  },
  {
   "cell_type": "code",
   "execution_count": 22,
   "metadata": {},
   "outputs": [
    {
     "name": "stdout",
     "output_type": "stream",
     "text": [
      "Connect: Server IP (192.168.0.3)\n"
     ]
    }
   ],
   "source": []
  },
  {
   "cell_type": "code",
   "execution_count": 23,
   "metadata": {},
   "outputs": [],
   "source": []
  },
  {
   "cell_type": "code",
   "execution_count": null,
   "metadata": {},
   "outputs": [],
   "source": [
    "viewpoint.get_tf()"
   ]
  },
  {
   "cell_type": "code",
   "execution_count": null,
   "metadata": {},
   "outputs": [],
   "source": []
  },
  {
   "cell_type": "code",
   "execution_count": 27,
   "metadata": {},
   "outputs": [],
   "source": [
    "from pkg.utils.code_scraps import get_look_motion"
   ]
  },
  {
   "cell_type": "code",
   "execution_count": 238,
   "metadata": {},
   "outputs": [
    {
     "name": "stdout",
     "output_type": "stream",
     "text": [
      "Connect: Server IP (192.168.0.3)\n",
      "Connect: Server IP (192.168.0.3)\n",
      "Connect: Server IP (192.168.0.3)\n",
      "Connect: Server IP (192.168.0.3)\n",
      "Connect: Server IP (192.168.0.3)\n",
      "Move finished!\n",
      "Connect: Server IP (192.168.0.3)\n",
      "Connect: Server IP (192.168.0.3)\n",
      "Apply point-to-point ICP\n",
      "registration::RegistrationResult with fitness=4.742978e-01, inlier_rmse=1.709473e-02, and correspondence_set size of 6754\n",
      "Access transformation to get result.\n",
      "Transformation is:\n",
      "[[-0.9995752  -0.02559103  0.01394529  5.77619497]\n",
      " [ 0.01321028  0.02866878  0.99950165  0.78047581]\n",
      " [-0.02597807  0.99926133 -0.02831854 -0.00740065]\n",
      " [ 0.          0.          0.          1.        ]]\n"
     ]
    }
   ],
   "source": [
    "Qcur = crob.get_real_robot_pose()\n",
    "gscene.show_pose(Qcur)\n",
    "\n",
    "save_list=[]\n",
    "Qref = Qcur\n",
    "traj, succ = get_look_motion(mplan, ROBOT_NAME, Qref, \n",
    "                             target_point=closet_leftup,\n",
    "                             com_link = pscene.robot_chain_dict[ROBOT_NAME]['link_names'][-1],\n",
    "                             view_dir = [0,0,1],timeout = 1)\n",
    "traj_rev = np.array(list(reversed(traj)))\n",
    "\n",
    "if not succ:\n",
    "    traj = [Qref, Qref]\n",
    "    traj_rev = [Qref, Qref]\n",
    "\n",
    "Qref[6:] = traj[-1][6:]\n",
    "gscene.show_pose(Qref)\n",
    "if CONNECT_INDY:\n",
    "    with indy: # move to look\n",
    "        crob.move_joint_traj(traj, one_by_one=True)\n",
    "\n",
    "    time.sleep(1)\n",
    "\n",
    "if ENABLE_DETECT:\n",
    "    icp_closet = MultiICP(model=MODEL_DIR + '/top_table/top_table.STL', \n",
    "                       Toff=SE3([[1,0,0],[0,0,1],[0,-1,0]], [0.3,0,0.2725]))\n",
    "\n",
    "    save_list.append(1)\n",
    "    if CONNECT_CAM:\n",
    "        rdict = stream_capture_image(ImageType.FirstView, \n",
    "                                     obj_type=\"closet_{}\".format(len(save_list)), \n",
    "                                     host=CAM_HOST, crob=crob)\n",
    "    else:\n",
    "        rdict, Qref = load_rdict(\"closet_{}\".format(len(save_list)))\n",
    "\n",
    "    T_bc, T_bs_closet = viewpoint.get_tf(Qref), gscene.NAME_DICT[\"closet_vis\"].get_tf(Qref)\n",
    "\n",
    "    cdp = rdict2cdp(rdict)\n",
    "    pcd_closet = cdp2pcd(cdp, T_bc)\n",
    "\n",
    "    gtimer.tic(\"masking\")\n",
    "    pcd_masked = mask_boxes(pcd_closet, \n",
    "                        boxes=[gscene.NAME_DICT[\"closet_box\"]], \n",
    "                        Q=Qref, inside=True, \n",
    "                        merge_rule=np.all, link_ref=\"base_link\")\n",
    "    pcd_masked = mask_boxes(pcd_masked, \n",
    "                        boxes=[gscene.NAME_DICT[\"bed_box\"], \n",
    "                               gscene.NAME_DICT[\"bed_wall\"], \n",
    "                               gscene.NAME_DICT[\"floor_box\"],\n",
    "                               gscene.NAME_DICT[\"back_wall\"]], \n",
    "                        Q=Qref, inside=False, \n",
    "                        merge_rule=np.all, link_ref=\"base_link\")\n",
    "    result = gtimer.toc(\"masking\")\n",
    "#         print(\"Time for masking pcd : {} ms\".format(result))\n",
    "    gtimer.tic(\"outlier\")\n",
    "#         pcd_masked, ind = pcd_masked.remove_radius_outlier(nb_points=20, radius=0.06)\n",
    "    result = gtimer.toc(\"outlier\")\n",
    "#         print(\"Time for removeing outlier of pcd : {} ms\".format(result))\n",
    "    gtimer.tic(\"adding\")\n",
    "    icp_closet.add_pointcloud(pcd_masked, T_bc)\n",
    "    result = gtimer.toc(\"adding\")\n",
    "#         print(\"Time for adding pcd : {} ms\".format(result))\n",
    "\n",
    "#     gscene.show_point_cloud(pcd_closet.points, \"allpoints\", color=(0,0,0,0.5), dims=(0.01,0.01,0.01), sample_to=500)\n",
    "#     gscene.show_point_cloud(pcd_masked.points, \"masked\", color=(1,0,0,1), dims=(0.02,0.02,0.02))\n",
    "\n",
    "    initial_guess = gscene.NAME_DICT[\"closet_vis\"].get_tf(Qref)\n",
    "    initial_guess[0] += 0.0\n",
    "    initial_guess[1] += 0.0\n",
    "    gtimer.tic(\"compute_front_ICP\")\n",
    "#         T_bo_close, fitness = icp_closet.compute_ICP(initial_guess, thres=0.05, visualize=VISUALIZE)\n",
    "    # front_ICP\n",
    "    T_bo_close, fitness = icp_closet.compute_front_ICP(\"closet\",\n",
    "                                                       initial_guess, thres=0.05, visualize=VISUALIZE)\n",
    "    \n",
    "    T_bo_close[:3, :3] = Rot_axis(3, Rot2axis(T_bo_close[:3, :3], 3))\n",
    "    \n",
    "    T_bo_close = T_bo_close"
   ]
  },
  {
   "cell_type": "code",
   "execution_count": 239,
   "metadata": {},
   "outputs": [],
   "source": [
    "move_closet(gscene, closet_center=T_bo_close[:3,3], closet_rpy=Rot2rpy(T_bo_close[:3,:3]))\n",
    "T_bc = closet_down.get_tf(Qcur)\n",
    "T_cp = SE3(np.identity(3), (0,0, closet_down.dims[2]/2))\n",
    "T_bp = np.matmul(T_bc, T_cp)\n",
    "Box_2 = gscene.NAME_DICT['kmb0_platform_Box_2']\n",
    "T_br = Box_2.get_tf(Qcur)\n",
    "T_rf = SE3(np.identity(3), (Box_2.dims[0]/2-0.1, 0,0))\n",
    "T_bf = np.matmul(T_br, T_rf)\n",
    "gscene.add_highlight_axis(\"hl\", \"tbp\", T=T_bp)\n",
    "gscene.add_highlight_axis(\"hl\", \"tbf\", T=T_bf)\n",
    "T_fp = np.matmul(SE3_inv(T_bf), T_bp)"
   ]
  },
  {
   "cell_type": "code",
   "execution_count": 241,
   "metadata": {
    "scrolled": true
   },
   "outputs": [
    {
     "name": "stdout",
     "output_type": "stream",
     "text": [
      "Connect: Server IP (192.168.0.3)\n"
     ]
    }
   ],
   "source": [
    "detect = T_fp[0,3]\n",
    "pos = crob.get_real_robot_pose()[:3]"
   ]
  },
  {
   "cell_type": "code",
   "execution_count": 242,
   "metadata": {},
   "outputs": [
    {
     "name": "stdout",
     "output_type": "stream",
     "text": [
      "detect/real: 2.34/2.31\n",
      "pos: [2.387 1.234 0.032]\n"
     ]
    }
   ],
   "source": [
    "print(\"detect/real: {:.3}/{:.3}\".format(detect, 2.31))\n",
    "print(\"pos: {}\".format(np.round(pos, 3)))"
   ]
  },
  {
   "cell_type": "code",
   "execution_count": 246,
   "metadata": {},
   "outputs": [
    {
     "data": {
      "text/plain": [
       "0.05000000074505806"
      ]
     },
     "execution_count": 246,
     "metadata": {},
     "output_type": "execute_result"
    }
   ],
   "source": [
    "kmm.resolution"
   ]
  },
  {
   "cell_type": "markdown",
   "metadata": {},
   "source": [
    "* 침대 끝단  \n",
    "\n",
    "```\n",
    "detect/real: 1.67/1.62\n",
    "pos: [2.878 1.228 0.008]\n",
    "```\n",
    "\n",
    "* 끝단 + 50\n",
    "\n",
    "```\n",
    "detect/real: 1.01/0.97\n",
    "pos: [3.38  1.326 0.007]\n",
    "```\n",
    "\n",
    "* 끝단 다시\n",
    "\n",
    "```\n",
    "detect/real: 1.69/1.65\n",
    "pos: [ 2.881  1.317 -0.023]\n",
    "```\n",
    "\n",
    "* 끝단 - 50\n",
    "\n",
    "```\n",
    "detect/real: 2.34/2.31\n",
    "pos: [2.387 1.234 0.032]\n",
    "```"
   ]
  },
  {
   "cell_type": "code",
   "execution_count": 244,
   "metadata": {},
   "outputs": [
    {
     "name": "stdout",
     "output_type": "stream",
     "text": [
      "[2.387 1.234 0.016 1.   ]\n"
     ]
    }
   ],
   "source": [
    "print(np.round(get_xyzw_cur(), 3))"
   ]
  },
  {
   "cell_type": "code",
   "execution_count": 250,
   "metadata": {},
   "outputs": [
    {
     "name": "stdout",
     "output_type": "stream",
     "text": [
      "Connect: Server IP (192.168.0.3)\n"
     ]
    },
    {
     "data": {
      "text/plain": [
       "array([ 0.33248153, -0.04358437, -0.02292312])"
      ]
     },
     "execution_count": 250,
     "metadata": {},
     "output_type": "execute_result"
    }
   ],
   "source": [
    "crob.get_real_robot_pose()[:3]"
   ]
  },
  {
   "cell_type": "code",
   "execution_count": null,
   "metadata": {},
   "outputs": [],
   "source": []
  },
  {
   "cell_type": "code",
   "execution_count": 40,
   "metadata": {},
   "outputs": [
    {
     "data": {
      "text/plain": [
       "(0.8, 0.535, 0.6)"
      ]
     },
     "execution_count": 40,
     "metadata": {},
     "output_type": "execute_result"
    }
   ],
   "source": [
    "closet_down.dims"
   ]
  },
  {
   "cell_type": "code",
   "execution_count": null,
   "metadata": {},
   "outputs": [],
   "source": []
  },
  {
   "cell_type": "code",
   "execution_count": 33,
   "metadata": {},
   "outputs": [],
   "source": [
    "gscene.NAME_DICT[\"closet_box\"].dims = tuple(np.add(gscene.NAME_DICT[\"closet_box\"].dims, 0.2))"
   ]
  },
  {
   "cell_type": "code",
   "execution_count": null,
   "metadata": {},
   "outputs": [],
   "source": []
  },
  {
   "cell_type": "code",
   "execution_count": null,
   "metadata": {},
   "outputs": [],
   "source": []
  },
  {
   "cell_type": "markdown",
   "metadata": {},
   "source": [
    "\n",
    "## 2. Closet cleaning"
   ]
  },
  {
   "cell_type": "markdown",
   "metadata": {},
   "source": [
    "### 2.0. Prepare functions"
   ]
  },
  {
   "cell_type": "code",
   "execution_count": 22,
   "metadata": {},
   "outputs": [],
   "source": [
    "from pkg.planning.constraint.constraint_common import *\n",
    "from pkg.planning.constraint.constraint_actor import *\n",
    "from pkg.planning.constraint.constraint_subject import *\n",
    "from pkg.utils.code_scraps import get_look_motion"
   ]
  },
  {
   "cell_type": "code",
   "execution_count": 23,
   "metadata": {},
   "outputs": [],
   "source": [
    "Q_CUR = VIEW_MOVED_EXT\n",
    "HOME_POSE_SWEEP = np.copy(Q_CUR)\n",
    "# HOME_POSE_SWEEP[6:] = 0\n",
    "crob.home_pose = HOME_POSE_SWEEP\n",
    "crob.home_dict = list2dict(crob.home_pose, gscene.joint_names)\n",
    "floor_ws = gscene.NAME_DICT[\"floor_ws\"]    \n",
    "\n",
    "add_kiro_indytool_down(gscene, zoff=TOOL_OFFSET, tool_link=TIP_LINK, face_name=TOOL_NAME)\n",
    "brush_face = pscene.create_binder(bname=TOOL_NAME, gname=TOOL_NAME, _type=SweepFramer, \n",
    "                                  point=(0,0,-gscene.NAME_DICT['brush_face'].dims[2]/2-CLEARANCE), \n",
    "                                  rpy=(0,0,0))\n",
    "\n",
    "class ToolDir(Enum):\n",
    "    down = 0\n",
    "    up = 1\n",
    "\n",
    "def make_plan_fun(surface, Q_CUR, tip_dir, sweep_dir, tool_dir, plane_val, xout_cut=False, covered_pre=[]):\n",
    "    ccheck.clear()\n",
    "    div_base_dict, Tsm_keys, surface_div_centers, div_num, (ax_step, ax_swp, ax_pln) = \\\n",
    "                            get_division_dict(surface, brush_face, robot_config, \n",
    "                                              plane_val=plane_val, tip_dir=tip_dir, sweep_dir=sweep_dir,\n",
    "                                              TOOL_DIM=TOOL_DIM, ccheck=ccheck, \n",
    "                                              resolution=0.02, xout_cut=xout_cut)\n",
    "    \n",
    "    covered_pre = set(covered_pre)\n",
    "    remains = set(range(len(surface_div_centers))) - covered_pre\n",
    "\n",
    "    if covered_pre:\n",
    "        if remains:\n",
    "            div_base_dict_remains = defaultdict(lambda: defaultdict(list))\n",
    "            for k, div_dict in div_base_dict.items():\n",
    "                for i, divs in div_dict.items():\n",
    "                    divs = list(set(divs)-covered_pre)\n",
    "                    if divs:\n",
    "                        div_base_dict_remains[k][i] = divs\n",
    "            div_base_dict = div_base_dict_remains\n",
    "            Tsm_keys = [ tkey for tkey in Tsm_keys if tkey in div_base_dict]\n",
    "        else:\n",
    "            return [], [], [], Q_CUR, None, div_num, []\n",
    "\n",
    "    ax_swp_base = ax_swp\n",
    "    Rre = SweepDirections.get_dcm_re(tip_dir)\n",
    "    Tet = brush_face.get_tf_handle(crob.home_dict, from_link=TIP_LINK)  ## get data\n",
    "    Rrt = np.matmul(Rre, Tet[:3,:3])\n",
    "    ax_swp_tool = np.where(np.abs(Rrt.transpose()[:,ax_swp_base]).astype(np.int))[0][0]\n",
    "\n",
    "    HOME_POSE_MOVE = np.copy(Q_CUR[6:])\n",
    "    test_fun = TestBaseDivFunc(ppline, floor_ws, surface, ax_swp_tool, ax_swp_base,\n",
    "                               WP_DIMS, TOOL_DIM, crob.home_dict, tool_dir=tool_dir,\n",
    "                               multiprocess=PLANNING_MULTIPROC, timeout=0.3, timeout_loop=3)\n",
    "    test_fun.clear()\n",
    "\n",
    "    idx_bases, idc_divs, covered_all, snode_schedule_list = select_max_cover_bases(\n",
    "        div_base_dict, Tsm_keys, surface_div_centers, div_num, ax_step, \n",
    "        test_fun=test_fun, lazy_base_thresh=np.max(TOOL_DIM)/2)\n",
    "\n",
    "    snode_schedule_list, idx_bases, idc_divs, scene_args_list, scene_kwargs_list = refine_order_plan(\n",
    "        ppline, snode_schedule_list, idx_bases, idc_divs, Q_CUR, \n",
    "        floor_ws, wayframer, surface, Tsm_keys, surface_div_centers,  \n",
    "        WP_DIMS, TOOL_DIM, ROBOT_NAME, MOBILE_NAME, HOME_POSE_MOVE, \n",
    "        ax_swp_tool, ax_swp_base, tool_dir=1)\n",
    "    test_fun.clear()\n",
    "    if len(snode_schedule_list)>0:\n",
    "        Q_CUR = snode_schedule_list[-1][-1].state.Q\n",
    "    return snode_schedule_list, scene_args_list, scene_kwargs_list, Q_CUR, test_fun, covered_all"
   ]
  },
  {
   "cell_type": "markdown",
   "metadata": {},
   "source": [
    "### 2.1. Make closet cleaning plan"
   ]
  },
  {
   "cell_type": "code",
   "execution_count": 24,
   "metadata": {},
   "outputs": [
    {
     "name": "stdout",
     "output_type": "stream",
     "text": [
      "\u001b[91m==========================================================\u001b[0m\n",
      "\u001b[91mterminate_on_first is deprecated. Use max_solution_count=1\u001b[0m\n",
      "\u001b[91m==========================================================\u001b[0m\n",
      "Use 36/36 agents\n",
      "Goal reached\n",
      "Goal reached\n",
      "=========================================================================================================\n",
      "=========================================================================================================\n",
      "======================= terminated 8: required answers acquired ===============================\n",
      "======================= terminated 34: required answers acquired from other agent ===============================\n",
      "=========================================================================================================\n",
      "=========================================================================================================\n",
      "=========================================================================================================\n",
      "======================= terminated 24: required answers acquired from other agent ===============================\n",
      "=========================================================================================================\n",
      "Goal reached\n",
      "=========================================================================================================\n",
      "======================= terminated 3: required answers acquired from other agent ===============================\n",
      "=========================================================================================================\n",
      "=========================================================================================================\n",
      "=========================================================================================================\n",
      "=========================================================================================================\n",
      "=========================================================================================================\n",
      "Goal reached\n",
      "======================= terminated 27: required answers acquired from other agent ===============================\n",
      "======================= terminated 14: required answers acquired ===============================\n",
      "Goal reached\n",
      "Goal reached\n",
      "=========================================================================================================\n",
      "======================= terminated 6: required answers acquired from other agent ===============================\n",
      "=========================================================================================================\n",
      "=========================================================================================================\n",
      "======================= terminated 4: required answers acquired ===============================\n",
      "=========================================================================================================\n",
      "=========================================================================================================\n",
      "======================= terminated 25: required answers acquired from other agent ===============================\n",
      "======================= terminated 28: required answers acquired from other agent ===============================\n",
      "=========================================================================================================\n",
      "=========================================================================================================\n",
      "======================= terminated 10: required answers acquired ===============================\n",
      "======================= terminated 5: required answers acquired ===============================\n",
      "=========================================================================================================\n",
      "=========================================================================================================\n",
      "=========================================================================================================\n",
      "=========================================================================================================\n",
      "======================= terminated 0: required answers acquired from other agent ===============================\n",
      "=========================================================================================================\n",
      "=========================================================================================================\n",
      "=========================================================================================================\n",
      "=========================================================================================================\n",
      "======================= terminated 16: required answers acquired from other agent ===============================\n",
      "=========================================================================================================\n",
      "Goal reached\n",
      "=========================================================================================================\n",
      "======================= terminated 12: required answers acquired ===============================\n",
      "=========================================================================================================\n",
      "=========================================================================================================\n",
      "======================= terminated 19: required answers acquired from other agent ===============================\n",
      "=========================================================================================================\n",
      "=========================================================================================================\n",
      "======================= terminated 15: required answers acquired from other agent ===============================\n",
      "=========================================================================================================\n",
      "======================= terminated 30: required answers acquired from other agent ===============================\n",
      "=========================================================================================================\n",
      "=========================================================================================================\n",
      "=========================================================================================================\n",
      "======================= terminated 7: required answers acquired from other agent ===============================\n",
      "=========================================================================================================\n",
      "Goal reached\n",
      "=========================================================================================================\n",
      "======================= terminated 29: required answers acquired from other agent ===============================\n",
      "=========================================================================================================\n",
      "=========================================================================================================\n",
      "======================= terminated 13: required answers acquired ===============================\n",
      "=========================================================================================================\n",
      "Goal reached\n",
      "=========================================================================================================\n",
      "======================= terminated 11: required answers acquired ===============================\n",
      "=========================================================================================================\n",
      "Goal reached\n",
      "=========================================================================================================\n",
      "======================= terminated 20: required answers acquired ===============================\n",
      "=========================================================================================================\n",
      "=========================================================================================================\n",
      "======================= terminated 1: required answers acquired from other agent ===============================\n",
      "=========================================================================================================\n",
      "=========================================================================================================\n",
      "======================= terminated 33: required answers acquired from other agent ===============================\n"
     ]
    },
    {
     "name": "stdout",
     "output_type": "stream",
     "text": [
      "=========================================================================================================\n",
      "Goal reached\n",
      "=========================================================================================================\n",
      "======================= terminated 18: required answers acquired ===============================\n",
      "=========================================================================================================\n",
      "=========================================================================================================\n",
      "======================= terminated 31: required answers acquired from other agent ===============================\n",
      "=========================================================================================================\n",
      "=========================================================================================================\n",
      "======================= terminated 23: required answers acquired from other agent ===============================\n",
      "=========================================================================================================\n",
      "=========================================================================================================\n",
      "======================= terminated 32: required answers acquired from other agent ===============================\n",
      "=========================================================================================================\n",
      "=========================================================================================================\n",
      "======================= terminated 21: required answers acquired from other agent ===============================\n",
      "=========================================================================================================\n",
      "=========================================================================================================\n",
      "======================= terminated 35: required answers acquired from other agent ===============================\n",
      "=========================================================================================================\n",
      "Goal reached\n",
      "=========================================================================================================\n",
      "Goal reached\n",
      "======================= terminated 26: required answers acquired ===============================\n",
      "=========================================================================================================\n",
      "=========================================================================================================\n",
      "======================= terminated 9: required answers acquired ===============================\n",
      "Goal reached\n",
      "=========================================================================================================\n",
      "=========================================================================================================\n",
      "=========================================================================================================\n",
      "======================= terminated 2: required answers acquired ===============================\n",
      "=========================================================================================================\n",
      "======================= terminated 17: required answers acquired from other agent ===============================\n",
      "=========================================================================================================\n",
      "=========================================================================================================\n",
      "======================= terminated 22: required answers acquired from other agent ===============================\n",
      "=========================================================================================================\n",
      "\u001b[91m==========================================================\u001b[0m\n",
      "\u001b[91mterminate_on_first is deprecated. Use max_solution_count=1\u001b[0m\n",
      "\u001b[91m==========================================================\u001b[0m\n",
      "Use 36/36 agents\n",
      "Goal reached\n",
      "Goal reached\n",
      "=========================================================================================================\n",
      "======================= terminated 2: required answers acquired ===============================\n",
      "=========================================================================================================\n",
      "=========================================================================================================\n",
      "=========================================================================================================\n",
      "======================= terminated 19: required answers acquired from other agent ===============================\n",
      "=========================================================================================================\n",
      "=========================================================================================================\n",
      "======================= terminated 16: required answers acquired from other agent ===============================\n",
      "=========================================================================================================\n",
      "======================= terminated 31: required answers acquired from other agent ===============================\n",
      "=========================================================================================================\n",
      "=========================================================================================================\n",
      "======================= terminated 22: required answers acquired from other agent ===============================\n",
      "=========================================================================================================\n",
      "=========================================================================================================\n",
      "Goal reached\n",
      "Goal reached\n",
      "=========================================================================================================\n",
      "=========================================================================================================\n",
      "======================= terminated 32: required answers acquired from other agent ===============================\n",
      "======================= terminated 7: required answers acquired ===============================\n",
      "======================= terminated 13: required answers acquired ===============================\n",
      "=========================================================================================================\n",
      "=========================================================================================================\n",
      "=========================================================================================================\n",
      "=========================================================================================================\n",
      "=========================================================================================================\n",
      "======================= terminated 21: required answers acquired from other agent ===============================\n",
      "=========================================================================================================\n",
      "======================= terminated 33: required answers acquired from other agent ===============================\n",
      "=========================================================================================================\n",
      "=========================================================================================================\n",
      "======================= terminated 4: required answers acquired from other agent ===============================\n",
      "=========================================================================================================\n",
      "Goal reached\n",
      "=========================================================================================================\n",
      "======================= terminated 10: required answers acquired ===============================\n",
      "=========================================================================================================\n",
      "=========================================================================================================\n",
      "======================= terminated 34: required answers acquired from other agent ===============================\n",
      "=========================================================================================================\n",
      "=========================================================================================================\n"
     ]
    },
    {
     "name": "stdout",
     "output_type": "stream",
     "text": [
      "======================= terminated 25: required answers acquired from other agent ===============================\n",
      "=========================================================================================================\n",
      "=========================================================================================================\n",
      "======================= terminated 35: required answers acquired from other agent ===============================\n",
      "=========================================================================================================\n",
      "=========================================================================================================\n",
      "======================= terminated 20: required answers acquired from other agent ===============================\n",
      "=========================================================================================================\n",
      "=========================================================================================================\n",
      "======================= terminated 18: required answers acquired from other agent ===============================\n",
      "=========================================================================================================\n",
      "=========================================================================================================\n",
      "======================= terminated 23: required answers acquired from other agent ===============================\n",
      "=========================================================================================================\n",
      "=========================================================================================================\n",
      "======================= terminated 24: required answers acquired from other agent ===============================\n",
      "=========================================================================================================\n",
      "=========================================================================================================\n",
      "======================= terminated 0: required answers acquired from other agent ===============================\n",
      "=========================================================================================================\n",
      "Goal reached\n",
      "Goal reached\n",
      "=========================================================================================================\n",
      "=========================================================================================================\n",
      "======================= terminated 15: required answers acquired ===============================\n",
      "======================= terminated 11: required answers acquired ===============================\n",
      "=========================================================================================================\n",
      "=========================================================================================================\n",
      "=========================================================================================================\n",
      "======================= terminated 26: required answers acquired from other agent ===============================\n",
      "=========================================================================================================\n",
      "=========================================================================================================\n",
      "======================= terminated 1: required answers acquired from other agent ===============================\n",
      "=========================================================================================================\n",
      "Goal reached\n",
      "=========================================================================================================\n",
      "======================= terminated 14: required answers acquired ===============================\n",
      "=========================================================================================================\n",
      "=========================================================================================================\n",
      "======================= terminated 9: required answers acquired from other agent ===============================\n",
      "Goal reached\n",
      "=========================================================================================================\n",
      "=========================================================================================================\n",
      "======================= terminated 17: required answers acquired ===============================\n",
      "=========================================================================================================\n",
      "=========================================================================================================\n",
      "======================= terminated 30: required answers acquired from other agent ===============================\n",
      "=========================================================================================================\n",
      "=========================================================================================================\n",
      "======================= terminated 5: required answers acquired from other agent ===============================\n",
      "=========================================================================================================\n",
      "=========================================================================================================\n",
      "======================= terminated 8: required answers acquired from other agent ===============================\n",
      "=========================================================================================================\n",
      "=========================================================================================================\n",
      "======================= terminated 29: required answers acquired from other agent ===============================\n",
      "=========================================================================================================\n",
      "=========================================================================================================\n",
      "======================= terminated 27: required answers acquired from other agent ===============================\n",
      "=========================================================================================================\n",
      "=========================================================================================================\n",
      "======================= terminated 3: required answers acquired from other agent ===============================\n",
      "=========================================================================================================\n",
      "=========================================================================================================\n",
      "======================= terminated 6: required answers acquired from other agent ===============================\n",
      "=========================================================================================================\n",
      "=========================================================================================================\n",
      "======================= terminated 28: required answers acquired from other agent ===============================\n",
      "=========================================================================================================\n",
      "=========================================================================================================\n",
      "======================= terminated 12: required answers acquired from other agent ===============================\n",
      "=========================================================================================================\n",
      "Goal reached\n",
      "update 1th motion\n",
      "Goal reached\n",
      "no skip 0: 0.3673\n",
      "\u001b[91mTry mix\u001b[0m\n",
      "\u001b[91m==========================================================\u001b[0m\n",
      "\u001b[91mterminate_on_first is deprecated. Use max_solution_count=1\u001b[0m\n",
      "\u001b[91m==========================================================\u001b[0m\n",
      "Use 36/36 agents\n",
      "Goal reached\n",
      "Goal reached\n",
      "=========================================================================================================\n",
      "=========================================================================================================\n",
      "Goal reached\n",
      "=========================================================================================================\n",
      "======================= terminated 20: required answers acquired from other agent ===============================\n",
      "=========================================================================================================\n"
     ]
    },
    {
     "name": "stdout",
     "output_type": "stream",
     "text": [
      "======================= terminated 10: required answers acquired from other agent ===============================\n",
      "======================= terminated 7: required answers acquired ===============================\n",
      "=========================================================================================================\n",
      "=========================================================================================================\n",
      "======================= terminated 2: required answers acquired ===============================\n",
      "=========================================================================================================\n",
      "======================= terminated 11: required answers acquired from other agent ===============================\n",
      "=========================================================================================================\n",
      "=========================================================================================================\n",
      "=========================================================================================================\n",
      "Goal reached\n",
      "======================= terminated 16: required answers acquired from other agent ===============================\n",
      "=========================================================================================================\n",
      "=========================================================================================================\n",
      "======================= terminated 21: required answers acquired from other agent ===============================\n",
      "======================= terminated 9: required answers acquired ===============================\n",
      "=========================================================================================================\n",
      "=========================================================================================================\n",
      "======================= terminated 12: required answers acquired from other agent ===============================\n",
      "=========================================================================================================\n",
      "=========================================================================================================\n",
      "=========================================================================================================\n",
      "=========================================================================================================\n",
      "=========================================================================================================\n",
      "======================= terminated 30: required answers acquired from other agent ===============================\n",
      "Goal reached\n",
      "=========================================================================================================\n",
      "======================= terminated 14: required answers acquired from other agent ===============================\n",
      "=========================================================================================================\n",
      "=========================================================================================================\n",
      "=========================================================================================================\n",
      "======================= terminated 8: required answers acquired ===============================\n",
      "=========================================================================================================\n",
      "Goal reached\n",
      "=========================================================================================================\n",
      "======================= terminated 4: required answers acquired ===============================\n",
      "=========================================================================================================\n",
      "=========================================================================================================\n",
      "======================= terminated 31: required answers acquired from other agent ===============================\n",
      "=========================================================================================================\n",
      "=========================================================================================================\n",
      "======================= terminated 15: required answers acquired from other agent ===============================\n",
      "=========================================================================================================\n",
      "=========================================================================================================\n",
      "======================= terminated 32: required answers acquired from other agent ===============================\n",
      "=========================================================================================================\n",
      "=========================================================================================================\n",
      "======================= terminated 33: required answers acquired from other agent ===============================\n",
      "=========================================================================================================\n",
      "=========================================================================================================\n",
      "======================= terminated 34: required answers acquired from other agent ===============================\n",
      "=========================================================================================================\n",
      "Goal reached\n",
      "=========================================================================================================\n",
      "======================= terminated 17: required answers acquired ===============================\n",
      "=========================================================================================================\n",
      "Goal reached\n",
      "=========================================================================================================\n",
      "======================= terminated 6: required answers acquired ===============================\n",
      "=========================================================================================================\n",
      "=========================================================================================================\n",
      "======================= terminated 35: required answers acquired from other agent ===============================\n",
      "=========================================================================================================\n",
      "=========================================================================================================\n",
      "======================= terminated 28: required answers acquired from other agent ===============================\n",
      "=========================================================================================================\n",
      "Goal reached\n",
      "=========================================================================================================\n",
      "======================= terminated 19: required answers acquired ===============================\n",
      "=========================================================================================================\n",
      "=========================================================================================================\n",
      "Goal reached\n",
      "=========================================================================================================\n",
      "======================= terminated 13: required answers acquired ===============================\n",
      "=========================================================================================================\n",
      "======================= terminated 25: required answers acquired from other agent ===============================\n",
      "=========================================================================================================\n",
      "=========================================================================================================\n",
      "======================= terminated 18: required answers acquired from other agent ===============================\n",
      "=========================================================================================================\n",
      "=========================================================================================================\n",
      "======================= terminated 1: required answers acquired from other agent ===============================\n",
      "=========================================================================================================\n"
     ]
    },
    {
     "name": "stdout",
     "output_type": "stream",
     "text": [
      "=========================================================================================================\n",
      "======================= terminated 23: required answers acquired from other agent ===============================\n",
      "=========================================================================================================\n",
      "=========================================================================================================\n",
      "======================= terminated 24: required answers acquired from other agent ===============================\n",
      "=========================================================================================================\n",
      "=========================================================================================================\n",
      "======================= terminated 22: required answers acquired from other agent ===============================\n",
      "=========================================================================================================\n",
      "=========================================================================================================\n",
      "======================= terminated 29: required answers acquired from other agent ===============================\n",
      "=========================================================================================================\n",
      "=========================================================================================================\n",
      "======================= terminated 26: required answers acquired from other agent ===============================\n",
      "=========================================================================================================\n",
      "=========================================================================================================\n",
      "======================= terminated 27: required answers acquired from other agent ===============================\n",
      "=========================================================================================================\n",
      "=========================================================================================================\n",
      "======================= terminated 0: required answers acquired from other agent ===============================\n",
      "=========================================================================================================\n",
      "=========================================================================================================\n",
      "======================= terminated 3: required answers acquired from other agent ===============================\n",
      "=========================================================================================================\n",
      "=========================================================================================================\n",
      "======================= terminated 5: required answers acquired from other agent ===============================\n",
      "=========================================================================================================\n",
      "update 1th motion\n",
      "Goal reached\n",
      "\u001b[91m==========================================================\u001b[0m\n",
      "\u001b[91mterminate_on_first is deprecated. Use max_solution_count=1\u001b[0m\n",
      "\u001b[91m==========================================================\u001b[0m\n",
      "Use 36/36 agents\n",
      "Goal reached\n",
      "Goal reached\n",
      "=========================================================================================================\n",
      "=========================================================================================================\n",
      "=========================================================================================================\n",
      "======================= terminated 10: required answers acquired from other agent ===============================\n",
      "======================= terminated 4: required answers acquired ===============================\n",
      "=========================================================================================================\n",
      "======================= terminated 21: required answers acquired from other agent ===============================\n",
      "=========================================================================================================\n",
      "======================= terminated 25: required answers acquired from other agent ===============================\n",
      "=========================================================================================================\n",
      "=========================================================================================================\n",
      "=========================================================================================================\n",
      "=========================================================================================================\n",
      "======================= terminated 22: required answers acquired from other agent ===============================\n",
      "=========================================================================================================\n",
      "=========================================================================================================\n",
      "======================= terminated 30: required answers acquired from other agent ===============================\n",
      "=========================================================================================================\n",
      "======================= terminated 32: required answers acquired from other agent ===============================\n",
      "=========================================================================================================\n",
      "=========================================================================================================\n",
      "======================= terminated 20: required answers acquired from other agent ===============================\n",
      "=========================================================================================================\n",
      "=========================================================================================================\n",
      "=========================================================================================================\n",
      "======================= terminated 33: required answers acquired from other agent ===============================\n",
      "=========================================================================================================\n",
      "Goal reached\n",
      "=========================================================================================================\n",
      "=========================================================================================================\n",
      "=========================================================================================================\n",
      "======================= terminated 1: required answers acquired from other agent ===============================\n",
      "=========================================================================================================\n",
      "=========================================================================================================\n",
      "======================= terminated 34: required answers acquired from other agent ===============================\n",
      "======================= terminated 9: required answers acquired ===============================\n",
      "=========================================================================================================\n",
      "======================= terminated 18: required answers acquired from other agent ===============================\n",
      "=========================================================================================================\n",
      "=========================================================================================================\n",
      "=========================================================================================================\n",
      "======================= terminated 3: required answers acquired from other agent ===============================\n",
      "=========================================================================================================\n",
      "=========================================================================================================\n",
      "======================= terminated 35: required answers acquired from other agent ===============================\n",
      "=========================================================================================================\n",
      "Goal reached\n",
      "=========================================================================================================\n"
     ]
    },
    {
     "name": "stdout",
     "output_type": "stream",
     "text": [
      "======================= terminated 15: required answers acquired ===============================\n",
      "=========================================================================================================\n",
      "Goal reached\n",
      "Goal reached\n",
      "=========================================================================================================\n",
      "=========================================================================================================\n",
      "======================= terminated 11: required answers acquired ===============================\n",
      "=========================================================================================================\n",
      "======================= terminated 16: required answers acquired ===============================\n",
      "=========================================================================================================\n",
      "=========================================================================================================\n",
      "======================= terminated 19: required answers acquired from other agent ===============================\n",
      "=========================================================================================================\n",
      "=========================================================================================================\n",
      "======================= terminated 0: required answers acquired from other agent ===============================\n",
      "=========================================================================================================\n",
      "=========================================================================================================\n",
      "======================= terminated 26: required answers acquired from other agent ===============================\n",
      "=========================================================================================================\n",
      "Goal reached\n",
      "=========================================================================================================\n",
      "======================= terminated 17: required answers acquired ===============================\n",
      "=========================================================================================================\n",
      "=========================================================================================================\n",
      "======================= terminated 24: required answers acquired from other agent ===============================\n",
      "=========================================================================================================\n",
      "=========================================================================================================\n",
      "======================= terminated 7: required answers acquired from other agent ===============================\n",
      "=========================================================================================================\n",
      "=========================================================================================================\n",
      "======================= terminated 23: required answers acquired from other agent ===============================\n",
      "=========================================================================================================\n",
      "Goal reached\n",
      "=========================================================================================================\n",
      "======================= terminated 13: required answers acquired ===============================\n",
      "=========================================================================================================\n",
      "=========================================================================================================\n",
      "======================= terminated 28: required answers acquired from other agent ===============================\n",
      "=========================================================================================================\n",
      "=========================================================================================================\n",
      "======================= terminated 27: required answers acquired from other agent ===============================\n",
      "=========================================================================================================\n",
      "=========================================================================================================\n",
      "======================= terminated 31: required answers acquired from other agent ===============================\n",
      "=========================================================================================================\n",
      "=========================================================================================================\n",
      "======================= terminated 29: required answers acquired from other agent ===============================\n",
      "=========================================================================================================\n",
      "=========================================================================================================\n",
      "======================= terminated 8: required answers acquired from other agent ===============================\n",
      "=========================================================================================================\n",
      "=========================================================================================================\n",
      "======================= terminated 2: required answers acquired from other agent ===============================\n",
      "=========================================================================================================\n",
      "=========================================================================================================\n",
      "======================= terminated 6: required answers acquired from other agent ===============================\n",
      "=========================================================================================================\n",
      "=========================================================================================================\n",
      "======================= terminated 5: required answers acquired from other agent ===============================\n",
      "=========================================================================================================\n",
      "=========================================================================================================\n",
      "======================= terminated 12: required answers acquired from other agent ===============================\n",
      "=========================================================================================================\n",
      "=========================================================================================================\n",
      "======================= terminated 14: required answers acquired from other agent ===============================\n",
      "=========================================================================================================\n",
      "update 1th motion\n",
      "Goal reached\n",
      "\u001b[91m==========================================================\u001b[0m\n",
      "\u001b[91mterminate_on_first is deprecated. Use max_solution_count=1\u001b[0m\n",
      "\u001b[91m==========================================================\u001b[0m\n",
      "Use 36/36 agents\n",
      "Goal reached\n",
      "Goal reached\n",
      "=========================================================================================================\n",
      "Goal reached\n",
      "=========================================================================================================\n",
      "Goal reached\n",
      "======================= terminated 3: required answers acquired ===============================\n",
      "=========================================================================================================\n",
      "======================= terminated 8: required answers acquired from other agent ===============================\n",
      "=========================================================================================================\n",
      "=========================================================================================================\n",
      "=========================================================================================================\n",
      "======================= terminated 11: required answers acquired ===============================\n",
      "======================= terminated 7: required answers acquired ===============================\n",
      "=========================================================================================================\n",
      "=========================================================================================================\n"
     ]
    },
    {
     "name": "stdout",
     "output_type": "stream",
     "text": [
      "=========================================================================================================\n",
      "======================= terminated 9: required answers acquired from other agent ===============================\n",
      "=========================================================================================================\n",
      "=========================================================================================================\n",
      "=========================================================================================================\n",
      "======================= terminated 6: required answers acquired from other agent ===============================\n",
      "======================= terminated 17: required answers acquired from other agent ===============================\n",
      "=========================================================================================================\n",
      "=========================================================================================================\n",
      "======================= terminated 12: required answers acquired from other agent ===============================\n",
      "=========================================================================================================\n",
      "=========================================================================================================\n",
      "=========================================================================================================\n",
      "======================= terminated 35: required answers acquired from other agent ===============================\n",
      "=========================================================================================================\n",
      "Goal reached\n",
      "=========================================================================================================\n",
      "======================= terminated 15: required answers acquired ===============================\n",
      "=========================================================================================================\n",
      "=========================================================================================================\n",
      "======================= terminated 34: required answers acquired from other agent ===============================\n",
      "=========================================================================================================\n",
      "=========================================================================================================\n",
      "======================= terminated 16: required answers acquired from other agent ===============================\n",
      "=========================================================================================================\n",
      "=========================================================================================================\n",
      "======================= terminated 20: required answers acquired from other agent ===============================\n",
      "=========================================================================================================\n",
      "Goal reached\n",
      "=========================================================================================================\n",
      "======================= terminated 13: required answers acquired ===============================\n",
      "=========================================================================================================\n",
      "Goal reached\n",
      "=========================================================================================================\n",
      "=========================================================================================================\n",
      "======================= terminated 22: required answers acquired ===============================\n",
      "======================= terminated 25: required answers acquired from other agent ===============================\n",
      "=========================================================================================================\n",
      "=========================================================================================================\n",
      "=========================================================================================================\n",
      "======================= terminated 19: required answers acquired from other agent ===============================\n",
      "=========================================================================================================\n",
      "=========================================================================================================\n",
      "======================= terminated 28: required answers acquired from other agent ===============================\n",
      "=========================================================================================================\n",
      "Goal reached\n",
      "=========================================================================================================\n",
      "======================= terminated 21: required answers acquired ===============================\n",
      "=========================================================================================================\n",
      "Goal reached\n",
      "=========================================================================================================\n",
      "=========================================================================================================\n",
      "======================= terminated 0: required answers acquired from other agent ===============================\n",
      "======================= terminated 14: required answers acquired ===============================\n",
      "=========================================================================================================\n",
      "=========================================================================================================\n",
      "=========================================================================================================\n",
      "======================= terminated 10: required answers acquired from other agent ===============================\n",
      "=========================================================================================================\n",
      "=========================================================================================================\n",
      "======================= terminated 1: required answers acquired from other agent ===============================\n",
      "=========================================================================================================\n",
      "=========================================================================================================\n",
      "Goal reached\n",
      "======================= terminated 26: required answers acquired from other agent ===============================\n",
      "=========================================================================================================\n",
      "=========================================================================================================\n",
      "======================= terminated 18: required answers acquired ===============================\n",
      "=========================================================================================================\n",
      "Goal reached\n",
      "=========================================================================================================\n",
      "======================= terminated 23: required answers acquired ===============================\n",
      "=========================================================================================================\n",
      "Goal reached\n",
      "=========================================================================================================\n",
      "======================= terminated 24: required answers acquired ===============================\n",
      "=========================================================================================================\n",
      "=========================================================================================================\n",
      "======================= terminated 32: required answers acquired from other agent ===============================\n",
      "=========================================================================================================\n",
      "Goal reached\n",
      "=========================================================================================================\n",
      "======================= terminated 2: required answers acquired ===============================\n",
      "=========================================================================================================\n",
      "Goal reached\n",
      "=========================================================================================================\n"
     ]
    },
    {
     "name": "stdout",
     "output_type": "stream",
     "text": [
      "======================= terminated 31: required answers acquired ===============================\n",
      "=========================================================================================================\n",
      "=========================================================================================================\n",
      "======================= terminated 30: required answers acquired from other agent ===============================\n",
      "=========================================================================================================\n",
      "Goal reached\n",
      "=========================================================================================================\n",
      "======================= terminated 4: required answers acquired ===============================\n",
      "=========================================================================================================\n",
      "Goal reached\n",
      "Goal reached\n",
      "=========================================================================================================\n",
      "======================= terminated 33: required answers acquired ===============================\n",
      "=========================================================================================================\n",
      "=========================================================================================================\n",
      "======================= terminated 29: required answers acquired ===============================\n",
      "=========================================================================================================\n",
      "Goal reached\n",
      "=========================================================================================================\n",
      "======================= terminated 5: required answers acquired ===============================\n",
      "=========================================================================================================\n",
      "Goal reached\n",
      "=========================================================================================================\n",
      "======================= terminated 27: required answers acquired ===============================\n",
      "=========================================================================================================\n",
      "\u001b[91m==========================================================\u001b[0m\n",
      "\u001b[91mterminate_on_first is deprecated. Use max_solution_count=1\u001b[0m\n",
      "\u001b[91m==========================================================\u001b[0m\n",
      "Use 36/36 agents\n",
      "=========================================================================================================\n",
      "=========================================================================================================\n",
      "======================= terminated 20: max iteration time reached (3/3 s) ===============================\n",
      "=========================================================================================================\n",
      "=========================================================================================================\n",
      "=========================================================================================================\n",
      "======================= terminated 14: max iteration time reached (3/3 s) ===============================\n",
      "======================= terminated 13: max iteration time reached (3/3 s) ===============================\n",
      "=========================================================================================================\n",
      "======================= terminated 11: max iteration time reached (3/3 s) ===============================\n",
      "=========================================================================================================\n",
      "=========================================================================================================\n",
      "=========================================================================================================\n",
      "=========================================================================================================\n",
      "=========================================================================================================\n",
      "======================= terminated 32: max iteration time reached (3/3 s) ===============================\n",
      "======================= terminated 12: max iteration time reached (3/3 s) ===============================\n",
      "======================= terminated 3: max iteration time reached (3/3 s) ===============================\n",
      "=========================================================================================================\n",
      "=========================================================================================================\n",
      "=========================================================================================================\n",
      "=========================================================================================================\n",
      "======================= terminated 2: max iteration time reached (3/3 s) ===============================\n",
      "======================= terminated 30: max iteration time reached (3/3 s) ===============================\n",
      "=========================================================================================================\n",
      "=========================================================================================================\n",
      "=========================================================================================================\n",
      "=========================================================================================================\n",
      "======================= terminated 1: max iteration time reached (3/3 s) ===============================\n",
      "=========================================================================================================\n",
      "=========================================================================================================\n",
      "=========================================================================================================\n",
      "======================= terminated 0: max iteration time reached (3/3 s) ===============================\n",
      "======================= terminated 23: max iteration time reached (3/3 s) ===============================\n",
      "=========================================================================================================\n",
      "=========================================================================================================\n",
      "======================= terminated 15: max iteration time reached (3/3 s) ===============================\n",
      "=========================================================================================================\n",
      "=========================================================================================================\n",
      "=========================================================================================================\n",
      "======================= terminated 31: max iteration time reached (3/3 s) ===============================\n",
      "=========================================================================================================\n",
      "======================= terminated 8: max iteration time reached (3/3 s) ===============================\n",
      "=========================================================================================================\n",
      "=========================================================================================================\n",
      "=========================================================================================================\n",
      "======================= terminated 16: max iteration time reached (3/3 s) ===============================\n",
      "=========================================================================================================\n",
      "=========================================================================================================\n",
      "======================= terminated 10: max iteration time reached (3/3 s) ===============================\n",
      "=========================================================================================================\n",
      "=========================================================================================================\n",
      "======================= terminated 33: max iteration time reached (3/3 s) ===============================\n",
      "=========================================================================================================\n",
      "=========================================================================================================\n",
      "======================= terminated 35: max iteration time reached (3/3 s) ===============================\n"
     ]
    },
    {
     "name": "stdout",
     "output_type": "stream",
     "text": [
      "=========================================================================================================\n",
      "=========================================================================================================\n",
      "=========================================================================================================\n",
      "======================= terminated 34: max iteration time reached (3/3 s) ===============================\n",
      "=========================================================================================================\n",
      "======================= terminated 18: max iteration time reached (3/3 s) ===============================\n",
      "=========================================================================================================\n",
      "=========================================================================================================\n",
      "======================= terminated 17: max iteration time reached (3/3 s) ===============================\n",
      "=========================================================================================================\n",
      "=========================================================================================================\n",
      "======================= terminated 5: max iteration time reached (3/3 s) ===============================\n",
      "=========================================================================================================\n",
      "=========================================================================================================\n",
      "======================= terminated 19: max iteration time reached (3/3 s) ===============================\n",
      "=========================================================================================================\n",
      "=========================================================================================================\n",
      "======================= terminated 29: max iteration time reached (3/3 s) ===============================\n",
      "=========================================================================================================\n",
      "=========================================================================================================\n",
      "======================= terminated 7: max iteration time reached (3/3 s) ===============================\n",
      "=========================================================================================================\n",
      "=========================================================================================================\n",
      "======================= terminated 21: max iteration time reached (3/3 s) ===============================\n",
      "=========================================================================================================\n",
      "=========================================================================================================\n",
      "======================= terminated 24: max iteration time reached (3/3 s) ===============================\n",
      "=========================================================================================================\n",
      "=========================================================================================================\n",
      "======================= terminated 6: max iteration time reached (3/3 s) ===============================\n",
      "=========================================================================================================\n",
      "=========================================================================================================\n",
      "======================= terminated 4: max iteration time reached (3/3 s) ===============================\n",
      "=========================================================================================================\n",
      "=========================================================================================================\n",
      "======================= terminated 28: max iteration time reached (3/3 s) ===============================\n",
      "=========================================================================================================\n",
      "=========================================================================================================\n",
      "======================= terminated 26: max iteration time reached (3/3 s) ===============================\n",
      "=========================================================================================================\n",
      "=========================================================================================================\n",
      "======================= terminated 9: max iteration time reached (3/3 s) ===============================\n",
      "=========================================================================================================\n",
      "=========================================================================================================\n",
      "=========================================================================================================\n",
      "======================= terminated 27: max iteration time reached (3/3 s) ===============================\n",
      "======================= terminated 25: max iteration time reached (3/3 s) ===============================\n",
      "=========================================================================================================\n",
      "=========================================================================================================\n",
      "\u001b[91m==========================================================\u001b[0m\n",
      "\u001b[91mterminate_on_first is deprecated. Use max_solution_count=1\u001b[0m\n",
      "\u001b[91m==========================================================\u001b[0m\n",
      "Use 36/36 agents\n",
      "=========================================================================================================\n",
      "======================= terminated 13: max iteration time reached (3/3 s) ===============================\n",
      "=========================================================================================================\n",
      "=========================================================================================================\n",
      "=========================================================================================================\n",
      "======================= terminated 22: max iteration time reached (3/3 s) ===============================\n",
      "=========================================================================================================\n",
      "======================= terminated 18: max iteration time reached (3/3 s) ===============================\n",
      "=========================================================================================================\n",
      "=========================================================================================================\n",
      "=========================================================================================================\n",
      "=========================================================================================================\n",
      "=========================================================================================================\n",
      "======================= terminated 16: max iteration time reached (3/3 s) ===============================\n",
      "=========================================================================================================\n",
      "======================= terminated 12: max iteration time reached (3/3 s) ===============================\n",
      "=========================================================================================================\n",
      "======================= terminated 28: max iteration time reached (3/3 s) ===============================\n",
      "======================= terminated 0: max iteration time reached (3/3 s) ===============================\n",
      "======================= terminated 25: max iteration time reached (3/3 s) ===============================\n",
      "=========================================================================================================\n",
      "=========================================================================================================\n",
      "=========================================================================================================\n",
      "=========================================================================================================\n",
      "=========================================================================================================\n",
      "======================= terminated 23: max iteration time reached (3/3 s) ===============================\n",
      "=========================================================================================================\n"
     ]
    },
    {
     "name": "stdout",
     "output_type": "stream",
     "text": [
      "=========================================================================================================\n",
      "======================= terminated 31: max iteration time reached (3/3 s) ===============================\n",
      "=========================================================================================================\n",
      "=========================================================================================================\n",
      "=========================================================================================================\n",
      "======================= terminated 3: max iteration time reached (3/3 s) ===============================\n",
      "=========================================================================================================\n",
      "======================= terminated 8: max iteration time reached (3/3 s) ===============================\n",
      "=========================================================================================================\n",
      "=========================================================================================================\n",
      "======================= terminated 35: max iteration time reached (3/3 s) ===============================\n",
      "=========================================================================================================\n",
      "=========================================================================================================\n",
      "======================= terminated 19: max iteration time reached (3/3 s) ===============================\n",
      "=========================================================================================================\n",
      "=========================================================================================================\n",
      "======================= terminated 1: max iteration time reached (3/3 s) ===============================\n",
      "=========================================================================================================\n",
      "=========================================================================================================\n",
      "======================= terminated 27: max iteration time reached (3/3 s) ===============================\n",
      "=========================================================================================================\n",
      "=========================================================================================================\n",
      "=========================================================================================================\n",
      "======================= terminated 24: max iteration time reached (3/3 s) ===============================\n",
      "======================= terminated 33: max iteration time reached (3/3 s) ===============================\n",
      "=========================================================================================================\n",
      "=========================================================================================================\n",
      "=========================================================================================================\n",
      "======================= terminated 32: max iteration time reached (3/3 s) ===============================\n",
      "=========================================================================================================\n",
      "=========================================================================================================\n",
      "======================= terminated 7: max iteration time reached (3/3 s) ===============================\n",
      "=========================================================================================================\n",
      "=========================================================================================================\n",
      "======================= terminated 5: max iteration time reached (3/3 s) ===============================\n",
      "=========================================================================================================\n",
      "=========================================================================================================\n",
      "======================= terminated 21: max iteration time reached (3/3 s) ===============================\n",
      "=========================================================================================================\n",
      "=========================================================================================================\n",
      "======================= terminated 4: max iteration time reached (3/3 s) ===============================\n",
      "=========================================================================================================\n",
      "=========================================================================================================\n",
      "=========================================================================================================\n",
      "======================= terminated 15: max iteration time reached (3/3 s) ===============================\n",
      "=========================================================================================================\n",
      "======================= terminated 10: max iteration time reached (3/3 s) ===============================\n",
      "=========================================================================================================\n",
      "=========================================================================================================\n",
      "======================= terminated 17: max iteration time reached (3/3 s) ===============================\n",
      "=========================================================================================================\n",
      "=========================================================================================================\n",
      "======================= terminated 20: max iteration time reached (3/3 s) ===============================\n",
      "=========================================================================================================\n",
      "=========================================================================================================\n",
      "======================= terminated 2: max iteration time reached (3/3 s) ===============================\n",
      "=========================================================================================================\n",
      "=========================================================================================================\n",
      "======================= terminated 6: max iteration time reached (3/3 s) ===============================\n",
      "=========================================================================================================\n",
      "=========================================================================================================\n",
      "======================= terminated 11: max iteration time reached (3/3 s) ===============================\n",
      "=========================================================================================================\n",
      "=========================================================================================================\n",
      "======================= terminated 26: max iteration time reached (3/3 s) ===============================\n",
      "=========================================================================================================\n",
      "=========================================================================================================\n",
      "======================= terminated 29: max iteration time reached (3/3 s) ===============================\n",
      "=========================================================================================================\n",
      "=========================================================================================================\n",
      "======================= terminated 30: max iteration time reached (3/3 s) ===============================\n",
      "=========================================================================================================\n",
      "=========================================================================================================\n",
      "======================= terminated 9: max iteration time reached (3/3 s) ===============================\n",
      "=========================================================================================================\n",
      "=========================================================================================================\n",
      "======================= terminated 14: max iteration time reached (3/3 s) ===============================\n",
      "=========================================================================================================\n"
     ]
    },
    {
     "name": "stdout",
     "output_type": "stream",
     "text": [
      "\u001b[91m==========================================================\u001b[0m\n",
      "\u001b[91mterminate_on_first is deprecated. Use max_solution_count=1\u001b[0m\n",
      "\u001b[91m==========================================================\u001b[0m\n",
      "Use 36/36 agents\n",
      "=========================================================================================================\n",
      "======================= terminated 11: max iteration time reached (3/3 s) ===============================\n",
      "=========================================================================================================\n",
      "======================= terminated 34: max iteration time reached (3/3 s) ===============================\n",
      "=========================================================================================================\n",
      "=========================================================================================================\n",
      "=========================================================================================================\n",
      "======================= terminated 14: max iteration time reached (3/3 s) ===============================\n",
      "=========================================================================================================\n",
      "=========================================================================================================\n",
      "=========================================================================================================\n",
      "======================= terminated 8: max iteration time reached (3/3 s) ===============================\n",
      "=========================================================================================================\n",
      "=========================================================================================================\n",
      "=========================================================================================================\n",
      "======================= terminated 12: max iteration time reached (3/3 s) ===============================\n",
      "======================= terminated 5: max iteration time reached (3/3 s) ===============================\n",
      "=========================================================================================================\n",
      "=========================================================================================================\n",
      "=========================================================================================================\n",
      "======================= terminated 4: max iteration time reached (3/3 s) ===============================\n",
      "=========================================================================================================\n",
      "======================= terminated 2: max iteration time reached (3/3 s) ===============================\n",
      "=========================================================================================================\n",
      "=========================================================================================================\n",
      "======================= terminated 33: max iteration time reached (3/3 s) ===============================\n",
      "=========================================================================================================\n",
      "=========================================================================================================\n",
      "======================= terminated 15: max iteration time reached (3/3 s) ===============================\n",
      "=========================================================================================================\n",
      "=========================================================================================================\n",
      "======================= terminated 30: max iteration time reached (3/3 s) ===============================\n",
      "=========================================================================================================\n",
      "=========================================================================================================\n",
      "======================= terminated 28: max iteration time reached (3/3 s) ===============================\n",
      "=========================================================================================================\n",
      "=========================================================================================================\n",
      "======================= terminated 22: max iteration time reached (3/3 s) ===============================\n",
      "=========================================================================================================\n",
      "=========================================================================================================\n",
      "======================= terminated 10: max iteration time reached (3/3 s) ===============================\n",
      "=========================================================================================================\n",
      "=========================================================================================================\n",
      "======================= terminated 7: max iteration time reached (3/3 s) ===============================\n",
      "=========================================================================================================\n",
      "=========================================================================================================\n",
      "======================= terminated 18: max iteration time reached (3/3 s) ===============================\n",
      "=========================================================================================================\n",
      "=========================================================================================================\n",
      "======================= terminated 19: max iteration time reached (3/3 s) ===============================\n",
      "=========================================================================================================\n",
      "======================= terminated 25: max iteration time reached (3/3 s) ===============================\n",
      "=========================================================================================================\n",
      "=========================================================================================================\n",
      "=========================================================================================================\n",
      "======================= terminated 27: max iteration time reached (3/3 s) ===============================\n",
      "=========================================================================================================\n",
      "=========================================================================================================\n",
      "======================= terminated 1: max iteration time reached (3/3 s) ===============================\n",
      "=========================================================================================================\n",
      "=========================================================================================================\n",
      "======================= terminated 20: max iteration time reached (3/3 s) ===============================\n",
      "=========================================================================================================\n",
      "=========================================================================================================\n",
      "======================= terminated 32: max iteration time reached (3/3 s) ===============================\n",
      "=========================================================================================================\n",
      "=========================================================================================================\n",
      "======================= terminated 24: max iteration time reached (3/3 s) ===============================\n",
      "=========================================================================================================\n",
      "=========================================================================================================\n",
      "======================= terminated 16: max iteration time reached (3/3 s) ===============================\n",
      "=========================================================================================================\n",
      "=========================================================================================================\n",
      "======================= terminated 6: max iteration time reached (3/3 s) ===============================\n",
      "=========================================================================================================\n",
      "=========================================================================================================\n"
     ]
    },
    {
     "name": "stdout",
     "output_type": "stream",
     "text": [
      "======================= terminated 31: max iteration time reached (3/3 s) ===============================\n",
      "=========================================================================================================\n",
      "=========================================================================================================\n",
      "=========================================================================================================\n",
      "=========================================================================================================\n",
      "======================= terminated 3: max iteration time reached (3/3 s) ===============================\n",
      "======================= terminated 0: max iteration time reached (3/3 s) ===============================\n",
      "=========================================================================================================\n",
      "=========================================================================================================\n",
      "======================= terminated 17: max iteration time reached (3/3 s) ===============================\n",
      "=========================================================================================================\n",
      "=========================================================================================================\n",
      "======================= terminated 23: max iteration time reached (3/3 s) ===============================\n",
      "=========================================================================================================\n",
      "=========================================================================================================\n",
      "======================= terminated 9: max iteration time reached (3/3 s) ===============================\n",
      "=========================================================================================================\n",
      "=========================================================================================================\n",
      "======================= terminated 21: max iteration time reached (3/3 s) ===============================\n",
      "=========================================================================================================\n",
      "=========================================================================================================\n",
      "=========================================================================================================\n",
      "======================= terminated 29: max iteration time reached (3/3 s) ===============================\n",
      "======================= terminated 13: max iteration time reached (3/3 s) ===============================\n",
      "=========================================================================================================\n",
      "=========================================================================================================\n",
      "=========================================================================================================\n",
      "======================= terminated 35: max iteration time reached (3/3 s) ===============================\n",
      "=========================================================================================================\n",
      "\u001b[91m==========================================================\u001b[0m\n",
      "\u001b[91mterminate_on_first is deprecated. Use max_solution_count=1\u001b[0m\n",
      "\u001b[91m==========================================================\u001b[0m\n",
      "Use 36/36 agents\n",
      "Goal reached\n",
      "Goal reached\n",
      "=========================================================================================================\n",
      "======================= terminated 7: required answers acquired ===============================\n",
      "=========================================================================================================\n",
      "=========================================================================================================\n",
      "======================= terminated 33: required answers acquired from other agent ===============================\n",
      "=========================================================================================================\n",
      "=========================================================================================================\n",
      "=========================================================================================================\n",
      "======================= terminated 24: required answers acquired from other agent ===============================\n",
      "=========================================================================================================\n",
      "=========================================================================================================\n",
      "======================= terminated 20: required answers acquired from other agent ===============================\n",
      "======================= terminated 19: required answers acquired from other agent ===============================\n",
      "=========================================================================================================\n",
      "=========================================================================================================\n",
      "=========================================================================================================\n",
      "Goal reached\n",
      "=========================================================================================================\n",
      "======================= terminated 25: required answers acquired from other agent ===============================\n",
      "=========================================================================================================\n",
      "Goal reached\n",
      "======================= terminated 12: required answers acquired ===============================\n",
      "=========================================================================================================\n",
      "=========================================================================================================\n",
      "======================= terminated 10: required answers acquired ===============================\n",
      "=========================================================================================================\n",
      "======================= terminated 1: required answers acquired from other agent ===============================\n",
      "=========================================================================================================\n",
      "=========================================================================================================\n",
      "Goal reached\n",
      "=========================================================================================================\n",
      "======================= terminated 13: required answers acquired ===============================\n",
      "=========================================================================================================\n",
      "Goal reached\n",
      "=========================================================================================================\n",
      "======================= terminated 11: required answers acquired ===============================\n",
      "=========================================================================================================\n",
      "=========================================================================================================\n",
      "======================= terminated 23: required answers acquired from other agent ===============================\n",
      "=========================================================================================================\n",
      "Goal reached\n",
      "=========================================================================================================\n",
      "======================= terminated 18: required answers acquired ===============================\n",
      "=========================================================================================================\n",
      "=========================================================================================================\n",
      "======================= terminated 21: required answers acquired from other agent ===============================\n",
      "=========================================================================================================\n",
      "=========================================================================================================\n",
      "======================= terminated 32: required answers acquired from other agent ===============================\n",
      "=========================================================================================================\n",
      "======================= terminated 8: required answers acquired from other agent ===============================\n"
     ]
    },
    {
     "name": "stdout",
     "output_type": "stream",
     "text": [
      "=========================================================================================================\n",
      "=========================================================================================================\n",
      "=========================================================================================================\n",
      "======================= terminated 3: required answers acquired from other agent ===============================\n",
      "=========================================================================================================\n",
      "Goal reached\n",
      "Goal reached\n",
      "=========================================================================================================\n",
      "======================= terminated 15: required answers acquired ===============================\n",
      "=========================================================================================================\n",
      "======================= terminated 17: required answers acquired ===============================\n",
      "Goal reached\n",
      "=========================================================================================================\n",
      "=========================================================================================================\n",
      "=========================================================================================================\n",
      "======================= terminated 5: required answers acquired ===============================\n",
      "=========================================================================================================\n",
      "Goal reached\n",
      "=========================================================================================================\n",
      "======================= terminated 22: required answers acquired ===============================\n",
      "=========================================================================================================\n",
      "=========================================================================================================\n",
      "======================= terminated 29: required answers acquired from other agent ===============================\n",
      "=========================================================================================================\n",
      "=========================================================================================================\n",
      "======================= terminated 31: required answers acquired from other agent ===============================\n",
      "=========================================================================================================\n",
      "Goal reached\n",
      "=========================================================================================================\n",
      "======================= terminated 0: required answers acquired ===============================\n",
      "=========================================================================================================\n",
      "Goal reached\n",
      "=========================================================================================================\n",
      "======================= terminated 28: required answers acquired ===============================\n",
      "=========================================================================================================\n",
      "Goal reached\n",
      "=========================================================================================================\n",
      "Goal reached\n",
      "======================= terminated 2: required answers acquired ===============================\n",
      "=========================================================================================================\n",
      "=========================================================================================================\n",
      "======================= terminated 26: required answers acquired ===============================\n",
      "=========================================================================================================\n",
      "=========================================================================================================\n",
      "======================= terminated 9: required answers acquired from other agent ===============================\n",
      "=========================================================================================================\n",
      "Goal reached\n",
      "=========================================================================================================\n",
      "======================= terminated 6: required answers acquired ===============================\n",
      "=========================================================================================================\n",
      "Goal reached\n",
      "=========================================================================================================\n",
      "======================= terminated 35: required answers acquired ===============================\n",
      "=========================================================================================================\n",
      "Goal reached\n",
      "=========================================================================================================\n",
      "======================= terminated 27: required answers acquired ===============================\n",
      "=========================================================================================================\n",
      "Goal reached\n",
      "=========================================================================================================\n",
      "======================= terminated 14: required answers acquired ===============================\n",
      "=========================================================================================================\n",
      "Goal reached\n",
      "=========================================================================================================\n",
      "======================= terminated 34: required answers acquired ===============================\n",
      "=========================================================================================================\n",
      "Goal reached\n",
      "=========================================================================================================\n",
      "======================= terminated 16: required answers acquired ===============================\n",
      "=========================================================================================================\n",
      "Goal reached\n",
      "=========================================================================================================\n",
      "======================= terminated 30: required answers acquired ===============================\n",
      "=========================================================================================================\n",
      "Goal reached\n",
      "=========================================================================================================\n",
      "======================= terminated 4: required answers acquired ===============================\n",
      "=========================================================================================================\n",
      "update 1th motion\n",
      "Goal reached\n",
      "update 1th motion\n",
      "Goal reached\n",
      "no skip 0: 0.108\n",
      "\u001b[91mTry mix\u001b[0m\n"
     ]
    }
   ],
   "source": [
    "snode_schedule_list_leftup, scene_args_list_leftup, scene_kwargs_list_leftup, Q_CUR, test_fun, covered_all= \\\n",
    "    make_plan_fun(closet_leftup, Q_CUR, \"up\", \"Z\", 1, plane_val=None)\n",
    "add_kiro_indytool_up(gscene, zoff=TOOL_OFFSET, tool_link=TIP_LINK, face_name=TOOL_NAME)\n",
    "brush_face = pscene.create_binder(bname=TOOL_NAME, gname=TOOL_NAME, _type=SweepFramer, \n",
    "                                  point=(0,0,-gscene.NAME_DICT['brush_face'].dims[2]/2-CLEARANCE), rpy=(0,0,0))\n",
    "snode_schedule_list_leftfront, scene_args_list_leftfront, scene_kwargs_list_leftfront, Q_CUR, test_fun, covered_all= \\\n",
    "    make_plan_fun(closet_leftup, Q_CUR, \"front\", \"Z\", 1, plane_val=None, covered_pre=covered_all)\n",
    "add_kiro_indytool_down(gscene, zoff=TOOL_OFFSET, tool_link=TIP_LINK, face_name=TOOL_NAME)\n",
    "brush_face = pscene.create_binder(bname=TOOL_NAME, gname=TOOL_NAME, _type=SweepFramer, \n",
    "                                  point=(0,0,-gscene.NAME_DICT['brush_face'].dims[2]/2-CLEARANCE), rpy=(0,0,0))\n",
    "\n",
    "snode_schedule_list_rightup, scene_args_list_rightup, scene_kwargs_list_rightup, Q_CUR, test_fun, covered_all = \\\n",
    "    make_plan_fun(closet_rightup, Q_CUR, \"up\", \"Z\", 1, plane_val=None)\n",
    "\n",
    "snode_schedule_list_down, scene_args_list_down, scene_kwargs_list_down, Q_CUR, test_fun, covered_all = \\\n",
    "    make_plan_fun(closet_down, Q_CUR, \"down\", \"Z\", -1, plane_val=None)\n",
    "\n",
    "snode_schedule_list = snode_schedule_list_leftup + [ToolDir.up] + snode_schedule_list_leftfront + [ToolDir.down] + snode_schedule_list_rightup + snode_schedule_list_down\n",
    "scene_args_list = scene_args_list_leftup + [ToolDir.up] + scene_args_list_leftfront + [ToolDir.down] + scene_args_list_rightup + scene_args_list_down\n",
    "scene_kwargs_list = scene_kwargs_list_leftup + [ToolDir.up] + scene_kwargs_list_leftfront + [ToolDir.down] + scene_kwargs_list_rightup + scene_kwargs_list_down"
   ]
  },
  {
   "cell_type": "code",
   "execution_count": 25,
   "metadata": {},
   "outputs": [
    {
     "name": "stdout",
     "output_type": "stream",
     "text": [
      "Connect: Server IP (192.168.0.3)\n"
     ]
    }
   ],
   "source": [
    "Qcur = crob.get_real_robot_pose()"
   ]
  },
  {
   "cell_type": "code",
   "execution_count": 26,
   "metadata": {},
   "outputs": [],
   "source": [
    "gscene.show_pose(Qcur)"
   ]
  },
  {
   "cell_type": "code",
   "execution_count": 33,
   "metadata": {},
   "outputs": [
    {
     "name": "stdout",
     "output_type": "stream",
     "text": [
      "Connect: Server IP (192.168.0.3)\n",
      "Connect: Server IP (192.168.0.3)\n"
     ]
    }
   ],
   "source": [
    "with indy:\n",
    "    indy.joint_move_make_sure(VIEW_MOVED)"
   ]
  },
  {
   "cell_type": "markdown",
   "metadata": {},
   "source": [
    "### 2.2. Execute closet cleaning sequence"
   ]
  },
  {
   "cell_type": "code",
   "execution_count": 27,
   "metadata": {},
   "outputs": [],
   "source": [
    "adjust_list = []\n",
    "VISUALIZE = True\n",
    "save_list = []\n",
    "def adjust_base_on(snode, closet_gtem):\n",
    "    Qref = snode.state.Q\n",
    "    traj, succ = get_look_motion(mplan, ROBOT_NAME, Qref, \n",
    "                                 target_point=closet_gtem,\n",
    "                                 com_link = pscene.robot_chain_dict[ROBOT_NAME]['link_names'][-1],\n",
    "                                 view_dir = [0,0,1],timeout = 1)\n",
    "    traj_rev = np.array(list(reversed(traj)))\n",
    "\n",
    "    if not succ:\n",
    "        traj = [Qref, Qref]\n",
    "        traj_rev = [Qref, Qref]\n",
    "\n",
    "    Qref[6:] = traj[-1][6:]\n",
    "    gscene.show_pose(Qref)\n",
    "    if CONNECT_INDY:\n",
    "        with indy: # move to look\n",
    "            crob.move_joint_traj(traj, one_by_one=True)\n",
    "\n",
    "        time.sleep(1)\n",
    "\n",
    "    if ENABLE_DETECT:\n",
    "        icp_closet = MultiICP(model=MODEL_DIR + '/top_table/top_table.STL', \n",
    "                           Toff=SE3([[1,0,0],[0,0,1],[0,-1,0]], [0.3,0,0.2725]))\n",
    "\n",
    "        save_list.append(1)\n",
    "        if CONNECT_CAM:\n",
    "            rdict = stream_capture_image(ImageType.FirstView, \n",
    "                                         obj_type=\"closet_{}\".format(len(save_list)), \n",
    "                                         host=CAM_HOST, crob=crob)\n",
    "        else:\n",
    "            rdict, Qref = load_rdict(\"closet_{}\".format(len(save_list)))\n",
    "\n",
    "        T_bc, T_bs_closet = viewpoint.get_tf(Qref), gscene.NAME_DICT[\"closet_vis\"].get_tf(Qref)\n",
    "\n",
    "        cdp = rdict2cdp(rdict)\n",
    "        pcd_closet = cdp2pcd(cdp, T_bc)\n",
    "\n",
    "        with gtimer.block(\"masking\"):\n",
    "            pcd_masked = mask_boxes(pcd_closet, \n",
    "                                boxes=[gscene.NAME_DICT[\"closet_box\"]], \n",
    "                                Q=Qref, inside=True, \n",
    "                                merge_rule=np.all, link_ref=\"base_link\")\n",
    "            pcd_masked = mask_boxes(pcd_masked, \n",
    "                                boxes=[gscene.NAME_DICT[\"bed_box\"], \n",
    "                                       gscene.NAME_DICT[\"bed_wall\"], \n",
    "                                       gscene.NAME_DICT[\"floor_box\"],\n",
    "                                       gscene.NAME_DICT[\"back_wall\"]], \n",
    "                                Q=Qref, inside=False, \n",
    "                                merge_rule=np.all, link_ref=\"base_link\")\n",
    "#         print(\"Time for masking pcd : {} ms\".format(result))\n",
    "        with gtimer.tic(\"outlier\")\n",
    "#         pcd_masked, ind = pcd_masked.remove_radius_outlier(nb_points=20, radius=0.06)\n",
    "        result = gtimer.toc(\"outlier\")\n",
    "#         print(\"Time for removeing outlier of pcd : {} ms\".format(result))\n",
    "        gtimer.tic(\"adding\")\n",
    "        icp_closet.add_pointcloud(pcd_masked, T_bc)\n",
    "        result = gtimer.toc(\"adding\")\n",
    "#         print(\"Time for adding pcd : {} ms\".format(result))\n",
    "        \n",
    "    #     gscene.show_point_cloud(pcd_closet.points, \"allpoints\", color=(0,0,0,0.5), dims=(0.01,0.01,0.01), sample_to=500)\n",
    "    #     gscene.show_point_cloud(pcd_masked.points, \"masked\", color=(1,0,0,1), dims=(0.02,0.02,0.02))\n",
    "\n",
    "        initial_guess = gscene.NAME_DICT[\"closet_vis\"].get_tf(Qref)\n",
    "        gtimer.tic(\"compute_front_ICP\")\n",
    "#         T_bo_close, fitness = icp_closet.compute_ICP(initial_guess, thres=0.05, visualize=VISUALIZE)\n",
    "        # front_ICP\n",
    "        T_bo_close, fitness = icp_closet.compute_front_ICP(\"closet\",\n",
    "                                                           initial_guess, thres=0.05, visualize=VISUALIZE)\n",
    "        \n",
    "        result = gtimer.toc(\"compute_front_ICP\")\n",
    "#         print(\"Time for computing ICP : {} ms\".format(result))\n",
    "#         computing_ICP_time_list.append(result)\n",
    "        # calculate transform based on obtained points\n",
    "        pcd_center_prev = pcd_masked.get_center()\n",
    "        pcd_center_transformed_prev = np.matmul(T_bc[:3,:3], pcd_center_prev).transpose() + T_bc[:3,3]\n",
    "\n",
    "        T_bo_p = SE3(T_bo_close[:3,:3], pcd_center_transformed_prev)\n",
    "        T_pooc = np.matmul(SE3_inv(T_bo_p), T_bo_close)\n",
    "        T_bo_p[:3,:3] = Rot_axis(3, Rot2axis(T_bo_close[:3,:3], 3))\n",
    "        T_bo_c_fix = np.matmul(T_bo_p, T_pooc)\n",
    "        T_bo_c_fix[2,3] = 0\n",
    "\n",
    "        # get Twoff from redetection\n",
    "        Tbo0, Tbo1 = T_bs_closet, T_bo_c_fix\n",
    "\n",
    "        Tbw0 = wayframer.get_tf_handle(Qref)\n",
    "        Tow = np.matmul(SE3_inv(Tbo0), Tbw0)\n",
    "        Tbw1 = np.matmul(Tbo1, Tow)\n",
    "\n",
    "        Qtar = np.copy(Qref)\n",
    "        Qtar[:2] = Tbw1[:2,3]\n",
    "        Qtar[2] = Rot2axis(Tbw1[:3,:3], 3)\n",
    "\n",
    "        adjust_list.append((kmb.get_qcur(), Qref, Qtar))\n",
    "        try:\n",
    "            Qdiff = Qtar - Qref\n",
    "            Qadj = np.copy(snode.state.Q)\n",
    "            Qadj[:2] -= Qdiff[:2]\n",
    "            idx_s = snode_schedule.index(snode)\n",
    "            snode_schedule_new = ppline.get_updated_schedule(snode_schedule[idx_s:], Qadj, timeout=1)\n",
    "            ppline.Qdiff = Qdiff\n",
    "            snode_schedule[idx_s:] = snode_schedule_new\n",
    "        except:\n",
    "            ppline.Qdiff = None\n",
    "#             kmb.joint_move_make_sure(Qtar[:6])\n",
    "\n",
    "    if CONNECT_INDY:\n",
    "        with indy: # retrieve motion\n",
    "            crob.move_joint_traj(traj_rev, one_by_one=True)\n",
    "        \n",
    "class SwitchState(Enum):\n",
    "    NONE = 0\n",
    "    BASE_MOVED = 1\n",
    "    SWEEP_APPROACH = 2\n",
    "    SWEEP_RETRACT = 3\n",
    "    SWEEPING = 4\n",
    "\n",
    "class ModeSwitcherKMB:\n",
    "    def __init__(self, pscene, gtem_ref, push_dist=0.05):\n",
    "        self.pscene = pscene\n",
    "        self.crob = pscene.combined_robot\n",
    "        self.push_dist = push_dist\n",
    "        self.pushed_before = False\n",
    "        self.gtem_ref = gtem_ref\n",
    "        ppline.Qdiff = None\n",
    "        \n",
    "    def switch_in(self, snode_pre, snode_new):\n",
    "        \n",
    "        switch_state = SwitchState.NONE\n",
    "        snode_pre = snode_pre.copy(pscene)\n",
    "        snode_pre.traj = None\n",
    "        from_state = snode_pre.state\n",
    "        to_state = snode_new.state\n",
    "        subjects, ok = pscene.get_changing_subjects(from_state, to_state)\n",
    "        if len(subjects) == 2: # skip base move case - update schedule\n",
    "            if ppline.Qdiff is not None:\n",
    "                Qdiff = ppline.Qdiff\n",
    "                Qadj = np.copy(snode_pre.state.Q)\n",
    "                Qadj[:2] -= Qdiff[:2]\n",
    "                idx_s = snode_schedule.index(snode_pre)\n",
    "                snode_schedule_new = ppline.get_updated_schedule(snode_schedule[idx_s:], Qadj, timeout=1)\n",
    "                snode_schedule[idx_s:] = snode_schedule_new\n",
    "                switch_state = SwitchState.NONE\n",
    "        if len(subjects) ==0: # joint motion: quit sweep and homing - retract before motion\n",
    "            if self.pushed_before and self.push_dist > 1e-6:\n",
    "                switch_state = SwitchState.SWEEP_RETRACT\n",
    "                from_Q = kmb.get_qcur()\n",
    "                Tbm = gscene.get_tf(MOBILE_BASE, from_Q)\n",
    "                Tbm2 = np.matmul(Tbm, SE3(np.identity(3), \n",
    "                                          (-self.push_dist, 0, 0)))\n",
    "                Qto = np.copy(from_Q[:6])\n",
    "                Qto[:2] = Tbm2[:2,3]\n",
    "                print(\"retract\")\n",
    "                kmb.joint_move_make_sure(Qto)\n",
    "                self.pushed_before = False\n",
    "        elif subjects[0] == \"sweep\": # sweep approach or sweeping\n",
    "            i_swp = pscene.subject_name_list.index(\"sweep\")\n",
    "            if snode_pre.state.node[i_swp] == 0: # sweep approach - move forward after motoin\n",
    "                if not self.pushed_before:\n",
    "                    switch_state = SwitchState.SWEEP_APPROACH\n",
    "                else:\n",
    "                    switch_state = SwitchState.NONE\n",
    "            else: # sweeping\n",
    "#                 indy.collision_policy = POLICY_NO_COLLISION_DETECTION\n",
    "                switch_state = SwitchState.SWEEPING\n",
    "        elif subjects[0] == \"waypoints\":\n",
    "            switch_state = SwitchState.BASE_MOVED\n",
    "        return switch_state\n",
    "\n",
    "    def switch_out(self, switch_state, snode_new):\n",
    "        \n",
    "        kmb = self.crob.robot_dict['kmb0']\n",
    "        if switch_state == SwitchState.BASE_MOVED:\n",
    "            print(\"adjust\")\n",
    "            adjust_base_on(snode_new, self.gtem_ref)\n",
    "            t_map = Thread(target=update_map, kwargs=dict(time_wait=2))\n",
    "            t_map.daemon = True\n",
    "            t_map.start()\n",
    "        elif switch_state == SwitchState.SWEEP_APPROACH: # move forward\n",
    "            if not self.pushed_before and self.push_dist > 1e-6:\n",
    "                print(\"push forward\")\n",
    "                from_Q = kmb.get_qcur()\n",
    "                Tbm = gscene.get_tf(MOBILE_BASE, from_Q)\n",
    "                Tbm2 = np.matmul(Tbm, SE3(np.identity(3), \n",
    "                                          (self.push_dist, 0, 0)))\n",
    "                Qto = np.copy(from_Q[:6])\n",
    "                Qto[:2] = Tbm2[:2,3]\n",
    "                kmb.joint_move_make_sure(Qto)\n",
    "                self.pushed_before = True\n",
    "        elif switch_state == SwitchState.SWEEPING:\n",
    "            pass\n",
    "#             indy.collision_policy = POLICY_KEEP_PAUSE\n",
    "\n",
    "def ToolChange(command):\n",
    "    if command==ToolDir.up:\n",
    "        kmb.tool_angle = 1\n",
    "        add_kiro_indytool_up(gscene, zoff=TOOL_OFFSET, tool_link=TIP_LINK, face_name=TOOL_NAME)\n",
    "        brush_face = pscene.create_binder(bname=TOOL_NAME, gname=TOOL_NAME, _type=SweepFramer, \n",
    "                                          point=(0,0,-gscene.NAME_DICT['brush_face'].dims[2]/2-CLEARANCE), rpy=(0,0,0))\n",
    "        print(\"Tool UP\")\n",
    "    elif command==ToolDir.down:\n",
    "        kmb.tool_angle = 0\n",
    "        add_kiro_indytool_down(gscene, zoff=TOOL_OFFSET, tool_link=TIP_LINK, face_name=TOOL_NAME)\n",
    "        brush_face = pscene.create_binder(bname=TOOL_NAME, gname=TOOL_NAME, _type=SweepFramer, \n",
    "                                          point=(0,0,-gscene.NAME_DICT['brush_face'].dims[2]/2-CLEARANCE), rpy=(0,0,0))\n",
    "        print(\"Tool Down\")\n",
    "mode_switcher=ModeSwitcherKMB(pscene, closet_leftup)"
   ]
  },
  {
   "cell_type": "code",
   "execution_count": 28,
   "metadata": {},
   "outputs": [
    {
     "name": "stdout",
     "output_type": "stream",
     "text": [
      "Connect: Server IP (192.168.0.3)\n",
      "vel_level_bak: 5\n",
      "Connect: Server IP (192.168.0.3)\n"
     ]
    }
   ],
   "source": [
    "VEL_LEVEL = 3\n",
    "\n",
    "if CONNECT_INDY:\n",
    "    with indy:\n",
    "        vel_level_bak = indy.get_joint_vel_level()\n",
    "        print(\"vel_level_bak: {}\".format(vel_level_bak))\n",
    "\n",
    "    with indy:\n",
    "        indy.set_joint_vel_level(VEL_LEVEL)\n",
    "        \n",
    "    indy.collision_policy = POLICY_NO_COLLISION_DETECTION\n",
    "swp_fin_list = []"
   ]
  },
  {
   "cell_type": "code",
   "execution_count": 29,
   "metadata": {
    "scrolled": true
   },
   "outputs": [
    {
     "name": "stdout",
     "output_type": "stream",
     "text": [
      "motions: 3\n",
      "(4.418841033080234, 1.6506752511180518, 0.013612435388462123, 0.9999073465090628, 0)\n",
      "goal reach: 1 -> 0 (1635751239.81)\n",
      "\u001b[91m[WARN] ROBOT MOTION TIMEOUT\u001b[0m\n",
      "(4.4288405634506, 1.6505783368666307, 0.013612435388462123, 0.9999073465090628, 0)\n",
      "\u001b[91m[WARN] ROBOT MOTION TIMEOUT\u001b[0m\n",
      "(4.438818953815334, 1.651235395257481, 0.013612435388462123, 0.9999073465090628, 0)\n",
      "goal reach: 0 -> 1 (1635751279.14)\n",
      "goal reach signal edge up\n",
      "(4.4487972962188485, 1.65189318160442, 0.013612435388462123, 0.9999073465090628, 0)\n",
      "goal reach: 1 -> 0 (1635751279.23)\n",
      "\u001b[91m[WARN] ROBOT MOTION TIMEOUT\u001b[0m\n",
      "[INFO] Approach through: [4.57762285 1.9071033  0.02722571] -> [4.45876075 1.65274733 0.02722571]\n",
      "(4.5776228508917125, 1.9071033026275004, 0.013612435388462123, 0.9999073465090628, 0)\n",
      "\u001b[91m[WARN] ROBOT MOTION TIMEOUT\u001b[0m\n",
      "(4.458760751198002, 1.65274732730532, 0.013612435388462123, 0.9999073465090628, 0)\n",
      "\u001b[91m[WARN] ROBOT MOTION TIMEOUT\u001b[0m\n",
      "[INFO] Approach through: [4.36824544 1.73826773 0.02722571] -> [4.46871559 1.65369668 0.02722571]\n",
      "(4.368245439081983, 1.738267731439827, 0.013612435388462123, 0.9999073465090628, 0)\n",
      "\u001b[91m[WARN] ROBOT MOTION TIMEOUT\u001b[0m\n",
      "(4.468715585315952, 1.6536966837631943, 0.013612435388462123, 0.9999073465090628, 0)\n",
      "\u001b[91m[WARN] ROBOT MOTION TIMEOUT\u001b[0m\n",
      "Connect: Server IP (192.168.0.3)\n",
      "not in sync in 10 deg: [ 2.16411825e+02  9.09707841e+01  6.44465928e+00  0.00000000e+00\n",
      "  0.00000000e+00  0.00000000e+00 -9.07961002e-05  4.99999596e+01\n",
      " -6.99997982e+01 -5.43877630e-05 -7.99999940e+01  1.08775526e-04]\n",
      "adjust\n",
      "Connect: Server IP (192.168.0.3)\n",
      "Connect: Server IP (192.168.0.3)\n",
      "Connect: Server IP (192.168.0.3)\n",
      "Connect: Server IP (192.168.0.3)\n",
      "Move finished!\n",
      "Connect: Server IP (192.168.0.3)\n",
      "Connect: Server IP (192.168.0.3)\n"
     ]
    },
    {
     "ename": "NameError",
     "evalue": "global name 'masking_time_list' is not defined",
     "output_type": "error",
     "traceback": [
      "\u001b[0;31m---------------------------------------------------------------------------\u001b[0m",
      "\u001b[0;31mNameError\u001b[0m                                 Traceback (most recent call last)",
      "\u001b[0;32m<ipython-input-29-64786640e055>\u001b[0m in \u001b[0;36m<module>\u001b[0;34m()\u001b[0m\n\u001b[1;32m     15\u001b[0m     \u001b[0;32mif\u001b[0m \u001b[0mCONNECT_INDY\u001b[0m \u001b[0;32mand\u001b[0m \u001b[0mCONNECT_MOBILE\u001b[0m\u001b[0;34m:\u001b[0m\u001b[0;34m\u001b[0m\u001b[0m\n\u001b[1;32m     16\u001b[0m         ppline.execute_schedule(snode_schedule, one_by_one=True, \n\u001b[0;32m---> 17\u001b[0;31m                                 mode_switcher=mode_switcher)\n\u001b[0m\u001b[1;32m     18\u001b[0m     \u001b[0;32melse\u001b[0m\u001b[0;34m:\u001b[0m\u001b[0;34m\u001b[0m\u001b[0m\n\u001b[1;32m     19\u001b[0m         \u001b[0mppline\u001b[0m\u001b[0;34m.\u001b[0m\u001b[0mplay_schedule\u001b[0m\u001b[0;34m(\u001b[0m\u001b[0msnode_schedule\u001b[0m\u001b[0;34m)\u001b[0m\u001b[0;34m\u001b[0m\u001b[0m\n",
      "\u001b[0;32m/home/jhkim/Projects/rnb-planning/src/pkg/planning/pipeline.pyc\u001b[0m in \u001b[0;36mexecute_schedule\u001b[0;34m(self, snode_schedule, auto_stop, mode_switcher, one_by_one, multiproc, error_stop_deg, auto_sync_robot_pose)\u001b[0m\n\u001b[1;32m    503\u001b[0m \u001b[0;34m\u001b[0m\u001b[0m\n\u001b[1;32m    504\u001b[0m             \u001b[0;32mif\u001b[0m \u001b[0mmode_switcher\u001b[0m \u001b[0;32mis\u001b[0m \u001b[0;32mnot\u001b[0m \u001b[0mNone\u001b[0m\u001b[0;34m:\u001b[0m\u001b[0;34m\u001b[0m\u001b[0m\n\u001b[0;32m--> 505\u001b[0;31m                 \u001b[0mmode_switcher\u001b[0m\u001b[0;34m.\u001b[0m\u001b[0mswitch_out\u001b[0m\u001b[0;34m(\u001b[0m\u001b[0mswitch_state\u001b[0m\u001b[0;34m,\u001b[0m \u001b[0msnode\u001b[0m\u001b[0;34m)\u001b[0m\u001b[0;34m\u001b[0m\u001b[0m\n\u001b[0m\u001b[1;32m    506\u001b[0m             \u001b[0mself\u001b[0m\u001b[0;34m.\u001b[0m\u001b[0mexecute_grip\u001b[0m\u001b[0;34m(\u001b[0m\u001b[0msnode\u001b[0m\u001b[0;34m.\u001b[0m\u001b[0mstate\u001b[0m\u001b[0;34m)\u001b[0m\u001b[0;34m\u001b[0m\u001b[0m\n\u001b[1;32m    507\u001b[0m             \u001b[0msnode_pre\u001b[0m \u001b[0;34m=\u001b[0m \u001b[0msnode\u001b[0m\u001b[0;34m\u001b[0m\u001b[0m\n",
      "\u001b[0;32m<ipython-input-27-f98c3ff8bf8c>\u001b[0m in \u001b[0;36mswitch_out\u001b[0;34m(self, switch_state, snode_new)\u001b[0m\n\u001b[1;32m    180\u001b[0m         \u001b[0;32mif\u001b[0m \u001b[0mswitch_state\u001b[0m \u001b[0;34m==\u001b[0m \u001b[0mSwitchState\u001b[0m\u001b[0;34m.\u001b[0m\u001b[0mBASE_MOVED\u001b[0m\u001b[0;34m:\u001b[0m\u001b[0;34m\u001b[0m\u001b[0m\n\u001b[1;32m    181\u001b[0m             \u001b[0;32mprint\u001b[0m\u001b[0;34m(\u001b[0m\u001b[0;34m\"adjust\"\u001b[0m\u001b[0;34m)\u001b[0m\u001b[0;34m\u001b[0m\u001b[0m\n\u001b[0;32m--> 182\u001b[0;31m             \u001b[0madjust_base_on\u001b[0m\u001b[0;34m(\u001b[0m\u001b[0msnode_new\u001b[0m\u001b[0;34m,\u001b[0m \u001b[0mself\u001b[0m\u001b[0;34m.\u001b[0m\u001b[0mgtem_ref\u001b[0m\u001b[0;34m)\u001b[0m\u001b[0;34m\u001b[0m\u001b[0m\n\u001b[0m\u001b[1;32m    183\u001b[0m             \u001b[0mt_map\u001b[0m \u001b[0;34m=\u001b[0m \u001b[0mThread\u001b[0m\u001b[0;34m(\u001b[0m\u001b[0mtarget\u001b[0m\u001b[0;34m=\u001b[0m\u001b[0mupdate_map\u001b[0m\u001b[0;34m,\u001b[0m \u001b[0mkwargs\u001b[0m\u001b[0;34m=\u001b[0m\u001b[0mdict\u001b[0m\u001b[0;34m(\u001b[0m\u001b[0mtime_wait\u001b[0m\u001b[0;34m=\u001b[0m\u001b[0;36m2\u001b[0m\u001b[0;34m)\u001b[0m\u001b[0;34m)\u001b[0m\u001b[0;34m\u001b[0m\u001b[0m\n\u001b[1;32m    184\u001b[0m             \u001b[0mt_map\u001b[0m\u001b[0;34m.\u001b[0m\u001b[0mdaemon\u001b[0m \u001b[0;34m=\u001b[0m \u001b[0mTrue\u001b[0m\u001b[0;34m\u001b[0m\u001b[0m\n",
      "\u001b[0;32m<ipython-input-27-f98c3ff8bf8c>\u001b[0m in \u001b[0;36madjust_base_on\u001b[0;34m(snode, closet_gtem)\u001b[0m\n\u001b[1;32m     53\u001b[0m         \u001b[0mresult\u001b[0m \u001b[0;34m=\u001b[0m \u001b[0mgtimer\u001b[0m\u001b[0;34m.\u001b[0m\u001b[0mtoc\u001b[0m\u001b[0;34m(\u001b[0m\u001b[0;34m\"test\"\u001b[0m\u001b[0;34m)\u001b[0m\u001b[0;34m\u001b[0m\u001b[0m\n\u001b[1;32m     54\u001b[0m \u001b[0;31m#         print(\"Time for masking pcd : {} ms\".format(result))\u001b[0m\u001b[0;34m\u001b[0m\u001b[0;34m\u001b[0m\u001b[0m\n\u001b[0;32m---> 55\u001b[0;31m         \u001b[0mmasking_time_list\u001b[0m\u001b[0;34m.\u001b[0m\u001b[0mappend\u001b[0m\u001b[0;34m(\u001b[0m\u001b[0mresult\u001b[0m\u001b[0;34m)\u001b[0m\u001b[0;34m\u001b[0m\u001b[0m\n\u001b[0m\u001b[1;32m     56\u001b[0m         \u001b[0mgtimer\u001b[0m\u001b[0;34m.\u001b[0m\u001b[0mtic\u001b[0m\u001b[0;34m(\u001b[0m\u001b[0;34m\"test\"\u001b[0m\u001b[0;34m)\u001b[0m\u001b[0;34m\u001b[0m\u001b[0m\n\u001b[1;32m     57\u001b[0m \u001b[0;31m#         pcd_masked, ind = pcd_masked.remove_radius_outlier(nb_points=20, radius=0.06)\u001b[0m\u001b[0;34m\u001b[0m\u001b[0;34m\u001b[0m\u001b[0m\n",
      "\u001b[0;31mNameError\u001b[0m: global name 'masking_time_list' is not defined"
     ]
    }
   ],
   "source": [
    "swp_fin_list = []\n",
    "# mode_switcher.push_dist = 0.11\n",
    "# mode_switcher.push_dist = 0.06\n",
    "mode_switcher.push_dist = -0.06\n",
    "\n",
    "for i_s, (snode_schedule, sargs, skwargs) in enumerate(zip(snode_schedule_list, scene_args_list, scene_kwargs_list)):\n",
    "    if isinstance(snode_schedule, ToolDir):\n",
    "        ToolChange(snode_schedule)\n",
    "        continue\n",
    "            \n",
    "    print(\"motions: {}\".format(len(snode_schedule[:-1])-1))\n",
    "    set_base_sweep(*sargs, **skwargs)\n",
    "#     mode_switcher.gtem_ref = \\\n",
    "#         gscene.NAME_DICT[pscene.subject_dict['sweep'].geometry.parent]\n",
    "    if CONNECT_INDY and CONNECT_MOBILE:\n",
    "        ppline.execute_schedule(snode_schedule, one_by_one=True, \n",
    "                                mode_switcher=mode_switcher)\n",
    "    else:\n",
    "        ppline.play_schedule(snode_schedule)\n",
    "        \n",
    "    # leave highlight on cleared area\n",
    "    swp_fin = gscene.copy_from(gscene.NAME_DICT[\"sweep\"], new_name=\"sweep_fin_{}\".format(i_s), color=(0,0,1,1))\n",
    "    swp_fin.dims = (swp_fin.dims[0], swp_fin.dims[1], swp_fin.dims[2]+0.002)\n",
    "    gscene.update_marker(swp_fin)\n",
    "    swp_fin_list.append(swp_fin)\n"
   ]
  },
  {
   "cell_type": "code",
   "execution_count": null,
   "metadata": {},
   "outputs": [],
   "source": [
    "# n1 = np.mean(np.asarray(masking_time_list))\n",
    "# n2 = np.mean(np.asarray(removing_outlier_time_list))\n",
    "# n3 = np.mean(np.asarray(addexping_pt_time_list))\n",
    "# n4 = np.mean(np.asarray(computing_ICP_time_list))\n",
    "# x = np.arange(4)\n",
    "# values = [n1, n2, n3, n4]\n",
    "# names = [\"masking\", \"removing_outlier\", \"adding_points\", \"computing_ICP\"]\n",
    "# plt.xticks(x, names)\n",
    "# plt.bar(x, values)\n",
    "# plt.show()"
   ]
  },
  {
   "cell_type": "markdown",
   "metadata": {},
   "source": [
    "### 2.3. Clear highlight"
   ]
  },
  {
   "cell_type": "code",
   "execution_count": null,
   "metadata": {},
   "outputs": [],
   "source": [
    "test_fun.clear()\n",
    "for swp_fin in swp_fin_list:\n",
    "    gscene.remove(swp_fin)\n",
    "swp_fin_list = []\n",
    "pscene.remove_subject(pscene.subject_dict[\"sweep\"])\n",
    "for child in copy.copy(closet_leftup.children):\n",
    "    gscene.remove(gscene.NAME_DICT[child])\n",
    "for child in copy.copy(closet_rightup.children):\n",
    "    gscene.remove(gscene.NAME_DICT[child])\n",
    "for child in copy.copy(closet_down.children):\n",
    "    gscene.remove(gscene.NAME_DICT[child])"
   ]
  },
  {
   "cell_type": "code",
   "execution_count": null,
   "metadata": {},
   "outputs": [],
   "source": []
  },
  {
   "cell_type": "markdown",
   "metadata": {},
   "source": [
    "## 3. Bed cleaning"
   ]
  },
  {
   "cell_type": "markdown",
   "metadata": {},
   "source": [
    "### 3.1 Make bed cleaning plan"
   ]
  },
  {
   "cell_type": "markdown",
   "metadata": {},
   "source": [
    "#### 3.1.1 make plan"
   ]
  },
  {
   "cell_type": "code",
   "execution_count": null,
   "metadata": {
    "scrolled": true
   },
   "outputs": [],
   "source": [
    "from pkg.planning.constraint.constraint_common import *\n",
    "from pkg.planning.constraint.constraint_actor import *\n",
    "from pkg.planning.constraint.constraint_subject import *\n",
    "\n",
    "BED_OFFSET = 0.05\n",
    "brush_face = pscene.create_binder(bname=TOOL_NAME, gname=TOOL_NAME, _type=SweepFramer, \n",
    "                                  point=(0,0,-gscene.NAME_DICT['brush_face'].dims[2]/2-CLEARANCE-BED_OFFSET), \n",
    "                                  rpy=(0,0,0))\n",
    "\n",
    "T_e_brush = brush_face.get_tf_handle(crob.home_dict, from_link=TIP_LINK)\n",
    "T_brush_e = SE3_inv(T_e_brush)\n",
    "EE_HEIGHT = round(bed_mat.get_tf(HOME_DICT)[2,3] + bed_mat.dims[2]/2, 5) \\\n",
    "                + T_brush_e[2, 3] - INDY_BASE_OFFSET[2]\n",
    "\n",
    "snode_schedule_list, scene_args_list, scene_kwargs_list, Q_CUR, test_fun, covered_all = \\\n",
    "    make_plan_fun(bed_mat, Q_CUR, \"front\", \"X\", 1, EE_HEIGHT, xout_cut=True)"
   ]
  },
  {
   "cell_type": "code",
   "execution_count": null,
   "metadata": {},
   "outputs": [],
   "source": [
    "1"
   ]
  },
  {
   "cell_type": "markdown",
   "metadata": {},
   "source": [
    "### 3.3 Execute bed cleaning sequence"
   ]
  },
  {
   "cell_type": "code",
   "execution_count": null,
   "metadata": {
    "scrolled": true
   },
   "outputs": [],
   "source": [
    "swp_fin_list = []\n",
    "mode_switcher.push_dist = 0\n",
    "mode_switcher.gtem_ref = closet_leftup\n",
    "\n",
    "for i_s, (snode_schedule, sargs, skwargs) in enumerate(zip(snode_schedule_list, scene_args_list, scene_kwargs_list)):\n",
    "    print(\"motions: {}\".format(len(snode_schedule[:-1])-1))\n",
    "    set_base_sweep(*sargs, **skwargs)\n",
    "    if CONNECT_INDY and CONNECT_MOBILE:\n",
    "        ppline.execute_schedule(snode_schedule, one_by_one=True, \n",
    "                                mode_switcher=mode_switcher)\n",
    "    else:\n",
    "        ppline.play_schedule(snode_schedule)\n",
    "        \n",
    "    # leave highlight on cleared area\n",
    "    swp_fin = gscene.copy_from(gscene.NAME_DICT[\"sweep\"], new_name=\"sweep_fin_{}\".format(i_s), color=(0,0,1,1))\n",
    "    swp_fin.dims = (swp_fin.dims[0], swp_fin.dims[1], swp_fin.dims[2]+0.002)\n",
    "    gscene.update_marker(swp_fin)\n",
    "    swp_fin_list.append(swp_fin)\n"
   ]
  },
  {
   "cell_type": "code",
   "execution_count": null,
   "metadata": {},
   "outputs": [],
   "source": []
  },
  {
   "cell_type": "markdown",
   "metadata": {},
   "source": [
    "### 3.4 Clear highlight"
   ]
  },
  {
   "cell_type": "code",
   "execution_count": null,
   "metadata": {},
   "outputs": [],
   "source": [
    "test_fun.clear()\n",
    "for swp_fin in swp_fin_list:\n",
    "    gscene.remove(swp_fin)\n",
    "swp_fin_list = []\n",
    "pscene.remove_subject(pscene.subject_dict[\"sweep\"])\n",
    "for child in copy.copy(bed_mat.children):\n",
    "    gscene.remove(gscene.NAME_DICT[child])"
   ]
  },
  {
   "cell_type": "code",
   "execution_count": null,
   "metadata": {},
   "outputs": [],
   "source": []
  },
  {
   "cell_type": "code",
   "execution_count": null,
   "metadata": {},
   "outputs": [],
   "source": [
    "# save_pickle(\"adjust_list.pkl\", adjust_list)\n",
    "# save_pickle(\"Q_all.pkl\", [[snode.state.Q for snode in snode_schedule] for snode_schedule in snode_schedule_list])"
   ]
  },
  {
   "cell_type": "markdown",
   "metadata": {},
   "source": [
    "## Load exp dat"
   ]
  },
  {
   "cell_type": "code",
   "execution_count": null,
   "metadata": {},
   "outputs": [],
   "source": [
    "# adjust_list = load_pickle(\"adjust_list.pkl\")\n",
    "# gtem_args = load_pickle(\"gtem_args.pkl\")\n",
    "# Q_all = load_pickle(\"Q_all.pkl\")"
   ]
  },
  {
   "cell_type": "code",
   "execution_count": null,
   "metadata": {},
   "outputs": [],
   "source": [
    "# for garg in gtem_args:\n",
    "#     if garg['parent'] == None and garg['link_name']==\"base_link\":\n",
    "#         if garg[\"name\"] in gscene.NAME_DICT:\n",
    "#             gscene.NAME_DICT[garg[\"name\"]].set_offset_tf(center=garg[\"center\"], orientation_mat=Rot_rpy(garg[\"rpy\"]))\n",
    "# gscene.update_markers_all()        "
   ]
  },
  {
   "cell_type": "code",
   "execution_count": null,
   "metadata": {},
   "outputs": [],
   "source": [
    "# VISUALIZE = True\n",
    "# adjust_base_on(Q_all[4][0], closet_leftup)"
   ]
  },
  {
   "cell_type": "code",
   "execution_count": null,
   "metadata": {},
   "outputs": [],
   "source": []
  },
  {
   "cell_type": "markdown",
   "metadata": {},
   "source": [
    "## DEV begin"
   ]
  },
  {
   "cell_type": "markdown",
   "metadata": {},
   "source": [
    "## DEV end"
   ]
  },
  {
   "cell_type": "code",
   "execution_count": null,
   "metadata": {},
   "outputs": [],
   "source": []
  },
  {
   "cell_type": "code",
   "execution_count": null,
   "metadata": {},
   "outputs": [],
   "source": []
  }
 ],
 "metadata": {
  "kernelspec": {
   "display_name": "Python 2",
   "language": "python",
   "name": "python2"
  },
  "language_info": {
   "codemirror_mode": {
    "name": "ipython",
    "version": 2
   },
   "file_extension": ".py",
   "mimetype": "text/x-python",
   "name": "python",
   "nbconvert_exporter": "python",
   "pygments_lexer": "ipython2",
   "version": "2.7.17"
  }
 },
 "nbformat": 4,
 "nbformat_minor": 2
}
