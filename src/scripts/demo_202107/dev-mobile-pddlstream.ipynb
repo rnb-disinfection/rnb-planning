{
 "cells": [
  {
   "cell_type": "code",
   "execution_count": 1,
   "metadata": {},
   "outputs": [],
   "source": [
    "import os\n",
    "import sys\n",
    "sys.path.append(os.path.join(os.environ[\"RNB_PLANNING_DIR\"], 'src'))\n",
    "\n",
    "from pkg.global_config import RNB_PLANNING_DIR\n",
    "from pkg.utils.utils import *    \n",
    "from pkg.controller.combined_robot import *\n",
    "from pkg.project_config import *"
   ]
  },
  {
   "cell_type": "code",
   "execution_count": 2,
   "metadata": {},
   "outputs": [],
   "source": [
    "CONNECT_INDY = False\n",
    "\n",
    "MOBILE_IP = \"192.168.0.102\"\n",
    "INDY_IP = \"192.168.0.3\""
   ]
  },
  {
   "cell_type": "code",
   "execution_count": 3,
   "metadata": {},
   "outputs": [
    {
     "name": "stdout",
     "output_type": "stream",
     "text": [
      "connection command:\n",
      "kmb0: False\n",
      "indy1: False\n",
      "Please create a subscriber to the marker\n",
      "publication OK\n",
      "published: [0, 0, 0, 0, 0, 0, 0, 0, 0, 0, 0, 0]\n"
     ]
    }
   ],
   "source": [
    "crob = CombinedRobot(robots_on_scene=[\n",
    "    RobotConfig(0, RobotType.kmb, ((0,0,0), (0,0,0)),\n",
    "                MOBILE_IP),\n",
    "    RobotConfig(1, RobotType.indy7, ((0.172,0,0.439), (0,0,np.pi)),\n",
    "                INDY_IP, root_on=\"kmb0_platform\", specs={\"no_sdk\":True})]\n",
    "              , connection_list=[False, CONNECT_INDY])\n",
    "\n",
    "from pkg.geometry.builder.scene_builder import SceneBuilder\n",
    "s_builder = SceneBuilder(None)\n",
    "# s_builder.reset_reference_coord(ref_name=\"floor\")\n",
    "# xyz_rpy_robots = s_builder.detect_items(level_mask=[DetectionLevel.ROBOT])\n",
    "# xyz_rpy_robots = {\"kmb0\": ((0,0,0), (0,0,0)), \"indy1\": ((0,0,0), (0,0,np.pi))}\n",
    "# crob.update_robot_pos_dict(xyz_rpy_robots=xyz_rpy_robots)\n",
    "gscene = s_builder.create_gscene(crob)"
   ]
  },
  {
   "cell_type": "code",
   "execution_count": 4,
   "metadata": {},
   "outputs": [],
   "source": [
    "gscene.show_pose(-crob.home_pose)"
   ]
  },
  {
   "cell_type": "code",
   "execution_count": 5,
   "metadata": {},
   "outputs": [],
   "source": [
    "# gscene.show_pose(-crob.home_pose + ([0.2,0.2,np.pi/3,]+[0]*6))"
   ]
  },
  {
   "cell_type": "markdown",
   "metadata": {},
   "source": [
    "## set workspace"
   ]
  },
  {
   "cell_type": "code",
   "execution_count": 6,
   "metadata": {},
   "outputs": [
    {
     "name": "stdout",
     "output_type": "stream",
     "text": [
      "Please create a subscriber to the marker\n"
     ]
    }
   ],
   "source": [
    "gscene.set_workspace_boundary( -5, 5, -5, 5, -0.1, 1.75)"
   ]
  },
  {
   "cell_type": "code",
   "execution_count": null,
   "metadata": {},
   "outputs": [],
   "source": []
  },
  {
   "cell_type": "markdown",
   "metadata": {},
   "source": [
    "## define robot and planning scene"
   ]
  },
  {
   "cell_type": "code",
   "execution_count": 7,
   "metadata": {},
   "outputs": [],
   "source": [
    "from pkg.planning.scene import *\n",
    "from demo_utils.environment import *\n",
    "\n",
    "CHAIR_NAME = \"chair0\"\n",
    "CHAIR_DIM = (0.4,0.4,0.5)\n",
    "\n",
    "MOBILE_NAME = \"kmb0\"\n",
    "HOLD_LINK = \"kmb0_platform\"\n",
    "HOLD_XYZ = (0.445 + 0.35, 0, CHAIR_DIM[2]/2)\n",
    "HOLD_RPY = (0, -np.pi/2, -np.pi/2)\n",
    "HOLD_NAME = \"hold0\"\n",
    "\n",
    "ROBOT_NAME = \"indy1\"\n",
    "TOOL_LINK = \"indy1_tcp\"\n",
    "TOOL_NAME = \"brush_face\"\n",
    "\n",
    "HOME_POSE = -crob.home_pose\n",
    "\n",
    "gtems_robot = s_builder.add_robot_geometries(color=(0, 1, 0, 0.5), display=True, collision=True)\n",
    "viewpoint = add_cam(gscene, tool_link=TOOL_LINK)\n",
    "add_indy_tool_kiro(gscene, tool_link=TOOL_LINK, face_name=TOOL_NAME, zoff=-0.04)\n",
    "\n",
    "pscene = PlanningScene(gscene, combined_robot=crob)"
   ]
  },
  {
   "cell_type": "code",
   "execution_count": null,
   "metadata": {},
   "outputs": [],
   "source": []
  },
  {
   "cell_type": "markdown",
   "metadata": {},
   "source": [
    "## planning pipeline"
   ]
  },
  {
   "cell_type": "code",
   "execution_count": 8,
   "metadata": {},
   "outputs": [
    {
     "name": "stdout",
     "output_type": "stream",
     "text": [
      "Dash is running on http://0.0.0.0:8050/\n",
      "\n",
      " * Serving Flask app \"pkg.ui.dash_launcher\" (lazy loading)\n",
      " * Environment: production\n"
     ]
    }
   ],
   "source": [
    "\n",
    "from pkg.planning.pipeline import PlanningPipeline\n",
    "ppline = PlanningPipeline(pscene)\n",
    "\n",
    "\n",
    "from pkg.ui.ui_broker import *\n",
    "\n",
    "# start UI\n",
    "ui_broker = UIBroker.instance()\n",
    "ui_broker.initialize(ppline, s_builder)\n",
    "ui_broker.start_server()\n",
    "\n",
    "ui_broker.set_tables()"
   ]
  },
  {
   "cell_type": "code",
   "execution_count": 9,
   "metadata": {},
   "outputs": [
    {
     "name": "stdout",
     "output_type": "stream",
     "text": [
      "   WARNING: This is a development server. Do not use it in a production deployment.\n",
      "   Use a production WSGI server instead.\n",
      " * Debug mode: off\n"
     ]
    }
   ],
   "source": [
    "from pkg.planning.motion.moveit.moveit_planner import MoveitPlanner\n",
    "from pkg.planning.filtering.grasp_filter import GraspChecker\n",
    "mplan = MoveitPlanner(pscene, enable_dual=False)\n",
    "mplan.motion_filters = [GraspChecker(pscene)]"
   ]
  },
  {
   "cell_type": "code",
   "execution_count": null,
   "metadata": {},
   "outputs": [],
   "source": []
  },
  {
   "cell_type": "markdown",
   "metadata": {},
   "source": [
    "## Add action points"
   ]
  },
  {
   "cell_type": "code",
   "execution_count": 10,
   "metadata": {},
   "outputs": [],
   "source": [
    "from pkg.planning.constraint.constraint_common import *\n",
    "from pkg.planning.constraint.constraint_subject import *\n",
    "from pkg.planning.constraint.constraint_actor import *"
   ]
  },
  {
   "cell_type": "code",
   "execution_count": 11,
   "metadata": {},
   "outputs": [],
   "source": [
    "CLEARANCE = 0.001\n",
    "gscene.create_safe(gtype=GEOTYPE.BOX, name=\"floor\", link_name=\"base_link\",\n",
    "                   dims=(10,10,0.1), center=(0,0,-0.05-CLEARANCE), \n",
    "                   rpy=(0,0,0), color=(0.9, 0.9, 0.9, 0.9), display=True,\n",
    "                   collision=True, fixed=True)\n",
    "floor = pscene.create_binder(bname=\"floor\", gname=\"floor\", _type=PlacePlane, point=None)\n",
    "\n",
    "brush_face = pscene.create_binder(bname=\"brush_face\", gname=\"brush_face\", _type=SweepFramer, point=(-gscene.NAME_DICT['brush_face'].dims[0]/2,0,0), \n",
    "                     rpy=(0,np.pi/2*1,0))\n",
    "\n",
    "gscene.create_safe(gtype=GEOTYPE.SPHERE, name=HOLD_NAME, link_name=HOLD_LINK,\n",
    "                   dims=(0.01,) * 3, center=HOLD_XYZ, rpy=HOLD_RPY, color=(1, 0, 0, 0.5), display=True,\n",
    "                   collision=False,\n",
    "                   fixed=True)\n",
    "holder = pscene.create_binder(bname=HOLD_NAME, gname=HOLD_NAME, _type=Gripper2Tool, point=(0, 0, 0), rpy=(0, 0, 0))\n",
    "holder.redundancy = {}"
   ]
  },
  {
   "cell_type": "code",
   "execution_count": null,
   "metadata": {},
   "outputs": [],
   "source": []
  },
  {
   "cell_type": "markdown",
   "metadata": {},
   "source": [
    "## Add chair"
   ]
  },
  {
   "cell_type": "code",
   "execution_count": 12,
   "metadata": {},
   "outputs": [],
   "source": [
    "chair_loc = (1, -3.5, CHAIR_DIM[2]/2)\n",
    "\n",
    "obs_all = 10\n",
    "\n",
    "obj_all = 3\n",
    "\n",
    "for i_c in range(obs_all):\n",
    "    CHAIR_NAME_CUR = CHAIR_NAME[:-1]+\"%01d\"%i_c\n",
    "    gscene.create_safe(gtype=GEOTYPE.CYLINDER, name=CHAIR_NAME_CUR, link_name=\"base_link\",\n",
    "                       dims=CHAIR_DIM, center=np.add(chair_loc, [0,0.75*i_c, 0]), rpy=(0,0,0),\n",
    "                       color=(1,0,0,1) if i_c==0 else ((1,1,0,1) if i_c<obj_all else (0.3, 0.3, 0.3, 0.3)), \n",
    "                       display=True, collision=True, fixed=False)\n",
    "    if i_c < obj_all:\n",
    "        chair = pscene.create_subject(oname=CHAIR_NAME_CUR, gname=CHAIR_NAME_CUR, _type=CylinderObject, \n",
    "                                      GRASP_WIDTH_MIN=CHAIR_DIM[0]-0.1, GRASP_WIDTH_MAX=CHAIR_DIM[0]+0.1, \n",
    "                                      GRASP_DEPTH_MIN=CHAIR_DIM[0]/2, GRASP_DEPTH_MAX=CHAIR_DIM[0]/2)\n",
    "#         chair.action_points_dict[CHAIR_NAME_CUR+\"_side_g\"].redundancy = {'u': (-np.pi, np.pi)}\n",
    "        chair.action_points_dict[CHAIR_NAME_CUR+\"_side_g\"].redundancy = {'u': (-0, 0)}"
   ]
  },
  {
   "cell_type": "code",
   "execution_count": null,
   "metadata": {},
   "outputs": [],
   "source": []
  },
  {
   "cell_type": "markdown",
   "metadata": {},
   "source": [
    "## [Test] pick and place chair"
   ]
  },
  {
   "cell_type": "code",
   "execution_count": 13,
   "metadata": {},
   "outputs": [],
   "source": [
    "gscene.create_safe(gtype=GEOTYPE.BOX, name=\"goal\", link_name=\"base_link\",\n",
    "                   dims=(1.0, 1.0, 0.1), center=(3,0,-0.05-CLEARANCE), rpy=(0,0,0),\n",
    "                   color=(0.8, 0.3, 0.3, 0.3), display=True,\n",
    "                   collision=True, fixed=True)\n",
    "\n",
    "goal = pscene.create_binder(bname=\"goal\", gname=\"goal\", _type=PlacePlane, point=None)"
   ]
  },
  {
   "cell_type": "code",
   "execution_count": 14,
   "metadata": {},
   "outputs": [],
   "source": [
    "initial_state = pscene.initialize_state(HOME_POSE)\n",
    "goal_nodes = [('goal',)+rest for rest in list(product([\"goal\", \"floor\"], repeat=obj_all-1))]\n",
    "goal_nodes = [('goal',)+((\"floor\",)*(obj_all-1))]"
   ]
  },
  {
   "cell_type": "code",
   "execution_count": 15,
   "metadata": {},
   "outputs": [],
   "source": [
    "# from pkg.planning.task.rrt import TaskRRT\n",
    "\n",
    "# tplan = TaskRRT(pscene)\n",
    "# ppline.set_motion_planner(mplan)\n",
    "# ppline.set_task_planner(tplan)\n",
    "\n",
    "# ppline.search(initial_state, goal_nodes, verbose=True,\n",
    "#               timeout=1, timeout_loop=100, multiprocess=False,\n",
    "#               add_homing=True)\n",
    "# schedules = ppline.tplan.find_schedules(False)\n",
    "# schedules_sorted = ppline.tplan.sort_schedule(schedules)\n",
    "# snode_schedule = ppline.tplan.idxSchedule2SnodeScedule(schedules_sorted[0])\n",
    "# ppline.play_schedule(snode_schedule)\n"
   ]
  },
  {
   "cell_type": "code",
   "execution_count": 16,
   "metadata": {},
   "outputs": [
    {
     "name": "stdout",
     "output_type": "stream",
     "text": [
      "[Pybullet] Load urdf from /home/rnb/Projects/rnb-planning/src/robots/custom_robots_pybullet.urdf\n",
      "Objects: {1L: 'brush_face_col', 2L: 'hindge1_col', 3L: 'indy1_link1_Cylinder_0', 4L: 'hindge0_col', 5L: 'chair5', 6L: 'leftwall_ws', 7L: 'chair4', 8L: 'chair7', 9L: 'chair9', 10L: 'chair8', 11L: 'goal', 12L: 'floor', 13L: 'indy1_link2_Cylinder_0', 14L: 'indy1_link2_Cylinder_1', 15L: 'chair1', 16L: 'chair0', 17L: 'ceiling_ws', 18L: 'adapter_col', 19L: 'floor_ws', 20L: 'frontwall_ws', 21L: 'rightwall_ws', 22L: 'cam_col', 23L: 'backhead_col', 24L: 'chair6', 25L: 'chair2', 26L: 'indy1_link4_Cylinder_0', 27L: 'body_col', 28L: 'hinge_bar_col', 29L: 'backwall_ws', 30L: 'indy1_link6_Cylinder_0', 31L: 'indy1_link5_Cylinder_0', 32L: 'chair3', 33L: 'indy1_link0_Box_0', 34L: 'brushbase_col', 35L: 'indy1_link3_Cylinder_0'}\n",
      "================ MAKE PROBLEM ======================\n",
      "IK checkers: ['GraspChecker']\n",
      "MP checkers: []\n",
      "timeout motion : 1\n",
      "====================================================\n",
      "Robot: 0\n",
      "Movable: [25L, 15L, 16L]\n",
      "Fixed: [1, 2, 3, 4, 5, 6, 7, 8, 9, 10, 11, 12, 13, 14, 17, 18, 19, 20, 21, 22, 23, 24, 26, 27, 28, 29, 30, 31, 32, 33, 34, 35]\n",
      "body 25 - surface 1\n",
      "body 25 - surface 2\n",
      "body 25 - surface 3\n",
      "body 25 - surface 4\n",
      "body 25 - surface 5\n",
      "body 25 - surface 6\n",
      "body 25 - surface 7\n",
      "body 25 - surface 8\n",
      "body 25 - surface 9\n",
      "body 25 - surface 10\n",
      "body 25 - surface 11\n",
      "body 25 - surface 12\n",
      "body 25 - surface 13\n",
      "body 25 - surface 14\n",
      "body 25 - surface 17\n",
      "body 25 - surface 18\n",
      "body 25 - surface 19\n",
      "body 25 - surface 20\n",
      "body 25 - surface 21\n",
      "body 25 - surface 22\n",
      "body 25 - surface 23\n",
      "body 25 - surface 24\n",
      "body 25 - surface 26\n",
      "body 25 - surface 27\n",
      "body 25 - surface 28\n",
      "body 25 - surface 29\n",
      "body 25 - surface 30\n",
      "body 25 - surface 31\n",
      "body 25 - surface 32\n",
      "body 25 - surface 33\n",
      "body 25 - surface 34\n",
      "body 25 - surface 35\n",
      "body 15 - surface 1\n",
      "body 15 - surface 2\n",
      "body 15 - surface 3\n",
      "body 15 - surface 4\n",
      "body 15 - surface 5\n",
      "body 15 - surface 6\n",
      "body 15 - surface 7\n",
      "body 15 - surface 8\n",
      "body 15 - surface 9\n",
      "body 15 - surface 10\n",
      "body 15 - surface 11\n",
      "body 15 - surface 12\n",
      "body 15 - surface 13\n",
      "body 15 - surface 14\n",
      "body 15 - surface 17\n",
      "body 15 - surface 18\n",
      "body 15 - surface 19\n",
      "body 15 - surface 20\n",
      "body 15 - surface 21\n",
      "body 15 - surface 22\n",
      "body 15 - surface 23\n",
      "body 15 - surface 24\n",
      "body 15 - surface 26\n",
      "body 15 - surface 27\n",
      "body 15 - surface 28\n",
      "body 15 - surface 29\n",
      "body 15 - surface 30\n",
      "body 15 - surface 31\n",
      "body 15 - surface 32\n",
      "body 15 - surface 33\n",
      "body 15 - surface 34\n",
      "body 15 - surface 35\n",
      "body 16 - surface 1\n",
      "body 16 - surface 2\n",
      "body 16 - surface 3\n",
      "body 16 - surface 4\n",
      "body 16 - surface 5\n",
      "body 16 - surface 6\n",
      "body 16 - surface 7\n",
      "body 16 - surface 8\n",
      "body 16 - surface 9\n",
      "body 16 - surface 10\n",
      "body 16 - surface 11\n",
      "body 16 - surface 12\n",
      "body 16 - surface 13\n",
      "body 16 - surface 14\n",
      "body 16 - surface 17\n",
      "body 16 - surface 18\n",
      "body 16 - surface 19\n",
      "body 16 - surface 20\n",
      "body 16 - surface 21\n",
      "body 16 - surface 22\n",
      "body 16 - surface 23\n",
      "body 16 - surface 24\n",
      "body 16 - surface 26\n",
      "body 16 - surface 27\n",
      "body 16 - surface 28\n",
      "body 16 - surface 29\n",
      "body 16 - surface 30\n",
      "body 16 - surface 31\n",
      "body 16 - surface 32\n",
      "body 16 - surface 33\n",
      "body 16 - surface 34\n",
      "body 16 - surface 35\n",
      "Init: [('CanMove',), ('Conf', q0), ('AtConf', q0), ('HandEmpty',), ('Timer', 0L), ('Graspable', 25L), ('Pose', 25L, p0), ('AtPose', 25L, p0), ('Stackable', 25L, 1), ('Stackable', 25L, 2), ('Stackable', 25L, 3), ('Stackable', 25L, 4), ('Stackable', 25L, 5), ('Stackable', 25L, 6), ('Stackable', 25L, 7), ('Stackable', 25L, 8), ('Stackable', 25L, 9), ('Stackable', 25L, 10), ('Stackable', 25L, 11), ('Stackable', 25L, 12), ('Supported', 25L, p0, 12), ('Stackable', 25L, 13), ('Stackable', 25L, 14), ('Stackable', 25L, 17), ('Stackable', 25L, 18), ('Stackable', 25L, 19), ('Stackable', 25L, 20), ('Stackable', 25L, 21), ('Stackable', 25L, 22), ('Stackable', 25L, 23), ('Stackable', 25L, 24), ('Stackable', 25L, 26), ('Stackable', 25L, 27), ('Stackable', 25L, 28), ('Stackable', 25L, 29), ('Stackable', 25L, 30), ('Stackable', 25L, 31), ('Stackable', 25L, 32), ('Stackable', 25L, 33), ('Stackable', 25L, 34), ('Stackable', 25L, 35), ('Timer', 0L), ('Graspable', 15L), ('Pose', 15L, p1), ('AtPose', 15L, p1), ('Stackable', 15L, 1), ('Stackable', 15L, 2), ('Stackable', 15L, 3), ('Stackable', 15L, 4), ('Stackable', 15L, 5), ('Stackable', 15L, 6), ('Stackable', 15L, 7), ('Stackable', 15L, 8), ('Stackable', 15L, 9), ('Stackable', 15L, 10), ('Stackable', 15L, 11), ('Stackable', 15L, 12), ('Supported', 15L, p1, 12), ('Stackable', 15L, 13), ('Stackable', 15L, 14), ('Stackable', 15L, 17), ('Stackable', 15L, 18), ('Stackable', 15L, 19), ('Stackable', 15L, 20), ('Stackable', 15L, 21), ('Stackable', 15L, 22), ('Stackable', 15L, 23), ('Stackable', 15L, 24), ('Stackable', 15L, 26), ('Stackable', 15L, 27), ('Stackable', 15L, 28), ('Stackable', 15L, 29), ('Stackable', 15L, 30), ('Stackable', 15L, 31), ('Stackable', 15L, 32), ('Stackable', 15L, 33), ('Stackable', 15L, 34), ('Stackable', 15L, 35), ('Timer', 0L), ('Graspable', 16L), ('Pose', 16L, p2), ('AtPose', 16L, p2), ('Stackable', 16L, 1), ('Stackable', 16L, 2), ('Stackable', 16L, 3), ('Stackable', 16L, 4), ('Stackable', 16L, 5), ('Stackable', 16L, 6), ('Stackable', 16L, 7), ('Stackable', 16L, 8), ('Stackable', 16L, 9), ('Stackable', 16L, 10), ('Stackable', 16L, 11), ('Stackable', 16L, 12), ('Supported', 16L, p2, 12), ('Stackable', 16L, 13), ('Stackable', 16L, 14), ('Stackable', 16L, 17), ('Stackable', 16L, 18), ('Stackable', 16L, 19), ('Stackable', 16L, 20), ('Stackable', 16L, 21), ('Stackable', 16L, 22), ('Stackable', 16L, 23), ('Stackable', 16L, 24), ('Stackable', 16L, 26), ('Stackable', 16L, 27), ('Stackable', 16L, 28), ('Stackable', 16L, 29), ('Stackable', 16L, 30), ('Stackable', 16L, 31), ('Stackable', 16L, 32), ('Stackable', 16L, 33), ('Stackable', 16L, 34), ('Stackable', 16L, 35)]\n",
      "Goal: ('and', ('AtConf', q0), ('On', 16L, 11L), ('On', 15L, 12L), ('On', 25L, 12L))\n",
      "Streams: {TrajCollision, inverse-kinematics, plan-free-motion, plan-holding-motion, sample-grasp, sample-pose, test-cfree-approach-pose, test-cfree-pose-pose, test-cfree-traj-pose}\n",
      "Warning! All actions have no cost. Recommend setting unit_costs=True\n",
      "Warning! Undeclared predicates: ['conf']\n",
      "Setting negate=True for stream [test-cfree-approach-pose]\n",
      "Setting negate=True for stream [test-cfree-pose-pose]\n",
      "Setting negate=True for stream [test-cfree-traj-pose]\n",
      "pddl_name: pnp-tamp\n",
      "Streams: [sample-pose:('?o', '?r')->('?p',), sample-grasp:('?o',)->('?g',), inverse-kinematics:('?o', '?p', '?g')->('?q', '?t'), plan-free-motion:('?q1', '?q2')->('?t',), plan-holding-motion:('?q1', '?q2', '?o', '?g')->('?t',)]\n",
      "Functions: []\n",
      "Negated: [test-cfree-pose-pose:('?o1', '?p1', '?o2', '?p2')->(), test-cfree-approach-pose:('?o1', '?p1', '?g1', '?o2', '?p2')->(), test-cfree-traj-pose:('?t', '?o2', '?p2')->()]\n",
      "Optimizers: []\n",
      "\n",
      "Iteration: 1 | Complexity: 0 | Skeletons: 0 | Skeleton Queue: 0 | Disabled: 0 | Evaluations: 113 | Eager Calls: 0 | Cost: inf | Search Time: 0.001 | Sample Time: 0.000 | Total Time: 0.001\n",
      "Attempt: 1 | Results: 1 | Depth: 0 | Success: False | Time: 0.034\n",
      "Stream plan (inf, 0, inf): None\n",
      "Action plan (inf, inf): None\n",
      "No plan: increasing complexity from 0 to 1\n",
      "\n",
      "Iteration: 2 | Complexity: 1 | Skeletons: 0 | Skeleton Queue: 0 | Disabled: 0 | Evaluations: 113 | Eager Calls: 0 | Cost: inf | Search Time: 0.035 | Sample Time: 0.000 | Total Time: 0.035\n",
      "Attempt: 1 | Results: 103 | Depth: 0 | Success: False | Time: 0.091\n",
      "Stream plan (inf, 0, inf): None\n",
      "Action plan (inf, inf): None\n",
      "No plan: increasing complexity from 1 to 2\n",
      "\n",
      "Iteration: 3 | Complexity: 2 | Skeletons: 0 | Skeleton Queue: 0 | Disabled: 0 | Evaluations: 113 | Eager Calls: 0 | Cost: inf | Search Time: 0.129 | Sample Time: 0.000 | Total Time: 0.129\n",
      "Attempt: 1 | Results: 121 | Depth: 1 | Success: False | Time: 0.152\n",
      "Attempt: 2 | Results: 170 | Depth: 0 | Success: True | Time: 0.301\n",
      "Stream plan (18, 18, 0.001): [sample-grasp:(16)->(#g0), inverse-kinematics:(16, p2, #g0)->(#q0, #t19), test-cfree-traj-pose:(#t19, 15, p1)->(), test-cfree-traj-pose:(#t19, 25, p0)->(), sample-pose:(16, 11)->(#p0), inverse-kinematics:(16, #p0, #g0)->(#q1, #t20), test-cfree-traj-pose:(#t20, 25, p0)->(), test-cfree-traj-pose:(#t20, 15, p1)->(), test-cfree-traj-pose:(#t19, 16, p2)->(), test-cfree-pose-pose:(16, #p0, 15, p1)->(), test-cfree-pose-pose:(16, #p0, 25, p0)->(), test-cfree-approach-pose:(16, p2, #g0, 15, p1)->(), test-cfree-approach-pose:(16, p2, #g0, 25, p0)->(), test-cfree-approach-pose:(16, #p0, #g0, 15, p1)->(), test-cfree-approach-pose:(16, #p0, #g0, 25, p0)->(), plan-free-motion:(q0, #q0)->(#t73), plan-free-motion:(#q1, q0)->(#t74), plan-holding-motion:(#q0, #q1, 16, #g0)->(#t75)]\n",
      "Action plan (5, 0.000): [move_free(q0, #q0, #t73), pick(16, p2, #g0, #q0, #t19), move_holding(#q0, #q1, 16, #g0, #t75), place(16, #p0, #g0, #q1, #t20), move_free(#q1, q0, #t74)]\n"
     ]
    },
    {
     "name": "stdout",
     "output_type": "stream",
     "text": [
      "iter=0, outs=1) sample-grasp:(16)->[(g0)]\n",
      "iter=inf, outs=1) inverse-kinematics:(16, p2, g0)->[(q1, c0)]\n",
      "iter=inf, outs=1) test-cfree-traj-pose:(c0, 15, p1)->[()]\n",
      "iter=inf, outs=1) test-cfree-traj-pose:(c0, 25, p0)->[()]\n",
      "iter=0, outs=1) sample-pose:(16, 11)->[(p3)]\n",
      "iter=inf, outs=1) inverse-kinematics:(16, p3, g0)->[(q2, c1)]\n",
      "iter=inf, outs=1) test-cfree-traj-pose:(c1, 25, p0)->[()]\n",
      "iter=inf, outs=1) test-cfree-traj-pose:(c1, 15, p1)->[()]\n",
      "iter=inf, outs=1) test-cfree-traj-pose:(c0, 16, p2)->[()]\n",
      "iter=inf, outs=1) test-cfree-pose-pose:(16, p3, 15, p1)->[()]\n",
      "iter=inf, outs=1) test-cfree-pose-pose:(16, p3, 25, p0)->[()]\n",
      "iter=inf, outs=1) test-cfree-approach-pose:(16, p2, g0, 15, p1)->[()]\n",
      "iter=inf, outs=1) test-cfree-approach-pose:(16, p2, g0, 25, p0)->[()]\n",
      "iter=inf, outs=1) test-cfree-approach-pose:(16, p3, g0, 15, p1)->[()]\n",
      "iter=inf, outs=1) test-cfree-approach-pose:(16, p3, g0, 25, p0)->[()]\n",
      "sucject/actor: chair0 / hold0\n",
      "check / plan: True / True\n",
      "iter=inf, outs=1) plan-free-motion:(q0, q1)->[(c2)]\n",
      "sucject/actor: None / hold0\n",
      "check / plan: True / True\n",
      "iter=inf, outs=1) plan-free-motion:(q2, q0)->[(c3)]\n",
      "sucject/actor: chair0 / goal\n",
      "check / plan: True / True\n",
      "iter=inf, outs=1) plan-holding-motion:(q1, q2, 16, g0)->[(c4)]\n",
      "Summary: {complexity: 2, cost: 0.000, evaluations: 136, iterations: 3, length: 2, run_time: 17.967, sample_time: 17.518, search_time: 0.448, skeletons: 1, solutions: 1, solved: True, timeout: False}\n",
      "\n",
      "Total External Statistics\n",
      "External: sample-pose | n: 21 | p_success: 1.000 | overhead: 0.643\n",
      "External: sample-grasp | n: 181 | p_success: 0.995 | overhead: 3.211\n",
      "External: inverse-kinematics | n: 247 | p_success: 0.028 | overhead: 0.705\n",
      "External: plan-free-motion | n: 6 | p_success: 1.000 | overhead: 1.078\n",
      "External: plan-holding-motion | n: 2 | p_success: 1.000 | overhead: 2.263\n",
      "External: test-cfree-pose-pose | n: 6 | p_success: 1.000 | overhead: 0.000\n",
      "External: test-cfree-approach-pose | n: 12 | p_success: 1.000 | overhead: 0.000\n",
      "External: test-cfree-traj-pose | n: 15 | p_success: 1.000 | overhead: 0.000\n",
      "Wrote: statistics/py2/pnp-tamp.pkl\n",
      "         7244020 function calls (7220127 primitive calls) in 17.981 seconds\n",
      "\n",
      "   Ordered by: internal time\n",
      "   List reduced from 1616 to 10 due to restriction <10>\n",
      "\n",
      "   ncalls  tottime  percall  cumtime  percall filename:lineno(function)\n",
      "    17915    7.373    0.000    7.373    0.000 {time.sleep}\n",
      "    14852    1.200    0.000    1.679    0.000 /usr/local/lib/python2.7/dist-packages/scipy/spatial/transform/rotation.py:468(from_dcm)\n",
      "   187778    0.819    0.000    1.581    0.000 /home/rnb/Projects/rnb-planning/src/pkg/utils/rotation_utils.py:87(SE3)\n",
      "   371552    0.699    0.000    1.632    0.000 /home/rnb/Projects/rnb-planning/src/pkg/utils/rotation_utils.py:16(Rot_axis)\n",
      "   417933    0.680    0.000    0.680    0.000 {numpy.array}\n",
      "   103332    0.633    0.000    5.055    0.000 /home/rnb/Projects/rnb-planning/src/pkg/utils/joint_utils.py:109(get_joint_tf)\n",
      "   103962    0.597    0.000    1.887    0.000 /home/rnb/Projects/rnb-planning/src/pkg/utils/rotation_utils.py:34(Rot_axis_series)\n",
      "    14835    0.514    0.000    5.764    0.000 /home/rnb/Projects/rnb-planning/src/pkg/utils/joint_utils.py:122(get_tf)\n",
      "   246509    0.498    0.000    0.695    0.000 /usr/local/lib/python2.7/dist-packages/numpy/lib/twodim_base.py:154(eye)\n",
      "        3    0.442    0.147    0.444    0.148 /home/rnb/Projects/rnb-planning/src/pkg/planning/motion/moveit/moveit_py.py:158(plan_joint_motion_py)\n",
      "\n",
      "\n",
      "\n",
      "Solved: True\n",
      "Cost: 0.000\n",
      "Length: 5\n",
      "Deferred: 0\n",
      "Evaluations: 2\n",
      " 1) move_free q0 q1 c2\n",
      " 2) pick 16 p2 g0 q1 c0\n",
      " 3) move_holding q1 q2 16 g0 c4\n",
      " 4) place 16 p3 g0 q2 c1\n",
      " 5) move_free q2 q0 c3\n"
     ]
    }
   ],
   "source": [
    "from pkg.planning.pddlstream.plan_rnb import solve_in_pddlstream\n",
    "\n",
    "goal_pairs=[(CHAIR_NAME, 'goal'), (CHAIR_NAME[:-1]+\"1\", \"floor\"), (CHAIR_NAME[:-1]+\"2\", \"floor\")]\n",
    "TIMEOUT_MOTION, MAX_TIME, MAX_ITER, MAX_SKELETONS = 1, 100, 100, 30\n",
    "GRASP_SAMPLE, STABLE_SAMPLE, SHOW_STATE, SEARCH_SAMPLE_RATIO = 100, 100, True, 100\n",
    "VERBOSE=True\n",
    "\n",
    "\n",
    "res, plan, log_dict = solve_in_pddlstream(pscene, mplan, MOBILE_NAME, HOLD_NAME, HOME_POSE, goal_pairs,\n",
    "                        TIMEOUT_MOTION, MAX_TIME, MAX_ITER, MAX_SKELETONS,\n",
    "                        GRASP_SAMPLE, STABLE_SAMPLE, SHOW_STATE, SEARCH_SAMPLE_RATIO,\n",
    "                        use_pybullet_gui=False, USE_MOVEIT_IK=True, VERBOSE=VERBOSE)"
   ]
  },
  {
   "cell_type": "code",
   "execution_count": 20,
   "metadata": {},
   "outputs": [],
   "source": [
    "from pkg.planning.pddlstream.plan_rnb import *\n",
    "play_pddl_plan(pscene, gripper=pscene.actor_dict[\"hold0\"], initial_state=initial_state, \n",
    "               body_names=log_dict['body_names'], plan = plan)"
   ]
  },
  {
   "cell_type": "code",
   "execution_count": null,
   "metadata": {},
   "outputs": [],
   "source": []
  }
 ],
 "metadata": {
  "kernelspec": {
   "display_name": "Python 2",
   "language": "python",
   "name": "python2"
  },
  "language_info": {
   "codemirror_mode": {
    "name": "ipython",
    "version": 2
   },
   "file_extension": ".py",
   "mimetype": "text/x-python",
   "name": "python",
   "nbconvert_exporter": "python",
   "pygments_lexer": "ipython2",
   "version": "2.7.17"
  }
 },
 "nbformat": 4,
 "nbformat_minor": 2
}
