{
 "cells": [
  {
   "cell_type": "markdown",
   "metadata": {},
   "source": [
    "## set running directory to project source"
   ]
  },
  {
   "cell_type": "code",
   "execution_count": null,
   "metadata": {},
   "outputs": [],
   "source": [
    "import os\n",
    "import sys\n",
    "sys.path.append(os.path.join(os.environ[\"RNB_PLANNING_DIR\"], 'src'))\n",
    "\n",
    "from pkg.utils.code_scraps import add_indy_sweep_tool, \\\n",
    "        use_current_place_point_only, use_current_sub_binders_only, \\\n",
    "        finish_L_shape, set_l_shape_object, ModeSwitcher, double_sweep_motions\n",
    "\n",
    "from pkg.controller.combined_robot import *\n",
    "from pkg.project_config import *\n",
    "from pkg.geometry.builder.scene_builder import SceneBuilder\n",
    "from pkg.planning.scene import PlanningScene\n",
    "from pkg.planning.pipeline import PlanningPipeline\n",
    "from pkg.ui.ui_broker import *\n",
    "from pkg.planning.constraint.constraint_actor import Gripper2Tool, PlacePlane, SweepFramer, FixtureSlot\n",
    "from pkg.planning.constraint.constraint_common import MotionConstraint\n",
    "from pkg.planning.constraint.constraint_subject import AbstractTask, AbstractObject\n",
    "from pkg.planning.constraint.constraint_subject import SweepLineTask\n",
    "from pkg.planning.constraint.constraint_subject import SweepFrame\n",
    "from pkg.planning.motion.moveit.moveit_planner import MoveitPlanner\n",
    "from pkg.planning.task.rrt import TaskRRT\n",
    "from pkg.planning.constraint.constraint_common import sample_redundancy, combine_redundancy\n",
    "from pkg.planning.sampling.node_sampling import make_state_param_hashable, UniformNodeSampler, PenaltyNodeSampler, GrowingSampler\n",
    "from pkg.planning.task.custom_rules.sweep_entrance_control import SweepEntranceControlRule\n",
    "import matplotlib.pyplot as plt\n",
    "import math\n",
    "import numpy as np\n",
    "from collections import defaultdict\n",
    "from demo_utils.area_select import DATASET_DIR, SweepDirections\n",
    "try_mkdir(DATASET_DIR)"
   ]
  },
  {
   "cell_type": "code",
   "execution_count": null,
   "metadata": {},
   "outputs": [],
   "source": []
  },
  {
   "cell_type": "markdown",
   "metadata": {},
   "source": [
    "## create scene builder"
   ]
  },
  {
   "cell_type": "code",
   "execution_count": null,
   "metadata": {},
   "outputs": [],
   "source": [
    "ROBOT_TYPE = RobotType.indy7\n",
    "INDY_BASE_OFFSET = (0.172,0,0.439)\n",
    "TIMEOUT_MP = 0.5\n",
    "\n",
    "mobile_config = RobotConfig(0, RobotType.kmb, ((0,0,0), (0,0,0)),\n",
    "                None)\n",
    "robot_config = RobotConfig(1, ROBOT_TYPE, (INDY_BASE_OFFSET, (0,0,0)),\n",
    "                INDY_IP, root_on=\"kmb0_platform\", \n",
    "                           specs={\"no_sdk\":True})\n",
    "\n",
    "crob = CombinedRobot(robots_on_scene=[mobile_config, robot_config], connection_list=[False, False])\n",
    "\n",
    "ROBOT_NAME = robot_config.get_indexed_name()\n",
    "s_builder = SceneBuilder(None)\n",
    "# s_builder.reset_reference_coord(ref_name=\"floor\")"
   ]
  },
  {
   "cell_type": "markdown",
   "metadata": {},
   "source": [
    "## make geometry scene"
   ]
  },
  {
   "cell_type": "code",
   "execution_count": null,
   "metadata": {},
   "outputs": [],
   "source": [
    "BASE_LINK = \"base_link\"\n",
    "EE_NAME = \"ee_point\"\n",
    "gscene = s_builder.create_gscene(crob, start_rviz=True)\n",
    "\n",
    "floor = gscene.create_safe(GEOTYPE.BOX, \"floor\", BASE_LINK, (3,3,0.01), (0,0,0), \n",
    "                           rpy=(0,0,0), color=(0.8,0.8,0.8,0.5), display=True, fixed=True, collision=False)\n",
    "gtems = s_builder.add_robot_geometries(color=(0,1,0,0.5), display=True, collision=True)\n",
    "# ee_point.draw_traj_coords([[0]*6])"
   ]
  },
  {
   "cell_type": "markdown",
   "metadata": {},
   "source": [
    "## init planning pipeline"
   ]
  },
  {
   "cell_type": "code",
   "execution_count": null,
   "metadata": {
    "scrolled": true
   },
   "outputs": [],
   "source": [
    "from demo_utils.environment import add_kiro_indytool_down\n",
    "\n",
    "pscene = PlanningScene(gscene, combined_robot=crob)\n",
    "TIP_LINK = pscene.robot_chain_dict[ROBOT_NAME][\"tip_link\"]\n",
    "ROBOT_BASE = pscene.robot_chain_dict[ROBOT_NAME]['link_names'][0]\n",
    "add_kiro_indytool_down(gscene, zoff=0, tool_link=TIP_LINK, face_name=\"dummy_brush\")\n",
    "ee_point = gscene.create_safe(GEOTYPE.SPHERE, EE_NAME, TIP_LINK, (0.01,)*3, \n",
    "                              center=(0,0,0), rpy=(0,0,0), \n",
    "                              color=(0.8,0.2,0.2,0.8), display=True, fixed=True, collision=False)\n",
    "\n",
    "ppline = PlanningPipeline(pscene)\n",
    "\n",
    "mplan = MoveitPlanner(pscene, enable_dual=False, incremental_constraint_motion=True)\n",
    "mplan.update_gscene()\n",
    "ppline.set_motion_planner(mplan)\n",
    "\n",
    "\n",
    "# start UI\n",
    "ui_broker = UIBroker.instance()\n",
    "ui_broker.initialize(ppline, s_builder)\n",
    "ui_broker.start_server()\n",
    "\n",
    "ui_broker.set_tables()"
   ]
  },
  {
   "cell_type": "markdown",
   "metadata": {},
   "source": [
    "## Set Parameters"
   ]
  },
  {
   "cell_type": "code",
   "execution_count": null,
   "metadata": {},
   "outputs": [],
   "source": [
    "TIMEOUT_MP = 0.5\n",
    "\n",
    "\n",
    "VISUALIZE = False\n",
    "VERBOSE = False\n",
    "N_try = 3\n",
    "SWEEP_DIV = 7\n",
    "\n",
    "\n",
    "HOME_POSE_EXT = np.array([0,]*6 + np.deg2rad([  0., 50.,  -70.,  -0.,  -90., 0]).tolist())\n",
    "crob.home_pose = HOME_POSE_EXT\n",
    "crob.home_dict = list2dict(crob.home_pose, gscene.joint_names)\n",
    "gscene.show_pose(crob.home_pose)\n",
    "\n",
    "# # dummy tool coord\n",
    "# gscene.add_highlight_axis(\"tool\", \"coord\", link_name=\"indy0_tcp\", \n",
    "#                           center=(0.1,0,0.2), orientation_mat=Rot_rpy((0,0,np.pi)))"
   ]
  },
  {
   "cell_type": "markdown",
   "metadata": {},
   "source": [
    "## Scan"
   ]
  },
  {
   "cell_type": "code",
   "execution_count": null,
   "metadata": {
    "scrolled": true
   },
   "outputs": [],
   "source": [
    "# HOME_POSE = np.zeros(gscene.joint_num)\n",
    "HOME_POSE = HOME_POSE_EXT\n",
    "for tip_dir, SWEEP_AXIS in [(SweepDirections.front, \"X\"), (SweepDirections.up, \"Z\"), (SweepDirections.down, \"Z\")]:\n",
    "    SWEEP_AX = \"XYZ\".index(SWEEP_AXIS)\n",
    "    STEP_SIZES = [0.02]*3\n",
    "    STEP_SIZES[SWEEP_AX] = 0.01\n",
    "    X_step, Y_step, Z_step = STEP_SIZES\n",
    "\n",
    "    if tip_dir == SweepDirections.front:\n",
    "        X_range = (0.0, 1)\n",
    "        Y_range = (-0.8, 0.8)\n",
    "        Z_range = (0.0, 1.0)\n",
    "    elif tip_dir == SweepDirections.up:\n",
    "        X_range = (0.2, 0.8)\n",
    "        Y_range = (-0.8, 0.8)\n",
    "        Z_range = (-0.1, 1.3)\n",
    "    elif tip_dir == SweepDirections.down:\n",
    "        X_range = (0.2, 0.8)\n",
    "        Y_range = (-0.8, 0.8)\n",
    "        Z_range = (-0.7, 0.7)\n",
    "    else:\n",
    "        raise(NotImplementedError(\"SweepDirection not implemented\"))\n",
    "        \n",
    "    DATASET_PATH = os.path.join(DATASET_DIR, SweepDirections.get_file_name(ROBOT_TYPE, tip_dir.name+SWEEP_AXIS))\n",
    "    R_be, STEP_AX, LEVEL_AX = SweepDirections.get_Re_step_level(tip_dir, SWEEP_AX)\n",
    "        \n",
    "    gtimer = GlobalTimer.instance()\n",
    "    gtimer.reset()\n",
    "\n",
    "    X_DIR, Y_DIR, Z_DIR = np.identity(3, dtype=np.int)\n",
    "    SWEEP_DIR = [X_DIR, Y_DIR, Z_DIR][SWEEP_AX]\n",
    "    RANGE_STEPS_REF = [(X_range, X_step, X_DIR), (Y_range, Y_step, Y_DIR), (Z_range, Z_step, Z_DIR)]\n",
    "    RANGE_STEPS = np.array(RANGE_STEPS_REF)[np.where(np.logical_not(SWEEP_DIR))]\n",
    "    RANGEX, STEPX, DIRX = RANGE_STEPS_REF[SWEEP_AX]\n",
    "    STEP_SWEEP = float(RANGEX[1] - RANGEX[0])/SWEEP_DIV\n",
    "    \n",
    "    RANGE1, STEP1, DIR1 = RANGE_STEPS[LEVEL_AX]\n",
    "    RANGE2, STEP2, DIR2 = RANGE_STEPS[STEP_AX]\n",
    "        \n",
    "\n",
    "    range_list_dict = {}\n",
    "    config_list_dict = {}\n",
    "    STEPS_1 = np.round(np.arange(RANGE1[0], RANGE1[1]+STEP1, STEP1), 4)\n",
    "    STEPS_2 = np.round(np.arange(RANGE2[0], RANGE2[1]+STEP2, STEP2), 4)\n",
    "    STEPS_X = np.round(np.arange(RANGEX[0], RANGEX[1]-1e-3, STEP_SWEEP)[1:].tolist(), 4)\n",
    "    LEN_1, LEN_2 = len(STEPS_1), len(STEPS_2)\n",
    "    count = 0\n",
    "    LEN_ALL = LEN_1*LEN_2\n",
    "    gtimer.tic(\"test\")\n",
    "    for i_p1, pos1 in enumerate(STEPS_1):\n",
    "        for i_p2, pos2 in enumerate(STEPS_2):\n",
    "            count += 1\n",
    "            with gtimer.block(\"loop\"):\n",
    "                pos_rest = np.multiply(pos1, DIR1) + np.multiply(pos2, DIR2)\n",
    "                pos0 = pos_rest + np.multiply(np.mean(RANGEX), DIRX)\n",
    "                key = tuple(np.round(pos0, 4))\n",
    "                print(\"========= {} ({}/{})=========\".format(key, count, LEN_ALL))\n",
    "                T_be = SE3(R_be, pos0)\n",
    "                T_bp = np.matmul(T_be, SE3(np.identity(3), (0.34,0,0.25)))\n",
    "                gscene.create_safe(GEOTYPE.BOX, \"sweep_surf\", ROBOT_BASE, \n",
    "                                   dims = np.multiply(RANGEX[1]-RANGEX[0], DIRX) + np.multiply(0.01, DIR1) + np.multiply(0.4, DIR2), \n",
    "                                   center=T_bp[:3,3], rpy=(0,0,0), \n",
    "                                   color=(0.8,0.0,0.0,0.5), display=True,  \n",
    "                                   fixed=True, collision=True)\n",
    "                gscene.update_markers_all()\n",
    "                if VISUALIZE:\n",
    "                    gscene.add_highlight_axis(\"hl\", \"tbe0\", link_name=ROBOT_BASE, \n",
    "                                              center=T_be[:3,3], orientation_mat=T_be[:3,:3], dims=[0.2,0.04,0.04])\n",
    "                \n",
    "                p2p_list = []\n",
    "                qpair_list = []\n",
    "                T_be0 = np.copy(T_be)\n",
    "                for i_try in range(N_try):\n",
    "                    traj, success = mplan.planner.plan_py(\n",
    "                        ROBOT_NAME, TIP_LINK, np.concatenate(T2xyzquat(T_be0)), ROBOT_BASE, HOME_POSE, \n",
    "                        timeout=TIMEOUT_MP)\n",
    "                    if not success:\n",
    "                        continue\n",
    "                    for i_px, posx in enumerate(STEPS_X):\n",
    "                        pos_sweep = np.multiply(posx, DIRX)\n",
    "                        pos = pos_rest + pos_sweep\n",
    "                        T_be = SE3(R_be, pos)\n",
    "                        if i_px > 0: # already done for 0\n",
    "                            if VISUALIZE:\n",
    "                                gscene.add_highlight_axis(\"hl\", \"tbe0\", link_name=ROBOT_BASE, \n",
    "                                                          center=T_be[:3,3], orientation_mat=T_be[:3,:3])\n",
    "                            traj, success = mplan.planner.plan_py(\n",
    "                                ROBOT_NAME, TIP_LINK, np.concatenate(T2xyzquat(T_be)), ROBOT_BASE, HOME_POSE, \n",
    "                                timeout=TIMEOUT_MP)\n",
    "                        if not success:\n",
    "                            continue\n",
    "                        Q0 = traj[-1]\n",
    "                        if VISUALIZE:\n",
    "                            gscene.show_pose(Q0)\n",
    "\n",
    "                        pos_tar = np.multiply(RANGEX[0], DIRX)\n",
    "                        dP_tar = pos_tar - pos_sweep\n",
    "                        if VISUALIZE:\n",
    "                            gscene.add_highlight_axis(\"hl\", \"tbe_n\", link_name=ROBOT_BASE, \n",
    "                                                      center=T_be[:3,3]+dP_tar, orientation_mat=T_be[:3,:3])\n",
    "                        if np.linalg.norm(dP_tar) <= 1e-6:\n",
    "                            Qdown = Q0\n",
    "                        else:\n",
    "                            Traj_down, success = get_sweep_traj(mplan, ee_point, dP_tar, Q0, DP=STEPX, ERROR_CUT=0.01, \n",
    "                                                                ref_link=ROBOT_BASE, VISUALIZE=VISUALIZE, VERBOSE=VERBOSE)\n",
    "                            if len(Traj_down)==0:\n",
    "                                continue\n",
    "                            Qdown = Traj_down[-1]\n",
    "\n",
    "                        pos_tar = np.multiply(RANGEX[1], DIRX)\n",
    "                        dP_tar = pos_tar - pos_sweep\n",
    "                        if VISUALIZE:\n",
    "                            gscene.add_highlight_axis(\"hl\", \"tbe_p\", link_name=ROBOT_BASE, \n",
    "                                                      center=T_be[:3,3]+dP_tar, orientation_mat=T_be[:3,:3])\n",
    "                        if np.linalg.norm(dP_tar) <= 1e-6:\n",
    "                            Traj_up = Q0\n",
    "                        else:\n",
    "                            Traj_up, success = get_sweep_traj(mplan, ee_point, dP_tar, Q0, DP=STEPX, ERROR_CUT=0.01, \n",
    "                                                              ref_link=ROBOT_BASE, VISUALIZE=VISUALIZE, VERBOSE=VERBOSE)\n",
    "                            if len(Traj_up)==0:\n",
    "                                continue\n",
    "                            Qup = Traj_up[-1]\n",
    "\n",
    "                        p0 = ee_point.get_tf(list2dict(Q0, gscene.joint_names), \n",
    "                                             from_link=ROBOT_BASE)[SWEEP_AX,3]\n",
    "                        pdown = ee_point.get_tf(list2dict(Qdown, gscene.joint_names), \n",
    "                                             from_link=ROBOT_BASE)[SWEEP_AX,3]\n",
    "                        pup = ee_point.get_tf(list2dict(Qup, gscene.joint_names), \n",
    "                                             from_link=ROBOT_BASE)[SWEEP_AX,3]\n",
    "                        p2p = (pdown, pup)\n",
    "                        p2p0 = (pdown-p0, pup-p0)\n",
    "                        qpair = (Qdown, Q0, Qup)\n",
    "                        if np.multiply(*np.sign(p2p0))<0:\n",
    "                            p2p_list.append(p2p)\n",
    "                            qpair_list.append(qpair)\n",
    "\n",
    "                range_list_dict[key] = np.array(p2p_list)\n",
    "                config_list_dict[key] = np.array(qpair_list)\n",
    "                if VISUALIZE:\n",
    "                    gscene.clear_highlight()\n",
    "        elapsed = gtimer.toc(\"test\")/1000\n",
    "        print(gtimer)\n",
    "        print(\"=============================================\")\n",
    "        print(\"=============== {} / {} s===================\".format(int(elapsed), int(elapsed/count*LEN_ALL)))\n",
    "\n",
    "        print(\"=============================================\")\n",
    "\n",
    "    best_range_dict = {}\n",
    "    for k,v in range_list_dict.items():\n",
    "        if len(v)>0:\n",
    "            i_max = np.argmax(v[:,1]-v[:,0])\n",
    "            best_range_dict[k] = v[i_max]\n",
    "        else:\n",
    "            best_range_dict[k] = (0,0)\n",
    "    np.save(DATASET_PATH, {\"best_range_dict\": best_range_dict, \"range_list_dict\": range_list_dict, \"config_list_dict\": config_list_dict})"
   ]
  },
  {
   "cell_type": "code",
   "execution_count": null,
   "metadata": {},
   "outputs": [],
   "source": []
  },
  {
   "cell_type": "markdown",
   "metadata": {},
   "source": [
    "## plot ranges"
   ]
  },
  {
   "cell_type": "code",
   "execution_count": null,
   "metadata": {
    "scrolled": false
   },
   "outputs": [],
   "source": [
    "plt.figure(figsize=(15,15*LEN_1))\n",
    "for i_h, val_1 in enumerate(STEPS_1):\n",
    "    plt.subplot(LEN_1, 1, i_h+1)\n",
    "    plt.title(val_1)\n",
    "    for k,v in range_list_dict.items():\n",
    "        if round(np.dot(k, DIR1), 4)==round(val_1, 4):\n",
    "            kk = np.dot(k, DIR2)\n",
    "            for vv in v:\n",
    "                plt.plot([kk+0.02, kk+0.02], vv,  '-o', linewidth=1)\n",
    "            plt.plot([kk, kk], best_range_dict[k], '-ks', linewidth=3)\n",
    "#     plt.axis([-1,1,0,1])\n",
    "    plt.grid()"
   ]
  },
  {
   "cell_type": "code",
   "execution_count": null,
   "metadata": {},
   "outputs": [],
   "source": []
  },
  {
   "cell_type": "code",
   "execution_count": null,
   "metadata": {},
   "outputs": [],
   "source": []
  },
  {
   "cell_type": "markdown",
   "metadata": {
    "scrolled": true
   },
   "source": [
    "## Read and save min/max csv"
   ]
  },
  {
   "cell_type": "code",
   "execution_count": null,
   "metadata": {},
   "outputs": [],
   "source": [
    "for tip_dir, SWEEP_AXIS in [(SweepDirections.front, \"X\"), (SweepDirections.up, \"Z\"), (SweepDirections.down, \"Z\")]:\n",
    "    filename = SweepDirections.get_file_name(ROBOT_TYPE, tip_dir.name+SWEEP_AXIS)\n",
    "    DATASET_PATH = os.path.join(DATASET_DIR, filename+\".npy\")\n",
    "    dataset_read = np.reshape(np.load(DATASET_PATH, allow_pickle=True), (1,))[0]\n",
    "    range_list_dict = dataset_read['range_list_dict']\n",
    "    best_range_dict = dataset_read['best_range_dict']\n",
    "    \n",
    "    SWEEP_AXIS = \"XYZ\".index(SWEEP_AXIS)\n",
    "    SWEEP_VEC = [0,0,0]\n",
    "    SWEEP_VEC[SWEEP_AXIS] = 1\n",
    "    R_be = SweepDirections.get_dcm_re(tip_dir)\n",
    "    LEVEL_VEC = np.abs(R_be[:3,0]).astype(np.int) # Assum level along tip-link X axis\n",
    "    STEP_VEC = np.abs(R_be[:3,1]).astype(np.int)  # Assum step along tip-link Y axis\n",
    "    assert np.all(np.abs(R_be[:3,2]).astype(int) == SWEEP_VEC), \"Sweep direction mismatch\"\n",
    "    LEVEL_AXIS = np.where(LEVEL_VEC)[0][0]\n",
    "    STEP_AXIS = np.where(STEP_VEC)[0][0]\n",
    "    min_points = []\n",
    "    max_points = []\n",
    "    for k,v in best_range_dict.items():\n",
    "        min_points.append(tuple(np.add(k, np.multiply(v[0], SWEEP_VEC))))\n",
    "        max_points.append(tuple(np.add(k, np.multiply(v[1], SWEEP_VEC))))\n",
    "    min_points = sorted(min_points, key=lambda x: (x[LEVEL_AXIS], x[STEP_AXIS], x[SWEEP_AXIS]))\n",
    "    max_points = sorted(max_points, key=lambda x: (x[LEVEL_AXIS], x[STEP_AXIS], x[SWEEP_AXIS]))\n",
    "    for min_p, max_p in zip(min_points, max_points):\n",
    "        assert min_p[LEVEL_AXIS] == max_p[LEVEL_AXIS], \"Level value mismatch\"\n",
    "        assert min_p[STEP_AXIS] == max_p[STEP_AXIS], \"Step value mismatch\"\n",
    "    np.savetxt(os.path.join(DATASET_DIR, filename+'-min.csv'), min_points, delimiter=\",\")\n",
    "    np.savetxt(os.path.join(DATASET_DIR, filename+'-max.csv'), max_points, delimiter=\",\")"
   ]
  },
  {
   "cell_type": "code",
   "execution_count": null,
   "metadata": {},
   "outputs": [],
   "source": [
    "np.add(k, np.multiply(v[1], SWEEP_VEC))"
   ]
  },
  {
   "cell_type": "code",
   "execution_count": null,
   "metadata": {},
   "outputs": [],
   "source": [
    "best_range_dict"
   ]
  },
  {
   "cell_type": "code",
   "execution_count": null,
   "metadata": {},
   "outputs": [],
   "source": [
    "gscene.clear_highlight()"
   ]
  },
  {
   "cell_type": "markdown",
   "metadata": {},
   "source": [
    "## Show saved ranges"
   ]
  },
  {
   "cell_type": "code",
   "execution_count": null,
   "metadata": {},
   "outputs": [],
   "source": [
    "tip_dir, SWEEP_AXIS = [(SweepDirections.front, \"X\"), (SweepDirections.up, \"Z\"), (SweepDirections.down, \"Z\")][2]\n",
    "filename = SweepDirections.get_file_name(ROBOT_TYPE, tip_dir.name+SWEEP_AXIS)\n",
    "DATASET_PATH = os.path.join(DATASET_DIR, filename+\".npy\")\n",
    "sweep_path = os.path.join(DATASET_DIR, filename)\n",
    "sweep_max = np.loadtxt(sweep_path + \"-max.csv\", delimiter=\",\")\n",
    "sweep_min = np.loadtxt(sweep_path + \"-min.csv\", delimiter=\",\")\n",
    "lines = [(p_min, p_max) for (p_min, p_max) in zip(sweep_min, sweep_max)]"
   ]
  },
  {
   "cell_type": "code",
   "execution_count": null,
   "metadata": {},
   "outputs": [],
   "source": [
    "from demo_utils.area_select import show_lines\n",
    "gscene.clear_highlight()\n",
    "show_lines(gscene, lines, base_link=ROBOT_BASE, sweep_axis=SWEEP_AXIS.lower())"
   ]
  },
  {
   "cell_type": "code",
   "execution_count": null,
   "metadata": {},
   "outputs": [],
   "source": [
    "lines_srt = sorted(lines, key=lambda x: np.linalg.norm(np.subtract(*x)))"
   ]
  },
  {
   "cell_type": "code",
   "execution_count": null,
   "metadata": {
    "scrolled": true
   },
   "outputs": [],
   "source": [
    "lines_srt[-1]"
   ]
  },
  {
   "cell_type": "code",
   "execution_count": null,
   "metadata": {},
   "outputs": [],
   "source": [
    "R_be = SweepDirections.get_dcm_re(tip_dir)\n",
    "T_be = SE3(R_be, pos0)"
   ]
  },
  {
   "cell_type": "code",
   "execution_count": null,
   "metadata": {},
   "outputs": [],
   "source": [
    "\n",
    "traj, success = mplan.planner.plan_py(\n",
    "    ROBOT_NAME, TIP_LINK, np.concatenate(T2xyzquat(T_be)), ROBOT_BASE, HOME_POSE, \n",
    "    timeout=TIMEOUT_MP)"
   ]
  },
  {
   "cell_type": "code",
   "execution_count": null,
   "metadata": {},
   "outputs": [],
   "source": []
  },
  {
   "cell_type": "code",
   "execution_count": null,
   "metadata": {},
   "outputs": [],
   "source": []
  },
  {
   "cell_type": "code",
   "execution_count": null,
   "metadata": {},
   "outputs": [],
   "source": [
    "# DATASET_PATH_BAK1 = os.path.join(DATASET_DIR+\"_bak\", ROBOT_TYPE.name+'-up.npy')\n",
    "# DATASET_PATH_BAK2 = os.path.join(DATASET_DIR+\"_bak2\", ROBOT_TYPE.name+'-up.npy')\n",
    "# dataset_read_bak1 = np.reshape(np.load(DATASET_PATH_BAK1, allow_pickle=True), (1,))[0]\n",
    "# dataset_read_bak2 = np.reshape(np.load(DATASET_PATH_BAK2, allow_pickle=True), (1,))[0]\n",
    "# for k, v in dataset_read_bak1.items():\n",
    "#     v.update(dataset_read_bak2[k])\n",
    "# np.save(DATASET_PATH, dataset_read_bak1)"
   ]
  },
  {
   "cell_type": "code",
   "execution_count": null,
   "metadata": {},
   "outputs": [],
   "source": []
  },
  {
   "cell_type": "code",
   "execution_count": null,
   "metadata": {},
   "outputs": [],
   "source": []
  },
  {
   "cell_type": "code",
   "execution_count": null,
   "metadata": {},
   "outputs": [],
   "source": []
  }
 ],
 "metadata": {
  "kernelspec": {
   "display_name": "Python 2",
   "language": "python",
   "name": "python2"
  },
  "language_info": {
   "codemirror_mode": {
    "name": "ipython",
    "version": 2
   },
   "file_extension": ".py",
   "mimetype": "text/x-python",
   "name": "python",
   "nbconvert_exporter": "python",
   "pygments_lexer": "ipython2",
   "version": "2.7.17"
  }
 },
 "nbformat": 4,
 "nbformat_minor": 2
}
