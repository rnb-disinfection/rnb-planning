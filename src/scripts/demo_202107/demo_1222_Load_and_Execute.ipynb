{
 "cells": [
  {
   "cell_type": "markdown",
   "metadata": {},
   "source": [
    "# Demo Script for Milestone 10.15"
   ]
  },
  {
   "cell_type": "markdown",
   "metadata": {},
   "source": [
    "## 0 Prepare task"
   ]
  },
  {
   "cell_type": "markdown",
   "metadata": {},
   "source": [
    "### 0.1 prepare planning scene"
   ]
  },
  {
   "cell_type": "markdown",
   "metadata": {},
   "source": [
    "#### Run shared detector on bash\n",
    "```bash\n",
    "python3 /home/kiro-ros/Projects/rnb-planning/src/scripts/demo_202107/demo_utils/shared_detector.py\n",
    "```\n",
    "\n",
    "#### Check and request ip setting from mobile udp client (robot-side)"
   ]
  },
  {
   "cell_type": "markdown",
   "metadata": {},
   "source": [
    "#### 0.1.1 Set parameters and create planning scene"
   ]
  },
  {
   "cell_type": "code",
   "execution_count": 1,
   "metadata": {},
   "outputs": [
    {
     "name": "stdout",
     "output_type": "stream",
     "text": [
      "Current PC IP: 192.168.0.10\n",
      "Mobile ROB IP: 192.168.0.102\n"
     ]
    }
   ],
   "source": [
    "import numpy as np\n",
    "\n",
    "CONNECT_INDY = False\n",
    "CONNECT_MOBILE = False\n",
    "\n",
    "CONNECT_TASK_PLANNER = False\n",
    "VISUALIZE = False\n",
    "VERBOSE = False\n",
    "PLANNING_MULTIPROC = True\n",
    "N_AGENTS = 10\n",
    "NODE_TRIAL_MAX = N_AGENTS * 2\n",
    "MAX_SOL_NUM = 5\n",
    "BASE_COST_CUT = 110\n",
    "\n",
    "TIMEOUT_MOTION = 0.5\n",
    "TIMEOUT_FULL = 5\n",
    "\n",
    "ROS_MASTER_ON_MOBILE = False\n",
    "# Tool dimensions\n",
    "TOOL_DIM = [0.24, 0.35]\n",
    "TOOL_CENTER_OFF = [0, -0.035, 0]\n",
    "TOOL_THICKNESS = 0.11 + 0.05\n",
    "\n",
    "INDY_BASE_OFFSET = (0.172,0,0.439)\n",
    "INDY_BASE_RPY = (0,0,0)\n",
    "TOOL_NAME = \"brush_face\"\n",
    "WALL_THICKNESS = 0.01\n",
    "CLEARANCE = 0.001\n",
    "WS_HEIGHT = 0.16\n",
    "\n",
    "COL_COLOR = (1,1,1,0.2)\n",
    "\n",
    "IP_CUR = \"192.168.0.10\"# get_ip_address()\n",
    "MOBILE_IP = \"192.168.0.102\"\n",
    "INDY_IP = \"192.168.0.3\"\n",
    "\n",
    "print(\"Current PC IP: {}\".format(IP_CUR))\n",
    "print(\"Mobile ROB IP: {}\".format(MOBILE_IP))"
   ]
  },
  {
   "cell_type": "code",
   "execution_count": 2,
   "metadata": {},
   "outputs": [
    {
     "name": "stdout",
     "output_type": "stream",
     "text": [
      "connection command:\n",
      "kmb0: True\n",
      "indy1: False\n",
      "==== Kiro Tool connected to /dev/ttyUSB0 (115200) ====\n",
      "[KTOOL] initialize\n",
      "[KTOOL] enable\n",
      "[KTOOL] op_init\n",
      "[KTOOL] led_off\n",
      "Unable to register with master node [http://localhost:11311]: master may not be running yet. Will keep trying.\n",
      "Please create a subscriber to the marker\n",
      "publication OK\n",
      "published: [0, 0, 0, 0, 0, 0, 0, 0, 0, 0, 0, 0, 0]\n",
      "Please create a subscriber to the marker\n",
      "Loaded: indy7kiro-frontX-PRQ.pkl\n",
      "Loaded: indy7kiro-upZ-PRQ.pkl\n",
      "Loaded: indy7kiro-downZ-PRQ.pkl\n"
     ]
    }
   ],
   "source": [
    "import os\n",
    "import sys\n",
    "sys.path.append(os.path.join(os.path.join(\n",
    "    os.environ[\"RNB_PLANNING_DIR\"], 'src')))\n",
    "sys.path.append(os.path.join(\n",
    "    os.environ[\"RNB_PLANNING_DIR\"], 'src/scripts/demo_202107'))\n",
    "\n",
    "from pkg.global_config import RNB_PLANNING_DIR\n",
    "from pkg.utils.utils import *    \n",
    "from pkg.utils.rotation_utils import *\n",
    "from pkg.controller.combined_robot import *\n",
    "from demo_utils.area_select import *\n",
    "from pkg.detector.aruco.marker_config import get_aruco_map\n",
    "aruco_map = get_aruco_map()\n",
    "\n",
    "from pkg.detector.multiICP.multiICP import *\n",
    "from pkg.detector.detector_interface import DetectionLevel\n",
    "from pkg.detector.multiICP.config import *\n",
    "\n",
    "from pkg.geometry.builder.scene_builder import SceneBuilder\n",
    "from demo_utils.environment import *\n",
    "from demo_utils.area_select import DATASET_DIR, SweepDirections\n",
    "from demo_utils.demo_config import *\n",
    "from demo_utils.detection_util import *\n",
    "\n",
    "from pkg.utils.shared_function import *\n",
    "clear_channels_on(\"kiromobilemap\")\n",
    "\n",
    "if not CONNECT_INDY:\n",
    "    indy_7dof_client.kiro_tool.OFFLINE_MODE = True\n",
    "kiro_udp_client.KIRO_UDP_OFFLINE_DEBUG = not CONNECT_MOBILE\n",
    "\n",
    "mobile_config = RobotConfig(0, RobotType.kmb, ((0,0,0), (0,0,0)),\n",
    "                \"{}/{}\".format(MOBILE_IP, IP_CUR))\n",
    "robot_config = RobotConfig(1, RobotType.indy7kiro, \n",
    "                           (INDY_BASE_OFFSET, INDY_BASE_RPY),\n",
    "                INDY_IP, root_on=\"kmb0_platform\") # , specs={\"no_sdk\":True}\n",
    "ROBOT_TYPE = robot_config.type\n",
    "MOBILE_NAME = mobile_config.get_indexed_name()\n",
    "ROBOT_NAME = robot_config.get_indexed_name()\n",
    "crob = CombinedRobot(robots_on_scene=[mobile_config, robot_config]\n",
    "              , connection_list=[True, CONNECT_INDY])\n",
    "\n",
    "s_builder = SceneBuilder(None)\n",
    "SceneBuilder.autostart_roscore = not ROS_MASTER_ON_MOBILE\n",
    "gscene = s_builder.create_gscene(crob)\n",
    "\n",
    "gtems = s_builder.add_robot_geometries(\n",
    "    color=COL_COLOR, display=True, collision=True)\n",
    "gscene.set_workspace_boundary(\n",
    "    -1, 2.5, -0.5, 3, -CLEARANCE, 1.6, thickness=WALL_THICKNESS)\n",
    "\n",
    "\n",
    "from pkg.planning.scene import PlanningScene\n",
    "pscene = PlanningScene(gscene, combined_robot=crob)\n",
    "\n",
    "ROBOT_BASE = pscene.robot_chain_dict[ROBOT_NAME]['link_names'][0]\n",
    "TIP_LINK = pscene.robot_chain_dict[ROBOT_NAME][\"tip_link\"]\n",
    "CAM_LINK = TIP_LINK.replace(\"tcp\", \"link6\")\n",
    "MOBILE_BASE = pscene.robot_chain_dict[MOBILE_NAME][\"tip_link\"]\n",
    "HOLD_LINK = MOBILE_BASE\n",
    "\n",
    "viewpoint = add_cam(gscene, tool_link=CAM_LINK, center=(-0.0785, 0, 0.073))\n",
    "\n",
    "add_brush(gscene, face_name=TOOL_NAME, tool_link=TIP_LINK,\n",
    "          thickness=TOOL_THICKNESS, tool_dim=TOOL_DIM,\n",
    "          col_color=COL_COLOR, center_off=TOOL_CENTER_OFF)\n",
    "\n",
    "HOME_POSE = crob.home_pose\n",
    "HOME_DICT = list2dict(HOME_POSE, gscene.joint_names)\n",
    "\n",
    "from pkg.planning.pipeline import PlanningPipeline\n",
    "ppline = PlanningPipeline(pscene)\n",
    "\n",
    "# Set planner\n",
    "from pkg.planning.motion.moveit.moveit_planner import MoveitPlanner\n",
    "from pkg.planning.filtering.grasp_filter import GraspChecker\n",
    "mplan = MoveitPlanner(pscene, enable_dual=False, \n",
    "                      incremental_constraint_motion=True)\n",
    "mplan.motion_filters = [GraspChecker(pscene)]\n",
    "mplan.update_gscene()\n",
    "gcheck = GraspChecker(pscene)\n",
    "mplan.motion_filters = [gcheck]\n",
    "\n",
    "mplan.reset_PRQdict(enable_PRQ=0.5, radii=5e-2)\n",
    "for tip_dir, SWEEP_AXIS in [\n",
    "    (SweepDirections.front, \"X\"), (SweepDirections.up, \"Z\"), (SweepDirections.down, \"Z\")]:\n",
    "    filename = SweepDirections.get_file_name(ROBOT_TYPE, tip_dir.name+SWEEP_AXIS)+\"-PRQ.pkl\"\n",
    "    PRQ_PATH = os.path.join(SWEEP_DATA_DIR, filename)\n",
    "    try:\n",
    "        Pos_Rotvec_Qlist_dict = load_pickle(PRQ_PATH)\n",
    "        mplan.register_PRQ(ROBOT_NAME, Pos_Rotvec_Qlist_dict, decimal=2)\n",
    "        print(\"Loaded: {}\".format(filename))\n",
    "    except:\n",
    "        print(\"File not exist: {}\".format(filename))\n",
    "        continue\n",
    "\n",
    "from pkg.planning.task.rrt import TaskRRT\n",
    "tplan = TaskRRT(pscene, node_trial_max=NODE_TRIAL_MAX)\n",
    "tplan.prepare()\n",
    "ppline.set_motion_planner(mplan)\n",
    "ppline.set_task_planner(tplan)\n",
    "\n",
    "# Register binders\n",
    "from pkg.planning.constraint.constraint_actor import VacuumTool, \\\n",
    "    Gripper2Tool, PlacePlane, SweepFramer\n",
    "\n",
    "brush_face = pscene.create_binder(\n",
    "    bname=TOOL_NAME, gname=TOOL_NAME, _type=SweepFramer, \n",
    "    point=(0,0, -gscene.NAME_DICT['brush_face'].dims[2]/2-CLEARANCE), \n",
    "    rpy=(0,0,0))\n",
    "\n",
    "gscene.create_safe(\n",
    "    gtype=GEOTYPE.BOX, name=\"floor_box\", link_name=\"base_link\",\n",
    "    dims=(15,15,0.4), center=(0,0,0), rpy=(0,0,0), \n",
    "    color=(1, 1, 1, 0.1), display=True, collision=False, fixed=True)\n",
    "\n",
    "gscene.add_highlight_axis(\"hl\", \"base_coord\", T=np.identity(4), dims=(0.5,0.1,0.1))\n",
    "\n",
    "kmb = crob.robot_dict[\"kmb0\"]\n",
    "indy = crob.robot_dict[\"indy1\"]\n",
    "mobile_box = gscene.NAME_DICT['kmb0_platform_Box_2']\n",
    "crob.simulator.set_gscene(gscene)\n",
    "# indy.ktool.led_on()\n",
    "# indy.ktool.led_off()\n",
    "# time.sleep(2)\n",
    "# indy.ktool.send_degree(-45)\n",
    "\n",
    "if CONNECT_MOBILE:\n",
    "    assert np.sum(np.abs(get_xyzw_cur()))>1e-4, \"UDP Server not connected\"\n",
    "    \n",
    "if CONNECT_TASK_PLANNER:\n",
    "    from demo_proto.DisinfectionOperationServicer import serve_on_thread\n",
    "    servicer = serve_on_thread()"
   ]
  },
  {
   "cell_type": "markdown",
   "metadata": {},
   "source": [
    "#### 0.1.2 Load environment map"
   ]
  },
  {
   "cell_type": "code",
   "execution_count": 3,
   "metadata": {},
   "outputs": [],
   "source": [
    "from demo_utils.ros_map_utils import KiroMobileMap\n",
    "kmm = KiroMobileMap(MOBILE_IP, IP_CUR, CONNECT_MOBILE)\n",
    "            \n",
    "VALID_BOX_SCALE = 0.8\n",
    "VALID_SCORE_CUT = 50\n",
    "kmb.coster = (lambda Q: \n",
    "                  np.max(\n",
    "                      kmm.get_box_costs(mobile_box, Q, kmm.T_bi, kmm.cost_im, kmm.resolution, \n",
    "                                        scale=VALID_BOX_SCALE)))\n",
    "kmb.cost_cut = VALID_SCORE_CUT\n",
    "kmb.gscene = gscene\n",
    "\n",
    "kmm.init_node(timeout=10)"
   ]
  },
  {
   "cell_type": "code",
   "execution_count": 4,
   "metadata": {
    "scrolled": true
   },
   "outputs": [
    {
     "name": "stdout",
     "output_type": "stream",
     "text": [
      "\u001b[93m[WARN] Vertices for mesh should be have center point (0,0,0). Auto adjusting.\u001b[0m\n",
      "\u001b[94m[INFO] Depart via: [ 0.28 -0.05  0.  ] (101.0) <- [0. 0. 0.] (103.196899414)\u001b[0m\n",
      "End up at=[ 0.283 -0.052  0.   ] (0.0 / 0.0)\n",
      "End up at=[ 1.18   1.546 -3.131] (0.0 / 0.0)\n"
     ]
    }
   ],
   "source": [
    "pole_pt_list, pole_res = kmm.update_map(gscene, crob, MOBILE_BASE, timeout=100)\n",
    "if not CONNECT_MOBILE:\n",
    "    crob.joint_move_make_sure(kmm.Q_map)\n",
    "    \n",
    "if CONNECT_INDY:\n",
    "    indy.move_joint_s_curve(crob.home_pose[6:], N_div=500)\n",
    "else:\n",
    "    indy.joint_move_make_sure(crob.home_pose[6:])\n",
    "\n",
    "Qcur = crob.get_real_robot_pose()"
   ]
  },
  {
   "cell_type": "code",
   "execution_count": 5,
   "metadata": {},
   "outputs": [],
   "source": [
    "# pole_list = kmm.add_pixel_poles(\"obs_pt\", gscene, pole_pt_list, pole_res, height=WS_HEIGHT)\n",
    "# gcheck.ignore_always = pole_list\n",
    "\n",
    "# gscene.update_markers_all() "
   ]
  },
  {
   "cell_type": "markdown",
   "metadata": {},
   "source": [
    "## 1. Prepare scene"
   ]
  },
  {
   "cell_type": "code",
   "execution_count": 6,
   "metadata": {},
   "outputs": [],
   "source": [
    "HEIGHT_OFFSET = 0.02\n",
    "TABLE_DIMS = (0.60,1.2, 0.74+HEIGHT_OFFSET)\n",
    "TABLE_LOC = (0,1.85,TABLE_DIMS[2]/2)\n",
    "TABLE_ANG = 0\n",
    "TABLE_MARGIN_I = 0.03\n",
    "TABLE_MARGIN_O = 0.03\n",
    "CLEARANCE = 0.002\n",
    "TABLE_COLOR = (0.8,0.8,0.8,1)\n",
    "SURF_COLOR = (0,1,0,0.4)\n",
    "COL_COLOR = (1,1,1,0.2)\n",
    "\n",
    "gscene.create_safe(GEOTYPE.BOX, \"table\", link_name=\"base_link\",\n",
    "                   dims=TABLE_DIMS, center=TABLE_LOC, rpy=Rot2rpy(Rot_axis(3, TABLE_ANG)),\n",
    "                   color=TABLE_COLOR, collision=False\n",
    "                  )\n",
    "gscene.create_safe(GEOTYPE.BOX, \"table_col\", link_name=\"base_link\",\n",
    "                   dims=np.add(TABLE_DIMS, \n",
    "                               (TABLE_MARGIN_O*2, TABLE_MARGIN_O*2, 0)), \n",
    "                   center=(0,0,0), rpy=(0,0,0), color=COL_COLOR, \n",
    "                   collision=True, parent=\"table\"\n",
    "                  )\n",
    "table_surf = gscene.create_safe(GEOTYPE.BOX, \"table_surf\", link_name=\"base_link\",\n",
    "                   dims=np.subtract(TABLE_DIMS[:2]+(CLEARANCE,), \n",
    "                                    (TABLE_MARGIN_I*2, TABLE_MARGIN_I*2, 0)), \n",
    "                   center=(0,0,(TABLE_DIMS[2]+CLEARANCE)/2), \n",
    "                   rpy=(0,0,0), color=SURF_COLOR, parent=\"table\",\n",
    "                   collision=False\n",
    "                  )"
   ]
  },
  {
   "cell_type": "code",
   "execution_count": 7,
   "metadata": {
    "scrolled": true
   },
   "outputs": [],
   "source": [
    "SOFA_DIMS = (0.49,1.0, 0.43)\n",
    "SOFA_LOC = (0.15,0.7,SOFA_DIMS[2]/2+HEIGHT_OFFSET)\n",
    "SOFA_SIDE_THIC = 0.2\n",
    "SOFA_SIDE_HEIT = 0.54\n",
    "SOFA_ANG = 0\n",
    "\n",
    "SOFA_MARGIN_O = 0.03\n",
    "SOFA_MARGIN_I = 0.05\n",
    "SOFA_UV_DIST = 0.15\n",
    "\n",
    "SOFA_COLOR = (0.4,0.4,0.4,1)\n",
    "\n",
    "sofa = gscene.create_safe(GEOTYPE.BOX, \"sofa\", link_name=\"base_link\",\n",
    "                   dims=SOFA_DIMS, center=SOFA_LOC, \n",
    "                   rpy=Rot2rpy(Rot_axis(3, SOFA_ANG)),\n",
    "                   color=SOFA_COLOR, collision=False\n",
    "                  )\n",
    "gscene.create_safe(GEOTYPE.BOX, \"sofa_col\", link_name=\"base_link\",\n",
    "                   dims=np.add(SOFA_DIMS, SOFA_MARGIN_O*2), \n",
    "                   center=(0,0,0), rpy=(0,0,0),\n",
    "                   color=COL_COLOR, collision=True, parent=\"sofa\"\n",
    "                  )\n",
    "# sofa_left = gscene.create_safe(GEOTYPE.BOX, \"sofa_left\", link_name=\"base_link\",\n",
    "#                    dims=(SOFA_DIMS[0], SOFA_SIDE_THIC, SOFA_DIMS[2]+SOFA_SIDE_HEIT), \n",
    "#                    center=(0,(SOFA_DIMS[1]+SOFA_SIDE_THIC)/2, SOFA_SIDE_HEIT/2), \n",
    "#                    rpy=(0,0,0), color=SOFA_COLOR, collision=False, parent=\"sofa\"\n",
    "#                   )\n",
    "# gscene.create_safe(GEOTYPE.BOX, \"sofa_left_col\", link_name=\"base_link\",\n",
    "#                    dims=np.add(sofa_left.dims, SOFA_MARGIN_O*2), \n",
    "#                    center=(0,0,0), rpy=(0,0,0),\n",
    "#                    color=COL_COLOR, collision=True, parent=\"sofa_left\"\n",
    "#                   )\n",
    "# sofa_right = gscene.create_safe(GEOTYPE.BOX, \"sofa_right\", link_name=\"base_link\",\n",
    "#                    dims=(SOFA_DIMS[0], SOFA_SIDE_THIC, SOFA_DIMS[2]+SOFA_SIDE_HEIT), \n",
    "#                    center=(0,-(SOFA_DIMS[1]+SOFA_SIDE_THIC)/2, SOFA_SIDE_HEIT/2), \n",
    "#                    rpy=(0,0,0), color=SOFA_COLOR, collision=False, parent=\"sofa\"\n",
    "#                   )\n",
    "# gscene.create_safe(GEOTYPE.BOX, \"sofa_right_col\", link_name=\"base_link\",\n",
    "#                    dims=np.add(sofa_right.dims, SOFA_MARGIN_O*2), \n",
    "#                    center=(0,0,0), rpy=(0,0,0),\n",
    "#                    color=COL_COLOR, collision=True, parent=\"sofa_right\"\n",
    "#                   )\n",
    "sofa_back = gscene.create_safe(GEOTYPE.BOX, \"sofa_back\", link_name=\"base_link\",\n",
    "#                    dims=(SOFA_SIDE_THIC, SOFA_DIMS[1]+SOFA_SIDE_THIC*2, SOFA_DIMS[2]+SOFA_SIDE_HEIT), \n",
    "                   dims=(SOFA_SIDE_THIC, SOFA_DIMS[1], SOFA_DIMS[2]+SOFA_SIDE_HEIT), \n",
    "                   center=(-(SOFA_DIMS[0]+SOFA_SIDE_THIC)/2, 0, SOFA_SIDE_HEIT/2), \n",
    "                   rpy=(0,0,0), color=SOFA_COLOR, collision=False, parent=\"sofa\"\n",
    "                  )\n",
    "gscene.create_safe(GEOTYPE.BOX, \"sofa_back_col\", link_name=\"base_link\",\n",
    "                   dims=np.add(sofa_back.dims, SOFA_MARGIN_O*2), \n",
    "                   center=(0,0,0), rpy=(0,0,0),\n",
    "                   color=COL_COLOR, collision=True, parent=\"sofa_back\"\n",
    "                  )\n",
    "\n",
    "sofa_surf = gscene.create_safe(GEOTYPE.BOX, \"sofa_surf\", link_name=\"base_link\",\n",
    "                               dims=tuple(np.subtract(SOFA_DIMS[:2], SOFA_MARGIN_I*2))+(CLEARANCE,), \n",
    "                               center=(0,0,SOFA_DIMS[2]/2+SOFA_UV_DIST), collision=False, \n",
    "                               rpy=(0,0,0), color=SURF_COLOR, parent=\"sofa\"\n",
    "                              )\n",
    "\n",
    "sofa_back_surf = gscene.create_safe(GEOTYPE.BOX, \"sofa_back_surf\", link_name=\"base_link\",\n",
    "                               dims=sofa_back.dims[:2]+(CLEARANCE,), collision=False, \n",
    "                               center=(SOFA_MARGIN_I*2.5,0,sofa_back.dims[2]/2+SOFA_MARGIN_O+CLEARANCE), \n",
    "                               rpy=(0,0,0), color=SURF_COLOR, parent=\"sofa_back\"\n",
    "                              )\n",
    "\n",
    "# sofa_left_surf = gscene.create_safe(GEOTYPE.BOX, \"sofa_left_surf\", link_name=\"base_link\",\n",
    "#                                dims=sofa_left.dims[:2]+(CLEARANCE,), collision=False, \n",
    "#                                center=(0,0,sofa_left.dims[2]/2+SOFA_UV_DIST), \n",
    "#                                rpy=(0,0,0), color=SURF_COLOR, parent=\"sofa_left\"\n",
    "#                               )\n",
    "\n",
    "# sofa_right_surf = gscene.create_safe(GEOTYPE.BOX, \"sofa_right_surf\", link_name=\"base_link\",\n",
    "#                                dims=sofa_right.dims[:2]+(CLEARANCE,), collision=False, \n",
    "#                                center=(0,0,sofa_right.dims[2]/2+SOFA_UV_DIST), \n",
    "#                                rpy=(0,0,0), color=SURF_COLOR, parent=\"sofa_right\"\n",
    "#                               )\n",
    "\n",
    "sofa_front = gscene.create_safe(GEOTYPE.BOX, \"sofa_front\", link_name=\"base_link\",\n",
    "                               dims=(sofa.dims[2], sofa.dims[1])+(CLEARANCE,), \n",
    "                               center=(sofa.dims[0]/2+SOFA_UV_DIST,0,SOFA_MARGIN_I), collision=False, \n",
    "                               rpy=(0,np.pi/2,0), color=SURF_COLOR, parent=\"sofa\"\n",
    "                              )\n",
    "\n",
    "# sofa_left_front = gscene.create_safe(GEOTYPE.BOX, \"sofa_left_front\", link_name=\"base_link\",\n",
    "#                                dims=(sofa_left.dims[2], sofa_left.dims[1])+(CLEARANCE,), \n",
    "#                                center=(sofa_left.dims[0]/2+SOFA_UV_DIST,0,+SOFA_MARGIN_I), collision=False, \n",
    "#                                rpy=(0,np.pi/2,0), color=SURF_COLOR, parent=\"sofa_left\"\n",
    "#                               )\n",
    "\n",
    "# sofa_right_front = gscene.create_safe(GEOTYPE.BOX, \"sofa_right_front\", link_name=\"base_link\",\n",
    "#                                dims=(sofa_right.dims[2], sofa_right.dims[1])+(CLEARANCE,), \n",
    "#                                center=(sofa_right.dims[0]/2+SOFA_UV_DIST,0,+SOFA_MARGIN_I), collision=False, \n",
    "#                                rpy=(0,np.pi/2,0), color=SURF_COLOR, parent=\"sofa_right\"\n",
    "#                               )\n",
    "\n",
    "sofa_back_front = gscene.create_safe(GEOTYPE.BOX, \"sofa_back_front\", link_name=\"base_link\",\n",
    "#                                dims=(sofa_back.dims[2]-SOFA_DIMS[2]-SOFA_MARGIN_I, sofa_back.dims[1]-SOFA_SIDE_THIC*2-SOFA_MARGIN_I*3)+(CLEARANCE,), \n",
    "                               dims=(sofa_back.dims[2]-SOFA_DIMS[2]-SOFA_MARGIN_I, sofa_back.dims[1]-SOFA_MARGIN_I*3)+(CLEARANCE,), \n",
    "                               center=(sofa_back.dims[0]/2+SOFA_UV_DIST,0,SOFA_DIMS[2]/2+SOFA_MARGIN_I*1.5), \n",
    "                               rpy=(0,np.pi/2,0), color=SURF_COLOR, collision=False, parent=\"sofa_back\"\n",
    "                              )"
   ]
  },
  {
   "cell_type": "code",
   "execution_count": 8,
   "metadata": {},
   "outputs": [],
   "source": [
    "pole_pt_list = kmm.remove_poles_by_box(gscene, gscene.NAME_DICT[\"room_ws\"], \n",
    "                    pole_pt_list, Qcur, inside=False, margin=0.1)\n",
    "pole_pt_list = kmm.remove_poles_by_box(gscene, gscene.NAME_DICT[\"table_col\"], \n",
    "                    pole_pt_list, Qcur, margin=0.1)\n",
    "pole_pt_list = kmm.remove_poles_by_box(gscene, gscene.NAME_DICT[\"sofa_col\"], \n",
    "                    pole_pt_list, Qcur, margin=0.1)\n",
    "# pole_pt_list = kmm.remove_poles_by_box(gscene, gscene.NAME_DICT[\"sofa_back_col\"], \n",
    "#                     pole_pt_list, Qcur, margin=0.1)\n",
    "# pole_pt_list = kmm.remove_poles_by_box(gscene, gscene.NAME_DICT[\"sofa_right_col\"], \n",
    "#                     pole_pt_list, Qcur, margin=0.1)\n",
    "\n",
    "pole_list = kmm.add_pixel_poles(\"obs_pt\", gscene, pole_pt_list, pole_res, height=WS_HEIGHT)\n",
    "gcheck.ignore_always = pole_list\n",
    "\n",
    "gscene.update_markers_all() "
   ]
  },
  {
   "cell_type": "code",
   "execution_count": null,
   "metadata": {},
   "outputs": [],
   "source": []
  },
  {
   "cell_type": "markdown",
   "metadata": {},
   "source": [
    "### Set UI"
   ]
  },
  {
   "cell_type": "code",
   "execution_count": 9,
   "metadata": {},
   "outputs": [
    {
     "name": "stdout",
     "output_type": "stream",
     "text": [
      "Dash is running on http://0.0.0.0:8050/\n",
      "\n",
      " * Serving Flask app \"pkg.ui.dash_launcher\" (lazy loading)\n",
      " * Environment: production\n"
     ]
    }
   ],
   "source": [
    "from pkg.ui.ui_broker import *\n",
    "\n",
    "# start UI\n",
    "ui_broker = UIBroker.instance()\n",
    "ui_broker.initialize(ppline, s_builder)\n",
    "ui_broker.start_server()\n",
    "\n",
    "ui_broker.set_tables()"
   ]
  },
  {
   "cell_type": "code",
   "execution_count": null,
   "metadata": {},
   "outputs": [],
   "source": []
  },
  {
   "cell_type": "markdown",
   "metadata": {},
   "source": [
    "\n",
    "## 2. Prepare cleaning"
   ]
  },
  {
   "cell_type": "code",
   "execution_count": 10,
   "metadata": {},
   "outputs": [],
   "source": [
    "from pkg.planning.constraint.constraint_common import *\n",
    "from pkg.planning.constraint.constraint_actor import *\n",
    "from pkg.planning.constraint.constraint_subject import *\n",
    "from pkg.utils.code_scraps import get_look_motion"
   ]
  },
  {
   "cell_type": "code",
   "execution_count": 11,
   "metadata": {
    "scrolled": true
   },
   "outputs": [
    {
     "name": "stdout",
     "output_type": "stream",
     "text": [
      "   WARNING: This is a development server. Do not use it in a production deployment.\n",
      "   Use a production WSGI server instead.\n",
      " * Debug mode: off\n",
      "End up at=[ 1.18   1.546 -3.131] (0.0 / 0.0)\n"
     ]
    }
   ],
   "source": [
    "# mplan.reset_log(flag_log=True)\n",
    "Qcur = crob.get_real_robot_pose()\n",
    "Qcur[-1] = np.deg2rad(-45)\n",
    "Qcur[6:] = crob.home_pose[6:]\n",
    "crob.joint_move_make_sure(Qcur)\n",
    "Qcur = crob.get_real_robot_pose()\n",
    "if CONNECT_INDY:\n",
    "    indy.ktool.led_off()"
   ]
  },
  {
   "cell_type": "code",
   "execution_count": 12,
   "metadata": {},
   "outputs": [
    {
     "name": "stdout",
     "output_type": "stream",
     "text": [
      "End up at=[ 1.18   1.546 -3.131] (0.0 / 0.0)\n"
     ]
    }
   ],
   "source": [
    "# mplan.reset_log(flag_log=True)\n",
    "Qcur = crob.get_real_robot_pose()\n",
    "Qcur[-1] = np.deg2rad(-45)\n",
    "if not CONNECT_INDY:\n",
    "    Qcur[6:] = crob.home_pose[6:]\n",
    "crob.joint_move_make_sure(Qcur)\n",
    "HOME_POSE_SWEEP = np.copy(Qcur)\n",
    "# HOME_POSE_SWEEP[6:] = 0\n",
    "crob.home_pose = HOME_POSE_SWEEP\n",
    "crob.home_dict = list2dict(crob.home_pose, \n",
    "                           gscene.joint_names)\n",
    "floor_ws = gscene.NAME_DICT[\"floor_ws\"]    \n",
    "\n",
    "VEL_LIMS = 0.4\n",
    "ACC_LIMS = 0.4\n",
    "SWP_VEL_LIMS = 0.2\n",
    "SWP_ACC_LIMS = 0.2\n",
    "RADI_DEG = 1\n",
    "\n",
    "if CONNECT_INDY:\n",
    "    indy.QVEL_LEVEL = 3\n",
    "#     indy.collision_policy = indy_trajectory_client_nosdk.POLICY_NO_COLLISION_DETECTION\n",
    "    indy.reset()\n",
    "\n",
    "gtimer = GlobalTimer()\n",
    "    \n",
    "mode_switcher=ModeSwitcherLED(pscene, robot_name=ROBOT_NAME, brush_face=brush_face.geometry)\n"
   ]
  },
  {
   "cell_type": "code",
   "execution_count": null,
   "metadata": {},
   "outputs": [],
   "source": []
  },
  {
   "cell_type": "markdown",
   "metadata": {},
   "source": [
    "## Load Schedules"
   ]
  },
  {
   "cell_type": "code",
   "execution_count": 13,
   "metadata": {},
   "outputs": [
    {
     "name": "stdout",
     "output_type": "stream",
     "text": [
      "[INFO] data_folder is not specified - select most recent data\n",
      "schedule loaded from /home/rnb/Projects/rnb-planning/data/demo1222/20211217-164357\n"
     ]
    }
   ],
   "source": [
    "snode_schedule_list_table_all, snode_schedule_list_sofa_all = load_schedules()"
   ]
  },
  {
   "cell_type": "code",
   "execution_count": null,
   "metadata": {},
   "outputs": [],
   "source": []
  },
  {
   "cell_type": "markdown",
   "metadata": {},
   "source": [
    "## Run on command"
   ]
  },
  {
   "cell_type": "markdown",
   "metadata": {},
   "source": [
    "### 1.0 Wait task start queue"
   ]
  },
  {
   "cell_type": "code",
   "execution_count": 14,
   "metadata": {},
   "outputs": [
    {
     "name": "stdout",
     "output_type": "stream",
     "text": [
      "running - table (0) at (0.0, 0.0)\n",
      "Send to mobile: [ 0.996  1.547  1.     0.012]\n",
      "             -> [ 1.027  1.552  1.     0.   ]\n",
      "Distance=0.0397231640309 ([ 0.031  0.005  0.025])\n",
      "\u001b[93m[WARN] TOO SMALL VARIANCE, REDUCE TIMEOUT to 4.97\u001b[0m\n",
      "goal reach: 1 -> 0 (1639728433.16)\n",
      "goal reach: 0 -> 1 (1639728435.36)\n",
      "goal reach signal edge up\n",
      "End up at=[ 1.042  1.549  3.121] (0.026 / 0.026)\n",
      "Connect: Server IP (192.168.0.3)\n",
      "Connect: Server IP (192.168.0.3)\n",
      "LED ON\n",
      "[KTOOL] led_on\n",
      "[KTOOL] recv [162, 5, 0, 0]\n",
      "LED OFF\n",
      "[KTOOL] led_off\n",
      "LED ON\n",
      "[KTOOL] led_on\n",
      "[KTOOL] recv [162, 6, 0, 0]\n",
      "LED OFF\n",
      "[KTOOL] led_off\n"
     ]
    },
    {
     "ename": "KeyboardInterrupt",
     "evalue": "",
     "output_type": "error",
     "traceback": [
      "\u001b[0;31m---------------------------------------------------------------------------\u001b[0m",
      "\u001b[0;31mKeyboardInterrupt\u001b[0m                         Traceback (most recent call last)",
      "\u001b[0;32m<ipython-input-14-786e99267321>\u001b[0m in \u001b[0;36m<module>\u001b[0;34m()\u001b[0m\n\u001b[1;32m      6\u001b[0m         \u001b[0;32mif\u001b[0m \u001b[0mservicer\u001b[0m\u001b[0;34m.\u001b[0m\u001b[0mobject_info_running\u001b[0m\u001b[0;34m.\u001b[0m\u001b[0mobject_name\u001b[0m\u001b[0;34m==\u001b[0m\u001b[0;34m\"table\"\u001b[0m\u001b[0;34m:\u001b[0m\u001b[0;34m\u001b[0m\u001b[0m\n\u001b[1;32m      7\u001b[0m             \u001b[0;32mfor\u001b[0m \u001b[0msnode_schedule_list\u001b[0m \u001b[0;32min\u001b[0m \u001b[0msnode_schedule_list_table_all\u001b[0m\u001b[0;34m:\u001b[0m\u001b[0;34m\u001b[0m\u001b[0m\n\u001b[0;32m----> 8\u001b[0;31m                 \u001b[0mplay_cleaning_schedule\u001b[0m\u001b[0;34m(\u001b[0m\u001b[0mppline\u001b[0m\u001b[0;34m,\u001b[0m \u001b[0mtable_surf\u001b[0m\u001b[0;34m,\u001b[0m \u001b[0msnode_schedule_list\u001b[0m\u001b[0;34m,\u001b[0m \u001b[0mmode_switcher\u001b[0m\u001b[0;34m,\u001b[0m \u001b[0mTOOL_DIM\u001b[0m\u001b[0;34m)\u001b[0m\u001b[0;34m\u001b[0m\u001b[0m\n\u001b[0m\u001b[1;32m      9\u001b[0m \u001b[0;34m\u001b[0m\u001b[0m\n\u001b[1;32m     10\u001b[0m         \u001b[0;32melif\u001b[0m \u001b[0mservicer\u001b[0m\u001b[0;34m.\u001b[0m\u001b[0mobject_info_running\u001b[0m\u001b[0;34m.\u001b[0m\u001b[0mobject_name\u001b[0m\u001b[0;34m==\u001b[0m\u001b[0;34m\"sofa\"\u001b[0m\u001b[0;34m:\u001b[0m\u001b[0;34m\u001b[0m\u001b[0m\n",
      "\u001b[0;32m/home/kiro-ros/Projects/rnb-planning/src/scripts/demo_202107/demo_utils/area_select.pyc\u001b[0m in \u001b[0;36mplay_cleaning_schedule\u001b[0;34m(ppline, surface, snode_schedule_list, mode_switcher, tool_dim)\u001b[0m\n\u001b[1;32m    912\u001b[0m     \u001b[0;32mfor\u001b[0m \u001b[0msnode_schedule\u001b[0m \u001b[0;32min\u001b[0m \u001b[0msnode_schedule_list\u001b[0m\u001b[0;34m:\u001b[0m\u001b[0;34m\u001b[0m\u001b[0m\n\u001b[1;32m    913\u001b[0m         \u001b[0mppline\u001b[0m\u001b[0;34m.\u001b[0m\u001b[0mpscene\u001b[0m\u001b[0;34m.\u001b[0m\u001b[0mcombined_robot\u001b[0m\u001b[0;34m.\u001b[0m\u001b[0mjoint_move_make_sure\u001b[0m\u001b[0;34m(\u001b[0m\u001b[0msnode_schedule\u001b[0m\u001b[0;34m[\u001b[0m\u001b[0;36m0\u001b[0m\u001b[0;34m]\u001b[0m\u001b[0;34m.\u001b[0m\u001b[0mstate\u001b[0m\u001b[0;34m.\u001b[0m\u001b[0mQ\u001b[0m\u001b[0;34m)\u001b[0m\u001b[0;34m\u001b[0m\u001b[0m\n\u001b[0;32m--> 914\u001b[0;31m         \u001b[0mppline\u001b[0m\u001b[0;34m.\u001b[0m\u001b[0mexecute_schedule\u001b[0m\u001b[0;34m(\u001b[0m\u001b[0msnode_schedule\u001b[0m\u001b[0;34m,\u001b[0m \u001b[0mone_by_one\u001b[0m\u001b[0;34m=\u001b[0m\u001b[0mTrue\u001b[0m\u001b[0;34m,\u001b[0m \u001b[0mmode_switcher\u001b[0m\u001b[0;34m=\u001b[0m\u001b[0mmode_switcher\u001b[0m\u001b[0;34m)\u001b[0m\u001b[0;34m\u001b[0m\u001b[0m\n\u001b[0m",
      "\u001b[0;32m/home/kiro-ros/Projects/rnb-planning/src/pkg/planning/pipeline.pyc\u001b[0m in \u001b[0;36mexecute_schedule\u001b[0;34m(self, snode_schedule, auto_stop, mode_switcher, one_by_one, multiproc, error_stop_deg, auto_sync_robot_pose)\u001b[0m\n\u001b[1;32m    501\u001b[0m                 \u001b[0mt_exe\u001b[0m\u001b[0;34m.\u001b[0m\u001b[0mjoin\u001b[0m\u001b[0;34m(\u001b[0m\u001b[0;34m)\u001b[0m\u001b[0;34m\u001b[0m\u001b[0m\n\u001b[1;32m    502\u001b[0m             \u001b[0;32melse\u001b[0m\u001b[0;34m:\u001b[0m\u001b[0;34m\u001b[0m\u001b[0m\n\u001b[0;32m--> 503\u001b[0;31m                 \u001b[0mself\u001b[0m\u001b[0;34m.\u001b[0m\u001b[0mpscene\u001b[0m\u001b[0;34m.\u001b[0m\u001b[0mcombined_robot\u001b[0m\u001b[0;34m.\u001b[0m\u001b[0mmove_joint_traj\u001b[0m\u001b[0;34m(\u001b[0m\u001b[0msnode\u001b[0m\u001b[0;34m.\u001b[0m\u001b[0mtraj\u001b[0m\u001b[0;34m,\u001b[0m \u001b[0mauto_stop\u001b[0m\u001b[0;34m=\u001b[0m\u001b[0mFalse\u001b[0m\u001b[0;34m,\u001b[0m \u001b[0mone_by_one\u001b[0m\u001b[0;34m=\u001b[0m\u001b[0mone_by_one\u001b[0m\u001b[0;34m)\u001b[0m\u001b[0;34m\u001b[0m\u001b[0m\n\u001b[0m\u001b[1;32m    504\u001b[0m                 \u001b[0;32mif\u001b[0m \u001b[0mlen\u001b[0m\u001b[0;34m(\u001b[0m\u001b[0mself\u001b[0m\u001b[0;34m.\u001b[0m\u001b[0mpscene\u001b[0m\u001b[0;34m.\u001b[0m\u001b[0mcombined_robot\u001b[0m\u001b[0;34m.\u001b[0m\u001b[0mget_robots_in_act\u001b[0m\u001b[0;34m(\u001b[0m\u001b[0msnode\u001b[0m\u001b[0;34m.\u001b[0m\u001b[0mtraj\u001b[0m\u001b[0;34m)\u001b[0m\u001b[0;34m)\u001b[0m \u001b[0;34m==\u001b[0m \u001b[0;36m0\u001b[0m\u001b[0;34m:\u001b[0m\u001b[0;34m\u001b[0m\u001b[0m\n\u001b[1;32m    505\u001b[0m                     \u001b[0;32mprint\u001b[0m\u001b[0;34m(\u001b[0m\u001b[0;34m\"No motion for connected robot - playing motion in RVIZ\"\u001b[0m\u001b[0;34m)\u001b[0m\u001b[0;34m\u001b[0m\u001b[0m\n",
      "\u001b[0;32m/home/kiro-ros/Projects/rnb-planning/src/pkg/controller/combined_robot.pyc\u001b[0m in \u001b[0;36mmove_joint_traj\u001b[0;34m(self, trajectory, auto_stop, wait_motion, one_by_one, error_stop)\u001b[0m\n\u001b[1;32m    264\u001b[0m                     \u001b[0mrobot\u001b[0m\u001b[0;34m.\u001b[0m\u001b[0mjoint_move_make_sure\u001b[0m\u001b[0;34m(\u001b[0m\u001b[0mQ_init\u001b[0m\u001b[0;34m)\u001b[0m\u001b[0;34m\u001b[0m\u001b[0m\n\u001b[1;32m    265\u001b[0m                     \u001b[0;32mprint\u001b[0m\u001b[0;34m(\u001b[0m\u001b[0;34m\"joint_move_make_sure done\"\u001b[0m\u001b[0;34m)\u001b[0m\u001b[0;34m\u001b[0m\u001b[0m\n\u001b[0;32m--> 266\u001b[0;31m                 \u001b[0mrobot\u001b[0m\u001b[0;34m.\u001b[0m\u001b[0mmove_joint_traj\u001b[0m\u001b[0;34m(\u001b[0m\u001b[0mtrajectory\u001b[0m\u001b[0;34m[\u001b[0m\u001b[0;34m:\u001b[0m\u001b[0;34m,\u001b[0m \u001b[0mself\u001b[0m\u001b[0;34m.\u001b[0m\u001b[0midx_dict\u001b[0m\u001b[0;34m[\u001b[0m\u001b[0mrname\u001b[0m\u001b[0;34m]\u001b[0m\u001b[0;34m]\u001b[0m\u001b[0;34m,\u001b[0m \u001b[0mauto_stop\u001b[0m\u001b[0;34m=\u001b[0m\u001b[0mauto_stop\u001b[0m\u001b[0;34m,\u001b[0m \u001b[0mwait_motion\u001b[0m\u001b[0;34m=\u001b[0m\u001b[0mwait_motion\u001b[0m\u001b[0;34m)\u001b[0m\u001b[0;34m\u001b[0m\u001b[0m\n\u001b[0m\u001b[1;32m    267\u001b[0m                 \u001b[0;32mif\u001b[0m \u001b[0merror_stop\u001b[0m \u001b[0;32mis\u001b[0m \u001b[0;32mnot\u001b[0m \u001b[0mNone\u001b[0m\u001b[0;34m:\u001b[0m\u001b[0;34m\u001b[0m\u001b[0m\n\u001b[1;32m    268\u001b[0m                     \u001b[0;32mif\u001b[0m \u001b[0mnp\u001b[0m\u001b[0;34m.\u001b[0m\u001b[0msum\u001b[0m\u001b[0;34m(\u001b[0m\u001b[0mnp\u001b[0m\u001b[0;34m.\u001b[0m\u001b[0mabs\u001b[0m\u001b[0;34m(\u001b[0m\u001b[0mnp\u001b[0m\u001b[0;34m.\u001b[0m\u001b[0msubtract\u001b[0m\u001b[0;34m(\u001b[0m\u001b[0mtrajectory\u001b[0m\u001b[0;34m[\u001b[0m\u001b[0;34m-\u001b[0m\u001b[0;36m1\u001b[0m\u001b[0;34m,\u001b[0m \u001b[0mself\u001b[0m\u001b[0;34m.\u001b[0m\u001b[0midx_dict\u001b[0m\u001b[0;34m[\u001b[0m\u001b[0mrname\u001b[0m\u001b[0;34m]\u001b[0m\u001b[0;34m]\u001b[0m\u001b[0;34m,\u001b[0m \u001b[0mrobot\u001b[0m\u001b[0;34m.\u001b[0m\u001b[0mget_qcur\u001b[0m\u001b[0;34m(\u001b[0m\u001b[0;34m)\u001b[0m\u001b[0;34m)\u001b[0m\u001b[0;34m)\u001b[0m\u001b[0;34m)\u001b[0m\u001b[0;31m\\\u001b[0m\u001b[0;34m\u001b[0m\u001b[0m\n",
      "\u001b[0;32m/home/kiro-ros/Projects/rnb-planning/src/pkg/controller/trajectory_client/trajectory_client.pyc\u001b[0m in \u001b[0;36mmove_joint_traj\u001b[0;34m(self, trajectory, auto_stop, wait_motion)\u001b[0m\n\u001b[1;32m    172\u001b[0m \u001b[0;34m\u001b[0m\u001b[0m\n\u001b[1;32m    173\u001b[0m         \u001b[0;32mif\u001b[0m \u001b[0mwait_motion\u001b[0m\u001b[0;34m:\u001b[0m\u001b[0;34m\u001b[0m\u001b[0m\n\u001b[0;32m--> 174\u001b[0;31m             \u001b[0mself\u001b[0m\u001b[0;34m.\u001b[0m\u001b[0mwait_queue_empty\u001b[0m\u001b[0;34m(\u001b[0m\u001b[0;34m)\u001b[0m\u001b[0;34m\u001b[0m\u001b[0m\n\u001b[0m\u001b[1;32m    175\u001b[0m \u001b[0;34m\u001b[0m\u001b[0m\n\u001b[1;32m    176\u001b[0m             \u001b[0;32mif\u001b[0m \u001b[0mauto_stop\u001b[0m\u001b[0;34m:\u001b[0m\u001b[0;34m\u001b[0m\u001b[0m\n",
      "\u001b[0;32m/home/kiro-ros/Projects/rnb-planning/src/pkg/controller/trajectory_client/trajectory_client.pyc\u001b[0m in \u001b[0;36mwait_queue_empty\u001b[0;34m(self, max_dur)\u001b[0m\n\u001b[1;32m     54\u001b[0m     \u001b[0;32mdef\u001b[0m \u001b[0mwait_queue_empty\u001b[0m\u001b[0;34m(\u001b[0m\u001b[0mself\u001b[0m\u001b[0;34m,\u001b[0m \u001b[0mmax_dur\u001b[0m\u001b[0;34m=\u001b[0m\u001b[0;36m1000\u001b[0m\u001b[0;34m)\u001b[0m\u001b[0;34m:\u001b[0m\u001b[0;34m\u001b[0m\u001b[0m\n\u001b[1;32m     55\u001b[0m         \u001b[0mtime_start\u001b[0m \u001b[0;34m=\u001b[0m \u001b[0mtime\u001b[0m\u001b[0;34m.\u001b[0m\u001b[0mtime\u001b[0m\u001b[0;34m(\u001b[0m\u001b[0;34m)\u001b[0m\u001b[0;34m\u001b[0m\u001b[0m\n\u001b[0;32m---> 56\u001b[0;31m         \u001b[0;32mwhile\u001b[0m \u001b[0mself\u001b[0m\u001b[0;34m.\u001b[0m\u001b[0mget_qcount\u001b[0m\u001b[0;34m(\u001b[0m\u001b[0;34m)\u001b[0m\u001b[0;34m>\u001b[0m\u001b[0;36m0\u001b[0m\u001b[0;34m:\u001b[0m\u001b[0;34m\u001b[0m\u001b[0m\n\u001b[0m\u001b[1;32m     57\u001b[0m             \u001b[0mtime\u001b[0m\u001b[0;34m.\u001b[0m\u001b[0msleep\u001b[0m\u001b[0;34m(\u001b[0m\u001b[0;36m1.0\u001b[0m\u001b[0;34m/\u001b[0m\u001b[0mself\u001b[0m\u001b[0;34m.\u001b[0m\u001b[0mtraj_freq\u001b[0m\u001b[0;34m)\u001b[0m\u001b[0;34m\u001b[0m\u001b[0m\n\u001b[1;32m     58\u001b[0m             \u001b[0;32mif\u001b[0m \u001b[0;34m(\u001b[0m\u001b[0mtime\u001b[0m\u001b[0;34m.\u001b[0m\u001b[0mtime\u001b[0m\u001b[0;34m(\u001b[0m\u001b[0;34m)\u001b[0m \u001b[0;34m-\u001b[0m \u001b[0mtime_start\u001b[0m\u001b[0;34m)\u001b[0m \u001b[0;34m>\u001b[0m \u001b[0mmax_dur\u001b[0m\u001b[0;34m:\u001b[0m\u001b[0;34m\u001b[0m\u001b[0m\n",
      "\u001b[0;32m/home/kiro-ros/Projects/rnb-planning/src/pkg/controller/combined_robot.pyc\u001b[0m in \u001b[0;36mget_qcount\u001b[0;34m()\u001b[0m\n\u001b[1;32m    390\u001b[0m                 \u001b[0mself\u001b[0m\u001b[0;34m.\u001b[0m\u001b[0mQ_cur\u001b[0m\u001b[0;34m[\u001b[0m\u001b[0midx\u001b[0m\u001b[0;34m]\u001b[0m \u001b[0;34m=\u001b[0m \u001b[0mqstack\u001b[0m\u001b[0;34m.\u001b[0m\u001b[0mpop\u001b[0m\u001b[0;34m(\u001b[0m\u001b[0;36m0\u001b[0m\u001b[0;34m)\u001b[0m\u001b[0;34m\u001b[0m\u001b[0m\n\u001b[1;32m    391\u001b[0m             \u001b[0;32mif\u001b[0m \u001b[0mself\u001b[0m\u001b[0;34m.\u001b[0m\u001b[0mgscene\u001b[0m \u001b[0;32mis\u001b[0m \u001b[0;32mnot\u001b[0m \u001b[0mNone\u001b[0m\u001b[0;34m:\u001b[0m\u001b[0;34m\u001b[0m\u001b[0m\n\u001b[0;32m--> 392\u001b[0;31m                 \u001b[0mself\u001b[0m\u001b[0;34m.\u001b[0m\u001b[0mgscene\u001b[0m\u001b[0;34m.\u001b[0m\u001b[0mshow_pose\u001b[0m\u001b[0;34m(\u001b[0m\u001b[0mself\u001b[0m\u001b[0;34m.\u001b[0m\u001b[0mQ_cur\u001b[0m\u001b[0;34m)\u001b[0m\u001b[0;34m\u001b[0m\u001b[0m\n\u001b[0m\u001b[1;32m    393\u001b[0m             \u001b[0;32mreturn\u001b[0m \u001b[0mqcount\u001b[0m\u001b[0;34m\u001b[0m\u001b[0m\n\u001b[1;32m    394\u001b[0m         \u001b[0mrobot\u001b[0m\u001b[0;34m.\u001b[0m\u001b[0mget_qcount\u001b[0m \u001b[0;34m=\u001b[0m \u001b[0mget_qcount\u001b[0m\u001b[0;34m\u001b[0m\u001b[0m\n",
      "\u001b[0;32m/home/kiro-ros/Projects/rnb-planning/src/pkg/geometry/geometry.pyc\u001b[0m in \u001b[0;36mshow_pose\u001b[0;34m(self, pose, **kwargs)\u001b[0m\n\u001b[1;32m    253\u001b[0m     \u001b[0;31m# @param pose Q in radian numpy array\u001b[0m\u001b[0;34m\u001b[0m\u001b[0;34m\u001b[0m\u001b[0m\n\u001b[1;32m    254\u001b[0m     \u001b[0;32mdef\u001b[0m \u001b[0mshow_pose\u001b[0m\u001b[0;34m(\u001b[0m\u001b[0mself\u001b[0m\u001b[0;34m,\u001b[0m \u001b[0mpose\u001b[0m\u001b[0;34m,\u001b[0m \u001b[0;34m**\u001b[0m\u001b[0mkwargs\u001b[0m\u001b[0;34m)\u001b[0m\u001b[0;34m:\u001b[0m\u001b[0;34m\u001b[0m\u001b[0m\n\u001b[0;32m--> 255\u001b[0;31m         \u001b[0mself\u001b[0m\u001b[0;34m.\u001b[0m\u001b[0mshow_motion\u001b[0m\u001b[0;34m(\u001b[0m\u001b[0;34m[\u001b[0m\u001b[0mpose\u001b[0m\u001b[0;34m]\u001b[0m\u001b[0;34m,\u001b[0m \u001b[0;34m**\u001b[0m\u001b[0mkwargs\u001b[0m\u001b[0;34m)\u001b[0m\u001b[0;34m\u001b[0m\u001b[0m\n\u001b[0m\u001b[1;32m    256\u001b[0m \u001b[0;34m\u001b[0m\u001b[0m\n\u001b[1;32m    257\u001b[0m     \u001b[0;31m##\u001b[0m\u001b[0;34m\u001b[0m\u001b[0;34m\u001b[0m\u001b[0m\n",
      "\u001b[0;32m/home/kiro-ros/Projects/rnb-planning/src/pkg/geometry/geometry.pyc\u001b[0m in \u001b[0;36mshow_motion\u001b[0;34m(self, pose_list, **kwargs)\u001b[0m\n\u001b[1;32m    263\u001b[0m             \u001b[0;32mfor\u001b[0m \u001b[0mmks\u001b[0m \u001b[0;32min\u001b[0m \u001b[0mself\u001b[0m\u001b[0;34m.\u001b[0m\u001b[0mmarker_dict\u001b[0m\u001b[0;34m.\u001b[0m\u001b[0mvalues\u001b[0m\u001b[0;34m(\u001b[0m\u001b[0;34m)\u001b[0m\u001b[0;34m:\u001b[0m\u001b[0;34m\u001b[0m\u001b[0m\n\u001b[1;32m    264\u001b[0m                 \u001b[0mmarker_list\u001b[0m \u001b[0;34m+=\u001b[0m \u001b[0mmks\u001b[0m\u001b[0;34m\u001b[0m\u001b[0m\n\u001b[0;32m--> 265\u001b[0;31m             \u001b[0mshow_motion\u001b[0m\u001b[0;34m(\u001b[0m\u001b[0mpose_list\u001b[0m\u001b[0;34m,\u001b[0m \u001b[0mmarker_list\u001b[0m\u001b[0;34m,\u001b[0m \u001b[0mself\u001b[0m\u001b[0;34m.\u001b[0m\u001b[0mpub\u001b[0m\u001b[0;34m,\u001b[0m \u001b[0mself\u001b[0m\u001b[0;34m.\u001b[0m\u001b[0mjoints\u001b[0m\u001b[0;34m,\u001b[0m \u001b[0mself\u001b[0m\u001b[0;34m.\u001b[0m\u001b[0mjoint_names\u001b[0m\u001b[0;34m,\u001b[0m \u001b[0;34m**\u001b[0m\u001b[0mkwargs\u001b[0m\u001b[0;34m)\u001b[0m\u001b[0;34m\u001b[0m\u001b[0m\n\u001b[0m\u001b[1;32m    266\u001b[0m \u001b[0;34m\u001b[0m\u001b[0m\n\u001b[1;32m    267\u001b[0m     \u001b[0;31m##\u001b[0m\u001b[0;34m\u001b[0m\u001b[0;34m\u001b[0m\u001b[0m\n",
      "\u001b[0;32m/home/kiro-ros/Projects/rnb-planning/src/pkg/geometry/ros_rviz.pyc\u001b[0m in \u001b[0;36mshow_motion\u001b[0;34m(pose_list, marker_list, pub, joints, joint_names, error_skip, period)\u001b[0m\n\u001b[1;32m     46\u001b[0m         \u001b[0mpub\u001b[0m\u001b[0;34m.\u001b[0m\u001b[0mpublish\u001b[0m\u001b[0;34m(\u001b[0m\u001b[0mjoints\u001b[0m\u001b[0;34m)\u001b[0m\u001b[0;34m;\u001b[0m\u001b[0;34m\u001b[0m\u001b[0m\n\u001b[1;32m     47\u001b[0m         \u001b[0;32mfor\u001b[0m \u001b[0mmarker\u001b[0m \u001b[0;32min\u001b[0m \u001b[0mmarker_list\u001b[0m\u001b[0;34m:\u001b[0m\u001b[0;34m\u001b[0m\u001b[0m\n\u001b[0;32m---> 48\u001b[0;31m             \u001b[0mmarker\u001b[0m\u001b[0;34m.\u001b[0m\u001b[0mmove_marker\u001b[0m\u001b[0;34m(\u001b[0m\u001b[0;34m{\u001b[0m\u001b[0mjoints\u001b[0m\u001b[0;34m.\u001b[0m\u001b[0mname\u001b[0m\u001b[0;34m[\u001b[0m\u001b[0mi\u001b[0m\u001b[0;34m]\u001b[0m\u001b[0;34m:\u001b[0m \u001b[0mjoints\u001b[0m\u001b[0;34m.\u001b[0m\u001b[0mposition\u001b[0m\u001b[0;34m[\u001b[0m\u001b[0mi\u001b[0m\u001b[0;34m]\u001b[0m \u001b[0;32mfor\u001b[0m \u001b[0mi\u001b[0m \u001b[0;32min\u001b[0m \u001b[0mrange\u001b[0m\u001b[0;34m(\u001b[0m\u001b[0mlen\u001b[0m\u001b[0;34m(\u001b[0m\u001b[0mjoint_names\u001b[0m\u001b[0;34m)\u001b[0m\u001b[0;34m)\u001b[0m\u001b[0;34m}\u001b[0m\u001b[0;34m)\u001b[0m\u001b[0;34m\u001b[0m\u001b[0m\n\u001b[0m\u001b[1;32m     49\u001b[0m         \u001b[0mtimer\u001b[0m\u001b[0;34m.\u001b[0m\u001b[0msleep\u001b[0m\u001b[0;34m(\u001b[0m\u001b[0mperiod\u001b[0m\u001b[0;34m)\u001b[0m\u001b[0;34m\u001b[0m\u001b[0m\n\u001b[1;32m     50\u001b[0m \u001b[0;34m\u001b[0m\u001b[0m\n",
      "\u001b[0;32m/home/kiro-ros/Projects/rnb-planning/src/pkg/geometry/ros_rviz.pyc\u001b[0m in \u001b[0;36mmove_marker\u001b[0;34m(self, joint_dict)\u001b[0m\n\u001b[1;32m    167\u001b[0m         \u001b[0mself\u001b[0m\u001b[0;34m.\u001b[0m\u001b[0mmarker\u001b[0m\u001b[0;34m.\u001b[0m\u001b[0maction\u001b[0m \u001b[0;34m=\u001b[0m \u001b[0mMarker\u001b[0m\u001b[0;34m.\u001b[0m\u001b[0mMODIFY\u001b[0m\u001b[0;34m\u001b[0m\u001b[0m\n\u001b[1;32m    168\u001b[0m         \u001b[0mself\u001b[0m\u001b[0;34m.\u001b[0m\u001b[0mmarker\u001b[0m\u001b[0;34m.\u001b[0m\u001b[0mheader\u001b[0m\u001b[0;34m.\u001b[0m\u001b[0mstamp\u001b[0m \u001b[0;34m=\u001b[0m \u001b[0mrospy\u001b[0m\u001b[0;34m.\u001b[0m\u001b[0mTime\u001b[0m\u001b[0;34m.\u001b[0m\u001b[0mnow\u001b[0m\u001b[0;34m(\u001b[0m\u001b[0;34m)\u001b[0m\u001b[0;34m\u001b[0m\u001b[0m\n\u001b[0;32m--> 169\u001b[0;31m         \u001b[0mself\u001b[0m\u001b[0;34m.\u001b[0m\u001b[0m__set_position\u001b[0m\u001b[0;34m(\u001b[0m\u001b[0mjoint_dict\u001b[0m\u001b[0;34m)\u001b[0m\u001b[0;34m\u001b[0m\u001b[0m\n\u001b[0m\u001b[1;32m    170\u001b[0m         \u001b[0mself\u001b[0m\u001b[0;34m.\u001b[0m\u001b[0mpublish_marker\u001b[0m\u001b[0;34m(\u001b[0m\u001b[0;34m)\u001b[0m\u001b[0;34m\u001b[0m\u001b[0m\n\u001b[1;32m    171\u001b[0m \u001b[0;34m\u001b[0m\u001b[0m\n",
      "\u001b[0;32m/home/kiro-ros/Projects/rnb-planning/src/pkg/geometry/ros_rviz.pyc\u001b[0m in \u001b[0;36m__set_position\u001b[0;34m(self, joint_dict)\u001b[0m\n\u001b[1;32m    154\u001b[0m \u001b[0;34m\u001b[0m\u001b[0m\n\u001b[1;32m    155\u001b[0m     \u001b[0;32mdef\u001b[0m \u001b[0m__set_position\u001b[0m\u001b[0;34m(\u001b[0m\u001b[0mself\u001b[0m\u001b[0;34m,\u001b[0m \u001b[0mjoint_dict\u001b[0m\u001b[0;34m)\u001b[0m\u001b[0;34m:\u001b[0m\u001b[0;34m\u001b[0m\u001b[0m\n\u001b[0;32m--> 156\u001b[0;31m         \u001b[0mT\u001b[0m \u001b[0;34m=\u001b[0m \u001b[0mself\u001b[0m\u001b[0;34m.\u001b[0m\u001b[0mgeometry\u001b[0m\u001b[0;34m.\u001b[0m\u001b[0mget_tf\u001b[0m\u001b[0;34m(\u001b[0m\u001b[0mjoint_dict\u001b[0m\u001b[0;34m)\u001b[0m\u001b[0;34m\u001b[0m\u001b[0m\n\u001b[0m\u001b[1;32m    157\u001b[0m         \u001b[0mself\u001b[0m\u001b[0;34m.\u001b[0m\u001b[0mmarker\u001b[0m\u001b[0;34m.\u001b[0m\u001b[0mpose\u001b[0m\u001b[0;34m.\u001b[0m\u001b[0morientation\u001b[0m\u001b[0;34m.\u001b[0m\u001b[0mx\u001b[0m\u001b[0;34m,\u001b[0m \u001b[0mself\u001b[0m\u001b[0;34m.\u001b[0m\u001b[0mmarker\u001b[0m\u001b[0;34m.\u001b[0m\u001b[0mpose\u001b[0m\u001b[0;34m.\u001b[0m\u001b[0morientation\u001b[0m\u001b[0;34m.\u001b[0m\u001b[0my\u001b[0m\u001b[0;34m,\u001b[0m\u001b[0;31m \u001b[0m\u001b[0;31m\\\u001b[0m\u001b[0;34m\u001b[0m\u001b[0m\n\u001b[1;32m    158\u001b[0m             \u001b[0mself\u001b[0m\u001b[0;34m.\u001b[0m\u001b[0mmarker\u001b[0m\u001b[0;34m.\u001b[0m\u001b[0mpose\u001b[0m\u001b[0;34m.\u001b[0m\u001b[0morientation\u001b[0m\u001b[0;34m.\u001b[0m\u001b[0mz\u001b[0m\u001b[0;34m,\u001b[0m \u001b[0mself\u001b[0m\u001b[0;34m.\u001b[0m\u001b[0mmarker\u001b[0m\u001b[0;34m.\u001b[0m\u001b[0mpose\u001b[0m\u001b[0;34m.\u001b[0m\u001b[0morientation\u001b[0m\u001b[0;34m.\u001b[0m\u001b[0mw\u001b[0m \u001b[0;34m=\u001b[0m \u001b[0mRotation\u001b[0m\u001b[0;34m.\u001b[0m\u001b[0mfrom_dcm\u001b[0m\u001b[0;34m(\u001b[0m\u001b[0mT\u001b[0m\u001b[0;34m[\u001b[0m\u001b[0;34m:\u001b[0m\u001b[0;36m3\u001b[0m\u001b[0;34m,\u001b[0m\u001b[0;34m:\u001b[0m\u001b[0;36m3\u001b[0m\u001b[0;34m]\u001b[0m\u001b[0;34m)\u001b[0m\u001b[0;34m.\u001b[0m\u001b[0mas_quat\u001b[0m\u001b[0;34m(\u001b[0m\u001b[0;34m)\u001b[0m\u001b[0;34m\u001b[0m\u001b[0m\n",
      "\u001b[0;32m/home/kiro-ros/Projects/rnb-planning/src/pkg/geometry/geometry.pyc\u001b[0m in \u001b[0;36mget_tf\u001b[0;34m(self, joint_dict, from_link)\u001b[0m\n\u001b[1;32m    641\u001b[0m     \u001b[0;32mdef\u001b[0m \u001b[0mget_tf\u001b[0m\u001b[0;34m(\u001b[0m\u001b[0mself\u001b[0m\u001b[0;34m,\u001b[0m \u001b[0mjoint_dict\u001b[0m\u001b[0;34m,\u001b[0m \u001b[0mfrom_link\u001b[0m\u001b[0;34m=\u001b[0m\u001b[0;34m'base_link'\u001b[0m\u001b[0;34m)\u001b[0m\u001b[0;34m:\u001b[0m\u001b[0;34m\u001b[0m\u001b[0m\n\u001b[1;32m    642\u001b[0m         \u001b[0mjoint_dict\u001b[0m \u001b[0;34m=\u001b[0m \u001b[0mjoint_dict\u001b[0m \u001b[0;32mif\u001b[0m \u001b[0misinstance\u001b[0m\u001b[0;34m(\u001b[0m\u001b[0mjoint_dict\u001b[0m\u001b[0;34m,\u001b[0m \u001b[0mdict\u001b[0m\u001b[0;34m)\u001b[0m \u001b[0;32melse\u001b[0m \u001b[0mlist2dict\u001b[0m\u001b[0;34m(\u001b[0m\u001b[0mjoint_dict\u001b[0m\u001b[0;34m,\u001b[0m \u001b[0mself\u001b[0m\u001b[0;34m.\u001b[0m\u001b[0mgscene\u001b[0m\u001b[0;34m.\u001b[0m\u001b[0mjoint_names\u001b[0m\u001b[0;34m)\u001b[0m\u001b[0;34m\u001b[0m\u001b[0m\n\u001b[0;32m--> 643\u001b[0;31m         \u001b[0mT\u001b[0m \u001b[0;34m=\u001b[0m \u001b[0mget_tf\u001b[0m\u001b[0;34m(\u001b[0m\u001b[0mto_link\u001b[0m\u001b[0;34m=\u001b[0m\u001b[0mself\u001b[0m\u001b[0;34m.\u001b[0m\u001b[0mlink_name\u001b[0m\u001b[0;34m,\u001b[0m \u001b[0mjoint_dict\u001b[0m\u001b[0;34m=\u001b[0m\u001b[0mjoint_dict\u001b[0m\u001b[0;34m,\u001b[0m \u001b[0murdf_content\u001b[0m\u001b[0;34m=\u001b[0m\u001b[0mself\u001b[0m\u001b[0;34m.\u001b[0m\u001b[0mgscene\u001b[0m\u001b[0;34m.\u001b[0m\u001b[0murdf_content\u001b[0m\u001b[0;34m,\u001b[0m \u001b[0mfrom_link\u001b[0m\u001b[0;34m=\u001b[0m\u001b[0mfrom_link\u001b[0m\u001b[0;34m)\u001b[0m\u001b[0;34m\u001b[0m\u001b[0m\n\u001b[0m\u001b[1;32m    644\u001b[0m         \u001b[0mT\u001b[0m \u001b[0;34m=\u001b[0m \u001b[0mnp\u001b[0m\u001b[0;34m.\u001b[0m\u001b[0mmatmul\u001b[0m\u001b[0;34m(\u001b[0m\u001b[0mT\u001b[0m\u001b[0;34m,\u001b[0m \u001b[0mself\u001b[0m\u001b[0;34m.\u001b[0m\u001b[0mToff\u001b[0m\u001b[0;34m)\u001b[0m\u001b[0;34m\u001b[0m\u001b[0m\n\u001b[1;32m    645\u001b[0m         \u001b[0;32mreturn\u001b[0m \u001b[0mT\u001b[0m\u001b[0;34m\u001b[0m\u001b[0m\n",
      "\u001b[0;32m/home/kiro-ros/Projects/rnb-planning/src/pkg/utils/joint_utils.pyc\u001b[0m in \u001b[0;36mget_tf\u001b[0;34m(to_link, joint_dict, urdf_content, from_link)\u001b[0m\n\u001b[1;32m    130\u001b[0m                 \u001b[0;32mbreak\u001b[0m\u001b[0;34m\u001b[0m\u001b[0m\n\u001b[1;32m    131\u001b[0m             \u001b[0mparent_joint\u001b[0m \u001b[0;34m=\u001b[0m \u001b[0murdf_content\u001b[0m\u001b[0;34m.\u001b[0m\u001b[0mjoint_map\u001b[0m\u001b[0;34m[\u001b[0m\u001b[0mpjname\u001b[0m\u001b[0;34m]\u001b[0m\u001b[0;34m\u001b[0m\u001b[0m\n\u001b[0;32m--> 132\u001b[0;31m             \u001b[0mTj\u001b[0m \u001b[0;34m=\u001b[0m \u001b[0mget_joint_tf\u001b[0m\u001b[0;34m(\u001b[0m\u001b[0mparent_joint\u001b[0m\u001b[0;34m,\u001b[0m \u001b[0mjoint_dict\u001b[0m\u001b[0;34m)\u001b[0m\u001b[0;34m\u001b[0m\u001b[0m\n\u001b[0m\u001b[1;32m    133\u001b[0m             \u001b[0mT\u001b[0m \u001b[0;34m=\u001b[0m \u001b[0mnp\u001b[0m\u001b[0;34m.\u001b[0m\u001b[0mmatmul\u001b[0m\u001b[0;34m(\u001b[0m\u001b[0mTj\u001b[0m\u001b[0;34m,\u001b[0m\u001b[0mT\u001b[0m\u001b[0;34m)\u001b[0m\u001b[0;34m\u001b[0m\u001b[0m\n\u001b[1;32m    134\u001b[0m             \u001b[0mlink_cur\u001b[0m \u001b[0;34m=\u001b[0m \u001b[0mparent_joint\u001b[0m\u001b[0;34m.\u001b[0m\u001b[0mparent\u001b[0m\u001b[0;34m\u001b[0m\u001b[0m\n",
      "\u001b[0;32m/home/kiro-ros/Projects/rnb-planning/src/pkg/utils/joint_utils.pyc\u001b[0m in \u001b[0;36mget_joint_tf\u001b[0;34m(joint, joint_dict)\u001b[0m\n\u001b[1;32m    116\u001b[0m     \u001b[0;32melse\u001b[0m\u001b[0;34m:\u001b[0m\u001b[0;34m\u001b[0m\u001b[0m\n\u001b[1;32m    117\u001b[0m         \u001b[0;32mraise\u001b[0m \u001b[0mNotImplementedError\u001b[0m\u001b[0;34m(\u001b[0m\u001b[0;34m\"joint type {} not defined\"\u001b[0m\u001b[0;34m.\u001b[0m\u001b[0mformat\u001b[0m\u001b[0;34m(\u001b[0m\u001b[0mjoint_type\u001b[0m\u001b[0;34m)\u001b[0m\u001b[0;34m)\u001b[0m\u001b[0;34m\u001b[0m\u001b[0m\n\u001b[0;32m--> 118\u001b[0;31m     \u001b[0mToff\u001b[0m \u001b[0;34m=\u001b[0m \u001b[0mSE3\u001b[0m\u001b[0;34m(\u001b[0m\u001b[0mRot_rpy\u001b[0m\u001b[0;34m(\u001b[0m\u001b[0mjoint\u001b[0m\u001b[0;34m.\u001b[0m\u001b[0morigin\u001b[0m\u001b[0;34m.\u001b[0m\u001b[0mrpy\u001b[0m\u001b[0;34m)\u001b[0m\u001b[0;34m,\u001b[0m \u001b[0mjoint\u001b[0m\u001b[0;34m.\u001b[0m\u001b[0morigin\u001b[0m\u001b[0;34m.\u001b[0m\u001b[0mxyz\u001b[0m\u001b[0;34m)\u001b[0m\u001b[0;34m\u001b[0m\u001b[0m\n\u001b[0m\u001b[1;32m    119\u001b[0m     \u001b[0;31m# T = np.matmul(Toff, np.matmul(T_J,T))\u001b[0m\u001b[0;34m\u001b[0m\u001b[0;34m\u001b[0m\u001b[0m\n\u001b[1;32m    120\u001b[0m     \u001b[0;32mreturn\u001b[0m \u001b[0mnp\u001b[0m\u001b[0;34m.\u001b[0m\u001b[0mmatmul\u001b[0m\u001b[0;34m(\u001b[0m\u001b[0mToff\u001b[0m\u001b[0;34m,\u001b[0m\u001b[0mT_J\u001b[0m\u001b[0;34m)\u001b[0m\u001b[0;34m\u001b[0m\u001b[0m\n",
      "\u001b[0;32m/home/kiro-ros/Projects/rnb-planning/src/pkg/utils/rotation_utils.pyc\u001b[0m in \u001b[0;36mRot_rpy\u001b[0;34m(rpy)\u001b[0m\n\u001b[1;32m    154\u001b[0m \u001b[0;34m\u001b[0m\u001b[0m\n\u001b[1;32m    155\u001b[0m \u001b[0;32mdef\u001b[0m \u001b[0mRot_rpy\u001b[0m\u001b[0;34m(\u001b[0m\u001b[0mrpy\u001b[0m\u001b[0;34m)\u001b[0m\u001b[0;34m:\u001b[0m\u001b[0;34m\u001b[0m\u001b[0m\n\u001b[0;32m--> 156\u001b[0;31m     \u001b[0;32mreturn\u001b[0m \u001b[0mnp\u001b[0m\u001b[0;34m.\u001b[0m\u001b[0mtranspose\u001b[0m\u001b[0;34m(\u001b[0m\u001b[0mRot_axis_series\u001b[0m\u001b[0;34m(\u001b[0m\u001b[0;34m[\u001b[0m\u001b[0;36m1\u001b[0m\u001b[0;34m,\u001b[0m\u001b[0;36m2\u001b[0m\u001b[0;34m,\u001b[0m\u001b[0;36m3\u001b[0m\u001b[0;34m]\u001b[0m\u001b[0;34m,\u001b[0m\u001b[0mnp\u001b[0m\u001b[0;34m.\u001b[0m\u001b[0mnegative\u001b[0m\u001b[0;34m(\u001b[0m\u001b[0mrpy\u001b[0m\u001b[0;34m)\u001b[0m\u001b[0;34m)\u001b[0m\u001b[0;34m)\u001b[0m\u001b[0;34m\u001b[0m\u001b[0m\n\u001b[0m\u001b[1;32m    157\u001b[0m \u001b[0;34m\u001b[0m\u001b[0m\n\u001b[1;32m    158\u001b[0m \u001b[0;32mdef\u001b[0m \u001b[0mRot2rpy\u001b[0m\u001b[0;34m(\u001b[0m\u001b[0mR\u001b[0m\u001b[0;34m)\u001b[0m\u001b[0;34m:\u001b[0m\u001b[0;34m\u001b[0m\u001b[0m\n",
      "\u001b[0;32m/home/kiro-ros/Projects/rnb-planning/src/pkg/utils/rotation_utils.pyc\u001b[0m in \u001b[0;36mRot_axis_series\u001b[0;34m(axis_list, rad_list)\u001b[0m\n\u001b[1;32m     38\u001b[0m     \u001b[0mR\u001b[0m \u001b[0;34m=\u001b[0m \u001b[0mRot_axis\u001b[0m\u001b[0;34m(\u001b[0m\u001b[0maxis_list\u001b[0m\u001b[0;34m[\u001b[0m\u001b[0;36m0\u001b[0m\u001b[0;34m]\u001b[0m\u001b[0;34m,\u001b[0m \u001b[0mrad_list\u001b[0m\u001b[0;34m[\u001b[0m\u001b[0;36m0\u001b[0m\u001b[0;34m]\u001b[0m\u001b[0;34m)\u001b[0m\u001b[0;34m\u001b[0m\u001b[0m\n\u001b[1;32m     39\u001b[0m     \u001b[0;32mfor\u001b[0m \u001b[0max_i\u001b[0m\u001b[0;34m,\u001b[0m \u001b[0mrad_i\u001b[0m \u001b[0;32min\u001b[0m \u001b[0mzip\u001b[0m\u001b[0;34m(\u001b[0m\u001b[0maxis_list\u001b[0m\u001b[0;34m[\u001b[0m\u001b[0;36m1\u001b[0m\u001b[0;34m:\u001b[0m\u001b[0;34m]\u001b[0m\u001b[0;34m,\u001b[0m \u001b[0mrad_list\u001b[0m\u001b[0;34m[\u001b[0m\u001b[0;36m1\u001b[0m\u001b[0;34m:\u001b[0m\u001b[0;34m]\u001b[0m\u001b[0;34m)\u001b[0m\u001b[0;34m:\u001b[0m\u001b[0;34m\u001b[0m\u001b[0m\n\u001b[0;32m---> 40\u001b[0;31m         \u001b[0mR\u001b[0m \u001b[0;34m=\u001b[0m \u001b[0mnp\u001b[0m\u001b[0;34m.\u001b[0m\u001b[0mmatmul\u001b[0m\u001b[0;34m(\u001b[0m\u001b[0mR\u001b[0m\u001b[0;34m,\u001b[0m \u001b[0mRot_axis\u001b[0m\u001b[0;34m(\u001b[0m\u001b[0max_i\u001b[0m\u001b[0;34m,\u001b[0m\u001b[0mrad_i\u001b[0m\u001b[0;34m)\u001b[0m\u001b[0;34m)\u001b[0m\u001b[0;34m\u001b[0m\u001b[0m\n\u001b[0m\u001b[1;32m     41\u001b[0m     \u001b[0;32mreturn\u001b[0m \u001b[0mR\u001b[0m\u001b[0;34m\u001b[0m\u001b[0m\n\u001b[1;32m     42\u001b[0m \u001b[0;34m\u001b[0m\u001b[0m\n",
      "\u001b[0;31mKeyboardInterrupt\u001b[0m: "
     ]
    }
   ],
   "source": [
    "if CONNECT_TASK_PLANNER:\n",
    "    while True:\n",
    "        while servicer.object_info_running.object_id < 0:\n",
    "            time.sleep(1)\n",
    "        \n",
    "        if servicer.object_info_running.object_name==\"table\":\n",
    "            for snode_schedule_list in snode_schedule_list_table_all:\n",
    "                play_cleaning_schedule(ppline, table_surf, snode_schedule_list, mode_switcher, TOOL_DIM)\n",
    "                \n",
    "        elif servicer.object_info_running.object_name==\"sofa\":\n",
    "            for snode_schedule_list in snode_schedule_list_sofa_all:\n",
    "                play_cleaning_schedule(ppline, sofa_surf, snode_schedule_list, mode_switcher, TOOL_DIM)\n",
    "                \n",
    "        servicer.mark_task_finished()"
   ]
  },
  {
   "cell_type": "code",
   "execution_count": null,
   "metadata": {},
   "outputs": [],
   "source": []
  },
  {
   "cell_type": "markdown",
   "metadata": {},
   "source": [
    "# Edit schedule"
   ]
  },
  {
   "cell_type": "code",
   "execution_count": 26,
   "metadata": {},
   "outputs": [],
   "source": [
    "def print_shcedule_list_info(name, snode_schedule_list_all):\n",
    "    print(\"=\"*11+\" \"+name+\" \"+\"=\"*11)\n",
    "    print(\"{} face count: {}\".format(name, len(snode_schedule_list_all)))\n",
    "    for i_face, snode_schedule_list_face in enumerate(snode_schedule_list_all):\n",
    "        print(\" face {} location count: {}\".format(i_face, len(snode_schedule_list_face)))\n",
    "        for i_loc, snode_schedule_loc in enumerate(snode_schedule_list_face):\n",
    "            print(\"  loc {} snode count: {}\".format(i_loc, len(snode_schedule_loc)))\n",
    "            for i_s, snode in enumerate(snode_schedule_loc):\n",
    "                if snode.traj is not None:\n",
    "                    print(\"  snode {} traj length: {}\".format(i_s, len(snode.traj)))\n",
    "    print(\"=\"*(24+len(name)))\n",
    "    \n",
    "def print_difference(Q, DQ):\n",
    "    print(\"original: {}\".format(np.round(brush_face.get_tf_handle(Q, from_link=ROBOT_BASE)[:3,3], 3)))\n",
    "    print(\"changed : {}\".format(np.round(brush_face.get_tf_handle(Q+DQ, from_link=ROBOT_BASE)[:3,3], 3)))\n",
    "\n",
    "def print_traj_change(traj, DQ_i, DQ_e):\n",
    "    print(\"init\")\n",
    "    print_difference(traj[0], DQ_i)\n",
    "    print(\"end\")\n",
    "    print_difference(traj[-1], DQ_e)\n",
    "\n",
    "def update_traj_start_end(traj, DQ_i, DQ_e):\n",
    "    len_traj = len(traj)\n",
    "    traj_add = np.multiply((np.arange(len_traj, dtype=float)/(len_traj-1))[:,np.newaxis],\n",
    "                           np.subtract(DQ_e, DQ_i)[np.newaxis, :])+np.array(DQ_i)[np.newaxis,:]\n",
    "    return np.add(traj, traj_add)\n",
    "\n",
    "def print_traj_ie(traj):\n",
    "    print(\"initial: {}\".format(np.round(brush_face.get_tf_handle(traj[0], from_link=ROBOT_BASE)[:3,3], 3)))\n",
    "    print(\"end    : {}\".format(np.round(brush_face.get_tf_handle(traj[-1], from_link=ROBOT_BASE)[:3,3], 3)))\n",
    "    \n",
    "def plot_compare_traj(traj1, traj2):\n",
    "    plt.figure(figsize=(15,4))\n",
    "    plt.subplot(1,3,1)\n",
    "    plt.title(\"original\")\n",
    "    plt.plot(traj1)\n",
    "    plt.subplot(1,3,2)\n",
    "    plt.title(\"changed\")\n",
    "    plt.plot(traj2)\n",
    "    plt.subplot(1,3,3)\n",
    "    plt.title(\"difference\")\n",
    "    plt.plot(traj2-traj1)"
   ]
  },
  {
   "cell_type": "code",
   "execution_count": 17,
   "metadata": {},
   "outputs": [
    {
     "name": "stdout",
     "output_type": "stream",
     "text": [
      "=========== table ===========\n",
      "table face count: 1\n",
      " face 0 location count: 2\n",
      "  loc 0 snode count: 7\n",
      "  snode 1 traj length: 389\n",
      "  snode 2 traj length: 1430\n",
      "  snode 4 traj length: 308\n",
      "  snode 5 traj length: 1260\n",
      "  snode 6 traj length: 320\n",
      "  loc 1 snode count: 7\n",
      "  snode 1 traj length: 326\n",
      "  snode 2 traj length: 1215\n",
      "  snode 4 traj length: 426\n",
      "  snode 5 traj length: 1200\n",
      "  snode 6 traj length: 278\n",
      "=============================\n",
      "=========== sofa ===========\n",
      "sofa face count: 0\n",
      "============================\n"
     ]
    }
   ],
   "source": [
    "print_shcedule_list_info(\"table\", snode_schedule_list_table_all)\n",
    "print_shcedule_list_info(\"sofa\", snode_schedule_list_sofa_all)"
   ]
  },
  {
   "cell_type": "markdown",
   "metadata": {},
   "source": [
    "### pick specific sweep action"
   ]
  },
  {
   "cell_type": "code",
   "execution_count": 18,
   "metadata": {},
   "outputs": [],
   "source": [
    "snode_schedule_list_all = snode_schedule_list_table_all\n",
    "i_face, i_loc = 0,0\n",
    "i_aproc, i_swp, i_leav = 1,2,4\n",
    "\n",
    "\n",
    "snode_schedule_list_face = snode_schedule_list_all[i_face]\n",
    "snode_schedule_loc = snode_schedule_list_face[i_loc]\n",
    "snode_approach = snode_schedule_loc[i_aproc]\n",
    "snode_sweep = snode_schedule_loc[i_swp]\n",
    "snode_leave = snode_schedule_loc[i_leav]\n",
    "traj_approach = snode_approach.traj\n",
    "traj_sweep = snode_sweep.traj\n",
    "traj_leave = snode_leave.traj"
   ]
  },
  {
   "cell_type": "code",
   "execution_count": 19,
   "metadata": {},
   "outputs": [],
   "source": [
    "gscene.show_motion(traj_approach, period=0.001)"
   ]
  },
  {
   "cell_type": "code",
   "execution_count": 20,
   "metadata": {},
   "outputs": [],
   "source": [
    "gscene.show_motion(traj_sweep, period=0.001)"
   ]
  },
  {
   "cell_type": "code",
   "execution_count": 21,
   "metadata": {},
   "outputs": [],
   "source": [
    "gscene.show_motion(traj_leave, period=0.001)"
   ]
  },
  {
   "cell_type": "markdown",
   "metadata": {},
   "source": [
    "### Check change and calculate new sweep traj"
   ]
  },
  {
   "cell_type": "code",
   "execution_count": 22,
   "metadata": {},
   "outputs": [],
   "source": [
    "DQ_i = [0]*6+[0, 0.06, -0.06, 0, 0, 0, 0]\n",
    "DQ_e = [0]*6+[0, 0.0, 0.0, 0, 0, 0, 0]"
   ]
  },
  {
   "cell_type": "code",
   "execution_count": 23,
   "metadata": {},
   "outputs": [
    {
     "name": "stdout",
     "output_type": "stream",
     "text": [
      "init\n",
      "original: [1.005 0.097 0.323]\n",
      "changed : [0.99  0.089 0.344]\n",
      "end\n",
      "original: [0.705 0.097 0.323]\n",
      "changed : [0.705 0.097 0.323]\n"
     ]
    }
   ],
   "source": [
    "print_traj_change(traj_sweep, DQ_i, DQ_e)"
   ]
  },
  {
   "cell_type": "code",
   "execution_count": 24,
   "metadata": {},
   "outputs": [],
   "source": [
    "traj_new = update_traj_start_end(traj_sweep, DQ_i, DQ_e)"
   ]
  },
  {
   "cell_type": "code",
   "execution_count": 27,
   "metadata": {},
   "outputs": [
    {
     "name": "stdout",
     "output_type": "stream",
     "text": [
      "initial: [0.99  0.089 0.344]\n",
      "end    : [0.705 0.097 0.323]\n"
     ]
    },
    {
     "data": {
      "image/png": "[encoded data removed]",
      "text/plain": [
       "<Figure size 1080x288 with 3 Axes>"
      ]
     },
     "metadata": {
      "needs_background": "light"
     },
     "output_type": "display_data"
    }
   ],
   "source": [
    "print_traj_ie(traj_new)\n",
    "plot_compare_traj(traj_sweep, traj_new)"
   ]
  },
  {
   "cell_type": "markdown",
   "metadata": {},
   "source": [
    "### Apply new change and check transition error"
   ]
  },
  {
   "cell_type": "code",
   "execution_count": 28,
   "metadata": {},
   "outputs": [],
   "source": [
    "snode_approach.set_traj(update_traj_start_end(snode_approach.traj, [0]*13, DQ_i))\n",
    "snode_sweep.set_traj(update_traj_start_end(snode_sweep.traj, DQ_i, DQ_e))\n",
    "snode_leave.set_traj(update_traj_start_end(snode_leave.traj, DQ_e, [0]*13))\n",
    "\n",
    "assert np.all(snode_approach.traj[-1]-snode_sweep.traj[0]<1e-6), \"approach mismatch\"\n",
    "assert np.all(snode_sweep.traj[-1]-snode_leave.traj[0]<1e-6), \"leave mismatch\""
   ]
  },
  {
   "cell_type": "code",
   "execution_count": 29,
   "metadata": {},
   "outputs": [],
   "source": []
  },
  {
   "cell_type": "markdown",
   "metadata": {},
   "source": [
    "# Save updated schedule"
   ]
  },
  {
   "cell_type": "code",
   "execution_count": null,
   "metadata": {},
   "outputs": [],
   "source": [
    "save_schedules(snode_schedule_list_table_all, snode_schedule_list_sofa_all)"
   ]
  }
 ],
 "metadata": {
  "kernelspec": {
   "display_name": "Python 2",
   "language": "python",
   "name": "python2"
  },
  "language_info": {
   "codemirror_mode": {
    "name": "ipython",
    "version": 2
   },
   "file_extension": ".py",
   "mimetype": "text/x-python",
   "name": "python",
   "nbconvert_exporter": "python",
   "pygments_lexer": "ipython2",
   "version": "2.7.17"
  }
 },
 "nbformat": 4,
 "nbformat_minor": 2
}
