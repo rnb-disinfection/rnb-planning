{
 "cells": [
  {
   "cell_type": "code",
   "execution_count": 1,
   "metadata": {},
   "outputs": [],
   "source": [
    "import os\n",
    "import sys\n",
    "sys.path.append(os.path.join(os.environ[\"RNB_PLANNING_DIR\"], 'src'))\n",
    "\n",
    "from pkg.global_config import RNB_PLANNING_DIR\n",
    "from pkg.utils.utils import *    \n",
    "from pkg.controller.combined_robot import *\n",
    "from pkg.project_config import *"
   ]
  },
  {
   "cell_type": "code",
   "execution_count": 2,
   "metadata": {},
   "outputs": [],
   "source": [
    "CONNECT_INDY = False\n",
    "\n",
    "MOBILE_IP = \"192.168.0.102\"\n",
    "INDY_IP = \"192.168.0.3\""
   ]
  },
  {
   "cell_type": "code",
   "execution_count": 3,
   "metadata": {},
   "outputs": [
    {
     "name": "stdout",
     "output_type": "stream",
     "text": [
      "connection command:\n",
      "kmb0: False\n",
      "indy1: False\n",
      "Please create a subscriber to the marker\n",
      "publication OK\n",
      "published: [0, 0, 0, 0, 0, 0, 0, 0, 0, 0, 0, 0]\n"
     ]
    }
   ],
   "source": [
    "crob = CombinedRobot(robots_on_scene=[\n",
    "    RobotConfig(0, RobotType.kmb, ((0,0,0), (0,0,0)),\n",
    "                MOBILE_IP),\n",
    "    RobotConfig(1, RobotType.indy7, ((0.172,0,0.439), (0,0,np.pi)),\n",
    "                INDY_IP, root_on=\"kmb0_platform\", specs={\"no_sdk\":True})]\n",
    "              , connection_list=[False, CONNECT_INDY])\n",
    "\n",
    "from pkg.geometry.builder.scene_builder import SceneBuilder\n",
    "s_builder = SceneBuilder(None)\n",
    "# s_builder.reset_reference_coord(ref_name=\"floor\")\n",
    "# xyz_rpy_robots = s_builder.detect_items(level_mask=[DetectionLevel.ROBOT])\n",
    "# xyz_rpy_robots = {\"kmb0\": ((0,0,0), (0,0,0)), \"indy1\": ((0,0,0), (0,0,np.pi))}\n",
    "# crob.update_robot_pos_dict(xyz_rpy_robots=xyz_rpy_robots)\n",
    "gscene = s_builder.create_gscene(crob)\n",
    "gscene.show_pose(-crob.home_pose)"
   ]
  },
  {
   "cell_type": "code",
   "execution_count": 4,
   "metadata": {},
   "outputs": [],
   "source": [
    "# gscene.show_pose(-crob.home_pose + ([0.2,0.2,np.pi/3,]+[0]*6))"
   ]
  },
  {
   "cell_type": "markdown",
   "metadata": {},
   "source": [
    "## set workspace"
   ]
  },
  {
   "cell_type": "code",
   "execution_count": 5,
   "metadata": {},
   "outputs": [
    {
     "name": "stdout",
     "output_type": "stream",
     "text": [
      "Please create a subscriber to the marker\n"
     ]
    }
   ],
   "source": [
    "gscene.set_workspace_boundary( -5, 5, -4, 4, -0.1, 1.75)"
   ]
  },
  {
   "cell_type": "code",
   "execution_count": null,
   "metadata": {},
   "outputs": [],
   "source": []
  },
  {
   "cell_type": "markdown",
   "metadata": {},
   "source": [
    "## define robot and planning scene"
   ]
  },
  {
   "cell_type": "code",
   "execution_count": 6,
   "metadata": {},
   "outputs": [],
   "source": [
    "from pkg.planning.scene import *\n",
    "from demo_utils.environment import *\n",
    "\n",
    "CHAIR_NAME = \"chair0\"\n",
    "CHAIR_DIM = (0.4,0.4,0.5)\n",
    "\n",
    "MOBILE_NAME = \"kmb0\"\n",
    "HOLD_LINK = \"kmb0_platform\"\n",
    "HOLD_XYZ = (0.445 + 0.35, 0, CHAIR_DIM[2]/2)\n",
    "HOLD_RPY = (0, -np.pi/2, -np.pi/2)\n",
    "HOLD_NAME = \"hold0\"\n",
    "\n",
    "ROBOT_NAME = \"indy1\"\n",
    "TOOL_LINK = \"indy1_tcp\"\n",
    "TOOL_NAME = \"brush_face\"\n",
    "\n",
    "HOME_POSE = -crob.home_pose\n",
    "HOME_DICT = list2dict(HOME_POSE, gscene.joint_names)\n",
    "\n",
    "gtems_robot = s_builder.add_robot_geometries(color=(0, 1, 0, 0.5), display=True, collision=True)\n",
    "viewpoint = add_cam(gscene, tool_link=TOOL_LINK)\n",
    "add_indy_tool_kiro(gscene, tool_link=TOOL_LINK, face_name=TOOL_NAME, zoff=-0.04)\n",
    "\n",
    "pscene = PlanningScene(gscene, combined_robot=crob)"
   ]
  },
  {
   "cell_type": "code",
   "execution_count": null,
   "metadata": {},
   "outputs": [],
   "source": []
  },
  {
   "cell_type": "markdown",
   "metadata": {},
   "source": [
    "## planning pipeline"
   ]
  },
  {
   "cell_type": "code",
   "execution_count": 7,
   "metadata": {},
   "outputs": [
    {
     "name": "stdout",
     "output_type": "stream",
     "text": [
      "Dash is running on http://0.0.0.0:8050/\n",
      "\n",
      " * Serving Flask app \"pkg.ui.dash_launcher\" (lazy loading)\n"
     ]
    }
   ],
   "source": [
    "\n",
    "from pkg.planning.pipeline import PlanningPipeline\n",
    "ppline = PlanningPipeline(pscene)\n",
    "\n",
    "\n",
    "from pkg.ui.ui_broker import *\n",
    "\n",
    "# start UI\n",
    "ui_broker = UIBroker.instance()\n",
    "ui_broker.initialize(ppline, s_builder)\n",
    "ui_broker.start_server()\n",
    "\n",
    "ui_broker.set_tables()"
   ]
  },
  {
   "cell_type": "code",
   "execution_count": 8,
   "metadata": {},
   "outputs": [
    {
     "name": "stdout",
     "output_type": "stream",
     "text": [
      " * Environment: production\n",
      "   WARNING: This is a development server. Do not use it in a production deployment.\n",
      "   Use a production WSGI server instead.\n"
     ]
    }
   ],
   "source": [
    "from pkg.planning.motion.moveit.moveit_planner import MoveitPlanner\n",
    "from pkg.planning.filtering.grasp_filter import GraspChecker\n",
    "mplan = MoveitPlanner(pscene, enable_dual=False)\n",
    "mplan.motion_filters = [GraspChecker(pscene)]"
   ]
  },
  {
   "cell_type": "code",
   "execution_count": null,
   "metadata": {},
   "outputs": [],
   "source": []
  },
  {
   "cell_type": "markdown",
   "metadata": {},
   "source": [
    "## Add action points"
   ]
  },
  {
   "cell_type": "code",
   "execution_count": 9,
   "metadata": {},
   "outputs": [
    {
     "name": "stdout",
     "output_type": "stream",
     "text": [
      " * Debug mode: off\n"
     ]
    }
   ],
   "source": [
    "from pkg.planning.constraint.constraint_common import *\n",
    "from pkg.planning.constraint.constraint_subject import *\n",
    "from pkg.planning.constraint.constraint_actor import *"
   ]
  },
  {
   "cell_type": "code",
   "execution_count": 10,
   "metadata": {},
   "outputs": [],
   "source": [
    "CLEARANCE = 0.001\n",
    "# floor\n",
    "gscene.create_safe(gtype=GEOTYPE.BOX, name=\"floor\", link_name=\"base_link\",\n",
    "                   dims=(10,8,0.1), center=(0,0,-0.05-CLEARANCE), \n",
    "                   rpy=(0,0,0), color=(0.9, 0.9, 0.9, 0.9), display=True,\n",
    "                   collision=True, fixed=True)\n",
    "floor = pscene.create_binder(bname=\"floor\", gname=\"floor\", _type=PlacePlane, point=None)\n",
    "\n",
    "# table\n",
    "gscene.create_safe(gtype=GEOTYPE.BOX, name=\"table\", link_name=\"base_link\",\n",
    "                   dims=(2,0.7,0.5), center=(2,0,0.25), \n",
    "                   rpy=(0,0,0), color=(0.9, 0.9, 0.9, 0.9), display=True,\n",
    "                   collision=True, fixed=True)\n",
    "\n",
    "# brush_face = pscene.create_binder(bname=\"brush_face\", gname=\"brush_face\", _type=SweepFramer, \n",
    "#                                   point=(-gscene.NAME_DICT['brush_face'].dims[0]/2,0,0), rpy=(0,np.pi/2*1,0))\n",
    "\n",
    "# waypoint\n",
    "WP_DIMS = (0.6,0.4,0.1)\n",
    "gscene.create_safe(gtype=GEOTYPE.BOX, name=\"wayframer\", link_name=HOLD_LINK,\n",
    "                   dims=WP_DIMS, center=(0,0,WP_DIMS[2]/2), rpy=(0,0,0), color=(1, 0, 0, 0.5), display=True,\n",
    "                   collision=False, fixed=True)\n",
    "wayframer = pscene.create_binder(bname=\"wayframer\", gname=\"wayframer\", _type=WayFramer, \n",
    "                                 point=(0,0,-WP_DIMS[2]/2), rpy=(0,0,0))\n",
    "\n",
    "\n",
    "waypoints = [((2-0.5,-1,0),(0,0,np.pi/2)), ((2+0.5,-1,0),(0,0,np.pi/2)), ((2+0.5,1,0),(0,0,-np.pi/2)), ((2-0.5,1,0),(0,0,-np.pi/2))]\n",
    "wp_list = []\n",
    "for i_w, (xyz, rpy) in enumerate(waypoints):\n",
    "    wp_list.append(\n",
    "        gscene.create_safe(gtype=GEOTYPE.BOX, name=\"wp_{}\".format(i_w), link_name=\"base_link\",\n",
    "                           dims=WP_DIMS, center=xyz, \n",
    "                           rpy=rpy, color=(0.6, 0.0, 0.0, 0.5), display=True, collision=False, fixed=True, parent=\"floor\")\n",
    "    )\n",
    "wp_task = pscene.create_subject(oname=\"waypoints\", gname=\"floor\", _type=WayopintTask, \n",
    "                                action_points_dict={wp.name: WayFrame(wp.name, wp, [0,0,0.05], [0,0,0]) for wp in wp_list})\n",
    "\n",
    "\n",
    "# chair holder\n",
    "gscene.create_safe(gtype=GEOTYPE.SPHERE, name=HOLD_NAME, link_name=HOLD_LINK,\n",
    "                   dims=(0.01,) * 3, center=HOLD_XYZ, rpy=HOLD_RPY, color=(1, 0, 0, 0.5), display=True,\n",
    "                   collision=False,\n",
    "                   fixed=True)\n",
    "holder = pscene.create_binder(bname=HOLD_NAME, gname=HOLD_NAME, _type=Gripper2Tool, point=(0, 0, 0), rpy=(0, 0, 0))\n",
    "holder.redundancy = {}"
   ]
  },
  {
   "cell_type": "code",
   "execution_count": null,
   "metadata": {},
   "outputs": [],
   "source": []
  },
  {
   "cell_type": "markdown",
   "metadata": {},
   "source": [
    "## Add chair"
   ]
  },
  {
   "cell_type": "code",
   "execution_count": 11,
   "metadata": {},
   "outputs": [],
   "source": [
    "chair_loc = (1, -1, CHAIR_DIM[2]/2)\n",
    "\n",
    "obs_all = 3\n",
    "gscene.create_safe(gtype=GEOTYPE.CYLINDER, name=CHAIR_NAME, link_name=\"base_link\",\n",
    "                   dims=CHAIR_DIM, center=chair_loc, rpy=(0,0,0),\n",
    "                   color=(1,1,0,1), display=True, collision=True, fixed=False)\n",
    "chair = pscene.create_subject(oname=CHAIR_NAME, gname=CHAIR_NAME, _type=CylinderObject, \n",
    "                              GRASP_WIDTH_MIN=CHAIR_DIM[0]-0.1, GRASP_WIDTH_MAX=CHAIR_DIM[0]+0.1, \n",
    "                              GRASP_DEPTH_MIN=CHAIR_DIM[0]/2, GRASP_DEPTH_MAX=CHAIR_DIM[0]/2)\n",
    "chair.action_points_dict[CHAIR_NAME+\"_side_g\"].redundancy = {'u': (-np.pi, np.pi)}"
   ]
  },
  {
   "cell_type": "code",
   "execution_count": null,
   "metadata": {},
   "outputs": [],
   "source": []
  },
  {
   "cell_type": "markdown",
   "metadata": {},
   "source": [
    "## [Test] move chair to cover waypoints"
   ]
  },
  {
   "cell_type": "code",
   "execution_count": 12,
   "metadata": {},
   "outputs": [],
   "source": [
    "initial_state = pscene.initialize_state(-crob.home_pose)\n",
    "goal_nodes = [('floor',)+(4,)]"
   ]
  },
  {
   "cell_type": "code",
   "execution_count": 33,
   "metadata": {
    "scrolled": true
   },
   "outputs": [
    {
     "name": "stdout",
     "output_type": "stream",
     "text": [
      "try: 0 - ('floor', 0)->('floor', 1)\n",
      "Motion Filer Failure: GraspChecker\n",
      "result: 0 - ('floor', 0)->('floor', 1) = fail\n",
      "try: 0 - ('floor', 0)->('hold0', 0)\n",
      "try transition motion\n",
      "transition motion tried: True\n",
      "result: 0 - ('floor', 0)->('hold0', 0) = success\n",
      "branching: 0->1 (0.1/5.0 s, steps/err: 54(94.2778587341 ms)/0.00216936214447)\n",
      "======================================================================================================================================================\n",
      "try: 1 - ('hold0', 0)->('hold0', 1)\n",
      "Motion Filer Failure: GraspChecker\n",
      "result: 1 - ('hold0', 0)->('hold0', 1) = fail\n",
      "try: 1 - ('hold0', 0)->('hold0', 1)\n",
      "Motion Filer Failure: GraspChecker\n",
      "result: 1 - ('hold0', 0)->('hold0', 1) = fail\n",
      "try: 1 - ('hold0', 0)->('floor', 0)\n",
      "try transition motion\n",
      "transition motion tried: True\n",
      "result: 1 - ('hold0', 0)->('floor', 0) = success\n",
      "branching: 1->2 (0.17/5.0 s, steps/err: 42(61.6700649261 ms)/0.000676165672198)\n",
      "======================================================================================================================================================\n",
      "try: 2 - ('floor', 0)->('floor', 1)\n",
      "try transition motion\n",
      "transition motion tried: True\n",
      "result: 2 - ('floor', 0)->('floor', 1) = success\n",
      "branching: 2->3 (0.28/5.0 s, steps/err: 47(102.596998215 ms)/0.00138880878694)\n",
      "======================================================================================================================================================\n",
      "try: 3 - ('floor', 1)->('floor', 2)\n",
      "try transition motion\n",
      "transition motion tried: True\n",
      "result: 3 - ('floor', 1)->('floor', 2) = success\n",
      "branching: 3->4 (0.32/5.0 s, steps/err: 9(41.2199497223 ms)/0.00134280471426)\n",
      "======================================================================================================================================================\n",
      "try: 4 - ('floor', 2)->('floor', 3)\n",
      "try transition motion\n",
      "transition motion tried: True\n",
      "result: 4 - ('floor', 2)->('floor', 3) = success\n",
      "branching: 4->5 (0.43/5.0 s, steps/err: 127(111.506938934 ms)/0.00143568605654)\n",
      "======================================================================================================================================================\n",
      "try: 5 - ('floor', 3)->('floor', 4)\n",
      "try transition motion\n",
      "transition motion tried: True\n",
      "result: 5 - ('floor', 3)->('floor', 4) = success\n",
      "branching: 5->6 (0.49/5.0 s, steps/err: 9(55.3479194641 ms)/0.000367710703313)\n",
      "======================================================================================================================================================\n",
      "try: 4 - ('floor', 2)->('hold0', 2)\n",
      "try transition motion\n",
      "transition motion tried: True\n",
      "result: 4 - ('floor', 2)->('hold0', 2) = success\n",
      "branching: 4->7 (0.54/5.0 s, steps/err: 36(52.6809692383 ms)/0.00185624182773)\n",
      "======================================================================================================================================================\n",
      "try: 5 - ('floor', 3)->('hold0', 3)\n",
      "try transition motion\n",
      "transition motion tried: True\n",
      "result: 5 - ('floor', 3)->('hold0', 3) = success\n",
      "branching: 5->8 (0.67/5.0 s, steps/err: 89(125.756025314 ms)/0.00182961254211)\n",
      "======================================================================================================================================================\n",
      "try: 3 - ('floor', 1)->('hold0', 1)\n",
      "try transition motion\n",
      "transition motion tried: True\n",
      "reserve 9 -> 7\n",
      "result: 3 - ('floor', 1)->('hold0', 1) = success\n",
      "branching: 3->9 (0.74/5.0 s, steps/err: 57(77.9750347137 ms)/0.00137065428439)\n",
      "======================================================================================================================================================\n",
      "try: 9 - ('hold0', 1)->('hold0', 2)\n",
      "Motion Filer Failure: GraspChecker\n",
      "result: 9 - ('hold0', 1)->('hold0', 2) = fail\n",
      "try: 8 - ('hold0', 3)->('hold0', 4)\n",
      "Motion Filer Failure: GraspChecker\n",
      "result: 8 - ('hold0', 3)->('hold0', 4) = fail\n",
      "try: 8 - ('hold0', 3)->('floor', 3)\n",
      "try transition motion\n",
      "transition motion tried: True\n",
      "result: 8 - ('hold0', 3)->('floor', 3) = success\n",
      "branching: 8->10 (0.85/5.0 s, steps/err: 42(99.1911888123 ms)/0.00125659313864)\n",
      "======================================================================================================================================================\n",
      "try: 10 - ('floor', 3)->('floor', 4)\n",
      "try transition motion\n",
      "transition motion tried: True\n",
      "result: 10 - ('floor', 3)->('floor', 4) = success\n",
      "branching: 10->11 (0.98/5.0 s, steps/err: 51(127.589941025 ms)/0.00154351343574)\n",
      "======================================================================================================================================================\n",
      "try: 11 - ('floor', 4)->('hold0', 4)\n",
      "try transition motion\n",
      "transition motion tried: True\n",
      "result: 11 - ('floor', 4)->('hold0', 4) = success\n",
      "branching: 11->12 (1.09/5.0 s, steps/err: 63(106.339931488 ms)/0.00216856475173)\n",
      "======================================================================================================================================================\n",
      "try: 12 - ('hold0', 4)->('floor', 4)\n",
      "try transition motion\n",
      "transition motion tried: True\n",
      "result: 12 - ('hold0', 4)->('floor', 4) = success\n",
      "branching: 12->13 (1.23/5.0 s, steps/err: 61(135.386943817 ms)/0.00142944477003)\n",
      "======================================================================================================================================================\n",
      "try: 7 - ('hold0', 2)->('floor', 2)\n",
      "try transition motion\n",
      "transition motion tried: True\n",
      "reserve 14 -> 10\n",
      "result: 7 - ('hold0', 2)->('floor', 2) = success\n",
      "branching: 7->14 (1.3/5.0 s, steps/err: 20(76.6651630402 ms)/0.00148791420068)\n",
      "======================================================================================================================================================\n",
      "try: 14 - ('floor', 2)->('floor', 3)\n",
      "try transition motion\n",
      "transition motion tried: True\n",
      "result: 14 - ('floor', 2)->('floor', 3) = success\n",
      "branching: 14->15 (1.41/5.0 s, steps/err: 83(100.743055344 ms)/0.0015902573653)\n",
      "======================================================================================================================================================\n",
      "try: 14 - ('floor', 2)->('floor', 3)\n",
      "try transition motion\n",
      "transition motion tried: True\n",
      "result: 14 - ('floor', 2)->('floor', 3) = success\n",
      "branching: 14->16 (1.57/5.0 s, steps/err: 97(168.982028961 ms)/0.00134639552323)\n",
      "======================================================================================================================================================\n",
      "try: 15 - ('floor', 3)->('floor', 4)\n",
      "try transition motion\n",
      "transition motion tried: True\n",
      "result: 15 - ('floor', 3)->('floor', 4) = success\n",
      "branching: 15->17 (1.63/5.0 s, steps/err: 9(50.7009029388 ms)/0.00166354165535)\n",
      "======================================================================================================================================================\n",
      "try: 16 - ('floor', 3)->('floor', 4)\n",
      "try transition motion\n",
      "transition motion tried: True\n",
      "result: 16 - ('floor', 3)->('floor', 4) = success\n",
      "branching: 16->18 (1.69/5.0 s, steps/err: 9(60.9679222107 ms)/0.00112424071301)\n",
      "======================================================================================================================================================\n",
      "try: 2 - ('floor', 0)->('hold0', 0)\n",
      "try transition motion\n",
      "transition motion tried: True\n",
      "reserve 19 -> 9\n",
      "result: 2 - ('floor', 0)->('hold0', 0) = success\n",
      "branching: 2->19 (1.74/5.0 s, steps/err: 30(56.6129684448 ms)/0.000873094157083)\n",
      "======================================================================================================================================================\n",
      "try: 19 - ('hold0', 0)->('hold0', 1)\n",
      "Motion Filer Failure: GraspChecker\n",
      "result: 19 - ('hold0', 0)->('hold0', 1) = fail\n",
      "try: 7 - ('hold0', 2)->('hold0', 3)\n",
      "Motion Filer Failure: GraspChecker\n",
      "result: 7 - ('hold0', 2)->('hold0', 3) = fail\n",
      "try: 17 - ('floor', 4)->('hold0', 4)\n",
      "try transition motion\n",
      "transition motion tried: True\n",
      "result: 17 - ('floor', 4)->('hold0', 4) = success\n",
      "branching: 17->20 (1.84/5.0 s, steps/err: 68(80.2578926086 ms)/0.00147866063344)\n",
      "======================================================================================================================================================\n",
      "try: 20 - ('hold0', 4)->('floor', 4)\n",
      "try transition motion\n",
      "transition motion tried: True\n",
      "result: 20 - ('hold0', 4)->('floor', 4) = success\n",
      "branching: 20->21 (1.94/5.0 s, steps/err: 72(103.370189667 ms)/0.000979234951733)\n",
      "======================================================================================================================================================\n",
      "try: 9 - ('hold0', 1)->('hold0', 2)\n",
      "Motion Filer Failure: GraspChecker\n",
      "result: 9 - ('hold0', 1)->('hold0', 2) = fail\n",
      "try: 19 - ('hold0', 0)->('floor', 0)\n",
      "try transition motion\n",
      "transition motion tried: True\n",
      "result: 19 - ('hold0', 0)->('floor', 0) = success\n",
      "branching: 19->22 (2.01/5.0 s, steps/err: 71(69.5791244507 ms)/0.00172558306569)\n",
      "======================================================================================================================================================\n",
      "try: 22 - ('floor', 0)->('floor', 1)\n",
      "try transition motion\n"
     ]
    },
    {
     "name": "stdout",
     "output_type": "stream",
     "text": [
      "transition motion tried: True\n",
      "reserve 23 -> 14\n",
      "result: 22 - ('floor', 0)->('floor', 1) = success\n",
      "branching: 22->23 (2.11/5.0 s, steps/err: 68(93.0738449097 ms)/0.0011499285499)\n",
      "======================================================================================================================================================\n",
      "try: 23 - ('floor', 1)->('floor', 2)\n",
      "try transition motion\n",
      "transition motion tried: True\n",
      "reserve 24 -> 10\n",
      "reserve 24 -> 15\n",
      "result: 23 - ('floor', 1)->('floor', 2) = success\n",
      "branching: 23->24 (2.16/5.0 s, steps/err: 9(49.7481822968 ms)/0.00128041819466)\n",
      "======================================================================================================================================================\n",
      "try: 24 - ('floor', 2)->('floor', 3)\n",
      "try transition motion\n",
      "transition motion tried: True\n",
      "result: 24 - ('floor', 2)->('floor', 3) = success\n",
      "branching: 24->25 (2.29/5.0 s, steps/err: 82(131.675004959 ms)/0.0013696710899)\n",
      "======================================================================================================================================================\n",
      "try: 24 - ('floor', 2)->('floor', 3)\n",
      "try transition motion\n",
      "transition motion tried: True\n",
      "result: 24 - ('floor', 2)->('floor', 3) = success\n",
      "branching: 24->26 (2.4/5.0 s, steps/err: 81(105.46207428 ms)/0.00163815408942)\n",
      "======================================================================================================================================================\n",
      "try: 25 - ('floor', 3)->('floor', 4)\n",
      "try transition motion\n",
      "transition motion tried: True\n",
      "result: 25 - ('floor', 3)->('floor', 4) = success\n",
      "branching: 25->27 (2.47/5.0 s, steps/err: 9(75.8509635925 ms)/0.000996528527292)\n",
      "======================================================================================================================================================\n",
      "try: 26 - ('floor', 3)->('floor', 4)\n",
      "try transition motion\n",
      "transition motion tried: True\n",
      "result: 26 - ('floor', 3)->('floor', 4) = success\n",
      "branching: 26->28 (2.56/5.0 s, steps/err: 9(89.6339416504 ms)/0.0018276850997)\n",
      "======================================================================================================================================================\n",
      "try: 25 - ('floor', 3)->('hold0', 3)\n",
      "try transition motion\n",
      "transition motion tried: False\n",
      "Motion Plan Failure\n",
      "result: 25 - ('floor', 3)->('hold0', 3) = fail\n",
      "try: 9 - ('hold0', 1)->('hold0', 2)\n",
      "Motion Filer Failure: GraspChecker\n",
      "result: 9 - ('hold0', 1)->('hold0', 2) = fail\n",
      "try: 6 - ('floor', 4)->('hold0', 4)\n",
      "try transition motion\n",
      "transition motion tried: True\n",
      "result: 6 - ('floor', 4)->('hold0', 4) = success\n",
      "branching: 6->29 (3.17/5.0 s, steps/err: 52(82.7090740204 ms)/0.000816080295475)\n",
      "======================================================================================================================================================\n",
      "try: 29 - ('hold0', 4)->('floor', 4)\n",
      "try transition motion\n",
      "transition motion tried: True\n",
      "result: 29 - ('hold0', 4)->('floor', 4) = success\n",
      "branching: 29->30 (3.23/5.0 s, steps/err: 88(58.9089393616 ms)/0.00154778591239)\n",
      "======================================================================================================================================================\n",
      "try: 22 - ('floor', 0)->('hold0', 0)\n",
      "try transition motion\n",
      "transition motion tried: True\n",
      "result: 22 - ('floor', 0)->('hold0', 0) = success\n",
      "branching: 22->31 (3.46/5.0 s, steps/err: 89(233.007192612 ms)/0.00163727706027)\n",
      "======================================================================================================================================================\n",
      "try: 9 - ('hold0', 1)->('floor', 1)\n",
      "try transition motion\n",
      "transition motion tried: True\n",
      "reserve 32 -> 14\n",
      "reserve 32 -> 24\n",
      "result: 9 - ('hold0', 1)->('floor', 1) = success\n",
      "branching: 9->32 (3.56/5.0 s, steps/err: 58(100.168943405 ms)/0.00172382562254)\n",
      "======================================================================================================================================================\n",
      "try: 32 - ('floor', 1)->('floor', 2)\n",
      "try transition motion\n",
      "transition motion tried: True\n",
      "reserve 33 -> 10\n",
      "reserve 33 -> 15\n",
      "reserve 33 -> 25\n",
      "result: 32 - ('floor', 1)->('floor', 2) = success\n",
      "branching: 32->33 (3.62/5.0 s, steps/err: 33(55.6468963623 ms)/0.000845173964035)\n",
      "======================================================================================================================================================\n",
      "try: 32 - ('floor', 1)->('floor', 2)\n",
      "try transition motion\n",
      "transition motion tried: True\n",
      "reserve 34 -> 10\n",
      "reserve 34 -> 15\n",
      "reserve 34 -> 25\n",
      "result: 32 - ('floor', 1)->('floor', 2) = success\n",
      "branching: 32->34 (3.73/5.0 s, steps/err: 33(111.197948456 ms)/0.00144201792096)\n",
      "======================================================================================================================================================\n",
      "try: 32 - ('floor', 1)->('floor', 2)\n",
      "try transition motion\n",
      "transition motion tried: True\n",
      "reserve 35 -> 10\n",
      "reserve 35 -> 15\n",
      "reserve 35 -> 25\n",
      "result: 32 - ('floor', 1)->('floor', 2) = success\n",
      "branching: 32->35 (3.83/5.0 s, steps/err: 33(96.7700481415 ms)/0.000563606542609)\n",
      "======================================================================================================================================================\n",
      "try: 33 - ('floor', 2)->('floor', 3)\n",
      "try transition motion\n",
      "transition motion tried: True\n",
      "result: 33 - ('floor', 2)->('floor', 3) = success\n",
      "branching: 33->36 (3.94/5.0 s, steps/err: 83(111.8080616 ms)/0.00110004440173)\n",
      "======================================================================================================================================================\n",
      "try: 33 - ('floor', 2)->('floor', 3)\n",
      "try transition motion\n",
      "transition motion tried: True\n",
      "result: 33 - ('floor', 2)->('floor', 3) = success\n",
      "branching: 33->37 (4.08/5.0 s, steps/err: 88(135.697126389 ms)/0.000762816798379)\n",
      "======================================================================================================================================================\n",
      "try: 33 - ('floor', 2)->('floor', 3)\n",
      "try transition motion\n",
      "transition motion tried: True\n",
      "result: 33 - ('floor', 2)->('floor', 3) = success\n",
      "branching: 33->38 (4.17/5.0 s, steps/err: 80(92.3209190369 ms)/0.00106718783212)\n",
      "======================================================================================================================================================\n",
      "try: 34 - ('floor', 2)->('floor', 3)\n",
      "try transition motion\n",
      "transition motion tried: True\n",
      "result: 34 - ('floor', 2)->('floor', 3) = success\n",
      "branching: 34->39 (4.27/5.0 s, steps/err: 81(99.9178886414 ms)/0.0011708691279)\n",
      "======================================================================================================================================================\n",
      "try: 34 - ('floor', 2)->('floor', 3)\n",
      "try transition motion\n",
      "transition motion tried: True\n",
      "result: 34 - ('floor', 2)->('floor', 3) = success\n",
      "branching: 34->40 (4.36/5.0 s, steps/err: 78(91.2871360779 ms)/0.00134186685891)\n",
      "======================================================================================================================================================\n",
      "try: 34 - ('floor', 2)->('floor', 3)\n",
      "try transition motion\n",
      "transition motion tried: True\n",
      "result: 34 - ('floor', 2)->('floor', 3) = success\n",
      "branching: 34->41 (4.48/5.0 s, steps/err: 80(115.761041641 ms)/0.00167722551797)\n",
      "======================================================================================================================================================\n",
      "try: 35 - ('floor', 2)->('floor', 3)\n",
      "try transition motion\n",
      "transition motion tried: True\n",
      "result: 35 - ('floor', 2)->('floor', 3) = success\n",
      "branching: 35->42 (4.64/5.0 s, steps/err: 90(159.465074539 ms)/0.0014618713552)\n",
      "======================================================================================================================================================\n",
      "try: 35 - ('floor', 2)->('floor', 3)\n",
      "try transition motion\n",
      "transition motion tried: True\n",
      "result: 35 - ('floor', 2)->('floor', 3) = success\n",
      "branching: 35->43 (4.76/5.0 s, steps/err: 93(117.775201797 ms)/0.000977028379478)\n",
      "======================================================================================================================================================\n",
      "try: 35 - ('floor', 2)->('floor', 3)\n",
      "try transition motion\n",
      "transition motion tried: True\n",
      "result: 35 - ('floor', 2)->('floor', 3) = success\n",
      "branching: 35->44 (4.85/5.0 s, steps/err: 95(90.772151947 ms)/0.00180553126455)\n",
      "======================================================================================================================================================\n",
      "try: 36 - ('floor', 3)->('floor', 4)\n",
      "try transition motion\n",
      "transition motion tried: True\n",
      "result: 36 - ('floor', 3)->('floor', 4) = success\n",
      "branching: 36->45 (4.89/5.0 s, steps/err: 9(39.7551059723 ms)/0.00173105090607)\n",
      "======================================================================================================================================================\n",
      "try: 37 - ('floor', 3)->('floor', 4)\n",
      "try transition motion\n",
      "transition motion tried: True\n"
     ]
    },
    {
     "name": "stdout",
     "output_type": "stream",
     "text": [
      "result: 37 - ('floor', 3)->('floor', 4) = success\n",
      "branching: 37->46 (4.96/5.0 s, steps/err: 9(70.9829330444 ms)/0.00167564518259)\n",
      "======================================================================================================================================================\n",
      "try: 38 - ('floor', 3)->('floor', 4)\n",
      "try transition motion\n",
      "transition motion tried: True\n",
      "result: 38 - ('floor', 3)->('floor', 4) = success\n",
      "branching: 38->47 (5.01/5.0 s, steps/err: 9(52.3540973663 ms)/0.00109859753359)\n",
      "======================================================================================================================================================\n",
      "=========================================================================================================\n",
      "======================= terminated 0: max iteration time reached (1630530433/1630530428.51 s) ===============================\n",
      "=========================================================================================================\n",
      "('floor', 0)->('floor', 0)\n",
      "('floor', 0)->('hold0', 0)\n",
      "('hold0', 0)->('floor', 0)\n",
      "('floor', 0)->('floor', 1)\n",
      "('floor', 1)->('floor', 2)\n",
      "('floor', 2)->('hold0', 2)\n",
      "('hold0', 2)->('floor', 2)\n",
      "('floor', 2)->('floor', 3)\n",
      "('floor', 3)->('floor', 4)\n",
      "('floor', 4)->('floor', 4)\n"
     ]
    }
   ],
   "source": [
    "from pkg.planning.task.rrt_star import TaskRRTstar\n",
    "from pkg.planning.sampling.node_sampling import make_state_param_hashable, UniformNodeSampler, PenaltyNodeSampler, GrowingSampler\n",
    "\n",
    "\n",
    "tplan = TaskRRTstar(pscene)\n",
    "tplan.REWIND_MAX = 3\n",
    "tplan.new_node_sampler = PenaltyNodeSampler(3, 3)\n",
    "tplan.parent_node_sampler = UniformNodeSampler(3)\n",
    "ppline.set_motion_planner(mplan)\n",
    "ppline.set_task_planner(tplan)\n",
    "\n",
    "mplan.reset_log(True)\n",
    "\n",
    "ppline.search(initial_state, goal_nodes, verbose=True,\n",
    "              timeout=0.5, timeout_loop=5, multiprocess=False,\n",
    "              add_homing=3, home_pose=HOME_POSE, terminate_on_first=False)\n",
    "schedules = ppline.tplan.find_schedules(False)\n",
    "schedules_sorted = ppline.tplan.sort_schedule(schedules)\n",
    "snode_schedule = ppline.tplan.idxSchedule2SnodeScedule(schedules_sorted[0])\n",
    "snode_schedule_home = snode_schedule+ppline.add_return_motion(snode_schedule[-1], try_count=3, initial_state=initial_state)\n",
    "ppline.play_schedule(snode_schedule_home)\n"
   ]
  },
  {
   "cell_type": "code",
   "execution_count": 34,
   "metadata": {},
   "outputs": [
    {
     "data": {
      "text/plain": [
       "{13: [0, 1, 2, 3, 4, 5, 8, 10, 11, 12, 13],\n",
       " 18: [0, 1, 2, 3, 4, 7, 14, 16, 18],\n",
       " 21: [0, 1, 2, 3, 4, 7, 14, 15, 17, 20, 21],\n",
       " 27: [0, 1, 2, 19, 22, 23, 24, 25, 27],\n",
       " 28: [0, 1, 2, 19, 22, 23, 24, 26, 28],\n",
       " 30: [0, 1, 2, 3, 4, 5, 6, 29, 30],\n",
       " 45: [0, 1, 2, 3, 9, 32, 33, 36, 45],\n",
       " 46: [0, 1, 2, 3, 9, 32, 33, 37, 46],\n",
       " 47: [0, 1, 2, 3, 9, 32, 33, 38, 47]}"
      ]
     },
     "execution_count": 34,
     "metadata": {},
     "output_type": "execute_result"
    }
   ],
   "source": [
    "schedules"
   ]
  },
  {
   "cell_type": "code",
   "execution_count": 35,
   "metadata": {
    "scrolled": true
   },
   "outputs": [
    {
     "data": {
      "text/plain": [
       "[[0, 1, 2, 3, 4, 7, 14, 16, 18],\n",
       " [0, 1, 2, 19, 22, 23, 24, 26, 28],\n",
       " [0, 1, 2, 19, 22, 23, 24, 25, 27],\n",
       " [0, 1, 2, 3, 9, 32, 33, 38, 47],\n",
       " [0, 1, 2, 3, 4, 5, 6, 29, 30],\n",
       " [0, 1, 2, 3, 9, 32, 33, 36, 45],\n",
       " [0, 1, 2, 3, 9, 32, 33, 37, 46],\n",
       " [0, 1, 2, 3, 4, 7, 14, 15, 17, 20, 21],\n",
       " [0, 1, 2, 3, 4, 5, 8, 10, 11, 12, 13]]"
      ]
     },
     "execution_count": 35,
     "metadata": {},
     "output_type": "execute_result"
    }
   ],
   "source": [
    "schedules_sorted"
   ]
  },
  {
   "cell_type": "code",
   "execution_count": 15,
   "metadata": {},
   "outputs": [
    {
     "name": "stdout",
     "output_type": "stream",
     "text": [
      "('floor', 0)->('floor', 0)\n",
      "('floor', 0)->('hold0', 0)\n",
      "('hold0', 0)->('floor', 0)\n",
      "('floor', 0)->('floor', 1)\n",
      "('floor', 1)->('floor', 2)\n",
      "('floor', 2)->('floor', 3)\n",
      "('floor', 3)->('floor', 4)\n",
      "('floor', 4)->('floor', 4)\n"
     ]
    }
   ],
   "source": [
    "ppline.play_schedule(snode_schedule_home)"
   ]
  },
  {
   "cell_type": "code",
   "execution_count": 17,
   "metadata": {},
   "outputs": [],
   "source": [
    "hash_list = []\n",
    "hash_list.append(make_state_param_hashable(pscene, tplan.snode_dict[3].state, as_dict=False))\n",
    "hash_list.append(make_state_param_hashable(pscene, tplan.snode_dict[22].state, as_dict=False))\n",
    "hash_list.append(make_state_param_hashable(pscene, tplan.snode_dict[25].state, as_dict=False))"
   ]
  },
  {
   "cell_type": "code",
   "execution_count": 20,
   "metadata": {},
   "outputs": [
    {
     "name": "stdout",
     "output_type": "stream",
     "text": [
      "3\n"
     ]
    }
   ],
   "source": [
    "hset = set()\n",
    "for hv in hash_list:\n",
    "    if hv not in hset:\n",
    "        hset.add(hv)\n",
    "print(len(hset))"
   ]
  },
  {
   "cell_type": "code",
   "execution_count": 19,
   "metadata": {},
   "outputs": [
    {
     "data": {
      "text/plain": [
       "3"
      ]
     },
     "execution_count": 19,
     "metadata": {},
     "output_type": "execute_result"
    }
   ],
   "source": []
  },
  {
   "cell_type": "code",
   "execution_count": null,
   "metadata": {},
   "outputs": [],
   "source": []
  },
  {
   "cell_type": "code",
   "execution_count": 19,
   "metadata": {},
   "outputs": [
    {
     "data": {
      "text/plain": [
       "{('floor', 0): None,\n",
       " ('floor', 1): None,\n",
       " ('floor', 2): None,\n",
       " ('floor', 3): None,\n",
       " ('hold0', 0): None,\n",
       " ('hold0', 1): None,\n",
       " ('hold0', 2): None,\n",
       " ('hold0', 3): None,\n",
       " ('hold0', 4): None}"
      ]
     },
     "execution_count": 19,
     "metadata": {},
     "output_type": "execute_result"
    }
   ],
   "source": [
    "tplan.neighbor_nodes"
   ]
  },
  {
   "cell_type": "code",
   "execution_count": 25,
   "metadata": {},
   "outputs": [
    {
     "name": "stdout",
     "output_type": "stream",
     "text": [
      "node: ('floor', 0)\n",
      "  0, ,  2, \n",
      "  0, ,  2, \n",
      "node: ('floor', 1)\n",
      "  3, \n",
      "  3, \n",
      "node: ('floor', 2)\n",
      "  7, , 16, , 21, , 32, , 33, , 58, \n",
      "  4, ,  6, ,  6, ,  6, ,  6, ,  4, \n",
      "node: ('floor', 3)\n",
      "  8, , 10, , 17, , 22, , 23, , 34, , 35, , 36, , 37, , 59, , 60, , 61, , 62, , 63, , 64, \n",
      "  5, ,  5, ,  7, ,  7, ,  7, ,  7, ,  7, ,  7, ,  7, ,  5, ,  5, ,  5, ,  5, ,  5, ,  5, \n",
      "node: ('floor', 4)\n",
      "  9, , 11, , 12, , 18, , 20, , 24, , 25, , 26, , 27, , 28, , 29, , 38, , 39, , 40, , 41, , 43, , 44, , 45, , 46, , 48, , 49, , 50, , 51, , 53, , 54, , 55, , 56, , 67, , 68, , 69, , 70, , 71, , 72, , 73, , 81, , 82, , 83, , 84, , 85, , 86, , 87, , 95, , 96, , 97, , 98, , 99, ,100, ,101, ,109, ,110, ,111, ,112, ,113, ,114, ,115, ,123, \n",
      "  6, ,  6, ,  6, ,  8, ,  8, ,  8, ,  8, ,  8, ,  8, ,  8, ,  8, ,  8, ,  8, ,  8, ,  8, ,  8, ,  8, ,  8, ,  8, ,  8, ,  8, ,  8, ,  8, ,  8, ,  8, ,  8, ,  8, ,  6, ,  6, ,  6, ,  6, ,  6, ,  6, ,  6, ,  6, ,  6, ,  6, ,  6, ,  6, ,  6, ,  6, ,  6, ,  6, ,  6, ,  6, ,  6, ,  6, ,  6, ,  6, ,  6, ,  6, ,  6, ,  6, ,  6, ,  6, ,  7, \n",
      "node: ('hold0', 0)\n",
      "  1, ,  6, \n",
      "  1, ,  3, \n",
      "node: ('hold0', 1)\n",
      "  4, ,  5, \n",
      "  4, ,  4, \n",
      "node: ('hold0', 2)\n",
      " 14, , 31, , 65, , 66, \n",
      "  5, ,  5, ,  5, ,  5, \n",
      "node: ('hold0', 3)\n",
      " 13, , 15, , 30, , 42, , 47, , 52, , 57, , 74, , 75, , 76, , 77, , 78, , 79, , 80, , 88, , 89, , 90, , 91, , 92, , 93, , 94, ,102, ,103, ,104, ,105, ,106, ,107, ,108, ,116, ,117, ,118, ,119, ,120, ,121, ,122, \n",
      "  6, ,  6, ,  8, ,  8, ,  8, ,  8, ,  8, ,  6, ,  6, ,  6, ,  6, ,  6, ,  6, ,  6, ,  6, ,  6, ,  6, ,  6, ,  6, ,  6, ,  6, ,  6, ,  6, ,  6, ,  6, ,  6, ,  6, ,  6, ,  6, ,  6, ,  6, ,  6, ,  6, ,  6, ,  6, \n",
      "node: ('hold0', 4)\n",
      " 19, \n",
      "  7, \n"
     ]
    }
   ],
   "source": [
    "for node, sid_list in sorted(tplan.node_snode_dict.items()):\n",
    "    print(\"node: {}\".format(node))\n",
    "    print(\",\".join([\"{:3}, \".format(sidx) for sidx in sid_list]))\n",
    "    print(\",\".join([\"{:3}, \".format(tplan.snode_dict[sidx].depth) for sidx in sid_list]))"
   ]
  },
  {
   "cell_type": "code",
   "execution_count": 25,
   "metadata": {},
   "outputs": [],
   "source": [
    "# from pkg.planning.pddlstream.plan_rnb import solve_in_pddlstream\n",
    "\n",
    "# goal_pairs=[(CHAIR_NAME, 'goal'), (CHAIR_NAME[:-1]+\"1\", \"floor\"), (CHAIR_NAME[:-1]+\"2\", \"floor\")]\n",
    "# TIMEOUT_MOTION, MAX_TIME, MAX_ITER, MAX_SKELETONS = 1, 100, 100, 30\n",
    "# GRASP_SAMPLE, STABLE_SAMPLE, SHOW_STATE, SEARCH_SAMPLE_RATIO = 100, 100, False, 100\n",
    "\n",
    "\n",
    "# res, plan, log_dict = solve_in_pddlstream(pscene, mplan, MOBILE_NAME, HOLD_NAME, HOME_POSE, goal_pairs,\n",
    "#                         TIMEOUT_MOTION, MAX_TIME, MAX_ITER, MAX_SKELETONS,\n",
    "#                         GRASP_SAMPLE, STABLE_SAMPLE, SHOW_STATE, SEARCH_SAMPLE_RATIO,\n",
    "#                         use_pybullet_gui=False, USE_MOVEIT_IK=True)"
   ]
  },
  {
   "cell_type": "code",
   "execution_count": null,
   "metadata": {},
   "outputs": [],
   "source": []
  },
  {
   "cell_type": "code",
   "execution_count": null,
   "metadata": {},
   "outputs": [],
   "source": []
  }
 ],
 "metadata": {
  "kernelspec": {
   "display_name": "Python 2",
   "language": "python",
   "name": "python2"
  },
  "language_info": {
   "codemirror_mode": {
    "name": "ipython",
    "version": 2
   },
   "file_extension": ".py",
   "mimetype": "text/x-python",
   "name": "python",
   "nbconvert_exporter": "python",
   "pygments_lexer": "ipython2",
   "version": "2.7.17"
  }
 },
 "nbformat": 4,
 "nbformat_minor": 2
}
