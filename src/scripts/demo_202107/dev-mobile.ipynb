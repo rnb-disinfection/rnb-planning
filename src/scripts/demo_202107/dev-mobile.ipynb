{
 "cells": [
  {
   "cell_type": "code",
   "execution_count": 1,
   "metadata": {},
   "outputs": [],
   "source": [
    "import os\n",
    "import sys\n",
    "sys.path.append(os.path.join(os.environ[\"RNB_PLANNING_DIR\"], 'src'))\n",
    "\n",
    "from pkg.global_config import RNB_PLANNING_DIR\n",
    "from pkg.utils.utils import *    \n",
    "from pkg.controller.combined_robot import *\n",
    "from pkg.project_config import *"
   ]
  },
  {
   "cell_type": "code",
   "execution_count": 2,
   "metadata": {},
   "outputs": [],
   "source": [
    "CONNECT_INDY = False\n",
    "\n",
    "MOBILE_IP = \"192.168.0.102\"\n",
    "INDY_IP = \"192.168.0.3\""
   ]
  },
  {
   "cell_type": "code",
   "execution_count": 3,
   "metadata": {},
   "outputs": [
    {
     "name": "stdout",
     "output_type": "stream",
     "text": [
      "connection command:\n",
      "kmb0: False\n",
      "indy1: False\n",
      "Unable to register with master node [http://localhost:11311]: master may not be running yet. Will keep trying.\n",
      "Please create a subscriber to the marker\n",
      "publication OK\n",
      "published: [0, 0, 0, 0, 0, 0, 0, 0, 0, 0, 0, 0]\n"
     ]
    }
   ],
   "source": [
    "crob = CombinedRobot(robots_on_scene=[\n",
    "    RobotConfig(0, RobotType.kmb, ((0,0,0), (0,0,0)),\n",
    "                MOBILE_IP),\n",
    "    RobotConfig(1, RobotType.indy7, ((0.172,0,0.439), (0,0,np.pi)),\n",
    "                INDY_IP, root_on=\"kmb0_platform\", specs={\"no_sdk\":True})]\n",
    "              , connection_list=[False, CONNECT_INDY])\n",
    "\n",
    "from pkg.geometry.builder.scene_builder import SceneBuilder\n",
    "s_builder = SceneBuilder(None)\n",
    "# s_builder.reset_reference_coord(ref_name=\"floor\")\n",
    "# xyz_rpy_robots = s_builder.detect_items(level_mask=[DetectionLevel.ROBOT])\n",
    "# xyz_rpy_robots = {\"kmb0\": ((0,0,0), (0,0,0)), \"indy1\": ((0,0,0), (0,0,np.pi))}\n",
    "# crob.update_robot_pos_dict(xyz_rpy_robots=xyz_rpy_robots)\n",
    "gscene = s_builder.create_gscene(crob)"
   ]
  },
  {
   "cell_type": "code",
   "execution_count": 4,
   "metadata": {},
   "outputs": [],
   "source": [
    "gscene.show_pose(-crob.home_pose)"
   ]
  },
  {
   "cell_type": "code",
   "execution_count": 5,
   "metadata": {},
   "outputs": [],
   "source": [
    "# gscene.show_pose(-crob.home_pose + ([0.2,0.2,np.pi/3,]+[0]*6))"
   ]
  },
  {
   "cell_type": "markdown",
   "metadata": {},
   "source": [
    "## set workspace"
   ]
  },
  {
   "cell_type": "code",
   "execution_count": 6,
   "metadata": {},
   "outputs": [
    {
     "name": "stdout",
     "output_type": "stream",
     "text": [
      "Please create a subscriber to the marker\n"
     ]
    }
   ],
   "source": [
    "gscene.set_workspace_boundary( -5, 5, -4, 4, -0.1, 1.75)"
   ]
  },
  {
   "cell_type": "code",
   "execution_count": null,
   "metadata": {},
   "outputs": [],
   "source": []
  },
  {
   "cell_type": "markdown",
   "metadata": {},
   "source": [
    "## define robot and planning scene"
   ]
  },
  {
   "cell_type": "code",
   "execution_count": 7,
   "metadata": {},
   "outputs": [],
   "source": [
    "from pkg.planning.scene import *\n",
    "from demo_utils.environment import *\n",
    "\n",
    "CHAIR_NAME = \"chair0\"\n",
    "CHAIR_DIM = (0.4,0.4,0.5)\n",
    "\n",
    "MOBILE_NAME = \"kmb0\"\n",
    "HOLD_LINK = \"kmb0_platform\"\n",
    "HOLD_XYZ = (0.445 + 0.35, 0, CHAIR_DIM[2]/2)\n",
    "HOLD_RPY = (0, -np.pi/2, -np.pi/2)\n",
    "HOLD_NAME = \"hold0\"\n",
    "\n",
    "ROBOT_NAME = \"indy1\"\n",
    "TOOL_LINK = \"indy1_tcp\"\n",
    "TOOL_NAME = \"brush_face\"\n",
    "\n",
    "gtems_robot = s_builder.add_robot_geometries(color=(0, 1, 0, 0.5), display=True, collision=True)\n",
    "viewpoint = add_cam(gscene, tool_link=TOOL_LINK)\n",
    "add_indy_tool_kiro(gscene, tool_link=TOOL_LINK, face_name=TOOL_NAME, zoff=-0.04)\n",
    "\n",
    "pscene = PlanningScene(gscene, combined_robot=crob)"
   ]
  },
  {
   "cell_type": "code",
   "execution_count": null,
   "metadata": {},
   "outputs": [],
   "source": []
  },
  {
   "cell_type": "markdown",
   "metadata": {},
   "source": [
    "## planning pipeline"
   ]
  },
  {
   "cell_type": "code",
   "execution_count": 8,
   "metadata": {},
   "outputs": [
    {
     "name": "stdout",
     "output_type": "stream",
     "text": [
      "Dash is running on http://0.0.0.0:8050/\n",
      "\n",
      " * Serving Flask app \"pkg.ui.dash_launcher\" (lazy loading)\n",
      " * Environment: production\n"
     ]
    }
   ],
   "source": [
    "\n",
    "from pkg.planning.pipeline import PlanningPipeline\n",
    "ppline = PlanningPipeline(pscene)\n",
    "\n",
    "\n",
    "from pkg.ui.ui_broker import *\n",
    "\n",
    "# start UI\n",
    "ui_broker = UIBroker.instance()\n",
    "ui_broker.initialize(ppline, s_builder)\n",
    "ui_broker.start_server()\n",
    "\n",
    "ui_broker.set_tables()"
   ]
  },
  {
   "cell_type": "code",
   "execution_count": 9,
   "metadata": {},
   "outputs": [
    {
     "name": "stdout",
     "output_type": "stream",
     "text": [
      "   WARNING: This is a development server. Do not use it in a production deployment.\n",
      "   Use a production WSGI server instead.\n",
      " * Debug mode: off\n"
     ]
    }
   ],
   "source": [
    "from pkg.planning.motion.moveit.moveit_planner import MoveitPlanner\n",
    "from pkg.planning.filtering.grasp_filter import GraspChecker\n",
    "mplan = MoveitPlanner(pscene, enable_dual=False)\n",
    "mplan.motion_filters = [GraspChecker(pscene)]"
   ]
  },
  {
   "cell_type": "code",
   "execution_count": null,
   "metadata": {},
   "outputs": [],
   "source": []
  },
  {
   "cell_type": "markdown",
   "metadata": {},
   "source": [
    "## Add action points"
   ]
  },
  {
   "cell_type": "code",
   "execution_count": 10,
   "metadata": {},
   "outputs": [],
   "source": [
    "from pkg.planning.constraint.constraint_common import *\n",
    "from pkg.planning.constraint.constraint_subject import *\n",
    "from pkg.planning.constraint.constraint_actor import *"
   ]
  },
  {
   "cell_type": "code",
   "execution_count": 11,
   "metadata": {},
   "outputs": [],
   "source": [
    "CLEARANCE = 0.001\n",
    "gscene.create_safe(gtype=GEOTYPE.BOX, name=\"floor\", link_name=\"base_link\",\n",
    "                   dims=(10,8,0.1), center=(0,0,-0.05-CLEARANCE), \n",
    "                   rpy=(0,0,0), color=(0.9, 0.9, 0.9, 0.9), display=True,\n",
    "                   collision=True, fixed=True)\n",
    "floor = pscene.create_binder(bname=\"floor\", gname=\"floor\", _type=PlacePlane, point=None)\n",
    "\n",
    "brush_face = pscene.create_binder(bname=\"brush_face\", gname=\"brush_face\", _type=SweepFramer, point=(-gscene.NAME_DICT['brush_face'].dims[0]/2,0,0), \n",
    "                     rpy=(0,np.pi/2*1,0))\n",
    "\n",
    "gscene.create_safe(gtype=GEOTYPE.SPHERE, name=HOLD_NAME, link_name=HOLD_LINK,\n",
    "                   dims=(0.01,) * 3, center=HOLD_XYZ, rpy=HOLD_RPY, color=(1, 0, 0, 0.5), display=True,\n",
    "                   collision=False,\n",
    "                   fixed=True)\n",
    "holder = pscene.create_binder(bname=HOLD_NAME, gname=HOLD_NAME, _type=Gripper2Tool, point=(0, 0, 0), rpy=(0, 0, 0))\n",
    "holder.redundancy = {}"
   ]
  },
  {
   "cell_type": "code",
   "execution_count": null,
   "metadata": {},
   "outputs": [],
   "source": []
  },
  {
   "cell_type": "markdown",
   "metadata": {},
   "source": [
    "## Add chair"
   ]
  },
  {
   "cell_type": "code",
   "execution_count": 12,
   "metadata": {},
   "outputs": [],
   "source": [
    "chair_loc = (1, -3.5, CHAIR_DIM[2]/2)\n",
    "\n",
    "obs_all = 10\n",
    "\n",
    "obj_all = 3\n",
    "\n",
    "for i_c in range(obs_all):\n",
    "    CHAIR_NAME_CUR = CHAIR_NAME[:-1]+\"%02d\"%i_c\n",
    "    gscene.create_safe(gtype=GEOTYPE.CYLINDER, name=CHAIR_NAME_CUR, link_name=\"base_link\",\n",
    "                       dims=CHAIR_DIM, center=np.add(chair_loc, [0,0.75*i_c, 0]), rpy=(0,0,0),\n",
    "                       color=(1,0,0,1) if i_c==0 else ((1,1,0,1) if i_c<obj_all else (0.3, 0.3, 0.3, 0.3)), \n",
    "                       display=True, collision=True, fixed=False)\n",
    "    if i_c < obj_all:\n",
    "        chair = pscene.create_subject(oname=CHAIR_NAME_CUR, gname=CHAIR_NAME_CUR, _type=CylinderObject, \n",
    "                                      GRASP_WIDTH_MIN=CHAIR_DIM[0]-0.1, GRASP_WIDTH_MAX=CHAIR_DIM[0]+0.1, \n",
    "                                      GRASP_DEPTH_MIN=CHAIR_DIM[0]/2, GRASP_DEPTH_MAX=CHAIR_DIM[0]/2)\n",
    "        chair.action_points_dict[CHAIR_NAME_CUR+\"_side_g\"].redundancy = {'u': (-np.pi, np.pi)}"
   ]
  },
  {
   "cell_type": "code",
   "execution_count": null,
   "metadata": {},
   "outputs": [],
   "source": []
  },
  {
   "cell_type": "markdown",
   "metadata": {},
   "source": [
    "## [Test] pick and place chair"
   ]
  },
  {
   "cell_type": "code",
   "execution_count": 13,
   "metadata": {},
   "outputs": [],
   "source": [
    "gscene.create_safe(gtype=GEOTYPE.BOX, name=\"goal\", link_name=\"base_link\",\n",
    "                   dims=(1.0, 1.0, 0.1), center=(3,0,-0.05-CLEARANCE), rpy=(0,0,0),\n",
    "                   color=(0.8, 0.3, 0.3, 0.3), display=True,\n",
    "                   collision=False, fixed=True)\n",
    "\n",
    "goal = pscene.create_binder(bname=\"goal\", gname=\"goal\", _type=PlacePlane, point=None)"
   ]
  },
  {
   "cell_type": "code",
   "execution_count": 14,
   "metadata": {},
   "outputs": [],
   "source": [
    "initial_state = pscene.initialize_state(-crob.home_pose)\n",
    "goal_nodes = [('goal',)+rest for rest in list(product([\"goal\", \"floor\"], repeat=obj_all-1))]\n",
    "goal_nodes = [('goal',)+((\"floor\",)*(obj_all-1))]"
   ]
  },
  {
   "cell_type": "code",
   "execution_count": 15,
   "metadata": {},
   "outputs": [],
   "source": [
    "from pkg.planning.task.rrt import TaskRRT\n",
    "\n",
    "tplan = TaskRRT(pscene)\n",
    "ppline.set_motion_planner(mplan)\n",
    "ppline.set_task_planner(tplan)"
   ]
  },
  {
   "cell_type": "code",
   "execution_count": 16,
   "metadata": {
    "scrolled": true
   },
   "outputs": [
    {
     "name": "stdout",
     "output_type": "stream",
     "text": [
      "try: 0 - ('floor', 'floor', 'floor')->('hold0', 'floor', 'floor')\n",
      "Motion Filer Failure: GraspChecker\n",
      "result: 0 - ('floor', 'floor', 'floor')->('hold0', 'floor', 'floor') = fail\n",
      "try: 0 - ('floor', 'floor', 'floor')->('floor', 'hold0', 'floor')\n",
      "Motion Filer Failure: GraspChecker\n",
      "result: 0 - ('floor', 'floor', 'floor')->('floor', 'hold0', 'floor') = fail\n",
      "try: 0 - ('floor', 'floor', 'floor')->('hold0', 'floor', 'floor')\n",
      "Motion Filer Failure: GraspChecker\n",
      "result: 0 - ('floor', 'floor', 'floor')->('hold0', 'floor', 'floor') = fail\n",
      "try: 0 - ('floor', 'floor', 'floor')->('hold0', 'floor', 'floor')\n",
      "try transition motion\n",
      "transition motion tried: True\n",
      "result: 0 - ('floor', 'floor', 'floor')->('hold0', 'floor', 'floor') = success\n",
      "branching: 0->1 (0.13/100.0 s, steps/err: 45(95.9661006927 ms)/0.00158727167626)\n",
      "======================================================================================================================================================\n",
      "try: 1 - ('hold0', 'floor', 'floor')->('goal', 'floor', 'floor')\n",
      "try transition motion\n",
      "transition motion tried: True\n",
      "result: 1 - ('hold0', 'floor', 'floor')->('goal', 'floor', 'floor') = success\n",
      "branching: 1->2 (1.0/100.0 s, steps/err: 112(863.734960556 ms)/0.00156483717247)\n",
      "======================================================================================================================================================\n",
      "++ adding return motion to acquired answer ++\n",
      "=========================================================================================================\n",
      "======================= terminated 0: first answer acquired ===============================\n",
      "=========================================================================================================\n"
     ]
    }
   ],
   "source": [
    "ppline.search(initial_state, goal_nodes, verbose=True,\n",
    "              timeout=1, timeout_loop=100, multiprocess=False,\n",
    "              add_homing=True)"
   ]
  },
  {
   "cell_type": "code",
   "execution_count": null,
   "metadata": {},
   "outputs": [
    {
     "name": "stdout",
     "output_type": "stream",
     "text": [
      "('floor', 'floor', 'floor')->('floor', 'floor', 'floor')\n",
      "('floor', 'floor', 'floor')->('hold0', 'floor', 'floor')\n",
      "('hold0', 'floor', 'floor')->('goal', 'floor', 'floor')\n",
      "('goal', 'floor', 'floor')->('goal', 'floor', 'floor')\n",
      "('goal', 'floor', 'floor')->('goal', 'floor', 'floor')\n"
     ]
    }
   ],
   "source": [
    "schedules = ppline.tplan.find_schedules(False)\n",
    "schedules_sorted = ppline.tplan.sort_schedule(schedules)\n",
    "snode_schedule = ppline.tplan.idxSchedule2SnodeScedule(schedules_sorted[0])\n",
    "ppline.play_schedule(snode_schedule)"
   ]
  },
  {
   "cell_type": "code",
   "execution_count": null,
   "metadata": {},
   "outputs": [],
   "source": []
  },
  {
   "cell_type": "code",
   "execution_count": null,
   "metadata": {},
   "outputs": [],
   "source": []
  },
  {
   "cell_type": "code",
   "execution_count": null,
   "metadata": {},
   "outputs": [],
   "source": []
  },
  {
   "cell_type": "code",
   "execution_count": null,
   "metadata": {},
   "outputs": [],
   "source": []
  },
  {
   "cell_type": "code",
   "execution_count": null,
   "metadata": {},
   "outputs": [],
   "source": []
  }
 ],
 "metadata": {
  "kernelspec": {
   "display_name": "Python 2",
   "language": "python",
   "name": "python2"
  },
  "language_info": {
   "codemirror_mode": {
    "name": "ipython",
    "version": 2
   },
   "file_extension": ".py",
   "mimetype": "text/x-python",
   "name": "python",
   "nbconvert_exporter": "python",
   "pygments_lexer": "ipython2",
   "version": "2.7.17"
  }
 },
 "nbformat": 4,
 "nbformat_minor": 2
}
