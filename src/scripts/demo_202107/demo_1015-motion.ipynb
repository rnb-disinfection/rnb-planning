{
 "cells": [
  {
   "cell_type": "markdown",
   "metadata": {},
   "source": [
    "# Demo Script for Milestone 10.15"
   ]
  },
  {
   "cell_type": "markdown",
   "metadata": {},
   "source": [
    "## 0 Prepare task"
   ]
  },
  {
   "cell_type": "markdown",
   "metadata": {},
   "source": [
    "### 0.1 prepare planning scene"
   ]
  },
  {
   "cell_type": "code",
   "execution_count": 1,
   "metadata": {},
   "outputs": [
    {
     "name": "stdout",
     "output_type": "stream",
     "text": [
      "Current PC IP: 192.168.0.123\n",
      "Mobile ROB IP: 192.168.0.102\n",
      "CAM SERVER IP: 192.168.0.10\n",
      "[MOBILE ROBOT] bind: ('192.168.0.123', 50306)\n",
      "[MOBILE ROBOT] Start UDP THREAD\n",
      "connection command:\n",
      "kmb0: False\n",
      "indy1: False\n",
      "Unable to register with master node [http://localhost:11311]: master may not be running yet. Will keep trying.\n",
      "Please create a subscriber to the marker\n",
      "publication OK\n",
      "published: [0, 0, 0, 0, 0, 0, 0, 0, 0, 0, 0, 0]\n",
      "Please create a subscriber to the marker\n",
      "Dash is running on http://0.0.0.0:8050/\n",
      "\n",
      " * Serving Flask app \"pkg.ui.dash_launcher\" (lazy loading)\n",
      " * Environment: production\n",
      "   WARNING: This is a development server. Do not use it in a production deployment.\n"
     ]
    }
   ],
   "source": [
    "import os\n",
    "import sys\n",
    "sys.path.append(os.path.join(os.path.join(os.environ[\"RNB_PLANNING_DIR\"], 'src')))\n",
    "\n",
    "from pkg.global_config import RNB_PLANNING_DIR\n",
    "from demo_utils.kiro_udp_send import start_mobile_udp_thread, send_pose_wait, get_xyzw_cur, get_reach_state\n",
    "from pkg.utils.utils import *    \n",
    "from pkg.utils.rotation_utils import *\n",
    "from pkg.controller.combined_robot import *\n",
    "from pkg.project_config import *\n",
    "from demo_utils.streaming import *\n",
    "from demo_utils.detect_table import *\n",
    "from demo_utils.area_select import *\n",
    "from pkg.detector.aruco.marker_config import get_aruco_map\n",
    "aruco_map = get_aruco_map()\n",
    "\n",
    "\n",
    "CONNECT_CAM = False # True\n",
    "ENABLE_DETECT = False\n",
    "DETECT_MARKER = True\n",
    "CONNECT_INDY = False # True\n",
    "CONNECT_MOBILE = False # True \n",
    "SHOW_MOTION_RVIZ = False\n",
    "\n",
    "# Tool dimensions\n",
    "TOOL_DIM = [0.32, 0.08]\n",
    "TOOL_OFFSET = -0.04\n",
    "ROBOT_Z_ANGLE = np.pi\n",
    "MARGIN = 0\n",
    "TRACK_THICKNESS = 0.001\n",
    "\n",
    "INDY_BASE_OFFSET = (0.172,0,0.439)\n",
    "ROBOT_Z_ANGLE = np.pi\n",
    "TOOL_NAME = \"brush_face\"\n",
    "WALL_THICKNESS = 0.01\n",
    "CLEARANCE = 0.001\n",
    "\n",
    "ip_cur =  get_ip_address()\n",
    "MOBILE_IP = \"192.168.0.102\"\n",
    "INDY_IP = \"192.168.0.3\"\n",
    "CAM_HOST = '192.168.0.10'\n",
    "\n",
    "print(\"Current PC IP: {}\".format(ip_cur))\n",
    "print(\"Mobile ROB IP: {}\".format(MOBILE_IP))\n",
    "print(\"CAM SERVER IP: {}\".format(CAM_HOST))\n",
    "\n",
    "from pkg.geometry.builder.scene_builder import SceneBuilder\n",
    "from demo_utils.environment import *\n",
    "\n",
    "sock_mobile, server_thread = start_mobile_udp_thread(recv_ip=ip_cur)\n",
    "\n",
    "mobile_config = RobotConfig(0, RobotType.kmb, ((0,0,0), (0,0,0)),\n",
    "                MOBILE_IP)\n",
    "robot_config = RobotConfig(1, RobotType.indy7, (INDY_BASE_OFFSET, (0,0,np.pi)),\n",
    "                INDY_IP, root_on=\"kmb0_platform\", specs={\"no_sdk\":True})\n",
    "MOBILE_NAME = mobile_config.get_indexed_name()\n",
    "ROBOT_NAME = robot_config.get_indexed_name()\n",
    "crob = CombinedRobot(robots_on_scene=[mobile_config, robot_config]\n",
    "              , connection_list=[False, CONNECT_INDY])\n",
    "\n",
    "s_builder = SceneBuilder(None)\n",
    "gscene = s_builder.create_gscene(crob)\n",
    "\n",
    "gtems = s_builder.add_robot_geometries(color=(0,1,0,0.5), display=True, collision=True)\n",
    "gscene.set_workspace_boundary(-3, 7, -5, 5, -CLEARANCE, 3, thickness=WALL_THICKNESS)\n",
    "\n",
    "\n",
    "from pkg.planning.scene import PlanningScene\n",
    "pscene = PlanningScene(gscene, combined_robot=crob)\n",
    "\n",
    "ROBOT_BASE = pscene.robot_chain_dict[ROBOT_NAME]['link_names'][0]\n",
    "TIP_LINK = pscene.robot_chain_dict[ROBOT_NAME][\"tip_link\"]\n",
    "MOBILE_BASE = pscene.robot_chain_dict[MOBILE_NAME][\"tip_link\"]\n",
    "HOLD_LINK = MOBILE_BASE\n",
    "\n",
    "viewpoint = add_cam(gscene, tool_link=TIP_LINK)\n",
    "add_indy_tool_kiro(gscene, tool_link=TIP_LINK, face_name=TOOL_NAME, zoff=TOOL_OFFSET)\n",
    "\n",
    "HOME_POSE = -crob.home_pose\n",
    "HOME_DICT = list2dict(HOME_POSE, gscene.joint_names)\n",
    "\n",
    "from pkg.planning.pipeline import PlanningPipeline\n",
    "ppline = PlanningPipeline(pscene)\n",
    "\n",
    "# Set planner\n",
    "from pkg.planning.motion.moveit.moveit_planner import MoveitPlanner\n",
    "from pkg.planning.filtering.grasp_filter import GraspChecker\n",
    "mplan = MoveitPlanner(pscene, enable_dual=False, incremental_constraint_motion=True)\n",
    "mplan.motion_filters = [GraspChecker(pscene)]\n",
    "mplan.update_gscene()\n",
    "from pkg.planning.task.rrt import TaskRRT\n",
    "tplan = TaskRRT(pscene)\n",
    "tplan.prepare()\n",
    "ppline.set_motion_planner(mplan)\n",
    "ppline.set_task_planner(tplan)\n",
    "\n",
    "from pkg.ui.ui_broker import *\n",
    "\n",
    "# start UI\n",
    "ui_broker = UIBroker.instance()\n",
    "ui_broker.initialize(ppline, s_builder)\n",
    "ui_broker.start_server()\n",
    "\n",
    "ui_broker.set_tables()\n",
    "\n",
    "# Register binders\n",
    "from pkg.planning.constraint.constraint_actor import VacuumTool, Gripper2Tool, PlacePlane, SweepFramer, WayFramer\n",
    "brush_face = pscene.create_binder(bname=TOOL_NAME, gname=TOOL_NAME, _type=SweepFramer, \n",
    "                                  point=(-gscene.NAME_DICT['brush_face'].dims[0]/2-CLEARANCE,0,0), \n",
    "                                  rpy=(0,np.pi/2*1,0))\n",
    "\n",
    "# waypoint\n",
    "WP_DIMS = (0.6,0.4,WALL_THICKNESS)\n",
    "gscene.create_safe(gtype=GEOTYPE.BOX, name=\"wayframer\", link_name=HOLD_LINK,\n",
    "                   dims=WP_DIMS, center=(0,0,WP_DIMS[2]/2), rpy=(0,0,0), color=(1, 0, 0, 0.5), display=True,\n",
    "                   collision=False, fixed=True)\n",
    "wayframer = pscene.create_binder(bname=\"wayframer\", gname=\"wayframer\", _type=WayFramer, \n",
    "                                 point=(0,0,-WP_DIMS[2]/2-CLEARANCE), rpy=(0,0,0))"
   ]
  },
  {
   "cell_type": "markdown",
   "metadata": {},
   "source": [
    "### 0.2 Wait task start queue"
   ]
  },
  {
   "cell_type": "markdown",
   "metadata": {},
   "source": [
    "## 1. Bed cleaning"
   ]
  },
  {
   "cell_type": "markdown",
   "metadata": {},
   "source": [
    "### 1.1 Detect bed"
   ]
  },
  {
   "cell_type": "markdown",
   "metadata": {},
   "source": [
    "#### 1.1.1 Move to bed-seek pose "
   ]
  },
  {
   "cell_type": "code",
   "execution_count": 2,
   "metadata": {},
   "outputs": [
    {
     "name": "stdout",
     "output_type": "stream",
     "text": [
      "   Use a production WSGI server instead.\n",
      " * Debug mode: off\n"
     ]
    }
   ],
   "source": [
    "VIEW_POSE = np.deg2rad([  0., -50.,  70.,  -0.,  100., -180])\n",
    "VIEW_LOC = [0,]*6\n",
    "VIEW_POSE_EXT = np.array(VIEW_LOC + list(VIEW_POSE))\n",
    "if CONNECT_INDY:\n",
    "    with indy:\n",
    "        indy.joint_move_to(np.rad2deg(VIEW_POSE))\n",
    "        time.sleep(0.5)\n",
    "        indy.wait_for_move_finish()\n",
    "        Qcur = np.deg2rad(indy.get_joint_pos())\n",
    "else:\n",
    "    Qcur = VIEW_POSE\n",
    "gscene.show_pose(VIEW_POSE_EXT)"
   ]
  },
  {
   "cell_type": "markdown",
   "metadata": {},
   "source": [
    "#### 1.1.2  detect bed and add to the scene"
   ]
  },
  {
   "cell_type": "code",
   "execution_count": 3,
   "metadata": {},
   "outputs": [],
   "source": [
    "bed_center = (2,0,0)\n",
    "bed_rpy = (0,0,np.pi/2)\n",
    "COLOR_BED_COL = (0,1,0,0.3)\n",
    "\n",
    "bed_mat = add_bed(gscene, bed_center, bed_rpy, COLOR_BED_COL)\n",
    "\n",
    "closet_left, closet_rightup, closet_rightdown = add_closet(\n",
    "    gscene, closet_center=np.matmul(Rot_rpy(bed_rpy), (-0.75,-1,0))+bed_center, closet_rpy=bed_rpy, \n",
    "    COLOR_CLOSET_COL=(0,1,0,0.3))"
   ]
  },
  {
   "cell_type": "markdown",
   "metadata": {},
   "source": [
    "### 1.2 Make bed cleaning plan"
   ]
  },
  {
   "cell_type": "markdown",
   "metadata": {},
   "source": [
    "#### 1.2.1 get division-base pose combination data"
   ]
  },
  {
   "cell_type": "code",
   "execution_count": 4,
   "metadata": {},
   "outputs": [],
   "source": [
    "from pkg.planning.constraint.constraint_common import *\n",
    "from pkg.planning.constraint.constraint_actor import *\n",
    "from pkg.planning.constraint.constraint_subject import *"
   ]
  },
  {
   "cell_type": "code",
   "execution_count": 5,
   "metadata": {},
   "outputs": [],
   "source": [
    "gcheck = GraspChecker(pscene)\n",
    "mplan.motion_filters = [gcheck]\n",
    "\n",
    "wp_task, wp_hdl = add_waypoint_task(pscene, \"waypoint\", WP_DIMS, (0,0,0), (0,0,0), \n",
    "                                    parent=\"floor_ws\", color=(0, 0, 1, 0.5))\n",
    "ccheck = CachedCollisionCheck(gcheck, wp_task, wp_hdl, wayframer)"
   ]
  },
  {
   "cell_type": "code",
   "execution_count": 6,
   "metadata": {},
   "outputs": [],
   "source": [
    "BED_OFFSET = 0.02\n",
    "brush_face = pscene.create_binder(bname=TOOL_NAME, gname=TOOL_NAME, _type=SweepFramer, \n",
    "                                  point=(-gscene.NAME_DICT['brush_face'].dims[0]/2-CLEARANCE-BED_OFFSET,0,0), \n",
    "                                  rpy=(0,np.pi/2*1,0))\n",
    "\n",
    "T_e_brush = brush_face.get_tf_handle(crob.home_dict, from_link=TIP_LINK)\n",
    "T_brush_e = SE3_inv(T_e_brush)\n",
    "EE_HEIGHT = round(bed_mat.get_tf(HOME_DICT)[2,3] + bed_mat.dims[2]/2, 5) + T_brush_e[2, 3] - INDY_BASE_OFFSET[2]"
   ]
  },
  {
   "cell_type": "code",
   "execution_count": 7,
   "metadata": {},
   "outputs": [],
   "source": [
    "ccheck.clear()\n",
    "div_base_dict, Tsm_keys, surface_div_centers, div_num, (ax_step, ax_swp, ax_pln) = \\\n",
    "                        get_division_dict(bed_mat, brush_face, robot_config, \n",
    "                                          plane_val=EE_HEIGHT, tip_dir=None, TOOL_DIM=TOOL_DIM, \n",
    "                                          ccheck=ccheck, resolution=0.02)"
   ]
  },
  {
   "cell_type": "code",
   "execution_count": null,
   "metadata": {},
   "outputs": [],
   "source": []
  },
  {
   "cell_type": "markdown",
   "metadata": {},
   "source": [
    "#### 1.2.2 select base poses and generate motions"
   ]
  },
  {
   "cell_type": "code",
   "execution_count": 8,
   "metadata": {},
   "outputs": [],
   "source": [
    "HOME_POSE_SWEEP = VIEW_POSE_EXT\n",
    "crob.home_pose = HOME_POSE_SWEEP\n",
    "crob.home_dict = list2dict(crob.home_pose, gscene.joint_names)\n",
    "floor_ws = gscene.NAME_DICT[\"floor_ws\"]    \n",
    "test_fun = TestBaseDivFunc(ppline, floor_ws, bed_mat, WP_DIMS, TOOL_DIM, crob.home_dict, multiprocess=False)"
   ]
  },
  {
   "cell_type": "code",
   "execution_count": 9,
   "metadata": {
    "scrolled": true
   },
   "outputs": [
    {
     "name": "stdout",
     "output_type": "stream",
     "text": [
      "Goal reached\n",
      "=========================================================================================================\n",
      "======================= terminated 0: first answer acquired ===============================\n",
      "=========================================================================================================\n",
      "Goal reached\n",
      "=========================================================================================================\n",
      "======================= terminated 0: first answer acquired ===============================\n",
      "=========================================================================================================\n",
      "=========================================================================================================\n",
      "======================= terminated 0: max iteration time reached (1633619770/1633619767.76 s) ===============================\n",
      "=========================================================================================================\n",
      "=========================================================================================================\n",
      "======================= terminated 0: max iteration time reached (1633619774/1633619770.99 s) ===============================\n",
      "=========================================================================================================\n",
      "Goal reached\n",
      "=========================================================================================================\n",
      "======================= terminated 0: first answer acquired ===============================\n",
      "=========================================================================================================\n",
      "Goal reached\n",
      "=========================================================================================================\n",
      "======================= terminated 0: first answer acquired ===============================\n",
      "=========================================================================================================\n",
      "=========================================================================================================\n",
      "======================= terminated 0: max iteration time reached (1633619779/1633619776.57 s) ===============================\n",
      "=========================================================================================================\n",
      "Goal reached\n",
      "=========================================================================================================\n",
      "======================= terminated 0: first answer acquired ===============================\n",
      "=========================================================================================================\n",
      "=========================================================================================================\n",
      "======================= terminated 0: max iteration time reached (1633619783/1633619780.57 s) ===============================\n",
      "=========================================================================================================\n",
      "=========================================================================================================\n",
      "======================= terminated 0: max iteration time reached (1633619786/1633619783.72 s) ===============================\n",
      "=========================================================================================================\n",
      "Goal reached\n",
      "=========================================================================================================\n",
      "======================= terminated 0: first answer acquired ===============================\n",
      "=========================================================================================================\n",
      "Goal reached\n",
      "=========================================================================================================\n",
      "======================= terminated 0: first answer acquired ===============================\n",
      "=========================================================================================================\n"
     ]
    }
   ],
   "source": [
    "test_fun.clear()\n",
    "\n",
    "idx_bases, idc_divs, covered_all, snode_schedule_dict = select_max_cover_bases(\n",
    "    div_base_dict, Tsm_keys, surface_div_centers, div_num, ax_step,\n",
    "    test_fun=test_fun)"
   ]
  },
  {
   "cell_type": "markdown",
   "metadata": {},
   "source": [
    "#### 1.2.3 refine motions"
   ]
  },
  {
   "cell_type": "code",
   "execution_count": 10,
   "metadata": {},
   "outputs": [
    {
     "name": "stdout",
     "output_type": "stream",
     "text": [
      "Goal reached\n",
      "Goal reached\n",
      "Goal reached\n",
      "Goal reached\n",
      "Goal reached\n",
      "Goal reached\n",
      "Goal reached\n"
     ]
    }
   ],
   "source": [
    "HOME_POSE_MOVE = VIEW_POSE\n",
    "snode_schedule_list, scene_args_list, scene_kwargs_list = refine_order_plan(\n",
    "    ppline, snode_schedule_dict, idx_bases, idc_divs, Qcur, \n",
    "    floor_ws, wayframer, bed_mat, Tsm_keys, surface_div_centers,  \n",
    "    WP_DIMS, TOOL_DIM, ROBOT_NAME, MOBILE_NAME, HOME_POSE_MOVE)"
   ]
  },
  {
   "cell_type": "markdown",
   "metadata": {},
   "source": [
    "### 1.3 Execute bed cleaning sequence"
   ]
  },
  {
   "cell_type": "code",
   "execution_count": 11,
   "metadata": {},
   "outputs": [],
   "source": [
    "# indy.traj_vel = 3"
   ]
  },
  {
   "cell_type": "code",
   "execution_count": 12,
   "metadata": {
    "scrolled": true
   },
   "outputs": [
    {
     "name": "stdout",
     "output_type": "stream",
     "text": [
      "curre  xyzw: [0 0 0 1]\n",
      "ready  xyzw: [-0.12  0.02  0.37 -0.53]\n",
      "target xyzw: [-0.15 -0.45  0.37 -0.53]\n",
      "move to: [-0.15 -0.45  0.37 -0.53]\n",
      "(0, 1)->(1, 1)\n",
      "(1, 1)->(2, 1)\n",
      "(2, 1)->(2, 1)\n",
      "curre  xyzw: [0 0 0 1]\n",
      "ready  xyzw: [-0.2 -0.   0.   1. ]\n",
      "target xyzw: [0.3 0.  0.  1. ]\n",
      "move to: [0.3 0.  0.  1. ]\n",
      "(0, 1)->(1, 1)\n",
      "(1, 1)->(2, 1)\n",
      "(2, 1)->(2, 1)\n",
      "curre  xyzw: [0 0 0 1]\n",
      "ready  xyzw: [-0.63 -0.26 -0.    1.  ]\n",
      "target xyzw: [-0.13 -0.26 -0.    1.  ]\n",
      "move to: [-0.13 -0.26 -0.    1.  ]\n",
      "(0, 1)->(1, 1)\n",
      "(1, 1)->(2, 1)\n",
      "(2, 1)->(2, 1)\n",
      "curre  xyzw: [0 0 0 1]\n",
      "ready  xyzw: [-0.67  0.85  0.    1.  ]\n",
      "target xyzw: [-0.17  0.85  0.    1.  ]\n",
      "move to: [-0.09  0.42  0.    1.  ]\n",
      "move to: [-0.17  0.85  0.    1.  ]\n",
      "(0, 1)->(1, 1)\n",
      "(1, 1)->(2, 1)\n",
      "(2, 1)->(2, 1)\n",
      "curre  xyzw: [0 0 0 1]\n",
      "ready  xyzw: [ 2.19  0.19 -0.71  0.71]\n",
      "target xyzw: [ 2.2  -0.31 -0.71  0.71]\n",
      "move to: [ 2.2  -0.31 -0.71  0.71]\n",
      "move to: [ 2.2  -0.31 -0.71  0.71]\n",
      "(0, 1)->(1, 1)\n",
      "(1, 1)->(2, 1)\n",
      "(2, 1)->(2, 1)\n",
      "curre  xyzw: [0 0 0 1]\n",
      "ready  xyzw: [ 0.02  0.46  0.71 -0.71]\n",
      "target xyzw: [ 0.02 -0.04  0.71 -0.71]\n",
      "move to: [ 0.02 -0.04  0.71 -0.71]\n",
      "(0, 1)->(1, 1)\n",
      "(1, 1)->(2, 1)\n",
      "(2, 1)->(2, 1)\n",
      "curre  xyzw: [0 0 0 1]\n",
      "ready  xyzw: [-0.81 -0.02  0.    1.  ]\n",
      "target xyzw: [-0.31 -0.02  0.    1.  ]\n",
      "move to: [-0.31 -0.02  0.    1.  ]\n",
      "(0, 1)->(1, 1)\n",
      "(1, 1)->(2, 1)\n",
      "(2, 1)->(2, 1)\n"
     ]
    }
   ],
   "source": [
    "swp_fin_list = []\n",
    "for i_s, (snode_schedule, sargs, skwargs) in enumerate(zip(snode_schedule_list, scene_args_list, scene_kwargs_list)):\n",
    "    set_base_sweep(*sargs, **skwargs)\n",
    "    for snode_pre, snode_nxt in zip(snode_schedule[:-1], snode_schedule[1:]):\n",
    "        from_state = snode_pre.state\n",
    "        to_state = snode_nxt.state\n",
    "        subjects, ok = pscene.get_changing_subjects(from_state, to_state)\n",
    "\n",
    "        if len(subjects) ==0 or subjects[0] == \"sweep\":\n",
    "            if CONNECT_INDY:\n",
    "                ppline.execute_schedule([snode_pre, snode_nxt], one_by_one=True)\n",
    "                with indy:\n",
    "                    time.sleep(0.5)\n",
    "                    indy.wait_for_move_finish()\n",
    "            else:\n",
    "                ppline.play_schedule([snode_pre, snode_nxt], period=0.002)\n",
    "\n",
    "        elif subjects[0] == \"waypoints\":\n",
    "            Tbw0 = wayframer.get_tf_handle(list2dict(from_state.Q, gscene.joint_names))\n",
    "            Tbw1 = wayframer.get_tf_handle(list2dict(to_state.Q, gscene.joint_names))\n",
    "            Tw0w1 = np.matmul(SE3_inv(Tbw0), Tbw1)\n",
    "            cur_xyzw, tar_xyzw_rd, tar_xyzw = get_relative_mobile_command(Tw0w1, CONNECT_MOBILE)\n",
    "            ref_xyzw = cur_xyzw\n",
    "            delta_xyzw = np.subtract(tar_xyzw, ref_xyzw)\n",
    "            tar_xyzw = delta_xyzw + ref_xyzw\n",
    "            cur_xyzw = move_mobile_robot(sock_mobile, cur_xyzw, tar_xyzw, tar_xyzw, MOBILE_IP, CONNECT_MOBILE, move_direct=True)\n",
    "            if not CONNECT_MOBILE:\n",
    "                gscene.show_motion(snode_nxt.traj)\n",
    "            gscene.show_pose(to_state.Q)\n",
    "    # leave highlight on cleared area\n",
    "    swp_fin = gscene.copy_from(gscene.NAME_DICT[\"sweep\"], new_name=\"sweep_fin_{}\".format(i_s), color=(0,0,1,0.5))\n",
    "    swp_fin.dims = (swp_fin.dims[0], swp_fin.dims[1], swp_fin.dims[2]+0.002)\n",
    "    gscene.update_marker(swp_fin)\n",
    "    swp_fin_list.append(swp_fin)"
   ]
  },
  {
   "cell_type": "code",
   "execution_count": 13,
   "metadata": {},
   "outputs": [],
   "source": [
    "test_fun.clear()\n",
    "for swp_fin in swp_fin_list:\n",
    "    gscene.remove(swp_fin)\n",
    "pscene.clear_subjects()\n",
    "for child in copy.copy(bed_mat.children):\n",
    "    gscene.remove(gscene.NAME_DICT[child])"
   ]
  },
  {
   "cell_type": "markdown",
   "metadata": {},
   "source": [
    "\n",
    "## 2. Closet cleaning"
   ]
  },
  {
   "cell_type": "markdown",
   "metadata": {},
   "source": [
    "### 2.2. Make closet cleaning plan"
   ]
  },
  {
   "cell_type": "markdown",
   "metadata": {},
   "source": [
    "#### 2.2.1 get division-base pose combination data"
   ]
  },
  {
   "cell_type": "code",
   "execution_count": 14,
   "metadata": {},
   "outputs": [],
   "source": [
    "from pkg.planning.constraint.constraint_common import *\n",
    "from pkg.planning.constraint.constraint_actor import *\n",
    "from pkg.planning.constraint.constraint_subject import *"
   ]
  },
  {
   "cell_type": "code",
   "execution_count": 15,
   "metadata": {},
   "outputs": [],
   "source": [
    "wp_task, wp_hdl = add_waypoint_task(pscene, \"waypoint\", WP_DIMS, (0,0,0), (0,0,0), \n",
    "                                    parent=\"floor_ws\", color=(0, 0, 1, 0.5))\n",
    "brush_face = pscene.create_binder(bname=TOOL_NAME, gname=TOOL_NAME, _type=SweepFramer, \n",
    "                                  point=(-gscene.NAME_DICT['brush_face'].dims[0]/2-CLEARANCE,0,0), \n",
    "                                  rpy=(0,np.pi/2*1,0))\n",
    "ccheck.clear()"
   ]
  },
  {
   "cell_type": "code",
   "execution_count": 16,
   "metadata": {},
   "outputs": [],
   "source": [
    "div_base_dict, Tsm_keys, surface_div_centers, div_num, (ax_step, ax_swp, ax_pln) = \\\n",
    "                        get_division_dict(closet_left, brush_face, robot_config, \n",
    "                                          plane_val=None, tip_dir=\"up\", TOOL_DIM=TOOL_DIM, \n",
    "                                          ccheck=ccheck, resolution=0.02)"
   ]
  },
  {
   "cell_type": "markdown",
   "metadata": {},
   "source": [
    "* step과 reach data의 해상도 불일치 문제 - 동일한 기준으로 라운딩 필요\n",
    "* 높이 불일치 문제 해소 필요 - 맞는 것만 추리기"
   ]
  },
  {
   "cell_type": "markdown",
   "metadata": {},
   "source": [
    "#### 2.2.2 select base poses and generate motions"
   ]
  },
  {
   "cell_type": "code",
   "execution_count": 17,
   "metadata": {},
   "outputs": [],
   "source": [
    "HOME_POSE_SWEEP = VIEW_POSE_EXT\n",
    "crob.home_pose = HOME_POSE_SWEEP\n",
    "crob.home_dict = list2dict(crob.home_pose, gscene.joint_names)\n",
    "floor_ws = gscene.NAME_DICT[\"floor_ws\"]    \n",
    "test_fun_cl = TestBaseDivFunc(ppline, floor_ws, closet_left, WP_DIMS, TOOL_DIM, crob.home_dict)"
   ]
  },
  {
   "cell_type": "code",
   "execution_count": 21,
   "metadata": {},
   "outputs": [
    {
     "name": "stdout",
     "output_type": "stream",
     "text": [
      "Goal reached\n",
      "=========================================================================================================\n",
      "======================= terminated 0: first answer acquired ===============================\n",
      "=========================================================================================================\n"
     ]
    }
   ],
   "source": [
    "test_fun_cl.clear()\n",
    "\n",
    "idx_bases, idc_divs, covered_all, snode_schedule_dict = select_max_cover_bases(\n",
    "    div_base_dict, Tsm_keys, surface_div_centers, div_num, ax_step, \n",
    "    test_fun=test_fun_cl)"
   ]
  },
  {
   "cell_type": "markdown",
   "metadata": {},
   "source": [
    "#### 2.2.3 refine motions"
   ]
  },
  {
   "cell_type": "code",
   "execution_count": 22,
   "metadata": {
    "scrolled": true
   },
   "outputs": [
    {
     "name": "stdout",
     "output_type": "stream",
     "text": [
      "Goal reached\n"
     ]
    }
   ],
   "source": [
    "HOME_POSE_MOVE = VIEW_POSE\n",
    "snode_schedule_list, scene_args_list, scene_kwargs_list = refine_order_plan(\n",
    "    ppline, snode_schedule_dict, idx_bases, idc_divs, Qcur, \n",
    "    floor_ws, wayframer, closet_left, Tsm_keys, surface_div_centers,  \n",
    "    WP_DIMS, TOOL_DIM, ROBOT_NAME, MOBILE_NAME, HOME_POSE_MOVE)"
   ]
  },
  {
   "cell_type": "markdown",
   "metadata": {},
   "source": [
    "### 2.3 Execute bed cleaning sequence"
   ]
  },
  {
   "cell_type": "code",
   "execution_count": 23,
   "metadata": {},
   "outputs": [],
   "source": [
    "# indy.traj_vel = 3"
   ]
  },
  {
   "cell_type": "code",
   "execution_count": 24,
   "metadata": {
    "scrolled": true
   },
   "outputs": [
    {
     "name": "stdout",
     "output_type": "stream",
     "text": [
      "curre  xyzw: [0 0 0 1]\n",
      "ready  xyzw: [-0.48 -2.9  -0.63  0.11]\n",
      "target xyzw: [-0.4  -3.07 -0.63  0.11]\n",
      "move to: [-0.4  -3.07 -0.63  0.11]\n",
      "move to: [-0.4  -3.07 -0.63  0.11]\n",
      "(0, 1)->(1, 1)\n",
      "(1, 1)->(2, 1)\n",
      "(2, 1)->(2, 1)\n"
     ]
    }
   ],
   "source": [
    "swp_fin_list = []\n",
    "for i_s, (snode_schedule, sargs, skwargs) in enumerate(zip(snode_schedule_list, scene_args_list, scene_kwargs_list)):\n",
    "    set_base_sweep(*sargs, **skwargs)\n",
    "    for snode_pre, snode_nxt in zip(snode_schedule[:-1], snode_schedule[1:]):\n",
    "        from_state = snode_pre.state\n",
    "        to_state = snode_nxt.state\n",
    "        subjects, ok = pscene.get_changing_subjects(from_state, to_state)\n",
    "\n",
    "        if len(subjects) ==0 or subjects[0] == \"sweep\":\n",
    "            if CONNECT_INDY:\n",
    "                ppline.execute_schedule([snode_pre, snode_nxt], one_by_one=True)\n",
    "                with indy:\n",
    "                    time.sleep(0.5)\n",
    "                    indy.wait_for_move_finish()\n",
    "            else:\n",
    "                ppline.play_schedule([snode_pre, snode_nxt])\n",
    "\n",
    "        elif subjects[0] == \"waypoints\":\n",
    "            Tbw0 = wayframer.get_tf_handle(list2dict(from_state.Q, gscene.joint_names))\n",
    "            Tbw1 = wayframer.get_tf_handle(list2dict(to_state.Q, gscene.joint_names))\n",
    "            Tw0w1 = np.matmul(SE3_inv(Tbw0), Tbw1)\n",
    "            cur_xyzw, tar_xyzw_rd, tar_xyzw = get_relative_mobile_command(Tw0w1, CONNECT_MOBILE)\n",
    "            ref_xyzw = cur_xyzw\n",
    "            delta_xyzw = np.subtract(tar_xyzw, ref_xyzw)\n",
    "            tar_xyzw = delta_xyzw + ref_xyzw\n",
    "            cur_xyzw = move_mobile_robot(sock_mobile, cur_xyzw, tar_xyzw, tar_xyzw, MOBILE_IP, CONNECT_MOBILE, move_direct=True)\n",
    "            if not CONNECT_MOBILE:\n",
    "                gscene.show_motion(snode_nxt.traj)\n",
    "            gscene.show_pose(to_state.Q)\n",
    "    # leave highlight on cleared area\n",
    "    swp_fin = gscene.copy_from(gscene.NAME_DICT[\"sweep\"], new_name=\"sweep_fin_{}\".format(i_s), color=(0,0,1,0.5))\n",
    "    swp_fin.dims = (swp_fin.dims[0], swp_fin.dims[1], swp_fin.dims[2]+0.002)\n",
    "    gscene.update_marker(swp_fin)\n",
    "    swp_fin_list.append(swp_fin)"
   ]
  },
  {
   "cell_type": "markdown",
   "metadata": {},
   "source": [
    "## 3. Return to home"
   ]
  },
  {
   "cell_type": "code",
   "execution_count": null,
   "metadata": {},
   "outputs": [],
   "source": []
  },
  {
   "cell_type": "code",
   "execution_count": null,
   "metadata": {},
   "outputs": [],
   "source": []
  }
 ],
 "metadata": {
  "kernelspec": {
   "display_name": "Python 2",
   "language": "python",
   "name": "python2"
  },
  "language_info": {
   "codemirror_mode": {
    "name": "ipython",
    "version": 2
   },
   "file_extension": ".py",
   "mimetype": "text/x-python",
   "name": "python",
   "nbconvert_exporter": "python",
   "pygments_lexer": "ipython2",
   "version": "2.7.17"
  }
 },
 "nbformat": 4,
 "nbformat_minor": 2
}
