{
 "cells": [
  {
   "cell_type": "markdown",
   "metadata": {},
   "source": [
    "## set running directory to project source"
   ]
  },
  {
   "cell_type": "code",
   "execution_count": 1,
   "metadata": {},
   "outputs": [],
   "source": [
    "import os\n",
    "import sys\n",
    "sys.path.append(os.path.join(os.environ[\"RNB_PLANNING_DIR\"], 'src'))\n",
    "\n",
    "from pkg.utils.code_scraps import add_indy_sweep_tool, \\\n",
    "        use_current_place_point_only, use_current_sub_binders_only, \\\n",
    "        finish_L_shape, set_l_shape_object, ModeSwitcher, double_sweep_motions\n",
    "\n",
    "from pkg.controller.combined_robot import *\n",
    "from pkg.project_config import *\n",
    "from pkg.geometry.builder.scene_builder import SceneBuilder\n",
    "from pkg.planning.scene import PlanningScene\n",
    "from pkg.planning.pipeline import PlanningPipeline\n",
    "from pkg.ui.ui_broker import *\n",
    "from pkg.planning.constraint.constraint_actor import Gripper2Tool, PlacePlane, SweepFramer, FixtureSlot\n",
    "from pkg.planning.constraint.constraint_common import MotionConstraint\n",
    "from pkg.planning.constraint.constraint_subject import AbstractTask, AbstractObject\n",
    "from pkg.planning.constraint.constraint_subject import SweepLineTask\n",
    "from pkg.planning.constraint.constraint_subject import SweepFrame\n",
    "from pkg.planning.motion.moveit.moveit_planner import MoveitPlanner\n",
    "from pkg.planning.task.rrt import TaskRRT\n",
    "from pkg.planning.constraint.constraint_common import sample_redundancy, combine_redundancy\n",
    "from pkg.planning.sampling.node_sampling import make_state_param_hashable, UniformNodeSampler, PenaltyNodeSampler, GrowingSampler\n",
    "from pkg.planning.task.custom_rules.sweep_entrance_control import SweepEntranceControlRule\n",
    "import matplotlib.pyplot as plt\n",
    "import math\n",
    "import numpy as np\n",
    "from collections import defaultdict\n",
    "from demo_utils.area_select import DATASET_DIR, SweepDirections\n",
    "try_mkdir(DATASET_DIR)"
   ]
  },
  {
   "cell_type": "code",
   "execution_count": null,
   "metadata": {},
   "outputs": [],
   "source": []
  },
  {
   "cell_type": "markdown",
   "metadata": {},
   "source": [
    "## create scene builder"
   ]
  },
  {
   "cell_type": "code",
   "execution_count": 2,
   "metadata": {},
   "outputs": [
    {
     "name": "stdout",
     "output_type": "stream",
     "text": [
      "connection command:\n",
      "kmb0: False\n",
      "indy1: False\n"
     ]
    }
   ],
   "source": [
    "ROBOT_TYPE = RobotType.indy7\n",
    "INDY_BASE_OFFSET = (0.172,0,0.439)\n",
    "TIMEOUT_MP = 0.5\n",
    "\n",
    "mobile_config = RobotConfig(0, RobotType.kmb, ((0,0,0), (0,0,0)),\n",
    "                None)\n",
    "robot_config = RobotConfig(1, ROBOT_TYPE, (INDY_BASE_OFFSET, (0,0,0)),\n",
    "                INDY_IP, root_on=\"kmb0_platform\", \n",
    "                           specs={\"no_sdk\":True})\n",
    "\n",
    "crob = CombinedRobot(robots_on_scene=[mobile_config, robot_config], connection_list=[False, False])\n",
    "\n",
    "ROBOT_NAME = robot_config.get_indexed_name()\n",
    "s_builder = SceneBuilder(None)\n",
    "# s_builder.reset_reference_coord(ref_name=\"floor\")"
   ]
  },
  {
   "cell_type": "markdown",
   "metadata": {},
   "source": [
    "## make geometry scene"
   ]
  },
  {
   "cell_type": "code",
   "execution_count": 3,
   "metadata": {},
   "outputs": [
    {
     "name": "stdout",
     "output_type": "stream",
     "text": [
      "Unable to register with master node [http://localhost:11311]: master may not be running yet. Will keep trying.\n",
      "Please create a subscriber to the marker\n",
      "publication OK\n",
      "published: [0, 0, 0, 0, 0, 0, 0, 0, 0, 0, 0, 0]\n",
      "Please create a subscriber to the marker\n"
     ]
    }
   ],
   "source": [
    "BASE_LINK = \"base_link\"\n",
    "EE_NAME = \"ee_point\"\n",
    "gscene = s_builder.create_gscene(crob, start_rviz=True)\n",
    "\n",
    "floor = gscene.create_safe(GEOTYPE.BOX, \"floor\", BASE_LINK, (3,3,0.01), (0,0,0), \n",
    "                           rpy=(0,0,0), color=(0.8,0.8,0.8,0.5), display=True, fixed=True, collision=False)\n",
    "gtems = s_builder.add_robot_geometries(color=(0,1,0,0.5), display=True, collision=True)\n",
    "# ee_point.draw_traj_coords([[0]*6])"
   ]
  },
  {
   "cell_type": "markdown",
   "metadata": {},
   "source": [
    "## init planning pipeline"
   ]
  },
  {
   "cell_type": "code",
   "execution_count": 4,
   "metadata": {
    "scrolled": true
   },
   "outputs": [
    {
     "name": "stdout",
     "output_type": "stream",
     "text": [
      "Dash is running on http://0.0.0.0:8050/\n",
      "\n",
      " * Serving Flask app \"pkg.ui.dash_launcher\" (lazy loading)\n",
      " * Environment: production\n"
     ]
    }
   ],
   "source": [
    "from demo_utils.environment import add_kiro_indytool_down\n",
    "\n",
    "pscene = PlanningScene(gscene, combined_robot=crob)\n",
    "TIP_LINK = pscene.robot_chain_dict[ROBOT_NAME][\"tip_link\"]\n",
    "ROBOT_BASE = pscene.robot_chain_dict[ROBOT_NAME]['link_names'][0]\n",
    "add_kiro_indytool_down(gscene, zoff=0, tool_link=TIP_LINK, face_name=\"dummy_brush\")\n",
    "ee_point = gscene.create_safe(GEOTYPE.SPHERE, EE_NAME, TIP_LINK, (0.01,)*3, \n",
    "                              center=(0,0,0), rpy=(0,0,0), \n",
    "                              color=(0.8,0.2,0.2,0.8), display=True, fixed=True, collision=False)\n",
    "\n",
    "ppline = PlanningPipeline(pscene)\n",
    "\n",
    "mplan = MoveitPlanner(pscene, enable_dual=False, incremental_constraint_motion=True)\n",
    "mplan.update_gscene()\n",
    "ppline.set_motion_planner(mplan)\n",
    "\n",
    "\n",
    "# start UI\n",
    "ui_broker = UIBroker.instance()\n",
    "ui_broker.initialize(ppline, s_builder)\n",
    "ui_broker.start_server()\n",
    "\n",
    "ui_broker.set_tables()"
   ]
  },
  {
   "cell_type": "code",
   "execution_count": null,
   "metadata": {},
   "outputs": [],
   "source": []
  },
  {
   "cell_type": "markdown",
   "metadata": {},
   "source": [
    "## Set Parameters"
   ]
  },
  {
   "cell_type": "code",
   "execution_count": 12,
   "metadata": {},
   "outputs": [],
   "source": [
    "TIMEOUT_MP = 0.5\n",
    "\n",
    "# X_step = 0.2\n",
    "# Y_step = 0.01\n",
    "# Z_step = 0.2\n",
    "X_step = 0.02\n",
    "Y_step = 0.01\n",
    "Z_step = 0.02\n",
    "\n",
    "SWEEP_AXIS = \"Y\"\n",
    "\n",
    "VISUALIZE = False\n",
    "VERBOSE = False\n",
    "N_try = 3\n",
    "SWEEP_DIV = 10\n",
    "\n",
    "\n",
    "HOME_POSE_EXT = np.array([0,]*6 + np.deg2rad([  0., 50.,  -70.,  -0.,  -90., 0]).tolist())\n",
    "crob.home_pose = HOME_POSE_EXT\n",
    "crob.home_dict = list2dict(crob.home_pose, gscene.joint_names)\n",
    "gscene.show_pose(crob.home_pose)\n",
    "\n",
    "# # dummy tool coord\n",
    "# gscene.add_highlight_axis(\"tool\", \"coord\", link_name=\"indy0_tcp\", \n",
    "#                           center=(0.1,0,0.2), orientation_mat=Rot_rpy((0,0,np.pi)))"
   ]
  },
  {
   "cell_type": "code",
   "execution_count": null,
   "metadata": {},
   "outputs": [],
   "source": []
  },
  {
   "cell_type": "markdown",
   "metadata": {},
   "source": [
    "## Scan"
   ]
  },
  {
   "cell_type": "code",
   "execution_count": 13,
   "metadata": {
    "scrolled": true
   },
   "outputs": [
    {
     "name": "stdout",
     "output_type": "stream",
     "text": [
      "========= (0.2, 0.0, 0.0) (1/32)=========\n",
      "========= (0.2, 0.0, 0.2) (2/32)=========\n",
      "========= (0.2, 0.0, 0.4) (3/32)=========\n",
      "========= (0.2, 0.0, 0.6) (4/32)=========\n",
      "========= (0.2, 0.0, 0.8) (5/32)=========\n",
      "singular\n",
      "joint max\n",
      "error off\n",
      "singular\n",
      "error off\n",
      "singular\n",
      "collision\n",
      "joint max\n",
      "collision\n",
      "collision\n",
      "collision\n",
      "joint max\n",
      "collision\n",
      "error off\n",
      "========= (0.2, 0.0, 1.0) (6/32)=========\n",
      "error off\n",
      "singular\n",
      "error off\n",
      "joint max\n",
      "singular\n",
      "joint max\n",
      "collision\n",
      "singular\n",
      "error off\n",
      "collision\n",
      "collision\n",
      "joint max\n",
      "singular\n",
      "error off\n",
      "========= (0.2, 0.0, 1.2) (7/32)=========\n",
      "joint max\n",
      "joint min\n",
      "singular\n",
      "singular\n",
      "singular\n",
      "singular\n",
      "joint min\n",
      "joint max\n",
      "joint min\n",
      "error off\n",
      "========= (0.2, 0.0, 1.4) (8/32)=========\n",
      "test: \t54780.1 ms/1 = 54780.1 ms (54780.089/54780.089)\n",
      "loop: \t54779.9 ms/8 = 6847.5 ms (1616.8/19961.532)\n",
      "\n",
      "=============================================\n",
      "=============== 54 / 219 s===================\n",
      "=============================================\n",
      "========= (0.4, 0.0, 0.0) (9/32)=========\n",
      "========= (0.4, 0.0, 0.2) (10/32)=========\n",
      "========= (0.4, 0.0, 0.4) (11/32)=========\n",
      "========= (0.4, 0.0, 0.6) (12/32)=========\n",
      "joint max\n",
      "joint max\n",
      "singular\n",
      "joint max\n",
      "singular\n",
      "singular\n",
      "singular\n",
      "singular\n",
      "singular\n",
      "singular\n",
      "singular\n",
      "singular\n",
      "joint min\n",
      "singular\n",
      "========= (0.4, 0.0, 0.8) (13/32)=========\n",
      "joint max\n",
      "joint max\n",
      "singular\n",
      "collision\n",
      "singular\n",
      "joint max\n",
      "singular\n",
      "singular\n",
      "singular\n",
      "singular\n",
      "joint min\n",
      "joint min\n",
      "joint min\n",
      "singular\n",
      "========= (0.4, 0.0, 1.0) (14/32)=========\n",
      "singular\n",
      "singular\n",
      "error off\n",
      "singular\n",
      "error off\n",
      "singular\n",
      "joint min\n",
      "joint max\n",
      "error off\n",
      "singular\n",
      "========= (0.4, 0.0, 1.2) (15/32)=========\n",
      "singular\n",
      "error off\n",
      "singular\n",
      "joint max\n",
      "singular\n",
      "singular\n",
      "========= (0.4, 0.0, 1.4) (16/32)=========\n",
      "test: \t172145.7 ms/2 = 86072.8 ms (54780.089/117365.598)\n",
      "loop: \t117364.7 ms/16 = 7335.3 ms (1616.8/20657.325)\n",
      "\n",
      "=============================================\n",
      "=============== 117 / 234 s===================\n",
      "=============================================\n",
      "========= (0.6, 0.0, 0.0) (17/32)=========\n",
      "========= (0.6, 0.0, 0.2) (18/32)=========\n",
      "collision\n",
      "collision\n",
      "========= (0.6, 0.0, 0.4) (19/32)=========\n",
      "collision\n",
      "collision\n",
      "collision\n",
      "collision\n",
      "collision\n",
      "collision\n",
      "collision\n",
      "collision\n",
      "joint min\n",
      "collision\n",
      "========= (0.6, 0.0, 0.6) (20/32)=========\n",
      "singular\n",
      "singular\n",
      "singular\n",
      "joint max\n",
      "singular\n",
      "singular\n",
      "singular\n",
      "singular\n",
      "singular\n",
      "singular\n",
      "========= (0.6, 0.0, 0.8) (21/32)=========\n",
      "error off\n",
      "singular\n",
      "error off\n",
      "singular\n",
      "error off\n",
      "joint max\n",
      "error off\n",
      "singular\n",
      "singular\n",
      "singular\n",
      "========= (0.6, 0.0, 1.0) (22/32)=========\n",
      "singular\n",
      "singular\n",
      "singular\n",
      "singular\n",
      "singular\n",
      "singular\n",
      "========= (0.6, 0.0, 1.2) (23/32)=========\n",
      "========= (0.6, 0.0, 1.4) (24/32)=========\n",
      "test: \t352458.2 ms/3 = 117486.1 ms (54780.089/180312.511)\n",
      "loop: \t180311.0 ms/24 = 7513.0 ms (1609.662/20657.325)\n",
      "\n",
      "=============================================\n",
      "=============== 180 / 240 s===================\n",
      "=============================================\n",
      "========= (0.8, 0.0, 0.0) (25/32)=========\n",
      "========= (0.8, 0.0, 0.2) (26/32)=========\n",
      "========= (0.8, 0.0, 0.4) (27/32)=========\n",
      "========= (0.8, 0.0, 0.6) (28/32)=========\n",
      "singular\n",
      "singular\n",
      "========= (0.8, 0.0, 0.8) (29/32)=========\n",
      "========= (0.8, 0.0, 1.0) (30/32)=========\n",
      "========= (0.8, 0.0, 1.2) (31/32)=========\n",
      "========= (0.8, 0.0, 1.4) (32/32)=========\n",
      "test: \t550499.1 ms/4 = 137624.8 ms (54780.089/198040.931)\n",
      "loop: \t198038.6 ms/32 = 6188.7 ms (1609.662/20657.325)\n",
      "\n",
      "=============================================\n",
      "=============== 198 / 198 s===================\n",
      "=============================================\n"
     ]
    }
   ],
   "source": [
    "# HOME_POSE = np.zeros(gscene.joint_num)\n",
    "HOME_POSE = HOME_POSE_EXT\n",
    "for sweep_dir in SweepDirections:\n",
    "    DATASET_PATH = os.path.join(DATASET_DIR, SweepDirections.get_file_name(ROBOT_TYPE, sweep_dir))\n",
    "    R_be = SweepDirections.get_dcm_re(sweep_dir)\n",
    "\n",
    "    if sweep_dir == SweepDirections.front:\n",
    "        X_range = (0.3, 1)\n",
    "        Y_range = (-1, 1)\n",
    "        Z_range = (0.0, 1.0)\n",
    "    elif sweep_dir == SweepDirections.up:\n",
    "        X_range = (0.2, 0.8)\n",
    "        Y_range = (-1, 1)\n",
    "        Z_range = (0.0, 1.3)\n",
    "    elif sweep_dir == SweepDirections.down:\n",
    "        X_range = (0.2, 0.8)\n",
    "        Y_range = (-1, 1)\n",
    "        Z_range = (-0.7, 0.6)\n",
    "    else:\n",
    "        raise(NotImplementedError(\"SweepDirection not implemented\"))\n",
    "        \n",
    "    gtimer = GlobalTimer.instance()\n",
    "    gtimer.reset()\n",
    "\n",
    "    X_DIR, Y_DIR, Z_DIR = np.identity(3, dtype=np.int)\n",
    "    SWEEP_AX_IDX = \"xyz\".find(SWEEP_AXIS.lower())\n",
    "    SWEEP_DIR = [X_DIR, Y_DIR, Z_DIR][SWEEP_AX_IDX]\n",
    "    RANGE_STEPS_REF = [(X_range, X_step, X_DIR), (Y_range, Y_step, Y_DIR), (Z_range, Z_step, Z_DIR)]\n",
    "    RANGE_STEPS = np.array(RANGE_STEPS_REF)[np.where(np.logical_not(SWEEP_DIR))]\n",
    "    RANGE1, STEP1, DIR1 = RANGE_STEPS[0]\n",
    "    RANGE2, STEP2, DIR2 = RANGE_STEPS[1]\n",
    "    RANGEX, STEPX, DIRX = RANGE_STEPS_REF[SWEEP_AX_IDX]\n",
    "    STEP_SWEEP = float(RANGEX[1] - RANGEX[0])/SWEEP_DIV\n",
    "\n",
    "    range_list_dict = {}\n",
    "    config_list_dict = {}\n",
    "    STEPS_1 = np.round(np.arange(RANGE1[0], RANGE1[1]+STEP1, STEP1), 4)\n",
    "    STEPS_2 = np.round(np.arange(RANGE2[0], RANGE2[1]+STEP2, STEP2), 4)\n",
    "    STEPS_X = np.round([0] + np.arange(RANGEX[0], RANGEX[1]-1e-3, STEP_SWEEP)[1:].tolist(), 4)\n",
    "    LEN_1, LEN_2 = len(STEPS_1), len(STEPS_2)\n",
    "    count = 0\n",
    "    LEN_ALL = LEN_1*LEN_2\n",
    "    gtimer.tic(\"test\")\n",
    "    for i_p1, pos1 in enumerate(STEPS_1):\n",
    "        for i_p2, pos2 in enumerate(STEPS_2):\n",
    "            count += 1\n",
    "            with gtimer.block(\"loop\"):\n",
    "                pos0 = np.multiply(pos1, DIR1) + np.multiply(pos2, DIR2)\n",
    "                key = tuple(np.round(pos0, 4))\n",
    "                print(\"========= {} ({}/{})=========\".format(key, count, LEN_ALL))\n",
    "                T_be = SE3(R_be, pos0)\n",
    "                T_bp = np.matmul(T_be, SE3(np.identity(3), (0.34,0,0.25)))\n",
    "                gscene.create_safe(GEOTYPE.BOX, \"floor\", ROBOT_BASE, \n",
    "                                   dims = np.multiply(0.01, DIR1) + np.multiply(0.4, DIR2) + np.multiply(RANGEX[1]-RANGEX[0], DIRX), \n",
    "                                   center=T_bp[:3,3], rpy=Rot2rpy(T_bp[:3,:3]), \n",
    "                                   color=(0.8,0.0,0.0,0.5), display=True,  \n",
    "                                   fixed=True, collision=True)\n",
    "                if VISUALIZE:\n",
    "                    gscene.add_highlight_axis(\"hl\", \"tbe0\", link_name=ROBOT_BASE, \n",
    "                                              center=T_be[:3,3], orientation_mat=T_be[:3,:3])\n",
    "                for _ in range(N_try):\n",
    "                    traj, success = mplan.planner.plan_py(\n",
    "                        ROBOT_NAME, TIP_LINK, np.concatenate(T2xyzquat(T_be)), ROBOT_BASE, HOME_POSE, \n",
    "                        timeout=TIMEOUT_MP)\n",
    "\n",
    "                    if success:\n",
    "                        break\n",
    "                if not success:\n",
    "                    continue\n",
    "                p2p_list = []\n",
    "                qpair_list = []\n",
    "                for i_px, posx in enumerate(STEPS_X):\n",
    "                    pos_sweep = np.multiply(posx, DIRX)\n",
    "                    pos = pos0 + pos_sweep\n",
    "                    T_be = SE3(R_be, pos)\n",
    "                    if i_px > 0: # already done for 0\n",
    "                        if abs(posx) < 1e-4: # already done for 0 at 0 index\n",
    "                            continue\n",
    "                        if VISUALIZE:\n",
    "                            gscene.add_highlight_axis(\"hl\", \"tbe0\", link_name=ROBOT_BASE, \n",
    "                                                      center=T_be[:3,3], orientation_mat=T_be[:3,:3])\n",
    "                        traj, success = mplan.planner.plan_py(\n",
    "                            ROBOT_NAME, TIP_LINK, np.concatenate(T2xyzquat(T_be)), ROBOT_BASE, HOME_POSE, \n",
    "                            timeout=TIMEOUT_MP)\n",
    "                    if not success:\n",
    "                        continue\n",
    "                    Q0 = traj[-1]\n",
    "                    if VISUALIZE:\n",
    "                        gscene.show_pose(Q0)\n",
    "\n",
    "                    pos_tar = np.multiply(RANGEX[0], DIRX)\n",
    "                    dP_tar = pos_tar - pos_sweep\n",
    "                    if VISUALIZE:\n",
    "                        gscene.add_highlight_axis(\"hl\", \"tbe_n\", link_name=ROBOT_BASE, \n",
    "                                                  center=T_be[:3,3]+dP_tar, orientation_mat=T_be[:3,:3])\n",
    "                    Traj_down, success = get_sweep_traj(mplan, ee_point, dP_tar, Q0, DP=STEPX, ERROR_CUT=0.01, \n",
    "                                                        ref_link=ROBOT_BASE, VISUALIZE=VISUALIZE, VERBOSE=VERBOSE)\n",
    "                    if len(Traj_down)==0:\n",
    "                        continue\n",
    "                    Qdown = Traj_down[-1]\n",
    "\n",
    "                    pos_tar = np.multiply(RANGEX[1], DIRX)\n",
    "                    dP_tar = pos_tar - pos_sweep\n",
    "                    if VISUALIZE:\n",
    "                        gscene.add_highlight_axis(\"hl\", \"tbe_p\", link_name=ROBOT_BASE, \n",
    "                                                  center=T_be[:3,3]+dP_tar, orientation_mat=T_be[:3,:3])\n",
    "                    Traj_up, success = get_sweep_traj(mplan, ee_point, dP_tar, Q0, DP=STEPX, ERROR_CUT=0.01, \n",
    "                                                      ref_link=ROBOT_BASE, VISUALIZE=VISUALIZE, VERBOSE=VERBOSE)\n",
    "                    if len(Traj_up)==0:\n",
    "                        continue\n",
    "                    Qup = Traj_up[-1]\n",
    "\n",
    "                    p0 = ee_point.get_tf(list2dict(Q0, gscene.joint_names))[SWEEP_AX_IDX,3]\n",
    "                    pdown = ee_point.get_tf(list2dict(Qdown, gscene.joint_names))[SWEEP_AX_IDX,3]\n",
    "                    pup = ee_point.get_tf(list2dict(Qup, gscene.joint_names))[SWEEP_AX_IDX,3]\n",
    "                    p2p = (pdown, pup)\n",
    "                    qpair = (Qdown, Q0, Qup)\n",
    "                    if np.multiply(*np.sign(p2p))<0:\n",
    "                        p2p_list.append(p2p)\n",
    "                        qpair_list.append(qpair)\n",
    "                range_list_dict[key] = np.array(p2p_list)\n",
    "                config_list_dict[key] = np.array(qpair_list)\n",
    "                if VISUALIZE:\n",
    "                    gscene.clear_highlight()\n",
    "        elapsed = gtimer.toc(\"test\")/1000\n",
    "        print(gtimer)\n",
    "        print(\"=============================================\")\n",
    "        print(\"=============== {} / {} s===================\".format(int(elapsed), int(elapsed/count*LEN_ALL)))\n",
    "\n",
    "        print(\"=============================================\")\n",
    "\n",
    "    best_range_dict = {}\n",
    "    for k,v in range_list_dict.items():\n",
    "        if len(v)>0:\n",
    "            i_max = np.argmax(v[:,1]-v[:,0])\n",
    "            best_range_dict[k] = v[i_max]\n",
    "        else:\n",
    "            best_range_dict[k] = (0,0)\n",
    "    np.save(DATASET_PATH, {\"best_range_dict\": best_range_dict, \"range_list_dict\": range_list_dict, \"config_list_dict\": config_list_dict})"
   ]
  },
  {
   "cell_type": "code",
   "execution_count": 14,
   "metadata": {},
   "outputs": [],
   "source": [
    "# np.save(DATASET_PATH, {\"best_range_dict\": best_range_dict, \"range_list_dict\": range_list_dict, \"config_list_dict\": config_list_dict})"
   ]
  },
  {
   "cell_type": "markdown",
   "metadata": {},
   "source": [
    "## plot ranges"
   ]
  },
  {
   "cell_type": "code",
   "execution_count": 15,
   "metadata": {
    "scrolled": false
   },
   "outputs": [
    {
     "data": {
      "image/png": "[encoded data removed]",
      "text/plain": [
       "<Figure size 1080x8640 with 8 Axes>"
      ]
     },
     "metadata": {
      "needs_background": "light"
     },
     "output_type": "display_data"
    }
   ],
   "source": [
    "plt.figure(figsize=(15,15*LEN_2))\n",
    "for i_h, height_plot in enumerate(STEPS_2):\n",
    "    plt.subplot(LEN_2, 1, i_h+1)\n",
    "    plt.title(height_plot)\n",
    "    for k,v in range_list_dict.items():\n",
    "        if round(k[2], 4)==round(height_plot, 4):\n",
    "            for vv in v:\n",
    "                plt.plot(vv, [k[0]+0.02, k[0]+0.02], '-o', linewidth=1)\n",
    "            plt.plot(best_range_dict[k], [k[0], k[0]], '-ks', linewidth=3)\n",
    "    plt.axis([-1,1,0,1])\n",
    "    plt.grid()"
   ]
  },
  {
   "cell_type": "code",
   "execution_count": null,
   "metadata": {},
   "outputs": [],
   "source": []
  },
  {
   "cell_type": "code",
   "execution_count": null,
   "metadata": {},
   "outputs": [],
   "source": []
  },
  {
   "cell_type": "markdown",
   "metadata": {
    "scrolled": true
   },
   "source": [
    "## Read and save min/max csv"
   ]
  },
  {
   "cell_type": "code",
   "execution_count": 9,
   "metadata": {},
   "outputs": [],
   "source": [
    "for sweep_dir in SweepDirections:\n",
    "    DIRECTION = \"-\"+sweep_dir.name\n",
    "    filename = SweepDirections.get_file_name(ROBOT_TYPE, sweep_dir)\n",
    "    DATASET_PATH = os.path.join(DATASET_DIR, filename+\".npy\")\n",
    "    dataset_read = np.reshape(np.load(DATASET_PATH, allow_pickle=True), (1,))[0]\n",
    "    range_list_dict = dataset_read['range_list_dict']\n",
    "    best_range_dict = dataset_read['best_range_dict']\n",
    "    \n",
    "    SWEEP_VEC = [0,1,0]\n",
    "    min_points = []\n",
    "    max_points = []\n",
    "    for k,v in best_range_dict.items():\n",
    "        min_points.append(tuple(np.add(k, np.multiply(v[0], SWEEP_VEC))))\n",
    "        max_points.append(tuple(np.add(k, np.multiply(v[1], SWEEP_VEC))))\n",
    "    min_points = sorted(min_points, key=lambda x: (x[2], x[0], x[1]))\n",
    "    max_points = sorted(max_points, key=lambda x: (x[2], x[0], x[1]))\n",
    "    np.savetxt(os.path.join(DATASET_DIR, filename+'-min.csv'), min_points, delimiter=\",\")\n",
    "    np.savetxt(os.path.join(DATASET_DIR, filename+'-max.csv'), max_points, delimiter=\",\")"
   ]
  },
  {
   "cell_type": "code",
   "execution_count": null,
   "metadata": {},
   "outputs": [],
   "source": []
  },
  {
   "cell_type": "code",
   "execution_count": null,
   "metadata": {},
   "outputs": [],
   "source": [
    "# DATASET_PATH_BAK1 = os.path.join(DATASET_DIR+\"_bak\", ROBOT_TYPE.name+'-up.npy')\n",
    "# DATASET_PATH_BAK2 = os.path.join(DATASET_DIR+\"_bak2\", ROBOT_TYPE.name+'-up.npy')\n",
    "# dataset_read_bak1 = np.reshape(np.load(DATASET_PATH_BAK1, allow_pickle=True), (1,))[0]\n",
    "# dataset_read_bak2 = np.reshape(np.load(DATASET_PATH_BAK2, allow_pickle=True), (1,))[0]\n",
    "# for k, v in dataset_read_bak1.items():\n",
    "#     v.update(dataset_read_bak2[k])\n",
    "# np.save(DATASET_PATH, dataset_read_bak1)"
   ]
  },
  {
   "cell_type": "code",
   "execution_count": null,
   "metadata": {},
   "outputs": [],
   "source": []
  },
  {
   "cell_type": "code",
   "execution_count": null,
   "metadata": {},
   "outputs": [],
   "source": []
  },
  {
   "cell_type": "code",
   "execution_count": null,
   "metadata": {},
   "outputs": [],
   "source": []
  },
  {
   "cell_type": "code",
   "execution_count": null,
   "metadata": {},
   "outputs": [],
   "source": []
  },
  {
   "cell_type": "code",
   "execution_count": null,
   "metadata": {},
   "outputs": [],
   "source": []
  },
  {
   "cell_type": "code",
   "execution_count": null,
   "metadata": {},
   "outputs": [],
   "source": []
  },
  {
   "cell_type": "code",
   "execution_count": null,
   "metadata": {},
   "outputs": [],
   "source": []
  },
  {
   "cell_type": "code",
   "execution_count": null,
   "metadata": {},
   "outputs": [],
   "source": []
  },
  {
   "cell_type": "code",
   "execution_count": null,
   "metadata": {},
   "outputs": [],
   "source": []
  }
 ],
 "metadata": {
  "kernelspec": {
   "display_name": "Python 2",
   "language": "python",
   "name": "python2"
  },
  "language_info": {
   "codemirror_mode": {
    "name": "ipython",
    "version": 2
   },
   "file_extension": ".py",
   "mimetype": "text/x-python",
   "name": "python",
   "nbconvert_exporter": "python",
   "pygments_lexer": "ipython2",
   "version": "2.7.17"
  }
 },
 "nbformat": 4,
 "nbformat_minor": 2
}
