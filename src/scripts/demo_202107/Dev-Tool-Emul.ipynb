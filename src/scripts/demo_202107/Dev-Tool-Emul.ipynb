{
 "cells": [
  {
   "cell_type": "markdown",
   "metadata": {},
   "source": [
    "### Emulate USB serial port on terminal\n",
    "* terminal 1\n",
    "```bash\n",
    "sudo socat PTY,link=/dev/ttyS10 PTY,link=/dev/ttyS11\n",
    "```\n",
    "* terminal 2\n",
    "```bash\n",
    "sudo chown $USER /dev/ttyS10 \\\n",
    "&& sudo chown $USER /dev/ttyS11\n",
    "```"
   ]
  },
  {
   "cell_type": "code",
   "execution_count": 1,
   "metadata": {},
   "outputs": [
    {
     "name": "stdout",
     "output_type": "stream",
     "text": [
      "Connected COM ports: ['/dev/ttyS11', '/dev/ttyS10', '/dev/ttyUSB0']\n"
     ]
    }
   ],
   "source": [
    "import os\n",
    "import sys\n",
    "sys.path.append(os.path.join(os.path.join(\n",
    "    os.environ[\"RNB_PLANNING_DIR\"], 'src')))\n",
    "from pkg.utils.utils import *\n",
    "\n",
    "print_com_ports()"
   ]
  },
  {
   "cell_type": "code",
   "execution_count": 2,
   "metadata": {},
   "outputs": [],
   "source": [
    "import serial\n",
    "import serial.tools.list_ports as sp\n",
    "import numpy as np\n",
    "import time\n",
    "from enum import Enum\n",
    "from ctypes import c_int16\n",
    "\n",
    "KIRO_TOOL_BDRATE = 9600\n",
    "\n",
    "class KiroToolEmulator:\n",
    "    def __init__(self, port='/dev/ttyS11', baudrate=KIRO_TOOL_BDRATE, timeout=1):\n",
    "        self.sport = serial.Serial(port, baudrate, timeout=timeout, rtscts=True,dsrdtr=True)\n",
    "        \n",
    "    def recv_send(self):\n",
    "        recv_str = self.sport.read_all()\n",
    "        if len(recv_str)>0:\n",
    "            recv_ints = str2ascii(recv_str)\n",
    "            print(\".\".join(map(lambda x: \"{:#04x}\".format(x)[2:], recv_ints)))\n",
    "            recv_ints[1] = (recv_ints[1] + 0xa0)%0x100\n",
    "            self.sport.write(bytearray(recv_ints))"
   ]
  },
  {
   "cell_type": "code",
   "execution_count": 3,
   "metadata": {},
   "outputs": [],
   "source": [
    "kte = KiroToolEmulator()"
   ]
  },
  {
   "cell_type": "code",
   "execution_count": 4,
   "metadata": {},
   "outputs": [
    {
     "name": "stdout",
     "output_type": "stream",
     "text": [
      "02.01.00.00.00.03.03\n",
      "02.03.00.00.00.05.03\n",
      "02.02.01.00.00.05.03\n",
      "02.02.02.00.00.06.03\n",
      "02.02.04.00.00.08.03\n",
      "02.02.05.00.00.09.03\n",
      "02.02.06.00.5a.64.03\n",
      "02.02.06.00.a6.b0.03\n"
     ]
    },
    {
     "ename": "KeyboardInterrupt",
     "evalue": "",
     "output_type": "error",
     "traceback": [
      "\u001b[0;31m---------------------------------------------------------------------------\u001b[0m",
      "\u001b[0;31mKeyboardInterrupt\u001b[0m                         Traceback (most recent call last)",
      "\u001b[0;32m<ipython-input-4-f0fd55af984b>\u001b[0m in \u001b[0;36m<module>\u001b[0;34m()\u001b[0m\n\u001b[1;32m      1\u001b[0m \u001b[0;32mwhile\u001b[0m \u001b[0mTrue\u001b[0m\u001b[0;34m:\u001b[0m\u001b[0;34m\u001b[0m\u001b[0m\n\u001b[1;32m      2\u001b[0m     \u001b[0mkte\u001b[0m\u001b[0;34m.\u001b[0m\u001b[0mrecv_send\u001b[0m\u001b[0;34m(\u001b[0m\u001b[0;34m)\u001b[0m\u001b[0;34m\u001b[0m\u001b[0m\n\u001b[0;32m----> 3\u001b[0;31m     \u001b[0mtime\u001b[0m\u001b[0;34m.\u001b[0m\u001b[0msleep\u001b[0m\u001b[0;34m(\u001b[0m\u001b[0;36m0.5\u001b[0m\u001b[0;34m)\u001b[0m\u001b[0;34m\u001b[0m\u001b[0m\n\u001b[0m",
      "\u001b[0;31mKeyboardInterrupt\u001b[0m: "
     ]
    }
   ],
   "source": [
    "while True:\n",
    "    kte.recv_send()\n",
    "    time.sleep(0.5)"
   ]
  },
  {
   "cell_type": "code",
   "execution_count": null,
   "metadata": {},
   "outputs": [],
   "source": []
  }
 ],
 "metadata": {
  "kernelspec": {
   "display_name": "Python 2",
   "language": "python",
   "name": "python2"
  },
  "language_info": {
   "codemirror_mode": {
    "name": "ipython",
    "version": 2
   },
   "file_extension": ".py",
   "mimetype": "text/x-python",
   "name": "python",
   "nbconvert_exporter": "python",
   "pygments_lexer": "ipython2",
   "version": "2.7.17"
  }
 },
 "nbformat": 4,
 "nbformat_minor": 2
}
