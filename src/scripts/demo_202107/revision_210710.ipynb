{
 "cells": [
  {
   "cell_type": "code",
   "execution_count": 1,
   "metadata": {},
   "outputs": [],
   "source": [
    "import os\n",
    "import sys\n",
    "os.chdir(os.path.join(os.environ[\"RNB_PLANNING_DIR\"], 'src'))\n",
    "sys.path.append(os.path.join(os.environ[\"RNB_PLANNING_DIR\"], 'src/scripts/demo_202107'))"
   ]
  },
  {
   "cell_type": "code",
   "execution_count": null,
   "metadata": {},
   "outputs": [],
   "source": []
  },
  {
   "cell_type": "code",
   "execution_count": 2,
   "metadata": {},
   "outputs": [],
   "source": [
    "# Table dimension\n",
    "T_Width = 1.8\n",
    "T_Height = 0.785\n",
    "T_Depth = 0.734"
   ]
  },
  {
   "cell_type": "code",
   "execution_count": 3,
   "metadata": {},
   "outputs": [
    {
     "name": "stdout",
     "output_type": "stream",
     "text": [
      "connection command:\n",
      "indy0: False\n"
     ]
    }
   ],
   "source": [
    "from pkg.controller.combined_robot import *\n",
    "from pkg.project_config import *\n",
    "\n",
    "crob = CombinedRobot(robots_on_scene=[\n",
    "    RobotConfig(0, RobotType.indy7, None,\n",
    "                INDY_IP)]\n",
    "              , connection_list=[False])"
   ]
  },
  {
   "cell_type": "code",
   "execution_count": 4,
   "metadata": {},
   "outputs": [],
   "source": [
    "from pkg.geometry.builder.scene_builder import SceneBuilder\n",
    "s_builder = SceneBuilder(None)\n",
    "# # deprecated: s_builder.reset_reference_coord(ref_name=\"floor\")"
   ]
  },
  {
   "cell_type": "code",
   "execution_count": 5,
   "metadata": {},
   "outputs": [
    {
     "name": "stdout",
     "output_type": "stream",
     "text": [
      "Please create a subscriber to the marker\n",
      "publication OK\n",
      "published: [0, 0, 0, 0, 0, 0]\n"
     ]
    }
   ],
   "source": [
    "# xyz_rpy_robots = s_builder.detect_items(level_mask=[DetectionLevel.ROBOT])\n",
    "xyz_rpy_robots = {\"indy0\": ((0,0,0), (0,0,np.pi))}\n",
    "crob.update_robot_pos_dict(xyz_rpy_robots=xyz_rpy_robots)\n",
    "gscene = s_builder.create_gscene(crob)"
   ]
  },
  {
   "cell_type": "code",
   "execution_count": 6,
   "metadata": {},
   "outputs": [
    {
     "name": "stdout",
     "output_type": "stream",
     "text": [
      "Please create a subscriber to the marker\n"
     ]
    }
   ],
   "source": [
    "gtems = s_builder.add_robot_geometries(color=(0,1,0,0.5), display=True, collision=True)\n",
    "gscene.set_workspace_boundary( -1.5, 1.5, -1, 1, -0.1, 1.75)"
   ]
  },
  {
   "cell_type": "code",
   "execution_count": 7,
   "metadata": {},
   "outputs": [],
   "source": [
    "# geometry 추가\n",
    "from pkg.geometry.geotype import GEOTYPE\n",
    "mobile_base = gscene.create_safe(gtype=GEOTYPE.BOX, name=\"mobile_base\", link_name=\"base_link\", \n",
    "                   dims=(0.6,0.4,0.439), center=(0,0,-0.439/2), rpy=(0,0,0), \n",
    "                   color=(0.8,0.8,0.8,0.5), display=True, fixed=True, collision=False)\n",
    "floor = gscene.create_safe(gtype=GEOTYPE.BOX, name=\"floor\", link_name=\"base_link\", \n",
    "                   dims=(6,6,0.01), center=(0,0,-0.439), rpy=(0,0,0), \n",
    "                   color=(0.8,0.8,0.8,0.5), display=True, fixed=True, collision=False)"
   ]
  },
  {
   "cell_type": "code",
   "execution_count": 8,
   "metadata": {},
   "outputs": [],
   "source": [
    "for gtem in gscene:\n",
    "    round_it_str(gtem.dims)\n",
    "    round_it_str(gtem.center)"
   ]
  },
  {
   "cell_type": "code",
   "execution_count": 9,
   "metadata": {},
   "outputs": [
    {
     "data": {
      "text/plain": [
       "<pkg.geometry.geometry.GeometryItem at 0x7fef59924bd0>"
      ]
     },
     "execution_count": 9,
     "metadata": {},
     "output_type": "execute_result"
    }
   ],
   "source": [
    "gscene.create_safe(gtype=GEOTYPE.CYLINDER, name=\"cam\", link_name=\"indy0_tcp\", \n",
    "                   dims=(0.061,0.061,0.026), center=(-0.0785,0,0.013), rpy=(0,0,0), \n",
    "                   color=(0.8,0.8,0.8,0.5), display=True, fixed=True, collision=False)\n",
    "\n",
    "gscene.create_safe(gtype=GEOTYPE.CYLINDER, name=\"cam_col\", link_name=\"indy0_tcp\", \n",
    "                   dims=(0.081,0.081,0.046), center=(-0.0785,0,0.013), rpy=(0,0,0), \n",
    "                   color=(0.0,1,0,0.3), display=True, fixed=True, collision=True)\n",
    "\n",
    "viewpoint = gscene.create_safe(gtype=GEOTYPE.SPHERE, name=\"viewpoint\", link_name=\"indy0_tcp\", \n",
    "                   dims=(0.01,0.01,0.01), center=(0,0,0), rpy=(0,0,-np.pi/2), \n",
    "                   color=(1,0,0,0.3), display=True, fixed=True, collision=False, parent=\"cam\")\n",
    "\n",
    "gscene.create_safe(gtype=GEOTYPE.CYLINDER, name=\"body\", link_name=\"indy0_tcp\", \n",
    "                   dims=(0.067,0.067,0.0335), center=(-0.0785,0,-0.01675), rpy=(0,0,0), \n",
    "                   color=(0.8,0.8,0.8,1), display=True, fixed=True, collision=False)\n",
    "\n",
    "gscene.create_safe(gtype=GEOTYPE.CYLINDER, name=\"body_col\", link_name=\"indy0_tcp\", \n",
    "                   dims=(0.087,0.087,0.0535), center=(-0.0785,0,-0.01675), rpy=(0,0,0), \n",
    "                   color=(0.0,1,0,0.3), display=True, fixed=True, collision=True)\n",
    "\n",
    "gscene.create_safe(gtype=GEOTYPE.SPHERE, name=\"backhead\", link_name=\"indy0_tcp\", \n",
    "                   dims=(0.067,0.067,0.067), center=(-0.0785,0,-0.0335), rpy=(0,0,0), \n",
    "                   color=(0.8,0.8,0.8,1), display=True, fixed=True, collision=False)\n",
    "\n",
    "gscene.create_safe(gtype=GEOTYPE.SPHERE, name=\"backhead_col\", link_name=\"indy0_tcp\", \n",
    "                   dims=(0.087,0.087,0.087), center=(-0.0785,0,-0.0335), rpy=(0,0,0), \n",
    "                   color=(0.0,1,0,0.3), display=True, fixed=True, collision=True)"
   ]
  },
  {
   "cell_type": "code",
   "execution_count": 10,
   "metadata": {},
   "outputs": [],
   "source": [
    "gscene.update_markers_all()"
   ]
  },
  {
   "cell_type": "code",
   "execution_count": 11,
   "metadata": {},
   "outputs": [
    {
     "data": {
      "text/plain": [
       "<pkg.geometry.geometry.GeometryItem at 0x7fef470f3e50>"
      ]
     },
     "execution_count": 11,
     "metadata": {},
     "output_type": "execute_result"
    }
   ],
   "source": [
    "from math import *\n",
    "gscene = gscene\n",
    "robot_name=\"indy0\"\n",
    "face_name=\"brush_face\"\n",
    "\n",
    "gscene.create_safe(gtype=GEOTYPE.CYLINDER, name=\"{}_adapter\".format(robot_name),\n",
    "                   link_name=\"{}_tcp\".format(robot_name),\n",
    "                   center=(0, 0, 0.0025), dims=(0.09, 0.09, 0.005), rpy=(0, 0, 0), color=(0.8, 0.8, 0.8, 1),\n",
    "                   collision=False, fixed=True)\n",
    "gscene.create_safe(gtype=GEOTYPE.CYLINDER, name=\"{}_adapter_col\".format(robot_name),\n",
    "                   link_name=\"{}_tcp\".format(robot_name),\n",
    "                   center=(0, 0, 0.0025), dims=(0.13, 0.13, 0.005), rpy=(0, 0, 0), color=(0.0, 0.8, 0.0, 0.5),\n",
    "                   collision=True, fixed=True)\n",
    "\n",
    "gscene.create_safe(gtype=GEOTYPE.BOX, name=\"{}_hindge0\".format(robot_name),\n",
    "                   link_name=\"{}_tcp\".format(robot_name),\n",
    "                   center=(0, 0, 0.0125), dims=(0.022, 0.036, 0.025), rpy=(0, 0, 0), color=(0.8, 0.8, 0.8, 1),\n",
    "                   collision=False, fixed=True)\n",
    "gscene.create_safe(gtype=GEOTYPE.BOX, name=\"{}_hindge0_col\".format(robot_name),\n",
    "                   link_name=\"{}_tcp\".format(robot_name),\n",
    "                   center=(0, 0, 0.0125), dims=(0.062, 0.076, 0.025), rpy=(0, 0, 0), color=(0.0, 0.8, 0.0, 0.5),\n",
    "                   collision=True, fixed=True)\n",
    "\n",
    "gscene.create_safe(gtype=GEOTYPE.BOX, name=\"{}_bar\".format(robot_name),\n",
    "                   link_name=\"{}_tcp\".format(robot_name),\n",
    "                   center=(0.053, 0, 0.068), dims=(0.011, 0.020, 0.15), rpy=(0, 1*pi/4, 0), color=(0.8, 0.8, 0.8, 1),\n",
    "                   collision=False, fixed=True)\n",
    "gscene.create_safe(gtype=GEOTYPE.BOX, name=\"{}_bar_col\".format(robot_name),\n",
    "                   link_name=\"{}_tcp\".format(robot_name),\n",
    "                   center=(0.053, 0, 0.068), dims=(0.051, 0.060, 0.15), rpy=(0, 1*pi/4, 0), color=(0.0, 0.8, 0.0, 0.5),\n",
    "                   collision=True, fixed=True)\n",
    "\n",
    "gscene.create_safe(gtype=GEOTYPE.BOX, name=\"{}_hindge1\".format(robot_name),\n",
    "                   link_name=\"{}_tcp\".format(robot_name),\n",
    "                   center=(0.1085,0,0.121), dims=(0.025, 0.036, 0.022), rpy=(0, 0, 0), color=(0.8, 0.8, 0.8, 1),\n",
    "                   collision=False, fixed=True)\n",
    "gscene.create_safe(gtype=GEOTYPE.BOX, name=\"{}_hindge1_col\".format(robot_name),\n",
    "                   link_name=\"{}_tcp\".format(robot_name),\n",
    "                   center=(0.1085,0,0.121), dims=(0.025, 0.076, 0.062), rpy=(0, 0, 0), color=(0.0, 0.8, 0.0, 0.5),\n",
    "                   collision=True, fixed=True)\n",
    "\n",
    "gscene.create_safe(gtype=GEOTYPE.CYLINDER, name=\"{}_brushbase\".format(robot_name),\n",
    "                   link_name=\"{}_tcp\".format(robot_name),\n",
    "                   center=(0.1285,0,0.121), dims=(0.08, 0.08, 0.015), rpy=(0, pi/2, 0), color=(0.8, 0.8, 0.8, 1),\n",
    "                   collision=False, fixed=True)\n",
    "gscene.create_safe(gtype=GEOTYPE.CYLINDER, name=\"{}_brushbase_col\".format(robot_name),\n",
    "                   link_name=\"{}_tcp\".format(robot_name),\n",
    "                   center=(0.1285,0,0.121), dims=(0.12, 0.12, 0.015), rpy=(0, pi/2, 0), color=(0.0, 0.8, 0.0, 0.5),\n",
    "                   collision=True, fixed=True)\n",
    "gscene.create_safe(gtype=GEOTYPE.BOX, name=face_name, link_name=\"{}_tcp\".format(robot_name),\n",
    "                   center=(0.147,0,0.121), dims=(0.037, 0.10, 0.34), rpy=(np.pi, 0, pi), color=(1.0, 1.0, 0.94, 1),\n",
    "                   collision=False, fixed=True)\n",
    "gscene.create_safe(gtype=GEOTYPE.BOX, name=\"{}_col\".format(face_name), link_name=\"{}_tcp\".format(robot_name),\n",
    "                   center=(0.127,0,0.121), dims=(0.057, 0.10, 0.36), rpy=(np.pi, 0, pi), color=(0.0, 0.8, 0.0, 0.5),\n",
    "                   collision=True, fixed=True)"
   ]
  },
  {
   "cell_type": "code",
   "execution_count": 12,
   "metadata": {},
   "outputs": [
    {
     "ename": "NameError",
     "evalue": "name 'pscene' is not defined",
     "output_type": "error",
     "traceback": [
      "\u001b[0;31m---------------------------------------------------------------------------\u001b[0m",
      "\u001b[0;31mNameError\u001b[0m                                 Traceback (most recent call last)",
      "\u001b[0;32m<ipython-input-12-d37fc6f0e878>\u001b[0m in \u001b[0;36m<module>\u001b[0;34m()\u001b[0m\n\u001b[1;32m      1\u001b[0m \u001b[0;32mfrom\u001b[0m \u001b[0mpkg\u001b[0m\u001b[0;34m.\u001b[0m\u001b[0mplanning\u001b[0m\u001b[0;34m.\u001b[0m\u001b[0mconstraint\u001b[0m\u001b[0;34m.\u001b[0m\u001b[0mconstraint_actor\u001b[0m \u001b[0;32mimport\u001b[0m \u001b[0mGripper2Tool\u001b[0m\u001b[0;34m,\u001b[0m \u001b[0mPlacePlane\u001b[0m\u001b[0;34m,\u001b[0m \u001b[0mSweepFramer\u001b[0m\u001b[0;34m,\u001b[0m \u001b[0mFixtureSlot\u001b[0m\u001b[0;34m\u001b[0m\u001b[0m\n\u001b[0;32m----> 2\u001b[0;31m pscene.create_binder(bname=\"brush_face\", gname=\"brush_face\", _type=SweepFramer, point=(-gscene.NAME_DICT['brush_face'].dims[0]/2,0,0), \n\u001b[0m\u001b[1;32m      3\u001b[0m                      rpy=(0,np.pi/2*1,0))\n",
      "\u001b[0;31mNameError\u001b[0m: name 'pscene' is not defined"
     ]
    }
   ],
   "source": [
    "from pkg.planning.constraint.constraint_actor import Gripper2Tool, PlacePlane, SweepFramer, FixtureSlot\n",
    "pscene.create_binder(bname=\"brush_face\", gname=\"brush_face\", _type=SweepFramer, point=(-gscene.NAME_DICT['brush_face'].dims[0]/2,0,0), \n",
    "                     rpy=(0,np.pi/2*1,0))"
   ]
  },
  {
   "cell_type": "code",
   "execution_count": 14,
   "metadata": {},
   "outputs": [],
   "source": []
  },
  {
   "cell_type": "code",
   "execution_count": 15,
   "metadata": {},
   "outputs": [],
   "source": [
    "# Start streaming & Save color, depth image\n",
    "# Return is intrinsic parameter, depth_scale of camera\n",
    "cam_intrins, d_scale = camera_streaming()"
   ]
  },
  {
   "cell_type": "code",
   "execution_count": 16,
   "metadata": {},
   "outputs": [],
   "source": [
    "import SharedArray as sa\n",
    "import numpy as np\n",
    "import cv2\n",
    "import time\n",
    "import matplotlib.pyplot as plt\n",
    "\n",
    "IMG_URI = \"shm://color_img\"\n",
    "MASK_URI = \"shm://mask_img\"\n",
    "REQ_URI = \"shm://request\"\n",
    "RESP_URI = \"shm://response\"\n",
    "\n",
    "color_img_p = sa.attach(IMG_URI)\n",
    "return_img_p = sa.attach(MASK_URI)\n",
    "request_p = sa.attach(REQ_URI)\n",
    "resp_p = sa.attach(RESP_URI)\n",
    "\n",
    "def detect_from_server(image):\n",
    "    color_img_p[:] = image[:]\n",
    "    request_p[:] = 1\n",
    "    while not resp_p[0]:\n",
    "        time.sleep(0.01)\n",
    "    resp_p[:] = 0\n",
    "    return np.copy(return_img_p.astype(np.bool))"
   ]
  },
  {
   "cell_type": "code",
   "execution_count": 17,
   "metadata": {},
   "outputs": [],
   "source": [
    "# Set color, depth image path\n",
    "# color_img_path = SAVE_DIR + '/color.jpg'\n",
    "# depth_img_path = SAVE_DIR + '/depth.png'\n",
    "color_img_path = DATASET_DIR + '/color.jpg'\n",
    "depth_img_path = DATASET_DIR + '/depth.png'\n",
    "\n",
    "# Read color, depth image file, keep 16bit information\n",
    "color_img_read = cv2.imread(color_img_path, flags=cv2.IMREAD_UNCHANGED)\n",
    "depth_img_read = cv2.imread(depth_img_path, flags=cv2.IMREAD_UNCHANGED)"
   ]
  },
  {
   "cell_type": "code",
   "execution_count": 18,
   "metadata": {},
   "outputs": [],
   "source": [
    "# Output of inference(mask for detected table)\n",
    "mask_out = detect_from_server(color_img_read)"
   ]
  },
  {
   "cell_type": "code",
   "execution_count": 19,
   "metadata": {},
   "outputs": [
    {
     "data": {
      "text/plain": [
       "<matplotlib.image.AxesImage at 0x7fba2c99a450>"
      ]
     },
     "execution_count": 19,
     "metadata": {},
     "output_type": "execute_result"
    },
    {
     "data": {
      "image/png": "[encoded data removed]",
      "text/plain": [
       "<Figure size 432x288 with 1 Axes>"
      ]
     },
     "metadata": {
      "needs_background": "light"
     },
     "output_type": "display_data"
    }
   ],
   "source": [
    "plt.imshow(mask_out)"
   ]
  },
  {
   "cell_type": "code",
   "execution_count": 20,
   "metadata": {},
   "outputs": [
    {
     "data": {
      "text/plain": [
       "True"
      ]
     },
     "execution_count": 20,
     "metadata": {},
     "output_type": "execute_result"
    }
   ],
   "source": [
    "# Crop masking part\n",
    "vis_mask = (mask_out * 255).astype('uint8')\n",
    "color_instance = cv2.bitwise_and(color_img_read, color_img_read, mask=vis_mask).astype(np.uint16)\n",
    "depth_instance = cv2.bitwise_and(depth_img_read, depth_img_read, mask=vis_mask).astype(np.uint16)\n",
    "cv2.imwrite(CROP_DIR + '/color_crop.jpg', color_instance)\n",
    "cv2.imwrite(CROP_DIR + '/depth_crop.png', depth_instance)"
   ]
  },
  {
   "cell_type": "code",
   "execution_count": 21,
   "metadata": {},
   "outputs": [],
   "source": [
    "import open3d as o3d\n",
    "import numpy as np\n",
    "import cv2\n",
    "import copy\n",
    "import os\n",
    "import sys\n",
    "import matplotlib.pyplot as plt\n",
    "from sklearn.cluster import KMeans\n",
    "#import subprocess\n",
    "#subprocess.call(['python3', 'detection.py'])"
   ]
  },
  {
   "cell_type": "code",
   "execution_count": 22,
   "metadata": {},
   "outputs": [],
   "source": [
    "def ransac_plane_fitting(img_path):\n",
    "    # Find plane through ransac plane fitting\n",
    "    #depth_raw = o3d.io.read_image(\"/home/jhkim/Projects/rnb-planning/src/scripts/demo_202107/save_img/depth.png\")\n",
    "    depth_raw = o3d.io.read_image(img_path)\n",
    "    depth_pcd_raw = o3d.geometry.PointCloud.create_from_depth_image(depth_raw,\n",
    "                                            o3d.camera.PinholeCameraIntrinsic(cam_intrins.width,\n",
    "                                            cam_intrins.height, cam_intrins.fx, cam_intrins.fy,\n",
    "                                            cam_intrins.ppx, cam_intrins.ppy), depth_scale = 1/d_scale)\n",
    "    #depth_pcd_raw = o3d.geometry.PointCloud.create_from_depth_image(depth_raw, o3d.camera.PinholeCameraIntrinsic(640, 480, \n",
    "    #                                                                                                  461.734375, 462.06640625, \n",
    "    #                                                                                                  350.4140625, 244.541015625), depth_scale = 4000.0)\n",
    "\n",
    "    plane_model, inliers = depth_pcd_raw.segment_plane(distance_threshold=0.01,\n",
    "                                             ransac_n=8,\n",
    "                                             num_iterations=2000)\n",
    "    [a, b, c, d] = plane_model\n",
    "    print(\"Coeffs of eq of fitting plane are :\")\n",
    "    print(a,b,c,d)\n",
    "    return plane_model\n",
    "    #print(f\"Plane equation: {a:.5f}x + {b:.5f}y + {c:.5f}z + {d:.5f} = 0\")"
   ]
  },
  {
   "cell_type": "code",
   "execution_count": 23,
   "metadata": {},
   "outputs": [
    {
     "data": {
      "text/plain": [
       "(899.05322265625,\n",
       " 899.21044921875,\n",
       " 654.8836669921875,\n",
       " 352.9295654296875,\n",
       " 0.0002500000118743628)"
      ]
     },
     "execution_count": 23,
     "metadata": {},
     "output_type": "execute_result"
    }
   ],
   "source": [
    "cam_intrins.fx, cam_intrins.fy, cam_intrins.ppx, cam_intrins.ppy, d_scale"
   ]
  },
  {
   "cell_type": "code",
   "execution_count": 24,
   "metadata": {},
   "outputs": [],
   "source": [
    "def preprocessing():\n",
    "    # Load CAD model of table leg\n",
    "    model_mesh = o3d.io.read_triangle_mesh(MODEL_DIR + '/table_leg_scaling.STL')\n",
    "    #model_pcd = model_mesh.sample_points_uniformly(number_of_points=300)\n",
    "\n",
    "    # Load Depth image to make point clouds\n",
    "    depth = o3d.io.read_image(CROP_DIR + '/depth_crop.png')\n",
    "    depth_pcd = o3d.geometry.PointCloud.create_from_depth_image(depth,\n",
    "                                            o3d.camera.PinholeCameraIntrinsic(cam_intrins.width,\n",
    "                                            cam_intrins.height, cam_intrins.fx, cam_intrins.fy,\n",
    "                                            cam_intrins.ppx, cam_intrins.ppy),\n",
    "                                            depth_scale = 1/d_scale)\n",
    "    \n",
    "    # Remove noise points which put very far from camera\n",
    "    thres = np.linalg.norm(depth_pcd.get_center())\n",
    "    depth_pcd = o3d.geometry.PointCloud.create_from_depth_image(depth,\n",
    "                                            o3d.camera.PinholeCameraIntrinsic(cam_intrins.width,\n",
    "                                            cam_intrins.height, cam_intrins.fx, cam_intrins.fy,\n",
    "                                            cam_intrins.ppx, cam_intrins.ppy),\n",
    "                                            depth_scale = 1/d_scale, depth_trunc = thres * 1.5)\n",
    "\n",
    "    o3d.visualization.draw_geometries([depth_pcd])\n",
    "    \n",
    "\n",
    "    # Convert point clouds to numpy array\n",
    "    xyz_points = np.array(depth_pcd.points)\n",
    "\n",
    "    # Kmeans Clustering to classify front, back legs of table\n",
    "    # Ideally, if noise does not exist, then number of cluster is 2\n",
    "    kmeans = KMeans(n_clusters = 2, random_state = 0)\n",
    "    kmeans.fit(xyz_points)\n",
    "\n",
    "    # Re-convert numpy array to point clouds in type of o3d point clouds\n",
    "    pcd1 = o3d.geometry.PointCloud()\n",
    "    pcd2 = o3d.geometry.PointCloud()\n",
    "    xyz_1 = np.vstack([xyz_points[kmeans.labels_ == 0,0], xyz_points[kmeans.labels_ == 0,1], xyz_points[kmeans.labels_ == 0,2]])\n",
    "    xyz_2 = np.vstack([xyz_points[kmeans.labels_ == 1,0], xyz_points[kmeans.labels_ == 1,1], xyz_points[kmeans.labels_ == 1,2]])\n",
    "    pcd1.points = o3d.utility.Vector3dVector(xyz_1.T)\n",
    "    pcd2.points = o3d.utility.Vector3dVector(xyz_2.T)\n",
    "    #FOR_origin = o3d.geometry.TriangleMesh.create_coordinate_frame(size=0.15, origin=[0,0,0])\n",
    "    \n",
    "    #o3d.visualization.draw_geometries([pcd1, FOR_origin])\n",
    "    #o3d.visualization.draw_geometries([pcd2, FOR_origin])\n",
    "    \n",
    "    # Divide front and back legs of table\n",
    "    dist_1 = np.linalg.norm(pcd1.get_center())\n",
    "    dist_2 = np.linalg.norm(pcd2.get_center())\n",
    "    \n",
    "    if (abs(dist_1 - dist_2) < 0.8):\n",
    "        # Original depth point clouds include front legs only\n",
    "        # Not Do clustering\n",
    "        pcd_out = depth_pcd\n",
    "        \n",
    "    else:\n",
    "        # Original depth point clouds include front and back legs together, so clustering is reasonable\n",
    "        # Do clustering\n",
    "        if (dist_1 > dist_2):\n",
    "            # The clustering result would be random for order of points\n",
    "            # So, shortest distance point clouds set front legs\n",
    "            pcd_out = pcd1\n",
    "#             tmp = pcd2\n",
    "#             pcd2 = pcd1\n",
    "#             pcd1 = tmp\n",
    "\n",
    "    \n",
    "    #o3d.visualization.draw_geometries([pcd1, FOR_origin])\n",
    "    return model_mesh, pcd_out"
   ]
  },
  {
   "cell_type": "code",
   "execution_count": 35,
   "metadata": {},
   "outputs": [],
   "source": [
    "def draw_registration_result_original_color(source, target, transformation):\n",
    "    source_temp = copy.deepcopy(source)\n",
    "    source_temp.transform(transformation)\n",
    "    FOR_origin = o3d.geometry.TriangleMesh.create_coordinate_frame(size=0.15, origin=[0,0,0])\n",
    "    \n",
    "    FOR_model = o3d.geometry.TriangleMesh.create_coordinate_frame(size=0.15, origin=[0,0,0])\n",
    "    FOR_model.transform(transformation)\n",
    "    FOR_model.translate(source_temp.get_center()-FOR_model.get_center())\n",
    "    \n",
    "    FOR_target = o3d.geometry.TriangleMesh.create_coordinate_frame(size=0.15, origin=target.get_center())\n",
    "    o3d.visualization.draw_geometries([source_temp, target, FOR_origin])"
   ]
  },
  {
   "cell_type": "code",
   "execution_count": 36,
   "metadata": {},
   "outputs": [],
   "source": [
    "model_mesh, pcd_out = preprocessing()"
   ]
  },
  {
   "cell_type": "code",
   "execution_count": 37,
   "metadata": {},
   "outputs": [],
   "source": [
    "def compute_ICP(model_mesh, pcd):\n",
    "    # Compute ICP to align model(source) to obtained point clouds(target)\n",
    "    target = copy.deepcopy(pcd)\n",
    "    model_pcd = model_mesh.sample_points_uniformly(number_of_points=int(len(np.array(target.points)*0.8)))\n",
    "    source = copy.deepcopy(model_pcd)\n",
    "    #source.translate((-T_Height/2, -T_Depth/2, 0.0), relative=True)\n",
    "    source_cpy = copy.deepcopy(model_pcd)\n",
    "    source_cpy.translate((-T_Height, -T_Depth, 0.0), relative=True)\n",
    "\n",
    "    # Guess Initial Transformation\n",
    "    center = target.get_center()\n",
    "    trans_init = np.identity(4)\n",
    "    trans_init[0:3,3] = center.T\n",
    "    source_cpy.transform(trans_init)\n",
    "    trans_init[0:3,3] = source_cpy.get_center().T\n",
    "    draw_registration_result_original_color(source, target, trans_init)\n",
    "\n",
    "    print(\"Apply point-to-point ICP\")\n",
    "    threshold = 0.10\n",
    "    reg_p2p = o3d.registration.registration_icp(source, target, threshold, trans_init,\n",
    "            o3d.registration.TransformationEstimationPointToPoint(),\n",
    "            o3d.registration.ICPConvergenceCriteria(max_iteration = 600000))\n",
    "    print(reg_p2p)\n",
    "    print(\"Transformation is:\")\n",
    "    print(reg_p2p.transformation)\n",
    "    draw_registration_result_original_color(source, target, reg_p2p.transformation)\n",
    "    ICP_result = reg_p2p.transformation\n",
    "    \n",
    "    source.transform(ICP_result)\n",
    "    #o3d.visualization.draw_geometries([source, target])\n",
    "    return ICP_result   "
   ]
  },
  {
   "cell_type": "code",
   "execution_count": 38,
   "metadata": {},
   "outputs": [],
   "source": [
    "from math import *"
   ]
  },
  {
   "cell_type": "code",
   "execution_count": 39,
   "metadata": {},
   "outputs": [
    {
     "name": "stdout",
     "output_type": "stream",
     "text": [
      "Apply point-to-point ICP\n",
      "registration::RegistrationResult with fitness=1.000000e+00, inlier_rmse=6.560083e-03, and correspondence_set size of 36119\n",
      "Access transformation to get result.\n",
      "Transformation is:\n",
      "[[ 0.88254758 -0.01338898  0.47003245 -0.52331786]\n",
      " [ 0.19394655  0.92097274 -0.33792596 -0.23680507]\n",
      " [-0.42836259  0.38939691  0.815399    2.35569695]\n",
      " [ 0.          0.          0.          1.        ]]\n",
      "Coeffs of eq of fitting plane are :\n",
      "(-0.02490163085716633, 0.9399318813156584, 0.34045259180546783, -1.342125169806849)\n"
     ]
    }
   ],
   "source": [
    "from math import *\n",
    "ICP_result1 = compute_ICP(model_mesh, pcd_out)\n",
    "#ICP_result2 = compute_ICP(model_mesh, pcd2)\n",
    "\n",
    "\n",
    "# # ICP결과에 대한 회전 보정\n",
    "# y_axis = np.matmul(ICP_result1[0:3,0:3], [[0], [1], [0]])\n",
    "# z_axis = np.array([[a], [b], [c]])\n",
    "# z_axis = z_axis/np.linalg.norm(z_axis)\n",
    "# theta = np.arccos(np.dot(y_axis.T, z_axis))\n",
    "# ICP_result = np.matmul(ICP_result1, SE3(Rot_axis(1, deg2rad(theta)), [0]*3)) \n",
    "\n",
    "\n",
    "# ICP결과에 대한 높이 보정\n",
    "raw_img = SAVE_DIR + \"/depth.png\"\n",
    "[a, b, c, d] = ransac_plane_fitting(raw_img)\n",
    "FOR_result = o3d.geometry.TriangleMesh.create_coordinate_frame(size=0.15, origin=[0,0,0])\n",
    "FOR_result.transform(ICP_result1)\n",
    "model_mesh.transform(ICP_result1)\n",
    "x, y, z = model_mesh.get_center()\n",
    "dist = abs((a*x + b*y + c*z + d)/sqrt(a*a + b*b + c*c))\n",
    "\n",
    "if (dist > T_Depth):\n",
    "    trans = dist - T_Depth\n",
    "    FOR_result.translate((0, trans, 0), relative=True)\n",
    "elif (dist < T_Depth):\n",
    "    trans = T_Depth - dist\n",
    "    FOR_result.translate((0, -trans, 0), relative=True)\n",
    "\n",
    "result = copy.deepcopy(ICP_result1)  \n",
    "result[0:3, 3] = (FOR_result.get_center()).T"
   ]
  },
  {
   "cell_type": "code",
   "execution_count": 40,
   "metadata": {},
   "outputs": [],
   "source": [
    "result = copy.deepcopy(ICP_result1)  \n",
    "result[0:3, 3] = FOR_result.get_center()"
   ]
  },
  {
   "cell_type": "code",
   "execution_count": 41,
   "metadata": {},
   "outputs": [],
   "source": [
    "indy = crob.robot_dict[\"indy0\"]"
   ]
  },
  {
   "cell_type": "code",
   "execution_count": 42,
   "metadata": {},
   "outputs": [],
   "source": [
    "VIEW_POSE = np.deg2rad([  0., -28.,  85.,  -0.,  57., 179.])\n",
    "gscene.show_pose(VIEW_POSE)\n",
    "viewpoint.draw_traj_coords([VIEW_POSE])"
   ]
  },
  {
   "cell_type": "code",
   "execution_count": 44,
   "metadata": {},
   "outputs": [
    {
     "data": {
      "text/plain": [
       "array([[ 4.63937059e-01, -8.85666535e-01,  1.88995293e-02,\n",
       "         3.34208478e+00],\n",
       "       [ 8.85798009e-01,  4.64063252e-01,  2.68625106e-03,\n",
       "        -5.43541970e-02],\n",
       "       [-1.11496945e-02,  1.54949041e-02,  9.99817789e-01,\n",
       "         4.19197856e-01],\n",
       "       [ 0.00000000e+00,  0.00000000e+00,  0.00000000e+00,\n",
       "         1.00000000e+00]])"
      ]
     },
     "execution_count": 44,
     "metadata": {},
     "output_type": "execute_result"
    }
   ],
   "source": [
    "from pkg.utils.rotation_utils import *\n",
    "TABLE_DIMS = np.array((0.785,1.80,0.735))\n",
    "#OFF_DIR = np.array([1,1,-1])\n",
    "OFF_DIR = np.array([1,1,0])\n",
    "#TABLE_DIMS[[0,1,2]]\n",
    "#np.hstack([TABLE_DIMS[[0,1]], [0]])\n",
    "T_toff = SE3(Rot_axis(3,np.pi), np.divide(TABLE_DIMS[[0,1,2]]*OFF_DIR,2))\n",
    "T_co = np.matmul(np.matmul(result, SE3(Rot_axis(1, np.pi/2), [0]*3)), T_toff)\n",
    "T_lo = np.matmul(viewpoint.Toff, T_co)\n",
    "T_bc = viewpoint.get_tf(list2dict(VIEW_POSE, gscene.joint_names))\n",
    "T_bo=np.matmul(T_bc, T_co)\n",
    "T_bo"
   ]
  },
  {
   "cell_type": "code",
   "execution_count": 45,
   "metadata": {},
   "outputs": [],
   "source": [
    "#T_bo[2,3] = TABLE_DIMS[2]/2\n",
    "\n",
    "gscene.add_highlight_axis(\"table\", \"center\", link_name=\"base_link\", center=T_bo[:3,3], orientation_mat=T_bo[:3,:3])\n",
    "\n",
    "# geometry 추가\n",
    "table = gscene.create_safe(gtype=GEOTYPE.BOX, name=\"table\", link_name=\"base_link\", \n",
    "                   dims=TABLE_DIMS, center=T_bo[:3,3], rpy=Rot2rpy(T_bo[:3,:3]), \n",
    "                   color=(0.8,0.8,0.8,0.5), display=True, fixed=True, collision=False)"
   ]
  },
  {
   "cell_type": "code",
   "execution_count": null,
   "metadata": {},
   "outputs": [],
   "source": []
  },
  {
   "cell_type": "code",
   "execution_count": 46,
   "metadata": {},
   "outputs": [
    {
     "name": "stdout",
     "output_type": "stream",
     "text": [
      "(899.05322265625, 899.21044921875, 654.8836669921875, 352.9295654296875)\n"
     ]
    }
   ],
   "source": [
    "# 모서리부분 근접 촬영\n",
    "_, _ = camera_streaming()\n",
    "print(cam_intrins.fx, cam_intrins.fy, cam_intrins.ppx, cam_intrins.ppy)"
   ]
  },
  {
   "cell_type": "code",
   "execution_count": null,
   "metadata": {},
   "outputs": [],
   "source": []
  },
  {
   "cell_type": "code",
   "execution_count": 47,
   "metadata": {},
   "outputs": [],
   "source": [
    "#img_path = SAVE_DIR + '/table_.png'\n",
    "img_path = DATASET_DIR + \"/table_11.png\"\n",
    "#depth_img, lines, plane_est = line_detect(img_path)"
   ]
  },
  {
   "cell_type": "code",
   "execution_count": 51,
   "metadata": {},
   "outputs": [],
   "source": [
    "def get_inliers(img_path):\n",
    "    depth_raw = o3d.io.read_image(img_path) \n",
    "    depth_pcd_raw = o3d.geometry.PointCloud.create_from_depth_image(depth_raw,\n",
    "                                        o3d.camera.PinholeCameraIntrinsic(cam_intrins.width,\n",
    "                                        cam_intrins.height,cam_intrins.fx, cam_intrins.fy,\n",
    "                                        cam_intrins.ppx, cam_intrins.ppy), depth_scale = 1/d_scale, depth_trunc = 0.8)\n",
    "    \n",
    "    plane_model, inliers = depth_pcd_raw.segment_plane(distance_threshold=0.005,\n",
    "                                             ransac_n=7,\n",
    "                                             num_iterations=1500)\n",
    "    [a, b, c, d] = plane_model\n",
    "    print(\"Coeffs of eq of fitting plane are :\")\n",
    "    print(a,b,c,d)\n",
    "\n",
    "    # Inlier points from ransac plane fitting\n",
    "    p_inliers = []\n",
    "    for i in range(len(inliers)):\n",
    "        p_inliers.append(depth_pcd_raw.points[i])\n",
    "\n",
    "    pcd_inliers = o3d.geometry.PointCloud()\n",
    "    pcd_inliers.points = o3d.utility.Vector3dVector(p_inliers)\n",
    "    o3d.visualization.draw_geometries([depth_pcd_raw])\n",
    "    o3d.visualization.draw_geometries([pcd_inliers])\n",
    "    return p_inliers"
   ]
  },
  {
   "cell_type": "code",
   "execution_count": 52,
   "metadata": {},
   "outputs": [
    {
     "name": "stdout",
     "output_type": "stream",
     "text": [
      "Coeffs of eq of fitting plane are :\n",
      "(0.1822480548618096, 0.6195453968821717, 0.7635110658668931, -0.49464600996923724)\n"
     ]
    }
   ],
   "source": [
    "p_inliers = get_inliers(img_path)"
   ]
  },
  {
   "cell_type": "code",
   "execution_count": 53,
   "metadata": {},
   "outputs": [],
   "source": [
    "Qcur = np.load(DATASET_DIR + '/tablepose_11.npy')\n",
    "T_bc = viewpoint.get_tf(list2dict(Qcur, gscene.joint_names))\n",
    "viewpoint.draw_traj_coords([Qcur])\n",
    "gscene.show_pose(Qcur)"
   ]
  },
  {
   "cell_type": "code",
   "execution_count": 54,
   "metadata": {},
   "outputs": [
    {
     "data": {
      "text/plain": [
       "array([[-0.04693046, -0.79950171,  0.59882765,  0.2387776 ],\n",
       "       [-0.98718519,  0.1286579 ,  0.09440641,  0.406914  ],\n",
       "       [-0.15252199, -0.58672324, -0.7952942 ,  0.76506845],\n",
       "       [ 0.        ,  0.        ,  0.        ,  1.        ]])"
      ]
     },
     "execution_count": 54,
     "metadata": {},
     "output_type": "execute_result"
    }
   ],
   "source": [
    "gscene.add_highlight_axis(\"ax\", \"base\", \"base_link\", center=(0,)*3, orientation_mat=np.identity(3))\n",
    "T_bc"
   ]
  },
  {
   "cell_type": "code",
   "execution_count": 55,
   "metadata": {},
   "outputs": [],
   "source": [
    "def point_proj(T_bc, p_inliers):\n",
    "    x_bo = []\n",
    "    y_bo = []\n",
    "    for i in range(len(p_inliers)):\n",
    "        vec = np.hstack([p_inliers[i], [1]]).T\n",
    "        xyz_point = np.matmul(T_bc, vec)\n",
    "        #points_bo.append(xyz_point[0:2])\n",
    "        x_bo.append(xyz_point[0])\n",
    "        y_bo.append(xyz_point[1])\n",
    "    plt.plot(x_bo, y_bo)\n",
    "    return x_bo, y_bo"
   ]
  },
  {
   "cell_type": "code",
   "execution_count": 56,
   "metadata": {},
   "outputs": [
    {
     "data": {
      "image/png": "[encoded data removed]",
      "text/plain": [
       "<Figure size 432x288 with 1 Axes>"
      ]
     },
     "metadata": {
      "needs_background": "light"
     },
     "output_type": "display_data"
    }
   ],
   "source": [
    "import matplotlib.pyplot as plt\n",
    "x_bo, y_bo = point_proj(T_bc, p_inliers)"
   ]
  },
  {
   "cell_type": "code",
   "execution_count": 57,
   "metadata": {},
   "outputs": [],
   "source": [
    "def left_corner(x_bo, y_bo):\n",
    "    # for left corner\n",
    "    TABLE_DIMS = np.array((0.785,1.80,0.735))\n",
    "    TABLE_DIMS[[0,1,2]]\n",
    "    OFF_DIR = np.array([1,-1,1])\n",
    "    idx_x_min = np.argmin(x_bo)\n",
    "    idx_x_max = np.argmax(x_bo)\n",
    "    idx_y_min = np.argmin(y_bo)\n",
    "    idx_y_max = np.argmax(y_bo)\n",
    "\n",
    "    # First, find edge in view of case 1\n",
    "    # case 1\n",
    "    edge_left = np.array((x_bo[idx_y_max], y_bo[idx_y_max], -0.439))\n",
    "    p = np.array((x_bo[idx_x_min], y_bo[idx_x_min], -0.439))\n",
    "    case = 1\n",
    "    num = edge_left[0] - p[0]\n",
    "    den = edge_left[1] - p[1]\n",
    "    theta = np.arctan(num/den)\n",
    "    print(y_bo[idx_y_max])\n",
    "    print(edge_left[1])\n",
    "\n",
    "    if (edge_left[1] != y_bo[idx_y_max]):\n",
    "        # actually, it is case 2\n",
    "        edge_left = np.array((x_bo[idx_x_min], y_bo[idx_x_min], -0.439))\n",
    "        p = np.array((x_bo[idx_y_max], y_bo[idx_y_max], -0.439))\n",
    "        case = 2\n",
    "        num = edge_left[1] - p[1]\n",
    "        den = edge_left[0] - p[0]\n",
    "        theta = np.arctan(num/den)\n",
    "\n",
    "    print(y_bo[idx_y_max])\n",
    "    print(edge_left[1])\n",
    "\n",
    "    T_bo = np.identity(4)\n",
    "    # orientation of table\n",
    "    if (case == 1):\n",
    "        T_bo[:3,:3] = Rot_axis(3,deg2rad(-theta))\n",
    "    elif (case == 2):\n",
    "        T_bo[:3,:3] = Rot_axis(3,deg2rad(theta))\n",
    "    T_bo[:3,3] = (edge_left.T + np.divide(TABLE_DIMS[[0,1,2]]*OFF_DIR,2).T)\n",
    "    return T_bo"
   ]
  },
  {
   "cell_type": "code",
   "execution_count": 58,
   "metadata": {},
   "outputs": [],
   "source": [
    "def right_corner(x_bo, y_bo):\n",
    "    # for right corner\n",
    "    TABLE_DIMS = np.array((0.785,1.80,0.735))\n",
    "    TABLE_DIMS[[0,1,2]]\n",
    "    OFF_DIR = np.array([1,1,1])\n",
    "    idx_x_min = np.argmin(x_bo)\n",
    "    idx_x_max = np.argmax(x_bo)\n",
    "    idx_y_min = np.argmin(y_bo)\n",
    "    idx_y_max = np.argmax(y_bo)\n",
    "\n",
    "    # First, find edge in view of case 1\n",
    "    # case 1\n",
    "    edge_right = np.array((x_bo[idx_x_min], y_bo[idx_x_min], -0.439))\n",
    "    p = np.array((x_bo[idx_y_max], y_bo[idx_y_max], -0.439))\n",
    "    case = 1\n",
    "    num = p[0] - edge_right[0]\n",
    "    den = p[1] - edge_right[1]\n",
    "    theta = np.arctan(num/den)\n",
    "    print(x_bo[idx_x_min])\n",
    "    print(edge_right[0])\n",
    "\n",
    "    if (edge_right[0] != x_bo[idx_x_min]):\n",
    "         # actually, it is case 2\n",
    "        #case 2\n",
    "        edge_left = np.array((x_bo[idx_y_min], y_bo[idx_y_min], -0.439))\n",
    "        p = np.array((x_bo[idx_x_max], y_bo[idx_x_max], -0.439))\n",
    "        case = 2\n",
    "        num = p[1] - edge_right[1]\n",
    "        den = p[0] - edge_right[0]\n",
    "        theta = np.arctan(num/den)\n",
    "    print(x_bo[idx_x_min])\n",
    "    print(edge_right[0])\n",
    "\n",
    "\n",
    "    T_bo = np.identity(4)\n",
    "    T_bo[:3,3] = (edge_right.T + np.divide(TABLE_DIMS[[0,1,2]]*OFF_DIR,2).T)\n",
    "    # orientation of table\n",
    "    if (case == 1):\n",
    "        T_bo[:3,:3] = Rot_axis(3,deg2rad(-theta))\n",
    "    elif (case == 2):\n",
    "        T_bo[:3,:3] = Rot_axis(3,deg2rad(theta))\n",
    "    return T_bo"
   ]
  },
  {
   "cell_type": "code",
   "execution_count": 59,
   "metadata": {},
   "outputs": [
    {
     "name": "stdout",
     "output_type": "stream",
     "text": [
      "0.42416586992169275\n",
      "0.42416586992169275\n",
      "0.42416586992169275\n",
      "0.42416586992169275\n"
     ]
    }
   ],
   "source": [
    "# left corner를 찍었는지, right corenr를 찍은건지에 대한 정보는 들어와야할듯\n",
    "# 이게 들어오면\n",
    "\n",
    "from pkg.utils.rotation_utils import *\n",
    "MODE = 'left'\n",
    "#MODE = 'right'\n",
    "if (MODE == 'left'):\n",
    "    T_bo = left_corner(x_bo, y_bo)\n",
    "\n",
    "if (MODE == 'right'):\n",
    "    T_bo = right_corner(x_bo, y_bo)"
   ]
  },
  {
   "cell_type": "code",
   "execution_count": 60,
   "metadata": {},
   "outputs": [],
   "source": [
    "TABLE_DIMS = np.array((0.785,1.80,0.735))\n",
    "TABLE_DIMS[[0,1,2]]\n",
    "gscene.add_highlight_axis(\"table\", \"center\", link_name=\"base_link\", center=T_bo[:3,3], orientation_mat=T_bo[:3,:3])\n",
    "\n",
    "# geometry 추가\n",
    "table = gscene.create_safe(gtype=GEOTYPE.BOX, name=\"table\", link_name=\"base_link\", \n",
    "                   dims=TABLE_DIMS, center=T_bo[:3,3], rpy=Rot2rpy(T_bo[:3,:3]), \n",
    "                   color=(0.8,0.8,0.8,0.5), display=True, fixed=True, collision=False)"
   ]
  },
  {
   "cell_type": "code",
   "execution_count": null,
   "metadata": {},
   "outputs": [],
   "source": []
  },
  {
   "cell_type": "code",
   "execution_count": null,
   "metadata": {},
   "outputs": [],
   "source": []
  }
 ],
 "metadata": {
  "kernelspec": {
   "display_name": "Python 2",
   "language": "python",
   "name": "python2"
  },
  "language_info": {
   "codemirror_mode": {
    "name": "ipython",
    "version": 2
   },
   "file_extension": ".py",
   "mimetype": "text/x-python",
   "name": "python",
   "nbconvert_exporter": "python",
   "pygments_lexer": "ipython2",
   "version": "2.7.17"
  }
 },
 "nbformat": 4,
 "nbformat_minor": 2
}
