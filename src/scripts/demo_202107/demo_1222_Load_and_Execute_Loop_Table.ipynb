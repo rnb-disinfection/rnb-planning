{
 "cells": [
  {
   "cell_type": "markdown",
   "metadata": {},
   "source": [
    "# Demo Script for Milestone 10.15"
   ]
  },
  {
   "cell_type": "markdown",
   "metadata": {},
   "source": [
    "## 0 Prepare task"
   ]
  },
  {
   "cell_type": "markdown",
   "metadata": {},
   "source": [
    "### 0.1 prepare planning scene"
   ]
  },
  {
   "cell_type": "markdown",
   "metadata": {},
   "source": [
    "#### Run shared detector on bash\n",
    "```bash\n",
    "python3 /home/kiro-ros/Projects/rnb-planning/src/scripts/demo_202107/demo_utils/shared_detector.py\n",
    "```\n",
    "\n",
    "#### Check and request ip setting from mobile udp client (robot-side)"
   ]
  },
  {
   "cell_type": "markdown",
   "metadata": {},
   "source": [
    "#### 0.1.1 Set parameters and create planning scene"
   ]
  },
  {
   "cell_type": "code",
   "execution_count": null,
   "metadata": {},
   "outputs": [],
   "source": [
    "raw_input(\"==================================================\\n=========== Start IndySDK and press Enter ========\\n\")"
   ]
  },
  {
   "cell_type": "code",
   "execution_count": null,
   "metadata": {},
   "outputs": [],
   "source": [
    "raw_input(\"==================================================\\n========= Connect to Conty and reset robot =======\\n\")"
   ]
  },
  {
   "cell_type": "code",
   "execution_count": 1,
   "metadata": {},
   "outputs": [
    {
     "name": "stdout",
     "output_type": "stream",
     "text": [
      "Current PC IP: 192.168.0.10\n",
      "Mobile ROB IP: 192.168.0.102\n"
     ]
    }
   ],
   "source": [
    "import numpy as np\n",
    "\n",
    "CONNECT_INDY = True\n",
    "CONNECT_MOBILE = False\n",
    "\n",
    "CONNECT_TASK_PLANNER = False\n",
    "VISUALIZE = False\n",
    "VERBOSE = False\n",
    "PLANNING_MULTIPROC = True\n",
    "N_AGENTS = 10\n",
    "NODE_TRIAL_MAX = N_AGENTS * 2\n",
    "MAX_SOL_NUM = 5\n",
    "BASE_COST_CUT = 110\n",
    "\n",
    "TIMEOUT_MOTION = 0.5\n",
    "TIMEOUT_FULL = 5\n",
    "\n",
    "ROS_MASTER_ON_MOBILE = False\n",
    "# Tool dimensions\n",
    "TOOL_DIM = [0.24, 0.35]\n",
    "TOOL_CENTER_OFF = [0, -0.035, 0]\n",
    "TOOL_THICKNESS = 0.11 + 0.05\n",
    "\n",
    "INDY_BASE_OFFSET = (0.172,0,0.439)\n",
    "INDY_BASE_RPY = (0,0,0)\n",
    "TOOL_NAME = \"brush_face\"\n",
    "WALL_THICKNESS = 0.01\n",
    "CLEARANCE = 0.001\n",
    "WS_HEIGHT = 1.6\n",
    "\n",
    "COL_COLOR = (1,1,1,0.2)\n",
    "\n",
    "USE_SDK = True\n",
    "\n",
    "IP_CUR = \"192.168.0.10\"# get_ip_address()\n",
    "MOBILE_IP = \"192.168.0.102\"\n",
    "INDY_IP = \"192.168.0.3\"\n",
    "\n",
    "print(\"Current PC IP: {}\".format(IP_CUR))\n",
    "print(\"Mobile ROB IP: {}\".format(MOBILE_IP))"
   ]
  },
  {
   "cell_type": "code",
   "execution_count": 2,
   "metadata": {},
   "outputs": [
    {
     "name": "stdout",
     "output_type": "stream",
     "text": [
      "connection command:\n",
      "kmb0: True\n",
      "indy1: True\n",
      "==== Kiro Tool connected to /dev/ttyUSB0 (115200) ====\n",
      "[KTOOL] initialize\n",
      "[KTOOL] enable\n",
      "[KTOOL] recv [161, 0, 0, 0]\n",
      "[KTOOL] op_init\n",
      "[KTOOL] recv [163, 255, 0, 0]\n",
      "[KTOOL] led_off\n",
      "Unable to register with master node [http://localhost:11311]: master may not be running yet. Will keep trying.\n",
      "Please create a subscriber to the marker\n",
      "publication OK\n",
      "published: [0, 0, 0, 0, 0, 0, 0, 0, 0, 0, 0, 0, 0]\n",
      "Please create a subscriber to the marker\n",
      "Loaded: indy7kiro-frontX-PRQ.pkl\n",
      "Loaded: indy7kiro-upZ-PRQ.pkl\n",
      "Loaded: indy7kiro-downZ-PRQ.pkl\n"
     ]
    }
   ],
   "source": [
    "import os\n",
    "import sys\n",
    "sys.path.append(os.path.join(os.path.join(\n",
    "    os.environ[\"RNB_PLANNING_DIR\"], 'src')))\n",
    "sys.path.append(os.path.join(\n",
    "    os.environ[\"RNB_PLANNING_DIR\"], 'src/scripts/demo_202107'))\n",
    "\n",
    "from pkg.global_config import RNB_PLANNING_DIR\n",
    "from pkg.utils.utils import *    \n",
    "from pkg.utils.rotation_utils import *\n",
    "from pkg.controller.combined_robot import *\n",
    "from demo_utils.area_select import *\n",
    "from pkg.detector.aruco.marker_config import get_aruco_map\n",
    "aruco_map = get_aruco_map()\n",
    "\n",
    "from pkg.detector.multiICP.multiICP import *\n",
    "from pkg.detector.detector_interface import DetectionLevel\n",
    "from pkg.detector.multiICP.config import *\n",
    "\n",
    "from pkg.geometry.builder.scene_builder import SceneBuilder\n",
    "from demo_utils.environment import *\n",
    "from demo_utils.area_select import DATASET_DIR, SweepDirections\n",
    "from demo_utils.demo_config import *\n",
    "from demo_utils.detection_util import *\n",
    "\n",
    "from pkg.utils.shared_function import *\n",
    "clear_channels_on(\"kiromobilemap\")\n",
    "\n",
    "if not CONNECT_INDY:\n",
    "    indy_7dof_client.kiro_tool.OFFLINE_MODE = True\n",
    "kiro_udp_client.KIRO_UDP_OFFLINE_DEBUG = not CONNECT_MOBILE\n",
    "\n",
    "mobile_config = RobotConfig(0, RobotType.kmb, ((0,0,0), (0,0,0)),\n",
    "                \"{}/{}\".format(MOBILE_IP, IP_CUR))\n",
    "robot_config = RobotConfig(1, RobotType.indy7kiro, \n",
    "                           (INDY_BASE_OFFSET, INDY_BASE_RPY),\n",
    "                INDY_IP, root_on=\"kmb0_platform\", \n",
    "                           specs={\"no_sdk\":True} if not USE_SDK else {})\n",
    "ROBOT_TYPE = robot_config.type\n",
    "MOBILE_NAME = mobile_config.get_indexed_name()\n",
    "ROBOT_NAME = robot_config.get_indexed_name()\n",
    "crob = CombinedRobot(robots_on_scene=[mobile_config, robot_config]\n",
    "              , connection_list=[True, CONNECT_INDY])\n",
    "\n",
    "s_builder = SceneBuilder(None)\n",
    "SceneBuilder.autostart_roscore = not ROS_MASTER_ON_MOBILE\n",
    "gscene = s_builder.create_gscene(crob)\n",
    "\n",
    "gtems = s_builder.add_robot_geometries(\n",
    "    color=COL_COLOR, display=True, collision=True)\n",
    "\n",
    "gscene.set_workspace_boundary(\n",
    "    -0.7, 1.55, -0.7, 2.5, -CLEARANCE, WS_HEIGHT, thickness=1.0)\n",
    "\n",
    "\n",
    "from pkg.planning.scene import PlanningScene\n",
    "pscene = PlanningScene(gscene, combined_robot=crob)\n",
    "\n",
    "ROBOT_BASE = pscene.robot_chain_dict[ROBOT_NAME]['link_names'][0]\n",
    "TIP_LINK = pscene.robot_chain_dict[ROBOT_NAME][\"tip_link\"]\n",
    "CAM_LINK = TIP_LINK.replace(\"tcp\", \"link6\")\n",
    "MOBILE_BASE = pscene.robot_chain_dict[MOBILE_NAME][\"tip_link\"]\n",
    "HOLD_LINK = MOBILE_BASE\n",
    "\n",
    "viewpoint = add_cam(gscene, tool_link=CAM_LINK, center=(-0.0785, 0, 0.073))\n",
    "\n",
    "add_brush(gscene, face_name=TOOL_NAME, tool_link=TIP_LINK,\n",
    "          thickness=TOOL_THICKNESS, tool_dim=TOOL_DIM,\n",
    "          col_color=COL_COLOR, center_off=TOOL_CENTER_OFF)\n",
    "\n",
    "HOME_POSE = crob.home_pose\n",
    "HOME_DICT = list2dict(HOME_POSE, gscene.joint_names)\n",
    "\n",
    "from pkg.planning.pipeline import PlanningPipeline\n",
    "ppline = PlanningPipeline(pscene)\n",
    "\n",
    "# Set planner\n",
    "from pkg.planning.motion.moveit.moveit_planner import MoveitPlanner\n",
    "from pkg.planning.filtering.grasp_filter import GraspChecker\n",
    "mplan = MoveitPlanner(pscene, enable_dual=False, \n",
    "                      incremental_constraint_motion=True)\n",
    "mplan.motion_filters = [GraspChecker(pscene)]\n",
    "mplan.update_gscene()\n",
    "gcheck = GraspChecker(pscene)\n",
    "mplan.motion_filters = [gcheck]\n",
    "\n",
    "mplan.reset_PRQdict(enable_PRQ=0.5, radii=5e-2)\n",
    "for tip_dir, SWEEP_AXIS in [\n",
    "    (SweepDirections.front, \"X\"), (SweepDirections.up, \"Z\"), (SweepDirections.down, \"Z\")]:\n",
    "    filename = SweepDirections.get_file_name(ROBOT_TYPE, tip_dir.name+SWEEP_AXIS)+\"-PRQ.pkl\"\n",
    "    PRQ_PATH = os.path.join(SWEEP_DATA_DIR, filename)\n",
    "    try:\n",
    "        Pos_Rotvec_Qlist_dict = load_pickle(PRQ_PATH)\n",
    "        mplan.register_PRQ(ROBOT_NAME, Pos_Rotvec_Qlist_dict, decimal=2)\n",
    "        print(\"Loaded: {}\".format(filename))\n",
    "    except:\n",
    "        print(\"File not exist: {}\".format(filename))\n",
    "        continue\n",
    "\n",
    "from pkg.planning.task.rrt import TaskRRT\n",
    "tplan = TaskRRT(pscene, node_trial_max=NODE_TRIAL_MAX)\n",
    "tplan.prepare()\n",
    "ppline.set_motion_planner(mplan)\n",
    "ppline.set_task_planner(tplan)\n",
    "\n",
    "# Register binders\n",
    "from pkg.planning.constraint.constraint_actor import VacuumTool, \\\n",
    "    Gripper2Tool, PlacePlane, SweepFramer\n",
    "\n",
    "brush_face = pscene.create_binder(\n",
    "    bname=TOOL_NAME, gname=TOOL_NAME, _type=SweepFramer, \n",
    "    point=(0,0, -gscene.NAME_DICT['brush_face'].dims[2]/2-CLEARANCE), \n",
    "    rpy=(0,0,0))\n",
    "\n",
    "gscene.create_safe(\n",
    "    gtype=GEOTYPE.BOX, name=\"floor_box\", link_name=\"base_link\",\n",
    "    dims=(15,15,0.4), center=(0,0,0), rpy=(0,0,0), \n",
    "    color=(1, 1, 1, 0.1), display=True, collision=False, fixed=True)\n",
    "\n",
    "gscene.add_highlight_axis(\"hl\", \"base_coord\", T=np.identity(4), dims=(0.5,0.1,0.1))\n",
    "\n",
    "kmb = crob.robot_dict[\"kmb0\"]\n",
    "indy = crob.robot_dict[\"indy1\"]\n",
    "mobile_box = gscene.NAME_DICT['kmb0_platform_Box_2']\n",
    "crob.simulator.set_gscene(gscene)\n",
    "# indy.ktool.led_on()\n",
    "# indy.ktool.led_off()\n",
    "# time.sleep(2)\n",
    "# indy.ktool.send_degree(-45)\n",
    "\n",
    "if CONNECT_MOBILE:\n",
    "    assert np.sum(np.abs(get_xyzw_cur()))>1e-4, \"UDP Server not connected\"\n",
    "    \n",
    "if CONNECT_TASK_PLANNER:\n",
    "    from demo_proto.DisinfectionOperationServicer import serve_on_thread\n",
    "    servicer = serve_on_thread()"
   ]
  },
  {
   "cell_type": "code",
   "execution_count": 3,
   "metadata": {},
   "outputs": [
    {
     "name": "stdout",
     "output_type": "stream",
     "text": [
      "Connect: Server IP (192.168.0.3)\n"
     ]
    }
   ],
   "source": [
    "if CONNECT_INDY:\n",
    "    with indy:\n",
    "        stat = indy.get_robot_status()\n",
    "        if stat['error'] or not stat['ready']:\n",
    "            raise(RuntimeError(\"Indy not ready\"))"
   ]
  },
  {
   "cell_type": "code",
   "execution_count": null,
   "metadata": {},
   "outputs": [],
   "source": []
  },
  {
   "cell_type": "markdown",
   "metadata": {},
   "source": [
    "#### 0.1.2 Load environment map"
   ]
  },
  {
   "cell_type": "code",
   "execution_count": 4,
   "metadata": {},
   "outputs": [],
   "source": [
    "from demo_utils.ros_map_utils import KiroMobileMap\n",
    "kmm = KiroMobileMap(MOBILE_IP, IP_CUR, CONNECT_MOBILE)\n",
    "            \n",
    "VALID_BOX_SCALE = 0.7\n",
    "VALID_SCORE_CUT = 50\n",
    "kmb.coster = (lambda Q: \n",
    "                  np.max(\n",
    "                      kmm.get_box_costs(mobile_box, Q, kmm.T_bi, kmm.cost_im, kmm.resolution, \n",
    "                                        scale=VALID_BOX_SCALE)))\n",
    "kmb.cost_cut = VALID_SCORE_CUT\n",
    "kmb.gscene = gscene\n",
    "\n",
    "kmm.init_node(timeout=10)"
   ]
  },
  {
   "cell_type": "code",
   "execution_count": 5,
   "metadata": {
    "scrolled": true
   },
   "outputs": [
    {
     "name": "stdout",
     "output_type": "stream",
     "text": [
      "\u001b[93m[WARN] Vertices for mesh should be have center point (0,0,0). Auto adjusting.\u001b[0m\n",
      "End up at=[ 0.018  0.004  0.08 ] (0.0 / 0.0)\n",
      "Connect: Server IP (192.168.0.3)\n",
      "Connect: Server IP (192.168.0.3)\n",
      "Connect: Server IP (192.168.0.3)\n",
      "Connect: Server IP (192.168.0.3)\n",
      "End up at=[ 0.018  0.004  0.08 ] (0.0 / 0.0)\n",
      "Connect: Server IP (192.168.0.3)\n",
      "Connect: Server IP (192.168.0.3)\n"
     ]
    }
   ],
   "source": [
    "pole_pt_list, pole_res = kmm.update_map(gscene, crob, MOBILE_BASE, timeout=100)\n",
    "if not CONNECT_MOBILE:\n",
    "    crob.joint_move_make_sure(kmm.Q_map)\n",
    "    \n",
    "if CONNECT_INDY:\n",
    "    indy.move_joint_s_curve(crob.home_pose[6:], N_div=500)\n",
    "else:\n",
    "    indy.joint_move_make_sure(crob.home_pose[6:])\n",
    "\n",
    "Qcur = crob.get_real_robot_pose()\n",
    "crob.joint_move_make_sure(Qcur)"
   ]
  },
  {
   "cell_type": "code",
   "execution_count": 6,
   "metadata": {},
   "outputs": [],
   "source": [
    "# pole_list = kmm.add_pixel_poles(\"obs_pt\", gscene, pole_pt_list, pole_res, height=WS_HEIGHT)\n",
    "# gcheck.ignore_always = pole_list\n",
    "\n",
    "# gscene.update_markers_all() "
   ]
  },
  {
   "cell_type": "code",
   "execution_count": null,
   "metadata": {},
   "outputs": [],
   "source": []
  },
  {
   "cell_type": "markdown",
   "metadata": {},
   "source": [
    "## 1. Prepare scene"
   ]
  },
  {
   "cell_type": "code",
   "execution_count": 7,
   "metadata": {},
   "outputs": [],
   "source": [
    "HEIGHT_OFFSET = 0.02\n",
    "TABLE_DIMS = (0.60,1.2, 0.71)\n",
    "TABLE_LOC = (1.17,0.05,TABLE_DIMS[2]/2+HEIGHT_OFFSET)\n",
    "TABLE_ANG = np.pi - np.deg2rad(0)\n",
    "TABLE_MARGIN_I = 0.03\n",
    "TABLE_MARGIN_O = 0.1\n",
    "CLEARANCE = 0.002\n",
    "TABLE_COLOR = (0.8,0.8,0.8,1)\n",
    "SURF_COLOR = (0,1,0,0.4)\n",
    "COL_COLOR = (1,1,1,0.2)\n",
    "\n",
    "gscene.create_safe(GEOTYPE.BOX, \"table\", link_name=\"base_link\",\n",
    "                   dims=TABLE_DIMS, center=TABLE_LOC, rpy=Rot2rpy(Rot_axis(3, TABLE_ANG)),\n",
    "                   color=TABLE_COLOR, collision=False\n",
    "                  )\n",
    "gscene.create_safe(GEOTYPE.BOX, \"table_col\", link_name=\"base_link\",\n",
    "                   dims=np.add(TABLE_DIMS, \n",
    "                               (TABLE_MARGIN_O*2, TABLE_MARGIN_O*2, 0)), \n",
    "                   center=(0,0,0), rpy=(0,0,0), color=COL_COLOR, \n",
    "                   collision=True, parent=\"table\"\n",
    "                  )\n",
    "table_surf = gscene.create_safe(GEOTYPE.BOX, \"table_surf\", link_name=\"base_link\",\n",
    "                   dims=np.subtract(TABLE_DIMS[:2]+(CLEARANCE,), \n",
    "                                    (TABLE_MARGIN_I*2, TABLE_MARGIN_I*2, 0)), \n",
    "                   center=(0,0,(TABLE_DIMS[2]+CLEARANCE)/2), \n",
    "                   rpy=(0,0,0), color=SURF_COLOR, parent=\"table\",\n",
    "                   collision=False\n",
    "                  )"
   ]
  },
  {
   "cell_type": "code",
   "execution_count": 8,
   "metadata": {
    "scrolled": true
   },
   "outputs": [],
   "source": [
    "SOFA_DIMS = (0.50,0.98, 0.45)\n",
    "SOFA_LOC = (1.15,1.4,SOFA_DIMS[2]/2+HEIGHT_OFFSET)\n",
    "SOFA_SIDE_THIC = 0.2\n",
    "SOFA_SIDE_HEIT = 0.27\n",
    "SOFA_ANG = np.pi + np.deg2rad(0)\n",
    "\n",
    "SOFA_MARGIN_O = 0.05\n",
    "SOFA_MARGIN_Ix = 0.2 # 앞뒤\n",
    "SOFA_MARGIN_Iy = 0.15  # 좌우\n",
    "SOFA_MARGIN_Iz = 0.05 # 아래\n",
    "SOFA_UV_DIST = 0.15\n",
    "\n",
    "SOFA_COLOR = (0.4,0.4,0.4,1)\n",
    "\n",
    "sofa = gscene.create_safe(GEOTYPE.BOX, \"sofa\", link_name=\"base_link\",\n",
    "                   dims=SOFA_DIMS, center=SOFA_LOC, \n",
    "                   rpy=Rot2rpy(Rot_axis(3, SOFA_ANG)),\n",
    "                   color=SOFA_COLOR, collision=False\n",
    "                  )\n",
    "gscene.create_safe(GEOTYPE.BOX, \"sofa_col\", link_name=\"base_link\",\n",
    "                   dims=np.add(SOFA_DIMS, SOFA_MARGIN_O*2), \n",
    "                   center=(0,0,0), rpy=(0,0,0),\n",
    "                   color=COL_COLOR, collision=True, parent=\"sofa\"\n",
    "                  )\n",
    "sofa_left = gscene.create_safe(GEOTYPE.BOX, \"sofa_left\", link_name=\"base_link\",\n",
    "                   dims=(SOFA_DIMS[0], SOFA_SIDE_THIC, SOFA_DIMS[2]+SOFA_SIDE_HEIT), \n",
    "                   center=(0,(SOFA_DIMS[1]+SOFA_SIDE_THIC)/2, SOFA_SIDE_HEIT/2), \n",
    "                   rpy=(0,0,0), color=SOFA_COLOR, collision=False, parent=\"sofa\"\n",
    "                  )\n",
    "gscene.create_safe(GEOTYPE.BOX, \"sofa_left_col\", link_name=\"base_link\",\n",
    "                   dims=np.add(sofa_left.dims, SOFA_MARGIN_O*2), \n",
    "                   center=(0,0,0), rpy=(0,0,0),\n",
    "                   color=COL_COLOR, collision=True, parent=\"sofa_left\"\n",
    "                  )\n",
    "sofa_right = gscene.create_safe(GEOTYPE.BOX, \"sofa_right\", link_name=\"base_link\",\n",
    "                   dims=(SOFA_DIMS[0], SOFA_SIDE_THIC, SOFA_DIMS[2]+SOFA_SIDE_HEIT), \n",
    "                   center=(0,-(SOFA_DIMS[1]+SOFA_SIDE_THIC)/2, SOFA_SIDE_HEIT/2), \n",
    "                   rpy=(0,0,0), color=SOFA_COLOR, collision=False, parent=\"sofa\"\n",
    "                  )\n",
    "gscene.create_safe(GEOTYPE.BOX, \"sofa_right_col\", link_name=\"base_link\",\n",
    "                   dims=np.add(sofa_right.dims, SOFA_MARGIN_O*2), \n",
    "                   center=(0,0,0), rpy=(0,0,0),\n",
    "                   color=COL_COLOR, collision=True, parent=\"sofa_right\"\n",
    "                  )\n",
    "sofa_back = gscene.create_safe(GEOTYPE.BOX, \"sofa_back\", link_name=\"base_link\",\n",
    "                   dims=(SOFA_SIDE_THIC, SOFA_DIMS[1]+SOFA_SIDE_THIC*2, SOFA_DIMS[2]+SOFA_SIDE_HEIT), \n",
    "#                    dims=(SOFA_SIDE_THIC, SOFA_DIMS[1], SOFA_DIMS[2]+SOFA_SIDE_HEIT), \n",
    "                   center=(-(SOFA_DIMS[0]+SOFA_SIDE_THIC)/2, 0, SOFA_SIDE_HEIT/2), \n",
    "                   rpy=(0,0,0), color=SOFA_COLOR, collision=False, parent=\"sofa\"\n",
    "                  )\n",
    "gscene.create_safe(GEOTYPE.BOX, \"sofa_back_col\", link_name=\"base_link\",\n",
    "                   dims=np.add(sofa_back.dims, SOFA_MARGIN_O*2), \n",
    "                   center=(0,0,0), rpy=(0,0,0),\n",
    "                   color=COL_COLOR, collision=True, parent=\"sofa_back\"\n",
    "                  )\n",
    "\n",
    "sofa_surf = gscene.create_safe(GEOTYPE.BOX, \"sofa_surf\", link_name=\"base_link\",\n",
    "                               dims=tuple(np.subtract(SOFA_DIMS[:2], (SOFA_MARGIN_Ix, SOFA_MARGIN_Iy*2)))+(CLEARANCE,), # (방석 앞뒤/좌우 마진)\n",
    "                               center=(SOFA_MARGIN_Ix/2,0,SOFA_DIMS[2]/2+SOFA_UV_DIST), collision=False, \n",
    "                               rpy=(0,0,0), color=SURF_COLOR, parent=\"sofa\"\n",
    "                              )\n",
    "\n",
    "sofa_back_surf = gscene.create_safe(GEOTYPE.BOX, \"sofa_back_surf\", link_name=\"base_link\",\n",
    "                               dims=sofa_back.dims[:2]+(CLEARANCE,), collision=False, \n",
    "                               center=(SOFA_MARGIN_Ix,0,sofa_back.dims[2]/2+SOFA_MARGIN_O+CLEARANCE), #  (등위 앞쪽 오프셋)\n",
    "                               rpy=(0,0,0), color=SURF_COLOR, parent=\"sofa_back\"\n",
    "                              )\n",
    "\n",
    "sofa_left_surf = gscene.create_safe(GEOTYPE.BOX, \"sofa_left_surf\", link_name=\"base_link\",\n",
    "                               dims=sofa_left.dims[:2]+(CLEARANCE,), collision=False, \n",
    "                               center=(0,0,sofa_left.dims[2]/2+SOFA_UV_DIST), \n",
    "                               rpy=(0,0,0), color=SURF_COLOR, parent=\"sofa_left\"\n",
    "                              )\n",
    "\n",
    "sofa_right_surf = gscene.create_safe(GEOTYPE.BOX, \"sofa_right_surf\", link_name=\"base_link\",\n",
    "                               dims=sofa_right.dims[:2]+(CLEARANCE,), collision=False, \n",
    "                               center=(0,0,sofa_right.dims[2]/2+SOFA_UV_DIST), \n",
    "                               rpy=(0,0,0), color=SURF_COLOR, parent=\"sofa_right\"\n",
    "                              )\n",
    "\n",
    "sofa_front = gscene.create_safe(GEOTYPE.BOX, \"sofa_front\", link_name=\"base_link\",\n",
    "                               dims=(sofa.dims[2], sofa.dims[1])+(CLEARANCE,), \n",
    "                               center=(sofa.dims[0]/2+SOFA_UV_DIST,0,SOFA_MARGIN_Iz), collision=False,  #  (다리앞 바닥 오프셋)\n",
    "                               rpy=(0,np.pi/2,0), color=SURF_COLOR, parent=\"sofa\"\n",
    "                              )\n",
    "\n",
    "sofa_left_front = gscene.create_safe(GEOTYPE.BOX, \"sofa_left_front\", link_name=\"base_link\",\n",
    "                               dims=(sofa_left.dims[2]-SOFA_MARGIN_Iz, sofa_left.dims[1])+(CLEARANCE,), \n",
    "                               center=(sofa_left.dims[0]/2+SOFA_UV_DIST,0,+SOFA_MARGIN_Iz/2), collision=False, # (왼쪽앞 바닥 오프셋)\n",
    "                               rpy=(0,np.pi/2,0), color=SURF_COLOR, parent=\"sofa_left\"\n",
    "                              )\n",
    "\n",
    "sofa_right_front = gscene.create_safe(GEOTYPE.BOX, \"sofa_right_front\", link_name=\"base_link\",\n",
    "                               dims=(sofa_right.dims[2]-SOFA_MARGIN_Iz, sofa_right.dims[1])+(CLEARANCE,), \n",
    "                               center=(sofa_right.dims[0]/2+SOFA_UV_DIST,0,+SOFA_MARGIN_Iz/2), collision=False,# (오른쪽앞 바닥 오프셋)\n",
    "                               rpy=(0,np.pi/2,0), color=SURF_COLOR, parent=\"sofa_right\"\n",
    "                              )\n",
    "\n",
    "sofa_back_front = gscene.create_safe(GEOTYPE.BOX, \"sofa_back_front\", link_name=\"base_link\",# (등앞 바닥 오프셋, 등앞 좌우 오프셋)\n",
    "                               dims=(max(TOOL_DIM), sofa_back.dims[1]-SOFA_SIDE_THIC*2-SOFA_MARGIN_Iy*2)+(CLEARANCE,),\n",
    "#                                dims=(sofa_back.dims[2]-SOFA_DIMS[2]-SOFA_MARGIN_I, sofa_back.dims[1]-SOFA_MARGIN_I*3)+(CLEARANCE,), \n",
    "                               center=(sofa_back.dims[0]/2+SOFA_UV_DIST,0,sofa_back.dims[2]/2-sofa.dims[2]/2+max(TOOL_DIM)/2+SOFA_MARGIN_Iz),#  (등앞 아래 오프셋)\n",
    "                               rpy=(0,np.pi/2,0), color=SURF_COLOR, collision=False, parent=\"sofa_back\"\n",
    "                              )"
   ]
  },
  {
   "cell_type": "code",
   "execution_count": 9,
   "metadata": {},
   "outputs": [],
   "source": [
    "ADD_POLES = False\n",
    "if ADD_POLES:\n",
    "    pole_pt_list = kmm.remove_poles_by_box(gscene, gscene.NAME_DICT[\"room_ws\"], \n",
    "                        pole_pt_list, Qcur, inside=False, margin=0.1)\n",
    "    pole_pt_list = kmm.remove_poles_by_box(gscene, gscene.NAME_DICT[\"table_col\"], \n",
    "                        pole_pt_list, Qcur, margin=0.2)\n",
    "    pole_pt_list = kmm.remove_poles_by_box(gscene, gscene.NAME_DICT[\"sofa_col\"], \n",
    "                        pole_pt_list, Qcur, margin=0.2)\n",
    "    # pole_pt_list = kmm.remove_poles_by_box(gscene, gscene.NAME_DICT[\"sofa_back_col\"], \n",
    "    #                     pole_pt_list, Qcur, margin=0.1)\n",
    "    # pole_pt_list = kmm.remove_poles_by_box(gscene, gscene.NAME_DICT[\"sofa_right_col\"], \n",
    "    #                     pole_pt_list, Qcur, margin=0.1)\n",
    "\n",
    "    pole_list = kmm.add_pixel_poles(\"obs_pt\", gscene, pole_pt_list, pole_res, height=WS_HEIGHT)\n",
    "    gcheck.ignore_always = pole_list\n",
    "\n",
    "    gscene.update_markers_all() "
   ]
  },
  {
   "cell_type": "code",
   "execution_count": null,
   "metadata": {},
   "outputs": [],
   "source": []
  },
  {
   "cell_type": "markdown",
   "metadata": {},
   "source": [
    "### Set UI"
   ]
  },
  {
   "cell_type": "code",
   "execution_count": 10,
   "metadata": {},
   "outputs": [
    {
     "name": "stdout",
     "output_type": "stream",
     "text": [
      "Dash is running on http://0.0.0.0:8050/\n",
      "\n",
      " * Serving Flask app \"pkg.ui.dash_launcher\" (lazy loading)\n",
      " * Environment: production\n"
     ]
    }
   ],
   "source": [
    "from pkg.ui.ui_broker import *\n",
    "\n",
    "# start UI\n",
    "ui_broker = UIBroker.instance()\n",
    "ui_broker.initialize(ppline, s_builder)\n",
    "ui_broker.start_server()\n",
    "\n",
    "ui_broker.set_tables()"
   ]
  },
  {
   "cell_type": "code",
   "execution_count": null,
   "metadata": {},
   "outputs": [],
   "source": []
  },
  {
   "cell_type": "markdown",
   "metadata": {},
   "source": [
    "\n",
    "## 2. Prepare cleaning"
   ]
  },
  {
   "cell_type": "code",
   "execution_count": 11,
   "metadata": {},
   "outputs": [
    {
     "name": "stdout",
     "output_type": "stream",
     "text": [
      "   WARNING: This is a development server. Do not use it in a production deployment.\n"
     ]
    }
   ],
   "source": [
    "from pkg.planning.constraint.constraint_common import *\n",
    "from pkg.planning.constraint.constraint_actor import *\n",
    "from pkg.planning.constraint.constraint_subject import *\n",
    "from pkg.utils.code_scraps import get_look_motion"
   ]
  },
  {
   "cell_type": "code",
   "execution_count": 12,
   "metadata": {
    "scrolled": true
   },
   "outputs": [
    {
     "name": "stdout",
     "output_type": "stream",
     "text": [
      "   Use a production WSGI server instead.\n",
      " * Debug mode: off\n",
      "End up at=[ 0.018  0.004  0.08 ] (0.0 / 0.0)\n",
      "Connect: Server IP (192.168.0.3)\n",
      "Connect: Server IP (192.168.0.3)\n",
      "[KTOOL] led_off\n"
     ]
    }
   ],
   "source": [
    "# mplan.reset_log(flag_log=True)\n",
    "Qcur = crob.get_real_robot_pose()\n",
    "Qcur[-1] = np.deg2rad(-45)\n",
    "Qcur[6:] = crob.home_pose[6:]\n",
    "crob.joint_move_make_sure(Qcur)\n",
    "Qcur = crob.get_real_robot_pose()\n",
    "if CONNECT_INDY:\n",
    "    indy.ktool.led_off()"
   ]
  },
  {
   "cell_type": "code",
   "execution_count": 13,
   "metadata": {},
   "outputs": [
    {
     "name": "stdout",
     "output_type": "stream",
     "text": [
      "End up at=[ 0.018  0.004  0.08 ] (0.0 / 0.0)\n",
      "Connect: Server IP (192.168.0.3)\n",
      "Connect: Server IP (192.168.0.3)\n",
      "Connect: Server IP (192.168.0.3)\n"
     ]
    }
   ],
   "source": [
    "# mplan.reset_log(flag_log=True)\n",
    "Qcur = crob.get_real_robot_pose()\n",
    "Qcur[-1] = np.deg2rad(-45)\n",
    "if not CONNECT_INDY:\n",
    "    Qcur[6:] = crob.home_pose[6:]\n",
    "crob.joint_move_make_sure(Qcur)\n",
    "HOME_POSE_SWEEP = np.copy(Qcur)\n",
    "# HOME_POSE_SWEEP[6:] = 0\n",
    "crob.home_pose = HOME_POSE_SWEEP\n",
    "crob.home_dict = list2dict(crob.home_pose, \n",
    "                           gscene.joint_names)\n",
    "floor_ws = gscene.NAME_DICT[\"floor_ws\"]    \n",
    "\n",
    "VEL_LIMS = 0.4\n",
    "ACC_LIMS = 0.4\n",
    "SWP_VEL_LIMS = 0.2\n",
    "SWP_ACC_LIMS = 0.2\n",
    "RADI_DEG = 1\n",
    "\n",
    "if CONNECT_INDY:\n",
    "    indy.QVEL_LEVEL = 1\n",
    "#     indy.collision_policy = indy_trajectory_client_nosdk.POLICY_NO_COLLISION_DETECTION\n",
    "    indy.reset()\n",
    "\n",
    "gtimer = GlobalTimer()\n",
    "    \n",
    "mode_switcher=ModeSwitcherLED(pscene, robot_name=ROBOT_NAME, brush_face=brush_face.geometry)\n",
    "\n",
    "def no_offset(gxter, crob, mplan, robot_name, Qref):\n",
    "    return Qref, Qref\n",
    "\n",
    "def cleaning_fun(surface, tip_dir, sweep_dir, tool_dir, Qcur,\n",
    "                 swp_vel_lims=SWP_VEL_LIMS, swp_acc_lims=SWP_ACC_LIMS,\n",
    "                 div_num=None):\n",
    "    if sweep_dir.lower() == \"z\":\n",
    "        EE_HEIGHT = None\n",
    "    else:\n",
    "        T_e_brush = brush_face.get_tf_handle(crob.home_dict, from_link=TIP_LINK)\n",
    "        T_brush_e = SE3_inv(T_e_brush)\n",
    "        EE_HEIGHT = round(surface.get_tf(HOME_DICT)[2,3] + surface.dims[2]/2, 5) \\\n",
    "                        + T_brush_e[2, 3] - INDY_BASE_OFFSET[2]\n",
    "    gtimer.reset(scale=1, timeunit='s', stack=True)\n",
    "    gxter = GreedyExecuter(ppline, brush_face, TOOL_DIM, Qcur, \n",
    "                           vel_lims=VEL_LIMS, acc_lims=ACC_LIMS, \n",
    "                           swp_vel_lims=swp_vel_lims, swp_acc_lims=swp_acc_lims\n",
    "                          )\n",
    "\n",
    "    gxter.set_test_kwargs(multiprocess=PLANNING_MULTIPROC, N_agents=N_AGENTS,\n",
    "                          timeout=TIMEOUT_MOTION, timeout_loop=TIMEOUT_FULL, \n",
    "                          verbose=VERBOSE, max_solution_count=MAX_SOL_NUM)\n",
    "\n",
    "    gxter.get_division_dict(surface, tip_dir, sweep_dir, EE_HEIGHT,div_num=div_num)\n",
    "    gxter.init_base_divs(Qcur)\n",
    "    # gxter.mark_tested(None, None, covereds_all, [])\n",
    "    snode_schedule_list, Qcur, covereds = gxter.greedy_execute(\n",
    "        Qcur, tool_dir, mode_switcher, no_offset, cost_cut=BASE_COST_CUT)\n",
    "\n",
    "    gxter.test_clear()\n",
    "    print(gtimer)\n",
    "    gscene.clear_virtuals()\n",
    "    return snode_schedule_list, Qcur"
   ]
  },
  {
   "cell_type": "code",
   "execution_count": null,
   "metadata": {},
   "outputs": [],
   "source": []
  },
  {
   "cell_type": "markdown",
   "metadata": {},
   "source": [
    "## Load Schedules"
   ]
  },
  {
   "cell_type": "code",
   "execution_count": 14,
   "metadata": {},
   "outputs": [
    {
     "name": "stdout",
     "output_type": "stream",
     "text": [
      "[INFO] data_folder is not specified - select most recent data\n",
      "schedule loaded from /home/kiro-ros/Projects/rnb-planning/data/demo1222/20211222-104107\n"
     ]
    }
   ],
   "source": [
    "snode_schedule_list_table_all, snode_schedule_list_sofa_all = load_schedules()"
   ]
  },
  {
   "cell_type": "code",
   "execution_count": null,
   "metadata": {},
   "outputs": [],
   "source": []
  },
  {
   "cell_type": "markdown",
   "metadata": {},
   "source": [
    "## Loop table"
   ]
  },
  {
   "cell_type": "code",
   "execution_count": null,
   "metadata": {
    "scrolled": true
   },
   "outputs": [
    {
     "name": "stdout",
     "output_type": "stream",
     "text": [
      "End up at=[ 0.175  0.085 -0.   ] (0.0 / 0.0)\n",
      "Connect: Server IP (192.168.0.3)\n",
      "Connect: Server IP (192.168.0.3)\n",
      "Connect: Server IP (192.168.0.3)\n",
      "LED ON\n",
      "[KTOOL] led_on\n",
      "[KTOOL] recv [162, 6, 0, 0]\n",
      "Connect: Server IP (192.168.0.3)\n",
      "LED OFF\n",
      "[KTOOL] led_off\n",
      "Connect: Server IP (192.168.0.3)\n",
      "LED ON\n",
      "[KTOOL] led_on\n",
      "[KTOOL] recv [162, 6, 0, 0]\n",
      "Connect: Server IP (192.168.0.3)\n",
      "LED OFF\n",
      "[KTOOL] led_off\n",
      "Connect: Server IP (192.168.0.3)\n",
      "LED ON\n",
      "[KTOOL] led_on\n",
      "[KTOOL] recv [162, 6, 0, 0]\n",
      "Connect: Server IP (192.168.0.3)\n",
      "LED OFF\n",
      "[KTOOL] led_off\n",
      "Connect: Server IP (192.168.0.3)\n",
      "Connect: Server IP (192.168.0.3)\n",
      "End up at=[ 0.206  0.085 -0.   ] (0.0 / 0.0)\n",
      "Connect: Server IP (192.168.0.3)\n",
      "Connect: Server IP (192.168.0.3)\n",
      "Connect: Server IP (192.168.0.3)\n",
      "LED ON\n",
      "[KTOOL] led_on\n",
      "[KTOOL] recv [162, 6, 0, 0]\n",
      "Connect: Server IP (192.168.0.3)\n",
      "LED OFF\n",
      "[KTOOL] led_off\n",
      "Connect: Server IP (192.168.0.3)\n",
      "Connect: Server IP (192.168.0.3)\n",
      "End up at=[ 0.175  0.085 -0.   ] (0.0 / 0.0)\n",
      "Connect: Server IP (192.168.0.3)\n",
      "Connect: Server IP (192.168.0.3)\n",
      "Connect: Server IP (192.168.0.3)\n",
      "LED ON\n",
      "[KTOOL] led_on\n",
      "[KTOOL] recv [162, 6, 0, 0]\n",
      "Connect: Server IP (192.168.0.3)\n",
      "LED OFF\n",
      "[KTOOL] led_off\n",
      "Connect: Server IP (192.168.0.3)\n",
      "LED ON\n",
      "[KTOOL] led_on\n",
      "[KTOOL] recv [162, 6, 0, 0]\n",
      "Connect: Server IP (192.168.0.3)\n",
      "LED OFF\n",
      "[KTOOL] led_off\n",
      "Connect: Server IP (192.168.0.3)\n",
      "LED ON\n",
      "[KTOOL] led_on\n",
      "[KTOOL] recv [162, 6, 0, 0]\n"
     ]
    }
   ],
   "source": [
    "try:\n",
    "    while True:\n",
    "        for snode_schedule_list in snode_schedule_list_table_all:\n",
    "            play_cleaning_schedule(ppline, table_surf, snode_schedule_list, mode_switcher, TOOL_DIM)\n",
    "finally:\n",
    "    indy.stop_tracking()"
   ]
  }
 ],
 "metadata": {
  "kernelspec": {
   "display_name": "Python 2",
   "language": "python",
   "name": "python2"
  },
  "language_info": {
   "codemirror_mode": {
    "name": "ipython",
    "version": 2
   },
   "file_extension": ".py",
   "mimetype": "text/x-python",
   "name": "python",
   "nbconvert_exporter": "python",
   "pygments_lexer": "ipython2",
   "version": "2.7.17"
  }
 },
 "nbformat": 4,
 "nbformat_minor": 2
}
