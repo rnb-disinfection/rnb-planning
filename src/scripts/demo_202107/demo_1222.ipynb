{
 "cells": [
  {
   "cell_type": "markdown",
   "metadata": {},
   "source": [
    "# Demo Script for Milestone 10.15"
   ]
  },
  {
   "cell_type": "markdown",
   "metadata": {},
   "source": [
    "## 0 Prepare task"
   ]
  },
  {
   "cell_type": "markdown",
   "metadata": {},
   "source": [
    "### 0.1 prepare planning scene"
   ]
  },
  {
   "cell_type": "markdown",
   "metadata": {},
   "source": [
    "#### Run shared detector on bash\n",
    "```bash\n",
    "python3 /home/kiro-ros/Projects/rnb-planning/src/scripts/demo_202107/demo_utils/shared_detector.py\n",
    "```\n",
    "\n",
    "#### Check and request ip setting from mobile udp client (robot-side)"
   ]
  },
  {
   "cell_type": "markdown",
   "metadata": {},
   "source": [
    "#### 0.1.1 Set parameters and create planning scene"
   ]
  },
  {
   "cell_type": "code",
   "execution_count": null,
   "metadata": {},
   "outputs": [],
   "source": [
    "import numpy as np\n",
    "\n",
    "CONNECT_CAM = False\n",
    "CONNECT_INDY = False\n",
    "CONNECT_MOBILE = False\n",
    "\n",
    "CONNECT_TASK_PLANNER = False\n",
    "VISUALIZE = False\n",
    "VERBOSE = False\n",
    "PLANNING_MULTIPROC = True\n",
    "N_AGENTS = 10\n",
    "NODE_TRIAL_MAX = N_AGENTS * 2\n",
    "MAX_SOL_NUM = 5\n",
    "BASE_COST_CUT = 110\n",
    "\n",
    "TIMEOUT_MOTION = 0.5\n",
    "TIMEOUT_FULL = 5\n",
    "\n",
    "ROS_MASTER_ON_MOBILE = False\n",
    "# Tool dimensions\n",
    "TOOL_DIM = [0.15, 0.32]\n",
    "TOOL_THICKNESS = 0.05\n",
    "MARGIN = 0\n",
    "TRACK_THICKNESS = 0.001\n",
    "\n",
    "INDY_BASE_OFFSET = (0.172,0,0.439)\n",
    "INDY_BASE_RPY = (0,0,0)\n",
    "TOOL_NAME = \"brush_face\"\n",
    "WALL_THICKNESS = 0.01\n",
    "CLEARANCE = 0.001\n",
    "\n",
    "COL_COLOR = (1,1,1,0.2)\n",
    "\n",
    "IP_CUR = \"192.168.0.10\"# get_ip_address()\n",
    "MOBILE_IP = \"192.168.0.102\"\n",
    "INDY_IP = \"192.168.0.3\"\n",
    "\n",
    "print(\"Current PC IP: {}\".format(IP_CUR))\n",
    "print(\"Mobile ROB IP: {}\".format(MOBILE_IP))"
   ]
  },
  {
   "cell_type": "code",
   "execution_count": null,
   "metadata": {},
   "outputs": [],
   "source": [
    "if CONNECT_TASK_PLANNER:\n",
    "    from demo_proto.DisinfectionOperationServicer import serve_on_thread\n",
    "    servicer = serve_on_thread()"
   ]
  },
  {
   "cell_type": "code",
   "execution_count": null,
   "metadata": {},
   "outputs": [],
   "source": [
    "import os\n",
    "import sys\n",
    "sys.path.append(os.path.join(os.path.join(\n",
    "    os.environ[\"RNB_PLANNING_DIR\"], 'src')))\n",
    "sys.path.append(os.path.join(\n",
    "    os.environ[\"RNB_PLANNING_DIR\"], 'src/scripts/demo_202107'))\n",
    "\n",
    "from pkg.global_config import RNB_PLANNING_DIR\n",
    "from pkg.utils.utils import *    \n",
    "from pkg.utils.rotation_utils import *\n",
    "from pkg.controller.combined_robot import *\n",
    "from demo_utils.area_select import *\n",
    "from pkg.detector.aruco.marker_config import get_aruco_map\n",
    "aruco_map = get_aruco_map()\n",
    "\n",
    "from pkg.detector.multiICP.multiICP import *\n",
    "from pkg.detector.camera.realsense import RealSense\n",
    "from pkg.detector.detector_interface import DetectionLevel\n",
    "from pkg.detector.multiICP.config import *\n",
    "\n",
    "from pkg.geometry.builder.scene_builder import SceneBuilder\n",
    "from demo_utils.environment import *\n",
    "from demo_utils.area_select import DATASET_DIR, SweepDirections\n",
    "from demo_utils.demo_config import *\n",
    "from demo_utils.detection_util import *\n",
    "\n",
    "from pkg.utils.shared_function import *\n",
    "clear_channels_on(\"kiromobilemap\")\n",
    "\n",
    "if not CONNECT_INDY:\n",
    "    indy_7dof_client.kiro_tool.KIRO_TOOL_PORT = '/dev/ttyS10'\n",
    "kiro_udp_client.KIRO_UDP_OFFLINE_DEBUG = not CONNECT_MOBILE\n",
    "\n",
    "mobile_config = RobotConfig(0, RobotType.kmb, ((0,0,0), (0,0,0)),\n",
    "                \"{}/{}\".format(MOBILE_IP, IP_CUR))\n",
    "robot_config = RobotConfig(1, RobotType.indy7kiro, \n",
    "                           (INDY_BASE_OFFSET, INDY_BASE_RPY),\n",
    "                INDY_IP, root_on=\"kmb0_platform\")\n",
    "ROBOT_TYPE = robot_config.type\n",
    "MOBILE_NAME = mobile_config.get_indexed_name()\n",
    "ROBOT_NAME = robot_config.get_indexed_name()\n",
    "crob = CombinedRobot(robots_on_scene=[mobile_config, robot_config]\n",
    "              , connection_list=[True, CONNECT_INDY])\n",
    "\n",
    "s_builder = SceneBuilder(None)\n",
    "SceneBuilder.autostart_roscore = not ROS_MASTER_ON_MOBILE\n",
    "gscene = s_builder.create_gscene(crob)\n",
    "\n",
    "gtems = s_builder.add_robot_geometries(\n",
    "    color=COL_COLOR, display=True, collision=True)\n",
    "gscene.set_workspace_boundary(\n",
    "    3, 9.5, -3.5, 0, -CLEARANCE, 3, thickness=WALL_THICKNESS)\n",
    "\n",
    "\n",
    "from pkg.planning.scene import PlanningScene\n",
    "pscene = PlanningScene(gscene, combined_robot=crob)\n",
    "\n",
    "ROBOT_BASE = pscene.robot_chain_dict[ROBOT_NAME]['link_names'][0]\n",
    "TIP_LINK = pscene.robot_chain_dict[ROBOT_NAME][\"tip_link\"]\n",
    "CAM_LINK = TIP_LINK.replace(\"tcp\", \"link6\")\n",
    "MOBILE_BASE = pscene.robot_chain_dict[MOBILE_NAME][\"tip_link\"]\n",
    "HOLD_LINK = MOBILE_BASE\n",
    "\n",
    "viewpoint = add_cam(gscene, tool_link=CAM_LINK, center=(-0.0785, 0, 0.073))\n",
    "\n",
    "add_brush(gscene, face_name=TOOL_NAME, tool_link=TIP_LINK,\n",
    "          thickness=TOOL_THICKNESS, tool_dim=TOOL_DIM,\n",
    "          col_color=COL_COLOR)\n",
    "\n",
    "HOME_POSE = crob.home_pose\n",
    "HOME_DICT = list2dict(HOME_POSE, gscene.joint_names)\n",
    "\n",
    "from pkg.planning.pipeline import PlanningPipeline\n",
    "ppline = PlanningPipeline(pscene)\n",
    "\n",
    "# Set planner\n",
    "from pkg.planning.motion.moveit.moveit_planner import MoveitPlanner\n",
    "from pkg.planning.filtering.grasp_filter import GraspChecker\n",
    "mplan = MoveitPlanner(pscene, enable_dual=False, \n",
    "                      incremental_constraint_motion=True)\n",
    "mplan.motion_filters = [GraspChecker(pscene)]\n",
    "mplan.update_gscene()\n",
    "gcheck = GraspChecker(pscene)\n",
    "mplan.motion_filters = [gcheck]\n",
    "\n",
    "mplan.reset_PRQdict(enable_PRQ=0.5, radii=5e-2)\n",
    "for tip_dir, SWEEP_AXIS in [\n",
    "    (SweepDirections.front, \"X\"), (SweepDirections.up, \"Z\"), (SweepDirections.down, \"Z\")]:\n",
    "    filename = SweepDirections.get_file_name(ROBOT_TYPE, tip_dir.name+SWEEP_AXIS)+\"-PRQ.pkl\"\n",
    "    PRQ_PATH = os.path.join(SWEEP_DATA_DIR, filename)\n",
    "    try:\n",
    "        Pos_Rotvec_Qlist_dict = load_pickle(PRQ_PATH)\n",
    "        mplan.register_PRQ(ROBOT_NAME, Pos_Rotvec_Qlist_dict, decimal=2)\n",
    "        print(\"Loaded: {}\".format(filename))\n",
    "    except:\n",
    "        print(\"File not exist: {}\".format(filename))\n",
    "        continue\n",
    "\n",
    "from pkg.planning.task.rrt import TaskRRT\n",
    "tplan = TaskRRT(pscene, node_trial_max=NODE_TRIAL_MAX)\n",
    "tplan.prepare()\n",
    "ppline.set_motion_planner(mplan)\n",
    "ppline.set_task_planner(tplan)\n",
    "\n",
    "# Register binders\n",
    "from pkg.planning.constraint.constraint_actor import VacuumTool, \\\n",
    "    Gripper2Tool, PlacePlane, SweepFramer\n",
    "\n",
    "brush_face = pscene.create_binder(\n",
    "    bname=TOOL_NAME, gname=TOOL_NAME, _type=SweepFramer, \n",
    "    point=(0,0, -gscene.NAME_DICT['brush_face'].dims[2]/2-CLEARANCE), \n",
    "    rpy=(0,0,0))\n",
    "\n",
    "gscene.create_safe(\n",
    "    gtype=GEOTYPE.BOX, name=\"floor_box\", link_name=\"base_link\",\n",
    "    dims=(15,15,0.4), center=(0,0,0), rpy=(0,0,0), \n",
    "    color=(1, 1, 1, 0.1), display=True, collision=False, fixed=True)\n",
    "\n",
    "gscene.add_highlight_axis(\"hl\", \"base_coord\", T=np.identity(4), dims=(0.5,0.1,0.1))\n",
    "\n",
    "kmb = crob.robot_dict[\"kmb0\"]\n",
    "indy = crob.robot_dict[\"indy1\"]\n",
    "mobile_box = gscene.NAME_DICT['kmb0_platform_Box_2']\n",
    "crob.simulator.set_gscene(gscene)\n",
    "\n",
    "if CONNECT_MOBILE:\n",
    "    assert np.sum(np.abs(get_xyzw_cur()))>1e-4, \"UDP Server not connected\"\n",
    "    \n",
    "if CONNECT_CAM:\n",
    "    realsense = RealSense()\n",
    "\n",
    "from demo_utils.data_reconstructed_camera import DataRecontructedCamera\n",
    "dcam = DataRecontructedCamera(crob, viewpoint)"
   ]
  },
  {
   "cell_type": "code",
   "execution_count": null,
   "metadata": {},
   "outputs": [],
   "source": []
  },
  {
   "cell_type": "markdown",
   "metadata": {},
   "source": [
    "### Set UI"
   ]
  },
  {
   "cell_type": "code",
   "execution_count": null,
   "metadata": {},
   "outputs": [],
   "source": [
    "from pkg.ui.ui_broker import *\n",
    "\n",
    "# start UI\n",
    "ui_broker = UIBroker.instance()\n",
    "ui_broker.initialize(ppline, s_builder)\n",
    "ui_broker.start_server()\n",
    "\n",
    "ui_broker.set_tables()"
   ]
  },
  {
   "cell_type": "code",
   "execution_count": null,
   "metadata": {},
   "outputs": [],
   "source": []
  },
  {
   "cell_type": "markdown",
   "metadata": {},
   "source": [
    "#### [DataRecon]"
   ]
  },
  {
   "cell_type": "code",
   "execution_count": null,
   "metadata": {},
   "outputs": [],
   "source": [
    "from demo_utils.data_reconstructed_camera import DataRecontructedCamera\n",
    "dcam = DataRecontructedCamera(crob, viewpoint)\n",
    "\n",
    "if not CONNECT_CAM:\n",
    "    dcam.initialize()"
   ]
  },
  {
   "cell_type": "markdown",
   "metadata": {},
   "source": [
    "#### 0.1.2 Load environment map"
   ]
  },
  {
   "cell_type": "code",
   "execution_count": null,
   "metadata": {},
   "outputs": [],
   "source": [
    "from demo_utils.ros_map_utils import KiroMobileMap\n",
    "kmm = KiroMobileMap(MOBILE_IP, IP_CUR, CONNECT_MOBILE)\n",
    "            \n",
    "VALID_BOX_SCALE = 0.8\n",
    "VALID_SCORE_CUT = 50\n",
    "kmb.coster = (lambda Q: \n",
    "                  np.max(\n",
    "                      kmm.get_box_costs(mobile_box, Q, kmm.T_bi, kmm.cost_im, kmm.resolution, \n",
    "                                        scale=VALID_BOX_SCALE)))\n",
    "kmb.cost_cut = VALID_SCORE_CUT\n",
    "kmb.gscene = gscene\n",
    "\n",
    "kmm.init_node(timeout=10)"
   ]
  },
  {
   "cell_type": "code",
   "execution_count": null,
   "metadata": {
    "scrolled": true
   },
   "outputs": [],
   "source": [
    "pole_pt_list, pole_res = kmm.update_map(gscene, crob, MOBILE_BASE, timeout=100)\n",
    "if not CONNECT_MOBILE:\n",
    "    crob.joint_move_make_sure(kmm.Q_map)"
   ]
  },
  {
   "cell_type": "code",
   "execution_count": null,
   "metadata": {},
   "outputs": [],
   "source": []
  },
  {
   "cell_type": "markdown",
   "metadata": {},
   "source": [
    "## 1. Prepare scene"
   ]
  },
  {
   "cell_type": "code",
   "execution_count": null,
   "metadata": {},
   "outputs": [],
   "source": [
    "TABLE_DIMS = (0.76,1.2, 0.5)\n",
    "TABLE_LOC = (4.9,-3.0,TABLE_DIMS[2]/2)\n",
    "TABLE_ANG = np.pi/2\n",
    "TABLE_MARGIN_I = 0.03\n",
    "TABLE_MARGIN_O = 0.03\n",
    "CLEARANCE = 0.002\n",
    "TABLE_COLOR = (0.8,0.8,0.8,1)\n",
    "SURF_COLOR = (0,1,0,0.4)\n",
    "COL_COLOR = (1,1,1,0.2)\n",
    "\n",
    "gscene.create_safe(GEOTYPE.BOX, \"table\", link_name=\"base_link\",\n",
    "                   dims=TABLE_DIMS, center=TABLE_LOC, rpy=Rot2rpy(Rot_axis(3, TABLE_ANG)),\n",
    "                   color=TABLE_COLOR, collision=False\n",
    "                  )\n",
    "gscene.create_safe(GEOTYPE.BOX, \"table_col\", link_name=\"base_link\",\n",
    "                   dims=np.add(TABLE_DIMS, \n",
    "                               (TABLE_MARGIN_O*2, TABLE_MARGIN_O*2, 0)), \n",
    "                   center=(0,0,0), rpy=(0,0,0), color=COL_COLOR, \n",
    "                   collision=True, parent=\"table\"\n",
    "                  )\n",
    "table_surf = gscene.create_safe(GEOTYPE.BOX, \"table_surf\", link_name=\"base_link\",\n",
    "                   dims=np.subtract(TABLE_DIMS[:2]+(CLEARANCE,), \n",
    "                                    (TABLE_MARGIN_I*2, TABLE_MARGIN_I*2, 0)), \n",
    "                   center=(0,0,(TABLE_DIMS[2]+CLEARANCE)/2), \n",
    "                   rpy=(0,0,0), color=SURF_COLOR, parent=\"table\",\n",
    "                   collision=False\n",
    "                  )"
   ]
  },
  {
   "cell_type": "code",
   "execution_count": null,
   "metadata": {
    "scrolled": true
   },
   "outputs": [],
   "source": [
    "SOFA_DIMS = (0.56,1.2, 0.3)\n",
    "SOFA_LOC = (7.6,-2.8,SOFA_DIMS[2]/2)\n",
    "SOFA_SIDE_THIC = 0.2\n",
    "SOFA_SIDE_HEIT = 0.2\n",
    "SOFA_ANG = np.pi/2\n",
    "\n",
    "SOFA_MARGIN_O = 0.03\n",
    "SOFA_MARGIN_I = 0.05\n",
    "SOFA_UV_DIST = 0.15\n",
    "\n",
    "SOFA_COLOR = (0.4,0.4,0.4,1)\n",
    "\n",
    "sofa = gscene.create_safe(GEOTYPE.BOX, \"sofa\", link_name=\"base_link\",\n",
    "                   dims=SOFA_DIMS, center=SOFA_LOC, \n",
    "                   rpy=Rot2rpy(Rot_axis(3, SOFA_ANG)),\n",
    "                   color=SOFA_COLOR, collision=False\n",
    "                  )\n",
    "gscene.create_safe(GEOTYPE.BOX, \"sofa_col\", link_name=\"base_link\",\n",
    "                   dims=np.add(SOFA_DIMS, SOFA_MARGIN_O*2), \n",
    "                   center=(0,0,0), rpy=(0,0,0),\n",
    "                   color=COL_COLOR, collision=True, parent=\"sofa\"\n",
    "                  )\n",
    "sofa_left = gscene.create_safe(GEOTYPE.BOX, \"sofa_left\", link_name=\"base_link\",\n",
    "                   dims=(SOFA_DIMS[0], SOFA_SIDE_THIC, SOFA_DIMS[2]+SOFA_SIDE_HEIT), \n",
    "                   center=(0,(SOFA_DIMS[1]+SOFA_SIDE_THIC)/2, SOFA_SIDE_HEIT/2), \n",
    "                   rpy=(0,0,0), color=SOFA_COLOR, collision=False, parent=\"sofa\"\n",
    "                  )\n",
    "gscene.create_safe(GEOTYPE.BOX, \"sofa_left_col\", link_name=\"base_link\",\n",
    "                   dims=np.add(sofa_left.dims, SOFA_MARGIN_O*2), \n",
    "                   center=(0,0,0), rpy=(0,0,0),\n",
    "                   color=COL_COLOR, collision=True, parent=\"sofa_left\"\n",
    "                  )\n",
    "sofa_right = gscene.create_safe(GEOTYPE.BOX, \"sofa_right\", link_name=\"base_link\",\n",
    "                   dims=(SOFA_DIMS[0], SOFA_SIDE_THIC, SOFA_DIMS[2]+SOFA_SIDE_HEIT), \n",
    "                   center=(0,-(SOFA_DIMS[1]+SOFA_SIDE_THIC)/2, SOFA_SIDE_HEIT/2), \n",
    "                   rpy=(0,0,0), color=SOFA_COLOR, collision=False, parent=\"sofa\"\n",
    "                  )\n",
    "gscene.create_safe(GEOTYPE.BOX, \"sofa_right_col\", link_name=\"base_link\",\n",
    "                   dims=np.add(sofa_right.dims, SOFA_MARGIN_O*2), \n",
    "                   center=(0,0,0), rpy=(0,0,0),\n",
    "                   color=COL_COLOR, collision=True, parent=\"sofa_right\"\n",
    "                  )\n",
    "sofa_back = gscene.create_safe(GEOTYPE.BOX, \"sofa_back\", link_name=\"base_link\",\n",
    "                   dims=(SOFA_SIDE_THIC, SOFA_DIMS[1]+SOFA_SIDE_THIC*2, SOFA_DIMS[2]+SOFA_SIDE_HEIT), \n",
    "                   center=(-(SOFA_DIMS[0]+SOFA_SIDE_THIC)/2, 0, SOFA_SIDE_HEIT/2), \n",
    "                   rpy=(0,0,0), color=SOFA_COLOR, collision=False, parent=\"sofa\"\n",
    "                  )\n",
    "gscene.create_safe(GEOTYPE.BOX, \"sofa_back_col\", link_name=\"base_link\",\n",
    "                   dims=np.add(sofa_back.dims, SOFA_MARGIN_O*2), \n",
    "                   center=(0,0,0), rpy=(0,0,0),\n",
    "                   color=COL_COLOR, collision=True, parent=\"sofa_back\"\n",
    "                  )\n",
    "\n",
    "sofa_surf = gscene.create_safe(GEOTYPE.BOX, \"sofa_surf\", link_name=\"base_link\",\n",
    "                               dims=tuple(np.subtract(SOFA_DIMS[:2], SOFA_MARGIN_I*2))+(CLEARANCE,), \n",
    "                               center=(0,0,SOFA_DIMS[2]/2+SOFA_UV_DIST), collision=False, \n",
    "                               rpy=(0,0,0), color=SURF_COLOR, parent=\"sofa\"\n",
    "                              )\n",
    "\n",
    "sofa_back_surf = gscene.create_safe(GEOTYPE.BOX, \"sofa_back_surf\", link_name=\"base_link\",\n",
    "                               dims=sofa_back.dims[:2]+(CLEARANCE,), collision=False, \n",
    "                               center=(SOFA_MARGIN_I*2.5,0,sofa_back.dims[2]/2+SOFA_MARGIN_O+CLEARANCE), \n",
    "                               rpy=(0,0,0), color=SURF_COLOR, parent=\"sofa_back\"\n",
    "                              )\n",
    "\n",
    "sofa_left_surf = gscene.create_safe(GEOTYPE.BOX, \"sofa_left_surf\", link_name=\"base_link\",\n",
    "                               dims=sofa_left.dims[:2]+(CLEARANCE,), collision=False, \n",
    "                               center=(0,0,sofa_left.dims[2]/2+SOFA_UV_DIST), \n",
    "                               rpy=(0,0,0), color=SURF_COLOR, parent=\"sofa_left\"\n",
    "                              )\n",
    "\n",
    "sofa_right_surf = gscene.create_safe(GEOTYPE.BOX, \"sofa_right_surf\", link_name=\"base_link\",\n",
    "                               dims=sofa_right.dims[:2]+(CLEARANCE,), collision=False, \n",
    "                               center=(0,0,sofa_right.dims[2]/2+SOFA_UV_DIST), \n",
    "                               rpy=(0,0,0), color=SURF_COLOR, parent=\"sofa_right\"\n",
    "                              )\n",
    "\n",
    "sofa_front = gscene.create_safe(GEOTYPE.BOX, \"sofa_front\", link_name=\"base_link\",\n",
    "                               dims=(sofa.dims[2], sofa.dims[1])+(CLEARANCE,), \n",
    "                               center=(sofa.dims[0]/2+SOFA_UV_DIST,0,SOFA_MARGIN_I), collision=False, \n",
    "                               rpy=(0,np.pi/2,0), color=SURF_COLOR, parent=\"sofa\"\n",
    "                              )\n",
    "\n",
    "sofa_left_front = gscene.create_safe(GEOTYPE.BOX, \"sofa_left_front\", link_name=\"base_link\",\n",
    "                               dims=(sofa_left.dims[2], sofa_left.dims[1])+(CLEARANCE,), \n",
    "                               center=(sofa_left.dims[0]/2+SOFA_UV_DIST,0,+SOFA_MARGIN_I), collision=False, \n",
    "                               rpy=(0,np.pi/2,0), color=SURF_COLOR, parent=\"sofa_left\"\n",
    "                              )\n",
    "\n",
    "sofa_right_front = gscene.create_safe(GEOTYPE.BOX, \"sofa_right_front\", link_name=\"base_link\",\n",
    "                               dims=(sofa_right.dims[2], sofa_right.dims[1])+(CLEARANCE,), \n",
    "                               center=(sofa_right.dims[0]/2+SOFA_UV_DIST,0,+SOFA_MARGIN_I), collision=False, \n",
    "                               rpy=(0,np.pi/2,0), color=SURF_COLOR, parent=\"sofa_right\"\n",
    "                              )\n",
    "\n",
    "sofa_back_front = gscene.create_safe(GEOTYPE.BOX, \"sofa_back_front\", link_name=\"base_link\",\n",
    "                               dims=(sofa_back.dims[2]-SOFA_DIMS[2]-SOFA_MARGIN_I, sofa_back.dims[1]-SOFA_SIDE_THIC*2-SOFA_MARGIN_I*3)+(CLEARANCE,), \n",
    "                               center=(sofa_back.dims[0]/2+SOFA_UV_DIST,0,SOFA_DIMS[2]/2+SOFA_MARGIN_I*1.5), \n",
    "                               rpy=(0,np.pi/2,0), color=SURF_COLOR, collision=False, parent=\"sofa_back\"\n",
    "                              )"
   ]
  },
  {
   "cell_type": "code",
   "execution_count": null,
   "metadata": {},
   "outputs": [],
   "source": []
  },
  {
   "cell_type": "markdown",
   "metadata": {},
   "source": [
    "### 1.0 Wait task start queue"
   ]
  },
  {
   "cell_type": "code",
   "execution_count": null,
   "metadata": {},
   "outputs": [],
   "source": [
    "if CONNECT_TASK_PLANNER:\n",
    "    while servicer.object_info_running.object_id < 0:\n",
    "        time.sleep(1)"
   ]
  },
  {
   "cell_type": "code",
   "execution_count": null,
   "metadata": {},
   "outputs": [],
   "source": []
  },
  {
   "cell_type": "markdown",
   "metadata": {},
   "source": [
    "\n",
    "## 2. Prepare cleaning"
   ]
  },
  {
   "cell_type": "code",
   "execution_count": null,
   "metadata": {},
   "outputs": [],
   "source": [
    "from pkg.planning.constraint.constraint_common import *\n",
    "from pkg.planning.constraint.constraint_actor import *\n",
    "from pkg.planning.constraint.constraint_subject import *\n",
    "from pkg.utils.code_scraps import get_look_motion"
   ]
  },
  {
   "cell_type": "code",
   "execution_count": null,
   "metadata": {},
   "outputs": [],
   "source": [
    "# mplan.reset_log(flag_log=True)\n",
    "Qcur = crob.get_real_robot_pose()\n",
    "HOME_POSE_SWEEP = np.copy(Qcur)\n",
    "# HOME_POSE_SWEEP[6:] = 0\n",
    "crob.home_pose = HOME_POSE_SWEEP\n",
    "crob.home_dict = list2dict(crob.home_pose, \n",
    "                           gscene.joint_names)\n",
    "floor_ws = gscene.NAME_DICT[\"floor_ws\"]    \n",
    "\n",
    "VEL_LIMS = 0.2\n",
    "ACC_LIMS = 0.2\n",
    "RADI_DEG = 1\n",
    "\n",
    "if CONNECT_INDY:\n",
    "    indy.QVEL_LEVEL = 3\n",
    "    indy.collision_policy = POLICY_NO_COLLISION_DETECTION\n",
    "    indy.reset()\n",
    "\n",
    "gtimer = GlobalTimer()\n",
    "    \n",
    "mode_switcher=ModeSwitcherLED(pscene, robot_name=ROBOT_NAME, brush_face=brush_face.geometry)\n",
    "\n",
    "def no_offset(gxter, crob, mplan, robot_name, Qref):\n",
    "    return Qref, Qref"
   ]
  },
  {
   "cell_type": "markdown",
   "metadata": {},
   "source": [
    "## 3. Table cleaning"
   ]
  },
  {
   "cell_type": "code",
   "execution_count": null,
   "metadata": {},
   "outputs": [],
   "source": [
    "T_e_brush = brush_face.get_tf_handle(crob.home_dict, from_link=TIP_LINK)\n",
    "T_brush_e = SE3_inv(T_e_brush)"
   ]
  },
  {
   "cell_type": "code",
   "execution_count": null,
   "metadata": {
    "scrolled": true
   },
   "outputs": [],
   "source": [
    "EE_HEIGHT = round(table_surf.get_tf(HOME_DICT)[2,3] + table_surf.dims[2]/2, 5) \\\n",
    "                + T_brush_e[2, 3] - INDY_BASE_OFFSET[2]\n",
    "gtimer.reset(scale=1, timeunit='s', stack=True)\n",
    "gxter = GreedyExecuter(ppline, brush_face, TOOL_DIM, Qcur, vel_lims=VEL_LIMS, acc_lims=ACC_LIMS)\n",
    "tplan.node_trial_max = NODE_TRIAL_MAX\n",
    "\n",
    "gxter.set_test_kwargs(multiprocess=PLANNING_MULTIPROC, N_agents=N_AGENTS,\n",
    "                      timeout=TIMEOUT_MOTION, timeout_loop=TIMEOUT_FULL, \n",
    "                      verbose=VERBOSE, max_solution_count=MAX_SOL_NUM)\n",
    "\n",
    "gxter.get_division_dict(table_surf, \"front\", \"X\", EE_HEIGHT, div_num=(4,4))\n",
    "gxter.init_base_divs(Qcur)\n",
    "snode_schedule_list_d, Qcur, covereds = gxter.greedy_execute(\n",
    "    Qcur, 1, mode_switcher, no_offset, cost_cut=BASE_COST_CUT)\n",
    "\n",
    "gxter.test_clear()\n",
    "gscene.clear_virtuals()"
   ]
  },
  {
   "cell_type": "code",
   "execution_count": null,
   "metadata": {},
   "outputs": [],
   "source": []
  },
  {
   "cell_type": "markdown",
   "metadata": {},
   "source": [
    "## 4. Sofa cleaning"
   ]
  },
  {
   "cell_type": "markdown",
   "metadata": {},
   "source": [
    "### 4.1 upside"
   ]
  },
  {
   "cell_type": "code",
   "execution_count": null,
   "metadata": {},
   "outputs": [],
   "source": [
    "EE_HEIGHT = round(sofa_surf.get_tf(HOME_DICT)[2,3] + sofa_surf.dims[2]/2, 5) \\\n",
    "                + T_brush_e[2, 3] - INDY_BASE_OFFSET[2]\n",
    "gtimer.reset(scale=1, timeunit='s', stack=True)\n",
    "gxter = GreedyExecuter(ppline, brush_face, TOOL_DIM, Qcur, vel_lims=VEL_LIMS, acc_lims=ACC_LIMS)\n",
    "tplan.node_trial_max = NODE_TRIAL_MAX\n",
    "\n",
    "gxter.set_test_kwargs(multiprocess=PLANNING_MULTIPROC, N_agents=N_AGENTS,\n",
    "                      timeout=TIMEOUT_MOTION, timeout_loop=TIMEOUT_FULL, \n",
    "                      verbose=VERBOSE, max_solution_count=MAX_SOL_NUM)\n",
    "\n",
    "gxter.get_division_dict(sofa_surf, \"front\", \"X\", EE_HEIGHT)\n",
    "gxter.init_base_divs(Qcur)\n",
    "# gxter.mark_tested(None, None, covereds_all, [])\n",
    "snode_schedule_list_d, Qcur, covereds = gxter.greedy_execute(\n",
    "    Qcur, 1, mode_switcher, no_offset, cost_cut=BASE_COST_CUT)\n",
    "\n",
    "gxter.test_clear()\n",
    "print(gtimer)\n",
    "gscene.clear_virtuals()"
   ]
  },
  {
   "cell_type": "code",
   "execution_count": null,
   "metadata": {
    "scrolled": true
   },
   "outputs": [],
   "source": [
    "EE_HEIGHT = round(sofa_back_surf.get_tf(HOME_DICT)[2,3] + sofa_back_surf.dims[2]/2, 5) \\\n",
    "                + T_brush_e[2, 3] - INDY_BASE_OFFSET[2]\n",
    "gtimer.reset(scale=1, timeunit='s', stack=True)\n",
    "gxter = GreedyExecuter(ppline, brush_face, TOOL_DIM, Qcur, vel_lims=VEL_LIMS, acc_lims=ACC_LIMS)\n",
    "tplan.node_trial_max = NODE_TRIAL_MAX\n",
    "\n",
    "gxter.set_test_kwargs(multiprocess=PLANNING_MULTIPROC, N_agents=N_AGENTS,\n",
    "                      timeout=TIMEOUT_MOTION, timeout_loop=TIMEOUT_FULL, \n",
    "                      verbose=VERBOSE, max_solution_count=MAX_SOL_NUM)\n",
    "\n",
    "gxter.get_division_dict(sofa_back_surf, \"front\", \"X\", EE_HEIGHT)\n",
    "gxter.init_base_divs(Qcur)\n",
    "# gxter.mark_tested(None, None, covereds_all, [])\n",
    "snode_schedule_list_d, Qcur, covereds = gxter.greedy_execute(\n",
    "    Qcur, 1, mode_switcher, no_offset, cost_cut=BASE_COST_CUT)\n",
    "\n",
    "gxter.test_clear()\n",
    "print(gtimer)\n",
    "gscene.clear_virtuals()"
   ]
  },
  {
   "cell_type": "code",
   "execution_count": null,
   "metadata": {
    "scrolled": true
   },
   "outputs": [],
   "source": [
    "EE_HEIGHT = round(sofa_right_surf.get_tf(HOME_DICT)[2,3] + sofa_right_surf.dims[2]/2, 5) \\\n",
    "                + T_brush_e[2, 3] - INDY_BASE_OFFSET[2]\n",
    "gtimer.reset(scale=1, timeunit='s', stack=True)\n",
    "gxter = GreedyExecuter(ppline, brush_face, TOOL_DIM, Qcur, vel_lims=VEL_LIMS, acc_lims=ACC_LIMS)\n",
    "tplan.node_trial_max = NODE_TRIAL_MAX\n",
    "\n",
    "gxter.set_test_kwargs(multiprocess=PLANNING_MULTIPROC, N_agents=N_AGENTS,\n",
    "                      timeout=TIMEOUT_MOTION, timeout_loop=TIMEOUT_FULL, \n",
    "                      verbose=VERBOSE, max_solution_count=MAX_SOL_NUM)\n",
    "\n",
    "gxter.get_division_dict(sofa_right_surf, \"front\", \"X\", EE_HEIGHT)\n",
    "gxter.init_base_divs(Qcur)\n",
    "# gxter.mark_tested(None, None, covereds_all, [])\n",
    "snode_schedule_list_d, Qcur, covereds = gxter.greedy_execute(\n",
    "    Qcur, 1, mode_switcher, no_offset, cost_cut=BASE_COST_CUT)\n",
    "\n",
    "gxter.test_clear()\n",
    "print(gtimer)\n",
    "gscene.clear_virtuals()"
   ]
  },
  {
   "cell_type": "code",
   "execution_count": null,
   "metadata": {
    "scrolled": true
   },
   "outputs": [],
   "source": [
    "EE_HEIGHT = round(sofa_left_surf.get_tf(HOME_DICT)[2,3] + sofa_left_surf.dims[2]/2, 5) \\\n",
    "                + T_brush_e[2, 3] - INDY_BASE_OFFSET[2]\n",
    "gtimer.reset(scale=1, timeunit='s', stack=True)\n",
    "gxter = GreedyExecuter(ppline, brush_face, TOOL_DIM, Qcur, vel_lims=VEL_LIMS, acc_lims=ACC_LIMS)\n",
    "tplan.node_trial_max = NODE_TRIAL_MAX\n",
    "\n",
    "gxter.set_test_kwargs(multiprocess=PLANNING_MULTIPROC, N_agents=N_AGENTS,\n",
    "                      timeout=TIMEOUT_MOTION, timeout_loop=TIMEOUT_FULL, \n",
    "                      verbose=VERBOSE, max_solution_count=MAX_SOL_NUM)\n",
    "\n",
    "gxter.get_division_dict(sofa_left_surf, \"front\", \"X\", EE_HEIGHT)\n",
    "gxter.init_base_divs(Qcur)\n",
    "# gxter.mark_tested(None, None, covereds_all, [])\n",
    "snode_schedule_list_d, Qcur, covereds = gxter.greedy_execute(\n",
    "    Qcur, 1, mode_switcher, no_offset, cost_cut=BASE_COST_CUT)\n",
    "\n",
    "gxter.test_clear()\n",
    "print(gtimer)\n",
    "gscene.clear_virtuals()"
   ]
  },
  {
   "cell_type": "code",
   "execution_count": null,
   "metadata": {},
   "outputs": [],
   "source": [
    "gtimer.reset(scale=1, timeunit='s', stack=True)\n",
    "gxter = GreedyExecuter(ppline, brush_face, TOOL_DIM, Qcur, vel_lims=VEL_LIMS, acc_lims=ACC_LIMS)\n",
    "tplan.node_trial_max = NODE_TRIAL_MAX\n",
    "\n",
    "gxter.set_test_kwargs(multiprocess=PLANNING_MULTIPROC, N_agents=N_AGENTS,\n",
    "                      timeout=TIMEOUT_MOTION, timeout_loop=TIMEOUT_FULL, \n",
    "                      verbose=VERBOSE, max_solution_count=MAX_SOL_NUM)\n",
    "\n",
    "gxter.get_division_dict(sofa_back_front, \"down\", \"Z\", None)\n",
    "gxter.init_base_divs(Qcur)\n",
    "# gxter.mark_tested(None, None, covereds_all, [])\n",
    "snode_schedule_list_d, Qcur, covereds = gxter.greedy_execute(\n",
    "    Qcur, -1, mode_switcher, no_offset, cost_cut=BASE_COST_CUT)\n",
    "\n",
    "gxter.test_clear()\n",
    "print(gtimer)\n",
    "gscene.clear_virtuals()"
   ]
  },
  {
   "cell_type": "code",
   "execution_count": null,
   "metadata": {},
   "outputs": [],
   "source": [
    "gtimer.reset(scale=1, timeunit='s', stack=True)\n",
    "gxter = GreedyExecuter(ppline, brush_face, TOOL_DIM, Qcur, vel_lims=VEL_LIMS, acc_lims=ACC_LIMS)\n",
    "tplan.node_trial_max = NODE_TRIAL_MAX\n",
    "\n",
    "gxter.set_test_kwargs(multiprocess=PLANNING_MULTIPROC, N_agents=N_AGENTS,\n",
    "                      timeout=TIMEOUT_MOTION, timeout_loop=TIMEOUT_FULL, \n",
    "                      verbose=VERBOSE, max_solution_count=MAX_SOL_NUM)\n",
    "\n",
    "gxter.get_division_dict(sofa_right_front, \"down\", \"Z\", None)\n",
    "gxter.init_base_divs(Qcur)\n",
    "# gxter.mark_tested(None, None, covereds_all, [])\n",
    "snode_schedule_list_d, Qcur, covereds = gxter.greedy_execute(\n",
    "    Qcur, -1, mode_switcher, no_offset, cost_cut=BASE_COST_CUT)\n",
    "\n",
    "gxter.test_clear()\n",
    "print(gtimer)\n",
    "gscene.clear_virtuals()"
   ]
  },
  {
   "cell_type": "code",
   "execution_count": null,
   "metadata": {},
   "outputs": [],
   "source": [
    "gtimer.reset(scale=1, timeunit='s', stack=True)\n",
    "gxter = GreedyExecuter(ppline, brush_face, TOOL_DIM, Qcur, vel_lims=VEL_LIMS, acc_lims=ACC_LIMS)\n",
    "tplan.node_trial_max = NODE_TRIAL_MAX\n",
    "\n",
    "gxter.set_test_kwargs(multiprocess=PLANNING_MULTIPROC, N_agents=N_AGENTS,\n",
    "                      timeout=TIMEOUT_MOTION, timeout_loop=TIMEOUT_FULL, \n",
    "                      verbose=VERBOSE, max_solution_count=MAX_SOL_NUM)\n",
    "\n",
    "gxter.get_division_dict(sofa_front, \"down\", \"Z\", None)\n",
    "gxter.init_base_divs(Qcur)\n",
    "# gxter.mark_tested(None, None, covereds_all, [])\n",
    "snode_schedule_list_d, Qcur, covereds = gxter.greedy_execute(\n",
    "    Qcur, -1, mode_switcher, no_offset, cost_cut=BASE_COST_CUT)\n",
    "\n",
    "gxter.test_clear()\n",
    "print(gtimer)\n",
    "gscene.clear_virtuals()"
   ]
  },
  {
   "cell_type": "code",
   "execution_count": null,
   "metadata": {
    "scrolled": true
   },
   "outputs": [],
   "source": [
    "gtimer.reset(scale=1, timeunit='s', stack=True)\n",
    "gxter = GreedyExecuter(ppline, brush_face, TOOL_DIM, Qcur, vel_lims=VEL_LIMS, acc_lims=ACC_LIMS)\n",
    "tplan.node_trial_max = NODE_TRIAL_MAX\n",
    "\n",
    "gxter.set_test_kwargs(multiprocess=PLANNING_MULTIPROC, N_agents=N_AGENTS,\n",
    "                      timeout=TIMEOUT_MOTION, timeout_loop=TIMEOUT_FULL, \n",
    "                      verbose=VERBOSE, max_solution_count=MAX_SOL_NUM)\n",
    "\n",
    "gxter.get_division_dict(sofa_left_front, \"down\", \"Z\", None)\n",
    "gxter.init_base_divs(Qcur)\n",
    "# gxter.mark_tested(None, None, covereds_all, [])\n",
    "snode_schedule_list_d, Qcur, covereds = gxter.greedy_execute(\n",
    "    Qcur, -1, mode_switcher, no_offset, cost_cut=BASE_COST_CUT)\n",
    "\n",
    "gxter.test_clear()\n",
    "print(gtimer)\n",
    "gscene.clear_virtuals()"
   ]
  },
  {
   "cell_type": "code",
   "execution_count": null,
   "metadata": {},
   "outputs": [],
   "source": []
  },
  {
   "cell_type": "markdown",
   "metadata": {},
   "source": [
    "### Finish"
   ]
  },
  {
   "cell_type": "code",
   "execution_count": null,
   "metadata": {},
   "outputs": [],
   "source": [
    "if CONNECT_TASK_PLANNER:\n",
    "    servicer.mark_task_finished()"
   ]
  },
  {
   "cell_type": "code",
   "execution_count": null,
   "metadata": {},
   "outputs": [],
   "source": []
  },
  {
   "cell_type": "code",
   "execution_count": null,
   "metadata": {},
   "outputs": [],
   "source": []
  },
  {
   "cell_type": "code",
   "execution_count": null,
   "metadata": {},
   "outputs": [],
   "source": []
  }
 ],
 "metadata": {
  "kernelspec": {
   "display_name": "Python 2",
   "language": "python",
   "name": "python2"
  },
  "language_info": {
   "codemirror_mode": {
    "name": "ipython",
    "version": 2
   },
   "file_extension": ".py",
   "mimetype": "text/x-python",
   "name": "python",
   "nbconvert_exporter": "python",
   "pygments_lexer": "ipython2",
   "version": "2.7.17"
  }
 },
 "nbformat": 4,
 "nbformat_minor": 2
}
