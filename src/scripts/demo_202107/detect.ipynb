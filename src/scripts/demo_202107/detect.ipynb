{
 "cells": [
  {
   "cell_type": "code",
   "execution_count": 1,
   "metadata": {},
   "outputs": [
    {
     "name": "stdout",
     "output_type": "stream",
     "text": [
      "apex is not installed\n",
      "apex is not installed\n",
      "apex is not installed\n",
      "apex is not installed\n"
     ]
    }
   ],
   "source": [
    "import SharedArray as sa\n",
    "import numpy as np\n",
    "import cv2\n",
    "import time\n",
    "from mmdet.apis import init_detector, inference_detector\n",
    "import os\n",
    "os.chdir(os.path.join(os.environ[\"RNB_PLANNING_DIR\"], 'src'))\n",
    "RNB_PLANNING_DIR = os.environ[\"RNB_PLANNING_DIR\"]\n"
   ]
  },
  {
   "cell_type": "code",
   "execution_count": 2,
   "metadata": {},
   "outputs": [],
   "source": [
    "IMG_URI = \"shm://color_img\"\n",
    "MASK_URI = \"shm://mask_img\"\n",
    "REQ_URI = \"shm://request\"\n",
    "RESP_URI = \"shm://response\"\n",
    "\n",
    "\n",
    "\n",
    "IMG_DIM = (720,1280,3)\n",
    "\n",
    "\n",
    "class SharedDetector:\n",
    "    def __init__(self):\n",
    "        # Load config, checkpoint file of cascade mask rcnn swin based\n",
    "        config_file = os.path.join(RNB_PLANNING_DIR, 'src/scripts/demo_202107/configs/swin/cascade_mask_rcnn_swin_base_patch4_window7_mstrain_480-800_giou_4conv1f_adamw_3x_coco.py')\n",
    "        checkpoint_file = os.path.join(RNB_PLANNING_DIR,'src/scripts/demo_202107/cascade_mask_rcnn_swin_base_patch4_window7.pth')\n",
    "        \n",
    "        #config_file = '/home/jhkim/Swin-Transformer-Object-Detection/configs/swin/cascade_mask_rcnn_swin_base_patch4_window7_mstrain_480-800_giou_4conv1f_adamw_3x_coco.py'\n",
    "        #checkpoint_file = '/home/jhkim/Swin-Transformer-Object-Detection/cascade_mask_rcnn_swin_base_patch4_window7.pth'\n",
    "        device = 'cuda:0'\n",
    "\n",
    "        # Initiate model(object detector)\n",
    "        self.model = init_detector(config_file, checkpoint_file, device=device)\n",
    "        \n",
    "    def serve_forever(self):\n",
    "        self.request[:] = 0\n",
    "        self.resp[:] = 0\n",
    "        print(\"===== Ready Inference Server =====\")\n",
    "        while True:\n",
    "            while not self.request[:]:\n",
    "                time.sleep(0.01)\n",
    "            self.request[:] = 0\n",
    "            self.resp[:] = 0\n",
    "            # Inference object detection & segmentation\n",
    "            result = inference_detector(self.model, self.color_img)\n",
    "            boxes, masks = result[0], result[1]\n",
    "            # Index 60 means dining table\n",
    "            mask_res = masks[60][0]\n",
    "            self.return_img[:] = mask_res\n",
    "            self.resp[:] = 1\n",
    "        \n",
    "    def __enter__(self):\n",
    "        self.color_img = sa.create(IMG_URI, IMG_DIM, dtype=np.uint8)\n",
    "        self.return_img = sa.create(MASK_URI, IMG_DIM[:2], dtype=np.uint8)\n",
    "        self.request = sa.create(REQ_URI, (1,), dtype=np.uint8)\n",
    "        self.resp = sa.create(RESP_URI, (1,), dtype=np.uint8)\n",
    "        self.request[:] = 0\n",
    "        self.resp[:] = 0\n",
    "        \n",
    "    def __exit__(self, type, value, traceback):        \n",
    "        sa.delete(IMG_URI)\n",
    "        sa.delete(MASK_URI)\n",
    "        sa.delete(REQ_URI)\n",
    "        sa.delete(RESP_URI)"
   ]
  },
  {
   "cell_type": "code",
   "execution_count": null,
   "metadata": {},
   "outputs": [
    {
     "name": "stdout",
     "output_type": "stream",
     "text": [
      "Use load_from_local loader\n",
      "===== Ready Inference Server =====\n"
     ]
    },
    {
     "name": "stderr",
     "output_type": "stream",
     "text": [
      "/home/jhkim/Projects/rnb-planning/src/scripts/demo_202107/mmdet/datasets/utils.py:68: UserWarning: \"ImageToTensor\" pipeline is replaced by \"DefaultFormatBundle\" for batch inference. It is recommended to manually replace it in the test data pipeline in your config file.\n",
      "  'data pipeline in your config file.', UserWarning)\n"
     ]
    }
   ],
   "source": [
    "sdet = SharedDetector()\n",
    "with sdet:\n",
    "    sdet.serve_forever()"
   ]
  },
  {
   "cell_type": "code",
   "execution_count": null,
   "metadata": {},
   "outputs": [],
   "source": [
    "#sa.delete(IMG_URI)\n",
    "#sa.delete(MASK_URI)\n",
    "#sa.delete(REQ_URI)\n",
    "#sa.delete(RESP_URI)"
   ]
  },
  {
   "cell_type": "code",
   "execution_count": null,
   "metadata": {},
   "outputs": [],
   "source": []
  }
 ],
 "metadata": {
  "kernelspec": {
   "display_name": "Python 3",
   "language": "python",
   "name": "python3"
  },
  "language_info": {
   "codemirror_mode": {
    "name": "ipython",
    "version": 3
   },
   "file_extension": ".py",
   "mimetype": "text/x-python",
   "name": "python",
   "nbconvert_exporter": "python",
   "pygments_lexer": "ipython3",
   "version": "3.6.9"
  }
 },
 "nbformat": 4,
 "nbformat_minor": 2
}
