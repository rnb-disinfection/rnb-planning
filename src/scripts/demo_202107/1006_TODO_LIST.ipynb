{
 "cells": [
  {
   "cell_type": "markdown",
   "metadata": {},
   "source": [
    "# TODO LIST\n",
    "====================="
   ]
  },
  {
   "cell_type": "markdown",
   "metadata": {},
   "source": [
    "#### 중요 사항\n",
    "* 돌면서 침대 찾기\n",
    "* 글로벌 좌표계 이용, 동작하기 / 재인식: 같은 선이 여유있기도 하고 충돌하기도 함, 모바일 에러 확실\n",
    "  - 가까이서 찍은 데이터 (침대) 필요\n",
    "* 베개 처리: 침대 위 포인트들에 상자 피팅 -> 별도 스윕 정의\n",
    "  - 위에 베개 포함\n",
    "* 상두대 닦기 동작 구현\n",
    "* 상두대 스캔 안하고 정면샷 + 바닥 피팅\n",
    "  - 스캔 위치 정면샷\n",
    "* 상두대 근접 상황 피팅 (진짜 근접)\n",
    "  - 근접샷\n",
    "* 이미지를 서버에서 스트림 저장하고 한번에 받기\n",
    "* brush 구조 개선 / 신규 툴 메쉬 적용\n",
    "\n",
    "#### 추가 사항\n",
    "  * Open3D 오프셋 고려한 initial_offset 자동 계산\n",
    "  * plane fitting으로 천장 있을 경우 판단해 제거"
   ]
  },
  {
   "cell_type": "code",
   "execution_count": null,
   "metadata": {},
   "outputs": [],
   "source": []
  }
 ],
 "metadata": {
  "kernelspec": {
   "display_name": "Python 2",
   "language": "python",
   "name": "python2"
  },
  "language_info": {
   "codemirror_mode": {
    "name": "ipython",
    "version": 2
   },
   "file_extension": ".py",
   "mimetype": "text/x-python",
   "name": "python",
   "nbconvert_exporter": "python",
   "pygments_lexer": "ipython2",
   "version": "2.7.17"
  }
 },
 "nbformat": 4,
 "nbformat_minor": 2
}
