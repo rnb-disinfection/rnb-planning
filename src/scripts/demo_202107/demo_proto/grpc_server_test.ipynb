{
 "cells": [
  {
   "cell_type": "code",
   "execution_count": null,
   "metadata": {},
   "outputs": [],
   "source": [
    "from concurrent import futures\n",
    "import logging\n",
    "import math\n",
    "import time\n",
    "import grpc\n",
    "import DisinfectionOperation_pb2\n",
    "import DisinfectionOperation_pb2_grpc\n",
    "from threading import Thread\n",
    "\n",
    "COMMUNICATION_TEST = True\n",
    "\n",
    "class DisinfectionOperationServicer(DisinfectionOperation_pb2_grpc.DisinfectionOperationServicer):\n",
    "    def __init__(self):\n",
    "        self.object_info_running = self.get_null_object()\n",
    "        self.task_finish_flag = False\n",
    "        \n",
    "    def mark_task_finished(self, flag=True):\n",
    "        self.task_finish_flag = flag\n",
    "        \n",
    "    def get_null_object(self):\n",
    "        return DisinfectionOperation_pb2.DoDisinfectionRequest(object_id=-1,object_name=\"\",center_x=0,center_y=0)\n",
    "\n",
    "    def DoDisinfection(self, request, context):\n",
    "        self.mark_task_finished(False)\n",
    "        object_info = request\n",
    "        self.object_info_running.CopyFrom(request)\n",
    "        print(\"running - {} ({}) at ({:.2}, {:.2})\".format(\n",
    "            request.object_name, request.object_id, request.center_x, request.center_y))\n",
    "        while not self.task_finish_flag:\n",
    "            time.sleep(0.5)\n",
    "            if COMMUNICATION_TEST:\n",
    "                self.task_finish_flag = True\n",
    "        self.object_info_running = self.get_null_object()\n",
    "        return DisinfectionOperation_pb2.DoDisinfectionResponse(response_flag=1)\n",
    "\n",
    "    def DoDisinfectionComplete(self, request, context):\n",
    "        assert request.request_flag == 1, \\\n",
    "            \"Unexpected DoDisinfectionComplete request flag: {}\".format(request.request_flag)\n",
    "        if self.object_info_running is None:\n",
    "            return DisinfectionOperation_pb2.DoDisinfectionCompleteResponse(response_flag=0)\n",
    "        else:\n",
    "            return DisinfectionOperation_pb2.DoDisinfectionCompleteResponse(response_flag=1)"
   ]
  },
  {
   "cell_type": "code",
   "execution_count": null,
   "metadata": {},
   "outputs": [],
   "source": [
    "def serve(servicer):\n",
    "    server = grpc.server(futures.ThreadPoolExecutor(max_workers=10))\n",
    "    DisinfectionOperation_pb2_grpc.add_DisinfectionOperationServicer_to_server(\n",
    "        servicer, server)\n",
    "    server.add_insecure_port('[::]:50307')\n",
    "    server.start()\n",
    "    server.wait_for_termination()\n",
    "\n",
    "\n",
    "if __name__ == '__main__':\n",
    "    logging.basicConfig()\n",
    "    servicer = DisinfectionOperationServicer()\n",
    "    serve(servicer)"
   ]
  },
  {
   "cell_type": "code",
   "execution_count": null,
   "metadata": {},
   "outputs": [],
   "source": []
  }
 ],
 "metadata": {
  "kernelspec": {
   "display_name": "Python 2",
   "language": "python",
   "name": "python2"
  },
  "language_info": {
   "codemirror_mode": {
    "name": "ipython",
    "version": 2
   },
   "file_extension": ".py",
   "mimetype": "text/x-python",
   "name": "python",
   "nbconvert_exporter": "python",
   "pygments_lexer": "ipython2",
   "version": "2.7.17"
  }
 },
 "nbformat": 4,
 "nbformat_minor": 2
}
