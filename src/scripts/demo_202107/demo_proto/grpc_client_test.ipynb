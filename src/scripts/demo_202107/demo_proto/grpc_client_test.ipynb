{
 "cells": [
  {
   "cell_type": "code",
   "execution_count": 1,
   "metadata": {},
   "outputs": [],
   "source": [
    "from concurrent import futures\n",
    "import logging\n",
    "import math\n",
    "import time\n",
    "\n",
    "import grpc\n",
    "import DisinfectionOperation_pb2\n",
    "import DisinfectionOperation_pb2_grpc"
   ]
  },
  {
   "cell_type": "code",
   "execution_count": 2,
   "metadata": {},
   "outputs": [],
   "source": [
    "# with grpc.insecure_channel('192.168.21.3:50307') as channel:\n",
    "#     stub = DisinfectionOperation_pb2_grpc.DisinfectionOperationStub(channel)    \n",
    "#     for i_obj in range(2):\n",
    "#         print(\"request: {}\".format(i_obj))\n",
    "#         disinfection_resp = stub.DoDisinfection(\n",
    "#             DisinfectionOperation_pb2.DoDisinfectionRequest(\n",
    "#                 object_id=i_obj,object_name=\"obj{}\".format(i_obj),center_x=0,center_y=0))\n",
    "#         print(\"request resp: {}\".format(disinfection_resp.response_flag))\n",
    "#         while True:\n",
    "#             disinfection_state = stub.DoDisinfectionComplete(\n",
    "#                 DisinfectionOperation_pb2.DoDisinfectionCompleteRequest(\n",
    "#                     request_flag=1))\n",
    "#             print(\"disinfection_res: \" + str(disinfection_state.response_flag))\n",
    "#             if disinfection_state.response_flag == 1:\n",
    "#                 break\n",
    "#             time.sleep(0.5)"
   ]
  },
  {
   "cell_type": "code",
   "execution_count": 3,
   "metadata": {},
   "outputs": [
    {
     "name": "stdout",
     "output_type": "stream",
     "text": [
      "request: table\n"
     ]
    },
    {
     "ename": "_InactiveRpcError",
     "evalue": "<_InactiveRpcError of RPC that terminated with:\n\tstatus = StatusCode.UNAVAILABLE\n\tdetails = \"Socket closed\"\n\tdebug_error_string = \"{\"created\":\"@1639643144.585053486\",\"description\":\"Error received from peer ipv4:192.168.0.10:50307\",\"file\":\"src/core/lib/surface/call.cc\",\"file_line\":1070,\"grpc_message\":\"Socket closed\",\"grpc_status\":14}\"\n>",
     "output_type": "error",
     "traceback": [
      "\u001b[0;31m---------------------------------------------------------------------------\u001b[0m",
      "\u001b[0;31m_InactiveRpcError\u001b[0m                         Traceback (most recent call last)",
      "\u001b[0;32m<ipython-input-3-3e8ba79fa611>\u001b[0m in \u001b[0;36m<module>\u001b[0;34m()\u001b[0m\n\u001b[1;32m      5\u001b[0m     disinfection_resp = stub.DoDisinfection(\n\u001b[1;32m      6\u001b[0m         DisinfectionOperation_pb2.DoDisinfectionRequest(\n\u001b[0;32m----> 7\u001b[0;31m             object_id=0,object_name=object_name,center_x=0,center_y=0))\n\u001b[0m\u001b[1;32m      8\u001b[0m     \u001b[0;32mprint\u001b[0m\u001b[0;34m(\u001b[0m\u001b[0;34m\"request resp: {}\"\u001b[0m\u001b[0;34m.\u001b[0m\u001b[0mformat\u001b[0m\u001b[0;34m(\u001b[0m\u001b[0mdisinfection_resp\u001b[0m\u001b[0;34m.\u001b[0m\u001b[0mresponse_flag\u001b[0m\u001b[0;34m)\u001b[0m\u001b[0;34m)\u001b[0m\u001b[0;34m\u001b[0m\u001b[0m\n\u001b[1;32m      9\u001b[0m     \u001b[0;32mwhile\u001b[0m \u001b[0mTrue\u001b[0m\u001b[0;34m:\u001b[0m\u001b[0;34m\u001b[0m\u001b[0m\n",
      "\u001b[0;32m/home/kiro-ros/.local/lib/python2.7/site-packages/grpc/_channel.pyc\u001b[0m in \u001b[0;36m__call__\u001b[0;34m(self, request, timeout, metadata, credentials, wait_for_ready, compression)\u001b[0m\n\u001b[1;32m    944\u001b[0m         state, call, = self._blocking(request, timeout, metadata, credentials,\n\u001b[1;32m    945\u001b[0m                                       wait_for_ready, compression)\n\u001b[0;32m--> 946\u001b[0;31m         \u001b[0;32mreturn\u001b[0m \u001b[0m_end_unary_response_blocking\u001b[0m\u001b[0;34m(\u001b[0m\u001b[0mstate\u001b[0m\u001b[0;34m,\u001b[0m \u001b[0mcall\u001b[0m\u001b[0;34m,\u001b[0m \u001b[0mFalse\u001b[0m\u001b[0;34m,\u001b[0m \u001b[0mNone\u001b[0m\u001b[0;34m)\u001b[0m\u001b[0;34m\u001b[0m\u001b[0m\n\u001b[0m\u001b[1;32m    947\u001b[0m \u001b[0;34m\u001b[0m\u001b[0m\n\u001b[1;32m    948\u001b[0m     def with_call(self,\n",
      "\u001b[0;32m/home/kiro-ros/.local/lib/python2.7/site-packages/grpc/_channel.pyc\u001b[0m in \u001b[0;36m_end_unary_response_blocking\u001b[0;34m(state, call, with_call, deadline)\u001b[0m\n\u001b[1;32m    847\u001b[0m             \u001b[0;32mreturn\u001b[0m \u001b[0mstate\u001b[0m\u001b[0;34m.\u001b[0m\u001b[0mresponse\u001b[0m\u001b[0;34m\u001b[0m\u001b[0m\n\u001b[1;32m    848\u001b[0m     \u001b[0;32melse\u001b[0m\u001b[0;34m:\u001b[0m\u001b[0;34m\u001b[0m\u001b[0m\n\u001b[0;32m--> 849\u001b[0;31m         \u001b[0;32mraise\u001b[0m \u001b[0m_InactiveRpcError\u001b[0m\u001b[0;34m(\u001b[0m\u001b[0mstate\u001b[0m\u001b[0;34m)\u001b[0m\u001b[0;34m\u001b[0m\u001b[0m\n\u001b[0m\u001b[1;32m    850\u001b[0m \u001b[0;34m\u001b[0m\u001b[0m\n\u001b[1;32m    851\u001b[0m \u001b[0;34m\u001b[0m\u001b[0m\n",
      "\u001b[0;31m_InactiveRpcError\u001b[0m: <_InactiveRpcError of RPC that terminated with:\n\tstatus = StatusCode.UNAVAILABLE\n\tdetails = \"Socket closed\"\n\tdebug_error_string = \"{\"created\":\"@1639643144.585053486\",\"description\":\"Error received from peer ipv4:192.168.0.10:50307\",\"file\":\"src/core/lib/surface/call.cc\",\"file_line\":1070,\"grpc_message\":\"Socket closed\",\"grpc_status\":14}\"\n>"
     ]
    }
   ],
   "source": [
    "with grpc.insecure_channel('192.168.0.10:50307') as channel:\n",
    "    stub = DisinfectionOperation_pb2_grpc.DisinfectionOperationStub(channel) \n",
    "    object_name = \"table\"\n",
    "    print(\"request: {}\".format(object_name))\n",
    "    disinfection_resp = stub.DoDisinfection(\n",
    "        DisinfectionOperation_pb2.DoDisinfectionRequest(\n",
    "            object_id=0,object_name=object_name,center_x=0,center_y=0))\n",
    "    print(\"request resp: {}\".format(disinfection_resp.response_flag))\n",
    "    while True:\n",
    "        disinfection_state = stub.DoDisinfectionComplete(\n",
    "            DisinfectionOperation_pb2.DoDisinfectionCompleteRequest(\n",
    "                request_flag=1))\n",
    "        print(\"disinfection_res: \" + str(disinfection_state.response_flag))\n",
    "        if disinfection_state.response_flag == 1:\n",
    "            break\n",
    "        time.sleep(0.5)"
   ]
  },
  {
   "cell_type": "code",
   "execution_count": null,
   "metadata": {},
   "outputs": [],
   "source": []
  }
 ],
 "metadata": {
  "kernelspec": {
   "display_name": "Python 2",
   "language": "python",
   "name": "python2"
  },
  "language_info": {
   "codemirror_mode": {
    "name": "ipython",
    "version": 2
   },
   "file_extension": ".py",
   "mimetype": "text/x-python",
   "name": "python",
   "nbconvert_exporter": "python",
   "pygments_lexer": "ipython2",
   "version": "2.7.17"
  }
 },
 "nbformat": 4,
 "nbformat_minor": 2
}
