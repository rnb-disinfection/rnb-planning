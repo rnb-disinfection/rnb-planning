{
 "cells": [
  {
   "cell_type": "code",
   "execution_count": 3,
   "metadata": {},
   "outputs": [],
   "source": [
    "from concurrent import futures\n",
    "import logging\n",
    "import math\n",
    "import time\n",
    "\n",
    "import grpc\n",
    "import TaskPlanner_pb2\n",
    "import TaskPlanner_pb2_grpc"
   ]
  },
  {
   "cell_type": "code",
   "execution_count": 4,
   "metadata": {},
   "outputs": [
    {
     "name": "stdout",
     "output_type": "stream",
     "text": [
      "robot_info: (1.0, 1.0, 1.0, 0.0, 0.0)\n",
      "disinfection_res: 1\n",
      "disinfection_res: -1\n"
     ]
    }
   ],
   "source": [
    "with grpc.insecure_channel('localhost:50307') as channel:\n",
    "    stub = TaskPlanner_pb2_grpc.TaskExecutorStub(channel)\n",
    "    robot_info = stub.GetRobotInfo(TaskPlanner_pb2.GetRobotInfoRequest(request_flag=1))\n",
    "    print(\"robot_info: \"+str((robot_info.width, robot_info.height, robot_info.depth, robot_info.x, robot_info.y)))\n",
    "    \n",
    "    object_list = [TaskPlanner_pb2.object_info(object_id=0,object_name=\"obj0\",center_x=0,center_y=0),\n",
    "                   TaskPlanner_pb2.object_info(object_id=1,object_name=\"obj1\",center_x=0,center_y=0)]\n",
    "    disinfection_res = stub.DoDisinfection(TaskPlanner_pb2.DoDisinfectionRequest(object_list=object_list))\n",
    "    print(\"disinfection_res: \" + str(disinfection_res.response_flag))\n",
    "    running_res = stub.GetRunningStatus(TaskPlanner_pb2.GetRobotInfoRequest(request_flag=1))\n",
    "    print(\"running_res: \" + str(disinfection_res.object_id))"
   ]
  },
  {
   "cell_type": "code",
   "execution_count": null,
   "metadata": {},
   "outputs": [],
   "source": []
  }
 ],
 "metadata": {
  "kernelspec": {
   "display_name": "Python 2",
   "language": "python",
   "name": "python2"
  },
  "language_info": {
   "codemirror_mode": {
    "name": "ipython",
    "version": 2
   },
   "file_extension": ".py",
   "mimetype": "text/x-python",
   "name": "python",
   "nbconvert_exporter": "python",
   "pygments_lexer": "ipython2",
   "version": "2.7.17"
  }
 },
 "nbformat": 4,
 "nbformat_minor": 2
}
