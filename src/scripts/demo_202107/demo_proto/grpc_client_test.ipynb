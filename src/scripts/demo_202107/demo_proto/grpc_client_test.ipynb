{
 "cells": [
  {
   "cell_type": "code",
   "execution_count": null,
   "metadata": {},
   "outputs": [],
   "source": [
    "from concurrent import futures\n",
    "import logging\n",
    "import math\n",
    "import time\n",
    "\n",
    "import grpc\n",
    "import DisinfectionOperation_pb2\n",
    "import DisinfectionOperation_pb2_grpc"
   ]
  },
  {
   "cell_type": "code",
   "execution_count": null,
   "metadata": {},
   "outputs": [],
   "source": [
    "with grpc.insecure_channel('192.168.21.3:50307') as channel:\n",
    "    stub = DisinfectionOperation_pb2_grpc.DisinfectionOperationStub(channel)    \n",
    "    for i_obj in range(2):\n",
    "        print(\"request: {}\".format(i_obj))\n",
    "        disinfection_resp = stub.DoDisinfection(\n",
    "            DisinfectionOperation_pb2.DoDisinfectionRequest(\n",
    "                object_id=i_obj,object_name=\"obj{}\".format(i_obj),center_x=0,center_y=0))\n",
    "        print(\"request resp: {}\".format(disinfection_resp.response_flag))\n",
    "        while True:\n",
    "            disinfection_state = stub.DoDisinfectionComplete(\n",
    "                DisinfectionOperation_pb2.DoDisinfectionCompleteRequest(\n",
    "                    request_flag=1))\n",
    "            print(\"disinfection_res: \" + str(disinfection_state.response_flag))\n",
    "            if disinfection_state.response_flag == 1:\n",
    "                break\n",
    "            time.sleep(0.5)"
   ]
  },
  {
   "cell_type": "code",
   "execution_count": null,
   "metadata": {},
   "outputs": [],
   "source": []
  }
 ],
 "metadata": {
  "kernelspec": {
   "display_name": "Python 2",
   "language": "python",
   "name": "python2"
  },
  "language_info": {
   "codemirror_mode": {
    "name": "ipython",
    "version": 2
   },
   "file_extension": ".py",
   "mimetype": "text/x-python",
   "name": "python",
   "nbconvert_exporter": "python",
   "pygments_lexer": "ipython2",
   "version": "2.7.17"
  }
 },
 "nbformat": 4,
 "nbformat_minor": 2
}
