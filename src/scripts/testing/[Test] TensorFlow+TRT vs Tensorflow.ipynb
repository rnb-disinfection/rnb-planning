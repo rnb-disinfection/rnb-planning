{
 "cells": [
  {
   "cell_type": "code",
   "execution_count": 1,
   "metadata": {
    "scrolled": true
   },
   "outputs": [],
   "source": [
    "import os\n",
    "import sys\n",
    "import shutil\n",
    "import random\n",
    "import time\n",
    "PROJ_DIR = os.environ[\"RNB_PLANNING_DIR\"]\n",
    "sys.path.append(os.path.join(PROJ_DIR, \"src\"))\n",
    "\n",
    "import SharedArray as sa\n",
    "import numpy as np\n",
    "import time\n",
    "\n",
    "from pkg.utils.utils import *\n",
    "\n",
    "args = DummyObject()\n",
    "args.model_path = \"None\"\n",
    "args.rtype=\"panda\"\n",
    "args.precision=\"FP32\"\n",
    "\n",
    "if args.model_path == \"None\":\n",
    "    args.model_path = None\n",
    "PRECISION = args.precision\n",
    "\n",
    "import tensorflow as tf\n",
    "from tensorflow.compat.v1 import ConfigProto\n",
    "from tensorflow.compat.v1 import InteractiveSession\n",
    "config = ConfigProto()\n",
    "config.gpu_options.allow_growth = True\n",
    "session = InteractiveSession(config=config)\n",
    "tf.compat.v1.logging.set_verbosity(tf.compat.v1.logging.ERROR)\n",
    "\n",
    "from tensorflow.python.saved_model import tag_constants, signature_constants\n",
    "from tensorflow.python.framework.convert_to_constants import convert_variables_to_constants_v2\n",
    "\n",
    "\n",
    "from pkg.utils.utils_python3 import *\n",
    "from pkg.controller.robot_config import RobotType\n",
    "from pkg.planning.filtering.lattice_model.data_utils import *\n",
    "import numpy as np\n",
    "int2rtypename = {v.value:v.name for v in RobotType}\n",
    "DATA_PATH = os.path.join(PROJ_DIR, \"data\")\n",
    "MODEL_PATH = os.path.join(PROJ_DIR, \"model\")\n",
    "LAT_MODEL_PATH = os.path.join(MODEL_PATH,\"latticized\")\n",
    "try_mkdir(MODEL_PATH)\n",
    "try_mkdir(LAT_MODEL_PATH)\n",
    "GRASP_FOLDER = \"grasp\"\n",
    "ARM10_FOLDER = \"arm_10\"\n",
    "ARM05_FOLDER = \"arm_05\"\n",
    "FULLS_FOLDER = \"full_scene\"\n",
    "\n",
    "ARM_FOLDER = ARM10_FOLDER\n",
    "GRASP_SHAPE = (20,20,20)\n",
    "ARM_SHAPE = (20,20,20)\n",
    "RH_MASK_SIZE = 512\n",
    "RH_MASK_STEP = 64\n",
    "\n",
    "BATCH_SIZE = 1\n",
    "SERVER_PERIOD = 1e-3\n",
    "\n",
    "##\n",
    "# @class SharedLatticePredictor\n",
    "class SharedLatticePredictor:\n",
    "    ##\n",
    "    # @param ROBOT_TYPE_NAME robot type name\n",
    "    # @param model_path_rel relative model path from model/latticized/\n",
    "    def __init__(self, ROBOT_TYPE_NAME=\"indy7\", model_path_rel=None):\n",
    "        self.ROBOT_TYPE_NAME = ROBOT_TYPE_NAME\n",
    "        self.ROBOT_MODEL_ROOT = os.path.join(LAT_MODEL_PATH, self.ROBOT_TYPE_NAME)\n",
    "        if model_path_rel is None:\n",
    "            last_model = sorted(os.listdir(self.ROBOT_MODEL_ROOT))[-1]\n",
    "            last_save = sorted([item for item in os.listdir(os.path.join(self.ROBOT_MODEL_ROOT, last_model)) if item.startswith(\"model\")])[-1]\n",
    "            model_path_rel = os.path.join(last_model, last_save)\n",
    "        model_log_dir = os.path.join(self.ROBOT_MODEL_ROOT, model_path_rel)\n",
    "        model_log_dir_trt = os.path.join(self.ROBOT_MODEL_ROOT, model_path_rel.replace(\"model\", \"trt\")+\"-\"+PRECISION)\n",
    "        if not os.path.isdir(model_log_dir_trt):\n",
    "            print(\"==== Start converting ====\")\n",
    "            from tensorflow.python.compiler.tensorrt import trt_convert as trt\n",
    "\n",
    "            conversion_params = trt.DEFAULT_TRT_CONVERSION_PARAMS\n",
    "            conversion_params = conversion_params._replace(precision_mode=PRECISION) # Set GPU temporary memory 4GB\n",
    "                \n",
    "            converter = trt.TrtGraphConverterV2(input_saved_model_dir=model_log_dir, conversion_params=conversion_params)\n",
    "            converter.convert()\n",
    "                \n",
    "            def my_input_fn():\n",
    "                grasp_img_t = tf.zeros((BATCH_SIZE,) + GRASP_SHAPE + (3,), dtype=tf.float32)\n",
    "                arm_img_t = tf.zeros((BATCH_SIZE,) + ARM_SHAPE + (1,), dtype=tf.float32)\n",
    "                rh_mask_t = tf.zeros((BATCH_SIZE, 54), dtype=tf.float32)\n",
    "                yield (grasp_img_t, arm_img_t, rh_mask_t)\n",
    "                \n",
    "            converter.build(input_fn=my_input_fn)\n",
    "            print(\"==== Conversion Done ====\")\n",
    "            converter.save(model_log_dir_trt)\n",
    "            print(\"==== Saved Converted model ====\")\n",
    "\n",
    "        saved_model_loaded = tf.saved_model.load(\n",
    "            model_log_dir_trt, tags=[tag_constants.SERVING])\n",
    "        graph_func = saved_model_loaded.signatures[\n",
    "            signature_constants.DEFAULT_SERVING_SIGNATURE_DEF_KEY]\n",
    "        self.frozen_func = convert_variables_to_constants_v2(graph_func)\n",
    "\n",
    "#     @tf.function\n",
    "    def inference(self, images):\n",
    "        # training=False is only needed if there are layers with different\n",
    "        # behavior during training versus inference (e.g. Dropout).\n",
    "#         predictions = self.model(images, training=False)\n",
    "        predictions = self.frozen_func(*images)[0].numpy()\n",
    "        return predictions\n",
    "\n",
    "    ##\n",
    "    # @brief Create an array in shared memory.\n",
    "    # @param prepared_p bool shared array (1,) to signal readiness\n",
    "    def start_server(self, prepared_p):\n",
    "        grasp_img_p = sa.create(f\"shm://{self.ROBOT_TYPE_NAME}.grasp_img\", (BATCH_SIZE,) + GRASP_SHAPE + (3,))\n",
    "        arm_img_p = sa.create(f\"shm://{self.ROBOT_TYPE_NAME}.arm_img\", (BATCH_SIZE,) + ARM_SHAPE + (1,))\n",
    "        rh_vals_p = sa.create(f\"shm://{self.ROBOT_TYPE_NAME}.rh_vals\", (BATCH_SIZE, 2))\n",
    "        result_p = sa.create(f\"shm://{self.ROBOT_TYPE_NAME}.result\", (BATCH_SIZE, 2))\n",
    "        query_in = sa.create(f\"shm://{self.ROBOT_TYPE_NAME}.query_in\", (1,), dtype=np.bool)\n",
    "        response_out = sa.create(f\"shm://{self.ROBOT_TYPE_NAME}.response_out\", (1,), dtype=np.bool)\n",
    "        query_quit = sa.create(f\"shm://{self.ROBOT_TYPE_NAME}.query_quit\", (1,), dtype=np.bool)\n",
    "        gtimer = GlobalTimer.instance()\n",
    "        gtimer.reset()\n",
    "        grasp_img_p[:] = 0\n",
    "        arm_img_p[:] = 0\n",
    "        rh_vals_p[:] = 0\n",
    "        result_p[:] = 0\n",
    "        query_in[0] = False\n",
    "        response_out[0] = False\n",
    "        query_quit[0] = False\n",
    "        rh_mask = np.zeros((BATCH_SIZE, 54))\n",
    "\n",
    "        print(\"============= wait for initialization ================\")\n",
    "        r_mask = div_r_gaussian(rh_vals_p[0][0])\n",
    "        h_mask = div_h_gaussian(rh_vals_p[0][1])\n",
    "        rh_mask[0] = np.concatenate([r_mask, h_mask])\n",
    "        grasp_img_t = tf.constant(grasp_img_p, dtype=tf.float32)\n",
    "        arm_img_t = tf.constant(arm_img_p, dtype=tf.float32)\n",
    "        rh_mask_t = tf.constant(rh_mask, dtype=tf.float32)\n",
    "        self.inference((grasp_img_t, arm_img_t, rh_mask_t))\n",
    "        print(\"=============== initialization done ==================\")\n",
    "        prepared_p[0] = True\n",
    "\n",
    "        try:\n",
    "            while not query_quit[0]:\n",
    "                if not query_in[0]:\n",
    "                    time.sleep(SERVER_PERIOD)\n",
    "                    continue\n",
    "                gtimer.tic(\"convert_tf\")\n",
    "                query_in[0] = False\n",
    "                ## TODO: inference depending on robot type\n",
    "                r_mask = div_r_gaussian(rh_vals_p[0][0])\n",
    "                h_mask = div_h_gaussian(rh_vals_p[0][1])\n",
    "                rh_mask[0] = np.concatenate([r_mask, h_mask])\n",
    "                grasp_img_t = tf.constant(grasp_img_p, dtype=tf.float32)\n",
    "                arm_img_t = tf.constant(arm_img_p, dtype=tf.float32)\n",
    "                rh_mask_t = tf.constant(rh_mask, dtype=tf.float32)\n",
    "                etime_ctf = gtimer.toc(\"convert_tf\")\n",
    "                gtimer.tic(\"inference\")\n",
    "                result = self.inference((grasp_img_t, arm_img_t, rh_mask_t))\n",
    "                for i_b in range(BATCH_SIZE):\n",
    "                    result_p[i_b] = result[i_b]\n",
    "                etime_inf = gtimer.toc(\"inference\")\n",
    "                print(\"convertin : {} ms\".format(round(etime_ctf, 2)))\n",
    "                print(\"inference : {} ms\".format(round(etime_inf, 2)))\n",
    "                response_out[0] = True\n",
    "        finally:\n",
    "            sa.delete(f\"shm://{self.ROBOT_TYPE_NAME}.grasp_img\")\n",
    "            sa.delete(f\"shm://{self.ROBOT_TYPE_NAME}.arm_img\")\n",
    "            sa.delete(f\"shm://{self.ROBOT_TYPE_NAME}.rh_vals\")\n",
    "            sa.delete(f\"shm://{self.ROBOT_TYPE_NAME}.result\")\n",
    "            sa.delete(f\"shm://{self.ROBOT_TYPE_NAME}.query_in\")\n",
    "            sa.delete(f\"shm://{self.ROBOT_TYPE_NAME}.response_out\")\n",
    "            sa.delete(f\"shm://{self.ROBOT_TYPE_NAME}.query_quit\")\n"
   ]
  },
  {
   "cell_type": "code",
   "execution_count": 2,
   "metadata": {
    "scrolled": true
   },
   "outputs": [
    {
     "name": "stderr",
     "output_type": "stream",
     "text": [
      "WARNING:absl:Importing a function (__inference_res_net_1_layer_call_and_return_conditional_losses_23488) with ops with unsaved custom gradients. Will likely fail if a gradient is requested.\n",
      "WARNING:absl:Importing a function (__inference_dens1_ee_layer_call_and_return_conditional_losses_27484) with ops with unsaved custom gradients. Will likely fail if a gradient is requested.\n",
      "WARNING:absl:Importing a function (__inference_dense_bn_layer_call_and_return_conditional_losses_11892) with ops with unsaved custom gradients. Will likely fail if a gradient is requested.\n",
      "WARNING:absl:Importing a function (__inference_dense_bn_1_layer_call_and_return_conditional_losses_29937) with ops with unsaved custom gradients. Will likely fail if a gradient is requested.\n",
      "WARNING:absl:Importing a function (__inference_res_net_1_layer_call_and_return_conditional_losses_39232) with ops with unsaved custom gradients. Will likely fail if a gradient is requested.\n",
      "WARNING:absl:Importing a function (__inference_dens1_arm_layer_call_and_return_conditional_losses_25291) with ops with unsaved custom gradients. Will likely fail if a gradient is requested.\n",
      "WARNING:absl:Importing a function (__inference_res_net_model_tp_layer_call_and_return_conditional_losses_5394) with ops with unsaved custom gradients. Will likely fail if a gradient is requested.\n",
      "WARNING:absl:Importing a function (__inference_dens1_grasp_layer_call_and_return_conditional_losses_15339) with ops with unsaved custom gradients. Will likely fail if a gradient is requested.\n",
      "WARNING:absl:Importing a function (__inference__wrapped_model_9102) with ops with unsaved custom gradients. Will likely fail if a gradient is requested.\n",
      "WARNING:absl:Importing a function (__inference_res_net_model_tp_layer_call_and_return_conditional_losses_37484) with ops with unsaved custom gradients. Will likely fail if a gradient is requested.\n",
      "WARNING:absl:Importing a function (__inference_res_net_layer_call_and_return_conditional_losses_24925) with ops with unsaved custom gradients. Will likely fail if a gradient is requested.\n",
      "WARNING:absl:Importing a function (__inference_dense_bn_1_layer_call_and_return_conditional_losses_10019) with ops with unsaved custom gradients. Will likely fail if a gradient is requested.\n",
      "WARNING:absl:Importing a function (__inference_dens1_grasp_layer_call_and_return_conditional_losses_27469) with ops with unsaved custom gradients. Will likely fail if a gradient is requested.\n",
      "WARNING:absl:Importing a function (__inference_dense_bn_layer_call_and_return_conditional_losses_14891) with ops with unsaved custom gradients. Will likely fail if a gradient is requested.\n",
      "WARNING:absl:Importing a function (__inference_dens1_arm_layer_call_and_return_conditional_losses_5432) with ops with unsaved custom gradients. Will likely fail if a gradient is requested.\n",
      "WARNING:absl:Importing a function (__inference_dense_bn_1_layer_call_and_return_conditional_losses_20582) with ops with unsaved custom gradients. Will likely fail if a gradient is requested.\n",
      "WARNING:absl:Importing a function (__inference_dense_bn_layer_call_and_return_conditional_losses_75) with ops with unsaved custom gradients. Will likely fail if a gradient is requested.\n",
      "WARNING:absl:Importing a function (__inference_res_net_1_layer_call_and_return_conditional_losses_18373) with ops with unsaved custom gradients. Will likely fail if a gradient is requested.\n",
      "WARNING:absl:Importing a function (__inference_dense_bn_layer_call_and_return_conditional_losses_17169) with ops with unsaved custom gradients. Will likely fail if a gradient is requested.\n",
      "WARNING:absl:Importing a function (__inference_dense_bn_1_layer_call_and_return_conditional_losses_20404) with ops with unsaved custom gradients. Will likely fail if a gradient is requested.\n",
      "WARNING:absl:Importing a function (__inference_res_net_model_tp_layer_call_and_return_conditional_losses_14593) with ops with unsaved custom gradients. Will likely fail if a gradient is requested.\n",
      "WARNING:absl:Importing a function (__inference_res_net_layer_call_and_return_conditional_losses_19733) with ops with unsaved custom gradients. Will likely fail if a gradient is requested.\n",
      "WARNING:absl:Importing a function (__inference_res_net_layer_call_and_return_conditional_losses_16862) with ops with unsaved custom gradients. Will likely fail if a gradient is requested.\n",
      "WARNING:absl:Importing a function (__inference_res_net_1_layer_call_and_return_conditional_losses_21778) with ops with unsaved custom gradients. Will likely fail if a gradient is requested.\n",
      "WARNING:absl:Importing a function (__inference_dens1_ee_layer_call_and_return_conditional_losses_10977) with ops with unsaved custom gradients. Will likely fail if a gradient is requested.\n",
      "WARNING:absl:Importing a function (__inference_res_net_layer_call_and_return_conditional_losses_28739) with ops with unsaved custom gradients. Will likely fail if a gradient is requested.\n",
      "WARNING:absl:Importing a function (__inference_res_net_model_tp_layer_call_and_return_conditional_losses_2735) with ops with unsaved custom gradients. Will likely fail if a gradient is requested.\n",
      "WARNING:absl:Importing a function (__inference_pruned_61559) with ops with unsaved custom gradients. Will likely fail if a gradient is requested.\n"
     ]
    }
   ],
   "source": [
    "slp = SharedLatticePredictor(ROBOT_TYPE_NAME=args.rtype, model_path_rel=args.model_path)"
   ]
  },
  {
   "cell_type": "code",
   "execution_count": 3,
   "metadata": {},
   "outputs": [
    {
     "name": "stdout",
     "output_type": "stream",
     "text": [
      "============= wait for initialization ================\n",
      "=============== initialization done ==================\n"
     ]
    }
   ],
   "source": [
    "self, prepared_p = slp, sa.create(f\"shm://{args.rtype}.prepared\", (1,), dtype=np.bool)\n",
    "\n",
    "grasp_img_p = sa.create(f\"shm://{self.ROBOT_TYPE_NAME}.grasp_img\", (BATCH_SIZE,) + GRASP_SHAPE + (3,))\n",
    "arm_img_p = sa.create(f\"shm://{self.ROBOT_TYPE_NAME}.arm_img\", (BATCH_SIZE,) + ARM_SHAPE + (1,))\n",
    "rh_vals_p = sa.create(f\"shm://{self.ROBOT_TYPE_NAME}.rh_vals\", (BATCH_SIZE, 2))\n",
    "result_p = sa.create(f\"shm://{self.ROBOT_TYPE_NAME}.result\", (BATCH_SIZE, 2))\n",
    "query_in = sa.create(f\"shm://{self.ROBOT_TYPE_NAME}.query_in\", (1,), dtype=np.bool)\n",
    "response_out = sa.create(f\"shm://{self.ROBOT_TYPE_NAME}.response_out\", (1,), dtype=np.bool)\n",
    "query_quit = sa.create(f\"shm://{self.ROBOT_TYPE_NAME}.query_quit\", (1,), dtype=np.bool)\n",
    "gtimer = GlobalTimer.instance()\n",
    "gtimer.reset()\n",
    "grasp_img_p[:] = 0\n",
    "arm_img_p[:] = 0\n",
    "rh_vals_p[:] = 0\n",
    "result_p[:] = 0\n",
    "query_in[0] = False\n",
    "response_out[0] = False\n",
    "query_quit[0] = False\n",
    "rh_mask = np.zeros((BATCH_SIZE, 54))\n",
    "\n",
    "print(\"============= wait for initialization ================\")\n",
    "r_mask = div_r_gaussian(rh_vals_p[0][0])\n",
    "h_mask = div_h_gaussian(rh_vals_p[0][1])\n",
    "rh_mask[0] = np.concatenate([r_mask, h_mask])\n",
    "grasp_img_t = tf.constant(grasp_img_p, dtype=tf.float32)\n",
    "arm_img_t = tf.constant(arm_img_p, dtype=tf.float32)\n",
    "rh_mask_t = tf.constant(rh_mask, dtype=tf.float32)\n",
    "self.inference((grasp_img_t, arm_img_t, rh_mask_t))\n",
    "print(\"=============== initialization done ==================\")\n",
    "prepared_p[0] = True\n"
   ]
  },
  {
   "cell_type": "code",
   "execution_count": 4,
   "metadata": {},
   "outputs": [
    {
     "name": "stdout",
     "output_type": "stream",
     "text": [
<<<<<<< Updated upstream
      "convertin : 14.35 ms\n",
      "inference : 22.13 ms\n"
=======
      "convertin : 0.96 ms\n",
      "inference : 16.81 ms\n"
>>>>>>> Stashed changes
     ]
    }
   ],
   "source": [
    "gtimer.tic(\"convert_tf\")\n",
    "query_in[0] = False\n",
    "## TODO: inference depending on robot type\n",
    "r_mask = div_r_gaussian(rh_vals_p[0][0])\n",
    "h_mask = div_h_gaussian(rh_vals_p[0][1])\n",
    "rh_mask[0] = np.concatenate([r_mask, h_mask])\n",
    "grasp_img_t = tf.constant(grasp_img_p, dtype=tf.float32)\n",
    "arm_img_t = tf.constant(arm_img_p, dtype=tf.float32)\n",
    "rh_mask_t = tf.constant(rh_mask, dtype=tf.float32)\n",
    "etime_ctf = gtimer.toc(\"convert_tf\")\n",
    "gtimer.tic(\"inference\")\n",
    "result = self.inference((grasp_img_t, arm_img_t, rh_mask_t))\n",
    "for i_b in range(BATCH_SIZE):\n",
    "    result_p[i_b] = result[i_b]\n",
    "etime_inf = gtimer.toc(\"inference\")\n",
    "print(\"convertin : {} ms\".format(round(etime_ctf, 2)))\n",
    "print(\"inference : {} ms\".format(round(etime_inf, 2)))\n",
    "response_out[0] = True"
   ]
  },
  {
   "cell_type": "code",
   "execution_count": 5,
   "metadata": {
    "scrolled": true
   },
   "outputs": [],
   "source": [
    "while not query_quit[0]:\n",
    "    if not query_in[0]:\n",
    "        time.sleep(SERVER_PERIOD)\n",
    "        continue\n",
    "    gtimer.tic(\"convert_tf\")\n",
    "    query_in[0] = False\n",
    "    ## TODO: inference depending on robot type\n",
    "    r_mask = div_r_gaussian(rh_vals_p[0][0])\n",
    "    h_mask = div_h_gaussian(rh_vals_p[0][1])\n",
    "    rh_mask[0] = np.concatenate([r_mask, h_mask])\n",
    "    grasp_img_t = tf.constant(grasp_img_p, dtype=tf.float32)\n",
    "    arm_img_t = tf.constant(arm_img_p, dtype=tf.float32)\n",
    "    rh_mask_t = tf.constant(rh_mask, dtype=tf.float32)\n",
    "    etime_ctf = gtimer.toc(\"convert_tf\")\n",
    "    gtimer.tic(\"inference\")\n",
    "    result = self.inference((grasp_img_t, arm_img_t, rh_mask_t))\n",
    "    for i_b in range(BATCH_SIZE):\n",
    "        result_p[i_b] = result[i_b]\n",
    "    etime_inf = gtimer.toc(\"inference\")\n",
    "    response_out[0] = True"
   ]
  },
  {
   "cell_type": "code",
   "execution_count": 6,
   "metadata": {},
   "outputs": [
    {
     "name": "stdout",
     "output_type": "stream",
     "text": [
<<<<<<< Updated upstream
      "convert_tf: \t144.0 ms/101 = 1.424 ms (1.016/14.354)\n",
      "inference: \t1825.0 ms/101 = 18.071 ms (14.438/22.133)\n",
=======
      "convert_tf: \t84.0 ms/101 = 0.834 ms (0.465/4.179)\n",
      "inference: \t1355.0 ms/101 = 13.413 ms (11.81/17.687)\n",
>>>>>>> Stashed changes
      "\n"
     ]
    }
   ],
   "source": [
    "print(gtimer)"
   ]
  },
  {
   "cell_type": "code",
   "execution_count": 7,
   "metadata": {},
   "outputs": [],
   "source": [
    "sa.delete(f\"shm://{self.ROBOT_TYPE_NAME}.grasp_img\")\n",
    "sa.delete(f\"shm://{self.ROBOT_TYPE_NAME}.arm_img\")\n",
    "sa.delete(f\"shm://{self.ROBOT_TYPE_NAME}.rh_vals\")\n",
    "sa.delete(f\"shm://{self.ROBOT_TYPE_NAME}.result\")\n",
    "sa.delete(f\"shm://{self.ROBOT_TYPE_NAME}.query_in\")\n",
    "sa.delete(f\"shm://{self.ROBOT_TYPE_NAME}.response_out\")\n",
    "sa.delete(f\"shm://{self.ROBOT_TYPE_NAME}.query_quit\")\n",
    "sa.delete(f\"shm://{self.ROBOT_TYPE_NAME}.prepared\")"
   ]
  },
  {
   "cell_type": "code",
   "execution_count": null,
   "metadata": {},
   "outputs": [],
   "source": []
  },
  {
   "cell_type": "code",
   "execution_count": null,
   "metadata": {},
   "outputs": [],
   "source": []
  },
  {
   "cell_type": "markdown",
   "metadata": {},
   "source": [
    "# Test Original"
   ]
  },
  {
   "cell_type": "code",
   "execution_count": 2,
   "metadata": {},
   "outputs": [
    {
     "name": "stderr",
     "output_type": "stream",
     "text": [
      "/home/rnb/.local/lib/python3.6/site-packages/tensorflow/python/client/session.py:1766: UserWarning: An interactive session is already active. This can cause out-of-memory errors in some cases. You must explicitly call `InteractiveSession.close()` to release resources held by the other session(s).\n",
      "  warnings.warn('An interactive session is already active. This can '\n"
     ]
    }
   ],
   "source": [
    "from tensorflow.compat.v1 import ConfigProto\n",
    "from tensorflow.compat.v1 import InteractiveSession\n",
    "import tensorflow as tf\n",
    "\n",
    "config = ConfigProto()\n",
    "config.gpu_options.allow_growth = True\n",
    "session = InteractiveSession(config=config)\n",
    "\n",
    "\n",
    "##\n",
    "# @class SharedLatticePredictor\n",
    "class SharedLatticePredictor:\n",
    "    ##\n",
    "    # @param ROBOT_TYPE_NAME robot type name\n",
    "    # @param model_path_rel relative model path from model/latticized/\n",
    "    def __init__(self, ROBOT_TYPE_NAME=\"indy7\", model_path_rel=None):\n",
    "        self.ROBOT_TYPE_NAME = ROBOT_TYPE_NAME\n",
    "        self.ROBOT_MODEL_ROOT = os.path.join(LAT_MODEL_PATH, self.ROBOT_TYPE_NAME)\n",
    "        if model_path_rel is None:\n",
    "            last_model = sorted(os.listdir(self.ROBOT_MODEL_ROOT))[-1]\n",
    "            last_save = sorted([item for item in os.listdir(os.path.join(self.ROBOT_MODEL_ROOT, last_model)) if item.startswith(\"model\")])[-1]\n",
    "            model_path_rel = os.path.join(last_model, last_save)\n",
    "        model_log_dir = os.path.join(self.ROBOT_MODEL_ROOT, model_path_rel)\n",
    "        self.model = tf.keras.models.load_model(model_log_dir)\n",
    "\n",
    "    @tf.function\n",
    "    def inference(self, images):\n",
    "        # training=False is only needed if there are layers with different\n",
    "        # behavior during training versus inference (e.g. Dropout).\n",
    "        predictions = self.model(images, training=False)\n",
    "        return predictions\n",
    "\n",
    "    ##\n",
    "    # @brief Create an array in shared memory.\n",
    "    # @param prepared_p bool shared array (1,) to signal readiness\n",
    "    def start_server(self, prepared_p):\n",
    "        grasp_img_p = sa.create(f\"shm://{self.ROBOT_TYPE_NAME}.grasp_img\", (BATCH_SIZE,) + GRASP_SHAPE + (3,))\n",
    "        arm_img_p = sa.create(f\"shm://{self.ROBOT_TYPE_NAME}.arm_img\", (BATCH_SIZE,) + ARM_SHAPE + (1,))\n",
    "        rh_vals_p = sa.create(f\"shm://{self.ROBOT_TYPE_NAME}.rh_vals\", (BATCH_SIZE, 2))\n",
    "        result_p = sa.create(f\"shm://{self.ROBOT_TYPE_NAME}.result\", (BATCH_SIZE, 2))\n",
    "        query_in = sa.create(f\"shm://{self.ROBOT_TYPE_NAME}.query_in\", (1,), dtype=np.bool)\n",
    "        response_out = sa.create(f\"shm://{self.ROBOT_TYPE_NAME}.response_out\", (1,), dtype=np.bool)\n",
    "        query_quit = sa.create(f\"shm://{self.ROBOT_TYPE_NAME}.query_quit\", (1,), dtype=np.bool)\n",
    "        grasp_img_p[:] = 0\n",
    "        arm_img_p[:] = 0\n",
    "        rh_vals_p[:] = 0\n",
    "        result_p[:] = 0\n",
    "        query_in[0] = False\n",
    "        response_out[0] = False\n",
    "        query_quit[0] = False\n",
    "        rh_mask = np.zeros((BATCH_SIZE, 54))\n",
    "\n",
    "        print(\"============= wait for initialization ================\")\n",
    "        r_mask = div_r_gaussian(rh_vals_p[0][0])\n",
    "        h_mask = div_h_gaussian(rh_vals_p[0][1])\n",
    "        rh_mask[0] = np.concatenate([r_mask, h_mask])\n",
    "        self.inference([grasp_img_p, arm_img_p, rh_mask])\n",
    "        print(\"=============== initialization done ==================\")\n",
    "        prepared_p[0] = True\n",
    "\n",
    "        try:\n",
    "            while not query_quit[0]:\n",
    "                if not query_in[0]:\n",
    "                    time.sleep(SERVER_PERIOD)\n",
    "                    continue\n",
    "                query_in[0] = False\n",
    "                ## TODO: inference depending on robot type\n",
    "                r_mask = div_r_gaussian(rh_vals_p[0][0])\n",
    "                h_mask = div_h_gaussian(rh_vals_p[0][1])\n",
    "                rh_mask[0] = np.concatenate([r_mask, h_mask])\n",
    "                result = self.inference([grasp_img_p, arm_img_p, rh_mask])\n",
    "                for i_b in range(BATCH_SIZE):\n",
    "                    result_p[i_b] = result[i_b]\n",
    "                response_out[0] = True\n",
    "        finally:\n",
    "            sa.delete(f\"shm://{self.ROBOT_TYPE_NAME}.grasp_img\")\n",
    "            sa.delete(f\"shm://{self.ROBOT_TYPE_NAME}.arm_img\")\n",
    "            sa.delete(f\"shm://{self.ROBOT_TYPE_NAME}.rh_vals\")\n",
    "            sa.delete(f\"shm://{self.ROBOT_TYPE_NAME}.result\")\n",
    "            sa.delete(f\"shm://{self.ROBOT_TYPE_NAME}.query_in\")\n",
    "            sa.delete(f\"shm://{self.ROBOT_TYPE_NAME}.response_out\")\n",
    "            sa.delete(f\"shm://{self.ROBOT_TYPE_NAME}.query_quit\")"
   ]
  },
  {
   "cell_type": "code",
   "execution_count": 3,
   "metadata": {
    "scrolled": true
   },
   "outputs": [
    {
     "name": "stderr",
     "output_type": "stream",
     "text": [
      "WARNING:absl:Importing a function (__inference_dense_bn_layer_call_and_return_conditional_losses_698048) with ops with unsaved custom gradients. Will likely fail if a gradient is requested.\n",
      "WARNING:absl:Importing a function (__inference_res_net_model_tp_layer_call_and_return_conditional_losses_713141) with ops with unsaved custom gradients. Will likely fail if a gradient is requested.\n",
      "WARNING:absl:Importing a function (__inference_res_net_1_layer_call_and_return_conditional_losses_699973) with ops with unsaved custom gradients. Will likely fail if a gradient is requested.\n",
      "WARNING:absl:Importing a function (__inference_dense_bn_layer_call_and_return_conditional_losses_732694) with ops with unsaved custom gradients. Will likely fail if a gradient is requested.\n",
      "WARNING:absl:Importing a function (__inference_res_net_layer_call_and_return_conditional_losses_694216) with ops with unsaved custom gradients. Will likely fail if a gradient is requested.\n",
      "WARNING:absl:Importing a function (__inference_dense_bn_1_layer_call_and_return_conditional_losses_732780) with ops with unsaved custom gradients. Will likely fail if a gradient is requested.\n",
      "WARNING:absl:Importing a function (__inference_res_net_layer_call_and_return_conditional_losses_727624) with ops with unsaved custom gradients. Will likely fail if a gradient is requested.\n",
      "WARNING:absl:Importing a function (__inference_res_net_1_layer_call_and_return_conditional_losses_731126) with ops with unsaved custom gradients. Will likely fail if a gradient is requested.\n",
      "WARNING:absl:Importing a function (__inference_dens1_grasp_layer_call_and_return_conditional_losses_732500) with ops with unsaved custom gradients. Will likely fail if a gradient is requested.\n",
      "WARNING:absl:Importing a function (__inference_res_net_model_tp_layer_call_and_return_conditional_losses_718297) with ops with unsaved custom gradients. Will likely fail if a gradient is requested.\n",
      "WARNING:absl:Importing a function (__inference_res_net_1_layer_call_and_return_conditional_losses_695964) with ops with unsaved custom gradients. Will likely fail if a gradient is requested.\n",
      "WARNING:absl:Importing a function (__inference_res_net_1_layer_call_and_return_conditional_losses_732342) with ops with unsaved custom gradients. Will likely fail if a gradient is requested.\n",
      "WARNING:absl:Importing a function (__inference_res_net_layer_call_and_return_conditional_losses_702260) with ops with unsaved custom gradients. Will likely fail if a gradient is requested.\n",
      "WARNING:absl:Importing a function (__inference_dens1_ee_layer_call_and_return_conditional_losses_696512) with ops with unsaved custom gradients. Will likely fail if a gradient is requested.\n",
      "WARNING:absl:Importing a function (__inference_dense_bn_layer_call_and_return_conditional_losses_732651) with ops with unsaved custom gradients. Will likely fail if a gradient is requested.\n",
      "WARNING:absl:Importing a function (__inference_dense_bn_layer_call_and_return_conditional_losses_696669) with ops with unsaved custom gradients. Will likely fail if a gradient is requested.\n",
      "WARNING:absl:Importing a function (__inference_dense_bn_1_layer_call_and_return_conditional_losses_697951) with ops with unsaved custom gradients. Will likely fail if a gradient is requested.\n",
      "WARNING:absl:Importing a function (__inference_dens1_grasp_layer_call_and_return_conditional_losses_696573) with ops with unsaved custom gradients. Will likely fail if a gradient is requested.\n",
      "WARNING:absl:Importing a function (__inference_res_net_model_tp_layer_call_and_return_conditional_losses_720910) with ops with unsaved custom gradients. Will likely fail if a gradient is requested.\n",
      "WARNING:absl:Importing a function (__inference__wrapped_model_679265) with ops with unsaved custom gradients. Will likely fail if a gradient is requested.\n",
      "WARNING:absl:Importing a function (__inference_dense_bn_1_layer_call_and_return_conditional_losses_732823) with ops with unsaved custom gradients. Will likely fail if a gradient is requested.\n",
      "WARNING:absl:Importing a function (__inference_dens1_ee_layer_call_and_return_conditional_losses_732367) with ops with unsaved custom gradients. Will likely fail if a gradient is requested.\n",
      "WARNING:absl:Importing a function (__inference_res_net_layer_call_and_return_conditional_losses_728840) with ops with unsaved custom gradients. Will likely fail if a gradient is requested.\n",
      "WARNING:absl:Importing a function (__inference_dens1_arm_layer_call_and_return_conditional_losses_696618) with ops with unsaved custom gradients. Will likely fail if a gradient is requested.\n",
      "WARNING:absl:Importing a function (__inference_dens1_arm_layer_call_and_return_conditional_losses_732525) with ops with unsaved custom gradients. Will likely fail if a gradient is requested.\n",
      "WARNING:absl:Importing a function (__inference_dense_bn_1_layer_call_and_return_conditional_losses_696717) with ops with unsaved custom gradients. Will likely fail if a gradient is requested.\n",
      "WARNING:absl:Importing a function (__inference_res_net_model_tp_layer_call_and_return_conditional_losses_715754) with ops with unsaved custom gradients. Will likely fail if a gradient is requested.\n"
     ]
    }
   ],
   "source": [
    "slp = SharedLatticePredictor(ROBOT_TYPE_NAME=args.rtype, model_path_rel=args.model_path)"
   ]
  },
  {
   "cell_type": "code",
   "execution_count": 4,
   "metadata": {},
   "outputs": [
    {
     "name": "stdout",
     "output_type": "stream",
     "text": [
      "============= wait for initialization ================\n",
      "=============== initialization done ==================\n"
     ]
    }
   ],
   "source": [
    "self = slp\n",
    "\n",
    "grasp_img_p = sa.create(f\"shm://{self.ROBOT_TYPE_NAME}.grasp_img\", (BATCH_SIZE,) + GRASP_SHAPE + (3,))\n",
    "arm_img_p = sa.create(f\"shm://{self.ROBOT_TYPE_NAME}.arm_img\", (BATCH_SIZE,) + ARM_SHAPE + (1,))\n",
    "rh_vals_p = sa.create(f\"shm://{self.ROBOT_TYPE_NAME}.rh_vals\", (BATCH_SIZE, 2))\n",
    "result_p = sa.create(f\"shm://{self.ROBOT_TYPE_NAME}.result\", (BATCH_SIZE, 2))\n",
    "query_in = sa.create(f\"shm://{self.ROBOT_TYPE_NAME}.query_in\", (1,), dtype=np.bool)\n",
    "response_out = sa.create(f\"shm://{self.ROBOT_TYPE_NAME}.response_out\", (1,), dtype=np.bool)\n",
    "query_quit = sa.create(f\"shm://{self.ROBOT_TYPE_NAME}.query_quit\", (1,), dtype=np.bool)\n",
    "prepared_p = sa.create(f\"shm://{self.ROBOT_TYPE_NAME}.prepared\", (1,), dtype=np.bool)\n",
    "prepared_p[0] = False\n",
    "\n",
    "grasp_img_p[:] = 0\n",
    "arm_img_p[:] = 0\n",
    "rh_vals_p[:] = 0\n",
    "result_p[:] = 0\n",
    "query_in[0] = False\n",
    "response_out[0] = False\n",
    "query_quit[0] = False\n",
    "rh_mask = np.zeros((BATCH_SIZE, 54))\n",
    "\n",
    "print(\"============= wait for initialization ================\")\n",
    "r_mask = div_r_gaussian(rh_vals_p[0][0])\n",
    "h_mask = div_h_gaussian(rh_vals_p[0][1])\n",
    "rh_mask[0] = np.concatenate([r_mask, h_mask])\n",
    "self.inference([grasp_img_p, arm_img_p, rh_mask])\n",
    "print(\"=============== initialization done ==================\")\n",
    "prepared_p[0] = True"
   ]
  },
  {
   "cell_type": "code",
   "execution_count": null,
   "metadata": {},
   "outputs": [],
   "source": []
  },
  {
   "cell_type": "markdown",
   "metadata": {},
   "source": [
    "### Call checker once to get data example. run below cell to return response so the checker can stop waiting"
   ]
  },
  {
   "cell_type": "code",
   "execution_count": 5,
   "metadata": {},
   "outputs": [
    {
     "name": "stdout",
     "output_type": "stream",
     "text": [
      "convertin : 0.22 ms\n",
      "inference : 17.28 ms\n"
     ]
    }
   ],
   "source": [
    "gtimer=GlobalTimer.instance()\n",
    "gtimer.reset()\n",
    "gtimer.tic(\"convert_tf\")\n",
    "query_in[0] = False\n",
    "## TODO: inference depending on robot type\n",
    "r_mask = div_r_gaussian(rh_vals_p[0][0])\n",
    "h_mask = div_h_gaussian(rh_vals_p[0][1])\n",
    "rh_mask[0] = np.concatenate([r_mask, h_mask])\n",
    "etime_ctf = gtimer.toc(\"convert_tf\")\n",
    "gtimer.tic(\"inference\")\n",
    "result = self.inference([grasp_img_p, arm_img_p, rh_mask])\n",
    "for i_b in range(BATCH_SIZE):\n",
    "    result_p[i_b] = result[i_b]\n",
    "etime_inf = gtimer.toc(\"inference\")\n",
    "print(\"convertin : {} ms\".format(round(etime_ctf, 2)))\n",
    "print(\"inference : {} ms\".format(round(etime_inf, 2)))\n",
    "response_out[0] = True"
   ]
  },
  {
   "cell_type": "code",
   "execution_count": 6,
   "metadata": {},
   "outputs": [
    {
     "name": "stdout",
     "output_type": "stream",
     "text": [
      "convert_tf: \t6.0 ms/101 = 0.059 ms (0.05/0.223)\n",
      "inference: \t1699.0 ms/101 = 16.823 ms (16.067/29.02)\n",
      "\n"
     ]
    }
   ],
   "source": [
    "while not query_quit[0]:\n",
    "    if not query_in[0]:\n",
    "        time.sleep(SERVER_PERIOD)\n",
    "        continue\n",
    "    gtimer.tic(\"convert_tf\")\n",
    "    query_in[0] = False\n",
    "    ## TODO: inference depending on robot type\n",
    "    r_mask = div_r_gaussian(rh_vals_p[0][0])\n",
    "    h_mask = div_h_gaussian(rh_vals_p[0][1])\n",
    "    rh_mask[0] = np.concatenate([r_mask, h_mask])\n",
    "    etime_ctf = gtimer.toc(\"convert_tf\")\n",
    "    gtimer.tic(\"inference\")\n",
    "    result = self.inference([grasp_img_p, arm_img_p, rh_mask])\n",
    "    for i_b in range(BATCH_SIZE):\n",
    "        result_p[i_b] = result[i_b]\n",
    "    etime_inf = gtimer.toc(\"inference\")\n",
    "    response_out[0] = True\n",
    "print(gtimer)"
   ]
  },
  {
   "cell_type": "markdown",
   "metadata": {},
   "source": [
    "## Mulst call below to clear shared memory"
   ]
  },
  {
   "cell_type": "code",
   "execution_count": 7,
   "metadata": {},
   "outputs": [],
   "source": [
    "ROBOT_TYPE_NAME = self.ROBOT_TYPE_NAME\n",
    "sa.delete(f\"shm://{ROBOT_TYPE_NAME}.grasp_img\")\n",
    "sa.delete(f\"shm://{ROBOT_TYPE_NAME}.arm_img\")\n",
    "sa.delete(f\"shm://{ROBOT_TYPE_NAME}.rh_vals\")\n",
    "sa.delete(f\"shm://{ROBOT_TYPE_NAME}.result\")\n",
    "sa.delete(f\"shm://{ROBOT_TYPE_NAME}.query_in\")\n",
    "sa.delete(f\"shm://{ROBOT_TYPE_NAME}.response_out\")\n",
    "sa.delete(f\"shm://{ROBOT_TYPE_NAME}.query_quit\")\n",
    "sa.delete(f\"shm://{ROBOT_TYPE_NAME}.prepared\")"
   ]
  },
  {
   "cell_type": "code",
   "execution_count": null,
   "metadata": {},
   "outputs": [],
   "source": []
  }
 ],
 "metadata": {
  "kernelspec": {
   "display_name": "Python 3",
   "language": "python",
   "name": "python3"
  },
  "language_info": {
   "codemirror_mode": {
    "name": "ipython",
    "version": 3
   },
   "file_extension": ".py",
   "mimetype": "text/x-python",
   "name": "python",
   "nbconvert_exporter": "python",
   "pygments_lexer": "ipython3",
   "version": "3.6.9"
  }
 },
 "nbformat": 4,
 "nbformat_minor": 2
}
