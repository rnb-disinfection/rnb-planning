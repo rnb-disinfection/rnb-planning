{
 "cells": [
  {
   "cell_type": "markdown",
   "metadata": {},
   "source": [
    "## set running directory to project source"
   ]
  },
  {
   "cell_type": "code",
   "execution_count": 1,
   "metadata": {},
   "outputs": [],
   "source": [
    "import os\n",
    "import numpy as np\n",
    "import time\n",
    "os.chdir(os.path.join(os.environ[\"RNB_PLANNING_DIR\"], 'src'))"
   ]
  },
  {
   "cell_type": "code",
   "execution_count": null,
   "metadata": {},
   "outputs": [],
   "source": []
  },
  {
   "cell_type": "markdown",
   "metadata": {},
   "source": [
    "## 3.1. SceneBuilder"
   ]
  },
  {
   "cell_type": "markdown",
   "metadata": {},
   "source": [
    "##### Create CombinedRobot instance - you need it to initailize GeometryScene"
   ]
  },
  {
   "cell_type": "code",
   "execution_count": 2,
   "metadata": {},
   "outputs": [
    {
     "name": "stdout",
     "output_type": "stream",
     "text": [
      "connection command:\n",
      "indy0: False\n",
      "panda1: False\n"
     ]
    }
   ],
   "source": [
    "from pkg.controller.combined_robot import CombinedRobot\n",
    "from pkg.controller.robot_config import RobotConfig, RobotType\n",
    "INDY_IP = \"192.168.0.63\"\n",
    "PANDA_HOST_IP = \"192.168.0.172\" ## The host computer is the computer that runs control program\n",
    "PANDA_ROBOT_IP = \"192.168.0.13\" ## The robot has it's own IP\n",
    "\n",
    "combined_robot = CombinedRobot(\n",
    "    robots_on_scene=[\n",
    "        RobotConfig(0, RobotType.indy7, ((0,-0.3,0), (0,0,0)),\n",
    "                    INDY_IP),\n",
    "        RobotConfig(1, RobotType.panda, ((0,0.3,0), (0,0,0)),\n",
    "                    \"{}/{}\".format(PANDA_HOST_IP, PANDA_ROBOT_IP))], \n",
    "    connection_list=[False, False])"
   ]
  },
  {
   "cell_type": "code",
   "execution_count": null,
   "metadata": {},
   "outputs": [],
   "source": []
  },
  {
   "cell_type": "markdown",
   "metadata": {},
   "source": [
    "##### initialize ArucoStereo detector"
   ]
  },
  {
   "cell_type": "code",
   "execution_count": 3,
   "metadata": {},
   "outputs": [],
   "source": [
    "from pkg.detector.aruco.stereo import ArucoStereo\n",
    "from pkg.detector.aruco.marker_config import get_aruco_map\n",
    "from pkg.detector.camera.kinect import Kinect\n",
    "from pkg.detector.camera.realsense import RealSense\n",
    "from pkg.detector.detector_interface import DetectionLevel\n",
    "\n",
    "# stereo = ArucoStereo(aruco_map=get_aruco_map(), \n",
    "#                      camera_list=[Kinect(), RealSense()])\n",
    "\n",
    "# stereo.initialize()\n",
    "\n",
    "# time.sleep(1) # Let the camera have some time to get stable\n",
    "# stereo.calibrate()\n",
    "# print(\"Detector initialized\")"
   ]
  },
  {
   "cell_type": "code",
   "execution_count": null,
   "metadata": {},
   "outputs": [],
   "source": []
  },
  {
   "cell_type": "markdown",
   "metadata": {},
   "source": [
    "##### Create SceneBuilder instance"
   ]
  },
  {
   "cell_type": "code",
   "execution_count": 4,
   "metadata": {},
   "outputs": [],
   "source": [
    "from pkg.geometry.builder.scene_builder import SceneBuilder\n",
    "scene_builder = SceneBuilder.instance(None)\n",
    "# scene_builder = SceneBuilder.instance(detector=stereo)"
   ]
  },
  {
   "cell_type": "code",
   "execution_count": null,
   "metadata": {},
   "outputs": [],
   "source": []
  },
  {
   "cell_type": "markdown",
   "metadata": {},
   "source": [
    "##### reset_reference_coord()\n",
    "* Set the name of coordinate reference object - here, you need \"floor\" as reference"
   ]
  },
  {
   "cell_type": "code",
   "execution_count": 5,
   "metadata": {},
   "outputs": [],
   "source": [
    "# scene_builder.reset_reference_coord(ref_name=\"floor\")"
   ]
  },
  {
   "cell_type": "code",
   "execution_count": null,
   "metadata": {},
   "outputs": [],
   "source": []
  },
  {
   "cell_type": "markdown",
   "metadata": {},
   "source": [
    "##### detect_items()\n",
    "* Detect items in the field of view. Here, we detect robot positions and update it to the combined robot"
   ]
  },
  {
   "cell_type": "code",
   "execution_count": 6,
   "metadata": {},
   "outputs": [],
   "source": [
    "# xyz_rpy_robots = scene_builder.detect_items(level_mask=[DetectionLevel.ROBOT])\n",
    "# combined_robot.update_robot_pos_dict(xyz_rpy_robots=xyz_rpy_robots)"
   ]
  },
  {
   "cell_type": "code",
   "execution_count": null,
   "metadata": {},
   "outputs": [],
   "source": []
  },
  {
   "cell_type": "markdown",
   "metadata": {},
   "source": [
    "##### create_gscene()\n",
    "* Create a GeometryScene instance"
   ]
  },
  {
   "cell_type": "code",
   "execution_count": 7,
   "metadata": {
    "scrolled": true
   },
   "outputs": [
    {
     "name": "stdout",
     "output_type": "stream",
     "text": [
      "Unable to register with master node [http://localhost:11311]: master may not be running yet. Will keep trying.\n",
      "Please create a subscriber to the marker\n",
      "publication OK\n",
      "published: [0, 0, 0, 0, 0, 0, 0, 0, 0, 0, 0, 0, 0]\n"
     ]
    }
   ],
   "source": [
    "gscene = scene_builder.create_gscene(combined_robot)"
   ]
  },
  {
   "cell_type": "code",
   "execution_count": null,
   "metadata": {},
   "outputs": [],
   "source": []
  },
  {
   "cell_type": "markdown",
   "metadata": {},
   "source": [
    "##### detect_and_register()\n",
    "* Detect items in the field of view and register them to the GeometryScene\n",
    "* They will appear in the RVIZ"
   ]
  },
  {
   "cell_type": "code",
   "execution_count": 8,
   "metadata": {},
   "outputs": [],
   "source": [
    "# gtem_dict = scene_builder.detect_and_register(level_mask=[DetectionLevel.ENVIRONMENT])\n",
    "# gtem_dict = scene_builder.detect_and_register(level_mask=[DetectionLevel.MOVABLE])"
   ]
  },
  {
   "cell_type": "code",
   "execution_count": null,
   "metadata": {},
   "outputs": [],
   "source": []
  },
  {
   "cell_type": "markdown",
   "metadata": {},
   "source": [
    "## FT sensor"
   ]
  },
  {
   "cell_type": "code",
   "execution_count": 9,
   "metadata": {},
   "outputs": [],
   "source": [
    "import sys\n",
    "RNB_TRACK_DIR = os.path.join(os.environ['RNB_TRACK_DIR'])\n",
    "sys.path.append(RNB_TRACK_DIR)\n",
    "from robotous_ft import *\n",
    "rft = RobotousFT()"
   ]
  },
  {
   "cell_type": "code",
   "execution_count": 15,
   "metadata": {},
   "outputs": [],
   "source": [
    "# gscene.show_pose(combined_robot.home_pose)\n",
    "Tbe = gscene.get_tf(\"indy0_tcp\", )\n",
    "for _ in range(100):\n",
    "    ft = rft.read_once()\n",
    "    gscene.show_wrench(\"ft\", ft*10, Tbe)\n",
    "    time.sleep(0.05)"
   ]
  },
  {
   "cell_type": "code",
   "execution_count": null,
   "metadata": {},
   "outputs": [],
   "source": []
  },
  {
   "cell_type": "markdown",
   "metadata": {},
   "source": [
    "## Vive\n",
    "#### Prepare VR\n",
    "1. Start vrmonitor\n",
    "2. Turn on trackers - push until led blinks or change to green - Trackers will be displayed green on the SteamVR\n",
    "  - Turn on the reference tracker first"
   ]
  },
  {
   "cell_type": "code",
   "execution_count": 9,
   "metadata": {},
   "outputs": [],
   "source": [
    "from pkg.utils.shared_function import clear_channels_on\n",
    "from pkg.detector.vive.shared_vive import SharedTrackers, SERVER_ID"
   ]
  },
  {
   "cell_type": "code",
   "execution_count": 10,
   "metadata": {},
   "outputs": [],
   "source": [
    "# clear_channels_on(SERVER_ID)\n",
    "track = SharedTrackers()\n",
    "track.init_vive()"
   ]
  },
  {
   "cell_type": "markdown",
   "metadata": {},
   "source": [
    "#### Set reference"
   ]
  },
  {
   "cell_type": "code",
   "execution_count": 11,
   "metadata": {},
   "outputs": [],
   "source": [
    "vive_ref = gscene.NAME_DICT[\"vive_ref\"]\n",
    "tf_base_ref = vive_ref.get_tf(combined_robot.home_pose)\n",
    "track.set_reference(ref_name=\"tracker_1\", tf_base_ref=tf_base_ref)"
   ]
  },
  {
   "cell_type": "markdown",
   "metadata": {},
   "source": [
    "#### show tracker coordinates"
   ]
  },
  {
   "cell_type": "code",
   "execution_count": 12,
   "metadata": {},
   "outputs": [],
   "source": [
    "for _ in range(50):\n",
    "    try:\n",
    "        pose_dict = track.get_all_pose()\n",
    "        for tname, T in pose_dict.items():\n",
    "            gscene.add_highlight_axis(\"hl\", tname, T=np.array(T))\n",
    "        time.sleep(0.1)\n",
    "    except Exception as e:\n",
    "        print(e)"
   ]
  },
  {
   "cell_type": "code",
   "execution_count": null,
   "metadata": {},
   "outputs": [],
   "source": []
  },
  {
   "cell_type": "markdown",
   "metadata": {},
   "source": [
    "#### Draw error arrow"
   ]
  },
  {
   "cell_type": "code",
   "execution_count": 13,
   "metadata": {},
   "outputs": [],
   "source": [
    "from pkg.utils.rotation_utils import *\n",
    "from pkg.utils.plot_utils import ArrowStream, draw_background_multi"
   ]
  },
  {
   "cell_type": "code",
   "execution_count": 14,
   "metadata": {},
   "outputs": [],
   "source": [
    "ref_pos = track.get_pose(tname=\"tracker_2\")\n",
    "xy_ref = ref_pos[:2, 3]\n",
    "theta_ref = Rot2axis(ref_pos[:3, :3], 3)\n",
    "gscene.add_highlight_axis(\"hl\", \"tracker_2_ref\", T=ref_pos)\n",
    "def arrow_update_xy():\n",
    "    try:\n",
    "        cur_pos = track.get_pose(tname=\"tracker_2\")\n",
    "        gscene.add_highlight_axis(\"hl\", \"tracker_2\", T=cur_pos)\n",
    "        arrow_update_xy.cur_pos = cur_pos\n",
    "    except:\n",
    "        cur_pos = arrow_update_xy.cur_pos\n",
    "    xy_cur = cur_pos[:2, 3]\n",
    "    theta_cur = Rot2axis(cur_pos[:3, :3], 3)\n",
    "    \n",
    "    xy_diff = np.subtract(xy_ref, xy_cur)\n",
    "    theta_diff = np.subtract(theta_ref, theta_cur)\n",
    "    \n",
    "    length = np.linalg.norm(xy_diff)\n",
    "    \n",
    "    return length, np.arctan2(xy_diff[1], xy_diff[0]), (0,0,1)\n",
    "\n",
    "arrow_update_xy()\n",
    "\n",
    "def arrow_update_theta():\n",
    "    cur_pos = arrow_update_xy.cur_pos\n",
    "    xy_cur = cur_pos[:2, 3]\n",
    "    theta_cur = Rot2axis(cur_pos[:3, :3], 3)\n",
    "    \n",
    "    xy_diff = np.subtract(xy_ref, xy_cur)\n",
    "    theta_diff = np.subtract(theta_ref, theta_cur)\n",
    "    theta_diff = (theta_diff + np.pi) % (np.pi*2)-np.pi\n",
    "    \n",
    "    if theta_diff >= 0:\n",
    "        angle=0\n",
    "    else:\n",
    "        angle=np.pi\n",
    "    \n",
    "    return np.abs(theta_diff)/np.pi, angle, (1,0,0)"
   ]
  },
  {
   "cell_type": "code",
   "execution_count": 25,
   "metadata": {},
   "outputs": [],
   "source": [
    "astream_xy = ArrowStream(arrow_update_xy, sname=\"xy\")\n",
    "astream_theta = ArrowStream(arrow_update_theta, im_size=(200, 500), sname=\"theta\")"
   ]
  },
  {
   "cell_type": "code",
   "execution_count": 26,
   "metadata": {},
   "outputs": [],
   "source": [
    "draw_background_multi([astream_xy, astream_theta])"
   ]
  },
  {
   "cell_type": "code",
   "execution_count": 23,
   "metadata": {},
   "outputs": [],
   "source": [
    "astream_xy.stop_now()\n",
    "astream_theta.stop_now()"
   ]
  },
  {
   "cell_type": "code",
   "execution_count": null,
   "metadata": {},
   "outputs": [],
   "source": []
  }
 ],
 "metadata": {
  "kernelspec": {
   "display_name": "Python 2",
   "language": "python",
   "name": "python2"
  },
  "language_info": {
   "codemirror_mode": {
    "name": "ipython",
    "version": 2
   },
   "file_extension": ".py",
   "mimetype": "text/x-python",
   "name": "python",
   "nbconvert_exporter": "python",
   "pygments_lexer": "ipython2",
   "version": "2.7.17"
  }
 },
 "nbformat": 4,
 "nbformat_minor": 2
}
