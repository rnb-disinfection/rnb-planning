{
 "cells": [
  {
   "cell_type": "code",
   "execution_count": 1,
   "metadata": {},
   "outputs": [],
   "source": [
    "from __future__ import print_function\n",
    "import os\n",
    "import sys\n",
    "import matplotlib.pyplot as plt\n",
    "sys.path.append(os.path.join(os.environ[\"RNB_PLANNING_DIR\"], \"src\"))"
   ]
  },
  {
   "cell_type": "code",
   "execution_count": null,
   "metadata": {},
   "outputs": [],
   "source": []
  },
  {
   "cell_type": "markdown",
   "metadata": {},
   "source": [
    "## Prepare single robot scene"
   ]
  },
  {
   "cell_type": "code",
   "execution_count": 2,
   "metadata": {},
   "outputs": [
    {
     "name": "stdout",
     "output_type": "stream",
     "text": [
      "connection command:\n",
      "panda0: False\n",
      "Please create a subscriber to the marker\n",
      "publication OK\n",
      "published: [0, 0, 0, 0, 0, 0, 0]\n",
      "Please create a subscriber to the marker\n"
     ]
    }
   ],
   "source": [
    "from pkg.utils.test_scripts import *\n",
    "from pkg.controller.robot_config import *\n",
    "\n",
    "ROBOT_TYPE = RobotType.panda\n",
    "ROBOT_NAME, TOOL_LINK, TOOL_XYZ, TOOL_RPY, HOME_POSE, GRIP_DEPTH = get_single_robot_params(ROBOT_TYPE)\n",
    "s_buillder, pscene = prepare_single_robot_scene(\n",
    "    ROBOT_TYPE=ROBOT_TYPE, ROBOT_NAME=ROBOT_NAME, TOOL_LINK=TOOL_LINK, TOOL_XYZ=TOOL_XYZ, TOOL_RPY=TOOL_RPY)\n",
    "gscene = pscene.gscene"
   ]
  },
  {
   "cell_type": "markdown",
   "metadata": {},
   "source": [
    "## Prepare dummy object"
   ]
  },
  {
   "cell_type": "code",
   "execution_count": 3,
   "metadata": {},
   "outputs": [],
   "source": [
    "from pkg.planning.constraint.constraint_actor import Gripper2Tool\n",
    "grip = pscene.create_binder(bname=\"grip0\", gname=\"grip0\", _type=Gripper2Tool, point=(0,0,0))"
   ]
  },
  {
   "cell_type": "code",
   "execution_count": null,
   "metadata": {},
   "outputs": [],
   "source": []
  },
  {
   "cell_type": "markdown",
   "metadata": {},
   "source": [
    "## Prepare planner"
   ]
  },
  {
   "cell_type": "code",
   "execution_count": 4,
   "metadata": {},
   "outputs": [],
   "source": [
    "from pkg.planning.constraint.constraint_common import BindingTransform\n",
    "from pkg.planning.motion.moveit.moveit_planner import MoveitPlanner\n",
    "mplan = MoveitPlanner(pscene=pscene)\n",
    "checker = MoveitPlanner(pscene=pscene)"
   ]
  },
  {
   "cell_type": "code",
   "execution_count": 5,
   "metadata": {},
   "outputs": [],
   "source": [
    "from pkg.planning.filtering.grasp_filter import GraspChecker\n",
    "from pkg.planning.filtering.reach_filter import ReachChecker\n",
    "from pkg.planning.filtering.latticized_filter import LatticedChecker\n",
    "gcheck = GraspChecker(pscene)\n",
    "rcheck = ReachChecker(pscene)\n",
    "lcheck = LatticedChecker(pscene, gcheck=gcheck)\n",
    "\n",
    "mplan.motion_filters = [gcheck]\n",
    "checker.motion_filters = [gcheck, rcheck, lcheck]"
   ]
  },
  {
   "cell_type": "code",
   "execution_count": 6,
   "metadata": {},
   "outputs": [],
   "source": [
    "WorkPlane.RTH_MIN = (0.3, 0, 0.2)\n",
    "WorkPlane.RTH_MAX = (0.3, 0, 0.2)\n",
    "WorkPlane.RPY_MIN = (0, 0, 0)\n",
    "WorkPlane.RPY_MAX = (0, 0, 0)\n",
    "\n",
    "## set workplane\n",
    "wp = WorkPlane(gscene, \"wp\", floor_height=0)\n",
    "wp.geometry.set_offset_tf((0.6, 0.0, 0.02), np.identity(3))\n",
    "wp.geometry.color = (0.9,0.9,0.9,1)\n",
    "wp.geometry.dims = (0.5,1,0.05)\n",
    "gscene.update_markers_all()\n",
    "pscene.create_binder(bname=\"wp\", gname=\"wp\", _type=PlacePlane, point=None)\n",
    "\n",
    "pole = Pole(gscene, \"pole\")\n",
    "pole.geometry.set_offset_tf((0.5037082845331903, 0.45729871295844005, 0.0), \n",
    "                            np.array([[ 0.77924002, -0.62672561,  0.        ],\n",
    "                                      [ 0.62672561,  0.77924002,  0.        ],\n",
    "                                      [ 0.        ,  0.        ,  1.        ]]))\n",
    "pole.geometry.dims = (0.2, 0.3, 4.)\n",
    "\n",
    "bar = Bar(gscene, \"bar\")\n",
    "bar.geometry.set_offset_tf((0.2818130430044775, -0.30949004364604027, 0.8162341036575937), \n",
    "                           np.array([[ 0.67327226,  0.73939466,  0.        ],\n",
    "                                     [-0.73939466,  0.67327226,  0.        ],\n",
    "                                     [ 0.        ,  0.        ,  1.        ]]))\n",
    "bar.geometry.dims = (0.2, 4., 0.3)\n",
    "\n",
    "gscene.update_markers_all()"
   ]
  },
  {
   "cell_type": "code",
   "execution_count": 7,
   "metadata": {},
   "outputs": [],
   "source": [
    "HOME_POSE = (0,-0.3,0,-0.5,0,2.5,0)\n",
    "crob = pscene.combined_robot\n",
    "crob.home_pose = HOME_POSE\n",
    "crob.home_dict = list2dict(HOME_POSE, gscene.joint_names)\n",
    "gscene.show_pose(HOME_POSE)"
   ]
  },
  {
   "cell_type": "code",
   "execution_count": 8,
   "metadata": {},
   "outputs": [
    {
     "name": "stdout",
     "output_type": "stream",
     "text": [
      "==== [-0.15 -0.4 ] ====\n",
      "==== [-0.15 -0.3 ] ====\n",
      "==== [-0.15 -0.2 ] ====\n",
      "==== [-0.15 -0.1 ] ====\n",
      "==== [-0.15 -0.  ] ====\n",
      "==== [-0.15  0.1 ] ====\n",
      "==== [-0.15  0.2 ] ====\n",
      "==== [-0.15  0.3 ] ====\n",
      "==== [-0.15  0.4 ] ====\n",
      "colliding\n",
      "==== [-0.05 -0.4 ] ====\n",
      "==== [-0.05 -0.3 ] ====\n",
      "==== [-0.05 -0.2 ] ====\n",
      "==== [-0.05 -0.1 ] ====\n",
      "==== [-0.05 -0.  ] ====\n",
      "==== [-0.05  0.1 ] ====\n",
      "==== [-0.05  0.2 ] ====\n",
      "==== [-0.05  0.3 ] ====\n",
      "colliding\n",
      "==== [-0.05  0.4 ] ====\n",
      "colliding\n",
      "==== [ 0.05 -0.4 ] ====\n",
      "==== [ 0.05 -0.3 ] ====\n",
      "==== [ 0.05 -0.2 ] ====\n",
      "==== [ 0.05 -0.1 ] ====\n",
      "==== [ 0.05 -0.  ] ====\n",
      "==== [0.05 0.1 ] ====\n",
      "==== [0.05 0.2 ] ====\n",
      "==== [0.05 0.3 ] ====\n",
      "==== [0.05 0.4 ] ====\n",
      "colliding\n",
      "==== [ 0.15 -0.4 ] ====\n",
      "==== [ 0.15 -0.3 ] ====\n",
      "==== [ 0.15 -0.2 ] ====\n",
      "==== [ 0.15 -0.1 ] ====\n",
      "==== [ 0.15 -0.  ] ====\n",
      "==== [0.15 0.1 ] ====\n",
      "==== [0.15 0.2 ] ====\n",
      "==== [0.15 0.3 ] ====\n",
      "==== [0.15 0.4 ] ====\n",
      "=================\n",
      "nan %\n"
     ]
    },
    {
     "name": "stderr",
     "output_type": "stream",
     "text": [
      "/usr/local/lib/python2.7/dist-packages/numpy/core/fromnumeric.py:3118: RuntimeWarning: Mean of empty slice.\n",
      "  out=out, **kwargs)\n",
      "/usr/local/lib/python2.7/dist-packages/numpy/core/_methods.py:85: RuntimeWarning: invalid value encountered in double_scalars\n",
      "  ret = ret.dtype.type(ret / rcount)\n"
     ]
    }
   ],
   "source": [
    "idx = 0\n",
    "width = float(wp.geometry.dims[1])\n",
    "depth = float(wp.geometry.dims[0])\n",
    "correctness = []\n",
    "for x in np.arange(-depth/2+depth/5, depth/2, depth/5):\n",
    "    for y in np.arange(-width/2+width/10, width/2, width/10):\n",
    "        idx += 1\n",
    "        print(\"==== {} ====\".format(np.round((x,y), 2)))\n",
    "        obj_name = \"cyl_{}\".format(idx)\n",
    "        cyl_dims = (0.05,0.05,0.2)\n",
    "        clearance = 0.001\n",
    "        cyl = gscene.create_safe(GEOTYPE.CYLINDER, obj_name, link_name=\"base_link\", dims=cyl_dims, \n",
    "                                 center=np.add(wp.geometry.center, (x,y,wp.geometry.dims[2]/2+cyl_dims[2]/2+clearance)), \n",
    "                                 rpy=(0,0,0), color=(1,1,0.0,0.2), display=True, fixed=False, collision=True)\n",
    "\n",
    "        xy_rel = np.abs(np.matmul(SE3_inv(pole.geometry.Toff), cyl.Toff)[:2,3]) - np.divide(pole.geometry.dims[:2], 2)\n",
    "        r_cyl = cyl.dims[0]/2\n",
    "        if all(xy_rel<r_cyl) or np.linalg.norm(xy_rel)<r_cyl:\n",
    "            cyl.color = (1,0,0,0.2)\n",
    "            cyl.collision = False\n",
    "            gscene.update_markers_all()\n",
    "            print(\"colliding\")\n",
    "            continue\n",
    "        continue\n",
    "            \n",
    "        cyl_obj = pscene.create_subject(obj_name, obj_name, CylinderObject)\n",
    "            \n",
    "        initial_state = pscene.initialize_state(pscene.combined_robot.home_pose)\n",
    "        print(pscene.subject_name_list)\n",
    "        print(initial_state.node)\n",
    "\n",
    "        goal = (\"grip0\",)\n",
    "        available_binding_dict = pscene.get_available_binding_dict(initial_state, to_node=goal, Q_dict=crob.home_dict)\n",
    "        to_state = pscene.sample_leaf_state(initial_state, to_node=goal, available_binding_dict=available_binding_dict)\n",
    "\n",
    "        btf = to_state.binding_state[obj_name]\n",
    "        obj, handle, actor = btf.get_instance_chain(pscene)\n",
    "\n",
    "        color_dict = {(True): (0,0,1,0.3), (False): (1,0,0,0.1)}\n",
    "        redun_len = cyl.dims[2]/2-0.05\n",
    "        uxw_list = []\n",
    "        gscene.show_pose(crob.home_pose)\n",
    "        idx_bd = 0\n",
    "        for u_ in np.arange(-np.pi, np.pi, np.pi/4):\n",
    "            for x_ in np.arange(-redun_len, redun_len+1e-3, redun_len):\n",
    "                for w_ in np.arange(-np.pi/4, np.pi/4+1e-3, np.pi/4):\n",
    "                    idx_bd += 1\n",
    "                    btf.redundancy[obj_name+\"_side_g\"][\"u\"] = u_\n",
    "                    btf.redundancy[obj_name+\"_side_g\"][\"x\"] = x_\n",
    "                    btf.redundancy[\"grip0\"][\"w\"] = w_\n",
    "                    btf.set_redundancy(btf.redundancy, handle, actor)\n",
    "                    btf.update_transforms(handle, actor)\n",
    "                    print(\"---- {} ----\".format(np.round((u_,x_,w_), 2)))\n",
    "\n",
    "                    feas = checker.plan_transition(initial_state, to_state, test_filters_only=True)\n",
    "                    traj, Q, err, succ, chains = mplan.plan_transition(initial_state, to_state, timeout = 0.5)\n",
    "                    correctness.append(feas==succ)\n",
    "                    pscene.show_binding(btf, axis=\"y\", color=color_dict[succ], dims=(0.05,0.01,0.01), idx=str(idx_bd))\n",
    "                    print(succ)\n",
    "            print(\"====\")\n",
    "            print(\"{} %\".format(np.round(np.mean(correctness)*100, 2)))\n",
    "        print(\"====\")\n",
    "        print(\"{} %\".format(np.round(np.mean(correctness)*100, 2)))\n",
    "        pscene.clear_subjects()\n",
    "        cyl.collision = False\n",
    "print(\"=================\")\n",
    "print(\"{} %\".format(np.round(np.mean(correctness)*100, 2)))"
   ]
  },
  {
   "cell_type": "code",
   "execution_count": 9,
   "metadata": {},
   "outputs": [],
   "source": [
    "bar.geometry.color = (0,0,0,0)\n",
    "gscene.update_markers_all()"
   ]
  },
  {
   "cell_type": "code",
   "execution_count": 9,
   "metadata": {},
   "outputs": [],
   "source": [
    "gscene.show_pose([0, -np.pi / 8, 0, -np.pi / 2, 0, np.pi / 2, np.pi / 2])"
   ]
  },
  {
   "cell_type": "code",
   "execution_count": 51,
   "metadata": {},
   "outputs": [],
   "source": [
    "gscene.show_motion(traj)\n",
    "time.sleep(0.1)\n",
    "gscene.show_pose(Q)"
   ]
  },
  {
   "cell_type": "code",
   "execution_count": 17,
   "metadata": {},
   "outputs": [],
   "source": [
    "gscene.clear_highlight()"
   ]
  },
  {
   "cell_type": "code",
   "execution_count": null,
   "metadata": {},
   "outputs": [],
   "source": []
  }
 ],
 "metadata": {
  "kernelspec": {
   "display_name": "Python 2",
   "language": "python",
   "name": "python2"
  },
  "language_info": {
   "codemirror_mode": {
    "name": "ipython",
    "version": 2
   },
   "file_extension": ".py",
   "mimetype": "text/x-python",
   "name": "python",
   "nbconvert_exporter": "python",
   "pygments_lexer": "ipython2",
   "version": "2.7.17"
  }
 },
 "nbformat": 4,
 "nbformat_minor": 2
}
