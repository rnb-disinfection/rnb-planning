{
 "cells": [
  {
   "cell_type": "markdown",
   "metadata": {},
   "source": [
    "## set running directory to project source"
   ]
  },
  {
   "cell_type": "code",
   "execution_count": null,
   "metadata": {},
   "outputs": [],
   "source": [
    "import os\n",
    "os.chdir(os.path.join(os.environ[\"RNB_PLANNING_DIR\"], 'src'))"
   ]
  },
  {
   "cell_type": "code",
   "execution_count": null,
   "metadata": {},
   "outputs": [],
   "source": []
  },
  {
   "cell_type": "markdown",
   "metadata": {},
   "source": [
    "## init combined robot config"
   ]
  },
  {
   "cell_type": "code",
   "execution_count": null,
   "metadata": {},
   "outputs": [],
   "source": [
    "from pkg.controller.combined_robot import *\n",
    "from pkg.project_config import *\n",
    "\n",
    "crob = CombinedRobot(robots_on_scene=[\n",
    "    RobotConfig(0, RobotType.indy7, ((0.3,-0.4,0), (0,0,np.pi/2)),\n",
    "                INDY_IP),\n",
    "    RobotConfig(1, RobotType.panda, ((-0.3,-0.4,0), (0,0,np.pi/2)),\n",
    "                \"{}/{}\".format(PANDA_REPEATER_IP, PANDA_ROBOT_IP))]\n",
    "              , connection_list=[False, False])"
   ]
  },
  {
   "cell_type": "code",
   "execution_count": null,
   "metadata": {},
   "outputs": [],
   "source": []
  },
  {
   "cell_type": "code",
   "execution_count": null,
   "metadata": {},
   "outputs": [],
   "source": [
    "from pkg.detector.aruco.marker_config import *\n",
    "from pkg.detector.aruco.stereo import ArucoStereo\n",
    "from pkg.detector.camera.realsense import RealSense\n",
    "from pkg.detector.camera.kinect import Kinect\n",
    "aruco_map = get_aruco_map()\n",
    "stereo = ArucoStereo(aruco_map, [Kinect(), RealSense()])\n",
    "stereo.initialize()\n",
    "stereo.calibrate()"
   ]
  },
  {
   "cell_type": "code",
   "execution_count": null,
   "metadata": {},
   "outputs": [],
   "source": []
  },
  {
   "cell_type": "markdown",
   "metadata": {},
   "source": [
    "## create scene builder"
   ]
  },
  {
   "cell_type": "code",
   "execution_count": null,
   "metadata": {},
   "outputs": [],
   "source": [
    "from pkg.geometry.builder.scene_builder import SceneBuilder\n",
    "s_builder = SceneBuilder(stereo, base_link=\"base_link\")\n",
    "s_builder.reset_reference_coord(ref_name=\"floor\")"
   ]
  },
  {
   "cell_type": "code",
   "execution_count": null,
   "metadata": {},
   "outputs": [],
   "source": []
  },
  {
   "cell_type": "markdown",
   "metadata": {},
   "source": [
    "## detect robot and make geometry scene"
   ]
  },
  {
   "cell_type": "code",
   "execution_count": null,
   "metadata": {},
   "outputs": [],
   "source": [
    "xyz_rpy_robots = s_builder.detect_items(level_mask=[DetectionLevel.ROBOT])\n",
    "crob.update_robot_pos_dict(xyz_rpy_robots=xyz_rpy_robots)\n",
    "gscene = s_builder.create_gscene(crob)"
   ]
  },
  {
   "cell_type": "code",
   "execution_count": null,
   "metadata": {},
   "outputs": [],
   "source": []
  },
  {
   "cell_type": "markdown",
   "metadata": {},
   "source": [
    "## init planning pipeline"
   ]
  },
  {
   "cell_type": "code",
   "execution_count": null,
   "metadata": {},
   "outputs": [],
   "source": [
    "from pkg.planning.scene import PlanningScene\n",
    "pscene = PlanningScene(gscene, combined_robot=crob)\n",
    "\n",
    "from pkg.planning.pipeline import PlanningPipeline\n",
    "ppline = PlanningPipeline(pscene)\n",
    "\n",
    "from pkg.ui.ui_broker import *\n",
    "\n",
    "# start UI\n",
    "ui_broker = UIBroker.instance()\n",
    "ui_broker.initialize(ppline, s_builder)\n",
    "ui_broker.start_server()\n",
    "\n",
    "ui_broker.set_tables()"
   ]
  },
  {
   "cell_type": "markdown",
   "metadata": {},
   "source": [
    "```\n",
    "open web ui on <your ip>:8050\n",
    "click geometry items / Handles / Binders to highlight geometry on RVIZ\n",
    "other functions may be buggy.. please report\n",
    "```"
   ]
  },
  {
   "cell_type": "code",
   "execution_count": null,
   "metadata": {},
   "outputs": [],
   "source": []
  },
  {
   "cell_type": "markdown",
   "metadata": {},
   "source": [
    "## add environment"
   ]
  },
  {
   "cell_type": "code",
   "execution_count": null,
   "metadata": {},
   "outputs": [],
   "source": [
    "gtem_dict = s_builder.detect_and_register(level_mask=[DetectionLevel.ENVIRONMENT])"
   ]
  },
  {
   "cell_type": "code",
   "execution_count": null,
   "metadata": {},
   "outputs": [],
   "source": [
    "# add cam poles\n",
    "ptems = s_builder.add_poles({\"cam0\": s_builder.ref_coord_inv[:3,3], \"cam1\":np.matmul(s_builder.ref_coord_inv, stereo.T_c12)[:3,3]},\n",
    "                            color=(0.6,0.6,0.6,0.0))"
   ]
  },
  {
   "cell_type": "code",
   "execution_count": null,
   "metadata": {},
   "outputs": [],
   "source": [
    "gtems = s_builder.add_robot_geometries(color=(0,1,0,0.5), display=True, collision=True)"
   ]
  },
  {
   "cell_type": "code",
   "execution_count": null,
   "metadata": {},
   "outputs": [],
   "source": [
    " gscene.NAME_DICT[\"floor\"].dims = (2,1,0.01)"
   ]
  },
  {
   "cell_type": "code",
   "execution_count": null,
   "metadata": {},
   "outputs": [],
   "source": [
    "gscene.create_safe(GEOTYPE.BOX, \"ceiling\", \"base_link\", (2,1,0.01), \n",
    "                   (0.0,0.0,1.1),rpy=(0,0,0), \n",
    "                   color=(0.8,0.8,0.8,0.1), display=True, fixed=True, collision=True)\n",
    "gscene.create_safe(GEOTYPE.BOX, \"leftwall\", \"base_link\", (1,1,0.01), \n",
    "                   (1.0,0.0,0.5),rpy=(0,np.pi/2,0), \n",
    "                   color=(0.8,0.8,0.8,0.1), display=True, fixed=True, collision=True)\n",
    "gscene.create_safe(GEOTYPE.BOX, \"rightwall\", \"base_link\", (1,1,0.01), \n",
    "                   (-1.0,0.0,0.5),rpy=(0,np.pi/2,0), \n",
    "                   color=(0.8,0.8,0.8,0.1), display=True, fixed=True, collision=True)\n",
    "gscene.create_safe(GEOTYPE.BOX, \"frontwall\", \"base_link\", (2,1,0.01), \n",
    "                   (0.0,-0.5,0.5),rpy=(np.pi/2,0,0), \n",
    "                   color=(0.8,0.8,0.8,0.1), display=True, fixed=True, collision=True)"
   ]
  },
  {
   "cell_type": "code",
   "execution_count": null,
   "metadata": {},
   "outputs": [],
   "source": []
  },
  {
   "cell_type": "markdown",
   "metadata": {},
   "source": [
    "## add sweep face"
   ]
  },
  {
   "cell_type": "code",
   "execution_count": null,
   "metadata": {},
   "outputs": [],
   "source": [
    "track = s_builder.detect_and_register(item_names=[\"track\"], level_mask=[DetectionLevel.ENVIRONMENT])[\"track\"]\n",
    "track_face = gscene.copy_from(track, new_name=\"track_face\", collision=False)\n",
    "track_face.dims = (track.dims[0]-0.22, track.dims[1]-0.12, track.dims[2])\n",
    "# track.dims = (track.dims[0]-0.32, track.dims[1]-0.12, track.dims[2])"
   ]
  },
  {
   "cell_type": "code",
   "execution_count": null,
   "metadata": {},
   "outputs": [],
   "source": [
    "gscene.update_markers_all()"
   ]
  },
  {
   "cell_type": "code",
   "execution_count": null,
   "metadata": {},
   "outputs": [],
   "source": []
  },
  {
   "cell_type": "markdown",
   "metadata": {},
   "source": [
    "## add wp"
   ]
  },
  {
   "cell_type": "code",
   "execution_count": null,
   "metadata": {},
   "outputs": [],
   "source": [
    "TOOL_DIM = [0.06, 0.10]\n",
    "TRACK_DIM = track_face.dims\n",
    "TRACK_NUM = np.ceil(np.divide(TRACK_DIM[1]-TOOL_DIM[1], TOOL_DIM[1])).astype(np.int)+1\n",
    "TRACK_STEP = (TRACK_DIM[1]-TOOL_DIM[1])/(TRACK_NUM-1)\n",
    "WP_REF_A = -np.subtract(TRACK_DIM[:2], TOOL_DIM[:2])/2\n",
    "WP_REF_B = np.array([-WP_REF_A[0], WP_REF_A[1]])\n",
    "TRC_THIC = TRACK_DIM[2]\n",
    "track_list = []\n",
    "for i_trc in range(TRACK_NUM):\n",
    "    wp1 = gscene.create_safe(GEOTYPE.BOX, \"wp{}a\".format(i_trc+1), \"base_link\", (TOOL_DIM[0]/2,TOOL_DIM[1]/2,TRC_THIC), \n",
    "                             tuple(WP_REF_A+[0,TRACK_STEP*i_trc])+(0,),rpy=(0,0,0), \n",
    "                             color=(0.8,0.2,0.2,0.2), display=True, fixed=True, collision=False, parent=\"track_face\")\n",
    "    wp2 = gscene.create_safe(GEOTYPE.BOX, \"wp{}b\".format(i_trc+1), \"base_link\", (TOOL_DIM[0]/2,TOOL_DIM[1]/2,TRC_THIC), \n",
    "                             tuple(WP_REF_B+[0,TRACK_STEP*i_trc])+(0,),rpy=(0,0,0), \n",
    "                             color=(0.8,0.2,0.2,0.2), display=True, fixed=True, collision=False, parent=\"track_face\")\n",
    "    line = gscene.create_safe(GEOTYPE.BOX, \"trc{}\".format(i_trc+1), \"base_link\", (TRACK_DIM[0]*2, TRACK_DIM[0]*2, 1e-6), \n",
    "                               (0,WP_REF_A[1]+TRACK_STEP*i_trc,0), rpy=(np.pi/2,0,0), \n",
    "                               color=(0.8,0.2,0.2,0.2), display=False, fixed=True, collision=False, parent=\"track_face\")\n",
    "    line_vis = gscene.create_safe(GEOTYPE.BOX, \"trc{}vis\".format(i_trc+1), \"base_link\", (TRACK_DIM[0], 0.01, 1e-6), \n",
    "                               (0,WP_REF_A[1]+TRACK_STEP*i_trc,0), rpy=(np.pi/2,0,0), \n",
    "                               color=(0.8,0.2,0.2,0.2), display=True, fixed=True, collision=False, parent=\"track_face\")\n",
    "    track_list.append((wp1, wp2, line))"
   ]
  },
  {
   "cell_type": "code",
   "execution_count": null,
   "metadata": {},
   "outputs": [],
   "source": [
    "gscene.update_markers_all()"
   ]
  },
  {
   "cell_type": "code",
   "execution_count": null,
   "metadata": {},
   "outputs": [],
   "source": []
  },
  {
   "cell_type": "markdown",
   "metadata": {},
   "source": [
    "## add indy tool"
   ]
  },
  {
   "cell_type": "code",
   "execution_count": null,
   "metadata": {},
   "outputs": [],
   "source": [
    "gscene.create_safe(gtype=GEOTYPE.CYLINDER, name=\"indy0_fts\", link_name=\"indy0_tcp\",\n",
    "                            center=(0,0,0.02), dims=(0.07,0.07, 0.04), rpy=(0,0,0), color=(0.8,0.8,0.8,1),\n",
    "                            collision=False)\n",
    "gscene.create_safe(gtype=GEOTYPE.CYLINDER, name=\"indy0_fts_col\", link_name=\"indy0_tcp\",\n",
    "                            center=(0,0,0.02), dims=(0.11,0.11, 0.04), rpy=(0,0,0), color=(0.0,0.8,0.0,0.5),\n",
    "                            collision=True)\n",
    "gscene.create_safe(gtype=GEOTYPE.CYLINDER, name=\"indy0_pole\", link_name=\"indy0_tcp\",\n",
    "                            center=(0,0,0.055), dims=(0.03,0.03, 0.030), rpy=(0,0,0), color=(0.8,0.8,0.8,1),\n",
    "                            collision=False)\n",
    "gscene.create_safe(gtype=GEOTYPE.CYLINDER, name=\"indy0_pole_col\", link_name=\"indy0_tcp\",\n",
    "                            center=(0,0,0.055), dims=(0.07,0.07, 0.030), rpy=(0,0,0), color=(0.0,0.8,0.0,0.2),\n",
    "                            collision=True)\n",
    "\n",
    "gscene.create_safe(gtype=GEOTYPE.BOX, name=\"indy0_brushbase\", link_name=\"indy0_tcp\",\n",
    "                            center=(0,0,0.0775), dims=(0.06, 0.14, 0.015), rpy=(0,0,np.pi/4), color=(0.8,0.8,0.8,1),\n",
    "                            collision=False)\n",
    "gscene.create_safe(gtype=GEOTYPE.BOX, name=\"brush_face\", link_name=\"indy0_tcp\",\n",
    "                            center=(0,0,0.095), dims=(0.05,0.13, 0.015), rpy=(0,0,np.pi/4), color=(1.0,1.0,0.94,1),\n",
    "                            collision=False)\n",
    "gscene.create_safe(gtype=GEOTYPE.BOX, name=\"brush_face_col\", link_name=\"indy0_tcp\",\n",
    "                            center=(0,0,0.080), dims=(0.08,0.18, 0.02), rpy=(0,0,np.pi/4), color=(0.0,0.8,0.0,0.5),\n",
    "                            collision=True)"
   ]
  },
  {
   "cell_type": "code",
   "execution_count": null,
   "metadata": {},
   "outputs": [],
   "source": []
  },
  {
   "cell_type": "markdown",
   "metadata": {},
   "source": [
    "## add box"
   ]
  },
  {
   "cell_type": "code",
   "execution_count": null,
   "metadata": {},
   "outputs": [],
   "source": [
    "gtem_dict = s_builder.detect_and_register(level_mask=[DetectionLevel.MOVABLE])"
   ]
  },
  {
   "cell_type": "code",
   "execution_count": null,
   "metadata": {},
   "outputs": [],
   "source": [
    "# give clearance from the track surface\n",
    "CLEARANCE = 1e-3\n",
    "Ttrack = track.get_tf(crob.home_dict)\n",
    "Ttrack_inv = SE3_inv(Ttrack)\n",
    "for gtem in gtem_dict.values():\n",
    "    verts, _ = gtem.get_vertice_radius_from(crob.home_dict, from_link=\"base_link\")\n",
    "    verts_loc = np.matmul(Ttrack_inv[:3,:3], verts.transpose())+Ttrack_inv[:3,3:]\n",
    "    off = track.dims[2]/2-np.min(verts_loc[2,:])+CLEARANCE\n",
    "    center_loc = np.matmul(Ttrack_inv[:3,:3], gtem.center) + Ttrack_inv[:3,3]\n",
    "    center_loc_new = center_loc + [0,0,off]\n",
    "    center_new = np.matmul(Ttrack[:3,:3], center_loc_new) + Ttrack[:3,3]\n",
    "    gtem.set_offset_tf(center=center_new)"
   ]
  },
  {
   "cell_type": "code",
   "execution_count": null,
   "metadata": {},
   "outputs": [],
   "source": [
    "gscene.update_markers_all()"
   ]
  },
  {
   "cell_type": "code",
   "execution_count": null,
   "metadata": {},
   "outputs": [],
   "source": []
  },
  {
   "cell_type": "markdown",
   "metadata": {},
   "source": [
    "## Register binders"
   ]
  },
  {
   "cell_type": "code",
   "execution_count": null,
   "metadata": {},
   "outputs": [],
   "source": [
    "from pkg.planning.constraint.constraint_actor import Gripper2Tool, PlacePlane, SweepTool, SweepFramer, FixtureSlot"
   ]
  },
  {
   "cell_type": "code",
   "execution_count": null,
   "metadata": {},
   "outputs": [],
   "source": [
    "gscene.create_safe(gtype=GEOTYPE.SPHERE, name=\"grip1\", link_name=\"panda1_hand\", \n",
    "                 dims=(0.01,)*3, center=(0,0,0.112), rpy=(-np.pi/2,0,0), color=(1,0,0,1), display=True, collision=False, fixed=True)\n",
    "\n",
    "pscene.create_binder(bname=\"grip1\", gname=\"grip1\", rname=\"panda1\", _type=Gripper2Tool, point=(0,0,0), rpy=(0,0,0))\n",
    "pscene.create_binder(bname=\"track_face\", gname=\"track_face\", _type=PlacePlane)\n",
    "pscene.create_binder(bname=\"brush_face\", gname=\"brush_face\", rname=\"indy0\", _type=SweepFramer, point=(0,0,0.00), \n",
    "                     rpy=(0,np.pi,0))"
   ]
  },
  {
   "cell_type": "code",
   "execution_count": null,
   "metadata": {},
   "outputs": [],
   "source": []
  },
  {
   "cell_type": "markdown",
   "metadata": {},
   "source": [
    "## add objects"
   ]
  },
  {
   "cell_type": "code",
   "execution_count": null,
   "metadata": {},
   "outputs": [],
   "source": [
    "from pkg.planning.constraint.constraint_subject import \\\n",
    "        CustomObject, Grasp2Point, PlacePoint, SweepPoint, SweepFrame, SweepTask, BoxObject, FixturePoint, AbstractObject"
   ]
  },
  {
   "cell_type": "code",
   "execution_count": null,
   "metadata": {},
   "outputs": [],
   "source": [
    "box1 = pscene.create_object(oname=\"box1\", gname=\"box1\", _type=BoxObject, hexahedral=True)\n",
    "box2 = pscene.create_object(oname=\"box2\", gname=\"box2\", _type=BoxObject, hexahedral=True)\n",
    "# box3= pscene.create_object(oname=\"box3\", gname=\"box3\", _type=BoxObject, hexahedral=True)"
   ]
  },
  {
   "cell_type": "code",
   "execution_count": null,
   "metadata": {},
   "outputs": [],
   "source": [
    "from pkg.planning.constraint.constraint_common import MotionConstraint\n",
    "from pkg.planning.constraint.constraint_subject import AbstractTask\n",
    "from pkg.planning.constraint.constraint_subject import SweepLineTask"
   ]
  },
  {
   "cell_type": "code",
   "execution_count": null,
   "metadata": {},
   "outputs": [],
   "source": [
    "for i_t, track_tem in enumerate(track_list):\n",
    "    wp1, wp2, tline = track_tem\n",
    "    sweep1 = pscene.create_object(oname=\"sweep{}\".format(i_t+1), gname=\"track_face\", _type=SweepLineTask, \n",
    "                                 action_points_dict = {wp1.name: SweepFrame(wp1.name, wp1, [0,0,0.005], [0,0,0]),\n",
    "                                                       wp2.name: SweepFrame(wp2.name, wp2, [0,0,0.005], [0,0,0])},\n",
    "                                geometry_vertical = tline)"
   ]
  },
  {
   "cell_type": "code",
   "execution_count": null,
   "metadata": {},
   "outputs": [],
   "source": [
    "# pscene.remove_object(\"sweep3\")"
   ]
  },
  {
   "cell_type": "markdown",
   "metadata": {},
   "source": [
    "### planners"
   ]
  },
  {
   "cell_type": "code",
   "execution_count": null,
   "metadata": {
    "scrolled": false
   },
   "outputs": [],
   "source": [
    "from pkg.planning.motion.moveit.moveit_planner import MoveitPlanner\n",
    "mplan = MoveitPlanner(pscene)\n",
    "mplan.update_gscene()\n",
    "from pkg.planning.task.rrt import TaskRRT\n",
    "tplan = TaskRRT(pscene)\n",
    "tplan.prepare()\n",
    "ppline.set_motion(mplan)\n",
    "ppline.set_sampler(tplan)"
   ]
  },
  {
   "cell_type": "code",
   "execution_count": null,
   "metadata": {},
   "outputs": [],
   "source": []
  },
  {
   "cell_type": "markdown",
   "metadata": {},
   "source": [
    "## motion filters"
   ]
  },
  {
   "cell_type": "code",
   "execution_count": null,
   "metadata": {},
   "outputs": [],
   "source": [
    "from pkg.planning.filtering.grasp_filter import GraspChecker\n",
    "from pkg.planning.filtering.reach_filter import ReachChecker\n",
    "from pkg.planning.filtering.latticized_filter import LatticedChecker\n",
    "\n",
    "gcheck = GraspChecker(pscene, \n",
    "                      end_link_couple_dict= {\n",
    "                          \"indy0_tcp\": [\"indy0_tcp\", \"indy0_link6\"],\n",
    "                          \"panda1_hand\": [\"panda1_hand\", \"panda1_link6\"],\n",
    "                          \"base_link\":[\"base_link\"]})\n",
    "rcheck = ReachChecker(pscene)\n",
    "checkers_all = [gcheck, rcheck]\n",
    "# lcheck = LatticedChecker(pscene, gcheck)\n",
    "# checkers_all.append(lcheck)"
   ]
  },
  {
   "cell_type": "code",
   "execution_count": null,
   "metadata": {},
   "outputs": [],
   "source": [
    "mplan.motion_filters = checkers_all"
   ]
  },
  {
   "cell_type": "code",
   "execution_count": null,
   "metadata": {},
   "outputs": [],
   "source": [
    "gscene.show_pose(crob.home_pose)"
   ]
  },
  {
   "cell_type": "code",
   "execution_count": null,
   "metadata": {},
   "outputs": [],
   "source": []
  },
  {
   "cell_type": "markdown",
   "metadata": {},
   "source": [
    "## Set initial condition"
   ]
  },
  {
   "cell_type": "code",
   "execution_count": null,
   "metadata": {},
   "outputs": [],
   "source": [
    "from pkg.planning.constraint.constraint_common \\\n",
    "            import sample_redundancy, combine_redundancy\n",
    "gtimer = GlobalTimer.instance()\n",
    "initial_state = pscene.update_state(crob.home_pose)\n",
    "print(initial_state.node)"
   ]
  },
  {
   "cell_type": "code",
   "execution_count": null,
   "metadata": {},
   "outputs": [],
   "source": [
    "pscene.subject_name_list"
   ]
  },
  {
   "cell_type": "code",
   "execution_count": null,
   "metadata": {},
   "outputs": [],
   "source": []
  },
  {
   "cell_type": "markdown",
   "metadata": {},
   "source": [
    "# Node Sampler"
   ]
  },
  {
   "cell_type": "code",
   "execution_count": null,
   "metadata": {},
   "outputs": [],
   "source": [
    "from pkg.planning.sampling.node_sampling import make_state_param_hashable, UniformNodeSampler"
   ]
  },
  {
   "cell_type": "code",
   "execution_count": null,
   "metadata": {},
   "outputs": [],
   "source": [
    "##\n",
    "# @class NodeSampler\n",
    "# @biref uniformly sample nodes by decaying probability of sampled node\n",
    "class GrowingSampler:\n",
    "    def __init__(self, log2_decay=1):\n",
    "        self.log2_decay = log2_decay\n",
    "\n",
    "    def init(self, tplan, multiprocess_manager):\n",
    "        self.node_dict = tplan.node_dict\n",
    "        self.multiprocess_manager = multiprocess_manager\n",
    "        if multiprocess_manager is not None:\n",
    "            self.log2_prob_dict = multiprocess_manager.dict()\n",
    "            self.prob_lock = multiprocess_manager.Lock()\n",
    "        else:\n",
    "            self.log2_prob_dict = dict()\n",
    "            self.prob_lock = DummyBlock()\n",
    "\n",
    "    def __call__(self, nodes):\n",
    "        nodes = list(nodes)\n",
    "        for node in nodes:\n",
    "            if node not in self.log2_prob_dict:\n",
    "                self.log2_prob_dict[node] = 1.0\n",
    "        probs = [np.exp2(self.log2_prob_dict[node]) for node in nodes]\n",
    "        sumprobs = np.sum(probs)\n",
    "        if sumprobs == 0:\n",
    "            print(\"probability saturated\")\n",
    "#             probs = np.ones_like(probs)/len(probs)\n",
    "            with self.prob_lock:\n",
    "                for k in self.node_dict.keys():\n",
    "                    self.log2_prob_dict[k] = 1.0\n",
    "        else:\n",
    "            probs = np.divide(probs, sumprobs)\n",
    "        i_node = np.random.choice(len(nodes), p=probs)\n",
    "        node = nodes[i_node]\n",
    "        with self.prob_lock:\n",
    "            self.log2_prob_dict[node] = self.log2_prob_dict[node] - self.log2_decay\n",
    "        return node\n",
    "\n",
    "    \n",
    "##\n",
    "# @class NodeSampler\n",
    "# @biref uniformly sample nodes by decaying probability of sampled node\n",
    "class PenaltyNodeSampler:\n",
    "    def __init__(self, log2_decay=1, log2_count_decay=1):\n",
    "        self.log2_decay = log2_decay\n",
    "        self.log2_count_decay = log2_count_decay\n",
    "\n",
    "    def init(self, tplan, multiprocess_manager):\n",
    "        self.node_dict = tplan.node_dict\n",
    "        self.multiprocess_manager = multiprocess_manager\n",
    "        if multiprocess_manager is not None:\n",
    "            self.log2_prob_dict = multiprocess_manager.dict()\n",
    "            self.log2_count_dict = multiprocess_manager.dict()\n",
    "            self.prob_lock = multiprocess_manager.Lock()\n",
    "        else:\n",
    "            self.log2_prob_dict = dict()\n",
    "            self.log2_count_dict = dict()\n",
    "            self.prob_lock = DummyBlock()\n",
    "\n",
    "        for k in self.node_dict.keys():\n",
    "            self.log2_prob_dict[k] = 1.0\n",
    "            self.log2_count_dict[k] = 0.0\n",
    "\n",
    "    def __call__(self, nodes):\n",
    "        nodes = list(nodes)\n",
    "        probs = [np.exp2(self.log2_prob_dict[node]+self.log2_count_dict[node]) for node in nodes]\n",
    "        sumprobs = np.sum(probs)\n",
    "        if sumprobs == 0:\n",
    "            print(\"probability saturated\")\n",
    "#             probs = np.ones_like(probs)/len(probs)\n",
    "            with self.prob_lock:\n",
    "                for k in self.node_dict.keys():\n",
    "                    self.log2_prob_dict[k] = 1.0\n",
    "                    self.log2_count_dict[k] = 0.0\n",
    "        else:\n",
    "            probs = np.divide(probs, sumprobs)\n",
    "        i_node = np.random.choice(len(nodes), p=probs)\n",
    "        node = nodes[i_node]\n",
    "        with self.prob_lock:\n",
    "            self.log2_prob_dict[node] = self.log2_prob_dict[node] - self.log2_decay\n",
    "        return node\n",
    "    \n",
    "    def update(self, snode_src, snode_new, connection_result):\n",
    "        if connection_result:\n",
    "            self.log2_count_dict[snode_new.state.node] = self.log2_count_dict[snode_new.state.node] - self.log2_count_decay\n",
    "            "
   ]
  },
  {
   "cell_type": "code",
   "execution_count": null,
   "metadata": {},
   "outputs": [],
   "source": [
    "tplan.new_node_sampler = PenaltyNodeSampler(3, 1)\n",
    "tplan.parent_node_sampler = UniformNodeSampler(3)\n",
    "# tplan.parent_snode_sampler = GrowingSampler(3)"
   ]
  },
  {
   "cell_type": "code",
   "execution_count": null,
   "metadata": {},
   "outputs": [],
   "source": []
  },
  {
   "cell_type": "markdown",
   "metadata": {},
   "source": [
    "# CustomRule"
   ]
  },
  {
   "cell_type": "code",
   "execution_count": null,
   "metadata": {},
   "outputs": [],
   "source": [
    "from pkg.planning.constraint.constraint_subject import SweepLineTask"
   ]
  },
  {
   "cell_type": "code",
   "execution_count": null,
   "metadata": {},
   "outputs": [],
   "source": [
    "class CustomRule:\n",
    "    def __init__(self, pscene):\n",
    "        self.pscene = pscene\n",
    "        self.chain_dict = pscene.get_robot_chain_dict()\n",
    "        self.NUM_WP_TRIALS = 1\n",
    "        \n",
    "    def init(self, tplan, multiprocess_manager):\n",
    "        self.multiprocess_manager = multiprocess_manager\n",
    "        if multiprocess_manager is not None:\n",
    "            self.call_count_dict = multiprocess_manager.dict()\n",
    "            self.count_lock = multiprocess_manager.Lock()\n",
    "        else:\n",
    "            self.call_count_dict = dict()\n",
    "            self.count_lock = DummyBlock()\n",
    "            \n",
    "        no_enter_sidxes = [stype==SweepLineTask for stype in enumerate(self.pscene.subject_type_list)]\n",
    "        no_enter_initials = [tplan.initial_state.node[sidx] for sidx in no_enter_sidxes]\n",
    "        self.sorted_unstop_keys = sorted(tplan.unstoppable_terminals.keys())\n",
    "            \n",
    "        self.node_dict={}\n",
    "        self.enter_dict={}\n",
    "        for node, leafs in tplan.node_dict.items():\n",
    "            self.node_dict[node] = deepcopy(leafs)\n",
    "            if not all([node[k] in terms for k, terms in tplan.unstoppable_terminals.items()]):\n",
    "                tplan.node_dict[node] = set([]) ## unstoppable node change will be reserved by this custom rule\n",
    "            else:\n",
    "                # entering to unstoppable terminal is controlled by this rule\n",
    "                self.enter_dict[node] = set([leaf for leaf in leafs \n",
    "                                             if any([leaf[k] not in terms for k, terms in tplan.unstoppable_terminals.items()])\n",
    "                                             and all([leaf[k]>=leaf[k+1] for k in self.sorted_unstop_keys[:-1]])]) # the task is done in order\n",
    "                tplan.node_dict[node] = set([leaf for leaf in leafs \n",
    "                                             if all([leaf[k] in terms for k, terms in tplan.unstoppable_terminals.items()])\n",
    "                                            ])\n",
    "\n",
    "        self.node_parent_dict={}\n",
    "        for node, parents in tplan.node_parent_dict.items():\n",
    "            self.node_parent_dict[node] = deepcopy(parents)\n",
    "            tplan.node_parent_dict[node] = parents = set(\n",
    "                [parent for parent in parents ## unstoppable node change will be reserved by this custom rule\n",
    "                 if all([parent[k] in terms for k, terms in tplan.unstoppable_terminals.items()])])\n",
    "        \n",
    "    def __call__(self, tplan, snode_src, snode_new, connection_result):\n",
    "#         print(\"CustomRule call\")\n",
    "        stack_res = False\n",
    "        stack_items = []\n",
    "        if connection_result and snode_new.state.node in self.enter_dict:\n",
    "            with tplan.snode_dict_lock:\n",
    "                nb_nodes = list(tplan.neighbor_nodes.keys())\n",
    "                for nb_node in nb_nodes:\n",
    "                    for ukey in self.sorted_unstop_keys:\n",
    "                        if nb_node[ukey] < snode_new.state.node[ukey]:\n",
    "                            del tplan.neighbor_nodes[nb_node]\n",
    "                            break # task is done in order\n",
    "        \n",
    "        if connection_result and snode_new.state.node in self.enter_dict:\n",
    "            stack_res, stack_items = True, list(self.enter_dict[snode_new.state.node])\n",
    "            \n",
    "        if snode_src is not None:\n",
    "            with self.count_lock:\n",
    "                if snode_src.idx in self.call_count_dict:\n",
    "                    self.call_count_dict[snode_src.idx] = self.call_count_dict[snode_src.idx] + [snode_new.state.node]\n",
    "                else:\n",
    "                    self.call_count_dict[snode_src.idx] = [snode_new.state.node]\n",
    "            \n",
    "            node_src = snode_src.state.node\n",
    "            node_new = snode_new.state.node\n",
    "            diff_sidxes = np.where([ ntem_s != ntem_g for ntem_s, ntem_g in zip(node_src, node_new)])[0]\n",
    "#             print(\"{}->{} , diff: {}\".format(node_src, node_new, diff_sidxes))\n",
    "            if len(diff_sidxes)==0:\n",
    "                return stack_res, stack_items\n",
    "            diff_sidx = diff_sidxes[0]\n",
    "            diff_sname = self.pscene.subject_name_list[diff_sidx]\n",
    "            diff_subject = self.pscene.subject_dict[diff_sname]\n",
    "            \n",
    "            if isinstance(diff_subject, SweepLineTask):\n",
    "#                 print(\"Rule for SweepLineTask\")\n",
    "                with tplan.snode_dict_lock:\n",
    "                    if node_src[diff_sidx] not in tplan.unstoppable_terminals[diff_sidx]: # from intermediate wp -> remove access to them\n",
    "                        snode_list = tplan.node_snode_dict[node_src]\n",
    "                        if snode_src.idx in snode_list:\n",
    "#                             print(\"Removing {} from {}: {} not in {}\".format(snode_src.idx, snode_list, node_src[diff_sidx], tplan.unstoppable_terminals[diff_sidx]))\n",
    "#                             print(snode_list)\n",
    "                            snode_list.remove(snode_src.idx)\n",
    "                            tplan.node_snode_dict[node_src] = snode_list\n",
    "                            print(tplan.node_snode_dict[node_src])\n",
    "                        if len(snode_list) == 0 and node_new in tplan.neighbor_nodes:\n",
    "                            del tplan.neighbor_nodes[node_new]\n",
    "                    if connection_result:\n",
    "                        if node_new[diff_sidx] in tplan.unstoppable_terminals[diff_sidx]: ## in terminal condition\n",
    "#                             print(\"Check home: {} in {}\".format(node_new[diff_sidx], tplan.unstoppable_terminals[diff_sidx]))\n",
    "                            link_name = self.pscene.gscene.NAME_DICT[snode_new.state.binding_state[diff_sidx][-1]].link_name\n",
    "                            rname_candis = [rname for rname, chain_vals in self.chain_dict.items() if \n",
    "                                            link_name in chain_vals['link_names']]\n",
    "                            if len(rname_candis)==0:\n",
    "                                print(\"no robot candis\")\n",
    "                            else:\n",
    "#                                 print(\"reserve homing = {}\".format(snode_new.idx))\n",
    "                                newstate = snode_new.state.copy(self.pscene)\n",
    "                                jidxes = self.pscene.combined_robot.idx_dict[rname_candis[0]]\n",
    "                                newstate.Q[jidxes] = self.pscene.combined_robot.home_pose[jidxes]\n",
    "                                return True, [newstate] + stack_items\n",
    "                        else:## not in terminal condition\n",
    "#                             print(\"Reserve next wp from {}\".format(snode_new.idx))\n",
    "                            snode_list = tplan.node_snode_dict[node_new]\n",
    "                            if snode_new.idx in snode_list:\n",
    "#                                 print(\"Removing {} from {} as next wp is reserved\".format(snode_new.idx, snode_list))\n",
    "                                snode_list.remove(snode_new.idx)\n",
    "                                tplan.node_snode_dict[node_new] = snode_list\n",
    "                            next_node_candis = list(self.node_dict[node_new])\n",
    "                            assert len(next_node_candis) == 1, \"non-terminal sweep task should have only 1 leaf ({}) {}-{}\".format(diff_sidx, node_new, next_node_candis)\n",
    "                            return True, next_node_candis*self.NUM_WP_TRIALS + stack_items\n",
    "                return stack_res, stack_items\n",
    "            \n",
    "            if isinstance(diff_subject, AbstractObject):\n",
    "#                 print(\"Rule for AbstractObject\")\n",
    "                if connection_result:\n",
    "                    link_name1 = snode_src.state.state_param[diff_sname][0]\n",
    "                    link_name2 = snode_new.state.state_param[diff_sname][0]\n",
    "                    rname_candis = [rname for rname, chain_vals in self.chain_dict.items() if \n",
    "                                   link_name1 in chain_vals['link_names'] or link_name2 in chain_vals['link_names']]\n",
    "                    if len(rname_candis)==0:\n",
    "                        print(\"no robot candis\")\n",
    "                        return stack_res, stack_items\n",
    "                    else:\n",
    "#                         print(\"try homing\")\n",
    "                        newstate = snode_new.state.copy(self.pscene)\n",
    "                        jidxes = self.pscene.combined_robot.idx_dict[rname_candis[0]]\n",
    "                        newstate.Q[jidxes] = self.pscene.combined_robot.home_pose[jidxes]\n",
    "                        return True, [newstate] + stack_items\n",
    "        return stack_res, stack_items"
   ]
  },
  {
   "cell_type": "code",
   "execution_count": null,
   "metadata": {},
   "outputs": [],
   "source": [
    "tplan.custom_rule = CustomRule(pscene)"
   ]
  },
  {
   "cell_type": "code",
   "execution_count": null,
   "metadata": {},
   "outputs": [],
   "source": [
    "mplan.reset_log(False)"
   ]
  },
  {
   "cell_type": "code",
   "execution_count": null,
   "metadata": {
    "scrolled": true
   },
   "outputs": [
    {
     "name": "stdout",
     "output_type": "stream",
     "text": [
      "======================================================================================================================================================\n",
      "try: 534 - ('track_face', 'grip1', 2, 2, 0)->('track_face', 'track_face', 2, 2, 0)\n",
      "try: 534 - ('track_face', 'grip1', 2, 2, 0)->('track_face', 'grip1', 2, 2, 1)\n",
      "try: 533 - ('track_face', 'grip1', 2, 2, 0)->('track_face', 'track_face', 2, 2, 0)\n",
      "result: 534 - ('track_face', 'grip1', 2, 2, 0)->('track_face', 'track_face', 2, 2, 0) = fail\n",
      "result: 533 - ('track_face', 'grip1', 2, 2, 0)->('track_face', 'track_face', 2, 2, 0) = fail\n",
      "try: 519 - ('track_face', 'track_face', 2, 2, 0)->('track_face', 'grip1', 2, 2, 0)\n",
      "try: 519 - ('track_face', 'track_face', 2, 2, 0)->('grip1', 'track_face', 2, 2, 0)\n",
      "result: 519 - ('track_face', 'track_face', 2, 2, 0)->('track_face', 'grip1', 2, 2, 0) = fail\n",
      "try: 520 - ('track_face', 'track_face', 2, 2, 0)->('track_face', 'grip1', 2, 2, 0)\n",
      "result: 519 - ('track_face', 'track_face', 2, 2, 0)->('grip1', 'track_face', 2, 2, 0) = fail\n",
      "try: 533 - ('track_face', 'grip1', 2, 2, 0)->('track_face', 'track_face', 2, 2, 0)\n",
      "result: 520 - ('track_face', 'track_face', 2, 2, 0)->('track_face', 'grip1', 2, 2, 0) = fail\n",
      "result: 533 - ('track_face', 'grip1', 2, 2, 0)->('track_face', 'track_face', 2, 2, 0) = fail\n",
      "try: 521 - ('track_face', 'track_face', 2, 2, 0)->('grip1', 'track_face', 2, 2, 0)\n",
      "try: 533 - ('track_face', 'grip1', 2, 2, 0)->('track_face', 'track_face', 2, 2, 0)\n",
      "result: 521 - ('track_face', 'track_face', 2, 2, 0)->('grip1', 'track_face', 2, 2, 0) = fail\n",
      "try: 524 - ('track_face', 'track_face', 2, 2, 0)->('grip1', 'track_face', 2, 2, 0)\n",
      "result: 533 - ('track_face', 'grip1', 2, 2, 0)->('track_face', 'track_face', 2, 2, 0) = fail\n",
      "try: 520 - ('track_face', 'track_face', 2, 2, 0)->('track_face', 'grip1', 2, 2, 0)\n",
      "result: 524 - ('track_face', 'track_face', 2, 2, 0)->('grip1', 'track_face', 2, 2, 0) = fail\n",
      "try: 529 - ('track_face', 'grip1', 2, 2, 0)->('track_face', 'track_face', 2, 2, 0)\n",
      "result: 529 - ('track_face', 'grip1', 2, 2, 0)->('track_face', 'track_face', 2, 2, 0) = fail\n",
      "result: 520 - ('track_face', 'track_face', 2, 2, 0)->('track_face', 'grip1', 2, 2, 0) = fail\n",
      "try: 519 - ('track_face', 'track_face', 2, 2, 0)->('grip1', 'track_face', 2, 2, 0)\n",
      "try: 520 - ('track_face', 'track_face', 2, 2, 0)->('track_face', 'grip1', 2, 2, 0)\n",
      "transition motion tried: False\n",
      "result: 482 - ('track_face', 'grip1', 2, 0, 0)->('track_face', 'grip1', 2, 1, 0) = fail\n",
      "result: 519 - ('track_face', 'track_face', 2, 2, 0)->('grip1', 'track_face', 2, 2, 0) = fail\n",
      "try: 534 - ('track_face', 'grip1', 2, 2, 0)->('track_face', 'track_face', 2, 2, 0)\n",
      "try: 534 - ('track_face', 'grip1', 2, 2, 0)->('track_face', 'track_face', 2, 2, 0)\n",
      "result: 534 - ('track_face', 'grip1', 2, 2, 0)->('track_face', 'track_face', 2, 2, 0) = fail\n",
      "try: 521 - ('track_face', 'track_face', 2, 2, 0)->('track_face', 'grip1', 2, 2, 0)\n",
      "joint motion tried: True\n",
      "result: 533 - ('track_face', 'grip1', 2, 2, 0)->('track_face', 'grip1', 2, 2, 0) = success\n",
      "branching: 533->535 (91.63/200.0 s, steps/err: 15(576.775074005 ms)/7.4285315985e-16)\n",
      "======================================================================================================================================================\n",
      "try: 535 - ('track_face', 'grip1', 2, 2, 0)->('track_face', 'grip1', 2, 2, 1)\n",
      "transition motion tried: True\n",
      "result: 520 - ('track_face', 'track_face', 2, 2, 0)->('track_face', 'grip1', 2, 2, 0) = success\n",
      "branching: 520->536 (91.76/200.0 s, steps/err: 35(278.506040573 ms)/0.00177658586642)\n",
      "joint motion tried: True\n",
      "======================================================================================================================================================\n",
      "result: 531 - ('grip1', 'track_face', 2, 2, 0)->('grip1', 'track_face', 2, 2, 0) = success\n",
      "try: 536 - ('track_face', 'grip1', 2, 2, 0)->('track_face', 'grip1', 2, 2, 0)\n",
      "branching: 531->537 (91.82/200.0 s, steps/err: 35(926.474094391 ms)/7.93521823618e-16)\n",
      "======================================================================================================================================================\n",
      "try: 536 - ('track_face', 'grip1', 2, 2, 0)->('track_face', 'grip1', 2, 2, 1)\n",
      "result: 536 - ('track_face', 'grip1', 2, 2, 0)->('track_face', 'grip1', 2, 2, 1) = fail\n",
      "try: 537 - ('grip1', 'track_face', 2, 2, 0)->('grip1', 'track_face', 2, 2, 1)\n",
      "transition motion tried: True\n",
      "result: 534 - ('track_face', 'grip1', 2, 2, 0)->('track_face', 'track_face', 2, 2, 0) = success\n",
      "branching: 534->538 (92.03/200.0 s, steps/err: 31(520.164012909 ms)/0.00125969746304)\n",
      "======================================================================================================================================================\n",
      "try: 538 - ('track_face', 'track_face', 2, 2, 0)->('track_face', 'track_face', 2, 2, 0)\n",
      "transition motion tried: True\n",
      "result: 537 - ('grip1', 'track_face', 2, 2, 0)->('grip1', 'track_face', 2, 2, 1) = success\n",
      "branching: 537->539 (92.14/200.0 s, steps/err: 6(149.373054504 ms)/0.00192376928706)\n",
      "======================================================================================================================================================\n",
      "try: 538 - ('track_face', 'track_face', 2, 2, 0)->('track_face', 'track_face', 2, 2, 1)\n",
      "result: 538 - ('track_face', 'track_face', 2, 2, 0)->('track_face', 'track_face', 2, 2, 1) = fail\n",
      "try: 539 - ('grip1', 'track_face', 2, 2, 1)->('grip1', 'track_face', 2, 2, 2)\n"
     ]
    }
   ],
   "source": [
    "gtimer.reset()\n",
    "# goal_nodes = [(\"track_face\",\"track_face\")+(2,0,0)]\n",
    "goal_nodes = [(\"track_face\",\"track_face\")+tuple([2 for _ in range(TRACK_NUM)])]\n",
    "# goal_nodes = [(\"floor\",\"floor\",\"floor\", 2, 2, 2)]\n",
    "gtimer.tic(\"plan\")\n",
    "ppline.search(initial_state, goal_nodes, verbose=True, display=False, dt_vis=0.01, \n",
    "              timeout_loop=200, multiprocess=True, timeout=10, timeout_constrained=50)\n",
    "gtimer.toc(\"plan\")\n",
    "schedules = ppline.tplan.find_schedules()\n",
    "schedules_sorted = ppline.sort_schedule(schedules)\n",
    "snode_schedule = ppline.idxSchedule2SnodeScedule(schedules_sorted[0])"
   ]
  },
  {
   "cell_type": "code",
   "execution_count": null,
   "metadata": {
    "scrolled": false
   },
   "outputs": [],
   "source": [
    "print(gtimer)"
   ]
  },
  {
   "cell_type": "code",
   "execution_count": null,
   "metadata": {},
   "outputs": [],
   "source": [
    "# for i, sidx in enumerate([1, 2, 4, 6]):\n",
    "#     save_json(\"traj{}.json\".format(i), tplan.snode_dict[sidx].traj)\n",
    "#     gscene.show_motion(tplan.snode_dict[sidx].traj, period=0.05)\n",
    "        "
   ]
  },
  {
   "cell_type": "code",
   "execution_count": null,
   "metadata": {},
   "outputs": [],
   "source": [
    "# import matplotlib.pyplot as plt\n",
    "# kin = stereo.camera_list[0]\n",
    "# rs = stereo.camera_list[1]"
   ]
  },
  {
   "cell_type": "code",
   "execution_count": null,
   "metadata": {},
   "outputs": [],
   "source": [
    "# plt.figure(figsize=(15,10))\n",
    "# plt.imshow(kin.get_image())"
   ]
  },
  {
   "cell_type": "code",
   "execution_count": null,
   "metadata": {},
   "outputs": [],
   "source": [
    "# plt.figure(figsize=(15,10))\n",
    "# plt.imshow(rs.get_image())"
   ]
  },
  {
   "cell_type": "code",
   "execution_count": null,
   "metadata": {},
   "outputs": [],
   "source": []
  },
  {
   "cell_type": "markdown",
   "metadata": {},
   "source": [
    "## play searched plan"
   ]
  },
  {
   "cell_type": "code",
   "execution_count": null,
   "metadata": {},
   "outputs": [],
   "source": [
    "ppline.play_schedule(snode_schedule[:2], period=0.001)\n",
    "pscene.set_object_state(initial_state)\n",
    "gscene.show_pose(crob.home_pose)\n",
    "time.sleep(0.5)\n",
    "gscene.show_pose(crob.home_pose)"
   ]
  },
  {
   "cell_type": "code",
   "execution_count": null,
   "metadata": {
    "scrolled": false
   },
   "outputs": [],
   "source": [
    "ppline.play_schedule(snode_schedule, period=0.03)"
   ]
  },
  {
   "cell_type": "code",
   "execution_count": null,
   "metadata": {},
   "outputs": [],
   "source": [
    "# print(\"schedule length: {}\".format(len(snode_schedule)))\n",
    "# for i_s,  snode in enumerate(snode_schedule):\n",
    "#     print(\"{}: {}\".format(i_s, snode.state.node))"
   ]
  },
  {
   "cell_type": "code",
   "execution_count": null,
   "metadata": {},
   "outputs": [],
   "source": [
    "# save_json(\"traj.json\", snode_schedule[1].traj)"
   ]
  },
  {
   "cell_type": "markdown",
   "metadata": {},
   "source": [
    "## execute plan"
   ]
  },
  {
   "cell_type": "code",
   "execution_count": null,
   "metadata": {},
   "outputs": [],
   "source": [
    "crob.reset_connection([True,True])"
   ]
  },
  {
   "cell_type": "code",
   "execution_count": null,
   "metadata": {},
   "outputs": [],
   "source": [
    "indy = crob.robot_dict[\"indy0\"]\n",
    "panda = crob.robot_dict[\"panda1\"]\n",
    "with indy:\n",
    "    indy.set_joint_vel_level(1)\n",
    "    indy.set_task_vel_level(1)"
   ]
  },
  {
   "cell_type": "code",
   "execution_count": null,
   "metadata": {},
   "outputs": [],
   "source": [
    "crob.joint_make_sure(crob.home_pose)"
   ]
  },
  {
   "cell_type": "code",
   "execution_count": null,
   "metadata": {},
   "outputs": [],
   "source": [
    "indy.stop_tracking()"
   ]
  },
  {
   "cell_type": "code",
   "execution_count": null,
   "metadata": {},
   "outputs": [],
   "source": [
    "crob.grasp_by_dict({\"indy0\":False, \"panda1\": False})"
   ]
  },
  {
   "cell_type": "code",
   "execution_count": null,
   "metadata": {
    "scrolled": true
   },
   "outputs": [],
   "source": [
    "ppline.execute_schedule(snode_schedule, vel_scale=0.3, acc_scale=0.05)"
   ]
  },
  {
   "cell_type": "code",
   "execution_count": null,
   "metadata": {},
   "outputs": [],
   "source": [
    "# for i_s, snode in enumerate(snode_schedule[1:]):\n",
    "#     save_json(\"traj%02d.json\"%(i_s), snode.traj)"
   ]
  },
  {
   "cell_type": "code",
   "execution_count": null,
   "metadata": {},
   "outputs": [],
   "source": [
    "indy = crob.robot_dict[\"indy0\"]\n",
    "indy.stop_tracking()"
   ]
  },
  {
   "cell_type": "code",
   "execution_count": null,
   "metadata": {},
   "outputs": [],
   "source": []
  },
  {
   "cell_type": "code",
   "execution_count": null,
   "metadata": {},
   "outputs": [],
   "source": []
  },
  {
   "cell_type": "markdown",
   "metadata": {},
   "source": [
    "## MUST CHECK! no more than 1 trial from non-terminal nodes\n",
    "## MUST CHECK! no more than 1 trial to same framed motion\n",
    "## MUST CHECK! efficient binding/param sampling for gripper"
   ]
  },
  {
   "cell_type": "code",
   "execution_count": null,
   "metadata": {},
   "outputs": [],
   "source": [
    "for k, v in tplan.custom_rule.call_count_dict.items():\n",
    "    print(\"{}: {} - {}\".format(k,tplan.snode_dict[k].state.node, sorted(v)))"
   ]
  },
  {
   "cell_type": "markdown",
   "metadata": {},
   "source": [
    "## NOTE\n",
    "* 위에 가운데 열 어떻게  0,1,1,1,1,2가 나오지? -> 일방통행 작업 플래그 추가\n",
    "* 균등 샘플링 - 샘플 할때마다 노드별/전환별 확률 조정\n",
    "* goal-directed extension 추가."
   ]
  },
  {
   "cell_type": "code",
   "execution_count": null,
   "metadata": {},
   "outputs": [],
   "source": [
    "tplan.node_dict[('grip0', 'goal', 0, 1, 2)]"
   ]
  },
  {
   "cell_type": "code",
   "execution_count": null,
   "metadata": {},
   "outputs": [],
   "source": []
  },
  {
   "cell_type": "markdown",
   "metadata": {},
   "source": [
    "## extend preserving goal-matching items"
   ]
  },
  {
   "cell_type": "code",
   "execution_count": null,
   "metadata": {
    "scrolled": true
   },
   "outputs": [],
   "source": [
    "print(gtimer)"
   ]
  },
  {
   "cell_type": "code",
   "execution_count": null,
   "metadata": {},
   "outputs": [],
   "source": []
  },
  {
   "cell_type": "markdown",
   "metadata": {},
   "source": [
    "## extend only no reservation"
   ]
  },
  {
   "cell_type": "code",
   "execution_count": null,
   "metadata": {
    "scrolled": true
   },
   "outputs": [],
   "source": [
    "print(gtimer)"
   ]
  },
  {
   "cell_type": "markdown",
   "metadata": {},
   "source": [
    "## no extension"
   ]
  },
  {
   "cell_type": "code",
   "execution_count": null,
   "metadata": {
    "scrolled": true
   },
   "outputs": [],
   "source": [
    "print(gtimer)"
   ]
  },
  {
   "cell_type": "markdown",
   "metadata": {},
   "source": [
    "## extend_toward goal"
   ]
  },
  {
   "cell_type": "code",
   "execution_count": null,
   "metadata": {
    "scrolled": true
   },
   "outputs": [],
   "source": [
    "print(gtimer)"
   ]
  }
 ],
 "metadata": {
  "kernelspec": {
   "display_name": "Python 2",
   "language": "python",
   "name": "python2"
  },
  "language_info": {
   "codemirror_mode": {
    "name": "ipython",
    "version": 2
   },
   "file_extension": ".py",
   "mimetype": "text/x-python",
   "name": "python",
   "nbconvert_exporter": "python",
   "pygments_lexer": "ipython2",
   "version": "2.7.17"
  }
 },
 "nbformat": 4,
 "nbformat_minor": 2
}
