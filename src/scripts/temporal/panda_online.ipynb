{
 "cells": [
  {
   "cell_type": "markdown",
   "metadata": {},
   "source": [
    "## prepare robots\n",
    "1. turn on panda and indy\n",
    "2. connect indy with conty (192.168.0.63 or 141.223.193.55)\n",
    "3. reset indy\n",
    "4. open panda desk (https://192.168.0.13/desk/) and open joints\n",
    "5. hold the panda control handle\n",
    "6. start panda repeater\n",
    "```bash\n",
    "panda@192.168.0.172\n",
    "roslaunch panda_ros_repeater joint_velocity_repeater.launch robot_ip:=192.168.0.13 load_gripper:=false\n",
    "```\n",
    "7. run cells below"
   ]
  },
  {
   "cell_type": "code",
   "execution_count": null,
   "metadata": {},
   "outputs": [],
   "source": []
  },
  {
   "cell_type": "code",
   "execution_count": 1,
   "metadata": {},
   "outputs": [
    {
     "name": "stdout",
     "output_type": "stream",
     "text": [
      "connection_list\n",
      "[False, False]\n",
      "Please create a subscriber to the marker\n",
      "publication OK\n",
      "published: [0, 0, 0, 0, 0, 0, 0]\n",
      "Please create a subscriber to the marker\n"
     ]
    }
   ],
   "source": [
    "import os\n",
    "os.chdir(os.path.join(os.environ[\"RNB_PLANNING_DIR\"], 'src'))\n",
    "\n",
    "from pkg.controller.combined_robot import *\n",
    "from pkg.project_config import *\n",
    "\n",
    "crob = CombinedRobot(robots_on_scene=[\n",
    "    RobotConfig(0, RobotType.panda, ((0,0,0),(0,0,0)),\n",
    "                \"{}/{}\".format(PANDA_REPEATER_IP, PANDA_ROBOT_IP))]\n",
    "              , connection_list=[False, False])\n",
    "\n",
    "from pkg.geometry.builder.scene_builder import SceneBuilder\n",
    "s_builder = SceneBuilder(None, base_link=\"base_link\")\n",
    "# s_builder.reset_reference_coord(ref_name=\"floor\")\n",
    "gscene = s_builder.create_gscene(crob)\n",
    "\n",
    "from pkg.planning.scene import PlanningScene\n",
    "pscene = PlanningScene(gscene, combined_robot=crob)\n",
    "\n",
    "from pkg.geometry.geotype import *\n",
    "from pkg.planning.constraint.constraint_actor import Gripper2Tool\n",
    "gscene.create_safe(gtype=GEOTYPE.SPHERE, name=\"grip0\", link_name=\"panda0_hand\", \n",
    "                 dims=(0.01,)*3, center=(0,0,0.112), rpy=(-np.pi/2,0,0), color=(1,0,0,1), display=True, collision=False, fixed=True)\n",
    "pscene.create_binder(bname=\"grip0\", gname=\"grip0\", rname=\"panda0\", _type=Gripper2Tool, point=(0,0,0), rpy=(0,0,0))\n",
    "\n",
    "from pkg.planning.motion.moveit.moveit_planner import MoveitPlanner\n",
    "from pkg.planning.motion.moveit.moveit_py import JointState\n",
    "mplan = MoveitPlanner(pscene)\n",
    "mplan.update_gscene()"
   ]
  },
  {
   "cell_type": "code",
   "execution_count": null,
   "metadata": {},
   "outputs": [],
   "source": []
  },
  {
   "cell_type": "code",
   "execution_count": 5,
   "metadata": {},
   "outputs": [],
   "source": [
    "from pkg.controller.repeater.panda_repeater import PandaRepeater\n",
    "from pkg.controller.repeater.indy_repeater import indytraj_client\n",
    "from pkg.project_config import *\n",
    "\n",
    "class lpf3d:\n",
    "    def __init__(self, tau, ts):\n",
    "        self.ts = ts\n",
    "        self.tau = tau\n",
    "        self.y = np.zeros(3)\n",
    "        \n",
    "    def update(self, x):\n",
    "        self.y = self.tau/(self.tau+self.ts)*self.y + self.ts/(self.tau+self.ts)*x\n",
    "        return self.y\n",
    "    \n",
    "import threading\n",
    "import time\n",
    "\n",
    "gtimer = GlobalTimer.instance()\n",
    "\n",
    "class stop_holder:\n",
    "    def __init__(self):\n",
    "        self.stop = False\n",
    "    \n",
    "    def stop_now(self):\n",
    "        self.stop = True\n",
    "\n",
    "def thread_read_fun(indy, lpf, shold, scale=1.0):\n",
    "    shold.stop = False\n",
    "    with indy:\n",
    "        zero_x = indy.get_ai(0)*scale\n",
    "        zero_y = indy.get_ai(1)*scale\n",
    "        while not shold.stop:\n",
    "            gtimer.tic(\"thread_read_fun\")\n",
    "            sig_x = 0\n",
    "            sig_y = np.clip((float(indy.get_ai(0))*scale-zero_x)/5000,-1, 1)\n",
    "            sig_z = -np.clip((float(indy.get_ai(1))*scale-zero_y)/5000,-1, 1)\n",
    "            lpf.update(np.array([sig_x, sig_y, sig_z]))\n",
    "            gtimer.toc(\"thread_read_fun\")\n",
    "            \n",
    "def panda_fun(shold, home_pose, d_max=0.1):\n",
    "    shold.stop = False\n",
    "    q0 = home_pose\n",
    "    jac_flat = mplan.planner.get_jacobian(\"panda0\", JointState(7, *q0))\n",
    "    jac_flat = [jac_flat[i_j] for i_j in range(len(jac_flat))]\n",
    "    jac = np.reshape(jac_flat, (7, 6)).transpose()\n",
    "    pinvj = np.linalg.pinv(jac)\n",
    "    \n",
    "    panda.move_joint_interpolated(q0)\n",
    "\n",
    "    qcur = np.array(panda.get_qcur()) if q0 is None else q0    \n",
    "    panda.reset(q0)\n",
    "    try:\n",
    "        while not shold.stop:\n",
    "            sig_x, sig_y, sig_z = lpf.y*d_max\n",
    "            dp = [sig_x, sig_y, sig_z, 0, 0, 0]\n",
    "            dq = np.matmul(pinvj, dp)\n",
    "            panda.move_possible_joints_x4(q0 + dq)\n",
    "    except Exception as e:\n",
    "        print(e)\n",
    "    finally:\n",
    "        shold.stop = True\n",
    "        for _ in range(200):\n",
    "            sig_x, sig_y, sig_z = lpf.update(np.array([0, 0, 0]))*d_max\n",
    "            dp = [sig_x, sig_y, sig_z, 0, 0, 0]\n",
    "            dq = np.matmul(pinvj, dp)\n",
    "            panda.move_possible_joints_x4(q0 + dq)"
   ]
  },
  {
   "cell_type": "code",
   "execution_count": 6,
   "metadata": {},
   "outputs": [
    {
     "name": "stdout",
     "output_type": "stream",
     "text": [
      "connection_list\n",
      "[True]\n",
      "Connect: Server IP (192.168.0.63)\n"
     ]
    }
   ],
   "source": [
    "lpf = lpf3d(1, 0.1)\n",
    "shold = stop_holder()\n",
    "crob.reset_connection([True])\n",
    "panda = crob.robot_dict['panda0']\n",
    "indy = indytraj_client(INDY_IP, robot_name=\"NRMK-Indy7\")\n",
    "\n",
    "t_read = threading.Thread(target=thread_read_fun, args=(indy, lpf, shold), kwargs={'scale':1.0})\n",
    "t_read.start()\n",
    "\n",
    "t_panda = threading.Thread(target=panda_fun, args=(shold, crob.home_pose), kwargs={'d_max':0.1})\n",
    "t_panda.start()"
   ]
  },
  {
   "cell_type": "code",
   "execution_count": 7,
   "metadata": {},
   "outputs": [],
   "source": [
    "shold.stop_now()"
   ]
  },
  {
   "cell_type": "code",
   "execution_count": null,
   "metadata": {},
   "outputs": [],
   "source": []
  }
 ],
 "metadata": {
  "kernelspec": {
   "display_name": "Python 2",
   "language": "python",
   "name": "python2"
  },
  "language_info": {
   "codemirror_mode": {
    "name": "ipython",
    "version": 2
   },
   "file_extension": ".py",
   "mimetype": "text/x-python",
   "name": "python",
   "nbconvert_exporter": "python",
   "pygments_lexer": "ipython2",
   "version": "2.7.17"
  }
 },
 "nbformat": 4,
 "nbformat_minor": 2
}
