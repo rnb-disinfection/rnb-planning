{
 "cells": [
  {
   "cell_type": "code",
   "execution_count": 1,
   "metadata": {},
   "outputs": [
    {
     "name": "stdout",
     "output_type": "stream",
     "text": [
      "connection command:\n",
      "panda0: False\n",
      "Unable to register with master node [http://localhost:11311]: master may not be running yet. Will keep trying.\n",
      "Please create a subscriber to the marker\n",
      "publication OK\n",
      "published: [0, 0, 0, 0, 0, 0, 0]\n",
      "Please create a subscriber to the marker\n"
     ]
    }
   ],
   "source": [
    "from __future__ import print_function\n",
    "import os\n",
    "os.chdir(os.path.join(os.environ[\"RNB_PLANNING_DIR\"], 'src'))\n",
    "from pkg.controller.robot_config import RobotType\n",
    "from pkg.utils.test_scripts import *\n",
    "from pkg.planning.filtering.filter_interface import *\n",
    "from pkg.planning.constraint.constraint_common import BindingTransform\n",
    "\n",
    "ROBOT_TYPE = RobotType.panda\n",
    "VISUALIZE = True\n",
    "\n",
    "ROBOT_NAME, TOOL_LINK, TOOL_XYZ, TOOL_RPY, HOME_POSE, GRIP_DEPTH = get_single_robot_params(ROBOT_TYPE)\n",
    "s_builder, pscene = prepare_single_robot_scene(ROBOT_TYPE, ROBOT_NAME, TOOL_LINK, TOOL_XYZ, TOOL_RPY, VISUALIZE=VISUALIZE)\n",
    "crob, gscene = pscene.combined_robot, pscene.gscene"
   ]
  },
  {
   "cell_type": "markdown",
   "metadata": {},
   "source": [
    "## check GraspChecker scene"
   ]
  },
  {
   "cell_type": "code",
   "execution_count": null,
   "metadata": {
    "scrolled": true
   },
   "outputs": [],
   "source": [
    "from pkg.planning.filtering.grasp_filter import GraspChecker\n",
    "gcheck = GraspChecker(pscene)\n",
    "gcheck.show_vertices = True\n",
    "\n",
    "cpath = os.path.join(SCENE_PATH, \"GraspChecker\")\n",
    "files = sorted(os.listdir(cpath))\n",
    "print(files)"
   ]
  },
  {
   "cell_type": "code",
   "execution_count": null,
   "metadata": {},
   "outputs": [],
   "source": [
    "file_path = os.path.join(cpath, files[7])\n",
    "print(\"file_path: {}\".format(file_path))\n",
    "scene_data = load_pickle(file_path)\n",
    "state, btf, Q_dict, kwargs, error_state, result = load_unpack_scene_args(pscene, scene_data)\n",
    "\n",
    "res = gcheck.check(btf=btf, Q_dict=Q_dict, **kwargs)\n",
    "print(\"result/log: {} / {}\".format(res, result))"
   ]
  },
  {
   "cell_type": "code",
   "execution_count": null,
   "metadata": {},
   "outputs": [],
   "source": []
  },
  {
   "cell_type": "markdown",
   "metadata": {},
   "source": [
    "## check ReachChecker scene"
   ]
  },
  {
   "cell_type": "code",
   "execution_count": null,
   "metadata": {},
   "outputs": [],
   "source": [
    "from pkg.planning.filtering.reach_filter import ReachChecker\n",
    "rcheck = ReachChecker(pscene)\n",
    "\n",
    "cpath = os.path.join(SCENE_PATH, \"ReachChecker\")\n",
    "files = sorted(os.listdir(cpath))\n",
    "print(files)"
   ]
  },
  {
   "cell_type": "code",
   "execution_count": null,
   "metadata": {},
   "outputs": [],
   "source": [
    "file_path = os.path.join(cpath, files[0])\n",
    "print(\"file_path: {}\".format(file_path))\n",
    "scene_data = load_pickle(file_path)\n",
    "state, btf, Q_dict, kwargs, error_state, result = load_unpack_scene_args(pscene, scene_data)\n",
    "\n",
    "res = rcheck.check(btf=btf, Q_dict=Q_dict, **kwargs)\n",
    "print(\"result/log: {} / {}\".format(res, result))"
   ]
  },
  {
   "cell_type": "code",
   "execution_count": null,
   "metadata": {},
   "outputs": [],
   "source": []
  },
  {
   "cell_type": "markdown",
   "metadata": {},
   "source": [
    "## check LatticedChecker scene"
   ]
  },
  {
   "cell_type": "code",
   "execution_count": 2,
   "metadata": {},
   "outputs": [
    {
     "name": "stdout",
     "output_type": "stream",
     "text": [
      "File count= 882\n"
     ]
    }
   ],
   "source": [
    "from pkg.planning.filtering.grasp_filter import GraspChecker\n",
    "gcheck = GraspChecker(pscene)\n",
    "\n",
    "from pkg.planning.filtering.latticized_filter import LatticedChecker\n",
    "lcheck = LatticedChecker(pscene, gcheck=gcheck)\n",
    "\n",
    "cpath = os.path.join(SCENE_PATH, \"LatticedChecker\")\n",
    "files = sorted(os.listdir(cpath))\n",
    "print(\"File count= {}\".format(len(files)))\n",
    "\n",
    "from pkg.planning.filtering.latticized_filter import ARM_SHAPE, GRASP_SHAPE, \\\n",
    "    WDH_GRASP, L_CELL_GRASP, OFFSET_ZERO_GRASP, WDH_ARM, L_CELL_ARM, OFFSET_ZERO_ARM\n",
    "from pkg.planning.filtering.lattice_model.latticizer_py import get_centers\n",
    "\n",
    "centers_grasp = get_centers(GRASP_SHAPE, L_CELL_GRASP, OFFSET_ZERO_GRASP)\n",
    "centers_arm = get_centers(ARM_SHAPE, L_CELL_ARM, OFFSET_ZERO_ARM)\n",
    "\n",
    "assert len(pscene.robot_chain_dict.values())==1, \"not single robot scene\"\n",
    "shoulder_height = lcheck.shoulder_height_dict[ROBOT_NAME]"
   ]
  },
  {
   "cell_type": "code",
   "execution_count": 3,
   "metadata": {},
   "outputs": [
    {
     "name": "stdout",
     "output_type": "stream",
     "text": [
      "file_path: /home/rnb/Projects/rnb-planning/data/checker_scenes/LatticedChecker/00000001-OK.pkl\n",
      "result/log: False / False (0.1)\n"
     ]
    }
   ],
   "source": [
    "file_path = os.path.join(cpath, files[1])\n",
    "print(\"file_path: {}\".format(file_path))\n",
    "scene_data = load_pickle(file_path)\n",
    "state, btf, Q_dict, kwargs, error_state, result = load_unpack_scene_args(pscene, scene_data)\n",
    "res = lcheck.check(btf=btf, Q_dict=Q_dict, **kwargs)\n",
    "print(\"result/log: {} / {} ({})\".format(res, result[1]>0.5, np.round(result[1], 2)))"
   ]
  },
  {
   "cell_type": "code",
   "execution_count": 4,
   "metadata": {},
   "outputs": [],
   "source": [
    "gtimer = GlobalTimer.instance()\n",
    "gtimer.reset()\n",
    "res_saved_list = []\n",
    "res_infer_list = []\n",
    "val_saves = []\n",
    "val_infers = []\n",
    "for fname in files[:100]:\n",
    "    file_path = os.path.join(cpath, fname)\n",
    "    scene_data = load_pickle(file_path)\n",
    "    state, btf, Q_dict, kwargs, error_state, result = load_unpack_scene_args(pscene, scene_data)\n",
    "    with gtimer.block(\"test\"):\n",
    "        res = lcheck.check(btf=btf, Q_dict=Q_dict, **kwargs)\n",
    "    val_saves.append(result)\n",
    "    val_infers.append(np.array(lcheck.result_p_dict['panda'][0]))\n",
    "    res_saved_list.append(result[1]>0.5)\n",
    "    res_infer_list.append(res)\n",
    "\n",
    "val_saves = np.array(val_saves)\n",
    "val_infers = np.array(val_infers)"
   ]
  },
  {
   "cell_type": "code",
   "execution_count": 5,
   "metadata": {},
   "outputs": [],
   "source": [
    "lcheck.query_quit_dict[\"panda\"][0] = True"
   ]
  },
  {
   "cell_type": "code",
   "execution_count": 6,
   "metadata": {},
   "outputs": [
    {
     "name": "stdout",
     "output_type": "stream",
     "text": [
      "==================================================\n",
      "           PP         PN        100\n",
      "GP         68          0    100.00%\n",
      "GN          0         32    100.00%\n",
      "AL    100.00%    100.00%    100.00%\n",
      "==================================================\n",
      "test: \t2183.8 ms/100 = 21.8 ms (20.027/39.199)\n",
      "set_relation: \t5.5 ms/100 = 0.1 ms (0.049/0.09)\n",
      "effector: \t167.9 ms/100 = 1.7 ms (1.287/2.664)\n",
      "arm: \t114.9 ms/100 = 1.1 ms (0.814/2.522)\n",
      "indexing_vertices: \t63.8 ms/100 = 0.6 ms (0.409/1.031)\n",
      "query_wait_response: \t1805.1 ms/100 = 18.1 ms (16.944/35.249)\n",
      "\n",
      "==================================================\n"
     ]
    }
   ],
   "source": [
    "print(\"=\"*50)\n",
    "print_confusion_mat(GT=res_saved_list, Res=res_infer_list)\n",
    "print(\"=\"*50)\n",
    "print(gtimer)\n",
    "print(\"=\"*50)"
   ]
  },
  {
   "cell_type": "code",
   "execution_count": null,
   "metadata": {},
   "outputs": [],
   "source": []
  },
  {
   "cell_type": "code",
   "execution_count": null,
   "metadata": {},
   "outputs": [],
   "source": []
  },
  {
   "cell_type": "code",
   "execution_count": null,
   "metadata": {},
   "outputs": [],
   "source": [
    "grasp_img = lcheck.grasp_img_p_dict[ROBOT_TYPE.name][0]\n",
    "grasp_tool_img = grasp_img[:,:,:,0]\n",
    "grasp_obj_img = grasp_img[:,:,:,1]\n",
    "grasp_tar_img = grasp_img[:,:,:,2]\n",
    "arm_img = lcheck.arm_img_p_dict[ROBOT_TYPE.name][0][:,:,:,0]\n",
    "rh_vals = lcheck.rh_vals_p_dict[ROBOT_TYPE.name][0]\n",
    "\n",
    "grasp_tool_idx = np.where(grasp_tool_img)\n",
    "grasp_obj_idx = np.where(grasp_obj_img)\n",
    "grasp_tar_idx = np.where(grasp_tar_img)\n",
    "arm_tar_idx = np.where(arm_img)\n",
    "radius, theta, height = lcheck.rth_last\n",
    "offset_ee = cyl2cart(radius, theta, height)\n",
    "print(\"r, h match: {}\".format(np.equal(rh_vals, [radius, height])))\n",
    "\n",
    "gscene.clear_highlight()\n",
    "for i_c, center in enumerate(centers_arm[arm_tar_idx]):\n",
    "    center_rot = np.matmul(Rot_axis(3, theta), center) + [0,0,shoulder_height]\n",
    "    gscene.add_highlight_axis(\"arm\", \"%05d\"%(i_c), \"base_link\", dims=(0.03,) * 3,\n",
    "                              center=center_rot, orientation_mat=np.identity(3),\n",
    "                              color=(0.5, 0.5, 0.5, 0.7), axis=None)\n",
    "    \n",
    "for i_c, center in enumerate(centers_grasp[grasp_tool_idx]):\n",
    "    center_rot = np.matmul(Rot_axis(3, theta), center) + offset_ee\n",
    "    gscene.add_highlight_axis(\"tool\", \"%05d\"%(i_c), \"base_link\", dims=(0.02,) * 3,\n",
    "                              center=center_rot, orientation_mat=np.identity(3),\n",
    "                              color=(0, 1, 0, 0.7), axis=None)\n",
    "\n",
    "for i_c, center in enumerate(centers_grasp[grasp_tar_idx]):\n",
    "    center_rot = np.matmul(Rot_axis(3, theta), center) + offset_ee\n",
    "    gscene.add_highlight_axis(\"tar\", \"%05d\"%(i_c), \"base_link\", dims=(0.02,) * 3,\n",
    "                              center=center_rot, orientation_mat=np.identity(3),\n",
    "                              color=(1, 0, 0, 0.7), axis=None)\n",
    "    \n",
    "for i_c, center in enumerate(centers_grasp[grasp_obj_idx]):\n",
    "    center_rot = np.matmul(Rot_axis(3, theta), center) + offset_ee\n",
    "    gscene.add_highlight_axis(\"obj\", \"%05d\"%(i_c), \"base_link\", dims=(0.02,) * 3,\n",
    "                              center=center_rot, orientation_mat=np.identity(3),\n",
    "                              color=(1, 1, 0, 0.7), axis=None)\n",
    "    \n",
    "pscene.show_binding(btf)"
   ]
  },
  {
   "cell_type": "code",
   "execution_count": null,
   "metadata": {},
   "outputs": [],
   "source": []
  },
  {
   "cell_type": "code",
   "execution_count": null,
   "metadata": {},
   "outputs": [],
   "source": []
  },
  {
   "cell_type": "markdown",
   "metadata": {},
   "source": [
    "### find idx that deals with object other than obj_0"
   ]
  },
  {
   "cell_type": "code",
   "execution_count": null,
   "metadata": {},
   "outputs": [],
   "source": [
    "for file_idx in range(1173):\n",
    "    scene_data = load_pickle(os.path.join(SCENE_PATH, \"{:08d}-OK.pkl\".format(file_idx)))\n",
    "    global_log = scene_data[\"global_log\"]\n",
    "#     if global_log[\"subject\"] != \"obj_0\" and global_log[\"actor\"] != \"grip0\":\n",
    "    if global_log[\"actor\"] != \"grip0\":\n",
    "        print(file_idx)"
   ]
  },
  {
   "cell_type": "code",
   "execution_count": null,
   "metadata": {},
   "outputs": [],
   "source": []
  }
 ],
 "metadata": {
  "kernelspec": {
   "display_name": "Python 2",
   "language": "python",
   "name": "python2"
  },
  "language_info": {
   "codemirror_mode": {
    "name": "ipython",
    "version": 2
   },
   "file_extension": ".py",
   "mimetype": "text/x-python",
   "name": "python",
   "nbconvert_exporter": "python",
   "pygments_lexer": "ipython2",
   "version": "2.7.17"
  }
 },
 "nbformat": 4,
 "nbformat_minor": 2
}
