{
 "cells": [
  {
   "cell_type": "code",
   "execution_count": 1,
   "metadata": {},
   "outputs": [
    {
     "name": "stdout",
     "output_type": "stream",
     "text": [
      "connection command:\n",
      "indy0: False\n",
      "Please create a subscriber to the marker\n",
      "publication OK\n",
      "published: [0, 0, 0, 0, 0, 0]\n",
      "Please create a subscriber to the marker\n"
     ]
    }
   ],
   "source": [
    "from __future__ import print_function\n",
    "import os\n",
    "os.chdir(os.path.join(os.environ[\"RNB_PLANNING_DIR\"], 'src'))\n",
    "from pkg.controller.robot_config import RobotType\n",
    "from pkg.utils.test_scripts import *\n",
    "from pkg.planning.filtering.filter_interface import *\n",
    "from pkg.planning.constraint.constraint_common import BindingTransform\n",
    "\n",
    "ROBOT_TYPE = RobotType.indy7\n",
    "VISUALIZE = True\n",
    "\n",
    "ROBOT_NAME, TOOL_LINK, TOOL_XYZ, TOOL_RPY, HOME_POSE, GRIP_DEPTH = get_single_robot_params(ROBOT_TYPE)\n",
    "s_builder, pscene = prepare_single_robot_scene(ROBOT_TYPE, ROBOT_NAME, TOOL_LINK, TOOL_XYZ, TOOL_RPY, VISUALIZE=VISUALIZE)\n",
    "crob, gscene = pscene.combined_robot, pscene.gscene"
   ]
  },
  {
   "cell_type": "markdown",
   "metadata": {},
   "source": [
    "## check GraspChecker scene"
   ]
  },
  {
   "cell_type": "code",
   "execution_count": 2,
   "metadata": {},
   "outputs": [
    {
     "name": "stdout",
     "output_type": "stream",
     "text": [
      "['00000000-OK.pkl', '00000001-OK.pkl', '00000002-OK.pkl', '00000003-OK.pkl', '00000004-OK.pkl', '00000005-OK.pkl', '00000006-OK.pkl', '00000007-OK.pkl', '00000008-OK.pkl', '00000009-OK.pkl', '00000010-OK.pkl', '00000011-OK.pkl', '00000012-OK.pkl', '00000013-OK.pkl']\n"
     ]
    }
   ],
   "source": [
    "from pkg.planning.filtering.grasp_filter import GraspChecker\n",
    "gcheck = GraspChecker(pscene)\n",
    "gcheck.show_vertices = True\n",
    "\n",
    "cpath = os.path.join(SCENE_PATH, \"GraspChecker\")\n",
    "files = sorted(os.listdir(cpath))\n",
    "print(files)"
   ]
  },
  {
   "cell_type": "code",
   "execution_count": 9,
   "metadata": {},
   "outputs": [
    {
     "name": "stdout",
     "output_type": "stream",
     "text": [
      "file_path: /home/rnb/Projects/rnb-planning/data/checker_scenes/GraspChecker/00000007-OK.pkl\n",
      "res: True (0.03)\n",
      "wait for key\n",
      "result/log: True / True\n"
     ]
    }
   ],
   "source": [
    "file_path = os.path.join(cpath, files[7])\n",
    "print(\"file_path: {}\".format(file_path))\n",
    "scene_data = load_pickle(file_path)\n",
    "state, btf, Q_dict, kwargs, error_state, result = load_unpack_scene_args(pscene, scene_data)\n",
    "\n",
    "res = gcheck.check(btf=btf, Q_dict=Q_dict, **kwargs)\n",
    "print(\"result/log: {} / {}\".format(res, result))"
   ]
  },
  {
   "cell_type": "code",
   "execution_count": null,
   "metadata": {},
   "outputs": [],
   "source": []
  },
  {
   "cell_type": "markdown",
   "metadata": {},
   "source": [
    "## check ReachChecker scene"
   ]
  },
  {
   "cell_type": "code",
   "execution_count": 10,
   "metadata": {},
   "outputs": [
    {
     "name": "stdout",
     "output_type": "stream",
     "text": [
      "['00000000-OK.pkl', '00000001-OK.pkl', '00000002-OK.pkl', '00000003-OK.pkl', '00000004-OK.pkl', '00000005-OK.pkl']\n"
     ]
    }
   ],
   "source": [
    "from pkg.planning.filtering.reach_filter import ReachChecker\n",
    "rcheck = ReachChecker(pscene)\n",
    "\n",
    "cpath = os.path.join(SCENE_PATH, \"ReachChecker\")\n",
    "files = sorted(os.listdir(cpath))\n",
    "print(files)"
   ]
  },
  {
   "cell_type": "code",
   "execution_count": 20,
   "metadata": {},
   "outputs": [
    {
     "name": "stdout",
     "output_type": "stream",
     "text": [
      "file_path: /home/rnb/Projects/rnb-planning/data/checker_scenes/ReachChecker/00000000-OK.pkl\n",
      "result/log: True / True\n"
     ]
    }
   ],
   "source": [
    "file_path = os.path.join(cpath, files[0])\n",
    "print(\"file_path: {}\".format(file_path))\n",
    "scene_data = load_pickle(file_path)\n",
    "state, btf, Q_dict, kwargs, error_state, result = load_unpack_scene_args(pscene, scene_data)\n",
    "\n",
    "res = rcheck.check(btf=btf, Q_dict=Q_dict, **kwargs)\n",
    "print(\"result/log: {} / {}\".format(res, result))"
   ]
  },
  {
   "cell_type": "code",
   "execution_count": null,
   "metadata": {},
   "outputs": [],
   "source": []
  },
  {
   "cell_type": "markdown",
   "metadata": {},
   "source": [
    "## check LatticedChecker scene"
   ]
  },
  {
   "cell_type": "code",
   "execution_count": 14,
   "metadata": {},
   "outputs": [
    {
     "name": "stdout",
     "output_type": "stream",
     "text": [
      "\u001b[91m===== WARNING: latticized_filter in DEBUG MODE====\u001b[0m\n",
      "['00000000-OK.pkl', '00000001-OK.pkl', '00000002-OK.pkl', '00000003-OK.pkl', '00000004-OK.pkl']\n"
     ]
    }
   ],
   "source": [
    "from pkg.planning.filtering.latticized_filter import LatticedChecker\n",
    "lcheck = LatticedChecker(pscene, gcheck=gcheck)\n",
    "\n",
    "cpath = os.path.join(SCENE_PATH, \"LatticedChecker\")\n",
    "files = sorted(os.listdir(cpath))\n",
    "print(files)\n",
    "\n",
    "from pkg.planning.filtering.latticized_filter import ARM_SHAPE, GRASP_SHAPE, \\\n",
    "    WDH_GRASP, L_CELL_GRASP, OFFSET_ZERO_GRASP, WDH_ARM, L_CELL_ARM, OFFSET_ZERO_ARM\n",
    "from pkg.planning.filtering.lattice_model.latticizer_py import get_centers\n",
    "\n",
    "centers_grasp = get_centers(GRASP_SHAPE, L_CELL_GRASP, OFFSET_ZERO_GRASP)\n",
    "centers_arm = get_centers(ARM_SHAPE, L_CELL_ARM, OFFSET_ZERO_ARM)\n",
    "\n",
    "assert len(pscene.robot_chain_dict.values())==1, \"not single robot scene\"\n",
    "shoulder_height = lcheck.shoulder_height_dict[ROBOT_NAME]"
   ]
  },
  {
   "cell_type": "code",
   "execution_count": 37,
   "metadata": {},
   "outputs": [
    {
     "name": "stdout",
     "output_type": "stream",
     "text": [
      "file_path: /home/rnb/Projects/rnb-planning/data/checker_scenes/LatticedChecker/00000004-OK.pkl\n",
      "result/log: True / True\n"
     ]
    }
   ],
   "source": [
    "file_path = os.path.join(cpath, files[4])\n",
    "print(\"file_path: {}\".format(file_path))\n",
    "scene_data = load_pickle(file_path)\n",
    "state, btf, Q_dict, kwargs, error_state, result = load_unpack_scene_args(pscene, scene_data)\n",
    "res = lcheck.check(btf=btf, Q_dict=Q_dict, **kwargs)\n",
    "print(\"result/log: {} / {}\".format(res, result[1]>0.5))"
   ]
  },
  {
   "cell_type": "code",
   "execution_count": 38,
   "metadata": {},
   "outputs": [
    {
     "name": "stdout",
     "output_type": "stream",
     "text": [
      "r, h match: [ True  True]\n"
     ]
    }
   ],
   "source": [
    "grasp_img = lcheck.grasp_img_p_dict[ROBOT_TYPE.name][0]\n",
    "grasp_tool_img = grasp_img[:,:,:,0]\n",
    "grasp_obj_img = grasp_img[:,:,:,1]\n",
    "grasp_tar_img = grasp_img[:,:,:,2]\n",
    "arm_img = lcheck.arm_img_p_dict[ROBOT_TYPE.name][0][:,:,:,0]\n",
    "rh_vals = lcheck.rh_vals_p_dict[ROBOT_TYPE.name][0]\n",
    "\n",
    "grasp_tool_idx = np.where(grasp_tool_img)\n",
    "grasp_obj_idx = np.where(grasp_obj_img)\n",
    "grasp_tar_idx = np.where(grasp_tar_img)\n",
    "arm_tar_idx = np.where(arm_img)\n",
    "radius, theta, height = lcheck.rth_last\n",
    "offset_ee = cyl2cart(radius, theta, height)\n",
    "print(\"r, h match: {}\".format(np.equal(rh_vals, [radius, height])))\n",
    "\n",
    "for i_c, center in enumerate(centers_arm[arm_tar_idx]):\n",
    "    center_rot = np.matmul(Rot_axis(3, theta), center) + [0,0,shoulder_height]\n",
    "    gscene.create_safe(GEOTYPE.SPHERE, \"arm_%05d\"%(i_c), \"base_link\", dims=(0.03,) * 3,\n",
    "                                            center=center_rot, rpy=(0, 0, 0), color=(0.5, 0.5, 0.5, 0.7),\n",
    "                                            display=True, collision=False, fixed=True)\n",
    "    \n",
    "for i_c, center in enumerate(centers_grasp[grasp_tool_idx]):\n",
    "    center_rot = np.matmul(Rot_axis(3, theta), center) + offset_ee\n",
    "    gscene.create_safe(GEOTYPE.SPHERE, \"tool_%05d\"%(i_c), \"base_link\", dims=(0.02,) * 3,\n",
    "                                            center=center_rot, rpy=(0, 0, 0), color=(0, 1, 0, 0.7),\n",
    "                                            display=True, collision=False, fixed=True)\n",
    "\n",
    "for i_c, center in enumerate(centers_grasp[grasp_tar_idx]):\n",
    "    center_rot = np.matmul(Rot_axis(3, theta), center) + offset_ee\n",
    "    gscene.create_safe(GEOTYPE.SPHERE, \"tar_%05d\"%(i_c), \"base_link\", dims=(0.02,) * 3,\n",
    "                                            center=center_rot, rpy=(0, 0, 0), color=(1, 0, 0, 0.7),\n",
    "                                            display=True, collision=False, fixed=True)\n",
    "    \n",
    "for i_c, center in enumerate(centers_grasp[grasp_obj_idx]):\n",
    "    center_rot = np.matmul(Rot_axis(3, theta), center) + offset_ee\n",
    "    gscene.create_safe(GEOTYPE.SPHERE, \"obj_%05d\"%(i_c), \"base_link\", dims=(0.025,) * 3,\n",
    "                                            center=center_rot, rpy=(0, 0, 0), color=(1, 1, 0, 0.7),\n",
    "                                            display=True, collision=False, fixed=True)"
   ]
  },
  {
   "cell_type": "code",
   "execution_count": null,
   "metadata": {},
   "outputs": [],
   "source": []
  },
  {
   "cell_type": "code",
   "execution_count": null,
   "metadata": {},
   "outputs": [],
   "source": []
  },
  {
   "cell_type": "markdown",
   "metadata": {},
   "source": [
    "### find idx that deals with object other than obj_0"
   ]
  },
  {
   "cell_type": "code",
   "execution_count": 4,
   "metadata": {},
   "outputs": [
    {
     "name": "stdout",
     "output_type": "stream",
     "text": [
      "1\n",
      "3\n",
      "5\n",
      "7\n",
      "9\n",
      "11\n",
      "13\n",
      "15\n",
      "17\n",
      "19\n",
      "21\n",
      "24\n",
      "26\n",
      "27\n",
      "28\n",
      "30\n",
      "32\n",
      "34\n",
      "36\n",
      "38\n",
      "40\n",
      "42\n",
      "44\n",
      "46\n",
      "48\n",
      "51\n",
      "53\n",
      "55\n",
      "57\n",
      "59\n",
      "61\n",
      "63\n",
      "65\n",
      "67\n",
      "69\n",
      "71\n",
      "73\n",
      "75\n",
      "77\n",
      "79\n",
      "81\n",
      "83\n",
      "85\n",
      "87\n",
      "89\n",
      "94\n",
      "96\n",
      "98\n",
      "100\n",
      "102\n",
      "104\n",
      "106\n",
      "108\n",
      "110\n",
      "112\n",
      "114\n",
      "116\n",
      "119\n",
      "121\n",
      "123\n",
      "125\n",
      "127\n",
      "131\n",
      "133\n",
      "135\n",
      "137\n",
      "139\n",
      "141\n",
      "143\n",
      "145\n",
      "147\n",
      "149\n",
      "151\n",
      "153\n",
      "156\n",
      "158\n",
      "161\n",
      "163\n",
      "165\n",
      "167\n",
      "169\n",
      "171\n",
      "173\n",
      "175\n",
      "177\n",
      "179\n",
      "181\n",
      "183\n",
      "185\n",
      "187\n",
      "189\n",
      "192\n",
      "194\n",
      "196\n",
      "198\n",
      "207\n",
      "208\n",
      "210\n",
      "212\n",
      "214\n",
      "216\n",
      "218\n",
      "220\n",
      "222\n",
      "225\n",
      "271\n",
      "290\n",
      "296\n",
      "306\n",
      "343\n",
      "349\n",
      "361\n",
      "381\n",
      "415\n",
      "416\n",
      "417\n",
      "418\n",
      "419\n",
      "420\n",
      "421\n",
      "486\n",
      "535\n",
      "536\n",
      "537\n",
      "538\n",
      "539\n",
      "540\n",
      "541\n",
      "542\n",
      "543\n",
      "544\n",
      "545\n",
      "546\n",
      "547\n",
      "548\n",
      "549\n",
      "561\n",
      "566\n",
      "586\n",
      "589\n",
      "591\n",
      "596\n",
      "612\n"
     ]
    },
    {
     "ename": "KeyboardInterrupt",
     "evalue": "",
     "output_type": "error",
     "traceback": [
      "\u001b[0;31m---------------------------------------------------------------------------\u001b[0m",
      "\u001b[0;31mKeyboardInterrupt\u001b[0m                         Traceback (most recent call last)",
      "\u001b[0;32m<ipython-input-4-fa743a3c7b35>\u001b[0m in \u001b[0;36m<module>\u001b[0;34m()\u001b[0m\n\u001b[1;32m      1\u001b[0m \u001b[0;32mfor\u001b[0m \u001b[0mfile_idx\u001b[0m \u001b[0;32min\u001b[0m \u001b[0mrange\u001b[0m\u001b[0;34m(\u001b[0m\u001b[0;36m1173\u001b[0m\u001b[0;34m)\u001b[0m\u001b[0;34m:\u001b[0m\u001b[0;34m\u001b[0m\u001b[0m\n\u001b[0;32m----> 2\u001b[0;31m     \u001b[0mscene_data\u001b[0m \u001b[0;34m=\u001b[0m \u001b[0mload_pickle\u001b[0m\u001b[0;34m(\u001b[0m\u001b[0mos\u001b[0m\u001b[0;34m.\u001b[0m\u001b[0mpath\u001b[0m\u001b[0;34m.\u001b[0m\u001b[0mjoin\u001b[0m\u001b[0;34m(\u001b[0m\u001b[0mSCENE_PATH\u001b[0m\u001b[0;34m,\u001b[0m \u001b[0;34m\"{:08d}-OK.pkl\"\u001b[0m\u001b[0;34m.\u001b[0m\u001b[0mformat\u001b[0m\u001b[0;34m(\u001b[0m\u001b[0mfile_idx\u001b[0m\u001b[0;34m)\u001b[0m\u001b[0;34m)\u001b[0m\u001b[0;34m)\u001b[0m\u001b[0;34m\u001b[0m\u001b[0m\n\u001b[0m\u001b[1;32m      3\u001b[0m     \u001b[0mglobal_log\u001b[0m \u001b[0;34m=\u001b[0m \u001b[0mscene_data\u001b[0m\u001b[0;34m[\u001b[0m\u001b[0;34m\"global_log\"\u001b[0m\u001b[0;34m]\u001b[0m\u001b[0;34m\u001b[0m\u001b[0m\n\u001b[1;32m      4\u001b[0m \u001b[0;31m#     if global_log[\"subject\"] != \"obj_0\" and global_log[\"actor\"] != \"grip0\":\u001b[0m\u001b[0;34m\u001b[0m\u001b[0;34m\u001b[0m\u001b[0m\n\u001b[1;32m      5\u001b[0m     \u001b[0;32mif\u001b[0m \u001b[0mglobal_log\u001b[0m\u001b[0;34m[\u001b[0m\u001b[0;34m\"actor\"\u001b[0m\u001b[0;34m]\u001b[0m \u001b[0;34m!=\u001b[0m \u001b[0;34m\"grip0\"\u001b[0m\u001b[0;34m:\u001b[0m\u001b[0;34m\u001b[0m\u001b[0m\n",
      "\u001b[0;32m/home/rnb/Projects/rnb-planning/src/pkg/utils/utils.pyc\u001b[0m in \u001b[0;36mload_pickle\u001b[0;34m(filename)\u001b[0m\n\u001b[1;32m    423\u001b[0m \u001b[0;32mdef\u001b[0m \u001b[0mload_pickle\u001b[0m\u001b[0;34m(\u001b[0m\u001b[0mfilename\u001b[0m\u001b[0;34m)\u001b[0m\u001b[0;34m:\u001b[0m\u001b[0;34m\u001b[0m\u001b[0m\n\u001b[1;32m    424\u001b[0m     \u001b[0;32mwith\u001b[0m \u001b[0mopen\u001b[0m\u001b[0;34m(\u001b[0m\u001b[0mfilename\u001b[0m\u001b[0;34m,\u001b[0m \u001b[0;34m'rb'\u001b[0m\u001b[0;34m)\u001b[0m \u001b[0;32mas\u001b[0m \u001b[0mf\u001b[0m\u001b[0;34m:\u001b[0m\u001b[0;34m\u001b[0m\u001b[0m\n\u001b[0;32m--> 425\u001b[0;31m         \u001b[0mdata\u001b[0m \u001b[0;34m=\u001b[0m \u001b[0mpickle\u001b[0m\u001b[0;34m.\u001b[0m\u001b[0mload\u001b[0m\u001b[0;34m(\u001b[0m\u001b[0mf\u001b[0m\u001b[0;34m)\u001b[0m\u001b[0;34m\u001b[0m\u001b[0m\n\u001b[0m\u001b[1;32m    426\u001b[0m         \u001b[0;32mreturn\u001b[0m \u001b[0mdata\u001b[0m\u001b[0;34m\u001b[0m\u001b[0m\n\u001b[1;32m    427\u001b[0m \u001b[0;34m\u001b[0m\u001b[0m\n",
      "\u001b[0;32m/usr/lib/python2.7/pickle.pyc\u001b[0m in \u001b[0;36mload\u001b[0;34m(file)\u001b[0m\n\u001b[1;32m   1382\u001b[0m \u001b[0;34m\u001b[0m\u001b[0m\n\u001b[1;32m   1383\u001b[0m \u001b[0;32mdef\u001b[0m \u001b[0mload\u001b[0m\u001b[0;34m(\u001b[0m\u001b[0mfile\u001b[0m\u001b[0;34m)\u001b[0m\u001b[0;34m:\u001b[0m\u001b[0;34m\u001b[0m\u001b[0m\n\u001b[0;32m-> 1384\u001b[0;31m     \u001b[0;32mreturn\u001b[0m \u001b[0mUnpickler\u001b[0m\u001b[0;34m(\u001b[0m\u001b[0mfile\u001b[0m\u001b[0;34m)\u001b[0m\u001b[0;34m.\u001b[0m\u001b[0mload\u001b[0m\u001b[0;34m(\u001b[0m\u001b[0;34m)\u001b[0m\u001b[0;34m\u001b[0m\u001b[0m\n\u001b[0m\u001b[1;32m   1385\u001b[0m \u001b[0;34m\u001b[0m\u001b[0m\n\u001b[1;32m   1386\u001b[0m \u001b[0;32mdef\u001b[0m \u001b[0mloads\u001b[0m\u001b[0;34m(\u001b[0m\u001b[0mstr\u001b[0m\u001b[0;34m)\u001b[0m\u001b[0;34m:\u001b[0m\u001b[0;34m\u001b[0m\u001b[0m\n",
      "\u001b[0;32m/usr/lib/python2.7/pickle.pyc\u001b[0m in \u001b[0;36mload\u001b[0;34m(self)\u001b[0m\n\u001b[1;32m    862\u001b[0m             \u001b[0;32mwhile\u001b[0m \u001b[0;36m1\u001b[0m\u001b[0;34m:\u001b[0m\u001b[0;34m\u001b[0m\u001b[0m\n\u001b[1;32m    863\u001b[0m                 \u001b[0mkey\u001b[0m \u001b[0;34m=\u001b[0m \u001b[0mread\u001b[0m\u001b[0;34m(\u001b[0m\u001b[0;36m1\u001b[0m\u001b[0;34m)\u001b[0m\u001b[0;34m\u001b[0m\u001b[0m\n\u001b[0;32m--> 864\u001b[0;31m                 \u001b[0mdispatch\u001b[0m\u001b[0;34m[\u001b[0m\u001b[0mkey\u001b[0m\u001b[0;34m]\u001b[0m\u001b[0;34m(\u001b[0m\u001b[0mself\u001b[0m\u001b[0;34m)\u001b[0m\u001b[0;34m\u001b[0m\u001b[0m\n\u001b[0m\u001b[1;32m    865\u001b[0m         \u001b[0;32mexcept\u001b[0m \u001b[0m_Stop\u001b[0m\u001b[0;34m,\u001b[0m \u001b[0mstopinst\u001b[0m\u001b[0;34m:\u001b[0m\u001b[0;34m\u001b[0m\u001b[0m\n\u001b[1;32m    866\u001b[0m             \u001b[0;32mreturn\u001b[0m \u001b[0mstopinst\u001b[0m\u001b[0;34m.\u001b[0m\u001b[0mvalue\u001b[0m\u001b[0;34m\u001b[0m\u001b[0m\n",
      "\u001b[0;32m/usr/lib/python2.7/pickle.pyc\u001b[0m in \u001b[0;36mload_appends\u001b[0;34m(self)\u001b[0m\n\u001b[1;32m   1191\u001b[0m     \u001b[0;32mdef\u001b[0m \u001b[0mload_appends\u001b[0m\u001b[0;34m(\u001b[0m\u001b[0mself\u001b[0m\u001b[0;34m)\u001b[0m\u001b[0;34m:\u001b[0m\u001b[0;34m\u001b[0m\u001b[0m\n\u001b[1;32m   1192\u001b[0m         \u001b[0mstack\u001b[0m \u001b[0;34m=\u001b[0m \u001b[0mself\u001b[0m\u001b[0;34m.\u001b[0m\u001b[0mstack\u001b[0m\u001b[0;34m\u001b[0m\u001b[0m\n\u001b[0;32m-> 1193\u001b[0;31m         \u001b[0mmark\u001b[0m \u001b[0;34m=\u001b[0m \u001b[0mself\u001b[0m\u001b[0;34m.\u001b[0m\u001b[0mmarker\u001b[0m\u001b[0;34m(\u001b[0m\u001b[0;34m)\u001b[0m\u001b[0;34m\u001b[0m\u001b[0m\n\u001b[0m\u001b[1;32m   1194\u001b[0m         \u001b[0mlist\u001b[0m \u001b[0;34m=\u001b[0m \u001b[0mstack\u001b[0m\u001b[0;34m[\u001b[0m\u001b[0mmark\u001b[0m \u001b[0;34m-\u001b[0m \u001b[0;36m1\u001b[0m\u001b[0;34m]\u001b[0m\u001b[0;34m\u001b[0m\u001b[0m\n\u001b[1;32m   1195\u001b[0m         \u001b[0mlist\u001b[0m\u001b[0;34m.\u001b[0m\u001b[0mextend\u001b[0m\u001b[0;34m(\u001b[0m\u001b[0mstack\u001b[0m\u001b[0;34m[\u001b[0m\u001b[0mmark\u001b[0m \u001b[0;34m+\u001b[0m \u001b[0;36m1\u001b[0m\u001b[0;34m:\u001b[0m\u001b[0;34m]\u001b[0m\u001b[0;34m)\u001b[0m\u001b[0;34m\u001b[0m\u001b[0m\n",
      "\u001b[0;32m/usr/lib/python2.7/pickle.pyc\u001b[0m in \u001b[0;36mmarker\u001b[0;34m(self)\u001b[0m\n\u001b[1;32m    878\u001b[0m         \u001b[0mmark\u001b[0m \u001b[0;34m=\u001b[0m \u001b[0mself\u001b[0m\u001b[0;34m.\u001b[0m\u001b[0mmark\u001b[0m\u001b[0;34m\u001b[0m\u001b[0m\n\u001b[1;32m    879\u001b[0m         \u001b[0mk\u001b[0m \u001b[0;34m=\u001b[0m \u001b[0mlen\u001b[0m\u001b[0;34m(\u001b[0m\u001b[0mstack\u001b[0m\u001b[0;34m)\u001b[0m\u001b[0;34m-\u001b[0m\u001b[0;36m1\u001b[0m\u001b[0;34m\u001b[0m\u001b[0m\n\u001b[0;32m--> 880\u001b[0;31m         \u001b[0;32mwhile\u001b[0m \u001b[0mstack\u001b[0m\u001b[0;34m[\u001b[0m\u001b[0mk\u001b[0m\u001b[0;34m]\u001b[0m \u001b[0;32mis\u001b[0m \u001b[0;32mnot\u001b[0m \u001b[0mmark\u001b[0m\u001b[0;34m:\u001b[0m \u001b[0mk\u001b[0m \u001b[0;34m=\u001b[0m \u001b[0mk\u001b[0m\u001b[0;34m-\u001b[0m\u001b[0;36m1\u001b[0m\u001b[0;34m\u001b[0m\u001b[0m\n\u001b[0m\u001b[1;32m    881\u001b[0m         \u001b[0;32mreturn\u001b[0m \u001b[0mk\u001b[0m\u001b[0;34m\u001b[0m\u001b[0m\n\u001b[1;32m    882\u001b[0m \u001b[0;34m\u001b[0m\u001b[0m\n",
      "\u001b[0;31mKeyboardInterrupt\u001b[0m: "
     ]
    }
   ],
   "source": [
    "for file_idx in range(1173):\n",
    "    scene_data = load_pickle(os.path.join(SCENE_PATH, \"{:08d}-OK.pkl\".format(file_idx)))\n",
    "    global_log = scene_data[\"global_log\"]\n",
    "#     if global_log[\"subject\"] != \"obj_0\" and global_log[\"actor\"] != \"grip0\":\n",
    "    if global_log[\"actor\"] != \"grip0\":\n",
    "        print(file_idx)"
   ]
  },
  {
   "cell_type": "code",
   "execution_count": null,
   "metadata": {},
   "outputs": [],
   "source": []
  }
 ],
 "metadata": {
  "kernelspec": {
   "display_name": "Python 2",
   "language": "python",
   "name": "python2"
  },
  "language_info": {
   "codemirror_mode": {
    "name": "ipython",
    "version": 2
   },
   "file_extension": ".py",
   "mimetype": "text/x-python",
   "name": "python",
   "nbconvert_exporter": "python",
   "pygments_lexer": "ipython2",
   "version": "2.7.17"
  }
 },
 "nbformat": 4,
 "nbformat_minor": 2
}
