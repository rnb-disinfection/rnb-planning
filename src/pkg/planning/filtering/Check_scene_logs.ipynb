{
 "cells": [
  {
   "cell_type": "code",
   "execution_count": 1,
   "metadata": {},
   "outputs": [
    {
     "name": "stdout",
     "output_type": "stream",
     "text": [
      "connection command:\n",
      "panda0: False\n",
      "Please create a subscriber to the marker\n",
      "publication OK\n",
      "published: [0, 0, 0, 0, 0, 0, 0]\n",
      "Please create a subscriber to the marker\n"
     ]
    }
   ],
   "source": [
    "from __future__ import print_function\n",
    "import os\n",
    "os.chdir(os.path.join(os.environ[\"RNB_PLANNING_DIR\"], 'src'))\n",
    "from pkg.controller.robot_config import RobotType\n",
    "from pkg.utils.test_scripts import *\n",
    "from pkg.planning.filtering.filter_interface import *\n",
    "from pkg.planning.constraint.constraint_common import BindingTransform\n",
    "\n",
    "ROBOT_TYPE = RobotType.panda\n",
    "VISUALIZE = True\n",
    "\n",
    "ROBOT_NAME, TOOL_LINK, TOOL_XYZ, TOOL_RPY, HOME_POSE, GRIP_DEPTH = get_single_robot_params(ROBOT_TYPE)\n",
    "s_builder, pscene = prepare_single_robot_scene(ROBOT_TYPE, ROBOT_NAME, TOOL_LINK, TOOL_XYZ, TOOL_RPY, VISUALIZE=VISUALIZE)\n",
    "crob, gscene = pscene.combined_robot, pscene.gscene"
   ]
  },
  {
   "cell_type": "markdown",
   "metadata": {},
   "source": [
    "## check GraspChecker scene"
   ]
  },
  {
   "cell_type": "code",
   "execution_count": 2,
   "metadata": {},
   "outputs": [
    {
     "ename": "OSError",
     "evalue": "[Errno 2] No such file or directory: '/home/rnb/Projects/rnb-planning/data/checker_scenes/GraspChecker'",
     "output_type": "error",
     "traceback": [
      "\u001b[0;31m---------------------------------------------------------------------------\u001b[0m",
      "\u001b[0;31mOSError\u001b[0m                                   Traceback (most recent call last)",
      "\u001b[0;32m<ipython-input-2-845af8d98a49>\u001b[0m in \u001b[0;36m<module>\u001b[0;34m()\u001b[0m\n\u001b[1;32m      4\u001b[0m \u001b[0;34m\u001b[0m\u001b[0m\n\u001b[1;32m      5\u001b[0m \u001b[0mcpath\u001b[0m \u001b[0;34m=\u001b[0m \u001b[0mos\u001b[0m\u001b[0;34m.\u001b[0m\u001b[0mpath\u001b[0m\u001b[0;34m.\u001b[0m\u001b[0mjoin\u001b[0m\u001b[0;34m(\u001b[0m\u001b[0mSCENE_PATH\u001b[0m\u001b[0;34m,\u001b[0m \u001b[0;34m\"GraspChecker\"\u001b[0m\u001b[0;34m)\u001b[0m\u001b[0;34m\u001b[0m\u001b[0m\n\u001b[0;32m----> 6\u001b[0;31m \u001b[0mfiles\u001b[0m \u001b[0;34m=\u001b[0m \u001b[0msorted\u001b[0m\u001b[0;34m(\u001b[0m\u001b[0mos\u001b[0m\u001b[0;34m.\u001b[0m\u001b[0mlistdir\u001b[0m\u001b[0;34m(\u001b[0m\u001b[0mcpath\u001b[0m\u001b[0;34m)\u001b[0m\u001b[0;34m)\u001b[0m\u001b[0;34m\u001b[0m\u001b[0m\n\u001b[0m\u001b[1;32m      7\u001b[0m \u001b[0;32mprint\u001b[0m\u001b[0;34m(\u001b[0m\u001b[0mfiles\u001b[0m\u001b[0;34m)\u001b[0m\u001b[0;34m\u001b[0m\u001b[0m\n",
      "\u001b[0;31mOSError\u001b[0m: [Errno 2] No such file or directory: '/home/rnb/Projects/rnb-planning/data/checker_scenes/GraspChecker'"
     ]
    }
   ],
   "source": [
    "from pkg.planning.filtering.grasp_filter import GraspChecker\n",
    "gcheck = GraspChecker(pscene)\n",
    "gcheck.show_vertices = True\n",
    "\n",
    "cpath = os.path.join(SCENE_PATH, \"GraspChecker\")\n",
    "files = sorted(os.listdir(cpath))\n",
    "print(files)"
   ]
  },
  {
   "cell_type": "code",
   "execution_count": null,
   "metadata": {},
   "outputs": [],
   "source": [
    "file_path = os.path.join(cpath, files[7])\n",
    "print(\"file_path: {}\".format(file_path))\n",
    "scene_data = load_pickle(file_path)\n",
    "state, btf, Q_dict, kwargs, error_state, result = load_unpack_scene_args(pscene, scene_data)\n",
    "\n",
    "res = gcheck.check(btf=btf, Q_dict=Q_dict, **kwargs)\n",
    "print(\"result/log: {} / {}\".format(res, result))"
   ]
  },
  {
   "cell_type": "code",
   "execution_count": null,
   "metadata": {},
   "outputs": [],
   "source": []
  },
  {
   "cell_type": "markdown",
   "metadata": {},
   "source": [
    "## check ReachChecker scene"
   ]
  },
  {
   "cell_type": "code",
   "execution_count": null,
   "metadata": {},
   "outputs": [],
   "source": [
    "from pkg.planning.filtering.reach_filter import ReachChecker\n",
    "rcheck = ReachChecker(pscene)\n",
    "\n",
    "cpath = os.path.join(SCENE_PATH, \"ReachChecker\")\n",
    "files = sorted(os.listdir(cpath))\n",
    "print(files)"
   ]
  },
  {
   "cell_type": "code",
   "execution_count": null,
   "metadata": {},
   "outputs": [],
   "source": [
    "file_path = os.path.join(cpath, files[0])\n",
    "print(\"file_path: {}\".format(file_path))\n",
    "scene_data = load_pickle(file_path)\n",
    "state, btf, Q_dict, kwargs, error_state, result = load_unpack_scene_args(pscene, scene_data)\n",
    "\n",
    "res = rcheck.check(btf=btf, Q_dict=Q_dict, **kwargs)\n",
    "print(\"result/log: {} / {}\".format(res, result))"
   ]
  },
  {
   "cell_type": "code",
   "execution_count": null,
   "metadata": {},
   "outputs": [],
   "source": []
  },
  {
   "cell_type": "markdown",
   "metadata": {},
   "source": [
    "## check LatticedChecker scene"
   ]
  },
  {
   "cell_type": "code",
   "execution_count": 2,
   "metadata": {},
   "outputs": [
    {
     "name": "stdout",
     "output_type": "stream",
     "text": [
      "File count= 899\n"
     ]
    }
   ],
   "source": [
    "from pkg.planning.filtering.grasp_filter import GraspChecker\n",
    "gcheck = GraspChecker(pscene)\n",
    "\n",
    "from pkg.planning.filtering.latticized_filter import LatticedChecker\n",
    "lcheck = LatticedChecker(pscene, gcheck=gcheck)\n",
    "\n",
    "cpath = os.path.join(SCENE_PATH, \"LatticedChecker\")\n",
    "files = sorted(os.listdir(cpath))\n",
    "print(\"File count= {}\".format(len(files)))\n",
    "\n",
    "from pkg.planning.filtering.latticized_filter import ARM_SHAPE, GRASP_SHAPE, \\\n",
    "    WDH_GRASP, L_CELL_GRASP, OFFSET_ZERO_GRASP, WDH_ARM, L_CELL_ARM, OFFSET_ZERO_ARM\n",
    "from pkg.planning.filtering.lattice_model.latticizer_py import get_centers\n",
    "\n",
    "centers_grasp = get_centers(GRASP_SHAPE, L_CELL_GRASP, OFFSET_ZERO_GRASP)\n",
    "centers_arm = get_centers(ARM_SHAPE, L_CELL_ARM, OFFSET_ZERO_ARM)\n",
    "\n",
    "assert len(pscene.robot_chain_dict.values())==1, \"not single robot scene\"\n",
    "shoulder_height = lcheck.shoulder_height_dict[ROBOT_NAME]"
   ]
  },
  {
   "cell_type": "code",
   "execution_count": 3,
   "metadata": {},
   "outputs": [
    {
     "name": "stdout",
     "output_type": "stream",
     "text": [
      "file_path: /home/rnb/Projects/rnb-planning/data/checker_scenes/LatticedChecker/00000012-OK.pkl\n",
      "result/log: True / True\n"
     ]
    }
   ],
   "source": [
    "file_path = os.path.join(cpath, files[0])\n",
    "print(\"file_path: {}\".format(file_path))\n",
    "scene_data = load_pickle(file_path)\n",
    "state, btf, Q_dict, kwargs, error_state, result = load_unpack_scene_args(pscene, scene_data)\n",
    "res = lcheck.check(btf=btf, Q_dict=Q_dict, **kwargs)\n",
    "print(\"result/log: {} / {}\".format(res, result[1]>0.5))"
   ]
  },
  {
   "cell_type": "code",
   "execution_count": 4,
   "metadata": {},
   "outputs": [],
   "source": [
    "gtimer = GlobalTimer.instance()\n",
    "gtimer.reset()\n",
    "res_saved_list = []\n",
    "res_infer_list = []\n",
    "for fname in files:\n",
    "    file_path = os.path.join(cpath, fname)\n",
    "    scene_data = load_pickle(file_path)\n",
    "    state, btf, Q_dict, kwargs, error_state, result = load_unpack_scene_args(pscene, scene_data)\n",
    "    with gtimer.block(\"test\"):\n",
    "        res = lcheck.check(btf=btf, Q_dict=Q_dict, **kwargs)\n",
    "    res_saved_list.append(result[1]>0.5)\n",
    "    res_infer_list.append(res)"
   ]
  },
  {
   "cell_type": "code",
   "execution_count": 5,
   "metadata": {},
   "outputs": [
    {
     "name": "stdout",
     "output_type": "stream",
     "text": [
      "==================================================\n",
      "           PP         PN        899\n",
      "GP        370          0    100.00%\n",
      "GN          0        529    100.00%\n",
      "AL    100.00%    100.00%    100.00%\n",
      "==================================================\n",
      "test: \t35818.7 ms/899 = 39.8 ms (27.225/74.495)\n",
      "get_grasping_vert_infos: \t443.1 ms/899 = 0.5 ms (0.278/1.388)\n",
      "transform_verts: \t335.3 ms/899 = 0.4 ms (0.202/1.105)\n",
      "convert_vertices: \t21598.6 ms/899 = 24.0 ms (12.468/56.729)\n",
      "indexing_vertices: \t646.3 ms/899 = 0.7 ms (0.333/2.693)\n",
      "query_wait_response: \t12626.6 ms/899 = 14.0 ms (9.938/35.228)\n",
      "\n",
      "==================================================\n"
     ]
    }
   ],
   "source": [
    "print(\"=\"*50)\n",
    "print_confusion_mat(GT=res_saved_list, Res=res_infer_list)\n",
    "print(\"=\"*50)\n",
    "print(gtimer)\n",
    "print(\"=\"*50)"
   ]
  },
  {
   "cell_type": "code",
   "execution_count": null,
   "metadata": {},
   "outputs": [],
   "source": []
  },
  {
   "cell_type": "code",
   "execution_count": 6,
   "metadata": {},
   "outputs": [
    {
     "name": "stdout",
     "output_type": "stream",
     "text": [
      "r, h match: [ True  True]\n"
     ]
    }
   ],
   "source": [
    "grasp_img = lcheck.grasp_img_p_dict[ROBOT_TYPE.name][0]\n",
    "grasp_tool_img = grasp_img[:,:,:,0]\n",
    "grasp_obj_img = grasp_img[:,:,:,1]\n",
    "grasp_tar_img = grasp_img[:,:,:,2]\n",
    "arm_img = lcheck.arm_img_p_dict[ROBOT_TYPE.name][0][:,:,:,0]\n",
    "rh_vals = lcheck.rh_vals_p_dict[ROBOT_TYPE.name][0]\n",
    "\n",
    "grasp_tool_idx = np.where(grasp_tool_img)\n",
    "grasp_obj_idx = np.where(grasp_obj_img)\n",
    "grasp_tar_idx = np.where(grasp_tar_img)\n",
    "arm_tar_idx = np.where(arm_img)\n",
    "radius, theta, height = lcheck.rth_last\n",
    "offset_ee = cyl2cart(radius, theta, height)\n",
    "print(\"r, h match: {}\".format(np.equal(rh_vals, [radius, height])))\n",
    "\n",
    "gscene.clear_highlight()\n",
    "for i_c, center in enumerate(centers_arm[arm_tar_idx]):\n",
    "    center_rot = np.matmul(Rot_axis(3, theta), center) + [0,0,shoulder_height]\n",
    "    gscene.add_highlight_axis(\"arm\", \"%05d\"%(i_c), \"base_link\", dims=(0.03,) * 3,\n",
    "                              center=center_rot, orientation_mat=np.identity(3),\n",
    "                              color=(0.5, 0.5, 0.5, 0.7), axis=None)\n",
    "    \n",
    "for i_c, center in enumerate(centers_grasp[grasp_tool_idx]):\n",
    "    center_rot = np.matmul(Rot_axis(3, theta), center) + offset_ee\n",
    "    gscene.add_highlight_axis(\"tool\", \"%05d\"%(i_c), \"base_link\", dims=(0.02,) * 3,\n",
    "                              center=center_rot, orientation_mat=np.identity(3),\n",
    "                              color=(0, 1, 0, 0.7), axis=None)\n",
    "\n",
    "for i_c, center in enumerate(centers_grasp[grasp_tar_idx]):\n",
    "    center_rot = np.matmul(Rot_axis(3, theta), center) + offset_ee\n",
    "    gscene.add_highlight_axis(\"tar\", \"%05d\"%(i_c), \"base_link\", dims=(0.02,) * 3,\n",
    "                              center=center_rot, orientation_mat=np.identity(3),\n",
    "                              color=(1, 0, 0, 0.7), axis=None)\n",
    "    \n",
    "for i_c, center in enumerate(centers_grasp[grasp_obj_idx]):\n",
    "    center_rot = np.matmul(Rot_axis(3, theta), center) + offset_ee\n",
    "    gscene.add_highlight_axis(\"obj\", \"%05d\"%(i_c), \"base_link\", dims=(0.02,) * 3,\n",
    "                              center=center_rot, orientation_mat=np.identity(3),\n",
    "                              color=(1, 1, 0, 0.7), axis=None)\n",
    "    \n",
    "pscene.show_binding(btf)"
   ]
  },
  {
   "cell_type": "code",
   "execution_count": 7,
   "metadata": {},
   "outputs": [],
   "source": []
  },
  {
   "cell_type": "code",
   "execution_count": null,
   "metadata": {},
   "outputs": [],
   "source": []
  },
  {
   "cell_type": "markdown",
   "metadata": {},
   "source": [
    "### find idx that deals with object other than obj_0"
   ]
  },
  {
   "cell_type": "code",
   "execution_count": null,
   "metadata": {},
   "outputs": [],
   "source": [
    "for file_idx in range(1173):\n",
    "    scene_data = load_pickle(os.path.join(SCENE_PATH, \"{:08d}-OK.pkl\".format(file_idx)))\n",
    "    global_log = scene_data[\"global_log\"]\n",
    "#     if global_log[\"subject\"] != \"obj_0\" and global_log[\"actor\"] != \"grip0\":\n",
    "    if global_log[\"actor\"] != \"grip0\":\n",
    "        print(file_idx)"
   ]
  },
  {
   "cell_type": "code",
   "execution_count": null,
   "metadata": {},
   "outputs": [],
   "source": []
  }
 ],
 "metadata": {
  "kernelspec": {
   "display_name": "Python 2",
   "language": "python",
   "name": "python2"
  },
  "language_info": {
   "codemirror_mode": {
    "name": "ipython",
    "version": 2
   },
   "file_extension": ".py",
   "mimetype": "text/x-python",
   "name": "python",
   "nbconvert_exporter": "python",
   "pygments_lexer": "ipython2",
   "version": "2.7.17"
  }
 },
 "nbformat": 4,
 "nbformat_minor": 2
}
