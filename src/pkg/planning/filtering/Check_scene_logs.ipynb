{
 "cells": [
  {
   "cell_type": "code",
   "execution_count": 1,
   "metadata": {},
   "outputs": [],
   "source": [
    "from __future__ import print_function\n",
    "import os\n",
    "os.chdir(os.path.join(os.environ[\"RNB_PLANNING_DIR\"], 'src'))"
   ]
  },
  {
   "cell_type": "code",
   "execution_count": 2,
   "metadata": {},
   "outputs": [],
   "source": [
    "from pkg.planning.filtering.latticized_filter import SCENE_PATH"
   ]
  },
  {
   "cell_type": "code",
   "execution_count": 3,
   "metadata": {},
   "outputs": [
    {
     "data": {
      "text/plain": [
       "['00000018-OK.pkl',\n",
       " '00000024-OK.pkl',\n",
       " '00000014-OK.pkl',\n",
       " '00000012-OK.pkl',\n",
       " '00000006-OK.pkl',\n",
       " '00000003-OK.pkl',\n",
       " '00000025-OK.pkl',\n",
       " '00000019-OK.pkl',\n",
       " '00000008-OK.pkl',\n",
       " '00000002-OK.pkl',\n",
       " '00000015-OK.pkl',\n",
       " '00000026-OK.pkl',\n",
       " '00000016-OK.pkl',\n",
       " '00000013-OK.pkl',\n",
       " '00000022-OK.pkl',\n",
       " '00000020-OK.pkl',\n",
       " '00000004-OK.pkl',\n",
       " '00000001-OK.pkl',\n",
       " '00000000-OK.pkl',\n",
       " '00000010-OK.pkl',\n",
       " '00000011-OK.pkl',\n",
       " '00000023-OK.pkl',\n",
       " '00000007-OK.pkl',\n",
       " '00000017-OK.pkl',\n",
       " '00000009-OK.pkl',\n",
       " '00000005-OK.pkl',\n",
       " '00000021-OK.pkl']"
      ]
     },
     "execution_count": 3,
     "metadata": {},
     "output_type": "execute_result"
    }
   ],
   "source": [
    "os.listdir(SCENE_PATH)"
   ]
  },
  {
   "cell_type": "code",
   "execution_count": 2,
   "metadata": {},
   "outputs": [],
   "source": [
    "from pkg.controller.robot_config import RobotType\n",
    "from pkg.utils.test_scripts import *"
   ]
  },
  {
   "cell_type": "code",
   "execution_count": 3,
   "metadata": {},
   "outputs": [],
   "source": [
    "ROBOT_TYPE = RobotType.indy7gripper\n",
    "VISUALIZE = True"
   ]
  },
  {
   "cell_type": "code",
   "execution_count": 4,
   "metadata": {},
   "outputs": [
    {
     "name": "stdout",
     "output_type": "stream",
     "text": [
      "connection command:\n",
      "indy0: False\n",
      "Please create a subscriber to the marker\n",
      "publication OK\n",
      "published: [0, 0, 0, 0, 0, 0]\n",
      "Please create a subscriber to the marker\n"
     ]
    }
   ],
   "source": [
    "ROBOT_NAME, TOOL_LINK, TOOL_XYZ, HOME_POSE, GRIP_DEPTH = get_single_robot_params(ROBOT_TYPE)\n",
    "s_builder, pscene = prepare_single_robot_scene(ROBOT_TYPE, ROBOT_NAME, TOOL_LINK, TOOL_XYZ, VISUALIZE=VISUALIZE)\n",
    "crob, gscene = pscene.combined_robot, pscene.gscene"
   ]
  },
  {
   "cell_type": "code",
   "execution_count": 5,
   "metadata": {},
   "outputs": [],
   "source": [
    "from pkg.planning.filtering.latticized_filter import SCENE_PATH, ARM_SHAPE, GRASP_SHAPE, \\\n",
    "    WDH_GRASP, L_CELL_GRASP, OFFSET_ZERO_GRASP, WDH_ARM, L_CELL_ARM, OFFSET_ZERO_ARM\n",
    "from pkg.planning.filtering.lattice_model.latticizer_py import get_centers\n",
    "\n",
    "centers_grasp = get_centers(GRASP_SHAPE, L_CELL_GRASP, OFFSET_ZERO_GRASP)\n",
    "centers_arm = get_centers(ARM_SHAPE, L_CELL_ARM, OFFSET_ZERO_ARM)\n",
    "\n",
    "\n",
    "assert len(pscene.robot_chain_dict.values())==1, \"not single robot scene\"\n",
    "shoulder_height = get_tf(\n",
    "    gscene.urdf_content.joint_map[pscene.robot_chain_dict.values()[0]['joint_names'][1]].child, \n",
    "    crob.home_dict, pscene.gscene.urdf_content)[2, 3]"
   ]
  },
  {
   "cell_type": "code",
   "execution_count": null,
   "metadata": {},
   "outputs": [],
   "source": []
  },
  {
   "cell_type": "code",
   "execution_count": 6,
   "metadata": {
    "scrolled": true
   },
   "outputs": [],
   "source": [
    "scene_data = load_pickle(os.path.join(SCENE_PATH, \"00000000-OK.pkl\"))\n",
    "arm_tar_idx = scene_data[\"arm_tar_idx\"]\n",
    "grasp_tool_idx = scene_data[\"grasp_tool_idx\"]\n",
    "grasp_tar_idx = scene_data[\"grasp_tar_idx\"]\n",
    "grasp_obj_idx = scene_data[\"grasp_obj_idx\"]\n",
    "radius, theta, height = scene_data[\"rth\"]\n",
    "gtem_args = scene_data[\"gtem_args\"]\n",
    "error_state = scene_data[\"error_state\"]\n",
    "offset_ee = cyl2cart(radius, theta, height)\n",
    "\n",
    "load_gtem_args(gscene, gtem_args)"
   ]
  },
  {
   "cell_type": "code",
   "execution_count": null,
   "metadata": {},
   "outputs": [],
   "source": []
  },
  {
   "cell_type": "code",
   "execution_count": 7,
   "metadata": {},
   "outputs": [],
   "source": [
    "arm_tar_idx =  np.unravel_index(arm_tar_idx, shape=GRASP_SHAPE)\n",
    "grasp_tool_idx = np.unravel_index(grasp_tool_idx, shape=GRASP_SHAPE)\n",
    "grasp_tar_idx = np.unravel_index(grasp_tar_idx, shape=GRASP_SHAPE)\n",
    "grasp_obj_idx = np.unravel_index(grasp_obj_idx, shape=GRASP_SHAPE)"
   ]
  },
  {
   "cell_type": "code",
   "execution_count": null,
   "metadata": {},
   "outputs": [],
   "source": []
  },
  {
   "cell_type": "code",
   "execution_count": 8,
   "metadata": {},
   "outputs": [],
   "source": [
    "for i_c, center in enumerate(centers_arm[arm_tar_idx]):\n",
    "    center_rot = np.matmul(Rot_axis(3, theta), center) + [0,0,shoulder_height]\n",
    "    gscene.create_safe(GEOTYPE.SPHERE, \"arm_%05d\"%(i_c), \"base_link\", dims=(0.03,) * 3,\n",
    "                                            center=center_rot, rpy=(0, 0, 0), color=(0.5, 0.5, 0.5, 0.7),\n",
    "                                            display=True, collision=False, fixed=True)\n",
    "    \n",
    "for i_c, center in enumerate(centers_grasp[grasp_tool_idx]):\n",
    "    center_rot = np.matmul(Rot_axis(3, theta), center) + offset_ee\n",
    "    gscene.create_safe(GEOTYPE.SPHERE, \"tool_%05d\"%(i_c), \"base_link\", dims=(0.02,) * 3,\n",
    "                                            center=center_rot, rpy=(0, 0, 0), color=(0, 1, 0, 0.7),\n",
    "                                            display=True, collision=False, fixed=True)\n",
    "\n",
    "for i_c, center in enumerate(centers_grasp[grasp_tar_idx]):\n",
    "    center_rot = np.matmul(Rot_axis(3, theta), center) + offset_ee\n",
    "    gscene.create_safe(GEOTYPE.SPHERE, \"tar_%05d\"%(i_c), \"base_link\", dims=(0.02,) * 3,\n",
    "                                            center=center_rot, rpy=(0, 0, 0), color=(1, 0, 0, 0.7),\n",
    "                                            display=True, collision=False, fixed=True)\n",
    "    \n",
    "for i_c, center in enumerate(centers_grasp[grasp_obj_idx]):\n",
    "    center_rot = np.matmul(Rot_axis(3, theta), center) + offset_ee\n",
    "    gscene.create_safe(GEOTYPE.SPHERE, \"obj_%05d\"%(i_c), \"base_link\", dims=(0.02,) * 3,\n",
    "                                            center=center_rot, rpy=(0, 0, 0), color=(1, 1, 0, 0.7),\n",
    "                                            display=True, collision=False, fixed=True)"
   ]
  },
  {
   "cell_type": "code",
   "execution_count": null,
   "metadata": {},
   "outputs": [],
   "source": []
  },
  {
   "cell_type": "code",
   "execution_count": null,
   "metadata": {},
   "outputs": [],
   "source": []
  },
  {
   "cell_type": "code",
   "execution_count": null,
   "metadata": {},
   "outputs": [],
   "source": []
  },
  {
   "cell_type": "code",
   "execution_count": null,
   "metadata": {},
   "outputs": [],
   "source": []
  },
  {
   "cell_type": "code",
   "execution_count": null,
   "metadata": {},
   "outputs": [],
   "source": []
  },
  {
   "cell_type": "code",
   "execution_count": null,
   "metadata": {},
   "outputs": [],
   "source": []
  }
 ],
 "metadata": {
  "kernelspec": {
   "display_name": "Python 2",
   "language": "python",
   "name": "python2"
  },
  "language_info": {
   "codemirror_mode": {
    "name": "ipython",
    "version": 2
   },
   "file_extension": ".py",
   "mimetype": "text/x-python",
   "name": "python",
   "nbconvert_exporter": "python",
   "pygments_lexer": "ipython2",
   "version": "2.7.17"
  }
 },
 "nbformat": 4,
 "nbformat_minor": 2
}
