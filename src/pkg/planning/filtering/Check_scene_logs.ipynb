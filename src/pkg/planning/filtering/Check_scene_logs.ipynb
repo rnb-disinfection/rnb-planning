{
 "cells": [
  {
   "cell_type": "code",
   "execution_count": 1,
   "metadata": {},
   "outputs": [],
   "source": [
    "from __future__ import print_function\n",
    "import os\n",
    "os.chdir(os.path.join(os.environ[\"RNB_PLANNING_DIR\"], 'src'))"
   ]
  },
  {
   "cell_type": "code",
   "execution_count": 2,
   "metadata": {},
   "outputs": [
    {
     "data": {
      "text/plain": [
       "['00000438-ERROR.pkl', '00000439-ERROR.pkl']"
      ]
     },
     "execution_count": 2,
     "metadata": {},
     "output_type": "execute_result"
    }
   ],
   "source": [
    "from pkg.planning.filtering.latticized_filter import SCENE_PATH\n",
    "[fname for fname in os.listdir(SCENE_PATH) if \"ERROR\" in fname]"
   ]
  },
  {
   "cell_type": "code",
   "execution_count": null,
   "metadata": {},
   "outputs": [],
   "source": []
  },
  {
   "cell_type": "code",
   "execution_count": 3,
   "metadata": {},
   "outputs": [],
   "source": [
    "from pkg.controller.robot_config import RobotType\n",
    "from pkg.utils.test_scripts import *"
   ]
  },
  {
   "cell_type": "code",
   "execution_count": 4,
   "metadata": {},
   "outputs": [],
   "source": [
    "ROBOT_TYPE = RobotType.indy7gripper\n",
    "VISUALIZE = True"
   ]
  },
  {
   "cell_type": "code",
   "execution_count": 5,
   "metadata": {},
   "outputs": [
    {
     "name": "stdout",
     "output_type": "stream",
     "text": [
      "connection command:\n",
      "indy0: False\n",
      "Please create a subscriber to the marker\n",
      "publication OK\n",
      "published: [0, 0, 0, 0, 0, 0]\n",
      "Please create a subscriber to the marker\n"
     ]
    }
   ],
   "source": [
    "ROBOT_NAME, TOOL_LINK, TOOL_XYZ, HOME_POSE, GRIP_DEPTH = get_single_robot_params(ROBOT_TYPE)\n",
    "s_builder, pscene = prepare_single_robot_scene(ROBOT_TYPE, ROBOT_NAME, TOOL_LINK, TOOL_XYZ, VISUALIZE=VISUALIZE)\n",
    "crob, gscene = pscene.combined_robot, pscene.gscene"
   ]
  },
  {
   "cell_type": "code",
   "execution_count": 6,
   "metadata": {},
   "outputs": [],
   "source": [
    "from pkg.planning.filtering.latticized_filter import SCENE_PATH, ARM_SHAPE, GRASP_SHAPE, \\\n",
    "    WDH_GRASP, L_CELL_GRASP, OFFSET_ZERO_GRASP, WDH_ARM, L_CELL_ARM, OFFSET_ZERO_ARM\n",
    "from pkg.planning.filtering.lattice_model.latticizer_py import get_centers\n",
    "\n",
    "centers_grasp = get_centers(GRASP_SHAPE, L_CELL_GRASP, OFFSET_ZERO_GRASP)\n",
    "centers_arm = get_centers(ARM_SHAPE, L_CELL_ARM, OFFSET_ZERO_ARM)\n",
    "\n",
    "\n",
    "assert len(pscene.robot_chain_dict.values())==1, \"not single robot scene\"\n",
    "shoulder_height = get_tf(\n",
    "    gscene.urdf_content.joint_map[pscene.robot_chain_dict.values()[0]['joint_names'][1]].child, \n",
    "    crob.home_dict, pscene.gscene.urdf_content)[2, 3]"
   ]
  },
  {
   "cell_type": "code",
   "execution_count": null,
   "metadata": {},
   "outputs": [],
   "source": []
  },
  {
   "cell_type": "code",
   "execution_count": 7,
   "metadata": {
    "scrolled": true
   },
   "outputs": [],
   "source": [
    "scene_data = load_pickle(os.path.join(SCENE_PATH, \"00000439-ERROR.pkl\"))\n",
    "global_log = scene_data[\"global_log\"]\n",
    "arm_tar_idx = scene_data[\"arm_tar_idx\"]\n",
    "grasp_tool_idx = scene_data[\"grasp_tool_idx\"]\n",
    "grasp_tar_idx = scene_data[\"grasp_tar_idx\"]\n",
    "grasp_obj_idx = scene_data[\"grasp_obj_idx\"]\n",
    "radius, theta, height = scene_data[\"rth\"]\n",
    "gtem_args = scene_data[\"gtem_args\"]\n",
    "error_state = scene_data[\"error_state\"]\n",
    "offset_ee = cyl2cart(radius, theta, height)\n",
    "\n",
    "load_gtem_args(gscene, gtem_args)"
   ]
  },
  {
   "cell_type": "code",
   "execution_count": null,
   "metadata": {},
   "outputs": [],
   "source": []
  },
  {
   "cell_type": "code",
   "execution_count": 8,
   "metadata": {},
   "outputs": [],
   "source": [
    "arm_tar_idx =  np.unravel_index(arm_tar_idx, shape=GRASP_SHAPE)\n",
    "grasp_tool_idx = np.unravel_index(grasp_tool_idx, shape=GRASP_SHAPE)\n",
    "grasp_tar_idx = np.unravel_index(grasp_tar_idx, shape=GRASP_SHAPE)\n",
    "grasp_obj_idx = np.unravel_index(np.array(grasp_obj_idx).astype(np.int), shape=GRASP_SHAPE)"
   ]
  },
  {
   "cell_type": "code",
   "execution_count": 9,
   "metadata": {},
   "outputs": [],
   "source": [
    "radius, theta, height = scene_data[\"rth\"]"
   ]
  },
  {
   "cell_type": "code",
   "execution_count": null,
   "metadata": {},
   "outputs": [],
   "source": []
  },
  {
   "cell_type": "code",
   "execution_count": 10,
   "metadata": {},
   "outputs": [],
   "source": [
    "for i_c, center in enumerate(centers_arm[arm_tar_idx]):\n",
    "    center_rot = np.matmul(Rot_axis(3, theta), center) + [0,0,shoulder_height]\n",
    "    gscene.create_safe(GEOTYPE.SPHERE, \"arm_%05d\"%(i_c), \"base_link\", dims=(0.03,) * 3,\n",
    "                                            center=center_rot, rpy=(0, 0, 0), color=(0.5, 0.5, 0.5, 0.7),\n",
    "                                            display=True, collision=False, fixed=True)\n",
    "    \n",
    "for i_c, center in enumerate(centers_grasp[grasp_tool_idx]):\n",
    "    center_rot = np.matmul(Rot_axis(3, theta), center) + offset_ee\n",
    "    gscene.create_safe(GEOTYPE.SPHERE, \"tool_%05d\"%(i_c), \"base_link\", dims=(0.02,) * 3,\n",
    "                                            center=center_rot, rpy=(0, 0, 0), color=(0, 1, 0, 0.7),\n",
    "                                            display=True, collision=False, fixed=True)\n",
    "\n",
    "for i_c, center in enumerate(centers_grasp[grasp_tar_idx]):\n",
    "    center_rot = np.matmul(Rot_axis(3, theta), center) + offset_ee\n",
    "    gscene.create_safe(GEOTYPE.SPHERE, \"tar_%05d\"%(i_c), \"base_link\", dims=(0.02,) * 3,\n",
    "                                            center=center_rot, rpy=(0, 0, 0), color=(1, 0, 0, 0.7),\n",
    "                                            display=True, collision=False, fixed=True)\n",
    "    \n",
    "for i_c, center in enumerate(centers_grasp[grasp_obj_idx]):\n",
    "    center_rot = np.matmul(Rot_axis(3, theta), center) + offset_ee\n",
    "    gscene.create_safe(GEOTYPE.SPHERE, \"obj_%05d\"%(i_c), \"base_link\", dims=(0.02,) * 3,\n",
    "                                            center=center_rot, rpy=(0, 0, 0), color=(1, 1, 0, 0.7),\n",
    "                                            display=True, collision=False, fixed=True)"
   ]
  },
  {
   "cell_type": "code",
   "execution_count": 12,
   "metadata": {},
   "outputs": [
    {
     "data": {
      "text/plain": [
       "['from_state', 'to_state', 'actor', 'subject']"
      ]
     },
     "execution_count": 12,
     "metadata": {},
     "output_type": "execute_result"
    }
   ],
   "source": [
    "global_log.keys()"
   ]
  },
  {
   "cell_type": "code",
   "execution_count": 16,
   "metadata": {},
   "outputs": [
    {
     "name": "stdout",
     "output_type": "stream",
     "text": [
      "grip0 - obj_0\n"
     ]
    }
   ],
   "source": [
    "from_state = global_log[\"from_state\"]\n",
    "to_state = global_log[\"to_state\"]\n",
    "subject = global_log[\"subject\"]\n",
    "actor = global_log[\"actor\"]\n",
    "print(\"{} - {}\".format(actor, subject))"
   ]
  },
  {
   "cell_type": "code",
   "execution_count": 18,
   "metadata": {},
   "outputs": [
    {
     "data": {
      "text/plain": [
       "(('obj_0', 'bottom_p', 'wp', 'wp'),\n",
       " ('obj_1', 'bottom_p', 'wp', 'wp'),\n",
       " ('obj_2', 'bottom_p', 'wp', 'wp'))"
      ]
     },
     "execution_count": 18,
     "metadata": {},
     "output_type": "execute_result"
    }
   ],
   "source": [
    "from_state.binding_state"
   ]
  },
  {
   "cell_type": "code",
   "execution_count": 19,
   "metadata": {},
   "outputs": [
    {
     "data": {
      "text/plain": [
       "(('obj_0', 'bottom_p', 'wp', 'wp'),\n",
       " ('obj_1', 'bottom_p', 'wp', 'wp'),\n",
       " ('obj_2', 'bottom_p', 'wp', 'wp'))"
      ]
     },
     "execution_count": 19,
     "metadata": {},
     "output_type": "execute_result"
    }
   ],
   "source": [
    "to_state.binding_state"
   ]
  },
  {
   "cell_type": "code",
   "execution_count": 20,
   "metadata": {},
   "outputs": [
    {
     "data": {
      "text/plain": [
       "array([0., 0., 0., 0., 0., 0.])"
      ]
     },
     "execution_count": 20,
     "metadata": {},
     "output_type": "execute_result"
    }
   ],
   "source": [
    "from_state.Q"
   ]
  },
  {
   "cell_type": "code",
   "execution_count": 21,
   "metadata": {},
   "outputs": [
    {
     "data": {
      "text/plain": [
       "array([ 1.85235231,  1.06607314,  1.49469566, -1.56395496, -1.50639244,\n",
       "        0.58163549])"
      ]
     },
     "execution_count": 21,
     "metadata": {},
     "output_type": "execute_result"
    }
   ],
   "source": [
    "to_state.Q"
   ]
  },
  {
   "cell_type": "code",
   "execution_count": 23,
   "metadata": {},
   "outputs": [],
   "source": [
    "gscene.show_pose(to_state.Q)"
   ]
  },
  {
   "cell_type": "code",
   "execution_count": 25,
   "metadata": {},
   "outputs": [],
   "source": [
    "gscene.NAME_DICT[\"obj_0\"].color = (1,0,1,0.8)"
   ]
  },
  {
   "cell_type": "code",
   "execution_count": 26,
   "metadata": {},
   "outputs": [],
   "source": [
    "gtem = gscene.NAME_DICT[\"obj_0\"]"
   ]
  },
  {
   "cell_type": "code",
   "execution_count": null,
   "metadata": {},
   "outputs": [],
   "source": []
  },
  {
   "cell_type": "code",
   "execution_count": null,
   "metadata": {},
   "outputs": [],
   "source": []
  },
  {
   "cell_type": "code",
   "execution_count": null,
   "metadata": {},
   "outputs": [],
   "source": []
  }
 ],
 "metadata": {
  "kernelspec": {
   "display_name": "Python 2",
   "language": "python",
   "name": "python2"
  },
  "language_info": {
   "codemirror_mode": {
    "name": "ipython",
    "version": 2
   },
   "file_extension": ".py",
   "mimetype": "text/x-python",
   "name": "python",
   "nbconvert_exporter": "python",
   "pygments_lexer": "ipython2",
   "version": "2.7.17"
  }
 },
 "nbformat": 4,
 "nbformat_minor": 2
}
