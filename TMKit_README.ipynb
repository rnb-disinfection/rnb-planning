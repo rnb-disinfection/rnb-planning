{
 "cells": [
  {
   "cell_type": "markdown",
   "metadata": {},
   "source": [
    "# Dependency\n",
    "\n",
    "## Get install amino\n",
    "\n",
    "### get amino\n",
    "```\n",
    "git clone https://github.com/golems/amino.git\n",
    "```\n",
    "\n",
    "\n",
    "### Install dependency\n",
    "```\n",
    "sudo apt-get install build-essential gfortran \\\n",
    "     autoconf automake libtool autoconf-archive autotools-dev \\\n",
    "     maxima libblas-dev liblapack-dev \\\n",
    "     libglew-dev libsdl2-dev \\\n",
    "     libfcl-dev libompl-dev \\\n",
    "     sbcl \\\n",
    "     default-jdk \\\n",
    "     blender flex povray ffmpeg \\\n",
    "     coinor-libclp-dev libglpk-dev liblpsolve55-dev libnlopt-dev\n",
    "\n",
    "```\n",
    "\n",
    "### ompl setting\n",
    "* Version 1.4.2 of OMPL and the corresponding Debian/Ubuntu packages are missing a required dependency on libeigen. To resolve, you may need to do the following:\n",
    "  * Manually install libeigen:\n",
    "  ```\n",
    "  sudo apt-get install libeigen3-dev\n",
    "  ```\n",
    "\n",
    "  * Manually add the eigen include directory to the ompl pkg-config file. The ompl pkg-config file will typically be in /usr/lib/x86_64-linux-gnu/pkgconfig/ompl.pc or /opt/ros/melodic/lib/pkgconfig/ompl.pc. The eigen include path will typically be /usr/include/eigen3. Thus, you may change the Cflags entry in /usr/lib/x86_64-linux-gnu/pkgconfig/ompl.pc and /opt/ros/melodic/lib/pkgconfig/ompl.pc to:\n",
    "  ```\n",
    "  Cflags: -I${includedir} -I/usr/include/eigen3\n",
    "  ```\n",
    "\n",
    "### Quicklisp Setup \n",
    "```\n",
    "wget https://beta.quicklisp.org/quicklisp.lisp\n",
    "sbcl --load quicklisp.lisp \\\n",
    "     --eval '(quicklisp-quickstart:install)' \\\n",
    "     --eval '(ql:add-to-init-file)' \\\n",
    "     --eval '(quit)'\n",
    "```\n",
    "\n",
    "### build\n",
    "```\n",
    "cd amino\n",
    "git submodule init && git submodule update && autoreconf -i\n",
    "./configure\n",
    "make\n",
    "sudo make install\n",
    "```"
   ]
  },
  {
   "cell_type": "markdown",
   "metadata": {},
   "source": [
    "## Get repo\n",
    "* make & enter directory for working  \n",
    "* get repo\n",
    "\n",
    "```\n",
    "git clone https://github.com/kavrakilab/tmkit.git\n",
    "cd tmkit\n",
    "sudo ldconfig && autoreconf -i && ./configure\n",
    "make && sudo make install\n",
    "```"
   ]
  },
  {
   "cell_type": "markdown",
   "metadata": {},
   "source": []
  },
  {
   "cell_type": "markdown",
   "metadata": {},
   "source": []
  },
  {
   "cell_type": "markdown",
   "metadata": {},
   "source": []
  },
  {
   "cell_type": "markdown",
   "metadata": {},
   "source": []
  }
 ],
 "metadata": {
  "kernelspec": {
   "display_name": "Python 2",
   "language": "python",
   "name": "python2"
  },
  "language_info": {
   "codemirror_mode": {
    "name": "ipython",
    "version": 2
   },
   "file_extension": ".py",
   "mimetype": "text/x-python",
   "name": "python",
   "nbconvert_exporter": "python",
   "pygments_lexer": "ipython2",
   "version": "2.7.17"
  }
 },
 "nbformat": 4,
 "nbformat_minor": 2
}
