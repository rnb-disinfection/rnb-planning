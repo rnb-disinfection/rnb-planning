{
 "cells": [
  {
   "cell_type": "code",
   "execution_count": 1,
   "metadata": {},
   "outputs": [],
   "source": [
    "import os\n",
    "import ctypes\n",
    "from gtimer import GlobalTimer\n",
    "from numpy.ctypeslib import ndpointer\n",
    "import numpy as np\n",
    "\n",
    "PLAN_LIB_PATH = \"../cmake-build-debug/libmoveit_plan_compact.so\"\n",
    "\n",
    "from enum import Enum\n",
    "\n",
    "class ObjectType(Enum):\n",
    "    BOX = 1\n",
    "    SPHERE = 2\n",
    "    CYLINDER = 3\n",
    "\n",
    "class ObjectAction(Enum):\n",
    "    ADD = 0\n",
    "    REMOVE = 1\n",
    "    APPEND = 2\n",
    "    MOVE = 3\n",
    "\n",
    "clib = ctypes.cdll.LoadLibrary(PLAN_LIB_PATH)\n",
    "MAX_STR_LEN = clib.get_max_str_len()\n",
    "MAX_NAME_LEN = clib.get_max_name_len()\n",
    "MAX_JOINT_NUM = clib.get_max_joint_num()\n",
    "MAX_TRAJ_LEN = clib.get_max_traj_len()\n",
    "\n",
    "class c_string(ctypes.Structure):\n",
    "    _fields_ = [(\"buffer\", ctypes.c_char*MAX_STR_LEN),\n",
    "                (\"len\", ctypes.c_int)\n",
    "                ]\n",
    "\n",
    "class c_trajectory(ctypes.Structure):\n",
    "    _fields_ = [(\"joints\", ctypes.c_double*(MAX_JOINT_NUM*MAX_TRAJ_LEN)),\n",
    "                (\"name_len\", ctypes.c_int),\n",
    "                (\"traj_len\", ctypes.c_int),\n",
    "                (\"success\", ctypes.c_bool)\n",
    "                ]\n",
    "\n",
    "class c_plan_request(ctypes.Structure):\n",
    "    _fields_ = [(\"group_name\", ctypes.c_char*MAX_NAME_LEN),\n",
    "                (\"tool_link\", ctypes.c_char*MAX_NAME_LEN),\n",
    "                (\"goal_link\", ctypes.c_char*MAX_NAME_LEN),\n",
    "                (\"init_state\", ctypes.c_double*MAX_JOINT_NUM),\n",
    "                (\"goal_pose\", ctypes.c_double*7),\n",
    "                (\"timeout\", ctypes.c_double)\n",
    "                ]\n",
    "\n",
    "class c_object_msg(ctypes.Structure):\n",
    "    _fields_ = [(\"name\", ctypes.c_char*MAX_NAME_LEN),\n",
    "                (\"link_name\", ctypes.c_char*MAX_NAME_LEN),\n",
    "                (\"pose\", ctypes.c_double*7),\n",
    "                (\"dims\", ctypes.c_double*3),\n",
    "                (\"type\", ctypes.c_int),\n",
    "                (\"action\", ctypes.c_int)\n",
    "                ]\n",
    "\n",
    "clib.hello_cstr.restype = c_string\n",
    "clib.hello_char.restype = ndpointer(dtype=ctypes.c_char, shape=(MAX_STR_LEN,))\n",
    "clib.init_planner.restype = c_string\n",
    "clib.plan_compact.restype = c_trajectory\n",
    "clib.plan_compact.argtypes = [c_plan_request]\n",
    "clib.process_object.argtypes = [c_object_msg]\n",
    "\n",
    "def convert_trajectory(traj, joint_num):\n",
    "    joints = []\n",
    "    for i_traj in range(traj.traj_len):\n",
    "        joints.append(traj.joints[i_traj*MAX_JOINT_NUM:i_traj*MAX_JOINT_NUM+joint_num])\n",
    "    return np.array(joints), traj.success\n"
   ]
  },
  {
   "cell_type": "code",
   "execution_count": 2,
   "metadata": {},
   "outputs": [],
   "source": [
    "gtimer = GlobalTimer.instance()"
   ]
  },
  {
   "cell_type": "code",
   "execution_count": 3,
   "metadata": {},
   "outputs": [],
   "source": [
    "urdf_path = \"../test_assets/custom_robots.urdf\"\n",
    "srdf_path = \"../test_assets/custom_robots.srdf\"\n",
    "\n",
    "urdf_str = c_string()\n",
    "srdf_str = c_string()\n",
    "with open(urdf_path, 'r') as f:\n",
    "    while True:\n",
    "        line = f.readline()\n",
    "        urdf_str.buffer += line\n",
    "        if not line: break\n",
    "            \n",
    "urdf_str.buffer\n",
    "with open(srdf_path, 'r') as f:\n",
    "    while True:\n",
    "        line = f.readline()\n",
    "        srdf_str.buffer += line\n",
    "        if not line: break"
   ]
  },
  {
   "cell_type": "code",
   "execution_count": 4,
   "metadata": {},
   "outputs": [
    {
     "data": {
      "text/plain": [
       "88.40298652648926"
      ]
     },
     "execution_count": 4,
     "metadata": {},
     "output_type": "execute_result"
    }
   ],
   "source": [
    "gtimer.reset(1e3,'ms')\n",
    "gtimer.tic(\"init_ros\")\n",
    "c_joint_names = clib.init_planner(urdf_str, srdf_str)\n",
    "joint_names = c_joint_names.buffer.split()\n",
    "joint_num = c_joint_names.len\n",
    "gtimer.toc(\"init_ros\")"
   ]
  },
  {
   "cell_type": "code",
   "execution_count": 5,
   "metadata": {},
   "outputs": [
    {
     "data": {
      "text/plain": [
       "0.26488304138183594"
      ]
     },
     "execution_count": 5,
     "metadata": {},
     "output_type": "execute_result"
    }
   ],
   "source": [
    "gtimer.tic(\"add_object\")\n",
    "omsg = c_object_msg()\n",
    "omsg.name = \"box\"\n",
    "omsg.link_name = \"base_link\"\n",
    "goal_pose = [-0.3,-0.2,0.0,0,0,0,1]\n",
    "for igp in range(7): omsg.pose[igp] = goal_pose[igp]\n",
    "dims = [0.1,0.1,0.1]\n",
    "for igp in range(3): omsg.dims[igp] = dims[igp]\n",
    "omsg.action = ObjectAction.ADD.value\n",
    "omsg.type = ObjectType.BOX.value\n",
    "clib.process_object(omsg)\n",
    "gtimer.toc(\"add_object\")"
   ]
  },
  {
   "cell_type": "code",
   "execution_count": 6,
   "metadata": {},
   "outputs": [],
   "source": [
    "GROUP_NAME = 'indy0'\n",
    "TOOL_LINK = \"indy0_tcp\"\n",
    "GOAL_LINK = \"base_link\"\n",
    "JOINT_HOME = [0, 0, -np.pi / 2, 0, -np.pi / 2, 0, 0, -np.pi / 8, 0, -np.pi / 2, 0, np.pi / 2, np.pi / 2]"
   ]
  },
  {
   "cell_type": "code",
   "execution_count": 7,
   "metadata": {},
   "outputs": [
    {
     "name": "stdout",
     "output_type": "stream",
     "text": [
      "init_ros: \t88.0 ms/1 = 88.403 ms (88.403/88.403)\n",
      "add_object: \t0.0 ms/1 = 0.265 ms (0.265/0.265)\n",
      "plan_compact: \t462.0 ms/10 = 46.174 ms (33.499/72.59)\n",
      "convert_trajectory: \t0.0 ms/10 = 0.042 ms (0.033/0.062)\n",
      "\n",
      "True\n"
     ]
    }
   ],
   "source": [
    "for _ in range(10):\n",
    "    gtimer.tic(\"plan_compact\")\n",
    "    goal = c_plan_request()\n",
    "    goal.group_name = GROUP_NAME\n",
    "    goal.tool_link = TOOL_LINK\n",
    "    goal_pose = [-0.3, -0.2, 0.4, 0, 0, 0, 1]\n",
    "    for igp in range(7): goal.goal_pose[igp] = goal_pose[igp]\n",
    "    for iis in range(joint_num): goal.init_state[iis] = JOINT_HOME[iis]\n",
    "    goal.goal_link = GOAL_LINK\n",
    "    goal.timeout = 0.1\n",
    "    c_traj = clib.plan_compact(goal)\n",
    "    gtimer.toc(\"plan_compact\")\n",
    "    gtimer.tic(\"convert_trajectory\")\n",
    "    traj, succ = convert_trajectory(c_traj, joint_num)\n",
    "    gtimer.toc(\"convert_trajectory\")\n",
    "print(gtimer)\n",
    "print(succ)"
   ]
  },
  {
   "cell_type": "code",
   "execution_count": 10,
   "metadata": {},
   "outputs": [
    {
     "data": {
      "text/plain": [
       "0.08487701416015625"
      ]
     },
     "execution_count": 10,
     "metadata": {},
     "output_type": "execute_result"
    }
   ],
   "source": [
    "gtimer.tic(\"clear_objects\")\n",
    "clib.clear_all_objects()\n",
    "gtimer.toc(\"clear_objects\")"
   ]
  },
  {
   "cell_type": "code",
   "execution_count": 13,
   "metadata": {},
   "outputs": [
    {
     "name": "stdout",
     "output_type": "stream",
     "text": [
      "init_ros: \t88.0 ms/1 = 88.403 ms (88.403/88.403)\n",
      "add_object: \t0.0 ms/1 = 0.265 ms (0.265/0.265)\n",
      "plan_compact: \t1146.0 ms/22 = 52.086 ms (27.923/139.322)\n",
      "convert_trajectory: \t1.0 ms/20 = 0.044 ms (0.033/0.062)\n",
      "clear_objects: \t0.0 ms/1 = 0.085 ms (0.085/0.085)\n",
      "\n",
      "True\n"
     ]
    }
   ],
   "source": [
    "for _ in range(10):\n",
    "    gtimer.tic(\"plan_compact\")\n",
    "    goal = c_plan_request()\n",
    "    goal.group_name = GROUP_NAME\n",
    "    goal.tool_link = TOOL_LINK\n",
    "    goal_pose = [-0.3, -0.2, 0.4, 0, 0, 0, 1]\n",
    "    for igp in range(7): goal.goal_pose[igp] = goal_pose[igp]\n",
    "    for iis in range(joint_num): goal.init_state[iis] = JOINT_HOME[iis]\n",
    "    goal.goal_link = GOAL_LINK\n",
    "    goal.timeout = 0.1\n",
    "    c_traj = clib.plan_compact(goal)\n",
    "    gtimer.toc(\"plan_compact\")\n",
    "    gtimer.tic(\"convert_trajectory\")\n",
    "    traj, succ = convert_trajectory(c_traj, joint_num)\n",
    "    gtimer.toc(\"convert_trajectory\")\n",
    "print(gtimer)\n",
    "print(succ)"
   ]
  },
  {
   "cell_type": "code",
   "execution_count": 14,
   "metadata": {},
   "outputs": [
    {
     "data": {
      "text/plain": [
       "0.3020763397216797"
      ]
     },
     "execution_count": 14,
     "metadata": {},
     "output_type": "execute_result"
    }
   ],
   "source": [
    "gtimer.tic(\"add_object2\")\n",
    "omsg = c_object_msg()\n",
    "omsg.name = \"box\"\n",
    "omsg.link_name = \"base_link\"\n",
    "goal_pose = [-0.3,-0.2,0.4,0,0,0,1]\n",
    "for igp in range(7): omsg.pose[igp] = goal_pose[igp]\n",
    "dims = [0.1,0.1,0.1]\n",
    "for igp in range(3): omsg.dims[igp] = dims[igp]\n",
    "omsg.action = ObjectAction.ADD.value\n",
    "omsg.type = ObjectType.BOX.value\n",
    "clib.process_object(omsg)\n",
    "gtimer.toc(\"add_object2\")"
   ]
  },
  {
   "cell_type": "code",
   "execution_count": 15,
   "metadata": {},
   "outputs": [
    {
     "name": "stdout",
     "output_type": "stream",
     "text": [
      "init_ros: \t88.0 ms/1 = 88.403 ms (88.403/88.403)\n",
      "add_object: \t0.0 ms/1 = 0.265 ms (0.265/0.265)\n",
      "plan_compact: \t2283.0 ms/32 = 71.35 ms (27.923/139.322)\n",
      "convert_trajectory: \t114.0 ms/30 = 3.796 ms (0.033/18.844)\n",
      "clear_objects: \t0.0 ms/1 = 0.085 ms (0.085/0.085)\n",
      "add_object2: \t0.0 ms/1 = 0.302 ms (0.302/0.302)\n",
      "\n",
      "False\n"
     ]
    }
   ],
   "source": [
    "for _ in range(10):\n",
    "    gtimer.tic(\"plan_compact\")\n",
    "    goal = c_plan_request()\n",
    "    goal.group_name = GROUP_NAME\n",
    "    goal.tool_link = TOOL_LINK\n",
    "    goal_pose = [-0.3, -0.2, 0.4, 0, 0, 0, 1]\n",
    "    for igp in range(7): goal.goal_pose[igp] = goal_pose[igp]\n",
    "    for iis in range(joint_num): goal.init_state[iis] = JOINT_HOME[iis]\n",
    "    goal.goal_link = GOAL_LINK\n",
    "    goal.timeout = 0.1\n",
    "    c_traj = clib.plan_compact(goal)\n",
    "    gtimer.toc(\"plan_compact\")\n",
    "    gtimer.tic(\"convert_trajectory\")\n",
    "    traj, succ = convert_trajectory(c_traj, joint_num)\n",
    "    gtimer.toc(\"convert_trajectory\")\n",
    "print(gtimer)\n",
    "print(succ)"
   ]
  },
  {
   "cell_type": "code",
   "execution_count": null,
   "metadata": {},
   "outputs": [],
   "source": []
  }
 ],
 "metadata": {
  "kernelspec": {
   "display_name": "Python 2",
   "language": "python",
   "name": "python2"
  },
  "language_info": {
   "codemirror_mode": {
    "name": "ipython",
    "version": 2
   },
   "file_extension": ".py",
   "mimetype": "text/x-python",
   "name": "python",
   "nbconvert_exporter": "python",
   "pygments_lexer": "ipython2",
   "version": "2.7.17"
  }
 },
 "nbformat": 4,
 "nbformat_minor": 2
}
