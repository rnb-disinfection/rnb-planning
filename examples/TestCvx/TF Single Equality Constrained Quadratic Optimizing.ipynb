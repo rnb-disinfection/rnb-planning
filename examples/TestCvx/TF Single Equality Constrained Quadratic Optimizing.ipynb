{
 "cells": [
  {
   "cell_type": "markdown",
   "metadata": {},
   "source": [
    "# TF Single Equality Constrained Quadratic Optimizing\n",
    "\n",
    "This notebook demonstrates a single equality constrained quadratic programming problem solver using TensorFlow.\n",
    "\n",
    "The approach adds a penalty in addition to the augmented Lagrangian equation.\n",
    "The Lagrangian $\\lambda$ value is successively approximated and as\n",
    "the solution is approached, the penalty increases.\n",
    "\n",
    "## Review\n",
    "\n",
    "The quadratic programming problem is to minimize:\n",
    "$$\n",
    "\\frac{1}{2} x^t A x + b^{t}x,\\space x \\in \\mathbb{R}^2\n",
    "$$\n",
    "\n",
    "subject to:\n",
    "\n",
    "$$\n",
    "C x + d = 0,\\space x \\in \\mathbb{R}^2\n",
    "$$\n",
    "\n",
    "Consider just one constraint, for example:\n",
    "\n",
    "$$\n",
    "\\begin{align}\n",
    "Minimize\\ && f(x) = \\ 2x_1^2 + x_2^2\\label{P1}\\tag{P1}\\\\\n",
    "subject\\ to\\ && x_1 + x_2 = 1\n",
    "\\end{align}\n",
    "$$\n",
    "\n",
    "The Lagrangian is:\n",
    "$$\n",
    "L(x_1, x_2, \\lambda_1, \\lambda_2) = 2x_1^2 + x_2^2 - \\lambda_1(x_1 + x_2 -1)\n",
    "$$\n",
    "\n",
    "Let $x^*$, $\\lambda^*$ be the solution. Then:\n",
    "\n",
    "$$\n",
    "\\begin{align}\n",
    "\\frac{\\partial L}{\\partial x_1}(x_1^*, x_2^*, \\lambda_1^*) =&&\n",
    "4x_1^* && &&- \\lambda_1^* && &&= 0\\label{d1}\\tag{1}\\\\\n",
    "\\frac{\\partial L}{\\partial x_2}(x_1^*, x_2^*, \\lambda_1^*) =&&\n",
    "&& 2x_2^* &&- \\lambda_1^* && &&= 0\\label{d2}\\tag{2}\\\\\n",
    "\\frac{\\partial L}{\\partial \\lambda_1}(x_1^*, x_2^*, \\lambda_1^*) =&&\n",
    "x_1^* &&+ x_2^* && &&- 1 &&= 0\\label{d3}\\tag{3}\n",
    "\\end{align}\n",
    "$$\n",
    "\n",
    "Now $2x_1^* = x_2^*$ and $x_1 + 2x_1 = 1$ and $x^* = (\\frac{1}{3}, \\frac{2}{3})$.\n",
    "\n",
    "Substituting into \\eqref{d1} gives: $\\frac{4}{3} - \\lambda_1^* = 0$ and $\\lambda^* = (\\frac{4}{3})$.\n",
    "\n",
    "$L(x_1, x_2, \\lambda_1) = \\frac{2}{9} + \\frac{4}{9} = \\frac{2}{3}$\n",
    "\n",
    "The Hessian is:\n",
    "\n",
    "$$\n",
    "H(x_1, x_2) =\n",
    "\\left[{\\begin{array}{cc}\n",
    "   \\frac{\\partial f}{\\partial x_1\\partial x_1} & \\frac{\\partial f}{\\partial x_1\\partial x_2} \\\\\n",
    "   \\frac{\\partial f}{\\partial x_2\\partial x_1} & \\frac{\\partial f}{\\partial x_2\\partial x_2} \\\\\n",
    "\\end{array}} \\right] =\n",
    "\\left[{\\begin{array}{cc}\n",
    "   4 & 0 \\\\\n",
    "   0 & 2 \\\\\n",
    "\\end{array}} \\right]\n",
    "$$\n",
    "\n",
    "which is positive definite.\n",
    "\n",
    "## Adjust the minimization problem\n",
    "\n",
    "Apply a penalty to the Lagrangian:\n",
    "$$\n",
    "P_{\\mu,\\lambda}(x_1, x_2) = \\frac{1}{2} x^t A x + b^{t}x\n",
    "- \\sum_{i}\\lambda_ic_i(x)\n",
    "+ \\frac{1}{2\\mu}\\sum_{i}c_i(x)^2\n",
    ",\\space x \\in \\mathbb{R}^2\n",
    "$$\n",
    "\n",
    "So for a given $\\mu, \\lambda$, $P$ approximates the original problem. As $\\mu$ approaches $0$, $P$ approaches the exact solution.\n",
    "\n",
    "Note that:\n",
    "$$\n",
    "\\frac{\\partial}{\\partial x_i}\\frac{1}{2\\mu}\\sum_{i}c_i(x)^2 = \\frac{c_i(x)}{\\mu} \\approx 0\\ at\\ x^*\n",
    "$$\n",
    "\n",
    "$\\lambda$ can be refine with:\n",
    "$$\n",
    "\\lambda_i^{k+1} = \\lambda_i^{k} - c_i(x_k)/u_k\n",
    "$$\n",
    "\n",
    "So, for the constraint problem \\eqref{P1}:\n",
    "\n",
    "$$\n",
    "P_{\\mu,\\lambda}(x_1, x_2) = 2x_1^2 + x_2^2\n",
    "- \\lambda_1(x_1+x_2-1)\n",
    "+ \\frac{1}{2\\mu}[(x_1+x_2-1)^2]\n",
    "$$\n",
    "\n"
   ]
  },
  {
   "cell_type": "markdown",
   "metadata": {},
   "source": [
    "## Preliminaries"
   ]
  },
  {
   "cell_type": "code",
   "execution_count": 1,
   "metadata": {},
   "outputs": [
    {
     "name": "stdout",
     "output_type": "stream",
     "text": [
      "tf version: 2.2.0\n"
     ]
    }
   ],
   "source": [
    "import numpy as np\n",
    "from numpy import set_printoptions, array, meshgrid, linspace\n",
    "# import tensorflow as tf\n",
    "import tensorflow.compat.v1 as tf\n",
    "\n",
    "import matplotlib.pyplot as plt\n",
    "\n",
    "print('tf version: {}'.format(tf.VERSION))\n",
    "set_printoptions(3)"
   ]
  },
  {
   "cell_type": "code",
   "execution_count": 2,
   "metadata": {},
   "outputs": [],
   "source": [
    "tf.disable_eager_execution()"
   ]
  },
  {
   "cell_type": "markdown",
   "metadata": {},
   "source": [
    "Save the symbolic solution $(x^*,\\lambda^*)$ and the 0 point."
   ]
  },
  {
   "cell_type": "code",
   "execution_count": 3,
   "metadata": {},
   "outputs": [],
   "source": [
    "xstar = np.array([ [1/3], [2/3] ])\n",
    "lstar = np.array([ [4/3] ])\n",
    "\n",
    "xzero = array([ [0], [0] ])\n",
    "lzero = array([ [0] ])"
   ]
  },
  {
   "cell_type": "markdown",
   "metadata": {},
   "source": [
    "## TensorFlow problem description\n",
    "\n",
    "Setup the elements of the problem. Note that `x` is the only trainable variable and its initial variable is arbitrary."
   ]
  },
  {
   "cell_type": "code",
   "execution_count": 4,
   "metadata": {},
   "outputs": [
    {
     "name": "stdout",
     "output_type": "stream",
     "text": [
      "WARNING:tensorflow:From /home/junsu/.local/lib/python3.6/site-packages/tensorflow/python/ops/resource_variable_ops.py:1666: calling BaseResourceVariable.__init__ (from tensorflow.python.ops.resource_variable_ops) with constraint is deprecated and will be removed in a future version.\n",
      "Instructions for updating:\n",
      "If using Keras pass *_constraint arguments to layers.\n"
     ]
    }
   ],
   "source": [
    "def floatvar(name, init, trainable=False):\n",
    "    return tf.Variable(init, dtype=tf.float32, trainable=trainable, name=name)\n",
    "\n",
    "A = floatvar(\"A\", [[4, 0],\n",
    "                   [0, 2] ])\n",
    "\n",
    "b = floatvar(\"b\", [[0],\n",
    "                   [0] ])\n",
    "\n",
    "C = floatvar(\"C\", [ [1, 1] ])\n",
    "\n",
    "d = floatvar(\"d\", [ [-1] ])\n",
    "\n",
    "l = floatvar(\"l\", [ [1] ])\n",
    "\n",
    "u = floatvar(\"u\", [ [1] ])\n",
    "\n",
    "x = floatvar(\"x\", [ [.8],\n",
    "                    [.8] ], trainable=True)"
   ]
  },
  {
   "cell_type": "markdown",
   "metadata": {},
   "source": [
    "Verify that `x` is trainable."
   ]
  },
  {
   "cell_type": "code",
   "execution_count": 5,
   "metadata": {},
   "outputs": [
    {
     "data": {
      "text/plain": [
       "[<tf.Variable 'x:0' shape=(2, 1) dtype=float32>]"
      ]
     },
     "execution_count": 5,
     "metadata": {},
     "output_type": "execute_result"
    }
   ],
   "source": [
    "tf.trainable_variables()"
   ]
  },
  {
   "cell_type": "markdown",
   "metadata": {},
   "source": [
    "Create the objective function, including the penalty, and its gradient"
   ]
  },
  {
   "cell_type": "code",
   "execution_count": 6,
   "metadata": {},
   "outputs": [],
   "source": [
    "xAx2 = 0.5 * tf.matmul( tf.matmul(tf.transpose(x), A), x)\n",
    "bx = tf.matmul(tf.transpose(b), x)\n",
    "Cxd = tf.matmul(C, x) + d\n",
    "lCxd = tf.reshape(tf.reduce_sum(l * Cxd, 0), xAx2.shape)\n",
    "Cxd2 = tf.matmul(tf.transpose(Cxd), Cxd)\n",
    "uCxd2 = 0.5 * Cxd2 / u\n",
    "objective = xAx2 + bx + uCxd2 - lCxd\n",
    "gradients = tf.gradients(objective, x)[0]\n",
    "gradients2 = tf.matmul(tf.transpose(gradients), gradients)"
   ]
  },
  {
   "cell_type": "markdown",
   "metadata": {},
   "source": [
    "Create the update assignments for $\\lambda, \\mu$."
   ]
  },
  {
   "cell_type": "code",
   "execution_count": 7,
   "metadata": {},
   "outputs": [],
   "source": [
    "update_l = l.assign(l - tf.reciprocal(u) * Cxd)\n",
    "update_u = u.assign(0.7 * u)"
   ]
  },
  {
   "cell_type": "markdown",
   "metadata": {},
   "source": [
    "`evaluate` reports objective function information at a given point."
   ]
  },
  {
   "cell_type": "code",
   "execution_count": 8,
   "metadata": {},
   "outputs": [],
   "source": [
    "def evaluate(x_, l_):\n",
    "    with tf.Session() as sess:\n",
    "        sess.run(tf.global_variables_initializer())\n",
    "        for name, tensor in [\n",
    "            ('xAx2', xAx2),\n",
    "            ('bx', bx),\n",
    "            ('Cxd', Cxd),\n",
    "            ('lCxd', lCxd),\n",
    "            ('Cxd2', Cxd2),\n",
    "            ('uCxd2', uCxd2),\n",
    "            ('objective', objective),\n",
    "            ('gradients', gradients),\n",
    "            ('gradients2', gradients2)\n",
    "        ]:\n",
    "            tensor_ = sess.run(tensor, feed_dict={x: x_, l: l_})\n",
    "            print('At x:', x_[:,0], 'l:', l_[:,0], name, tensor_[:,0])"
   ]
  },
  {
   "cell_type": "markdown",
   "metadata": {},
   "source": [
    "Check objective function values at points of interest.\n",
    "Note that the constraint error norm and the gradient norm are 0 at $(x^*, \\lambda^*)$."
   ]
  },
  {
   "cell_type": "code",
   "execution_count": 9,
   "metadata": {},
   "outputs": [
    {
     "name": "stdout",
     "output_type": "stream",
     "text": [
      "At x: [0 0] l: [0] xAx2 [1.92]\n",
      "At x: [0 0] l: [0] bx [0.]\n",
      "At x: [0 0] l: [0] Cxd [0.6]\n",
      "At x: [0 0] l: [0] lCxd [0.6]\n",
      "At x: [0 0] l: [0] Cxd2 [0.36]\n",
      "At x: [0 0] l: [0] uCxd2 [0.18]\n",
      "At x: [0 0] l: [0] objective [1.5]\n",
      "At x: [0 0] l: [0] gradients [2.8 1.2]\n",
      "At x: [0 0] l: [0] gradients2 [9.28]\n",
      "At x: [0.333 0.667] l: [1.333] xAx2 [1.92]\n",
      "At x: [0.333 0.667] l: [1.333] bx [0.]\n",
      "At x: [0.333 0.667] l: [1.333] Cxd [0.6]\n",
      "At x: [0.333 0.667] l: [1.333] lCxd [0.6]\n",
      "At x: [0.333 0.667] l: [1.333] Cxd2 [0.36]\n",
      "At x: [0.333 0.667] l: [1.333] uCxd2 [0.18]\n",
      "At x: [0.333 0.667] l: [1.333] objective [1.5]\n",
      "At x: [0.333 0.667] l: [1.333] gradients [2.8 1.2]\n",
      "At x: [0.333 0.667] l: [1.333] gradients2 [9.28]\n"
     ]
    }
   ],
   "source": [
    "evaluate(x_=xzero, l_=lzero)\n",
    "evaluate(x_=xstar, l_=lstar)"
   ]
  },
  {
   "cell_type": "markdown",
   "metadata": {},
   "source": [
    "Utility functions to report on the update."
   ]
  },
  {
   "cell_type": "code",
   "execution_count": 10,
   "metadata": {},
   "outputs": [],
   "source": [
    "def fa(a, fmt='{:+10f}'):\n",
    "    return ' '.join([fmt.format(r) for r in a])\n",
    "\n",
    "def rep(sess, prefix, fd=None):\n",
    "    if fd == None:\n",
    "        x_, l_, u_, grad2_, c_, obj_ = sess.run([x, l, u, gradients2, Cxd2, objective])\n",
    "    else:\n",
    "        x_, l_, u_, grad2_, c_, obj_ = sess.run([x, l, u, gradients2, Cxd2, objective], feed_dict=fd)\n",
    "\n",
    "    print(prefix,\n",
    "          'x:', fa(x_[:, 0]),\n",
    "          'l:', fa(l_[:, 0]),\n",
    "          'g2:', fa(grad2_[:, 0]),\n",
    "          'c:', fa(c_[:, 0]),\n",
    "          'u:', fa(u_[:, 0]),\n",
    "          'obj:', fa([obj_[0, 0]]))"
   ]
  },
  {
   "cell_type": "markdown",
   "metadata": {},
   "source": [
    "`update` runs a single step. If the constraints penalty is larger than the gradients error, then adjust $\\mu$, putting more emphasis on the constraints. Otherwise, update $\\lambda$ towards $\\lambda^*$. returns True if $\\mu$ was updated."
   ]
  },
  {
   "cell_type": "code",
   "execution_count": 11,
   "metadata": {},
   "outputs": [],
   "source": [
    "def update(sess, step):\n",
    "    sess.run(step)\n",
    "    c_, grad2_ = sess.run([Cxd2, gradients2])\n",
    "    x_, l_, obj_ = sess.run([x, l, objective])\n",
    "    if c_[0,0] > grad2_[0,0]:\n",
    "        # getting closer, tighten up\n",
    "        sess.run(update_u)\n",
    "        return True\n",
    "    sess.run(update_l)\n",
    "    return False"
   ]
  },
  {
   "cell_type": "markdown",
   "metadata": {},
   "source": [
    "`train` runs the optimizer, reporting on its progress.\n",
    "The first line has the $(x^*, \\lambda^*)$ result.\n",
    "The second line has the initial position."
   ]
  },
  {
   "cell_type": "code",
   "execution_count": 12,
   "metadata": {},
   "outputs": [],
   "source": [
    "def train(sess, rate, epochs, logmod):\n",
    "    sess.run(tf.global_variables_initializer())\n",
    "    rep(sess, '*     ', fd={x: xstar, l: lstar})\n",
    "    rep(sess, 'i: {:03d}'.format(0))\n",
    "\n",
    "    step = tf.train.GradientDescentOptimizer(rate).minimize(objective)\n",
    "    for i in range(1, epochs+1):\n",
    "        flg = update(sess, step)\n",
    "        if i % logmod == 0 or i == epochs:\n",
    "            x_, l_, obj_ = sess.run([x, l, objective])\n",
    "            rep(sess, 'i: {:03d}'.format(i))\n",
    "        if flg:\n",
    "            rep(sess, 'I: {:03d}'.format(i))"
   ]
  },
  {
   "cell_type": "markdown",
   "metadata": {},
   "source": [
    "Run an optimization"
   ]
  },
  {
   "cell_type": "code",
   "execution_count": 13,
   "metadata": {},
   "outputs": [
    {
     "name": "stdout",
     "output_type": "stream",
     "text": [
      "*      x:  +0.333333  +0.666667 l:  +1.333333 g2:  +9.280001 c:  +0.360000 u:  +1.000000 obj:  +1.500000\n",
      "i: 000 x:  +0.800000  +0.800000 l:  +1.000000 g2:  +9.280001 c:  +0.360000 u:  +1.000000 obj:  +1.500000\n",
      "i: 010 x:  +0.428268  +0.544391 l:  -1.800169 g2: +20.340290 c:  +0.000748 u:  +1.000000 obj:  +0.614342\n",
      "i: 020 x:  +0.243661  +0.395214 l:  +0.547619 g2:  +0.082472 c:  +0.130411 u:  +0.700000 obj:  +0.565845\n",
      "I: 020 x:  +0.243661  +0.395214 l:  +0.547619 g2:  +0.082472 c:  +0.130411 u:  +0.700000 obj:  +0.565845\n",
      "I: 021 x:  +0.244550  +0.397945 l:  +0.547619 g2:  +0.321095 c:  +0.127810 u:  +0.490000 obj:  +0.604164\n",
      "i: 030 x:  +0.421365  +0.600383 l:  +3.958676 g2: +12.330927 c:  +0.000473 u:  +0.490000 obj:  +0.629946\n",
      "i: 040 x:  +0.461913  +0.695013 l:  +0.608443 g2:  +3.645983 c:  +0.024626 u:  +0.490000 obj:  +0.839418\n",
      "i: 050 x:  +0.317366  +0.578383 l:  +0.622057 g2:  +0.292570 c:  +0.010868 u:  +0.490000 obj:  +0.611909\n",
      "i: 060 x:  +0.358346  +0.630998 l:  +2.192421 g2:  +1.516261 c:  +0.000114 u:  +0.490000 obj:  +0.678461\n",
      "i: 070 x:  +0.382491  +0.674873 l:  +1.210013 g2:  +0.256932 c:  +0.003291 u:  +0.490000 obj:  +0.681999\n",
      "i: 080 x:  +0.333226  +0.637645 l:  +1.039101 g2:  +0.086160 c:  +0.000849 u:  +0.490000 obj:  +0.659804\n",
      "i: 090 x:  +0.340613  +0.650072 l:  +1.602964 g2:  +0.170930 c:  +0.000087 u:  +0.490000 obj:  +0.669649\n",
      "i: 100 x:  +0.351644  +0.668345 l:  +1.333682 g2:  +0.014844 c:  +0.000400 u:  +0.490000 obj:  +0.667741\n",
      "i: 110 x:  +0.335421  +0.657149 l:  +1.220921 g2:  +0.017269 c:  +0.000055 u:  +0.490000 obj:  +0.665987\n",
      "i: 120 x:  +0.335598  +0.659525 l:  +1.414150 g2:  +0.017712 c:  +0.000024 u:  +0.490000 obj:  +0.667146\n",
      "i: 130 x:  +0.340030  +0.666641 l:  +1.347384 g2:  +0.000695 c:  +0.000044 u:  +0.490000 obj:  +0.666708\n",
      "i: 140 x:  +0.334861  +0.663524 l:  +1.292874 g2:  +0.002826 c:  +0.000003 u:  +0.490000 obj:  +0.666619\n",
      "i: 150 x:  +0.334120  +0.663740 l:  +1.356248 g2:  +0.001681 c:  +0.000005 u:  +0.490000 obj:  +0.666730\n",
      "i: 160 x:  +0.335753  +0.666380 l:  +1.342518 g2:  +0.000053 c:  +0.000005 u:  +0.490000 obj:  +0.666663\n",
      "i: 170 x:  +0.334160  +0.665611 l:  +1.319496 g2:  +0.000405 c:  +0.000000 u:  +0.490000 obj:  +0.666666\n",
      "i: 180 x:  +0.333641  +0.665506 l:  +1.339363 g2:  +0.000145 c:  +0.000001 u:  +0.490000 obj:  +0.666674\n",
      "i: 190 x:  +0.334202  +0.666449 l:  +1.337789 g2:  +0.000013 c:  +0.000000 u:  +0.490000 obj:  +0.666666\n",
      "i: 200 x:  +0.333727  +0.666302 l:  +1.328826 g2:  +0.000052 c:  +0.000000 u:  +0.490000 obj:  +0.666667\n",
      "i: 210 x:  +0.333466  +0.666216 l:  +1.334743 g2:  +0.000011 c:  +0.000000 u:  +0.490000 obj:  +0.666668\n",
      "i: 220 x:  +0.333645  +0.666543 l:  +1.335231 g2:  +0.000003 c:  +0.000000 u:  +0.490000 obj:  +0.666667\n",
      "i: 230 x:  +0.333508  +0.666536 l:  +1.331941 g2:  +0.000006 c:  +0.000000 u:  +0.490000 obj:  +0.666667\n",
      "i: 240 x:  +0.333393  +0.666495 l:  +1.333593 g2:  +0.000001 c:  +0.000000 u:  +0.490000 obj:  +0.666667\n",
      "i: 250 x:  +0.333445  +0.666605 l:  +1.334081 g2:  +0.000001 c:  +0.000000 u:  +0.490000 obj:  +0.666667\n",
      "i: 260 x:  +0.333408  +0.666618 l:  +1.332930 g2:  +0.000001 c:  +0.000000 u:  +0.490000 obj:  +0.666667\n",
      "i: 270 x:  +0.333360  +0.666602 l:  +1.333350 g2:  +0.000000 c:  +0.000000 u:  +0.490000 obj:  +0.666667\n",
      "i: 280 x:  +0.333374  +0.666638 l:  +1.333613 g2:  +0.000000 c:  +0.000000 u:  +0.490000 obj:  +0.666667\n",
      "i: 290 x:  +0.333364  +0.666648 l:  +1.333227 g2:  +0.000000 c:  +0.000000 u:  +0.490000 obj:  +0.666667\n",
      "i: 300 x:  +0.333346  +0.666642 l:  +1.333316 g2:  +0.000000 c:  +0.000000 u:  +0.490000 obj:  +0.666667\n",
      "i: 310 x:  +0.333348  +0.666654 l:  +1.333433 g2:  +0.000000 c:  +0.000000 u:  +0.490000 obj:  +0.666667\n",
      "i: 320 x:  +0.333346  +0.666659 l:  +1.333309 g2:  +0.000000 c:  +0.000000 u:  +0.490000 obj:  +0.666667\n",
      "i: 330 x:  +0.333339  +0.666657 l:  +1.333321 g2:  +0.000000 c:  +0.000000 u:  +0.490000 obj:  +0.666667\n",
      "i: 340 x:  +0.333339  +0.666661 l:  +1.333368 g2:  +0.000000 c:  +0.000000 u:  +0.490000 obj:  +0.666667\n",
      "i: 350 x:  +0.333338  +0.666664 l:  +1.333329 g2:  +0.000000 c:  +0.000000 u:  +0.490000 obj:  +0.666667\n",
      "i: 360 x:  +0.333336  +0.666663 l:  +1.333328 g2:  +0.000000 c:  +0.000000 u:  +0.490000 obj:  +0.666667\n",
      "i: 370 x:  +0.333336  +0.666664 l:  +1.333345 g2:  +0.000000 c:  +0.000000 u:  +0.490000 obj:  +0.666667\n",
      "i: 380 x:  +0.333335  +0.666665 l:  +1.333334 g2:  +0.000000 c:  +0.000000 u:  +0.490000 obj:  +0.666667\n",
      "i: 390 x:  +0.333334  +0.666665 l:  +1.333330 g2:  +0.000000 c:  +0.000000 u:  +0.490000 obj:  +0.666667\n",
      "i: 400 x:  +0.333334  +0.666666 l:  +1.333337 g2:  +0.000000 c:  +0.000000 u:  +0.490000 obj:  +0.666667\n"
     ]
    }
   ],
   "source": [
    "with tf.Session() as sess:\n",
    "    train(sess, rate=0.01, epochs=400, logmod=10)"
   ]
  },
  {
   "cell_type": "markdown",
   "metadata": {},
   "source": [
    "## Plot the iterative process\n",
    "\n",
    "Make a plot of the path that various optimizers use to get to the minimum.\n",
    "\n",
    "First, make a grid of points and evaluate the objective function at these points."
   ]
  },
  {
   "cell_type": "code",
   "execution_count": 14,
   "metadata": {},
   "outputs": [],
   "source": [
    "samples = 21\n",
    "grid = meshgrid(linspace(-1, 2, samples), linspace(-1, 2, samples))"
   ]
  },
  {
   "cell_type": "markdown",
   "metadata": {},
   "source": [
    "`zvalues` runs over the grid of points and evaluates the objective at each point.\n",
    "The $\\lambda$ values are passed in."
   ]
  },
  {
   "cell_type": "code",
   "execution_count": 15,
   "metadata": {},
   "outputs": [],
   "source": [
    "def zvalues(lambdas):\n",
    "    z = []\n",
    "    with tf.Session() as sess:\n",
    "        sess.run(tf.global_variables_initializer())\n",
    "        for row in range(samples):\n",
    "            gxrow, gyrow = grid[0][row], grid[1][row]\n",
    "            r = []\n",
    "            for col in range(samples):\n",
    "                gx = gxrow[col]\n",
    "                gy = gyrow[col]\n",
    "                obj_ = sess.run(objective, feed_dict={x: [[gx], [gy]], l: lambdas})\n",
    "                r.append(obj_[0, 0])\n",
    "            z.append(r)\n",
    "    return np.array(z)"
   ]
  },
  {
   "cell_type": "markdown",
   "metadata": {},
   "source": [
    "Evaluate the grid at $\\lambda$ of 0 and *."
   ]
  },
  {
   "cell_type": "code",
   "execution_count": 16,
   "metadata": {},
   "outputs": [],
   "source": [
    "zzero = zvalues(lzero)\n",
    "zstar = zvalues(lstar)"
   ]
  },
  {
   "cell_type": "markdown",
   "metadata": {},
   "source": [
    "Make a list of optimizers with reasonable parameters."
   ]
  },
  {
   "cell_type": "code",
   "execution_count": 17,
   "metadata": {},
   "outputs": [],
   "source": [
    "optimizers = [\n",
    "    tf.train.RMSPropOptimizer(0.1),\n",
    "    tf.train.GradientDescentOptimizer(0.1),\n",
    "    tf.train.AdamOptimizer(0.1),\n",
    "    tf.train.MomentumOptimizer(0.1, 0.2),\n",
    "    tf.train.AdadeltaOptimizer(0.1),\n",
    "    tf.train.AdagradOptimizer(0.1)\n",
    "]"
   ]
  },
  {
   "cell_type": "markdown",
   "metadata": {},
   "source": [
    "Make a contour plot. For each optimizer build an objective function solver. Store the initial `x` position, run the update and repeat. Include `xstar` marking the exact solution."
   ]
  },
  {
   "cell_type": "code",
   "execution_count": 18,
   "metadata": {},
   "outputs": [
    {
     "name": "stdout",
     "output_type": "stream",
     "text": [
      "WARNING:tensorflow:From /home/junsu/.local/lib/python3.6/site-packages/tensorflow/python/training/rmsprop.py:123: calling Ones.__init__ (from tensorflow.python.ops.init_ops) with dtype is deprecated and will be removed in a future version.\n",
      "Instructions for updating:\n",
      "Call initializer instance with the dtype argument instead of passing it to the constructor\n"
     ]
    },
    {
     "name": "stderr",
     "output_type": "stream",
     "text": [
      "/home/junsu/.local/lib/python3.6/site-packages/ipykernel_launcher.py:2: UserWarning: No contour levels were found within the data range.\n",
      "  \n",
      "/home/junsu/.local/lib/python3.6/site-packages/ipykernel_launcher.py:3: UserWarning: No contour levels were found within the data range.\n",
      "  This is separate from the ipykernel package so we can avoid doing imports until\n"
     ]
    },
    {
     "name": "stdout",
     "output_type": "stream",
     "text": [
      "WARNING:tensorflow:From /home/junsu/.local/lib/python3.6/site-packages/tensorflow/python/training/adagrad.py:77: calling Constant.__init__ (from tensorflow.python.ops.init_ops) with dtype is deprecated and will be removed in a future version.\n",
      "Instructions for updating:\n",
      "Call initializer instance with the dtype argument instead of passing it to the constructor\n"
     ]
    },
    {
     "data": {
      "image/png": "[encoded data removed]",
      "text/plain": [
       "<Figure size 576x576 with 1 Axes>"
      ]
     },
     "metadata": {
      "needs_background": "light"
     },
     "output_type": "display_data"
    }
   ],
   "source": [
    "plt.figure(figsize=(8, 8))\n",
    "plt.contour(grid[0], grid[1], zzero, samples // 2, alpha=0.25, linestyles='dashed', colors='k')\n",
    "plt.contour(grid[0], grid[1], zstar, samples // 2, alpha=0.25, linestyles='dashed', colors='b')\n",
    "leg = []\n",
    "for optimizer in optimizers:\n",
    "    \n",
    "    step = optimizer.minimize(objective)\n",
    "    with tf.Session() as sess:\n",
    "        sess.run(tf.global_variables_initializer())\n",
    "        x_ = sess.run(x)\n",
    "        pts = [ x_[:, 0] ]\n",
    "        for i in range(1,15):\n",
    "            update(sess, step)\n",
    "            x_ = sess.run(x)\n",
    "            pts.append(x_[:, 0])\n",
    "        pts = np.array(pts)\n",
    "        plt.plot(pts[:,0], pts[:,1])\n",
    "        l_, u_ = sess.run([l, u])\n",
    "        leg.append('{} {} {}'.format(optimizer.get_name(), fa(l_[:,0], fmt='{:+4.2f}'), fa(u_[:,0], fmt='{:+4.2f}')))\n",
    "plt.plot(xstar[0], xstar[1], 'o', c='k')\n",
    "leg.append('x*')\n",
    "plt.plot([0, 1], [1, 0], ls=':', c='k')\n",
    "leg.append('Constraint 1')\n",
    "plt.legend(leg, loc='upper left', bbox_to_anchor=(1, 1))\n",
    "plt.title('\\n'.join(['Optimizer Paths overlayed on contour plot with:',\n",
    "                     '$\\lambda$: 0 in black, * in blue'\n",
    "                    ]))\n",
    "plt.show()"
   ]
  },
  {
   "cell_type": "markdown",
   "metadata": {},
   "source": [
    "## References\n",
    "\n",
    "* [\"Introduction TensorFlow - Optimization of Objective Functions\", Wieschollek, 2017](http://patwie.com/tutorials/tensorflow-optimization.html)\n",
    "* [ScipyOptimizerInterface](https://www.tensorflow.org/api_docs/python/tf/contrib/opt/ScipyOptimizerInterface)\n",
    "* [Constraint optimization? #2025](https://github.com/tensorflow/tensorflow/issues/2025)\n",
    "* [Constrained linear regression using Tensorflow](https://nipunbatra.github.io/blog/2017/nn-linear-regression-tensorflow.html)\n",
    "* [SciPy portfolio optimization with grouped by industry bounds](https://stackoverflow.com/questions/44515880/scipy-portfolio-optimization-with-grouped-by-industry-bounds)\n",
    "* [Numerical Optimization, Nocedal & Wright, 2006](http://www.bioinfo.org.cn/~wangchao/maa/Numerical_Optimization.pdf)"
   ]
  }
 ],
 "metadata": {
  "kernelspec": {
   "display_name": "Python 3",
   "language": "python",
   "name": "python3"
  },
  "language_info": {
   "codemirror_mode": {
    "name": "ipython",
    "version": 3
   },
   "file_extension": ".py",
   "mimetype": "text/x-python",
   "name": "python",
   "nbconvert_exporter": "python",
   "pygments_lexer": "ipython3",
   "version": "3.6.9"
  }
 },
 "nbformat": 4,
 "nbformat_minor": 2
}
